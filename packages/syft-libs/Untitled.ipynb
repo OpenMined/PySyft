{
 "cells": [
  {
   "cell_type": "code",
   "execution_count": 1,
   "id": "11378494-25a6-4407-a39b-c08df5aa40e4",
   "metadata": {
    "execution": {
     "iopub.execute_input": "2021-07-28T11:19:03.531463Z",
     "iopub.status.busy": "2021-07-28T11:19:03.531232Z",
     "iopub.status.idle": "2021-07-28T11:19:05.219919Z",
     "shell.execute_reply": "2021-07-28T11:19:05.219419Z",
     "shell.execute_reply.started": "2021-07-28T11:19:03.531400Z"
    },
    "tags": []
   },
   "outputs": [],
   "source": [
    "import syft as sy"
   ]
  },
  {
   "cell_type": "code",
   "execution_count": 2,
   "id": "91723b7c-ab02-45d2-9460-b0a30e77220b",
   "metadata": {
    "execution": {
     "iopub.execute_input": "2021-07-28T11:19:05.220729Z",
     "iopub.status.busy": "2021-07-28T11:19:05.220586Z",
     "iopub.status.idle": "2021-07-28T11:19:05.684815Z",
     "shell.execute_reply": "2021-07-28T11:19:05.684221Z",
     "shell.execute_reply.started": "2021-07-28T11:19:05.220711Z"
    },
    "tags": []
   },
   "outputs": [],
   "source": [
    "import zksk as zk\n",
    "import syft_zksk\n",
    "import petlib\n",
    "import syft_petlib"
   ]
  },
  {
   "cell_type": "code",
   "execution_count": 3,
   "id": "1560791e-1b62-4ff5-b0c8-f407e9a02fb6",
   "metadata": {
    "execution": {
     "iopub.execute_input": "2021-07-28T11:19:05.686354Z",
     "iopub.status.busy": "2021-07-28T11:19:05.686195Z",
     "iopub.status.idle": "2021-07-28T11:19:06.772350Z",
     "shell.execute_reply": "2021-07-28T11:19:06.771808Z",
     "shell.execute_reply.started": "2021-07-28T11:19:05.686332Z"
    },
    "tags": []
   },
   "outputs": [],
   "source": [
    "client = sy.VirtualMachine().get_root_client()"
   ]
  },
  {
   "cell_type": "code",
   "execution_count": 6,
   "id": "16864be9-108e-4ec3-9196-1db72b724795",
   "metadata": {
    "execution": {
     "iopub.execute_input": "2021-07-28T11:19:59.077356Z",
     "iopub.status.busy": "2021-07-28T11:19:59.076956Z",
     "iopub.status.idle": "2021-07-28T11:19:59.236765Z",
     "shell.execute_reply": "2021-07-28T11:19:59.235604Z",
     "shell.execute_reply.started": "2021-07-28T11:19:59.077311Z"
    },
    "tags": []
   },
   "outputs": [
    {
     "name": "stdout",
     "output_type": "stream",
     "text": [
      "0268e83c4278ecf7ff59e762ecafe6c727e00ad265cab6e5b53f87a045 <class 'petlib.ec.EcPt'>\n",
      "17234741639553606435162010936890916701 <class 'petlib.bn.Bn'>\n"
     ]
    },
    {
     "ename": "AttributeError",
     "evalue": "'SecretPointer' object has no attribute 'value'",
     "output_type": "error",
     "traceback": [
      "\u001b[0;31m---------------------------------------------------------------------------\u001b[0m",
      "\u001b[0;31mAttributeError\u001b[0m                            Traceback (most recent call last)",
      "\u001b[0;32m<ipython-input-6-f259a054a3a7>\u001b[0m in \u001b[0;36m<module>\u001b[0;34m\u001b[0m\n\u001b[1;32m     30\u001b[0m \u001b[0;34m\u001b[0m\u001b[0m\n\u001b[1;32m     31\u001b[0m \u001b[0;31m# A Pedersen commitment to the secret bit.\u001b[0m\u001b[0;34m\u001b[0m\u001b[0;34m\u001b[0m\u001b[0;34m\u001b[0m\u001b[0m\n\u001b[0;32m---> 32\u001b[0;31m \u001b[0mC\u001b[0m \u001b[0;34m=\u001b[0m \u001b[0mtop_secret_bit\u001b[0m \u001b[0;34m*\u001b[0m \u001b[0mG\u001b[0m \u001b[0;34m+\u001b[0m \u001b[0mr\u001b[0m\u001b[0;34m.\u001b[0m\u001b[0mvalue\u001b[0m \u001b[0;34m*\u001b[0m \u001b[0mH\u001b[0m\u001b[0;34m\u001b[0m\u001b[0;34m\u001b[0m\u001b[0m\n\u001b[0m\u001b[1;32m     33\u001b[0m \u001b[0mC\u001b[0m\u001b[0;34m\u001b[0m\u001b[0;34m\u001b[0m\u001b[0m\n",
      "\u001b[0;31mAttributeError\u001b[0m: 'SecretPointer' object has no attribute 'value'"
     ]
    }
   ],
   "source": [
    "from zksk import DLRep\n",
    "from zksk import Secret\n",
    "from zksk import utils\n",
    "\n",
    "num = 2\n",
    "seed = 42\n",
    "G, H = utils.make_generators(num=num, seed=seed)\n",
    "# Setup: generate a secret randomizer.\n",
    "r = Secret(utils.get_random_num(bits=128))\n",
    "\n",
    "# This is Peggy's secret bit.\n",
    "top_secret_bit = 1\n",
    "\n",
    "# A Pedersen commitment to the secret bit.\n",
    "C = top_secret_bit * G + r.value * H\n",
    "print(C,type(C))\n",
    "print(r.value,type(r.value))\n",
    "# Peggy's definition of the proof statement, and proof generation.\n",
    "# (The first or-clause corresponds to the secret value 0, and the second to the value 1. Because\n",
    "# the real value of the bit is 1, the clause that corresponds to zero is marked as simulated.)\n",
    "stmt = DLRep(C, r * H, simulated=True) | DLRep(C - G, r * H)\n",
    "\n",
    "# zksk.base.NIZK\n",
    "zk_proof = stmt.prove()\n",
    "\n",
    "remote_zksk = client.zksk\n",
    "G,H = remote_zksk.utils.make_generators(num=num,seed=seed)\n",
    "r = remote_zksk.Secret(101)\n",
    "top_secret_bit = sy.lib.python.Int(1)\n",
    "\n",
    "# A Pedersen commitment to the secret bit.\n",
    "C = top_secret_bit * G + r.value * H\n",
    "C"
   ]
  },
  {
   "cell_type": "code",
   "execution_count": null,
   "id": "8ea74f79-58bd-4ab2-bf98-da17d2634850",
   "metadata": {
    "execution": {
     "iopub.status.busy": "2021-07-28T11:19:07.060794Z",
     "iopub.status.idle": "2021-07-28T11:19:07.061094Z",
     "shell.execute_reply": "2021-07-28T11:19:07.060946Z"
    },
    "tags": []
   },
   "outputs": [],
   "source": [
    "type(zk_proof.challenge),type(zk_proof.responses)"
   ]
  },
  {
   "cell_type": "code",
   "execution_count": null,
   "id": "22f11add-c7c2-4300-be41-174d10a0306f",
   "metadata": {
    "tags": []
   },
   "outputs": [],
   "source": []
  },
  {
   "cell_type": "code",
   "execution_count": null,
   "id": "4bc9b9cc-002f-475e-a914-8e4edc0c3a5b",
   "metadata": {
    "execution": {
     "iopub.status.busy": "2021-07-28T11:19:07.062139Z",
     "iopub.status.idle": "2021-07-28T11:19:07.062448Z",
     "shell.execute_reply": "2021-07-28T11:19:07.062308Z"
    },
    "tags": []
   },
   "outputs": [],
   "source": [
    "bn.from_num(zk_proof.challenge)"
   ]
  },
  {
   "cell_type": "code",
   "execution_count": null,
   "id": "2af11355-c863-4df3-ac50-5416dc48b836",
   "metadata": {
    "execution": {
     "iopub.status.busy": "2021-07-28T11:19:07.063335Z",
     "iopub.status.idle": "2021-07-28T11:19:07.063629Z",
     "shell.execute_reply": "2021-07-28T11:19:07.063491Z"
    },
    "tags": []
   },
   "outputs": [],
   "source": [
    "hex(zk_proof.challenge"
   ]
  },
  {
   "cell_type": "code",
   "execution_count": null,
   "id": "1fd2dcef-73d2-47bf-9fc0-48b361743d30",
   "metadata": {
    "execution": {
     "iopub.status.busy": "2021-07-28T11:19:07.064321Z",
     "iopub.status.idle": "2021-07-28T11:19:07.064595Z",
     "shell.execute_reply": "2021-07-28T11:19:07.064461Z"
    },
    "tags": []
   },
   "outputs": [],
   "source": [
    "bn = petlib.bn.Bn(1)\n",
    "type(bn.from_num(zk_proof.challenge))"
   ]
  },
  {
   "cell_type": "code",
   "execution_count": null,
   "id": "e1a8fcc0-5e16-4d96-8c32-a52fb4e6e2da",
   "metadata": {
    "execution": {
     "iopub.status.busy": "2021-07-28T11:19:07.065384Z",
     "iopub.status.idle": "2021-07-28T11:19:07.065712Z",
     "shell.execute_reply": "2021-07-28T11:19:07.065565Z"
    },
    "tags": []
   },
   "outputs": [],
   "source": [
    "import os\n",
    "import json\n",
    "\n",
    "def remove_syft_missing():\n",
    "    with open(\n",
    "        os.path.join(os.path.dirname(__file__), \"package-support.json\"), \"r\"\n",
    "    ) as f:\n",
    "        data = json.load(f)\n",
    "    \n",
    "    methods = data[\"methods\"]\n",
    "    print(len(methods))\n",
    "    for i,(f,r) in enumerate(methods):\n",
    "        if r in [\"_syft_missing\",\"_syft_return_absent\"]:\n",
    "            print(methods[i])\n",
    "            del methods[i]\n",
    "    print(len(methods))\n",
    "    data[\"methods\"] = methods\n",
    "    \n",
    "    with open(os.path.join(os.path.dirname(__file__), \"package-support.json\"), \"w\"\n",
    "    ) as f:\n",
    "        json.dump(data,f)\n",
    "\n",
    "if __name__ == \"__main__\":\n",
    "    remove_syft_missing()"
   ]
  }
 ],
 "metadata": {
  "kernelspec": {
   "display_name": "Python 3",
   "language": "python",
   "name": "python3"
  },
  "language_info": {
   "codemirror_mode": {
    "name": "ipython",
    "version": 3
   },
   "file_extension": ".py",
   "mimetype": "text/x-python",
   "name": "python",
   "nbconvert_exporter": "python",
   "pygments_lexer": "ipython3",
   "version": "3.9.5"
  }
 },
 "nbformat": 4,
 "nbformat_minor": 5
}

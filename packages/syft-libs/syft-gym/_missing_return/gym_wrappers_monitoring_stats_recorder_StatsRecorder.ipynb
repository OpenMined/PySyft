{
 "cells": [
  {
   "cell_type": "markdown",
   "id": "ef900cf9",
   "metadata": {},
   "source": [
    "## gym.wrappers.monitoring.stats_recorder.StatsRecorder"
   ]
  },
  {
   "cell_type": "code",
   "execution_count": null,
   "id": "26f924c8",
   "metadata": {},
   "outputs": [],
   "source": [
    "import gym\n",
    "def class_constructor(*args, **kwargs):\n",
    "    obj = gym.wrappers.monitoring.stats_recorder.StatsRecorder()\n",
    "    return obj\n"
   ]
  },
  {
   "cell_type": "code",
   "execution_count": null,
   "id": "76c487ed",
   "metadata": {},
   "outputs": [],
   "source": [
    "# gym.wrappers.monitoring.stats_recorder.StatsRecorder.after_reset\n",
    "try:\n",
    "    obj = class_constructor()\n",
    "    ret = obj.after_reset()\n",
    "    type_gym_wrappers_monitoring_stats_recorder_StatsRecorder_after_reset = getattr(ret, '__module__', 'none') + '.' + ret.__class__.__name__\n",
    "    print('✅ gym.wrappers.monitoring.stats_recorder.StatsRecorder.after_reset: ', type(ret))\n",
    "except Exception as e:\n",
    "    type_gym_wrappers_monitoring_stats_recorder_StatsRecorder_after_reset = '_syft_missing'\n",
    "    print('❌ gym.wrappers.monitoring.stats_recorder.StatsRecorder.after_reset: Return unavailable')\n",
    "    print(\"  Please fix this return type code until there is no exception\")\n",
    "    print('  Error:', e)\n"
   ]
  },
  {
   "cell_type": "code",
   "execution_count": null,
   "id": "956b5005",
   "metadata": {},
   "outputs": [],
   "source": [
    "# gym.wrappers.monitoring.stats_recorder.StatsRecorder.after_step\n",
    "try:\n",
    "    obj = class_constructor()\n",
    "    ret = obj.after_step()\n",
    "    type_gym_wrappers_monitoring_stats_recorder_StatsRecorder_after_step = getattr(ret, '__module__', 'none') + '.' + ret.__class__.__name__\n",
    "    print('✅ gym.wrappers.monitoring.stats_recorder.StatsRecorder.after_step: ', type(ret))\n",
    "except Exception as e:\n",
    "    type_gym_wrappers_monitoring_stats_recorder_StatsRecorder_after_step = '_syft_missing'\n",
    "    print('❌ gym.wrappers.monitoring.stats_recorder.StatsRecorder.after_step: Return unavailable')\n",
    "    print(\"  Please fix this return type code until there is no exception\")\n",
    "    print('  Error:', e)\n"
   ]
  },
  {
   "cell_type": "code",
   "execution_count": null,
   "id": "c37d7ef8",
   "metadata": {},
   "outputs": [],
   "source": [
    "# gym.wrappers.monitoring.stats_recorder.StatsRecorder.before_reset\n",
    "try:\n",
    "    obj = class_constructor()\n",
    "    ret = obj.before_reset()\n",
    "    type_gym_wrappers_monitoring_stats_recorder_StatsRecorder_before_reset = getattr(ret, '__module__', 'none') + '.' + ret.__class__.__name__\n",
    "    print('✅ gym.wrappers.monitoring.stats_recorder.StatsRecorder.before_reset: ', type(ret))\n",
    "except Exception as e:\n",
    "    type_gym_wrappers_monitoring_stats_recorder_StatsRecorder_before_reset = '_syft_missing'\n",
    "    print('❌ gym.wrappers.monitoring.stats_recorder.StatsRecorder.before_reset: Return unavailable')\n",
    "    print(\"  Please fix this return type code until there is no exception\")\n",
    "    print('  Error:', e)\n"
   ]
  },
  {
   "cell_type": "code",
   "execution_count": null,
   "id": "b644363b",
   "metadata": {},
   "outputs": [],
   "source": [
    "# gym.wrappers.monitoring.stats_recorder.StatsRecorder.before_step\n",
    "try:\n",
    "    obj = class_constructor()\n",
    "    ret = obj.before_step()\n",
    "    type_gym_wrappers_monitoring_stats_recorder_StatsRecorder_before_step = getattr(ret, '__module__', 'none') + '.' + ret.__class__.__name__\n",
    "    print('✅ gym.wrappers.monitoring.stats_recorder.StatsRecorder.before_step: ', type(ret))\n",
    "except Exception as e:\n",
    "    type_gym_wrappers_monitoring_stats_recorder_StatsRecorder_before_step = '_syft_missing'\n",
    "    print('❌ gym.wrappers.monitoring.stats_recorder.StatsRecorder.before_step: Return unavailable')\n",
    "    print(\"  Please fix this return type code until there is no exception\")\n",
    "    print('  Error:', e)\n"
   ]
  },
  {
   "cell_type": "code",
   "execution_count": null,
   "id": "62439432",
   "metadata": {},
   "outputs": [],
   "source": [
    "# gym.wrappers.monitoring.stats_recorder.StatsRecorder.close\n",
    "try:\n",
    "    obj = class_constructor()\n",
    "    ret = obj.close()\n",
    "    type_gym_wrappers_monitoring_stats_recorder_StatsRecorder_close = getattr(ret, '__module__', 'none') + '.' + ret.__class__.__name__\n",
    "    print('✅ gym.wrappers.monitoring.stats_recorder.StatsRecorder.close: ', type(ret))\n",
    "except Exception as e:\n",
    "    type_gym_wrappers_monitoring_stats_recorder_StatsRecorder_close = '_syft_missing'\n",
    "    print('❌ gym.wrappers.monitoring.stats_recorder.StatsRecorder.close: Return unavailable')\n",
    "    print(\"  Please fix this return type code until there is no exception\")\n",
    "    print('  Error:', e)\n"
   ]
  },
  {
   "cell_type": "code",
   "execution_count": null,
   "id": "3f83fb12",
   "metadata": {},
   "outputs": [],
   "source": [
    "# gym.wrappers.monitoring.stats_recorder.StatsRecorder.flush\n",
    "try:\n",
    "    obj = class_constructor()\n",
    "    ret = obj.flush()\n",
    "    type_gym_wrappers_monitoring_stats_recorder_StatsRecorder_flush = getattr(ret, '__module__', 'none') + '.' + ret.__class__.__name__\n",
    "    print('✅ gym.wrappers.monitoring.stats_recorder.StatsRecorder.flush: ', type(ret))\n",
    "except Exception as e:\n",
    "    type_gym_wrappers_monitoring_stats_recorder_StatsRecorder_flush = '_syft_missing'\n",
    "    print('❌ gym.wrappers.monitoring.stats_recorder.StatsRecorder.flush: Return unavailable')\n",
    "    print(\"  Please fix this return type code until there is no exception\")\n",
    "    print('  Error:', e)\n"
   ]
  },
  {
   "cell_type": "code",
   "execution_count": null,
   "id": "ef9c3283",
   "metadata": {},
   "outputs": [],
   "source": [
    "# gym.wrappers.monitoring.stats_recorder.StatsRecorder.save_complete\n",
    "try:\n",
    "    obj = class_constructor()\n",
    "    ret = obj.save_complete()\n",
    "    type_gym_wrappers_monitoring_stats_recorder_StatsRecorder_save_complete = getattr(ret, '__module__', 'none') + '.' + ret.__class__.__name__\n",
    "    print('✅ gym.wrappers.monitoring.stats_recorder.StatsRecorder.save_complete: ', type(ret))\n",
    "except Exception as e:\n",
    "    type_gym_wrappers_monitoring_stats_recorder_StatsRecorder_save_complete = '_syft_missing'\n",
    "    print('❌ gym.wrappers.monitoring.stats_recorder.StatsRecorder.save_complete: Return unavailable')\n",
    "    print(\"  Please fix this return type code until there is no exception\")\n",
    "    print('  Error:', e)\n"
   ]
  },
  {
   "cell_type": "code",
   "execution_count": null,
   "id": "2577f9e8",
   "metadata": {},
   "outputs": [],
   "source": [
    "# gym.wrappers.monitoring.stats_recorder.StatsRecorder.type\n",
    "try:\n",
    "    obj = class_constructor()\n",
    "    ret = obj.type\n",
    "    type_gym_wrappers_monitoring_stats_recorder_StatsRecorder_type = getattr(ret, '__module__', 'none') + '.' + ret.__class__.__name__\n",
    "    print('✅ gym.wrappers.monitoring.stats_recorder.StatsRecorder.type:', type(ret))\n",
    "except Exception as e:\n",
    "    type_gym_wrappers_monitoring_stats_recorder_StatsRecorder_type = '_syft_missing'\n",
    "    print('❌ gym.wrappers.monitoring.stats_recorder.StatsRecorder.type: Return unavailable')\n",
    "    print(\"  Please fix this return type code until there is no exception\")\n",
    "    print('  Error:', e)\n"
   ]
  }
 ],
 "metadata": {},
 "nbformat": 4,
 "nbformat_minor": 5
}
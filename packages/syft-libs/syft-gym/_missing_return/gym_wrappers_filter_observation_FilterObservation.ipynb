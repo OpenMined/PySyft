{
 "cells": [
  {
   "cell_type": "markdown",
   "id": "e062ef98",
   "metadata": {},
   "source": [
    "## gym.wrappers.filter_observation.FilterObservation"
   ]
  },
  {
   "cell_type": "code",
   "execution_count": null,
   "id": "5d2acef5",
   "metadata": {},
   "outputs": [],
   "source": [
    "import gym\n",
    "def class_constructor(*args, **kwargs):\n",
    "    obj = gym.wrappers.filter_observation.FilterObservation()\n",
    "    return obj\n"
   ]
  },
  {
   "cell_type": "code",
   "execution_count": null,
   "id": "6e5a4590",
   "metadata": {},
   "outputs": [],
   "source": [
    "# gym.wrappers.filter_observation.FilterObservation.__enter__\n",
    "try:\n",
    "    obj = class_constructor()\n",
    "    ret = obj.__enter__()\n",
    "    type_gym_wrappers_filter_observation_FilterObservation___enter__ = getattr(ret, '__module__', 'none') + '.' + ret.__class__.__name__\n",
    "    print('✅ gym.wrappers.filter_observation.FilterObservation.__enter__: ', type(ret))\n",
    "except Exception as e:\n",
    "    type_gym_wrappers_filter_observation_FilterObservation___enter__ = '_syft_missing'\n",
    "    print('❌ gym.wrappers.filter_observation.FilterObservation.__enter__: Return unavailable')\n",
    "    print(\"  Please fix this return type code until there is no exception\")\n",
    "    print('  Error:', e)\n"
   ]
  },
  {
   "cell_type": "code",
   "execution_count": null,
   "id": "5c3af6dd",
   "metadata": {},
   "outputs": [],
   "source": [
    "# gym.wrappers.filter_observation.FilterObservation.__exit__\n",
    "try:\n",
    "    obj = class_constructor()\n",
    "    ret = obj.__exit__()\n",
    "    type_gym_wrappers_filter_observation_FilterObservation___exit__ = getattr(ret, '__module__', 'none') + '.' + ret.__class__.__name__\n",
    "    print('✅ gym.wrappers.filter_observation.FilterObservation.__exit__: ', type(ret))\n",
    "except Exception as e:\n",
    "    type_gym_wrappers_filter_observation_FilterObservation___exit__ = '_syft_missing'\n",
    "    print('❌ gym.wrappers.filter_observation.FilterObservation.__exit__: Return unavailable')\n",
    "    print(\"  Please fix this return type code until there is no exception\")\n",
    "    print('  Error:', e)\n"
   ]
  },
  {
   "cell_type": "code",
   "execution_count": null,
   "id": "2cc40afd",
   "metadata": {},
   "outputs": [],
   "source": [
    "# gym.wrappers.filter_observation.FilterObservation.__getattr__\n",
    "try:\n",
    "    obj = class_constructor()\n",
    "    ret = obj.__getattr__()\n",
    "    type_gym_wrappers_filter_observation_FilterObservation___getattr__ = getattr(ret, '__module__', 'none') + '.' + ret.__class__.__name__\n",
    "    print('✅ gym.wrappers.filter_observation.FilterObservation.__getattr__: ', type(ret))\n",
    "except Exception as e:\n",
    "    type_gym_wrappers_filter_observation_FilterObservation___getattr__ = '_syft_missing'\n",
    "    print('❌ gym.wrappers.filter_observation.FilterObservation.__getattr__: Return unavailable')\n",
    "    print(\"  Please fix this return type code until there is no exception\")\n",
    "    print('  Error:', e)\n"
   ]
  },
  {
   "cell_type": "code",
   "execution_count": null,
   "id": "ea0a009a",
   "metadata": {},
   "outputs": [],
   "source": [
    "# gym.wrappers.filter_observation.FilterObservation.__repr__\n",
    "try:\n",
    "    obj = class_constructor()\n",
    "    ret = obj.__repr__()\n",
    "    type_gym_wrappers_filter_observation_FilterObservation___repr__ = getattr(ret, '__module__', 'none') + '.' + ret.__class__.__name__\n",
    "    print('✅ gym.wrappers.filter_observation.FilterObservation.__repr__: ', type(ret))\n",
    "except Exception as e:\n",
    "    type_gym_wrappers_filter_observation_FilterObservation___repr__ = '_syft_missing'\n",
    "    print('❌ gym.wrappers.filter_observation.FilterObservation.__repr__: Return unavailable')\n",
    "    print(\"  Please fix this return type code until there is no exception\")\n",
    "    print('  Error:', e)\n"
   ]
  },
  {
   "cell_type": "code",
   "execution_count": null,
   "id": "32c666d8",
   "metadata": {},
   "outputs": [],
   "source": [
    "# gym.wrappers.filter_observation.FilterObservation.__str__\n",
    "try:\n",
    "    obj = class_constructor()\n",
    "    ret = obj.__str__()\n",
    "    type_gym_wrappers_filter_observation_FilterObservation___str__ = getattr(ret, '__module__', 'none') + '.' + ret.__class__.__name__\n",
    "    print('✅ gym.wrappers.filter_observation.FilterObservation.__str__: ', type(ret))\n",
    "except Exception as e:\n",
    "    type_gym_wrappers_filter_observation_FilterObservation___str__ = '_syft_missing'\n",
    "    print('❌ gym.wrappers.filter_observation.FilterObservation.__str__: Return unavailable')\n",
    "    print(\"  Please fix this return type code until there is no exception\")\n",
    "    print('  Error:', e)\n"
   ]
  },
  {
   "cell_type": "code",
   "execution_count": null,
   "id": "3cde6aaa",
   "metadata": {},
   "outputs": [],
   "source": [
    "# gym.wrappers.filter_observation.FilterObservation._filter_observation\n",
    "try:\n",
    "    obj = class_constructor()\n",
    "    ret = obj._filter_observation()\n",
    "    type_gym_wrappers_filter_observation_FilterObservation__filter_observation = getattr(ret, '__module__', 'none') + '.' + ret.__class__.__name__\n",
    "    print('✅ gym.wrappers.filter_observation.FilterObservation._filter_observation: ', type(ret))\n",
    "except Exception as e:\n",
    "    type_gym_wrappers_filter_observation_FilterObservation__filter_observation = '_syft_missing'\n",
    "    print('❌ gym.wrappers.filter_observation.FilterObservation._filter_observation: Return unavailable')\n",
    "    print(\"  Please fix this return type code until there is no exception\")\n",
    "    print('  Error:', e)\n"
   ]
  },
  {
   "cell_type": "code",
   "execution_count": null,
   "id": "78152072",
   "metadata": {},
   "outputs": [],
   "source": [
    "# gym.wrappers.filter_observation.FilterObservation.class_name\n",
    "try:\n",
    "    obj = class_constructor()\n",
    "    ret = obj.class_name()\n",
    "    type_gym_wrappers_filter_observation_FilterObservation_class_name = getattr(ret, '__module__', 'none') + '.' + ret.__class__.__name__\n",
    "    print('✅ gym.wrappers.filter_observation.FilterObservation.class_name: ', type(ret))\n",
    "except Exception as e:\n",
    "    type_gym_wrappers_filter_observation_FilterObservation_class_name = '_syft_missing'\n",
    "    print('❌ gym.wrappers.filter_observation.FilterObservation.class_name: Return unavailable')\n",
    "    print(\"  Please fix this return type code until there is no exception\")\n",
    "    print('  Error:', e)\n"
   ]
  },
  {
   "cell_type": "code",
   "execution_count": null,
   "id": "859a835b",
   "metadata": {},
   "outputs": [],
   "source": [
    "# gym.wrappers.filter_observation.FilterObservation.close\n",
    "try:\n",
    "    obj = class_constructor()\n",
    "    ret = obj.close()\n",
    "    type_gym_wrappers_filter_observation_FilterObservation_close = getattr(ret, '__module__', 'none') + '.' + ret.__class__.__name__\n",
    "    print('✅ gym.wrappers.filter_observation.FilterObservation.close: ', type(ret))\n",
    "except Exception as e:\n",
    "    type_gym_wrappers_filter_observation_FilterObservation_close = '_syft_missing'\n",
    "    print('❌ gym.wrappers.filter_observation.FilterObservation.close: Return unavailable')\n",
    "    print(\"  Please fix this return type code until there is no exception\")\n",
    "    print('  Error:', e)\n"
   ]
  },
  {
   "cell_type": "code",
   "execution_count": null,
   "id": "b0cf284d",
   "metadata": {},
   "outputs": [],
   "source": [
    "# gym.wrappers.filter_observation.FilterObservation.compute_reward\n",
    "try:\n",
    "    obj = class_constructor()\n",
    "    ret = obj.compute_reward()\n",
    "    type_gym_wrappers_filter_observation_FilterObservation_compute_reward = getattr(ret, '__module__', 'none') + '.' + ret.__class__.__name__\n",
    "    print('✅ gym.wrappers.filter_observation.FilterObservation.compute_reward: ', type(ret))\n",
    "except Exception as e:\n",
    "    type_gym_wrappers_filter_observation_FilterObservation_compute_reward = '_syft_missing'\n",
    "    print('❌ gym.wrappers.filter_observation.FilterObservation.compute_reward: Return unavailable')\n",
    "    print(\"  Please fix this return type code until there is no exception\")\n",
    "    print('  Error:', e)\n"
   ]
  },
  {
   "cell_type": "code",
   "execution_count": null,
   "id": "44aae2c9",
   "metadata": {},
   "outputs": [],
   "source": [
    "# gym.wrappers.filter_observation.FilterObservation.observation\n",
    "try:\n",
    "    obj = class_constructor()\n",
    "    ret = obj.observation()\n",
    "    type_gym_wrappers_filter_observation_FilterObservation_observation = getattr(ret, '__module__', 'none') + '.' + ret.__class__.__name__\n",
    "    print('✅ gym.wrappers.filter_observation.FilterObservation.observation: ', type(ret))\n",
    "except Exception as e:\n",
    "    type_gym_wrappers_filter_observation_FilterObservation_observation = '_syft_missing'\n",
    "    print('❌ gym.wrappers.filter_observation.FilterObservation.observation: Return unavailable')\n",
    "    print(\"  Please fix this return type code until there is no exception\")\n",
    "    print('  Error:', e)\n"
   ]
  },
  {
   "cell_type": "code",
   "execution_count": null,
   "id": "cb219f59",
   "metadata": {},
   "outputs": [],
   "source": [
    "# gym.wrappers.filter_observation.FilterObservation.render\n",
    "try:\n",
    "    obj = class_constructor()\n",
    "    ret = obj.render()\n",
    "    type_gym_wrappers_filter_observation_FilterObservation_render = getattr(ret, '__module__', 'none') + '.' + ret.__class__.__name__\n",
    "    print('✅ gym.wrappers.filter_observation.FilterObservation.render: ', type(ret))\n",
    "except Exception as e:\n",
    "    type_gym_wrappers_filter_observation_FilterObservation_render = '_syft_missing'\n",
    "    print('❌ gym.wrappers.filter_observation.FilterObservation.render: Return unavailable')\n",
    "    print(\"  Please fix this return type code until there is no exception\")\n",
    "    print('  Error:', e)\n"
   ]
  },
  {
   "cell_type": "code",
   "execution_count": null,
   "id": "97a69b9e",
   "metadata": {},
   "outputs": [],
   "source": [
    "# gym.wrappers.filter_observation.FilterObservation.reset\n",
    "try:\n",
    "    obj = class_constructor()\n",
    "    ret = obj.reset()\n",
    "    type_gym_wrappers_filter_observation_FilterObservation_reset = getattr(ret, '__module__', 'none') + '.' + ret.__class__.__name__\n",
    "    print('✅ gym.wrappers.filter_observation.FilterObservation.reset: ', type(ret))\n",
    "except Exception as e:\n",
    "    type_gym_wrappers_filter_observation_FilterObservation_reset = '_syft_missing'\n",
    "    print('❌ gym.wrappers.filter_observation.FilterObservation.reset: Return unavailable')\n",
    "    print(\"  Please fix this return type code until there is no exception\")\n",
    "    print('  Error:', e)\n"
   ]
  },
  {
   "cell_type": "code",
   "execution_count": null,
   "id": "d59d2812",
   "metadata": {},
   "outputs": [],
   "source": [
    "# gym.wrappers.filter_observation.FilterObservation.seed\n",
    "try:\n",
    "    obj = class_constructor()\n",
    "    ret = obj.seed()\n",
    "    type_gym_wrappers_filter_observation_FilterObservation_seed = getattr(ret, '__module__', 'none') + '.' + ret.__class__.__name__\n",
    "    print('✅ gym.wrappers.filter_observation.FilterObservation.seed: ', type(ret))\n",
    "except Exception as e:\n",
    "    type_gym_wrappers_filter_observation_FilterObservation_seed = '_syft_missing'\n",
    "    print('❌ gym.wrappers.filter_observation.FilterObservation.seed: Return unavailable')\n",
    "    print(\"  Please fix this return type code until there is no exception\")\n",
    "    print('  Error:', e)\n"
   ]
  },
  {
   "cell_type": "code",
   "execution_count": null,
   "id": "67ef43dc",
   "metadata": {},
   "outputs": [],
   "source": [
    "# gym.wrappers.filter_observation.FilterObservation.spec\n",
    "try:\n",
    "    obj = class_constructor()\n",
    "    ret = obj.spec\n",
    "    type_gym_wrappers_filter_observation_FilterObservation_spec = getattr(ret, '__module__', 'none') + '.' + ret.__class__.__name__\n",
    "    print('✅ gym.wrappers.filter_observation.FilterObservation.spec:', type(ret))\n",
    "except Exception as e:\n",
    "    type_gym_wrappers_filter_observation_FilterObservation_spec = '_syft_missing'\n",
    "    print('❌ gym.wrappers.filter_observation.FilterObservation.spec: Return unavailable')\n",
    "    print(\"  Please fix this return type code until there is no exception\")\n",
    "    print('  Error:', e)\n"
   ]
  },
  {
   "cell_type": "code",
   "execution_count": null,
   "id": "a9c47fa4",
   "metadata": {},
   "outputs": [],
   "source": [
    "# gym.wrappers.filter_observation.FilterObservation.step\n",
    "try:\n",
    "    obj = class_constructor()\n",
    "    ret = obj.step()\n",
    "    type_gym_wrappers_filter_observation_FilterObservation_step = getattr(ret, '__module__', 'none') + '.' + ret.__class__.__name__\n",
    "    print('✅ gym.wrappers.filter_observation.FilterObservation.step: ', type(ret))\n",
    "except Exception as e:\n",
    "    type_gym_wrappers_filter_observation_FilterObservation_step = '_syft_missing'\n",
    "    print('❌ gym.wrappers.filter_observation.FilterObservation.step: Return unavailable')\n",
    "    print(\"  Please fix this return type code until there is no exception\")\n",
    "    print('  Error:', e)\n"
   ]
  },
  {
   "cell_type": "code",
   "execution_count": null,
   "id": "ee2ad400",
   "metadata": {},
   "outputs": [],
   "source": [
    "# gym.wrappers.filter_observation.FilterObservation.unwrapped\n",
    "try:\n",
    "    obj = class_constructor()\n",
    "    ret = obj.unwrapped\n",
    "    type_gym_wrappers_filter_observation_FilterObservation_unwrapped = getattr(ret, '__module__', 'none') + '.' + ret.__class__.__name__\n",
    "    print('✅ gym.wrappers.filter_observation.FilterObservation.unwrapped:', type(ret))\n",
    "except Exception as e:\n",
    "    type_gym_wrappers_filter_observation_FilterObservation_unwrapped = '_syft_missing'\n",
    "    print('❌ gym.wrappers.filter_observation.FilterObservation.unwrapped: Return unavailable')\n",
    "    print(\"  Please fix this return type code until there is no exception\")\n",
    "    print('  Error:', e)\n"
   ]
  }
 ],
 "metadata": {},
 "nbformat": 4,
 "nbformat_minor": 5
}
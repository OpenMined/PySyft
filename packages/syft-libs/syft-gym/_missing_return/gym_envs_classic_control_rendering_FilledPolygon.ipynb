{
 "cells": [
  {
   "cell_type": "markdown",
   "id": "c516d48c",
   "metadata": {},
   "source": [
    "## gym.envs.classic_control.rendering.FilledPolygon"
   ]
  },
  {
   "cell_type": "code",
   "execution_count": null,
   "id": "1f6772b1",
   "metadata": {},
   "outputs": [],
   "source": [
    "import gym\n",
    "def class_constructor(*args, **kwargs):\n",
    "    obj = gym.envs.classic_control.rendering.FilledPolygon()\n",
    "    return obj\n"
   ]
  },
  {
   "cell_type": "code",
   "execution_count": null,
   "id": "db88254f",
   "metadata": {},
   "outputs": [],
   "source": [
    "# gym.envs.classic_control.rendering.FilledPolygon.add_attr\n",
    "try:\n",
    "    obj = class_constructor()\n",
    "    ret = obj.add_attr()\n",
    "    type_gym_envs_classic_control_rendering_FilledPolygon_add_attr = getattr(ret, '__module__', 'none') + '.' + ret.__class__.__name__\n",
    "    print('✅ gym.envs.classic_control.rendering.FilledPolygon.add_attr: ', type(ret))\n",
    "except Exception as e:\n",
    "    type_gym_envs_classic_control_rendering_FilledPolygon_add_attr = '_syft_missing'\n",
    "    print('❌ gym.envs.classic_control.rendering.FilledPolygon.add_attr: Return unavailable')\n",
    "    print(\"  Please fix this return type code until there is no exception\")\n",
    "    print('  Error:', e)\n"
   ]
  },
  {
   "cell_type": "code",
   "execution_count": null,
   "id": "f613fa46",
   "metadata": {},
   "outputs": [],
   "source": [
    "# gym.envs.classic_control.rendering.FilledPolygon.render\n",
    "try:\n",
    "    obj = class_constructor()\n",
    "    ret = obj.render()\n",
    "    type_gym_envs_classic_control_rendering_FilledPolygon_render = getattr(ret, '__module__', 'none') + '.' + ret.__class__.__name__\n",
    "    print('✅ gym.envs.classic_control.rendering.FilledPolygon.render: ', type(ret))\n",
    "except Exception as e:\n",
    "    type_gym_envs_classic_control_rendering_FilledPolygon_render = '_syft_missing'\n",
    "    print('❌ gym.envs.classic_control.rendering.FilledPolygon.render: Return unavailable')\n",
    "    print(\"  Please fix this return type code until there is no exception\")\n",
    "    print('  Error:', e)\n"
   ]
  },
  {
   "cell_type": "code",
   "execution_count": null,
   "id": "a28589ba",
   "metadata": {},
   "outputs": [],
   "source": [
    "# gym.envs.classic_control.rendering.FilledPolygon.render1\n",
    "try:\n",
    "    obj = class_constructor()\n",
    "    ret = obj.render1()\n",
    "    type_gym_envs_classic_control_rendering_FilledPolygon_render1 = getattr(ret, '__module__', 'none') + '.' + ret.__class__.__name__\n",
    "    print('✅ gym.envs.classic_control.rendering.FilledPolygon.render1: ', type(ret))\n",
    "except Exception as e:\n",
    "    type_gym_envs_classic_control_rendering_FilledPolygon_render1 = '_syft_missing'\n",
    "    print('❌ gym.envs.classic_control.rendering.FilledPolygon.render1: Return unavailable')\n",
    "    print(\"  Please fix this return type code until there is no exception\")\n",
    "    print('  Error:', e)\n"
   ]
  },
  {
   "cell_type": "code",
   "execution_count": null,
   "id": "71e3ff51",
   "metadata": {},
   "outputs": [],
   "source": [
    "# gym.envs.classic_control.rendering.FilledPolygon.set_color\n",
    "try:\n",
    "    obj = class_constructor()\n",
    "    ret = obj.set_color()\n",
    "    type_gym_envs_classic_control_rendering_FilledPolygon_set_color = getattr(ret, '__module__', 'none') + '.' + ret.__class__.__name__\n",
    "    print('✅ gym.envs.classic_control.rendering.FilledPolygon.set_color: ', type(ret))\n",
    "except Exception as e:\n",
    "    type_gym_envs_classic_control_rendering_FilledPolygon_set_color = '_syft_missing'\n",
    "    print('❌ gym.envs.classic_control.rendering.FilledPolygon.set_color: Return unavailable')\n",
    "    print(\"  Please fix this return type code until there is no exception\")\n",
    "    print('  Error:', e)\n"
   ]
  }
 ],
 "metadata": {},
 "nbformat": 4,
 "nbformat_minor": 5
}
{
 "cells": [
  {
   "cell_type": "markdown",
   "id": "8f232bd9",
   "metadata": {},
   "source": [
    "## gym.error.APIError"
   ]
  },
  {
   "cell_type": "code",
   "execution_count": null,
   "id": "92f2329a",
   "metadata": {},
   "outputs": [],
   "source": [
    "import gym\n",
    "def class_constructor(*args, **kwargs):\n",
    "    obj = gym.error.APIError()\n",
    "    return obj\n"
   ]
  },
  {
   "cell_type": "code",
   "execution_count": null,
   "id": "36abdca1",
   "metadata": {},
   "outputs": [],
   "source": [
    "# gym.error.APIError.__str__\n",
    "try:\n",
    "    obj = class_constructor()\n",
    "    ret = obj.__str__()\n",
    "    type_gym_error_APIError___str__ = getattr(ret, '__module__', 'none') + '.' + ret.__class__.__name__\n",
    "    print('✅ gym.error.APIError.__str__: ', type(ret))\n",
    "except Exception as e:\n",
    "    type_gym_error_APIError___str__ = '_syft_missing'\n",
    "    print('❌ gym.error.APIError.__str__: Return unavailable')\n",
    "    print(\"  Please fix this return type code until there is no exception\")\n",
    "    print('  Error:', e)\n"
   ]
  },
  {
   "cell_type": "code",
   "execution_count": null,
   "id": "3454d989",
   "metadata": {},
   "outputs": [],
   "source": [
    "# gym.error.APIError.__unicode__\n",
    "try:\n",
    "    obj = class_constructor()\n",
    "    ret = obj.__unicode__()\n",
    "    type_gym_error_APIError___unicode__ = getattr(ret, '__module__', 'none') + '.' + ret.__class__.__name__\n",
    "    print('✅ gym.error.APIError.__unicode__: ', type(ret))\n",
    "except Exception as e:\n",
    "    type_gym_error_APIError___unicode__ = '_syft_missing'\n",
    "    print('❌ gym.error.APIError.__unicode__: Return unavailable')\n",
    "    print(\"  Please fix this return type code until there is no exception\")\n",
    "    print('  Error:', e)\n"
   ]
  }
 ],
 "metadata": {},
 "nbformat": 4,
 "nbformat_minor": 5
}
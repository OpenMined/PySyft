{
 "cells": [
  {
   "cell_type": "markdown",
   "id": "393ffeb7",
   "metadata": {},
   "source": [
    "## gym.envs.box2d.car_racing.FrictionDetector"
   ]
  },
  {
   "cell_type": "code",
   "execution_count": null,
   "id": "b57494aa",
   "metadata": {},
   "outputs": [],
   "source": [
    "import gym\n",
    "def class_constructor(*args, **kwargs):\n",
    "    obj = gym.envs.box2d.car_racing.FrictionDetector()\n",
    "    return obj\n"
   ]
  },
  {
   "cell_type": "code",
   "execution_count": null,
   "id": "625071cc",
   "metadata": {},
   "outputs": [],
   "source": [
    "# gym.envs.box2d.car_racing.FrictionDetector.BeginContact\n",
    "try:\n",
    "    obj = class_constructor()\n",
    "    ret = obj.BeginContact()\n",
    "    type_gym_envs_box2d_car_racing_FrictionDetector_BeginContact = getattr(ret, '__module__', 'none') + '.' + ret.__class__.__name__\n",
    "    print('✅ gym.envs.box2d.car_racing.FrictionDetector.BeginContact: ', type(ret))\n",
    "except Exception as e:\n",
    "    type_gym_envs_box2d_car_racing_FrictionDetector_BeginContact = '_syft_missing'\n",
    "    print('❌ gym.envs.box2d.car_racing.FrictionDetector.BeginContact: Return unavailable')\n",
    "    print(\"  Please fix this return type code until there is no exception\")\n",
    "    print('  Error:', e)\n"
   ]
  },
  {
   "cell_type": "code",
   "execution_count": null,
   "id": "b4996476",
   "metadata": {},
   "outputs": [],
   "source": [
    "# gym.envs.box2d.car_racing.FrictionDetector.EndContact\n",
    "try:\n",
    "    obj = class_constructor()\n",
    "    ret = obj.EndContact()\n",
    "    type_gym_envs_box2d_car_racing_FrictionDetector_EndContact = getattr(ret, '__module__', 'none') + '.' + ret.__class__.__name__\n",
    "    print('✅ gym.envs.box2d.car_racing.FrictionDetector.EndContact: ', type(ret))\n",
    "except Exception as e:\n",
    "    type_gym_envs_box2d_car_racing_FrictionDetector_EndContact = '_syft_missing'\n",
    "    print('❌ gym.envs.box2d.car_racing.FrictionDetector.EndContact: Return unavailable')\n",
    "    print(\"  Please fix this return type code until there is no exception\")\n",
    "    print('  Error:', e)\n"
   ]
  },
  {
   "cell_type": "code",
   "execution_count": null,
   "id": "f9a9dcf8",
   "metadata": {},
   "outputs": [],
   "source": [
    "# gym.envs.box2d.car_racing.FrictionDetector._dir_filter\n",
    "try:\n",
    "    obj = class_constructor()\n",
    "    ret = obj._dir_filter()\n",
    "    type_gym_envs_box2d_car_racing_FrictionDetector__dir_filter = getattr(ret, '__module__', 'none') + '.' + ret.__class__.__name__\n",
    "    print('✅ gym.envs.box2d.car_racing.FrictionDetector._dir_filter: ', type(ret))\n",
    "except Exception as e:\n",
    "    type_gym_envs_box2d_car_racing_FrictionDetector__dir_filter = '_syft_missing'\n",
    "    print('❌ gym.envs.box2d.car_racing.FrictionDetector._dir_filter: Return unavailable')\n",
    "    print(\"  Please fix this return type code until there is no exception\")\n",
    "    print('  Error:', e)\n"
   ]
  },
  {
   "cell_type": "code",
   "execution_count": null,
   "id": "1597f19d",
   "metadata": {},
   "outputs": [],
   "source": [
    "# gym.envs.box2d.car_racing.FrictionDetector.__disown__\n",
    "try:\n",
    "    obj = class_constructor()\n",
    "    ret = obj.__disown__()\n",
    "    type_gym_envs_box2d_car_racing_FrictionDetector___disown__ = getattr(ret, '__module__', 'none') + '.' + ret.__class__.__name__\n",
    "    print('✅ gym.envs.box2d.car_racing.FrictionDetector.__disown__: ', type(ret))\n",
    "except Exception as e:\n",
    "    type_gym_envs_box2d_car_racing_FrictionDetector___disown__ = '_syft_missing'\n",
    "    print('❌ gym.envs.box2d.car_racing.FrictionDetector.__disown__: Return unavailable')\n",
    "    print(\"  Please fix this return type code until there is no exception\")\n",
    "    print('  Error:', e)\n"
   ]
  },
  {
   "cell_type": "code",
   "execution_count": null,
   "id": "7dfe676d",
   "metadata": {},
   "outputs": [],
   "source": [
    "# gym.envs.box2d.car_racing.FrictionDetector.__repr__\n",
    "try:\n",
    "    obj = class_constructor()\n",
    "    ret = obj.__repr__()\n",
    "    type_gym_envs_box2d_car_racing_FrictionDetector___repr__ = getattr(ret, '__module__', 'none') + '.' + ret.__class__.__name__\n",
    "    print('✅ gym.envs.box2d.car_racing.FrictionDetector.__repr__: ', type(ret))\n",
    "except Exception as e:\n",
    "    type_gym_envs_box2d_car_racing_FrictionDetector___repr__ = '_syft_missing'\n",
    "    print('❌ gym.envs.box2d.car_racing.FrictionDetector.__repr__: Return unavailable')\n",
    "    print(\"  Please fix this return type code until there is no exception\")\n",
    "    print('  Error:', e)\n"
   ]
  },
  {
   "cell_type": "code",
   "execution_count": null,
   "id": "64a7e21c",
   "metadata": {},
   "outputs": [],
   "source": [
    "# gym.envs.box2d.car_racing.FrictionDetector._contact\n",
    "try:\n",
    "    obj = class_constructor()\n",
    "    ret = obj._contact()\n",
    "    type_gym_envs_box2d_car_racing_FrictionDetector__contact = getattr(ret, '__module__', 'none') + '.' + ret.__class__.__name__\n",
    "    print('✅ gym.envs.box2d.car_racing.FrictionDetector._contact: ', type(ret))\n",
    "except Exception as e:\n",
    "    type_gym_envs_box2d_car_racing_FrictionDetector__contact = '_syft_missing'\n",
    "    print('❌ gym.envs.box2d.car_racing.FrictionDetector._contact: Return unavailable')\n",
    "    print(\"  Please fix this return type code until there is no exception\")\n",
    "    print('  Error:', e)\n"
   ]
  },
  {
   "cell_type": "code",
   "execution_count": null,
   "id": "304bbc1d",
   "metadata": {},
   "outputs": [],
   "source": [
    "# gym.envs.box2d.car_racing.FrictionDetector.thisown\n",
    "try:\n",
    "    obj = class_constructor()\n",
    "    ret = obj.thisown\n",
    "    type_gym_envs_box2d_car_racing_FrictionDetector_thisown = getattr(ret, '__module__', 'none') + '.' + ret.__class__.__name__\n",
    "    print('✅ gym.envs.box2d.car_racing.FrictionDetector.thisown:', type(ret))\n",
    "except Exception as e:\n",
    "    type_gym_envs_box2d_car_racing_FrictionDetector_thisown = '_syft_missing'\n",
    "    print('❌ gym.envs.box2d.car_racing.FrictionDetector.thisown: Return unavailable')\n",
    "    print(\"  Please fix this return type code until there is no exception\")\n",
    "    print('  Error:', e)\n"
   ]
  }
 ],
 "metadata": {},
 "nbformat": 4,
 "nbformat_minor": 5
}
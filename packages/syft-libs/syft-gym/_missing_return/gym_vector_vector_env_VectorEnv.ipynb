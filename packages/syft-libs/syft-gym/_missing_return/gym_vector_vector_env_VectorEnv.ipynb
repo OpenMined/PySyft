{
 "cells": [
  {
   "cell_type": "markdown",
   "id": "140490d2",
   "metadata": {},
   "source": [
    "## gym.vector.vector_env.VectorEnv"
   ]
  },
  {
   "cell_type": "code",
   "execution_count": null,
   "id": "ada30d36",
   "metadata": {},
   "outputs": [],
   "source": [
    "import gym\n",
    "def class_constructor(*args, **kwargs):\n",
    "    obj = gym.vector.vector_env.VectorEnv()\n",
    "    return obj\n"
   ]
  },
  {
   "cell_type": "code",
   "execution_count": null,
   "id": "9e0bb589",
   "metadata": {},
   "outputs": [],
   "source": [
    "# gym.vector.vector_env.VectorEnv.__del__\n",
    "try:\n",
    "    obj = class_constructor()\n",
    "    ret = obj.__del__()\n",
    "    type_gym_vector_vector_env_VectorEnv___del__ = getattr(ret, '__module__', 'none') + '.' + ret.__class__.__name__\n",
    "    print('✅ gym.vector.vector_env.VectorEnv.__del__: ', type(ret))\n",
    "except Exception as e:\n",
    "    type_gym_vector_vector_env_VectorEnv___del__ = '_syft_missing'\n",
    "    print('❌ gym.vector.vector_env.VectorEnv.__del__: Return unavailable')\n",
    "    print(\"  Please fix this return type code until there is no exception\")\n",
    "    print('  Error:', e)\n"
   ]
  },
  {
   "cell_type": "code",
   "execution_count": null,
   "id": "1fcd606b",
   "metadata": {},
   "outputs": [],
   "source": [
    "# gym.vector.vector_env.VectorEnv.__enter__\n",
    "try:\n",
    "    obj = class_constructor()\n",
    "    ret = obj.__enter__()\n",
    "    type_gym_vector_vector_env_VectorEnv___enter__ = getattr(ret, '__module__', 'none') + '.' + ret.__class__.__name__\n",
    "    print('✅ gym.vector.vector_env.VectorEnv.__enter__: ', type(ret))\n",
    "except Exception as e:\n",
    "    type_gym_vector_vector_env_VectorEnv___enter__ = '_syft_missing'\n",
    "    print('❌ gym.vector.vector_env.VectorEnv.__enter__: Return unavailable')\n",
    "    print(\"  Please fix this return type code until there is no exception\")\n",
    "    print('  Error:', e)\n"
   ]
  },
  {
   "cell_type": "code",
   "execution_count": null,
   "id": "ad333dfb",
   "metadata": {},
   "outputs": [],
   "source": [
    "# gym.vector.vector_env.VectorEnv.__exit__\n",
    "try:\n",
    "    obj = class_constructor()\n",
    "    ret = obj.__exit__()\n",
    "    type_gym_vector_vector_env_VectorEnv___exit__ = getattr(ret, '__module__', 'none') + '.' + ret.__class__.__name__\n",
    "    print('✅ gym.vector.vector_env.VectorEnv.__exit__: ', type(ret))\n",
    "except Exception as e:\n",
    "    type_gym_vector_vector_env_VectorEnv___exit__ = '_syft_missing'\n",
    "    print('❌ gym.vector.vector_env.VectorEnv.__exit__: Return unavailable')\n",
    "    print(\"  Please fix this return type code until there is no exception\")\n",
    "    print('  Error:', e)\n"
   ]
  },
  {
   "cell_type": "code",
   "execution_count": null,
   "id": "5fa9b22a",
   "metadata": {},
   "outputs": [],
   "source": [
    "# gym.vector.vector_env.VectorEnv.__repr__\n",
    "try:\n",
    "    obj = class_constructor()\n",
    "    ret = obj.__repr__()\n",
    "    type_gym_vector_vector_env_VectorEnv___repr__ = getattr(ret, '__module__', 'none') + '.' + ret.__class__.__name__\n",
    "    print('✅ gym.vector.vector_env.VectorEnv.__repr__: ', type(ret))\n",
    "except Exception as e:\n",
    "    type_gym_vector_vector_env_VectorEnv___repr__ = '_syft_missing'\n",
    "    print('❌ gym.vector.vector_env.VectorEnv.__repr__: Return unavailable')\n",
    "    print(\"  Please fix this return type code until there is no exception\")\n",
    "    print('  Error:', e)\n"
   ]
  },
  {
   "cell_type": "code",
   "execution_count": null,
   "id": "49bd408a",
   "metadata": {},
   "outputs": [],
   "source": [
    "# gym.vector.vector_env.VectorEnv.__str__\n",
    "try:\n",
    "    obj = class_constructor()\n",
    "    ret = obj.__str__()\n",
    "    type_gym_vector_vector_env_VectorEnv___str__ = getattr(ret, '__module__', 'none') + '.' + ret.__class__.__name__\n",
    "    print('✅ gym.vector.vector_env.VectorEnv.__str__: ', type(ret))\n",
    "except Exception as e:\n",
    "    type_gym_vector_vector_env_VectorEnv___str__ = '_syft_missing'\n",
    "    print('❌ gym.vector.vector_env.VectorEnv.__str__: Return unavailable')\n",
    "    print(\"  Please fix this return type code until there is no exception\")\n",
    "    print('  Error:', e)\n"
   ]
  },
  {
   "cell_type": "code",
   "execution_count": null,
   "id": "b662d156",
   "metadata": {},
   "outputs": [],
   "source": [
    "# gym.vector.vector_env.VectorEnv.close\n",
    "try:\n",
    "    obj = class_constructor()\n",
    "    ret = obj.close()\n",
    "    type_gym_vector_vector_env_VectorEnv_close = getattr(ret, '__module__', 'none') + '.' + ret.__class__.__name__\n",
    "    print('✅ gym.vector.vector_env.VectorEnv.close: ', type(ret))\n",
    "except Exception as e:\n",
    "    type_gym_vector_vector_env_VectorEnv_close = '_syft_missing'\n",
    "    print('❌ gym.vector.vector_env.VectorEnv.close: Return unavailable')\n",
    "    print(\"  Please fix this return type code until there is no exception\")\n",
    "    print('  Error:', e)\n"
   ]
  },
  {
   "cell_type": "code",
   "execution_count": null,
   "id": "f66f1141",
   "metadata": {},
   "outputs": [],
   "source": [
    "# gym.vector.vector_env.VectorEnv.close_extras\n",
    "try:\n",
    "    obj = class_constructor()\n",
    "    ret = obj.close_extras()\n",
    "    type_gym_vector_vector_env_VectorEnv_close_extras = getattr(ret, '__module__', 'none') + '.' + ret.__class__.__name__\n",
    "    print('✅ gym.vector.vector_env.VectorEnv.close_extras: ', type(ret))\n",
    "except Exception as e:\n",
    "    type_gym_vector_vector_env_VectorEnv_close_extras = '_syft_missing'\n",
    "    print('❌ gym.vector.vector_env.VectorEnv.close_extras: Return unavailable')\n",
    "    print(\"  Please fix this return type code until there is no exception\")\n",
    "    print('  Error:', e)\n"
   ]
  },
  {
   "cell_type": "code",
   "execution_count": null,
   "id": "0ae7311e",
   "metadata": {},
   "outputs": [],
   "source": [
    "# gym.vector.vector_env.VectorEnv.render\n",
    "try:\n",
    "    obj = class_constructor()\n",
    "    ret = obj.render()\n",
    "    type_gym_vector_vector_env_VectorEnv_render = getattr(ret, '__module__', 'none') + '.' + ret.__class__.__name__\n",
    "    print('✅ gym.vector.vector_env.VectorEnv.render: ', type(ret))\n",
    "except Exception as e:\n",
    "    type_gym_vector_vector_env_VectorEnv_render = '_syft_missing'\n",
    "    print('❌ gym.vector.vector_env.VectorEnv.render: Return unavailable')\n",
    "    print(\"  Please fix this return type code until there is no exception\")\n",
    "    print('  Error:', e)\n"
   ]
  },
  {
   "cell_type": "code",
   "execution_count": null,
   "id": "e414ebca",
   "metadata": {},
   "outputs": [],
   "source": [
    "# gym.vector.vector_env.VectorEnv.reset\n",
    "try:\n",
    "    obj = class_constructor()\n",
    "    ret = obj.reset()\n",
    "    type_gym_vector_vector_env_VectorEnv_reset = getattr(ret, '__module__', 'none') + '.' + ret.__class__.__name__\n",
    "    print('✅ gym.vector.vector_env.VectorEnv.reset: ', type(ret))\n",
    "except Exception as e:\n",
    "    type_gym_vector_vector_env_VectorEnv_reset = '_syft_missing'\n",
    "    print('❌ gym.vector.vector_env.VectorEnv.reset: Return unavailable')\n",
    "    print(\"  Please fix this return type code until there is no exception\")\n",
    "    print('  Error:', e)\n"
   ]
  },
  {
   "cell_type": "code",
   "execution_count": null,
   "id": "fa075d75",
   "metadata": {},
   "outputs": [],
   "source": [
    "# gym.vector.vector_env.VectorEnv.reset_async\n",
    "try:\n",
    "    obj = class_constructor()\n",
    "    ret = obj.reset_async()\n",
    "    type_gym_vector_vector_env_VectorEnv_reset_async = getattr(ret, '__module__', 'none') + '.' + ret.__class__.__name__\n",
    "    print('✅ gym.vector.vector_env.VectorEnv.reset_async: ', type(ret))\n",
    "except Exception as e:\n",
    "    type_gym_vector_vector_env_VectorEnv_reset_async = '_syft_missing'\n",
    "    print('❌ gym.vector.vector_env.VectorEnv.reset_async: Return unavailable')\n",
    "    print(\"  Please fix this return type code until there is no exception\")\n",
    "    print('  Error:', e)\n"
   ]
  },
  {
   "cell_type": "code",
   "execution_count": null,
   "id": "cae51f6c",
   "metadata": {},
   "outputs": [],
   "source": [
    "# gym.vector.vector_env.VectorEnv.reset_wait\n",
    "try:\n",
    "    obj = class_constructor()\n",
    "    ret = obj.reset_wait()\n",
    "    type_gym_vector_vector_env_VectorEnv_reset_wait = getattr(ret, '__module__', 'none') + '.' + ret.__class__.__name__\n",
    "    print('✅ gym.vector.vector_env.VectorEnv.reset_wait: ', type(ret))\n",
    "except Exception as e:\n",
    "    type_gym_vector_vector_env_VectorEnv_reset_wait = '_syft_missing'\n",
    "    print('❌ gym.vector.vector_env.VectorEnv.reset_wait: Return unavailable')\n",
    "    print(\"  Please fix this return type code until there is no exception\")\n",
    "    print('  Error:', e)\n"
   ]
  },
  {
   "cell_type": "code",
   "execution_count": null,
   "id": "c7c3d834",
   "metadata": {},
   "outputs": [],
   "source": [
    "# gym.vector.vector_env.VectorEnv.seed\n",
    "try:\n",
    "    obj = class_constructor()\n",
    "    ret = obj.seed()\n",
    "    type_gym_vector_vector_env_VectorEnv_seed = getattr(ret, '__module__', 'none') + '.' + ret.__class__.__name__\n",
    "    print('✅ gym.vector.vector_env.VectorEnv.seed: ', type(ret))\n",
    "except Exception as e:\n",
    "    type_gym_vector_vector_env_VectorEnv_seed = '_syft_missing'\n",
    "    print('❌ gym.vector.vector_env.VectorEnv.seed: Return unavailable')\n",
    "    print(\"  Please fix this return type code until there is no exception\")\n",
    "    print('  Error:', e)\n"
   ]
  },
  {
   "cell_type": "code",
   "execution_count": null,
   "id": "93d4e5ab",
   "metadata": {},
   "outputs": [],
   "source": [
    "# gym.vector.vector_env.VectorEnv.step\n",
    "try:\n",
    "    obj = class_constructor()\n",
    "    ret = obj.step()\n",
    "    type_gym_vector_vector_env_VectorEnv_step = getattr(ret, '__module__', 'none') + '.' + ret.__class__.__name__\n",
    "    print('✅ gym.vector.vector_env.VectorEnv.step: ', type(ret))\n",
    "except Exception as e:\n",
    "    type_gym_vector_vector_env_VectorEnv_step = '_syft_missing'\n",
    "    print('❌ gym.vector.vector_env.VectorEnv.step: Return unavailable')\n",
    "    print(\"  Please fix this return type code until there is no exception\")\n",
    "    print('  Error:', e)\n"
   ]
  },
  {
   "cell_type": "code",
   "execution_count": null,
   "id": "fec47b1c",
   "metadata": {},
   "outputs": [],
   "source": [
    "# gym.vector.vector_env.VectorEnv.step_async\n",
    "try:\n",
    "    obj = class_constructor()\n",
    "    ret = obj.step_async()\n",
    "    type_gym_vector_vector_env_VectorEnv_step_async = getattr(ret, '__module__', 'none') + '.' + ret.__class__.__name__\n",
    "    print('✅ gym.vector.vector_env.VectorEnv.step_async: ', type(ret))\n",
    "except Exception as e:\n",
    "    type_gym_vector_vector_env_VectorEnv_step_async = '_syft_missing'\n",
    "    print('❌ gym.vector.vector_env.VectorEnv.step_async: Return unavailable')\n",
    "    print(\"  Please fix this return type code until there is no exception\")\n",
    "    print('  Error:', e)\n"
   ]
  },
  {
   "cell_type": "code",
   "execution_count": null,
   "id": "e3ef1e7b",
   "metadata": {},
   "outputs": [],
   "source": [
    "# gym.vector.vector_env.VectorEnv.step_wait\n",
    "try:\n",
    "    obj = class_constructor()\n",
    "    ret = obj.step_wait()\n",
    "    type_gym_vector_vector_env_VectorEnv_step_wait = getattr(ret, '__module__', 'none') + '.' + ret.__class__.__name__\n",
    "    print('✅ gym.vector.vector_env.VectorEnv.step_wait: ', type(ret))\n",
    "except Exception as e:\n",
    "    type_gym_vector_vector_env_VectorEnv_step_wait = '_syft_missing'\n",
    "    print('❌ gym.vector.vector_env.VectorEnv.step_wait: Return unavailable')\n",
    "    print(\"  Please fix this return type code until there is no exception\")\n",
    "    print('  Error:', e)\n"
   ]
  },
  {
   "cell_type": "code",
   "execution_count": null,
   "id": "eeb461d1",
   "metadata": {},
   "outputs": [],
   "source": [
    "# gym.vector.vector_env.VectorEnv.unwrapped\n",
    "try:\n",
    "    obj = class_constructor()\n",
    "    ret = obj.unwrapped\n",
    "    type_gym_vector_vector_env_VectorEnv_unwrapped = getattr(ret, '__module__', 'none') + '.' + ret.__class__.__name__\n",
    "    print('✅ gym.vector.vector_env.VectorEnv.unwrapped:', type(ret))\n",
    "except Exception as e:\n",
    "    type_gym_vector_vector_env_VectorEnv_unwrapped = '_syft_missing'\n",
    "    print('❌ gym.vector.vector_env.VectorEnv.unwrapped: Return unavailable')\n",
    "    print(\"  Please fix this return type code until there is no exception\")\n",
    "    print('  Error:', e)\n"
   ]
  }
 ],
 "metadata": {},
 "nbformat": 4,
 "nbformat_minor": 5
}
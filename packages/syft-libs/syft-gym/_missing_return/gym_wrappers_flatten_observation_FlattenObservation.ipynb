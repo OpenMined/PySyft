{
 "cells": [
  {
   "cell_type": "markdown",
   "id": "ba09238c",
   "metadata": {},
   "source": [
    "## gym.wrappers.flatten_observation.FlattenObservation"
   ]
  },
  {
   "cell_type": "code",
   "execution_count": null,
   "id": "4db3b5e4",
   "metadata": {},
   "outputs": [],
   "source": [
    "import gym\n",
    "def class_constructor(*args, **kwargs):\n",
    "    obj = gym.wrappers.flatten_observation.FlattenObservation()\n",
    "    return obj\n"
   ]
  },
  {
   "cell_type": "code",
   "execution_count": null,
   "id": "ec2680b4",
   "metadata": {},
   "outputs": [],
   "source": [
    "# gym.wrappers.flatten_observation.FlattenObservation.__enter__\n",
    "try:\n",
    "    obj = class_constructor()\n",
    "    ret = obj.__enter__()\n",
    "    type_gym_wrappers_flatten_observation_FlattenObservation___enter__ = getattr(ret, '__module__', 'none') + '.' + ret.__class__.__name__\n",
    "    print('✅ gym.wrappers.flatten_observation.FlattenObservation.__enter__: ', type(ret))\n",
    "except Exception as e:\n",
    "    type_gym_wrappers_flatten_observation_FlattenObservation___enter__ = '_syft_missing'\n",
    "    print('❌ gym.wrappers.flatten_observation.FlattenObservation.__enter__: Return unavailable')\n",
    "    print(\"  Please fix this return type code until there is no exception\")\n",
    "    print('  Error:', e)\n"
   ]
  },
  {
   "cell_type": "code",
   "execution_count": null,
   "id": "cf737158",
   "metadata": {},
   "outputs": [],
   "source": [
    "# gym.wrappers.flatten_observation.FlattenObservation.__exit__\n",
    "try:\n",
    "    obj = class_constructor()\n",
    "    ret = obj.__exit__()\n",
    "    type_gym_wrappers_flatten_observation_FlattenObservation___exit__ = getattr(ret, '__module__', 'none') + '.' + ret.__class__.__name__\n",
    "    print('✅ gym.wrappers.flatten_observation.FlattenObservation.__exit__: ', type(ret))\n",
    "except Exception as e:\n",
    "    type_gym_wrappers_flatten_observation_FlattenObservation___exit__ = '_syft_missing'\n",
    "    print('❌ gym.wrappers.flatten_observation.FlattenObservation.__exit__: Return unavailable')\n",
    "    print(\"  Please fix this return type code until there is no exception\")\n",
    "    print('  Error:', e)\n"
   ]
  },
  {
   "cell_type": "code",
   "execution_count": null,
   "id": "9d287c1e",
   "metadata": {},
   "outputs": [],
   "source": [
    "# gym.wrappers.flatten_observation.FlattenObservation.__getattr__\n",
    "try:\n",
    "    obj = class_constructor()\n",
    "    ret = obj.__getattr__()\n",
    "    type_gym_wrappers_flatten_observation_FlattenObservation___getattr__ = getattr(ret, '__module__', 'none') + '.' + ret.__class__.__name__\n",
    "    print('✅ gym.wrappers.flatten_observation.FlattenObservation.__getattr__: ', type(ret))\n",
    "except Exception as e:\n",
    "    type_gym_wrappers_flatten_observation_FlattenObservation___getattr__ = '_syft_missing'\n",
    "    print('❌ gym.wrappers.flatten_observation.FlattenObservation.__getattr__: Return unavailable')\n",
    "    print(\"  Please fix this return type code until there is no exception\")\n",
    "    print('  Error:', e)\n"
   ]
  },
  {
   "cell_type": "code",
   "execution_count": null,
   "id": "e60315f1",
   "metadata": {},
   "outputs": [],
   "source": [
    "# gym.wrappers.flatten_observation.FlattenObservation.__repr__\n",
    "try:\n",
    "    obj = class_constructor()\n",
    "    ret = obj.__repr__()\n",
    "    type_gym_wrappers_flatten_observation_FlattenObservation___repr__ = getattr(ret, '__module__', 'none') + '.' + ret.__class__.__name__\n",
    "    print('✅ gym.wrappers.flatten_observation.FlattenObservation.__repr__: ', type(ret))\n",
    "except Exception as e:\n",
    "    type_gym_wrappers_flatten_observation_FlattenObservation___repr__ = '_syft_missing'\n",
    "    print('❌ gym.wrappers.flatten_observation.FlattenObservation.__repr__: Return unavailable')\n",
    "    print(\"  Please fix this return type code until there is no exception\")\n",
    "    print('  Error:', e)\n"
   ]
  },
  {
   "cell_type": "code",
   "execution_count": null,
   "id": "33eae677",
   "metadata": {},
   "outputs": [],
   "source": [
    "# gym.wrappers.flatten_observation.FlattenObservation.__str__\n",
    "try:\n",
    "    obj = class_constructor()\n",
    "    ret = obj.__str__()\n",
    "    type_gym_wrappers_flatten_observation_FlattenObservation___str__ = getattr(ret, '__module__', 'none') + '.' + ret.__class__.__name__\n",
    "    print('✅ gym.wrappers.flatten_observation.FlattenObservation.__str__: ', type(ret))\n",
    "except Exception as e:\n",
    "    type_gym_wrappers_flatten_observation_FlattenObservation___str__ = '_syft_missing'\n",
    "    print('❌ gym.wrappers.flatten_observation.FlattenObservation.__str__: Return unavailable')\n",
    "    print(\"  Please fix this return type code until there is no exception\")\n",
    "    print('  Error:', e)\n"
   ]
  },
  {
   "cell_type": "code",
   "execution_count": null,
   "id": "a969fa3b",
   "metadata": {},
   "outputs": [],
   "source": [
    "# gym.wrappers.flatten_observation.FlattenObservation.class_name\n",
    "try:\n",
    "    obj = class_constructor()\n",
    "    ret = obj.class_name()\n",
    "    type_gym_wrappers_flatten_observation_FlattenObservation_class_name = getattr(ret, '__module__', 'none') + '.' + ret.__class__.__name__\n",
    "    print('✅ gym.wrappers.flatten_observation.FlattenObservation.class_name: ', type(ret))\n",
    "except Exception as e:\n",
    "    type_gym_wrappers_flatten_observation_FlattenObservation_class_name = '_syft_missing'\n",
    "    print('❌ gym.wrappers.flatten_observation.FlattenObservation.class_name: Return unavailable')\n",
    "    print(\"  Please fix this return type code until there is no exception\")\n",
    "    print('  Error:', e)\n"
   ]
  },
  {
   "cell_type": "code",
   "execution_count": null,
   "id": "2795fcc5",
   "metadata": {},
   "outputs": [],
   "source": [
    "# gym.wrappers.flatten_observation.FlattenObservation.close\n",
    "try:\n",
    "    obj = class_constructor()\n",
    "    ret = obj.close()\n",
    "    type_gym_wrappers_flatten_observation_FlattenObservation_close = getattr(ret, '__module__', 'none') + '.' + ret.__class__.__name__\n",
    "    print('✅ gym.wrappers.flatten_observation.FlattenObservation.close: ', type(ret))\n",
    "except Exception as e:\n",
    "    type_gym_wrappers_flatten_observation_FlattenObservation_close = '_syft_missing'\n",
    "    print('❌ gym.wrappers.flatten_observation.FlattenObservation.close: Return unavailable')\n",
    "    print(\"  Please fix this return type code until there is no exception\")\n",
    "    print('  Error:', e)\n"
   ]
  },
  {
   "cell_type": "code",
   "execution_count": null,
   "id": "0155cb85",
   "metadata": {},
   "outputs": [],
   "source": [
    "# gym.wrappers.flatten_observation.FlattenObservation.compute_reward\n",
    "try:\n",
    "    obj = class_constructor()\n",
    "    ret = obj.compute_reward()\n",
    "    type_gym_wrappers_flatten_observation_FlattenObservation_compute_reward = getattr(ret, '__module__', 'none') + '.' + ret.__class__.__name__\n",
    "    print('✅ gym.wrappers.flatten_observation.FlattenObservation.compute_reward: ', type(ret))\n",
    "except Exception as e:\n",
    "    type_gym_wrappers_flatten_observation_FlattenObservation_compute_reward = '_syft_missing'\n",
    "    print('❌ gym.wrappers.flatten_observation.FlattenObservation.compute_reward: Return unavailable')\n",
    "    print(\"  Please fix this return type code until there is no exception\")\n",
    "    print('  Error:', e)\n"
   ]
  },
  {
   "cell_type": "code",
   "execution_count": null,
   "id": "e623aebc",
   "metadata": {},
   "outputs": [],
   "source": [
    "# gym.wrappers.flatten_observation.FlattenObservation.observation\n",
    "try:\n",
    "    obj = class_constructor()\n",
    "    ret = obj.observation()\n",
    "    type_gym_wrappers_flatten_observation_FlattenObservation_observation = getattr(ret, '__module__', 'none') + '.' + ret.__class__.__name__\n",
    "    print('✅ gym.wrappers.flatten_observation.FlattenObservation.observation: ', type(ret))\n",
    "except Exception as e:\n",
    "    type_gym_wrappers_flatten_observation_FlattenObservation_observation = '_syft_missing'\n",
    "    print('❌ gym.wrappers.flatten_observation.FlattenObservation.observation: Return unavailable')\n",
    "    print(\"  Please fix this return type code until there is no exception\")\n",
    "    print('  Error:', e)\n"
   ]
  },
  {
   "cell_type": "code",
   "execution_count": null,
   "id": "5bf64e2b",
   "metadata": {},
   "outputs": [],
   "source": [
    "# gym.wrappers.flatten_observation.FlattenObservation.render\n",
    "try:\n",
    "    obj = class_constructor()\n",
    "    ret = obj.render()\n",
    "    type_gym_wrappers_flatten_observation_FlattenObservation_render = getattr(ret, '__module__', 'none') + '.' + ret.__class__.__name__\n",
    "    print('✅ gym.wrappers.flatten_observation.FlattenObservation.render: ', type(ret))\n",
    "except Exception as e:\n",
    "    type_gym_wrappers_flatten_observation_FlattenObservation_render = '_syft_missing'\n",
    "    print('❌ gym.wrappers.flatten_observation.FlattenObservation.render: Return unavailable')\n",
    "    print(\"  Please fix this return type code until there is no exception\")\n",
    "    print('  Error:', e)\n"
   ]
  },
  {
   "cell_type": "code",
   "execution_count": null,
   "id": "c8b0bc80",
   "metadata": {},
   "outputs": [],
   "source": [
    "# gym.wrappers.flatten_observation.FlattenObservation.reset\n",
    "try:\n",
    "    obj = class_constructor()\n",
    "    ret = obj.reset()\n",
    "    type_gym_wrappers_flatten_observation_FlattenObservation_reset = getattr(ret, '__module__', 'none') + '.' + ret.__class__.__name__\n",
    "    print('✅ gym.wrappers.flatten_observation.FlattenObservation.reset: ', type(ret))\n",
    "except Exception as e:\n",
    "    type_gym_wrappers_flatten_observation_FlattenObservation_reset = '_syft_missing'\n",
    "    print('❌ gym.wrappers.flatten_observation.FlattenObservation.reset: Return unavailable')\n",
    "    print(\"  Please fix this return type code until there is no exception\")\n",
    "    print('  Error:', e)\n"
   ]
  },
  {
   "cell_type": "code",
   "execution_count": null,
   "id": "3255c1ec",
   "metadata": {},
   "outputs": [],
   "source": [
    "# gym.wrappers.flatten_observation.FlattenObservation.seed\n",
    "try:\n",
    "    obj = class_constructor()\n",
    "    ret = obj.seed()\n",
    "    type_gym_wrappers_flatten_observation_FlattenObservation_seed = getattr(ret, '__module__', 'none') + '.' + ret.__class__.__name__\n",
    "    print('✅ gym.wrappers.flatten_observation.FlattenObservation.seed: ', type(ret))\n",
    "except Exception as e:\n",
    "    type_gym_wrappers_flatten_observation_FlattenObservation_seed = '_syft_missing'\n",
    "    print('❌ gym.wrappers.flatten_observation.FlattenObservation.seed: Return unavailable')\n",
    "    print(\"  Please fix this return type code until there is no exception\")\n",
    "    print('  Error:', e)\n"
   ]
  },
  {
   "cell_type": "code",
   "execution_count": null,
   "id": "e4547f6f",
   "metadata": {},
   "outputs": [],
   "source": [
    "# gym.wrappers.flatten_observation.FlattenObservation.spec\n",
    "try:\n",
    "    obj = class_constructor()\n",
    "    ret = obj.spec\n",
    "    type_gym_wrappers_flatten_observation_FlattenObservation_spec = getattr(ret, '__module__', 'none') + '.' + ret.__class__.__name__\n",
    "    print('✅ gym.wrappers.flatten_observation.FlattenObservation.spec:', type(ret))\n",
    "except Exception as e:\n",
    "    type_gym_wrappers_flatten_observation_FlattenObservation_spec = '_syft_missing'\n",
    "    print('❌ gym.wrappers.flatten_observation.FlattenObservation.spec: Return unavailable')\n",
    "    print(\"  Please fix this return type code until there is no exception\")\n",
    "    print('  Error:', e)\n"
   ]
  },
  {
   "cell_type": "code",
   "execution_count": null,
   "id": "3ddae8ac",
   "metadata": {},
   "outputs": [],
   "source": [
    "# gym.wrappers.flatten_observation.FlattenObservation.step\n",
    "try:\n",
    "    obj = class_constructor()\n",
    "    ret = obj.step()\n",
    "    type_gym_wrappers_flatten_observation_FlattenObservation_step = getattr(ret, '__module__', 'none') + '.' + ret.__class__.__name__\n",
    "    print('✅ gym.wrappers.flatten_observation.FlattenObservation.step: ', type(ret))\n",
    "except Exception as e:\n",
    "    type_gym_wrappers_flatten_observation_FlattenObservation_step = '_syft_missing'\n",
    "    print('❌ gym.wrappers.flatten_observation.FlattenObservation.step: Return unavailable')\n",
    "    print(\"  Please fix this return type code until there is no exception\")\n",
    "    print('  Error:', e)\n"
   ]
  },
  {
   "cell_type": "code",
   "execution_count": null,
   "id": "522f441d",
   "metadata": {},
   "outputs": [],
   "source": [
    "# gym.wrappers.flatten_observation.FlattenObservation.unwrapped\n",
    "try:\n",
    "    obj = class_constructor()\n",
    "    ret = obj.unwrapped\n",
    "    type_gym_wrappers_flatten_observation_FlattenObservation_unwrapped = getattr(ret, '__module__', 'none') + '.' + ret.__class__.__name__\n",
    "    print('✅ gym.wrappers.flatten_observation.FlattenObservation.unwrapped:', type(ret))\n",
    "except Exception as e:\n",
    "    type_gym_wrappers_flatten_observation_FlattenObservation_unwrapped = '_syft_missing'\n",
    "    print('❌ gym.wrappers.flatten_observation.FlattenObservation.unwrapped: Return unavailable')\n",
    "    print(\"  Please fix this return type code until there is no exception\")\n",
    "    print('  Error:', e)\n"
   ]
  }
 ],
 "metadata": {},
 "nbformat": 4,
 "nbformat_minor": 5
}
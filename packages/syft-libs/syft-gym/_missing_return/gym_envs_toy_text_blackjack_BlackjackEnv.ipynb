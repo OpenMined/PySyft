{
 "cells": [
  {
   "cell_type": "markdown",
   "id": "45d395d2",
   "metadata": {},
   "source": [
    "## gym.envs.toy_text.blackjack.BlackjackEnv"
   ]
  },
  {
   "cell_type": "code",
   "execution_count": null,
   "id": "a17f1a38",
   "metadata": {},
   "outputs": [],
   "source": [
    "import gym\n",
    "def class_constructor(*args, **kwargs):\n",
    "    obj = gym.envs.toy_text.blackjack.BlackjackEnv()\n",
    "    return obj\n"
   ]
  },
  {
   "cell_type": "code",
   "execution_count": null,
   "id": "7834d20c",
   "metadata": {},
   "outputs": [],
   "source": [
    "# gym.envs.toy_text.blackjack.BlackjackEnv.__enter__\n",
    "try:\n",
    "    obj = class_constructor()\n",
    "    ret = obj.__enter__()\n",
    "    type_gym_envs_toy_text_blackjack_BlackjackEnv___enter__ = getattr(ret, '__module__', 'none') + '.' + ret.__class__.__name__\n",
    "    print('✅ gym.envs.toy_text.blackjack.BlackjackEnv.__enter__: ', type(ret))\n",
    "except Exception as e:\n",
    "    type_gym_envs_toy_text_blackjack_BlackjackEnv___enter__ = '_syft_missing'\n",
    "    print('❌ gym.envs.toy_text.blackjack.BlackjackEnv.__enter__: Return unavailable')\n",
    "    print(\"  Please fix this return type code until there is no exception\")\n",
    "    print('  Error:', e)\n"
   ]
  },
  {
   "cell_type": "code",
   "execution_count": null,
   "id": "88cb75c5",
   "metadata": {},
   "outputs": [],
   "source": [
    "# gym.envs.toy_text.blackjack.BlackjackEnv.__exit__\n",
    "try:\n",
    "    obj = class_constructor()\n",
    "    ret = obj.__exit__()\n",
    "    type_gym_envs_toy_text_blackjack_BlackjackEnv___exit__ = getattr(ret, '__module__', 'none') + '.' + ret.__class__.__name__\n",
    "    print('✅ gym.envs.toy_text.blackjack.BlackjackEnv.__exit__: ', type(ret))\n",
    "except Exception as e:\n",
    "    type_gym_envs_toy_text_blackjack_BlackjackEnv___exit__ = '_syft_missing'\n",
    "    print('❌ gym.envs.toy_text.blackjack.BlackjackEnv.__exit__: Return unavailable')\n",
    "    print(\"  Please fix this return type code until there is no exception\")\n",
    "    print('  Error:', e)\n"
   ]
  },
  {
   "cell_type": "code",
   "execution_count": null,
   "id": "ce8a0934",
   "metadata": {},
   "outputs": [],
   "source": [
    "# gym.envs.toy_text.blackjack.BlackjackEnv.__str__\n",
    "try:\n",
    "    obj = class_constructor()\n",
    "    ret = obj.__str__()\n",
    "    type_gym_envs_toy_text_blackjack_BlackjackEnv___str__ = getattr(ret, '__module__', 'none') + '.' + ret.__class__.__name__\n",
    "    print('✅ gym.envs.toy_text.blackjack.BlackjackEnv.__str__: ', type(ret))\n",
    "except Exception as e:\n",
    "    type_gym_envs_toy_text_blackjack_BlackjackEnv___str__ = '_syft_missing'\n",
    "    print('❌ gym.envs.toy_text.blackjack.BlackjackEnv.__str__: Return unavailable')\n",
    "    print(\"  Please fix this return type code until there is no exception\")\n",
    "    print('  Error:', e)\n"
   ]
  },
  {
   "cell_type": "code",
   "execution_count": null,
   "id": "e964f48d",
   "metadata": {},
   "outputs": [],
   "source": [
    "# gym.envs.toy_text.blackjack.BlackjackEnv._get_obs\n",
    "try:\n",
    "    obj = class_constructor()\n",
    "    ret = obj._get_obs()\n",
    "    type_gym_envs_toy_text_blackjack_BlackjackEnv__get_obs = getattr(ret, '__module__', 'none') + '.' + ret.__class__.__name__\n",
    "    print('✅ gym.envs.toy_text.blackjack.BlackjackEnv._get_obs: ', type(ret))\n",
    "except Exception as e:\n",
    "    type_gym_envs_toy_text_blackjack_BlackjackEnv__get_obs = '_syft_missing'\n",
    "    print('❌ gym.envs.toy_text.blackjack.BlackjackEnv._get_obs: Return unavailable')\n",
    "    print(\"  Please fix this return type code until there is no exception\")\n",
    "    print('  Error:', e)\n"
   ]
  },
  {
   "cell_type": "code",
   "execution_count": null,
   "id": "5054b419",
   "metadata": {},
   "outputs": [],
   "source": [
    "# gym.envs.toy_text.blackjack.BlackjackEnv.close\n",
    "try:\n",
    "    obj = class_constructor()\n",
    "    ret = obj.close()\n",
    "    type_gym_envs_toy_text_blackjack_BlackjackEnv_close = getattr(ret, '__module__', 'none') + '.' + ret.__class__.__name__\n",
    "    print('✅ gym.envs.toy_text.blackjack.BlackjackEnv.close: ', type(ret))\n",
    "except Exception as e:\n",
    "    type_gym_envs_toy_text_blackjack_BlackjackEnv_close = '_syft_missing'\n",
    "    print('❌ gym.envs.toy_text.blackjack.BlackjackEnv.close: Return unavailable')\n",
    "    print(\"  Please fix this return type code until there is no exception\")\n",
    "    print('  Error:', e)\n"
   ]
  },
  {
   "cell_type": "code",
   "execution_count": null,
   "id": "a7eddee3",
   "metadata": {},
   "outputs": [],
   "source": [
    "# gym.envs.toy_text.blackjack.BlackjackEnv.render\n",
    "try:\n",
    "    obj = class_constructor()\n",
    "    ret = obj.render()\n",
    "    type_gym_envs_toy_text_blackjack_BlackjackEnv_render = getattr(ret, '__module__', 'none') + '.' + ret.__class__.__name__\n",
    "    print('✅ gym.envs.toy_text.blackjack.BlackjackEnv.render: ', type(ret))\n",
    "except Exception as e:\n",
    "    type_gym_envs_toy_text_blackjack_BlackjackEnv_render = '_syft_missing'\n",
    "    print('❌ gym.envs.toy_text.blackjack.BlackjackEnv.render: Return unavailable')\n",
    "    print(\"  Please fix this return type code until there is no exception\")\n",
    "    print('  Error:', e)\n"
   ]
  },
  {
   "cell_type": "code",
   "execution_count": null,
   "id": "1d662543",
   "metadata": {},
   "outputs": [],
   "source": [
    "# gym.envs.toy_text.blackjack.BlackjackEnv.reset\n",
    "try:\n",
    "    obj = class_constructor()\n",
    "    ret = obj.reset()\n",
    "    type_gym_envs_toy_text_blackjack_BlackjackEnv_reset = getattr(ret, '__module__', 'none') + '.' + ret.__class__.__name__\n",
    "    print('✅ gym.envs.toy_text.blackjack.BlackjackEnv.reset: ', type(ret))\n",
    "except Exception as e:\n",
    "    type_gym_envs_toy_text_blackjack_BlackjackEnv_reset = '_syft_missing'\n",
    "    print('❌ gym.envs.toy_text.blackjack.BlackjackEnv.reset: Return unavailable')\n",
    "    print(\"  Please fix this return type code until there is no exception\")\n",
    "    print('  Error:', e)\n"
   ]
  },
  {
   "cell_type": "code",
   "execution_count": null,
   "id": "f8f41bb6",
   "metadata": {},
   "outputs": [],
   "source": [
    "# gym.envs.toy_text.blackjack.BlackjackEnv.seed\n",
    "try:\n",
    "    obj = class_constructor()\n",
    "    ret = obj.seed()\n",
    "    type_gym_envs_toy_text_blackjack_BlackjackEnv_seed = getattr(ret, '__module__', 'none') + '.' + ret.__class__.__name__\n",
    "    print('✅ gym.envs.toy_text.blackjack.BlackjackEnv.seed: ', type(ret))\n",
    "except Exception as e:\n",
    "    type_gym_envs_toy_text_blackjack_BlackjackEnv_seed = '_syft_missing'\n",
    "    print('❌ gym.envs.toy_text.blackjack.BlackjackEnv.seed: Return unavailable')\n",
    "    print(\"  Please fix this return type code until there is no exception\")\n",
    "    print('  Error:', e)\n"
   ]
  },
  {
   "cell_type": "code",
   "execution_count": null,
   "id": "16baab9f",
   "metadata": {},
   "outputs": [],
   "source": [
    "# gym.envs.toy_text.blackjack.BlackjackEnv.step\n",
    "try:\n",
    "    obj = class_constructor()\n",
    "    ret = obj.step()\n",
    "    type_gym_envs_toy_text_blackjack_BlackjackEnv_step = getattr(ret, '__module__', 'none') + '.' + ret.__class__.__name__\n",
    "    print('✅ gym.envs.toy_text.blackjack.BlackjackEnv.step: ', type(ret))\n",
    "except Exception as e:\n",
    "    type_gym_envs_toy_text_blackjack_BlackjackEnv_step = '_syft_missing'\n",
    "    print('❌ gym.envs.toy_text.blackjack.BlackjackEnv.step: Return unavailable')\n",
    "    print(\"  Please fix this return type code until there is no exception\")\n",
    "    print('  Error:', e)\n"
   ]
  },
  {
   "cell_type": "code",
   "execution_count": null,
   "id": "e720b1be",
   "metadata": {},
   "outputs": [],
   "source": [
    "# gym.envs.toy_text.blackjack.BlackjackEnv.unwrapped\n",
    "try:\n",
    "    obj = class_constructor()\n",
    "    ret = obj.unwrapped\n",
    "    type_gym_envs_toy_text_blackjack_BlackjackEnv_unwrapped = getattr(ret, '__module__', 'none') + '.' + ret.__class__.__name__\n",
    "    print('✅ gym.envs.toy_text.blackjack.BlackjackEnv.unwrapped:', type(ret))\n",
    "except Exception as e:\n",
    "    type_gym_envs_toy_text_blackjack_BlackjackEnv_unwrapped = '_syft_missing'\n",
    "    print('❌ gym.envs.toy_text.blackjack.BlackjackEnv.unwrapped: Return unavailable')\n",
    "    print(\"  Please fix this return type code until there is no exception\")\n",
    "    print('  Error:', e)\n"
   ]
  }
 ],
 "metadata": {},
 "nbformat": 4,
 "nbformat_minor": 5
}
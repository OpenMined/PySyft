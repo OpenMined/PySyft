{
 "cells": [
  {
   "cell_type": "markdown",
   "id": "ee0fa5a8",
   "metadata": {},
   "source": [
    "## gym.core.ActionWrapper"
   ]
  },
  {
   "cell_type": "code",
   "execution_count": null,
   "id": "56c2779d",
   "metadata": {},
   "outputs": [],
   "source": [
    "import gym\n",
    "def class_constructor(*args, **kwargs):\n",
    "    obj = gym.core.ActionWrapper()\n",
    "    return obj\n"
   ]
  },
  {
   "cell_type": "code",
   "execution_count": null,
   "id": "379b8c41",
   "metadata": {},
   "outputs": [],
   "source": [
    "# gym.core.ActionWrapper.__enter__\n",
    "try:\n",
    "    obj = class_constructor()\n",
    "    ret = obj.__enter__()\n",
    "    type_gym_core_ActionWrapper___enter__ = getattr(ret, '__module__', 'none') + '.' + ret.__class__.__name__\n",
    "    print('✅ gym.core.ActionWrapper.__enter__: ', type(ret))\n",
    "except Exception as e:\n",
    "    type_gym_core_ActionWrapper___enter__ = '_syft_missing'\n",
    "    print('❌ gym.core.ActionWrapper.__enter__: Return unavailable')\n",
    "    print(\"  Please fix this return type code until there is no exception\")\n",
    "    print('  Error:', e)\n"
   ]
  },
  {
   "cell_type": "code",
   "execution_count": null,
   "id": "87dd2d6d",
   "metadata": {},
   "outputs": [],
   "source": [
    "# gym.core.ActionWrapper.__exit__\n",
    "try:\n",
    "    obj = class_constructor()\n",
    "    ret = obj.__exit__()\n",
    "    type_gym_core_ActionWrapper___exit__ = getattr(ret, '__module__', 'none') + '.' + ret.__class__.__name__\n",
    "    print('✅ gym.core.ActionWrapper.__exit__: ', type(ret))\n",
    "except Exception as e:\n",
    "    type_gym_core_ActionWrapper___exit__ = '_syft_missing'\n",
    "    print('❌ gym.core.ActionWrapper.__exit__: Return unavailable')\n",
    "    print(\"  Please fix this return type code until there is no exception\")\n",
    "    print('  Error:', e)\n"
   ]
  },
  {
   "cell_type": "code",
   "execution_count": null,
   "id": "18e2f2e8",
   "metadata": {},
   "outputs": [],
   "source": [
    "# gym.core.ActionWrapper.__getattr__\n",
    "try:\n",
    "    obj = class_constructor()\n",
    "    ret = obj.__getattr__()\n",
    "    type_gym_core_ActionWrapper___getattr__ = getattr(ret, '__module__', 'none') + '.' + ret.__class__.__name__\n",
    "    print('✅ gym.core.ActionWrapper.__getattr__: ', type(ret))\n",
    "except Exception as e:\n",
    "    type_gym_core_ActionWrapper___getattr__ = '_syft_missing'\n",
    "    print('❌ gym.core.ActionWrapper.__getattr__: Return unavailable')\n",
    "    print(\"  Please fix this return type code until there is no exception\")\n",
    "    print('  Error:', e)\n"
   ]
  },
  {
   "cell_type": "code",
   "execution_count": null,
   "id": "6afc086e",
   "metadata": {},
   "outputs": [],
   "source": [
    "# gym.core.ActionWrapper.__repr__\n",
    "try:\n",
    "    obj = class_constructor()\n",
    "    ret = obj.__repr__()\n",
    "    type_gym_core_ActionWrapper___repr__ = getattr(ret, '__module__', 'none') + '.' + ret.__class__.__name__\n",
    "    print('✅ gym.core.ActionWrapper.__repr__: ', type(ret))\n",
    "except Exception as e:\n",
    "    type_gym_core_ActionWrapper___repr__ = '_syft_missing'\n",
    "    print('❌ gym.core.ActionWrapper.__repr__: Return unavailable')\n",
    "    print(\"  Please fix this return type code until there is no exception\")\n",
    "    print('  Error:', e)\n"
   ]
  },
  {
   "cell_type": "code",
   "execution_count": null,
   "id": "ca1f51ad",
   "metadata": {},
   "outputs": [],
   "source": [
    "# gym.core.ActionWrapper.__str__\n",
    "try:\n",
    "    obj = class_constructor()\n",
    "    ret = obj.__str__()\n",
    "    type_gym_core_ActionWrapper___str__ = getattr(ret, '__module__', 'none') + '.' + ret.__class__.__name__\n",
    "    print('✅ gym.core.ActionWrapper.__str__: ', type(ret))\n",
    "except Exception as e:\n",
    "    type_gym_core_ActionWrapper___str__ = '_syft_missing'\n",
    "    print('❌ gym.core.ActionWrapper.__str__: Return unavailable')\n",
    "    print(\"  Please fix this return type code until there is no exception\")\n",
    "    print('  Error:', e)\n"
   ]
  },
  {
   "cell_type": "code",
   "execution_count": null,
   "id": "13f9e844",
   "metadata": {},
   "outputs": [],
   "source": [
    "# gym.core.ActionWrapper.action\n",
    "try:\n",
    "    obj = class_constructor()\n",
    "    ret = obj.action()\n",
    "    type_gym_core_ActionWrapper_action = getattr(ret, '__module__', 'none') + '.' + ret.__class__.__name__\n",
    "    print('✅ gym.core.ActionWrapper.action: ', type(ret))\n",
    "except Exception as e:\n",
    "    type_gym_core_ActionWrapper_action = '_syft_missing'\n",
    "    print('❌ gym.core.ActionWrapper.action: Return unavailable')\n",
    "    print(\"  Please fix this return type code until there is no exception\")\n",
    "    print('  Error:', e)\n"
   ]
  },
  {
   "cell_type": "code",
   "execution_count": null,
   "id": "b7df1ba6",
   "metadata": {},
   "outputs": [],
   "source": [
    "# gym.core.ActionWrapper.class_name\n",
    "try:\n",
    "    obj = class_constructor()\n",
    "    ret = obj.class_name()\n",
    "    type_gym_core_ActionWrapper_class_name = getattr(ret, '__module__', 'none') + '.' + ret.__class__.__name__\n",
    "    print('✅ gym.core.ActionWrapper.class_name: ', type(ret))\n",
    "except Exception as e:\n",
    "    type_gym_core_ActionWrapper_class_name = '_syft_missing'\n",
    "    print('❌ gym.core.ActionWrapper.class_name: Return unavailable')\n",
    "    print(\"  Please fix this return type code until there is no exception\")\n",
    "    print('  Error:', e)\n"
   ]
  },
  {
   "cell_type": "code",
   "execution_count": null,
   "id": "c618777c",
   "metadata": {},
   "outputs": [],
   "source": [
    "# gym.core.ActionWrapper.close\n",
    "try:\n",
    "    obj = class_constructor()\n",
    "    ret = obj.close()\n",
    "    type_gym_core_ActionWrapper_close = getattr(ret, '__module__', 'none') + '.' + ret.__class__.__name__\n",
    "    print('✅ gym.core.ActionWrapper.close: ', type(ret))\n",
    "except Exception as e:\n",
    "    type_gym_core_ActionWrapper_close = '_syft_missing'\n",
    "    print('❌ gym.core.ActionWrapper.close: Return unavailable')\n",
    "    print(\"  Please fix this return type code until there is no exception\")\n",
    "    print('  Error:', e)\n"
   ]
  },
  {
   "cell_type": "code",
   "execution_count": null,
   "id": "57695030",
   "metadata": {},
   "outputs": [],
   "source": [
    "# gym.core.ActionWrapper.compute_reward\n",
    "try:\n",
    "    obj = class_constructor()\n",
    "    ret = obj.compute_reward()\n",
    "    type_gym_core_ActionWrapper_compute_reward = getattr(ret, '__module__', 'none') + '.' + ret.__class__.__name__\n",
    "    print('✅ gym.core.ActionWrapper.compute_reward: ', type(ret))\n",
    "except Exception as e:\n",
    "    type_gym_core_ActionWrapper_compute_reward = '_syft_missing'\n",
    "    print('❌ gym.core.ActionWrapper.compute_reward: Return unavailable')\n",
    "    print(\"  Please fix this return type code until there is no exception\")\n",
    "    print('  Error:', e)\n"
   ]
  },
  {
   "cell_type": "code",
   "execution_count": null,
   "id": "1c15f9fa",
   "metadata": {},
   "outputs": [],
   "source": [
    "# gym.core.ActionWrapper.render\n",
    "try:\n",
    "    obj = class_constructor()\n",
    "    ret = obj.render()\n",
    "    type_gym_core_ActionWrapper_render = getattr(ret, '__module__', 'none') + '.' + ret.__class__.__name__\n",
    "    print('✅ gym.core.ActionWrapper.render: ', type(ret))\n",
    "except Exception as e:\n",
    "    type_gym_core_ActionWrapper_render = '_syft_missing'\n",
    "    print('❌ gym.core.ActionWrapper.render: Return unavailable')\n",
    "    print(\"  Please fix this return type code until there is no exception\")\n",
    "    print('  Error:', e)\n"
   ]
  },
  {
   "cell_type": "code",
   "execution_count": null,
   "id": "27722cfd",
   "metadata": {},
   "outputs": [],
   "source": [
    "# gym.core.ActionWrapper.reset\n",
    "try:\n",
    "    obj = class_constructor()\n",
    "    ret = obj.reset()\n",
    "    type_gym_core_ActionWrapper_reset = getattr(ret, '__module__', 'none') + '.' + ret.__class__.__name__\n",
    "    print('✅ gym.core.ActionWrapper.reset: ', type(ret))\n",
    "except Exception as e:\n",
    "    type_gym_core_ActionWrapper_reset = '_syft_missing'\n",
    "    print('❌ gym.core.ActionWrapper.reset: Return unavailable')\n",
    "    print(\"  Please fix this return type code until there is no exception\")\n",
    "    print('  Error:', e)\n"
   ]
  },
  {
   "cell_type": "code",
   "execution_count": null,
   "id": "cbc8edee",
   "metadata": {},
   "outputs": [],
   "source": [
    "# gym.core.ActionWrapper.reverse_action\n",
    "try:\n",
    "    obj = class_constructor()\n",
    "    ret = obj.reverse_action()\n",
    "    type_gym_core_ActionWrapper_reverse_action = getattr(ret, '__module__', 'none') + '.' + ret.__class__.__name__\n",
    "    print('✅ gym.core.ActionWrapper.reverse_action: ', type(ret))\n",
    "except Exception as e:\n",
    "    type_gym_core_ActionWrapper_reverse_action = '_syft_missing'\n",
    "    print('❌ gym.core.ActionWrapper.reverse_action: Return unavailable')\n",
    "    print(\"  Please fix this return type code until there is no exception\")\n",
    "    print('  Error:', e)\n"
   ]
  },
  {
   "cell_type": "code",
   "execution_count": null,
   "id": "8dbb7f22",
   "metadata": {},
   "outputs": [],
   "source": [
    "# gym.core.ActionWrapper.seed\n",
    "try:\n",
    "    obj = class_constructor()\n",
    "    ret = obj.seed()\n",
    "    type_gym_core_ActionWrapper_seed = getattr(ret, '__module__', 'none') + '.' + ret.__class__.__name__\n",
    "    print('✅ gym.core.ActionWrapper.seed: ', type(ret))\n",
    "except Exception as e:\n",
    "    type_gym_core_ActionWrapper_seed = '_syft_missing'\n",
    "    print('❌ gym.core.ActionWrapper.seed: Return unavailable')\n",
    "    print(\"  Please fix this return type code until there is no exception\")\n",
    "    print('  Error:', e)\n"
   ]
  },
  {
   "cell_type": "code",
   "execution_count": null,
   "id": "a6f37bfd",
   "metadata": {},
   "outputs": [],
   "source": [
    "# gym.core.ActionWrapper.spec\n",
    "try:\n",
    "    obj = class_constructor()\n",
    "    ret = obj.spec\n",
    "    type_gym_core_ActionWrapper_spec = getattr(ret, '__module__', 'none') + '.' + ret.__class__.__name__\n",
    "    print('✅ gym.core.ActionWrapper.spec:', type(ret))\n",
    "except Exception as e:\n",
    "    type_gym_core_ActionWrapper_spec = '_syft_missing'\n",
    "    print('❌ gym.core.ActionWrapper.spec: Return unavailable')\n",
    "    print(\"  Please fix this return type code until there is no exception\")\n",
    "    print('  Error:', e)\n"
   ]
  },
  {
   "cell_type": "code",
   "execution_count": null,
   "id": "97344e37",
   "metadata": {},
   "outputs": [],
   "source": [
    "# gym.core.ActionWrapper.step\n",
    "try:\n",
    "    obj = class_constructor()\n",
    "    ret = obj.step()\n",
    "    type_gym_core_ActionWrapper_step = getattr(ret, '__module__', 'none') + '.' + ret.__class__.__name__\n",
    "    print('✅ gym.core.ActionWrapper.step: ', type(ret))\n",
    "except Exception as e:\n",
    "    type_gym_core_ActionWrapper_step = '_syft_missing'\n",
    "    print('❌ gym.core.ActionWrapper.step: Return unavailable')\n",
    "    print(\"  Please fix this return type code until there is no exception\")\n",
    "    print('  Error:', e)\n"
   ]
  },
  {
   "cell_type": "code",
   "execution_count": null,
   "id": "3c3d52ac",
   "metadata": {},
   "outputs": [],
   "source": [
    "# gym.core.ActionWrapper.unwrapped\n",
    "try:\n",
    "    obj = class_constructor()\n",
    "    ret = obj.unwrapped\n",
    "    type_gym_core_ActionWrapper_unwrapped = getattr(ret, '__module__', 'none') + '.' + ret.__class__.__name__\n",
    "    print('✅ gym.core.ActionWrapper.unwrapped:', type(ret))\n",
    "except Exception as e:\n",
    "    type_gym_core_ActionWrapper_unwrapped = '_syft_missing'\n",
    "    print('❌ gym.core.ActionWrapper.unwrapped: Return unavailable')\n",
    "    print(\"  Please fix this return type code until there is no exception\")\n",
    "    print('  Error:', e)\n"
   ]
  }
 ],
 "metadata": {},
 "nbformat": 4,
 "nbformat_minor": 5
}
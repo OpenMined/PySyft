{
 "cells": [
  {
   "cell_type": "markdown",
   "id": "89fff3eb",
   "metadata": {},
   "source": [
    "## gym.utils.closer.Closer"
   ]
  },
  {
   "cell_type": "code",
   "execution_count": null,
   "id": "af2749c8",
   "metadata": {},
   "outputs": [],
   "source": [
    "import gym\n",
    "def class_constructor(*args, **kwargs):\n",
    "    obj = gym.utils.closer.Closer()\n",
    "    return obj\n"
   ]
  },
  {
   "cell_type": "code",
   "execution_count": null,
   "id": "f2721424",
   "metadata": {},
   "outputs": [],
   "source": [
    "# gym.utils.closer.Closer.close\n",
    "try:\n",
    "    obj = class_constructor()\n",
    "    ret = obj.close()\n",
    "    type_gym_utils_closer_Closer_close = getattr(ret, '__module__', 'none') + '.' + ret.__class__.__name__\n",
    "    print('✅ gym.utils.closer.Closer.close: ', type(ret))\n",
    "except Exception as e:\n",
    "    type_gym_utils_closer_Closer_close = '_syft_missing'\n",
    "    print('❌ gym.utils.closer.Closer.close: Return unavailable')\n",
    "    print(\"  Please fix this return type code until there is no exception\")\n",
    "    print('  Error:', e)\n"
   ]
  },
  {
   "cell_type": "code",
   "execution_count": null,
   "id": "cadccb3f",
   "metadata": {},
   "outputs": [],
   "source": [
    "# gym.utils.closer.Closer.generate_next_id\n",
    "try:\n",
    "    obj = class_constructor()\n",
    "    ret = obj.generate_next_id()\n",
    "    type_gym_utils_closer_Closer_generate_next_id = getattr(ret, '__module__', 'none') + '.' + ret.__class__.__name__\n",
    "    print('✅ gym.utils.closer.Closer.generate_next_id: ', type(ret))\n",
    "except Exception as e:\n",
    "    type_gym_utils_closer_Closer_generate_next_id = '_syft_missing'\n",
    "    print('❌ gym.utils.closer.Closer.generate_next_id: Return unavailable')\n",
    "    print(\"  Please fix this return type code until there is no exception\")\n",
    "    print('  Error:', e)\n"
   ]
  },
  {
   "cell_type": "code",
   "execution_count": null,
   "id": "71e3576d",
   "metadata": {},
   "outputs": [],
   "source": [
    "# gym.utils.closer.Closer.register\n",
    "try:\n",
    "    obj = class_constructor()\n",
    "    ret = obj.register()\n",
    "    type_gym_utils_closer_Closer_register = getattr(ret, '__module__', 'none') + '.' + ret.__class__.__name__\n",
    "    print('✅ gym.utils.closer.Closer.register: ', type(ret))\n",
    "except Exception as e:\n",
    "    type_gym_utils_closer_Closer_register = '_syft_missing'\n",
    "    print('❌ gym.utils.closer.Closer.register: Return unavailable')\n",
    "    print(\"  Please fix this return type code until there is no exception\")\n",
    "    print('  Error:', e)\n"
   ]
  },
  {
   "cell_type": "code",
   "execution_count": null,
   "id": "b1cc523d",
   "metadata": {},
   "outputs": [],
   "source": [
    "# gym.utils.closer.Closer.unregister\n",
    "try:\n",
    "    obj = class_constructor()\n",
    "    ret = obj.unregister()\n",
    "    type_gym_utils_closer_Closer_unregister = getattr(ret, '__module__', 'none') + '.' + ret.__class__.__name__\n",
    "    print('✅ gym.utils.closer.Closer.unregister: ', type(ret))\n",
    "except Exception as e:\n",
    "    type_gym_utils_closer_Closer_unregister = '_syft_missing'\n",
    "    print('❌ gym.utils.closer.Closer.unregister: Return unavailable')\n",
    "    print(\"  Please fix this return type code until there is no exception\")\n",
    "    print('  Error:', e)\n"
   ]
  }
 ],
 "metadata": {},
 "nbformat": 4,
 "nbformat_minor": 5
}
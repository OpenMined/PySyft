{
 "cells": [
  {
   "cell_type": "markdown",
   "id": "7a92815c",
   "metadata": {},
   "source": [
    "## gym.wrappers.monitoring.video_recorder.TextEncoder"
   ]
  },
  {
   "cell_type": "code",
   "execution_count": null,
   "id": "d89af55d",
   "metadata": {},
   "outputs": [],
   "source": [
    "import gym\n",
    "def class_constructor(*args, **kwargs):\n",
    "    obj = gym.wrappers.monitoring.video_recorder.TextEncoder()\n",
    "    return obj\n"
   ]
  },
  {
   "cell_type": "code",
   "execution_count": null,
   "id": "09c8c808",
   "metadata": {},
   "outputs": [],
   "source": [
    "# gym.wrappers.monitoring.video_recorder.TextEncoder.capture_frame\n",
    "try:\n",
    "    obj = class_constructor()\n",
    "    ret = obj.capture_frame()\n",
    "    type_gym_wrappers_monitoring_video_recorder_TextEncoder_capture_frame = getattr(ret, '__module__', 'none') + '.' + ret.__class__.__name__\n",
    "    print('✅ gym.wrappers.monitoring.video_recorder.TextEncoder.capture_frame: ', type(ret))\n",
    "except Exception as e:\n",
    "    type_gym_wrappers_monitoring_video_recorder_TextEncoder_capture_frame = '_syft_missing'\n",
    "    print('❌ gym.wrappers.monitoring.video_recorder.TextEncoder.capture_frame: Return unavailable')\n",
    "    print(\"  Please fix this return type code until there is no exception\")\n",
    "    print('  Error:', e)\n"
   ]
  },
  {
   "cell_type": "code",
   "execution_count": null,
   "id": "3c8890f4",
   "metadata": {},
   "outputs": [],
   "source": [
    "# gym.wrappers.monitoring.video_recorder.TextEncoder.close\n",
    "try:\n",
    "    obj = class_constructor()\n",
    "    ret = obj.close()\n",
    "    type_gym_wrappers_monitoring_video_recorder_TextEncoder_close = getattr(ret, '__module__', 'none') + '.' + ret.__class__.__name__\n",
    "    print('✅ gym.wrappers.monitoring.video_recorder.TextEncoder.close: ', type(ret))\n",
    "except Exception as e:\n",
    "    type_gym_wrappers_monitoring_video_recorder_TextEncoder_close = '_syft_missing'\n",
    "    print('❌ gym.wrappers.monitoring.video_recorder.TextEncoder.close: Return unavailable')\n",
    "    print(\"  Please fix this return type code until there is no exception\")\n",
    "    print('  Error:', e)\n"
   ]
  },
  {
   "cell_type": "code",
   "execution_count": null,
   "id": "acc1b6a3",
   "metadata": {},
   "outputs": [],
   "source": [
    "# gym.wrappers.monitoring.video_recorder.TextEncoder.version_info\n",
    "try:\n",
    "    obj = class_constructor()\n",
    "    ret = obj.version_info\n",
    "    type_gym_wrappers_monitoring_video_recorder_TextEncoder_version_info = getattr(ret, '__module__', 'none') + '.' + ret.__class__.__name__\n",
    "    print('✅ gym.wrappers.monitoring.video_recorder.TextEncoder.version_info:', type(ret))\n",
    "except Exception as e:\n",
    "    type_gym_wrappers_monitoring_video_recorder_TextEncoder_version_info = '_syft_missing'\n",
    "    print('❌ gym.wrappers.monitoring.video_recorder.TextEncoder.version_info: Return unavailable')\n",
    "    print(\"  Please fix this return type code until there is no exception\")\n",
    "    print('  Error:', e)\n"
   ]
  }
 ],
 "metadata": {},
 "nbformat": 4,
 "nbformat_minor": 5
}
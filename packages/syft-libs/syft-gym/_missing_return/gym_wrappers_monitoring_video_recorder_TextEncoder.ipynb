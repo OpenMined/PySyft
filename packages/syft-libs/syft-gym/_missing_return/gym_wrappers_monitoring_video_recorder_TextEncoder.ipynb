{
 "cells": [
  {
   "cell_type": "markdown",
   "id": "4a8e98c4",
   "metadata": {},
   "source": [
    "## gym.wrappers.monitoring.video_recorder.TextEncoder"
   ]
  },
  {
   "cell_type": "code",
   "execution_count": null,
   "id": "d3b61436",
   "metadata": {},
   "outputs": [],
   "source": [
    "import gym\n",
    "def class_constructor(*args, **kwargs):\n",
    "    obj = gym.wrappers.monitoring.video_recorder.TextEncoder()\n",
    "    return obj\n"
   ]
  },
  {
   "cell_type": "code",
   "execution_count": null,
   "id": "229d1ece",
   "metadata": {},
   "outputs": [],
   "source": [
    "# gym.wrappers.monitoring.video_recorder.TextEncoder.capture_frame\n",
    "try:\n",
    "    obj = class_constructor()\n",
    "    ret = obj.capture_frame()\n",
    "    type_gym_wrappers_monitoring_video_recorder_TextEncoder_capture_frame = getattr(ret, '__module__', 'none') + '.' + ret.__class__.__name__\n",
    "    print('✅ gym.wrappers.monitoring.video_recorder.TextEncoder.capture_frame: ', type(ret))\n",
    "except Exception as e:\n",
    "    type_gym_wrappers_monitoring_video_recorder_TextEncoder_capture_frame = '_syft_missing'\n",
    "    print('❌ gym.wrappers.monitoring.video_recorder.TextEncoder.capture_frame: Return unavailable')\n",
    "    print(\"  Please fix this return type code until there is no exception\")\n",
    "    print('  Error:', e)\n"
   ]
  },
  {
   "cell_type": "code",
   "execution_count": null,
   "id": "1a7b540f",
   "metadata": {},
   "outputs": [],
   "source": [
    "# gym.wrappers.monitoring.video_recorder.TextEncoder.close\n",
    "try:\n",
    "    obj = class_constructor()\n",
    "    ret = obj.close()\n",
    "    type_gym_wrappers_monitoring_video_recorder_TextEncoder_close = getattr(ret, '__module__', 'none') + '.' + ret.__class__.__name__\n",
    "    print('✅ gym.wrappers.monitoring.video_recorder.TextEncoder.close: ', type(ret))\n",
    "except Exception as e:\n",
    "    type_gym_wrappers_monitoring_video_recorder_TextEncoder_close = '_syft_missing'\n",
    "    print('❌ gym.wrappers.monitoring.video_recorder.TextEncoder.close: Return unavailable')\n",
    "    print(\"  Please fix this return type code until there is no exception\")\n",
    "    print('  Error:', e)\n"
   ]
  },
  {
   "cell_type": "code",
   "execution_count": null,
   "id": "a2ce163c",
   "metadata": {},
   "outputs": [],
   "source": [
    "# gym.wrappers.monitoring.video_recorder.TextEncoder.version_info\n",
    "try:\n",
    "    obj = class_constructor()\n",
    "    ret = obj.version_info\n",
    "    type_gym_wrappers_monitoring_video_recorder_TextEncoder_version_info = getattr(ret, '__module__', 'none') + '.' + ret.__class__.__name__\n",
    "    print('✅ gym.wrappers.monitoring.video_recorder.TextEncoder.version_info:', type(ret))\n",
    "except Exception as e:\n",
    "    type_gym_wrappers_monitoring_video_recorder_TextEncoder_version_info = '_syft_missing'\n",
    "    print('❌ gym.wrappers.monitoring.video_recorder.TextEncoder.version_info: Return unavailable')\n",
    "    print(\"  Please fix this return type code until there is no exception\")\n",
    "    print('  Error:', e)\n"
   ]
  }
 ],
 "metadata": {},
 "nbformat": 4,
 "nbformat_minor": 5
}
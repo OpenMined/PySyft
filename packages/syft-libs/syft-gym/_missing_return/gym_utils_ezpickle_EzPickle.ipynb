{
 "cells": [
  {
   "cell_type": "markdown",
   "id": "17c565aa",
   "metadata": {},
   "source": [
    "## gym.utils.ezpickle.EzPickle"
   ]
  },
  {
   "cell_type": "code",
   "execution_count": null,
   "id": "2f3c6794",
   "metadata": {},
   "outputs": [],
   "source": [
    "import gym\n",
    "def class_constructor(*args, **kwargs):\n",
    "    obj = gym.utils.ezpickle.EzPickle()\n",
    "    return obj\n"
   ]
  },
  {
   "cell_type": "code",
   "execution_count": null,
   "id": "65b77d81",
   "metadata": {},
   "outputs": [],
   "source": [
    "# gym.utils.ezpickle.EzPickle.__getstate__\n",
    "try:\n",
    "    obj = class_constructor()\n",
    "    ret = obj.__getstate__()\n",
    "    type_gym_utils_ezpickle_EzPickle___getstate__ = getattr(ret, '__module__', 'none') + '.' + ret.__class__.__name__\n",
    "    print('✅ gym.utils.ezpickle.EzPickle.__getstate__: ', type(ret))\n",
    "except Exception as e:\n",
    "    type_gym_utils_ezpickle_EzPickle___getstate__ = '_syft_missing'\n",
    "    print('❌ gym.utils.ezpickle.EzPickle.__getstate__: Return unavailable')\n",
    "    print(\"  Please fix this return type code until there is no exception\")\n",
    "    print('  Error:', e)\n"
   ]
  },
  {
   "cell_type": "code",
   "execution_count": null,
   "id": "dbaa8d1c",
   "metadata": {},
   "outputs": [],
   "source": [
    "# gym.utils.ezpickle.EzPickle.__setstate__\n",
    "try:\n",
    "    obj = class_constructor()\n",
    "    ret = obj.__setstate__()\n",
    "    type_gym_utils_ezpickle_EzPickle___setstate__ = getattr(ret, '__module__', 'none') + '.' + ret.__class__.__name__\n",
    "    print('✅ gym.utils.ezpickle.EzPickle.__setstate__: ', type(ret))\n",
    "except Exception as e:\n",
    "    type_gym_utils_ezpickle_EzPickle___setstate__ = '_syft_missing'\n",
    "    print('❌ gym.utils.ezpickle.EzPickle.__setstate__: Return unavailable')\n",
    "    print(\"  Please fix this return type code until there is no exception\")\n",
    "    print('  Error:', e)\n"
   ]
  }
 ],
 "metadata": {},
 "nbformat": 4,
 "nbformat_minor": 5
}
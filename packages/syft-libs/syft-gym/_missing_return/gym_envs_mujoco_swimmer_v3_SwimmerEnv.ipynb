{
 "cells": [
  {
   "cell_type": "markdown",
   "id": "3b615da8",
   "metadata": {},
   "source": [
    "## gym.envs.mujoco.swimmer_v3.SwimmerEnv"
   ]
  },
  {
   "cell_type": "code",
   "execution_count": null,
   "id": "80d280f1",
   "metadata": {},
   "outputs": [],
   "source": [
    "import gym\n",
    "def class_constructor(*args, **kwargs):\n",
    "    obj = gym.envs.mujoco.swimmer_v3.SwimmerEnv()\n",
    "    return obj\n"
   ]
  },
  {
   "cell_type": "code",
   "execution_count": null,
   "id": "f098d457",
   "metadata": {},
   "outputs": [],
   "source": [
    "# gym.envs.mujoco.swimmer_v3.SwimmerEnv.__enter__\n",
    "try:\n",
    "    obj = class_constructor()\n",
    "    ret = obj.__enter__()\n",
    "    type_gym_envs_mujoco_swimmer_v3_SwimmerEnv___enter__ = getattr(ret, '__module__', 'none') + '.' + ret.__class__.__name__\n",
    "    print('✅ gym.envs.mujoco.swimmer_v3.SwimmerEnv.__enter__: ', type(ret))\n",
    "except Exception as e:\n",
    "    type_gym_envs_mujoco_swimmer_v3_SwimmerEnv___enter__ = '_syft_missing'\n",
    "    print('❌ gym.envs.mujoco.swimmer_v3.SwimmerEnv.__enter__: Return unavailable')\n",
    "    print(\"  Please fix this return type code until there is no exception\")\n",
    "    print('  Error:', e)\n"
   ]
  },
  {
   "cell_type": "code",
   "execution_count": null,
   "id": "f66c1dcd",
   "metadata": {},
   "outputs": [],
   "source": [
    "# gym.envs.mujoco.swimmer_v3.SwimmerEnv.__exit__\n",
    "try:\n",
    "    obj = class_constructor()\n",
    "    ret = obj.__exit__()\n",
    "    type_gym_envs_mujoco_swimmer_v3_SwimmerEnv___exit__ = getattr(ret, '__module__', 'none') + '.' + ret.__class__.__name__\n",
    "    print('✅ gym.envs.mujoco.swimmer_v3.SwimmerEnv.__exit__: ', type(ret))\n",
    "except Exception as e:\n",
    "    type_gym_envs_mujoco_swimmer_v3_SwimmerEnv___exit__ = '_syft_missing'\n",
    "    print('❌ gym.envs.mujoco.swimmer_v3.SwimmerEnv.__exit__: Return unavailable')\n",
    "    print(\"  Please fix this return type code until there is no exception\")\n",
    "    print('  Error:', e)\n"
   ]
  },
  {
   "cell_type": "code",
   "execution_count": null,
   "id": "023bb637",
   "metadata": {},
   "outputs": [],
   "source": [
    "# gym.envs.mujoco.swimmer_v3.SwimmerEnv.__getstate__\n",
    "try:\n",
    "    obj = class_constructor()\n",
    "    ret = obj.__getstate__()\n",
    "    type_gym_envs_mujoco_swimmer_v3_SwimmerEnv___getstate__ = getattr(ret, '__module__', 'none') + '.' + ret.__class__.__name__\n",
    "    print('✅ gym.envs.mujoco.swimmer_v3.SwimmerEnv.__getstate__: ', type(ret))\n",
    "except Exception as e:\n",
    "    type_gym_envs_mujoco_swimmer_v3_SwimmerEnv___getstate__ = '_syft_missing'\n",
    "    print('❌ gym.envs.mujoco.swimmer_v3.SwimmerEnv.__getstate__: Return unavailable')\n",
    "    print(\"  Please fix this return type code until there is no exception\")\n",
    "    print('  Error:', e)\n"
   ]
  },
  {
   "cell_type": "code",
   "execution_count": null,
   "id": "5336c3c7",
   "metadata": {},
   "outputs": [],
   "source": [
    "# gym.envs.mujoco.swimmer_v3.SwimmerEnv.__setstate__\n",
    "try:\n",
    "    obj = class_constructor()\n",
    "    ret = obj.__setstate__()\n",
    "    type_gym_envs_mujoco_swimmer_v3_SwimmerEnv___setstate__ = getattr(ret, '__module__', 'none') + '.' + ret.__class__.__name__\n",
    "    print('✅ gym.envs.mujoco.swimmer_v3.SwimmerEnv.__setstate__: ', type(ret))\n",
    "except Exception as e:\n",
    "    type_gym_envs_mujoco_swimmer_v3_SwimmerEnv___setstate__ = '_syft_missing'\n",
    "    print('❌ gym.envs.mujoco.swimmer_v3.SwimmerEnv.__setstate__: Return unavailable')\n",
    "    print(\"  Please fix this return type code until there is no exception\")\n",
    "    print('  Error:', e)\n"
   ]
  },
  {
   "cell_type": "code",
   "execution_count": null,
   "id": "aa1c699f",
   "metadata": {},
   "outputs": [],
   "source": [
    "# gym.envs.mujoco.swimmer_v3.SwimmerEnv.__str__\n",
    "try:\n",
    "    obj = class_constructor()\n",
    "    ret = obj.__str__()\n",
    "    type_gym_envs_mujoco_swimmer_v3_SwimmerEnv___str__ = getattr(ret, '__module__', 'none') + '.' + ret.__class__.__name__\n",
    "    print('✅ gym.envs.mujoco.swimmer_v3.SwimmerEnv.__str__: ', type(ret))\n",
    "except Exception as e:\n",
    "    type_gym_envs_mujoco_swimmer_v3_SwimmerEnv___str__ = '_syft_missing'\n",
    "    print('❌ gym.envs.mujoco.swimmer_v3.SwimmerEnv.__str__: Return unavailable')\n",
    "    print(\"  Please fix this return type code until there is no exception\")\n",
    "    print('  Error:', e)\n"
   ]
  },
  {
   "cell_type": "code",
   "execution_count": null,
   "id": "d3105b17",
   "metadata": {},
   "outputs": [],
   "source": [
    "# gym.envs.mujoco.swimmer_v3.SwimmerEnv._get_obs\n",
    "try:\n",
    "    obj = class_constructor()\n",
    "    ret = obj._get_obs()\n",
    "    type_gym_envs_mujoco_swimmer_v3_SwimmerEnv__get_obs = getattr(ret, '__module__', 'none') + '.' + ret.__class__.__name__\n",
    "    print('✅ gym.envs.mujoco.swimmer_v3.SwimmerEnv._get_obs: ', type(ret))\n",
    "except Exception as e:\n",
    "    type_gym_envs_mujoco_swimmer_v3_SwimmerEnv__get_obs = '_syft_missing'\n",
    "    print('❌ gym.envs.mujoco.swimmer_v3.SwimmerEnv._get_obs: Return unavailable')\n",
    "    print(\"  Please fix this return type code until there is no exception\")\n",
    "    print('  Error:', e)\n"
   ]
  },
  {
   "cell_type": "code",
   "execution_count": null,
   "id": "4c94a62c",
   "metadata": {},
   "outputs": [],
   "source": [
    "# gym.envs.mujoco.swimmer_v3.SwimmerEnv._get_viewer\n",
    "try:\n",
    "    obj = class_constructor()\n",
    "    ret = obj._get_viewer()\n",
    "    type_gym_envs_mujoco_swimmer_v3_SwimmerEnv__get_viewer = getattr(ret, '__module__', 'none') + '.' + ret.__class__.__name__\n",
    "    print('✅ gym.envs.mujoco.swimmer_v3.SwimmerEnv._get_viewer: ', type(ret))\n",
    "except Exception as e:\n",
    "    type_gym_envs_mujoco_swimmer_v3_SwimmerEnv__get_viewer = '_syft_missing'\n",
    "    print('❌ gym.envs.mujoco.swimmer_v3.SwimmerEnv._get_viewer: Return unavailable')\n",
    "    print(\"  Please fix this return type code until there is no exception\")\n",
    "    print('  Error:', e)\n"
   ]
  },
  {
   "cell_type": "code",
   "execution_count": null,
   "id": "cf4e6389",
   "metadata": {},
   "outputs": [],
   "source": [
    "# gym.envs.mujoco.swimmer_v3.SwimmerEnv._set_action_space\n",
    "try:\n",
    "    obj = class_constructor()\n",
    "    ret = obj._set_action_space()\n",
    "    type_gym_envs_mujoco_swimmer_v3_SwimmerEnv__set_action_space = getattr(ret, '__module__', 'none') + '.' + ret.__class__.__name__\n",
    "    print('✅ gym.envs.mujoco.swimmer_v3.SwimmerEnv._set_action_space: ', type(ret))\n",
    "except Exception as e:\n",
    "    type_gym_envs_mujoco_swimmer_v3_SwimmerEnv__set_action_space = '_syft_missing'\n",
    "    print('❌ gym.envs.mujoco.swimmer_v3.SwimmerEnv._set_action_space: Return unavailable')\n",
    "    print(\"  Please fix this return type code until there is no exception\")\n",
    "    print('  Error:', e)\n"
   ]
  },
  {
   "cell_type": "code",
   "execution_count": null,
   "id": "846ccf4b",
   "metadata": {},
   "outputs": [],
   "source": [
    "# gym.envs.mujoco.swimmer_v3.SwimmerEnv._set_observation_space\n",
    "try:\n",
    "    obj = class_constructor()\n",
    "    ret = obj._set_observation_space()\n",
    "    type_gym_envs_mujoco_swimmer_v3_SwimmerEnv__set_observation_space = getattr(ret, '__module__', 'none') + '.' + ret.__class__.__name__\n",
    "    print('✅ gym.envs.mujoco.swimmer_v3.SwimmerEnv._set_observation_space: ', type(ret))\n",
    "except Exception as e:\n",
    "    type_gym_envs_mujoco_swimmer_v3_SwimmerEnv__set_observation_space = '_syft_missing'\n",
    "    print('❌ gym.envs.mujoco.swimmer_v3.SwimmerEnv._set_observation_space: Return unavailable')\n",
    "    print(\"  Please fix this return type code until there is no exception\")\n",
    "    print('  Error:', e)\n"
   ]
  },
  {
   "cell_type": "code",
   "execution_count": null,
   "id": "b7c68b66",
   "metadata": {},
   "outputs": [],
   "source": [
    "# gym.envs.mujoco.swimmer_v3.SwimmerEnv.close\n",
    "try:\n",
    "    obj = class_constructor()\n",
    "    ret = obj.close()\n",
    "    type_gym_envs_mujoco_swimmer_v3_SwimmerEnv_close = getattr(ret, '__module__', 'none') + '.' + ret.__class__.__name__\n",
    "    print('✅ gym.envs.mujoco.swimmer_v3.SwimmerEnv.close: ', type(ret))\n",
    "except Exception as e:\n",
    "    type_gym_envs_mujoco_swimmer_v3_SwimmerEnv_close = '_syft_missing'\n",
    "    print('❌ gym.envs.mujoco.swimmer_v3.SwimmerEnv.close: Return unavailable')\n",
    "    print(\"  Please fix this return type code until there is no exception\")\n",
    "    print('  Error:', e)\n"
   ]
  },
  {
   "cell_type": "code",
   "execution_count": null,
   "id": "2dc50881",
   "metadata": {},
   "outputs": [],
   "source": [
    "# gym.envs.mujoco.swimmer_v3.SwimmerEnv.control_cost\n",
    "try:\n",
    "    obj = class_constructor()\n",
    "    ret = obj.control_cost()\n",
    "    type_gym_envs_mujoco_swimmer_v3_SwimmerEnv_control_cost = getattr(ret, '__module__', 'none') + '.' + ret.__class__.__name__\n",
    "    print('✅ gym.envs.mujoco.swimmer_v3.SwimmerEnv.control_cost: ', type(ret))\n",
    "except Exception as e:\n",
    "    type_gym_envs_mujoco_swimmer_v3_SwimmerEnv_control_cost = '_syft_missing'\n",
    "    print('❌ gym.envs.mujoco.swimmer_v3.SwimmerEnv.control_cost: Return unavailable')\n",
    "    print(\"  Please fix this return type code until there is no exception\")\n",
    "    print('  Error:', e)\n"
   ]
  },
  {
   "cell_type": "code",
   "execution_count": null,
   "id": "bb3d25f3",
   "metadata": {},
   "outputs": [],
   "source": [
    "# gym.envs.mujoco.swimmer_v3.SwimmerEnv.do_simulation\n",
    "try:\n",
    "    obj = class_constructor()\n",
    "    ret = obj.do_simulation()\n",
    "    type_gym_envs_mujoco_swimmer_v3_SwimmerEnv_do_simulation = getattr(ret, '__module__', 'none') + '.' + ret.__class__.__name__\n",
    "    print('✅ gym.envs.mujoco.swimmer_v3.SwimmerEnv.do_simulation: ', type(ret))\n",
    "except Exception as e:\n",
    "    type_gym_envs_mujoco_swimmer_v3_SwimmerEnv_do_simulation = '_syft_missing'\n",
    "    print('❌ gym.envs.mujoco.swimmer_v3.SwimmerEnv.do_simulation: Return unavailable')\n",
    "    print(\"  Please fix this return type code until there is no exception\")\n",
    "    print('  Error:', e)\n"
   ]
  },
  {
   "cell_type": "code",
   "execution_count": null,
   "id": "702a243d",
   "metadata": {},
   "outputs": [],
   "source": [
    "# gym.envs.mujoco.swimmer_v3.SwimmerEnv.dt\n",
    "try:\n",
    "    obj = class_constructor()\n",
    "    ret = obj.dt\n",
    "    type_gym_envs_mujoco_swimmer_v3_SwimmerEnv_dt = getattr(ret, '__module__', 'none') + '.' + ret.__class__.__name__\n",
    "    print('✅ gym.envs.mujoco.swimmer_v3.SwimmerEnv.dt:', type(ret))\n",
    "except Exception as e:\n",
    "    type_gym_envs_mujoco_swimmer_v3_SwimmerEnv_dt = '_syft_missing'\n",
    "    print('❌ gym.envs.mujoco.swimmer_v3.SwimmerEnv.dt: Return unavailable')\n",
    "    print(\"  Please fix this return type code until there is no exception\")\n",
    "    print('  Error:', e)\n"
   ]
  },
  {
   "cell_type": "code",
   "execution_count": null,
   "id": "ecdaf2ee",
   "metadata": {},
   "outputs": [],
   "source": [
    "# gym.envs.mujoco.swimmer_v3.SwimmerEnv.get_body_com\n",
    "try:\n",
    "    obj = class_constructor()\n",
    "    ret = obj.get_body_com()\n",
    "    type_gym_envs_mujoco_swimmer_v3_SwimmerEnv_get_body_com = getattr(ret, '__module__', 'none') + '.' + ret.__class__.__name__\n",
    "    print('✅ gym.envs.mujoco.swimmer_v3.SwimmerEnv.get_body_com: ', type(ret))\n",
    "except Exception as e:\n",
    "    type_gym_envs_mujoco_swimmer_v3_SwimmerEnv_get_body_com = '_syft_missing'\n",
    "    print('❌ gym.envs.mujoco.swimmer_v3.SwimmerEnv.get_body_com: Return unavailable')\n",
    "    print(\"  Please fix this return type code until there is no exception\")\n",
    "    print('  Error:', e)\n"
   ]
  },
  {
   "cell_type": "code",
   "execution_count": null,
   "id": "561e8e8c",
   "metadata": {},
   "outputs": [],
   "source": [
    "# gym.envs.mujoco.swimmer_v3.SwimmerEnv.render\n",
    "try:\n",
    "    obj = class_constructor()\n",
    "    ret = obj.render()\n",
    "    type_gym_envs_mujoco_swimmer_v3_SwimmerEnv_render = getattr(ret, '__module__', 'none') + '.' + ret.__class__.__name__\n",
    "    print('✅ gym.envs.mujoco.swimmer_v3.SwimmerEnv.render: ', type(ret))\n",
    "except Exception as e:\n",
    "    type_gym_envs_mujoco_swimmer_v3_SwimmerEnv_render = '_syft_missing'\n",
    "    print('❌ gym.envs.mujoco.swimmer_v3.SwimmerEnv.render: Return unavailable')\n",
    "    print(\"  Please fix this return type code until there is no exception\")\n",
    "    print('  Error:', e)\n"
   ]
  },
  {
   "cell_type": "code",
   "execution_count": null,
   "id": "6bc9741a",
   "metadata": {},
   "outputs": [],
   "source": [
    "# gym.envs.mujoco.swimmer_v3.SwimmerEnv.reset\n",
    "try:\n",
    "    obj = class_constructor()\n",
    "    ret = obj.reset()\n",
    "    type_gym_envs_mujoco_swimmer_v3_SwimmerEnv_reset = getattr(ret, '__module__', 'none') + '.' + ret.__class__.__name__\n",
    "    print('✅ gym.envs.mujoco.swimmer_v3.SwimmerEnv.reset: ', type(ret))\n",
    "except Exception as e:\n",
    "    type_gym_envs_mujoco_swimmer_v3_SwimmerEnv_reset = '_syft_missing'\n",
    "    print('❌ gym.envs.mujoco.swimmer_v3.SwimmerEnv.reset: Return unavailable')\n",
    "    print(\"  Please fix this return type code until there is no exception\")\n",
    "    print('  Error:', e)\n"
   ]
  },
  {
   "cell_type": "code",
   "execution_count": null,
   "id": "de508af1",
   "metadata": {},
   "outputs": [],
   "source": [
    "# gym.envs.mujoco.swimmer_v3.SwimmerEnv.reset_model\n",
    "try:\n",
    "    obj = class_constructor()\n",
    "    ret = obj.reset_model()\n",
    "    type_gym_envs_mujoco_swimmer_v3_SwimmerEnv_reset_model = getattr(ret, '__module__', 'none') + '.' + ret.__class__.__name__\n",
    "    print('✅ gym.envs.mujoco.swimmer_v3.SwimmerEnv.reset_model: ', type(ret))\n",
    "except Exception as e:\n",
    "    type_gym_envs_mujoco_swimmer_v3_SwimmerEnv_reset_model = '_syft_missing'\n",
    "    print('❌ gym.envs.mujoco.swimmer_v3.SwimmerEnv.reset_model: Return unavailable')\n",
    "    print(\"  Please fix this return type code until there is no exception\")\n",
    "    print('  Error:', e)\n"
   ]
  },
  {
   "cell_type": "code",
   "execution_count": null,
   "id": "b96de6db",
   "metadata": {},
   "outputs": [],
   "source": [
    "# gym.envs.mujoco.swimmer_v3.SwimmerEnv.seed\n",
    "try:\n",
    "    obj = class_constructor()\n",
    "    ret = obj.seed()\n",
    "    type_gym_envs_mujoco_swimmer_v3_SwimmerEnv_seed = getattr(ret, '__module__', 'none') + '.' + ret.__class__.__name__\n",
    "    print('✅ gym.envs.mujoco.swimmer_v3.SwimmerEnv.seed: ', type(ret))\n",
    "except Exception as e:\n",
    "    type_gym_envs_mujoco_swimmer_v3_SwimmerEnv_seed = '_syft_missing'\n",
    "    print('❌ gym.envs.mujoco.swimmer_v3.SwimmerEnv.seed: Return unavailable')\n",
    "    print(\"  Please fix this return type code until there is no exception\")\n",
    "    print('  Error:', e)\n"
   ]
  },
  {
   "cell_type": "code",
   "execution_count": null,
   "id": "211c38dd",
   "metadata": {},
   "outputs": [],
   "source": [
    "# gym.envs.mujoco.swimmer_v3.SwimmerEnv.set_state\n",
    "try:\n",
    "    obj = class_constructor()\n",
    "    ret = obj.set_state()\n",
    "    type_gym_envs_mujoco_swimmer_v3_SwimmerEnv_set_state = getattr(ret, '__module__', 'none') + '.' + ret.__class__.__name__\n",
    "    print('✅ gym.envs.mujoco.swimmer_v3.SwimmerEnv.set_state: ', type(ret))\n",
    "except Exception as e:\n",
    "    type_gym_envs_mujoco_swimmer_v3_SwimmerEnv_set_state = '_syft_missing'\n",
    "    print('❌ gym.envs.mujoco.swimmer_v3.SwimmerEnv.set_state: Return unavailable')\n",
    "    print(\"  Please fix this return type code until there is no exception\")\n",
    "    print('  Error:', e)\n"
   ]
  },
  {
   "cell_type": "code",
   "execution_count": null,
   "id": "a13d567b",
   "metadata": {},
   "outputs": [],
   "source": [
    "# gym.envs.mujoco.swimmer_v3.SwimmerEnv.state_vector\n",
    "try:\n",
    "    obj = class_constructor()\n",
    "    ret = obj.state_vector()\n",
    "    type_gym_envs_mujoco_swimmer_v3_SwimmerEnv_state_vector = getattr(ret, '__module__', 'none') + '.' + ret.__class__.__name__\n",
    "    print('✅ gym.envs.mujoco.swimmer_v3.SwimmerEnv.state_vector: ', type(ret))\n",
    "except Exception as e:\n",
    "    type_gym_envs_mujoco_swimmer_v3_SwimmerEnv_state_vector = '_syft_missing'\n",
    "    print('❌ gym.envs.mujoco.swimmer_v3.SwimmerEnv.state_vector: Return unavailable')\n",
    "    print(\"  Please fix this return type code until there is no exception\")\n",
    "    print('  Error:', e)\n"
   ]
  },
  {
   "cell_type": "code",
   "execution_count": null,
   "id": "dec56b7d",
   "metadata": {},
   "outputs": [],
   "source": [
    "# gym.envs.mujoco.swimmer_v3.SwimmerEnv.step\n",
    "try:\n",
    "    obj = class_constructor()\n",
    "    ret = obj.step()\n",
    "    type_gym_envs_mujoco_swimmer_v3_SwimmerEnv_step = getattr(ret, '__module__', 'none') + '.' + ret.__class__.__name__\n",
    "    print('✅ gym.envs.mujoco.swimmer_v3.SwimmerEnv.step: ', type(ret))\n",
    "except Exception as e:\n",
    "    type_gym_envs_mujoco_swimmer_v3_SwimmerEnv_step = '_syft_missing'\n",
    "    print('❌ gym.envs.mujoco.swimmer_v3.SwimmerEnv.step: Return unavailable')\n",
    "    print(\"  Please fix this return type code until there is no exception\")\n",
    "    print('  Error:', e)\n"
   ]
  },
  {
   "cell_type": "code",
   "execution_count": null,
   "id": "5d1fdfe1",
   "metadata": {},
   "outputs": [],
   "source": [
    "# gym.envs.mujoco.swimmer_v3.SwimmerEnv.unwrapped\n",
    "try:\n",
    "    obj = class_constructor()\n",
    "    ret = obj.unwrapped\n",
    "    type_gym_envs_mujoco_swimmer_v3_SwimmerEnv_unwrapped = getattr(ret, '__module__', 'none') + '.' + ret.__class__.__name__\n",
    "    print('✅ gym.envs.mujoco.swimmer_v3.SwimmerEnv.unwrapped:', type(ret))\n",
    "except Exception as e:\n",
    "    type_gym_envs_mujoco_swimmer_v3_SwimmerEnv_unwrapped = '_syft_missing'\n",
    "    print('❌ gym.envs.mujoco.swimmer_v3.SwimmerEnv.unwrapped: Return unavailable')\n",
    "    print(\"  Please fix this return type code until there is no exception\")\n",
    "    print('  Error:', e)\n"
   ]
  },
  {
   "cell_type": "code",
   "execution_count": null,
   "id": "1b093be8",
   "metadata": {},
   "outputs": [],
   "source": [
    "# gym.envs.mujoco.swimmer_v3.SwimmerEnv.viewer_setup\n",
    "try:\n",
    "    obj = class_constructor()\n",
    "    ret = obj.viewer_setup()\n",
    "    type_gym_envs_mujoco_swimmer_v3_SwimmerEnv_viewer_setup = getattr(ret, '__module__', 'none') + '.' + ret.__class__.__name__\n",
    "    print('✅ gym.envs.mujoco.swimmer_v3.SwimmerEnv.viewer_setup: ', type(ret))\n",
    "except Exception as e:\n",
    "    type_gym_envs_mujoco_swimmer_v3_SwimmerEnv_viewer_setup = '_syft_missing'\n",
    "    print('❌ gym.envs.mujoco.swimmer_v3.SwimmerEnv.viewer_setup: Return unavailable')\n",
    "    print(\"  Please fix this return type code until there is no exception\")\n",
    "    print('  Error:', e)\n"
   ]
  }
 ],
 "metadata": {},
 "nbformat": 4,
 "nbformat_minor": 5
}
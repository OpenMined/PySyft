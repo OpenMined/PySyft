{
 "cells": [
  {
   "cell_type": "markdown",
   "id": "331180b2",
   "metadata": {},
   "source": [
    "## gym.vector.vector_env.VectorEnvWrapper"
   ]
  },
  {
   "cell_type": "code",
   "execution_count": null,
   "id": "362a2c03",
   "metadata": {},
   "outputs": [],
   "source": [
    "import gym\n",
    "def class_constructor(*args, **kwargs):\n",
    "    obj = gym.vector.vector_env.VectorEnvWrapper()\n",
    "    return obj\n"
   ]
  },
  {
   "cell_type": "code",
   "execution_count": null,
   "id": "76b7ced6",
   "metadata": {},
   "outputs": [],
   "source": [
    "# gym.vector.vector_env.VectorEnvWrapper.__del__\n",
    "try:\n",
    "    obj = class_constructor()\n",
    "    ret = obj.__del__()\n",
    "    type_gym_vector_vector_env_VectorEnvWrapper___del__ = getattr(ret, '__module__', 'none') + '.' + ret.__class__.__name__\n",
    "    print('✅ gym.vector.vector_env.VectorEnvWrapper.__del__: ', type(ret))\n",
    "except Exception as e:\n",
    "    type_gym_vector_vector_env_VectorEnvWrapper___del__ = '_syft_missing'\n",
    "    print('❌ gym.vector.vector_env.VectorEnvWrapper.__del__: Return unavailable')\n",
    "    print(\"  Please fix this return type code until there is no exception\")\n",
    "    print('  Error:', e)\n"
   ]
  },
  {
   "cell_type": "code",
   "execution_count": null,
   "id": "99dc38aa",
   "metadata": {},
   "outputs": [],
   "source": [
    "# gym.vector.vector_env.VectorEnvWrapper.__enter__\n",
    "try:\n",
    "    obj = class_constructor()\n",
    "    ret = obj.__enter__()\n",
    "    type_gym_vector_vector_env_VectorEnvWrapper___enter__ = getattr(ret, '__module__', 'none') + '.' + ret.__class__.__name__\n",
    "    print('✅ gym.vector.vector_env.VectorEnvWrapper.__enter__: ', type(ret))\n",
    "except Exception as e:\n",
    "    type_gym_vector_vector_env_VectorEnvWrapper___enter__ = '_syft_missing'\n",
    "    print('❌ gym.vector.vector_env.VectorEnvWrapper.__enter__: Return unavailable')\n",
    "    print(\"  Please fix this return type code until there is no exception\")\n",
    "    print('  Error:', e)\n"
   ]
  },
  {
   "cell_type": "code",
   "execution_count": null,
   "id": "c2ae0fd1",
   "metadata": {},
   "outputs": [],
   "source": [
    "# gym.vector.vector_env.VectorEnvWrapper.__exit__\n",
    "try:\n",
    "    obj = class_constructor()\n",
    "    ret = obj.__exit__()\n",
    "    type_gym_vector_vector_env_VectorEnvWrapper___exit__ = getattr(ret, '__module__', 'none') + '.' + ret.__class__.__name__\n",
    "    print('✅ gym.vector.vector_env.VectorEnvWrapper.__exit__: ', type(ret))\n",
    "except Exception as e:\n",
    "    type_gym_vector_vector_env_VectorEnvWrapper___exit__ = '_syft_missing'\n",
    "    print('❌ gym.vector.vector_env.VectorEnvWrapper.__exit__: Return unavailable')\n",
    "    print(\"  Please fix this return type code until there is no exception\")\n",
    "    print('  Error:', e)\n"
   ]
  },
  {
   "cell_type": "code",
   "execution_count": null,
   "id": "b0d8d4fe",
   "metadata": {},
   "outputs": [],
   "source": [
    "# gym.vector.vector_env.VectorEnvWrapper.__getattr__\n",
    "try:\n",
    "    obj = class_constructor()\n",
    "    ret = obj.__getattr__()\n",
    "    type_gym_vector_vector_env_VectorEnvWrapper___getattr__ = getattr(ret, '__module__', 'none') + '.' + ret.__class__.__name__\n",
    "    print('✅ gym.vector.vector_env.VectorEnvWrapper.__getattr__: ', type(ret))\n",
    "except Exception as e:\n",
    "    type_gym_vector_vector_env_VectorEnvWrapper___getattr__ = '_syft_missing'\n",
    "    print('❌ gym.vector.vector_env.VectorEnvWrapper.__getattr__: Return unavailable')\n",
    "    print(\"  Please fix this return type code until there is no exception\")\n",
    "    print('  Error:', e)\n"
   ]
  },
  {
   "cell_type": "code",
   "execution_count": null,
   "id": "d834ffe4",
   "metadata": {},
   "outputs": [],
   "source": [
    "# gym.vector.vector_env.VectorEnvWrapper.__repr__\n",
    "try:\n",
    "    obj = class_constructor()\n",
    "    ret = obj.__repr__()\n",
    "    type_gym_vector_vector_env_VectorEnvWrapper___repr__ = getattr(ret, '__module__', 'none') + '.' + ret.__class__.__name__\n",
    "    print('✅ gym.vector.vector_env.VectorEnvWrapper.__repr__: ', type(ret))\n",
    "except Exception as e:\n",
    "    type_gym_vector_vector_env_VectorEnvWrapper___repr__ = '_syft_missing'\n",
    "    print('❌ gym.vector.vector_env.VectorEnvWrapper.__repr__: Return unavailable')\n",
    "    print(\"  Please fix this return type code until there is no exception\")\n",
    "    print('  Error:', e)\n"
   ]
  },
  {
   "cell_type": "code",
   "execution_count": null,
   "id": "86e7d61f",
   "metadata": {},
   "outputs": [],
   "source": [
    "# gym.vector.vector_env.VectorEnvWrapper.__str__\n",
    "try:\n",
    "    obj = class_constructor()\n",
    "    ret = obj.__str__()\n",
    "    type_gym_vector_vector_env_VectorEnvWrapper___str__ = getattr(ret, '__module__', 'none') + '.' + ret.__class__.__name__\n",
    "    print('✅ gym.vector.vector_env.VectorEnvWrapper.__str__: ', type(ret))\n",
    "except Exception as e:\n",
    "    type_gym_vector_vector_env_VectorEnvWrapper___str__ = '_syft_missing'\n",
    "    print('❌ gym.vector.vector_env.VectorEnvWrapper.__str__: Return unavailable')\n",
    "    print(\"  Please fix this return type code until there is no exception\")\n",
    "    print('  Error:', e)\n"
   ]
  },
  {
   "cell_type": "code",
   "execution_count": null,
   "id": "e65b1ad7",
   "metadata": {},
   "outputs": [],
   "source": [
    "# gym.vector.vector_env.VectorEnvWrapper.close\n",
    "try:\n",
    "    obj = class_constructor()\n",
    "    ret = obj.close()\n",
    "    type_gym_vector_vector_env_VectorEnvWrapper_close = getattr(ret, '__module__', 'none') + '.' + ret.__class__.__name__\n",
    "    print('✅ gym.vector.vector_env.VectorEnvWrapper.close: ', type(ret))\n",
    "except Exception as e:\n",
    "    type_gym_vector_vector_env_VectorEnvWrapper_close = '_syft_missing'\n",
    "    print('❌ gym.vector.vector_env.VectorEnvWrapper.close: Return unavailable')\n",
    "    print(\"  Please fix this return type code until there is no exception\")\n",
    "    print('  Error:', e)\n"
   ]
  },
  {
   "cell_type": "code",
   "execution_count": null,
   "id": "6316969b",
   "metadata": {},
   "outputs": [],
   "source": [
    "# gym.vector.vector_env.VectorEnvWrapper.close_extras\n",
    "try:\n",
    "    obj = class_constructor()\n",
    "    ret = obj.close_extras()\n",
    "    type_gym_vector_vector_env_VectorEnvWrapper_close_extras = getattr(ret, '__module__', 'none') + '.' + ret.__class__.__name__\n",
    "    print('✅ gym.vector.vector_env.VectorEnvWrapper.close_extras: ', type(ret))\n",
    "except Exception as e:\n",
    "    type_gym_vector_vector_env_VectorEnvWrapper_close_extras = '_syft_missing'\n",
    "    print('❌ gym.vector.vector_env.VectorEnvWrapper.close_extras: Return unavailable')\n",
    "    print(\"  Please fix this return type code until there is no exception\")\n",
    "    print('  Error:', e)\n"
   ]
  },
  {
   "cell_type": "code",
   "execution_count": null,
   "id": "6ab37ca6",
   "metadata": {},
   "outputs": [],
   "source": [
    "# gym.vector.vector_env.VectorEnvWrapper.render\n",
    "try:\n",
    "    obj = class_constructor()\n",
    "    ret = obj.render()\n",
    "    type_gym_vector_vector_env_VectorEnvWrapper_render = getattr(ret, '__module__', 'none') + '.' + ret.__class__.__name__\n",
    "    print('✅ gym.vector.vector_env.VectorEnvWrapper.render: ', type(ret))\n",
    "except Exception as e:\n",
    "    type_gym_vector_vector_env_VectorEnvWrapper_render = '_syft_missing'\n",
    "    print('❌ gym.vector.vector_env.VectorEnvWrapper.render: Return unavailable')\n",
    "    print(\"  Please fix this return type code until there is no exception\")\n",
    "    print('  Error:', e)\n"
   ]
  },
  {
   "cell_type": "code",
   "execution_count": null,
   "id": "9105c753",
   "metadata": {},
   "outputs": [],
   "source": [
    "# gym.vector.vector_env.VectorEnvWrapper.reset\n",
    "try:\n",
    "    obj = class_constructor()\n",
    "    ret = obj.reset()\n",
    "    type_gym_vector_vector_env_VectorEnvWrapper_reset = getattr(ret, '__module__', 'none') + '.' + ret.__class__.__name__\n",
    "    print('✅ gym.vector.vector_env.VectorEnvWrapper.reset: ', type(ret))\n",
    "except Exception as e:\n",
    "    type_gym_vector_vector_env_VectorEnvWrapper_reset = '_syft_missing'\n",
    "    print('❌ gym.vector.vector_env.VectorEnvWrapper.reset: Return unavailable')\n",
    "    print(\"  Please fix this return type code until there is no exception\")\n",
    "    print('  Error:', e)\n"
   ]
  },
  {
   "cell_type": "code",
   "execution_count": null,
   "id": "d55476ba",
   "metadata": {},
   "outputs": [],
   "source": [
    "# gym.vector.vector_env.VectorEnvWrapper.reset_async\n",
    "try:\n",
    "    obj = class_constructor()\n",
    "    ret = obj.reset_async()\n",
    "    type_gym_vector_vector_env_VectorEnvWrapper_reset_async = getattr(ret, '__module__', 'none') + '.' + ret.__class__.__name__\n",
    "    print('✅ gym.vector.vector_env.VectorEnvWrapper.reset_async: ', type(ret))\n",
    "except Exception as e:\n",
    "    type_gym_vector_vector_env_VectorEnvWrapper_reset_async = '_syft_missing'\n",
    "    print('❌ gym.vector.vector_env.VectorEnvWrapper.reset_async: Return unavailable')\n",
    "    print(\"  Please fix this return type code until there is no exception\")\n",
    "    print('  Error:', e)\n"
   ]
  },
  {
   "cell_type": "code",
   "execution_count": null,
   "id": "fad875ce",
   "metadata": {},
   "outputs": [],
   "source": [
    "# gym.vector.vector_env.VectorEnvWrapper.reset_wait\n",
    "try:\n",
    "    obj = class_constructor()\n",
    "    ret = obj.reset_wait()\n",
    "    type_gym_vector_vector_env_VectorEnvWrapper_reset_wait = getattr(ret, '__module__', 'none') + '.' + ret.__class__.__name__\n",
    "    print('✅ gym.vector.vector_env.VectorEnvWrapper.reset_wait: ', type(ret))\n",
    "except Exception as e:\n",
    "    type_gym_vector_vector_env_VectorEnvWrapper_reset_wait = '_syft_missing'\n",
    "    print('❌ gym.vector.vector_env.VectorEnvWrapper.reset_wait: Return unavailable')\n",
    "    print(\"  Please fix this return type code until there is no exception\")\n",
    "    print('  Error:', e)\n"
   ]
  },
  {
   "cell_type": "code",
   "execution_count": null,
   "id": "baecde0c",
   "metadata": {},
   "outputs": [],
   "source": [
    "# gym.vector.vector_env.VectorEnvWrapper.seed\n",
    "try:\n",
    "    obj = class_constructor()\n",
    "    ret = obj.seed()\n",
    "    type_gym_vector_vector_env_VectorEnvWrapper_seed = getattr(ret, '__module__', 'none') + '.' + ret.__class__.__name__\n",
    "    print('✅ gym.vector.vector_env.VectorEnvWrapper.seed: ', type(ret))\n",
    "except Exception as e:\n",
    "    type_gym_vector_vector_env_VectorEnvWrapper_seed = '_syft_missing'\n",
    "    print('❌ gym.vector.vector_env.VectorEnvWrapper.seed: Return unavailable')\n",
    "    print(\"  Please fix this return type code until there is no exception\")\n",
    "    print('  Error:', e)\n"
   ]
  },
  {
   "cell_type": "code",
   "execution_count": null,
   "id": "b0568f38",
   "metadata": {},
   "outputs": [],
   "source": [
    "# gym.vector.vector_env.VectorEnvWrapper.step\n",
    "try:\n",
    "    obj = class_constructor()\n",
    "    ret = obj.step()\n",
    "    type_gym_vector_vector_env_VectorEnvWrapper_step = getattr(ret, '__module__', 'none') + '.' + ret.__class__.__name__\n",
    "    print('✅ gym.vector.vector_env.VectorEnvWrapper.step: ', type(ret))\n",
    "except Exception as e:\n",
    "    type_gym_vector_vector_env_VectorEnvWrapper_step = '_syft_missing'\n",
    "    print('❌ gym.vector.vector_env.VectorEnvWrapper.step: Return unavailable')\n",
    "    print(\"  Please fix this return type code until there is no exception\")\n",
    "    print('  Error:', e)\n"
   ]
  },
  {
   "cell_type": "code",
   "execution_count": null,
   "id": "d86f7944",
   "metadata": {},
   "outputs": [],
   "source": [
    "# gym.vector.vector_env.VectorEnvWrapper.step_async\n",
    "try:\n",
    "    obj = class_constructor()\n",
    "    ret = obj.step_async()\n",
    "    type_gym_vector_vector_env_VectorEnvWrapper_step_async = getattr(ret, '__module__', 'none') + '.' + ret.__class__.__name__\n",
    "    print('✅ gym.vector.vector_env.VectorEnvWrapper.step_async: ', type(ret))\n",
    "except Exception as e:\n",
    "    type_gym_vector_vector_env_VectorEnvWrapper_step_async = '_syft_missing'\n",
    "    print('❌ gym.vector.vector_env.VectorEnvWrapper.step_async: Return unavailable')\n",
    "    print(\"  Please fix this return type code until there is no exception\")\n",
    "    print('  Error:', e)\n"
   ]
  },
  {
   "cell_type": "code",
   "execution_count": null,
   "id": "7307976e",
   "metadata": {},
   "outputs": [],
   "source": [
    "# gym.vector.vector_env.VectorEnvWrapper.step_wait\n",
    "try:\n",
    "    obj = class_constructor()\n",
    "    ret = obj.step_wait()\n",
    "    type_gym_vector_vector_env_VectorEnvWrapper_step_wait = getattr(ret, '__module__', 'none') + '.' + ret.__class__.__name__\n",
    "    print('✅ gym.vector.vector_env.VectorEnvWrapper.step_wait: ', type(ret))\n",
    "except Exception as e:\n",
    "    type_gym_vector_vector_env_VectorEnvWrapper_step_wait = '_syft_missing'\n",
    "    print('❌ gym.vector.vector_env.VectorEnvWrapper.step_wait: Return unavailable')\n",
    "    print(\"  Please fix this return type code until there is no exception\")\n",
    "    print('  Error:', e)\n"
   ]
  },
  {
   "cell_type": "code",
   "execution_count": null,
   "id": "314b04aa",
   "metadata": {},
   "outputs": [],
   "source": [
    "# gym.vector.vector_env.VectorEnvWrapper.unwrapped\n",
    "try:\n",
    "    obj = class_constructor()\n",
    "    ret = obj.unwrapped\n",
    "    type_gym_vector_vector_env_VectorEnvWrapper_unwrapped = getattr(ret, '__module__', 'none') + '.' + ret.__class__.__name__\n",
    "    print('✅ gym.vector.vector_env.VectorEnvWrapper.unwrapped:', type(ret))\n",
    "except Exception as e:\n",
    "    type_gym_vector_vector_env_VectorEnvWrapper_unwrapped = '_syft_missing'\n",
    "    print('❌ gym.vector.vector_env.VectorEnvWrapper.unwrapped: Return unavailable')\n",
    "    print(\"  Please fix this return type code until there is no exception\")\n",
    "    print('  Error:', e)\n"
   ]
  }
 ],
 "metadata": {},
 "nbformat": 4,
 "nbformat_minor": 5
}
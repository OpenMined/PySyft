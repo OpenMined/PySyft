{
 "cells": [
  {
   "cell_type": "markdown",
   "id": "f3c37235",
   "metadata": {},
   "source": [
    "## gym.envs.robotics.robot_env.RobotEnv"
   ]
  },
  {
   "cell_type": "code",
   "execution_count": null,
   "id": "43f3f24a",
   "metadata": {},
   "outputs": [],
   "source": [
    "import gym\n",
    "def class_constructor(*args, **kwargs):\n",
    "    obj = gym.envs.robotics.robot_env.RobotEnv()\n",
    "    return obj\n"
   ]
  },
  {
   "cell_type": "code",
   "execution_count": null,
   "id": "bbf983d8",
   "metadata": {},
   "outputs": [],
   "source": [
    "# gym.envs.robotics.robot_env.RobotEnv.__enter__\n",
    "try:\n",
    "    obj = class_constructor()\n",
    "    ret = obj.__enter__()\n",
    "    type_gym_envs_robotics_robot_env_RobotEnv___enter__ = getattr(ret, '__module__', 'none') + '.' + ret.__class__.__name__\n",
    "    print('✅ gym.envs.robotics.robot_env.RobotEnv.__enter__: ', type(ret))\n",
    "except Exception as e:\n",
    "    type_gym_envs_robotics_robot_env_RobotEnv___enter__ = '_syft_missing'\n",
    "    print('❌ gym.envs.robotics.robot_env.RobotEnv.__enter__: Return unavailable')\n",
    "    print(\"  Please fix this return type code until there is no exception\")\n",
    "    print('  Error:', e)\n"
   ]
  },
  {
   "cell_type": "code",
   "execution_count": null,
   "id": "21fe342d",
   "metadata": {},
   "outputs": [],
   "source": [
    "# gym.envs.robotics.robot_env.RobotEnv.__exit__\n",
    "try:\n",
    "    obj = class_constructor()\n",
    "    ret = obj.__exit__()\n",
    "    type_gym_envs_robotics_robot_env_RobotEnv___exit__ = getattr(ret, '__module__', 'none') + '.' + ret.__class__.__name__\n",
    "    print('✅ gym.envs.robotics.robot_env.RobotEnv.__exit__: ', type(ret))\n",
    "except Exception as e:\n",
    "    type_gym_envs_robotics_robot_env_RobotEnv___exit__ = '_syft_missing'\n",
    "    print('❌ gym.envs.robotics.robot_env.RobotEnv.__exit__: Return unavailable')\n",
    "    print(\"  Please fix this return type code until there is no exception\")\n",
    "    print('  Error:', e)\n"
   ]
  },
  {
   "cell_type": "code",
   "execution_count": null,
   "id": "03302170",
   "metadata": {},
   "outputs": [],
   "source": [
    "# gym.envs.robotics.robot_env.RobotEnv.__str__\n",
    "try:\n",
    "    obj = class_constructor()\n",
    "    ret = obj.__str__()\n",
    "    type_gym_envs_robotics_robot_env_RobotEnv___str__ = getattr(ret, '__module__', 'none') + '.' + ret.__class__.__name__\n",
    "    print('✅ gym.envs.robotics.robot_env.RobotEnv.__str__: ', type(ret))\n",
    "except Exception as e:\n",
    "    type_gym_envs_robotics_robot_env_RobotEnv___str__ = '_syft_missing'\n",
    "    print('❌ gym.envs.robotics.robot_env.RobotEnv.__str__: Return unavailable')\n",
    "    print(\"  Please fix this return type code until there is no exception\")\n",
    "    print('  Error:', e)\n"
   ]
  },
  {
   "cell_type": "code",
   "execution_count": null,
   "id": "55104f9b",
   "metadata": {},
   "outputs": [],
   "source": [
    "# gym.envs.robotics.robot_env.RobotEnv._env_setup\n",
    "try:\n",
    "    obj = class_constructor()\n",
    "    ret = obj._env_setup()\n",
    "    type_gym_envs_robotics_robot_env_RobotEnv__env_setup = getattr(ret, '__module__', 'none') + '.' + ret.__class__.__name__\n",
    "    print('✅ gym.envs.robotics.robot_env.RobotEnv._env_setup: ', type(ret))\n",
    "except Exception as e:\n",
    "    type_gym_envs_robotics_robot_env_RobotEnv__env_setup = '_syft_missing'\n",
    "    print('❌ gym.envs.robotics.robot_env.RobotEnv._env_setup: Return unavailable')\n",
    "    print(\"  Please fix this return type code until there is no exception\")\n",
    "    print('  Error:', e)\n"
   ]
  },
  {
   "cell_type": "code",
   "execution_count": null,
   "id": "34a27d8d",
   "metadata": {},
   "outputs": [],
   "source": [
    "# gym.envs.robotics.robot_env.RobotEnv._get_obs\n",
    "try:\n",
    "    obj = class_constructor()\n",
    "    ret = obj._get_obs()\n",
    "    type_gym_envs_robotics_robot_env_RobotEnv__get_obs = getattr(ret, '__module__', 'none') + '.' + ret.__class__.__name__\n",
    "    print('✅ gym.envs.robotics.robot_env.RobotEnv._get_obs: ', type(ret))\n",
    "except Exception as e:\n",
    "    type_gym_envs_robotics_robot_env_RobotEnv__get_obs = '_syft_missing'\n",
    "    print('❌ gym.envs.robotics.robot_env.RobotEnv._get_obs: Return unavailable')\n",
    "    print(\"  Please fix this return type code until there is no exception\")\n",
    "    print('  Error:', e)\n"
   ]
  },
  {
   "cell_type": "code",
   "execution_count": null,
   "id": "01b6ea87",
   "metadata": {},
   "outputs": [],
   "source": [
    "# gym.envs.robotics.robot_env.RobotEnv._get_viewer\n",
    "try:\n",
    "    obj = class_constructor()\n",
    "    ret = obj._get_viewer()\n",
    "    type_gym_envs_robotics_robot_env_RobotEnv__get_viewer = getattr(ret, '__module__', 'none') + '.' + ret.__class__.__name__\n",
    "    print('✅ gym.envs.robotics.robot_env.RobotEnv._get_viewer: ', type(ret))\n",
    "except Exception as e:\n",
    "    type_gym_envs_robotics_robot_env_RobotEnv__get_viewer = '_syft_missing'\n",
    "    print('❌ gym.envs.robotics.robot_env.RobotEnv._get_viewer: Return unavailable')\n",
    "    print(\"  Please fix this return type code until there is no exception\")\n",
    "    print('  Error:', e)\n"
   ]
  },
  {
   "cell_type": "code",
   "execution_count": null,
   "id": "2f357f9f",
   "metadata": {},
   "outputs": [],
   "source": [
    "# gym.envs.robotics.robot_env.RobotEnv._is_success\n",
    "try:\n",
    "    obj = class_constructor()\n",
    "    ret = obj._is_success()\n",
    "    type_gym_envs_robotics_robot_env_RobotEnv__is_success = getattr(ret, '__module__', 'none') + '.' + ret.__class__.__name__\n",
    "    print('✅ gym.envs.robotics.robot_env.RobotEnv._is_success: ', type(ret))\n",
    "except Exception as e:\n",
    "    type_gym_envs_robotics_robot_env_RobotEnv__is_success = '_syft_missing'\n",
    "    print('❌ gym.envs.robotics.robot_env.RobotEnv._is_success: Return unavailable')\n",
    "    print(\"  Please fix this return type code until there is no exception\")\n",
    "    print('  Error:', e)\n"
   ]
  },
  {
   "cell_type": "code",
   "execution_count": null,
   "id": "ba198397",
   "metadata": {},
   "outputs": [],
   "source": [
    "# gym.envs.robotics.robot_env.RobotEnv._render_callback\n",
    "try:\n",
    "    obj = class_constructor()\n",
    "    ret = obj._render_callback()\n",
    "    type_gym_envs_robotics_robot_env_RobotEnv__render_callback = getattr(ret, '__module__', 'none') + '.' + ret.__class__.__name__\n",
    "    print('✅ gym.envs.robotics.robot_env.RobotEnv._render_callback: ', type(ret))\n",
    "except Exception as e:\n",
    "    type_gym_envs_robotics_robot_env_RobotEnv__render_callback = '_syft_missing'\n",
    "    print('❌ gym.envs.robotics.robot_env.RobotEnv._render_callback: Return unavailable')\n",
    "    print(\"  Please fix this return type code until there is no exception\")\n",
    "    print('  Error:', e)\n"
   ]
  },
  {
   "cell_type": "code",
   "execution_count": null,
   "id": "b4f4ee75",
   "metadata": {},
   "outputs": [],
   "source": [
    "# gym.envs.robotics.robot_env.RobotEnv._reset_sim\n",
    "try:\n",
    "    obj = class_constructor()\n",
    "    ret = obj._reset_sim()\n",
    "    type_gym_envs_robotics_robot_env_RobotEnv__reset_sim = getattr(ret, '__module__', 'none') + '.' + ret.__class__.__name__\n",
    "    print('✅ gym.envs.robotics.robot_env.RobotEnv._reset_sim: ', type(ret))\n",
    "except Exception as e:\n",
    "    type_gym_envs_robotics_robot_env_RobotEnv__reset_sim = '_syft_missing'\n",
    "    print('❌ gym.envs.robotics.robot_env.RobotEnv._reset_sim: Return unavailable')\n",
    "    print(\"  Please fix this return type code until there is no exception\")\n",
    "    print('  Error:', e)\n"
   ]
  },
  {
   "cell_type": "code",
   "execution_count": null,
   "id": "d7404771",
   "metadata": {},
   "outputs": [],
   "source": [
    "# gym.envs.robotics.robot_env.RobotEnv._sample_goal\n",
    "try:\n",
    "    obj = class_constructor()\n",
    "    ret = obj._sample_goal()\n",
    "    type_gym_envs_robotics_robot_env_RobotEnv__sample_goal = getattr(ret, '__module__', 'none') + '.' + ret.__class__.__name__\n",
    "    print('✅ gym.envs.robotics.robot_env.RobotEnv._sample_goal: ', type(ret))\n",
    "except Exception as e:\n",
    "    type_gym_envs_robotics_robot_env_RobotEnv__sample_goal = '_syft_missing'\n",
    "    print('❌ gym.envs.robotics.robot_env.RobotEnv._sample_goal: Return unavailable')\n",
    "    print(\"  Please fix this return type code until there is no exception\")\n",
    "    print('  Error:', e)\n"
   ]
  },
  {
   "cell_type": "code",
   "execution_count": null,
   "id": "32fb9805",
   "metadata": {},
   "outputs": [],
   "source": [
    "# gym.envs.robotics.robot_env.RobotEnv._set_action\n",
    "try:\n",
    "    obj = class_constructor()\n",
    "    ret = obj._set_action()\n",
    "    type_gym_envs_robotics_robot_env_RobotEnv__set_action = getattr(ret, '__module__', 'none') + '.' + ret.__class__.__name__\n",
    "    print('✅ gym.envs.robotics.robot_env.RobotEnv._set_action: ', type(ret))\n",
    "except Exception as e:\n",
    "    type_gym_envs_robotics_robot_env_RobotEnv__set_action = '_syft_missing'\n",
    "    print('❌ gym.envs.robotics.robot_env.RobotEnv._set_action: Return unavailable')\n",
    "    print(\"  Please fix this return type code until there is no exception\")\n",
    "    print('  Error:', e)\n"
   ]
  },
  {
   "cell_type": "code",
   "execution_count": null,
   "id": "74b7e52f",
   "metadata": {},
   "outputs": [],
   "source": [
    "# gym.envs.robotics.robot_env.RobotEnv._step_callback\n",
    "try:\n",
    "    obj = class_constructor()\n",
    "    ret = obj._step_callback()\n",
    "    type_gym_envs_robotics_robot_env_RobotEnv__step_callback = getattr(ret, '__module__', 'none') + '.' + ret.__class__.__name__\n",
    "    print('✅ gym.envs.robotics.robot_env.RobotEnv._step_callback: ', type(ret))\n",
    "except Exception as e:\n",
    "    type_gym_envs_robotics_robot_env_RobotEnv__step_callback = '_syft_missing'\n",
    "    print('❌ gym.envs.robotics.robot_env.RobotEnv._step_callback: Return unavailable')\n",
    "    print(\"  Please fix this return type code until there is no exception\")\n",
    "    print('  Error:', e)\n"
   ]
  },
  {
   "cell_type": "code",
   "execution_count": null,
   "id": "011545f5",
   "metadata": {},
   "outputs": [],
   "source": [
    "# gym.envs.robotics.robot_env.RobotEnv._viewer_setup\n",
    "try:\n",
    "    obj = class_constructor()\n",
    "    ret = obj._viewer_setup()\n",
    "    type_gym_envs_robotics_robot_env_RobotEnv__viewer_setup = getattr(ret, '__module__', 'none') + '.' + ret.__class__.__name__\n",
    "    print('✅ gym.envs.robotics.robot_env.RobotEnv._viewer_setup: ', type(ret))\n",
    "except Exception as e:\n",
    "    type_gym_envs_robotics_robot_env_RobotEnv__viewer_setup = '_syft_missing'\n",
    "    print('❌ gym.envs.robotics.robot_env.RobotEnv._viewer_setup: Return unavailable')\n",
    "    print(\"  Please fix this return type code until there is no exception\")\n",
    "    print('  Error:', e)\n"
   ]
  },
  {
   "cell_type": "code",
   "execution_count": null,
   "id": "a2f0bd31",
   "metadata": {},
   "outputs": [],
   "source": [
    "# gym.envs.robotics.robot_env.RobotEnv.close\n",
    "try:\n",
    "    obj = class_constructor()\n",
    "    ret = obj.close()\n",
    "    type_gym_envs_robotics_robot_env_RobotEnv_close = getattr(ret, '__module__', 'none') + '.' + ret.__class__.__name__\n",
    "    print('✅ gym.envs.robotics.robot_env.RobotEnv.close: ', type(ret))\n",
    "except Exception as e:\n",
    "    type_gym_envs_robotics_robot_env_RobotEnv_close = '_syft_missing'\n",
    "    print('❌ gym.envs.robotics.robot_env.RobotEnv.close: Return unavailable')\n",
    "    print(\"  Please fix this return type code until there is no exception\")\n",
    "    print('  Error:', e)\n"
   ]
  },
  {
   "cell_type": "code",
   "execution_count": null,
   "id": "fe67b2f9",
   "metadata": {},
   "outputs": [],
   "source": [
    "# gym.envs.robotics.robot_env.RobotEnv.compute_reward\n",
    "try:\n",
    "    obj = class_constructor()\n",
    "    ret = obj.compute_reward()\n",
    "    type_gym_envs_robotics_robot_env_RobotEnv_compute_reward = getattr(ret, '__module__', 'none') + '.' + ret.__class__.__name__\n",
    "    print('✅ gym.envs.robotics.robot_env.RobotEnv.compute_reward: ', type(ret))\n",
    "except Exception as e:\n",
    "    type_gym_envs_robotics_robot_env_RobotEnv_compute_reward = '_syft_missing'\n",
    "    print('❌ gym.envs.robotics.robot_env.RobotEnv.compute_reward: Return unavailable')\n",
    "    print(\"  Please fix this return type code until there is no exception\")\n",
    "    print('  Error:', e)\n"
   ]
  },
  {
   "cell_type": "code",
   "execution_count": null,
   "id": "7f6b2b24",
   "metadata": {},
   "outputs": [],
   "source": [
    "# gym.envs.robotics.robot_env.RobotEnv.dt\n",
    "try:\n",
    "    obj = class_constructor()\n",
    "    ret = obj.dt\n",
    "    type_gym_envs_robotics_robot_env_RobotEnv_dt = getattr(ret, '__module__', 'none') + '.' + ret.__class__.__name__\n",
    "    print('✅ gym.envs.robotics.robot_env.RobotEnv.dt:', type(ret))\n",
    "except Exception as e:\n",
    "    type_gym_envs_robotics_robot_env_RobotEnv_dt = '_syft_missing'\n",
    "    print('❌ gym.envs.robotics.robot_env.RobotEnv.dt: Return unavailable')\n",
    "    print(\"  Please fix this return type code until there is no exception\")\n",
    "    print('  Error:', e)\n"
   ]
  },
  {
   "cell_type": "code",
   "execution_count": null,
   "id": "b35908b2",
   "metadata": {},
   "outputs": [],
   "source": [
    "# gym.envs.robotics.robot_env.RobotEnv.render\n",
    "try:\n",
    "    obj = class_constructor()\n",
    "    ret = obj.render()\n",
    "    type_gym_envs_robotics_robot_env_RobotEnv_render = getattr(ret, '__module__', 'none') + '.' + ret.__class__.__name__\n",
    "    print('✅ gym.envs.robotics.robot_env.RobotEnv.render: ', type(ret))\n",
    "except Exception as e:\n",
    "    type_gym_envs_robotics_robot_env_RobotEnv_render = '_syft_missing'\n",
    "    print('❌ gym.envs.robotics.robot_env.RobotEnv.render: Return unavailable')\n",
    "    print(\"  Please fix this return type code until there is no exception\")\n",
    "    print('  Error:', e)\n"
   ]
  },
  {
   "cell_type": "code",
   "execution_count": null,
   "id": "daeb0312",
   "metadata": {},
   "outputs": [],
   "source": [
    "# gym.envs.robotics.robot_env.RobotEnv.reset\n",
    "try:\n",
    "    obj = class_constructor()\n",
    "    ret = obj.reset()\n",
    "    type_gym_envs_robotics_robot_env_RobotEnv_reset = getattr(ret, '__module__', 'none') + '.' + ret.__class__.__name__\n",
    "    print('✅ gym.envs.robotics.robot_env.RobotEnv.reset: ', type(ret))\n",
    "except Exception as e:\n",
    "    type_gym_envs_robotics_robot_env_RobotEnv_reset = '_syft_missing'\n",
    "    print('❌ gym.envs.robotics.robot_env.RobotEnv.reset: Return unavailable')\n",
    "    print(\"  Please fix this return type code until there is no exception\")\n",
    "    print('  Error:', e)\n"
   ]
  },
  {
   "cell_type": "code",
   "execution_count": null,
   "id": "550a65d7",
   "metadata": {},
   "outputs": [],
   "source": [
    "# gym.envs.robotics.robot_env.RobotEnv.seed\n",
    "try:\n",
    "    obj = class_constructor()\n",
    "    ret = obj.seed()\n",
    "    type_gym_envs_robotics_robot_env_RobotEnv_seed = getattr(ret, '__module__', 'none') + '.' + ret.__class__.__name__\n",
    "    print('✅ gym.envs.robotics.robot_env.RobotEnv.seed: ', type(ret))\n",
    "except Exception as e:\n",
    "    type_gym_envs_robotics_robot_env_RobotEnv_seed = '_syft_missing'\n",
    "    print('❌ gym.envs.robotics.robot_env.RobotEnv.seed: Return unavailable')\n",
    "    print(\"  Please fix this return type code until there is no exception\")\n",
    "    print('  Error:', e)\n"
   ]
  },
  {
   "cell_type": "code",
   "execution_count": null,
   "id": "6e2ce982",
   "metadata": {},
   "outputs": [],
   "source": [
    "# gym.envs.robotics.robot_env.RobotEnv.step\n",
    "try:\n",
    "    obj = class_constructor()\n",
    "    ret = obj.step()\n",
    "    type_gym_envs_robotics_robot_env_RobotEnv_step = getattr(ret, '__module__', 'none') + '.' + ret.__class__.__name__\n",
    "    print('✅ gym.envs.robotics.robot_env.RobotEnv.step: ', type(ret))\n",
    "except Exception as e:\n",
    "    type_gym_envs_robotics_robot_env_RobotEnv_step = '_syft_missing'\n",
    "    print('❌ gym.envs.robotics.robot_env.RobotEnv.step: Return unavailable')\n",
    "    print(\"  Please fix this return type code until there is no exception\")\n",
    "    print('  Error:', e)\n"
   ]
  },
  {
   "cell_type": "code",
   "execution_count": null,
   "id": "262610d5",
   "metadata": {},
   "outputs": [],
   "source": [
    "# gym.envs.robotics.robot_env.RobotEnv.unwrapped\n",
    "try:\n",
    "    obj = class_constructor()\n",
    "    ret = obj.unwrapped\n",
    "    type_gym_envs_robotics_robot_env_RobotEnv_unwrapped = getattr(ret, '__module__', 'none') + '.' + ret.__class__.__name__\n",
    "    print('✅ gym.envs.robotics.robot_env.RobotEnv.unwrapped:', type(ret))\n",
    "except Exception as e:\n",
    "    type_gym_envs_robotics_robot_env_RobotEnv_unwrapped = '_syft_missing'\n",
    "    print('❌ gym.envs.robotics.robot_env.RobotEnv.unwrapped: Return unavailable')\n",
    "    print(\"  Please fix this return type code until there is no exception\")\n",
    "    print('  Error:', e)\n"
   ]
  }
 ],
 "metadata": {},
 "nbformat": 4,
 "nbformat_minor": 5
}
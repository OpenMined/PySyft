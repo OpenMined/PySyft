{
 "cells": [
  {
   "cell_type": "markdown",
   "id": "d3e8e4b5",
   "metadata": {},
   "source": [
    "## gym.envs.robotics.hand_env.HandEnv"
   ]
  },
  {
   "cell_type": "code",
   "execution_count": null,
   "id": "4a57e304",
   "metadata": {},
   "outputs": [],
   "source": [
    "import gym\n",
    "def class_constructor(*args, **kwargs):\n",
    "    obj = gym.envs.robotics.hand_env.HandEnv()\n",
    "    return obj\n"
   ]
  },
  {
   "cell_type": "code",
   "execution_count": null,
   "id": "c30eef6f",
   "metadata": {},
   "outputs": [],
   "source": [
    "# gym.envs.robotics.hand_env.HandEnv.__enter__\n",
    "try:\n",
    "    obj = class_constructor()\n",
    "    ret = obj.__enter__()\n",
    "    type_gym_envs_robotics_hand_env_HandEnv___enter__ = getattr(ret, '__module__', 'none') + '.' + ret.__class__.__name__\n",
    "    print('✅ gym.envs.robotics.hand_env.HandEnv.__enter__: ', type(ret))\n",
    "except Exception as e:\n",
    "    type_gym_envs_robotics_hand_env_HandEnv___enter__ = '_syft_missing'\n",
    "    print('❌ gym.envs.robotics.hand_env.HandEnv.__enter__: Return unavailable')\n",
    "    print(\"  Please fix this return type code until there is no exception\")\n",
    "    print('  Error:', e)\n"
   ]
  },
  {
   "cell_type": "code",
   "execution_count": null,
   "id": "ea005777",
   "metadata": {},
   "outputs": [],
   "source": [
    "# gym.envs.robotics.hand_env.HandEnv.__exit__\n",
    "try:\n",
    "    obj = class_constructor()\n",
    "    ret = obj.__exit__()\n",
    "    type_gym_envs_robotics_hand_env_HandEnv___exit__ = getattr(ret, '__module__', 'none') + '.' + ret.__class__.__name__\n",
    "    print('✅ gym.envs.robotics.hand_env.HandEnv.__exit__: ', type(ret))\n",
    "except Exception as e:\n",
    "    type_gym_envs_robotics_hand_env_HandEnv___exit__ = '_syft_missing'\n",
    "    print('❌ gym.envs.robotics.hand_env.HandEnv.__exit__: Return unavailable')\n",
    "    print(\"  Please fix this return type code until there is no exception\")\n",
    "    print('  Error:', e)\n"
   ]
  },
  {
   "cell_type": "code",
   "execution_count": null,
   "id": "be7081e3",
   "metadata": {},
   "outputs": [],
   "source": [
    "# gym.envs.robotics.hand_env.HandEnv.__str__\n",
    "try:\n",
    "    obj = class_constructor()\n",
    "    ret = obj.__str__()\n",
    "    type_gym_envs_robotics_hand_env_HandEnv___str__ = getattr(ret, '__module__', 'none') + '.' + ret.__class__.__name__\n",
    "    print('✅ gym.envs.robotics.hand_env.HandEnv.__str__: ', type(ret))\n",
    "except Exception as e:\n",
    "    type_gym_envs_robotics_hand_env_HandEnv___str__ = '_syft_missing'\n",
    "    print('❌ gym.envs.robotics.hand_env.HandEnv.__str__: Return unavailable')\n",
    "    print(\"  Please fix this return type code until there is no exception\")\n",
    "    print('  Error:', e)\n"
   ]
  },
  {
   "cell_type": "code",
   "execution_count": null,
   "id": "dcc54bd3",
   "metadata": {},
   "outputs": [],
   "source": [
    "# gym.envs.robotics.hand_env.HandEnv._env_setup\n",
    "try:\n",
    "    obj = class_constructor()\n",
    "    ret = obj._env_setup()\n",
    "    type_gym_envs_robotics_hand_env_HandEnv__env_setup = getattr(ret, '__module__', 'none') + '.' + ret.__class__.__name__\n",
    "    print('✅ gym.envs.robotics.hand_env.HandEnv._env_setup: ', type(ret))\n",
    "except Exception as e:\n",
    "    type_gym_envs_robotics_hand_env_HandEnv__env_setup = '_syft_missing'\n",
    "    print('❌ gym.envs.robotics.hand_env.HandEnv._env_setup: Return unavailable')\n",
    "    print(\"  Please fix this return type code until there is no exception\")\n",
    "    print('  Error:', e)\n"
   ]
  },
  {
   "cell_type": "code",
   "execution_count": null,
   "id": "97d25b15",
   "metadata": {},
   "outputs": [],
   "source": [
    "# gym.envs.robotics.hand_env.HandEnv._get_obs\n",
    "try:\n",
    "    obj = class_constructor()\n",
    "    ret = obj._get_obs()\n",
    "    type_gym_envs_robotics_hand_env_HandEnv__get_obs = getattr(ret, '__module__', 'none') + '.' + ret.__class__.__name__\n",
    "    print('✅ gym.envs.robotics.hand_env.HandEnv._get_obs: ', type(ret))\n",
    "except Exception as e:\n",
    "    type_gym_envs_robotics_hand_env_HandEnv__get_obs = '_syft_missing'\n",
    "    print('❌ gym.envs.robotics.hand_env.HandEnv._get_obs: Return unavailable')\n",
    "    print(\"  Please fix this return type code until there is no exception\")\n",
    "    print('  Error:', e)\n"
   ]
  },
  {
   "cell_type": "code",
   "execution_count": null,
   "id": "a6925185",
   "metadata": {},
   "outputs": [],
   "source": [
    "# gym.envs.robotics.hand_env.HandEnv._get_viewer\n",
    "try:\n",
    "    obj = class_constructor()\n",
    "    ret = obj._get_viewer()\n",
    "    type_gym_envs_robotics_hand_env_HandEnv__get_viewer = getattr(ret, '__module__', 'none') + '.' + ret.__class__.__name__\n",
    "    print('✅ gym.envs.robotics.hand_env.HandEnv._get_viewer: ', type(ret))\n",
    "except Exception as e:\n",
    "    type_gym_envs_robotics_hand_env_HandEnv__get_viewer = '_syft_missing'\n",
    "    print('❌ gym.envs.robotics.hand_env.HandEnv._get_viewer: Return unavailable')\n",
    "    print(\"  Please fix this return type code until there is no exception\")\n",
    "    print('  Error:', e)\n"
   ]
  },
  {
   "cell_type": "code",
   "execution_count": null,
   "id": "088824a7",
   "metadata": {},
   "outputs": [],
   "source": [
    "# gym.envs.robotics.hand_env.HandEnv._is_success\n",
    "try:\n",
    "    obj = class_constructor()\n",
    "    ret = obj._is_success()\n",
    "    type_gym_envs_robotics_hand_env_HandEnv__is_success = getattr(ret, '__module__', 'none') + '.' + ret.__class__.__name__\n",
    "    print('✅ gym.envs.robotics.hand_env.HandEnv._is_success: ', type(ret))\n",
    "except Exception as e:\n",
    "    type_gym_envs_robotics_hand_env_HandEnv__is_success = '_syft_missing'\n",
    "    print('❌ gym.envs.robotics.hand_env.HandEnv._is_success: Return unavailable')\n",
    "    print(\"  Please fix this return type code until there is no exception\")\n",
    "    print('  Error:', e)\n"
   ]
  },
  {
   "cell_type": "code",
   "execution_count": null,
   "id": "a7837df8",
   "metadata": {},
   "outputs": [],
   "source": [
    "# gym.envs.robotics.hand_env.HandEnv._render_callback\n",
    "try:\n",
    "    obj = class_constructor()\n",
    "    ret = obj._render_callback()\n",
    "    type_gym_envs_robotics_hand_env_HandEnv__render_callback = getattr(ret, '__module__', 'none') + '.' + ret.__class__.__name__\n",
    "    print('✅ gym.envs.robotics.hand_env.HandEnv._render_callback: ', type(ret))\n",
    "except Exception as e:\n",
    "    type_gym_envs_robotics_hand_env_HandEnv__render_callback = '_syft_missing'\n",
    "    print('❌ gym.envs.robotics.hand_env.HandEnv._render_callback: Return unavailable')\n",
    "    print(\"  Please fix this return type code until there is no exception\")\n",
    "    print('  Error:', e)\n"
   ]
  },
  {
   "cell_type": "code",
   "execution_count": null,
   "id": "f553c589",
   "metadata": {},
   "outputs": [],
   "source": [
    "# gym.envs.robotics.hand_env.HandEnv._reset_sim\n",
    "try:\n",
    "    obj = class_constructor()\n",
    "    ret = obj._reset_sim()\n",
    "    type_gym_envs_robotics_hand_env_HandEnv__reset_sim = getattr(ret, '__module__', 'none') + '.' + ret.__class__.__name__\n",
    "    print('✅ gym.envs.robotics.hand_env.HandEnv._reset_sim: ', type(ret))\n",
    "except Exception as e:\n",
    "    type_gym_envs_robotics_hand_env_HandEnv__reset_sim = '_syft_missing'\n",
    "    print('❌ gym.envs.robotics.hand_env.HandEnv._reset_sim: Return unavailable')\n",
    "    print(\"  Please fix this return type code until there is no exception\")\n",
    "    print('  Error:', e)\n"
   ]
  },
  {
   "cell_type": "code",
   "execution_count": null,
   "id": "17d9e567",
   "metadata": {},
   "outputs": [],
   "source": [
    "# gym.envs.robotics.hand_env.HandEnv._sample_goal\n",
    "try:\n",
    "    obj = class_constructor()\n",
    "    ret = obj._sample_goal()\n",
    "    type_gym_envs_robotics_hand_env_HandEnv__sample_goal = getattr(ret, '__module__', 'none') + '.' + ret.__class__.__name__\n",
    "    print('✅ gym.envs.robotics.hand_env.HandEnv._sample_goal: ', type(ret))\n",
    "except Exception as e:\n",
    "    type_gym_envs_robotics_hand_env_HandEnv__sample_goal = '_syft_missing'\n",
    "    print('❌ gym.envs.robotics.hand_env.HandEnv._sample_goal: Return unavailable')\n",
    "    print(\"  Please fix this return type code until there is no exception\")\n",
    "    print('  Error:', e)\n"
   ]
  },
  {
   "cell_type": "code",
   "execution_count": null,
   "id": "8ecaef57",
   "metadata": {},
   "outputs": [],
   "source": [
    "# gym.envs.robotics.hand_env.HandEnv._set_action\n",
    "try:\n",
    "    obj = class_constructor()\n",
    "    ret = obj._set_action()\n",
    "    type_gym_envs_robotics_hand_env_HandEnv__set_action = getattr(ret, '__module__', 'none') + '.' + ret.__class__.__name__\n",
    "    print('✅ gym.envs.robotics.hand_env.HandEnv._set_action: ', type(ret))\n",
    "except Exception as e:\n",
    "    type_gym_envs_robotics_hand_env_HandEnv__set_action = '_syft_missing'\n",
    "    print('❌ gym.envs.robotics.hand_env.HandEnv._set_action: Return unavailable')\n",
    "    print(\"  Please fix this return type code until there is no exception\")\n",
    "    print('  Error:', e)\n"
   ]
  },
  {
   "cell_type": "code",
   "execution_count": null,
   "id": "5346a919",
   "metadata": {},
   "outputs": [],
   "source": [
    "# gym.envs.robotics.hand_env.HandEnv._step_callback\n",
    "try:\n",
    "    obj = class_constructor()\n",
    "    ret = obj._step_callback()\n",
    "    type_gym_envs_robotics_hand_env_HandEnv__step_callback = getattr(ret, '__module__', 'none') + '.' + ret.__class__.__name__\n",
    "    print('✅ gym.envs.robotics.hand_env.HandEnv._step_callback: ', type(ret))\n",
    "except Exception as e:\n",
    "    type_gym_envs_robotics_hand_env_HandEnv__step_callback = '_syft_missing'\n",
    "    print('❌ gym.envs.robotics.hand_env.HandEnv._step_callback: Return unavailable')\n",
    "    print(\"  Please fix this return type code until there is no exception\")\n",
    "    print('  Error:', e)\n"
   ]
  },
  {
   "cell_type": "code",
   "execution_count": null,
   "id": "4585a2f8",
   "metadata": {},
   "outputs": [],
   "source": [
    "# gym.envs.robotics.hand_env.HandEnv._viewer_setup\n",
    "try:\n",
    "    obj = class_constructor()\n",
    "    ret = obj._viewer_setup()\n",
    "    type_gym_envs_robotics_hand_env_HandEnv__viewer_setup = getattr(ret, '__module__', 'none') + '.' + ret.__class__.__name__\n",
    "    print('✅ gym.envs.robotics.hand_env.HandEnv._viewer_setup: ', type(ret))\n",
    "except Exception as e:\n",
    "    type_gym_envs_robotics_hand_env_HandEnv__viewer_setup = '_syft_missing'\n",
    "    print('❌ gym.envs.robotics.hand_env.HandEnv._viewer_setup: Return unavailable')\n",
    "    print(\"  Please fix this return type code until there is no exception\")\n",
    "    print('  Error:', e)\n"
   ]
  },
  {
   "cell_type": "code",
   "execution_count": null,
   "id": "c6f5c762",
   "metadata": {},
   "outputs": [],
   "source": [
    "# gym.envs.robotics.hand_env.HandEnv.close\n",
    "try:\n",
    "    obj = class_constructor()\n",
    "    ret = obj.close()\n",
    "    type_gym_envs_robotics_hand_env_HandEnv_close = getattr(ret, '__module__', 'none') + '.' + ret.__class__.__name__\n",
    "    print('✅ gym.envs.robotics.hand_env.HandEnv.close: ', type(ret))\n",
    "except Exception as e:\n",
    "    type_gym_envs_robotics_hand_env_HandEnv_close = '_syft_missing'\n",
    "    print('❌ gym.envs.robotics.hand_env.HandEnv.close: Return unavailable')\n",
    "    print(\"  Please fix this return type code until there is no exception\")\n",
    "    print('  Error:', e)\n"
   ]
  },
  {
   "cell_type": "code",
   "execution_count": null,
   "id": "3330fd0c",
   "metadata": {},
   "outputs": [],
   "source": [
    "# gym.envs.robotics.hand_env.HandEnv.compute_reward\n",
    "try:\n",
    "    obj = class_constructor()\n",
    "    ret = obj.compute_reward()\n",
    "    type_gym_envs_robotics_hand_env_HandEnv_compute_reward = getattr(ret, '__module__', 'none') + '.' + ret.__class__.__name__\n",
    "    print('✅ gym.envs.robotics.hand_env.HandEnv.compute_reward: ', type(ret))\n",
    "except Exception as e:\n",
    "    type_gym_envs_robotics_hand_env_HandEnv_compute_reward = '_syft_missing'\n",
    "    print('❌ gym.envs.robotics.hand_env.HandEnv.compute_reward: Return unavailable')\n",
    "    print(\"  Please fix this return type code until there is no exception\")\n",
    "    print('  Error:', e)\n"
   ]
  },
  {
   "cell_type": "code",
   "execution_count": null,
   "id": "1ebde6e5",
   "metadata": {},
   "outputs": [],
   "source": [
    "# gym.envs.robotics.hand_env.HandEnv.dt\n",
    "try:\n",
    "    obj = class_constructor()\n",
    "    ret = obj.dt\n",
    "    type_gym_envs_robotics_hand_env_HandEnv_dt = getattr(ret, '__module__', 'none') + '.' + ret.__class__.__name__\n",
    "    print('✅ gym.envs.robotics.hand_env.HandEnv.dt:', type(ret))\n",
    "except Exception as e:\n",
    "    type_gym_envs_robotics_hand_env_HandEnv_dt = '_syft_missing'\n",
    "    print('❌ gym.envs.robotics.hand_env.HandEnv.dt: Return unavailable')\n",
    "    print(\"  Please fix this return type code until there is no exception\")\n",
    "    print('  Error:', e)\n"
   ]
  },
  {
   "cell_type": "code",
   "execution_count": null,
   "id": "fe364baf",
   "metadata": {},
   "outputs": [],
   "source": [
    "# gym.envs.robotics.hand_env.HandEnv.render\n",
    "try:\n",
    "    obj = class_constructor()\n",
    "    ret = obj.render()\n",
    "    type_gym_envs_robotics_hand_env_HandEnv_render = getattr(ret, '__module__', 'none') + '.' + ret.__class__.__name__\n",
    "    print('✅ gym.envs.robotics.hand_env.HandEnv.render: ', type(ret))\n",
    "except Exception as e:\n",
    "    type_gym_envs_robotics_hand_env_HandEnv_render = '_syft_missing'\n",
    "    print('❌ gym.envs.robotics.hand_env.HandEnv.render: Return unavailable')\n",
    "    print(\"  Please fix this return type code until there is no exception\")\n",
    "    print('  Error:', e)\n"
   ]
  },
  {
   "cell_type": "code",
   "execution_count": null,
   "id": "934b354f",
   "metadata": {},
   "outputs": [],
   "source": [
    "# gym.envs.robotics.hand_env.HandEnv.reset\n",
    "try:\n",
    "    obj = class_constructor()\n",
    "    ret = obj.reset()\n",
    "    type_gym_envs_robotics_hand_env_HandEnv_reset = getattr(ret, '__module__', 'none') + '.' + ret.__class__.__name__\n",
    "    print('✅ gym.envs.robotics.hand_env.HandEnv.reset: ', type(ret))\n",
    "except Exception as e:\n",
    "    type_gym_envs_robotics_hand_env_HandEnv_reset = '_syft_missing'\n",
    "    print('❌ gym.envs.robotics.hand_env.HandEnv.reset: Return unavailable')\n",
    "    print(\"  Please fix this return type code until there is no exception\")\n",
    "    print('  Error:', e)\n"
   ]
  },
  {
   "cell_type": "code",
   "execution_count": null,
   "id": "981ac8e2",
   "metadata": {},
   "outputs": [],
   "source": [
    "# gym.envs.robotics.hand_env.HandEnv.seed\n",
    "try:\n",
    "    obj = class_constructor()\n",
    "    ret = obj.seed()\n",
    "    type_gym_envs_robotics_hand_env_HandEnv_seed = getattr(ret, '__module__', 'none') + '.' + ret.__class__.__name__\n",
    "    print('✅ gym.envs.robotics.hand_env.HandEnv.seed: ', type(ret))\n",
    "except Exception as e:\n",
    "    type_gym_envs_robotics_hand_env_HandEnv_seed = '_syft_missing'\n",
    "    print('❌ gym.envs.robotics.hand_env.HandEnv.seed: Return unavailable')\n",
    "    print(\"  Please fix this return type code until there is no exception\")\n",
    "    print('  Error:', e)\n"
   ]
  },
  {
   "cell_type": "code",
   "execution_count": null,
   "id": "ec1ac9a8",
   "metadata": {},
   "outputs": [],
   "source": [
    "# gym.envs.robotics.hand_env.HandEnv.step\n",
    "try:\n",
    "    obj = class_constructor()\n",
    "    ret = obj.step()\n",
    "    type_gym_envs_robotics_hand_env_HandEnv_step = getattr(ret, '__module__', 'none') + '.' + ret.__class__.__name__\n",
    "    print('✅ gym.envs.robotics.hand_env.HandEnv.step: ', type(ret))\n",
    "except Exception as e:\n",
    "    type_gym_envs_robotics_hand_env_HandEnv_step = '_syft_missing'\n",
    "    print('❌ gym.envs.robotics.hand_env.HandEnv.step: Return unavailable')\n",
    "    print(\"  Please fix this return type code until there is no exception\")\n",
    "    print('  Error:', e)\n"
   ]
  },
  {
   "cell_type": "code",
   "execution_count": null,
   "id": "9a94669a",
   "metadata": {},
   "outputs": [],
   "source": [
    "# gym.envs.robotics.hand_env.HandEnv.unwrapped\n",
    "try:\n",
    "    obj = class_constructor()\n",
    "    ret = obj.unwrapped\n",
    "    type_gym_envs_robotics_hand_env_HandEnv_unwrapped = getattr(ret, '__module__', 'none') + '.' + ret.__class__.__name__\n",
    "    print('✅ gym.envs.robotics.hand_env.HandEnv.unwrapped:', type(ret))\n",
    "except Exception as e:\n",
    "    type_gym_envs_robotics_hand_env_HandEnv_unwrapped = '_syft_missing'\n",
    "    print('❌ gym.envs.robotics.hand_env.HandEnv.unwrapped: Return unavailable')\n",
    "    print(\"  Please fix this return type code until there is no exception\")\n",
    "    print('  Error:', e)\n"
   ]
  }
 ],
 "metadata": {},
 "nbformat": 4,
 "nbformat_minor": 5
}
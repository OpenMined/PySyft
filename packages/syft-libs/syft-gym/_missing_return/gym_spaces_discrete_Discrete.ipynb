{
 "cells": [
  {
   "cell_type": "markdown",
   "id": "b7933d2e",
   "metadata": {},
   "source": [
    "## gym.spaces.discrete.Discrete"
   ]
  },
  {
   "cell_type": "code",
   "execution_count": null,
   "id": "b07a7d0f",
   "metadata": {},
   "outputs": [],
   "source": [
    "import gym\n",
    "def class_constructor(*args, **kwargs):\n",
    "    obj = gym.spaces.discrete.Discrete()\n",
    "    return obj\n"
   ]
  },
  {
   "cell_type": "code",
   "execution_count": null,
   "id": "89be2aee",
   "metadata": {},
   "outputs": [],
   "source": [
    "# gym.spaces.discrete.Discrete.__contains__\n",
    "try:\n",
    "    obj = class_constructor()\n",
    "    ret = obj.__contains__()\n",
    "    type_gym_spaces_discrete_Discrete___contains__ = getattr(ret, '__module__', 'none') + '.' + ret.__class__.__name__\n",
    "    print('✅ gym.spaces.discrete.Discrete.__contains__: ', type(ret))\n",
    "except Exception as e:\n",
    "    type_gym_spaces_discrete_Discrete___contains__ = '_syft_missing'\n",
    "    print('❌ gym.spaces.discrete.Discrete.__contains__: Return unavailable')\n",
    "    print(\"  Please fix this return type code until there is no exception\")\n",
    "    print('  Error:', e)\n"
   ]
  },
  {
   "cell_type": "code",
   "execution_count": null,
   "id": "fb6461ef",
   "metadata": {},
   "outputs": [],
   "source": [
    "# gym.spaces.discrete.Discrete.__eq__\n",
    "try:\n",
    "    obj = class_constructor()\n",
    "    ret = obj.__eq__()\n",
    "    type_gym_spaces_discrete_Discrete___eq__ = getattr(ret, '__module__', 'none') + '.' + ret.__class__.__name__\n",
    "    print('✅ gym.spaces.discrete.Discrete.__eq__: ', type(ret))\n",
    "except Exception as e:\n",
    "    type_gym_spaces_discrete_Discrete___eq__ = '_syft_missing'\n",
    "    print('❌ gym.spaces.discrete.Discrete.__eq__: Return unavailable')\n",
    "    print(\"  Please fix this return type code until there is no exception\")\n",
    "    print('  Error:', e)\n"
   ]
  },
  {
   "cell_type": "code",
   "execution_count": null,
   "id": "c0f6f54a",
   "metadata": {},
   "outputs": [],
   "source": [
    "# gym.spaces.discrete.Discrete.__repr__\n",
    "try:\n",
    "    obj = class_constructor()\n",
    "    ret = obj.__repr__()\n",
    "    type_gym_spaces_discrete_Discrete___repr__ = getattr(ret, '__module__', 'none') + '.' + ret.__class__.__name__\n",
    "    print('✅ gym.spaces.discrete.Discrete.__repr__: ', type(ret))\n",
    "except Exception as e:\n",
    "    type_gym_spaces_discrete_Discrete___repr__ = '_syft_missing'\n",
    "    print('❌ gym.spaces.discrete.Discrete.__repr__: Return unavailable')\n",
    "    print(\"  Please fix this return type code until there is no exception\")\n",
    "    print('  Error:', e)\n"
   ]
  },
  {
   "cell_type": "code",
   "execution_count": null,
   "id": "b1f366b3",
   "metadata": {},
   "outputs": [],
   "source": [
    "# gym.spaces.discrete.Discrete.contains\n",
    "try:\n",
    "    obj = class_constructor()\n",
    "    ret = obj.contains()\n",
    "    type_gym_spaces_discrete_Discrete_contains = getattr(ret, '__module__', 'none') + '.' + ret.__class__.__name__\n",
    "    print('✅ gym.spaces.discrete.Discrete.contains: ', type(ret))\n",
    "except Exception as e:\n",
    "    type_gym_spaces_discrete_Discrete_contains = '_syft_missing'\n",
    "    print('❌ gym.spaces.discrete.Discrete.contains: Return unavailable')\n",
    "    print(\"  Please fix this return type code until there is no exception\")\n",
    "    print('  Error:', e)\n"
   ]
  },
  {
   "cell_type": "code",
   "execution_count": null,
   "id": "d5ea5606",
   "metadata": {},
   "outputs": [],
   "source": [
    "# gym.spaces.discrete.Discrete.from_jsonable\n",
    "try:\n",
    "    obj = class_constructor()\n",
    "    ret = obj.from_jsonable()\n",
    "    type_gym_spaces_discrete_Discrete_from_jsonable = getattr(ret, '__module__', 'none') + '.' + ret.__class__.__name__\n",
    "    print('✅ gym.spaces.discrete.Discrete.from_jsonable: ', type(ret))\n",
    "except Exception as e:\n",
    "    type_gym_spaces_discrete_Discrete_from_jsonable = '_syft_missing'\n",
    "    print('❌ gym.spaces.discrete.Discrete.from_jsonable: Return unavailable')\n",
    "    print(\"  Please fix this return type code until there is no exception\")\n",
    "    print('  Error:', e)\n"
   ]
  },
  {
   "cell_type": "code",
   "execution_count": null,
   "id": "79169493",
   "metadata": {},
   "outputs": [],
   "source": [
    "# gym.spaces.discrete.Discrete.np_random\n",
    "try:\n",
    "    obj = class_constructor()\n",
    "    ret = obj.np_random\n",
    "    type_gym_spaces_discrete_Discrete_np_random = getattr(ret, '__module__', 'none') + '.' + ret.__class__.__name__\n",
    "    print('✅ gym.spaces.discrete.Discrete.np_random:', type(ret))\n",
    "except Exception as e:\n",
    "    type_gym_spaces_discrete_Discrete_np_random = '_syft_missing'\n",
    "    print('❌ gym.spaces.discrete.Discrete.np_random: Return unavailable')\n",
    "    print(\"  Please fix this return type code until there is no exception\")\n",
    "    print('  Error:', e)\n"
   ]
  },
  {
   "cell_type": "code",
   "execution_count": null,
   "id": "d7ea33f4",
   "metadata": {},
   "outputs": [],
   "source": [
    "# gym.spaces.discrete.Discrete.sample\n",
    "try:\n",
    "    obj = class_constructor()\n",
    "    ret = obj.sample()\n",
    "    type_gym_spaces_discrete_Discrete_sample = getattr(ret, '__module__', 'none') + '.' + ret.__class__.__name__\n",
    "    print('✅ gym.spaces.discrete.Discrete.sample: ', type(ret))\n",
    "except Exception as e:\n",
    "    type_gym_spaces_discrete_Discrete_sample = '_syft_missing'\n",
    "    print('❌ gym.spaces.discrete.Discrete.sample: Return unavailable')\n",
    "    print(\"  Please fix this return type code until there is no exception\")\n",
    "    print('  Error:', e)\n"
   ]
  },
  {
   "cell_type": "code",
   "execution_count": null,
   "id": "f214fbf7",
   "metadata": {},
   "outputs": [],
   "source": [
    "# gym.spaces.discrete.Discrete.seed\n",
    "try:\n",
    "    obj = class_constructor()\n",
    "    ret = obj.seed()\n",
    "    type_gym_spaces_discrete_Discrete_seed = getattr(ret, '__module__', 'none') + '.' + ret.__class__.__name__\n",
    "    print('✅ gym.spaces.discrete.Discrete.seed: ', type(ret))\n",
    "except Exception as e:\n",
    "    type_gym_spaces_discrete_Discrete_seed = '_syft_missing'\n",
    "    print('❌ gym.spaces.discrete.Discrete.seed: Return unavailable')\n",
    "    print(\"  Please fix this return type code until there is no exception\")\n",
    "    print('  Error:', e)\n"
   ]
  },
  {
   "cell_type": "code",
   "execution_count": null,
   "id": "ab5debf9",
   "metadata": {},
   "outputs": [],
   "source": [
    "# gym.spaces.discrete.Discrete.to_jsonable\n",
    "try:\n",
    "    obj = class_constructor()\n",
    "    ret = obj.to_jsonable()\n",
    "    type_gym_spaces_discrete_Discrete_to_jsonable = getattr(ret, '__module__', 'none') + '.' + ret.__class__.__name__\n",
    "    print('✅ gym.spaces.discrete.Discrete.to_jsonable: ', type(ret))\n",
    "except Exception as e:\n",
    "    type_gym_spaces_discrete_Discrete_to_jsonable = '_syft_missing'\n",
    "    print('❌ gym.spaces.discrete.Discrete.to_jsonable: Return unavailable')\n",
    "    print(\"  Please fix this return type code until there is no exception\")\n",
    "    print('  Error:', e)\n"
   ]
  }
 ],
 "metadata": {},
 "nbformat": 4,
 "nbformat_minor": 5
}
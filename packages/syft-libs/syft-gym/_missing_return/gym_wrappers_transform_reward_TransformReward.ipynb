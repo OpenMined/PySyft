{
 "cells": [
  {
   "cell_type": "markdown",
   "id": "45909ffe",
   "metadata": {},
   "source": [
    "## gym.wrappers.transform_reward.TransformReward"
   ]
  },
  {
   "cell_type": "code",
   "execution_count": null,
   "id": "fad8524f",
   "metadata": {},
   "outputs": [],
   "source": [
    "import gym\n",
    "def class_constructor(*args, **kwargs):\n",
    "    obj = gym.wrappers.transform_reward.TransformReward()\n",
    "    return obj\n"
   ]
  },
  {
   "cell_type": "code",
   "execution_count": null,
   "id": "c75a2e2a",
   "metadata": {},
   "outputs": [],
   "source": [
    "# gym.wrappers.transform_reward.TransformReward.__enter__\n",
    "try:\n",
    "    obj = class_constructor()\n",
    "    ret = obj.__enter__()\n",
    "    type_gym_wrappers_transform_reward_TransformReward___enter__ = getattr(ret, '__module__', 'none') + '.' + ret.__class__.__name__\n",
    "    print('✅ gym.wrappers.transform_reward.TransformReward.__enter__: ', type(ret))\n",
    "except Exception as e:\n",
    "    type_gym_wrappers_transform_reward_TransformReward___enter__ = '_syft_missing'\n",
    "    print('❌ gym.wrappers.transform_reward.TransformReward.__enter__: Return unavailable')\n",
    "    print(\"  Please fix this return type code until there is no exception\")\n",
    "    print('  Error:', e)\n"
   ]
  },
  {
   "cell_type": "code",
   "execution_count": null,
   "id": "c1df3b61",
   "metadata": {},
   "outputs": [],
   "source": [
    "# gym.wrappers.transform_reward.TransformReward.__exit__\n",
    "try:\n",
    "    obj = class_constructor()\n",
    "    ret = obj.__exit__()\n",
    "    type_gym_wrappers_transform_reward_TransformReward___exit__ = getattr(ret, '__module__', 'none') + '.' + ret.__class__.__name__\n",
    "    print('✅ gym.wrappers.transform_reward.TransformReward.__exit__: ', type(ret))\n",
    "except Exception as e:\n",
    "    type_gym_wrappers_transform_reward_TransformReward___exit__ = '_syft_missing'\n",
    "    print('❌ gym.wrappers.transform_reward.TransformReward.__exit__: Return unavailable')\n",
    "    print(\"  Please fix this return type code until there is no exception\")\n",
    "    print('  Error:', e)\n"
   ]
  },
  {
   "cell_type": "code",
   "execution_count": null,
   "id": "33c5ee84",
   "metadata": {},
   "outputs": [],
   "source": [
    "# gym.wrappers.transform_reward.TransformReward.__getattr__\n",
    "try:\n",
    "    obj = class_constructor()\n",
    "    ret = obj.__getattr__()\n",
    "    type_gym_wrappers_transform_reward_TransformReward___getattr__ = getattr(ret, '__module__', 'none') + '.' + ret.__class__.__name__\n",
    "    print('✅ gym.wrappers.transform_reward.TransformReward.__getattr__: ', type(ret))\n",
    "except Exception as e:\n",
    "    type_gym_wrappers_transform_reward_TransformReward___getattr__ = '_syft_missing'\n",
    "    print('❌ gym.wrappers.transform_reward.TransformReward.__getattr__: Return unavailable')\n",
    "    print(\"  Please fix this return type code until there is no exception\")\n",
    "    print('  Error:', e)\n"
   ]
  },
  {
   "cell_type": "code",
   "execution_count": null,
   "id": "08926efe",
   "metadata": {},
   "outputs": [],
   "source": [
    "# gym.wrappers.transform_reward.TransformReward.__repr__\n",
    "try:\n",
    "    obj = class_constructor()\n",
    "    ret = obj.__repr__()\n",
    "    type_gym_wrappers_transform_reward_TransformReward___repr__ = getattr(ret, '__module__', 'none') + '.' + ret.__class__.__name__\n",
    "    print('✅ gym.wrappers.transform_reward.TransformReward.__repr__: ', type(ret))\n",
    "except Exception as e:\n",
    "    type_gym_wrappers_transform_reward_TransformReward___repr__ = '_syft_missing'\n",
    "    print('❌ gym.wrappers.transform_reward.TransformReward.__repr__: Return unavailable')\n",
    "    print(\"  Please fix this return type code until there is no exception\")\n",
    "    print('  Error:', e)\n"
   ]
  },
  {
   "cell_type": "code",
   "execution_count": null,
   "id": "613f34b8",
   "metadata": {},
   "outputs": [],
   "source": [
    "# gym.wrappers.transform_reward.TransformReward.__str__\n",
    "try:\n",
    "    obj = class_constructor()\n",
    "    ret = obj.__str__()\n",
    "    type_gym_wrappers_transform_reward_TransformReward___str__ = getattr(ret, '__module__', 'none') + '.' + ret.__class__.__name__\n",
    "    print('✅ gym.wrappers.transform_reward.TransformReward.__str__: ', type(ret))\n",
    "except Exception as e:\n",
    "    type_gym_wrappers_transform_reward_TransformReward___str__ = '_syft_missing'\n",
    "    print('❌ gym.wrappers.transform_reward.TransformReward.__str__: Return unavailable')\n",
    "    print(\"  Please fix this return type code until there is no exception\")\n",
    "    print('  Error:', e)\n"
   ]
  },
  {
   "cell_type": "code",
   "execution_count": null,
   "id": "fb97be2c",
   "metadata": {},
   "outputs": [],
   "source": [
    "# gym.wrappers.transform_reward.TransformReward.class_name\n",
    "try:\n",
    "    obj = class_constructor()\n",
    "    ret = obj.class_name()\n",
    "    type_gym_wrappers_transform_reward_TransformReward_class_name = getattr(ret, '__module__', 'none') + '.' + ret.__class__.__name__\n",
    "    print('✅ gym.wrappers.transform_reward.TransformReward.class_name: ', type(ret))\n",
    "except Exception as e:\n",
    "    type_gym_wrappers_transform_reward_TransformReward_class_name = '_syft_missing'\n",
    "    print('❌ gym.wrappers.transform_reward.TransformReward.class_name: Return unavailable')\n",
    "    print(\"  Please fix this return type code until there is no exception\")\n",
    "    print('  Error:', e)\n"
   ]
  },
  {
   "cell_type": "code",
   "execution_count": null,
   "id": "e2682639",
   "metadata": {},
   "outputs": [],
   "source": [
    "# gym.wrappers.transform_reward.TransformReward.close\n",
    "try:\n",
    "    obj = class_constructor()\n",
    "    ret = obj.close()\n",
    "    type_gym_wrappers_transform_reward_TransformReward_close = getattr(ret, '__module__', 'none') + '.' + ret.__class__.__name__\n",
    "    print('✅ gym.wrappers.transform_reward.TransformReward.close: ', type(ret))\n",
    "except Exception as e:\n",
    "    type_gym_wrappers_transform_reward_TransformReward_close = '_syft_missing'\n",
    "    print('❌ gym.wrappers.transform_reward.TransformReward.close: Return unavailable')\n",
    "    print(\"  Please fix this return type code until there is no exception\")\n",
    "    print('  Error:', e)\n"
   ]
  },
  {
   "cell_type": "code",
   "execution_count": null,
   "id": "cbf65962",
   "metadata": {},
   "outputs": [],
   "source": [
    "# gym.wrappers.transform_reward.TransformReward.compute_reward\n",
    "try:\n",
    "    obj = class_constructor()\n",
    "    ret = obj.compute_reward()\n",
    "    type_gym_wrappers_transform_reward_TransformReward_compute_reward = getattr(ret, '__module__', 'none') + '.' + ret.__class__.__name__\n",
    "    print('✅ gym.wrappers.transform_reward.TransformReward.compute_reward: ', type(ret))\n",
    "except Exception as e:\n",
    "    type_gym_wrappers_transform_reward_TransformReward_compute_reward = '_syft_missing'\n",
    "    print('❌ gym.wrappers.transform_reward.TransformReward.compute_reward: Return unavailable')\n",
    "    print(\"  Please fix this return type code until there is no exception\")\n",
    "    print('  Error:', e)\n"
   ]
  },
  {
   "cell_type": "code",
   "execution_count": null,
   "id": "a4eb6e49",
   "metadata": {},
   "outputs": [],
   "source": [
    "# gym.wrappers.transform_reward.TransformReward.render\n",
    "try:\n",
    "    obj = class_constructor()\n",
    "    ret = obj.render()\n",
    "    type_gym_wrappers_transform_reward_TransformReward_render = getattr(ret, '__module__', 'none') + '.' + ret.__class__.__name__\n",
    "    print('✅ gym.wrappers.transform_reward.TransformReward.render: ', type(ret))\n",
    "except Exception as e:\n",
    "    type_gym_wrappers_transform_reward_TransformReward_render = '_syft_missing'\n",
    "    print('❌ gym.wrappers.transform_reward.TransformReward.render: Return unavailable')\n",
    "    print(\"  Please fix this return type code until there is no exception\")\n",
    "    print('  Error:', e)\n"
   ]
  },
  {
   "cell_type": "code",
   "execution_count": null,
   "id": "5b120099",
   "metadata": {},
   "outputs": [],
   "source": [
    "# gym.wrappers.transform_reward.TransformReward.reset\n",
    "try:\n",
    "    obj = class_constructor()\n",
    "    ret = obj.reset()\n",
    "    type_gym_wrappers_transform_reward_TransformReward_reset = getattr(ret, '__module__', 'none') + '.' + ret.__class__.__name__\n",
    "    print('✅ gym.wrappers.transform_reward.TransformReward.reset: ', type(ret))\n",
    "except Exception as e:\n",
    "    type_gym_wrappers_transform_reward_TransformReward_reset = '_syft_missing'\n",
    "    print('❌ gym.wrappers.transform_reward.TransformReward.reset: Return unavailable')\n",
    "    print(\"  Please fix this return type code until there is no exception\")\n",
    "    print('  Error:', e)\n"
   ]
  },
  {
   "cell_type": "code",
   "execution_count": null,
   "id": "06d1a89f",
   "metadata": {},
   "outputs": [],
   "source": [
    "# gym.wrappers.transform_reward.TransformReward.reward\n",
    "try:\n",
    "    obj = class_constructor()\n",
    "    ret = obj.reward()\n",
    "    type_gym_wrappers_transform_reward_TransformReward_reward = getattr(ret, '__module__', 'none') + '.' + ret.__class__.__name__\n",
    "    print('✅ gym.wrappers.transform_reward.TransformReward.reward: ', type(ret))\n",
    "except Exception as e:\n",
    "    type_gym_wrappers_transform_reward_TransformReward_reward = '_syft_missing'\n",
    "    print('❌ gym.wrappers.transform_reward.TransformReward.reward: Return unavailable')\n",
    "    print(\"  Please fix this return type code until there is no exception\")\n",
    "    print('  Error:', e)\n"
   ]
  },
  {
   "cell_type": "code",
   "execution_count": null,
   "id": "c2f9c34f",
   "metadata": {},
   "outputs": [],
   "source": [
    "# gym.wrappers.transform_reward.TransformReward.seed\n",
    "try:\n",
    "    obj = class_constructor()\n",
    "    ret = obj.seed()\n",
    "    type_gym_wrappers_transform_reward_TransformReward_seed = getattr(ret, '__module__', 'none') + '.' + ret.__class__.__name__\n",
    "    print('✅ gym.wrappers.transform_reward.TransformReward.seed: ', type(ret))\n",
    "except Exception as e:\n",
    "    type_gym_wrappers_transform_reward_TransformReward_seed = '_syft_missing'\n",
    "    print('❌ gym.wrappers.transform_reward.TransformReward.seed: Return unavailable')\n",
    "    print(\"  Please fix this return type code until there is no exception\")\n",
    "    print('  Error:', e)\n"
   ]
  },
  {
   "cell_type": "code",
   "execution_count": null,
   "id": "e4c6c507",
   "metadata": {},
   "outputs": [],
   "source": [
    "# gym.wrappers.transform_reward.TransformReward.spec\n",
    "try:\n",
    "    obj = class_constructor()\n",
    "    ret = obj.spec\n",
    "    type_gym_wrappers_transform_reward_TransformReward_spec = getattr(ret, '__module__', 'none') + '.' + ret.__class__.__name__\n",
    "    print('✅ gym.wrappers.transform_reward.TransformReward.spec:', type(ret))\n",
    "except Exception as e:\n",
    "    type_gym_wrappers_transform_reward_TransformReward_spec = '_syft_missing'\n",
    "    print('❌ gym.wrappers.transform_reward.TransformReward.spec: Return unavailable')\n",
    "    print(\"  Please fix this return type code until there is no exception\")\n",
    "    print('  Error:', e)\n"
   ]
  },
  {
   "cell_type": "code",
   "execution_count": null,
   "id": "264d3ab8",
   "metadata": {},
   "outputs": [],
   "source": [
    "# gym.wrappers.transform_reward.TransformReward.step\n",
    "try:\n",
    "    obj = class_constructor()\n",
    "    ret = obj.step()\n",
    "    type_gym_wrappers_transform_reward_TransformReward_step = getattr(ret, '__module__', 'none') + '.' + ret.__class__.__name__\n",
    "    print('✅ gym.wrappers.transform_reward.TransformReward.step: ', type(ret))\n",
    "except Exception as e:\n",
    "    type_gym_wrappers_transform_reward_TransformReward_step = '_syft_missing'\n",
    "    print('❌ gym.wrappers.transform_reward.TransformReward.step: Return unavailable')\n",
    "    print(\"  Please fix this return type code until there is no exception\")\n",
    "    print('  Error:', e)\n"
   ]
  },
  {
   "cell_type": "code",
   "execution_count": null,
   "id": "7a768379",
   "metadata": {},
   "outputs": [],
   "source": [
    "# gym.wrappers.transform_reward.TransformReward.unwrapped\n",
    "try:\n",
    "    obj = class_constructor()\n",
    "    ret = obj.unwrapped\n",
    "    type_gym_wrappers_transform_reward_TransformReward_unwrapped = getattr(ret, '__module__', 'none') + '.' + ret.__class__.__name__\n",
    "    print('✅ gym.wrappers.transform_reward.TransformReward.unwrapped:', type(ret))\n",
    "except Exception as e:\n",
    "    type_gym_wrappers_transform_reward_TransformReward_unwrapped = '_syft_missing'\n",
    "    print('❌ gym.wrappers.transform_reward.TransformReward.unwrapped: Return unavailable')\n",
    "    print(\"  Please fix this return type code until there is no exception\")\n",
    "    print('  Error:', e)\n"
   ]
  }
 ],
 "metadata": {},
 "nbformat": 4,
 "nbformat_minor": 5
}
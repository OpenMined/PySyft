{
 "cells": [
  {
   "cell_type": "markdown",
   "id": "ee3ae0d1",
   "metadata": {},
   "source": [
    "## gym.vector.sync_vector_env.SyncVectorEnv"
   ]
  },
  {
   "cell_type": "code",
   "execution_count": null,
   "id": "495ed50b",
   "metadata": {},
   "outputs": [],
   "source": [
    "import gym\n",
    "def class_constructor(*args, **kwargs):\n",
    "    obj = gym.vector.sync_vector_env.SyncVectorEnv()\n",
    "    return obj\n"
   ]
  },
  {
   "cell_type": "code",
   "execution_count": null,
   "id": "b130fe1e",
   "metadata": {},
   "outputs": [],
   "source": [
    "# gym.vector.sync_vector_env.SyncVectorEnv.__del__\n",
    "try:\n",
    "    obj = class_constructor()\n",
    "    ret = obj.__del__()\n",
    "    type_gym_vector_sync_vector_env_SyncVectorEnv___del__ = getattr(ret, '__module__', 'none') + '.' + ret.__class__.__name__\n",
    "    print('✅ gym.vector.sync_vector_env.SyncVectorEnv.__del__: ', type(ret))\n",
    "except Exception as e:\n",
    "    type_gym_vector_sync_vector_env_SyncVectorEnv___del__ = '_syft_missing'\n",
    "    print('❌ gym.vector.sync_vector_env.SyncVectorEnv.__del__: Return unavailable')\n",
    "    print(\"  Please fix this return type code until there is no exception\")\n",
    "    print('  Error:', e)\n"
   ]
  },
  {
   "cell_type": "code",
   "execution_count": null,
   "id": "141c6fb8",
   "metadata": {},
   "outputs": [],
   "source": [
    "# gym.vector.sync_vector_env.SyncVectorEnv.__enter__\n",
    "try:\n",
    "    obj = class_constructor()\n",
    "    ret = obj.__enter__()\n",
    "    type_gym_vector_sync_vector_env_SyncVectorEnv___enter__ = getattr(ret, '__module__', 'none') + '.' + ret.__class__.__name__\n",
    "    print('✅ gym.vector.sync_vector_env.SyncVectorEnv.__enter__: ', type(ret))\n",
    "except Exception as e:\n",
    "    type_gym_vector_sync_vector_env_SyncVectorEnv___enter__ = '_syft_missing'\n",
    "    print('❌ gym.vector.sync_vector_env.SyncVectorEnv.__enter__: Return unavailable')\n",
    "    print(\"  Please fix this return type code until there is no exception\")\n",
    "    print('  Error:', e)\n"
   ]
  },
  {
   "cell_type": "code",
   "execution_count": null,
   "id": "eb8ff08e",
   "metadata": {},
   "outputs": [],
   "source": [
    "# gym.vector.sync_vector_env.SyncVectorEnv.__exit__\n",
    "try:\n",
    "    obj = class_constructor()\n",
    "    ret = obj.__exit__()\n",
    "    type_gym_vector_sync_vector_env_SyncVectorEnv___exit__ = getattr(ret, '__module__', 'none') + '.' + ret.__class__.__name__\n",
    "    print('✅ gym.vector.sync_vector_env.SyncVectorEnv.__exit__: ', type(ret))\n",
    "except Exception as e:\n",
    "    type_gym_vector_sync_vector_env_SyncVectorEnv___exit__ = '_syft_missing'\n",
    "    print('❌ gym.vector.sync_vector_env.SyncVectorEnv.__exit__: Return unavailable')\n",
    "    print(\"  Please fix this return type code until there is no exception\")\n",
    "    print('  Error:', e)\n"
   ]
  },
  {
   "cell_type": "code",
   "execution_count": null,
   "id": "27084b3e",
   "metadata": {},
   "outputs": [],
   "source": [
    "# gym.vector.sync_vector_env.SyncVectorEnv.__repr__\n",
    "try:\n",
    "    obj = class_constructor()\n",
    "    ret = obj.__repr__()\n",
    "    type_gym_vector_sync_vector_env_SyncVectorEnv___repr__ = getattr(ret, '__module__', 'none') + '.' + ret.__class__.__name__\n",
    "    print('✅ gym.vector.sync_vector_env.SyncVectorEnv.__repr__: ', type(ret))\n",
    "except Exception as e:\n",
    "    type_gym_vector_sync_vector_env_SyncVectorEnv___repr__ = '_syft_missing'\n",
    "    print('❌ gym.vector.sync_vector_env.SyncVectorEnv.__repr__: Return unavailable')\n",
    "    print(\"  Please fix this return type code until there is no exception\")\n",
    "    print('  Error:', e)\n"
   ]
  },
  {
   "cell_type": "code",
   "execution_count": null,
   "id": "dd4d764c",
   "metadata": {},
   "outputs": [],
   "source": [
    "# gym.vector.sync_vector_env.SyncVectorEnv.__str__\n",
    "try:\n",
    "    obj = class_constructor()\n",
    "    ret = obj.__str__()\n",
    "    type_gym_vector_sync_vector_env_SyncVectorEnv___str__ = getattr(ret, '__module__', 'none') + '.' + ret.__class__.__name__\n",
    "    print('✅ gym.vector.sync_vector_env.SyncVectorEnv.__str__: ', type(ret))\n",
    "except Exception as e:\n",
    "    type_gym_vector_sync_vector_env_SyncVectorEnv___str__ = '_syft_missing'\n",
    "    print('❌ gym.vector.sync_vector_env.SyncVectorEnv.__str__: Return unavailable')\n",
    "    print(\"  Please fix this return type code until there is no exception\")\n",
    "    print('  Error:', e)\n"
   ]
  },
  {
   "cell_type": "code",
   "execution_count": null,
   "id": "a741a3de",
   "metadata": {},
   "outputs": [],
   "source": [
    "# gym.vector.sync_vector_env.SyncVectorEnv._check_observation_spaces\n",
    "try:\n",
    "    obj = class_constructor()\n",
    "    ret = obj._check_observation_spaces()\n",
    "    type_gym_vector_sync_vector_env_SyncVectorEnv__check_observation_spaces = getattr(ret, '__module__', 'none') + '.' + ret.__class__.__name__\n",
    "    print('✅ gym.vector.sync_vector_env.SyncVectorEnv._check_observation_spaces: ', type(ret))\n",
    "except Exception as e:\n",
    "    type_gym_vector_sync_vector_env_SyncVectorEnv__check_observation_spaces = '_syft_missing'\n",
    "    print('❌ gym.vector.sync_vector_env.SyncVectorEnv._check_observation_spaces: Return unavailable')\n",
    "    print(\"  Please fix this return type code until there is no exception\")\n",
    "    print('  Error:', e)\n"
   ]
  },
  {
   "cell_type": "code",
   "execution_count": null,
   "id": "9d356c3c",
   "metadata": {},
   "outputs": [],
   "source": [
    "# gym.vector.sync_vector_env.SyncVectorEnv.close\n",
    "try:\n",
    "    obj = class_constructor()\n",
    "    ret = obj.close()\n",
    "    type_gym_vector_sync_vector_env_SyncVectorEnv_close = getattr(ret, '__module__', 'none') + '.' + ret.__class__.__name__\n",
    "    print('✅ gym.vector.sync_vector_env.SyncVectorEnv.close: ', type(ret))\n",
    "except Exception as e:\n",
    "    type_gym_vector_sync_vector_env_SyncVectorEnv_close = '_syft_missing'\n",
    "    print('❌ gym.vector.sync_vector_env.SyncVectorEnv.close: Return unavailable')\n",
    "    print(\"  Please fix this return type code until there is no exception\")\n",
    "    print('  Error:', e)\n"
   ]
  },
  {
   "cell_type": "code",
   "execution_count": null,
   "id": "731d7c84",
   "metadata": {},
   "outputs": [],
   "source": [
    "# gym.vector.sync_vector_env.SyncVectorEnv.close_extras\n",
    "try:\n",
    "    obj = class_constructor()\n",
    "    ret = obj.close_extras()\n",
    "    type_gym_vector_sync_vector_env_SyncVectorEnv_close_extras = getattr(ret, '__module__', 'none') + '.' + ret.__class__.__name__\n",
    "    print('✅ gym.vector.sync_vector_env.SyncVectorEnv.close_extras: ', type(ret))\n",
    "except Exception as e:\n",
    "    type_gym_vector_sync_vector_env_SyncVectorEnv_close_extras = '_syft_missing'\n",
    "    print('❌ gym.vector.sync_vector_env.SyncVectorEnv.close_extras: Return unavailable')\n",
    "    print(\"  Please fix this return type code until there is no exception\")\n",
    "    print('  Error:', e)\n"
   ]
  },
  {
   "cell_type": "code",
   "execution_count": null,
   "id": "bccf2454",
   "metadata": {},
   "outputs": [],
   "source": [
    "# gym.vector.sync_vector_env.SyncVectorEnv.render\n",
    "try:\n",
    "    obj = class_constructor()\n",
    "    ret = obj.render()\n",
    "    type_gym_vector_sync_vector_env_SyncVectorEnv_render = getattr(ret, '__module__', 'none') + '.' + ret.__class__.__name__\n",
    "    print('✅ gym.vector.sync_vector_env.SyncVectorEnv.render: ', type(ret))\n",
    "except Exception as e:\n",
    "    type_gym_vector_sync_vector_env_SyncVectorEnv_render = '_syft_missing'\n",
    "    print('❌ gym.vector.sync_vector_env.SyncVectorEnv.render: Return unavailable')\n",
    "    print(\"  Please fix this return type code until there is no exception\")\n",
    "    print('  Error:', e)\n"
   ]
  },
  {
   "cell_type": "code",
   "execution_count": null,
   "id": "7f9d2dcb",
   "metadata": {},
   "outputs": [],
   "source": [
    "# gym.vector.sync_vector_env.SyncVectorEnv.reset\n",
    "try:\n",
    "    obj = class_constructor()\n",
    "    ret = obj.reset()\n",
    "    type_gym_vector_sync_vector_env_SyncVectorEnv_reset = getattr(ret, '__module__', 'none') + '.' + ret.__class__.__name__\n",
    "    print('✅ gym.vector.sync_vector_env.SyncVectorEnv.reset: ', type(ret))\n",
    "except Exception as e:\n",
    "    type_gym_vector_sync_vector_env_SyncVectorEnv_reset = '_syft_missing'\n",
    "    print('❌ gym.vector.sync_vector_env.SyncVectorEnv.reset: Return unavailable')\n",
    "    print(\"  Please fix this return type code until there is no exception\")\n",
    "    print('  Error:', e)\n"
   ]
  },
  {
   "cell_type": "code",
   "execution_count": null,
   "id": "01f97ebe",
   "metadata": {},
   "outputs": [],
   "source": [
    "# gym.vector.sync_vector_env.SyncVectorEnv.reset_async\n",
    "try:\n",
    "    obj = class_constructor()\n",
    "    ret = obj.reset_async()\n",
    "    type_gym_vector_sync_vector_env_SyncVectorEnv_reset_async = getattr(ret, '__module__', 'none') + '.' + ret.__class__.__name__\n",
    "    print('✅ gym.vector.sync_vector_env.SyncVectorEnv.reset_async: ', type(ret))\n",
    "except Exception as e:\n",
    "    type_gym_vector_sync_vector_env_SyncVectorEnv_reset_async = '_syft_missing'\n",
    "    print('❌ gym.vector.sync_vector_env.SyncVectorEnv.reset_async: Return unavailable')\n",
    "    print(\"  Please fix this return type code until there is no exception\")\n",
    "    print('  Error:', e)\n"
   ]
  },
  {
   "cell_type": "code",
   "execution_count": null,
   "id": "03cae6ea",
   "metadata": {},
   "outputs": [],
   "source": [
    "# gym.vector.sync_vector_env.SyncVectorEnv.reset_wait\n",
    "try:\n",
    "    obj = class_constructor()\n",
    "    ret = obj.reset_wait()\n",
    "    type_gym_vector_sync_vector_env_SyncVectorEnv_reset_wait = getattr(ret, '__module__', 'none') + '.' + ret.__class__.__name__\n",
    "    print('✅ gym.vector.sync_vector_env.SyncVectorEnv.reset_wait: ', type(ret))\n",
    "except Exception as e:\n",
    "    type_gym_vector_sync_vector_env_SyncVectorEnv_reset_wait = '_syft_missing'\n",
    "    print('❌ gym.vector.sync_vector_env.SyncVectorEnv.reset_wait: Return unavailable')\n",
    "    print(\"  Please fix this return type code until there is no exception\")\n",
    "    print('  Error:', e)\n"
   ]
  },
  {
   "cell_type": "code",
   "execution_count": null,
   "id": "287d4c85",
   "metadata": {},
   "outputs": [],
   "source": [
    "# gym.vector.sync_vector_env.SyncVectorEnv.seed\n",
    "try:\n",
    "    obj = class_constructor()\n",
    "    ret = obj.seed()\n",
    "    type_gym_vector_sync_vector_env_SyncVectorEnv_seed = getattr(ret, '__module__', 'none') + '.' + ret.__class__.__name__\n",
    "    print('✅ gym.vector.sync_vector_env.SyncVectorEnv.seed: ', type(ret))\n",
    "except Exception as e:\n",
    "    type_gym_vector_sync_vector_env_SyncVectorEnv_seed = '_syft_missing'\n",
    "    print('❌ gym.vector.sync_vector_env.SyncVectorEnv.seed: Return unavailable')\n",
    "    print(\"  Please fix this return type code until there is no exception\")\n",
    "    print('  Error:', e)\n"
   ]
  },
  {
   "cell_type": "code",
   "execution_count": null,
   "id": "927fca30",
   "metadata": {},
   "outputs": [],
   "source": [
    "# gym.vector.sync_vector_env.SyncVectorEnv.step\n",
    "try:\n",
    "    obj = class_constructor()\n",
    "    ret = obj.step()\n",
    "    type_gym_vector_sync_vector_env_SyncVectorEnv_step = getattr(ret, '__module__', 'none') + '.' + ret.__class__.__name__\n",
    "    print('✅ gym.vector.sync_vector_env.SyncVectorEnv.step: ', type(ret))\n",
    "except Exception as e:\n",
    "    type_gym_vector_sync_vector_env_SyncVectorEnv_step = '_syft_missing'\n",
    "    print('❌ gym.vector.sync_vector_env.SyncVectorEnv.step: Return unavailable')\n",
    "    print(\"  Please fix this return type code until there is no exception\")\n",
    "    print('  Error:', e)\n"
   ]
  },
  {
   "cell_type": "code",
   "execution_count": null,
   "id": "5938fb67",
   "metadata": {},
   "outputs": [],
   "source": [
    "# gym.vector.sync_vector_env.SyncVectorEnv.step_async\n",
    "try:\n",
    "    obj = class_constructor()\n",
    "    ret = obj.step_async()\n",
    "    type_gym_vector_sync_vector_env_SyncVectorEnv_step_async = getattr(ret, '__module__', 'none') + '.' + ret.__class__.__name__\n",
    "    print('✅ gym.vector.sync_vector_env.SyncVectorEnv.step_async: ', type(ret))\n",
    "except Exception as e:\n",
    "    type_gym_vector_sync_vector_env_SyncVectorEnv_step_async = '_syft_missing'\n",
    "    print('❌ gym.vector.sync_vector_env.SyncVectorEnv.step_async: Return unavailable')\n",
    "    print(\"  Please fix this return type code until there is no exception\")\n",
    "    print('  Error:', e)\n"
   ]
  },
  {
   "cell_type": "code",
   "execution_count": null,
   "id": "900013f7",
   "metadata": {},
   "outputs": [],
   "source": [
    "# gym.vector.sync_vector_env.SyncVectorEnv.step_wait\n",
    "try:\n",
    "    obj = class_constructor()\n",
    "    ret = obj.step_wait()\n",
    "    type_gym_vector_sync_vector_env_SyncVectorEnv_step_wait = getattr(ret, '__module__', 'none') + '.' + ret.__class__.__name__\n",
    "    print('✅ gym.vector.sync_vector_env.SyncVectorEnv.step_wait: ', type(ret))\n",
    "except Exception as e:\n",
    "    type_gym_vector_sync_vector_env_SyncVectorEnv_step_wait = '_syft_missing'\n",
    "    print('❌ gym.vector.sync_vector_env.SyncVectorEnv.step_wait: Return unavailable')\n",
    "    print(\"  Please fix this return type code until there is no exception\")\n",
    "    print('  Error:', e)\n"
   ]
  },
  {
   "cell_type": "code",
   "execution_count": null,
   "id": "50306bff",
   "metadata": {},
   "outputs": [],
   "source": [
    "# gym.vector.sync_vector_env.SyncVectorEnv.unwrapped\n",
    "try:\n",
    "    obj = class_constructor()\n",
    "    ret = obj.unwrapped\n",
    "    type_gym_vector_sync_vector_env_SyncVectorEnv_unwrapped = getattr(ret, '__module__', 'none') + '.' + ret.__class__.__name__\n",
    "    print('✅ gym.vector.sync_vector_env.SyncVectorEnv.unwrapped:', type(ret))\n",
    "except Exception as e:\n",
    "    type_gym_vector_sync_vector_env_SyncVectorEnv_unwrapped = '_syft_missing'\n",
    "    print('❌ gym.vector.sync_vector_env.SyncVectorEnv.unwrapped: Return unavailable')\n",
    "    print(\"  Please fix this return type code until there is no exception\")\n",
    "    print('  Error:', e)\n"
   ]
  }
 ],
 "metadata": {},
 "nbformat": 4,
 "nbformat_minor": 5
}
{
 "cells": [
  {
   "cell_type": "markdown",
   "id": "e3fb3d6c",
   "metadata": {},
   "source": [
    "## gym.error.AuthenticationError"
   ]
  },
  {
   "cell_type": "code",
   "execution_count": null,
   "id": "2531c5a2",
   "metadata": {},
   "outputs": [],
   "source": [
    "import gym\n",
    "def class_constructor(*args, **kwargs):\n",
    "    obj = gym.error.AuthenticationError()\n",
    "    return obj\n"
   ]
  },
  {
   "cell_type": "code",
   "execution_count": null,
   "id": "b452f96e",
   "metadata": {},
   "outputs": [],
   "source": [
    "# gym.error.AuthenticationError.__str__\n",
    "try:\n",
    "    obj = class_constructor()\n",
    "    ret = obj.__str__()\n",
    "    type_gym_error_AuthenticationError___str__ = getattr(ret, '__module__', 'none') + '.' + ret.__class__.__name__\n",
    "    print('✅ gym.error.AuthenticationError.__str__: ', type(ret))\n",
    "except Exception as e:\n",
    "    type_gym_error_AuthenticationError___str__ = '_syft_missing'\n",
    "    print('❌ gym.error.AuthenticationError.__str__: Return unavailable')\n",
    "    print(\"  Please fix this return type code until there is no exception\")\n",
    "    print('  Error:', e)\n"
   ]
  },
  {
   "cell_type": "code",
   "execution_count": null,
   "id": "57b41ad3",
   "metadata": {},
   "outputs": [],
   "source": [
    "# gym.error.AuthenticationError.__unicode__\n",
    "try:\n",
    "    obj = class_constructor()\n",
    "    ret = obj.__unicode__()\n",
    "    type_gym_error_AuthenticationError___unicode__ = getattr(ret, '__module__', 'none') + '.' + ret.__class__.__name__\n",
    "    print('✅ gym.error.AuthenticationError.__unicode__: ', type(ret))\n",
    "except Exception as e:\n",
    "    type_gym_error_AuthenticationError___unicode__ = '_syft_missing'\n",
    "    print('❌ gym.error.AuthenticationError.__unicode__: Return unavailable')\n",
    "    print(\"  Please fix this return type code until there is no exception\")\n",
    "    print('  Error:', e)\n"
   ]
  }
 ],
 "metadata": {},
 "nbformat": 4,
 "nbformat_minor": 5
}
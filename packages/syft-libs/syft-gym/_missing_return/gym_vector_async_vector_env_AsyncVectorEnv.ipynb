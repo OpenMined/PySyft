{
 "cells": [
  {
   "cell_type": "markdown",
   "id": "2ca945a5",
   "metadata": {},
   "source": [
    "## gym.vector.async_vector_env.AsyncVectorEnv"
   ]
  },
  {
   "cell_type": "code",
   "execution_count": null,
   "id": "f67a7cd4",
   "metadata": {},
   "outputs": [],
   "source": [
    "import gym\n",
    "def class_constructor(*args, **kwargs):\n",
    "    obj = gym.vector.async_vector_env.AsyncVectorEnv()\n",
    "    return obj\n"
   ]
  },
  {
   "cell_type": "code",
   "execution_count": null,
   "id": "e365b10c",
   "metadata": {},
   "outputs": [],
   "source": [
    "# gym.vector.async_vector_env.AsyncVectorEnv.__del__\n",
    "try:\n",
    "    obj = class_constructor()\n",
    "    ret = obj.__del__()\n",
    "    type_gym_vector_async_vector_env_AsyncVectorEnv___del__ = getattr(ret, '__module__', 'none') + '.' + ret.__class__.__name__\n",
    "    print('✅ gym.vector.async_vector_env.AsyncVectorEnv.__del__: ', type(ret))\n",
    "except Exception as e:\n",
    "    type_gym_vector_async_vector_env_AsyncVectorEnv___del__ = '_syft_missing'\n",
    "    print('❌ gym.vector.async_vector_env.AsyncVectorEnv.__del__: Return unavailable')\n",
    "    print(\"  Please fix this return type code until there is no exception\")\n",
    "    print('  Error:', e)\n"
   ]
  },
  {
   "cell_type": "code",
   "execution_count": null,
   "id": "bdc91258",
   "metadata": {},
   "outputs": [],
   "source": [
    "# gym.vector.async_vector_env.AsyncVectorEnv.__enter__\n",
    "try:\n",
    "    obj = class_constructor()\n",
    "    ret = obj.__enter__()\n",
    "    type_gym_vector_async_vector_env_AsyncVectorEnv___enter__ = getattr(ret, '__module__', 'none') + '.' + ret.__class__.__name__\n",
    "    print('✅ gym.vector.async_vector_env.AsyncVectorEnv.__enter__: ', type(ret))\n",
    "except Exception as e:\n",
    "    type_gym_vector_async_vector_env_AsyncVectorEnv___enter__ = '_syft_missing'\n",
    "    print('❌ gym.vector.async_vector_env.AsyncVectorEnv.__enter__: Return unavailable')\n",
    "    print(\"  Please fix this return type code until there is no exception\")\n",
    "    print('  Error:', e)\n"
   ]
  },
  {
   "cell_type": "code",
   "execution_count": null,
   "id": "5f3e3002",
   "metadata": {},
   "outputs": [],
   "source": [
    "# gym.vector.async_vector_env.AsyncVectorEnv.__exit__\n",
    "try:\n",
    "    obj = class_constructor()\n",
    "    ret = obj.__exit__()\n",
    "    type_gym_vector_async_vector_env_AsyncVectorEnv___exit__ = getattr(ret, '__module__', 'none') + '.' + ret.__class__.__name__\n",
    "    print('✅ gym.vector.async_vector_env.AsyncVectorEnv.__exit__: ', type(ret))\n",
    "except Exception as e:\n",
    "    type_gym_vector_async_vector_env_AsyncVectorEnv___exit__ = '_syft_missing'\n",
    "    print('❌ gym.vector.async_vector_env.AsyncVectorEnv.__exit__: Return unavailable')\n",
    "    print(\"  Please fix this return type code until there is no exception\")\n",
    "    print('  Error:', e)\n"
   ]
  },
  {
   "cell_type": "code",
   "execution_count": null,
   "id": "a285518d",
   "metadata": {},
   "outputs": [],
   "source": [
    "# gym.vector.async_vector_env.AsyncVectorEnv.__repr__\n",
    "try:\n",
    "    obj = class_constructor()\n",
    "    ret = obj.__repr__()\n",
    "    type_gym_vector_async_vector_env_AsyncVectorEnv___repr__ = getattr(ret, '__module__', 'none') + '.' + ret.__class__.__name__\n",
    "    print('✅ gym.vector.async_vector_env.AsyncVectorEnv.__repr__: ', type(ret))\n",
    "except Exception as e:\n",
    "    type_gym_vector_async_vector_env_AsyncVectorEnv___repr__ = '_syft_missing'\n",
    "    print('❌ gym.vector.async_vector_env.AsyncVectorEnv.__repr__: Return unavailable')\n",
    "    print(\"  Please fix this return type code until there is no exception\")\n",
    "    print('  Error:', e)\n"
   ]
  },
  {
   "cell_type": "code",
   "execution_count": null,
   "id": "4592f1d5",
   "metadata": {},
   "outputs": [],
   "source": [
    "# gym.vector.async_vector_env.AsyncVectorEnv.__str__\n",
    "try:\n",
    "    obj = class_constructor()\n",
    "    ret = obj.__str__()\n",
    "    type_gym_vector_async_vector_env_AsyncVectorEnv___str__ = getattr(ret, '__module__', 'none') + '.' + ret.__class__.__name__\n",
    "    print('✅ gym.vector.async_vector_env.AsyncVectorEnv.__str__: ', type(ret))\n",
    "except Exception as e:\n",
    "    type_gym_vector_async_vector_env_AsyncVectorEnv___str__ = '_syft_missing'\n",
    "    print('❌ gym.vector.async_vector_env.AsyncVectorEnv.__str__: Return unavailable')\n",
    "    print(\"  Please fix this return type code until there is no exception\")\n",
    "    print('  Error:', e)\n"
   ]
  },
  {
   "cell_type": "code",
   "execution_count": null,
   "id": "28a63af8",
   "metadata": {},
   "outputs": [],
   "source": [
    "# gym.vector.async_vector_env.AsyncVectorEnv._assert_is_running\n",
    "try:\n",
    "    obj = class_constructor()\n",
    "    ret = obj._assert_is_running()\n",
    "    type_gym_vector_async_vector_env_AsyncVectorEnv__assert_is_running = getattr(ret, '__module__', 'none') + '.' + ret.__class__.__name__\n",
    "    print('✅ gym.vector.async_vector_env.AsyncVectorEnv._assert_is_running: ', type(ret))\n",
    "except Exception as e:\n",
    "    type_gym_vector_async_vector_env_AsyncVectorEnv__assert_is_running = '_syft_missing'\n",
    "    print('❌ gym.vector.async_vector_env.AsyncVectorEnv._assert_is_running: Return unavailable')\n",
    "    print(\"  Please fix this return type code until there is no exception\")\n",
    "    print('  Error:', e)\n"
   ]
  },
  {
   "cell_type": "code",
   "execution_count": null,
   "id": "b500b7bc",
   "metadata": {},
   "outputs": [],
   "source": [
    "# gym.vector.async_vector_env.AsyncVectorEnv._check_observation_spaces\n",
    "try:\n",
    "    obj = class_constructor()\n",
    "    ret = obj._check_observation_spaces()\n",
    "    type_gym_vector_async_vector_env_AsyncVectorEnv__check_observation_spaces = getattr(ret, '__module__', 'none') + '.' + ret.__class__.__name__\n",
    "    print('✅ gym.vector.async_vector_env.AsyncVectorEnv._check_observation_spaces: ', type(ret))\n",
    "except Exception as e:\n",
    "    type_gym_vector_async_vector_env_AsyncVectorEnv__check_observation_spaces = '_syft_missing'\n",
    "    print('❌ gym.vector.async_vector_env.AsyncVectorEnv._check_observation_spaces: Return unavailable')\n",
    "    print(\"  Please fix this return type code until there is no exception\")\n",
    "    print('  Error:', e)\n"
   ]
  },
  {
   "cell_type": "code",
   "execution_count": null,
   "id": "22ca211c",
   "metadata": {},
   "outputs": [],
   "source": [
    "# gym.vector.async_vector_env.AsyncVectorEnv._poll\n",
    "try:\n",
    "    obj = class_constructor()\n",
    "    ret = obj._poll()\n",
    "    type_gym_vector_async_vector_env_AsyncVectorEnv__poll = getattr(ret, '__module__', 'none') + '.' + ret.__class__.__name__\n",
    "    print('✅ gym.vector.async_vector_env.AsyncVectorEnv._poll: ', type(ret))\n",
    "except Exception as e:\n",
    "    type_gym_vector_async_vector_env_AsyncVectorEnv__poll = '_syft_missing'\n",
    "    print('❌ gym.vector.async_vector_env.AsyncVectorEnv._poll: Return unavailable')\n",
    "    print(\"  Please fix this return type code until there is no exception\")\n",
    "    print('  Error:', e)\n"
   ]
  },
  {
   "cell_type": "code",
   "execution_count": null,
   "id": "e9ed95aa",
   "metadata": {},
   "outputs": [],
   "source": [
    "# gym.vector.async_vector_env.AsyncVectorEnv._raise_if_errors\n",
    "try:\n",
    "    obj = class_constructor()\n",
    "    ret = obj._raise_if_errors()\n",
    "    type_gym_vector_async_vector_env_AsyncVectorEnv__raise_if_errors = getattr(ret, '__module__', 'none') + '.' + ret.__class__.__name__\n",
    "    print('✅ gym.vector.async_vector_env.AsyncVectorEnv._raise_if_errors: ', type(ret))\n",
    "except Exception as e:\n",
    "    type_gym_vector_async_vector_env_AsyncVectorEnv__raise_if_errors = '_syft_missing'\n",
    "    print('❌ gym.vector.async_vector_env.AsyncVectorEnv._raise_if_errors: Return unavailable')\n",
    "    print(\"  Please fix this return type code until there is no exception\")\n",
    "    print('  Error:', e)\n"
   ]
  },
  {
   "cell_type": "code",
   "execution_count": null,
   "id": "cde0ba71",
   "metadata": {},
   "outputs": [],
   "source": [
    "# gym.vector.async_vector_env.AsyncVectorEnv.close\n",
    "try:\n",
    "    obj = class_constructor()\n",
    "    ret = obj.close()\n",
    "    type_gym_vector_async_vector_env_AsyncVectorEnv_close = getattr(ret, '__module__', 'none') + '.' + ret.__class__.__name__\n",
    "    print('✅ gym.vector.async_vector_env.AsyncVectorEnv.close: ', type(ret))\n",
    "except Exception as e:\n",
    "    type_gym_vector_async_vector_env_AsyncVectorEnv_close = '_syft_missing'\n",
    "    print('❌ gym.vector.async_vector_env.AsyncVectorEnv.close: Return unavailable')\n",
    "    print(\"  Please fix this return type code until there is no exception\")\n",
    "    print('  Error:', e)\n"
   ]
  },
  {
   "cell_type": "code",
   "execution_count": null,
   "id": "f1b17241",
   "metadata": {},
   "outputs": [],
   "source": [
    "# gym.vector.async_vector_env.AsyncVectorEnv.close_extras\n",
    "try:\n",
    "    obj = class_constructor()\n",
    "    ret = obj.close_extras()\n",
    "    type_gym_vector_async_vector_env_AsyncVectorEnv_close_extras = getattr(ret, '__module__', 'none') + '.' + ret.__class__.__name__\n",
    "    print('✅ gym.vector.async_vector_env.AsyncVectorEnv.close_extras: ', type(ret))\n",
    "except Exception as e:\n",
    "    type_gym_vector_async_vector_env_AsyncVectorEnv_close_extras = '_syft_missing'\n",
    "    print('❌ gym.vector.async_vector_env.AsyncVectorEnv.close_extras: Return unavailable')\n",
    "    print(\"  Please fix this return type code until there is no exception\")\n",
    "    print('  Error:', e)\n"
   ]
  },
  {
   "cell_type": "code",
   "execution_count": null,
   "id": "b1a7fef8",
   "metadata": {},
   "outputs": [],
   "source": [
    "# gym.vector.async_vector_env.AsyncVectorEnv.render\n",
    "try:\n",
    "    obj = class_constructor()\n",
    "    ret = obj.render()\n",
    "    type_gym_vector_async_vector_env_AsyncVectorEnv_render = getattr(ret, '__module__', 'none') + '.' + ret.__class__.__name__\n",
    "    print('✅ gym.vector.async_vector_env.AsyncVectorEnv.render: ', type(ret))\n",
    "except Exception as e:\n",
    "    type_gym_vector_async_vector_env_AsyncVectorEnv_render = '_syft_missing'\n",
    "    print('❌ gym.vector.async_vector_env.AsyncVectorEnv.render: Return unavailable')\n",
    "    print(\"  Please fix this return type code until there is no exception\")\n",
    "    print('  Error:', e)\n"
   ]
  },
  {
   "cell_type": "code",
   "execution_count": null,
   "id": "139f1923",
   "metadata": {},
   "outputs": [],
   "source": [
    "# gym.vector.async_vector_env.AsyncVectorEnv.reset\n",
    "try:\n",
    "    obj = class_constructor()\n",
    "    ret = obj.reset()\n",
    "    type_gym_vector_async_vector_env_AsyncVectorEnv_reset = getattr(ret, '__module__', 'none') + '.' + ret.__class__.__name__\n",
    "    print('✅ gym.vector.async_vector_env.AsyncVectorEnv.reset: ', type(ret))\n",
    "except Exception as e:\n",
    "    type_gym_vector_async_vector_env_AsyncVectorEnv_reset = '_syft_missing'\n",
    "    print('❌ gym.vector.async_vector_env.AsyncVectorEnv.reset: Return unavailable')\n",
    "    print(\"  Please fix this return type code until there is no exception\")\n",
    "    print('  Error:', e)\n"
   ]
  },
  {
   "cell_type": "code",
   "execution_count": null,
   "id": "4654c731",
   "metadata": {},
   "outputs": [],
   "source": [
    "# gym.vector.async_vector_env.AsyncVectorEnv.reset_async\n",
    "try:\n",
    "    obj = class_constructor()\n",
    "    ret = obj.reset_async()\n",
    "    type_gym_vector_async_vector_env_AsyncVectorEnv_reset_async = getattr(ret, '__module__', 'none') + '.' + ret.__class__.__name__\n",
    "    print('✅ gym.vector.async_vector_env.AsyncVectorEnv.reset_async: ', type(ret))\n",
    "except Exception as e:\n",
    "    type_gym_vector_async_vector_env_AsyncVectorEnv_reset_async = '_syft_missing'\n",
    "    print('❌ gym.vector.async_vector_env.AsyncVectorEnv.reset_async: Return unavailable')\n",
    "    print(\"  Please fix this return type code until there is no exception\")\n",
    "    print('  Error:', e)\n"
   ]
  },
  {
   "cell_type": "code",
   "execution_count": null,
   "id": "494c845d",
   "metadata": {},
   "outputs": [],
   "source": [
    "# gym.vector.async_vector_env.AsyncVectorEnv.reset_wait\n",
    "try:\n",
    "    obj = class_constructor()\n",
    "    ret = obj.reset_wait()\n",
    "    type_gym_vector_async_vector_env_AsyncVectorEnv_reset_wait = getattr(ret, '__module__', 'none') + '.' + ret.__class__.__name__\n",
    "    print('✅ gym.vector.async_vector_env.AsyncVectorEnv.reset_wait: ', type(ret))\n",
    "except Exception as e:\n",
    "    type_gym_vector_async_vector_env_AsyncVectorEnv_reset_wait = '_syft_missing'\n",
    "    print('❌ gym.vector.async_vector_env.AsyncVectorEnv.reset_wait: Return unavailable')\n",
    "    print(\"  Please fix this return type code until there is no exception\")\n",
    "    print('  Error:', e)\n"
   ]
  },
  {
   "cell_type": "code",
   "execution_count": null,
   "id": "0f65c65a",
   "metadata": {},
   "outputs": [],
   "source": [
    "# gym.vector.async_vector_env.AsyncVectorEnv.seed\n",
    "try:\n",
    "    obj = class_constructor()\n",
    "    ret = obj.seed()\n",
    "    type_gym_vector_async_vector_env_AsyncVectorEnv_seed = getattr(ret, '__module__', 'none') + '.' + ret.__class__.__name__\n",
    "    print('✅ gym.vector.async_vector_env.AsyncVectorEnv.seed: ', type(ret))\n",
    "except Exception as e:\n",
    "    type_gym_vector_async_vector_env_AsyncVectorEnv_seed = '_syft_missing'\n",
    "    print('❌ gym.vector.async_vector_env.AsyncVectorEnv.seed: Return unavailable')\n",
    "    print(\"  Please fix this return type code until there is no exception\")\n",
    "    print('  Error:', e)\n"
   ]
  },
  {
   "cell_type": "code",
   "execution_count": null,
   "id": "2bb7fd04",
   "metadata": {},
   "outputs": [],
   "source": [
    "# gym.vector.async_vector_env.AsyncVectorEnv.step\n",
    "try:\n",
    "    obj = class_constructor()\n",
    "    ret = obj.step()\n",
    "    type_gym_vector_async_vector_env_AsyncVectorEnv_step = getattr(ret, '__module__', 'none') + '.' + ret.__class__.__name__\n",
    "    print('✅ gym.vector.async_vector_env.AsyncVectorEnv.step: ', type(ret))\n",
    "except Exception as e:\n",
    "    type_gym_vector_async_vector_env_AsyncVectorEnv_step = '_syft_missing'\n",
    "    print('❌ gym.vector.async_vector_env.AsyncVectorEnv.step: Return unavailable')\n",
    "    print(\"  Please fix this return type code until there is no exception\")\n",
    "    print('  Error:', e)\n"
   ]
  },
  {
   "cell_type": "code",
   "execution_count": null,
   "id": "b9f62dad",
   "metadata": {},
   "outputs": [],
   "source": [
    "# gym.vector.async_vector_env.AsyncVectorEnv.step_async\n",
    "try:\n",
    "    obj = class_constructor()\n",
    "    ret = obj.step_async()\n",
    "    type_gym_vector_async_vector_env_AsyncVectorEnv_step_async = getattr(ret, '__module__', 'none') + '.' + ret.__class__.__name__\n",
    "    print('✅ gym.vector.async_vector_env.AsyncVectorEnv.step_async: ', type(ret))\n",
    "except Exception as e:\n",
    "    type_gym_vector_async_vector_env_AsyncVectorEnv_step_async = '_syft_missing'\n",
    "    print('❌ gym.vector.async_vector_env.AsyncVectorEnv.step_async: Return unavailable')\n",
    "    print(\"  Please fix this return type code until there is no exception\")\n",
    "    print('  Error:', e)\n"
   ]
  },
  {
   "cell_type": "code",
   "execution_count": null,
   "id": "6920d6ab",
   "metadata": {},
   "outputs": [],
   "source": [
    "# gym.vector.async_vector_env.AsyncVectorEnv.step_wait\n",
    "try:\n",
    "    obj = class_constructor()\n",
    "    ret = obj.step_wait()\n",
    "    type_gym_vector_async_vector_env_AsyncVectorEnv_step_wait = getattr(ret, '__module__', 'none') + '.' + ret.__class__.__name__\n",
    "    print('✅ gym.vector.async_vector_env.AsyncVectorEnv.step_wait: ', type(ret))\n",
    "except Exception as e:\n",
    "    type_gym_vector_async_vector_env_AsyncVectorEnv_step_wait = '_syft_missing'\n",
    "    print('❌ gym.vector.async_vector_env.AsyncVectorEnv.step_wait: Return unavailable')\n",
    "    print(\"  Please fix this return type code until there is no exception\")\n",
    "    print('  Error:', e)\n"
   ]
  },
  {
   "cell_type": "code",
   "execution_count": null,
   "id": "8063d704",
   "metadata": {},
   "outputs": [],
   "source": [
    "# gym.vector.async_vector_env.AsyncVectorEnv.unwrapped\n",
    "try:\n",
    "    obj = class_constructor()\n",
    "    ret = obj.unwrapped\n",
    "    type_gym_vector_async_vector_env_AsyncVectorEnv_unwrapped = getattr(ret, '__module__', 'none') + '.' + ret.__class__.__name__\n",
    "    print('✅ gym.vector.async_vector_env.AsyncVectorEnv.unwrapped:', type(ret))\n",
    "except Exception as e:\n",
    "    type_gym_vector_async_vector_env_AsyncVectorEnv_unwrapped = '_syft_missing'\n",
    "    print('❌ gym.vector.async_vector_env.AsyncVectorEnv.unwrapped: Return unavailable')\n",
    "    print(\"  Please fix this return type code until there is no exception\")\n",
    "    print('  Error:', e)\n"
   ]
  }
 ],
 "metadata": {},
 "nbformat": 4,
 "nbformat_minor": 5
}
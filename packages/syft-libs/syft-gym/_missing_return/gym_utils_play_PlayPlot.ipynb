{
 "cells": [
  {
   "cell_type": "markdown",
   "id": "2d23aaf2",
   "metadata": {},
   "source": [
    "## gym.utils.play.PlayPlot"
   ]
  },
  {
   "cell_type": "code",
   "execution_count": null,
   "id": "1af728ab",
   "metadata": {},
   "outputs": [],
   "source": [
    "import gym\n",
    "def class_constructor(*args, **kwargs):\n",
    "    obj = gym.utils.play.PlayPlot()\n",
    "    return obj\n"
   ]
  },
  {
   "cell_type": "code",
   "execution_count": null,
   "id": "d8528e96",
   "metadata": {},
   "outputs": [],
   "source": [
    "# gym.utils.play.PlayPlot.callback\n",
    "try:\n",
    "    obj = class_constructor()\n",
    "    ret = obj.callback()\n",
    "    type_gym_utils_play_PlayPlot_callback = getattr(ret, '__module__', 'none') + '.' + ret.__class__.__name__\n",
    "    print('✅ gym.utils.play.PlayPlot.callback: ', type(ret))\n",
    "except Exception as e:\n",
    "    type_gym_utils_play_PlayPlot_callback = '_syft_missing'\n",
    "    print('❌ gym.utils.play.PlayPlot.callback: Return unavailable')\n",
    "    print(\"  Please fix this return type code until there is no exception\")\n",
    "    print('  Error:', e)\n"
   ]
  }
 ],
 "metadata": {},
 "nbformat": 4,
 "nbformat_minor": 5
}
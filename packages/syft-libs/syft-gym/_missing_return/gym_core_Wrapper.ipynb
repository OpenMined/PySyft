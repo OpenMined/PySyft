{
 "cells": [
  {
   "cell_type": "markdown",
   "id": "c802945e",
   "metadata": {},
   "source": [
    "## gym.core.Wrapper"
   ]
  },
  {
   "cell_type": "code",
   "execution_count": null,
   "id": "5c58d7b8",
   "metadata": {},
   "outputs": [],
   "source": [
    "import gym\n",
    "def class_constructor(*args, **kwargs):\n",
    "    obj = gym.core.Wrapper()\n",
    "    return obj\n"
   ]
  },
  {
   "cell_type": "code",
   "execution_count": null,
   "id": "cddee6fc",
   "metadata": {},
   "outputs": [],
   "source": [
    "# gym.core.Wrapper.__enter__\n",
    "try:\n",
    "    obj = class_constructor()\n",
    "    ret = obj.__enter__()\n",
    "    type_gym_core_Wrapper___enter__ = getattr(ret, '__module__', 'none') + '.' + ret.__class__.__name__\n",
    "    print('✅ gym.core.Wrapper.__enter__: ', type(ret))\n",
    "except Exception as e:\n",
    "    type_gym_core_Wrapper___enter__ = '_syft_missing'\n",
    "    print('❌ gym.core.Wrapper.__enter__: Return unavailable')\n",
    "    print(\"  Please fix this return type code until there is no exception\")\n",
    "    print('  Error:', e)\n"
   ]
  },
  {
   "cell_type": "code",
   "execution_count": null,
   "id": "1c07d237",
   "metadata": {},
   "outputs": [],
   "source": [
    "# gym.core.Wrapper.__exit__\n",
    "try:\n",
    "    obj = class_constructor()\n",
    "    ret = obj.__exit__()\n",
    "    type_gym_core_Wrapper___exit__ = getattr(ret, '__module__', 'none') + '.' + ret.__class__.__name__\n",
    "    print('✅ gym.core.Wrapper.__exit__: ', type(ret))\n",
    "except Exception as e:\n",
    "    type_gym_core_Wrapper___exit__ = '_syft_missing'\n",
    "    print('❌ gym.core.Wrapper.__exit__: Return unavailable')\n",
    "    print(\"  Please fix this return type code until there is no exception\")\n",
    "    print('  Error:', e)\n"
   ]
  },
  {
   "cell_type": "code",
   "execution_count": null,
   "id": "1dcf8501",
   "metadata": {},
   "outputs": [],
   "source": [
    "# gym.core.Wrapper.__getattr__\n",
    "try:\n",
    "    obj = class_constructor()\n",
    "    ret = obj.__getattr__()\n",
    "    type_gym_core_Wrapper___getattr__ = getattr(ret, '__module__', 'none') + '.' + ret.__class__.__name__\n",
    "    print('✅ gym.core.Wrapper.__getattr__: ', type(ret))\n",
    "except Exception as e:\n",
    "    type_gym_core_Wrapper___getattr__ = '_syft_missing'\n",
    "    print('❌ gym.core.Wrapper.__getattr__: Return unavailable')\n",
    "    print(\"  Please fix this return type code until there is no exception\")\n",
    "    print('  Error:', e)\n"
   ]
  },
  {
   "cell_type": "code",
   "execution_count": null,
   "id": "f6f8128b",
   "metadata": {},
   "outputs": [],
   "source": [
    "# gym.core.Wrapper.__repr__\n",
    "try:\n",
    "    obj = class_constructor()\n",
    "    ret = obj.__repr__()\n",
    "    type_gym_core_Wrapper___repr__ = getattr(ret, '__module__', 'none') + '.' + ret.__class__.__name__\n",
    "    print('✅ gym.core.Wrapper.__repr__: ', type(ret))\n",
    "except Exception as e:\n",
    "    type_gym_core_Wrapper___repr__ = '_syft_missing'\n",
    "    print('❌ gym.core.Wrapper.__repr__: Return unavailable')\n",
    "    print(\"  Please fix this return type code until there is no exception\")\n",
    "    print('  Error:', e)\n"
   ]
  },
  {
   "cell_type": "code",
   "execution_count": null,
   "id": "74765282",
   "metadata": {},
   "outputs": [],
   "source": [
    "# gym.core.Wrapper.__str__\n",
    "try:\n",
    "    obj = class_constructor()\n",
    "    ret = obj.__str__()\n",
    "    type_gym_core_Wrapper___str__ = getattr(ret, '__module__', 'none') + '.' + ret.__class__.__name__\n",
    "    print('✅ gym.core.Wrapper.__str__: ', type(ret))\n",
    "except Exception as e:\n",
    "    type_gym_core_Wrapper___str__ = '_syft_missing'\n",
    "    print('❌ gym.core.Wrapper.__str__: Return unavailable')\n",
    "    print(\"  Please fix this return type code until there is no exception\")\n",
    "    print('  Error:', e)\n"
   ]
  },
  {
   "cell_type": "code",
   "execution_count": null,
   "id": "7cace9e8",
   "metadata": {},
   "outputs": [],
   "source": [
    "# gym.core.Wrapper.class_name\n",
    "try:\n",
    "    obj = class_constructor()\n",
    "    ret = obj.class_name()\n",
    "    type_gym_core_Wrapper_class_name = getattr(ret, '__module__', 'none') + '.' + ret.__class__.__name__\n",
    "    print('✅ gym.core.Wrapper.class_name: ', type(ret))\n",
    "except Exception as e:\n",
    "    type_gym_core_Wrapper_class_name = '_syft_missing'\n",
    "    print('❌ gym.core.Wrapper.class_name: Return unavailable')\n",
    "    print(\"  Please fix this return type code until there is no exception\")\n",
    "    print('  Error:', e)\n"
   ]
  },
  {
   "cell_type": "code",
   "execution_count": null,
   "id": "0e2cf430",
   "metadata": {},
   "outputs": [],
   "source": [
    "# gym.core.Wrapper.close\n",
    "try:\n",
    "    obj = class_constructor()\n",
    "    ret = obj.close()\n",
    "    type_gym_core_Wrapper_close = getattr(ret, '__module__', 'none') + '.' + ret.__class__.__name__\n",
    "    print('✅ gym.core.Wrapper.close: ', type(ret))\n",
    "except Exception as e:\n",
    "    type_gym_core_Wrapper_close = '_syft_missing'\n",
    "    print('❌ gym.core.Wrapper.close: Return unavailable')\n",
    "    print(\"  Please fix this return type code until there is no exception\")\n",
    "    print('  Error:', e)\n"
   ]
  },
  {
   "cell_type": "code",
   "execution_count": null,
   "id": "7300b526",
   "metadata": {},
   "outputs": [],
   "source": [
    "# gym.core.Wrapper.compute_reward\n",
    "try:\n",
    "    obj = class_constructor()\n",
    "    ret = obj.compute_reward()\n",
    "    type_gym_core_Wrapper_compute_reward = getattr(ret, '__module__', 'none') + '.' + ret.__class__.__name__\n",
    "    print('✅ gym.core.Wrapper.compute_reward: ', type(ret))\n",
    "except Exception as e:\n",
    "    type_gym_core_Wrapper_compute_reward = '_syft_missing'\n",
    "    print('❌ gym.core.Wrapper.compute_reward: Return unavailable')\n",
    "    print(\"  Please fix this return type code until there is no exception\")\n",
    "    print('  Error:', e)\n"
   ]
  },
  {
   "cell_type": "code",
   "execution_count": null,
   "id": "2ce04e38",
   "metadata": {},
   "outputs": [],
   "source": [
    "# gym.core.Wrapper.render\n",
    "try:\n",
    "    obj = class_constructor()\n",
    "    ret = obj.render()\n",
    "    type_gym_core_Wrapper_render = getattr(ret, '__module__', 'none') + '.' + ret.__class__.__name__\n",
    "    print('✅ gym.core.Wrapper.render: ', type(ret))\n",
    "except Exception as e:\n",
    "    type_gym_core_Wrapper_render = '_syft_missing'\n",
    "    print('❌ gym.core.Wrapper.render: Return unavailable')\n",
    "    print(\"  Please fix this return type code until there is no exception\")\n",
    "    print('  Error:', e)\n"
   ]
  },
  {
   "cell_type": "code",
   "execution_count": null,
   "id": "3ed46e34",
   "metadata": {},
   "outputs": [],
   "source": [
    "# gym.core.Wrapper.reset\n",
    "try:\n",
    "    obj = class_constructor()\n",
    "    ret = obj.reset()\n",
    "    type_gym_core_Wrapper_reset = getattr(ret, '__module__', 'none') + '.' + ret.__class__.__name__\n",
    "    print('✅ gym.core.Wrapper.reset: ', type(ret))\n",
    "except Exception as e:\n",
    "    type_gym_core_Wrapper_reset = '_syft_missing'\n",
    "    print('❌ gym.core.Wrapper.reset: Return unavailable')\n",
    "    print(\"  Please fix this return type code until there is no exception\")\n",
    "    print('  Error:', e)\n"
   ]
  },
  {
   "cell_type": "code",
   "execution_count": null,
   "id": "df4e77a7",
   "metadata": {},
   "outputs": [],
   "source": [
    "# gym.core.Wrapper.seed\n",
    "try:\n",
    "    obj = class_constructor()\n",
    "    ret = obj.seed()\n",
    "    type_gym_core_Wrapper_seed = getattr(ret, '__module__', 'none') + '.' + ret.__class__.__name__\n",
    "    print('✅ gym.core.Wrapper.seed: ', type(ret))\n",
    "except Exception as e:\n",
    "    type_gym_core_Wrapper_seed = '_syft_missing'\n",
    "    print('❌ gym.core.Wrapper.seed: Return unavailable')\n",
    "    print(\"  Please fix this return type code until there is no exception\")\n",
    "    print('  Error:', e)\n"
   ]
  },
  {
   "cell_type": "code",
   "execution_count": null,
   "id": "8705a0d8",
   "metadata": {},
   "outputs": [],
   "source": [
    "# gym.core.Wrapper.spec\n",
    "try:\n",
    "    obj = class_constructor()\n",
    "    ret = obj.spec\n",
    "    type_gym_core_Wrapper_spec = getattr(ret, '__module__', 'none') + '.' + ret.__class__.__name__\n",
    "    print('✅ gym.core.Wrapper.spec:', type(ret))\n",
    "except Exception as e:\n",
    "    type_gym_core_Wrapper_spec = '_syft_missing'\n",
    "    print('❌ gym.core.Wrapper.spec: Return unavailable')\n",
    "    print(\"  Please fix this return type code until there is no exception\")\n",
    "    print('  Error:', e)\n"
   ]
  },
  {
   "cell_type": "code",
   "execution_count": null,
   "id": "b6e8889f",
   "metadata": {},
   "outputs": [],
   "source": [
    "# gym.core.Wrapper.step\n",
    "try:\n",
    "    obj = class_constructor()\n",
    "    ret = obj.step()\n",
    "    type_gym_core_Wrapper_step = getattr(ret, '__module__', 'none') + '.' + ret.__class__.__name__\n",
    "    print('✅ gym.core.Wrapper.step: ', type(ret))\n",
    "except Exception as e:\n",
    "    type_gym_core_Wrapper_step = '_syft_missing'\n",
    "    print('❌ gym.core.Wrapper.step: Return unavailable')\n",
    "    print(\"  Please fix this return type code until there is no exception\")\n",
    "    print('  Error:', e)\n"
   ]
  },
  {
   "cell_type": "code",
   "execution_count": null,
   "id": "7ad6611c",
   "metadata": {},
   "outputs": [],
   "source": [
    "# gym.core.Wrapper.unwrapped\n",
    "try:\n",
    "    obj = class_constructor()\n",
    "    ret = obj.unwrapped\n",
    "    type_gym_core_Wrapper_unwrapped = getattr(ret, '__module__', 'none') + '.' + ret.__class__.__name__\n",
    "    print('✅ gym.core.Wrapper.unwrapped:', type(ret))\n",
    "except Exception as e:\n",
    "    type_gym_core_Wrapper_unwrapped = '_syft_missing'\n",
    "    print('❌ gym.core.Wrapper.unwrapped: Return unavailable')\n",
    "    print(\"  Please fix this return type code until there is no exception\")\n",
    "    print('  Error:', e)\n"
   ]
  }
 ],
 "metadata": {},
 "nbformat": 4,
 "nbformat_minor": 5
}
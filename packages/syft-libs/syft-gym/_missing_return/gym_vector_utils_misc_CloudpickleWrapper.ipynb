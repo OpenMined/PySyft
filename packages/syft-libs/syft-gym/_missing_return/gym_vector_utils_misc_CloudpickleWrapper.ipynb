{
 "cells": [
  {
   "cell_type": "markdown",
   "id": "6fd6849c",
   "metadata": {},
   "source": [
    "## gym.vector.utils.misc.CloudpickleWrapper"
   ]
  },
  {
   "cell_type": "code",
   "execution_count": null,
   "id": "16b43d5e",
   "metadata": {},
   "outputs": [],
   "source": [
    "import gym\n",
    "def class_constructor(*args, **kwargs):\n",
    "    obj = gym.vector.utils.misc.CloudpickleWrapper()\n",
    "    return obj\n"
   ]
  },
  {
   "cell_type": "code",
   "execution_count": null,
   "id": "f2714787",
   "metadata": {},
   "outputs": [],
   "source": [
    "# gym.vector.utils.misc.CloudpickleWrapper.__call__\n",
    "try:\n",
    "    obj = class_constructor()\n",
    "    ret = obj.__call__()\n",
    "    type_gym_vector_utils_misc_CloudpickleWrapper___call__ = getattr(ret, '__module__', 'none') + '.' + ret.__class__.__name__\n",
    "    print('✅ gym.vector.utils.misc.CloudpickleWrapper.__call__: ', type(ret))\n",
    "except Exception as e:\n",
    "    type_gym_vector_utils_misc_CloudpickleWrapper___call__ = '_syft_missing'\n",
    "    print('❌ gym.vector.utils.misc.CloudpickleWrapper.__call__: Return unavailable')\n",
    "    print(\"  Please fix this return type code until there is no exception\")\n",
    "    print('  Error:', e)\n"
   ]
  },
  {
   "cell_type": "code",
   "execution_count": null,
   "id": "94bb0c8f",
   "metadata": {},
   "outputs": [],
   "source": [
    "# gym.vector.utils.misc.CloudpickleWrapper.__getstate__\n",
    "try:\n",
    "    obj = class_constructor()\n",
    "    ret = obj.__getstate__()\n",
    "    type_gym_vector_utils_misc_CloudpickleWrapper___getstate__ = getattr(ret, '__module__', 'none') + '.' + ret.__class__.__name__\n",
    "    print('✅ gym.vector.utils.misc.CloudpickleWrapper.__getstate__: ', type(ret))\n",
    "except Exception as e:\n",
    "    type_gym_vector_utils_misc_CloudpickleWrapper___getstate__ = '_syft_missing'\n",
    "    print('❌ gym.vector.utils.misc.CloudpickleWrapper.__getstate__: Return unavailable')\n",
    "    print(\"  Please fix this return type code until there is no exception\")\n",
    "    print('  Error:', e)\n"
   ]
  },
  {
   "cell_type": "code",
   "execution_count": null,
   "id": "5587478d",
   "metadata": {},
   "outputs": [],
   "source": [
    "# gym.vector.utils.misc.CloudpickleWrapper.__setstate__\n",
    "try:\n",
    "    obj = class_constructor()\n",
    "    ret = obj.__setstate__()\n",
    "    type_gym_vector_utils_misc_CloudpickleWrapper___setstate__ = getattr(ret, '__module__', 'none') + '.' + ret.__class__.__name__\n",
    "    print('✅ gym.vector.utils.misc.CloudpickleWrapper.__setstate__: ', type(ret))\n",
    "except Exception as e:\n",
    "    type_gym_vector_utils_misc_CloudpickleWrapper___setstate__ = '_syft_missing'\n",
    "    print('❌ gym.vector.utils.misc.CloudpickleWrapper.__setstate__: Return unavailable')\n",
    "    print(\"  Please fix this return type code until there is no exception\")\n",
    "    print('  Error:', e)\n"
   ]
  }
 ],
 "metadata": {},
 "nbformat": 4,
 "nbformat_minor": 5
}
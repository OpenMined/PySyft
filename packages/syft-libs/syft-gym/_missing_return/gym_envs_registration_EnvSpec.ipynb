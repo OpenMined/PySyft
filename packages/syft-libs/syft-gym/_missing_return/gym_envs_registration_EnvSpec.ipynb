{
 "cells": [
  {
   "cell_type": "markdown",
   "id": "e5675550",
   "metadata": {},
   "source": [
    "## gym.envs.registration.EnvSpec"
   ]
  },
  {
   "cell_type": "code",
   "execution_count": null,
   "id": "6863d841",
   "metadata": {},
   "outputs": [],
   "source": [
    "import gym\n",
    "def class_constructor(*args, **kwargs):\n",
    "    obj = gym.envs.registration.EnvSpec()\n",
    "    return obj\n"
   ]
  },
  {
   "cell_type": "code",
   "execution_count": null,
   "id": "9525b126",
   "metadata": {},
   "outputs": [],
   "source": [
    "# gym.envs.registration.EnvSpec.__repr__\n",
    "try:\n",
    "    obj = class_constructor()\n",
    "    ret = obj.__repr__()\n",
    "    type_gym_envs_registration_EnvSpec___repr__ = getattr(ret, '__module__', 'none') + '.' + ret.__class__.__name__\n",
    "    print('✅ gym.envs.registration.EnvSpec.__repr__: ', type(ret))\n",
    "except Exception as e:\n",
    "    type_gym_envs_registration_EnvSpec___repr__ = '_syft_missing'\n",
    "    print('❌ gym.envs.registration.EnvSpec.__repr__: Return unavailable')\n",
    "    print(\"  Please fix this return type code until there is no exception\")\n",
    "    print('  Error:', e)\n"
   ]
  },
  {
   "cell_type": "code",
   "execution_count": null,
   "id": "d9fedf22",
   "metadata": {},
   "outputs": [],
   "source": [
    "# gym.envs.registration.EnvSpec.make\n",
    "try:\n",
    "    obj = class_constructor()\n",
    "    ret = obj.make()\n",
    "    type_gym_envs_registration_EnvSpec_make = getattr(ret, '__module__', 'none') + '.' + ret.__class__.__name__\n",
    "    print('✅ gym.envs.registration.EnvSpec.make: ', type(ret))\n",
    "except Exception as e:\n",
    "    type_gym_envs_registration_EnvSpec_make = '_syft_missing'\n",
    "    print('❌ gym.envs.registration.EnvSpec.make: Return unavailable')\n",
    "    print(\"  Please fix this return type code until there is no exception\")\n",
    "    print('  Error:', e)\n"
   ]
  }
 ],
 "metadata": {},
 "nbformat": 4,
 "nbformat_minor": 5
}
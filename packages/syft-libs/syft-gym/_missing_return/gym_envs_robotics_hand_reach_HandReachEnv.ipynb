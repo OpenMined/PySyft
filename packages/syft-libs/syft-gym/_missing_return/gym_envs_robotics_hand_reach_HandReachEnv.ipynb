{
 "cells": [
  {
   "cell_type": "markdown",
   "id": "1007dace",
   "metadata": {},
   "source": [
    "## gym.envs.robotics.hand.reach.HandReachEnv"
   ]
  },
  {
   "cell_type": "code",
   "execution_count": null,
   "id": "9d349675",
   "metadata": {},
   "outputs": [],
   "source": [
    "import gym\n",
    "def class_constructor(*args, **kwargs):\n",
    "    obj = gym.envs.robotics.hand.reach.HandReachEnv()\n",
    "    return obj\n"
   ]
  },
  {
   "cell_type": "code",
   "execution_count": null,
   "id": "0bc531df",
   "metadata": {},
   "outputs": [],
   "source": [
    "# gym.envs.robotics.hand.reach.HandReachEnv.__enter__\n",
    "try:\n",
    "    obj = class_constructor()\n",
    "    ret = obj.__enter__()\n",
    "    type_gym_envs_robotics_hand_reach_HandReachEnv___enter__ = getattr(ret, '__module__', 'none') + '.' + ret.__class__.__name__\n",
    "    print('✅ gym.envs.robotics.hand.reach.HandReachEnv.__enter__: ', type(ret))\n",
    "except Exception as e:\n",
    "    type_gym_envs_robotics_hand_reach_HandReachEnv___enter__ = '_syft_missing'\n",
    "    print('❌ gym.envs.robotics.hand.reach.HandReachEnv.__enter__: Return unavailable')\n",
    "    print(\"  Please fix this return type code until there is no exception\")\n",
    "    print('  Error:', e)\n"
   ]
  },
  {
   "cell_type": "code",
   "execution_count": null,
   "id": "0993b1d5",
   "metadata": {},
   "outputs": [],
   "source": [
    "# gym.envs.robotics.hand.reach.HandReachEnv.__exit__\n",
    "try:\n",
    "    obj = class_constructor()\n",
    "    ret = obj.__exit__()\n",
    "    type_gym_envs_robotics_hand_reach_HandReachEnv___exit__ = getattr(ret, '__module__', 'none') + '.' + ret.__class__.__name__\n",
    "    print('✅ gym.envs.robotics.hand.reach.HandReachEnv.__exit__: ', type(ret))\n",
    "except Exception as e:\n",
    "    type_gym_envs_robotics_hand_reach_HandReachEnv___exit__ = '_syft_missing'\n",
    "    print('❌ gym.envs.robotics.hand.reach.HandReachEnv.__exit__: Return unavailable')\n",
    "    print(\"  Please fix this return type code until there is no exception\")\n",
    "    print('  Error:', e)\n"
   ]
  },
  {
   "cell_type": "code",
   "execution_count": null,
   "id": "99f7c1db",
   "metadata": {},
   "outputs": [],
   "source": [
    "# gym.envs.robotics.hand.reach.HandReachEnv.__getstate__\n",
    "try:\n",
    "    obj = class_constructor()\n",
    "    ret = obj.__getstate__()\n",
    "    type_gym_envs_robotics_hand_reach_HandReachEnv___getstate__ = getattr(ret, '__module__', 'none') + '.' + ret.__class__.__name__\n",
    "    print('✅ gym.envs.robotics.hand.reach.HandReachEnv.__getstate__: ', type(ret))\n",
    "except Exception as e:\n",
    "    type_gym_envs_robotics_hand_reach_HandReachEnv___getstate__ = '_syft_missing'\n",
    "    print('❌ gym.envs.robotics.hand.reach.HandReachEnv.__getstate__: Return unavailable')\n",
    "    print(\"  Please fix this return type code until there is no exception\")\n",
    "    print('  Error:', e)\n"
   ]
  },
  {
   "cell_type": "code",
   "execution_count": null,
   "id": "6aa539b9",
   "metadata": {},
   "outputs": [],
   "source": [
    "# gym.envs.robotics.hand.reach.HandReachEnv.__setstate__\n",
    "try:\n",
    "    obj = class_constructor()\n",
    "    ret = obj.__setstate__()\n",
    "    type_gym_envs_robotics_hand_reach_HandReachEnv___setstate__ = getattr(ret, '__module__', 'none') + '.' + ret.__class__.__name__\n",
    "    print('✅ gym.envs.robotics.hand.reach.HandReachEnv.__setstate__: ', type(ret))\n",
    "except Exception as e:\n",
    "    type_gym_envs_robotics_hand_reach_HandReachEnv___setstate__ = '_syft_missing'\n",
    "    print('❌ gym.envs.robotics.hand.reach.HandReachEnv.__setstate__: Return unavailable')\n",
    "    print(\"  Please fix this return type code until there is no exception\")\n",
    "    print('  Error:', e)\n"
   ]
  },
  {
   "cell_type": "code",
   "execution_count": null,
   "id": "97eb02d5",
   "metadata": {},
   "outputs": [],
   "source": [
    "# gym.envs.robotics.hand.reach.HandReachEnv.__str__\n",
    "try:\n",
    "    obj = class_constructor()\n",
    "    ret = obj.__str__()\n",
    "    type_gym_envs_robotics_hand_reach_HandReachEnv___str__ = getattr(ret, '__module__', 'none') + '.' + ret.__class__.__name__\n",
    "    print('✅ gym.envs.robotics.hand.reach.HandReachEnv.__str__: ', type(ret))\n",
    "except Exception as e:\n",
    "    type_gym_envs_robotics_hand_reach_HandReachEnv___str__ = '_syft_missing'\n",
    "    print('❌ gym.envs.robotics.hand.reach.HandReachEnv.__str__: Return unavailable')\n",
    "    print(\"  Please fix this return type code until there is no exception\")\n",
    "    print('  Error:', e)\n"
   ]
  },
  {
   "cell_type": "code",
   "execution_count": null,
   "id": "88406773",
   "metadata": {},
   "outputs": [],
   "source": [
    "# gym.envs.robotics.hand.reach.HandReachEnv._env_setup\n",
    "try:\n",
    "    obj = class_constructor()\n",
    "    ret = obj._env_setup()\n",
    "    type_gym_envs_robotics_hand_reach_HandReachEnv__env_setup = getattr(ret, '__module__', 'none') + '.' + ret.__class__.__name__\n",
    "    print('✅ gym.envs.robotics.hand.reach.HandReachEnv._env_setup: ', type(ret))\n",
    "except Exception as e:\n",
    "    type_gym_envs_robotics_hand_reach_HandReachEnv__env_setup = '_syft_missing'\n",
    "    print('❌ gym.envs.robotics.hand.reach.HandReachEnv._env_setup: Return unavailable')\n",
    "    print(\"  Please fix this return type code until there is no exception\")\n",
    "    print('  Error:', e)\n"
   ]
  },
  {
   "cell_type": "code",
   "execution_count": null,
   "id": "606f3cbd",
   "metadata": {},
   "outputs": [],
   "source": [
    "# gym.envs.robotics.hand.reach.HandReachEnv._get_achieved_goal\n",
    "try:\n",
    "    obj = class_constructor()\n",
    "    ret = obj._get_achieved_goal()\n",
    "    type_gym_envs_robotics_hand_reach_HandReachEnv__get_achieved_goal = getattr(ret, '__module__', 'none') + '.' + ret.__class__.__name__\n",
    "    print('✅ gym.envs.robotics.hand.reach.HandReachEnv._get_achieved_goal: ', type(ret))\n",
    "except Exception as e:\n",
    "    type_gym_envs_robotics_hand_reach_HandReachEnv__get_achieved_goal = '_syft_missing'\n",
    "    print('❌ gym.envs.robotics.hand.reach.HandReachEnv._get_achieved_goal: Return unavailable')\n",
    "    print(\"  Please fix this return type code until there is no exception\")\n",
    "    print('  Error:', e)\n"
   ]
  },
  {
   "cell_type": "code",
   "execution_count": null,
   "id": "7030a371",
   "metadata": {},
   "outputs": [],
   "source": [
    "# gym.envs.robotics.hand.reach.HandReachEnv._get_obs\n",
    "try:\n",
    "    obj = class_constructor()\n",
    "    ret = obj._get_obs()\n",
    "    type_gym_envs_robotics_hand_reach_HandReachEnv__get_obs = getattr(ret, '__module__', 'none') + '.' + ret.__class__.__name__\n",
    "    print('✅ gym.envs.robotics.hand.reach.HandReachEnv._get_obs: ', type(ret))\n",
    "except Exception as e:\n",
    "    type_gym_envs_robotics_hand_reach_HandReachEnv__get_obs = '_syft_missing'\n",
    "    print('❌ gym.envs.robotics.hand.reach.HandReachEnv._get_obs: Return unavailable')\n",
    "    print(\"  Please fix this return type code until there is no exception\")\n",
    "    print('  Error:', e)\n"
   ]
  },
  {
   "cell_type": "code",
   "execution_count": null,
   "id": "70e665ca",
   "metadata": {},
   "outputs": [],
   "source": [
    "# gym.envs.robotics.hand.reach.HandReachEnv._get_viewer\n",
    "try:\n",
    "    obj = class_constructor()\n",
    "    ret = obj._get_viewer()\n",
    "    type_gym_envs_robotics_hand_reach_HandReachEnv__get_viewer = getattr(ret, '__module__', 'none') + '.' + ret.__class__.__name__\n",
    "    print('✅ gym.envs.robotics.hand.reach.HandReachEnv._get_viewer: ', type(ret))\n",
    "except Exception as e:\n",
    "    type_gym_envs_robotics_hand_reach_HandReachEnv__get_viewer = '_syft_missing'\n",
    "    print('❌ gym.envs.robotics.hand.reach.HandReachEnv._get_viewer: Return unavailable')\n",
    "    print(\"  Please fix this return type code until there is no exception\")\n",
    "    print('  Error:', e)\n"
   ]
  },
  {
   "cell_type": "code",
   "execution_count": null,
   "id": "765e76ec",
   "metadata": {},
   "outputs": [],
   "source": [
    "# gym.envs.robotics.hand.reach.HandReachEnv._is_success\n",
    "try:\n",
    "    obj = class_constructor()\n",
    "    ret = obj._is_success()\n",
    "    type_gym_envs_robotics_hand_reach_HandReachEnv__is_success = getattr(ret, '__module__', 'none') + '.' + ret.__class__.__name__\n",
    "    print('✅ gym.envs.robotics.hand.reach.HandReachEnv._is_success: ', type(ret))\n",
    "except Exception as e:\n",
    "    type_gym_envs_robotics_hand_reach_HandReachEnv__is_success = '_syft_missing'\n",
    "    print('❌ gym.envs.robotics.hand.reach.HandReachEnv._is_success: Return unavailable')\n",
    "    print(\"  Please fix this return type code until there is no exception\")\n",
    "    print('  Error:', e)\n"
   ]
  },
  {
   "cell_type": "code",
   "execution_count": null,
   "id": "7fee1cb6",
   "metadata": {},
   "outputs": [],
   "source": [
    "# gym.envs.robotics.hand.reach.HandReachEnv._render_callback\n",
    "try:\n",
    "    obj = class_constructor()\n",
    "    ret = obj._render_callback()\n",
    "    type_gym_envs_robotics_hand_reach_HandReachEnv__render_callback = getattr(ret, '__module__', 'none') + '.' + ret.__class__.__name__\n",
    "    print('✅ gym.envs.robotics.hand.reach.HandReachEnv._render_callback: ', type(ret))\n",
    "except Exception as e:\n",
    "    type_gym_envs_robotics_hand_reach_HandReachEnv__render_callback = '_syft_missing'\n",
    "    print('❌ gym.envs.robotics.hand.reach.HandReachEnv._render_callback: Return unavailable')\n",
    "    print(\"  Please fix this return type code until there is no exception\")\n",
    "    print('  Error:', e)\n"
   ]
  },
  {
   "cell_type": "code",
   "execution_count": null,
   "id": "f7b3d0ba",
   "metadata": {},
   "outputs": [],
   "source": [
    "# gym.envs.robotics.hand.reach.HandReachEnv._reset_sim\n",
    "try:\n",
    "    obj = class_constructor()\n",
    "    ret = obj._reset_sim()\n",
    "    type_gym_envs_robotics_hand_reach_HandReachEnv__reset_sim = getattr(ret, '__module__', 'none') + '.' + ret.__class__.__name__\n",
    "    print('✅ gym.envs.robotics.hand.reach.HandReachEnv._reset_sim: ', type(ret))\n",
    "except Exception as e:\n",
    "    type_gym_envs_robotics_hand_reach_HandReachEnv__reset_sim = '_syft_missing'\n",
    "    print('❌ gym.envs.robotics.hand.reach.HandReachEnv._reset_sim: Return unavailable')\n",
    "    print(\"  Please fix this return type code until there is no exception\")\n",
    "    print('  Error:', e)\n"
   ]
  },
  {
   "cell_type": "code",
   "execution_count": null,
   "id": "da1aa36c",
   "metadata": {},
   "outputs": [],
   "source": [
    "# gym.envs.robotics.hand.reach.HandReachEnv._sample_goal\n",
    "try:\n",
    "    obj = class_constructor()\n",
    "    ret = obj._sample_goal()\n",
    "    type_gym_envs_robotics_hand_reach_HandReachEnv__sample_goal = getattr(ret, '__module__', 'none') + '.' + ret.__class__.__name__\n",
    "    print('✅ gym.envs.robotics.hand.reach.HandReachEnv._sample_goal: ', type(ret))\n",
    "except Exception as e:\n",
    "    type_gym_envs_robotics_hand_reach_HandReachEnv__sample_goal = '_syft_missing'\n",
    "    print('❌ gym.envs.robotics.hand.reach.HandReachEnv._sample_goal: Return unavailable')\n",
    "    print(\"  Please fix this return type code until there is no exception\")\n",
    "    print('  Error:', e)\n"
   ]
  },
  {
   "cell_type": "code",
   "execution_count": null,
   "id": "e517ff61",
   "metadata": {},
   "outputs": [],
   "source": [
    "# gym.envs.robotics.hand.reach.HandReachEnv._set_action\n",
    "try:\n",
    "    obj = class_constructor()\n",
    "    ret = obj._set_action()\n",
    "    type_gym_envs_robotics_hand_reach_HandReachEnv__set_action = getattr(ret, '__module__', 'none') + '.' + ret.__class__.__name__\n",
    "    print('✅ gym.envs.robotics.hand.reach.HandReachEnv._set_action: ', type(ret))\n",
    "except Exception as e:\n",
    "    type_gym_envs_robotics_hand_reach_HandReachEnv__set_action = '_syft_missing'\n",
    "    print('❌ gym.envs.robotics.hand.reach.HandReachEnv._set_action: Return unavailable')\n",
    "    print(\"  Please fix this return type code until there is no exception\")\n",
    "    print('  Error:', e)\n"
   ]
  },
  {
   "cell_type": "code",
   "execution_count": null,
   "id": "6154899a",
   "metadata": {},
   "outputs": [],
   "source": [
    "# gym.envs.robotics.hand.reach.HandReachEnv._step_callback\n",
    "try:\n",
    "    obj = class_constructor()\n",
    "    ret = obj._step_callback()\n",
    "    type_gym_envs_robotics_hand_reach_HandReachEnv__step_callback = getattr(ret, '__module__', 'none') + '.' + ret.__class__.__name__\n",
    "    print('✅ gym.envs.robotics.hand.reach.HandReachEnv._step_callback: ', type(ret))\n",
    "except Exception as e:\n",
    "    type_gym_envs_robotics_hand_reach_HandReachEnv__step_callback = '_syft_missing'\n",
    "    print('❌ gym.envs.robotics.hand.reach.HandReachEnv._step_callback: Return unavailable')\n",
    "    print(\"  Please fix this return type code until there is no exception\")\n",
    "    print('  Error:', e)\n"
   ]
  },
  {
   "cell_type": "code",
   "execution_count": null,
   "id": "6fcfa62e",
   "metadata": {},
   "outputs": [],
   "source": [
    "# gym.envs.robotics.hand.reach.HandReachEnv._viewer_setup\n",
    "try:\n",
    "    obj = class_constructor()\n",
    "    ret = obj._viewer_setup()\n",
    "    type_gym_envs_robotics_hand_reach_HandReachEnv__viewer_setup = getattr(ret, '__module__', 'none') + '.' + ret.__class__.__name__\n",
    "    print('✅ gym.envs.robotics.hand.reach.HandReachEnv._viewer_setup: ', type(ret))\n",
    "except Exception as e:\n",
    "    type_gym_envs_robotics_hand_reach_HandReachEnv__viewer_setup = '_syft_missing'\n",
    "    print('❌ gym.envs.robotics.hand.reach.HandReachEnv._viewer_setup: Return unavailable')\n",
    "    print(\"  Please fix this return type code until there is no exception\")\n",
    "    print('  Error:', e)\n"
   ]
  },
  {
   "cell_type": "code",
   "execution_count": null,
   "id": "5b4a9c59",
   "metadata": {},
   "outputs": [],
   "source": [
    "# gym.envs.robotics.hand.reach.HandReachEnv.close\n",
    "try:\n",
    "    obj = class_constructor()\n",
    "    ret = obj.close()\n",
    "    type_gym_envs_robotics_hand_reach_HandReachEnv_close = getattr(ret, '__module__', 'none') + '.' + ret.__class__.__name__\n",
    "    print('✅ gym.envs.robotics.hand.reach.HandReachEnv.close: ', type(ret))\n",
    "except Exception as e:\n",
    "    type_gym_envs_robotics_hand_reach_HandReachEnv_close = '_syft_missing'\n",
    "    print('❌ gym.envs.robotics.hand.reach.HandReachEnv.close: Return unavailable')\n",
    "    print(\"  Please fix this return type code until there is no exception\")\n",
    "    print('  Error:', e)\n"
   ]
  },
  {
   "cell_type": "code",
   "execution_count": null,
   "id": "51b34143",
   "metadata": {},
   "outputs": [],
   "source": [
    "# gym.envs.robotics.hand.reach.HandReachEnv.compute_reward\n",
    "try:\n",
    "    obj = class_constructor()\n",
    "    ret = obj.compute_reward()\n",
    "    type_gym_envs_robotics_hand_reach_HandReachEnv_compute_reward = getattr(ret, '__module__', 'none') + '.' + ret.__class__.__name__\n",
    "    print('✅ gym.envs.robotics.hand.reach.HandReachEnv.compute_reward: ', type(ret))\n",
    "except Exception as e:\n",
    "    type_gym_envs_robotics_hand_reach_HandReachEnv_compute_reward = '_syft_missing'\n",
    "    print('❌ gym.envs.robotics.hand.reach.HandReachEnv.compute_reward: Return unavailable')\n",
    "    print(\"  Please fix this return type code until there is no exception\")\n",
    "    print('  Error:', e)\n"
   ]
  },
  {
   "cell_type": "code",
   "execution_count": null,
   "id": "06e1b0c9",
   "metadata": {},
   "outputs": [],
   "source": [
    "# gym.envs.robotics.hand.reach.HandReachEnv.dt\n",
    "try:\n",
    "    obj = class_constructor()\n",
    "    ret = obj.dt\n",
    "    type_gym_envs_robotics_hand_reach_HandReachEnv_dt = getattr(ret, '__module__', 'none') + '.' + ret.__class__.__name__\n",
    "    print('✅ gym.envs.robotics.hand.reach.HandReachEnv.dt:', type(ret))\n",
    "except Exception as e:\n",
    "    type_gym_envs_robotics_hand_reach_HandReachEnv_dt = '_syft_missing'\n",
    "    print('❌ gym.envs.robotics.hand.reach.HandReachEnv.dt: Return unavailable')\n",
    "    print(\"  Please fix this return type code until there is no exception\")\n",
    "    print('  Error:', e)\n"
   ]
  },
  {
   "cell_type": "code",
   "execution_count": null,
   "id": "b436434d",
   "metadata": {},
   "outputs": [],
   "source": [
    "# gym.envs.robotics.hand.reach.HandReachEnv.render\n",
    "try:\n",
    "    obj = class_constructor()\n",
    "    ret = obj.render()\n",
    "    type_gym_envs_robotics_hand_reach_HandReachEnv_render = getattr(ret, '__module__', 'none') + '.' + ret.__class__.__name__\n",
    "    print('✅ gym.envs.robotics.hand.reach.HandReachEnv.render: ', type(ret))\n",
    "except Exception as e:\n",
    "    type_gym_envs_robotics_hand_reach_HandReachEnv_render = '_syft_missing'\n",
    "    print('❌ gym.envs.robotics.hand.reach.HandReachEnv.render: Return unavailable')\n",
    "    print(\"  Please fix this return type code until there is no exception\")\n",
    "    print('  Error:', e)\n"
   ]
  },
  {
   "cell_type": "code",
   "execution_count": null,
   "id": "c8dbfcf1",
   "metadata": {},
   "outputs": [],
   "source": [
    "# gym.envs.robotics.hand.reach.HandReachEnv.reset\n",
    "try:\n",
    "    obj = class_constructor()\n",
    "    ret = obj.reset()\n",
    "    type_gym_envs_robotics_hand_reach_HandReachEnv_reset = getattr(ret, '__module__', 'none') + '.' + ret.__class__.__name__\n",
    "    print('✅ gym.envs.robotics.hand.reach.HandReachEnv.reset: ', type(ret))\n",
    "except Exception as e:\n",
    "    type_gym_envs_robotics_hand_reach_HandReachEnv_reset = '_syft_missing'\n",
    "    print('❌ gym.envs.robotics.hand.reach.HandReachEnv.reset: Return unavailable')\n",
    "    print(\"  Please fix this return type code until there is no exception\")\n",
    "    print('  Error:', e)\n"
   ]
  },
  {
   "cell_type": "code",
   "execution_count": null,
   "id": "a19bfe5a",
   "metadata": {},
   "outputs": [],
   "source": [
    "# gym.envs.robotics.hand.reach.HandReachEnv.seed\n",
    "try:\n",
    "    obj = class_constructor()\n",
    "    ret = obj.seed()\n",
    "    type_gym_envs_robotics_hand_reach_HandReachEnv_seed = getattr(ret, '__module__', 'none') + '.' + ret.__class__.__name__\n",
    "    print('✅ gym.envs.robotics.hand.reach.HandReachEnv.seed: ', type(ret))\n",
    "except Exception as e:\n",
    "    type_gym_envs_robotics_hand_reach_HandReachEnv_seed = '_syft_missing'\n",
    "    print('❌ gym.envs.robotics.hand.reach.HandReachEnv.seed: Return unavailable')\n",
    "    print(\"  Please fix this return type code until there is no exception\")\n",
    "    print('  Error:', e)\n"
   ]
  },
  {
   "cell_type": "code",
   "execution_count": null,
   "id": "5d7fd367",
   "metadata": {},
   "outputs": [],
   "source": [
    "# gym.envs.robotics.hand.reach.HandReachEnv.step\n",
    "try:\n",
    "    obj = class_constructor()\n",
    "    ret = obj.step()\n",
    "    type_gym_envs_robotics_hand_reach_HandReachEnv_step = getattr(ret, '__module__', 'none') + '.' + ret.__class__.__name__\n",
    "    print('✅ gym.envs.robotics.hand.reach.HandReachEnv.step: ', type(ret))\n",
    "except Exception as e:\n",
    "    type_gym_envs_robotics_hand_reach_HandReachEnv_step = '_syft_missing'\n",
    "    print('❌ gym.envs.robotics.hand.reach.HandReachEnv.step: Return unavailable')\n",
    "    print(\"  Please fix this return type code until there is no exception\")\n",
    "    print('  Error:', e)\n"
   ]
  },
  {
   "cell_type": "code",
   "execution_count": null,
   "id": "ee9c0794",
   "metadata": {},
   "outputs": [],
   "source": [
    "# gym.envs.robotics.hand.reach.HandReachEnv.unwrapped\n",
    "try:\n",
    "    obj = class_constructor()\n",
    "    ret = obj.unwrapped\n",
    "    type_gym_envs_robotics_hand_reach_HandReachEnv_unwrapped = getattr(ret, '__module__', 'none') + '.' + ret.__class__.__name__\n",
    "    print('✅ gym.envs.robotics.hand.reach.HandReachEnv.unwrapped:', type(ret))\n",
    "except Exception as e:\n",
    "    type_gym_envs_robotics_hand_reach_HandReachEnv_unwrapped = '_syft_missing'\n",
    "    print('❌ gym.envs.robotics.hand.reach.HandReachEnv.unwrapped: Return unavailable')\n",
    "    print(\"  Please fix this return type code until there is no exception\")\n",
    "    print('  Error:', e)\n"
   ]
  }
 ],
 "metadata": {},
 "nbformat": 4,
 "nbformat_minor": 5
}
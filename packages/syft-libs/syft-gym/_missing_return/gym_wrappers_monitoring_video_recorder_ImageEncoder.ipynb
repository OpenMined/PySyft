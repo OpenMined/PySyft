{
 "cells": [
  {
   "cell_type": "markdown",
   "id": "7945cd0a",
   "metadata": {},
   "source": [
    "## gym.wrappers.monitoring.video_recorder.ImageEncoder"
   ]
  },
  {
   "cell_type": "code",
   "execution_count": null,
   "id": "d8458aff",
   "metadata": {},
   "outputs": [],
   "source": [
    "import gym\n",
    "def class_constructor(*args, **kwargs):\n",
    "    obj = gym.wrappers.monitoring.video_recorder.ImageEncoder()\n",
    "    return obj\n"
   ]
  },
  {
   "cell_type": "code",
   "execution_count": null,
   "id": "5f4a41e4",
   "metadata": {},
   "outputs": [],
   "source": [
    "# gym.wrappers.monitoring.video_recorder.ImageEncoder.capture_frame\n",
    "try:\n",
    "    obj = class_constructor()\n",
    "    ret = obj.capture_frame()\n",
    "    type_gym_wrappers_monitoring_video_recorder_ImageEncoder_capture_frame = getattr(ret, '__module__', 'none') + '.' + ret.__class__.__name__\n",
    "    print('✅ gym.wrappers.monitoring.video_recorder.ImageEncoder.capture_frame: ', type(ret))\n",
    "except Exception as e:\n",
    "    type_gym_wrappers_monitoring_video_recorder_ImageEncoder_capture_frame = '_syft_missing'\n",
    "    print('❌ gym.wrappers.monitoring.video_recorder.ImageEncoder.capture_frame: Return unavailable')\n",
    "    print(\"  Please fix this return type code until there is no exception\")\n",
    "    print('  Error:', e)\n"
   ]
  },
  {
   "cell_type": "code",
   "execution_count": null,
   "id": "dce989f1",
   "metadata": {},
   "outputs": [],
   "source": [
    "# gym.wrappers.monitoring.video_recorder.ImageEncoder.close\n",
    "try:\n",
    "    obj = class_constructor()\n",
    "    ret = obj.close()\n",
    "    type_gym_wrappers_monitoring_video_recorder_ImageEncoder_close = getattr(ret, '__module__', 'none') + '.' + ret.__class__.__name__\n",
    "    print('✅ gym.wrappers.monitoring.video_recorder.ImageEncoder.close: ', type(ret))\n",
    "except Exception as e:\n",
    "    type_gym_wrappers_monitoring_video_recorder_ImageEncoder_close = '_syft_missing'\n",
    "    print('❌ gym.wrappers.monitoring.video_recorder.ImageEncoder.close: Return unavailable')\n",
    "    print(\"  Please fix this return type code until there is no exception\")\n",
    "    print('  Error:', e)\n"
   ]
  },
  {
   "cell_type": "code",
   "execution_count": null,
   "id": "a8458559",
   "metadata": {},
   "outputs": [],
   "source": [
    "# gym.wrappers.monitoring.video_recorder.ImageEncoder.start\n",
    "try:\n",
    "    obj = class_constructor()\n",
    "    ret = obj.start()\n",
    "    type_gym_wrappers_monitoring_video_recorder_ImageEncoder_start = getattr(ret, '__module__', 'none') + '.' + ret.__class__.__name__\n",
    "    print('✅ gym.wrappers.monitoring.video_recorder.ImageEncoder.start: ', type(ret))\n",
    "except Exception as e:\n",
    "    type_gym_wrappers_monitoring_video_recorder_ImageEncoder_start = '_syft_missing'\n",
    "    print('❌ gym.wrappers.monitoring.video_recorder.ImageEncoder.start: Return unavailable')\n",
    "    print(\"  Please fix this return type code until there is no exception\")\n",
    "    print('  Error:', e)\n"
   ]
  },
  {
   "cell_type": "code",
   "execution_count": null,
   "id": "34b1fb01",
   "metadata": {},
   "outputs": [],
   "source": [
    "# gym.wrappers.monitoring.video_recorder.ImageEncoder.version_info\n",
    "try:\n",
    "    obj = class_constructor()\n",
    "    ret = obj.version_info\n",
    "    type_gym_wrappers_monitoring_video_recorder_ImageEncoder_version_info = getattr(ret, '__module__', 'none') + '.' + ret.__class__.__name__\n",
    "    print('✅ gym.wrappers.monitoring.video_recorder.ImageEncoder.version_info:', type(ret))\n",
    "except Exception as e:\n",
    "    type_gym_wrappers_monitoring_video_recorder_ImageEncoder_version_info = '_syft_missing'\n",
    "    print('❌ gym.wrappers.monitoring.video_recorder.ImageEncoder.version_info: Return unavailable')\n",
    "    print(\"  Please fix this return type code until there is no exception\")\n",
    "    print('  Error:', e)\n"
   ]
  }
 ],
 "metadata": {},
 "nbformat": 4,
 "nbformat_minor": 5
}
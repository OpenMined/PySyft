{
 "cells": [
  {
   "cell_type": "markdown",
   "id": "c0d8498e",
   "metadata": {},
   "source": [
    "## gym.wrappers.atari_preprocessing.AtariPreprocessing"
   ]
  },
  {
   "cell_type": "code",
   "execution_count": null,
   "id": "713d637e",
   "metadata": {},
   "outputs": [],
   "source": [
    "import gym\n",
    "def class_constructor(*args, **kwargs):\n",
    "    obj = gym.wrappers.atari_preprocessing.AtariPreprocessing()\n",
    "    return obj\n"
   ]
  },
  {
   "cell_type": "code",
   "execution_count": null,
   "id": "9da92e97",
   "metadata": {},
   "outputs": [],
   "source": [
    "# gym.wrappers.atari_preprocessing.AtariPreprocessing.__enter__\n",
    "try:\n",
    "    obj = class_constructor()\n",
    "    ret = obj.__enter__()\n",
    "    type_gym_wrappers_atari_preprocessing_AtariPreprocessing___enter__ = getattr(ret, '__module__', 'none') + '.' + ret.__class__.__name__\n",
    "    print('✅ gym.wrappers.atari_preprocessing.AtariPreprocessing.__enter__: ', type(ret))\n",
    "except Exception as e:\n",
    "    type_gym_wrappers_atari_preprocessing_AtariPreprocessing___enter__ = '_syft_missing'\n",
    "    print('❌ gym.wrappers.atari_preprocessing.AtariPreprocessing.__enter__: Return unavailable')\n",
    "    print(\"  Please fix this return type code until there is no exception\")\n",
    "    print('  Error:', e)\n"
   ]
  },
  {
   "cell_type": "code",
   "execution_count": null,
   "id": "bdd79f50",
   "metadata": {},
   "outputs": [],
   "source": [
    "# gym.wrappers.atari_preprocessing.AtariPreprocessing.__exit__\n",
    "try:\n",
    "    obj = class_constructor()\n",
    "    ret = obj.__exit__()\n",
    "    type_gym_wrappers_atari_preprocessing_AtariPreprocessing___exit__ = getattr(ret, '__module__', 'none') + '.' + ret.__class__.__name__\n",
    "    print('✅ gym.wrappers.atari_preprocessing.AtariPreprocessing.__exit__: ', type(ret))\n",
    "except Exception as e:\n",
    "    type_gym_wrappers_atari_preprocessing_AtariPreprocessing___exit__ = '_syft_missing'\n",
    "    print('❌ gym.wrappers.atari_preprocessing.AtariPreprocessing.__exit__: Return unavailable')\n",
    "    print(\"  Please fix this return type code until there is no exception\")\n",
    "    print('  Error:', e)\n"
   ]
  },
  {
   "cell_type": "code",
   "execution_count": null,
   "id": "951c62ad",
   "metadata": {},
   "outputs": [],
   "source": [
    "# gym.wrappers.atari_preprocessing.AtariPreprocessing.__getattr__\n",
    "try:\n",
    "    obj = class_constructor()\n",
    "    ret = obj.__getattr__()\n",
    "    type_gym_wrappers_atari_preprocessing_AtariPreprocessing___getattr__ = getattr(ret, '__module__', 'none') + '.' + ret.__class__.__name__\n",
    "    print('✅ gym.wrappers.atari_preprocessing.AtariPreprocessing.__getattr__: ', type(ret))\n",
    "except Exception as e:\n",
    "    type_gym_wrappers_atari_preprocessing_AtariPreprocessing___getattr__ = '_syft_missing'\n",
    "    print('❌ gym.wrappers.atari_preprocessing.AtariPreprocessing.__getattr__: Return unavailable')\n",
    "    print(\"  Please fix this return type code until there is no exception\")\n",
    "    print('  Error:', e)\n"
   ]
  },
  {
   "cell_type": "code",
   "execution_count": null,
   "id": "77cae407",
   "metadata": {},
   "outputs": [],
   "source": [
    "# gym.wrappers.atari_preprocessing.AtariPreprocessing.__repr__\n",
    "try:\n",
    "    obj = class_constructor()\n",
    "    ret = obj.__repr__()\n",
    "    type_gym_wrappers_atari_preprocessing_AtariPreprocessing___repr__ = getattr(ret, '__module__', 'none') + '.' + ret.__class__.__name__\n",
    "    print('✅ gym.wrappers.atari_preprocessing.AtariPreprocessing.__repr__: ', type(ret))\n",
    "except Exception as e:\n",
    "    type_gym_wrappers_atari_preprocessing_AtariPreprocessing___repr__ = '_syft_missing'\n",
    "    print('❌ gym.wrappers.atari_preprocessing.AtariPreprocessing.__repr__: Return unavailable')\n",
    "    print(\"  Please fix this return type code until there is no exception\")\n",
    "    print('  Error:', e)\n"
   ]
  },
  {
   "cell_type": "code",
   "execution_count": null,
   "id": "bc344179",
   "metadata": {},
   "outputs": [],
   "source": [
    "# gym.wrappers.atari_preprocessing.AtariPreprocessing.__str__\n",
    "try:\n",
    "    obj = class_constructor()\n",
    "    ret = obj.__str__()\n",
    "    type_gym_wrappers_atari_preprocessing_AtariPreprocessing___str__ = getattr(ret, '__module__', 'none') + '.' + ret.__class__.__name__\n",
    "    print('✅ gym.wrappers.atari_preprocessing.AtariPreprocessing.__str__: ', type(ret))\n",
    "except Exception as e:\n",
    "    type_gym_wrappers_atari_preprocessing_AtariPreprocessing___str__ = '_syft_missing'\n",
    "    print('❌ gym.wrappers.atari_preprocessing.AtariPreprocessing.__str__: Return unavailable')\n",
    "    print(\"  Please fix this return type code until there is no exception\")\n",
    "    print('  Error:', e)\n"
   ]
  },
  {
   "cell_type": "code",
   "execution_count": null,
   "id": "a51f382c",
   "metadata": {},
   "outputs": [],
   "source": [
    "# gym.wrappers.atari_preprocessing.AtariPreprocessing._get_obs\n",
    "try:\n",
    "    obj = class_constructor()\n",
    "    ret = obj._get_obs()\n",
    "    type_gym_wrappers_atari_preprocessing_AtariPreprocessing__get_obs = getattr(ret, '__module__', 'none') + '.' + ret.__class__.__name__\n",
    "    print('✅ gym.wrappers.atari_preprocessing.AtariPreprocessing._get_obs: ', type(ret))\n",
    "except Exception as e:\n",
    "    type_gym_wrappers_atari_preprocessing_AtariPreprocessing__get_obs = '_syft_missing'\n",
    "    print('❌ gym.wrappers.atari_preprocessing.AtariPreprocessing._get_obs: Return unavailable')\n",
    "    print(\"  Please fix this return type code until there is no exception\")\n",
    "    print('  Error:', e)\n"
   ]
  },
  {
   "cell_type": "code",
   "execution_count": null,
   "id": "c31ae6cb",
   "metadata": {},
   "outputs": [],
   "source": [
    "# gym.wrappers.atari_preprocessing.AtariPreprocessing.class_name\n",
    "try:\n",
    "    obj = class_constructor()\n",
    "    ret = obj.class_name()\n",
    "    type_gym_wrappers_atari_preprocessing_AtariPreprocessing_class_name = getattr(ret, '__module__', 'none') + '.' + ret.__class__.__name__\n",
    "    print('✅ gym.wrappers.atari_preprocessing.AtariPreprocessing.class_name: ', type(ret))\n",
    "except Exception as e:\n",
    "    type_gym_wrappers_atari_preprocessing_AtariPreprocessing_class_name = '_syft_missing'\n",
    "    print('❌ gym.wrappers.atari_preprocessing.AtariPreprocessing.class_name: Return unavailable')\n",
    "    print(\"  Please fix this return type code until there is no exception\")\n",
    "    print('  Error:', e)\n"
   ]
  },
  {
   "cell_type": "code",
   "execution_count": null,
   "id": "fd4ef433",
   "metadata": {},
   "outputs": [],
   "source": [
    "# gym.wrappers.atari_preprocessing.AtariPreprocessing.close\n",
    "try:\n",
    "    obj = class_constructor()\n",
    "    ret = obj.close()\n",
    "    type_gym_wrappers_atari_preprocessing_AtariPreprocessing_close = getattr(ret, '__module__', 'none') + '.' + ret.__class__.__name__\n",
    "    print('✅ gym.wrappers.atari_preprocessing.AtariPreprocessing.close: ', type(ret))\n",
    "except Exception as e:\n",
    "    type_gym_wrappers_atari_preprocessing_AtariPreprocessing_close = '_syft_missing'\n",
    "    print('❌ gym.wrappers.atari_preprocessing.AtariPreprocessing.close: Return unavailable')\n",
    "    print(\"  Please fix this return type code until there is no exception\")\n",
    "    print('  Error:', e)\n"
   ]
  },
  {
   "cell_type": "code",
   "execution_count": null,
   "id": "9b47cd96",
   "metadata": {},
   "outputs": [],
   "source": [
    "# gym.wrappers.atari_preprocessing.AtariPreprocessing.compute_reward\n",
    "try:\n",
    "    obj = class_constructor()\n",
    "    ret = obj.compute_reward()\n",
    "    type_gym_wrappers_atari_preprocessing_AtariPreprocessing_compute_reward = getattr(ret, '__module__', 'none') + '.' + ret.__class__.__name__\n",
    "    print('✅ gym.wrappers.atari_preprocessing.AtariPreprocessing.compute_reward: ', type(ret))\n",
    "except Exception as e:\n",
    "    type_gym_wrappers_atari_preprocessing_AtariPreprocessing_compute_reward = '_syft_missing'\n",
    "    print('❌ gym.wrappers.atari_preprocessing.AtariPreprocessing.compute_reward: Return unavailable')\n",
    "    print(\"  Please fix this return type code until there is no exception\")\n",
    "    print('  Error:', e)\n"
   ]
  },
  {
   "cell_type": "code",
   "execution_count": null,
   "id": "71286977",
   "metadata": {},
   "outputs": [],
   "source": [
    "# gym.wrappers.atari_preprocessing.AtariPreprocessing.render\n",
    "try:\n",
    "    obj = class_constructor()\n",
    "    ret = obj.render()\n",
    "    type_gym_wrappers_atari_preprocessing_AtariPreprocessing_render = getattr(ret, '__module__', 'none') + '.' + ret.__class__.__name__\n",
    "    print('✅ gym.wrappers.atari_preprocessing.AtariPreprocessing.render: ', type(ret))\n",
    "except Exception as e:\n",
    "    type_gym_wrappers_atari_preprocessing_AtariPreprocessing_render = '_syft_missing'\n",
    "    print('❌ gym.wrappers.atari_preprocessing.AtariPreprocessing.render: Return unavailable')\n",
    "    print(\"  Please fix this return type code until there is no exception\")\n",
    "    print('  Error:', e)\n"
   ]
  },
  {
   "cell_type": "code",
   "execution_count": null,
   "id": "ef23387f",
   "metadata": {},
   "outputs": [],
   "source": [
    "# gym.wrappers.atari_preprocessing.AtariPreprocessing.reset\n",
    "try:\n",
    "    obj = class_constructor()\n",
    "    ret = obj.reset()\n",
    "    type_gym_wrappers_atari_preprocessing_AtariPreprocessing_reset = getattr(ret, '__module__', 'none') + '.' + ret.__class__.__name__\n",
    "    print('✅ gym.wrappers.atari_preprocessing.AtariPreprocessing.reset: ', type(ret))\n",
    "except Exception as e:\n",
    "    type_gym_wrappers_atari_preprocessing_AtariPreprocessing_reset = '_syft_missing'\n",
    "    print('❌ gym.wrappers.atari_preprocessing.AtariPreprocessing.reset: Return unavailable')\n",
    "    print(\"  Please fix this return type code until there is no exception\")\n",
    "    print('  Error:', e)\n"
   ]
  },
  {
   "cell_type": "code",
   "execution_count": null,
   "id": "e02874fd",
   "metadata": {},
   "outputs": [],
   "source": [
    "# gym.wrappers.atari_preprocessing.AtariPreprocessing.seed\n",
    "try:\n",
    "    obj = class_constructor()\n",
    "    ret = obj.seed()\n",
    "    type_gym_wrappers_atari_preprocessing_AtariPreprocessing_seed = getattr(ret, '__module__', 'none') + '.' + ret.__class__.__name__\n",
    "    print('✅ gym.wrappers.atari_preprocessing.AtariPreprocessing.seed: ', type(ret))\n",
    "except Exception as e:\n",
    "    type_gym_wrappers_atari_preprocessing_AtariPreprocessing_seed = '_syft_missing'\n",
    "    print('❌ gym.wrappers.atari_preprocessing.AtariPreprocessing.seed: Return unavailable')\n",
    "    print(\"  Please fix this return type code until there is no exception\")\n",
    "    print('  Error:', e)\n"
   ]
  },
  {
   "cell_type": "code",
   "execution_count": null,
   "id": "4d8b920c",
   "metadata": {},
   "outputs": [],
   "source": [
    "# gym.wrappers.atari_preprocessing.AtariPreprocessing.spec\n",
    "try:\n",
    "    obj = class_constructor()\n",
    "    ret = obj.spec\n",
    "    type_gym_wrappers_atari_preprocessing_AtariPreprocessing_spec = getattr(ret, '__module__', 'none') + '.' + ret.__class__.__name__\n",
    "    print('✅ gym.wrappers.atari_preprocessing.AtariPreprocessing.spec:', type(ret))\n",
    "except Exception as e:\n",
    "    type_gym_wrappers_atari_preprocessing_AtariPreprocessing_spec = '_syft_missing'\n",
    "    print('❌ gym.wrappers.atari_preprocessing.AtariPreprocessing.spec: Return unavailable')\n",
    "    print(\"  Please fix this return type code until there is no exception\")\n",
    "    print('  Error:', e)\n"
   ]
  },
  {
   "cell_type": "code",
   "execution_count": null,
   "id": "af03b6f4",
   "metadata": {},
   "outputs": [],
   "source": [
    "# gym.wrappers.atari_preprocessing.AtariPreprocessing.step\n",
    "try:\n",
    "    obj = class_constructor()\n",
    "    ret = obj.step()\n",
    "    type_gym_wrappers_atari_preprocessing_AtariPreprocessing_step = getattr(ret, '__module__', 'none') + '.' + ret.__class__.__name__\n",
    "    print('✅ gym.wrappers.atari_preprocessing.AtariPreprocessing.step: ', type(ret))\n",
    "except Exception as e:\n",
    "    type_gym_wrappers_atari_preprocessing_AtariPreprocessing_step = '_syft_missing'\n",
    "    print('❌ gym.wrappers.atari_preprocessing.AtariPreprocessing.step: Return unavailable')\n",
    "    print(\"  Please fix this return type code until there is no exception\")\n",
    "    print('  Error:', e)\n"
   ]
  },
  {
   "cell_type": "code",
   "execution_count": null,
   "id": "b6157903",
   "metadata": {},
   "outputs": [],
   "source": [
    "# gym.wrappers.atari_preprocessing.AtariPreprocessing.unwrapped\n",
    "try:\n",
    "    obj = class_constructor()\n",
    "    ret = obj.unwrapped\n",
    "    type_gym_wrappers_atari_preprocessing_AtariPreprocessing_unwrapped = getattr(ret, '__module__', 'none') + '.' + ret.__class__.__name__\n",
    "    print('✅ gym.wrappers.atari_preprocessing.AtariPreprocessing.unwrapped:', type(ret))\n",
    "except Exception as e:\n",
    "    type_gym_wrappers_atari_preprocessing_AtariPreprocessing_unwrapped = '_syft_missing'\n",
    "    print('❌ gym.wrappers.atari_preprocessing.AtariPreprocessing.unwrapped: Return unavailable')\n",
    "    print(\"  Please fix this return type code until there is no exception\")\n",
    "    print('  Error:', e)\n"
   ]
  }
 ],
 "metadata": {},
 "nbformat": 4,
 "nbformat_minor": 5
}
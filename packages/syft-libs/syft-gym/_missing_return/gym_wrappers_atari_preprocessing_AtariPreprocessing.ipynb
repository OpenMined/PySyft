{
 "cells": [
  {
   "cell_type": "markdown",
   "id": "de31aea9",
   "metadata": {},
   "source": [
    "## gym.wrappers.atari_preprocessing.AtariPreprocessing"
   ]
  },
  {
   "cell_type": "code",
   "execution_count": null,
   "id": "cea5dacf",
   "metadata": {},
   "outputs": [],
   "source": [
    "import gym\n",
    "def class_constructor(*args, **kwargs):\n",
    "    obj = gym.wrappers.atari_preprocessing.AtariPreprocessing()\n",
    "    return obj\n"
   ]
  },
  {
   "cell_type": "code",
   "execution_count": null,
   "id": "403c748c",
   "metadata": {},
   "outputs": [],
   "source": [
    "# gym.wrappers.atari_preprocessing.AtariPreprocessing.__enter__\n",
    "try:\n",
    "    obj = class_constructor()\n",
    "    ret = obj.__enter__()\n",
    "    type_gym_wrappers_atari_preprocessing_AtariPreprocessing___enter__ = getattr(ret, '__module__', 'none') + '.' + ret.__class__.__name__\n",
    "    print('✅ gym.wrappers.atari_preprocessing.AtariPreprocessing.__enter__: ', type(ret))\n",
    "except Exception as e:\n",
    "    type_gym_wrappers_atari_preprocessing_AtariPreprocessing___enter__ = '_syft_missing'\n",
    "    print('❌ gym.wrappers.atari_preprocessing.AtariPreprocessing.__enter__: Return unavailable')\n",
    "    print(\"  Please fix this return type code until there is no exception\")\n",
    "    print('  Error:', e)\n"
   ]
  },
  {
   "cell_type": "code",
   "execution_count": null,
   "id": "2413ea2f",
   "metadata": {},
   "outputs": [],
   "source": [
    "# gym.wrappers.atari_preprocessing.AtariPreprocessing.__exit__\n",
    "try:\n",
    "    obj = class_constructor()\n",
    "    ret = obj.__exit__()\n",
    "    type_gym_wrappers_atari_preprocessing_AtariPreprocessing___exit__ = getattr(ret, '__module__', 'none') + '.' + ret.__class__.__name__\n",
    "    print('✅ gym.wrappers.atari_preprocessing.AtariPreprocessing.__exit__: ', type(ret))\n",
    "except Exception as e:\n",
    "    type_gym_wrappers_atari_preprocessing_AtariPreprocessing___exit__ = '_syft_missing'\n",
    "    print('❌ gym.wrappers.atari_preprocessing.AtariPreprocessing.__exit__: Return unavailable')\n",
    "    print(\"  Please fix this return type code until there is no exception\")\n",
    "    print('  Error:', e)\n"
   ]
  },
  {
   "cell_type": "code",
   "execution_count": null,
   "id": "d112b5dc",
   "metadata": {},
   "outputs": [],
   "source": [
    "# gym.wrappers.atari_preprocessing.AtariPreprocessing.__getattr__\n",
    "try:\n",
    "    obj = class_constructor()\n",
    "    ret = obj.__getattr__()\n",
    "    type_gym_wrappers_atari_preprocessing_AtariPreprocessing___getattr__ = getattr(ret, '__module__', 'none') + '.' + ret.__class__.__name__\n",
    "    print('✅ gym.wrappers.atari_preprocessing.AtariPreprocessing.__getattr__: ', type(ret))\n",
    "except Exception as e:\n",
    "    type_gym_wrappers_atari_preprocessing_AtariPreprocessing___getattr__ = '_syft_missing'\n",
    "    print('❌ gym.wrappers.atari_preprocessing.AtariPreprocessing.__getattr__: Return unavailable')\n",
    "    print(\"  Please fix this return type code until there is no exception\")\n",
    "    print('  Error:', e)\n"
   ]
  },
  {
   "cell_type": "code",
   "execution_count": null,
   "id": "84162c6a",
   "metadata": {},
   "outputs": [],
   "source": [
    "# gym.wrappers.atari_preprocessing.AtariPreprocessing.__repr__\n",
    "try:\n",
    "    obj = class_constructor()\n",
    "    ret = obj.__repr__()\n",
    "    type_gym_wrappers_atari_preprocessing_AtariPreprocessing___repr__ = getattr(ret, '__module__', 'none') + '.' + ret.__class__.__name__\n",
    "    print('✅ gym.wrappers.atari_preprocessing.AtariPreprocessing.__repr__: ', type(ret))\n",
    "except Exception as e:\n",
    "    type_gym_wrappers_atari_preprocessing_AtariPreprocessing___repr__ = '_syft_missing'\n",
    "    print('❌ gym.wrappers.atari_preprocessing.AtariPreprocessing.__repr__: Return unavailable')\n",
    "    print(\"  Please fix this return type code until there is no exception\")\n",
    "    print('  Error:', e)\n"
   ]
  },
  {
   "cell_type": "code",
   "execution_count": null,
   "id": "995f56aa",
   "metadata": {},
   "outputs": [],
   "source": [
    "# gym.wrappers.atari_preprocessing.AtariPreprocessing.__str__\n",
    "try:\n",
    "    obj = class_constructor()\n",
    "    ret = obj.__str__()\n",
    "    type_gym_wrappers_atari_preprocessing_AtariPreprocessing___str__ = getattr(ret, '__module__', 'none') + '.' + ret.__class__.__name__\n",
    "    print('✅ gym.wrappers.atari_preprocessing.AtariPreprocessing.__str__: ', type(ret))\n",
    "except Exception as e:\n",
    "    type_gym_wrappers_atari_preprocessing_AtariPreprocessing___str__ = '_syft_missing'\n",
    "    print('❌ gym.wrappers.atari_preprocessing.AtariPreprocessing.__str__: Return unavailable')\n",
    "    print(\"  Please fix this return type code until there is no exception\")\n",
    "    print('  Error:', e)\n"
   ]
  },
  {
   "cell_type": "code",
   "execution_count": null,
   "id": "21135a11",
   "metadata": {},
   "outputs": [],
   "source": [
    "# gym.wrappers.atari_preprocessing.AtariPreprocessing._get_obs\n",
    "try:\n",
    "    obj = class_constructor()\n",
    "    ret = obj._get_obs()\n",
    "    type_gym_wrappers_atari_preprocessing_AtariPreprocessing__get_obs = getattr(ret, '__module__', 'none') + '.' + ret.__class__.__name__\n",
    "    print('✅ gym.wrappers.atari_preprocessing.AtariPreprocessing._get_obs: ', type(ret))\n",
    "except Exception as e:\n",
    "    type_gym_wrappers_atari_preprocessing_AtariPreprocessing__get_obs = '_syft_missing'\n",
    "    print('❌ gym.wrappers.atari_preprocessing.AtariPreprocessing._get_obs: Return unavailable')\n",
    "    print(\"  Please fix this return type code until there is no exception\")\n",
    "    print('  Error:', e)\n"
   ]
  },
  {
   "cell_type": "code",
   "execution_count": null,
   "id": "63fd142e",
   "metadata": {},
   "outputs": [],
   "source": [
    "# gym.wrappers.atari_preprocessing.AtariPreprocessing.class_name\n",
    "try:\n",
    "    obj = class_constructor()\n",
    "    ret = obj.class_name()\n",
    "    type_gym_wrappers_atari_preprocessing_AtariPreprocessing_class_name = getattr(ret, '__module__', 'none') + '.' + ret.__class__.__name__\n",
    "    print('✅ gym.wrappers.atari_preprocessing.AtariPreprocessing.class_name: ', type(ret))\n",
    "except Exception as e:\n",
    "    type_gym_wrappers_atari_preprocessing_AtariPreprocessing_class_name = '_syft_missing'\n",
    "    print('❌ gym.wrappers.atari_preprocessing.AtariPreprocessing.class_name: Return unavailable')\n",
    "    print(\"  Please fix this return type code until there is no exception\")\n",
    "    print('  Error:', e)\n"
   ]
  },
  {
   "cell_type": "code",
   "execution_count": null,
   "id": "dde06449",
   "metadata": {},
   "outputs": [],
   "source": [
    "# gym.wrappers.atari_preprocessing.AtariPreprocessing.close\n",
    "try:\n",
    "    obj = class_constructor()\n",
    "    ret = obj.close()\n",
    "    type_gym_wrappers_atari_preprocessing_AtariPreprocessing_close = getattr(ret, '__module__', 'none') + '.' + ret.__class__.__name__\n",
    "    print('✅ gym.wrappers.atari_preprocessing.AtariPreprocessing.close: ', type(ret))\n",
    "except Exception as e:\n",
    "    type_gym_wrappers_atari_preprocessing_AtariPreprocessing_close = '_syft_missing'\n",
    "    print('❌ gym.wrappers.atari_preprocessing.AtariPreprocessing.close: Return unavailable')\n",
    "    print(\"  Please fix this return type code until there is no exception\")\n",
    "    print('  Error:', e)\n"
   ]
  },
  {
   "cell_type": "code",
   "execution_count": null,
   "id": "a7718776",
   "metadata": {},
   "outputs": [],
   "source": [
    "# gym.wrappers.atari_preprocessing.AtariPreprocessing.compute_reward\n",
    "try:\n",
    "    obj = class_constructor()\n",
    "    ret = obj.compute_reward()\n",
    "    type_gym_wrappers_atari_preprocessing_AtariPreprocessing_compute_reward = getattr(ret, '__module__', 'none') + '.' + ret.__class__.__name__\n",
    "    print('✅ gym.wrappers.atari_preprocessing.AtariPreprocessing.compute_reward: ', type(ret))\n",
    "except Exception as e:\n",
    "    type_gym_wrappers_atari_preprocessing_AtariPreprocessing_compute_reward = '_syft_missing'\n",
    "    print('❌ gym.wrappers.atari_preprocessing.AtariPreprocessing.compute_reward: Return unavailable')\n",
    "    print(\"  Please fix this return type code until there is no exception\")\n",
    "    print('  Error:', e)\n"
   ]
  },
  {
   "cell_type": "code",
   "execution_count": null,
   "id": "a1e2446d",
   "metadata": {},
   "outputs": [],
   "source": [
    "# gym.wrappers.atari_preprocessing.AtariPreprocessing.render\n",
    "try:\n",
    "    obj = class_constructor()\n",
    "    ret = obj.render()\n",
    "    type_gym_wrappers_atari_preprocessing_AtariPreprocessing_render = getattr(ret, '__module__', 'none') + '.' + ret.__class__.__name__\n",
    "    print('✅ gym.wrappers.atari_preprocessing.AtariPreprocessing.render: ', type(ret))\n",
    "except Exception as e:\n",
    "    type_gym_wrappers_atari_preprocessing_AtariPreprocessing_render = '_syft_missing'\n",
    "    print('❌ gym.wrappers.atari_preprocessing.AtariPreprocessing.render: Return unavailable')\n",
    "    print(\"  Please fix this return type code until there is no exception\")\n",
    "    print('  Error:', e)\n"
   ]
  },
  {
   "cell_type": "code",
   "execution_count": null,
   "id": "e12c5522",
   "metadata": {},
   "outputs": [],
   "source": [
    "# gym.wrappers.atari_preprocessing.AtariPreprocessing.reset\n",
    "try:\n",
    "    obj = class_constructor()\n",
    "    ret = obj.reset()\n",
    "    type_gym_wrappers_atari_preprocessing_AtariPreprocessing_reset = getattr(ret, '__module__', 'none') + '.' + ret.__class__.__name__\n",
    "    print('✅ gym.wrappers.atari_preprocessing.AtariPreprocessing.reset: ', type(ret))\n",
    "except Exception as e:\n",
    "    type_gym_wrappers_atari_preprocessing_AtariPreprocessing_reset = '_syft_missing'\n",
    "    print('❌ gym.wrappers.atari_preprocessing.AtariPreprocessing.reset: Return unavailable')\n",
    "    print(\"  Please fix this return type code until there is no exception\")\n",
    "    print('  Error:', e)\n"
   ]
  },
  {
   "cell_type": "code",
   "execution_count": null,
   "id": "35cbe9fa",
   "metadata": {},
   "outputs": [],
   "source": [
    "# gym.wrappers.atari_preprocessing.AtariPreprocessing.seed\n",
    "try:\n",
    "    obj = class_constructor()\n",
    "    ret = obj.seed()\n",
    "    type_gym_wrappers_atari_preprocessing_AtariPreprocessing_seed = getattr(ret, '__module__', 'none') + '.' + ret.__class__.__name__\n",
    "    print('✅ gym.wrappers.atari_preprocessing.AtariPreprocessing.seed: ', type(ret))\n",
    "except Exception as e:\n",
    "    type_gym_wrappers_atari_preprocessing_AtariPreprocessing_seed = '_syft_missing'\n",
    "    print('❌ gym.wrappers.atari_preprocessing.AtariPreprocessing.seed: Return unavailable')\n",
    "    print(\"  Please fix this return type code until there is no exception\")\n",
    "    print('  Error:', e)\n"
   ]
  },
  {
   "cell_type": "code",
   "execution_count": null,
   "id": "6aeb09c0",
   "metadata": {},
   "outputs": [],
   "source": [
    "# gym.wrappers.atari_preprocessing.AtariPreprocessing.spec\n",
    "try:\n",
    "    obj = class_constructor()\n",
    "    ret = obj.spec\n",
    "    type_gym_wrappers_atari_preprocessing_AtariPreprocessing_spec = getattr(ret, '__module__', 'none') + '.' + ret.__class__.__name__\n",
    "    print('✅ gym.wrappers.atari_preprocessing.AtariPreprocessing.spec:', type(ret))\n",
    "except Exception as e:\n",
    "    type_gym_wrappers_atari_preprocessing_AtariPreprocessing_spec = '_syft_missing'\n",
    "    print('❌ gym.wrappers.atari_preprocessing.AtariPreprocessing.spec: Return unavailable')\n",
    "    print(\"  Please fix this return type code until there is no exception\")\n",
    "    print('  Error:', e)\n"
   ]
  },
  {
   "cell_type": "code",
   "execution_count": null,
   "id": "2579026f",
   "metadata": {},
   "outputs": [],
   "source": [
    "# gym.wrappers.atari_preprocessing.AtariPreprocessing.step\n",
    "try:\n",
    "    obj = class_constructor()\n",
    "    ret = obj.step()\n",
    "    type_gym_wrappers_atari_preprocessing_AtariPreprocessing_step = getattr(ret, '__module__', 'none') + '.' + ret.__class__.__name__\n",
    "    print('✅ gym.wrappers.atari_preprocessing.AtariPreprocessing.step: ', type(ret))\n",
    "except Exception as e:\n",
    "    type_gym_wrappers_atari_preprocessing_AtariPreprocessing_step = '_syft_missing'\n",
    "    print('❌ gym.wrappers.atari_preprocessing.AtariPreprocessing.step: Return unavailable')\n",
    "    print(\"  Please fix this return type code until there is no exception\")\n",
    "    print('  Error:', e)\n"
   ]
  },
  {
   "cell_type": "code",
   "execution_count": null,
   "id": "761da09b",
   "metadata": {},
   "outputs": [],
   "source": [
    "# gym.wrappers.atari_preprocessing.AtariPreprocessing.unwrapped\n",
    "try:\n",
    "    obj = class_constructor()\n",
    "    ret = obj.unwrapped\n",
    "    type_gym_wrappers_atari_preprocessing_AtariPreprocessing_unwrapped = getattr(ret, '__module__', 'none') + '.' + ret.__class__.__name__\n",
    "    print('✅ gym.wrappers.atari_preprocessing.AtariPreprocessing.unwrapped:', type(ret))\n",
    "except Exception as e:\n",
    "    type_gym_wrappers_atari_preprocessing_AtariPreprocessing_unwrapped = '_syft_missing'\n",
    "    print('❌ gym.wrappers.atari_preprocessing.AtariPreprocessing.unwrapped: Return unavailable')\n",
    "    print(\"  Please fix this return type code until there is no exception\")\n",
    "    print('  Error:', e)\n"
   ]
  }
 ],
 "metadata": {},
 "nbformat": 4,
 "nbformat_minor": 5
}
{
 "cells": [
  {
   "cell_type": "markdown",
   "id": "2997a4eb",
   "metadata": {},
   "source": [
    "## gym.wrappers.frame_stack.LazyFrames"
   ]
  },
  {
   "cell_type": "code",
   "execution_count": null,
   "id": "79d89fe2",
   "metadata": {},
   "outputs": [],
   "source": [
    "import gym\n",
    "def class_constructor(*args, **kwargs):\n",
    "    obj = gym.wrappers.frame_stack.LazyFrames()\n",
    "    return obj\n"
   ]
  },
  {
   "cell_type": "code",
   "execution_count": null,
   "id": "dc971d55",
   "metadata": {},
   "outputs": [],
   "source": [
    "# gym.wrappers.frame_stack.LazyFrames.__array__\n",
    "try:\n",
    "    obj = class_constructor()\n",
    "    ret = obj.__array__()\n",
    "    type_gym_wrappers_frame_stack_LazyFrames___array__ = getattr(ret, '__module__', 'none') + '.' + ret.__class__.__name__\n",
    "    print('✅ gym.wrappers.frame_stack.LazyFrames.__array__: ', type(ret))\n",
    "except Exception as e:\n",
    "    type_gym_wrappers_frame_stack_LazyFrames___array__ = '_syft_missing'\n",
    "    print('❌ gym.wrappers.frame_stack.LazyFrames.__array__: Return unavailable')\n",
    "    print(\"  Please fix this return type code until there is no exception\")\n",
    "    print('  Error:', e)\n"
   ]
  },
  {
   "cell_type": "code",
   "execution_count": null,
   "id": "5962efc7",
   "metadata": {},
   "outputs": [],
   "source": [
    "# gym.wrappers.frame_stack.LazyFrames.__eq__\n",
    "try:\n",
    "    obj = class_constructor()\n",
    "    ret = obj.__eq__()\n",
    "    type_gym_wrappers_frame_stack_LazyFrames___eq__ = getattr(ret, '__module__', 'none') + '.' + ret.__class__.__name__\n",
    "    print('✅ gym.wrappers.frame_stack.LazyFrames.__eq__: ', type(ret))\n",
    "except Exception as e:\n",
    "    type_gym_wrappers_frame_stack_LazyFrames___eq__ = '_syft_missing'\n",
    "    print('❌ gym.wrappers.frame_stack.LazyFrames.__eq__: Return unavailable')\n",
    "    print(\"  Please fix this return type code until there is no exception\")\n",
    "    print('  Error:', e)\n"
   ]
  },
  {
   "cell_type": "code",
   "execution_count": null,
   "id": "aebd23f0",
   "metadata": {},
   "outputs": [],
   "source": [
    "# gym.wrappers.frame_stack.LazyFrames.__getitem__\n",
    "try:\n",
    "    obj = class_constructor()\n",
    "    ret = obj.__getitem__()\n",
    "    type_gym_wrappers_frame_stack_LazyFrames___getitem__ = getattr(ret, '__module__', 'none') + '.' + ret.__class__.__name__\n",
    "    print('✅ gym.wrappers.frame_stack.LazyFrames.__getitem__: ', type(ret))\n",
    "except Exception as e:\n",
    "    type_gym_wrappers_frame_stack_LazyFrames___getitem__ = '_syft_missing'\n",
    "    print('❌ gym.wrappers.frame_stack.LazyFrames.__getitem__: Return unavailable')\n",
    "    print(\"  Please fix this return type code until there is no exception\")\n",
    "    print('  Error:', e)\n"
   ]
  },
  {
   "cell_type": "code",
   "execution_count": null,
   "id": "af1ccc8d",
   "metadata": {},
   "outputs": [],
   "source": [
    "# gym.wrappers.frame_stack.LazyFrames.__len__\n",
    "try:\n",
    "    obj = class_constructor()\n",
    "    ret = obj.__len__()\n",
    "    type_gym_wrappers_frame_stack_LazyFrames___len__ = getattr(ret, '__module__', 'none') + '.' + ret.__class__.__name__\n",
    "    print('✅ gym.wrappers.frame_stack.LazyFrames.__len__: ', type(ret))\n",
    "except Exception as e:\n",
    "    type_gym_wrappers_frame_stack_LazyFrames___len__ = '_syft_missing'\n",
    "    print('❌ gym.wrappers.frame_stack.LazyFrames.__len__: Return unavailable')\n",
    "    print(\"  Please fix this return type code until there is no exception\")\n",
    "    print('  Error:', e)\n"
   ]
  },
  {
   "cell_type": "code",
   "execution_count": null,
   "id": "1ea5540c",
   "metadata": {},
   "outputs": [],
   "source": [
    "# gym.wrappers.frame_stack.LazyFrames._check_decompress\n",
    "try:\n",
    "    obj = class_constructor()\n",
    "    ret = obj._check_decompress()\n",
    "    type_gym_wrappers_frame_stack_LazyFrames__check_decompress = getattr(ret, '__module__', 'none') + '.' + ret.__class__.__name__\n",
    "    print('✅ gym.wrappers.frame_stack.LazyFrames._check_decompress: ', type(ret))\n",
    "except Exception as e:\n",
    "    type_gym_wrappers_frame_stack_LazyFrames__check_decompress = '_syft_missing'\n",
    "    print('❌ gym.wrappers.frame_stack.LazyFrames._check_decompress: Return unavailable')\n",
    "    print(\"  Please fix this return type code until there is no exception\")\n",
    "    print('  Error:', e)\n"
   ]
  }
 ],
 "metadata": {},
 "nbformat": 4,
 "nbformat_minor": 5
}
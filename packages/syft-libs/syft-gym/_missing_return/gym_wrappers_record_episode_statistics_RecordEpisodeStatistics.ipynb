{
 "cells": [
  {
   "cell_type": "markdown",
   "id": "ea309edd",
   "metadata": {},
   "source": [
    "## gym.wrappers.record_episode_statistics.RecordEpisodeStatistics"
   ]
  },
  {
   "cell_type": "code",
   "execution_count": null,
   "id": "a2754a40",
   "metadata": {},
   "outputs": [],
   "source": [
    "import gym\n",
    "def class_constructor(*args, **kwargs):\n",
    "    obj = gym.wrappers.record_episode_statistics.RecordEpisodeStatistics()\n",
    "    return obj\n"
   ]
  },
  {
   "cell_type": "code",
   "execution_count": null,
   "id": "5daebb58",
   "metadata": {},
   "outputs": [],
   "source": [
    "# gym.wrappers.record_episode_statistics.RecordEpisodeStatistics.__enter__\n",
    "try:\n",
    "    obj = class_constructor()\n",
    "    ret = obj.__enter__()\n",
    "    type_gym_wrappers_record_episode_statistics_RecordEpisodeStatistics___enter__ = getattr(ret, '__module__', 'none') + '.' + ret.__class__.__name__\n",
    "    print('✅ gym.wrappers.record_episode_statistics.RecordEpisodeStatistics.__enter__: ', type(ret))\n",
    "except Exception as e:\n",
    "    type_gym_wrappers_record_episode_statistics_RecordEpisodeStatistics___enter__ = '_syft_missing'\n",
    "    print('❌ gym.wrappers.record_episode_statistics.RecordEpisodeStatistics.__enter__: Return unavailable')\n",
    "    print(\"  Please fix this return type code until there is no exception\")\n",
    "    print('  Error:', e)\n"
   ]
  },
  {
   "cell_type": "code",
   "execution_count": null,
   "id": "10929916",
   "metadata": {},
   "outputs": [],
   "source": [
    "# gym.wrappers.record_episode_statistics.RecordEpisodeStatistics.__exit__\n",
    "try:\n",
    "    obj = class_constructor()\n",
    "    ret = obj.__exit__()\n",
    "    type_gym_wrappers_record_episode_statistics_RecordEpisodeStatistics___exit__ = getattr(ret, '__module__', 'none') + '.' + ret.__class__.__name__\n",
    "    print('✅ gym.wrappers.record_episode_statistics.RecordEpisodeStatistics.__exit__: ', type(ret))\n",
    "except Exception as e:\n",
    "    type_gym_wrappers_record_episode_statistics_RecordEpisodeStatistics___exit__ = '_syft_missing'\n",
    "    print('❌ gym.wrappers.record_episode_statistics.RecordEpisodeStatistics.__exit__: Return unavailable')\n",
    "    print(\"  Please fix this return type code until there is no exception\")\n",
    "    print('  Error:', e)\n"
   ]
  },
  {
   "cell_type": "code",
   "execution_count": null,
   "id": "9ace06d4",
   "metadata": {},
   "outputs": [],
   "source": [
    "# gym.wrappers.record_episode_statistics.RecordEpisodeStatistics.__getattr__\n",
    "try:\n",
    "    obj = class_constructor()\n",
    "    ret = obj.__getattr__()\n",
    "    type_gym_wrappers_record_episode_statistics_RecordEpisodeStatistics___getattr__ = getattr(ret, '__module__', 'none') + '.' + ret.__class__.__name__\n",
    "    print('✅ gym.wrappers.record_episode_statistics.RecordEpisodeStatistics.__getattr__: ', type(ret))\n",
    "except Exception as e:\n",
    "    type_gym_wrappers_record_episode_statistics_RecordEpisodeStatistics___getattr__ = '_syft_missing'\n",
    "    print('❌ gym.wrappers.record_episode_statistics.RecordEpisodeStatistics.__getattr__: Return unavailable')\n",
    "    print(\"  Please fix this return type code until there is no exception\")\n",
    "    print('  Error:', e)\n"
   ]
  },
  {
   "cell_type": "code",
   "execution_count": null,
   "id": "65818cd6",
   "metadata": {},
   "outputs": [],
   "source": [
    "# gym.wrappers.record_episode_statistics.RecordEpisodeStatistics.__repr__\n",
    "try:\n",
    "    obj = class_constructor()\n",
    "    ret = obj.__repr__()\n",
    "    type_gym_wrappers_record_episode_statistics_RecordEpisodeStatistics___repr__ = getattr(ret, '__module__', 'none') + '.' + ret.__class__.__name__\n",
    "    print('✅ gym.wrappers.record_episode_statistics.RecordEpisodeStatistics.__repr__: ', type(ret))\n",
    "except Exception as e:\n",
    "    type_gym_wrappers_record_episode_statistics_RecordEpisodeStatistics___repr__ = '_syft_missing'\n",
    "    print('❌ gym.wrappers.record_episode_statistics.RecordEpisodeStatistics.__repr__: Return unavailable')\n",
    "    print(\"  Please fix this return type code until there is no exception\")\n",
    "    print('  Error:', e)\n"
   ]
  },
  {
   "cell_type": "code",
   "execution_count": null,
   "id": "efb77210",
   "metadata": {},
   "outputs": [],
   "source": [
    "# gym.wrappers.record_episode_statistics.RecordEpisodeStatistics.__str__\n",
    "try:\n",
    "    obj = class_constructor()\n",
    "    ret = obj.__str__()\n",
    "    type_gym_wrappers_record_episode_statistics_RecordEpisodeStatistics___str__ = getattr(ret, '__module__', 'none') + '.' + ret.__class__.__name__\n",
    "    print('✅ gym.wrappers.record_episode_statistics.RecordEpisodeStatistics.__str__: ', type(ret))\n",
    "except Exception as e:\n",
    "    type_gym_wrappers_record_episode_statistics_RecordEpisodeStatistics___str__ = '_syft_missing'\n",
    "    print('❌ gym.wrappers.record_episode_statistics.RecordEpisodeStatistics.__str__: Return unavailable')\n",
    "    print(\"  Please fix this return type code until there is no exception\")\n",
    "    print('  Error:', e)\n"
   ]
  },
  {
   "cell_type": "code",
   "execution_count": null,
   "id": "6efdc125",
   "metadata": {},
   "outputs": [],
   "source": [
    "# gym.wrappers.record_episode_statistics.RecordEpisodeStatistics.class_name\n",
    "try:\n",
    "    obj = class_constructor()\n",
    "    ret = obj.class_name()\n",
    "    type_gym_wrappers_record_episode_statistics_RecordEpisodeStatistics_class_name = getattr(ret, '__module__', 'none') + '.' + ret.__class__.__name__\n",
    "    print('✅ gym.wrappers.record_episode_statistics.RecordEpisodeStatistics.class_name: ', type(ret))\n",
    "except Exception as e:\n",
    "    type_gym_wrappers_record_episode_statistics_RecordEpisodeStatistics_class_name = '_syft_missing'\n",
    "    print('❌ gym.wrappers.record_episode_statistics.RecordEpisodeStatistics.class_name: Return unavailable')\n",
    "    print(\"  Please fix this return type code until there is no exception\")\n",
    "    print('  Error:', e)\n"
   ]
  },
  {
   "cell_type": "code",
   "execution_count": null,
   "id": "10b3af8e",
   "metadata": {},
   "outputs": [],
   "source": [
    "# gym.wrappers.record_episode_statistics.RecordEpisodeStatistics.close\n",
    "try:\n",
    "    obj = class_constructor()\n",
    "    ret = obj.close()\n",
    "    type_gym_wrappers_record_episode_statistics_RecordEpisodeStatistics_close = getattr(ret, '__module__', 'none') + '.' + ret.__class__.__name__\n",
    "    print('✅ gym.wrappers.record_episode_statistics.RecordEpisodeStatistics.close: ', type(ret))\n",
    "except Exception as e:\n",
    "    type_gym_wrappers_record_episode_statistics_RecordEpisodeStatistics_close = '_syft_missing'\n",
    "    print('❌ gym.wrappers.record_episode_statistics.RecordEpisodeStatistics.close: Return unavailable')\n",
    "    print(\"  Please fix this return type code until there is no exception\")\n",
    "    print('  Error:', e)\n"
   ]
  },
  {
   "cell_type": "code",
   "execution_count": null,
   "id": "89caa5f4",
   "metadata": {},
   "outputs": [],
   "source": [
    "# gym.wrappers.record_episode_statistics.RecordEpisodeStatistics.compute_reward\n",
    "try:\n",
    "    obj = class_constructor()\n",
    "    ret = obj.compute_reward()\n",
    "    type_gym_wrappers_record_episode_statistics_RecordEpisodeStatistics_compute_reward = getattr(ret, '__module__', 'none') + '.' + ret.__class__.__name__\n",
    "    print('✅ gym.wrappers.record_episode_statistics.RecordEpisodeStatistics.compute_reward: ', type(ret))\n",
    "except Exception as e:\n",
    "    type_gym_wrappers_record_episode_statistics_RecordEpisodeStatistics_compute_reward = '_syft_missing'\n",
    "    print('❌ gym.wrappers.record_episode_statistics.RecordEpisodeStatistics.compute_reward: Return unavailable')\n",
    "    print(\"  Please fix this return type code until there is no exception\")\n",
    "    print('  Error:', e)\n"
   ]
  },
  {
   "cell_type": "code",
   "execution_count": null,
   "id": "9f286581",
   "metadata": {},
   "outputs": [],
   "source": [
    "# gym.wrappers.record_episode_statistics.RecordEpisodeStatistics.render\n",
    "try:\n",
    "    obj = class_constructor()\n",
    "    ret = obj.render()\n",
    "    type_gym_wrappers_record_episode_statistics_RecordEpisodeStatistics_render = getattr(ret, '__module__', 'none') + '.' + ret.__class__.__name__\n",
    "    print('✅ gym.wrappers.record_episode_statistics.RecordEpisodeStatistics.render: ', type(ret))\n",
    "except Exception as e:\n",
    "    type_gym_wrappers_record_episode_statistics_RecordEpisodeStatistics_render = '_syft_missing'\n",
    "    print('❌ gym.wrappers.record_episode_statistics.RecordEpisodeStatistics.render: Return unavailable')\n",
    "    print(\"  Please fix this return type code until there is no exception\")\n",
    "    print('  Error:', e)\n"
   ]
  },
  {
   "cell_type": "code",
   "execution_count": null,
   "id": "66f1f719",
   "metadata": {},
   "outputs": [],
   "source": [
    "# gym.wrappers.record_episode_statistics.RecordEpisodeStatistics.reset\n",
    "try:\n",
    "    obj = class_constructor()\n",
    "    ret = obj.reset()\n",
    "    type_gym_wrappers_record_episode_statistics_RecordEpisodeStatistics_reset = getattr(ret, '__module__', 'none') + '.' + ret.__class__.__name__\n",
    "    print('✅ gym.wrappers.record_episode_statistics.RecordEpisodeStatistics.reset: ', type(ret))\n",
    "except Exception as e:\n",
    "    type_gym_wrappers_record_episode_statistics_RecordEpisodeStatistics_reset = '_syft_missing'\n",
    "    print('❌ gym.wrappers.record_episode_statistics.RecordEpisodeStatistics.reset: Return unavailable')\n",
    "    print(\"  Please fix this return type code until there is no exception\")\n",
    "    print('  Error:', e)\n"
   ]
  },
  {
   "cell_type": "code",
   "execution_count": null,
   "id": "03e144db",
   "metadata": {},
   "outputs": [],
   "source": [
    "# gym.wrappers.record_episode_statistics.RecordEpisodeStatistics.seed\n",
    "try:\n",
    "    obj = class_constructor()\n",
    "    ret = obj.seed()\n",
    "    type_gym_wrappers_record_episode_statistics_RecordEpisodeStatistics_seed = getattr(ret, '__module__', 'none') + '.' + ret.__class__.__name__\n",
    "    print('✅ gym.wrappers.record_episode_statistics.RecordEpisodeStatistics.seed: ', type(ret))\n",
    "except Exception as e:\n",
    "    type_gym_wrappers_record_episode_statistics_RecordEpisodeStatistics_seed = '_syft_missing'\n",
    "    print('❌ gym.wrappers.record_episode_statistics.RecordEpisodeStatistics.seed: Return unavailable')\n",
    "    print(\"  Please fix this return type code until there is no exception\")\n",
    "    print('  Error:', e)\n"
   ]
  },
  {
   "cell_type": "code",
   "execution_count": null,
   "id": "bf2220cd",
   "metadata": {},
   "outputs": [],
   "source": [
    "# gym.wrappers.record_episode_statistics.RecordEpisodeStatistics.spec\n",
    "try:\n",
    "    obj = class_constructor()\n",
    "    ret = obj.spec\n",
    "    type_gym_wrappers_record_episode_statistics_RecordEpisodeStatistics_spec = getattr(ret, '__module__', 'none') + '.' + ret.__class__.__name__\n",
    "    print('✅ gym.wrappers.record_episode_statistics.RecordEpisodeStatistics.spec:', type(ret))\n",
    "except Exception as e:\n",
    "    type_gym_wrappers_record_episode_statistics_RecordEpisodeStatistics_spec = '_syft_missing'\n",
    "    print('❌ gym.wrappers.record_episode_statistics.RecordEpisodeStatistics.spec: Return unavailable')\n",
    "    print(\"  Please fix this return type code until there is no exception\")\n",
    "    print('  Error:', e)\n"
   ]
  },
  {
   "cell_type": "code",
   "execution_count": null,
   "id": "639a2bf1",
   "metadata": {},
   "outputs": [],
   "source": [
    "# gym.wrappers.record_episode_statistics.RecordEpisodeStatistics.step\n",
    "try:\n",
    "    obj = class_constructor()\n",
    "    ret = obj.step()\n",
    "    type_gym_wrappers_record_episode_statistics_RecordEpisodeStatistics_step = getattr(ret, '__module__', 'none') + '.' + ret.__class__.__name__\n",
    "    print('✅ gym.wrappers.record_episode_statistics.RecordEpisodeStatistics.step: ', type(ret))\n",
    "except Exception as e:\n",
    "    type_gym_wrappers_record_episode_statistics_RecordEpisodeStatistics_step = '_syft_missing'\n",
    "    print('❌ gym.wrappers.record_episode_statistics.RecordEpisodeStatistics.step: Return unavailable')\n",
    "    print(\"  Please fix this return type code until there is no exception\")\n",
    "    print('  Error:', e)\n"
   ]
  },
  {
   "cell_type": "code",
   "execution_count": null,
   "id": "39e0a1fc",
   "metadata": {},
   "outputs": [],
   "source": [
    "# gym.wrappers.record_episode_statistics.RecordEpisodeStatistics.unwrapped\n",
    "try:\n",
    "    obj = class_constructor()\n",
    "    ret = obj.unwrapped\n",
    "    type_gym_wrappers_record_episode_statistics_RecordEpisodeStatistics_unwrapped = getattr(ret, '__module__', 'none') + '.' + ret.__class__.__name__\n",
    "    print('✅ gym.wrappers.record_episode_statistics.RecordEpisodeStatistics.unwrapped:', type(ret))\n",
    "except Exception as e:\n",
    "    type_gym_wrappers_record_episode_statistics_RecordEpisodeStatistics_unwrapped = '_syft_missing'\n",
    "    print('❌ gym.wrappers.record_episode_statistics.RecordEpisodeStatistics.unwrapped: Return unavailable')\n",
    "    print(\"  Please fix this return type code until there is no exception\")\n",
    "    print('  Error:', e)\n"
   ]
  }
 ],
 "metadata": {},
 "nbformat": 4,
 "nbformat_minor": 5
}
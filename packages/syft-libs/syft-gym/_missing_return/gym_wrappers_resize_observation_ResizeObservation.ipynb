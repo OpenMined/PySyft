{
 "cells": [
  {
   "cell_type": "markdown",
   "id": "a9e47095",
   "metadata": {},
   "source": [
    "## gym.wrappers.resize_observation.ResizeObservation"
   ]
  },
  {
   "cell_type": "code",
   "execution_count": null,
   "id": "aaebc5b0",
   "metadata": {},
   "outputs": [],
   "source": [
    "import gym\n",
    "def class_constructor(*args, **kwargs):\n",
    "    obj = gym.wrappers.resize_observation.ResizeObservation()\n",
    "    return obj\n"
   ]
  },
  {
   "cell_type": "code",
   "execution_count": null,
   "id": "c38a5623",
   "metadata": {},
   "outputs": [],
   "source": [
    "# gym.wrappers.resize_observation.ResizeObservation.__enter__\n",
    "try:\n",
    "    obj = class_constructor()\n",
    "    ret = obj.__enter__()\n",
    "    type_gym_wrappers_resize_observation_ResizeObservation___enter__ = getattr(ret, '__module__', 'none') + '.' + ret.__class__.__name__\n",
    "    print('✅ gym.wrappers.resize_observation.ResizeObservation.__enter__: ', type(ret))\n",
    "except Exception as e:\n",
    "    type_gym_wrappers_resize_observation_ResizeObservation___enter__ = '_syft_missing'\n",
    "    print('❌ gym.wrappers.resize_observation.ResizeObservation.__enter__: Return unavailable')\n",
    "    print(\"  Please fix this return type code until there is no exception\")\n",
    "    print('  Error:', e)\n"
   ]
  },
  {
   "cell_type": "code",
   "execution_count": null,
   "id": "7c6e0904",
   "metadata": {},
   "outputs": [],
   "source": [
    "# gym.wrappers.resize_observation.ResizeObservation.__exit__\n",
    "try:\n",
    "    obj = class_constructor()\n",
    "    ret = obj.__exit__()\n",
    "    type_gym_wrappers_resize_observation_ResizeObservation___exit__ = getattr(ret, '__module__', 'none') + '.' + ret.__class__.__name__\n",
    "    print('✅ gym.wrappers.resize_observation.ResizeObservation.__exit__: ', type(ret))\n",
    "except Exception as e:\n",
    "    type_gym_wrappers_resize_observation_ResizeObservation___exit__ = '_syft_missing'\n",
    "    print('❌ gym.wrappers.resize_observation.ResizeObservation.__exit__: Return unavailable')\n",
    "    print(\"  Please fix this return type code until there is no exception\")\n",
    "    print('  Error:', e)\n"
   ]
  },
  {
   "cell_type": "code",
   "execution_count": null,
   "id": "b6dfa3a0",
   "metadata": {},
   "outputs": [],
   "source": [
    "# gym.wrappers.resize_observation.ResizeObservation.__getattr__\n",
    "try:\n",
    "    obj = class_constructor()\n",
    "    ret = obj.__getattr__()\n",
    "    type_gym_wrappers_resize_observation_ResizeObservation___getattr__ = getattr(ret, '__module__', 'none') + '.' + ret.__class__.__name__\n",
    "    print('✅ gym.wrappers.resize_observation.ResizeObservation.__getattr__: ', type(ret))\n",
    "except Exception as e:\n",
    "    type_gym_wrappers_resize_observation_ResizeObservation___getattr__ = '_syft_missing'\n",
    "    print('❌ gym.wrappers.resize_observation.ResizeObservation.__getattr__: Return unavailable')\n",
    "    print(\"  Please fix this return type code until there is no exception\")\n",
    "    print('  Error:', e)\n"
   ]
  },
  {
   "cell_type": "code",
   "execution_count": null,
   "id": "bc6834b9",
   "metadata": {},
   "outputs": [],
   "source": [
    "# gym.wrappers.resize_observation.ResizeObservation.__repr__\n",
    "try:\n",
    "    obj = class_constructor()\n",
    "    ret = obj.__repr__()\n",
    "    type_gym_wrappers_resize_observation_ResizeObservation___repr__ = getattr(ret, '__module__', 'none') + '.' + ret.__class__.__name__\n",
    "    print('✅ gym.wrappers.resize_observation.ResizeObservation.__repr__: ', type(ret))\n",
    "except Exception as e:\n",
    "    type_gym_wrappers_resize_observation_ResizeObservation___repr__ = '_syft_missing'\n",
    "    print('❌ gym.wrappers.resize_observation.ResizeObservation.__repr__: Return unavailable')\n",
    "    print(\"  Please fix this return type code until there is no exception\")\n",
    "    print('  Error:', e)\n"
   ]
  },
  {
   "cell_type": "code",
   "execution_count": null,
   "id": "1f716a0a",
   "metadata": {},
   "outputs": [],
   "source": [
    "# gym.wrappers.resize_observation.ResizeObservation.__str__\n",
    "try:\n",
    "    obj = class_constructor()\n",
    "    ret = obj.__str__()\n",
    "    type_gym_wrappers_resize_observation_ResizeObservation___str__ = getattr(ret, '__module__', 'none') + '.' + ret.__class__.__name__\n",
    "    print('✅ gym.wrappers.resize_observation.ResizeObservation.__str__: ', type(ret))\n",
    "except Exception as e:\n",
    "    type_gym_wrappers_resize_observation_ResizeObservation___str__ = '_syft_missing'\n",
    "    print('❌ gym.wrappers.resize_observation.ResizeObservation.__str__: Return unavailable')\n",
    "    print(\"  Please fix this return type code until there is no exception\")\n",
    "    print('  Error:', e)\n"
   ]
  },
  {
   "cell_type": "code",
   "execution_count": null,
   "id": "145eb478",
   "metadata": {},
   "outputs": [],
   "source": [
    "# gym.wrappers.resize_observation.ResizeObservation.class_name\n",
    "try:\n",
    "    obj = class_constructor()\n",
    "    ret = obj.class_name()\n",
    "    type_gym_wrappers_resize_observation_ResizeObservation_class_name = getattr(ret, '__module__', 'none') + '.' + ret.__class__.__name__\n",
    "    print('✅ gym.wrappers.resize_observation.ResizeObservation.class_name: ', type(ret))\n",
    "except Exception as e:\n",
    "    type_gym_wrappers_resize_observation_ResizeObservation_class_name = '_syft_missing'\n",
    "    print('❌ gym.wrappers.resize_observation.ResizeObservation.class_name: Return unavailable')\n",
    "    print(\"  Please fix this return type code until there is no exception\")\n",
    "    print('  Error:', e)\n"
   ]
  },
  {
   "cell_type": "code",
   "execution_count": null,
   "id": "29c16f3f",
   "metadata": {},
   "outputs": [],
   "source": [
    "# gym.wrappers.resize_observation.ResizeObservation.close\n",
    "try:\n",
    "    obj = class_constructor()\n",
    "    ret = obj.close()\n",
    "    type_gym_wrappers_resize_observation_ResizeObservation_close = getattr(ret, '__module__', 'none') + '.' + ret.__class__.__name__\n",
    "    print('✅ gym.wrappers.resize_observation.ResizeObservation.close: ', type(ret))\n",
    "except Exception as e:\n",
    "    type_gym_wrappers_resize_observation_ResizeObservation_close = '_syft_missing'\n",
    "    print('❌ gym.wrappers.resize_observation.ResizeObservation.close: Return unavailable')\n",
    "    print(\"  Please fix this return type code until there is no exception\")\n",
    "    print('  Error:', e)\n"
   ]
  },
  {
   "cell_type": "code",
   "execution_count": null,
   "id": "ae28bea4",
   "metadata": {},
   "outputs": [],
   "source": [
    "# gym.wrappers.resize_observation.ResizeObservation.compute_reward\n",
    "try:\n",
    "    obj = class_constructor()\n",
    "    ret = obj.compute_reward()\n",
    "    type_gym_wrappers_resize_observation_ResizeObservation_compute_reward = getattr(ret, '__module__', 'none') + '.' + ret.__class__.__name__\n",
    "    print('✅ gym.wrappers.resize_observation.ResizeObservation.compute_reward: ', type(ret))\n",
    "except Exception as e:\n",
    "    type_gym_wrappers_resize_observation_ResizeObservation_compute_reward = '_syft_missing'\n",
    "    print('❌ gym.wrappers.resize_observation.ResizeObservation.compute_reward: Return unavailable')\n",
    "    print(\"  Please fix this return type code until there is no exception\")\n",
    "    print('  Error:', e)\n"
   ]
  },
  {
   "cell_type": "code",
   "execution_count": null,
   "id": "2afae047",
   "metadata": {},
   "outputs": [],
   "source": [
    "# gym.wrappers.resize_observation.ResizeObservation.observation\n",
    "try:\n",
    "    obj = class_constructor()\n",
    "    ret = obj.observation()\n",
    "    type_gym_wrappers_resize_observation_ResizeObservation_observation = getattr(ret, '__module__', 'none') + '.' + ret.__class__.__name__\n",
    "    print('✅ gym.wrappers.resize_observation.ResizeObservation.observation: ', type(ret))\n",
    "except Exception as e:\n",
    "    type_gym_wrappers_resize_observation_ResizeObservation_observation = '_syft_missing'\n",
    "    print('❌ gym.wrappers.resize_observation.ResizeObservation.observation: Return unavailable')\n",
    "    print(\"  Please fix this return type code until there is no exception\")\n",
    "    print('  Error:', e)\n"
   ]
  },
  {
   "cell_type": "code",
   "execution_count": null,
   "id": "61888a88",
   "metadata": {},
   "outputs": [],
   "source": [
    "# gym.wrappers.resize_observation.ResizeObservation.render\n",
    "try:\n",
    "    obj = class_constructor()\n",
    "    ret = obj.render()\n",
    "    type_gym_wrappers_resize_observation_ResizeObservation_render = getattr(ret, '__module__', 'none') + '.' + ret.__class__.__name__\n",
    "    print('✅ gym.wrappers.resize_observation.ResizeObservation.render: ', type(ret))\n",
    "except Exception as e:\n",
    "    type_gym_wrappers_resize_observation_ResizeObservation_render = '_syft_missing'\n",
    "    print('❌ gym.wrappers.resize_observation.ResizeObservation.render: Return unavailable')\n",
    "    print(\"  Please fix this return type code until there is no exception\")\n",
    "    print('  Error:', e)\n"
   ]
  },
  {
   "cell_type": "code",
   "execution_count": null,
   "id": "ae5301a8",
   "metadata": {},
   "outputs": [],
   "source": [
    "# gym.wrappers.resize_observation.ResizeObservation.reset\n",
    "try:\n",
    "    obj = class_constructor()\n",
    "    ret = obj.reset()\n",
    "    type_gym_wrappers_resize_observation_ResizeObservation_reset = getattr(ret, '__module__', 'none') + '.' + ret.__class__.__name__\n",
    "    print('✅ gym.wrappers.resize_observation.ResizeObservation.reset: ', type(ret))\n",
    "except Exception as e:\n",
    "    type_gym_wrappers_resize_observation_ResizeObservation_reset = '_syft_missing'\n",
    "    print('❌ gym.wrappers.resize_observation.ResizeObservation.reset: Return unavailable')\n",
    "    print(\"  Please fix this return type code until there is no exception\")\n",
    "    print('  Error:', e)\n"
   ]
  },
  {
   "cell_type": "code",
   "execution_count": null,
   "id": "1624452c",
   "metadata": {},
   "outputs": [],
   "source": [
    "# gym.wrappers.resize_observation.ResizeObservation.seed\n",
    "try:\n",
    "    obj = class_constructor()\n",
    "    ret = obj.seed()\n",
    "    type_gym_wrappers_resize_observation_ResizeObservation_seed = getattr(ret, '__module__', 'none') + '.' + ret.__class__.__name__\n",
    "    print('✅ gym.wrappers.resize_observation.ResizeObservation.seed: ', type(ret))\n",
    "except Exception as e:\n",
    "    type_gym_wrappers_resize_observation_ResizeObservation_seed = '_syft_missing'\n",
    "    print('❌ gym.wrappers.resize_observation.ResizeObservation.seed: Return unavailable')\n",
    "    print(\"  Please fix this return type code until there is no exception\")\n",
    "    print('  Error:', e)\n"
   ]
  },
  {
   "cell_type": "code",
   "execution_count": null,
   "id": "695651fc",
   "metadata": {},
   "outputs": [],
   "source": [
    "# gym.wrappers.resize_observation.ResizeObservation.spec\n",
    "try:\n",
    "    obj = class_constructor()\n",
    "    ret = obj.spec\n",
    "    type_gym_wrappers_resize_observation_ResizeObservation_spec = getattr(ret, '__module__', 'none') + '.' + ret.__class__.__name__\n",
    "    print('✅ gym.wrappers.resize_observation.ResizeObservation.spec:', type(ret))\n",
    "except Exception as e:\n",
    "    type_gym_wrappers_resize_observation_ResizeObservation_spec = '_syft_missing'\n",
    "    print('❌ gym.wrappers.resize_observation.ResizeObservation.spec: Return unavailable')\n",
    "    print(\"  Please fix this return type code until there is no exception\")\n",
    "    print('  Error:', e)\n"
   ]
  },
  {
   "cell_type": "code",
   "execution_count": null,
   "id": "70d44178",
   "metadata": {},
   "outputs": [],
   "source": [
    "# gym.wrappers.resize_observation.ResizeObservation.step\n",
    "try:\n",
    "    obj = class_constructor()\n",
    "    ret = obj.step()\n",
    "    type_gym_wrappers_resize_observation_ResizeObservation_step = getattr(ret, '__module__', 'none') + '.' + ret.__class__.__name__\n",
    "    print('✅ gym.wrappers.resize_observation.ResizeObservation.step: ', type(ret))\n",
    "except Exception as e:\n",
    "    type_gym_wrappers_resize_observation_ResizeObservation_step = '_syft_missing'\n",
    "    print('❌ gym.wrappers.resize_observation.ResizeObservation.step: Return unavailable')\n",
    "    print(\"  Please fix this return type code until there is no exception\")\n",
    "    print('  Error:', e)\n"
   ]
  },
  {
   "cell_type": "code",
   "execution_count": null,
   "id": "a5429538",
   "metadata": {},
   "outputs": [],
   "source": [
    "# gym.wrappers.resize_observation.ResizeObservation.unwrapped\n",
    "try:\n",
    "    obj = class_constructor()\n",
    "    ret = obj.unwrapped\n",
    "    type_gym_wrappers_resize_observation_ResizeObservation_unwrapped = getattr(ret, '__module__', 'none') + '.' + ret.__class__.__name__\n",
    "    print('✅ gym.wrappers.resize_observation.ResizeObservation.unwrapped:', type(ret))\n",
    "except Exception as e:\n",
    "    type_gym_wrappers_resize_observation_ResizeObservation_unwrapped = '_syft_missing'\n",
    "    print('❌ gym.wrappers.resize_observation.ResizeObservation.unwrapped: Return unavailable')\n",
    "    print(\"  Please fix this return type code until there is no exception\")\n",
    "    print('  Error:', e)\n"
   ]
  }
 ],
 "metadata": {},
 "nbformat": 4,
 "nbformat_minor": 5
}
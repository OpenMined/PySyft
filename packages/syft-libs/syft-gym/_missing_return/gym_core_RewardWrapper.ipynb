{
 "cells": [
  {
   "cell_type": "markdown",
   "id": "4b70d8e8",
   "metadata": {},
   "source": [
    "## gym.core.RewardWrapper"
   ]
  },
  {
   "cell_type": "code",
   "execution_count": null,
   "id": "1a306650",
   "metadata": {},
   "outputs": [],
   "source": [
    "import gym\n",
    "def class_constructor(*args, **kwargs):\n",
    "    obj = gym.core.RewardWrapper()\n",
    "    return obj\n"
   ]
  },
  {
   "cell_type": "code",
   "execution_count": null,
   "id": "1b036a6b",
   "metadata": {},
   "outputs": [],
   "source": [
    "# gym.core.RewardWrapper.__enter__\n",
    "try:\n",
    "    obj = class_constructor()\n",
    "    ret = obj.__enter__()\n",
    "    type_gym_core_RewardWrapper___enter__ = getattr(ret, '__module__', 'none') + '.' + ret.__class__.__name__\n",
    "    print('✅ gym.core.RewardWrapper.__enter__: ', type(ret))\n",
    "except Exception as e:\n",
    "    type_gym_core_RewardWrapper___enter__ = '_syft_missing'\n",
    "    print('❌ gym.core.RewardWrapper.__enter__: Return unavailable')\n",
    "    print(\"  Please fix this return type code until there is no exception\")\n",
    "    print('  Error:', e)\n"
   ]
  },
  {
   "cell_type": "code",
   "execution_count": null,
   "id": "fe27e3cd",
   "metadata": {},
   "outputs": [],
   "source": [
    "# gym.core.RewardWrapper.__exit__\n",
    "try:\n",
    "    obj = class_constructor()\n",
    "    ret = obj.__exit__()\n",
    "    type_gym_core_RewardWrapper___exit__ = getattr(ret, '__module__', 'none') + '.' + ret.__class__.__name__\n",
    "    print('✅ gym.core.RewardWrapper.__exit__: ', type(ret))\n",
    "except Exception as e:\n",
    "    type_gym_core_RewardWrapper___exit__ = '_syft_missing'\n",
    "    print('❌ gym.core.RewardWrapper.__exit__: Return unavailable')\n",
    "    print(\"  Please fix this return type code until there is no exception\")\n",
    "    print('  Error:', e)\n"
   ]
  },
  {
   "cell_type": "code",
   "execution_count": null,
   "id": "74c1b44d",
   "metadata": {},
   "outputs": [],
   "source": [
    "# gym.core.RewardWrapper.__getattr__\n",
    "try:\n",
    "    obj = class_constructor()\n",
    "    ret = obj.__getattr__()\n",
    "    type_gym_core_RewardWrapper___getattr__ = getattr(ret, '__module__', 'none') + '.' + ret.__class__.__name__\n",
    "    print('✅ gym.core.RewardWrapper.__getattr__: ', type(ret))\n",
    "except Exception as e:\n",
    "    type_gym_core_RewardWrapper___getattr__ = '_syft_missing'\n",
    "    print('❌ gym.core.RewardWrapper.__getattr__: Return unavailable')\n",
    "    print(\"  Please fix this return type code until there is no exception\")\n",
    "    print('  Error:', e)\n"
   ]
  },
  {
   "cell_type": "code",
   "execution_count": null,
   "id": "f24801f3",
   "metadata": {},
   "outputs": [],
   "source": [
    "# gym.core.RewardWrapper.__repr__\n",
    "try:\n",
    "    obj = class_constructor()\n",
    "    ret = obj.__repr__()\n",
    "    type_gym_core_RewardWrapper___repr__ = getattr(ret, '__module__', 'none') + '.' + ret.__class__.__name__\n",
    "    print('✅ gym.core.RewardWrapper.__repr__: ', type(ret))\n",
    "except Exception as e:\n",
    "    type_gym_core_RewardWrapper___repr__ = '_syft_missing'\n",
    "    print('❌ gym.core.RewardWrapper.__repr__: Return unavailable')\n",
    "    print(\"  Please fix this return type code until there is no exception\")\n",
    "    print('  Error:', e)\n"
   ]
  },
  {
   "cell_type": "code",
   "execution_count": null,
   "id": "e6859cc1",
   "metadata": {},
   "outputs": [],
   "source": [
    "# gym.core.RewardWrapper.__str__\n",
    "try:\n",
    "    obj = class_constructor()\n",
    "    ret = obj.__str__()\n",
    "    type_gym_core_RewardWrapper___str__ = getattr(ret, '__module__', 'none') + '.' + ret.__class__.__name__\n",
    "    print('✅ gym.core.RewardWrapper.__str__: ', type(ret))\n",
    "except Exception as e:\n",
    "    type_gym_core_RewardWrapper___str__ = '_syft_missing'\n",
    "    print('❌ gym.core.RewardWrapper.__str__: Return unavailable')\n",
    "    print(\"  Please fix this return type code until there is no exception\")\n",
    "    print('  Error:', e)\n"
   ]
  },
  {
   "cell_type": "code",
   "execution_count": null,
   "id": "73ec5533",
   "metadata": {},
   "outputs": [],
   "source": [
    "# gym.core.RewardWrapper.class_name\n",
    "try:\n",
    "    obj = class_constructor()\n",
    "    ret = obj.class_name()\n",
    "    type_gym_core_RewardWrapper_class_name = getattr(ret, '__module__', 'none') + '.' + ret.__class__.__name__\n",
    "    print('✅ gym.core.RewardWrapper.class_name: ', type(ret))\n",
    "except Exception as e:\n",
    "    type_gym_core_RewardWrapper_class_name = '_syft_missing'\n",
    "    print('❌ gym.core.RewardWrapper.class_name: Return unavailable')\n",
    "    print(\"  Please fix this return type code until there is no exception\")\n",
    "    print('  Error:', e)\n"
   ]
  },
  {
   "cell_type": "code",
   "execution_count": null,
   "id": "e2459d62",
   "metadata": {},
   "outputs": [],
   "source": [
    "# gym.core.RewardWrapper.close\n",
    "try:\n",
    "    obj = class_constructor()\n",
    "    ret = obj.close()\n",
    "    type_gym_core_RewardWrapper_close = getattr(ret, '__module__', 'none') + '.' + ret.__class__.__name__\n",
    "    print('✅ gym.core.RewardWrapper.close: ', type(ret))\n",
    "except Exception as e:\n",
    "    type_gym_core_RewardWrapper_close = '_syft_missing'\n",
    "    print('❌ gym.core.RewardWrapper.close: Return unavailable')\n",
    "    print(\"  Please fix this return type code until there is no exception\")\n",
    "    print('  Error:', e)\n"
   ]
  },
  {
   "cell_type": "code",
   "execution_count": null,
   "id": "32de5289",
   "metadata": {},
   "outputs": [],
   "source": [
    "# gym.core.RewardWrapper.compute_reward\n",
    "try:\n",
    "    obj = class_constructor()\n",
    "    ret = obj.compute_reward()\n",
    "    type_gym_core_RewardWrapper_compute_reward = getattr(ret, '__module__', 'none') + '.' + ret.__class__.__name__\n",
    "    print('✅ gym.core.RewardWrapper.compute_reward: ', type(ret))\n",
    "except Exception as e:\n",
    "    type_gym_core_RewardWrapper_compute_reward = '_syft_missing'\n",
    "    print('❌ gym.core.RewardWrapper.compute_reward: Return unavailable')\n",
    "    print(\"  Please fix this return type code until there is no exception\")\n",
    "    print('  Error:', e)\n"
   ]
  },
  {
   "cell_type": "code",
   "execution_count": null,
   "id": "f3e6f220",
   "metadata": {},
   "outputs": [],
   "source": [
    "# gym.core.RewardWrapper.render\n",
    "try:\n",
    "    obj = class_constructor()\n",
    "    ret = obj.render()\n",
    "    type_gym_core_RewardWrapper_render = getattr(ret, '__module__', 'none') + '.' + ret.__class__.__name__\n",
    "    print('✅ gym.core.RewardWrapper.render: ', type(ret))\n",
    "except Exception as e:\n",
    "    type_gym_core_RewardWrapper_render = '_syft_missing'\n",
    "    print('❌ gym.core.RewardWrapper.render: Return unavailable')\n",
    "    print(\"  Please fix this return type code until there is no exception\")\n",
    "    print('  Error:', e)\n"
   ]
  },
  {
   "cell_type": "code",
   "execution_count": null,
   "id": "21638201",
   "metadata": {},
   "outputs": [],
   "source": [
    "# gym.core.RewardWrapper.reset\n",
    "try:\n",
    "    obj = class_constructor()\n",
    "    ret = obj.reset()\n",
    "    type_gym_core_RewardWrapper_reset = getattr(ret, '__module__', 'none') + '.' + ret.__class__.__name__\n",
    "    print('✅ gym.core.RewardWrapper.reset: ', type(ret))\n",
    "except Exception as e:\n",
    "    type_gym_core_RewardWrapper_reset = '_syft_missing'\n",
    "    print('❌ gym.core.RewardWrapper.reset: Return unavailable')\n",
    "    print(\"  Please fix this return type code until there is no exception\")\n",
    "    print('  Error:', e)\n"
   ]
  },
  {
   "cell_type": "code",
   "execution_count": null,
   "id": "ab532d7e",
   "metadata": {},
   "outputs": [],
   "source": [
    "# gym.core.RewardWrapper.reward\n",
    "try:\n",
    "    obj = class_constructor()\n",
    "    ret = obj.reward()\n",
    "    type_gym_core_RewardWrapper_reward = getattr(ret, '__module__', 'none') + '.' + ret.__class__.__name__\n",
    "    print('✅ gym.core.RewardWrapper.reward: ', type(ret))\n",
    "except Exception as e:\n",
    "    type_gym_core_RewardWrapper_reward = '_syft_missing'\n",
    "    print('❌ gym.core.RewardWrapper.reward: Return unavailable')\n",
    "    print(\"  Please fix this return type code until there is no exception\")\n",
    "    print('  Error:', e)\n"
   ]
  },
  {
   "cell_type": "code",
   "execution_count": null,
   "id": "93f40704",
   "metadata": {},
   "outputs": [],
   "source": [
    "# gym.core.RewardWrapper.seed\n",
    "try:\n",
    "    obj = class_constructor()\n",
    "    ret = obj.seed()\n",
    "    type_gym_core_RewardWrapper_seed = getattr(ret, '__module__', 'none') + '.' + ret.__class__.__name__\n",
    "    print('✅ gym.core.RewardWrapper.seed: ', type(ret))\n",
    "except Exception as e:\n",
    "    type_gym_core_RewardWrapper_seed = '_syft_missing'\n",
    "    print('❌ gym.core.RewardWrapper.seed: Return unavailable')\n",
    "    print(\"  Please fix this return type code until there is no exception\")\n",
    "    print('  Error:', e)\n"
   ]
  },
  {
   "cell_type": "code",
   "execution_count": null,
   "id": "a9d61cba",
   "metadata": {},
   "outputs": [],
   "source": [
    "# gym.core.RewardWrapper.spec\n",
    "try:\n",
    "    obj = class_constructor()\n",
    "    ret = obj.spec\n",
    "    type_gym_core_RewardWrapper_spec = getattr(ret, '__module__', 'none') + '.' + ret.__class__.__name__\n",
    "    print('✅ gym.core.RewardWrapper.spec:', type(ret))\n",
    "except Exception as e:\n",
    "    type_gym_core_RewardWrapper_spec = '_syft_missing'\n",
    "    print('❌ gym.core.RewardWrapper.spec: Return unavailable')\n",
    "    print(\"  Please fix this return type code until there is no exception\")\n",
    "    print('  Error:', e)\n"
   ]
  },
  {
   "cell_type": "code",
   "execution_count": null,
   "id": "84da63fd",
   "metadata": {},
   "outputs": [],
   "source": [
    "# gym.core.RewardWrapper.step\n",
    "try:\n",
    "    obj = class_constructor()\n",
    "    ret = obj.step()\n",
    "    type_gym_core_RewardWrapper_step = getattr(ret, '__module__', 'none') + '.' + ret.__class__.__name__\n",
    "    print('✅ gym.core.RewardWrapper.step: ', type(ret))\n",
    "except Exception as e:\n",
    "    type_gym_core_RewardWrapper_step = '_syft_missing'\n",
    "    print('❌ gym.core.RewardWrapper.step: Return unavailable')\n",
    "    print(\"  Please fix this return type code until there is no exception\")\n",
    "    print('  Error:', e)\n"
   ]
  },
  {
   "cell_type": "code",
   "execution_count": null,
   "id": "9a6a1df9",
   "metadata": {},
   "outputs": [],
   "source": [
    "# gym.core.RewardWrapper.unwrapped\n",
    "try:\n",
    "    obj = class_constructor()\n",
    "    ret = obj.unwrapped\n",
    "    type_gym_core_RewardWrapper_unwrapped = getattr(ret, '__module__', 'none') + '.' + ret.__class__.__name__\n",
    "    print('✅ gym.core.RewardWrapper.unwrapped:', type(ret))\n",
    "except Exception as e:\n",
    "    type_gym_core_RewardWrapper_unwrapped = '_syft_missing'\n",
    "    print('❌ gym.core.RewardWrapper.unwrapped: Return unavailable')\n",
    "    print(\"  Please fix this return type code until there is no exception\")\n",
    "    print('  Error:', e)\n"
   ]
  }
 ],
 "metadata": {},
 "nbformat": 4,
 "nbformat_minor": 5
}
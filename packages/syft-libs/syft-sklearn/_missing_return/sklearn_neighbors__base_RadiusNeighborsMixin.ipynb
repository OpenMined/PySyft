{
 "cells": [
  {
   "cell_type": "markdown",
   "id": "difficult-hacker",
   "metadata": {},
   "source": [
    "## sklearn.neighbors._base.RadiusNeighborsMixin"
   ]
  },
  {
   "cell_type": "code",
   "execution_count": null,
   "id": "communist-zambia",
   "metadata": {},
   "outputs": [],
   "source": [
    "import sklearn\n",
    "def class_constructor(*args, **kwargs):\n",
    "    obj = sklearn.neighbors._base.RadiusNeighborsMixin()\n",
    "    return obj\n"
   ]
  },
  {
   "cell_type": "code",
   "execution_count": null,
   "id": "crazy-comparison",
   "metadata": {},
   "outputs": [],
   "source": [
    "# sklearn.neighbors._base.RadiusNeighborsMixin._radius_neighbors_reduce_func\n",
    "try:\n",
    "    obj = class_constructor() # noqa F821\n",
    "    ret = obj._radius_neighbors_reduce_func()\n",
    "    type_sklearn_neighbors__base_RadiusNeighborsMixin__radius_neighbors_reduce_func = getattr(ret, '__module__', 'none') + '.' + ret.__class__.__name__\n",
    "    print('✅ sklearn.neighbors._base.RadiusNeighborsMixin._radius_neighbors_reduce_func: ', type(ret)) # noqa E501\n",
    "except Exception as e:\n",
    "    type_sklearn_neighbors__base_RadiusNeighborsMixin__radius_neighbors_reduce_func = '_syft_missing'\n",
    "    print('❌ sklearn.neighbors._base.RadiusNeighborsMixin._radius_neighbors_reduce_func: Return unavailable') # noqa E501\n",
    "    print(\"  Please fix this return type code until there is no exception\")\n",
    "    print('  Error:', e)\n"
   ]
  },
  {
   "cell_type": "code",
   "execution_count": null,
   "id": "voluntary-guard",
   "metadata": {},
   "outputs": [],
   "source": [
    "# sklearn.neighbors._base.RadiusNeighborsMixin.radius_neighbors\n",
    "try:\n",
    "    obj = class_constructor() # noqa F821\n",
    "    ret = obj.radius_neighbors()\n",
    "    type_sklearn_neighbors__base_RadiusNeighborsMixin_radius_neighbors = getattr(ret, '__module__', 'none') + '.' + ret.__class__.__name__\n",
    "    print('✅ sklearn.neighbors._base.RadiusNeighborsMixin.radius_neighbors: ', type(ret)) # noqa E501\n",
    "except Exception as e:\n",
    "    type_sklearn_neighbors__base_RadiusNeighborsMixin_radius_neighbors = '_syft_missing'\n",
    "    print('❌ sklearn.neighbors._base.RadiusNeighborsMixin.radius_neighbors: Return unavailable') # noqa E501\n",
    "    print(\"  Please fix this return type code until there is no exception\")\n",
    "    print('  Error:', e)\n"
   ]
  },
  {
   "cell_type": "code",
   "execution_count": null,
   "id": "horizontal-mailman",
   "metadata": {},
   "outputs": [],
   "source": [
    "# sklearn.neighbors._base.RadiusNeighborsMixin.radius_neighbors_graph\n",
    "try:\n",
    "    obj = class_constructor() # noqa F821\n",
    "    ret = obj.radius_neighbors_graph()\n",
    "    type_sklearn_neighbors__base_RadiusNeighborsMixin_radius_neighbors_graph = getattr(ret, '__module__', 'none') + '.' + ret.__class__.__name__\n",
    "    print('✅ sklearn.neighbors._base.RadiusNeighborsMixin.radius_neighbors_graph: ', type(ret)) # noqa E501\n",
    "except Exception as e:\n",
    "    type_sklearn_neighbors__base_RadiusNeighborsMixin_radius_neighbors_graph = '_syft_missing'\n",
    "    print('❌ sklearn.neighbors._base.RadiusNeighborsMixin.radius_neighbors_graph: Return unavailable') # noqa E501\n",
    "    print(\"  Please fix this return type code until there is no exception\")\n",
    "    print('  Error:', e)\n"
   ]
  }
 ],
 "metadata": {},
 "nbformat": 4,
 "nbformat_minor": 5
}
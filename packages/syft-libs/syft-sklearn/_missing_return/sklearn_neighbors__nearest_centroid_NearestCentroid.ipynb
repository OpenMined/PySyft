{
 "cells": [
  {
   "cell_type": "markdown",
   "id": "basic-blowing",
   "metadata": {},
   "source": [
    "## sklearn.neighbors._nearest_centroid.NearestCentroid"
   ]
  },
  {
   "cell_type": "code",
   "execution_count": null,
   "id": "respected-dealing",
   "metadata": {},
   "outputs": [],
   "source": [
    "import sklearn\n",
    "def class_constructor(*args, **kwargs):\n",
    "    obj = sklearn.neighbors._nearest_centroid.NearestCentroid()\n",
    "    return obj\n"
   ]
  },
  {
   "cell_type": "code",
   "execution_count": null,
   "id": "intended-annotation",
   "metadata": {},
   "outputs": [],
   "source": [
    "# sklearn.neighbors._nearest_centroid.NearestCentroid.__getstate__\n",
    "try:\n",
    "    obj = class_constructor() # noqa F821\n",
    "    ret = obj.__getstate__()\n",
    "    type_sklearn_neighbors__nearest_centroid_NearestCentroid___getstate__ = getattr(ret, '__module__', 'none') + '.' + ret.__class__.__name__\n",
    "    print('✅ sklearn.neighbors._nearest_centroid.NearestCentroid.__getstate__: ', type(ret)) # noqa E501\n",
    "except Exception as e:\n",
    "    type_sklearn_neighbors__nearest_centroid_NearestCentroid___getstate__ = '_syft_missing'\n",
    "    print('❌ sklearn.neighbors._nearest_centroid.NearestCentroid.__getstate__: Return unavailable') # noqa E501\n",
    "    print(\"  Please fix this return type code until there is no exception\")\n",
    "    print('  Error:', e)\n"
   ]
  },
  {
   "cell_type": "code",
   "execution_count": null,
   "id": "useful-audio",
   "metadata": {},
   "outputs": [],
   "source": [
    "# sklearn.neighbors._nearest_centroid.NearestCentroid.__repr__\n",
    "try:\n",
    "    obj = class_constructor() # noqa F821\n",
    "    ret = obj.__repr__()\n",
    "    type_sklearn_neighbors__nearest_centroid_NearestCentroid___repr__ = getattr(ret, '__module__', 'none') + '.' + ret.__class__.__name__\n",
    "    print('✅ sklearn.neighbors._nearest_centroid.NearestCentroid.__repr__: ', type(ret)) # noqa E501\n",
    "except Exception as e:\n",
    "    type_sklearn_neighbors__nearest_centroid_NearestCentroid___repr__ = '_syft_missing'\n",
    "    print('❌ sklearn.neighbors._nearest_centroid.NearestCentroid.__repr__: Return unavailable') # noqa E501\n",
    "    print(\"  Please fix this return type code until there is no exception\")\n",
    "    print('  Error:', e)\n"
   ]
  },
  {
   "cell_type": "code",
   "execution_count": null,
   "id": "effective-harassment",
   "metadata": {},
   "outputs": [],
   "source": [
    "# sklearn.neighbors._nearest_centroid.NearestCentroid.__setstate__\n",
    "try:\n",
    "    obj = class_constructor() # noqa F821\n",
    "    ret = obj.__setstate__()\n",
    "    type_sklearn_neighbors__nearest_centroid_NearestCentroid___setstate__ = getattr(ret, '__module__', 'none') + '.' + ret.__class__.__name__\n",
    "    print('✅ sklearn.neighbors._nearest_centroid.NearestCentroid.__setstate__: ', type(ret)) # noqa E501\n",
    "except Exception as e:\n",
    "    type_sklearn_neighbors__nearest_centroid_NearestCentroid___setstate__ = '_syft_missing'\n",
    "    print('❌ sklearn.neighbors._nearest_centroid.NearestCentroid.__setstate__: Return unavailable') # noqa E501\n",
    "    print(\"  Please fix this return type code until there is no exception\")\n",
    "    print('  Error:', e)\n"
   ]
  },
  {
   "cell_type": "code",
   "execution_count": null,
   "id": "dated-conversation",
   "metadata": {},
   "outputs": [],
   "source": [
    "# sklearn.neighbors._nearest_centroid.NearestCentroid._check_n_features\n",
    "try:\n",
    "    obj = class_constructor() # noqa F821\n",
    "    ret = obj._check_n_features()\n",
    "    type_sklearn_neighbors__nearest_centroid_NearestCentroid__check_n_features = getattr(ret, '__module__', 'none') + '.' + ret.__class__.__name__\n",
    "    print('✅ sklearn.neighbors._nearest_centroid.NearestCentroid._check_n_features: ', type(ret)) # noqa E501\n",
    "except Exception as e:\n",
    "    type_sklearn_neighbors__nearest_centroid_NearestCentroid__check_n_features = '_syft_missing'\n",
    "    print('❌ sklearn.neighbors._nearest_centroid.NearestCentroid._check_n_features: Return unavailable') # noqa E501\n",
    "    print(\"  Please fix this return type code until there is no exception\")\n",
    "    print('  Error:', e)\n"
   ]
  },
  {
   "cell_type": "code",
   "execution_count": null,
   "id": "registered-diploma",
   "metadata": {},
   "outputs": [],
   "source": [
    "# sklearn.neighbors._nearest_centroid.NearestCentroid._get_param_names\n",
    "try:\n",
    "    obj = class_constructor() # noqa F821\n",
    "    ret = obj._get_param_names()\n",
    "    type_sklearn_neighbors__nearest_centroid_NearestCentroid__get_param_names = getattr(ret, '__module__', 'none') + '.' + ret.__class__.__name__\n",
    "    print('✅ sklearn.neighbors._nearest_centroid.NearestCentroid._get_param_names: ', type(ret)) # noqa E501\n",
    "except Exception as e:\n",
    "    type_sklearn_neighbors__nearest_centroid_NearestCentroid__get_param_names = '_syft_missing'\n",
    "    print('❌ sklearn.neighbors._nearest_centroid.NearestCentroid._get_param_names: Return unavailable') # noqa E501\n",
    "    print(\"  Please fix this return type code until there is no exception\")\n",
    "    print('  Error:', e)\n"
   ]
  },
  {
   "cell_type": "code",
   "execution_count": null,
   "id": "collective-preservation",
   "metadata": {},
   "outputs": [],
   "source": [
    "# sklearn.neighbors._nearest_centroid.NearestCentroid._get_tags\n",
    "try:\n",
    "    obj = class_constructor() # noqa F821\n",
    "    ret = obj._get_tags()\n",
    "    type_sklearn_neighbors__nearest_centroid_NearestCentroid__get_tags = getattr(ret, '__module__', 'none') + '.' + ret.__class__.__name__\n",
    "    print('✅ sklearn.neighbors._nearest_centroid.NearestCentroid._get_tags: ', type(ret)) # noqa E501\n",
    "except Exception as e:\n",
    "    type_sklearn_neighbors__nearest_centroid_NearestCentroid__get_tags = '_syft_missing'\n",
    "    print('❌ sklearn.neighbors._nearest_centroid.NearestCentroid._get_tags: Return unavailable') # noqa E501\n",
    "    print(\"  Please fix this return type code until there is no exception\")\n",
    "    print('  Error:', e)\n"
   ]
  },
  {
   "cell_type": "code",
   "execution_count": null,
   "id": "trained-aquatic",
   "metadata": {},
   "outputs": [],
   "source": [
    "# sklearn.neighbors._nearest_centroid.NearestCentroid._more_tags\n",
    "try:\n",
    "    obj = class_constructor() # noqa F821\n",
    "    ret = obj._more_tags()\n",
    "    type_sklearn_neighbors__nearest_centroid_NearestCentroid__more_tags = getattr(ret, '__module__', 'none') + '.' + ret.__class__.__name__\n",
    "    print('✅ sklearn.neighbors._nearest_centroid.NearestCentroid._more_tags: ', type(ret)) # noqa E501\n",
    "except Exception as e:\n",
    "    type_sklearn_neighbors__nearest_centroid_NearestCentroid__more_tags = '_syft_missing'\n",
    "    print('❌ sklearn.neighbors._nearest_centroid.NearestCentroid._more_tags: Return unavailable') # noqa E501\n",
    "    print(\"  Please fix this return type code until there is no exception\")\n",
    "    print('  Error:', e)\n"
   ]
  },
  {
   "cell_type": "code",
   "execution_count": null,
   "id": "unable-township",
   "metadata": {},
   "outputs": [],
   "source": [
    "# sklearn.neighbors._nearest_centroid.NearestCentroid._repr_html_\n",
    "try:\n",
    "    obj = class_constructor()\n",
    "    ret = obj._repr_html_\n",
    "    type_sklearn_neighbors__nearest_centroid_NearestCentroid__repr_html_ = getattr(ret, '__module__', 'none') + '.' + ret.__class__.__name__\n",
    "    print('✅ sklearn.neighbors._nearest_centroid.NearestCentroid._repr_html_:', type(ret)) # noqa E501\n",
    "except Exception as e:\n",
    "    type_sklearn_neighbors__nearest_centroid_NearestCentroid__repr_html_ = '_syft_missing'\n",
    "    print('❌ sklearn.neighbors._nearest_centroid.NearestCentroid._repr_html_: Return unavailable') # noqa E501\n",
    "    print(\"  Please fix this return type code until there is no exception\")\n",
    "    print('  Error:', e)\n"
   ]
  },
  {
   "cell_type": "code",
   "execution_count": null,
   "id": "widespread-white",
   "metadata": {},
   "outputs": [],
   "source": [
    "# sklearn.neighbors._nearest_centroid.NearestCentroid._repr_html_inner\n",
    "try:\n",
    "    obj = class_constructor() # noqa F821\n",
    "    ret = obj._repr_html_inner()\n",
    "    type_sklearn_neighbors__nearest_centroid_NearestCentroid__repr_html_inner = getattr(ret, '__module__', 'none') + '.' + ret.__class__.__name__\n",
    "    print('✅ sklearn.neighbors._nearest_centroid.NearestCentroid._repr_html_inner: ', type(ret)) # noqa E501\n",
    "except Exception as e:\n",
    "    type_sklearn_neighbors__nearest_centroid_NearestCentroid__repr_html_inner = '_syft_missing'\n",
    "    print('❌ sklearn.neighbors._nearest_centroid.NearestCentroid._repr_html_inner: Return unavailable') # noqa E501\n",
    "    print(\"  Please fix this return type code until there is no exception\")\n",
    "    print('  Error:', e)\n"
   ]
  },
  {
   "cell_type": "code",
   "execution_count": null,
   "id": "bridal-evanescence",
   "metadata": {},
   "outputs": [],
   "source": [
    "# sklearn.neighbors._nearest_centroid.NearestCentroid._repr_mimebundle_\n",
    "try:\n",
    "    obj = class_constructor() # noqa F821\n",
    "    ret = obj._repr_mimebundle_()\n",
    "    type_sklearn_neighbors__nearest_centroid_NearestCentroid__repr_mimebundle_ = getattr(ret, '__module__', 'none') + '.' + ret.__class__.__name__\n",
    "    print('✅ sklearn.neighbors._nearest_centroid.NearestCentroid._repr_mimebundle_: ', type(ret)) # noqa E501\n",
    "except Exception as e:\n",
    "    type_sklearn_neighbors__nearest_centroid_NearestCentroid__repr_mimebundle_ = '_syft_missing'\n",
    "    print('❌ sklearn.neighbors._nearest_centroid.NearestCentroid._repr_mimebundle_: Return unavailable') # noqa E501\n",
    "    print(\"  Please fix this return type code until there is no exception\")\n",
    "    print('  Error:', e)\n"
   ]
  },
  {
   "cell_type": "code",
   "execution_count": null,
   "id": "extensive-armstrong",
   "metadata": {},
   "outputs": [],
   "source": [
    "# sklearn.neighbors._nearest_centroid.NearestCentroid._validate_data\n",
    "try:\n",
    "    obj = class_constructor() # noqa F821\n",
    "    ret = obj._validate_data()\n",
    "    type_sklearn_neighbors__nearest_centroid_NearestCentroid__validate_data = getattr(ret, '__module__', 'none') + '.' + ret.__class__.__name__\n",
    "    print('✅ sklearn.neighbors._nearest_centroid.NearestCentroid._validate_data: ', type(ret)) # noqa E501\n",
    "except Exception as e:\n",
    "    type_sklearn_neighbors__nearest_centroid_NearestCentroid__validate_data = '_syft_missing'\n",
    "    print('❌ sklearn.neighbors._nearest_centroid.NearestCentroid._validate_data: Return unavailable') # noqa E501\n",
    "    print(\"  Please fix this return type code until there is no exception\")\n",
    "    print('  Error:', e)\n"
   ]
  },
  {
   "cell_type": "code",
   "execution_count": null,
   "id": "metric-shirt",
   "metadata": {},
   "outputs": [],
   "source": [
    "# sklearn.neighbors._nearest_centroid.NearestCentroid.fit\n",
    "try:\n",
    "    obj = class_constructor() # noqa F821\n",
    "    ret = obj.fit()\n",
    "    type_sklearn_neighbors__nearest_centroid_NearestCentroid_fit = getattr(ret, '__module__', 'none') + '.' + ret.__class__.__name__\n",
    "    print('✅ sklearn.neighbors._nearest_centroid.NearestCentroid.fit: ', type(ret)) # noqa E501\n",
    "except Exception as e:\n",
    "    type_sklearn_neighbors__nearest_centroid_NearestCentroid_fit = '_syft_missing'\n",
    "    print('❌ sklearn.neighbors._nearest_centroid.NearestCentroid.fit: Return unavailable') # noqa E501\n",
    "    print(\"  Please fix this return type code until there is no exception\")\n",
    "    print('  Error:', e)\n"
   ]
  },
  {
   "cell_type": "code",
   "execution_count": null,
   "id": "optimum-adams",
   "metadata": {},
   "outputs": [],
   "source": [
    "# sklearn.neighbors._nearest_centroid.NearestCentroid.get_params\n",
    "try:\n",
    "    obj = class_constructor() # noqa F821\n",
    "    ret = obj.get_params()\n",
    "    type_sklearn_neighbors__nearest_centroid_NearestCentroid_get_params = getattr(ret, '__module__', 'none') + '.' + ret.__class__.__name__\n",
    "    print('✅ sklearn.neighbors._nearest_centroid.NearestCentroid.get_params: ', type(ret)) # noqa E501\n",
    "except Exception as e:\n",
    "    type_sklearn_neighbors__nearest_centroid_NearestCentroid_get_params = '_syft_missing'\n",
    "    print('❌ sklearn.neighbors._nearest_centroid.NearestCentroid.get_params: Return unavailable') # noqa E501\n",
    "    print(\"  Please fix this return type code until there is no exception\")\n",
    "    print('  Error:', e)\n"
   ]
  },
  {
   "cell_type": "code",
   "execution_count": null,
   "id": "material-steam",
   "metadata": {},
   "outputs": [],
   "source": [
    "# sklearn.neighbors._nearest_centroid.NearestCentroid.predict\n",
    "try:\n",
    "    obj = class_constructor() # noqa F821\n",
    "    ret = obj.predict()\n",
    "    type_sklearn_neighbors__nearest_centroid_NearestCentroid_predict = getattr(ret, '__module__', 'none') + '.' + ret.__class__.__name__\n",
    "    print('✅ sklearn.neighbors._nearest_centroid.NearestCentroid.predict: ', type(ret)) # noqa E501\n",
    "except Exception as e:\n",
    "    type_sklearn_neighbors__nearest_centroid_NearestCentroid_predict = '_syft_missing'\n",
    "    print('❌ sklearn.neighbors._nearest_centroid.NearestCentroid.predict: Return unavailable') # noqa E501\n",
    "    print(\"  Please fix this return type code until there is no exception\")\n",
    "    print('  Error:', e)\n"
   ]
  },
  {
   "cell_type": "code",
   "execution_count": null,
   "id": "adult-european",
   "metadata": {},
   "outputs": [],
   "source": [
    "# sklearn.neighbors._nearest_centroid.NearestCentroid.score\n",
    "try:\n",
    "    obj = class_constructor() # noqa F821\n",
    "    ret = obj.score()\n",
    "    type_sklearn_neighbors__nearest_centroid_NearestCentroid_score = getattr(ret, '__module__', 'none') + '.' + ret.__class__.__name__\n",
    "    print('✅ sklearn.neighbors._nearest_centroid.NearestCentroid.score: ', type(ret)) # noqa E501\n",
    "except Exception as e:\n",
    "    type_sklearn_neighbors__nearest_centroid_NearestCentroid_score = '_syft_missing'\n",
    "    print('❌ sklearn.neighbors._nearest_centroid.NearestCentroid.score: Return unavailable') # noqa E501\n",
    "    print(\"  Please fix this return type code until there is no exception\")\n",
    "    print('  Error:', e)\n"
   ]
  },
  {
   "cell_type": "code",
   "execution_count": null,
   "id": "electronic-remark",
   "metadata": {},
   "outputs": [],
   "source": [
    "# sklearn.neighbors._nearest_centroid.NearestCentroid.set_params\n",
    "try:\n",
    "    obj = class_constructor() # noqa F821\n",
    "    ret = obj.set_params()\n",
    "    type_sklearn_neighbors__nearest_centroid_NearestCentroid_set_params = getattr(ret, '__module__', 'none') + '.' + ret.__class__.__name__\n",
    "    print('✅ sklearn.neighbors._nearest_centroid.NearestCentroid.set_params: ', type(ret)) # noqa E501\n",
    "except Exception as e:\n",
    "    type_sklearn_neighbors__nearest_centroid_NearestCentroid_set_params = '_syft_missing'\n",
    "    print('❌ sklearn.neighbors._nearest_centroid.NearestCentroid.set_params: Return unavailable') # noqa E501\n",
    "    print(\"  Please fix this return type code until there is no exception\")\n",
    "    print('  Error:', e)\n"
   ]
  }
 ],
 "metadata": {},
 "nbformat": 4,
 "nbformat_minor": 5
}
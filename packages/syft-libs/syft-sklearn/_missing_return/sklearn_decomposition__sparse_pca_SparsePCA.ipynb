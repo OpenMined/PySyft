{
 "cells": [
  {
   "cell_type": "markdown",
   "id": "billion-harvey",
   "metadata": {},
   "source": [
    "## sklearn.decomposition._sparse_pca.SparsePCA"
   ]
  },
  {
   "cell_type": "code",
   "execution_count": null,
   "id": "hollywood-habitat",
   "metadata": {},
   "outputs": [],
   "source": [
    "import sklearn\n",
    "def class_constructor(*args, **kwargs):\n",
    "    obj = sklearn.decomposition._sparse_pca.SparsePCA()\n",
    "    return obj\n"
   ]
  },
  {
   "cell_type": "code",
   "execution_count": null,
   "id": "written-brief",
   "metadata": {},
   "outputs": [],
   "source": [
    "# sklearn.decomposition._sparse_pca.SparsePCA.__getstate__\n",
    "try:\n",
    "    obj = class_constructor() # noqa F821\n",
    "    ret = obj.__getstate__()\n",
    "    type_sklearn_decomposition__sparse_pca_SparsePCA___getstate__ = getattr(ret, '__module__', 'none') + '.' + ret.__class__.__name__\n",
    "    print('✅ sklearn.decomposition._sparse_pca.SparsePCA.__getstate__: ', type(ret)) # noqa E501\n",
    "except Exception as e:\n",
    "    type_sklearn_decomposition__sparse_pca_SparsePCA___getstate__ = '_syft_missing'\n",
    "    print('❌ sklearn.decomposition._sparse_pca.SparsePCA.__getstate__: Return unavailable') # noqa E501\n",
    "    print(\"  Please fix this return type code until there is no exception\")\n",
    "    print('  Error:', e)\n"
   ]
  },
  {
   "cell_type": "code",
   "execution_count": null,
   "id": "alert-mileage",
   "metadata": {},
   "outputs": [],
   "source": [
    "# sklearn.decomposition._sparse_pca.SparsePCA.__repr__\n",
    "try:\n",
    "    obj = class_constructor() # noqa F821\n",
    "    ret = obj.__repr__()\n",
    "    type_sklearn_decomposition__sparse_pca_SparsePCA___repr__ = getattr(ret, '__module__', 'none') + '.' + ret.__class__.__name__\n",
    "    print('✅ sklearn.decomposition._sparse_pca.SparsePCA.__repr__: ', type(ret)) # noqa E501\n",
    "except Exception as e:\n",
    "    type_sklearn_decomposition__sparse_pca_SparsePCA___repr__ = '_syft_missing'\n",
    "    print('❌ sklearn.decomposition._sparse_pca.SparsePCA.__repr__: Return unavailable') # noqa E501\n",
    "    print(\"  Please fix this return type code until there is no exception\")\n",
    "    print('  Error:', e)\n"
   ]
  },
  {
   "cell_type": "code",
   "execution_count": null,
   "id": "furnished-expression",
   "metadata": {},
   "outputs": [],
   "source": [
    "# sklearn.decomposition._sparse_pca.SparsePCA.__setstate__\n",
    "try:\n",
    "    obj = class_constructor() # noqa F821\n",
    "    ret = obj.__setstate__()\n",
    "    type_sklearn_decomposition__sparse_pca_SparsePCA___setstate__ = getattr(ret, '__module__', 'none') + '.' + ret.__class__.__name__\n",
    "    print('✅ sklearn.decomposition._sparse_pca.SparsePCA.__setstate__: ', type(ret)) # noqa E501\n",
    "except Exception as e:\n",
    "    type_sklearn_decomposition__sparse_pca_SparsePCA___setstate__ = '_syft_missing'\n",
    "    print('❌ sklearn.decomposition._sparse_pca.SparsePCA.__setstate__: Return unavailable') # noqa E501\n",
    "    print(\"  Please fix this return type code until there is no exception\")\n",
    "    print('  Error:', e)\n"
   ]
  },
  {
   "cell_type": "code",
   "execution_count": null,
   "id": "owned-thermal",
   "metadata": {},
   "outputs": [],
   "source": [
    "# sklearn.decomposition._sparse_pca.SparsePCA._check_n_features\n",
    "try:\n",
    "    obj = class_constructor() # noqa F821\n",
    "    ret = obj._check_n_features()\n",
    "    type_sklearn_decomposition__sparse_pca_SparsePCA__check_n_features = getattr(ret, '__module__', 'none') + '.' + ret.__class__.__name__\n",
    "    print('✅ sklearn.decomposition._sparse_pca.SparsePCA._check_n_features: ', type(ret)) # noqa E501\n",
    "except Exception as e:\n",
    "    type_sklearn_decomposition__sparse_pca_SparsePCA__check_n_features = '_syft_missing'\n",
    "    print('❌ sklearn.decomposition._sparse_pca.SparsePCA._check_n_features: Return unavailable') # noqa E501\n",
    "    print(\"  Please fix this return type code until there is no exception\")\n",
    "    print('  Error:', e)\n"
   ]
  },
  {
   "cell_type": "code",
   "execution_count": null,
   "id": "absolute-circumstances",
   "metadata": {},
   "outputs": [],
   "source": [
    "# sklearn.decomposition._sparse_pca.SparsePCA._get_param_names\n",
    "try:\n",
    "    obj = class_constructor() # noqa F821\n",
    "    ret = obj._get_param_names()\n",
    "    type_sklearn_decomposition__sparse_pca_SparsePCA__get_param_names = getattr(ret, '__module__', 'none') + '.' + ret.__class__.__name__\n",
    "    print('✅ sklearn.decomposition._sparse_pca.SparsePCA._get_param_names: ', type(ret)) # noqa E501\n",
    "except Exception as e:\n",
    "    type_sklearn_decomposition__sparse_pca_SparsePCA__get_param_names = '_syft_missing'\n",
    "    print('❌ sklearn.decomposition._sparse_pca.SparsePCA._get_param_names: Return unavailable') # noqa E501\n",
    "    print(\"  Please fix this return type code until there is no exception\")\n",
    "    print('  Error:', e)\n"
   ]
  },
  {
   "cell_type": "code",
   "execution_count": null,
   "id": "perceived-treat",
   "metadata": {},
   "outputs": [],
   "source": [
    "# sklearn.decomposition._sparse_pca.SparsePCA._get_tags\n",
    "try:\n",
    "    obj = class_constructor() # noqa F821\n",
    "    ret = obj._get_tags()\n",
    "    type_sklearn_decomposition__sparse_pca_SparsePCA__get_tags = getattr(ret, '__module__', 'none') + '.' + ret.__class__.__name__\n",
    "    print('✅ sklearn.decomposition._sparse_pca.SparsePCA._get_tags: ', type(ret)) # noqa E501\n",
    "except Exception as e:\n",
    "    type_sklearn_decomposition__sparse_pca_SparsePCA__get_tags = '_syft_missing'\n",
    "    print('❌ sklearn.decomposition._sparse_pca.SparsePCA._get_tags: Return unavailable') # noqa E501\n",
    "    print(\"  Please fix this return type code until there is no exception\")\n",
    "    print('  Error:', e)\n"
   ]
  },
  {
   "cell_type": "code",
   "execution_count": null,
   "id": "promising-indonesia",
   "metadata": {},
   "outputs": [],
   "source": [
    "# sklearn.decomposition._sparse_pca.SparsePCA._more_tags\n",
    "try:\n",
    "    obj = class_constructor() # noqa F821\n",
    "    ret = obj._more_tags()\n",
    "    type_sklearn_decomposition__sparse_pca_SparsePCA__more_tags = getattr(ret, '__module__', 'none') + '.' + ret.__class__.__name__\n",
    "    print('✅ sklearn.decomposition._sparse_pca.SparsePCA._more_tags: ', type(ret)) # noqa E501\n",
    "except Exception as e:\n",
    "    type_sklearn_decomposition__sparse_pca_SparsePCA__more_tags = '_syft_missing'\n",
    "    print('❌ sklearn.decomposition._sparse_pca.SparsePCA._more_tags: Return unavailable') # noqa E501\n",
    "    print(\"  Please fix this return type code until there is no exception\")\n",
    "    print('  Error:', e)\n"
   ]
  },
  {
   "cell_type": "code",
   "execution_count": null,
   "id": "valuable-wisdom",
   "metadata": {},
   "outputs": [],
   "source": [
    "# sklearn.decomposition._sparse_pca.SparsePCA._repr_html_\n",
    "try:\n",
    "    obj = class_constructor()\n",
    "    ret = obj._repr_html_\n",
    "    type_sklearn_decomposition__sparse_pca_SparsePCA__repr_html_ = getattr(ret, '__module__', 'none') + '.' + ret.__class__.__name__\n",
    "    print('✅ sklearn.decomposition._sparse_pca.SparsePCA._repr_html_:', type(ret)) # noqa E501\n",
    "except Exception as e:\n",
    "    type_sklearn_decomposition__sparse_pca_SparsePCA__repr_html_ = '_syft_missing'\n",
    "    print('❌ sklearn.decomposition._sparse_pca.SparsePCA._repr_html_: Return unavailable') # noqa E501\n",
    "    print(\"  Please fix this return type code until there is no exception\")\n",
    "    print('  Error:', e)\n"
   ]
  },
  {
   "cell_type": "code",
   "execution_count": null,
   "id": "musical-message",
   "metadata": {},
   "outputs": [],
   "source": [
    "# sklearn.decomposition._sparse_pca.SparsePCA._repr_html_inner\n",
    "try:\n",
    "    obj = class_constructor() # noqa F821\n",
    "    ret = obj._repr_html_inner()\n",
    "    type_sklearn_decomposition__sparse_pca_SparsePCA__repr_html_inner = getattr(ret, '__module__', 'none') + '.' + ret.__class__.__name__\n",
    "    print('✅ sklearn.decomposition._sparse_pca.SparsePCA._repr_html_inner: ', type(ret)) # noqa E501\n",
    "except Exception as e:\n",
    "    type_sklearn_decomposition__sparse_pca_SparsePCA__repr_html_inner = '_syft_missing'\n",
    "    print('❌ sklearn.decomposition._sparse_pca.SparsePCA._repr_html_inner: Return unavailable') # noqa E501\n",
    "    print(\"  Please fix this return type code until there is no exception\")\n",
    "    print('  Error:', e)\n"
   ]
  },
  {
   "cell_type": "code",
   "execution_count": null,
   "id": "hearing-istanbul",
   "metadata": {},
   "outputs": [],
   "source": [
    "# sklearn.decomposition._sparse_pca.SparsePCA._repr_mimebundle_\n",
    "try:\n",
    "    obj = class_constructor() # noqa F821\n",
    "    ret = obj._repr_mimebundle_()\n",
    "    type_sklearn_decomposition__sparse_pca_SparsePCA__repr_mimebundle_ = getattr(ret, '__module__', 'none') + '.' + ret.__class__.__name__\n",
    "    print('✅ sklearn.decomposition._sparse_pca.SparsePCA._repr_mimebundle_: ', type(ret)) # noqa E501\n",
    "except Exception as e:\n",
    "    type_sklearn_decomposition__sparse_pca_SparsePCA__repr_mimebundle_ = '_syft_missing'\n",
    "    print('❌ sklearn.decomposition._sparse_pca.SparsePCA._repr_mimebundle_: Return unavailable') # noqa E501\n",
    "    print(\"  Please fix this return type code until there is no exception\")\n",
    "    print('  Error:', e)\n"
   ]
  },
  {
   "cell_type": "code",
   "execution_count": null,
   "id": "mighty-creator",
   "metadata": {},
   "outputs": [],
   "source": [
    "# sklearn.decomposition._sparse_pca.SparsePCA._validate_data\n",
    "try:\n",
    "    obj = class_constructor() # noqa F821\n",
    "    ret = obj._validate_data()\n",
    "    type_sklearn_decomposition__sparse_pca_SparsePCA__validate_data = getattr(ret, '__module__', 'none') + '.' + ret.__class__.__name__\n",
    "    print('✅ sklearn.decomposition._sparse_pca.SparsePCA._validate_data: ', type(ret)) # noqa E501\n",
    "except Exception as e:\n",
    "    type_sklearn_decomposition__sparse_pca_SparsePCA__validate_data = '_syft_missing'\n",
    "    print('❌ sklearn.decomposition._sparse_pca.SparsePCA._validate_data: Return unavailable') # noqa E501\n",
    "    print(\"  Please fix this return type code until there is no exception\")\n",
    "    print('  Error:', e)\n"
   ]
  },
  {
   "cell_type": "code",
   "execution_count": null,
   "id": "caroline-chess",
   "metadata": {},
   "outputs": [],
   "source": [
    "# sklearn.decomposition._sparse_pca.SparsePCA.fit\n",
    "try:\n",
    "    obj = class_constructor() # noqa F821\n",
    "    ret = obj.fit()\n",
    "    type_sklearn_decomposition__sparse_pca_SparsePCA_fit = getattr(ret, '__module__', 'none') + '.' + ret.__class__.__name__\n",
    "    print('✅ sklearn.decomposition._sparse_pca.SparsePCA.fit: ', type(ret)) # noqa E501\n",
    "except Exception as e:\n",
    "    type_sklearn_decomposition__sparse_pca_SparsePCA_fit = '_syft_missing'\n",
    "    print('❌ sklearn.decomposition._sparse_pca.SparsePCA.fit: Return unavailable') # noqa E501\n",
    "    print(\"  Please fix this return type code until there is no exception\")\n",
    "    print('  Error:', e)\n"
   ]
  },
  {
   "cell_type": "code",
   "execution_count": null,
   "id": "intense-tiger",
   "metadata": {},
   "outputs": [],
   "source": [
    "# sklearn.decomposition._sparse_pca.SparsePCA.fit_transform\n",
    "try:\n",
    "    obj = class_constructor() # noqa F821\n",
    "    ret = obj.fit_transform()\n",
    "    type_sklearn_decomposition__sparse_pca_SparsePCA_fit_transform = getattr(ret, '__module__', 'none') + '.' + ret.__class__.__name__\n",
    "    print('✅ sklearn.decomposition._sparse_pca.SparsePCA.fit_transform: ', type(ret)) # noqa E501\n",
    "except Exception as e:\n",
    "    type_sklearn_decomposition__sparse_pca_SparsePCA_fit_transform = '_syft_missing'\n",
    "    print('❌ sklearn.decomposition._sparse_pca.SparsePCA.fit_transform: Return unavailable') # noqa E501\n",
    "    print(\"  Please fix this return type code until there is no exception\")\n",
    "    print('  Error:', e)\n"
   ]
  },
  {
   "cell_type": "code",
   "execution_count": null,
   "id": "circular-victoria",
   "metadata": {},
   "outputs": [],
   "source": [
    "# sklearn.decomposition._sparse_pca.SparsePCA.get_params\n",
    "try:\n",
    "    obj = class_constructor() # noqa F821\n",
    "    ret = obj.get_params()\n",
    "    type_sklearn_decomposition__sparse_pca_SparsePCA_get_params = getattr(ret, '__module__', 'none') + '.' + ret.__class__.__name__\n",
    "    print('✅ sklearn.decomposition._sparse_pca.SparsePCA.get_params: ', type(ret)) # noqa E501\n",
    "except Exception as e:\n",
    "    type_sklearn_decomposition__sparse_pca_SparsePCA_get_params = '_syft_missing'\n",
    "    print('❌ sklearn.decomposition._sparse_pca.SparsePCA.get_params: Return unavailable') # noqa E501\n",
    "    print(\"  Please fix this return type code until there is no exception\")\n",
    "    print('  Error:', e)\n"
   ]
  },
  {
   "cell_type": "code",
   "execution_count": null,
   "id": "listed-howard",
   "metadata": {},
   "outputs": [],
   "source": [
    "# sklearn.decomposition._sparse_pca.SparsePCA.set_params\n",
    "try:\n",
    "    obj = class_constructor() # noqa F821\n",
    "    ret = obj.set_params()\n",
    "    type_sklearn_decomposition__sparse_pca_SparsePCA_set_params = getattr(ret, '__module__', 'none') + '.' + ret.__class__.__name__\n",
    "    print('✅ sklearn.decomposition._sparse_pca.SparsePCA.set_params: ', type(ret)) # noqa E501\n",
    "except Exception as e:\n",
    "    type_sklearn_decomposition__sparse_pca_SparsePCA_set_params = '_syft_missing'\n",
    "    print('❌ sklearn.decomposition._sparse_pca.SparsePCA.set_params: Return unavailable') # noqa E501\n",
    "    print(\"  Please fix this return type code until there is no exception\")\n",
    "    print('  Error:', e)\n"
   ]
  },
  {
   "cell_type": "code",
   "execution_count": null,
   "id": "transsexual-russian",
   "metadata": {},
   "outputs": [],
   "source": [
    "# sklearn.decomposition._sparse_pca.SparsePCA.transform\n",
    "try:\n",
    "    obj = class_constructor() # noqa F821\n",
    "    ret = obj.transform()\n",
    "    type_sklearn_decomposition__sparse_pca_SparsePCA_transform = getattr(ret, '__module__', 'none') + '.' + ret.__class__.__name__\n",
    "    print('✅ sklearn.decomposition._sparse_pca.SparsePCA.transform: ', type(ret)) # noqa E501\n",
    "except Exception as e:\n",
    "    type_sklearn_decomposition__sparse_pca_SparsePCA_transform = '_syft_missing'\n",
    "    print('❌ sklearn.decomposition._sparse_pca.SparsePCA.transform: Return unavailable') # noqa E501\n",
    "    print(\"  Please fix this return type code until there is no exception\")\n",
    "    print('  Error:', e)\n"
   ]
  }
 ],
 "metadata": {},
 "nbformat": 4,
 "nbformat_minor": 5
}
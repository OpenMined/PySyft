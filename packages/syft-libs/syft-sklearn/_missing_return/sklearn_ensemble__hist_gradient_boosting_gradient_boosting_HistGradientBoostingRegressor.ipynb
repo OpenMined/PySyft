{
 "cells": [
  {
   "cell_type": "markdown",
   "id": "mounted-cooler",
   "metadata": {},
   "source": [
    "## sklearn.ensemble._hist_gradient_boosting.gradient_boosting.HistGradientBoostingRegressor"
   ]
  },
  {
   "cell_type": "code",
   "execution_count": null,
   "id": "unsigned-welcome",
   "metadata": {},
   "outputs": [],
   "source": [
    "import sklearn\n",
    "def class_constructor(*args, **kwargs):\n",
    "    obj = sklearn.ensemble._hist_gradient_boosting.gradient_boosting.HistGradientBoostingRegressor()\n",
    "    return obj\n"
   ]
  },
  {
   "cell_type": "code",
   "execution_count": null,
   "id": "incomplete-phase",
   "metadata": {},
   "outputs": [],
   "source": [
    "# sklearn.ensemble._hist_gradient_boosting.gradient_boosting.HistGradientBoostingRegressor.__getstate__\n",
    "try:\n",
    "    obj = class_constructor() # noqa F821\n",
    "    ret = obj.__getstate__()\n",
    "    type_sklearn_ensemble__hist_gradient_boosting_gradient_boosting_HistGradientBoostingRegressor___getstate__ = getattr(ret, '__module__', 'none') + '.' + ret.__class__.__name__\n",
    "    print('✅ sklearn.ensemble._hist_gradient_boosting.gradient_boosting.HistGradientBoostingRegressor.__getstate__: ', type(ret)) # noqa E501\n",
    "except Exception as e:\n",
    "    type_sklearn_ensemble__hist_gradient_boosting_gradient_boosting_HistGradientBoostingRegressor___getstate__ = '_syft_missing'\n",
    "    print('❌ sklearn.ensemble._hist_gradient_boosting.gradient_boosting.HistGradientBoostingRegressor.__getstate__: Return unavailable') # noqa E501\n",
    "    print(\"  Please fix this return type code until there is no exception\")\n",
    "    print('  Error:', e)\n"
   ]
  },
  {
   "cell_type": "code",
   "execution_count": null,
   "id": "extended-destiny",
   "metadata": {},
   "outputs": [],
   "source": [
    "# sklearn.ensemble._hist_gradient_boosting.gradient_boosting.HistGradientBoostingRegressor.__repr__\n",
    "try:\n",
    "    obj = class_constructor() # noqa F821\n",
    "    ret = obj.__repr__()\n",
    "    type_sklearn_ensemble__hist_gradient_boosting_gradient_boosting_HistGradientBoostingRegressor___repr__ = getattr(ret, '__module__', 'none') + '.' + ret.__class__.__name__\n",
    "    print('✅ sklearn.ensemble._hist_gradient_boosting.gradient_boosting.HistGradientBoostingRegressor.__repr__: ', type(ret)) # noqa E501\n",
    "except Exception as e:\n",
    "    type_sklearn_ensemble__hist_gradient_boosting_gradient_boosting_HistGradientBoostingRegressor___repr__ = '_syft_missing'\n",
    "    print('❌ sklearn.ensemble._hist_gradient_boosting.gradient_boosting.HistGradientBoostingRegressor.__repr__: Return unavailable') # noqa E501\n",
    "    print(\"  Please fix this return type code until there is no exception\")\n",
    "    print('  Error:', e)\n"
   ]
  },
  {
   "cell_type": "code",
   "execution_count": null,
   "id": "annual-coalition",
   "metadata": {},
   "outputs": [],
   "source": [
    "# sklearn.ensemble._hist_gradient_boosting.gradient_boosting.HistGradientBoostingRegressor.__setstate__\n",
    "try:\n",
    "    obj = class_constructor() # noqa F821\n",
    "    ret = obj.__setstate__()\n",
    "    type_sklearn_ensemble__hist_gradient_boosting_gradient_boosting_HistGradientBoostingRegressor___setstate__ = getattr(ret, '__module__', 'none') + '.' + ret.__class__.__name__\n",
    "    print('✅ sklearn.ensemble._hist_gradient_boosting.gradient_boosting.HistGradientBoostingRegressor.__setstate__: ', type(ret)) # noqa E501\n",
    "except Exception as e:\n",
    "    type_sklearn_ensemble__hist_gradient_boosting_gradient_boosting_HistGradientBoostingRegressor___setstate__ = '_syft_missing'\n",
    "    print('❌ sklearn.ensemble._hist_gradient_boosting.gradient_boosting.HistGradientBoostingRegressor.__setstate__: Return unavailable') # noqa E501\n",
    "    print(\"  Please fix this return type code until there is no exception\")\n",
    "    print('  Error:', e)\n"
   ]
  },
  {
   "cell_type": "code",
   "execution_count": null,
   "id": "european-lighting",
   "metadata": {},
   "outputs": [],
   "source": [
    "# sklearn.ensemble._hist_gradient_boosting.gradient_boosting.HistGradientBoostingRegressor._bin_data\n",
    "try:\n",
    "    obj = class_constructor() # noqa F821\n",
    "    ret = obj._bin_data()\n",
    "    type_sklearn_ensemble__hist_gradient_boosting_gradient_boosting_HistGradientBoostingRegressor__bin_data = getattr(ret, '__module__', 'none') + '.' + ret.__class__.__name__\n",
    "    print('✅ sklearn.ensemble._hist_gradient_boosting.gradient_boosting.HistGradientBoostingRegressor._bin_data: ', type(ret)) # noqa E501\n",
    "except Exception as e:\n",
    "    type_sklearn_ensemble__hist_gradient_boosting_gradient_boosting_HistGradientBoostingRegressor__bin_data = '_syft_missing'\n",
    "    print('❌ sklearn.ensemble._hist_gradient_boosting.gradient_boosting.HistGradientBoostingRegressor._bin_data: Return unavailable') # noqa E501\n",
    "    print(\"  Please fix this return type code until there is no exception\")\n",
    "    print('  Error:', e)\n"
   ]
  },
  {
   "cell_type": "code",
   "execution_count": null,
   "id": "authentic-parameter",
   "metadata": {},
   "outputs": [],
   "source": [
    "# sklearn.ensemble._hist_gradient_boosting.gradient_boosting.HistGradientBoostingRegressor._check_categories\n",
    "try:\n",
    "    obj = class_constructor() # noqa F821\n",
    "    ret = obj._check_categories()\n",
    "    type_sklearn_ensemble__hist_gradient_boosting_gradient_boosting_HistGradientBoostingRegressor__check_categories = getattr(ret, '__module__', 'none') + '.' + ret.__class__.__name__\n",
    "    print('✅ sklearn.ensemble._hist_gradient_boosting.gradient_boosting.HistGradientBoostingRegressor._check_categories: ', type(ret)) # noqa E501\n",
    "except Exception as e:\n",
    "    type_sklearn_ensemble__hist_gradient_boosting_gradient_boosting_HistGradientBoostingRegressor__check_categories = '_syft_missing'\n",
    "    print('❌ sklearn.ensemble._hist_gradient_boosting.gradient_boosting.HistGradientBoostingRegressor._check_categories: Return unavailable') # noqa E501\n",
    "    print(\"  Please fix this return type code until there is no exception\")\n",
    "    print('  Error:', e)\n"
   ]
  },
  {
   "cell_type": "code",
   "execution_count": null,
   "id": "undefined-relevance",
   "metadata": {},
   "outputs": [],
   "source": [
    "# sklearn.ensemble._hist_gradient_boosting.gradient_boosting.HistGradientBoostingRegressor._check_early_stopping_loss\n",
    "try:\n",
    "    obj = class_constructor() # noqa F821\n",
    "    ret = obj._check_early_stopping_loss()\n",
    "    type_sklearn_ensemble__hist_gradient_boosting_gradient_boosting_HistGradientBoostingRegressor__check_early_stopping_loss = getattr(ret, '__module__', 'none') + '.' + ret.__class__.__name__\n",
    "    print('✅ sklearn.ensemble._hist_gradient_boosting.gradient_boosting.HistGradientBoostingRegressor._check_early_stopping_loss: ', type(ret)) # noqa E501\n",
    "except Exception as e:\n",
    "    type_sklearn_ensemble__hist_gradient_boosting_gradient_boosting_HistGradientBoostingRegressor__check_early_stopping_loss = '_syft_missing'\n",
    "    print('❌ sklearn.ensemble._hist_gradient_boosting.gradient_boosting.HistGradientBoostingRegressor._check_early_stopping_loss: Return unavailable') # noqa E501\n",
    "    print(\"  Please fix this return type code until there is no exception\")\n",
    "    print('  Error:', e)\n"
   ]
  },
  {
   "cell_type": "code",
   "execution_count": null,
   "id": "sorted-buffalo",
   "metadata": {},
   "outputs": [],
   "source": [
    "# sklearn.ensemble._hist_gradient_boosting.gradient_boosting.HistGradientBoostingRegressor._check_early_stopping_scorer\n",
    "try:\n",
    "    obj = class_constructor() # noqa F821\n",
    "    ret = obj._check_early_stopping_scorer()\n",
    "    type_sklearn_ensemble__hist_gradient_boosting_gradient_boosting_HistGradientBoostingRegressor__check_early_stopping_scorer = getattr(ret, '__module__', 'none') + '.' + ret.__class__.__name__\n",
    "    print('✅ sklearn.ensemble._hist_gradient_boosting.gradient_boosting.HistGradientBoostingRegressor._check_early_stopping_scorer: ', type(ret)) # noqa E501\n",
    "except Exception as e:\n",
    "    type_sklearn_ensemble__hist_gradient_boosting_gradient_boosting_HistGradientBoostingRegressor__check_early_stopping_scorer = '_syft_missing'\n",
    "    print('❌ sklearn.ensemble._hist_gradient_boosting.gradient_boosting.HistGradientBoostingRegressor._check_early_stopping_scorer: Return unavailable') # noqa E501\n",
    "    print(\"  Please fix this return type code until there is no exception\")\n",
    "    print('  Error:', e)\n"
   ]
  },
  {
   "cell_type": "code",
   "execution_count": null,
   "id": "overall-joseph",
   "metadata": {},
   "outputs": [],
   "source": [
    "# sklearn.ensemble._hist_gradient_boosting.gradient_boosting.HistGradientBoostingRegressor._check_n_features\n",
    "try:\n",
    "    obj = class_constructor() # noqa F821\n",
    "    ret = obj._check_n_features()\n",
    "    type_sklearn_ensemble__hist_gradient_boosting_gradient_boosting_HistGradientBoostingRegressor__check_n_features = getattr(ret, '__module__', 'none') + '.' + ret.__class__.__name__\n",
    "    print('✅ sklearn.ensemble._hist_gradient_boosting.gradient_boosting.HistGradientBoostingRegressor._check_n_features: ', type(ret)) # noqa E501\n",
    "except Exception as e:\n",
    "    type_sklearn_ensemble__hist_gradient_boosting_gradient_boosting_HistGradientBoostingRegressor__check_n_features = '_syft_missing'\n",
    "    print('❌ sklearn.ensemble._hist_gradient_boosting.gradient_boosting.HistGradientBoostingRegressor._check_n_features: Return unavailable') # noqa E501\n",
    "    print(\"  Please fix this return type code until there is no exception\")\n",
    "    print('  Error:', e)\n"
   ]
  },
  {
   "cell_type": "code",
   "execution_count": null,
   "id": "studied-sword",
   "metadata": {},
   "outputs": [],
   "source": [
    "# sklearn.ensemble._hist_gradient_boosting.gradient_boosting.HistGradientBoostingRegressor._clear_state\n",
    "try:\n",
    "    obj = class_constructor() # noqa F821\n",
    "    ret = obj._clear_state()\n",
    "    type_sklearn_ensemble__hist_gradient_boosting_gradient_boosting_HistGradientBoostingRegressor__clear_state = getattr(ret, '__module__', 'none') + '.' + ret.__class__.__name__\n",
    "    print('✅ sklearn.ensemble._hist_gradient_boosting.gradient_boosting.HistGradientBoostingRegressor._clear_state: ', type(ret)) # noqa E501\n",
    "except Exception as e:\n",
    "    type_sklearn_ensemble__hist_gradient_boosting_gradient_boosting_HistGradientBoostingRegressor__clear_state = '_syft_missing'\n",
    "    print('❌ sklearn.ensemble._hist_gradient_boosting.gradient_boosting.HistGradientBoostingRegressor._clear_state: Return unavailable') # noqa E501\n",
    "    print(\"  Please fix this return type code until there is no exception\")\n",
    "    print('  Error:', e)\n"
   ]
  },
  {
   "cell_type": "code",
   "execution_count": null,
   "id": "three-topic",
   "metadata": {},
   "outputs": [],
   "source": [
    "# sklearn.ensemble._hist_gradient_boosting.gradient_boosting.HistGradientBoostingRegressor._compute_partial_dependence_recursion\n",
    "try:\n",
    "    obj = class_constructor() # noqa F821\n",
    "    ret = obj._compute_partial_dependence_recursion()\n",
    "    type_sklearn_ensemble__hist_gradient_boosting_gradient_boosting_HistGradientBoostingRegressor__compute_partial_dependence_recursion = getattr(ret, '__module__', 'none') + '.' + ret.__class__.__name__\n",
    "    print('✅ sklearn.ensemble._hist_gradient_boosting.gradient_boosting.HistGradientBoostingRegressor._compute_partial_dependence_recursion: ', type(ret)) # noqa E501\n",
    "except Exception as e:\n",
    "    type_sklearn_ensemble__hist_gradient_boosting_gradient_boosting_HistGradientBoostingRegressor__compute_partial_dependence_recursion = '_syft_missing'\n",
    "    print('❌ sklearn.ensemble._hist_gradient_boosting.gradient_boosting.HistGradientBoostingRegressor._compute_partial_dependence_recursion: Return unavailable') # noqa E501\n",
    "    print(\"  Please fix this return type code until there is no exception\")\n",
    "    print('  Error:', e)\n"
   ]
  },
  {
   "cell_type": "code",
   "execution_count": null,
   "id": "greater-prairie",
   "metadata": {},
   "outputs": [],
   "source": [
    "# sklearn.ensemble._hist_gradient_boosting.gradient_boosting.HistGradientBoostingRegressor._encode_y\n",
    "try:\n",
    "    obj = class_constructor() # noqa F821\n",
    "    ret = obj._encode_y()\n",
    "    type_sklearn_ensemble__hist_gradient_boosting_gradient_boosting_HistGradientBoostingRegressor__encode_y = getattr(ret, '__module__', 'none') + '.' + ret.__class__.__name__\n",
    "    print('✅ sklearn.ensemble._hist_gradient_boosting.gradient_boosting.HistGradientBoostingRegressor._encode_y: ', type(ret)) # noqa E501\n",
    "except Exception as e:\n",
    "    type_sklearn_ensemble__hist_gradient_boosting_gradient_boosting_HistGradientBoostingRegressor__encode_y = '_syft_missing'\n",
    "    print('❌ sklearn.ensemble._hist_gradient_boosting.gradient_boosting.HistGradientBoostingRegressor._encode_y: Return unavailable') # noqa E501\n",
    "    print(\"  Please fix this return type code until there is no exception\")\n",
    "    print('  Error:', e)\n"
   ]
  },
  {
   "cell_type": "code",
   "execution_count": null,
   "id": "dated-parallel",
   "metadata": {},
   "outputs": [],
   "source": [
    "# sklearn.ensemble._hist_gradient_boosting.gradient_boosting.HistGradientBoostingRegressor._get_loss\n",
    "try:\n",
    "    obj = class_constructor() # noqa F821\n",
    "    ret = obj._get_loss()\n",
    "    type_sklearn_ensemble__hist_gradient_boosting_gradient_boosting_HistGradientBoostingRegressor__get_loss = getattr(ret, '__module__', 'none') + '.' + ret.__class__.__name__\n",
    "    print('✅ sklearn.ensemble._hist_gradient_boosting.gradient_boosting.HistGradientBoostingRegressor._get_loss: ', type(ret)) # noqa E501\n",
    "except Exception as e:\n",
    "    type_sklearn_ensemble__hist_gradient_boosting_gradient_boosting_HistGradientBoostingRegressor__get_loss = '_syft_missing'\n",
    "    print('❌ sklearn.ensemble._hist_gradient_boosting.gradient_boosting.HistGradientBoostingRegressor._get_loss: Return unavailable') # noqa E501\n",
    "    print(\"  Please fix this return type code until there is no exception\")\n",
    "    print('  Error:', e)\n"
   ]
  },
  {
   "cell_type": "code",
   "execution_count": null,
   "id": "extensive-country",
   "metadata": {},
   "outputs": [],
   "source": [
    "# sklearn.ensemble._hist_gradient_boosting.gradient_boosting.HistGradientBoostingRegressor._get_param_names\n",
    "try:\n",
    "    obj = class_constructor() # noqa F821\n",
    "    ret = obj._get_param_names()\n",
    "    type_sklearn_ensemble__hist_gradient_boosting_gradient_boosting_HistGradientBoostingRegressor__get_param_names = getattr(ret, '__module__', 'none') + '.' + ret.__class__.__name__\n",
    "    print('✅ sklearn.ensemble._hist_gradient_boosting.gradient_boosting.HistGradientBoostingRegressor._get_param_names: ', type(ret)) # noqa E501\n",
    "except Exception as e:\n",
    "    type_sklearn_ensemble__hist_gradient_boosting_gradient_boosting_HistGradientBoostingRegressor__get_param_names = '_syft_missing'\n",
    "    print('❌ sklearn.ensemble._hist_gradient_boosting.gradient_boosting.HistGradientBoostingRegressor._get_param_names: Return unavailable') # noqa E501\n",
    "    print(\"  Please fix this return type code until there is no exception\")\n",
    "    print('  Error:', e)\n"
   ]
  },
  {
   "cell_type": "code",
   "execution_count": null,
   "id": "loved-forum",
   "metadata": {},
   "outputs": [],
   "source": [
    "# sklearn.ensemble._hist_gradient_boosting.gradient_boosting.HistGradientBoostingRegressor._get_small_trainset\n",
    "try:\n",
    "    obj = class_constructor() # noqa F821\n",
    "    ret = obj._get_small_trainset()\n",
    "    type_sklearn_ensemble__hist_gradient_boosting_gradient_boosting_HistGradientBoostingRegressor__get_small_trainset = getattr(ret, '__module__', 'none') + '.' + ret.__class__.__name__\n",
    "    print('✅ sklearn.ensemble._hist_gradient_boosting.gradient_boosting.HistGradientBoostingRegressor._get_small_trainset: ', type(ret)) # noqa E501\n",
    "except Exception as e:\n",
    "    type_sklearn_ensemble__hist_gradient_boosting_gradient_boosting_HistGradientBoostingRegressor__get_small_trainset = '_syft_missing'\n",
    "    print('❌ sklearn.ensemble._hist_gradient_boosting.gradient_boosting.HistGradientBoostingRegressor._get_small_trainset: Return unavailable') # noqa E501\n",
    "    print(\"  Please fix this return type code until there is no exception\")\n",
    "    print('  Error:', e)\n"
   ]
  },
  {
   "cell_type": "code",
   "execution_count": null,
   "id": "alternative-showcase",
   "metadata": {},
   "outputs": [],
   "source": [
    "# sklearn.ensemble._hist_gradient_boosting.gradient_boosting.HistGradientBoostingRegressor._get_tags\n",
    "try:\n",
    "    obj = class_constructor() # noqa F821\n",
    "    ret = obj._get_tags()\n",
    "    type_sklearn_ensemble__hist_gradient_boosting_gradient_boosting_HistGradientBoostingRegressor__get_tags = getattr(ret, '__module__', 'none') + '.' + ret.__class__.__name__\n",
    "    print('✅ sklearn.ensemble._hist_gradient_boosting.gradient_boosting.HistGradientBoostingRegressor._get_tags: ', type(ret)) # noqa E501\n",
    "except Exception as e:\n",
    "    type_sklearn_ensemble__hist_gradient_boosting_gradient_boosting_HistGradientBoostingRegressor__get_tags = '_syft_missing'\n",
    "    print('❌ sklearn.ensemble._hist_gradient_boosting.gradient_boosting.HistGradientBoostingRegressor._get_tags: Return unavailable') # noqa E501\n",
    "    print(\"  Please fix this return type code until there is no exception\")\n",
    "    print('  Error:', e)\n"
   ]
  },
  {
   "cell_type": "code",
   "execution_count": null,
   "id": "radio-commission",
   "metadata": {},
   "outputs": [],
   "source": [
    "# sklearn.ensemble._hist_gradient_boosting.gradient_boosting.HistGradientBoostingRegressor._is_fitted\n",
    "try:\n",
    "    obj = class_constructor() # noqa F821\n",
    "    ret = obj._is_fitted()\n",
    "    type_sklearn_ensemble__hist_gradient_boosting_gradient_boosting_HistGradientBoostingRegressor__is_fitted = getattr(ret, '__module__', 'none') + '.' + ret.__class__.__name__\n",
    "    print('✅ sklearn.ensemble._hist_gradient_boosting.gradient_boosting.HistGradientBoostingRegressor._is_fitted: ', type(ret)) # noqa E501\n",
    "except Exception as e:\n",
    "    type_sklearn_ensemble__hist_gradient_boosting_gradient_boosting_HistGradientBoostingRegressor__is_fitted = '_syft_missing'\n",
    "    print('❌ sklearn.ensemble._hist_gradient_boosting.gradient_boosting.HistGradientBoostingRegressor._is_fitted: Return unavailable') # noqa E501\n",
    "    print(\"  Please fix this return type code until there is no exception\")\n",
    "    print('  Error:', e)\n"
   ]
  },
  {
   "cell_type": "code",
   "execution_count": null,
   "id": "constitutional-diving",
   "metadata": {},
   "outputs": [],
   "source": [
    "# sklearn.ensemble._hist_gradient_boosting.gradient_boosting.HistGradientBoostingRegressor._more_tags\n",
    "try:\n",
    "    obj = class_constructor() # noqa F821\n",
    "    ret = obj._more_tags()\n",
    "    type_sklearn_ensemble__hist_gradient_boosting_gradient_boosting_HistGradientBoostingRegressor__more_tags = getattr(ret, '__module__', 'none') + '.' + ret.__class__.__name__\n",
    "    print('✅ sklearn.ensemble._hist_gradient_boosting.gradient_boosting.HistGradientBoostingRegressor._more_tags: ', type(ret)) # noqa E501\n",
    "except Exception as e:\n",
    "    type_sklearn_ensemble__hist_gradient_boosting_gradient_boosting_HistGradientBoostingRegressor__more_tags = '_syft_missing'\n",
    "    print('❌ sklearn.ensemble._hist_gradient_boosting.gradient_boosting.HistGradientBoostingRegressor._more_tags: Return unavailable') # noqa E501\n",
    "    print(\"  Please fix this return type code until there is no exception\")\n",
    "    print('  Error:', e)\n"
   ]
  },
  {
   "cell_type": "code",
   "execution_count": null,
   "id": "urban-teens",
   "metadata": {},
   "outputs": [],
   "source": [
    "# sklearn.ensemble._hist_gradient_boosting.gradient_boosting.HistGradientBoostingRegressor._predict_iterations\n",
    "try:\n",
    "    obj = class_constructor() # noqa F821\n",
    "    ret = obj._predict_iterations()\n",
    "    type_sklearn_ensemble__hist_gradient_boosting_gradient_boosting_HistGradientBoostingRegressor__predict_iterations = getattr(ret, '__module__', 'none') + '.' + ret.__class__.__name__\n",
    "    print('✅ sklearn.ensemble._hist_gradient_boosting.gradient_boosting.HistGradientBoostingRegressor._predict_iterations: ', type(ret)) # noqa E501\n",
    "except Exception as e:\n",
    "    type_sklearn_ensemble__hist_gradient_boosting_gradient_boosting_HistGradientBoostingRegressor__predict_iterations = '_syft_missing'\n",
    "    print('❌ sklearn.ensemble._hist_gradient_boosting.gradient_boosting.HistGradientBoostingRegressor._predict_iterations: Return unavailable') # noqa E501\n",
    "    print(\"  Please fix this return type code until there is no exception\")\n",
    "    print('  Error:', e)\n"
   ]
  },
  {
   "cell_type": "code",
   "execution_count": null,
   "id": "cooked-green",
   "metadata": {},
   "outputs": [],
   "source": [
    "# sklearn.ensemble._hist_gradient_boosting.gradient_boosting.HistGradientBoostingRegressor._print_iteration_stats\n",
    "try:\n",
    "    obj = class_constructor() # noqa F821\n",
    "    ret = obj._print_iteration_stats()\n",
    "    type_sklearn_ensemble__hist_gradient_boosting_gradient_boosting_HistGradientBoostingRegressor__print_iteration_stats = getattr(ret, '__module__', 'none') + '.' + ret.__class__.__name__\n",
    "    print('✅ sklearn.ensemble._hist_gradient_boosting.gradient_boosting.HistGradientBoostingRegressor._print_iteration_stats: ', type(ret)) # noqa E501\n",
    "except Exception as e:\n",
    "    type_sklearn_ensemble__hist_gradient_boosting_gradient_boosting_HistGradientBoostingRegressor__print_iteration_stats = '_syft_missing'\n",
    "    print('❌ sklearn.ensemble._hist_gradient_boosting.gradient_boosting.HistGradientBoostingRegressor._print_iteration_stats: Return unavailable') # noqa E501\n",
    "    print(\"  Please fix this return type code until there is no exception\")\n",
    "    print('  Error:', e)\n"
   ]
  },
  {
   "cell_type": "code",
   "execution_count": null,
   "id": "scientific-roots",
   "metadata": {},
   "outputs": [],
   "source": [
    "# sklearn.ensemble._hist_gradient_boosting.gradient_boosting.HistGradientBoostingRegressor._raw_predict\n",
    "try:\n",
    "    obj = class_constructor() # noqa F821\n",
    "    ret = obj._raw_predict()\n",
    "    type_sklearn_ensemble__hist_gradient_boosting_gradient_boosting_HistGradientBoostingRegressor__raw_predict = getattr(ret, '__module__', 'none') + '.' + ret.__class__.__name__\n",
    "    print('✅ sklearn.ensemble._hist_gradient_boosting.gradient_boosting.HistGradientBoostingRegressor._raw_predict: ', type(ret)) # noqa E501\n",
    "except Exception as e:\n",
    "    type_sklearn_ensemble__hist_gradient_boosting_gradient_boosting_HistGradientBoostingRegressor__raw_predict = '_syft_missing'\n",
    "    print('❌ sklearn.ensemble._hist_gradient_boosting.gradient_boosting.HistGradientBoostingRegressor._raw_predict: Return unavailable') # noqa E501\n",
    "    print(\"  Please fix this return type code until there is no exception\")\n",
    "    print('  Error:', e)\n"
   ]
  },
  {
   "cell_type": "code",
   "execution_count": null,
   "id": "private-virgin",
   "metadata": {},
   "outputs": [],
   "source": [
    "# sklearn.ensemble._hist_gradient_boosting.gradient_boosting.HistGradientBoostingRegressor._repr_html_\n",
    "try:\n",
    "    obj = class_constructor()\n",
    "    ret = obj._repr_html_\n",
    "    type_sklearn_ensemble__hist_gradient_boosting_gradient_boosting_HistGradientBoostingRegressor__repr_html_ = getattr(ret, '__module__', 'none') + '.' + ret.__class__.__name__\n",
    "    print('✅ sklearn.ensemble._hist_gradient_boosting.gradient_boosting.HistGradientBoostingRegressor._repr_html_:', type(ret)) # noqa E501\n",
    "except Exception as e:\n",
    "    type_sklearn_ensemble__hist_gradient_boosting_gradient_boosting_HistGradientBoostingRegressor__repr_html_ = '_syft_missing'\n",
    "    print('❌ sklearn.ensemble._hist_gradient_boosting.gradient_boosting.HistGradientBoostingRegressor._repr_html_: Return unavailable') # noqa E501\n",
    "    print(\"  Please fix this return type code until there is no exception\")\n",
    "    print('  Error:', e)\n"
   ]
  },
  {
   "cell_type": "code",
   "execution_count": null,
   "id": "informal-cambodia",
   "metadata": {},
   "outputs": [],
   "source": [
    "# sklearn.ensemble._hist_gradient_boosting.gradient_boosting.HistGradientBoostingRegressor._repr_html_inner\n",
    "try:\n",
    "    obj = class_constructor() # noqa F821\n",
    "    ret = obj._repr_html_inner()\n",
    "    type_sklearn_ensemble__hist_gradient_boosting_gradient_boosting_HistGradientBoostingRegressor__repr_html_inner = getattr(ret, '__module__', 'none') + '.' + ret.__class__.__name__\n",
    "    print('✅ sklearn.ensemble._hist_gradient_boosting.gradient_boosting.HistGradientBoostingRegressor._repr_html_inner: ', type(ret)) # noqa E501\n",
    "except Exception as e:\n",
    "    type_sklearn_ensemble__hist_gradient_boosting_gradient_boosting_HistGradientBoostingRegressor__repr_html_inner = '_syft_missing'\n",
    "    print('❌ sklearn.ensemble._hist_gradient_boosting.gradient_boosting.HistGradientBoostingRegressor._repr_html_inner: Return unavailable') # noqa E501\n",
    "    print(\"  Please fix this return type code until there is no exception\")\n",
    "    print('  Error:', e)\n"
   ]
  },
  {
   "cell_type": "code",
   "execution_count": null,
   "id": "approximate-classics",
   "metadata": {},
   "outputs": [],
   "source": [
    "# sklearn.ensemble._hist_gradient_boosting.gradient_boosting.HistGradientBoostingRegressor._repr_mimebundle_\n",
    "try:\n",
    "    obj = class_constructor() # noqa F821\n",
    "    ret = obj._repr_mimebundle_()\n",
    "    type_sklearn_ensemble__hist_gradient_boosting_gradient_boosting_HistGradientBoostingRegressor__repr_mimebundle_ = getattr(ret, '__module__', 'none') + '.' + ret.__class__.__name__\n",
    "    print('✅ sklearn.ensemble._hist_gradient_boosting.gradient_boosting.HistGradientBoostingRegressor._repr_mimebundle_: ', type(ret)) # noqa E501\n",
    "except Exception as e:\n",
    "    type_sklearn_ensemble__hist_gradient_boosting_gradient_boosting_HistGradientBoostingRegressor__repr_mimebundle_ = '_syft_missing'\n",
    "    print('❌ sklearn.ensemble._hist_gradient_boosting.gradient_boosting.HistGradientBoostingRegressor._repr_mimebundle_: Return unavailable') # noqa E501\n",
    "    print(\"  Please fix this return type code until there is no exception\")\n",
    "    print('  Error:', e)\n"
   ]
  },
  {
   "cell_type": "code",
   "execution_count": null,
   "id": "assigned-password",
   "metadata": {},
   "outputs": [],
   "source": [
    "# sklearn.ensemble._hist_gradient_boosting.gradient_boosting.HistGradientBoostingRegressor._should_stop\n",
    "try:\n",
    "    obj = class_constructor() # noqa F821\n",
    "    ret = obj._should_stop()\n",
    "    type_sklearn_ensemble__hist_gradient_boosting_gradient_boosting_HistGradientBoostingRegressor__should_stop = getattr(ret, '__module__', 'none') + '.' + ret.__class__.__name__\n",
    "    print('✅ sklearn.ensemble._hist_gradient_boosting.gradient_boosting.HistGradientBoostingRegressor._should_stop: ', type(ret)) # noqa E501\n",
    "except Exception as e:\n",
    "    type_sklearn_ensemble__hist_gradient_boosting_gradient_boosting_HistGradientBoostingRegressor__should_stop = '_syft_missing'\n",
    "    print('❌ sklearn.ensemble._hist_gradient_boosting.gradient_boosting.HistGradientBoostingRegressor._should_stop: Return unavailable') # noqa E501\n",
    "    print(\"  Please fix this return type code until there is no exception\")\n",
    "    print('  Error:', e)\n"
   ]
  },
  {
   "cell_type": "code",
   "execution_count": null,
   "id": "stainless-kelly",
   "metadata": {},
   "outputs": [],
   "source": [
    "# sklearn.ensemble._hist_gradient_boosting.gradient_boosting.HistGradientBoostingRegressor._staged_raw_predict\n",
    "try:\n",
    "    obj = class_constructor() # noqa F821\n",
    "    ret = obj._staged_raw_predict()\n",
    "    type_sklearn_ensemble__hist_gradient_boosting_gradient_boosting_HistGradientBoostingRegressor__staged_raw_predict = getattr(ret, '__module__', 'none') + '.' + ret.__class__.__name__\n",
    "    print('✅ sklearn.ensemble._hist_gradient_boosting.gradient_boosting.HistGradientBoostingRegressor._staged_raw_predict: ', type(ret)) # noqa E501\n",
    "except Exception as e:\n",
    "    type_sklearn_ensemble__hist_gradient_boosting_gradient_boosting_HistGradientBoostingRegressor__staged_raw_predict = '_syft_missing'\n",
    "    print('❌ sklearn.ensemble._hist_gradient_boosting.gradient_boosting.HistGradientBoostingRegressor._staged_raw_predict: Return unavailable') # noqa E501\n",
    "    print(\"  Please fix this return type code until there is no exception\")\n",
    "    print('  Error:', e)\n"
   ]
  },
  {
   "cell_type": "code",
   "execution_count": null,
   "id": "accessible-commander",
   "metadata": {},
   "outputs": [],
   "source": [
    "# sklearn.ensemble._hist_gradient_boosting.gradient_boosting.HistGradientBoostingRegressor._validate_data\n",
    "try:\n",
    "    obj = class_constructor() # noqa F821\n",
    "    ret = obj._validate_data()\n",
    "    type_sklearn_ensemble__hist_gradient_boosting_gradient_boosting_HistGradientBoostingRegressor__validate_data = getattr(ret, '__module__', 'none') + '.' + ret.__class__.__name__\n",
    "    print('✅ sklearn.ensemble._hist_gradient_boosting.gradient_boosting.HistGradientBoostingRegressor._validate_data: ', type(ret)) # noqa E501\n",
    "except Exception as e:\n",
    "    type_sklearn_ensemble__hist_gradient_boosting_gradient_boosting_HistGradientBoostingRegressor__validate_data = '_syft_missing'\n",
    "    print('❌ sklearn.ensemble._hist_gradient_boosting.gradient_boosting.HistGradientBoostingRegressor._validate_data: Return unavailable') # noqa E501\n",
    "    print(\"  Please fix this return type code until there is no exception\")\n",
    "    print('  Error:', e)\n"
   ]
  },
  {
   "cell_type": "code",
   "execution_count": null,
   "id": "outside-battlefield",
   "metadata": {},
   "outputs": [],
   "source": [
    "# sklearn.ensemble._hist_gradient_boosting.gradient_boosting.HistGradientBoostingRegressor._validate_parameters\n",
    "try:\n",
    "    obj = class_constructor() # noqa F821\n",
    "    ret = obj._validate_parameters()\n",
    "    type_sklearn_ensemble__hist_gradient_boosting_gradient_boosting_HistGradientBoostingRegressor__validate_parameters = getattr(ret, '__module__', 'none') + '.' + ret.__class__.__name__\n",
    "    print('✅ sklearn.ensemble._hist_gradient_boosting.gradient_boosting.HistGradientBoostingRegressor._validate_parameters: ', type(ret)) # noqa E501\n",
    "except Exception as e:\n",
    "    type_sklearn_ensemble__hist_gradient_boosting_gradient_boosting_HistGradientBoostingRegressor__validate_parameters = '_syft_missing'\n",
    "    print('❌ sklearn.ensemble._hist_gradient_boosting.gradient_boosting.HistGradientBoostingRegressor._validate_parameters: Return unavailable') # noqa E501\n",
    "    print(\"  Please fix this return type code until there is no exception\")\n",
    "    print('  Error:', e)\n"
   ]
  },
  {
   "cell_type": "code",
   "execution_count": null,
   "id": "abstract-garage",
   "metadata": {},
   "outputs": [],
   "source": [
    "# sklearn.ensemble._hist_gradient_boosting.gradient_boosting.HistGradientBoostingRegressor.fit\n",
    "try:\n",
    "    obj = class_constructor() # noqa F821\n",
    "    ret = obj.fit()\n",
    "    type_sklearn_ensemble__hist_gradient_boosting_gradient_boosting_HistGradientBoostingRegressor_fit = getattr(ret, '__module__', 'none') + '.' + ret.__class__.__name__\n",
    "    print('✅ sklearn.ensemble._hist_gradient_boosting.gradient_boosting.HistGradientBoostingRegressor.fit: ', type(ret)) # noqa E501\n",
    "except Exception as e:\n",
    "    type_sklearn_ensemble__hist_gradient_boosting_gradient_boosting_HistGradientBoostingRegressor_fit = '_syft_missing'\n",
    "    print('❌ sklearn.ensemble._hist_gradient_boosting.gradient_boosting.HistGradientBoostingRegressor.fit: Return unavailable') # noqa E501\n",
    "    print(\"  Please fix this return type code until there is no exception\")\n",
    "    print('  Error:', e)\n"
   ]
  },
  {
   "cell_type": "code",
   "execution_count": null,
   "id": "sized-survey",
   "metadata": {},
   "outputs": [],
   "source": [
    "# sklearn.ensemble._hist_gradient_boosting.gradient_boosting.HistGradientBoostingRegressor.get_params\n",
    "try:\n",
    "    obj = class_constructor() # noqa F821\n",
    "    ret = obj.get_params()\n",
    "    type_sklearn_ensemble__hist_gradient_boosting_gradient_boosting_HistGradientBoostingRegressor_get_params = getattr(ret, '__module__', 'none') + '.' + ret.__class__.__name__\n",
    "    print('✅ sklearn.ensemble._hist_gradient_boosting.gradient_boosting.HistGradientBoostingRegressor.get_params: ', type(ret)) # noqa E501\n",
    "except Exception as e:\n",
    "    type_sklearn_ensemble__hist_gradient_boosting_gradient_boosting_HistGradientBoostingRegressor_get_params = '_syft_missing'\n",
    "    print('❌ sklearn.ensemble._hist_gradient_boosting.gradient_boosting.HistGradientBoostingRegressor.get_params: Return unavailable') # noqa E501\n",
    "    print(\"  Please fix this return type code until there is no exception\")\n",
    "    print('  Error:', e)\n"
   ]
  },
  {
   "cell_type": "code",
   "execution_count": null,
   "id": "adaptive-outdoors",
   "metadata": {},
   "outputs": [],
   "source": [
    "# sklearn.ensemble._hist_gradient_boosting.gradient_boosting.HistGradientBoostingRegressor.n_iter_\n",
    "try:\n",
    "    obj = class_constructor()\n",
    "    ret = obj.n_iter_\n",
    "    type_sklearn_ensemble__hist_gradient_boosting_gradient_boosting_HistGradientBoostingRegressor_n_iter_ = getattr(ret, '__module__', 'none') + '.' + ret.__class__.__name__\n",
    "    print('✅ sklearn.ensemble._hist_gradient_boosting.gradient_boosting.HistGradientBoostingRegressor.n_iter_:', type(ret)) # noqa E501\n",
    "except Exception as e:\n",
    "    type_sklearn_ensemble__hist_gradient_boosting_gradient_boosting_HistGradientBoostingRegressor_n_iter_ = '_syft_missing'\n",
    "    print('❌ sklearn.ensemble._hist_gradient_boosting.gradient_boosting.HistGradientBoostingRegressor.n_iter_: Return unavailable') # noqa E501\n",
    "    print(\"  Please fix this return type code until there is no exception\")\n",
    "    print('  Error:', e)\n"
   ]
  },
  {
   "cell_type": "code",
   "execution_count": null,
   "id": "universal-marathon",
   "metadata": {},
   "outputs": [],
   "source": [
    "# sklearn.ensemble._hist_gradient_boosting.gradient_boosting.HistGradientBoostingRegressor.predict\n",
    "try:\n",
    "    obj = class_constructor() # noqa F821\n",
    "    ret = obj.predict()\n",
    "    type_sklearn_ensemble__hist_gradient_boosting_gradient_boosting_HistGradientBoostingRegressor_predict = getattr(ret, '__module__', 'none') + '.' + ret.__class__.__name__\n",
    "    print('✅ sklearn.ensemble._hist_gradient_boosting.gradient_boosting.HistGradientBoostingRegressor.predict: ', type(ret)) # noqa E501\n",
    "except Exception as e:\n",
    "    type_sklearn_ensemble__hist_gradient_boosting_gradient_boosting_HistGradientBoostingRegressor_predict = '_syft_missing'\n",
    "    print('❌ sklearn.ensemble._hist_gradient_boosting.gradient_boosting.HistGradientBoostingRegressor.predict: Return unavailable') # noqa E501\n",
    "    print(\"  Please fix this return type code until there is no exception\")\n",
    "    print('  Error:', e)\n"
   ]
  },
  {
   "cell_type": "code",
   "execution_count": null,
   "id": "convenient-federation",
   "metadata": {},
   "outputs": [],
   "source": [
    "# sklearn.ensemble._hist_gradient_boosting.gradient_boosting.HistGradientBoostingRegressor.score\n",
    "try:\n",
    "    obj = class_constructor() # noqa F821\n",
    "    ret = obj.score()\n",
    "    type_sklearn_ensemble__hist_gradient_boosting_gradient_boosting_HistGradientBoostingRegressor_score = getattr(ret, '__module__', 'none') + '.' + ret.__class__.__name__\n",
    "    print('✅ sklearn.ensemble._hist_gradient_boosting.gradient_boosting.HistGradientBoostingRegressor.score: ', type(ret)) # noqa E501\n",
    "except Exception as e:\n",
    "    type_sklearn_ensemble__hist_gradient_boosting_gradient_boosting_HistGradientBoostingRegressor_score = '_syft_missing'\n",
    "    print('❌ sklearn.ensemble._hist_gradient_boosting.gradient_boosting.HistGradientBoostingRegressor.score: Return unavailable') # noqa E501\n",
    "    print(\"  Please fix this return type code until there is no exception\")\n",
    "    print('  Error:', e)\n"
   ]
  },
  {
   "cell_type": "code",
   "execution_count": null,
   "id": "fluid-palestinian",
   "metadata": {},
   "outputs": [],
   "source": [
    "# sklearn.ensemble._hist_gradient_boosting.gradient_boosting.HistGradientBoostingRegressor.set_params\n",
    "try:\n",
    "    obj = class_constructor() # noqa F821\n",
    "    ret = obj.set_params()\n",
    "    type_sklearn_ensemble__hist_gradient_boosting_gradient_boosting_HistGradientBoostingRegressor_set_params = getattr(ret, '__module__', 'none') + '.' + ret.__class__.__name__\n",
    "    print('✅ sklearn.ensemble._hist_gradient_boosting.gradient_boosting.HistGradientBoostingRegressor.set_params: ', type(ret)) # noqa E501\n",
    "except Exception as e:\n",
    "    type_sklearn_ensemble__hist_gradient_boosting_gradient_boosting_HistGradientBoostingRegressor_set_params = '_syft_missing'\n",
    "    print('❌ sklearn.ensemble._hist_gradient_boosting.gradient_boosting.HistGradientBoostingRegressor.set_params: Return unavailable') # noqa E501\n",
    "    print(\"  Please fix this return type code until there is no exception\")\n",
    "    print('  Error:', e)\n"
   ]
  },
  {
   "cell_type": "code",
   "execution_count": null,
   "id": "municipal-atlanta",
   "metadata": {},
   "outputs": [],
   "source": [
    "# sklearn.ensemble._hist_gradient_boosting.gradient_boosting.HistGradientBoostingRegressor.staged_predict\n",
    "try:\n",
    "    obj = class_constructor() # noqa F821\n",
    "    ret = obj.staged_predict()\n",
    "    type_sklearn_ensemble__hist_gradient_boosting_gradient_boosting_HistGradientBoostingRegressor_staged_predict = getattr(ret, '__module__', 'none') + '.' + ret.__class__.__name__\n",
    "    print('✅ sklearn.ensemble._hist_gradient_boosting.gradient_boosting.HistGradientBoostingRegressor.staged_predict: ', type(ret)) # noqa E501\n",
    "except Exception as e:\n",
    "    type_sklearn_ensemble__hist_gradient_boosting_gradient_boosting_HistGradientBoostingRegressor_staged_predict = '_syft_missing'\n",
    "    print('❌ sklearn.ensemble._hist_gradient_boosting.gradient_boosting.HistGradientBoostingRegressor.staged_predict: Return unavailable') # noqa E501\n",
    "    print(\"  Please fix this return type code until there is no exception\")\n",
    "    print('  Error:', e)\n"
   ]
  }
 ],
 "metadata": {},
 "nbformat": 4,
 "nbformat_minor": 5
}
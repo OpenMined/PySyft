{
 "cells": [
  {
   "cell_type": "markdown",
   "id": "first-kazakhstan",
   "metadata": {},
   "source": [
    "## sklearn.utils.fixes._FuncWrapper"
   ]
  },
  {
   "cell_type": "code",
   "execution_count": null,
   "id": "vanilla-irish",
   "metadata": {},
   "outputs": [],
   "source": [
    "import sklearn\n",
    "def class_constructor(*args, **kwargs):\n",
    "    obj = sklearn.utils.fixes._FuncWrapper()\n",
    "    return obj\n"
   ]
  },
  {
   "cell_type": "code",
   "execution_count": null,
   "id": "tough-authority",
   "metadata": {},
   "outputs": [],
   "source": [
    "# sklearn.utils.fixes._FuncWrapper.__call__\n",
    "try:\n",
    "    obj = class_constructor() # noqa F821\n",
    "    ret = obj.__call__()\n",
    "    type_sklearn_utils_fixes__FuncWrapper___call__ = getattr(ret, '__module__', 'none') + '.' + ret.__class__.__name__\n",
    "    print('✅ sklearn.utils.fixes._FuncWrapper.__call__: ', type(ret)) # noqa E501\n",
    "except Exception as e:\n",
    "    type_sklearn_utils_fixes__FuncWrapper___call__ = '_syft_missing'\n",
    "    print('❌ sklearn.utils.fixes._FuncWrapper.__call__: Return unavailable') # noqa E501\n",
    "    print(\"  Please fix this return type code until there is no exception\")\n",
    "    print('  Error:', e)\n"
   ]
  }
 ],
 "metadata": {},
 "nbformat": 4,
 "nbformat_minor": 5
}
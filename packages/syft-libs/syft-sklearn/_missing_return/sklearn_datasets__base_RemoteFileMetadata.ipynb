{
 "cells": [
  {
   "cell_type": "markdown",
   "id": "closed-catch",
   "metadata": {},
   "source": [
    "## sklearn.datasets._base.RemoteFileMetadata"
   ]
  },
  {
   "cell_type": "code",
   "execution_count": null,
   "id": "certain-swing",
   "metadata": {},
   "outputs": [],
   "source": [
    "import sklearn\n",
    "def class_constructor(*args, **kwargs):\n",
    "    obj = sklearn.datasets._base.RemoteFileMetadata()\n",
    "    return obj\n"
   ]
  },
  {
   "cell_type": "code",
   "execution_count": null,
   "id": "spare-jungle",
   "metadata": {},
   "outputs": [],
   "source": [
    "# sklearn.datasets._base.RemoteFileMetadata.__getnewargs__\n",
    "try:\n",
    "    obj = class_constructor() # noqa F821\n",
    "    ret = obj.__getnewargs__()\n",
    "    type_sklearn_datasets__base_RemoteFileMetadata___getnewargs__ = getattr(ret, '__module__', 'none') + '.' + ret.__class__.__name__\n",
    "    print('✅ sklearn.datasets._base.RemoteFileMetadata.__getnewargs__: ', type(ret)) # noqa E501\n",
    "except Exception as e:\n",
    "    type_sklearn_datasets__base_RemoteFileMetadata___getnewargs__ = '_syft_missing'\n",
    "    print('❌ sklearn.datasets._base.RemoteFileMetadata.__getnewargs__: Return unavailable') # noqa E501\n",
    "    print(\"  Please fix this return type code until there is no exception\")\n",
    "    print('  Error:', e)\n"
   ]
  },
  {
   "cell_type": "code",
   "execution_count": null,
   "id": "quality-silly",
   "metadata": {},
   "outputs": [],
   "source": [
    "# sklearn.datasets._base.RemoteFileMetadata.__new__\n",
    "try:\n",
    "    obj = class_constructor() # noqa F821\n",
    "    ret = obj.__new__()\n",
    "    type_sklearn_datasets__base_RemoteFileMetadata___new__ = getattr(ret, '__module__', 'none') + '.' + ret.__class__.__name__\n",
    "    print('✅ sklearn.datasets._base.RemoteFileMetadata.__new__: ', type(ret)) # noqa E501\n",
    "except Exception as e:\n",
    "    type_sklearn_datasets__base_RemoteFileMetadata___new__ = '_syft_missing'\n",
    "    print('❌ sklearn.datasets._base.RemoteFileMetadata.__new__: Return unavailable') # noqa E501\n",
    "    print(\"  Please fix this return type code until there is no exception\")\n",
    "    print('  Error:', e)\n"
   ]
  },
  {
   "cell_type": "code",
   "execution_count": null,
   "id": "lonely-bundle",
   "metadata": {},
   "outputs": [],
   "source": [
    "# sklearn.datasets._base.RemoteFileMetadata.__repr__\n",
    "try:\n",
    "    obj = class_constructor() # noqa F821\n",
    "    ret = obj.__repr__()\n",
    "    type_sklearn_datasets__base_RemoteFileMetadata___repr__ = getattr(ret, '__module__', 'none') + '.' + ret.__class__.__name__\n",
    "    print('✅ sklearn.datasets._base.RemoteFileMetadata.__repr__: ', type(ret)) # noqa E501\n",
    "except Exception as e:\n",
    "    type_sklearn_datasets__base_RemoteFileMetadata___repr__ = '_syft_missing'\n",
    "    print('❌ sklearn.datasets._base.RemoteFileMetadata.__repr__: Return unavailable') # noqa E501\n",
    "    print(\"  Please fix this return type code until there is no exception\")\n",
    "    print('  Error:', e)\n"
   ]
  },
  {
   "cell_type": "code",
   "execution_count": null,
   "id": "missing-mechanism",
   "metadata": {},
   "outputs": [],
   "source": [
    "# sklearn.datasets._base.RemoteFileMetadata._asdict\n",
    "try:\n",
    "    obj = class_constructor() # noqa F821\n",
    "    ret = obj._asdict()\n",
    "    type_sklearn_datasets__base_RemoteFileMetadata__asdict = getattr(ret, '__module__', 'none') + '.' + ret.__class__.__name__\n",
    "    print('✅ sklearn.datasets._base.RemoteFileMetadata._asdict: ', type(ret)) # noqa E501\n",
    "except Exception as e:\n",
    "    type_sklearn_datasets__base_RemoteFileMetadata__asdict = '_syft_missing'\n",
    "    print('❌ sklearn.datasets._base.RemoteFileMetadata._asdict: Return unavailable') # noqa E501\n",
    "    print(\"  Please fix this return type code until there is no exception\")\n",
    "    print('  Error:', e)\n"
   ]
  },
  {
   "cell_type": "code",
   "execution_count": null,
   "id": "affiliated-administrator",
   "metadata": {},
   "outputs": [],
   "source": [
    "# sklearn.datasets._base.RemoteFileMetadata._make\n",
    "try:\n",
    "    obj = class_constructor() # noqa F821\n",
    "    ret = obj._make()\n",
    "    type_sklearn_datasets__base_RemoteFileMetadata__make = getattr(ret, '__module__', 'none') + '.' + ret.__class__.__name__\n",
    "    print('✅ sklearn.datasets._base.RemoteFileMetadata._make: ', type(ret)) # noqa E501\n",
    "except Exception as e:\n",
    "    type_sklearn_datasets__base_RemoteFileMetadata__make = '_syft_missing'\n",
    "    print('❌ sklearn.datasets._base.RemoteFileMetadata._make: Return unavailable') # noqa E501\n",
    "    print(\"  Please fix this return type code until there is no exception\")\n",
    "    print('  Error:', e)\n"
   ]
  },
  {
   "cell_type": "code",
   "execution_count": null,
   "id": "homeless-madison",
   "metadata": {},
   "outputs": [],
   "source": [
    "# sklearn.datasets._base.RemoteFileMetadata._replace\n",
    "try:\n",
    "    obj = class_constructor() # noqa F821\n",
    "    ret = obj._replace()\n",
    "    type_sklearn_datasets__base_RemoteFileMetadata__replace = getattr(ret, '__module__', 'none') + '.' + ret.__class__.__name__\n",
    "    print('✅ sklearn.datasets._base.RemoteFileMetadata._replace: ', type(ret)) # noqa E501\n",
    "except Exception as e:\n",
    "    type_sklearn_datasets__base_RemoteFileMetadata__replace = '_syft_missing'\n",
    "    print('❌ sklearn.datasets._base.RemoteFileMetadata._replace: Return unavailable') # noqa E501\n",
    "    print(\"  Please fix this return type code until there is no exception\")\n",
    "    print('  Error:', e)\n"
   ]
  }
 ],
 "metadata": {},
 "nbformat": 4,
 "nbformat_minor": 5
}
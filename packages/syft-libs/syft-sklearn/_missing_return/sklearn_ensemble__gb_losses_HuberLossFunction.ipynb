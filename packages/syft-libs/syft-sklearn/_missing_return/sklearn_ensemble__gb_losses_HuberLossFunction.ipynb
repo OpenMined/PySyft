{
 "cells": [
  {
   "cell_type": "markdown",
   "id": "juvenile-staff",
   "metadata": {},
   "source": [
    "## sklearn.ensemble._gb_losses.HuberLossFunction"
   ]
  },
  {
   "cell_type": "code",
   "execution_count": null,
   "id": "descending-scott",
   "metadata": {},
   "outputs": [],
   "source": [
    "import sklearn\n",
    "def class_constructor(*args, **kwargs):\n",
    "    obj = sklearn.ensemble._gb_losses.HuberLossFunction()\n",
    "    return obj\n"
   ]
  },
  {
   "cell_type": "code",
   "execution_count": null,
   "id": "special-affairs",
   "metadata": {},
   "outputs": [],
   "source": [
    "# sklearn.ensemble._gb_losses.HuberLossFunction.__call__\n",
    "try:\n",
    "    obj = class_constructor() # noqa F821\n",
    "    ret = obj.__call__()\n",
    "    type_sklearn_ensemble__gb_losses_HuberLossFunction___call__ = getattr(ret, '__module__', 'none') + '.' + ret.__class__.__name__\n",
    "    print('✅ sklearn.ensemble._gb_losses.HuberLossFunction.__call__: ', type(ret)) # noqa E501\n",
    "except Exception as e:\n",
    "    type_sklearn_ensemble__gb_losses_HuberLossFunction___call__ = '_syft_missing'\n",
    "    print('❌ sklearn.ensemble._gb_losses.HuberLossFunction.__call__: Return unavailable') # noqa E501\n",
    "    print(\"  Please fix this return type code until there is no exception\")\n",
    "    print('  Error:', e)\n"
   ]
  },
  {
   "cell_type": "code",
   "execution_count": null,
   "id": "worst-elite",
   "metadata": {},
   "outputs": [],
   "source": [
    "# sklearn.ensemble._gb_losses.HuberLossFunction._update_terminal_region\n",
    "try:\n",
    "    obj = class_constructor() # noqa F821\n",
    "    ret = obj._update_terminal_region()\n",
    "    type_sklearn_ensemble__gb_losses_HuberLossFunction__update_terminal_region = getattr(ret, '__module__', 'none') + '.' + ret.__class__.__name__\n",
    "    print('✅ sklearn.ensemble._gb_losses.HuberLossFunction._update_terminal_region: ', type(ret)) # noqa E501\n",
    "except Exception as e:\n",
    "    type_sklearn_ensemble__gb_losses_HuberLossFunction__update_terminal_region = '_syft_missing'\n",
    "    print('❌ sklearn.ensemble._gb_losses.HuberLossFunction._update_terminal_region: Return unavailable') # noqa E501\n",
    "    print(\"  Please fix this return type code until there is no exception\")\n",
    "    print('  Error:', e)\n"
   ]
  },
  {
   "cell_type": "code",
   "execution_count": null,
   "id": "alleged-hamburg",
   "metadata": {},
   "outputs": [],
   "source": [
    "# sklearn.ensemble._gb_losses.HuberLossFunction.check_init_estimator\n",
    "try:\n",
    "    obj = class_constructor() # noqa F821\n",
    "    ret = obj.check_init_estimator()\n",
    "    type_sklearn_ensemble__gb_losses_HuberLossFunction_check_init_estimator = getattr(ret, '__module__', 'none') + '.' + ret.__class__.__name__\n",
    "    print('✅ sklearn.ensemble._gb_losses.HuberLossFunction.check_init_estimator: ', type(ret)) # noqa E501\n",
    "except Exception as e:\n",
    "    type_sklearn_ensemble__gb_losses_HuberLossFunction_check_init_estimator = '_syft_missing'\n",
    "    print('❌ sklearn.ensemble._gb_losses.HuberLossFunction.check_init_estimator: Return unavailable') # noqa E501\n",
    "    print(\"  Please fix this return type code until there is no exception\")\n",
    "    print('  Error:', e)\n"
   ]
  },
  {
   "cell_type": "code",
   "execution_count": null,
   "id": "radical-prince",
   "metadata": {},
   "outputs": [],
   "source": [
    "# sklearn.ensemble._gb_losses.HuberLossFunction.get_init_raw_predictions\n",
    "try:\n",
    "    obj = class_constructor() # noqa F821\n",
    "    ret = obj.get_init_raw_predictions()\n",
    "    type_sklearn_ensemble__gb_losses_HuberLossFunction_get_init_raw_predictions = getattr(ret, '__module__', 'none') + '.' + ret.__class__.__name__\n",
    "    print('✅ sklearn.ensemble._gb_losses.HuberLossFunction.get_init_raw_predictions: ', type(ret)) # noqa E501\n",
    "except Exception as e:\n",
    "    type_sklearn_ensemble__gb_losses_HuberLossFunction_get_init_raw_predictions = '_syft_missing'\n",
    "    print('❌ sklearn.ensemble._gb_losses.HuberLossFunction.get_init_raw_predictions: Return unavailable') # noqa E501\n",
    "    print(\"  Please fix this return type code until there is no exception\")\n",
    "    print('  Error:', e)\n"
   ]
  },
  {
   "cell_type": "code",
   "execution_count": null,
   "id": "surface-recall",
   "metadata": {},
   "outputs": [],
   "source": [
    "# sklearn.ensemble._gb_losses.HuberLossFunction.init_estimator\n",
    "try:\n",
    "    obj = class_constructor() # noqa F821\n",
    "    ret = obj.init_estimator()\n",
    "    type_sklearn_ensemble__gb_losses_HuberLossFunction_init_estimator = getattr(ret, '__module__', 'none') + '.' + ret.__class__.__name__\n",
    "    print('✅ sklearn.ensemble._gb_losses.HuberLossFunction.init_estimator: ', type(ret)) # noqa E501\n",
    "except Exception as e:\n",
    "    type_sklearn_ensemble__gb_losses_HuberLossFunction_init_estimator = '_syft_missing'\n",
    "    print('❌ sklearn.ensemble._gb_losses.HuberLossFunction.init_estimator: Return unavailable') # noqa E501\n",
    "    print(\"  Please fix this return type code until there is no exception\")\n",
    "    print('  Error:', e)\n"
   ]
  },
  {
   "cell_type": "code",
   "execution_count": null,
   "id": "simple-disney",
   "metadata": {},
   "outputs": [],
   "source": [
    "# sklearn.ensemble._gb_losses.HuberLossFunction.negative_gradient\n",
    "try:\n",
    "    obj = class_constructor() # noqa F821\n",
    "    ret = obj.negative_gradient()\n",
    "    type_sklearn_ensemble__gb_losses_HuberLossFunction_negative_gradient = getattr(ret, '__module__', 'none') + '.' + ret.__class__.__name__\n",
    "    print('✅ sklearn.ensemble._gb_losses.HuberLossFunction.negative_gradient: ', type(ret)) # noqa E501\n",
    "except Exception as e:\n",
    "    type_sklearn_ensemble__gb_losses_HuberLossFunction_negative_gradient = '_syft_missing'\n",
    "    print('❌ sklearn.ensemble._gb_losses.HuberLossFunction.negative_gradient: Return unavailable') # noqa E501\n",
    "    print(\"  Please fix this return type code until there is no exception\")\n",
    "    print('  Error:', e)\n"
   ]
  },
  {
   "cell_type": "code",
   "execution_count": null,
   "id": "legendary-nothing",
   "metadata": {},
   "outputs": [],
   "source": [
    "# sklearn.ensemble._gb_losses.HuberLossFunction.update_terminal_regions\n",
    "try:\n",
    "    obj = class_constructor() # noqa F821\n",
    "    ret = obj.update_terminal_regions()\n",
    "    type_sklearn_ensemble__gb_losses_HuberLossFunction_update_terminal_regions = getattr(ret, '__module__', 'none') + '.' + ret.__class__.__name__\n",
    "    print('✅ sklearn.ensemble._gb_losses.HuberLossFunction.update_terminal_regions: ', type(ret)) # noqa E501\n",
    "except Exception as e:\n",
    "    type_sklearn_ensemble__gb_losses_HuberLossFunction_update_terminal_regions = '_syft_missing'\n",
    "    print('❌ sklearn.ensemble._gb_losses.HuberLossFunction.update_terminal_regions: Return unavailable') # noqa E501\n",
    "    print(\"  Please fix this return type code until there is no exception\")\n",
    "    print('  Error:', e)\n"
   ]
  }
 ],
 "metadata": {},
 "nbformat": 4,
 "nbformat_minor": 5
}
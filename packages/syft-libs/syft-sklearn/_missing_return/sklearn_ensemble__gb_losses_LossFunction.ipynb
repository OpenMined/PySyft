{
 "cells": [
  {
   "cell_type": "markdown",
   "id": "searching-chancellor",
   "metadata": {},
   "source": [
    "## sklearn.ensemble._gb_losses.LossFunction"
   ]
  },
  {
   "cell_type": "code",
   "execution_count": null,
   "id": "involved-vaccine",
   "metadata": {},
   "outputs": [],
   "source": [
    "import sklearn\n",
    "def class_constructor(*args, **kwargs):\n",
    "    obj = sklearn.ensemble._gb_losses.LossFunction()\n",
    "    return obj\n"
   ]
  },
  {
   "cell_type": "code",
   "execution_count": null,
   "id": "spread-undergraduate",
   "metadata": {},
   "outputs": [],
   "source": [
    "# sklearn.ensemble._gb_losses.LossFunction.__call__\n",
    "try:\n",
    "    obj = class_constructor() # noqa F821\n",
    "    ret = obj.__call__()\n",
    "    type_sklearn_ensemble__gb_losses_LossFunction___call__ = getattr(ret, '__module__', 'none') + '.' + ret.__class__.__name__\n",
    "    print('✅ sklearn.ensemble._gb_losses.LossFunction.__call__: ', type(ret)) # noqa E501\n",
    "except Exception as e:\n",
    "    type_sklearn_ensemble__gb_losses_LossFunction___call__ = '_syft_missing'\n",
    "    print('❌ sklearn.ensemble._gb_losses.LossFunction.__call__: Return unavailable') # noqa E501\n",
    "    print(\"  Please fix this return type code until there is no exception\")\n",
    "    print('  Error:', e)\n"
   ]
  },
  {
   "cell_type": "code",
   "execution_count": null,
   "id": "gross-religious",
   "metadata": {},
   "outputs": [],
   "source": [
    "# sklearn.ensemble._gb_losses.LossFunction._update_terminal_region\n",
    "try:\n",
    "    obj = class_constructor() # noqa F821\n",
    "    ret = obj._update_terminal_region()\n",
    "    type_sklearn_ensemble__gb_losses_LossFunction__update_terminal_region = getattr(ret, '__module__', 'none') + '.' + ret.__class__.__name__\n",
    "    print('✅ sklearn.ensemble._gb_losses.LossFunction._update_terminal_region: ', type(ret)) # noqa E501\n",
    "except Exception as e:\n",
    "    type_sklearn_ensemble__gb_losses_LossFunction__update_terminal_region = '_syft_missing'\n",
    "    print('❌ sklearn.ensemble._gb_losses.LossFunction._update_terminal_region: Return unavailable') # noqa E501\n",
    "    print(\"  Please fix this return type code until there is no exception\")\n",
    "    print('  Error:', e)\n"
   ]
  },
  {
   "cell_type": "code",
   "execution_count": null,
   "id": "lightweight-package",
   "metadata": {},
   "outputs": [],
   "source": [
    "# sklearn.ensemble._gb_losses.LossFunction.get_init_raw_predictions\n",
    "try:\n",
    "    obj = class_constructor() # noqa F821\n",
    "    ret = obj.get_init_raw_predictions()\n",
    "    type_sklearn_ensemble__gb_losses_LossFunction_get_init_raw_predictions = getattr(ret, '__module__', 'none') + '.' + ret.__class__.__name__\n",
    "    print('✅ sklearn.ensemble._gb_losses.LossFunction.get_init_raw_predictions: ', type(ret)) # noqa E501\n",
    "except Exception as e:\n",
    "    type_sklearn_ensemble__gb_losses_LossFunction_get_init_raw_predictions = '_syft_missing'\n",
    "    print('❌ sklearn.ensemble._gb_losses.LossFunction.get_init_raw_predictions: Return unavailable') # noqa E501\n",
    "    print(\"  Please fix this return type code until there is no exception\")\n",
    "    print('  Error:', e)\n"
   ]
  },
  {
   "cell_type": "code",
   "execution_count": null,
   "id": "smooth-telescope",
   "metadata": {},
   "outputs": [],
   "source": [
    "# sklearn.ensemble._gb_losses.LossFunction.init_estimator\n",
    "try:\n",
    "    obj = class_constructor() # noqa F821\n",
    "    ret = obj.init_estimator()\n",
    "    type_sklearn_ensemble__gb_losses_LossFunction_init_estimator = getattr(ret, '__module__', 'none') + '.' + ret.__class__.__name__\n",
    "    print('✅ sklearn.ensemble._gb_losses.LossFunction.init_estimator: ', type(ret)) # noqa E501\n",
    "except Exception as e:\n",
    "    type_sklearn_ensemble__gb_losses_LossFunction_init_estimator = '_syft_missing'\n",
    "    print('❌ sklearn.ensemble._gb_losses.LossFunction.init_estimator: Return unavailable') # noqa E501\n",
    "    print(\"  Please fix this return type code until there is no exception\")\n",
    "    print('  Error:', e)\n"
   ]
  },
  {
   "cell_type": "code",
   "execution_count": null,
   "id": "distant-insight",
   "metadata": {},
   "outputs": [],
   "source": [
    "# sklearn.ensemble._gb_losses.LossFunction.negative_gradient\n",
    "try:\n",
    "    obj = class_constructor() # noqa F821\n",
    "    ret = obj.negative_gradient()\n",
    "    type_sklearn_ensemble__gb_losses_LossFunction_negative_gradient = getattr(ret, '__module__', 'none') + '.' + ret.__class__.__name__\n",
    "    print('✅ sklearn.ensemble._gb_losses.LossFunction.negative_gradient: ', type(ret)) # noqa E501\n",
    "except Exception as e:\n",
    "    type_sklearn_ensemble__gb_losses_LossFunction_negative_gradient = '_syft_missing'\n",
    "    print('❌ sklearn.ensemble._gb_losses.LossFunction.negative_gradient: Return unavailable') # noqa E501\n",
    "    print(\"  Please fix this return type code until there is no exception\")\n",
    "    print('  Error:', e)\n"
   ]
  },
  {
   "cell_type": "code",
   "execution_count": null,
   "id": "severe-fifteen",
   "metadata": {},
   "outputs": [],
   "source": [
    "# sklearn.ensemble._gb_losses.LossFunction.update_terminal_regions\n",
    "try:\n",
    "    obj = class_constructor() # noqa F821\n",
    "    ret = obj.update_terminal_regions()\n",
    "    type_sklearn_ensemble__gb_losses_LossFunction_update_terminal_regions = getattr(ret, '__module__', 'none') + '.' + ret.__class__.__name__\n",
    "    print('✅ sklearn.ensemble._gb_losses.LossFunction.update_terminal_regions: ', type(ret)) # noqa E501\n",
    "except Exception as e:\n",
    "    type_sklearn_ensemble__gb_losses_LossFunction_update_terminal_regions = '_syft_missing'\n",
    "    print('❌ sklearn.ensemble._gb_losses.LossFunction.update_terminal_regions: Return unavailable') # noqa E501\n",
    "    print(\"  Please fix this return type code until there is no exception\")\n",
    "    print('  Error:', e)\n"
   ]
  }
 ],
 "metadata": {},
 "nbformat": 4,
 "nbformat_minor": 5
}
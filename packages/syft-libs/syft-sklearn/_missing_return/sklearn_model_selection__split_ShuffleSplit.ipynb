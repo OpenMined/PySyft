{
 "cells": [
  {
   "cell_type": "markdown",
   "id": "identified-sponsorship",
   "metadata": {},
   "source": [
    "## sklearn.model_selection._split.ShuffleSplit"
   ]
  },
  {
   "cell_type": "code",
   "execution_count": null,
   "id": "vietnamese-premises",
   "metadata": {},
   "outputs": [],
   "source": [
    "import sklearn\n",
    "def class_constructor(*args, **kwargs):\n",
    "    obj = sklearn.model_selection._split.ShuffleSplit()\n",
    "    return obj\n"
   ]
  },
  {
   "cell_type": "code",
   "execution_count": null,
   "id": "provincial-partner",
   "metadata": {},
   "outputs": [],
   "source": [
    "# sklearn.model_selection._split.ShuffleSplit.__repr__\n",
    "try:\n",
    "    obj = class_constructor() # noqa F821\n",
    "    ret = obj.__repr__()\n",
    "    type_sklearn_model_selection__split_ShuffleSplit___repr__ = getattr(ret, '__module__', 'none') + '.' + ret.__class__.__name__\n",
    "    print('✅ sklearn.model_selection._split.ShuffleSplit.__repr__: ', type(ret)) # noqa E501\n",
    "except Exception as e:\n",
    "    type_sklearn_model_selection__split_ShuffleSplit___repr__ = '_syft_missing'\n",
    "    print('❌ sklearn.model_selection._split.ShuffleSplit.__repr__: Return unavailable') # noqa E501\n",
    "    print(\"  Please fix this return type code until there is no exception\")\n",
    "    print('  Error:', e)\n"
   ]
  },
  {
   "cell_type": "code",
   "execution_count": null,
   "id": "needed-signal",
   "metadata": {},
   "outputs": [],
   "source": [
    "# sklearn.model_selection._split.ShuffleSplit._iter_indices\n",
    "try:\n",
    "    obj = class_constructor() # noqa F821\n",
    "    ret = obj._iter_indices()\n",
    "    type_sklearn_model_selection__split_ShuffleSplit__iter_indices = getattr(ret, '__module__', 'none') + '.' + ret.__class__.__name__\n",
    "    print('✅ sklearn.model_selection._split.ShuffleSplit._iter_indices: ', type(ret)) # noqa E501\n",
    "except Exception as e:\n",
    "    type_sklearn_model_selection__split_ShuffleSplit__iter_indices = '_syft_missing'\n",
    "    print('❌ sklearn.model_selection._split.ShuffleSplit._iter_indices: Return unavailable') # noqa E501\n",
    "    print(\"  Please fix this return type code until there is no exception\")\n",
    "    print('  Error:', e)\n"
   ]
  },
  {
   "cell_type": "code",
   "execution_count": null,
   "id": "provincial-judgment",
   "metadata": {},
   "outputs": [],
   "source": [
    "# sklearn.model_selection._split.ShuffleSplit.get_n_splits\n",
    "try:\n",
    "    obj = class_constructor() # noqa F821\n",
    "    ret = obj.get_n_splits()\n",
    "    type_sklearn_model_selection__split_ShuffleSplit_get_n_splits = getattr(ret, '__module__', 'none') + '.' + ret.__class__.__name__\n",
    "    print('✅ sklearn.model_selection._split.ShuffleSplit.get_n_splits: ', type(ret)) # noqa E501\n",
    "except Exception as e:\n",
    "    type_sklearn_model_selection__split_ShuffleSplit_get_n_splits = '_syft_missing'\n",
    "    print('❌ sklearn.model_selection._split.ShuffleSplit.get_n_splits: Return unavailable') # noqa E501\n",
    "    print(\"  Please fix this return type code until there is no exception\")\n",
    "    print('  Error:', e)\n"
   ]
  },
  {
   "cell_type": "code",
   "execution_count": null,
   "id": "resistant-battlefield",
   "metadata": {},
   "outputs": [],
   "source": [
    "# sklearn.model_selection._split.ShuffleSplit.split\n",
    "try:\n",
    "    obj = class_constructor() # noqa F821\n",
    "    ret = obj.split()\n",
    "    type_sklearn_model_selection__split_ShuffleSplit_split = getattr(ret, '__module__', 'none') + '.' + ret.__class__.__name__\n",
    "    print('✅ sklearn.model_selection._split.ShuffleSplit.split: ', type(ret)) # noqa E501\n",
    "except Exception as e:\n",
    "    type_sklearn_model_selection__split_ShuffleSplit_split = '_syft_missing'\n",
    "    print('❌ sklearn.model_selection._split.ShuffleSplit.split: Return unavailable') # noqa E501\n",
    "    print(\"  Please fix this return type code until there is no exception\")\n",
    "    print('  Error:', e)\n"
   ]
  }
 ],
 "metadata": {},
 "nbformat": 4,
 "nbformat_minor": 5
}
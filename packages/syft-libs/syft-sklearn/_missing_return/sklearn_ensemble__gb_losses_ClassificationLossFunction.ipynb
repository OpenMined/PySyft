{
 "cells": [
  {
   "cell_type": "markdown",
   "id": "nutritional-flight",
   "metadata": {},
   "source": [
    "## sklearn.ensemble._gb_losses.ClassificationLossFunction"
   ]
  },
  {
   "cell_type": "code",
   "execution_count": null,
   "id": "final-concept",
   "metadata": {},
   "outputs": [],
   "source": [
    "import sklearn\n",
    "def class_constructor(*args, **kwargs):\n",
    "    obj = sklearn.ensemble._gb_losses.ClassificationLossFunction()\n",
    "    return obj\n"
   ]
  },
  {
   "cell_type": "code",
   "execution_count": null,
   "id": "advanced-services",
   "metadata": {},
   "outputs": [],
   "source": [
    "# sklearn.ensemble._gb_losses.ClassificationLossFunction.__call__\n",
    "try:\n",
    "    obj = class_constructor() # noqa F821\n",
    "    ret = obj.__call__()\n",
    "    type_sklearn_ensemble__gb_losses_ClassificationLossFunction___call__ = getattr(ret, '__module__', 'none') + '.' + ret.__class__.__name__\n",
    "    print('✅ sklearn.ensemble._gb_losses.ClassificationLossFunction.__call__: ', type(ret)) # noqa E501\n",
    "except Exception as e:\n",
    "    type_sklearn_ensemble__gb_losses_ClassificationLossFunction___call__ = '_syft_missing'\n",
    "    print('❌ sklearn.ensemble._gb_losses.ClassificationLossFunction.__call__: Return unavailable') # noqa E501\n",
    "    print(\"  Please fix this return type code until there is no exception\")\n",
    "    print('  Error:', e)\n"
   ]
  },
  {
   "cell_type": "code",
   "execution_count": null,
   "id": "welcome-fight",
   "metadata": {},
   "outputs": [],
   "source": [
    "# sklearn.ensemble._gb_losses.ClassificationLossFunction._raw_prediction_to_decision\n",
    "try:\n",
    "    obj = class_constructor() # noqa F821\n",
    "    ret = obj._raw_prediction_to_decision()\n",
    "    type_sklearn_ensemble__gb_losses_ClassificationLossFunction__raw_prediction_to_decision = getattr(ret, '__module__', 'none') + '.' + ret.__class__.__name__\n",
    "    print('✅ sklearn.ensemble._gb_losses.ClassificationLossFunction._raw_prediction_to_decision: ', type(ret)) # noqa E501\n",
    "except Exception as e:\n",
    "    type_sklearn_ensemble__gb_losses_ClassificationLossFunction__raw_prediction_to_decision = '_syft_missing'\n",
    "    print('❌ sklearn.ensemble._gb_losses.ClassificationLossFunction._raw_prediction_to_decision: Return unavailable') # noqa E501\n",
    "    print(\"  Please fix this return type code until there is no exception\")\n",
    "    print('  Error:', e)\n"
   ]
  },
  {
   "cell_type": "code",
   "execution_count": null,
   "id": "raising-laser",
   "metadata": {},
   "outputs": [],
   "source": [
    "# sklearn.ensemble._gb_losses.ClassificationLossFunction._raw_prediction_to_proba\n",
    "try:\n",
    "    obj = class_constructor() # noqa F821\n",
    "    ret = obj._raw_prediction_to_proba()\n",
    "    type_sklearn_ensemble__gb_losses_ClassificationLossFunction__raw_prediction_to_proba = getattr(ret, '__module__', 'none') + '.' + ret.__class__.__name__\n",
    "    print('✅ sklearn.ensemble._gb_losses.ClassificationLossFunction._raw_prediction_to_proba: ', type(ret)) # noqa E501\n",
    "except Exception as e:\n",
    "    type_sklearn_ensemble__gb_losses_ClassificationLossFunction__raw_prediction_to_proba = '_syft_missing'\n",
    "    print('❌ sklearn.ensemble._gb_losses.ClassificationLossFunction._raw_prediction_to_proba: Return unavailable') # noqa E501\n",
    "    print(\"  Please fix this return type code until there is no exception\")\n",
    "    print('  Error:', e)\n"
   ]
  },
  {
   "cell_type": "code",
   "execution_count": null,
   "id": "afraid-hydrogen",
   "metadata": {},
   "outputs": [],
   "source": [
    "# sklearn.ensemble._gb_losses.ClassificationLossFunction._update_terminal_region\n",
    "try:\n",
    "    obj = class_constructor() # noqa F821\n",
    "    ret = obj._update_terminal_region()\n",
    "    type_sklearn_ensemble__gb_losses_ClassificationLossFunction__update_terminal_region = getattr(ret, '__module__', 'none') + '.' + ret.__class__.__name__\n",
    "    print('✅ sklearn.ensemble._gb_losses.ClassificationLossFunction._update_terminal_region: ', type(ret)) # noqa E501\n",
    "except Exception as e:\n",
    "    type_sklearn_ensemble__gb_losses_ClassificationLossFunction__update_terminal_region = '_syft_missing'\n",
    "    print('❌ sklearn.ensemble._gb_losses.ClassificationLossFunction._update_terminal_region: Return unavailable') # noqa E501\n",
    "    print(\"  Please fix this return type code until there is no exception\")\n",
    "    print('  Error:', e)\n"
   ]
  },
  {
   "cell_type": "code",
   "execution_count": null,
   "id": "destroyed-place",
   "metadata": {},
   "outputs": [],
   "source": [
    "# sklearn.ensemble._gb_losses.ClassificationLossFunction.check_init_estimator\n",
    "try:\n",
    "    obj = class_constructor() # noqa F821\n",
    "    ret = obj.check_init_estimator()\n",
    "    type_sklearn_ensemble__gb_losses_ClassificationLossFunction_check_init_estimator = getattr(ret, '__module__', 'none') + '.' + ret.__class__.__name__\n",
    "    print('✅ sklearn.ensemble._gb_losses.ClassificationLossFunction.check_init_estimator: ', type(ret)) # noqa E501\n",
    "except Exception as e:\n",
    "    type_sklearn_ensemble__gb_losses_ClassificationLossFunction_check_init_estimator = '_syft_missing'\n",
    "    print('❌ sklearn.ensemble._gb_losses.ClassificationLossFunction.check_init_estimator: Return unavailable') # noqa E501\n",
    "    print(\"  Please fix this return type code until there is no exception\")\n",
    "    print('  Error:', e)\n"
   ]
  },
  {
   "cell_type": "code",
   "execution_count": null,
   "id": "thrown-disco",
   "metadata": {},
   "outputs": [],
   "source": [
    "# sklearn.ensemble._gb_losses.ClassificationLossFunction.get_init_raw_predictions\n",
    "try:\n",
    "    obj = class_constructor() # noqa F821\n",
    "    ret = obj.get_init_raw_predictions()\n",
    "    type_sklearn_ensemble__gb_losses_ClassificationLossFunction_get_init_raw_predictions = getattr(ret, '__module__', 'none') + '.' + ret.__class__.__name__\n",
    "    print('✅ sklearn.ensemble._gb_losses.ClassificationLossFunction.get_init_raw_predictions: ', type(ret)) # noqa E501\n",
    "except Exception as e:\n",
    "    type_sklearn_ensemble__gb_losses_ClassificationLossFunction_get_init_raw_predictions = '_syft_missing'\n",
    "    print('❌ sklearn.ensemble._gb_losses.ClassificationLossFunction.get_init_raw_predictions: Return unavailable') # noqa E501\n",
    "    print(\"  Please fix this return type code until there is no exception\")\n",
    "    print('  Error:', e)\n"
   ]
  },
  {
   "cell_type": "code",
   "execution_count": null,
   "id": "infrared-intent",
   "metadata": {},
   "outputs": [],
   "source": [
    "# sklearn.ensemble._gb_losses.ClassificationLossFunction.init_estimator\n",
    "try:\n",
    "    obj = class_constructor() # noqa F821\n",
    "    ret = obj.init_estimator()\n",
    "    type_sklearn_ensemble__gb_losses_ClassificationLossFunction_init_estimator = getattr(ret, '__module__', 'none') + '.' + ret.__class__.__name__\n",
    "    print('✅ sklearn.ensemble._gb_losses.ClassificationLossFunction.init_estimator: ', type(ret)) # noqa E501\n",
    "except Exception as e:\n",
    "    type_sklearn_ensemble__gb_losses_ClassificationLossFunction_init_estimator = '_syft_missing'\n",
    "    print('❌ sklearn.ensemble._gb_losses.ClassificationLossFunction.init_estimator: Return unavailable') # noqa E501\n",
    "    print(\"  Please fix this return type code until there is no exception\")\n",
    "    print('  Error:', e)\n"
   ]
  },
  {
   "cell_type": "code",
   "execution_count": null,
   "id": "raising-collins",
   "metadata": {},
   "outputs": [],
   "source": [
    "# sklearn.ensemble._gb_losses.ClassificationLossFunction.negative_gradient\n",
    "try:\n",
    "    obj = class_constructor() # noqa F821\n",
    "    ret = obj.negative_gradient()\n",
    "    type_sklearn_ensemble__gb_losses_ClassificationLossFunction_negative_gradient = getattr(ret, '__module__', 'none') + '.' + ret.__class__.__name__\n",
    "    print('✅ sklearn.ensemble._gb_losses.ClassificationLossFunction.negative_gradient: ', type(ret)) # noqa E501\n",
    "except Exception as e:\n",
    "    type_sklearn_ensemble__gb_losses_ClassificationLossFunction_negative_gradient = '_syft_missing'\n",
    "    print('❌ sklearn.ensemble._gb_losses.ClassificationLossFunction.negative_gradient: Return unavailable') # noqa E501\n",
    "    print(\"  Please fix this return type code until there is no exception\")\n",
    "    print('  Error:', e)\n"
   ]
  },
  {
   "cell_type": "code",
   "execution_count": null,
   "id": "located-mechanism",
   "metadata": {},
   "outputs": [],
   "source": [
    "# sklearn.ensemble._gb_losses.ClassificationLossFunction.update_terminal_regions\n",
    "try:\n",
    "    obj = class_constructor() # noqa F821\n",
    "    ret = obj.update_terminal_regions()\n",
    "    type_sklearn_ensemble__gb_losses_ClassificationLossFunction_update_terminal_regions = getattr(ret, '__module__', 'none') + '.' + ret.__class__.__name__\n",
    "    print('✅ sklearn.ensemble._gb_losses.ClassificationLossFunction.update_terminal_regions: ', type(ret)) # noqa E501\n",
    "except Exception as e:\n",
    "    type_sklearn_ensemble__gb_losses_ClassificationLossFunction_update_terminal_regions = '_syft_missing'\n",
    "    print('❌ sklearn.ensemble._gb_losses.ClassificationLossFunction.update_terminal_regions: Return unavailable') # noqa E501\n",
    "    print(\"  Please fix this return type code until there is no exception\")\n",
    "    print('  Error:', e)\n"
   ]
  }
 ],
 "metadata": {},
 "nbformat": 4,
 "nbformat_minor": 5
}
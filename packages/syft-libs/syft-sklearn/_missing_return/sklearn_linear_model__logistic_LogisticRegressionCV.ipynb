{
 "cells": [
  {
   "cell_type": "markdown",
   "id": "renewable-richards",
   "metadata": {},
   "source": [
    "## sklearn.linear_model._logistic.LogisticRegressionCV"
   ]
  },
  {
   "cell_type": "code",
   "execution_count": null,
   "id": "occupational-brook",
   "metadata": {},
   "outputs": [],
   "source": [
    "import sklearn\n",
    "def class_constructor(*args, **kwargs):\n",
    "    obj = sklearn.linear_model._logistic.LogisticRegressionCV()\n",
    "    return obj\n"
   ]
  },
  {
   "cell_type": "code",
   "execution_count": null,
   "id": "spatial-proportion",
   "metadata": {},
   "outputs": [],
   "source": [
    "# sklearn.linear_model._logistic.LogisticRegressionCV.__getstate__\n",
    "try:\n",
    "    obj = class_constructor() # noqa F821\n",
    "    ret = obj.__getstate__()\n",
    "    type_sklearn_linear_model__logistic_LogisticRegressionCV___getstate__ = getattr(ret, '__module__', 'none') + '.' + ret.__class__.__name__\n",
    "    print('✅ sklearn.linear_model._logistic.LogisticRegressionCV.__getstate__: ', type(ret)) # noqa E501\n",
    "except Exception as e:\n",
    "    type_sklearn_linear_model__logistic_LogisticRegressionCV___getstate__ = '_syft_missing'\n",
    "    print('❌ sklearn.linear_model._logistic.LogisticRegressionCV.__getstate__: Return unavailable') # noqa E501\n",
    "    print(\"  Please fix this return type code until there is no exception\")\n",
    "    print('  Error:', e)\n"
   ]
  },
  {
   "cell_type": "code",
   "execution_count": null,
   "id": "reverse-gender",
   "metadata": {},
   "outputs": [],
   "source": [
    "# sklearn.linear_model._logistic.LogisticRegressionCV.__repr__\n",
    "try:\n",
    "    obj = class_constructor() # noqa F821\n",
    "    ret = obj.__repr__()\n",
    "    type_sklearn_linear_model__logistic_LogisticRegressionCV___repr__ = getattr(ret, '__module__', 'none') + '.' + ret.__class__.__name__\n",
    "    print('✅ sklearn.linear_model._logistic.LogisticRegressionCV.__repr__: ', type(ret)) # noqa E501\n",
    "except Exception as e:\n",
    "    type_sklearn_linear_model__logistic_LogisticRegressionCV___repr__ = '_syft_missing'\n",
    "    print('❌ sklearn.linear_model._logistic.LogisticRegressionCV.__repr__: Return unavailable') # noqa E501\n",
    "    print(\"  Please fix this return type code until there is no exception\")\n",
    "    print('  Error:', e)\n"
   ]
  },
  {
   "cell_type": "code",
   "execution_count": null,
   "id": "sticky-parent",
   "metadata": {},
   "outputs": [],
   "source": [
    "# sklearn.linear_model._logistic.LogisticRegressionCV.__setstate__\n",
    "try:\n",
    "    obj = class_constructor() # noqa F821\n",
    "    ret = obj.__setstate__()\n",
    "    type_sklearn_linear_model__logistic_LogisticRegressionCV___setstate__ = getattr(ret, '__module__', 'none') + '.' + ret.__class__.__name__\n",
    "    print('✅ sklearn.linear_model._logistic.LogisticRegressionCV.__setstate__: ', type(ret)) # noqa E501\n",
    "except Exception as e:\n",
    "    type_sklearn_linear_model__logistic_LogisticRegressionCV___setstate__ = '_syft_missing'\n",
    "    print('❌ sklearn.linear_model._logistic.LogisticRegressionCV.__setstate__: Return unavailable') # noqa E501\n",
    "    print(\"  Please fix this return type code until there is no exception\")\n",
    "    print('  Error:', e)\n"
   ]
  },
  {
   "cell_type": "code",
   "execution_count": null,
   "id": "verbal-juvenile",
   "metadata": {},
   "outputs": [],
   "source": [
    "# sklearn.linear_model._logistic.LogisticRegressionCV._check_n_features\n",
    "try:\n",
    "    obj = class_constructor() # noqa F821\n",
    "    ret = obj._check_n_features()\n",
    "    type_sklearn_linear_model__logistic_LogisticRegressionCV__check_n_features = getattr(ret, '__module__', 'none') + '.' + ret.__class__.__name__\n",
    "    print('✅ sklearn.linear_model._logistic.LogisticRegressionCV._check_n_features: ', type(ret)) # noqa E501\n",
    "except Exception as e:\n",
    "    type_sklearn_linear_model__logistic_LogisticRegressionCV__check_n_features = '_syft_missing'\n",
    "    print('❌ sklearn.linear_model._logistic.LogisticRegressionCV._check_n_features: Return unavailable') # noqa E501\n",
    "    print(\"  Please fix this return type code until there is no exception\")\n",
    "    print('  Error:', e)\n"
   ]
  },
  {
   "cell_type": "code",
   "execution_count": null,
   "id": "norwegian-extraction",
   "metadata": {},
   "outputs": [],
   "source": [
    "# sklearn.linear_model._logistic.LogisticRegressionCV._get_param_names\n",
    "try:\n",
    "    obj = class_constructor() # noqa F821\n",
    "    ret = obj._get_param_names()\n",
    "    type_sklearn_linear_model__logistic_LogisticRegressionCV__get_param_names = getattr(ret, '__module__', 'none') + '.' + ret.__class__.__name__\n",
    "    print('✅ sklearn.linear_model._logistic.LogisticRegressionCV._get_param_names: ', type(ret)) # noqa E501\n",
    "except Exception as e:\n",
    "    type_sklearn_linear_model__logistic_LogisticRegressionCV__get_param_names = '_syft_missing'\n",
    "    print('❌ sklearn.linear_model._logistic.LogisticRegressionCV._get_param_names: Return unavailable') # noqa E501\n",
    "    print(\"  Please fix this return type code until there is no exception\")\n",
    "    print('  Error:', e)\n"
   ]
  },
  {
   "cell_type": "code",
   "execution_count": null,
   "id": "bridal-lexington",
   "metadata": {},
   "outputs": [],
   "source": [
    "# sklearn.linear_model._logistic.LogisticRegressionCV._get_tags\n",
    "try:\n",
    "    obj = class_constructor() # noqa F821\n",
    "    ret = obj._get_tags()\n",
    "    type_sklearn_linear_model__logistic_LogisticRegressionCV__get_tags = getattr(ret, '__module__', 'none') + '.' + ret.__class__.__name__\n",
    "    print('✅ sklearn.linear_model._logistic.LogisticRegressionCV._get_tags: ', type(ret)) # noqa E501\n",
    "except Exception as e:\n",
    "    type_sklearn_linear_model__logistic_LogisticRegressionCV__get_tags = '_syft_missing'\n",
    "    print('❌ sklearn.linear_model._logistic.LogisticRegressionCV._get_tags: Return unavailable') # noqa E501\n",
    "    print(\"  Please fix this return type code until there is no exception\")\n",
    "    print('  Error:', e)\n"
   ]
  },
  {
   "cell_type": "code",
   "execution_count": null,
   "id": "bright-forum",
   "metadata": {},
   "outputs": [],
   "source": [
    "# sklearn.linear_model._logistic.LogisticRegressionCV._more_tags\n",
    "try:\n",
    "    obj = class_constructor() # noqa F821\n",
    "    ret = obj._more_tags()\n",
    "    type_sklearn_linear_model__logistic_LogisticRegressionCV__more_tags = getattr(ret, '__module__', 'none') + '.' + ret.__class__.__name__\n",
    "    print('✅ sklearn.linear_model._logistic.LogisticRegressionCV._more_tags: ', type(ret)) # noqa E501\n",
    "except Exception as e:\n",
    "    type_sklearn_linear_model__logistic_LogisticRegressionCV__more_tags = '_syft_missing'\n",
    "    print('❌ sklearn.linear_model._logistic.LogisticRegressionCV._more_tags: Return unavailable') # noqa E501\n",
    "    print(\"  Please fix this return type code until there is no exception\")\n",
    "    print('  Error:', e)\n"
   ]
  },
  {
   "cell_type": "code",
   "execution_count": null,
   "id": "consolidated-adventure",
   "metadata": {},
   "outputs": [],
   "source": [
    "# sklearn.linear_model._logistic.LogisticRegressionCV._predict_proba_lr\n",
    "try:\n",
    "    obj = class_constructor() # noqa F821\n",
    "    ret = obj._predict_proba_lr()\n",
    "    type_sklearn_linear_model__logistic_LogisticRegressionCV__predict_proba_lr = getattr(ret, '__module__', 'none') + '.' + ret.__class__.__name__\n",
    "    print('✅ sklearn.linear_model._logistic.LogisticRegressionCV._predict_proba_lr: ', type(ret)) # noqa E501\n",
    "except Exception as e:\n",
    "    type_sklearn_linear_model__logistic_LogisticRegressionCV__predict_proba_lr = '_syft_missing'\n",
    "    print('❌ sklearn.linear_model._logistic.LogisticRegressionCV._predict_proba_lr: Return unavailable') # noqa E501\n",
    "    print(\"  Please fix this return type code until there is no exception\")\n",
    "    print('  Error:', e)\n"
   ]
  },
  {
   "cell_type": "code",
   "execution_count": null,
   "id": "stylish-selling",
   "metadata": {},
   "outputs": [],
   "source": [
    "# sklearn.linear_model._logistic.LogisticRegressionCV._repr_html_\n",
    "try:\n",
    "    obj = class_constructor()\n",
    "    ret = obj._repr_html_\n",
    "    type_sklearn_linear_model__logistic_LogisticRegressionCV__repr_html_ = getattr(ret, '__module__', 'none') + '.' + ret.__class__.__name__\n",
    "    print('✅ sklearn.linear_model._logistic.LogisticRegressionCV._repr_html_:', type(ret)) # noqa E501\n",
    "except Exception as e:\n",
    "    type_sklearn_linear_model__logistic_LogisticRegressionCV__repr_html_ = '_syft_missing'\n",
    "    print('❌ sklearn.linear_model._logistic.LogisticRegressionCV._repr_html_: Return unavailable') # noqa E501\n",
    "    print(\"  Please fix this return type code until there is no exception\")\n",
    "    print('  Error:', e)\n"
   ]
  },
  {
   "cell_type": "code",
   "execution_count": null,
   "id": "saving-force",
   "metadata": {},
   "outputs": [],
   "source": [
    "# sklearn.linear_model._logistic.LogisticRegressionCV._repr_html_inner\n",
    "try:\n",
    "    obj = class_constructor() # noqa F821\n",
    "    ret = obj._repr_html_inner()\n",
    "    type_sklearn_linear_model__logistic_LogisticRegressionCV__repr_html_inner = getattr(ret, '__module__', 'none') + '.' + ret.__class__.__name__\n",
    "    print('✅ sklearn.linear_model._logistic.LogisticRegressionCV._repr_html_inner: ', type(ret)) # noqa E501\n",
    "except Exception as e:\n",
    "    type_sklearn_linear_model__logistic_LogisticRegressionCV__repr_html_inner = '_syft_missing'\n",
    "    print('❌ sklearn.linear_model._logistic.LogisticRegressionCV._repr_html_inner: Return unavailable') # noqa E501\n",
    "    print(\"  Please fix this return type code until there is no exception\")\n",
    "    print('  Error:', e)\n"
   ]
  },
  {
   "cell_type": "code",
   "execution_count": null,
   "id": "complex-nurse",
   "metadata": {},
   "outputs": [],
   "source": [
    "# sklearn.linear_model._logistic.LogisticRegressionCV._repr_mimebundle_\n",
    "try:\n",
    "    obj = class_constructor() # noqa F821\n",
    "    ret = obj._repr_mimebundle_()\n",
    "    type_sklearn_linear_model__logistic_LogisticRegressionCV__repr_mimebundle_ = getattr(ret, '__module__', 'none') + '.' + ret.__class__.__name__\n",
    "    print('✅ sklearn.linear_model._logistic.LogisticRegressionCV._repr_mimebundle_: ', type(ret)) # noqa E501\n",
    "except Exception as e:\n",
    "    type_sklearn_linear_model__logistic_LogisticRegressionCV__repr_mimebundle_ = '_syft_missing'\n",
    "    print('❌ sklearn.linear_model._logistic.LogisticRegressionCV._repr_mimebundle_: Return unavailable') # noqa E501\n",
    "    print(\"  Please fix this return type code until there is no exception\")\n",
    "    print('  Error:', e)\n"
   ]
  },
  {
   "cell_type": "code",
   "execution_count": null,
   "id": "trained-sample",
   "metadata": {},
   "outputs": [],
   "source": [
    "# sklearn.linear_model._logistic.LogisticRegressionCV._validate_data\n",
    "try:\n",
    "    obj = class_constructor() # noqa F821\n",
    "    ret = obj._validate_data()\n",
    "    type_sklearn_linear_model__logistic_LogisticRegressionCV__validate_data = getattr(ret, '__module__', 'none') + '.' + ret.__class__.__name__\n",
    "    print('✅ sklearn.linear_model._logistic.LogisticRegressionCV._validate_data: ', type(ret)) # noqa E501\n",
    "except Exception as e:\n",
    "    type_sklearn_linear_model__logistic_LogisticRegressionCV__validate_data = '_syft_missing'\n",
    "    print('❌ sklearn.linear_model._logistic.LogisticRegressionCV._validate_data: Return unavailable') # noqa E501\n",
    "    print(\"  Please fix this return type code until there is no exception\")\n",
    "    print('  Error:', e)\n"
   ]
  },
  {
   "cell_type": "code",
   "execution_count": null,
   "id": "unlike-relevance",
   "metadata": {},
   "outputs": [],
   "source": [
    "# sklearn.linear_model._logistic.LogisticRegressionCV.decision_function\n",
    "try:\n",
    "    obj = class_constructor() # noqa F821\n",
    "    ret = obj.decision_function()\n",
    "    type_sklearn_linear_model__logistic_LogisticRegressionCV_decision_function = getattr(ret, '__module__', 'none') + '.' + ret.__class__.__name__\n",
    "    print('✅ sklearn.linear_model._logistic.LogisticRegressionCV.decision_function: ', type(ret)) # noqa E501\n",
    "except Exception as e:\n",
    "    type_sklearn_linear_model__logistic_LogisticRegressionCV_decision_function = '_syft_missing'\n",
    "    print('❌ sklearn.linear_model._logistic.LogisticRegressionCV.decision_function: Return unavailable') # noqa E501\n",
    "    print(\"  Please fix this return type code until there is no exception\")\n",
    "    print('  Error:', e)\n"
   ]
  },
  {
   "cell_type": "code",
   "execution_count": null,
   "id": "infrared-breach",
   "metadata": {},
   "outputs": [],
   "source": [
    "# sklearn.linear_model._logistic.LogisticRegressionCV.densify\n",
    "try:\n",
    "    obj = class_constructor() # noqa F821\n",
    "    ret = obj.densify()\n",
    "    type_sklearn_linear_model__logistic_LogisticRegressionCV_densify = getattr(ret, '__module__', 'none') + '.' + ret.__class__.__name__\n",
    "    print('✅ sklearn.linear_model._logistic.LogisticRegressionCV.densify: ', type(ret)) # noqa E501\n",
    "except Exception as e:\n",
    "    type_sklearn_linear_model__logistic_LogisticRegressionCV_densify = '_syft_missing'\n",
    "    print('❌ sklearn.linear_model._logistic.LogisticRegressionCV.densify: Return unavailable') # noqa E501\n",
    "    print(\"  Please fix this return type code until there is no exception\")\n",
    "    print('  Error:', e)\n"
   ]
  },
  {
   "cell_type": "code",
   "execution_count": null,
   "id": "strong-switch",
   "metadata": {},
   "outputs": [],
   "source": [
    "# sklearn.linear_model._logistic.LogisticRegressionCV.fit\n",
    "try:\n",
    "    obj = class_constructor() # noqa F821\n",
    "    ret = obj.fit()\n",
    "    type_sklearn_linear_model__logistic_LogisticRegressionCV_fit = getattr(ret, '__module__', 'none') + '.' + ret.__class__.__name__\n",
    "    print('✅ sklearn.linear_model._logistic.LogisticRegressionCV.fit: ', type(ret)) # noqa E501\n",
    "except Exception as e:\n",
    "    type_sklearn_linear_model__logistic_LogisticRegressionCV_fit = '_syft_missing'\n",
    "    print('❌ sklearn.linear_model._logistic.LogisticRegressionCV.fit: Return unavailable') # noqa E501\n",
    "    print(\"  Please fix this return type code until there is no exception\")\n",
    "    print('  Error:', e)\n"
   ]
  },
  {
   "cell_type": "code",
   "execution_count": null,
   "id": "requested-ontario",
   "metadata": {},
   "outputs": [],
   "source": [
    "# sklearn.linear_model._logistic.LogisticRegressionCV.get_params\n",
    "try:\n",
    "    obj = class_constructor() # noqa F821\n",
    "    ret = obj.get_params()\n",
    "    type_sklearn_linear_model__logistic_LogisticRegressionCV_get_params = getattr(ret, '__module__', 'none') + '.' + ret.__class__.__name__\n",
    "    print('✅ sklearn.linear_model._logistic.LogisticRegressionCV.get_params: ', type(ret)) # noqa E501\n",
    "except Exception as e:\n",
    "    type_sklearn_linear_model__logistic_LogisticRegressionCV_get_params = '_syft_missing'\n",
    "    print('❌ sklearn.linear_model._logistic.LogisticRegressionCV.get_params: Return unavailable') # noqa E501\n",
    "    print(\"  Please fix this return type code until there is no exception\")\n",
    "    print('  Error:', e)\n"
   ]
  },
  {
   "cell_type": "code",
   "execution_count": null,
   "id": "thirty-notice",
   "metadata": {},
   "outputs": [],
   "source": [
    "# sklearn.linear_model._logistic.LogisticRegressionCV.predict\n",
    "try:\n",
    "    obj = class_constructor() # noqa F821\n",
    "    ret = obj.predict()\n",
    "    type_sklearn_linear_model__logistic_LogisticRegressionCV_predict = getattr(ret, '__module__', 'none') + '.' + ret.__class__.__name__\n",
    "    print('✅ sklearn.linear_model._logistic.LogisticRegressionCV.predict: ', type(ret)) # noqa E501\n",
    "except Exception as e:\n",
    "    type_sklearn_linear_model__logistic_LogisticRegressionCV_predict = '_syft_missing'\n",
    "    print('❌ sklearn.linear_model._logistic.LogisticRegressionCV.predict: Return unavailable') # noqa E501\n",
    "    print(\"  Please fix this return type code until there is no exception\")\n",
    "    print('  Error:', e)\n"
   ]
  },
  {
   "cell_type": "code",
   "execution_count": null,
   "id": "lonely-drove",
   "metadata": {},
   "outputs": [],
   "source": [
    "# sklearn.linear_model._logistic.LogisticRegressionCV.predict_log_proba\n",
    "try:\n",
    "    obj = class_constructor() # noqa F821\n",
    "    ret = obj.predict_log_proba()\n",
    "    type_sklearn_linear_model__logistic_LogisticRegressionCV_predict_log_proba = getattr(ret, '__module__', 'none') + '.' + ret.__class__.__name__\n",
    "    print('✅ sklearn.linear_model._logistic.LogisticRegressionCV.predict_log_proba: ', type(ret)) # noqa E501\n",
    "except Exception as e:\n",
    "    type_sklearn_linear_model__logistic_LogisticRegressionCV_predict_log_proba = '_syft_missing'\n",
    "    print('❌ sklearn.linear_model._logistic.LogisticRegressionCV.predict_log_proba: Return unavailable') # noqa E501\n",
    "    print(\"  Please fix this return type code until there is no exception\")\n",
    "    print('  Error:', e)\n"
   ]
  },
  {
   "cell_type": "code",
   "execution_count": null,
   "id": "engaged-suspension",
   "metadata": {},
   "outputs": [],
   "source": [
    "# sklearn.linear_model._logistic.LogisticRegressionCV.predict_proba\n",
    "try:\n",
    "    obj = class_constructor() # noqa F821\n",
    "    ret = obj.predict_proba()\n",
    "    type_sklearn_linear_model__logistic_LogisticRegressionCV_predict_proba = getattr(ret, '__module__', 'none') + '.' + ret.__class__.__name__\n",
    "    print('✅ sklearn.linear_model._logistic.LogisticRegressionCV.predict_proba: ', type(ret)) # noqa E501\n",
    "except Exception as e:\n",
    "    type_sklearn_linear_model__logistic_LogisticRegressionCV_predict_proba = '_syft_missing'\n",
    "    print('❌ sklearn.linear_model._logistic.LogisticRegressionCV.predict_proba: Return unavailable') # noqa E501\n",
    "    print(\"  Please fix this return type code until there is no exception\")\n",
    "    print('  Error:', e)\n"
   ]
  },
  {
   "cell_type": "code",
   "execution_count": null,
   "id": "turned-island",
   "metadata": {},
   "outputs": [],
   "source": [
    "# sklearn.linear_model._logistic.LogisticRegressionCV.score\n",
    "try:\n",
    "    obj = class_constructor() # noqa F821\n",
    "    ret = obj.score()\n",
    "    type_sklearn_linear_model__logistic_LogisticRegressionCV_score = getattr(ret, '__module__', 'none') + '.' + ret.__class__.__name__\n",
    "    print('✅ sklearn.linear_model._logistic.LogisticRegressionCV.score: ', type(ret)) # noqa E501\n",
    "except Exception as e:\n",
    "    type_sklearn_linear_model__logistic_LogisticRegressionCV_score = '_syft_missing'\n",
    "    print('❌ sklearn.linear_model._logistic.LogisticRegressionCV.score: Return unavailable') # noqa E501\n",
    "    print(\"  Please fix this return type code until there is no exception\")\n",
    "    print('  Error:', e)\n"
   ]
  },
  {
   "cell_type": "code",
   "execution_count": null,
   "id": "encouraging-accreditation",
   "metadata": {},
   "outputs": [],
   "source": [
    "# sklearn.linear_model._logistic.LogisticRegressionCV.set_params\n",
    "try:\n",
    "    obj = class_constructor() # noqa F821\n",
    "    ret = obj.set_params()\n",
    "    type_sklearn_linear_model__logistic_LogisticRegressionCV_set_params = getattr(ret, '__module__', 'none') + '.' + ret.__class__.__name__\n",
    "    print('✅ sklearn.linear_model._logistic.LogisticRegressionCV.set_params: ', type(ret)) # noqa E501\n",
    "except Exception as e:\n",
    "    type_sklearn_linear_model__logistic_LogisticRegressionCV_set_params = '_syft_missing'\n",
    "    print('❌ sklearn.linear_model._logistic.LogisticRegressionCV.set_params: Return unavailable') # noqa E501\n",
    "    print(\"  Please fix this return type code until there is no exception\")\n",
    "    print('  Error:', e)\n"
   ]
  },
  {
   "cell_type": "code",
   "execution_count": null,
   "id": "boolean-cooperative",
   "metadata": {},
   "outputs": [],
   "source": [
    "# sklearn.linear_model._logistic.LogisticRegressionCV.sparsify\n",
    "try:\n",
    "    obj = class_constructor() # noqa F821\n",
    "    ret = obj.sparsify()\n",
    "    type_sklearn_linear_model__logistic_LogisticRegressionCV_sparsify = getattr(ret, '__module__', 'none') + '.' + ret.__class__.__name__\n",
    "    print('✅ sklearn.linear_model._logistic.LogisticRegressionCV.sparsify: ', type(ret)) # noqa E501\n",
    "except Exception as e:\n",
    "    type_sklearn_linear_model__logistic_LogisticRegressionCV_sparsify = '_syft_missing'\n",
    "    print('❌ sklearn.linear_model._logistic.LogisticRegressionCV.sparsify: Return unavailable') # noqa E501\n",
    "    print(\"  Please fix this return type code until there is no exception\")\n",
    "    print('  Error:', e)\n"
   ]
  }
 ],
 "metadata": {},
 "nbformat": 4,
 "nbformat_minor": 5
}
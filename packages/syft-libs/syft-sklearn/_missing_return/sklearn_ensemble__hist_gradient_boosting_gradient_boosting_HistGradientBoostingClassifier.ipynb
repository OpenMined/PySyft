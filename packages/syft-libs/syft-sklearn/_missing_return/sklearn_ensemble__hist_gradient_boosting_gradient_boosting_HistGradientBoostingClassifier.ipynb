{
 "cells": [
  {
   "cell_type": "markdown",
   "id": "noble-african",
   "metadata": {},
   "source": [
    "## sklearn.ensemble._hist_gradient_boosting.gradient_boosting.HistGradientBoostingClassifier"
   ]
  },
  {
   "cell_type": "code",
   "execution_count": null,
   "id": "prerequisite-import",
   "metadata": {},
   "outputs": [],
   "source": [
    "import sklearn\n",
    "def class_constructor(*args, **kwargs):\n",
    "    obj = sklearn.ensemble._hist_gradient_boosting.gradient_boosting.HistGradientBoostingClassifier()\n",
    "    return obj\n"
   ]
  },
  {
   "cell_type": "code",
   "execution_count": null,
   "id": "wrapped-example",
   "metadata": {},
   "outputs": [],
   "source": [
    "# sklearn.ensemble._hist_gradient_boosting.gradient_boosting.HistGradientBoostingClassifier.__getstate__\n",
    "try:\n",
    "    obj = class_constructor() # noqa F821\n",
    "    ret = obj.__getstate__()\n",
    "    type_sklearn_ensemble__hist_gradient_boosting_gradient_boosting_HistGradientBoostingClassifier___getstate__ = getattr(ret, '__module__', 'none') + '.' + ret.__class__.__name__\n",
    "    print('✅ sklearn.ensemble._hist_gradient_boosting.gradient_boosting.HistGradientBoostingClassifier.__getstate__: ', type(ret)) # noqa E501\n",
    "except Exception as e:\n",
    "    type_sklearn_ensemble__hist_gradient_boosting_gradient_boosting_HistGradientBoostingClassifier___getstate__ = '_syft_missing'\n",
    "    print('❌ sklearn.ensemble._hist_gradient_boosting.gradient_boosting.HistGradientBoostingClassifier.__getstate__: Return unavailable') # noqa E501\n",
    "    print(\"  Please fix this return type code until there is no exception\")\n",
    "    print('  Error:', e)\n"
   ]
  },
  {
   "cell_type": "code",
   "execution_count": null,
   "id": "common-helicopter",
   "metadata": {},
   "outputs": [],
   "source": [
    "# sklearn.ensemble._hist_gradient_boosting.gradient_boosting.HistGradientBoostingClassifier.__repr__\n",
    "try:\n",
    "    obj = class_constructor() # noqa F821\n",
    "    ret = obj.__repr__()\n",
    "    type_sklearn_ensemble__hist_gradient_boosting_gradient_boosting_HistGradientBoostingClassifier___repr__ = getattr(ret, '__module__', 'none') + '.' + ret.__class__.__name__\n",
    "    print('✅ sklearn.ensemble._hist_gradient_boosting.gradient_boosting.HistGradientBoostingClassifier.__repr__: ', type(ret)) # noqa E501\n",
    "except Exception as e:\n",
    "    type_sklearn_ensemble__hist_gradient_boosting_gradient_boosting_HistGradientBoostingClassifier___repr__ = '_syft_missing'\n",
    "    print('❌ sklearn.ensemble._hist_gradient_boosting.gradient_boosting.HistGradientBoostingClassifier.__repr__: Return unavailable') # noqa E501\n",
    "    print(\"  Please fix this return type code until there is no exception\")\n",
    "    print('  Error:', e)\n"
   ]
  },
  {
   "cell_type": "code",
   "execution_count": null,
   "id": "specialized-pathology",
   "metadata": {},
   "outputs": [],
   "source": [
    "# sklearn.ensemble._hist_gradient_boosting.gradient_boosting.HistGradientBoostingClassifier.__setstate__\n",
    "try:\n",
    "    obj = class_constructor() # noqa F821\n",
    "    ret = obj.__setstate__()\n",
    "    type_sklearn_ensemble__hist_gradient_boosting_gradient_boosting_HistGradientBoostingClassifier___setstate__ = getattr(ret, '__module__', 'none') + '.' + ret.__class__.__name__\n",
    "    print('✅ sklearn.ensemble._hist_gradient_boosting.gradient_boosting.HistGradientBoostingClassifier.__setstate__: ', type(ret)) # noqa E501\n",
    "except Exception as e:\n",
    "    type_sklearn_ensemble__hist_gradient_boosting_gradient_boosting_HistGradientBoostingClassifier___setstate__ = '_syft_missing'\n",
    "    print('❌ sklearn.ensemble._hist_gradient_boosting.gradient_boosting.HistGradientBoostingClassifier.__setstate__: Return unavailable') # noqa E501\n",
    "    print(\"  Please fix this return type code until there is no exception\")\n",
    "    print('  Error:', e)\n"
   ]
  },
  {
   "cell_type": "code",
   "execution_count": null,
   "id": "amateur-palmer",
   "metadata": {},
   "outputs": [],
   "source": [
    "# sklearn.ensemble._hist_gradient_boosting.gradient_boosting.HistGradientBoostingClassifier._bin_data\n",
    "try:\n",
    "    obj = class_constructor() # noqa F821\n",
    "    ret = obj._bin_data()\n",
    "    type_sklearn_ensemble__hist_gradient_boosting_gradient_boosting_HistGradientBoostingClassifier__bin_data = getattr(ret, '__module__', 'none') + '.' + ret.__class__.__name__\n",
    "    print('✅ sklearn.ensemble._hist_gradient_boosting.gradient_boosting.HistGradientBoostingClassifier._bin_data: ', type(ret)) # noqa E501\n",
    "except Exception as e:\n",
    "    type_sklearn_ensemble__hist_gradient_boosting_gradient_boosting_HistGradientBoostingClassifier__bin_data = '_syft_missing'\n",
    "    print('❌ sklearn.ensemble._hist_gradient_boosting.gradient_boosting.HistGradientBoostingClassifier._bin_data: Return unavailable') # noqa E501\n",
    "    print(\"  Please fix this return type code until there is no exception\")\n",
    "    print('  Error:', e)\n"
   ]
  },
  {
   "cell_type": "code",
   "execution_count": null,
   "id": "closing-jamaica",
   "metadata": {},
   "outputs": [],
   "source": [
    "# sklearn.ensemble._hist_gradient_boosting.gradient_boosting.HistGradientBoostingClassifier._check_categories\n",
    "try:\n",
    "    obj = class_constructor() # noqa F821\n",
    "    ret = obj._check_categories()\n",
    "    type_sklearn_ensemble__hist_gradient_boosting_gradient_boosting_HistGradientBoostingClassifier__check_categories = getattr(ret, '__module__', 'none') + '.' + ret.__class__.__name__\n",
    "    print('✅ sklearn.ensemble._hist_gradient_boosting.gradient_boosting.HistGradientBoostingClassifier._check_categories: ', type(ret)) # noqa E501\n",
    "except Exception as e:\n",
    "    type_sklearn_ensemble__hist_gradient_boosting_gradient_boosting_HistGradientBoostingClassifier__check_categories = '_syft_missing'\n",
    "    print('❌ sklearn.ensemble._hist_gradient_boosting.gradient_boosting.HistGradientBoostingClassifier._check_categories: Return unavailable') # noqa E501\n",
    "    print(\"  Please fix this return type code until there is no exception\")\n",
    "    print('  Error:', e)\n"
   ]
  },
  {
   "cell_type": "code",
   "execution_count": null,
   "id": "assisted-juvenile",
   "metadata": {},
   "outputs": [],
   "source": [
    "# sklearn.ensemble._hist_gradient_boosting.gradient_boosting.HistGradientBoostingClassifier._check_early_stopping_loss\n",
    "try:\n",
    "    obj = class_constructor() # noqa F821\n",
    "    ret = obj._check_early_stopping_loss()\n",
    "    type_sklearn_ensemble__hist_gradient_boosting_gradient_boosting_HistGradientBoostingClassifier__check_early_stopping_loss = getattr(ret, '__module__', 'none') + '.' + ret.__class__.__name__\n",
    "    print('✅ sklearn.ensemble._hist_gradient_boosting.gradient_boosting.HistGradientBoostingClassifier._check_early_stopping_loss: ', type(ret)) # noqa E501\n",
    "except Exception as e:\n",
    "    type_sklearn_ensemble__hist_gradient_boosting_gradient_boosting_HistGradientBoostingClassifier__check_early_stopping_loss = '_syft_missing'\n",
    "    print('❌ sklearn.ensemble._hist_gradient_boosting.gradient_boosting.HistGradientBoostingClassifier._check_early_stopping_loss: Return unavailable') # noqa E501\n",
    "    print(\"  Please fix this return type code until there is no exception\")\n",
    "    print('  Error:', e)\n"
   ]
  },
  {
   "cell_type": "code",
   "execution_count": null,
   "id": "alternative-lambda",
   "metadata": {},
   "outputs": [],
   "source": [
    "# sklearn.ensemble._hist_gradient_boosting.gradient_boosting.HistGradientBoostingClassifier._check_early_stopping_scorer\n",
    "try:\n",
    "    obj = class_constructor() # noqa F821\n",
    "    ret = obj._check_early_stopping_scorer()\n",
    "    type_sklearn_ensemble__hist_gradient_boosting_gradient_boosting_HistGradientBoostingClassifier__check_early_stopping_scorer = getattr(ret, '__module__', 'none') + '.' + ret.__class__.__name__\n",
    "    print('✅ sklearn.ensemble._hist_gradient_boosting.gradient_boosting.HistGradientBoostingClassifier._check_early_stopping_scorer: ', type(ret)) # noqa E501\n",
    "except Exception as e:\n",
    "    type_sklearn_ensemble__hist_gradient_boosting_gradient_boosting_HistGradientBoostingClassifier__check_early_stopping_scorer = '_syft_missing'\n",
    "    print('❌ sklearn.ensemble._hist_gradient_boosting.gradient_boosting.HistGradientBoostingClassifier._check_early_stopping_scorer: Return unavailable') # noqa E501\n",
    "    print(\"  Please fix this return type code until there is no exception\")\n",
    "    print('  Error:', e)\n"
   ]
  },
  {
   "cell_type": "code",
   "execution_count": null,
   "id": "oriented-angle",
   "metadata": {},
   "outputs": [],
   "source": [
    "# sklearn.ensemble._hist_gradient_boosting.gradient_boosting.HistGradientBoostingClassifier._check_n_features\n",
    "try:\n",
    "    obj = class_constructor() # noqa F821\n",
    "    ret = obj._check_n_features()\n",
    "    type_sklearn_ensemble__hist_gradient_boosting_gradient_boosting_HistGradientBoostingClassifier__check_n_features = getattr(ret, '__module__', 'none') + '.' + ret.__class__.__name__\n",
    "    print('✅ sklearn.ensemble._hist_gradient_boosting.gradient_boosting.HistGradientBoostingClassifier._check_n_features: ', type(ret)) # noqa E501\n",
    "except Exception as e:\n",
    "    type_sklearn_ensemble__hist_gradient_boosting_gradient_boosting_HistGradientBoostingClassifier__check_n_features = '_syft_missing'\n",
    "    print('❌ sklearn.ensemble._hist_gradient_boosting.gradient_boosting.HistGradientBoostingClassifier._check_n_features: Return unavailable') # noqa E501\n",
    "    print(\"  Please fix this return type code until there is no exception\")\n",
    "    print('  Error:', e)\n"
   ]
  },
  {
   "cell_type": "code",
   "execution_count": null,
   "id": "measured-patch",
   "metadata": {},
   "outputs": [],
   "source": [
    "# sklearn.ensemble._hist_gradient_boosting.gradient_boosting.HistGradientBoostingClassifier._clear_state\n",
    "try:\n",
    "    obj = class_constructor() # noqa F821\n",
    "    ret = obj._clear_state()\n",
    "    type_sklearn_ensemble__hist_gradient_boosting_gradient_boosting_HistGradientBoostingClassifier__clear_state = getattr(ret, '__module__', 'none') + '.' + ret.__class__.__name__\n",
    "    print('✅ sklearn.ensemble._hist_gradient_boosting.gradient_boosting.HistGradientBoostingClassifier._clear_state: ', type(ret)) # noqa E501\n",
    "except Exception as e:\n",
    "    type_sklearn_ensemble__hist_gradient_boosting_gradient_boosting_HistGradientBoostingClassifier__clear_state = '_syft_missing'\n",
    "    print('❌ sklearn.ensemble._hist_gradient_boosting.gradient_boosting.HistGradientBoostingClassifier._clear_state: Return unavailable') # noqa E501\n",
    "    print(\"  Please fix this return type code until there is no exception\")\n",
    "    print('  Error:', e)\n"
   ]
  },
  {
   "cell_type": "code",
   "execution_count": null,
   "id": "fitted-newport",
   "metadata": {},
   "outputs": [],
   "source": [
    "# sklearn.ensemble._hist_gradient_boosting.gradient_boosting.HistGradientBoostingClassifier._compute_partial_dependence_recursion\n",
    "try:\n",
    "    obj = class_constructor() # noqa F821\n",
    "    ret = obj._compute_partial_dependence_recursion()\n",
    "    type_sklearn_ensemble__hist_gradient_boosting_gradient_boosting_HistGradientBoostingClassifier__compute_partial_dependence_recursion = getattr(ret, '__module__', 'none') + '.' + ret.__class__.__name__\n",
    "    print('✅ sklearn.ensemble._hist_gradient_boosting.gradient_boosting.HistGradientBoostingClassifier._compute_partial_dependence_recursion: ', type(ret)) # noqa E501\n",
    "except Exception as e:\n",
    "    type_sklearn_ensemble__hist_gradient_boosting_gradient_boosting_HistGradientBoostingClassifier__compute_partial_dependence_recursion = '_syft_missing'\n",
    "    print('❌ sklearn.ensemble._hist_gradient_boosting.gradient_boosting.HistGradientBoostingClassifier._compute_partial_dependence_recursion: Return unavailable') # noqa E501\n",
    "    print(\"  Please fix this return type code until there is no exception\")\n",
    "    print('  Error:', e)\n"
   ]
  },
  {
   "cell_type": "code",
   "execution_count": null,
   "id": "cosmetic-brunei",
   "metadata": {},
   "outputs": [],
   "source": [
    "# sklearn.ensemble._hist_gradient_boosting.gradient_boosting.HistGradientBoostingClassifier._encode_y\n",
    "try:\n",
    "    obj = class_constructor() # noqa F821\n",
    "    ret = obj._encode_y()\n",
    "    type_sklearn_ensemble__hist_gradient_boosting_gradient_boosting_HistGradientBoostingClassifier__encode_y = getattr(ret, '__module__', 'none') + '.' + ret.__class__.__name__\n",
    "    print('✅ sklearn.ensemble._hist_gradient_boosting.gradient_boosting.HistGradientBoostingClassifier._encode_y: ', type(ret)) # noqa E501\n",
    "except Exception as e:\n",
    "    type_sklearn_ensemble__hist_gradient_boosting_gradient_boosting_HistGradientBoostingClassifier__encode_y = '_syft_missing'\n",
    "    print('❌ sklearn.ensemble._hist_gradient_boosting.gradient_boosting.HistGradientBoostingClassifier._encode_y: Return unavailable') # noqa E501\n",
    "    print(\"  Please fix this return type code until there is no exception\")\n",
    "    print('  Error:', e)\n"
   ]
  },
  {
   "cell_type": "code",
   "execution_count": null,
   "id": "hidden-brush",
   "metadata": {},
   "outputs": [],
   "source": [
    "# sklearn.ensemble._hist_gradient_boosting.gradient_boosting.HistGradientBoostingClassifier._get_loss\n",
    "try:\n",
    "    obj = class_constructor() # noqa F821\n",
    "    ret = obj._get_loss()\n",
    "    type_sklearn_ensemble__hist_gradient_boosting_gradient_boosting_HistGradientBoostingClassifier__get_loss = getattr(ret, '__module__', 'none') + '.' + ret.__class__.__name__\n",
    "    print('✅ sklearn.ensemble._hist_gradient_boosting.gradient_boosting.HistGradientBoostingClassifier._get_loss: ', type(ret)) # noqa E501\n",
    "except Exception as e:\n",
    "    type_sklearn_ensemble__hist_gradient_boosting_gradient_boosting_HistGradientBoostingClassifier__get_loss = '_syft_missing'\n",
    "    print('❌ sklearn.ensemble._hist_gradient_boosting.gradient_boosting.HistGradientBoostingClassifier._get_loss: Return unavailable') # noqa E501\n",
    "    print(\"  Please fix this return type code until there is no exception\")\n",
    "    print('  Error:', e)\n"
   ]
  },
  {
   "cell_type": "code",
   "execution_count": null,
   "id": "finite-omaha",
   "metadata": {},
   "outputs": [],
   "source": [
    "# sklearn.ensemble._hist_gradient_boosting.gradient_boosting.HistGradientBoostingClassifier._get_param_names\n",
    "try:\n",
    "    obj = class_constructor() # noqa F821\n",
    "    ret = obj._get_param_names()\n",
    "    type_sklearn_ensemble__hist_gradient_boosting_gradient_boosting_HistGradientBoostingClassifier__get_param_names = getattr(ret, '__module__', 'none') + '.' + ret.__class__.__name__\n",
    "    print('✅ sklearn.ensemble._hist_gradient_boosting.gradient_boosting.HistGradientBoostingClassifier._get_param_names: ', type(ret)) # noqa E501\n",
    "except Exception as e:\n",
    "    type_sklearn_ensemble__hist_gradient_boosting_gradient_boosting_HistGradientBoostingClassifier__get_param_names = '_syft_missing'\n",
    "    print('❌ sklearn.ensemble._hist_gradient_boosting.gradient_boosting.HistGradientBoostingClassifier._get_param_names: Return unavailable') # noqa E501\n",
    "    print(\"  Please fix this return type code until there is no exception\")\n",
    "    print('  Error:', e)\n"
   ]
  },
  {
   "cell_type": "code",
   "execution_count": null,
   "id": "bright-catholic",
   "metadata": {},
   "outputs": [],
   "source": [
    "# sklearn.ensemble._hist_gradient_boosting.gradient_boosting.HistGradientBoostingClassifier._get_small_trainset\n",
    "try:\n",
    "    obj = class_constructor() # noqa F821\n",
    "    ret = obj._get_small_trainset()\n",
    "    type_sklearn_ensemble__hist_gradient_boosting_gradient_boosting_HistGradientBoostingClassifier__get_small_trainset = getattr(ret, '__module__', 'none') + '.' + ret.__class__.__name__\n",
    "    print('✅ sklearn.ensemble._hist_gradient_boosting.gradient_boosting.HistGradientBoostingClassifier._get_small_trainset: ', type(ret)) # noqa E501\n",
    "except Exception as e:\n",
    "    type_sklearn_ensemble__hist_gradient_boosting_gradient_boosting_HistGradientBoostingClassifier__get_small_trainset = '_syft_missing'\n",
    "    print('❌ sklearn.ensemble._hist_gradient_boosting.gradient_boosting.HistGradientBoostingClassifier._get_small_trainset: Return unavailable') # noqa E501\n",
    "    print(\"  Please fix this return type code until there is no exception\")\n",
    "    print('  Error:', e)\n"
   ]
  },
  {
   "cell_type": "code",
   "execution_count": null,
   "id": "hispanic-current",
   "metadata": {},
   "outputs": [],
   "source": [
    "# sklearn.ensemble._hist_gradient_boosting.gradient_boosting.HistGradientBoostingClassifier._get_tags\n",
    "try:\n",
    "    obj = class_constructor() # noqa F821\n",
    "    ret = obj._get_tags()\n",
    "    type_sklearn_ensemble__hist_gradient_boosting_gradient_boosting_HistGradientBoostingClassifier__get_tags = getattr(ret, '__module__', 'none') + '.' + ret.__class__.__name__\n",
    "    print('✅ sklearn.ensemble._hist_gradient_boosting.gradient_boosting.HistGradientBoostingClassifier._get_tags: ', type(ret)) # noqa E501\n",
    "except Exception as e:\n",
    "    type_sklearn_ensemble__hist_gradient_boosting_gradient_boosting_HistGradientBoostingClassifier__get_tags = '_syft_missing'\n",
    "    print('❌ sklearn.ensemble._hist_gradient_boosting.gradient_boosting.HistGradientBoostingClassifier._get_tags: Return unavailable') # noqa E501\n",
    "    print(\"  Please fix this return type code until there is no exception\")\n",
    "    print('  Error:', e)\n"
   ]
  },
  {
   "cell_type": "code",
   "execution_count": null,
   "id": "intermediate-placement",
   "metadata": {},
   "outputs": [],
   "source": [
    "# sklearn.ensemble._hist_gradient_boosting.gradient_boosting.HistGradientBoostingClassifier._is_fitted\n",
    "try:\n",
    "    obj = class_constructor() # noqa F821\n",
    "    ret = obj._is_fitted()\n",
    "    type_sklearn_ensemble__hist_gradient_boosting_gradient_boosting_HistGradientBoostingClassifier__is_fitted = getattr(ret, '__module__', 'none') + '.' + ret.__class__.__name__\n",
    "    print('✅ sklearn.ensemble._hist_gradient_boosting.gradient_boosting.HistGradientBoostingClassifier._is_fitted: ', type(ret)) # noqa E501\n",
    "except Exception as e:\n",
    "    type_sklearn_ensemble__hist_gradient_boosting_gradient_boosting_HistGradientBoostingClassifier__is_fitted = '_syft_missing'\n",
    "    print('❌ sklearn.ensemble._hist_gradient_boosting.gradient_boosting.HistGradientBoostingClassifier._is_fitted: Return unavailable') # noqa E501\n",
    "    print(\"  Please fix this return type code until there is no exception\")\n",
    "    print('  Error:', e)\n"
   ]
  },
  {
   "cell_type": "code",
   "execution_count": null,
   "id": "actual-trademark",
   "metadata": {},
   "outputs": [],
   "source": [
    "# sklearn.ensemble._hist_gradient_boosting.gradient_boosting.HistGradientBoostingClassifier._more_tags\n",
    "try:\n",
    "    obj = class_constructor() # noqa F821\n",
    "    ret = obj._more_tags()\n",
    "    type_sklearn_ensemble__hist_gradient_boosting_gradient_boosting_HistGradientBoostingClassifier__more_tags = getattr(ret, '__module__', 'none') + '.' + ret.__class__.__name__\n",
    "    print('✅ sklearn.ensemble._hist_gradient_boosting.gradient_boosting.HistGradientBoostingClassifier._more_tags: ', type(ret)) # noqa E501\n",
    "except Exception as e:\n",
    "    type_sklearn_ensemble__hist_gradient_boosting_gradient_boosting_HistGradientBoostingClassifier__more_tags = '_syft_missing'\n",
    "    print('❌ sklearn.ensemble._hist_gradient_boosting.gradient_boosting.HistGradientBoostingClassifier._more_tags: Return unavailable') # noqa E501\n",
    "    print(\"  Please fix this return type code until there is no exception\")\n",
    "    print('  Error:', e)\n"
   ]
  },
  {
   "cell_type": "code",
   "execution_count": null,
   "id": "quarterly-throat",
   "metadata": {},
   "outputs": [],
   "source": [
    "# sklearn.ensemble._hist_gradient_boosting.gradient_boosting.HistGradientBoostingClassifier._predict_iterations\n",
    "try:\n",
    "    obj = class_constructor() # noqa F821\n",
    "    ret = obj._predict_iterations()\n",
    "    type_sklearn_ensemble__hist_gradient_boosting_gradient_boosting_HistGradientBoostingClassifier__predict_iterations = getattr(ret, '__module__', 'none') + '.' + ret.__class__.__name__\n",
    "    print('✅ sklearn.ensemble._hist_gradient_boosting.gradient_boosting.HistGradientBoostingClassifier._predict_iterations: ', type(ret)) # noqa E501\n",
    "except Exception as e:\n",
    "    type_sklearn_ensemble__hist_gradient_boosting_gradient_boosting_HistGradientBoostingClassifier__predict_iterations = '_syft_missing'\n",
    "    print('❌ sklearn.ensemble._hist_gradient_boosting.gradient_boosting.HistGradientBoostingClassifier._predict_iterations: Return unavailable') # noqa E501\n",
    "    print(\"  Please fix this return type code until there is no exception\")\n",
    "    print('  Error:', e)\n"
   ]
  },
  {
   "cell_type": "code",
   "execution_count": null,
   "id": "august-world",
   "metadata": {},
   "outputs": [],
   "source": [
    "# sklearn.ensemble._hist_gradient_boosting.gradient_boosting.HistGradientBoostingClassifier._print_iteration_stats\n",
    "try:\n",
    "    obj = class_constructor() # noqa F821\n",
    "    ret = obj._print_iteration_stats()\n",
    "    type_sklearn_ensemble__hist_gradient_boosting_gradient_boosting_HistGradientBoostingClassifier__print_iteration_stats = getattr(ret, '__module__', 'none') + '.' + ret.__class__.__name__\n",
    "    print('✅ sklearn.ensemble._hist_gradient_boosting.gradient_boosting.HistGradientBoostingClassifier._print_iteration_stats: ', type(ret)) # noqa E501\n",
    "except Exception as e:\n",
    "    type_sklearn_ensemble__hist_gradient_boosting_gradient_boosting_HistGradientBoostingClassifier__print_iteration_stats = '_syft_missing'\n",
    "    print('❌ sklearn.ensemble._hist_gradient_boosting.gradient_boosting.HistGradientBoostingClassifier._print_iteration_stats: Return unavailable') # noqa E501\n",
    "    print(\"  Please fix this return type code until there is no exception\")\n",
    "    print('  Error:', e)\n"
   ]
  },
  {
   "cell_type": "code",
   "execution_count": null,
   "id": "starting-compression",
   "metadata": {},
   "outputs": [],
   "source": [
    "# sklearn.ensemble._hist_gradient_boosting.gradient_boosting.HistGradientBoostingClassifier._raw_predict\n",
    "try:\n",
    "    obj = class_constructor() # noqa F821\n",
    "    ret = obj._raw_predict()\n",
    "    type_sklearn_ensemble__hist_gradient_boosting_gradient_boosting_HistGradientBoostingClassifier__raw_predict = getattr(ret, '__module__', 'none') + '.' + ret.__class__.__name__\n",
    "    print('✅ sklearn.ensemble._hist_gradient_boosting.gradient_boosting.HistGradientBoostingClassifier._raw_predict: ', type(ret)) # noqa E501\n",
    "except Exception as e:\n",
    "    type_sklearn_ensemble__hist_gradient_boosting_gradient_boosting_HistGradientBoostingClassifier__raw_predict = '_syft_missing'\n",
    "    print('❌ sklearn.ensemble._hist_gradient_boosting.gradient_boosting.HistGradientBoostingClassifier._raw_predict: Return unavailable') # noqa E501\n",
    "    print(\"  Please fix this return type code until there is no exception\")\n",
    "    print('  Error:', e)\n"
   ]
  },
  {
   "cell_type": "code",
   "execution_count": null,
   "id": "rational-consumer",
   "metadata": {},
   "outputs": [],
   "source": [
    "# sklearn.ensemble._hist_gradient_boosting.gradient_boosting.HistGradientBoostingClassifier._repr_html_\n",
    "try:\n",
    "    obj = class_constructor()\n",
    "    ret = obj._repr_html_\n",
    "    type_sklearn_ensemble__hist_gradient_boosting_gradient_boosting_HistGradientBoostingClassifier__repr_html_ = getattr(ret, '__module__', 'none') + '.' + ret.__class__.__name__\n",
    "    print('✅ sklearn.ensemble._hist_gradient_boosting.gradient_boosting.HistGradientBoostingClassifier._repr_html_:', type(ret)) # noqa E501\n",
    "except Exception as e:\n",
    "    type_sklearn_ensemble__hist_gradient_boosting_gradient_boosting_HistGradientBoostingClassifier__repr_html_ = '_syft_missing'\n",
    "    print('❌ sklearn.ensemble._hist_gradient_boosting.gradient_boosting.HistGradientBoostingClassifier._repr_html_: Return unavailable') # noqa E501\n",
    "    print(\"  Please fix this return type code until there is no exception\")\n",
    "    print('  Error:', e)\n"
   ]
  },
  {
   "cell_type": "code",
   "execution_count": null,
   "id": "specialized-harvard",
   "metadata": {},
   "outputs": [],
   "source": [
    "# sklearn.ensemble._hist_gradient_boosting.gradient_boosting.HistGradientBoostingClassifier._repr_html_inner\n",
    "try:\n",
    "    obj = class_constructor() # noqa F821\n",
    "    ret = obj._repr_html_inner()\n",
    "    type_sklearn_ensemble__hist_gradient_boosting_gradient_boosting_HistGradientBoostingClassifier__repr_html_inner = getattr(ret, '__module__', 'none') + '.' + ret.__class__.__name__\n",
    "    print('✅ sklearn.ensemble._hist_gradient_boosting.gradient_boosting.HistGradientBoostingClassifier._repr_html_inner: ', type(ret)) # noqa E501\n",
    "except Exception as e:\n",
    "    type_sklearn_ensemble__hist_gradient_boosting_gradient_boosting_HistGradientBoostingClassifier__repr_html_inner = '_syft_missing'\n",
    "    print('❌ sklearn.ensemble._hist_gradient_boosting.gradient_boosting.HistGradientBoostingClassifier._repr_html_inner: Return unavailable') # noqa E501\n",
    "    print(\"  Please fix this return type code until there is no exception\")\n",
    "    print('  Error:', e)\n"
   ]
  },
  {
   "cell_type": "code",
   "execution_count": null,
   "id": "bright-typing",
   "metadata": {},
   "outputs": [],
   "source": [
    "# sklearn.ensemble._hist_gradient_boosting.gradient_boosting.HistGradientBoostingClassifier._repr_mimebundle_\n",
    "try:\n",
    "    obj = class_constructor() # noqa F821\n",
    "    ret = obj._repr_mimebundle_()\n",
    "    type_sklearn_ensemble__hist_gradient_boosting_gradient_boosting_HistGradientBoostingClassifier__repr_mimebundle_ = getattr(ret, '__module__', 'none') + '.' + ret.__class__.__name__\n",
    "    print('✅ sklearn.ensemble._hist_gradient_boosting.gradient_boosting.HistGradientBoostingClassifier._repr_mimebundle_: ', type(ret)) # noqa E501\n",
    "except Exception as e:\n",
    "    type_sklearn_ensemble__hist_gradient_boosting_gradient_boosting_HistGradientBoostingClassifier__repr_mimebundle_ = '_syft_missing'\n",
    "    print('❌ sklearn.ensemble._hist_gradient_boosting.gradient_boosting.HistGradientBoostingClassifier._repr_mimebundle_: Return unavailable') # noqa E501\n",
    "    print(\"  Please fix this return type code until there is no exception\")\n",
    "    print('  Error:', e)\n"
   ]
  },
  {
   "cell_type": "code",
   "execution_count": null,
   "id": "balanced-suffering",
   "metadata": {},
   "outputs": [],
   "source": [
    "# sklearn.ensemble._hist_gradient_boosting.gradient_boosting.HistGradientBoostingClassifier._should_stop\n",
    "try:\n",
    "    obj = class_constructor() # noqa F821\n",
    "    ret = obj._should_stop()\n",
    "    type_sklearn_ensemble__hist_gradient_boosting_gradient_boosting_HistGradientBoostingClassifier__should_stop = getattr(ret, '__module__', 'none') + '.' + ret.__class__.__name__\n",
    "    print('✅ sklearn.ensemble._hist_gradient_boosting.gradient_boosting.HistGradientBoostingClassifier._should_stop: ', type(ret)) # noqa E501\n",
    "except Exception as e:\n",
    "    type_sklearn_ensemble__hist_gradient_boosting_gradient_boosting_HistGradientBoostingClassifier__should_stop = '_syft_missing'\n",
    "    print('❌ sklearn.ensemble._hist_gradient_boosting.gradient_boosting.HistGradientBoostingClassifier._should_stop: Return unavailable') # noqa E501\n",
    "    print(\"  Please fix this return type code until there is no exception\")\n",
    "    print('  Error:', e)\n"
   ]
  },
  {
   "cell_type": "code",
   "execution_count": null,
   "id": "established-celtic",
   "metadata": {},
   "outputs": [],
   "source": [
    "# sklearn.ensemble._hist_gradient_boosting.gradient_boosting.HistGradientBoostingClassifier._staged_raw_predict\n",
    "try:\n",
    "    obj = class_constructor() # noqa F821\n",
    "    ret = obj._staged_raw_predict()\n",
    "    type_sklearn_ensemble__hist_gradient_boosting_gradient_boosting_HistGradientBoostingClassifier__staged_raw_predict = getattr(ret, '__module__', 'none') + '.' + ret.__class__.__name__\n",
    "    print('✅ sklearn.ensemble._hist_gradient_boosting.gradient_boosting.HistGradientBoostingClassifier._staged_raw_predict: ', type(ret)) # noqa E501\n",
    "except Exception as e:\n",
    "    type_sklearn_ensemble__hist_gradient_boosting_gradient_boosting_HistGradientBoostingClassifier__staged_raw_predict = '_syft_missing'\n",
    "    print('❌ sklearn.ensemble._hist_gradient_boosting.gradient_boosting.HistGradientBoostingClassifier._staged_raw_predict: Return unavailable') # noqa E501\n",
    "    print(\"  Please fix this return type code until there is no exception\")\n",
    "    print('  Error:', e)\n"
   ]
  },
  {
   "cell_type": "code",
   "execution_count": null,
   "id": "continuing-water",
   "metadata": {},
   "outputs": [],
   "source": [
    "# sklearn.ensemble._hist_gradient_boosting.gradient_boosting.HistGradientBoostingClassifier._validate_data\n",
    "try:\n",
    "    obj = class_constructor() # noqa F821\n",
    "    ret = obj._validate_data()\n",
    "    type_sklearn_ensemble__hist_gradient_boosting_gradient_boosting_HistGradientBoostingClassifier__validate_data = getattr(ret, '__module__', 'none') + '.' + ret.__class__.__name__\n",
    "    print('✅ sklearn.ensemble._hist_gradient_boosting.gradient_boosting.HistGradientBoostingClassifier._validate_data: ', type(ret)) # noqa E501\n",
    "except Exception as e:\n",
    "    type_sklearn_ensemble__hist_gradient_boosting_gradient_boosting_HistGradientBoostingClassifier__validate_data = '_syft_missing'\n",
    "    print('❌ sklearn.ensemble._hist_gradient_boosting.gradient_boosting.HistGradientBoostingClassifier._validate_data: Return unavailable') # noqa E501\n",
    "    print(\"  Please fix this return type code until there is no exception\")\n",
    "    print('  Error:', e)\n"
   ]
  },
  {
   "cell_type": "code",
   "execution_count": null,
   "id": "appropriate-interference",
   "metadata": {},
   "outputs": [],
   "source": [
    "# sklearn.ensemble._hist_gradient_boosting.gradient_boosting.HistGradientBoostingClassifier._validate_parameters\n",
    "try:\n",
    "    obj = class_constructor() # noqa F821\n",
    "    ret = obj._validate_parameters()\n",
    "    type_sklearn_ensemble__hist_gradient_boosting_gradient_boosting_HistGradientBoostingClassifier__validate_parameters = getattr(ret, '__module__', 'none') + '.' + ret.__class__.__name__\n",
    "    print('✅ sklearn.ensemble._hist_gradient_boosting.gradient_boosting.HistGradientBoostingClassifier._validate_parameters: ', type(ret)) # noqa E501\n",
    "except Exception as e:\n",
    "    type_sklearn_ensemble__hist_gradient_boosting_gradient_boosting_HistGradientBoostingClassifier__validate_parameters = '_syft_missing'\n",
    "    print('❌ sklearn.ensemble._hist_gradient_boosting.gradient_boosting.HistGradientBoostingClassifier._validate_parameters: Return unavailable') # noqa E501\n",
    "    print(\"  Please fix this return type code until there is no exception\")\n",
    "    print('  Error:', e)\n"
   ]
  },
  {
   "cell_type": "code",
   "execution_count": null,
   "id": "extreme-welsh",
   "metadata": {},
   "outputs": [],
   "source": [
    "# sklearn.ensemble._hist_gradient_boosting.gradient_boosting.HistGradientBoostingClassifier.decision_function\n",
    "try:\n",
    "    obj = class_constructor() # noqa F821\n",
    "    ret = obj.decision_function()\n",
    "    type_sklearn_ensemble__hist_gradient_boosting_gradient_boosting_HistGradientBoostingClassifier_decision_function = getattr(ret, '__module__', 'none') + '.' + ret.__class__.__name__\n",
    "    print('✅ sklearn.ensemble._hist_gradient_boosting.gradient_boosting.HistGradientBoostingClassifier.decision_function: ', type(ret)) # noqa E501\n",
    "except Exception as e:\n",
    "    type_sklearn_ensemble__hist_gradient_boosting_gradient_boosting_HistGradientBoostingClassifier_decision_function = '_syft_missing'\n",
    "    print('❌ sklearn.ensemble._hist_gradient_boosting.gradient_boosting.HistGradientBoostingClassifier.decision_function: Return unavailable') # noqa E501\n",
    "    print(\"  Please fix this return type code until there is no exception\")\n",
    "    print('  Error:', e)\n"
   ]
  },
  {
   "cell_type": "code",
   "execution_count": null,
   "id": "formal-background",
   "metadata": {},
   "outputs": [],
   "source": [
    "# sklearn.ensemble._hist_gradient_boosting.gradient_boosting.HistGradientBoostingClassifier.fit\n",
    "try:\n",
    "    obj = class_constructor() # noqa F821\n",
    "    ret = obj.fit()\n",
    "    type_sklearn_ensemble__hist_gradient_boosting_gradient_boosting_HistGradientBoostingClassifier_fit = getattr(ret, '__module__', 'none') + '.' + ret.__class__.__name__\n",
    "    print('✅ sklearn.ensemble._hist_gradient_boosting.gradient_boosting.HistGradientBoostingClassifier.fit: ', type(ret)) # noqa E501\n",
    "except Exception as e:\n",
    "    type_sklearn_ensemble__hist_gradient_boosting_gradient_boosting_HistGradientBoostingClassifier_fit = '_syft_missing'\n",
    "    print('❌ sklearn.ensemble._hist_gradient_boosting.gradient_boosting.HistGradientBoostingClassifier.fit: Return unavailable') # noqa E501\n",
    "    print(\"  Please fix this return type code until there is no exception\")\n",
    "    print('  Error:', e)\n"
   ]
  },
  {
   "cell_type": "code",
   "execution_count": null,
   "id": "genetic-ambassador",
   "metadata": {},
   "outputs": [],
   "source": [
    "# sklearn.ensemble._hist_gradient_boosting.gradient_boosting.HistGradientBoostingClassifier.get_params\n",
    "try:\n",
    "    obj = class_constructor() # noqa F821\n",
    "    ret = obj.get_params()\n",
    "    type_sklearn_ensemble__hist_gradient_boosting_gradient_boosting_HistGradientBoostingClassifier_get_params = getattr(ret, '__module__', 'none') + '.' + ret.__class__.__name__\n",
    "    print('✅ sklearn.ensemble._hist_gradient_boosting.gradient_boosting.HistGradientBoostingClassifier.get_params: ', type(ret)) # noqa E501\n",
    "except Exception as e:\n",
    "    type_sklearn_ensemble__hist_gradient_boosting_gradient_boosting_HistGradientBoostingClassifier_get_params = '_syft_missing'\n",
    "    print('❌ sklearn.ensemble._hist_gradient_boosting.gradient_boosting.HistGradientBoostingClassifier.get_params: Return unavailable') # noqa E501\n",
    "    print(\"  Please fix this return type code until there is no exception\")\n",
    "    print('  Error:', e)\n"
   ]
  },
  {
   "cell_type": "code",
   "execution_count": null,
   "id": "forty-details",
   "metadata": {},
   "outputs": [],
   "source": [
    "# sklearn.ensemble._hist_gradient_boosting.gradient_boosting.HistGradientBoostingClassifier.n_iter_\n",
    "try:\n",
    "    obj = class_constructor()\n",
    "    ret = obj.n_iter_\n",
    "    type_sklearn_ensemble__hist_gradient_boosting_gradient_boosting_HistGradientBoostingClassifier_n_iter_ = getattr(ret, '__module__', 'none') + '.' + ret.__class__.__name__\n",
    "    print('✅ sklearn.ensemble._hist_gradient_boosting.gradient_boosting.HistGradientBoostingClassifier.n_iter_:', type(ret)) # noqa E501\n",
    "except Exception as e:\n",
    "    type_sklearn_ensemble__hist_gradient_boosting_gradient_boosting_HistGradientBoostingClassifier_n_iter_ = '_syft_missing'\n",
    "    print('❌ sklearn.ensemble._hist_gradient_boosting.gradient_boosting.HistGradientBoostingClassifier.n_iter_: Return unavailable') # noqa E501\n",
    "    print(\"  Please fix this return type code until there is no exception\")\n",
    "    print('  Error:', e)\n"
   ]
  },
  {
   "cell_type": "code",
   "execution_count": null,
   "id": "viral-chamber",
   "metadata": {},
   "outputs": [],
   "source": [
    "# sklearn.ensemble._hist_gradient_boosting.gradient_boosting.HistGradientBoostingClassifier.predict\n",
    "try:\n",
    "    obj = class_constructor() # noqa F821\n",
    "    ret = obj.predict()\n",
    "    type_sklearn_ensemble__hist_gradient_boosting_gradient_boosting_HistGradientBoostingClassifier_predict = getattr(ret, '__module__', 'none') + '.' + ret.__class__.__name__\n",
    "    print('✅ sklearn.ensemble._hist_gradient_boosting.gradient_boosting.HistGradientBoostingClassifier.predict: ', type(ret)) # noqa E501\n",
    "except Exception as e:\n",
    "    type_sklearn_ensemble__hist_gradient_boosting_gradient_boosting_HistGradientBoostingClassifier_predict = '_syft_missing'\n",
    "    print('❌ sklearn.ensemble._hist_gradient_boosting.gradient_boosting.HistGradientBoostingClassifier.predict: Return unavailable') # noqa E501\n",
    "    print(\"  Please fix this return type code until there is no exception\")\n",
    "    print('  Error:', e)\n"
   ]
  },
  {
   "cell_type": "code",
   "execution_count": null,
   "id": "forced-fossil",
   "metadata": {},
   "outputs": [],
   "source": [
    "# sklearn.ensemble._hist_gradient_boosting.gradient_boosting.HistGradientBoostingClassifier.predict_proba\n",
    "try:\n",
    "    obj = class_constructor() # noqa F821\n",
    "    ret = obj.predict_proba()\n",
    "    type_sklearn_ensemble__hist_gradient_boosting_gradient_boosting_HistGradientBoostingClassifier_predict_proba = getattr(ret, '__module__', 'none') + '.' + ret.__class__.__name__\n",
    "    print('✅ sklearn.ensemble._hist_gradient_boosting.gradient_boosting.HistGradientBoostingClassifier.predict_proba: ', type(ret)) # noqa E501\n",
    "except Exception as e:\n",
    "    type_sklearn_ensemble__hist_gradient_boosting_gradient_boosting_HistGradientBoostingClassifier_predict_proba = '_syft_missing'\n",
    "    print('❌ sklearn.ensemble._hist_gradient_boosting.gradient_boosting.HistGradientBoostingClassifier.predict_proba: Return unavailable') # noqa E501\n",
    "    print(\"  Please fix this return type code until there is no exception\")\n",
    "    print('  Error:', e)\n"
   ]
  },
  {
   "cell_type": "code",
   "execution_count": null,
   "id": "documentary-nothing",
   "metadata": {},
   "outputs": [],
   "source": [
    "# sklearn.ensemble._hist_gradient_boosting.gradient_boosting.HistGradientBoostingClassifier.score\n",
    "try:\n",
    "    obj = class_constructor() # noqa F821\n",
    "    ret = obj.score()\n",
    "    type_sklearn_ensemble__hist_gradient_boosting_gradient_boosting_HistGradientBoostingClassifier_score = getattr(ret, '__module__', 'none') + '.' + ret.__class__.__name__\n",
    "    print('✅ sklearn.ensemble._hist_gradient_boosting.gradient_boosting.HistGradientBoostingClassifier.score: ', type(ret)) # noqa E501\n",
    "except Exception as e:\n",
    "    type_sklearn_ensemble__hist_gradient_boosting_gradient_boosting_HistGradientBoostingClassifier_score = '_syft_missing'\n",
    "    print('❌ sklearn.ensemble._hist_gradient_boosting.gradient_boosting.HistGradientBoostingClassifier.score: Return unavailable') # noqa E501\n",
    "    print(\"  Please fix this return type code until there is no exception\")\n",
    "    print('  Error:', e)\n"
   ]
  },
  {
   "cell_type": "code",
   "execution_count": null,
   "id": "disturbed-intersection",
   "metadata": {},
   "outputs": [],
   "source": [
    "# sklearn.ensemble._hist_gradient_boosting.gradient_boosting.HistGradientBoostingClassifier.set_params\n",
    "try:\n",
    "    obj = class_constructor() # noqa F821\n",
    "    ret = obj.set_params()\n",
    "    type_sklearn_ensemble__hist_gradient_boosting_gradient_boosting_HistGradientBoostingClassifier_set_params = getattr(ret, '__module__', 'none') + '.' + ret.__class__.__name__\n",
    "    print('✅ sklearn.ensemble._hist_gradient_boosting.gradient_boosting.HistGradientBoostingClassifier.set_params: ', type(ret)) # noqa E501\n",
    "except Exception as e:\n",
    "    type_sklearn_ensemble__hist_gradient_boosting_gradient_boosting_HistGradientBoostingClassifier_set_params = '_syft_missing'\n",
    "    print('❌ sklearn.ensemble._hist_gradient_boosting.gradient_boosting.HistGradientBoostingClassifier.set_params: Return unavailable') # noqa E501\n",
    "    print(\"  Please fix this return type code until there is no exception\")\n",
    "    print('  Error:', e)\n"
   ]
  },
  {
   "cell_type": "code",
   "execution_count": null,
   "id": "variable-defendant",
   "metadata": {},
   "outputs": [],
   "source": [
    "# sklearn.ensemble._hist_gradient_boosting.gradient_boosting.HistGradientBoostingClassifier.staged_decision_function\n",
    "try:\n",
    "    obj = class_constructor() # noqa F821\n",
    "    ret = obj.staged_decision_function()\n",
    "    type_sklearn_ensemble__hist_gradient_boosting_gradient_boosting_HistGradientBoostingClassifier_staged_decision_function = getattr(ret, '__module__', 'none') + '.' + ret.__class__.__name__\n",
    "    print('✅ sklearn.ensemble._hist_gradient_boosting.gradient_boosting.HistGradientBoostingClassifier.staged_decision_function: ', type(ret)) # noqa E501\n",
    "except Exception as e:\n",
    "    type_sklearn_ensemble__hist_gradient_boosting_gradient_boosting_HistGradientBoostingClassifier_staged_decision_function = '_syft_missing'\n",
    "    print('❌ sklearn.ensemble._hist_gradient_boosting.gradient_boosting.HistGradientBoostingClassifier.staged_decision_function: Return unavailable') # noqa E501\n",
    "    print(\"  Please fix this return type code until there is no exception\")\n",
    "    print('  Error:', e)\n"
   ]
  },
  {
   "cell_type": "code",
   "execution_count": null,
   "id": "brutal-johnson",
   "metadata": {},
   "outputs": [],
   "source": [
    "# sklearn.ensemble._hist_gradient_boosting.gradient_boosting.HistGradientBoostingClassifier.staged_predict\n",
    "try:\n",
    "    obj = class_constructor() # noqa F821\n",
    "    ret = obj.staged_predict()\n",
    "    type_sklearn_ensemble__hist_gradient_boosting_gradient_boosting_HistGradientBoostingClassifier_staged_predict = getattr(ret, '__module__', 'none') + '.' + ret.__class__.__name__\n",
    "    print('✅ sklearn.ensemble._hist_gradient_boosting.gradient_boosting.HistGradientBoostingClassifier.staged_predict: ', type(ret)) # noqa E501\n",
    "except Exception as e:\n",
    "    type_sklearn_ensemble__hist_gradient_boosting_gradient_boosting_HistGradientBoostingClassifier_staged_predict = '_syft_missing'\n",
    "    print('❌ sklearn.ensemble._hist_gradient_boosting.gradient_boosting.HistGradientBoostingClassifier.staged_predict: Return unavailable') # noqa E501\n",
    "    print(\"  Please fix this return type code until there is no exception\")\n",
    "    print('  Error:', e)\n"
   ]
  },
  {
   "cell_type": "code",
   "execution_count": null,
   "id": "complete-platform",
   "metadata": {},
   "outputs": [],
   "source": [
    "# sklearn.ensemble._hist_gradient_boosting.gradient_boosting.HistGradientBoostingClassifier.staged_predict_proba\n",
    "try:\n",
    "    obj = class_constructor() # noqa F821\n",
    "    ret = obj.staged_predict_proba()\n",
    "    type_sklearn_ensemble__hist_gradient_boosting_gradient_boosting_HistGradientBoostingClassifier_staged_predict_proba = getattr(ret, '__module__', 'none') + '.' + ret.__class__.__name__\n",
    "    print('✅ sklearn.ensemble._hist_gradient_boosting.gradient_boosting.HistGradientBoostingClassifier.staged_predict_proba: ', type(ret)) # noqa E501\n",
    "except Exception as e:\n",
    "    type_sklearn_ensemble__hist_gradient_boosting_gradient_boosting_HistGradientBoostingClassifier_staged_predict_proba = '_syft_missing'\n",
    "    print('❌ sklearn.ensemble._hist_gradient_boosting.gradient_boosting.HistGradientBoostingClassifier.staged_predict_proba: Return unavailable') # noqa E501\n",
    "    print(\"  Please fix this return type code until there is no exception\")\n",
    "    print('  Error:', e)\n"
   ]
  }
 ],
 "metadata": {},
 "nbformat": 4,
 "nbformat_minor": 5
}
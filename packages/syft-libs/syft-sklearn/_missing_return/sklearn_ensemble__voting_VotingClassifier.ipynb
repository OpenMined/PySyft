{
 "cells": [
  {
   "cell_type": "markdown",
   "id": "attempted-small",
   "metadata": {},
   "source": [
    "## sklearn.ensemble._voting.VotingClassifier"
   ]
  },
  {
   "cell_type": "code",
   "execution_count": null,
   "id": "metric-ocean",
   "metadata": {},
   "outputs": [],
   "source": [
    "import sklearn\n",
    "def class_constructor(*args, **kwargs):\n",
    "    obj = sklearn.ensemble._voting.VotingClassifier()\n",
    "    return obj\n"
   ]
  },
  {
   "cell_type": "code",
   "execution_count": null,
   "id": "spoken-reach",
   "metadata": {},
   "outputs": [],
   "source": [
    "# sklearn.ensemble._voting.VotingClassifier.__getstate__\n",
    "try:\n",
    "    obj = class_constructor() # noqa F821\n",
    "    ret = obj.__getstate__()\n",
    "    type_sklearn_ensemble__voting_VotingClassifier___getstate__ = getattr(ret, '__module__', 'none') + '.' + ret.__class__.__name__\n",
    "    print('✅ sklearn.ensemble._voting.VotingClassifier.__getstate__: ', type(ret)) # noqa E501\n",
    "except Exception as e:\n",
    "    type_sklearn_ensemble__voting_VotingClassifier___getstate__ = '_syft_missing'\n",
    "    print('❌ sklearn.ensemble._voting.VotingClassifier.__getstate__: Return unavailable') # noqa E501\n",
    "    print(\"  Please fix this return type code until there is no exception\")\n",
    "    print('  Error:', e)\n"
   ]
  },
  {
   "cell_type": "code",
   "execution_count": null,
   "id": "stainless-comfort",
   "metadata": {},
   "outputs": [],
   "source": [
    "# sklearn.ensemble._voting.VotingClassifier.__repr__\n",
    "try:\n",
    "    obj = class_constructor() # noqa F821\n",
    "    ret = obj.__repr__()\n",
    "    type_sklearn_ensemble__voting_VotingClassifier___repr__ = getattr(ret, '__module__', 'none') + '.' + ret.__class__.__name__\n",
    "    print('✅ sklearn.ensemble._voting.VotingClassifier.__repr__: ', type(ret)) # noqa E501\n",
    "except Exception as e:\n",
    "    type_sklearn_ensemble__voting_VotingClassifier___repr__ = '_syft_missing'\n",
    "    print('❌ sklearn.ensemble._voting.VotingClassifier.__repr__: Return unavailable') # noqa E501\n",
    "    print(\"  Please fix this return type code until there is no exception\")\n",
    "    print('  Error:', e)\n"
   ]
  },
  {
   "cell_type": "code",
   "execution_count": null,
   "id": "broad-butter",
   "metadata": {},
   "outputs": [],
   "source": [
    "# sklearn.ensemble._voting.VotingClassifier.__setstate__\n",
    "try:\n",
    "    obj = class_constructor() # noqa F821\n",
    "    ret = obj.__setstate__()\n",
    "    type_sklearn_ensemble__voting_VotingClassifier___setstate__ = getattr(ret, '__module__', 'none') + '.' + ret.__class__.__name__\n",
    "    print('✅ sklearn.ensemble._voting.VotingClassifier.__setstate__: ', type(ret)) # noqa E501\n",
    "except Exception as e:\n",
    "    type_sklearn_ensemble__voting_VotingClassifier___setstate__ = '_syft_missing'\n",
    "    print('❌ sklearn.ensemble._voting.VotingClassifier.__setstate__: Return unavailable') # noqa E501\n",
    "    print(\"  Please fix this return type code until there is no exception\")\n",
    "    print('  Error:', e)\n"
   ]
  },
  {
   "cell_type": "code",
   "execution_count": null,
   "id": "closed-circuit",
   "metadata": {},
   "outputs": [],
   "source": [
    "# sklearn.ensemble._voting.VotingClassifier._check_n_features\n",
    "try:\n",
    "    obj = class_constructor() # noqa F821\n",
    "    ret = obj._check_n_features()\n",
    "    type_sklearn_ensemble__voting_VotingClassifier__check_n_features = getattr(ret, '__module__', 'none') + '.' + ret.__class__.__name__\n",
    "    print('✅ sklearn.ensemble._voting.VotingClassifier._check_n_features: ', type(ret)) # noqa E501\n",
    "except Exception as e:\n",
    "    type_sklearn_ensemble__voting_VotingClassifier__check_n_features = '_syft_missing'\n",
    "    print('❌ sklearn.ensemble._voting.VotingClassifier._check_n_features: Return unavailable') # noqa E501\n",
    "    print(\"  Please fix this return type code until there is no exception\")\n",
    "    print('  Error:', e)\n"
   ]
  },
  {
   "cell_type": "code",
   "execution_count": null,
   "id": "cognitive-chess",
   "metadata": {},
   "outputs": [],
   "source": [
    "# sklearn.ensemble._voting.VotingClassifier._collect_probas\n",
    "try:\n",
    "    obj = class_constructor() # noqa F821\n",
    "    ret = obj._collect_probas()\n",
    "    type_sklearn_ensemble__voting_VotingClassifier__collect_probas = getattr(ret, '__module__', 'none') + '.' + ret.__class__.__name__\n",
    "    print('✅ sklearn.ensemble._voting.VotingClassifier._collect_probas: ', type(ret)) # noqa E501\n",
    "except Exception as e:\n",
    "    type_sklearn_ensemble__voting_VotingClassifier__collect_probas = '_syft_missing'\n",
    "    print('❌ sklearn.ensemble._voting.VotingClassifier._collect_probas: Return unavailable') # noqa E501\n",
    "    print(\"  Please fix this return type code until there is no exception\")\n",
    "    print('  Error:', e)\n"
   ]
  },
  {
   "cell_type": "code",
   "execution_count": null,
   "id": "short-portugal",
   "metadata": {},
   "outputs": [],
   "source": [
    "# sklearn.ensemble._voting.VotingClassifier._get_param_names\n",
    "try:\n",
    "    obj = class_constructor() # noqa F821\n",
    "    ret = obj._get_param_names()\n",
    "    type_sklearn_ensemble__voting_VotingClassifier__get_param_names = getattr(ret, '__module__', 'none') + '.' + ret.__class__.__name__\n",
    "    print('✅ sklearn.ensemble._voting.VotingClassifier._get_param_names: ', type(ret)) # noqa E501\n",
    "except Exception as e:\n",
    "    type_sklearn_ensemble__voting_VotingClassifier__get_param_names = '_syft_missing'\n",
    "    print('❌ sklearn.ensemble._voting.VotingClassifier._get_param_names: Return unavailable') # noqa E501\n",
    "    print(\"  Please fix this return type code until there is no exception\")\n",
    "    print('  Error:', e)\n"
   ]
  },
  {
   "cell_type": "code",
   "execution_count": null,
   "id": "least-command",
   "metadata": {},
   "outputs": [],
   "source": [
    "# sklearn.ensemble._voting.VotingClassifier._get_params\n",
    "try:\n",
    "    obj = class_constructor() # noqa F821\n",
    "    ret = obj._get_params()\n",
    "    type_sklearn_ensemble__voting_VotingClassifier__get_params = getattr(ret, '__module__', 'none') + '.' + ret.__class__.__name__\n",
    "    print('✅ sklearn.ensemble._voting.VotingClassifier._get_params: ', type(ret)) # noqa E501\n",
    "except Exception as e:\n",
    "    type_sklearn_ensemble__voting_VotingClassifier__get_params = '_syft_missing'\n",
    "    print('❌ sklearn.ensemble._voting.VotingClassifier._get_params: Return unavailable') # noqa E501\n",
    "    print(\"  Please fix this return type code until there is no exception\")\n",
    "    print('  Error:', e)\n"
   ]
  },
  {
   "cell_type": "code",
   "execution_count": null,
   "id": "marked-drove",
   "metadata": {},
   "outputs": [],
   "source": [
    "# sklearn.ensemble._voting.VotingClassifier._get_tags\n",
    "try:\n",
    "    obj = class_constructor() # noqa F821\n",
    "    ret = obj._get_tags()\n",
    "    type_sklearn_ensemble__voting_VotingClassifier__get_tags = getattr(ret, '__module__', 'none') + '.' + ret.__class__.__name__\n",
    "    print('✅ sklearn.ensemble._voting.VotingClassifier._get_tags: ', type(ret)) # noqa E501\n",
    "except Exception as e:\n",
    "    type_sklearn_ensemble__voting_VotingClassifier__get_tags = '_syft_missing'\n",
    "    print('❌ sklearn.ensemble._voting.VotingClassifier._get_tags: Return unavailable') # noqa E501\n",
    "    print(\"  Please fix this return type code until there is no exception\")\n",
    "    print('  Error:', e)\n"
   ]
  },
  {
   "cell_type": "code",
   "execution_count": null,
   "id": "celtic-theology",
   "metadata": {},
   "outputs": [],
   "source": [
    "# sklearn.ensemble._voting.VotingClassifier._log_message\n",
    "try:\n",
    "    obj = class_constructor() # noqa F821\n",
    "    ret = obj._log_message()\n",
    "    type_sklearn_ensemble__voting_VotingClassifier__log_message = getattr(ret, '__module__', 'none') + '.' + ret.__class__.__name__\n",
    "    print('✅ sklearn.ensemble._voting.VotingClassifier._log_message: ', type(ret)) # noqa E501\n",
    "except Exception as e:\n",
    "    type_sklearn_ensemble__voting_VotingClassifier__log_message = '_syft_missing'\n",
    "    print('❌ sklearn.ensemble._voting.VotingClassifier._log_message: Return unavailable') # noqa E501\n",
    "    print(\"  Please fix this return type code until there is no exception\")\n",
    "    print('  Error:', e)\n"
   ]
  },
  {
   "cell_type": "code",
   "execution_count": null,
   "id": "infrared-reaction",
   "metadata": {},
   "outputs": [],
   "source": [
    "# sklearn.ensemble._voting.VotingClassifier._more_tags\n",
    "try:\n",
    "    obj = class_constructor() # noqa F821\n",
    "    ret = obj._more_tags()\n",
    "    type_sklearn_ensemble__voting_VotingClassifier__more_tags = getattr(ret, '__module__', 'none') + '.' + ret.__class__.__name__\n",
    "    print('✅ sklearn.ensemble._voting.VotingClassifier._more_tags: ', type(ret)) # noqa E501\n",
    "except Exception as e:\n",
    "    type_sklearn_ensemble__voting_VotingClassifier__more_tags = '_syft_missing'\n",
    "    print('❌ sklearn.ensemble._voting.VotingClassifier._more_tags: Return unavailable') # noqa E501\n",
    "    print(\"  Please fix this return type code until there is no exception\")\n",
    "    print('  Error:', e)\n"
   ]
  },
  {
   "cell_type": "code",
   "execution_count": null,
   "id": "protected-operator",
   "metadata": {},
   "outputs": [],
   "source": [
    "# sklearn.ensemble._voting.VotingClassifier._predict\n",
    "try:\n",
    "    obj = class_constructor() # noqa F821\n",
    "    ret = obj._predict()\n",
    "    type_sklearn_ensemble__voting_VotingClassifier__predict = getattr(ret, '__module__', 'none') + '.' + ret.__class__.__name__\n",
    "    print('✅ sklearn.ensemble._voting.VotingClassifier._predict: ', type(ret)) # noqa E501\n",
    "except Exception as e:\n",
    "    type_sklearn_ensemble__voting_VotingClassifier__predict = '_syft_missing'\n",
    "    print('❌ sklearn.ensemble._voting.VotingClassifier._predict: Return unavailable') # noqa E501\n",
    "    print(\"  Please fix this return type code until there is no exception\")\n",
    "    print('  Error:', e)\n"
   ]
  },
  {
   "cell_type": "code",
   "execution_count": null,
   "id": "published-pharmacology",
   "metadata": {},
   "outputs": [],
   "source": [
    "# sklearn.ensemble._voting.VotingClassifier._predict_proba\n",
    "try:\n",
    "    obj = class_constructor() # noqa F821\n",
    "    ret = obj._predict_proba()\n",
    "    type_sklearn_ensemble__voting_VotingClassifier__predict_proba = getattr(ret, '__module__', 'none') + '.' + ret.__class__.__name__\n",
    "    print('✅ sklearn.ensemble._voting.VotingClassifier._predict_proba: ', type(ret)) # noqa E501\n",
    "except Exception as e:\n",
    "    type_sklearn_ensemble__voting_VotingClassifier__predict_proba = '_syft_missing'\n",
    "    print('❌ sklearn.ensemble._voting.VotingClassifier._predict_proba: Return unavailable') # noqa E501\n",
    "    print(\"  Please fix this return type code until there is no exception\")\n",
    "    print('  Error:', e)\n"
   ]
  },
  {
   "cell_type": "code",
   "execution_count": null,
   "id": "floating-plasma",
   "metadata": {},
   "outputs": [],
   "source": [
    "# sklearn.ensemble._voting.VotingClassifier._replace_estimator\n",
    "try:\n",
    "    obj = class_constructor() # noqa F821\n",
    "    ret = obj._replace_estimator()\n",
    "    type_sklearn_ensemble__voting_VotingClassifier__replace_estimator = getattr(ret, '__module__', 'none') + '.' + ret.__class__.__name__\n",
    "    print('✅ sklearn.ensemble._voting.VotingClassifier._replace_estimator: ', type(ret)) # noqa E501\n",
    "except Exception as e:\n",
    "    type_sklearn_ensemble__voting_VotingClassifier__replace_estimator = '_syft_missing'\n",
    "    print('❌ sklearn.ensemble._voting.VotingClassifier._replace_estimator: Return unavailable') # noqa E501\n",
    "    print(\"  Please fix this return type code until there is no exception\")\n",
    "    print('  Error:', e)\n"
   ]
  },
  {
   "cell_type": "code",
   "execution_count": null,
   "id": "light-legend",
   "metadata": {},
   "outputs": [],
   "source": [
    "# sklearn.ensemble._voting.VotingClassifier._repr_html_\n",
    "try:\n",
    "    obj = class_constructor()\n",
    "    ret = obj._repr_html_\n",
    "    type_sklearn_ensemble__voting_VotingClassifier__repr_html_ = getattr(ret, '__module__', 'none') + '.' + ret.__class__.__name__\n",
    "    print('✅ sklearn.ensemble._voting.VotingClassifier._repr_html_:', type(ret)) # noqa E501\n",
    "except Exception as e:\n",
    "    type_sklearn_ensemble__voting_VotingClassifier__repr_html_ = '_syft_missing'\n",
    "    print('❌ sklearn.ensemble._voting.VotingClassifier._repr_html_: Return unavailable') # noqa E501\n",
    "    print(\"  Please fix this return type code until there is no exception\")\n",
    "    print('  Error:', e)\n"
   ]
  },
  {
   "cell_type": "code",
   "execution_count": null,
   "id": "durable-profession",
   "metadata": {},
   "outputs": [],
   "source": [
    "# sklearn.ensemble._voting.VotingClassifier._repr_html_inner\n",
    "try:\n",
    "    obj = class_constructor() # noqa F821\n",
    "    ret = obj._repr_html_inner()\n",
    "    type_sklearn_ensemble__voting_VotingClassifier__repr_html_inner = getattr(ret, '__module__', 'none') + '.' + ret.__class__.__name__\n",
    "    print('✅ sklearn.ensemble._voting.VotingClassifier._repr_html_inner: ', type(ret)) # noqa E501\n",
    "except Exception as e:\n",
    "    type_sklearn_ensemble__voting_VotingClassifier__repr_html_inner = '_syft_missing'\n",
    "    print('❌ sklearn.ensemble._voting.VotingClassifier._repr_html_inner: Return unavailable') # noqa E501\n",
    "    print(\"  Please fix this return type code until there is no exception\")\n",
    "    print('  Error:', e)\n"
   ]
  },
  {
   "cell_type": "code",
   "execution_count": null,
   "id": "interested-adrian",
   "metadata": {},
   "outputs": [],
   "source": [
    "# sklearn.ensemble._voting.VotingClassifier._repr_mimebundle_\n",
    "try:\n",
    "    obj = class_constructor() # noqa F821\n",
    "    ret = obj._repr_mimebundle_()\n",
    "    type_sklearn_ensemble__voting_VotingClassifier__repr_mimebundle_ = getattr(ret, '__module__', 'none') + '.' + ret.__class__.__name__\n",
    "    print('✅ sklearn.ensemble._voting.VotingClassifier._repr_mimebundle_: ', type(ret)) # noqa E501\n",
    "except Exception as e:\n",
    "    type_sklearn_ensemble__voting_VotingClassifier__repr_mimebundle_ = '_syft_missing'\n",
    "    print('❌ sklearn.ensemble._voting.VotingClassifier._repr_mimebundle_: Return unavailable') # noqa E501\n",
    "    print(\"  Please fix this return type code until there is no exception\")\n",
    "    print('  Error:', e)\n"
   ]
  },
  {
   "cell_type": "code",
   "execution_count": null,
   "id": "level-milton",
   "metadata": {},
   "outputs": [],
   "source": [
    "# sklearn.ensemble._voting.VotingClassifier._set_params\n",
    "try:\n",
    "    obj = class_constructor() # noqa F821\n",
    "    ret = obj._set_params()\n",
    "    type_sklearn_ensemble__voting_VotingClassifier__set_params = getattr(ret, '__module__', 'none') + '.' + ret.__class__.__name__\n",
    "    print('✅ sklearn.ensemble._voting.VotingClassifier._set_params: ', type(ret)) # noqa E501\n",
    "except Exception as e:\n",
    "    type_sklearn_ensemble__voting_VotingClassifier__set_params = '_syft_missing'\n",
    "    print('❌ sklearn.ensemble._voting.VotingClassifier._set_params: Return unavailable') # noqa E501\n",
    "    print(\"  Please fix this return type code until there is no exception\")\n",
    "    print('  Error:', e)\n"
   ]
  },
  {
   "cell_type": "code",
   "execution_count": null,
   "id": "raised-communication",
   "metadata": {},
   "outputs": [],
   "source": [
    "# sklearn.ensemble._voting.VotingClassifier._sk_visual_block_\n",
    "try:\n",
    "    obj = class_constructor() # noqa F821\n",
    "    ret = obj._sk_visual_block_()\n",
    "    type_sklearn_ensemble__voting_VotingClassifier__sk_visual_block_ = getattr(ret, '__module__', 'none') + '.' + ret.__class__.__name__\n",
    "    print('✅ sklearn.ensemble._voting.VotingClassifier._sk_visual_block_: ', type(ret)) # noqa E501\n",
    "except Exception as e:\n",
    "    type_sklearn_ensemble__voting_VotingClassifier__sk_visual_block_ = '_syft_missing'\n",
    "    print('❌ sklearn.ensemble._voting.VotingClassifier._sk_visual_block_: Return unavailable') # noqa E501\n",
    "    print(\"  Please fix this return type code until there is no exception\")\n",
    "    print('  Error:', e)\n"
   ]
  },
  {
   "cell_type": "code",
   "execution_count": null,
   "id": "minus-session",
   "metadata": {},
   "outputs": [],
   "source": [
    "# sklearn.ensemble._voting.VotingClassifier._validate_data\n",
    "try:\n",
    "    obj = class_constructor() # noqa F821\n",
    "    ret = obj._validate_data()\n",
    "    type_sklearn_ensemble__voting_VotingClassifier__validate_data = getattr(ret, '__module__', 'none') + '.' + ret.__class__.__name__\n",
    "    print('✅ sklearn.ensemble._voting.VotingClassifier._validate_data: ', type(ret)) # noqa E501\n",
    "except Exception as e:\n",
    "    type_sklearn_ensemble__voting_VotingClassifier__validate_data = '_syft_missing'\n",
    "    print('❌ sklearn.ensemble._voting.VotingClassifier._validate_data: Return unavailable') # noqa E501\n",
    "    print(\"  Please fix this return type code until there is no exception\")\n",
    "    print('  Error:', e)\n"
   ]
  },
  {
   "cell_type": "code",
   "execution_count": null,
   "id": "aging-attitude",
   "metadata": {},
   "outputs": [],
   "source": [
    "# sklearn.ensemble._voting.VotingClassifier._validate_estimators\n",
    "try:\n",
    "    obj = class_constructor() # noqa F821\n",
    "    ret = obj._validate_estimators()\n",
    "    type_sklearn_ensemble__voting_VotingClassifier__validate_estimators = getattr(ret, '__module__', 'none') + '.' + ret.__class__.__name__\n",
    "    print('✅ sklearn.ensemble._voting.VotingClassifier._validate_estimators: ', type(ret)) # noqa E501\n",
    "except Exception as e:\n",
    "    type_sklearn_ensemble__voting_VotingClassifier__validate_estimators = '_syft_missing'\n",
    "    print('❌ sklearn.ensemble._voting.VotingClassifier._validate_estimators: Return unavailable') # noqa E501\n",
    "    print(\"  Please fix this return type code until there is no exception\")\n",
    "    print('  Error:', e)\n"
   ]
  },
  {
   "cell_type": "code",
   "execution_count": null,
   "id": "postal-savings",
   "metadata": {},
   "outputs": [],
   "source": [
    "# sklearn.ensemble._voting.VotingClassifier._validate_names\n",
    "try:\n",
    "    obj = class_constructor() # noqa F821\n",
    "    ret = obj._validate_names()\n",
    "    type_sklearn_ensemble__voting_VotingClassifier__validate_names = getattr(ret, '__module__', 'none') + '.' + ret.__class__.__name__\n",
    "    print('✅ sklearn.ensemble._voting.VotingClassifier._validate_names: ', type(ret)) # noqa E501\n",
    "except Exception as e:\n",
    "    type_sklearn_ensemble__voting_VotingClassifier__validate_names = '_syft_missing'\n",
    "    print('❌ sklearn.ensemble._voting.VotingClassifier._validate_names: Return unavailable') # noqa E501\n",
    "    print(\"  Please fix this return type code until there is no exception\")\n",
    "    print('  Error:', e)\n"
   ]
  },
  {
   "cell_type": "code",
   "execution_count": null,
   "id": "unsigned-milton",
   "metadata": {},
   "outputs": [],
   "source": [
    "# sklearn.ensemble._voting.VotingClassifier._weights_not_none\n",
    "try:\n",
    "    obj = class_constructor()\n",
    "    ret = obj._weights_not_none\n",
    "    type_sklearn_ensemble__voting_VotingClassifier__weights_not_none = getattr(ret, '__module__', 'none') + '.' + ret.__class__.__name__\n",
    "    print('✅ sklearn.ensemble._voting.VotingClassifier._weights_not_none:', type(ret)) # noqa E501\n",
    "except Exception as e:\n",
    "    type_sklearn_ensemble__voting_VotingClassifier__weights_not_none = '_syft_missing'\n",
    "    print('❌ sklearn.ensemble._voting.VotingClassifier._weights_not_none: Return unavailable') # noqa E501\n",
    "    print(\"  Please fix this return type code until there is no exception\")\n",
    "    print('  Error:', e)\n"
   ]
  },
  {
   "cell_type": "code",
   "execution_count": null,
   "id": "cultural-plane",
   "metadata": {},
   "outputs": [],
   "source": [
    "# sklearn.ensemble._voting.VotingClassifier.fit\n",
    "try:\n",
    "    obj = class_constructor() # noqa F821\n",
    "    ret = obj.fit()\n",
    "    type_sklearn_ensemble__voting_VotingClassifier_fit = getattr(ret, '__module__', 'none') + '.' + ret.__class__.__name__\n",
    "    print('✅ sklearn.ensemble._voting.VotingClassifier.fit: ', type(ret)) # noqa E501\n",
    "except Exception as e:\n",
    "    type_sklearn_ensemble__voting_VotingClassifier_fit = '_syft_missing'\n",
    "    print('❌ sklearn.ensemble._voting.VotingClassifier.fit: Return unavailable') # noqa E501\n",
    "    print(\"  Please fix this return type code until there is no exception\")\n",
    "    print('  Error:', e)\n"
   ]
  },
  {
   "cell_type": "code",
   "execution_count": null,
   "id": "republican-headset",
   "metadata": {},
   "outputs": [],
   "source": [
    "# sklearn.ensemble._voting.VotingClassifier.fit_transform\n",
    "try:\n",
    "    obj = class_constructor() # noqa F821\n",
    "    ret = obj.fit_transform()\n",
    "    type_sklearn_ensemble__voting_VotingClassifier_fit_transform = getattr(ret, '__module__', 'none') + '.' + ret.__class__.__name__\n",
    "    print('✅ sklearn.ensemble._voting.VotingClassifier.fit_transform: ', type(ret)) # noqa E501\n",
    "except Exception as e:\n",
    "    type_sklearn_ensemble__voting_VotingClassifier_fit_transform = '_syft_missing'\n",
    "    print('❌ sklearn.ensemble._voting.VotingClassifier.fit_transform: Return unavailable') # noqa E501\n",
    "    print(\"  Please fix this return type code until there is no exception\")\n",
    "    print('  Error:', e)\n"
   ]
  },
  {
   "cell_type": "code",
   "execution_count": null,
   "id": "durable-garage",
   "metadata": {},
   "outputs": [],
   "source": [
    "# sklearn.ensemble._voting.VotingClassifier.get_params\n",
    "try:\n",
    "    obj = class_constructor() # noqa F821\n",
    "    ret = obj.get_params()\n",
    "    type_sklearn_ensemble__voting_VotingClassifier_get_params = getattr(ret, '__module__', 'none') + '.' + ret.__class__.__name__\n",
    "    print('✅ sklearn.ensemble._voting.VotingClassifier.get_params: ', type(ret)) # noqa E501\n",
    "except Exception as e:\n",
    "    type_sklearn_ensemble__voting_VotingClassifier_get_params = '_syft_missing'\n",
    "    print('❌ sklearn.ensemble._voting.VotingClassifier.get_params: Return unavailable') # noqa E501\n",
    "    print(\"  Please fix this return type code until there is no exception\")\n",
    "    print('  Error:', e)\n"
   ]
  },
  {
   "cell_type": "code",
   "execution_count": null,
   "id": "alert-crack",
   "metadata": {},
   "outputs": [],
   "source": [
    "# sklearn.ensemble._voting.VotingClassifier.n_features_in_\n",
    "try:\n",
    "    obj = class_constructor()\n",
    "    ret = obj.n_features_in_\n",
    "    type_sklearn_ensemble__voting_VotingClassifier_n_features_in_ = getattr(ret, '__module__', 'none') + '.' + ret.__class__.__name__\n",
    "    print('✅ sklearn.ensemble._voting.VotingClassifier.n_features_in_:', type(ret)) # noqa E501\n",
    "except Exception as e:\n",
    "    type_sklearn_ensemble__voting_VotingClassifier_n_features_in_ = '_syft_missing'\n",
    "    print('❌ sklearn.ensemble._voting.VotingClassifier.n_features_in_: Return unavailable') # noqa E501\n",
    "    print(\"  Please fix this return type code until there is no exception\")\n",
    "    print('  Error:', e)\n"
   ]
  },
  {
   "cell_type": "code",
   "execution_count": null,
   "id": "confident-charleston",
   "metadata": {},
   "outputs": [],
   "source": [
    "# sklearn.ensemble._voting.VotingClassifier.named_estimators\n",
    "try:\n",
    "    obj = class_constructor()\n",
    "    ret = obj.named_estimators\n",
    "    type_sklearn_ensemble__voting_VotingClassifier_named_estimators = getattr(ret, '__module__', 'none') + '.' + ret.__class__.__name__\n",
    "    print('✅ sklearn.ensemble._voting.VotingClassifier.named_estimators:', type(ret)) # noqa E501\n",
    "except Exception as e:\n",
    "    type_sklearn_ensemble__voting_VotingClassifier_named_estimators = '_syft_missing'\n",
    "    print('❌ sklearn.ensemble._voting.VotingClassifier.named_estimators: Return unavailable') # noqa E501\n",
    "    print(\"  Please fix this return type code until there is no exception\")\n",
    "    print('  Error:', e)\n"
   ]
  },
  {
   "cell_type": "code",
   "execution_count": null,
   "id": "living-newport",
   "metadata": {},
   "outputs": [],
   "source": [
    "# sklearn.ensemble._voting.VotingClassifier.predict\n",
    "try:\n",
    "    obj = class_constructor() # noqa F821\n",
    "    ret = obj.predict()\n",
    "    type_sklearn_ensemble__voting_VotingClassifier_predict = getattr(ret, '__module__', 'none') + '.' + ret.__class__.__name__\n",
    "    print('✅ sklearn.ensemble._voting.VotingClassifier.predict: ', type(ret)) # noqa E501\n",
    "except Exception as e:\n",
    "    type_sklearn_ensemble__voting_VotingClassifier_predict = '_syft_missing'\n",
    "    print('❌ sklearn.ensemble._voting.VotingClassifier.predict: Return unavailable') # noqa E501\n",
    "    print(\"  Please fix this return type code until there is no exception\")\n",
    "    print('  Error:', e)\n"
   ]
  },
  {
   "cell_type": "code",
   "execution_count": null,
   "id": "administrative-dietary",
   "metadata": {},
   "outputs": [],
   "source": [
    "# sklearn.ensemble._voting.VotingClassifier.predict_proba\n",
    "try:\n",
    "    obj = class_constructor()\n",
    "    ret = obj.predict_proba\n",
    "    type_sklearn_ensemble__voting_VotingClassifier_predict_proba = getattr(ret, '__module__', 'none') + '.' + ret.__class__.__name__\n",
    "    print('✅ sklearn.ensemble._voting.VotingClassifier.predict_proba:', type(ret)) # noqa E501\n",
    "except Exception as e:\n",
    "    type_sklearn_ensemble__voting_VotingClassifier_predict_proba = '_syft_missing'\n",
    "    print('❌ sklearn.ensemble._voting.VotingClassifier.predict_proba: Return unavailable') # noqa E501\n",
    "    print(\"  Please fix this return type code until there is no exception\")\n",
    "    print('  Error:', e)\n"
   ]
  },
  {
   "cell_type": "code",
   "execution_count": null,
   "id": "physical-pierre",
   "metadata": {},
   "outputs": [],
   "source": [
    "# sklearn.ensemble._voting.VotingClassifier.score\n",
    "try:\n",
    "    obj = class_constructor() # noqa F821\n",
    "    ret = obj.score()\n",
    "    type_sklearn_ensemble__voting_VotingClassifier_score = getattr(ret, '__module__', 'none') + '.' + ret.__class__.__name__\n",
    "    print('✅ sklearn.ensemble._voting.VotingClassifier.score: ', type(ret)) # noqa E501\n",
    "except Exception as e:\n",
    "    type_sklearn_ensemble__voting_VotingClassifier_score = '_syft_missing'\n",
    "    print('❌ sklearn.ensemble._voting.VotingClassifier.score: Return unavailable') # noqa E501\n",
    "    print(\"  Please fix this return type code until there is no exception\")\n",
    "    print('  Error:', e)\n"
   ]
  },
  {
   "cell_type": "code",
   "execution_count": null,
   "id": "lovely-anthony",
   "metadata": {},
   "outputs": [],
   "source": [
    "# sklearn.ensemble._voting.VotingClassifier.set_params\n",
    "try:\n",
    "    obj = class_constructor() # noqa F821\n",
    "    ret = obj.set_params()\n",
    "    type_sklearn_ensemble__voting_VotingClassifier_set_params = getattr(ret, '__module__', 'none') + '.' + ret.__class__.__name__\n",
    "    print('✅ sklearn.ensemble._voting.VotingClassifier.set_params: ', type(ret)) # noqa E501\n",
    "except Exception as e:\n",
    "    type_sklearn_ensemble__voting_VotingClassifier_set_params = '_syft_missing'\n",
    "    print('❌ sklearn.ensemble._voting.VotingClassifier.set_params: Return unavailable') # noqa E501\n",
    "    print(\"  Please fix this return type code until there is no exception\")\n",
    "    print('  Error:', e)\n"
   ]
  },
  {
   "cell_type": "code",
   "execution_count": null,
   "id": "flexible-lodging",
   "metadata": {},
   "outputs": [],
   "source": [
    "# sklearn.ensemble._voting.VotingClassifier.transform\n",
    "try:\n",
    "    obj = class_constructor() # noqa F821\n",
    "    ret = obj.transform()\n",
    "    type_sklearn_ensemble__voting_VotingClassifier_transform = getattr(ret, '__module__', 'none') + '.' + ret.__class__.__name__\n",
    "    print('✅ sklearn.ensemble._voting.VotingClassifier.transform: ', type(ret)) # noqa E501\n",
    "except Exception as e:\n",
    "    type_sklearn_ensemble__voting_VotingClassifier_transform = '_syft_missing'\n",
    "    print('❌ sklearn.ensemble._voting.VotingClassifier.transform: Return unavailable') # noqa E501\n",
    "    print(\"  Please fix this return type code until there is no exception\")\n",
    "    print('  Error:', e)\n"
   ]
  }
 ],
 "metadata": {},
 "nbformat": 4,
 "nbformat_minor": 5
}
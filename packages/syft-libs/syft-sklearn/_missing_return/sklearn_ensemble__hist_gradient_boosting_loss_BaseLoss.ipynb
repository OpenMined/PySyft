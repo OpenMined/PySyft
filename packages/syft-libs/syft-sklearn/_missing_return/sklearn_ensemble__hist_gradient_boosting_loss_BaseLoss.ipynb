{
 "cells": [
  {
   "cell_type": "markdown",
   "id": "communist-principal",
   "metadata": {},
   "source": [
    "## sklearn.ensemble._hist_gradient_boosting.loss.BaseLoss"
   ]
  },
  {
   "cell_type": "code",
   "execution_count": null,
   "id": "destroyed-hypothesis",
   "metadata": {},
   "outputs": [],
   "source": [
    "import sklearn\n",
    "def class_constructor(*args, **kwargs):\n",
    "    obj = sklearn.ensemble._hist_gradient_boosting.loss.BaseLoss()\n",
    "    return obj\n"
   ]
  },
  {
   "cell_type": "code",
   "execution_count": null,
   "id": "refined-intellectual",
   "metadata": {},
   "outputs": [],
   "source": [
    "# sklearn.ensemble._hist_gradient_boosting.loss.BaseLoss.__call__\n",
    "try:\n",
    "    obj = class_constructor() # noqa F821\n",
    "    ret = obj.__call__()\n",
    "    type_sklearn_ensemble__hist_gradient_boosting_loss_BaseLoss___call__ = getattr(ret, '__module__', 'none') + '.' + ret.__class__.__name__\n",
    "    print('✅ sklearn.ensemble._hist_gradient_boosting.loss.BaseLoss.__call__: ', type(ret)) # noqa E501\n",
    "except Exception as e:\n",
    "    type_sklearn_ensemble__hist_gradient_boosting_loss_BaseLoss___call__ = '_syft_missing'\n",
    "    print('❌ sklearn.ensemble._hist_gradient_boosting.loss.BaseLoss.__call__: Return unavailable') # noqa E501\n",
    "    print(\"  Please fix this return type code until there is no exception\")\n",
    "    print('  Error:', e)\n"
   ]
  },
  {
   "cell_type": "code",
   "execution_count": null,
   "id": "incorporated-gregory",
   "metadata": {},
   "outputs": [],
   "source": [
    "# sklearn.ensemble._hist_gradient_boosting.loss.BaseLoss.get_baseline_prediction\n",
    "try:\n",
    "    obj = class_constructor() # noqa F821\n",
    "    ret = obj.get_baseline_prediction()\n",
    "    type_sklearn_ensemble__hist_gradient_boosting_loss_BaseLoss_get_baseline_prediction = getattr(ret, '__module__', 'none') + '.' + ret.__class__.__name__\n",
    "    print('✅ sklearn.ensemble._hist_gradient_boosting.loss.BaseLoss.get_baseline_prediction: ', type(ret)) # noqa E501\n",
    "except Exception as e:\n",
    "    type_sklearn_ensemble__hist_gradient_boosting_loss_BaseLoss_get_baseline_prediction = '_syft_missing'\n",
    "    print('❌ sklearn.ensemble._hist_gradient_boosting.loss.BaseLoss.get_baseline_prediction: Return unavailable') # noqa E501\n",
    "    print(\"  Please fix this return type code until there is no exception\")\n",
    "    print('  Error:', e)\n"
   ]
  },
  {
   "cell_type": "code",
   "execution_count": null,
   "id": "obvious-regression",
   "metadata": {},
   "outputs": [],
   "source": [
    "# sklearn.ensemble._hist_gradient_boosting.loss.BaseLoss.init_gradients_and_hessians\n",
    "try:\n",
    "    obj = class_constructor() # noqa F821\n",
    "    ret = obj.init_gradients_and_hessians()\n",
    "    type_sklearn_ensemble__hist_gradient_boosting_loss_BaseLoss_init_gradients_and_hessians = getattr(ret, '__module__', 'none') + '.' + ret.__class__.__name__\n",
    "    print('✅ sklearn.ensemble._hist_gradient_boosting.loss.BaseLoss.init_gradients_and_hessians: ', type(ret)) # noqa E501\n",
    "except Exception as e:\n",
    "    type_sklearn_ensemble__hist_gradient_boosting_loss_BaseLoss_init_gradients_and_hessians = '_syft_missing'\n",
    "    print('❌ sklearn.ensemble._hist_gradient_boosting.loss.BaseLoss.init_gradients_and_hessians: Return unavailable') # noqa E501\n",
    "    print(\"  Please fix this return type code until there is no exception\")\n",
    "    print('  Error:', e)\n"
   ]
  },
  {
   "cell_type": "code",
   "execution_count": null,
   "id": "cordless-first",
   "metadata": {},
   "outputs": [],
   "source": [
    "# sklearn.ensemble._hist_gradient_boosting.loss.BaseLoss.pointwise_loss\n",
    "try:\n",
    "    obj = class_constructor() # noqa F821\n",
    "    ret = obj.pointwise_loss()\n",
    "    type_sklearn_ensemble__hist_gradient_boosting_loss_BaseLoss_pointwise_loss = getattr(ret, '__module__', 'none') + '.' + ret.__class__.__name__\n",
    "    print('✅ sklearn.ensemble._hist_gradient_boosting.loss.BaseLoss.pointwise_loss: ', type(ret)) # noqa E501\n",
    "except Exception as e:\n",
    "    type_sklearn_ensemble__hist_gradient_boosting_loss_BaseLoss_pointwise_loss = '_syft_missing'\n",
    "    print('❌ sklearn.ensemble._hist_gradient_boosting.loss.BaseLoss.pointwise_loss: Return unavailable') # noqa E501\n",
    "    print(\"  Please fix this return type code until there is no exception\")\n",
    "    print('  Error:', e)\n"
   ]
  },
  {
   "cell_type": "code",
   "execution_count": null,
   "id": "cleared-investment",
   "metadata": {},
   "outputs": [],
   "source": [
    "# sklearn.ensemble._hist_gradient_boosting.loss.BaseLoss.update_gradients_and_hessians\n",
    "try:\n",
    "    obj = class_constructor() # noqa F821\n",
    "    ret = obj.update_gradients_and_hessians()\n",
    "    type_sklearn_ensemble__hist_gradient_boosting_loss_BaseLoss_update_gradients_and_hessians = getattr(ret, '__module__', 'none') + '.' + ret.__class__.__name__\n",
    "    print('✅ sklearn.ensemble._hist_gradient_boosting.loss.BaseLoss.update_gradients_and_hessians: ', type(ret)) # noqa E501\n",
    "except Exception as e:\n",
    "    type_sklearn_ensemble__hist_gradient_boosting_loss_BaseLoss_update_gradients_and_hessians = '_syft_missing'\n",
    "    print('❌ sklearn.ensemble._hist_gradient_boosting.loss.BaseLoss.update_gradients_and_hessians: Return unavailable') # noqa E501\n",
    "    print(\"  Please fix this return type code until there is no exception\")\n",
    "    print('  Error:', e)\n"
   ]
  }
 ],
 "metadata": {},
 "nbformat": 4,
 "nbformat_minor": 5
}
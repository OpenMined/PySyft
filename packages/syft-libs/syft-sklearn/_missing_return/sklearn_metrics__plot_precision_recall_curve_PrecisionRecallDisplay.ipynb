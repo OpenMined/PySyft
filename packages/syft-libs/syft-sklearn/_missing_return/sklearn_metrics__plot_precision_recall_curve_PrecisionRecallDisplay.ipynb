{
 "cells": [
  {
   "cell_type": "markdown",
   "id": "diverse-motivation",
   "metadata": {},
   "source": [
    "## sklearn.metrics._plot.precision_recall_curve.PrecisionRecallDisplay"
   ]
  },
  {
   "cell_type": "code",
   "execution_count": null,
   "id": "absolute-signal",
   "metadata": {},
   "outputs": [],
   "source": [
    "import sklearn\n",
    "def class_constructor(*args, **kwargs):\n",
    "    obj = sklearn.metrics._plot.precision_recall_curve.PrecisionRecallDisplay()\n",
    "    return obj\n"
   ]
  },
  {
   "cell_type": "code",
   "execution_count": null,
   "id": "korean-commander",
   "metadata": {},
   "outputs": [],
   "source": [
    "# sklearn.metrics._plot.precision_recall_curve.PrecisionRecallDisplay.plot\n",
    "try:\n",
    "    obj = class_constructor() # noqa F821\n",
    "    ret = obj.plot()\n",
    "    type_sklearn_metrics__plot_precision_recall_curve_PrecisionRecallDisplay_plot = getattr(ret, '__module__', 'none') + '.' + ret.__class__.__name__\n",
    "    print('✅ sklearn.metrics._plot.precision_recall_curve.PrecisionRecallDisplay.plot: ', type(ret)) # noqa E501\n",
    "except Exception as e:\n",
    "    type_sklearn_metrics__plot_precision_recall_curve_PrecisionRecallDisplay_plot = '_syft_missing'\n",
    "    print('❌ sklearn.metrics._plot.precision_recall_curve.PrecisionRecallDisplay.plot: Return unavailable') # noqa E501\n",
    "    print(\"  Please fix this return type code until there is no exception\")\n",
    "    print('  Error:', e)\n"
   ]
  }
 ],
 "metadata": {},
 "nbformat": 4,
 "nbformat_minor": 5
}
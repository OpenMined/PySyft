{
 "cells": [
  {
   "cell_type": "markdown",
   "id": "allied-calculation",
   "metadata": {},
   "source": [
    "## sklearn.impute._iterative._ImputerTriplet"
   ]
  },
  {
   "cell_type": "code",
   "execution_count": null,
   "id": "vocational-volunteer",
   "metadata": {},
   "outputs": [],
   "source": [
    "import sklearn\n",
    "def class_constructor(*args, **kwargs):\n",
    "    obj = sklearn.impute._iterative._ImputerTriplet()\n",
    "    return obj\n"
   ]
  },
  {
   "cell_type": "code",
   "execution_count": null,
   "id": "colored-crazy",
   "metadata": {},
   "outputs": [],
   "source": [
    "# sklearn.impute._iterative._ImputerTriplet.__getnewargs__\n",
    "try:\n",
    "    obj = class_constructor() # noqa F821\n",
    "    ret = obj.__getnewargs__()\n",
    "    type_sklearn_impute__iterative__ImputerTriplet___getnewargs__ = getattr(ret, '__module__', 'none') + '.' + ret.__class__.__name__\n",
    "    print('✅ sklearn.impute._iterative._ImputerTriplet.__getnewargs__: ', type(ret)) # noqa E501\n",
    "except Exception as e:\n",
    "    type_sklearn_impute__iterative__ImputerTriplet___getnewargs__ = '_syft_missing'\n",
    "    print('❌ sklearn.impute._iterative._ImputerTriplet.__getnewargs__: Return unavailable') # noqa E501\n",
    "    print(\"  Please fix this return type code until there is no exception\")\n",
    "    print('  Error:', e)\n"
   ]
  },
  {
   "cell_type": "code",
   "execution_count": null,
   "id": "finnish-combine",
   "metadata": {},
   "outputs": [],
   "source": [
    "# sklearn.impute._iterative._ImputerTriplet.__new__\n",
    "try:\n",
    "    obj = class_constructor() # noqa F821\n",
    "    ret = obj.__new__()\n",
    "    type_sklearn_impute__iterative__ImputerTriplet___new__ = getattr(ret, '__module__', 'none') + '.' + ret.__class__.__name__\n",
    "    print('✅ sklearn.impute._iterative._ImputerTriplet.__new__: ', type(ret)) # noqa E501\n",
    "except Exception as e:\n",
    "    type_sklearn_impute__iterative__ImputerTriplet___new__ = '_syft_missing'\n",
    "    print('❌ sklearn.impute._iterative._ImputerTriplet.__new__: Return unavailable') # noqa E501\n",
    "    print(\"  Please fix this return type code until there is no exception\")\n",
    "    print('  Error:', e)\n"
   ]
  },
  {
   "cell_type": "code",
   "execution_count": null,
   "id": "dimensional-evidence",
   "metadata": {},
   "outputs": [],
   "source": [
    "# sklearn.impute._iterative._ImputerTriplet.__repr__\n",
    "try:\n",
    "    obj = class_constructor() # noqa F821\n",
    "    ret = obj.__repr__()\n",
    "    type_sklearn_impute__iterative__ImputerTriplet___repr__ = getattr(ret, '__module__', 'none') + '.' + ret.__class__.__name__\n",
    "    print('✅ sklearn.impute._iterative._ImputerTriplet.__repr__: ', type(ret)) # noqa E501\n",
    "except Exception as e:\n",
    "    type_sklearn_impute__iterative__ImputerTriplet___repr__ = '_syft_missing'\n",
    "    print('❌ sklearn.impute._iterative._ImputerTriplet.__repr__: Return unavailable') # noqa E501\n",
    "    print(\"  Please fix this return type code until there is no exception\")\n",
    "    print('  Error:', e)\n"
   ]
  },
  {
   "cell_type": "code",
   "execution_count": null,
   "id": "intermediate-topic",
   "metadata": {},
   "outputs": [],
   "source": [
    "# sklearn.impute._iterative._ImputerTriplet._asdict\n",
    "try:\n",
    "    obj = class_constructor() # noqa F821\n",
    "    ret = obj._asdict()\n",
    "    type_sklearn_impute__iterative__ImputerTriplet__asdict = getattr(ret, '__module__', 'none') + '.' + ret.__class__.__name__\n",
    "    print('✅ sklearn.impute._iterative._ImputerTriplet._asdict: ', type(ret)) # noqa E501\n",
    "except Exception as e:\n",
    "    type_sklearn_impute__iterative__ImputerTriplet__asdict = '_syft_missing'\n",
    "    print('❌ sklearn.impute._iterative._ImputerTriplet._asdict: Return unavailable') # noqa E501\n",
    "    print(\"  Please fix this return type code until there is no exception\")\n",
    "    print('  Error:', e)\n"
   ]
  },
  {
   "cell_type": "code",
   "execution_count": null,
   "id": "tutorial-cache",
   "metadata": {},
   "outputs": [],
   "source": [
    "# sklearn.impute._iterative._ImputerTriplet._make\n",
    "try:\n",
    "    obj = class_constructor() # noqa F821\n",
    "    ret = obj._make()\n",
    "    type_sklearn_impute__iterative__ImputerTriplet__make = getattr(ret, '__module__', 'none') + '.' + ret.__class__.__name__\n",
    "    print('✅ sklearn.impute._iterative._ImputerTriplet._make: ', type(ret)) # noqa E501\n",
    "except Exception as e:\n",
    "    type_sklearn_impute__iterative__ImputerTriplet__make = '_syft_missing'\n",
    "    print('❌ sklearn.impute._iterative._ImputerTriplet._make: Return unavailable') # noqa E501\n",
    "    print(\"  Please fix this return type code until there is no exception\")\n",
    "    print('  Error:', e)\n"
   ]
  },
  {
   "cell_type": "code",
   "execution_count": null,
   "id": "utility-morrison",
   "metadata": {},
   "outputs": [],
   "source": [
    "# sklearn.impute._iterative._ImputerTriplet._replace\n",
    "try:\n",
    "    obj = class_constructor() # noqa F821\n",
    "    ret = obj._replace()\n",
    "    type_sklearn_impute__iterative__ImputerTriplet__replace = getattr(ret, '__module__', 'none') + '.' + ret.__class__.__name__\n",
    "    print('✅ sklearn.impute._iterative._ImputerTriplet._replace: ', type(ret)) # noqa E501\n",
    "except Exception as e:\n",
    "    type_sklearn_impute__iterative__ImputerTriplet__replace = '_syft_missing'\n",
    "    print('❌ sklearn.impute._iterative._ImputerTriplet._replace: Return unavailable') # noqa E501\n",
    "    print(\"  Please fix this return type code until there is no exception\")\n",
    "    print('  Error:', e)\n"
   ]
  }
 ],
 "metadata": {},
 "nbformat": 4,
 "nbformat_minor": 5
}
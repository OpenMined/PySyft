{
 "cells": [
  {
   "cell_type": "markdown",
   "id": "technical-crisis",
   "metadata": {},
   "source": [
    "## sklearn.preprocessing._data.QuantileTransformer"
   ]
  },
  {
   "cell_type": "code",
   "execution_count": null,
   "id": "egyptian-classic",
   "metadata": {},
   "outputs": [],
   "source": [
    "import sklearn\n",
    "def class_constructor(*args, **kwargs):\n",
    "    obj = sklearn.preprocessing._data.QuantileTransformer()\n",
    "    return obj\n"
   ]
  },
  {
   "cell_type": "code",
   "execution_count": null,
   "id": "promotional-milan",
   "metadata": {},
   "outputs": [],
   "source": [
    "# sklearn.preprocessing._data.QuantileTransformer.__getstate__\n",
    "try:\n",
    "    obj = class_constructor() # noqa F821\n",
    "    ret = obj.__getstate__()\n",
    "    type_sklearn_preprocessing__data_QuantileTransformer___getstate__ = getattr(ret, '__module__', 'none') + '.' + ret.__class__.__name__\n",
    "    print('✅ sklearn.preprocessing._data.QuantileTransformer.__getstate__: ', type(ret)) # noqa E501\n",
    "except Exception as e:\n",
    "    type_sklearn_preprocessing__data_QuantileTransformer___getstate__ = '_syft_missing'\n",
    "    print('❌ sklearn.preprocessing._data.QuantileTransformer.__getstate__: Return unavailable') # noqa E501\n",
    "    print(\"  Please fix this return type code until there is no exception\")\n",
    "    print('  Error:', e)\n"
   ]
  },
  {
   "cell_type": "code",
   "execution_count": null,
   "id": "increasing-mining",
   "metadata": {},
   "outputs": [],
   "source": [
    "# sklearn.preprocessing._data.QuantileTransformer.__repr__\n",
    "try:\n",
    "    obj = class_constructor() # noqa F821\n",
    "    ret = obj.__repr__()\n",
    "    type_sklearn_preprocessing__data_QuantileTransformer___repr__ = getattr(ret, '__module__', 'none') + '.' + ret.__class__.__name__\n",
    "    print('✅ sklearn.preprocessing._data.QuantileTransformer.__repr__: ', type(ret)) # noqa E501\n",
    "except Exception as e:\n",
    "    type_sklearn_preprocessing__data_QuantileTransformer___repr__ = '_syft_missing'\n",
    "    print('❌ sklearn.preprocessing._data.QuantileTransformer.__repr__: Return unavailable') # noqa E501\n",
    "    print(\"  Please fix this return type code until there is no exception\")\n",
    "    print('  Error:', e)\n"
   ]
  },
  {
   "cell_type": "code",
   "execution_count": null,
   "id": "naked-sensitivity",
   "metadata": {},
   "outputs": [],
   "source": [
    "# sklearn.preprocessing._data.QuantileTransformer.__setstate__\n",
    "try:\n",
    "    obj = class_constructor() # noqa F821\n",
    "    ret = obj.__setstate__()\n",
    "    type_sklearn_preprocessing__data_QuantileTransformer___setstate__ = getattr(ret, '__module__', 'none') + '.' + ret.__class__.__name__\n",
    "    print('✅ sklearn.preprocessing._data.QuantileTransformer.__setstate__: ', type(ret)) # noqa E501\n",
    "except Exception as e:\n",
    "    type_sklearn_preprocessing__data_QuantileTransformer___setstate__ = '_syft_missing'\n",
    "    print('❌ sklearn.preprocessing._data.QuantileTransformer.__setstate__: Return unavailable') # noqa E501\n",
    "    print(\"  Please fix this return type code until there is no exception\")\n",
    "    print('  Error:', e)\n"
   ]
  },
  {
   "cell_type": "code",
   "execution_count": null,
   "id": "strong-desert",
   "metadata": {},
   "outputs": [],
   "source": [
    "# sklearn.preprocessing._data.QuantileTransformer._check_inputs\n",
    "try:\n",
    "    obj = class_constructor() # noqa F821\n",
    "    ret = obj._check_inputs()\n",
    "    type_sklearn_preprocessing__data_QuantileTransformer__check_inputs = getattr(ret, '__module__', 'none') + '.' + ret.__class__.__name__\n",
    "    print('✅ sklearn.preprocessing._data.QuantileTransformer._check_inputs: ', type(ret)) # noqa E501\n",
    "except Exception as e:\n",
    "    type_sklearn_preprocessing__data_QuantileTransformer__check_inputs = '_syft_missing'\n",
    "    print('❌ sklearn.preprocessing._data.QuantileTransformer._check_inputs: Return unavailable') # noqa E501\n",
    "    print(\"  Please fix this return type code until there is no exception\")\n",
    "    print('  Error:', e)\n"
   ]
  },
  {
   "cell_type": "code",
   "execution_count": null,
   "id": "disturbed-generic",
   "metadata": {},
   "outputs": [],
   "source": [
    "# sklearn.preprocessing._data.QuantileTransformer._check_n_features\n",
    "try:\n",
    "    obj = class_constructor() # noqa F821\n",
    "    ret = obj._check_n_features()\n",
    "    type_sklearn_preprocessing__data_QuantileTransformer__check_n_features = getattr(ret, '__module__', 'none') + '.' + ret.__class__.__name__\n",
    "    print('✅ sklearn.preprocessing._data.QuantileTransformer._check_n_features: ', type(ret)) # noqa E501\n",
    "except Exception as e:\n",
    "    type_sklearn_preprocessing__data_QuantileTransformer__check_n_features = '_syft_missing'\n",
    "    print('❌ sklearn.preprocessing._data.QuantileTransformer._check_n_features: Return unavailable') # noqa E501\n",
    "    print(\"  Please fix this return type code until there is no exception\")\n",
    "    print('  Error:', e)\n"
   ]
  },
  {
   "cell_type": "code",
   "execution_count": null,
   "id": "radical-challenge",
   "metadata": {},
   "outputs": [],
   "source": [
    "# sklearn.preprocessing._data.QuantileTransformer._dense_fit\n",
    "try:\n",
    "    obj = class_constructor() # noqa F821\n",
    "    ret = obj._dense_fit()\n",
    "    type_sklearn_preprocessing__data_QuantileTransformer__dense_fit = getattr(ret, '__module__', 'none') + '.' + ret.__class__.__name__\n",
    "    print('✅ sklearn.preprocessing._data.QuantileTransformer._dense_fit: ', type(ret)) # noqa E501\n",
    "except Exception as e:\n",
    "    type_sklearn_preprocessing__data_QuantileTransformer__dense_fit = '_syft_missing'\n",
    "    print('❌ sklearn.preprocessing._data.QuantileTransformer._dense_fit: Return unavailable') # noqa E501\n",
    "    print(\"  Please fix this return type code until there is no exception\")\n",
    "    print('  Error:', e)\n"
   ]
  },
  {
   "cell_type": "code",
   "execution_count": null,
   "id": "sized-findings",
   "metadata": {},
   "outputs": [],
   "source": [
    "# sklearn.preprocessing._data.QuantileTransformer._get_param_names\n",
    "try:\n",
    "    obj = class_constructor() # noqa F821\n",
    "    ret = obj._get_param_names()\n",
    "    type_sklearn_preprocessing__data_QuantileTransformer__get_param_names = getattr(ret, '__module__', 'none') + '.' + ret.__class__.__name__\n",
    "    print('✅ sklearn.preprocessing._data.QuantileTransformer._get_param_names: ', type(ret)) # noqa E501\n",
    "except Exception as e:\n",
    "    type_sklearn_preprocessing__data_QuantileTransformer__get_param_names = '_syft_missing'\n",
    "    print('❌ sklearn.preprocessing._data.QuantileTransformer._get_param_names: Return unavailable') # noqa E501\n",
    "    print(\"  Please fix this return type code until there is no exception\")\n",
    "    print('  Error:', e)\n"
   ]
  },
  {
   "cell_type": "code",
   "execution_count": null,
   "id": "secure-circus",
   "metadata": {},
   "outputs": [],
   "source": [
    "# sklearn.preprocessing._data.QuantileTransformer._get_tags\n",
    "try:\n",
    "    obj = class_constructor() # noqa F821\n",
    "    ret = obj._get_tags()\n",
    "    type_sklearn_preprocessing__data_QuantileTransformer__get_tags = getattr(ret, '__module__', 'none') + '.' + ret.__class__.__name__\n",
    "    print('✅ sklearn.preprocessing._data.QuantileTransformer._get_tags: ', type(ret)) # noqa E501\n",
    "except Exception as e:\n",
    "    type_sklearn_preprocessing__data_QuantileTransformer__get_tags = '_syft_missing'\n",
    "    print('❌ sklearn.preprocessing._data.QuantileTransformer._get_tags: Return unavailable') # noqa E501\n",
    "    print(\"  Please fix this return type code until there is no exception\")\n",
    "    print('  Error:', e)\n"
   ]
  },
  {
   "cell_type": "code",
   "execution_count": null,
   "id": "appreciated-guyana",
   "metadata": {},
   "outputs": [],
   "source": [
    "# sklearn.preprocessing._data.QuantileTransformer._more_tags\n",
    "try:\n",
    "    obj = class_constructor() # noqa F821\n",
    "    ret = obj._more_tags()\n",
    "    type_sklearn_preprocessing__data_QuantileTransformer__more_tags = getattr(ret, '__module__', 'none') + '.' + ret.__class__.__name__\n",
    "    print('✅ sklearn.preprocessing._data.QuantileTransformer._more_tags: ', type(ret)) # noqa E501\n",
    "except Exception as e:\n",
    "    type_sklearn_preprocessing__data_QuantileTransformer__more_tags = '_syft_missing'\n",
    "    print('❌ sklearn.preprocessing._data.QuantileTransformer._more_tags: Return unavailable') # noqa E501\n",
    "    print(\"  Please fix this return type code until there is no exception\")\n",
    "    print('  Error:', e)\n"
   ]
  },
  {
   "cell_type": "code",
   "execution_count": null,
   "id": "genetic-combine",
   "metadata": {},
   "outputs": [],
   "source": [
    "# sklearn.preprocessing._data.QuantileTransformer._repr_html_\n",
    "try:\n",
    "    obj = class_constructor()\n",
    "    ret = obj._repr_html_\n",
    "    type_sklearn_preprocessing__data_QuantileTransformer__repr_html_ = getattr(ret, '__module__', 'none') + '.' + ret.__class__.__name__\n",
    "    print('✅ sklearn.preprocessing._data.QuantileTransformer._repr_html_:', type(ret)) # noqa E501\n",
    "except Exception as e:\n",
    "    type_sklearn_preprocessing__data_QuantileTransformer__repr_html_ = '_syft_missing'\n",
    "    print('❌ sklearn.preprocessing._data.QuantileTransformer._repr_html_: Return unavailable') # noqa E501\n",
    "    print(\"  Please fix this return type code until there is no exception\")\n",
    "    print('  Error:', e)\n"
   ]
  },
  {
   "cell_type": "code",
   "execution_count": null,
   "id": "brazilian-wilderness",
   "metadata": {},
   "outputs": [],
   "source": [
    "# sklearn.preprocessing._data.QuantileTransformer._repr_html_inner\n",
    "try:\n",
    "    obj = class_constructor() # noqa F821\n",
    "    ret = obj._repr_html_inner()\n",
    "    type_sklearn_preprocessing__data_QuantileTransformer__repr_html_inner = getattr(ret, '__module__', 'none') + '.' + ret.__class__.__name__\n",
    "    print('✅ sklearn.preprocessing._data.QuantileTransformer._repr_html_inner: ', type(ret)) # noqa E501\n",
    "except Exception as e:\n",
    "    type_sklearn_preprocessing__data_QuantileTransformer__repr_html_inner = '_syft_missing'\n",
    "    print('❌ sklearn.preprocessing._data.QuantileTransformer._repr_html_inner: Return unavailable') # noqa E501\n",
    "    print(\"  Please fix this return type code until there is no exception\")\n",
    "    print('  Error:', e)\n"
   ]
  },
  {
   "cell_type": "code",
   "execution_count": null,
   "id": "coated-necessity",
   "metadata": {},
   "outputs": [],
   "source": [
    "# sklearn.preprocessing._data.QuantileTransformer._repr_mimebundle_\n",
    "try:\n",
    "    obj = class_constructor() # noqa F821\n",
    "    ret = obj._repr_mimebundle_()\n",
    "    type_sklearn_preprocessing__data_QuantileTransformer__repr_mimebundle_ = getattr(ret, '__module__', 'none') + '.' + ret.__class__.__name__\n",
    "    print('✅ sklearn.preprocessing._data.QuantileTransformer._repr_mimebundle_: ', type(ret)) # noqa E501\n",
    "except Exception as e:\n",
    "    type_sklearn_preprocessing__data_QuantileTransformer__repr_mimebundle_ = '_syft_missing'\n",
    "    print('❌ sklearn.preprocessing._data.QuantileTransformer._repr_mimebundle_: Return unavailable') # noqa E501\n",
    "    print(\"  Please fix this return type code until there is no exception\")\n",
    "    print('  Error:', e)\n"
   ]
  },
  {
   "cell_type": "code",
   "execution_count": null,
   "id": "korean-taylor",
   "metadata": {},
   "outputs": [],
   "source": [
    "# sklearn.preprocessing._data.QuantileTransformer._sparse_fit\n",
    "try:\n",
    "    obj = class_constructor() # noqa F821\n",
    "    ret = obj._sparse_fit()\n",
    "    type_sklearn_preprocessing__data_QuantileTransformer__sparse_fit = getattr(ret, '__module__', 'none') + '.' + ret.__class__.__name__\n",
    "    print('✅ sklearn.preprocessing._data.QuantileTransformer._sparse_fit: ', type(ret)) # noqa E501\n",
    "except Exception as e:\n",
    "    type_sklearn_preprocessing__data_QuantileTransformer__sparse_fit = '_syft_missing'\n",
    "    print('❌ sklearn.preprocessing._data.QuantileTransformer._sparse_fit: Return unavailable') # noqa E501\n",
    "    print(\"  Please fix this return type code until there is no exception\")\n",
    "    print('  Error:', e)\n"
   ]
  },
  {
   "cell_type": "code",
   "execution_count": null,
   "id": "velvet-calibration",
   "metadata": {},
   "outputs": [],
   "source": [
    "# sklearn.preprocessing._data.QuantileTransformer._transform\n",
    "try:\n",
    "    obj = class_constructor() # noqa F821\n",
    "    ret = obj._transform()\n",
    "    type_sklearn_preprocessing__data_QuantileTransformer__transform = getattr(ret, '__module__', 'none') + '.' + ret.__class__.__name__\n",
    "    print('✅ sklearn.preprocessing._data.QuantileTransformer._transform: ', type(ret)) # noqa E501\n",
    "except Exception as e:\n",
    "    type_sklearn_preprocessing__data_QuantileTransformer__transform = '_syft_missing'\n",
    "    print('❌ sklearn.preprocessing._data.QuantileTransformer._transform: Return unavailable') # noqa E501\n",
    "    print(\"  Please fix this return type code until there is no exception\")\n",
    "    print('  Error:', e)\n"
   ]
  },
  {
   "cell_type": "code",
   "execution_count": null,
   "id": "average-cabinet",
   "metadata": {},
   "outputs": [],
   "source": [
    "# sklearn.preprocessing._data.QuantileTransformer._transform_col\n",
    "try:\n",
    "    obj = class_constructor() # noqa F821\n",
    "    ret = obj._transform_col()\n",
    "    type_sklearn_preprocessing__data_QuantileTransformer__transform_col = getattr(ret, '__module__', 'none') + '.' + ret.__class__.__name__\n",
    "    print('✅ sklearn.preprocessing._data.QuantileTransformer._transform_col: ', type(ret)) # noqa E501\n",
    "except Exception as e:\n",
    "    type_sklearn_preprocessing__data_QuantileTransformer__transform_col = '_syft_missing'\n",
    "    print('❌ sklearn.preprocessing._data.QuantileTransformer._transform_col: Return unavailable') # noqa E501\n",
    "    print(\"  Please fix this return type code until there is no exception\")\n",
    "    print('  Error:', e)\n"
   ]
  },
  {
   "cell_type": "code",
   "execution_count": null,
   "id": "wound-sample",
   "metadata": {},
   "outputs": [],
   "source": [
    "# sklearn.preprocessing._data.QuantileTransformer._validate_data\n",
    "try:\n",
    "    obj = class_constructor() # noqa F821\n",
    "    ret = obj._validate_data()\n",
    "    type_sklearn_preprocessing__data_QuantileTransformer__validate_data = getattr(ret, '__module__', 'none') + '.' + ret.__class__.__name__\n",
    "    print('✅ sklearn.preprocessing._data.QuantileTransformer._validate_data: ', type(ret)) # noqa E501\n",
    "except Exception as e:\n",
    "    type_sklearn_preprocessing__data_QuantileTransformer__validate_data = '_syft_missing'\n",
    "    print('❌ sklearn.preprocessing._data.QuantileTransformer._validate_data: Return unavailable') # noqa E501\n",
    "    print(\"  Please fix this return type code until there is no exception\")\n",
    "    print('  Error:', e)\n"
   ]
  },
  {
   "cell_type": "code",
   "execution_count": null,
   "id": "stylish-chain",
   "metadata": {},
   "outputs": [],
   "source": [
    "# sklearn.preprocessing._data.QuantileTransformer.fit\n",
    "try:\n",
    "    obj = class_constructor() # noqa F821\n",
    "    ret = obj.fit()\n",
    "    type_sklearn_preprocessing__data_QuantileTransformer_fit = getattr(ret, '__module__', 'none') + '.' + ret.__class__.__name__\n",
    "    print('✅ sklearn.preprocessing._data.QuantileTransformer.fit: ', type(ret)) # noqa E501\n",
    "except Exception as e:\n",
    "    type_sklearn_preprocessing__data_QuantileTransformer_fit = '_syft_missing'\n",
    "    print('❌ sklearn.preprocessing._data.QuantileTransformer.fit: Return unavailable') # noqa E501\n",
    "    print(\"  Please fix this return type code until there is no exception\")\n",
    "    print('  Error:', e)\n"
   ]
  },
  {
   "cell_type": "code",
   "execution_count": null,
   "id": "right-integrity",
   "metadata": {},
   "outputs": [],
   "source": [
    "# sklearn.preprocessing._data.QuantileTransformer.fit_transform\n",
    "try:\n",
    "    obj = class_constructor() # noqa F821\n",
    "    ret = obj.fit_transform()\n",
    "    type_sklearn_preprocessing__data_QuantileTransformer_fit_transform = getattr(ret, '__module__', 'none') + '.' + ret.__class__.__name__\n",
    "    print('✅ sklearn.preprocessing._data.QuantileTransformer.fit_transform: ', type(ret)) # noqa E501\n",
    "except Exception as e:\n",
    "    type_sklearn_preprocessing__data_QuantileTransformer_fit_transform = '_syft_missing'\n",
    "    print('❌ sklearn.preprocessing._data.QuantileTransformer.fit_transform: Return unavailable') # noqa E501\n",
    "    print(\"  Please fix this return type code until there is no exception\")\n",
    "    print('  Error:', e)\n"
   ]
  },
  {
   "cell_type": "code",
   "execution_count": null,
   "id": "third-vessel",
   "metadata": {},
   "outputs": [],
   "source": [
    "# sklearn.preprocessing._data.QuantileTransformer.get_params\n",
    "try:\n",
    "    obj = class_constructor() # noqa F821\n",
    "    ret = obj.get_params()\n",
    "    type_sklearn_preprocessing__data_QuantileTransformer_get_params = getattr(ret, '__module__', 'none') + '.' + ret.__class__.__name__\n",
    "    print('✅ sklearn.preprocessing._data.QuantileTransformer.get_params: ', type(ret)) # noqa E501\n",
    "except Exception as e:\n",
    "    type_sklearn_preprocessing__data_QuantileTransformer_get_params = '_syft_missing'\n",
    "    print('❌ sklearn.preprocessing._data.QuantileTransformer.get_params: Return unavailable') # noqa E501\n",
    "    print(\"  Please fix this return type code until there is no exception\")\n",
    "    print('  Error:', e)\n"
   ]
  },
  {
   "cell_type": "code",
   "execution_count": null,
   "id": "partial-meditation",
   "metadata": {},
   "outputs": [],
   "source": [
    "# sklearn.preprocessing._data.QuantileTransformer.inverse_transform\n",
    "try:\n",
    "    obj = class_constructor() # noqa F821\n",
    "    ret = obj.inverse_transform()\n",
    "    type_sklearn_preprocessing__data_QuantileTransformer_inverse_transform = getattr(ret, '__module__', 'none') + '.' + ret.__class__.__name__\n",
    "    print('✅ sklearn.preprocessing._data.QuantileTransformer.inverse_transform: ', type(ret)) # noqa E501\n",
    "except Exception as e:\n",
    "    type_sklearn_preprocessing__data_QuantileTransformer_inverse_transform = '_syft_missing'\n",
    "    print('❌ sklearn.preprocessing._data.QuantileTransformer.inverse_transform: Return unavailable') # noqa E501\n",
    "    print(\"  Please fix this return type code until there is no exception\")\n",
    "    print('  Error:', e)\n"
   ]
  },
  {
   "cell_type": "code",
   "execution_count": null,
   "id": "pediatric-champion",
   "metadata": {},
   "outputs": [],
   "source": [
    "# sklearn.preprocessing._data.QuantileTransformer.set_params\n",
    "try:\n",
    "    obj = class_constructor() # noqa F821\n",
    "    ret = obj.set_params()\n",
    "    type_sklearn_preprocessing__data_QuantileTransformer_set_params = getattr(ret, '__module__', 'none') + '.' + ret.__class__.__name__\n",
    "    print('✅ sklearn.preprocessing._data.QuantileTransformer.set_params: ', type(ret)) # noqa E501\n",
    "except Exception as e:\n",
    "    type_sklearn_preprocessing__data_QuantileTransformer_set_params = '_syft_missing'\n",
    "    print('❌ sklearn.preprocessing._data.QuantileTransformer.set_params: Return unavailable') # noqa E501\n",
    "    print(\"  Please fix this return type code until there is no exception\")\n",
    "    print('  Error:', e)\n"
   ]
  },
  {
   "cell_type": "code",
   "execution_count": null,
   "id": "electronic-kitchen",
   "metadata": {},
   "outputs": [],
   "source": [
    "# sklearn.preprocessing._data.QuantileTransformer.transform\n",
    "try:\n",
    "    obj = class_constructor() # noqa F821\n",
    "    ret = obj.transform()\n",
    "    type_sklearn_preprocessing__data_QuantileTransformer_transform = getattr(ret, '__module__', 'none') + '.' + ret.__class__.__name__\n",
    "    print('✅ sklearn.preprocessing._data.QuantileTransformer.transform: ', type(ret)) # noqa E501\n",
    "except Exception as e:\n",
    "    type_sklearn_preprocessing__data_QuantileTransformer_transform = '_syft_missing'\n",
    "    print('❌ sklearn.preprocessing._data.QuantileTransformer.transform: Return unavailable') # noqa E501\n",
    "    print(\"  Please fix this return type code until there is no exception\")\n",
    "    print('  Error:', e)\n"
   ]
  }
 ],
 "metadata": {},
 "nbformat": 4,
 "nbformat_minor": 5
}
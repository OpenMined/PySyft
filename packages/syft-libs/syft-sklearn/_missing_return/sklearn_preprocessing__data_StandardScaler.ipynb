{
 "cells": [
  {
   "cell_type": "markdown",
   "id": "bulgarian-norman",
   "metadata": {},
   "source": [
    "## sklearn.preprocessing._data.StandardScaler"
   ]
  },
  {
   "cell_type": "code",
   "execution_count": null,
   "id": "arranged-wayne",
   "metadata": {},
   "outputs": [],
   "source": [
    "import sklearn\n",
    "def class_constructor(*args, **kwargs):\n",
    "    obj = sklearn.preprocessing._data.StandardScaler()\n",
    "    return obj\n"
   ]
  },
  {
   "cell_type": "code",
   "execution_count": null,
   "id": "color-myrtle",
   "metadata": {},
   "outputs": [],
   "source": [
    "# sklearn.preprocessing._data.StandardScaler.__getstate__\n",
    "try:\n",
    "    obj = class_constructor() # noqa F821\n",
    "    ret = obj.__getstate__()\n",
    "    type_sklearn_preprocessing__data_StandardScaler___getstate__ = getattr(ret, '__module__', 'none') + '.' + ret.__class__.__name__\n",
    "    print('✅ sklearn.preprocessing._data.StandardScaler.__getstate__: ', type(ret)) # noqa E501\n",
    "except Exception as e:\n",
    "    type_sklearn_preprocessing__data_StandardScaler___getstate__ = '_syft_missing'\n",
    "    print('❌ sklearn.preprocessing._data.StandardScaler.__getstate__: Return unavailable') # noqa E501\n",
    "    print(\"  Please fix this return type code until there is no exception\")\n",
    "    print('  Error:', e)\n"
   ]
  },
  {
   "cell_type": "code",
   "execution_count": null,
   "id": "typical-buffer",
   "metadata": {},
   "outputs": [],
   "source": [
    "# sklearn.preprocessing._data.StandardScaler.__repr__\n",
    "try:\n",
    "    obj = class_constructor() # noqa F821\n",
    "    ret = obj.__repr__()\n",
    "    type_sklearn_preprocessing__data_StandardScaler___repr__ = getattr(ret, '__module__', 'none') + '.' + ret.__class__.__name__\n",
    "    print('✅ sklearn.preprocessing._data.StandardScaler.__repr__: ', type(ret)) # noqa E501\n",
    "except Exception as e:\n",
    "    type_sklearn_preprocessing__data_StandardScaler___repr__ = '_syft_missing'\n",
    "    print('❌ sklearn.preprocessing._data.StandardScaler.__repr__: Return unavailable') # noqa E501\n",
    "    print(\"  Please fix this return type code until there is no exception\")\n",
    "    print('  Error:', e)\n"
   ]
  },
  {
   "cell_type": "code",
   "execution_count": null,
   "id": "current-hospital",
   "metadata": {},
   "outputs": [],
   "source": [
    "# sklearn.preprocessing._data.StandardScaler.__setstate__\n",
    "try:\n",
    "    obj = class_constructor() # noqa F821\n",
    "    ret = obj.__setstate__()\n",
    "    type_sklearn_preprocessing__data_StandardScaler___setstate__ = getattr(ret, '__module__', 'none') + '.' + ret.__class__.__name__\n",
    "    print('✅ sklearn.preprocessing._data.StandardScaler.__setstate__: ', type(ret)) # noqa E501\n",
    "except Exception as e:\n",
    "    type_sklearn_preprocessing__data_StandardScaler___setstate__ = '_syft_missing'\n",
    "    print('❌ sklearn.preprocessing._data.StandardScaler.__setstate__: Return unavailable') # noqa E501\n",
    "    print(\"  Please fix this return type code until there is no exception\")\n",
    "    print('  Error:', e)\n"
   ]
  },
  {
   "cell_type": "code",
   "execution_count": null,
   "id": "after-orientation",
   "metadata": {},
   "outputs": [],
   "source": [
    "# sklearn.preprocessing._data.StandardScaler._check_n_features\n",
    "try:\n",
    "    obj = class_constructor() # noqa F821\n",
    "    ret = obj._check_n_features()\n",
    "    type_sklearn_preprocessing__data_StandardScaler__check_n_features = getattr(ret, '__module__', 'none') + '.' + ret.__class__.__name__\n",
    "    print('✅ sklearn.preprocessing._data.StandardScaler._check_n_features: ', type(ret)) # noqa E501\n",
    "except Exception as e:\n",
    "    type_sklearn_preprocessing__data_StandardScaler__check_n_features = '_syft_missing'\n",
    "    print('❌ sklearn.preprocessing._data.StandardScaler._check_n_features: Return unavailable') # noqa E501\n",
    "    print(\"  Please fix this return type code until there is no exception\")\n",
    "    print('  Error:', e)\n"
   ]
  },
  {
   "cell_type": "code",
   "execution_count": null,
   "id": "therapeutic-demonstration",
   "metadata": {},
   "outputs": [],
   "source": [
    "# sklearn.preprocessing._data.StandardScaler._get_param_names\n",
    "try:\n",
    "    obj = class_constructor() # noqa F821\n",
    "    ret = obj._get_param_names()\n",
    "    type_sklearn_preprocessing__data_StandardScaler__get_param_names = getattr(ret, '__module__', 'none') + '.' + ret.__class__.__name__\n",
    "    print('✅ sklearn.preprocessing._data.StandardScaler._get_param_names: ', type(ret)) # noqa E501\n",
    "except Exception as e:\n",
    "    type_sklearn_preprocessing__data_StandardScaler__get_param_names = '_syft_missing'\n",
    "    print('❌ sklearn.preprocessing._data.StandardScaler._get_param_names: Return unavailable') # noqa E501\n",
    "    print(\"  Please fix this return type code until there is no exception\")\n",
    "    print('  Error:', e)\n"
   ]
  },
  {
   "cell_type": "code",
   "execution_count": null,
   "id": "indirect-mistake",
   "metadata": {},
   "outputs": [],
   "source": [
    "# sklearn.preprocessing._data.StandardScaler._get_tags\n",
    "try:\n",
    "    obj = class_constructor() # noqa F821\n",
    "    ret = obj._get_tags()\n",
    "    type_sklearn_preprocessing__data_StandardScaler__get_tags = getattr(ret, '__module__', 'none') + '.' + ret.__class__.__name__\n",
    "    print('✅ sklearn.preprocessing._data.StandardScaler._get_tags: ', type(ret)) # noqa E501\n",
    "except Exception as e:\n",
    "    type_sklearn_preprocessing__data_StandardScaler__get_tags = '_syft_missing'\n",
    "    print('❌ sklearn.preprocessing._data.StandardScaler._get_tags: Return unavailable') # noqa E501\n",
    "    print(\"  Please fix this return type code until there is no exception\")\n",
    "    print('  Error:', e)\n"
   ]
  },
  {
   "cell_type": "code",
   "execution_count": null,
   "id": "adjustable-physiology",
   "metadata": {},
   "outputs": [],
   "source": [
    "# sklearn.preprocessing._data.StandardScaler._more_tags\n",
    "try:\n",
    "    obj = class_constructor() # noqa F821\n",
    "    ret = obj._more_tags()\n",
    "    type_sklearn_preprocessing__data_StandardScaler__more_tags = getattr(ret, '__module__', 'none') + '.' + ret.__class__.__name__\n",
    "    print('✅ sklearn.preprocessing._data.StandardScaler._more_tags: ', type(ret)) # noqa E501\n",
    "except Exception as e:\n",
    "    type_sklearn_preprocessing__data_StandardScaler__more_tags = '_syft_missing'\n",
    "    print('❌ sklearn.preprocessing._data.StandardScaler._more_tags: Return unavailable') # noqa E501\n",
    "    print(\"  Please fix this return type code until there is no exception\")\n",
    "    print('  Error:', e)\n"
   ]
  },
  {
   "cell_type": "code",
   "execution_count": null,
   "id": "efficient-hometown",
   "metadata": {},
   "outputs": [],
   "source": [
    "# sklearn.preprocessing._data.StandardScaler._repr_html_\n",
    "try:\n",
    "    obj = class_constructor()\n",
    "    ret = obj._repr_html_\n",
    "    type_sklearn_preprocessing__data_StandardScaler__repr_html_ = getattr(ret, '__module__', 'none') + '.' + ret.__class__.__name__\n",
    "    print('✅ sklearn.preprocessing._data.StandardScaler._repr_html_:', type(ret)) # noqa E501\n",
    "except Exception as e:\n",
    "    type_sklearn_preprocessing__data_StandardScaler__repr_html_ = '_syft_missing'\n",
    "    print('❌ sklearn.preprocessing._data.StandardScaler._repr_html_: Return unavailable') # noqa E501\n",
    "    print(\"  Please fix this return type code until there is no exception\")\n",
    "    print('  Error:', e)\n"
   ]
  },
  {
   "cell_type": "code",
   "execution_count": null,
   "id": "fitted-library",
   "metadata": {},
   "outputs": [],
   "source": [
    "# sklearn.preprocessing._data.StandardScaler._repr_html_inner\n",
    "try:\n",
    "    obj = class_constructor() # noqa F821\n",
    "    ret = obj._repr_html_inner()\n",
    "    type_sklearn_preprocessing__data_StandardScaler__repr_html_inner = getattr(ret, '__module__', 'none') + '.' + ret.__class__.__name__\n",
    "    print('✅ sklearn.preprocessing._data.StandardScaler._repr_html_inner: ', type(ret)) # noqa E501\n",
    "except Exception as e:\n",
    "    type_sklearn_preprocessing__data_StandardScaler__repr_html_inner = '_syft_missing'\n",
    "    print('❌ sklearn.preprocessing._data.StandardScaler._repr_html_inner: Return unavailable') # noqa E501\n",
    "    print(\"  Please fix this return type code until there is no exception\")\n",
    "    print('  Error:', e)\n"
   ]
  },
  {
   "cell_type": "code",
   "execution_count": null,
   "id": "second-decimal",
   "metadata": {},
   "outputs": [],
   "source": [
    "# sklearn.preprocessing._data.StandardScaler._repr_mimebundle_\n",
    "try:\n",
    "    obj = class_constructor() # noqa F821\n",
    "    ret = obj._repr_mimebundle_()\n",
    "    type_sklearn_preprocessing__data_StandardScaler__repr_mimebundle_ = getattr(ret, '__module__', 'none') + '.' + ret.__class__.__name__\n",
    "    print('✅ sklearn.preprocessing._data.StandardScaler._repr_mimebundle_: ', type(ret)) # noqa E501\n",
    "except Exception as e:\n",
    "    type_sklearn_preprocessing__data_StandardScaler__repr_mimebundle_ = '_syft_missing'\n",
    "    print('❌ sklearn.preprocessing._data.StandardScaler._repr_mimebundle_: Return unavailable') # noqa E501\n",
    "    print(\"  Please fix this return type code until there is no exception\")\n",
    "    print('  Error:', e)\n"
   ]
  },
  {
   "cell_type": "code",
   "execution_count": null,
   "id": "hearing-demonstration",
   "metadata": {},
   "outputs": [],
   "source": [
    "# sklearn.preprocessing._data.StandardScaler._reset\n",
    "try:\n",
    "    obj = class_constructor() # noqa F821\n",
    "    ret = obj._reset()\n",
    "    type_sklearn_preprocessing__data_StandardScaler__reset = getattr(ret, '__module__', 'none') + '.' + ret.__class__.__name__\n",
    "    print('✅ sklearn.preprocessing._data.StandardScaler._reset: ', type(ret)) # noqa E501\n",
    "except Exception as e:\n",
    "    type_sklearn_preprocessing__data_StandardScaler__reset = '_syft_missing'\n",
    "    print('❌ sklearn.preprocessing._data.StandardScaler._reset: Return unavailable') # noqa E501\n",
    "    print(\"  Please fix this return type code until there is no exception\")\n",
    "    print('  Error:', e)\n"
   ]
  },
  {
   "cell_type": "code",
   "execution_count": null,
   "id": "aging-insider",
   "metadata": {},
   "outputs": [],
   "source": [
    "# sklearn.preprocessing._data.StandardScaler._validate_data\n",
    "try:\n",
    "    obj = class_constructor() # noqa F821\n",
    "    ret = obj._validate_data()\n",
    "    type_sklearn_preprocessing__data_StandardScaler__validate_data = getattr(ret, '__module__', 'none') + '.' + ret.__class__.__name__\n",
    "    print('✅ sklearn.preprocessing._data.StandardScaler._validate_data: ', type(ret)) # noqa E501\n",
    "except Exception as e:\n",
    "    type_sklearn_preprocessing__data_StandardScaler__validate_data = '_syft_missing'\n",
    "    print('❌ sklearn.preprocessing._data.StandardScaler._validate_data: Return unavailable') # noqa E501\n",
    "    print(\"  Please fix this return type code until there is no exception\")\n",
    "    print('  Error:', e)\n"
   ]
  },
  {
   "cell_type": "code",
   "execution_count": null,
   "id": "promising-coalition",
   "metadata": {},
   "outputs": [],
   "source": [
    "# sklearn.preprocessing._data.StandardScaler.fit\n",
    "try:\n",
    "    obj = class_constructor() # noqa F821\n",
    "    ret = obj.fit()\n",
    "    type_sklearn_preprocessing__data_StandardScaler_fit = getattr(ret, '__module__', 'none') + '.' + ret.__class__.__name__\n",
    "    print('✅ sklearn.preprocessing._data.StandardScaler.fit: ', type(ret)) # noqa E501\n",
    "except Exception as e:\n",
    "    type_sklearn_preprocessing__data_StandardScaler_fit = '_syft_missing'\n",
    "    print('❌ sklearn.preprocessing._data.StandardScaler.fit: Return unavailable') # noqa E501\n",
    "    print(\"  Please fix this return type code until there is no exception\")\n",
    "    print('  Error:', e)\n"
   ]
  },
  {
   "cell_type": "code",
   "execution_count": null,
   "id": "sapphire-convention",
   "metadata": {},
   "outputs": [],
   "source": [
    "# sklearn.preprocessing._data.StandardScaler.fit_transform\n",
    "try:\n",
    "    obj = class_constructor() # noqa F821\n",
    "    ret = obj.fit_transform()\n",
    "    type_sklearn_preprocessing__data_StandardScaler_fit_transform = getattr(ret, '__module__', 'none') + '.' + ret.__class__.__name__\n",
    "    print('✅ sklearn.preprocessing._data.StandardScaler.fit_transform: ', type(ret)) # noqa E501\n",
    "except Exception as e:\n",
    "    type_sklearn_preprocessing__data_StandardScaler_fit_transform = '_syft_missing'\n",
    "    print('❌ sklearn.preprocessing._data.StandardScaler.fit_transform: Return unavailable') # noqa E501\n",
    "    print(\"  Please fix this return type code until there is no exception\")\n",
    "    print('  Error:', e)\n"
   ]
  },
  {
   "cell_type": "code",
   "execution_count": null,
   "id": "operational-speaker",
   "metadata": {},
   "outputs": [],
   "source": [
    "# sklearn.preprocessing._data.StandardScaler.get_params\n",
    "try:\n",
    "    obj = class_constructor() # noqa F821\n",
    "    ret = obj.get_params()\n",
    "    type_sklearn_preprocessing__data_StandardScaler_get_params = getattr(ret, '__module__', 'none') + '.' + ret.__class__.__name__\n",
    "    print('✅ sklearn.preprocessing._data.StandardScaler.get_params: ', type(ret)) # noqa E501\n",
    "except Exception as e:\n",
    "    type_sklearn_preprocessing__data_StandardScaler_get_params = '_syft_missing'\n",
    "    print('❌ sklearn.preprocessing._data.StandardScaler.get_params: Return unavailable') # noqa E501\n",
    "    print(\"  Please fix this return type code until there is no exception\")\n",
    "    print('  Error:', e)\n"
   ]
  },
  {
   "cell_type": "code",
   "execution_count": null,
   "id": "broadband-poker",
   "metadata": {},
   "outputs": [],
   "source": [
    "# sklearn.preprocessing._data.StandardScaler.inverse_transform\n",
    "try:\n",
    "    obj = class_constructor() # noqa F821\n",
    "    ret = obj.inverse_transform()\n",
    "    type_sklearn_preprocessing__data_StandardScaler_inverse_transform = getattr(ret, '__module__', 'none') + '.' + ret.__class__.__name__\n",
    "    print('✅ sklearn.preprocessing._data.StandardScaler.inverse_transform: ', type(ret)) # noqa E501\n",
    "except Exception as e:\n",
    "    type_sklearn_preprocessing__data_StandardScaler_inverse_transform = '_syft_missing'\n",
    "    print('❌ sklearn.preprocessing._data.StandardScaler.inverse_transform: Return unavailable') # noqa E501\n",
    "    print(\"  Please fix this return type code until there is no exception\")\n",
    "    print('  Error:', e)\n"
   ]
  },
  {
   "cell_type": "code",
   "execution_count": null,
   "id": "gentle-projection",
   "metadata": {},
   "outputs": [],
   "source": [
    "# sklearn.preprocessing._data.StandardScaler.partial_fit\n",
    "try:\n",
    "    obj = class_constructor() # noqa F821\n",
    "    ret = obj.partial_fit()\n",
    "    type_sklearn_preprocessing__data_StandardScaler_partial_fit = getattr(ret, '__module__', 'none') + '.' + ret.__class__.__name__\n",
    "    print('✅ sklearn.preprocessing._data.StandardScaler.partial_fit: ', type(ret)) # noqa E501\n",
    "except Exception as e:\n",
    "    type_sklearn_preprocessing__data_StandardScaler_partial_fit = '_syft_missing'\n",
    "    print('❌ sklearn.preprocessing._data.StandardScaler.partial_fit: Return unavailable') # noqa E501\n",
    "    print(\"  Please fix this return type code until there is no exception\")\n",
    "    print('  Error:', e)\n"
   ]
  },
  {
   "cell_type": "code",
   "execution_count": null,
   "id": "sharp-bleeding",
   "metadata": {},
   "outputs": [],
   "source": [
    "# sklearn.preprocessing._data.StandardScaler.set_params\n",
    "try:\n",
    "    obj = class_constructor() # noqa F821\n",
    "    ret = obj.set_params()\n",
    "    type_sklearn_preprocessing__data_StandardScaler_set_params = getattr(ret, '__module__', 'none') + '.' + ret.__class__.__name__\n",
    "    print('✅ sklearn.preprocessing._data.StandardScaler.set_params: ', type(ret)) # noqa E501\n",
    "except Exception as e:\n",
    "    type_sklearn_preprocessing__data_StandardScaler_set_params = '_syft_missing'\n",
    "    print('❌ sklearn.preprocessing._data.StandardScaler.set_params: Return unavailable') # noqa E501\n",
    "    print(\"  Please fix this return type code until there is no exception\")\n",
    "    print('  Error:', e)\n"
   ]
  },
  {
   "cell_type": "code",
   "execution_count": null,
   "id": "described-flesh",
   "metadata": {},
   "outputs": [],
   "source": [
    "# sklearn.preprocessing._data.StandardScaler.transform\n",
    "try:\n",
    "    obj = class_constructor() # noqa F821\n",
    "    ret = obj.transform()\n",
    "    type_sklearn_preprocessing__data_StandardScaler_transform = getattr(ret, '__module__', 'none') + '.' + ret.__class__.__name__\n",
    "    print('✅ sklearn.preprocessing._data.StandardScaler.transform: ', type(ret)) # noqa E501\n",
    "except Exception as e:\n",
    "    type_sklearn_preprocessing__data_StandardScaler_transform = '_syft_missing'\n",
    "    print('❌ sklearn.preprocessing._data.StandardScaler.transform: Return unavailable') # noqa E501\n",
    "    print(\"  Please fix this return type code until there is no exception\")\n",
    "    print('  Error:', e)\n"
   ]
  }
 ],
 "metadata": {},
 "nbformat": 4,
 "nbformat_minor": 5
}
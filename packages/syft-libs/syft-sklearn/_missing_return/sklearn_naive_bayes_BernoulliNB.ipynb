{
 "cells": [
  {
   "cell_type": "markdown",
   "id": "handy-coalition",
   "metadata": {},
   "source": [
    "## sklearn.naive_bayes.BernoulliNB"
   ]
  },
  {
   "cell_type": "code",
   "execution_count": null,
   "id": "hazardous-summary",
   "metadata": {},
   "outputs": [],
   "source": [
    "import sklearn\n",
    "def class_constructor(*args, **kwargs):\n",
    "    obj = sklearn.naive_bayes.BernoulliNB()\n",
    "    return obj\n"
   ]
  },
  {
   "cell_type": "code",
   "execution_count": null,
   "id": "every-disposal",
   "metadata": {},
   "outputs": [],
   "source": [
    "# sklearn.naive_bayes.BernoulliNB.__getstate__\n",
    "try:\n",
    "    obj = class_constructor() # noqa F821\n",
    "    ret = obj.__getstate__()\n",
    "    type_sklearn_naive_bayes_BernoulliNB___getstate__ = getattr(ret, '__module__', 'none') + '.' + ret.__class__.__name__\n",
    "    print('✅ sklearn.naive_bayes.BernoulliNB.__getstate__: ', type(ret)) # noqa E501\n",
    "except Exception as e:\n",
    "    type_sklearn_naive_bayes_BernoulliNB___getstate__ = '_syft_missing'\n",
    "    print('❌ sklearn.naive_bayes.BernoulliNB.__getstate__: Return unavailable') # noqa E501\n",
    "    print(\"  Please fix this return type code until there is no exception\")\n",
    "    print('  Error:', e)\n"
   ]
  },
  {
   "cell_type": "code",
   "execution_count": null,
   "id": "described-group",
   "metadata": {},
   "outputs": [],
   "source": [
    "# sklearn.naive_bayes.BernoulliNB.__repr__\n",
    "try:\n",
    "    obj = class_constructor() # noqa F821\n",
    "    ret = obj.__repr__()\n",
    "    type_sklearn_naive_bayes_BernoulliNB___repr__ = getattr(ret, '__module__', 'none') + '.' + ret.__class__.__name__\n",
    "    print('✅ sklearn.naive_bayes.BernoulliNB.__repr__: ', type(ret)) # noqa E501\n",
    "except Exception as e:\n",
    "    type_sklearn_naive_bayes_BernoulliNB___repr__ = '_syft_missing'\n",
    "    print('❌ sklearn.naive_bayes.BernoulliNB.__repr__: Return unavailable') # noqa E501\n",
    "    print(\"  Please fix this return type code until there is no exception\")\n",
    "    print('  Error:', e)\n"
   ]
  },
  {
   "cell_type": "code",
   "execution_count": null,
   "id": "square-service",
   "metadata": {},
   "outputs": [],
   "source": [
    "# sklearn.naive_bayes.BernoulliNB.__setstate__\n",
    "try:\n",
    "    obj = class_constructor() # noqa F821\n",
    "    ret = obj.__setstate__()\n",
    "    type_sklearn_naive_bayes_BernoulliNB___setstate__ = getattr(ret, '__module__', 'none') + '.' + ret.__class__.__name__\n",
    "    print('✅ sklearn.naive_bayes.BernoulliNB.__setstate__: ', type(ret)) # noqa E501\n",
    "except Exception as e:\n",
    "    type_sklearn_naive_bayes_BernoulliNB___setstate__ = '_syft_missing'\n",
    "    print('❌ sklearn.naive_bayes.BernoulliNB.__setstate__: Return unavailable') # noqa E501\n",
    "    print(\"  Please fix this return type code until there is no exception\")\n",
    "    print('  Error:', e)\n"
   ]
  },
  {
   "cell_type": "code",
   "execution_count": null,
   "id": "egyptian-shirt",
   "metadata": {},
   "outputs": [],
   "source": [
    "# sklearn.naive_bayes.BernoulliNB._check_X\n",
    "try:\n",
    "    obj = class_constructor() # noqa F821\n",
    "    ret = obj._check_X()\n",
    "    type_sklearn_naive_bayes_BernoulliNB__check_X = getattr(ret, '__module__', 'none') + '.' + ret.__class__.__name__\n",
    "    print('✅ sklearn.naive_bayes.BernoulliNB._check_X: ', type(ret)) # noqa E501\n",
    "except Exception as e:\n",
    "    type_sklearn_naive_bayes_BernoulliNB__check_X = '_syft_missing'\n",
    "    print('❌ sklearn.naive_bayes.BernoulliNB._check_X: Return unavailable') # noqa E501\n",
    "    print(\"  Please fix this return type code until there is no exception\")\n",
    "    print('  Error:', e)\n"
   ]
  },
  {
   "cell_type": "code",
   "execution_count": null,
   "id": "adequate-capability",
   "metadata": {},
   "outputs": [],
   "source": [
    "# sklearn.naive_bayes.BernoulliNB._check_X_y\n",
    "try:\n",
    "    obj = class_constructor() # noqa F821\n",
    "    ret = obj._check_X_y()\n",
    "    type_sklearn_naive_bayes_BernoulliNB__check_X_y = getattr(ret, '__module__', 'none') + '.' + ret.__class__.__name__\n",
    "    print('✅ sklearn.naive_bayes.BernoulliNB._check_X_y: ', type(ret)) # noqa E501\n",
    "except Exception as e:\n",
    "    type_sklearn_naive_bayes_BernoulliNB__check_X_y = '_syft_missing'\n",
    "    print('❌ sklearn.naive_bayes.BernoulliNB._check_X_y: Return unavailable') # noqa E501\n",
    "    print(\"  Please fix this return type code until there is no exception\")\n",
    "    print('  Error:', e)\n"
   ]
  },
  {
   "cell_type": "code",
   "execution_count": null,
   "id": "phantom-landscape",
   "metadata": {},
   "outputs": [],
   "source": [
    "# sklearn.naive_bayes.BernoulliNB._check_alpha\n",
    "try:\n",
    "    obj = class_constructor() # noqa F821\n",
    "    ret = obj._check_alpha()\n",
    "    type_sklearn_naive_bayes_BernoulliNB__check_alpha = getattr(ret, '__module__', 'none') + '.' + ret.__class__.__name__\n",
    "    print('✅ sklearn.naive_bayes.BernoulliNB._check_alpha: ', type(ret)) # noqa E501\n",
    "except Exception as e:\n",
    "    type_sklearn_naive_bayes_BernoulliNB__check_alpha = '_syft_missing'\n",
    "    print('❌ sklearn.naive_bayes.BernoulliNB._check_alpha: Return unavailable') # noqa E501\n",
    "    print(\"  Please fix this return type code until there is no exception\")\n",
    "    print('  Error:', e)\n"
   ]
  },
  {
   "cell_type": "code",
   "execution_count": null,
   "id": "herbal-personality",
   "metadata": {},
   "outputs": [],
   "source": [
    "# sklearn.naive_bayes.BernoulliNB._check_n_features\n",
    "try:\n",
    "    obj = class_constructor() # noqa F821\n",
    "    ret = obj._check_n_features()\n",
    "    type_sklearn_naive_bayes_BernoulliNB__check_n_features = getattr(ret, '__module__', 'none') + '.' + ret.__class__.__name__\n",
    "    print('✅ sklearn.naive_bayes.BernoulliNB._check_n_features: ', type(ret)) # noqa E501\n",
    "except Exception as e:\n",
    "    type_sklearn_naive_bayes_BernoulliNB__check_n_features = '_syft_missing'\n",
    "    print('❌ sklearn.naive_bayes.BernoulliNB._check_n_features: Return unavailable') # noqa E501\n",
    "    print(\"  Please fix this return type code until there is no exception\")\n",
    "    print('  Error:', e)\n"
   ]
  },
  {
   "cell_type": "code",
   "execution_count": null,
   "id": "speaking-bride",
   "metadata": {},
   "outputs": [],
   "source": [
    "# sklearn.naive_bayes.BernoulliNB._count\n",
    "try:\n",
    "    obj = class_constructor() # noqa F821\n",
    "    ret = obj._count()\n",
    "    type_sklearn_naive_bayes_BernoulliNB__count = getattr(ret, '__module__', 'none') + '.' + ret.__class__.__name__\n",
    "    print('✅ sklearn.naive_bayes.BernoulliNB._count: ', type(ret)) # noqa E501\n",
    "except Exception as e:\n",
    "    type_sklearn_naive_bayes_BernoulliNB__count = '_syft_missing'\n",
    "    print('❌ sklearn.naive_bayes.BernoulliNB._count: Return unavailable') # noqa E501\n",
    "    print(\"  Please fix this return type code until there is no exception\")\n",
    "    print('  Error:', e)\n"
   ]
  },
  {
   "cell_type": "code",
   "execution_count": null,
   "id": "narrative-benchmark",
   "metadata": {},
   "outputs": [],
   "source": [
    "# sklearn.naive_bayes.BernoulliNB._get_param_names\n",
    "try:\n",
    "    obj = class_constructor() # noqa F821\n",
    "    ret = obj._get_param_names()\n",
    "    type_sklearn_naive_bayes_BernoulliNB__get_param_names = getattr(ret, '__module__', 'none') + '.' + ret.__class__.__name__\n",
    "    print('✅ sklearn.naive_bayes.BernoulliNB._get_param_names: ', type(ret)) # noqa E501\n",
    "except Exception as e:\n",
    "    type_sklearn_naive_bayes_BernoulliNB__get_param_names = '_syft_missing'\n",
    "    print('❌ sklearn.naive_bayes.BernoulliNB._get_param_names: Return unavailable') # noqa E501\n",
    "    print(\"  Please fix this return type code until there is no exception\")\n",
    "    print('  Error:', e)\n"
   ]
  },
  {
   "cell_type": "code",
   "execution_count": null,
   "id": "chicken-kidney",
   "metadata": {},
   "outputs": [],
   "source": [
    "# sklearn.naive_bayes.BernoulliNB._get_tags\n",
    "try:\n",
    "    obj = class_constructor() # noqa F821\n",
    "    ret = obj._get_tags()\n",
    "    type_sklearn_naive_bayes_BernoulliNB__get_tags = getattr(ret, '__module__', 'none') + '.' + ret.__class__.__name__\n",
    "    print('✅ sklearn.naive_bayes.BernoulliNB._get_tags: ', type(ret)) # noqa E501\n",
    "except Exception as e:\n",
    "    type_sklearn_naive_bayes_BernoulliNB__get_tags = '_syft_missing'\n",
    "    print('❌ sklearn.naive_bayes.BernoulliNB._get_tags: Return unavailable') # noqa E501\n",
    "    print(\"  Please fix this return type code until there is no exception\")\n",
    "    print('  Error:', e)\n"
   ]
  },
  {
   "cell_type": "code",
   "execution_count": null,
   "id": "proper-venture",
   "metadata": {},
   "outputs": [],
   "source": [
    "# sklearn.naive_bayes.BernoulliNB._init_counters\n",
    "try:\n",
    "    obj = class_constructor() # noqa F821\n",
    "    ret = obj._init_counters()\n",
    "    type_sklearn_naive_bayes_BernoulliNB__init_counters = getattr(ret, '__module__', 'none') + '.' + ret.__class__.__name__\n",
    "    print('✅ sklearn.naive_bayes.BernoulliNB._init_counters: ', type(ret)) # noqa E501\n",
    "except Exception as e:\n",
    "    type_sklearn_naive_bayes_BernoulliNB__init_counters = '_syft_missing'\n",
    "    print('❌ sklearn.naive_bayes.BernoulliNB._init_counters: Return unavailable') # noqa E501\n",
    "    print(\"  Please fix this return type code until there is no exception\")\n",
    "    print('  Error:', e)\n"
   ]
  },
  {
   "cell_type": "code",
   "execution_count": null,
   "id": "inclusive-consolidation",
   "metadata": {},
   "outputs": [],
   "source": [
    "# sklearn.naive_bayes.BernoulliNB._joint_log_likelihood\n",
    "try:\n",
    "    obj = class_constructor() # noqa F821\n",
    "    ret = obj._joint_log_likelihood()\n",
    "    type_sklearn_naive_bayes_BernoulliNB__joint_log_likelihood = getattr(ret, '__module__', 'none') + '.' + ret.__class__.__name__\n",
    "    print('✅ sklearn.naive_bayes.BernoulliNB._joint_log_likelihood: ', type(ret)) # noqa E501\n",
    "except Exception as e:\n",
    "    type_sklearn_naive_bayes_BernoulliNB__joint_log_likelihood = '_syft_missing'\n",
    "    print('❌ sklearn.naive_bayes.BernoulliNB._joint_log_likelihood: Return unavailable') # noqa E501\n",
    "    print(\"  Please fix this return type code until there is no exception\")\n",
    "    print('  Error:', e)\n"
   ]
  },
  {
   "cell_type": "code",
   "execution_count": null,
   "id": "alternative-launch",
   "metadata": {},
   "outputs": [],
   "source": [
    "# sklearn.naive_bayes.BernoulliNB._more_tags\n",
    "try:\n",
    "    obj = class_constructor() # noqa F821\n",
    "    ret = obj._more_tags()\n",
    "    type_sklearn_naive_bayes_BernoulliNB__more_tags = getattr(ret, '__module__', 'none') + '.' + ret.__class__.__name__\n",
    "    print('✅ sklearn.naive_bayes.BernoulliNB._more_tags: ', type(ret)) # noqa E501\n",
    "except Exception as e:\n",
    "    type_sklearn_naive_bayes_BernoulliNB__more_tags = '_syft_missing'\n",
    "    print('❌ sklearn.naive_bayes.BernoulliNB._more_tags: Return unavailable') # noqa E501\n",
    "    print(\"  Please fix this return type code until there is no exception\")\n",
    "    print('  Error:', e)\n"
   ]
  },
  {
   "cell_type": "code",
   "execution_count": null,
   "id": "modular-active",
   "metadata": {},
   "outputs": [],
   "source": [
    "# sklearn.naive_bayes.BernoulliNB._repr_html_\n",
    "try:\n",
    "    obj = class_constructor()\n",
    "    ret = obj._repr_html_\n",
    "    type_sklearn_naive_bayes_BernoulliNB__repr_html_ = getattr(ret, '__module__', 'none') + '.' + ret.__class__.__name__\n",
    "    print('✅ sklearn.naive_bayes.BernoulliNB._repr_html_:', type(ret)) # noqa E501\n",
    "except Exception as e:\n",
    "    type_sklearn_naive_bayes_BernoulliNB__repr_html_ = '_syft_missing'\n",
    "    print('❌ sklearn.naive_bayes.BernoulliNB._repr_html_: Return unavailable') # noqa E501\n",
    "    print(\"  Please fix this return type code until there is no exception\")\n",
    "    print('  Error:', e)\n"
   ]
  },
  {
   "cell_type": "code",
   "execution_count": null,
   "id": "following-night",
   "metadata": {},
   "outputs": [],
   "source": [
    "# sklearn.naive_bayes.BernoulliNB._repr_html_inner\n",
    "try:\n",
    "    obj = class_constructor() # noqa F821\n",
    "    ret = obj._repr_html_inner()\n",
    "    type_sklearn_naive_bayes_BernoulliNB__repr_html_inner = getattr(ret, '__module__', 'none') + '.' + ret.__class__.__name__\n",
    "    print('✅ sklearn.naive_bayes.BernoulliNB._repr_html_inner: ', type(ret)) # noqa E501\n",
    "except Exception as e:\n",
    "    type_sklearn_naive_bayes_BernoulliNB__repr_html_inner = '_syft_missing'\n",
    "    print('❌ sklearn.naive_bayes.BernoulliNB._repr_html_inner: Return unavailable') # noqa E501\n",
    "    print(\"  Please fix this return type code until there is no exception\")\n",
    "    print('  Error:', e)\n"
   ]
  },
  {
   "cell_type": "code",
   "execution_count": null,
   "id": "offensive-glenn",
   "metadata": {},
   "outputs": [],
   "source": [
    "# sklearn.naive_bayes.BernoulliNB._repr_mimebundle_\n",
    "try:\n",
    "    obj = class_constructor() # noqa F821\n",
    "    ret = obj._repr_mimebundle_()\n",
    "    type_sklearn_naive_bayes_BernoulliNB__repr_mimebundle_ = getattr(ret, '__module__', 'none') + '.' + ret.__class__.__name__\n",
    "    print('✅ sklearn.naive_bayes.BernoulliNB._repr_mimebundle_: ', type(ret)) # noqa E501\n",
    "except Exception as e:\n",
    "    type_sklearn_naive_bayes_BernoulliNB__repr_mimebundle_ = '_syft_missing'\n",
    "    print('❌ sklearn.naive_bayes.BernoulliNB._repr_mimebundle_: Return unavailable') # noqa E501\n",
    "    print(\"  Please fix this return type code until there is no exception\")\n",
    "    print('  Error:', e)\n"
   ]
  },
  {
   "cell_type": "code",
   "execution_count": null,
   "id": "sustainable-score",
   "metadata": {},
   "outputs": [],
   "source": [
    "# sklearn.naive_bayes.BernoulliNB._update_class_log_prior\n",
    "try:\n",
    "    obj = class_constructor() # noqa F821\n",
    "    ret = obj._update_class_log_prior()\n",
    "    type_sklearn_naive_bayes_BernoulliNB__update_class_log_prior = getattr(ret, '__module__', 'none') + '.' + ret.__class__.__name__\n",
    "    print('✅ sklearn.naive_bayes.BernoulliNB._update_class_log_prior: ', type(ret)) # noqa E501\n",
    "except Exception as e:\n",
    "    type_sklearn_naive_bayes_BernoulliNB__update_class_log_prior = '_syft_missing'\n",
    "    print('❌ sklearn.naive_bayes.BernoulliNB._update_class_log_prior: Return unavailable') # noqa E501\n",
    "    print(\"  Please fix this return type code until there is no exception\")\n",
    "    print('  Error:', e)\n"
   ]
  },
  {
   "cell_type": "code",
   "execution_count": null,
   "id": "meaningful-sharing",
   "metadata": {},
   "outputs": [],
   "source": [
    "# sklearn.naive_bayes.BernoulliNB._update_feature_log_prob\n",
    "try:\n",
    "    obj = class_constructor() # noqa F821\n",
    "    ret = obj._update_feature_log_prob()\n",
    "    type_sklearn_naive_bayes_BernoulliNB__update_feature_log_prob = getattr(ret, '__module__', 'none') + '.' + ret.__class__.__name__\n",
    "    print('✅ sklearn.naive_bayes.BernoulliNB._update_feature_log_prob: ', type(ret)) # noqa E501\n",
    "except Exception as e:\n",
    "    type_sklearn_naive_bayes_BernoulliNB__update_feature_log_prob = '_syft_missing'\n",
    "    print('❌ sklearn.naive_bayes.BernoulliNB._update_feature_log_prob: Return unavailable') # noqa E501\n",
    "    print(\"  Please fix this return type code until there is no exception\")\n",
    "    print('  Error:', e)\n"
   ]
  },
  {
   "cell_type": "code",
   "execution_count": null,
   "id": "arctic-greeting",
   "metadata": {},
   "outputs": [],
   "source": [
    "# sklearn.naive_bayes.BernoulliNB._validate_data\n",
    "try:\n",
    "    obj = class_constructor() # noqa F821\n",
    "    ret = obj._validate_data()\n",
    "    type_sklearn_naive_bayes_BernoulliNB__validate_data = getattr(ret, '__module__', 'none') + '.' + ret.__class__.__name__\n",
    "    print('✅ sklearn.naive_bayes.BernoulliNB._validate_data: ', type(ret)) # noqa E501\n",
    "except Exception as e:\n",
    "    type_sklearn_naive_bayes_BernoulliNB__validate_data = '_syft_missing'\n",
    "    print('❌ sklearn.naive_bayes.BernoulliNB._validate_data: Return unavailable') # noqa E501\n",
    "    print(\"  Please fix this return type code until there is no exception\")\n",
    "    print('  Error:', e)\n"
   ]
  },
  {
   "cell_type": "code",
   "execution_count": null,
   "id": "minus-minority",
   "metadata": {},
   "outputs": [],
   "source": [
    "# sklearn.naive_bayes.BernoulliNB.coef_\n",
    "try:\n",
    "    obj = class_constructor()\n",
    "    ret = obj.coef_\n",
    "    type_sklearn_naive_bayes_BernoulliNB_coef_ = getattr(ret, '__module__', 'none') + '.' + ret.__class__.__name__\n",
    "    print('✅ sklearn.naive_bayes.BernoulliNB.coef_:', type(ret)) # noqa E501\n",
    "except Exception as e:\n",
    "    type_sklearn_naive_bayes_BernoulliNB_coef_ = '_syft_missing'\n",
    "    print('❌ sklearn.naive_bayes.BernoulliNB.coef_: Return unavailable') # noqa E501\n",
    "    print(\"  Please fix this return type code until there is no exception\")\n",
    "    print('  Error:', e)\n"
   ]
  },
  {
   "cell_type": "code",
   "execution_count": null,
   "id": "quantitative-arrest",
   "metadata": {},
   "outputs": [],
   "source": [
    "# sklearn.naive_bayes.BernoulliNB.fit\n",
    "try:\n",
    "    obj = class_constructor() # noqa F821\n",
    "    ret = obj.fit()\n",
    "    type_sklearn_naive_bayes_BernoulliNB_fit = getattr(ret, '__module__', 'none') + '.' + ret.__class__.__name__\n",
    "    print('✅ sklearn.naive_bayes.BernoulliNB.fit: ', type(ret)) # noqa E501\n",
    "except Exception as e:\n",
    "    type_sklearn_naive_bayes_BernoulliNB_fit = '_syft_missing'\n",
    "    print('❌ sklearn.naive_bayes.BernoulliNB.fit: Return unavailable') # noqa E501\n",
    "    print(\"  Please fix this return type code until there is no exception\")\n",
    "    print('  Error:', e)\n"
   ]
  },
  {
   "cell_type": "code",
   "execution_count": null,
   "id": "distant-samba",
   "metadata": {},
   "outputs": [],
   "source": [
    "# sklearn.naive_bayes.BernoulliNB.get_params\n",
    "try:\n",
    "    obj = class_constructor() # noqa F821\n",
    "    ret = obj.get_params()\n",
    "    type_sklearn_naive_bayes_BernoulliNB_get_params = getattr(ret, '__module__', 'none') + '.' + ret.__class__.__name__\n",
    "    print('✅ sklearn.naive_bayes.BernoulliNB.get_params: ', type(ret)) # noqa E501\n",
    "except Exception as e:\n",
    "    type_sklearn_naive_bayes_BernoulliNB_get_params = '_syft_missing'\n",
    "    print('❌ sklearn.naive_bayes.BernoulliNB.get_params: Return unavailable') # noqa E501\n",
    "    print(\"  Please fix this return type code until there is no exception\")\n",
    "    print('  Error:', e)\n"
   ]
  },
  {
   "cell_type": "code",
   "execution_count": null,
   "id": "departmental-proof",
   "metadata": {},
   "outputs": [],
   "source": [
    "# sklearn.naive_bayes.BernoulliNB.intercept_\n",
    "try:\n",
    "    obj = class_constructor()\n",
    "    ret = obj.intercept_\n",
    "    type_sklearn_naive_bayes_BernoulliNB_intercept_ = getattr(ret, '__module__', 'none') + '.' + ret.__class__.__name__\n",
    "    print('✅ sklearn.naive_bayes.BernoulliNB.intercept_:', type(ret)) # noqa E501\n",
    "except Exception as e:\n",
    "    type_sklearn_naive_bayes_BernoulliNB_intercept_ = '_syft_missing'\n",
    "    print('❌ sklearn.naive_bayes.BernoulliNB.intercept_: Return unavailable') # noqa E501\n",
    "    print(\"  Please fix this return type code until there is no exception\")\n",
    "    print('  Error:', e)\n"
   ]
  },
  {
   "cell_type": "code",
   "execution_count": null,
   "id": "premium-there",
   "metadata": {},
   "outputs": [],
   "source": [
    "# sklearn.naive_bayes.BernoulliNB.partial_fit\n",
    "try:\n",
    "    obj = class_constructor() # noqa F821\n",
    "    ret = obj.partial_fit()\n",
    "    type_sklearn_naive_bayes_BernoulliNB_partial_fit = getattr(ret, '__module__', 'none') + '.' + ret.__class__.__name__\n",
    "    print('✅ sklearn.naive_bayes.BernoulliNB.partial_fit: ', type(ret)) # noqa E501\n",
    "except Exception as e:\n",
    "    type_sklearn_naive_bayes_BernoulliNB_partial_fit = '_syft_missing'\n",
    "    print('❌ sklearn.naive_bayes.BernoulliNB.partial_fit: Return unavailable') # noqa E501\n",
    "    print(\"  Please fix this return type code until there is no exception\")\n",
    "    print('  Error:', e)\n"
   ]
  },
  {
   "cell_type": "code",
   "execution_count": null,
   "id": "sixth-noise",
   "metadata": {},
   "outputs": [],
   "source": [
    "# sklearn.naive_bayes.BernoulliNB.predict\n",
    "try:\n",
    "    obj = class_constructor() # noqa F821\n",
    "    ret = obj.predict()\n",
    "    type_sklearn_naive_bayes_BernoulliNB_predict = getattr(ret, '__module__', 'none') + '.' + ret.__class__.__name__\n",
    "    print('✅ sklearn.naive_bayes.BernoulliNB.predict: ', type(ret)) # noqa E501\n",
    "except Exception as e:\n",
    "    type_sklearn_naive_bayes_BernoulliNB_predict = '_syft_missing'\n",
    "    print('❌ sklearn.naive_bayes.BernoulliNB.predict: Return unavailable') # noqa E501\n",
    "    print(\"  Please fix this return type code until there is no exception\")\n",
    "    print('  Error:', e)\n"
   ]
  },
  {
   "cell_type": "code",
   "execution_count": null,
   "id": "respected-jumping",
   "metadata": {},
   "outputs": [],
   "source": [
    "# sklearn.naive_bayes.BernoulliNB.predict_log_proba\n",
    "try:\n",
    "    obj = class_constructor() # noqa F821\n",
    "    ret = obj.predict_log_proba()\n",
    "    type_sklearn_naive_bayes_BernoulliNB_predict_log_proba = getattr(ret, '__module__', 'none') + '.' + ret.__class__.__name__\n",
    "    print('✅ sklearn.naive_bayes.BernoulliNB.predict_log_proba: ', type(ret)) # noqa E501\n",
    "except Exception as e:\n",
    "    type_sklearn_naive_bayes_BernoulliNB_predict_log_proba = '_syft_missing'\n",
    "    print('❌ sklearn.naive_bayes.BernoulliNB.predict_log_proba: Return unavailable') # noqa E501\n",
    "    print(\"  Please fix this return type code until there is no exception\")\n",
    "    print('  Error:', e)\n"
   ]
  },
  {
   "cell_type": "code",
   "execution_count": null,
   "id": "permanent-danger",
   "metadata": {},
   "outputs": [],
   "source": [
    "# sklearn.naive_bayes.BernoulliNB.predict_proba\n",
    "try:\n",
    "    obj = class_constructor() # noqa F821\n",
    "    ret = obj.predict_proba()\n",
    "    type_sklearn_naive_bayes_BernoulliNB_predict_proba = getattr(ret, '__module__', 'none') + '.' + ret.__class__.__name__\n",
    "    print('✅ sklearn.naive_bayes.BernoulliNB.predict_proba: ', type(ret)) # noqa E501\n",
    "except Exception as e:\n",
    "    type_sklearn_naive_bayes_BernoulliNB_predict_proba = '_syft_missing'\n",
    "    print('❌ sklearn.naive_bayes.BernoulliNB.predict_proba: Return unavailable') # noqa E501\n",
    "    print(\"  Please fix this return type code until there is no exception\")\n",
    "    print('  Error:', e)\n"
   ]
  },
  {
   "cell_type": "code",
   "execution_count": null,
   "id": "dense-image",
   "metadata": {},
   "outputs": [],
   "source": [
    "# sklearn.naive_bayes.BernoulliNB.score\n",
    "try:\n",
    "    obj = class_constructor() # noqa F821\n",
    "    ret = obj.score()\n",
    "    type_sklearn_naive_bayes_BernoulliNB_score = getattr(ret, '__module__', 'none') + '.' + ret.__class__.__name__\n",
    "    print('✅ sklearn.naive_bayes.BernoulliNB.score: ', type(ret)) # noqa E501\n",
    "except Exception as e:\n",
    "    type_sklearn_naive_bayes_BernoulliNB_score = '_syft_missing'\n",
    "    print('❌ sklearn.naive_bayes.BernoulliNB.score: Return unavailable') # noqa E501\n",
    "    print(\"  Please fix this return type code until there is no exception\")\n",
    "    print('  Error:', e)\n"
   ]
  },
  {
   "cell_type": "code",
   "execution_count": null,
   "id": "light-article",
   "metadata": {},
   "outputs": [],
   "source": [
    "# sklearn.naive_bayes.BernoulliNB.set_params\n",
    "try:\n",
    "    obj = class_constructor() # noqa F821\n",
    "    ret = obj.set_params()\n",
    "    type_sklearn_naive_bayes_BernoulliNB_set_params = getattr(ret, '__module__', 'none') + '.' + ret.__class__.__name__\n",
    "    print('✅ sklearn.naive_bayes.BernoulliNB.set_params: ', type(ret)) # noqa E501\n",
    "except Exception as e:\n",
    "    type_sklearn_naive_bayes_BernoulliNB_set_params = '_syft_missing'\n",
    "    print('❌ sklearn.naive_bayes.BernoulliNB.set_params: Return unavailable') # noqa E501\n",
    "    print(\"  Please fix this return type code until there is no exception\")\n",
    "    print('  Error:', e)\n"
   ]
  }
 ],
 "metadata": {},
 "nbformat": 4,
 "nbformat_minor": 5
}
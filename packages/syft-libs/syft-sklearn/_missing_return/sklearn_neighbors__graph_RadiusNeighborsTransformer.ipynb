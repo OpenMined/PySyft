{
 "cells": [
  {
   "cell_type": "markdown",
   "id": "tribal-filter",
   "metadata": {},
   "source": [
    "## sklearn.neighbors._graph.RadiusNeighborsTransformer"
   ]
  },
  {
   "cell_type": "code",
   "execution_count": null,
   "id": "agreed-tournament",
   "metadata": {},
   "outputs": [],
   "source": [
    "import sklearn\n",
    "def class_constructor(*args, **kwargs):\n",
    "    obj = sklearn.neighbors._graph.RadiusNeighborsTransformer()\n",
    "    return obj\n"
   ]
  },
  {
   "cell_type": "code",
   "execution_count": null,
   "id": "extreme-consequence",
   "metadata": {},
   "outputs": [],
   "source": [
    "# sklearn.neighbors._graph.RadiusNeighborsTransformer.__getstate__\n",
    "try:\n",
    "    obj = class_constructor() # noqa F821\n",
    "    ret = obj.__getstate__()\n",
    "    type_sklearn_neighbors__graph_RadiusNeighborsTransformer___getstate__ = getattr(ret, '__module__', 'none') + '.' + ret.__class__.__name__\n",
    "    print('✅ sklearn.neighbors._graph.RadiusNeighborsTransformer.__getstate__: ', type(ret)) # noqa E501\n",
    "except Exception as e:\n",
    "    type_sklearn_neighbors__graph_RadiusNeighborsTransformer___getstate__ = '_syft_missing'\n",
    "    print('❌ sklearn.neighbors._graph.RadiusNeighborsTransformer.__getstate__: Return unavailable') # noqa E501\n",
    "    print(\"  Please fix this return type code until there is no exception\")\n",
    "    print('  Error:', e)\n"
   ]
  },
  {
   "cell_type": "code",
   "execution_count": null,
   "id": "decent-strengthening",
   "metadata": {},
   "outputs": [],
   "source": [
    "# sklearn.neighbors._graph.RadiusNeighborsTransformer.__repr__\n",
    "try:\n",
    "    obj = class_constructor() # noqa F821\n",
    "    ret = obj.__repr__()\n",
    "    type_sklearn_neighbors__graph_RadiusNeighborsTransformer___repr__ = getattr(ret, '__module__', 'none') + '.' + ret.__class__.__name__\n",
    "    print('✅ sklearn.neighbors._graph.RadiusNeighborsTransformer.__repr__: ', type(ret)) # noqa E501\n",
    "except Exception as e:\n",
    "    type_sklearn_neighbors__graph_RadiusNeighborsTransformer___repr__ = '_syft_missing'\n",
    "    print('❌ sklearn.neighbors._graph.RadiusNeighborsTransformer.__repr__: Return unavailable') # noqa E501\n",
    "    print(\"  Please fix this return type code until there is no exception\")\n",
    "    print('  Error:', e)\n"
   ]
  },
  {
   "cell_type": "code",
   "execution_count": null,
   "id": "gorgeous-capitol",
   "metadata": {},
   "outputs": [],
   "source": [
    "# sklearn.neighbors._graph.RadiusNeighborsTransformer.__setstate__\n",
    "try:\n",
    "    obj = class_constructor() # noqa F821\n",
    "    ret = obj.__setstate__()\n",
    "    type_sklearn_neighbors__graph_RadiusNeighborsTransformer___setstate__ = getattr(ret, '__module__', 'none') + '.' + ret.__class__.__name__\n",
    "    print('✅ sklearn.neighbors._graph.RadiusNeighborsTransformer.__setstate__: ', type(ret)) # noqa E501\n",
    "except Exception as e:\n",
    "    type_sklearn_neighbors__graph_RadiusNeighborsTransformer___setstate__ = '_syft_missing'\n",
    "    print('❌ sklearn.neighbors._graph.RadiusNeighborsTransformer.__setstate__: Return unavailable') # noqa E501\n",
    "    print(\"  Please fix this return type code until there is no exception\")\n",
    "    print('  Error:', e)\n"
   ]
  },
  {
   "cell_type": "code",
   "execution_count": null,
   "id": "hybrid-rehabilitation",
   "metadata": {},
   "outputs": [],
   "source": [
    "# sklearn.neighbors._graph.RadiusNeighborsTransformer._check_algorithm_metric\n",
    "try:\n",
    "    obj = class_constructor() # noqa F821\n",
    "    ret = obj._check_algorithm_metric()\n",
    "    type_sklearn_neighbors__graph_RadiusNeighborsTransformer__check_algorithm_metric = getattr(ret, '__module__', 'none') + '.' + ret.__class__.__name__\n",
    "    print('✅ sklearn.neighbors._graph.RadiusNeighborsTransformer._check_algorithm_metric: ', type(ret)) # noqa E501\n",
    "except Exception as e:\n",
    "    type_sklearn_neighbors__graph_RadiusNeighborsTransformer__check_algorithm_metric = '_syft_missing'\n",
    "    print('❌ sklearn.neighbors._graph.RadiusNeighborsTransformer._check_algorithm_metric: Return unavailable') # noqa E501\n",
    "    print(\"  Please fix this return type code until there is no exception\")\n",
    "    print('  Error:', e)\n"
   ]
  },
  {
   "cell_type": "code",
   "execution_count": null,
   "id": "secure-teens",
   "metadata": {},
   "outputs": [],
   "source": [
    "# sklearn.neighbors._graph.RadiusNeighborsTransformer._check_n_features\n",
    "try:\n",
    "    obj = class_constructor() # noqa F821\n",
    "    ret = obj._check_n_features()\n",
    "    type_sklearn_neighbors__graph_RadiusNeighborsTransformer__check_n_features = getattr(ret, '__module__', 'none') + '.' + ret.__class__.__name__\n",
    "    print('✅ sklearn.neighbors._graph.RadiusNeighborsTransformer._check_n_features: ', type(ret)) # noqa E501\n",
    "except Exception as e:\n",
    "    type_sklearn_neighbors__graph_RadiusNeighborsTransformer__check_n_features = '_syft_missing'\n",
    "    print('❌ sklearn.neighbors._graph.RadiusNeighborsTransformer._check_n_features: Return unavailable') # noqa E501\n",
    "    print(\"  Please fix this return type code until there is no exception\")\n",
    "    print('  Error:', e)\n"
   ]
  },
  {
   "cell_type": "code",
   "execution_count": null,
   "id": "ceramic-contributor",
   "metadata": {},
   "outputs": [],
   "source": [
    "# sklearn.neighbors._graph.RadiusNeighborsTransformer._fit\n",
    "try:\n",
    "    obj = class_constructor() # noqa F821\n",
    "    ret = obj._fit()\n",
    "    type_sklearn_neighbors__graph_RadiusNeighborsTransformer__fit = getattr(ret, '__module__', 'none') + '.' + ret.__class__.__name__\n",
    "    print('✅ sklearn.neighbors._graph.RadiusNeighborsTransformer._fit: ', type(ret)) # noqa E501\n",
    "except Exception as e:\n",
    "    type_sklearn_neighbors__graph_RadiusNeighborsTransformer__fit = '_syft_missing'\n",
    "    print('❌ sklearn.neighbors._graph.RadiusNeighborsTransformer._fit: Return unavailable') # noqa E501\n",
    "    print(\"  Please fix this return type code until there is no exception\")\n",
    "    print('  Error:', e)\n"
   ]
  },
  {
   "cell_type": "code",
   "execution_count": null,
   "id": "aware-tragedy",
   "metadata": {},
   "outputs": [],
   "source": [
    "# sklearn.neighbors._graph.RadiusNeighborsTransformer._get_param_names\n",
    "try:\n",
    "    obj = class_constructor() # noqa F821\n",
    "    ret = obj._get_param_names()\n",
    "    type_sklearn_neighbors__graph_RadiusNeighborsTransformer__get_param_names = getattr(ret, '__module__', 'none') + '.' + ret.__class__.__name__\n",
    "    print('✅ sklearn.neighbors._graph.RadiusNeighborsTransformer._get_param_names: ', type(ret)) # noqa E501\n",
    "except Exception as e:\n",
    "    type_sklearn_neighbors__graph_RadiusNeighborsTransformer__get_param_names = '_syft_missing'\n",
    "    print('❌ sklearn.neighbors._graph.RadiusNeighborsTransformer._get_param_names: Return unavailable') # noqa E501\n",
    "    print(\"  Please fix this return type code until there is no exception\")\n",
    "    print('  Error:', e)\n"
   ]
  },
  {
   "cell_type": "code",
   "execution_count": null,
   "id": "major-durham",
   "metadata": {},
   "outputs": [],
   "source": [
    "# sklearn.neighbors._graph.RadiusNeighborsTransformer._get_tags\n",
    "try:\n",
    "    obj = class_constructor() # noqa F821\n",
    "    ret = obj._get_tags()\n",
    "    type_sklearn_neighbors__graph_RadiusNeighborsTransformer__get_tags = getattr(ret, '__module__', 'none') + '.' + ret.__class__.__name__\n",
    "    print('✅ sklearn.neighbors._graph.RadiusNeighborsTransformer._get_tags: ', type(ret)) # noqa E501\n",
    "except Exception as e:\n",
    "    type_sklearn_neighbors__graph_RadiusNeighborsTransformer__get_tags = '_syft_missing'\n",
    "    print('❌ sklearn.neighbors._graph.RadiusNeighborsTransformer._get_tags: Return unavailable') # noqa E501\n",
    "    print(\"  Please fix this return type code until there is no exception\")\n",
    "    print('  Error:', e)\n"
   ]
  },
  {
   "cell_type": "code",
   "execution_count": null,
   "id": "nuclear-opposition",
   "metadata": {},
   "outputs": [],
   "source": [
    "# sklearn.neighbors._graph.RadiusNeighborsTransformer._more_tags\n",
    "try:\n",
    "    obj = class_constructor() # noqa F821\n",
    "    ret = obj._more_tags()\n",
    "    type_sklearn_neighbors__graph_RadiusNeighborsTransformer__more_tags = getattr(ret, '__module__', 'none') + '.' + ret.__class__.__name__\n",
    "    print('✅ sklearn.neighbors._graph.RadiusNeighborsTransformer._more_tags: ', type(ret)) # noqa E501\n",
    "except Exception as e:\n",
    "    type_sklearn_neighbors__graph_RadiusNeighborsTransformer__more_tags = '_syft_missing'\n",
    "    print('❌ sklearn.neighbors._graph.RadiusNeighborsTransformer._more_tags: Return unavailable') # noqa E501\n",
    "    print(\"  Please fix this return type code until there is no exception\")\n",
    "    print('  Error:', e)\n"
   ]
  },
  {
   "cell_type": "code",
   "execution_count": null,
   "id": "elegant-arcade",
   "metadata": {},
   "outputs": [],
   "source": [
    "# sklearn.neighbors._graph.RadiusNeighborsTransformer._pairwise\n",
    "try:\n",
    "    obj = class_constructor()\n",
    "    ret = obj._pairwise\n",
    "    type_sklearn_neighbors__graph_RadiusNeighborsTransformer__pairwise = getattr(ret, '__module__', 'none') + '.' + ret.__class__.__name__\n",
    "    print('✅ sklearn.neighbors._graph.RadiusNeighborsTransformer._pairwise:', type(ret)) # noqa E501\n",
    "except Exception as e:\n",
    "    type_sklearn_neighbors__graph_RadiusNeighborsTransformer__pairwise = '_syft_missing'\n",
    "    print('❌ sklearn.neighbors._graph.RadiusNeighborsTransformer._pairwise: Return unavailable') # noqa E501\n",
    "    print(\"  Please fix this return type code until there is no exception\")\n",
    "    print('  Error:', e)\n"
   ]
  },
  {
   "cell_type": "code",
   "execution_count": null,
   "id": "judicial-malpractice",
   "metadata": {},
   "outputs": [],
   "source": [
    "# sklearn.neighbors._graph.RadiusNeighborsTransformer._radius_neighbors_reduce_func\n",
    "try:\n",
    "    obj = class_constructor() # noqa F821\n",
    "    ret = obj._radius_neighbors_reduce_func()\n",
    "    type_sklearn_neighbors__graph_RadiusNeighborsTransformer__radius_neighbors_reduce_func = getattr(ret, '__module__', 'none') + '.' + ret.__class__.__name__\n",
    "    print('✅ sklearn.neighbors._graph.RadiusNeighborsTransformer._radius_neighbors_reduce_func: ', type(ret)) # noqa E501\n",
    "except Exception as e:\n",
    "    type_sklearn_neighbors__graph_RadiusNeighborsTransformer__radius_neighbors_reduce_func = '_syft_missing'\n",
    "    print('❌ sklearn.neighbors._graph.RadiusNeighborsTransformer._radius_neighbors_reduce_func: Return unavailable') # noqa E501\n",
    "    print(\"  Please fix this return type code until there is no exception\")\n",
    "    print('  Error:', e)\n"
   ]
  },
  {
   "cell_type": "code",
   "execution_count": null,
   "id": "prerequisite-render",
   "metadata": {},
   "outputs": [],
   "source": [
    "# sklearn.neighbors._graph.RadiusNeighborsTransformer._repr_html_\n",
    "try:\n",
    "    obj = class_constructor()\n",
    "    ret = obj._repr_html_\n",
    "    type_sklearn_neighbors__graph_RadiusNeighborsTransformer__repr_html_ = getattr(ret, '__module__', 'none') + '.' + ret.__class__.__name__\n",
    "    print('✅ sklearn.neighbors._graph.RadiusNeighborsTransformer._repr_html_:', type(ret)) # noqa E501\n",
    "except Exception as e:\n",
    "    type_sklearn_neighbors__graph_RadiusNeighborsTransformer__repr_html_ = '_syft_missing'\n",
    "    print('❌ sklearn.neighbors._graph.RadiusNeighborsTransformer._repr_html_: Return unavailable') # noqa E501\n",
    "    print(\"  Please fix this return type code until there is no exception\")\n",
    "    print('  Error:', e)\n"
   ]
  },
  {
   "cell_type": "code",
   "execution_count": null,
   "id": "hungarian-melissa",
   "metadata": {},
   "outputs": [],
   "source": [
    "# sklearn.neighbors._graph.RadiusNeighborsTransformer._repr_html_inner\n",
    "try:\n",
    "    obj = class_constructor() # noqa F821\n",
    "    ret = obj._repr_html_inner()\n",
    "    type_sklearn_neighbors__graph_RadiusNeighborsTransformer__repr_html_inner = getattr(ret, '__module__', 'none') + '.' + ret.__class__.__name__\n",
    "    print('✅ sklearn.neighbors._graph.RadiusNeighborsTransformer._repr_html_inner: ', type(ret)) # noqa E501\n",
    "except Exception as e:\n",
    "    type_sklearn_neighbors__graph_RadiusNeighborsTransformer__repr_html_inner = '_syft_missing'\n",
    "    print('❌ sklearn.neighbors._graph.RadiusNeighborsTransformer._repr_html_inner: Return unavailable') # noqa E501\n",
    "    print(\"  Please fix this return type code until there is no exception\")\n",
    "    print('  Error:', e)\n"
   ]
  },
  {
   "cell_type": "code",
   "execution_count": null,
   "id": "dominican-murray",
   "metadata": {},
   "outputs": [],
   "source": [
    "# sklearn.neighbors._graph.RadiusNeighborsTransformer._repr_mimebundle_\n",
    "try:\n",
    "    obj = class_constructor() # noqa F821\n",
    "    ret = obj._repr_mimebundle_()\n",
    "    type_sklearn_neighbors__graph_RadiusNeighborsTransformer__repr_mimebundle_ = getattr(ret, '__module__', 'none') + '.' + ret.__class__.__name__\n",
    "    print('✅ sklearn.neighbors._graph.RadiusNeighborsTransformer._repr_mimebundle_: ', type(ret)) # noqa E501\n",
    "except Exception as e:\n",
    "    type_sklearn_neighbors__graph_RadiusNeighborsTransformer__repr_mimebundle_ = '_syft_missing'\n",
    "    print('❌ sklearn.neighbors._graph.RadiusNeighborsTransformer._repr_mimebundle_: Return unavailable') # noqa E501\n",
    "    print(\"  Please fix this return type code until there is no exception\")\n",
    "    print('  Error:', e)\n"
   ]
  },
  {
   "cell_type": "code",
   "execution_count": null,
   "id": "adapted-northeast",
   "metadata": {},
   "outputs": [],
   "source": [
    "# sklearn.neighbors._graph.RadiusNeighborsTransformer._validate_data\n",
    "try:\n",
    "    obj = class_constructor() # noqa F821\n",
    "    ret = obj._validate_data()\n",
    "    type_sklearn_neighbors__graph_RadiusNeighborsTransformer__validate_data = getattr(ret, '__module__', 'none') + '.' + ret.__class__.__name__\n",
    "    print('✅ sklearn.neighbors._graph.RadiusNeighborsTransformer._validate_data: ', type(ret)) # noqa E501\n",
    "except Exception as e:\n",
    "    type_sklearn_neighbors__graph_RadiusNeighborsTransformer__validate_data = '_syft_missing'\n",
    "    print('❌ sklearn.neighbors._graph.RadiusNeighborsTransformer._validate_data: Return unavailable') # noqa E501\n",
    "    print(\"  Please fix this return type code until there is no exception\")\n",
    "    print('  Error:', e)\n"
   ]
  },
  {
   "cell_type": "code",
   "execution_count": null,
   "id": "organized-puppy",
   "metadata": {},
   "outputs": [],
   "source": [
    "# sklearn.neighbors._graph.RadiusNeighborsTransformer.fit\n",
    "try:\n",
    "    obj = class_constructor() # noqa F821\n",
    "    ret = obj.fit()\n",
    "    type_sklearn_neighbors__graph_RadiusNeighborsTransformer_fit = getattr(ret, '__module__', 'none') + '.' + ret.__class__.__name__\n",
    "    print('✅ sklearn.neighbors._graph.RadiusNeighborsTransformer.fit: ', type(ret)) # noqa E501\n",
    "except Exception as e:\n",
    "    type_sklearn_neighbors__graph_RadiusNeighborsTransformer_fit = '_syft_missing'\n",
    "    print('❌ sklearn.neighbors._graph.RadiusNeighborsTransformer.fit: Return unavailable') # noqa E501\n",
    "    print(\"  Please fix this return type code until there is no exception\")\n",
    "    print('  Error:', e)\n"
   ]
  },
  {
   "cell_type": "code",
   "execution_count": null,
   "id": "rubber-details",
   "metadata": {},
   "outputs": [],
   "source": [
    "# sklearn.neighbors._graph.RadiusNeighborsTransformer.fit_transform\n",
    "try:\n",
    "    obj = class_constructor() # noqa F821\n",
    "    ret = obj.fit_transform()\n",
    "    type_sklearn_neighbors__graph_RadiusNeighborsTransformer_fit_transform = getattr(ret, '__module__', 'none') + '.' + ret.__class__.__name__\n",
    "    print('✅ sklearn.neighbors._graph.RadiusNeighborsTransformer.fit_transform: ', type(ret)) # noqa E501\n",
    "except Exception as e:\n",
    "    type_sklearn_neighbors__graph_RadiusNeighborsTransformer_fit_transform = '_syft_missing'\n",
    "    print('❌ sklearn.neighbors._graph.RadiusNeighborsTransformer.fit_transform: Return unavailable') # noqa E501\n",
    "    print(\"  Please fix this return type code until there is no exception\")\n",
    "    print('  Error:', e)\n"
   ]
  },
  {
   "cell_type": "code",
   "execution_count": null,
   "id": "funded-apparel",
   "metadata": {},
   "outputs": [],
   "source": [
    "# sklearn.neighbors._graph.RadiusNeighborsTransformer.get_params\n",
    "try:\n",
    "    obj = class_constructor() # noqa F821\n",
    "    ret = obj.get_params()\n",
    "    type_sklearn_neighbors__graph_RadiusNeighborsTransformer_get_params = getattr(ret, '__module__', 'none') + '.' + ret.__class__.__name__\n",
    "    print('✅ sklearn.neighbors._graph.RadiusNeighborsTransformer.get_params: ', type(ret)) # noqa E501\n",
    "except Exception as e:\n",
    "    type_sklearn_neighbors__graph_RadiusNeighborsTransformer_get_params = '_syft_missing'\n",
    "    print('❌ sklearn.neighbors._graph.RadiusNeighborsTransformer.get_params: Return unavailable') # noqa E501\n",
    "    print(\"  Please fix this return type code until there is no exception\")\n",
    "    print('  Error:', e)\n"
   ]
  },
  {
   "cell_type": "code",
   "execution_count": null,
   "id": "vietnamese-preparation",
   "metadata": {},
   "outputs": [],
   "source": [
    "# sklearn.neighbors._graph.RadiusNeighborsTransformer.radius_neighbors\n",
    "try:\n",
    "    obj = class_constructor() # noqa F821\n",
    "    ret = obj.radius_neighbors()\n",
    "    type_sklearn_neighbors__graph_RadiusNeighborsTransformer_radius_neighbors = getattr(ret, '__module__', 'none') + '.' + ret.__class__.__name__\n",
    "    print('✅ sklearn.neighbors._graph.RadiusNeighborsTransformer.radius_neighbors: ', type(ret)) # noqa E501\n",
    "except Exception as e:\n",
    "    type_sklearn_neighbors__graph_RadiusNeighborsTransformer_radius_neighbors = '_syft_missing'\n",
    "    print('❌ sklearn.neighbors._graph.RadiusNeighborsTransformer.radius_neighbors: Return unavailable') # noqa E501\n",
    "    print(\"  Please fix this return type code until there is no exception\")\n",
    "    print('  Error:', e)\n"
   ]
  },
  {
   "cell_type": "code",
   "execution_count": null,
   "id": "confidential-staff",
   "metadata": {},
   "outputs": [],
   "source": [
    "# sklearn.neighbors._graph.RadiusNeighborsTransformer.radius_neighbors_graph\n",
    "try:\n",
    "    obj = class_constructor() # noqa F821\n",
    "    ret = obj.radius_neighbors_graph()\n",
    "    type_sklearn_neighbors__graph_RadiusNeighborsTransformer_radius_neighbors_graph = getattr(ret, '__module__', 'none') + '.' + ret.__class__.__name__\n",
    "    print('✅ sklearn.neighbors._graph.RadiusNeighborsTransformer.radius_neighbors_graph: ', type(ret)) # noqa E501\n",
    "except Exception as e:\n",
    "    type_sklearn_neighbors__graph_RadiusNeighborsTransformer_radius_neighbors_graph = '_syft_missing'\n",
    "    print('❌ sklearn.neighbors._graph.RadiusNeighborsTransformer.radius_neighbors_graph: Return unavailable') # noqa E501\n",
    "    print(\"  Please fix this return type code until there is no exception\")\n",
    "    print('  Error:', e)\n"
   ]
  },
  {
   "cell_type": "code",
   "execution_count": null,
   "id": "potential-oasis",
   "metadata": {},
   "outputs": [],
   "source": [
    "# sklearn.neighbors._graph.RadiusNeighborsTransformer.set_params\n",
    "try:\n",
    "    obj = class_constructor() # noqa F821\n",
    "    ret = obj.set_params()\n",
    "    type_sklearn_neighbors__graph_RadiusNeighborsTransformer_set_params = getattr(ret, '__module__', 'none') + '.' + ret.__class__.__name__\n",
    "    print('✅ sklearn.neighbors._graph.RadiusNeighborsTransformer.set_params: ', type(ret)) # noqa E501\n",
    "except Exception as e:\n",
    "    type_sklearn_neighbors__graph_RadiusNeighborsTransformer_set_params = '_syft_missing'\n",
    "    print('❌ sklearn.neighbors._graph.RadiusNeighborsTransformer.set_params: Return unavailable') # noqa E501\n",
    "    print(\"  Please fix this return type code until there is no exception\")\n",
    "    print('  Error:', e)\n"
   ]
  },
  {
   "cell_type": "code",
   "execution_count": null,
   "id": "respiratory-armor",
   "metadata": {},
   "outputs": [],
   "source": [
    "# sklearn.neighbors._graph.RadiusNeighborsTransformer.transform\n",
    "try:\n",
    "    obj = class_constructor() # noqa F821\n",
    "    ret = obj.transform()\n",
    "    type_sklearn_neighbors__graph_RadiusNeighborsTransformer_transform = getattr(ret, '__module__', 'none') + '.' + ret.__class__.__name__\n",
    "    print('✅ sklearn.neighbors._graph.RadiusNeighborsTransformer.transform: ', type(ret)) # noqa E501\n",
    "except Exception as e:\n",
    "    type_sklearn_neighbors__graph_RadiusNeighborsTransformer_transform = '_syft_missing'\n",
    "    print('❌ sklearn.neighbors._graph.RadiusNeighborsTransformer.transform: Return unavailable') # noqa E501\n",
    "    print(\"  Please fix this return type code until there is no exception\")\n",
    "    print('  Error:', e)\n"
   ]
  }
 ],
 "metadata": {},
 "nbformat": 4,
 "nbformat_minor": 5
}
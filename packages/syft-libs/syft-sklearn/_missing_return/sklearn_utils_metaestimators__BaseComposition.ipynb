{
 "cells": [
  {
   "cell_type": "markdown",
   "id": "protecting-model",
   "metadata": {},
   "source": [
    "## sklearn.utils.metaestimators._BaseComposition"
   ]
  },
  {
   "cell_type": "code",
   "execution_count": null,
   "id": "twenty-slope",
   "metadata": {},
   "outputs": [],
   "source": [
    "import sklearn\n",
    "def class_constructor(*args, **kwargs):\n",
    "    obj = sklearn.utils.metaestimators._BaseComposition()\n",
    "    return obj\n"
   ]
  },
  {
   "cell_type": "code",
   "execution_count": null,
   "id": "adopted-daniel",
   "metadata": {},
   "outputs": [],
   "source": [
    "# sklearn.utils.metaestimators._BaseComposition.__getstate__\n",
    "try:\n",
    "    obj = class_constructor() # noqa F821\n",
    "    ret = obj.__getstate__()\n",
    "    type_sklearn_utils_metaestimators__BaseComposition___getstate__ = getattr(ret, '__module__', 'none') + '.' + ret.__class__.__name__\n",
    "    print('✅ sklearn.utils.metaestimators._BaseComposition.__getstate__: ', type(ret)) # noqa E501\n",
    "except Exception as e:\n",
    "    type_sklearn_utils_metaestimators__BaseComposition___getstate__ = '_syft_missing'\n",
    "    print('❌ sklearn.utils.metaestimators._BaseComposition.__getstate__: Return unavailable') # noqa E501\n",
    "    print(\"  Please fix this return type code until there is no exception\")\n",
    "    print('  Error:', e)\n"
   ]
  },
  {
   "cell_type": "code",
   "execution_count": null,
   "id": "similar-macintosh",
   "metadata": {},
   "outputs": [],
   "source": [
    "# sklearn.utils.metaestimators._BaseComposition.__repr__\n",
    "try:\n",
    "    obj = class_constructor() # noqa F821\n",
    "    ret = obj.__repr__()\n",
    "    type_sklearn_utils_metaestimators__BaseComposition___repr__ = getattr(ret, '__module__', 'none') + '.' + ret.__class__.__name__\n",
    "    print('✅ sklearn.utils.metaestimators._BaseComposition.__repr__: ', type(ret)) # noqa E501\n",
    "except Exception as e:\n",
    "    type_sklearn_utils_metaestimators__BaseComposition___repr__ = '_syft_missing'\n",
    "    print('❌ sklearn.utils.metaestimators._BaseComposition.__repr__: Return unavailable') # noqa E501\n",
    "    print(\"  Please fix this return type code until there is no exception\")\n",
    "    print('  Error:', e)\n"
   ]
  },
  {
   "cell_type": "code",
   "execution_count": null,
   "id": "blocked-xerox",
   "metadata": {},
   "outputs": [],
   "source": [
    "# sklearn.utils.metaestimators._BaseComposition.__setstate__\n",
    "try:\n",
    "    obj = class_constructor() # noqa F821\n",
    "    ret = obj.__setstate__()\n",
    "    type_sklearn_utils_metaestimators__BaseComposition___setstate__ = getattr(ret, '__module__', 'none') + '.' + ret.__class__.__name__\n",
    "    print('✅ sklearn.utils.metaestimators._BaseComposition.__setstate__: ', type(ret)) # noqa E501\n",
    "except Exception as e:\n",
    "    type_sklearn_utils_metaestimators__BaseComposition___setstate__ = '_syft_missing'\n",
    "    print('❌ sklearn.utils.metaestimators._BaseComposition.__setstate__: Return unavailable') # noqa E501\n",
    "    print(\"  Please fix this return type code until there is no exception\")\n",
    "    print('  Error:', e)\n"
   ]
  },
  {
   "cell_type": "code",
   "execution_count": null,
   "id": "higher-afghanistan",
   "metadata": {},
   "outputs": [],
   "source": [
    "# sklearn.utils.metaestimators._BaseComposition._check_n_features\n",
    "try:\n",
    "    obj = class_constructor() # noqa F821\n",
    "    ret = obj._check_n_features()\n",
    "    type_sklearn_utils_metaestimators__BaseComposition__check_n_features = getattr(ret, '__module__', 'none') + '.' + ret.__class__.__name__\n",
    "    print('✅ sklearn.utils.metaestimators._BaseComposition._check_n_features: ', type(ret)) # noqa E501\n",
    "except Exception as e:\n",
    "    type_sklearn_utils_metaestimators__BaseComposition__check_n_features = '_syft_missing'\n",
    "    print('❌ sklearn.utils.metaestimators._BaseComposition._check_n_features: Return unavailable') # noqa E501\n",
    "    print(\"  Please fix this return type code until there is no exception\")\n",
    "    print('  Error:', e)\n"
   ]
  },
  {
   "cell_type": "code",
   "execution_count": null,
   "id": "honest-israel",
   "metadata": {},
   "outputs": [],
   "source": [
    "# sklearn.utils.metaestimators._BaseComposition._get_param_names\n",
    "try:\n",
    "    obj = class_constructor() # noqa F821\n",
    "    ret = obj._get_param_names()\n",
    "    type_sklearn_utils_metaestimators__BaseComposition__get_param_names = getattr(ret, '__module__', 'none') + '.' + ret.__class__.__name__\n",
    "    print('✅ sklearn.utils.metaestimators._BaseComposition._get_param_names: ', type(ret)) # noqa E501\n",
    "except Exception as e:\n",
    "    type_sklearn_utils_metaestimators__BaseComposition__get_param_names = '_syft_missing'\n",
    "    print('❌ sklearn.utils.metaestimators._BaseComposition._get_param_names: Return unavailable') # noqa E501\n",
    "    print(\"  Please fix this return type code until there is no exception\")\n",
    "    print('  Error:', e)\n"
   ]
  },
  {
   "cell_type": "code",
   "execution_count": null,
   "id": "therapeutic-priest",
   "metadata": {},
   "outputs": [],
   "source": [
    "# sklearn.utils.metaestimators._BaseComposition._get_params\n",
    "try:\n",
    "    obj = class_constructor() # noqa F821\n",
    "    ret = obj._get_params()\n",
    "    type_sklearn_utils_metaestimators__BaseComposition__get_params = getattr(ret, '__module__', 'none') + '.' + ret.__class__.__name__\n",
    "    print('✅ sklearn.utils.metaestimators._BaseComposition._get_params: ', type(ret)) # noqa E501\n",
    "except Exception as e:\n",
    "    type_sklearn_utils_metaestimators__BaseComposition__get_params = '_syft_missing'\n",
    "    print('❌ sklearn.utils.metaestimators._BaseComposition._get_params: Return unavailable') # noqa E501\n",
    "    print(\"  Please fix this return type code until there is no exception\")\n",
    "    print('  Error:', e)\n"
   ]
  },
  {
   "cell_type": "code",
   "execution_count": null,
   "id": "rocky-raising",
   "metadata": {},
   "outputs": [],
   "source": [
    "# sklearn.utils.metaestimators._BaseComposition._get_tags\n",
    "try:\n",
    "    obj = class_constructor() # noqa F821\n",
    "    ret = obj._get_tags()\n",
    "    type_sklearn_utils_metaestimators__BaseComposition__get_tags = getattr(ret, '__module__', 'none') + '.' + ret.__class__.__name__\n",
    "    print('✅ sklearn.utils.metaestimators._BaseComposition._get_tags: ', type(ret)) # noqa E501\n",
    "except Exception as e:\n",
    "    type_sklearn_utils_metaestimators__BaseComposition__get_tags = '_syft_missing'\n",
    "    print('❌ sklearn.utils.metaestimators._BaseComposition._get_tags: Return unavailable') # noqa E501\n",
    "    print(\"  Please fix this return type code until there is no exception\")\n",
    "    print('  Error:', e)\n"
   ]
  },
  {
   "cell_type": "code",
   "execution_count": null,
   "id": "analyzed-output",
   "metadata": {},
   "outputs": [],
   "source": [
    "# sklearn.utils.metaestimators._BaseComposition._more_tags\n",
    "try:\n",
    "    obj = class_constructor() # noqa F821\n",
    "    ret = obj._more_tags()\n",
    "    type_sklearn_utils_metaestimators__BaseComposition__more_tags = getattr(ret, '__module__', 'none') + '.' + ret.__class__.__name__\n",
    "    print('✅ sklearn.utils.metaestimators._BaseComposition._more_tags: ', type(ret)) # noqa E501\n",
    "except Exception as e:\n",
    "    type_sklearn_utils_metaestimators__BaseComposition__more_tags = '_syft_missing'\n",
    "    print('❌ sklearn.utils.metaestimators._BaseComposition._more_tags: Return unavailable') # noqa E501\n",
    "    print(\"  Please fix this return type code until there is no exception\")\n",
    "    print('  Error:', e)\n"
   ]
  },
  {
   "cell_type": "code",
   "execution_count": null,
   "id": "operating-program",
   "metadata": {},
   "outputs": [],
   "source": [
    "# sklearn.utils.metaestimators._BaseComposition._replace_estimator\n",
    "try:\n",
    "    obj = class_constructor() # noqa F821\n",
    "    ret = obj._replace_estimator()\n",
    "    type_sklearn_utils_metaestimators__BaseComposition__replace_estimator = getattr(ret, '__module__', 'none') + '.' + ret.__class__.__name__\n",
    "    print('✅ sklearn.utils.metaestimators._BaseComposition._replace_estimator: ', type(ret)) # noqa E501\n",
    "except Exception as e:\n",
    "    type_sklearn_utils_metaestimators__BaseComposition__replace_estimator = '_syft_missing'\n",
    "    print('❌ sklearn.utils.metaestimators._BaseComposition._replace_estimator: Return unavailable') # noqa E501\n",
    "    print(\"  Please fix this return type code until there is no exception\")\n",
    "    print('  Error:', e)\n"
   ]
  },
  {
   "cell_type": "code",
   "execution_count": null,
   "id": "developed-microphone",
   "metadata": {},
   "outputs": [],
   "source": [
    "# sklearn.utils.metaestimators._BaseComposition._repr_html_\n",
    "try:\n",
    "    obj = class_constructor()\n",
    "    ret = obj._repr_html_\n",
    "    type_sklearn_utils_metaestimators__BaseComposition__repr_html_ = getattr(ret, '__module__', 'none') + '.' + ret.__class__.__name__\n",
    "    print('✅ sklearn.utils.metaestimators._BaseComposition._repr_html_:', type(ret)) # noqa E501\n",
    "except Exception as e:\n",
    "    type_sklearn_utils_metaestimators__BaseComposition__repr_html_ = '_syft_missing'\n",
    "    print('❌ sklearn.utils.metaestimators._BaseComposition._repr_html_: Return unavailable') # noqa E501\n",
    "    print(\"  Please fix this return type code until there is no exception\")\n",
    "    print('  Error:', e)\n"
   ]
  },
  {
   "cell_type": "code",
   "execution_count": null,
   "id": "systematic-leisure",
   "metadata": {},
   "outputs": [],
   "source": [
    "# sklearn.utils.metaestimators._BaseComposition._repr_html_inner\n",
    "try:\n",
    "    obj = class_constructor() # noqa F821\n",
    "    ret = obj._repr_html_inner()\n",
    "    type_sklearn_utils_metaestimators__BaseComposition__repr_html_inner = getattr(ret, '__module__', 'none') + '.' + ret.__class__.__name__\n",
    "    print('✅ sklearn.utils.metaestimators._BaseComposition._repr_html_inner: ', type(ret)) # noqa E501\n",
    "except Exception as e:\n",
    "    type_sklearn_utils_metaestimators__BaseComposition__repr_html_inner = '_syft_missing'\n",
    "    print('❌ sklearn.utils.metaestimators._BaseComposition._repr_html_inner: Return unavailable') # noqa E501\n",
    "    print(\"  Please fix this return type code until there is no exception\")\n",
    "    print('  Error:', e)\n"
   ]
  },
  {
   "cell_type": "code",
   "execution_count": null,
   "id": "elegant-generic",
   "metadata": {},
   "outputs": [],
   "source": [
    "# sklearn.utils.metaestimators._BaseComposition._repr_mimebundle_\n",
    "try:\n",
    "    obj = class_constructor() # noqa F821\n",
    "    ret = obj._repr_mimebundle_()\n",
    "    type_sklearn_utils_metaestimators__BaseComposition__repr_mimebundle_ = getattr(ret, '__module__', 'none') + '.' + ret.__class__.__name__\n",
    "    print('✅ sklearn.utils.metaestimators._BaseComposition._repr_mimebundle_: ', type(ret)) # noqa E501\n",
    "except Exception as e:\n",
    "    type_sklearn_utils_metaestimators__BaseComposition__repr_mimebundle_ = '_syft_missing'\n",
    "    print('❌ sklearn.utils.metaestimators._BaseComposition._repr_mimebundle_: Return unavailable') # noqa E501\n",
    "    print(\"  Please fix this return type code until there is no exception\")\n",
    "    print('  Error:', e)\n"
   ]
  },
  {
   "cell_type": "code",
   "execution_count": null,
   "id": "intellectual-visibility",
   "metadata": {},
   "outputs": [],
   "source": [
    "# sklearn.utils.metaestimators._BaseComposition._set_params\n",
    "try:\n",
    "    obj = class_constructor() # noqa F821\n",
    "    ret = obj._set_params()\n",
    "    type_sklearn_utils_metaestimators__BaseComposition__set_params = getattr(ret, '__module__', 'none') + '.' + ret.__class__.__name__\n",
    "    print('✅ sklearn.utils.metaestimators._BaseComposition._set_params: ', type(ret)) # noqa E501\n",
    "except Exception as e:\n",
    "    type_sklearn_utils_metaestimators__BaseComposition__set_params = '_syft_missing'\n",
    "    print('❌ sklearn.utils.metaestimators._BaseComposition._set_params: Return unavailable') # noqa E501\n",
    "    print(\"  Please fix this return type code until there is no exception\")\n",
    "    print('  Error:', e)\n"
   ]
  },
  {
   "cell_type": "code",
   "execution_count": null,
   "id": "adjacent-brisbane",
   "metadata": {},
   "outputs": [],
   "source": [
    "# sklearn.utils.metaestimators._BaseComposition._validate_data\n",
    "try:\n",
    "    obj = class_constructor() # noqa F821\n",
    "    ret = obj._validate_data()\n",
    "    type_sklearn_utils_metaestimators__BaseComposition__validate_data = getattr(ret, '__module__', 'none') + '.' + ret.__class__.__name__\n",
    "    print('✅ sklearn.utils.metaestimators._BaseComposition._validate_data: ', type(ret)) # noqa E501\n",
    "except Exception as e:\n",
    "    type_sklearn_utils_metaestimators__BaseComposition__validate_data = '_syft_missing'\n",
    "    print('❌ sklearn.utils.metaestimators._BaseComposition._validate_data: Return unavailable') # noqa E501\n",
    "    print(\"  Please fix this return type code until there is no exception\")\n",
    "    print('  Error:', e)\n"
   ]
  },
  {
   "cell_type": "code",
   "execution_count": null,
   "id": "mighty-still",
   "metadata": {},
   "outputs": [],
   "source": [
    "# sklearn.utils.metaestimators._BaseComposition._validate_names\n",
    "try:\n",
    "    obj = class_constructor() # noqa F821\n",
    "    ret = obj._validate_names()\n",
    "    type_sklearn_utils_metaestimators__BaseComposition__validate_names = getattr(ret, '__module__', 'none') + '.' + ret.__class__.__name__\n",
    "    print('✅ sklearn.utils.metaestimators._BaseComposition._validate_names: ', type(ret)) # noqa E501\n",
    "except Exception as e:\n",
    "    type_sklearn_utils_metaestimators__BaseComposition__validate_names = '_syft_missing'\n",
    "    print('❌ sklearn.utils.metaestimators._BaseComposition._validate_names: Return unavailable') # noqa E501\n",
    "    print(\"  Please fix this return type code until there is no exception\")\n",
    "    print('  Error:', e)\n"
   ]
  },
  {
   "cell_type": "code",
   "execution_count": null,
   "id": "naughty-framework",
   "metadata": {},
   "outputs": [],
   "source": [
    "# sklearn.utils.metaestimators._BaseComposition.get_params\n",
    "try:\n",
    "    obj = class_constructor() # noqa F821\n",
    "    ret = obj.get_params()\n",
    "    type_sklearn_utils_metaestimators__BaseComposition_get_params = getattr(ret, '__module__', 'none') + '.' + ret.__class__.__name__\n",
    "    print('✅ sklearn.utils.metaestimators._BaseComposition.get_params: ', type(ret)) # noqa E501\n",
    "except Exception as e:\n",
    "    type_sklearn_utils_metaestimators__BaseComposition_get_params = '_syft_missing'\n",
    "    print('❌ sklearn.utils.metaestimators._BaseComposition.get_params: Return unavailable') # noqa E501\n",
    "    print(\"  Please fix this return type code until there is no exception\")\n",
    "    print('  Error:', e)\n"
   ]
  },
  {
   "cell_type": "code",
   "execution_count": null,
   "id": "defensive-kidney",
   "metadata": {},
   "outputs": [],
   "source": [
    "# sklearn.utils.metaestimators._BaseComposition.set_params\n",
    "try:\n",
    "    obj = class_constructor() # noqa F821\n",
    "    ret = obj.set_params()\n",
    "    type_sklearn_utils_metaestimators__BaseComposition_set_params = getattr(ret, '__module__', 'none') + '.' + ret.__class__.__name__\n",
    "    print('✅ sklearn.utils.metaestimators._BaseComposition.set_params: ', type(ret)) # noqa E501\n",
    "except Exception as e:\n",
    "    type_sklearn_utils_metaestimators__BaseComposition_set_params = '_syft_missing'\n",
    "    print('❌ sklearn.utils.metaestimators._BaseComposition.set_params: Return unavailable') # noqa E501\n",
    "    print(\"  Please fix this return type code until there is no exception\")\n",
    "    print('  Error:', e)\n"
   ]
  }
 ],
 "metadata": {},
 "nbformat": 4,
 "nbformat_minor": 5
}
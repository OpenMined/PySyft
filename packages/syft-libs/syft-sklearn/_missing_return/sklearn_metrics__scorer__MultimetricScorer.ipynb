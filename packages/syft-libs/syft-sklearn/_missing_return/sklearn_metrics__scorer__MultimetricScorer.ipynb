{
 "cells": [
  {
   "cell_type": "markdown",
   "id": "confident-cloud",
   "metadata": {},
   "source": [
    "## sklearn.metrics._scorer._MultimetricScorer"
   ]
  },
  {
   "cell_type": "code",
   "execution_count": null,
   "id": "gross-restaurant",
   "metadata": {},
   "outputs": [],
   "source": [
    "import sklearn\n",
    "def class_constructor(*args, **kwargs):\n",
    "    obj = sklearn.metrics._scorer._MultimetricScorer()\n",
    "    return obj\n"
   ]
  },
  {
   "cell_type": "code",
   "execution_count": null,
   "id": "spatial-grenada",
   "metadata": {},
   "outputs": [],
   "source": [
    "# sklearn.metrics._scorer._MultimetricScorer.__call__\n",
    "try:\n",
    "    obj = class_constructor() # noqa F821\n",
    "    ret = obj.__call__()\n",
    "    type_sklearn_metrics__scorer__MultimetricScorer___call__ = getattr(ret, '__module__', 'none') + '.' + ret.__class__.__name__\n",
    "    print('✅ sklearn.metrics._scorer._MultimetricScorer.__call__: ', type(ret)) # noqa E501\n",
    "except Exception as e:\n",
    "    type_sklearn_metrics__scorer__MultimetricScorer___call__ = '_syft_missing'\n",
    "    print('❌ sklearn.metrics._scorer._MultimetricScorer.__call__: Return unavailable') # noqa E501\n",
    "    print(\"  Please fix this return type code until there is no exception\")\n",
    "    print('  Error:', e)\n"
   ]
  },
  {
   "cell_type": "code",
   "execution_count": null,
   "id": "connected-welding",
   "metadata": {},
   "outputs": [],
   "source": [
    "# sklearn.metrics._scorer._MultimetricScorer._use_cache\n",
    "try:\n",
    "    obj = class_constructor() # noqa F821\n",
    "    ret = obj._use_cache()\n",
    "    type_sklearn_metrics__scorer__MultimetricScorer__use_cache = getattr(ret, '__module__', 'none') + '.' + ret.__class__.__name__\n",
    "    print('✅ sklearn.metrics._scorer._MultimetricScorer._use_cache: ', type(ret)) # noqa E501\n",
    "except Exception as e:\n",
    "    type_sklearn_metrics__scorer__MultimetricScorer__use_cache = '_syft_missing'\n",
    "    print('❌ sklearn.metrics._scorer._MultimetricScorer._use_cache: Return unavailable') # noqa E501\n",
    "    print(\"  Please fix this return type code until there is no exception\")\n",
    "    print('  Error:', e)\n"
   ]
  }
 ],
 "metadata": {},
 "nbformat": 4,
 "nbformat_minor": 5
}
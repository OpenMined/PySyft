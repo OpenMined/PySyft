{
 "cells": [
  {
   "cell_type": "markdown",
   "id": "major-shanghai",
   "metadata": {},
   "source": [
    "## sklearn.base.BiclusterMixin"
   ]
  },
  {
   "cell_type": "code",
   "execution_count": null,
   "id": "precious-hello",
   "metadata": {},
   "outputs": [],
   "source": [
    "# sklearn.base.BiclusterMixin.biclusters_\n",
    "try:\n",
    "    obj = class_constructor()\n",
    "    ret = obj.biclusters_\n",
    "    type_sklearn_base_BiclusterMixin_biclusters_ = getattr(ret, '__module__', 'none') + '.' + ret.__class__.__name__\n",
    "    print('✅ sklearn.base.BiclusterMixin.biclusters_:', type(ret)) # noqa E501\n",
    "except Exception as e:\n",
    "    type_sklearn_base_BiclusterMixin_biclusters_ = '_syft_missing'\n",
    "    print('❌ sklearn.base.BiclusterMixin.biclusters_: Return unavailable') # noqa E501\n",
    "    print(\"  Please fix this return type code until there is no exception\")\n",
    "    print('  Error:', e)\n"
   ]
  },
  {
   "cell_type": "code",
   "execution_count": null,
   "id": "helpful-mistake",
   "metadata": {},
   "outputs": [],
   "source": [
    "# sklearn.base.BiclusterMixin.get_indices\n",
    "try:\n",
    "    obj = class_constructor() # noqa F821\n",
    "    ret = obj.get_indices()\n",
    "    type_sklearn_base_BiclusterMixin_get_indices = getattr(ret, '__module__', 'none') + '.' + ret.__class__.__name__\n",
    "    print('✅ sklearn.base.BiclusterMixin.get_indices: ', type(ret)) # noqa E501\n",
    "except Exception as e:\n",
    "    type_sklearn_base_BiclusterMixin_get_indices = '_syft_missing'\n",
    "    print('❌ sklearn.base.BiclusterMixin.get_indices: Return unavailable') # noqa E501\n",
    "    print(\"  Please fix this return type code until there is no exception\")\n",
    "    print('  Error:', e)\n"
   ]
  },
  {
   "cell_type": "code",
   "execution_count": null,
   "id": "regular-measure",
   "metadata": {},
   "outputs": [],
   "source": [
    "# sklearn.base.BiclusterMixin.get_shape\n",
    "try:\n",
    "    obj = class_constructor() # noqa F821\n",
    "    ret = obj.get_shape()\n",
    "    type_sklearn_base_BiclusterMixin_get_shape = getattr(ret, '__module__', 'none') + '.' + ret.__class__.__name__\n",
    "    print('✅ sklearn.base.BiclusterMixin.get_shape: ', type(ret)) # noqa E501\n",
    "except Exception as e:\n",
    "    type_sklearn_base_BiclusterMixin_get_shape = '_syft_missing'\n",
    "    print('❌ sklearn.base.BiclusterMixin.get_shape: Return unavailable') # noqa E501\n",
    "    print(\"  Please fix this return type code until there is no exception\")\n",
    "    print('  Error:', e)\n"
   ]
  },
  {
   "cell_type": "code",
   "execution_count": null,
   "id": "mexican-payment",
   "metadata": {},
   "outputs": [],
   "source": [
    "# sklearn.base.BiclusterMixin.get_submatrix\n",
    "try:\n",
    "    obj = class_constructor() # noqa F821\n",
    "    ret = obj.get_submatrix()\n",
    "    type_sklearn_base_BiclusterMixin_get_submatrix = getattr(ret, '__module__', 'none') + '.' + ret.__class__.__name__\n",
    "    print('✅ sklearn.base.BiclusterMixin.get_submatrix: ', type(ret)) # noqa E501\n",
    "except Exception as e:\n",
    "    type_sklearn_base_BiclusterMixin_get_submatrix = '_syft_missing'\n",
    "    print('❌ sklearn.base.BiclusterMixin.get_submatrix: Return unavailable') # noqa E501\n",
    "    print(\"  Please fix this return type code until there is no exception\")\n",
    "    print('  Error:', e)\n"
   ]
  }
 ],
 "metadata": {},
 "nbformat": 4,
 "nbformat_minor": 5
}
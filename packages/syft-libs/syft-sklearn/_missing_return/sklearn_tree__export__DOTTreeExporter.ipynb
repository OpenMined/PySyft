{
 "cells": [
  {
   "cell_type": "markdown",
   "id": "upper-characteristic",
   "metadata": {},
   "source": [
    "## sklearn.tree._export._DOTTreeExporter"
   ]
  },
  {
   "cell_type": "code",
   "execution_count": null,
   "id": "hybrid-growth",
   "metadata": {},
   "outputs": [],
   "source": [
    "import sklearn\n",
    "def class_constructor(*args, **kwargs):\n",
    "    obj = sklearn.tree._export._DOTTreeExporter()\n",
    "    return obj\n"
   ]
  },
  {
   "cell_type": "code",
   "execution_count": null,
   "id": "indie-liquid",
   "metadata": {},
   "outputs": [],
   "source": [
    "# sklearn.tree._export._DOTTreeExporter.export\n",
    "try:\n",
    "    obj = class_constructor() # noqa F821\n",
    "    ret = obj.export()\n",
    "    type_sklearn_tree__export__DOTTreeExporter_export = getattr(ret, '__module__', 'none') + '.' + ret.__class__.__name__\n",
    "    print('✅ sklearn.tree._export._DOTTreeExporter.export: ', type(ret)) # noqa E501\n",
    "except Exception as e:\n",
    "    type_sklearn_tree__export__DOTTreeExporter_export = '_syft_missing'\n",
    "    print('❌ sklearn.tree._export._DOTTreeExporter.export: Return unavailable') # noqa E501\n",
    "    print(\"  Please fix this return type code until there is no exception\")\n",
    "    print('  Error:', e)\n"
   ]
  },
  {
   "cell_type": "code",
   "execution_count": null,
   "id": "geological-month",
   "metadata": {},
   "outputs": [],
   "source": [
    "# sklearn.tree._export._DOTTreeExporter.get_color\n",
    "try:\n",
    "    obj = class_constructor() # noqa F821\n",
    "    ret = obj.get_color()\n",
    "    type_sklearn_tree__export__DOTTreeExporter_get_color = getattr(ret, '__module__', 'none') + '.' + ret.__class__.__name__\n",
    "    print('✅ sklearn.tree._export._DOTTreeExporter.get_color: ', type(ret)) # noqa E501\n",
    "except Exception as e:\n",
    "    type_sklearn_tree__export__DOTTreeExporter_get_color = '_syft_missing'\n",
    "    print('❌ sklearn.tree._export._DOTTreeExporter.get_color: Return unavailable') # noqa E501\n",
    "    print(\"  Please fix this return type code until there is no exception\")\n",
    "    print('  Error:', e)\n"
   ]
  },
  {
   "cell_type": "code",
   "execution_count": null,
   "id": "close-virginia",
   "metadata": {},
   "outputs": [],
   "source": [
    "# sklearn.tree._export._DOTTreeExporter.get_fill_color\n",
    "try:\n",
    "    obj = class_constructor() # noqa F821\n",
    "    ret = obj.get_fill_color()\n",
    "    type_sklearn_tree__export__DOTTreeExporter_get_fill_color = getattr(ret, '__module__', 'none') + '.' + ret.__class__.__name__\n",
    "    print('✅ sklearn.tree._export._DOTTreeExporter.get_fill_color: ', type(ret)) # noqa E501\n",
    "except Exception as e:\n",
    "    type_sklearn_tree__export__DOTTreeExporter_get_fill_color = '_syft_missing'\n",
    "    print('❌ sklearn.tree._export._DOTTreeExporter.get_fill_color: Return unavailable') # noqa E501\n",
    "    print(\"  Please fix this return type code until there is no exception\")\n",
    "    print('  Error:', e)\n"
   ]
  },
  {
   "cell_type": "code",
   "execution_count": null,
   "id": "quality-celtic",
   "metadata": {},
   "outputs": [],
   "source": [
    "# sklearn.tree._export._DOTTreeExporter.head\n",
    "try:\n",
    "    obj = class_constructor() # noqa F821\n",
    "    ret = obj.head()\n",
    "    type_sklearn_tree__export__DOTTreeExporter_head = getattr(ret, '__module__', 'none') + '.' + ret.__class__.__name__\n",
    "    print('✅ sklearn.tree._export._DOTTreeExporter.head: ', type(ret)) # noqa E501\n",
    "except Exception as e:\n",
    "    type_sklearn_tree__export__DOTTreeExporter_head = '_syft_missing'\n",
    "    print('❌ sklearn.tree._export._DOTTreeExporter.head: Return unavailable') # noqa E501\n",
    "    print(\"  Please fix this return type code until there is no exception\")\n",
    "    print('  Error:', e)\n"
   ]
  },
  {
   "cell_type": "code",
   "execution_count": null,
   "id": "worth-curve",
   "metadata": {},
   "outputs": [],
   "source": [
    "# sklearn.tree._export._DOTTreeExporter.node_to_str\n",
    "try:\n",
    "    obj = class_constructor() # noqa F821\n",
    "    ret = obj.node_to_str()\n",
    "    type_sklearn_tree__export__DOTTreeExporter_node_to_str = getattr(ret, '__module__', 'none') + '.' + ret.__class__.__name__\n",
    "    print('✅ sklearn.tree._export._DOTTreeExporter.node_to_str: ', type(ret)) # noqa E501\n",
    "except Exception as e:\n",
    "    type_sklearn_tree__export__DOTTreeExporter_node_to_str = '_syft_missing'\n",
    "    print('❌ sklearn.tree._export._DOTTreeExporter.node_to_str: Return unavailable') # noqa E501\n",
    "    print(\"  Please fix this return type code until there is no exception\")\n",
    "    print('  Error:', e)\n"
   ]
  },
  {
   "cell_type": "code",
   "execution_count": null,
   "id": "metropolitan-mother",
   "metadata": {},
   "outputs": [],
   "source": [
    "# sklearn.tree._export._DOTTreeExporter.recurse\n",
    "try:\n",
    "    obj = class_constructor() # noqa F821\n",
    "    ret = obj.recurse()\n",
    "    type_sklearn_tree__export__DOTTreeExporter_recurse = getattr(ret, '__module__', 'none') + '.' + ret.__class__.__name__\n",
    "    print('✅ sklearn.tree._export._DOTTreeExporter.recurse: ', type(ret)) # noqa E501\n",
    "except Exception as e:\n",
    "    type_sklearn_tree__export__DOTTreeExporter_recurse = '_syft_missing'\n",
    "    print('❌ sklearn.tree._export._DOTTreeExporter.recurse: Return unavailable') # noqa E501\n",
    "    print(\"  Please fix this return type code until there is no exception\")\n",
    "    print('  Error:', e)\n"
   ]
  },
  {
   "cell_type": "code",
   "execution_count": null,
   "id": "thorough-wyoming",
   "metadata": {},
   "outputs": [],
   "source": [
    "# sklearn.tree._export._DOTTreeExporter.tail\n",
    "try:\n",
    "    obj = class_constructor() # noqa F821\n",
    "    ret = obj.tail()\n",
    "    type_sklearn_tree__export__DOTTreeExporter_tail = getattr(ret, '__module__', 'none') + '.' + ret.__class__.__name__\n",
    "    print('✅ sklearn.tree._export._DOTTreeExporter.tail: ', type(ret)) # noqa E501\n",
    "except Exception as e:\n",
    "    type_sklearn_tree__export__DOTTreeExporter_tail = '_syft_missing'\n",
    "    print('❌ sklearn.tree._export._DOTTreeExporter.tail: Return unavailable') # noqa E501\n",
    "    print(\"  Please fix this return type code until there is no exception\")\n",
    "    print('  Error:', e)\n"
   ]
  }
 ],
 "metadata": {},
 "nbformat": 4,
 "nbformat_minor": 5
}
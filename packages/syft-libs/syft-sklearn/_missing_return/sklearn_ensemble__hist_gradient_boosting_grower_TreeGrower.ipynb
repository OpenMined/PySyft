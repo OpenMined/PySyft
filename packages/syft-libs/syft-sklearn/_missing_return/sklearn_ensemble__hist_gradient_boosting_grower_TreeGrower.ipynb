{
 "cells": [
  {
   "cell_type": "markdown",
   "id": "circular-conjunction",
   "metadata": {},
   "source": [
    "## sklearn.ensemble._hist_gradient_boosting.grower.TreeGrower"
   ]
  },
  {
   "cell_type": "code",
   "execution_count": null,
   "id": "grand-armenia",
   "metadata": {},
   "outputs": [],
   "source": [
    "import sklearn\n",
    "def class_constructor(*args, **kwargs):\n",
    "    obj = sklearn.ensemble._hist_gradient_boosting.grower.TreeGrower()\n",
    "    return obj\n"
   ]
  },
  {
   "cell_type": "code",
   "execution_count": null,
   "id": "progressive-accent",
   "metadata": {},
   "outputs": [],
   "source": [
    "# sklearn.ensemble._hist_gradient_boosting.grower.TreeGrower._apply_shrinkage\n",
    "try:\n",
    "    obj = class_constructor() # noqa F821\n",
    "    ret = obj._apply_shrinkage()\n",
    "    type_sklearn_ensemble__hist_gradient_boosting_grower_TreeGrower__apply_shrinkage = getattr(ret, '__module__', 'none') + '.' + ret.__class__.__name__\n",
    "    print('✅ sklearn.ensemble._hist_gradient_boosting.grower.TreeGrower._apply_shrinkage: ', type(ret)) # noqa E501\n",
    "except Exception as e:\n",
    "    type_sklearn_ensemble__hist_gradient_boosting_grower_TreeGrower__apply_shrinkage = '_syft_missing'\n",
    "    print('❌ sklearn.ensemble._hist_gradient_boosting.grower.TreeGrower._apply_shrinkage: Return unavailable') # noqa E501\n",
    "    print(\"  Please fix this return type code until there is no exception\")\n",
    "    print('  Error:', e)\n"
   ]
  },
  {
   "cell_type": "code",
   "execution_count": null,
   "id": "played-female",
   "metadata": {},
   "outputs": [],
   "source": [
    "# sklearn.ensemble._hist_gradient_boosting.grower.TreeGrower._compute_best_split_and_push\n",
    "try:\n",
    "    obj = class_constructor() # noqa F821\n",
    "    ret = obj._compute_best_split_and_push()\n",
    "    type_sklearn_ensemble__hist_gradient_boosting_grower_TreeGrower__compute_best_split_and_push = getattr(ret, '__module__', 'none') + '.' + ret.__class__.__name__\n",
    "    print('✅ sklearn.ensemble._hist_gradient_boosting.grower.TreeGrower._compute_best_split_and_push: ', type(ret)) # noqa E501\n",
    "except Exception as e:\n",
    "    type_sklearn_ensemble__hist_gradient_boosting_grower_TreeGrower__compute_best_split_and_push = '_syft_missing'\n",
    "    print('❌ sklearn.ensemble._hist_gradient_boosting.grower.TreeGrower._compute_best_split_and_push: Return unavailable') # noqa E501\n",
    "    print(\"  Please fix this return type code until there is no exception\")\n",
    "    print('  Error:', e)\n"
   ]
  },
  {
   "cell_type": "code",
   "execution_count": null,
   "id": "bottom-career",
   "metadata": {},
   "outputs": [],
   "source": [
    "# sklearn.ensemble._hist_gradient_boosting.grower.TreeGrower._finalize_leaf\n",
    "try:\n",
    "    obj = class_constructor() # noqa F821\n",
    "    ret = obj._finalize_leaf()\n",
    "    type_sklearn_ensemble__hist_gradient_boosting_grower_TreeGrower__finalize_leaf = getattr(ret, '__module__', 'none') + '.' + ret.__class__.__name__\n",
    "    print('✅ sklearn.ensemble._hist_gradient_boosting.grower.TreeGrower._finalize_leaf: ', type(ret)) # noqa E501\n",
    "except Exception as e:\n",
    "    type_sklearn_ensemble__hist_gradient_boosting_grower_TreeGrower__finalize_leaf = '_syft_missing'\n",
    "    print('❌ sklearn.ensemble._hist_gradient_boosting.grower.TreeGrower._finalize_leaf: Return unavailable') # noqa E501\n",
    "    print(\"  Please fix this return type code until there is no exception\")\n",
    "    print('  Error:', e)\n"
   ]
  },
  {
   "cell_type": "code",
   "execution_count": null,
   "id": "polish-field",
   "metadata": {},
   "outputs": [],
   "source": [
    "# sklearn.ensemble._hist_gradient_boosting.grower.TreeGrower._finalize_splittable_nodes\n",
    "try:\n",
    "    obj = class_constructor() # noqa F821\n",
    "    ret = obj._finalize_splittable_nodes()\n",
    "    type_sklearn_ensemble__hist_gradient_boosting_grower_TreeGrower__finalize_splittable_nodes = getattr(ret, '__module__', 'none') + '.' + ret.__class__.__name__\n",
    "    print('✅ sklearn.ensemble._hist_gradient_boosting.grower.TreeGrower._finalize_splittable_nodes: ', type(ret)) # noqa E501\n",
    "except Exception as e:\n",
    "    type_sklearn_ensemble__hist_gradient_boosting_grower_TreeGrower__finalize_splittable_nodes = '_syft_missing'\n",
    "    print('❌ sklearn.ensemble._hist_gradient_boosting.grower.TreeGrower._finalize_splittable_nodes: Return unavailable') # noqa E501\n",
    "    print(\"  Please fix this return type code until there is no exception\")\n",
    "    print('  Error:', e)\n"
   ]
  },
  {
   "cell_type": "code",
   "execution_count": null,
   "id": "editorial-companion",
   "metadata": {},
   "outputs": [],
   "source": [
    "# sklearn.ensemble._hist_gradient_boosting.grower.TreeGrower._intilialize_root\n",
    "try:\n",
    "    obj = class_constructor() # noqa F821\n",
    "    ret = obj._intilialize_root()\n",
    "    type_sklearn_ensemble__hist_gradient_boosting_grower_TreeGrower__intilialize_root = getattr(ret, '__module__', 'none') + '.' + ret.__class__.__name__\n",
    "    print('✅ sklearn.ensemble._hist_gradient_boosting.grower.TreeGrower._intilialize_root: ', type(ret)) # noqa E501\n",
    "except Exception as e:\n",
    "    type_sklearn_ensemble__hist_gradient_boosting_grower_TreeGrower__intilialize_root = '_syft_missing'\n",
    "    print('❌ sklearn.ensemble._hist_gradient_boosting.grower.TreeGrower._intilialize_root: Return unavailable') # noqa E501\n",
    "    print(\"  Please fix this return type code until there is no exception\")\n",
    "    print('  Error:', e)\n"
   ]
  },
  {
   "cell_type": "code",
   "execution_count": null,
   "id": "vulnerable-health",
   "metadata": {},
   "outputs": [],
   "source": [
    "# sklearn.ensemble._hist_gradient_boosting.grower.TreeGrower._validate_parameters\n",
    "try:\n",
    "    obj = class_constructor() # noqa F821\n",
    "    ret = obj._validate_parameters()\n",
    "    type_sklearn_ensemble__hist_gradient_boosting_grower_TreeGrower__validate_parameters = getattr(ret, '__module__', 'none') + '.' + ret.__class__.__name__\n",
    "    print('✅ sklearn.ensemble._hist_gradient_boosting.grower.TreeGrower._validate_parameters: ', type(ret)) # noqa E501\n",
    "except Exception as e:\n",
    "    type_sklearn_ensemble__hist_gradient_boosting_grower_TreeGrower__validate_parameters = '_syft_missing'\n",
    "    print('❌ sklearn.ensemble._hist_gradient_boosting.grower.TreeGrower._validate_parameters: Return unavailable') # noqa E501\n",
    "    print(\"  Please fix this return type code until there is no exception\")\n",
    "    print('  Error:', e)\n"
   ]
  },
  {
   "cell_type": "code",
   "execution_count": null,
   "id": "domestic-dayton",
   "metadata": {},
   "outputs": [],
   "source": [
    "# sklearn.ensemble._hist_gradient_boosting.grower.TreeGrower.grow\n",
    "try:\n",
    "    obj = class_constructor() # noqa F821\n",
    "    ret = obj.grow()\n",
    "    type_sklearn_ensemble__hist_gradient_boosting_grower_TreeGrower_grow = getattr(ret, '__module__', 'none') + '.' + ret.__class__.__name__\n",
    "    print('✅ sklearn.ensemble._hist_gradient_boosting.grower.TreeGrower.grow: ', type(ret)) # noqa E501\n",
    "except Exception as e:\n",
    "    type_sklearn_ensemble__hist_gradient_boosting_grower_TreeGrower_grow = '_syft_missing'\n",
    "    print('❌ sklearn.ensemble._hist_gradient_boosting.grower.TreeGrower.grow: Return unavailable') # noqa E501\n",
    "    print(\"  Please fix this return type code until there is no exception\")\n",
    "    print('  Error:', e)\n"
   ]
  },
  {
   "cell_type": "code",
   "execution_count": null,
   "id": "worthy-integral",
   "metadata": {},
   "outputs": [],
   "source": [
    "# sklearn.ensemble._hist_gradient_boosting.grower.TreeGrower.make_predictor\n",
    "try:\n",
    "    obj = class_constructor() # noqa F821\n",
    "    ret = obj.make_predictor()\n",
    "    type_sklearn_ensemble__hist_gradient_boosting_grower_TreeGrower_make_predictor = getattr(ret, '__module__', 'none') + '.' + ret.__class__.__name__\n",
    "    print('✅ sklearn.ensemble._hist_gradient_boosting.grower.TreeGrower.make_predictor: ', type(ret)) # noqa E501\n",
    "except Exception as e:\n",
    "    type_sklearn_ensemble__hist_gradient_boosting_grower_TreeGrower_make_predictor = '_syft_missing'\n",
    "    print('❌ sklearn.ensemble._hist_gradient_boosting.grower.TreeGrower.make_predictor: Return unavailable') # noqa E501\n",
    "    print(\"  Please fix this return type code until there is no exception\")\n",
    "    print('  Error:', e)\n"
   ]
  },
  {
   "cell_type": "code",
   "execution_count": null,
   "id": "green-wonder",
   "metadata": {},
   "outputs": [],
   "source": [
    "# sklearn.ensemble._hist_gradient_boosting.grower.TreeGrower.split_next\n",
    "try:\n",
    "    obj = class_constructor() # noqa F821\n",
    "    ret = obj.split_next()\n",
    "    type_sklearn_ensemble__hist_gradient_boosting_grower_TreeGrower_split_next = getattr(ret, '__module__', 'none') + '.' + ret.__class__.__name__\n",
    "    print('✅ sklearn.ensemble._hist_gradient_boosting.grower.TreeGrower.split_next: ', type(ret)) # noqa E501\n",
    "except Exception as e:\n",
    "    type_sklearn_ensemble__hist_gradient_boosting_grower_TreeGrower_split_next = '_syft_missing'\n",
    "    print('❌ sklearn.ensemble._hist_gradient_boosting.grower.TreeGrower.split_next: Return unavailable') # noqa E501\n",
    "    print(\"  Please fix this return type code until there is no exception\")\n",
    "    print('  Error:', e)\n"
   ]
  }
 ],
 "metadata": {},
 "nbformat": 4,
 "nbformat_minor": 5
}
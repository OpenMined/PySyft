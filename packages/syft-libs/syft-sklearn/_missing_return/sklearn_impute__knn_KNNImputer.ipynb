{
 "cells": [
  {
   "cell_type": "markdown",
   "id": "blank-chassis",
   "metadata": {},
   "source": [
    "## sklearn.impute._knn.KNNImputer"
   ]
  },
  {
   "cell_type": "code",
   "execution_count": null,
   "id": "desperate-animation",
   "metadata": {},
   "outputs": [],
   "source": [
    "import sklearn\n",
    "def class_constructor(*args, **kwargs):\n",
    "    obj = sklearn.impute._knn.KNNImputer()\n",
    "    return obj\n"
   ]
  },
  {
   "cell_type": "code",
   "execution_count": null,
   "id": "muslim-factor",
   "metadata": {},
   "outputs": [],
   "source": [
    "# sklearn.impute._knn.KNNImputer.__getstate__\n",
    "try:\n",
    "    obj = class_constructor() # noqa F821\n",
    "    ret = obj.__getstate__()\n",
    "    type_sklearn_impute__knn_KNNImputer___getstate__ = getattr(ret, '__module__', 'none') + '.' + ret.__class__.__name__\n",
    "    print('✅ sklearn.impute._knn.KNNImputer.__getstate__: ', type(ret)) # noqa E501\n",
    "except Exception as e:\n",
    "    type_sklearn_impute__knn_KNNImputer___getstate__ = '_syft_missing'\n",
    "    print('❌ sklearn.impute._knn.KNNImputer.__getstate__: Return unavailable') # noqa E501\n",
    "    print(\"  Please fix this return type code until there is no exception\")\n",
    "    print('  Error:', e)\n"
   ]
  },
  {
   "cell_type": "code",
   "execution_count": null,
   "id": "searching-dutch",
   "metadata": {},
   "outputs": [],
   "source": [
    "# sklearn.impute._knn.KNNImputer.__repr__\n",
    "try:\n",
    "    obj = class_constructor() # noqa F821\n",
    "    ret = obj.__repr__()\n",
    "    type_sklearn_impute__knn_KNNImputer___repr__ = getattr(ret, '__module__', 'none') + '.' + ret.__class__.__name__\n",
    "    print('✅ sklearn.impute._knn.KNNImputer.__repr__: ', type(ret)) # noqa E501\n",
    "except Exception as e:\n",
    "    type_sklearn_impute__knn_KNNImputer___repr__ = '_syft_missing'\n",
    "    print('❌ sklearn.impute._knn.KNNImputer.__repr__: Return unavailable') # noqa E501\n",
    "    print(\"  Please fix this return type code until there is no exception\")\n",
    "    print('  Error:', e)\n"
   ]
  },
  {
   "cell_type": "code",
   "execution_count": null,
   "id": "authentic-relationship",
   "metadata": {},
   "outputs": [],
   "source": [
    "# sklearn.impute._knn.KNNImputer.__setstate__\n",
    "try:\n",
    "    obj = class_constructor() # noqa F821\n",
    "    ret = obj.__setstate__()\n",
    "    type_sklearn_impute__knn_KNNImputer___setstate__ = getattr(ret, '__module__', 'none') + '.' + ret.__class__.__name__\n",
    "    print('✅ sklearn.impute._knn.KNNImputer.__setstate__: ', type(ret)) # noqa E501\n",
    "except Exception as e:\n",
    "    type_sklearn_impute__knn_KNNImputer___setstate__ = '_syft_missing'\n",
    "    print('❌ sklearn.impute._knn.KNNImputer.__setstate__: Return unavailable') # noqa E501\n",
    "    print(\"  Please fix this return type code until there is no exception\")\n",
    "    print('  Error:', e)\n"
   ]
  },
  {
   "cell_type": "code",
   "execution_count": null,
   "id": "adapted-vintage",
   "metadata": {},
   "outputs": [],
   "source": [
    "# sklearn.impute._knn.KNNImputer._calc_impute\n",
    "try:\n",
    "    obj = class_constructor() # noqa F821\n",
    "    ret = obj._calc_impute()\n",
    "    type_sklearn_impute__knn_KNNImputer__calc_impute = getattr(ret, '__module__', 'none') + '.' + ret.__class__.__name__\n",
    "    print('✅ sklearn.impute._knn.KNNImputer._calc_impute: ', type(ret)) # noqa E501\n",
    "except Exception as e:\n",
    "    type_sklearn_impute__knn_KNNImputer__calc_impute = '_syft_missing'\n",
    "    print('❌ sklearn.impute._knn.KNNImputer._calc_impute: Return unavailable') # noqa E501\n",
    "    print(\"  Please fix this return type code until there is no exception\")\n",
    "    print('  Error:', e)\n"
   ]
  },
  {
   "cell_type": "code",
   "execution_count": null,
   "id": "supported-colleague",
   "metadata": {},
   "outputs": [],
   "source": [
    "# sklearn.impute._knn.KNNImputer._check_n_features\n",
    "try:\n",
    "    obj = class_constructor() # noqa F821\n",
    "    ret = obj._check_n_features()\n",
    "    type_sklearn_impute__knn_KNNImputer__check_n_features = getattr(ret, '__module__', 'none') + '.' + ret.__class__.__name__\n",
    "    print('✅ sklearn.impute._knn.KNNImputer._check_n_features: ', type(ret)) # noqa E501\n",
    "except Exception as e:\n",
    "    type_sklearn_impute__knn_KNNImputer__check_n_features = '_syft_missing'\n",
    "    print('❌ sklearn.impute._knn.KNNImputer._check_n_features: Return unavailable') # noqa E501\n",
    "    print(\"  Please fix this return type code until there is no exception\")\n",
    "    print('  Error:', e)\n"
   ]
  },
  {
   "cell_type": "code",
   "execution_count": null,
   "id": "peaceful-flush",
   "metadata": {},
   "outputs": [],
   "source": [
    "# sklearn.impute._knn.KNNImputer._concatenate_indicator\n",
    "try:\n",
    "    obj = class_constructor() # noqa F821\n",
    "    ret = obj._concatenate_indicator()\n",
    "    type_sklearn_impute__knn_KNNImputer__concatenate_indicator = getattr(ret, '__module__', 'none') + '.' + ret.__class__.__name__\n",
    "    print('✅ sklearn.impute._knn.KNNImputer._concatenate_indicator: ', type(ret)) # noqa E501\n",
    "except Exception as e:\n",
    "    type_sklearn_impute__knn_KNNImputer__concatenate_indicator = '_syft_missing'\n",
    "    print('❌ sklearn.impute._knn.KNNImputer._concatenate_indicator: Return unavailable') # noqa E501\n",
    "    print(\"  Please fix this return type code until there is no exception\")\n",
    "    print('  Error:', e)\n"
   ]
  },
  {
   "cell_type": "code",
   "execution_count": null,
   "id": "little-commission",
   "metadata": {},
   "outputs": [],
   "source": [
    "# sklearn.impute._knn.KNNImputer._fit_indicator\n",
    "try:\n",
    "    obj = class_constructor() # noqa F821\n",
    "    ret = obj._fit_indicator()\n",
    "    type_sklearn_impute__knn_KNNImputer__fit_indicator = getattr(ret, '__module__', 'none') + '.' + ret.__class__.__name__\n",
    "    print('✅ sklearn.impute._knn.KNNImputer._fit_indicator: ', type(ret)) # noqa E501\n",
    "except Exception as e:\n",
    "    type_sklearn_impute__knn_KNNImputer__fit_indicator = '_syft_missing'\n",
    "    print('❌ sklearn.impute._knn.KNNImputer._fit_indicator: Return unavailable') # noqa E501\n",
    "    print(\"  Please fix this return type code until there is no exception\")\n",
    "    print('  Error:', e)\n"
   ]
  },
  {
   "cell_type": "code",
   "execution_count": null,
   "id": "collected-birthday",
   "metadata": {},
   "outputs": [],
   "source": [
    "# sklearn.impute._knn.KNNImputer._get_param_names\n",
    "try:\n",
    "    obj = class_constructor() # noqa F821\n",
    "    ret = obj._get_param_names()\n",
    "    type_sklearn_impute__knn_KNNImputer__get_param_names = getattr(ret, '__module__', 'none') + '.' + ret.__class__.__name__\n",
    "    print('✅ sklearn.impute._knn.KNNImputer._get_param_names: ', type(ret)) # noqa E501\n",
    "except Exception as e:\n",
    "    type_sklearn_impute__knn_KNNImputer__get_param_names = '_syft_missing'\n",
    "    print('❌ sklearn.impute._knn.KNNImputer._get_param_names: Return unavailable') # noqa E501\n",
    "    print(\"  Please fix this return type code until there is no exception\")\n",
    "    print('  Error:', e)\n"
   ]
  },
  {
   "cell_type": "code",
   "execution_count": null,
   "id": "copyrighted-passion",
   "metadata": {},
   "outputs": [],
   "source": [
    "# sklearn.impute._knn.KNNImputer._get_tags\n",
    "try:\n",
    "    obj = class_constructor() # noqa F821\n",
    "    ret = obj._get_tags()\n",
    "    type_sklearn_impute__knn_KNNImputer__get_tags = getattr(ret, '__module__', 'none') + '.' + ret.__class__.__name__\n",
    "    print('✅ sklearn.impute._knn.KNNImputer._get_tags: ', type(ret)) # noqa E501\n",
    "except Exception as e:\n",
    "    type_sklearn_impute__knn_KNNImputer__get_tags = '_syft_missing'\n",
    "    print('❌ sklearn.impute._knn.KNNImputer._get_tags: Return unavailable') # noqa E501\n",
    "    print(\"  Please fix this return type code until there is no exception\")\n",
    "    print('  Error:', e)\n"
   ]
  },
  {
   "cell_type": "code",
   "execution_count": null,
   "id": "demanding-familiar",
   "metadata": {},
   "outputs": [],
   "source": [
    "# sklearn.impute._knn.KNNImputer._more_tags\n",
    "try:\n",
    "    obj = class_constructor() # noqa F821\n",
    "    ret = obj._more_tags()\n",
    "    type_sklearn_impute__knn_KNNImputer__more_tags = getattr(ret, '__module__', 'none') + '.' + ret.__class__.__name__\n",
    "    print('✅ sklearn.impute._knn.KNNImputer._more_tags: ', type(ret)) # noqa E501\n",
    "except Exception as e:\n",
    "    type_sklearn_impute__knn_KNNImputer__more_tags = '_syft_missing'\n",
    "    print('❌ sklearn.impute._knn.KNNImputer._more_tags: Return unavailable') # noqa E501\n",
    "    print(\"  Please fix this return type code until there is no exception\")\n",
    "    print('  Error:', e)\n"
   ]
  },
  {
   "cell_type": "code",
   "execution_count": null,
   "id": "hispanic-insight",
   "metadata": {},
   "outputs": [],
   "source": [
    "# sklearn.impute._knn.KNNImputer._repr_html_\n",
    "try:\n",
    "    obj = class_constructor()\n",
    "    ret = obj._repr_html_\n",
    "    type_sklearn_impute__knn_KNNImputer__repr_html_ = getattr(ret, '__module__', 'none') + '.' + ret.__class__.__name__\n",
    "    print('✅ sklearn.impute._knn.KNNImputer._repr_html_:', type(ret)) # noqa E501\n",
    "except Exception as e:\n",
    "    type_sklearn_impute__knn_KNNImputer__repr_html_ = '_syft_missing'\n",
    "    print('❌ sklearn.impute._knn.KNNImputer._repr_html_: Return unavailable') # noqa E501\n",
    "    print(\"  Please fix this return type code until there is no exception\")\n",
    "    print('  Error:', e)\n"
   ]
  },
  {
   "cell_type": "code",
   "execution_count": null,
   "id": "turned-austria",
   "metadata": {},
   "outputs": [],
   "source": [
    "# sklearn.impute._knn.KNNImputer._repr_html_inner\n",
    "try:\n",
    "    obj = class_constructor() # noqa F821\n",
    "    ret = obj._repr_html_inner()\n",
    "    type_sklearn_impute__knn_KNNImputer__repr_html_inner = getattr(ret, '__module__', 'none') + '.' + ret.__class__.__name__\n",
    "    print('✅ sklearn.impute._knn.KNNImputer._repr_html_inner: ', type(ret)) # noqa E501\n",
    "except Exception as e:\n",
    "    type_sklearn_impute__knn_KNNImputer__repr_html_inner = '_syft_missing'\n",
    "    print('❌ sklearn.impute._knn.KNNImputer._repr_html_inner: Return unavailable') # noqa E501\n",
    "    print(\"  Please fix this return type code until there is no exception\")\n",
    "    print('  Error:', e)\n"
   ]
  },
  {
   "cell_type": "code",
   "execution_count": null,
   "id": "running-consequence",
   "metadata": {},
   "outputs": [],
   "source": [
    "# sklearn.impute._knn.KNNImputer._repr_mimebundle_\n",
    "try:\n",
    "    obj = class_constructor() # noqa F821\n",
    "    ret = obj._repr_mimebundle_()\n",
    "    type_sklearn_impute__knn_KNNImputer__repr_mimebundle_ = getattr(ret, '__module__', 'none') + '.' + ret.__class__.__name__\n",
    "    print('✅ sklearn.impute._knn.KNNImputer._repr_mimebundle_: ', type(ret)) # noqa E501\n",
    "except Exception as e:\n",
    "    type_sklearn_impute__knn_KNNImputer__repr_mimebundle_ = '_syft_missing'\n",
    "    print('❌ sklearn.impute._knn.KNNImputer._repr_mimebundle_: Return unavailable') # noqa E501\n",
    "    print(\"  Please fix this return type code until there is no exception\")\n",
    "    print('  Error:', e)\n"
   ]
  },
  {
   "cell_type": "code",
   "execution_count": null,
   "id": "neither-amino",
   "metadata": {},
   "outputs": [],
   "source": [
    "# sklearn.impute._knn.KNNImputer._transform_indicator\n",
    "try:\n",
    "    obj = class_constructor() # noqa F821\n",
    "    ret = obj._transform_indicator()\n",
    "    type_sklearn_impute__knn_KNNImputer__transform_indicator = getattr(ret, '__module__', 'none') + '.' + ret.__class__.__name__\n",
    "    print('✅ sklearn.impute._knn.KNNImputer._transform_indicator: ', type(ret)) # noqa E501\n",
    "except Exception as e:\n",
    "    type_sklearn_impute__knn_KNNImputer__transform_indicator = '_syft_missing'\n",
    "    print('❌ sklearn.impute._knn.KNNImputer._transform_indicator: Return unavailable') # noqa E501\n",
    "    print(\"  Please fix this return type code until there is no exception\")\n",
    "    print('  Error:', e)\n"
   ]
  },
  {
   "cell_type": "code",
   "execution_count": null,
   "id": "greek-lesbian",
   "metadata": {},
   "outputs": [],
   "source": [
    "# sklearn.impute._knn.KNNImputer._validate_data\n",
    "try:\n",
    "    obj = class_constructor() # noqa F821\n",
    "    ret = obj._validate_data()\n",
    "    type_sklearn_impute__knn_KNNImputer__validate_data = getattr(ret, '__module__', 'none') + '.' + ret.__class__.__name__\n",
    "    print('✅ sklearn.impute._knn.KNNImputer._validate_data: ', type(ret)) # noqa E501\n",
    "except Exception as e:\n",
    "    type_sklearn_impute__knn_KNNImputer__validate_data = '_syft_missing'\n",
    "    print('❌ sklearn.impute._knn.KNNImputer._validate_data: Return unavailable') # noqa E501\n",
    "    print(\"  Please fix this return type code until there is no exception\")\n",
    "    print('  Error:', e)\n"
   ]
  },
  {
   "cell_type": "code",
   "execution_count": null,
   "id": "plain-member",
   "metadata": {},
   "outputs": [],
   "source": [
    "# sklearn.impute._knn.KNNImputer.fit\n",
    "try:\n",
    "    obj = class_constructor() # noqa F821\n",
    "    ret = obj.fit()\n",
    "    type_sklearn_impute__knn_KNNImputer_fit = getattr(ret, '__module__', 'none') + '.' + ret.__class__.__name__\n",
    "    print('✅ sklearn.impute._knn.KNNImputer.fit: ', type(ret)) # noqa E501\n",
    "except Exception as e:\n",
    "    type_sklearn_impute__knn_KNNImputer_fit = '_syft_missing'\n",
    "    print('❌ sklearn.impute._knn.KNNImputer.fit: Return unavailable') # noqa E501\n",
    "    print(\"  Please fix this return type code until there is no exception\")\n",
    "    print('  Error:', e)\n"
   ]
  },
  {
   "cell_type": "code",
   "execution_count": null,
   "id": "functioning-spain",
   "metadata": {},
   "outputs": [],
   "source": [
    "# sklearn.impute._knn.KNNImputer.fit_transform\n",
    "try:\n",
    "    obj = class_constructor() # noqa F821\n",
    "    ret = obj.fit_transform()\n",
    "    type_sklearn_impute__knn_KNNImputer_fit_transform = getattr(ret, '__module__', 'none') + '.' + ret.__class__.__name__\n",
    "    print('✅ sklearn.impute._knn.KNNImputer.fit_transform: ', type(ret)) # noqa E501\n",
    "except Exception as e:\n",
    "    type_sklearn_impute__knn_KNNImputer_fit_transform = '_syft_missing'\n",
    "    print('❌ sklearn.impute._knn.KNNImputer.fit_transform: Return unavailable') # noqa E501\n",
    "    print(\"  Please fix this return type code until there is no exception\")\n",
    "    print('  Error:', e)\n"
   ]
  },
  {
   "cell_type": "code",
   "execution_count": null,
   "id": "described-chester",
   "metadata": {},
   "outputs": [],
   "source": [
    "# sklearn.impute._knn.KNNImputer.get_params\n",
    "try:\n",
    "    obj = class_constructor() # noqa F821\n",
    "    ret = obj.get_params()\n",
    "    type_sklearn_impute__knn_KNNImputer_get_params = getattr(ret, '__module__', 'none') + '.' + ret.__class__.__name__\n",
    "    print('✅ sklearn.impute._knn.KNNImputer.get_params: ', type(ret)) # noqa E501\n",
    "except Exception as e:\n",
    "    type_sklearn_impute__knn_KNNImputer_get_params = '_syft_missing'\n",
    "    print('❌ sklearn.impute._knn.KNNImputer.get_params: Return unavailable') # noqa E501\n",
    "    print(\"  Please fix this return type code until there is no exception\")\n",
    "    print('  Error:', e)\n"
   ]
  },
  {
   "cell_type": "code",
   "execution_count": null,
   "id": "legislative-constitution",
   "metadata": {},
   "outputs": [],
   "source": [
    "# sklearn.impute._knn.KNNImputer.set_params\n",
    "try:\n",
    "    obj = class_constructor() # noqa F821\n",
    "    ret = obj.set_params()\n",
    "    type_sklearn_impute__knn_KNNImputer_set_params = getattr(ret, '__module__', 'none') + '.' + ret.__class__.__name__\n",
    "    print('✅ sklearn.impute._knn.KNNImputer.set_params: ', type(ret)) # noqa E501\n",
    "except Exception as e:\n",
    "    type_sklearn_impute__knn_KNNImputer_set_params = '_syft_missing'\n",
    "    print('❌ sklearn.impute._knn.KNNImputer.set_params: Return unavailable') # noqa E501\n",
    "    print(\"  Please fix this return type code until there is no exception\")\n",
    "    print('  Error:', e)\n"
   ]
  },
  {
   "cell_type": "code",
   "execution_count": null,
   "id": "possible-ocean",
   "metadata": {},
   "outputs": [],
   "source": [
    "# sklearn.impute._knn.KNNImputer.transform\n",
    "try:\n",
    "    obj = class_constructor() # noqa F821\n",
    "    ret = obj.transform()\n",
    "    type_sklearn_impute__knn_KNNImputer_transform = getattr(ret, '__module__', 'none') + '.' + ret.__class__.__name__\n",
    "    print('✅ sklearn.impute._knn.KNNImputer.transform: ', type(ret)) # noqa E501\n",
    "except Exception as e:\n",
    "    type_sklearn_impute__knn_KNNImputer_transform = '_syft_missing'\n",
    "    print('❌ sklearn.impute._knn.KNNImputer.transform: Return unavailable') # noqa E501\n",
    "    print(\"  Please fix this return type code until there is no exception\")\n",
    "    print('  Error:', e)\n"
   ]
  }
 ],
 "metadata": {},
 "nbformat": 4,
 "nbformat_minor": 5
}
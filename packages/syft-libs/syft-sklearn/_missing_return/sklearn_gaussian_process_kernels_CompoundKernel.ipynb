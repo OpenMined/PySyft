{
 "cells": [
  {
   "cell_type": "markdown",
   "id": "smooth-rabbit",
   "metadata": {},
   "source": [
    "## sklearn.gaussian_process.kernels.CompoundKernel"
   ]
  },
  {
   "cell_type": "code",
   "execution_count": null,
   "id": "clinical-melbourne",
   "metadata": {},
   "outputs": [],
   "source": [
    "import sklearn\n",
    "def class_constructor(*args, **kwargs):\n",
    "    obj = sklearn.gaussian_process.kernels.CompoundKernel()\n",
    "    return obj\n"
   ]
  },
  {
   "cell_type": "code",
   "execution_count": null,
   "id": "infinite-forest",
   "metadata": {},
   "outputs": [],
   "source": [
    "# sklearn.gaussian_process.kernels.CompoundKernel.__add__\n",
    "try:\n",
    "    obj = class_constructor() # noqa F821\n",
    "    ret = obj.__add__()\n",
    "    type_sklearn_gaussian_process_kernels_CompoundKernel___add__ = getattr(ret, '__module__', 'none') + '.' + ret.__class__.__name__\n",
    "    print('✅ sklearn.gaussian_process.kernels.CompoundKernel.__add__: ', type(ret)) # noqa E501\n",
    "except Exception as e:\n",
    "    type_sklearn_gaussian_process_kernels_CompoundKernel___add__ = '_syft_missing'\n",
    "    print('❌ sklearn.gaussian_process.kernels.CompoundKernel.__add__: Return unavailable') # noqa E501\n",
    "    print(\"  Please fix this return type code until there is no exception\")\n",
    "    print('  Error:', e)\n"
   ]
  },
  {
   "cell_type": "code",
   "execution_count": null,
   "id": "harmful-acoustic",
   "metadata": {},
   "outputs": [],
   "source": [
    "# sklearn.gaussian_process.kernels.CompoundKernel.__call__\n",
    "try:\n",
    "    obj = class_constructor() # noqa F821\n",
    "    ret = obj.__call__()\n",
    "    type_sklearn_gaussian_process_kernels_CompoundKernel___call__ = getattr(ret, '__module__', 'none') + '.' + ret.__class__.__name__\n",
    "    print('✅ sklearn.gaussian_process.kernels.CompoundKernel.__call__: ', type(ret)) # noqa E501\n",
    "except Exception as e:\n",
    "    type_sklearn_gaussian_process_kernels_CompoundKernel___call__ = '_syft_missing'\n",
    "    print('❌ sklearn.gaussian_process.kernels.CompoundKernel.__call__: Return unavailable') # noqa E501\n",
    "    print(\"  Please fix this return type code until there is no exception\")\n",
    "    print('  Error:', e)\n"
   ]
  },
  {
   "cell_type": "code",
   "execution_count": null,
   "id": "featured-blend",
   "metadata": {},
   "outputs": [],
   "source": [
    "# sklearn.gaussian_process.kernels.CompoundKernel.__eq__\n",
    "try:\n",
    "    obj = class_constructor() # noqa F821\n",
    "    ret = obj.__eq__()\n",
    "    type_sklearn_gaussian_process_kernels_CompoundKernel___eq__ = getattr(ret, '__module__', 'none') + '.' + ret.__class__.__name__\n",
    "    print('✅ sklearn.gaussian_process.kernels.CompoundKernel.__eq__: ', type(ret)) # noqa E501\n",
    "except Exception as e:\n",
    "    type_sklearn_gaussian_process_kernels_CompoundKernel___eq__ = '_syft_missing'\n",
    "    print('❌ sklearn.gaussian_process.kernels.CompoundKernel.__eq__: Return unavailable') # noqa E501\n",
    "    print(\"  Please fix this return type code until there is no exception\")\n",
    "    print('  Error:', e)\n"
   ]
  },
  {
   "cell_type": "code",
   "execution_count": null,
   "id": "prerequisite-catalog",
   "metadata": {},
   "outputs": [],
   "source": [
    "# sklearn.gaussian_process.kernels.CompoundKernel.__mul__\n",
    "try:\n",
    "    obj = class_constructor() # noqa F821\n",
    "    ret = obj.__mul__()\n",
    "    type_sklearn_gaussian_process_kernels_CompoundKernel___mul__ = getattr(ret, '__module__', 'none') + '.' + ret.__class__.__name__\n",
    "    print('✅ sklearn.gaussian_process.kernels.CompoundKernel.__mul__: ', type(ret)) # noqa E501\n",
    "except Exception as e:\n",
    "    type_sklearn_gaussian_process_kernels_CompoundKernel___mul__ = '_syft_missing'\n",
    "    print('❌ sklearn.gaussian_process.kernels.CompoundKernel.__mul__: Return unavailable') # noqa E501\n",
    "    print(\"  Please fix this return type code until there is no exception\")\n",
    "    print('  Error:', e)\n"
   ]
  },
  {
   "cell_type": "code",
   "execution_count": null,
   "id": "immune-flesh",
   "metadata": {},
   "outputs": [],
   "source": [
    "# sklearn.gaussian_process.kernels.CompoundKernel.__pow__\n",
    "try:\n",
    "    obj = class_constructor() # noqa F821\n",
    "    ret = obj.__pow__()\n",
    "    type_sklearn_gaussian_process_kernels_CompoundKernel___pow__ = getattr(ret, '__module__', 'none') + '.' + ret.__class__.__name__\n",
    "    print('✅ sklearn.gaussian_process.kernels.CompoundKernel.__pow__: ', type(ret)) # noqa E501\n",
    "except Exception as e:\n",
    "    type_sklearn_gaussian_process_kernels_CompoundKernel___pow__ = '_syft_missing'\n",
    "    print('❌ sklearn.gaussian_process.kernels.CompoundKernel.__pow__: Return unavailable') # noqa E501\n",
    "    print(\"  Please fix this return type code until there is no exception\")\n",
    "    print('  Error:', e)\n"
   ]
  },
  {
   "cell_type": "code",
   "execution_count": null,
   "id": "needed-space",
   "metadata": {},
   "outputs": [],
   "source": [
    "# sklearn.gaussian_process.kernels.CompoundKernel.__radd__\n",
    "try:\n",
    "    obj = class_constructor() # noqa F821\n",
    "    ret = obj.__radd__()\n",
    "    type_sklearn_gaussian_process_kernels_CompoundKernel___radd__ = getattr(ret, '__module__', 'none') + '.' + ret.__class__.__name__\n",
    "    print('✅ sklearn.gaussian_process.kernels.CompoundKernel.__radd__: ', type(ret)) # noqa E501\n",
    "except Exception as e:\n",
    "    type_sklearn_gaussian_process_kernels_CompoundKernel___radd__ = '_syft_missing'\n",
    "    print('❌ sklearn.gaussian_process.kernels.CompoundKernel.__radd__: Return unavailable') # noqa E501\n",
    "    print(\"  Please fix this return type code until there is no exception\")\n",
    "    print('  Error:', e)\n"
   ]
  },
  {
   "cell_type": "code",
   "execution_count": null,
   "id": "considered-occupation",
   "metadata": {},
   "outputs": [],
   "source": [
    "# sklearn.gaussian_process.kernels.CompoundKernel.__repr__\n",
    "try:\n",
    "    obj = class_constructor() # noqa F821\n",
    "    ret = obj.__repr__()\n",
    "    type_sklearn_gaussian_process_kernels_CompoundKernel___repr__ = getattr(ret, '__module__', 'none') + '.' + ret.__class__.__name__\n",
    "    print('✅ sklearn.gaussian_process.kernels.CompoundKernel.__repr__: ', type(ret)) # noqa E501\n",
    "except Exception as e:\n",
    "    type_sklearn_gaussian_process_kernels_CompoundKernel___repr__ = '_syft_missing'\n",
    "    print('❌ sklearn.gaussian_process.kernels.CompoundKernel.__repr__: Return unavailable') # noqa E501\n",
    "    print(\"  Please fix this return type code until there is no exception\")\n",
    "    print('  Error:', e)\n"
   ]
  },
  {
   "cell_type": "code",
   "execution_count": null,
   "id": "destroyed-stack",
   "metadata": {},
   "outputs": [],
   "source": [
    "# sklearn.gaussian_process.kernels.CompoundKernel.__rmul__\n",
    "try:\n",
    "    obj = class_constructor() # noqa F821\n",
    "    ret = obj.__rmul__()\n",
    "    type_sklearn_gaussian_process_kernels_CompoundKernel___rmul__ = getattr(ret, '__module__', 'none') + '.' + ret.__class__.__name__\n",
    "    print('✅ sklearn.gaussian_process.kernels.CompoundKernel.__rmul__: ', type(ret)) # noqa E501\n",
    "except Exception as e:\n",
    "    type_sklearn_gaussian_process_kernels_CompoundKernel___rmul__ = '_syft_missing'\n",
    "    print('❌ sklearn.gaussian_process.kernels.CompoundKernel.__rmul__: Return unavailable') # noqa E501\n",
    "    print(\"  Please fix this return type code until there is no exception\")\n",
    "    print('  Error:', e)\n"
   ]
  },
  {
   "cell_type": "code",
   "execution_count": null,
   "id": "transsexual-group",
   "metadata": {},
   "outputs": [],
   "source": [
    "# sklearn.gaussian_process.kernels.CompoundKernel._check_bounds_params\n",
    "try:\n",
    "    obj = class_constructor() # noqa F821\n",
    "    ret = obj._check_bounds_params()\n",
    "    type_sklearn_gaussian_process_kernels_CompoundKernel__check_bounds_params = getattr(ret, '__module__', 'none') + '.' + ret.__class__.__name__\n",
    "    print('✅ sklearn.gaussian_process.kernels.CompoundKernel._check_bounds_params: ', type(ret)) # noqa E501\n",
    "except Exception as e:\n",
    "    type_sklearn_gaussian_process_kernels_CompoundKernel__check_bounds_params = '_syft_missing'\n",
    "    print('❌ sklearn.gaussian_process.kernels.CompoundKernel._check_bounds_params: Return unavailable') # noqa E501\n",
    "    print(\"  Please fix this return type code until there is no exception\")\n",
    "    print('  Error:', e)\n"
   ]
  },
  {
   "cell_type": "code",
   "execution_count": null,
   "id": "studied-physiology",
   "metadata": {},
   "outputs": [],
   "source": [
    "# sklearn.gaussian_process.kernels.CompoundKernel.bounds\n",
    "try:\n",
    "    obj = class_constructor()\n",
    "    ret = obj.bounds\n",
    "    type_sklearn_gaussian_process_kernels_CompoundKernel_bounds = getattr(ret, '__module__', 'none') + '.' + ret.__class__.__name__\n",
    "    print('✅ sklearn.gaussian_process.kernels.CompoundKernel.bounds:', type(ret)) # noqa E501\n",
    "except Exception as e:\n",
    "    type_sklearn_gaussian_process_kernels_CompoundKernel_bounds = '_syft_missing'\n",
    "    print('❌ sklearn.gaussian_process.kernels.CompoundKernel.bounds: Return unavailable') # noqa E501\n",
    "    print(\"  Please fix this return type code until there is no exception\")\n",
    "    print('  Error:', e)\n"
   ]
  },
  {
   "cell_type": "code",
   "execution_count": null,
   "id": "southeast-bulgarian",
   "metadata": {},
   "outputs": [],
   "source": [
    "# sklearn.gaussian_process.kernels.CompoundKernel.clone_with_theta\n",
    "try:\n",
    "    obj = class_constructor() # noqa F821\n",
    "    ret = obj.clone_with_theta()\n",
    "    type_sklearn_gaussian_process_kernels_CompoundKernel_clone_with_theta = getattr(ret, '__module__', 'none') + '.' + ret.__class__.__name__\n",
    "    print('✅ sklearn.gaussian_process.kernels.CompoundKernel.clone_with_theta: ', type(ret)) # noqa E501\n",
    "except Exception as e:\n",
    "    type_sklearn_gaussian_process_kernels_CompoundKernel_clone_with_theta = '_syft_missing'\n",
    "    print('❌ sklearn.gaussian_process.kernels.CompoundKernel.clone_with_theta: Return unavailable') # noqa E501\n",
    "    print(\"  Please fix this return type code until there is no exception\")\n",
    "    print('  Error:', e)\n"
   ]
  },
  {
   "cell_type": "code",
   "execution_count": null,
   "id": "accredited-austin",
   "metadata": {},
   "outputs": [],
   "source": [
    "# sklearn.gaussian_process.kernels.CompoundKernel.diag\n",
    "try:\n",
    "    obj = class_constructor() # noqa F821\n",
    "    ret = obj.diag()\n",
    "    type_sklearn_gaussian_process_kernels_CompoundKernel_diag = getattr(ret, '__module__', 'none') + '.' + ret.__class__.__name__\n",
    "    print('✅ sklearn.gaussian_process.kernels.CompoundKernel.diag: ', type(ret)) # noqa E501\n",
    "except Exception as e:\n",
    "    type_sklearn_gaussian_process_kernels_CompoundKernel_diag = '_syft_missing'\n",
    "    print('❌ sklearn.gaussian_process.kernels.CompoundKernel.diag: Return unavailable') # noqa E501\n",
    "    print(\"  Please fix this return type code until there is no exception\")\n",
    "    print('  Error:', e)\n"
   ]
  },
  {
   "cell_type": "code",
   "execution_count": null,
   "id": "auburn-nation",
   "metadata": {},
   "outputs": [],
   "source": [
    "# sklearn.gaussian_process.kernels.CompoundKernel.get_params\n",
    "try:\n",
    "    obj = class_constructor() # noqa F821\n",
    "    ret = obj.get_params()\n",
    "    type_sklearn_gaussian_process_kernels_CompoundKernel_get_params = getattr(ret, '__module__', 'none') + '.' + ret.__class__.__name__\n",
    "    print('✅ sklearn.gaussian_process.kernels.CompoundKernel.get_params: ', type(ret)) # noqa E501\n",
    "except Exception as e:\n",
    "    type_sklearn_gaussian_process_kernels_CompoundKernel_get_params = '_syft_missing'\n",
    "    print('❌ sklearn.gaussian_process.kernels.CompoundKernel.get_params: Return unavailable') # noqa E501\n",
    "    print(\"  Please fix this return type code until there is no exception\")\n",
    "    print('  Error:', e)\n"
   ]
  },
  {
   "cell_type": "code",
   "execution_count": null,
   "id": "signal-measure",
   "metadata": {},
   "outputs": [],
   "source": [
    "# sklearn.gaussian_process.kernels.CompoundKernel.hyperparameters\n",
    "try:\n",
    "    obj = class_constructor()\n",
    "    ret = obj.hyperparameters\n",
    "    type_sklearn_gaussian_process_kernels_CompoundKernel_hyperparameters = getattr(ret, '__module__', 'none') + '.' + ret.__class__.__name__\n",
    "    print('✅ sklearn.gaussian_process.kernels.CompoundKernel.hyperparameters:', type(ret)) # noqa E501\n",
    "except Exception as e:\n",
    "    type_sklearn_gaussian_process_kernels_CompoundKernel_hyperparameters = '_syft_missing'\n",
    "    print('❌ sklearn.gaussian_process.kernels.CompoundKernel.hyperparameters: Return unavailable') # noqa E501\n",
    "    print(\"  Please fix this return type code until there is no exception\")\n",
    "    print('  Error:', e)\n"
   ]
  },
  {
   "cell_type": "code",
   "execution_count": null,
   "id": "designed-africa",
   "metadata": {},
   "outputs": [],
   "source": [
    "# sklearn.gaussian_process.kernels.CompoundKernel.is_stationary\n",
    "try:\n",
    "    obj = class_constructor() # noqa F821\n",
    "    ret = obj.is_stationary()\n",
    "    type_sklearn_gaussian_process_kernels_CompoundKernel_is_stationary = getattr(ret, '__module__', 'none') + '.' + ret.__class__.__name__\n",
    "    print('✅ sklearn.gaussian_process.kernels.CompoundKernel.is_stationary: ', type(ret)) # noqa E501\n",
    "except Exception as e:\n",
    "    type_sklearn_gaussian_process_kernels_CompoundKernel_is_stationary = '_syft_missing'\n",
    "    print('❌ sklearn.gaussian_process.kernels.CompoundKernel.is_stationary: Return unavailable') # noqa E501\n",
    "    print(\"  Please fix this return type code until there is no exception\")\n",
    "    print('  Error:', e)\n"
   ]
  },
  {
   "cell_type": "code",
   "execution_count": null,
   "id": "forty-scenario",
   "metadata": {},
   "outputs": [],
   "source": [
    "# sklearn.gaussian_process.kernels.CompoundKernel.n_dims\n",
    "try:\n",
    "    obj = class_constructor()\n",
    "    ret = obj.n_dims\n",
    "    type_sklearn_gaussian_process_kernels_CompoundKernel_n_dims = getattr(ret, '__module__', 'none') + '.' + ret.__class__.__name__\n",
    "    print('✅ sklearn.gaussian_process.kernels.CompoundKernel.n_dims:', type(ret)) # noqa E501\n",
    "except Exception as e:\n",
    "    type_sklearn_gaussian_process_kernels_CompoundKernel_n_dims = '_syft_missing'\n",
    "    print('❌ sklearn.gaussian_process.kernels.CompoundKernel.n_dims: Return unavailable') # noqa E501\n",
    "    print(\"  Please fix this return type code until there is no exception\")\n",
    "    print('  Error:', e)\n"
   ]
  },
  {
   "cell_type": "code",
   "execution_count": null,
   "id": "comparable-postcard",
   "metadata": {},
   "outputs": [],
   "source": [
    "# sklearn.gaussian_process.kernels.CompoundKernel.requires_vector_input\n",
    "try:\n",
    "    obj = class_constructor()\n",
    "    ret = obj.requires_vector_input\n",
    "    type_sklearn_gaussian_process_kernels_CompoundKernel_requires_vector_input = getattr(ret, '__module__', 'none') + '.' + ret.__class__.__name__\n",
    "    print('✅ sklearn.gaussian_process.kernels.CompoundKernel.requires_vector_input:', type(ret)) # noqa E501\n",
    "except Exception as e:\n",
    "    type_sklearn_gaussian_process_kernels_CompoundKernel_requires_vector_input = '_syft_missing'\n",
    "    print('❌ sklearn.gaussian_process.kernels.CompoundKernel.requires_vector_input: Return unavailable') # noqa E501\n",
    "    print(\"  Please fix this return type code until there is no exception\")\n",
    "    print('  Error:', e)\n"
   ]
  },
  {
   "cell_type": "code",
   "execution_count": null,
   "id": "vanilla-riverside",
   "metadata": {},
   "outputs": [],
   "source": [
    "# sklearn.gaussian_process.kernels.CompoundKernel.set_params\n",
    "try:\n",
    "    obj = class_constructor() # noqa F821\n",
    "    ret = obj.set_params()\n",
    "    type_sklearn_gaussian_process_kernels_CompoundKernel_set_params = getattr(ret, '__module__', 'none') + '.' + ret.__class__.__name__\n",
    "    print('✅ sklearn.gaussian_process.kernels.CompoundKernel.set_params: ', type(ret)) # noqa E501\n",
    "except Exception as e:\n",
    "    type_sklearn_gaussian_process_kernels_CompoundKernel_set_params = '_syft_missing'\n",
    "    print('❌ sklearn.gaussian_process.kernels.CompoundKernel.set_params: Return unavailable') # noqa E501\n",
    "    print(\"  Please fix this return type code until there is no exception\")\n",
    "    print('  Error:', e)\n"
   ]
  },
  {
   "cell_type": "code",
   "execution_count": null,
   "id": "fitting-madison",
   "metadata": {},
   "outputs": [],
   "source": [
    "# sklearn.gaussian_process.kernels.CompoundKernel.theta\n",
    "try:\n",
    "    obj = class_constructor()\n",
    "    ret = obj.theta\n",
    "    type_sklearn_gaussian_process_kernels_CompoundKernel_theta = getattr(ret, '__module__', 'none') + '.' + ret.__class__.__name__\n",
    "    print('✅ sklearn.gaussian_process.kernels.CompoundKernel.theta:', type(ret)) # noqa E501\n",
    "except Exception as e:\n",
    "    type_sklearn_gaussian_process_kernels_CompoundKernel_theta = '_syft_missing'\n",
    "    print('❌ sklearn.gaussian_process.kernels.CompoundKernel.theta: Return unavailable') # noqa E501\n",
    "    print(\"  Please fix this return type code until there is no exception\")\n",
    "    print('  Error:', e)\n"
   ]
  }
 ],
 "metadata": {},
 "nbformat": 4,
 "nbformat_minor": 5
}
{
 "cells": [
  {
   "cell_type": "markdown",
   "id": "found-darwin",
   "metadata": {},
   "source": [
    "## sklearn.ensemble._hist_gradient_boosting.loss.CategoricalCrossEntropy"
   ]
  },
  {
   "cell_type": "code",
   "execution_count": null,
   "id": "serial-miracle",
   "metadata": {},
   "outputs": [],
   "source": [
    "import sklearn\n",
    "def class_constructor(*args, **kwargs):\n",
    "    obj = sklearn.ensemble._hist_gradient_boosting.loss.CategoricalCrossEntropy()\n",
    "    return obj\n"
   ]
  },
  {
   "cell_type": "code",
   "execution_count": null,
   "id": "thorough-seller",
   "metadata": {},
   "outputs": [],
   "source": [
    "# sklearn.ensemble._hist_gradient_boosting.loss.CategoricalCrossEntropy.__call__\n",
    "try:\n",
    "    obj = class_constructor() # noqa F821\n",
    "    ret = obj.__call__()\n",
    "    type_sklearn_ensemble__hist_gradient_boosting_loss_CategoricalCrossEntropy___call__ = getattr(ret, '__module__', 'none') + '.' + ret.__class__.__name__\n",
    "    print('✅ sklearn.ensemble._hist_gradient_boosting.loss.CategoricalCrossEntropy.__call__: ', type(ret)) # noqa E501\n",
    "except Exception as e:\n",
    "    type_sklearn_ensemble__hist_gradient_boosting_loss_CategoricalCrossEntropy___call__ = '_syft_missing'\n",
    "    print('❌ sklearn.ensemble._hist_gradient_boosting.loss.CategoricalCrossEntropy.__call__: Return unavailable') # noqa E501\n",
    "    print(\"  Please fix this return type code until there is no exception\")\n",
    "    print('  Error:', e)\n"
   ]
  },
  {
   "cell_type": "code",
   "execution_count": null,
   "id": "uniform-technical",
   "metadata": {},
   "outputs": [],
   "source": [
    "# sklearn.ensemble._hist_gradient_boosting.loss.CategoricalCrossEntropy.get_baseline_prediction\n",
    "try:\n",
    "    obj = class_constructor() # noqa F821\n",
    "    ret = obj.get_baseline_prediction()\n",
    "    type_sklearn_ensemble__hist_gradient_boosting_loss_CategoricalCrossEntropy_get_baseline_prediction = getattr(ret, '__module__', 'none') + '.' + ret.__class__.__name__\n",
    "    print('✅ sklearn.ensemble._hist_gradient_boosting.loss.CategoricalCrossEntropy.get_baseline_prediction: ', type(ret)) # noqa E501\n",
    "except Exception as e:\n",
    "    type_sklearn_ensemble__hist_gradient_boosting_loss_CategoricalCrossEntropy_get_baseline_prediction = '_syft_missing'\n",
    "    print('❌ sklearn.ensemble._hist_gradient_boosting.loss.CategoricalCrossEntropy.get_baseline_prediction: Return unavailable') # noqa E501\n",
    "    print(\"  Please fix this return type code until there is no exception\")\n",
    "    print('  Error:', e)\n"
   ]
  },
  {
   "cell_type": "code",
   "execution_count": null,
   "id": "bottom-linux",
   "metadata": {},
   "outputs": [],
   "source": [
    "# sklearn.ensemble._hist_gradient_boosting.loss.CategoricalCrossEntropy.init_gradients_and_hessians\n",
    "try:\n",
    "    obj = class_constructor() # noqa F821\n",
    "    ret = obj.init_gradients_and_hessians()\n",
    "    type_sklearn_ensemble__hist_gradient_boosting_loss_CategoricalCrossEntropy_init_gradients_and_hessians = getattr(ret, '__module__', 'none') + '.' + ret.__class__.__name__\n",
    "    print('✅ sklearn.ensemble._hist_gradient_boosting.loss.CategoricalCrossEntropy.init_gradients_and_hessians: ', type(ret)) # noqa E501\n",
    "except Exception as e:\n",
    "    type_sklearn_ensemble__hist_gradient_boosting_loss_CategoricalCrossEntropy_init_gradients_and_hessians = '_syft_missing'\n",
    "    print('❌ sklearn.ensemble._hist_gradient_boosting.loss.CategoricalCrossEntropy.init_gradients_and_hessians: Return unavailable') # noqa E501\n",
    "    print(\"  Please fix this return type code until there is no exception\")\n",
    "    print('  Error:', e)\n"
   ]
  },
  {
   "cell_type": "code",
   "execution_count": null,
   "id": "chicken-verification",
   "metadata": {},
   "outputs": [],
   "source": [
    "# sklearn.ensemble._hist_gradient_boosting.loss.CategoricalCrossEntropy.pointwise_loss\n",
    "try:\n",
    "    obj = class_constructor() # noqa F821\n",
    "    ret = obj.pointwise_loss()\n",
    "    type_sklearn_ensemble__hist_gradient_boosting_loss_CategoricalCrossEntropy_pointwise_loss = getattr(ret, '__module__', 'none') + '.' + ret.__class__.__name__\n",
    "    print('✅ sklearn.ensemble._hist_gradient_boosting.loss.CategoricalCrossEntropy.pointwise_loss: ', type(ret)) # noqa E501\n",
    "except Exception as e:\n",
    "    type_sklearn_ensemble__hist_gradient_boosting_loss_CategoricalCrossEntropy_pointwise_loss = '_syft_missing'\n",
    "    print('❌ sklearn.ensemble._hist_gradient_boosting.loss.CategoricalCrossEntropy.pointwise_loss: Return unavailable') # noqa E501\n",
    "    print(\"  Please fix this return type code until there is no exception\")\n",
    "    print('  Error:', e)\n"
   ]
  },
  {
   "cell_type": "code",
   "execution_count": null,
   "id": "enormous-quest",
   "metadata": {},
   "outputs": [],
   "source": [
    "# sklearn.ensemble._hist_gradient_boosting.loss.CategoricalCrossEntropy.predict_proba\n",
    "try:\n",
    "    obj = class_constructor() # noqa F821\n",
    "    ret = obj.predict_proba()\n",
    "    type_sklearn_ensemble__hist_gradient_boosting_loss_CategoricalCrossEntropy_predict_proba = getattr(ret, '__module__', 'none') + '.' + ret.__class__.__name__\n",
    "    print('✅ sklearn.ensemble._hist_gradient_boosting.loss.CategoricalCrossEntropy.predict_proba: ', type(ret)) # noqa E501\n",
    "except Exception as e:\n",
    "    type_sklearn_ensemble__hist_gradient_boosting_loss_CategoricalCrossEntropy_predict_proba = '_syft_missing'\n",
    "    print('❌ sklearn.ensemble._hist_gradient_boosting.loss.CategoricalCrossEntropy.predict_proba: Return unavailable') # noqa E501\n",
    "    print(\"  Please fix this return type code until there is no exception\")\n",
    "    print('  Error:', e)\n"
   ]
  },
  {
   "cell_type": "code",
   "execution_count": null,
   "id": "graphic-following",
   "metadata": {},
   "outputs": [],
   "source": [
    "# sklearn.ensemble._hist_gradient_boosting.loss.CategoricalCrossEntropy.update_gradients_and_hessians\n",
    "try:\n",
    "    obj = class_constructor() # noqa F821\n",
    "    ret = obj.update_gradients_and_hessians()\n",
    "    type_sklearn_ensemble__hist_gradient_boosting_loss_CategoricalCrossEntropy_update_gradients_and_hessians = getattr(ret, '__module__', 'none') + '.' + ret.__class__.__name__\n",
    "    print('✅ sklearn.ensemble._hist_gradient_boosting.loss.CategoricalCrossEntropy.update_gradients_and_hessians: ', type(ret)) # noqa E501\n",
    "except Exception as e:\n",
    "    type_sklearn_ensemble__hist_gradient_boosting_loss_CategoricalCrossEntropy_update_gradients_and_hessians = '_syft_missing'\n",
    "    print('❌ sklearn.ensemble._hist_gradient_boosting.loss.CategoricalCrossEntropy.update_gradients_and_hessians: Return unavailable') # noqa E501\n",
    "    print(\"  Please fix this return type code until there is no exception\")\n",
    "    print('  Error:', e)\n"
   ]
  }
 ],
 "metadata": {},
 "nbformat": 4,
 "nbformat_minor": 5
}
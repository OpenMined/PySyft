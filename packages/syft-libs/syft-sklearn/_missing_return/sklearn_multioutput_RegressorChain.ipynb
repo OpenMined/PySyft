{
 "cells": [
  {
   "cell_type": "markdown",
   "id": "extended-distinction",
   "metadata": {},
   "source": [
    "## sklearn.multioutput.RegressorChain"
   ]
  },
  {
   "cell_type": "code",
   "execution_count": null,
   "id": "pharmaceutical-steal",
   "metadata": {},
   "outputs": [],
   "source": [
    "import sklearn\n",
    "def class_constructor(*args, **kwargs):\n",
    "    obj = sklearn.multioutput.RegressorChain()\n",
    "    return obj\n"
   ]
  },
  {
   "cell_type": "code",
   "execution_count": null,
   "id": "rational-engagement",
   "metadata": {},
   "outputs": [],
   "source": [
    "# sklearn.multioutput.RegressorChain.__getstate__\n",
    "try:\n",
    "    obj = class_constructor() # noqa F821\n",
    "    ret = obj.__getstate__()\n",
    "    type_sklearn_multioutput_RegressorChain___getstate__ = getattr(ret, '__module__', 'none') + '.' + ret.__class__.__name__\n",
    "    print('✅ sklearn.multioutput.RegressorChain.__getstate__: ', type(ret)) # noqa E501\n",
    "except Exception as e:\n",
    "    type_sklearn_multioutput_RegressorChain___getstate__ = '_syft_missing'\n",
    "    print('❌ sklearn.multioutput.RegressorChain.__getstate__: Return unavailable') # noqa E501\n",
    "    print(\"  Please fix this return type code until there is no exception\")\n",
    "    print('  Error:', e)\n"
   ]
  },
  {
   "cell_type": "code",
   "execution_count": null,
   "id": "modern-completion",
   "metadata": {},
   "outputs": [],
   "source": [
    "# sklearn.multioutput.RegressorChain.__repr__\n",
    "try:\n",
    "    obj = class_constructor() # noqa F821\n",
    "    ret = obj.__repr__()\n",
    "    type_sklearn_multioutput_RegressorChain___repr__ = getattr(ret, '__module__', 'none') + '.' + ret.__class__.__name__\n",
    "    print('✅ sklearn.multioutput.RegressorChain.__repr__: ', type(ret)) # noqa E501\n",
    "except Exception as e:\n",
    "    type_sklearn_multioutput_RegressorChain___repr__ = '_syft_missing'\n",
    "    print('❌ sklearn.multioutput.RegressorChain.__repr__: Return unavailable') # noqa E501\n",
    "    print(\"  Please fix this return type code until there is no exception\")\n",
    "    print('  Error:', e)\n"
   ]
  },
  {
   "cell_type": "code",
   "execution_count": null,
   "id": "leading-prevention",
   "metadata": {},
   "outputs": [],
   "source": [
    "# sklearn.multioutput.RegressorChain.__setstate__\n",
    "try:\n",
    "    obj = class_constructor() # noqa F821\n",
    "    ret = obj.__setstate__()\n",
    "    type_sklearn_multioutput_RegressorChain___setstate__ = getattr(ret, '__module__', 'none') + '.' + ret.__class__.__name__\n",
    "    print('✅ sklearn.multioutput.RegressorChain.__setstate__: ', type(ret)) # noqa E501\n",
    "except Exception as e:\n",
    "    type_sklearn_multioutput_RegressorChain___setstate__ = '_syft_missing'\n",
    "    print('❌ sklearn.multioutput.RegressorChain.__setstate__: Return unavailable') # noqa E501\n",
    "    print(\"  Please fix this return type code until there is no exception\")\n",
    "    print('  Error:', e)\n"
   ]
  },
  {
   "cell_type": "code",
   "execution_count": null,
   "id": "blind-circumstances",
   "metadata": {},
   "outputs": [],
   "source": [
    "# sklearn.multioutput.RegressorChain._check_n_features\n",
    "try:\n",
    "    obj = class_constructor() # noqa F821\n",
    "    ret = obj._check_n_features()\n",
    "    type_sklearn_multioutput_RegressorChain__check_n_features = getattr(ret, '__module__', 'none') + '.' + ret.__class__.__name__\n",
    "    print('✅ sklearn.multioutput.RegressorChain._check_n_features: ', type(ret)) # noqa E501\n",
    "except Exception as e:\n",
    "    type_sklearn_multioutput_RegressorChain__check_n_features = '_syft_missing'\n",
    "    print('❌ sklearn.multioutput.RegressorChain._check_n_features: Return unavailable') # noqa E501\n",
    "    print(\"  Please fix this return type code until there is no exception\")\n",
    "    print('  Error:', e)\n"
   ]
  },
  {
   "cell_type": "code",
   "execution_count": null,
   "id": "removed-assault",
   "metadata": {},
   "outputs": [],
   "source": [
    "# sklearn.multioutput.RegressorChain._get_param_names\n",
    "try:\n",
    "    obj = class_constructor() # noqa F821\n",
    "    ret = obj._get_param_names()\n",
    "    type_sklearn_multioutput_RegressorChain__get_param_names = getattr(ret, '__module__', 'none') + '.' + ret.__class__.__name__\n",
    "    print('✅ sklearn.multioutput.RegressorChain._get_param_names: ', type(ret)) # noqa E501\n",
    "except Exception as e:\n",
    "    type_sklearn_multioutput_RegressorChain__get_param_names = '_syft_missing'\n",
    "    print('❌ sklearn.multioutput.RegressorChain._get_param_names: Return unavailable') # noqa E501\n",
    "    print(\"  Please fix this return type code until there is no exception\")\n",
    "    print('  Error:', e)\n"
   ]
  },
  {
   "cell_type": "code",
   "execution_count": null,
   "id": "liberal-idaho",
   "metadata": {},
   "outputs": [],
   "source": [
    "# sklearn.multioutput.RegressorChain._get_tags\n",
    "try:\n",
    "    obj = class_constructor() # noqa F821\n",
    "    ret = obj._get_tags()\n",
    "    type_sklearn_multioutput_RegressorChain__get_tags = getattr(ret, '__module__', 'none') + '.' + ret.__class__.__name__\n",
    "    print('✅ sklearn.multioutput.RegressorChain._get_tags: ', type(ret)) # noqa E501\n",
    "except Exception as e:\n",
    "    type_sklearn_multioutput_RegressorChain__get_tags = '_syft_missing'\n",
    "    print('❌ sklearn.multioutput.RegressorChain._get_tags: Return unavailable') # noqa E501\n",
    "    print(\"  Please fix this return type code until there is no exception\")\n",
    "    print('  Error:', e)\n"
   ]
  },
  {
   "cell_type": "code",
   "execution_count": null,
   "id": "multiple-carter",
   "metadata": {},
   "outputs": [],
   "source": [
    "# sklearn.multioutput.RegressorChain._more_tags\n",
    "try:\n",
    "    obj = class_constructor() # noqa F821\n",
    "    ret = obj._more_tags()\n",
    "    type_sklearn_multioutput_RegressorChain__more_tags = getattr(ret, '__module__', 'none') + '.' + ret.__class__.__name__\n",
    "    print('✅ sklearn.multioutput.RegressorChain._more_tags: ', type(ret)) # noqa E501\n",
    "except Exception as e:\n",
    "    type_sklearn_multioutput_RegressorChain__more_tags = '_syft_missing'\n",
    "    print('❌ sklearn.multioutput.RegressorChain._more_tags: Return unavailable') # noqa E501\n",
    "    print(\"  Please fix this return type code until there is no exception\")\n",
    "    print('  Error:', e)\n"
   ]
  },
  {
   "cell_type": "code",
   "execution_count": null,
   "id": "vertical-encounter",
   "metadata": {},
   "outputs": [],
   "source": [
    "# sklearn.multioutput.RegressorChain._repr_html_\n",
    "try:\n",
    "    obj = class_constructor()\n",
    "    ret = obj._repr_html_\n",
    "    type_sklearn_multioutput_RegressorChain__repr_html_ = getattr(ret, '__module__', 'none') + '.' + ret.__class__.__name__\n",
    "    print('✅ sklearn.multioutput.RegressorChain._repr_html_:', type(ret)) # noqa E501\n",
    "except Exception as e:\n",
    "    type_sklearn_multioutput_RegressorChain__repr_html_ = '_syft_missing'\n",
    "    print('❌ sklearn.multioutput.RegressorChain._repr_html_: Return unavailable') # noqa E501\n",
    "    print(\"  Please fix this return type code until there is no exception\")\n",
    "    print('  Error:', e)\n"
   ]
  },
  {
   "cell_type": "code",
   "execution_count": null,
   "id": "agreed-cleanup",
   "metadata": {},
   "outputs": [],
   "source": [
    "# sklearn.multioutput.RegressorChain._repr_html_inner\n",
    "try:\n",
    "    obj = class_constructor() # noqa F821\n",
    "    ret = obj._repr_html_inner()\n",
    "    type_sklearn_multioutput_RegressorChain__repr_html_inner = getattr(ret, '__module__', 'none') + '.' + ret.__class__.__name__\n",
    "    print('✅ sklearn.multioutput.RegressorChain._repr_html_inner: ', type(ret)) # noqa E501\n",
    "except Exception as e:\n",
    "    type_sklearn_multioutput_RegressorChain__repr_html_inner = '_syft_missing'\n",
    "    print('❌ sklearn.multioutput.RegressorChain._repr_html_inner: Return unavailable') # noqa E501\n",
    "    print(\"  Please fix this return type code until there is no exception\")\n",
    "    print('  Error:', e)\n"
   ]
  },
  {
   "cell_type": "code",
   "execution_count": null,
   "id": "senior-delta",
   "metadata": {},
   "outputs": [],
   "source": [
    "# sklearn.multioutput.RegressorChain._repr_mimebundle_\n",
    "try:\n",
    "    obj = class_constructor() # noqa F821\n",
    "    ret = obj._repr_mimebundle_()\n",
    "    type_sklearn_multioutput_RegressorChain__repr_mimebundle_ = getattr(ret, '__module__', 'none') + '.' + ret.__class__.__name__\n",
    "    print('✅ sklearn.multioutput.RegressorChain._repr_mimebundle_: ', type(ret)) # noqa E501\n",
    "except Exception as e:\n",
    "    type_sklearn_multioutput_RegressorChain__repr_mimebundle_ = '_syft_missing'\n",
    "    print('❌ sklearn.multioutput.RegressorChain._repr_mimebundle_: Return unavailable') # noqa E501\n",
    "    print(\"  Please fix this return type code until there is no exception\")\n",
    "    print('  Error:', e)\n"
   ]
  },
  {
   "cell_type": "code",
   "execution_count": null,
   "id": "infinite-premium",
   "metadata": {},
   "outputs": [],
   "source": [
    "# sklearn.multioutput.RegressorChain._validate_data\n",
    "try:\n",
    "    obj = class_constructor() # noqa F821\n",
    "    ret = obj._validate_data()\n",
    "    type_sklearn_multioutput_RegressorChain__validate_data = getattr(ret, '__module__', 'none') + '.' + ret.__class__.__name__\n",
    "    print('✅ sklearn.multioutput.RegressorChain._validate_data: ', type(ret)) # noqa E501\n",
    "except Exception as e:\n",
    "    type_sklearn_multioutput_RegressorChain__validate_data = '_syft_missing'\n",
    "    print('❌ sklearn.multioutput.RegressorChain._validate_data: Return unavailable') # noqa E501\n",
    "    print(\"  Please fix this return type code until there is no exception\")\n",
    "    print('  Error:', e)\n"
   ]
  },
  {
   "cell_type": "code",
   "execution_count": null,
   "id": "oriented-movie",
   "metadata": {},
   "outputs": [],
   "source": [
    "# sklearn.multioutput.RegressorChain.fit\n",
    "try:\n",
    "    obj = class_constructor() # noqa F821\n",
    "    ret = obj.fit()\n",
    "    type_sklearn_multioutput_RegressorChain_fit = getattr(ret, '__module__', 'none') + '.' + ret.__class__.__name__\n",
    "    print('✅ sklearn.multioutput.RegressorChain.fit: ', type(ret)) # noqa E501\n",
    "except Exception as e:\n",
    "    type_sklearn_multioutput_RegressorChain_fit = '_syft_missing'\n",
    "    print('❌ sklearn.multioutput.RegressorChain.fit: Return unavailable') # noqa E501\n",
    "    print(\"  Please fix this return type code until there is no exception\")\n",
    "    print('  Error:', e)\n"
   ]
  },
  {
   "cell_type": "code",
   "execution_count": null,
   "id": "coastal-translation",
   "metadata": {},
   "outputs": [],
   "source": [
    "# sklearn.multioutput.RegressorChain.get_params\n",
    "try:\n",
    "    obj = class_constructor() # noqa F821\n",
    "    ret = obj.get_params()\n",
    "    type_sklearn_multioutput_RegressorChain_get_params = getattr(ret, '__module__', 'none') + '.' + ret.__class__.__name__\n",
    "    print('✅ sklearn.multioutput.RegressorChain.get_params: ', type(ret)) # noqa E501\n",
    "except Exception as e:\n",
    "    type_sklearn_multioutput_RegressorChain_get_params = '_syft_missing'\n",
    "    print('❌ sklearn.multioutput.RegressorChain.get_params: Return unavailable') # noqa E501\n",
    "    print(\"  Please fix this return type code until there is no exception\")\n",
    "    print('  Error:', e)\n"
   ]
  },
  {
   "cell_type": "code",
   "execution_count": null,
   "id": "polyphonic-pressing",
   "metadata": {},
   "outputs": [],
   "source": [
    "# sklearn.multioutput.RegressorChain.predict\n",
    "try:\n",
    "    obj = class_constructor() # noqa F821\n",
    "    ret = obj.predict()\n",
    "    type_sklearn_multioutput_RegressorChain_predict = getattr(ret, '__module__', 'none') + '.' + ret.__class__.__name__\n",
    "    print('✅ sklearn.multioutput.RegressorChain.predict: ', type(ret)) # noqa E501\n",
    "except Exception as e:\n",
    "    type_sklearn_multioutput_RegressorChain_predict = '_syft_missing'\n",
    "    print('❌ sklearn.multioutput.RegressorChain.predict: Return unavailable') # noqa E501\n",
    "    print(\"  Please fix this return type code until there is no exception\")\n",
    "    print('  Error:', e)\n"
   ]
  },
  {
   "cell_type": "code",
   "execution_count": null,
   "id": "congressional-arrest",
   "metadata": {},
   "outputs": [],
   "source": [
    "# sklearn.multioutput.RegressorChain.score\n",
    "try:\n",
    "    obj = class_constructor() # noqa F821\n",
    "    ret = obj.score()\n",
    "    type_sklearn_multioutput_RegressorChain_score = getattr(ret, '__module__', 'none') + '.' + ret.__class__.__name__\n",
    "    print('✅ sklearn.multioutput.RegressorChain.score: ', type(ret)) # noqa E501\n",
    "except Exception as e:\n",
    "    type_sklearn_multioutput_RegressorChain_score = '_syft_missing'\n",
    "    print('❌ sklearn.multioutput.RegressorChain.score: Return unavailable') # noqa E501\n",
    "    print(\"  Please fix this return type code until there is no exception\")\n",
    "    print('  Error:', e)\n"
   ]
  },
  {
   "cell_type": "code",
   "execution_count": null,
   "id": "irish-budapest",
   "metadata": {},
   "outputs": [],
   "source": [
    "# sklearn.multioutput.RegressorChain.set_params\n",
    "try:\n",
    "    obj = class_constructor() # noqa F821\n",
    "    ret = obj.set_params()\n",
    "    type_sklearn_multioutput_RegressorChain_set_params = getattr(ret, '__module__', 'none') + '.' + ret.__class__.__name__\n",
    "    print('✅ sklearn.multioutput.RegressorChain.set_params: ', type(ret)) # noqa E501\n",
    "except Exception as e:\n",
    "    type_sklearn_multioutput_RegressorChain_set_params = '_syft_missing'\n",
    "    print('❌ sklearn.multioutput.RegressorChain.set_params: Return unavailable') # noqa E501\n",
    "    print(\"  Please fix this return type code until there is no exception\")\n",
    "    print('  Error:', e)\n"
   ]
  }
 ],
 "metadata": {},
 "nbformat": 4,
 "nbformat_minor": 5
}
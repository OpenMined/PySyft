{
 "cells": [
  {
   "cell_type": "markdown",
   "id": "apparent-advocate",
   "metadata": {},
   "source": [
    "## sklearn.model_selection._split._RepeatedSplits"
   ]
  },
  {
   "cell_type": "code",
   "execution_count": null,
   "id": "introductory-testimony",
   "metadata": {},
   "outputs": [],
   "source": [
    "import sklearn\n",
    "def class_constructor(*args, **kwargs):\n",
    "    obj = sklearn.model_selection._split._RepeatedSplits()\n",
    "    return obj\n"
   ]
  },
  {
   "cell_type": "code",
   "execution_count": null,
   "id": "declared-compilation",
   "metadata": {},
   "outputs": [],
   "source": [
    "# sklearn.model_selection._split._RepeatedSplits.__repr__\n",
    "try:\n",
    "    obj = class_constructor() # noqa F821\n",
    "    ret = obj.__repr__()\n",
    "    type_sklearn_model_selection__split__RepeatedSplits___repr__ = getattr(ret, '__module__', 'none') + '.' + ret.__class__.__name__\n",
    "    print('✅ sklearn.model_selection._split._RepeatedSplits.__repr__: ', type(ret)) # noqa E501\n",
    "except Exception as e:\n",
    "    type_sklearn_model_selection__split__RepeatedSplits___repr__ = '_syft_missing'\n",
    "    print('❌ sklearn.model_selection._split._RepeatedSplits.__repr__: Return unavailable') # noqa E501\n",
    "    print(\"  Please fix this return type code until there is no exception\")\n",
    "    print('  Error:', e)\n"
   ]
  },
  {
   "cell_type": "code",
   "execution_count": null,
   "id": "english-aurora",
   "metadata": {},
   "outputs": [],
   "source": [
    "# sklearn.model_selection._split._RepeatedSplits.get_n_splits\n",
    "try:\n",
    "    obj = class_constructor() # noqa F821\n",
    "    ret = obj.get_n_splits()\n",
    "    type_sklearn_model_selection__split__RepeatedSplits_get_n_splits = getattr(ret, '__module__', 'none') + '.' + ret.__class__.__name__\n",
    "    print('✅ sklearn.model_selection._split._RepeatedSplits.get_n_splits: ', type(ret)) # noqa E501\n",
    "except Exception as e:\n",
    "    type_sklearn_model_selection__split__RepeatedSplits_get_n_splits = '_syft_missing'\n",
    "    print('❌ sklearn.model_selection._split._RepeatedSplits.get_n_splits: Return unavailable') # noqa E501\n",
    "    print(\"  Please fix this return type code until there is no exception\")\n",
    "    print('  Error:', e)\n"
   ]
  },
  {
   "cell_type": "code",
   "execution_count": null,
   "id": "fatty-great",
   "metadata": {},
   "outputs": [],
   "source": [
    "# sklearn.model_selection._split._RepeatedSplits.split\n",
    "try:\n",
    "    obj = class_constructor() # noqa F821\n",
    "    ret = obj.split()\n",
    "    type_sklearn_model_selection__split__RepeatedSplits_split = getattr(ret, '__module__', 'none') + '.' + ret.__class__.__name__\n",
    "    print('✅ sklearn.model_selection._split._RepeatedSplits.split: ', type(ret)) # noqa E501\n",
    "except Exception as e:\n",
    "    type_sklearn_model_selection__split__RepeatedSplits_split = '_syft_missing'\n",
    "    print('❌ sklearn.model_selection._split._RepeatedSplits.split: Return unavailable') # noqa E501\n",
    "    print(\"  Please fix this return type code until there is no exception\")\n",
    "    print('  Error:', e)\n"
   ]
  }
 ],
 "metadata": {},
 "nbformat": 4,
 "nbformat_minor": 5
}
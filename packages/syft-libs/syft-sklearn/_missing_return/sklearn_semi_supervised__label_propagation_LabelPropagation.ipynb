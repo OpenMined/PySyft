{
 "cells": [
  {
   "cell_type": "markdown",
   "id": "buried-spencer",
   "metadata": {},
   "source": [
    "## sklearn.semi_supervised._label_propagation.LabelPropagation"
   ]
  },
  {
   "cell_type": "code",
   "execution_count": null,
   "id": "binary-palmer",
   "metadata": {},
   "outputs": [],
   "source": [
    "import sklearn\n",
    "def class_constructor(*args, **kwargs):\n",
    "    obj = sklearn.semi_supervised._label_propagation.LabelPropagation()\n",
    "    return obj\n"
   ]
  },
  {
   "cell_type": "code",
   "execution_count": null,
   "id": "mineral-release",
   "metadata": {},
   "outputs": [],
   "source": [
    "# sklearn.semi_supervised._label_propagation.LabelPropagation.__getstate__\n",
    "try:\n",
    "    obj = class_constructor() # noqa F821\n",
    "    ret = obj.__getstate__()\n",
    "    type_sklearn_semi_supervised__label_propagation_LabelPropagation___getstate__ = getattr(ret, '__module__', 'none') + '.' + ret.__class__.__name__\n",
    "    print('✅ sklearn.semi_supervised._label_propagation.LabelPropagation.__getstate__: ', type(ret)) # noqa E501\n",
    "except Exception as e:\n",
    "    type_sklearn_semi_supervised__label_propagation_LabelPropagation___getstate__ = '_syft_missing'\n",
    "    print('❌ sklearn.semi_supervised._label_propagation.LabelPropagation.__getstate__: Return unavailable') # noqa E501\n",
    "    print(\"  Please fix this return type code until there is no exception\")\n",
    "    print('  Error:', e)\n"
   ]
  },
  {
   "cell_type": "code",
   "execution_count": null,
   "id": "subjective-consumption",
   "metadata": {},
   "outputs": [],
   "source": [
    "# sklearn.semi_supervised._label_propagation.LabelPropagation.__repr__\n",
    "try:\n",
    "    obj = class_constructor() # noqa F821\n",
    "    ret = obj.__repr__()\n",
    "    type_sklearn_semi_supervised__label_propagation_LabelPropagation___repr__ = getattr(ret, '__module__', 'none') + '.' + ret.__class__.__name__\n",
    "    print('✅ sklearn.semi_supervised._label_propagation.LabelPropagation.__repr__: ', type(ret)) # noqa E501\n",
    "except Exception as e:\n",
    "    type_sklearn_semi_supervised__label_propagation_LabelPropagation___repr__ = '_syft_missing'\n",
    "    print('❌ sklearn.semi_supervised._label_propagation.LabelPropagation.__repr__: Return unavailable') # noqa E501\n",
    "    print(\"  Please fix this return type code until there is no exception\")\n",
    "    print('  Error:', e)\n"
   ]
  },
  {
   "cell_type": "code",
   "execution_count": null,
   "id": "integrated-norman",
   "metadata": {},
   "outputs": [],
   "source": [
    "# sklearn.semi_supervised._label_propagation.LabelPropagation.__setstate__\n",
    "try:\n",
    "    obj = class_constructor() # noqa F821\n",
    "    ret = obj.__setstate__()\n",
    "    type_sklearn_semi_supervised__label_propagation_LabelPropagation___setstate__ = getattr(ret, '__module__', 'none') + '.' + ret.__class__.__name__\n",
    "    print('✅ sklearn.semi_supervised._label_propagation.LabelPropagation.__setstate__: ', type(ret)) # noqa E501\n",
    "except Exception as e:\n",
    "    type_sklearn_semi_supervised__label_propagation_LabelPropagation___setstate__ = '_syft_missing'\n",
    "    print('❌ sklearn.semi_supervised._label_propagation.LabelPropagation.__setstate__: Return unavailable') # noqa E501\n",
    "    print(\"  Please fix this return type code until there is no exception\")\n",
    "    print('  Error:', e)\n"
   ]
  },
  {
   "cell_type": "code",
   "execution_count": null,
   "id": "national-grave",
   "metadata": {},
   "outputs": [],
   "source": [
    "# sklearn.semi_supervised._label_propagation.LabelPropagation._build_graph\n",
    "try:\n",
    "    obj = class_constructor() # noqa F821\n",
    "    ret = obj._build_graph()\n",
    "    type_sklearn_semi_supervised__label_propagation_LabelPropagation__build_graph = getattr(ret, '__module__', 'none') + '.' + ret.__class__.__name__\n",
    "    print('✅ sklearn.semi_supervised._label_propagation.LabelPropagation._build_graph: ', type(ret)) # noqa E501\n",
    "except Exception as e:\n",
    "    type_sklearn_semi_supervised__label_propagation_LabelPropagation__build_graph = '_syft_missing'\n",
    "    print('❌ sklearn.semi_supervised._label_propagation.LabelPropagation._build_graph: Return unavailable') # noqa E501\n",
    "    print(\"  Please fix this return type code until there is no exception\")\n",
    "    print('  Error:', e)\n"
   ]
  },
  {
   "cell_type": "code",
   "execution_count": null,
   "id": "divine-flooring",
   "metadata": {},
   "outputs": [],
   "source": [
    "# sklearn.semi_supervised._label_propagation.LabelPropagation._check_n_features\n",
    "try:\n",
    "    obj = class_constructor() # noqa F821\n",
    "    ret = obj._check_n_features()\n",
    "    type_sklearn_semi_supervised__label_propagation_LabelPropagation__check_n_features = getattr(ret, '__module__', 'none') + '.' + ret.__class__.__name__\n",
    "    print('✅ sklearn.semi_supervised._label_propagation.LabelPropagation._check_n_features: ', type(ret)) # noqa E501\n",
    "except Exception as e:\n",
    "    type_sklearn_semi_supervised__label_propagation_LabelPropagation__check_n_features = '_syft_missing'\n",
    "    print('❌ sklearn.semi_supervised._label_propagation.LabelPropagation._check_n_features: Return unavailable') # noqa E501\n",
    "    print(\"  Please fix this return type code until there is no exception\")\n",
    "    print('  Error:', e)\n"
   ]
  },
  {
   "cell_type": "code",
   "execution_count": null,
   "id": "random-violation",
   "metadata": {},
   "outputs": [],
   "source": [
    "# sklearn.semi_supervised._label_propagation.LabelPropagation._get_kernel\n",
    "try:\n",
    "    obj = class_constructor() # noqa F821\n",
    "    ret = obj._get_kernel()\n",
    "    type_sklearn_semi_supervised__label_propagation_LabelPropagation__get_kernel = getattr(ret, '__module__', 'none') + '.' + ret.__class__.__name__\n",
    "    print('✅ sklearn.semi_supervised._label_propagation.LabelPropagation._get_kernel: ', type(ret)) # noqa E501\n",
    "except Exception as e:\n",
    "    type_sklearn_semi_supervised__label_propagation_LabelPropagation__get_kernel = '_syft_missing'\n",
    "    print('❌ sklearn.semi_supervised._label_propagation.LabelPropagation._get_kernel: Return unavailable') # noqa E501\n",
    "    print(\"  Please fix this return type code until there is no exception\")\n",
    "    print('  Error:', e)\n"
   ]
  },
  {
   "cell_type": "code",
   "execution_count": null,
   "id": "unnecessary-baltimore",
   "metadata": {},
   "outputs": [],
   "source": [
    "# sklearn.semi_supervised._label_propagation.LabelPropagation._get_param_names\n",
    "try:\n",
    "    obj = class_constructor() # noqa F821\n",
    "    ret = obj._get_param_names()\n",
    "    type_sklearn_semi_supervised__label_propagation_LabelPropagation__get_param_names = getattr(ret, '__module__', 'none') + '.' + ret.__class__.__name__\n",
    "    print('✅ sklearn.semi_supervised._label_propagation.LabelPropagation._get_param_names: ', type(ret)) # noqa E501\n",
    "except Exception as e:\n",
    "    type_sklearn_semi_supervised__label_propagation_LabelPropagation__get_param_names = '_syft_missing'\n",
    "    print('❌ sklearn.semi_supervised._label_propagation.LabelPropagation._get_param_names: Return unavailable') # noqa E501\n",
    "    print(\"  Please fix this return type code until there is no exception\")\n",
    "    print('  Error:', e)\n"
   ]
  },
  {
   "cell_type": "code",
   "execution_count": null,
   "id": "parliamentary-holmes",
   "metadata": {},
   "outputs": [],
   "source": [
    "# sklearn.semi_supervised._label_propagation.LabelPropagation._get_tags\n",
    "try:\n",
    "    obj = class_constructor() # noqa F821\n",
    "    ret = obj._get_tags()\n",
    "    type_sklearn_semi_supervised__label_propagation_LabelPropagation__get_tags = getattr(ret, '__module__', 'none') + '.' + ret.__class__.__name__\n",
    "    print('✅ sklearn.semi_supervised._label_propagation.LabelPropagation._get_tags: ', type(ret)) # noqa E501\n",
    "except Exception as e:\n",
    "    type_sklearn_semi_supervised__label_propagation_LabelPropagation__get_tags = '_syft_missing'\n",
    "    print('❌ sklearn.semi_supervised._label_propagation.LabelPropagation._get_tags: Return unavailable') # noqa E501\n",
    "    print(\"  Please fix this return type code until there is no exception\")\n",
    "    print('  Error:', e)\n"
   ]
  },
  {
   "cell_type": "code",
   "execution_count": null,
   "id": "molecular-angle",
   "metadata": {},
   "outputs": [],
   "source": [
    "# sklearn.semi_supervised._label_propagation.LabelPropagation._more_tags\n",
    "try:\n",
    "    obj = class_constructor() # noqa F821\n",
    "    ret = obj._more_tags()\n",
    "    type_sklearn_semi_supervised__label_propagation_LabelPropagation__more_tags = getattr(ret, '__module__', 'none') + '.' + ret.__class__.__name__\n",
    "    print('✅ sklearn.semi_supervised._label_propagation.LabelPropagation._more_tags: ', type(ret)) # noqa E501\n",
    "except Exception as e:\n",
    "    type_sklearn_semi_supervised__label_propagation_LabelPropagation__more_tags = '_syft_missing'\n",
    "    print('❌ sklearn.semi_supervised._label_propagation.LabelPropagation._more_tags: Return unavailable') # noqa E501\n",
    "    print(\"  Please fix this return type code until there is no exception\")\n",
    "    print('  Error:', e)\n"
   ]
  },
  {
   "cell_type": "code",
   "execution_count": null,
   "id": "chicken-apparatus",
   "metadata": {},
   "outputs": [],
   "source": [
    "# sklearn.semi_supervised._label_propagation.LabelPropagation._repr_html_\n",
    "try:\n",
    "    obj = class_constructor()\n",
    "    ret = obj._repr_html_\n",
    "    type_sklearn_semi_supervised__label_propagation_LabelPropagation__repr_html_ = getattr(ret, '__module__', 'none') + '.' + ret.__class__.__name__\n",
    "    print('✅ sklearn.semi_supervised._label_propagation.LabelPropagation._repr_html_:', type(ret)) # noqa E501\n",
    "except Exception as e:\n",
    "    type_sklearn_semi_supervised__label_propagation_LabelPropagation__repr_html_ = '_syft_missing'\n",
    "    print('❌ sklearn.semi_supervised._label_propagation.LabelPropagation._repr_html_: Return unavailable') # noqa E501\n",
    "    print(\"  Please fix this return type code until there is no exception\")\n",
    "    print('  Error:', e)\n"
   ]
  },
  {
   "cell_type": "code",
   "execution_count": null,
   "id": "imperial-hobby",
   "metadata": {},
   "outputs": [],
   "source": [
    "# sklearn.semi_supervised._label_propagation.LabelPropagation._repr_html_inner\n",
    "try:\n",
    "    obj = class_constructor() # noqa F821\n",
    "    ret = obj._repr_html_inner()\n",
    "    type_sklearn_semi_supervised__label_propagation_LabelPropagation__repr_html_inner = getattr(ret, '__module__', 'none') + '.' + ret.__class__.__name__\n",
    "    print('✅ sklearn.semi_supervised._label_propagation.LabelPropagation._repr_html_inner: ', type(ret)) # noqa E501\n",
    "except Exception as e:\n",
    "    type_sklearn_semi_supervised__label_propagation_LabelPropagation__repr_html_inner = '_syft_missing'\n",
    "    print('❌ sklearn.semi_supervised._label_propagation.LabelPropagation._repr_html_inner: Return unavailable') # noqa E501\n",
    "    print(\"  Please fix this return type code until there is no exception\")\n",
    "    print('  Error:', e)\n"
   ]
  },
  {
   "cell_type": "code",
   "execution_count": null,
   "id": "material-budget",
   "metadata": {},
   "outputs": [],
   "source": [
    "# sklearn.semi_supervised._label_propagation.LabelPropagation._repr_mimebundle_\n",
    "try:\n",
    "    obj = class_constructor() # noqa F821\n",
    "    ret = obj._repr_mimebundle_()\n",
    "    type_sklearn_semi_supervised__label_propagation_LabelPropagation__repr_mimebundle_ = getattr(ret, '__module__', 'none') + '.' + ret.__class__.__name__\n",
    "    print('✅ sklearn.semi_supervised._label_propagation.LabelPropagation._repr_mimebundle_: ', type(ret)) # noqa E501\n",
    "except Exception as e:\n",
    "    type_sklearn_semi_supervised__label_propagation_LabelPropagation__repr_mimebundle_ = '_syft_missing'\n",
    "    print('❌ sklearn.semi_supervised._label_propagation.LabelPropagation._repr_mimebundle_: Return unavailable') # noqa E501\n",
    "    print(\"  Please fix this return type code until there is no exception\")\n",
    "    print('  Error:', e)\n"
   ]
  },
  {
   "cell_type": "code",
   "execution_count": null,
   "id": "fuzzy-cologne",
   "metadata": {},
   "outputs": [],
   "source": [
    "# sklearn.semi_supervised._label_propagation.LabelPropagation._validate_data\n",
    "try:\n",
    "    obj = class_constructor() # noqa F821\n",
    "    ret = obj._validate_data()\n",
    "    type_sklearn_semi_supervised__label_propagation_LabelPropagation__validate_data = getattr(ret, '__module__', 'none') + '.' + ret.__class__.__name__\n",
    "    print('✅ sklearn.semi_supervised._label_propagation.LabelPropagation._validate_data: ', type(ret)) # noqa E501\n",
    "except Exception as e:\n",
    "    type_sklearn_semi_supervised__label_propagation_LabelPropagation__validate_data = '_syft_missing'\n",
    "    print('❌ sklearn.semi_supervised._label_propagation.LabelPropagation._validate_data: Return unavailable') # noqa E501\n",
    "    print(\"  Please fix this return type code until there is no exception\")\n",
    "    print('  Error:', e)\n"
   ]
  },
  {
   "cell_type": "code",
   "execution_count": null,
   "id": "driving-integration",
   "metadata": {},
   "outputs": [],
   "source": [
    "# sklearn.semi_supervised._label_propagation.LabelPropagation.fit\n",
    "try:\n",
    "    obj = class_constructor() # noqa F821\n",
    "    ret = obj.fit()\n",
    "    type_sklearn_semi_supervised__label_propagation_LabelPropagation_fit = getattr(ret, '__module__', 'none') + '.' + ret.__class__.__name__\n",
    "    print('✅ sklearn.semi_supervised._label_propagation.LabelPropagation.fit: ', type(ret)) # noqa E501\n",
    "except Exception as e:\n",
    "    type_sklearn_semi_supervised__label_propagation_LabelPropagation_fit = '_syft_missing'\n",
    "    print('❌ sklearn.semi_supervised._label_propagation.LabelPropagation.fit: Return unavailable') # noqa E501\n",
    "    print(\"  Please fix this return type code until there is no exception\")\n",
    "    print('  Error:', e)\n"
   ]
  },
  {
   "cell_type": "code",
   "execution_count": null,
   "id": "every-simpson",
   "metadata": {},
   "outputs": [],
   "source": [
    "# sklearn.semi_supervised._label_propagation.LabelPropagation.get_params\n",
    "try:\n",
    "    obj = class_constructor() # noqa F821\n",
    "    ret = obj.get_params()\n",
    "    type_sklearn_semi_supervised__label_propagation_LabelPropagation_get_params = getattr(ret, '__module__', 'none') + '.' + ret.__class__.__name__\n",
    "    print('✅ sklearn.semi_supervised._label_propagation.LabelPropagation.get_params: ', type(ret)) # noqa E501\n",
    "except Exception as e:\n",
    "    type_sklearn_semi_supervised__label_propagation_LabelPropagation_get_params = '_syft_missing'\n",
    "    print('❌ sklearn.semi_supervised._label_propagation.LabelPropagation.get_params: Return unavailable') # noqa E501\n",
    "    print(\"  Please fix this return type code until there is no exception\")\n",
    "    print('  Error:', e)\n"
   ]
  },
  {
   "cell_type": "code",
   "execution_count": null,
   "id": "experienced-psychology",
   "metadata": {},
   "outputs": [],
   "source": [
    "# sklearn.semi_supervised._label_propagation.LabelPropagation.predict\n",
    "try:\n",
    "    obj = class_constructor() # noqa F821\n",
    "    ret = obj.predict()\n",
    "    type_sklearn_semi_supervised__label_propagation_LabelPropagation_predict = getattr(ret, '__module__', 'none') + '.' + ret.__class__.__name__\n",
    "    print('✅ sklearn.semi_supervised._label_propagation.LabelPropagation.predict: ', type(ret)) # noqa E501\n",
    "except Exception as e:\n",
    "    type_sklearn_semi_supervised__label_propagation_LabelPropagation_predict = '_syft_missing'\n",
    "    print('❌ sklearn.semi_supervised._label_propagation.LabelPropagation.predict: Return unavailable') # noqa E501\n",
    "    print(\"  Please fix this return type code until there is no exception\")\n",
    "    print('  Error:', e)\n"
   ]
  },
  {
   "cell_type": "code",
   "execution_count": null,
   "id": "institutional-sacramento",
   "metadata": {},
   "outputs": [],
   "source": [
    "# sklearn.semi_supervised._label_propagation.LabelPropagation.predict_proba\n",
    "try:\n",
    "    obj = class_constructor() # noqa F821\n",
    "    ret = obj.predict_proba()\n",
    "    type_sklearn_semi_supervised__label_propagation_LabelPropagation_predict_proba = getattr(ret, '__module__', 'none') + '.' + ret.__class__.__name__\n",
    "    print('✅ sklearn.semi_supervised._label_propagation.LabelPropagation.predict_proba: ', type(ret)) # noqa E501\n",
    "except Exception as e:\n",
    "    type_sklearn_semi_supervised__label_propagation_LabelPropagation_predict_proba = '_syft_missing'\n",
    "    print('❌ sklearn.semi_supervised._label_propagation.LabelPropagation.predict_proba: Return unavailable') # noqa E501\n",
    "    print(\"  Please fix this return type code until there is no exception\")\n",
    "    print('  Error:', e)\n"
   ]
  },
  {
   "cell_type": "code",
   "execution_count": null,
   "id": "material-boutique",
   "metadata": {},
   "outputs": [],
   "source": [
    "# sklearn.semi_supervised._label_propagation.LabelPropagation.score\n",
    "try:\n",
    "    obj = class_constructor() # noqa F821\n",
    "    ret = obj.score()\n",
    "    type_sklearn_semi_supervised__label_propagation_LabelPropagation_score = getattr(ret, '__module__', 'none') + '.' + ret.__class__.__name__\n",
    "    print('✅ sklearn.semi_supervised._label_propagation.LabelPropagation.score: ', type(ret)) # noqa E501\n",
    "except Exception as e:\n",
    "    type_sklearn_semi_supervised__label_propagation_LabelPropagation_score = '_syft_missing'\n",
    "    print('❌ sklearn.semi_supervised._label_propagation.LabelPropagation.score: Return unavailable') # noqa E501\n",
    "    print(\"  Please fix this return type code until there is no exception\")\n",
    "    print('  Error:', e)\n"
   ]
  },
  {
   "cell_type": "code",
   "execution_count": null,
   "id": "private-stewart",
   "metadata": {},
   "outputs": [],
   "source": [
    "# sklearn.semi_supervised._label_propagation.LabelPropagation.set_params\n",
    "try:\n",
    "    obj = class_constructor() # noqa F821\n",
    "    ret = obj.set_params()\n",
    "    type_sklearn_semi_supervised__label_propagation_LabelPropagation_set_params = getattr(ret, '__module__', 'none') + '.' + ret.__class__.__name__\n",
    "    print('✅ sklearn.semi_supervised._label_propagation.LabelPropagation.set_params: ', type(ret)) # noqa E501\n",
    "except Exception as e:\n",
    "    type_sklearn_semi_supervised__label_propagation_LabelPropagation_set_params = '_syft_missing'\n",
    "    print('❌ sklearn.semi_supervised._label_propagation.LabelPropagation.set_params: Return unavailable') # noqa E501\n",
    "    print(\"  Please fix this return type code until there is no exception\")\n",
    "    print('  Error:', e)\n"
   ]
  }
 ],
 "metadata": {},
 "nbformat": 4,
 "nbformat_minor": 5
}
{
 "cells": [
  {
   "cell_type": "markdown",
   "id": "composite-railway",
   "metadata": {},
   "source": [
    "## sklearn.gaussian_process.kernels.NormalizedKernelMixin"
   ]
  },
  {
   "cell_type": "code",
   "execution_count": null,
   "id": "entertaining-laugh",
   "metadata": {},
   "outputs": [],
   "source": [
    "import sklearn\n",
    "def class_constructor(*args, **kwargs):\n",
    "    obj = sklearn.gaussian_process.kernels.NormalizedKernelMixin()\n",
    "    return obj\n"
   ]
  },
  {
   "cell_type": "code",
   "execution_count": null,
   "id": "downtown-recorder",
   "metadata": {},
   "outputs": [],
   "source": [
    "# sklearn.gaussian_process.kernels.NormalizedKernelMixin.diag\n",
    "try:\n",
    "    obj = class_constructor() # noqa F821\n",
    "    ret = obj.diag()\n",
    "    type_sklearn_gaussian_process_kernels_NormalizedKernelMixin_diag = getattr(ret, '__module__', 'none') + '.' + ret.__class__.__name__\n",
    "    print('✅ sklearn.gaussian_process.kernels.NormalizedKernelMixin.diag: ', type(ret)) # noqa E501\n",
    "except Exception as e:\n",
    "    type_sklearn_gaussian_process_kernels_NormalizedKernelMixin_diag = '_syft_missing'\n",
    "    print('❌ sklearn.gaussian_process.kernels.NormalizedKernelMixin.diag: Return unavailable') # noqa E501\n",
    "    print(\"  Please fix this return type code until there is no exception\")\n",
    "    print('  Error:', e)\n"
   ]
  }
 ],
 "metadata": {},
 "nbformat": 4,
 "nbformat_minor": 5
}
{
 "cells": [
  {
   "cell_type": "markdown",
   "id": "hairy-restriction",
   "metadata": {},
   "source": [
    "## sklearn.kernel_approximation.PolynomialCountSketch"
   ]
  },
  {
   "cell_type": "code",
   "execution_count": null,
   "id": "senior-condition",
   "metadata": {},
   "outputs": [],
   "source": [
    "import sklearn\n",
    "def class_constructor(*args, **kwargs):\n",
    "    obj = sklearn.kernel_approximation.PolynomialCountSketch()\n",
    "    return obj\n"
   ]
  },
  {
   "cell_type": "code",
   "execution_count": null,
   "id": "sunrise-separate",
   "metadata": {},
   "outputs": [],
   "source": [
    "# sklearn.kernel_approximation.PolynomialCountSketch.__getstate__\n",
    "try:\n",
    "    obj = class_constructor() # noqa F821\n",
    "    ret = obj.__getstate__()\n",
    "    type_sklearn_kernel_approximation_PolynomialCountSketch___getstate__ = getattr(ret, '__module__', 'none') + '.' + ret.__class__.__name__\n",
    "    print('✅ sklearn.kernel_approximation.PolynomialCountSketch.__getstate__: ', type(ret)) # noqa E501\n",
    "except Exception as e:\n",
    "    type_sklearn_kernel_approximation_PolynomialCountSketch___getstate__ = '_syft_missing'\n",
    "    print('❌ sklearn.kernel_approximation.PolynomialCountSketch.__getstate__: Return unavailable') # noqa E501\n",
    "    print(\"  Please fix this return type code until there is no exception\")\n",
    "    print('  Error:', e)\n"
   ]
  },
  {
   "cell_type": "code",
   "execution_count": null,
   "id": "coral-yemen",
   "metadata": {},
   "outputs": [],
   "source": [
    "# sklearn.kernel_approximation.PolynomialCountSketch.__repr__\n",
    "try:\n",
    "    obj = class_constructor() # noqa F821\n",
    "    ret = obj.__repr__()\n",
    "    type_sklearn_kernel_approximation_PolynomialCountSketch___repr__ = getattr(ret, '__module__', 'none') + '.' + ret.__class__.__name__\n",
    "    print('✅ sklearn.kernel_approximation.PolynomialCountSketch.__repr__: ', type(ret)) # noqa E501\n",
    "except Exception as e:\n",
    "    type_sklearn_kernel_approximation_PolynomialCountSketch___repr__ = '_syft_missing'\n",
    "    print('❌ sklearn.kernel_approximation.PolynomialCountSketch.__repr__: Return unavailable') # noqa E501\n",
    "    print(\"  Please fix this return type code until there is no exception\")\n",
    "    print('  Error:', e)\n"
   ]
  },
  {
   "cell_type": "code",
   "execution_count": null,
   "id": "attractive-arrival",
   "metadata": {},
   "outputs": [],
   "source": [
    "# sklearn.kernel_approximation.PolynomialCountSketch.__setstate__\n",
    "try:\n",
    "    obj = class_constructor() # noqa F821\n",
    "    ret = obj.__setstate__()\n",
    "    type_sklearn_kernel_approximation_PolynomialCountSketch___setstate__ = getattr(ret, '__module__', 'none') + '.' + ret.__class__.__name__\n",
    "    print('✅ sklearn.kernel_approximation.PolynomialCountSketch.__setstate__: ', type(ret)) # noqa E501\n",
    "except Exception as e:\n",
    "    type_sklearn_kernel_approximation_PolynomialCountSketch___setstate__ = '_syft_missing'\n",
    "    print('❌ sklearn.kernel_approximation.PolynomialCountSketch.__setstate__: Return unavailable') # noqa E501\n",
    "    print(\"  Please fix this return type code until there is no exception\")\n",
    "    print('  Error:', e)\n"
   ]
  },
  {
   "cell_type": "code",
   "execution_count": null,
   "id": "marine-leonard",
   "metadata": {},
   "outputs": [],
   "source": [
    "# sklearn.kernel_approximation.PolynomialCountSketch._check_n_features\n",
    "try:\n",
    "    obj = class_constructor() # noqa F821\n",
    "    ret = obj._check_n_features()\n",
    "    type_sklearn_kernel_approximation_PolynomialCountSketch__check_n_features = getattr(ret, '__module__', 'none') + '.' + ret.__class__.__name__\n",
    "    print('✅ sklearn.kernel_approximation.PolynomialCountSketch._check_n_features: ', type(ret)) # noqa E501\n",
    "except Exception as e:\n",
    "    type_sklearn_kernel_approximation_PolynomialCountSketch__check_n_features = '_syft_missing'\n",
    "    print('❌ sklearn.kernel_approximation.PolynomialCountSketch._check_n_features: Return unavailable') # noqa E501\n",
    "    print(\"  Please fix this return type code until there is no exception\")\n",
    "    print('  Error:', e)\n"
   ]
  },
  {
   "cell_type": "code",
   "execution_count": null,
   "id": "intermediate-tissue",
   "metadata": {},
   "outputs": [],
   "source": [
    "# sklearn.kernel_approximation.PolynomialCountSketch._get_param_names\n",
    "try:\n",
    "    obj = class_constructor() # noqa F821\n",
    "    ret = obj._get_param_names()\n",
    "    type_sklearn_kernel_approximation_PolynomialCountSketch__get_param_names = getattr(ret, '__module__', 'none') + '.' + ret.__class__.__name__\n",
    "    print('✅ sklearn.kernel_approximation.PolynomialCountSketch._get_param_names: ', type(ret)) # noqa E501\n",
    "except Exception as e:\n",
    "    type_sklearn_kernel_approximation_PolynomialCountSketch__get_param_names = '_syft_missing'\n",
    "    print('❌ sklearn.kernel_approximation.PolynomialCountSketch._get_param_names: Return unavailable') # noqa E501\n",
    "    print(\"  Please fix this return type code until there is no exception\")\n",
    "    print('  Error:', e)\n"
   ]
  },
  {
   "cell_type": "code",
   "execution_count": null,
   "id": "bulgarian-washington",
   "metadata": {},
   "outputs": [],
   "source": [
    "# sklearn.kernel_approximation.PolynomialCountSketch._get_tags\n",
    "try:\n",
    "    obj = class_constructor() # noqa F821\n",
    "    ret = obj._get_tags()\n",
    "    type_sklearn_kernel_approximation_PolynomialCountSketch__get_tags = getattr(ret, '__module__', 'none') + '.' + ret.__class__.__name__\n",
    "    print('✅ sklearn.kernel_approximation.PolynomialCountSketch._get_tags: ', type(ret)) # noqa E501\n",
    "except Exception as e:\n",
    "    type_sklearn_kernel_approximation_PolynomialCountSketch__get_tags = '_syft_missing'\n",
    "    print('❌ sklearn.kernel_approximation.PolynomialCountSketch._get_tags: Return unavailable') # noqa E501\n",
    "    print(\"  Please fix this return type code until there is no exception\")\n",
    "    print('  Error:', e)\n"
   ]
  },
  {
   "cell_type": "code",
   "execution_count": null,
   "id": "lined-platform",
   "metadata": {},
   "outputs": [],
   "source": [
    "# sklearn.kernel_approximation.PolynomialCountSketch._more_tags\n",
    "try:\n",
    "    obj = class_constructor() # noqa F821\n",
    "    ret = obj._more_tags()\n",
    "    type_sklearn_kernel_approximation_PolynomialCountSketch__more_tags = getattr(ret, '__module__', 'none') + '.' + ret.__class__.__name__\n",
    "    print('✅ sklearn.kernel_approximation.PolynomialCountSketch._more_tags: ', type(ret)) # noqa E501\n",
    "except Exception as e:\n",
    "    type_sklearn_kernel_approximation_PolynomialCountSketch__more_tags = '_syft_missing'\n",
    "    print('❌ sklearn.kernel_approximation.PolynomialCountSketch._more_tags: Return unavailable') # noqa E501\n",
    "    print(\"  Please fix this return type code until there is no exception\")\n",
    "    print('  Error:', e)\n"
   ]
  },
  {
   "cell_type": "code",
   "execution_count": null,
   "id": "entitled-tampa",
   "metadata": {},
   "outputs": [],
   "source": [
    "# sklearn.kernel_approximation.PolynomialCountSketch._repr_html_\n",
    "try:\n",
    "    obj = class_constructor()\n",
    "    ret = obj._repr_html_\n",
    "    type_sklearn_kernel_approximation_PolynomialCountSketch__repr_html_ = getattr(ret, '__module__', 'none') + '.' + ret.__class__.__name__\n",
    "    print('✅ sklearn.kernel_approximation.PolynomialCountSketch._repr_html_:', type(ret)) # noqa E501\n",
    "except Exception as e:\n",
    "    type_sklearn_kernel_approximation_PolynomialCountSketch__repr_html_ = '_syft_missing'\n",
    "    print('❌ sklearn.kernel_approximation.PolynomialCountSketch._repr_html_: Return unavailable') # noqa E501\n",
    "    print(\"  Please fix this return type code until there is no exception\")\n",
    "    print('  Error:', e)\n"
   ]
  },
  {
   "cell_type": "code",
   "execution_count": null,
   "id": "protective-salon",
   "metadata": {},
   "outputs": [],
   "source": [
    "# sklearn.kernel_approximation.PolynomialCountSketch._repr_html_inner\n",
    "try:\n",
    "    obj = class_constructor() # noqa F821\n",
    "    ret = obj._repr_html_inner()\n",
    "    type_sklearn_kernel_approximation_PolynomialCountSketch__repr_html_inner = getattr(ret, '__module__', 'none') + '.' + ret.__class__.__name__\n",
    "    print('✅ sklearn.kernel_approximation.PolynomialCountSketch._repr_html_inner: ', type(ret)) # noqa E501\n",
    "except Exception as e:\n",
    "    type_sklearn_kernel_approximation_PolynomialCountSketch__repr_html_inner = '_syft_missing'\n",
    "    print('❌ sklearn.kernel_approximation.PolynomialCountSketch._repr_html_inner: Return unavailable') # noqa E501\n",
    "    print(\"  Please fix this return type code until there is no exception\")\n",
    "    print('  Error:', e)\n"
   ]
  },
  {
   "cell_type": "code",
   "execution_count": null,
   "id": "complex-madonna",
   "metadata": {},
   "outputs": [],
   "source": [
    "# sklearn.kernel_approximation.PolynomialCountSketch._repr_mimebundle_\n",
    "try:\n",
    "    obj = class_constructor() # noqa F821\n",
    "    ret = obj._repr_mimebundle_()\n",
    "    type_sklearn_kernel_approximation_PolynomialCountSketch__repr_mimebundle_ = getattr(ret, '__module__', 'none') + '.' + ret.__class__.__name__\n",
    "    print('✅ sklearn.kernel_approximation.PolynomialCountSketch._repr_mimebundle_: ', type(ret)) # noqa E501\n",
    "except Exception as e:\n",
    "    type_sklearn_kernel_approximation_PolynomialCountSketch__repr_mimebundle_ = '_syft_missing'\n",
    "    print('❌ sklearn.kernel_approximation.PolynomialCountSketch._repr_mimebundle_: Return unavailable') # noqa E501\n",
    "    print(\"  Please fix this return type code until there is no exception\")\n",
    "    print('  Error:', e)\n"
   ]
  },
  {
   "cell_type": "code",
   "execution_count": null,
   "id": "immune-wayne",
   "metadata": {},
   "outputs": [],
   "source": [
    "# sklearn.kernel_approximation.PolynomialCountSketch._validate_data\n",
    "try:\n",
    "    obj = class_constructor() # noqa F821\n",
    "    ret = obj._validate_data()\n",
    "    type_sklearn_kernel_approximation_PolynomialCountSketch__validate_data = getattr(ret, '__module__', 'none') + '.' + ret.__class__.__name__\n",
    "    print('✅ sklearn.kernel_approximation.PolynomialCountSketch._validate_data: ', type(ret)) # noqa E501\n",
    "except Exception as e:\n",
    "    type_sklearn_kernel_approximation_PolynomialCountSketch__validate_data = '_syft_missing'\n",
    "    print('❌ sklearn.kernel_approximation.PolynomialCountSketch._validate_data: Return unavailable') # noqa E501\n",
    "    print(\"  Please fix this return type code until there is no exception\")\n",
    "    print('  Error:', e)\n"
   ]
  },
  {
   "cell_type": "code",
   "execution_count": null,
   "id": "falling-button",
   "metadata": {},
   "outputs": [],
   "source": [
    "# sklearn.kernel_approximation.PolynomialCountSketch.fit\n",
    "try:\n",
    "    obj = class_constructor() # noqa F821\n",
    "    ret = obj.fit()\n",
    "    type_sklearn_kernel_approximation_PolynomialCountSketch_fit = getattr(ret, '__module__', 'none') + '.' + ret.__class__.__name__\n",
    "    print('✅ sklearn.kernel_approximation.PolynomialCountSketch.fit: ', type(ret)) # noqa E501\n",
    "except Exception as e:\n",
    "    type_sklearn_kernel_approximation_PolynomialCountSketch_fit = '_syft_missing'\n",
    "    print('❌ sklearn.kernel_approximation.PolynomialCountSketch.fit: Return unavailable') # noqa E501\n",
    "    print(\"  Please fix this return type code until there is no exception\")\n",
    "    print('  Error:', e)\n"
   ]
  },
  {
   "cell_type": "code",
   "execution_count": null,
   "id": "honest-charger",
   "metadata": {},
   "outputs": [],
   "source": [
    "# sklearn.kernel_approximation.PolynomialCountSketch.fit_transform\n",
    "try:\n",
    "    obj = class_constructor() # noqa F821\n",
    "    ret = obj.fit_transform()\n",
    "    type_sklearn_kernel_approximation_PolynomialCountSketch_fit_transform = getattr(ret, '__module__', 'none') + '.' + ret.__class__.__name__\n",
    "    print('✅ sklearn.kernel_approximation.PolynomialCountSketch.fit_transform: ', type(ret)) # noqa E501\n",
    "except Exception as e:\n",
    "    type_sklearn_kernel_approximation_PolynomialCountSketch_fit_transform = '_syft_missing'\n",
    "    print('❌ sklearn.kernel_approximation.PolynomialCountSketch.fit_transform: Return unavailable') # noqa E501\n",
    "    print(\"  Please fix this return type code until there is no exception\")\n",
    "    print('  Error:', e)\n"
   ]
  },
  {
   "cell_type": "code",
   "execution_count": null,
   "id": "impressive-theta",
   "metadata": {},
   "outputs": [],
   "source": [
    "# sklearn.kernel_approximation.PolynomialCountSketch.get_params\n",
    "try:\n",
    "    obj = class_constructor() # noqa F821\n",
    "    ret = obj.get_params()\n",
    "    type_sklearn_kernel_approximation_PolynomialCountSketch_get_params = getattr(ret, '__module__', 'none') + '.' + ret.__class__.__name__\n",
    "    print('✅ sklearn.kernel_approximation.PolynomialCountSketch.get_params: ', type(ret)) # noqa E501\n",
    "except Exception as e:\n",
    "    type_sklearn_kernel_approximation_PolynomialCountSketch_get_params = '_syft_missing'\n",
    "    print('❌ sklearn.kernel_approximation.PolynomialCountSketch.get_params: Return unavailable') # noqa E501\n",
    "    print(\"  Please fix this return type code until there is no exception\")\n",
    "    print('  Error:', e)\n"
   ]
  },
  {
   "cell_type": "code",
   "execution_count": null,
   "id": "racial-certificate",
   "metadata": {},
   "outputs": [],
   "source": [
    "# sklearn.kernel_approximation.PolynomialCountSketch.set_params\n",
    "try:\n",
    "    obj = class_constructor() # noqa F821\n",
    "    ret = obj.set_params()\n",
    "    type_sklearn_kernel_approximation_PolynomialCountSketch_set_params = getattr(ret, '__module__', 'none') + '.' + ret.__class__.__name__\n",
    "    print('✅ sklearn.kernel_approximation.PolynomialCountSketch.set_params: ', type(ret)) # noqa E501\n",
    "except Exception as e:\n",
    "    type_sklearn_kernel_approximation_PolynomialCountSketch_set_params = '_syft_missing'\n",
    "    print('❌ sklearn.kernel_approximation.PolynomialCountSketch.set_params: Return unavailable') # noqa E501\n",
    "    print(\"  Please fix this return type code until there is no exception\")\n",
    "    print('  Error:', e)\n"
   ]
  },
  {
   "cell_type": "code",
   "execution_count": null,
   "id": "signal-stereo",
   "metadata": {},
   "outputs": [],
   "source": [
    "# sklearn.kernel_approximation.PolynomialCountSketch.transform\n",
    "try:\n",
    "    obj = class_constructor() # noqa F821\n",
    "    ret = obj.transform()\n",
    "    type_sklearn_kernel_approximation_PolynomialCountSketch_transform = getattr(ret, '__module__', 'none') + '.' + ret.__class__.__name__\n",
    "    print('✅ sklearn.kernel_approximation.PolynomialCountSketch.transform: ', type(ret)) # noqa E501\n",
    "except Exception as e:\n",
    "    type_sklearn_kernel_approximation_PolynomialCountSketch_transform = '_syft_missing'\n",
    "    print('❌ sklearn.kernel_approximation.PolynomialCountSketch.transform: Return unavailable') # noqa E501\n",
    "    print(\"  Please fix this return type code until there is no exception\")\n",
    "    print('  Error:', e)\n"
   ]
  }
 ],
 "metadata": {},
 "nbformat": 4,
 "nbformat_minor": 5
}
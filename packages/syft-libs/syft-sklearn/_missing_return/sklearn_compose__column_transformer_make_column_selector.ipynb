{
 "cells": [
  {
   "cell_type": "markdown",
   "id": "steady-bahrain",
   "metadata": {},
   "source": [
    "## sklearn.compose._column_transformer.make_column_selector"
   ]
  },
  {
   "cell_type": "code",
   "execution_count": null,
   "id": "brilliant-contamination",
   "metadata": {},
   "outputs": [],
   "source": [
    "import sklearn\n",
    "def class_constructor(*args, **kwargs):\n",
    "    obj = sklearn.compose._column_transformer.make_column_selector()\n",
    "    return obj\n"
   ]
  },
  {
   "cell_type": "code",
   "execution_count": null,
   "id": "finnish-slovenia",
   "metadata": {},
   "outputs": [],
   "source": [
    "# sklearn.compose._column_transformer.make_column_selector.__call__\n",
    "try:\n",
    "    obj = class_constructor() # noqa F821\n",
    "    ret = obj.__call__()\n",
    "    type_sklearn_compose__column_transformer_make_column_selector___call__ = getattr(ret, '__module__', 'none') + '.' + ret.__class__.__name__\n",
    "    print('✅ sklearn.compose._column_transformer.make_column_selector.__call__: ', type(ret)) # noqa E501\n",
    "except Exception as e:\n",
    "    type_sklearn_compose__column_transformer_make_column_selector___call__ = '_syft_missing'\n",
    "    print('❌ sklearn.compose._column_transformer.make_column_selector.__call__: Return unavailable') # noqa E501\n",
    "    print(\"  Please fix this return type code until there is no exception\")\n",
    "    print('  Error:', e)\n"
   ]
  }
 ],
 "metadata": {},
 "nbformat": 4,
 "nbformat_minor": 5
}
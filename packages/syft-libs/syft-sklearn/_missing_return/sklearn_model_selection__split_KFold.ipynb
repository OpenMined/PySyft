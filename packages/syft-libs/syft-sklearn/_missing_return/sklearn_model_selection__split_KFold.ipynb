{
 "cells": [
  {
   "cell_type": "markdown",
   "id": "deluxe-jungle",
   "metadata": {},
   "source": [
    "## sklearn.model_selection._split.KFold"
   ]
  },
  {
   "cell_type": "code",
   "execution_count": null,
   "id": "impressive-therapy",
   "metadata": {},
   "outputs": [],
   "source": [
    "import sklearn\n",
    "def class_constructor(*args, **kwargs):\n",
    "    obj = sklearn.model_selection._split.KFold()\n",
    "    return obj\n"
   ]
  },
  {
   "cell_type": "code",
   "execution_count": null,
   "id": "industrial-survey",
   "metadata": {},
   "outputs": [],
   "source": [
    "# sklearn.model_selection._split.KFold.__repr__\n",
    "try:\n",
    "    obj = class_constructor() # noqa F821\n",
    "    ret = obj.__repr__()\n",
    "    type_sklearn_model_selection__split_KFold___repr__ = getattr(ret, '__module__', 'none') + '.' + ret.__class__.__name__\n",
    "    print('✅ sklearn.model_selection._split.KFold.__repr__: ', type(ret)) # noqa E501\n",
    "except Exception as e:\n",
    "    type_sklearn_model_selection__split_KFold___repr__ = '_syft_missing'\n",
    "    print('❌ sklearn.model_selection._split.KFold.__repr__: Return unavailable') # noqa E501\n",
    "    print(\"  Please fix this return type code until there is no exception\")\n",
    "    print('  Error:', e)\n"
   ]
  },
  {
   "cell_type": "code",
   "execution_count": null,
   "id": "pursuant-slovakia",
   "metadata": {},
   "outputs": [],
   "source": [
    "# sklearn.model_selection._split.KFold._iter_test_indices\n",
    "try:\n",
    "    obj = class_constructor() # noqa F821\n",
    "    ret = obj._iter_test_indices()\n",
    "    type_sklearn_model_selection__split_KFold__iter_test_indices = getattr(ret, '__module__', 'none') + '.' + ret.__class__.__name__\n",
    "    print('✅ sklearn.model_selection._split.KFold._iter_test_indices: ', type(ret)) # noqa E501\n",
    "except Exception as e:\n",
    "    type_sklearn_model_selection__split_KFold__iter_test_indices = '_syft_missing'\n",
    "    print('❌ sklearn.model_selection._split.KFold._iter_test_indices: Return unavailable') # noqa E501\n",
    "    print(\"  Please fix this return type code until there is no exception\")\n",
    "    print('  Error:', e)\n"
   ]
  },
  {
   "cell_type": "code",
   "execution_count": null,
   "id": "assigned-ecology",
   "metadata": {},
   "outputs": [],
   "source": [
    "# sklearn.model_selection._split.KFold._iter_test_masks\n",
    "try:\n",
    "    obj = class_constructor() # noqa F821\n",
    "    ret = obj._iter_test_masks()\n",
    "    type_sklearn_model_selection__split_KFold__iter_test_masks = getattr(ret, '__module__', 'none') + '.' + ret.__class__.__name__\n",
    "    print('✅ sklearn.model_selection._split.KFold._iter_test_masks: ', type(ret)) # noqa E501\n",
    "except Exception as e:\n",
    "    type_sklearn_model_selection__split_KFold__iter_test_masks = '_syft_missing'\n",
    "    print('❌ sklearn.model_selection._split.KFold._iter_test_masks: Return unavailable') # noqa E501\n",
    "    print(\"  Please fix this return type code until there is no exception\")\n",
    "    print('  Error:', e)\n"
   ]
  },
  {
   "cell_type": "code",
   "execution_count": null,
   "id": "accomplished-spelling",
   "metadata": {},
   "outputs": [],
   "source": [
    "# sklearn.model_selection._split.KFold.get_n_splits\n",
    "try:\n",
    "    obj = class_constructor() # noqa F821\n",
    "    ret = obj.get_n_splits()\n",
    "    type_sklearn_model_selection__split_KFold_get_n_splits = getattr(ret, '__module__', 'none') + '.' + ret.__class__.__name__\n",
    "    print('✅ sklearn.model_selection._split.KFold.get_n_splits: ', type(ret)) # noqa E501\n",
    "except Exception as e:\n",
    "    type_sklearn_model_selection__split_KFold_get_n_splits = '_syft_missing'\n",
    "    print('❌ sklearn.model_selection._split.KFold.get_n_splits: Return unavailable') # noqa E501\n",
    "    print(\"  Please fix this return type code until there is no exception\")\n",
    "    print('  Error:', e)\n"
   ]
  },
  {
   "cell_type": "code",
   "execution_count": null,
   "id": "angry-endorsement",
   "metadata": {},
   "outputs": [],
   "source": [
    "# sklearn.model_selection._split.KFold.split\n",
    "try:\n",
    "    obj = class_constructor() # noqa F821\n",
    "    ret = obj.split()\n",
    "    type_sklearn_model_selection__split_KFold_split = getattr(ret, '__module__', 'none') + '.' + ret.__class__.__name__\n",
    "    print('✅ sklearn.model_selection._split.KFold.split: ', type(ret)) # noqa E501\n",
    "except Exception as e:\n",
    "    type_sklearn_model_selection__split_KFold_split = '_syft_missing'\n",
    "    print('❌ sklearn.model_selection._split.KFold.split: Return unavailable') # noqa E501\n",
    "    print(\"  Please fix this return type code until there is no exception\")\n",
    "    print('  Error:', e)\n"
   ]
  }
 ],
 "metadata": {},
 "nbformat": 4,
 "nbformat_minor": 5
}
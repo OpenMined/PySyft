{
 "cells": [
  {
   "cell_type": "markdown",
   "id": "suitable-operations",
   "metadata": {},
   "source": [
    "## sklearn.tree._classes.ExtraTreeRegressor"
   ]
  },
  {
   "cell_type": "code",
   "execution_count": null,
   "id": "surface-vault",
   "metadata": {},
   "outputs": [],
   "source": [
    "import sklearn\n",
    "def class_constructor(*args, **kwargs):\n",
    "    obj = sklearn.tree._classes.ExtraTreeRegressor()\n",
    "    return obj\n"
   ]
  },
  {
   "cell_type": "code",
   "execution_count": null,
   "id": "frozen-tuition",
   "metadata": {},
   "outputs": [],
   "source": [
    "# sklearn.tree._classes.ExtraTreeRegressor.__getstate__\n",
    "try:\n",
    "    obj = class_constructor() # noqa F821\n",
    "    ret = obj.__getstate__()\n",
    "    type_sklearn_tree__classes_ExtraTreeRegressor___getstate__ = getattr(ret, '__module__', 'none') + '.' + ret.__class__.__name__\n",
    "    print('✅ sklearn.tree._classes.ExtraTreeRegressor.__getstate__: ', type(ret)) # noqa E501\n",
    "except Exception as e:\n",
    "    type_sklearn_tree__classes_ExtraTreeRegressor___getstate__ = '_syft_missing'\n",
    "    print('❌ sklearn.tree._classes.ExtraTreeRegressor.__getstate__: Return unavailable') # noqa E501\n",
    "    print(\"  Please fix this return type code until there is no exception\")\n",
    "    print('  Error:', e)\n"
   ]
  },
  {
   "cell_type": "code",
   "execution_count": null,
   "id": "appreciated-plumbing",
   "metadata": {},
   "outputs": [],
   "source": [
    "# sklearn.tree._classes.ExtraTreeRegressor.__repr__\n",
    "try:\n",
    "    obj = class_constructor() # noqa F821\n",
    "    ret = obj.__repr__()\n",
    "    type_sklearn_tree__classes_ExtraTreeRegressor___repr__ = getattr(ret, '__module__', 'none') + '.' + ret.__class__.__name__\n",
    "    print('✅ sklearn.tree._classes.ExtraTreeRegressor.__repr__: ', type(ret)) # noqa E501\n",
    "except Exception as e:\n",
    "    type_sklearn_tree__classes_ExtraTreeRegressor___repr__ = '_syft_missing'\n",
    "    print('❌ sklearn.tree._classes.ExtraTreeRegressor.__repr__: Return unavailable') # noqa E501\n",
    "    print(\"  Please fix this return type code until there is no exception\")\n",
    "    print('  Error:', e)\n"
   ]
  },
  {
   "cell_type": "code",
   "execution_count": null,
   "id": "animal-excellence",
   "metadata": {},
   "outputs": [],
   "source": [
    "# sklearn.tree._classes.ExtraTreeRegressor.__setstate__\n",
    "try:\n",
    "    obj = class_constructor() # noqa F821\n",
    "    ret = obj.__setstate__()\n",
    "    type_sklearn_tree__classes_ExtraTreeRegressor___setstate__ = getattr(ret, '__module__', 'none') + '.' + ret.__class__.__name__\n",
    "    print('✅ sklearn.tree._classes.ExtraTreeRegressor.__setstate__: ', type(ret)) # noqa E501\n",
    "except Exception as e:\n",
    "    type_sklearn_tree__classes_ExtraTreeRegressor___setstate__ = '_syft_missing'\n",
    "    print('❌ sklearn.tree._classes.ExtraTreeRegressor.__setstate__: Return unavailable') # noqa E501\n",
    "    print(\"  Please fix this return type code until there is no exception\")\n",
    "    print('  Error:', e)\n"
   ]
  },
  {
   "cell_type": "code",
   "execution_count": null,
   "id": "prepared-gibraltar",
   "metadata": {},
   "outputs": [],
   "source": [
    "# sklearn.tree._classes.ExtraTreeRegressor._check_n_features\n",
    "try:\n",
    "    obj = class_constructor() # noqa F821\n",
    "    ret = obj._check_n_features()\n",
    "    type_sklearn_tree__classes_ExtraTreeRegressor__check_n_features = getattr(ret, '__module__', 'none') + '.' + ret.__class__.__name__\n",
    "    print('✅ sklearn.tree._classes.ExtraTreeRegressor._check_n_features: ', type(ret)) # noqa E501\n",
    "except Exception as e:\n",
    "    type_sklearn_tree__classes_ExtraTreeRegressor__check_n_features = '_syft_missing'\n",
    "    print('❌ sklearn.tree._classes.ExtraTreeRegressor._check_n_features: Return unavailable') # noqa E501\n",
    "    print(\"  Please fix this return type code until there is no exception\")\n",
    "    print('  Error:', e)\n"
   ]
  },
  {
   "cell_type": "code",
   "execution_count": null,
   "id": "prerequisite-syndrome",
   "metadata": {},
   "outputs": [],
   "source": [
    "# sklearn.tree._classes.ExtraTreeRegressor._compute_partial_dependence_recursion\n",
    "try:\n",
    "    obj = class_constructor() # noqa F821\n",
    "    ret = obj._compute_partial_dependence_recursion()\n",
    "    type_sklearn_tree__classes_ExtraTreeRegressor__compute_partial_dependence_recursion = getattr(ret, '__module__', 'none') + '.' + ret.__class__.__name__\n",
    "    print('✅ sklearn.tree._classes.ExtraTreeRegressor._compute_partial_dependence_recursion: ', type(ret)) # noqa E501\n",
    "except Exception as e:\n",
    "    type_sklearn_tree__classes_ExtraTreeRegressor__compute_partial_dependence_recursion = '_syft_missing'\n",
    "    print('❌ sklearn.tree._classes.ExtraTreeRegressor._compute_partial_dependence_recursion: Return unavailable') # noqa E501\n",
    "    print(\"  Please fix this return type code until there is no exception\")\n",
    "    print('  Error:', e)\n"
   ]
  },
  {
   "cell_type": "code",
   "execution_count": null,
   "id": "varying-bench",
   "metadata": {},
   "outputs": [],
   "source": [
    "# sklearn.tree._classes.ExtraTreeRegressor._get_param_names\n",
    "try:\n",
    "    obj = class_constructor() # noqa F821\n",
    "    ret = obj._get_param_names()\n",
    "    type_sklearn_tree__classes_ExtraTreeRegressor__get_param_names = getattr(ret, '__module__', 'none') + '.' + ret.__class__.__name__\n",
    "    print('✅ sklearn.tree._classes.ExtraTreeRegressor._get_param_names: ', type(ret)) # noqa E501\n",
    "except Exception as e:\n",
    "    type_sklearn_tree__classes_ExtraTreeRegressor__get_param_names = '_syft_missing'\n",
    "    print('❌ sklearn.tree._classes.ExtraTreeRegressor._get_param_names: Return unavailable') # noqa E501\n",
    "    print(\"  Please fix this return type code until there is no exception\")\n",
    "    print('  Error:', e)\n"
   ]
  },
  {
   "cell_type": "code",
   "execution_count": null,
   "id": "fixed-philosophy",
   "metadata": {},
   "outputs": [],
   "source": [
    "# sklearn.tree._classes.ExtraTreeRegressor._get_tags\n",
    "try:\n",
    "    obj = class_constructor() # noqa F821\n",
    "    ret = obj._get_tags()\n",
    "    type_sklearn_tree__classes_ExtraTreeRegressor__get_tags = getattr(ret, '__module__', 'none') + '.' + ret.__class__.__name__\n",
    "    print('✅ sklearn.tree._classes.ExtraTreeRegressor._get_tags: ', type(ret)) # noqa E501\n",
    "except Exception as e:\n",
    "    type_sklearn_tree__classes_ExtraTreeRegressor__get_tags = '_syft_missing'\n",
    "    print('❌ sklearn.tree._classes.ExtraTreeRegressor._get_tags: Return unavailable') # noqa E501\n",
    "    print(\"  Please fix this return type code until there is no exception\")\n",
    "    print('  Error:', e)\n"
   ]
  },
  {
   "cell_type": "code",
   "execution_count": null,
   "id": "interim-physics",
   "metadata": {},
   "outputs": [],
   "source": [
    "# sklearn.tree._classes.ExtraTreeRegressor._more_tags\n",
    "try:\n",
    "    obj = class_constructor() # noqa F821\n",
    "    ret = obj._more_tags()\n",
    "    type_sklearn_tree__classes_ExtraTreeRegressor__more_tags = getattr(ret, '__module__', 'none') + '.' + ret.__class__.__name__\n",
    "    print('✅ sklearn.tree._classes.ExtraTreeRegressor._more_tags: ', type(ret)) # noqa E501\n",
    "except Exception as e:\n",
    "    type_sklearn_tree__classes_ExtraTreeRegressor__more_tags = '_syft_missing'\n",
    "    print('❌ sklearn.tree._classes.ExtraTreeRegressor._more_tags: Return unavailable') # noqa E501\n",
    "    print(\"  Please fix this return type code until there is no exception\")\n",
    "    print('  Error:', e)\n"
   ]
  },
  {
   "cell_type": "code",
   "execution_count": null,
   "id": "legislative-basketball",
   "metadata": {},
   "outputs": [],
   "source": [
    "# sklearn.tree._classes.ExtraTreeRegressor._prune_tree\n",
    "try:\n",
    "    obj = class_constructor() # noqa F821\n",
    "    ret = obj._prune_tree()\n",
    "    type_sklearn_tree__classes_ExtraTreeRegressor__prune_tree = getattr(ret, '__module__', 'none') + '.' + ret.__class__.__name__\n",
    "    print('✅ sklearn.tree._classes.ExtraTreeRegressor._prune_tree: ', type(ret)) # noqa E501\n",
    "except Exception as e:\n",
    "    type_sklearn_tree__classes_ExtraTreeRegressor__prune_tree = '_syft_missing'\n",
    "    print('❌ sklearn.tree._classes.ExtraTreeRegressor._prune_tree: Return unavailable') # noqa E501\n",
    "    print(\"  Please fix this return type code until there is no exception\")\n",
    "    print('  Error:', e)\n"
   ]
  },
  {
   "cell_type": "code",
   "execution_count": null,
   "id": "excess-wallace",
   "metadata": {},
   "outputs": [],
   "source": [
    "# sklearn.tree._classes.ExtraTreeRegressor._repr_html_\n",
    "try:\n",
    "    obj = class_constructor()\n",
    "    ret = obj._repr_html_\n",
    "    type_sklearn_tree__classes_ExtraTreeRegressor__repr_html_ = getattr(ret, '__module__', 'none') + '.' + ret.__class__.__name__\n",
    "    print('✅ sklearn.tree._classes.ExtraTreeRegressor._repr_html_:', type(ret)) # noqa E501\n",
    "except Exception as e:\n",
    "    type_sklearn_tree__classes_ExtraTreeRegressor__repr_html_ = '_syft_missing'\n",
    "    print('❌ sklearn.tree._classes.ExtraTreeRegressor._repr_html_: Return unavailable') # noqa E501\n",
    "    print(\"  Please fix this return type code until there is no exception\")\n",
    "    print('  Error:', e)\n"
   ]
  },
  {
   "cell_type": "code",
   "execution_count": null,
   "id": "pretty-brooks",
   "metadata": {},
   "outputs": [],
   "source": [
    "# sklearn.tree._classes.ExtraTreeRegressor._repr_html_inner\n",
    "try:\n",
    "    obj = class_constructor() # noqa F821\n",
    "    ret = obj._repr_html_inner()\n",
    "    type_sklearn_tree__classes_ExtraTreeRegressor__repr_html_inner = getattr(ret, '__module__', 'none') + '.' + ret.__class__.__name__\n",
    "    print('✅ sklearn.tree._classes.ExtraTreeRegressor._repr_html_inner: ', type(ret)) # noqa E501\n",
    "except Exception as e:\n",
    "    type_sklearn_tree__classes_ExtraTreeRegressor__repr_html_inner = '_syft_missing'\n",
    "    print('❌ sklearn.tree._classes.ExtraTreeRegressor._repr_html_inner: Return unavailable') # noqa E501\n",
    "    print(\"  Please fix this return type code until there is no exception\")\n",
    "    print('  Error:', e)\n"
   ]
  },
  {
   "cell_type": "code",
   "execution_count": null,
   "id": "excellent-default",
   "metadata": {},
   "outputs": [],
   "source": [
    "# sklearn.tree._classes.ExtraTreeRegressor._repr_mimebundle_\n",
    "try:\n",
    "    obj = class_constructor() # noqa F821\n",
    "    ret = obj._repr_mimebundle_()\n",
    "    type_sklearn_tree__classes_ExtraTreeRegressor__repr_mimebundle_ = getattr(ret, '__module__', 'none') + '.' + ret.__class__.__name__\n",
    "    print('✅ sklearn.tree._classes.ExtraTreeRegressor._repr_mimebundle_: ', type(ret)) # noqa E501\n",
    "except Exception as e:\n",
    "    type_sklearn_tree__classes_ExtraTreeRegressor__repr_mimebundle_ = '_syft_missing'\n",
    "    print('❌ sklearn.tree._classes.ExtraTreeRegressor._repr_mimebundle_: Return unavailable') # noqa E501\n",
    "    print(\"  Please fix this return type code until there is no exception\")\n",
    "    print('  Error:', e)\n"
   ]
  },
  {
   "cell_type": "code",
   "execution_count": null,
   "id": "chicken-effort",
   "metadata": {},
   "outputs": [],
   "source": [
    "# sklearn.tree._classes.ExtraTreeRegressor._validate_X_predict\n",
    "try:\n",
    "    obj = class_constructor() # noqa F821\n",
    "    ret = obj._validate_X_predict()\n",
    "    type_sklearn_tree__classes_ExtraTreeRegressor__validate_X_predict = getattr(ret, '__module__', 'none') + '.' + ret.__class__.__name__\n",
    "    print('✅ sklearn.tree._classes.ExtraTreeRegressor._validate_X_predict: ', type(ret)) # noqa E501\n",
    "except Exception as e:\n",
    "    type_sklearn_tree__classes_ExtraTreeRegressor__validate_X_predict = '_syft_missing'\n",
    "    print('❌ sklearn.tree._classes.ExtraTreeRegressor._validate_X_predict: Return unavailable') # noqa E501\n",
    "    print(\"  Please fix this return type code until there is no exception\")\n",
    "    print('  Error:', e)\n"
   ]
  },
  {
   "cell_type": "code",
   "execution_count": null,
   "id": "bored-coalition",
   "metadata": {},
   "outputs": [],
   "source": [
    "# sklearn.tree._classes.ExtraTreeRegressor._validate_data\n",
    "try:\n",
    "    obj = class_constructor() # noqa F821\n",
    "    ret = obj._validate_data()\n",
    "    type_sklearn_tree__classes_ExtraTreeRegressor__validate_data = getattr(ret, '__module__', 'none') + '.' + ret.__class__.__name__\n",
    "    print('✅ sklearn.tree._classes.ExtraTreeRegressor._validate_data: ', type(ret)) # noqa E501\n",
    "except Exception as e:\n",
    "    type_sklearn_tree__classes_ExtraTreeRegressor__validate_data = '_syft_missing'\n",
    "    print('❌ sklearn.tree._classes.ExtraTreeRegressor._validate_data: Return unavailable') # noqa E501\n",
    "    print(\"  Please fix this return type code until there is no exception\")\n",
    "    print('  Error:', e)\n"
   ]
  },
  {
   "cell_type": "code",
   "execution_count": null,
   "id": "disturbed-intellectual",
   "metadata": {},
   "outputs": [],
   "source": [
    "# sklearn.tree._classes.ExtraTreeRegressor.apply\n",
    "try:\n",
    "    obj = class_constructor() # noqa F821\n",
    "    ret = obj.apply()\n",
    "    type_sklearn_tree__classes_ExtraTreeRegressor_apply = getattr(ret, '__module__', 'none') + '.' + ret.__class__.__name__\n",
    "    print('✅ sklearn.tree._classes.ExtraTreeRegressor.apply: ', type(ret)) # noqa E501\n",
    "except Exception as e:\n",
    "    type_sklearn_tree__classes_ExtraTreeRegressor_apply = '_syft_missing'\n",
    "    print('❌ sklearn.tree._classes.ExtraTreeRegressor.apply: Return unavailable') # noqa E501\n",
    "    print(\"  Please fix this return type code until there is no exception\")\n",
    "    print('  Error:', e)\n"
   ]
  },
  {
   "cell_type": "code",
   "execution_count": null,
   "id": "celtic-reserve",
   "metadata": {},
   "outputs": [],
   "source": [
    "# sklearn.tree._classes.ExtraTreeRegressor.cost_complexity_pruning_path\n",
    "try:\n",
    "    obj = class_constructor() # noqa F821\n",
    "    ret = obj.cost_complexity_pruning_path()\n",
    "    type_sklearn_tree__classes_ExtraTreeRegressor_cost_complexity_pruning_path = getattr(ret, '__module__', 'none') + '.' + ret.__class__.__name__\n",
    "    print('✅ sklearn.tree._classes.ExtraTreeRegressor.cost_complexity_pruning_path: ', type(ret)) # noqa E501\n",
    "except Exception as e:\n",
    "    type_sklearn_tree__classes_ExtraTreeRegressor_cost_complexity_pruning_path = '_syft_missing'\n",
    "    print('❌ sklearn.tree._classes.ExtraTreeRegressor.cost_complexity_pruning_path: Return unavailable') # noqa E501\n",
    "    print(\"  Please fix this return type code until there is no exception\")\n",
    "    print('  Error:', e)\n"
   ]
  },
  {
   "cell_type": "code",
   "execution_count": null,
   "id": "executed-amplifier",
   "metadata": {},
   "outputs": [],
   "source": [
    "# sklearn.tree._classes.ExtraTreeRegressor.decision_path\n",
    "try:\n",
    "    obj = class_constructor() # noqa F821\n",
    "    ret = obj.decision_path()\n",
    "    type_sklearn_tree__classes_ExtraTreeRegressor_decision_path = getattr(ret, '__module__', 'none') + '.' + ret.__class__.__name__\n",
    "    print('✅ sklearn.tree._classes.ExtraTreeRegressor.decision_path: ', type(ret)) # noqa E501\n",
    "except Exception as e:\n",
    "    type_sklearn_tree__classes_ExtraTreeRegressor_decision_path = '_syft_missing'\n",
    "    print('❌ sklearn.tree._classes.ExtraTreeRegressor.decision_path: Return unavailable') # noqa E501\n",
    "    print(\"  Please fix this return type code until there is no exception\")\n",
    "    print('  Error:', e)\n"
   ]
  },
  {
   "cell_type": "code",
   "execution_count": null,
   "id": "capable-month",
   "metadata": {},
   "outputs": [],
   "source": [
    "# sklearn.tree._classes.ExtraTreeRegressor.feature_importances_\n",
    "try:\n",
    "    obj = class_constructor()\n",
    "    ret = obj.feature_importances_\n",
    "    type_sklearn_tree__classes_ExtraTreeRegressor_feature_importances_ = getattr(ret, '__module__', 'none') + '.' + ret.__class__.__name__\n",
    "    print('✅ sklearn.tree._classes.ExtraTreeRegressor.feature_importances_:', type(ret)) # noqa E501\n",
    "except Exception as e:\n",
    "    type_sklearn_tree__classes_ExtraTreeRegressor_feature_importances_ = '_syft_missing'\n",
    "    print('❌ sklearn.tree._classes.ExtraTreeRegressor.feature_importances_: Return unavailable') # noqa E501\n",
    "    print(\"  Please fix this return type code until there is no exception\")\n",
    "    print('  Error:', e)\n"
   ]
  },
  {
   "cell_type": "code",
   "execution_count": null,
   "id": "stunning-comedy",
   "metadata": {},
   "outputs": [],
   "source": [
    "# sklearn.tree._classes.ExtraTreeRegressor.fit\n",
    "try:\n",
    "    obj = class_constructor() # noqa F821\n",
    "    ret = obj.fit()\n",
    "    type_sklearn_tree__classes_ExtraTreeRegressor_fit = getattr(ret, '__module__', 'none') + '.' + ret.__class__.__name__\n",
    "    print('✅ sklearn.tree._classes.ExtraTreeRegressor.fit: ', type(ret)) # noqa E501\n",
    "except Exception as e:\n",
    "    type_sklearn_tree__classes_ExtraTreeRegressor_fit = '_syft_missing'\n",
    "    print('❌ sklearn.tree._classes.ExtraTreeRegressor.fit: Return unavailable') # noqa E501\n",
    "    print(\"  Please fix this return type code until there is no exception\")\n",
    "    print('  Error:', e)\n"
   ]
  },
  {
   "cell_type": "code",
   "execution_count": null,
   "id": "falling-thomas",
   "metadata": {},
   "outputs": [],
   "source": [
    "# sklearn.tree._classes.ExtraTreeRegressor.get_depth\n",
    "try:\n",
    "    obj = class_constructor() # noqa F821\n",
    "    ret = obj.get_depth()\n",
    "    type_sklearn_tree__classes_ExtraTreeRegressor_get_depth = getattr(ret, '__module__', 'none') + '.' + ret.__class__.__name__\n",
    "    print('✅ sklearn.tree._classes.ExtraTreeRegressor.get_depth: ', type(ret)) # noqa E501\n",
    "except Exception as e:\n",
    "    type_sklearn_tree__classes_ExtraTreeRegressor_get_depth = '_syft_missing'\n",
    "    print('❌ sklearn.tree._classes.ExtraTreeRegressor.get_depth: Return unavailable') # noqa E501\n",
    "    print(\"  Please fix this return type code until there is no exception\")\n",
    "    print('  Error:', e)\n"
   ]
  },
  {
   "cell_type": "code",
   "execution_count": null,
   "id": "neural-henry",
   "metadata": {},
   "outputs": [],
   "source": [
    "# sklearn.tree._classes.ExtraTreeRegressor.get_n_leaves\n",
    "try:\n",
    "    obj = class_constructor() # noqa F821\n",
    "    ret = obj.get_n_leaves()\n",
    "    type_sklearn_tree__classes_ExtraTreeRegressor_get_n_leaves = getattr(ret, '__module__', 'none') + '.' + ret.__class__.__name__\n",
    "    print('✅ sklearn.tree._classes.ExtraTreeRegressor.get_n_leaves: ', type(ret)) # noqa E501\n",
    "except Exception as e:\n",
    "    type_sklearn_tree__classes_ExtraTreeRegressor_get_n_leaves = '_syft_missing'\n",
    "    print('❌ sklearn.tree._classes.ExtraTreeRegressor.get_n_leaves: Return unavailable') # noqa E501\n",
    "    print(\"  Please fix this return type code until there is no exception\")\n",
    "    print('  Error:', e)\n"
   ]
  },
  {
   "cell_type": "code",
   "execution_count": null,
   "id": "existing-fellow",
   "metadata": {},
   "outputs": [],
   "source": [
    "# sklearn.tree._classes.ExtraTreeRegressor.get_params\n",
    "try:\n",
    "    obj = class_constructor() # noqa F821\n",
    "    ret = obj.get_params()\n",
    "    type_sklearn_tree__classes_ExtraTreeRegressor_get_params = getattr(ret, '__module__', 'none') + '.' + ret.__class__.__name__\n",
    "    print('✅ sklearn.tree._classes.ExtraTreeRegressor.get_params: ', type(ret)) # noqa E501\n",
    "except Exception as e:\n",
    "    type_sklearn_tree__classes_ExtraTreeRegressor_get_params = '_syft_missing'\n",
    "    print('❌ sklearn.tree._classes.ExtraTreeRegressor.get_params: Return unavailable') # noqa E501\n",
    "    print(\"  Please fix this return type code until there is no exception\")\n",
    "    print('  Error:', e)\n"
   ]
  },
  {
   "cell_type": "code",
   "execution_count": null,
   "id": "subject-punishment",
   "metadata": {},
   "outputs": [],
   "source": [
    "# sklearn.tree._classes.ExtraTreeRegressor.predict\n",
    "try:\n",
    "    obj = class_constructor() # noqa F821\n",
    "    ret = obj.predict()\n",
    "    type_sklearn_tree__classes_ExtraTreeRegressor_predict = getattr(ret, '__module__', 'none') + '.' + ret.__class__.__name__\n",
    "    print('✅ sklearn.tree._classes.ExtraTreeRegressor.predict: ', type(ret)) # noqa E501\n",
    "except Exception as e:\n",
    "    type_sklearn_tree__classes_ExtraTreeRegressor_predict = '_syft_missing'\n",
    "    print('❌ sklearn.tree._classes.ExtraTreeRegressor.predict: Return unavailable') # noqa E501\n",
    "    print(\"  Please fix this return type code until there is no exception\")\n",
    "    print('  Error:', e)\n"
   ]
  },
  {
   "cell_type": "code",
   "execution_count": null,
   "id": "artificial-watts",
   "metadata": {},
   "outputs": [],
   "source": [
    "# sklearn.tree._classes.ExtraTreeRegressor.score\n",
    "try:\n",
    "    obj = class_constructor() # noqa F821\n",
    "    ret = obj.score()\n",
    "    type_sklearn_tree__classes_ExtraTreeRegressor_score = getattr(ret, '__module__', 'none') + '.' + ret.__class__.__name__\n",
    "    print('✅ sklearn.tree._classes.ExtraTreeRegressor.score: ', type(ret)) # noqa E501\n",
    "except Exception as e:\n",
    "    type_sklearn_tree__classes_ExtraTreeRegressor_score = '_syft_missing'\n",
    "    print('❌ sklearn.tree._classes.ExtraTreeRegressor.score: Return unavailable') # noqa E501\n",
    "    print(\"  Please fix this return type code until there is no exception\")\n",
    "    print('  Error:', e)\n"
   ]
  },
  {
   "cell_type": "code",
   "execution_count": null,
   "id": "moving-career",
   "metadata": {},
   "outputs": [],
   "source": [
    "# sklearn.tree._classes.ExtraTreeRegressor.set_params\n",
    "try:\n",
    "    obj = class_constructor() # noqa F821\n",
    "    ret = obj.set_params()\n",
    "    type_sklearn_tree__classes_ExtraTreeRegressor_set_params = getattr(ret, '__module__', 'none') + '.' + ret.__class__.__name__\n",
    "    print('✅ sklearn.tree._classes.ExtraTreeRegressor.set_params: ', type(ret)) # noqa E501\n",
    "except Exception as e:\n",
    "    type_sklearn_tree__classes_ExtraTreeRegressor_set_params = '_syft_missing'\n",
    "    print('❌ sklearn.tree._classes.ExtraTreeRegressor.set_params: Return unavailable') # noqa E501\n",
    "    print(\"  Please fix this return type code until there is no exception\")\n",
    "    print('  Error:', e)\n"
   ]
  }
 ],
 "metadata": {},
 "nbformat": 4,
 "nbformat_minor": 5
}
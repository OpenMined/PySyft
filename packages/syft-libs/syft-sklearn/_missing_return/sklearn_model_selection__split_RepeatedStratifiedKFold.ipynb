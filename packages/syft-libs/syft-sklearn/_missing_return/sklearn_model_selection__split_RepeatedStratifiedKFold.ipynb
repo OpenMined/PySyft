{
 "cells": [
  {
   "cell_type": "markdown",
   "id": "unusual-circular",
   "metadata": {},
   "source": [
    "## sklearn.model_selection._split.RepeatedStratifiedKFold"
   ]
  },
  {
   "cell_type": "code",
   "execution_count": null,
   "id": "hired-gravity",
   "metadata": {},
   "outputs": [],
   "source": [
    "import sklearn\n",
    "def class_constructor(*args, **kwargs):\n",
    "    obj = sklearn.model_selection._split.RepeatedStratifiedKFold()\n",
    "    return obj\n"
   ]
  },
  {
   "cell_type": "code",
   "execution_count": null,
   "id": "foster-aside",
   "metadata": {},
   "outputs": [],
   "source": [
    "# sklearn.model_selection._split.RepeatedStratifiedKFold.__repr__\n",
    "try:\n",
    "    obj = class_constructor() # noqa F821\n",
    "    ret = obj.__repr__()\n",
    "    type_sklearn_model_selection__split_RepeatedStratifiedKFold___repr__ = getattr(ret, '__module__', 'none') + '.' + ret.__class__.__name__\n",
    "    print('✅ sklearn.model_selection._split.RepeatedStratifiedKFold.__repr__: ', type(ret)) # noqa E501\n",
    "except Exception as e:\n",
    "    type_sklearn_model_selection__split_RepeatedStratifiedKFold___repr__ = '_syft_missing'\n",
    "    print('❌ sklearn.model_selection._split.RepeatedStratifiedKFold.__repr__: Return unavailable') # noqa E501\n",
    "    print(\"  Please fix this return type code until there is no exception\")\n",
    "    print('  Error:', e)\n"
   ]
  },
  {
   "cell_type": "code",
   "execution_count": null,
   "id": "functional-treasury",
   "metadata": {},
   "outputs": [],
   "source": [
    "# sklearn.model_selection._split.RepeatedStratifiedKFold.get_n_splits\n",
    "try:\n",
    "    obj = class_constructor() # noqa F821\n",
    "    ret = obj.get_n_splits()\n",
    "    type_sklearn_model_selection__split_RepeatedStratifiedKFold_get_n_splits = getattr(ret, '__module__', 'none') + '.' + ret.__class__.__name__\n",
    "    print('✅ sklearn.model_selection._split.RepeatedStratifiedKFold.get_n_splits: ', type(ret)) # noqa E501\n",
    "except Exception as e:\n",
    "    type_sklearn_model_selection__split_RepeatedStratifiedKFold_get_n_splits = '_syft_missing'\n",
    "    print('❌ sklearn.model_selection._split.RepeatedStratifiedKFold.get_n_splits: Return unavailable') # noqa E501\n",
    "    print(\"  Please fix this return type code until there is no exception\")\n",
    "    print('  Error:', e)\n"
   ]
  },
  {
   "cell_type": "code",
   "execution_count": null,
   "id": "insured-voltage",
   "metadata": {},
   "outputs": [],
   "source": [
    "# sklearn.model_selection._split.RepeatedStratifiedKFold.split\n",
    "try:\n",
    "    obj = class_constructor() # noqa F821\n",
    "    ret = obj.split()\n",
    "    type_sklearn_model_selection__split_RepeatedStratifiedKFold_split = getattr(ret, '__module__', 'none') + '.' + ret.__class__.__name__\n",
    "    print('✅ sklearn.model_selection._split.RepeatedStratifiedKFold.split: ', type(ret)) # noqa E501\n",
    "except Exception as e:\n",
    "    type_sklearn_model_selection__split_RepeatedStratifiedKFold_split = '_syft_missing'\n",
    "    print('❌ sklearn.model_selection._split.RepeatedStratifiedKFold.split: Return unavailable') # noqa E501\n",
    "    print(\"  Please fix this return type code until there is no exception\")\n",
    "    print('  Error:', e)\n"
   ]
  }
 ],
 "metadata": {},
 "nbformat": 4,
 "nbformat_minor": 5
}
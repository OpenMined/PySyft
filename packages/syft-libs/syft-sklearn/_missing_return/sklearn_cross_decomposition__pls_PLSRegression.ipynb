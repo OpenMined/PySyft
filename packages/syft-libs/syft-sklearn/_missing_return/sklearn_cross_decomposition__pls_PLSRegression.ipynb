{
 "cells": [
  {
   "cell_type": "markdown",
   "id": "stunning-intranet",
   "metadata": {},
   "source": [
    "## sklearn.cross_decomposition._pls.PLSRegression"
   ]
  },
  {
   "cell_type": "code",
   "execution_count": null,
   "id": "middle-coffee",
   "metadata": {},
   "outputs": [],
   "source": [
    "import sklearn\n",
    "def class_constructor(*args, **kwargs):\n",
    "    obj = sklearn.cross_decomposition._pls.PLSRegression()\n",
    "    return obj\n"
   ]
  },
  {
   "cell_type": "code",
   "execution_count": null,
   "id": "integral-tracy",
   "metadata": {},
   "outputs": [],
   "source": [
    "# sklearn.cross_decomposition._pls.PLSRegression.__getstate__\n",
    "try:\n",
    "    obj = class_constructor() # noqa F821\n",
    "    ret = obj.__getstate__()\n",
    "    type_sklearn_cross_decomposition__pls_PLSRegression___getstate__ = getattr(ret, '__module__', 'none') + '.' + ret.__class__.__name__\n",
    "    print('✅ sklearn.cross_decomposition._pls.PLSRegression.__getstate__: ', type(ret)) # noqa E501\n",
    "except Exception as e:\n",
    "    type_sklearn_cross_decomposition__pls_PLSRegression___getstate__ = '_syft_missing'\n",
    "    print('❌ sklearn.cross_decomposition._pls.PLSRegression.__getstate__: Return unavailable') # noqa E501\n",
    "    print(\"  Please fix this return type code until there is no exception\")\n",
    "    print('  Error:', e)\n"
   ]
  },
  {
   "cell_type": "code",
   "execution_count": null,
   "id": "blind-comment",
   "metadata": {},
   "outputs": [],
   "source": [
    "# sklearn.cross_decomposition._pls.PLSRegression.__repr__\n",
    "try:\n",
    "    obj = class_constructor() # noqa F821\n",
    "    ret = obj.__repr__()\n",
    "    type_sklearn_cross_decomposition__pls_PLSRegression___repr__ = getattr(ret, '__module__', 'none') + '.' + ret.__class__.__name__\n",
    "    print('✅ sklearn.cross_decomposition._pls.PLSRegression.__repr__: ', type(ret)) # noqa E501\n",
    "except Exception as e:\n",
    "    type_sklearn_cross_decomposition__pls_PLSRegression___repr__ = '_syft_missing'\n",
    "    print('❌ sklearn.cross_decomposition._pls.PLSRegression.__repr__: Return unavailable') # noqa E501\n",
    "    print(\"  Please fix this return type code until there is no exception\")\n",
    "    print('  Error:', e)\n"
   ]
  },
  {
   "cell_type": "code",
   "execution_count": null,
   "id": "chief-taxation",
   "metadata": {},
   "outputs": [],
   "source": [
    "# sklearn.cross_decomposition._pls.PLSRegression.__setstate__\n",
    "try:\n",
    "    obj = class_constructor() # noqa F821\n",
    "    ret = obj.__setstate__()\n",
    "    type_sklearn_cross_decomposition__pls_PLSRegression___setstate__ = getattr(ret, '__module__', 'none') + '.' + ret.__class__.__name__\n",
    "    print('✅ sklearn.cross_decomposition._pls.PLSRegression.__setstate__: ', type(ret)) # noqa E501\n",
    "except Exception as e:\n",
    "    type_sklearn_cross_decomposition__pls_PLSRegression___setstate__ = '_syft_missing'\n",
    "    print('❌ sklearn.cross_decomposition._pls.PLSRegression.__setstate__: Return unavailable') # noqa E501\n",
    "    print(\"  Please fix this return type code until there is no exception\")\n",
    "    print('  Error:', e)\n"
   ]
  },
  {
   "cell_type": "code",
   "execution_count": null,
   "id": "elder-programming",
   "metadata": {},
   "outputs": [],
   "source": [
    "# sklearn.cross_decomposition._pls.PLSRegression._check_n_features\n",
    "try:\n",
    "    obj = class_constructor() # noqa F821\n",
    "    ret = obj._check_n_features()\n",
    "    type_sklearn_cross_decomposition__pls_PLSRegression__check_n_features = getattr(ret, '__module__', 'none') + '.' + ret.__class__.__name__\n",
    "    print('✅ sklearn.cross_decomposition._pls.PLSRegression._check_n_features: ', type(ret)) # noqa E501\n",
    "except Exception as e:\n",
    "    type_sklearn_cross_decomposition__pls_PLSRegression__check_n_features = '_syft_missing'\n",
    "    print('❌ sklearn.cross_decomposition._pls.PLSRegression._check_n_features: Return unavailable') # noqa E501\n",
    "    print(\"  Please fix this return type code until there is no exception\")\n",
    "    print('  Error:', e)\n"
   ]
  },
  {
   "cell_type": "code",
   "execution_count": null,
   "id": "narrative-priest",
   "metadata": {},
   "outputs": [],
   "source": [
    "# sklearn.cross_decomposition._pls.PLSRegression._get_param_names\n",
    "try:\n",
    "    obj = class_constructor() # noqa F821\n",
    "    ret = obj._get_param_names()\n",
    "    type_sklearn_cross_decomposition__pls_PLSRegression__get_param_names = getattr(ret, '__module__', 'none') + '.' + ret.__class__.__name__\n",
    "    print('✅ sklearn.cross_decomposition._pls.PLSRegression._get_param_names: ', type(ret)) # noqa E501\n",
    "except Exception as e:\n",
    "    type_sklearn_cross_decomposition__pls_PLSRegression__get_param_names = '_syft_missing'\n",
    "    print('❌ sklearn.cross_decomposition._pls.PLSRegression._get_param_names: Return unavailable') # noqa E501\n",
    "    print(\"  Please fix this return type code until there is no exception\")\n",
    "    print('  Error:', e)\n"
   ]
  },
  {
   "cell_type": "code",
   "execution_count": null,
   "id": "living-payday",
   "metadata": {},
   "outputs": [],
   "source": [
    "# sklearn.cross_decomposition._pls.PLSRegression._get_tags\n",
    "try:\n",
    "    obj = class_constructor() # noqa F821\n",
    "    ret = obj._get_tags()\n",
    "    type_sklearn_cross_decomposition__pls_PLSRegression__get_tags = getattr(ret, '__module__', 'none') + '.' + ret.__class__.__name__\n",
    "    print('✅ sklearn.cross_decomposition._pls.PLSRegression._get_tags: ', type(ret)) # noqa E501\n",
    "except Exception as e:\n",
    "    type_sklearn_cross_decomposition__pls_PLSRegression__get_tags = '_syft_missing'\n",
    "    print('❌ sklearn.cross_decomposition._pls.PLSRegression._get_tags: Return unavailable') # noqa E501\n",
    "    print(\"  Please fix this return type code until there is no exception\")\n",
    "    print('  Error:', e)\n"
   ]
  },
  {
   "cell_type": "code",
   "execution_count": null,
   "id": "passive-gazette",
   "metadata": {},
   "outputs": [],
   "source": [
    "# sklearn.cross_decomposition._pls.PLSRegression._more_tags\n",
    "try:\n",
    "    obj = class_constructor() # noqa F821\n",
    "    ret = obj._more_tags()\n",
    "    type_sklearn_cross_decomposition__pls_PLSRegression__more_tags = getattr(ret, '__module__', 'none') + '.' + ret.__class__.__name__\n",
    "    print('✅ sklearn.cross_decomposition._pls.PLSRegression._more_tags: ', type(ret)) # noqa E501\n",
    "except Exception as e:\n",
    "    type_sklearn_cross_decomposition__pls_PLSRegression__more_tags = '_syft_missing'\n",
    "    print('❌ sklearn.cross_decomposition._pls.PLSRegression._more_tags: Return unavailable') # noqa E501\n",
    "    print(\"  Please fix this return type code until there is no exception\")\n",
    "    print('  Error:', e)\n"
   ]
  },
  {
   "cell_type": "code",
   "execution_count": null,
   "id": "sweet-sport",
   "metadata": {},
   "outputs": [],
   "source": [
    "# sklearn.cross_decomposition._pls.PLSRegression._repr_html_\n",
    "try:\n",
    "    obj = class_constructor()\n",
    "    ret = obj._repr_html_\n",
    "    type_sklearn_cross_decomposition__pls_PLSRegression__repr_html_ = getattr(ret, '__module__', 'none') + '.' + ret.__class__.__name__\n",
    "    print('✅ sklearn.cross_decomposition._pls.PLSRegression._repr_html_:', type(ret)) # noqa E501\n",
    "except Exception as e:\n",
    "    type_sklearn_cross_decomposition__pls_PLSRegression__repr_html_ = '_syft_missing'\n",
    "    print('❌ sklearn.cross_decomposition._pls.PLSRegression._repr_html_: Return unavailable') # noqa E501\n",
    "    print(\"  Please fix this return type code until there is no exception\")\n",
    "    print('  Error:', e)\n"
   ]
  },
  {
   "cell_type": "code",
   "execution_count": null,
   "id": "recognized-public",
   "metadata": {},
   "outputs": [],
   "source": [
    "# sklearn.cross_decomposition._pls.PLSRegression._repr_html_inner\n",
    "try:\n",
    "    obj = class_constructor() # noqa F821\n",
    "    ret = obj._repr_html_inner()\n",
    "    type_sklearn_cross_decomposition__pls_PLSRegression__repr_html_inner = getattr(ret, '__module__', 'none') + '.' + ret.__class__.__name__\n",
    "    print('✅ sklearn.cross_decomposition._pls.PLSRegression._repr_html_inner: ', type(ret)) # noqa E501\n",
    "except Exception as e:\n",
    "    type_sklearn_cross_decomposition__pls_PLSRegression__repr_html_inner = '_syft_missing'\n",
    "    print('❌ sklearn.cross_decomposition._pls.PLSRegression._repr_html_inner: Return unavailable') # noqa E501\n",
    "    print(\"  Please fix this return type code until there is no exception\")\n",
    "    print('  Error:', e)\n"
   ]
  },
  {
   "cell_type": "code",
   "execution_count": null,
   "id": "southern-particle",
   "metadata": {},
   "outputs": [],
   "source": [
    "# sklearn.cross_decomposition._pls.PLSRegression._repr_mimebundle_\n",
    "try:\n",
    "    obj = class_constructor() # noqa F821\n",
    "    ret = obj._repr_mimebundle_()\n",
    "    type_sklearn_cross_decomposition__pls_PLSRegression__repr_mimebundle_ = getattr(ret, '__module__', 'none') + '.' + ret.__class__.__name__\n",
    "    print('✅ sklearn.cross_decomposition._pls.PLSRegression._repr_mimebundle_: ', type(ret)) # noqa E501\n",
    "except Exception as e:\n",
    "    type_sklearn_cross_decomposition__pls_PLSRegression__repr_mimebundle_ = '_syft_missing'\n",
    "    print('❌ sklearn.cross_decomposition._pls.PLSRegression._repr_mimebundle_: Return unavailable') # noqa E501\n",
    "    print(\"  Please fix this return type code until there is no exception\")\n",
    "    print('  Error:', e)\n"
   ]
  },
  {
   "cell_type": "code",
   "execution_count": null,
   "id": "female-jungle",
   "metadata": {},
   "outputs": [],
   "source": [
    "# sklearn.cross_decomposition._pls.PLSRegression._validate_data\n",
    "try:\n",
    "    obj = class_constructor() # noqa F821\n",
    "    ret = obj._validate_data()\n",
    "    type_sklearn_cross_decomposition__pls_PLSRegression__validate_data = getattr(ret, '__module__', 'none') + '.' + ret.__class__.__name__\n",
    "    print('✅ sklearn.cross_decomposition._pls.PLSRegression._validate_data: ', type(ret)) # noqa E501\n",
    "except Exception as e:\n",
    "    type_sklearn_cross_decomposition__pls_PLSRegression__validate_data = '_syft_missing'\n",
    "    print('❌ sklearn.cross_decomposition._pls.PLSRegression._validate_data: Return unavailable') # noqa E501\n",
    "    print(\"  Please fix this return type code until there is no exception\")\n",
    "    print('  Error:', e)\n"
   ]
  },
  {
   "cell_type": "code",
   "execution_count": null,
   "id": "suffering-passion",
   "metadata": {},
   "outputs": [],
   "source": [
    "# sklearn.cross_decomposition._pls.PLSRegression.fit\n",
    "try:\n",
    "    obj = class_constructor() # noqa F821\n",
    "    ret = obj.fit()\n",
    "    type_sklearn_cross_decomposition__pls_PLSRegression_fit = getattr(ret, '__module__', 'none') + '.' + ret.__class__.__name__\n",
    "    print('✅ sklearn.cross_decomposition._pls.PLSRegression.fit: ', type(ret)) # noqa E501\n",
    "except Exception as e:\n",
    "    type_sklearn_cross_decomposition__pls_PLSRegression_fit = '_syft_missing'\n",
    "    print('❌ sklearn.cross_decomposition._pls.PLSRegression.fit: Return unavailable') # noqa E501\n",
    "    print(\"  Please fix this return type code until there is no exception\")\n",
    "    print('  Error:', e)\n"
   ]
  },
  {
   "cell_type": "code",
   "execution_count": null,
   "id": "billion-statement",
   "metadata": {},
   "outputs": [],
   "source": [
    "# sklearn.cross_decomposition._pls.PLSRegression.fit_transform\n",
    "try:\n",
    "    obj = class_constructor() # noqa F821\n",
    "    ret = obj.fit_transform()\n",
    "    type_sklearn_cross_decomposition__pls_PLSRegression_fit_transform = getattr(ret, '__module__', 'none') + '.' + ret.__class__.__name__\n",
    "    print('✅ sklearn.cross_decomposition._pls.PLSRegression.fit_transform: ', type(ret)) # noqa E501\n",
    "except Exception as e:\n",
    "    type_sklearn_cross_decomposition__pls_PLSRegression_fit_transform = '_syft_missing'\n",
    "    print('❌ sklearn.cross_decomposition._pls.PLSRegression.fit_transform: Return unavailable') # noqa E501\n",
    "    print(\"  Please fix this return type code until there is no exception\")\n",
    "    print('  Error:', e)\n"
   ]
  },
  {
   "cell_type": "code",
   "execution_count": null,
   "id": "sticky-louis",
   "metadata": {},
   "outputs": [],
   "source": [
    "# sklearn.cross_decomposition._pls.PLSRegression.get_params\n",
    "try:\n",
    "    obj = class_constructor() # noqa F821\n",
    "    ret = obj.get_params()\n",
    "    type_sklearn_cross_decomposition__pls_PLSRegression_get_params = getattr(ret, '__module__', 'none') + '.' + ret.__class__.__name__\n",
    "    print('✅ sklearn.cross_decomposition._pls.PLSRegression.get_params: ', type(ret)) # noqa E501\n",
    "except Exception as e:\n",
    "    type_sklearn_cross_decomposition__pls_PLSRegression_get_params = '_syft_missing'\n",
    "    print('❌ sklearn.cross_decomposition._pls.PLSRegression.get_params: Return unavailable') # noqa E501\n",
    "    print(\"  Please fix this return type code until there is no exception\")\n",
    "    print('  Error:', e)\n"
   ]
  },
  {
   "cell_type": "code",
   "execution_count": null,
   "id": "aboriginal-radiation",
   "metadata": {},
   "outputs": [],
   "source": [
    "# sklearn.cross_decomposition._pls.PLSRegression.inverse_transform\n",
    "try:\n",
    "    obj = class_constructor() # noqa F821\n",
    "    ret = obj.inverse_transform()\n",
    "    type_sklearn_cross_decomposition__pls_PLSRegression_inverse_transform = getattr(ret, '__module__', 'none') + '.' + ret.__class__.__name__\n",
    "    print('✅ sklearn.cross_decomposition._pls.PLSRegression.inverse_transform: ', type(ret)) # noqa E501\n",
    "except Exception as e:\n",
    "    type_sklearn_cross_decomposition__pls_PLSRegression_inverse_transform = '_syft_missing'\n",
    "    print('❌ sklearn.cross_decomposition._pls.PLSRegression.inverse_transform: Return unavailable') # noqa E501\n",
    "    print(\"  Please fix this return type code until there is no exception\")\n",
    "    print('  Error:', e)\n"
   ]
  },
  {
   "cell_type": "code",
   "execution_count": null,
   "id": "heavy-divorce",
   "metadata": {},
   "outputs": [],
   "source": [
    "# sklearn.cross_decomposition._pls.PLSRegression.norm_y_weights\n",
    "try:\n",
    "    obj = class_constructor()\n",
    "    ret = obj.norm_y_weights\n",
    "    type_sklearn_cross_decomposition__pls_PLSRegression_norm_y_weights = getattr(ret, '__module__', 'none') + '.' + ret.__class__.__name__\n",
    "    print('✅ sklearn.cross_decomposition._pls.PLSRegression.norm_y_weights:', type(ret)) # noqa E501\n",
    "except Exception as e:\n",
    "    type_sklearn_cross_decomposition__pls_PLSRegression_norm_y_weights = '_syft_missing'\n",
    "    print('❌ sklearn.cross_decomposition._pls.PLSRegression.norm_y_weights: Return unavailable') # noqa E501\n",
    "    print(\"  Please fix this return type code until there is no exception\")\n",
    "    print('  Error:', e)\n"
   ]
  },
  {
   "cell_type": "code",
   "execution_count": null,
   "id": "developing-maximum",
   "metadata": {},
   "outputs": [],
   "source": [
    "# sklearn.cross_decomposition._pls.PLSRegression.predict\n",
    "try:\n",
    "    obj = class_constructor() # noqa F821\n",
    "    ret = obj.predict()\n",
    "    type_sklearn_cross_decomposition__pls_PLSRegression_predict = getattr(ret, '__module__', 'none') + '.' + ret.__class__.__name__\n",
    "    print('✅ sklearn.cross_decomposition._pls.PLSRegression.predict: ', type(ret)) # noqa E501\n",
    "except Exception as e:\n",
    "    type_sklearn_cross_decomposition__pls_PLSRegression_predict = '_syft_missing'\n",
    "    print('❌ sklearn.cross_decomposition._pls.PLSRegression.predict: Return unavailable') # noqa E501\n",
    "    print(\"  Please fix this return type code until there is no exception\")\n",
    "    print('  Error:', e)\n"
   ]
  },
  {
   "cell_type": "code",
   "execution_count": null,
   "id": "simple-luther",
   "metadata": {},
   "outputs": [],
   "source": [
    "# sklearn.cross_decomposition._pls.PLSRegression.score\n",
    "try:\n",
    "    obj = class_constructor() # noqa F821\n",
    "    ret = obj.score()\n",
    "    type_sklearn_cross_decomposition__pls_PLSRegression_score = getattr(ret, '__module__', 'none') + '.' + ret.__class__.__name__\n",
    "    print('✅ sklearn.cross_decomposition._pls.PLSRegression.score: ', type(ret)) # noqa E501\n",
    "except Exception as e:\n",
    "    type_sklearn_cross_decomposition__pls_PLSRegression_score = '_syft_missing'\n",
    "    print('❌ sklearn.cross_decomposition._pls.PLSRegression.score: Return unavailable') # noqa E501\n",
    "    print(\"  Please fix this return type code until there is no exception\")\n",
    "    print('  Error:', e)\n"
   ]
  },
  {
   "cell_type": "code",
   "execution_count": null,
   "id": "conscious-architect",
   "metadata": {},
   "outputs": [],
   "source": [
    "# sklearn.cross_decomposition._pls.PLSRegression.set_params\n",
    "try:\n",
    "    obj = class_constructor() # noqa F821\n",
    "    ret = obj.set_params()\n",
    "    type_sklearn_cross_decomposition__pls_PLSRegression_set_params = getattr(ret, '__module__', 'none') + '.' + ret.__class__.__name__\n",
    "    print('✅ sklearn.cross_decomposition._pls.PLSRegression.set_params: ', type(ret)) # noqa E501\n",
    "except Exception as e:\n",
    "    type_sklearn_cross_decomposition__pls_PLSRegression_set_params = '_syft_missing'\n",
    "    print('❌ sklearn.cross_decomposition._pls.PLSRegression.set_params: Return unavailable') # noqa E501\n",
    "    print(\"  Please fix this return type code until there is no exception\")\n",
    "    print('  Error:', e)\n"
   ]
  },
  {
   "cell_type": "code",
   "execution_count": null,
   "id": "improving-western",
   "metadata": {},
   "outputs": [],
   "source": [
    "# sklearn.cross_decomposition._pls.PLSRegression.transform\n",
    "try:\n",
    "    obj = class_constructor() # noqa F821\n",
    "    ret = obj.transform()\n",
    "    type_sklearn_cross_decomposition__pls_PLSRegression_transform = getattr(ret, '__module__', 'none') + '.' + ret.__class__.__name__\n",
    "    print('✅ sklearn.cross_decomposition._pls.PLSRegression.transform: ', type(ret)) # noqa E501\n",
    "except Exception as e:\n",
    "    type_sklearn_cross_decomposition__pls_PLSRegression_transform = '_syft_missing'\n",
    "    print('❌ sklearn.cross_decomposition._pls.PLSRegression.transform: Return unavailable') # noqa E501\n",
    "    print(\"  Please fix this return type code until there is no exception\")\n",
    "    print('  Error:', e)\n"
   ]
  },
  {
   "cell_type": "code",
   "execution_count": null,
   "id": "reverse-ranch",
   "metadata": {},
   "outputs": [],
   "source": [
    "# sklearn.cross_decomposition._pls.PLSRegression.x_mean_\n",
    "try:\n",
    "    obj = class_constructor()\n",
    "    ret = obj.x_mean_\n",
    "    type_sklearn_cross_decomposition__pls_PLSRegression_x_mean_ = getattr(ret, '__module__', 'none') + '.' + ret.__class__.__name__\n",
    "    print('✅ sklearn.cross_decomposition._pls.PLSRegression.x_mean_:', type(ret)) # noqa E501\n",
    "except Exception as e:\n",
    "    type_sklearn_cross_decomposition__pls_PLSRegression_x_mean_ = '_syft_missing'\n",
    "    print('❌ sklearn.cross_decomposition._pls.PLSRegression.x_mean_: Return unavailable') # noqa E501\n",
    "    print(\"  Please fix this return type code until there is no exception\")\n",
    "    print('  Error:', e)\n"
   ]
  },
  {
   "cell_type": "code",
   "execution_count": null,
   "id": "coral-income",
   "metadata": {},
   "outputs": [],
   "source": [
    "# sklearn.cross_decomposition._pls.PLSRegression.x_scores_\n",
    "try:\n",
    "    obj = class_constructor()\n",
    "    ret = obj.x_scores_\n",
    "    type_sklearn_cross_decomposition__pls_PLSRegression_x_scores_ = getattr(ret, '__module__', 'none') + '.' + ret.__class__.__name__\n",
    "    print('✅ sklearn.cross_decomposition._pls.PLSRegression.x_scores_:', type(ret)) # noqa E501\n",
    "except Exception as e:\n",
    "    type_sklearn_cross_decomposition__pls_PLSRegression_x_scores_ = '_syft_missing'\n",
    "    print('❌ sklearn.cross_decomposition._pls.PLSRegression.x_scores_: Return unavailable') # noqa E501\n",
    "    print(\"  Please fix this return type code until there is no exception\")\n",
    "    print('  Error:', e)\n"
   ]
  },
  {
   "cell_type": "code",
   "execution_count": null,
   "id": "miniature-chick",
   "metadata": {},
   "outputs": [],
   "source": [
    "# sklearn.cross_decomposition._pls.PLSRegression.x_std_\n",
    "try:\n",
    "    obj = class_constructor()\n",
    "    ret = obj.x_std_\n",
    "    type_sklearn_cross_decomposition__pls_PLSRegression_x_std_ = getattr(ret, '__module__', 'none') + '.' + ret.__class__.__name__\n",
    "    print('✅ sklearn.cross_decomposition._pls.PLSRegression.x_std_:', type(ret)) # noqa E501\n",
    "except Exception as e:\n",
    "    type_sklearn_cross_decomposition__pls_PLSRegression_x_std_ = '_syft_missing'\n",
    "    print('❌ sklearn.cross_decomposition._pls.PLSRegression.x_std_: Return unavailable') # noqa E501\n",
    "    print(\"  Please fix this return type code until there is no exception\")\n",
    "    print('  Error:', e)\n"
   ]
  },
  {
   "cell_type": "code",
   "execution_count": null,
   "id": "administrative-toner",
   "metadata": {},
   "outputs": [],
   "source": [
    "# sklearn.cross_decomposition._pls.PLSRegression.y_mean_\n",
    "try:\n",
    "    obj = class_constructor()\n",
    "    ret = obj.y_mean_\n",
    "    type_sklearn_cross_decomposition__pls_PLSRegression_y_mean_ = getattr(ret, '__module__', 'none') + '.' + ret.__class__.__name__\n",
    "    print('✅ sklearn.cross_decomposition._pls.PLSRegression.y_mean_:', type(ret)) # noqa E501\n",
    "except Exception as e:\n",
    "    type_sklearn_cross_decomposition__pls_PLSRegression_y_mean_ = '_syft_missing'\n",
    "    print('❌ sklearn.cross_decomposition._pls.PLSRegression.y_mean_: Return unavailable') # noqa E501\n",
    "    print(\"  Please fix this return type code until there is no exception\")\n",
    "    print('  Error:', e)\n"
   ]
  },
  {
   "cell_type": "code",
   "execution_count": null,
   "id": "compound-volunteer",
   "metadata": {},
   "outputs": [],
   "source": [
    "# sklearn.cross_decomposition._pls.PLSRegression.y_scores_\n",
    "try:\n",
    "    obj = class_constructor()\n",
    "    ret = obj.y_scores_\n",
    "    type_sklearn_cross_decomposition__pls_PLSRegression_y_scores_ = getattr(ret, '__module__', 'none') + '.' + ret.__class__.__name__\n",
    "    print('✅ sklearn.cross_decomposition._pls.PLSRegression.y_scores_:', type(ret)) # noqa E501\n",
    "except Exception as e:\n",
    "    type_sklearn_cross_decomposition__pls_PLSRegression_y_scores_ = '_syft_missing'\n",
    "    print('❌ sklearn.cross_decomposition._pls.PLSRegression.y_scores_: Return unavailable') # noqa E501\n",
    "    print(\"  Please fix this return type code until there is no exception\")\n",
    "    print('  Error:', e)\n"
   ]
  },
  {
   "cell_type": "code",
   "execution_count": null,
   "id": "adaptive-dryer",
   "metadata": {},
   "outputs": [],
   "source": [
    "# sklearn.cross_decomposition._pls.PLSRegression.y_std_\n",
    "try:\n",
    "    obj = class_constructor()\n",
    "    ret = obj.y_std_\n",
    "    type_sklearn_cross_decomposition__pls_PLSRegression_y_std_ = getattr(ret, '__module__', 'none') + '.' + ret.__class__.__name__\n",
    "    print('✅ sklearn.cross_decomposition._pls.PLSRegression.y_std_:', type(ret)) # noqa E501\n",
    "except Exception as e:\n",
    "    type_sklearn_cross_decomposition__pls_PLSRegression_y_std_ = '_syft_missing'\n",
    "    print('❌ sklearn.cross_decomposition._pls.PLSRegression.y_std_: Return unavailable') # noqa E501\n",
    "    print(\"  Please fix this return type code until there is no exception\")\n",
    "    print('  Error:', e)\n"
   ]
  }
 ],
 "metadata": {},
 "nbformat": 4,
 "nbformat_minor": 5
}
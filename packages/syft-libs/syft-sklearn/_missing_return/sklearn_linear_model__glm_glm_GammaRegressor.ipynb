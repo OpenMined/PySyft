{
 "cells": [
  {
   "cell_type": "markdown",
   "id": "proper-former",
   "metadata": {},
   "source": [
    "## sklearn.linear_model._glm.glm.GammaRegressor"
   ]
  },
  {
   "cell_type": "code",
   "execution_count": null,
   "id": "backed-commonwealth",
   "metadata": {},
   "outputs": [],
   "source": [
    "import sklearn\n",
    "def class_constructor(*args, **kwargs):\n",
    "    obj = sklearn.linear_model._glm.glm.GammaRegressor()\n",
    "    return obj\n"
   ]
  },
  {
   "cell_type": "code",
   "execution_count": null,
   "id": "greatest-analyst",
   "metadata": {},
   "outputs": [],
   "source": [
    "# sklearn.linear_model._glm.glm.GammaRegressor.__getstate__\n",
    "try:\n",
    "    obj = class_constructor() # noqa F821\n",
    "    ret = obj.__getstate__()\n",
    "    type_sklearn_linear_model__glm_glm_GammaRegressor___getstate__ = getattr(ret, '__module__', 'none') + '.' + ret.__class__.__name__\n",
    "    print('✅ sklearn.linear_model._glm.glm.GammaRegressor.__getstate__: ', type(ret)) # noqa E501\n",
    "except Exception as e:\n",
    "    type_sklearn_linear_model__glm_glm_GammaRegressor___getstate__ = '_syft_missing'\n",
    "    print('❌ sklearn.linear_model._glm.glm.GammaRegressor.__getstate__: Return unavailable') # noqa E501\n",
    "    print(\"  Please fix this return type code until there is no exception\")\n",
    "    print('  Error:', e)\n"
   ]
  },
  {
   "cell_type": "code",
   "execution_count": null,
   "id": "powerful-parcel",
   "metadata": {},
   "outputs": [],
   "source": [
    "# sklearn.linear_model._glm.glm.GammaRegressor.__repr__\n",
    "try:\n",
    "    obj = class_constructor() # noqa F821\n",
    "    ret = obj.__repr__()\n",
    "    type_sklearn_linear_model__glm_glm_GammaRegressor___repr__ = getattr(ret, '__module__', 'none') + '.' + ret.__class__.__name__\n",
    "    print('✅ sklearn.linear_model._glm.glm.GammaRegressor.__repr__: ', type(ret)) # noqa E501\n",
    "except Exception as e:\n",
    "    type_sklearn_linear_model__glm_glm_GammaRegressor___repr__ = '_syft_missing'\n",
    "    print('❌ sklearn.linear_model._glm.glm.GammaRegressor.__repr__: Return unavailable') # noqa E501\n",
    "    print(\"  Please fix this return type code until there is no exception\")\n",
    "    print('  Error:', e)\n"
   ]
  },
  {
   "cell_type": "code",
   "execution_count": null,
   "id": "found-throat",
   "metadata": {},
   "outputs": [],
   "source": [
    "# sklearn.linear_model._glm.glm.GammaRegressor.__setstate__\n",
    "try:\n",
    "    obj = class_constructor() # noqa F821\n",
    "    ret = obj.__setstate__()\n",
    "    type_sklearn_linear_model__glm_glm_GammaRegressor___setstate__ = getattr(ret, '__module__', 'none') + '.' + ret.__class__.__name__\n",
    "    print('✅ sklearn.linear_model._glm.glm.GammaRegressor.__setstate__: ', type(ret)) # noqa E501\n",
    "except Exception as e:\n",
    "    type_sklearn_linear_model__glm_glm_GammaRegressor___setstate__ = '_syft_missing'\n",
    "    print('❌ sklearn.linear_model._glm.glm.GammaRegressor.__setstate__: Return unavailable') # noqa E501\n",
    "    print(\"  Please fix this return type code until there is no exception\")\n",
    "    print('  Error:', e)\n"
   ]
  },
  {
   "cell_type": "code",
   "execution_count": null,
   "id": "useful-wrapping",
   "metadata": {},
   "outputs": [],
   "source": [
    "# sklearn.linear_model._glm.glm.GammaRegressor._check_n_features\n",
    "try:\n",
    "    obj = class_constructor() # noqa F821\n",
    "    ret = obj._check_n_features()\n",
    "    type_sklearn_linear_model__glm_glm_GammaRegressor__check_n_features = getattr(ret, '__module__', 'none') + '.' + ret.__class__.__name__\n",
    "    print('✅ sklearn.linear_model._glm.glm.GammaRegressor._check_n_features: ', type(ret)) # noqa E501\n",
    "except Exception as e:\n",
    "    type_sklearn_linear_model__glm_glm_GammaRegressor__check_n_features = '_syft_missing'\n",
    "    print('❌ sklearn.linear_model._glm.glm.GammaRegressor._check_n_features: Return unavailable') # noqa E501\n",
    "    print(\"  Please fix this return type code until there is no exception\")\n",
    "    print('  Error:', e)\n"
   ]
  },
  {
   "cell_type": "code",
   "execution_count": null,
   "id": "stuffed-stomach",
   "metadata": {},
   "outputs": [],
   "source": [
    "# sklearn.linear_model._glm.glm.GammaRegressor._get_param_names\n",
    "try:\n",
    "    obj = class_constructor() # noqa F821\n",
    "    ret = obj._get_param_names()\n",
    "    type_sklearn_linear_model__glm_glm_GammaRegressor__get_param_names = getattr(ret, '__module__', 'none') + '.' + ret.__class__.__name__\n",
    "    print('✅ sklearn.linear_model._glm.glm.GammaRegressor._get_param_names: ', type(ret)) # noqa E501\n",
    "except Exception as e:\n",
    "    type_sklearn_linear_model__glm_glm_GammaRegressor__get_param_names = '_syft_missing'\n",
    "    print('❌ sklearn.linear_model._glm.glm.GammaRegressor._get_param_names: Return unavailable') # noqa E501\n",
    "    print(\"  Please fix this return type code until there is no exception\")\n",
    "    print('  Error:', e)\n"
   ]
  },
  {
   "cell_type": "code",
   "execution_count": null,
   "id": "dedicated-delivery",
   "metadata": {},
   "outputs": [],
   "source": [
    "# sklearn.linear_model._glm.glm.GammaRegressor._get_tags\n",
    "try:\n",
    "    obj = class_constructor() # noqa F821\n",
    "    ret = obj._get_tags()\n",
    "    type_sklearn_linear_model__glm_glm_GammaRegressor__get_tags = getattr(ret, '__module__', 'none') + '.' + ret.__class__.__name__\n",
    "    print('✅ sklearn.linear_model._glm.glm.GammaRegressor._get_tags: ', type(ret)) # noqa E501\n",
    "except Exception as e:\n",
    "    type_sklearn_linear_model__glm_glm_GammaRegressor__get_tags = '_syft_missing'\n",
    "    print('❌ sklearn.linear_model._glm.glm.GammaRegressor._get_tags: Return unavailable') # noqa E501\n",
    "    print(\"  Please fix this return type code until there is no exception\")\n",
    "    print('  Error:', e)\n"
   ]
  },
  {
   "cell_type": "code",
   "execution_count": null,
   "id": "experienced-pollution",
   "metadata": {},
   "outputs": [],
   "source": [
    "# sklearn.linear_model._glm.glm.GammaRegressor._linear_predictor\n",
    "try:\n",
    "    obj = class_constructor() # noqa F821\n",
    "    ret = obj._linear_predictor()\n",
    "    type_sklearn_linear_model__glm_glm_GammaRegressor__linear_predictor = getattr(ret, '__module__', 'none') + '.' + ret.__class__.__name__\n",
    "    print('✅ sklearn.linear_model._glm.glm.GammaRegressor._linear_predictor: ', type(ret)) # noqa E501\n",
    "except Exception as e:\n",
    "    type_sklearn_linear_model__glm_glm_GammaRegressor__linear_predictor = '_syft_missing'\n",
    "    print('❌ sklearn.linear_model._glm.glm.GammaRegressor._linear_predictor: Return unavailable') # noqa E501\n",
    "    print(\"  Please fix this return type code until there is no exception\")\n",
    "    print('  Error:', e)\n"
   ]
  },
  {
   "cell_type": "code",
   "execution_count": null,
   "id": "designed-technician",
   "metadata": {},
   "outputs": [],
   "source": [
    "# sklearn.linear_model._glm.glm.GammaRegressor._more_tags\n",
    "try:\n",
    "    obj = class_constructor() # noqa F821\n",
    "    ret = obj._more_tags()\n",
    "    type_sklearn_linear_model__glm_glm_GammaRegressor__more_tags = getattr(ret, '__module__', 'none') + '.' + ret.__class__.__name__\n",
    "    print('✅ sklearn.linear_model._glm.glm.GammaRegressor._more_tags: ', type(ret)) # noqa E501\n",
    "except Exception as e:\n",
    "    type_sklearn_linear_model__glm_glm_GammaRegressor__more_tags = '_syft_missing'\n",
    "    print('❌ sklearn.linear_model._glm.glm.GammaRegressor._more_tags: Return unavailable') # noqa E501\n",
    "    print(\"  Please fix this return type code until there is no exception\")\n",
    "    print('  Error:', e)\n"
   ]
  },
  {
   "cell_type": "code",
   "execution_count": null,
   "id": "rubber-southeast",
   "metadata": {},
   "outputs": [],
   "source": [
    "# sklearn.linear_model._glm.glm.GammaRegressor._repr_html_\n",
    "try:\n",
    "    obj = class_constructor()\n",
    "    ret = obj._repr_html_\n",
    "    type_sklearn_linear_model__glm_glm_GammaRegressor__repr_html_ = getattr(ret, '__module__', 'none') + '.' + ret.__class__.__name__\n",
    "    print('✅ sklearn.linear_model._glm.glm.GammaRegressor._repr_html_:', type(ret)) # noqa E501\n",
    "except Exception as e:\n",
    "    type_sklearn_linear_model__glm_glm_GammaRegressor__repr_html_ = '_syft_missing'\n",
    "    print('❌ sklearn.linear_model._glm.glm.GammaRegressor._repr_html_: Return unavailable') # noqa E501\n",
    "    print(\"  Please fix this return type code until there is no exception\")\n",
    "    print('  Error:', e)\n"
   ]
  },
  {
   "cell_type": "code",
   "execution_count": null,
   "id": "optional-houston",
   "metadata": {},
   "outputs": [],
   "source": [
    "# sklearn.linear_model._glm.glm.GammaRegressor._repr_html_inner\n",
    "try:\n",
    "    obj = class_constructor() # noqa F821\n",
    "    ret = obj._repr_html_inner()\n",
    "    type_sklearn_linear_model__glm_glm_GammaRegressor__repr_html_inner = getattr(ret, '__module__', 'none') + '.' + ret.__class__.__name__\n",
    "    print('✅ sklearn.linear_model._glm.glm.GammaRegressor._repr_html_inner: ', type(ret)) # noqa E501\n",
    "except Exception as e:\n",
    "    type_sklearn_linear_model__glm_glm_GammaRegressor__repr_html_inner = '_syft_missing'\n",
    "    print('❌ sklearn.linear_model._glm.glm.GammaRegressor._repr_html_inner: Return unavailable') # noqa E501\n",
    "    print(\"  Please fix this return type code until there is no exception\")\n",
    "    print('  Error:', e)\n"
   ]
  },
  {
   "cell_type": "code",
   "execution_count": null,
   "id": "quality-baking",
   "metadata": {},
   "outputs": [],
   "source": [
    "# sklearn.linear_model._glm.glm.GammaRegressor._repr_mimebundle_\n",
    "try:\n",
    "    obj = class_constructor() # noqa F821\n",
    "    ret = obj._repr_mimebundle_()\n",
    "    type_sklearn_linear_model__glm_glm_GammaRegressor__repr_mimebundle_ = getattr(ret, '__module__', 'none') + '.' + ret.__class__.__name__\n",
    "    print('✅ sklearn.linear_model._glm.glm.GammaRegressor._repr_mimebundle_: ', type(ret)) # noqa E501\n",
    "except Exception as e:\n",
    "    type_sklearn_linear_model__glm_glm_GammaRegressor__repr_mimebundle_ = '_syft_missing'\n",
    "    print('❌ sklearn.linear_model._glm.glm.GammaRegressor._repr_mimebundle_: Return unavailable') # noqa E501\n",
    "    print(\"  Please fix this return type code until there is no exception\")\n",
    "    print('  Error:', e)\n"
   ]
  },
  {
   "cell_type": "code",
   "execution_count": null,
   "id": "postal-jacket",
   "metadata": {},
   "outputs": [],
   "source": [
    "# sklearn.linear_model._glm.glm.GammaRegressor._validate_data\n",
    "try:\n",
    "    obj = class_constructor() # noqa F821\n",
    "    ret = obj._validate_data()\n",
    "    type_sklearn_linear_model__glm_glm_GammaRegressor__validate_data = getattr(ret, '__module__', 'none') + '.' + ret.__class__.__name__\n",
    "    print('✅ sklearn.linear_model._glm.glm.GammaRegressor._validate_data: ', type(ret)) # noqa E501\n",
    "except Exception as e:\n",
    "    type_sklearn_linear_model__glm_glm_GammaRegressor__validate_data = '_syft_missing'\n",
    "    print('❌ sklearn.linear_model._glm.glm.GammaRegressor._validate_data: Return unavailable') # noqa E501\n",
    "    print(\"  Please fix this return type code until there is no exception\")\n",
    "    print('  Error:', e)\n"
   ]
  },
  {
   "cell_type": "code",
   "execution_count": null,
   "id": "revised-companion",
   "metadata": {},
   "outputs": [],
   "source": [
    "# sklearn.linear_model._glm.glm.GammaRegressor.family\n",
    "try:\n",
    "    obj = class_constructor()\n",
    "    ret = obj.family\n",
    "    type_sklearn_linear_model__glm_glm_GammaRegressor_family = getattr(ret, '__module__', 'none') + '.' + ret.__class__.__name__\n",
    "    print('✅ sklearn.linear_model._glm.glm.GammaRegressor.family:', type(ret)) # noqa E501\n",
    "except Exception as e:\n",
    "    type_sklearn_linear_model__glm_glm_GammaRegressor_family = '_syft_missing'\n",
    "    print('❌ sklearn.linear_model._glm.glm.GammaRegressor.family: Return unavailable') # noqa E501\n",
    "    print(\"  Please fix this return type code until there is no exception\")\n",
    "    print('  Error:', e)\n"
   ]
  },
  {
   "cell_type": "code",
   "execution_count": null,
   "id": "super-luxury",
   "metadata": {},
   "outputs": [],
   "source": [
    "# sklearn.linear_model._glm.glm.GammaRegressor.fit\n",
    "try:\n",
    "    obj = class_constructor() # noqa F821\n",
    "    ret = obj.fit()\n",
    "    type_sklearn_linear_model__glm_glm_GammaRegressor_fit = getattr(ret, '__module__', 'none') + '.' + ret.__class__.__name__\n",
    "    print('✅ sklearn.linear_model._glm.glm.GammaRegressor.fit: ', type(ret)) # noqa E501\n",
    "except Exception as e:\n",
    "    type_sklearn_linear_model__glm_glm_GammaRegressor_fit = '_syft_missing'\n",
    "    print('❌ sklearn.linear_model._glm.glm.GammaRegressor.fit: Return unavailable') # noqa E501\n",
    "    print(\"  Please fix this return type code until there is no exception\")\n",
    "    print('  Error:', e)\n"
   ]
  },
  {
   "cell_type": "code",
   "execution_count": null,
   "id": "creative-detector",
   "metadata": {},
   "outputs": [],
   "source": [
    "# sklearn.linear_model._glm.glm.GammaRegressor.get_params\n",
    "try:\n",
    "    obj = class_constructor() # noqa F821\n",
    "    ret = obj.get_params()\n",
    "    type_sklearn_linear_model__glm_glm_GammaRegressor_get_params = getattr(ret, '__module__', 'none') + '.' + ret.__class__.__name__\n",
    "    print('✅ sklearn.linear_model._glm.glm.GammaRegressor.get_params: ', type(ret)) # noqa E501\n",
    "except Exception as e:\n",
    "    type_sklearn_linear_model__glm_glm_GammaRegressor_get_params = '_syft_missing'\n",
    "    print('❌ sklearn.linear_model._glm.glm.GammaRegressor.get_params: Return unavailable') # noqa E501\n",
    "    print(\"  Please fix this return type code until there is no exception\")\n",
    "    print('  Error:', e)\n"
   ]
  },
  {
   "cell_type": "code",
   "execution_count": null,
   "id": "lasting-funeral",
   "metadata": {},
   "outputs": [],
   "source": [
    "# sklearn.linear_model._glm.glm.GammaRegressor.predict\n",
    "try:\n",
    "    obj = class_constructor() # noqa F821\n",
    "    ret = obj.predict()\n",
    "    type_sklearn_linear_model__glm_glm_GammaRegressor_predict = getattr(ret, '__module__', 'none') + '.' + ret.__class__.__name__\n",
    "    print('✅ sklearn.linear_model._glm.glm.GammaRegressor.predict: ', type(ret)) # noqa E501\n",
    "except Exception as e:\n",
    "    type_sklearn_linear_model__glm_glm_GammaRegressor_predict = '_syft_missing'\n",
    "    print('❌ sklearn.linear_model._glm.glm.GammaRegressor.predict: Return unavailable') # noqa E501\n",
    "    print(\"  Please fix this return type code until there is no exception\")\n",
    "    print('  Error:', e)\n"
   ]
  },
  {
   "cell_type": "code",
   "execution_count": null,
   "id": "desperate-product",
   "metadata": {},
   "outputs": [],
   "source": [
    "# sklearn.linear_model._glm.glm.GammaRegressor.score\n",
    "try:\n",
    "    obj = class_constructor() # noqa F821\n",
    "    ret = obj.score()\n",
    "    type_sklearn_linear_model__glm_glm_GammaRegressor_score = getattr(ret, '__module__', 'none') + '.' + ret.__class__.__name__\n",
    "    print('✅ sklearn.linear_model._glm.glm.GammaRegressor.score: ', type(ret)) # noqa E501\n",
    "except Exception as e:\n",
    "    type_sklearn_linear_model__glm_glm_GammaRegressor_score = '_syft_missing'\n",
    "    print('❌ sklearn.linear_model._glm.glm.GammaRegressor.score: Return unavailable') # noqa E501\n",
    "    print(\"  Please fix this return type code until there is no exception\")\n",
    "    print('  Error:', e)\n"
   ]
  },
  {
   "cell_type": "code",
   "execution_count": null,
   "id": "limiting-chamber",
   "metadata": {},
   "outputs": [],
   "source": [
    "# sklearn.linear_model._glm.glm.GammaRegressor.set_params\n",
    "try:\n",
    "    obj = class_constructor() # noqa F821\n",
    "    ret = obj.set_params()\n",
    "    type_sklearn_linear_model__glm_glm_GammaRegressor_set_params = getattr(ret, '__module__', 'none') + '.' + ret.__class__.__name__\n",
    "    print('✅ sklearn.linear_model._glm.glm.GammaRegressor.set_params: ', type(ret)) # noqa E501\n",
    "except Exception as e:\n",
    "    type_sklearn_linear_model__glm_glm_GammaRegressor_set_params = '_syft_missing'\n",
    "    print('❌ sklearn.linear_model._glm.glm.GammaRegressor.set_params: Return unavailable') # noqa E501\n",
    "    print(\"  Please fix this return type code until there is no exception\")\n",
    "    print('  Error:', e)\n"
   ]
  }
 ],
 "metadata": {},
 "nbformat": 4,
 "nbformat_minor": 5
}
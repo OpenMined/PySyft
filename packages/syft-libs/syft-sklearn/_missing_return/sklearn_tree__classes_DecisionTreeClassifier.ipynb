{
 "cells": [
  {
   "cell_type": "markdown",
   "id": "innovative-logging",
   "metadata": {},
   "source": [
    "## sklearn.tree._classes.DecisionTreeClassifier"
   ]
  },
  {
   "cell_type": "code",
   "execution_count": null,
   "id": "isolated-education",
   "metadata": {},
   "outputs": [],
   "source": [
    "import sklearn\n",
    "def class_constructor(*args, **kwargs):\n",
    "    obj = sklearn.tree._classes.DecisionTreeClassifier()\n",
    "    return obj\n"
   ]
  },
  {
   "cell_type": "code",
   "execution_count": null,
   "id": "grave-virus",
   "metadata": {},
   "outputs": [],
   "source": [
    "# sklearn.tree._classes.DecisionTreeClassifier.__getstate__\n",
    "try:\n",
    "    obj = class_constructor() # noqa F821\n",
    "    ret = obj.__getstate__()\n",
    "    type_sklearn_tree__classes_DecisionTreeClassifier___getstate__ = getattr(ret, '__module__', 'none') + '.' + ret.__class__.__name__\n",
    "    print('✅ sklearn.tree._classes.DecisionTreeClassifier.__getstate__: ', type(ret)) # noqa E501\n",
    "except Exception as e:\n",
    "    type_sklearn_tree__classes_DecisionTreeClassifier___getstate__ = '_syft_missing'\n",
    "    print('❌ sklearn.tree._classes.DecisionTreeClassifier.__getstate__: Return unavailable') # noqa E501\n",
    "    print(\"  Please fix this return type code until there is no exception\")\n",
    "    print('  Error:', e)\n"
   ]
  },
  {
   "cell_type": "code",
   "execution_count": null,
   "id": "directed-disclaimer",
   "metadata": {},
   "outputs": [],
   "source": [
    "# sklearn.tree._classes.DecisionTreeClassifier.__repr__\n",
    "try:\n",
    "    obj = class_constructor() # noqa F821\n",
    "    ret = obj.__repr__()\n",
    "    type_sklearn_tree__classes_DecisionTreeClassifier___repr__ = getattr(ret, '__module__', 'none') + '.' + ret.__class__.__name__\n",
    "    print('✅ sklearn.tree._classes.DecisionTreeClassifier.__repr__: ', type(ret)) # noqa E501\n",
    "except Exception as e:\n",
    "    type_sklearn_tree__classes_DecisionTreeClassifier___repr__ = '_syft_missing'\n",
    "    print('❌ sklearn.tree._classes.DecisionTreeClassifier.__repr__: Return unavailable') # noqa E501\n",
    "    print(\"  Please fix this return type code until there is no exception\")\n",
    "    print('  Error:', e)\n"
   ]
  },
  {
   "cell_type": "code",
   "execution_count": null,
   "id": "silver-martin",
   "metadata": {},
   "outputs": [],
   "source": [
    "# sklearn.tree._classes.DecisionTreeClassifier.__setstate__\n",
    "try:\n",
    "    obj = class_constructor() # noqa F821\n",
    "    ret = obj.__setstate__()\n",
    "    type_sklearn_tree__classes_DecisionTreeClassifier___setstate__ = getattr(ret, '__module__', 'none') + '.' + ret.__class__.__name__\n",
    "    print('✅ sklearn.tree._classes.DecisionTreeClassifier.__setstate__: ', type(ret)) # noqa E501\n",
    "except Exception as e:\n",
    "    type_sklearn_tree__classes_DecisionTreeClassifier___setstate__ = '_syft_missing'\n",
    "    print('❌ sklearn.tree._classes.DecisionTreeClassifier.__setstate__: Return unavailable') # noqa E501\n",
    "    print(\"  Please fix this return type code until there is no exception\")\n",
    "    print('  Error:', e)\n"
   ]
  },
  {
   "cell_type": "code",
   "execution_count": null,
   "id": "nuclear-subsection",
   "metadata": {},
   "outputs": [],
   "source": [
    "# sklearn.tree._classes.DecisionTreeClassifier._check_n_features\n",
    "try:\n",
    "    obj = class_constructor() # noqa F821\n",
    "    ret = obj._check_n_features()\n",
    "    type_sklearn_tree__classes_DecisionTreeClassifier__check_n_features = getattr(ret, '__module__', 'none') + '.' + ret.__class__.__name__\n",
    "    print('✅ sklearn.tree._classes.DecisionTreeClassifier._check_n_features: ', type(ret)) # noqa E501\n",
    "except Exception as e:\n",
    "    type_sklearn_tree__classes_DecisionTreeClassifier__check_n_features = '_syft_missing'\n",
    "    print('❌ sklearn.tree._classes.DecisionTreeClassifier._check_n_features: Return unavailable') # noqa E501\n",
    "    print(\"  Please fix this return type code until there is no exception\")\n",
    "    print('  Error:', e)\n"
   ]
  },
  {
   "cell_type": "code",
   "execution_count": null,
   "id": "floppy-wellington",
   "metadata": {},
   "outputs": [],
   "source": [
    "# sklearn.tree._classes.DecisionTreeClassifier._get_param_names\n",
    "try:\n",
    "    obj = class_constructor() # noqa F821\n",
    "    ret = obj._get_param_names()\n",
    "    type_sklearn_tree__classes_DecisionTreeClassifier__get_param_names = getattr(ret, '__module__', 'none') + '.' + ret.__class__.__name__\n",
    "    print('✅ sklearn.tree._classes.DecisionTreeClassifier._get_param_names: ', type(ret)) # noqa E501\n",
    "except Exception as e:\n",
    "    type_sklearn_tree__classes_DecisionTreeClassifier__get_param_names = '_syft_missing'\n",
    "    print('❌ sklearn.tree._classes.DecisionTreeClassifier._get_param_names: Return unavailable') # noqa E501\n",
    "    print(\"  Please fix this return type code until there is no exception\")\n",
    "    print('  Error:', e)\n"
   ]
  },
  {
   "cell_type": "code",
   "execution_count": null,
   "id": "compact-tuition",
   "metadata": {},
   "outputs": [],
   "source": [
    "# sklearn.tree._classes.DecisionTreeClassifier._get_tags\n",
    "try:\n",
    "    obj = class_constructor() # noqa F821\n",
    "    ret = obj._get_tags()\n",
    "    type_sklearn_tree__classes_DecisionTreeClassifier__get_tags = getattr(ret, '__module__', 'none') + '.' + ret.__class__.__name__\n",
    "    print('✅ sklearn.tree._classes.DecisionTreeClassifier._get_tags: ', type(ret)) # noqa E501\n",
    "except Exception as e:\n",
    "    type_sklearn_tree__classes_DecisionTreeClassifier__get_tags = '_syft_missing'\n",
    "    print('❌ sklearn.tree._classes.DecisionTreeClassifier._get_tags: Return unavailable') # noqa E501\n",
    "    print(\"  Please fix this return type code until there is no exception\")\n",
    "    print('  Error:', e)\n"
   ]
  },
  {
   "cell_type": "code",
   "execution_count": null,
   "id": "statutory-notice",
   "metadata": {},
   "outputs": [],
   "source": [
    "# sklearn.tree._classes.DecisionTreeClassifier._more_tags\n",
    "try:\n",
    "    obj = class_constructor() # noqa F821\n",
    "    ret = obj._more_tags()\n",
    "    type_sklearn_tree__classes_DecisionTreeClassifier__more_tags = getattr(ret, '__module__', 'none') + '.' + ret.__class__.__name__\n",
    "    print('✅ sklearn.tree._classes.DecisionTreeClassifier._more_tags: ', type(ret)) # noqa E501\n",
    "except Exception as e:\n",
    "    type_sklearn_tree__classes_DecisionTreeClassifier__more_tags = '_syft_missing'\n",
    "    print('❌ sklearn.tree._classes.DecisionTreeClassifier._more_tags: Return unavailable') # noqa E501\n",
    "    print(\"  Please fix this return type code until there is no exception\")\n",
    "    print('  Error:', e)\n"
   ]
  },
  {
   "cell_type": "code",
   "execution_count": null,
   "id": "assumed-translation",
   "metadata": {},
   "outputs": [],
   "source": [
    "# sklearn.tree._classes.DecisionTreeClassifier._prune_tree\n",
    "try:\n",
    "    obj = class_constructor() # noqa F821\n",
    "    ret = obj._prune_tree()\n",
    "    type_sklearn_tree__classes_DecisionTreeClassifier__prune_tree = getattr(ret, '__module__', 'none') + '.' + ret.__class__.__name__\n",
    "    print('✅ sklearn.tree._classes.DecisionTreeClassifier._prune_tree: ', type(ret)) # noqa E501\n",
    "except Exception as e:\n",
    "    type_sklearn_tree__classes_DecisionTreeClassifier__prune_tree = '_syft_missing'\n",
    "    print('❌ sklearn.tree._classes.DecisionTreeClassifier._prune_tree: Return unavailable') # noqa E501\n",
    "    print(\"  Please fix this return type code until there is no exception\")\n",
    "    print('  Error:', e)\n"
   ]
  },
  {
   "cell_type": "code",
   "execution_count": null,
   "id": "communist-starter",
   "metadata": {},
   "outputs": [],
   "source": [
    "# sklearn.tree._classes.DecisionTreeClassifier._repr_html_\n",
    "try:\n",
    "    obj = class_constructor()\n",
    "    ret = obj._repr_html_\n",
    "    type_sklearn_tree__classes_DecisionTreeClassifier__repr_html_ = getattr(ret, '__module__', 'none') + '.' + ret.__class__.__name__\n",
    "    print('✅ sklearn.tree._classes.DecisionTreeClassifier._repr_html_:', type(ret)) # noqa E501\n",
    "except Exception as e:\n",
    "    type_sklearn_tree__classes_DecisionTreeClassifier__repr_html_ = '_syft_missing'\n",
    "    print('❌ sklearn.tree._classes.DecisionTreeClassifier._repr_html_: Return unavailable') # noqa E501\n",
    "    print(\"  Please fix this return type code until there is no exception\")\n",
    "    print('  Error:', e)\n"
   ]
  },
  {
   "cell_type": "code",
   "execution_count": null,
   "id": "present-wales",
   "metadata": {},
   "outputs": [],
   "source": [
    "# sklearn.tree._classes.DecisionTreeClassifier._repr_html_inner\n",
    "try:\n",
    "    obj = class_constructor() # noqa F821\n",
    "    ret = obj._repr_html_inner()\n",
    "    type_sklearn_tree__classes_DecisionTreeClassifier__repr_html_inner = getattr(ret, '__module__', 'none') + '.' + ret.__class__.__name__\n",
    "    print('✅ sklearn.tree._classes.DecisionTreeClassifier._repr_html_inner: ', type(ret)) # noqa E501\n",
    "except Exception as e:\n",
    "    type_sklearn_tree__classes_DecisionTreeClassifier__repr_html_inner = '_syft_missing'\n",
    "    print('❌ sklearn.tree._classes.DecisionTreeClassifier._repr_html_inner: Return unavailable') # noqa E501\n",
    "    print(\"  Please fix this return type code until there is no exception\")\n",
    "    print('  Error:', e)\n"
   ]
  },
  {
   "cell_type": "code",
   "execution_count": null,
   "id": "artistic-marine",
   "metadata": {},
   "outputs": [],
   "source": [
    "# sklearn.tree._classes.DecisionTreeClassifier._repr_mimebundle_\n",
    "try:\n",
    "    obj = class_constructor() # noqa F821\n",
    "    ret = obj._repr_mimebundle_()\n",
    "    type_sklearn_tree__classes_DecisionTreeClassifier__repr_mimebundle_ = getattr(ret, '__module__', 'none') + '.' + ret.__class__.__name__\n",
    "    print('✅ sklearn.tree._classes.DecisionTreeClassifier._repr_mimebundle_: ', type(ret)) # noqa E501\n",
    "except Exception as e:\n",
    "    type_sklearn_tree__classes_DecisionTreeClassifier__repr_mimebundle_ = '_syft_missing'\n",
    "    print('❌ sklearn.tree._classes.DecisionTreeClassifier._repr_mimebundle_: Return unavailable') # noqa E501\n",
    "    print(\"  Please fix this return type code until there is no exception\")\n",
    "    print('  Error:', e)\n"
   ]
  },
  {
   "cell_type": "code",
   "execution_count": null,
   "id": "commercial-springer",
   "metadata": {},
   "outputs": [],
   "source": [
    "# sklearn.tree._classes.DecisionTreeClassifier._validate_X_predict\n",
    "try:\n",
    "    obj = class_constructor() # noqa F821\n",
    "    ret = obj._validate_X_predict()\n",
    "    type_sklearn_tree__classes_DecisionTreeClassifier__validate_X_predict = getattr(ret, '__module__', 'none') + '.' + ret.__class__.__name__\n",
    "    print('✅ sklearn.tree._classes.DecisionTreeClassifier._validate_X_predict: ', type(ret)) # noqa E501\n",
    "except Exception as e:\n",
    "    type_sklearn_tree__classes_DecisionTreeClassifier__validate_X_predict = '_syft_missing'\n",
    "    print('❌ sklearn.tree._classes.DecisionTreeClassifier._validate_X_predict: Return unavailable') # noqa E501\n",
    "    print(\"  Please fix this return type code until there is no exception\")\n",
    "    print('  Error:', e)\n"
   ]
  },
  {
   "cell_type": "code",
   "execution_count": null,
   "id": "moderate-dictionary",
   "metadata": {},
   "outputs": [],
   "source": [
    "# sklearn.tree._classes.DecisionTreeClassifier._validate_data\n",
    "try:\n",
    "    obj = class_constructor() # noqa F821\n",
    "    ret = obj._validate_data()\n",
    "    type_sklearn_tree__classes_DecisionTreeClassifier__validate_data = getattr(ret, '__module__', 'none') + '.' + ret.__class__.__name__\n",
    "    print('✅ sklearn.tree._classes.DecisionTreeClassifier._validate_data: ', type(ret)) # noqa E501\n",
    "except Exception as e:\n",
    "    type_sklearn_tree__classes_DecisionTreeClassifier__validate_data = '_syft_missing'\n",
    "    print('❌ sklearn.tree._classes.DecisionTreeClassifier._validate_data: Return unavailable') # noqa E501\n",
    "    print(\"  Please fix this return type code until there is no exception\")\n",
    "    print('  Error:', e)\n"
   ]
  },
  {
   "cell_type": "code",
   "execution_count": null,
   "id": "nominated-serbia",
   "metadata": {},
   "outputs": [],
   "source": [
    "# sklearn.tree._classes.DecisionTreeClassifier.apply\n",
    "try:\n",
    "    obj = class_constructor() # noqa F821\n",
    "    ret = obj.apply()\n",
    "    type_sklearn_tree__classes_DecisionTreeClassifier_apply = getattr(ret, '__module__', 'none') + '.' + ret.__class__.__name__\n",
    "    print('✅ sklearn.tree._classes.DecisionTreeClassifier.apply: ', type(ret)) # noqa E501\n",
    "except Exception as e:\n",
    "    type_sklearn_tree__classes_DecisionTreeClassifier_apply = '_syft_missing'\n",
    "    print('❌ sklearn.tree._classes.DecisionTreeClassifier.apply: Return unavailable') # noqa E501\n",
    "    print(\"  Please fix this return type code until there is no exception\")\n",
    "    print('  Error:', e)\n"
   ]
  },
  {
   "cell_type": "code",
   "execution_count": null,
   "id": "loose-structure",
   "metadata": {},
   "outputs": [],
   "source": [
    "# sklearn.tree._classes.DecisionTreeClassifier.cost_complexity_pruning_path\n",
    "try:\n",
    "    obj = class_constructor() # noqa F821\n",
    "    ret = obj.cost_complexity_pruning_path()\n",
    "    type_sklearn_tree__classes_DecisionTreeClassifier_cost_complexity_pruning_path = getattr(ret, '__module__', 'none') + '.' + ret.__class__.__name__\n",
    "    print('✅ sklearn.tree._classes.DecisionTreeClassifier.cost_complexity_pruning_path: ', type(ret)) # noqa E501\n",
    "except Exception as e:\n",
    "    type_sklearn_tree__classes_DecisionTreeClassifier_cost_complexity_pruning_path = '_syft_missing'\n",
    "    print('❌ sklearn.tree._classes.DecisionTreeClassifier.cost_complexity_pruning_path: Return unavailable') # noqa E501\n",
    "    print(\"  Please fix this return type code until there is no exception\")\n",
    "    print('  Error:', e)\n"
   ]
  },
  {
   "cell_type": "code",
   "execution_count": null,
   "id": "finnish-tokyo",
   "metadata": {},
   "outputs": [],
   "source": [
    "# sklearn.tree._classes.DecisionTreeClassifier.decision_path\n",
    "try:\n",
    "    obj = class_constructor() # noqa F821\n",
    "    ret = obj.decision_path()\n",
    "    type_sklearn_tree__classes_DecisionTreeClassifier_decision_path = getattr(ret, '__module__', 'none') + '.' + ret.__class__.__name__\n",
    "    print('✅ sklearn.tree._classes.DecisionTreeClassifier.decision_path: ', type(ret)) # noqa E501\n",
    "except Exception as e:\n",
    "    type_sklearn_tree__classes_DecisionTreeClassifier_decision_path = '_syft_missing'\n",
    "    print('❌ sklearn.tree._classes.DecisionTreeClassifier.decision_path: Return unavailable') # noqa E501\n",
    "    print(\"  Please fix this return type code until there is no exception\")\n",
    "    print('  Error:', e)\n"
   ]
  },
  {
   "cell_type": "code",
   "execution_count": null,
   "id": "soviet-imperial",
   "metadata": {},
   "outputs": [],
   "source": [
    "# sklearn.tree._classes.DecisionTreeClassifier.feature_importances_\n",
    "try:\n",
    "    obj = class_constructor()\n",
    "    ret = obj.feature_importances_\n",
    "    type_sklearn_tree__classes_DecisionTreeClassifier_feature_importances_ = getattr(ret, '__module__', 'none') + '.' + ret.__class__.__name__\n",
    "    print('✅ sklearn.tree._classes.DecisionTreeClassifier.feature_importances_:', type(ret)) # noqa E501\n",
    "except Exception as e:\n",
    "    type_sklearn_tree__classes_DecisionTreeClassifier_feature_importances_ = '_syft_missing'\n",
    "    print('❌ sklearn.tree._classes.DecisionTreeClassifier.feature_importances_: Return unavailable') # noqa E501\n",
    "    print(\"  Please fix this return type code until there is no exception\")\n",
    "    print('  Error:', e)\n"
   ]
  },
  {
   "cell_type": "code",
   "execution_count": null,
   "id": "equal-elements",
   "metadata": {},
   "outputs": [],
   "source": [
    "# sklearn.tree._classes.DecisionTreeClassifier.fit\n",
    "try:\n",
    "    obj = class_constructor() # noqa F821\n",
    "    ret = obj.fit()\n",
    "    type_sklearn_tree__classes_DecisionTreeClassifier_fit = getattr(ret, '__module__', 'none') + '.' + ret.__class__.__name__\n",
    "    print('✅ sklearn.tree._classes.DecisionTreeClassifier.fit: ', type(ret)) # noqa E501\n",
    "except Exception as e:\n",
    "    type_sklearn_tree__classes_DecisionTreeClassifier_fit = '_syft_missing'\n",
    "    print('❌ sklearn.tree._classes.DecisionTreeClassifier.fit: Return unavailable') # noqa E501\n",
    "    print(\"  Please fix this return type code until there is no exception\")\n",
    "    print('  Error:', e)\n"
   ]
  },
  {
   "cell_type": "code",
   "execution_count": null,
   "id": "funny-single",
   "metadata": {},
   "outputs": [],
   "source": [
    "# sklearn.tree._classes.DecisionTreeClassifier.get_depth\n",
    "try:\n",
    "    obj = class_constructor() # noqa F821\n",
    "    ret = obj.get_depth()\n",
    "    type_sklearn_tree__classes_DecisionTreeClassifier_get_depth = getattr(ret, '__module__', 'none') + '.' + ret.__class__.__name__\n",
    "    print('✅ sklearn.tree._classes.DecisionTreeClassifier.get_depth: ', type(ret)) # noqa E501\n",
    "except Exception as e:\n",
    "    type_sklearn_tree__classes_DecisionTreeClassifier_get_depth = '_syft_missing'\n",
    "    print('❌ sklearn.tree._classes.DecisionTreeClassifier.get_depth: Return unavailable') # noqa E501\n",
    "    print(\"  Please fix this return type code until there is no exception\")\n",
    "    print('  Error:', e)\n"
   ]
  },
  {
   "cell_type": "code",
   "execution_count": null,
   "id": "destroyed-angle",
   "metadata": {},
   "outputs": [],
   "source": [
    "# sklearn.tree._classes.DecisionTreeClassifier.get_n_leaves\n",
    "try:\n",
    "    obj = class_constructor() # noqa F821\n",
    "    ret = obj.get_n_leaves()\n",
    "    type_sklearn_tree__classes_DecisionTreeClassifier_get_n_leaves = getattr(ret, '__module__', 'none') + '.' + ret.__class__.__name__\n",
    "    print('✅ sklearn.tree._classes.DecisionTreeClassifier.get_n_leaves: ', type(ret)) # noqa E501\n",
    "except Exception as e:\n",
    "    type_sklearn_tree__classes_DecisionTreeClassifier_get_n_leaves = '_syft_missing'\n",
    "    print('❌ sklearn.tree._classes.DecisionTreeClassifier.get_n_leaves: Return unavailable') # noqa E501\n",
    "    print(\"  Please fix this return type code until there is no exception\")\n",
    "    print('  Error:', e)\n"
   ]
  },
  {
   "cell_type": "code",
   "execution_count": null,
   "id": "executive-consultancy",
   "metadata": {},
   "outputs": [],
   "source": [
    "# sklearn.tree._classes.DecisionTreeClassifier.get_params\n",
    "try:\n",
    "    obj = class_constructor() # noqa F821\n",
    "    ret = obj.get_params()\n",
    "    type_sklearn_tree__classes_DecisionTreeClassifier_get_params = getattr(ret, '__module__', 'none') + '.' + ret.__class__.__name__\n",
    "    print('✅ sklearn.tree._classes.DecisionTreeClassifier.get_params: ', type(ret)) # noqa E501\n",
    "except Exception as e:\n",
    "    type_sklearn_tree__classes_DecisionTreeClassifier_get_params = '_syft_missing'\n",
    "    print('❌ sklearn.tree._classes.DecisionTreeClassifier.get_params: Return unavailable') # noqa E501\n",
    "    print(\"  Please fix this return type code until there is no exception\")\n",
    "    print('  Error:', e)\n"
   ]
  },
  {
   "cell_type": "code",
   "execution_count": null,
   "id": "intimate-commission",
   "metadata": {},
   "outputs": [],
   "source": [
    "# sklearn.tree._classes.DecisionTreeClassifier.predict\n",
    "try:\n",
    "    obj = class_constructor() # noqa F821\n",
    "    ret = obj.predict()\n",
    "    type_sklearn_tree__classes_DecisionTreeClassifier_predict = getattr(ret, '__module__', 'none') + '.' + ret.__class__.__name__\n",
    "    print('✅ sklearn.tree._classes.DecisionTreeClassifier.predict: ', type(ret)) # noqa E501\n",
    "except Exception as e:\n",
    "    type_sklearn_tree__classes_DecisionTreeClassifier_predict = '_syft_missing'\n",
    "    print('❌ sklearn.tree._classes.DecisionTreeClassifier.predict: Return unavailable') # noqa E501\n",
    "    print(\"  Please fix this return type code until there is no exception\")\n",
    "    print('  Error:', e)\n"
   ]
  },
  {
   "cell_type": "code",
   "execution_count": null,
   "id": "miniature-christopher",
   "metadata": {},
   "outputs": [],
   "source": [
    "# sklearn.tree._classes.DecisionTreeClassifier.predict_log_proba\n",
    "try:\n",
    "    obj = class_constructor() # noqa F821\n",
    "    ret = obj.predict_log_proba()\n",
    "    type_sklearn_tree__classes_DecisionTreeClassifier_predict_log_proba = getattr(ret, '__module__', 'none') + '.' + ret.__class__.__name__\n",
    "    print('✅ sklearn.tree._classes.DecisionTreeClassifier.predict_log_proba: ', type(ret)) # noqa E501\n",
    "except Exception as e:\n",
    "    type_sklearn_tree__classes_DecisionTreeClassifier_predict_log_proba = '_syft_missing'\n",
    "    print('❌ sklearn.tree._classes.DecisionTreeClassifier.predict_log_proba: Return unavailable') # noqa E501\n",
    "    print(\"  Please fix this return type code until there is no exception\")\n",
    "    print('  Error:', e)\n"
   ]
  },
  {
   "cell_type": "code",
   "execution_count": null,
   "id": "chubby-vision",
   "metadata": {},
   "outputs": [],
   "source": [
    "# sklearn.tree._classes.DecisionTreeClassifier.predict_proba\n",
    "try:\n",
    "    obj = class_constructor() # noqa F821\n",
    "    ret = obj.predict_proba()\n",
    "    type_sklearn_tree__classes_DecisionTreeClassifier_predict_proba = getattr(ret, '__module__', 'none') + '.' + ret.__class__.__name__\n",
    "    print('✅ sklearn.tree._classes.DecisionTreeClassifier.predict_proba: ', type(ret)) # noqa E501\n",
    "except Exception as e:\n",
    "    type_sklearn_tree__classes_DecisionTreeClassifier_predict_proba = '_syft_missing'\n",
    "    print('❌ sklearn.tree._classes.DecisionTreeClassifier.predict_proba: Return unavailable') # noqa E501\n",
    "    print(\"  Please fix this return type code until there is no exception\")\n",
    "    print('  Error:', e)\n"
   ]
  },
  {
   "cell_type": "code",
   "execution_count": null,
   "id": "equal-primary",
   "metadata": {},
   "outputs": [],
   "source": [
    "# sklearn.tree._classes.DecisionTreeClassifier.score\n",
    "try:\n",
    "    obj = class_constructor() # noqa F821\n",
    "    ret = obj.score()\n",
    "    type_sklearn_tree__classes_DecisionTreeClassifier_score = getattr(ret, '__module__', 'none') + '.' + ret.__class__.__name__\n",
    "    print('✅ sklearn.tree._classes.DecisionTreeClassifier.score: ', type(ret)) # noqa E501\n",
    "except Exception as e:\n",
    "    type_sklearn_tree__classes_DecisionTreeClassifier_score = '_syft_missing'\n",
    "    print('❌ sklearn.tree._classes.DecisionTreeClassifier.score: Return unavailable') # noqa E501\n",
    "    print(\"  Please fix this return type code until there is no exception\")\n",
    "    print('  Error:', e)\n"
   ]
  },
  {
   "cell_type": "code",
   "execution_count": null,
   "id": "ordinary-numbers",
   "metadata": {},
   "outputs": [],
   "source": [
    "# sklearn.tree._classes.DecisionTreeClassifier.set_params\n",
    "try:\n",
    "    obj = class_constructor() # noqa F821\n",
    "    ret = obj.set_params()\n",
    "    type_sklearn_tree__classes_DecisionTreeClassifier_set_params = getattr(ret, '__module__', 'none') + '.' + ret.__class__.__name__\n",
    "    print('✅ sklearn.tree._classes.DecisionTreeClassifier.set_params: ', type(ret)) # noqa E501\n",
    "except Exception as e:\n",
    "    type_sklearn_tree__classes_DecisionTreeClassifier_set_params = '_syft_missing'\n",
    "    print('❌ sklearn.tree._classes.DecisionTreeClassifier.set_params: Return unavailable') # noqa E501\n",
    "    print(\"  Please fix this return type code until there is no exception\")\n",
    "    print('  Error:', e)\n"
   ]
  }
 ],
 "metadata": {},
 "nbformat": 4,
 "nbformat_minor": 5
}
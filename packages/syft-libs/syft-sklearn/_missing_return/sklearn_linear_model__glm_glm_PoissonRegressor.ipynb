{
 "cells": [
  {
   "cell_type": "markdown",
   "id": "korean-grenada",
   "metadata": {},
   "source": [
    "## sklearn.linear_model._glm.glm.PoissonRegressor"
   ]
  },
  {
   "cell_type": "code",
   "execution_count": null,
   "id": "dangerous-thickness",
   "metadata": {},
   "outputs": [],
   "source": [
    "import sklearn\n",
    "def class_constructor(*args, **kwargs):\n",
    "    obj = sklearn.linear_model._glm.glm.PoissonRegressor()\n",
    "    return obj\n"
   ]
  },
  {
   "cell_type": "code",
   "execution_count": null,
   "id": "accomplished-pakistan",
   "metadata": {},
   "outputs": [],
   "source": [
    "# sklearn.linear_model._glm.glm.PoissonRegressor.__getstate__\n",
    "try:\n",
    "    obj = class_constructor() # noqa F821\n",
    "    ret = obj.__getstate__()\n",
    "    type_sklearn_linear_model__glm_glm_PoissonRegressor___getstate__ = getattr(ret, '__module__', 'none') + '.' + ret.__class__.__name__\n",
    "    print('✅ sklearn.linear_model._glm.glm.PoissonRegressor.__getstate__: ', type(ret)) # noqa E501\n",
    "except Exception as e:\n",
    "    type_sklearn_linear_model__glm_glm_PoissonRegressor___getstate__ = '_syft_missing'\n",
    "    print('❌ sklearn.linear_model._glm.glm.PoissonRegressor.__getstate__: Return unavailable') # noqa E501\n",
    "    print(\"  Please fix this return type code until there is no exception\")\n",
    "    print('  Error:', e)\n"
   ]
  },
  {
   "cell_type": "code",
   "execution_count": null,
   "id": "arranged-belarus",
   "metadata": {},
   "outputs": [],
   "source": [
    "# sklearn.linear_model._glm.glm.PoissonRegressor.__repr__\n",
    "try:\n",
    "    obj = class_constructor() # noqa F821\n",
    "    ret = obj.__repr__()\n",
    "    type_sklearn_linear_model__glm_glm_PoissonRegressor___repr__ = getattr(ret, '__module__', 'none') + '.' + ret.__class__.__name__\n",
    "    print('✅ sklearn.linear_model._glm.glm.PoissonRegressor.__repr__: ', type(ret)) # noqa E501\n",
    "except Exception as e:\n",
    "    type_sklearn_linear_model__glm_glm_PoissonRegressor___repr__ = '_syft_missing'\n",
    "    print('❌ sklearn.linear_model._glm.glm.PoissonRegressor.__repr__: Return unavailable') # noqa E501\n",
    "    print(\"  Please fix this return type code until there is no exception\")\n",
    "    print('  Error:', e)\n"
   ]
  },
  {
   "cell_type": "code",
   "execution_count": null,
   "id": "young-decimal",
   "metadata": {},
   "outputs": [],
   "source": [
    "# sklearn.linear_model._glm.glm.PoissonRegressor.__setstate__\n",
    "try:\n",
    "    obj = class_constructor() # noqa F821\n",
    "    ret = obj.__setstate__()\n",
    "    type_sklearn_linear_model__glm_glm_PoissonRegressor___setstate__ = getattr(ret, '__module__', 'none') + '.' + ret.__class__.__name__\n",
    "    print('✅ sklearn.linear_model._glm.glm.PoissonRegressor.__setstate__: ', type(ret)) # noqa E501\n",
    "except Exception as e:\n",
    "    type_sklearn_linear_model__glm_glm_PoissonRegressor___setstate__ = '_syft_missing'\n",
    "    print('❌ sklearn.linear_model._glm.glm.PoissonRegressor.__setstate__: Return unavailable') # noqa E501\n",
    "    print(\"  Please fix this return type code until there is no exception\")\n",
    "    print('  Error:', e)\n"
   ]
  },
  {
   "cell_type": "code",
   "execution_count": null,
   "id": "capital-narrow",
   "metadata": {},
   "outputs": [],
   "source": [
    "# sklearn.linear_model._glm.glm.PoissonRegressor._check_n_features\n",
    "try:\n",
    "    obj = class_constructor() # noqa F821\n",
    "    ret = obj._check_n_features()\n",
    "    type_sklearn_linear_model__glm_glm_PoissonRegressor__check_n_features = getattr(ret, '__module__', 'none') + '.' + ret.__class__.__name__\n",
    "    print('✅ sklearn.linear_model._glm.glm.PoissonRegressor._check_n_features: ', type(ret)) # noqa E501\n",
    "except Exception as e:\n",
    "    type_sklearn_linear_model__glm_glm_PoissonRegressor__check_n_features = '_syft_missing'\n",
    "    print('❌ sklearn.linear_model._glm.glm.PoissonRegressor._check_n_features: Return unavailable') # noqa E501\n",
    "    print(\"  Please fix this return type code until there is no exception\")\n",
    "    print('  Error:', e)\n"
   ]
  },
  {
   "cell_type": "code",
   "execution_count": null,
   "id": "available-rebound",
   "metadata": {},
   "outputs": [],
   "source": [
    "# sklearn.linear_model._glm.glm.PoissonRegressor._get_param_names\n",
    "try:\n",
    "    obj = class_constructor() # noqa F821\n",
    "    ret = obj._get_param_names()\n",
    "    type_sklearn_linear_model__glm_glm_PoissonRegressor__get_param_names = getattr(ret, '__module__', 'none') + '.' + ret.__class__.__name__\n",
    "    print('✅ sklearn.linear_model._glm.glm.PoissonRegressor._get_param_names: ', type(ret)) # noqa E501\n",
    "except Exception as e:\n",
    "    type_sklearn_linear_model__glm_glm_PoissonRegressor__get_param_names = '_syft_missing'\n",
    "    print('❌ sklearn.linear_model._glm.glm.PoissonRegressor._get_param_names: Return unavailable') # noqa E501\n",
    "    print(\"  Please fix this return type code until there is no exception\")\n",
    "    print('  Error:', e)\n"
   ]
  },
  {
   "cell_type": "code",
   "execution_count": null,
   "id": "scientific-bankruptcy",
   "metadata": {},
   "outputs": [],
   "source": [
    "# sklearn.linear_model._glm.glm.PoissonRegressor._get_tags\n",
    "try:\n",
    "    obj = class_constructor() # noqa F821\n",
    "    ret = obj._get_tags()\n",
    "    type_sklearn_linear_model__glm_glm_PoissonRegressor__get_tags = getattr(ret, '__module__', 'none') + '.' + ret.__class__.__name__\n",
    "    print('✅ sklearn.linear_model._glm.glm.PoissonRegressor._get_tags: ', type(ret)) # noqa E501\n",
    "except Exception as e:\n",
    "    type_sklearn_linear_model__glm_glm_PoissonRegressor__get_tags = '_syft_missing'\n",
    "    print('❌ sklearn.linear_model._glm.glm.PoissonRegressor._get_tags: Return unavailable') # noqa E501\n",
    "    print(\"  Please fix this return type code until there is no exception\")\n",
    "    print('  Error:', e)\n"
   ]
  },
  {
   "cell_type": "code",
   "execution_count": null,
   "id": "literary-capability",
   "metadata": {},
   "outputs": [],
   "source": [
    "# sklearn.linear_model._glm.glm.PoissonRegressor._linear_predictor\n",
    "try:\n",
    "    obj = class_constructor() # noqa F821\n",
    "    ret = obj._linear_predictor()\n",
    "    type_sklearn_linear_model__glm_glm_PoissonRegressor__linear_predictor = getattr(ret, '__module__', 'none') + '.' + ret.__class__.__name__\n",
    "    print('✅ sklearn.linear_model._glm.glm.PoissonRegressor._linear_predictor: ', type(ret)) # noqa E501\n",
    "except Exception as e:\n",
    "    type_sklearn_linear_model__glm_glm_PoissonRegressor__linear_predictor = '_syft_missing'\n",
    "    print('❌ sklearn.linear_model._glm.glm.PoissonRegressor._linear_predictor: Return unavailable') # noqa E501\n",
    "    print(\"  Please fix this return type code until there is no exception\")\n",
    "    print('  Error:', e)\n"
   ]
  },
  {
   "cell_type": "code",
   "execution_count": null,
   "id": "antique-manner",
   "metadata": {},
   "outputs": [],
   "source": [
    "# sklearn.linear_model._glm.glm.PoissonRegressor._more_tags\n",
    "try:\n",
    "    obj = class_constructor() # noqa F821\n",
    "    ret = obj._more_tags()\n",
    "    type_sklearn_linear_model__glm_glm_PoissonRegressor__more_tags = getattr(ret, '__module__', 'none') + '.' + ret.__class__.__name__\n",
    "    print('✅ sklearn.linear_model._glm.glm.PoissonRegressor._more_tags: ', type(ret)) # noqa E501\n",
    "except Exception as e:\n",
    "    type_sklearn_linear_model__glm_glm_PoissonRegressor__more_tags = '_syft_missing'\n",
    "    print('❌ sklearn.linear_model._glm.glm.PoissonRegressor._more_tags: Return unavailable') # noqa E501\n",
    "    print(\"  Please fix this return type code until there is no exception\")\n",
    "    print('  Error:', e)\n"
   ]
  },
  {
   "cell_type": "code",
   "execution_count": null,
   "id": "wanted-planner",
   "metadata": {},
   "outputs": [],
   "source": [
    "# sklearn.linear_model._glm.glm.PoissonRegressor._repr_html_\n",
    "try:\n",
    "    obj = class_constructor()\n",
    "    ret = obj._repr_html_\n",
    "    type_sklearn_linear_model__glm_glm_PoissonRegressor__repr_html_ = getattr(ret, '__module__', 'none') + '.' + ret.__class__.__name__\n",
    "    print('✅ sklearn.linear_model._glm.glm.PoissonRegressor._repr_html_:', type(ret)) # noqa E501\n",
    "except Exception as e:\n",
    "    type_sklearn_linear_model__glm_glm_PoissonRegressor__repr_html_ = '_syft_missing'\n",
    "    print('❌ sklearn.linear_model._glm.glm.PoissonRegressor._repr_html_: Return unavailable') # noqa E501\n",
    "    print(\"  Please fix this return type code until there is no exception\")\n",
    "    print('  Error:', e)\n"
   ]
  },
  {
   "cell_type": "code",
   "execution_count": null,
   "id": "rapid-dayton",
   "metadata": {},
   "outputs": [],
   "source": [
    "# sklearn.linear_model._glm.glm.PoissonRegressor._repr_html_inner\n",
    "try:\n",
    "    obj = class_constructor() # noqa F821\n",
    "    ret = obj._repr_html_inner()\n",
    "    type_sklearn_linear_model__glm_glm_PoissonRegressor__repr_html_inner = getattr(ret, '__module__', 'none') + '.' + ret.__class__.__name__\n",
    "    print('✅ sklearn.linear_model._glm.glm.PoissonRegressor._repr_html_inner: ', type(ret)) # noqa E501\n",
    "except Exception as e:\n",
    "    type_sklearn_linear_model__glm_glm_PoissonRegressor__repr_html_inner = '_syft_missing'\n",
    "    print('❌ sklearn.linear_model._glm.glm.PoissonRegressor._repr_html_inner: Return unavailable') # noqa E501\n",
    "    print(\"  Please fix this return type code until there is no exception\")\n",
    "    print('  Error:', e)\n"
   ]
  },
  {
   "cell_type": "code",
   "execution_count": null,
   "id": "enclosed-kuwait",
   "metadata": {},
   "outputs": [],
   "source": [
    "# sklearn.linear_model._glm.glm.PoissonRegressor._repr_mimebundle_\n",
    "try:\n",
    "    obj = class_constructor() # noqa F821\n",
    "    ret = obj._repr_mimebundle_()\n",
    "    type_sklearn_linear_model__glm_glm_PoissonRegressor__repr_mimebundle_ = getattr(ret, '__module__', 'none') + '.' + ret.__class__.__name__\n",
    "    print('✅ sklearn.linear_model._glm.glm.PoissonRegressor._repr_mimebundle_: ', type(ret)) # noqa E501\n",
    "except Exception as e:\n",
    "    type_sklearn_linear_model__glm_glm_PoissonRegressor__repr_mimebundle_ = '_syft_missing'\n",
    "    print('❌ sklearn.linear_model._glm.glm.PoissonRegressor._repr_mimebundle_: Return unavailable') # noqa E501\n",
    "    print(\"  Please fix this return type code until there is no exception\")\n",
    "    print('  Error:', e)\n"
   ]
  },
  {
   "cell_type": "code",
   "execution_count": null,
   "id": "graphic-stuart",
   "metadata": {},
   "outputs": [],
   "source": [
    "# sklearn.linear_model._glm.glm.PoissonRegressor._validate_data\n",
    "try:\n",
    "    obj = class_constructor() # noqa F821\n",
    "    ret = obj._validate_data()\n",
    "    type_sklearn_linear_model__glm_glm_PoissonRegressor__validate_data = getattr(ret, '__module__', 'none') + '.' + ret.__class__.__name__\n",
    "    print('✅ sklearn.linear_model._glm.glm.PoissonRegressor._validate_data: ', type(ret)) # noqa E501\n",
    "except Exception as e:\n",
    "    type_sklearn_linear_model__glm_glm_PoissonRegressor__validate_data = '_syft_missing'\n",
    "    print('❌ sklearn.linear_model._glm.glm.PoissonRegressor._validate_data: Return unavailable') # noqa E501\n",
    "    print(\"  Please fix this return type code until there is no exception\")\n",
    "    print('  Error:', e)\n"
   ]
  },
  {
   "cell_type": "code",
   "execution_count": null,
   "id": "interpreted-closer",
   "metadata": {},
   "outputs": [],
   "source": [
    "# sklearn.linear_model._glm.glm.PoissonRegressor.family\n",
    "try:\n",
    "    obj = class_constructor()\n",
    "    ret = obj.family\n",
    "    type_sklearn_linear_model__glm_glm_PoissonRegressor_family = getattr(ret, '__module__', 'none') + '.' + ret.__class__.__name__\n",
    "    print('✅ sklearn.linear_model._glm.glm.PoissonRegressor.family:', type(ret)) # noqa E501\n",
    "except Exception as e:\n",
    "    type_sklearn_linear_model__glm_glm_PoissonRegressor_family = '_syft_missing'\n",
    "    print('❌ sklearn.linear_model._glm.glm.PoissonRegressor.family: Return unavailable') # noqa E501\n",
    "    print(\"  Please fix this return type code until there is no exception\")\n",
    "    print('  Error:', e)\n"
   ]
  },
  {
   "cell_type": "code",
   "execution_count": null,
   "id": "judicial-translation",
   "metadata": {},
   "outputs": [],
   "source": [
    "# sklearn.linear_model._glm.glm.PoissonRegressor.fit\n",
    "try:\n",
    "    obj = class_constructor() # noqa F821\n",
    "    ret = obj.fit()\n",
    "    type_sklearn_linear_model__glm_glm_PoissonRegressor_fit = getattr(ret, '__module__', 'none') + '.' + ret.__class__.__name__\n",
    "    print('✅ sklearn.linear_model._glm.glm.PoissonRegressor.fit: ', type(ret)) # noqa E501\n",
    "except Exception as e:\n",
    "    type_sklearn_linear_model__glm_glm_PoissonRegressor_fit = '_syft_missing'\n",
    "    print('❌ sklearn.linear_model._glm.glm.PoissonRegressor.fit: Return unavailable') # noqa E501\n",
    "    print(\"  Please fix this return type code until there is no exception\")\n",
    "    print('  Error:', e)\n"
   ]
  },
  {
   "cell_type": "code",
   "execution_count": null,
   "id": "greatest-finnish",
   "metadata": {},
   "outputs": [],
   "source": [
    "# sklearn.linear_model._glm.glm.PoissonRegressor.get_params\n",
    "try:\n",
    "    obj = class_constructor() # noqa F821\n",
    "    ret = obj.get_params()\n",
    "    type_sklearn_linear_model__glm_glm_PoissonRegressor_get_params = getattr(ret, '__module__', 'none') + '.' + ret.__class__.__name__\n",
    "    print('✅ sklearn.linear_model._glm.glm.PoissonRegressor.get_params: ', type(ret)) # noqa E501\n",
    "except Exception as e:\n",
    "    type_sklearn_linear_model__glm_glm_PoissonRegressor_get_params = '_syft_missing'\n",
    "    print('❌ sklearn.linear_model._glm.glm.PoissonRegressor.get_params: Return unavailable') # noqa E501\n",
    "    print(\"  Please fix this return type code until there is no exception\")\n",
    "    print('  Error:', e)\n"
   ]
  },
  {
   "cell_type": "code",
   "execution_count": null,
   "id": "other-benchmark",
   "metadata": {},
   "outputs": [],
   "source": [
    "# sklearn.linear_model._glm.glm.PoissonRegressor.predict\n",
    "try:\n",
    "    obj = class_constructor() # noqa F821\n",
    "    ret = obj.predict()\n",
    "    type_sklearn_linear_model__glm_glm_PoissonRegressor_predict = getattr(ret, '__module__', 'none') + '.' + ret.__class__.__name__\n",
    "    print('✅ sklearn.linear_model._glm.glm.PoissonRegressor.predict: ', type(ret)) # noqa E501\n",
    "except Exception as e:\n",
    "    type_sklearn_linear_model__glm_glm_PoissonRegressor_predict = '_syft_missing'\n",
    "    print('❌ sklearn.linear_model._glm.glm.PoissonRegressor.predict: Return unavailable') # noqa E501\n",
    "    print(\"  Please fix this return type code until there is no exception\")\n",
    "    print('  Error:', e)\n"
   ]
  },
  {
   "cell_type": "code",
   "execution_count": null,
   "id": "double-dispute",
   "metadata": {},
   "outputs": [],
   "source": [
    "# sklearn.linear_model._glm.glm.PoissonRegressor.score\n",
    "try:\n",
    "    obj = class_constructor() # noqa F821\n",
    "    ret = obj.score()\n",
    "    type_sklearn_linear_model__glm_glm_PoissonRegressor_score = getattr(ret, '__module__', 'none') + '.' + ret.__class__.__name__\n",
    "    print('✅ sklearn.linear_model._glm.glm.PoissonRegressor.score: ', type(ret)) # noqa E501\n",
    "except Exception as e:\n",
    "    type_sklearn_linear_model__glm_glm_PoissonRegressor_score = '_syft_missing'\n",
    "    print('❌ sklearn.linear_model._glm.glm.PoissonRegressor.score: Return unavailable') # noqa E501\n",
    "    print(\"  Please fix this return type code until there is no exception\")\n",
    "    print('  Error:', e)\n"
   ]
  },
  {
   "cell_type": "code",
   "execution_count": null,
   "id": "suitable-cable",
   "metadata": {},
   "outputs": [],
   "source": [
    "# sklearn.linear_model._glm.glm.PoissonRegressor.set_params\n",
    "try:\n",
    "    obj = class_constructor() # noqa F821\n",
    "    ret = obj.set_params()\n",
    "    type_sklearn_linear_model__glm_glm_PoissonRegressor_set_params = getattr(ret, '__module__', 'none') + '.' + ret.__class__.__name__\n",
    "    print('✅ sklearn.linear_model._glm.glm.PoissonRegressor.set_params: ', type(ret)) # noqa E501\n",
    "except Exception as e:\n",
    "    type_sklearn_linear_model__glm_glm_PoissonRegressor_set_params = '_syft_missing'\n",
    "    print('❌ sklearn.linear_model._glm.glm.PoissonRegressor.set_params: Return unavailable') # noqa E501\n",
    "    print(\"  Please fix this return type code until there is no exception\")\n",
    "    print('  Error:', e)\n"
   ]
  }
 ],
 "metadata": {},
 "nbformat": 4,
 "nbformat_minor": 5
}
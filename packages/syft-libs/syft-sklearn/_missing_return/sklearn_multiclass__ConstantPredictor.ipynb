{
 "cells": [
  {
   "cell_type": "markdown",
   "id": "rolled-synthesis",
   "metadata": {},
   "source": [
    "## sklearn.multiclass._ConstantPredictor"
   ]
  },
  {
   "cell_type": "code",
   "execution_count": null,
   "id": "accredited-saint",
   "metadata": {},
   "outputs": [],
   "source": [
    "import sklearn\n",
    "def class_constructor(*args, **kwargs):\n",
    "    obj = sklearn.multiclass._ConstantPredictor()\n",
    "    return obj\n"
   ]
  },
  {
   "cell_type": "code",
   "execution_count": null,
   "id": "forty-virgin",
   "metadata": {},
   "outputs": [],
   "source": [
    "# sklearn.multiclass._ConstantPredictor.__getstate__\n",
    "try:\n",
    "    obj = class_constructor() # noqa F821\n",
    "    ret = obj.__getstate__()\n",
    "    type_sklearn_multiclass__ConstantPredictor___getstate__ = getattr(ret, '__module__', 'none') + '.' + ret.__class__.__name__\n",
    "    print('✅ sklearn.multiclass._ConstantPredictor.__getstate__: ', type(ret)) # noqa E501\n",
    "except Exception as e:\n",
    "    type_sklearn_multiclass__ConstantPredictor___getstate__ = '_syft_missing'\n",
    "    print('❌ sklearn.multiclass._ConstantPredictor.__getstate__: Return unavailable') # noqa E501\n",
    "    print(\"  Please fix this return type code until there is no exception\")\n",
    "    print('  Error:', e)\n"
   ]
  },
  {
   "cell_type": "code",
   "execution_count": null,
   "id": "listed-austria",
   "metadata": {},
   "outputs": [],
   "source": [
    "# sklearn.multiclass._ConstantPredictor.__repr__\n",
    "try:\n",
    "    obj = class_constructor() # noqa F821\n",
    "    ret = obj.__repr__()\n",
    "    type_sklearn_multiclass__ConstantPredictor___repr__ = getattr(ret, '__module__', 'none') + '.' + ret.__class__.__name__\n",
    "    print('✅ sklearn.multiclass._ConstantPredictor.__repr__: ', type(ret)) # noqa E501\n",
    "except Exception as e:\n",
    "    type_sklearn_multiclass__ConstantPredictor___repr__ = '_syft_missing'\n",
    "    print('❌ sklearn.multiclass._ConstantPredictor.__repr__: Return unavailable') # noqa E501\n",
    "    print(\"  Please fix this return type code until there is no exception\")\n",
    "    print('  Error:', e)\n"
   ]
  },
  {
   "cell_type": "code",
   "execution_count": null,
   "id": "disciplinary-circle",
   "metadata": {},
   "outputs": [],
   "source": [
    "# sklearn.multiclass._ConstantPredictor.__setstate__\n",
    "try:\n",
    "    obj = class_constructor() # noqa F821\n",
    "    ret = obj.__setstate__()\n",
    "    type_sklearn_multiclass__ConstantPredictor___setstate__ = getattr(ret, '__module__', 'none') + '.' + ret.__class__.__name__\n",
    "    print('✅ sklearn.multiclass._ConstantPredictor.__setstate__: ', type(ret)) # noqa E501\n",
    "except Exception as e:\n",
    "    type_sklearn_multiclass__ConstantPredictor___setstate__ = '_syft_missing'\n",
    "    print('❌ sklearn.multiclass._ConstantPredictor.__setstate__: Return unavailable') # noqa E501\n",
    "    print(\"  Please fix this return type code until there is no exception\")\n",
    "    print('  Error:', e)\n"
   ]
  },
  {
   "cell_type": "code",
   "execution_count": null,
   "id": "demanding-loading",
   "metadata": {},
   "outputs": [],
   "source": [
    "# sklearn.multiclass._ConstantPredictor._check_n_features\n",
    "try:\n",
    "    obj = class_constructor() # noqa F821\n",
    "    ret = obj._check_n_features()\n",
    "    type_sklearn_multiclass__ConstantPredictor__check_n_features = getattr(ret, '__module__', 'none') + '.' + ret.__class__.__name__\n",
    "    print('✅ sklearn.multiclass._ConstantPredictor._check_n_features: ', type(ret)) # noqa E501\n",
    "except Exception as e:\n",
    "    type_sklearn_multiclass__ConstantPredictor__check_n_features = '_syft_missing'\n",
    "    print('❌ sklearn.multiclass._ConstantPredictor._check_n_features: Return unavailable') # noqa E501\n",
    "    print(\"  Please fix this return type code until there is no exception\")\n",
    "    print('  Error:', e)\n"
   ]
  },
  {
   "cell_type": "code",
   "execution_count": null,
   "id": "theoretical-mystery",
   "metadata": {},
   "outputs": [],
   "source": [
    "# sklearn.multiclass._ConstantPredictor._get_param_names\n",
    "try:\n",
    "    obj = class_constructor() # noqa F821\n",
    "    ret = obj._get_param_names()\n",
    "    type_sklearn_multiclass__ConstantPredictor__get_param_names = getattr(ret, '__module__', 'none') + '.' + ret.__class__.__name__\n",
    "    print('✅ sklearn.multiclass._ConstantPredictor._get_param_names: ', type(ret)) # noqa E501\n",
    "except Exception as e:\n",
    "    type_sklearn_multiclass__ConstantPredictor__get_param_names = '_syft_missing'\n",
    "    print('❌ sklearn.multiclass._ConstantPredictor._get_param_names: Return unavailable') # noqa E501\n",
    "    print(\"  Please fix this return type code until there is no exception\")\n",
    "    print('  Error:', e)\n"
   ]
  },
  {
   "cell_type": "code",
   "execution_count": null,
   "id": "sitting-clock",
   "metadata": {},
   "outputs": [],
   "source": [
    "# sklearn.multiclass._ConstantPredictor._get_tags\n",
    "try:\n",
    "    obj = class_constructor() # noqa F821\n",
    "    ret = obj._get_tags()\n",
    "    type_sklearn_multiclass__ConstantPredictor__get_tags = getattr(ret, '__module__', 'none') + '.' + ret.__class__.__name__\n",
    "    print('✅ sklearn.multiclass._ConstantPredictor._get_tags: ', type(ret)) # noqa E501\n",
    "except Exception as e:\n",
    "    type_sklearn_multiclass__ConstantPredictor__get_tags = '_syft_missing'\n",
    "    print('❌ sklearn.multiclass._ConstantPredictor._get_tags: Return unavailable') # noqa E501\n",
    "    print(\"  Please fix this return type code until there is no exception\")\n",
    "    print('  Error:', e)\n"
   ]
  },
  {
   "cell_type": "code",
   "execution_count": null,
   "id": "removable-decimal",
   "metadata": {},
   "outputs": [],
   "source": [
    "# sklearn.multiclass._ConstantPredictor._more_tags\n",
    "try:\n",
    "    obj = class_constructor() # noqa F821\n",
    "    ret = obj._more_tags()\n",
    "    type_sklearn_multiclass__ConstantPredictor__more_tags = getattr(ret, '__module__', 'none') + '.' + ret.__class__.__name__\n",
    "    print('✅ sklearn.multiclass._ConstantPredictor._more_tags: ', type(ret)) # noqa E501\n",
    "except Exception as e:\n",
    "    type_sklearn_multiclass__ConstantPredictor__more_tags = '_syft_missing'\n",
    "    print('❌ sklearn.multiclass._ConstantPredictor._more_tags: Return unavailable') # noqa E501\n",
    "    print(\"  Please fix this return type code until there is no exception\")\n",
    "    print('  Error:', e)\n"
   ]
  },
  {
   "cell_type": "code",
   "execution_count": null,
   "id": "designing-subscriber",
   "metadata": {},
   "outputs": [],
   "source": [
    "# sklearn.multiclass._ConstantPredictor._repr_html_\n",
    "try:\n",
    "    obj = class_constructor()\n",
    "    ret = obj._repr_html_\n",
    "    type_sklearn_multiclass__ConstantPredictor__repr_html_ = getattr(ret, '__module__', 'none') + '.' + ret.__class__.__name__\n",
    "    print('✅ sklearn.multiclass._ConstantPredictor._repr_html_:', type(ret)) # noqa E501\n",
    "except Exception as e:\n",
    "    type_sklearn_multiclass__ConstantPredictor__repr_html_ = '_syft_missing'\n",
    "    print('❌ sklearn.multiclass._ConstantPredictor._repr_html_: Return unavailable') # noqa E501\n",
    "    print(\"  Please fix this return type code until there is no exception\")\n",
    "    print('  Error:', e)\n"
   ]
  },
  {
   "cell_type": "code",
   "execution_count": null,
   "id": "expected-juice",
   "metadata": {},
   "outputs": [],
   "source": [
    "# sklearn.multiclass._ConstantPredictor._repr_html_inner\n",
    "try:\n",
    "    obj = class_constructor() # noqa F821\n",
    "    ret = obj._repr_html_inner()\n",
    "    type_sklearn_multiclass__ConstantPredictor__repr_html_inner = getattr(ret, '__module__', 'none') + '.' + ret.__class__.__name__\n",
    "    print('✅ sklearn.multiclass._ConstantPredictor._repr_html_inner: ', type(ret)) # noqa E501\n",
    "except Exception as e:\n",
    "    type_sklearn_multiclass__ConstantPredictor__repr_html_inner = '_syft_missing'\n",
    "    print('❌ sklearn.multiclass._ConstantPredictor._repr_html_inner: Return unavailable') # noqa E501\n",
    "    print(\"  Please fix this return type code until there is no exception\")\n",
    "    print('  Error:', e)\n"
   ]
  },
  {
   "cell_type": "code",
   "execution_count": null,
   "id": "motivated-sheet",
   "metadata": {},
   "outputs": [],
   "source": [
    "# sklearn.multiclass._ConstantPredictor._repr_mimebundle_\n",
    "try:\n",
    "    obj = class_constructor() # noqa F821\n",
    "    ret = obj._repr_mimebundle_()\n",
    "    type_sklearn_multiclass__ConstantPredictor__repr_mimebundle_ = getattr(ret, '__module__', 'none') + '.' + ret.__class__.__name__\n",
    "    print('✅ sklearn.multiclass._ConstantPredictor._repr_mimebundle_: ', type(ret)) # noqa E501\n",
    "except Exception as e:\n",
    "    type_sklearn_multiclass__ConstantPredictor__repr_mimebundle_ = '_syft_missing'\n",
    "    print('❌ sklearn.multiclass._ConstantPredictor._repr_mimebundle_: Return unavailable') # noqa E501\n",
    "    print(\"  Please fix this return type code until there is no exception\")\n",
    "    print('  Error:', e)\n"
   ]
  },
  {
   "cell_type": "code",
   "execution_count": null,
   "id": "australian-farmer",
   "metadata": {},
   "outputs": [],
   "source": [
    "# sklearn.multiclass._ConstantPredictor._validate_data\n",
    "try:\n",
    "    obj = class_constructor() # noqa F821\n",
    "    ret = obj._validate_data()\n",
    "    type_sklearn_multiclass__ConstantPredictor__validate_data = getattr(ret, '__module__', 'none') + '.' + ret.__class__.__name__\n",
    "    print('✅ sklearn.multiclass._ConstantPredictor._validate_data: ', type(ret)) # noqa E501\n",
    "except Exception as e:\n",
    "    type_sklearn_multiclass__ConstantPredictor__validate_data = '_syft_missing'\n",
    "    print('❌ sklearn.multiclass._ConstantPredictor._validate_data: Return unavailable') # noqa E501\n",
    "    print(\"  Please fix this return type code until there is no exception\")\n",
    "    print('  Error:', e)\n"
   ]
  },
  {
   "cell_type": "code",
   "execution_count": null,
   "id": "institutional-rogers",
   "metadata": {},
   "outputs": [],
   "source": [
    "# sklearn.multiclass._ConstantPredictor.decision_function\n",
    "try:\n",
    "    obj = class_constructor() # noqa F821\n",
    "    ret = obj.decision_function()\n",
    "    type_sklearn_multiclass__ConstantPredictor_decision_function = getattr(ret, '__module__', 'none') + '.' + ret.__class__.__name__\n",
    "    print('✅ sklearn.multiclass._ConstantPredictor.decision_function: ', type(ret)) # noqa E501\n",
    "except Exception as e:\n",
    "    type_sklearn_multiclass__ConstantPredictor_decision_function = '_syft_missing'\n",
    "    print('❌ sklearn.multiclass._ConstantPredictor.decision_function: Return unavailable') # noqa E501\n",
    "    print(\"  Please fix this return type code until there is no exception\")\n",
    "    print('  Error:', e)\n"
   ]
  },
  {
   "cell_type": "code",
   "execution_count": null,
   "id": "confused-kingston",
   "metadata": {},
   "outputs": [],
   "source": [
    "# sklearn.multiclass._ConstantPredictor.fit\n",
    "try:\n",
    "    obj = class_constructor() # noqa F821\n",
    "    ret = obj.fit()\n",
    "    type_sklearn_multiclass__ConstantPredictor_fit = getattr(ret, '__module__', 'none') + '.' + ret.__class__.__name__\n",
    "    print('✅ sklearn.multiclass._ConstantPredictor.fit: ', type(ret)) # noqa E501\n",
    "except Exception as e:\n",
    "    type_sklearn_multiclass__ConstantPredictor_fit = '_syft_missing'\n",
    "    print('❌ sklearn.multiclass._ConstantPredictor.fit: Return unavailable') # noqa E501\n",
    "    print(\"  Please fix this return type code until there is no exception\")\n",
    "    print('  Error:', e)\n"
   ]
  },
  {
   "cell_type": "code",
   "execution_count": null,
   "id": "impossible-amino",
   "metadata": {},
   "outputs": [],
   "source": [
    "# sklearn.multiclass._ConstantPredictor.get_params\n",
    "try:\n",
    "    obj = class_constructor() # noqa F821\n",
    "    ret = obj.get_params()\n",
    "    type_sklearn_multiclass__ConstantPredictor_get_params = getattr(ret, '__module__', 'none') + '.' + ret.__class__.__name__\n",
    "    print('✅ sklearn.multiclass._ConstantPredictor.get_params: ', type(ret)) # noqa E501\n",
    "except Exception as e:\n",
    "    type_sklearn_multiclass__ConstantPredictor_get_params = '_syft_missing'\n",
    "    print('❌ sklearn.multiclass._ConstantPredictor.get_params: Return unavailable') # noqa E501\n",
    "    print(\"  Please fix this return type code until there is no exception\")\n",
    "    print('  Error:', e)\n"
   ]
  },
  {
   "cell_type": "code",
   "execution_count": null,
   "id": "employed-transaction",
   "metadata": {},
   "outputs": [],
   "source": [
    "# sklearn.multiclass._ConstantPredictor.predict\n",
    "try:\n",
    "    obj = class_constructor() # noqa F821\n",
    "    ret = obj.predict()\n",
    "    type_sklearn_multiclass__ConstantPredictor_predict = getattr(ret, '__module__', 'none') + '.' + ret.__class__.__name__\n",
    "    print('✅ sklearn.multiclass._ConstantPredictor.predict: ', type(ret)) # noqa E501\n",
    "except Exception as e:\n",
    "    type_sklearn_multiclass__ConstantPredictor_predict = '_syft_missing'\n",
    "    print('❌ sklearn.multiclass._ConstantPredictor.predict: Return unavailable') # noqa E501\n",
    "    print(\"  Please fix this return type code until there is no exception\")\n",
    "    print('  Error:', e)\n"
   ]
  },
  {
   "cell_type": "code",
   "execution_count": null,
   "id": "whole-handbook",
   "metadata": {},
   "outputs": [],
   "source": [
    "# sklearn.multiclass._ConstantPredictor.predict_proba\n",
    "try:\n",
    "    obj = class_constructor() # noqa F821\n",
    "    ret = obj.predict_proba()\n",
    "    type_sklearn_multiclass__ConstantPredictor_predict_proba = getattr(ret, '__module__', 'none') + '.' + ret.__class__.__name__\n",
    "    print('✅ sklearn.multiclass._ConstantPredictor.predict_proba: ', type(ret)) # noqa E501\n",
    "except Exception as e:\n",
    "    type_sklearn_multiclass__ConstantPredictor_predict_proba = '_syft_missing'\n",
    "    print('❌ sklearn.multiclass._ConstantPredictor.predict_proba: Return unavailable') # noqa E501\n",
    "    print(\"  Please fix this return type code until there is no exception\")\n",
    "    print('  Error:', e)\n"
   ]
  },
  {
   "cell_type": "code",
   "execution_count": null,
   "id": "temporal-empire",
   "metadata": {},
   "outputs": [],
   "source": [
    "# sklearn.multiclass._ConstantPredictor.set_params\n",
    "try:\n",
    "    obj = class_constructor() # noqa F821\n",
    "    ret = obj.set_params()\n",
    "    type_sklearn_multiclass__ConstantPredictor_set_params = getattr(ret, '__module__', 'none') + '.' + ret.__class__.__name__\n",
    "    print('✅ sklearn.multiclass._ConstantPredictor.set_params: ', type(ret)) # noqa E501\n",
    "except Exception as e:\n",
    "    type_sklearn_multiclass__ConstantPredictor_set_params = '_syft_missing'\n",
    "    print('❌ sklearn.multiclass._ConstantPredictor.set_params: Return unavailable') # noqa E501\n",
    "    print(\"  Please fix this return type code until there is no exception\")\n",
    "    print('  Error:', e)\n"
   ]
  }
 ],
 "metadata": {},
 "nbformat": 4,
 "nbformat_minor": 5
}
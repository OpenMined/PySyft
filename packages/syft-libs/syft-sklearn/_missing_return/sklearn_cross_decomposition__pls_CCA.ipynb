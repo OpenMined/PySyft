{
 "cells": [
  {
   "cell_type": "markdown",
   "id": "talented-uganda",
   "metadata": {},
   "source": [
    "## sklearn.cross_decomposition._pls.CCA"
   ]
  },
  {
   "cell_type": "code",
   "execution_count": null,
   "id": "sweet-highland",
   "metadata": {},
   "outputs": [],
   "source": [
    "import sklearn\n",
    "def class_constructor(*args, **kwargs):\n",
    "    obj = sklearn.cross_decomposition._pls.CCA()\n",
    "    return obj\n"
   ]
  },
  {
   "cell_type": "code",
   "execution_count": null,
   "id": "looking-court",
   "metadata": {},
   "outputs": [],
   "source": [
    "# sklearn.cross_decomposition._pls.CCA.__getstate__\n",
    "try:\n",
    "    obj = class_constructor() # noqa F821\n",
    "    ret = obj.__getstate__()\n",
    "    type_sklearn_cross_decomposition__pls_CCA___getstate__ = getattr(ret, '__module__', 'none') + '.' + ret.__class__.__name__\n",
    "    print('✅ sklearn.cross_decomposition._pls.CCA.__getstate__: ', type(ret)) # noqa E501\n",
    "except Exception as e:\n",
    "    type_sklearn_cross_decomposition__pls_CCA___getstate__ = '_syft_missing'\n",
    "    print('❌ sklearn.cross_decomposition._pls.CCA.__getstate__: Return unavailable') # noqa E501\n",
    "    print(\"  Please fix this return type code until there is no exception\")\n",
    "    print('  Error:', e)\n"
   ]
  },
  {
   "cell_type": "code",
   "execution_count": null,
   "id": "better-fifty",
   "metadata": {},
   "outputs": [],
   "source": [
    "# sklearn.cross_decomposition._pls.CCA.__repr__\n",
    "try:\n",
    "    obj = class_constructor() # noqa F821\n",
    "    ret = obj.__repr__()\n",
    "    type_sklearn_cross_decomposition__pls_CCA___repr__ = getattr(ret, '__module__', 'none') + '.' + ret.__class__.__name__\n",
    "    print('✅ sklearn.cross_decomposition._pls.CCA.__repr__: ', type(ret)) # noqa E501\n",
    "except Exception as e:\n",
    "    type_sklearn_cross_decomposition__pls_CCA___repr__ = '_syft_missing'\n",
    "    print('❌ sklearn.cross_decomposition._pls.CCA.__repr__: Return unavailable') # noqa E501\n",
    "    print(\"  Please fix this return type code until there is no exception\")\n",
    "    print('  Error:', e)\n"
   ]
  },
  {
   "cell_type": "code",
   "execution_count": null,
   "id": "proper-sheet",
   "metadata": {},
   "outputs": [],
   "source": [
    "# sklearn.cross_decomposition._pls.CCA.__setstate__\n",
    "try:\n",
    "    obj = class_constructor() # noqa F821\n",
    "    ret = obj.__setstate__()\n",
    "    type_sklearn_cross_decomposition__pls_CCA___setstate__ = getattr(ret, '__module__', 'none') + '.' + ret.__class__.__name__\n",
    "    print('✅ sklearn.cross_decomposition._pls.CCA.__setstate__: ', type(ret)) # noqa E501\n",
    "except Exception as e:\n",
    "    type_sklearn_cross_decomposition__pls_CCA___setstate__ = '_syft_missing'\n",
    "    print('❌ sklearn.cross_decomposition._pls.CCA.__setstate__: Return unavailable') # noqa E501\n",
    "    print(\"  Please fix this return type code until there is no exception\")\n",
    "    print('  Error:', e)\n"
   ]
  },
  {
   "cell_type": "code",
   "execution_count": null,
   "id": "coordinated-restaurant",
   "metadata": {},
   "outputs": [],
   "source": [
    "# sklearn.cross_decomposition._pls.CCA._check_n_features\n",
    "try:\n",
    "    obj = class_constructor() # noqa F821\n",
    "    ret = obj._check_n_features()\n",
    "    type_sklearn_cross_decomposition__pls_CCA__check_n_features = getattr(ret, '__module__', 'none') + '.' + ret.__class__.__name__\n",
    "    print('✅ sklearn.cross_decomposition._pls.CCA._check_n_features: ', type(ret)) # noqa E501\n",
    "except Exception as e:\n",
    "    type_sklearn_cross_decomposition__pls_CCA__check_n_features = '_syft_missing'\n",
    "    print('❌ sklearn.cross_decomposition._pls.CCA._check_n_features: Return unavailable') # noqa E501\n",
    "    print(\"  Please fix this return type code until there is no exception\")\n",
    "    print('  Error:', e)\n"
   ]
  },
  {
   "cell_type": "code",
   "execution_count": null,
   "id": "limiting-pulse",
   "metadata": {},
   "outputs": [],
   "source": [
    "# sklearn.cross_decomposition._pls.CCA._get_param_names\n",
    "try:\n",
    "    obj = class_constructor() # noqa F821\n",
    "    ret = obj._get_param_names()\n",
    "    type_sklearn_cross_decomposition__pls_CCA__get_param_names = getattr(ret, '__module__', 'none') + '.' + ret.__class__.__name__\n",
    "    print('✅ sklearn.cross_decomposition._pls.CCA._get_param_names: ', type(ret)) # noqa E501\n",
    "except Exception as e:\n",
    "    type_sklearn_cross_decomposition__pls_CCA__get_param_names = '_syft_missing'\n",
    "    print('❌ sklearn.cross_decomposition._pls.CCA._get_param_names: Return unavailable') # noqa E501\n",
    "    print(\"  Please fix this return type code until there is no exception\")\n",
    "    print('  Error:', e)\n"
   ]
  },
  {
   "cell_type": "code",
   "execution_count": null,
   "id": "medieval-sheep",
   "metadata": {},
   "outputs": [],
   "source": [
    "# sklearn.cross_decomposition._pls.CCA._get_tags\n",
    "try:\n",
    "    obj = class_constructor() # noqa F821\n",
    "    ret = obj._get_tags()\n",
    "    type_sklearn_cross_decomposition__pls_CCA__get_tags = getattr(ret, '__module__', 'none') + '.' + ret.__class__.__name__\n",
    "    print('✅ sklearn.cross_decomposition._pls.CCA._get_tags: ', type(ret)) # noqa E501\n",
    "except Exception as e:\n",
    "    type_sklearn_cross_decomposition__pls_CCA__get_tags = '_syft_missing'\n",
    "    print('❌ sklearn.cross_decomposition._pls.CCA._get_tags: Return unavailable') # noqa E501\n",
    "    print(\"  Please fix this return type code until there is no exception\")\n",
    "    print('  Error:', e)\n"
   ]
  },
  {
   "cell_type": "code",
   "execution_count": null,
   "id": "irish-plumbing",
   "metadata": {},
   "outputs": [],
   "source": [
    "# sklearn.cross_decomposition._pls.CCA._more_tags\n",
    "try:\n",
    "    obj = class_constructor() # noqa F821\n",
    "    ret = obj._more_tags()\n",
    "    type_sklearn_cross_decomposition__pls_CCA__more_tags = getattr(ret, '__module__', 'none') + '.' + ret.__class__.__name__\n",
    "    print('✅ sklearn.cross_decomposition._pls.CCA._more_tags: ', type(ret)) # noqa E501\n",
    "except Exception as e:\n",
    "    type_sklearn_cross_decomposition__pls_CCA__more_tags = '_syft_missing'\n",
    "    print('❌ sklearn.cross_decomposition._pls.CCA._more_tags: Return unavailable') # noqa E501\n",
    "    print(\"  Please fix this return type code until there is no exception\")\n",
    "    print('  Error:', e)\n"
   ]
  },
  {
   "cell_type": "code",
   "execution_count": null,
   "id": "correct-cooler",
   "metadata": {},
   "outputs": [],
   "source": [
    "# sklearn.cross_decomposition._pls.CCA._repr_html_\n",
    "try:\n",
    "    obj = class_constructor()\n",
    "    ret = obj._repr_html_\n",
    "    type_sklearn_cross_decomposition__pls_CCA__repr_html_ = getattr(ret, '__module__', 'none') + '.' + ret.__class__.__name__\n",
    "    print('✅ sklearn.cross_decomposition._pls.CCA._repr_html_:', type(ret)) # noqa E501\n",
    "except Exception as e:\n",
    "    type_sklearn_cross_decomposition__pls_CCA__repr_html_ = '_syft_missing'\n",
    "    print('❌ sklearn.cross_decomposition._pls.CCA._repr_html_: Return unavailable') # noqa E501\n",
    "    print(\"  Please fix this return type code until there is no exception\")\n",
    "    print('  Error:', e)\n"
   ]
  },
  {
   "cell_type": "code",
   "execution_count": null,
   "id": "earned-illinois",
   "metadata": {},
   "outputs": [],
   "source": [
    "# sklearn.cross_decomposition._pls.CCA._repr_html_inner\n",
    "try:\n",
    "    obj = class_constructor() # noqa F821\n",
    "    ret = obj._repr_html_inner()\n",
    "    type_sklearn_cross_decomposition__pls_CCA__repr_html_inner = getattr(ret, '__module__', 'none') + '.' + ret.__class__.__name__\n",
    "    print('✅ sklearn.cross_decomposition._pls.CCA._repr_html_inner: ', type(ret)) # noqa E501\n",
    "except Exception as e:\n",
    "    type_sklearn_cross_decomposition__pls_CCA__repr_html_inner = '_syft_missing'\n",
    "    print('❌ sklearn.cross_decomposition._pls.CCA._repr_html_inner: Return unavailable') # noqa E501\n",
    "    print(\"  Please fix this return type code until there is no exception\")\n",
    "    print('  Error:', e)\n"
   ]
  },
  {
   "cell_type": "code",
   "execution_count": null,
   "id": "restricted-trinidad",
   "metadata": {},
   "outputs": [],
   "source": [
    "# sklearn.cross_decomposition._pls.CCA._repr_mimebundle_\n",
    "try:\n",
    "    obj = class_constructor() # noqa F821\n",
    "    ret = obj._repr_mimebundle_()\n",
    "    type_sklearn_cross_decomposition__pls_CCA__repr_mimebundle_ = getattr(ret, '__module__', 'none') + '.' + ret.__class__.__name__\n",
    "    print('✅ sklearn.cross_decomposition._pls.CCA._repr_mimebundle_: ', type(ret)) # noqa E501\n",
    "except Exception as e:\n",
    "    type_sklearn_cross_decomposition__pls_CCA__repr_mimebundle_ = '_syft_missing'\n",
    "    print('❌ sklearn.cross_decomposition._pls.CCA._repr_mimebundle_: Return unavailable') # noqa E501\n",
    "    print(\"  Please fix this return type code until there is no exception\")\n",
    "    print('  Error:', e)\n"
   ]
  },
  {
   "cell_type": "code",
   "execution_count": null,
   "id": "serial-geology",
   "metadata": {},
   "outputs": [],
   "source": [
    "# sklearn.cross_decomposition._pls.CCA._validate_data\n",
    "try:\n",
    "    obj = class_constructor() # noqa F821\n",
    "    ret = obj._validate_data()\n",
    "    type_sklearn_cross_decomposition__pls_CCA__validate_data = getattr(ret, '__module__', 'none') + '.' + ret.__class__.__name__\n",
    "    print('✅ sklearn.cross_decomposition._pls.CCA._validate_data: ', type(ret)) # noqa E501\n",
    "except Exception as e:\n",
    "    type_sklearn_cross_decomposition__pls_CCA__validate_data = '_syft_missing'\n",
    "    print('❌ sklearn.cross_decomposition._pls.CCA._validate_data: Return unavailable') # noqa E501\n",
    "    print(\"  Please fix this return type code until there is no exception\")\n",
    "    print('  Error:', e)\n"
   ]
  },
  {
   "cell_type": "code",
   "execution_count": null,
   "id": "infinite-premiere",
   "metadata": {},
   "outputs": [],
   "source": [
    "# sklearn.cross_decomposition._pls.CCA.fit\n",
    "try:\n",
    "    obj = class_constructor() # noqa F821\n",
    "    ret = obj.fit()\n",
    "    type_sklearn_cross_decomposition__pls_CCA_fit = getattr(ret, '__module__', 'none') + '.' + ret.__class__.__name__\n",
    "    print('✅ sklearn.cross_decomposition._pls.CCA.fit: ', type(ret)) # noqa E501\n",
    "except Exception as e:\n",
    "    type_sklearn_cross_decomposition__pls_CCA_fit = '_syft_missing'\n",
    "    print('❌ sklearn.cross_decomposition._pls.CCA.fit: Return unavailable') # noqa E501\n",
    "    print(\"  Please fix this return type code until there is no exception\")\n",
    "    print('  Error:', e)\n"
   ]
  },
  {
   "cell_type": "code",
   "execution_count": null,
   "id": "organized-manchester",
   "metadata": {},
   "outputs": [],
   "source": [
    "# sklearn.cross_decomposition._pls.CCA.fit_transform\n",
    "try:\n",
    "    obj = class_constructor() # noqa F821\n",
    "    ret = obj.fit_transform()\n",
    "    type_sklearn_cross_decomposition__pls_CCA_fit_transform = getattr(ret, '__module__', 'none') + '.' + ret.__class__.__name__\n",
    "    print('✅ sklearn.cross_decomposition._pls.CCA.fit_transform: ', type(ret)) # noqa E501\n",
    "except Exception as e:\n",
    "    type_sklearn_cross_decomposition__pls_CCA_fit_transform = '_syft_missing'\n",
    "    print('❌ sklearn.cross_decomposition._pls.CCA.fit_transform: Return unavailable') # noqa E501\n",
    "    print(\"  Please fix this return type code until there is no exception\")\n",
    "    print('  Error:', e)\n"
   ]
  },
  {
   "cell_type": "code",
   "execution_count": null,
   "id": "formed-philippines",
   "metadata": {},
   "outputs": [],
   "source": [
    "# sklearn.cross_decomposition._pls.CCA.get_params\n",
    "try:\n",
    "    obj = class_constructor() # noqa F821\n",
    "    ret = obj.get_params()\n",
    "    type_sklearn_cross_decomposition__pls_CCA_get_params = getattr(ret, '__module__', 'none') + '.' + ret.__class__.__name__\n",
    "    print('✅ sklearn.cross_decomposition._pls.CCA.get_params: ', type(ret)) # noqa E501\n",
    "except Exception as e:\n",
    "    type_sklearn_cross_decomposition__pls_CCA_get_params = '_syft_missing'\n",
    "    print('❌ sklearn.cross_decomposition._pls.CCA.get_params: Return unavailable') # noqa E501\n",
    "    print(\"  Please fix this return type code until there is no exception\")\n",
    "    print('  Error:', e)\n"
   ]
  },
  {
   "cell_type": "code",
   "execution_count": null,
   "id": "judicial-symposium",
   "metadata": {},
   "outputs": [],
   "source": [
    "# sklearn.cross_decomposition._pls.CCA.inverse_transform\n",
    "try:\n",
    "    obj = class_constructor() # noqa F821\n",
    "    ret = obj.inverse_transform()\n",
    "    type_sklearn_cross_decomposition__pls_CCA_inverse_transform = getattr(ret, '__module__', 'none') + '.' + ret.__class__.__name__\n",
    "    print('✅ sklearn.cross_decomposition._pls.CCA.inverse_transform: ', type(ret)) # noqa E501\n",
    "except Exception as e:\n",
    "    type_sklearn_cross_decomposition__pls_CCA_inverse_transform = '_syft_missing'\n",
    "    print('❌ sklearn.cross_decomposition._pls.CCA.inverse_transform: Return unavailable') # noqa E501\n",
    "    print(\"  Please fix this return type code until there is no exception\")\n",
    "    print('  Error:', e)\n"
   ]
  },
  {
   "cell_type": "code",
   "execution_count": null,
   "id": "downtown-chemical",
   "metadata": {},
   "outputs": [],
   "source": [
    "# sklearn.cross_decomposition._pls.CCA.norm_y_weights\n",
    "try:\n",
    "    obj = class_constructor()\n",
    "    ret = obj.norm_y_weights\n",
    "    type_sklearn_cross_decomposition__pls_CCA_norm_y_weights = getattr(ret, '__module__', 'none') + '.' + ret.__class__.__name__\n",
    "    print('✅ sklearn.cross_decomposition._pls.CCA.norm_y_weights:', type(ret)) # noqa E501\n",
    "except Exception as e:\n",
    "    type_sklearn_cross_decomposition__pls_CCA_norm_y_weights = '_syft_missing'\n",
    "    print('❌ sklearn.cross_decomposition._pls.CCA.norm_y_weights: Return unavailable') # noqa E501\n",
    "    print(\"  Please fix this return type code until there is no exception\")\n",
    "    print('  Error:', e)\n"
   ]
  },
  {
   "cell_type": "code",
   "execution_count": null,
   "id": "homeless-intellectual",
   "metadata": {},
   "outputs": [],
   "source": [
    "# sklearn.cross_decomposition._pls.CCA.predict\n",
    "try:\n",
    "    obj = class_constructor() # noqa F821\n",
    "    ret = obj.predict()\n",
    "    type_sklearn_cross_decomposition__pls_CCA_predict = getattr(ret, '__module__', 'none') + '.' + ret.__class__.__name__\n",
    "    print('✅ sklearn.cross_decomposition._pls.CCA.predict: ', type(ret)) # noqa E501\n",
    "except Exception as e:\n",
    "    type_sklearn_cross_decomposition__pls_CCA_predict = '_syft_missing'\n",
    "    print('❌ sklearn.cross_decomposition._pls.CCA.predict: Return unavailable') # noqa E501\n",
    "    print(\"  Please fix this return type code until there is no exception\")\n",
    "    print('  Error:', e)\n"
   ]
  },
  {
   "cell_type": "code",
   "execution_count": null,
   "id": "social-somalia",
   "metadata": {},
   "outputs": [],
   "source": [
    "# sklearn.cross_decomposition._pls.CCA.score\n",
    "try:\n",
    "    obj = class_constructor() # noqa F821\n",
    "    ret = obj.score()\n",
    "    type_sklearn_cross_decomposition__pls_CCA_score = getattr(ret, '__module__', 'none') + '.' + ret.__class__.__name__\n",
    "    print('✅ sklearn.cross_decomposition._pls.CCA.score: ', type(ret)) # noqa E501\n",
    "except Exception as e:\n",
    "    type_sklearn_cross_decomposition__pls_CCA_score = '_syft_missing'\n",
    "    print('❌ sklearn.cross_decomposition._pls.CCA.score: Return unavailable') # noqa E501\n",
    "    print(\"  Please fix this return type code until there is no exception\")\n",
    "    print('  Error:', e)\n"
   ]
  },
  {
   "cell_type": "code",
   "execution_count": null,
   "id": "pregnant-faculty",
   "metadata": {},
   "outputs": [],
   "source": [
    "# sklearn.cross_decomposition._pls.CCA.set_params\n",
    "try:\n",
    "    obj = class_constructor() # noqa F821\n",
    "    ret = obj.set_params()\n",
    "    type_sklearn_cross_decomposition__pls_CCA_set_params = getattr(ret, '__module__', 'none') + '.' + ret.__class__.__name__\n",
    "    print('✅ sklearn.cross_decomposition._pls.CCA.set_params: ', type(ret)) # noqa E501\n",
    "except Exception as e:\n",
    "    type_sklearn_cross_decomposition__pls_CCA_set_params = '_syft_missing'\n",
    "    print('❌ sklearn.cross_decomposition._pls.CCA.set_params: Return unavailable') # noqa E501\n",
    "    print(\"  Please fix this return type code until there is no exception\")\n",
    "    print('  Error:', e)\n"
   ]
  },
  {
   "cell_type": "code",
   "execution_count": null,
   "id": "molecular-jungle",
   "metadata": {},
   "outputs": [],
   "source": [
    "# sklearn.cross_decomposition._pls.CCA.transform\n",
    "try:\n",
    "    obj = class_constructor() # noqa F821\n",
    "    ret = obj.transform()\n",
    "    type_sklearn_cross_decomposition__pls_CCA_transform = getattr(ret, '__module__', 'none') + '.' + ret.__class__.__name__\n",
    "    print('✅ sklearn.cross_decomposition._pls.CCA.transform: ', type(ret)) # noqa E501\n",
    "except Exception as e:\n",
    "    type_sklearn_cross_decomposition__pls_CCA_transform = '_syft_missing'\n",
    "    print('❌ sklearn.cross_decomposition._pls.CCA.transform: Return unavailable') # noqa E501\n",
    "    print(\"  Please fix this return type code until there is no exception\")\n",
    "    print('  Error:', e)\n"
   ]
  },
  {
   "cell_type": "code",
   "execution_count": null,
   "id": "posted-sponsorship",
   "metadata": {},
   "outputs": [],
   "source": [
    "# sklearn.cross_decomposition._pls.CCA.x_mean_\n",
    "try:\n",
    "    obj = class_constructor()\n",
    "    ret = obj.x_mean_\n",
    "    type_sklearn_cross_decomposition__pls_CCA_x_mean_ = getattr(ret, '__module__', 'none') + '.' + ret.__class__.__name__\n",
    "    print('✅ sklearn.cross_decomposition._pls.CCA.x_mean_:', type(ret)) # noqa E501\n",
    "except Exception as e:\n",
    "    type_sklearn_cross_decomposition__pls_CCA_x_mean_ = '_syft_missing'\n",
    "    print('❌ sklearn.cross_decomposition._pls.CCA.x_mean_: Return unavailable') # noqa E501\n",
    "    print(\"  Please fix this return type code until there is no exception\")\n",
    "    print('  Error:', e)\n"
   ]
  },
  {
   "cell_type": "code",
   "execution_count": null,
   "id": "moved-finder",
   "metadata": {},
   "outputs": [],
   "source": [
    "# sklearn.cross_decomposition._pls.CCA.x_scores_\n",
    "try:\n",
    "    obj = class_constructor()\n",
    "    ret = obj.x_scores_\n",
    "    type_sklearn_cross_decomposition__pls_CCA_x_scores_ = getattr(ret, '__module__', 'none') + '.' + ret.__class__.__name__\n",
    "    print('✅ sklearn.cross_decomposition._pls.CCA.x_scores_:', type(ret)) # noqa E501\n",
    "except Exception as e:\n",
    "    type_sklearn_cross_decomposition__pls_CCA_x_scores_ = '_syft_missing'\n",
    "    print('❌ sklearn.cross_decomposition._pls.CCA.x_scores_: Return unavailable') # noqa E501\n",
    "    print(\"  Please fix this return type code until there is no exception\")\n",
    "    print('  Error:', e)\n"
   ]
  },
  {
   "cell_type": "code",
   "execution_count": null,
   "id": "ahead-reminder",
   "metadata": {},
   "outputs": [],
   "source": [
    "# sklearn.cross_decomposition._pls.CCA.x_std_\n",
    "try:\n",
    "    obj = class_constructor()\n",
    "    ret = obj.x_std_\n",
    "    type_sklearn_cross_decomposition__pls_CCA_x_std_ = getattr(ret, '__module__', 'none') + '.' + ret.__class__.__name__\n",
    "    print('✅ sklearn.cross_decomposition._pls.CCA.x_std_:', type(ret)) # noqa E501\n",
    "except Exception as e:\n",
    "    type_sklearn_cross_decomposition__pls_CCA_x_std_ = '_syft_missing'\n",
    "    print('❌ sklearn.cross_decomposition._pls.CCA.x_std_: Return unavailable') # noqa E501\n",
    "    print(\"  Please fix this return type code until there is no exception\")\n",
    "    print('  Error:', e)\n"
   ]
  },
  {
   "cell_type": "code",
   "execution_count": null,
   "id": "little-kennedy",
   "metadata": {},
   "outputs": [],
   "source": [
    "# sklearn.cross_decomposition._pls.CCA.y_mean_\n",
    "try:\n",
    "    obj = class_constructor()\n",
    "    ret = obj.y_mean_\n",
    "    type_sklearn_cross_decomposition__pls_CCA_y_mean_ = getattr(ret, '__module__', 'none') + '.' + ret.__class__.__name__\n",
    "    print('✅ sklearn.cross_decomposition._pls.CCA.y_mean_:', type(ret)) # noqa E501\n",
    "except Exception as e:\n",
    "    type_sklearn_cross_decomposition__pls_CCA_y_mean_ = '_syft_missing'\n",
    "    print('❌ sklearn.cross_decomposition._pls.CCA.y_mean_: Return unavailable') # noqa E501\n",
    "    print(\"  Please fix this return type code until there is no exception\")\n",
    "    print('  Error:', e)\n"
   ]
  },
  {
   "cell_type": "code",
   "execution_count": null,
   "id": "political-latest",
   "metadata": {},
   "outputs": [],
   "source": [
    "# sklearn.cross_decomposition._pls.CCA.y_scores_\n",
    "try:\n",
    "    obj = class_constructor()\n",
    "    ret = obj.y_scores_\n",
    "    type_sklearn_cross_decomposition__pls_CCA_y_scores_ = getattr(ret, '__module__', 'none') + '.' + ret.__class__.__name__\n",
    "    print('✅ sklearn.cross_decomposition._pls.CCA.y_scores_:', type(ret)) # noqa E501\n",
    "except Exception as e:\n",
    "    type_sklearn_cross_decomposition__pls_CCA_y_scores_ = '_syft_missing'\n",
    "    print('❌ sklearn.cross_decomposition._pls.CCA.y_scores_: Return unavailable') # noqa E501\n",
    "    print(\"  Please fix this return type code until there is no exception\")\n",
    "    print('  Error:', e)\n"
   ]
  },
  {
   "cell_type": "code",
   "execution_count": null,
   "id": "orange-firmware",
   "metadata": {},
   "outputs": [],
   "source": [
    "# sklearn.cross_decomposition._pls.CCA.y_std_\n",
    "try:\n",
    "    obj = class_constructor()\n",
    "    ret = obj.y_std_\n",
    "    type_sklearn_cross_decomposition__pls_CCA_y_std_ = getattr(ret, '__module__', 'none') + '.' + ret.__class__.__name__\n",
    "    print('✅ sklearn.cross_decomposition._pls.CCA.y_std_:', type(ret)) # noqa E501\n",
    "except Exception as e:\n",
    "    type_sklearn_cross_decomposition__pls_CCA_y_std_ = '_syft_missing'\n",
    "    print('❌ sklearn.cross_decomposition._pls.CCA.y_std_: Return unavailable') # noqa E501\n",
    "    print(\"  Please fix this return type code until there is no exception\")\n",
    "    print('  Error:', e)\n"
   ]
  }
 ],
 "metadata": {},
 "nbformat": 4,
 "nbformat_minor": 5
}
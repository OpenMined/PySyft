{
 "cells": [
  {
   "cell_type": "markdown",
   "id": "cloudy-runner",
   "metadata": {},
   "source": [
    "## sklearn.feature_selection._univariate_selection._BaseFilter"
   ]
  },
  {
   "cell_type": "code",
   "execution_count": null,
   "id": "intended-bhutan",
   "metadata": {},
   "outputs": [],
   "source": [
    "import sklearn\n",
    "def class_constructor(*args, **kwargs):\n",
    "    obj = sklearn.feature_selection._univariate_selection._BaseFilter()\n",
    "    return obj\n"
   ]
  },
  {
   "cell_type": "code",
   "execution_count": null,
   "id": "hindu-asthma",
   "metadata": {},
   "outputs": [],
   "source": [
    "# sklearn.feature_selection._univariate_selection._BaseFilter.__getstate__\n",
    "try:\n",
    "    obj = class_constructor() # noqa F821\n",
    "    ret = obj.__getstate__()\n",
    "    type_sklearn_feature_selection__univariate_selection__BaseFilter___getstate__ = getattr(ret, '__module__', 'none') + '.' + ret.__class__.__name__\n",
    "    print('✅ sklearn.feature_selection._univariate_selection._BaseFilter.__getstate__: ', type(ret)) # noqa E501\n",
    "except Exception as e:\n",
    "    type_sklearn_feature_selection__univariate_selection__BaseFilter___getstate__ = '_syft_missing'\n",
    "    print('❌ sklearn.feature_selection._univariate_selection._BaseFilter.__getstate__: Return unavailable') # noqa E501\n",
    "    print(\"  Please fix this return type code until there is no exception\")\n",
    "    print('  Error:', e)\n"
   ]
  },
  {
   "cell_type": "code",
   "execution_count": null,
   "id": "photographic-sharing",
   "metadata": {},
   "outputs": [],
   "source": [
    "# sklearn.feature_selection._univariate_selection._BaseFilter.__repr__\n",
    "try:\n",
    "    obj = class_constructor() # noqa F821\n",
    "    ret = obj.__repr__()\n",
    "    type_sklearn_feature_selection__univariate_selection__BaseFilter___repr__ = getattr(ret, '__module__', 'none') + '.' + ret.__class__.__name__\n",
    "    print('✅ sklearn.feature_selection._univariate_selection._BaseFilter.__repr__: ', type(ret)) # noqa E501\n",
    "except Exception as e:\n",
    "    type_sklearn_feature_selection__univariate_selection__BaseFilter___repr__ = '_syft_missing'\n",
    "    print('❌ sklearn.feature_selection._univariate_selection._BaseFilter.__repr__: Return unavailable') # noqa E501\n",
    "    print(\"  Please fix this return type code until there is no exception\")\n",
    "    print('  Error:', e)\n"
   ]
  },
  {
   "cell_type": "code",
   "execution_count": null,
   "id": "convenient-knock",
   "metadata": {},
   "outputs": [],
   "source": [
    "# sklearn.feature_selection._univariate_selection._BaseFilter.__setstate__\n",
    "try:\n",
    "    obj = class_constructor() # noqa F821\n",
    "    ret = obj.__setstate__()\n",
    "    type_sklearn_feature_selection__univariate_selection__BaseFilter___setstate__ = getattr(ret, '__module__', 'none') + '.' + ret.__class__.__name__\n",
    "    print('✅ sklearn.feature_selection._univariate_selection._BaseFilter.__setstate__: ', type(ret)) # noqa E501\n",
    "except Exception as e:\n",
    "    type_sklearn_feature_selection__univariate_selection__BaseFilter___setstate__ = '_syft_missing'\n",
    "    print('❌ sklearn.feature_selection._univariate_selection._BaseFilter.__setstate__: Return unavailable') # noqa E501\n",
    "    print(\"  Please fix this return type code until there is no exception\")\n",
    "    print('  Error:', e)\n"
   ]
  },
  {
   "cell_type": "code",
   "execution_count": null,
   "id": "simple-flashing",
   "metadata": {},
   "outputs": [],
   "source": [
    "# sklearn.feature_selection._univariate_selection._BaseFilter._check_n_features\n",
    "try:\n",
    "    obj = class_constructor() # noqa F821\n",
    "    ret = obj._check_n_features()\n",
    "    type_sklearn_feature_selection__univariate_selection__BaseFilter__check_n_features = getattr(ret, '__module__', 'none') + '.' + ret.__class__.__name__\n",
    "    print('✅ sklearn.feature_selection._univariate_selection._BaseFilter._check_n_features: ', type(ret)) # noqa E501\n",
    "except Exception as e:\n",
    "    type_sklearn_feature_selection__univariate_selection__BaseFilter__check_n_features = '_syft_missing'\n",
    "    print('❌ sklearn.feature_selection._univariate_selection._BaseFilter._check_n_features: Return unavailable') # noqa E501\n",
    "    print(\"  Please fix this return type code until there is no exception\")\n",
    "    print('  Error:', e)\n"
   ]
  },
  {
   "cell_type": "code",
   "execution_count": null,
   "id": "decimal-reggae",
   "metadata": {},
   "outputs": [],
   "source": [
    "# sklearn.feature_selection._univariate_selection._BaseFilter._check_params\n",
    "try:\n",
    "    obj = class_constructor() # noqa F821\n",
    "    ret = obj._check_params()\n",
    "    type_sklearn_feature_selection__univariate_selection__BaseFilter__check_params = getattr(ret, '__module__', 'none') + '.' + ret.__class__.__name__\n",
    "    print('✅ sklearn.feature_selection._univariate_selection._BaseFilter._check_params: ', type(ret)) # noqa E501\n",
    "except Exception as e:\n",
    "    type_sklearn_feature_selection__univariate_selection__BaseFilter__check_params = '_syft_missing'\n",
    "    print('❌ sklearn.feature_selection._univariate_selection._BaseFilter._check_params: Return unavailable') # noqa E501\n",
    "    print(\"  Please fix this return type code until there is no exception\")\n",
    "    print('  Error:', e)\n"
   ]
  },
  {
   "cell_type": "code",
   "execution_count": null,
   "id": "gorgeous-ethics",
   "metadata": {},
   "outputs": [],
   "source": [
    "# sklearn.feature_selection._univariate_selection._BaseFilter._get_param_names\n",
    "try:\n",
    "    obj = class_constructor() # noqa F821\n",
    "    ret = obj._get_param_names()\n",
    "    type_sklearn_feature_selection__univariate_selection__BaseFilter__get_param_names = getattr(ret, '__module__', 'none') + '.' + ret.__class__.__name__\n",
    "    print('✅ sklearn.feature_selection._univariate_selection._BaseFilter._get_param_names: ', type(ret)) # noqa E501\n",
    "except Exception as e:\n",
    "    type_sklearn_feature_selection__univariate_selection__BaseFilter__get_param_names = '_syft_missing'\n",
    "    print('❌ sklearn.feature_selection._univariate_selection._BaseFilter._get_param_names: Return unavailable') # noqa E501\n",
    "    print(\"  Please fix this return type code until there is no exception\")\n",
    "    print('  Error:', e)\n"
   ]
  },
  {
   "cell_type": "code",
   "execution_count": null,
   "id": "considered-rotation",
   "metadata": {},
   "outputs": [],
   "source": [
    "# sklearn.feature_selection._univariate_selection._BaseFilter._get_support_mask\n",
    "try:\n",
    "    obj = class_constructor() # noqa F821\n",
    "    ret = obj._get_support_mask()\n",
    "    type_sklearn_feature_selection__univariate_selection__BaseFilter__get_support_mask = getattr(ret, '__module__', 'none') + '.' + ret.__class__.__name__\n",
    "    print('✅ sklearn.feature_selection._univariate_selection._BaseFilter._get_support_mask: ', type(ret)) # noqa E501\n",
    "except Exception as e:\n",
    "    type_sklearn_feature_selection__univariate_selection__BaseFilter__get_support_mask = '_syft_missing'\n",
    "    print('❌ sklearn.feature_selection._univariate_selection._BaseFilter._get_support_mask: Return unavailable') # noqa E501\n",
    "    print(\"  Please fix this return type code until there is no exception\")\n",
    "    print('  Error:', e)\n"
   ]
  },
  {
   "cell_type": "code",
   "execution_count": null,
   "id": "chemical-latvia",
   "metadata": {},
   "outputs": [],
   "source": [
    "# sklearn.feature_selection._univariate_selection._BaseFilter._get_tags\n",
    "try:\n",
    "    obj = class_constructor() # noqa F821\n",
    "    ret = obj._get_tags()\n",
    "    type_sklearn_feature_selection__univariate_selection__BaseFilter__get_tags = getattr(ret, '__module__', 'none') + '.' + ret.__class__.__name__\n",
    "    print('✅ sklearn.feature_selection._univariate_selection._BaseFilter._get_tags: ', type(ret)) # noqa E501\n",
    "except Exception as e:\n",
    "    type_sklearn_feature_selection__univariate_selection__BaseFilter__get_tags = '_syft_missing'\n",
    "    print('❌ sklearn.feature_selection._univariate_selection._BaseFilter._get_tags: Return unavailable') # noqa E501\n",
    "    print(\"  Please fix this return type code until there is no exception\")\n",
    "    print('  Error:', e)\n"
   ]
  },
  {
   "cell_type": "code",
   "execution_count": null,
   "id": "meaningful-static",
   "metadata": {},
   "outputs": [],
   "source": [
    "# sklearn.feature_selection._univariate_selection._BaseFilter._more_tags\n",
    "try:\n",
    "    obj = class_constructor() # noqa F821\n",
    "    ret = obj._more_tags()\n",
    "    type_sklearn_feature_selection__univariate_selection__BaseFilter__more_tags = getattr(ret, '__module__', 'none') + '.' + ret.__class__.__name__\n",
    "    print('✅ sklearn.feature_selection._univariate_selection._BaseFilter._more_tags: ', type(ret)) # noqa E501\n",
    "except Exception as e:\n",
    "    type_sklearn_feature_selection__univariate_selection__BaseFilter__more_tags = '_syft_missing'\n",
    "    print('❌ sklearn.feature_selection._univariate_selection._BaseFilter._more_tags: Return unavailable') # noqa E501\n",
    "    print(\"  Please fix this return type code until there is no exception\")\n",
    "    print('  Error:', e)\n"
   ]
  },
  {
   "cell_type": "code",
   "execution_count": null,
   "id": "worse-sport",
   "metadata": {},
   "outputs": [],
   "source": [
    "# sklearn.feature_selection._univariate_selection._BaseFilter._repr_html_\n",
    "try:\n",
    "    obj = class_constructor()\n",
    "    ret = obj._repr_html_\n",
    "    type_sklearn_feature_selection__univariate_selection__BaseFilter__repr_html_ = getattr(ret, '__module__', 'none') + '.' + ret.__class__.__name__\n",
    "    print('✅ sklearn.feature_selection._univariate_selection._BaseFilter._repr_html_:', type(ret)) # noqa E501\n",
    "except Exception as e:\n",
    "    type_sklearn_feature_selection__univariate_selection__BaseFilter__repr_html_ = '_syft_missing'\n",
    "    print('❌ sklearn.feature_selection._univariate_selection._BaseFilter._repr_html_: Return unavailable') # noqa E501\n",
    "    print(\"  Please fix this return type code until there is no exception\")\n",
    "    print('  Error:', e)\n"
   ]
  },
  {
   "cell_type": "code",
   "execution_count": null,
   "id": "returning-treasurer",
   "metadata": {},
   "outputs": [],
   "source": [
    "# sklearn.feature_selection._univariate_selection._BaseFilter._repr_html_inner\n",
    "try:\n",
    "    obj = class_constructor() # noqa F821\n",
    "    ret = obj._repr_html_inner()\n",
    "    type_sklearn_feature_selection__univariate_selection__BaseFilter__repr_html_inner = getattr(ret, '__module__', 'none') + '.' + ret.__class__.__name__\n",
    "    print('✅ sklearn.feature_selection._univariate_selection._BaseFilter._repr_html_inner: ', type(ret)) # noqa E501\n",
    "except Exception as e:\n",
    "    type_sklearn_feature_selection__univariate_selection__BaseFilter__repr_html_inner = '_syft_missing'\n",
    "    print('❌ sklearn.feature_selection._univariate_selection._BaseFilter._repr_html_inner: Return unavailable') # noqa E501\n",
    "    print(\"  Please fix this return type code until there is no exception\")\n",
    "    print('  Error:', e)\n"
   ]
  },
  {
   "cell_type": "code",
   "execution_count": null,
   "id": "acquired-physics",
   "metadata": {},
   "outputs": [],
   "source": [
    "# sklearn.feature_selection._univariate_selection._BaseFilter._repr_mimebundle_\n",
    "try:\n",
    "    obj = class_constructor() # noqa F821\n",
    "    ret = obj._repr_mimebundle_()\n",
    "    type_sklearn_feature_selection__univariate_selection__BaseFilter__repr_mimebundle_ = getattr(ret, '__module__', 'none') + '.' + ret.__class__.__name__\n",
    "    print('✅ sklearn.feature_selection._univariate_selection._BaseFilter._repr_mimebundle_: ', type(ret)) # noqa E501\n",
    "except Exception as e:\n",
    "    type_sklearn_feature_selection__univariate_selection__BaseFilter__repr_mimebundle_ = '_syft_missing'\n",
    "    print('❌ sklearn.feature_selection._univariate_selection._BaseFilter._repr_mimebundle_: Return unavailable') # noqa E501\n",
    "    print(\"  Please fix this return type code until there is no exception\")\n",
    "    print('  Error:', e)\n"
   ]
  },
  {
   "cell_type": "code",
   "execution_count": null,
   "id": "happy-contest",
   "metadata": {},
   "outputs": [],
   "source": [
    "# sklearn.feature_selection._univariate_selection._BaseFilter._validate_data\n",
    "try:\n",
    "    obj = class_constructor() # noqa F821\n",
    "    ret = obj._validate_data()\n",
    "    type_sklearn_feature_selection__univariate_selection__BaseFilter__validate_data = getattr(ret, '__module__', 'none') + '.' + ret.__class__.__name__\n",
    "    print('✅ sklearn.feature_selection._univariate_selection._BaseFilter._validate_data: ', type(ret)) # noqa E501\n",
    "except Exception as e:\n",
    "    type_sklearn_feature_selection__univariate_selection__BaseFilter__validate_data = '_syft_missing'\n",
    "    print('❌ sklearn.feature_selection._univariate_selection._BaseFilter._validate_data: Return unavailable') # noqa E501\n",
    "    print(\"  Please fix this return type code until there is no exception\")\n",
    "    print('  Error:', e)\n"
   ]
  },
  {
   "cell_type": "code",
   "execution_count": null,
   "id": "rolled-moderator",
   "metadata": {},
   "outputs": [],
   "source": [
    "# sklearn.feature_selection._univariate_selection._BaseFilter.fit\n",
    "try:\n",
    "    obj = class_constructor() # noqa F821\n",
    "    ret = obj.fit()\n",
    "    type_sklearn_feature_selection__univariate_selection__BaseFilter_fit = getattr(ret, '__module__', 'none') + '.' + ret.__class__.__name__\n",
    "    print('✅ sklearn.feature_selection._univariate_selection._BaseFilter.fit: ', type(ret)) # noqa E501\n",
    "except Exception as e:\n",
    "    type_sklearn_feature_selection__univariate_selection__BaseFilter_fit = '_syft_missing'\n",
    "    print('❌ sklearn.feature_selection._univariate_selection._BaseFilter.fit: Return unavailable') # noqa E501\n",
    "    print(\"  Please fix this return type code until there is no exception\")\n",
    "    print('  Error:', e)\n"
   ]
  },
  {
   "cell_type": "code",
   "execution_count": null,
   "id": "breathing-cartridge",
   "metadata": {},
   "outputs": [],
   "source": [
    "# sklearn.feature_selection._univariate_selection._BaseFilter.fit_transform\n",
    "try:\n",
    "    obj = class_constructor() # noqa F821\n",
    "    ret = obj.fit_transform()\n",
    "    type_sklearn_feature_selection__univariate_selection__BaseFilter_fit_transform = getattr(ret, '__module__', 'none') + '.' + ret.__class__.__name__\n",
    "    print('✅ sklearn.feature_selection._univariate_selection._BaseFilter.fit_transform: ', type(ret)) # noqa E501\n",
    "except Exception as e:\n",
    "    type_sklearn_feature_selection__univariate_selection__BaseFilter_fit_transform = '_syft_missing'\n",
    "    print('❌ sklearn.feature_selection._univariate_selection._BaseFilter.fit_transform: Return unavailable') # noqa E501\n",
    "    print(\"  Please fix this return type code until there is no exception\")\n",
    "    print('  Error:', e)\n"
   ]
  },
  {
   "cell_type": "code",
   "execution_count": null,
   "id": "independent-maple",
   "metadata": {},
   "outputs": [],
   "source": [
    "# sklearn.feature_selection._univariate_selection._BaseFilter.get_params\n",
    "try:\n",
    "    obj = class_constructor() # noqa F821\n",
    "    ret = obj.get_params()\n",
    "    type_sklearn_feature_selection__univariate_selection__BaseFilter_get_params = getattr(ret, '__module__', 'none') + '.' + ret.__class__.__name__\n",
    "    print('✅ sklearn.feature_selection._univariate_selection._BaseFilter.get_params: ', type(ret)) # noqa E501\n",
    "except Exception as e:\n",
    "    type_sklearn_feature_selection__univariate_selection__BaseFilter_get_params = '_syft_missing'\n",
    "    print('❌ sklearn.feature_selection._univariate_selection._BaseFilter.get_params: Return unavailable') # noqa E501\n",
    "    print(\"  Please fix this return type code until there is no exception\")\n",
    "    print('  Error:', e)\n"
   ]
  },
  {
   "cell_type": "code",
   "execution_count": null,
   "id": "corporate-county",
   "metadata": {},
   "outputs": [],
   "source": [
    "# sklearn.feature_selection._univariate_selection._BaseFilter.get_support\n",
    "try:\n",
    "    obj = class_constructor() # noqa F821\n",
    "    ret = obj.get_support()\n",
    "    type_sklearn_feature_selection__univariate_selection__BaseFilter_get_support = getattr(ret, '__module__', 'none') + '.' + ret.__class__.__name__\n",
    "    print('✅ sklearn.feature_selection._univariate_selection._BaseFilter.get_support: ', type(ret)) # noqa E501\n",
    "except Exception as e:\n",
    "    type_sklearn_feature_selection__univariate_selection__BaseFilter_get_support = '_syft_missing'\n",
    "    print('❌ sklearn.feature_selection._univariate_selection._BaseFilter.get_support: Return unavailable') # noqa E501\n",
    "    print(\"  Please fix this return type code until there is no exception\")\n",
    "    print('  Error:', e)\n"
   ]
  },
  {
   "cell_type": "code",
   "execution_count": null,
   "id": "intense-maker",
   "metadata": {},
   "outputs": [],
   "source": [
    "# sklearn.feature_selection._univariate_selection._BaseFilter.inverse_transform\n",
    "try:\n",
    "    obj = class_constructor() # noqa F821\n",
    "    ret = obj.inverse_transform()\n",
    "    type_sklearn_feature_selection__univariate_selection__BaseFilter_inverse_transform = getattr(ret, '__module__', 'none') + '.' + ret.__class__.__name__\n",
    "    print('✅ sklearn.feature_selection._univariate_selection._BaseFilter.inverse_transform: ', type(ret)) # noqa E501\n",
    "except Exception as e:\n",
    "    type_sklearn_feature_selection__univariate_selection__BaseFilter_inverse_transform = '_syft_missing'\n",
    "    print('❌ sklearn.feature_selection._univariate_selection._BaseFilter.inverse_transform: Return unavailable') # noqa E501\n",
    "    print(\"  Please fix this return type code until there is no exception\")\n",
    "    print('  Error:', e)\n"
   ]
  },
  {
   "cell_type": "code",
   "execution_count": null,
   "id": "annoying-albert",
   "metadata": {},
   "outputs": [],
   "source": [
    "# sklearn.feature_selection._univariate_selection._BaseFilter.set_params\n",
    "try:\n",
    "    obj = class_constructor() # noqa F821\n",
    "    ret = obj.set_params()\n",
    "    type_sklearn_feature_selection__univariate_selection__BaseFilter_set_params = getattr(ret, '__module__', 'none') + '.' + ret.__class__.__name__\n",
    "    print('✅ sklearn.feature_selection._univariate_selection._BaseFilter.set_params: ', type(ret)) # noqa E501\n",
    "except Exception as e:\n",
    "    type_sklearn_feature_selection__univariate_selection__BaseFilter_set_params = '_syft_missing'\n",
    "    print('❌ sklearn.feature_selection._univariate_selection._BaseFilter.set_params: Return unavailable') # noqa E501\n",
    "    print(\"  Please fix this return type code until there is no exception\")\n",
    "    print('  Error:', e)\n"
   ]
  },
  {
   "cell_type": "code",
   "execution_count": null,
   "id": "funky-nightlife",
   "metadata": {},
   "outputs": [],
   "source": [
    "# sklearn.feature_selection._univariate_selection._BaseFilter.transform\n",
    "try:\n",
    "    obj = class_constructor() # noqa F821\n",
    "    ret = obj.transform()\n",
    "    type_sklearn_feature_selection__univariate_selection__BaseFilter_transform = getattr(ret, '__module__', 'none') + '.' + ret.__class__.__name__\n",
    "    print('✅ sklearn.feature_selection._univariate_selection._BaseFilter.transform: ', type(ret)) # noqa E501\n",
    "except Exception as e:\n",
    "    type_sklearn_feature_selection__univariate_selection__BaseFilter_transform = '_syft_missing'\n",
    "    print('❌ sklearn.feature_selection._univariate_selection._BaseFilter.transform: Return unavailable') # noqa E501\n",
    "    print(\"  Please fix this return type code until there is no exception\")\n",
    "    print('  Error:', e)\n"
   ]
  }
 ],
 "metadata": {},
 "nbformat": 4,
 "nbformat_minor": 5
}
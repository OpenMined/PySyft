{
 "cells": [
  {
   "cell_type": "markdown",
   "id": "leading-ancient",
   "metadata": {},
   "source": [
    "## sklearn.metrics._plot.roc_curve.RocCurveDisplay"
   ]
  },
  {
   "cell_type": "code",
   "execution_count": null,
   "id": "romance-disposal",
   "metadata": {},
   "outputs": [],
   "source": [
    "import sklearn\n",
    "def class_constructor(*args, **kwargs):\n",
    "    obj = sklearn.metrics._plot.roc_curve.RocCurveDisplay()\n",
    "    return obj\n"
   ]
  },
  {
   "cell_type": "code",
   "execution_count": null,
   "id": "hired-steel",
   "metadata": {},
   "outputs": [],
   "source": [
    "# sklearn.metrics._plot.roc_curve.RocCurveDisplay.plot\n",
    "try:\n",
    "    obj = class_constructor() # noqa F821\n",
    "    ret = obj.plot()\n",
    "    type_sklearn_metrics__plot_roc_curve_RocCurveDisplay_plot = getattr(ret, '__module__', 'none') + '.' + ret.__class__.__name__\n",
    "    print('✅ sklearn.metrics._plot.roc_curve.RocCurveDisplay.plot: ', type(ret)) # noqa E501\n",
    "except Exception as e:\n",
    "    type_sklearn_metrics__plot_roc_curve_RocCurveDisplay_plot = '_syft_missing'\n",
    "    print('❌ sklearn.metrics._plot.roc_curve.RocCurveDisplay.plot: Return unavailable') # noqa E501\n",
    "    print(\"  Please fix this return type code until there is no exception\")\n",
    "    print('  Error:', e)\n"
   ]
  }
 ],
 "metadata": {},
 "nbformat": 4,
 "nbformat_minor": 5
}
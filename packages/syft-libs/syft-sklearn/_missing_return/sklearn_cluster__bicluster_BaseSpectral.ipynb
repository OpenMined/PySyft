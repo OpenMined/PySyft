{
 "cells": [
  {
   "cell_type": "markdown",
   "id": "systematic-liberal",
   "metadata": {},
   "source": [
    "## sklearn.cluster._bicluster.BaseSpectral"
   ]
  },
  {
   "cell_type": "code",
   "execution_count": null,
   "id": "charitable-alloy",
   "metadata": {},
   "outputs": [],
   "source": [
    "import sklearn\n",
    "def class_constructor(*args, **kwargs):\n",
    "    obj = sklearn.cluster._bicluster.BaseSpectral()\n",
    "    return obj\n"
   ]
  },
  {
   "cell_type": "code",
   "execution_count": null,
   "id": "neural-bibliography",
   "metadata": {},
   "outputs": [],
   "source": [
    "# sklearn.cluster._bicluster.BaseSpectral.__getstate__\n",
    "try:\n",
    "    obj = class_constructor() # noqa F821\n",
    "    ret = obj.__getstate__()\n",
    "    type_sklearn_cluster__bicluster_BaseSpectral___getstate__ = getattr(ret, '__module__', 'none') + '.' + ret.__class__.__name__\n",
    "    print('✅ sklearn.cluster._bicluster.BaseSpectral.__getstate__: ', type(ret)) # noqa E501\n",
    "except Exception as e:\n",
    "    type_sklearn_cluster__bicluster_BaseSpectral___getstate__ = '_syft_missing'\n",
    "    print('❌ sklearn.cluster._bicluster.BaseSpectral.__getstate__: Return unavailable') # noqa E501\n",
    "    print(\"  Please fix this return type code until there is no exception\")\n",
    "    print('  Error:', e)\n"
   ]
  },
  {
   "cell_type": "code",
   "execution_count": null,
   "id": "affected-property",
   "metadata": {},
   "outputs": [],
   "source": [
    "# sklearn.cluster._bicluster.BaseSpectral.__repr__\n",
    "try:\n",
    "    obj = class_constructor() # noqa F821\n",
    "    ret = obj.__repr__()\n",
    "    type_sklearn_cluster__bicluster_BaseSpectral___repr__ = getattr(ret, '__module__', 'none') + '.' + ret.__class__.__name__\n",
    "    print('✅ sklearn.cluster._bicluster.BaseSpectral.__repr__: ', type(ret)) # noqa E501\n",
    "except Exception as e:\n",
    "    type_sklearn_cluster__bicluster_BaseSpectral___repr__ = '_syft_missing'\n",
    "    print('❌ sklearn.cluster._bicluster.BaseSpectral.__repr__: Return unavailable') # noqa E501\n",
    "    print(\"  Please fix this return type code until there is no exception\")\n",
    "    print('  Error:', e)\n"
   ]
  },
  {
   "cell_type": "code",
   "execution_count": null,
   "id": "excess-pakistan",
   "metadata": {},
   "outputs": [],
   "source": [
    "# sklearn.cluster._bicluster.BaseSpectral.__setstate__\n",
    "try:\n",
    "    obj = class_constructor() # noqa F821\n",
    "    ret = obj.__setstate__()\n",
    "    type_sklearn_cluster__bicluster_BaseSpectral___setstate__ = getattr(ret, '__module__', 'none') + '.' + ret.__class__.__name__\n",
    "    print('✅ sklearn.cluster._bicluster.BaseSpectral.__setstate__: ', type(ret)) # noqa E501\n",
    "except Exception as e:\n",
    "    type_sklearn_cluster__bicluster_BaseSpectral___setstate__ = '_syft_missing'\n",
    "    print('❌ sklearn.cluster._bicluster.BaseSpectral.__setstate__: Return unavailable') # noqa E501\n",
    "    print(\"  Please fix this return type code until there is no exception\")\n",
    "    print('  Error:', e)\n"
   ]
  },
  {
   "cell_type": "code",
   "execution_count": null,
   "id": "simplified-hunter",
   "metadata": {},
   "outputs": [],
   "source": [
    "# sklearn.cluster._bicluster.BaseSpectral._check_n_features\n",
    "try:\n",
    "    obj = class_constructor() # noqa F821\n",
    "    ret = obj._check_n_features()\n",
    "    type_sklearn_cluster__bicluster_BaseSpectral__check_n_features = getattr(ret, '__module__', 'none') + '.' + ret.__class__.__name__\n",
    "    print('✅ sklearn.cluster._bicluster.BaseSpectral._check_n_features: ', type(ret)) # noqa E501\n",
    "except Exception as e:\n",
    "    type_sklearn_cluster__bicluster_BaseSpectral__check_n_features = '_syft_missing'\n",
    "    print('❌ sklearn.cluster._bicluster.BaseSpectral._check_n_features: Return unavailable') # noqa E501\n",
    "    print(\"  Please fix this return type code until there is no exception\")\n",
    "    print('  Error:', e)\n"
   ]
  },
  {
   "cell_type": "code",
   "execution_count": null,
   "id": "interesting-corps",
   "metadata": {},
   "outputs": [],
   "source": [
    "# sklearn.cluster._bicluster.BaseSpectral._check_parameters\n",
    "try:\n",
    "    obj = class_constructor() # noqa F821\n",
    "    ret = obj._check_parameters()\n",
    "    type_sklearn_cluster__bicluster_BaseSpectral__check_parameters = getattr(ret, '__module__', 'none') + '.' + ret.__class__.__name__\n",
    "    print('✅ sklearn.cluster._bicluster.BaseSpectral._check_parameters: ', type(ret)) # noqa E501\n",
    "except Exception as e:\n",
    "    type_sklearn_cluster__bicluster_BaseSpectral__check_parameters = '_syft_missing'\n",
    "    print('❌ sklearn.cluster._bicluster.BaseSpectral._check_parameters: Return unavailable') # noqa E501\n",
    "    print(\"  Please fix this return type code until there is no exception\")\n",
    "    print('  Error:', e)\n"
   ]
  },
  {
   "cell_type": "code",
   "execution_count": null,
   "id": "radio-mouse",
   "metadata": {},
   "outputs": [],
   "source": [
    "# sklearn.cluster._bicluster.BaseSpectral._get_param_names\n",
    "try:\n",
    "    obj = class_constructor() # noqa F821\n",
    "    ret = obj._get_param_names()\n",
    "    type_sklearn_cluster__bicluster_BaseSpectral__get_param_names = getattr(ret, '__module__', 'none') + '.' + ret.__class__.__name__\n",
    "    print('✅ sklearn.cluster._bicluster.BaseSpectral._get_param_names: ', type(ret)) # noqa E501\n",
    "except Exception as e:\n",
    "    type_sklearn_cluster__bicluster_BaseSpectral__get_param_names = '_syft_missing'\n",
    "    print('❌ sklearn.cluster._bicluster.BaseSpectral._get_param_names: Return unavailable') # noqa E501\n",
    "    print(\"  Please fix this return type code until there is no exception\")\n",
    "    print('  Error:', e)\n"
   ]
  },
  {
   "cell_type": "code",
   "execution_count": null,
   "id": "otherwise-benefit",
   "metadata": {},
   "outputs": [],
   "source": [
    "# sklearn.cluster._bicluster.BaseSpectral._get_tags\n",
    "try:\n",
    "    obj = class_constructor() # noqa F821\n",
    "    ret = obj._get_tags()\n",
    "    type_sklearn_cluster__bicluster_BaseSpectral__get_tags = getattr(ret, '__module__', 'none') + '.' + ret.__class__.__name__\n",
    "    print('✅ sklearn.cluster._bicluster.BaseSpectral._get_tags: ', type(ret)) # noqa E501\n",
    "except Exception as e:\n",
    "    type_sklearn_cluster__bicluster_BaseSpectral__get_tags = '_syft_missing'\n",
    "    print('❌ sklearn.cluster._bicluster.BaseSpectral._get_tags: Return unavailable') # noqa E501\n",
    "    print(\"  Please fix this return type code until there is no exception\")\n",
    "    print('  Error:', e)\n"
   ]
  },
  {
   "cell_type": "code",
   "execution_count": null,
   "id": "early-norfolk",
   "metadata": {},
   "outputs": [],
   "source": [
    "# sklearn.cluster._bicluster.BaseSpectral._k_means\n",
    "try:\n",
    "    obj = class_constructor() # noqa F821\n",
    "    ret = obj._k_means()\n",
    "    type_sklearn_cluster__bicluster_BaseSpectral__k_means = getattr(ret, '__module__', 'none') + '.' + ret.__class__.__name__\n",
    "    print('✅ sklearn.cluster._bicluster.BaseSpectral._k_means: ', type(ret)) # noqa E501\n",
    "except Exception as e:\n",
    "    type_sklearn_cluster__bicluster_BaseSpectral__k_means = '_syft_missing'\n",
    "    print('❌ sklearn.cluster._bicluster.BaseSpectral._k_means: Return unavailable') # noqa E501\n",
    "    print(\"  Please fix this return type code until there is no exception\")\n",
    "    print('  Error:', e)\n"
   ]
  },
  {
   "cell_type": "code",
   "execution_count": null,
   "id": "beginning-classification",
   "metadata": {},
   "outputs": [],
   "source": [
    "# sklearn.cluster._bicluster.BaseSpectral._more_tags\n",
    "try:\n",
    "    obj = class_constructor() # noqa F821\n",
    "    ret = obj._more_tags()\n",
    "    type_sklearn_cluster__bicluster_BaseSpectral__more_tags = getattr(ret, '__module__', 'none') + '.' + ret.__class__.__name__\n",
    "    print('✅ sklearn.cluster._bicluster.BaseSpectral._more_tags: ', type(ret)) # noqa E501\n",
    "except Exception as e:\n",
    "    type_sklearn_cluster__bicluster_BaseSpectral__more_tags = '_syft_missing'\n",
    "    print('❌ sklearn.cluster._bicluster.BaseSpectral._more_tags: Return unavailable') # noqa E501\n",
    "    print(\"  Please fix this return type code until there is no exception\")\n",
    "    print('  Error:', e)\n"
   ]
  },
  {
   "cell_type": "code",
   "execution_count": null,
   "id": "defined-offense",
   "metadata": {},
   "outputs": [],
   "source": [
    "# sklearn.cluster._bicluster.BaseSpectral._repr_html_\n",
    "try:\n",
    "    obj = class_constructor()\n",
    "    ret = obj._repr_html_\n",
    "    type_sklearn_cluster__bicluster_BaseSpectral__repr_html_ = getattr(ret, '__module__', 'none') + '.' + ret.__class__.__name__\n",
    "    print('✅ sklearn.cluster._bicluster.BaseSpectral._repr_html_:', type(ret)) # noqa E501\n",
    "except Exception as e:\n",
    "    type_sklearn_cluster__bicluster_BaseSpectral__repr_html_ = '_syft_missing'\n",
    "    print('❌ sklearn.cluster._bicluster.BaseSpectral._repr_html_: Return unavailable') # noqa E501\n",
    "    print(\"  Please fix this return type code until there is no exception\")\n",
    "    print('  Error:', e)\n"
   ]
  },
  {
   "cell_type": "code",
   "execution_count": null,
   "id": "chronic-breathing",
   "metadata": {},
   "outputs": [],
   "source": [
    "# sklearn.cluster._bicluster.BaseSpectral._repr_html_inner\n",
    "try:\n",
    "    obj = class_constructor() # noqa F821\n",
    "    ret = obj._repr_html_inner()\n",
    "    type_sklearn_cluster__bicluster_BaseSpectral__repr_html_inner = getattr(ret, '__module__', 'none') + '.' + ret.__class__.__name__\n",
    "    print('✅ sklearn.cluster._bicluster.BaseSpectral._repr_html_inner: ', type(ret)) # noqa E501\n",
    "except Exception as e:\n",
    "    type_sklearn_cluster__bicluster_BaseSpectral__repr_html_inner = '_syft_missing'\n",
    "    print('❌ sklearn.cluster._bicluster.BaseSpectral._repr_html_inner: Return unavailable') # noqa E501\n",
    "    print(\"  Please fix this return type code until there is no exception\")\n",
    "    print('  Error:', e)\n"
   ]
  },
  {
   "cell_type": "code",
   "execution_count": null,
   "id": "effective-order",
   "metadata": {},
   "outputs": [],
   "source": [
    "# sklearn.cluster._bicluster.BaseSpectral._repr_mimebundle_\n",
    "try:\n",
    "    obj = class_constructor() # noqa F821\n",
    "    ret = obj._repr_mimebundle_()\n",
    "    type_sklearn_cluster__bicluster_BaseSpectral__repr_mimebundle_ = getattr(ret, '__module__', 'none') + '.' + ret.__class__.__name__\n",
    "    print('✅ sklearn.cluster._bicluster.BaseSpectral._repr_mimebundle_: ', type(ret)) # noqa E501\n",
    "except Exception as e:\n",
    "    type_sklearn_cluster__bicluster_BaseSpectral__repr_mimebundle_ = '_syft_missing'\n",
    "    print('❌ sklearn.cluster._bicluster.BaseSpectral._repr_mimebundle_: Return unavailable') # noqa E501\n",
    "    print(\"  Please fix this return type code until there is no exception\")\n",
    "    print('  Error:', e)\n"
   ]
  },
  {
   "cell_type": "code",
   "execution_count": null,
   "id": "mechanical-petite",
   "metadata": {},
   "outputs": [],
   "source": [
    "# sklearn.cluster._bicluster.BaseSpectral._svd\n",
    "try:\n",
    "    obj = class_constructor() # noqa F821\n",
    "    ret = obj._svd()\n",
    "    type_sklearn_cluster__bicluster_BaseSpectral__svd = getattr(ret, '__module__', 'none') + '.' + ret.__class__.__name__\n",
    "    print('✅ sklearn.cluster._bicluster.BaseSpectral._svd: ', type(ret)) # noqa E501\n",
    "except Exception as e:\n",
    "    type_sklearn_cluster__bicluster_BaseSpectral__svd = '_syft_missing'\n",
    "    print('❌ sklearn.cluster._bicluster.BaseSpectral._svd: Return unavailable') # noqa E501\n",
    "    print(\"  Please fix this return type code until there is no exception\")\n",
    "    print('  Error:', e)\n"
   ]
  },
  {
   "cell_type": "code",
   "execution_count": null,
   "id": "cardiovascular-tuner",
   "metadata": {},
   "outputs": [],
   "source": [
    "# sklearn.cluster._bicluster.BaseSpectral._validate_data\n",
    "try:\n",
    "    obj = class_constructor() # noqa F821\n",
    "    ret = obj._validate_data()\n",
    "    type_sklearn_cluster__bicluster_BaseSpectral__validate_data = getattr(ret, '__module__', 'none') + '.' + ret.__class__.__name__\n",
    "    print('✅ sklearn.cluster._bicluster.BaseSpectral._validate_data: ', type(ret)) # noqa E501\n",
    "except Exception as e:\n",
    "    type_sklearn_cluster__bicluster_BaseSpectral__validate_data = '_syft_missing'\n",
    "    print('❌ sklearn.cluster._bicluster.BaseSpectral._validate_data: Return unavailable') # noqa E501\n",
    "    print(\"  Please fix this return type code until there is no exception\")\n",
    "    print('  Error:', e)\n"
   ]
  },
  {
   "cell_type": "code",
   "execution_count": null,
   "id": "absolute-racing",
   "metadata": {},
   "outputs": [],
   "source": [
    "# sklearn.cluster._bicluster.BaseSpectral.biclusters_\n",
    "try:\n",
    "    obj = class_constructor()\n",
    "    ret = obj.biclusters_\n",
    "    type_sklearn_cluster__bicluster_BaseSpectral_biclusters_ = getattr(ret, '__module__', 'none') + '.' + ret.__class__.__name__\n",
    "    print('✅ sklearn.cluster._bicluster.BaseSpectral.biclusters_:', type(ret)) # noqa E501\n",
    "except Exception as e:\n",
    "    type_sklearn_cluster__bicluster_BaseSpectral_biclusters_ = '_syft_missing'\n",
    "    print('❌ sklearn.cluster._bicluster.BaseSpectral.biclusters_: Return unavailable') # noqa E501\n",
    "    print(\"  Please fix this return type code until there is no exception\")\n",
    "    print('  Error:', e)\n"
   ]
  },
  {
   "cell_type": "code",
   "execution_count": null,
   "id": "wooden-forestry",
   "metadata": {},
   "outputs": [],
   "source": [
    "# sklearn.cluster._bicluster.BaseSpectral.fit\n",
    "try:\n",
    "    obj = class_constructor() # noqa F821\n",
    "    ret = obj.fit()\n",
    "    type_sklearn_cluster__bicluster_BaseSpectral_fit = getattr(ret, '__module__', 'none') + '.' + ret.__class__.__name__\n",
    "    print('✅ sklearn.cluster._bicluster.BaseSpectral.fit: ', type(ret)) # noqa E501\n",
    "except Exception as e:\n",
    "    type_sklearn_cluster__bicluster_BaseSpectral_fit = '_syft_missing'\n",
    "    print('❌ sklearn.cluster._bicluster.BaseSpectral.fit: Return unavailable') # noqa E501\n",
    "    print(\"  Please fix this return type code until there is no exception\")\n",
    "    print('  Error:', e)\n"
   ]
  },
  {
   "cell_type": "code",
   "execution_count": null,
   "id": "invalid-karen",
   "metadata": {},
   "outputs": [],
   "source": [
    "# sklearn.cluster._bicluster.BaseSpectral.get_indices\n",
    "try:\n",
    "    obj = class_constructor() # noqa F821\n",
    "    ret = obj.get_indices()\n",
    "    type_sklearn_cluster__bicluster_BaseSpectral_get_indices = getattr(ret, '__module__', 'none') + '.' + ret.__class__.__name__\n",
    "    print('✅ sklearn.cluster._bicluster.BaseSpectral.get_indices: ', type(ret)) # noqa E501\n",
    "except Exception as e:\n",
    "    type_sklearn_cluster__bicluster_BaseSpectral_get_indices = '_syft_missing'\n",
    "    print('❌ sklearn.cluster._bicluster.BaseSpectral.get_indices: Return unavailable') # noqa E501\n",
    "    print(\"  Please fix this return type code until there is no exception\")\n",
    "    print('  Error:', e)\n"
   ]
  },
  {
   "cell_type": "code",
   "execution_count": null,
   "id": "stylish-alaska",
   "metadata": {},
   "outputs": [],
   "source": [
    "# sklearn.cluster._bicluster.BaseSpectral.get_params\n",
    "try:\n",
    "    obj = class_constructor() # noqa F821\n",
    "    ret = obj.get_params()\n",
    "    type_sklearn_cluster__bicluster_BaseSpectral_get_params = getattr(ret, '__module__', 'none') + '.' + ret.__class__.__name__\n",
    "    print('✅ sklearn.cluster._bicluster.BaseSpectral.get_params: ', type(ret)) # noqa E501\n",
    "except Exception as e:\n",
    "    type_sklearn_cluster__bicluster_BaseSpectral_get_params = '_syft_missing'\n",
    "    print('❌ sklearn.cluster._bicluster.BaseSpectral.get_params: Return unavailable') # noqa E501\n",
    "    print(\"  Please fix this return type code until there is no exception\")\n",
    "    print('  Error:', e)\n"
   ]
  },
  {
   "cell_type": "code",
   "execution_count": null,
   "id": "straight-escape",
   "metadata": {},
   "outputs": [],
   "source": [
    "# sklearn.cluster._bicluster.BaseSpectral.get_shape\n",
    "try:\n",
    "    obj = class_constructor() # noqa F821\n",
    "    ret = obj.get_shape()\n",
    "    type_sklearn_cluster__bicluster_BaseSpectral_get_shape = getattr(ret, '__module__', 'none') + '.' + ret.__class__.__name__\n",
    "    print('✅ sklearn.cluster._bicluster.BaseSpectral.get_shape: ', type(ret)) # noqa E501\n",
    "except Exception as e:\n",
    "    type_sklearn_cluster__bicluster_BaseSpectral_get_shape = '_syft_missing'\n",
    "    print('❌ sklearn.cluster._bicluster.BaseSpectral.get_shape: Return unavailable') # noqa E501\n",
    "    print(\"  Please fix this return type code until there is no exception\")\n",
    "    print('  Error:', e)\n"
   ]
  },
  {
   "cell_type": "code",
   "execution_count": null,
   "id": "first-paragraph",
   "metadata": {},
   "outputs": [],
   "source": [
    "# sklearn.cluster._bicluster.BaseSpectral.get_submatrix\n",
    "try:\n",
    "    obj = class_constructor() # noqa F821\n",
    "    ret = obj.get_submatrix()\n",
    "    type_sklearn_cluster__bicluster_BaseSpectral_get_submatrix = getattr(ret, '__module__', 'none') + '.' + ret.__class__.__name__\n",
    "    print('✅ sklearn.cluster._bicluster.BaseSpectral.get_submatrix: ', type(ret)) # noqa E501\n",
    "except Exception as e:\n",
    "    type_sklearn_cluster__bicluster_BaseSpectral_get_submatrix = '_syft_missing'\n",
    "    print('❌ sklearn.cluster._bicluster.BaseSpectral.get_submatrix: Return unavailable') # noqa E501\n",
    "    print(\"  Please fix this return type code until there is no exception\")\n",
    "    print('  Error:', e)\n"
   ]
  },
  {
   "cell_type": "code",
   "execution_count": null,
   "id": "pursuant-workshop",
   "metadata": {},
   "outputs": [],
   "source": [
    "# sklearn.cluster._bicluster.BaseSpectral.set_params\n",
    "try:\n",
    "    obj = class_constructor() # noqa F821\n",
    "    ret = obj.set_params()\n",
    "    type_sklearn_cluster__bicluster_BaseSpectral_set_params = getattr(ret, '__module__', 'none') + '.' + ret.__class__.__name__\n",
    "    print('✅ sklearn.cluster._bicluster.BaseSpectral.set_params: ', type(ret)) # noqa E501\n",
    "except Exception as e:\n",
    "    type_sklearn_cluster__bicluster_BaseSpectral_set_params = '_syft_missing'\n",
    "    print('❌ sklearn.cluster._bicluster.BaseSpectral.set_params: Return unavailable') # noqa E501\n",
    "    print(\"  Please fix this return type code until there is no exception\")\n",
    "    print('  Error:', e)\n"
   ]
  }
 ],
 "metadata": {},
 "nbformat": 4,
 "nbformat_minor": 5
}
{
 "cells": [
  {
   "cell_type": "markdown",
   "id": "automated-filter",
   "metadata": {},
   "source": [
    "## sklearn.neural_network._stochastic_optimizers.AdamOptimizer"
   ]
  },
  {
   "cell_type": "code",
   "execution_count": null,
   "id": "atmospheric-adventure",
   "metadata": {},
   "outputs": [],
   "source": [
    "import sklearn\n",
    "def class_constructor(*args, **kwargs):\n",
    "    obj = sklearn.neural_network._stochastic_optimizers.AdamOptimizer()\n",
    "    return obj\n"
   ]
  },
  {
   "cell_type": "code",
   "execution_count": null,
   "id": "pleasant-ordinary",
   "metadata": {},
   "outputs": [],
   "source": [
    "# sklearn.neural_network._stochastic_optimizers.AdamOptimizer._get_updates\n",
    "try:\n",
    "    obj = class_constructor() # noqa F821\n",
    "    ret = obj._get_updates()\n",
    "    type_sklearn_neural_network__stochastic_optimizers_AdamOptimizer__get_updates = getattr(ret, '__module__', 'none') + '.' + ret.__class__.__name__\n",
    "    print('✅ sklearn.neural_network._stochastic_optimizers.AdamOptimizer._get_updates: ', type(ret)) # noqa E501\n",
    "except Exception as e:\n",
    "    type_sklearn_neural_network__stochastic_optimizers_AdamOptimizer__get_updates = '_syft_missing'\n",
    "    print('❌ sklearn.neural_network._stochastic_optimizers.AdamOptimizer._get_updates: Return unavailable') # noqa E501\n",
    "    print(\"  Please fix this return type code until there is no exception\")\n",
    "    print('  Error:', e)\n"
   ]
  },
  {
   "cell_type": "code",
   "execution_count": null,
   "id": "reduced-mechanics",
   "metadata": {},
   "outputs": [],
   "source": [
    "# sklearn.neural_network._stochastic_optimizers.AdamOptimizer.iteration_ends\n",
    "try:\n",
    "    obj = class_constructor() # noqa F821\n",
    "    ret = obj.iteration_ends()\n",
    "    type_sklearn_neural_network__stochastic_optimizers_AdamOptimizer_iteration_ends = getattr(ret, '__module__', 'none') + '.' + ret.__class__.__name__\n",
    "    print('✅ sklearn.neural_network._stochastic_optimizers.AdamOptimizer.iteration_ends: ', type(ret)) # noqa E501\n",
    "except Exception as e:\n",
    "    type_sklearn_neural_network__stochastic_optimizers_AdamOptimizer_iteration_ends = '_syft_missing'\n",
    "    print('❌ sklearn.neural_network._stochastic_optimizers.AdamOptimizer.iteration_ends: Return unavailable') # noqa E501\n",
    "    print(\"  Please fix this return type code until there is no exception\")\n",
    "    print('  Error:', e)\n"
   ]
  },
  {
   "cell_type": "code",
   "execution_count": null,
   "id": "infinite-disposition",
   "metadata": {},
   "outputs": [],
   "source": [
    "# sklearn.neural_network._stochastic_optimizers.AdamOptimizer.trigger_stopping\n",
    "try:\n",
    "    obj = class_constructor() # noqa F821\n",
    "    ret = obj.trigger_stopping()\n",
    "    type_sklearn_neural_network__stochastic_optimizers_AdamOptimizer_trigger_stopping = getattr(ret, '__module__', 'none') + '.' + ret.__class__.__name__\n",
    "    print('✅ sklearn.neural_network._stochastic_optimizers.AdamOptimizer.trigger_stopping: ', type(ret)) # noqa E501\n",
    "except Exception as e:\n",
    "    type_sklearn_neural_network__stochastic_optimizers_AdamOptimizer_trigger_stopping = '_syft_missing'\n",
    "    print('❌ sklearn.neural_network._stochastic_optimizers.AdamOptimizer.trigger_stopping: Return unavailable') # noqa E501\n",
    "    print(\"  Please fix this return type code until there is no exception\")\n",
    "    print('  Error:', e)\n"
   ]
  },
  {
   "cell_type": "code",
   "execution_count": null,
   "id": "offshore-reviewer",
   "metadata": {},
   "outputs": [],
   "source": [
    "# sklearn.neural_network._stochastic_optimizers.AdamOptimizer.update_params\n",
    "try:\n",
    "    obj = class_constructor() # noqa F821\n",
    "    ret = obj.update_params()\n",
    "    type_sklearn_neural_network__stochastic_optimizers_AdamOptimizer_update_params = getattr(ret, '__module__', 'none') + '.' + ret.__class__.__name__\n",
    "    print('✅ sklearn.neural_network._stochastic_optimizers.AdamOptimizer.update_params: ', type(ret)) # noqa E501\n",
    "except Exception as e:\n",
    "    type_sklearn_neural_network__stochastic_optimizers_AdamOptimizer_update_params = '_syft_missing'\n",
    "    print('❌ sklearn.neural_network._stochastic_optimizers.AdamOptimizer.update_params: Return unavailable') # noqa E501\n",
    "    print(\"  Please fix this return type code until there is no exception\")\n",
    "    print('  Error:', e)\n"
   ]
  }
 ],
 "metadata": {},
 "nbformat": 4,
 "nbformat_minor": 5
}
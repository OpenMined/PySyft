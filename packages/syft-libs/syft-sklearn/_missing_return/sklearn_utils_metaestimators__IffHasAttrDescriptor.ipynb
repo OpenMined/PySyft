{
 "cells": [
  {
   "cell_type": "markdown",
   "id": "gross-federal",
   "metadata": {},
   "source": [
    "## sklearn.utils.metaestimators._IffHasAttrDescriptor"
   ]
  },
  {
   "cell_type": "code",
   "execution_count": null,
   "id": "virgin-chemistry",
   "metadata": {},
   "outputs": [],
   "source": [
    "import sklearn\n",
    "def class_constructor(*args, **kwargs):\n",
    "    obj = sklearn.utils.metaestimators._IffHasAttrDescriptor()\n",
    "    return obj\n"
   ]
  },
  {
   "cell_type": "code",
   "execution_count": null,
   "id": "induced-blackjack",
   "metadata": {},
   "outputs": [],
   "source": [
    "# sklearn.utils.metaestimators._IffHasAttrDescriptor.__get__\n",
    "try:\n",
    "    obj = class_constructor() # noqa F821\n",
    "    ret = obj.__get__()\n",
    "    type_sklearn_utils_metaestimators__IffHasAttrDescriptor___get__ = getattr(ret, '__module__', 'none') + '.' + ret.__class__.__name__\n",
    "    print('✅ sklearn.utils.metaestimators._IffHasAttrDescriptor.__get__: ', type(ret)) # noqa E501\n",
    "except Exception as e:\n",
    "    type_sklearn_utils_metaestimators__IffHasAttrDescriptor___get__ = '_syft_missing'\n",
    "    print('❌ sklearn.utils.metaestimators._IffHasAttrDescriptor.__get__: Return unavailable') # noqa E501\n",
    "    print(\"  Please fix this return type code until there is no exception\")\n",
    "    print('  Error:', e)\n"
   ]
  }
 ],
 "metadata": {},
 "nbformat": 4,
 "nbformat_minor": 5
}
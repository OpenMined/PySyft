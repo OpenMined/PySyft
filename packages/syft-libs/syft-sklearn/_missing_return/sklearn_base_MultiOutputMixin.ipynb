{
 "cells": [
  {
   "cell_type": "markdown",
   "id": "pressed-sodium",
   "metadata": {},
   "source": [
    "## sklearn.base.MultiOutputMixin"
   ]
  },
  {
   "cell_type": "code",
   "execution_count": null,
   "id": "appropriate-lewis",
   "metadata": {},
   "outputs": [],
   "source": [
    "import sklearn\n",
    "def class_constructor(*args, **kwargs):\n",
    "    obj = sklearn.base.MultiOutputMixin()\n",
    "    return obj\n"
   ]
  },
  {
   "cell_type": "code",
   "execution_count": null,
   "id": "stable-elite",
   "metadata": {},
   "outputs": [],
   "source": [
    "# sklearn.base.MultiOutputMixin._more_tags\n",
    "try:\n",
    "    obj = class_constructor() # noqa F821\n",
    "    ret = obj._more_tags()\n",
    "    type_sklearn_base_MultiOutputMixin__more_tags = getattr(ret, '__module__', 'none') + '.' + ret.__class__.__name__\n",
    "    print('✅ sklearn.base.MultiOutputMixin._more_tags: ', type(ret)) # noqa E501\n",
    "except Exception as e:\n",
    "    type_sklearn_base_MultiOutputMixin__more_tags = '_syft_missing'\n",
    "    print('❌ sklearn.base.MultiOutputMixin._more_tags: Return unavailable') # noqa E501\n",
    "    print(\"  Please fix this return type code until there is no exception\")\n",
    "    print('  Error:', e)\n"
   ]
  }
 ],
 "metadata": {},
 "nbformat": 4,
 "nbformat_minor": 5
}
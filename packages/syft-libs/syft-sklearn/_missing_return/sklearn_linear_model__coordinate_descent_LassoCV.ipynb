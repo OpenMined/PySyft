{
 "cells": [
  {
   "cell_type": "markdown",
   "id": "round-modern",
   "metadata": {},
   "source": [
    "## sklearn.linear_model._coordinate_descent.LassoCV"
   ]
  },
  {
   "cell_type": "code",
   "execution_count": null,
   "id": "simple-memorial",
   "metadata": {},
   "outputs": [],
   "source": [
    "import sklearn\n",
    "def class_constructor(*args, **kwargs):\n",
    "    obj = sklearn.linear_model._coordinate_descent.LassoCV()\n",
    "    return obj\n"
   ]
  },
  {
   "cell_type": "code",
   "execution_count": null,
   "id": "floating-fields",
   "metadata": {},
   "outputs": [],
   "source": [
    "# sklearn.linear_model._coordinate_descent.LassoCV.__getstate__\n",
    "try:\n",
    "    obj = class_constructor() # noqa F821\n",
    "    ret = obj.__getstate__()\n",
    "    type_sklearn_linear_model__coordinate_descent_LassoCV___getstate__ = getattr(ret, '__module__', 'none') + '.' + ret.__class__.__name__\n",
    "    print('✅ sklearn.linear_model._coordinate_descent.LassoCV.__getstate__: ', type(ret)) # noqa E501\n",
    "except Exception as e:\n",
    "    type_sklearn_linear_model__coordinate_descent_LassoCV___getstate__ = '_syft_missing'\n",
    "    print('❌ sklearn.linear_model._coordinate_descent.LassoCV.__getstate__: Return unavailable') # noqa E501\n",
    "    print(\"  Please fix this return type code until there is no exception\")\n",
    "    print('  Error:', e)\n"
   ]
  },
  {
   "cell_type": "code",
   "execution_count": null,
   "id": "developed-recognition",
   "metadata": {},
   "outputs": [],
   "source": [
    "# sklearn.linear_model._coordinate_descent.LassoCV.__repr__\n",
    "try:\n",
    "    obj = class_constructor() # noqa F821\n",
    "    ret = obj.__repr__()\n",
    "    type_sklearn_linear_model__coordinate_descent_LassoCV___repr__ = getattr(ret, '__module__', 'none') + '.' + ret.__class__.__name__\n",
    "    print('✅ sklearn.linear_model._coordinate_descent.LassoCV.__repr__: ', type(ret)) # noqa E501\n",
    "except Exception as e:\n",
    "    type_sklearn_linear_model__coordinate_descent_LassoCV___repr__ = '_syft_missing'\n",
    "    print('❌ sklearn.linear_model._coordinate_descent.LassoCV.__repr__: Return unavailable') # noqa E501\n",
    "    print(\"  Please fix this return type code until there is no exception\")\n",
    "    print('  Error:', e)\n"
   ]
  },
  {
   "cell_type": "code",
   "execution_count": null,
   "id": "revised-israeli",
   "metadata": {},
   "outputs": [],
   "source": [
    "# sklearn.linear_model._coordinate_descent.LassoCV.__setstate__\n",
    "try:\n",
    "    obj = class_constructor() # noqa F821\n",
    "    ret = obj.__setstate__()\n",
    "    type_sklearn_linear_model__coordinate_descent_LassoCV___setstate__ = getattr(ret, '__module__', 'none') + '.' + ret.__class__.__name__\n",
    "    print('✅ sklearn.linear_model._coordinate_descent.LassoCV.__setstate__: ', type(ret)) # noqa E501\n",
    "except Exception as e:\n",
    "    type_sklearn_linear_model__coordinate_descent_LassoCV___setstate__ = '_syft_missing'\n",
    "    print('❌ sklearn.linear_model._coordinate_descent.LassoCV.__setstate__: Return unavailable') # noqa E501\n",
    "    print(\"  Please fix this return type code until there is no exception\")\n",
    "    print('  Error:', e)\n"
   ]
  },
  {
   "cell_type": "code",
   "execution_count": null,
   "id": "floating-interface",
   "metadata": {},
   "outputs": [],
   "source": [
    "# sklearn.linear_model._coordinate_descent.LassoCV._check_n_features\n",
    "try:\n",
    "    obj = class_constructor() # noqa F821\n",
    "    ret = obj._check_n_features()\n",
    "    type_sklearn_linear_model__coordinate_descent_LassoCV__check_n_features = getattr(ret, '__module__', 'none') + '.' + ret.__class__.__name__\n",
    "    print('✅ sklearn.linear_model._coordinate_descent.LassoCV._check_n_features: ', type(ret)) # noqa E501\n",
    "except Exception as e:\n",
    "    type_sklearn_linear_model__coordinate_descent_LassoCV__check_n_features = '_syft_missing'\n",
    "    print('❌ sklearn.linear_model._coordinate_descent.LassoCV._check_n_features: Return unavailable') # noqa E501\n",
    "    print(\"  Please fix this return type code until there is no exception\")\n",
    "    print('  Error:', e)\n"
   ]
  },
  {
   "cell_type": "code",
   "execution_count": null,
   "id": "sound-inflation",
   "metadata": {},
   "outputs": [],
   "source": [
    "# sklearn.linear_model._coordinate_descent.LassoCV._decision_function\n",
    "try:\n",
    "    obj = class_constructor() # noqa F821\n",
    "    ret = obj._decision_function()\n",
    "    type_sklearn_linear_model__coordinate_descent_LassoCV__decision_function = getattr(ret, '__module__', 'none') + '.' + ret.__class__.__name__\n",
    "    print('✅ sklearn.linear_model._coordinate_descent.LassoCV._decision_function: ', type(ret)) # noqa E501\n",
    "except Exception as e:\n",
    "    type_sklearn_linear_model__coordinate_descent_LassoCV__decision_function = '_syft_missing'\n",
    "    print('❌ sklearn.linear_model._coordinate_descent.LassoCV._decision_function: Return unavailable') # noqa E501\n",
    "    print(\"  Please fix this return type code until there is no exception\")\n",
    "    print('  Error:', e)\n"
   ]
  },
  {
   "cell_type": "code",
   "execution_count": null,
   "id": "planned-european",
   "metadata": {},
   "outputs": [],
   "source": [
    "# sklearn.linear_model._coordinate_descent.LassoCV._get_estimator\n",
    "try:\n",
    "    obj = class_constructor() # noqa F821\n",
    "    ret = obj._get_estimator()\n",
    "    type_sklearn_linear_model__coordinate_descent_LassoCV__get_estimator = getattr(ret, '__module__', 'none') + '.' + ret.__class__.__name__\n",
    "    print('✅ sklearn.linear_model._coordinate_descent.LassoCV._get_estimator: ', type(ret)) # noqa E501\n",
    "except Exception as e:\n",
    "    type_sklearn_linear_model__coordinate_descent_LassoCV__get_estimator = '_syft_missing'\n",
    "    print('❌ sklearn.linear_model._coordinate_descent.LassoCV._get_estimator: Return unavailable') # noqa E501\n",
    "    print(\"  Please fix this return type code until there is no exception\")\n",
    "    print('  Error:', e)\n"
   ]
  },
  {
   "cell_type": "code",
   "execution_count": null,
   "id": "ethical-county",
   "metadata": {},
   "outputs": [],
   "source": [
    "# sklearn.linear_model._coordinate_descent.LassoCV._get_param_names\n",
    "try:\n",
    "    obj = class_constructor() # noqa F821\n",
    "    ret = obj._get_param_names()\n",
    "    type_sklearn_linear_model__coordinate_descent_LassoCV__get_param_names = getattr(ret, '__module__', 'none') + '.' + ret.__class__.__name__\n",
    "    print('✅ sklearn.linear_model._coordinate_descent.LassoCV._get_param_names: ', type(ret)) # noqa E501\n",
    "except Exception as e:\n",
    "    type_sklearn_linear_model__coordinate_descent_LassoCV__get_param_names = '_syft_missing'\n",
    "    print('❌ sklearn.linear_model._coordinate_descent.LassoCV._get_param_names: Return unavailable') # noqa E501\n",
    "    print(\"  Please fix this return type code until there is no exception\")\n",
    "    print('  Error:', e)\n"
   ]
  },
  {
   "cell_type": "code",
   "execution_count": null,
   "id": "cognitive-warren",
   "metadata": {},
   "outputs": [],
   "source": [
    "# sklearn.linear_model._coordinate_descent.LassoCV._get_tags\n",
    "try:\n",
    "    obj = class_constructor() # noqa F821\n",
    "    ret = obj._get_tags()\n",
    "    type_sklearn_linear_model__coordinate_descent_LassoCV__get_tags = getattr(ret, '__module__', 'none') + '.' + ret.__class__.__name__\n",
    "    print('✅ sklearn.linear_model._coordinate_descent.LassoCV._get_tags: ', type(ret)) # noqa E501\n",
    "except Exception as e:\n",
    "    type_sklearn_linear_model__coordinate_descent_LassoCV__get_tags = '_syft_missing'\n",
    "    print('❌ sklearn.linear_model._coordinate_descent.LassoCV._get_tags: Return unavailable') # noqa E501\n",
    "    print(\"  Please fix this return type code until there is no exception\")\n",
    "    print('  Error:', e)\n"
   ]
  },
  {
   "cell_type": "code",
   "execution_count": null,
   "id": "interracial-blackjack",
   "metadata": {},
   "outputs": [],
   "source": [
    "# sklearn.linear_model._coordinate_descent.LassoCV._is_multitask\n",
    "try:\n",
    "    obj = class_constructor() # noqa F821\n",
    "    ret = obj._is_multitask()\n",
    "    type_sklearn_linear_model__coordinate_descent_LassoCV__is_multitask = getattr(ret, '__module__', 'none') + '.' + ret.__class__.__name__\n",
    "    print('✅ sklearn.linear_model._coordinate_descent.LassoCV._is_multitask: ', type(ret)) # noqa E501\n",
    "except Exception as e:\n",
    "    type_sklearn_linear_model__coordinate_descent_LassoCV__is_multitask = '_syft_missing'\n",
    "    print('❌ sklearn.linear_model._coordinate_descent.LassoCV._is_multitask: Return unavailable') # noqa E501\n",
    "    print(\"  Please fix this return type code until there is no exception\")\n",
    "    print('  Error:', e)\n"
   ]
  },
  {
   "cell_type": "code",
   "execution_count": null,
   "id": "processed-resistance",
   "metadata": {},
   "outputs": [],
   "source": [
    "# sklearn.linear_model._coordinate_descent.LassoCV._more_tags\n",
    "try:\n",
    "    obj = class_constructor() # noqa F821\n",
    "    ret = obj._more_tags()\n",
    "    type_sklearn_linear_model__coordinate_descent_LassoCV__more_tags = getattr(ret, '__module__', 'none') + '.' + ret.__class__.__name__\n",
    "    print('✅ sklearn.linear_model._coordinate_descent.LassoCV._more_tags: ', type(ret)) # noqa E501\n",
    "except Exception as e:\n",
    "    type_sklearn_linear_model__coordinate_descent_LassoCV__more_tags = '_syft_missing'\n",
    "    print('❌ sklearn.linear_model._coordinate_descent.LassoCV._more_tags: Return unavailable') # noqa E501\n",
    "    print(\"  Please fix this return type code until there is no exception\")\n",
    "    print('  Error:', e)\n"
   ]
  },
  {
   "cell_type": "code",
   "execution_count": null,
   "id": "rolled-raise",
   "metadata": {},
   "outputs": [],
   "source": [
    "# sklearn.linear_model._coordinate_descent.LassoCV._preprocess_data\n",
    "try:\n",
    "    obj = class_constructor() # noqa F821\n",
    "    ret = obj._preprocess_data()\n",
    "    type_sklearn_linear_model__coordinate_descent_LassoCV__preprocess_data = getattr(ret, '__module__', 'none') + '.' + ret.__class__.__name__\n",
    "    print('✅ sklearn.linear_model._coordinate_descent.LassoCV._preprocess_data: ', type(ret)) # noqa E501\n",
    "except Exception as e:\n",
    "    type_sklearn_linear_model__coordinate_descent_LassoCV__preprocess_data = '_syft_missing'\n",
    "    print('❌ sklearn.linear_model._coordinate_descent.LassoCV._preprocess_data: Return unavailable') # noqa E501\n",
    "    print(\"  Please fix this return type code until there is no exception\")\n",
    "    print('  Error:', e)\n"
   ]
  },
  {
   "cell_type": "code",
   "execution_count": null,
   "id": "contrary-pharmacology",
   "metadata": {},
   "outputs": [],
   "source": [
    "# sklearn.linear_model._coordinate_descent.LassoCV._repr_html_\n",
    "try:\n",
    "    obj = class_constructor()\n",
    "    ret = obj._repr_html_\n",
    "    type_sklearn_linear_model__coordinate_descent_LassoCV__repr_html_ = getattr(ret, '__module__', 'none') + '.' + ret.__class__.__name__\n",
    "    print('✅ sklearn.linear_model._coordinate_descent.LassoCV._repr_html_:', type(ret)) # noqa E501\n",
    "except Exception as e:\n",
    "    type_sklearn_linear_model__coordinate_descent_LassoCV__repr_html_ = '_syft_missing'\n",
    "    print('❌ sklearn.linear_model._coordinate_descent.LassoCV._repr_html_: Return unavailable') # noqa E501\n",
    "    print(\"  Please fix this return type code until there is no exception\")\n",
    "    print('  Error:', e)\n"
   ]
  },
  {
   "cell_type": "code",
   "execution_count": null,
   "id": "cardiac-carbon",
   "metadata": {},
   "outputs": [],
   "source": [
    "# sklearn.linear_model._coordinate_descent.LassoCV._repr_html_inner\n",
    "try:\n",
    "    obj = class_constructor() # noqa F821\n",
    "    ret = obj._repr_html_inner()\n",
    "    type_sklearn_linear_model__coordinate_descent_LassoCV__repr_html_inner = getattr(ret, '__module__', 'none') + '.' + ret.__class__.__name__\n",
    "    print('✅ sklearn.linear_model._coordinate_descent.LassoCV._repr_html_inner: ', type(ret)) # noqa E501\n",
    "except Exception as e:\n",
    "    type_sklearn_linear_model__coordinate_descent_LassoCV__repr_html_inner = '_syft_missing'\n",
    "    print('❌ sklearn.linear_model._coordinate_descent.LassoCV._repr_html_inner: Return unavailable') # noqa E501\n",
    "    print(\"  Please fix this return type code until there is no exception\")\n",
    "    print('  Error:', e)\n"
   ]
  },
  {
   "cell_type": "code",
   "execution_count": null,
   "id": "spanish-princess",
   "metadata": {},
   "outputs": [],
   "source": [
    "# sklearn.linear_model._coordinate_descent.LassoCV._repr_mimebundle_\n",
    "try:\n",
    "    obj = class_constructor() # noqa F821\n",
    "    ret = obj._repr_mimebundle_()\n",
    "    type_sklearn_linear_model__coordinate_descent_LassoCV__repr_mimebundle_ = getattr(ret, '__module__', 'none') + '.' + ret.__class__.__name__\n",
    "    print('✅ sklearn.linear_model._coordinate_descent.LassoCV._repr_mimebundle_: ', type(ret)) # noqa E501\n",
    "except Exception as e:\n",
    "    type_sklearn_linear_model__coordinate_descent_LassoCV__repr_mimebundle_ = '_syft_missing'\n",
    "    print('❌ sklearn.linear_model._coordinate_descent.LassoCV._repr_mimebundle_: Return unavailable') # noqa E501\n",
    "    print(\"  Please fix this return type code until there is no exception\")\n",
    "    print('  Error:', e)\n"
   ]
  },
  {
   "cell_type": "code",
   "execution_count": null,
   "id": "whole-nursery",
   "metadata": {},
   "outputs": [],
   "source": [
    "# sklearn.linear_model._coordinate_descent.LassoCV._set_intercept\n",
    "try:\n",
    "    obj = class_constructor() # noqa F821\n",
    "    ret = obj._set_intercept()\n",
    "    type_sklearn_linear_model__coordinate_descent_LassoCV__set_intercept = getattr(ret, '__module__', 'none') + '.' + ret.__class__.__name__\n",
    "    print('✅ sklearn.linear_model._coordinate_descent.LassoCV._set_intercept: ', type(ret)) # noqa E501\n",
    "except Exception as e:\n",
    "    type_sklearn_linear_model__coordinate_descent_LassoCV__set_intercept = '_syft_missing'\n",
    "    print('❌ sklearn.linear_model._coordinate_descent.LassoCV._set_intercept: Return unavailable') # noqa E501\n",
    "    print(\"  Please fix this return type code until there is no exception\")\n",
    "    print('  Error:', e)\n"
   ]
  },
  {
   "cell_type": "code",
   "execution_count": null,
   "id": "difficult-yellow",
   "metadata": {},
   "outputs": [],
   "source": [
    "# sklearn.linear_model._coordinate_descent.LassoCV._validate_data\n",
    "try:\n",
    "    obj = class_constructor() # noqa F821\n",
    "    ret = obj._validate_data()\n",
    "    type_sklearn_linear_model__coordinate_descent_LassoCV__validate_data = getattr(ret, '__module__', 'none') + '.' + ret.__class__.__name__\n",
    "    print('✅ sklearn.linear_model._coordinate_descent.LassoCV._validate_data: ', type(ret)) # noqa E501\n",
    "except Exception as e:\n",
    "    type_sklearn_linear_model__coordinate_descent_LassoCV__validate_data = '_syft_missing'\n",
    "    print('❌ sklearn.linear_model._coordinate_descent.LassoCV._validate_data: Return unavailable') # noqa E501\n",
    "    print(\"  Please fix this return type code until there is no exception\")\n",
    "    print('  Error:', e)\n"
   ]
  },
  {
   "cell_type": "code",
   "execution_count": null,
   "id": "talented-anniversary",
   "metadata": {},
   "outputs": [],
   "source": [
    "# sklearn.linear_model._coordinate_descent.LassoCV.fit\n",
    "try:\n",
    "    obj = class_constructor() # noqa F821\n",
    "    ret = obj.fit()\n",
    "    type_sklearn_linear_model__coordinate_descent_LassoCV_fit = getattr(ret, '__module__', 'none') + '.' + ret.__class__.__name__\n",
    "    print('✅ sklearn.linear_model._coordinate_descent.LassoCV.fit: ', type(ret)) # noqa E501\n",
    "except Exception as e:\n",
    "    type_sklearn_linear_model__coordinate_descent_LassoCV_fit = '_syft_missing'\n",
    "    print('❌ sklearn.linear_model._coordinate_descent.LassoCV.fit: Return unavailable') # noqa E501\n",
    "    print(\"  Please fix this return type code until there is no exception\")\n",
    "    print('  Error:', e)\n"
   ]
  },
  {
   "cell_type": "code",
   "execution_count": null,
   "id": "regulation-spain",
   "metadata": {},
   "outputs": [],
   "source": [
    "# sklearn.linear_model._coordinate_descent.LassoCV.get_params\n",
    "try:\n",
    "    obj = class_constructor() # noqa F821\n",
    "    ret = obj.get_params()\n",
    "    type_sklearn_linear_model__coordinate_descent_LassoCV_get_params = getattr(ret, '__module__', 'none') + '.' + ret.__class__.__name__\n",
    "    print('✅ sklearn.linear_model._coordinate_descent.LassoCV.get_params: ', type(ret)) # noqa E501\n",
    "except Exception as e:\n",
    "    type_sklearn_linear_model__coordinate_descent_LassoCV_get_params = '_syft_missing'\n",
    "    print('❌ sklearn.linear_model._coordinate_descent.LassoCV.get_params: Return unavailable') # noqa E501\n",
    "    print(\"  Please fix this return type code until there is no exception\")\n",
    "    print('  Error:', e)\n"
   ]
  },
  {
   "cell_type": "code",
   "execution_count": null,
   "id": "challenging-intensity",
   "metadata": {},
   "outputs": [],
   "source": [
    "# sklearn.linear_model._coordinate_descent.LassoCV.lasso_path\n",
    "try:\n",
    "    obj = class_constructor() # noqa F821\n",
    "    ret = obj.lasso_path()\n",
    "    type_sklearn_linear_model__coordinate_descent_LassoCV_lasso_path = getattr(ret, '__module__', 'none') + '.' + ret.__class__.__name__\n",
    "    print('✅ sklearn.linear_model._coordinate_descent.LassoCV.lasso_path: ', type(ret)) # noqa E501\n",
    "except Exception as e:\n",
    "    type_sklearn_linear_model__coordinate_descent_LassoCV_lasso_path = '_syft_missing'\n",
    "    print('❌ sklearn.linear_model._coordinate_descent.LassoCV.lasso_path: Return unavailable') # noqa E501\n",
    "    print(\"  Please fix this return type code until there is no exception\")\n",
    "    print('  Error:', e)\n"
   ]
  },
  {
   "cell_type": "code",
   "execution_count": null,
   "id": "varied-series",
   "metadata": {},
   "outputs": [],
   "source": [
    "# sklearn.linear_model._coordinate_descent.LassoCV.predict\n",
    "try:\n",
    "    obj = class_constructor() # noqa F821\n",
    "    ret = obj.predict()\n",
    "    type_sklearn_linear_model__coordinate_descent_LassoCV_predict = getattr(ret, '__module__', 'none') + '.' + ret.__class__.__name__\n",
    "    print('✅ sklearn.linear_model._coordinate_descent.LassoCV.predict: ', type(ret)) # noqa E501\n",
    "except Exception as e:\n",
    "    type_sklearn_linear_model__coordinate_descent_LassoCV_predict = '_syft_missing'\n",
    "    print('❌ sklearn.linear_model._coordinate_descent.LassoCV.predict: Return unavailable') # noqa E501\n",
    "    print(\"  Please fix this return type code until there is no exception\")\n",
    "    print('  Error:', e)\n"
   ]
  },
  {
   "cell_type": "code",
   "execution_count": null,
   "id": "intermediate-woman",
   "metadata": {},
   "outputs": [],
   "source": [
    "# sklearn.linear_model._coordinate_descent.LassoCV.score\n",
    "try:\n",
    "    obj = class_constructor() # noqa F821\n",
    "    ret = obj.score()\n",
    "    type_sklearn_linear_model__coordinate_descent_LassoCV_score = getattr(ret, '__module__', 'none') + '.' + ret.__class__.__name__\n",
    "    print('✅ sklearn.linear_model._coordinate_descent.LassoCV.score: ', type(ret)) # noqa E501\n",
    "except Exception as e:\n",
    "    type_sklearn_linear_model__coordinate_descent_LassoCV_score = '_syft_missing'\n",
    "    print('❌ sklearn.linear_model._coordinate_descent.LassoCV.score: Return unavailable') # noqa E501\n",
    "    print(\"  Please fix this return type code until there is no exception\")\n",
    "    print('  Error:', e)\n"
   ]
  },
  {
   "cell_type": "code",
   "execution_count": null,
   "id": "median-county",
   "metadata": {},
   "outputs": [],
   "source": [
    "# sklearn.linear_model._coordinate_descent.LassoCV.set_params\n",
    "try:\n",
    "    obj = class_constructor() # noqa F821\n",
    "    ret = obj.set_params()\n",
    "    type_sklearn_linear_model__coordinate_descent_LassoCV_set_params = getattr(ret, '__module__', 'none') + '.' + ret.__class__.__name__\n",
    "    print('✅ sklearn.linear_model._coordinate_descent.LassoCV.set_params: ', type(ret)) # noqa E501\n",
    "except Exception as e:\n",
    "    type_sklearn_linear_model__coordinate_descent_LassoCV_set_params = '_syft_missing'\n",
    "    print('❌ sklearn.linear_model._coordinate_descent.LassoCV.set_params: Return unavailable') # noqa E501\n",
    "    print(\"  Please fix this return type code until there is no exception\")\n",
    "    print('  Error:', e)\n"
   ]
  }
 ],
 "metadata": {},
 "nbformat": 4,
 "nbformat_minor": 5
}
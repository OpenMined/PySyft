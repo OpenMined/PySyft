{
 "cells": [
  {
   "cell_type": "markdown",
   "id": "average-booking",
   "metadata": {},
   "source": [
    "## sklearn.model_selection._search_successive_halving.BaseSuccessiveHalving"
   ]
  },
  {
   "cell_type": "code",
   "execution_count": null,
   "id": "painful-satin",
   "metadata": {},
   "outputs": [],
   "source": [
    "import sklearn\n",
    "def class_constructor(*args, **kwargs):\n",
    "    obj = sklearn.model_selection._search_successive_halving.BaseSuccessiveHalving()\n",
    "    return obj\n"
   ]
  },
  {
   "cell_type": "code",
   "execution_count": null,
   "id": "first-fireplace",
   "metadata": {},
   "outputs": [],
   "source": [
    "# sklearn.model_selection._search_successive_halving.BaseSuccessiveHalving.__getstate__\n",
    "try:\n",
    "    obj = class_constructor() # noqa F821\n",
    "    ret = obj.__getstate__()\n",
    "    type_sklearn_model_selection__search_successive_halving_BaseSuccessiveHalving___getstate__ = getattr(ret, '__module__', 'none') + '.' + ret.__class__.__name__\n",
    "    print('✅ sklearn.model_selection._search_successive_halving.BaseSuccessiveHalving.__getstate__: ', type(ret)) # noqa E501\n",
    "except Exception as e:\n",
    "    type_sklearn_model_selection__search_successive_halving_BaseSuccessiveHalving___getstate__ = '_syft_missing'\n",
    "    print('❌ sklearn.model_selection._search_successive_halving.BaseSuccessiveHalving.__getstate__: Return unavailable') # noqa E501\n",
    "    print(\"  Please fix this return type code until there is no exception\")\n",
    "    print('  Error:', e)\n"
   ]
  },
  {
   "cell_type": "code",
   "execution_count": null,
   "id": "mediterranean-factor",
   "metadata": {},
   "outputs": [],
   "source": [
    "# sklearn.model_selection._search_successive_halving.BaseSuccessiveHalving.__repr__\n",
    "try:\n",
    "    obj = class_constructor() # noqa F821\n",
    "    ret = obj.__repr__()\n",
    "    type_sklearn_model_selection__search_successive_halving_BaseSuccessiveHalving___repr__ = getattr(ret, '__module__', 'none') + '.' + ret.__class__.__name__\n",
    "    print('✅ sklearn.model_selection._search_successive_halving.BaseSuccessiveHalving.__repr__: ', type(ret)) # noqa E501\n",
    "except Exception as e:\n",
    "    type_sklearn_model_selection__search_successive_halving_BaseSuccessiveHalving___repr__ = '_syft_missing'\n",
    "    print('❌ sklearn.model_selection._search_successive_halving.BaseSuccessiveHalving.__repr__: Return unavailable') # noqa E501\n",
    "    print(\"  Please fix this return type code until there is no exception\")\n",
    "    print('  Error:', e)\n"
   ]
  },
  {
   "cell_type": "code",
   "execution_count": null,
   "id": "hundred-livestock",
   "metadata": {},
   "outputs": [],
   "source": [
    "# sklearn.model_selection._search_successive_halving.BaseSuccessiveHalving.__setstate__\n",
    "try:\n",
    "    obj = class_constructor() # noqa F821\n",
    "    ret = obj.__setstate__()\n",
    "    type_sklearn_model_selection__search_successive_halving_BaseSuccessiveHalving___setstate__ = getattr(ret, '__module__', 'none') + '.' + ret.__class__.__name__\n",
    "    print('✅ sklearn.model_selection._search_successive_halving.BaseSuccessiveHalving.__setstate__: ', type(ret)) # noqa E501\n",
    "except Exception as e:\n",
    "    type_sklearn_model_selection__search_successive_halving_BaseSuccessiveHalving___setstate__ = '_syft_missing'\n",
    "    print('❌ sklearn.model_selection._search_successive_halving.BaseSuccessiveHalving.__setstate__: Return unavailable') # noqa E501\n",
    "    print(\"  Please fix this return type code until there is no exception\")\n",
    "    print('  Error:', e)\n"
   ]
  },
  {
   "cell_type": "code",
   "execution_count": null,
   "id": "nervous-capital",
   "metadata": {},
   "outputs": [],
   "source": [
    "# sklearn.model_selection._search_successive_halving.BaseSuccessiveHalving._check_input_parameters\n",
    "try:\n",
    "    obj = class_constructor() # noqa F821\n",
    "    ret = obj._check_input_parameters()\n",
    "    type_sklearn_model_selection__search_successive_halving_BaseSuccessiveHalving__check_input_parameters = getattr(ret, '__module__', 'none') + '.' + ret.__class__.__name__\n",
    "    print('✅ sklearn.model_selection._search_successive_halving.BaseSuccessiveHalving._check_input_parameters: ', type(ret)) # noqa E501\n",
    "except Exception as e:\n",
    "    type_sklearn_model_selection__search_successive_halving_BaseSuccessiveHalving__check_input_parameters = '_syft_missing'\n",
    "    print('❌ sklearn.model_selection._search_successive_halving.BaseSuccessiveHalving._check_input_parameters: Return unavailable') # noqa E501\n",
    "    print(\"  Please fix this return type code until there is no exception\")\n",
    "    print('  Error:', e)\n"
   ]
  },
  {
   "cell_type": "code",
   "execution_count": null,
   "id": "differential-myrtle",
   "metadata": {},
   "outputs": [],
   "source": [
    "# sklearn.model_selection._search_successive_halving.BaseSuccessiveHalving._check_is_fitted\n",
    "try:\n",
    "    obj = class_constructor() # noqa F821\n",
    "    ret = obj._check_is_fitted()\n",
    "    type_sklearn_model_selection__search_successive_halving_BaseSuccessiveHalving__check_is_fitted = getattr(ret, '__module__', 'none') + '.' + ret.__class__.__name__\n",
    "    print('✅ sklearn.model_selection._search_successive_halving.BaseSuccessiveHalving._check_is_fitted: ', type(ret)) # noqa E501\n",
    "except Exception as e:\n",
    "    type_sklearn_model_selection__search_successive_halving_BaseSuccessiveHalving__check_is_fitted = '_syft_missing'\n",
    "    print('❌ sklearn.model_selection._search_successive_halving.BaseSuccessiveHalving._check_is_fitted: Return unavailable') # noqa E501\n",
    "    print(\"  Please fix this return type code until there is no exception\")\n",
    "    print('  Error:', e)\n"
   ]
  },
  {
   "cell_type": "code",
   "execution_count": null,
   "id": "upper-faith",
   "metadata": {},
   "outputs": [],
   "source": [
    "# sklearn.model_selection._search_successive_halving.BaseSuccessiveHalving._check_n_features\n",
    "try:\n",
    "    obj = class_constructor() # noqa F821\n",
    "    ret = obj._check_n_features()\n",
    "    type_sklearn_model_selection__search_successive_halving_BaseSuccessiveHalving__check_n_features = getattr(ret, '__module__', 'none') + '.' + ret.__class__.__name__\n",
    "    print('✅ sklearn.model_selection._search_successive_halving.BaseSuccessiveHalving._check_n_features: ', type(ret)) # noqa E501\n",
    "except Exception as e:\n",
    "    type_sklearn_model_selection__search_successive_halving_BaseSuccessiveHalving__check_n_features = '_syft_missing'\n",
    "    print('❌ sklearn.model_selection._search_successive_halving.BaseSuccessiveHalving._check_n_features: Return unavailable') # noqa E501\n",
    "    print(\"  Please fix this return type code until there is no exception\")\n",
    "    print('  Error:', e)\n"
   ]
  },
  {
   "cell_type": "code",
   "execution_count": null,
   "id": "partial-carol",
   "metadata": {},
   "outputs": [],
   "source": [
    "# sklearn.model_selection._search_successive_halving.BaseSuccessiveHalving._check_refit_for_multimetric\n",
    "try:\n",
    "    obj = class_constructor() # noqa F821\n",
    "    ret = obj._check_refit_for_multimetric()\n",
    "    type_sklearn_model_selection__search_successive_halving_BaseSuccessiveHalving__check_refit_for_multimetric = getattr(ret, '__module__', 'none') + '.' + ret.__class__.__name__\n",
    "    print('✅ sklearn.model_selection._search_successive_halving.BaseSuccessiveHalving._check_refit_for_multimetric: ', type(ret)) # noqa E501\n",
    "except Exception as e:\n",
    "    type_sklearn_model_selection__search_successive_halving_BaseSuccessiveHalving__check_refit_for_multimetric = '_syft_missing'\n",
    "    print('❌ sklearn.model_selection._search_successive_halving.BaseSuccessiveHalving._check_refit_for_multimetric: Return unavailable') # noqa E501\n",
    "    print(\"  Please fix this return type code until there is no exception\")\n",
    "    print('  Error:', e)\n"
   ]
  },
  {
   "cell_type": "code",
   "execution_count": null,
   "id": "comfortable-infrared",
   "metadata": {},
   "outputs": [],
   "source": [
    "# sklearn.model_selection._search_successive_halving.BaseSuccessiveHalving._estimator_type\n",
    "try:\n",
    "    obj = class_constructor()\n",
    "    ret = obj._estimator_type\n",
    "    type_sklearn_model_selection__search_successive_halving_BaseSuccessiveHalving__estimator_type = getattr(ret, '__module__', 'none') + '.' + ret.__class__.__name__\n",
    "    print('✅ sklearn.model_selection._search_successive_halving.BaseSuccessiveHalving._estimator_type:', type(ret)) # noqa E501\n",
    "except Exception as e:\n",
    "    type_sklearn_model_selection__search_successive_halving_BaseSuccessiveHalving__estimator_type = '_syft_missing'\n",
    "    print('❌ sklearn.model_selection._search_successive_halving.BaseSuccessiveHalving._estimator_type: Return unavailable') # noqa E501\n",
    "    print(\"  Please fix this return type code until there is no exception\")\n",
    "    print('  Error:', e)\n"
   ]
  },
  {
   "cell_type": "code",
   "execution_count": null,
   "id": "competent-alloy",
   "metadata": {},
   "outputs": [],
   "source": [
    "# sklearn.model_selection._search_successive_halving.BaseSuccessiveHalving._format_results\n",
    "try:\n",
    "    obj = class_constructor() # noqa F821\n",
    "    ret = obj._format_results()\n",
    "    type_sklearn_model_selection__search_successive_halving_BaseSuccessiveHalving__format_results = getattr(ret, '__module__', 'none') + '.' + ret.__class__.__name__\n",
    "    print('✅ sklearn.model_selection._search_successive_halving.BaseSuccessiveHalving._format_results: ', type(ret)) # noqa E501\n",
    "except Exception as e:\n",
    "    type_sklearn_model_selection__search_successive_halving_BaseSuccessiveHalving__format_results = '_syft_missing'\n",
    "    print('❌ sklearn.model_selection._search_successive_halving.BaseSuccessiveHalving._format_results: Return unavailable') # noqa E501\n",
    "    print(\"  Please fix this return type code until there is no exception\")\n",
    "    print('  Error:', e)\n"
   ]
  },
  {
   "cell_type": "code",
   "execution_count": null,
   "id": "neural-intensity",
   "metadata": {},
   "outputs": [],
   "source": [
    "# sklearn.model_selection._search_successive_halving.BaseSuccessiveHalving._generate_candidate_params\n",
    "try:\n",
    "    obj = class_constructor() # noqa F821\n",
    "    ret = obj._generate_candidate_params()\n",
    "    type_sklearn_model_selection__search_successive_halving_BaseSuccessiveHalving__generate_candidate_params = getattr(ret, '__module__', 'none') + '.' + ret.__class__.__name__\n",
    "    print('✅ sklearn.model_selection._search_successive_halving.BaseSuccessiveHalving._generate_candidate_params: ', type(ret)) # noqa E501\n",
    "except Exception as e:\n",
    "    type_sklearn_model_selection__search_successive_halving_BaseSuccessiveHalving__generate_candidate_params = '_syft_missing'\n",
    "    print('❌ sklearn.model_selection._search_successive_halving.BaseSuccessiveHalving._generate_candidate_params: Return unavailable') # noqa E501\n",
    "    print(\"  Please fix this return type code until there is no exception\")\n",
    "    print('  Error:', e)\n"
   ]
  },
  {
   "cell_type": "code",
   "execution_count": null,
   "id": "robust-restoration",
   "metadata": {},
   "outputs": [],
   "source": [
    "# sklearn.model_selection._search_successive_halving.BaseSuccessiveHalving._get_param_names\n",
    "try:\n",
    "    obj = class_constructor() # noqa F821\n",
    "    ret = obj._get_param_names()\n",
    "    type_sklearn_model_selection__search_successive_halving_BaseSuccessiveHalving__get_param_names = getattr(ret, '__module__', 'none') + '.' + ret.__class__.__name__\n",
    "    print('✅ sklearn.model_selection._search_successive_halving.BaseSuccessiveHalving._get_param_names: ', type(ret)) # noqa E501\n",
    "except Exception as e:\n",
    "    type_sklearn_model_selection__search_successive_halving_BaseSuccessiveHalving__get_param_names = '_syft_missing'\n",
    "    print('❌ sklearn.model_selection._search_successive_halving.BaseSuccessiveHalving._get_param_names: Return unavailable') # noqa E501\n",
    "    print(\"  Please fix this return type code until there is no exception\")\n",
    "    print('  Error:', e)\n"
   ]
  },
  {
   "cell_type": "code",
   "execution_count": null,
   "id": "defined-tradition",
   "metadata": {},
   "outputs": [],
   "source": [
    "# sklearn.model_selection._search_successive_halving.BaseSuccessiveHalving._get_tags\n",
    "try:\n",
    "    obj = class_constructor() # noqa F821\n",
    "    ret = obj._get_tags()\n",
    "    type_sklearn_model_selection__search_successive_halving_BaseSuccessiveHalving__get_tags = getattr(ret, '__module__', 'none') + '.' + ret.__class__.__name__\n",
    "    print('✅ sklearn.model_selection._search_successive_halving.BaseSuccessiveHalving._get_tags: ', type(ret)) # noqa E501\n",
    "except Exception as e:\n",
    "    type_sklearn_model_selection__search_successive_halving_BaseSuccessiveHalving__get_tags = '_syft_missing'\n",
    "    print('❌ sklearn.model_selection._search_successive_halving.BaseSuccessiveHalving._get_tags: Return unavailable') # noqa E501\n",
    "    print(\"  Please fix this return type code until there is no exception\")\n",
    "    print('  Error:', e)\n"
   ]
  },
  {
   "cell_type": "code",
   "execution_count": null,
   "id": "negative-french",
   "metadata": {},
   "outputs": [],
   "source": [
    "# sklearn.model_selection._search_successive_halving.BaseSuccessiveHalving._more_tags\n",
    "try:\n",
    "    obj = class_constructor() # noqa F821\n",
    "    ret = obj._more_tags()\n",
    "    type_sklearn_model_selection__search_successive_halving_BaseSuccessiveHalving__more_tags = getattr(ret, '__module__', 'none') + '.' + ret.__class__.__name__\n",
    "    print('✅ sklearn.model_selection._search_successive_halving.BaseSuccessiveHalving._more_tags: ', type(ret)) # noqa E501\n",
    "except Exception as e:\n",
    "    type_sklearn_model_selection__search_successive_halving_BaseSuccessiveHalving__more_tags = '_syft_missing'\n",
    "    print('❌ sklearn.model_selection._search_successive_halving.BaseSuccessiveHalving._more_tags: Return unavailable') # noqa E501\n",
    "    print(\"  Please fix this return type code until there is no exception\")\n",
    "    print('  Error:', e)\n"
   ]
  },
  {
   "cell_type": "code",
   "execution_count": null,
   "id": "generous-tokyo",
   "metadata": {},
   "outputs": [],
   "source": [
    "# sklearn.model_selection._search_successive_halving.BaseSuccessiveHalving._pairwise\n",
    "try:\n",
    "    obj = class_constructor()\n",
    "    ret = obj._pairwise\n",
    "    type_sklearn_model_selection__search_successive_halving_BaseSuccessiveHalving__pairwise = getattr(ret, '__module__', 'none') + '.' + ret.__class__.__name__\n",
    "    print('✅ sklearn.model_selection._search_successive_halving.BaseSuccessiveHalving._pairwise:', type(ret)) # noqa E501\n",
    "except Exception as e:\n",
    "    type_sklearn_model_selection__search_successive_halving_BaseSuccessiveHalving__pairwise = '_syft_missing'\n",
    "    print('❌ sklearn.model_selection._search_successive_halving.BaseSuccessiveHalving._pairwise: Return unavailable') # noqa E501\n",
    "    print(\"  Please fix this return type code until there is no exception\")\n",
    "    print('  Error:', e)\n"
   ]
  },
  {
   "cell_type": "code",
   "execution_count": null,
   "id": "widespread-synthetic",
   "metadata": {},
   "outputs": [],
   "source": [
    "# sklearn.model_selection._search_successive_halving.BaseSuccessiveHalving._repr_html_\n",
    "try:\n",
    "    obj = class_constructor()\n",
    "    ret = obj._repr_html_\n",
    "    type_sklearn_model_selection__search_successive_halving_BaseSuccessiveHalving__repr_html_ = getattr(ret, '__module__', 'none') + '.' + ret.__class__.__name__\n",
    "    print('✅ sklearn.model_selection._search_successive_halving.BaseSuccessiveHalving._repr_html_:', type(ret)) # noqa E501\n",
    "except Exception as e:\n",
    "    type_sklearn_model_selection__search_successive_halving_BaseSuccessiveHalving__repr_html_ = '_syft_missing'\n",
    "    print('❌ sklearn.model_selection._search_successive_halving.BaseSuccessiveHalving._repr_html_: Return unavailable') # noqa E501\n",
    "    print(\"  Please fix this return type code until there is no exception\")\n",
    "    print('  Error:', e)\n"
   ]
  },
  {
   "cell_type": "code",
   "execution_count": null,
   "id": "agreed-silly",
   "metadata": {},
   "outputs": [],
   "source": [
    "# sklearn.model_selection._search_successive_halving.BaseSuccessiveHalving._repr_html_inner\n",
    "try:\n",
    "    obj = class_constructor() # noqa F821\n",
    "    ret = obj._repr_html_inner()\n",
    "    type_sklearn_model_selection__search_successive_halving_BaseSuccessiveHalving__repr_html_inner = getattr(ret, '__module__', 'none') + '.' + ret.__class__.__name__\n",
    "    print('✅ sklearn.model_selection._search_successive_halving.BaseSuccessiveHalving._repr_html_inner: ', type(ret)) # noqa E501\n",
    "except Exception as e:\n",
    "    type_sklearn_model_selection__search_successive_halving_BaseSuccessiveHalving__repr_html_inner = '_syft_missing'\n",
    "    print('❌ sklearn.model_selection._search_successive_halving.BaseSuccessiveHalving._repr_html_inner: Return unavailable') # noqa E501\n",
    "    print(\"  Please fix this return type code until there is no exception\")\n",
    "    print('  Error:', e)\n"
   ]
  },
  {
   "cell_type": "code",
   "execution_count": null,
   "id": "changing-partner",
   "metadata": {},
   "outputs": [],
   "source": [
    "# sklearn.model_selection._search_successive_halving.BaseSuccessiveHalving._repr_mimebundle_\n",
    "try:\n",
    "    obj = class_constructor() # noqa F821\n",
    "    ret = obj._repr_mimebundle_()\n",
    "    type_sklearn_model_selection__search_successive_halving_BaseSuccessiveHalving__repr_mimebundle_ = getattr(ret, '__module__', 'none') + '.' + ret.__class__.__name__\n",
    "    print('✅ sklearn.model_selection._search_successive_halving.BaseSuccessiveHalving._repr_mimebundle_: ', type(ret)) # noqa E501\n",
    "except Exception as e:\n",
    "    type_sklearn_model_selection__search_successive_halving_BaseSuccessiveHalving__repr_mimebundle_ = '_syft_missing'\n",
    "    print('❌ sklearn.model_selection._search_successive_halving.BaseSuccessiveHalving._repr_mimebundle_: Return unavailable') # noqa E501\n",
    "    print(\"  Please fix this return type code until there is no exception\")\n",
    "    print('  Error:', e)\n"
   ]
  },
  {
   "cell_type": "code",
   "execution_count": null,
   "id": "cardiovascular-exhaust",
   "metadata": {},
   "outputs": [],
   "source": [
    "# sklearn.model_selection._search_successive_halving.BaseSuccessiveHalving._run_search\n",
    "try:\n",
    "    obj = class_constructor() # noqa F821\n",
    "    ret = obj._run_search()\n",
    "    type_sklearn_model_selection__search_successive_halving_BaseSuccessiveHalving__run_search = getattr(ret, '__module__', 'none') + '.' + ret.__class__.__name__\n",
    "    print('✅ sklearn.model_selection._search_successive_halving.BaseSuccessiveHalving._run_search: ', type(ret)) # noqa E501\n",
    "except Exception as e:\n",
    "    type_sklearn_model_selection__search_successive_halving_BaseSuccessiveHalving__run_search = '_syft_missing'\n",
    "    print('❌ sklearn.model_selection._search_successive_halving.BaseSuccessiveHalving._run_search: Return unavailable') # noqa E501\n",
    "    print(\"  Please fix this return type code until there is no exception\")\n",
    "    print('  Error:', e)\n"
   ]
  },
  {
   "cell_type": "code",
   "execution_count": null,
   "id": "central-simpson",
   "metadata": {},
   "outputs": [],
   "source": [
    "# sklearn.model_selection._search_successive_halving.BaseSuccessiveHalving._validate_data\n",
    "try:\n",
    "    obj = class_constructor() # noqa F821\n",
    "    ret = obj._validate_data()\n",
    "    type_sklearn_model_selection__search_successive_halving_BaseSuccessiveHalving__validate_data = getattr(ret, '__module__', 'none') + '.' + ret.__class__.__name__\n",
    "    print('✅ sklearn.model_selection._search_successive_halving.BaseSuccessiveHalving._validate_data: ', type(ret)) # noqa E501\n",
    "except Exception as e:\n",
    "    type_sklearn_model_selection__search_successive_halving_BaseSuccessiveHalving__validate_data = '_syft_missing'\n",
    "    print('❌ sklearn.model_selection._search_successive_halving.BaseSuccessiveHalving._validate_data: Return unavailable') # noqa E501\n",
    "    print(\"  Please fix this return type code until there is no exception\")\n",
    "    print('  Error:', e)\n"
   ]
  },
  {
   "cell_type": "code",
   "execution_count": null,
   "id": "sharp-provincial",
   "metadata": {},
   "outputs": [],
   "source": [
    "# sklearn.model_selection._search_successive_halving.BaseSuccessiveHalving.classes_\n",
    "try:\n",
    "    obj = class_constructor()\n",
    "    ret = obj.classes_\n",
    "    type_sklearn_model_selection__search_successive_halving_BaseSuccessiveHalving_classes_ = getattr(ret, '__module__', 'none') + '.' + ret.__class__.__name__\n",
    "    print('✅ sklearn.model_selection._search_successive_halving.BaseSuccessiveHalving.classes_:', type(ret)) # noqa E501\n",
    "except Exception as e:\n",
    "    type_sklearn_model_selection__search_successive_halving_BaseSuccessiveHalving_classes_ = '_syft_missing'\n",
    "    print('❌ sklearn.model_selection._search_successive_halving.BaseSuccessiveHalving.classes_: Return unavailable') # noqa E501\n",
    "    print(\"  Please fix this return type code until there is no exception\")\n",
    "    print('  Error:', e)\n"
   ]
  },
  {
   "cell_type": "code",
   "execution_count": null,
   "id": "stopped-insulin",
   "metadata": {},
   "outputs": [],
   "source": [
    "# sklearn.model_selection._search_successive_halving.BaseSuccessiveHalving.decision_function\n",
    "try:\n",
    "    obj = class_constructor() # noqa F821\n",
    "    ret = obj.decision_function()\n",
    "    type_sklearn_model_selection__search_successive_halving_BaseSuccessiveHalving_decision_function = getattr(ret, '__module__', 'none') + '.' + ret.__class__.__name__\n",
    "    print('✅ sklearn.model_selection._search_successive_halving.BaseSuccessiveHalving.decision_function: ', type(ret)) # noqa E501\n",
    "except Exception as e:\n",
    "    type_sklearn_model_selection__search_successive_halving_BaseSuccessiveHalving_decision_function = '_syft_missing'\n",
    "    print('❌ sklearn.model_selection._search_successive_halving.BaseSuccessiveHalving.decision_function: Return unavailable') # noqa E501\n",
    "    print(\"  Please fix this return type code until there is no exception\")\n",
    "    print('  Error:', e)\n"
   ]
  },
  {
   "cell_type": "code",
   "execution_count": null,
   "id": "threaded-istanbul",
   "metadata": {},
   "outputs": [],
   "source": [
    "# sklearn.model_selection._search_successive_halving.BaseSuccessiveHalving.fit\n",
    "try:\n",
    "    obj = class_constructor() # noqa F821\n",
    "    ret = obj.fit()\n",
    "    type_sklearn_model_selection__search_successive_halving_BaseSuccessiveHalving_fit = getattr(ret, '__module__', 'none') + '.' + ret.__class__.__name__\n",
    "    print('✅ sklearn.model_selection._search_successive_halving.BaseSuccessiveHalving.fit: ', type(ret)) # noqa E501\n",
    "except Exception as e:\n",
    "    type_sklearn_model_selection__search_successive_halving_BaseSuccessiveHalving_fit = '_syft_missing'\n",
    "    print('❌ sklearn.model_selection._search_successive_halving.BaseSuccessiveHalving.fit: Return unavailable') # noqa E501\n",
    "    print(\"  Please fix this return type code until there is no exception\")\n",
    "    print('  Error:', e)\n"
   ]
  },
  {
   "cell_type": "code",
   "execution_count": null,
   "id": "raising-blackjack",
   "metadata": {},
   "outputs": [],
   "source": [
    "# sklearn.model_selection._search_successive_halving.BaseSuccessiveHalving.get_params\n",
    "try:\n",
    "    obj = class_constructor() # noqa F821\n",
    "    ret = obj.get_params()\n",
    "    type_sklearn_model_selection__search_successive_halving_BaseSuccessiveHalving_get_params = getattr(ret, '__module__', 'none') + '.' + ret.__class__.__name__\n",
    "    print('✅ sklearn.model_selection._search_successive_halving.BaseSuccessiveHalving.get_params: ', type(ret)) # noqa E501\n",
    "except Exception as e:\n",
    "    type_sklearn_model_selection__search_successive_halving_BaseSuccessiveHalving_get_params = '_syft_missing'\n",
    "    print('❌ sklearn.model_selection._search_successive_halving.BaseSuccessiveHalving.get_params: Return unavailable') # noqa E501\n",
    "    print(\"  Please fix this return type code until there is no exception\")\n",
    "    print('  Error:', e)\n"
   ]
  },
  {
   "cell_type": "code",
   "execution_count": null,
   "id": "settled-split",
   "metadata": {},
   "outputs": [],
   "source": [
    "# sklearn.model_selection._search_successive_halving.BaseSuccessiveHalving.inverse_transform\n",
    "try:\n",
    "    obj = class_constructor() # noqa F821\n",
    "    ret = obj.inverse_transform()\n",
    "    type_sklearn_model_selection__search_successive_halving_BaseSuccessiveHalving_inverse_transform = getattr(ret, '__module__', 'none') + '.' + ret.__class__.__name__\n",
    "    print('✅ sklearn.model_selection._search_successive_halving.BaseSuccessiveHalving.inverse_transform: ', type(ret)) # noqa E501\n",
    "except Exception as e:\n",
    "    type_sklearn_model_selection__search_successive_halving_BaseSuccessiveHalving_inverse_transform = '_syft_missing'\n",
    "    print('❌ sklearn.model_selection._search_successive_halving.BaseSuccessiveHalving.inverse_transform: Return unavailable') # noqa E501\n",
    "    print(\"  Please fix this return type code until there is no exception\")\n",
    "    print('  Error:', e)\n"
   ]
  },
  {
   "cell_type": "code",
   "execution_count": null,
   "id": "governing-patrick",
   "metadata": {},
   "outputs": [],
   "source": [
    "# sklearn.model_selection._search_successive_halving.BaseSuccessiveHalving.n_features_in_\n",
    "try:\n",
    "    obj = class_constructor()\n",
    "    ret = obj.n_features_in_\n",
    "    type_sklearn_model_selection__search_successive_halving_BaseSuccessiveHalving_n_features_in_ = getattr(ret, '__module__', 'none') + '.' + ret.__class__.__name__\n",
    "    print('✅ sklearn.model_selection._search_successive_halving.BaseSuccessiveHalving.n_features_in_:', type(ret)) # noqa E501\n",
    "except Exception as e:\n",
    "    type_sklearn_model_selection__search_successive_halving_BaseSuccessiveHalving_n_features_in_ = '_syft_missing'\n",
    "    print('❌ sklearn.model_selection._search_successive_halving.BaseSuccessiveHalving.n_features_in_: Return unavailable') # noqa E501\n",
    "    print(\"  Please fix this return type code until there is no exception\")\n",
    "    print('  Error:', e)\n"
   ]
  },
  {
   "cell_type": "code",
   "execution_count": null,
   "id": "pretty-contribution",
   "metadata": {},
   "outputs": [],
   "source": [
    "# sklearn.model_selection._search_successive_halving.BaseSuccessiveHalving.predict\n",
    "try:\n",
    "    obj = class_constructor() # noqa F821\n",
    "    ret = obj.predict()\n",
    "    type_sklearn_model_selection__search_successive_halving_BaseSuccessiveHalving_predict = getattr(ret, '__module__', 'none') + '.' + ret.__class__.__name__\n",
    "    print('✅ sklearn.model_selection._search_successive_halving.BaseSuccessiveHalving.predict: ', type(ret)) # noqa E501\n",
    "except Exception as e:\n",
    "    type_sklearn_model_selection__search_successive_halving_BaseSuccessiveHalving_predict = '_syft_missing'\n",
    "    print('❌ sklearn.model_selection._search_successive_halving.BaseSuccessiveHalving.predict: Return unavailable') # noqa E501\n",
    "    print(\"  Please fix this return type code until there is no exception\")\n",
    "    print('  Error:', e)\n"
   ]
  },
  {
   "cell_type": "code",
   "execution_count": null,
   "id": "parliamentary-graduation",
   "metadata": {},
   "outputs": [],
   "source": [
    "# sklearn.model_selection._search_successive_halving.BaseSuccessiveHalving.predict_log_proba\n",
    "try:\n",
    "    obj = class_constructor() # noqa F821\n",
    "    ret = obj.predict_log_proba()\n",
    "    type_sklearn_model_selection__search_successive_halving_BaseSuccessiveHalving_predict_log_proba = getattr(ret, '__module__', 'none') + '.' + ret.__class__.__name__\n",
    "    print('✅ sklearn.model_selection._search_successive_halving.BaseSuccessiveHalving.predict_log_proba: ', type(ret)) # noqa E501\n",
    "except Exception as e:\n",
    "    type_sklearn_model_selection__search_successive_halving_BaseSuccessiveHalving_predict_log_proba = '_syft_missing'\n",
    "    print('❌ sklearn.model_selection._search_successive_halving.BaseSuccessiveHalving.predict_log_proba: Return unavailable') # noqa E501\n",
    "    print(\"  Please fix this return type code until there is no exception\")\n",
    "    print('  Error:', e)\n"
   ]
  },
  {
   "cell_type": "code",
   "execution_count": null,
   "id": "tribal-baltimore",
   "metadata": {},
   "outputs": [],
   "source": [
    "# sklearn.model_selection._search_successive_halving.BaseSuccessiveHalving.predict_proba\n",
    "try:\n",
    "    obj = class_constructor() # noqa F821\n",
    "    ret = obj.predict_proba()\n",
    "    type_sklearn_model_selection__search_successive_halving_BaseSuccessiveHalving_predict_proba = getattr(ret, '__module__', 'none') + '.' + ret.__class__.__name__\n",
    "    print('✅ sklearn.model_selection._search_successive_halving.BaseSuccessiveHalving.predict_proba: ', type(ret)) # noqa E501\n",
    "except Exception as e:\n",
    "    type_sklearn_model_selection__search_successive_halving_BaseSuccessiveHalving_predict_proba = '_syft_missing'\n",
    "    print('❌ sklearn.model_selection._search_successive_halving.BaseSuccessiveHalving.predict_proba: Return unavailable') # noqa E501\n",
    "    print(\"  Please fix this return type code until there is no exception\")\n",
    "    print('  Error:', e)\n"
   ]
  },
  {
   "cell_type": "code",
   "execution_count": null,
   "id": "identified-chuck",
   "metadata": {},
   "outputs": [],
   "source": [
    "# sklearn.model_selection._search_successive_halving.BaseSuccessiveHalving.score\n",
    "try:\n",
    "    obj = class_constructor() # noqa F821\n",
    "    ret = obj.score()\n",
    "    type_sklearn_model_selection__search_successive_halving_BaseSuccessiveHalving_score = getattr(ret, '__module__', 'none') + '.' + ret.__class__.__name__\n",
    "    print('✅ sklearn.model_selection._search_successive_halving.BaseSuccessiveHalving.score: ', type(ret)) # noqa E501\n",
    "except Exception as e:\n",
    "    type_sklearn_model_selection__search_successive_halving_BaseSuccessiveHalving_score = '_syft_missing'\n",
    "    print('❌ sklearn.model_selection._search_successive_halving.BaseSuccessiveHalving.score: Return unavailable') # noqa E501\n",
    "    print(\"  Please fix this return type code until there is no exception\")\n",
    "    print('  Error:', e)\n"
   ]
  },
  {
   "cell_type": "code",
   "execution_count": null,
   "id": "bridal-reserve",
   "metadata": {},
   "outputs": [],
   "source": [
    "# sklearn.model_selection._search_successive_halving.BaseSuccessiveHalving.score_samples\n",
    "try:\n",
    "    obj = class_constructor() # noqa F821\n",
    "    ret = obj.score_samples()\n",
    "    type_sklearn_model_selection__search_successive_halving_BaseSuccessiveHalving_score_samples = getattr(ret, '__module__', 'none') + '.' + ret.__class__.__name__\n",
    "    print('✅ sklearn.model_selection._search_successive_halving.BaseSuccessiveHalving.score_samples: ', type(ret)) # noqa E501\n",
    "except Exception as e:\n",
    "    type_sklearn_model_selection__search_successive_halving_BaseSuccessiveHalving_score_samples = '_syft_missing'\n",
    "    print('❌ sklearn.model_selection._search_successive_halving.BaseSuccessiveHalving.score_samples: Return unavailable') # noqa E501\n",
    "    print(\"  Please fix this return type code until there is no exception\")\n",
    "    print('  Error:', e)\n"
   ]
  },
  {
   "cell_type": "code",
   "execution_count": null,
   "id": "narrative-naples",
   "metadata": {},
   "outputs": [],
   "source": [
    "# sklearn.model_selection._search_successive_halving.BaseSuccessiveHalving.set_params\n",
    "try:\n",
    "    obj = class_constructor() # noqa F821\n",
    "    ret = obj.set_params()\n",
    "    type_sklearn_model_selection__search_successive_halving_BaseSuccessiveHalving_set_params = getattr(ret, '__module__', 'none') + '.' + ret.__class__.__name__\n",
    "    print('✅ sklearn.model_selection._search_successive_halving.BaseSuccessiveHalving.set_params: ', type(ret)) # noqa E501\n",
    "except Exception as e:\n",
    "    type_sklearn_model_selection__search_successive_halving_BaseSuccessiveHalving_set_params = '_syft_missing'\n",
    "    print('❌ sklearn.model_selection._search_successive_halving.BaseSuccessiveHalving.set_params: Return unavailable') # noqa E501\n",
    "    print(\"  Please fix this return type code until there is no exception\")\n",
    "    print('  Error:', e)\n"
   ]
  },
  {
   "cell_type": "code",
   "execution_count": null,
   "id": "little-dinner",
   "metadata": {},
   "outputs": [],
   "source": [
    "# sklearn.model_selection._search_successive_halving.BaseSuccessiveHalving.transform\n",
    "try:\n",
    "    obj = class_constructor() # noqa F821\n",
    "    ret = obj.transform()\n",
    "    type_sklearn_model_selection__search_successive_halving_BaseSuccessiveHalving_transform = getattr(ret, '__module__', 'none') + '.' + ret.__class__.__name__\n",
    "    print('✅ sklearn.model_selection._search_successive_halving.BaseSuccessiveHalving.transform: ', type(ret)) # noqa E501\n",
    "except Exception as e:\n",
    "    type_sklearn_model_selection__search_successive_halving_BaseSuccessiveHalving_transform = '_syft_missing'\n",
    "    print('❌ sklearn.model_selection._search_successive_halving.BaseSuccessiveHalving.transform: Return unavailable') # noqa E501\n",
    "    print(\"  Please fix this return type code until there is no exception\")\n",
    "    print('  Error:', e)\n"
   ]
  }
 ],
 "metadata": {},
 "nbformat": 4,
 "nbformat_minor": 5
}
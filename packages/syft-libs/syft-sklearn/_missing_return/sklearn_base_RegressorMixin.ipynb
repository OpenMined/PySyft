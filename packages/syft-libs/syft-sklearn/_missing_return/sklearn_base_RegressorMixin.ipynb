{
 "cells": [
  {
   "cell_type": "markdown",
   "id": "rocky-bennett",
   "metadata": {},
   "source": [
    "## sklearn.base.RegressorMixin"
   ]
  },
  {
   "cell_type": "code",
   "execution_count": null,
   "id": "innocent-algebra",
   "metadata": {},
   "outputs": [],
   "source": [
    "import sklearn\n",
    "def class_constructor(*args, **kwargs):\n",
    "    obj = sklearn.base.RegressorMixin()\n",
    "    return obj\n"
   ]
  },
  {
   "cell_type": "code",
   "execution_count": null,
   "id": "apart-chemical",
   "metadata": {},
   "outputs": [],
   "source": [
    "# sklearn.base.RegressorMixin._more_tags\n",
    "try:\n",
    "    obj = class_constructor() # noqa F821\n",
    "    ret = obj._more_tags()\n",
    "    type_sklearn_base_RegressorMixin__more_tags = getattr(ret, '__module__', 'none') + '.' + ret.__class__.__name__\n",
    "    print('✅ sklearn.base.RegressorMixin._more_tags: ', type(ret)) # noqa E501\n",
    "except Exception as e:\n",
    "    type_sklearn_base_RegressorMixin__more_tags = '_syft_missing'\n",
    "    print('❌ sklearn.base.RegressorMixin._more_tags: Return unavailable') # noqa E501\n",
    "    print(\"  Please fix this return type code until there is no exception\")\n",
    "    print('  Error:', e)\n"
   ]
  },
  {
   "cell_type": "code",
   "execution_count": null,
   "id": "beginning-coach",
   "metadata": {},
   "outputs": [],
   "source": [
    "# sklearn.base.RegressorMixin.score\n",
    "try:\n",
    "    obj = class_constructor() # noqa F821\n",
    "    ret = obj.score()\n",
    "    type_sklearn_base_RegressorMixin_score = getattr(ret, '__module__', 'none') + '.' + ret.__class__.__name__\n",
    "    print('✅ sklearn.base.RegressorMixin.score: ', type(ret)) # noqa E501\n",
    "except Exception as e:\n",
    "    type_sklearn_base_RegressorMixin_score = '_syft_missing'\n",
    "    print('❌ sklearn.base.RegressorMixin.score: Return unavailable') # noqa E501\n",
    "    print(\"  Please fix this return type code until there is no exception\")\n",
    "    print('  Error:', e)\n"
   ]
  }
 ],
 "metadata": {},
 "nbformat": 4,
 "nbformat_minor": 5
}
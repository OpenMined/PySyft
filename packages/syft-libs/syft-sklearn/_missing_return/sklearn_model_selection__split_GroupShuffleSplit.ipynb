{
 "cells": [
  {
   "cell_type": "markdown",
   "id": "advised-video",
   "metadata": {},
   "source": [
    "## sklearn.model_selection._split.GroupShuffleSplit"
   ]
  },
  {
   "cell_type": "code",
   "execution_count": null,
   "id": "discrete-guitar",
   "metadata": {},
   "outputs": [],
   "source": [
    "import sklearn\n",
    "def class_constructor(*args, **kwargs):\n",
    "    obj = sklearn.model_selection._split.GroupShuffleSplit()\n",
    "    return obj\n"
   ]
  },
  {
   "cell_type": "code",
   "execution_count": null,
   "id": "dental-prisoner",
   "metadata": {},
   "outputs": [],
   "source": [
    "# sklearn.model_selection._split.GroupShuffleSplit.__repr__\n",
    "try:\n",
    "    obj = class_constructor() # noqa F821\n",
    "    ret = obj.__repr__()\n",
    "    type_sklearn_model_selection__split_GroupShuffleSplit___repr__ = getattr(ret, '__module__', 'none') + '.' + ret.__class__.__name__\n",
    "    print('✅ sklearn.model_selection._split.GroupShuffleSplit.__repr__: ', type(ret)) # noqa E501\n",
    "except Exception as e:\n",
    "    type_sklearn_model_selection__split_GroupShuffleSplit___repr__ = '_syft_missing'\n",
    "    print('❌ sklearn.model_selection._split.GroupShuffleSplit.__repr__: Return unavailable') # noqa E501\n",
    "    print(\"  Please fix this return type code until there is no exception\")\n",
    "    print('  Error:', e)\n"
   ]
  },
  {
   "cell_type": "code",
   "execution_count": null,
   "id": "valued-restriction",
   "metadata": {},
   "outputs": [],
   "source": [
    "# sklearn.model_selection._split.GroupShuffleSplit._iter_indices\n",
    "try:\n",
    "    obj = class_constructor() # noqa F821\n",
    "    ret = obj._iter_indices()\n",
    "    type_sklearn_model_selection__split_GroupShuffleSplit__iter_indices = getattr(ret, '__module__', 'none') + '.' + ret.__class__.__name__\n",
    "    print('✅ sklearn.model_selection._split.GroupShuffleSplit._iter_indices: ', type(ret)) # noqa E501\n",
    "except Exception as e:\n",
    "    type_sklearn_model_selection__split_GroupShuffleSplit__iter_indices = '_syft_missing'\n",
    "    print('❌ sklearn.model_selection._split.GroupShuffleSplit._iter_indices: Return unavailable') # noqa E501\n",
    "    print(\"  Please fix this return type code until there is no exception\")\n",
    "    print('  Error:', e)\n"
   ]
  },
  {
   "cell_type": "code",
   "execution_count": null,
   "id": "becoming-formation",
   "metadata": {},
   "outputs": [],
   "source": [
    "# sklearn.model_selection._split.GroupShuffleSplit.get_n_splits\n",
    "try:\n",
    "    obj = class_constructor() # noqa F821\n",
    "    ret = obj.get_n_splits()\n",
    "    type_sklearn_model_selection__split_GroupShuffleSplit_get_n_splits = getattr(ret, '__module__', 'none') + '.' + ret.__class__.__name__\n",
    "    print('✅ sklearn.model_selection._split.GroupShuffleSplit.get_n_splits: ', type(ret)) # noqa E501\n",
    "except Exception as e:\n",
    "    type_sklearn_model_selection__split_GroupShuffleSplit_get_n_splits = '_syft_missing'\n",
    "    print('❌ sklearn.model_selection._split.GroupShuffleSplit.get_n_splits: Return unavailable') # noqa E501\n",
    "    print(\"  Please fix this return type code until there is no exception\")\n",
    "    print('  Error:', e)\n"
   ]
  },
  {
   "cell_type": "code",
   "execution_count": null,
   "id": "provincial-financing",
   "metadata": {},
   "outputs": [],
   "source": [
    "# sklearn.model_selection._split.GroupShuffleSplit.split\n",
    "try:\n",
    "    obj = class_constructor() # noqa F821\n",
    "    ret = obj.split()\n",
    "    type_sklearn_model_selection__split_GroupShuffleSplit_split = getattr(ret, '__module__', 'none') + '.' + ret.__class__.__name__\n",
    "    print('✅ sklearn.model_selection._split.GroupShuffleSplit.split: ', type(ret)) # noqa E501\n",
    "except Exception as e:\n",
    "    type_sklearn_model_selection__split_GroupShuffleSplit_split = '_syft_missing'\n",
    "    print('❌ sklearn.model_selection._split.GroupShuffleSplit.split: Return unavailable') # noqa E501\n",
    "    print(\"  Please fix this return type code until there is no exception\")\n",
    "    print('  Error:', e)\n"
   ]
  }
 ],
 "metadata": {},
 "nbformat": 4,
 "nbformat_minor": 5
}
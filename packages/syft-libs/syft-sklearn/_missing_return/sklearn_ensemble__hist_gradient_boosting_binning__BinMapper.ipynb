{
 "cells": [
  {
   "cell_type": "markdown",
   "id": "treated-frost",
   "metadata": {},
   "source": [
    "## sklearn.ensemble._hist_gradient_boosting.binning._BinMapper"
   ]
  },
  {
   "cell_type": "code",
   "execution_count": null,
   "id": "controversial-drink",
   "metadata": {},
   "outputs": [],
   "source": [
    "import sklearn\n",
    "def class_constructor(*args, **kwargs):\n",
    "    obj = sklearn.ensemble._hist_gradient_boosting.binning._BinMapper()\n",
    "    return obj\n"
   ]
  },
  {
   "cell_type": "code",
   "execution_count": null,
   "id": "inappropriate-disposition",
   "metadata": {},
   "outputs": [],
   "source": [
    "# sklearn.ensemble._hist_gradient_boosting.binning._BinMapper.__getstate__\n",
    "try:\n",
    "    obj = class_constructor() # noqa F821\n",
    "    ret = obj.__getstate__()\n",
    "    type_sklearn_ensemble__hist_gradient_boosting_binning__BinMapper___getstate__ = getattr(ret, '__module__', 'none') + '.' + ret.__class__.__name__\n",
    "    print('✅ sklearn.ensemble._hist_gradient_boosting.binning._BinMapper.__getstate__: ', type(ret)) # noqa E501\n",
    "except Exception as e:\n",
    "    type_sklearn_ensemble__hist_gradient_boosting_binning__BinMapper___getstate__ = '_syft_missing'\n",
    "    print('❌ sklearn.ensemble._hist_gradient_boosting.binning._BinMapper.__getstate__: Return unavailable') # noqa E501\n",
    "    print(\"  Please fix this return type code until there is no exception\")\n",
    "    print('  Error:', e)\n"
   ]
  },
  {
   "cell_type": "code",
   "execution_count": null,
   "id": "antique-geology",
   "metadata": {},
   "outputs": [],
   "source": [
    "# sklearn.ensemble._hist_gradient_boosting.binning._BinMapper.__repr__\n",
    "try:\n",
    "    obj = class_constructor() # noqa F821\n",
    "    ret = obj.__repr__()\n",
    "    type_sklearn_ensemble__hist_gradient_boosting_binning__BinMapper___repr__ = getattr(ret, '__module__', 'none') + '.' + ret.__class__.__name__\n",
    "    print('✅ sklearn.ensemble._hist_gradient_boosting.binning._BinMapper.__repr__: ', type(ret)) # noqa E501\n",
    "except Exception as e:\n",
    "    type_sklearn_ensemble__hist_gradient_boosting_binning__BinMapper___repr__ = '_syft_missing'\n",
    "    print('❌ sklearn.ensemble._hist_gradient_boosting.binning._BinMapper.__repr__: Return unavailable') # noqa E501\n",
    "    print(\"  Please fix this return type code until there is no exception\")\n",
    "    print('  Error:', e)\n"
   ]
  },
  {
   "cell_type": "code",
   "execution_count": null,
   "id": "broad-intensity",
   "metadata": {},
   "outputs": [],
   "source": [
    "# sklearn.ensemble._hist_gradient_boosting.binning._BinMapper.__setstate__\n",
    "try:\n",
    "    obj = class_constructor() # noqa F821\n",
    "    ret = obj.__setstate__()\n",
    "    type_sklearn_ensemble__hist_gradient_boosting_binning__BinMapper___setstate__ = getattr(ret, '__module__', 'none') + '.' + ret.__class__.__name__\n",
    "    print('✅ sklearn.ensemble._hist_gradient_boosting.binning._BinMapper.__setstate__: ', type(ret)) # noqa E501\n",
    "except Exception as e:\n",
    "    type_sklearn_ensemble__hist_gradient_boosting_binning__BinMapper___setstate__ = '_syft_missing'\n",
    "    print('❌ sklearn.ensemble._hist_gradient_boosting.binning._BinMapper.__setstate__: Return unavailable') # noqa E501\n",
    "    print(\"  Please fix this return type code until there is no exception\")\n",
    "    print('  Error:', e)\n"
   ]
  },
  {
   "cell_type": "code",
   "execution_count": null,
   "id": "young-vampire",
   "metadata": {},
   "outputs": [],
   "source": [
    "# sklearn.ensemble._hist_gradient_boosting.binning._BinMapper._check_n_features\n",
    "try:\n",
    "    obj = class_constructor() # noqa F821\n",
    "    ret = obj._check_n_features()\n",
    "    type_sklearn_ensemble__hist_gradient_boosting_binning__BinMapper__check_n_features = getattr(ret, '__module__', 'none') + '.' + ret.__class__.__name__\n",
    "    print('✅ sklearn.ensemble._hist_gradient_boosting.binning._BinMapper._check_n_features: ', type(ret)) # noqa E501\n",
    "except Exception as e:\n",
    "    type_sklearn_ensemble__hist_gradient_boosting_binning__BinMapper__check_n_features = '_syft_missing'\n",
    "    print('❌ sklearn.ensemble._hist_gradient_boosting.binning._BinMapper._check_n_features: Return unavailable') # noqa E501\n",
    "    print(\"  Please fix this return type code until there is no exception\")\n",
    "    print('  Error:', e)\n"
   ]
  },
  {
   "cell_type": "code",
   "execution_count": null,
   "id": "spanish-inspector",
   "metadata": {},
   "outputs": [],
   "source": [
    "# sklearn.ensemble._hist_gradient_boosting.binning._BinMapper._get_param_names\n",
    "try:\n",
    "    obj = class_constructor() # noqa F821\n",
    "    ret = obj._get_param_names()\n",
    "    type_sklearn_ensemble__hist_gradient_boosting_binning__BinMapper__get_param_names = getattr(ret, '__module__', 'none') + '.' + ret.__class__.__name__\n",
    "    print('✅ sklearn.ensemble._hist_gradient_boosting.binning._BinMapper._get_param_names: ', type(ret)) # noqa E501\n",
    "except Exception as e:\n",
    "    type_sklearn_ensemble__hist_gradient_boosting_binning__BinMapper__get_param_names = '_syft_missing'\n",
    "    print('❌ sklearn.ensemble._hist_gradient_boosting.binning._BinMapper._get_param_names: Return unavailable') # noqa E501\n",
    "    print(\"  Please fix this return type code until there is no exception\")\n",
    "    print('  Error:', e)\n"
   ]
  },
  {
   "cell_type": "code",
   "execution_count": null,
   "id": "southwest-voluntary",
   "metadata": {},
   "outputs": [],
   "source": [
    "# sklearn.ensemble._hist_gradient_boosting.binning._BinMapper._get_tags\n",
    "try:\n",
    "    obj = class_constructor() # noqa F821\n",
    "    ret = obj._get_tags()\n",
    "    type_sklearn_ensemble__hist_gradient_boosting_binning__BinMapper__get_tags = getattr(ret, '__module__', 'none') + '.' + ret.__class__.__name__\n",
    "    print('✅ sklearn.ensemble._hist_gradient_boosting.binning._BinMapper._get_tags: ', type(ret)) # noqa E501\n",
    "except Exception as e:\n",
    "    type_sklearn_ensemble__hist_gradient_boosting_binning__BinMapper__get_tags = '_syft_missing'\n",
    "    print('❌ sklearn.ensemble._hist_gradient_boosting.binning._BinMapper._get_tags: Return unavailable') # noqa E501\n",
    "    print(\"  Please fix this return type code until there is no exception\")\n",
    "    print('  Error:', e)\n"
   ]
  },
  {
   "cell_type": "code",
   "execution_count": null,
   "id": "native-procedure",
   "metadata": {},
   "outputs": [],
   "source": [
    "# sklearn.ensemble._hist_gradient_boosting.binning._BinMapper._more_tags\n",
    "try:\n",
    "    obj = class_constructor() # noqa F821\n",
    "    ret = obj._more_tags()\n",
    "    type_sklearn_ensemble__hist_gradient_boosting_binning__BinMapper__more_tags = getattr(ret, '__module__', 'none') + '.' + ret.__class__.__name__\n",
    "    print('✅ sklearn.ensemble._hist_gradient_boosting.binning._BinMapper._more_tags: ', type(ret)) # noqa E501\n",
    "except Exception as e:\n",
    "    type_sklearn_ensemble__hist_gradient_boosting_binning__BinMapper__more_tags = '_syft_missing'\n",
    "    print('❌ sklearn.ensemble._hist_gradient_boosting.binning._BinMapper._more_tags: Return unavailable') # noqa E501\n",
    "    print(\"  Please fix this return type code until there is no exception\")\n",
    "    print('  Error:', e)\n"
   ]
  },
  {
   "cell_type": "code",
   "execution_count": null,
   "id": "modular-nitrogen",
   "metadata": {},
   "outputs": [],
   "source": [
    "# sklearn.ensemble._hist_gradient_boosting.binning._BinMapper._repr_html_\n",
    "try:\n",
    "    obj = class_constructor()\n",
    "    ret = obj._repr_html_\n",
    "    type_sklearn_ensemble__hist_gradient_boosting_binning__BinMapper__repr_html_ = getattr(ret, '__module__', 'none') + '.' + ret.__class__.__name__\n",
    "    print('✅ sklearn.ensemble._hist_gradient_boosting.binning._BinMapper._repr_html_:', type(ret)) # noqa E501\n",
    "except Exception as e:\n",
    "    type_sklearn_ensemble__hist_gradient_boosting_binning__BinMapper__repr_html_ = '_syft_missing'\n",
    "    print('❌ sklearn.ensemble._hist_gradient_boosting.binning._BinMapper._repr_html_: Return unavailable') # noqa E501\n",
    "    print(\"  Please fix this return type code until there is no exception\")\n",
    "    print('  Error:', e)\n"
   ]
  },
  {
   "cell_type": "code",
   "execution_count": null,
   "id": "adult-raising",
   "metadata": {},
   "outputs": [],
   "source": [
    "# sklearn.ensemble._hist_gradient_boosting.binning._BinMapper._repr_html_inner\n",
    "try:\n",
    "    obj = class_constructor() # noqa F821\n",
    "    ret = obj._repr_html_inner()\n",
    "    type_sklearn_ensemble__hist_gradient_boosting_binning__BinMapper__repr_html_inner = getattr(ret, '__module__', 'none') + '.' + ret.__class__.__name__\n",
    "    print('✅ sklearn.ensemble._hist_gradient_boosting.binning._BinMapper._repr_html_inner: ', type(ret)) # noqa E501\n",
    "except Exception as e:\n",
    "    type_sklearn_ensemble__hist_gradient_boosting_binning__BinMapper__repr_html_inner = '_syft_missing'\n",
    "    print('❌ sklearn.ensemble._hist_gradient_boosting.binning._BinMapper._repr_html_inner: Return unavailable') # noqa E501\n",
    "    print(\"  Please fix this return type code until there is no exception\")\n",
    "    print('  Error:', e)\n"
   ]
  },
  {
   "cell_type": "code",
   "execution_count": null,
   "id": "immune-burlington",
   "metadata": {},
   "outputs": [],
   "source": [
    "# sklearn.ensemble._hist_gradient_boosting.binning._BinMapper._repr_mimebundle_\n",
    "try:\n",
    "    obj = class_constructor() # noqa F821\n",
    "    ret = obj._repr_mimebundle_()\n",
    "    type_sklearn_ensemble__hist_gradient_boosting_binning__BinMapper__repr_mimebundle_ = getattr(ret, '__module__', 'none') + '.' + ret.__class__.__name__\n",
    "    print('✅ sklearn.ensemble._hist_gradient_boosting.binning._BinMapper._repr_mimebundle_: ', type(ret)) # noqa E501\n",
    "except Exception as e:\n",
    "    type_sklearn_ensemble__hist_gradient_boosting_binning__BinMapper__repr_mimebundle_ = '_syft_missing'\n",
    "    print('❌ sklearn.ensemble._hist_gradient_boosting.binning._BinMapper._repr_mimebundle_: Return unavailable') # noqa E501\n",
    "    print(\"  Please fix this return type code until there is no exception\")\n",
    "    print('  Error:', e)\n"
   ]
  },
  {
   "cell_type": "code",
   "execution_count": null,
   "id": "common-locking",
   "metadata": {},
   "outputs": [],
   "source": [
    "# sklearn.ensemble._hist_gradient_boosting.binning._BinMapper._validate_data\n",
    "try:\n",
    "    obj = class_constructor() # noqa F821\n",
    "    ret = obj._validate_data()\n",
    "    type_sklearn_ensemble__hist_gradient_boosting_binning__BinMapper__validate_data = getattr(ret, '__module__', 'none') + '.' + ret.__class__.__name__\n",
    "    print('✅ sklearn.ensemble._hist_gradient_boosting.binning._BinMapper._validate_data: ', type(ret)) # noqa E501\n",
    "except Exception as e:\n",
    "    type_sklearn_ensemble__hist_gradient_boosting_binning__BinMapper__validate_data = '_syft_missing'\n",
    "    print('❌ sklearn.ensemble._hist_gradient_boosting.binning._BinMapper._validate_data: Return unavailable') # noqa E501\n",
    "    print(\"  Please fix this return type code until there is no exception\")\n",
    "    print('  Error:', e)\n"
   ]
  },
  {
   "cell_type": "code",
   "execution_count": null,
   "id": "designed-moral",
   "metadata": {},
   "outputs": [],
   "source": [
    "# sklearn.ensemble._hist_gradient_boosting.binning._BinMapper.fit\n",
    "try:\n",
    "    obj = class_constructor() # noqa F821\n",
    "    ret = obj.fit()\n",
    "    type_sklearn_ensemble__hist_gradient_boosting_binning__BinMapper_fit = getattr(ret, '__module__', 'none') + '.' + ret.__class__.__name__\n",
    "    print('✅ sklearn.ensemble._hist_gradient_boosting.binning._BinMapper.fit: ', type(ret)) # noqa E501\n",
    "except Exception as e:\n",
    "    type_sklearn_ensemble__hist_gradient_boosting_binning__BinMapper_fit = '_syft_missing'\n",
    "    print('❌ sklearn.ensemble._hist_gradient_boosting.binning._BinMapper.fit: Return unavailable') # noqa E501\n",
    "    print(\"  Please fix this return type code until there is no exception\")\n",
    "    print('  Error:', e)\n"
   ]
  },
  {
   "cell_type": "code",
   "execution_count": null,
   "id": "norman-premium",
   "metadata": {},
   "outputs": [],
   "source": [
    "# sklearn.ensemble._hist_gradient_boosting.binning._BinMapper.fit_transform\n",
    "try:\n",
    "    obj = class_constructor() # noqa F821\n",
    "    ret = obj.fit_transform()\n",
    "    type_sklearn_ensemble__hist_gradient_boosting_binning__BinMapper_fit_transform = getattr(ret, '__module__', 'none') + '.' + ret.__class__.__name__\n",
    "    print('✅ sklearn.ensemble._hist_gradient_boosting.binning._BinMapper.fit_transform: ', type(ret)) # noqa E501\n",
    "except Exception as e:\n",
    "    type_sklearn_ensemble__hist_gradient_boosting_binning__BinMapper_fit_transform = '_syft_missing'\n",
    "    print('❌ sklearn.ensemble._hist_gradient_boosting.binning._BinMapper.fit_transform: Return unavailable') # noqa E501\n",
    "    print(\"  Please fix this return type code until there is no exception\")\n",
    "    print('  Error:', e)\n"
   ]
  },
  {
   "cell_type": "code",
   "execution_count": null,
   "id": "naval-debate",
   "metadata": {},
   "outputs": [],
   "source": [
    "# sklearn.ensemble._hist_gradient_boosting.binning._BinMapper.get_params\n",
    "try:\n",
    "    obj = class_constructor() # noqa F821\n",
    "    ret = obj.get_params()\n",
    "    type_sklearn_ensemble__hist_gradient_boosting_binning__BinMapper_get_params = getattr(ret, '__module__', 'none') + '.' + ret.__class__.__name__\n",
    "    print('✅ sklearn.ensemble._hist_gradient_boosting.binning._BinMapper.get_params: ', type(ret)) # noqa E501\n",
    "except Exception as e:\n",
    "    type_sklearn_ensemble__hist_gradient_boosting_binning__BinMapper_get_params = '_syft_missing'\n",
    "    print('❌ sklearn.ensemble._hist_gradient_boosting.binning._BinMapper.get_params: Return unavailable') # noqa E501\n",
    "    print(\"  Please fix this return type code until there is no exception\")\n",
    "    print('  Error:', e)\n"
   ]
  },
  {
   "cell_type": "code",
   "execution_count": null,
   "id": "patent-estimate",
   "metadata": {},
   "outputs": [],
   "source": [
    "# sklearn.ensemble._hist_gradient_boosting.binning._BinMapper.make_known_categories_bitsets\n",
    "try:\n",
    "    obj = class_constructor() # noqa F821\n",
    "    ret = obj.make_known_categories_bitsets()\n",
    "    type_sklearn_ensemble__hist_gradient_boosting_binning__BinMapper_make_known_categories_bitsets = getattr(ret, '__module__', 'none') + '.' + ret.__class__.__name__\n",
    "    print('✅ sklearn.ensemble._hist_gradient_boosting.binning._BinMapper.make_known_categories_bitsets: ', type(ret)) # noqa E501\n",
    "except Exception as e:\n",
    "    type_sklearn_ensemble__hist_gradient_boosting_binning__BinMapper_make_known_categories_bitsets = '_syft_missing'\n",
    "    print('❌ sklearn.ensemble._hist_gradient_boosting.binning._BinMapper.make_known_categories_bitsets: Return unavailable') # noqa E501\n",
    "    print(\"  Please fix this return type code until there is no exception\")\n",
    "    print('  Error:', e)\n"
   ]
  },
  {
   "cell_type": "code",
   "execution_count": null,
   "id": "happy-deadline",
   "metadata": {},
   "outputs": [],
   "source": [
    "# sklearn.ensemble._hist_gradient_boosting.binning._BinMapper.set_params\n",
    "try:\n",
    "    obj = class_constructor() # noqa F821\n",
    "    ret = obj.set_params()\n",
    "    type_sklearn_ensemble__hist_gradient_boosting_binning__BinMapper_set_params = getattr(ret, '__module__', 'none') + '.' + ret.__class__.__name__\n",
    "    print('✅ sklearn.ensemble._hist_gradient_boosting.binning._BinMapper.set_params: ', type(ret)) # noqa E501\n",
    "except Exception as e:\n",
    "    type_sklearn_ensemble__hist_gradient_boosting_binning__BinMapper_set_params = '_syft_missing'\n",
    "    print('❌ sklearn.ensemble._hist_gradient_boosting.binning._BinMapper.set_params: Return unavailable') # noqa E501\n",
    "    print(\"  Please fix this return type code until there is no exception\")\n",
    "    print('  Error:', e)\n"
   ]
  },
  {
   "cell_type": "code",
   "execution_count": null,
   "id": "breathing-cement",
   "metadata": {},
   "outputs": [],
   "source": [
    "# sklearn.ensemble._hist_gradient_boosting.binning._BinMapper.transform\n",
    "try:\n",
    "    obj = class_constructor() # noqa F821\n",
    "    ret = obj.transform()\n",
    "    type_sklearn_ensemble__hist_gradient_boosting_binning__BinMapper_transform = getattr(ret, '__module__', 'none') + '.' + ret.__class__.__name__\n",
    "    print('✅ sklearn.ensemble._hist_gradient_boosting.binning._BinMapper.transform: ', type(ret)) # noqa E501\n",
    "except Exception as e:\n",
    "    type_sklearn_ensemble__hist_gradient_boosting_binning__BinMapper_transform = '_syft_missing'\n",
    "    print('❌ sklearn.ensemble._hist_gradient_boosting.binning._BinMapper.transform: Return unavailable') # noqa E501\n",
    "    print(\"  Please fix this return type code until there is no exception\")\n",
    "    print('  Error:', e)\n"
   ]
  }
 ],
 "metadata": {},
 "nbformat": 4,
 "nbformat_minor": 5
}
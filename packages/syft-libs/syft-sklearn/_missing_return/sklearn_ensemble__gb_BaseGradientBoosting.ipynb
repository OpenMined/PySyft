{
 "cells": [
  {
   "cell_type": "markdown",
   "id": "caroline-walnut",
   "metadata": {},
   "source": [
    "## sklearn.ensemble._gb.BaseGradientBoosting"
   ]
  },
  {
   "cell_type": "code",
   "execution_count": null,
   "id": "joined-mexican",
   "metadata": {},
   "outputs": [],
   "source": [
    "import sklearn\n",
    "def class_constructor(*args, **kwargs):\n",
    "    obj = sklearn.ensemble._gb.BaseGradientBoosting()\n",
    "    return obj\n"
   ]
  },
  {
   "cell_type": "code",
   "execution_count": null,
   "id": "improved-burton",
   "metadata": {},
   "outputs": [],
   "source": [
    "# sklearn.ensemble._gb.BaseGradientBoosting.__getitem__\n",
    "try:\n",
    "    obj = class_constructor() # noqa F821\n",
    "    ret = obj.__getitem__()\n",
    "    type_sklearn_ensemble__gb_BaseGradientBoosting___getitem__ = getattr(ret, '__module__', 'none') + '.' + ret.__class__.__name__\n",
    "    print('✅ sklearn.ensemble._gb.BaseGradientBoosting.__getitem__: ', type(ret)) # noqa E501\n",
    "except Exception as e:\n",
    "    type_sklearn_ensemble__gb_BaseGradientBoosting___getitem__ = '_syft_missing'\n",
    "    print('❌ sklearn.ensemble._gb.BaseGradientBoosting.__getitem__: Return unavailable') # noqa E501\n",
    "    print(\"  Please fix this return type code until there is no exception\")\n",
    "    print('  Error:', e)\n"
   ]
  },
  {
   "cell_type": "code",
   "execution_count": null,
   "id": "loaded-negative",
   "metadata": {},
   "outputs": [],
   "source": [
    "# sklearn.ensemble._gb.BaseGradientBoosting.__getstate__\n",
    "try:\n",
    "    obj = class_constructor() # noqa F821\n",
    "    ret = obj.__getstate__()\n",
    "    type_sklearn_ensemble__gb_BaseGradientBoosting___getstate__ = getattr(ret, '__module__', 'none') + '.' + ret.__class__.__name__\n",
    "    print('✅ sklearn.ensemble._gb.BaseGradientBoosting.__getstate__: ', type(ret)) # noqa E501\n",
    "except Exception as e:\n",
    "    type_sklearn_ensemble__gb_BaseGradientBoosting___getstate__ = '_syft_missing'\n",
    "    print('❌ sklearn.ensemble._gb.BaseGradientBoosting.__getstate__: Return unavailable') # noqa E501\n",
    "    print(\"  Please fix this return type code until there is no exception\")\n",
    "    print('  Error:', e)\n"
   ]
  },
  {
   "cell_type": "code",
   "execution_count": null,
   "id": "conservative-compound",
   "metadata": {},
   "outputs": [],
   "source": [
    "# sklearn.ensemble._gb.BaseGradientBoosting.__iter__\n",
    "try:\n",
    "    obj = class_constructor() # noqa F821\n",
    "    ret = obj.__iter__()\n",
    "    type_sklearn_ensemble__gb_BaseGradientBoosting___iter__ = getattr(ret, '__module__', 'none') + '.' + ret.__class__.__name__\n",
    "    print('✅ sklearn.ensemble._gb.BaseGradientBoosting.__iter__: ', type(ret)) # noqa E501\n",
    "except Exception as e:\n",
    "    type_sklearn_ensemble__gb_BaseGradientBoosting___iter__ = '_syft_missing'\n",
    "    print('❌ sklearn.ensemble._gb.BaseGradientBoosting.__iter__: Return unavailable') # noqa E501\n",
    "    print(\"  Please fix this return type code until there is no exception\")\n",
    "    print('  Error:', e)\n"
   ]
  },
  {
   "cell_type": "code",
   "execution_count": null,
   "id": "controlling-riding",
   "metadata": {},
   "outputs": [],
   "source": [
    "# sklearn.ensemble._gb.BaseGradientBoosting.__len__\n",
    "try:\n",
    "    obj = class_constructor() # noqa F821\n",
    "    ret = obj.__len__()\n",
    "    type_sklearn_ensemble__gb_BaseGradientBoosting___len__ = getattr(ret, '__module__', 'none') + '.' + ret.__class__.__name__\n",
    "    print('✅ sklearn.ensemble._gb.BaseGradientBoosting.__len__: ', type(ret)) # noqa E501\n",
    "except Exception as e:\n",
    "    type_sklearn_ensemble__gb_BaseGradientBoosting___len__ = '_syft_missing'\n",
    "    print('❌ sklearn.ensemble._gb.BaseGradientBoosting.__len__: Return unavailable') # noqa E501\n",
    "    print(\"  Please fix this return type code until there is no exception\")\n",
    "    print('  Error:', e)\n"
   ]
  },
  {
   "cell_type": "code",
   "execution_count": null,
   "id": "professional-rochester",
   "metadata": {},
   "outputs": [],
   "source": [
    "# sklearn.ensemble._gb.BaseGradientBoosting.__repr__\n",
    "try:\n",
    "    obj = class_constructor() # noqa F821\n",
    "    ret = obj.__repr__()\n",
    "    type_sklearn_ensemble__gb_BaseGradientBoosting___repr__ = getattr(ret, '__module__', 'none') + '.' + ret.__class__.__name__\n",
    "    print('✅ sklearn.ensemble._gb.BaseGradientBoosting.__repr__: ', type(ret)) # noqa E501\n",
    "except Exception as e:\n",
    "    type_sklearn_ensemble__gb_BaseGradientBoosting___repr__ = '_syft_missing'\n",
    "    print('❌ sklearn.ensemble._gb.BaseGradientBoosting.__repr__: Return unavailable') # noqa E501\n",
    "    print(\"  Please fix this return type code until there is no exception\")\n",
    "    print('  Error:', e)\n"
   ]
  },
  {
   "cell_type": "code",
   "execution_count": null,
   "id": "magnetic-board",
   "metadata": {},
   "outputs": [],
   "source": [
    "# sklearn.ensemble._gb.BaseGradientBoosting.__setstate__\n",
    "try:\n",
    "    obj = class_constructor() # noqa F821\n",
    "    ret = obj.__setstate__()\n",
    "    type_sklearn_ensemble__gb_BaseGradientBoosting___setstate__ = getattr(ret, '__module__', 'none') + '.' + ret.__class__.__name__\n",
    "    print('✅ sklearn.ensemble._gb.BaseGradientBoosting.__setstate__: ', type(ret)) # noqa E501\n",
    "except Exception as e:\n",
    "    type_sklearn_ensemble__gb_BaseGradientBoosting___setstate__ = '_syft_missing'\n",
    "    print('❌ sklearn.ensemble._gb.BaseGradientBoosting.__setstate__: Return unavailable') # noqa E501\n",
    "    print(\"  Please fix this return type code until there is no exception\")\n",
    "    print('  Error:', e)\n"
   ]
  },
  {
   "cell_type": "code",
   "execution_count": null,
   "id": "affected-keeping",
   "metadata": {},
   "outputs": [],
   "source": [
    "# sklearn.ensemble._gb.BaseGradientBoosting._check_initialized\n",
    "try:\n",
    "    obj = class_constructor() # noqa F821\n",
    "    ret = obj._check_initialized()\n",
    "    type_sklearn_ensemble__gb_BaseGradientBoosting__check_initialized = getattr(ret, '__module__', 'none') + '.' + ret.__class__.__name__\n",
    "    print('✅ sklearn.ensemble._gb.BaseGradientBoosting._check_initialized: ', type(ret)) # noqa E501\n",
    "except Exception as e:\n",
    "    type_sklearn_ensemble__gb_BaseGradientBoosting__check_initialized = '_syft_missing'\n",
    "    print('❌ sklearn.ensemble._gb.BaseGradientBoosting._check_initialized: Return unavailable') # noqa E501\n",
    "    print(\"  Please fix this return type code until there is no exception\")\n",
    "    print('  Error:', e)\n"
   ]
  },
  {
   "cell_type": "code",
   "execution_count": null,
   "id": "attached-violation",
   "metadata": {},
   "outputs": [],
   "source": [
    "# sklearn.ensemble._gb.BaseGradientBoosting._check_n_features\n",
    "try:\n",
    "    obj = class_constructor() # noqa F821\n",
    "    ret = obj._check_n_features()\n",
    "    type_sklearn_ensemble__gb_BaseGradientBoosting__check_n_features = getattr(ret, '__module__', 'none') + '.' + ret.__class__.__name__\n",
    "    print('✅ sklearn.ensemble._gb.BaseGradientBoosting._check_n_features: ', type(ret)) # noqa E501\n",
    "except Exception as e:\n",
    "    type_sklearn_ensemble__gb_BaseGradientBoosting__check_n_features = '_syft_missing'\n",
    "    print('❌ sklearn.ensemble._gb.BaseGradientBoosting._check_n_features: Return unavailable') # noqa E501\n",
    "    print(\"  Please fix this return type code until there is no exception\")\n",
    "    print('  Error:', e)\n"
   ]
  },
  {
   "cell_type": "code",
   "execution_count": null,
   "id": "posted-virginia",
   "metadata": {},
   "outputs": [],
   "source": [
    "# sklearn.ensemble._gb.BaseGradientBoosting._check_params\n",
    "try:\n",
    "    obj = class_constructor() # noqa F821\n",
    "    ret = obj._check_params()\n",
    "    type_sklearn_ensemble__gb_BaseGradientBoosting__check_params = getattr(ret, '__module__', 'none') + '.' + ret.__class__.__name__\n",
    "    print('✅ sklearn.ensemble._gb.BaseGradientBoosting._check_params: ', type(ret)) # noqa E501\n",
    "except Exception as e:\n",
    "    type_sklearn_ensemble__gb_BaseGradientBoosting__check_params = '_syft_missing'\n",
    "    print('❌ sklearn.ensemble._gb.BaseGradientBoosting._check_params: Return unavailable') # noqa E501\n",
    "    print(\"  Please fix this return type code until there is no exception\")\n",
    "    print('  Error:', e)\n"
   ]
  },
  {
   "cell_type": "code",
   "execution_count": null,
   "id": "advised-rotation",
   "metadata": {},
   "outputs": [],
   "source": [
    "# sklearn.ensemble._gb.BaseGradientBoosting._clear_state\n",
    "try:\n",
    "    obj = class_constructor() # noqa F821\n",
    "    ret = obj._clear_state()\n",
    "    type_sklearn_ensemble__gb_BaseGradientBoosting__clear_state = getattr(ret, '__module__', 'none') + '.' + ret.__class__.__name__\n",
    "    print('✅ sklearn.ensemble._gb.BaseGradientBoosting._clear_state: ', type(ret)) # noqa E501\n",
    "except Exception as e:\n",
    "    type_sklearn_ensemble__gb_BaseGradientBoosting__clear_state = '_syft_missing'\n",
    "    print('❌ sklearn.ensemble._gb.BaseGradientBoosting._clear_state: Return unavailable') # noqa E501\n",
    "    print(\"  Please fix this return type code until there is no exception\")\n",
    "    print('  Error:', e)\n"
   ]
  },
  {
   "cell_type": "code",
   "execution_count": null,
   "id": "unlimited-composite",
   "metadata": {},
   "outputs": [],
   "source": [
    "# sklearn.ensemble._gb.BaseGradientBoosting._compute_partial_dependence_recursion\n",
    "try:\n",
    "    obj = class_constructor() # noqa F821\n",
    "    ret = obj._compute_partial_dependence_recursion()\n",
    "    type_sklearn_ensemble__gb_BaseGradientBoosting__compute_partial_dependence_recursion = getattr(ret, '__module__', 'none') + '.' + ret.__class__.__name__\n",
    "    print('✅ sklearn.ensemble._gb.BaseGradientBoosting._compute_partial_dependence_recursion: ', type(ret)) # noqa E501\n",
    "except Exception as e:\n",
    "    type_sklearn_ensemble__gb_BaseGradientBoosting__compute_partial_dependence_recursion = '_syft_missing'\n",
    "    print('❌ sklearn.ensemble._gb.BaseGradientBoosting._compute_partial_dependence_recursion: Return unavailable') # noqa E501\n",
    "    print(\"  Please fix this return type code until there is no exception\")\n",
    "    print('  Error:', e)\n"
   ]
  },
  {
   "cell_type": "code",
   "execution_count": null,
   "id": "signal-consultation",
   "metadata": {},
   "outputs": [],
   "source": [
    "# sklearn.ensemble._gb.BaseGradientBoosting._fit_stage\n",
    "try:\n",
    "    obj = class_constructor() # noqa F821\n",
    "    ret = obj._fit_stage()\n",
    "    type_sklearn_ensemble__gb_BaseGradientBoosting__fit_stage = getattr(ret, '__module__', 'none') + '.' + ret.__class__.__name__\n",
    "    print('✅ sklearn.ensemble._gb.BaseGradientBoosting._fit_stage: ', type(ret)) # noqa E501\n",
    "except Exception as e:\n",
    "    type_sklearn_ensemble__gb_BaseGradientBoosting__fit_stage = '_syft_missing'\n",
    "    print('❌ sklearn.ensemble._gb.BaseGradientBoosting._fit_stage: Return unavailable') # noqa E501\n",
    "    print(\"  Please fix this return type code until there is no exception\")\n",
    "    print('  Error:', e)\n"
   ]
  },
  {
   "cell_type": "code",
   "execution_count": null,
   "id": "generic-morris",
   "metadata": {},
   "outputs": [],
   "source": [
    "# sklearn.ensemble._gb.BaseGradientBoosting._fit_stages\n",
    "try:\n",
    "    obj = class_constructor() # noqa F821\n",
    "    ret = obj._fit_stages()\n",
    "    type_sklearn_ensemble__gb_BaseGradientBoosting__fit_stages = getattr(ret, '__module__', 'none') + '.' + ret.__class__.__name__\n",
    "    print('✅ sklearn.ensemble._gb.BaseGradientBoosting._fit_stages: ', type(ret)) # noqa E501\n",
    "except Exception as e:\n",
    "    type_sklearn_ensemble__gb_BaseGradientBoosting__fit_stages = '_syft_missing'\n",
    "    print('❌ sklearn.ensemble._gb.BaseGradientBoosting._fit_stages: Return unavailable') # noqa E501\n",
    "    print(\"  Please fix this return type code until there is no exception\")\n",
    "    print('  Error:', e)\n"
   ]
  },
  {
   "cell_type": "code",
   "execution_count": null,
   "id": "premier-angel",
   "metadata": {},
   "outputs": [],
   "source": [
    "# sklearn.ensemble._gb.BaseGradientBoosting._get_param_names\n",
    "try:\n",
    "    obj = class_constructor() # noqa F821\n",
    "    ret = obj._get_param_names()\n",
    "    type_sklearn_ensemble__gb_BaseGradientBoosting__get_param_names = getattr(ret, '__module__', 'none') + '.' + ret.__class__.__name__\n",
    "    print('✅ sklearn.ensemble._gb.BaseGradientBoosting._get_param_names: ', type(ret)) # noqa E501\n",
    "except Exception as e:\n",
    "    type_sklearn_ensemble__gb_BaseGradientBoosting__get_param_names = '_syft_missing'\n",
    "    print('❌ sklearn.ensemble._gb.BaseGradientBoosting._get_param_names: Return unavailable') # noqa E501\n",
    "    print(\"  Please fix this return type code until there is no exception\")\n",
    "    print('  Error:', e)\n"
   ]
  },
  {
   "cell_type": "code",
   "execution_count": null,
   "id": "foster-progress",
   "metadata": {},
   "outputs": [],
   "source": [
    "# sklearn.ensemble._gb.BaseGradientBoosting._get_tags\n",
    "try:\n",
    "    obj = class_constructor() # noqa F821\n",
    "    ret = obj._get_tags()\n",
    "    type_sklearn_ensemble__gb_BaseGradientBoosting__get_tags = getattr(ret, '__module__', 'none') + '.' + ret.__class__.__name__\n",
    "    print('✅ sklearn.ensemble._gb.BaseGradientBoosting._get_tags: ', type(ret)) # noqa E501\n",
    "except Exception as e:\n",
    "    type_sklearn_ensemble__gb_BaseGradientBoosting__get_tags = '_syft_missing'\n",
    "    print('❌ sklearn.ensemble._gb.BaseGradientBoosting._get_tags: Return unavailable') # noqa E501\n",
    "    print(\"  Please fix this return type code until there is no exception\")\n",
    "    print('  Error:', e)\n"
   ]
  },
  {
   "cell_type": "code",
   "execution_count": null,
   "id": "visible-mainland",
   "metadata": {},
   "outputs": [],
   "source": [
    "# sklearn.ensemble._gb.BaseGradientBoosting._init_state\n",
    "try:\n",
    "    obj = class_constructor() # noqa F821\n",
    "    ret = obj._init_state()\n",
    "    type_sklearn_ensemble__gb_BaseGradientBoosting__init_state = getattr(ret, '__module__', 'none') + '.' + ret.__class__.__name__\n",
    "    print('✅ sklearn.ensemble._gb.BaseGradientBoosting._init_state: ', type(ret)) # noqa E501\n",
    "except Exception as e:\n",
    "    type_sklearn_ensemble__gb_BaseGradientBoosting__init_state = '_syft_missing'\n",
    "    print('❌ sklearn.ensemble._gb.BaseGradientBoosting._init_state: Return unavailable') # noqa E501\n",
    "    print(\"  Please fix this return type code until there is no exception\")\n",
    "    print('  Error:', e)\n"
   ]
  },
  {
   "cell_type": "code",
   "execution_count": null,
   "id": "governmental-grounds",
   "metadata": {},
   "outputs": [],
   "source": [
    "# sklearn.ensemble._gb.BaseGradientBoosting._is_initialized\n",
    "try:\n",
    "    obj = class_constructor() # noqa F821\n",
    "    ret = obj._is_initialized()\n",
    "    type_sklearn_ensemble__gb_BaseGradientBoosting__is_initialized = getattr(ret, '__module__', 'none') + '.' + ret.__class__.__name__\n",
    "    print('✅ sklearn.ensemble._gb.BaseGradientBoosting._is_initialized: ', type(ret)) # noqa E501\n",
    "except Exception as e:\n",
    "    type_sklearn_ensemble__gb_BaseGradientBoosting__is_initialized = '_syft_missing'\n",
    "    print('❌ sklearn.ensemble._gb.BaseGradientBoosting._is_initialized: Return unavailable') # noqa E501\n",
    "    print(\"  Please fix this return type code until there is no exception\")\n",
    "    print('  Error:', e)\n"
   ]
  },
  {
   "cell_type": "code",
   "execution_count": null,
   "id": "exposed-transaction",
   "metadata": {},
   "outputs": [],
   "source": [
    "# sklearn.ensemble._gb.BaseGradientBoosting._make_estimator\n",
    "try:\n",
    "    obj = class_constructor() # noqa F821\n",
    "    ret = obj._make_estimator()\n",
    "    type_sklearn_ensemble__gb_BaseGradientBoosting__make_estimator = getattr(ret, '__module__', 'none') + '.' + ret.__class__.__name__\n",
    "    print('✅ sklearn.ensemble._gb.BaseGradientBoosting._make_estimator: ', type(ret)) # noqa E501\n",
    "except Exception as e:\n",
    "    type_sklearn_ensemble__gb_BaseGradientBoosting__make_estimator = '_syft_missing'\n",
    "    print('❌ sklearn.ensemble._gb.BaseGradientBoosting._make_estimator: Return unavailable') # noqa E501\n",
    "    print(\"  Please fix this return type code until there is no exception\")\n",
    "    print('  Error:', e)\n"
   ]
  },
  {
   "cell_type": "code",
   "execution_count": null,
   "id": "alpine-velvet",
   "metadata": {},
   "outputs": [],
   "source": [
    "# sklearn.ensemble._gb.BaseGradientBoosting._more_tags\n",
    "try:\n",
    "    obj = class_constructor() # noqa F821\n",
    "    ret = obj._more_tags()\n",
    "    type_sklearn_ensemble__gb_BaseGradientBoosting__more_tags = getattr(ret, '__module__', 'none') + '.' + ret.__class__.__name__\n",
    "    print('✅ sklearn.ensemble._gb.BaseGradientBoosting._more_tags: ', type(ret)) # noqa E501\n",
    "except Exception as e:\n",
    "    type_sklearn_ensemble__gb_BaseGradientBoosting__more_tags = '_syft_missing'\n",
    "    print('❌ sklearn.ensemble._gb.BaseGradientBoosting._more_tags: Return unavailable') # noqa E501\n",
    "    print(\"  Please fix this return type code until there is no exception\")\n",
    "    print('  Error:', e)\n"
   ]
  },
  {
   "cell_type": "code",
   "execution_count": null,
   "id": "biological-detection",
   "metadata": {},
   "outputs": [],
   "source": [
    "# sklearn.ensemble._gb.BaseGradientBoosting._raw_predict\n",
    "try:\n",
    "    obj = class_constructor() # noqa F821\n",
    "    ret = obj._raw_predict()\n",
    "    type_sklearn_ensemble__gb_BaseGradientBoosting__raw_predict = getattr(ret, '__module__', 'none') + '.' + ret.__class__.__name__\n",
    "    print('✅ sklearn.ensemble._gb.BaseGradientBoosting._raw_predict: ', type(ret)) # noqa E501\n",
    "except Exception as e:\n",
    "    type_sklearn_ensemble__gb_BaseGradientBoosting__raw_predict = '_syft_missing'\n",
    "    print('❌ sklearn.ensemble._gb.BaseGradientBoosting._raw_predict: Return unavailable') # noqa E501\n",
    "    print(\"  Please fix this return type code until there is no exception\")\n",
    "    print('  Error:', e)\n"
   ]
  },
  {
   "cell_type": "code",
   "execution_count": null,
   "id": "first-quantum",
   "metadata": {},
   "outputs": [],
   "source": [
    "# sklearn.ensemble._gb.BaseGradientBoosting._raw_predict_init\n",
    "try:\n",
    "    obj = class_constructor() # noqa F821\n",
    "    ret = obj._raw_predict_init()\n",
    "    type_sklearn_ensemble__gb_BaseGradientBoosting__raw_predict_init = getattr(ret, '__module__', 'none') + '.' + ret.__class__.__name__\n",
    "    print('✅ sklearn.ensemble._gb.BaseGradientBoosting._raw_predict_init: ', type(ret)) # noqa E501\n",
    "except Exception as e:\n",
    "    type_sklearn_ensemble__gb_BaseGradientBoosting__raw_predict_init = '_syft_missing'\n",
    "    print('❌ sklearn.ensemble._gb.BaseGradientBoosting._raw_predict_init: Return unavailable') # noqa E501\n",
    "    print(\"  Please fix this return type code until there is no exception\")\n",
    "    print('  Error:', e)\n"
   ]
  },
  {
   "cell_type": "code",
   "execution_count": null,
   "id": "durable-tunisia",
   "metadata": {},
   "outputs": [],
   "source": [
    "# sklearn.ensemble._gb.BaseGradientBoosting._repr_html_\n",
    "try:\n",
    "    obj = class_constructor()\n",
    "    ret = obj._repr_html_\n",
    "    type_sklearn_ensemble__gb_BaseGradientBoosting__repr_html_ = getattr(ret, '__module__', 'none') + '.' + ret.__class__.__name__\n",
    "    print('✅ sklearn.ensemble._gb.BaseGradientBoosting._repr_html_:', type(ret)) # noqa E501\n",
    "except Exception as e:\n",
    "    type_sklearn_ensemble__gb_BaseGradientBoosting__repr_html_ = '_syft_missing'\n",
    "    print('❌ sklearn.ensemble._gb.BaseGradientBoosting._repr_html_: Return unavailable') # noqa E501\n",
    "    print(\"  Please fix this return type code until there is no exception\")\n",
    "    print('  Error:', e)\n"
   ]
  },
  {
   "cell_type": "code",
   "execution_count": null,
   "id": "southwest-hungary",
   "metadata": {},
   "outputs": [],
   "source": [
    "# sklearn.ensemble._gb.BaseGradientBoosting._repr_html_inner\n",
    "try:\n",
    "    obj = class_constructor() # noqa F821\n",
    "    ret = obj._repr_html_inner()\n",
    "    type_sklearn_ensemble__gb_BaseGradientBoosting__repr_html_inner = getattr(ret, '__module__', 'none') + '.' + ret.__class__.__name__\n",
    "    print('✅ sklearn.ensemble._gb.BaseGradientBoosting._repr_html_inner: ', type(ret)) # noqa E501\n",
    "except Exception as e:\n",
    "    type_sklearn_ensemble__gb_BaseGradientBoosting__repr_html_inner = '_syft_missing'\n",
    "    print('❌ sklearn.ensemble._gb.BaseGradientBoosting._repr_html_inner: Return unavailable') # noqa E501\n",
    "    print(\"  Please fix this return type code until there is no exception\")\n",
    "    print('  Error:', e)\n"
   ]
  },
  {
   "cell_type": "code",
   "execution_count": null,
   "id": "addressed-governor",
   "metadata": {},
   "outputs": [],
   "source": [
    "# sklearn.ensemble._gb.BaseGradientBoosting._repr_mimebundle_\n",
    "try:\n",
    "    obj = class_constructor() # noqa F821\n",
    "    ret = obj._repr_mimebundle_()\n",
    "    type_sklearn_ensemble__gb_BaseGradientBoosting__repr_mimebundle_ = getattr(ret, '__module__', 'none') + '.' + ret.__class__.__name__\n",
    "    print('✅ sklearn.ensemble._gb.BaseGradientBoosting._repr_mimebundle_: ', type(ret)) # noqa E501\n",
    "except Exception as e:\n",
    "    type_sklearn_ensemble__gb_BaseGradientBoosting__repr_mimebundle_ = '_syft_missing'\n",
    "    print('❌ sklearn.ensemble._gb.BaseGradientBoosting._repr_mimebundle_: Return unavailable') # noqa E501\n",
    "    print(\"  Please fix this return type code until there is no exception\")\n",
    "    print('  Error:', e)\n"
   ]
  },
  {
   "cell_type": "code",
   "execution_count": null,
   "id": "increasing-variable",
   "metadata": {},
   "outputs": [],
   "source": [
    "# sklearn.ensemble._gb.BaseGradientBoosting._resize_state\n",
    "try:\n",
    "    obj = class_constructor() # noqa F821\n",
    "    ret = obj._resize_state()\n",
    "    type_sklearn_ensemble__gb_BaseGradientBoosting__resize_state = getattr(ret, '__module__', 'none') + '.' + ret.__class__.__name__\n",
    "    print('✅ sklearn.ensemble._gb.BaseGradientBoosting._resize_state: ', type(ret)) # noqa E501\n",
    "except Exception as e:\n",
    "    type_sklearn_ensemble__gb_BaseGradientBoosting__resize_state = '_syft_missing'\n",
    "    print('❌ sklearn.ensemble._gb.BaseGradientBoosting._resize_state: Return unavailable') # noqa E501\n",
    "    print(\"  Please fix this return type code until there is no exception\")\n",
    "    print('  Error:', e)\n"
   ]
  },
  {
   "cell_type": "code",
   "execution_count": null,
   "id": "moderate-allen",
   "metadata": {},
   "outputs": [],
   "source": [
    "# sklearn.ensemble._gb.BaseGradientBoosting._staged_raw_predict\n",
    "try:\n",
    "    obj = class_constructor() # noqa F821\n",
    "    ret = obj._staged_raw_predict()\n",
    "    type_sklearn_ensemble__gb_BaseGradientBoosting__staged_raw_predict = getattr(ret, '__module__', 'none') + '.' + ret.__class__.__name__\n",
    "    print('✅ sklearn.ensemble._gb.BaseGradientBoosting._staged_raw_predict: ', type(ret)) # noqa E501\n",
    "except Exception as e:\n",
    "    type_sklearn_ensemble__gb_BaseGradientBoosting__staged_raw_predict = '_syft_missing'\n",
    "    print('❌ sklearn.ensemble._gb.BaseGradientBoosting._staged_raw_predict: Return unavailable') # noqa E501\n",
    "    print(\"  Please fix this return type code until there is no exception\")\n",
    "    print('  Error:', e)\n"
   ]
  },
  {
   "cell_type": "code",
   "execution_count": null,
   "id": "manufactured-improvement",
   "metadata": {},
   "outputs": [],
   "source": [
    "# sklearn.ensemble._gb.BaseGradientBoosting._validate_data\n",
    "try:\n",
    "    obj = class_constructor() # noqa F821\n",
    "    ret = obj._validate_data()\n",
    "    type_sklearn_ensemble__gb_BaseGradientBoosting__validate_data = getattr(ret, '__module__', 'none') + '.' + ret.__class__.__name__\n",
    "    print('✅ sklearn.ensemble._gb.BaseGradientBoosting._validate_data: ', type(ret)) # noqa E501\n",
    "except Exception as e:\n",
    "    type_sklearn_ensemble__gb_BaseGradientBoosting__validate_data = '_syft_missing'\n",
    "    print('❌ sklearn.ensemble._gb.BaseGradientBoosting._validate_data: Return unavailable') # noqa E501\n",
    "    print(\"  Please fix this return type code until there is no exception\")\n",
    "    print('  Error:', e)\n"
   ]
  },
  {
   "cell_type": "code",
   "execution_count": null,
   "id": "sublime-background",
   "metadata": {},
   "outputs": [],
   "source": [
    "# sklearn.ensemble._gb.BaseGradientBoosting._validate_estimator\n",
    "try:\n",
    "    obj = class_constructor() # noqa F821\n",
    "    ret = obj._validate_estimator()\n",
    "    type_sklearn_ensemble__gb_BaseGradientBoosting__validate_estimator = getattr(ret, '__module__', 'none') + '.' + ret.__class__.__name__\n",
    "    print('✅ sklearn.ensemble._gb.BaseGradientBoosting._validate_estimator: ', type(ret)) # noqa E501\n",
    "except Exception as e:\n",
    "    type_sklearn_ensemble__gb_BaseGradientBoosting__validate_estimator = '_syft_missing'\n",
    "    print('❌ sklearn.ensemble._gb.BaseGradientBoosting._validate_estimator: Return unavailable') # noqa E501\n",
    "    print(\"  Please fix this return type code until there is no exception\")\n",
    "    print('  Error:', e)\n"
   ]
  },
  {
   "cell_type": "code",
   "execution_count": null,
   "id": "billion-whole",
   "metadata": {},
   "outputs": [],
   "source": [
    "# sklearn.ensemble._gb.BaseGradientBoosting._validate_y\n",
    "try:\n",
    "    obj = class_constructor() # noqa F821\n",
    "    ret = obj._validate_y()\n",
    "    type_sklearn_ensemble__gb_BaseGradientBoosting__validate_y = getattr(ret, '__module__', 'none') + '.' + ret.__class__.__name__\n",
    "    print('✅ sklearn.ensemble._gb.BaseGradientBoosting._validate_y: ', type(ret)) # noqa E501\n",
    "except Exception as e:\n",
    "    type_sklearn_ensemble__gb_BaseGradientBoosting__validate_y = '_syft_missing'\n",
    "    print('❌ sklearn.ensemble._gb.BaseGradientBoosting._validate_y: Return unavailable') # noqa E501\n",
    "    print(\"  Please fix this return type code until there is no exception\")\n",
    "    print('  Error:', e)\n"
   ]
  },
  {
   "cell_type": "code",
   "execution_count": null,
   "id": "material-submission",
   "metadata": {},
   "outputs": [],
   "source": [
    "# sklearn.ensemble._gb.BaseGradientBoosting._warn_mae_for_criterion\n",
    "try:\n",
    "    obj = class_constructor() # noqa F821\n",
    "    ret = obj._warn_mae_for_criterion()\n",
    "    type_sklearn_ensemble__gb_BaseGradientBoosting__warn_mae_for_criterion = getattr(ret, '__module__', 'none') + '.' + ret.__class__.__name__\n",
    "    print('✅ sklearn.ensemble._gb.BaseGradientBoosting._warn_mae_for_criterion: ', type(ret)) # noqa E501\n",
    "except Exception as e:\n",
    "    type_sklearn_ensemble__gb_BaseGradientBoosting__warn_mae_for_criterion = '_syft_missing'\n",
    "    print('❌ sklearn.ensemble._gb.BaseGradientBoosting._warn_mae_for_criterion: Return unavailable') # noqa E501\n",
    "    print(\"  Please fix this return type code until there is no exception\")\n",
    "    print('  Error:', e)\n"
   ]
  },
  {
   "cell_type": "code",
   "execution_count": null,
   "id": "unavailable-concentrate",
   "metadata": {},
   "outputs": [],
   "source": [
    "# sklearn.ensemble._gb.BaseGradientBoosting.apply\n",
    "try:\n",
    "    obj = class_constructor() # noqa F821\n",
    "    ret = obj.apply()\n",
    "    type_sklearn_ensemble__gb_BaseGradientBoosting_apply = getattr(ret, '__module__', 'none') + '.' + ret.__class__.__name__\n",
    "    print('✅ sklearn.ensemble._gb.BaseGradientBoosting.apply: ', type(ret)) # noqa E501\n",
    "except Exception as e:\n",
    "    type_sklearn_ensemble__gb_BaseGradientBoosting_apply = '_syft_missing'\n",
    "    print('❌ sklearn.ensemble._gb.BaseGradientBoosting.apply: Return unavailable') # noqa E501\n",
    "    print(\"  Please fix this return type code until there is no exception\")\n",
    "    print('  Error:', e)\n"
   ]
  },
  {
   "cell_type": "code",
   "execution_count": null,
   "id": "descending-humanitarian",
   "metadata": {},
   "outputs": [],
   "source": [
    "# sklearn.ensemble._gb.BaseGradientBoosting.feature_importances_\n",
    "try:\n",
    "    obj = class_constructor()\n",
    "    ret = obj.feature_importances_\n",
    "    type_sklearn_ensemble__gb_BaseGradientBoosting_feature_importances_ = getattr(ret, '__module__', 'none') + '.' + ret.__class__.__name__\n",
    "    print('✅ sklearn.ensemble._gb.BaseGradientBoosting.feature_importances_:', type(ret)) # noqa E501\n",
    "except Exception as e:\n",
    "    type_sklearn_ensemble__gb_BaseGradientBoosting_feature_importances_ = '_syft_missing'\n",
    "    print('❌ sklearn.ensemble._gb.BaseGradientBoosting.feature_importances_: Return unavailable') # noqa E501\n",
    "    print(\"  Please fix this return type code until there is no exception\")\n",
    "    print('  Error:', e)\n"
   ]
  },
  {
   "cell_type": "code",
   "execution_count": null,
   "id": "informed-wright",
   "metadata": {},
   "outputs": [],
   "source": [
    "# sklearn.ensemble._gb.BaseGradientBoosting.fit\n",
    "try:\n",
    "    obj = class_constructor() # noqa F821\n",
    "    ret = obj.fit()\n",
    "    type_sklearn_ensemble__gb_BaseGradientBoosting_fit = getattr(ret, '__module__', 'none') + '.' + ret.__class__.__name__\n",
    "    print('✅ sklearn.ensemble._gb.BaseGradientBoosting.fit: ', type(ret)) # noqa E501\n",
    "except Exception as e:\n",
    "    type_sklearn_ensemble__gb_BaseGradientBoosting_fit = '_syft_missing'\n",
    "    print('❌ sklearn.ensemble._gb.BaseGradientBoosting.fit: Return unavailable') # noqa E501\n",
    "    print(\"  Please fix this return type code until there is no exception\")\n",
    "    print('  Error:', e)\n"
   ]
  },
  {
   "cell_type": "code",
   "execution_count": null,
   "id": "difficult-basic",
   "metadata": {},
   "outputs": [],
   "source": [
    "# sklearn.ensemble._gb.BaseGradientBoosting.get_params\n",
    "try:\n",
    "    obj = class_constructor() # noqa F821\n",
    "    ret = obj.get_params()\n",
    "    type_sklearn_ensemble__gb_BaseGradientBoosting_get_params = getattr(ret, '__module__', 'none') + '.' + ret.__class__.__name__\n",
    "    print('✅ sklearn.ensemble._gb.BaseGradientBoosting.get_params: ', type(ret)) # noqa E501\n",
    "except Exception as e:\n",
    "    type_sklearn_ensemble__gb_BaseGradientBoosting_get_params = '_syft_missing'\n",
    "    print('❌ sklearn.ensemble._gb.BaseGradientBoosting.get_params: Return unavailable') # noqa E501\n",
    "    print(\"  Please fix this return type code until there is no exception\")\n",
    "    print('  Error:', e)\n"
   ]
  },
  {
   "cell_type": "code",
   "execution_count": null,
   "id": "amazing-boxing",
   "metadata": {},
   "outputs": [],
   "source": [
    "# sklearn.ensemble._gb.BaseGradientBoosting.set_params\n",
    "try:\n",
    "    obj = class_constructor() # noqa F821\n",
    "    ret = obj.set_params()\n",
    "    type_sklearn_ensemble__gb_BaseGradientBoosting_set_params = getattr(ret, '__module__', 'none') + '.' + ret.__class__.__name__\n",
    "    print('✅ sklearn.ensemble._gb.BaseGradientBoosting.set_params: ', type(ret)) # noqa E501\n",
    "except Exception as e:\n",
    "    type_sklearn_ensemble__gb_BaseGradientBoosting_set_params = '_syft_missing'\n",
    "    print('❌ sklearn.ensemble._gb.BaseGradientBoosting.set_params: Return unavailable') # noqa E501\n",
    "    print(\"  Please fix this return type code until there is no exception\")\n",
    "    print('  Error:', e)\n"
   ]
  }
 ],
 "metadata": {},
 "nbformat": 4,
 "nbformat_minor": 5
}
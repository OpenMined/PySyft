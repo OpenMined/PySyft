{
 "cells": [
  {
   "cell_type": "markdown",
   "id": "polyphonic-london",
   "metadata": {},
   "source": [
    "## sklearn.linear_model._bayes.BayesianRidge"
   ]
  },
  {
   "cell_type": "code",
   "execution_count": null,
   "id": "engaged-foundation",
   "metadata": {},
   "outputs": [],
   "source": [
    "import sklearn\n",
    "def class_constructor(*args, **kwargs):\n",
    "    obj = sklearn.linear_model._bayes.BayesianRidge()\n",
    "    return obj\n"
   ]
  },
  {
   "cell_type": "code",
   "execution_count": null,
   "id": "consecutive-builder",
   "metadata": {},
   "outputs": [],
   "source": [
    "# sklearn.linear_model._bayes.BayesianRidge.__getstate__\n",
    "try:\n",
    "    obj = class_constructor() # noqa F821\n",
    "    ret = obj.__getstate__()\n",
    "    type_sklearn_linear_model__bayes_BayesianRidge___getstate__ = getattr(ret, '__module__', 'none') + '.' + ret.__class__.__name__\n",
    "    print('✅ sklearn.linear_model._bayes.BayesianRidge.__getstate__: ', type(ret)) # noqa E501\n",
    "except Exception as e:\n",
    "    type_sklearn_linear_model__bayes_BayesianRidge___getstate__ = '_syft_missing'\n",
    "    print('❌ sklearn.linear_model._bayes.BayesianRidge.__getstate__: Return unavailable') # noqa E501\n",
    "    print(\"  Please fix this return type code until there is no exception\")\n",
    "    print('  Error:', e)\n"
   ]
  },
  {
   "cell_type": "code",
   "execution_count": null,
   "id": "wrapped-civilization",
   "metadata": {},
   "outputs": [],
   "source": [
    "# sklearn.linear_model._bayes.BayesianRidge.__repr__\n",
    "try:\n",
    "    obj = class_constructor() # noqa F821\n",
    "    ret = obj.__repr__()\n",
    "    type_sklearn_linear_model__bayes_BayesianRidge___repr__ = getattr(ret, '__module__', 'none') + '.' + ret.__class__.__name__\n",
    "    print('✅ sklearn.linear_model._bayes.BayesianRidge.__repr__: ', type(ret)) # noqa E501\n",
    "except Exception as e:\n",
    "    type_sklearn_linear_model__bayes_BayesianRidge___repr__ = '_syft_missing'\n",
    "    print('❌ sklearn.linear_model._bayes.BayesianRidge.__repr__: Return unavailable') # noqa E501\n",
    "    print(\"  Please fix this return type code until there is no exception\")\n",
    "    print('  Error:', e)\n"
   ]
  },
  {
   "cell_type": "code",
   "execution_count": null,
   "id": "senior-plain",
   "metadata": {},
   "outputs": [],
   "source": [
    "# sklearn.linear_model._bayes.BayesianRidge.__setstate__\n",
    "try:\n",
    "    obj = class_constructor() # noqa F821\n",
    "    ret = obj.__setstate__()\n",
    "    type_sklearn_linear_model__bayes_BayesianRidge___setstate__ = getattr(ret, '__module__', 'none') + '.' + ret.__class__.__name__\n",
    "    print('✅ sklearn.linear_model._bayes.BayesianRidge.__setstate__: ', type(ret)) # noqa E501\n",
    "except Exception as e:\n",
    "    type_sklearn_linear_model__bayes_BayesianRidge___setstate__ = '_syft_missing'\n",
    "    print('❌ sklearn.linear_model._bayes.BayesianRidge.__setstate__: Return unavailable') # noqa E501\n",
    "    print(\"  Please fix this return type code until there is no exception\")\n",
    "    print('  Error:', e)\n"
   ]
  },
  {
   "cell_type": "code",
   "execution_count": null,
   "id": "spanish-cookie",
   "metadata": {},
   "outputs": [],
   "source": [
    "# sklearn.linear_model._bayes.BayesianRidge._check_n_features\n",
    "try:\n",
    "    obj = class_constructor() # noqa F821\n",
    "    ret = obj._check_n_features()\n",
    "    type_sklearn_linear_model__bayes_BayesianRidge__check_n_features = getattr(ret, '__module__', 'none') + '.' + ret.__class__.__name__\n",
    "    print('✅ sklearn.linear_model._bayes.BayesianRidge._check_n_features: ', type(ret)) # noqa E501\n",
    "except Exception as e:\n",
    "    type_sklearn_linear_model__bayes_BayesianRidge__check_n_features = '_syft_missing'\n",
    "    print('❌ sklearn.linear_model._bayes.BayesianRidge._check_n_features: Return unavailable') # noqa E501\n",
    "    print(\"  Please fix this return type code until there is no exception\")\n",
    "    print('  Error:', e)\n"
   ]
  },
  {
   "cell_type": "code",
   "execution_count": null,
   "id": "desirable-rates",
   "metadata": {},
   "outputs": [],
   "source": [
    "# sklearn.linear_model._bayes.BayesianRidge._decision_function\n",
    "try:\n",
    "    obj = class_constructor() # noqa F821\n",
    "    ret = obj._decision_function()\n",
    "    type_sklearn_linear_model__bayes_BayesianRidge__decision_function = getattr(ret, '__module__', 'none') + '.' + ret.__class__.__name__\n",
    "    print('✅ sklearn.linear_model._bayes.BayesianRidge._decision_function: ', type(ret)) # noqa E501\n",
    "except Exception as e:\n",
    "    type_sklearn_linear_model__bayes_BayesianRidge__decision_function = '_syft_missing'\n",
    "    print('❌ sklearn.linear_model._bayes.BayesianRidge._decision_function: Return unavailable') # noqa E501\n",
    "    print(\"  Please fix this return type code until there is no exception\")\n",
    "    print('  Error:', e)\n"
   ]
  },
  {
   "cell_type": "code",
   "execution_count": null,
   "id": "manufactured-vietnam",
   "metadata": {},
   "outputs": [],
   "source": [
    "# sklearn.linear_model._bayes.BayesianRidge._get_param_names\n",
    "try:\n",
    "    obj = class_constructor() # noqa F821\n",
    "    ret = obj._get_param_names()\n",
    "    type_sklearn_linear_model__bayes_BayesianRidge__get_param_names = getattr(ret, '__module__', 'none') + '.' + ret.__class__.__name__\n",
    "    print('✅ sklearn.linear_model._bayes.BayesianRidge._get_param_names: ', type(ret)) # noqa E501\n",
    "except Exception as e:\n",
    "    type_sklearn_linear_model__bayes_BayesianRidge__get_param_names = '_syft_missing'\n",
    "    print('❌ sklearn.linear_model._bayes.BayesianRidge._get_param_names: Return unavailable') # noqa E501\n",
    "    print(\"  Please fix this return type code until there is no exception\")\n",
    "    print('  Error:', e)\n"
   ]
  },
  {
   "cell_type": "code",
   "execution_count": null,
   "id": "latin-assembly",
   "metadata": {},
   "outputs": [],
   "source": [
    "# sklearn.linear_model._bayes.BayesianRidge._get_tags\n",
    "try:\n",
    "    obj = class_constructor() # noqa F821\n",
    "    ret = obj._get_tags()\n",
    "    type_sklearn_linear_model__bayes_BayesianRidge__get_tags = getattr(ret, '__module__', 'none') + '.' + ret.__class__.__name__\n",
    "    print('✅ sklearn.linear_model._bayes.BayesianRidge._get_tags: ', type(ret)) # noqa E501\n",
    "except Exception as e:\n",
    "    type_sklearn_linear_model__bayes_BayesianRidge__get_tags = '_syft_missing'\n",
    "    print('❌ sklearn.linear_model._bayes.BayesianRidge._get_tags: Return unavailable') # noqa E501\n",
    "    print(\"  Please fix this return type code until there is no exception\")\n",
    "    print('  Error:', e)\n"
   ]
  },
  {
   "cell_type": "code",
   "execution_count": null,
   "id": "greatest-sitting",
   "metadata": {},
   "outputs": [],
   "source": [
    "# sklearn.linear_model._bayes.BayesianRidge._log_marginal_likelihood\n",
    "try:\n",
    "    obj = class_constructor() # noqa F821\n",
    "    ret = obj._log_marginal_likelihood()\n",
    "    type_sklearn_linear_model__bayes_BayesianRidge__log_marginal_likelihood = getattr(ret, '__module__', 'none') + '.' + ret.__class__.__name__\n",
    "    print('✅ sklearn.linear_model._bayes.BayesianRidge._log_marginal_likelihood: ', type(ret)) # noqa E501\n",
    "except Exception as e:\n",
    "    type_sklearn_linear_model__bayes_BayesianRidge__log_marginal_likelihood = '_syft_missing'\n",
    "    print('❌ sklearn.linear_model._bayes.BayesianRidge._log_marginal_likelihood: Return unavailable') # noqa E501\n",
    "    print(\"  Please fix this return type code until there is no exception\")\n",
    "    print('  Error:', e)\n"
   ]
  },
  {
   "cell_type": "code",
   "execution_count": null,
   "id": "baking-lloyd",
   "metadata": {},
   "outputs": [],
   "source": [
    "# sklearn.linear_model._bayes.BayesianRidge._more_tags\n",
    "try:\n",
    "    obj = class_constructor() # noqa F821\n",
    "    ret = obj._more_tags()\n",
    "    type_sklearn_linear_model__bayes_BayesianRidge__more_tags = getattr(ret, '__module__', 'none') + '.' + ret.__class__.__name__\n",
    "    print('✅ sklearn.linear_model._bayes.BayesianRidge._more_tags: ', type(ret)) # noqa E501\n",
    "except Exception as e:\n",
    "    type_sklearn_linear_model__bayes_BayesianRidge__more_tags = '_syft_missing'\n",
    "    print('❌ sklearn.linear_model._bayes.BayesianRidge._more_tags: Return unavailable') # noqa E501\n",
    "    print(\"  Please fix this return type code until there is no exception\")\n",
    "    print('  Error:', e)\n"
   ]
  },
  {
   "cell_type": "code",
   "execution_count": null,
   "id": "hydraulic-tablet",
   "metadata": {},
   "outputs": [],
   "source": [
    "# sklearn.linear_model._bayes.BayesianRidge._preprocess_data\n",
    "try:\n",
    "    obj = class_constructor() # noqa F821\n",
    "    ret = obj._preprocess_data()\n",
    "    type_sklearn_linear_model__bayes_BayesianRidge__preprocess_data = getattr(ret, '__module__', 'none') + '.' + ret.__class__.__name__\n",
    "    print('✅ sklearn.linear_model._bayes.BayesianRidge._preprocess_data: ', type(ret)) # noqa E501\n",
    "except Exception as e:\n",
    "    type_sklearn_linear_model__bayes_BayesianRidge__preprocess_data = '_syft_missing'\n",
    "    print('❌ sklearn.linear_model._bayes.BayesianRidge._preprocess_data: Return unavailable') # noqa E501\n",
    "    print(\"  Please fix this return type code until there is no exception\")\n",
    "    print('  Error:', e)\n"
   ]
  },
  {
   "cell_type": "code",
   "execution_count": null,
   "id": "german-munich",
   "metadata": {},
   "outputs": [],
   "source": [
    "# sklearn.linear_model._bayes.BayesianRidge._repr_html_\n",
    "try:\n",
    "    obj = class_constructor()\n",
    "    ret = obj._repr_html_\n",
    "    type_sklearn_linear_model__bayes_BayesianRidge__repr_html_ = getattr(ret, '__module__', 'none') + '.' + ret.__class__.__name__\n",
    "    print('✅ sklearn.linear_model._bayes.BayesianRidge._repr_html_:', type(ret)) # noqa E501\n",
    "except Exception as e:\n",
    "    type_sklearn_linear_model__bayes_BayesianRidge__repr_html_ = '_syft_missing'\n",
    "    print('❌ sklearn.linear_model._bayes.BayesianRidge._repr_html_: Return unavailable') # noqa E501\n",
    "    print(\"  Please fix this return type code until there is no exception\")\n",
    "    print('  Error:', e)\n"
   ]
  },
  {
   "cell_type": "code",
   "execution_count": null,
   "id": "sustainable-designation",
   "metadata": {},
   "outputs": [],
   "source": [
    "# sklearn.linear_model._bayes.BayesianRidge._repr_html_inner\n",
    "try:\n",
    "    obj = class_constructor() # noqa F821\n",
    "    ret = obj._repr_html_inner()\n",
    "    type_sklearn_linear_model__bayes_BayesianRidge__repr_html_inner = getattr(ret, '__module__', 'none') + '.' + ret.__class__.__name__\n",
    "    print('✅ sklearn.linear_model._bayes.BayesianRidge._repr_html_inner: ', type(ret)) # noqa E501\n",
    "except Exception as e:\n",
    "    type_sklearn_linear_model__bayes_BayesianRidge__repr_html_inner = '_syft_missing'\n",
    "    print('❌ sklearn.linear_model._bayes.BayesianRidge._repr_html_inner: Return unavailable') # noqa E501\n",
    "    print(\"  Please fix this return type code until there is no exception\")\n",
    "    print('  Error:', e)\n"
   ]
  },
  {
   "cell_type": "code",
   "execution_count": null,
   "id": "fiscal-bottle",
   "metadata": {},
   "outputs": [],
   "source": [
    "# sklearn.linear_model._bayes.BayesianRidge._repr_mimebundle_\n",
    "try:\n",
    "    obj = class_constructor() # noqa F821\n",
    "    ret = obj._repr_mimebundle_()\n",
    "    type_sklearn_linear_model__bayes_BayesianRidge__repr_mimebundle_ = getattr(ret, '__module__', 'none') + '.' + ret.__class__.__name__\n",
    "    print('✅ sklearn.linear_model._bayes.BayesianRidge._repr_mimebundle_: ', type(ret)) # noqa E501\n",
    "except Exception as e:\n",
    "    type_sklearn_linear_model__bayes_BayesianRidge__repr_mimebundle_ = '_syft_missing'\n",
    "    print('❌ sklearn.linear_model._bayes.BayesianRidge._repr_mimebundle_: Return unavailable') # noqa E501\n",
    "    print(\"  Please fix this return type code until there is no exception\")\n",
    "    print('  Error:', e)\n"
   ]
  },
  {
   "cell_type": "code",
   "execution_count": null,
   "id": "initial-nicaragua",
   "metadata": {},
   "outputs": [],
   "source": [
    "# sklearn.linear_model._bayes.BayesianRidge._set_intercept\n",
    "try:\n",
    "    obj = class_constructor() # noqa F821\n",
    "    ret = obj._set_intercept()\n",
    "    type_sklearn_linear_model__bayes_BayesianRidge__set_intercept = getattr(ret, '__module__', 'none') + '.' + ret.__class__.__name__\n",
    "    print('✅ sklearn.linear_model._bayes.BayesianRidge._set_intercept: ', type(ret)) # noqa E501\n",
    "except Exception as e:\n",
    "    type_sklearn_linear_model__bayes_BayesianRidge__set_intercept = '_syft_missing'\n",
    "    print('❌ sklearn.linear_model._bayes.BayesianRidge._set_intercept: Return unavailable') # noqa E501\n",
    "    print(\"  Please fix this return type code until there is no exception\")\n",
    "    print('  Error:', e)\n"
   ]
  },
  {
   "cell_type": "code",
   "execution_count": null,
   "id": "perceived-progress",
   "metadata": {},
   "outputs": [],
   "source": [
    "# sklearn.linear_model._bayes.BayesianRidge._update_coef_\n",
    "try:\n",
    "    obj = class_constructor() # noqa F821\n",
    "    ret = obj._update_coef_()\n",
    "    type_sklearn_linear_model__bayes_BayesianRidge__update_coef_ = getattr(ret, '__module__', 'none') + '.' + ret.__class__.__name__\n",
    "    print('✅ sklearn.linear_model._bayes.BayesianRidge._update_coef_: ', type(ret)) # noqa E501\n",
    "except Exception as e:\n",
    "    type_sklearn_linear_model__bayes_BayesianRidge__update_coef_ = '_syft_missing'\n",
    "    print('❌ sklearn.linear_model._bayes.BayesianRidge._update_coef_: Return unavailable') # noqa E501\n",
    "    print(\"  Please fix this return type code until there is no exception\")\n",
    "    print('  Error:', e)\n"
   ]
  },
  {
   "cell_type": "code",
   "execution_count": null,
   "id": "developed-information",
   "metadata": {},
   "outputs": [],
   "source": [
    "# sklearn.linear_model._bayes.BayesianRidge._validate_data\n",
    "try:\n",
    "    obj = class_constructor() # noqa F821\n",
    "    ret = obj._validate_data()\n",
    "    type_sklearn_linear_model__bayes_BayesianRidge__validate_data = getattr(ret, '__module__', 'none') + '.' + ret.__class__.__name__\n",
    "    print('✅ sklearn.linear_model._bayes.BayesianRidge._validate_data: ', type(ret)) # noqa E501\n",
    "except Exception as e:\n",
    "    type_sklearn_linear_model__bayes_BayesianRidge__validate_data = '_syft_missing'\n",
    "    print('❌ sklearn.linear_model._bayes.BayesianRidge._validate_data: Return unavailable') # noqa E501\n",
    "    print(\"  Please fix this return type code until there is no exception\")\n",
    "    print('  Error:', e)\n"
   ]
  },
  {
   "cell_type": "code",
   "execution_count": null,
   "id": "buried-spirituality",
   "metadata": {},
   "outputs": [],
   "source": [
    "# sklearn.linear_model._bayes.BayesianRidge.fit\n",
    "try:\n",
    "    obj = class_constructor() # noqa F821\n",
    "    ret = obj.fit()\n",
    "    type_sklearn_linear_model__bayes_BayesianRidge_fit = getattr(ret, '__module__', 'none') + '.' + ret.__class__.__name__\n",
    "    print('✅ sklearn.linear_model._bayes.BayesianRidge.fit: ', type(ret)) # noqa E501\n",
    "except Exception as e:\n",
    "    type_sklearn_linear_model__bayes_BayesianRidge_fit = '_syft_missing'\n",
    "    print('❌ sklearn.linear_model._bayes.BayesianRidge.fit: Return unavailable') # noqa E501\n",
    "    print(\"  Please fix this return type code until there is no exception\")\n",
    "    print('  Error:', e)\n"
   ]
  },
  {
   "cell_type": "code",
   "execution_count": null,
   "id": "southwest-alabama",
   "metadata": {},
   "outputs": [],
   "source": [
    "# sklearn.linear_model._bayes.BayesianRidge.get_params\n",
    "try:\n",
    "    obj = class_constructor() # noqa F821\n",
    "    ret = obj.get_params()\n",
    "    type_sklearn_linear_model__bayes_BayesianRidge_get_params = getattr(ret, '__module__', 'none') + '.' + ret.__class__.__name__\n",
    "    print('✅ sklearn.linear_model._bayes.BayesianRidge.get_params: ', type(ret)) # noqa E501\n",
    "except Exception as e:\n",
    "    type_sklearn_linear_model__bayes_BayesianRidge_get_params = '_syft_missing'\n",
    "    print('❌ sklearn.linear_model._bayes.BayesianRidge.get_params: Return unavailable') # noqa E501\n",
    "    print(\"  Please fix this return type code until there is no exception\")\n",
    "    print('  Error:', e)\n"
   ]
  },
  {
   "cell_type": "code",
   "execution_count": null,
   "id": "talented-substitute",
   "metadata": {},
   "outputs": [],
   "source": [
    "# sklearn.linear_model._bayes.BayesianRidge.predict\n",
    "try:\n",
    "    obj = class_constructor() # noqa F821\n",
    "    ret = obj.predict()\n",
    "    type_sklearn_linear_model__bayes_BayesianRidge_predict = getattr(ret, '__module__', 'none') + '.' + ret.__class__.__name__\n",
    "    print('✅ sklearn.linear_model._bayes.BayesianRidge.predict: ', type(ret)) # noqa E501\n",
    "except Exception as e:\n",
    "    type_sklearn_linear_model__bayes_BayesianRidge_predict = '_syft_missing'\n",
    "    print('❌ sklearn.linear_model._bayes.BayesianRidge.predict: Return unavailable') # noqa E501\n",
    "    print(\"  Please fix this return type code until there is no exception\")\n",
    "    print('  Error:', e)\n"
   ]
  },
  {
   "cell_type": "code",
   "execution_count": null,
   "id": "still-particular",
   "metadata": {},
   "outputs": [],
   "source": [
    "# sklearn.linear_model._bayes.BayesianRidge.score\n",
    "try:\n",
    "    obj = class_constructor() # noqa F821\n",
    "    ret = obj.score()\n",
    "    type_sklearn_linear_model__bayes_BayesianRidge_score = getattr(ret, '__module__', 'none') + '.' + ret.__class__.__name__\n",
    "    print('✅ sklearn.linear_model._bayes.BayesianRidge.score: ', type(ret)) # noqa E501\n",
    "except Exception as e:\n",
    "    type_sklearn_linear_model__bayes_BayesianRidge_score = '_syft_missing'\n",
    "    print('❌ sklearn.linear_model._bayes.BayesianRidge.score: Return unavailable') # noqa E501\n",
    "    print(\"  Please fix this return type code until there is no exception\")\n",
    "    print('  Error:', e)\n"
   ]
  },
  {
   "cell_type": "code",
   "execution_count": null,
   "id": "outer-eleven",
   "metadata": {},
   "outputs": [],
   "source": [
    "# sklearn.linear_model._bayes.BayesianRidge.set_params\n",
    "try:\n",
    "    obj = class_constructor() # noqa F821\n",
    "    ret = obj.set_params()\n",
    "    type_sklearn_linear_model__bayes_BayesianRidge_set_params = getattr(ret, '__module__', 'none') + '.' + ret.__class__.__name__\n",
    "    print('✅ sklearn.linear_model._bayes.BayesianRidge.set_params: ', type(ret)) # noqa E501\n",
    "except Exception as e:\n",
    "    type_sklearn_linear_model__bayes_BayesianRidge_set_params = '_syft_missing'\n",
    "    print('❌ sklearn.linear_model._bayes.BayesianRidge.set_params: Return unavailable') # noqa E501\n",
    "    print(\"  Please fix this return type code until there is no exception\")\n",
    "    print('  Error:', e)\n"
   ]
  }
 ],
 "metadata": {},
 "nbformat": 4,
 "nbformat_minor": 5
}
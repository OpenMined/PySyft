{
 "cells": [
  {
   "cell_type": "markdown",
   "id": "efficient-grove",
   "metadata": {},
   "source": [
    "## sklearn.linear_model._coordinate_descent.MultiTaskElasticNet"
   ]
  },
  {
   "cell_type": "code",
   "execution_count": null,
   "id": "efficient-tiffany",
   "metadata": {},
   "outputs": [],
   "source": [
    "import sklearn\n",
    "def class_constructor(*args, **kwargs):\n",
    "    obj = sklearn.linear_model._coordinate_descent.MultiTaskElasticNet()\n",
    "    return obj\n"
   ]
  },
  {
   "cell_type": "code",
   "execution_count": null,
   "id": "textile-schedule",
   "metadata": {},
   "outputs": [],
   "source": [
    "# sklearn.linear_model._coordinate_descent.MultiTaskElasticNet.__getstate__\n",
    "try:\n",
    "    obj = class_constructor() # noqa F821\n",
    "    ret = obj.__getstate__()\n",
    "    type_sklearn_linear_model__coordinate_descent_MultiTaskElasticNet___getstate__ = getattr(ret, '__module__', 'none') + '.' + ret.__class__.__name__\n",
    "    print('✅ sklearn.linear_model._coordinate_descent.MultiTaskElasticNet.__getstate__: ', type(ret)) # noqa E501\n",
    "except Exception as e:\n",
    "    type_sklearn_linear_model__coordinate_descent_MultiTaskElasticNet___getstate__ = '_syft_missing'\n",
    "    print('❌ sklearn.linear_model._coordinate_descent.MultiTaskElasticNet.__getstate__: Return unavailable') # noqa E501\n",
    "    print(\"  Please fix this return type code until there is no exception\")\n",
    "    print('  Error:', e)\n"
   ]
  },
  {
   "cell_type": "code",
   "execution_count": null,
   "id": "tired-trunk",
   "metadata": {},
   "outputs": [],
   "source": [
    "# sklearn.linear_model._coordinate_descent.MultiTaskElasticNet.__repr__\n",
    "try:\n",
    "    obj = class_constructor() # noqa F821\n",
    "    ret = obj.__repr__()\n",
    "    type_sklearn_linear_model__coordinate_descent_MultiTaskElasticNet___repr__ = getattr(ret, '__module__', 'none') + '.' + ret.__class__.__name__\n",
    "    print('✅ sklearn.linear_model._coordinate_descent.MultiTaskElasticNet.__repr__: ', type(ret)) # noqa E501\n",
    "except Exception as e:\n",
    "    type_sklearn_linear_model__coordinate_descent_MultiTaskElasticNet___repr__ = '_syft_missing'\n",
    "    print('❌ sklearn.linear_model._coordinate_descent.MultiTaskElasticNet.__repr__: Return unavailable') # noqa E501\n",
    "    print(\"  Please fix this return type code until there is no exception\")\n",
    "    print('  Error:', e)\n"
   ]
  },
  {
   "cell_type": "code",
   "execution_count": null,
   "id": "chemical-member",
   "metadata": {},
   "outputs": [],
   "source": [
    "# sklearn.linear_model._coordinate_descent.MultiTaskElasticNet.__setstate__\n",
    "try:\n",
    "    obj = class_constructor() # noqa F821\n",
    "    ret = obj.__setstate__()\n",
    "    type_sklearn_linear_model__coordinate_descent_MultiTaskElasticNet___setstate__ = getattr(ret, '__module__', 'none') + '.' + ret.__class__.__name__\n",
    "    print('✅ sklearn.linear_model._coordinate_descent.MultiTaskElasticNet.__setstate__: ', type(ret)) # noqa E501\n",
    "except Exception as e:\n",
    "    type_sklearn_linear_model__coordinate_descent_MultiTaskElasticNet___setstate__ = '_syft_missing'\n",
    "    print('❌ sklearn.linear_model._coordinate_descent.MultiTaskElasticNet.__setstate__: Return unavailable') # noqa E501\n",
    "    print(\"  Please fix this return type code until there is no exception\")\n",
    "    print('  Error:', e)\n"
   ]
  },
  {
   "cell_type": "code",
   "execution_count": null,
   "id": "about-grave",
   "metadata": {},
   "outputs": [],
   "source": [
    "# sklearn.linear_model._coordinate_descent.MultiTaskElasticNet._check_n_features\n",
    "try:\n",
    "    obj = class_constructor() # noqa F821\n",
    "    ret = obj._check_n_features()\n",
    "    type_sklearn_linear_model__coordinate_descent_MultiTaskElasticNet__check_n_features = getattr(ret, '__module__', 'none') + '.' + ret.__class__.__name__\n",
    "    print('✅ sklearn.linear_model._coordinate_descent.MultiTaskElasticNet._check_n_features: ', type(ret)) # noqa E501\n",
    "except Exception as e:\n",
    "    type_sklearn_linear_model__coordinate_descent_MultiTaskElasticNet__check_n_features = '_syft_missing'\n",
    "    print('❌ sklearn.linear_model._coordinate_descent.MultiTaskElasticNet._check_n_features: Return unavailable') # noqa E501\n",
    "    print(\"  Please fix this return type code until there is no exception\")\n",
    "    print('  Error:', e)\n"
   ]
  },
  {
   "cell_type": "code",
   "execution_count": null,
   "id": "major-appliance",
   "metadata": {},
   "outputs": [],
   "source": [
    "# sklearn.linear_model._coordinate_descent.MultiTaskElasticNet._decision_function\n",
    "try:\n",
    "    obj = class_constructor() # noqa F821\n",
    "    ret = obj._decision_function()\n",
    "    type_sklearn_linear_model__coordinate_descent_MultiTaskElasticNet__decision_function = getattr(ret, '__module__', 'none') + '.' + ret.__class__.__name__\n",
    "    print('✅ sklearn.linear_model._coordinate_descent.MultiTaskElasticNet._decision_function: ', type(ret)) # noqa E501\n",
    "except Exception as e:\n",
    "    type_sklearn_linear_model__coordinate_descent_MultiTaskElasticNet__decision_function = '_syft_missing'\n",
    "    print('❌ sklearn.linear_model._coordinate_descent.MultiTaskElasticNet._decision_function: Return unavailable') # noqa E501\n",
    "    print(\"  Please fix this return type code until there is no exception\")\n",
    "    print('  Error:', e)\n"
   ]
  },
  {
   "cell_type": "code",
   "execution_count": null,
   "id": "forward-vegetarian",
   "metadata": {},
   "outputs": [],
   "source": [
    "# sklearn.linear_model._coordinate_descent.MultiTaskElasticNet._get_param_names\n",
    "try:\n",
    "    obj = class_constructor() # noqa F821\n",
    "    ret = obj._get_param_names()\n",
    "    type_sklearn_linear_model__coordinate_descent_MultiTaskElasticNet__get_param_names = getattr(ret, '__module__', 'none') + '.' + ret.__class__.__name__\n",
    "    print('✅ sklearn.linear_model._coordinate_descent.MultiTaskElasticNet._get_param_names: ', type(ret)) # noqa E501\n",
    "except Exception as e:\n",
    "    type_sklearn_linear_model__coordinate_descent_MultiTaskElasticNet__get_param_names = '_syft_missing'\n",
    "    print('❌ sklearn.linear_model._coordinate_descent.MultiTaskElasticNet._get_param_names: Return unavailable') # noqa E501\n",
    "    print(\"  Please fix this return type code until there is no exception\")\n",
    "    print('  Error:', e)\n"
   ]
  },
  {
   "cell_type": "code",
   "execution_count": null,
   "id": "permanent-advocacy",
   "metadata": {},
   "outputs": [],
   "source": [
    "# sklearn.linear_model._coordinate_descent.MultiTaskElasticNet._get_tags\n",
    "try:\n",
    "    obj = class_constructor() # noqa F821\n",
    "    ret = obj._get_tags()\n",
    "    type_sklearn_linear_model__coordinate_descent_MultiTaskElasticNet__get_tags = getattr(ret, '__module__', 'none') + '.' + ret.__class__.__name__\n",
    "    print('✅ sklearn.linear_model._coordinate_descent.MultiTaskElasticNet._get_tags: ', type(ret)) # noqa E501\n",
    "except Exception as e:\n",
    "    type_sklearn_linear_model__coordinate_descent_MultiTaskElasticNet__get_tags = '_syft_missing'\n",
    "    print('❌ sklearn.linear_model._coordinate_descent.MultiTaskElasticNet._get_tags: Return unavailable') # noqa E501\n",
    "    print(\"  Please fix this return type code until there is no exception\")\n",
    "    print('  Error:', e)\n"
   ]
  },
  {
   "cell_type": "code",
   "execution_count": null,
   "id": "renewable-guide",
   "metadata": {},
   "outputs": [],
   "source": [
    "# sklearn.linear_model._coordinate_descent.MultiTaskElasticNet._more_tags\n",
    "try:\n",
    "    obj = class_constructor() # noqa F821\n",
    "    ret = obj._more_tags()\n",
    "    type_sklearn_linear_model__coordinate_descent_MultiTaskElasticNet__more_tags = getattr(ret, '__module__', 'none') + '.' + ret.__class__.__name__\n",
    "    print('✅ sklearn.linear_model._coordinate_descent.MultiTaskElasticNet._more_tags: ', type(ret)) # noqa E501\n",
    "except Exception as e:\n",
    "    type_sklearn_linear_model__coordinate_descent_MultiTaskElasticNet__more_tags = '_syft_missing'\n",
    "    print('❌ sklearn.linear_model._coordinate_descent.MultiTaskElasticNet._more_tags: Return unavailable') # noqa E501\n",
    "    print(\"  Please fix this return type code until there is no exception\")\n",
    "    print('  Error:', e)\n"
   ]
  },
  {
   "cell_type": "code",
   "execution_count": null,
   "id": "obvious-memphis",
   "metadata": {},
   "outputs": [],
   "source": [
    "# sklearn.linear_model._coordinate_descent.MultiTaskElasticNet._preprocess_data\n",
    "try:\n",
    "    obj = class_constructor() # noqa F821\n",
    "    ret = obj._preprocess_data()\n",
    "    type_sklearn_linear_model__coordinate_descent_MultiTaskElasticNet__preprocess_data = getattr(ret, '__module__', 'none') + '.' + ret.__class__.__name__\n",
    "    print('✅ sklearn.linear_model._coordinate_descent.MultiTaskElasticNet._preprocess_data: ', type(ret)) # noqa E501\n",
    "except Exception as e:\n",
    "    type_sklearn_linear_model__coordinate_descent_MultiTaskElasticNet__preprocess_data = '_syft_missing'\n",
    "    print('❌ sklearn.linear_model._coordinate_descent.MultiTaskElasticNet._preprocess_data: Return unavailable') # noqa E501\n",
    "    print(\"  Please fix this return type code until there is no exception\")\n",
    "    print('  Error:', e)\n"
   ]
  },
  {
   "cell_type": "code",
   "execution_count": null,
   "id": "competitive-flour",
   "metadata": {},
   "outputs": [],
   "source": [
    "# sklearn.linear_model._coordinate_descent.MultiTaskElasticNet._repr_html_\n",
    "try:\n",
    "    obj = class_constructor()\n",
    "    ret = obj._repr_html_\n",
    "    type_sklearn_linear_model__coordinate_descent_MultiTaskElasticNet__repr_html_ = getattr(ret, '__module__', 'none') + '.' + ret.__class__.__name__\n",
    "    print('✅ sklearn.linear_model._coordinate_descent.MultiTaskElasticNet._repr_html_:', type(ret)) # noqa E501\n",
    "except Exception as e:\n",
    "    type_sklearn_linear_model__coordinate_descent_MultiTaskElasticNet__repr_html_ = '_syft_missing'\n",
    "    print('❌ sklearn.linear_model._coordinate_descent.MultiTaskElasticNet._repr_html_: Return unavailable') # noqa E501\n",
    "    print(\"  Please fix this return type code until there is no exception\")\n",
    "    print('  Error:', e)\n"
   ]
  },
  {
   "cell_type": "code",
   "execution_count": null,
   "id": "completed-lotus",
   "metadata": {},
   "outputs": [],
   "source": [
    "# sklearn.linear_model._coordinate_descent.MultiTaskElasticNet._repr_html_inner\n",
    "try:\n",
    "    obj = class_constructor() # noqa F821\n",
    "    ret = obj._repr_html_inner()\n",
    "    type_sklearn_linear_model__coordinate_descent_MultiTaskElasticNet__repr_html_inner = getattr(ret, '__module__', 'none') + '.' + ret.__class__.__name__\n",
    "    print('✅ sklearn.linear_model._coordinate_descent.MultiTaskElasticNet._repr_html_inner: ', type(ret)) # noqa E501\n",
    "except Exception as e:\n",
    "    type_sklearn_linear_model__coordinate_descent_MultiTaskElasticNet__repr_html_inner = '_syft_missing'\n",
    "    print('❌ sklearn.linear_model._coordinate_descent.MultiTaskElasticNet._repr_html_inner: Return unavailable') # noqa E501\n",
    "    print(\"  Please fix this return type code until there is no exception\")\n",
    "    print('  Error:', e)\n"
   ]
  },
  {
   "cell_type": "code",
   "execution_count": null,
   "id": "comparative-registrar",
   "metadata": {},
   "outputs": [],
   "source": [
    "# sklearn.linear_model._coordinate_descent.MultiTaskElasticNet._repr_mimebundle_\n",
    "try:\n",
    "    obj = class_constructor() # noqa F821\n",
    "    ret = obj._repr_mimebundle_()\n",
    "    type_sklearn_linear_model__coordinate_descent_MultiTaskElasticNet__repr_mimebundle_ = getattr(ret, '__module__', 'none') + '.' + ret.__class__.__name__\n",
    "    print('✅ sklearn.linear_model._coordinate_descent.MultiTaskElasticNet._repr_mimebundle_: ', type(ret)) # noqa E501\n",
    "except Exception as e:\n",
    "    type_sklearn_linear_model__coordinate_descent_MultiTaskElasticNet__repr_mimebundle_ = '_syft_missing'\n",
    "    print('❌ sklearn.linear_model._coordinate_descent.MultiTaskElasticNet._repr_mimebundle_: Return unavailable') # noqa E501\n",
    "    print(\"  Please fix this return type code until there is no exception\")\n",
    "    print('  Error:', e)\n"
   ]
  },
  {
   "cell_type": "code",
   "execution_count": null,
   "id": "scenic-concern",
   "metadata": {},
   "outputs": [],
   "source": [
    "# sklearn.linear_model._coordinate_descent.MultiTaskElasticNet._set_intercept\n",
    "try:\n",
    "    obj = class_constructor() # noqa F821\n",
    "    ret = obj._set_intercept()\n",
    "    type_sklearn_linear_model__coordinate_descent_MultiTaskElasticNet__set_intercept = getattr(ret, '__module__', 'none') + '.' + ret.__class__.__name__\n",
    "    print('✅ sklearn.linear_model._coordinate_descent.MultiTaskElasticNet._set_intercept: ', type(ret)) # noqa E501\n",
    "except Exception as e:\n",
    "    type_sklearn_linear_model__coordinate_descent_MultiTaskElasticNet__set_intercept = '_syft_missing'\n",
    "    print('❌ sklearn.linear_model._coordinate_descent.MultiTaskElasticNet._set_intercept: Return unavailable') # noqa E501\n",
    "    print(\"  Please fix this return type code until there is no exception\")\n",
    "    print('  Error:', e)\n"
   ]
  },
  {
   "cell_type": "code",
   "execution_count": null,
   "id": "minus-location",
   "metadata": {},
   "outputs": [],
   "source": [
    "# sklearn.linear_model._coordinate_descent.MultiTaskElasticNet._validate_data\n",
    "try:\n",
    "    obj = class_constructor() # noqa F821\n",
    "    ret = obj._validate_data()\n",
    "    type_sklearn_linear_model__coordinate_descent_MultiTaskElasticNet__validate_data = getattr(ret, '__module__', 'none') + '.' + ret.__class__.__name__\n",
    "    print('✅ sklearn.linear_model._coordinate_descent.MultiTaskElasticNet._validate_data: ', type(ret)) # noqa E501\n",
    "except Exception as e:\n",
    "    type_sklearn_linear_model__coordinate_descent_MultiTaskElasticNet__validate_data = '_syft_missing'\n",
    "    print('❌ sklearn.linear_model._coordinate_descent.MultiTaskElasticNet._validate_data: Return unavailable') # noqa E501\n",
    "    print(\"  Please fix this return type code until there is no exception\")\n",
    "    print('  Error:', e)\n"
   ]
  },
  {
   "cell_type": "code",
   "execution_count": null,
   "id": "designed-reverse",
   "metadata": {},
   "outputs": [],
   "source": [
    "# sklearn.linear_model._coordinate_descent.MultiTaskElasticNet.fit\n",
    "try:\n",
    "    obj = class_constructor() # noqa F821\n",
    "    ret = obj.fit()\n",
    "    type_sklearn_linear_model__coordinate_descent_MultiTaskElasticNet_fit = getattr(ret, '__module__', 'none') + '.' + ret.__class__.__name__\n",
    "    print('✅ sklearn.linear_model._coordinate_descent.MultiTaskElasticNet.fit: ', type(ret)) # noqa E501\n",
    "except Exception as e:\n",
    "    type_sklearn_linear_model__coordinate_descent_MultiTaskElasticNet_fit = '_syft_missing'\n",
    "    print('❌ sklearn.linear_model._coordinate_descent.MultiTaskElasticNet.fit: Return unavailable') # noqa E501\n",
    "    print(\"  Please fix this return type code until there is no exception\")\n",
    "    print('  Error:', e)\n"
   ]
  },
  {
   "cell_type": "code",
   "execution_count": null,
   "id": "driven-promotion",
   "metadata": {},
   "outputs": [],
   "source": [
    "# sklearn.linear_model._coordinate_descent.MultiTaskElasticNet.get_params\n",
    "try:\n",
    "    obj = class_constructor() # noqa F821\n",
    "    ret = obj.get_params()\n",
    "    type_sklearn_linear_model__coordinate_descent_MultiTaskElasticNet_get_params = getattr(ret, '__module__', 'none') + '.' + ret.__class__.__name__\n",
    "    print('✅ sklearn.linear_model._coordinate_descent.MultiTaskElasticNet.get_params: ', type(ret)) # noqa E501\n",
    "except Exception as e:\n",
    "    type_sklearn_linear_model__coordinate_descent_MultiTaskElasticNet_get_params = '_syft_missing'\n",
    "    print('❌ sklearn.linear_model._coordinate_descent.MultiTaskElasticNet.get_params: Return unavailable') # noqa E501\n",
    "    print(\"  Please fix this return type code until there is no exception\")\n",
    "    print('  Error:', e)\n"
   ]
  },
  {
   "cell_type": "code",
   "execution_count": null,
   "id": "experimental-berkeley",
   "metadata": {},
   "outputs": [],
   "source": [
    "# sklearn.linear_model._coordinate_descent.MultiTaskElasticNet.enet_path\n",
    "try:\n",
    "    obj = class_constructor() # noqa F821\n",
    "    ret = obj.enet_path()\n",
    "    type_sklearn_linear_model__coordinate_descent_MultiTaskElasticNet_enet_path = getattr(ret, '__module__', 'none') + '.' + ret.__class__.__name__\n",
    "    print('✅ sklearn.linear_model._coordinate_descent.MultiTaskElasticNet.enet_path: ', type(ret)) # noqa E501\n",
    "except Exception as e:\n",
    "    type_sklearn_linear_model__coordinate_descent_MultiTaskElasticNet_enet_path = '_syft_missing'\n",
    "    print('❌ sklearn.linear_model._coordinate_descent.MultiTaskElasticNet.enet_path: Return unavailable') # noqa E501\n",
    "    print(\"  Please fix this return type code until there is no exception\")\n",
    "    print('  Error:', e)\n"
   ]
  },
  {
   "cell_type": "code",
   "execution_count": null,
   "id": "unlikely-intention",
   "metadata": {},
   "outputs": [],
   "source": [
    "# sklearn.linear_model._coordinate_descent.MultiTaskElasticNet.predict\n",
    "try:\n",
    "    obj = class_constructor() # noqa F821\n",
    "    ret = obj.predict()\n",
    "    type_sklearn_linear_model__coordinate_descent_MultiTaskElasticNet_predict = getattr(ret, '__module__', 'none') + '.' + ret.__class__.__name__\n",
    "    print('✅ sklearn.linear_model._coordinate_descent.MultiTaskElasticNet.predict: ', type(ret)) # noqa E501\n",
    "except Exception as e:\n",
    "    type_sklearn_linear_model__coordinate_descent_MultiTaskElasticNet_predict = '_syft_missing'\n",
    "    print('❌ sklearn.linear_model._coordinate_descent.MultiTaskElasticNet.predict: Return unavailable') # noqa E501\n",
    "    print(\"  Please fix this return type code until there is no exception\")\n",
    "    print('  Error:', e)\n"
   ]
  },
  {
   "cell_type": "code",
   "execution_count": null,
   "id": "seventh-coating",
   "metadata": {},
   "outputs": [],
   "source": [
    "# sklearn.linear_model._coordinate_descent.MultiTaskElasticNet.score\n",
    "try:\n",
    "    obj = class_constructor() # noqa F821\n",
    "    ret = obj.score()\n",
    "    type_sklearn_linear_model__coordinate_descent_MultiTaskElasticNet_score = getattr(ret, '__module__', 'none') + '.' + ret.__class__.__name__\n",
    "    print('✅ sklearn.linear_model._coordinate_descent.MultiTaskElasticNet.score: ', type(ret)) # noqa E501\n",
    "except Exception as e:\n",
    "    type_sklearn_linear_model__coordinate_descent_MultiTaskElasticNet_score = '_syft_missing'\n",
    "    print('❌ sklearn.linear_model._coordinate_descent.MultiTaskElasticNet.score: Return unavailable') # noqa E501\n",
    "    print(\"  Please fix this return type code until there is no exception\")\n",
    "    print('  Error:', e)\n"
   ]
  },
  {
   "cell_type": "code",
   "execution_count": null,
   "id": "charming-balance",
   "metadata": {},
   "outputs": [],
   "source": [
    "# sklearn.linear_model._coordinate_descent.MultiTaskElasticNet.set_params\n",
    "try:\n",
    "    obj = class_constructor() # noqa F821\n",
    "    ret = obj.set_params()\n",
    "    type_sklearn_linear_model__coordinate_descent_MultiTaskElasticNet_set_params = getattr(ret, '__module__', 'none') + '.' + ret.__class__.__name__\n",
    "    print('✅ sklearn.linear_model._coordinate_descent.MultiTaskElasticNet.set_params: ', type(ret)) # noqa E501\n",
    "except Exception as e:\n",
    "    type_sklearn_linear_model__coordinate_descent_MultiTaskElasticNet_set_params = '_syft_missing'\n",
    "    print('❌ sklearn.linear_model._coordinate_descent.MultiTaskElasticNet.set_params: Return unavailable') # noqa E501\n",
    "    print(\"  Please fix this return type code until there is no exception\")\n",
    "    print('  Error:', e)\n"
   ]
  },
  {
   "cell_type": "code",
   "execution_count": null,
   "id": "hairy-projection",
   "metadata": {},
   "outputs": [],
   "source": [
    "# sklearn.linear_model._coordinate_descent.MultiTaskElasticNet.sparse_coef_\n",
    "try:\n",
    "    obj = class_constructor()\n",
    "    ret = obj.sparse_coef_\n",
    "    type_sklearn_linear_model__coordinate_descent_MultiTaskElasticNet_sparse_coef_ = getattr(ret, '__module__', 'none') + '.' + ret.__class__.__name__\n",
    "    print('✅ sklearn.linear_model._coordinate_descent.MultiTaskElasticNet.sparse_coef_:', type(ret)) # noqa E501\n",
    "except Exception as e:\n",
    "    type_sklearn_linear_model__coordinate_descent_MultiTaskElasticNet_sparse_coef_ = '_syft_missing'\n",
    "    print('❌ sklearn.linear_model._coordinate_descent.MultiTaskElasticNet.sparse_coef_: Return unavailable') # noqa E501\n",
    "    print(\"  Please fix this return type code until there is no exception\")\n",
    "    print('  Error:', e)\n"
   ]
  }
 ],
 "metadata": {},
 "nbformat": 4,
 "nbformat_minor": 5
}
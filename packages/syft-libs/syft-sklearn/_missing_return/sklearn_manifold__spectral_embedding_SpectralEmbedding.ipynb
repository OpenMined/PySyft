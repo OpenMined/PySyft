{
 "cells": [
  {
   "cell_type": "markdown",
   "id": "boring-sequence",
   "metadata": {},
   "source": [
    "## sklearn.manifold._spectral_embedding.SpectralEmbedding"
   ]
  },
  {
   "cell_type": "code",
   "execution_count": null,
   "id": "dated-glory",
   "metadata": {},
   "outputs": [],
   "source": [
    "import sklearn\n",
    "def class_constructor(*args, **kwargs):\n",
    "    obj = sklearn.manifold._spectral_embedding.SpectralEmbedding()\n",
    "    return obj\n"
   ]
  },
  {
   "cell_type": "code",
   "execution_count": null,
   "id": "higher-compound",
   "metadata": {},
   "outputs": [],
   "source": [
    "# sklearn.manifold._spectral_embedding.SpectralEmbedding.__getstate__\n",
    "try:\n",
    "    obj = class_constructor() # noqa F821\n",
    "    ret = obj.__getstate__()\n",
    "    type_sklearn_manifold__spectral_embedding_SpectralEmbedding___getstate__ = getattr(ret, '__module__', 'none') + '.' + ret.__class__.__name__\n",
    "    print('✅ sklearn.manifold._spectral_embedding.SpectralEmbedding.__getstate__: ', type(ret)) # noqa E501\n",
    "except Exception as e:\n",
    "    type_sklearn_manifold__spectral_embedding_SpectralEmbedding___getstate__ = '_syft_missing'\n",
    "    print('❌ sklearn.manifold._spectral_embedding.SpectralEmbedding.__getstate__: Return unavailable') # noqa E501\n",
    "    print(\"  Please fix this return type code until there is no exception\")\n",
    "    print('  Error:', e)\n"
   ]
  },
  {
   "cell_type": "code",
   "execution_count": null,
   "id": "threaded-hanging",
   "metadata": {},
   "outputs": [],
   "source": [
    "# sklearn.manifold._spectral_embedding.SpectralEmbedding.__repr__\n",
    "try:\n",
    "    obj = class_constructor() # noqa F821\n",
    "    ret = obj.__repr__()\n",
    "    type_sklearn_manifold__spectral_embedding_SpectralEmbedding___repr__ = getattr(ret, '__module__', 'none') + '.' + ret.__class__.__name__\n",
    "    print('✅ sklearn.manifold._spectral_embedding.SpectralEmbedding.__repr__: ', type(ret)) # noqa E501\n",
    "except Exception as e:\n",
    "    type_sklearn_manifold__spectral_embedding_SpectralEmbedding___repr__ = '_syft_missing'\n",
    "    print('❌ sklearn.manifold._spectral_embedding.SpectralEmbedding.__repr__: Return unavailable') # noqa E501\n",
    "    print(\"  Please fix this return type code until there is no exception\")\n",
    "    print('  Error:', e)\n"
   ]
  },
  {
   "cell_type": "code",
   "execution_count": null,
   "id": "micro-scott",
   "metadata": {},
   "outputs": [],
   "source": [
    "# sklearn.manifold._spectral_embedding.SpectralEmbedding.__setstate__\n",
    "try:\n",
    "    obj = class_constructor() # noqa F821\n",
    "    ret = obj.__setstate__()\n",
    "    type_sklearn_manifold__spectral_embedding_SpectralEmbedding___setstate__ = getattr(ret, '__module__', 'none') + '.' + ret.__class__.__name__\n",
    "    print('✅ sklearn.manifold._spectral_embedding.SpectralEmbedding.__setstate__: ', type(ret)) # noqa E501\n",
    "except Exception as e:\n",
    "    type_sklearn_manifold__spectral_embedding_SpectralEmbedding___setstate__ = '_syft_missing'\n",
    "    print('❌ sklearn.manifold._spectral_embedding.SpectralEmbedding.__setstate__: Return unavailable') # noqa E501\n",
    "    print(\"  Please fix this return type code until there is no exception\")\n",
    "    print('  Error:', e)\n"
   ]
  },
  {
   "cell_type": "code",
   "execution_count": null,
   "id": "solved-malta",
   "metadata": {},
   "outputs": [],
   "source": [
    "# sklearn.manifold._spectral_embedding.SpectralEmbedding._check_n_features\n",
    "try:\n",
    "    obj = class_constructor() # noqa F821\n",
    "    ret = obj._check_n_features()\n",
    "    type_sklearn_manifold__spectral_embedding_SpectralEmbedding__check_n_features = getattr(ret, '__module__', 'none') + '.' + ret.__class__.__name__\n",
    "    print('✅ sklearn.manifold._spectral_embedding.SpectralEmbedding._check_n_features: ', type(ret)) # noqa E501\n",
    "except Exception as e:\n",
    "    type_sklearn_manifold__spectral_embedding_SpectralEmbedding__check_n_features = '_syft_missing'\n",
    "    print('❌ sklearn.manifold._spectral_embedding.SpectralEmbedding._check_n_features: Return unavailable') # noqa E501\n",
    "    print(\"  Please fix this return type code until there is no exception\")\n",
    "    print('  Error:', e)\n"
   ]
  },
  {
   "cell_type": "code",
   "execution_count": null,
   "id": "cooked-sample",
   "metadata": {},
   "outputs": [],
   "source": [
    "# sklearn.manifold._spectral_embedding.SpectralEmbedding._get_affinity_matrix\n",
    "try:\n",
    "    obj = class_constructor() # noqa F821\n",
    "    ret = obj._get_affinity_matrix()\n",
    "    type_sklearn_manifold__spectral_embedding_SpectralEmbedding__get_affinity_matrix = getattr(ret, '__module__', 'none') + '.' + ret.__class__.__name__\n",
    "    print('✅ sklearn.manifold._spectral_embedding.SpectralEmbedding._get_affinity_matrix: ', type(ret)) # noqa E501\n",
    "except Exception as e:\n",
    "    type_sklearn_manifold__spectral_embedding_SpectralEmbedding__get_affinity_matrix = '_syft_missing'\n",
    "    print('❌ sklearn.manifold._spectral_embedding.SpectralEmbedding._get_affinity_matrix: Return unavailable') # noqa E501\n",
    "    print(\"  Please fix this return type code until there is no exception\")\n",
    "    print('  Error:', e)\n"
   ]
  },
  {
   "cell_type": "code",
   "execution_count": null,
   "id": "proud-engine",
   "metadata": {},
   "outputs": [],
   "source": [
    "# sklearn.manifold._spectral_embedding.SpectralEmbedding._get_param_names\n",
    "try:\n",
    "    obj = class_constructor() # noqa F821\n",
    "    ret = obj._get_param_names()\n",
    "    type_sklearn_manifold__spectral_embedding_SpectralEmbedding__get_param_names = getattr(ret, '__module__', 'none') + '.' + ret.__class__.__name__\n",
    "    print('✅ sklearn.manifold._spectral_embedding.SpectralEmbedding._get_param_names: ', type(ret)) # noqa E501\n",
    "except Exception as e:\n",
    "    type_sklearn_manifold__spectral_embedding_SpectralEmbedding__get_param_names = '_syft_missing'\n",
    "    print('❌ sklearn.manifold._spectral_embedding.SpectralEmbedding._get_param_names: Return unavailable') # noqa E501\n",
    "    print(\"  Please fix this return type code until there is no exception\")\n",
    "    print('  Error:', e)\n"
   ]
  },
  {
   "cell_type": "code",
   "execution_count": null,
   "id": "respective-voltage",
   "metadata": {},
   "outputs": [],
   "source": [
    "# sklearn.manifold._spectral_embedding.SpectralEmbedding._get_tags\n",
    "try:\n",
    "    obj = class_constructor() # noqa F821\n",
    "    ret = obj._get_tags()\n",
    "    type_sklearn_manifold__spectral_embedding_SpectralEmbedding__get_tags = getattr(ret, '__module__', 'none') + '.' + ret.__class__.__name__\n",
    "    print('✅ sklearn.manifold._spectral_embedding.SpectralEmbedding._get_tags: ', type(ret)) # noqa E501\n",
    "except Exception as e:\n",
    "    type_sklearn_manifold__spectral_embedding_SpectralEmbedding__get_tags = '_syft_missing'\n",
    "    print('❌ sklearn.manifold._spectral_embedding.SpectralEmbedding._get_tags: Return unavailable') # noqa E501\n",
    "    print(\"  Please fix this return type code until there is no exception\")\n",
    "    print('  Error:', e)\n"
   ]
  },
  {
   "cell_type": "code",
   "execution_count": null,
   "id": "aggregate-wichita",
   "metadata": {},
   "outputs": [],
   "source": [
    "# sklearn.manifold._spectral_embedding.SpectralEmbedding._more_tags\n",
    "try:\n",
    "    obj = class_constructor() # noqa F821\n",
    "    ret = obj._more_tags()\n",
    "    type_sklearn_manifold__spectral_embedding_SpectralEmbedding__more_tags = getattr(ret, '__module__', 'none') + '.' + ret.__class__.__name__\n",
    "    print('✅ sklearn.manifold._spectral_embedding.SpectralEmbedding._more_tags: ', type(ret)) # noqa E501\n",
    "except Exception as e:\n",
    "    type_sklearn_manifold__spectral_embedding_SpectralEmbedding__more_tags = '_syft_missing'\n",
    "    print('❌ sklearn.manifold._spectral_embedding.SpectralEmbedding._more_tags: Return unavailable') # noqa E501\n",
    "    print(\"  Please fix this return type code until there is no exception\")\n",
    "    print('  Error:', e)\n"
   ]
  },
  {
   "cell_type": "code",
   "execution_count": null,
   "id": "interim-applicant",
   "metadata": {},
   "outputs": [],
   "source": [
    "# sklearn.manifold._spectral_embedding.SpectralEmbedding._pairwise\n",
    "try:\n",
    "    obj = class_constructor()\n",
    "    ret = obj._pairwise\n",
    "    type_sklearn_manifold__spectral_embedding_SpectralEmbedding__pairwise = getattr(ret, '__module__', 'none') + '.' + ret.__class__.__name__\n",
    "    print('✅ sklearn.manifold._spectral_embedding.SpectralEmbedding._pairwise:', type(ret)) # noqa E501\n",
    "except Exception as e:\n",
    "    type_sklearn_manifold__spectral_embedding_SpectralEmbedding__pairwise = '_syft_missing'\n",
    "    print('❌ sklearn.manifold._spectral_embedding.SpectralEmbedding._pairwise: Return unavailable') # noqa E501\n",
    "    print(\"  Please fix this return type code until there is no exception\")\n",
    "    print('  Error:', e)\n"
   ]
  },
  {
   "cell_type": "code",
   "execution_count": null,
   "id": "expanded-rough",
   "metadata": {},
   "outputs": [],
   "source": [
    "# sklearn.manifold._spectral_embedding.SpectralEmbedding._repr_html_\n",
    "try:\n",
    "    obj = class_constructor()\n",
    "    ret = obj._repr_html_\n",
    "    type_sklearn_manifold__spectral_embedding_SpectralEmbedding__repr_html_ = getattr(ret, '__module__', 'none') + '.' + ret.__class__.__name__\n",
    "    print('✅ sklearn.manifold._spectral_embedding.SpectralEmbedding._repr_html_:', type(ret)) # noqa E501\n",
    "except Exception as e:\n",
    "    type_sklearn_manifold__spectral_embedding_SpectralEmbedding__repr_html_ = '_syft_missing'\n",
    "    print('❌ sklearn.manifold._spectral_embedding.SpectralEmbedding._repr_html_: Return unavailable') # noqa E501\n",
    "    print(\"  Please fix this return type code until there is no exception\")\n",
    "    print('  Error:', e)\n"
   ]
  },
  {
   "cell_type": "code",
   "execution_count": null,
   "id": "atmospheric-pillow",
   "metadata": {},
   "outputs": [],
   "source": [
    "# sklearn.manifold._spectral_embedding.SpectralEmbedding._repr_html_inner\n",
    "try:\n",
    "    obj = class_constructor() # noqa F821\n",
    "    ret = obj._repr_html_inner()\n",
    "    type_sklearn_manifold__spectral_embedding_SpectralEmbedding__repr_html_inner = getattr(ret, '__module__', 'none') + '.' + ret.__class__.__name__\n",
    "    print('✅ sklearn.manifold._spectral_embedding.SpectralEmbedding._repr_html_inner: ', type(ret)) # noqa E501\n",
    "except Exception as e:\n",
    "    type_sklearn_manifold__spectral_embedding_SpectralEmbedding__repr_html_inner = '_syft_missing'\n",
    "    print('❌ sklearn.manifold._spectral_embedding.SpectralEmbedding._repr_html_inner: Return unavailable') # noqa E501\n",
    "    print(\"  Please fix this return type code until there is no exception\")\n",
    "    print('  Error:', e)\n"
   ]
  },
  {
   "cell_type": "code",
   "execution_count": null,
   "id": "developing-notebook",
   "metadata": {},
   "outputs": [],
   "source": [
    "# sklearn.manifold._spectral_embedding.SpectralEmbedding._repr_mimebundle_\n",
    "try:\n",
    "    obj = class_constructor() # noqa F821\n",
    "    ret = obj._repr_mimebundle_()\n",
    "    type_sklearn_manifold__spectral_embedding_SpectralEmbedding__repr_mimebundle_ = getattr(ret, '__module__', 'none') + '.' + ret.__class__.__name__\n",
    "    print('✅ sklearn.manifold._spectral_embedding.SpectralEmbedding._repr_mimebundle_: ', type(ret)) # noqa E501\n",
    "except Exception as e:\n",
    "    type_sklearn_manifold__spectral_embedding_SpectralEmbedding__repr_mimebundle_ = '_syft_missing'\n",
    "    print('❌ sklearn.manifold._spectral_embedding.SpectralEmbedding._repr_mimebundle_: Return unavailable') # noqa E501\n",
    "    print(\"  Please fix this return type code until there is no exception\")\n",
    "    print('  Error:', e)\n"
   ]
  },
  {
   "cell_type": "code",
   "execution_count": null,
   "id": "thousand-values",
   "metadata": {},
   "outputs": [],
   "source": [
    "# sklearn.manifold._spectral_embedding.SpectralEmbedding._validate_data\n",
    "try:\n",
    "    obj = class_constructor() # noqa F821\n",
    "    ret = obj._validate_data()\n",
    "    type_sklearn_manifold__spectral_embedding_SpectralEmbedding__validate_data = getattr(ret, '__module__', 'none') + '.' + ret.__class__.__name__\n",
    "    print('✅ sklearn.manifold._spectral_embedding.SpectralEmbedding._validate_data: ', type(ret)) # noqa E501\n",
    "except Exception as e:\n",
    "    type_sklearn_manifold__spectral_embedding_SpectralEmbedding__validate_data = '_syft_missing'\n",
    "    print('❌ sklearn.manifold._spectral_embedding.SpectralEmbedding._validate_data: Return unavailable') # noqa E501\n",
    "    print(\"  Please fix this return type code until there is no exception\")\n",
    "    print('  Error:', e)\n"
   ]
  },
  {
   "cell_type": "code",
   "execution_count": null,
   "id": "human-oregon",
   "metadata": {},
   "outputs": [],
   "source": [
    "# sklearn.manifold._spectral_embedding.SpectralEmbedding.fit\n",
    "try:\n",
    "    obj = class_constructor() # noqa F821\n",
    "    ret = obj.fit()\n",
    "    type_sklearn_manifold__spectral_embedding_SpectralEmbedding_fit = getattr(ret, '__module__', 'none') + '.' + ret.__class__.__name__\n",
    "    print('✅ sklearn.manifold._spectral_embedding.SpectralEmbedding.fit: ', type(ret)) # noqa E501\n",
    "except Exception as e:\n",
    "    type_sklearn_manifold__spectral_embedding_SpectralEmbedding_fit = '_syft_missing'\n",
    "    print('❌ sklearn.manifold._spectral_embedding.SpectralEmbedding.fit: Return unavailable') # noqa E501\n",
    "    print(\"  Please fix this return type code until there is no exception\")\n",
    "    print('  Error:', e)\n"
   ]
  },
  {
   "cell_type": "code",
   "execution_count": null,
   "id": "light-ecuador",
   "metadata": {},
   "outputs": [],
   "source": [
    "# sklearn.manifold._spectral_embedding.SpectralEmbedding.fit_transform\n",
    "try:\n",
    "    obj = class_constructor() # noqa F821\n",
    "    ret = obj.fit_transform()\n",
    "    type_sklearn_manifold__spectral_embedding_SpectralEmbedding_fit_transform = getattr(ret, '__module__', 'none') + '.' + ret.__class__.__name__\n",
    "    print('✅ sklearn.manifold._spectral_embedding.SpectralEmbedding.fit_transform: ', type(ret)) # noqa E501\n",
    "except Exception as e:\n",
    "    type_sklearn_manifold__spectral_embedding_SpectralEmbedding_fit_transform = '_syft_missing'\n",
    "    print('❌ sklearn.manifold._spectral_embedding.SpectralEmbedding.fit_transform: Return unavailable') # noqa E501\n",
    "    print(\"  Please fix this return type code until there is no exception\")\n",
    "    print('  Error:', e)\n"
   ]
  },
  {
   "cell_type": "code",
   "execution_count": null,
   "id": "committed-detail",
   "metadata": {},
   "outputs": [],
   "source": [
    "# sklearn.manifold._spectral_embedding.SpectralEmbedding.get_params\n",
    "try:\n",
    "    obj = class_constructor() # noqa F821\n",
    "    ret = obj.get_params()\n",
    "    type_sklearn_manifold__spectral_embedding_SpectralEmbedding_get_params = getattr(ret, '__module__', 'none') + '.' + ret.__class__.__name__\n",
    "    print('✅ sklearn.manifold._spectral_embedding.SpectralEmbedding.get_params: ', type(ret)) # noqa E501\n",
    "except Exception as e:\n",
    "    type_sklearn_manifold__spectral_embedding_SpectralEmbedding_get_params = '_syft_missing'\n",
    "    print('❌ sklearn.manifold._spectral_embedding.SpectralEmbedding.get_params: Return unavailable') # noqa E501\n",
    "    print(\"  Please fix this return type code until there is no exception\")\n",
    "    print('  Error:', e)\n"
   ]
  },
  {
   "cell_type": "code",
   "execution_count": null,
   "id": "warming-efficiency",
   "metadata": {},
   "outputs": [],
   "source": [
    "# sklearn.manifold._spectral_embedding.SpectralEmbedding.set_params\n",
    "try:\n",
    "    obj = class_constructor() # noqa F821\n",
    "    ret = obj.set_params()\n",
    "    type_sklearn_manifold__spectral_embedding_SpectralEmbedding_set_params = getattr(ret, '__module__', 'none') + '.' + ret.__class__.__name__\n",
    "    print('✅ sklearn.manifold._spectral_embedding.SpectralEmbedding.set_params: ', type(ret)) # noqa E501\n",
    "except Exception as e:\n",
    "    type_sklearn_manifold__spectral_embedding_SpectralEmbedding_set_params = '_syft_missing'\n",
    "    print('❌ sklearn.manifold._spectral_embedding.SpectralEmbedding.set_params: Return unavailable') # noqa E501\n",
    "    print(\"  Please fix this return type code until there is no exception\")\n",
    "    print('  Error:', e)\n"
   ]
  }
 ],
 "metadata": {},
 "nbformat": 4,
 "nbformat_minor": 5
}
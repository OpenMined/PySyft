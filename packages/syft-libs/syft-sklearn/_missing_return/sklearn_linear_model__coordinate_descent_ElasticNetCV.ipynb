{
 "cells": [
  {
   "cell_type": "markdown",
   "id": "angry-candidate",
   "metadata": {},
   "source": [
    "## sklearn.linear_model._coordinate_descent.ElasticNetCV"
   ]
  },
  {
   "cell_type": "code",
   "execution_count": null,
   "id": "naughty-missile",
   "metadata": {},
   "outputs": [],
   "source": [
    "import sklearn\n",
    "def class_constructor(*args, **kwargs):\n",
    "    obj = sklearn.linear_model._coordinate_descent.ElasticNetCV()\n",
    "    return obj\n"
   ]
  },
  {
   "cell_type": "code",
   "execution_count": null,
   "id": "dependent-healthcare",
   "metadata": {},
   "outputs": [],
   "source": [
    "# sklearn.linear_model._coordinate_descent.ElasticNetCV.__getstate__\n",
    "try:\n",
    "    obj = class_constructor() # noqa F821\n",
    "    ret = obj.__getstate__()\n",
    "    type_sklearn_linear_model__coordinate_descent_ElasticNetCV___getstate__ = getattr(ret, '__module__', 'none') + '.' + ret.__class__.__name__\n",
    "    print('✅ sklearn.linear_model._coordinate_descent.ElasticNetCV.__getstate__: ', type(ret)) # noqa E501\n",
    "except Exception as e:\n",
    "    type_sklearn_linear_model__coordinate_descent_ElasticNetCV___getstate__ = '_syft_missing'\n",
    "    print('❌ sklearn.linear_model._coordinate_descent.ElasticNetCV.__getstate__: Return unavailable') # noqa E501\n",
    "    print(\"  Please fix this return type code until there is no exception\")\n",
    "    print('  Error:', e)\n"
   ]
  },
  {
   "cell_type": "code",
   "execution_count": null,
   "id": "flying-perry",
   "metadata": {},
   "outputs": [],
   "source": [
    "# sklearn.linear_model._coordinate_descent.ElasticNetCV.__repr__\n",
    "try:\n",
    "    obj = class_constructor() # noqa F821\n",
    "    ret = obj.__repr__()\n",
    "    type_sklearn_linear_model__coordinate_descent_ElasticNetCV___repr__ = getattr(ret, '__module__', 'none') + '.' + ret.__class__.__name__\n",
    "    print('✅ sklearn.linear_model._coordinate_descent.ElasticNetCV.__repr__: ', type(ret)) # noqa E501\n",
    "except Exception as e:\n",
    "    type_sklearn_linear_model__coordinate_descent_ElasticNetCV___repr__ = '_syft_missing'\n",
    "    print('❌ sklearn.linear_model._coordinate_descent.ElasticNetCV.__repr__: Return unavailable') # noqa E501\n",
    "    print(\"  Please fix this return type code until there is no exception\")\n",
    "    print('  Error:', e)\n"
   ]
  },
  {
   "cell_type": "code",
   "execution_count": null,
   "id": "another-relaxation",
   "metadata": {},
   "outputs": [],
   "source": [
    "# sklearn.linear_model._coordinate_descent.ElasticNetCV.__setstate__\n",
    "try:\n",
    "    obj = class_constructor() # noqa F821\n",
    "    ret = obj.__setstate__()\n",
    "    type_sklearn_linear_model__coordinate_descent_ElasticNetCV___setstate__ = getattr(ret, '__module__', 'none') + '.' + ret.__class__.__name__\n",
    "    print('✅ sklearn.linear_model._coordinate_descent.ElasticNetCV.__setstate__: ', type(ret)) # noqa E501\n",
    "except Exception as e:\n",
    "    type_sklearn_linear_model__coordinate_descent_ElasticNetCV___setstate__ = '_syft_missing'\n",
    "    print('❌ sklearn.linear_model._coordinate_descent.ElasticNetCV.__setstate__: Return unavailable') # noqa E501\n",
    "    print(\"  Please fix this return type code until there is no exception\")\n",
    "    print('  Error:', e)\n"
   ]
  },
  {
   "cell_type": "code",
   "execution_count": null,
   "id": "conscious-wedding",
   "metadata": {},
   "outputs": [],
   "source": [
    "# sklearn.linear_model._coordinate_descent.ElasticNetCV._check_n_features\n",
    "try:\n",
    "    obj = class_constructor() # noqa F821\n",
    "    ret = obj._check_n_features()\n",
    "    type_sklearn_linear_model__coordinate_descent_ElasticNetCV__check_n_features = getattr(ret, '__module__', 'none') + '.' + ret.__class__.__name__\n",
    "    print('✅ sklearn.linear_model._coordinate_descent.ElasticNetCV._check_n_features: ', type(ret)) # noqa E501\n",
    "except Exception as e:\n",
    "    type_sklearn_linear_model__coordinate_descent_ElasticNetCV__check_n_features = '_syft_missing'\n",
    "    print('❌ sklearn.linear_model._coordinate_descent.ElasticNetCV._check_n_features: Return unavailable') # noqa E501\n",
    "    print(\"  Please fix this return type code until there is no exception\")\n",
    "    print('  Error:', e)\n"
   ]
  },
  {
   "cell_type": "code",
   "execution_count": null,
   "id": "advised-personality",
   "metadata": {},
   "outputs": [],
   "source": [
    "# sklearn.linear_model._coordinate_descent.ElasticNetCV._decision_function\n",
    "try:\n",
    "    obj = class_constructor() # noqa F821\n",
    "    ret = obj._decision_function()\n",
    "    type_sklearn_linear_model__coordinate_descent_ElasticNetCV__decision_function = getattr(ret, '__module__', 'none') + '.' + ret.__class__.__name__\n",
    "    print('✅ sklearn.linear_model._coordinate_descent.ElasticNetCV._decision_function: ', type(ret)) # noqa E501\n",
    "except Exception as e:\n",
    "    type_sklearn_linear_model__coordinate_descent_ElasticNetCV__decision_function = '_syft_missing'\n",
    "    print('❌ sklearn.linear_model._coordinate_descent.ElasticNetCV._decision_function: Return unavailable') # noqa E501\n",
    "    print(\"  Please fix this return type code until there is no exception\")\n",
    "    print('  Error:', e)\n"
   ]
  },
  {
   "cell_type": "code",
   "execution_count": null,
   "id": "second-intervention",
   "metadata": {},
   "outputs": [],
   "source": [
    "# sklearn.linear_model._coordinate_descent.ElasticNetCV._get_estimator\n",
    "try:\n",
    "    obj = class_constructor() # noqa F821\n",
    "    ret = obj._get_estimator()\n",
    "    type_sklearn_linear_model__coordinate_descent_ElasticNetCV__get_estimator = getattr(ret, '__module__', 'none') + '.' + ret.__class__.__name__\n",
    "    print('✅ sklearn.linear_model._coordinate_descent.ElasticNetCV._get_estimator: ', type(ret)) # noqa E501\n",
    "except Exception as e:\n",
    "    type_sklearn_linear_model__coordinate_descent_ElasticNetCV__get_estimator = '_syft_missing'\n",
    "    print('❌ sklearn.linear_model._coordinate_descent.ElasticNetCV._get_estimator: Return unavailable') # noqa E501\n",
    "    print(\"  Please fix this return type code until there is no exception\")\n",
    "    print('  Error:', e)\n"
   ]
  },
  {
   "cell_type": "code",
   "execution_count": null,
   "id": "respected-berry",
   "metadata": {},
   "outputs": [],
   "source": [
    "# sklearn.linear_model._coordinate_descent.ElasticNetCV._get_param_names\n",
    "try:\n",
    "    obj = class_constructor() # noqa F821\n",
    "    ret = obj._get_param_names()\n",
    "    type_sklearn_linear_model__coordinate_descent_ElasticNetCV__get_param_names = getattr(ret, '__module__', 'none') + '.' + ret.__class__.__name__\n",
    "    print('✅ sklearn.linear_model._coordinate_descent.ElasticNetCV._get_param_names: ', type(ret)) # noqa E501\n",
    "except Exception as e:\n",
    "    type_sklearn_linear_model__coordinate_descent_ElasticNetCV__get_param_names = '_syft_missing'\n",
    "    print('❌ sklearn.linear_model._coordinate_descent.ElasticNetCV._get_param_names: Return unavailable') # noqa E501\n",
    "    print(\"  Please fix this return type code until there is no exception\")\n",
    "    print('  Error:', e)\n"
   ]
  },
  {
   "cell_type": "code",
   "execution_count": null,
   "id": "bored-wisconsin",
   "metadata": {},
   "outputs": [],
   "source": [
    "# sklearn.linear_model._coordinate_descent.ElasticNetCV._get_tags\n",
    "try:\n",
    "    obj = class_constructor() # noqa F821\n",
    "    ret = obj._get_tags()\n",
    "    type_sklearn_linear_model__coordinate_descent_ElasticNetCV__get_tags = getattr(ret, '__module__', 'none') + '.' + ret.__class__.__name__\n",
    "    print('✅ sklearn.linear_model._coordinate_descent.ElasticNetCV._get_tags: ', type(ret)) # noqa E501\n",
    "except Exception as e:\n",
    "    type_sklearn_linear_model__coordinate_descent_ElasticNetCV__get_tags = '_syft_missing'\n",
    "    print('❌ sklearn.linear_model._coordinate_descent.ElasticNetCV._get_tags: Return unavailable') # noqa E501\n",
    "    print(\"  Please fix this return type code until there is no exception\")\n",
    "    print('  Error:', e)\n"
   ]
  },
  {
   "cell_type": "code",
   "execution_count": null,
   "id": "special-rogers",
   "metadata": {},
   "outputs": [],
   "source": [
    "# sklearn.linear_model._coordinate_descent.ElasticNetCV._is_multitask\n",
    "try:\n",
    "    obj = class_constructor() # noqa F821\n",
    "    ret = obj._is_multitask()\n",
    "    type_sklearn_linear_model__coordinate_descent_ElasticNetCV__is_multitask = getattr(ret, '__module__', 'none') + '.' + ret.__class__.__name__\n",
    "    print('✅ sklearn.linear_model._coordinate_descent.ElasticNetCV._is_multitask: ', type(ret)) # noqa E501\n",
    "except Exception as e:\n",
    "    type_sklearn_linear_model__coordinate_descent_ElasticNetCV__is_multitask = '_syft_missing'\n",
    "    print('❌ sklearn.linear_model._coordinate_descent.ElasticNetCV._is_multitask: Return unavailable') # noqa E501\n",
    "    print(\"  Please fix this return type code until there is no exception\")\n",
    "    print('  Error:', e)\n"
   ]
  },
  {
   "cell_type": "code",
   "execution_count": null,
   "id": "endangered-judges",
   "metadata": {},
   "outputs": [],
   "source": [
    "# sklearn.linear_model._coordinate_descent.ElasticNetCV._more_tags\n",
    "try:\n",
    "    obj = class_constructor() # noqa F821\n",
    "    ret = obj._more_tags()\n",
    "    type_sklearn_linear_model__coordinate_descent_ElasticNetCV__more_tags = getattr(ret, '__module__', 'none') + '.' + ret.__class__.__name__\n",
    "    print('✅ sklearn.linear_model._coordinate_descent.ElasticNetCV._more_tags: ', type(ret)) # noqa E501\n",
    "except Exception as e:\n",
    "    type_sklearn_linear_model__coordinate_descent_ElasticNetCV__more_tags = '_syft_missing'\n",
    "    print('❌ sklearn.linear_model._coordinate_descent.ElasticNetCV._more_tags: Return unavailable') # noqa E501\n",
    "    print(\"  Please fix this return type code until there is no exception\")\n",
    "    print('  Error:', e)\n"
   ]
  },
  {
   "cell_type": "code",
   "execution_count": null,
   "id": "cordless-storage",
   "metadata": {},
   "outputs": [],
   "source": [
    "# sklearn.linear_model._coordinate_descent.ElasticNetCV._preprocess_data\n",
    "try:\n",
    "    obj = class_constructor() # noqa F821\n",
    "    ret = obj._preprocess_data()\n",
    "    type_sklearn_linear_model__coordinate_descent_ElasticNetCV__preprocess_data = getattr(ret, '__module__', 'none') + '.' + ret.__class__.__name__\n",
    "    print('✅ sklearn.linear_model._coordinate_descent.ElasticNetCV._preprocess_data: ', type(ret)) # noqa E501\n",
    "except Exception as e:\n",
    "    type_sklearn_linear_model__coordinate_descent_ElasticNetCV__preprocess_data = '_syft_missing'\n",
    "    print('❌ sklearn.linear_model._coordinate_descent.ElasticNetCV._preprocess_data: Return unavailable') # noqa E501\n",
    "    print(\"  Please fix this return type code until there is no exception\")\n",
    "    print('  Error:', e)\n"
   ]
  },
  {
   "cell_type": "code",
   "execution_count": null,
   "id": "normal-windsor",
   "metadata": {},
   "outputs": [],
   "source": [
    "# sklearn.linear_model._coordinate_descent.ElasticNetCV._repr_html_\n",
    "try:\n",
    "    obj = class_constructor()\n",
    "    ret = obj._repr_html_\n",
    "    type_sklearn_linear_model__coordinate_descent_ElasticNetCV__repr_html_ = getattr(ret, '__module__', 'none') + '.' + ret.__class__.__name__\n",
    "    print('✅ sklearn.linear_model._coordinate_descent.ElasticNetCV._repr_html_:', type(ret)) # noqa E501\n",
    "except Exception as e:\n",
    "    type_sklearn_linear_model__coordinate_descent_ElasticNetCV__repr_html_ = '_syft_missing'\n",
    "    print('❌ sklearn.linear_model._coordinate_descent.ElasticNetCV._repr_html_: Return unavailable') # noqa E501\n",
    "    print(\"  Please fix this return type code until there is no exception\")\n",
    "    print('  Error:', e)\n"
   ]
  },
  {
   "cell_type": "code",
   "execution_count": null,
   "id": "alert-sussex",
   "metadata": {},
   "outputs": [],
   "source": [
    "# sklearn.linear_model._coordinate_descent.ElasticNetCV._repr_html_inner\n",
    "try:\n",
    "    obj = class_constructor() # noqa F821\n",
    "    ret = obj._repr_html_inner()\n",
    "    type_sklearn_linear_model__coordinate_descent_ElasticNetCV__repr_html_inner = getattr(ret, '__module__', 'none') + '.' + ret.__class__.__name__\n",
    "    print('✅ sklearn.linear_model._coordinate_descent.ElasticNetCV._repr_html_inner: ', type(ret)) # noqa E501\n",
    "except Exception as e:\n",
    "    type_sklearn_linear_model__coordinate_descent_ElasticNetCV__repr_html_inner = '_syft_missing'\n",
    "    print('❌ sklearn.linear_model._coordinate_descent.ElasticNetCV._repr_html_inner: Return unavailable') # noqa E501\n",
    "    print(\"  Please fix this return type code until there is no exception\")\n",
    "    print('  Error:', e)\n"
   ]
  },
  {
   "cell_type": "code",
   "execution_count": null,
   "id": "earlier-thousand",
   "metadata": {},
   "outputs": [],
   "source": [
    "# sklearn.linear_model._coordinate_descent.ElasticNetCV._repr_mimebundle_\n",
    "try:\n",
    "    obj = class_constructor() # noqa F821\n",
    "    ret = obj._repr_mimebundle_()\n",
    "    type_sklearn_linear_model__coordinate_descent_ElasticNetCV__repr_mimebundle_ = getattr(ret, '__module__', 'none') + '.' + ret.__class__.__name__\n",
    "    print('✅ sklearn.linear_model._coordinate_descent.ElasticNetCV._repr_mimebundle_: ', type(ret)) # noqa E501\n",
    "except Exception as e:\n",
    "    type_sklearn_linear_model__coordinate_descent_ElasticNetCV__repr_mimebundle_ = '_syft_missing'\n",
    "    print('❌ sklearn.linear_model._coordinate_descent.ElasticNetCV._repr_mimebundle_: Return unavailable') # noqa E501\n",
    "    print(\"  Please fix this return type code until there is no exception\")\n",
    "    print('  Error:', e)\n"
   ]
  },
  {
   "cell_type": "code",
   "execution_count": null,
   "id": "macro-replacement",
   "metadata": {},
   "outputs": [],
   "source": [
    "# sklearn.linear_model._coordinate_descent.ElasticNetCV._set_intercept\n",
    "try:\n",
    "    obj = class_constructor() # noqa F821\n",
    "    ret = obj._set_intercept()\n",
    "    type_sklearn_linear_model__coordinate_descent_ElasticNetCV__set_intercept = getattr(ret, '__module__', 'none') + '.' + ret.__class__.__name__\n",
    "    print('✅ sklearn.linear_model._coordinate_descent.ElasticNetCV._set_intercept: ', type(ret)) # noqa E501\n",
    "except Exception as e:\n",
    "    type_sklearn_linear_model__coordinate_descent_ElasticNetCV__set_intercept = '_syft_missing'\n",
    "    print('❌ sklearn.linear_model._coordinate_descent.ElasticNetCV._set_intercept: Return unavailable') # noqa E501\n",
    "    print(\"  Please fix this return type code until there is no exception\")\n",
    "    print('  Error:', e)\n"
   ]
  },
  {
   "cell_type": "code",
   "execution_count": null,
   "id": "widespread-disabled",
   "metadata": {},
   "outputs": [],
   "source": [
    "# sklearn.linear_model._coordinate_descent.ElasticNetCV._validate_data\n",
    "try:\n",
    "    obj = class_constructor() # noqa F821\n",
    "    ret = obj._validate_data()\n",
    "    type_sklearn_linear_model__coordinate_descent_ElasticNetCV__validate_data = getattr(ret, '__module__', 'none') + '.' + ret.__class__.__name__\n",
    "    print('✅ sklearn.linear_model._coordinate_descent.ElasticNetCV._validate_data: ', type(ret)) # noqa E501\n",
    "except Exception as e:\n",
    "    type_sklearn_linear_model__coordinate_descent_ElasticNetCV__validate_data = '_syft_missing'\n",
    "    print('❌ sklearn.linear_model._coordinate_descent.ElasticNetCV._validate_data: Return unavailable') # noqa E501\n",
    "    print(\"  Please fix this return type code until there is no exception\")\n",
    "    print('  Error:', e)\n"
   ]
  },
  {
   "cell_type": "code",
   "execution_count": null,
   "id": "similar-franchise",
   "metadata": {},
   "outputs": [],
   "source": [
    "# sklearn.linear_model._coordinate_descent.ElasticNetCV.fit\n",
    "try:\n",
    "    obj = class_constructor() # noqa F821\n",
    "    ret = obj.fit()\n",
    "    type_sklearn_linear_model__coordinate_descent_ElasticNetCV_fit = getattr(ret, '__module__', 'none') + '.' + ret.__class__.__name__\n",
    "    print('✅ sklearn.linear_model._coordinate_descent.ElasticNetCV.fit: ', type(ret)) # noqa E501\n",
    "except Exception as e:\n",
    "    type_sklearn_linear_model__coordinate_descent_ElasticNetCV_fit = '_syft_missing'\n",
    "    print('❌ sklearn.linear_model._coordinate_descent.ElasticNetCV.fit: Return unavailable') # noqa E501\n",
    "    print(\"  Please fix this return type code until there is no exception\")\n",
    "    print('  Error:', e)\n"
   ]
  },
  {
   "cell_type": "code",
   "execution_count": null,
   "id": "signal-notion",
   "metadata": {},
   "outputs": [],
   "source": [
    "# sklearn.linear_model._coordinate_descent.ElasticNetCV.get_params\n",
    "try:\n",
    "    obj = class_constructor() # noqa F821\n",
    "    ret = obj.get_params()\n",
    "    type_sklearn_linear_model__coordinate_descent_ElasticNetCV_get_params = getattr(ret, '__module__', 'none') + '.' + ret.__class__.__name__\n",
    "    print('✅ sklearn.linear_model._coordinate_descent.ElasticNetCV.get_params: ', type(ret)) # noqa E501\n",
    "except Exception as e:\n",
    "    type_sklearn_linear_model__coordinate_descent_ElasticNetCV_get_params = '_syft_missing'\n",
    "    print('❌ sklearn.linear_model._coordinate_descent.ElasticNetCV.get_params: Return unavailable') # noqa E501\n",
    "    print(\"  Please fix this return type code until there is no exception\")\n",
    "    print('  Error:', e)\n"
   ]
  },
  {
   "cell_type": "code",
   "execution_count": null,
   "id": "operating-celebration",
   "metadata": {},
   "outputs": [],
   "source": [
    "# sklearn.linear_model._coordinate_descent.ElasticNetCV.enet_path\n",
    "try:\n",
    "    obj = class_constructor() # noqa F821\n",
    "    ret = obj.enet_path()\n",
    "    type_sklearn_linear_model__coordinate_descent_ElasticNetCV_enet_path = getattr(ret, '__module__', 'none') + '.' + ret.__class__.__name__\n",
    "    print('✅ sklearn.linear_model._coordinate_descent.ElasticNetCV.enet_path: ', type(ret)) # noqa E501\n",
    "except Exception as e:\n",
    "    type_sklearn_linear_model__coordinate_descent_ElasticNetCV_enet_path = '_syft_missing'\n",
    "    print('❌ sklearn.linear_model._coordinate_descent.ElasticNetCV.enet_path: Return unavailable') # noqa E501\n",
    "    print(\"  Please fix this return type code until there is no exception\")\n",
    "    print('  Error:', e)\n"
   ]
  },
  {
   "cell_type": "code",
   "execution_count": null,
   "id": "environmental-ending",
   "metadata": {},
   "outputs": [],
   "source": [
    "# sklearn.linear_model._coordinate_descent.ElasticNetCV.predict\n",
    "try:\n",
    "    obj = class_constructor() # noqa F821\n",
    "    ret = obj.predict()\n",
    "    type_sklearn_linear_model__coordinate_descent_ElasticNetCV_predict = getattr(ret, '__module__', 'none') + '.' + ret.__class__.__name__\n",
    "    print('✅ sklearn.linear_model._coordinate_descent.ElasticNetCV.predict: ', type(ret)) # noqa E501\n",
    "except Exception as e:\n",
    "    type_sklearn_linear_model__coordinate_descent_ElasticNetCV_predict = '_syft_missing'\n",
    "    print('❌ sklearn.linear_model._coordinate_descent.ElasticNetCV.predict: Return unavailable') # noqa E501\n",
    "    print(\"  Please fix this return type code until there is no exception\")\n",
    "    print('  Error:', e)\n"
   ]
  },
  {
   "cell_type": "code",
   "execution_count": null,
   "id": "noble-cooling",
   "metadata": {},
   "outputs": [],
   "source": [
    "# sklearn.linear_model._coordinate_descent.ElasticNetCV.score\n",
    "try:\n",
    "    obj = class_constructor() # noqa F821\n",
    "    ret = obj.score()\n",
    "    type_sklearn_linear_model__coordinate_descent_ElasticNetCV_score = getattr(ret, '__module__', 'none') + '.' + ret.__class__.__name__\n",
    "    print('✅ sklearn.linear_model._coordinate_descent.ElasticNetCV.score: ', type(ret)) # noqa E501\n",
    "except Exception as e:\n",
    "    type_sklearn_linear_model__coordinate_descent_ElasticNetCV_score = '_syft_missing'\n",
    "    print('❌ sklearn.linear_model._coordinate_descent.ElasticNetCV.score: Return unavailable') # noqa E501\n",
    "    print(\"  Please fix this return type code until there is no exception\")\n",
    "    print('  Error:', e)\n"
   ]
  },
  {
   "cell_type": "code",
   "execution_count": null,
   "id": "sunrise-combination",
   "metadata": {},
   "outputs": [],
   "source": [
    "# sklearn.linear_model._coordinate_descent.ElasticNetCV.set_params\n",
    "try:\n",
    "    obj = class_constructor() # noqa F821\n",
    "    ret = obj.set_params()\n",
    "    type_sklearn_linear_model__coordinate_descent_ElasticNetCV_set_params = getattr(ret, '__module__', 'none') + '.' + ret.__class__.__name__\n",
    "    print('✅ sklearn.linear_model._coordinate_descent.ElasticNetCV.set_params: ', type(ret)) # noqa E501\n",
    "except Exception as e:\n",
    "    type_sklearn_linear_model__coordinate_descent_ElasticNetCV_set_params = '_syft_missing'\n",
    "    print('❌ sklearn.linear_model._coordinate_descent.ElasticNetCV.set_params: Return unavailable') # noqa E501\n",
    "    print(\"  Please fix this return type code until there is no exception\")\n",
    "    print('  Error:', e)\n"
   ]
  }
 ],
 "metadata": {},
 "nbformat": 4,
 "nbformat_minor": 5
}
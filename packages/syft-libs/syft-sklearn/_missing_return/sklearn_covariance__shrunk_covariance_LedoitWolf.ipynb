{
 "cells": [
  {
   "cell_type": "markdown",
   "id": "sixth-patent",
   "metadata": {},
   "source": [
    "## sklearn.covariance._shrunk_covariance.LedoitWolf"
   ]
  },
  {
   "cell_type": "code",
   "execution_count": null,
   "id": "contrary-instrumentation",
   "metadata": {},
   "outputs": [],
   "source": [
    "import sklearn\n",
    "def class_constructor(*args, **kwargs):\n",
    "    obj = sklearn.covariance._shrunk_covariance.LedoitWolf()\n",
    "    return obj\n"
   ]
  },
  {
   "cell_type": "code",
   "execution_count": null,
   "id": "forty-validation",
   "metadata": {},
   "outputs": [],
   "source": [
    "# sklearn.covariance._shrunk_covariance.LedoitWolf.__getstate__\n",
    "try:\n",
    "    obj = class_constructor() # noqa F821\n",
    "    ret = obj.__getstate__()\n",
    "    type_sklearn_covariance__shrunk_covariance_LedoitWolf___getstate__ = getattr(ret, '__module__', 'none') + '.' + ret.__class__.__name__\n",
    "    print('✅ sklearn.covariance._shrunk_covariance.LedoitWolf.__getstate__: ', type(ret)) # noqa E501\n",
    "except Exception as e:\n",
    "    type_sklearn_covariance__shrunk_covariance_LedoitWolf___getstate__ = '_syft_missing'\n",
    "    print('❌ sklearn.covariance._shrunk_covariance.LedoitWolf.__getstate__: Return unavailable') # noqa E501\n",
    "    print(\"  Please fix this return type code until there is no exception\")\n",
    "    print('  Error:', e)\n"
   ]
  },
  {
   "cell_type": "code",
   "execution_count": null,
   "id": "exposed-tackle",
   "metadata": {},
   "outputs": [],
   "source": [
    "# sklearn.covariance._shrunk_covariance.LedoitWolf.__repr__\n",
    "try:\n",
    "    obj = class_constructor() # noqa F821\n",
    "    ret = obj.__repr__()\n",
    "    type_sklearn_covariance__shrunk_covariance_LedoitWolf___repr__ = getattr(ret, '__module__', 'none') + '.' + ret.__class__.__name__\n",
    "    print('✅ sklearn.covariance._shrunk_covariance.LedoitWolf.__repr__: ', type(ret)) # noqa E501\n",
    "except Exception as e:\n",
    "    type_sklearn_covariance__shrunk_covariance_LedoitWolf___repr__ = '_syft_missing'\n",
    "    print('❌ sklearn.covariance._shrunk_covariance.LedoitWolf.__repr__: Return unavailable') # noqa E501\n",
    "    print(\"  Please fix this return type code until there is no exception\")\n",
    "    print('  Error:', e)\n"
   ]
  },
  {
   "cell_type": "code",
   "execution_count": null,
   "id": "beautiful-jason",
   "metadata": {},
   "outputs": [],
   "source": [
    "# sklearn.covariance._shrunk_covariance.LedoitWolf.__setstate__\n",
    "try:\n",
    "    obj = class_constructor() # noqa F821\n",
    "    ret = obj.__setstate__()\n",
    "    type_sklearn_covariance__shrunk_covariance_LedoitWolf___setstate__ = getattr(ret, '__module__', 'none') + '.' + ret.__class__.__name__\n",
    "    print('✅ sklearn.covariance._shrunk_covariance.LedoitWolf.__setstate__: ', type(ret)) # noqa E501\n",
    "except Exception as e:\n",
    "    type_sklearn_covariance__shrunk_covariance_LedoitWolf___setstate__ = '_syft_missing'\n",
    "    print('❌ sklearn.covariance._shrunk_covariance.LedoitWolf.__setstate__: Return unavailable') # noqa E501\n",
    "    print(\"  Please fix this return type code until there is no exception\")\n",
    "    print('  Error:', e)\n"
   ]
  },
  {
   "cell_type": "code",
   "execution_count": null,
   "id": "three-vatican",
   "metadata": {},
   "outputs": [],
   "source": [
    "# sklearn.covariance._shrunk_covariance.LedoitWolf._check_n_features\n",
    "try:\n",
    "    obj = class_constructor() # noqa F821\n",
    "    ret = obj._check_n_features()\n",
    "    type_sklearn_covariance__shrunk_covariance_LedoitWolf__check_n_features = getattr(ret, '__module__', 'none') + '.' + ret.__class__.__name__\n",
    "    print('✅ sklearn.covariance._shrunk_covariance.LedoitWolf._check_n_features: ', type(ret)) # noqa E501\n",
    "except Exception as e:\n",
    "    type_sklearn_covariance__shrunk_covariance_LedoitWolf__check_n_features = '_syft_missing'\n",
    "    print('❌ sklearn.covariance._shrunk_covariance.LedoitWolf._check_n_features: Return unavailable') # noqa E501\n",
    "    print(\"  Please fix this return type code until there is no exception\")\n",
    "    print('  Error:', e)\n"
   ]
  },
  {
   "cell_type": "code",
   "execution_count": null,
   "id": "applied-dispatch",
   "metadata": {},
   "outputs": [],
   "source": [
    "# sklearn.covariance._shrunk_covariance.LedoitWolf._get_param_names\n",
    "try:\n",
    "    obj = class_constructor() # noqa F821\n",
    "    ret = obj._get_param_names()\n",
    "    type_sklearn_covariance__shrunk_covariance_LedoitWolf__get_param_names = getattr(ret, '__module__', 'none') + '.' + ret.__class__.__name__\n",
    "    print('✅ sklearn.covariance._shrunk_covariance.LedoitWolf._get_param_names: ', type(ret)) # noqa E501\n",
    "except Exception as e:\n",
    "    type_sklearn_covariance__shrunk_covariance_LedoitWolf__get_param_names = '_syft_missing'\n",
    "    print('❌ sklearn.covariance._shrunk_covariance.LedoitWolf._get_param_names: Return unavailable') # noqa E501\n",
    "    print(\"  Please fix this return type code until there is no exception\")\n",
    "    print('  Error:', e)\n"
   ]
  },
  {
   "cell_type": "code",
   "execution_count": null,
   "id": "downtown-dakota",
   "metadata": {},
   "outputs": [],
   "source": [
    "# sklearn.covariance._shrunk_covariance.LedoitWolf._get_tags\n",
    "try:\n",
    "    obj = class_constructor() # noqa F821\n",
    "    ret = obj._get_tags()\n",
    "    type_sklearn_covariance__shrunk_covariance_LedoitWolf__get_tags = getattr(ret, '__module__', 'none') + '.' + ret.__class__.__name__\n",
    "    print('✅ sklearn.covariance._shrunk_covariance.LedoitWolf._get_tags: ', type(ret)) # noqa E501\n",
    "except Exception as e:\n",
    "    type_sklearn_covariance__shrunk_covariance_LedoitWolf__get_tags = '_syft_missing'\n",
    "    print('❌ sklearn.covariance._shrunk_covariance.LedoitWolf._get_tags: Return unavailable') # noqa E501\n",
    "    print(\"  Please fix this return type code until there is no exception\")\n",
    "    print('  Error:', e)\n"
   ]
  },
  {
   "cell_type": "code",
   "execution_count": null,
   "id": "fitting-reservoir",
   "metadata": {},
   "outputs": [],
   "source": [
    "# sklearn.covariance._shrunk_covariance.LedoitWolf._more_tags\n",
    "try:\n",
    "    obj = class_constructor() # noqa F821\n",
    "    ret = obj._more_tags()\n",
    "    type_sklearn_covariance__shrunk_covariance_LedoitWolf__more_tags = getattr(ret, '__module__', 'none') + '.' + ret.__class__.__name__\n",
    "    print('✅ sklearn.covariance._shrunk_covariance.LedoitWolf._more_tags: ', type(ret)) # noqa E501\n",
    "except Exception as e:\n",
    "    type_sklearn_covariance__shrunk_covariance_LedoitWolf__more_tags = '_syft_missing'\n",
    "    print('❌ sklearn.covariance._shrunk_covariance.LedoitWolf._more_tags: Return unavailable') # noqa E501\n",
    "    print(\"  Please fix this return type code until there is no exception\")\n",
    "    print('  Error:', e)\n"
   ]
  },
  {
   "cell_type": "code",
   "execution_count": null,
   "id": "systematic-simple",
   "metadata": {},
   "outputs": [],
   "source": [
    "# sklearn.covariance._shrunk_covariance.LedoitWolf._repr_html_\n",
    "try:\n",
    "    obj = class_constructor()\n",
    "    ret = obj._repr_html_\n",
    "    type_sklearn_covariance__shrunk_covariance_LedoitWolf__repr_html_ = getattr(ret, '__module__', 'none') + '.' + ret.__class__.__name__\n",
    "    print('✅ sklearn.covariance._shrunk_covariance.LedoitWolf._repr_html_:', type(ret)) # noqa E501\n",
    "except Exception as e:\n",
    "    type_sklearn_covariance__shrunk_covariance_LedoitWolf__repr_html_ = '_syft_missing'\n",
    "    print('❌ sklearn.covariance._shrunk_covariance.LedoitWolf._repr_html_: Return unavailable') # noqa E501\n",
    "    print(\"  Please fix this return type code until there is no exception\")\n",
    "    print('  Error:', e)\n"
   ]
  },
  {
   "cell_type": "code",
   "execution_count": null,
   "id": "furnished-technical",
   "metadata": {},
   "outputs": [],
   "source": [
    "# sklearn.covariance._shrunk_covariance.LedoitWolf._repr_html_inner\n",
    "try:\n",
    "    obj = class_constructor() # noqa F821\n",
    "    ret = obj._repr_html_inner()\n",
    "    type_sklearn_covariance__shrunk_covariance_LedoitWolf__repr_html_inner = getattr(ret, '__module__', 'none') + '.' + ret.__class__.__name__\n",
    "    print('✅ sklearn.covariance._shrunk_covariance.LedoitWolf._repr_html_inner: ', type(ret)) # noqa E501\n",
    "except Exception as e:\n",
    "    type_sklearn_covariance__shrunk_covariance_LedoitWolf__repr_html_inner = '_syft_missing'\n",
    "    print('❌ sklearn.covariance._shrunk_covariance.LedoitWolf._repr_html_inner: Return unavailable') # noqa E501\n",
    "    print(\"  Please fix this return type code until there is no exception\")\n",
    "    print('  Error:', e)\n"
   ]
  },
  {
   "cell_type": "code",
   "execution_count": null,
   "id": "creative-wrapping",
   "metadata": {},
   "outputs": [],
   "source": [
    "# sklearn.covariance._shrunk_covariance.LedoitWolf._repr_mimebundle_\n",
    "try:\n",
    "    obj = class_constructor() # noqa F821\n",
    "    ret = obj._repr_mimebundle_()\n",
    "    type_sklearn_covariance__shrunk_covariance_LedoitWolf__repr_mimebundle_ = getattr(ret, '__module__', 'none') + '.' + ret.__class__.__name__\n",
    "    print('✅ sklearn.covariance._shrunk_covariance.LedoitWolf._repr_mimebundle_: ', type(ret)) # noqa E501\n",
    "except Exception as e:\n",
    "    type_sklearn_covariance__shrunk_covariance_LedoitWolf__repr_mimebundle_ = '_syft_missing'\n",
    "    print('❌ sklearn.covariance._shrunk_covariance.LedoitWolf._repr_mimebundle_: Return unavailable') # noqa E501\n",
    "    print(\"  Please fix this return type code until there is no exception\")\n",
    "    print('  Error:', e)\n"
   ]
  },
  {
   "cell_type": "code",
   "execution_count": null,
   "id": "legislative-explorer",
   "metadata": {},
   "outputs": [],
   "source": [
    "# sklearn.covariance._shrunk_covariance.LedoitWolf._set_covariance\n",
    "try:\n",
    "    obj = class_constructor() # noqa F821\n",
    "    ret = obj._set_covariance()\n",
    "    type_sklearn_covariance__shrunk_covariance_LedoitWolf__set_covariance = getattr(ret, '__module__', 'none') + '.' + ret.__class__.__name__\n",
    "    print('✅ sklearn.covariance._shrunk_covariance.LedoitWolf._set_covariance: ', type(ret)) # noqa E501\n",
    "except Exception as e:\n",
    "    type_sklearn_covariance__shrunk_covariance_LedoitWolf__set_covariance = '_syft_missing'\n",
    "    print('❌ sklearn.covariance._shrunk_covariance.LedoitWolf._set_covariance: Return unavailable') # noqa E501\n",
    "    print(\"  Please fix this return type code until there is no exception\")\n",
    "    print('  Error:', e)\n"
   ]
  },
  {
   "cell_type": "code",
   "execution_count": null,
   "id": "mechanical-beauty",
   "metadata": {},
   "outputs": [],
   "source": [
    "# sklearn.covariance._shrunk_covariance.LedoitWolf._validate_data\n",
    "try:\n",
    "    obj = class_constructor() # noqa F821\n",
    "    ret = obj._validate_data()\n",
    "    type_sklearn_covariance__shrunk_covariance_LedoitWolf__validate_data = getattr(ret, '__module__', 'none') + '.' + ret.__class__.__name__\n",
    "    print('✅ sklearn.covariance._shrunk_covariance.LedoitWolf._validate_data: ', type(ret)) # noqa E501\n",
    "except Exception as e:\n",
    "    type_sklearn_covariance__shrunk_covariance_LedoitWolf__validate_data = '_syft_missing'\n",
    "    print('❌ sklearn.covariance._shrunk_covariance.LedoitWolf._validate_data: Return unavailable') # noqa E501\n",
    "    print(\"  Please fix this return type code until there is no exception\")\n",
    "    print('  Error:', e)\n"
   ]
  },
  {
   "cell_type": "code",
   "execution_count": null,
   "id": "falling-value",
   "metadata": {},
   "outputs": [],
   "source": [
    "# sklearn.covariance._shrunk_covariance.LedoitWolf.error_norm\n",
    "try:\n",
    "    obj = class_constructor() # noqa F821\n",
    "    ret = obj.error_norm()\n",
    "    type_sklearn_covariance__shrunk_covariance_LedoitWolf_error_norm = getattr(ret, '__module__', 'none') + '.' + ret.__class__.__name__\n",
    "    print('✅ sklearn.covariance._shrunk_covariance.LedoitWolf.error_norm: ', type(ret)) # noqa E501\n",
    "except Exception as e:\n",
    "    type_sklearn_covariance__shrunk_covariance_LedoitWolf_error_norm = '_syft_missing'\n",
    "    print('❌ sklearn.covariance._shrunk_covariance.LedoitWolf.error_norm: Return unavailable') # noqa E501\n",
    "    print(\"  Please fix this return type code until there is no exception\")\n",
    "    print('  Error:', e)\n"
   ]
  },
  {
   "cell_type": "code",
   "execution_count": null,
   "id": "referenced-judge",
   "metadata": {},
   "outputs": [],
   "source": [
    "# sklearn.covariance._shrunk_covariance.LedoitWolf.fit\n",
    "try:\n",
    "    obj = class_constructor() # noqa F821\n",
    "    ret = obj.fit()\n",
    "    type_sklearn_covariance__shrunk_covariance_LedoitWolf_fit = getattr(ret, '__module__', 'none') + '.' + ret.__class__.__name__\n",
    "    print('✅ sklearn.covariance._shrunk_covariance.LedoitWolf.fit: ', type(ret)) # noqa E501\n",
    "except Exception as e:\n",
    "    type_sklearn_covariance__shrunk_covariance_LedoitWolf_fit = '_syft_missing'\n",
    "    print('❌ sklearn.covariance._shrunk_covariance.LedoitWolf.fit: Return unavailable') # noqa E501\n",
    "    print(\"  Please fix this return type code until there is no exception\")\n",
    "    print('  Error:', e)\n"
   ]
  },
  {
   "cell_type": "code",
   "execution_count": null,
   "id": "upset-interface",
   "metadata": {},
   "outputs": [],
   "source": [
    "# sklearn.covariance._shrunk_covariance.LedoitWolf.get_params\n",
    "try:\n",
    "    obj = class_constructor() # noqa F821\n",
    "    ret = obj.get_params()\n",
    "    type_sklearn_covariance__shrunk_covariance_LedoitWolf_get_params = getattr(ret, '__module__', 'none') + '.' + ret.__class__.__name__\n",
    "    print('✅ sklearn.covariance._shrunk_covariance.LedoitWolf.get_params: ', type(ret)) # noqa E501\n",
    "except Exception as e:\n",
    "    type_sklearn_covariance__shrunk_covariance_LedoitWolf_get_params = '_syft_missing'\n",
    "    print('❌ sklearn.covariance._shrunk_covariance.LedoitWolf.get_params: Return unavailable') # noqa E501\n",
    "    print(\"  Please fix this return type code until there is no exception\")\n",
    "    print('  Error:', e)\n"
   ]
  },
  {
   "cell_type": "code",
   "execution_count": null,
   "id": "general-publicity",
   "metadata": {},
   "outputs": [],
   "source": [
    "# sklearn.covariance._shrunk_covariance.LedoitWolf.get_precision\n",
    "try:\n",
    "    obj = class_constructor() # noqa F821\n",
    "    ret = obj.get_precision()\n",
    "    type_sklearn_covariance__shrunk_covariance_LedoitWolf_get_precision = getattr(ret, '__module__', 'none') + '.' + ret.__class__.__name__\n",
    "    print('✅ sklearn.covariance._shrunk_covariance.LedoitWolf.get_precision: ', type(ret)) # noqa E501\n",
    "except Exception as e:\n",
    "    type_sklearn_covariance__shrunk_covariance_LedoitWolf_get_precision = '_syft_missing'\n",
    "    print('❌ sklearn.covariance._shrunk_covariance.LedoitWolf.get_precision: Return unavailable') # noqa E501\n",
    "    print(\"  Please fix this return type code until there is no exception\")\n",
    "    print('  Error:', e)\n"
   ]
  },
  {
   "cell_type": "code",
   "execution_count": null,
   "id": "inclusive-michael",
   "metadata": {},
   "outputs": [],
   "source": [
    "# sklearn.covariance._shrunk_covariance.LedoitWolf.mahalanobis\n",
    "try:\n",
    "    obj = class_constructor() # noqa F821\n",
    "    ret = obj.mahalanobis()\n",
    "    type_sklearn_covariance__shrunk_covariance_LedoitWolf_mahalanobis = getattr(ret, '__module__', 'none') + '.' + ret.__class__.__name__\n",
    "    print('✅ sklearn.covariance._shrunk_covariance.LedoitWolf.mahalanobis: ', type(ret)) # noqa E501\n",
    "except Exception as e:\n",
    "    type_sklearn_covariance__shrunk_covariance_LedoitWolf_mahalanobis = '_syft_missing'\n",
    "    print('❌ sklearn.covariance._shrunk_covariance.LedoitWolf.mahalanobis: Return unavailable') # noqa E501\n",
    "    print(\"  Please fix this return type code until there is no exception\")\n",
    "    print('  Error:', e)\n"
   ]
  },
  {
   "cell_type": "code",
   "execution_count": null,
   "id": "electronic-zealand",
   "metadata": {},
   "outputs": [],
   "source": [
    "# sklearn.covariance._shrunk_covariance.LedoitWolf.score\n",
    "try:\n",
    "    obj = class_constructor() # noqa F821\n",
    "    ret = obj.score()\n",
    "    type_sklearn_covariance__shrunk_covariance_LedoitWolf_score = getattr(ret, '__module__', 'none') + '.' + ret.__class__.__name__\n",
    "    print('✅ sklearn.covariance._shrunk_covariance.LedoitWolf.score: ', type(ret)) # noqa E501\n",
    "except Exception as e:\n",
    "    type_sklearn_covariance__shrunk_covariance_LedoitWolf_score = '_syft_missing'\n",
    "    print('❌ sklearn.covariance._shrunk_covariance.LedoitWolf.score: Return unavailable') # noqa E501\n",
    "    print(\"  Please fix this return type code until there is no exception\")\n",
    "    print('  Error:', e)\n"
   ]
  },
  {
   "cell_type": "code",
   "execution_count": null,
   "id": "novel-campbell",
   "metadata": {},
   "outputs": [],
   "source": [
    "# sklearn.covariance._shrunk_covariance.LedoitWolf.set_params\n",
    "try:\n",
    "    obj = class_constructor() # noqa F821\n",
    "    ret = obj.set_params()\n",
    "    type_sklearn_covariance__shrunk_covariance_LedoitWolf_set_params = getattr(ret, '__module__', 'none') + '.' + ret.__class__.__name__\n",
    "    print('✅ sklearn.covariance._shrunk_covariance.LedoitWolf.set_params: ', type(ret)) # noqa E501\n",
    "except Exception as e:\n",
    "    type_sklearn_covariance__shrunk_covariance_LedoitWolf_set_params = '_syft_missing'\n",
    "    print('❌ sklearn.covariance._shrunk_covariance.LedoitWolf.set_params: Return unavailable') # noqa E501\n",
    "    print(\"  Please fix this return type code until there is no exception\")\n",
    "    print('  Error:', e)\n"
   ]
  }
 ],
 "metadata": {},
 "nbformat": 4,
 "nbformat_minor": 5
}
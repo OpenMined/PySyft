{
 "cells": [
  {
   "cell_type": "markdown",
   "id": "noble-nebraska",
   "metadata": {},
   "source": [
    "## sklearn.feature_selection._rfe.RFECV"
   ]
  },
  {
   "cell_type": "code",
   "execution_count": null,
   "id": "streaming-period",
   "metadata": {},
   "outputs": [],
   "source": [
    "import sklearn\n",
    "def class_constructor(*args, **kwargs):\n",
    "    obj = sklearn.feature_selection._rfe.RFECV()\n",
    "    return obj\n"
   ]
  },
  {
   "cell_type": "code",
   "execution_count": null,
   "id": "about-consortium",
   "metadata": {},
   "outputs": [],
   "source": [
    "# sklearn.feature_selection._rfe.RFECV.__getstate__\n",
    "try:\n",
    "    obj = class_constructor() # noqa F821\n",
    "    ret = obj.__getstate__()\n",
    "    type_sklearn_feature_selection__rfe_RFECV___getstate__ = getattr(ret, '__module__', 'none') + '.' + ret.__class__.__name__\n",
    "    print('✅ sklearn.feature_selection._rfe.RFECV.__getstate__: ', type(ret)) # noqa E501\n",
    "except Exception as e:\n",
    "    type_sklearn_feature_selection__rfe_RFECV___getstate__ = '_syft_missing'\n",
    "    print('❌ sklearn.feature_selection._rfe.RFECV.__getstate__: Return unavailable') # noqa E501\n",
    "    print(\"  Please fix this return type code until there is no exception\")\n",
    "    print('  Error:', e)\n"
   ]
  },
  {
   "cell_type": "code",
   "execution_count": null,
   "id": "productive-audience",
   "metadata": {},
   "outputs": [],
   "source": [
    "# sklearn.feature_selection._rfe.RFECV.__repr__\n",
    "try:\n",
    "    obj = class_constructor() # noqa F821\n",
    "    ret = obj.__repr__()\n",
    "    type_sklearn_feature_selection__rfe_RFECV___repr__ = getattr(ret, '__module__', 'none') + '.' + ret.__class__.__name__\n",
    "    print('✅ sklearn.feature_selection._rfe.RFECV.__repr__: ', type(ret)) # noqa E501\n",
    "except Exception as e:\n",
    "    type_sklearn_feature_selection__rfe_RFECV___repr__ = '_syft_missing'\n",
    "    print('❌ sklearn.feature_selection._rfe.RFECV.__repr__: Return unavailable') # noqa E501\n",
    "    print(\"  Please fix this return type code until there is no exception\")\n",
    "    print('  Error:', e)\n"
   ]
  },
  {
   "cell_type": "code",
   "execution_count": null,
   "id": "complex-trinidad",
   "metadata": {},
   "outputs": [],
   "source": [
    "# sklearn.feature_selection._rfe.RFECV.__setstate__\n",
    "try:\n",
    "    obj = class_constructor() # noqa F821\n",
    "    ret = obj.__setstate__()\n",
    "    type_sklearn_feature_selection__rfe_RFECV___setstate__ = getattr(ret, '__module__', 'none') + '.' + ret.__class__.__name__\n",
    "    print('✅ sklearn.feature_selection._rfe.RFECV.__setstate__: ', type(ret)) # noqa E501\n",
    "except Exception as e:\n",
    "    type_sklearn_feature_selection__rfe_RFECV___setstate__ = '_syft_missing'\n",
    "    print('❌ sklearn.feature_selection._rfe.RFECV.__setstate__: Return unavailable') # noqa E501\n",
    "    print(\"  Please fix this return type code until there is no exception\")\n",
    "    print('  Error:', e)\n"
   ]
  },
  {
   "cell_type": "code",
   "execution_count": null,
   "id": "coordinated-livestock",
   "metadata": {},
   "outputs": [],
   "source": [
    "# sklearn.feature_selection._rfe.RFECV._check_n_features\n",
    "try:\n",
    "    obj = class_constructor() # noqa F821\n",
    "    ret = obj._check_n_features()\n",
    "    type_sklearn_feature_selection__rfe_RFECV__check_n_features = getattr(ret, '__module__', 'none') + '.' + ret.__class__.__name__\n",
    "    print('✅ sklearn.feature_selection._rfe.RFECV._check_n_features: ', type(ret)) # noqa E501\n",
    "except Exception as e:\n",
    "    type_sklearn_feature_selection__rfe_RFECV__check_n_features = '_syft_missing'\n",
    "    print('❌ sklearn.feature_selection._rfe.RFECV._check_n_features: Return unavailable') # noqa E501\n",
    "    print(\"  Please fix this return type code until there is no exception\")\n",
    "    print('  Error:', e)\n"
   ]
  },
  {
   "cell_type": "code",
   "execution_count": null,
   "id": "incorporate-cleaners",
   "metadata": {},
   "outputs": [],
   "source": [
    "# sklearn.feature_selection._rfe.RFECV._estimator_type\n",
    "try:\n",
    "    obj = class_constructor()\n",
    "    ret = obj._estimator_type\n",
    "    type_sklearn_feature_selection__rfe_RFECV__estimator_type = getattr(ret, '__module__', 'none') + '.' + ret.__class__.__name__\n",
    "    print('✅ sklearn.feature_selection._rfe.RFECV._estimator_type:', type(ret)) # noqa E501\n",
    "except Exception as e:\n",
    "    type_sklearn_feature_selection__rfe_RFECV__estimator_type = '_syft_missing'\n",
    "    print('❌ sklearn.feature_selection._rfe.RFECV._estimator_type: Return unavailable') # noqa E501\n",
    "    print(\"  Please fix this return type code until there is no exception\")\n",
    "    print('  Error:', e)\n"
   ]
  },
  {
   "cell_type": "code",
   "execution_count": null,
   "id": "absent-cuisine",
   "metadata": {},
   "outputs": [],
   "source": [
    "# sklearn.feature_selection._rfe.RFECV._fit\n",
    "try:\n",
    "    obj = class_constructor() # noqa F821\n",
    "    ret = obj._fit()\n",
    "    type_sklearn_feature_selection__rfe_RFECV__fit = getattr(ret, '__module__', 'none') + '.' + ret.__class__.__name__\n",
    "    print('✅ sklearn.feature_selection._rfe.RFECV._fit: ', type(ret)) # noqa E501\n",
    "except Exception as e:\n",
    "    type_sklearn_feature_selection__rfe_RFECV__fit = '_syft_missing'\n",
    "    print('❌ sklearn.feature_selection._rfe.RFECV._fit: Return unavailable') # noqa E501\n",
    "    print(\"  Please fix this return type code until there is no exception\")\n",
    "    print('  Error:', e)\n"
   ]
  },
  {
   "cell_type": "code",
   "execution_count": null,
   "id": "changed-federal",
   "metadata": {},
   "outputs": [],
   "source": [
    "# sklearn.feature_selection._rfe.RFECV._get_param_names\n",
    "try:\n",
    "    obj = class_constructor() # noqa F821\n",
    "    ret = obj._get_param_names()\n",
    "    type_sklearn_feature_selection__rfe_RFECV__get_param_names = getattr(ret, '__module__', 'none') + '.' + ret.__class__.__name__\n",
    "    print('✅ sklearn.feature_selection._rfe.RFECV._get_param_names: ', type(ret)) # noqa E501\n",
    "except Exception as e:\n",
    "    type_sklearn_feature_selection__rfe_RFECV__get_param_names = '_syft_missing'\n",
    "    print('❌ sklearn.feature_selection._rfe.RFECV._get_param_names: Return unavailable') # noqa E501\n",
    "    print(\"  Please fix this return type code until there is no exception\")\n",
    "    print('  Error:', e)\n"
   ]
  },
  {
   "cell_type": "code",
   "execution_count": null,
   "id": "classified-queensland",
   "metadata": {},
   "outputs": [],
   "source": [
    "# sklearn.feature_selection._rfe.RFECV._get_support_mask\n",
    "try:\n",
    "    obj = class_constructor() # noqa F821\n",
    "    ret = obj._get_support_mask()\n",
    "    type_sklearn_feature_selection__rfe_RFECV__get_support_mask = getattr(ret, '__module__', 'none') + '.' + ret.__class__.__name__\n",
    "    print('✅ sklearn.feature_selection._rfe.RFECV._get_support_mask: ', type(ret)) # noqa E501\n",
    "except Exception as e:\n",
    "    type_sklearn_feature_selection__rfe_RFECV__get_support_mask = '_syft_missing'\n",
    "    print('❌ sklearn.feature_selection._rfe.RFECV._get_support_mask: Return unavailable') # noqa E501\n",
    "    print(\"  Please fix this return type code until there is no exception\")\n",
    "    print('  Error:', e)\n"
   ]
  },
  {
   "cell_type": "code",
   "execution_count": null,
   "id": "protecting-sheriff",
   "metadata": {},
   "outputs": [],
   "source": [
    "# sklearn.feature_selection._rfe.RFECV._get_tags\n",
    "try:\n",
    "    obj = class_constructor() # noqa F821\n",
    "    ret = obj._get_tags()\n",
    "    type_sklearn_feature_selection__rfe_RFECV__get_tags = getattr(ret, '__module__', 'none') + '.' + ret.__class__.__name__\n",
    "    print('✅ sklearn.feature_selection._rfe.RFECV._get_tags: ', type(ret)) # noqa E501\n",
    "except Exception as e:\n",
    "    type_sklearn_feature_selection__rfe_RFECV__get_tags = '_syft_missing'\n",
    "    print('❌ sklearn.feature_selection._rfe.RFECV._get_tags: Return unavailable') # noqa E501\n",
    "    print(\"  Please fix this return type code until there is no exception\")\n",
    "    print('  Error:', e)\n"
   ]
  },
  {
   "cell_type": "code",
   "execution_count": null,
   "id": "sustained-packaging",
   "metadata": {},
   "outputs": [],
   "source": [
    "# sklearn.feature_selection._rfe.RFECV._more_tags\n",
    "try:\n",
    "    obj = class_constructor() # noqa F821\n",
    "    ret = obj._more_tags()\n",
    "    type_sklearn_feature_selection__rfe_RFECV__more_tags = getattr(ret, '__module__', 'none') + '.' + ret.__class__.__name__\n",
    "    print('✅ sklearn.feature_selection._rfe.RFECV._more_tags: ', type(ret)) # noqa E501\n",
    "except Exception as e:\n",
    "    type_sklearn_feature_selection__rfe_RFECV__more_tags = '_syft_missing'\n",
    "    print('❌ sklearn.feature_selection._rfe.RFECV._more_tags: Return unavailable') # noqa E501\n",
    "    print(\"  Please fix this return type code until there is no exception\")\n",
    "    print('  Error:', e)\n"
   ]
  },
  {
   "cell_type": "code",
   "execution_count": null,
   "id": "earned-group",
   "metadata": {},
   "outputs": [],
   "source": [
    "# sklearn.feature_selection._rfe.RFECV._repr_html_\n",
    "try:\n",
    "    obj = class_constructor()\n",
    "    ret = obj._repr_html_\n",
    "    type_sklearn_feature_selection__rfe_RFECV__repr_html_ = getattr(ret, '__module__', 'none') + '.' + ret.__class__.__name__\n",
    "    print('✅ sklearn.feature_selection._rfe.RFECV._repr_html_:', type(ret)) # noqa E501\n",
    "except Exception as e:\n",
    "    type_sklearn_feature_selection__rfe_RFECV__repr_html_ = '_syft_missing'\n",
    "    print('❌ sklearn.feature_selection._rfe.RFECV._repr_html_: Return unavailable') # noqa E501\n",
    "    print(\"  Please fix this return type code until there is no exception\")\n",
    "    print('  Error:', e)\n"
   ]
  },
  {
   "cell_type": "code",
   "execution_count": null,
   "id": "advisory-census",
   "metadata": {},
   "outputs": [],
   "source": [
    "# sklearn.feature_selection._rfe.RFECV._repr_html_inner\n",
    "try:\n",
    "    obj = class_constructor() # noqa F821\n",
    "    ret = obj._repr_html_inner()\n",
    "    type_sklearn_feature_selection__rfe_RFECV__repr_html_inner = getattr(ret, '__module__', 'none') + '.' + ret.__class__.__name__\n",
    "    print('✅ sklearn.feature_selection._rfe.RFECV._repr_html_inner: ', type(ret)) # noqa E501\n",
    "except Exception as e:\n",
    "    type_sklearn_feature_selection__rfe_RFECV__repr_html_inner = '_syft_missing'\n",
    "    print('❌ sklearn.feature_selection._rfe.RFECV._repr_html_inner: Return unavailable') # noqa E501\n",
    "    print(\"  Please fix this return type code until there is no exception\")\n",
    "    print('  Error:', e)\n"
   ]
  },
  {
   "cell_type": "code",
   "execution_count": null,
   "id": "vocal-robinson",
   "metadata": {},
   "outputs": [],
   "source": [
    "# sklearn.feature_selection._rfe.RFECV._repr_mimebundle_\n",
    "try:\n",
    "    obj = class_constructor() # noqa F821\n",
    "    ret = obj._repr_mimebundle_()\n",
    "    type_sklearn_feature_selection__rfe_RFECV__repr_mimebundle_ = getattr(ret, '__module__', 'none') + '.' + ret.__class__.__name__\n",
    "    print('✅ sklearn.feature_selection._rfe.RFECV._repr_mimebundle_: ', type(ret)) # noqa E501\n",
    "except Exception as e:\n",
    "    type_sklearn_feature_selection__rfe_RFECV__repr_mimebundle_ = '_syft_missing'\n",
    "    print('❌ sklearn.feature_selection._rfe.RFECV._repr_mimebundle_: Return unavailable') # noqa E501\n",
    "    print(\"  Please fix this return type code until there is no exception\")\n",
    "    print('  Error:', e)\n"
   ]
  },
  {
   "cell_type": "code",
   "execution_count": null,
   "id": "uniform-thickness",
   "metadata": {},
   "outputs": [],
   "source": [
    "# sklearn.feature_selection._rfe.RFECV._validate_data\n",
    "try:\n",
    "    obj = class_constructor() # noqa F821\n",
    "    ret = obj._validate_data()\n",
    "    type_sklearn_feature_selection__rfe_RFECV__validate_data = getattr(ret, '__module__', 'none') + '.' + ret.__class__.__name__\n",
    "    print('✅ sklearn.feature_selection._rfe.RFECV._validate_data: ', type(ret)) # noqa E501\n",
    "except Exception as e:\n",
    "    type_sklearn_feature_selection__rfe_RFECV__validate_data = '_syft_missing'\n",
    "    print('❌ sklearn.feature_selection._rfe.RFECV._validate_data: Return unavailable') # noqa E501\n",
    "    print(\"  Please fix this return type code until there is no exception\")\n",
    "    print('  Error:', e)\n"
   ]
  },
  {
   "cell_type": "code",
   "execution_count": null,
   "id": "fallen-perspective",
   "metadata": {},
   "outputs": [],
   "source": [
    "# sklearn.feature_selection._rfe.RFECV.classes_\n",
    "try:\n",
    "    obj = class_constructor()\n",
    "    ret = obj.classes_\n",
    "    type_sklearn_feature_selection__rfe_RFECV_classes_ = getattr(ret, '__module__', 'none') + '.' + ret.__class__.__name__\n",
    "    print('✅ sklearn.feature_selection._rfe.RFECV.classes_:', type(ret)) # noqa E501\n",
    "except Exception as e:\n",
    "    type_sklearn_feature_selection__rfe_RFECV_classes_ = '_syft_missing'\n",
    "    print('❌ sklearn.feature_selection._rfe.RFECV.classes_: Return unavailable') # noqa E501\n",
    "    print(\"  Please fix this return type code until there is no exception\")\n",
    "    print('  Error:', e)\n"
   ]
  },
  {
   "cell_type": "code",
   "execution_count": null,
   "id": "color-sandwich",
   "metadata": {},
   "outputs": [],
   "source": [
    "# sklearn.feature_selection._rfe.RFECV.decision_function\n",
    "try:\n",
    "    obj = class_constructor() # noqa F821\n",
    "    ret = obj.decision_function()\n",
    "    type_sklearn_feature_selection__rfe_RFECV_decision_function = getattr(ret, '__module__', 'none') + '.' + ret.__class__.__name__\n",
    "    print('✅ sklearn.feature_selection._rfe.RFECV.decision_function: ', type(ret)) # noqa E501\n",
    "except Exception as e:\n",
    "    type_sklearn_feature_selection__rfe_RFECV_decision_function = '_syft_missing'\n",
    "    print('❌ sklearn.feature_selection._rfe.RFECV.decision_function: Return unavailable') # noqa E501\n",
    "    print(\"  Please fix this return type code until there is no exception\")\n",
    "    print('  Error:', e)\n"
   ]
  },
  {
   "cell_type": "code",
   "execution_count": null,
   "id": "ordered-person",
   "metadata": {},
   "outputs": [],
   "source": [
    "# sklearn.feature_selection._rfe.RFECV.fit\n",
    "try:\n",
    "    obj = class_constructor() # noqa F821\n",
    "    ret = obj.fit()\n",
    "    type_sklearn_feature_selection__rfe_RFECV_fit = getattr(ret, '__module__', 'none') + '.' + ret.__class__.__name__\n",
    "    print('✅ sklearn.feature_selection._rfe.RFECV.fit: ', type(ret)) # noqa E501\n",
    "except Exception as e:\n",
    "    type_sklearn_feature_selection__rfe_RFECV_fit = '_syft_missing'\n",
    "    print('❌ sklearn.feature_selection._rfe.RFECV.fit: Return unavailable') # noqa E501\n",
    "    print(\"  Please fix this return type code until there is no exception\")\n",
    "    print('  Error:', e)\n"
   ]
  },
  {
   "cell_type": "code",
   "execution_count": null,
   "id": "dramatic-billion",
   "metadata": {},
   "outputs": [],
   "source": [
    "# sklearn.feature_selection._rfe.RFECV.fit_transform\n",
    "try:\n",
    "    obj = class_constructor() # noqa F821\n",
    "    ret = obj.fit_transform()\n",
    "    type_sklearn_feature_selection__rfe_RFECV_fit_transform = getattr(ret, '__module__', 'none') + '.' + ret.__class__.__name__\n",
    "    print('✅ sklearn.feature_selection._rfe.RFECV.fit_transform: ', type(ret)) # noqa E501\n",
    "except Exception as e:\n",
    "    type_sklearn_feature_selection__rfe_RFECV_fit_transform = '_syft_missing'\n",
    "    print('❌ sklearn.feature_selection._rfe.RFECV.fit_transform: Return unavailable') # noqa E501\n",
    "    print(\"  Please fix this return type code until there is no exception\")\n",
    "    print('  Error:', e)\n"
   ]
  },
  {
   "cell_type": "code",
   "execution_count": null,
   "id": "standard-buyer",
   "metadata": {},
   "outputs": [],
   "source": [
    "# sklearn.feature_selection._rfe.RFECV.get_params\n",
    "try:\n",
    "    obj = class_constructor() # noqa F821\n",
    "    ret = obj.get_params()\n",
    "    type_sklearn_feature_selection__rfe_RFECV_get_params = getattr(ret, '__module__', 'none') + '.' + ret.__class__.__name__\n",
    "    print('✅ sklearn.feature_selection._rfe.RFECV.get_params: ', type(ret)) # noqa E501\n",
    "except Exception as e:\n",
    "    type_sklearn_feature_selection__rfe_RFECV_get_params = '_syft_missing'\n",
    "    print('❌ sklearn.feature_selection._rfe.RFECV.get_params: Return unavailable') # noqa E501\n",
    "    print(\"  Please fix this return type code until there is no exception\")\n",
    "    print('  Error:', e)\n"
   ]
  },
  {
   "cell_type": "code",
   "execution_count": null,
   "id": "prompt-anniversary",
   "metadata": {},
   "outputs": [],
   "source": [
    "# sklearn.feature_selection._rfe.RFECV.get_support\n",
    "try:\n",
    "    obj = class_constructor() # noqa F821\n",
    "    ret = obj.get_support()\n",
    "    type_sklearn_feature_selection__rfe_RFECV_get_support = getattr(ret, '__module__', 'none') + '.' + ret.__class__.__name__\n",
    "    print('✅ sklearn.feature_selection._rfe.RFECV.get_support: ', type(ret)) # noqa E501\n",
    "except Exception as e:\n",
    "    type_sklearn_feature_selection__rfe_RFECV_get_support = '_syft_missing'\n",
    "    print('❌ sklearn.feature_selection._rfe.RFECV.get_support: Return unavailable') # noqa E501\n",
    "    print(\"  Please fix this return type code until there is no exception\")\n",
    "    print('  Error:', e)\n"
   ]
  },
  {
   "cell_type": "code",
   "execution_count": null,
   "id": "rocky-synthetic",
   "metadata": {},
   "outputs": [],
   "source": [
    "# sklearn.feature_selection._rfe.RFECV.inverse_transform\n",
    "try:\n",
    "    obj = class_constructor() # noqa F821\n",
    "    ret = obj.inverse_transform()\n",
    "    type_sklearn_feature_selection__rfe_RFECV_inverse_transform = getattr(ret, '__module__', 'none') + '.' + ret.__class__.__name__\n",
    "    print('✅ sklearn.feature_selection._rfe.RFECV.inverse_transform: ', type(ret)) # noqa E501\n",
    "except Exception as e:\n",
    "    type_sklearn_feature_selection__rfe_RFECV_inverse_transform = '_syft_missing'\n",
    "    print('❌ sklearn.feature_selection._rfe.RFECV.inverse_transform: Return unavailable') # noqa E501\n",
    "    print(\"  Please fix this return type code until there is no exception\")\n",
    "    print('  Error:', e)\n"
   ]
  },
  {
   "cell_type": "code",
   "execution_count": null,
   "id": "buried-species",
   "metadata": {},
   "outputs": [],
   "source": [
    "# sklearn.feature_selection._rfe.RFECV.predict\n",
    "try:\n",
    "    obj = class_constructor() # noqa F821\n",
    "    ret = obj.predict()\n",
    "    type_sklearn_feature_selection__rfe_RFECV_predict = getattr(ret, '__module__', 'none') + '.' + ret.__class__.__name__\n",
    "    print('✅ sklearn.feature_selection._rfe.RFECV.predict: ', type(ret)) # noqa E501\n",
    "except Exception as e:\n",
    "    type_sklearn_feature_selection__rfe_RFECV_predict = '_syft_missing'\n",
    "    print('❌ sklearn.feature_selection._rfe.RFECV.predict: Return unavailable') # noqa E501\n",
    "    print(\"  Please fix this return type code until there is no exception\")\n",
    "    print('  Error:', e)\n"
   ]
  },
  {
   "cell_type": "code",
   "execution_count": null,
   "id": "guided-quarterly",
   "metadata": {},
   "outputs": [],
   "source": [
    "# sklearn.feature_selection._rfe.RFECV.predict_log_proba\n",
    "try:\n",
    "    obj = class_constructor() # noqa F821\n",
    "    ret = obj.predict_log_proba()\n",
    "    type_sklearn_feature_selection__rfe_RFECV_predict_log_proba = getattr(ret, '__module__', 'none') + '.' + ret.__class__.__name__\n",
    "    print('✅ sklearn.feature_selection._rfe.RFECV.predict_log_proba: ', type(ret)) # noqa E501\n",
    "except Exception as e:\n",
    "    type_sklearn_feature_selection__rfe_RFECV_predict_log_proba = '_syft_missing'\n",
    "    print('❌ sklearn.feature_selection._rfe.RFECV.predict_log_proba: Return unavailable') # noqa E501\n",
    "    print(\"  Please fix this return type code until there is no exception\")\n",
    "    print('  Error:', e)\n"
   ]
  },
  {
   "cell_type": "code",
   "execution_count": null,
   "id": "faced-decimal",
   "metadata": {},
   "outputs": [],
   "source": [
    "# sklearn.feature_selection._rfe.RFECV.predict_proba\n",
    "try:\n",
    "    obj = class_constructor() # noqa F821\n",
    "    ret = obj.predict_proba()\n",
    "    type_sklearn_feature_selection__rfe_RFECV_predict_proba = getattr(ret, '__module__', 'none') + '.' + ret.__class__.__name__\n",
    "    print('✅ sklearn.feature_selection._rfe.RFECV.predict_proba: ', type(ret)) # noqa E501\n",
    "except Exception as e:\n",
    "    type_sklearn_feature_selection__rfe_RFECV_predict_proba = '_syft_missing'\n",
    "    print('❌ sklearn.feature_selection._rfe.RFECV.predict_proba: Return unavailable') # noqa E501\n",
    "    print(\"  Please fix this return type code until there is no exception\")\n",
    "    print('  Error:', e)\n"
   ]
  },
  {
   "cell_type": "code",
   "execution_count": null,
   "id": "electric-garage",
   "metadata": {},
   "outputs": [],
   "source": [
    "# sklearn.feature_selection._rfe.RFECV.score\n",
    "try:\n",
    "    obj = class_constructor() # noqa F821\n",
    "    ret = obj.score()\n",
    "    type_sklearn_feature_selection__rfe_RFECV_score = getattr(ret, '__module__', 'none') + '.' + ret.__class__.__name__\n",
    "    print('✅ sklearn.feature_selection._rfe.RFECV.score: ', type(ret)) # noqa E501\n",
    "except Exception as e:\n",
    "    type_sklearn_feature_selection__rfe_RFECV_score = '_syft_missing'\n",
    "    print('❌ sklearn.feature_selection._rfe.RFECV.score: Return unavailable') # noqa E501\n",
    "    print(\"  Please fix this return type code until there is no exception\")\n",
    "    print('  Error:', e)\n"
   ]
  },
  {
   "cell_type": "code",
   "execution_count": null,
   "id": "owned-panic",
   "metadata": {},
   "outputs": [],
   "source": [
    "# sklearn.feature_selection._rfe.RFECV.set_params\n",
    "try:\n",
    "    obj = class_constructor() # noqa F821\n",
    "    ret = obj.set_params()\n",
    "    type_sklearn_feature_selection__rfe_RFECV_set_params = getattr(ret, '__module__', 'none') + '.' + ret.__class__.__name__\n",
    "    print('✅ sklearn.feature_selection._rfe.RFECV.set_params: ', type(ret)) # noqa E501\n",
    "except Exception as e:\n",
    "    type_sklearn_feature_selection__rfe_RFECV_set_params = '_syft_missing'\n",
    "    print('❌ sklearn.feature_selection._rfe.RFECV.set_params: Return unavailable') # noqa E501\n",
    "    print(\"  Please fix this return type code until there is no exception\")\n",
    "    print('  Error:', e)\n"
   ]
  },
  {
   "cell_type": "code",
   "execution_count": null,
   "id": "rapid-oxford",
   "metadata": {},
   "outputs": [],
   "source": [
    "# sklearn.feature_selection._rfe.RFECV.transform\n",
    "try:\n",
    "    obj = class_constructor() # noqa F821\n",
    "    ret = obj.transform()\n",
    "    type_sklearn_feature_selection__rfe_RFECV_transform = getattr(ret, '__module__', 'none') + '.' + ret.__class__.__name__\n",
    "    print('✅ sklearn.feature_selection._rfe.RFECV.transform: ', type(ret)) # noqa E501\n",
    "except Exception as e:\n",
    "    type_sklearn_feature_selection__rfe_RFECV_transform = '_syft_missing'\n",
    "    print('❌ sklearn.feature_selection._rfe.RFECV.transform: Return unavailable') # noqa E501\n",
    "    print(\"  Please fix this return type code until there is no exception\")\n",
    "    print('  Error:', e)\n"
   ]
  }
 ],
 "metadata": {},
 "nbformat": 4,
 "nbformat_minor": 5
}
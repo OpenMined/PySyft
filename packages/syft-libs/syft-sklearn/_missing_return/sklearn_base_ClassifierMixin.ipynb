{
 "cells": [
  {
   "cell_type": "markdown",
   "id": "adolescent-aside",
   "metadata": {},
   "source": [
    "## sklearn.base.ClassifierMixin"
   ]
  },
  {
   "cell_type": "code",
   "execution_count": null,
   "id": "hollow-alberta",
   "metadata": {},
   "outputs": [],
   "source": [
    "import sklearn\n",
    "def class_constructor(*args, **kwargs):\n",
    "    obj = sklearn.base.ClassifierMixin()\n",
    "    return obj\n"
   ]
  },
  {
   "cell_type": "code",
   "execution_count": null,
   "id": "moral-transformation",
   "metadata": {},
   "outputs": [],
   "source": [
    "# sklearn.base.ClassifierMixin._more_tags\n",
    "try:\n",
    "    obj = class_constructor() # noqa F821\n",
    "    ret = obj._more_tags()\n",
    "    type_sklearn_base_ClassifierMixin__more_tags = getattr(ret, '__module__', 'none') + '.' + ret.__class__.__name__\n",
    "    print('✅ sklearn.base.ClassifierMixin._more_tags: ', type(ret)) # noqa E501\n",
    "except Exception as e:\n",
    "    type_sklearn_base_ClassifierMixin__more_tags = '_syft_missing'\n",
    "    print('❌ sklearn.base.ClassifierMixin._more_tags: Return unavailable') # noqa E501\n",
    "    print(\"  Please fix this return type code until there is no exception\")\n",
    "    print('  Error:', e)\n"
   ]
  },
  {
   "cell_type": "code",
   "execution_count": null,
   "id": "handmade-algorithm",
   "metadata": {},
   "outputs": [],
   "source": [
    "# sklearn.base.ClassifierMixin.score\n",
    "try:\n",
    "    obj = class_constructor() # noqa F821\n",
    "    ret = obj.score()\n",
    "    type_sklearn_base_ClassifierMixin_score = getattr(ret, '__module__', 'none') + '.' + ret.__class__.__name__\n",
    "    print('✅ sklearn.base.ClassifierMixin.score: ', type(ret)) # noqa E501\n",
    "except Exception as e:\n",
    "    type_sklearn_base_ClassifierMixin_score = '_syft_missing'\n",
    "    print('❌ sklearn.base.ClassifierMixin.score: Return unavailable') # noqa E501\n",
    "    print(\"  Please fix this return type code until there is no exception\")\n",
    "    print('  Error:', e)\n"
   ]
  }
 ],
 "metadata": {},
 "nbformat": 4,
 "nbformat_minor": 5
}
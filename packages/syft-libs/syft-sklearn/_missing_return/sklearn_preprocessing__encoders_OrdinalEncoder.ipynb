{
 "cells": [
  {
   "cell_type": "markdown",
   "id": "dated-russian",
   "metadata": {},
   "source": [
    "## sklearn.preprocessing._encoders.OrdinalEncoder"
   ]
  },
  {
   "cell_type": "code",
   "execution_count": null,
   "id": "subtle-danger",
   "metadata": {},
   "outputs": [],
   "source": [
    "import sklearn\n",
    "def class_constructor(*args, **kwargs):\n",
    "    obj = sklearn.preprocessing._encoders.OrdinalEncoder()\n",
    "    return obj\n"
   ]
  },
  {
   "cell_type": "code",
   "execution_count": null,
   "id": "bored-publication",
   "metadata": {},
   "outputs": [],
   "source": [
    "# sklearn.preprocessing._encoders.OrdinalEncoder.__getstate__\n",
    "try:\n",
    "    obj = class_constructor() # noqa F821\n",
    "    ret = obj.__getstate__()\n",
    "    type_sklearn_preprocessing__encoders_OrdinalEncoder___getstate__ = getattr(ret, '__module__', 'none') + '.' + ret.__class__.__name__\n",
    "    print('✅ sklearn.preprocessing._encoders.OrdinalEncoder.__getstate__: ', type(ret)) # noqa E501\n",
    "except Exception as e:\n",
    "    type_sklearn_preprocessing__encoders_OrdinalEncoder___getstate__ = '_syft_missing'\n",
    "    print('❌ sklearn.preprocessing._encoders.OrdinalEncoder.__getstate__: Return unavailable') # noqa E501\n",
    "    print(\"  Please fix this return type code until there is no exception\")\n",
    "    print('  Error:', e)\n"
   ]
  },
  {
   "cell_type": "code",
   "execution_count": null,
   "id": "noble-removal",
   "metadata": {},
   "outputs": [],
   "source": [
    "# sklearn.preprocessing._encoders.OrdinalEncoder.__repr__\n",
    "try:\n",
    "    obj = class_constructor() # noqa F821\n",
    "    ret = obj.__repr__()\n",
    "    type_sklearn_preprocessing__encoders_OrdinalEncoder___repr__ = getattr(ret, '__module__', 'none') + '.' + ret.__class__.__name__\n",
    "    print('✅ sklearn.preprocessing._encoders.OrdinalEncoder.__repr__: ', type(ret)) # noqa E501\n",
    "except Exception as e:\n",
    "    type_sklearn_preprocessing__encoders_OrdinalEncoder___repr__ = '_syft_missing'\n",
    "    print('❌ sklearn.preprocessing._encoders.OrdinalEncoder.__repr__: Return unavailable') # noqa E501\n",
    "    print(\"  Please fix this return type code until there is no exception\")\n",
    "    print('  Error:', e)\n"
   ]
  },
  {
   "cell_type": "code",
   "execution_count": null,
   "id": "south-addition",
   "metadata": {},
   "outputs": [],
   "source": [
    "# sklearn.preprocessing._encoders.OrdinalEncoder.__setstate__\n",
    "try:\n",
    "    obj = class_constructor() # noqa F821\n",
    "    ret = obj.__setstate__()\n",
    "    type_sklearn_preprocessing__encoders_OrdinalEncoder___setstate__ = getattr(ret, '__module__', 'none') + '.' + ret.__class__.__name__\n",
    "    print('✅ sklearn.preprocessing._encoders.OrdinalEncoder.__setstate__: ', type(ret)) # noqa E501\n",
    "except Exception as e:\n",
    "    type_sklearn_preprocessing__encoders_OrdinalEncoder___setstate__ = '_syft_missing'\n",
    "    print('❌ sklearn.preprocessing._encoders.OrdinalEncoder.__setstate__: Return unavailable') # noqa E501\n",
    "    print(\"  Please fix this return type code until there is no exception\")\n",
    "    print('  Error:', e)\n"
   ]
  },
  {
   "cell_type": "code",
   "execution_count": null,
   "id": "naked-service",
   "metadata": {},
   "outputs": [],
   "source": [
    "# sklearn.preprocessing._encoders.OrdinalEncoder._check_X\n",
    "try:\n",
    "    obj = class_constructor() # noqa F821\n",
    "    ret = obj._check_X()\n",
    "    type_sklearn_preprocessing__encoders_OrdinalEncoder__check_X = getattr(ret, '__module__', 'none') + '.' + ret.__class__.__name__\n",
    "    print('✅ sklearn.preprocessing._encoders.OrdinalEncoder._check_X: ', type(ret)) # noqa E501\n",
    "except Exception as e:\n",
    "    type_sklearn_preprocessing__encoders_OrdinalEncoder__check_X = '_syft_missing'\n",
    "    print('❌ sklearn.preprocessing._encoders.OrdinalEncoder._check_X: Return unavailable') # noqa E501\n",
    "    print(\"  Please fix this return type code until there is no exception\")\n",
    "    print('  Error:', e)\n"
   ]
  },
  {
   "cell_type": "code",
   "execution_count": null,
   "id": "lesbian-finding",
   "metadata": {},
   "outputs": [],
   "source": [
    "# sklearn.preprocessing._encoders.OrdinalEncoder._check_n_features\n",
    "try:\n",
    "    obj = class_constructor() # noqa F821\n",
    "    ret = obj._check_n_features()\n",
    "    type_sklearn_preprocessing__encoders_OrdinalEncoder__check_n_features = getattr(ret, '__module__', 'none') + '.' + ret.__class__.__name__\n",
    "    print('✅ sklearn.preprocessing._encoders.OrdinalEncoder._check_n_features: ', type(ret)) # noqa E501\n",
    "except Exception as e:\n",
    "    type_sklearn_preprocessing__encoders_OrdinalEncoder__check_n_features = '_syft_missing'\n",
    "    print('❌ sklearn.preprocessing._encoders.OrdinalEncoder._check_n_features: Return unavailable') # noqa E501\n",
    "    print(\"  Please fix this return type code until there is no exception\")\n",
    "    print('  Error:', e)\n"
   ]
  },
  {
   "cell_type": "code",
   "execution_count": null,
   "id": "sound-encoding",
   "metadata": {},
   "outputs": [],
   "source": [
    "# sklearn.preprocessing._encoders.OrdinalEncoder._fit\n",
    "try:\n",
    "    obj = class_constructor() # noqa F821\n",
    "    ret = obj._fit()\n",
    "    type_sklearn_preprocessing__encoders_OrdinalEncoder__fit = getattr(ret, '__module__', 'none') + '.' + ret.__class__.__name__\n",
    "    print('✅ sklearn.preprocessing._encoders.OrdinalEncoder._fit: ', type(ret)) # noqa E501\n",
    "except Exception as e:\n",
    "    type_sklearn_preprocessing__encoders_OrdinalEncoder__fit = '_syft_missing'\n",
    "    print('❌ sklearn.preprocessing._encoders.OrdinalEncoder._fit: Return unavailable') # noqa E501\n",
    "    print(\"  Please fix this return type code until there is no exception\")\n",
    "    print('  Error:', e)\n"
   ]
  },
  {
   "cell_type": "code",
   "execution_count": null,
   "id": "cathedral-unemployment",
   "metadata": {},
   "outputs": [],
   "source": [
    "# sklearn.preprocessing._encoders.OrdinalEncoder._get_feature\n",
    "try:\n",
    "    obj = class_constructor() # noqa F821\n",
    "    ret = obj._get_feature()\n",
    "    type_sklearn_preprocessing__encoders_OrdinalEncoder__get_feature = getattr(ret, '__module__', 'none') + '.' + ret.__class__.__name__\n",
    "    print('✅ sklearn.preprocessing._encoders.OrdinalEncoder._get_feature: ', type(ret)) # noqa E501\n",
    "except Exception as e:\n",
    "    type_sklearn_preprocessing__encoders_OrdinalEncoder__get_feature = '_syft_missing'\n",
    "    print('❌ sklearn.preprocessing._encoders.OrdinalEncoder._get_feature: Return unavailable') # noqa E501\n",
    "    print(\"  Please fix this return type code until there is no exception\")\n",
    "    print('  Error:', e)\n"
   ]
  },
  {
   "cell_type": "code",
   "execution_count": null,
   "id": "animated-spanking",
   "metadata": {},
   "outputs": [],
   "source": [
    "# sklearn.preprocessing._encoders.OrdinalEncoder._get_param_names\n",
    "try:\n",
    "    obj = class_constructor() # noqa F821\n",
    "    ret = obj._get_param_names()\n",
    "    type_sklearn_preprocessing__encoders_OrdinalEncoder__get_param_names = getattr(ret, '__module__', 'none') + '.' + ret.__class__.__name__\n",
    "    print('✅ sklearn.preprocessing._encoders.OrdinalEncoder._get_param_names: ', type(ret)) # noqa E501\n",
    "except Exception as e:\n",
    "    type_sklearn_preprocessing__encoders_OrdinalEncoder__get_param_names = '_syft_missing'\n",
    "    print('❌ sklearn.preprocessing._encoders.OrdinalEncoder._get_param_names: Return unavailable') # noqa E501\n",
    "    print(\"  Please fix this return type code until there is no exception\")\n",
    "    print('  Error:', e)\n"
   ]
  },
  {
   "cell_type": "code",
   "execution_count": null,
   "id": "postal-stone",
   "metadata": {},
   "outputs": [],
   "source": [
    "# sklearn.preprocessing._encoders.OrdinalEncoder._get_tags\n",
    "try:\n",
    "    obj = class_constructor() # noqa F821\n",
    "    ret = obj._get_tags()\n",
    "    type_sklearn_preprocessing__encoders_OrdinalEncoder__get_tags = getattr(ret, '__module__', 'none') + '.' + ret.__class__.__name__\n",
    "    print('✅ sklearn.preprocessing._encoders.OrdinalEncoder._get_tags: ', type(ret)) # noqa E501\n",
    "except Exception as e:\n",
    "    type_sklearn_preprocessing__encoders_OrdinalEncoder__get_tags = '_syft_missing'\n",
    "    print('❌ sklearn.preprocessing._encoders.OrdinalEncoder._get_tags: Return unavailable') # noqa E501\n",
    "    print(\"  Please fix this return type code until there is no exception\")\n",
    "    print('  Error:', e)\n"
   ]
  },
  {
   "cell_type": "code",
   "execution_count": null,
   "id": "accessory-savannah",
   "metadata": {},
   "outputs": [],
   "source": [
    "# sklearn.preprocessing._encoders.OrdinalEncoder._more_tags\n",
    "try:\n",
    "    obj = class_constructor() # noqa F821\n",
    "    ret = obj._more_tags()\n",
    "    type_sklearn_preprocessing__encoders_OrdinalEncoder__more_tags = getattr(ret, '__module__', 'none') + '.' + ret.__class__.__name__\n",
    "    print('✅ sklearn.preprocessing._encoders.OrdinalEncoder._more_tags: ', type(ret)) # noqa E501\n",
    "except Exception as e:\n",
    "    type_sklearn_preprocessing__encoders_OrdinalEncoder__more_tags = '_syft_missing'\n",
    "    print('❌ sklearn.preprocessing._encoders.OrdinalEncoder._more_tags: Return unavailable') # noqa E501\n",
    "    print(\"  Please fix this return type code until there is no exception\")\n",
    "    print('  Error:', e)\n"
   ]
  },
  {
   "cell_type": "code",
   "execution_count": null,
   "id": "foster-socket",
   "metadata": {},
   "outputs": [],
   "source": [
    "# sklearn.preprocessing._encoders.OrdinalEncoder._repr_html_\n",
    "try:\n",
    "    obj = class_constructor()\n",
    "    ret = obj._repr_html_\n",
    "    type_sklearn_preprocessing__encoders_OrdinalEncoder__repr_html_ = getattr(ret, '__module__', 'none') + '.' + ret.__class__.__name__\n",
    "    print('✅ sklearn.preprocessing._encoders.OrdinalEncoder._repr_html_:', type(ret)) # noqa E501\n",
    "except Exception as e:\n",
    "    type_sklearn_preprocessing__encoders_OrdinalEncoder__repr_html_ = '_syft_missing'\n",
    "    print('❌ sklearn.preprocessing._encoders.OrdinalEncoder._repr_html_: Return unavailable') # noqa E501\n",
    "    print(\"  Please fix this return type code until there is no exception\")\n",
    "    print('  Error:', e)\n"
   ]
  },
  {
   "cell_type": "code",
   "execution_count": null,
   "id": "compound-andrews",
   "metadata": {},
   "outputs": [],
   "source": [
    "# sklearn.preprocessing._encoders.OrdinalEncoder._repr_html_inner\n",
    "try:\n",
    "    obj = class_constructor() # noqa F821\n",
    "    ret = obj._repr_html_inner()\n",
    "    type_sklearn_preprocessing__encoders_OrdinalEncoder__repr_html_inner = getattr(ret, '__module__', 'none') + '.' + ret.__class__.__name__\n",
    "    print('✅ sklearn.preprocessing._encoders.OrdinalEncoder._repr_html_inner: ', type(ret)) # noqa E501\n",
    "except Exception as e:\n",
    "    type_sklearn_preprocessing__encoders_OrdinalEncoder__repr_html_inner = '_syft_missing'\n",
    "    print('❌ sklearn.preprocessing._encoders.OrdinalEncoder._repr_html_inner: Return unavailable') # noqa E501\n",
    "    print(\"  Please fix this return type code until there is no exception\")\n",
    "    print('  Error:', e)\n"
   ]
  },
  {
   "cell_type": "code",
   "execution_count": null,
   "id": "worthy-ancient",
   "metadata": {},
   "outputs": [],
   "source": [
    "# sklearn.preprocessing._encoders.OrdinalEncoder._repr_mimebundle_\n",
    "try:\n",
    "    obj = class_constructor() # noqa F821\n",
    "    ret = obj._repr_mimebundle_()\n",
    "    type_sklearn_preprocessing__encoders_OrdinalEncoder__repr_mimebundle_ = getattr(ret, '__module__', 'none') + '.' + ret.__class__.__name__\n",
    "    print('✅ sklearn.preprocessing._encoders.OrdinalEncoder._repr_mimebundle_: ', type(ret)) # noqa E501\n",
    "except Exception as e:\n",
    "    type_sklearn_preprocessing__encoders_OrdinalEncoder__repr_mimebundle_ = '_syft_missing'\n",
    "    print('❌ sklearn.preprocessing._encoders.OrdinalEncoder._repr_mimebundle_: Return unavailable') # noqa E501\n",
    "    print(\"  Please fix this return type code until there is no exception\")\n",
    "    print('  Error:', e)\n"
   ]
  },
  {
   "cell_type": "code",
   "execution_count": null,
   "id": "choice-senior",
   "metadata": {},
   "outputs": [],
   "source": [
    "# sklearn.preprocessing._encoders.OrdinalEncoder._transform\n",
    "try:\n",
    "    obj = class_constructor() # noqa F821\n",
    "    ret = obj._transform()\n",
    "    type_sklearn_preprocessing__encoders_OrdinalEncoder__transform = getattr(ret, '__module__', 'none') + '.' + ret.__class__.__name__\n",
    "    print('✅ sklearn.preprocessing._encoders.OrdinalEncoder._transform: ', type(ret)) # noqa E501\n",
    "except Exception as e:\n",
    "    type_sklearn_preprocessing__encoders_OrdinalEncoder__transform = '_syft_missing'\n",
    "    print('❌ sklearn.preprocessing._encoders.OrdinalEncoder._transform: Return unavailable') # noqa E501\n",
    "    print(\"  Please fix this return type code until there is no exception\")\n",
    "    print('  Error:', e)\n"
   ]
  },
  {
   "cell_type": "code",
   "execution_count": null,
   "id": "junior-oakland",
   "metadata": {},
   "outputs": [],
   "source": [
    "# sklearn.preprocessing._encoders.OrdinalEncoder._validate_data\n",
    "try:\n",
    "    obj = class_constructor() # noqa F821\n",
    "    ret = obj._validate_data()\n",
    "    type_sklearn_preprocessing__encoders_OrdinalEncoder__validate_data = getattr(ret, '__module__', 'none') + '.' + ret.__class__.__name__\n",
    "    print('✅ sklearn.preprocessing._encoders.OrdinalEncoder._validate_data: ', type(ret)) # noqa E501\n",
    "except Exception as e:\n",
    "    type_sklearn_preprocessing__encoders_OrdinalEncoder__validate_data = '_syft_missing'\n",
    "    print('❌ sklearn.preprocessing._encoders.OrdinalEncoder._validate_data: Return unavailable') # noqa E501\n",
    "    print(\"  Please fix this return type code until there is no exception\")\n",
    "    print('  Error:', e)\n"
   ]
  },
  {
   "cell_type": "code",
   "execution_count": null,
   "id": "russian-colony",
   "metadata": {},
   "outputs": [],
   "source": [
    "# sklearn.preprocessing._encoders.OrdinalEncoder.fit\n",
    "try:\n",
    "    obj = class_constructor() # noqa F821\n",
    "    ret = obj.fit()\n",
    "    type_sklearn_preprocessing__encoders_OrdinalEncoder_fit = getattr(ret, '__module__', 'none') + '.' + ret.__class__.__name__\n",
    "    print('✅ sklearn.preprocessing._encoders.OrdinalEncoder.fit: ', type(ret)) # noqa E501\n",
    "except Exception as e:\n",
    "    type_sklearn_preprocessing__encoders_OrdinalEncoder_fit = '_syft_missing'\n",
    "    print('❌ sklearn.preprocessing._encoders.OrdinalEncoder.fit: Return unavailable') # noqa E501\n",
    "    print(\"  Please fix this return type code until there is no exception\")\n",
    "    print('  Error:', e)\n"
   ]
  },
  {
   "cell_type": "code",
   "execution_count": null,
   "id": "disabled-radius",
   "metadata": {},
   "outputs": [],
   "source": [
    "# sklearn.preprocessing._encoders.OrdinalEncoder.fit_transform\n",
    "try:\n",
    "    obj = class_constructor() # noqa F821\n",
    "    ret = obj.fit_transform()\n",
    "    type_sklearn_preprocessing__encoders_OrdinalEncoder_fit_transform = getattr(ret, '__module__', 'none') + '.' + ret.__class__.__name__\n",
    "    print('✅ sklearn.preprocessing._encoders.OrdinalEncoder.fit_transform: ', type(ret)) # noqa E501\n",
    "except Exception as e:\n",
    "    type_sklearn_preprocessing__encoders_OrdinalEncoder_fit_transform = '_syft_missing'\n",
    "    print('❌ sklearn.preprocessing._encoders.OrdinalEncoder.fit_transform: Return unavailable') # noqa E501\n",
    "    print(\"  Please fix this return type code until there is no exception\")\n",
    "    print('  Error:', e)\n"
   ]
  },
  {
   "cell_type": "code",
   "execution_count": null,
   "id": "adapted-flooring",
   "metadata": {},
   "outputs": [],
   "source": [
    "# sklearn.preprocessing._encoders.OrdinalEncoder.get_params\n",
    "try:\n",
    "    obj = class_constructor() # noqa F821\n",
    "    ret = obj.get_params()\n",
    "    type_sklearn_preprocessing__encoders_OrdinalEncoder_get_params = getattr(ret, '__module__', 'none') + '.' + ret.__class__.__name__\n",
    "    print('✅ sklearn.preprocessing._encoders.OrdinalEncoder.get_params: ', type(ret)) # noqa E501\n",
    "except Exception as e:\n",
    "    type_sklearn_preprocessing__encoders_OrdinalEncoder_get_params = '_syft_missing'\n",
    "    print('❌ sklearn.preprocessing._encoders.OrdinalEncoder.get_params: Return unavailable') # noqa E501\n",
    "    print(\"  Please fix this return type code until there is no exception\")\n",
    "    print('  Error:', e)\n"
   ]
  },
  {
   "cell_type": "code",
   "execution_count": null,
   "id": "surprising-reggae",
   "metadata": {},
   "outputs": [],
   "source": [
    "# sklearn.preprocessing._encoders.OrdinalEncoder.inverse_transform\n",
    "try:\n",
    "    obj = class_constructor() # noqa F821\n",
    "    ret = obj.inverse_transform()\n",
    "    type_sklearn_preprocessing__encoders_OrdinalEncoder_inverse_transform = getattr(ret, '__module__', 'none') + '.' + ret.__class__.__name__\n",
    "    print('✅ sklearn.preprocessing._encoders.OrdinalEncoder.inverse_transform: ', type(ret)) # noqa E501\n",
    "except Exception as e:\n",
    "    type_sklearn_preprocessing__encoders_OrdinalEncoder_inverse_transform = '_syft_missing'\n",
    "    print('❌ sklearn.preprocessing._encoders.OrdinalEncoder.inverse_transform: Return unavailable') # noqa E501\n",
    "    print(\"  Please fix this return type code until there is no exception\")\n",
    "    print('  Error:', e)\n"
   ]
  },
  {
   "cell_type": "code",
   "execution_count": null,
   "id": "sublime-hydrogen",
   "metadata": {},
   "outputs": [],
   "source": [
    "# sklearn.preprocessing._encoders.OrdinalEncoder.set_params\n",
    "try:\n",
    "    obj = class_constructor() # noqa F821\n",
    "    ret = obj.set_params()\n",
    "    type_sklearn_preprocessing__encoders_OrdinalEncoder_set_params = getattr(ret, '__module__', 'none') + '.' + ret.__class__.__name__\n",
    "    print('✅ sklearn.preprocessing._encoders.OrdinalEncoder.set_params: ', type(ret)) # noqa E501\n",
    "except Exception as e:\n",
    "    type_sklearn_preprocessing__encoders_OrdinalEncoder_set_params = '_syft_missing'\n",
    "    print('❌ sklearn.preprocessing._encoders.OrdinalEncoder.set_params: Return unavailable') # noqa E501\n",
    "    print(\"  Please fix this return type code until there is no exception\")\n",
    "    print('  Error:', e)\n"
   ]
  },
  {
   "cell_type": "code",
   "execution_count": null,
   "id": "legal-ottawa",
   "metadata": {},
   "outputs": [],
   "source": [
    "# sklearn.preprocessing._encoders.OrdinalEncoder.transform\n",
    "try:\n",
    "    obj = class_constructor() # noqa F821\n",
    "    ret = obj.transform()\n",
    "    type_sklearn_preprocessing__encoders_OrdinalEncoder_transform = getattr(ret, '__module__', 'none') + '.' + ret.__class__.__name__\n",
    "    print('✅ sklearn.preprocessing._encoders.OrdinalEncoder.transform: ', type(ret)) # noqa E501\n",
    "except Exception as e:\n",
    "    type_sklearn_preprocessing__encoders_OrdinalEncoder_transform = '_syft_missing'\n",
    "    print('❌ sklearn.preprocessing._encoders.OrdinalEncoder.transform: Return unavailable') # noqa E501\n",
    "    print(\"  Please fix this return type code until there is no exception\")\n",
    "    print('  Error:', e)\n"
   ]
  }
 ],
 "metadata": {},
 "nbformat": 4,
 "nbformat_minor": 5
}
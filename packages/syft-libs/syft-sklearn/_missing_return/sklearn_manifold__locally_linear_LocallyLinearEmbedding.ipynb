{
 "cells": [
  {
   "cell_type": "markdown",
   "id": "steady-lingerie",
   "metadata": {},
   "source": [
    "## sklearn.manifold._locally_linear.LocallyLinearEmbedding"
   ]
  },
  {
   "cell_type": "code",
   "execution_count": null,
   "id": "political-exhibition",
   "metadata": {},
   "outputs": [],
   "source": [
    "import sklearn\n",
    "def class_constructor(*args, **kwargs):\n",
    "    obj = sklearn.manifold._locally_linear.LocallyLinearEmbedding()\n",
    "    return obj\n"
   ]
  },
  {
   "cell_type": "code",
   "execution_count": null,
   "id": "careful-puppy",
   "metadata": {},
   "outputs": [],
   "source": [
    "# sklearn.manifold._locally_linear.LocallyLinearEmbedding.__getstate__\n",
    "try:\n",
    "    obj = class_constructor() # noqa F821\n",
    "    ret = obj.__getstate__()\n",
    "    type_sklearn_manifold__locally_linear_LocallyLinearEmbedding___getstate__ = getattr(ret, '__module__', 'none') + '.' + ret.__class__.__name__\n",
    "    print('✅ sklearn.manifold._locally_linear.LocallyLinearEmbedding.__getstate__: ', type(ret)) # noqa E501\n",
    "except Exception as e:\n",
    "    type_sklearn_manifold__locally_linear_LocallyLinearEmbedding___getstate__ = '_syft_missing'\n",
    "    print('❌ sklearn.manifold._locally_linear.LocallyLinearEmbedding.__getstate__: Return unavailable') # noqa E501\n",
    "    print(\"  Please fix this return type code until there is no exception\")\n",
    "    print('  Error:', e)\n"
   ]
  },
  {
   "cell_type": "code",
   "execution_count": null,
   "id": "capable-italian",
   "metadata": {},
   "outputs": [],
   "source": [
    "# sklearn.manifold._locally_linear.LocallyLinearEmbedding.__repr__\n",
    "try:\n",
    "    obj = class_constructor() # noqa F821\n",
    "    ret = obj.__repr__()\n",
    "    type_sklearn_manifold__locally_linear_LocallyLinearEmbedding___repr__ = getattr(ret, '__module__', 'none') + '.' + ret.__class__.__name__\n",
    "    print('✅ sklearn.manifold._locally_linear.LocallyLinearEmbedding.__repr__: ', type(ret)) # noqa E501\n",
    "except Exception as e:\n",
    "    type_sklearn_manifold__locally_linear_LocallyLinearEmbedding___repr__ = '_syft_missing'\n",
    "    print('❌ sklearn.manifold._locally_linear.LocallyLinearEmbedding.__repr__: Return unavailable') # noqa E501\n",
    "    print(\"  Please fix this return type code until there is no exception\")\n",
    "    print('  Error:', e)\n"
   ]
  },
  {
   "cell_type": "code",
   "execution_count": null,
   "id": "incorporate-cheese",
   "metadata": {},
   "outputs": [],
   "source": [
    "# sklearn.manifold._locally_linear.LocallyLinearEmbedding.__setstate__\n",
    "try:\n",
    "    obj = class_constructor() # noqa F821\n",
    "    ret = obj.__setstate__()\n",
    "    type_sklearn_manifold__locally_linear_LocallyLinearEmbedding___setstate__ = getattr(ret, '__module__', 'none') + '.' + ret.__class__.__name__\n",
    "    print('✅ sklearn.manifold._locally_linear.LocallyLinearEmbedding.__setstate__: ', type(ret)) # noqa E501\n",
    "except Exception as e:\n",
    "    type_sklearn_manifold__locally_linear_LocallyLinearEmbedding___setstate__ = '_syft_missing'\n",
    "    print('❌ sklearn.manifold._locally_linear.LocallyLinearEmbedding.__setstate__: Return unavailable') # noqa E501\n",
    "    print(\"  Please fix this return type code until there is no exception\")\n",
    "    print('  Error:', e)\n"
   ]
  },
  {
   "cell_type": "code",
   "execution_count": null,
   "id": "flexible-louisville",
   "metadata": {},
   "outputs": [],
   "source": [
    "# sklearn.manifold._locally_linear.LocallyLinearEmbedding._check_n_features\n",
    "try:\n",
    "    obj = class_constructor() # noqa F821\n",
    "    ret = obj._check_n_features()\n",
    "    type_sklearn_manifold__locally_linear_LocallyLinearEmbedding__check_n_features = getattr(ret, '__module__', 'none') + '.' + ret.__class__.__name__\n",
    "    print('✅ sklearn.manifold._locally_linear.LocallyLinearEmbedding._check_n_features: ', type(ret)) # noqa E501\n",
    "except Exception as e:\n",
    "    type_sklearn_manifold__locally_linear_LocallyLinearEmbedding__check_n_features = '_syft_missing'\n",
    "    print('❌ sklearn.manifold._locally_linear.LocallyLinearEmbedding._check_n_features: Return unavailable') # noqa E501\n",
    "    print(\"  Please fix this return type code until there is no exception\")\n",
    "    print('  Error:', e)\n"
   ]
  },
  {
   "cell_type": "code",
   "execution_count": null,
   "id": "minus-sunset",
   "metadata": {},
   "outputs": [],
   "source": [
    "# sklearn.manifold._locally_linear.LocallyLinearEmbedding._fit_transform\n",
    "try:\n",
    "    obj = class_constructor() # noqa F821\n",
    "    ret = obj._fit_transform()\n",
    "    type_sklearn_manifold__locally_linear_LocallyLinearEmbedding__fit_transform = getattr(ret, '__module__', 'none') + '.' + ret.__class__.__name__\n",
    "    print('✅ sklearn.manifold._locally_linear.LocallyLinearEmbedding._fit_transform: ', type(ret)) # noqa E501\n",
    "except Exception as e:\n",
    "    type_sklearn_manifold__locally_linear_LocallyLinearEmbedding__fit_transform = '_syft_missing'\n",
    "    print('❌ sklearn.manifold._locally_linear.LocallyLinearEmbedding._fit_transform: Return unavailable') # noqa E501\n",
    "    print(\"  Please fix this return type code until there is no exception\")\n",
    "    print('  Error:', e)\n"
   ]
  },
  {
   "cell_type": "code",
   "execution_count": null,
   "id": "pursuant-teach",
   "metadata": {},
   "outputs": [],
   "source": [
    "# sklearn.manifold._locally_linear.LocallyLinearEmbedding._get_param_names\n",
    "try:\n",
    "    obj = class_constructor() # noqa F821\n",
    "    ret = obj._get_param_names()\n",
    "    type_sklearn_manifold__locally_linear_LocallyLinearEmbedding__get_param_names = getattr(ret, '__module__', 'none') + '.' + ret.__class__.__name__\n",
    "    print('✅ sklearn.manifold._locally_linear.LocallyLinearEmbedding._get_param_names: ', type(ret)) # noqa E501\n",
    "except Exception as e:\n",
    "    type_sklearn_manifold__locally_linear_LocallyLinearEmbedding__get_param_names = '_syft_missing'\n",
    "    print('❌ sklearn.manifold._locally_linear.LocallyLinearEmbedding._get_param_names: Return unavailable') # noqa E501\n",
    "    print(\"  Please fix this return type code until there is no exception\")\n",
    "    print('  Error:', e)\n"
   ]
  },
  {
   "cell_type": "code",
   "execution_count": null,
   "id": "copyrighted-share",
   "metadata": {},
   "outputs": [],
   "source": [
    "# sklearn.manifold._locally_linear.LocallyLinearEmbedding._get_tags\n",
    "try:\n",
    "    obj = class_constructor() # noqa F821\n",
    "    ret = obj._get_tags()\n",
    "    type_sklearn_manifold__locally_linear_LocallyLinearEmbedding__get_tags = getattr(ret, '__module__', 'none') + '.' + ret.__class__.__name__\n",
    "    print('✅ sklearn.manifold._locally_linear.LocallyLinearEmbedding._get_tags: ', type(ret)) # noqa E501\n",
    "except Exception as e:\n",
    "    type_sklearn_manifold__locally_linear_LocallyLinearEmbedding__get_tags = '_syft_missing'\n",
    "    print('❌ sklearn.manifold._locally_linear.LocallyLinearEmbedding._get_tags: Return unavailable') # noqa E501\n",
    "    print(\"  Please fix this return type code until there is no exception\")\n",
    "    print('  Error:', e)\n"
   ]
  },
  {
   "cell_type": "code",
   "execution_count": null,
   "id": "serial-diana",
   "metadata": {},
   "outputs": [],
   "source": [
    "# sklearn.manifold._locally_linear.LocallyLinearEmbedding._more_tags\n",
    "try:\n",
    "    obj = class_constructor() # noqa F821\n",
    "    ret = obj._more_tags()\n",
    "    type_sklearn_manifold__locally_linear_LocallyLinearEmbedding__more_tags = getattr(ret, '__module__', 'none') + '.' + ret.__class__.__name__\n",
    "    print('✅ sklearn.manifold._locally_linear.LocallyLinearEmbedding._more_tags: ', type(ret)) # noqa E501\n",
    "except Exception as e:\n",
    "    type_sklearn_manifold__locally_linear_LocallyLinearEmbedding__more_tags = '_syft_missing'\n",
    "    print('❌ sklearn.manifold._locally_linear.LocallyLinearEmbedding._more_tags: Return unavailable') # noqa E501\n",
    "    print(\"  Please fix this return type code until there is no exception\")\n",
    "    print('  Error:', e)\n"
   ]
  },
  {
   "cell_type": "code",
   "execution_count": null,
   "id": "agreed-adelaide",
   "metadata": {},
   "outputs": [],
   "source": [
    "# sklearn.manifold._locally_linear.LocallyLinearEmbedding._repr_html_\n",
    "try:\n",
    "    obj = class_constructor()\n",
    "    ret = obj._repr_html_\n",
    "    type_sklearn_manifold__locally_linear_LocallyLinearEmbedding__repr_html_ = getattr(ret, '__module__', 'none') + '.' + ret.__class__.__name__\n",
    "    print('✅ sklearn.manifold._locally_linear.LocallyLinearEmbedding._repr_html_:', type(ret)) # noqa E501\n",
    "except Exception as e:\n",
    "    type_sklearn_manifold__locally_linear_LocallyLinearEmbedding__repr_html_ = '_syft_missing'\n",
    "    print('❌ sklearn.manifold._locally_linear.LocallyLinearEmbedding._repr_html_: Return unavailable') # noqa E501\n",
    "    print(\"  Please fix this return type code until there is no exception\")\n",
    "    print('  Error:', e)\n"
   ]
  },
  {
   "cell_type": "code",
   "execution_count": null,
   "id": "boring-destiny",
   "metadata": {},
   "outputs": [],
   "source": [
    "# sklearn.manifold._locally_linear.LocallyLinearEmbedding._repr_html_inner\n",
    "try:\n",
    "    obj = class_constructor() # noqa F821\n",
    "    ret = obj._repr_html_inner()\n",
    "    type_sklearn_manifold__locally_linear_LocallyLinearEmbedding__repr_html_inner = getattr(ret, '__module__', 'none') + '.' + ret.__class__.__name__\n",
    "    print('✅ sklearn.manifold._locally_linear.LocallyLinearEmbedding._repr_html_inner: ', type(ret)) # noqa E501\n",
    "except Exception as e:\n",
    "    type_sklearn_manifold__locally_linear_LocallyLinearEmbedding__repr_html_inner = '_syft_missing'\n",
    "    print('❌ sklearn.manifold._locally_linear.LocallyLinearEmbedding._repr_html_inner: Return unavailable') # noqa E501\n",
    "    print(\"  Please fix this return type code until there is no exception\")\n",
    "    print('  Error:', e)\n"
   ]
  },
  {
   "cell_type": "code",
   "execution_count": null,
   "id": "leading-correlation",
   "metadata": {},
   "outputs": [],
   "source": [
    "# sklearn.manifold._locally_linear.LocallyLinearEmbedding._repr_mimebundle_\n",
    "try:\n",
    "    obj = class_constructor() # noqa F821\n",
    "    ret = obj._repr_mimebundle_()\n",
    "    type_sklearn_manifold__locally_linear_LocallyLinearEmbedding__repr_mimebundle_ = getattr(ret, '__module__', 'none') + '.' + ret.__class__.__name__\n",
    "    print('✅ sklearn.manifold._locally_linear.LocallyLinearEmbedding._repr_mimebundle_: ', type(ret)) # noqa E501\n",
    "except Exception as e:\n",
    "    type_sklearn_manifold__locally_linear_LocallyLinearEmbedding__repr_mimebundle_ = '_syft_missing'\n",
    "    print('❌ sklearn.manifold._locally_linear.LocallyLinearEmbedding._repr_mimebundle_: Return unavailable') # noqa E501\n",
    "    print(\"  Please fix this return type code until there is no exception\")\n",
    "    print('  Error:', e)\n"
   ]
  },
  {
   "cell_type": "code",
   "execution_count": null,
   "id": "christian-seller",
   "metadata": {},
   "outputs": [],
   "source": [
    "# sklearn.manifold._locally_linear.LocallyLinearEmbedding._validate_data\n",
    "try:\n",
    "    obj = class_constructor() # noqa F821\n",
    "    ret = obj._validate_data()\n",
    "    type_sklearn_manifold__locally_linear_LocallyLinearEmbedding__validate_data = getattr(ret, '__module__', 'none') + '.' + ret.__class__.__name__\n",
    "    print('✅ sklearn.manifold._locally_linear.LocallyLinearEmbedding._validate_data: ', type(ret)) # noqa E501\n",
    "except Exception as e:\n",
    "    type_sklearn_manifold__locally_linear_LocallyLinearEmbedding__validate_data = '_syft_missing'\n",
    "    print('❌ sklearn.manifold._locally_linear.LocallyLinearEmbedding._validate_data: Return unavailable') # noqa E501\n",
    "    print(\"  Please fix this return type code until there is no exception\")\n",
    "    print('  Error:', e)\n"
   ]
  },
  {
   "cell_type": "code",
   "execution_count": null,
   "id": "appropriate-deadline",
   "metadata": {},
   "outputs": [],
   "source": [
    "# sklearn.manifold._locally_linear.LocallyLinearEmbedding.fit\n",
    "try:\n",
    "    obj = class_constructor() # noqa F821\n",
    "    ret = obj.fit()\n",
    "    type_sklearn_manifold__locally_linear_LocallyLinearEmbedding_fit = getattr(ret, '__module__', 'none') + '.' + ret.__class__.__name__\n",
    "    print('✅ sklearn.manifold._locally_linear.LocallyLinearEmbedding.fit: ', type(ret)) # noqa E501\n",
    "except Exception as e:\n",
    "    type_sklearn_manifold__locally_linear_LocallyLinearEmbedding_fit = '_syft_missing'\n",
    "    print('❌ sklearn.manifold._locally_linear.LocallyLinearEmbedding.fit: Return unavailable') # noqa E501\n",
    "    print(\"  Please fix this return type code until there is no exception\")\n",
    "    print('  Error:', e)\n"
   ]
  },
  {
   "cell_type": "code",
   "execution_count": null,
   "id": "natural-assignment",
   "metadata": {},
   "outputs": [],
   "source": [
    "# sklearn.manifold._locally_linear.LocallyLinearEmbedding.fit_transform\n",
    "try:\n",
    "    obj = class_constructor() # noqa F821\n",
    "    ret = obj.fit_transform()\n",
    "    type_sklearn_manifold__locally_linear_LocallyLinearEmbedding_fit_transform = getattr(ret, '__module__', 'none') + '.' + ret.__class__.__name__\n",
    "    print('✅ sklearn.manifold._locally_linear.LocallyLinearEmbedding.fit_transform: ', type(ret)) # noqa E501\n",
    "except Exception as e:\n",
    "    type_sklearn_manifold__locally_linear_LocallyLinearEmbedding_fit_transform = '_syft_missing'\n",
    "    print('❌ sklearn.manifold._locally_linear.LocallyLinearEmbedding.fit_transform: Return unavailable') # noqa E501\n",
    "    print(\"  Please fix this return type code until there is no exception\")\n",
    "    print('  Error:', e)\n"
   ]
  },
  {
   "cell_type": "code",
   "execution_count": null,
   "id": "binding-flexibility",
   "metadata": {},
   "outputs": [],
   "source": [
    "# sklearn.manifold._locally_linear.LocallyLinearEmbedding.get_params\n",
    "try:\n",
    "    obj = class_constructor() # noqa F821\n",
    "    ret = obj.get_params()\n",
    "    type_sklearn_manifold__locally_linear_LocallyLinearEmbedding_get_params = getattr(ret, '__module__', 'none') + '.' + ret.__class__.__name__\n",
    "    print('✅ sklearn.manifold._locally_linear.LocallyLinearEmbedding.get_params: ', type(ret)) # noqa E501\n",
    "except Exception as e:\n",
    "    type_sklearn_manifold__locally_linear_LocallyLinearEmbedding_get_params = '_syft_missing'\n",
    "    print('❌ sklearn.manifold._locally_linear.LocallyLinearEmbedding.get_params: Return unavailable') # noqa E501\n",
    "    print(\"  Please fix this return type code until there is no exception\")\n",
    "    print('  Error:', e)\n"
   ]
  },
  {
   "cell_type": "code",
   "execution_count": null,
   "id": "sufficient-harris",
   "metadata": {},
   "outputs": [],
   "source": [
    "# sklearn.manifold._locally_linear.LocallyLinearEmbedding.set_params\n",
    "try:\n",
    "    obj = class_constructor() # noqa F821\n",
    "    ret = obj.set_params()\n",
    "    type_sklearn_manifold__locally_linear_LocallyLinearEmbedding_set_params = getattr(ret, '__module__', 'none') + '.' + ret.__class__.__name__\n",
    "    print('✅ sklearn.manifold._locally_linear.LocallyLinearEmbedding.set_params: ', type(ret)) # noqa E501\n",
    "except Exception as e:\n",
    "    type_sklearn_manifold__locally_linear_LocallyLinearEmbedding_set_params = '_syft_missing'\n",
    "    print('❌ sklearn.manifold._locally_linear.LocallyLinearEmbedding.set_params: Return unavailable') # noqa E501\n",
    "    print(\"  Please fix this return type code until there is no exception\")\n",
    "    print('  Error:', e)\n"
   ]
  },
  {
   "cell_type": "code",
   "execution_count": null,
   "id": "subsequent-style",
   "metadata": {},
   "outputs": [],
   "source": [
    "# sklearn.manifold._locally_linear.LocallyLinearEmbedding.transform\n",
    "try:\n",
    "    obj = class_constructor() # noqa F821\n",
    "    ret = obj.transform()\n",
    "    type_sklearn_manifold__locally_linear_LocallyLinearEmbedding_transform = getattr(ret, '__module__', 'none') + '.' + ret.__class__.__name__\n",
    "    print('✅ sklearn.manifold._locally_linear.LocallyLinearEmbedding.transform: ', type(ret)) # noqa E501\n",
    "except Exception as e:\n",
    "    type_sklearn_manifold__locally_linear_LocallyLinearEmbedding_transform = '_syft_missing'\n",
    "    print('❌ sklearn.manifold._locally_linear.LocallyLinearEmbedding.transform: Return unavailable') # noqa E501\n",
    "    print(\"  Please fix this return type code until there is no exception\")\n",
    "    print('  Error:', e)\n"
   ]
  }
 ],
 "metadata": {},
 "nbformat": 4,
 "nbformat_minor": 5
}
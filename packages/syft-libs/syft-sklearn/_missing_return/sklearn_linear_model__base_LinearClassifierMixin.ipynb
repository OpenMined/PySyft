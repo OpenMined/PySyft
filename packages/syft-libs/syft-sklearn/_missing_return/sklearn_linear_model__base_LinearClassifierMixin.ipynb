{
 "cells": [
  {
   "cell_type": "markdown",
   "id": "static-diana",
   "metadata": {},
   "source": [
    "## sklearn.linear_model._base.LinearClassifierMixin"
   ]
  },
  {
   "cell_type": "code",
   "execution_count": null,
   "id": "serial-health",
   "metadata": {},
   "outputs": [],
   "source": [
    "import sklearn\n",
    "def class_constructor(*args, **kwargs):\n",
    "    obj = sklearn.linear_model._base.LinearClassifierMixin()\n",
    "    return obj\n"
   ]
  },
  {
   "cell_type": "code",
   "execution_count": null,
   "id": "divine-helping",
   "metadata": {},
   "outputs": [],
   "source": [
    "# sklearn.linear_model._base.LinearClassifierMixin._more_tags\n",
    "try:\n",
    "    obj = class_constructor() # noqa F821\n",
    "    ret = obj._more_tags()\n",
    "    type_sklearn_linear_model__base_LinearClassifierMixin__more_tags = getattr(ret, '__module__', 'none') + '.' + ret.__class__.__name__\n",
    "    print('✅ sklearn.linear_model._base.LinearClassifierMixin._more_tags: ', type(ret)) # noqa E501\n",
    "except Exception as e:\n",
    "    type_sklearn_linear_model__base_LinearClassifierMixin__more_tags = '_syft_missing'\n",
    "    print('❌ sklearn.linear_model._base.LinearClassifierMixin._more_tags: Return unavailable') # noqa E501\n",
    "    print(\"  Please fix this return type code until there is no exception\")\n",
    "    print('  Error:', e)\n"
   ]
  },
  {
   "cell_type": "code",
   "execution_count": null,
   "id": "treated-incentive",
   "metadata": {},
   "outputs": [],
   "source": [
    "# sklearn.linear_model._base.LinearClassifierMixin._predict_proba_lr\n",
    "try:\n",
    "    obj = class_constructor() # noqa F821\n",
    "    ret = obj._predict_proba_lr()\n",
    "    type_sklearn_linear_model__base_LinearClassifierMixin__predict_proba_lr = getattr(ret, '__module__', 'none') + '.' + ret.__class__.__name__\n",
    "    print('✅ sklearn.linear_model._base.LinearClassifierMixin._predict_proba_lr: ', type(ret)) # noqa E501\n",
    "except Exception as e:\n",
    "    type_sklearn_linear_model__base_LinearClassifierMixin__predict_proba_lr = '_syft_missing'\n",
    "    print('❌ sklearn.linear_model._base.LinearClassifierMixin._predict_proba_lr: Return unavailable') # noqa E501\n",
    "    print(\"  Please fix this return type code until there is no exception\")\n",
    "    print('  Error:', e)\n"
   ]
  },
  {
   "cell_type": "code",
   "execution_count": null,
   "id": "existing-corruption",
   "metadata": {},
   "outputs": [],
   "source": [
    "# sklearn.linear_model._base.LinearClassifierMixin.decision_function\n",
    "try:\n",
    "    obj = class_constructor() # noqa F821\n",
    "    ret = obj.decision_function()\n",
    "    type_sklearn_linear_model__base_LinearClassifierMixin_decision_function = getattr(ret, '__module__', 'none') + '.' + ret.__class__.__name__\n",
    "    print('✅ sklearn.linear_model._base.LinearClassifierMixin.decision_function: ', type(ret)) # noqa E501\n",
    "except Exception as e:\n",
    "    type_sklearn_linear_model__base_LinearClassifierMixin_decision_function = '_syft_missing'\n",
    "    print('❌ sklearn.linear_model._base.LinearClassifierMixin.decision_function: Return unavailable') # noqa E501\n",
    "    print(\"  Please fix this return type code until there is no exception\")\n",
    "    print('  Error:', e)\n"
   ]
  },
  {
   "cell_type": "code",
   "execution_count": null,
   "id": "daily-homeless",
   "metadata": {},
   "outputs": [],
   "source": [
    "# sklearn.linear_model._base.LinearClassifierMixin.predict\n",
    "try:\n",
    "    obj = class_constructor() # noqa F821\n",
    "    ret = obj.predict()\n",
    "    type_sklearn_linear_model__base_LinearClassifierMixin_predict = getattr(ret, '__module__', 'none') + '.' + ret.__class__.__name__\n",
    "    print('✅ sklearn.linear_model._base.LinearClassifierMixin.predict: ', type(ret)) # noqa E501\n",
    "except Exception as e:\n",
    "    type_sklearn_linear_model__base_LinearClassifierMixin_predict = '_syft_missing'\n",
    "    print('❌ sklearn.linear_model._base.LinearClassifierMixin.predict: Return unavailable') # noqa E501\n",
    "    print(\"  Please fix this return type code until there is no exception\")\n",
    "    print('  Error:', e)\n"
   ]
  },
  {
   "cell_type": "code",
   "execution_count": null,
   "id": "indie-optics",
   "metadata": {},
   "outputs": [],
   "source": [
    "# sklearn.linear_model._base.LinearClassifierMixin.score\n",
    "try:\n",
    "    obj = class_constructor() # noqa F821\n",
    "    ret = obj.score()\n",
    "    type_sklearn_linear_model__base_LinearClassifierMixin_score = getattr(ret, '__module__', 'none') + '.' + ret.__class__.__name__\n",
    "    print('✅ sklearn.linear_model._base.LinearClassifierMixin.score: ', type(ret)) # noqa E501\n",
    "except Exception as e:\n",
    "    type_sklearn_linear_model__base_LinearClassifierMixin_score = '_syft_missing'\n",
    "    print('❌ sklearn.linear_model._base.LinearClassifierMixin.score: Return unavailable') # noqa E501\n",
    "    print(\"  Please fix this return type code until there is no exception\")\n",
    "    print('  Error:', e)\n"
   ]
  }
 ],
 "metadata": {},
 "nbformat": 4,
 "nbformat_minor": 5
}
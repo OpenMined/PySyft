{
 "cells": [
  {
   "cell_type": "markdown",
   "id": "powerful-index",
   "metadata": {},
   "source": [
    "## sklearn.semi_supervised._self_training.SelfTrainingClassifier"
   ]
  },
  {
   "cell_type": "code",
   "execution_count": null,
   "id": "above-relative",
   "metadata": {},
   "outputs": [],
   "source": [
    "import sklearn\n",
    "def class_constructor(*args, **kwargs):\n",
    "    obj = sklearn.semi_supervised._self_training.SelfTrainingClassifier()\n",
    "    return obj\n"
   ]
  },
  {
   "cell_type": "code",
   "execution_count": null,
   "id": "combined-range",
   "metadata": {},
   "outputs": [],
   "source": [
    "# sklearn.semi_supervised._self_training.SelfTrainingClassifier.__getstate__\n",
    "try:\n",
    "    obj = class_constructor() # noqa F821\n",
    "    ret = obj.__getstate__()\n",
    "    type_sklearn_semi_supervised__self_training_SelfTrainingClassifier___getstate__ = getattr(ret, '__module__', 'none') + '.' + ret.__class__.__name__\n",
    "    print('✅ sklearn.semi_supervised._self_training.SelfTrainingClassifier.__getstate__: ', type(ret)) # noqa E501\n",
    "except Exception as e:\n",
    "    type_sklearn_semi_supervised__self_training_SelfTrainingClassifier___getstate__ = '_syft_missing'\n",
    "    print('❌ sklearn.semi_supervised._self_training.SelfTrainingClassifier.__getstate__: Return unavailable') # noqa E501\n",
    "    print(\"  Please fix this return type code until there is no exception\")\n",
    "    print('  Error:', e)\n"
   ]
  },
  {
   "cell_type": "code",
   "execution_count": null,
   "id": "numeric-singles",
   "metadata": {},
   "outputs": [],
   "source": [
    "# sklearn.semi_supervised._self_training.SelfTrainingClassifier.__repr__\n",
    "try:\n",
    "    obj = class_constructor() # noqa F821\n",
    "    ret = obj.__repr__()\n",
    "    type_sklearn_semi_supervised__self_training_SelfTrainingClassifier___repr__ = getattr(ret, '__module__', 'none') + '.' + ret.__class__.__name__\n",
    "    print('✅ sklearn.semi_supervised._self_training.SelfTrainingClassifier.__repr__: ', type(ret)) # noqa E501\n",
    "except Exception as e:\n",
    "    type_sklearn_semi_supervised__self_training_SelfTrainingClassifier___repr__ = '_syft_missing'\n",
    "    print('❌ sklearn.semi_supervised._self_training.SelfTrainingClassifier.__repr__: Return unavailable') # noqa E501\n",
    "    print(\"  Please fix this return type code until there is no exception\")\n",
    "    print('  Error:', e)\n"
   ]
  },
  {
   "cell_type": "code",
   "execution_count": null,
   "id": "posted-living",
   "metadata": {},
   "outputs": [],
   "source": [
    "# sklearn.semi_supervised._self_training.SelfTrainingClassifier.__setstate__\n",
    "try:\n",
    "    obj = class_constructor() # noqa F821\n",
    "    ret = obj.__setstate__()\n",
    "    type_sklearn_semi_supervised__self_training_SelfTrainingClassifier___setstate__ = getattr(ret, '__module__', 'none') + '.' + ret.__class__.__name__\n",
    "    print('✅ sklearn.semi_supervised._self_training.SelfTrainingClassifier.__setstate__: ', type(ret)) # noqa E501\n",
    "except Exception as e:\n",
    "    type_sklearn_semi_supervised__self_training_SelfTrainingClassifier___setstate__ = '_syft_missing'\n",
    "    print('❌ sklearn.semi_supervised._self_training.SelfTrainingClassifier.__setstate__: Return unavailable') # noqa E501\n",
    "    print(\"  Please fix this return type code until there is no exception\")\n",
    "    print('  Error:', e)\n"
   ]
  },
  {
   "cell_type": "code",
   "execution_count": null,
   "id": "expressed-border",
   "metadata": {},
   "outputs": [],
   "source": [
    "# sklearn.semi_supervised._self_training.SelfTrainingClassifier._check_n_features\n",
    "try:\n",
    "    obj = class_constructor() # noqa F821\n",
    "    ret = obj._check_n_features()\n",
    "    type_sklearn_semi_supervised__self_training_SelfTrainingClassifier__check_n_features = getattr(ret, '__module__', 'none') + '.' + ret.__class__.__name__\n",
    "    print('✅ sklearn.semi_supervised._self_training.SelfTrainingClassifier._check_n_features: ', type(ret)) # noqa E501\n",
    "except Exception as e:\n",
    "    type_sklearn_semi_supervised__self_training_SelfTrainingClassifier__check_n_features = '_syft_missing'\n",
    "    print('❌ sklearn.semi_supervised._self_training.SelfTrainingClassifier._check_n_features: Return unavailable') # noqa E501\n",
    "    print(\"  Please fix this return type code until there is no exception\")\n",
    "    print('  Error:', e)\n"
   ]
  },
  {
   "cell_type": "code",
   "execution_count": null,
   "id": "revised-innocent",
   "metadata": {},
   "outputs": [],
   "source": [
    "# sklearn.semi_supervised._self_training.SelfTrainingClassifier._get_param_names\n",
    "try:\n",
    "    obj = class_constructor() # noqa F821\n",
    "    ret = obj._get_param_names()\n",
    "    type_sklearn_semi_supervised__self_training_SelfTrainingClassifier__get_param_names = getattr(ret, '__module__', 'none') + '.' + ret.__class__.__name__\n",
    "    print('✅ sklearn.semi_supervised._self_training.SelfTrainingClassifier._get_param_names: ', type(ret)) # noqa E501\n",
    "except Exception as e:\n",
    "    type_sklearn_semi_supervised__self_training_SelfTrainingClassifier__get_param_names = '_syft_missing'\n",
    "    print('❌ sklearn.semi_supervised._self_training.SelfTrainingClassifier._get_param_names: Return unavailable') # noqa E501\n",
    "    print(\"  Please fix this return type code until there is no exception\")\n",
    "    print('  Error:', e)\n"
   ]
  },
  {
   "cell_type": "code",
   "execution_count": null,
   "id": "falling-customer",
   "metadata": {},
   "outputs": [],
   "source": [
    "# sklearn.semi_supervised._self_training.SelfTrainingClassifier._get_tags\n",
    "try:\n",
    "    obj = class_constructor() # noqa F821\n",
    "    ret = obj._get_tags()\n",
    "    type_sklearn_semi_supervised__self_training_SelfTrainingClassifier__get_tags = getattr(ret, '__module__', 'none') + '.' + ret.__class__.__name__\n",
    "    print('✅ sklearn.semi_supervised._self_training.SelfTrainingClassifier._get_tags: ', type(ret)) # noqa E501\n",
    "except Exception as e:\n",
    "    type_sklearn_semi_supervised__self_training_SelfTrainingClassifier__get_tags = '_syft_missing'\n",
    "    print('❌ sklearn.semi_supervised._self_training.SelfTrainingClassifier._get_tags: Return unavailable') # noqa E501\n",
    "    print(\"  Please fix this return type code until there is no exception\")\n",
    "    print('  Error:', e)\n"
   ]
  },
  {
   "cell_type": "code",
   "execution_count": null,
   "id": "dried-allocation",
   "metadata": {},
   "outputs": [],
   "source": [
    "# sklearn.semi_supervised._self_training.SelfTrainingClassifier._more_tags\n",
    "try:\n",
    "    obj = class_constructor() # noqa F821\n",
    "    ret = obj._more_tags()\n",
    "    type_sklearn_semi_supervised__self_training_SelfTrainingClassifier__more_tags = getattr(ret, '__module__', 'none') + '.' + ret.__class__.__name__\n",
    "    print('✅ sklearn.semi_supervised._self_training.SelfTrainingClassifier._more_tags: ', type(ret)) # noqa E501\n",
    "except Exception as e:\n",
    "    type_sklearn_semi_supervised__self_training_SelfTrainingClassifier__more_tags = '_syft_missing'\n",
    "    print('❌ sklearn.semi_supervised._self_training.SelfTrainingClassifier._more_tags: Return unavailable') # noqa E501\n",
    "    print(\"  Please fix this return type code until there is no exception\")\n",
    "    print('  Error:', e)\n"
   ]
  },
  {
   "cell_type": "code",
   "execution_count": null,
   "id": "initial-crisis",
   "metadata": {},
   "outputs": [],
   "source": [
    "# sklearn.semi_supervised._self_training.SelfTrainingClassifier._repr_html_\n",
    "try:\n",
    "    obj = class_constructor()\n",
    "    ret = obj._repr_html_\n",
    "    type_sklearn_semi_supervised__self_training_SelfTrainingClassifier__repr_html_ = getattr(ret, '__module__', 'none') + '.' + ret.__class__.__name__\n",
    "    print('✅ sklearn.semi_supervised._self_training.SelfTrainingClassifier._repr_html_:', type(ret)) # noqa E501\n",
    "except Exception as e:\n",
    "    type_sklearn_semi_supervised__self_training_SelfTrainingClassifier__repr_html_ = '_syft_missing'\n",
    "    print('❌ sklearn.semi_supervised._self_training.SelfTrainingClassifier._repr_html_: Return unavailable') # noqa E501\n",
    "    print(\"  Please fix this return type code until there is no exception\")\n",
    "    print('  Error:', e)\n"
   ]
  },
  {
   "cell_type": "code",
   "execution_count": null,
   "id": "blond-legislation",
   "metadata": {},
   "outputs": [],
   "source": [
    "# sklearn.semi_supervised._self_training.SelfTrainingClassifier._repr_html_inner\n",
    "try:\n",
    "    obj = class_constructor() # noqa F821\n",
    "    ret = obj._repr_html_inner()\n",
    "    type_sklearn_semi_supervised__self_training_SelfTrainingClassifier__repr_html_inner = getattr(ret, '__module__', 'none') + '.' + ret.__class__.__name__\n",
    "    print('✅ sklearn.semi_supervised._self_training.SelfTrainingClassifier._repr_html_inner: ', type(ret)) # noqa E501\n",
    "except Exception as e:\n",
    "    type_sklearn_semi_supervised__self_training_SelfTrainingClassifier__repr_html_inner = '_syft_missing'\n",
    "    print('❌ sklearn.semi_supervised._self_training.SelfTrainingClassifier._repr_html_inner: Return unavailable') # noqa E501\n",
    "    print(\"  Please fix this return type code until there is no exception\")\n",
    "    print('  Error:', e)\n"
   ]
  },
  {
   "cell_type": "code",
   "execution_count": null,
   "id": "novel-train",
   "metadata": {},
   "outputs": [],
   "source": [
    "# sklearn.semi_supervised._self_training.SelfTrainingClassifier._repr_mimebundle_\n",
    "try:\n",
    "    obj = class_constructor() # noqa F821\n",
    "    ret = obj._repr_mimebundle_()\n",
    "    type_sklearn_semi_supervised__self_training_SelfTrainingClassifier__repr_mimebundle_ = getattr(ret, '__module__', 'none') + '.' + ret.__class__.__name__\n",
    "    print('✅ sklearn.semi_supervised._self_training.SelfTrainingClassifier._repr_mimebundle_: ', type(ret)) # noqa E501\n",
    "except Exception as e:\n",
    "    type_sklearn_semi_supervised__self_training_SelfTrainingClassifier__repr_mimebundle_ = '_syft_missing'\n",
    "    print('❌ sklearn.semi_supervised._self_training.SelfTrainingClassifier._repr_mimebundle_: Return unavailable') # noqa E501\n",
    "    print(\"  Please fix this return type code until there is no exception\")\n",
    "    print('  Error:', e)\n"
   ]
  },
  {
   "cell_type": "code",
   "execution_count": null,
   "id": "roman-loading",
   "metadata": {},
   "outputs": [],
   "source": [
    "# sklearn.semi_supervised._self_training.SelfTrainingClassifier._validate_data\n",
    "try:\n",
    "    obj = class_constructor() # noqa F821\n",
    "    ret = obj._validate_data()\n",
    "    type_sklearn_semi_supervised__self_training_SelfTrainingClassifier__validate_data = getattr(ret, '__module__', 'none') + '.' + ret.__class__.__name__\n",
    "    print('✅ sklearn.semi_supervised._self_training.SelfTrainingClassifier._validate_data: ', type(ret)) # noqa E501\n",
    "except Exception as e:\n",
    "    type_sklearn_semi_supervised__self_training_SelfTrainingClassifier__validate_data = '_syft_missing'\n",
    "    print('❌ sklearn.semi_supervised._self_training.SelfTrainingClassifier._validate_data: Return unavailable') # noqa E501\n",
    "    print(\"  Please fix this return type code until there is no exception\")\n",
    "    print('  Error:', e)\n"
   ]
  },
  {
   "cell_type": "code",
   "execution_count": null,
   "id": "nasty-console",
   "metadata": {},
   "outputs": [],
   "source": [
    "# sklearn.semi_supervised._self_training.SelfTrainingClassifier.decision_function\n",
    "try:\n",
    "    obj = class_constructor() # noqa F821\n",
    "    ret = obj.decision_function()\n",
    "    type_sklearn_semi_supervised__self_training_SelfTrainingClassifier_decision_function = getattr(ret, '__module__', 'none') + '.' + ret.__class__.__name__\n",
    "    print('✅ sklearn.semi_supervised._self_training.SelfTrainingClassifier.decision_function: ', type(ret)) # noqa E501\n",
    "except Exception as e:\n",
    "    type_sklearn_semi_supervised__self_training_SelfTrainingClassifier_decision_function = '_syft_missing'\n",
    "    print('❌ sklearn.semi_supervised._self_training.SelfTrainingClassifier.decision_function: Return unavailable') # noqa E501\n",
    "    print(\"  Please fix this return type code until there is no exception\")\n",
    "    print('  Error:', e)\n"
   ]
  },
  {
   "cell_type": "code",
   "execution_count": null,
   "id": "variable-favorite",
   "metadata": {},
   "outputs": [],
   "source": [
    "# sklearn.semi_supervised._self_training.SelfTrainingClassifier.fit\n",
    "try:\n",
    "    obj = class_constructor() # noqa F821\n",
    "    ret = obj.fit()\n",
    "    type_sklearn_semi_supervised__self_training_SelfTrainingClassifier_fit = getattr(ret, '__module__', 'none') + '.' + ret.__class__.__name__\n",
    "    print('✅ sklearn.semi_supervised._self_training.SelfTrainingClassifier.fit: ', type(ret)) # noqa E501\n",
    "except Exception as e:\n",
    "    type_sklearn_semi_supervised__self_training_SelfTrainingClassifier_fit = '_syft_missing'\n",
    "    print('❌ sklearn.semi_supervised._self_training.SelfTrainingClassifier.fit: Return unavailable') # noqa E501\n",
    "    print(\"  Please fix this return type code until there is no exception\")\n",
    "    print('  Error:', e)\n"
   ]
  },
  {
   "cell_type": "code",
   "execution_count": null,
   "id": "perceived-webster",
   "metadata": {},
   "outputs": [],
   "source": [
    "# sklearn.semi_supervised._self_training.SelfTrainingClassifier.get_params\n",
    "try:\n",
    "    obj = class_constructor() # noqa F821\n",
    "    ret = obj.get_params()\n",
    "    type_sklearn_semi_supervised__self_training_SelfTrainingClassifier_get_params = getattr(ret, '__module__', 'none') + '.' + ret.__class__.__name__\n",
    "    print('✅ sklearn.semi_supervised._self_training.SelfTrainingClassifier.get_params: ', type(ret)) # noqa E501\n",
    "except Exception as e:\n",
    "    type_sklearn_semi_supervised__self_training_SelfTrainingClassifier_get_params = '_syft_missing'\n",
    "    print('❌ sklearn.semi_supervised._self_training.SelfTrainingClassifier.get_params: Return unavailable') # noqa E501\n",
    "    print(\"  Please fix this return type code until there is no exception\")\n",
    "    print('  Error:', e)\n"
   ]
  },
  {
   "cell_type": "code",
   "execution_count": null,
   "id": "sought-heart",
   "metadata": {},
   "outputs": [],
   "source": [
    "# sklearn.semi_supervised._self_training.SelfTrainingClassifier.predict\n",
    "try:\n",
    "    obj = class_constructor() # noqa F821\n",
    "    ret = obj.predict()\n",
    "    type_sklearn_semi_supervised__self_training_SelfTrainingClassifier_predict = getattr(ret, '__module__', 'none') + '.' + ret.__class__.__name__\n",
    "    print('✅ sklearn.semi_supervised._self_training.SelfTrainingClassifier.predict: ', type(ret)) # noqa E501\n",
    "except Exception as e:\n",
    "    type_sklearn_semi_supervised__self_training_SelfTrainingClassifier_predict = '_syft_missing'\n",
    "    print('❌ sklearn.semi_supervised._self_training.SelfTrainingClassifier.predict: Return unavailable') # noqa E501\n",
    "    print(\"  Please fix this return type code until there is no exception\")\n",
    "    print('  Error:', e)\n"
   ]
  },
  {
   "cell_type": "code",
   "execution_count": null,
   "id": "correct-change",
   "metadata": {},
   "outputs": [],
   "source": [
    "# sklearn.semi_supervised._self_training.SelfTrainingClassifier.predict_log_proba\n",
    "try:\n",
    "    obj = class_constructor() # noqa F821\n",
    "    ret = obj.predict_log_proba()\n",
    "    type_sklearn_semi_supervised__self_training_SelfTrainingClassifier_predict_log_proba = getattr(ret, '__module__', 'none') + '.' + ret.__class__.__name__\n",
    "    print('✅ sklearn.semi_supervised._self_training.SelfTrainingClassifier.predict_log_proba: ', type(ret)) # noqa E501\n",
    "except Exception as e:\n",
    "    type_sklearn_semi_supervised__self_training_SelfTrainingClassifier_predict_log_proba = '_syft_missing'\n",
    "    print('❌ sklearn.semi_supervised._self_training.SelfTrainingClassifier.predict_log_proba: Return unavailable') # noqa E501\n",
    "    print(\"  Please fix this return type code until there is no exception\")\n",
    "    print('  Error:', e)\n"
   ]
  },
  {
   "cell_type": "code",
   "execution_count": null,
   "id": "capable-address",
   "metadata": {},
   "outputs": [],
   "source": [
    "# sklearn.semi_supervised._self_training.SelfTrainingClassifier.predict_proba\n",
    "try:\n",
    "    obj = class_constructor() # noqa F821\n",
    "    ret = obj.predict_proba()\n",
    "    type_sklearn_semi_supervised__self_training_SelfTrainingClassifier_predict_proba = getattr(ret, '__module__', 'none') + '.' + ret.__class__.__name__\n",
    "    print('✅ sklearn.semi_supervised._self_training.SelfTrainingClassifier.predict_proba: ', type(ret)) # noqa E501\n",
    "except Exception as e:\n",
    "    type_sklearn_semi_supervised__self_training_SelfTrainingClassifier_predict_proba = '_syft_missing'\n",
    "    print('❌ sklearn.semi_supervised._self_training.SelfTrainingClassifier.predict_proba: Return unavailable') # noqa E501\n",
    "    print(\"  Please fix this return type code until there is no exception\")\n",
    "    print('  Error:', e)\n"
   ]
  },
  {
   "cell_type": "code",
   "execution_count": null,
   "id": "sustainable-symbol",
   "metadata": {},
   "outputs": [],
   "source": [
    "# sklearn.semi_supervised._self_training.SelfTrainingClassifier.score\n",
    "try:\n",
    "    obj = class_constructor() # noqa F821\n",
    "    ret = obj.score()\n",
    "    type_sklearn_semi_supervised__self_training_SelfTrainingClassifier_score = getattr(ret, '__module__', 'none') + '.' + ret.__class__.__name__\n",
    "    print('✅ sklearn.semi_supervised._self_training.SelfTrainingClassifier.score: ', type(ret)) # noqa E501\n",
    "except Exception as e:\n",
    "    type_sklearn_semi_supervised__self_training_SelfTrainingClassifier_score = '_syft_missing'\n",
    "    print('❌ sklearn.semi_supervised._self_training.SelfTrainingClassifier.score: Return unavailable') # noqa E501\n",
    "    print(\"  Please fix this return type code until there is no exception\")\n",
    "    print('  Error:', e)\n"
   ]
  },
  {
   "cell_type": "code",
   "execution_count": null,
   "id": "compressed-tobago",
   "metadata": {},
   "outputs": [],
   "source": [
    "# sklearn.semi_supervised._self_training.SelfTrainingClassifier.set_params\n",
    "try:\n",
    "    obj = class_constructor() # noqa F821\n",
    "    ret = obj.set_params()\n",
    "    type_sklearn_semi_supervised__self_training_SelfTrainingClassifier_set_params = getattr(ret, '__module__', 'none') + '.' + ret.__class__.__name__\n",
    "    print('✅ sklearn.semi_supervised._self_training.SelfTrainingClassifier.set_params: ', type(ret)) # noqa E501\n",
    "except Exception as e:\n",
    "    type_sklearn_semi_supervised__self_training_SelfTrainingClassifier_set_params = '_syft_missing'\n",
    "    print('❌ sklearn.semi_supervised._self_training.SelfTrainingClassifier.set_params: Return unavailable') # noqa E501\n",
    "    print(\"  Please fix this return type code until there is no exception\")\n",
    "    print('  Error:', e)\n"
   ]
  }
 ],
 "metadata": {},
 "nbformat": 4,
 "nbformat_minor": 5
}
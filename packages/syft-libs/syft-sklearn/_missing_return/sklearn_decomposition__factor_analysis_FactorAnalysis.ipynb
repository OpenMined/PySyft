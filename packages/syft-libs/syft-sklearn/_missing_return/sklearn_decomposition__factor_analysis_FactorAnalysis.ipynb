{
 "cells": [
  {
   "cell_type": "markdown",
   "id": "personalized-nickel",
   "metadata": {},
   "source": [
    "## sklearn.decomposition._factor_analysis.FactorAnalysis"
   ]
  },
  {
   "cell_type": "code",
   "execution_count": null,
   "id": "checked-blind",
   "metadata": {},
   "outputs": [],
   "source": [
    "import sklearn\n",
    "def class_constructor(*args, **kwargs):\n",
    "    obj = sklearn.decomposition._factor_analysis.FactorAnalysis()\n",
    "    return obj\n"
   ]
  },
  {
   "cell_type": "code",
   "execution_count": null,
   "id": "monetary-tablet",
   "metadata": {},
   "outputs": [],
   "source": [
    "# sklearn.decomposition._factor_analysis.FactorAnalysis.__getstate__\n",
    "try:\n",
    "    obj = class_constructor() # noqa F821\n",
    "    ret = obj.__getstate__()\n",
    "    type_sklearn_decomposition__factor_analysis_FactorAnalysis___getstate__ = getattr(ret, '__module__', 'none') + '.' + ret.__class__.__name__\n",
    "    print('✅ sklearn.decomposition._factor_analysis.FactorAnalysis.__getstate__: ', type(ret)) # noqa E501\n",
    "except Exception as e:\n",
    "    type_sklearn_decomposition__factor_analysis_FactorAnalysis___getstate__ = '_syft_missing'\n",
    "    print('❌ sklearn.decomposition._factor_analysis.FactorAnalysis.__getstate__: Return unavailable') # noqa E501\n",
    "    print(\"  Please fix this return type code until there is no exception\")\n",
    "    print('  Error:', e)\n"
   ]
  },
  {
   "cell_type": "code",
   "execution_count": null,
   "id": "furnished-envelope",
   "metadata": {},
   "outputs": [],
   "source": [
    "# sklearn.decomposition._factor_analysis.FactorAnalysis.__repr__\n",
    "try:\n",
    "    obj = class_constructor() # noqa F821\n",
    "    ret = obj.__repr__()\n",
    "    type_sklearn_decomposition__factor_analysis_FactorAnalysis___repr__ = getattr(ret, '__module__', 'none') + '.' + ret.__class__.__name__\n",
    "    print('✅ sklearn.decomposition._factor_analysis.FactorAnalysis.__repr__: ', type(ret)) # noqa E501\n",
    "except Exception as e:\n",
    "    type_sklearn_decomposition__factor_analysis_FactorAnalysis___repr__ = '_syft_missing'\n",
    "    print('❌ sklearn.decomposition._factor_analysis.FactorAnalysis.__repr__: Return unavailable') # noqa E501\n",
    "    print(\"  Please fix this return type code until there is no exception\")\n",
    "    print('  Error:', e)\n"
   ]
  },
  {
   "cell_type": "code",
   "execution_count": null,
   "id": "illegal-clark",
   "metadata": {},
   "outputs": [],
   "source": [
    "# sklearn.decomposition._factor_analysis.FactorAnalysis.__setstate__\n",
    "try:\n",
    "    obj = class_constructor() # noqa F821\n",
    "    ret = obj.__setstate__()\n",
    "    type_sklearn_decomposition__factor_analysis_FactorAnalysis___setstate__ = getattr(ret, '__module__', 'none') + '.' + ret.__class__.__name__\n",
    "    print('✅ sklearn.decomposition._factor_analysis.FactorAnalysis.__setstate__: ', type(ret)) # noqa E501\n",
    "except Exception as e:\n",
    "    type_sklearn_decomposition__factor_analysis_FactorAnalysis___setstate__ = '_syft_missing'\n",
    "    print('❌ sklearn.decomposition._factor_analysis.FactorAnalysis.__setstate__: Return unavailable') # noqa E501\n",
    "    print(\"  Please fix this return type code until there is no exception\")\n",
    "    print('  Error:', e)\n"
   ]
  },
  {
   "cell_type": "code",
   "execution_count": null,
   "id": "assured-religion",
   "metadata": {},
   "outputs": [],
   "source": [
    "# sklearn.decomposition._factor_analysis.FactorAnalysis._check_n_features\n",
    "try:\n",
    "    obj = class_constructor() # noqa F821\n",
    "    ret = obj._check_n_features()\n",
    "    type_sklearn_decomposition__factor_analysis_FactorAnalysis__check_n_features = getattr(ret, '__module__', 'none') + '.' + ret.__class__.__name__\n",
    "    print('✅ sklearn.decomposition._factor_analysis.FactorAnalysis._check_n_features: ', type(ret)) # noqa E501\n",
    "except Exception as e:\n",
    "    type_sklearn_decomposition__factor_analysis_FactorAnalysis__check_n_features = '_syft_missing'\n",
    "    print('❌ sklearn.decomposition._factor_analysis.FactorAnalysis._check_n_features: Return unavailable') # noqa E501\n",
    "    print(\"  Please fix this return type code until there is no exception\")\n",
    "    print('  Error:', e)\n"
   ]
  },
  {
   "cell_type": "code",
   "execution_count": null,
   "id": "consistent-shopper",
   "metadata": {},
   "outputs": [],
   "source": [
    "# sklearn.decomposition._factor_analysis.FactorAnalysis._get_param_names\n",
    "try:\n",
    "    obj = class_constructor() # noqa F821\n",
    "    ret = obj._get_param_names()\n",
    "    type_sklearn_decomposition__factor_analysis_FactorAnalysis__get_param_names = getattr(ret, '__module__', 'none') + '.' + ret.__class__.__name__\n",
    "    print('✅ sklearn.decomposition._factor_analysis.FactorAnalysis._get_param_names: ', type(ret)) # noqa E501\n",
    "except Exception as e:\n",
    "    type_sklearn_decomposition__factor_analysis_FactorAnalysis__get_param_names = '_syft_missing'\n",
    "    print('❌ sklearn.decomposition._factor_analysis.FactorAnalysis._get_param_names: Return unavailable') # noqa E501\n",
    "    print(\"  Please fix this return type code until there is no exception\")\n",
    "    print('  Error:', e)\n"
   ]
  },
  {
   "cell_type": "code",
   "execution_count": null,
   "id": "retired-nursing",
   "metadata": {},
   "outputs": [],
   "source": [
    "# sklearn.decomposition._factor_analysis.FactorAnalysis._get_tags\n",
    "try:\n",
    "    obj = class_constructor() # noqa F821\n",
    "    ret = obj._get_tags()\n",
    "    type_sklearn_decomposition__factor_analysis_FactorAnalysis__get_tags = getattr(ret, '__module__', 'none') + '.' + ret.__class__.__name__\n",
    "    print('✅ sklearn.decomposition._factor_analysis.FactorAnalysis._get_tags: ', type(ret)) # noqa E501\n",
    "except Exception as e:\n",
    "    type_sklearn_decomposition__factor_analysis_FactorAnalysis__get_tags = '_syft_missing'\n",
    "    print('❌ sklearn.decomposition._factor_analysis.FactorAnalysis._get_tags: Return unavailable') # noqa E501\n",
    "    print(\"  Please fix this return type code until there is no exception\")\n",
    "    print('  Error:', e)\n"
   ]
  },
  {
   "cell_type": "code",
   "execution_count": null,
   "id": "powered-membrane",
   "metadata": {},
   "outputs": [],
   "source": [
    "# sklearn.decomposition._factor_analysis.FactorAnalysis._more_tags\n",
    "try:\n",
    "    obj = class_constructor() # noqa F821\n",
    "    ret = obj._more_tags()\n",
    "    type_sklearn_decomposition__factor_analysis_FactorAnalysis__more_tags = getattr(ret, '__module__', 'none') + '.' + ret.__class__.__name__\n",
    "    print('✅ sklearn.decomposition._factor_analysis.FactorAnalysis._more_tags: ', type(ret)) # noqa E501\n",
    "except Exception as e:\n",
    "    type_sklearn_decomposition__factor_analysis_FactorAnalysis__more_tags = '_syft_missing'\n",
    "    print('❌ sklearn.decomposition._factor_analysis.FactorAnalysis._more_tags: Return unavailable') # noqa E501\n",
    "    print(\"  Please fix this return type code until there is no exception\")\n",
    "    print('  Error:', e)\n"
   ]
  },
  {
   "cell_type": "code",
   "execution_count": null,
   "id": "mighty-coating",
   "metadata": {},
   "outputs": [],
   "source": [
    "# sklearn.decomposition._factor_analysis.FactorAnalysis._repr_html_\n",
    "try:\n",
    "    obj = class_constructor()\n",
    "    ret = obj._repr_html_\n",
    "    type_sklearn_decomposition__factor_analysis_FactorAnalysis__repr_html_ = getattr(ret, '__module__', 'none') + '.' + ret.__class__.__name__\n",
    "    print('✅ sklearn.decomposition._factor_analysis.FactorAnalysis._repr_html_:', type(ret)) # noqa E501\n",
    "except Exception as e:\n",
    "    type_sklearn_decomposition__factor_analysis_FactorAnalysis__repr_html_ = '_syft_missing'\n",
    "    print('❌ sklearn.decomposition._factor_analysis.FactorAnalysis._repr_html_: Return unavailable') # noqa E501\n",
    "    print(\"  Please fix this return type code until there is no exception\")\n",
    "    print('  Error:', e)\n"
   ]
  },
  {
   "cell_type": "code",
   "execution_count": null,
   "id": "blank-clinic",
   "metadata": {},
   "outputs": [],
   "source": [
    "# sklearn.decomposition._factor_analysis.FactorAnalysis._repr_html_inner\n",
    "try:\n",
    "    obj = class_constructor() # noqa F821\n",
    "    ret = obj._repr_html_inner()\n",
    "    type_sklearn_decomposition__factor_analysis_FactorAnalysis__repr_html_inner = getattr(ret, '__module__', 'none') + '.' + ret.__class__.__name__\n",
    "    print('✅ sklearn.decomposition._factor_analysis.FactorAnalysis._repr_html_inner: ', type(ret)) # noqa E501\n",
    "except Exception as e:\n",
    "    type_sklearn_decomposition__factor_analysis_FactorAnalysis__repr_html_inner = '_syft_missing'\n",
    "    print('❌ sklearn.decomposition._factor_analysis.FactorAnalysis._repr_html_inner: Return unavailable') # noqa E501\n",
    "    print(\"  Please fix this return type code until there is no exception\")\n",
    "    print('  Error:', e)\n"
   ]
  },
  {
   "cell_type": "code",
   "execution_count": null,
   "id": "wrapped-morris",
   "metadata": {},
   "outputs": [],
   "source": [
    "# sklearn.decomposition._factor_analysis.FactorAnalysis._repr_mimebundle_\n",
    "try:\n",
    "    obj = class_constructor() # noqa F821\n",
    "    ret = obj._repr_mimebundle_()\n",
    "    type_sklearn_decomposition__factor_analysis_FactorAnalysis__repr_mimebundle_ = getattr(ret, '__module__', 'none') + '.' + ret.__class__.__name__\n",
    "    print('✅ sklearn.decomposition._factor_analysis.FactorAnalysis._repr_mimebundle_: ', type(ret)) # noqa E501\n",
    "except Exception as e:\n",
    "    type_sklearn_decomposition__factor_analysis_FactorAnalysis__repr_mimebundle_ = '_syft_missing'\n",
    "    print('❌ sklearn.decomposition._factor_analysis.FactorAnalysis._repr_mimebundle_: Return unavailable') # noqa E501\n",
    "    print(\"  Please fix this return type code until there is no exception\")\n",
    "    print('  Error:', e)\n"
   ]
  },
  {
   "cell_type": "code",
   "execution_count": null,
   "id": "raised-pantyhose",
   "metadata": {},
   "outputs": [],
   "source": [
    "# sklearn.decomposition._factor_analysis.FactorAnalysis._rotate\n",
    "try:\n",
    "    obj = class_constructor() # noqa F821\n",
    "    ret = obj._rotate()\n",
    "    type_sklearn_decomposition__factor_analysis_FactorAnalysis__rotate = getattr(ret, '__module__', 'none') + '.' + ret.__class__.__name__\n",
    "    print('✅ sklearn.decomposition._factor_analysis.FactorAnalysis._rotate: ', type(ret)) # noqa E501\n",
    "except Exception as e:\n",
    "    type_sklearn_decomposition__factor_analysis_FactorAnalysis__rotate = '_syft_missing'\n",
    "    print('❌ sklearn.decomposition._factor_analysis.FactorAnalysis._rotate: Return unavailable') # noqa E501\n",
    "    print(\"  Please fix this return type code until there is no exception\")\n",
    "    print('  Error:', e)\n"
   ]
  },
  {
   "cell_type": "code",
   "execution_count": null,
   "id": "current-eugene",
   "metadata": {},
   "outputs": [],
   "source": [
    "# sklearn.decomposition._factor_analysis.FactorAnalysis._validate_data\n",
    "try:\n",
    "    obj = class_constructor() # noqa F821\n",
    "    ret = obj._validate_data()\n",
    "    type_sklearn_decomposition__factor_analysis_FactorAnalysis__validate_data = getattr(ret, '__module__', 'none') + '.' + ret.__class__.__name__\n",
    "    print('✅ sklearn.decomposition._factor_analysis.FactorAnalysis._validate_data: ', type(ret)) # noqa E501\n",
    "except Exception as e:\n",
    "    type_sklearn_decomposition__factor_analysis_FactorAnalysis__validate_data = '_syft_missing'\n",
    "    print('❌ sklearn.decomposition._factor_analysis.FactorAnalysis._validate_data: Return unavailable') # noqa E501\n",
    "    print(\"  Please fix this return type code until there is no exception\")\n",
    "    print('  Error:', e)\n"
   ]
  },
  {
   "cell_type": "code",
   "execution_count": null,
   "id": "square-minority",
   "metadata": {},
   "outputs": [],
   "source": [
    "# sklearn.decomposition._factor_analysis.FactorAnalysis.fit\n",
    "try:\n",
    "    obj = class_constructor() # noqa F821\n",
    "    ret = obj.fit()\n",
    "    type_sklearn_decomposition__factor_analysis_FactorAnalysis_fit = getattr(ret, '__module__', 'none') + '.' + ret.__class__.__name__\n",
    "    print('✅ sklearn.decomposition._factor_analysis.FactorAnalysis.fit: ', type(ret)) # noqa E501\n",
    "except Exception as e:\n",
    "    type_sklearn_decomposition__factor_analysis_FactorAnalysis_fit = '_syft_missing'\n",
    "    print('❌ sklearn.decomposition._factor_analysis.FactorAnalysis.fit: Return unavailable') # noqa E501\n",
    "    print(\"  Please fix this return type code until there is no exception\")\n",
    "    print('  Error:', e)\n"
   ]
  },
  {
   "cell_type": "code",
   "execution_count": null,
   "id": "textile-denial",
   "metadata": {},
   "outputs": [],
   "source": [
    "# sklearn.decomposition._factor_analysis.FactorAnalysis.fit_transform\n",
    "try:\n",
    "    obj = class_constructor() # noqa F821\n",
    "    ret = obj.fit_transform()\n",
    "    type_sklearn_decomposition__factor_analysis_FactorAnalysis_fit_transform = getattr(ret, '__module__', 'none') + '.' + ret.__class__.__name__\n",
    "    print('✅ sklearn.decomposition._factor_analysis.FactorAnalysis.fit_transform: ', type(ret)) # noqa E501\n",
    "except Exception as e:\n",
    "    type_sklearn_decomposition__factor_analysis_FactorAnalysis_fit_transform = '_syft_missing'\n",
    "    print('❌ sklearn.decomposition._factor_analysis.FactorAnalysis.fit_transform: Return unavailable') # noqa E501\n",
    "    print(\"  Please fix this return type code until there is no exception\")\n",
    "    print('  Error:', e)\n"
   ]
  },
  {
   "cell_type": "code",
   "execution_count": null,
   "id": "sonic-freeze",
   "metadata": {},
   "outputs": [],
   "source": [
    "# sklearn.decomposition._factor_analysis.FactorAnalysis.get_covariance\n",
    "try:\n",
    "    obj = class_constructor() # noqa F821\n",
    "    ret = obj.get_covariance()\n",
    "    type_sklearn_decomposition__factor_analysis_FactorAnalysis_get_covariance = getattr(ret, '__module__', 'none') + '.' + ret.__class__.__name__\n",
    "    print('✅ sklearn.decomposition._factor_analysis.FactorAnalysis.get_covariance: ', type(ret)) # noqa E501\n",
    "except Exception as e:\n",
    "    type_sklearn_decomposition__factor_analysis_FactorAnalysis_get_covariance = '_syft_missing'\n",
    "    print('❌ sklearn.decomposition._factor_analysis.FactorAnalysis.get_covariance: Return unavailable') # noqa E501\n",
    "    print(\"  Please fix this return type code until there is no exception\")\n",
    "    print('  Error:', e)\n"
   ]
  },
  {
   "cell_type": "code",
   "execution_count": null,
   "id": "danish-exclusion",
   "metadata": {},
   "outputs": [],
   "source": [
    "# sklearn.decomposition._factor_analysis.FactorAnalysis.get_params\n",
    "try:\n",
    "    obj = class_constructor() # noqa F821\n",
    "    ret = obj.get_params()\n",
    "    type_sklearn_decomposition__factor_analysis_FactorAnalysis_get_params = getattr(ret, '__module__', 'none') + '.' + ret.__class__.__name__\n",
    "    print('✅ sklearn.decomposition._factor_analysis.FactorAnalysis.get_params: ', type(ret)) # noqa E501\n",
    "except Exception as e:\n",
    "    type_sklearn_decomposition__factor_analysis_FactorAnalysis_get_params = '_syft_missing'\n",
    "    print('❌ sklearn.decomposition._factor_analysis.FactorAnalysis.get_params: Return unavailable') # noqa E501\n",
    "    print(\"  Please fix this return type code until there is no exception\")\n",
    "    print('  Error:', e)\n"
   ]
  },
  {
   "cell_type": "code",
   "execution_count": null,
   "id": "collective-stupid",
   "metadata": {},
   "outputs": [],
   "source": [
    "# sklearn.decomposition._factor_analysis.FactorAnalysis.get_precision\n",
    "try:\n",
    "    obj = class_constructor() # noqa F821\n",
    "    ret = obj.get_precision()\n",
    "    type_sklearn_decomposition__factor_analysis_FactorAnalysis_get_precision = getattr(ret, '__module__', 'none') + '.' + ret.__class__.__name__\n",
    "    print('✅ sklearn.decomposition._factor_analysis.FactorAnalysis.get_precision: ', type(ret)) # noqa E501\n",
    "except Exception as e:\n",
    "    type_sklearn_decomposition__factor_analysis_FactorAnalysis_get_precision = '_syft_missing'\n",
    "    print('❌ sklearn.decomposition._factor_analysis.FactorAnalysis.get_precision: Return unavailable') # noqa E501\n",
    "    print(\"  Please fix this return type code until there is no exception\")\n",
    "    print('  Error:', e)\n"
   ]
  },
  {
   "cell_type": "code",
   "execution_count": null,
   "id": "worthy-exchange",
   "metadata": {},
   "outputs": [],
   "source": [
    "# sklearn.decomposition._factor_analysis.FactorAnalysis.score\n",
    "try:\n",
    "    obj = class_constructor() # noqa F821\n",
    "    ret = obj.score()\n",
    "    type_sklearn_decomposition__factor_analysis_FactorAnalysis_score = getattr(ret, '__module__', 'none') + '.' + ret.__class__.__name__\n",
    "    print('✅ sklearn.decomposition._factor_analysis.FactorAnalysis.score: ', type(ret)) # noqa E501\n",
    "except Exception as e:\n",
    "    type_sklearn_decomposition__factor_analysis_FactorAnalysis_score = '_syft_missing'\n",
    "    print('❌ sklearn.decomposition._factor_analysis.FactorAnalysis.score: Return unavailable') # noqa E501\n",
    "    print(\"  Please fix this return type code until there is no exception\")\n",
    "    print('  Error:', e)\n"
   ]
  },
  {
   "cell_type": "code",
   "execution_count": null,
   "id": "identical-thousand",
   "metadata": {},
   "outputs": [],
   "source": [
    "# sklearn.decomposition._factor_analysis.FactorAnalysis.score_samples\n",
    "try:\n",
    "    obj = class_constructor() # noqa F821\n",
    "    ret = obj.score_samples()\n",
    "    type_sklearn_decomposition__factor_analysis_FactorAnalysis_score_samples = getattr(ret, '__module__', 'none') + '.' + ret.__class__.__name__\n",
    "    print('✅ sklearn.decomposition._factor_analysis.FactorAnalysis.score_samples: ', type(ret)) # noqa E501\n",
    "except Exception as e:\n",
    "    type_sklearn_decomposition__factor_analysis_FactorAnalysis_score_samples = '_syft_missing'\n",
    "    print('❌ sklearn.decomposition._factor_analysis.FactorAnalysis.score_samples: Return unavailable') # noqa E501\n",
    "    print(\"  Please fix this return type code until there is no exception\")\n",
    "    print('  Error:', e)\n"
   ]
  },
  {
   "cell_type": "code",
   "execution_count": null,
   "id": "million-cleaner",
   "metadata": {},
   "outputs": [],
   "source": [
    "# sklearn.decomposition._factor_analysis.FactorAnalysis.set_params\n",
    "try:\n",
    "    obj = class_constructor() # noqa F821\n",
    "    ret = obj.set_params()\n",
    "    type_sklearn_decomposition__factor_analysis_FactorAnalysis_set_params = getattr(ret, '__module__', 'none') + '.' + ret.__class__.__name__\n",
    "    print('✅ sklearn.decomposition._factor_analysis.FactorAnalysis.set_params: ', type(ret)) # noqa E501\n",
    "except Exception as e:\n",
    "    type_sklearn_decomposition__factor_analysis_FactorAnalysis_set_params = '_syft_missing'\n",
    "    print('❌ sklearn.decomposition._factor_analysis.FactorAnalysis.set_params: Return unavailable') # noqa E501\n",
    "    print(\"  Please fix this return type code until there is no exception\")\n",
    "    print('  Error:', e)\n"
   ]
  },
  {
   "cell_type": "code",
   "execution_count": null,
   "id": "patient-weight",
   "metadata": {},
   "outputs": [],
   "source": [
    "# sklearn.decomposition._factor_analysis.FactorAnalysis.transform\n",
    "try:\n",
    "    obj = class_constructor() # noqa F821\n",
    "    ret = obj.transform()\n",
    "    type_sklearn_decomposition__factor_analysis_FactorAnalysis_transform = getattr(ret, '__module__', 'none') + '.' + ret.__class__.__name__\n",
    "    print('✅ sklearn.decomposition._factor_analysis.FactorAnalysis.transform: ', type(ret)) # noqa E501\n",
    "except Exception as e:\n",
    "    type_sklearn_decomposition__factor_analysis_FactorAnalysis_transform = '_syft_missing'\n",
    "    print('❌ sklearn.decomposition._factor_analysis.FactorAnalysis.transform: Return unavailable') # noqa E501\n",
    "    print(\"  Please fix this return type code until there is no exception\")\n",
    "    print('  Error:', e)\n"
   ]
  }
 ],
 "metadata": {},
 "nbformat": 4,
 "nbformat_minor": 5
}
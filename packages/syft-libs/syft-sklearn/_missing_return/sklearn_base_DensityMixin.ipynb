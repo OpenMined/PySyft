{
 "cells": [
  {
   "cell_type": "markdown",
   "id": "loaded-survival",
   "metadata": {},
   "source": [
    "## sklearn.base.DensityMixin"
   ]
  },
  {
   "cell_type": "code",
   "execution_count": null,
   "id": "republican-liabilities",
   "metadata": {},
   "outputs": [],
   "source": [
    "import sklearn\n",
    "def class_constructor(*args, **kwargs):\n",
    "    obj = sklearn.base.DensityMixin()\n",
    "    return obj\n"
   ]
  },
  {
   "cell_type": "code",
   "execution_count": null,
   "id": "complete-cisco",
   "metadata": {},
   "outputs": [],
   "source": [
    "# sklearn.base.DensityMixin.score\n",
    "try:\n",
    "    obj = class_constructor() # noqa F821\n",
    "    ret = obj.score()\n",
    "    type_sklearn_base_DensityMixin_score = getattr(ret, '__module__', 'none') + '.' + ret.__class__.__name__\n",
    "    print('✅ sklearn.base.DensityMixin.score: ', type(ret)) # noqa E501\n",
    "except Exception as e:\n",
    "    type_sklearn_base_DensityMixin_score = '_syft_missing'\n",
    "    print('❌ sklearn.base.DensityMixin.score: Return unavailable') # noqa E501\n",
    "    print(\"  Please fix this return type code until there is no exception\")\n",
    "    print('  Error:', e)\n"
   ]
  }
 ],
 "metadata": {},
 "nbformat": 4,
 "nbformat_minor": 5
}
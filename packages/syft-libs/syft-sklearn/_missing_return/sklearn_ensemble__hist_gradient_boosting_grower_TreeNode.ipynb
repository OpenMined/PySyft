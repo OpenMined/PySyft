{
 "cells": [
  {
   "cell_type": "markdown",
   "id": "destroyed-validation",
   "metadata": {},
   "source": [
    "## sklearn.ensemble._hist_gradient_boosting.grower.TreeNode"
   ]
  },
  {
   "cell_type": "code",
   "execution_count": null,
   "id": "african-validation",
   "metadata": {},
   "outputs": [],
   "source": [
    "import sklearn\n",
    "def class_constructor(*args, **kwargs):\n",
    "    obj = sklearn.ensemble._hist_gradient_boosting.grower.TreeNode()\n",
    "    return obj\n"
   ]
  },
  {
   "cell_type": "code",
   "execution_count": null,
   "id": "interstate-problem",
   "metadata": {},
   "outputs": [],
   "source": [
    "# sklearn.ensemble._hist_gradient_boosting.grower.TreeNode.__lt__\n",
    "try:\n",
    "    obj = class_constructor() # noqa F821\n",
    "    ret = obj.__lt__()\n",
    "    type_sklearn_ensemble__hist_gradient_boosting_grower_TreeNode___lt__ = getattr(ret, '__module__', 'none') + '.' + ret.__class__.__name__\n",
    "    print('✅ sklearn.ensemble._hist_gradient_boosting.grower.TreeNode.__lt__: ', type(ret)) # noqa E501\n",
    "except Exception as e:\n",
    "    type_sklearn_ensemble__hist_gradient_boosting_grower_TreeNode___lt__ = '_syft_missing'\n",
    "    print('❌ sklearn.ensemble._hist_gradient_boosting.grower.TreeNode.__lt__: Return unavailable') # noqa E501\n",
    "    print(\"  Please fix this return type code until there is no exception\")\n",
    "    print('  Error:', e)\n"
   ]
  },
  {
   "cell_type": "code",
   "execution_count": null,
   "id": "hawaiian-church",
   "metadata": {},
   "outputs": [],
   "source": [
    "# sklearn.ensemble._hist_gradient_boosting.grower.TreeNode.set_children_bounds\n",
    "try:\n",
    "    obj = class_constructor() # noqa F821\n",
    "    ret = obj.set_children_bounds()\n",
    "    type_sklearn_ensemble__hist_gradient_boosting_grower_TreeNode_set_children_bounds = getattr(ret, '__module__', 'none') + '.' + ret.__class__.__name__\n",
    "    print('✅ sklearn.ensemble._hist_gradient_boosting.grower.TreeNode.set_children_bounds: ', type(ret)) # noqa E501\n",
    "except Exception as e:\n",
    "    type_sklearn_ensemble__hist_gradient_boosting_grower_TreeNode_set_children_bounds = '_syft_missing'\n",
    "    print('❌ sklearn.ensemble._hist_gradient_boosting.grower.TreeNode.set_children_bounds: Return unavailable') # noqa E501\n",
    "    print(\"  Please fix this return type code until there is no exception\")\n",
    "    print('  Error:', e)\n"
   ]
  }
 ],
 "metadata": {},
 "nbformat": 4,
 "nbformat_minor": 5
}
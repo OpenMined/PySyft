{
 "cells": [
  {
   "cell_type": "markdown",
   "id": "french-profit",
   "metadata": {},
   "source": [
    "## sklearn.base.OutlierMixin"
   ]
  },
  {
   "cell_type": "code",
   "execution_count": null,
   "id": "lyric-clinic",
   "metadata": {},
   "outputs": [],
   "source": [
    "import sklearn\n",
    "def class_constructor(*args, **kwargs):\n",
    "    obj = sklearn.base.OutlierMixin()\n",
    "    return obj\n"
   ]
  },
  {
   "cell_type": "code",
   "execution_count": null,
   "id": "flexible-immunology",
   "metadata": {},
   "outputs": [],
   "source": [
    "# sklearn.base.OutlierMixin.fit_predict\n",
    "try:\n",
    "    obj = class_constructor() # noqa F821\n",
    "    ret = obj.fit_predict()\n",
    "    type_sklearn_base_OutlierMixin_fit_predict = getattr(ret, '__module__', 'none') + '.' + ret.__class__.__name__\n",
    "    print('✅ sklearn.base.OutlierMixin.fit_predict: ', type(ret)) # noqa E501\n",
    "except Exception as e:\n",
    "    type_sklearn_base_OutlierMixin_fit_predict = '_syft_missing'\n",
    "    print('❌ sklearn.base.OutlierMixin.fit_predict: Return unavailable') # noqa E501\n",
    "    print(\"  Please fix this return type code until there is no exception\")\n",
    "    print('  Error:', e)\n"
   ]
  }
 ],
 "metadata": {},
 "nbformat": 4,
 "nbformat_minor": 5
}
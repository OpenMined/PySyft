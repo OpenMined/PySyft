{
 "cells": [
  {
   "cell_type": "markdown",
   "id": "afraid-storm",
   "metadata": {},
   "source": [
    "## sklearn.externals._pep562.Pep562"
   ]
  },
  {
   "cell_type": "code",
   "execution_count": null,
   "id": "closing-coral",
   "metadata": {},
   "outputs": [],
   "source": [
    "import sklearn\n",
    "def class_constructor(*args, **kwargs):\n",
    "    obj = sklearn.externals._pep562.Pep562()\n",
    "    return obj\n"
   ]
  },
  {
   "cell_type": "code",
   "execution_count": null,
   "id": "musical-baking",
   "metadata": {},
   "outputs": [],
   "source": [
    "# sklearn.externals._pep562.Pep562.__dir__\n",
    "try:\n",
    "    obj = class_constructor() # noqa F821\n",
    "    ret = obj.__dir__()\n",
    "    type_sklearn_externals__pep562_Pep562___dir__ = getattr(ret, '__module__', 'none') + '.' + ret.__class__.__name__\n",
    "    print('✅ sklearn.externals._pep562.Pep562.__dir__: ', type(ret)) # noqa E501\n",
    "except Exception as e:\n",
    "    type_sklearn_externals__pep562_Pep562___dir__ = '_syft_missing'\n",
    "    print('❌ sklearn.externals._pep562.Pep562.__dir__: Return unavailable') # noqa E501\n",
    "    print(\"  Please fix this return type code until there is no exception\")\n",
    "    print('  Error:', e)\n"
   ]
  },
  {
   "cell_type": "code",
   "execution_count": null,
   "id": "blessed-municipality",
   "metadata": {},
   "outputs": [],
   "source": [
    "# sklearn.externals._pep562.Pep562.__getattr__\n",
    "try:\n",
    "    obj = class_constructor() # noqa F821\n",
    "    ret = obj.__getattr__()\n",
    "    type_sklearn_externals__pep562_Pep562___getattr__ = getattr(ret, '__module__', 'none') + '.' + ret.__class__.__name__\n",
    "    print('✅ sklearn.externals._pep562.Pep562.__getattr__: ', type(ret)) # noqa E501\n",
    "except Exception as e:\n",
    "    type_sklearn_externals__pep562_Pep562___getattr__ = '_syft_missing'\n",
    "    print('❌ sklearn.externals._pep562.Pep562.__getattr__: Return unavailable') # noqa E501\n",
    "    print(\"  Please fix this return type code until there is no exception\")\n",
    "    print('  Error:', e)\n"
   ]
  }
 ],
 "metadata": {},
 "nbformat": 4,
 "nbformat_minor": 5
}
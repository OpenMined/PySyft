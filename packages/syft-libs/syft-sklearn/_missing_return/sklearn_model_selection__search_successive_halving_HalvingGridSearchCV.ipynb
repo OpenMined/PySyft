{
 "cells": [
  {
   "cell_type": "markdown",
   "id": "ecological-clause",
   "metadata": {},
   "source": [
    "## sklearn.model_selection._search_successive_halving.HalvingGridSearchCV"
   ]
  },
  {
   "cell_type": "code",
   "execution_count": null,
   "id": "worth-strength",
   "metadata": {},
   "outputs": [],
   "source": [
    "import sklearn\n",
    "def class_constructor(*args, **kwargs):\n",
    "    obj = sklearn.model_selection._search_successive_halving.HalvingGridSearchCV()\n",
    "    return obj\n"
   ]
  },
  {
   "cell_type": "code",
   "execution_count": null,
   "id": "included-camel",
   "metadata": {},
   "outputs": [],
   "source": [
    "# sklearn.model_selection._search_successive_halving.HalvingGridSearchCV.__getstate__\n",
    "try:\n",
    "    obj = class_constructor() # noqa F821\n",
    "    ret = obj.__getstate__()\n",
    "    type_sklearn_model_selection__search_successive_halving_HalvingGridSearchCV___getstate__ = getattr(ret, '__module__', 'none') + '.' + ret.__class__.__name__\n",
    "    print('✅ sklearn.model_selection._search_successive_halving.HalvingGridSearchCV.__getstate__: ', type(ret)) # noqa E501\n",
    "except Exception as e:\n",
    "    type_sklearn_model_selection__search_successive_halving_HalvingGridSearchCV___getstate__ = '_syft_missing'\n",
    "    print('❌ sklearn.model_selection._search_successive_halving.HalvingGridSearchCV.__getstate__: Return unavailable') # noqa E501\n",
    "    print(\"  Please fix this return type code until there is no exception\")\n",
    "    print('  Error:', e)\n"
   ]
  },
  {
   "cell_type": "code",
   "execution_count": null,
   "id": "affected-sheep",
   "metadata": {},
   "outputs": [],
   "source": [
    "# sklearn.model_selection._search_successive_halving.HalvingGridSearchCV.__repr__\n",
    "try:\n",
    "    obj = class_constructor() # noqa F821\n",
    "    ret = obj.__repr__()\n",
    "    type_sklearn_model_selection__search_successive_halving_HalvingGridSearchCV___repr__ = getattr(ret, '__module__', 'none') + '.' + ret.__class__.__name__\n",
    "    print('✅ sklearn.model_selection._search_successive_halving.HalvingGridSearchCV.__repr__: ', type(ret)) # noqa E501\n",
    "except Exception as e:\n",
    "    type_sklearn_model_selection__search_successive_halving_HalvingGridSearchCV___repr__ = '_syft_missing'\n",
    "    print('❌ sklearn.model_selection._search_successive_halving.HalvingGridSearchCV.__repr__: Return unavailable') # noqa E501\n",
    "    print(\"  Please fix this return type code until there is no exception\")\n",
    "    print('  Error:', e)\n"
   ]
  },
  {
   "cell_type": "code",
   "execution_count": null,
   "id": "powered-occurrence",
   "metadata": {},
   "outputs": [],
   "source": [
    "# sklearn.model_selection._search_successive_halving.HalvingGridSearchCV.__setstate__\n",
    "try:\n",
    "    obj = class_constructor() # noqa F821\n",
    "    ret = obj.__setstate__()\n",
    "    type_sklearn_model_selection__search_successive_halving_HalvingGridSearchCV___setstate__ = getattr(ret, '__module__', 'none') + '.' + ret.__class__.__name__\n",
    "    print('✅ sklearn.model_selection._search_successive_halving.HalvingGridSearchCV.__setstate__: ', type(ret)) # noqa E501\n",
    "except Exception as e:\n",
    "    type_sklearn_model_selection__search_successive_halving_HalvingGridSearchCV___setstate__ = '_syft_missing'\n",
    "    print('❌ sklearn.model_selection._search_successive_halving.HalvingGridSearchCV.__setstate__: Return unavailable') # noqa E501\n",
    "    print(\"  Please fix this return type code until there is no exception\")\n",
    "    print('  Error:', e)\n"
   ]
  },
  {
   "cell_type": "code",
   "execution_count": null,
   "id": "brilliant-forwarding",
   "metadata": {},
   "outputs": [],
   "source": [
    "# sklearn.model_selection._search_successive_halving.HalvingGridSearchCV._check_input_parameters\n",
    "try:\n",
    "    obj = class_constructor() # noqa F821\n",
    "    ret = obj._check_input_parameters()\n",
    "    type_sklearn_model_selection__search_successive_halving_HalvingGridSearchCV__check_input_parameters = getattr(ret, '__module__', 'none') + '.' + ret.__class__.__name__\n",
    "    print('✅ sklearn.model_selection._search_successive_halving.HalvingGridSearchCV._check_input_parameters: ', type(ret)) # noqa E501\n",
    "except Exception as e:\n",
    "    type_sklearn_model_selection__search_successive_halving_HalvingGridSearchCV__check_input_parameters = '_syft_missing'\n",
    "    print('❌ sklearn.model_selection._search_successive_halving.HalvingGridSearchCV._check_input_parameters: Return unavailable') # noqa E501\n",
    "    print(\"  Please fix this return type code until there is no exception\")\n",
    "    print('  Error:', e)\n"
   ]
  },
  {
   "cell_type": "code",
   "execution_count": null,
   "id": "spiritual-designation",
   "metadata": {},
   "outputs": [],
   "source": [
    "# sklearn.model_selection._search_successive_halving.HalvingGridSearchCV._check_is_fitted\n",
    "try:\n",
    "    obj = class_constructor() # noqa F821\n",
    "    ret = obj._check_is_fitted()\n",
    "    type_sklearn_model_selection__search_successive_halving_HalvingGridSearchCV__check_is_fitted = getattr(ret, '__module__', 'none') + '.' + ret.__class__.__name__\n",
    "    print('✅ sklearn.model_selection._search_successive_halving.HalvingGridSearchCV._check_is_fitted: ', type(ret)) # noqa E501\n",
    "except Exception as e:\n",
    "    type_sklearn_model_selection__search_successive_halving_HalvingGridSearchCV__check_is_fitted = '_syft_missing'\n",
    "    print('❌ sklearn.model_selection._search_successive_halving.HalvingGridSearchCV._check_is_fitted: Return unavailable') # noqa E501\n",
    "    print(\"  Please fix this return type code until there is no exception\")\n",
    "    print('  Error:', e)\n"
   ]
  },
  {
   "cell_type": "code",
   "execution_count": null,
   "id": "suspected-testament",
   "metadata": {},
   "outputs": [],
   "source": [
    "# sklearn.model_selection._search_successive_halving.HalvingGridSearchCV._check_n_features\n",
    "try:\n",
    "    obj = class_constructor() # noqa F821\n",
    "    ret = obj._check_n_features()\n",
    "    type_sklearn_model_selection__search_successive_halving_HalvingGridSearchCV__check_n_features = getattr(ret, '__module__', 'none') + '.' + ret.__class__.__name__\n",
    "    print('✅ sklearn.model_selection._search_successive_halving.HalvingGridSearchCV._check_n_features: ', type(ret)) # noqa E501\n",
    "except Exception as e:\n",
    "    type_sklearn_model_selection__search_successive_halving_HalvingGridSearchCV__check_n_features = '_syft_missing'\n",
    "    print('❌ sklearn.model_selection._search_successive_halving.HalvingGridSearchCV._check_n_features: Return unavailable') # noqa E501\n",
    "    print(\"  Please fix this return type code until there is no exception\")\n",
    "    print('  Error:', e)\n"
   ]
  },
  {
   "cell_type": "code",
   "execution_count": null,
   "id": "assumed-implementation",
   "metadata": {},
   "outputs": [],
   "source": [
    "# sklearn.model_selection._search_successive_halving.HalvingGridSearchCV._check_refit_for_multimetric\n",
    "try:\n",
    "    obj = class_constructor() # noqa F821\n",
    "    ret = obj._check_refit_for_multimetric()\n",
    "    type_sklearn_model_selection__search_successive_halving_HalvingGridSearchCV__check_refit_for_multimetric = getattr(ret, '__module__', 'none') + '.' + ret.__class__.__name__\n",
    "    print('✅ sklearn.model_selection._search_successive_halving.HalvingGridSearchCV._check_refit_for_multimetric: ', type(ret)) # noqa E501\n",
    "except Exception as e:\n",
    "    type_sklearn_model_selection__search_successive_halving_HalvingGridSearchCV__check_refit_for_multimetric = '_syft_missing'\n",
    "    print('❌ sklearn.model_selection._search_successive_halving.HalvingGridSearchCV._check_refit_for_multimetric: Return unavailable') # noqa E501\n",
    "    print(\"  Please fix this return type code until there is no exception\")\n",
    "    print('  Error:', e)\n"
   ]
  },
  {
   "cell_type": "code",
   "execution_count": null,
   "id": "middle-blogger",
   "metadata": {},
   "outputs": [],
   "source": [
    "# sklearn.model_selection._search_successive_halving.HalvingGridSearchCV._estimator_type\n",
    "try:\n",
    "    obj = class_constructor()\n",
    "    ret = obj._estimator_type\n",
    "    type_sklearn_model_selection__search_successive_halving_HalvingGridSearchCV__estimator_type = getattr(ret, '__module__', 'none') + '.' + ret.__class__.__name__\n",
    "    print('✅ sklearn.model_selection._search_successive_halving.HalvingGridSearchCV._estimator_type:', type(ret)) # noqa E501\n",
    "except Exception as e:\n",
    "    type_sklearn_model_selection__search_successive_halving_HalvingGridSearchCV__estimator_type = '_syft_missing'\n",
    "    print('❌ sklearn.model_selection._search_successive_halving.HalvingGridSearchCV._estimator_type: Return unavailable') # noqa E501\n",
    "    print(\"  Please fix this return type code until there is no exception\")\n",
    "    print('  Error:', e)\n"
   ]
  },
  {
   "cell_type": "code",
   "execution_count": null,
   "id": "domestic-webcam",
   "metadata": {},
   "outputs": [],
   "source": [
    "# sklearn.model_selection._search_successive_halving.HalvingGridSearchCV._format_results\n",
    "try:\n",
    "    obj = class_constructor() # noqa F821\n",
    "    ret = obj._format_results()\n",
    "    type_sklearn_model_selection__search_successive_halving_HalvingGridSearchCV__format_results = getattr(ret, '__module__', 'none') + '.' + ret.__class__.__name__\n",
    "    print('✅ sklearn.model_selection._search_successive_halving.HalvingGridSearchCV._format_results: ', type(ret)) # noqa E501\n",
    "except Exception as e:\n",
    "    type_sklearn_model_selection__search_successive_halving_HalvingGridSearchCV__format_results = '_syft_missing'\n",
    "    print('❌ sklearn.model_selection._search_successive_halving.HalvingGridSearchCV._format_results: Return unavailable') # noqa E501\n",
    "    print(\"  Please fix this return type code until there is no exception\")\n",
    "    print('  Error:', e)\n"
   ]
  },
  {
   "cell_type": "code",
   "execution_count": null,
   "id": "moving-marks",
   "metadata": {},
   "outputs": [],
   "source": [
    "# sklearn.model_selection._search_successive_halving.HalvingGridSearchCV._generate_candidate_params\n",
    "try:\n",
    "    obj = class_constructor() # noqa F821\n",
    "    ret = obj._generate_candidate_params()\n",
    "    type_sklearn_model_selection__search_successive_halving_HalvingGridSearchCV__generate_candidate_params = getattr(ret, '__module__', 'none') + '.' + ret.__class__.__name__\n",
    "    print('✅ sklearn.model_selection._search_successive_halving.HalvingGridSearchCV._generate_candidate_params: ', type(ret)) # noqa E501\n",
    "except Exception as e:\n",
    "    type_sklearn_model_selection__search_successive_halving_HalvingGridSearchCV__generate_candidate_params = '_syft_missing'\n",
    "    print('❌ sklearn.model_selection._search_successive_halving.HalvingGridSearchCV._generate_candidate_params: Return unavailable') # noqa E501\n",
    "    print(\"  Please fix this return type code until there is no exception\")\n",
    "    print('  Error:', e)\n"
   ]
  },
  {
   "cell_type": "code",
   "execution_count": null,
   "id": "micro-oakland",
   "metadata": {},
   "outputs": [],
   "source": [
    "# sklearn.model_selection._search_successive_halving.HalvingGridSearchCV._get_param_names\n",
    "try:\n",
    "    obj = class_constructor() # noqa F821\n",
    "    ret = obj._get_param_names()\n",
    "    type_sklearn_model_selection__search_successive_halving_HalvingGridSearchCV__get_param_names = getattr(ret, '__module__', 'none') + '.' + ret.__class__.__name__\n",
    "    print('✅ sklearn.model_selection._search_successive_halving.HalvingGridSearchCV._get_param_names: ', type(ret)) # noqa E501\n",
    "except Exception as e:\n",
    "    type_sklearn_model_selection__search_successive_halving_HalvingGridSearchCV__get_param_names = '_syft_missing'\n",
    "    print('❌ sklearn.model_selection._search_successive_halving.HalvingGridSearchCV._get_param_names: Return unavailable') # noqa E501\n",
    "    print(\"  Please fix this return type code until there is no exception\")\n",
    "    print('  Error:', e)\n"
   ]
  },
  {
   "cell_type": "code",
   "execution_count": null,
   "id": "dirty-seventh",
   "metadata": {},
   "outputs": [],
   "source": [
    "# sklearn.model_selection._search_successive_halving.HalvingGridSearchCV._get_tags\n",
    "try:\n",
    "    obj = class_constructor() # noqa F821\n",
    "    ret = obj._get_tags()\n",
    "    type_sklearn_model_selection__search_successive_halving_HalvingGridSearchCV__get_tags = getattr(ret, '__module__', 'none') + '.' + ret.__class__.__name__\n",
    "    print('✅ sklearn.model_selection._search_successive_halving.HalvingGridSearchCV._get_tags: ', type(ret)) # noqa E501\n",
    "except Exception as e:\n",
    "    type_sklearn_model_selection__search_successive_halving_HalvingGridSearchCV__get_tags = '_syft_missing'\n",
    "    print('❌ sklearn.model_selection._search_successive_halving.HalvingGridSearchCV._get_tags: Return unavailable') # noqa E501\n",
    "    print(\"  Please fix this return type code until there is no exception\")\n",
    "    print('  Error:', e)\n"
   ]
  },
  {
   "cell_type": "code",
   "execution_count": null,
   "id": "third-nicaragua",
   "metadata": {},
   "outputs": [],
   "source": [
    "# sklearn.model_selection._search_successive_halving.HalvingGridSearchCV._more_tags\n",
    "try:\n",
    "    obj = class_constructor() # noqa F821\n",
    "    ret = obj._more_tags()\n",
    "    type_sklearn_model_selection__search_successive_halving_HalvingGridSearchCV__more_tags = getattr(ret, '__module__', 'none') + '.' + ret.__class__.__name__\n",
    "    print('✅ sklearn.model_selection._search_successive_halving.HalvingGridSearchCV._more_tags: ', type(ret)) # noqa E501\n",
    "except Exception as e:\n",
    "    type_sklearn_model_selection__search_successive_halving_HalvingGridSearchCV__more_tags = '_syft_missing'\n",
    "    print('❌ sklearn.model_selection._search_successive_halving.HalvingGridSearchCV._more_tags: Return unavailable') # noqa E501\n",
    "    print(\"  Please fix this return type code until there is no exception\")\n",
    "    print('  Error:', e)\n"
   ]
  },
  {
   "cell_type": "code",
   "execution_count": null,
   "id": "incoming-shelter",
   "metadata": {},
   "outputs": [],
   "source": [
    "# sklearn.model_selection._search_successive_halving.HalvingGridSearchCV._pairwise\n",
    "try:\n",
    "    obj = class_constructor()\n",
    "    ret = obj._pairwise\n",
    "    type_sklearn_model_selection__search_successive_halving_HalvingGridSearchCV__pairwise = getattr(ret, '__module__', 'none') + '.' + ret.__class__.__name__\n",
    "    print('✅ sklearn.model_selection._search_successive_halving.HalvingGridSearchCV._pairwise:', type(ret)) # noqa E501\n",
    "except Exception as e:\n",
    "    type_sklearn_model_selection__search_successive_halving_HalvingGridSearchCV__pairwise = '_syft_missing'\n",
    "    print('❌ sklearn.model_selection._search_successive_halving.HalvingGridSearchCV._pairwise: Return unavailable') # noqa E501\n",
    "    print(\"  Please fix this return type code until there is no exception\")\n",
    "    print('  Error:', e)\n"
   ]
  },
  {
   "cell_type": "code",
   "execution_count": null,
   "id": "effective-importance",
   "metadata": {},
   "outputs": [],
   "source": [
    "# sklearn.model_selection._search_successive_halving.HalvingGridSearchCV._repr_html_\n",
    "try:\n",
    "    obj = class_constructor()\n",
    "    ret = obj._repr_html_\n",
    "    type_sklearn_model_selection__search_successive_halving_HalvingGridSearchCV__repr_html_ = getattr(ret, '__module__', 'none') + '.' + ret.__class__.__name__\n",
    "    print('✅ sklearn.model_selection._search_successive_halving.HalvingGridSearchCV._repr_html_:', type(ret)) # noqa E501\n",
    "except Exception as e:\n",
    "    type_sklearn_model_selection__search_successive_halving_HalvingGridSearchCV__repr_html_ = '_syft_missing'\n",
    "    print('❌ sklearn.model_selection._search_successive_halving.HalvingGridSearchCV._repr_html_: Return unavailable') # noqa E501\n",
    "    print(\"  Please fix this return type code until there is no exception\")\n",
    "    print('  Error:', e)\n"
   ]
  },
  {
   "cell_type": "code",
   "execution_count": null,
   "id": "alive-price",
   "metadata": {},
   "outputs": [],
   "source": [
    "# sklearn.model_selection._search_successive_halving.HalvingGridSearchCV._repr_html_inner\n",
    "try:\n",
    "    obj = class_constructor() # noqa F821\n",
    "    ret = obj._repr_html_inner()\n",
    "    type_sklearn_model_selection__search_successive_halving_HalvingGridSearchCV__repr_html_inner = getattr(ret, '__module__', 'none') + '.' + ret.__class__.__name__\n",
    "    print('✅ sklearn.model_selection._search_successive_halving.HalvingGridSearchCV._repr_html_inner: ', type(ret)) # noqa E501\n",
    "except Exception as e:\n",
    "    type_sklearn_model_selection__search_successive_halving_HalvingGridSearchCV__repr_html_inner = '_syft_missing'\n",
    "    print('❌ sklearn.model_selection._search_successive_halving.HalvingGridSearchCV._repr_html_inner: Return unavailable') # noqa E501\n",
    "    print(\"  Please fix this return type code until there is no exception\")\n",
    "    print('  Error:', e)\n"
   ]
  },
  {
   "cell_type": "code",
   "execution_count": null,
   "id": "smaller-review",
   "metadata": {},
   "outputs": [],
   "source": [
    "# sklearn.model_selection._search_successive_halving.HalvingGridSearchCV._repr_mimebundle_\n",
    "try:\n",
    "    obj = class_constructor() # noqa F821\n",
    "    ret = obj._repr_mimebundle_()\n",
    "    type_sklearn_model_selection__search_successive_halving_HalvingGridSearchCV__repr_mimebundle_ = getattr(ret, '__module__', 'none') + '.' + ret.__class__.__name__\n",
    "    print('✅ sklearn.model_selection._search_successive_halving.HalvingGridSearchCV._repr_mimebundle_: ', type(ret)) # noqa E501\n",
    "except Exception as e:\n",
    "    type_sklearn_model_selection__search_successive_halving_HalvingGridSearchCV__repr_mimebundle_ = '_syft_missing'\n",
    "    print('❌ sklearn.model_selection._search_successive_halving.HalvingGridSearchCV._repr_mimebundle_: Return unavailable') # noqa E501\n",
    "    print(\"  Please fix this return type code until there is no exception\")\n",
    "    print('  Error:', e)\n"
   ]
  },
  {
   "cell_type": "code",
   "execution_count": null,
   "id": "voluntary-perry",
   "metadata": {},
   "outputs": [],
   "source": [
    "# sklearn.model_selection._search_successive_halving.HalvingGridSearchCV._run_search\n",
    "try:\n",
    "    obj = class_constructor() # noqa F821\n",
    "    ret = obj._run_search()\n",
    "    type_sklearn_model_selection__search_successive_halving_HalvingGridSearchCV__run_search = getattr(ret, '__module__', 'none') + '.' + ret.__class__.__name__\n",
    "    print('✅ sklearn.model_selection._search_successive_halving.HalvingGridSearchCV._run_search: ', type(ret)) # noqa E501\n",
    "except Exception as e:\n",
    "    type_sklearn_model_selection__search_successive_halving_HalvingGridSearchCV__run_search = '_syft_missing'\n",
    "    print('❌ sklearn.model_selection._search_successive_halving.HalvingGridSearchCV._run_search: Return unavailable') # noqa E501\n",
    "    print(\"  Please fix this return type code until there is no exception\")\n",
    "    print('  Error:', e)\n"
   ]
  },
  {
   "cell_type": "code",
   "execution_count": null,
   "id": "christian-picnic",
   "metadata": {},
   "outputs": [],
   "source": [
    "# sklearn.model_selection._search_successive_halving.HalvingGridSearchCV._validate_data\n",
    "try:\n",
    "    obj = class_constructor() # noqa F821\n",
    "    ret = obj._validate_data()\n",
    "    type_sklearn_model_selection__search_successive_halving_HalvingGridSearchCV__validate_data = getattr(ret, '__module__', 'none') + '.' + ret.__class__.__name__\n",
    "    print('✅ sklearn.model_selection._search_successive_halving.HalvingGridSearchCV._validate_data: ', type(ret)) # noqa E501\n",
    "except Exception as e:\n",
    "    type_sklearn_model_selection__search_successive_halving_HalvingGridSearchCV__validate_data = '_syft_missing'\n",
    "    print('❌ sklearn.model_selection._search_successive_halving.HalvingGridSearchCV._validate_data: Return unavailable') # noqa E501\n",
    "    print(\"  Please fix this return type code until there is no exception\")\n",
    "    print('  Error:', e)\n"
   ]
  },
  {
   "cell_type": "code",
   "execution_count": null,
   "id": "contrary-india",
   "metadata": {},
   "outputs": [],
   "source": [
    "# sklearn.model_selection._search_successive_halving.HalvingGridSearchCV.classes_\n",
    "try:\n",
    "    obj = class_constructor()\n",
    "    ret = obj.classes_\n",
    "    type_sklearn_model_selection__search_successive_halving_HalvingGridSearchCV_classes_ = getattr(ret, '__module__', 'none') + '.' + ret.__class__.__name__\n",
    "    print('✅ sklearn.model_selection._search_successive_halving.HalvingGridSearchCV.classes_:', type(ret)) # noqa E501\n",
    "except Exception as e:\n",
    "    type_sklearn_model_selection__search_successive_halving_HalvingGridSearchCV_classes_ = '_syft_missing'\n",
    "    print('❌ sklearn.model_selection._search_successive_halving.HalvingGridSearchCV.classes_: Return unavailable') # noqa E501\n",
    "    print(\"  Please fix this return type code until there is no exception\")\n",
    "    print('  Error:', e)\n"
   ]
  },
  {
   "cell_type": "code",
   "execution_count": null,
   "id": "comic-match",
   "metadata": {},
   "outputs": [],
   "source": [
    "# sklearn.model_selection._search_successive_halving.HalvingGridSearchCV.decision_function\n",
    "try:\n",
    "    obj = class_constructor() # noqa F821\n",
    "    ret = obj.decision_function()\n",
    "    type_sklearn_model_selection__search_successive_halving_HalvingGridSearchCV_decision_function = getattr(ret, '__module__', 'none') + '.' + ret.__class__.__name__\n",
    "    print('✅ sklearn.model_selection._search_successive_halving.HalvingGridSearchCV.decision_function: ', type(ret)) # noqa E501\n",
    "except Exception as e:\n",
    "    type_sklearn_model_selection__search_successive_halving_HalvingGridSearchCV_decision_function = '_syft_missing'\n",
    "    print('❌ sklearn.model_selection._search_successive_halving.HalvingGridSearchCV.decision_function: Return unavailable') # noqa E501\n",
    "    print(\"  Please fix this return type code until there is no exception\")\n",
    "    print('  Error:', e)\n"
   ]
  },
  {
   "cell_type": "code",
   "execution_count": null,
   "id": "supported-martin",
   "metadata": {},
   "outputs": [],
   "source": [
    "# sklearn.model_selection._search_successive_halving.HalvingGridSearchCV.fit\n",
    "try:\n",
    "    obj = class_constructor() # noqa F821\n",
    "    ret = obj.fit()\n",
    "    type_sklearn_model_selection__search_successive_halving_HalvingGridSearchCV_fit = getattr(ret, '__module__', 'none') + '.' + ret.__class__.__name__\n",
    "    print('✅ sklearn.model_selection._search_successive_halving.HalvingGridSearchCV.fit: ', type(ret)) # noqa E501\n",
    "except Exception as e:\n",
    "    type_sklearn_model_selection__search_successive_halving_HalvingGridSearchCV_fit = '_syft_missing'\n",
    "    print('❌ sklearn.model_selection._search_successive_halving.HalvingGridSearchCV.fit: Return unavailable') # noqa E501\n",
    "    print(\"  Please fix this return type code until there is no exception\")\n",
    "    print('  Error:', e)\n"
   ]
  },
  {
   "cell_type": "code",
   "execution_count": null,
   "id": "developing-edgar",
   "metadata": {},
   "outputs": [],
   "source": [
    "# sklearn.model_selection._search_successive_halving.HalvingGridSearchCV.get_params\n",
    "try:\n",
    "    obj = class_constructor() # noqa F821\n",
    "    ret = obj.get_params()\n",
    "    type_sklearn_model_selection__search_successive_halving_HalvingGridSearchCV_get_params = getattr(ret, '__module__', 'none') + '.' + ret.__class__.__name__\n",
    "    print('✅ sklearn.model_selection._search_successive_halving.HalvingGridSearchCV.get_params: ', type(ret)) # noqa E501\n",
    "except Exception as e:\n",
    "    type_sklearn_model_selection__search_successive_halving_HalvingGridSearchCV_get_params = '_syft_missing'\n",
    "    print('❌ sklearn.model_selection._search_successive_halving.HalvingGridSearchCV.get_params: Return unavailable') # noqa E501\n",
    "    print(\"  Please fix this return type code until there is no exception\")\n",
    "    print('  Error:', e)\n"
   ]
  },
  {
   "cell_type": "code",
   "execution_count": null,
   "id": "antique-mounting",
   "metadata": {},
   "outputs": [],
   "source": [
    "# sklearn.model_selection._search_successive_halving.HalvingGridSearchCV.inverse_transform\n",
    "try:\n",
    "    obj = class_constructor() # noqa F821\n",
    "    ret = obj.inverse_transform()\n",
    "    type_sklearn_model_selection__search_successive_halving_HalvingGridSearchCV_inverse_transform = getattr(ret, '__module__', 'none') + '.' + ret.__class__.__name__\n",
    "    print('✅ sklearn.model_selection._search_successive_halving.HalvingGridSearchCV.inverse_transform: ', type(ret)) # noqa E501\n",
    "except Exception as e:\n",
    "    type_sklearn_model_selection__search_successive_halving_HalvingGridSearchCV_inverse_transform = '_syft_missing'\n",
    "    print('❌ sklearn.model_selection._search_successive_halving.HalvingGridSearchCV.inverse_transform: Return unavailable') # noqa E501\n",
    "    print(\"  Please fix this return type code until there is no exception\")\n",
    "    print('  Error:', e)\n"
   ]
  },
  {
   "cell_type": "code",
   "execution_count": null,
   "id": "stuffed-party",
   "metadata": {},
   "outputs": [],
   "source": [
    "# sklearn.model_selection._search_successive_halving.HalvingGridSearchCV.n_features_in_\n",
    "try:\n",
    "    obj = class_constructor()\n",
    "    ret = obj.n_features_in_\n",
    "    type_sklearn_model_selection__search_successive_halving_HalvingGridSearchCV_n_features_in_ = getattr(ret, '__module__', 'none') + '.' + ret.__class__.__name__\n",
    "    print('✅ sklearn.model_selection._search_successive_halving.HalvingGridSearchCV.n_features_in_:', type(ret)) # noqa E501\n",
    "except Exception as e:\n",
    "    type_sklearn_model_selection__search_successive_halving_HalvingGridSearchCV_n_features_in_ = '_syft_missing'\n",
    "    print('❌ sklearn.model_selection._search_successive_halving.HalvingGridSearchCV.n_features_in_: Return unavailable') # noqa E501\n",
    "    print(\"  Please fix this return type code until there is no exception\")\n",
    "    print('  Error:', e)\n"
   ]
  },
  {
   "cell_type": "code",
   "execution_count": null,
   "id": "flexible-significance",
   "metadata": {},
   "outputs": [],
   "source": [
    "# sklearn.model_selection._search_successive_halving.HalvingGridSearchCV.predict\n",
    "try:\n",
    "    obj = class_constructor() # noqa F821\n",
    "    ret = obj.predict()\n",
    "    type_sklearn_model_selection__search_successive_halving_HalvingGridSearchCV_predict = getattr(ret, '__module__', 'none') + '.' + ret.__class__.__name__\n",
    "    print('✅ sklearn.model_selection._search_successive_halving.HalvingGridSearchCV.predict: ', type(ret)) # noqa E501\n",
    "except Exception as e:\n",
    "    type_sklearn_model_selection__search_successive_halving_HalvingGridSearchCV_predict = '_syft_missing'\n",
    "    print('❌ sklearn.model_selection._search_successive_halving.HalvingGridSearchCV.predict: Return unavailable') # noqa E501\n",
    "    print(\"  Please fix this return type code until there is no exception\")\n",
    "    print('  Error:', e)\n"
   ]
  },
  {
   "cell_type": "code",
   "execution_count": null,
   "id": "herbal-income",
   "metadata": {},
   "outputs": [],
   "source": [
    "# sklearn.model_selection._search_successive_halving.HalvingGridSearchCV.predict_log_proba\n",
    "try:\n",
    "    obj = class_constructor() # noqa F821\n",
    "    ret = obj.predict_log_proba()\n",
    "    type_sklearn_model_selection__search_successive_halving_HalvingGridSearchCV_predict_log_proba = getattr(ret, '__module__', 'none') + '.' + ret.__class__.__name__\n",
    "    print('✅ sklearn.model_selection._search_successive_halving.HalvingGridSearchCV.predict_log_proba: ', type(ret)) # noqa E501\n",
    "except Exception as e:\n",
    "    type_sklearn_model_selection__search_successive_halving_HalvingGridSearchCV_predict_log_proba = '_syft_missing'\n",
    "    print('❌ sklearn.model_selection._search_successive_halving.HalvingGridSearchCV.predict_log_proba: Return unavailable') # noqa E501\n",
    "    print(\"  Please fix this return type code until there is no exception\")\n",
    "    print('  Error:', e)\n"
   ]
  },
  {
   "cell_type": "code",
   "execution_count": null,
   "id": "drawn-parish",
   "metadata": {},
   "outputs": [],
   "source": [
    "# sklearn.model_selection._search_successive_halving.HalvingGridSearchCV.predict_proba\n",
    "try:\n",
    "    obj = class_constructor() # noqa F821\n",
    "    ret = obj.predict_proba()\n",
    "    type_sklearn_model_selection__search_successive_halving_HalvingGridSearchCV_predict_proba = getattr(ret, '__module__', 'none') + '.' + ret.__class__.__name__\n",
    "    print('✅ sklearn.model_selection._search_successive_halving.HalvingGridSearchCV.predict_proba: ', type(ret)) # noqa E501\n",
    "except Exception as e:\n",
    "    type_sklearn_model_selection__search_successive_halving_HalvingGridSearchCV_predict_proba = '_syft_missing'\n",
    "    print('❌ sklearn.model_selection._search_successive_halving.HalvingGridSearchCV.predict_proba: Return unavailable') # noqa E501\n",
    "    print(\"  Please fix this return type code until there is no exception\")\n",
    "    print('  Error:', e)\n"
   ]
  },
  {
   "cell_type": "code",
   "execution_count": null,
   "id": "flying-appreciation",
   "metadata": {},
   "outputs": [],
   "source": [
    "# sklearn.model_selection._search_successive_halving.HalvingGridSearchCV.score\n",
    "try:\n",
    "    obj = class_constructor() # noqa F821\n",
    "    ret = obj.score()\n",
    "    type_sklearn_model_selection__search_successive_halving_HalvingGridSearchCV_score = getattr(ret, '__module__', 'none') + '.' + ret.__class__.__name__\n",
    "    print('✅ sklearn.model_selection._search_successive_halving.HalvingGridSearchCV.score: ', type(ret)) # noqa E501\n",
    "except Exception as e:\n",
    "    type_sklearn_model_selection__search_successive_halving_HalvingGridSearchCV_score = '_syft_missing'\n",
    "    print('❌ sklearn.model_selection._search_successive_halving.HalvingGridSearchCV.score: Return unavailable') # noqa E501\n",
    "    print(\"  Please fix this return type code until there is no exception\")\n",
    "    print('  Error:', e)\n"
   ]
  },
  {
   "cell_type": "code",
   "execution_count": null,
   "id": "empirical-catalyst",
   "metadata": {},
   "outputs": [],
   "source": [
    "# sklearn.model_selection._search_successive_halving.HalvingGridSearchCV.score_samples\n",
    "try:\n",
    "    obj = class_constructor() # noqa F821\n",
    "    ret = obj.score_samples()\n",
    "    type_sklearn_model_selection__search_successive_halving_HalvingGridSearchCV_score_samples = getattr(ret, '__module__', 'none') + '.' + ret.__class__.__name__\n",
    "    print('✅ sklearn.model_selection._search_successive_halving.HalvingGridSearchCV.score_samples: ', type(ret)) # noqa E501\n",
    "except Exception as e:\n",
    "    type_sklearn_model_selection__search_successive_halving_HalvingGridSearchCV_score_samples = '_syft_missing'\n",
    "    print('❌ sklearn.model_selection._search_successive_halving.HalvingGridSearchCV.score_samples: Return unavailable') # noqa E501\n",
    "    print(\"  Please fix this return type code until there is no exception\")\n",
    "    print('  Error:', e)\n"
   ]
  },
  {
   "cell_type": "code",
   "execution_count": null,
   "id": "tribal-mouse",
   "metadata": {},
   "outputs": [],
   "source": [
    "# sklearn.model_selection._search_successive_halving.HalvingGridSearchCV.set_params\n",
    "try:\n",
    "    obj = class_constructor() # noqa F821\n",
    "    ret = obj.set_params()\n",
    "    type_sklearn_model_selection__search_successive_halving_HalvingGridSearchCV_set_params = getattr(ret, '__module__', 'none') + '.' + ret.__class__.__name__\n",
    "    print('✅ sklearn.model_selection._search_successive_halving.HalvingGridSearchCV.set_params: ', type(ret)) # noqa E501\n",
    "except Exception as e:\n",
    "    type_sklearn_model_selection__search_successive_halving_HalvingGridSearchCV_set_params = '_syft_missing'\n",
    "    print('❌ sklearn.model_selection._search_successive_halving.HalvingGridSearchCV.set_params: Return unavailable') # noqa E501\n",
    "    print(\"  Please fix this return type code until there is no exception\")\n",
    "    print('  Error:', e)\n"
   ]
  },
  {
   "cell_type": "code",
   "execution_count": null,
   "id": "published-cambodia",
   "metadata": {},
   "outputs": [],
   "source": [
    "# sklearn.model_selection._search_successive_halving.HalvingGridSearchCV.transform\n",
    "try:\n",
    "    obj = class_constructor() # noqa F821\n",
    "    ret = obj.transform()\n",
    "    type_sklearn_model_selection__search_successive_halving_HalvingGridSearchCV_transform = getattr(ret, '__module__', 'none') + '.' + ret.__class__.__name__\n",
    "    print('✅ sklearn.model_selection._search_successive_halving.HalvingGridSearchCV.transform: ', type(ret)) # noqa E501\n",
    "except Exception as e:\n",
    "    type_sklearn_model_selection__search_successive_halving_HalvingGridSearchCV_transform = '_syft_missing'\n",
    "    print('❌ sklearn.model_selection._search_successive_halving.HalvingGridSearchCV.transform: Return unavailable') # noqa E501\n",
    "    print(\"  Please fix this return type code until there is no exception\")\n",
    "    print('  Error:', e)\n"
   ]
  }
 ],
 "metadata": {},
 "nbformat": 4,
 "nbformat_minor": 5
}
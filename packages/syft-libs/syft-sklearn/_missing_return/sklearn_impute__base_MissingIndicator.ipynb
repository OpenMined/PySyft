{
 "cells": [
  {
   "cell_type": "markdown",
   "id": "external-spank",
   "metadata": {},
   "source": [
    "## sklearn.impute._base.MissingIndicator"
   ]
  },
  {
   "cell_type": "code",
   "execution_count": null,
   "id": "guilty-communications",
   "metadata": {},
   "outputs": [],
   "source": [
    "import sklearn\n",
    "def class_constructor(*args, **kwargs):\n",
    "    obj = sklearn.impute._base.MissingIndicator()\n",
    "    return obj\n"
   ]
  },
  {
   "cell_type": "code",
   "execution_count": null,
   "id": "requested-cargo",
   "metadata": {},
   "outputs": [],
   "source": [
    "# sklearn.impute._base.MissingIndicator.__getstate__\n",
    "try:\n",
    "    obj = class_constructor() # noqa F821\n",
    "    ret = obj.__getstate__()\n",
    "    type_sklearn_impute__base_MissingIndicator___getstate__ = getattr(ret, '__module__', 'none') + '.' + ret.__class__.__name__\n",
    "    print('✅ sklearn.impute._base.MissingIndicator.__getstate__: ', type(ret)) # noqa E501\n",
    "except Exception as e:\n",
    "    type_sklearn_impute__base_MissingIndicator___getstate__ = '_syft_missing'\n",
    "    print('❌ sklearn.impute._base.MissingIndicator.__getstate__: Return unavailable') # noqa E501\n",
    "    print(\"  Please fix this return type code until there is no exception\")\n",
    "    print('  Error:', e)\n"
   ]
  },
  {
   "cell_type": "code",
   "execution_count": null,
   "id": "explicit-vampire",
   "metadata": {},
   "outputs": [],
   "source": [
    "# sklearn.impute._base.MissingIndicator.__repr__\n",
    "try:\n",
    "    obj = class_constructor() # noqa F821\n",
    "    ret = obj.__repr__()\n",
    "    type_sklearn_impute__base_MissingIndicator___repr__ = getattr(ret, '__module__', 'none') + '.' + ret.__class__.__name__\n",
    "    print('✅ sklearn.impute._base.MissingIndicator.__repr__: ', type(ret)) # noqa E501\n",
    "except Exception as e:\n",
    "    type_sklearn_impute__base_MissingIndicator___repr__ = '_syft_missing'\n",
    "    print('❌ sklearn.impute._base.MissingIndicator.__repr__: Return unavailable') # noqa E501\n",
    "    print(\"  Please fix this return type code until there is no exception\")\n",
    "    print('  Error:', e)\n"
   ]
  },
  {
   "cell_type": "code",
   "execution_count": null,
   "id": "interior-exemption",
   "metadata": {},
   "outputs": [],
   "source": [
    "# sklearn.impute._base.MissingIndicator.__setstate__\n",
    "try:\n",
    "    obj = class_constructor() # noqa F821\n",
    "    ret = obj.__setstate__()\n",
    "    type_sklearn_impute__base_MissingIndicator___setstate__ = getattr(ret, '__module__', 'none') + '.' + ret.__class__.__name__\n",
    "    print('✅ sklearn.impute._base.MissingIndicator.__setstate__: ', type(ret)) # noqa E501\n",
    "except Exception as e:\n",
    "    type_sklearn_impute__base_MissingIndicator___setstate__ = '_syft_missing'\n",
    "    print('❌ sklearn.impute._base.MissingIndicator.__setstate__: Return unavailable') # noqa E501\n",
    "    print(\"  Please fix this return type code until there is no exception\")\n",
    "    print('  Error:', e)\n"
   ]
  },
  {
   "cell_type": "code",
   "execution_count": null,
   "id": "sophisticated-travel",
   "metadata": {},
   "outputs": [],
   "source": [
    "# sklearn.impute._base.MissingIndicator._check_n_features\n",
    "try:\n",
    "    obj = class_constructor() # noqa F821\n",
    "    ret = obj._check_n_features()\n",
    "    type_sklearn_impute__base_MissingIndicator__check_n_features = getattr(ret, '__module__', 'none') + '.' + ret.__class__.__name__\n",
    "    print('✅ sklearn.impute._base.MissingIndicator._check_n_features: ', type(ret)) # noqa E501\n",
    "except Exception as e:\n",
    "    type_sklearn_impute__base_MissingIndicator__check_n_features = '_syft_missing'\n",
    "    print('❌ sklearn.impute._base.MissingIndicator._check_n_features: Return unavailable') # noqa E501\n",
    "    print(\"  Please fix this return type code until there is no exception\")\n",
    "    print('  Error:', e)\n"
   ]
  },
  {
   "cell_type": "code",
   "execution_count": null,
   "id": "urban-coast",
   "metadata": {},
   "outputs": [],
   "source": [
    "# sklearn.impute._base.MissingIndicator._fit\n",
    "try:\n",
    "    obj = class_constructor() # noqa F821\n",
    "    ret = obj._fit()\n",
    "    type_sklearn_impute__base_MissingIndicator__fit = getattr(ret, '__module__', 'none') + '.' + ret.__class__.__name__\n",
    "    print('✅ sklearn.impute._base.MissingIndicator._fit: ', type(ret)) # noqa E501\n",
    "except Exception as e:\n",
    "    type_sklearn_impute__base_MissingIndicator__fit = '_syft_missing'\n",
    "    print('❌ sklearn.impute._base.MissingIndicator._fit: Return unavailable') # noqa E501\n",
    "    print(\"  Please fix this return type code until there is no exception\")\n",
    "    print('  Error:', e)\n"
   ]
  },
  {
   "cell_type": "code",
   "execution_count": null,
   "id": "partial-persian",
   "metadata": {},
   "outputs": [],
   "source": [
    "# sklearn.impute._base.MissingIndicator._get_missing_features_info\n",
    "try:\n",
    "    obj = class_constructor() # noqa F821\n",
    "    ret = obj._get_missing_features_info()\n",
    "    type_sklearn_impute__base_MissingIndicator__get_missing_features_info = getattr(ret, '__module__', 'none') + '.' + ret.__class__.__name__\n",
    "    print('✅ sklearn.impute._base.MissingIndicator._get_missing_features_info: ', type(ret)) # noqa E501\n",
    "except Exception as e:\n",
    "    type_sklearn_impute__base_MissingIndicator__get_missing_features_info = '_syft_missing'\n",
    "    print('❌ sklearn.impute._base.MissingIndicator._get_missing_features_info: Return unavailable') # noqa E501\n",
    "    print(\"  Please fix this return type code until there is no exception\")\n",
    "    print('  Error:', e)\n"
   ]
  },
  {
   "cell_type": "code",
   "execution_count": null,
   "id": "casual-fraud",
   "metadata": {},
   "outputs": [],
   "source": [
    "# sklearn.impute._base.MissingIndicator._get_param_names\n",
    "try:\n",
    "    obj = class_constructor() # noqa F821\n",
    "    ret = obj._get_param_names()\n",
    "    type_sklearn_impute__base_MissingIndicator__get_param_names = getattr(ret, '__module__', 'none') + '.' + ret.__class__.__name__\n",
    "    print('✅ sklearn.impute._base.MissingIndicator._get_param_names: ', type(ret)) # noqa E501\n",
    "except Exception as e:\n",
    "    type_sklearn_impute__base_MissingIndicator__get_param_names = '_syft_missing'\n",
    "    print('❌ sklearn.impute._base.MissingIndicator._get_param_names: Return unavailable') # noqa E501\n",
    "    print(\"  Please fix this return type code until there is no exception\")\n",
    "    print('  Error:', e)\n"
   ]
  },
  {
   "cell_type": "code",
   "execution_count": null,
   "id": "rolled-cycle",
   "metadata": {},
   "outputs": [],
   "source": [
    "# sklearn.impute._base.MissingIndicator._get_tags\n",
    "try:\n",
    "    obj = class_constructor() # noqa F821\n",
    "    ret = obj._get_tags()\n",
    "    type_sklearn_impute__base_MissingIndicator__get_tags = getattr(ret, '__module__', 'none') + '.' + ret.__class__.__name__\n",
    "    print('✅ sklearn.impute._base.MissingIndicator._get_tags: ', type(ret)) # noqa E501\n",
    "except Exception as e:\n",
    "    type_sklearn_impute__base_MissingIndicator__get_tags = '_syft_missing'\n",
    "    print('❌ sklearn.impute._base.MissingIndicator._get_tags: Return unavailable') # noqa E501\n",
    "    print(\"  Please fix this return type code until there is no exception\")\n",
    "    print('  Error:', e)\n"
   ]
  },
  {
   "cell_type": "code",
   "execution_count": null,
   "id": "invisible-chaos",
   "metadata": {},
   "outputs": [],
   "source": [
    "# sklearn.impute._base.MissingIndicator._more_tags\n",
    "try:\n",
    "    obj = class_constructor() # noqa F821\n",
    "    ret = obj._more_tags()\n",
    "    type_sklearn_impute__base_MissingIndicator__more_tags = getattr(ret, '__module__', 'none') + '.' + ret.__class__.__name__\n",
    "    print('✅ sklearn.impute._base.MissingIndicator._more_tags: ', type(ret)) # noqa E501\n",
    "except Exception as e:\n",
    "    type_sklearn_impute__base_MissingIndicator__more_tags = '_syft_missing'\n",
    "    print('❌ sklearn.impute._base.MissingIndicator._more_tags: Return unavailable') # noqa E501\n",
    "    print(\"  Please fix this return type code until there is no exception\")\n",
    "    print('  Error:', e)\n"
   ]
  },
  {
   "cell_type": "code",
   "execution_count": null,
   "id": "colonial-boards",
   "metadata": {},
   "outputs": [],
   "source": [
    "# sklearn.impute._base.MissingIndicator._repr_html_\n",
    "try:\n",
    "    obj = class_constructor()\n",
    "    ret = obj._repr_html_\n",
    "    type_sklearn_impute__base_MissingIndicator__repr_html_ = getattr(ret, '__module__', 'none') + '.' + ret.__class__.__name__\n",
    "    print('✅ sklearn.impute._base.MissingIndicator._repr_html_:', type(ret)) # noqa E501\n",
    "except Exception as e:\n",
    "    type_sklearn_impute__base_MissingIndicator__repr_html_ = '_syft_missing'\n",
    "    print('❌ sklearn.impute._base.MissingIndicator._repr_html_: Return unavailable') # noqa E501\n",
    "    print(\"  Please fix this return type code until there is no exception\")\n",
    "    print('  Error:', e)\n"
   ]
  },
  {
   "cell_type": "code",
   "execution_count": null,
   "id": "verbal-effect",
   "metadata": {},
   "outputs": [],
   "source": [
    "# sklearn.impute._base.MissingIndicator._repr_html_inner\n",
    "try:\n",
    "    obj = class_constructor() # noqa F821\n",
    "    ret = obj._repr_html_inner()\n",
    "    type_sklearn_impute__base_MissingIndicator__repr_html_inner = getattr(ret, '__module__', 'none') + '.' + ret.__class__.__name__\n",
    "    print('✅ sklearn.impute._base.MissingIndicator._repr_html_inner: ', type(ret)) # noqa E501\n",
    "except Exception as e:\n",
    "    type_sklearn_impute__base_MissingIndicator__repr_html_inner = '_syft_missing'\n",
    "    print('❌ sklearn.impute._base.MissingIndicator._repr_html_inner: Return unavailable') # noqa E501\n",
    "    print(\"  Please fix this return type code until there is no exception\")\n",
    "    print('  Error:', e)\n"
   ]
  },
  {
   "cell_type": "code",
   "execution_count": null,
   "id": "interracial-patrick",
   "metadata": {},
   "outputs": [],
   "source": [
    "# sklearn.impute._base.MissingIndicator._repr_mimebundle_\n",
    "try:\n",
    "    obj = class_constructor() # noqa F821\n",
    "    ret = obj._repr_mimebundle_()\n",
    "    type_sklearn_impute__base_MissingIndicator__repr_mimebundle_ = getattr(ret, '__module__', 'none') + '.' + ret.__class__.__name__\n",
    "    print('✅ sklearn.impute._base.MissingIndicator._repr_mimebundle_: ', type(ret)) # noqa E501\n",
    "except Exception as e:\n",
    "    type_sklearn_impute__base_MissingIndicator__repr_mimebundle_ = '_syft_missing'\n",
    "    print('❌ sklearn.impute._base.MissingIndicator._repr_mimebundle_: Return unavailable') # noqa E501\n",
    "    print(\"  Please fix this return type code until there is no exception\")\n",
    "    print('  Error:', e)\n"
   ]
  },
  {
   "cell_type": "code",
   "execution_count": null,
   "id": "chemical-progress",
   "metadata": {},
   "outputs": [],
   "source": [
    "# sklearn.impute._base.MissingIndicator._validate_data\n",
    "try:\n",
    "    obj = class_constructor() # noqa F821\n",
    "    ret = obj._validate_data()\n",
    "    type_sklearn_impute__base_MissingIndicator__validate_data = getattr(ret, '__module__', 'none') + '.' + ret.__class__.__name__\n",
    "    print('✅ sklearn.impute._base.MissingIndicator._validate_data: ', type(ret)) # noqa E501\n",
    "except Exception as e:\n",
    "    type_sklearn_impute__base_MissingIndicator__validate_data = '_syft_missing'\n",
    "    print('❌ sklearn.impute._base.MissingIndicator._validate_data: Return unavailable') # noqa E501\n",
    "    print(\"  Please fix this return type code until there is no exception\")\n",
    "    print('  Error:', e)\n"
   ]
  },
  {
   "cell_type": "code",
   "execution_count": null,
   "id": "authorized-integral",
   "metadata": {},
   "outputs": [],
   "source": [
    "# sklearn.impute._base.MissingIndicator._validate_input\n",
    "try:\n",
    "    obj = class_constructor() # noqa F821\n",
    "    ret = obj._validate_input()\n",
    "    type_sklearn_impute__base_MissingIndicator__validate_input = getattr(ret, '__module__', 'none') + '.' + ret.__class__.__name__\n",
    "    print('✅ sklearn.impute._base.MissingIndicator._validate_input: ', type(ret)) # noqa E501\n",
    "except Exception as e:\n",
    "    type_sklearn_impute__base_MissingIndicator__validate_input = '_syft_missing'\n",
    "    print('❌ sklearn.impute._base.MissingIndicator._validate_input: Return unavailable') # noqa E501\n",
    "    print(\"  Please fix this return type code until there is no exception\")\n",
    "    print('  Error:', e)\n"
   ]
  },
  {
   "cell_type": "code",
   "execution_count": null,
   "id": "velvet-mention",
   "metadata": {},
   "outputs": [],
   "source": [
    "# sklearn.impute._base.MissingIndicator.fit\n",
    "try:\n",
    "    obj = class_constructor() # noqa F821\n",
    "    ret = obj.fit()\n",
    "    type_sklearn_impute__base_MissingIndicator_fit = getattr(ret, '__module__', 'none') + '.' + ret.__class__.__name__\n",
    "    print('✅ sklearn.impute._base.MissingIndicator.fit: ', type(ret)) # noqa E501\n",
    "except Exception as e:\n",
    "    type_sklearn_impute__base_MissingIndicator_fit = '_syft_missing'\n",
    "    print('❌ sklearn.impute._base.MissingIndicator.fit: Return unavailable') # noqa E501\n",
    "    print(\"  Please fix this return type code until there is no exception\")\n",
    "    print('  Error:', e)\n"
   ]
  },
  {
   "cell_type": "code",
   "execution_count": null,
   "id": "subsequent-return",
   "metadata": {},
   "outputs": [],
   "source": [
    "# sklearn.impute._base.MissingIndicator.fit_transform\n",
    "try:\n",
    "    obj = class_constructor() # noqa F821\n",
    "    ret = obj.fit_transform()\n",
    "    type_sklearn_impute__base_MissingIndicator_fit_transform = getattr(ret, '__module__', 'none') + '.' + ret.__class__.__name__\n",
    "    print('✅ sklearn.impute._base.MissingIndicator.fit_transform: ', type(ret)) # noqa E501\n",
    "except Exception as e:\n",
    "    type_sklearn_impute__base_MissingIndicator_fit_transform = '_syft_missing'\n",
    "    print('❌ sklearn.impute._base.MissingIndicator.fit_transform: Return unavailable') # noqa E501\n",
    "    print(\"  Please fix this return type code until there is no exception\")\n",
    "    print('  Error:', e)\n"
   ]
  },
  {
   "cell_type": "code",
   "execution_count": null,
   "id": "handmade-clone",
   "metadata": {},
   "outputs": [],
   "source": [
    "# sklearn.impute._base.MissingIndicator.get_params\n",
    "try:\n",
    "    obj = class_constructor() # noqa F821\n",
    "    ret = obj.get_params()\n",
    "    type_sklearn_impute__base_MissingIndicator_get_params = getattr(ret, '__module__', 'none') + '.' + ret.__class__.__name__\n",
    "    print('✅ sklearn.impute._base.MissingIndicator.get_params: ', type(ret)) # noqa E501\n",
    "except Exception as e:\n",
    "    type_sklearn_impute__base_MissingIndicator_get_params = '_syft_missing'\n",
    "    print('❌ sklearn.impute._base.MissingIndicator.get_params: Return unavailable') # noqa E501\n",
    "    print(\"  Please fix this return type code until there is no exception\")\n",
    "    print('  Error:', e)\n"
   ]
  },
  {
   "cell_type": "code",
   "execution_count": null,
   "id": "raised-belgium",
   "metadata": {},
   "outputs": [],
   "source": [
    "# sklearn.impute._base.MissingIndicator.set_params\n",
    "try:\n",
    "    obj = class_constructor() # noqa F821\n",
    "    ret = obj.set_params()\n",
    "    type_sklearn_impute__base_MissingIndicator_set_params = getattr(ret, '__module__', 'none') + '.' + ret.__class__.__name__\n",
    "    print('✅ sklearn.impute._base.MissingIndicator.set_params: ', type(ret)) # noqa E501\n",
    "except Exception as e:\n",
    "    type_sklearn_impute__base_MissingIndicator_set_params = '_syft_missing'\n",
    "    print('❌ sklearn.impute._base.MissingIndicator.set_params: Return unavailable') # noqa E501\n",
    "    print(\"  Please fix this return type code until there is no exception\")\n",
    "    print('  Error:', e)\n"
   ]
  },
  {
   "cell_type": "code",
   "execution_count": null,
   "id": "novel-visitor",
   "metadata": {},
   "outputs": [],
   "source": [
    "# sklearn.impute._base.MissingIndicator.transform\n",
    "try:\n",
    "    obj = class_constructor() # noqa F821\n",
    "    ret = obj.transform()\n",
    "    type_sklearn_impute__base_MissingIndicator_transform = getattr(ret, '__module__', 'none') + '.' + ret.__class__.__name__\n",
    "    print('✅ sklearn.impute._base.MissingIndicator.transform: ', type(ret)) # noqa E501\n",
    "except Exception as e:\n",
    "    type_sklearn_impute__base_MissingIndicator_transform = '_syft_missing'\n",
    "    print('❌ sklearn.impute._base.MissingIndicator.transform: Return unavailable') # noqa E501\n",
    "    print(\"  Please fix this return type code until there is no exception\")\n",
    "    print('  Error:', e)\n"
   ]
  }
 ],
 "metadata": {},
 "nbformat": 4,
 "nbformat_minor": 5
}
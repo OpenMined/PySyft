{
 "cells": [
  {
   "cell_type": "markdown",
   "id": "logical-killer",
   "metadata": {},
   "source": [
    "## sklearn.preprocessing._discretization.KBinsDiscretizer"
   ]
  },
  {
   "cell_type": "code",
   "execution_count": null,
   "id": "owned-serve",
   "metadata": {},
   "outputs": [],
   "source": [
    "import sklearn\n",
    "def class_constructor(*args, **kwargs):\n",
    "    obj = sklearn.preprocessing._discretization.KBinsDiscretizer()\n",
    "    return obj\n"
   ]
  },
  {
   "cell_type": "code",
   "execution_count": null,
   "id": "bright-reputation",
   "metadata": {},
   "outputs": [],
   "source": [
    "# sklearn.preprocessing._discretization.KBinsDiscretizer.__getstate__\n",
    "try:\n",
    "    obj = class_constructor() # noqa F821\n",
    "    ret = obj.__getstate__()\n",
    "    type_sklearn_preprocessing__discretization_KBinsDiscretizer___getstate__ = getattr(ret, '__module__', 'none') + '.' + ret.__class__.__name__\n",
    "    print('✅ sklearn.preprocessing._discretization.KBinsDiscretizer.__getstate__: ', type(ret)) # noqa E501\n",
    "except Exception as e:\n",
    "    type_sklearn_preprocessing__discretization_KBinsDiscretizer___getstate__ = '_syft_missing'\n",
    "    print('❌ sklearn.preprocessing._discretization.KBinsDiscretizer.__getstate__: Return unavailable') # noqa E501\n",
    "    print(\"  Please fix this return type code until there is no exception\")\n",
    "    print('  Error:', e)\n"
   ]
  },
  {
   "cell_type": "code",
   "execution_count": null,
   "id": "exposed-efficiency",
   "metadata": {},
   "outputs": [],
   "source": [
    "# sklearn.preprocessing._discretization.KBinsDiscretizer.__repr__\n",
    "try:\n",
    "    obj = class_constructor() # noqa F821\n",
    "    ret = obj.__repr__()\n",
    "    type_sklearn_preprocessing__discretization_KBinsDiscretizer___repr__ = getattr(ret, '__module__', 'none') + '.' + ret.__class__.__name__\n",
    "    print('✅ sklearn.preprocessing._discretization.KBinsDiscretizer.__repr__: ', type(ret)) # noqa E501\n",
    "except Exception as e:\n",
    "    type_sklearn_preprocessing__discretization_KBinsDiscretizer___repr__ = '_syft_missing'\n",
    "    print('❌ sklearn.preprocessing._discretization.KBinsDiscretizer.__repr__: Return unavailable') # noqa E501\n",
    "    print(\"  Please fix this return type code until there is no exception\")\n",
    "    print('  Error:', e)\n"
   ]
  },
  {
   "cell_type": "code",
   "execution_count": null,
   "id": "collected-western",
   "metadata": {},
   "outputs": [],
   "source": [
    "# sklearn.preprocessing._discretization.KBinsDiscretizer.__setstate__\n",
    "try:\n",
    "    obj = class_constructor() # noqa F821\n",
    "    ret = obj.__setstate__()\n",
    "    type_sklearn_preprocessing__discretization_KBinsDiscretizer___setstate__ = getattr(ret, '__module__', 'none') + '.' + ret.__class__.__name__\n",
    "    print('✅ sklearn.preprocessing._discretization.KBinsDiscretizer.__setstate__: ', type(ret)) # noqa E501\n",
    "except Exception as e:\n",
    "    type_sklearn_preprocessing__discretization_KBinsDiscretizer___setstate__ = '_syft_missing'\n",
    "    print('❌ sklearn.preprocessing._discretization.KBinsDiscretizer.__setstate__: Return unavailable') # noqa E501\n",
    "    print(\"  Please fix this return type code until there is no exception\")\n",
    "    print('  Error:', e)\n"
   ]
  },
  {
   "cell_type": "code",
   "execution_count": null,
   "id": "drawn-skill",
   "metadata": {},
   "outputs": [],
   "source": [
    "# sklearn.preprocessing._discretization.KBinsDiscretizer._check_n_features\n",
    "try:\n",
    "    obj = class_constructor() # noqa F821\n",
    "    ret = obj._check_n_features()\n",
    "    type_sklearn_preprocessing__discretization_KBinsDiscretizer__check_n_features = getattr(ret, '__module__', 'none') + '.' + ret.__class__.__name__\n",
    "    print('✅ sklearn.preprocessing._discretization.KBinsDiscretizer._check_n_features: ', type(ret)) # noqa E501\n",
    "except Exception as e:\n",
    "    type_sklearn_preprocessing__discretization_KBinsDiscretizer__check_n_features = '_syft_missing'\n",
    "    print('❌ sklearn.preprocessing._discretization.KBinsDiscretizer._check_n_features: Return unavailable') # noqa E501\n",
    "    print(\"  Please fix this return type code until there is no exception\")\n",
    "    print('  Error:', e)\n"
   ]
  },
  {
   "cell_type": "code",
   "execution_count": null,
   "id": "starting-commercial",
   "metadata": {},
   "outputs": [],
   "source": [
    "# sklearn.preprocessing._discretization.KBinsDiscretizer._get_param_names\n",
    "try:\n",
    "    obj = class_constructor() # noqa F821\n",
    "    ret = obj._get_param_names()\n",
    "    type_sklearn_preprocessing__discretization_KBinsDiscretizer__get_param_names = getattr(ret, '__module__', 'none') + '.' + ret.__class__.__name__\n",
    "    print('✅ sklearn.preprocessing._discretization.KBinsDiscretizer._get_param_names: ', type(ret)) # noqa E501\n",
    "except Exception as e:\n",
    "    type_sklearn_preprocessing__discretization_KBinsDiscretizer__get_param_names = '_syft_missing'\n",
    "    print('❌ sklearn.preprocessing._discretization.KBinsDiscretizer._get_param_names: Return unavailable') # noqa E501\n",
    "    print(\"  Please fix this return type code until there is no exception\")\n",
    "    print('  Error:', e)\n"
   ]
  },
  {
   "cell_type": "code",
   "execution_count": null,
   "id": "northern-happiness",
   "metadata": {},
   "outputs": [],
   "source": [
    "# sklearn.preprocessing._discretization.KBinsDiscretizer._get_tags\n",
    "try:\n",
    "    obj = class_constructor() # noqa F821\n",
    "    ret = obj._get_tags()\n",
    "    type_sklearn_preprocessing__discretization_KBinsDiscretizer__get_tags = getattr(ret, '__module__', 'none') + '.' + ret.__class__.__name__\n",
    "    print('✅ sklearn.preprocessing._discretization.KBinsDiscretizer._get_tags: ', type(ret)) # noqa E501\n",
    "except Exception as e:\n",
    "    type_sklearn_preprocessing__discretization_KBinsDiscretizer__get_tags = '_syft_missing'\n",
    "    print('❌ sklearn.preprocessing._discretization.KBinsDiscretizer._get_tags: Return unavailable') # noqa E501\n",
    "    print(\"  Please fix this return type code until there is no exception\")\n",
    "    print('  Error:', e)\n"
   ]
  },
  {
   "cell_type": "code",
   "execution_count": null,
   "id": "amended-lounge",
   "metadata": {},
   "outputs": [],
   "source": [
    "# sklearn.preprocessing._discretization.KBinsDiscretizer._more_tags\n",
    "try:\n",
    "    obj = class_constructor() # noqa F821\n",
    "    ret = obj._more_tags()\n",
    "    type_sklearn_preprocessing__discretization_KBinsDiscretizer__more_tags = getattr(ret, '__module__', 'none') + '.' + ret.__class__.__name__\n",
    "    print('✅ sklearn.preprocessing._discretization.KBinsDiscretizer._more_tags: ', type(ret)) # noqa E501\n",
    "except Exception as e:\n",
    "    type_sklearn_preprocessing__discretization_KBinsDiscretizer__more_tags = '_syft_missing'\n",
    "    print('❌ sklearn.preprocessing._discretization.KBinsDiscretizer._more_tags: Return unavailable') # noqa E501\n",
    "    print(\"  Please fix this return type code until there is no exception\")\n",
    "    print('  Error:', e)\n"
   ]
  },
  {
   "cell_type": "code",
   "execution_count": null,
   "id": "composed-absorption",
   "metadata": {},
   "outputs": [],
   "source": [
    "# sklearn.preprocessing._discretization.KBinsDiscretizer._repr_html_\n",
    "try:\n",
    "    obj = class_constructor()\n",
    "    ret = obj._repr_html_\n",
    "    type_sklearn_preprocessing__discretization_KBinsDiscretizer__repr_html_ = getattr(ret, '__module__', 'none') + '.' + ret.__class__.__name__\n",
    "    print('✅ sklearn.preprocessing._discretization.KBinsDiscretizer._repr_html_:', type(ret)) # noqa E501\n",
    "except Exception as e:\n",
    "    type_sklearn_preprocessing__discretization_KBinsDiscretizer__repr_html_ = '_syft_missing'\n",
    "    print('❌ sklearn.preprocessing._discretization.KBinsDiscretizer._repr_html_: Return unavailable') # noqa E501\n",
    "    print(\"  Please fix this return type code until there is no exception\")\n",
    "    print('  Error:', e)\n"
   ]
  },
  {
   "cell_type": "code",
   "execution_count": null,
   "id": "happy-adaptation",
   "metadata": {},
   "outputs": [],
   "source": [
    "# sklearn.preprocessing._discretization.KBinsDiscretizer._repr_html_inner\n",
    "try:\n",
    "    obj = class_constructor() # noqa F821\n",
    "    ret = obj._repr_html_inner()\n",
    "    type_sklearn_preprocessing__discretization_KBinsDiscretizer__repr_html_inner = getattr(ret, '__module__', 'none') + '.' + ret.__class__.__name__\n",
    "    print('✅ sklearn.preprocessing._discretization.KBinsDiscretizer._repr_html_inner: ', type(ret)) # noqa E501\n",
    "except Exception as e:\n",
    "    type_sklearn_preprocessing__discretization_KBinsDiscretizer__repr_html_inner = '_syft_missing'\n",
    "    print('❌ sklearn.preprocessing._discretization.KBinsDiscretizer._repr_html_inner: Return unavailable') # noqa E501\n",
    "    print(\"  Please fix this return type code until there is no exception\")\n",
    "    print('  Error:', e)\n"
   ]
  },
  {
   "cell_type": "code",
   "execution_count": null,
   "id": "parental-donna",
   "metadata": {},
   "outputs": [],
   "source": [
    "# sklearn.preprocessing._discretization.KBinsDiscretizer._repr_mimebundle_\n",
    "try:\n",
    "    obj = class_constructor() # noqa F821\n",
    "    ret = obj._repr_mimebundle_()\n",
    "    type_sklearn_preprocessing__discretization_KBinsDiscretizer__repr_mimebundle_ = getattr(ret, '__module__', 'none') + '.' + ret.__class__.__name__\n",
    "    print('✅ sklearn.preprocessing._discretization.KBinsDiscretizer._repr_mimebundle_: ', type(ret)) # noqa E501\n",
    "except Exception as e:\n",
    "    type_sklearn_preprocessing__discretization_KBinsDiscretizer__repr_mimebundle_ = '_syft_missing'\n",
    "    print('❌ sklearn.preprocessing._discretization.KBinsDiscretizer._repr_mimebundle_: Return unavailable') # noqa E501\n",
    "    print(\"  Please fix this return type code until there is no exception\")\n",
    "    print('  Error:', e)\n"
   ]
  },
  {
   "cell_type": "code",
   "execution_count": null,
   "id": "strong-petersburg",
   "metadata": {},
   "outputs": [],
   "source": [
    "# sklearn.preprocessing._discretization.KBinsDiscretizer._validate_data\n",
    "try:\n",
    "    obj = class_constructor() # noqa F821\n",
    "    ret = obj._validate_data()\n",
    "    type_sklearn_preprocessing__discretization_KBinsDiscretizer__validate_data = getattr(ret, '__module__', 'none') + '.' + ret.__class__.__name__\n",
    "    print('✅ sklearn.preprocessing._discretization.KBinsDiscretizer._validate_data: ', type(ret)) # noqa E501\n",
    "except Exception as e:\n",
    "    type_sklearn_preprocessing__discretization_KBinsDiscretizer__validate_data = '_syft_missing'\n",
    "    print('❌ sklearn.preprocessing._discretization.KBinsDiscretizer._validate_data: Return unavailable') # noqa E501\n",
    "    print(\"  Please fix this return type code until there is no exception\")\n",
    "    print('  Error:', e)\n"
   ]
  },
  {
   "cell_type": "code",
   "execution_count": null,
   "id": "bottom-slave",
   "metadata": {},
   "outputs": [],
   "source": [
    "# sklearn.preprocessing._discretization.KBinsDiscretizer._validate_n_bins\n",
    "try:\n",
    "    obj = class_constructor() # noqa F821\n",
    "    ret = obj._validate_n_bins()\n",
    "    type_sklearn_preprocessing__discretization_KBinsDiscretizer__validate_n_bins = getattr(ret, '__module__', 'none') + '.' + ret.__class__.__name__\n",
    "    print('✅ sklearn.preprocessing._discretization.KBinsDiscretizer._validate_n_bins: ', type(ret)) # noqa E501\n",
    "except Exception as e:\n",
    "    type_sklearn_preprocessing__discretization_KBinsDiscretizer__validate_n_bins = '_syft_missing'\n",
    "    print('❌ sklearn.preprocessing._discretization.KBinsDiscretizer._validate_n_bins: Return unavailable') # noqa E501\n",
    "    print(\"  Please fix this return type code until there is no exception\")\n",
    "    print('  Error:', e)\n"
   ]
  },
  {
   "cell_type": "code",
   "execution_count": null,
   "id": "chief-resolution",
   "metadata": {},
   "outputs": [],
   "source": [
    "# sklearn.preprocessing._discretization.KBinsDiscretizer.fit\n",
    "try:\n",
    "    obj = class_constructor() # noqa F821\n",
    "    ret = obj.fit()\n",
    "    type_sklearn_preprocessing__discretization_KBinsDiscretizer_fit = getattr(ret, '__module__', 'none') + '.' + ret.__class__.__name__\n",
    "    print('✅ sklearn.preprocessing._discretization.KBinsDiscretizer.fit: ', type(ret)) # noqa E501\n",
    "except Exception as e:\n",
    "    type_sklearn_preprocessing__discretization_KBinsDiscretizer_fit = '_syft_missing'\n",
    "    print('❌ sklearn.preprocessing._discretization.KBinsDiscretizer.fit: Return unavailable') # noqa E501\n",
    "    print(\"  Please fix this return type code until there is no exception\")\n",
    "    print('  Error:', e)\n"
   ]
  },
  {
   "cell_type": "code",
   "execution_count": null,
   "id": "cooperative-tribute",
   "metadata": {},
   "outputs": [],
   "source": [
    "# sklearn.preprocessing._discretization.KBinsDiscretizer.fit_transform\n",
    "try:\n",
    "    obj = class_constructor() # noqa F821\n",
    "    ret = obj.fit_transform()\n",
    "    type_sklearn_preprocessing__discretization_KBinsDiscretizer_fit_transform = getattr(ret, '__module__', 'none') + '.' + ret.__class__.__name__\n",
    "    print('✅ sklearn.preprocessing._discretization.KBinsDiscretizer.fit_transform: ', type(ret)) # noqa E501\n",
    "except Exception as e:\n",
    "    type_sklearn_preprocessing__discretization_KBinsDiscretizer_fit_transform = '_syft_missing'\n",
    "    print('❌ sklearn.preprocessing._discretization.KBinsDiscretizer.fit_transform: Return unavailable') # noqa E501\n",
    "    print(\"  Please fix this return type code until there is no exception\")\n",
    "    print('  Error:', e)\n"
   ]
  },
  {
   "cell_type": "code",
   "execution_count": null,
   "id": "initial-sacrifice",
   "metadata": {},
   "outputs": [],
   "source": [
    "# sklearn.preprocessing._discretization.KBinsDiscretizer.get_params\n",
    "try:\n",
    "    obj = class_constructor() # noqa F821\n",
    "    ret = obj.get_params()\n",
    "    type_sklearn_preprocessing__discretization_KBinsDiscretizer_get_params = getattr(ret, '__module__', 'none') + '.' + ret.__class__.__name__\n",
    "    print('✅ sklearn.preprocessing._discretization.KBinsDiscretizer.get_params: ', type(ret)) # noqa E501\n",
    "except Exception as e:\n",
    "    type_sklearn_preprocessing__discretization_KBinsDiscretizer_get_params = '_syft_missing'\n",
    "    print('❌ sklearn.preprocessing._discretization.KBinsDiscretizer.get_params: Return unavailable') # noqa E501\n",
    "    print(\"  Please fix this return type code until there is no exception\")\n",
    "    print('  Error:', e)\n"
   ]
  },
  {
   "cell_type": "code",
   "execution_count": null,
   "id": "recent-rescue",
   "metadata": {},
   "outputs": [],
   "source": [
    "# sklearn.preprocessing._discretization.KBinsDiscretizer.inverse_transform\n",
    "try:\n",
    "    obj = class_constructor() # noqa F821\n",
    "    ret = obj.inverse_transform()\n",
    "    type_sklearn_preprocessing__discretization_KBinsDiscretizer_inverse_transform = getattr(ret, '__module__', 'none') + '.' + ret.__class__.__name__\n",
    "    print('✅ sklearn.preprocessing._discretization.KBinsDiscretizer.inverse_transform: ', type(ret)) # noqa E501\n",
    "except Exception as e:\n",
    "    type_sklearn_preprocessing__discretization_KBinsDiscretizer_inverse_transform = '_syft_missing'\n",
    "    print('❌ sklearn.preprocessing._discretization.KBinsDiscretizer.inverse_transform: Return unavailable') # noqa E501\n",
    "    print(\"  Please fix this return type code until there is no exception\")\n",
    "    print('  Error:', e)\n"
   ]
  },
  {
   "cell_type": "code",
   "execution_count": null,
   "id": "raised-captain",
   "metadata": {},
   "outputs": [],
   "source": [
    "# sklearn.preprocessing._discretization.KBinsDiscretizer.set_params\n",
    "try:\n",
    "    obj = class_constructor() # noqa F821\n",
    "    ret = obj.set_params()\n",
    "    type_sklearn_preprocessing__discretization_KBinsDiscretizer_set_params = getattr(ret, '__module__', 'none') + '.' + ret.__class__.__name__\n",
    "    print('✅ sklearn.preprocessing._discretization.KBinsDiscretizer.set_params: ', type(ret)) # noqa E501\n",
    "except Exception as e:\n",
    "    type_sklearn_preprocessing__discretization_KBinsDiscretizer_set_params = '_syft_missing'\n",
    "    print('❌ sklearn.preprocessing._discretization.KBinsDiscretizer.set_params: Return unavailable') # noqa E501\n",
    "    print(\"  Please fix this return type code until there is no exception\")\n",
    "    print('  Error:', e)\n"
   ]
  },
  {
   "cell_type": "code",
   "execution_count": null,
   "id": "described-garden",
   "metadata": {},
   "outputs": [],
   "source": [
    "# sklearn.preprocessing._discretization.KBinsDiscretizer.transform\n",
    "try:\n",
    "    obj = class_constructor() # noqa F821\n",
    "    ret = obj.transform()\n",
    "    type_sklearn_preprocessing__discretization_KBinsDiscretizer_transform = getattr(ret, '__module__', 'none') + '.' + ret.__class__.__name__\n",
    "    print('✅ sklearn.preprocessing._discretization.KBinsDiscretizer.transform: ', type(ret)) # noqa E501\n",
    "except Exception as e:\n",
    "    type_sklearn_preprocessing__discretization_KBinsDiscretizer_transform = '_syft_missing'\n",
    "    print('❌ sklearn.preprocessing._discretization.KBinsDiscretizer.transform: Return unavailable') # noqa E501\n",
    "    print(\"  Please fix this return type code until there is no exception\")\n",
    "    print('  Error:', e)\n"
   ]
  }
 ],
 "metadata": {},
 "nbformat": 4,
 "nbformat_minor": 5
}
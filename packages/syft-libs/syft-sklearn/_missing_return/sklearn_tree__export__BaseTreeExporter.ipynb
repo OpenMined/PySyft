{
 "cells": [
  {
   "cell_type": "markdown",
   "id": "checked-japan",
   "metadata": {},
   "source": [
    "## sklearn.tree._export._BaseTreeExporter"
   ]
  },
  {
   "cell_type": "code",
   "execution_count": null,
   "id": "satisfactory-private",
   "metadata": {},
   "outputs": [],
   "source": [
    "import sklearn\n",
    "def class_constructor(*args, **kwargs):\n",
    "    obj = sklearn.tree._export._BaseTreeExporter()\n",
    "    return obj\n"
   ]
  },
  {
   "cell_type": "code",
   "execution_count": null,
   "id": "pacific-helen",
   "metadata": {},
   "outputs": [],
   "source": [
    "# sklearn.tree._export._BaseTreeExporter.get_color\n",
    "try:\n",
    "    obj = class_constructor() # noqa F821\n",
    "    ret = obj.get_color()\n",
    "    type_sklearn_tree__export__BaseTreeExporter_get_color = getattr(ret, '__module__', 'none') + '.' + ret.__class__.__name__\n",
    "    print('✅ sklearn.tree._export._BaseTreeExporter.get_color: ', type(ret)) # noqa E501\n",
    "except Exception as e:\n",
    "    type_sklearn_tree__export__BaseTreeExporter_get_color = '_syft_missing'\n",
    "    print('❌ sklearn.tree._export._BaseTreeExporter.get_color: Return unavailable') # noqa E501\n",
    "    print(\"  Please fix this return type code until there is no exception\")\n",
    "    print('  Error:', e)\n"
   ]
  },
  {
   "cell_type": "code",
   "execution_count": null,
   "id": "lasting-commissioner",
   "metadata": {},
   "outputs": [],
   "source": [
    "# sklearn.tree._export._BaseTreeExporter.get_fill_color\n",
    "try:\n",
    "    obj = class_constructor() # noqa F821\n",
    "    ret = obj.get_fill_color()\n",
    "    type_sklearn_tree__export__BaseTreeExporter_get_fill_color = getattr(ret, '__module__', 'none') + '.' + ret.__class__.__name__\n",
    "    print('✅ sklearn.tree._export._BaseTreeExporter.get_fill_color: ', type(ret)) # noqa E501\n",
    "except Exception as e:\n",
    "    type_sklearn_tree__export__BaseTreeExporter_get_fill_color = '_syft_missing'\n",
    "    print('❌ sklearn.tree._export._BaseTreeExporter.get_fill_color: Return unavailable') # noqa E501\n",
    "    print(\"  Please fix this return type code until there is no exception\")\n",
    "    print('  Error:', e)\n"
   ]
  },
  {
   "cell_type": "code",
   "execution_count": null,
   "id": "respective-senior",
   "metadata": {},
   "outputs": [],
   "source": [
    "# sklearn.tree._export._BaseTreeExporter.node_to_str\n",
    "try:\n",
    "    obj = class_constructor() # noqa F821\n",
    "    ret = obj.node_to_str()\n",
    "    type_sklearn_tree__export__BaseTreeExporter_node_to_str = getattr(ret, '__module__', 'none') + '.' + ret.__class__.__name__\n",
    "    print('✅ sklearn.tree._export._BaseTreeExporter.node_to_str: ', type(ret)) # noqa E501\n",
    "except Exception as e:\n",
    "    type_sklearn_tree__export__BaseTreeExporter_node_to_str = '_syft_missing'\n",
    "    print('❌ sklearn.tree._export._BaseTreeExporter.node_to_str: Return unavailable') # noqa E501\n",
    "    print(\"  Please fix this return type code until there is no exception\")\n",
    "    print('  Error:', e)\n"
   ]
  }
 ],
 "metadata": {},
 "nbformat": 4,
 "nbformat_minor": 5
}
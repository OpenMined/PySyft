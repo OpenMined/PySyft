{
 "cells": [
  {
   "cell_type": "markdown",
   "id": "employed-termination",
   "metadata": {},
   "source": [
    "## sklearn.svm._classes.LinearSVC"
   ]
  },
  {
   "cell_type": "code",
   "execution_count": null,
   "id": "intelligent-penetration",
   "metadata": {},
   "outputs": [],
   "source": [
    "import sklearn\n",
    "def class_constructor(*args, **kwargs):\n",
    "    obj = sklearn.svm._classes.LinearSVC()\n",
    "    return obj\n"
   ]
  },
  {
   "cell_type": "code",
   "execution_count": null,
   "id": "executed-encoding",
   "metadata": {},
   "outputs": [],
   "source": [
    "# sklearn.svm._classes.LinearSVC.__getstate__\n",
    "try:\n",
    "    obj = class_constructor() # noqa F821\n",
    "    ret = obj.__getstate__()\n",
    "    type_sklearn_svm__classes_LinearSVC___getstate__ = getattr(ret, '__module__', 'none') + '.' + ret.__class__.__name__\n",
    "    print('✅ sklearn.svm._classes.LinearSVC.__getstate__: ', type(ret)) # noqa E501\n",
    "except Exception as e:\n",
    "    type_sklearn_svm__classes_LinearSVC___getstate__ = '_syft_missing'\n",
    "    print('❌ sklearn.svm._classes.LinearSVC.__getstate__: Return unavailable') # noqa E501\n",
    "    print(\"  Please fix this return type code until there is no exception\")\n",
    "    print('  Error:', e)\n"
   ]
  },
  {
   "cell_type": "code",
   "execution_count": null,
   "id": "korean-management",
   "metadata": {},
   "outputs": [],
   "source": [
    "# sklearn.svm._classes.LinearSVC.__repr__\n",
    "try:\n",
    "    obj = class_constructor() # noqa F821\n",
    "    ret = obj.__repr__()\n",
    "    type_sklearn_svm__classes_LinearSVC___repr__ = getattr(ret, '__module__', 'none') + '.' + ret.__class__.__name__\n",
    "    print('✅ sklearn.svm._classes.LinearSVC.__repr__: ', type(ret)) # noqa E501\n",
    "except Exception as e:\n",
    "    type_sklearn_svm__classes_LinearSVC___repr__ = '_syft_missing'\n",
    "    print('❌ sklearn.svm._classes.LinearSVC.__repr__: Return unavailable') # noqa E501\n",
    "    print(\"  Please fix this return type code until there is no exception\")\n",
    "    print('  Error:', e)\n"
   ]
  },
  {
   "cell_type": "code",
   "execution_count": null,
   "id": "embedded-bulgarian",
   "metadata": {},
   "outputs": [],
   "source": [
    "# sklearn.svm._classes.LinearSVC.__setstate__\n",
    "try:\n",
    "    obj = class_constructor() # noqa F821\n",
    "    ret = obj.__setstate__()\n",
    "    type_sklearn_svm__classes_LinearSVC___setstate__ = getattr(ret, '__module__', 'none') + '.' + ret.__class__.__name__\n",
    "    print('✅ sklearn.svm._classes.LinearSVC.__setstate__: ', type(ret)) # noqa E501\n",
    "except Exception as e:\n",
    "    type_sklearn_svm__classes_LinearSVC___setstate__ = '_syft_missing'\n",
    "    print('❌ sklearn.svm._classes.LinearSVC.__setstate__: Return unavailable') # noqa E501\n",
    "    print(\"  Please fix this return type code until there is no exception\")\n",
    "    print('  Error:', e)\n"
   ]
  },
  {
   "cell_type": "code",
   "execution_count": null,
   "id": "naked-whale",
   "metadata": {},
   "outputs": [],
   "source": [
    "# sklearn.svm._classes.LinearSVC._check_n_features\n",
    "try:\n",
    "    obj = class_constructor() # noqa F821\n",
    "    ret = obj._check_n_features()\n",
    "    type_sklearn_svm__classes_LinearSVC__check_n_features = getattr(ret, '__module__', 'none') + '.' + ret.__class__.__name__\n",
    "    print('✅ sklearn.svm._classes.LinearSVC._check_n_features: ', type(ret)) # noqa E501\n",
    "except Exception as e:\n",
    "    type_sklearn_svm__classes_LinearSVC__check_n_features = '_syft_missing'\n",
    "    print('❌ sklearn.svm._classes.LinearSVC._check_n_features: Return unavailable') # noqa E501\n",
    "    print(\"  Please fix this return type code until there is no exception\")\n",
    "    print('  Error:', e)\n"
   ]
  },
  {
   "cell_type": "code",
   "execution_count": null,
   "id": "german-prefix",
   "metadata": {},
   "outputs": [],
   "source": [
    "# sklearn.svm._classes.LinearSVC._get_param_names\n",
    "try:\n",
    "    obj = class_constructor() # noqa F821\n",
    "    ret = obj._get_param_names()\n",
    "    type_sklearn_svm__classes_LinearSVC__get_param_names = getattr(ret, '__module__', 'none') + '.' + ret.__class__.__name__\n",
    "    print('✅ sklearn.svm._classes.LinearSVC._get_param_names: ', type(ret)) # noqa E501\n",
    "except Exception as e:\n",
    "    type_sklearn_svm__classes_LinearSVC__get_param_names = '_syft_missing'\n",
    "    print('❌ sklearn.svm._classes.LinearSVC._get_param_names: Return unavailable') # noqa E501\n",
    "    print(\"  Please fix this return type code until there is no exception\")\n",
    "    print('  Error:', e)\n"
   ]
  },
  {
   "cell_type": "code",
   "execution_count": null,
   "id": "impaired-plaintiff",
   "metadata": {},
   "outputs": [],
   "source": [
    "# sklearn.svm._classes.LinearSVC._get_tags\n",
    "try:\n",
    "    obj = class_constructor() # noqa F821\n",
    "    ret = obj._get_tags()\n",
    "    type_sklearn_svm__classes_LinearSVC__get_tags = getattr(ret, '__module__', 'none') + '.' + ret.__class__.__name__\n",
    "    print('✅ sklearn.svm._classes.LinearSVC._get_tags: ', type(ret)) # noqa E501\n",
    "except Exception as e:\n",
    "    type_sklearn_svm__classes_LinearSVC__get_tags = '_syft_missing'\n",
    "    print('❌ sklearn.svm._classes.LinearSVC._get_tags: Return unavailable') # noqa E501\n",
    "    print(\"  Please fix this return type code until there is no exception\")\n",
    "    print('  Error:', e)\n"
   ]
  },
  {
   "cell_type": "code",
   "execution_count": null,
   "id": "accomplished-spider",
   "metadata": {},
   "outputs": [],
   "source": [
    "# sklearn.svm._classes.LinearSVC._more_tags\n",
    "try:\n",
    "    obj = class_constructor() # noqa F821\n",
    "    ret = obj._more_tags()\n",
    "    type_sklearn_svm__classes_LinearSVC__more_tags = getattr(ret, '__module__', 'none') + '.' + ret.__class__.__name__\n",
    "    print('✅ sklearn.svm._classes.LinearSVC._more_tags: ', type(ret)) # noqa E501\n",
    "except Exception as e:\n",
    "    type_sklearn_svm__classes_LinearSVC__more_tags = '_syft_missing'\n",
    "    print('❌ sklearn.svm._classes.LinearSVC._more_tags: Return unavailable') # noqa E501\n",
    "    print(\"  Please fix this return type code until there is no exception\")\n",
    "    print('  Error:', e)\n"
   ]
  },
  {
   "cell_type": "code",
   "execution_count": null,
   "id": "martial-threat",
   "metadata": {},
   "outputs": [],
   "source": [
    "# sklearn.svm._classes.LinearSVC._predict_proba_lr\n",
    "try:\n",
    "    obj = class_constructor() # noqa F821\n",
    "    ret = obj._predict_proba_lr()\n",
    "    type_sklearn_svm__classes_LinearSVC__predict_proba_lr = getattr(ret, '__module__', 'none') + '.' + ret.__class__.__name__\n",
    "    print('✅ sklearn.svm._classes.LinearSVC._predict_proba_lr: ', type(ret)) # noqa E501\n",
    "except Exception as e:\n",
    "    type_sklearn_svm__classes_LinearSVC__predict_proba_lr = '_syft_missing'\n",
    "    print('❌ sklearn.svm._classes.LinearSVC._predict_proba_lr: Return unavailable') # noqa E501\n",
    "    print(\"  Please fix this return type code until there is no exception\")\n",
    "    print('  Error:', e)\n"
   ]
  },
  {
   "cell_type": "code",
   "execution_count": null,
   "id": "bright-trade",
   "metadata": {},
   "outputs": [],
   "source": [
    "# sklearn.svm._classes.LinearSVC._repr_html_\n",
    "try:\n",
    "    obj = class_constructor()\n",
    "    ret = obj._repr_html_\n",
    "    type_sklearn_svm__classes_LinearSVC__repr_html_ = getattr(ret, '__module__', 'none') + '.' + ret.__class__.__name__\n",
    "    print('✅ sklearn.svm._classes.LinearSVC._repr_html_:', type(ret)) # noqa E501\n",
    "except Exception as e:\n",
    "    type_sklearn_svm__classes_LinearSVC__repr_html_ = '_syft_missing'\n",
    "    print('❌ sklearn.svm._classes.LinearSVC._repr_html_: Return unavailable') # noqa E501\n",
    "    print(\"  Please fix this return type code until there is no exception\")\n",
    "    print('  Error:', e)\n"
   ]
  },
  {
   "cell_type": "code",
   "execution_count": null,
   "id": "mechanical-beijing",
   "metadata": {},
   "outputs": [],
   "source": [
    "# sklearn.svm._classes.LinearSVC._repr_html_inner\n",
    "try:\n",
    "    obj = class_constructor() # noqa F821\n",
    "    ret = obj._repr_html_inner()\n",
    "    type_sklearn_svm__classes_LinearSVC__repr_html_inner = getattr(ret, '__module__', 'none') + '.' + ret.__class__.__name__\n",
    "    print('✅ sklearn.svm._classes.LinearSVC._repr_html_inner: ', type(ret)) # noqa E501\n",
    "except Exception as e:\n",
    "    type_sklearn_svm__classes_LinearSVC__repr_html_inner = '_syft_missing'\n",
    "    print('❌ sklearn.svm._classes.LinearSVC._repr_html_inner: Return unavailable') # noqa E501\n",
    "    print(\"  Please fix this return type code until there is no exception\")\n",
    "    print('  Error:', e)\n"
   ]
  },
  {
   "cell_type": "code",
   "execution_count": null,
   "id": "specific-counter",
   "metadata": {},
   "outputs": [],
   "source": [
    "# sklearn.svm._classes.LinearSVC._repr_mimebundle_\n",
    "try:\n",
    "    obj = class_constructor() # noqa F821\n",
    "    ret = obj._repr_mimebundle_()\n",
    "    type_sklearn_svm__classes_LinearSVC__repr_mimebundle_ = getattr(ret, '__module__', 'none') + '.' + ret.__class__.__name__\n",
    "    print('✅ sklearn.svm._classes.LinearSVC._repr_mimebundle_: ', type(ret)) # noqa E501\n",
    "except Exception as e:\n",
    "    type_sklearn_svm__classes_LinearSVC__repr_mimebundle_ = '_syft_missing'\n",
    "    print('❌ sklearn.svm._classes.LinearSVC._repr_mimebundle_: Return unavailable') # noqa E501\n",
    "    print(\"  Please fix this return type code until there is no exception\")\n",
    "    print('  Error:', e)\n"
   ]
  },
  {
   "cell_type": "code",
   "execution_count": null,
   "id": "streaming-latex",
   "metadata": {},
   "outputs": [],
   "source": [
    "# sklearn.svm._classes.LinearSVC._validate_data\n",
    "try:\n",
    "    obj = class_constructor() # noqa F821\n",
    "    ret = obj._validate_data()\n",
    "    type_sklearn_svm__classes_LinearSVC__validate_data = getattr(ret, '__module__', 'none') + '.' + ret.__class__.__name__\n",
    "    print('✅ sklearn.svm._classes.LinearSVC._validate_data: ', type(ret)) # noqa E501\n",
    "except Exception as e:\n",
    "    type_sklearn_svm__classes_LinearSVC__validate_data = '_syft_missing'\n",
    "    print('❌ sklearn.svm._classes.LinearSVC._validate_data: Return unavailable') # noqa E501\n",
    "    print(\"  Please fix this return type code until there is no exception\")\n",
    "    print('  Error:', e)\n"
   ]
  },
  {
   "cell_type": "code",
   "execution_count": null,
   "id": "behavioral-penalty",
   "metadata": {},
   "outputs": [],
   "source": [
    "# sklearn.svm._classes.LinearSVC.decision_function\n",
    "try:\n",
    "    obj = class_constructor() # noqa F821\n",
    "    ret = obj.decision_function()\n",
    "    type_sklearn_svm__classes_LinearSVC_decision_function = getattr(ret, '__module__', 'none') + '.' + ret.__class__.__name__\n",
    "    print('✅ sklearn.svm._classes.LinearSVC.decision_function: ', type(ret)) # noqa E501\n",
    "except Exception as e:\n",
    "    type_sklearn_svm__classes_LinearSVC_decision_function = '_syft_missing'\n",
    "    print('❌ sklearn.svm._classes.LinearSVC.decision_function: Return unavailable') # noqa E501\n",
    "    print(\"  Please fix this return type code until there is no exception\")\n",
    "    print('  Error:', e)\n"
   ]
  },
  {
   "cell_type": "code",
   "execution_count": null,
   "id": "running-dayton",
   "metadata": {},
   "outputs": [],
   "source": [
    "# sklearn.svm._classes.LinearSVC.densify\n",
    "try:\n",
    "    obj = class_constructor() # noqa F821\n",
    "    ret = obj.densify()\n",
    "    type_sklearn_svm__classes_LinearSVC_densify = getattr(ret, '__module__', 'none') + '.' + ret.__class__.__name__\n",
    "    print('✅ sklearn.svm._classes.LinearSVC.densify: ', type(ret)) # noqa E501\n",
    "except Exception as e:\n",
    "    type_sklearn_svm__classes_LinearSVC_densify = '_syft_missing'\n",
    "    print('❌ sklearn.svm._classes.LinearSVC.densify: Return unavailable') # noqa E501\n",
    "    print(\"  Please fix this return type code until there is no exception\")\n",
    "    print('  Error:', e)\n"
   ]
  },
  {
   "cell_type": "code",
   "execution_count": null,
   "id": "favorite-questionnaire",
   "metadata": {},
   "outputs": [],
   "source": [
    "# sklearn.svm._classes.LinearSVC.fit\n",
    "try:\n",
    "    obj = class_constructor() # noqa F821\n",
    "    ret = obj.fit()\n",
    "    type_sklearn_svm__classes_LinearSVC_fit = getattr(ret, '__module__', 'none') + '.' + ret.__class__.__name__\n",
    "    print('✅ sklearn.svm._classes.LinearSVC.fit: ', type(ret)) # noqa E501\n",
    "except Exception as e:\n",
    "    type_sklearn_svm__classes_LinearSVC_fit = '_syft_missing'\n",
    "    print('❌ sklearn.svm._classes.LinearSVC.fit: Return unavailable') # noqa E501\n",
    "    print(\"  Please fix this return type code until there is no exception\")\n",
    "    print('  Error:', e)\n"
   ]
  },
  {
   "cell_type": "code",
   "execution_count": null,
   "id": "dressed-membrane",
   "metadata": {},
   "outputs": [],
   "source": [
    "# sklearn.svm._classes.LinearSVC.get_params\n",
    "try:\n",
    "    obj = class_constructor() # noqa F821\n",
    "    ret = obj.get_params()\n",
    "    type_sklearn_svm__classes_LinearSVC_get_params = getattr(ret, '__module__', 'none') + '.' + ret.__class__.__name__\n",
    "    print('✅ sklearn.svm._classes.LinearSVC.get_params: ', type(ret)) # noqa E501\n",
    "except Exception as e:\n",
    "    type_sklearn_svm__classes_LinearSVC_get_params = '_syft_missing'\n",
    "    print('❌ sklearn.svm._classes.LinearSVC.get_params: Return unavailable') # noqa E501\n",
    "    print(\"  Please fix this return type code until there is no exception\")\n",
    "    print('  Error:', e)\n"
   ]
  },
  {
   "cell_type": "code",
   "execution_count": null,
   "id": "limiting-faculty",
   "metadata": {},
   "outputs": [],
   "source": [
    "# sklearn.svm._classes.LinearSVC.predict\n",
    "try:\n",
    "    obj = class_constructor() # noqa F821\n",
    "    ret = obj.predict()\n",
    "    type_sklearn_svm__classes_LinearSVC_predict = getattr(ret, '__module__', 'none') + '.' + ret.__class__.__name__\n",
    "    print('✅ sklearn.svm._classes.LinearSVC.predict: ', type(ret)) # noqa E501\n",
    "except Exception as e:\n",
    "    type_sklearn_svm__classes_LinearSVC_predict = '_syft_missing'\n",
    "    print('❌ sklearn.svm._classes.LinearSVC.predict: Return unavailable') # noqa E501\n",
    "    print(\"  Please fix this return type code until there is no exception\")\n",
    "    print('  Error:', e)\n"
   ]
  },
  {
   "cell_type": "code",
   "execution_count": null,
   "id": "separate-hebrew",
   "metadata": {},
   "outputs": [],
   "source": [
    "# sklearn.svm._classes.LinearSVC.score\n",
    "try:\n",
    "    obj = class_constructor() # noqa F821\n",
    "    ret = obj.score()\n",
    "    type_sklearn_svm__classes_LinearSVC_score = getattr(ret, '__module__', 'none') + '.' + ret.__class__.__name__\n",
    "    print('✅ sklearn.svm._classes.LinearSVC.score: ', type(ret)) # noqa E501\n",
    "except Exception as e:\n",
    "    type_sklearn_svm__classes_LinearSVC_score = '_syft_missing'\n",
    "    print('❌ sklearn.svm._classes.LinearSVC.score: Return unavailable') # noqa E501\n",
    "    print(\"  Please fix this return type code until there is no exception\")\n",
    "    print('  Error:', e)\n"
   ]
  },
  {
   "cell_type": "code",
   "execution_count": null,
   "id": "reasonable-exposure",
   "metadata": {},
   "outputs": [],
   "source": [
    "# sklearn.svm._classes.LinearSVC.set_params\n",
    "try:\n",
    "    obj = class_constructor() # noqa F821\n",
    "    ret = obj.set_params()\n",
    "    type_sklearn_svm__classes_LinearSVC_set_params = getattr(ret, '__module__', 'none') + '.' + ret.__class__.__name__\n",
    "    print('✅ sklearn.svm._classes.LinearSVC.set_params: ', type(ret)) # noqa E501\n",
    "except Exception as e:\n",
    "    type_sklearn_svm__classes_LinearSVC_set_params = '_syft_missing'\n",
    "    print('❌ sklearn.svm._classes.LinearSVC.set_params: Return unavailable') # noqa E501\n",
    "    print(\"  Please fix this return type code until there is no exception\")\n",
    "    print('  Error:', e)\n"
   ]
  },
  {
   "cell_type": "code",
   "execution_count": null,
   "id": "demographic-corruption",
   "metadata": {},
   "outputs": [],
   "source": [
    "# sklearn.svm._classes.LinearSVC.sparsify\n",
    "try:\n",
    "    obj = class_constructor() # noqa F821\n",
    "    ret = obj.sparsify()\n",
    "    type_sklearn_svm__classes_LinearSVC_sparsify = getattr(ret, '__module__', 'none') + '.' + ret.__class__.__name__\n",
    "    print('✅ sklearn.svm._classes.LinearSVC.sparsify: ', type(ret)) # noqa E501\n",
    "except Exception as e:\n",
    "    type_sklearn_svm__classes_LinearSVC_sparsify = '_syft_missing'\n",
    "    print('❌ sklearn.svm._classes.LinearSVC.sparsify: Return unavailable') # noqa E501\n",
    "    print(\"  Please fix this return type code until there is no exception\")\n",
    "    print('  Error:', e)\n"
   ]
  }
 ],
 "metadata": {},
 "nbformat": 4,
 "nbformat_minor": 5
}
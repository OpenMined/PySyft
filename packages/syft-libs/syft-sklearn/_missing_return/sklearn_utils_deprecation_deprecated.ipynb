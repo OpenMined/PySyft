{
 "cells": [
  {
   "cell_type": "markdown",
   "id": "hispanic-vegetarian",
   "metadata": {},
   "source": [
    "## sklearn.utils.deprecation.deprecated"
   ]
  },
  {
   "cell_type": "code",
   "execution_count": null,
   "id": "irish-substance",
   "metadata": {},
   "outputs": [],
   "source": [
    "import sklearn\n",
    "def class_constructor(*args, **kwargs):\n",
    "    obj = sklearn.utils.deprecation.deprecated()\n",
    "    return obj\n"
   ]
  },
  {
   "cell_type": "code",
   "execution_count": null,
   "id": "duplicate-bolivia",
   "metadata": {},
   "outputs": [],
   "source": [
    "# sklearn.utils.deprecation.deprecated.__call__\n",
    "try:\n",
    "    obj = class_constructor() # noqa F821\n",
    "    ret = obj.__call__()\n",
    "    type_sklearn_utils_deprecation_deprecated___call__ = getattr(ret, '__module__', 'none') + '.' + ret.__class__.__name__\n",
    "    print('✅ sklearn.utils.deprecation.deprecated.__call__: ', type(ret)) # noqa E501\n",
    "except Exception as e:\n",
    "    type_sklearn_utils_deprecation_deprecated___call__ = '_syft_missing'\n",
    "    print('❌ sklearn.utils.deprecation.deprecated.__call__: Return unavailable') # noqa E501\n",
    "    print(\"  Please fix this return type code until there is no exception\")\n",
    "    print('  Error:', e)\n"
   ]
  },
  {
   "cell_type": "code",
   "execution_count": null,
   "id": "applied-placement",
   "metadata": {},
   "outputs": [],
   "source": [
    "# sklearn.utils.deprecation.deprecated._decorate_class\n",
    "try:\n",
    "    obj = class_constructor() # noqa F821\n",
    "    ret = obj._decorate_class()\n",
    "    type_sklearn_utils_deprecation_deprecated__decorate_class = getattr(ret, '__module__', 'none') + '.' + ret.__class__.__name__\n",
    "    print('✅ sklearn.utils.deprecation.deprecated._decorate_class: ', type(ret)) # noqa E501\n",
    "except Exception as e:\n",
    "    type_sklearn_utils_deprecation_deprecated__decorate_class = '_syft_missing'\n",
    "    print('❌ sklearn.utils.deprecation.deprecated._decorate_class: Return unavailable') # noqa E501\n",
    "    print(\"  Please fix this return type code until there is no exception\")\n",
    "    print('  Error:', e)\n"
   ]
  },
  {
   "cell_type": "code",
   "execution_count": null,
   "id": "later-virus",
   "metadata": {},
   "outputs": [],
   "source": [
    "# sklearn.utils.deprecation.deprecated._decorate_fun\n",
    "try:\n",
    "    obj = class_constructor() # noqa F821\n",
    "    ret = obj._decorate_fun()\n",
    "    type_sklearn_utils_deprecation_deprecated__decorate_fun = getattr(ret, '__module__', 'none') + '.' + ret.__class__.__name__\n",
    "    print('✅ sklearn.utils.deprecation.deprecated._decorate_fun: ', type(ret)) # noqa E501\n",
    "except Exception as e:\n",
    "    type_sklearn_utils_deprecation_deprecated__decorate_fun = '_syft_missing'\n",
    "    print('❌ sklearn.utils.deprecation.deprecated._decorate_fun: Return unavailable') # noqa E501\n",
    "    print(\"  Please fix this return type code until there is no exception\")\n",
    "    print('  Error:', e)\n"
   ]
  },
  {
   "cell_type": "code",
   "execution_count": null,
   "id": "placed-kitchen",
   "metadata": {},
   "outputs": [],
   "source": [
    "# sklearn.utils.deprecation.deprecated._decorate_property\n",
    "try:\n",
    "    obj = class_constructor() # noqa F821\n",
    "    ret = obj._decorate_property()\n",
    "    type_sklearn_utils_deprecation_deprecated__decorate_property = getattr(ret, '__module__', 'none') + '.' + ret.__class__.__name__\n",
    "    print('✅ sklearn.utils.deprecation.deprecated._decorate_property: ', type(ret)) # noqa E501\n",
    "except Exception as e:\n",
    "    type_sklearn_utils_deprecation_deprecated__decorate_property = '_syft_missing'\n",
    "    print('❌ sklearn.utils.deprecation.deprecated._decorate_property: Return unavailable') # noqa E501\n",
    "    print(\"  Please fix this return type code until there is no exception\")\n",
    "    print('  Error:', e)\n"
   ]
  },
  {
   "cell_type": "code",
   "execution_count": null,
   "id": "royal-break",
   "metadata": {},
   "outputs": [],
   "source": [
    "# sklearn.utils.deprecation.deprecated._update_doc\n",
    "try:\n",
    "    obj = class_constructor() # noqa F821\n",
    "    ret = obj._update_doc()\n",
    "    type_sklearn_utils_deprecation_deprecated__update_doc = getattr(ret, '__module__', 'none') + '.' + ret.__class__.__name__\n",
    "    print('✅ sklearn.utils.deprecation.deprecated._update_doc: ', type(ret)) # noqa E501\n",
    "except Exception as e:\n",
    "    type_sklearn_utils_deprecation_deprecated__update_doc = '_syft_missing'\n",
    "    print('❌ sklearn.utils.deprecation.deprecated._update_doc: Return unavailable') # noqa E501\n",
    "    print(\"  Please fix this return type code until there is no exception\")\n",
    "    print('  Error:', e)\n"
   ]
  }
 ],
 "metadata": {},
 "nbformat": 4,
 "nbformat_minor": 5
}
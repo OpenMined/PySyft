{
 "cells": [
  {
   "cell_type": "markdown",
   "id": "consecutive-heather",
   "metadata": {},
   "source": [
    "## sklearn.decomposition._dict_learning._BaseSparseCoding"
   ]
  },
  {
   "cell_type": "code",
   "execution_count": null,
   "id": "celtic-buddy",
   "metadata": {},
   "outputs": [],
   "source": [
    "import sklearn\n",
    "def class_constructor(*args, **kwargs):\n",
    "    obj = sklearn.decomposition._dict_learning._BaseSparseCoding()\n",
    "    return obj\n"
   ]
  },
  {
   "cell_type": "code",
   "execution_count": null,
   "id": "lesbian-apparatus",
   "metadata": {},
   "outputs": [],
   "source": [
    "# sklearn.decomposition._dict_learning._BaseSparseCoding._transform\n",
    "try:\n",
    "    obj = class_constructor() # noqa F821\n",
    "    ret = obj._transform()\n",
    "    type_sklearn_decomposition__dict_learning__BaseSparseCoding__transform = getattr(ret, '__module__', 'none') + '.' + ret.__class__.__name__\n",
    "    print('✅ sklearn.decomposition._dict_learning._BaseSparseCoding._transform: ', type(ret)) # noqa E501\n",
    "except Exception as e:\n",
    "    type_sklearn_decomposition__dict_learning__BaseSparseCoding__transform = '_syft_missing'\n",
    "    print('❌ sklearn.decomposition._dict_learning._BaseSparseCoding._transform: Return unavailable') # noqa E501\n",
    "    print(\"  Please fix this return type code until there is no exception\")\n",
    "    print('  Error:', e)\n"
   ]
  },
  {
   "cell_type": "code",
   "execution_count": null,
   "id": "fewer-cheat",
   "metadata": {},
   "outputs": [],
   "source": [
    "# sklearn.decomposition._dict_learning._BaseSparseCoding.fit_transform\n",
    "try:\n",
    "    obj = class_constructor() # noqa F821\n",
    "    ret = obj.fit_transform()\n",
    "    type_sklearn_decomposition__dict_learning__BaseSparseCoding_fit_transform = getattr(ret, '__module__', 'none') + '.' + ret.__class__.__name__\n",
    "    print('✅ sklearn.decomposition._dict_learning._BaseSparseCoding.fit_transform: ', type(ret)) # noqa E501\n",
    "except Exception as e:\n",
    "    type_sklearn_decomposition__dict_learning__BaseSparseCoding_fit_transform = '_syft_missing'\n",
    "    print('❌ sklearn.decomposition._dict_learning._BaseSparseCoding.fit_transform: Return unavailable') # noqa E501\n",
    "    print(\"  Please fix this return type code until there is no exception\")\n",
    "    print('  Error:', e)\n"
   ]
  },
  {
   "cell_type": "code",
   "execution_count": null,
   "id": "derived-treasure",
   "metadata": {},
   "outputs": [],
   "source": [
    "# sklearn.decomposition._dict_learning._BaseSparseCoding.transform\n",
    "try:\n",
    "    obj = class_constructor() # noqa F821\n",
    "    ret = obj.transform()\n",
    "    type_sklearn_decomposition__dict_learning__BaseSparseCoding_transform = getattr(ret, '__module__', 'none') + '.' + ret.__class__.__name__\n",
    "    print('✅ sklearn.decomposition._dict_learning._BaseSparseCoding.transform: ', type(ret)) # noqa E501\n",
    "except Exception as e:\n",
    "    type_sklearn_decomposition__dict_learning__BaseSparseCoding_transform = '_syft_missing'\n",
    "    print('❌ sklearn.decomposition._dict_learning._BaseSparseCoding.transform: Return unavailable') # noqa E501\n",
    "    print(\"  Please fix this return type code until there is no exception\")\n",
    "    print('  Error:', e)\n"
   ]
  }
 ],
 "metadata": {},
 "nbformat": 4,
 "nbformat_minor": 5
}
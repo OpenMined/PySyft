{
 "cells": [
  {
   "cell_type": "markdown",
   "id": "permanent-pittsburgh",
   "metadata": {},
   "source": [
    "## sklearn.multiclass.OneVsRestClassifier"
   ]
  },
  {
   "cell_type": "code",
   "execution_count": null,
   "id": "altered-arctic",
   "metadata": {},
   "outputs": [],
   "source": [
    "import sklearn\n",
    "def class_constructor(*args, **kwargs):\n",
    "    obj = sklearn.multiclass.OneVsRestClassifier()\n",
    "    return obj\n"
   ]
  },
  {
   "cell_type": "code",
   "execution_count": null,
   "id": "universal-prize",
   "metadata": {},
   "outputs": [],
   "source": [
    "# sklearn.multiclass.OneVsRestClassifier.__getstate__\n",
    "try:\n",
    "    obj = class_constructor() # noqa F821\n",
    "    ret = obj.__getstate__()\n",
    "    type_sklearn_multiclass_OneVsRestClassifier___getstate__ = getattr(ret, '__module__', 'none') + '.' + ret.__class__.__name__\n",
    "    print('✅ sklearn.multiclass.OneVsRestClassifier.__getstate__: ', type(ret)) # noqa E501\n",
    "except Exception as e:\n",
    "    type_sklearn_multiclass_OneVsRestClassifier___getstate__ = '_syft_missing'\n",
    "    print('❌ sklearn.multiclass.OneVsRestClassifier.__getstate__: Return unavailable') # noqa E501\n",
    "    print(\"  Please fix this return type code until there is no exception\")\n",
    "    print('  Error:', e)\n"
   ]
  },
  {
   "cell_type": "code",
   "execution_count": null,
   "id": "sacred-challenge",
   "metadata": {},
   "outputs": [],
   "source": [
    "# sklearn.multiclass.OneVsRestClassifier.__repr__\n",
    "try:\n",
    "    obj = class_constructor() # noqa F821\n",
    "    ret = obj.__repr__()\n",
    "    type_sklearn_multiclass_OneVsRestClassifier___repr__ = getattr(ret, '__module__', 'none') + '.' + ret.__class__.__name__\n",
    "    print('✅ sklearn.multiclass.OneVsRestClassifier.__repr__: ', type(ret)) # noqa E501\n",
    "except Exception as e:\n",
    "    type_sklearn_multiclass_OneVsRestClassifier___repr__ = '_syft_missing'\n",
    "    print('❌ sklearn.multiclass.OneVsRestClassifier.__repr__: Return unavailable') # noqa E501\n",
    "    print(\"  Please fix this return type code until there is no exception\")\n",
    "    print('  Error:', e)\n"
   ]
  },
  {
   "cell_type": "code",
   "execution_count": null,
   "id": "referenced-uzbekistan",
   "metadata": {},
   "outputs": [],
   "source": [
    "# sklearn.multiclass.OneVsRestClassifier.__setstate__\n",
    "try:\n",
    "    obj = class_constructor() # noqa F821\n",
    "    ret = obj.__setstate__()\n",
    "    type_sklearn_multiclass_OneVsRestClassifier___setstate__ = getattr(ret, '__module__', 'none') + '.' + ret.__class__.__name__\n",
    "    print('✅ sklearn.multiclass.OneVsRestClassifier.__setstate__: ', type(ret)) # noqa E501\n",
    "except Exception as e:\n",
    "    type_sklearn_multiclass_OneVsRestClassifier___setstate__ = '_syft_missing'\n",
    "    print('❌ sklearn.multiclass.OneVsRestClassifier.__setstate__: Return unavailable') # noqa E501\n",
    "    print(\"  Please fix this return type code until there is no exception\")\n",
    "    print('  Error:', e)\n"
   ]
  },
  {
   "cell_type": "code",
   "execution_count": null,
   "id": "immune-white",
   "metadata": {},
   "outputs": [],
   "source": [
    "# sklearn.multiclass.OneVsRestClassifier._check_n_features\n",
    "try:\n",
    "    obj = class_constructor() # noqa F821\n",
    "    ret = obj._check_n_features()\n",
    "    type_sklearn_multiclass_OneVsRestClassifier__check_n_features = getattr(ret, '__module__', 'none') + '.' + ret.__class__.__name__\n",
    "    print('✅ sklearn.multiclass.OneVsRestClassifier._check_n_features: ', type(ret)) # noqa E501\n",
    "except Exception as e:\n",
    "    type_sklearn_multiclass_OneVsRestClassifier__check_n_features = '_syft_missing'\n",
    "    print('❌ sklearn.multiclass.OneVsRestClassifier._check_n_features: Return unavailable') # noqa E501\n",
    "    print(\"  Please fix this return type code until there is no exception\")\n",
    "    print('  Error:', e)\n"
   ]
  },
  {
   "cell_type": "code",
   "execution_count": null,
   "id": "successful-absolute",
   "metadata": {},
   "outputs": [],
   "source": [
    "# sklearn.multiclass.OneVsRestClassifier._first_estimator\n",
    "try:\n",
    "    obj = class_constructor()\n",
    "    ret = obj._first_estimator\n",
    "    type_sklearn_multiclass_OneVsRestClassifier__first_estimator = getattr(ret, '__module__', 'none') + '.' + ret.__class__.__name__\n",
    "    print('✅ sklearn.multiclass.OneVsRestClassifier._first_estimator:', type(ret)) # noqa E501\n",
    "except Exception as e:\n",
    "    type_sklearn_multiclass_OneVsRestClassifier__first_estimator = '_syft_missing'\n",
    "    print('❌ sklearn.multiclass.OneVsRestClassifier._first_estimator: Return unavailable') # noqa E501\n",
    "    print(\"  Please fix this return type code until there is no exception\")\n",
    "    print('  Error:', e)\n"
   ]
  },
  {
   "cell_type": "code",
   "execution_count": null,
   "id": "impaired-patient",
   "metadata": {},
   "outputs": [],
   "source": [
    "# sklearn.multiclass.OneVsRestClassifier._get_param_names\n",
    "try:\n",
    "    obj = class_constructor() # noqa F821\n",
    "    ret = obj._get_param_names()\n",
    "    type_sklearn_multiclass_OneVsRestClassifier__get_param_names = getattr(ret, '__module__', 'none') + '.' + ret.__class__.__name__\n",
    "    print('✅ sklearn.multiclass.OneVsRestClassifier._get_param_names: ', type(ret)) # noqa E501\n",
    "except Exception as e:\n",
    "    type_sklearn_multiclass_OneVsRestClassifier__get_param_names = '_syft_missing'\n",
    "    print('❌ sklearn.multiclass.OneVsRestClassifier._get_param_names: Return unavailable') # noqa E501\n",
    "    print(\"  Please fix this return type code until there is no exception\")\n",
    "    print('  Error:', e)\n"
   ]
  },
  {
   "cell_type": "code",
   "execution_count": null,
   "id": "boolean-merit",
   "metadata": {},
   "outputs": [],
   "source": [
    "# sklearn.multiclass.OneVsRestClassifier._get_tags\n",
    "try:\n",
    "    obj = class_constructor() # noqa F821\n",
    "    ret = obj._get_tags()\n",
    "    type_sklearn_multiclass_OneVsRestClassifier__get_tags = getattr(ret, '__module__', 'none') + '.' + ret.__class__.__name__\n",
    "    print('✅ sklearn.multiclass.OneVsRestClassifier._get_tags: ', type(ret)) # noqa E501\n",
    "except Exception as e:\n",
    "    type_sklearn_multiclass_OneVsRestClassifier__get_tags = '_syft_missing'\n",
    "    print('❌ sklearn.multiclass.OneVsRestClassifier._get_tags: Return unavailable') # noqa E501\n",
    "    print(\"  Please fix this return type code until there is no exception\")\n",
    "    print('  Error:', e)\n"
   ]
  },
  {
   "cell_type": "code",
   "execution_count": null,
   "id": "ranking-party",
   "metadata": {},
   "outputs": [],
   "source": [
    "# sklearn.multiclass.OneVsRestClassifier._more_tags\n",
    "try:\n",
    "    obj = class_constructor() # noqa F821\n",
    "    ret = obj._more_tags()\n",
    "    type_sklearn_multiclass_OneVsRestClassifier__more_tags = getattr(ret, '__module__', 'none') + '.' + ret.__class__.__name__\n",
    "    print('✅ sklearn.multiclass.OneVsRestClassifier._more_tags: ', type(ret)) # noqa E501\n",
    "except Exception as e:\n",
    "    type_sklearn_multiclass_OneVsRestClassifier__more_tags = '_syft_missing'\n",
    "    print('❌ sklearn.multiclass.OneVsRestClassifier._more_tags: Return unavailable') # noqa E501\n",
    "    print(\"  Please fix this return type code until there is no exception\")\n",
    "    print('  Error:', e)\n"
   ]
  },
  {
   "cell_type": "code",
   "execution_count": null,
   "id": "irish-antenna",
   "metadata": {},
   "outputs": [],
   "source": [
    "# sklearn.multiclass.OneVsRestClassifier._pairwise\n",
    "try:\n",
    "    obj = class_constructor()\n",
    "    ret = obj._pairwise\n",
    "    type_sklearn_multiclass_OneVsRestClassifier__pairwise = getattr(ret, '__module__', 'none') + '.' + ret.__class__.__name__\n",
    "    print('✅ sklearn.multiclass.OneVsRestClassifier._pairwise:', type(ret)) # noqa E501\n",
    "except Exception as e:\n",
    "    type_sklearn_multiclass_OneVsRestClassifier__pairwise = '_syft_missing'\n",
    "    print('❌ sklearn.multiclass.OneVsRestClassifier._pairwise: Return unavailable') # noqa E501\n",
    "    print(\"  Please fix this return type code until there is no exception\")\n",
    "    print('  Error:', e)\n"
   ]
  },
  {
   "cell_type": "code",
   "execution_count": null,
   "id": "smart-request",
   "metadata": {},
   "outputs": [],
   "source": [
    "# sklearn.multiclass.OneVsRestClassifier._repr_html_\n",
    "try:\n",
    "    obj = class_constructor()\n",
    "    ret = obj._repr_html_\n",
    "    type_sklearn_multiclass_OneVsRestClassifier__repr_html_ = getattr(ret, '__module__', 'none') + '.' + ret.__class__.__name__\n",
    "    print('✅ sklearn.multiclass.OneVsRestClassifier._repr_html_:', type(ret)) # noqa E501\n",
    "except Exception as e:\n",
    "    type_sklearn_multiclass_OneVsRestClassifier__repr_html_ = '_syft_missing'\n",
    "    print('❌ sklearn.multiclass.OneVsRestClassifier._repr_html_: Return unavailable') # noqa E501\n",
    "    print(\"  Please fix this return type code until there is no exception\")\n",
    "    print('  Error:', e)\n"
   ]
  },
  {
   "cell_type": "code",
   "execution_count": null,
   "id": "informal-motorcycle",
   "metadata": {},
   "outputs": [],
   "source": [
    "# sklearn.multiclass.OneVsRestClassifier._repr_html_inner\n",
    "try:\n",
    "    obj = class_constructor() # noqa F821\n",
    "    ret = obj._repr_html_inner()\n",
    "    type_sklearn_multiclass_OneVsRestClassifier__repr_html_inner = getattr(ret, '__module__', 'none') + '.' + ret.__class__.__name__\n",
    "    print('✅ sklearn.multiclass.OneVsRestClassifier._repr_html_inner: ', type(ret)) # noqa E501\n",
    "except Exception as e:\n",
    "    type_sklearn_multiclass_OneVsRestClassifier__repr_html_inner = '_syft_missing'\n",
    "    print('❌ sklearn.multiclass.OneVsRestClassifier._repr_html_inner: Return unavailable') # noqa E501\n",
    "    print(\"  Please fix this return type code until there is no exception\")\n",
    "    print('  Error:', e)\n"
   ]
  },
  {
   "cell_type": "code",
   "execution_count": null,
   "id": "advised-manhattan",
   "metadata": {},
   "outputs": [],
   "source": [
    "# sklearn.multiclass.OneVsRestClassifier._repr_mimebundle_\n",
    "try:\n",
    "    obj = class_constructor() # noqa F821\n",
    "    ret = obj._repr_mimebundle_()\n",
    "    type_sklearn_multiclass_OneVsRestClassifier__repr_mimebundle_ = getattr(ret, '__module__', 'none') + '.' + ret.__class__.__name__\n",
    "    print('✅ sklearn.multiclass.OneVsRestClassifier._repr_mimebundle_: ', type(ret)) # noqa E501\n",
    "except Exception as e:\n",
    "    type_sklearn_multiclass_OneVsRestClassifier__repr_mimebundle_ = '_syft_missing'\n",
    "    print('❌ sklearn.multiclass.OneVsRestClassifier._repr_mimebundle_: Return unavailable') # noqa E501\n",
    "    print(\"  Please fix this return type code until there is no exception\")\n",
    "    print('  Error:', e)\n"
   ]
  },
  {
   "cell_type": "code",
   "execution_count": null,
   "id": "realistic-survey",
   "metadata": {},
   "outputs": [],
   "source": [
    "# sklearn.multiclass.OneVsRestClassifier._validate_data\n",
    "try:\n",
    "    obj = class_constructor() # noqa F821\n",
    "    ret = obj._validate_data()\n",
    "    type_sklearn_multiclass_OneVsRestClassifier__validate_data = getattr(ret, '__module__', 'none') + '.' + ret.__class__.__name__\n",
    "    print('✅ sklearn.multiclass.OneVsRestClassifier._validate_data: ', type(ret)) # noqa E501\n",
    "except Exception as e:\n",
    "    type_sklearn_multiclass_OneVsRestClassifier__validate_data = '_syft_missing'\n",
    "    print('❌ sklearn.multiclass.OneVsRestClassifier._validate_data: Return unavailable') # noqa E501\n",
    "    print(\"  Please fix this return type code until there is no exception\")\n",
    "    print('  Error:', e)\n"
   ]
  },
  {
   "cell_type": "code",
   "execution_count": null,
   "id": "renewable-primary",
   "metadata": {},
   "outputs": [],
   "source": [
    "# sklearn.multiclass.OneVsRestClassifier.coef_\n",
    "try:\n",
    "    obj = class_constructor()\n",
    "    ret = obj.coef_\n",
    "    type_sklearn_multiclass_OneVsRestClassifier_coef_ = getattr(ret, '__module__', 'none') + '.' + ret.__class__.__name__\n",
    "    print('✅ sklearn.multiclass.OneVsRestClassifier.coef_:', type(ret)) # noqa E501\n",
    "except Exception as e:\n",
    "    type_sklearn_multiclass_OneVsRestClassifier_coef_ = '_syft_missing'\n",
    "    print('❌ sklearn.multiclass.OneVsRestClassifier.coef_: Return unavailable') # noqa E501\n",
    "    print(\"  Please fix this return type code until there is no exception\")\n",
    "    print('  Error:', e)\n"
   ]
  },
  {
   "cell_type": "code",
   "execution_count": null,
   "id": "bound-joint",
   "metadata": {},
   "outputs": [],
   "source": [
    "# sklearn.multiclass.OneVsRestClassifier.decision_function\n",
    "try:\n",
    "    obj = class_constructor() # noqa F821\n",
    "    ret = obj.decision_function()\n",
    "    type_sklearn_multiclass_OneVsRestClassifier_decision_function = getattr(ret, '__module__', 'none') + '.' + ret.__class__.__name__\n",
    "    print('✅ sklearn.multiclass.OneVsRestClassifier.decision_function: ', type(ret)) # noqa E501\n",
    "except Exception as e:\n",
    "    type_sklearn_multiclass_OneVsRestClassifier_decision_function = '_syft_missing'\n",
    "    print('❌ sklearn.multiclass.OneVsRestClassifier.decision_function: Return unavailable') # noqa E501\n",
    "    print(\"  Please fix this return type code until there is no exception\")\n",
    "    print('  Error:', e)\n"
   ]
  },
  {
   "cell_type": "code",
   "execution_count": null,
   "id": "virgin-princess",
   "metadata": {},
   "outputs": [],
   "source": [
    "# sklearn.multiclass.OneVsRestClassifier.fit\n",
    "try:\n",
    "    obj = class_constructor() # noqa F821\n",
    "    ret = obj.fit()\n",
    "    type_sklearn_multiclass_OneVsRestClassifier_fit = getattr(ret, '__module__', 'none') + '.' + ret.__class__.__name__\n",
    "    print('✅ sklearn.multiclass.OneVsRestClassifier.fit: ', type(ret)) # noqa E501\n",
    "except Exception as e:\n",
    "    type_sklearn_multiclass_OneVsRestClassifier_fit = '_syft_missing'\n",
    "    print('❌ sklearn.multiclass.OneVsRestClassifier.fit: Return unavailable') # noqa E501\n",
    "    print(\"  Please fix this return type code until there is no exception\")\n",
    "    print('  Error:', e)\n"
   ]
  },
  {
   "cell_type": "code",
   "execution_count": null,
   "id": "searching-thomas",
   "metadata": {},
   "outputs": [],
   "source": [
    "# sklearn.multiclass.OneVsRestClassifier.get_params\n",
    "try:\n",
    "    obj = class_constructor() # noqa F821\n",
    "    ret = obj.get_params()\n",
    "    type_sklearn_multiclass_OneVsRestClassifier_get_params = getattr(ret, '__module__', 'none') + '.' + ret.__class__.__name__\n",
    "    print('✅ sklearn.multiclass.OneVsRestClassifier.get_params: ', type(ret)) # noqa E501\n",
    "except Exception as e:\n",
    "    type_sklearn_multiclass_OneVsRestClassifier_get_params = '_syft_missing'\n",
    "    print('❌ sklearn.multiclass.OneVsRestClassifier.get_params: Return unavailable') # noqa E501\n",
    "    print(\"  Please fix this return type code until there is no exception\")\n",
    "    print('  Error:', e)\n"
   ]
  },
  {
   "cell_type": "code",
   "execution_count": null,
   "id": "official-communist",
   "metadata": {},
   "outputs": [],
   "source": [
    "# sklearn.multiclass.OneVsRestClassifier.intercept_\n",
    "try:\n",
    "    obj = class_constructor()\n",
    "    ret = obj.intercept_\n",
    "    type_sklearn_multiclass_OneVsRestClassifier_intercept_ = getattr(ret, '__module__', 'none') + '.' + ret.__class__.__name__\n",
    "    print('✅ sklearn.multiclass.OneVsRestClassifier.intercept_:', type(ret)) # noqa E501\n",
    "except Exception as e:\n",
    "    type_sklearn_multiclass_OneVsRestClassifier_intercept_ = '_syft_missing'\n",
    "    print('❌ sklearn.multiclass.OneVsRestClassifier.intercept_: Return unavailable') # noqa E501\n",
    "    print(\"  Please fix this return type code until there is no exception\")\n",
    "    print('  Error:', e)\n"
   ]
  },
  {
   "cell_type": "code",
   "execution_count": null,
   "id": "lightweight-airport",
   "metadata": {},
   "outputs": [],
   "source": [
    "# sklearn.multiclass.OneVsRestClassifier.multilabel_\n",
    "try:\n",
    "    obj = class_constructor()\n",
    "    ret = obj.multilabel_\n",
    "    type_sklearn_multiclass_OneVsRestClassifier_multilabel_ = getattr(ret, '__module__', 'none') + '.' + ret.__class__.__name__\n",
    "    print('✅ sklearn.multiclass.OneVsRestClassifier.multilabel_:', type(ret)) # noqa E501\n",
    "except Exception as e:\n",
    "    type_sklearn_multiclass_OneVsRestClassifier_multilabel_ = '_syft_missing'\n",
    "    print('❌ sklearn.multiclass.OneVsRestClassifier.multilabel_: Return unavailable') # noqa E501\n",
    "    print(\"  Please fix this return type code until there is no exception\")\n",
    "    print('  Error:', e)\n"
   ]
  },
  {
   "cell_type": "code",
   "execution_count": null,
   "id": "consolidated-share",
   "metadata": {},
   "outputs": [],
   "source": [
    "# sklearn.multiclass.OneVsRestClassifier.n_classes_\n",
    "try:\n",
    "    obj = class_constructor()\n",
    "    ret = obj.n_classes_\n",
    "    type_sklearn_multiclass_OneVsRestClassifier_n_classes_ = getattr(ret, '__module__', 'none') + '.' + ret.__class__.__name__\n",
    "    print('✅ sklearn.multiclass.OneVsRestClassifier.n_classes_:', type(ret)) # noqa E501\n",
    "except Exception as e:\n",
    "    type_sklearn_multiclass_OneVsRestClassifier_n_classes_ = '_syft_missing'\n",
    "    print('❌ sklearn.multiclass.OneVsRestClassifier.n_classes_: Return unavailable') # noqa E501\n",
    "    print(\"  Please fix this return type code until there is no exception\")\n",
    "    print('  Error:', e)\n"
   ]
  },
  {
   "cell_type": "code",
   "execution_count": null,
   "id": "bottom-anxiety",
   "metadata": {},
   "outputs": [],
   "source": [
    "# sklearn.multiclass.OneVsRestClassifier.n_features_in_\n",
    "try:\n",
    "    obj = class_constructor()\n",
    "    ret = obj.n_features_in_\n",
    "    type_sklearn_multiclass_OneVsRestClassifier_n_features_in_ = getattr(ret, '__module__', 'none') + '.' + ret.__class__.__name__\n",
    "    print('✅ sklearn.multiclass.OneVsRestClassifier.n_features_in_:', type(ret)) # noqa E501\n",
    "except Exception as e:\n",
    "    type_sklearn_multiclass_OneVsRestClassifier_n_features_in_ = '_syft_missing'\n",
    "    print('❌ sklearn.multiclass.OneVsRestClassifier.n_features_in_: Return unavailable') # noqa E501\n",
    "    print(\"  Please fix this return type code until there is no exception\")\n",
    "    print('  Error:', e)\n"
   ]
  },
  {
   "cell_type": "code",
   "execution_count": null,
   "id": "interracial-bronze",
   "metadata": {},
   "outputs": [],
   "source": [
    "# sklearn.multiclass.OneVsRestClassifier.partial_fit\n",
    "try:\n",
    "    obj = class_constructor() # noqa F821\n",
    "    ret = obj.partial_fit()\n",
    "    type_sklearn_multiclass_OneVsRestClassifier_partial_fit = getattr(ret, '__module__', 'none') + '.' + ret.__class__.__name__\n",
    "    print('✅ sklearn.multiclass.OneVsRestClassifier.partial_fit: ', type(ret)) # noqa E501\n",
    "except Exception as e:\n",
    "    type_sklearn_multiclass_OneVsRestClassifier_partial_fit = '_syft_missing'\n",
    "    print('❌ sklearn.multiclass.OneVsRestClassifier.partial_fit: Return unavailable') # noqa E501\n",
    "    print(\"  Please fix this return type code until there is no exception\")\n",
    "    print('  Error:', e)\n"
   ]
  },
  {
   "cell_type": "code",
   "execution_count": null,
   "id": "split-behavior",
   "metadata": {},
   "outputs": [],
   "source": [
    "# sklearn.multiclass.OneVsRestClassifier.predict\n",
    "try:\n",
    "    obj = class_constructor() # noqa F821\n",
    "    ret = obj.predict()\n",
    "    type_sklearn_multiclass_OneVsRestClassifier_predict = getattr(ret, '__module__', 'none') + '.' + ret.__class__.__name__\n",
    "    print('✅ sklearn.multiclass.OneVsRestClassifier.predict: ', type(ret)) # noqa E501\n",
    "except Exception as e:\n",
    "    type_sklearn_multiclass_OneVsRestClassifier_predict = '_syft_missing'\n",
    "    print('❌ sklearn.multiclass.OneVsRestClassifier.predict: Return unavailable') # noqa E501\n",
    "    print(\"  Please fix this return type code until there is no exception\")\n",
    "    print('  Error:', e)\n"
   ]
  },
  {
   "cell_type": "code",
   "execution_count": null,
   "id": "express-flesh",
   "metadata": {},
   "outputs": [],
   "source": [
    "# sklearn.multiclass.OneVsRestClassifier.predict_proba\n",
    "try:\n",
    "    obj = class_constructor() # noqa F821\n",
    "    ret = obj.predict_proba()\n",
    "    type_sklearn_multiclass_OneVsRestClassifier_predict_proba = getattr(ret, '__module__', 'none') + '.' + ret.__class__.__name__\n",
    "    print('✅ sklearn.multiclass.OneVsRestClassifier.predict_proba: ', type(ret)) # noqa E501\n",
    "except Exception as e:\n",
    "    type_sklearn_multiclass_OneVsRestClassifier_predict_proba = '_syft_missing'\n",
    "    print('❌ sklearn.multiclass.OneVsRestClassifier.predict_proba: Return unavailable') # noqa E501\n",
    "    print(\"  Please fix this return type code until there is no exception\")\n",
    "    print('  Error:', e)\n"
   ]
  },
  {
   "cell_type": "code",
   "execution_count": null,
   "id": "annoying-demonstration",
   "metadata": {},
   "outputs": [],
   "source": [
    "# sklearn.multiclass.OneVsRestClassifier.score\n",
    "try:\n",
    "    obj = class_constructor() # noqa F821\n",
    "    ret = obj.score()\n",
    "    type_sklearn_multiclass_OneVsRestClassifier_score = getattr(ret, '__module__', 'none') + '.' + ret.__class__.__name__\n",
    "    print('✅ sklearn.multiclass.OneVsRestClassifier.score: ', type(ret)) # noqa E501\n",
    "except Exception as e:\n",
    "    type_sklearn_multiclass_OneVsRestClassifier_score = '_syft_missing'\n",
    "    print('❌ sklearn.multiclass.OneVsRestClassifier.score: Return unavailable') # noqa E501\n",
    "    print(\"  Please fix this return type code until there is no exception\")\n",
    "    print('  Error:', e)\n"
   ]
  },
  {
   "cell_type": "code",
   "execution_count": null,
   "id": "egyptian-acoustic",
   "metadata": {},
   "outputs": [],
   "source": [
    "# sklearn.multiclass.OneVsRestClassifier.set_params\n",
    "try:\n",
    "    obj = class_constructor() # noqa F821\n",
    "    ret = obj.set_params()\n",
    "    type_sklearn_multiclass_OneVsRestClassifier_set_params = getattr(ret, '__module__', 'none') + '.' + ret.__class__.__name__\n",
    "    print('✅ sklearn.multiclass.OneVsRestClassifier.set_params: ', type(ret)) # noqa E501\n",
    "except Exception as e:\n",
    "    type_sklearn_multiclass_OneVsRestClassifier_set_params = '_syft_missing'\n",
    "    print('❌ sklearn.multiclass.OneVsRestClassifier.set_params: Return unavailable') # noqa E501\n",
    "    print(\"  Please fix this return type code until there is no exception\")\n",
    "    print('  Error:', e)\n"
   ]
  }
 ],
 "metadata": {},
 "nbformat": 4,
 "nbformat_minor": 5
}
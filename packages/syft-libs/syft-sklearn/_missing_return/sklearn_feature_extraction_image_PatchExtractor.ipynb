{
 "cells": [
  {
   "cell_type": "markdown",
   "id": "latin-watch",
   "metadata": {},
   "source": [
    "## sklearn.feature_extraction.image.PatchExtractor"
   ]
  },
  {
   "cell_type": "code",
   "execution_count": null,
   "id": "sorted-department",
   "metadata": {},
   "outputs": [],
   "source": [
    "import sklearn\n",
    "def class_constructor(*args, **kwargs):\n",
    "    obj = sklearn.feature_extraction.image.PatchExtractor()\n",
    "    return obj\n"
   ]
  },
  {
   "cell_type": "code",
   "execution_count": null,
   "id": "sapphire-chair",
   "metadata": {},
   "outputs": [],
   "source": [
    "# sklearn.feature_extraction.image.PatchExtractor.__getstate__\n",
    "try:\n",
    "    obj = class_constructor() # noqa F821\n",
    "    ret = obj.__getstate__()\n",
    "    type_sklearn_feature_extraction_image_PatchExtractor___getstate__ = getattr(ret, '__module__', 'none') + '.' + ret.__class__.__name__\n",
    "    print('✅ sklearn.feature_extraction.image.PatchExtractor.__getstate__: ', type(ret)) # noqa E501\n",
    "except Exception as e:\n",
    "    type_sklearn_feature_extraction_image_PatchExtractor___getstate__ = '_syft_missing'\n",
    "    print('❌ sklearn.feature_extraction.image.PatchExtractor.__getstate__: Return unavailable') # noqa E501\n",
    "    print(\"  Please fix this return type code until there is no exception\")\n",
    "    print('  Error:', e)\n"
   ]
  },
  {
   "cell_type": "code",
   "execution_count": null,
   "id": "second-chrome",
   "metadata": {},
   "outputs": [],
   "source": [
    "# sklearn.feature_extraction.image.PatchExtractor.__repr__\n",
    "try:\n",
    "    obj = class_constructor() # noqa F821\n",
    "    ret = obj.__repr__()\n",
    "    type_sklearn_feature_extraction_image_PatchExtractor___repr__ = getattr(ret, '__module__', 'none') + '.' + ret.__class__.__name__\n",
    "    print('✅ sklearn.feature_extraction.image.PatchExtractor.__repr__: ', type(ret)) # noqa E501\n",
    "except Exception as e:\n",
    "    type_sklearn_feature_extraction_image_PatchExtractor___repr__ = '_syft_missing'\n",
    "    print('❌ sklearn.feature_extraction.image.PatchExtractor.__repr__: Return unavailable') # noqa E501\n",
    "    print(\"  Please fix this return type code until there is no exception\")\n",
    "    print('  Error:', e)\n"
   ]
  },
  {
   "cell_type": "code",
   "execution_count": null,
   "id": "bound-camcorder",
   "metadata": {},
   "outputs": [],
   "source": [
    "# sklearn.feature_extraction.image.PatchExtractor.__setstate__\n",
    "try:\n",
    "    obj = class_constructor() # noqa F821\n",
    "    ret = obj.__setstate__()\n",
    "    type_sklearn_feature_extraction_image_PatchExtractor___setstate__ = getattr(ret, '__module__', 'none') + '.' + ret.__class__.__name__\n",
    "    print('✅ sklearn.feature_extraction.image.PatchExtractor.__setstate__: ', type(ret)) # noqa E501\n",
    "except Exception as e:\n",
    "    type_sklearn_feature_extraction_image_PatchExtractor___setstate__ = '_syft_missing'\n",
    "    print('❌ sklearn.feature_extraction.image.PatchExtractor.__setstate__: Return unavailable') # noqa E501\n",
    "    print(\"  Please fix this return type code until there is no exception\")\n",
    "    print('  Error:', e)\n"
   ]
  },
  {
   "cell_type": "code",
   "execution_count": null,
   "id": "usual-chassis",
   "metadata": {},
   "outputs": [],
   "source": [
    "# sklearn.feature_extraction.image.PatchExtractor._check_n_features\n",
    "try:\n",
    "    obj = class_constructor() # noqa F821\n",
    "    ret = obj._check_n_features()\n",
    "    type_sklearn_feature_extraction_image_PatchExtractor__check_n_features = getattr(ret, '__module__', 'none') + '.' + ret.__class__.__name__\n",
    "    print('✅ sklearn.feature_extraction.image.PatchExtractor._check_n_features: ', type(ret)) # noqa E501\n",
    "except Exception as e:\n",
    "    type_sklearn_feature_extraction_image_PatchExtractor__check_n_features = '_syft_missing'\n",
    "    print('❌ sklearn.feature_extraction.image.PatchExtractor._check_n_features: Return unavailable') # noqa E501\n",
    "    print(\"  Please fix this return type code until there is no exception\")\n",
    "    print('  Error:', e)\n"
   ]
  },
  {
   "cell_type": "code",
   "execution_count": null,
   "id": "initial-gates",
   "metadata": {},
   "outputs": [],
   "source": [
    "# sklearn.feature_extraction.image.PatchExtractor._get_param_names\n",
    "try:\n",
    "    obj = class_constructor() # noqa F821\n",
    "    ret = obj._get_param_names()\n",
    "    type_sklearn_feature_extraction_image_PatchExtractor__get_param_names = getattr(ret, '__module__', 'none') + '.' + ret.__class__.__name__\n",
    "    print('✅ sklearn.feature_extraction.image.PatchExtractor._get_param_names: ', type(ret)) # noqa E501\n",
    "except Exception as e:\n",
    "    type_sklearn_feature_extraction_image_PatchExtractor__get_param_names = '_syft_missing'\n",
    "    print('❌ sklearn.feature_extraction.image.PatchExtractor._get_param_names: Return unavailable') # noqa E501\n",
    "    print(\"  Please fix this return type code until there is no exception\")\n",
    "    print('  Error:', e)\n"
   ]
  },
  {
   "cell_type": "code",
   "execution_count": null,
   "id": "electric-production",
   "metadata": {},
   "outputs": [],
   "source": [
    "# sklearn.feature_extraction.image.PatchExtractor._get_tags\n",
    "try:\n",
    "    obj = class_constructor() # noqa F821\n",
    "    ret = obj._get_tags()\n",
    "    type_sklearn_feature_extraction_image_PatchExtractor__get_tags = getattr(ret, '__module__', 'none') + '.' + ret.__class__.__name__\n",
    "    print('✅ sklearn.feature_extraction.image.PatchExtractor._get_tags: ', type(ret)) # noqa E501\n",
    "except Exception as e:\n",
    "    type_sklearn_feature_extraction_image_PatchExtractor__get_tags = '_syft_missing'\n",
    "    print('❌ sklearn.feature_extraction.image.PatchExtractor._get_tags: Return unavailable') # noqa E501\n",
    "    print(\"  Please fix this return type code until there is no exception\")\n",
    "    print('  Error:', e)\n"
   ]
  },
  {
   "cell_type": "code",
   "execution_count": null,
   "id": "theoretical-major",
   "metadata": {},
   "outputs": [],
   "source": [
    "# sklearn.feature_extraction.image.PatchExtractor._more_tags\n",
    "try:\n",
    "    obj = class_constructor() # noqa F821\n",
    "    ret = obj._more_tags()\n",
    "    type_sklearn_feature_extraction_image_PatchExtractor__more_tags = getattr(ret, '__module__', 'none') + '.' + ret.__class__.__name__\n",
    "    print('✅ sklearn.feature_extraction.image.PatchExtractor._more_tags: ', type(ret)) # noqa E501\n",
    "except Exception as e:\n",
    "    type_sklearn_feature_extraction_image_PatchExtractor__more_tags = '_syft_missing'\n",
    "    print('❌ sklearn.feature_extraction.image.PatchExtractor._more_tags: Return unavailable') # noqa E501\n",
    "    print(\"  Please fix this return type code until there is no exception\")\n",
    "    print('  Error:', e)\n"
   ]
  },
  {
   "cell_type": "code",
   "execution_count": null,
   "id": "enhanced-washington",
   "metadata": {},
   "outputs": [],
   "source": [
    "# sklearn.feature_extraction.image.PatchExtractor._repr_html_\n",
    "try:\n",
    "    obj = class_constructor()\n",
    "    ret = obj._repr_html_\n",
    "    type_sklearn_feature_extraction_image_PatchExtractor__repr_html_ = getattr(ret, '__module__', 'none') + '.' + ret.__class__.__name__\n",
    "    print('✅ sklearn.feature_extraction.image.PatchExtractor._repr_html_:', type(ret)) # noqa E501\n",
    "except Exception as e:\n",
    "    type_sklearn_feature_extraction_image_PatchExtractor__repr_html_ = '_syft_missing'\n",
    "    print('❌ sklearn.feature_extraction.image.PatchExtractor._repr_html_: Return unavailable') # noqa E501\n",
    "    print(\"  Please fix this return type code until there is no exception\")\n",
    "    print('  Error:', e)\n"
   ]
  },
  {
   "cell_type": "code",
   "execution_count": null,
   "id": "residential-monaco",
   "metadata": {},
   "outputs": [],
   "source": [
    "# sklearn.feature_extraction.image.PatchExtractor._repr_html_inner\n",
    "try:\n",
    "    obj = class_constructor() # noqa F821\n",
    "    ret = obj._repr_html_inner()\n",
    "    type_sklearn_feature_extraction_image_PatchExtractor__repr_html_inner = getattr(ret, '__module__', 'none') + '.' + ret.__class__.__name__\n",
    "    print('✅ sklearn.feature_extraction.image.PatchExtractor._repr_html_inner: ', type(ret)) # noqa E501\n",
    "except Exception as e:\n",
    "    type_sklearn_feature_extraction_image_PatchExtractor__repr_html_inner = '_syft_missing'\n",
    "    print('❌ sklearn.feature_extraction.image.PatchExtractor._repr_html_inner: Return unavailable') # noqa E501\n",
    "    print(\"  Please fix this return type code until there is no exception\")\n",
    "    print('  Error:', e)\n"
   ]
  },
  {
   "cell_type": "code",
   "execution_count": null,
   "id": "elementary-young",
   "metadata": {},
   "outputs": [],
   "source": [
    "# sklearn.feature_extraction.image.PatchExtractor._repr_mimebundle_\n",
    "try:\n",
    "    obj = class_constructor() # noqa F821\n",
    "    ret = obj._repr_mimebundle_()\n",
    "    type_sklearn_feature_extraction_image_PatchExtractor__repr_mimebundle_ = getattr(ret, '__module__', 'none') + '.' + ret.__class__.__name__\n",
    "    print('✅ sklearn.feature_extraction.image.PatchExtractor._repr_mimebundle_: ', type(ret)) # noqa E501\n",
    "except Exception as e:\n",
    "    type_sklearn_feature_extraction_image_PatchExtractor__repr_mimebundle_ = '_syft_missing'\n",
    "    print('❌ sklearn.feature_extraction.image.PatchExtractor._repr_mimebundle_: Return unavailable') # noqa E501\n",
    "    print(\"  Please fix this return type code until there is no exception\")\n",
    "    print('  Error:', e)\n"
   ]
  },
  {
   "cell_type": "code",
   "execution_count": null,
   "id": "missing-default",
   "metadata": {},
   "outputs": [],
   "source": [
    "# sklearn.feature_extraction.image.PatchExtractor._validate_data\n",
    "try:\n",
    "    obj = class_constructor() # noqa F821\n",
    "    ret = obj._validate_data()\n",
    "    type_sklearn_feature_extraction_image_PatchExtractor__validate_data = getattr(ret, '__module__', 'none') + '.' + ret.__class__.__name__\n",
    "    print('✅ sklearn.feature_extraction.image.PatchExtractor._validate_data: ', type(ret)) # noqa E501\n",
    "except Exception as e:\n",
    "    type_sklearn_feature_extraction_image_PatchExtractor__validate_data = '_syft_missing'\n",
    "    print('❌ sklearn.feature_extraction.image.PatchExtractor._validate_data: Return unavailable') # noqa E501\n",
    "    print(\"  Please fix this return type code until there is no exception\")\n",
    "    print('  Error:', e)\n"
   ]
  },
  {
   "cell_type": "code",
   "execution_count": null,
   "id": "special-singer",
   "metadata": {},
   "outputs": [],
   "source": [
    "# sklearn.feature_extraction.image.PatchExtractor.fit\n",
    "try:\n",
    "    obj = class_constructor() # noqa F821\n",
    "    ret = obj.fit()\n",
    "    type_sklearn_feature_extraction_image_PatchExtractor_fit = getattr(ret, '__module__', 'none') + '.' + ret.__class__.__name__\n",
    "    print('✅ sklearn.feature_extraction.image.PatchExtractor.fit: ', type(ret)) # noqa E501\n",
    "except Exception as e:\n",
    "    type_sklearn_feature_extraction_image_PatchExtractor_fit = '_syft_missing'\n",
    "    print('❌ sklearn.feature_extraction.image.PatchExtractor.fit: Return unavailable') # noqa E501\n",
    "    print(\"  Please fix this return type code until there is no exception\")\n",
    "    print('  Error:', e)\n"
   ]
  },
  {
   "cell_type": "code",
   "execution_count": null,
   "id": "upper-compromise",
   "metadata": {},
   "outputs": [],
   "source": [
    "# sklearn.feature_extraction.image.PatchExtractor.get_params\n",
    "try:\n",
    "    obj = class_constructor() # noqa F821\n",
    "    ret = obj.get_params()\n",
    "    type_sklearn_feature_extraction_image_PatchExtractor_get_params = getattr(ret, '__module__', 'none') + '.' + ret.__class__.__name__\n",
    "    print('✅ sklearn.feature_extraction.image.PatchExtractor.get_params: ', type(ret)) # noqa E501\n",
    "except Exception as e:\n",
    "    type_sklearn_feature_extraction_image_PatchExtractor_get_params = '_syft_missing'\n",
    "    print('❌ sklearn.feature_extraction.image.PatchExtractor.get_params: Return unavailable') # noqa E501\n",
    "    print(\"  Please fix this return type code until there is no exception\")\n",
    "    print('  Error:', e)\n"
   ]
  },
  {
   "cell_type": "code",
   "execution_count": null,
   "id": "changing-combat",
   "metadata": {},
   "outputs": [],
   "source": [
    "# sklearn.feature_extraction.image.PatchExtractor.set_params\n",
    "try:\n",
    "    obj = class_constructor() # noqa F821\n",
    "    ret = obj.set_params()\n",
    "    type_sklearn_feature_extraction_image_PatchExtractor_set_params = getattr(ret, '__module__', 'none') + '.' + ret.__class__.__name__\n",
    "    print('✅ sklearn.feature_extraction.image.PatchExtractor.set_params: ', type(ret)) # noqa E501\n",
    "except Exception as e:\n",
    "    type_sklearn_feature_extraction_image_PatchExtractor_set_params = '_syft_missing'\n",
    "    print('❌ sklearn.feature_extraction.image.PatchExtractor.set_params: Return unavailable') # noqa E501\n",
    "    print(\"  Please fix this return type code until there is no exception\")\n",
    "    print('  Error:', e)\n"
   ]
  },
  {
   "cell_type": "code",
   "execution_count": null,
   "id": "legal-cotton",
   "metadata": {},
   "outputs": [],
   "source": [
    "# sklearn.feature_extraction.image.PatchExtractor.transform\n",
    "try:\n",
    "    obj = class_constructor() # noqa F821\n",
    "    ret = obj.transform()\n",
    "    type_sklearn_feature_extraction_image_PatchExtractor_transform = getattr(ret, '__module__', 'none') + '.' + ret.__class__.__name__\n",
    "    print('✅ sklearn.feature_extraction.image.PatchExtractor.transform: ', type(ret)) # noqa E501\n",
    "except Exception as e:\n",
    "    type_sklearn_feature_extraction_image_PatchExtractor_transform = '_syft_missing'\n",
    "    print('❌ sklearn.feature_extraction.image.PatchExtractor.transform: Return unavailable') # noqa E501\n",
    "    print(\"  Please fix this return type code until there is no exception\")\n",
    "    print('  Error:', e)\n"
   ]
  }
 ],
 "metadata": {},
 "nbformat": 4,
 "nbformat_minor": 5
}
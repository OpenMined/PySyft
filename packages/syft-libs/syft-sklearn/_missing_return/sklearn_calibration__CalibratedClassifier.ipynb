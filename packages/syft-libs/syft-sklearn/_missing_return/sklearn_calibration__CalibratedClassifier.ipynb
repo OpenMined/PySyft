{
 "cells": [
  {
   "cell_type": "markdown",
   "id": "pointed-headquarters",
   "metadata": {},
   "source": [
    "## sklearn.calibration._CalibratedClassifier"
   ]
  },
  {
   "cell_type": "code",
   "execution_count": null,
   "id": "professional-finger",
   "metadata": {},
   "outputs": [],
   "source": [
    "# sklearn.calibration._CalibratedClassifier.calibrators_\n",
    "try:\n",
    "    obj = class_constructor()\n",
    "    ret = obj.calibrators_\n",
    "    type_sklearn_calibration__CalibratedClassifier_calibrators_ = getattr(ret, '__module__', 'none') + '.' + ret.__class__.__name__\n",
    "    print('✅ sklearn.calibration._CalibratedClassifier.calibrators_:', type(ret)) # noqa E501\n",
    "except Exception as e:\n",
    "    type_sklearn_calibration__CalibratedClassifier_calibrators_ = '_syft_missing'\n",
    "    print('❌ sklearn.calibration._CalibratedClassifier.calibrators_: Return unavailable') # noqa E501\n",
    "    print(\"  Please fix this return type code until there is no exception\")\n",
    "    print('  Error:', e)\n"
   ]
  },
  {
   "cell_type": "code",
   "execution_count": null,
   "id": "thirty-tongue",
   "metadata": {},
   "outputs": [],
   "source": [
    "# sklearn.calibration._CalibratedClassifier.predict_proba\n",
    "try:\n",
    "    obj = class_constructor() # noqa F821\n",
    "    ret = obj.predict_proba()\n",
    "    type_sklearn_calibration__CalibratedClassifier_predict_proba = getattr(ret, '__module__', 'none') + '.' + ret.__class__.__name__\n",
    "    print('✅ sklearn.calibration._CalibratedClassifier.predict_proba: ', type(ret)) # noqa E501\n",
    "except Exception as e:\n",
    "    type_sklearn_calibration__CalibratedClassifier_predict_proba = '_syft_missing'\n",
    "    print('❌ sklearn.calibration._CalibratedClassifier.predict_proba: Return unavailable') # noqa E501\n",
    "    print(\"  Please fix this return type code until there is no exception\")\n",
    "    print('  Error:', e)\n"
   ]
  }
 ],
 "metadata": {},
 "nbformat": 4,
 "nbformat_minor": 5
}
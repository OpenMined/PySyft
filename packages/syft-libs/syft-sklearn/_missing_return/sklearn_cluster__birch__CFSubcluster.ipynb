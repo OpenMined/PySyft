{
 "cells": [
  {
   "cell_type": "markdown",
   "id": "balanced-tennessee",
   "metadata": {},
   "source": [
    "## sklearn.cluster._birch._CFSubcluster"
   ]
  },
  {
   "cell_type": "code",
   "execution_count": null,
   "id": "wicked-investigator",
   "metadata": {},
   "outputs": [],
   "source": [
    "import sklearn\n",
    "def class_constructor(*args, **kwargs):\n",
    "    obj = sklearn.cluster._birch._CFSubcluster()\n",
    "    return obj\n"
   ]
  },
  {
   "cell_type": "code",
   "execution_count": null,
   "id": "charitable-ethics",
   "metadata": {},
   "outputs": [],
   "source": [
    "# sklearn.cluster._birch._CFSubcluster.merge_subcluster\n",
    "try:\n",
    "    obj = class_constructor() # noqa F821\n",
    "    ret = obj.merge_subcluster()\n",
    "    type_sklearn_cluster__birch__CFSubcluster_merge_subcluster = getattr(ret, '__module__', 'none') + '.' + ret.__class__.__name__\n",
    "    print('✅ sklearn.cluster._birch._CFSubcluster.merge_subcluster: ', type(ret)) # noqa E501\n",
    "except Exception as e:\n",
    "    type_sklearn_cluster__birch__CFSubcluster_merge_subcluster = '_syft_missing'\n",
    "    print('❌ sklearn.cluster._birch._CFSubcluster.merge_subcluster: Return unavailable') # noqa E501\n",
    "    print(\"  Please fix this return type code until there is no exception\")\n",
    "    print('  Error:', e)\n"
   ]
  },
  {
   "cell_type": "code",
   "execution_count": null,
   "id": "collective-nomination",
   "metadata": {},
   "outputs": [],
   "source": [
    "# sklearn.cluster._birch._CFSubcluster.radius\n",
    "try:\n",
    "    obj = class_constructor()\n",
    "    ret = obj.radius\n",
    "    type_sklearn_cluster__birch__CFSubcluster_radius = getattr(ret, '__module__', 'none') + '.' + ret.__class__.__name__\n",
    "    print('✅ sklearn.cluster._birch._CFSubcluster.radius:', type(ret)) # noqa E501\n",
    "except Exception as e:\n",
    "    type_sklearn_cluster__birch__CFSubcluster_radius = '_syft_missing'\n",
    "    print('❌ sklearn.cluster._birch._CFSubcluster.radius: Return unavailable') # noqa E501\n",
    "    print(\"  Please fix this return type code until there is no exception\")\n",
    "    print('  Error:', e)\n"
   ]
  },
  {
   "cell_type": "code",
   "execution_count": null,
   "id": "buried-bidding",
   "metadata": {},
   "outputs": [],
   "source": [
    "# sklearn.cluster._birch._CFSubcluster.update\n",
    "try:\n",
    "    obj = class_constructor() # noqa F821\n",
    "    ret = obj.update()\n",
    "    type_sklearn_cluster__birch__CFSubcluster_update = getattr(ret, '__module__', 'none') + '.' + ret.__class__.__name__\n",
    "    print('✅ sklearn.cluster._birch._CFSubcluster.update: ', type(ret)) # noqa E501\n",
    "except Exception as e:\n",
    "    type_sklearn_cluster__birch__CFSubcluster_update = '_syft_missing'\n",
    "    print('❌ sklearn.cluster._birch._CFSubcluster.update: Return unavailable') # noqa E501\n",
    "    print(\"  Please fix this return type code until there is no exception\")\n",
    "    print('  Error:', e)\n"
   ]
  }
 ],
 "metadata": {},
 "nbformat": 4,
 "nbformat_minor": 5
}
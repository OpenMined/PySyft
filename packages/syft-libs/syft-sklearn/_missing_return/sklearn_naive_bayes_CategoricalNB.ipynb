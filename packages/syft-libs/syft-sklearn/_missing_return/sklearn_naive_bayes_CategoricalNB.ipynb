{
 "cells": [
  {
   "cell_type": "markdown",
   "id": "liable-humanitarian",
   "metadata": {},
   "source": [
    "## sklearn.naive_bayes.CategoricalNB"
   ]
  },
  {
   "cell_type": "code",
   "execution_count": null,
   "id": "optimum-humor",
   "metadata": {},
   "outputs": [],
   "source": [
    "import sklearn\n",
    "def class_constructor(*args, **kwargs):\n",
    "    obj = sklearn.naive_bayes.CategoricalNB()\n",
    "    return obj\n"
   ]
  },
  {
   "cell_type": "code",
   "execution_count": null,
   "id": "sharp-efficiency",
   "metadata": {},
   "outputs": [],
   "source": [
    "# sklearn.naive_bayes.CategoricalNB.__getstate__\n",
    "try:\n",
    "    obj = class_constructor() # noqa F821\n",
    "    ret = obj.__getstate__()\n",
    "    type_sklearn_naive_bayes_CategoricalNB___getstate__ = getattr(ret, '__module__', 'none') + '.' + ret.__class__.__name__\n",
    "    print('✅ sklearn.naive_bayes.CategoricalNB.__getstate__: ', type(ret)) # noqa E501\n",
    "except Exception as e:\n",
    "    type_sklearn_naive_bayes_CategoricalNB___getstate__ = '_syft_missing'\n",
    "    print('❌ sklearn.naive_bayes.CategoricalNB.__getstate__: Return unavailable') # noqa E501\n",
    "    print(\"  Please fix this return type code until there is no exception\")\n",
    "    print('  Error:', e)\n"
   ]
  },
  {
   "cell_type": "code",
   "execution_count": null,
   "id": "danish-moisture",
   "metadata": {},
   "outputs": [],
   "source": [
    "# sklearn.naive_bayes.CategoricalNB.__repr__\n",
    "try:\n",
    "    obj = class_constructor() # noqa F821\n",
    "    ret = obj.__repr__()\n",
    "    type_sklearn_naive_bayes_CategoricalNB___repr__ = getattr(ret, '__module__', 'none') + '.' + ret.__class__.__name__\n",
    "    print('✅ sklearn.naive_bayes.CategoricalNB.__repr__: ', type(ret)) # noqa E501\n",
    "except Exception as e:\n",
    "    type_sklearn_naive_bayes_CategoricalNB___repr__ = '_syft_missing'\n",
    "    print('❌ sklearn.naive_bayes.CategoricalNB.__repr__: Return unavailable') # noqa E501\n",
    "    print(\"  Please fix this return type code until there is no exception\")\n",
    "    print('  Error:', e)\n"
   ]
  },
  {
   "cell_type": "code",
   "execution_count": null,
   "id": "suburban-grave",
   "metadata": {},
   "outputs": [],
   "source": [
    "# sklearn.naive_bayes.CategoricalNB.__setstate__\n",
    "try:\n",
    "    obj = class_constructor() # noqa F821\n",
    "    ret = obj.__setstate__()\n",
    "    type_sklearn_naive_bayes_CategoricalNB___setstate__ = getattr(ret, '__module__', 'none') + '.' + ret.__class__.__name__\n",
    "    print('✅ sklearn.naive_bayes.CategoricalNB.__setstate__: ', type(ret)) # noqa E501\n",
    "except Exception as e:\n",
    "    type_sklearn_naive_bayes_CategoricalNB___setstate__ = '_syft_missing'\n",
    "    print('❌ sklearn.naive_bayes.CategoricalNB.__setstate__: Return unavailable') # noqa E501\n",
    "    print(\"  Please fix this return type code until there is no exception\")\n",
    "    print('  Error:', e)\n"
   ]
  },
  {
   "cell_type": "code",
   "execution_count": null,
   "id": "existing-welcome",
   "metadata": {},
   "outputs": [],
   "source": [
    "# sklearn.naive_bayes.CategoricalNB._check_X\n",
    "try:\n",
    "    obj = class_constructor() # noqa F821\n",
    "    ret = obj._check_X()\n",
    "    type_sklearn_naive_bayes_CategoricalNB__check_X = getattr(ret, '__module__', 'none') + '.' + ret.__class__.__name__\n",
    "    print('✅ sklearn.naive_bayes.CategoricalNB._check_X: ', type(ret)) # noqa E501\n",
    "except Exception as e:\n",
    "    type_sklearn_naive_bayes_CategoricalNB__check_X = '_syft_missing'\n",
    "    print('❌ sklearn.naive_bayes.CategoricalNB._check_X: Return unavailable') # noqa E501\n",
    "    print(\"  Please fix this return type code until there is no exception\")\n",
    "    print('  Error:', e)\n"
   ]
  },
  {
   "cell_type": "code",
   "execution_count": null,
   "id": "devoted-establishment",
   "metadata": {},
   "outputs": [],
   "source": [
    "# sklearn.naive_bayes.CategoricalNB._check_X_y\n",
    "try:\n",
    "    obj = class_constructor() # noqa F821\n",
    "    ret = obj._check_X_y()\n",
    "    type_sklearn_naive_bayes_CategoricalNB__check_X_y = getattr(ret, '__module__', 'none') + '.' + ret.__class__.__name__\n",
    "    print('✅ sklearn.naive_bayes.CategoricalNB._check_X_y: ', type(ret)) # noqa E501\n",
    "except Exception as e:\n",
    "    type_sklearn_naive_bayes_CategoricalNB__check_X_y = '_syft_missing'\n",
    "    print('❌ sklearn.naive_bayes.CategoricalNB._check_X_y: Return unavailable') # noqa E501\n",
    "    print(\"  Please fix this return type code until there is no exception\")\n",
    "    print('  Error:', e)\n"
   ]
  },
  {
   "cell_type": "code",
   "execution_count": null,
   "id": "physical-century",
   "metadata": {},
   "outputs": [],
   "source": [
    "# sklearn.naive_bayes.CategoricalNB._check_alpha\n",
    "try:\n",
    "    obj = class_constructor() # noqa F821\n",
    "    ret = obj._check_alpha()\n",
    "    type_sklearn_naive_bayes_CategoricalNB__check_alpha = getattr(ret, '__module__', 'none') + '.' + ret.__class__.__name__\n",
    "    print('✅ sklearn.naive_bayes.CategoricalNB._check_alpha: ', type(ret)) # noqa E501\n",
    "except Exception as e:\n",
    "    type_sklearn_naive_bayes_CategoricalNB__check_alpha = '_syft_missing'\n",
    "    print('❌ sklearn.naive_bayes.CategoricalNB._check_alpha: Return unavailable') # noqa E501\n",
    "    print(\"  Please fix this return type code until there is no exception\")\n",
    "    print('  Error:', e)\n"
   ]
  },
  {
   "cell_type": "code",
   "execution_count": null,
   "id": "engaged-services",
   "metadata": {},
   "outputs": [],
   "source": [
    "# sklearn.naive_bayes.CategoricalNB._check_n_features\n",
    "try:\n",
    "    obj = class_constructor() # noqa F821\n",
    "    ret = obj._check_n_features()\n",
    "    type_sklearn_naive_bayes_CategoricalNB__check_n_features = getattr(ret, '__module__', 'none') + '.' + ret.__class__.__name__\n",
    "    print('✅ sklearn.naive_bayes.CategoricalNB._check_n_features: ', type(ret)) # noqa E501\n",
    "except Exception as e:\n",
    "    type_sklearn_naive_bayes_CategoricalNB__check_n_features = '_syft_missing'\n",
    "    print('❌ sklearn.naive_bayes.CategoricalNB._check_n_features: Return unavailable') # noqa E501\n",
    "    print(\"  Please fix this return type code until there is no exception\")\n",
    "    print('  Error:', e)\n"
   ]
  },
  {
   "cell_type": "code",
   "execution_count": null,
   "id": "plastic-disability",
   "metadata": {},
   "outputs": [],
   "source": [
    "# sklearn.naive_bayes.CategoricalNB._count\n",
    "try:\n",
    "    obj = class_constructor() # noqa F821\n",
    "    ret = obj._count()\n",
    "    type_sklearn_naive_bayes_CategoricalNB__count = getattr(ret, '__module__', 'none') + '.' + ret.__class__.__name__\n",
    "    print('✅ sklearn.naive_bayes.CategoricalNB._count: ', type(ret)) # noqa E501\n",
    "except Exception as e:\n",
    "    type_sklearn_naive_bayes_CategoricalNB__count = '_syft_missing'\n",
    "    print('❌ sklearn.naive_bayes.CategoricalNB._count: Return unavailable') # noqa E501\n",
    "    print(\"  Please fix this return type code until there is no exception\")\n",
    "    print('  Error:', e)\n"
   ]
  },
  {
   "cell_type": "code",
   "execution_count": null,
   "id": "elder-links",
   "metadata": {},
   "outputs": [],
   "source": [
    "# sklearn.naive_bayes.CategoricalNB._get_param_names\n",
    "try:\n",
    "    obj = class_constructor() # noqa F821\n",
    "    ret = obj._get_param_names()\n",
    "    type_sklearn_naive_bayes_CategoricalNB__get_param_names = getattr(ret, '__module__', 'none') + '.' + ret.__class__.__name__\n",
    "    print('✅ sklearn.naive_bayes.CategoricalNB._get_param_names: ', type(ret)) # noqa E501\n",
    "except Exception as e:\n",
    "    type_sklearn_naive_bayes_CategoricalNB__get_param_names = '_syft_missing'\n",
    "    print('❌ sklearn.naive_bayes.CategoricalNB._get_param_names: Return unavailable') # noqa E501\n",
    "    print(\"  Please fix this return type code until there is no exception\")\n",
    "    print('  Error:', e)\n"
   ]
  },
  {
   "cell_type": "code",
   "execution_count": null,
   "id": "quantitative-blackjack",
   "metadata": {},
   "outputs": [],
   "source": [
    "# sklearn.naive_bayes.CategoricalNB._get_tags\n",
    "try:\n",
    "    obj = class_constructor() # noqa F821\n",
    "    ret = obj._get_tags()\n",
    "    type_sklearn_naive_bayes_CategoricalNB__get_tags = getattr(ret, '__module__', 'none') + '.' + ret.__class__.__name__\n",
    "    print('✅ sklearn.naive_bayes.CategoricalNB._get_tags: ', type(ret)) # noqa E501\n",
    "except Exception as e:\n",
    "    type_sklearn_naive_bayes_CategoricalNB__get_tags = '_syft_missing'\n",
    "    print('❌ sklearn.naive_bayes.CategoricalNB._get_tags: Return unavailable') # noqa E501\n",
    "    print(\"  Please fix this return type code until there is no exception\")\n",
    "    print('  Error:', e)\n"
   ]
  },
  {
   "cell_type": "code",
   "execution_count": null,
   "id": "above-sunset",
   "metadata": {},
   "outputs": [],
   "source": [
    "# sklearn.naive_bayes.CategoricalNB._init_counters\n",
    "try:\n",
    "    obj = class_constructor() # noqa F821\n",
    "    ret = obj._init_counters()\n",
    "    type_sklearn_naive_bayes_CategoricalNB__init_counters = getattr(ret, '__module__', 'none') + '.' + ret.__class__.__name__\n",
    "    print('✅ sklearn.naive_bayes.CategoricalNB._init_counters: ', type(ret)) # noqa E501\n",
    "except Exception as e:\n",
    "    type_sklearn_naive_bayes_CategoricalNB__init_counters = '_syft_missing'\n",
    "    print('❌ sklearn.naive_bayes.CategoricalNB._init_counters: Return unavailable') # noqa E501\n",
    "    print(\"  Please fix this return type code until there is no exception\")\n",
    "    print('  Error:', e)\n"
   ]
  },
  {
   "cell_type": "code",
   "execution_count": null,
   "id": "agricultural-acting",
   "metadata": {},
   "outputs": [],
   "source": [
    "# sklearn.naive_bayes.CategoricalNB._joint_log_likelihood\n",
    "try:\n",
    "    obj = class_constructor() # noqa F821\n",
    "    ret = obj._joint_log_likelihood()\n",
    "    type_sklearn_naive_bayes_CategoricalNB__joint_log_likelihood = getattr(ret, '__module__', 'none') + '.' + ret.__class__.__name__\n",
    "    print('✅ sklearn.naive_bayes.CategoricalNB._joint_log_likelihood: ', type(ret)) # noqa E501\n",
    "except Exception as e:\n",
    "    type_sklearn_naive_bayes_CategoricalNB__joint_log_likelihood = '_syft_missing'\n",
    "    print('❌ sklearn.naive_bayes.CategoricalNB._joint_log_likelihood: Return unavailable') # noqa E501\n",
    "    print(\"  Please fix this return type code until there is no exception\")\n",
    "    print('  Error:', e)\n"
   ]
  },
  {
   "cell_type": "code",
   "execution_count": null,
   "id": "secondary-climate",
   "metadata": {},
   "outputs": [],
   "source": [
    "# sklearn.naive_bayes.CategoricalNB._more_tags\n",
    "try:\n",
    "    obj = class_constructor() # noqa F821\n",
    "    ret = obj._more_tags()\n",
    "    type_sklearn_naive_bayes_CategoricalNB__more_tags = getattr(ret, '__module__', 'none') + '.' + ret.__class__.__name__\n",
    "    print('✅ sklearn.naive_bayes.CategoricalNB._more_tags: ', type(ret)) # noqa E501\n",
    "except Exception as e:\n",
    "    type_sklearn_naive_bayes_CategoricalNB__more_tags = '_syft_missing'\n",
    "    print('❌ sklearn.naive_bayes.CategoricalNB._more_tags: Return unavailable') # noqa E501\n",
    "    print(\"  Please fix this return type code until there is no exception\")\n",
    "    print('  Error:', e)\n"
   ]
  },
  {
   "cell_type": "code",
   "execution_count": null,
   "id": "quiet-tanzania",
   "metadata": {},
   "outputs": [],
   "source": [
    "# sklearn.naive_bayes.CategoricalNB._repr_html_\n",
    "try:\n",
    "    obj = class_constructor()\n",
    "    ret = obj._repr_html_\n",
    "    type_sklearn_naive_bayes_CategoricalNB__repr_html_ = getattr(ret, '__module__', 'none') + '.' + ret.__class__.__name__\n",
    "    print('✅ sklearn.naive_bayes.CategoricalNB._repr_html_:', type(ret)) # noqa E501\n",
    "except Exception as e:\n",
    "    type_sklearn_naive_bayes_CategoricalNB__repr_html_ = '_syft_missing'\n",
    "    print('❌ sklearn.naive_bayes.CategoricalNB._repr_html_: Return unavailable') # noqa E501\n",
    "    print(\"  Please fix this return type code until there is no exception\")\n",
    "    print('  Error:', e)\n"
   ]
  },
  {
   "cell_type": "code",
   "execution_count": null,
   "id": "artistic-screen",
   "metadata": {},
   "outputs": [],
   "source": [
    "# sklearn.naive_bayes.CategoricalNB._repr_html_inner\n",
    "try:\n",
    "    obj = class_constructor() # noqa F821\n",
    "    ret = obj._repr_html_inner()\n",
    "    type_sklearn_naive_bayes_CategoricalNB__repr_html_inner = getattr(ret, '__module__', 'none') + '.' + ret.__class__.__name__\n",
    "    print('✅ sklearn.naive_bayes.CategoricalNB._repr_html_inner: ', type(ret)) # noqa E501\n",
    "except Exception as e:\n",
    "    type_sklearn_naive_bayes_CategoricalNB__repr_html_inner = '_syft_missing'\n",
    "    print('❌ sklearn.naive_bayes.CategoricalNB._repr_html_inner: Return unavailable') # noqa E501\n",
    "    print(\"  Please fix this return type code until there is no exception\")\n",
    "    print('  Error:', e)\n"
   ]
  },
  {
   "cell_type": "code",
   "execution_count": null,
   "id": "disciplinary-antarctica",
   "metadata": {},
   "outputs": [],
   "source": [
    "# sklearn.naive_bayes.CategoricalNB._repr_mimebundle_\n",
    "try:\n",
    "    obj = class_constructor() # noqa F821\n",
    "    ret = obj._repr_mimebundle_()\n",
    "    type_sklearn_naive_bayes_CategoricalNB__repr_mimebundle_ = getattr(ret, '__module__', 'none') + '.' + ret.__class__.__name__\n",
    "    print('✅ sklearn.naive_bayes.CategoricalNB._repr_mimebundle_: ', type(ret)) # noqa E501\n",
    "except Exception as e:\n",
    "    type_sklearn_naive_bayes_CategoricalNB__repr_mimebundle_ = '_syft_missing'\n",
    "    print('❌ sklearn.naive_bayes.CategoricalNB._repr_mimebundle_: Return unavailable') # noqa E501\n",
    "    print(\"  Please fix this return type code until there is no exception\")\n",
    "    print('  Error:', e)\n"
   ]
  },
  {
   "cell_type": "code",
   "execution_count": null,
   "id": "matched-accessory",
   "metadata": {},
   "outputs": [],
   "source": [
    "# sklearn.naive_bayes.CategoricalNB._update_class_log_prior\n",
    "try:\n",
    "    obj = class_constructor() # noqa F821\n",
    "    ret = obj._update_class_log_prior()\n",
    "    type_sklearn_naive_bayes_CategoricalNB__update_class_log_prior = getattr(ret, '__module__', 'none') + '.' + ret.__class__.__name__\n",
    "    print('✅ sklearn.naive_bayes.CategoricalNB._update_class_log_prior: ', type(ret)) # noqa E501\n",
    "except Exception as e:\n",
    "    type_sklearn_naive_bayes_CategoricalNB__update_class_log_prior = '_syft_missing'\n",
    "    print('❌ sklearn.naive_bayes.CategoricalNB._update_class_log_prior: Return unavailable') # noqa E501\n",
    "    print(\"  Please fix this return type code until there is no exception\")\n",
    "    print('  Error:', e)\n"
   ]
  },
  {
   "cell_type": "code",
   "execution_count": null,
   "id": "varied-drinking",
   "metadata": {},
   "outputs": [],
   "source": [
    "# sklearn.naive_bayes.CategoricalNB._update_feature_log_prob\n",
    "try:\n",
    "    obj = class_constructor() # noqa F821\n",
    "    ret = obj._update_feature_log_prob()\n",
    "    type_sklearn_naive_bayes_CategoricalNB__update_feature_log_prob = getattr(ret, '__module__', 'none') + '.' + ret.__class__.__name__\n",
    "    print('✅ sklearn.naive_bayes.CategoricalNB._update_feature_log_prob: ', type(ret)) # noqa E501\n",
    "except Exception as e:\n",
    "    type_sklearn_naive_bayes_CategoricalNB__update_feature_log_prob = '_syft_missing'\n",
    "    print('❌ sklearn.naive_bayes.CategoricalNB._update_feature_log_prob: Return unavailable') # noqa E501\n",
    "    print(\"  Please fix this return type code until there is no exception\")\n",
    "    print('  Error:', e)\n"
   ]
  },
  {
   "cell_type": "code",
   "execution_count": null,
   "id": "modern-sight",
   "metadata": {},
   "outputs": [],
   "source": [
    "# sklearn.naive_bayes.CategoricalNB._validate_data\n",
    "try:\n",
    "    obj = class_constructor() # noqa F821\n",
    "    ret = obj._validate_data()\n",
    "    type_sklearn_naive_bayes_CategoricalNB__validate_data = getattr(ret, '__module__', 'none') + '.' + ret.__class__.__name__\n",
    "    print('✅ sklearn.naive_bayes.CategoricalNB._validate_data: ', type(ret)) # noqa E501\n",
    "except Exception as e:\n",
    "    type_sklearn_naive_bayes_CategoricalNB__validate_data = '_syft_missing'\n",
    "    print('❌ sklearn.naive_bayes.CategoricalNB._validate_data: Return unavailable') # noqa E501\n",
    "    print(\"  Please fix this return type code until there is no exception\")\n",
    "    print('  Error:', e)\n"
   ]
  },
  {
   "cell_type": "code",
   "execution_count": null,
   "id": "religious-drove",
   "metadata": {},
   "outputs": [],
   "source": [
    "# sklearn.naive_bayes.CategoricalNB._validate_n_categories\n",
    "try:\n",
    "    obj = class_constructor() # noqa F821\n",
    "    ret = obj._validate_n_categories()\n",
    "    type_sklearn_naive_bayes_CategoricalNB__validate_n_categories = getattr(ret, '__module__', 'none') + '.' + ret.__class__.__name__\n",
    "    print('✅ sklearn.naive_bayes.CategoricalNB._validate_n_categories: ', type(ret)) # noqa E501\n",
    "except Exception as e:\n",
    "    type_sklearn_naive_bayes_CategoricalNB__validate_n_categories = '_syft_missing'\n",
    "    print('❌ sklearn.naive_bayes.CategoricalNB._validate_n_categories: Return unavailable') # noqa E501\n",
    "    print(\"  Please fix this return type code until there is no exception\")\n",
    "    print('  Error:', e)\n"
   ]
  },
  {
   "cell_type": "code",
   "execution_count": null,
   "id": "cubic-wright",
   "metadata": {},
   "outputs": [],
   "source": [
    "# sklearn.naive_bayes.CategoricalNB.coef_\n",
    "try:\n",
    "    obj = class_constructor()\n",
    "    ret = obj.coef_\n",
    "    type_sklearn_naive_bayes_CategoricalNB_coef_ = getattr(ret, '__module__', 'none') + '.' + ret.__class__.__name__\n",
    "    print('✅ sklearn.naive_bayes.CategoricalNB.coef_:', type(ret)) # noqa E501\n",
    "except Exception as e:\n",
    "    type_sklearn_naive_bayes_CategoricalNB_coef_ = '_syft_missing'\n",
    "    print('❌ sklearn.naive_bayes.CategoricalNB.coef_: Return unavailable') # noqa E501\n",
    "    print(\"  Please fix this return type code until there is no exception\")\n",
    "    print('  Error:', e)\n"
   ]
  },
  {
   "cell_type": "code",
   "execution_count": null,
   "id": "hourly-explosion",
   "metadata": {},
   "outputs": [],
   "source": [
    "# sklearn.naive_bayes.CategoricalNB.fit\n",
    "try:\n",
    "    obj = class_constructor() # noqa F821\n",
    "    ret = obj.fit()\n",
    "    type_sklearn_naive_bayes_CategoricalNB_fit = getattr(ret, '__module__', 'none') + '.' + ret.__class__.__name__\n",
    "    print('✅ sklearn.naive_bayes.CategoricalNB.fit: ', type(ret)) # noqa E501\n",
    "except Exception as e:\n",
    "    type_sklearn_naive_bayes_CategoricalNB_fit = '_syft_missing'\n",
    "    print('❌ sklearn.naive_bayes.CategoricalNB.fit: Return unavailable') # noqa E501\n",
    "    print(\"  Please fix this return type code until there is no exception\")\n",
    "    print('  Error:', e)\n"
   ]
  },
  {
   "cell_type": "code",
   "execution_count": null,
   "id": "dirty-preference",
   "metadata": {},
   "outputs": [],
   "source": [
    "# sklearn.naive_bayes.CategoricalNB.get_params\n",
    "try:\n",
    "    obj = class_constructor() # noqa F821\n",
    "    ret = obj.get_params()\n",
    "    type_sklearn_naive_bayes_CategoricalNB_get_params = getattr(ret, '__module__', 'none') + '.' + ret.__class__.__name__\n",
    "    print('✅ sklearn.naive_bayes.CategoricalNB.get_params: ', type(ret)) # noqa E501\n",
    "except Exception as e:\n",
    "    type_sklearn_naive_bayes_CategoricalNB_get_params = '_syft_missing'\n",
    "    print('❌ sklearn.naive_bayes.CategoricalNB.get_params: Return unavailable') # noqa E501\n",
    "    print(\"  Please fix this return type code until there is no exception\")\n",
    "    print('  Error:', e)\n"
   ]
  },
  {
   "cell_type": "code",
   "execution_count": null,
   "id": "unavailable-motorcycle",
   "metadata": {},
   "outputs": [],
   "source": [
    "# sklearn.naive_bayes.CategoricalNB.intercept_\n",
    "try:\n",
    "    obj = class_constructor()\n",
    "    ret = obj.intercept_\n",
    "    type_sklearn_naive_bayes_CategoricalNB_intercept_ = getattr(ret, '__module__', 'none') + '.' + ret.__class__.__name__\n",
    "    print('✅ sklearn.naive_bayes.CategoricalNB.intercept_:', type(ret)) # noqa E501\n",
    "except Exception as e:\n",
    "    type_sklearn_naive_bayes_CategoricalNB_intercept_ = '_syft_missing'\n",
    "    print('❌ sklearn.naive_bayes.CategoricalNB.intercept_: Return unavailable') # noqa E501\n",
    "    print(\"  Please fix this return type code until there is no exception\")\n",
    "    print('  Error:', e)\n"
   ]
  },
  {
   "cell_type": "code",
   "execution_count": null,
   "id": "crucial-operator",
   "metadata": {},
   "outputs": [],
   "source": [
    "# sklearn.naive_bayes.CategoricalNB.partial_fit\n",
    "try:\n",
    "    obj = class_constructor() # noqa F821\n",
    "    ret = obj.partial_fit()\n",
    "    type_sklearn_naive_bayes_CategoricalNB_partial_fit = getattr(ret, '__module__', 'none') + '.' + ret.__class__.__name__\n",
    "    print('✅ sklearn.naive_bayes.CategoricalNB.partial_fit: ', type(ret)) # noqa E501\n",
    "except Exception as e:\n",
    "    type_sklearn_naive_bayes_CategoricalNB_partial_fit = '_syft_missing'\n",
    "    print('❌ sklearn.naive_bayes.CategoricalNB.partial_fit: Return unavailable') # noqa E501\n",
    "    print(\"  Please fix this return type code until there is no exception\")\n",
    "    print('  Error:', e)\n"
   ]
  },
  {
   "cell_type": "code",
   "execution_count": null,
   "id": "formal-cursor",
   "metadata": {},
   "outputs": [],
   "source": [
    "# sklearn.naive_bayes.CategoricalNB.predict\n",
    "try:\n",
    "    obj = class_constructor() # noqa F821\n",
    "    ret = obj.predict()\n",
    "    type_sklearn_naive_bayes_CategoricalNB_predict = getattr(ret, '__module__', 'none') + '.' + ret.__class__.__name__\n",
    "    print('✅ sklearn.naive_bayes.CategoricalNB.predict: ', type(ret)) # noqa E501\n",
    "except Exception as e:\n",
    "    type_sklearn_naive_bayes_CategoricalNB_predict = '_syft_missing'\n",
    "    print('❌ sklearn.naive_bayes.CategoricalNB.predict: Return unavailable') # noqa E501\n",
    "    print(\"  Please fix this return type code until there is no exception\")\n",
    "    print('  Error:', e)\n"
   ]
  },
  {
   "cell_type": "code",
   "execution_count": null,
   "id": "improved-relative",
   "metadata": {},
   "outputs": [],
   "source": [
    "# sklearn.naive_bayes.CategoricalNB.predict_log_proba\n",
    "try:\n",
    "    obj = class_constructor() # noqa F821\n",
    "    ret = obj.predict_log_proba()\n",
    "    type_sklearn_naive_bayes_CategoricalNB_predict_log_proba = getattr(ret, '__module__', 'none') + '.' + ret.__class__.__name__\n",
    "    print('✅ sklearn.naive_bayes.CategoricalNB.predict_log_proba: ', type(ret)) # noqa E501\n",
    "except Exception as e:\n",
    "    type_sklearn_naive_bayes_CategoricalNB_predict_log_proba = '_syft_missing'\n",
    "    print('❌ sklearn.naive_bayes.CategoricalNB.predict_log_proba: Return unavailable') # noqa E501\n",
    "    print(\"  Please fix this return type code until there is no exception\")\n",
    "    print('  Error:', e)\n"
   ]
  },
  {
   "cell_type": "code",
   "execution_count": null,
   "id": "federal-plane",
   "metadata": {},
   "outputs": [],
   "source": [
    "# sklearn.naive_bayes.CategoricalNB.predict_proba\n",
    "try:\n",
    "    obj = class_constructor() # noqa F821\n",
    "    ret = obj.predict_proba()\n",
    "    type_sklearn_naive_bayes_CategoricalNB_predict_proba = getattr(ret, '__module__', 'none') + '.' + ret.__class__.__name__\n",
    "    print('✅ sklearn.naive_bayes.CategoricalNB.predict_proba: ', type(ret)) # noqa E501\n",
    "except Exception as e:\n",
    "    type_sklearn_naive_bayes_CategoricalNB_predict_proba = '_syft_missing'\n",
    "    print('❌ sklearn.naive_bayes.CategoricalNB.predict_proba: Return unavailable') # noqa E501\n",
    "    print(\"  Please fix this return type code until there is no exception\")\n",
    "    print('  Error:', e)\n"
   ]
  },
  {
   "cell_type": "code",
   "execution_count": null,
   "id": "historical-customer",
   "metadata": {},
   "outputs": [],
   "source": [
    "# sklearn.naive_bayes.CategoricalNB.score\n",
    "try:\n",
    "    obj = class_constructor() # noqa F821\n",
    "    ret = obj.score()\n",
    "    type_sklearn_naive_bayes_CategoricalNB_score = getattr(ret, '__module__', 'none') + '.' + ret.__class__.__name__\n",
    "    print('✅ sklearn.naive_bayes.CategoricalNB.score: ', type(ret)) # noqa E501\n",
    "except Exception as e:\n",
    "    type_sklearn_naive_bayes_CategoricalNB_score = '_syft_missing'\n",
    "    print('❌ sklearn.naive_bayes.CategoricalNB.score: Return unavailable') # noqa E501\n",
    "    print(\"  Please fix this return type code until there is no exception\")\n",
    "    print('  Error:', e)\n"
   ]
  },
  {
   "cell_type": "code",
   "execution_count": null,
   "id": "remarkable-julian",
   "metadata": {},
   "outputs": [],
   "source": [
    "# sklearn.naive_bayes.CategoricalNB.set_params\n",
    "try:\n",
    "    obj = class_constructor() # noqa F821\n",
    "    ret = obj.set_params()\n",
    "    type_sklearn_naive_bayes_CategoricalNB_set_params = getattr(ret, '__module__', 'none') + '.' + ret.__class__.__name__\n",
    "    print('✅ sklearn.naive_bayes.CategoricalNB.set_params: ', type(ret)) # noqa E501\n",
    "except Exception as e:\n",
    "    type_sklearn_naive_bayes_CategoricalNB_set_params = '_syft_missing'\n",
    "    print('❌ sklearn.naive_bayes.CategoricalNB.set_params: Return unavailable') # noqa E501\n",
    "    print(\"  Please fix this return type code until there is no exception\")\n",
    "    print('  Error:', e)\n"
   ]
  }
 ],
 "metadata": {},
 "nbformat": 4,
 "nbformat_minor": 5
}
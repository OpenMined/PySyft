{
 "cells": [
  {
   "cell_type": "markdown",
   "id": "coral-tuning",
   "metadata": {},
   "source": [
    "## sklearn.metrics._scorer._ProbaScorer"
   ]
  },
  {
   "cell_type": "code",
   "execution_count": null,
   "id": "national-martial",
   "metadata": {},
   "outputs": [],
   "source": [
    "import sklearn\n",
    "def class_constructor(*args, **kwargs):\n",
    "    obj = sklearn.metrics._scorer._ProbaScorer()\n",
    "    return obj\n"
   ]
  },
  {
   "cell_type": "code",
   "execution_count": null,
   "id": "active-break",
   "metadata": {},
   "outputs": [],
   "source": [
    "# sklearn.metrics._scorer._ProbaScorer.__call__\n",
    "try:\n",
    "    obj = class_constructor() # noqa F821\n",
    "    ret = obj.__call__()\n",
    "    type_sklearn_metrics__scorer__ProbaScorer___call__ = getattr(ret, '__module__', 'none') + '.' + ret.__class__.__name__\n",
    "    print('✅ sklearn.metrics._scorer._ProbaScorer.__call__: ', type(ret)) # noqa E501\n",
    "except Exception as e:\n",
    "    type_sklearn_metrics__scorer__ProbaScorer___call__ = '_syft_missing'\n",
    "    print('❌ sklearn.metrics._scorer._ProbaScorer.__call__: Return unavailable') # noqa E501\n",
    "    print(\"  Please fix this return type code until there is no exception\")\n",
    "    print('  Error:', e)\n"
   ]
  },
  {
   "cell_type": "code",
   "execution_count": null,
   "id": "revolutionary-morgan",
   "metadata": {},
   "outputs": [],
   "source": [
    "# sklearn.metrics._scorer._ProbaScorer.__repr__\n",
    "try:\n",
    "    obj = class_constructor() # noqa F821\n",
    "    ret = obj.__repr__()\n",
    "    type_sklearn_metrics__scorer__ProbaScorer___repr__ = getattr(ret, '__module__', 'none') + '.' + ret.__class__.__name__\n",
    "    print('✅ sklearn.metrics._scorer._ProbaScorer.__repr__: ', type(ret)) # noqa E501\n",
    "except Exception as e:\n",
    "    type_sklearn_metrics__scorer__ProbaScorer___repr__ = '_syft_missing'\n",
    "    print('❌ sklearn.metrics._scorer._ProbaScorer.__repr__: Return unavailable') # noqa E501\n",
    "    print(\"  Please fix this return type code until there is no exception\")\n",
    "    print('  Error:', e)\n"
   ]
  },
  {
   "cell_type": "code",
   "execution_count": null,
   "id": "unusual-trout",
   "metadata": {},
   "outputs": [],
   "source": [
    "# sklearn.metrics._scorer._ProbaScorer._check_pos_label\n",
    "try:\n",
    "    obj = class_constructor() # noqa F821\n",
    "    ret = obj._check_pos_label()\n",
    "    type_sklearn_metrics__scorer__ProbaScorer__check_pos_label = getattr(ret, '__module__', 'none') + '.' + ret.__class__.__name__\n",
    "    print('✅ sklearn.metrics._scorer._ProbaScorer._check_pos_label: ', type(ret)) # noqa E501\n",
    "except Exception as e:\n",
    "    type_sklearn_metrics__scorer__ProbaScorer__check_pos_label = '_syft_missing'\n",
    "    print('❌ sklearn.metrics._scorer._ProbaScorer._check_pos_label: Return unavailable') # noqa E501\n",
    "    print(\"  Please fix this return type code until there is no exception\")\n",
    "    print('  Error:', e)\n"
   ]
  },
  {
   "cell_type": "code",
   "execution_count": null,
   "id": "going-jerusalem",
   "metadata": {},
   "outputs": [],
   "source": [
    "# sklearn.metrics._scorer._ProbaScorer._factory_args\n",
    "try:\n",
    "    obj = class_constructor() # noqa F821\n",
    "    ret = obj._factory_args()\n",
    "    type_sklearn_metrics__scorer__ProbaScorer__factory_args = getattr(ret, '__module__', 'none') + '.' + ret.__class__.__name__\n",
    "    print('✅ sklearn.metrics._scorer._ProbaScorer._factory_args: ', type(ret)) # noqa E501\n",
    "except Exception as e:\n",
    "    type_sklearn_metrics__scorer__ProbaScorer__factory_args = '_syft_missing'\n",
    "    print('❌ sklearn.metrics._scorer._ProbaScorer._factory_args: Return unavailable') # noqa E501\n",
    "    print(\"  Please fix this return type code until there is no exception\")\n",
    "    print('  Error:', e)\n"
   ]
  },
  {
   "cell_type": "code",
   "execution_count": null,
   "id": "traditional-tutorial",
   "metadata": {},
   "outputs": [],
   "source": [
    "# sklearn.metrics._scorer._ProbaScorer._score\n",
    "try:\n",
    "    obj = class_constructor() # noqa F821\n",
    "    ret = obj._score()\n",
    "    type_sklearn_metrics__scorer__ProbaScorer__score = getattr(ret, '__module__', 'none') + '.' + ret.__class__.__name__\n",
    "    print('✅ sklearn.metrics._scorer._ProbaScorer._score: ', type(ret)) # noqa E501\n",
    "except Exception as e:\n",
    "    type_sklearn_metrics__scorer__ProbaScorer__score = '_syft_missing'\n",
    "    print('❌ sklearn.metrics._scorer._ProbaScorer._score: Return unavailable') # noqa E501\n",
    "    print(\"  Please fix this return type code until there is no exception\")\n",
    "    print('  Error:', e)\n"
   ]
  },
  {
   "cell_type": "code",
   "execution_count": null,
   "id": "appreciated-identification",
   "metadata": {},
   "outputs": [],
   "source": [
    "# sklearn.metrics._scorer._ProbaScorer._select_proba_binary\n",
    "try:\n",
    "    obj = class_constructor() # noqa F821\n",
    "    ret = obj._select_proba_binary()\n",
    "    type_sklearn_metrics__scorer__ProbaScorer__select_proba_binary = getattr(ret, '__module__', 'none') + '.' + ret.__class__.__name__\n",
    "    print('✅ sklearn.metrics._scorer._ProbaScorer._select_proba_binary: ', type(ret)) # noqa E501\n",
    "except Exception as e:\n",
    "    type_sklearn_metrics__scorer__ProbaScorer__select_proba_binary = '_syft_missing'\n",
    "    print('❌ sklearn.metrics._scorer._ProbaScorer._select_proba_binary: Return unavailable') # noqa E501\n",
    "    print(\"  Please fix this return type code until there is no exception\")\n",
    "    print('  Error:', e)\n"
   ]
  }
 ],
 "metadata": {},
 "nbformat": 4,
 "nbformat_minor": 5
}
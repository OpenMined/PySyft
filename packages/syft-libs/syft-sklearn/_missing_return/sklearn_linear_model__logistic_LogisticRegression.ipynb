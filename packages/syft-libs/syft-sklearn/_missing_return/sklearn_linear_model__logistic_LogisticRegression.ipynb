{
 "cells": [
  {
   "cell_type": "markdown",
   "id": "hairy-funeral",
   "metadata": {},
   "source": [
    "## sklearn.linear_model._logistic.LogisticRegression"
   ]
  },
  {
   "cell_type": "code",
   "execution_count": null,
   "id": "social-roberts",
   "metadata": {},
   "outputs": [],
   "source": [
    "import sklearn\n",
    "def class_constructor(*args, **kwargs):\n",
    "    obj = sklearn.linear_model._logistic.LogisticRegression()\n",
    "    return obj\n"
   ]
  },
  {
   "cell_type": "code",
   "execution_count": null,
   "id": "bearing-foundation",
   "metadata": {},
   "outputs": [],
   "source": [
    "# sklearn.linear_model._logistic.LogisticRegression.__getstate__\n",
    "try:\n",
    "    obj = class_constructor() # noqa F821\n",
    "    ret = obj.__getstate__()\n",
    "    type_sklearn_linear_model__logistic_LogisticRegression___getstate__ = getattr(ret, '__module__', 'none') + '.' + ret.__class__.__name__\n",
    "    print('✅ sklearn.linear_model._logistic.LogisticRegression.__getstate__: ', type(ret)) # noqa E501\n",
    "except Exception as e:\n",
    "    type_sklearn_linear_model__logistic_LogisticRegression___getstate__ = '_syft_missing'\n",
    "    print('❌ sklearn.linear_model._logistic.LogisticRegression.__getstate__: Return unavailable') # noqa E501\n",
    "    print(\"  Please fix this return type code until there is no exception\")\n",
    "    print('  Error:', e)\n"
   ]
  },
  {
   "cell_type": "code",
   "execution_count": null,
   "id": "vocational-crawford",
   "metadata": {},
   "outputs": [],
   "source": [
    "# sklearn.linear_model._logistic.LogisticRegression.__repr__\n",
    "try:\n",
    "    obj = class_constructor() # noqa F821\n",
    "    ret = obj.__repr__()\n",
    "    type_sklearn_linear_model__logistic_LogisticRegression___repr__ = getattr(ret, '__module__', 'none') + '.' + ret.__class__.__name__\n",
    "    print('✅ sklearn.linear_model._logistic.LogisticRegression.__repr__: ', type(ret)) # noqa E501\n",
    "except Exception as e:\n",
    "    type_sklearn_linear_model__logistic_LogisticRegression___repr__ = '_syft_missing'\n",
    "    print('❌ sklearn.linear_model._logistic.LogisticRegression.__repr__: Return unavailable') # noqa E501\n",
    "    print(\"  Please fix this return type code until there is no exception\")\n",
    "    print('  Error:', e)\n"
   ]
  },
  {
   "cell_type": "code",
   "execution_count": null,
   "id": "mexican-wheat",
   "metadata": {},
   "outputs": [],
   "source": [
    "# sklearn.linear_model._logistic.LogisticRegression.__setstate__\n",
    "try:\n",
    "    obj = class_constructor() # noqa F821\n",
    "    ret = obj.__setstate__()\n",
    "    type_sklearn_linear_model__logistic_LogisticRegression___setstate__ = getattr(ret, '__module__', 'none') + '.' + ret.__class__.__name__\n",
    "    print('✅ sklearn.linear_model._logistic.LogisticRegression.__setstate__: ', type(ret)) # noqa E501\n",
    "except Exception as e:\n",
    "    type_sklearn_linear_model__logistic_LogisticRegression___setstate__ = '_syft_missing'\n",
    "    print('❌ sklearn.linear_model._logistic.LogisticRegression.__setstate__: Return unavailable') # noqa E501\n",
    "    print(\"  Please fix this return type code until there is no exception\")\n",
    "    print('  Error:', e)\n"
   ]
  },
  {
   "cell_type": "code",
   "execution_count": null,
   "id": "functional-breath",
   "metadata": {},
   "outputs": [],
   "source": [
    "# sklearn.linear_model._logistic.LogisticRegression._check_n_features\n",
    "try:\n",
    "    obj = class_constructor() # noqa F821\n",
    "    ret = obj._check_n_features()\n",
    "    type_sklearn_linear_model__logistic_LogisticRegression__check_n_features = getattr(ret, '__module__', 'none') + '.' + ret.__class__.__name__\n",
    "    print('✅ sklearn.linear_model._logistic.LogisticRegression._check_n_features: ', type(ret)) # noqa E501\n",
    "except Exception as e:\n",
    "    type_sklearn_linear_model__logistic_LogisticRegression__check_n_features = '_syft_missing'\n",
    "    print('❌ sklearn.linear_model._logistic.LogisticRegression._check_n_features: Return unavailable') # noqa E501\n",
    "    print(\"  Please fix this return type code until there is no exception\")\n",
    "    print('  Error:', e)\n"
   ]
  },
  {
   "cell_type": "code",
   "execution_count": null,
   "id": "lesbian-perspective",
   "metadata": {},
   "outputs": [],
   "source": [
    "# sklearn.linear_model._logistic.LogisticRegression._get_param_names\n",
    "try:\n",
    "    obj = class_constructor() # noqa F821\n",
    "    ret = obj._get_param_names()\n",
    "    type_sklearn_linear_model__logistic_LogisticRegression__get_param_names = getattr(ret, '__module__', 'none') + '.' + ret.__class__.__name__\n",
    "    print('✅ sklearn.linear_model._logistic.LogisticRegression._get_param_names: ', type(ret)) # noqa E501\n",
    "except Exception as e:\n",
    "    type_sklearn_linear_model__logistic_LogisticRegression__get_param_names = '_syft_missing'\n",
    "    print('❌ sklearn.linear_model._logistic.LogisticRegression._get_param_names: Return unavailable') # noqa E501\n",
    "    print(\"  Please fix this return type code until there is no exception\")\n",
    "    print('  Error:', e)\n"
   ]
  },
  {
   "cell_type": "code",
   "execution_count": null,
   "id": "manual-review",
   "metadata": {},
   "outputs": [],
   "source": [
    "# sklearn.linear_model._logistic.LogisticRegression._get_tags\n",
    "try:\n",
    "    obj = class_constructor() # noqa F821\n",
    "    ret = obj._get_tags()\n",
    "    type_sklearn_linear_model__logistic_LogisticRegression__get_tags = getattr(ret, '__module__', 'none') + '.' + ret.__class__.__name__\n",
    "    print('✅ sklearn.linear_model._logistic.LogisticRegression._get_tags: ', type(ret)) # noqa E501\n",
    "except Exception as e:\n",
    "    type_sklearn_linear_model__logistic_LogisticRegression__get_tags = '_syft_missing'\n",
    "    print('❌ sklearn.linear_model._logistic.LogisticRegression._get_tags: Return unavailable') # noqa E501\n",
    "    print(\"  Please fix this return type code until there is no exception\")\n",
    "    print('  Error:', e)\n"
   ]
  },
  {
   "cell_type": "code",
   "execution_count": null,
   "id": "embedded-winter",
   "metadata": {},
   "outputs": [],
   "source": [
    "# sklearn.linear_model._logistic.LogisticRegression._more_tags\n",
    "try:\n",
    "    obj = class_constructor() # noqa F821\n",
    "    ret = obj._more_tags()\n",
    "    type_sklearn_linear_model__logistic_LogisticRegression__more_tags = getattr(ret, '__module__', 'none') + '.' + ret.__class__.__name__\n",
    "    print('✅ sklearn.linear_model._logistic.LogisticRegression._more_tags: ', type(ret)) # noqa E501\n",
    "except Exception as e:\n",
    "    type_sklearn_linear_model__logistic_LogisticRegression__more_tags = '_syft_missing'\n",
    "    print('❌ sklearn.linear_model._logistic.LogisticRegression._more_tags: Return unavailable') # noqa E501\n",
    "    print(\"  Please fix this return type code until there is no exception\")\n",
    "    print('  Error:', e)\n"
   ]
  },
  {
   "cell_type": "code",
   "execution_count": null,
   "id": "ready-pioneer",
   "metadata": {},
   "outputs": [],
   "source": [
    "# sklearn.linear_model._logistic.LogisticRegression._predict_proba_lr\n",
    "try:\n",
    "    obj = class_constructor() # noqa F821\n",
    "    ret = obj._predict_proba_lr()\n",
    "    type_sklearn_linear_model__logistic_LogisticRegression__predict_proba_lr = getattr(ret, '__module__', 'none') + '.' + ret.__class__.__name__\n",
    "    print('✅ sklearn.linear_model._logistic.LogisticRegression._predict_proba_lr: ', type(ret)) # noqa E501\n",
    "except Exception as e:\n",
    "    type_sklearn_linear_model__logistic_LogisticRegression__predict_proba_lr = '_syft_missing'\n",
    "    print('❌ sklearn.linear_model._logistic.LogisticRegression._predict_proba_lr: Return unavailable') # noqa E501\n",
    "    print(\"  Please fix this return type code until there is no exception\")\n",
    "    print('  Error:', e)\n"
   ]
  },
  {
   "cell_type": "code",
   "execution_count": null,
   "id": "touched-briefs",
   "metadata": {},
   "outputs": [],
   "source": [
    "# sklearn.linear_model._logistic.LogisticRegression._repr_html_\n",
    "try:\n",
    "    obj = class_constructor()\n",
    "    ret = obj._repr_html_\n",
    "    type_sklearn_linear_model__logistic_LogisticRegression__repr_html_ = getattr(ret, '__module__', 'none') + '.' + ret.__class__.__name__\n",
    "    print('✅ sklearn.linear_model._logistic.LogisticRegression._repr_html_:', type(ret)) # noqa E501\n",
    "except Exception as e:\n",
    "    type_sklearn_linear_model__logistic_LogisticRegression__repr_html_ = '_syft_missing'\n",
    "    print('❌ sklearn.linear_model._logistic.LogisticRegression._repr_html_: Return unavailable') # noqa E501\n",
    "    print(\"  Please fix this return type code until there is no exception\")\n",
    "    print('  Error:', e)\n"
   ]
  },
  {
   "cell_type": "code",
   "execution_count": null,
   "id": "streaming-intro",
   "metadata": {},
   "outputs": [],
   "source": [
    "# sklearn.linear_model._logistic.LogisticRegression._repr_html_inner\n",
    "try:\n",
    "    obj = class_constructor() # noqa F821\n",
    "    ret = obj._repr_html_inner()\n",
    "    type_sklearn_linear_model__logistic_LogisticRegression__repr_html_inner = getattr(ret, '__module__', 'none') + '.' + ret.__class__.__name__\n",
    "    print('✅ sklearn.linear_model._logistic.LogisticRegression._repr_html_inner: ', type(ret)) # noqa E501\n",
    "except Exception as e:\n",
    "    type_sklearn_linear_model__logistic_LogisticRegression__repr_html_inner = '_syft_missing'\n",
    "    print('❌ sklearn.linear_model._logistic.LogisticRegression._repr_html_inner: Return unavailable') # noqa E501\n",
    "    print(\"  Please fix this return type code until there is no exception\")\n",
    "    print('  Error:', e)\n"
   ]
  },
  {
   "cell_type": "code",
   "execution_count": null,
   "id": "taken-stack",
   "metadata": {},
   "outputs": [],
   "source": [
    "# sklearn.linear_model._logistic.LogisticRegression._repr_mimebundle_\n",
    "try:\n",
    "    obj = class_constructor() # noqa F821\n",
    "    ret = obj._repr_mimebundle_()\n",
    "    type_sklearn_linear_model__logistic_LogisticRegression__repr_mimebundle_ = getattr(ret, '__module__', 'none') + '.' + ret.__class__.__name__\n",
    "    print('✅ sklearn.linear_model._logistic.LogisticRegression._repr_mimebundle_: ', type(ret)) # noqa E501\n",
    "except Exception as e:\n",
    "    type_sklearn_linear_model__logistic_LogisticRegression__repr_mimebundle_ = '_syft_missing'\n",
    "    print('❌ sklearn.linear_model._logistic.LogisticRegression._repr_mimebundle_: Return unavailable') # noqa E501\n",
    "    print(\"  Please fix this return type code until there is no exception\")\n",
    "    print('  Error:', e)\n"
   ]
  },
  {
   "cell_type": "code",
   "execution_count": null,
   "id": "closing-stevens",
   "metadata": {},
   "outputs": [],
   "source": [
    "# sklearn.linear_model._logistic.LogisticRegression._validate_data\n",
    "try:\n",
    "    obj = class_constructor() # noqa F821\n",
    "    ret = obj._validate_data()\n",
    "    type_sklearn_linear_model__logistic_LogisticRegression__validate_data = getattr(ret, '__module__', 'none') + '.' + ret.__class__.__name__\n",
    "    print('✅ sklearn.linear_model._logistic.LogisticRegression._validate_data: ', type(ret)) # noqa E501\n",
    "except Exception as e:\n",
    "    type_sklearn_linear_model__logistic_LogisticRegression__validate_data = '_syft_missing'\n",
    "    print('❌ sklearn.linear_model._logistic.LogisticRegression._validate_data: Return unavailable') # noqa E501\n",
    "    print(\"  Please fix this return type code until there is no exception\")\n",
    "    print('  Error:', e)\n"
   ]
  },
  {
   "cell_type": "code",
   "execution_count": null,
   "id": "accessory-sampling",
   "metadata": {},
   "outputs": [],
   "source": [
    "# sklearn.linear_model._logistic.LogisticRegression.decision_function\n",
    "try:\n",
    "    obj = class_constructor() # noqa F821\n",
    "    ret = obj.decision_function()\n",
    "    type_sklearn_linear_model__logistic_LogisticRegression_decision_function = getattr(ret, '__module__', 'none') + '.' + ret.__class__.__name__\n",
    "    print('✅ sklearn.linear_model._logistic.LogisticRegression.decision_function: ', type(ret)) # noqa E501\n",
    "except Exception as e:\n",
    "    type_sklearn_linear_model__logistic_LogisticRegression_decision_function = '_syft_missing'\n",
    "    print('❌ sklearn.linear_model._logistic.LogisticRegression.decision_function: Return unavailable') # noqa E501\n",
    "    print(\"  Please fix this return type code until there is no exception\")\n",
    "    print('  Error:', e)\n"
   ]
  },
  {
   "cell_type": "code",
   "execution_count": null,
   "id": "legislative-basement",
   "metadata": {},
   "outputs": [],
   "source": [
    "# sklearn.linear_model._logistic.LogisticRegression.densify\n",
    "try:\n",
    "    obj = class_constructor() # noqa F821\n",
    "    ret = obj.densify()\n",
    "    type_sklearn_linear_model__logistic_LogisticRegression_densify = getattr(ret, '__module__', 'none') + '.' + ret.__class__.__name__\n",
    "    print('✅ sklearn.linear_model._logistic.LogisticRegression.densify: ', type(ret)) # noqa E501\n",
    "except Exception as e:\n",
    "    type_sklearn_linear_model__logistic_LogisticRegression_densify = '_syft_missing'\n",
    "    print('❌ sklearn.linear_model._logistic.LogisticRegression.densify: Return unavailable') # noqa E501\n",
    "    print(\"  Please fix this return type code until there is no exception\")\n",
    "    print('  Error:', e)\n"
   ]
  },
  {
   "cell_type": "code",
   "execution_count": null,
   "id": "fitting-establishment",
   "metadata": {},
   "outputs": [],
   "source": [
    "# sklearn.linear_model._logistic.LogisticRegression.fit\n",
    "try:\n",
    "    obj = class_constructor() # noqa F821\n",
    "    ret = obj.fit()\n",
    "    type_sklearn_linear_model__logistic_LogisticRegression_fit = getattr(ret, '__module__', 'none') + '.' + ret.__class__.__name__\n",
    "    print('✅ sklearn.linear_model._logistic.LogisticRegression.fit: ', type(ret)) # noqa E501\n",
    "except Exception as e:\n",
    "    type_sklearn_linear_model__logistic_LogisticRegression_fit = '_syft_missing'\n",
    "    print('❌ sklearn.linear_model._logistic.LogisticRegression.fit: Return unavailable') # noqa E501\n",
    "    print(\"  Please fix this return type code until there is no exception\")\n",
    "    print('  Error:', e)\n"
   ]
  },
  {
   "cell_type": "code",
   "execution_count": null,
   "id": "annual-nelson",
   "metadata": {},
   "outputs": [],
   "source": [
    "# sklearn.linear_model._logistic.LogisticRegression.get_params\n",
    "try:\n",
    "    obj = class_constructor() # noqa F821\n",
    "    ret = obj.get_params()\n",
    "    type_sklearn_linear_model__logistic_LogisticRegression_get_params = getattr(ret, '__module__', 'none') + '.' + ret.__class__.__name__\n",
    "    print('✅ sklearn.linear_model._logistic.LogisticRegression.get_params: ', type(ret)) # noqa E501\n",
    "except Exception as e:\n",
    "    type_sklearn_linear_model__logistic_LogisticRegression_get_params = '_syft_missing'\n",
    "    print('❌ sklearn.linear_model._logistic.LogisticRegression.get_params: Return unavailable') # noqa E501\n",
    "    print(\"  Please fix this return type code until there is no exception\")\n",
    "    print('  Error:', e)\n"
   ]
  },
  {
   "cell_type": "code",
   "execution_count": null,
   "id": "prerequisite-solid",
   "metadata": {},
   "outputs": [],
   "source": [
    "# sklearn.linear_model._logistic.LogisticRegression.predict\n",
    "try:\n",
    "    obj = class_constructor() # noqa F821\n",
    "    ret = obj.predict()\n",
    "    type_sklearn_linear_model__logistic_LogisticRegression_predict = getattr(ret, '__module__', 'none') + '.' + ret.__class__.__name__\n",
    "    print('✅ sklearn.linear_model._logistic.LogisticRegression.predict: ', type(ret)) # noqa E501\n",
    "except Exception as e:\n",
    "    type_sklearn_linear_model__logistic_LogisticRegression_predict = '_syft_missing'\n",
    "    print('❌ sklearn.linear_model._logistic.LogisticRegression.predict: Return unavailable') # noqa E501\n",
    "    print(\"  Please fix this return type code until there is no exception\")\n",
    "    print('  Error:', e)\n"
   ]
  },
  {
   "cell_type": "code",
   "execution_count": null,
   "id": "attempted-federal",
   "metadata": {},
   "outputs": [],
   "source": [
    "# sklearn.linear_model._logistic.LogisticRegression.predict_log_proba\n",
    "try:\n",
    "    obj = class_constructor() # noqa F821\n",
    "    ret = obj.predict_log_proba()\n",
    "    type_sklearn_linear_model__logistic_LogisticRegression_predict_log_proba = getattr(ret, '__module__', 'none') + '.' + ret.__class__.__name__\n",
    "    print('✅ sklearn.linear_model._logistic.LogisticRegression.predict_log_proba: ', type(ret)) # noqa E501\n",
    "except Exception as e:\n",
    "    type_sklearn_linear_model__logistic_LogisticRegression_predict_log_proba = '_syft_missing'\n",
    "    print('❌ sklearn.linear_model._logistic.LogisticRegression.predict_log_proba: Return unavailable') # noqa E501\n",
    "    print(\"  Please fix this return type code until there is no exception\")\n",
    "    print('  Error:', e)\n"
   ]
  },
  {
   "cell_type": "code",
   "execution_count": null,
   "id": "signal-ranch",
   "metadata": {},
   "outputs": [],
   "source": [
    "# sklearn.linear_model._logistic.LogisticRegression.predict_proba\n",
    "try:\n",
    "    obj = class_constructor() # noqa F821\n",
    "    ret = obj.predict_proba()\n",
    "    type_sklearn_linear_model__logistic_LogisticRegression_predict_proba = getattr(ret, '__module__', 'none') + '.' + ret.__class__.__name__\n",
    "    print('✅ sklearn.linear_model._logistic.LogisticRegression.predict_proba: ', type(ret)) # noqa E501\n",
    "except Exception as e:\n",
    "    type_sklearn_linear_model__logistic_LogisticRegression_predict_proba = '_syft_missing'\n",
    "    print('❌ sklearn.linear_model._logistic.LogisticRegression.predict_proba: Return unavailable') # noqa E501\n",
    "    print(\"  Please fix this return type code until there is no exception\")\n",
    "    print('  Error:', e)\n"
   ]
  },
  {
   "cell_type": "code",
   "execution_count": null,
   "id": "uniform-backing",
   "metadata": {},
   "outputs": [],
   "source": [
    "# sklearn.linear_model._logistic.LogisticRegression.score\n",
    "try:\n",
    "    obj = class_constructor() # noqa F821\n",
    "    ret = obj.score()\n",
    "    type_sklearn_linear_model__logistic_LogisticRegression_score = getattr(ret, '__module__', 'none') + '.' + ret.__class__.__name__\n",
    "    print('✅ sklearn.linear_model._logistic.LogisticRegression.score: ', type(ret)) # noqa E501\n",
    "except Exception as e:\n",
    "    type_sklearn_linear_model__logistic_LogisticRegression_score = '_syft_missing'\n",
    "    print('❌ sklearn.linear_model._logistic.LogisticRegression.score: Return unavailable') # noqa E501\n",
    "    print(\"  Please fix this return type code until there is no exception\")\n",
    "    print('  Error:', e)\n"
   ]
  },
  {
   "cell_type": "code",
   "execution_count": null,
   "id": "binding-garlic",
   "metadata": {},
   "outputs": [],
   "source": [
    "# sklearn.linear_model._logistic.LogisticRegression.set_params\n",
    "try:\n",
    "    obj = class_constructor() # noqa F821\n",
    "    ret = obj.set_params()\n",
    "    type_sklearn_linear_model__logistic_LogisticRegression_set_params = getattr(ret, '__module__', 'none') + '.' + ret.__class__.__name__\n",
    "    print('✅ sklearn.linear_model._logistic.LogisticRegression.set_params: ', type(ret)) # noqa E501\n",
    "except Exception as e:\n",
    "    type_sklearn_linear_model__logistic_LogisticRegression_set_params = '_syft_missing'\n",
    "    print('❌ sklearn.linear_model._logistic.LogisticRegression.set_params: Return unavailable') # noqa E501\n",
    "    print(\"  Please fix this return type code until there is no exception\")\n",
    "    print('  Error:', e)\n"
   ]
  },
  {
   "cell_type": "code",
   "execution_count": null,
   "id": "expired-precipitation",
   "metadata": {},
   "outputs": [],
   "source": [
    "# sklearn.linear_model._logistic.LogisticRegression.sparsify\n",
    "try:\n",
    "    obj = class_constructor() # noqa F821\n",
    "    ret = obj.sparsify()\n",
    "    type_sklearn_linear_model__logistic_LogisticRegression_sparsify = getattr(ret, '__module__', 'none') + '.' + ret.__class__.__name__\n",
    "    print('✅ sklearn.linear_model._logistic.LogisticRegression.sparsify: ', type(ret)) # noqa E501\n",
    "except Exception as e:\n",
    "    type_sklearn_linear_model__logistic_LogisticRegression_sparsify = '_syft_missing'\n",
    "    print('❌ sklearn.linear_model._logistic.LogisticRegression.sparsify: Return unavailable') # noqa E501\n",
    "    print(\"  Please fix this return type code until there is no exception\")\n",
    "    print('  Error:', e)\n"
   ]
  }
 ],
 "metadata": {},
 "nbformat": 4,
 "nbformat_minor": 5
}
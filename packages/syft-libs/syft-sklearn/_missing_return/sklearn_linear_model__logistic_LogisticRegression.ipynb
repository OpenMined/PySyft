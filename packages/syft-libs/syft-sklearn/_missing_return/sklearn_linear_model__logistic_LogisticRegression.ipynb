{
 "cells": [
  {
   "cell_type": "markdown",
   "id": "hairy-funeral",
   "metadata": {},
   "source": [
    "## sklearn.linear_model._logistic.LogisticRegression"
   ]
  },
  {
   "cell_type": "code",
   "execution_count": 31,
   "id": "social-roberts",
   "metadata": {},
   "outputs": [],
   "source": [
    "import sklearn\n",
    "import sklearn.linear_model\n",
    "import numpy as np\n",
    "x = np.array([1,2,4,5,6]).reshape(-1,1)\n",
    "y = np.array([0,0,1,1,1])\n",
    "    \n",
    "def class_constructor(*args, **kwargs):\n",
    "    obj = sklearn.linear_model._logistic.LogisticRegression().fit(x,y)\n",
    "    return obj\n"
   ]
  },
  {
   "cell_type": "code",
   "execution_count": 65,
   "id": "bearing-foundation",
   "metadata": {},
   "outputs": [
    {
     "name": "stdout",
     "output_type": "stream",
     "text": [
      "✅ sklearn.linear_model._logistic.LogisticRegression.__getstate__:  <class 'dict'>\n"
     ]
    }
   ],
   "source": [
    "# sklearn.linear_model._logistic.LogisticRegression.__getstate__\n",
    "try:\n",
    "    obj = class_constructor() # noqa F821\n",
    "    ret = obj.__getstate__()\n",
    "    state = ret\n",
    "    type_sklearn_linear_model__logistic_LogisticRegression___getstate__ = getattr(ret, '__module__', 'none') + '.' + ret.__class__.__name__\n",
    "    print('✅ sklearn.linear_model._logistic.LogisticRegression.__getstate__: ', type(ret)) # noqa E501\n",
    "except Exception as e:\n",
    "    type_sklearn_linear_model__logistic_LogisticRegression___getstate__ = '_syft_missing'\n",
    "    print('❌ sklearn.linear_model._logistic.LogisticRegression.__getstate__: Return unavailable') # noqa E501\n",
    "    print(\"  Please fix this return type code until there is no exception\")\n",
    "    print('  Error:', e)\n"
   ]
  },
  {
   "cell_type": "code",
   "execution_count": 33,
   "id": "vocational-crawford",
   "metadata": {},
   "outputs": [
    {
     "name": "stdout",
     "output_type": "stream",
     "text": [
      "✅ sklearn.linear_model._logistic.LogisticRegression.__repr__:  <class 'str'>\n"
     ]
    }
   ],
   "source": [
    "# sklearn.linear_model._logistic.LogisticRegression.__repr__\n",
    "try:\n",
    "    obj = class_constructor() # noqa F821\n",
    "    ret = obj.__repr__()\n",
    "    type_sklearn_linear_model__logistic_LogisticRegression___repr__ = getattr(ret, '__module__', 'none') + '.' + ret.__class__.__name__\n",
    "    print('✅ sklearn.linear_model._logistic.LogisticRegression.__repr__: ', type(ret)) # noqa E501\n",
    "except Exception as e:\n",
    "    type_sklearn_linear_model__logistic_LogisticRegression___repr__ = '_syft_missing'\n",
    "    print('❌ sklearn.linear_model._logistic.LogisticRegression.__repr__: Return unavailable') # noqa E501\n",
    "    print(\"  Please fix this return type code until there is no exception\")\n",
    "    print('  Error:', e)\n"
   ]
  },
  {
   "cell_type": "code",
   "execution_count": 66,
   "id": "mexican-wheat",
   "metadata": {},
   "outputs": [
    {
     "name": "stdout",
     "output_type": "stream",
     "text": [
      "✅ sklearn.linear_model._logistic.LogisticRegression.__setstate__:  <class 'NoneType'>\n"
     ]
    }
   ],
   "source": [
    "# sklearn.linear_model._logistic.LogisticRegression.__setstate__\n",
    "try:\n",
    "    obj = class_constructor() # noqa F821\n",
    "    ret = obj.__setstate__(state)\n",
    "    type_sklearn_linear_model__logistic_LogisticRegression___setstate__ = getattr(ret, '__module__', 'none') + '.' + ret.__class__.__name__\n",
    "    print('✅ sklearn.linear_model._logistic.LogisticRegression.__setstate__: ', type(ret)) # noqa E501\n",
    "except Exception as e:\n",
    "    type_sklearn_linear_model__logistic_LogisticRegression___setstate__ = '_syft_missing'\n",
    "    print('❌ sklearn.linear_model._logistic.LogisticRegression.__setstate__: Return unavailable') # noqa E501\n",
    "    print(\"  Please fix this return type code until there is no exception\")\n",
    "    print('  Error:', e)\n"
   ]
  },
  {
   "cell_type": "code",
   "execution_count": 62,
   "id": "functional-breath",
   "metadata": {},
   "outputs": [
    {
     "name": "stdout",
     "output_type": "stream",
     "text": [
      "✅ sklearn.linear_model._logistic.LogisticRegression._check_n_features:  <class 'NoneType'>\n"
     ]
    }
   ],
   "source": [
    "# sklearn.linear_model._logistic.LogisticRegression._check_n_features\n",
    "try:\n",
    "    obj = class_constructor() # noqa F821\n",
    "    ret = obj._check_n_features(x, True)\n",
    "    type_sklearn_linear_model__logistic_LogisticRegression__check_n_features = getattr(ret, '__module__', 'none') + '.' + ret.__class__.__name__\n",
    "    print('✅ sklearn.linear_model._logistic.LogisticRegression._check_n_features: ', type(ret)) # noqa E501\n",
    "except Exception as e:\n",
    "    type_sklearn_linear_model__logistic_LogisticRegression__check_n_features = '_syft_missing'\n",
    "    print('❌ sklearn.linear_model._logistic.LogisticRegression._check_n_features: Return unavailable') # noqa E501\n",
    "    print(\"  Please fix this return type code until there is no exception\")\n",
    "    print('  Error:', e)\n"
   ]
  },
  {
   "cell_type": "code",
   "execution_count": 36,
   "id": "lesbian-perspective",
   "metadata": {},
   "outputs": [
    {
     "name": "stdout",
     "output_type": "stream",
     "text": [
      "✅ sklearn.linear_model._logistic.LogisticRegression._get_param_names:  <class 'list'>\n"
     ]
    }
   ],
   "source": [
    "# sklearn.linear_model._logistic.LogisticRegression._get_param_names\n",
    "try:\n",
    "    obj = class_constructor() # noqa F821\n",
    "    ret = obj._get_param_names()\n",
    "    type_sklearn_linear_model__logistic_LogisticRegression__get_param_names = getattr(ret, '__module__', 'none') + '.' + ret.__class__.__name__\n",
    "    print('✅ sklearn.linear_model._logistic.LogisticRegression._get_param_names: ', type(ret)) # noqa E501\n",
    "except Exception as e:\n",
    "    type_sklearn_linear_model__logistic_LogisticRegression__get_param_names = '_syft_missing'\n",
    "    print('❌ sklearn.linear_model._logistic.LogisticRegression._get_param_names: Return unavailable') # noqa E501\n",
    "    print(\"  Please fix this return type code until there is no exception\")\n",
    "    print('  Error:', e)\n"
   ]
  },
  {
   "cell_type": "code",
   "execution_count": 37,
   "id": "manual-review",
   "metadata": {},
   "outputs": [
    {
     "name": "stdout",
     "output_type": "stream",
     "text": [
      "✅ sklearn.linear_model._logistic.LogisticRegression._get_tags:  <class 'dict'>\n"
     ]
    }
   ],
   "source": [
    "# sklearn.linear_model._logistic.LogisticRegression._get_tags\n",
    "try:\n",
    "    obj = class_constructor() # noqa F821\n",
    "    ret = obj._get_tags()\n",
    "    type_sklearn_linear_model__logistic_LogisticRegression__get_tags = getattr(ret, '__module__', 'none') + '.' + ret.__class__.__name__\n",
    "    print('✅ sklearn.linear_model._logistic.LogisticRegression._get_tags: ', type(ret)) # noqa E501\n",
    "except Exception as e:\n",
    "    type_sklearn_linear_model__logistic_LogisticRegression__get_tags = '_syft_missing'\n",
    "    print('❌ sklearn.linear_model._logistic.LogisticRegression._get_tags: Return unavailable') # noqa E501\n",
    "    print(\"  Please fix this return type code until there is no exception\")\n",
    "    print('  Error:', e)\n"
   ]
  },
  {
   "cell_type": "code",
   "execution_count": 38,
   "id": "embedded-winter",
   "metadata": {},
   "outputs": [
    {
     "name": "stdout",
     "output_type": "stream",
     "text": [
      "✅ sklearn.linear_model._logistic.LogisticRegression._more_tags:  <class 'dict'>\n"
     ]
    }
   ],
   "source": [
    "# sklearn.linear_model._logistic.LogisticRegression._more_tags\n",
    "try:\n",
    "    obj = class_constructor() # noqa F821\n",
    "    ret = obj._more_tags()\n",
    "    type_sklearn_linear_model__logistic_LogisticRegression__more_tags = getattr(ret, '__module__', 'none') + '.' + ret.__class__.__name__\n",
    "    print('✅ sklearn.linear_model._logistic.LogisticRegression._more_tags: ', type(ret)) # noqa E501\n",
    "except Exception as e:\n",
    "    type_sklearn_linear_model__logistic_LogisticRegression__more_tags = '_syft_missing'\n",
    "    print('❌ sklearn.linear_model._logistic.LogisticRegression._more_tags: Return unavailable') # noqa E501\n",
    "    print(\"  Please fix this return type code until there is no exception\")\n",
    "    print('  Error:', e)\n"
   ]
  },
  {
   "cell_type": "code",
   "execution_count": 61,
   "id": "ready-pioneer",
   "metadata": {},
   "outputs": [
    {
     "name": "stdout",
     "output_type": "stream",
     "text": [
      "✅ sklearn.linear_model._logistic.LogisticRegression._predict_proba_lr:  <class 'numpy.ndarray'>\n"
     ]
    }
   ],
   "source": [
    "# sklearn.linear_model._logistic.LogisticRegression._predict_proba_lr\n",
    "try:\n",
    "    obj = class_constructor() # noqa F821\n",
    "    ret = obj._predict_proba_lr(x)\n",
    "    type_sklearn_linear_model__logistic_LogisticRegression__predict_proba_lr = getattr(ret, '__module__', 'none') + '.' + ret.__class__.__name__\n",
    "    print('✅ sklearn.linear_model._logistic.LogisticRegression._predict_proba_lr: ', type(ret)) # noqa E501\n",
    "except Exception as e:\n",
    "    type_sklearn_linear_model__logistic_LogisticRegression__predict_proba_lr = '_syft_missing'\n",
    "    print('❌ sklearn.linear_model._logistic.LogisticRegression._predict_proba_lr: Return unavailable') # noqa E501\n",
    "    print(\"  Please fix this return type code until there is no exception\")\n",
    "    print('  Error:', e)\n"
   ]
  },
  {
   "cell_type": "code",
   "execution_count": 40,
   "id": "touched-briefs",
   "metadata": {},
   "outputs": [
    {
     "name": "stdout",
     "output_type": "stream",
     "text": [
      "❌ sklearn.linear_model._logistic.LogisticRegression._repr_html_: Return unavailable\n",
      "  Please fix this return type code until there is no exception\n",
      "  Error: _repr_html_ is only defined when the 'display' configuration option is set to 'diagram'\n"
     ]
    }
   ],
   "source": [
    "# sklearn.linear_model._logistic.LogisticRegression._repr_html_\n",
    "try:\n",
    "    obj = class_constructor()\n",
    "    ret = obj._repr_html_\n",
    "    type_sklearn_linear_model__logistic_LogisticRegression__repr_html_ = getattr(ret, '__module__', 'none') + '.' + ret.__class__.__name__\n",
    "    print('✅ sklearn.linear_model._logistic.LogisticRegression._repr_html_:', type(ret)) # noqa E501\n",
    "except Exception as e:\n",
    "    type_sklearn_linear_model__logistic_LogisticRegression__repr_html_ = '_syft_missing'\n",
    "    print('❌ sklearn.linear_model._logistic.LogisticRegression._repr_html_: Return unavailable') # noqa E501\n",
    "    print(\"  Please fix this return type code until there is no exception\")\n",
    "    print('  Error:', e)\n"
   ]
  },
  {
   "cell_type": "code",
   "execution_count": 41,
   "id": "streaming-intro",
   "metadata": {},
   "outputs": [
    {
     "name": "stdout",
     "output_type": "stream",
     "text": [
      "✅ sklearn.linear_model._logistic.LogisticRegression._repr_html_inner:  <class 'str'>\n"
     ]
    }
   ],
   "source": [
    "# sklearn.linear_model._logistic.LogisticRegression._repr_html_inner\n",
    "try:\n",
    "    obj = class_constructor() # noqa F821\n",
    "    ret = obj._repr_html_inner()\n",
    "    type_sklearn_linear_model__logistic_LogisticRegression__repr_html_inner = getattr(ret, '__module__', 'none') + '.' + ret.__class__.__name__\n",
    "    print('✅ sklearn.linear_model._logistic.LogisticRegression._repr_html_inner: ', type(ret)) # noqa E501\n",
    "except Exception as e:\n",
    "    type_sklearn_linear_model__logistic_LogisticRegression__repr_html_inner = '_syft_missing'\n",
    "    print('❌ sklearn.linear_model._logistic.LogisticRegression._repr_html_inner: Return unavailable') # noqa E501\n",
    "    print(\"  Please fix this return type code until there is no exception\")\n",
    "    print('  Error:', e)\n"
   ]
  },
  {
   "cell_type": "code",
   "execution_count": 42,
   "id": "taken-stack",
   "metadata": {},
   "outputs": [
    {
     "name": "stdout",
     "output_type": "stream",
     "text": [
      "✅ sklearn.linear_model._logistic.LogisticRegression._repr_mimebundle_:  <class 'dict'>\n"
     ]
    }
   ],
   "source": [
    "# sklearn.linear_model._logistic.LogisticRegression._repr_mimebundle_\n",
    "try:\n",
    "    obj = class_constructor() # noqa F821\n",
    "    ret = obj._repr_mimebundle_()\n",
    "    type_sklearn_linear_model__logistic_LogisticRegression__repr_mimebundle_ = getattr(ret, '__module__', 'none') + '.' + ret.__class__.__name__\n",
    "    print('✅ sklearn.linear_model._logistic.LogisticRegression._repr_mimebundle_: ', type(ret)) # noqa E501\n",
    "except Exception as e:\n",
    "    type_sklearn_linear_model__logistic_LogisticRegression__repr_mimebundle_ = '_syft_missing'\n",
    "    print('❌ sklearn.linear_model._logistic.LogisticRegression._repr_mimebundle_: Return unavailable') # noqa E501\n",
    "    print(\"  Please fix this return type code until there is no exception\")\n",
    "    print('  Error:', e)\n"
   ]
  },
  {
   "cell_type": "code",
   "execution_count": 60,
   "id": "closing-stevens",
   "metadata": {},
   "outputs": [
    {
     "name": "stdout",
     "output_type": "stream",
     "text": [
      "✅ sklearn.linear_model._logistic.LogisticRegression._validate_data:  <class 'numpy.ndarray'>\n"
     ]
    }
   ],
   "source": [
    "# sklearn.linear_model._logistic.LogisticRegression._validate_data\n",
    "try:\n",
    "    obj = class_constructor() # noqa F821\n",
    "    ret = obj._validate_data(x)\n",
    "    type_sklearn_linear_model__logistic_LogisticRegression__validate_data = getattr(ret, '__module__', 'none') + '.' + ret.__class__.__name__\n",
    "    print('✅ sklearn.linear_model._logistic.LogisticRegression._validate_data: ', type(ret)) # noqa E501\n",
    "except Exception as e:\n",
    "    type_sklearn_linear_model__logistic_LogisticRegression__validate_data = '_syft_missing'\n",
    "    print('❌ sklearn.linear_model._logistic.LogisticRegression._validate_data: Return unavailable') # noqa E501\n",
    "    print(\"  Please fix this return type code until there is no exception\")\n",
    "    print('  Error:', e)\n"
   ]
  },
  {
   "cell_type": "code",
   "execution_count": 59,
   "id": "accessory-sampling",
   "metadata": {},
   "outputs": [
    {
     "name": "stdout",
     "output_type": "stream",
     "text": [
      "✅ sklearn.linear_model._logistic.LogisticRegression.decision_function:  <class 'numpy.ndarray'>\n"
     ]
    }
   ],
   "source": [
    "# sklearn.linear_model._logistic.LogisticRegression.decision_function\n",
    "try:\n",
    "    obj = class_constructor() # noqa F821\n",
    "    ret = obj.decision_function(x)\n",
    "    type_sklearn_linear_model__logistic_LogisticRegression_decision_function = getattr(ret, '__module__', 'none') + '.' + ret.__class__.__name__\n",
    "    print('✅ sklearn.linear_model._logistic.LogisticRegression.decision_function: ', type(ret)) # noqa E501\n",
    "except Exception as e:\n",
    "    type_sklearn_linear_model__logistic_LogisticRegression_decision_function = '_syft_missing'\n",
    "    print('❌ sklearn.linear_model._logistic.LogisticRegression.decision_function: Return unavailable') # noqa E501\n",
    "    print(\"  Please fix this return type code until there is no exception\")\n",
    "    print('  Error:', e)\n"
   ]
  },
  {
   "cell_type": "code",
   "execution_count": 45,
   "id": "legislative-basement",
   "metadata": {},
   "outputs": [
    {
     "name": "stdout",
     "output_type": "stream",
     "text": [
      "✅ sklearn.linear_model._logistic.LogisticRegression.densify:  <class 'sklearn.linear_model._logistic.LogisticRegression'>\n"
     ]
    }
   ],
   "source": [
    "# sklearn.linear_model._logistic.LogisticRegression.densify\n",
    "try:\n",
    "    obj = class_constructor() # noqa F821\n",
    "    ret = obj.densify()\n",
    "    type_sklearn_linear_model__logistic_LogisticRegression_densify = getattr(ret, '__module__', 'none') + '.' + ret.__class__.__name__\n",
    "    print('✅ sklearn.linear_model._logistic.LogisticRegression.densify: ', type(ret)) # noqa E501\n",
    "except Exception as e:\n",
    "    type_sklearn_linear_model__logistic_LogisticRegression_densify = '_syft_missing'\n",
    "    print('❌ sklearn.linear_model._logistic.LogisticRegression.densify: Return unavailable') # noqa E501\n",
    "    print(\"  Please fix this return type code until there is no exception\")\n",
    "    print('  Error:', e)\n"
   ]
  },
  {
   "cell_type": "code",
   "execution_count": 58,
   "id": "fitting-establishment",
   "metadata": {},
   "outputs": [
    {
     "name": "stdout",
     "output_type": "stream",
     "text": [
      "✅ sklearn.linear_model._logistic.LogisticRegression.fit:  <class 'sklearn.linear_model._logistic.LogisticRegression'>\n"
     ]
    }
   ],
   "source": [
    "# sklearn.linear_model._logistic.LogisticRegression.fit\n",
    "try:\n",
    "    obj = class_constructor() # noqa F821\n",
    "    ret = obj.fit(x,y)\n",
    "    type_sklearn_linear_model__logistic_LogisticRegression_fit = getattr(ret, '__module__', 'none') + '.' + ret.__class__.__name__\n",
    "    print('✅ sklearn.linear_model._logistic.LogisticRegression.fit: ', type(ret)) # noqa E501\n",
    "except Exception as e:\n",
    "    type_sklearn_linear_model__logistic_LogisticRegression_fit = '_syft_missing'\n",
    "    print('❌ sklearn.linear_model._logistic.LogisticRegression.fit: Return unavailable') # noqa E501\n",
    "    print(\"  Please fix this return type code until there is no exception\")\n",
    "    print('  Error:', e)\n"
   ]
  },
  {
   "cell_type": "code",
   "execution_count": 47,
   "id": "annual-nelson",
   "metadata": {},
   "outputs": [
    {
     "name": "stdout",
     "output_type": "stream",
     "text": [
      "✅ sklearn.linear_model._logistic.LogisticRegression.get_params:  <class 'dict'>\n"
     ]
    }
   ],
   "source": [
    "# sklearn.linear_model._logistic.LogisticRegression.get_params\n",
    "try:\n",
    "    obj = class_constructor() # noqa F821\n",
    "    ret = obj.get_params()\n",
    "    type_sklearn_linear_model__logistic_LogisticRegression_get_params = getattr(ret, '__module__', 'none') + '.' + ret.__class__.__name__\n",
    "    print('✅ sklearn.linear_model._logistic.LogisticRegression.get_params: ', type(ret)) # noqa E501\n",
    "except Exception as e:\n",
    "    type_sklearn_linear_model__logistic_LogisticRegression_get_params = '_syft_missing'\n",
    "    print('❌ sklearn.linear_model._logistic.LogisticRegression.get_params: Return unavailable') # noqa E501\n",
    "    print(\"  Please fix this return type code until there is no exception\")\n",
    "    print('  Error:', e)\n"
   ]
  },
  {
   "cell_type": "code",
   "execution_count": 57,
   "id": "prerequisite-solid",
   "metadata": {},
   "outputs": [
    {
     "name": "stdout",
     "output_type": "stream",
     "text": [
      "✅ sklearn.linear_model._logistic.LogisticRegression.predict:  <class 'numpy.ndarray'>\n"
     ]
    }
   ],
   "source": [
    "# sklearn.linear_model._logistic.LogisticRegression.predict\n",
    "try:\n",
    "    obj = class_constructor() # noqa F821\n",
    "    ret = obj.predict(x)\n",
    "    type_sklearn_linear_model__logistic_LogisticRegression_predict = getattr(ret, '__module__', 'none') + '.' + ret.__class__.__name__\n",
    "    print('✅ sklearn.linear_model._logistic.LogisticRegression.predict: ', type(ret)) # noqa E501\n",
    "except Exception as e:\n",
    "    type_sklearn_linear_model__logistic_LogisticRegression_predict = '_syft_missing'\n",
    "    print('❌ sklearn.linear_model._logistic.LogisticRegression.predict: Return unavailable') # noqa E501\n",
    "    print(\"  Please fix this return type code until there is no exception\")\n",
    "    print('  Error:', e)\n"
   ]
  },
  {
   "cell_type": "code",
   "execution_count": 56,
   "id": "attempted-federal",
   "metadata": {},
   "outputs": [
    {
     "name": "stdout",
     "output_type": "stream",
     "text": [
      "✅ sklearn.linear_model._logistic.LogisticRegression.predict_log_proba:  <class 'numpy.ndarray'>\n"
     ]
    }
   ],
   "source": [
    "# sklearn.linear_model._logistic.LogisticRegression.predict_log_proba\n",
    "try:\n",
    "    obj = class_constructor() # noqa F821\n",
    "    ret = obj.predict_log_proba(x)\n",
    "    type_sklearn_linear_model__logistic_LogisticRegression_predict_log_proba = getattr(ret, '__module__', 'none') + '.' + ret.__class__.__name__\n",
    "    print('✅ sklearn.linear_model._logistic.LogisticRegression.predict_log_proba: ', type(ret)) # noqa E501\n",
    "except Exception as e:\n",
    "    type_sklearn_linear_model__logistic_LogisticRegression_predict_log_proba = '_syft_missing'\n",
    "    print('❌ sklearn.linear_model._logistic.LogisticRegression.predict_log_proba: Return unavailable') # noqa E501\n",
    "    print(\"  Please fix this return type code until there is no exception\")\n",
    "    print('  Error:', e)\n"
   ]
  },
  {
   "cell_type": "code",
   "execution_count": 55,
   "id": "signal-ranch",
   "metadata": {},
   "outputs": [
    {
     "name": "stdout",
     "output_type": "stream",
     "text": [
      "✅ sklearn.linear_model._logistic.LogisticRegression.predict_proba:  <class 'numpy.ndarray'>\n"
     ]
    }
   ],
   "source": [
    "# sklearn.linear_model._logistic.LogisticRegression.predict_proba\n",
    "try:\n",
    "    obj = class_constructor() # noqa F821\n",
    "    ret = obj.predict_proba(x)\n",
    "    type_sklearn_linear_model__logistic_LogisticRegression_predict_proba = getattr(ret, '__module__', 'none') + '.' + ret.__class__.__name__\n",
    "    print('✅ sklearn.linear_model._logistic.LogisticRegression.predict_proba: ', type(ret)) # noqa E501\n",
    "except Exception as e:\n",
    "    type_sklearn_linear_model__logistic_LogisticRegression_predict_proba = '_syft_missing'\n",
    "    print('❌ sklearn.linear_model._logistic.LogisticRegression.predict_proba: Return unavailable') # noqa E501\n",
    "    print(\"  Please fix this return type code until there is no exception\")\n",
    "    print('  Error:', e)\n"
   ]
  },
  {
   "cell_type": "code",
   "execution_count": 54,
   "id": "uniform-backing",
   "metadata": {},
   "outputs": [
    {
     "name": "stdout",
     "output_type": "stream",
     "text": [
      "✅ sklearn.linear_model._logistic.LogisticRegression.score:  <class 'numpy.float64'>\n"
     ]
    }
   ],
   "source": [
    "# sklearn.linear_model._logistic.LogisticRegression.score\n",
    "try:\n",
    "    obj = class_constructor() # noqa F821\n",
    "    ret = obj.score(x,y)\n",
    "    type_sklearn_linear_model__logistic_LogisticRegression_score = getattr(ret, '__module__', 'none') + '.' + ret.__class__.__name__\n",
    "    print('✅ sklearn.linear_model._logistic.LogisticRegression.score: ', type(ret)) # noqa E501\n",
    "except Exception as e:\n",
    "    type_sklearn_linear_model__logistic_LogisticRegression_score = '_syft_missing'\n",
    "    print('❌ sklearn.linear_model._logistic.LogisticRegression.score: Return unavailable') # noqa E501\n",
    "    print(\"  Please fix this return type code until there is no exception\")\n",
    "    print('  Error:', e)\n"
   ]
  },
  {
   "cell_type": "code",
   "execution_count": 52,
   "id": "binding-garlic",
   "metadata": {},
   "outputs": [
    {
     "name": "stdout",
     "output_type": "stream",
     "text": [
      "✅ sklearn.linear_model._logistic.LogisticRegression.set_params:  <class 'sklearn.linear_model._logistic.LogisticRegression'>\n"
     ]
    }
   ],
   "source": [
    "# sklearn.linear_model._logistic.LogisticRegression.set_params\n",
    "try:\n",
    "    obj = class_constructor() # noqa F821\n",
    "    ret = obj.set_params()\n",
    "    type_sklearn_linear_model__logistic_LogisticRegression_set_params = getattr(ret, '__module__', 'none') + '.' + ret.__class__.__name__\n",
    "    print('✅ sklearn.linear_model._logistic.LogisticRegression.set_params: ', type(ret)) # noqa E501\n",
    "except Exception as e:\n",
    "    type_sklearn_linear_model__logistic_LogisticRegression_set_params = '_syft_missing'\n",
    "    print('❌ sklearn.linear_model._logistic.LogisticRegression.set_params: Return unavailable') # noqa E501\n",
    "    print(\"  Please fix this return type code until there is no exception\")\n",
    "    print('  Error:', e)\n"
   ]
  },
  {
   "cell_type": "code",
   "execution_count": 53,
   "id": "expired-precipitation",
   "metadata": {},
   "outputs": [
    {
     "name": "stdout",
     "output_type": "stream",
     "text": [
      "✅ sklearn.linear_model._logistic.LogisticRegression.sparsify:  <class 'sklearn.linear_model._logistic.LogisticRegression'>\n"
     ]
    }
   ],
   "source": [
    "# sklearn.linear_model._logistic.LogisticRegression.sparsify\n",
    "try:\n",
    "    obj = class_constructor() # noqa F821\n",
    "    ret = obj.sparsify()\n",
    "    type_sklearn_linear_model__logistic_LogisticRegression_sparsify = getattr(ret, '__module__', 'none') + '.' + ret.__class__.__name__\n",
    "    print('✅ sklearn.linear_model._logistic.LogisticRegression.sparsify: ', type(ret)) # noqa E501\n",
    "except Exception as e:\n",
    "    type_sklearn_linear_model__logistic_LogisticRegression_sparsify = '_syft_missing'\n",
    "    print('❌ sklearn.linear_model._logistic.LogisticRegression.sparsify: Return unavailable') # noqa E501\n",
    "    print(\"  Please fix this return type code until there is no exception\")\n",
    "    print('  Error:', e)\n"
   ]
  },
  {
   "cell_type": "code",
   "execution_count": null,
   "id": "selective-passion",
   "metadata": {},
   "outputs": [],
   "source": []
  }
 ],
 "metadata": {
  "kernelspec": {
   "display_name": "Python 3",
   "language": "python",
   "name": "python3"
  },
  "language_info": {
   "codemirror_mode": {
    "name": "ipython",
    "version": 3
   },
   "file_extension": ".py",
   "mimetype": "text/x-python",
   "name": "python",
   "nbconvert_exporter": "python",
   "pygments_lexer": "ipython3",
   "version": "3.8.6"
  }
 },
 "nbformat": 4,
 "nbformat_minor": 5
}

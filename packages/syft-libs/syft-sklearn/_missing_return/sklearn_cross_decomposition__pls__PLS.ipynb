{
 "cells": [
  {
   "cell_type": "markdown",
   "id": "fitting-pakistan",
   "metadata": {},
   "source": [
    "## sklearn.cross_decomposition._pls._PLS"
   ]
  },
  {
   "cell_type": "code",
   "execution_count": null,
   "id": "revolutionary-weekend",
   "metadata": {},
   "outputs": [],
   "source": [
    "import sklearn\n",
    "def class_constructor(*args, **kwargs):\n",
    "    obj = sklearn.cross_decomposition._pls._PLS()\n",
    "    return obj\n"
   ]
  },
  {
   "cell_type": "code",
   "execution_count": null,
   "id": "incomplete-border",
   "metadata": {},
   "outputs": [],
   "source": [
    "# sklearn.cross_decomposition._pls._PLS.__getstate__\n",
    "try:\n",
    "    obj = class_constructor() # noqa F821\n",
    "    ret = obj.__getstate__()\n",
    "    type_sklearn_cross_decomposition__pls__PLS___getstate__ = getattr(ret, '__module__', 'none') + '.' + ret.__class__.__name__\n",
    "    print('✅ sklearn.cross_decomposition._pls._PLS.__getstate__: ', type(ret)) # noqa E501\n",
    "except Exception as e:\n",
    "    type_sklearn_cross_decomposition__pls__PLS___getstate__ = '_syft_missing'\n",
    "    print('❌ sklearn.cross_decomposition._pls._PLS.__getstate__: Return unavailable') # noqa E501\n",
    "    print(\"  Please fix this return type code until there is no exception\")\n",
    "    print('  Error:', e)\n"
   ]
  },
  {
   "cell_type": "code",
   "execution_count": null,
   "id": "caroline-evidence",
   "metadata": {},
   "outputs": [],
   "source": [
    "# sklearn.cross_decomposition._pls._PLS.__repr__\n",
    "try:\n",
    "    obj = class_constructor() # noqa F821\n",
    "    ret = obj.__repr__()\n",
    "    type_sklearn_cross_decomposition__pls__PLS___repr__ = getattr(ret, '__module__', 'none') + '.' + ret.__class__.__name__\n",
    "    print('✅ sklearn.cross_decomposition._pls._PLS.__repr__: ', type(ret)) # noqa E501\n",
    "except Exception as e:\n",
    "    type_sklearn_cross_decomposition__pls__PLS___repr__ = '_syft_missing'\n",
    "    print('❌ sklearn.cross_decomposition._pls._PLS.__repr__: Return unavailable') # noqa E501\n",
    "    print(\"  Please fix this return type code until there is no exception\")\n",
    "    print('  Error:', e)\n"
   ]
  },
  {
   "cell_type": "code",
   "execution_count": null,
   "id": "introductory-breeding",
   "metadata": {},
   "outputs": [],
   "source": [
    "# sklearn.cross_decomposition._pls._PLS.__setstate__\n",
    "try:\n",
    "    obj = class_constructor() # noqa F821\n",
    "    ret = obj.__setstate__()\n",
    "    type_sklearn_cross_decomposition__pls__PLS___setstate__ = getattr(ret, '__module__', 'none') + '.' + ret.__class__.__name__\n",
    "    print('✅ sklearn.cross_decomposition._pls._PLS.__setstate__: ', type(ret)) # noqa E501\n",
    "except Exception as e:\n",
    "    type_sklearn_cross_decomposition__pls__PLS___setstate__ = '_syft_missing'\n",
    "    print('❌ sklearn.cross_decomposition._pls._PLS.__setstate__: Return unavailable') # noqa E501\n",
    "    print(\"  Please fix this return type code until there is no exception\")\n",
    "    print('  Error:', e)\n"
   ]
  },
  {
   "cell_type": "code",
   "execution_count": null,
   "id": "daily-compromise",
   "metadata": {},
   "outputs": [],
   "source": [
    "# sklearn.cross_decomposition._pls._PLS._check_n_features\n",
    "try:\n",
    "    obj = class_constructor() # noqa F821\n",
    "    ret = obj._check_n_features()\n",
    "    type_sklearn_cross_decomposition__pls__PLS__check_n_features = getattr(ret, '__module__', 'none') + '.' + ret.__class__.__name__\n",
    "    print('✅ sklearn.cross_decomposition._pls._PLS._check_n_features: ', type(ret)) # noqa E501\n",
    "except Exception as e:\n",
    "    type_sklearn_cross_decomposition__pls__PLS__check_n_features = '_syft_missing'\n",
    "    print('❌ sklearn.cross_decomposition._pls._PLS._check_n_features: Return unavailable') # noqa E501\n",
    "    print(\"  Please fix this return type code until there is no exception\")\n",
    "    print('  Error:', e)\n"
   ]
  },
  {
   "cell_type": "code",
   "execution_count": null,
   "id": "union-perry",
   "metadata": {},
   "outputs": [],
   "source": [
    "# sklearn.cross_decomposition._pls._PLS._get_param_names\n",
    "try:\n",
    "    obj = class_constructor() # noqa F821\n",
    "    ret = obj._get_param_names()\n",
    "    type_sklearn_cross_decomposition__pls__PLS__get_param_names = getattr(ret, '__module__', 'none') + '.' + ret.__class__.__name__\n",
    "    print('✅ sklearn.cross_decomposition._pls._PLS._get_param_names: ', type(ret)) # noqa E501\n",
    "except Exception as e:\n",
    "    type_sklearn_cross_decomposition__pls__PLS__get_param_names = '_syft_missing'\n",
    "    print('❌ sklearn.cross_decomposition._pls._PLS._get_param_names: Return unavailable') # noqa E501\n",
    "    print(\"  Please fix this return type code until there is no exception\")\n",
    "    print('  Error:', e)\n"
   ]
  },
  {
   "cell_type": "code",
   "execution_count": null,
   "id": "ceramic-happening",
   "metadata": {},
   "outputs": [],
   "source": [
    "# sklearn.cross_decomposition._pls._PLS._get_tags\n",
    "try:\n",
    "    obj = class_constructor() # noqa F821\n",
    "    ret = obj._get_tags()\n",
    "    type_sklearn_cross_decomposition__pls__PLS__get_tags = getattr(ret, '__module__', 'none') + '.' + ret.__class__.__name__\n",
    "    print('✅ sklearn.cross_decomposition._pls._PLS._get_tags: ', type(ret)) # noqa E501\n",
    "except Exception as e:\n",
    "    type_sklearn_cross_decomposition__pls__PLS__get_tags = '_syft_missing'\n",
    "    print('❌ sklearn.cross_decomposition._pls._PLS._get_tags: Return unavailable') # noqa E501\n",
    "    print(\"  Please fix this return type code until there is no exception\")\n",
    "    print('  Error:', e)\n"
   ]
  },
  {
   "cell_type": "code",
   "execution_count": null,
   "id": "collaborative-colorado",
   "metadata": {},
   "outputs": [],
   "source": [
    "# sklearn.cross_decomposition._pls._PLS._more_tags\n",
    "try:\n",
    "    obj = class_constructor() # noqa F821\n",
    "    ret = obj._more_tags()\n",
    "    type_sklearn_cross_decomposition__pls__PLS__more_tags = getattr(ret, '__module__', 'none') + '.' + ret.__class__.__name__\n",
    "    print('✅ sklearn.cross_decomposition._pls._PLS._more_tags: ', type(ret)) # noqa E501\n",
    "except Exception as e:\n",
    "    type_sklearn_cross_decomposition__pls__PLS__more_tags = '_syft_missing'\n",
    "    print('❌ sklearn.cross_decomposition._pls._PLS._more_tags: Return unavailable') # noqa E501\n",
    "    print(\"  Please fix this return type code until there is no exception\")\n",
    "    print('  Error:', e)\n"
   ]
  },
  {
   "cell_type": "code",
   "execution_count": null,
   "id": "visible-dining",
   "metadata": {},
   "outputs": [],
   "source": [
    "# sklearn.cross_decomposition._pls._PLS._repr_html_\n",
    "try:\n",
    "    obj = class_constructor()\n",
    "    ret = obj._repr_html_\n",
    "    type_sklearn_cross_decomposition__pls__PLS__repr_html_ = getattr(ret, '__module__', 'none') + '.' + ret.__class__.__name__\n",
    "    print('✅ sklearn.cross_decomposition._pls._PLS._repr_html_:', type(ret)) # noqa E501\n",
    "except Exception as e:\n",
    "    type_sklearn_cross_decomposition__pls__PLS__repr_html_ = '_syft_missing'\n",
    "    print('❌ sklearn.cross_decomposition._pls._PLS._repr_html_: Return unavailable') # noqa E501\n",
    "    print(\"  Please fix this return type code until there is no exception\")\n",
    "    print('  Error:', e)\n"
   ]
  },
  {
   "cell_type": "code",
   "execution_count": null,
   "id": "overhead-pocket",
   "metadata": {},
   "outputs": [],
   "source": [
    "# sklearn.cross_decomposition._pls._PLS._repr_html_inner\n",
    "try:\n",
    "    obj = class_constructor() # noqa F821\n",
    "    ret = obj._repr_html_inner()\n",
    "    type_sklearn_cross_decomposition__pls__PLS__repr_html_inner = getattr(ret, '__module__', 'none') + '.' + ret.__class__.__name__\n",
    "    print('✅ sklearn.cross_decomposition._pls._PLS._repr_html_inner: ', type(ret)) # noqa E501\n",
    "except Exception as e:\n",
    "    type_sklearn_cross_decomposition__pls__PLS__repr_html_inner = '_syft_missing'\n",
    "    print('❌ sklearn.cross_decomposition._pls._PLS._repr_html_inner: Return unavailable') # noqa E501\n",
    "    print(\"  Please fix this return type code until there is no exception\")\n",
    "    print('  Error:', e)\n"
   ]
  },
  {
   "cell_type": "code",
   "execution_count": null,
   "id": "international-rachel",
   "metadata": {},
   "outputs": [],
   "source": [
    "# sklearn.cross_decomposition._pls._PLS._repr_mimebundle_\n",
    "try:\n",
    "    obj = class_constructor() # noqa F821\n",
    "    ret = obj._repr_mimebundle_()\n",
    "    type_sklearn_cross_decomposition__pls__PLS__repr_mimebundle_ = getattr(ret, '__module__', 'none') + '.' + ret.__class__.__name__\n",
    "    print('✅ sklearn.cross_decomposition._pls._PLS._repr_mimebundle_: ', type(ret)) # noqa E501\n",
    "except Exception as e:\n",
    "    type_sklearn_cross_decomposition__pls__PLS__repr_mimebundle_ = '_syft_missing'\n",
    "    print('❌ sklearn.cross_decomposition._pls._PLS._repr_mimebundle_: Return unavailable') # noqa E501\n",
    "    print(\"  Please fix this return type code until there is no exception\")\n",
    "    print('  Error:', e)\n"
   ]
  },
  {
   "cell_type": "code",
   "execution_count": null,
   "id": "minimal-lighter",
   "metadata": {},
   "outputs": [],
   "source": [
    "# sklearn.cross_decomposition._pls._PLS._validate_data\n",
    "try:\n",
    "    obj = class_constructor() # noqa F821\n",
    "    ret = obj._validate_data()\n",
    "    type_sklearn_cross_decomposition__pls__PLS__validate_data = getattr(ret, '__module__', 'none') + '.' + ret.__class__.__name__\n",
    "    print('✅ sklearn.cross_decomposition._pls._PLS._validate_data: ', type(ret)) # noqa E501\n",
    "except Exception as e:\n",
    "    type_sklearn_cross_decomposition__pls__PLS__validate_data = '_syft_missing'\n",
    "    print('❌ sklearn.cross_decomposition._pls._PLS._validate_data: Return unavailable') # noqa E501\n",
    "    print(\"  Please fix this return type code until there is no exception\")\n",
    "    print('  Error:', e)\n"
   ]
  },
  {
   "cell_type": "code",
   "execution_count": null,
   "id": "plain-trustee",
   "metadata": {},
   "outputs": [],
   "source": [
    "# sklearn.cross_decomposition._pls._PLS.fit\n",
    "try:\n",
    "    obj = class_constructor() # noqa F821\n",
    "    ret = obj.fit()\n",
    "    type_sklearn_cross_decomposition__pls__PLS_fit = getattr(ret, '__module__', 'none') + '.' + ret.__class__.__name__\n",
    "    print('✅ sklearn.cross_decomposition._pls._PLS.fit: ', type(ret)) # noqa E501\n",
    "except Exception as e:\n",
    "    type_sklearn_cross_decomposition__pls__PLS_fit = '_syft_missing'\n",
    "    print('❌ sklearn.cross_decomposition._pls._PLS.fit: Return unavailable') # noqa E501\n",
    "    print(\"  Please fix this return type code until there is no exception\")\n",
    "    print('  Error:', e)\n"
   ]
  },
  {
   "cell_type": "code",
   "execution_count": null,
   "id": "functional-thing",
   "metadata": {},
   "outputs": [],
   "source": [
    "# sklearn.cross_decomposition._pls._PLS.fit_transform\n",
    "try:\n",
    "    obj = class_constructor() # noqa F821\n",
    "    ret = obj.fit_transform()\n",
    "    type_sklearn_cross_decomposition__pls__PLS_fit_transform = getattr(ret, '__module__', 'none') + '.' + ret.__class__.__name__\n",
    "    print('✅ sklearn.cross_decomposition._pls._PLS.fit_transform: ', type(ret)) # noqa E501\n",
    "except Exception as e:\n",
    "    type_sklearn_cross_decomposition__pls__PLS_fit_transform = '_syft_missing'\n",
    "    print('❌ sklearn.cross_decomposition._pls._PLS.fit_transform: Return unavailable') # noqa E501\n",
    "    print(\"  Please fix this return type code until there is no exception\")\n",
    "    print('  Error:', e)\n"
   ]
  },
  {
   "cell_type": "code",
   "execution_count": null,
   "id": "liable-carpet",
   "metadata": {},
   "outputs": [],
   "source": [
    "# sklearn.cross_decomposition._pls._PLS.get_params\n",
    "try:\n",
    "    obj = class_constructor() # noqa F821\n",
    "    ret = obj.get_params()\n",
    "    type_sklearn_cross_decomposition__pls__PLS_get_params = getattr(ret, '__module__', 'none') + '.' + ret.__class__.__name__\n",
    "    print('✅ sklearn.cross_decomposition._pls._PLS.get_params: ', type(ret)) # noqa E501\n",
    "except Exception as e:\n",
    "    type_sklearn_cross_decomposition__pls__PLS_get_params = '_syft_missing'\n",
    "    print('❌ sklearn.cross_decomposition._pls._PLS.get_params: Return unavailable') # noqa E501\n",
    "    print(\"  Please fix this return type code until there is no exception\")\n",
    "    print('  Error:', e)\n"
   ]
  },
  {
   "cell_type": "code",
   "execution_count": null,
   "id": "ideal-approach",
   "metadata": {},
   "outputs": [],
   "source": [
    "# sklearn.cross_decomposition._pls._PLS.inverse_transform\n",
    "try:\n",
    "    obj = class_constructor() # noqa F821\n",
    "    ret = obj.inverse_transform()\n",
    "    type_sklearn_cross_decomposition__pls__PLS_inverse_transform = getattr(ret, '__module__', 'none') + '.' + ret.__class__.__name__\n",
    "    print('✅ sklearn.cross_decomposition._pls._PLS.inverse_transform: ', type(ret)) # noqa E501\n",
    "except Exception as e:\n",
    "    type_sklearn_cross_decomposition__pls__PLS_inverse_transform = '_syft_missing'\n",
    "    print('❌ sklearn.cross_decomposition._pls._PLS.inverse_transform: Return unavailable') # noqa E501\n",
    "    print(\"  Please fix this return type code until there is no exception\")\n",
    "    print('  Error:', e)\n"
   ]
  },
  {
   "cell_type": "code",
   "execution_count": null,
   "id": "danish-lloyd",
   "metadata": {},
   "outputs": [],
   "source": [
    "# sklearn.cross_decomposition._pls._PLS.norm_y_weights\n",
    "try:\n",
    "    obj = class_constructor()\n",
    "    ret = obj.norm_y_weights\n",
    "    type_sklearn_cross_decomposition__pls__PLS_norm_y_weights = getattr(ret, '__module__', 'none') + '.' + ret.__class__.__name__\n",
    "    print('✅ sklearn.cross_decomposition._pls._PLS.norm_y_weights:', type(ret)) # noqa E501\n",
    "except Exception as e:\n",
    "    type_sklearn_cross_decomposition__pls__PLS_norm_y_weights = '_syft_missing'\n",
    "    print('❌ sklearn.cross_decomposition._pls._PLS.norm_y_weights: Return unavailable') # noqa E501\n",
    "    print(\"  Please fix this return type code until there is no exception\")\n",
    "    print('  Error:', e)\n"
   ]
  },
  {
   "cell_type": "code",
   "execution_count": null,
   "id": "mexican-flashing",
   "metadata": {},
   "outputs": [],
   "source": [
    "# sklearn.cross_decomposition._pls._PLS.predict\n",
    "try:\n",
    "    obj = class_constructor() # noqa F821\n",
    "    ret = obj.predict()\n",
    "    type_sklearn_cross_decomposition__pls__PLS_predict = getattr(ret, '__module__', 'none') + '.' + ret.__class__.__name__\n",
    "    print('✅ sklearn.cross_decomposition._pls._PLS.predict: ', type(ret)) # noqa E501\n",
    "except Exception as e:\n",
    "    type_sklearn_cross_decomposition__pls__PLS_predict = '_syft_missing'\n",
    "    print('❌ sklearn.cross_decomposition._pls._PLS.predict: Return unavailable') # noqa E501\n",
    "    print(\"  Please fix this return type code until there is no exception\")\n",
    "    print('  Error:', e)\n"
   ]
  },
  {
   "cell_type": "code",
   "execution_count": null,
   "id": "declared-motor",
   "metadata": {},
   "outputs": [],
   "source": [
    "# sklearn.cross_decomposition._pls._PLS.score\n",
    "try:\n",
    "    obj = class_constructor() # noqa F821\n",
    "    ret = obj.score()\n",
    "    type_sklearn_cross_decomposition__pls__PLS_score = getattr(ret, '__module__', 'none') + '.' + ret.__class__.__name__\n",
    "    print('✅ sklearn.cross_decomposition._pls._PLS.score: ', type(ret)) # noqa E501\n",
    "except Exception as e:\n",
    "    type_sklearn_cross_decomposition__pls__PLS_score = '_syft_missing'\n",
    "    print('❌ sklearn.cross_decomposition._pls._PLS.score: Return unavailable') # noqa E501\n",
    "    print(\"  Please fix this return type code until there is no exception\")\n",
    "    print('  Error:', e)\n"
   ]
  },
  {
   "cell_type": "code",
   "execution_count": null,
   "id": "swiss-airfare",
   "metadata": {},
   "outputs": [],
   "source": [
    "# sklearn.cross_decomposition._pls._PLS.set_params\n",
    "try:\n",
    "    obj = class_constructor() # noqa F821\n",
    "    ret = obj.set_params()\n",
    "    type_sklearn_cross_decomposition__pls__PLS_set_params = getattr(ret, '__module__', 'none') + '.' + ret.__class__.__name__\n",
    "    print('✅ sklearn.cross_decomposition._pls._PLS.set_params: ', type(ret)) # noqa E501\n",
    "except Exception as e:\n",
    "    type_sklearn_cross_decomposition__pls__PLS_set_params = '_syft_missing'\n",
    "    print('❌ sklearn.cross_decomposition._pls._PLS.set_params: Return unavailable') # noqa E501\n",
    "    print(\"  Please fix this return type code until there is no exception\")\n",
    "    print('  Error:', e)\n"
   ]
  },
  {
   "cell_type": "code",
   "execution_count": null,
   "id": "golden-cabinet",
   "metadata": {},
   "outputs": [],
   "source": [
    "# sklearn.cross_decomposition._pls._PLS.transform\n",
    "try:\n",
    "    obj = class_constructor() # noqa F821\n",
    "    ret = obj.transform()\n",
    "    type_sklearn_cross_decomposition__pls__PLS_transform = getattr(ret, '__module__', 'none') + '.' + ret.__class__.__name__\n",
    "    print('✅ sklearn.cross_decomposition._pls._PLS.transform: ', type(ret)) # noqa E501\n",
    "except Exception as e:\n",
    "    type_sklearn_cross_decomposition__pls__PLS_transform = '_syft_missing'\n",
    "    print('❌ sklearn.cross_decomposition._pls._PLS.transform: Return unavailable') # noqa E501\n",
    "    print(\"  Please fix this return type code until there is no exception\")\n",
    "    print('  Error:', e)\n"
   ]
  },
  {
   "cell_type": "code",
   "execution_count": null,
   "id": "complicated-minister",
   "metadata": {},
   "outputs": [],
   "source": [
    "# sklearn.cross_decomposition._pls._PLS.x_mean_\n",
    "try:\n",
    "    obj = class_constructor()\n",
    "    ret = obj.x_mean_\n",
    "    type_sklearn_cross_decomposition__pls__PLS_x_mean_ = getattr(ret, '__module__', 'none') + '.' + ret.__class__.__name__\n",
    "    print('✅ sklearn.cross_decomposition._pls._PLS.x_mean_:', type(ret)) # noqa E501\n",
    "except Exception as e:\n",
    "    type_sklearn_cross_decomposition__pls__PLS_x_mean_ = '_syft_missing'\n",
    "    print('❌ sklearn.cross_decomposition._pls._PLS.x_mean_: Return unavailable') # noqa E501\n",
    "    print(\"  Please fix this return type code until there is no exception\")\n",
    "    print('  Error:', e)\n"
   ]
  },
  {
   "cell_type": "code",
   "execution_count": null,
   "id": "intimate-decade",
   "metadata": {},
   "outputs": [],
   "source": [
    "# sklearn.cross_decomposition._pls._PLS.x_scores_\n",
    "try:\n",
    "    obj = class_constructor()\n",
    "    ret = obj.x_scores_\n",
    "    type_sklearn_cross_decomposition__pls__PLS_x_scores_ = getattr(ret, '__module__', 'none') + '.' + ret.__class__.__name__\n",
    "    print('✅ sklearn.cross_decomposition._pls._PLS.x_scores_:', type(ret)) # noqa E501\n",
    "except Exception as e:\n",
    "    type_sklearn_cross_decomposition__pls__PLS_x_scores_ = '_syft_missing'\n",
    "    print('❌ sklearn.cross_decomposition._pls._PLS.x_scores_: Return unavailable') # noqa E501\n",
    "    print(\"  Please fix this return type code until there is no exception\")\n",
    "    print('  Error:', e)\n"
   ]
  },
  {
   "cell_type": "code",
   "execution_count": null,
   "id": "through-breach",
   "metadata": {},
   "outputs": [],
   "source": [
    "# sklearn.cross_decomposition._pls._PLS.x_std_\n",
    "try:\n",
    "    obj = class_constructor()\n",
    "    ret = obj.x_std_\n",
    "    type_sklearn_cross_decomposition__pls__PLS_x_std_ = getattr(ret, '__module__', 'none') + '.' + ret.__class__.__name__\n",
    "    print('✅ sklearn.cross_decomposition._pls._PLS.x_std_:', type(ret)) # noqa E501\n",
    "except Exception as e:\n",
    "    type_sklearn_cross_decomposition__pls__PLS_x_std_ = '_syft_missing'\n",
    "    print('❌ sklearn.cross_decomposition._pls._PLS.x_std_: Return unavailable') # noqa E501\n",
    "    print(\"  Please fix this return type code until there is no exception\")\n",
    "    print('  Error:', e)\n"
   ]
  },
  {
   "cell_type": "code",
   "execution_count": null,
   "id": "tutorial-methodology",
   "metadata": {},
   "outputs": [],
   "source": [
    "# sklearn.cross_decomposition._pls._PLS.y_mean_\n",
    "try:\n",
    "    obj = class_constructor()\n",
    "    ret = obj.y_mean_\n",
    "    type_sklearn_cross_decomposition__pls__PLS_y_mean_ = getattr(ret, '__module__', 'none') + '.' + ret.__class__.__name__\n",
    "    print('✅ sklearn.cross_decomposition._pls._PLS.y_mean_:', type(ret)) # noqa E501\n",
    "except Exception as e:\n",
    "    type_sklearn_cross_decomposition__pls__PLS_y_mean_ = '_syft_missing'\n",
    "    print('❌ sklearn.cross_decomposition._pls._PLS.y_mean_: Return unavailable') # noqa E501\n",
    "    print(\"  Please fix this return type code until there is no exception\")\n",
    "    print('  Error:', e)\n"
   ]
  },
  {
   "cell_type": "code",
   "execution_count": null,
   "id": "warming-saying",
   "metadata": {},
   "outputs": [],
   "source": [
    "# sklearn.cross_decomposition._pls._PLS.y_scores_\n",
    "try:\n",
    "    obj = class_constructor()\n",
    "    ret = obj.y_scores_\n",
    "    type_sklearn_cross_decomposition__pls__PLS_y_scores_ = getattr(ret, '__module__', 'none') + '.' + ret.__class__.__name__\n",
    "    print('✅ sklearn.cross_decomposition._pls._PLS.y_scores_:', type(ret)) # noqa E501\n",
    "except Exception as e:\n",
    "    type_sklearn_cross_decomposition__pls__PLS_y_scores_ = '_syft_missing'\n",
    "    print('❌ sklearn.cross_decomposition._pls._PLS.y_scores_: Return unavailable') # noqa E501\n",
    "    print(\"  Please fix this return type code until there is no exception\")\n",
    "    print('  Error:', e)\n"
   ]
  },
  {
   "cell_type": "code",
   "execution_count": null,
   "id": "terminal-terrain",
   "metadata": {},
   "outputs": [],
   "source": [
    "# sklearn.cross_decomposition._pls._PLS.y_std_\n",
    "try:\n",
    "    obj = class_constructor()\n",
    "    ret = obj.y_std_\n",
    "    type_sklearn_cross_decomposition__pls__PLS_y_std_ = getattr(ret, '__module__', 'none') + '.' + ret.__class__.__name__\n",
    "    print('✅ sklearn.cross_decomposition._pls._PLS.y_std_:', type(ret)) # noqa E501\n",
    "except Exception as e:\n",
    "    type_sklearn_cross_decomposition__pls__PLS_y_std_ = '_syft_missing'\n",
    "    print('❌ sklearn.cross_decomposition._pls._PLS.y_std_: Return unavailable') # noqa E501\n",
    "    print(\"  Please fix this return type code until there is no exception\")\n",
    "    print('  Error:', e)\n"
   ]
  }
 ],
 "metadata": {},
 "nbformat": 4,
 "nbformat_minor": 5
}
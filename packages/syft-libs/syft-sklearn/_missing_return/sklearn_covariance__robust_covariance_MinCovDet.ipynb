{
 "cells": [
  {
   "cell_type": "markdown",
   "id": "spiritual-liability",
   "metadata": {},
   "source": [
    "## sklearn.covariance._robust_covariance.MinCovDet"
   ]
  },
  {
   "cell_type": "code",
   "execution_count": null,
   "id": "incredible-disposition",
   "metadata": {},
   "outputs": [],
   "source": [
    "import sklearn\n",
    "def class_constructor(*args, **kwargs):\n",
    "    obj = sklearn.covariance._robust_covariance.MinCovDet()\n",
    "    return obj\n"
   ]
  },
  {
   "cell_type": "code",
   "execution_count": null,
   "id": "liable-split",
   "metadata": {},
   "outputs": [],
   "source": [
    "# sklearn.covariance._robust_covariance.MinCovDet.__getstate__\n",
    "try:\n",
    "    obj = class_constructor() # noqa F821\n",
    "    ret = obj.__getstate__()\n",
    "    type_sklearn_covariance__robust_covariance_MinCovDet___getstate__ = getattr(ret, '__module__', 'none') + '.' + ret.__class__.__name__\n",
    "    print('✅ sklearn.covariance._robust_covariance.MinCovDet.__getstate__: ', type(ret)) # noqa E501\n",
    "except Exception as e:\n",
    "    type_sklearn_covariance__robust_covariance_MinCovDet___getstate__ = '_syft_missing'\n",
    "    print('❌ sklearn.covariance._robust_covariance.MinCovDet.__getstate__: Return unavailable') # noqa E501\n",
    "    print(\"  Please fix this return type code until there is no exception\")\n",
    "    print('  Error:', e)\n"
   ]
  },
  {
   "cell_type": "code",
   "execution_count": null,
   "id": "eligible-philosophy",
   "metadata": {},
   "outputs": [],
   "source": [
    "# sklearn.covariance._robust_covariance.MinCovDet.__repr__\n",
    "try:\n",
    "    obj = class_constructor() # noqa F821\n",
    "    ret = obj.__repr__()\n",
    "    type_sklearn_covariance__robust_covariance_MinCovDet___repr__ = getattr(ret, '__module__', 'none') + '.' + ret.__class__.__name__\n",
    "    print('✅ sklearn.covariance._robust_covariance.MinCovDet.__repr__: ', type(ret)) # noqa E501\n",
    "except Exception as e:\n",
    "    type_sklearn_covariance__robust_covariance_MinCovDet___repr__ = '_syft_missing'\n",
    "    print('❌ sklearn.covariance._robust_covariance.MinCovDet.__repr__: Return unavailable') # noqa E501\n",
    "    print(\"  Please fix this return type code until there is no exception\")\n",
    "    print('  Error:', e)\n"
   ]
  },
  {
   "cell_type": "code",
   "execution_count": null,
   "id": "grateful-blood",
   "metadata": {},
   "outputs": [],
   "source": [
    "# sklearn.covariance._robust_covariance.MinCovDet.__setstate__\n",
    "try:\n",
    "    obj = class_constructor() # noqa F821\n",
    "    ret = obj.__setstate__()\n",
    "    type_sklearn_covariance__robust_covariance_MinCovDet___setstate__ = getattr(ret, '__module__', 'none') + '.' + ret.__class__.__name__\n",
    "    print('✅ sklearn.covariance._robust_covariance.MinCovDet.__setstate__: ', type(ret)) # noqa E501\n",
    "except Exception as e:\n",
    "    type_sklearn_covariance__robust_covariance_MinCovDet___setstate__ = '_syft_missing'\n",
    "    print('❌ sklearn.covariance._robust_covariance.MinCovDet.__setstate__: Return unavailable') # noqa E501\n",
    "    print(\"  Please fix this return type code until there is no exception\")\n",
    "    print('  Error:', e)\n"
   ]
  },
  {
   "cell_type": "code",
   "execution_count": null,
   "id": "cultural-surveillance",
   "metadata": {},
   "outputs": [],
   "source": [
    "# sklearn.covariance._robust_covariance.MinCovDet._check_n_features\n",
    "try:\n",
    "    obj = class_constructor() # noqa F821\n",
    "    ret = obj._check_n_features()\n",
    "    type_sklearn_covariance__robust_covariance_MinCovDet__check_n_features = getattr(ret, '__module__', 'none') + '.' + ret.__class__.__name__\n",
    "    print('✅ sklearn.covariance._robust_covariance.MinCovDet._check_n_features: ', type(ret)) # noqa E501\n",
    "except Exception as e:\n",
    "    type_sklearn_covariance__robust_covariance_MinCovDet__check_n_features = '_syft_missing'\n",
    "    print('❌ sklearn.covariance._robust_covariance.MinCovDet._check_n_features: Return unavailable') # noqa E501\n",
    "    print(\"  Please fix this return type code until there is no exception\")\n",
    "    print('  Error:', e)\n"
   ]
  },
  {
   "cell_type": "code",
   "execution_count": null,
   "id": "guilty-camera",
   "metadata": {},
   "outputs": [],
   "source": [
    "# sklearn.covariance._robust_covariance.MinCovDet._get_param_names\n",
    "try:\n",
    "    obj = class_constructor() # noqa F821\n",
    "    ret = obj._get_param_names()\n",
    "    type_sklearn_covariance__robust_covariance_MinCovDet__get_param_names = getattr(ret, '__module__', 'none') + '.' + ret.__class__.__name__\n",
    "    print('✅ sklearn.covariance._robust_covariance.MinCovDet._get_param_names: ', type(ret)) # noqa E501\n",
    "except Exception as e:\n",
    "    type_sklearn_covariance__robust_covariance_MinCovDet__get_param_names = '_syft_missing'\n",
    "    print('❌ sklearn.covariance._robust_covariance.MinCovDet._get_param_names: Return unavailable') # noqa E501\n",
    "    print(\"  Please fix this return type code until there is no exception\")\n",
    "    print('  Error:', e)\n"
   ]
  },
  {
   "cell_type": "code",
   "execution_count": null,
   "id": "electric-filter",
   "metadata": {},
   "outputs": [],
   "source": [
    "# sklearn.covariance._robust_covariance.MinCovDet._get_tags\n",
    "try:\n",
    "    obj = class_constructor() # noqa F821\n",
    "    ret = obj._get_tags()\n",
    "    type_sklearn_covariance__robust_covariance_MinCovDet__get_tags = getattr(ret, '__module__', 'none') + '.' + ret.__class__.__name__\n",
    "    print('✅ sklearn.covariance._robust_covariance.MinCovDet._get_tags: ', type(ret)) # noqa E501\n",
    "except Exception as e:\n",
    "    type_sklearn_covariance__robust_covariance_MinCovDet__get_tags = '_syft_missing'\n",
    "    print('❌ sklearn.covariance._robust_covariance.MinCovDet._get_tags: Return unavailable') # noqa E501\n",
    "    print(\"  Please fix this return type code until there is no exception\")\n",
    "    print('  Error:', e)\n"
   ]
  },
  {
   "cell_type": "code",
   "execution_count": null,
   "id": "wound-relation",
   "metadata": {},
   "outputs": [],
   "source": [
    "# sklearn.covariance._robust_covariance.MinCovDet._more_tags\n",
    "try:\n",
    "    obj = class_constructor() # noqa F821\n",
    "    ret = obj._more_tags()\n",
    "    type_sklearn_covariance__robust_covariance_MinCovDet__more_tags = getattr(ret, '__module__', 'none') + '.' + ret.__class__.__name__\n",
    "    print('✅ sklearn.covariance._robust_covariance.MinCovDet._more_tags: ', type(ret)) # noqa E501\n",
    "except Exception as e:\n",
    "    type_sklearn_covariance__robust_covariance_MinCovDet__more_tags = '_syft_missing'\n",
    "    print('❌ sklearn.covariance._robust_covariance.MinCovDet._more_tags: Return unavailable') # noqa E501\n",
    "    print(\"  Please fix this return type code until there is no exception\")\n",
    "    print('  Error:', e)\n"
   ]
  },
  {
   "cell_type": "code",
   "execution_count": null,
   "id": "adjusted-credit",
   "metadata": {},
   "outputs": [],
   "source": [
    "# sklearn.covariance._robust_covariance.MinCovDet.empirical_covariance\n",
    "try:\n",
    "    obj = class_constructor() # noqa F821\n",
    "    ret = obj.empirical_covariance()\n",
    "    type_sklearn_covariance__robust_covariance_MinCovDet_empirical_covariance = getattr(ret, '__module__', 'none') + '.' + ret.__class__.__name__\n",
    "    print('✅ sklearn.covariance._robust_covariance.MinCovDet.empirical_covariance: ', type(ret)) # noqa E501\n",
    "except Exception as e:\n",
    "    type_sklearn_covariance__robust_covariance_MinCovDet_empirical_covariance = '_syft_missing'\n",
    "    print('❌ sklearn.covariance._robust_covariance.MinCovDet.empirical_covariance: Return unavailable') # noqa E501\n",
    "    print(\"  Please fix this return type code until there is no exception\")\n",
    "    print('  Error:', e)\n"
   ]
  },
  {
   "cell_type": "code",
   "execution_count": null,
   "id": "solar-electronics",
   "metadata": {},
   "outputs": [],
   "source": [
    "# sklearn.covariance._robust_covariance.MinCovDet._repr_html_\n",
    "try:\n",
    "    obj = class_constructor()\n",
    "    ret = obj._repr_html_\n",
    "    type_sklearn_covariance__robust_covariance_MinCovDet__repr_html_ = getattr(ret, '__module__', 'none') + '.' + ret.__class__.__name__\n",
    "    print('✅ sklearn.covariance._robust_covariance.MinCovDet._repr_html_:', type(ret)) # noqa E501\n",
    "except Exception as e:\n",
    "    type_sklearn_covariance__robust_covariance_MinCovDet__repr_html_ = '_syft_missing'\n",
    "    print('❌ sklearn.covariance._robust_covariance.MinCovDet._repr_html_: Return unavailable') # noqa E501\n",
    "    print(\"  Please fix this return type code until there is no exception\")\n",
    "    print('  Error:', e)\n"
   ]
  },
  {
   "cell_type": "code",
   "execution_count": null,
   "id": "integrated-scholarship",
   "metadata": {},
   "outputs": [],
   "source": [
    "# sklearn.covariance._robust_covariance.MinCovDet._repr_html_inner\n",
    "try:\n",
    "    obj = class_constructor() # noqa F821\n",
    "    ret = obj._repr_html_inner()\n",
    "    type_sklearn_covariance__robust_covariance_MinCovDet__repr_html_inner = getattr(ret, '__module__', 'none') + '.' + ret.__class__.__name__\n",
    "    print('✅ sklearn.covariance._robust_covariance.MinCovDet._repr_html_inner: ', type(ret)) # noqa E501\n",
    "except Exception as e:\n",
    "    type_sklearn_covariance__robust_covariance_MinCovDet__repr_html_inner = '_syft_missing'\n",
    "    print('❌ sklearn.covariance._robust_covariance.MinCovDet._repr_html_inner: Return unavailable') # noqa E501\n",
    "    print(\"  Please fix this return type code until there is no exception\")\n",
    "    print('  Error:', e)\n"
   ]
  },
  {
   "cell_type": "code",
   "execution_count": null,
   "id": "stupid-consolidation",
   "metadata": {},
   "outputs": [],
   "source": [
    "# sklearn.covariance._robust_covariance.MinCovDet._repr_mimebundle_\n",
    "try:\n",
    "    obj = class_constructor() # noqa F821\n",
    "    ret = obj._repr_mimebundle_()\n",
    "    type_sklearn_covariance__robust_covariance_MinCovDet__repr_mimebundle_ = getattr(ret, '__module__', 'none') + '.' + ret.__class__.__name__\n",
    "    print('✅ sklearn.covariance._robust_covariance.MinCovDet._repr_mimebundle_: ', type(ret)) # noqa E501\n",
    "except Exception as e:\n",
    "    type_sklearn_covariance__robust_covariance_MinCovDet__repr_mimebundle_ = '_syft_missing'\n",
    "    print('❌ sklearn.covariance._robust_covariance.MinCovDet._repr_mimebundle_: Return unavailable') # noqa E501\n",
    "    print(\"  Please fix this return type code until there is no exception\")\n",
    "    print('  Error:', e)\n"
   ]
  },
  {
   "cell_type": "code",
   "execution_count": null,
   "id": "thrown-tsunami",
   "metadata": {},
   "outputs": [],
   "source": [
    "# sklearn.covariance._robust_covariance.MinCovDet._set_covariance\n",
    "try:\n",
    "    obj = class_constructor() # noqa F821\n",
    "    ret = obj._set_covariance()\n",
    "    type_sklearn_covariance__robust_covariance_MinCovDet__set_covariance = getattr(ret, '__module__', 'none') + '.' + ret.__class__.__name__\n",
    "    print('✅ sklearn.covariance._robust_covariance.MinCovDet._set_covariance: ', type(ret)) # noqa E501\n",
    "except Exception as e:\n",
    "    type_sklearn_covariance__robust_covariance_MinCovDet__set_covariance = '_syft_missing'\n",
    "    print('❌ sklearn.covariance._robust_covariance.MinCovDet._set_covariance: Return unavailable') # noqa E501\n",
    "    print(\"  Please fix this return type code until there is no exception\")\n",
    "    print('  Error:', e)\n"
   ]
  },
  {
   "cell_type": "code",
   "execution_count": null,
   "id": "accessory-difficulty",
   "metadata": {},
   "outputs": [],
   "source": [
    "# sklearn.covariance._robust_covariance.MinCovDet._validate_data\n",
    "try:\n",
    "    obj = class_constructor() # noqa F821\n",
    "    ret = obj._validate_data()\n",
    "    type_sklearn_covariance__robust_covariance_MinCovDet__validate_data = getattr(ret, '__module__', 'none') + '.' + ret.__class__.__name__\n",
    "    print('✅ sklearn.covariance._robust_covariance.MinCovDet._validate_data: ', type(ret)) # noqa E501\n",
    "except Exception as e:\n",
    "    type_sklearn_covariance__robust_covariance_MinCovDet__validate_data = '_syft_missing'\n",
    "    print('❌ sklearn.covariance._robust_covariance.MinCovDet._validate_data: Return unavailable') # noqa E501\n",
    "    print(\"  Please fix this return type code until there is no exception\")\n",
    "    print('  Error:', e)\n"
   ]
  },
  {
   "cell_type": "code",
   "execution_count": null,
   "id": "creative-compilation",
   "metadata": {},
   "outputs": [],
   "source": [
    "# sklearn.covariance._robust_covariance.MinCovDet.correct_covariance\n",
    "try:\n",
    "    obj = class_constructor() # noqa F821\n",
    "    ret = obj.correct_covariance()\n",
    "    type_sklearn_covariance__robust_covariance_MinCovDet_correct_covariance = getattr(ret, '__module__', 'none') + '.' + ret.__class__.__name__\n",
    "    print('✅ sklearn.covariance._robust_covariance.MinCovDet.correct_covariance: ', type(ret)) # noqa E501\n",
    "except Exception as e:\n",
    "    type_sklearn_covariance__robust_covariance_MinCovDet_correct_covariance = '_syft_missing'\n",
    "    print('❌ sklearn.covariance._robust_covariance.MinCovDet.correct_covariance: Return unavailable') # noqa E501\n",
    "    print(\"  Please fix this return type code until there is no exception\")\n",
    "    print('  Error:', e)\n"
   ]
  },
  {
   "cell_type": "code",
   "execution_count": null,
   "id": "secret-regular",
   "metadata": {},
   "outputs": [],
   "source": [
    "# sklearn.covariance._robust_covariance.MinCovDet.error_norm\n",
    "try:\n",
    "    obj = class_constructor() # noqa F821\n",
    "    ret = obj.error_norm()\n",
    "    type_sklearn_covariance__robust_covariance_MinCovDet_error_norm = getattr(ret, '__module__', 'none') + '.' + ret.__class__.__name__\n",
    "    print('✅ sklearn.covariance._robust_covariance.MinCovDet.error_norm: ', type(ret)) # noqa E501\n",
    "except Exception as e:\n",
    "    type_sklearn_covariance__robust_covariance_MinCovDet_error_norm = '_syft_missing'\n",
    "    print('❌ sklearn.covariance._robust_covariance.MinCovDet.error_norm: Return unavailable') # noqa E501\n",
    "    print(\"  Please fix this return type code until there is no exception\")\n",
    "    print('  Error:', e)\n"
   ]
  },
  {
   "cell_type": "code",
   "execution_count": null,
   "id": "established-concentration",
   "metadata": {},
   "outputs": [],
   "source": [
    "# sklearn.covariance._robust_covariance.MinCovDet.fit\n",
    "try:\n",
    "    obj = class_constructor() # noqa F821\n",
    "    ret = obj.fit()\n",
    "    type_sklearn_covariance__robust_covariance_MinCovDet_fit = getattr(ret, '__module__', 'none') + '.' + ret.__class__.__name__\n",
    "    print('✅ sklearn.covariance._robust_covariance.MinCovDet.fit: ', type(ret)) # noqa E501\n",
    "except Exception as e:\n",
    "    type_sklearn_covariance__robust_covariance_MinCovDet_fit = '_syft_missing'\n",
    "    print('❌ sklearn.covariance._robust_covariance.MinCovDet.fit: Return unavailable') # noqa E501\n",
    "    print(\"  Please fix this return type code until there is no exception\")\n",
    "    print('  Error:', e)\n"
   ]
  },
  {
   "cell_type": "code",
   "execution_count": null,
   "id": "serious-franchise",
   "metadata": {},
   "outputs": [],
   "source": [
    "# sklearn.covariance._robust_covariance.MinCovDet.get_params\n",
    "try:\n",
    "    obj = class_constructor() # noqa F821\n",
    "    ret = obj.get_params()\n",
    "    type_sklearn_covariance__robust_covariance_MinCovDet_get_params = getattr(ret, '__module__', 'none') + '.' + ret.__class__.__name__\n",
    "    print('✅ sklearn.covariance._robust_covariance.MinCovDet.get_params: ', type(ret)) # noqa E501\n",
    "except Exception as e:\n",
    "    type_sklearn_covariance__robust_covariance_MinCovDet_get_params = '_syft_missing'\n",
    "    print('❌ sklearn.covariance._robust_covariance.MinCovDet.get_params: Return unavailable') # noqa E501\n",
    "    print(\"  Please fix this return type code until there is no exception\")\n",
    "    print('  Error:', e)\n"
   ]
  },
  {
   "cell_type": "code",
   "execution_count": null,
   "id": "fantastic-medicine",
   "metadata": {},
   "outputs": [],
   "source": [
    "# sklearn.covariance._robust_covariance.MinCovDet.get_precision\n",
    "try:\n",
    "    obj = class_constructor() # noqa F821\n",
    "    ret = obj.get_precision()\n",
    "    type_sklearn_covariance__robust_covariance_MinCovDet_get_precision = getattr(ret, '__module__', 'none') + '.' + ret.__class__.__name__\n",
    "    print('✅ sklearn.covariance._robust_covariance.MinCovDet.get_precision: ', type(ret)) # noqa E501\n",
    "except Exception as e:\n",
    "    type_sklearn_covariance__robust_covariance_MinCovDet_get_precision = '_syft_missing'\n",
    "    print('❌ sklearn.covariance._robust_covariance.MinCovDet.get_precision: Return unavailable') # noqa E501\n",
    "    print(\"  Please fix this return type code until there is no exception\")\n",
    "    print('  Error:', e)\n"
   ]
  },
  {
   "cell_type": "code",
   "execution_count": null,
   "id": "sharp-color",
   "metadata": {},
   "outputs": [],
   "source": [
    "# sklearn.covariance._robust_covariance.MinCovDet.mahalanobis\n",
    "try:\n",
    "    obj = class_constructor() # noqa F821\n",
    "    ret = obj.mahalanobis()\n",
    "    type_sklearn_covariance__robust_covariance_MinCovDet_mahalanobis = getattr(ret, '__module__', 'none') + '.' + ret.__class__.__name__\n",
    "    print('✅ sklearn.covariance._robust_covariance.MinCovDet.mahalanobis: ', type(ret)) # noqa E501\n",
    "except Exception as e:\n",
    "    type_sklearn_covariance__robust_covariance_MinCovDet_mahalanobis = '_syft_missing'\n",
    "    print('❌ sklearn.covariance._robust_covariance.MinCovDet.mahalanobis: Return unavailable') # noqa E501\n",
    "    print(\"  Please fix this return type code until there is no exception\")\n",
    "    print('  Error:', e)\n"
   ]
  },
  {
   "cell_type": "code",
   "execution_count": null,
   "id": "posted-research",
   "metadata": {},
   "outputs": [],
   "source": [
    "# sklearn.covariance._robust_covariance.MinCovDet.reweight_covariance\n",
    "try:\n",
    "    obj = class_constructor() # noqa F821\n",
    "    ret = obj.reweight_covariance()\n",
    "    type_sklearn_covariance__robust_covariance_MinCovDet_reweight_covariance = getattr(ret, '__module__', 'none') + '.' + ret.__class__.__name__\n",
    "    print('✅ sklearn.covariance._robust_covariance.MinCovDet.reweight_covariance: ', type(ret)) # noqa E501\n",
    "except Exception as e:\n",
    "    type_sklearn_covariance__robust_covariance_MinCovDet_reweight_covariance = '_syft_missing'\n",
    "    print('❌ sklearn.covariance._robust_covariance.MinCovDet.reweight_covariance: Return unavailable') # noqa E501\n",
    "    print(\"  Please fix this return type code until there is no exception\")\n",
    "    print('  Error:', e)\n"
   ]
  },
  {
   "cell_type": "code",
   "execution_count": null,
   "id": "sized-faculty",
   "metadata": {},
   "outputs": [],
   "source": [
    "# sklearn.covariance._robust_covariance.MinCovDet.score\n",
    "try:\n",
    "    obj = class_constructor() # noqa F821\n",
    "    ret = obj.score()\n",
    "    type_sklearn_covariance__robust_covariance_MinCovDet_score = getattr(ret, '__module__', 'none') + '.' + ret.__class__.__name__\n",
    "    print('✅ sklearn.covariance._robust_covariance.MinCovDet.score: ', type(ret)) # noqa E501\n",
    "except Exception as e:\n",
    "    type_sklearn_covariance__robust_covariance_MinCovDet_score = '_syft_missing'\n",
    "    print('❌ sklearn.covariance._robust_covariance.MinCovDet.score: Return unavailable') # noqa E501\n",
    "    print(\"  Please fix this return type code until there is no exception\")\n",
    "    print('  Error:', e)\n"
   ]
  },
  {
   "cell_type": "code",
   "execution_count": null,
   "id": "steady-uncle",
   "metadata": {},
   "outputs": [],
   "source": [
    "# sklearn.covariance._robust_covariance.MinCovDet.set_params\n",
    "try:\n",
    "    obj = class_constructor() # noqa F821\n",
    "    ret = obj.set_params()\n",
    "    type_sklearn_covariance__robust_covariance_MinCovDet_set_params = getattr(ret, '__module__', 'none') + '.' + ret.__class__.__name__\n",
    "    print('✅ sklearn.covariance._robust_covariance.MinCovDet.set_params: ', type(ret)) # noqa E501\n",
    "except Exception as e:\n",
    "    type_sklearn_covariance__robust_covariance_MinCovDet_set_params = '_syft_missing'\n",
    "    print('❌ sklearn.covariance._robust_covariance.MinCovDet.set_params: Return unavailable') # noqa E501\n",
    "    print(\"  Please fix this return type code until there is no exception\")\n",
    "    print('  Error:', e)\n"
   ]
  }
 ],
 "metadata": {},
 "nbformat": 4,
 "nbformat_minor": 5
}
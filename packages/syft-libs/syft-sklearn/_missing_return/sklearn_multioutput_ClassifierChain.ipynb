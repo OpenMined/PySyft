{
 "cells": [
  {
   "cell_type": "markdown",
   "id": "banned-lawsuit",
   "metadata": {},
   "source": [
    "## sklearn.multioutput.ClassifierChain"
   ]
  },
  {
   "cell_type": "code",
   "execution_count": null,
   "id": "upper-bargain",
   "metadata": {},
   "outputs": [],
   "source": [
    "import sklearn\n",
    "def class_constructor(*args, **kwargs):\n",
    "    obj = sklearn.multioutput.ClassifierChain()\n",
    "    return obj\n"
   ]
  },
  {
   "cell_type": "code",
   "execution_count": null,
   "id": "brutal-practitioner",
   "metadata": {},
   "outputs": [],
   "source": [
    "# sklearn.multioutput.ClassifierChain.__getstate__\n",
    "try:\n",
    "    obj = class_constructor() # noqa F821\n",
    "    ret = obj.__getstate__()\n",
    "    type_sklearn_multioutput_ClassifierChain___getstate__ = getattr(ret, '__module__', 'none') + '.' + ret.__class__.__name__\n",
    "    print('✅ sklearn.multioutput.ClassifierChain.__getstate__: ', type(ret)) # noqa E501\n",
    "except Exception as e:\n",
    "    type_sklearn_multioutput_ClassifierChain___getstate__ = '_syft_missing'\n",
    "    print('❌ sklearn.multioutput.ClassifierChain.__getstate__: Return unavailable') # noqa E501\n",
    "    print(\"  Please fix this return type code until there is no exception\")\n",
    "    print('  Error:', e)\n"
   ]
  },
  {
   "cell_type": "code",
   "execution_count": null,
   "id": "monthly-damage",
   "metadata": {},
   "outputs": [],
   "source": [
    "# sklearn.multioutput.ClassifierChain.__repr__\n",
    "try:\n",
    "    obj = class_constructor() # noqa F821\n",
    "    ret = obj.__repr__()\n",
    "    type_sklearn_multioutput_ClassifierChain___repr__ = getattr(ret, '__module__', 'none') + '.' + ret.__class__.__name__\n",
    "    print('✅ sklearn.multioutput.ClassifierChain.__repr__: ', type(ret)) # noqa E501\n",
    "except Exception as e:\n",
    "    type_sklearn_multioutput_ClassifierChain___repr__ = '_syft_missing'\n",
    "    print('❌ sklearn.multioutput.ClassifierChain.__repr__: Return unavailable') # noqa E501\n",
    "    print(\"  Please fix this return type code until there is no exception\")\n",
    "    print('  Error:', e)\n"
   ]
  },
  {
   "cell_type": "code",
   "execution_count": null,
   "id": "harmful-sending",
   "metadata": {},
   "outputs": [],
   "source": [
    "# sklearn.multioutput.ClassifierChain.__setstate__\n",
    "try:\n",
    "    obj = class_constructor() # noqa F821\n",
    "    ret = obj.__setstate__()\n",
    "    type_sklearn_multioutput_ClassifierChain___setstate__ = getattr(ret, '__module__', 'none') + '.' + ret.__class__.__name__\n",
    "    print('✅ sklearn.multioutput.ClassifierChain.__setstate__: ', type(ret)) # noqa E501\n",
    "except Exception as e:\n",
    "    type_sklearn_multioutput_ClassifierChain___setstate__ = '_syft_missing'\n",
    "    print('❌ sklearn.multioutput.ClassifierChain.__setstate__: Return unavailable') # noqa E501\n",
    "    print(\"  Please fix this return type code until there is no exception\")\n",
    "    print('  Error:', e)\n"
   ]
  },
  {
   "cell_type": "code",
   "execution_count": null,
   "id": "naked-payment",
   "metadata": {},
   "outputs": [],
   "source": [
    "# sklearn.multioutput.ClassifierChain._check_n_features\n",
    "try:\n",
    "    obj = class_constructor() # noqa F821\n",
    "    ret = obj._check_n_features()\n",
    "    type_sklearn_multioutput_ClassifierChain__check_n_features = getattr(ret, '__module__', 'none') + '.' + ret.__class__.__name__\n",
    "    print('✅ sklearn.multioutput.ClassifierChain._check_n_features: ', type(ret)) # noqa E501\n",
    "except Exception as e:\n",
    "    type_sklearn_multioutput_ClassifierChain__check_n_features = '_syft_missing'\n",
    "    print('❌ sklearn.multioutput.ClassifierChain._check_n_features: Return unavailable') # noqa E501\n",
    "    print(\"  Please fix this return type code until there is no exception\")\n",
    "    print('  Error:', e)\n"
   ]
  },
  {
   "cell_type": "code",
   "execution_count": null,
   "id": "loving-foster",
   "metadata": {},
   "outputs": [],
   "source": [
    "# sklearn.multioutput.ClassifierChain._get_param_names\n",
    "try:\n",
    "    obj = class_constructor() # noqa F821\n",
    "    ret = obj._get_param_names()\n",
    "    type_sklearn_multioutput_ClassifierChain__get_param_names = getattr(ret, '__module__', 'none') + '.' + ret.__class__.__name__\n",
    "    print('✅ sklearn.multioutput.ClassifierChain._get_param_names: ', type(ret)) # noqa E501\n",
    "except Exception as e:\n",
    "    type_sklearn_multioutput_ClassifierChain__get_param_names = '_syft_missing'\n",
    "    print('❌ sklearn.multioutput.ClassifierChain._get_param_names: Return unavailable') # noqa E501\n",
    "    print(\"  Please fix this return type code until there is no exception\")\n",
    "    print('  Error:', e)\n"
   ]
  },
  {
   "cell_type": "code",
   "execution_count": null,
   "id": "published-blend",
   "metadata": {},
   "outputs": [],
   "source": [
    "# sklearn.multioutput.ClassifierChain._get_tags\n",
    "try:\n",
    "    obj = class_constructor() # noqa F821\n",
    "    ret = obj._get_tags()\n",
    "    type_sklearn_multioutput_ClassifierChain__get_tags = getattr(ret, '__module__', 'none') + '.' + ret.__class__.__name__\n",
    "    print('✅ sklearn.multioutput.ClassifierChain._get_tags: ', type(ret)) # noqa E501\n",
    "except Exception as e:\n",
    "    type_sklearn_multioutput_ClassifierChain__get_tags = '_syft_missing'\n",
    "    print('❌ sklearn.multioutput.ClassifierChain._get_tags: Return unavailable') # noqa E501\n",
    "    print(\"  Please fix this return type code until there is no exception\")\n",
    "    print('  Error:', e)\n"
   ]
  },
  {
   "cell_type": "code",
   "execution_count": null,
   "id": "measured-charge",
   "metadata": {},
   "outputs": [],
   "source": [
    "# sklearn.multioutput.ClassifierChain._more_tags\n",
    "try:\n",
    "    obj = class_constructor() # noqa F821\n",
    "    ret = obj._more_tags()\n",
    "    type_sklearn_multioutput_ClassifierChain__more_tags = getattr(ret, '__module__', 'none') + '.' + ret.__class__.__name__\n",
    "    print('✅ sklearn.multioutput.ClassifierChain._more_tags: ', type(ret)) # noqa E501\n",
    "except Exception as e:\n",
    "    type_sklearn_multioutput_ClassifierChain__more_tags = '_syft_missing'\n",
    "    print('❌ sklearn.multioutput.ClassifierChain._more_tags: Return unavailable') # noqa E501\n",
    "    print(\"  Please fix this return type code until there is no exception\")\n",
    "    print('  Error:', e)\n"
   ]
  },
  {
   "cell_type": "code",
   "execution_count": null,
   "id": "rotary-australian",
   "metadata": {},
   "outputs": [],
   "source": [
    "# sklearn.multioutput.ClassifierChain._repr_html_\n",
    "try:\n",
    "    obj = class_constructor()\n",
    "    ret = obj._repr_html_\n",
    "    type_sklearn_multioutput_ClassifierChain__repr_html_ = getattr(ret, '__module__', 'none') + '.' + ret.__class__.__name__\n",
    "    print('✅ sklearn.multioutput.ClassifierChain._repr_html_:', type(ret)) # noqa E501\n",
    "except Exception as e:\n",
    "    type_sklearn_multioutput_ClassifierChain__repr_html_ = '_syft_missing'\n",
    "    print('❌ sklearn.multioutput.ClassifierChain._repr_html_: Return unavailable') # noqa E501\n",
    "    print(\"  Please fix this return type code until there is no exception\")\n",
    "    print('  Error:', e)\n"
   ]
  },
  {
   "cell_type": "code",
   "execution_count": null,
   "id": "aquatic-prime",
   "metadata": {},
   "outputs": [],
   "source": [
    "# sklearn.multioutput.ClassifierChain._repr_html_inner\n",
    "try:\n",
    "    obj = class_constructor() # noqa F821\n",
    "    ret = obj._repr_html_inner()\n",
    "    type_sklearn_multioutput_ClassifierChain__repr_html_inner = getattr(ret, '__module__', 'none') + '.' + ret.__class__.__name__\n",
    "    print('✅ sklearn.multioutput.ClassifierChain._repr_html_inner: ', type(ret)) # noqa E501\n",
    "except Exception as e:\n",
    "    type_sklearn_multioutput_ClassifierChain__repr_html_inner = '_syft_missing'\n",
    "    print('❌ sklearn.multioutput.ClassifierChain._repr_html_inner: Return unavailable') # noqa E501\n",
    "    print(\"  Please fix this return type code until there is no exception\")\n",
    "    print('  Error:', e)\n"
   ]
  },
  {
   "cell_type": "code",
   "execution_count": null,
   "id": "auburn-reference",
   "metadata": {},
   "outputs": [],
   "source": [
    "# sklearn.multioutput.ClassifierChain._repr_mimebundle_\n",
    "try:\n",
    "    obj = class_constructor() # noqa F821\n",
    "    ret = obj._repr_mimebundle_()\n",
    "    type_sklearn_multioutput_ClassifierChain__repr_mimebundle_ = getattr(ret, '__module__', 'none') + '.' + ret.__class__.__name__\n",
    "    print('✅ sklearn.multioutput.ClassifierChain._repr_mimebundle_: ', type(ret)) # noqa E501\n",
    "except Exception as e:\n",
    "    type_sklearn_multioutput_ClassifierChain__repr_mimebundle_ = '_syft_missing'\n",
    "    print('❌ sklearn.multioutput.ClassifierChain._repr_mimebundle_: Return unavailable') # noqa E501\n",
    "    print(\"  Please fix this return type code until there is no exception\")\n",
    "    print('  Error:', e)\n"
   ]
  },
  {
   "cell_type": "code",
   "execution_count": null,
   "id": "rational-waterproof",
   "metadata": {},
   "outputs": [],
   "source": [
    "# sklearn.multioutput.ClassifierChain._validate_data\n",
    "try:\n",
    "    obj = class_constructor() # noqa F821\n",
    "    ret = obj._validate_data()\n",
    "    type_sklearn_multioutput_ClassifierChain__validate_data = getattr(ret, '__module__', 'none') + '.' + ret.__class__.__name__\n",
    "    print('✅ sklearn.multioutput.ClassifierChain._validate_data: ', type(ret)) # noqa E501\n",
    "except Exception as e:\n",
    "    type_sklearn_multioutput_ClassifierChain__validate_data = '_syft_missing'\n",
    "    print('❌ sklearn.multioutput.ClassifierChain._validate_data: Return unavailable') # noqa E501\n",
    "    print(\"  Please fix this return type code until there is no exception\")\n",
    "    print('  Error:', e)\n"
   ]
  },
  {
   "cell_type": "code",
   "execution_count": null,
   "id": "instructional-laptop",
   "metadata": {},
   "outputs": [],
   "source": [
    "# sklearn.multioutput.ClassifierChain.decision_function\n",
    "try:\n",
    "    obj = class_constructor() # noqa F821\n",
    "    ret = obj.decision_function()\n",
    "    type_sklearn_multioutput_ClassifierChain_decision_function = getattr(ret, '__module__', 'none') + '.' + ret.__class__.__name__\n",
    "    print('✅ sklearn.multioutput.ClassifierChain.decision_function: ', type(ret)) # noqa E501\n",
    "except Exception as e:\n",
    "    type_sklearn_multioutput_ClassifierChain_decision_function = '_syft_missing'\n",
    "    print('❌ sklearn.multioutput.ClassifierChain.decision_function: Return unavailable') # noqa E501\n",
    "    print(\"  Please fix this return type code until there is no exception\")\n",
    "    print('  Error:', e)\n"
   ]
  },
  {
   "cell_type": "code",
   "execution_count": null,
   "id": "billion-lafayette",
   "metadata": {},
   "outputs": [],
   "source": [
    "# sklearn.multioutput.ClassifierChain.fit\n",
    "try:\n",
    "    obj = class_constructor() # noqa F821\n",
    "    ret = obj.fit()\n",
    "    type_sklearn_multioutput_ClassifierChain_fit = getattr(ret, '__module__', 'none') + '.' + ret.__class__.__name__\n",
    "    print('✅ sklearn.multioutput.ClassifierChain.fit: ', type(ret)) # noqa E501\n",
    "except Exception as e:\n",
    "    type_sklearn_multioutput_ClassifierChain_fit = '_syft_missing'\n",
    "    print('❌ sklearn.multioutput.ClassifierChain.fit: Return unavailable') # noqa E501\n",
    "    print(\"  Please fix this return type code until there is no exception\")\n",
    "    print('  Error:', e)\n"
   ]
  },
  {
   "cell_type": "code",
   "execution_count": null,
   "id": "comfortable-ethiopia",
   "metadata": {},
   "outputs": [],
   "source": [
    "# sklearn.multioutput.ClassifierChain.get_params\n",
    "try:\n",
    "    obj = class_constructor() # noqa F821\n",
    "    ret = obj.get_params()\n",
    "    type_sklearn_multioutput_ClassifierChain_get_params = getattr(ret, '__module__', 'none') + '.' + ret.__class__.__name__\n",
    "    print('✅ sklearn.multioutput.ClassifierChain.get_params: ', type(ret)) # noqa E501\n",
    "except Exception as e:\n",
    "    type_sklearn_multioutput_ClassifierChain_get_params = '_syft_missing'\n",
    "    print('❌ sklearn.multioutput.ClassifierChain.get_params: Return unavailable') # noqa E501\n",
    "    print(\"  Please fix this return type code until there is no exception\")\n",
    "    print('  Error:', e)\n"
   ]
  },
  {
   "cell_type": "code",
   "execution_count": null,
   "id": "damaged-hindu",
   "metadata": {},
   "outputs": [],
   "source": [
    "# sklearn.multioutput.ClassifierChain.predict\n",
    "try:\n",
    "    obj = class_constructor() # noqa F821\n",
    "    ret = obj.predict()\n",
    "    type_sklearn_multioutput_ClassifierChain_predict = getattr(ret, '__module__', 'none') + '.' + ret.__class__.__name__\n",
    "    print('✅ sklearn.multioutput.ClassifierChain.predict: ', type(ret)) # noqa E501\n",
    "except Exception as e:\n",
    "    type_sklearn_multioutput_ClassifierChain_predict = '_syft_missing'\n",
    "    print('❌ sklearn.multioutput.ClassifierChain.predict: Return unavailable') # noqa E501\n",
    "    print(\"  Please fix this return type code until there is no exception\")\n",
    "    print('  Error:', e)\n"
   ]
  },
  {
   "cell_type": "code",
   "execution_count": null,
   "id": "tracked-buying",
   "metadata": {},
   "outputs": [],
   "source": [
    "# sklearn.multioutput.ClassifierChain.predict_proba\n",
    "try:\n",
    "    obj = class_constructor() # noqa F821\n",
    "    ret = obj.predict_proba()\n",
    "    type_sklearn_multioutput_ClassifierChain_predict_proba = getattr(ret, '__module__', 'none') + '.' + ret.__class__.__name__\n",
    "    print('✅ sklearn.multioutput.ClassifierChain.predict_proba: ', type(ret)) # noqa E501\n",
    "except Exception as e:\n",
    "    type_sklearn_multioutput_ClassifierChain_predict_proba = '_syft_missing'\n",
    "    print('❌ sklearn.multioutput.ClassifierChain.predict_proba: Return unavailable') # noqa E501\n",
    "    print(\"  Please fix this return type code until there is no exception\")\n",
    "    print('  Error:', e)\n"
   ]
  },
  {
   "cell_type": "code",
   "execution_count": null,
   "id": "timely-migration",
   "metadata": {},
   "outputs": [],
   "source": [
    "# sklearn.multioutput.ClassifierChain.score\n",
    "try:\n",
    "    obj = class_constructor() # noqa F821\n",
    "    ret = obj.score()\n",
    "    type_sklearn_multioutput_ClassifierChain_score = getattr(ret, '__module__', 'none') + '.' + ret.__class__.__name__\n",
    "    print('✅ sklearn.multioutput.ClassifierChain.score: ', type(ret)) # noqa E501\n",
    "except Exception as e:\n",
    "    type_sklearn_multioutput_ClassifierChain_score = '_syft_missing'\n",
    "    print('❌ sklearn.multioutput.ClassifierChain.score: Return unavailable') # noqa E501\n",
    "    print(\"  Please fix this return type code until there is no exception\")\n",
    "    print('  Error:', e)\n"
   ]
  },
  {
   "cell_type": "code",
   "execution_count": null,
   "id": "destroyed-savage",
   "metadata": {},
   "outputs": [],
   "source": [
    "# sklearn.multioutput.ClassifierChain.set_params\n",
    "try:\n",
    "    obj = class_constructor() # noqa F821\n",
    "    ret = obj.set_params()\n",
    "    type_sklearn_multioutput_ClassifierChain_set_params = getattr(ret, '__module__', 'none') + '.' + ret.__class__.__name__\n",
    "    print('✅ sklearn.multioutput.ClassifierChain.set_params: ', type(ret)) # noqa E501\n",
    "except Exception as e:\n",
    "    type_sklearn_multioutput_ClassifierChain_set_params = '_syft_missing'\n",
    "    print('❌ sklearn.multioutput.ClassifierChain.set_params: Return unavailable') # noqa E501\n",
    "    print(\"  Please fix this return type code until there is no exception\")\n",
    "    print('  Error:', e)\n"
   ]
  }
 ],
 "metadata": {},
 "nbformat": 4,
 "nbformat_minor": 5
}
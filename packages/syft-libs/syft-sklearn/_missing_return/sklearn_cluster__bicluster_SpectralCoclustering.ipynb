{
 "cells": [
  {
   "cell_type": "markdown",
   "id": "dutch-gravity",
   "metadata": {},
   "source": [
    "## sklearn.cluster._bicluster.SpectralCoclustering"
   ]
  },
  {
   "cell_type": "code",
   "execution_count": null,
   "id": "lucky-fitness",
   "metadata": {},
   "outputs": [],
   "source": [
    "import sklearn\n",
    "def class_constructor(*args, **kwargs):\n",
    "    obj = sklearn.cluster._bicluster.SpectralCoclustering()\n",
    "    return obj\n"
   ]
  },
  {
   "cell_type": "code",
   "execution_count": null,
   "id": "guilty-music",
   "metadata": {},
   "outputs": [],
   "source": [
    "# sklearn.cluster._bicluster.SpectralCoclustering.__getstate__\n",
    "try:\n",
    "    obj = class_constructor() # noqa F821\n",
    "    ret = obj.__getstate__()\n",
    "    type_sklearn_cluster__bicluster_SpectralCoclustering___getstate__ = getattr(ret, '__module__', 'none') + '.' + ret.__class__.__name__\n",
    "    print('✅ sklearn.cluster._bicluster.SpectralCoclustering.__getstate__: ', type(ret)) # noqa E501\n",
    "except Exception as e:\n",
    "    type_sklearn_cluster__bicluster_SpectralCoclustering___getstate__ = '_syft_missing'\n",
    "    print('❌ sklearn.cluster._bicluster.SpectralCoclustering.__getstate__: Return unavailable') # noqa E501\n",
    "    print(\"  Please fix this return type code until there is no exception\")\n",
    "    print('  Error:', e)\n"
   ]
  },
  {
   "cell_type": "code",
   "execution_count": null,
   "id": "similar-pledge",
   "metadata": {},
   "outputs": [],
   "source": [
    "# sklearn.cluster._bicluster.SpectralCoclustering.__repr__\n",
    "try:\n",
    "    obj = class_constructor() # noqa F821\n",
    "    ret = obj.__repr__()\n",
    "    type_sklearn_cluster__bicluster_SpectralCoclustering___repr__ = getattr(ret, '__module__', 'none') + '.' + ret.__class__.__name__\n",
    "    print('✅ sklearn.cluster._bicluster.SpectralCoclustering.__repr__: ', type(ret)) # noqa E501\n",
    "except Exception as e:\n",
    "    type_sklearn_cluster__bicluster_SpectralCoclustering___repr__ = '_syft_missing'\n",
    "    print('❌ sklearn.cluster._bicluster.SpectralCoclustering.__repr__: Return unavailable') # noqa E501\n",
    "    print(\"  Please fix this return type code until there is no exception\")\n",
    "    print('  Error:', e)\n"
   ]
  },
  {
   "cell_type": "code",
   "execution_count": null,
   "id": "strange-backing",
   "metadata": {},
   "outputs": [],
   "source": [
    "# sklearn.cluster._bicluster.SpectralCoclustering.__setstate__\n",
    "try:\n",
    "    obj = class_constructor() # noqa F821\n",
    "    ret = obj.__setstate__()\n",
    "    type_sklearn_cluster__bicluster_SpectralCoclustering___setstate__ = getattr(ret, '__module__', 'none') + '.' + ret.__class__.__name__\n",
    "    print('✅ sklearn.cluster._bicluster.SpectralCoclustering.__setstate__: ', type(ret)) # noqa E501\n",
    "except Exception as e:\n",
    "    type_sklearn_cluster__bicluster_SpectralCoclustering___setstate__ = '_syft_missing'\n",
    "    print('❌ sklearn.cluster._bicluster.SpectralCoclustering.__setstate__: Return unavailable') # noqa E501\n",
    "    print(\"  Please fix this return type code until there is no exception\")\n",
    "    print('  Error:', e)\n"
   ]
  },
  {
   "cell_type": "code",
   "execution_count": null,
   "id": "electoral-valve",
   "metadata": {},
   "outputs": [],
   "source": [
    "# sklearn.cluster._bicluster.SpectralCoclustering._check_n_features\n",
    "try:\n",
    "    obj = class_constructor() # noqa F821\n",
    "    ret = obj._check_n_features()\n",
    "    type_sklearn_cluster__bicluster_SpectralCoclustering__check_n_features = getattr(ret, '__module__', 'none') + '.' + ret.__class__.__name__\n",
    "    print('✅ sklearn.cluster._bicluster.SpectralCoclustering._check_n_features: ', type(ret)) # noqa E501\n",
    "except Exception as e:\n",
    "    type_sklearn_cluster__bicluster_SpectralCoclustering__check_n_features = '_syft_missing'\n",
    "    print('❌ sklearn.cluster._bicluster.SpectralCoclustering._check_n_features: Return unavailable') # noqa E501\n",
    "    print(\"  Please fix this return type code until there is no exception\")\n",
    "    print('  Error:', e)\n"
   ]
  },
  {
   "cell_type": "code",
   "execution_count": null,
   "id": "working-arena",
   "metadata": {},
   "outputs": [],
   "source": [
    "# sklearn.cluster._bicluster.SpectralCoclustering._check_parameters\n",
    "try:\n",
    "    obj = class_constructor() # noqa F821\n",
    "    ret = obj._check_parameters()\n",
    "    type_sklearn_cluster__bicluster_SpectralCoclustering__check_parameters = getattr(ret, '__module__', 'none') + '.' + ret.__class__.__name__\n",
    "    print('✅ sklearn.cluster._bicluster.SpectralCoclustering._check_parameters: ', type(ret)) # noqa E501\n",
    "except Exception as e:\n",
    "    type_sklearn_cluster__bicluster_SpectralCoclustering__check_parameters = '_syft_missing'\n",
    "    print('❌ sklearn.cluster._bicluster.SpectralCoclustering._check_parameters: Return unavailable') # noqa E501\n",
    "    print(\"  Please fix this return type code until there is no exception\")\n",
    "    print('  Error:', e)\n"
   ]
  },
  {
   "cell_type": "code",
   "execution_count": null,
   "id": "legal-norwegian",
   "metadata": {},
   "outputs": [],
   "source": [
    "# sklearn.cluster._bicluster.SpectralCoclustering._fit\n",
    "try:\n",
    "    obj = class_constructor() # noqa F821\n",
    "    ret = obj._fit()\n",
    "    type_sklearn_cluster__bicluster_SpectralCoclustering__fit = getattr(ret, '__module__', 'none') + '.' + ret.__class__.__name__\n",
    "    print('✅ sklearn.cluster._bicluster.SpectralCoclustering._fit: ', type(ret)) # noqa E501\n",
    "except Exception as e:\n",
    "    type_sklearn_cluster__bicluster_SpectralCoclustering__fit = '_syft_missing'\n",
    "    print('❌ sklearn.cluster._bicluster.SpectralCoclustering._fit: Return unavailable') # noqa E501\n",
    "    print(\"  Please fix this return type code until there is no exception\")\n",
    "    print('  Error:', e)\n"
   ]
  },
  {
   "cell_type": "code",
   "execution_count": null,
   "id": "turned-browse",
   "metadata": {},
   "outputs": [],
   "source": [
    "# sklearn.cluster._bicluster.SpectralCoclustering._get_param_names\n",
    "try:\n",
    "    obj = class_constructor() # noqa F821\n",
    "    ret = obj._get_param_names()\n",
    "    type_sklearn_cluster__bicluster_SpectralCoclustering__get_param_names = getattr(ret, '__module__', 'none') + '.' + ret.__class__.__name__\n",
    "    print('✅ sklearn.cluster._bicluster.SpectralCoclustering._get_param_names: ', type(ret)) # noqa E501\n",
    "except Exception as e:\n",
    "    type_sklearn_cluster__bicluster_SpectralCoclustering__get_param_names = '_syft_missing'\n",
    "    print('❌ sklearn.cluster._bicluster.SpectralCoclustering._get_param_names: Return unavailable') # noqa E501\n",
    "    print(\"  Please fix this return type code until there is no exception\")\n",
    "    print('  Error:', e)\n"
   ]
  },
  {
   "cell_type": "code",
   "execution_count": null,
   "id": "supported-sydney",
   "metadata": {},
   "outputs": [],
   "source": [
    "# sklearn.cluster._bicluster.SpectralCoclustering._get_tags\n",
    "try:\n",
    "    obj = class_constructor() # noqa F821\n",
    "    ret = obj._get_tags()\n",
    "    type_sklearn_cluster__bicluster_SpectralCoclustering__get_tags = getattr(ret, '__module__', 'none') + '.' + ret.__class__.__name__\n",
    "    print('✅ sklearn.cluster._bicluster.SpectralCoclustering._get_tags: ', type(ret)) # noqa E501\n",
    "except Exception as e:\n",
    "    type_sklearn_cluster__bicluster_SpectralCoclustering__get_tags = '_syft_missing'\n",
    "    print('❌ sklearn.cluster._bicluster.SpectralCoclustering._get_tags: Return unavailable') # noqa E501\n",
    "    print(\"  Please fix this return type code until there is no exception\")\n",
    "    print('  Error:', e)\n"
   ]
  },
  {
   "cell_type": "code",
   "execution_count": null,
   "id": "killing-sculpture",
   "metadata": {},
   "outputs": [],
   "source": [
    "# sklearn.cluster._bicluster.SpectralCoclustering._k_means\n",
    "try:\n",
    "    obj = class_constructor() # noqa F821\n",
    "    ret = obj._k_means()\n",
    "    type_sklearn_cluster__bicluster_SpectralCoclustering__k_means = getattr(ret, '__module__', 'none') + '.' + ret.__class__.__name__\n",
    "    print('✅ sklearn.cluster._bicluster.SpectralCoclustering._k_means: ', type(ret)) # noqa E501\n",
    "except Exception as e:\n",
    "    type_sklearn_cluster__bicluster_SpectralCoclustering__k_means = '_syft_missing'\n",
    "    print('❌ sklearn.cluster._bicluster.SpectralCoclustering._k_means: Return unavailable') # noqa E501\n",
    "    print(\"  Please fix this return type code until there is no exception\")\n",
    "    print('  Error:', e)\n"
   ]
  },
  {
   "cell_type": "code",
   "execution_count": null,
   "id": "piano-cornell",
   "metadata": {},
   "outputs": [],
   "source": [
    "# sklearn.cluster._bicluster.SpectralCoclustering._more_tags\n",
    "try:\n",
    "    obj = class_constructor() # noqa F821\n",
    "    ret = obj._more_tags()\n",
    "    type_sklearn_cluster__bicluster_SpectralCoclustering__more_tags = getattr(ret, '__module__', 'none') + '.' + ret.__class__.__name__\n",
    "    print('✅ sklearn.cluster._bicluster.SpectralCoclustering._more_tags: ', type(ret)) # noqa E501\n",
    "except Exception as e:\n",
    "    type_sklearn_cluster__bicluster_SpectralCoclustering__more_tags = '_syft_missing'\n",
    "    print('❌ sklearn.cluster._bicluster.SpectralCoclustering._more_tags: Return unavailable') # noqa E501\n",
    "    print(\"  Please fix this return type code until there is no exception\")\n",
    "    print('  Error:', e)\n"
   ]
  },
  {
   "cell_type": "code",
   "execution_count": null,
   "id": "decent-infrared",
   "metadata": {},
   "outputs": [],
   "source": [
    "# sklearn.cluster._bicluster.SpectralCoclustering._repr_html_\n",
    "try:\n",
    "    obj = class_constructor()\n",
    "    ret = obj._repr_html_\n",
    "    type_sklearn_cluster__bicluster_SpectralCoclustering__repr_html_ = getattr(ret, '__module__', 'none') + '.' + ret.__class__.__name__\n",
    "    print('✅ sklearn.cluster._bicluster.SpectralCoclustering._repr_html_:', type(ret)) # noqa E501\n",
    "except Exception as e:\n",
    "    type_sklearn_cluster__bicluster_SpectralCoclustering__repr_html_ = '_syft_missing'\n",
    "    print('❌ sklearn.cluster._bicluster.SpectralCoclustering._repr_html_: Return unavailable') # noqa E501\n",
    "    print(\"  Please fix this return type code until there is no exception\")\n",
    "    print('  Error:', e)\n"
   ]
  },
  {
   "cell_type": "code",
   "execution_count": null,
   "id": "handy-insert",
   "metadata": {},
   "outputs": [],
   "source": [
    "# sklearn.cluster._bicluster.SpectralCoclustering._repr_html_inner\n",
    "try:\n",
    "    obj = class_constructor() # noqa F821\n",
    "    ret = obj._repr_html_inner()\n",
    "    type_sklearn_cluster__bicluster_SpectralCoclustering__repr_html_inner = getattr(ret, '__module__', 'none') + '.' + ret.__class__.__name__\n",
    "    print('✅ sklearn.cluster._bicluster.SpectralCoclustering._repr_html_inner: ', type(ret)) # noqa E501\n",
    "except Exception as e:\n",
    "    type_sklearn_cluster__bicluster_SpectralCoclustering__repr_html_inner = '_syft_missing'\n",
    "    print('❌ sklearn.cluster._bicluster.SpectralCoclustering._repr_html_inner: Return unavailable') # noqa E501\n",
    "    print(\"  Please fix this return type code until there is no exception\")\n",
    "    print('  Error:', e)\n"
   ]
  },
  {
   "cell_type": "code",
   "execution_count": null,
   "id": "recognized-agriculture",
   "metadata": {},
   "outputs": [],
   "source": [
    "# sklearn.cluster._bicluster.SpectralCoclustering._repr_mimebundle_\n",
    "try:\n",
    "    obj = class_constructor() # noqa F821\n",
    "    ret = obj._repr_mimebundle_()\n",
    "    type_sklearn_cluster__bicluster_SpectralCoclustering__repr_mimebundle_ = getattr(ret, '__module__', 'none') + '.' + ret.__class__.__name__\n",
    "    print('✅ sklearn.cluster._bicluster.SpectralCoclustering._repr_mimebundle_: ', type(ret)) # noqa E501\n",
    "except Exception as e:\n",
    "    type_sklearn_cluster__bicluster_SpectralCoclustering__repr_mimebundle_ = '_syft_missing'\n",
    "    print('❌ sklearn.cluster._bicluster.SpectralCoclustering._repr_mimebundle_: Return unavailable') # noqa E501\n",
    "    print(\"  Please fix this return type code until there is no exception\")\n",
    "    print('  Error:', e)\n"
   ]
  },
  {
   "cell_type": "code",
   "execution_count": null,
   "id": "ranking-oliver",
   "metadata": {},
   "outputs": [],
   "source": [
    "# sklearn.cluster._bicluster.SpectralCoclustering._svd\n",
    "try:\n",
    "    obj = class_constructor() # noqa F821\n",
    "    ret = obj._svd()\n",
    "    type_sklearn_cluster__bicluster_SpectralCoclustering__svd = getattr(ret, '__module__', 'none') + '.' + ret.__class__.__name__\n",
    "    print('✅ sklearn.cluster._bicluster.SpectralCoclustering._svd: ', type(ret)) # noqa E501\n",
    "except Exception as e:\n",
    "    type_sklearn_cluster__bicluster_SpectralCoclustering__svd = '_syft_missing'\n",
    "    print('❌ sklearn.cluster._bicluster.SpectralCoclustering._svd: Return unavailable') # noqa E501\n",
    "    print(\"  Please fix this return type code until there is no exception\")\n",
    "    print('  Error:', e)\n"
   ]
  },
  {
   "cell_type": "code",
   "execution_count": null,
   "id": "round-composer",
   "metadata": {},
   "outputs": [],
   "source": [
    "# sklearn.cluster._bicluster.SpectralCoclustering._validate_data\n",
    "try:\n",
    "    obj = class_constructor() # noqa F821\n",
    "    ret = obj._validate_data()\n",
    "    type_sklearn_cluster__bicluster_SpectralCoclustering__validate_data = getattr(ret, '__module__', 'none') + '.' + ret.__class__.__name__\n",
    "    print('✅ sklearn.cluster._bicluster.SpectralCoclustering._validate_data: ', type(ret)) # noqa E501\n",
    "except Exception as e:\n",
    "    type_sklearn_cluster__bicluster_SpectralCoclustering__validate_data = '_syft_missing'\n",
    "    print('❌ sklearn.cluster._bicluster.SpectralCoclustering._validate_data: Return unavailable') # noqa E501\n",
    "    print(\"  Please fix this return type code until there is no exception\")\n",
    "    print('  Error:', e)\n"
   ]
  },
  {
   "cell_type": "code",
   "execution_count": null,
   "id": "professional-basketball",
   "metadata": {},
   "outputs": [],
   "source": [
    "# sklearn.cluster._bicluster.SpectralCoclustering.biclusters_\n",
    "try:\n",
    "    obj = class_constructor()\n",
    "    ret = obj.biclusters_\n",
    "    type_sklearn_cluster__bicluster_SpectralCoclustering_biclusters_ = getattr(ret, '__module__', 'none') + '.' + ret.__class__.__name__\n",
    "    print('✅ sklearn.cluster._bicluster.SpectralCoclustering.biclusters_:', type(ret)) # noqa E501\n",
    "except Exception as e:\n",
    "    type_sklearn_cluster__bicluster_SpectralCoclustering_biclusters_ = '_syft_missing'\n",
    "    print('❌ sklearn.cluster._bicluster.SpectralCoclustering.biclusters_: Return unavailable') # noqa E501\n",
    "    print(\"  Please fix this return type code until there is no exception\")\n",
    "    print('  Error:', e)\n"
   ]
  },
  {
   "cell_type": "code",
   "execution_count": null,
   "id": "latest-apple",
   "metadata": {},
   "outputs": [],
   "source": [
    "# sklearn.cluster._bicluster.SpectralCoclustering.fit\n",
    "try:\n",
    "    obj = class_constructor() # noqa F821\n",
    "    ret = obj.fit()\n",
    "    type_sklearn_cluster__bicluster_SpectralCoclustering_fit = getattr(ret, '__module__', 'none') + '.' + ret.__class__.__name__\n",
    "    print('✅ sklearn.cluster._bicluster.SpectralCoclustering.fit: ', type(ret)) # noqa E501\n",
    "except Exception as e:\n",
    "    type_sklearn_cluster__bicluster_SpectralCoclustering_fit = '_syft_missing'\n",
    "    print('❌ sklearn.cluster._bicluster.SpectralCoclustering.fit: Return unavailable') # noqa E501\n",
    "    print(\"  Please fix this return type code until there is no exception\")\n",
    "    print('  Error:', e)\n"
   ]
  },
  {
   "cell_type": "code",
   "execution_count": null,
   "id": "ambient-benjamin",
   "metadata": {},
   "outputs": [],
   "source": [
    "# sklearn.cluster._bicluster.SpectralCoclustering.get_indices\n",
    "try:\n",
    "    obj = class_constructor() # noqa F821\n",
    "    ret = obj.get_indices()\n",
    "    type_sklearn_cluster__bicluster_SpectralCoclustering_get_indices = getattr(ret, '__module__', 'none') + '.' + ret.__class__.__name__\n",
    "    print('✅ sklearn.cluster._bicluster.SpectralCoclustering.get_indices: ', type(ret)) # noqa E501\n",
    "except Exception as e:\n",
    "    type_sklearn_cluster__bicluster_SpectralCoclustering_get_indices = '_syft_missing'\n",
    "    print('❌ sklearn.cluster._bicluster.SpectralCoclustering.get_indices: Return unavailable') # noqa E501\n",
    "    print(\"  Please fix this return type code until there is no exception\")\n",
    "    print('  Error:', e)\n"
   ]
  },
  {
   "cell_type": "code",
   "execution_count": null,
   "id": "loving-trademark",
   "metadata": {},
   "outputs": [],
   "source": [
    "# sklearn.cluster._bicluster.SpectralCoclustering.get_params\n",
    "try:\n",
    "    obj = class_constructor() # noqa F821\n",
    "    ret = obj.get_params()\n",
    "    type_sklearn_cluster__bicluster_SpectralCoclustering_get_params = getattr(ret, '__module__', 'none') + '.' + ret.__class__.__name__\n",
    "    print('✅ sklearn.cluster._bicluster.SpectralCoclustering.get_params: ', type(ret)) # noqa E501\n",
    "except Exception as e:\n",
    "    type_sklearn_cluster__bicluster_SpectralCoclustering_get_params = '_syft_missing'\n",
    "    print('❌ sklearn.cluster._bicluster.SpectralCoclustering.get_params: Return unavailable') # noqa E501\n",
    "    print(\"  Please fix this return type code until there is no exception\")\n",
    "    print('  Error:', e)\n"
   ]
  },
  {
   "cell_type": "code",
   "execution_count": null,
   "id": "suffering-study",
   "metadata": {},
   "outputs": [],
   "source": [
    "# sklearn.cluster._bicluster.SpectralCoclustering.get_shape\n",
    "try:\n",
    "    obj = class_constructor() # noqa F821\n",
    "    ret = obj.get_shape()\n",
    "    type_sklearn_cluster__bicluster_SpectralCoclustering_get_shape = getattr(ret, '__module__', 'none') + '.' + ret.__class__.__name__\n",
    "    print('✅ sklearn.cluster._bicluster.SpectralCoclustering.get_shape: ', type(ret)) # noqa E501\n",
    "except Exception as e:\n",
    "    type_sklearn_cluster__bicluster_SpectralCoclustering_get_shape = '_syft_missing'\n",
    "    print('❌ sklearn.cluster._bicluster.SpectralCoclustering.get_shape: Return unavailable') # noqa E501\n",
    "    print(\"  Please fix this return type code until there is no exception\")\n",
    "    print('  Error:', e)\n"
   ]
  },
  {
   "cell_type": "code",
   "execution_count": null,
   "id": "indie-pavilion",
   "metadata": {},
   "outputs": [],
   "source": [
    "# sklearn.cluster._bicluster.SpectralCoclustering.get_submatrix\n",
    "try:\n",
    "    obj = class_constructor() # noqa F821\n",
    "    ret = obj.get_submatrix()\n",
    "    type_sklearn_cluster__bicluster_SpectralCoclustering_get_submatrix = getattr(ret, '__module__', 'none') + '.' + ret.__class__.__name__\n",
    "    print('✅ sklearn.cluster._bicluster.SpectralCoclustering.get_submatrix: ', type(ret)) # noqa E501\n",
    "except Exception as e:\n",
    "    type_sklearn_cluster__bicluster_SpectralCoclustering_get_submatrix = '_syft_missing'\n",
    "    print('❌ sklearn.cluster._bicluster.SpectralCoclustering.get_submatrix: Return unavailable') # noqa E501\n",
    "    print(\"  Please fix this return type code until there is no exception\")\n",
    "    print('  Error:', e)\n"
   ]
  },
  {
   "cell_type": "code",
   "execution_count": null,
   "id": "burning-savings",
   "metadata": {},
   "outputs": [],
   "source": [
    "# sklearn.cluster._bicluster.SpectralCoclustering.set_params\n",
    "try:\n",
    "    obj = class_constructor() # noqa F821\n",
    "    ret = obj.set_params()\n",
    "    type_sklearn_cluster__bicluster_SpectralCoclustering_set_params = getattr(ret, '__module__', 'none') + '.' + ret.__class__.__name__\n",
    "    print('✅ sklearn.cluster._bicluster.SpectralCoclustering.set_params: ', type(ret)) # noqa E501\n",
    "except Exception as e:\n",
    "    type_sklearn_cluster__bicluster_SpectralCoclustering_set_params = '_syft_missing'\n",
    "    print('❌ sklearn.cluster._bicluster.SpectralCoclustering.set_params: Return unavailable') # noqa E501\n",
    "    print(\"  Please fix this return type code until there is no exception\")\n",
    "    print('  Error:', e)\n"
   ]
  }
 ],
 "metadata": {},
 "nbformat": 4,
 "nbformat_minor": 5
}
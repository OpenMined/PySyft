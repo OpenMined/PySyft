{
 "cells": [
  {
   "cell_type": "markdown",
   "id": "marked-mortality",
   "metadata": {},
   "source": [
    "## sklearn.ensemble._gb.GradientBoostingRegressor"
   ]
  },
  {
   "cell_type": "code",
   "execution_count": null,
   "id": "retired-health",
   "metadata": {},
   "outputs": [],
   "source": [
    "import sklearn\n",
    "def class_constructor(*args, **kwargs):\n",
    "    obj = sklearn.ensemble._gb.GradientBoostingRegressor()\n",
    "    return obj\n"
   ]
  },
  {
   "cell_type": "code",
   "execution_count": null,
   "id": "given-chicago",
   "metadata": {},
   "outputs": [],
   "source": [
    "# sklearn.ensemble._gb.GradientBoostingRegressor.__getitem__\n",
    "try:\n",
    "    obj = class_constructor() # noqa F821\n",
    "    ret = obj.__getitem__()\n",
    "    type_sklearn_ensemble__gb_GradientBoostingRegressor___getitem__ = getattr(ret, '__module__', 'none') + '.' + ret.__class__.__name__\n",
    "    print('✅ sklearn.ensemble._gb.GradientBoostingRegressor.__getitem__: ', type(ret)) # noqa E501\n",
    "except Exception as e:\n",
    "    type_sklearn_ensemble__gb_GradientBoostingRegressor___getitem__ = '_syft_missing'\n",
    "    print('❌ sklearn.ensemble._gb.GradientBoostingRegressor.__getitem__: Return unavailable') # noqa E501\n",
    "    print(\"  Please fix this return type code until there is no exception\")\n",
    "    print('  Error:', e)\n"
   ]
  },
  {
   "cell_type": "code",
   "execution_count": null,
   "id": "identified-payment",
   "metadata": {},
   "outputs": [],
   "source": [
    "# sklearn.ensemble._gb.GradientBoostingRegressor.__getstate__\n",
    "try:\n",
    "    obj = class_constructor() # noqa F821\n",
    "    ret = obj.__getstate__()\n",
    "    type_sklearn_ensemble__gb_GradientBoostingRegressor___getstate__ = getattr(ret, '__module__', 'none') + '.' + ret.__class__.__name__\n",
    "    print('✅ sklearn.ensemble._gb.GradientBoostingRegressor.__getstate__: ', type(ret)) # noqa E501\n",
    "except Exception as e:\n",
    "    type_sklearn_ensemble__gb_GradientBoostingRegressor___getstate__ = '_syft_missing'\n",
    "    print('❌ sklearn.ensemble._gb.GradientBoostingRegressor.__getstate__: Return unavailable') # noqa E501\n",
    "    print(\"  Please fix this return type code until there is no exception\")\n",
    "    print('  Error:', e)\n"
   ]
  },
  {
   "cell_type": "code",
   "execution_count": null,
   "id": "nutritional-delicious",
   "metadata": {},
   "outputs": [],
   "source": [
    "# sklearn.ensemble._gb.GradientBoostingRegressor.__iter__\n",
    "try:\n",
    "    obj = class_constructor() # noqa F821\n",
    "    ret = obj.__iter__()\n",
    "    type_sklearn_ensemble__gb_GradientBoostingRegressor___iter__ = getattr(ret, '__module__', 'none') + '.' + ret.__class__.__name__\n",
    "    print('✅ sklearn.ensemble._gb.GradientBoostingRegressor.__iter__: ', type(ret)) # noqa E501\n",
    "except Exception as e:\n",
    "    type_sklearn_ensemble__gb_GradientBoostingRegressor___iter__ = '_syft_missing'\n",
    "    print('❌ sklearn.ensemble._gb.GradientBoostingRegressor.__iter__: Return unavailable') # noqa E501\n",
    "    print(\"  Please fix this return type code until there is no exception\")\n",
    "    print('  Error:', e)\n"
   ]
  },
  {
   "cell_type": "code",
   "execution_count": null,
   "id": "growing-minneapolis",
   "metadata": {},
   "outputs": [],
   "source": [
    "# sklearn.ensemble._gb.GradientBoostingRegressor.__len__\n",
    "try:\n",
    "    obj = class_constructor() # noqa F821\n",
    "    ret = obj.__len__()\n",
    "    type_sklearn_ensemble__gb_GradientBoostingRegressor___len__ = getattr(ret, '__module__', 'none') + '.' + ret.__class__.__name__\n",
    "    print('✅ sklearn.ensemble._gb.GradientBoostingRegressor.__len__: ', type(ret)) # noqa E501\n",
    "except Exception as e:\n",
    "    type_sklearn_ensemble__gb_GradientBoostingRegressor___len__ = '_syft_missing'\n",
    "    print('❌ sklearn.ensemble._gb.GradientBoostingRegressor.__len__: Return unavailable') # noqa E501\n",
    "    print(\"  Please fix this return type code until there is no exception\")\n",
    "    print('  Error:', e)\n"
   ]
  },
  {
   "cell_type": "code",
   "execution_count": null,
   "id": "rational-reminder",
   "metadata": {},
   "outputs": [],
   "source": [
    "# sklearn.ensemble._gb.GradientBoostingRegressor.__repr__\n",
    "try:\n",
    "    obj = class_constructor() # noqa F821\n",
    "    ret = obj.__repr__()\n",
    "    type_sklearn_ensemble__gb_GradientBoostingRegressor___repr__ = getattr(ret, '__module__', 'none') + '.' + ret.__class__.__name__\n",
    "    print('✅ sklearn.ensemble._gb.GradientBoostingRegressor.__repr__: ', type(ret)) # noqa E501\n",
    "except Exception as e:\n",
    "    type_sklearn_ensemble__gb_GradientBoostingRegressor___repr__ = '_syft_missing'\n",
    "    print('❌ sklearn.ensemble._gb.GradientBoostingRegressor.__repr__: Return unavailable') # noqa E501\n",
    "    print(\"  Please fix this return type code until there is no exception\")\n",
    "    print('  Error:', e)\n"
   ]
  },
  {
   "cell_type": "code",
   "execution_count": null,
   "id": "extraordinary-screening",
   "metadata": {},
   "outputs": [],
   "source": [
    "# sklearn.ensemble._gb.GradientBoostingRegressor.__setstate__\n",
    "try:\n",
    "    obj = class_constructor() # noqa F821\n",
    "    ret = obj.__setstate__()\n",
    "    type_sklearn_ensemble__gb_GradientBoostingRegressor___setstate__ = getattr(ret, '__module__', 'none') + '.' + ret.__class__.__name__\n",
    "    print('✅ sklearn.ensemble._gb.GradientBoostingRegressor.__setstate__: ', type(ret)) # noqa E501\n",
    "except Exception as e:\n",
    "    type_sklearn_ensemble__gb_GradientBoostingRegressor___setstate__ = '_syft_missing'\n",
    "    print('❌ sklearn.ensemble._gb.GradientBoostingRegressor.__setstate__: Return unavailable') # noqa E501\n",
    "    print(\"  Please fix this return type code until there is no exception\")\n",
    "    print('  Error:', e)\n"
   ]
  },
  {
   "cell_type": "code",
   "execution_count": null,
   "id": "conditional-davis",
   "metadata": {},
   "outputs": [],
   "source": [
    "# sklearn.ensemble._gb.GradientBoostingRegressor._check_initialized\n",
    "try:\n",
    "    obj = class_constructor() # noqa F821\n",
    "    ret = obj._check_initialized()\n",
    "    type_sklearn_ensemble__gb_GradientBoostingRegressor__check_initialized = getattr(ret, '__module__', 'none') + '.' + ret.__class__.__name__\n",
    "    print('✅ sklearn.ensemble._gb.GradientBoostingRegressor._check_initialized: ', type(ret)) # noqa E501\n",
    "except Exception as e:\n",
    "    type_sklearn_ensemble__gb_GradientBoostingRegressor__check_initialized = '_syft_missing'\n",
    "    print('❌ sklearn.ensemble._gb.GradientBoostingRegressor._check_initialized: Return unavailable') # noqa E501\n",
    "    print(\"  Please fix this return type code until there is no exception\")\n",
    "    print('  Error:', e)\n"
   ]
  },
  {
   "cell_type": "code",
   "execution_count": null,
   "id": "imported-fundamental",
   "metadata": {},
   "outputs": [],
   "source": [
    "# sklearn.ensemble._gb.GradientBoostingRegressor._check_n_features\n",
    "try:\n",
    "    obj = class_constructor() # noqa F821\n",
    "    ret = obj._check_n_features()\n",
    "    type_sklearn_ensemble__gb_GradientBoostingRegressor__check_n_features = getattr(ret, '__module__', 'none') + '.' + ret.__class__.__name__\n",
    "    print('✅ sklearn.ensemble._gb.GradientBoostingRegressor._check_n_features: ', type(ret)) # noqa E501\n",
    "except Exception as e:\n",
    "    type_sklearn_ensemble__gb_GradientBoostingRegressor__check_n_features = '_syft_missing'\n",
    "    print('❌ sklearn.ensemble._gb.GradientBoostingRegressor._check_n_features: Return unavailable') # noqa E501\n",
    "    print(\"  Please fix this return type code until there is no exception\")\n",
    "    print('  Error:', e)\n"
   ]
  },
  {
   "cell_type": "code",
   "execution_count": null,
   "id": "straight-intro",
   "metadata": {},
   "outputs": [],
   "source": [
    "# sklearn.ensemble._gb.GradientBoostingRegressor._check_params\n",
    "try:\n",
    "    obj = class_constructor() # noqa F821\n",
    "    ret = obj._check_params()\n",
    "    type_sklearn_ensemble__gb_GradientBoostingRegressor__check_params = getattr(ret, '__module__', 'none') + '.' + ret.__class__.__name__\n",
    "    print('✅ sklearn.ensemble._gb.GradientBoostingRegressor._check_params: ', type(ret)) # noqa E501\n",
    "except Exception as e:\n",
    "    type_sklearn_ensemble__gb_GradientBoostingRegressor__check_params = '_syft_missing'\n",
    "    print('❌ sklearn.ensemble._gb.GradientBoostingRegressor._check_params: Return unavailable') # noqa E501\n",
    "    print(\"  Please fix this return type code until there is no exception\")\n",
    "    print('  Error:', e)\n"
   ]
  },
  {
   "cell_type": "code",
   "execution_count": null,
   "id": "handled-restriction",
   "metadata": {},
   "outputs": [],
   "source": [
    "# sklearn.ensemble._gb.GradientBoostingRegressor._clear_state\n",
    "try:\n",
    "    obj = class_constructor() # noqa F821\n",
    "    ret = obj._clear_state()\n",
    "    type_sklearn_ensemble__gb_GradientBoostingRegressor__clear_state = getattr(ret, '__module__', 'none') + '.' + ret.__class__.__name__\n",
    "    print('✅ sklearn.ensemble._gb.GradientBoostingRegressor._clear_state: ', type(ret)) # noqa E501\n",
    "except Exception as e:\n",
    "    type_sklearn_ensemble__gb_GradientBoostingRegressor__clear_state = '_syft_missing'\n",
    "    print('❌ sklearn.ensemble._gb.GradientBoostingRegressor._clear_state: Return unavailable') # noqa E501\n",
    "    print(\"  Please fix this return type code until there is no exception\")\n",
    "    print('  Error:', e)\n"
   ]
  },
  {
   "cell_type": "code",
   "execution_count": null,
   "id": "demanding-probability",
   "metadata": {},
   "outputs": [],
   "source": [
    "# sklearn.ensemble._gb.GradientBoostingRegressor._compute_partial_dependence_recursion\n",
    "try:\n",
    "    obj = class_constructor() # noqa F821\n",
    "    ret = obj._compute_partial_dependence_recursion()\n",
    "    type_sklearn_ensemble__gb_GradientBoostingRegressor__compute_partial_dependence_recursion = getattr(ret, '__module__', 'none') + '.' + ret.__class__.__name__\n",
    "    print('✅ sklearn.ensemble._gb.GradientBoostingRegressor._compute_partial_dependence_recursion: ', type(ret)) # noqa E501\n",
    "except Exception as e:\n",
    "    type_sklearn_ensemble__gb_GradientBoostingRegressor__compute_partial_dependence_recursion = '_syft_missing'\n",
    "    print('❌ sklearn.ensemble._gb.GradientBoostingRegressor._compute_partial_dependence_recursion: Return unavailable') # noqa E501\n",
    "    print(\"  Please fix this return type code until there is no exception\")\n",
    "    print('  Error:', e)\n"
   ]
  },
  {
   "cell_type": "code",
   "execution_count": null,
   "id": "nasty-alexander",
   "metadata": {},
   "outputs": [],
   "source": [
    "# sklearn.ensemble._gb.GradientBoostingRegressor._fit_stage\n",
    "try:\n",
    "    obj = class_constructor() # noqa F821\n",
    "    ret = obj._fit_stage()\n",
    "    type_sklearn_ensemble__gb_GradientBoostingRegressor__fit_stage = getattr(ret, '__module__', 'none') + '.' + ret.__class__.__name__\n",
    "    print('✅ sklearn.ensemble._gb.GradientBoostingRegressor._fit_stage: ', type(ret)) # noqa E501\n",
    "except Exception as e:\n",
    "    type_sklearn_ensemble__gb_GradientBoostingRegressor__fit_stage = '_syft_missing'\n",
    "    print('❌ sklearn.ensemble._gb.GradientBoostingRegressor._fit_stage: Return unavailable') # noqa E501\n",
    "    print(\"  Please fix this return type code until there is no exception\")\n",
    "    print('  Error:', e)\n"
   ]
  },
  {
   "cell_type": "code",
   "execution_count": null,
   "id": "satellite-yahoo",
   "metadata": {},
   "outputs": [],
   "source": [
    "# sklearn.ensemble._gb.GradientBoostingRegressor._fit_stages\n",
    "try:\n",
    "    obj = class_constructor() # noqa F821\n",
    "    ret = obj._fit_stages()\n",
    "    type_sklearn_ensemble__gb_GradientBoostingRegressor__fit_stages = getattr(ret, '__module__', 'none') + '.' + ret.__class__.__name__\n",
    "    print('✅ sklearn.ensemble._gb.GradientBoostingRegressor._fit_stages: ', type(ret)) # noqa E501\n",
    "except Exception as e:\n",
    "    type_sklearn_ensemble__gb_GradientBoostingRegressor__fit_stages = '_syft_missing'\n",
    "    print('❌ sklearn.ensemble._gb.GradientBoostingRegressor._fit_stages: Return unavailable') # noqa E501\n",
    "    print(\"  Please fix this return type code until there is no exception\")\n",
    "    print('  Error:', e)\n"
   ]
  },
  {
   "cell_type": "code",
   "execution_count": null,
   "id": "embedded-verification",
   "metadata": {},
   "outputs": [],
   "source": [
    "# sklearn.ensemble._gb.GradientBoostingRegressor._get_param_names\n",
    "try:\n",
    "    obj = class_constructor() # noqa F821\n",
    "    ret = obj._get_param_names()\n",
    "    type_sklearn_ensemble__gb_GradientBoostingRegressor__get_param_names = getattr(ret, '__module__', 'none') + '.' + ret.__class__.__name__\n",
    "    print('✅ sklearn.ensemble._gb.GradientBoostingRegressor._get_param_names: ', type(ret)) # noqa E501\n",
    "except Exception as e:\n",
    "    type_sklearn_ensemble__gb_GradientBoostingRegressor__get_param_names = '_syft_missing'\n",
    "    print('❌ sklearn.ensemble._gb.GradientBoostingRegressor._get_param_names: Return unavailable') # noqa E501\n",
    "    print(\"  Please fix this return type code until there is no exception\")\n",
    "    print('  Error:', e)\n"
   ]
  },
  {
   "cell_type": "code",
   "execution_count": null,
   "id": "expanded-surrey",
   "metadata": {},
   "outputs": [],
   "source": [
    "# sklearn.ensemble._gb.GradientBoostingRegressor._get_tags\n",
    "try:\n",
    "    obj = class_constructor() # noqa F821\n",
    "    ret = obj._get_tags()\n",
    "    type_sklearn_ensemble__gb_GradientBoostingRegressor__get_tags = getattr(ret, '__module__', 'none') + '.' + ret.__class__.__name__\n",
    "    print('✅ sklearn.ensemble._gb.GradientBoostingRegressor._get_tags: ', type(ret)) # noqa E501\n",
    "except Exception as e:\n",
    "    type_sklearn_ensemble__gb_GradientBoostingRegressor__get_tags = '_syft_missing'\n",
    "    print('❌ sklearn.ensemble._gb.GradientBoostingRegressor._get_tags: Return unavailable') # noqa E501\n",
    "    print(\"  Please fix this return type code until there is no exception\")\n",
    "    print('  Error:', e)\n"
   ]
  },
  {
   "cell_type": "code",
   "execution_count": null,
   "id": "recorded-clearance",
   "metadata": {},
   "outputs": [],
   "source": [
    "# sklearn.ensemble._gb.GradientBoostingRegressor._init_state\n",
    "try:\n",
    "    obj = class_constructor() # noqa F821\n",
    "    ret = obj._init_state()\n",
    "    type_sklearn_ensemble__gb_GradientBoostingRegressor__init_state = getattr(ret, '__module__', 'none') + '.' + ret.__class__.__name__\n",
    "    print('✅ sklearn.ensemble._gb.GradientBoostingRegressor._init_state: ', type(ret)) # noqa E501\n",
    "except Exception as e:\n",
    "    type_sklearn_ensemble__gb_GradientBoostingRegressor__init_state = '_syft_missing'\n",
    "    print('❌ sklearn.ensemble._gb.GradientBoostingRegressor._init_state: Return unavailable') # noqa E501\n",
    "    print(\"  Please fix this return type code until there is no exception\")\n",
    "    print('  Error:', e)\n"
   ]
  },
  {
   "cell_type": "code",
   "execution_count": null,
   "id": "stable-disney",
   "metadata": {},
   "outputs": [],
   "source": [
    "# sklearn.ensemble._gb.GradientBoostingRegressor._is_initialized\n",
    "try:\n",
    "    obj = class_constructor() # noqa F821\n",
    "    ret = obj._is_initialized()\n",
    "    type_sklearn_ensemble__gb_GradientBoostingRegressor__is_initialized = getattr(ret, '__module__', 'none') + '.' + ret.__class__.__name__\n",
    "    print('✅ sklearn.ensemble._gb.GradientBoostingRegressor._is_initialized: ', type(ret)) # noqa E501\n",
    "except Exception as e:\n",
    "    type_sklearn_ensemble__gb_GradientBoostingRegressor__is_initialized = '_syft_missing'\n",
    "    print('❌ sklearn.ensemble._gb.GradientBoostingRegressor._is_initialized: Return unavailable') # noqa E501\n",
    "    print(\"  Please fix this return type code until there is no exception\")\n",
    "    print('  Error:', e)\n"
   ]
  },
  {
   "cell_type": "code",
   "execution_count": null,
   "id": "loose-pendant",
   "metadata": {},
   "outputs": [],
   "source": [
    "# sklearn.ensemble._gb.GradientBoostingRegressor._make_estimator\n",
    "try:\n",
    "    obj = class_constructor() # noqa F821\n",
    "    ret = obj._make_estimator()\n",
    "    type_sklearn_ensemble__gb_GradientBoostingRegressor__make_estimator = getattr(ret, '__module__', 'none') + '.' + ret.__class__.__name__\n",
    "    print('✅ sklearn.ensemble._gb.GradientBoostingRegressor._make_estimator: ', type(ret)) # noqa E501\n",
    "except Exception as e:\n",
    "    type_sklearn_ensemble__gb_GradientBoostingRegressor__make_estimator = '_syft_missing'\n",
    "    print('❌ sklearn.ensemble._gb.GradientBoostingRegressor._make_estimator: Return unavailable') # noqa E501\n",
    "    print(\"  Please fix this return type code until there is no exception\")\n",
    "    print('  Error:', e)\n"
   ]
  },
  {
   "cell_type": "code",
   "execution_count": null,
   "id": "velvet-optimization",
   "metadata": {},
   "outputs": [],
   "source": [
    "# sklearn.ensemble._gb.GradientBoostingRegressor._more_tags\n",
    "try:\n",
    "    obj = class_constructor() # noqa F821\n",
    "    ret = obj._more_tags()\n",
    "    type_sklearn_ensemble__gb_GradientBoostingRegressor__more_tags = getattr(ret, '__module__', 'none') + '.' + ret.__class__.__name__\n",
    "    print('✅ sklearn.ensemble._gb.GradientBoostingRegressor._more_tags: ', type(ret)) # noqa E501\n",
    "except Exception as e:\n",
    "    type_sklearn_ensemble__gb_GradientBoostingRegressor__more_tags = '_syft_missing'\n",
    "    print('❌ sklearn.ensemble._gb.GradientBoostingRegressor._more_tags: Return unavailable') # noqa E501\n",
    "    print(\"  Please fix this return type code until there is no exception\")\n",
    "    print('  Error:', e)\n"
   ]
  },
  {
   "cell_type": "code",
   "execution_count": null,
   "id": "grave-flood",
   "metadata": {},
   "outputs": [],
   "source": [
    "# sklearn.ensemble._gb.GradientBoostingRegressor._raw_predict\n",
    "try:\n",
    "    obj = class_constructor() # noqa F821\n",
    "    ret = obj._raw_predict()\n",
    "    type_sklearn_ensemble__gb_GradientBoostingRegressor__raw_predict = getattr(ret, '__module__', 'none') + '.' + ret.__class__.__name__\n",
    "    print('✅ sklearn.ensemble._gb.GradientBoostingRegressor._raw_predict: ', type(ret)) # noqa E501\n",
    "except Exception as e:\n",
    "    type_sklearn_ensemble__gb_GradientBoostingRegressor__raw_predict = '_syft_missing'\n",
    "    print('❌ sklearn.ensemble._gb.GradientBoostingRegressor._raw_predict: Return unavailable') # noqa E501\n",
    "    print(\"  Please fix this return type code until there is no exception\")\n",
    "    print('  Error:', e)\n"
   ]
  },
  {
   "cell_type": "code",
   "execution_count": null,
   "id": "published-platinum",
   "metadata": {},
   "outputs": [],
   "source": [
    "# sklearn.ensemble._gb.GradientBoostingRegressor._raw_predict_init\n",
    "try:\n",
    "    obj = class_constructor() # noqa F821\n",
    "    ret = obj._raw_predict_init()\n",
    "    type_sklearn_ensemble__gb_GradientBoostingRegressor__raw_predict_init = getattr(ret, '__module__', 'none') + '.' + ret.__class__.__name__\n",
    "    print('✅ sklearn.ensemble._gb.GradientBoostingRegressor._raw_predict_init: ', type(ret)) # noqa E501\n",
    "except Exception as e:\n",
    "    type_sklearn_ensemble__gb_GradientBoostingRegressor__raw_predict_init = '_syft_missing'\n",
    "    print('❌ sklearn.ensemble._gb.GradientBoostingRegressor._raw_predict_init: Return unavailable') # noqa E501\n",
    "    print(\"  Please fix this return type code until there is no exception\")\n",
    "    print('  Error:', e)\n"
   ]
  },
  {
   "cell_type": "code",
   "execution_count": null,
   "id": "painful-subscription",
   "metadata": {},
   "outputs": [],
   "source": [
    "# sklearn.ensemble._gb.GradientBoostingRegressor._repr_html_\n",
    "try:\n",
    "    obj = class_constructor()\n",
    "    ret = obj._repr_html_\n",
    "    type_sklearn_ensemble__gb_GradientBoostingRegressor__repr_html_ = getattr(ret, '__module__', 'none') + '.' + ret.__class__.__name__\n",
    "    print('✅ sklearn.ensemble._gb.GradientBoostingRegressor._repr_html_:', type(ret)) # noqa E501\n",
    "except Exception as e:\n",
    "    type_sklearn_ensemble__gb_GradientBoostingRegressor__repr_html_ = '_syft_missing'\n",
    "    print('❌ sklearn.ensemble._gb.GradientBoostingRegressor._repr_html_: Return unavailable') # noqa E501\n",
    "    print(\"  Please fix this return type code until there is no exception\")\n",
    "    print('  Error:', e)\n"
   ]
  },
  {
   "cell_type": "code",
   "execution_count": null,
   "id": "seeing-architecture",
   "metadata": {},
   "outputs": [],
   "source": [
    "# sklearn.ensemble._gb.GradientBoostingRegressor._repr_html_inner\n",
    "try:\n",
    "    obj = class_constructor() # noqa F821\n",
    "    ret = obj._repr_html_inner()\n",
    "    type_sklearn_ensemble__gb_GradientBoostingRegressor__repr_html_inner = getattr(ret, '__module__', 'none') + '.' + ret.__class__.__name__\n",
    "    print('✅ sklearn.ensemble._gb.GradientBoostingRegressor._repr_html_inner: ', type(ret)) # noqa E501\n",
    "except Exception as e:\n",
    "    type_sklearn_ensemble__gb_GradientBoostingRegressor__repr_html_inner = '_syft_missing'\n",
    "    print('❌ sklearn.ensemble._gb.GradientBoostingRegressor._repr_html_inner: Return unavailable') # noqa E501\n",
    "    print(\"  Please fix this return type code until there is no exception\")\n",
    "    print('  Error:', e)\n"
   ]
  },
  {
   "cell_type": "code",
   "execution_count": null,
   "id": "continental-voluntary",
   "metadata": {},
   "outputs": [],
   "source": [
    "# sklearn.ensemble._gb.GradientBoostingRegressor._repr_mimebundle_\n",
    "try:\n",
    "    obj = class_constructor() # noqa F821\n",
    "    ret = obj._repr_mimebundle_()\n",
    "    type_sklearn_ensemble__gb_GradientBoostingRegressor__repr_mimebundle_ = getattr(ret, '__module__', 'none') + '.' + ret.__class__.__name__\n",
    "    print('✅ sklearn.ensemble._gb.GradientBoostingRegressor._repr_mimebundle_: ', type(ret)) # noqa E501\n",
    "except Exception as e:\n",
    "    type_sklearn_ensemble__gb_GradientBoostingRegressor__repr_mimebundle_ = '_syft_missing'\n",
    "    print('❌ sklearn.ensemble._gb.GradientBoostingRegressor._repr_mimebundle_: Return unavailable') # noqa E501\n",
    "    print(\"  Please fix this return type code until there is no exception\")\n",
    "    print('  Error:', e)\n"
   ]
  },
  {
   "cell_type": "code",
   "execution_count": null,
   "id": "excited-crystal",
   "metadata": {},
   "outputs": [],
   "source": [
    "# sklearn.ensemble._gb.GradientBoostingRegressor._resize_state\n",
    "try:\n",
    "    obj = class_constructor() # noqa F821\n",
    "    ret = obj._resize_state()\n",
    "    type_sklearn_ensemble__gb_GradientBoostingRegressor__resize_state = getattr(ret, '__module__', 'none') + '.' + ret.__class__.__name__\n",
    "    print('✅ sklearn.ensemble._gb.GradientBoostingRegressor._resize_state: ', type(ret)) # noqa E501\n",
    "except Exception as e:\n",
    "    type_sklearn_ensemble__gb_GradientBoostingRegressor__resize_state = '_syft_missing'\n",
    "    print('❌ sklearn.ensemble._gb.GradientBoostingRegressor._resize_state: Return unavailable') # noqa E501\n",
    "    print(\"  Please fix this return type code until there is no exception\")\n",
    "    print('  Error:', e)\n"
   ]
  },
  {
   "cell_type": "code",
   "execution_count": null,
   "id": "narrow-image",
   "metadata": {},
   "outputs": [],
   "source": [
    "# sklearn.ensemble._gb.GradientBoostingRegressor._staged_raw_predict\n",
    "try:\n",
    "    obj = class_constructor() # noqa F821\n",
    "    ret = obj._staged_raw_predict()\n",
    "    type_sklearn_ensemble__gb_GradientBoostingRegressor__staged_raw_predict = getattr(ret, '__module__', 'none') + '.' + ret.__class__.__name__\n",
    "    print('✅ sklearn.ensemble._gb.GradientBoostingRegressor._staged_raw_predict: ', type(ret)) # noqa E501\n",
    "except Exception as e:\n",
    "    type_sklearn_ensemble__gb_GradientBoostingRegressor__staged_raw_predict = '_syft_missing'\n",
    "    print('❌ sklearn.ensemble._gb.GradientBoostingRegressor._staged_raw_predict: Return unavailable') # noqa E501\n",
    "    print(\"  Please fix this return type code until there is no exception\")\n",
    "    print('  Error:', e)\n"
   ]
  },
  {
   "cell_type": "code",
   "execution_count": null,
   "id": "adverse-filter",
   "metadata": {},
   "outputs": [],
   "source": [
    "# sklearn.ensemble._gb.GradientBoostingRegressor._validate_data\n",
    "try:\n",
    "    obj = class_constructor() # noqa F821\n",
    "    ret = obj._validate_data()\n",
    "    type_sklearn_ensemble__gb_GradientBoostingRegressor__validate_data = getattr(ret, '__module__', 'none') + '.' + ret.__class__.__name__\n",
    "    print('✅ sklearn.ensemble._gb.GradientBoostingRegressor._validate_data: ', type(ret)) # noqa E501\n",
    "except Exception as e:\n",
    "    type_sklearn_ensemble__gb_GradientBoostingRegressor__validate_data = '_syft_missing'\n",
    "    print('❌ sklearn.ensemble._gb.GradientBoostingRegressor._validate_data: Return unavailable') # noqa E501\n",
    "    print(\"  Please fix this return type code until there is no exception\")\n",
    "    print('  Error:', e)\n"
   ]
  },
  {
   "cell_type": "code",
   "execution_count": null,
   "id": "functioning-collaboration",
   "metadata": {},
   "outputs": [],
   "source": [
    "# sklearn.ensemble._gb.GradientBoostingRegressor._validate_estimator\n",
    "try:\n",
    "    obj = class_constructor() # noqa F821\n",
    "    ret = obj._validate_estimator()\n",
    "    type_sklearn_ensemble__gb_GradientBoostingRegressor__validate_estimator = getattr(ret, '__module__', 'none') + '.' + ret.__class__.__name__\n",
    "    print('✅ sklearn.ensemble._gb.GradientBoostingRegressor._validate_estimator: ', type(ret)) # noqa E501\n",
    "except Exception as e:\n",
    "    type_sklearn_ensemble__gb_GradientBoostingRegressor__validate_estimator = '_syft_missing'\n",
    "    print('❌ sklearn.ensemble._gb.GradientBoostingRegressor._validate_estimator: Return unavailable') # noqa E501\n",
    "    print(\"  Please fix this return type code until there is no exception\")\n",
    "    print('  Error:', e)\n"
   ]
  },
  {
   "cell_type": "code",
   "execution_count": null,
   "id": "becoming-marshall",
   "metadata": {},
   "outputs": [],
   "source": [
    "# sklearn.ensemble._gb.GradientBoostingRegressor._validate_y\n",
    "try:\n",
    "    obj = class_constructor() # noqa F821\n",
    "    ret = obj._validate_y()\n",
    "    type_sklearn_ensemble__gb_GradientBoostingRegressor__validate_y = getattr(ret, '__module__', 'none') + '.' + ret.__class__.__name__\n",
    "    print('✅ sklearn.ensemble._gb.GradientBoostingRegressor._validate_y: ', type(ret)) # noqa E501\n",
    "except Exception as e:\n",
    "    type_sklearn_ensemble__gb_GradientBoostingRegressor__validate_y = '_syft_missing'\n",
    "    print('❌ sklearn.ensemble._gb.GradientBoostingRegressor._validate_y: Return unavailable') # noqa E501\n",
    "    print(\"  Please fix this return type code until there is no exception\")\n",
    "    print('  Error:', e)\n"
   ]
  },
  {
   "cell_type": "code",
   "execution_count": null,
   "id": "visible-firewall",
   "metadata": {},
   "outputs": [],
   "source": [
    "# sklearn.ensemble._gb.GradientBoostingRegressor._warn_mae_for_criterion\n",
    "try:\n",
    "    obj = class_constructor() # noqa F821\n",
    "    ret = obj._warn_mae_for_criterion()\n",
    "    type_sklearn_ensemble__gb_GradientBoostingRegressor__warn_mae_for_criterion = getattr(ret, '__module__', 'none') + '.' + ret.__class__.__name__\n",
    "    print('✅ sklearn.ensemble._gb.GradientBoostingRegressor._warn_mae_for_criterion: ', type(ret)) # noqa E501\n",
    "except Exception as e:\n",
    "    type_sklearn_ensemble__gb_GradientBoostingRegressor__warn_mae_for_criterion = '_syft_missing'\n",
    "    print('❌ sklearn.ensemble._gb.GradientBoostingRegressor._warn_mae_for_criterion: Return unavailable') # noqa E501\n",
    "    print(\"  Please fix this return type code until there is no exception\")\n",
    "    print('  Error:', e)\n"
   ]
  },
  {
   "cell_type": "code",
   "execution_count": null,
   "id": "controversial-current",
   "metadata": {},
   "outputs": [],
   "source": [
    "# sklearn.ensemble._gb.GradientBoostingRegressor.apply\n",
    "try:\n",
    "    obj = class_constructor() # noqa F821\n",
    "    ret = obj.apply()\n",
    "    type_sklearn_ensemble__gb_GradientBoostingRegressor_apply = getattr(ret, '__module__', 'none') + '.' + ret.__class__.__name__\n",
    "    print('✅ sklearn.ensemble._gb.GradientBoostingRegressor.apply: ', type(ret)) # noqa E501\n",
    "except Exception as e:\n",
    "    type_sklearn_ensemble__gb_GradientBoostingRegressor_apply = '_syft_missing'\n",
    "    print('❌ sklearn.ensemble._gb.GradientBoostingRegressor.apply: Return unavailable') # noqa E501\n",
    "    print(\"  Please fix this return type code until there is no exception\")\n",
    "    print('  Error:', e)\n"
   ]
  },
  {
   "cell_type": "code",
   "execution_count": null,
   "id": "concerned-niger",
   "metadata": {},
   "outputs": [],
   "source": [
    "# sklearn.ensemble._gb.GradientBoostingRegressor.feature_importances_\n",
    "try:\n",
    "    obj = class_constructor()\n",
    "    ret = obj.feature_importances_\n",
    "    type_sklearn_ensemble__gb_GradientBoostingRegressor_feature_importances_ = getattr(ret, '__module__', 'none') + '.' + ret.__class__.__name__\n",
    "    print('✅ sklearn.ensemble._gb.GradientBoostingRegressor.feature_importances_:', type(ret)) # noqa E501\n",
    "except Exception as e:\n",
    "    type_sklearn_ensemble__gb_GradientBoostingRegressor_feature_importances_ = '_syft_missing'\n",
    "    print('❌ sklearn.ensemble._gb.GradientBoostingRegressor.feature_importances_: Return unavailable') # noqa E501\n",
    "    print(\"  Please fix this return type code until there is no exception\")\n",
    "    print('  Error:', e)\n"
   ]
  },
  {
   "cell_type": "code",
   "execution_count": null,
   "id": "smooth-stone",
   "metadata": {},
   "outputs": [],
   "source": [
    "# sklearn.ensemble._gb.GradientBoostingRegressor.fit\n",
    "try:\n",
    "    obj = class_constructor() # noqa F821\n",
    "    ret = obj.fit()\n",
    "    type_sklearn_ensemble__gb_GradientBoostingRegressor_fit = getattr(ret, '__module__', 'none') + '.' + ret.__class__.__name__\n",
    "    print('✅ sklearn.ensemble._gb.GradientBoostingRegressor.fit: ', type(ret)) # noqa E501\n",
    "except Exception as e:\n",
    "    type_sklearn_ensemble__gb_GradientBoostingRegressor_fit = '_syft_missing'\n",
    "    print('❌ sklearn.ensemble._gb.GradientBoostingRegressor.fit: Return unavailable') # noqa E501\n",
    "    print(\"  Please fix this return type code until there is no exception\")\n",
    "    print('  Error:', e)\n"
   ]
  },
  {
   "cell_type": "code",
   "execution_count": null,
   "id": "sophisticated-poker",
   "metadata": {},
   "outputs": [],
   "source": [
    "# sklearn.ensemble._gb.GradientBoostingRegressor.get_params\n",
    "try:\n",
    "    obj = class_constructor() # noqa F821\n",
    "    ret = obj.get_params()\n",
    "    type_sklearn_ensemble__gb_GradientBoostingRegressor_get_params = getattr(ret, '__module__', 'none') + '.' + ret.__class__.__name__\n",
    "    print('✅ sklearn.ensemble._gb.GradientBoostingRegressor.get_params: ', type(ret)) # noqa E501\n",
    "except Exception as e:\n",
    "    type_sklearn_ensemble__gb_GradientBoostingRegressor_get_params = '_syft_missing'\n",
    "    print('❌ sklearn.ensemble._gb.GradientBoostingRegressor.get_params: Return unavailable') # noqa E501\n",
    "    print(\"  Please fix this return type code until there is no exception\")\n",
    "    print('  Error:', e)\n"
   ]
  },
  {
   "cell_type": "code",
   "execution_count": null,
   "id": "spiritual-conducting",
   "metadata": {},
   "outputs": [],
   "source": [
    "# sklearn.ensemble._gb.GradientBoostingRegressor.n_classes_\n",
    "try:\n",
    "    obj = class_constructor()\n",
    "    ret = obj.n_classes_\n",
    "    type_sklearn_ensemble__gb_GradientBoostingRegressor_n_classes_ = getattr(ret, '__module__', 'none') + '.' + ret.__class__.__name__\n",
    "    print('✅ sklearn.ensemble._gb.GradientBoostingRegressor.n_classes_:', type(ret)) # noqa E501\n",
    "except Exception as e:\n",
    "    type_sklearn_ensemble__gb_GradientBoostingRegressor_n_classes_ = '_syft_missing'\n",
    "    print('❌ sklearn.ensemble._gb.GradientBoostingRegressor.n_classes_: Return unavailable') # noqa E501\n",
    "    print(\"  Please fix this return type code until there is no exception\")\n",
    "    print('  Error:', e)\n"
   ]
  },
  {
   "cell_type": "code",
   "execution_count": null,
   "id": "clean-recommendation",
   "metadata": {},
   "outputs": [],
   "source": [
    "# sklearn.ensemble._gb.GradientBoostingRegressor.predict\n",
    "try:\n",
    "    obj = class_constructor() # noqa F821\n",
    "    ret = obj.predict()\n",
    "    type_sklearn_ensemble__gb_GradientBoostingRegressor_predict = getattr(ret, '__module__', 'none') + '.' + ret.__class__.__name__\n",
    "    print('✅ sklearn.ensemble._gb.GradientBoostingRegressor.predict: ', type(ret)) # noqa E501\n",
    "except Exception as e:\n",
    "    type_sklearn_ensemble__gb_GradientBoostingRegressor_predict = '_syft_missing'\n",
    "    print('❌ sklearn.ensemble._gb.GradientBoostingRegressor.predict: Return unavailable') # noqa E501\n",
    "    print(\"  Please fix this return type code until there is no exception\")\n",
    "    print('  Error:', e)\n"
   ]
  },
  {
   "cell_type": "code",
   "execution_count": null,
   "id": "persistent-energy",
   "metadata": {},
   "outputs": [],
   "source": [
    "# sklearn.ensemble._gb.GradientBoostingRegressor.score\n",
    "try:\n",
    "    obj = class_constructor() # noqa F821\n",
    "    ret = obj.score()\n",
    "    type_sklearn_ensemble__gb_GradientBoostingRegressor_score = getattr(ret, '__module__', 'none') + '.' + ret.__class__.__name__\n",
    "    print('✅ sklearn.ensemble._gb.GradientBoostingRegressor.score: ', type(ret)) # noqa E501\n",
    "except Exception as e:\n",
    "    type_sklearn_ensemble__gb_GradientBoostingRegressor_score = '_syft_missing'\n",
    "    print('❌ sklearn.ensemble._gb.GradientBoostingRegressor.score: Return unavailable') # noqa E501\n",
    "    print(\"  Please fix this return type code until there is no exception\")\n",
    "    print('  Error:', e)\n"
   ]
  },
  {
   "cell_type": "code",
   "execution_count": null,
   "id": "industrial-photographer",
   "metadata": {},
   "outputs": [],
   "source": [
    "# sklearn.ensemble._gb.GradientBoostingRegressor.set_params\n",
    "try:\n",
    "    obj = class_constructor() # noqa F821\n",
    "    ret = obj.set_params()\n",
    "    type_sklearn_ensemble__gb_GradientBoostingRegressor_set_params = getattr(ret, '__module__', 'none') + '.' + ret.__class__.__name__\n",
    "    print('✅ sklearn.ensemble._gb.GradientBoostingRegressor.set_params: ', type(ret)) # noqa E501\n",
    "except Exception as e:\n",
    "    type_sklearn_ensemble__gb_GradientBoostingRegressor_set_params = '_syft_missing'\n",
    "    print('❌ sklearn.ensemble._gb.GradientBoostingRegressor.set_params: Return unavailable') # noqa E501\n",
    "    print(\"  Please fix this return type code until there is no exception\")\n",
    "    print('  Error:', e)\n"
   ]
  },
  {
   "cell_type": "code",
   "execution_count": null,
   "id": "nasty-minutes",
   "metadata": {},
   "outputs": [],
   "source": [
    "# sklearn.ensemble._gb.GradientBoostingRegressor.staged_predict\n",
    "try:\n",
    "    obj = class_constructor() # noqa F821\n",
    "    ret = obj.staged_predict()\n",
    "    type_sklearn_ensemble__gb_GradientBoostingRegressor_staged_predict = getattr(ret, '__module__', 'none') + '.' + ret.__class__.__name__\n",
    "    print('✅ sklearn.ensemble._gb.GradientBoostingRegressor.staged_predict: ', type(ret)) # noqa E501\n",
    "except Exception as e:\n",
    "    type_sklearn_ensemble__gb_GradientBoostingRegressor_staged_predict = '_syft_missing'\n",
    "    print('❌ sklearn.ensemble._gb.GradientBoostingRegressor.staged_predict: Return unavailable') # noqa E501\n",
    "    print(\"  Please fix this return type code until there is no exception\")\n",
    "    print('  Error:', e)\n"
   ]
  }
 ],
 "metadata": {},
 "nbformat": 4,
 "nbformat_minor": 5
}
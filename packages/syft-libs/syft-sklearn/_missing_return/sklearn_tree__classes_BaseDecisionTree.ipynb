{
 "cells": [
  {
   "cell_type": "markdown",
   "id": "impossible-shuttle",
   "metadata": {},
   "source": [
    "## sklearn.tree._classes.BaseDecisionTree"
   ]
  },
  {
   "cell_type": "code",
   "execution_count": null,
   "id": "mature-bible",
   "metadata": {},
   "outputs": [],
   "source": [
    "import sklearn\n",
    "def class_constructor(*args, **kwargs):\n",
    "    obj = sklearn.tree._classes.BaseDecisionTree()\n",
    "    return obj\n"
   ]
  },
  {
   "cell_type": "code",
   "execution_count": null,
   "id": "thermal-winter",
   "metadata": {},
   "outputs": [],
   "source": [
    "# sklearn.tree._classes.BaseDecisionTree.__getstate__\n",
    "try:\n",
    "    obj = class_constructor() # noqa F821\n",
    "    ret = obj.__getstate__()\n",
    "    type_sklearn_tree__classes_BaseDecisionTree___getstate__ = getattr(ret, '__module__', 'none') + '.' + ret.__class__.__name__\n",
    "    print('✅ sklearn.tree._classes.BaseDecisionTree.__getstate__: ', type(ret)) # noqa E501\n",
    "except Exception as e:\n",
    "    type_sklearn_tree__classes_BaseDecisionTree___getstate__ = '_syft_missing'\n",
    "    print('❌ sklearn.tree._classes.BaseDecisionTree.__getstate__: Return unavailable') # noqa E501\n",
    "    print(\"  Please fix this return type code until there is no exception\")\n",
    "    print('  Error:', e)\n"
   ]
  },
  {
   "cell_type": "code",
   "execution_count": null,
   "id": "bulgarian-execution",
   "metadata": {},
   "outputs": [],
   "source": [
    "# sklearn.tree._classes.BaseDecisionTree.__repr__\n",
    "try:\n",
    "    obj = class_constructor() # noqa F821\n",
    "    ret = obj.__repr__()\n",
    "    type_sklearn_tree__classes_BaseDecisionTree___repr__ = getattr(ret, '__module__', 'none') + '.' + ret.__class__.__name__\n",
    "    print('✅ sklearn.tree._classes.BaseDecisionTree.__repr__: ', type(ret)) # noqa E501\n",
    "except Exception as e:\n",
    "    type_sklearn_tree__classes_BaseDecisionTree___repr__ = '_syft_missing'\n",
    "    print('❌ sklearn.tree._classes.BaseDecisionTree.__repr__: Return unavailable') # noqa E501\n",
    "    print(\"  Please fix this return type code until there is no exception\")\n",
    "    print('  Error:', e)\n"
   ]
  },
  {
   "cell_type": "code",
   "execution_count": null,
   "id": "second-helena",
   "metadata": {},
   "outputs": [],
   "source": [
    "# sklearn.tree._classes.BaseDecisionTree.__setstate__\n",
    "try:\n",
    "    obj = class_constructor() # noqa F821\n",
    "    ret = obj.__setstate__()\n",
    "    type_sklearn_tree__classes_BaseDecisionTree___setstate__ = getattr(ret, '__module__', 'none') + '.' + ret.__class__.__name__\n",
    "    print('✅ sklearn.tree._classes.BaseDecisionTree.__setstate__: ', type(ret)) # noqa E501\n",
    "except Exception as e:\n",
    "    type_sklearn_tree__classes_BaseDecisionTree___setstate__ = '_syft_missing'\n",
    "    print('❌ sklearn.tree._classes.BaseDecisionTree.__setstate__: Return unavailable') # noqa E501\n",
    "    print(\"  Please fix this return type code until there is no exception\")\n",
    "    print('  Error:', e)\n"
   ]
  },
  {
   "cell_type": "code",
   "execution_count": null,
   "id": "italic-mambo",
   "metadata": {},
   "outputs": [],
   "source": [
    "# sklearn.tree._classes.BaseDecisionTree._check_n_features\n",
    "try:\n",
    "    obj = class_constructor() # noqa F821\n",
    "    ret = obj._check_n_features()\n",
    "    type_sklearn_tree__classes_BaseDecisionTree__check_n_features = getattr(ret, '__module__', 'none') + '.' + ret.__class__.__name__\n",
    "    print('✅ sklearn.tree._classes.BaseDecisionTree._check_n_features: ', type(ret)) # noqa E501\n",
    "except Exception as e:\n",
    "    type_sklearn_tree__classes_BaseDecisionTree__check_n_features = '_syft_missing'\n",
    "    print('❌ sklearn.tree._classes.BaseDecisionTree._check_n_features: Return unavailable') # noqa E501\n",
    "    print(\"  Please fix this return type code until there is no exception\")\n",
    "    print('  Error:', e)\n"
   ]
  },
  {
   "cell_type": "code",
   "execution_count": null,
   "id": "dried-limit",
   "metadata": {},
   "outputs": [],
   "source": [
    "# sklearn.tree._classes.BaseDecisionTree._get_param_names\n",
    "try:\n",
    "    obj = class_constructor() # noqa F821\n",
    "    ret = obj._get_param_names()\n",
    "    type_sklearn_tree__classes_BaseDecisionTree__get_param_names = getattr(ret, '__module__', 'none') + '.' + ret.__class__.__name__\n",
    "    print('✅ sklearn.tree._classes.BaseDecisionTree._get_param_names: ', type(ret)) # noqa E501\n",
    "except Exception as e:\n",
    "    type_sklearn_tree__classes_BaseDecisionTree__get_param_names = '_syft_missing'\n",
    "    print('❌ sklearn.tree._classes.BaseDecisionTree._get_param_names: Return unavailable') # noqa E501\n",
    "    print(\"  Please fix this return type code until there is no exception\")\n",
    "    print('  Error:', e)\n"
   ]
  },
  {
   "cell_type": "code",
   "execution_count": null,
   "id": "acceptable-bracelet",
   "metadata": {},
   "outputs": [],
   "source": [
    "# sklearn.tree._classes.BaseDecisionTree._get_tags\n",
    "try:\n",
    "    obj = class_constructor() # noqa F821\n",
    "    ret = obj._get_tags()\n",
    "    type_sklearn_tree__classes_BaseDecisionTree__get_tags = getattr(ret, '__module__', 'none') + '.' + ret.__class__.__name__\n",
    "    print('✅ sklearn.tree._classes.BaseDecisionTree._get_tags: ', type(ret)) # noqa E501\n",
    "except Exception as e:\n",
    "    type_sklearn_tree__classes_BaseDecisionTree__get_tags = '_syft_missing'\n",
    "    print('❌ sklearn.tree._classes.BaseDecisionTree._get_tags: Return unavailable') # noqa E501\n",
    "    print(\"  Please fix this return type code until there is no exception\")\n",
    "    print('  Error:', e)\n"
   ]
  },
  {
   "cell_type": "code",
   "execution_count": null,
   "id": "antique-fundamental",
   "metadata": {},
   "outputs": [],
   "source": [
    "# sklearn.tree._classes.BaseDecisionTree._more_tags\n",
    "try:\n",
    "    obj = class_constructor() # noqa F821\n",
    "    ret = obj._more_tags()\n",
    "    type_sklearn_tree__classes_BaseDecisionTree__more_tags = getattr(ret, '__module__', 'none') + '.' + ret.__class__.__name__\n",
    "    print('✅ sklearn.tree._classes.BaseDecisionTree._more_tags: ', type(ret)) # noqa E501\n",
    "except Exception as e:\n",
    "    type_sklearn_tree__classes_BaseDecisionTree__more_tags = '_syft_missing'\n",
    "    print('❌ sklearn.tree._classes.BaseDecisionTree._more_tags: Return unavailable') # noqa E501\n",
    "    print(\"  Please fix this return type code until there is no exception\")\n",
    "    print('  Error:', e)\n"
   ]
  },
  {
   "cell_type": "code",
   "execution_count": null,
   "id": "published-smith",
   "metadata": {},
   "outputs": [],
   "source": [
    "# sklearn.tree._classes.BaseDecisionTree._prune_tree\n",
    "try:\n",
    "    obj = class_constructor() # noqa F821\n",
    "    ret = obj._prune_tree()\n",
    "    type_sklearn_tree__classes_BaseDecisionTree__prune_tree = getattr(ret, '__module__', 'none') + '.' + ret.__class__.__name__\n",
    "    print('✅ sklearn.tree._classes.BaseDecisionTree._prune_tree: ', type(ret)) # noqa E501\n",
    "except Exception as e:\n",
    "    type_sklearn_tree__classes_BaseDecisionTree__prune_tree = '_syft_missing'\n",
    "    print('❌ sklearn.tree._classes.BaseDecisionTree._prune_tree: Return unavailable') # noqa E501\n",
    "    print(\"  Please fix this return type code until there is no exception\")\n",
    "    print('  Error:', e)\n"
   ]
  },
  {
   "cell_type": "code",
   "execution_count": null,
   "id": "molecular-injection",
   "metadata": {},
   "outputs": [],
   "source": [
    "# sklearn.tree._classes.BaseDecisionTree._repr_html_\n",
    "try:\n",
    "    obj = class_constructor()\n",
    "    ret = obj._repr_html_\n",
    "    type_sklearn_tree__classes_BaseDecisionTree__repr_html_ = getattr(ret, '__module__', 'none') + '.' + ret.__class__.__name__\n",
    "    print('✅ sklearn.tree._classes.BaseDecisionTree._repr_html_:', type(ret)) # noqa E501\n",
    "except Exception as e:\n",
    "    type_sklearn_tree__classes_BaseDecisionTree__repr_html_ = '_syft_missing'\n",
    "    print('❌ sklearn.tree._classes.BaseDecisionTree._repr_html_: Return unavailable') # noqa E501\n",
    "    print(\"  Please fix this return type code until there is no exception\")\n",
    "    print('  Error:', e)\n"
   ]
  },
  {
   "cell_type": "code",
   "execution_count": null,
   "id": "numerous-potter",
   "metadata": {},
   "outputs": [],
   "source": [
    "# sklearn.tree._classes.BaseDecisionTree._repr_html_inner\n",
    "try:\n",
    "    obj = class_constructor() # noqa F821\n",
    "    ret = obj._repr_html_inner()\n",
    "    type_sklearn_tree__classes_BaseDecisionTree__repr_html_inner = getattr(ret, '__module__', 'none') + '.' + ret.__class__.__name__\n",
    "    print('✅ sklearn.tree._classes.BaseDecisionTree._repr_html_inner: ', type(ret)) # noqa E501\n",
    "except Exception as e:\n",
    "    type_sklearn_tree__classes_BaseDecisionTree__repr_html_inner = '_syft_missing'\n",
    "    print('❌ sklearn.tree._classes.BaseDecisionTree._repr_html_inner: Return unavailable') # noqa E501\n",
    "    print(\"  Please fix this return type code until there is no exception\")\n",
    "    print('  Error:', e)\n"
   ]
  },
  {
   "cell_type": "code",
   "execution_count": null,
   "id": "excess-limit",
   "metadata": {},
   "outputs": [],
   "source": [
    "# sklearn.tree._classes.BaseDecisionTree._repr_mimebundle_\n",
    "try:\n",
    "    obj = class_constructor() # noqa F821\n",
    "    ret = obj._repr_mimebundle_()\n",
    "    type_sklearn_tree__classes_BaseDecisionTree__repr_mimebundle_ = getattr(ret, '__module__', 'none') + '.' + ret.__class__.__name__\n",
    "    print('✅ sklearn.tree._classes.BaseDecisionTree._repr_mimebundle_: ', type(ret)) # noqa E501\n",
    "except Exception as e:\n",
    "    type_sklearn_tree__classes_BaseDecisionTree__repr_mimebundle_ = '_syft_missing'\n",
    "    print('❌ sklearn.tree._classes.BaseDecisionTree._repr_mimebundle_: Return unavailable') # noqa E501\n",
    "    print(\"  Please fix this return type code until there is no exception\")\n",
    "    print('  Error:', e)\n"
   ]
  },
  {
   "cell_type": "code",
   "execution_count": null,
   "id": "detected-brain",
   "metadata": {},
   "outputs": [],
   "source": [
    "# sklearn.tree._classes.BaseDecisionTree._validate_X_predict\n",
    "try:\n",
    "    obj = class_constructor() # noqa F821\n",
    "    ret = obj._validate_X_predict()\n",
    "    type_sklearn_tree__classes_BaseDecisionTree__validate_X_predict = getattr(ret, '__module__', 'none') + '.' + ret.__class__.__name__\n",
    "    print('✅ sklearn.tree._classes.BaseDecisionTree._validate_X_predict: ', type(ret)) # noqa E501\n",
    "except Exception as e:\n",
    "    type_sklearn_tree__classes_BaseDecisionTree__validate_X_predict = '_syft_missing'\n",
    "    print('❌ sklearn.tree._classes.BaseDecisionTree._validate_X_predict: Return unavailable') # noqa E501\n",
    "    print(\"  Please fix this return type code until there is no exception\")\n",
    "    print('  Error:', e)\n"
   ]
  },
  {
   "cell_type": "code",
   "execution_count": null,
   "id": "stainless-export",
   "metadata": {},
   "outputs": [],
   "source": [
    "# sklearn.tree._classes.BaseDecisionTree._validate_data\n",
    "try:\n",
    "    obj = class_constructor() # noqa F821\n",
    "    ret = obj._validate_data()\n",
    "    type_sklearn_tree__classes_BaseDecisionTree__validate_data = getattr(ret, '__module__', 'none') + '.' + ret.__class__.__name__\n",
    "    print('✅ sklearn.tree._classes.BaseDecisionTree._validate_data: ', type(ret)) # noqa E501\n",
    "except Exception as e:\n",
    "    type_sklearn_tree__classes_BaseDecisionTree__validate_data = '_syft_missing'\n",
    "    print('❌ sklearn.tree._classes.BaseDecisionTree._validate_data: Return unavailable') # noqa E501\n",
    "    print(\"  Please fix this return type code until there is no exception\")\n",
    "    print('  Error:', e)\n"
   ]
  },
  {
   "cell_type": "code",
   "execution_count": null,
   "id": "equivalent-cheat",
   "metadata": {},
   "outputs": [],
   "source": [
    "# sklearn.tree._classes.BaseDecisionTree.apply\n",
    "try:\n",
    "    obj = class_constructor() # noqa F821\n",
    "    ret = obj.apply()\n",
    "    type_sklearn_tree__classes_BaseDecisionTree_apply = getattr(ret, '__module__', 'none') + '.' + ret.__class__.__name__\n",
    "    print('✅ sklearn.tree._classes.BaseDecisionTree.apply: ', type(ret)) # noqa E501\n",
    "except Exception as e:\n",
    "    type_sklearn_tree__classes_BaseDecisionTree_apply = '_syft_missing'\n",
    "    print('❌ sklearn.tree._classes.BaseDecisionTree.apply: Return unavailable') # noqa E501\n",
    "    print(\"  Please fix this return type code until there is no exception\")\n",
    "    print('  Error:', e)\n"
   ]
  },
  {
   "cell_type": "code",
   "execution_count": null,
   "id": "nonprofit-oracle",
   "metadata": {},
   "outputs": [],
   "source": [
    "# sklearn.tree._classes.BaseDecisionTree.cost_complexity_pruning_path\n",
    "try:\n",
    "    obj = class_constructor() # noqa F821\n",
    "    ret = obj.cost_complexity_pruning_path()\n",
    "    type_sklearn_tree__classes_BaseDecisionTree_cost_complexity_pruning_path = getattr(ret, '__module__', 'none') + '.' + ret.__class__.__name__\n",
    "    print('✅ sklearn.tree._classes.BaseDecisionTree.cost_complexity_pruning_path: ', type(ret)) # noqa E501\n",
    "except Exception as e:\n",
    "    type_sklearn_tree__classes_BaseDecisionTree_cost_complexity_pruning_path = '_syft_missing'\n",
    "    print('❌ sklearn.tree._classes.BaseDecisionTree.cost_complexity_pruning_path: Return unavailable') # noqa E501\n",
    "    print(\"  Please fix this return type code until there is no exception\")\n",
    "    print('  Error:', e)\n"
   ]
  },
  {
   "cell_type": "code",
   "execution_count": null,
   "id": "magnetic-mileage",
   "metadata": {},
   "outputs": [],
   "source": [
    "# sklearn.tree._classes.BaseDecisionTree.decision_path\n",
    "try:\n",
    "    obj = class_constructor() # noqa F821\n",
    "    ret = obj.decision_path()\n",
    "    type_sklearn_tree__classes_BaseDecisionTree_decision_path = getattr(ret, '__module__', 'none') + '.' + ret.__class__.__name__\n",
    "    print('✅ sklearn.tree._classes.BaseDecisionTree.decision_path: ', type(ret)) # noqa E501\n",
    "except Exception as e:\n",
    "    type_sklearn_tree__classes_BaseDecisionTree_decision_path = '_syft_missing'\n",
    "    print('❌ sklearn.tree._classes.BaseDecisionTree.decision_path: Return unavailable') # noqa E501\n",
    "    print(\"  Please fix this return type code until there is no exception\")\n",
    "    print('  Error:', e)\n"
   ]
  },
  {
   "cell_type": "code",
   "execution_count": null,
   "id": "artistic-corpus",
   "metadata": {},
   "outputs": [],
   "source": [
    "# sklearn.tree._classes.BaseDecisionTree.feature_importances_\n",
    "try:\n",
    "    obj = class_constructor()\n",
    "    ret = obj.feature_importances_\n",
    "    type_sklearn_tree__classes_BaseDecisionTree_feature_importances_ = getattr(ret, '__module__', 'none') + '.' + ret.__class__.__name__\n",
    "    print('✅ sklearn.tree._classes.BaseDecisionTree.feature_importances_:', type(ret)) # noqa E501\n",
    "except Exception as e:\n",
    "    type_sklearn_tree__classes_BaseDecisionTree_feature_importances_ = '_syft_missing'\n",
    "    print('❌ sklearn.tree._classes.BaseDecisionTree.feature_importances_: Return unavailable') # noqa E501\n",
    "    print(\"  Please fix this return type code until there is no exception\")\n",
    "    print('  Error:', e)\n"
   ]
  },
  {
   "cell_type": "code",
   "execution_count": null,
   "id": "anonymous-design",
   "metadata": {},
   "outputs": [],
   "source": [
    "# sklearn.tree._classes.BaseDecisionTree.fit\n",
    "try:\n",
    "    obj = class_constructor() # noqa F821\n",
    "    ret = obj.fit()\n",
    "    type_sklearn_tree__classes_BaseDecisionTree_fit = getattr(ret, '__module__', 'none') + '.' + ret.__class__.__name__\n",
    "    print('✅ sklearn.tree._classes.BaseDecisionTree.fit: ', type(ret)) # noqa E501\n",
    "except Exception as e:\n",
    "    type_sklearn_tree__classes_BaseDecisionTree_fit = '_syft_missing'\n",
    "    print('❌ sklearn.tree._classes.BaseDecisionTree.fit: Return unavailable') # noqa E501\n",
    "    print(\"  Please fix this return type code until there is no exception\")\n",
    "    print('  Error:', e)\n"
   ]
  },
  {
   "cell_type": "code",
   "execution_count": null,
   "id": "dominant-greece",
   "metadata": {},
   "outputs": [],
   "source": [
    "# sklearn.tree._classes.BaseDecisionTree.get_depth\n",
    "try:\n",
    "    obj = class_constructor() # noqa F821\n",
    "    ret = obj.get_depth()\n",
    "    type_sklearn_tree__classes_BaseDecisionTree_get_depth = getattr(ret, '__module__', 'none') + '.' + ret.__class__.__name__\n",
    "    print('✅ sklearn.tree._classes.BaseDecisionTree.get_depth: ', type(ret)) # noqa E501\n",
    "except Exception as e:\n",
    "    type_sklearn_tree__classes_BaseDecisionTree_get_depth = '_syft_missing'\n",
    "    print('❌ sklearn.tree._classes.BaseDecisionTree.get_depth: Return unavailable') # noqa E501\n",
    "    print(\"  Please fix this return type code until there is no exception\")\n",
    "    print('  Error:', e)\n"
   ]
  },
  {
   "cell_type": "code",
   "execution_count": null,
   "id": "published-silicon",
   "metadata": {},
   "outputs": [],
   "source": [
    "# sklearn.tree._classes.BaseDecisionTree.get_n_leaves\n",
    "try:\n",
    "    obj = class_constructor() # noqa F821\n",
    "    ret = obj.get_n_leaves()\n",
    "    type_sklearn_tree__classes_BaseDecisionTree_get_n_leaves = getattr(ret, '__module__', 'none') + '.' + ret.__class__.__name__\n",
    "    print('✅ sklearn.tree._classes.BaseDecisionTree.get_n_leaves: ', type(ret)) # noqa E501\n",
    "except Exception as e:\n",
    "    type_sklearn_tree__classes_BaseDecisionTree_get_n_leaves = '_syft_missing'\n",
    "    print('❌ sklearn.tree._classes.BaseDecisionTree.get_n_leaves: Return unavailable') # noqa E501\n",
    "    print(\"  Please fix this return type code until there is no exception\")\n",
    "    print('  Error:', e)\n"
   ]
  },
  {
   "cell_type": "code",
   "execution_count": null,
   "id": "multiple-neighborhood",
   "metadata": {},
   "outputs": [],
   "source": [
    "# sklearn.tree._classes.BaseDecisionTree.get_params\n",
    "try:\n",
    "    obj = class_constructor() # noqa F821\n",
    "    ret = obj.get_params()\n",
    "    type_sklearn_tree__classes_BaseDecisionTree_get_params = getattr(ret, '__module__', 'none') + '.' + ret.__class__.__name__\n",
    "    print('✅ sklearn.tree._classes.BaseDecisionTree.get_params: ', type(ret)) # noqa E501\n",
    "except Exception as e:\n",
    "    type_sklearn_tree__classes_BaseDecisionTree_get_params = '_syft_missing'\n",
    "    print('❌ sklearn.tree._classes.BaseDecisionTree.get_params: Return unavailable') # noqa E501\n",
    "    print(\"  Please fix this return type code until there is no exception\")\n",
    "    print('  Error:', e)\n"
   ]
  },
  {
   "cell_type": "code",
   "execution_count": null,
   "id": "fundamental-jacksonville",
   "metadata": {},
   "outputs": [],
   "source": [
    "# sklearn.tree._classes.BaseDecisionTree.predict\n",
    "try:\n",
    "    obj = class_constructor() # noqa F821\n",
    "    ret = obj.predict()\n",
    "    type_sklearn_tree__classes_BaseDecisionTree_predict = getattr(ret, '__module__', 'none') + '.' + ret.__class__.__name__\n",
    "    print('✅ sklearn.tree._classes.BaseDecisionTree.predict: ', type(ret)) # noqa E501\n",
    "except Exception as e:\n",
    "    type_sklearn_tree__classes_BaseDecisionTree_predict = '_syft_missing'\n",
    "    print('❌ sklearn.tree._classes.BaseDecisionTree.predict: Return unavailable') # noqa E501\n",
    "    print(\"  Please fix this return type code until there is no exception\")\n",
    "    print('  Error:', e)\n"
   ]
  },
  {
   "cell_type": "code",
   "execution_count": null,
   "id": "accepted-rhythm",
   "metadata": {},
   "outputs": [],
   "source": [
    "# sklearn.tree._classes.BaseDecisionTree.set_params\n",
    "try:\n",
    "    obj = class_constructor() # noqa F821\n",
    "    ret = obj.set_params()\n",
    "    type_sklearn_tree__classes_BaseDecisionTree_set_params = getattr(ret, '__module__', 'none') + '.' + ret.__class__.__name__\n",
    "    print('✅ sklearn.tree._classes.BaseDecisionTree.set_params: ', type(ret)) # noqa E501\n",
    "except Exception as e:\n",
    "    type_sklearn_tree__classes_BaseDecisionTree_set_params = '_syft_missing'\n",
    "    print('❌ sklearn.tree._classes.BaseDecisionTree.set_params: Return unavailable') # noqa E501\n",
    "    print(\"  Please fix this return type code until there is no exception\")\n",
    "    print('  Error:', e)\n"
   ]
  }
 ],
 "metadata": {},
 "nbformat": 4,
 "nbformat_minor": 5
}
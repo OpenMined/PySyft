{
 "cells": [
  {
   "cell_type": "markdown",
   "id": "infectious-shakespeare",
   "metadata": {},
   "source": [
    "## sklearn.linear_model._least_angle.LassoLarsIC"
   ]
  },
  {
   "cell_type": "code",
   "execution_count": null,
   "id": "above-movement",
   "metadata": {},
   "outputs": [],
   "source": [
    "import sklearn\n",
    "def class_constructor(*args, **kwargs):\n",
    "    obj = sklearn.linear_model._least_angle.LassoLarsIC()\n",
    "    return obj\n"
   ]
  },
  {
   "cell_type": "code",
   "execution_count": null,
   "id": "efficient-click",
   "metadata": {},
   "outputs": [],
   "source": [
    "# sklearn.linear_model._least_angle.LassoLarsIC.__getstate__\n",
    "try:\n",
    "    obj = class_constructor() # noqa F821\n",
    "    ret = obj.__getstate__()\n",
    "    type_sklearn_linear_model__least_angle_LassoLarsIC___getstate__ = getattr(ret, '__module__', 'none') + '.' + ret.__class__.__name__\n",
    "    print('✅ sklearn.linear_model._least_angle.LassoLarsIC.__getstate__: ', type(ret)) # noqa E501\n",
    "except Exception as e:\n",
    "    type_sklearn_linear_model__least_angle_LassoLarsIC___getstate__ = '_syft_missing'\n",
    "    print('❌ sklearn.linear_model._least_angle.LassoLarsIC.__getstate__: Return unavailable') # noqa E501\n",
    "    print(\"  Please fix this return type code until there is no exception\")\n",
    "    print('  Error:', e)\n"
   ]
  },
  {
   "cell_type": "code",
   "execution_count": null,
   "id": "voluntary-apparel",
   "metadata": {},
   "outputs": [],
   "source": [
    "# sklearn.linear_model._least_angle.LassoLarsIC.__repr__\n",
    "try:\n",
    "    obj = class_constructor() # noqa F821\n",
    "    ret = obj.__repr__()\n",
    "    type_sklearn_linear_model__least_angle_LassoLarsIC___repr__ = getattr(ret, '__module__', 'none') + '.' + ret.__class__.__name__\n",
    "    print('✅ sklearn.linear_model._least_angle.LassoLarsIC.__repr__: ', type(ret)) # noqa E501\n",
    "except Exception as e:\n",
    "    type_sklearn_linear_model__least_angle_LassoLarsIC___repr__ = '_syft_missing'\n",
    "    print('❌ sklearn.linear_model._least_angle.LassoLarsIC.__repr__: Return unavailable') # noqa E501\n",
    "    print(\"  Please fix this return type code until there is no exception\")\n",
    "    print('  Error:', e)\n"
   ]
  },
  {
   "cell_type": "code",
   "execution_count": null,
   "id": "equipped-tender",
   "metadata": {},
   "outputs": [],
   "source": [
    "# sklearn.linear_model._least_angle.LassoLarsIC.__setstate__\n",
    "try:\n",
    "    obj = class_constructor() # noqa F821\n",
    "    ret = obj.__setstate__()\n",
    "    type_sklearn_linear_model__least_angle_LassoLarsIC___setstate__ = getattr(ret, '__module__', 'none') + '.' + ret.__class__.__name__\n",
    "    print('✅ sklearn.linear_model._least_angle.LassoLarsIC.__setstate__: ', type(ret)) # noqa E501\n",
    "except Exception as e:\n",
    "    type_sklearn_linear_model__least_angle_LassoLarsIC___setstate__ = '_syft_missing'\n",
    "    print('❌ sklearn.linear_model._least_angle.LassoLarsIC.__setstate__: Return unavailable') # noqa E501\n",
    "    print(\"  Please fix this return type code until there is no exception\")\n",
    "    print('  Error:', e)\n"
   ]
  },
  {
   "cell_type": "code",
   "execution_count": null,
   "id": "industrial-gregory",
   "metadata": {},
   "outputs": [],
   "source": [
    "# sklearn.linear_model._least_angle.LassoLarsIC._check_n_features\n",
    "try:\n",
    "    obj = class_constructor() # noqa F821\n",
    "    ret = obj._check_n_features()\n",
    "    type_sklearn_linear_model__least_angle_LassoLarsIC__check_n_features = getattr(ret, '__module__', 'none') + '.' + ret.__class__.__name__\n",
    "    print('✅ sklearn.linear_model._least_angle.LassoLarsIC._check_n_features: ', type(ret)) # noqa E501\n",
    "except Exception as e:\n",
    "    type_sklearn_linear_model__least_angle_LassoLarsIC__check_n_features = '_syft_missing'\n",
    "    print('❌ sklearn.linear_model._least_angle.LassoLarsIC._check_n_features: Return unavailable') # noqa E501\n",
    "    print(\"  Please fix this return type code until there is no exception\")\n",
    "    print('  Error:', e)\n"
   ]
  },
  {
   "cell_type": "code",
   "execution_count": null,
   "id": "congressional-acrylic",
   "metadata": {},
   "outputs": [],
   "source": [
    "# sklearn.linear_model._least_angle.LassoLarsIC._decision_function\n",
    "try:\n",
    "    obj = class_constructor() # noqa F821\n",
    "    ret = obj._decision_function()\n",
    "    type_sklearn_linear_model__least_angle_LassoLarsIC__decision_function = getattr(ret, '__module__', 'none') + '.' + ret.__class__.__name__\n",
    "    print('✅ sklearn.linear_model._least_angle.LassoLarsIC._decision_function: ', type(ret)) # noqa E501\n",
    "except Exception as e:\n",
    "    type_sklearn_linear_model__least_angle_LassoLarsIC__decision_function = '_syft_missing'\n",
    "    print('❌ sklearn.linear_model._least_angle.LassoLarsIC._decision_function: Return unavailable') # noqa E501\n",
    "    print(\"  Please fix this return type code until there is no exception\")\n",
    "    print('  Error:', e)\n"
   ]
  },
  {
   "cell_type": "code",
   "execution_count": null,
   "id": "dynamic-gamma",
   "metadata": {},
   "outputs": [],
   "source": [
    "# sklearn.linear_model._least_angle.LassoLarsIC._fit\n",
    "try:\n",
    "    obj = class_constructor() # noqa F821\n",
    "    ret = obj._fit()\n",
    "    type_sklearn_linear_model__least_angle_LassoLarsIC__fit = getattr(ret, '__module__', 'none') + '.' + ret.__class__.__name__\n",
    "    print('✅ sklearn.linear_model._least_angle.LassoLarsIC._fit: ', type(ret)) # noqa E501\n",
    "except Exception as e:\n",
    "    type_sklearn_linear_model__least_angle_LassoLarsIC__fit = '_syft_missing'\n",
    "    print('❌ sklearn.linear_model._least_angle.LassoLarsIC._fit: Return unavailable') # noqa E501\n",
    "    print(\"  Please fix this return type code until there is no exception\")\n",
    "    print('  Error:', e)\n"
   ]
  },
  {
   "cell_type": "code",
   "execution_count": null,
   "id": "phantom-texas",
   "metadata": {},
   "outputs": [],
   "source": [
    "# sklearn.linear_model._least_angle.LassoLarsIC._get_gram\n",
    "try:\n",
    "    obj = class_constructor() # noqa F821\n",
    "    ret = obj._get_gram()\n",
    "    type_sklearn_linear_model__least_angle_LassoLarsIC__get_gram = getattr(ret, '__module__', 'none') + '.' + ret.__class__.__name__\n",
    "    print('✅ sklearn.linear_model._least_angle.LassoLarsIC._get_gram: ', type(ret)) # noqa E501\n",
    "except Exception as e:\n",
    "    type_sklearn_linear_model__least_angle_LassoLarsIC__get_gram = '_syft_missing'\n",
    "    print('❌ sklearn.linear_model._least_angle.LassoLarsIC._get_gram: Return unavailable') # noqa E501\n",
    "    print(\"  Please fix this return type code until there is no exception\")\n",
    "    print('  Error:', e)\n"
   ]
  },
  {
   "cell_type": "code",
   "execution_count": null,
   "id": "given-lottery",
   "metadata": {},
   "outputs": [],
   "source": [
    "# sklearn.linear_model._least_angle.LassoLarsIC._get_param_names\n",
    "try:\n",
    "    obj = class_constructor() # noqa F821\n",
    "    ret = obj._get_param_names()\n",
    "    type_sklearn_linear_model__least_angle_LassoLarsIC__get_param_names = getattr(ret, '__module__', 'none') + '.' + ret.__class__.__name__\n",
    "    print('✅ sklearn.linear_model._least_angle.LassoLarsIC._get_param_names: ', type(ret)) # noqa E501\n",
    "except Exception as e:\n",
    "    type_sklearn_linear_model__least_angle_LassoLarsIC__get_param_names = '_syft_missing'\n",
    "    print('❌ sklearn.linear_model._least_angle.LassoLarsIC._get_param_names: Return unavailable') # noqa E501\n",
    "    print(\"  Please fix this return type code until there is no exception\")\n",
    "    print('  Error:', e)\n"
   ]
  },
  {
   "cell_type": "code",
   "execution_count": null,
   "id": "widespread-diesel",
   "metadata": {},
   "outputs": [],
   "source": [
    "# sklearn.linear_model._least_angle.LassoLarsIC._get_tags\n",
    "try:\n",
    "    obj = class_constructor() # noqa F821\n",
    "    ret = obj._get_tags()\n",
    "    type_sklearn_linear_model__least_angle_LassoLarsIC__get_tags = getattr(ret, '__module__', 'none') + '.' + ret.__class__.__name__\n",
    "    print('✅ sklearn.linear_model._least_angle.LassoLarsIC._get_tags: ', type(ret)) # noqa E501\n",
    "except Exception as e:\n",
    "    type_sklearn_linear_model__least_angle_LassoLarsIC__get_tags = '_syft_missing'\n",
    "    print('❌ sklearn.linear_model._least_angle.LassoLarsIC._get_tags: Return unavailable') # noqa E501\n",
    "    print(\"  Please fix this return type code until there is no exception\")\n",
    "    print('  Error:', e)\n"
   ]
  },
  {
   "cell_type": "code",
   "execution_count": null,
   "id": "binding-house",
   "metadata": {},
   "outputs": [],
   "source": [
    "# sklearn.linear_model._least_angle.LassoLarsIC._more_tags\n",
    "try:\n",
    "    obj = class_constructor() # noqa F821\n",
    "    ret = obj._more_tags()\n",
    "    type_sklearn_linear_model__least_angle_LassoLarsIC__more_tags = getattr(ret, '__module__', 'none') + '.' + ret.__class__.__name__\n",
    "    print('✅ sklearn.linear_model._least_angle.LassoLarsIC._more_tags: ', type(ret)) # noqa E501\n",
    "except Exception as e:\n",
    "    type_sklearn_linear_model__least_angle_LassoLarsIC__more_tags = '_syft_missing'\n",
    "    print('❌ sklearn.linear_model._least_angle.LassoLarsIC._more_tags: Return unavailable') # noqa E501\n",
    "    print(\"  Please fix this return type code until there is no exception\")\n",
    "    print('  Error:', e)\n"
   ]
  },
  {
   "cell_type": "code",
   "execution_count": null,
   "id": "controversial-fisher",
   "metadata": {},
   "outputs": [],
   "source": [
    "# sklearn.linear_model._least_angle.LassoLarsIC._preprocess_data\n",
    "try:\n",
    "    obj = class_constructor() # noqa F821\n",
    "    ret = obj._preprocess_data()\n",
    "    type_sklearn_linear_model__least_angle_LassoLarsIC__preprocess_data = getattr(ret, '__module__', 'none') + '.' + ret.__class__.__name__\n",
    "    print('✅ sklearn.linear_model._least_angle.LassoLarsIC._preprocess_data: ', type(ret)) # noqa E501\n",
    "except Exception as e:\n",
    "    type_sklearn_linear_model__least_angle_LassoLarsIC__preprocess_data = '_syft_missing'\n",
    "    print('❌ sklearn.linear_model._least_angle.LassoLarsIC._preprocess_data: Return unavailable') # noqa E501\n",
    "    print(\"  Please fix this return type code until there is no exception\")\n",
    "    print('  Error:', e)\n"
   ]
  },
  {
   "cell_type": "code",
   "execution_count": null,
   "id": "educated-adult",
   "metadata": {},
   "outputs": [],
   "source": [
    "# sklearn.linear_model._least_angle.LassoLarsIC._repr_html_\n",
    "try:\n",
    "    obj = class_constructor()\n",
    "    ret = obj._repr_html_\n",
    "    type_sklearn_linear_model__least_angle_LassoLarsIC__repr_html_ = getattr(ret, '__module__', 'none') + '.' + ret.__class__.__name__\n",
    "    print('✅ sklearn.linear_model._least_angle.LassoLarsIC._repr_html_:', type(ret)) # noqa E501\n",
    "except Exception as e:\n",
    "    type_sklearn_linear_model__least_angle_LassoLarsIC__repr_html_ = '_syft_missing'\n",
    "    print('❌ sklearn.linear_model._least_angle.LassoLarsIC._repr_html_: Return unavailable') # noqa E501\n",
    "    print(\"  Please fix this return type code until there is no exception\")\n",
    "    print('  Error:', e)\n"
   ]
  },
  {
   "cell_type": "code",
   "execution_count": null,
   "id": "smaller-immigration",
   "metadata": {},
   "outputs": [],
   "source": [
    "# sklearn.linear_model._least_angle.LassoLarsIC._repr_html_inner\n",
    "try:\n",
    "    obj = class_constructor() # noqa F821\n",
    "    ret = obj._repr_html_inner()\n",
    "    type_sklearn_linear_model__least_angle_LassoLarsIC__repr_html_inner = getattr(ret, '__module__', 'none') + '.' + ret.__class__.__name__\n",
    "    print('✅ sklearn.linear_model._least_angle.LassoLarsIC._repr_html_inner: ', type(ret)) # noqa E501\n",
    "except Exception as e:\n",
    "    type_sklearn_linear_model__least_angle_LassoLarsIC__repr_html_inner = '_syft_missing'\n",
    "    print('❌ sklearn.linear_model._least_angle.LassoLarsIC._repr_html_inner: Return unavailable') # noqa E501\n",
    "    print(\"  Please fix this return type code until there is no exception\")\n",
    "    print('  Error:', e)\n"
   ]
  },
  {
   "cell_type": "code",
   "execution_count": null,
   "id": "according-clinic",
   "metadata": {},
   "outputs": [],
   "source": [
    "# sklearn.linear_model._least_angle.LassoLarsIC._repr_mimebundle_\n",
    "try:\n",
    "    obj = class_constructor() # noqa F821\n",
    "    ret = obj._repr_mimebundle_()\n",
    "    type_sklearn_linear_model__least_angle_LassoLarsIC__repr_mimebundle_ = getattr(ret, '__module__', 'none') + '.' + ret.__class__.__name__\n",
    "    print('✅ sklearn.linear_model._least_angle.LassoLarsIC._repr_mimebundle_: ', type(ret)) # noqa E501\n",
    "except Exception as e:\n",
    "    type_sklearn_linear_model__least_angle_LassoLarsIC__repr_mimebundle_ = '_syft_missing'\n",
    "    print('❌ sklearn.linear_model._least_angle.LassoLarsIC._repr_mimebundle_: Return unavailable') # noqa E501\n",
    "    print(\"  Please fix this return type code until there is no exception\")\n",
    "    print('  Error:', e)\n"
   ]
  },
  {
   "cell_type": "code",
   "execution_count": null,
   "id": "changing-oxide",
   "metadata": {},
   "outputs": [],
   "source": [
    "# sklearn.linear_model._least_angle.LassoLarsIC._set_intercept\n",
    "try:\n",
    "    obj = class_constructor() # noqa F821\n",
    "    ret = obj._set_intercept()\n",
    "    type_sklearn_linear_model__least_angle_LassoLarsIC__set_intercept = getattr(ret, '__module__', 'none') + '.' + ret.__class__.__name__\n",
    "    print('✅ sklearn.linear_model._least_angle.LassoLarsIC._set_intercept: ', type(ret)) # noqa E501\n",
    "except Exception as e:\n",
    "    type_sklearn_linear_model__least_angle_LassoLarsIC__set_intercept = '_syft_missing'\n",
    "    print('❌ sklearn.linear_model._least_angle.LassoLarsIC._set_intercept: Return unavailable') # noqa E501\n",
    "    print(\"  Please fix this return type code until there is no exception\")\n",
    "    print('  Error:', e)\n"
   ]
  },
  {
   "cell_type": "code",
   "execution_count": null,
   "id": "recent-finding",
   "metadata": {},
   "outputs": [],
   "source": [
    "# sklearn.linear_model._least_angle.LassoLarsIC._validate_data\n",
    "try:\n",
    "    obj = class_constructor() # noqa F821\n",
    "    ret = obj._validate_data()\n",
    "    type_sklearn_linear_model__least_angle_LassoLarsIC__validate_data = getattr(ret, '__module__', 'none') + '.' + ret.__class__.__name__\n",
    "    print('✅ sklearn.linear_model._least_angle.LassoLarsIC._validate_data: ', type(ret)) # noqa E501\n",
    "except Exception as e:\n",
    "    type_sklearn_linear_model__least_angle_LassoLarsIC__validate_data = '_syft_missing'\n",
    "    print('❌ sklearn.linear_model._least_angle.LassoLarsIC._validate_data: Return unavailable') # noqa E501\n",
    "    print(\"  Please fix this return type code until there is no exception\")\n",
    "    print('  Error:', e)\n"
   ]
  },
  {
   "cell_type": "code",
   "execution_count": null,
   "id": "color-passport",
   "metadata": {},
   "outputs": [],
   "source": [
    "# sklearn.linear_model._least_angle.LassoLarsIC.fit\n",
    "try:\n",
    "    obj = class_constructor() # noqa F821\n",
    "    ret = obj.fit()\n",
    "    type_sklearn_linear_model__least_angle_LassoLarsIC_fit = getattr(ret, '__module__', 'none') + '.' + ret.__class__.__name__\n",
    "    print('✅ sklearn.linear_model._least_angle.LassoLarsIC.fit: ', type(ret)) # noqa E501\n",
    "except Exception as e:\n",
    "    type_sklearn_linear_model__least_angle_LassoLarsIC_fit = '_syft_missing'\n",
    "    print('❌ sklearn.linear_model._least_angle.LassoLarsIC.fit: Return unavailable') # noqa E501\n",
    "    print(\"  Please fix this return type code until there is no exception\")\n",
    "    print('  Error:', e)\n"
   ]
  },
  {
   "cell_type": "code",
   "execution_count": null,
   "id": "violent-margin",
   "metadata": {},
   "outputs": [],
   "source": [
    "# sklearn.linear_model._least_angle.LassoLarsIC.get_params\n",
    "try:\n",
    "    obj = class_constructor() # noqa F821\n",
    "    ret = obj.get_params()\n",
    "    type_sklearn_linear_model__least_angle_LassoLarsIC_get_params = getattr(ret, '__module__', 'none') + '.' + ret.__class__.__name__\n",
    "    print('✅ sklearn.linear_model._least_angle.LassoLarsIC.get_params: ', type(ret)) # noqa E501\n",
    "except Exception as e:\n",
    "    type_sklearn_linear_model__least_angle_LassoLarsIC_get_params = '_syft_missing'\n",
    "    print('❌ sklearn.linear_model._least_angle.LassoLarsIC.get_params: Return unavailable') # noqa E501\n",
    "    print(\"  Please fix this return type code until there is no exception\")\n",
    "    print('  Error:', e)\n"
   ]
  },
  {
   "cell_type": "code",
   "execution_count": null,
   "id": "bottom-greene",
   "metadata": {},
   "outputs": [],
   "source": [
    "# sklearn.linear_model._least_angle.LassoLarsIC.predict\n",
    "try:\n",
    "    obj = class_constructor() # noqa F821\n",
    "    ret = obj.predict()\n",
    "    type_sklearn_linear_model__least_angle_LassoLarsIC_predict = getattr(ret, '__module__', 'none') + '.' + ret.__class__.__name__\n",
    "    print('✅ sklearn.linear_model._least_angle.LassoLarsIC.predict: ', type(ret)) # noqa E501\n",
    "except Exception as e:\n",
    "    type_sklearn_linear_model__least_angle_LassoLarsIC_predict = '_syft_missing'\n",
    "    print('❌ sklearn.linear_model._least_angle.LassoLarsIC.predict: Return unavailable') # noqa E501\n",
    "    print(\"  Please fix this return type code until there is no exception\")\n",
    "    print('  Error:', e)\n"
   ]
  },
  {
   "cell_type": "code",
   "execution_count": null,
   "id": "substantial-cradle",
   "metadata": {},
   "outputs": [],
   "source": [
    "# sklearn.linear_model._least_angle.LassoLarsIC.score\n",
    "try:\n",
    "    obj = class_constructor() # noqa F821\n",
    "    ret = obj.score()\n",
    "    type_sklearn_linear_model__least_angle_LassoLarsIC_score = getattr(ret, '__module__', 'none') + '.' + ret.__class__.__name__\n",
    "    print('✅ sklearn.linear_model._least_angle.LassoLarsIC.score: ', type(ret)) # noqa E501\n",
    "except Exception as e:\n",
    "    type_sklearn_linear_model__least_angle_LassoLarsIC_score = '_syft_missing'\n",
    "    print('❌ sklearn.linear_model._least_angle.LassoLarsIC.score: Return unavailable') # noqa E501\n",
    "    print(\"  Please fix this return type code until there is no exception\")\n",
    "    print('  Error:', e)\n"
   ]
  },
  {
   "cell_type": "code",
   "execution_count": null,
   "id": "instant-house",
   "metadata": {},
   "outputs": [],
   "source": [
    "# sklearn.linear_model._least_angle.LassoLarsIC.set_params\n",
    "try:\n",
    "    obj = class_constructor() # noqa F821\n",
    "    ret = obj.set_params()\n",
    "    type_sklearn_linear_model__least_angle_LassoLarsIC_set_params = getattr(ret, '__module__', 'none') + '.' + ret.__class__.__name__\n",
    "    print('✅ sklearn.linear_model._least_angle.LassoLarsIC.set_params: ', type(ret)) # noqa E501\n",
    "except Exception as e:\n",
    "    type_sklearn_linear_model__least_angle_LassoLarsIC_set_params = '_syft_missing'\n",
    "    print('❌ sklearn.linear_model._least_angle.LassoLarsIC.set_params: Return unavailable') # noqa E501\n",
    "    print(\"  Please fix this return type code until there is no exception\")\n",
    "    print('  Error:', e)\n"
   ]
  }
 ],
 "metadata": {},
 "nbformat": 4,
 "nbformat_minor": 5
}
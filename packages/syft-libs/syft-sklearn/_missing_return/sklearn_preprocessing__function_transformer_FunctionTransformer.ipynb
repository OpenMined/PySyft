{
 "cells": [
  {
   "cell_type": "markdown",
   "id": "governing-asian",
   "metadata": {},
   "source": [
    "## sklearn.preprocessing._function_transformer.FunctionTransformer"
   ]
  },
  {
   "cell_type": "code",
   "execution_count": null,
   "id": "premier-neighborhood",
   "metadata": {},
   "outputs": [],
   "source": [
    "import sklearn\n",
    "def class_constructor(*args, **kwargs):\n",
    "    obj = sklearn.preprocessing._function_transformer.FunctionTransformer()\n",
    "    return obj\n"
   ]
  },
  {
   "cell_type": "code",
   "execution_count": null,
   "id": "proud-pollution",
   "metadata": {},
   "outputs": [],
   "source": [
    "# sklearn.preprocessing._function_transformer.FunctionTransformer.__getstate__\n",
    "try:\n",
    "    obj = class_constructor() # noqa F821\n",
    "    ret = obj.__getstate__()\n",
    "    type_sklearn_preprocessing__function_transformer_FunctionTransformer___getstate__ = getattr(ret, '__module__', 'none') + '.' + ret.__class__.__name__\n",
    "    print('✅ sklearn.preprocessing._function_transformer.FunctionTransformer.__getstate__: ', type(ret)) # noqa E501\n",
    "except Exception as e:\n",
    "    type_sklearn_preprocessing__function_transformer_FunctionTransformer___getstate__ = '_syft_missing'\n",
    "    print('❌ sklearn.preprocessing._function_transformer.FunctionTransformer.__getstate__: Return unavailable') # noqa E501\n",
    "    print(\"  Please fix this return type code until there is no exception\")\n",
    "    print('  Error:', e)\n"
   ]
  },
  {
   "cell_type": "code",
   "execution_count": null,
   "id": "overall-small",
   "metadata": {},
   "outputs": [],
   "source": [
    "# sklearn.preprocessing._function_transformer.FunctionTransformer.__repr__\n",
    "try:\n",
    "    obj = class_constructor() # noqa F821\n",
    "    ret = obj.__repr__()\n",
    "    type_sklearn_preprocessing__function_transformer_FunctionTransformer___repr__ = getattr(ret, '__module__', 'none') + '.' + ret.__class__.__name__\n",
    "    print('✅ sklearn.preprocessing._function_transformer.FunctionTransformer.__repr__: ', type(ret)) # noqa E501\n",
    "except Exception as e:\n",
    "    type_sklearn_preprocessing__function_transformer_FunctionTransformer___repr__ = '_syft_missing'\n",
    "    print('❌ sklearn.preprocessing._function_transformer.FunctionTransformer.__repr__: Return unavailable') # noqa E501\n",
    "    print(\"  Please fix this return type code until there is no exception\")\n",
    "    print('  Error:', e)\n"
   ]
  },
  {
   "cell_type": "code",
   "execution_count": null,
   "id": "arctic-share",
   "metadata": {},
   "outputs": [],
   "source": [
    "# sklearn.preprocessing._function_transformer.FunctionTransformer.__setstate__\n",
    "try:\n",
    "    obj = class_constructor() # noqa F821\n",
    "    ret = obj.__setstate__()\n",
    "    type_sklearn_preprocessing__function_transformer_FunctionTransformer___setstate__ = getattr(ret, '__module__', 'none') + '.' + ret.__class__.__name__\n",
    "    print('✅ sklearn.preprocessing._function_transformer.FunctionTransformer.__setstate__: ', type(ret)) # noqa E501\n",
    "except Exception as e:\n",
    "    type_sklearn_preprocessing__function_transformer_FunctionTransformer___setstate__ = '_syft_missing'\n",
    "    print('❌ sklearn.preprocessing._function_transformer.FunctionTransformer.__setstate__: Return unavailable') # noqa E501\n",
    "    print(\"  Please fix this return type code until there is no exception\")\n",
    "    print('  Error:', e)\n"
   ]
  },
  {
   "cell_type": "code",
   "execution_count": null,
   "id": "representative-lawsuit",
   "metadata": {},
   "outputs": [],
   "source": [
    "# sklearn.preprocessing._function_transformer.FunctionTransformer._check_input\n",
    "try:\n",
    "    obj = class_constructor() # noqa F821\n",
    "    ret = obj._check_input()\n",
    "    type_sklearn_preprocessing__function_transformer_FunctionTransformer__check_input = getattr(ret, '__module__', 'none') + '.' + ret.__class__.__name__\n",
    "    print('✅ sklearn.preprocessing._function_transformer.FunctionTransformer._check_input: ', type(ret)) # noqa E501\n",
    "except Exception as e:\n",
    "    type_sklearn_preprocessing__function_transformer_FunctionTransformer__check_input = '_syft_missing'\n",
    "    print('❌ sklearn.preprocessing._function_transformer.FunctionTransformer._check_input: Return unavailable') # noqa E501\n",
    "    print(\"  Please fix this return type code until there is no exception\")\n",
    "    print('  Error:', e)\n"
   ]
  },
  {
   "cell_type": "code",
   "execution_count": null,
   "id": "rolled-acrobat",
   "metadata": {},
   "outputs": [],
   "source": [
    "# sklearn.preprocessing._function_transformer.FunctionTransformer._check_inverse_transform\n",
    "try:\n",
    "    obj = class_constructor() # noqa F821\n",
    "    ret = obj._check_inverse_transform()\n",
    "    type_sklearn_preprocessing__function_transformer_FunctionTransformer__check_inverse_transform = getattr(ret, '__module__', 'none') + '.' + ret.__class__.__name__\n",
    "    print('✅ sklearn.preprocessing._function_transformer.FunctionTransformer._check_inverse_transform: ', type(ret)) # noqa E501\n",
    "except Exception as e:\n",
    "    type_sklearn_preprocessing__function_transformer_FunctionTransformer__check_inverse_transform = '_syft_missing'\n",
    "    print('❌ sklearn.preprocessing._function_transformer.FunctionTransformer._check_inverse_transform: Return unavailable') # noqa E501\n",
    "    print(\"  Please fix this return type code until there is no exception\")\n",
    "    print('  Error:', e)\n"
   ]
  },
  {
   "cell_type": "code",
   "execution_count": null,
   "id": "fundamental-street",
   "metadata": {},
   "outputs": [],
   "source": [
    "# sklearn.preprocessing._function_transformer.FunctionTransformer._check_n_features\n",
    "try:\n",
    "    obj = class_constructor() # noqa F821\n",
    "    ret = obj._check_n_features()\n",
    "    type_sklearn_preprocessing__function_transformer_FunctionTransformer__check_n_features = getattr(ret, '__module__', 'none') + '.' + ret.__class__.__name__\n",
    "    print('✅ sklearn.preprocessing._function_transformer.FunctionTransformer._check_n_features: ', type(ret)) # noqa E501\n",
    "except Exception as e:\n",
    "    type_sklearn_preprocessing__function_transformer_FunctionTransformer__check_n_features = '_syft_missing'\n",
    "    print('❌ sklearn.preprocessing._function_transformer.FunctionTransformer._check_n_features: Return unavailable') # noqa E501\n",
    "    print(\"  Please fix this return type code until there is no exception\")\n",
    "    print('  Error:', e)\n"
   ]
  },
  {
   "cell_type": "code",
   "execution_count": null,
   "id": "essential-dublin",
   "metadata": {},
   "outputs": [],
   "source": [
    "# sklearn.preprocessing._function_transformer.FunctionTransformer._get_param_names\n",
    "try:\n",
    "    obj = class_constructor() # noqa F821\n",
    "    ret = obj._get_param_names()\n",
    "    type_sklearn_preprocessing__function_transformer_FunctionTransformer__get_param_names = getattr(ret, '__module__', 'none') + '.' + ret.__class__.__name__\n",
    "    print('✅ sklearn.preprocessing._function_transformer.FunctionTransformer._get_param_names: ', type(ret)) # noqa E501\n",
    "except Exception as e:\n",
    "    type_sklearn_preprocessing__function_transformer_FunctionTransformer__get_param_names = '_syft_missing'\n",
    "    print('❌ sklearn.preprocessing._function_transformer.FunctionTransformer._get_param_names: Return unavailable') # noqa E501\n",
    "    print(\"  Please fix this return type code until there is no exception\")\n",
    "    print('  Error:', e)\n"
   ]
  },
  {
   "cell_type": "code",
   "execution_count": null,
   "id": "random-reservation",
   "metadata": {},
   "outputs": [],
   "source": [
    "# sklearn.preprocessing._function_transformer.FunctionTransformer._get_tags\n",
    "try:\n",
    "    obj = class_constructor() # noqa F821\n",
    "    ret = obj._get_tags()\n",
    "    type_sklearn_preprocessing__function_transformer_FunctionTransformer__get_tags = getattr(ret, '__module__', 'none') + '.' + ret.__class__.__name__\n",
    "    print('✅ sklearn.preprocessing._function_transformer.FunctionTransformer._get_tags: ', type(ret)) # noqa E501\n",
    "except Exception as e:\n",
    "    type_sklearn_preprocessing__function_transformer_FunctionTransformer__get_tags = '_syft_missing'\n",
    "    print('❌ sklearn.preprocessing._function_transformer.FunctionTransformer._get_tags: Return unavailable') # noqa E501\n",
    "    print(\"  Please fix this return type code until there is no exception\")\n",
    "    print('  Error:', e)\n"
   ]
  },
  {
   "cell_type": "code",
   "execution_count": null,
   "id": "sufficient-gossip",
   "metadata": {},
   "outputs": [],
   "source": [
    "# sklearn.preprocessing._function_transformer.FunctionTransformer._more_tags\n",
    "try:\n",
    "    obj = class_constructor() # noqa F821\n",
    "    ret = obj._more_tags()\n",
    "    type_sklearn_preprocessing__function_transformer_FunctionTransformer__more_tags = getattr(ret, '__module__', 'none') + '.' + ret.__class__.__name__\n",
    "    print('✅ sklearn.preprocessing._function_transformer.FunctionTransformer._more_tags: ', type(ret)) # noqa E501\n",
    "except Exception as e:\n",
    "    type_sklearn_preprocessing__function_transformer_FunctionTransformer__more_tags = '_syft_missing'\n",
    "    print('❌ sklearn.preprocessing._function_transformer.FunctionTransformer._more_tags: Return unavailable') # noqa E501\n",
    "    print(\"  Please fix this return type code until there is no exception\")\n",
    "    print('  Error:', e)\n"
   ]
  },
  {
   "cell_type": "code",
   "execution_count": null,
   "id": "alpine-vocabulary",
   "metadata": {},
   "outputs": [],
   "source": [
    "# sklearn.preprocessing._function_transformer.FunctionTransformer._repr_html_\n",
    "try:\n",
    "    obj = class_constructor()\n",
    "    ret = obj._repr_html_\n",
    "    type_sklearn_preprocessing__function_transformer_FunctionTransformer__repr_html_ = getattr(ret, '__module__', 'none') + '.' + ret.__class__.__name__\n",
    "    print('✅ sklearn.preprocessing._function_transformer.FunctionTransformer._repr_html_:', type(ret)) # noqa E501\n",
    "except Exception as e:\n",
    "    type_sklearn_preprocessing__function_transformer_FunctionTransformer__repr_html_ = '_syft_missing'\n",
    "    print('❌ sklearn.preprocessing._function_transformer.FunctionTransformer._repr_html_: Return unavailable') # noqa E501\n",
    "    print(\"  Please fix this return type code until there is no exception\")\n",
    "    print('  Error:', e)\n"
   ]
  },
  {
   "cell_type": "code",
   "execution_count": null,
   "id": "described-sport",
   "metadata": {},
   "outputs": [],
   "source": [
    "# sklearn.preprocessing._function_transformer.FunctionTransformer._repr_html_inner\n",
    "try:\n",
    "    obj = class_constructor() # noqa F821\n",
    "    ret = obj._repr_html_inner()\n",
    "    type_sklearn_preprocessing__function_transformer_FunctionTransformer__repr_html_inner = getattr(ret, '__module__', 'none') + '.' + ret.__class__.__name__\n",
    "    print('✅ sklearn.preprocessing._function_transformer.FunctionTransformer._repr_html_inner: ', type(ret)) # noqa E501\n",
    "except Exception as e:\n",
    "    type_sklearn_preprocessing__function_transformer_FunctionTransformer__repr_html_inner = '_syft_missing'\n",
    "    print('❌ sklearn.preprocessing._function_transformer.FunctionTransformer._repr_html_inner: Return unavailable') # noqa E501\n",
    "    print(\"  Please fix this return type code until there is no exception\")\n",
    "    print('  Error:', e)\n"
   ]
  },
  {
   "cell_type": "code",
   "execution_count": null,
   "id": "transsexual-breakfast",
   "metadata": {},
   "outputs": [],
   "source": [
    "# sklearn.preprocessing._function_transformer.FunctionTransformer._repr_mimebundle_\n",
    "try:\n",
    "    obj = class_constructor() # noqa F821\n",
    "    ret = obj._repr_mimebundle_()\n",
    "    type_sklearn_preprocessing__function_transformer_FunctionTransformer__repr_mimebundle_ = getattr(ret, '__module__', 'none') + '.' + ret.__class__.__name__\n",
    "    print('✅ sklearn.preprocessing._function_transformer.FunctionTransformer._repr_mimebundle_: ', type(ret)) # noqa E501\n",
    "except Exception as e:\n",
    "    type_sklearn_preprocessing__function_transformer_FunctionTransformer__repr_mimebundle_ = '_syft_missing'\n",
    "    print('❌ sklearn.preprocessing._function_transformer.FunctionTransformer._repr_mimebundle_: Return unavailable') # noqa E501\n",
    "    print(\"  Please fix this return type code until there is no exception\")\n",
    "    print('  Error:', e)\n"
   ]
  },
  {
   "cell_type": "code",
   "execution_count": null,
   "id": "vocational-desert",
   "metadata": {},
   "outputs": [],
   "source": [
    "# sklearn.preprocessing._function_transformer.FunctionTransformer._transform\n",
    "try:\n",
    "    obj = class_constructor() # noqa F821\n",
    "    ret = obj._transform()\n",
    "    type_sklearn_preprocessing__function_transformer_FunctionTransformer__transform = getattr(ret, '__module__', 'none') + '.' + ret.__class__.__name__\n",
    "    print('✅ sklearn.preprocessing._function_transformer.FunctionTransformer._transform: ', type(ret)) # noqa E501\n",
    "except Exception as e:\n",
    "    type_sklearn_preprocessing__function_transformer_FunctionTransformer__transform = '_syft_missing'\n",
    "    print('❌ sklearn.preprocessing._function_transformer.FunctionTransformer._transform: Return unavailable') # noqa E501\n",
    "    print(\"  Please fix this return type code until there is no exception\")\n",
    "    print('  Error:', e)\n"
   ]
  },
  {
   "cell_type": "code",
   "execution_count": null,
   "id": "narrow-seeking",
   "metadata": {},
   "outputs": [],
   "source": [
    "# sklearn.preprocessing._function_transformer.FunctionTransformer._validate_data\n",
    "try:\n",
    "    obj = class_constructor() # noqa F821\n",
    "    ret = obj._validate_data()\n",
    "    type_sklearn_preprocessing__function_transformer_FunctionTransformer__validate_data = getattr(ret, '__module__', 'none') + '.' + ret.__class__.__name__\n",
    "    print('✅ sklearn.preprocessing._function_transformer.FunctionTransformer._validate_data: ', type(ret)) # noqa E501\n",
    "except Exception as e:\n",
    "    type_sklearn_preprocessing__function_transformer_FunctionTransformer__validate_data = '_syft_missing'\n",
    "    print('❌ sklearn.preprocessing._function_transformer.FunctionTransformer._validate_data: Return unavailable') # noqa E501\n",
    "    print(\"  Please fix this return type code until there is no exception\")\n",
    "    print('  Error:', e)\n"
   ]
  },
  {
   "cell_type": "code",
   "execution_count": null,
   "id": "flexible-mobility",
   "metadata": {},
   "outputs": [],
   "source": [
    "# sklearn.preprocessing._function_transformer.FunctionTransformer.fit\n",
    "try:\n",
    "    obj = class_constructor() # noqa F821\n",
    "    ret = obj.fit()\n",
    "    type_sklearn_preprocessing__function_transformer_FunctionTransformer_fit = getattr(ret, '__module__', 'none') + '.' + ret.__class__.__name__\n",
    "    print('✅ sklearn.preprocessing._function_transformer.FunctionTransformer.fit: ', type(ret)) # noqa E501\n",
    "except Exception as e:\n",
    "    type_sklearn_preprocessing__function_transformer_FunctionTransformer_fit = '_syft_missing'\n",
    "    print('❌ sklearn.preprocessing._function_transformer.FunctionTransformer.fit: Return unavailable') # noqa E501\n",
    "    print(\"  Please fix this return type code until there is no exception\")\n",
    "    print('  Error:', e)\n"
   ]
  },
  {
   "cell_type": "code",
   "execution_count": null,
   "id": "planned-science",
   "metadata": {},
   "outputs": [],
   "source": [
    "# sklearn.preprocessing._function_transformer.FunctionTransformer.fit_transform\n",
    "try:\n",
    "    obj = class_constructor() # noqa F821\n",
    "    ret = obj.fit_transform()\n",
    "    type_sklearn_preprocessing__function_transformer_FunctionTransformer_fit_transform = getattr(ret, '__module__', 'none') + '.' + ret.__class__.__name__\n",
    "    print('✅ sklearn.preprocessing._function_transformer.FunctionTransformer.fit_transform: ', type(ret)) # noqa E501\n",
    "except Exception as e:\n",
    "    type_sklearn_preprocessing__function_transformer_FunctionTransformer_fit_transform = '_syft_missing'\n",
    "    print('❌ sklearn.preprocessing._function_transformer.FunctionTransformer.fit_transform: Return unavailable') # noqa E501\n",
    "    print(\"  Please fix this return type code until there is no exception\")\n",
    "    print('  Error:', e)\n"
   ]
  },
  {
   "cell_type": "code",
   "execution_count": null,
   "id": "honest-pontiac",
   "metadata": {},
   "outputs": [],
   "source": [
    "# sklearn.preprocessing._function_transformer.FunctionTransformer.get_params\n",
    "try:\n",
    "    obj = class_constructor() # noqa F821\n",
    "    ret = obj.get_params()\n",
    "    type_sklearn_preprocessing__function_transformer_FunctionTransformer_get_params = getattr(ret, '__module__', 'none') + '.' + ret.__class__.__name__\n",
    "    print('✅ sklearn.preprocessing._function_transformer.FunctionTransformer.get_params: ', type(ret)) # noqa E501\n",
    "except Exception as e:\n",
    "    type_sklearn_preprocessing__function_transformer_FunctionTransformer_get_params = '_syft_missing'\n",
    "    print('❌ sklearn.preprocessing._function_transformer.FunctionTransformer.get_params: Return unavailable') # noqa E501\n",
    "    print(\"  Please fix this return type code until there is no exception\")\n",
    "    print('  Error:', e)\n"
   ]
  },
  {
   "cell_type": "code",
   "execution_count": null,
   "id": "complimentary-flooring",
   "metadata": {},
   "outputs": [],
   "source": [
    "# sklearn.preprocessing._function_transformer.FunctionTransformer.inverse_transform\n",
    "try:\n",
    "    obj = class_constructor() # noqa F821\n",
    "    ret = obj.inverse_transform()\n",
    "    type_sklearn_preprocessing__function_transformer_FunctionTransformer_inverse_transform = getattr(ret, '__module__', 'none') + '.' + ret.__class__.__name__\n",
    "    print('✅ sklearn.preprocessing._function_transformer.FunctionTransformer.inverse_transform: ', type(ret)) # noqa E501\n",
    "except Exception as e:\n",
    "    type_sklearn_preprocessing__function_transformer_FunctionTransformer_inverse_transform = '_syft_missing'\n",
    "    print('❌ sklearn.preprocessing._function_transformer.FunctionTransformer.inverse_transform: Return unavailable') # noqa E501\n",
    "    print(\"  Please fix this return type code until there is no exception\")\n",
    "    print('  Error:', e)\n"
   ]
  },
  {
   "cell_type": "code",
   "execution_count": null,
   "id": "durable-business",
   "metadata": {},
   "outputs": [],
   "source": [
    "# sklearn.preprocessing._function_transformer.FunctionTransformer.set_params\n",
    "try:\n",
    "    obj = class_constructor() # noqa F821\n",
    "    ret = obj.set_params()\n",
    "    type_sklearn_preprocessing__function_transformer_FunctionTransformer_set_params = getattr(ret, '__module__', 'none') + '.' + ret.__class__.__name__\n",
    "    print('✅ sklearn.preprocessing._function_transformer.FunctionTransformer.set_params: ', type(ret)) # noqa E501\n",
    "except Exception as e:\n",
    "    type_sklearn_preprocessing__function_transformer_FunctionTransformer_set_params = '_syft_missing'\n",
    "    print('❌ sklearn.preprocessing._function_transformer.FunctionTransformer.set_params: Return unavailable') # noqa E501\n",
    "    print(\"  Please fix this return type code until there is no exception\")\n",
    "    print('  Error:', e)\n"
   ]
  },
  {
   "cell_type": "code",
   "execution_count": null,
   "id": "mexican-cooperation",
   "metadata": {},
   "outputs": [],
   "source": [
    "# sklearn.preprocessing._function_transformer.FunctionTransformer.transform\n",
    "try:\n",
    "    obj = class_constructor() # noqa F821\n",
    "    ret = obj.transform()\n",
    "    type_sklearn_preprocessing__function_transformer_FunctionTransformer_transform = getattr(ret, '__module__', 'none') + '.' + ret.__class__.__name__\n",
    "    print('✅ sklearn.preprocessing._function_transformer.FunctionTransformer.transform: ', type(ret)) # noqa E501\n",
    "except Exception as e:\n",
    "    type_sklearn_preprocessing__function_transformer_FunctionTransformer_transform = '_syft_missing'\n",
    "    print('❌ sklearn.preprocessing._function_transformer.FunctionTransformer.transform: Return unavailable') # noqa E501\n",
    "    print(\"  Please fix this return type code until there is no exception\")\n",
    "    print('  Error:', e)\n"
   ]
  }
 ],
 "metadata": {},
 "nbformat": 4,
 "nbformat_minor": 5
}
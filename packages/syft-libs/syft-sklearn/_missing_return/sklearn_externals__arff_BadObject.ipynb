{
 "cells": [
  {
   "cell_type": "markdown",
   "id": "every-treasure",
   "metadata": {},
   "source": [
    "## sklearn.externals._arff.BadObject"
   ]
  },
  {
   "cell_type": "code",
   "execution_count": null,
   "id": "hourly-arrival",
   "metadata": {},
   "outputs": [],
   "source": [
    "import sklearn\n",
    "def class_constructor(*args, **kwargs):\n",
    "    obj = sklearn.externals._arff.BadObject()\n",
    "    return obj\n"
   ]
  },
  {
   "cell_type": "code",
   "execution_count": null,
   "id": "photographic-windows",
   "metadata": {},
   "outputs": [],
   "source": [
    "# sklearn.externals._arff.BadObject.__str__\n",
    "try:\n",
    "    obj = class_constructor() # noqa F821\n",
    "    ret = obj.__str__()\n",
    "    type_sklearn_externals__arff_BadObject___str__ = getattr(ret, '__module__', 'none') + '.' + ret.__class__.__name__\n",
    "    print('✅ sklearn.externals._arff.BadObject.__str__: ', type(ret)) # noqa E501\n",
    "except Exception as e:\n",
    "    type_sklearn_externals__arff_BadObject___str__ = '_syft_missing'\n",
    "    print('❌ sklearn.externals._arff.BadObject.__str__: Return unavailable') # noqa E501\n",
    "    print(\"  Please fix this return type code until there is no exception\")\n",
    "    print('  Error:', e)\n"
   ]
  }
 ],
 "metadata": {},
 "nbformat": 4,
 "nbformat_minor": 5
}
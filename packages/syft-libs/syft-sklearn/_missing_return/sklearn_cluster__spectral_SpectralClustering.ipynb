{
 "cells": [
  {
   "cell_type": "markdown",
   "id": "removable-league",
   "metadata": {},
   "source": [
    "## sklearn.cluster._spectral.SpectralClustering"
   ]
  },
  {
   "cell_type": "code",
   "execution_count": null,
   "id": "municipal-gregory",
   "metadata": {},
   "outputs": [],
   "source": [
    "import sklearn\n",
    "def class_constructor(*args, **kwargs):\n",
    "    obj = sklearn.cluster._spectral.SpectralClustering()\n",
    "    return obj\n"
   ]
  },
  {
   "cell_type": "code",
   "execution_count": null,
   "id": "artistic-nutrition",
   "metadata": {},
   "outputs": [],
   "source": [
    "# sklearn.cluster._spectral.SpectralClustering.__getstate__\n",
    "try:\n",
    "    obj = class_constructor() # noqa F821\n",
    "    ret = obj.__getstate__()\n",
    "    type_sklearn_cluster__spectral_SpectralClustering___getstate__ = getattr(ret, '__module__', 'none') + '.' + ret.__class__.__name__\n",
    "    print('✅ sklearn.cluster._spectral.SpectralClustering.__getstate__: ', type(ret)) # noqa E501\n",
    "except Exception as e:\n",
    "    type_sklearn_cluster__spectral_SpectralClustering___getstate__ = '_syft_missing'\n",
    "    print('❌ sklearn.cluster._spectral.SpectralClustering.__getstate__: Return unavailable') # noqa E501\n",
    "    print(\"  Please fix this return type code until there is no exception\")\n",
    "    print('  Error:', e)\n"
   ]
  },
  {
   "cell_type": "code",
   "execution_count": null,
   "id": "joined-balance",
   "metadata": {},
   "outputs": [],
   "source": [
    "# sklearn.cluster._spectral.SpectralClustering.__repr__\n",
    "try:\n",
    "    obj = class_constructor() # noqa F821\n",
    "    ret = obj.__repr__()\n",
    "    type_sklearn_cluster__spectral_SpectralClustering___repr__ = getattr(ret, '__module__', 'none') + '.' + ret.__class__.__name__\n",
    "    print('✅ sklearn.cluster._spectral.SpectralClustering.__repr__: ', type(ret)) # noqa E501\n",
    "except Exception as e:\n",
    "    type_sklearn_cluster__spectral_SpectralClustering___repr__ = '_syft_missing'\n",
    "    print('❌ sklearn.cluster._spectral.SpectralClustering.__repr__: Return unavailable') # noqa E501\n",
    "    print(\"  Please fix this return type code until there is no exception\")\n",
    "    print('  Error:', e)\n"
   ]
  },
  {
   "cell_type": "code",
   "execution_count": null,
   "id": "impressed-gentleman",
   "metadata": {},
   "outputs": [],
   "source": [
    "# sklearn.cluster._spectral.SpectralClustering.__setstate__\n",
    "try:\n",
    "    obj = class_constructor() # noqa F821\n",
    "    ret = obj.__setstate__()\n",
    "    type_sklearn_cluster__spectral_SpectralClustering___setstate__ = getattr(ret, '__module__', 'none') + '.' + ret.__class__.__name__\n",
    "    print('✅ sklearn.cluster._spectral.SpectralClustering.__setstate__: ', type(ret)) # noqa E501\n",
    "except Exception as e:\n",
    "    type_sklearn_cluster__spectral_SpectralClustering___setstate__ = '_syft_missing'\n",
    "    print('❌ sklearn.cluster._spectral.SpectralClustering.__setstate__: Return unavailable') # noqa E501\n",
    "    print(\"  Please fix this return type code until there is no exception\")\n",
    "    print('  Error:', e)\n"
   ]
  },
  {
   "cell_type": "code",
   "execution_count": null,
   "id": "according-acrobat",
   "metadata": {},
   "outputs": [],
   "source": [
    "# sklearn.cluster._spectral.SpectralClustering._check_n_features\n",
    "try:\n",
    "    obj = class_constructor() # noqa F821\n",
    "    ret = obj._check_n_features()\n",
    "    type_sklearn_cluster__spectral_SpectralClustering__check_n_features = getattr(ret, '__module__', 'none') + '.' + ret.__class__.__name__\n",
    "    print('✅ sklearn.cluster._spectral.SpectralClustering._check_n_features: ', type(ret)) # noqa E501\n",
    "except Exception as e:\n",
    "    type_sklearn_cluster__spectral_SpectralClustering__check_n_features = '_syft_missing'\n",
    "    print('❌ sklearn.cluster._spectral.SpectralClustering._check_n_features: Return unavailable') # noqa E501\n",
    "    print(\"  Please fix this return type code until there is no exception\")\n",
    "    print('  Error:', e)\n"
   ]
  },
  {
   "cell_type": "code",
   "execution_count": null,
   "id": "elegant-operator",
   "metadata": {},
   "outputs": [],
   "source": [
    "# sklearn.cluster._spectral.SpectralClustering._get_param_names\n",
    "try:\n",
    "    obj = class_constructor() # noqa F821\n",
    "    ret = obj._get_param_names()\n",
    "    type_sklearn_cluster__spectral_SpectralClustering__get_param_names = getattr(ret, '__module__', 'none') + '.' + ret.__class__.__name__\n",
    "    print('✅ sklearn.cluster._spectral.SpectralClustering._get_param_names: ', type(ret)) # noqa E501\n",
    "except Exception as e:\n",
    "    type_sklearn_cluster__spectral_SpectralClustering__get_param_names = '_syft_missing'\n",
    "    print('❌ sklearn.cluster._spectral.SpectralClustering._get_param_names: Return unavailable') # noqa E501\n",
    "    print(\"  Please fix this return type code until there is no exception\")\n",
    "    print('  Error:', e)\n"
   ]
  },
  {
   "cell_type": "code",
   "execution_count": null,
   "id": "rough-volunteer",
   "metadata": {},
   "outputs": [],
   "source": [
    "# sklearn.cluster._spectral.SpectralClustering._get_tags\n",
    "try:\n",
    "    obj = class_constructor() # noqa F821\n",
    "    ret = obj._get_tags()\n",
    "    type_sklearn_cluster__spectral_SpectralClustering__get_tags = getattr(ret, '__module__', 'none') + '.' + ret.__class__.__name__\n",
    "    print('✅ sklearn.cluster._spectral.SpectralClustering._get_tags: ', type(ret)) # noqa E501\n",
    "except Exception as e:\n",
    "    type_sklearn_cluster__spectral_SpectralClustering__get_tags = '_syft_missing'\n",
    "    print('❌ sklearn.cluster._spectral.SpectralClustering._get_tags: Return unavailable') # noqa E501\n",
    "    print(\"  Please fix this return type code until there is no exception\")\n",
    "    print('  Error:', e)\n"
   ]
  },
  {
   "cell_type": "code",
   "execution_count": null,
   "id": "quick-plane",
   "metadata": {},
   "outputs": [],
   "source": [
    "# sklearn.cluster._spectral.SpectralClustering._more_tags\n",
    "try:\n",
    "    obj = class_constructor() # noqa F821\n",
    "    ret = obj._more_tags()\n",
    "    type_sklearn_cluster__spectral_SpectralClustering__more_tags = getattr(ret, '__module__', 'none') + '.' + ret.__class__.__name__\n",
    "    print('✅ sklearn.cluster._spectral.SpectralClustering._more_tags: ', type(ret)) # noqa E501\n",
    "except Exception as e:\n",
    "    type_sklearn_cluster__spectral_SpectralClustering__more_tags = '_syft_missing'\n",
    "    print('❌ sklearn.cluster._spectral.SpectralClustering._more_tags: Return unavailable') # noqa E501\n",
    "    print(\"  Please fix this return type code until there is no exception\")\n",
    "    print('  Error:', e)\n"
   ]
  },
  {
   "cell_type": "code",
   "execution_count": null,
   "id": "solved-graph",
   "metadata": {},
   "outputs": [],
   "source": [
    "# sklearn.cluster._spectral.SpectralClustering._pairwise\n",
    "try:\n",
    "    obj = class_constructor()\n",
    "    ret = obj._pairwise\n",
    "    type_sklearn_cluster__spectral_SpectralClustering__pairwise = getattr(ret, '__module__', 'none') + '.' + ret.__class__.__name__\n",
    "    print('✅ sklearn.cluster._spectral.SpectralClustering._pairwise:', type(ret)) # noqa E501\n",
    "except Exception as e:\n",
    "    type_sklearn_cluster__spectral_SpectralClustering__pairwise = '_syft_missing'\n",
    "    print('❌ sklearn.cluster._spectral.SpectralClustering._pairwise: Return unavailable') # noqa E501\n",
    "    print(\"  Please fix this return type code until there is no exception\")\n",
    "    print('  Error:', e)\n"
   ]
  },
  {
   "cell_type": "code",
   "execution_count": null,
   "id": "backed-drinking",
   "metadata": {},
   "outputs": [],
   "source": [
    "# sklearn.cluster._spectral.SpectralClustering._repr_html_\n",
    "try:\n",
    "    obj = class_constructor()\n",
    "    ret = obj._repr_html_\n",
    "    type_sklearn_cluster__spectral_SpectralClustering__repr_html_ = getattr(ret, '__module__', 'none') + '.' + ret.__class__.__name__\n",
    "    print('✅ sklearn.cluster._spectral.SpectralClustering._repr_html_:', type(ret)) # noqa E501\n",
    "except Exception as e:\n",
    "    type_sklearn_cluster__spectral_SpectralClustering__repr_html_ = '_syft_missing'\n",
    "    print('❌ sklearn.cluster._spectral.SpectralClustering._repr_html_: Return unavailable') # noqa E501\n",
    "    print(\"  Please fix this return type code until there is no exception\")\n",
    "    print('  Error:', e)\n"
   ]
  },
  {
   "cell_type": "code",
   "execution_count": null,
   "id": "confused-taxation",
   "metadata": {},
   "outputs": [],
   "source": [
    "# sklearn.cluster._spectral.SpectralClustering._repr_html_inner\n",
    "try:\n",
    "    obj = class_constructor() # noqa F821\n",
    "    ret = obj._repr_html_inner()\n",
    "    type_sklearn_cluster__spectral_SpectralClustering__repr_html_inner = getattr(ret, '__module__', 'none') + '.' + ret.__class__.__name__\n",
    "    print('✅ sklearn.cluster._spectral.SpectralClustering._repr_html_inner: ', type(ret)) # noqa E501\n",
    "except Exception as e:\n",
    "    type_sklearn_cluster__spectral_SpectralClustering__repr_html_inner = '_syft_missing'\n",
    "    print('❌ sklearn.cluster._spectral.SpectralClustering._repr_html_inner: Return unavailable') # noqa E501\n",
    "    print(\"  Please fix this return type code until there is no exception\")\n",
    "    print('  Error:', e)\n"
   ]
  },
  {
   "cell_type": "code",
   "execution_count": null,
   "id": "comprehensive-staff",
   "metadata": {},
   "outputs": [],
   "source": [
    "# sklearn.cluster._spectral.SpectralClustering._repr_mimebundle_\n",
    "try:\n",
    "    obj = class_constructor() # noqa F821\n",
    "    ret = obj._repr_mimebundle_()\n",
    "    type_sklearn_cluster__spectral_SpectralClustering__repr_mimebundle_ = getattr(ret, '__module__', 'none') + '.' + ret.__class__.__name__\n",
    "    print('✅ sklearn.cluster._spectral.SpectralClustering._repr_mimebundle_: ', type(ret)) # noqa E501\n",
    "except Exception as e:\n",
    "    type_sklearn_cluster__spectral_SpectralClustering__repr_mimebundle_ = '_syft_missing'\n",
    "    print('❌ sklearn.cluster._spectral.SpectralClustering._repr_mimebundle_: Return unavailable') # noqa E501\n",
    "    print(\"  Please fix this return type code until there is no exception\")\n",
    "    print('  Error:', e)\n"
   ]
  },
  {
   "cell_type": "code",
   "execution_count": null,
   "id": "enormous-wright",
   "metadata": {},
   "outputs": [],
   "source": [
    "# sklearn.cluster._spectral.SpectralClustering._validate_data\n",
    "try:\n",
    "    obj = class_constructor() # noqa F821\n",
    "    ret = obj._validate_data()\n",
    "    type_sklearn_cluster__spectral_SpectralClustering__validate_data = getattr(ret, '__module__', 'none') + '.' + ret.__class__.__name__\n",
    "    print('✅ sklearn.cluster._spectral.SpectralClustering._validate_data: ', type(ret)) # noqa E501\n",
    "except Exception as e:\n",
    "    type_sklearn_cluster__spectral_SpectralClustering__validate_data = '_syft_missing'\n",
    "    print('❌ sklearn.cluster._spectral.SpectralClustering._validate_data: Return unavailable') # noqa E501\n",
    "    print(\"  Please fix this return type code until there is no exception\")\n",
    "    print('  Error:', e)\n"
   ]
  },
  {
   "cell_type": "code",
   "execution_count": null,
   "id": "latin-coalition",
   "metadata": {},
   "outputs": [],
   "source": [
    "# sklearn.cluster._spectral.SpectralClustering.fit\n",
    "try:\n",
    "    obj = class_constructor() # noqa F821\n",
    "    ret = obj.fit()\n",
    "    type_sklearn_cluster__spectral_SpectralClustering_fit = getattr(ret, '__module__', 'none') + '.' + ret.__class__.__name__\n",
    "    print('✅ sklearn.cluster._spectral.SpectralClustering.fit: ', type(ret)) # noqa E501\n",
    "except Exception as e:\n",
    "    type_sklearn_cluster__spectral_SpectralClustering_fit = '_syft_missing'\n",
    "    print('❌ sklearn.cluster._spectral.SpectralClustering.fit: Return unavailable') # noqa E501\n",
    "    print(\"  Please fix this return type code until there is no exception\")\n",
    "    print('  Error:', e)\n"
   ]
  },
  {
   "cell_type": "code",
   "execution_count": null,
   "id": "federal-piece",
   "metadata": {},
   "outputs": [],
   "source": [
    "# sklearn.cluster._spectral.SpectralClustering.fit_predict\n",
    "try:\n",
    "    obj = class_constructor() # noqa F821\n",
    "    ret = obj.fit_predict()\n",
    "    type_sklearn_cluster__spectral_SpectralClustering_fit_predict = getattr(ret, '__module__', 'none') + '.' + ret.__class__.__name__\n",
    "    print('✅ sklearn.cluster._spectral.SpectralClustering.fit_predict: ', type(ret)) # noqa E501\n",
    "except Exception as e:\n",
    "    type_sklearn_cluster__spectral_SpectralClustering_fit_predict = '_syft_missing'\n",
    "    print('❌ sklearn.cluster._spectral.SpectralClustering.fit_predict: Return unavailable') # noqa E501\n",
    "    print(\"  Please fix this return type code until there is no exception\")\n",
    "    print('  Error:', e)\n"
   ]
  },
  {
   "cell_type": "code",
   "execution_count": null,
   "id": "opened-manner",
   "metadata": {},
   "outputs": [],
   "source": [
    "# sklearn.cluster._spectral.SpectralClustering.get_params\n",
    "try:\n",
    "    obj = class_constructor() # noqa F821\n",
    "    ret = obj.get_params()\n",
    "    type_sklearn_cluster__spectral_SpectralClustering_get_params = getattr(ret, '__module__', 'none') + '.' + ret.__class__.__name__\n",
    "    print('✅ sklearn.cluster._spectral.SpectralClustering.get_params: ', type(ret)) # noqa E501\n",
    "except Exception as e:\n",
    "    type_sklearn_cluster__spectral_SpectralClustering_get_params = '_syft_missing'\n",
    "    print('❌ sklearn.cluster._spectral.SpectralClustering.get_params: Return unavailable') # noqa E501\n",
    "    print(\"  Please fix this return type code until there is no exception\")\n",
    "    print('  Error:', e)\n"
   ]
  },
  {
   "cell_type": "code",
   "execution_count": null,
   "id": "foster-coast",
   "metadata": {},
   "outputs": [],
   "source": [
    "# sklearn.cluster._spectral.SpectralClustering.set_params\n",
    "try:\n",
    "    obj = class_constructor() # noqa F821\n",
    "    ret = obj.set_params()\n",
    "    type_sklearn_cluster__spectral_SpectralClustering_set_params = getattr(ret, '__module__', 'none') + '.' + ret.__class__.__name__\n",
    "    print('✅ sklearn.cluster._spectral.SpectralClustering.set_params: ', type(ret)) # noqa E501\n",
    "except Exception as e:\n",
    "    type_sklearn_cluster__spectral_SpectralClustering_set_params = '_syft_missing'\n",
    "    print('❌ sklearn.cluster._spectral.SpectralClustering.set_params: Return unavailable') # noqa E501\n",
    "    print(\"  Please fix this return type code until there is no exception\")\n",
    "    print('  Error:', e)\n"
   ]
  }
 ],
 "metadata": {},
 "nbformat": 4,
 "nbformat_minor": 5
}
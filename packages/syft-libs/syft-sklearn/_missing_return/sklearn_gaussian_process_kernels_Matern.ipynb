{
 "cells": [
  {
   "cell_type": "markdown",
   "id": "pursuant-indicator",
   "metadata": {},
   "source": [
    "## sklearn.gaussian_process.kernels.Matern"
   ]
  },
  {
   "cell_type": "code",
   "execution_count": null,
   "id": "hungarian-sessions",
   "metadata": {},
   "outputs": [],
   "source": [
    "import sklearn\n",
    "def class_constructor(*args, **kwargs):\n",
    "    obj = sklearn.gaussian_process.kernels.Matern()\n",
    "    return obj\n"
   ]
  },
  {
   "cell_type": "code",
   "execution_count": null,
   "id": "favorite-selection",
   "metadata": {},
   "outputs": [],
   "source": [
    "# sklearn.gaussian_process.kernels.Matern.__add__\n",
    "try:\n",
    "    obj = class_constructor() # noqa F821\n",
    "    ret = obj.__add__()\n",
    "    type_sklearn_gaussian_process_kernels_Matern___add__ = getattr(ret, '__module__', 'none') + '.' + ret.__class__.__name__\n",
    "    print('✅ sklearn.gaussian_process.kernels.Matern.__add__: ', type(ret)) # noqa E501\n",
    "except Exception as e:\n",
    "    type_sklearn_gaussian_process_kernels_Matern___add__ = '_syft_missing'\n",
    "    print('❌ sklearn.gaussian_process.kernels.Matern.__add__: Return unavailable') # noqa E501\n",
    "    print(\"  Please fix this return type code until there is no exception\")\n",
    "    print('  Error:', e)\n"
   ]
  },
  {
   "cell_type": "code",
   "execution_count": null,
   "id": "taken-greeting",
   "metadata": {},
   "outputs": [],
   "source": [
    "# sklearn.gaussian_process.kernels.Matern.__call__\n",
    "try:\n",
    "    obj = class_constructor() # noqa F821\n",
    "    ret = obj.__call__()\n",
    "    type_sklearn_gaussian_process_kernels_Matern___call__ = getattr(ret, '__module__', 'none') + '.' + ret.__class__.__name__\n",
    "    print('✅ sklearn.gaussian_process.kernels.Matern.__call__: ', type(ret)) # noqa E501\n",
    "except Exception as e:\n",
    "    type_sklearn_gaussian_process_kernels_Matern___call__ = '_syft_missing'\n",
    "    print('❌ sklearn.gaussian_process.kernels.Matern.__call__: Return unavailable') # noqa E501\n",
    "    print(\"  Please fix this return type code until there is no exception\")\n",
    "    print('  Error:', e)\n"
   ]
  },
  {
   "cell_type": "code",
   "execution_count": null,
   "id": "loved-indie",
   "metadata": {},
   "outputs": [],
   "source": [
    "# sklearn.gaussian_process.kernels.Matern.__eq__\n",
    "try:\n",
    "    obj = class_constructor() # noqa F821\n",
    "    ret = obj.__eq__()\n",
    "    type_sklearn_gaussian_process_kernels_Matern___eq__ = getattr(ret, '__module__', 'none') + '.' + ret.__class__.__name__\n",
    "    print('✅ sklearn.gaussian_process.kernels.Matern.__eq__: ', type(ret)) # noqa E501\n",
    "except Exception as e:\n",
    "    type_sklearn_gaussian_process_kernels_Matern___eq__ = '_syft_missing'\n",
    "    print('❌ sklearn.gaussian_process.kernels.Matern.__eq__: Return unavailable') # noqa E501\n",
    "    print(\"  Please fix this return type code until there is no exception\")\n",
    "    print('  Error:', e)\n"
   ]
  },
  {
   "cell_type": "code",
   "execution_count": null,
   "id": "valuable-dutch",
   "metadata": {},
   "outputs": [],
   "source": [
    "# sklearn.gaussian_process.kernels.Matern.__mul__\n",
    "try:\n",
    "    obj = class_constructor() # noqa F821\n",
    "    ret = obj.__mul__()\n",
    "    type_sklearn_gaussian_process_kernels_Matern___mul__ = getattr(ret, '__module__', 'none') + '.' + ret.__class__.__name__\n",
    "    print('✅ sklearn.gaussian_process.kernels.Matern.__mul__: ', type(ret)) # noqa E501\n",
    "except Exception as e:\n",
    "    type_sklearn_gaussian_process_kernels_Matern___mul__ = '_syft_missing'\n",
    "    print('❌ sklearn.gaussian_process.kernels.Matern.__mul__: Return unavailable') # noqa E501\n",
    "    print(\"  Please fix this return type code until there is no exception\")\n",
    "    print('  Error:', e)\n"
   ]
  },
  {
   "cell_type": "code",
   "execution_count": null,
   "id": "monthly-retirement",
   "metadata": {},
   "outputs": [],
   "source": [
    "# sklearn.gaussian_process.kernels.Matern.__pow__\n",
    "try:\n",
    "    obj = class_constructor() # noqa F821\n",
    "    ret = obj.__pow__()\n",
    "    type_sklearn_gaussian_process_kernels_Matern___pow__ = getattr(ret, '__module__', 'none') + '.' + ret.__class__.__name__\n",
    "    print('✅ sklearn.gaussian_process.kernels.Matern.__pow__: ', type(ret)) # noqa E501\n",
    "except Exception as e:\n",
    "    type_sklearn_gaussian_process_kernels_Matern___pow__ = '_syft_missing'\n",
    "    print('❌ sklearn.gaussian_process.kernels.Matern.__pow__: Return unavailable') # noqa E501\n",
    "    print(\"  Please fix this return type code until there is no exception\")\n",
    "    print('  Error:', e)\n"
   ]
  },
  {
   "cell_type": "code",
   "execution_count": null,
   "id": "neither-metabolism",
   "metadata": {},
   "outputs": [],
   "source": [
    "# sklearn.gaussian_process.kernels.Matern.__radd__\n",
    "try:\n",
    "    obj = class_constructor() # noqa F821\n",
    "    ret = obj.__radd__()\n",
    "    type_sklearn_gaussian_process_kernels_Matern___radd__ = getattr(ret, '__module__', 'none') + '.' + ret.__class__.__name__\n",
    "    print('✅ sklearn.gaussian_process.kernels.Matern.__radd__: ', type(ret)) # noqa E501\n",
    "except Exception as e:\n",
    "    type_sklearn_gaussian_process_kernels_Matern___radd__ = '_syft_missing'\n",
    "    print('❌ sklearn.gaussian_process.kernels.Matern.__radd__: Return unavailable') # noqa E501\n",
    "    print(\"  Please fix this return type code until there is no exception\")\n",
    "    print('  Error:', e)\n"
   ]
  },
  {
   "cell_type": "code",
   "execution_count": null,
   "id": "desirable-germany",
   "metadata": {},
   "outputs": [],
   "source": [
    "# sklearn.gaussian_process.kernels.Matern.__repr__\n",
    "try:\n",
    "    obj = class_constructor() # noqa F821\n",
    "    ret = obj.__repr__()\n",
    "    type_sklearn_gaussian_process_kernels_Matern___repr__ = getattr(ret, '__module__', 'none') + '.' + ret.__class__.__name__\n",
    "    print('✅ sklearn.gaussian_process.kernels.Matern.__repr__: ', type(ret)) # noqa E501\n",
    "except Exception as e:\n",
    "    type_sklearn_gaussian_process_kernels_Matern___repr__ = '_syft_missing'\n",
    "    print('❌ sklearn.gaussian_process.kernels.Matern.__repr__: Return unavailable') # noqa E501\n",
    "    print(\"  Please fix this return type code until there is no exception\")\n",
    "    print('  Error:', e)\n"
   ]
  },
  {
   "cell_type": "code",
   "execution_count": null,
   "id": "victorian-brown",
   "metadata": {},
   "outputs": [],
   "source": [
    "# sklearn.gaussian_process.kernels.Matern.__rmul__\n",
    "try:\n",
    "    obj = class_constructor() # noqa F821\n",
    "    ret = obj.__rmul__()\n",
    "    type_sklearn_gaussian_process_kernels_Matern___rmul__ = getattr(ret, '__module__', 'none') + '.' + ret.__class__.__name__\n",
    "    print('✅ sklearn.gaussian_process.kernels.Matern.__rmul__: ', type(ret)) # noqa E501\n",
    "except Exception as e:\n",
    "    type_sklearn_gaussian_process_kernels_Matern___rmul__ = '_syft_missing'\n",
    "    print('❌ sklearn.gaussian_process.kernels.Matern.__rmul__: Return unavailable') # noqa E501\n",
    "    print(\"  Please fix this return type code until there is no exception\")\n",
    "    print('  Error:', e)\n"
   ]
  },
  {
   "cell_type": "code",
   "execution_count": null,
   "id": "spiritual-binding",
   "metadata": {},
   "outputs": [],
   "source": [
    "# sklearn.gaussian_process.kernels.Matern._check_bounds_params\n",
    "try:\n",
    "    obj = class_constructor() # noqa F821\n",
    "    ret = obj._check_bounds_params()\n",
    "    type_sklearn_gaussian_process_kernels_Matern__check_bounds_params = getattr(ret, '__module__', 'none') + '.' + ret.__class__.__name__\n",
    "    print('✅ sklearn.gaussian_process.kernels.Matern._check_bounds_params: ', type(ret)) # noqa E501\n",
    "except Exception as e:\n",
    "    type_sklearn_gaussian_process_kernels_Matern__check_bounds_params = '_syft_missing'\n",
    "    print('❌ sklearn.gaussian_process.kernels.Matern._check_bounds_params: Return unavailable') # noqa E501\n",
    "    print(\"  Please fix this return type code until there is no exception\")\n",
    "    print('  Error:', e)\n"
   ]
  },
  {
   "cell_type": "code",
   "execution_count": null,
   "id": "labeled-effort",
   "metadata": {},
   "outputs": [],
   "source": [
    "# sklearn.gaussian_process.kernels.Matern.anisotropic\n",
    "try:\n",
    "    obj = class_constructor()\n",
    "    ret = obj.anisotropic\n",
    "    type_sklearn_gaussian_process_kernels_Matern_anisotropic = getattr(ret, '__module__', 'none') + '.' + ret.__class__.__name__\n",
    "    print('✅ sklearn.gaussian_process.kernels.Matern.anisotropic:', type(ret)) # noqa E501\n",
    "except Exception as e:\n",
    "    type_sklearn_gaussian_process_kernels_Matern_anisotropic = '_syft_missing'\n",
    "    print('❌ sklearn.gaussian_process.kernels.Matern.anisotropic: Return unavailable') # noqa E501\n",
    "    print(\"  Please fix this return type code until there is no exception\")\n",
    "    print('  Error:', e)\n"
   ]
  },
  {
   "cell_type": "code",
   "execution_count": null,
   "id": "developing-probe",
   "metadata": {},
   "outputs": [],
   "source": [
    "# sklearn.gaussian_process.kernels.Matern.bounds\n",
    "try:\n",
    "    obj = class_constructor()\n",
    "    ret = obj.bounds\n",
    "    type_sklearn_gaussian_process_kernels_Matern_bounds = getattr(ret, '__module__', 'none') + '.' + ret.__class__.__name__\n",
    "    print('✅ sklearn.gaussian_process.kernels.Matern.bounds:', type(ret)) # noqa E501\n",
    "except Exception as e:\n",
    "    type_sklearn_gaussian_process_kernels_Matern_bounds = '_syft_missing'\n",
    "    print('❌ sklearn.gaussian_process.kernels.Matern.bounds: Return unavailable') # noqa E501\n",
    "    print(\"  Please fix this return type code until there is no exception\")\n",
    "    print('  Error:', e)\n"
   ]
  },
  {
   "cell_type": "code",
   "execution_count": null,
   "id": "amino-location",
   "metadata": {},
   "outputs": [],
   "source": [
    "# sklearn.gaussian_process.kernels.Matern.clone_with_theta\n",
    "try:\n",
    "    obj = class_constructor() # noqa F821\n",
    "    ret = obj.clone_with_theta()\n",
    "    type_sklearn_gaussian_process_kernels_Matern_clone_with_theta = getattr(ret, '__module__', 'none') + '.' + ret.__class__.__name__\n",
    "    print('✅ sklearn.gaussian_process.kernels.Matern.clone_with_theta: ', type(ret)) # noqa E501\n",
    "except Exception as e:\n",
    "    type_sklearn_gaussian_process_kernels_Matern_clone_with_theta = '_syft_missing'\n",
    "    print('❌ sklearn.gaussian_process.kernels.Matern.clone_with_theta: Return unavailable') # noqa E501\n",
    "    print(\"  Please fix this return type code until there is no exception\")\n",
    "    print('  Error:', e)\n"
   ]
  },
  {
   "cell_type": "code",
   "execution_count": null,
   "id": "referenced-backing",
   "metadata": {},
   "outputs": [],
   "source": [
    "# sklearn.gaussian_process.kernels.Matern.diag\n",
    "try:\n",
    "    obj = class_constructor() # noqa F821\n",
    "    ret = obj.diag()\n",
    "    type_sklearn_gaussian_process_kernels_Matern_diag = getattr(ret, '__module__', 'none') + '.' + ret.__class__.__name__\n",
    "    print('✅ sklearn.gaussian_process.kernels.Matern.diag: ', type(ret)) # noqa E501\n",
    "except Exception as e:\n",
    "    type_sklearn_gaussian_process_kernels_Matern_diag = '_syft_missing'\n",
    "    print('❌ sklearn.gaussian_process.kernels.Matern.diag: Return unavailable') # noqa E501\n",
    "    print(\"  Please fix this return type code until there is no exception\")\n",
    "    print('  Error:', e)\n"
   ]
  },
  {
   "cell_type": "code",
   "execution_count": null,
   "id": "downtown-southeast",
   "metadata": {},
   "outputs": [],
   "source": [
    "# sklearn.gaussian_process.kernels.Matern.get_params\n",
    "try:\n",
    "    obj = class_constructor() # noqa F821\n",
    "    ret = obj.get_params()\n",
    "    type_sklearn_gaussian_process_kernels_Matern_get_params = getattr(ret, '__module__', 'none') + '.' + ret.__class__.__name__\n",
    "    print('✅ sklearn.gaussian_process.kernels.Matern.get_params: ', type(ret)) # noqa E501\n",
    "except Exception as e:\n",
    "    type_sklearn_gaussian_process_kernels_Matern_get_params = '_syft_missing'\n",
    "    print('❌ sklearn.gaussian_process.kernels.Matern.get_params: Return unavailable') # noqa E501\n",
    "    print(\"  Please fix this return type code until there is no exception\")\n",
    "    print('  Error:', e)\n"
   ]
  },
  {
   "cell_type": "code",
   "execution_count": null,
   "id": "weird-chamber",
   "metadata": {},
   "outputs": [],
   "source": [
    "# sklearn.gaussian_process.kernels.Matern.hyperparameter_length_scale\n",
    "try:\n",
    "    obj = class_constructor()\n",
    "    ret = obj.hyperparameter_length_scale\n",
    "    type_sklearn_gaussian_process_kernels_Matern_hyperparameter_length_scale = getattr(ret, '__module__', 'none') + '.' + ret.__class__.__name__\n",
    "    print('✅ sklearn.gaussian_process.kernels.Matern.hyperparameter_length_scale:', type(ret)) # noqa E501\n",
    "except Exception as e:\n",
    "    type_sklearn_gaussian_process_kernels_Matern_hyperparameter_length_scale = '_syft_missing'\n",
    "    print('❌ sklearn.gaussian_process.kernels.Matern.hyperparameter_length_scale: Return unavailable') # noqa E501\n",
    "    print(\"  Please fix this return type code until there is no exception\")\n",
    "    print('  Error:', e)\n"
   ]
  },
  {
   "cell_type": "code",
   "execution_count": null,
   "id": "valid-landscape",
   "metadata": {},
   "outputs": [],
   "source": [
    "# sklearn.gaussian_process.kernels.Matern.hyperparameters\n",
    "try:\n",
    "    obj = class_constructor()\n",
    "    ret = obj.hyperparameters\n",
    "    type_sklearn_gaussian_process_kernels_Matern_hyperparameters = getattr(ret, '__module__', 'none') + '.' + ret.__class__.__name__\n",
    "    print('✅ sklearn.gaussian_process.kernels.Matern.hyperparameters:', type(ret)) # noqa E501\n",
    "except Exception as e:\n",
    "    type_sklearn_gaussian_process_kernels_Matern_hyperparameters = '_syft_missing'\n",
    "    print('❌ sklearn.gaussian_process.kernels.Matern.hyperparameters: Return unavailable') # noqa E501\n",
    "    print(\"  Please fix this return type code until there is no exception\")\n",
    "    print('  Error:', e)\n"
   ]
  },
  {
   "cell_type": "code",
   "execution_count": null,
   "id": "equal-bidder",
   "metadata": {},
   "outputs": [],
   "source": [
    "# sklearn.gaussian_process.kernels.Matern.is_stationary\n",
    "try:\n",
    "    obj = class_constructor() # noqa F821\n",
    "    ret = obj.is_stationary()\n",
    "    type_sklearn_gaussian_process_kernels_Matern_is_stationary = getattr(ret, '__module__', 'none') + '.' + ret.__class__.__name__\n",
    "    print('✅ sklearn.gaussian_process.kernels.Matern.is_stationary: ', type(ret)) # noqa E501\n",
    "except Exception as e:\n",
    "    type_sklearn_gaussian_process_kernels_Matern_is_stationary = '_syft_missing'\n",
    "    print('❌ sklearn.gaussian_process.kernels.Matern.is_stationary: Return unavailable') # noqa E501\n",
    "    print(\"  Please fix this return type code until there is no exception\")\n",
    "    print('  Error:', e)\n"
   ]
  },
  {
   "cell_type": "code",
   "execution_count": null,
   "id": "numerous-avatar",
   "metadata": {},
   "outputs": [],
   "source": [
    "# sklearn.gaussian_process.kernels.Matern.n_dims\n",
    "try:\n",
    "    obj = class_constructor()\n",
    "    ret = obj.n_dims\n",
    "    type_sklearn_gaussian_process_kernels_Matern_n_dims = getattr(ret, '__module__', 'none') + '.' + ret.__class__.__name__\n",
    "    print('✅ sklearn.gaussian_process.kernels.Matern.n_dims:', type(ret)) # noqa E501\n",
    "except Exception as e:\n",
    "    type_sklearn_gaussian_process_kernels_Matern_n_dims = '_syft_missing'\n",
    "    print('❌ sklearn.gaussian_process.kernels.Matern.n_dims: Return unavailable') # noqa E501\n",
    "    print(\"  Please fix this return type code until there is no exception\")\n",
    "    print('  Error:', e)\n"
   ]
  },
  {
   "cell_type": "code",
   "execution_count": null,
   "id": "three-eligibility",
   "metadata": {},
   "outputs": [],
   "source": [
    "# sklearn.gaussian_process.kernels.Matern.requires_vector_input\n",
    "try:\n",
    "    obj = class_constructor()\n",
    "    ret = obj.requires_vector_input\n",
    "    type_sklearn_gaussian_process_kernels_Matern_requires_vector_input = getattr(ret, '__module__', 'none') + '.' + ret.__class__.__name__\n",
    "    print('✅ sklearn.gaussian_process.kernels.Matern.requires_vector_input:', type(ret)) # noqa E501\n",
    "except Exception as e:\n",
    "    type_sklearn_gaussian_process_kernels_Matern_requires_vector_input = '_syft_missing'\n",
    "    print('❌ sklearn.gaussian_process.kernels.Matern.requires_vector_input: Return unavailable') # noqa E501\n",
    "    print(\"  Please fix this return type code until there is no exception\")\n",
    "    print('  Error:', e)\n"
   ]
  },
  {
   "cell_type": "code",
   "execution_count": null,
   "id": "joined-cassette",
   "metadata": {},
   "outputs": [],
   "source": [
    "# sklearn.gaussian_process.kernels.Matern.set_params\n",
    "try:\n",
    "    obj = class_constructor() # noqa F821\n",
    "    ret = obj.set_params()\n",
    "    type_sklearn_gaussian_process_kernels_Matern_set_params = getattr(ret, '__module__', 'none') + '.' + ret.__class__.__name__\n",
    "    print('✅ sklearn.gaussian_process.kernels.Matern.set_params: ', type(ret)) # noqa E501\n",
    "except Exception as e:\n",
    "    type_sklearn_gaussian_process_kernels_Matern_set_params = '_syft_missing'\n",
    "    print('❌ sklearn.gaussian_process.kernels.Matern.set_params: Return unavailable') # noqa E501\n",
    "    print(\"  Please fix this return type code until there is no exception\")\n",
    "    print('  Error:', e)\n"
   ]
  },
  {
   "cell_type": "code",
   "execution_count": null,
   "id": "incoming-investor",
   "metadata": {},
   "outputs": [],
   "source": [
    "# sklearn.gaussian_process.kernels.Matern.theta\n",
    "try:\n",
    "    obj = class_constructor()\n",
    "    ret = obj.theta\n",
    "    type_sklearn_gaussian_process_kernels_Matern_theta = getattr(ret, '__module__', 'none') + '.' + ret.__class__.__name__\n",
    "    print('✅ sklearn.gaussian_process.kernels.Matern.theta:', type(ret)) # noqa E501\n",
    "except Exception as e:\n",
    "    type_sklearn_gaussian_process_kernels_Matern_theta = '_syft_missing'\n",
    "    print('❌ sklearn.gaussian_process.kernels.Matern.theta: Return unavailable') # noqa E501\n",
    "    print(\"  Please fix this return type code until there is no exception\")\n",
    "    print('  Error:', e)\n"
   ]
  }
 ],
 "metadata": {},
 "nbformat": 4,
 "nbformat_minor": 5
}
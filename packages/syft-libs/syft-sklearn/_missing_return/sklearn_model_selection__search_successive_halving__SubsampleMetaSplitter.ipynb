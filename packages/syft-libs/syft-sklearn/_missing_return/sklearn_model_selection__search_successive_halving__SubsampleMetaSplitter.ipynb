{
 "cells": [
  {
   "cell_type": "markdown",
   "id": "focused-oklahoma",
   "metadata": {},
   "source": [
    "## sklearn.model_selection._search_successive_halving._SubsampleMetaSplitter"
   ]
  },
  {
   "cell_type": "code",
   "execution_count": null,
   "id": "faced-rates",
   "metadata": {},
   "outputs": [],
   "source": [
    "import sklearn\n",
    "def class_constructor(*args, **kwargs):\n",
    "    obj = sklearn.model_selection._search_successive_halving._SubsampleMetaSplitter()\n",
    "    return obj\n"
   ]
  },
  {
   "cell_type": "code",
   "execution_count": null,
   "id": "bridal-despite",
   "metadata": {},
   "outputs": [],
   "source": [
    "# sklearn.model_selection._search_successive_halving._SubsampleMetaSplitter.split\n",
    "try:\n",
    "    obj = class_constructor() # noqa F821\n",
    "    ret = obj.split()\n",
    "    type_sklearn_model_selection__search_successive_halving__SubsampleMetaSplitter_split = getattr(ret, '__module__', 'none') + '.' + ret.__class__.__name__\n",
    "    print('✅ sklearn.model_selection._search_successive_halving._SubsampleMetaSplitter.split: ', type(ret)) # noqa E501\n",
    "except Exception as e:\n",
    "    type_sklearn_model_selection__search_successive_halving__SubsampleMetaSplitter_split = '_syft_missing'\n",
    "    print('❌ sklearn.model_selection._search_successive_halving._SubsampleMetaSplitter.split: Return unavailable') # noqa E501\n",
    "    print(\"  Please fix this return type code until there is no exception\")\n",
    "    print('  Error:', e)\n"
   ]
  }
 ],
 "metadata": {},
 "nbformat": 4,
 "nbformat_minor": 5
}
{
 "cells": [
  {
   "cell_type": "markdown",
   "id": "built-boating",
   "metadata": {},
   "source": [
    "## sklearn.linear_model._coordinate_descent.MultiTaskLasso"
   ]
  },
  {
   "cell_type": "code",
   "execution_count": null,
   "id": "disabled-maintenance",
   "metadata": {},
   "outputs": [],
   "source": [
    "import sklearn\n",
    "def class_constructor(*args, **kwargs):\n",
    "    obj = sklearn.linear_model._coordinate_descent.MultiTaskLasso()\n",
    "    return obj\n"
   ]
  },
  {
   "cell_type": "code",
   "execution_count": null,
   "id": "waiting-suite",
   "metadata": {},
   "outputs": [],
   "source": [
    "# sklearn.linear_model._coordinate_descent.MultiTaskLasso.__getstate__\n",
    "try:\n",
    "    obj = class_constructor() # noqa F821\n",
    "    ret = obj.__getstate__()\n",
    "    type_sklearn_linear_model__coordinate_descent_MultiTaskLasso___getstate__ = getattr(ret, '__module__', 'none') + '.' + ret.__class__.__name__\n",
    "    print('✅ sklearn.linear_model._coordinate_descent.MultiTaskLasso.__getstate__: ', type(ret)) # noqa E501\n",
    "except Exception as e:\n",
    "    type_sklearn_linear_model__coordinate_descent_MultiTaskLasso___getstate__ = '_syft_missing'\n",
    "    print('❌ sklearn.linear_model._coordinate_descent.MultiTaskLasso.__getstate__: Return unavailable') # noqa E501\n",
    "    print(\"  Please fix this return type code until there is no exception\")\n",
    "    print('  Error:', e)\n"
   ]
  },
  {
   "cell_type": "code",
   "execution_count": null,
   "id": "fixed-illustration",
   "metadata": {},
   "outputs": [],
   "source": [
    "# sklearn.linear_model._coordinate_descent.MultiTaskLasso.__repr__\n",
    "try:\n",
    "    obj = class_constructor() # noqa F821\n",
    "    ret = obj.__repr__()\n",
    "    type_sklearn_linear_model__coordinate_descent_MultiTaskLasso___repr__ = getattr(ret, '__module__', 'none') + '.' + ret.__class__.__name__\n",
    "    print('✅ sklearn.linear_model._coordinate_descent.MultiTaskLasso.__repr__: ', type(ret)) # noqa E501\n",
    "except Exception as e:\n",
    "    type_sklearn_linear_model__coordinate_descent_MultiTaskLasso___repr__ = '_syft_missing'\n",
    "    print('❌ sklearn.linear_model._coordinate_descent.MultiTaskLasso.__repr__: Return unavailable') # noqa E501\n",
    "    print(\"  Please fix this return type code until there is no exception\")\n",
    "    print('  Error:', e)\n"
   ]
  },
  {
   "cell_type": "code",
   "execution_count": null,
   "id": "governmental-belgium",
   "metadata": {},
   "outputs": [],
   "source": [
    "# sklearn.linear_model._coordinate_descent.MultiTaskLasso.__setstate__\n",
    "try:\n",
    "    obj = class_constructor() # noqa F821\n",
    "    ret = obj.__setstate__()\n",
    "    type_sklearn_linear_model__coordinate_descent_MultiTaskLasso___setstate__ = getattr(ret, '__module__', 'none') + '.' + ret.__class__.__name__\n",
    "    print('✅ sklearn.linear_model._coordinate_descent.MultiTaskLasso.__setstate__: ', type(ret)) # noqa E501\n",
    "except Exception as e:\n",
    "    type_sklearn_linear_model__coordinate_descent_MultiTaskLasso___setstate__ = '_syft_missing'\n",
    "    print('❌ sklearn.linear_model._coordinate_descent.MultiTaskLasso.__setstate__: Return unavailable') # noqa E501\n",
    "    print(\"  Please fix this return type code until there is no exception\")\n",
    "    print('  Error:', e)\n"
   ]
  },
  {
   "cell_type": "code",
   "execution_count": null,
   "id": "gross-bench",
   "metadata": {},
   "outputs": [],
   "source": [
    "# sklearn.linear_model._coordinate_descent.MultiTaskLasso._check_n_features\n",
    "try:\n",
    "    obj = class_constructor() # noqa F821\n",
    "    ret = obj._check_n_features()\n",
    "    type_sklearn_linear_model__coordinate_descent_MultiTaskLasso__check_n_features = getattr(ret, '__module__', 'none') + '.' + ret.__class__.__name__\n",
    "    print('✅ sklearn.linear_model._coordinate_descent.MultiTaskLasso._check_n_features: ', type(ret)) # noqa E501\n",
    "except Exception as e:\n",
    "    type_sklearn_linear_model__coordinate_descent_MultiTaskLasso__check_n_features = '_syft_missing'\n",
    "    print('❌ sklearn.linear_model._coordinate_descent.MultiTaskLasso._check_n_features: Return unavailable') # noqa E501\n",
    "    print(\"  Please fix this return type code until there is no exception\")\n",
    "    print('  Error:', e)\n"
   ]
  },
  {
   "cell_type": "code",
   "execution_count": null,
   "id": "burning-violin",
   "metadata": {},
   "outputs": [],
   "source": [
    "# sklearn.linear_model._coordinate_descent.MultiTaskLasso._decision_function\n",
    "try:\n",
    "    obj = class_constructor() # noqa F821\n",
    "    ret = obj._decision_function()\n",
    "    type_sklearn_linear_model__coordinate_descent_MultiTaskLasso__decision_function = getattr(ret, '__module__', 'none') + '.' + ret.__class__.__name__\n",
    "    print('✅ sklearn.linear_model._coordinate_descent.MultiTaskLasso._decision_function: ', type(ret)) # noqa E501\n",
    "except Exception as e:\n",
    "    type_sklearn_linear_model__coordinate_descent_MultiTaskLasso__decision_function = '_syft_missing'\n",
    "    print('❌ sklearn.linear_model._coordinate_descent.MultiTaskLasso._decision_function: Return unavailable') # noqa E501\n",
    "    print(\"  Please fix this return type code until there is no exception\")\n",
    "    print('  Error:', e)\n"
   ]
  },
  {
   "cell_type": "code",
   "execution_count": null,
   "id": "olympic-bathroom",
   "metadata": {},
   "outputs": [],
   "source": [
    "# sklearn.linear_model._coordinate_descent.MultiTaskLasso._get_param_names\n",
    "try:\n",
    "    obj = class_constructor() # noqa F821\n",
    "    ret = obj._get_param_names()\n",
    "    type_sklearn_linear_model__coordinate_descent_MultiTaskLasso__get_param_names = getattr(ret, '__module__', 'none') + '.' + ret.__class__.__name__\n",
    "    print('✅ sklearn.linear_model._coordinate_descent.MultiTaskLasso._get_param_names: ', type(ret)) # noqa E501\n",
    "except Exception as e:\n",
    "    type_sklearn_linear_model__coordinate_descent_MultiTaskLasso__get_param_names = '_syft_missing'\n",
    "    print('❌ sklearn.linear_model._coordinate_descent.MultiTaskLasso._get_param_names: Return unavailable') # noqa E501\n",
    "    print(\"  Please fix this return type code until there is no exception\")\n",
    "    print('  Error:', e)\n"
   ]
  },
  {
   "cell_type": "code",
   "execution_count": null,
   "id": "civilian-stability",
   "metadata": {},
   "outputs": [],
   "source": [
    "# sklearn.linear_model._coordinate_descent.MultiTaskLasso._get_tags\n",
    "try:\n",
    "    obj = class_constructor() # noqa F821\n",
    "    ret = obj._get_tags()\n",
    "    type_sklearn_linear_model__coordinate_descent_MultiTaskLasso__get_tags = getattr(ret, '__module__', 'none') + '.' + ret.__class__.__name__\n",
    "    print('✅ sklearn.linear_model._coordinate_descent.MultiTaskLasso._get_tags: ', type(ret)) # noqa E501\n",
    "except Exception as e:\n",
    "    type_sklearn_linear_model__coordinate_descent_MultiTaskLasso__get_tags = '_syft_missing'\n",
    "    print('❌ sklearn.linear_model._coordinate_descent.MultiTaskLasso._get_tags: Return unavailable') # noqa E501\n",
    "    print(\"  Please fix this return type code until there is no exception\")\n",
    "    print('  Error:', e)\n"
   ]
  },
  {
   "cell_type": "code",
   "execution_count": null,
   "id": "raised-gross",
   "metadata": {},
   "outputs": [],
   "source": [
    "# sklearn.linear_model._coordinate_descent.MultiTaskLasso._more_tags\n",
    "try:\n",
    "    obj = class_constructor() # noqa F821\n",
    "    ret = obj._more_tags()\n",
    "    type_sklearn_linear_model__coordinate_descent_MultiTaskLasso__more_tags = getattr(ret, '__module__', 'none') + '.' + ret.__class__.__name__\n",
    "    print('✅ sklearn.linear_model._coordinate_descent.MultiTaskLasso._more_tags: ', type(ret)) # noqa E501\n",
    "except Exception as e:\n",
    "    type_sklearn_linear_model__coordinate_descent_MultiTaskLasso__more_tags = '_syft_missing'\n",
    "    print('❌ sklearn.linear_model._coordinate_descent.MultiTaskLasso._more_tags: Return unavailable') # noqa E501\n",
    "    print(\"  Please fix this return type code until there is no exception\")\n",
    "    print('  Error:', e)\n"
   ]
  },
  {
   "cell_type": "code",
   "execution_count": null,
   "id": "adapted-insulin",
   "metadata": {},
   "outputs": [],
   "source": [
    "# sklearn.linear_model._coordinate_descent.MultiTaskLasso._preprocess_data\n",
    "try:\n",
    "    obj = class_constructor() # noqa F821\n",
    "    ret = obj._preprocess_data()\n",
    "    type_sklearn_linear_model__coordinate_descent_MultiTaskLasso__preprocess_data = getattr(ret, '__module__', 'none') + '.' + ret.__class__.__name__\n",
    "    print('✅ sklearn.linear_model._coordinate_descent.MultiTaskLasso._preprocess_data: ', type(ret)) # noqa E501\n",
    "except Exception as e:\n",
    "    type_sklearn_linear_model__coordinate_descent_MultiTaskLasso__preprocess_data = '_syft_missing'\n",
    "    print('❌ sklearn.linear_model._coordinate_descent.MultiTaskLasso._preprocess_data: Return unavailable') # noqa E501\n",
    "    print(\"  Please fix this return type code until there is no exception\")\n",
    "    print('  Error:', e)\n"
   ]
  },
  {
   "cell_type": "code",
   "execution_count": null,
   "id": "transsexual-response",
   "metadata": {},
   "outputs": [],
   "source": [
    "# sklearn.linear_model._coordinate_descent.MultiTaskLasso._repr_html_\n",
    "try:\n",
    "    obj = class_constructor()\n",
    "    ret = obj._repr_html_\n",
    "    type_sklearn_linear_model__coordinate_descent_MultiTaskLasso__repr_html_ = getattr(ret, '__module__', 'none') + '.' + ret.__class__.__name__\n",
    "    print('✅ sklearn.linear_model._coordinate_descent.MultiTaskLasso._repr_html_:', type(ret)) # noqa E501\n",
    "except Exception as e:\n",
    "    type_sklearn_linear_model__coordinate_descent_MultiTaskLasso__repr_html_ = '_syft_missing'\n",
    "    print('❌ sklearn.linear_model._coordinate_descent.MultiTaskLasso._repr_html_: Return unavailable') # noqa E501\n",
    "    print(\"  Please fix this return type code until there is no exception\")\n",
    "    print('  Error:', e)\n"
   ]
  },
  {
   "cell_type": "code",
   "execution_count": null,
   "id": "objective-rachel",
   "metadata": {},
   "outputs": [],
   "source": [
    "# sklearn.linear_model._coordinate_descent.MultiTaskLasso._repr_html_inner\n",
    "try:\n",
    "    obj = class_constructor() # noqa F821\n",
    "    ret = obj._repr_html_inner()\n",
    "    type_sklearn_linear_model__coordinate_descent_MultiTaskLasso__repr_html_inner = getattr(ret, '__module__', 'none') + '.' + ret.__class__.__name__\n",
    "    print('✅ sklearn.linear_model._coordinate_descent.MultiTaskLasso._repr_html_inner: ', type(ret)) # noqa E501\n",
    "except Exception as e:\n",
    "    type_sklearn_linear_model__coordinate_descent_MultiTaskLasso__repr_html_inner = '_syft_missing'\n",
    "    print('❌ sklearn.linear_model._coordinate_descent.MultiTaskLasso._repr_html_inner: Return unavailable') # noqa E501\n",
    "    print(\"  Please fix this return type code until there is no exception\")\n",
    "    print('  Error:', e)\n"
   ]
  },
  {
   "cell_type": "code",
   "execution_count": null,
   "id": "communist-trouble",
   "metadata": {},
   "outputs": [],
   "source": [
    "# sklearn.linear_model._coordinate_descent.MultiTaskLasso._repr_mimebundle_\n",
    "try:\n",
    "    obj = class_constructor() # noqa F821\n",
    "    ret = obj._repr_mimebundle_()\n",
    "    type_sklearn_linear_model__coordinate_descent_MultiTaskLasso__repr_mimebundle_ = getattr(ret, '__module__', 'none') + '.' + ret.__class__.__name__\n",
    "    print('✅ sklearn.linear_model._coordinate_descent.MultiTaskLasso._repr_mimebundle_: ', type(ret)) # noqa E501\n",
    "except Exception as e:\n",
    "    type_sklearn_linear_model__coordinate_descent_MultiTaskLasso__repr_mimebundle_ = '_syft_missing'\n",
    "    print('❌ sklearn.linear_model._coordinate_descent.MultiTaskLasso._repr_mimebundle_: Return unavailable') # noqa E501\n",
    "    print(\"  Please fix this return type code until there is no exception\")\n",
    "    print('  Error:', e)\n"
   ]
  },
  {
   "cell_type": "code",
   "execution_count": null,
   "id": "sweet-berkeley",
   "metadata": {},
   "outputs": [],
   "source": [
    "# sklearn.linear_model._coordinate_descent.MultiTaskLasso._set_intercept\n",
    "try:\n",
    "    obj = class_constructor() # noqa F821\n",
    "    ret = obj._set_intercept()\n",
    "    type_sklearn_linear_model__coordinate_descent_MultiTaskLasso__set_intercept = getattr(ret, '__module__', 'none') + '.' + ret.__class__.__name__\n",
    "    print('✅ sklearn.linear_model._coordinate_descent.MultiTaskLasso._set_intercept: ', type(ret)) # noqa E501\n",
    "except Exception as e:\n",
    "    type_sklearn_linear_model__coordinate_descent_MultiTaskLasso__set_intercept = '_syft_missing'\n",
    "    print('❌ sklearn.linear_model._coordinate_descent.MultiTaskLasso._set_intercept: Return unavailable') # noqa E501\n",
    "    print(\"  Please fix this return type code until there is no exception\")\n",
    "    print('  Error:', e)\n"
   ]
  },
  {
   "cell_type": "code",
   "execution_count": null,
   "id": "available-eight",
   "metadata": {},
   "outputs": [],
   "source": [
    "# sklearn.linear_model._coordinate_descent.MultiTaskLasso._validate_data\n",
    "try:\n",
    "    obj = class_constructor() # noqa F821\n",
    "    ret = obj._validate_data()\n",
    "    type_sklearn_linear_model__coordinate_descent_MultiTaskLasso__validate_data = getattr(ret, '__module__', 'none') + '.' + ret.__class__.__name__\n",
    "    print('✅ sklearn.linear_model._coordinate_descent.MultiTaskLasso._validate_data: ', type(ret)) # noqa E501\n",
    "except Exception as e:\n",
    "    type_sklearn_linear_model__coordinate_descent_MultiTaskLasso__validate_data = '_syft_missing'\n",
    "    print('❌ sklearn.linear_model._coordinate_descent.MultiTaskLasso._validate_data: Return unavailable') # noqa E501\n",
    "    print(\"  Please fix this return type code until there is no exception\")\n",
    "    print('  Error:', e)\n"
   ]
  },
  {
   "cell_type": "code",
   "execution_count": null,
   "id": "least-mercury",
   "metadata": {},
   "outputs": [],
   "source": [
    "# sklearn.linear_model._coordinate_descent.MultiTaskLasso.fit\n",
    "try:\n",
    "    obj = class_constructor() # noqa F821\n",
    "    ret = obj.fit()\n",
    "    type_sklearn_linear_model__coordinate_descent_MultiTaskLasso_fit = getattr(ret, '__module__', 'none') + '.' + ret.__class__.__name__\n",
    "    print('✅ sklearn.linear_model._coordinate_descent.MultiTaskLasso.fit: ', type(ret)) # noqa E501\n",
    "except Exception as e:\n",
    "    type_sklearn_linear_model__coordinate_descent_MultiTaskLasso_fit = '_syft_missing'\n",
    "    print('❌ sklearn.linear_model._coordinate_descent.MultiTaskLasso.fit: Return unavailable') # noqa E501\n",
    "    print(\"  Please fix this return type code until there is no exception\")\n",
    "    print('  Error:', e)\n"
   ]
  },
  {
   "cell_type": "code",
   "execution_count": null,
   "id": "received-queensland",
   "metadata": {},
   "outputs": [],
   "source": [
    "# sklearn.linear_model._coordinate_descent.MultiTaskLasso.get_params\n",
    "try:\n",
    "    obj = class_constructor() # noqa F821\n",
    "    ret = obj.get_params()\n",
    "    type_sklearn_linear_model__coordinate_descent_MultiTaskLasso_get_params = getattr(ret, '__module__', 'none') + '.' + ret.__class__.__name__\n",
    "    print('✅ sklearn.linear_model._coordinate_descent.MultiTaskLasso.get_params: ', type(ret)) # noqa E501\n",
    "except Exception as e:\n",
    "    type_sklearn_linear_model__coordinate_descent_MultiTaskLasso_get_params = '_syft_missing'\n",
    "    print('❌ sklearn.linear_model._coordinate_descent.MultiTaskLasso.get_params: Return unavailable') # noqa E501\n",
    "    print(\"  Please fix this return type code until there is no exception\")\n",
    "    print('  Error:', e)\n"
   ]
  },
  {
   "cell_type": "code",
   "execution_count": null,
   "id": "tight-thomas",
   "metadata": {},
   "outputs": [],
   "source": [
    "# sklearn.linear_model._coordinate_descent.MultiTaskLasso.enet_path\n",
    "try:\n",
    "    obj = class_constructor() # noqa F821\n",
    "    ret = obj.enet_path()\n",
    "    type_sklearn_linear_model__coordinate_descent_MultiTaskLasso_enet_path = getattr(ret, '__module__', 'none') + '.' + ret.__class__.__name__\n",
    "    print('✅ sklearn.linear_model._coordinate_descent.MultiTaskLasso.enet_path: ', type(ret)) # noqa E501\n",
    "except Exception as e:\n",
    "    type_sklearn_linear_model__coordinate_descent_MultiTaskLasso_enet_path = '_syft_missing'\n",
    "    print('❌ sklearn.linear_model._coordinate_descent.MultiTaskLasso.enet_path: Return unavailable') # noqa E501\n",
    "    print(\"  Please fix this return type code until there is no exception\")\n",
    "    print('  Error:', e)\n"
   ]
  },
  {
   "cell_type": "code",
   "execution_count": null,
   "id": "australian-richards",
   "metadata": {},
   "outputs": [],
   "source": [
    "# sklearn.linear_model._coordinate_descent.MultiTaskLasso.predict\n",
    "try:\n",
    "    obj = class_constructor() # noqa F821\n",
    "    ret = obj.predict()\n",
    "    type_sklearn_linear_model__coordinate_descent_MultiTaskLasso_predict = getattr(ret, '__module__', 'none') + '.' + ret.__class__.__name__\n",
    "    print('✅ sklearn.linear_model._coordinate_descent.MultiTaskLasso.predict: ', type(ret)) # noqa E501\n",
    "except Exception as e:\n",
    "    type_sklearn_linear_model__coordinate_descent_MultiTaskLasso_predict = '_syft_missing'\n",
    "    print('❌ sklearn.linear_model._coordinate_descent.MultiTaskLasso.predict: Return unavailable') # noqa E501\n",
    "    print(\"  Please fix this return type code until there is no exception\")\n",
    "    print('  Error:', e)\n"
   ]
  },
  {
   "cell_type": "code",
   "execution_count": null,
   "id": "selective-mercy",
   "metadata": {},
   "outputs": [],
   "source": [
    "# sklearn.linear_model._coordinate_descent.MultiTaskLasso.score\n",
    "try:\n",
    "    obj = class_constructor() # noqa F821\n",
    "    ret = obj.score()\n",
    "    type_sklearn_linear_model__coordinate_descent_MultiTaskLasso_score = getattr(ret, '__module__', 'none') + '.' + ret.__class__.__name__\n",
    "    print('✅ sklearn.linear_model._coordinate_descent.MultiTaskLasso.score: ', type(ret)) # noqa E501\n",
    "except Exception as e:\n",
    "    type_sklearn_linear_model__coordinate_descent_MultiTaskLasso_score = '_syft_missing'\n",
    "    print('❌ sklearn.linear_model._coordinate_descent.MultiTaskLasso.score: Return unavailable') # noqa E501\n",
    "    print(\"  Please fix this return type code until there is no exception\")\n",
    "    print('  Error:', e)\n"
   ]
  },
  {
   "cell_type": "code",
   "execution_count": null,
   "id": "reliable-memory",
   "metadata": {},
   "outputs": [],
   "source": [
    "# sklearn.linear_model._coordinate_descent.MultiTaskLasso.set_params\n",
    "try:\n",
    "    obj = class_constructor() # noqa F821\n",
    "    ret = obj.set_params()\n",
    "    type_sklearn_linear_model__coordinate_descent_MultiTaskLasso_set_params = getattr(ret, '__module__', 'none') + '.' + ret.__class__.__name__\n",
    "    print('✅ sklearn.linear_model._coordinate_descent.MultiTaskLasso.set_params: ', type(ret)) # noqa E501\n",
    "except Exception as e:\n",
    "    type_sklearn_linear_model__coordinate_descent_MultiTaskLasso_set_params = '_syft_missing'\n",
    "    print('❌ sklearn.linear_model._coordinate_descent.MultiTaskLasso.set_params: Return unavailable') # noqa E501\n",
    "    print(\"  Please fix this return type code until there is no exception\")\n",
    "    print('  Error:', e)\n"
   ]
  },
  {
   "cell_type": "code",
   "execution_count": null,
   "id": "inner-lobby",
   "metadata": {},
   "outputs": [],
   "source": [
    "# sklearn.linear_model._coordinate_descent.MultiTaskLasso.sparse_coef_\n",
    "try:\n",
    "    obj = class_constructor()\n",
    "    ret = obj.sparse_coef_\n",
    "    type_sklearn_linear_model__coordinate_descent_MultiTaskLasso_sparse_coef_ = getattr(ret, '__module__', 'none') + '.' + ret.__class__.__name__\n",
    "    print('✅ sklearn.linear_model._coordinate_descent.MultiTaskLasso.sparse_coef_:', type(ret)) # noqa E501\n",
    "except Exception as e:\n",
    "    type_sklearn_linear_model__coordinate_descent_MultiTaskLasso_sparse_coef_ = '_syft_missing'\n",
    "    print('❌ sklearn.linear_model._coordinate_descent.MultiTaskLasso.sparse_coef_: Return unavailable') # noqa E501\n",
    "    print(\"  Please fix this return type code until there is no exception\")\n",
    "    print('  Error:', e)\n"
   ]
  }
 ],
 "metadata": {},
 "nbformat": 4,
 "nbformat_minor": 5
}
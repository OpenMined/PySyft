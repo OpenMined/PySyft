{
 "cells": [
  {
   "cell_type": "markdown",
   "id": "deadly-ground",
   "metadata": {},
   "source": [
    "## sklearn.neighbors._regression.RadiusNeighborsRegressor"
   ]
  },
  {
   "cell_type": "code",
   "execution_count": null,
   "id": "checked-generation",
   "metadata": {},
   "outputs": [],
   "source": [
    "import sklearn\n",
    "def class_constructor(*args, **kwargs):\n",
    "    obj = sklearn.neighbors._regression.RadiusNeighborsRegressor()\n",
    "    return obj\n"
   ]
  },
  {
   "cell_type": "code",
   "execution_count": null,
   "id": "laden-colorado",
   "metadata": {},
   "outputs": [],
   "source": [
    "# sklearn.neighbors._regression.RadiusNeighborsRegressor.__getstate__\n",
    "try:\n",
    "    obj = class_constructor() # noqa F821\n",
    "    ret = obj.__getstate__()\n",
    "    type_sklearn_neighbors__regression_RadiusNeighborsRegressor___getstate__ = getattr(ret, '__module__', 'none') + '.' + ret.__class__.__name__\n",
    "    print('✅ sklearn.neighbors._regression.RadiusNeighborsRegressor.__getstate__: ', type(ret)) # noqa E501\n",
    "except Exception as e:\n",
    "    type_sklearn_neighbors__regression_RadiusNeighborsRegressor___getstate__ = '_syft_missing'\n",
    "    print('❌ sklearn.neighbors._regression.RadiusNeighborsRegressor.__getstate__: Return unavailable') # noqa E501\n",
    "    print(\"  Please fix this return type code until there is no exception\")\n",
    "    print('  Error:', e)\n"
   ]
  },
  {
   "cell_type": "code",
   "execution_count": null,
   "id": "excessive-fields",
   "metadata": {},
   "outputs": [],
   "source": [
    "# sklearn.neighbors._regression.RadiusNeighborsRegressor.__repr__\n",
    "try:\n",
    "    obj = class_constructor() # noqa F821\n",
    "    ret = obj.__repr__()\n",
    "    type_sklearn_neighbors__regression_RadiusNeighborsRegressor___repr__ = getattr(ret, '__module__', 'none') + '.' + ret.__class__.__name__\n",
    "    print('✅ sklearn.neighbors._regression.RadiusNeighborsRegressor.__repr__: ', type(ret)) # noqa E501\n",
    "except Exception as e:\n",
    "    type_sklearn_neighbors__regression_RadiusNeighborsRegressor___repr__ = '_syft_missing'\n",
    "    print('❌ sklearn.neighbors._regression.RadiusNeighborsRegressor.__repr__: Return unavailable') # noqa E501\n",
    "    print(\"  Please fix this return type code until there is no exception\")\n",
    "    print('  Error:', e)\n"
   ]
  },
  {
   "cell_type": "code",
   "execution_count": null,
   "id": "inside-associate",
   "metadata": {},
   "outputs": [],
   "source": [
    "# sklearn.neighbors._regression.RadiusNeighborsRegressor.__setstate__\n",
    "try:\n",
    "    obj = class_constructor() # noqa F821\n",
    "    ret = obj.__setstate__()\n",
    "    type_sklearn_neighbors__regression_RadiusNeighborsRegressor___setstate__ = getattr(ret, '__module__', 'none') + '.' + ret.__class__.__name__\n",
    "    print('✅ sklearn.neighbors._regression.RadiusNeighborsRegressor.__setstate__: ', type(ret)) # noqa E501\n",
    "except Exception as e:\n",
    "    type_sklearn_neighbors__regression_RadiusNeighborsRegressor___setstate__ = '_syft_missing'\n",
    "    print('❌ sklearn.neighbors._regression.RadiusNeighborsRegressor.__setstate__: Return unavailable') # noqa E501\n",
    "    print(\"  Please fix this return type code until there is no exception\")\n",
    "    print('  Error:', e)\n"
   ]
  },
  {
   "cell_type": "code",
   "execution_count": null,
   "id": "going-islam",
   "metadata": {},
   "outputs": [],
   "source": [
    "# sklearn.neighbors._regression.RadiusNeighborsRegressor._check_algorithm_metric\n",
    "try:\n",
    "    obj = class_constructor() # noqa F821\n",
    "    ret = obj._check_algorithm_metric()\n",
    "    type_sklearn_neighbors__regression_RadiusNeighborsRegressor__check_algorithm_metric = getattr(ret, '__module__', 'none') + '.' + ret.__class__.__name__\n",
    "    print('✅ sklearn.neighbors._regression.RadiusNeighborsRegressor._check_algorithm_metric: ', type(ret)) # noqa E501\n",
    "except Exception as e:\n",
    "    type_sklearn_neighbors__regression_RadiusNeighborsRegressor__check_algorithm_metric = '_syft_missing'\n",
    "    print('❌ sklearn.neighbors._regression.RadiusNeighborsRegressor._check_algorithm_metric: Return unavailable') # noqa E501\n",
    "    print(\"  Please fix this return type code until there is no exception\")\n",
    "    print('  Error:', e)\n"
   ]
  },
  {
   "cell_type": "code",
   "execution_count": null,
   "id": "obvious-bench",
   "metadata": {},
   "outputs": [],
   "source": [
    "# sklearn.neighbors._regression.RadiusNeighborsRegressor._check_n_features\n",
    "try:\n",
    "    obj = class_constructor() # noqa F821\n",
    "    ret = obj._check_n_features()\n",
    "    type_sklearn_neighbors__regression_RadiusNeighborsRegressor__check_n_features = getattr(ret, '__module__', 'none') + '.' + ret.__class__.__name__\n",
    "    print('✅ sklearn.neighbors._regression.RadiusNeighborsRegressor._check_n_features: ', type(ret)) # noqa E501\n",
    "except Exception as e:\n",
    "    type_sklearn_neighbors__regression_RadiusNeighborsRegressor__check_n_features = '_syft_missing'\n",
    "    print('❌ sklearn.neighbors._regression.RadiusNeighborsRegressor._check_n_features: Return unavailable') # noqa E501\n",
    "    print(\"  Please fix this return type code until there is no exception\")\n",
    "    print('  Error:', e)\n"
   ]
  },
  {
   "cell_type": "code",
   "execution_count": null,
   "id": "advance-instruction",
   "metadata": {},
   "outputs": [],
   "source": [
    "# sklearn.neighbors._regression.RadiusNeighborsRegressor._fit\n",
    "try:\n",
    "    obj = class_constructor() # noqa F821\n",
    "    ret = obj._fit()\n",
    "    type_sklearn_neighbors__regression_RadiusNeighborsRegressor__fit = getattr(ret, '__module__', 'none') + '.' + ret.__class__.__name__\n",
    "    print('✅ sklearn.neighbors._regression.RadiusNeighborsRegressor._fit: ', type(ret)) # noqa E501\n",
    "except Exception as e:\n",
    "    type_sklearn_neighbors__regression_RadiusNeighborsRegressor__fit = '_syft_missing'\n",
    "    print('❌ sklearn.neighbors._regression.RadiusNeighborsRegressor._fit: Return unavailable') # noqa E501\n",
    "    print(\"  Please fix this return type code until there is no exception\")\n",
    "    print('  Error:', e)\n"
   ]
  },
  {
   "cell_type": "code",
   "execution_count": null,
   "id": "editorial-pursuit",
   "metadata": {},
   "outputs": [],
   "source": [
    "# sklearn.neighbors._regression.RadiusNeighborsRegressor._get_param_names\n",
    "try:\n",
    "    obj = class_constructor() # noqa F821\n",
    "    ret = obj._get_param_names()\n",
    "    type_sklearn_neighbors__regression_RadiusNeighborsRegressor__get_param_names = getattr(ret, '__module__', 'none') + '.' + ret.__class__.__name__\n",
    "    print('✅ sklearn.neighbors._regression.RadiusNeighborsRegressor._get_param_names: ', type(ret)) # noqa E501\n",
    "except Exception as e:\n",
    "    type_sklearn_neighbors__regression_RadiusNeighborsRegressor__get_param_names = '_syft_missing'\n",
    "    print('❌ sklearn.neighbors._regression.RadiusNeighborsRegressor._get_param_names: Return unavailable') # noqa E501\n",
    "    print(\"  Please fix this return type code until there is no exception\")\n",
    "    print('  Error:', e)\n"
   ]
  },
  {
   "cell_type": "code",
   "execution_count": null,
   "id": "duplicate-canyon",
   "metadata": {},
   "outputs": [],
   "source": [
    "# sklearn.neighbors._regression.RadiusNeighborsRegressor._get_tags\n",
    "try:\n",
    "    obj = class_constructor() # noqa F821\n",
    "    ret = obj._get_tags()\n",
    "    type_sklearn_neighbors__regression_RadiusNeighborsRegressor__get_tags = getattr(ret, '__module__', 'none') + '.' + ret.__class__.__name__\n",
    "    print('✅ sklearn.neighbors._regression.RadiusNeighborsRegressor._get_tags: ', type(ret)) # noqa E501\n",
    "except Exception as e:\n",
    "    type_sklearn_neighbors__regression_RadiusNeighborsRegressor__get_tags = '_syft_missing'\n",
    "    print('❌ sklearn.neighbors._regression.RadiusNeighborsRegressor._get_tags: Return unavailable') # noqa E501\n",
    "    print(\"  Please fix this return type code until there is no exception\")\n",
    "    print('  Error:', e)\n"
   ]
  },
  {
   "cell_type": "code",
   "execution_count": null,
   "id": "front-luther",
   "metadata": {},
   "outputs": [],
   "source": [
    "# sklearn.neighbors._regression.RadiusNeighborsRegressor._more_tags\n",
    "try:\n",
    "    obj = class_constructor() # noqa F821\n",
    "    ret = obj._more_tags()\n",
    "    type_sklearn_neighbors__regression_RadiusNeighborsRegressor__more_tags = getattr(ret, '__module__', 'none') + '.' + ret.__class__.__name__\n",
    "    print('✅ sklearn.neighbors._regression.RadiusNeighborsRegressor._more_tags: ', type(ret)) # noqa E501\n",
    "except Exception as e:\n",
    "    type_sklearn_neighbors__regression_RadiusNeighborsRegressor__more_tags = '_syft_missing'\n",
    "    print('❌ sklearn.neighbors._regression.RadiusNeighborsRegressor._more_tags: Return unavailable') # noqa E501\n",
    "    print(\"  Please fix this return type code until there is no exception\")\n",
    "    print('  Error:', e)\n"
   ]
  },
  {
   "cell_type": "code",
   "execution_count": null,
   "id": "valid-flood",
   "metadata": {},
   "outputs": [],
   "source": [
    "# sklearn.neighbors._regression.RadiusNeighborsRegressor._pairwise\n",
    "try:\n",
    "    obj = class_constructor()\n",
    "    ret = obj._pairwise\n",
    "    type_sklearn_neighbors__regression_RadiusNeighborsRegressor__pairwise = getattr(ret, '__module__', 'none') + '.' + ret.__class__.__name__\n",
    "    print('✅ sklearn.neighbors._regression.RadiusNeighborsRegressor._pairwise:', type(ret)) # noqa E501\n",
    "except Exception as e:\n",
    "    type_sklearn_neighbors__regression_RadiusNeighborsRegressor__pairwise = '_syft_missing'\n",
    "    print('❌ sklearn.neighbors._regression.RadiusNeighborsRegressor._pairwise: Return unavailable') # noqa E501\n",
    "    print(\"  Please fix this return type code until there is no exception\")\n",
    "    print('  Error:', e)\n"
   ]
  },
  {
   "cell_type": "code",
   "execution_count": null,
   "id": "failing-investing",
   "metadata": {},
   "outputs": [],
   "source": [
    "# sklearn.neighbors._regression.RadiusNeighborsRegressor._radius_neighbors_reduce_func\n",
    "try:\n",
    "    obj = class_constructor() # noqa F821\n",
    "    ret = obj._radius_neighbors_reduce_func()\n",
    "    type_sklearn_neighbors__regression_RadiusNeighborsRegressor__radius_neighbors_reduce_func = getattr(ret, '__module__', 'none') + '.' + ret.__class__.__name__\n",
    "    print('✅ sklearn.neighbors._regression.RadiusNeighborsRegressor._radius_neighbors_reduce_func: ', type(ret)) # noqa E501\n",
    "except Exception as e:\n",
    "    type_sklearn_neighbors__regression_RadiusNeighborsRegressor__radius_neighbors_reduce_func = '_syft_missing'\n",
    "    print('❌ sklearn.neighbors._regression.RadiusNeighborsRegressor._radius_neighbors_reduce_func: Return unavailable') # noqa E501\n",
    "    print(\"  Please fix this return type code until there is no exception\")\n",
    "    print('  Error:', e)\n"
   ]
  },
  {
   "cell_type": "code",
   "execution_count": null,
   "id": "built-stockholm",
   "metadata": {},
   "outputs": [],
   "source": [
    "# sklearn.neighbors._regression.RadiusNeighborsRegressor._repr_html_\n",
    "try:\n",
    "    obj = class_constructor()\n",
    "    ret = obj._repr_html_\n",
    "    type_sklearn_neighbors__regression_RadiusNeighborsRegressor__repr_html_ = getattr(ret, '__module__', 'none') + '.' + ret.__class__.__name__\n",
    "    print('✅ sklearn.neighbors._regression.RadiusNeighborsRegressor._repr_html_:', type(ret)) # noqa E501\n",
    "except Exception as e:\n",
    "    type_sklearn_neighbors__regression_RadiusNeighborsRegressor__repr_html_ = '_syft_missing'\n",
    "    print('❌ sklearn.neighbors._regression.RadiusNeighborsRegressor._repr_html_: Return unavailable') # noqa E501\n",
    "    print(\"  Please fix this return type code until there is no exception\")\n",
    "    print('  Error:', e)\n"
   ]
  },
  {
   "cell_type": "code",
   "execution_count": null,
   "id": "level-birthday",
   "metadata": {},
   "outputs": [],
   "source": [
    "# sklearn.neighbors._regression.RadiusNeighborsRegressor._repr_html_inner\n",
    "try:\n",
    "    obj = class_constructor() # noqa F821\n",
    "    ret = obj._repr_html_inner()\n",
    "    type_sklearn_neighbors__regression_RadiusNeighborsRegressor__repr_html_inner = getattr(ret, '__module__', 'none') + '.' + ret.__class__.__name__\n",
    "    print('✅ sklearn.neighbors._regression.RadiusNeighborsRegressor._repr_html_inner: ', type(ret)) # noqa E501\n",
    "except Exception as e:\n",
    "    type_sklearn_neighbors__regression_RadiusNeighborsRegressor__repr_html_inner = '_syft_missing'\n",
    "    print('❌ sklearn.neighbors._regression.RadiusNeighborsRegressor._repr_html_inner: Return unavailable') # noqa E501\n",
    "    print(\"  Please fix this return type code until there is no exception\")\n",
    "    print('  Error:', e)\n"
   ]
  },
  {
   "cell_type": "code",
   "execution_count": null,
   "id": "arabic-fusion",
   "metadata": {},
   "outputs": [],
   "source": [
    "# sklearn.neighbors._regression.RadiusNeighborsRegressor._repr_mimebundle_\n",
    "try:\n",
    "    obj = class_constructor() # noqa F821\n",
    "    ret = obj._repr_mimebundle_()\n",
    "    type_sklearn_neighbors__regression_RadiusNeighborsRegressor__repr_mimebundle_ = getattr(ret, '__module__', 'none') + '.' + ret.__class__.__name__\n",
    "    print('✅ sklearn.neighbors._regression.RadiusNeighborsRegressor._repr_mimebundle_: ', type(ret)) # noqa E501\n",
    "except Exception as e:\n",
    "    type_sklearn_neighbors__regression_RadiusNeighborsRegressor__repr_mimebundle_ = '_syft_missing'\n",
    "    print('❌ sklearn.neighbors._regression.RadiusNeighborsRegressor._repr_mimebundle_: Return unavailable') # noqa E501\n",
    "    print(\"  Please fix this return type code until there is no exception\")\n",
    "    print('  Error:', e)\n"
   ]
  },
  {
   "cell_type": "code",
   "execution_count": null,
   "id": "structural-entity",
   "metadata": {},
   "outputs": [],
   "source": [
    "# sklearn.neighbors._regression.RadiusNeighborsRegressor._validate_data\n",
    "try:\n",
    "    obj = class_constructor() # noqa F821\n",
    "    ret = obj._validate_data()\n",
    "    type_sklearn_neighbors__regression_RadiusNeighborsRegressor__validate_data = getattr(ret, '__module__', 'none') + '.' + ret.__class__.__name__\n",
    "    print('✅ sklearn.neighbors._regression.RadiusNeighborsRegressor._validate_data: ', type(ret)) # noqa E501\n",
    "except Exception as e:\n",
    "    type_sklearn_neighbors__regression_RadiusNeighborsRegressor__validate_data = '_syft_missing'\n",
    "    print('❌ sklearn.neighbors._regression.RadiusNeighborsRegressor._validate_data: Return unavailable') # noqa E501\n",
    "    print(\"  Please fix this return type code until there is no exception\")\n",
    "    print('  Error:', e)\n"
   ]
  },
  {
   "cell_type": "code",
   "execution_count": null,
   "id": "becoming-matter",
   "metadata": {},
   "outputs": [],
   "source": [
    "# sklearn.neighbors._regression.RadiusNeighborsRegressor.fit\n",
    "try:\n",
    "    obj = class_constructor() # noqa F821\n",
    "    ret = obj.fit()\n",
    "    type_sklearn_neighbors__regression_RadiusNeighborsRegressor_fit = getattr(ret, '__module__', 'none') + '.' + ret.__class__.__name__\n",
    "    print('✅ sklearn.neighbors._regression.RadiusNeighborsRegressor.fit: ', type(ret)) # noqa E501\n",
    "except Exception as e:\n",
    "    type_sklearn_neighbors__regression_RadiusNeighborsRegressor_fit = '_syft_missing'\n",
    "    print('❌ sklearn.neighbors._regression.RadiusNeighborsRegressor.fit: Return unavailable') # noqa E501\n",
    "    print(\"  Please fix this return type code until there is no exception\")\n",
    "    print('  Error:', e)\n"
   ]
  },
  {
   "cell_type": "code",
   "execution_count": null,
   "id": "signal-shore",
   "metadata": {},
   "outputs": [],
   "source": [
    "# sklearn.neighbors._regression.RadiusNeighborsRegressor.get_params\n",
    "try:\n",
    "    obj = class_constructor() # noqa F821\n",
    "    ret = obj.get_params()\n",
    "    type_sklearn_neighbors__regression_RadiusNeighborsRegressor_get_params = getattr(ret, '__module__', 'none') + '.' + ret.__class__.__name__\n",
    "    print('✅ sklearn.neighbors._regression.RadiusNeighborsRegressor.get_params: ', type(ret)) # noqa E501\n",
    "except Exception as e:\n",
    "    type_sklearn_neighbors__regression_RadiusNeighborsRegressor_get_params = '_syft_missing'\n",
    "    print('❌ sklearn.neighbors._regression.RadiusNeighborsRegressor.get_params: Return unavailable') # noqa E501\n",
    "    print(\"  Please fix this return type code until there is no exception\")\n",
    "    print('  Error:', e)\n"
   ]
  },
  {
   "cell_type": "code",
   "execution_count": null,
   "id": "promising-sessions",
   "metadata": {},
   "outputs": [],
   "source": [
    "# sklearn.neighbors._regression.RadiusNeighborsRegressor.predict\n",
    "try:\n",
    "    obj = class_constructor() # noqa F821\n",
    "    ret = obj.predict()\n",
    "    type_sklearn_neighbors__regression_RadiusNeighborsRegressor_predict = getattr(ret, '__module__', 'none') + '.' + ret.__class__.__name__\n",
    "    print('✅ sklearn.neighbors._regression.RadiusNeighborsRegressor.predict: ', type(ret)) # noqa E501\n",
    "except Exception as e:\n",
    "    type_sklearn_neighbors__regression_RadiusNeighborsRegressor_predict = '_syft_missing'\n",
    "    print('❌ sklearn.neighbors._regression.RadiusNeighborsRegressor.predict: Return unavailable') # noqa E501\n",
    "    print(\"  Please fix this return type code until there is no exception\")\n",
    "    print('  Error:', e)\n"
   ]
  },
  {
   "cell_type": "code",
   "execution_count": null,
   "id": "effective-diabetes",
   "metadata": {},
   "outputs": [],
   "source": [
    "# sklearn.neighbors._regression.RadiusNeighborsRegressor.radius_neighbors\n",
    "try:\n",
    "    obj = class_constructor() # noqa F821\n",
    "    ret = obj.radius_neighbors()\n",
    "    type_sklearn_neighbors__regression_RadiusNeighborsRegressor_radius_neighbors = getattr(ret, '__module__', 'none') + '.' + ret.__class__.__name__\n",
    "    print('✅ sklearn.neighbors._regression.RadiusNeighborsRegressor.radius_neighbors: ', type(ret)) # noqa E501\n",
    "except Exception as e:\n",
    "    type_sklearn_neighbors__regression_RadiusNeighborsRegressor_radius_neighbors = '_syft_missing'\n",
    "    print('❌ sklearn.neighbors._regression.RadiusNeighborsRegressor.radius_neighbors: Return unavailable') # noqa E501\n",
    "    print(\"  Please fix this return type code until there is no exception\")\n",
    "    print('  Error:', e)\n"
   ]
  },
  {
   "cell_type": "code",
   "execution_count": null,
   "id": "other-channel",
   "metadata": {},
   "outputs": [],
   "source": [
    "# sklearn.neighbors._regression.RadiusNeighborsRegressor.radius_neighbors_graph\n",
    "try:\n",
    "    obj = class_constructor() # noqa F821\n",
    "    ret = obj.radius_neighbors_graph()\n",
    "    type_sklearn_neighbors__regression_RadiusNeighborsRegressor_radius_neighbors_graph = getattr(ret, '__module__', 'none') + '.' + ret.__class__.__name__\n",
    "    print('✅ sklearn.neighbors._regression.RadiusNeighborsRegressor.radius_neighbors_graph: ', type(ret)) # noqa E501\n",
    "except Exception as e:\n",
    "    type_sklearn_neighbors__regression_RadiusNeighborsRegressor_radius_neighbors_graph = '_syft_missing'\n",
    "    print('❌ sklearn.neighbors._regression.RadiusNeighborsRegressor.radius_neighbors_graph: Return unavailable') # noqa E501\n",
    "    print(\"  Please fix this return type code until there is no exception\")\n",
    "    print('  Error:', e)\n"
   ]
  },
  {
   "cell_type": "code",
   "execution_count": null,
   "id": "copyrighted-istanbul",
   "metadata": {},
   "outputs": [],
   "source": [
    "# sklearn.neighbors._regression.RadiusNeighborsRegressor.score\n",
    "try:\n",
    "    obj = class_constructor() # noqa F821\n",
    "    ret = obj.score()\n",
    "    type_sklearn_neighbors__regression_RadiusNeighborsRegressor_score = getattr(ret, '__module__', 'none') + '.' + ret.__class__.__name__\n",
    "    print('✅ sklearn.neighbors._regression.RadiusNeighborsRegressor.score: ', type(ret)) # noqa E501\n",
    "except Exception as e:\n",
    "    type_sklearn_neighbors__regression_RadiusNeighborsRegressor_score = '_syft_missing'\n",
    "    print('❌ sklearn.neighbors._regression.RadiusNeighborsRegressor.score: Return unavailable') # noqa E501\n",
    "    print(\"  Please fix this return type code until there is no exception\")\n",
    "    print('  Error:', e)\n"
   ]
  },
  {
   "cell_type": "code",
   "execution_count": null,
   "id": "legal-elements",
   "metadata": {},
   "outputs": [],
   "source": [
    "# sklearn.neighbors._regression.RadiusNeighborsRegressor.set_params\n",
    "try:\n",
    "    obj = class_constructor() # noqa F821\n",
    "    ret = obj.set_params()\n",
    "    type_sklearn_neighbors__regression_RadiusNeighborsRegressor_set_params = getattr(ret, '__module__', 'none') + '.' + ret.__class__.__name__\n",
    "    print('✅ sklearn.neighbors._regression.RadiusNeighborsRegressor.set_params: ', type(ret)) # noqa E501\n",
    "except Exception as e:\n",
    "    type_sklearn_neighbors__regression_RadiusNeighborsRegressor_set_params = '_syft_missing'\n",
    "    print('❌ sklearn.neighbors._regression.RadiusNeighborsRegressor.set_params: Return unavailable') # noqa E501\n",
    "    print(\"  Please fix this return type code until there is no exception\")\n",
    "    print('  Error:', e)\n"
   ]
  }
 ],
 "metadata": {},
 "nbformat": 4,
 "nbformat_minor": 5
}
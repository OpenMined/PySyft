{
 "cells": [
  {
   "cell_type": "markdown",
   "id": "spread-slope",
   "metadata": {},
   "source": [
    "## sklearn.utils._mocking.ArraySlicingWrapper"
   ]
  },
  {
   "cell_type": "code",
   "execution_count": null,
   "id": "forbidden-somerset",
   "metadata": {},
   "outputs": [],
   "source": [
    "import sklearn\n",
    "def class_constructor(*args, **kwargs):\n",
    "    obj = sklearn.utils._mocking.ArraySlicingWrapper()\n",
    "    return obj\n"
   ]
  },
  {
   "cell_type": "code",
   "execution_count": null,
   "id": "higher-spanking",
   "metadata": {},
   "outputs": [],
   "source": [
    "# sklearn.utils._mocking.ArraySlicingWrapper.__getitem__\n",
    "try:\n",
    "    obj = class_constructor() # noqa F821\n",
    "    ret = obj.__getitem__()\n",
    "    type_sklearn_utils__mocking_ArraySlicingWrapper___getitem__ = getattr(ret, '__module__', 'none') + '.' + ret.__class__.__name__\n",
    "    print('✅ sklearn.utils._mocking.ArraySlicingWrapper.__getitem__: ', type(ret)) # noqa E501\n",
    "except Exception as e:\n",
    "    type_sklearn_utils__mocking_ArraySlicingWrapper___getitem__ = '_syft_missing'\n",
    "    print('❌ sklearn.utils._mocking.ArraySlicingWrapper.__getitem__: Return unavailable') # noqa E501\n",
    "    print(\"  Please fix this return type code until there is no exception\")\n",
    "    print('  Error:', e)\n"
   ]
  }
 ],
 "metadata": {},
 "nbformat": 4,
 "nbformat_minor": 5
}
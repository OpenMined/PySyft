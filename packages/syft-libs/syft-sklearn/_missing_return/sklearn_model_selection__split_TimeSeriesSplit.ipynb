{
 "cells": [
  {
   "cell_type": "markdown",
   "id": "massive-bermuda",
   "metadata": {},
   "source": [
    "## sklearn.model_selection._split.TimeSeriesSplit"
   ]
  },
  {
   "cell_type": "code",
   "execution_count": null,
   "id": "conventional-wrist",
   "metadata": {},
   "outputs": [],
   "source": [
    "import sklearn\n",
    "def class_constructor(*args, **kwargs):\n",
    "    obj = sklearn.model_selection._split.TimeSeriesSplit()\n",
    "    return obj\n"
   ]
  },
  {
   "cell_type": "code",
   "execution_count": null,
   "id": "geographic-notebook",
   "metadata": {},
   "outputs": [],
   "source": [
    "# sklearn.model_selection._split.TimeSeriesSplit.__repr__\n",
    "try:\n",
    "    obj = class_constructor() # noqa F821\n",
    "    ret = obj.__repr__()\n",
    "    type_sklearn_model_selection__split_TimeSeriesSplit___repr__ = getattr(ret, '__module__', 'none') + '.' + ret.__class__.__name__\n",
    "    print('✅ sklearn.model_selection._split.TimeSeriesSplit.__repr__: ', type(ret)) # noqa E501\n",
    "except Exception as e:\n",
    "    type_sklearn_model_selection__split_TimeSeriesSplit___repr__ = '_syft_missing'\n",
    "    print('❌ sklearn.model_selection._split.TimeSeriesSplit.__repr__: Return unavailable') # noqa E501\n",
    "    print(\"  Please fix this return type code until there is no exception\")\n",
    "    print('  Error:', e)\n"
   ]
  },
  {
   "cell_type": "code",
   "execution_count": null,
   "id": "forced-pasta",
   "metadata": {},
   "outputs": [],
   "source": [
    "# sklearn.model_selection._split.TimeSeriesSplit._iter_test_indices\n",
    "try:\n",
    "    obj = class_constructor() # noqa F821\n",
    "    ret = obj._iter_test_indices()\n",
    "    type_sklearn_model_selection__split_TimeSeriesSplit__iter_test_indices = getattr(ret, '__module__', 'none') + '.' + ret.__class__.__name__\n",
    "    print('✅ sklearn.model_selection._split.TimeSeriesSplit._iter_test_indices: ', type(ret)) # noqa E501\n",
    "except Exception as e:\n",
    "    type_sklearn_model_selection__split_TimeSeriesSplit__iter_test_indices = '_syft_missing'\n",
    "    print('❌ sklearn.model_selection._split.TimeSeriesSplit._iter_test_indices: Return unavailable') # noqa E501\n",
    "    print(\"  Please fix this return type code until there is no exception\")\n",
    "    print('  Error:', e)\n"
   ]
  },
  {
   "cell_type": "code",
   "execution_count": null,
   "id": "complete-physiology",
   "metadata": {},
   "outputs": [],
   "source": [
    "# sklearn.model_selection._split.TimeSeriesSplit._iter_test_masks\n",
    "try:\n",
    "    obj = class_constructor() # noqa F821\n",
    "    ret = obj._iter_test_masks()\n",
    "    type_sklearn_model_selection__split_TimeSeriesSplit__iter_test_masks = getattr(ret, '__module__', 'none') + '.' + ret.__class__.__name__\n",
    "    print('✅ sklearn.model_selection._split.TimeSeriesSplit._iter_test_masks: ', type(ret)) # noqa E501\n",
    "except Exception as e:\n",
    "    type_sklearn_model_selection__split_TimeSeriesSplit__iter_test_masks = '_syft_missing'\n",
    "    print('❌ sklearn.model_selection._split.TimeSeriesSplit._iter_test_masks: Return unavailable') # noqa E501\n",
    "    print(\"  Please fix this return type code until there is no exception\")\n",
    "    print('  Error:', e)\n"
   ]
  },
  {
   "cell_type": "code",
   "execution_count": null,
   "id": "palestinian-joshua",
   "metadata": {},
   "outputs": [],
   "source": [
    "# sklearn.model_selection._split.TimeSeriesSplit.get_n_splits\n",
    "try:\n",
    "    obj = class_constructor() # noqa F821\n",
    "    ret = obj.get_n_splits()\n",
    "    type_sklearn_model_selection__split_TimeSeriesSplit_get_n_splits = getattr(ret, '__module__', 'none') + '.' + ret.__class__.__name__\n",
    "    print('✅ sklearn.model_selection._split.TimeSeriesSplit.get_n_splits: ', type(ret)) # noqa E501\n",
    "except Exception as e:\n",
    "    type_sklearn_model_selection__split_TimeSeriesSplit_get_n_splits = '_syft_missing'\n",
    "    print('❌ sklearn.model_selection._split.TimeSeriesSplit.get_n_splits: Return unavailable') # noqa E501\n",
    "    print(\"  Please fix this return type code until there is no exception\")\n",
    "    print('  Error:', e)\n"
   ]
  },
  {
   "cell_type": "code",
   "execution_count": null,
   "id": "played-scroll",
   "metadata": {},
   "outputs": [],
   "source": [
    "# sklearn.model_selection._split.TimeSeriesSplit.split\n",
    "try:\n",
    "    obj = class_constructor() # noqa F821\n",
    "    ret = obj.split()\n",
    "    type_sklearn_model_selection__split_TimeSeriesSplit_split = getattr(ret, '__module__', 'none') + '.' + ret.__class__.__name__\n",
    "    print('✅ sklearn.model_selection._split.TimeSeriesSplit.split: ', type(ret)) # noqa E501\n",
    "except Exception as e:\n",
    "    type_sklearn_model_selection__split_TimeSeriesSplit_split = '_syft_missing'\n",
    "    print('❌ sklearn.model_selection._split.TimeSeriesSplit.split: Return unavailable') # noqa E501\n",
    "    print(\"  Please fix this return type code until there is no exception\")\n",
    "    print('  Error:', e)\n"
   ]
  }
 ],
 "metadata": {},
 "nbformat": 4,
 "nbformat_minor": 5
}
{
 "cells": [
  {
   "cell_type": "markdown",
   "id": "combined-passage",
   "metadata": {},
   "source": [
    "## sklearn.ensemble._gb_losses.LeastAbsoluteError"
   ]
  },
  {
   "cell_type": "code",
   "execution_count": null,
   "id": "applied-toolbox",
   "metadata": {},
   "outputs": [],
   "source": [
    "import sklearn\n",
    "def class_constructor(*args, **kwargs):\n",
    "    obj = sklearn.ensemble._gb_losses.LeastAbsoluteError()\n",
    "    return obj\n"
   ]
  },
  {
   "cell_type": "code",
   "execution_count": null,
   "id": "italic-mozambique",
   "metadata": {},
   "outputs": [],
   "source": [
    "# sklearn.ensemble._gb_losses.LeastAbsoluteError.__call__\n",
    "try:\n",
    "    obj = class_constructor() # noqa F821\n",
    "    ret = obj.__call__()\n",
    "    type_sklearn_ensemble__gb_losses_LeastAbsoluteError___call__ = getattr(ret, '__module__', 'none') + '.' + ret.__class__.__name__\n",
    "    print('✅ sklearn.ensemble._gb_losses.LeastAbsoluteError.__call__: ', type(ret)) # noqa E501\n",
    "except Exception as e:\n",
    "    type_sklearn_ensemble__gb_losses_LeastAbsoluteError___call__ = '_syft_missing'\n",
    "    print('❌ sklearn.ensemble._gb_losses.LeastAbsoluteError.__call__: Return unavailable') # noqa E501\n",
    "    print(\"  Please fix this return type code until there is no exception\")\n",
    "    print('  Error:', e)\n"
   ]
  },
  {
   "cell_type": "code",
   "execution_count": null,
   "id": "democratic-society",
   "metadata": {},
   "outputs": [],
   "source": [
    "# sklearn.ensemble._gb_losses.LeastAbsoluteError._update_terminal_region\n",
    "try:\n",
    "    obj = class_constructor() # noqa F821\n",
    "    ret = obj._update_terminal_region()\n",
    "    type_sklearn_ensemble__gb_losses_LeastAbsoluteError__update_terminal_region = getattr(ret, '__module__', 'none') + '.' + ret.__class__.__name__\n",
    "    print('✅ sklearn.ensemble._gb_losses.LeastAbsoluteError._update_terminal_region: ', type(ret)) # noqa E501\n",
    "except Exception as e:\n",
    "    type_sklearn_ensemble__gb_losses_LeastAbsoluteError__update_terminal_region = '_syft_missing'\n",
    "    print('❌ sklearn.ensemble._gb_losses.LeastAbsoluteError._update_terminal_region: Return unavailable') # noqa E501\n",
    "    print(\"  Please fix this return type code until there is no exception\")\n",
    "    print('  Error:', e)\n"
   ]
  },
  {
   "cell_type": "code",
   "execution_count": null,
   "id": "organizational-rental",
   "metadata": {},
   "outputs": [],
   "source": [
    "# sklearn.ensemble._gb_losses.LeastAbsoluteError.check_init_estimator\n",
    "try:\n",
    "    obj = class_constructor() # noqa F821\n",
    "    ret = obj.check_init_estimator()\n",
    "    type_sklearn_ensemble__gb_losses_LeastAbsoluteError_check_init_estimator = getattr(ret, '__module__', 'none') + '.' + ret.__class__.__name__\n",
    "    print('✅ sklearn.ensemble._gb_losses.LeastAbsoluteError.check_init_estimator: ', type(ret)) # noqa E501\n",
    "except Exception as e:\n",
    "    type_sklearn_ensemble__gb_losses_LeastAbsoluteError_check_init_estimator = '_syft_missing'\n",
    "    print('❌ sklearn.ensemble._gb_losses.LeastAbsoluteError.check_init_estimator: Return unavailable') # noqa E501\n",
    "    print(\"  Please fix this return type code until there is no exception\")\n",
    "    print('  Error:', e)\n"
   ]
  },
  {
   "cell_type": "code",
   "execution_count": null,
   "id": "aggressive-person",
   "metadata": {},
   "outputs": [],
   "source": [
    "# sklearn.ensemble._gb_losses.LeastAbsoluteError.get_init_raw_predictions\n",
    "try:\n",
    "    obj = class_constructor() # noqa F821\n",
    "    ret = obj.get_init_raw_predictions()\n",
    "    type_sklearn_ensemble__gb_losses_LeastAbsoluteError_get_init_raw_predictions = getattr(ret, '__module__', 'none') + '.' + ret.__class__.__name__\n",
    "    print('✅ sklearn.ensemble._gb_losses.LeastAbsoluteError.get_init_raw_predictions: ', type(ret)) # noqa E501\n",
    "except Exception as e:\n",
    "    type_sklearn_ensemble__gb_losses_LeastAbsoluteError_get_init_raw_predictions = '_syft_missing'\n",
    "    print('❌ sklearn.ensemble._gb_losses.LeastAbsoluteError.get_init_raw_predictions: Return unavailable') # noqa E501\n",
    "    print(\"  Please fix this return type code until there is no exception\")\n",
    "    print('  Error:', e)\n"
   ]
  },
  {
   "cell_type": "code",
   "execution_count": null,
   "id": "academic-pioneer",
   "metadata": {},
   "outputs": [],
   "source": [
    "# sklearn.ensemble._gb_losses.LeastAbsoluteError.init_estimator\n",
    "try:\n",
    "    obj = class_constructor() # noqa F821\n",
    "    ret = obj.init_estimator()\n",
    "    type_sklearn_ensemble__gb_losses_LeastAbsoluteError_init_estimator = getattr(ret, '__module__', 'none') + '.' + ret.__class__.__name__\n",
    "    print('✅ sklearn.ensemble._gb_losses.LeastAbsoluteError.init_estimator: ', type(ret)) # noqa E501\n",
    "except Exception as e:\n",
    "    type_sklearn_ensemble__gb_losses_LeastAbsoluteError_init_estimator = '_syft_missing'\n",
    "    print('❌ sklearn.ensemble._gb_losses.LeastAbsoluteError.init_estimator: Return unavailable') # noqa E501\n",
    "    print(\"  Please fix this return type code until there is no exception\")\n",
    "    print('  Error:', e)\n"
   ]
  },
  {
   "cell_type": "code",
   "execution_count": null,
   "id": "seeing-florist",
   "metadata": {},
   "outputs": [],
   "source": [
    "# sklearn.ensemble._gb_losses.LeastAbsoluteError.negative_gradient\n",
    "try:\n",
    "    obj = class_constructor() # noqa F821\n",
    "    ret = obj.negative_gradient()\n",
    "    type_sklearn_ensemble__gb_losses_LeastAbsoluteError_negative_gradient = getattr(ret, '__module__', 'none') + '.' + ret.__class__.__name__\n",
    "    print('✅ sklearn.ensemble._gb_losses.LeastAbsoluteError.negative_gradient: ', type(ret)) # noqa E501\n",
    "except Exception as e:\n",
    "    type_sklearn_ensemble__gb_losses_LeastAbsoluteError_negative_gradient = '_syft_missing'\n",
    "    print('❌ sklearn.ensemble._gb_losses.LeastAbsoluteError.negative_gradient: Return unavailable') # noqa E501\n",
    "    print(\"  Please fix this return type code until there is no exception\")\n",
    "    print('  Error:', e)\n"
   ]
  },
  {
   "cell_type": "code",
   "execution_count": null,
   "id": "floral-oxide",
   "metadata": {},
   "outputs": [],
   "source": [
    "# sklearn.ensemble._gb_losses.LeastAbsoluteError.update_terminal_regions\n",
    "try:\n",
    "    obj = class_constructor() # noqa F821\n",
    "    ret = obj.update_terminal_regions()\n",
    "    type_sklearn_ensemble__gb_losses_LeastAbsoluteError_update_terminal_regions = getattr(ret, '__module__', 'none') + '.' + ret.__class__.__name__\n",
    "    print('✅ sklearn.ensemble._gb_losses.LeastAbsoluteError.update_terminal_regions: ', type(ret)) # noqa E501\n",
    "except Exception as e:\n",
    "    type_sklearn_ensemble__gb_losses_LeastAbsoluteError_update_terminal_regions = '_syft_missing'\n",
    "    print('❌ sklearn.ensemble._gb_losses.LeastAbsoluteError.update_terminal_regions: Return unavailable') # noqa E501\n",
    "    print(\"  Please fix this return type code until there is no exception\")\n",
    "    print('  Error:', e)\n"
   ]
  }
 ],
 "metadata": {},
 "nbformat": 4,
 "nbformat_minor": 5
}
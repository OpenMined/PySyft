{
 "cells": [
  {
   "cell_type": "markdown",
   "id": "settled-print",
   "metadata": {},
   "source": [
    "## sklearn.tree._export._MPLTreeExporter"
   ]
  },
  {
   "cell_type": "code",
   "execution_count": null,
   "id": "cooperative-smith",
   "metadata": {},
   "outputs": [],
   "source": [
    "import sklearn\n",
    "def class_constructor(*args, **kwargs):\n",
    "    obj = sklearn.tree._export._MPLTreeExporter()\n",
    "    return obj\n"
   ]
  },
  {
   "cell_type": "code",
   "execution_count": null,
   "id": "superb-processor",
   "metadata": {},
   "outputs": [],
   "source": [
    "# sklearn.tree._export._MPLTreeExporter._make_tree\n",
    "try:\n",
    "    obj = class_constructor() # noqa F821\n",
    "    ret = obj._make_tree()\n",
    "    type_sklearn_tree__export__MPLTreeExporter__make_tree = getattr(ret, '__module__', 'none') + '.' + ret.__class__.__name__\n",
    "    print('✅ sklearn.tree._export._MPLTreeExporter._make_tree: ', type(ret)) # noqa E501\n",
    "except Exception as e:\n",
    "    type_sklearn_tree__export__MPLTreeExporter__make_tree = '_syft_missing'\n",
    "    print('❌ sklearn.tree._export._MPLTreeExporter._make_tree: Return unavailable') # noqa E501\n",
    "    print(\"  Please fix this return type code until there is no exception\")\n",
    "    print('  Error:', e)\n"
   ]
  },
  {
   "cell_type": "code",
   "execution_count": null,
   "id": "settled-royalty",
   "metadata": {},
   "outputs": [],
   "source": [
    "# sklearn.tree._export._MPLTreeExporter.export\n",
    "try:\n",
    "    obj = class_constructor() # noqa F821\n",
    "    ret = obj.export()\n",
    "    type_sklearn_tree__export__MPLTreeExporter_export = getattr(ret, '__module__', 'none') + '.' + ret.__class__.__name__\n",
    "    print('✅ sklearn.tree._export._MPLTreeExporter.export: ', type(ret)) # noqa E501\n",
    "except Exception as e:\n",
    "    type_sklearn_tree__export__MPLTreeExporter_export = '_syft_missing'\n",
    "    print('❌ sklearn.tree._export._MPLTreeExporter.export: Return unavailable') # noqa E501\n",
    "    print(\"  Please fix this return type code until there is no exception\")\n",
    "    print('  Error:', e)\n"
   ]
  },
  {
   "cell_type": "code",
   "execution_count": null,
   "id": "devoted-dakota",
   "metadata": {},
   "outputs": [],
   "source": [
    "# sklearn.tree._export._MPLTreeExporter.get_color\n",
    "try:\n",
    "    obj = class_constructor() # noqa F821\n",
    "    ret = obj.get_color()\n",
    "    type_sklearn_tree__export__MPLTreeExporter_get_color = getattr(ret, '__module__', 'none') + '.' + ret.__class__.__name__\n",
    "    print('✅ sklearn.tree._export._MPLTreeExporter.get_color: ', type(ret)) # noqa E501\n",
    "except Exception as e:\n",
    "    type_sklearn_tree__export__MPLTreeExporter_get_color = '_syft_missing'\n",
    "    print('❌ sklearn.tree._export._MPLTreeExporter.get_color: Return unavailable') # noqa E501\n",
    "    print(\"  Please fix this return type code until there is no exception\")\n",
    "    print('  Error:', e)\n"
   ]
  },
  {
   "cell_type": "code",
   "execution_count": null,
   "id": "overhead-switzerland",
   "metadata": {},
   "outputs": [],
   "source": [
    "# sklearn.tree._export._MPLTreeExporter.get_fill_color\n",
    "try:\n",
    "    obj = class_constructor() # noqa F821\n",
    "    ret = obj.get_fill_color()\n",
    "    type_sklearn_tree__export__MPLTreeExporter_get_fill_color = getattr(ret, '__module__', 'none') + '.' + ret.__class__.__name__\n",
    "    print('✅ sklearn.tree._export._MPLTreeExporter.get_fill_color: ', type(ret)) # noqa E501\n",
    "except Exception as e:\n",
    "    type_sklearn_tree__export__MPLTreeExporter_get_fill_color = '_syft_missing'\n",
    "    print('❌ sklearn.tree._export._MPLTreeExporter.get_fill_color: Return unavailable') # noqa E501\n",
    "    print(\"  Please fix this return type code until there is no exception\")\n",
    "    print('  Error:', e)\n"
   ]
  },
  {
   "cell_type": "code",
   "execution_count": null,
   "id": "recovered-interference",
   "metadata": {},
   "outputs": [],
   "source": [
    "# sklearn.tree._export._MPLTreeExporter.node_to_str\n",
    "try:\n",
    "    obj = class_constructor() # noqa F821\n",
    "    ret = obj.node_to_str()\n",
    "    type_sklearn_tree__export__MPLTreeExporter_node_to_str = getattr(ret, '__module__', 'none') + '.' + ret.__class__.__name__\n",
    "    print('✅ sklearn.tree._export._MPLTreeExporter.node_to_str: ', type(ret)) # noqa E501\n",
    "except Exception as e:\n",
    "    type_sklearn_tree__export__MPLTreeExporter_node_to_str = '_syft_missing'\n",
    "    print('❌ sklearn.tree._export._MPLTreeExporter.node_to_str: Return unavailable') # noqa E501\n",
    "    print(\"  Please fix this return type code until there is no exception\")\n",
    "    print('  Error:', e)\n"
   ]
  },
  {
   "cell_type": "code",
   "execution_count": null,
   "id": "satisfactory-deadline",
   "metadata": {},
   "outputs": [],
   "source": [
    "# sklearn.tree._export._MPLTreeExporter.recurse\n",
    "try:\n",
    "    obj = class_constructor() # noqa F821\n",
    "    ret = obj.recurse()\n",
    "    type_sklearn_tree__export__MPLTreeExporter_recurse = getattr(ret, '__module__', 'none') + '.' + ret.__class__.__name__\n",
    "    print('✅ sklearn.tree._export._MPLTreeExporter.recurse: ', type(ret)) # noqa E501\n",
    "except Exception as e:\n",
    "    type_sklearn_tree__export__MPLTreeExporter_recurse = '_syft_missing'\n",
    "    print('❌ sklearn.tree._export._MPLTreeExporter.recurse: Return unavailable') # noqa E501\n",
    "    print(\"  Please fix this return type code until there is no exception\")\n",
    "    print('  Error:', e)\n"
   ]
  }
 ],
 "metadata": {},
 "nbformat": 4,
 "nbformat_minor": 5
}
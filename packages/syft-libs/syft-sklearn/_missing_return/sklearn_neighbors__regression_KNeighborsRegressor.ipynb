{
 "cells": [
  {
   "cell_type": "markdown",
   "id": "significant-brand",
   "metadata": {},
   "source": [
    "## sklearn.neighbors._regression.KNeighborsRegressor"
   ]
  },
  {
   "cell_type": "code",
   "execution_count": null,
   "id": "convertible-whale",
   "metadata": {},
   "outputs": [],
   "source": [
    "import sklearn\n",
    "def class_constructor(*args, **kwargs):\n",
    "    obj = sklearn.neighbors._regression.KNeighborsRegressor()\n",
    "    return obj\n"
   ]
  },
  {
   "cell_type": "code",
   "execution_count": null,
   "id": "weighted-modification",
   "metadata": {},
   "outputs": [],
   "source": [
    "# sklearn.neighbors._regression.KNeighborsRegressor.__getstate__\n",
    "try:\n",
    "    obj = class_constructor() # noqa F821\n",
    "    ret = obj.__getstate__()\n",
    "    type_sklearn_neighbors__regression_KNeighborsRegressor___getstate__ = getattr(ret, '__module__', 'none') + '.' + ret.__class__.__name__\n",
    "    print('✅ sklearn.neighbors._regression.KNeighborsRegressor.__getstate__: ', type(ret)) # noqa E501\n",
    "except Exception as e:\n",
    "    type_sklearn_neighbors__regression_KNeighborsRegressor___getstate__ = '_syft_missing'\n",
    "    print('❌ sklearn.neighbors._regression.KNeighborsRegressor.__getstate__: Return unavailable') # noqa E501\n",
    "    print(\"  Please fix this return type code until there is no exception\")\n",
    "    print('  Error:', e)\n"
   ]
  },
  {
   "cell_type": "code",
   "execution_count": null,
   "id": "stunning-violation",
   "metadata": {},
   "outputs": [],
   "source": [
    "# sklearn.neighbors._regression.KNeighborsRegressor.__repr__\n",
    "try:\n",
    "    obj = class_constructor() # noqa F821\n",
    "    ret = obj.__repr__()\n",
    "    type_sklearn_neighbors__regression_KNeighborsRegressor___repr__ = getattr(ret, '__module__', 'none') + '.' + ret.__class__.__name__\n",
    "    print('✅ sklearn.neighbors._regression.KNeighborsRegressor.__repr__: ', type(ret)) # noqa E501\n",
    "except Exception as e:\n",
    "    type_sklearn_neighbors__regression_KNeighborsRegressor___repr__ = '_syft_missing'\n",
    "    print('❌ sklearn.neighbors._regression.KNeighborsRegressor.__repr__: Return unavailable') # noqa E501\n",
    "    print(\"  Please fix this return type code until there is no exception\")\n",
    "    print('  Error:', e)\n"
   ]
  },
  {
   "cell_type": "code",
   "execution_count": null,
   "id": "round-primary",
   "metadata": {},
   "outputs": [],
   "source": [
    "# sklearn.neighbors._regression.KNeighborsRegressor.__setstate__\n",
    "try:\n",
    "    obj = class_constructor() # noqa F821\n",
    "    ret = obj.__setstate__()\n",
    "    type_sklearn_neighbors__regression_KNeighborsRegressor___setstate__ = getattr(ret, '__module__', 'none') + '.' + ret.__class__.__name__\n",
    "    print('✅ sklearn.neighbors._regression.KNeighborsRegressor.__setstate__: ', type(ret)) # noqa E501\n",
    "except Exception as e:\n",
    "    type_sklearn_neighbors__regression_KNeighborsRegressor___setstate__ = '_syft_missing'\n",
    "    print('❌ sklearn.neighbors._regression.KNeighborsRegressor.__setstate__: Return unavailable') # noqa E501\n",
    "    print(\"  Please fix this return type code until there is no exception\")\n",
    "    print('  Error:', e)\n"
   ]
  },
  {
   "cell_type": "code",
   "execution_count": null,
   "id": "electrical-tiger",
   "metadata": {},
   "outputs": [],
   "source": [
    "# sklearn.neighbors._regression.KNeighborsRegressor._check_algorithm_metric\n",
    "try:\n",
    "    obj = class_constructor() # noqa F821\n",
    "    ret = obj._check_algorithm_metric()\n",
    "    type_sklearn_neighbors__regression_KNeighborsRegressor__check_algorithm_metric = getattr(ret, '__module__', 'none') + '.' + ret.__class__.__name__\n",
    "    print('✅ sklearn.neighbors._regression.KNeighborsRegressor._check_algorithm_metric: ', type(ret)) # noqa E501\n",
    "except Exception as e:\n",
    "    type_sklearn_neighbors__regression_KNeighborsRegressor__check_algorithm_metric = '_syft_missing'\n",
    "    print('❌ sklearn.neighbors._regression.KNeighborsRegressor._check_algorithm_metric: Return unavailable') # noqa E501\n",
    "    print(\"  Please fix this return type code until there is no exception\")\n",
    "    print('  Error:', e)\n"
   ]
  },
  {
   "cell_type": "code",
   "execution_count": null,
   "id": "complicated-evening",
   "metadata": {},
   "outputs": [],
   "source": [
    "# sklearn.neighbors._regression.KNeighborsRegressor._check_n_features\n",
    "try:\n",
    "    obj = class_constructor() # noqa F821\n",
    "    ret = obj._check_n_features()\n",
    "    type_sklearn_neighbors__regression_KNeighborsRegressor__check_n_features = getattr(ret, '__module__', 'none') + '.' + ret.__class__.__name__\n",
    "    print('✅ sklearn.neighbors._regression.KNeighborsRegressor._check_n_features: ', type(ret)) # noqa E501\n",
    "except Exception as e:\n",
    "    type_sklearn_neighbors__regression_KNeighborsRegressor__check_n_features = '_syft_missing'\n",
    "    print('❌ sklearn.neighbors._regression.KNeighborsRegressor._check_n_features: Return unavailable') # noqa E501\n",
    "    print(\"  Please fix this return type code until there is no exception\")\n",
    "    print('  Error:', e)\n"
   ]
  },
  {
   "cell_type": "code",
   "execution_count": null,
   "id": "declared-prompt",
   "metadata": {},
   "outputs": [],
   "source": [
    "# sklearn.neighbors._regression.KNeighborsRegressor._fit\n",
    "try:\n",
    "    obj = class_constructor() # noqa F821\n",
    "    ret = obj._fit()\n",
    "    type_sklearn_neighbors__regression_KNeighborsRegressor__fit = getattr(ret, '__module__', 'none') + '.' + ret.__class__.__name__\n",
    "    print('✅ sklearn.neighbors._regression.KNeighborsRegressor._fit: ', type(ret)) # noqa E501\n",
    "except Exception as e:\n",
    "    type_sklearn_neighbors__regression_KNeighborsRegressor__fit = '_syft_missing'\n",
    "    print('❌ sklearn.neighbors._regression.KNeighborsRegressor._fit: Return unavailable') # noqa E501\n",
    "    print(\"  Please fix this return type code until there is no exception\")\n",
    "    print('  Error:', e)\n"
   ]
  },
  {
   "cell_type": "code",
   "execution_count": null,
   "id": "organic-expansion",
   "metadata": {},
   "outputs": [],
   "source": [
    "# sklearn.neighbors._regression.KNeighborsRegressor._get_param_names\n",
    "try:\n",
    "    obj = class_constructor() # noqa F821\n",
    "    ret = obj._get_param_names()\n",
    "    type_sklearn_neighbors__regression_KNeighborsRegressor__get_param_names = getattr(ret, '__module__', 'none') + '.' + ret.__class__.__name__\n",
    "    print('✅ sklearn.neighbors._regression.KNeighborsRegressor._get_param_names: ', type(ret)) # noqa E501\n",
    "except Exception as e:\n",
    "    type_sklearn_neighbors__regression_KNeighborsRegressor__get_param_names = '_syft_missing'\n",
    "    print('❌ sklearn.neighbors._regression.KNeighborsRegressor._get_param_names: Return unavailable') # noqa E501\n",
    "    print(\"  Please fix this return type code until there is no exception\")\n",
    "    print('  Error:', e)\n"
   ]
  },
  {
   "cell_type": "code",
   "execution_count": null,
   "id": "forced-activity",
   "metadata": {},
   "outputs": [],
   "source": [
    "# sklearn.neighbors._regression.KNeighborsRegressor._get_tags\n",
    "try:\n",
    "    obj = class_constructor() # noqa F821\n",
    "    ret = obj._get_tags()\n",
    "    type_sklearn_neighbors__regression_KNeighborsRegressor__get_tags = getattr(ret, '__module__', 'none') + '.' + ret.__class__.__name__\n",
    "    print('✅ sklearn.neighbors._regression.KNeighborsRegressor._get_tags: ', type(ret)) # noqa E501\n",
    "except Exception as e:\n",
    "    type_sklearn_neighbors__regression_KNeighborsRegressor__get_tags = '_syft_missing'\n",
    "    print('❌ sklearn.neighbors._regression.KNeighborsRegressor._get_tags: Return unavailable') # noqa E501\n",
    "    print(\"  Please fix this return type code until there is no exception\")\n",
    "    print('  Error:', e)\n"
   ]
  },
  {
   "cell_type": "code",
   "execution_count": null,
   "id": "chubby-evening",
   "metadata": {},
   "outputs": [],
   "source": [
    "# sklearn.neighbors._regression.KNeighborsRegressor._kneighbors_reduce_func\n",
    "try:\n",
    "    obj = class_constructor() # noqa F821\n",
    "    ret = obj._kneighbors_reduce_func()\n",
    "    type_sklearn_neighbors__regression_KNeighborsRegressor__kneighbors_reduce_func = getattr(ret, '__module__', 'none') + '.' + ret.__class__.__name__\n",
    "    print('✅ sklearn.neighbors._regression.KNeighborsRegressor._kneighbors_reduce_func: ', type(ret)) # noqa E501\n",
    "except Exception as e:\n",
    "    type_sklearn_neighbors__regression_KNeighborsRegressor__kneighbors_reduce_func = '_syft_missing'\n",
    "    print('❌ sklearn.neighbors._regression.KNeighborsRegressor._kneighbors_reduce_func: Return unavailable') # noqa E501\n",
    "    print(\"  Please fix this return type code until there is no exception\")\n",
    "    print('  Error:', e)\n"
   ]
  },
  {
   "cell_type": "code",
   "execution_count": null,
   "id": "finished-background",
   "metadata": {},
   "outputs": [],
   "source": [
    "# sklearn.neighbors._regression.KNeighborsRegressor._more_tags\n",
    "try:\n",
    "    obj = class_constructor() # noqa F821\n",
    "    ret = obj._more_tags()\n",
    "    type_sklearn_neighbors__regression_KNeighborsRegressor__more_tags = getattr(ret, '__module__', 'none') + '.' + ret.__class__.__name__\n",
    "    print('✅ sklearn.neighbors._regression.KNeighborsRegressor._more_tags: ', type(ret)) # noqa E501\n",
    "except Exception as e:\n",
    "    type_sklearn_neighbors__regression_KNeighborsRegressor__more_tags = '_syft_missing'\n",
    "    print('❌ sklearn.neighbors._regression.KNeighborsRegressor._more_tags: Return unavailable') # noqa E501\n",
    "    print(\"  Please fix this return type code until there is no exception\")\n",
    "    print('  Error:', e)\n"
   ]
  },
  {
   "cell_type": "code",
   "execution_count": null,
   "id": "dental-orleans",
   "metadata": {},
   "outputs": [],
   "source": [
    "# sklearn.neighbors._regression.KNeighborsRegressor._pairwise\n",
    "try:\n",
    "    obj = class_constructor()\n",
    "    ret = obj._pairwise\n",
    "    type_sklearn_neighbors__regression_KNeighborsRegressor__pairwise = getattr(ret, '__module__', 'none') + '.' + ret.__class__.__name__\n",
    "    print('✅ sklearn.neighbors._regression.KNeighborsRegressor._pairwise:', type(ret)) # noqa E501\n",
    "except Exception as e:\n",
    "    type_sklearn_neighbors__regression_KNeighborsRegressor__pairwise = '_syft_missing'\n",
    "    print('❌ sklearn.neighbors._regression.KNeighborsRegressor._pairwise: Return unavailable') # noqa E501\n",
    "    print(\"  Please fix this return type code until there is no exception\")\n",
    "    print('  Error:', e)\n"
   ]
  },
  {
   "cell_type": "code",
   "execution_count": null,
   "id": "oriental-aruba",
   "metadata": {},
   "outputs": [],
   "source": [
    "# sklearn.neighbors._regression.KNeighborsRegressor._repr_html_\n",
    "try:\n",
    "    obj = class_constructor()\n",
    "    ret = obj._repr_html_\n",
    "    type_sklearn_neighbors__regression_KNeighborsRegressor__repr_html_ = getattr(ret, '__module__', 'none') + '.' + ret.__class__.__name__\n",
    "    print('✅ sklearn.neighbors._regression.KNeighborsRegressor._repr_html_:', type(ret)) # noqa E501\n",
    "except Exception as e:\n",
    "    type_sklearn_neighbors__regression_KNeighborsRegressor__repr_html_ = '_syft_missing'\n",
    "    print('❌ sklearn.neighbors._regression.KNeighborsRegressor._repr_html_: Return unavailable') # noqa E501\n",
    "    print(\"  Please fix this return type code until there is no exception\")\n",
    "    print('  Error:', e)\n"
   ]
  },
  {
   "cell_type": "code",
   "execution_count": null,
   "id": "arabic-sandwich",
   "metadata": {},
   "outputs": [],
   "source": [
    "# sklearn.neighbors._regression.KNeighborsRegressor._repr_html_inner\n",
    "try:\n",
    "    obj = class_constructor() # noqa F821\n",
    "    ret = obj._repr_html_inner()\n",
    "    type_sklearn_neighbors__regression_KNeighborsRegressor__repr_html_inner = getattr(ret, '__module__', 'none') + '.' + ret.__class__.__name__\n",
    "    print('✅ sklearn.neighbors._regression.KNeighborsRegressor._repr_html_inner: ', type(ret)) # noqa E501\n",
    "except Exception as e:\n",
    "    type_sklearn_neighbors__regression_KNeighborsRegressor__repr_html_inner = '_syft_missing'\n",
    "    print('❌ sklearn.neighbors._regression.KNeighborsRegressor._repr_html_inner: Return unavailable') # noqa E501\n",
    "    print(\"  Please fix this return type code until there is no exception\")\n",
    "    print('  Error:', e)\n"
   ]
  },
  {
   "cell_type": "code",
   "execution_count": null,
   "id": "bizarre-mainstream",
   "metadata": {},
   "outputs": [],
   "source": [
    "# sklearn.neighbors._regression.KNeighborsRegressor._repr_mimebundle_\n",
    "try:\n",
    "    obj = class_constructor() # noqa F821\n",
    "    ret = obj._repr_mimebundle_()\n",
    "    type_sklearn_neighbors__regression_KNeighborsRegressor__repr_mimebundle_ = getattr(ret, '__module__', 'none') + '.' + ret.__class__.__name__\n",
    "    print('✅ sklearn.neighbors._regression.KNeighborsRegressor._repr_mimebundle_: ', type(ret)) # noqa E501\n",
    "except Exception as e:\n",
    "    type_sklearn_neighbors__regression_KNeighborsRegressor__repr_mimebundle_ = '_syft_missing'\n",
    "    print('❌ sklearn.neighbors._regression.KNeighborsRegressor._repr_mimebundle_: Return unavailable') # noqa E501\n",
    "    print(\"  Please fix this return type code until there is no exception\")\n",
    "    print('  Error:', e)\n"
   ]
  },
  {
   "cell_type": "code",
   "execution_count": null,
   "id": "broad-bermuda",
   "metadata": {},
   "outputs": [],
   "source": [
    "# sklearn.neighbors._regression.KNeighborsRegressor._validate_data\n",
    "try:\n",
    "    obj = class_constructor() # noqa F821\n",
    "    ret = obj._validate_data()\n",
    "    type_sklearn_neighbors__regression_KNeighborsRegressor__validate_data = getattr(ret, '__module__', 'none') + '.' + ret.__class__.__name__\n",
    "    print('✅ sklearn.neighbors._regression.KNeighborsRegressor._validate_data: ', type(ret)) # noqa E501\n",
    "except Exception as e:\n",
    "    type_sklearn_neighbors__regression_KNeighborsRegressor__validate_data = '_syft_missing'\n",
    "    print('❌ sklearn.neighbors._regression.KNeighborsRegressor._validate_data: Return unavailable') # noqa E501\n",
    "    print(\"  Please fix this return type code until there is no exception\")\n",
    "    print('  Error:', e)\n"
   ]
  },
  {
   "cell_type": "code",
   "execution_count": null,
   "id": "every-latitude",
   "metadata": {},
   "outputs": [],
   "source": [
    "# sklearn.neighbors._regression.KNeighborsRegressor.fit\n",
    "try:\n",
    "    obj = class_constructor() # noqa F821\n",
    "    ret = obj.fit()\n",
    "    type_sklearn_neighbors__regression_KNeighborsRegressor_fit = getattr(ret, '__module__', 'none') + '.' + ret.__class__.__name__\n",
    "    print('✅ sklearn.neighbors._regression.KNeighborsRegressor.fit: ', type(ret)) # noqa E501\n",
    "except Exception as e:\n",
    "    type_sklearn_neighbors__regression_KNeighborsRegressor_fit = '_syft_missing'\n",
    "    print('❌ sklearn.neighbors._regression.KNeighborsRegressor.fit: Return unavailable') # noqa E501\n",
    "    print(\"  Please fix this return type code until there is no exception\")\n",
    "    print('  Error:', e)\n"
   ]
  },
  {
   "cell_type": "code",
   "execution_count": null,
   "id": "warming-potential",
   "metadata": {},
   "outputs": [],
   "source": [
    "# sklearn.neighbors._regression.KNeighborsRegressor.get_params\n",
    "try:\n",
    "    obj = class_constructor() # noqa F821\n",
    "    ret = obj.get_params()\n",
    "    type_sklearn_neighbors__regression_KNeighborsRegressor_get_params = getattr(ret, '__module__', 'none') + '.' + ret.__class__.__name__\n",
    "    print('✅ sklearn.neighbors._regression.KNeighborsRegressor.get_params: ', type(ret)) # noqa E501\n",
    "except Exception as e:\n",
    "    type_sklearn_neighbors__regression_KNeighborsRegressor_get_params = '_syft_missing'\n",
    "    print('❌ sklearn.neighbors._regression.KNeighborsRegressor.get_params: Return unavailable') # noqa E501\n",
    "    print(\"  Please fix this return type code until there is no exception\")\n",
    "    print('  Error:', e)\n"
   ]
  },
  {
   "cell_type": "code",
   "execution_count": null,
   "id": "recreational-vampire",
   "metadata": {},
   "outputs": [],
   "source": [
    "# sklearn.neighbors._regression.KNeighborsRegressor.kneighbors\n",
    "try:\n",
    "    obj = class_constructor() # noqa F821\n",
    "    ret = obj.kneighbors()\n",
    "    type_sklearn_neighbors__regression_KNeighborsRegressor_kneighbors = getattr(ret, '__module__', 'none') + '.' + ret.__class__.__name__\n",
    "    print('✅ sklearn.neighbors._regression.KNeighborsRegressor.kneighbors: ', type(ret)) # noqa E501\n",
    "except Exception as e:\n",
    "    type_sklearn_neighbors__regression_KNeighborsRegressor_kneighbors = '_syft_missing'\n",
    "    print('❌ sklearn.neighbors._regression.KNeighborsRegressor.kneighbors: Return unavailable') # noqa E501\n",
    "    print(\"  Please fix this return type code until there is no exception\")\n",
    "    print('  Error:', e)\n"
   ]
  },
  {
   "cell_type": "code",
   "execution_count": null,
   "id": "coral-chart",
   "metadata": {},
   "outputs": [],
   "source": [
    "# sklearn.neighbors._regression.KNeighborsRegressor.kneighbors_graph\n",
    "try:\n",
    "    obj = class_constructor() # noqa F821\n",
    "    ret = obj.kneighbors_graph()\n",
    "    type_sklearn_neighbors__regression_KNeighborsRegressor_kneighbors_graph = getattr(ret, '__module__', 'none') + '.' + ret.__class__.__name__\n",
    "    print('✅ sklearn.neighbors._regression.KNeighborsRegressor.kneighbors_graph: ', type(ret)) # noqa E501\n",
    "except Exception as e:\n",
    "    type_sklearn_neighbors__regression_KNeighborsRegressor_kneighbors_graph = '_syft_missing'\n",
    "    print('❌ sklearn.neighbors._regression.KNeighborsRegressor.kneighbors_graph: Return unavailable') # noqa E501\n",
    "    print(\"  Please fix this return type code until there is no exception\")\n",
    "    print('  Error:', e)\n"
   ]
  },
  {
   "cell_type": "code",
   "execution_count": null,
   "id": "muslim-thompson",
   "metadata": {},
   "outputs": [],
   "source": [
    "# sklearn.neighbors._regression.KNeighborsRegressor.predict\n",
    "try:\n",
    "    obj = class_constructor() # noqa F821\n",
    "    ret = obj.predict()\n",
    "    type_sklearn_neighbors__regression_KNeighborsRegressor_predict = getattr(ret, '__module__', 'none') + '.' + ret.__class__.__name__\n",
    "    print('✅ sklearn.neighbors._regression.KNeighborsRegressor.predict: ', type(ret)) # noqa E501\n",
    "except Exception as e:\n",
    "    type_sklearn_neighbors__regression_KNeighborsRegressor_predict = '_syft_missing'\n",
    "    print('❌ sklearn.neighbors._regression.KNeighborsRegressor.predict: Return unavailable') # noqa E501\n",
    "    print(\"  Please fix this return type code until there is no exception\")\n",
    "    print('  Error:', e)\n"
   ]
  },
  {
   "cell_type": "code",
   "execution_count": null,
   "id": "fewer-burke",
   "metadata": {},
   "outputs": [],
   "source": [
    "# sklearn.neighbors._regression.KNeighborsRegressor.score\n",
    "try:\n",
    "    obj = class_constructor() # noqa F821\n",
    "    ret = obj.score()\n",
    "    type_sklearn_neighbors__regression_KNeighborsRegressor_score = getattr(ret, '__module__', 'none') + '.' + ret.__class__.__name__\n",
    "    print('✅ sklearn.neighbors._regression.KNeighborsRegressor.score: ', type(ret)) # noqa E501\n",
    "except Exception as e:\n",
    "    type_sklearn_neighbors__regression_KNeighborsRegressor_score = '_syft_missing'\n",
    "    print('❌ sklearn.neighbors._regression.KNeighborsRegressor.score: Return unavailable') # noqa E501\n",
    "    print(\"  Please fix this return type code until there is no exception\")\n",
    "    print('  Error:', e)\n"
   ]
  },
  {
   "cell_type": "code",
   "execution_count": null,
   "id": "sacred-harvey",
   "metadata": {},
   "outputs": [],
   "source": [
    "# sklearn.neighbors._regression.KNeighborsRegressor.set_params\n",
    "try:\n",
    "    obj = class_constructor() # noqa F821\n",
    "    ret = obj.set_params()\n",
    "    type_sklearn_neighbors__regression_KNeighborsRegressor_set_params = getattr(ret, '__module__', 'none') + '.' + ret.__class__.__name__\n",
    "    print('✅ sklearn.neighbors._regression.KNeighborsRegressor.set_params: ', type(ret)) # noqa E501\n",
    "except Exception as e:\n",
    "    type_sklearn_neighbors__regression_KNeighborsRegressor_set_params = '_syft_missing'\n",
    "    print('❌ sklearn.neighbors._regression.KNeighborsRegressor.set_params: Return unavailable') # noqa E501\n",
    "    print(\"  Please fix this return type code until there is no exception\")\n",
    "    print('  Error:', e)\n"
   ]
  }
 ],
 "metadata": {},
 "nbformat": 4,
 "nbformat_minor": 5
}
{
 "cells": [
  {
   "cell_type": "markdown",
   "id": "confidential-quantity",
   "metadata": {},
   "source": [
    "## sklearn.linear_model._omp.OrthogonalMatchingPursuitCV"
   ]
  },
  {
   "cell_type": "code",
   "execution_count": null,
   "id": "refined-republic",
   "metadata": {},
   "outputs": [],
   "source": [
    "import sklearn\n",
    "def class_constructor(*args, **kwargs):\n",
    "    obj = sklearn.linear_model._omp.OrthogonalMatchingPursuitCV()\n",
    "    return obj\n"
   ]
  },
  {
   "cell_type": "code",
   "execution_count": null,
   "id": "received-sampling",
   "metadata": {},
   "outputs": [],
   "source": [
    "# sklearn.linear_model._omp.OrthogonalMatchingPursuitCV.__getstate__\n",
    "try:\n",
    "    obj = class_constructor() # noqa F821\n",
    "    ret = obj.__getstate__()\n",
    "    type_sklearn_linear_model__omp_OrthogonalMatchingPursuitCV___getstate__ = getattr(ret, '__module__', 'none') + '.' + ret.__class__.__name__\n",
    "    print('✅ sklearn.linear_model._omp.OrthogonalMatchingPursuitCV.__getstate__: ', type(ret)) # noqa E501\n",
    "except Exception as e:\n",
    "    type_sklearn_linear_model__omp_OrthogonalMatchingPursuitCV___getstate__ = '_syft_missing'\n",
    "    print('❌ sklearn.linear_model._omp.OrthogonalMatchingPursuitCV.__getstate__: Return unavailable') # noqa E501\n",
    "    print(\"  Please fix this return type code until there is no exception\")\n",
    "    print('  Error:', e)\n"
   ]
  },
  {
   "cell_type": "code",
   "execution_count": null,
   "id": "tropical-grove",
   "metadata": {},
   "outputs": [],
   "source": [
    "# sklearn.linear_model._omp.OrthogonalMatchingPursuitCV.__repr__\n",
    "try:\n",
    "    obj = class_constructor() # noqa F821\n",
    "    ret = obj.__repr__()\n",
    "    type_sklearn_linear_model__omp_OrthogonalMatchingPursuitCV___repr__ = getattr(ret, '__module__', 'none') + '.' + ret.__class__.__name__\n",
    "    print('✅ sklearn.linear_model._omp.OrthogonalMatchingPursuitCV.__repr__: ', type(ret)) # noqa E501\n",
    "except Exception as e:\n",
    "    type_sklearn_linear_model__omp_OrthogonalMatchingPursuitCV___repr__ = '_syft_missing'\n",
    "    print('❌ sklearn.linear_model._omp.OrthogonalMatchingPursuitCV.__repr__: Return unavailable') # noqa E501\n",
    "    print(\"  Please fix this return type code until there is no exception\")\n",
    "    print('  Error:', e)\n"
   ]
  },
  {
   "cell_type": "code",
   "execution_count": null,
   "id": "facial-disability",
   "metadata": {},
   "outputs": [],
   "source": [
    "# sklearn.linear_model._omp.OrthogonalMatchingPursuitCV.__setstate__\n",
    "try:\n",
    "    obj = class_constructor() # noqa F821\n",
    "    ret = obj.__setstate__()\n",
    "    type_sklearn_linear_model__omp_OrthogonalMatchingPursuitCV___setstate__ = getattr(ret, '__module__', 'none') + '.' + ret.__class__.__name__\n",
    "    print('✅ sklearn.linear_model._omp.OrthogonalMatchingPursuitCV.__setstate__: ', type(ret)) # noqa E501\n",
    "except Exception as e:\n",
    "    type_sklearn_linear_model__omp_OrthogonalMatchingPursuitCV___setstate__ = '_syft_missing'\n",
    "    print('❌ sklearn.linear_model._omp.OrthogonalMatchingPursuitCV.__setstate__: Return unavailable') # noqa E501\n",
    "    print(\"  Please fix this return type code until there is no exception\")\n",
    "    print('  Error:', e)\n"
   ]
  },
  {
   "cell_type": "code",
   "execution_count": null,
   "id": "checked-fellowship",
   "metadata": {},
   "outputs": [],
   "source": [
    "# sklearn.linear_model._omp.OrthogonalMatchingPursuitCV._check_n_features\n",
    "try:\n",
    "    obj = class_constructor() # noqa F821\n",
    "    ret = obj._check_n_features()\n",
    "    type_sklearn_linear_model__omp_OrthogonalMatchingPursuitCV__check_n_features = getattr(ret, '__module__', 'none') + '.' + ret.__class__.__name__\n",
    "    print('✅ sklearn.linear_model._omp.OrthogonalMatchingPursuitCV._check_n_features: ', type(ret)) # noqa E501\n",
    "except Exception as e:\n",
    "    type_sklearn_linear_model__omp_OrthogonalMatchingPursuitCV__check_n_features = '_syft_missing'\n",
    "    print('❌ sklearn.linear_model._omp.OrthogonalMatchingPursuitCV._check_n_features: Return unavailable') # noqa E501\n",
    "    print(\"  Please fix this return type code until there is no exception\")\n",
    "    print('  Error:', e)\n"
   ]
  },
  {
   "cell_type": "code",
   "execution_count": null,
   "id": "aggregate-revelation",
   "metadata": {},
   "outputs": [],
   "source": [
    "# sklearn.linear_model._omp.OrthogonalMatchingPursuitCV._decision_function\n",
    "try:\n",
    "    obj = class_constructor() # noqa F821\n",
    "    ret = obj._decision_function()\n",
    "    type_sklearn_linear_model__omp_OrthogonalMatchingPursuitCV__decision_function = getattr(ret, '__module__', 'none') + '.' + ret.__class__.__name__\n",
    "    print('✅ sklearn.linear_model._omp.OrthogonalMatchingPursuitCV._decision_function: ', type(ret)) # noqa E501\n",
    "except Exception as e:\n",
    "    type_sklearn_linear_model__omp_OrthogonalMatchingPursuitCV__decision_function = '_syft_missing'\n",
    "    print('❌ sklearn.linear_model._omp.OrthogonalMatchingPursuitCV._decision_function: Return unavailable') # noqa E501\n",
    "    print(\"  Please fix this return type code until there is no exception\")\n",
    "    print('  Error:', e)\n"
   ]
  },
  {
   "cell_type": "code",
   "execution_count": null,
   "id": "connected-bouquet",
   "metadata": {},
   "outputs": [],
   "source": [
    "# sklearn.linear_model._omp.OrthogonalMatchingPursuitCV._get_param_names\n",
    "try:\n",
    "    obj = class_constructor() # noqa F821\n",
    "    ret = obj._get_param_names()\n",
    "    type_sklearn_linear_model__omp_OrthogonalMatchingPursuitCV__get_param_names = getattr(ret, '__module__', 'none') + '.' + ret.__class__.__name__\n",
    "    print('✅ sklearn.linear_model._omp.OrthogonalMatchingPursuitCV._get_param_names: ', type(ret)) # noqa E501\n",
    "except Exception as e:\n",
    "    type_sklearn_linear_model__omp_OrthogonalMatchingPursuitCV__get_param_names = '_syft_missing'\n",
    "    print('❌ sklearn.linear_model._omp.OrthogonalMatchingPursuitCV._get_param_names: Return unavailable') # noqa E501\n",
    "    print(\"  Please fix this return type code until there is no exception\")\n",
    "    print('  Error:', e)\n"
   ]
  },
  {
   "cell_type": "code",
   "execution_count": null,
   "id": "former-yellow",
   "metadata": {},
   "outputs": [],
   "source": [
    "# sklearn.linear_model._omp.OrthogonalMatchingPursuitCV._get_tags\n",
    "try:\n",
    "    obj = class_constructor() # noqa F821\n",
    "    ret = obj._get_tags()\n",
    "    type_sklearn_linear_model__omp_OrthogonalMatchingPursuitCV__get_tags = getattr(ret, '__module__', 'none') + '.' + ret.__class__.__name__\n",
    "    print('✅ sklearn.linear_model._omp.OrthogonalMatchingPursuitCV._get_tags: ', type(ret)) # noqa E501\n",
    "except Exception as e:\n",
    "    type_sklearn_linear_model__omp_OrthogonalMatchingPursuitCV__get_tags = '_syft_missing'\n",
    "    print('❌ sklearn.linear_model._omp.OrthogonalMatchingPursuitCV._get_tags: Return unavailable') # noqa E501\n",
    "    print(\"  Please fix this return type code until there is no exception\")\n",
    "    print('  Error:', e)\n"
   ]
  },
  {
   "cell_type": "code",
   "execution_count": null,
   "id": "promotional-chassis",
   "metadata": {},
   "outputs": [],
   "source": [
    "# sklearn.linear_model._omp.OrthogonalMatchingPursuitCV._more_tags\n",
    "try:\n",
    "    obj = class_constructor() # noqa F821\n",
    "    ret = obj._more_tags()\n",
    "    type_sklearn_linear_model__omp_OrthogonalMatchingPursuitCV__more_tags = getattr(ret, '__module__', 'none') + '.' + ret.__class__.__name__\n",
    "    print('✅ sklearn.linear_model._omp.OrthogonalMatchingPursuitCV._more_tags: ', type(ret)) # noqa E501\n",
    "except Exception as e:\n",
    "    type_sklearn_linear_model__omp_OrthogonalMatchingPursuitCV__more_tags = '_syft_missing'\n",
    "    print('❌ sklearn.linear_model._omp.OrthogonalMatchingPursuitCV._more_tags: Return unavailable') # noqa E501\n",
    "    print(\"  Please fix this return type code until there is no exception\")\n",
    "    print('  Error:', e)\n"
   ]
  },
  {
   "cell_type": "code",
   "execution_count": null,
   "id": "detected-lawrence",
   "metadata": {},
   "outputs": [],
   "source": [
    "# sklearn.linear_model._omp.OrthogonalMatchingPursuitCV._preprocess_data\n",
    "try:\n",
    "    obj = class_constructor() # noqa F821\n",
    "    ret = obj._preprocess_data()\n",
    "    type_sklearn_linear_model__omp_OrthogonalMatchingPursuitCV__preprocess_data = getattr(ret, '__module__', 'none') + '.' + ret.__class__.__name__\n",
    "    print('✅ sklearn.linear_model._omp.OrthogonalMatchingPursuitCV._preprocess_data: ', type(ret)) # noqa E501\n",
    "except Exception as e:\n",
    "    type_sklearn_linear_model__omp_OrthogonalMatchingPursuitCV__preprocess_data = '_syft_missing'\n",
    "    print('❌ sklearn.linear_model._omp.OrthogonalMatchingPursuitCV._preprocess_data: Return unavailable') # noqa E501\n",
    "    print(\"  Please fix this return type code until there is no exception\")\n",
    "    print('  Error:', e)\n"
   ]
  },
  {
   "cell_type": "code",
   "execution_count": null,
   "id": "cordless-silence",
   "metadata": {},
   "outputs": [],
   "source": [
    "# sklearn.linear_model._omp.OrthogonalMatchingPursuitCV._repr_html_\n",
    "try:\n",
    "    obj = class_constructor()\n",
    "    ret = obj._repr_html_\n",
    "    type_sklearn_linear_model__omp_OrthogonalMatchingPursuitCV__repr_html_ = getattr(ret, '__module__', 'none') + '.' + ret.__class__.__name__\n",
    "    print('✅ sklearn.linear_model._omp.OrthogonalMatchingPursuitCV._repr_html_:', type(ret)) # noqa E501\n",
    "except Exception as e:\n",
    "    type_sklearn_linear_model__omp_OrthogonalMatchingPursuitCV__repr_html_ = '_syft_missing'\n",
    "    print('❌ sklearn.linear_model._omp.OrthogonalMatchingPursuitCV._repr_html_: Return unavailable') # noqa E501\n",
    "    print(\"  Please fix this return type code until there is no exception\")\n",
    "    print('  Error:', e)\n"
   ]
  },
  {
   "cell_type": "code",
   "execution_count": null,
   "id": "unnecessary-rwanda",
   "metadata": {},
   "outputs": [],
   "source": [
    "# sklearn.linear_model._omp.OrthogonalMatchingPursuitCV._repr_html_inner\n",
    "try:\n",
    "    obj = class_constructor() # noqa F821\n",
    "    ret = obj._repr_html_inner()\n",
    "    type_sklearn_linear_model__omp_OrthogonalMatchingPursuitCV__repr_html_inner = getattr(ret, '__module__', 'none') + '.' + ret.__class__.__name__\n",
    "    print('✅ sklearn.linear_model._omp.OrthogonalMatchingPursuitCV._repr_html_inner: ', type(ret)) # noqa E501\n",
    "except Exception as e:\n",
    "    type_sklearn_linear_model__omp_OrthogonalMatchingPursuitCV__repr_html_inner = '_syft_missing'\n",
    "    print('❌ sklearn.linear_model._omp.OrthogonalMatchingPursuitCV._repr_html_inner: Return unavailable') # noqa E501\n",
    "    print(\"  Please fix this return type code until there is no exception\")\n",
    "    print('  Error:', e)\n"
   ]
  },
  {
   "cell_type": "code",
   "execution_count": null,
   "id": "native-syria",
   "metadata": {},
   "outputs": [],
   "source": [
    "# sklearn.linear_model._omp.OrthogonalMatchingPursuitCV._repr_mimebundle_\n",
    "try:\n",
    "    obj = class_constructor() # noqa F821\n",
    "    ret = obj._repr_mimebundle_()\n",
    "    type_sklearn_linear_model__omp_OrthogonalMatchingPursuitCV__repr_mimebundle_ = getattr(ret, '__module__', 'none') + '.' + ret.__class__.__name__\n",
    "    print('✅ sklearn.linear_model._omp.OrthogonalMatchingPursuitCV._repr_mimebundle_: ', type(ret)) # noqa E501\n",
    "except Exception as e:\n",
    "    type_sklearn_linear_model__omp_OrthogonalMatchingPursuitCV__repr_mimebundle_ = '_syft_missing'\n",
    "    print('❌ sklearn.linear_model._omp.OrthogonalMatchingPursuitCV._repr_mimebundle_: Return unavailable') # noqa E501\n",
    "    print(\"  Please fix this return type code until there is no exception\")\n",
    "    print('  Error:', e)\n"
   ]
  },
  {
   "cell_type": "code",
   "execution_count": null,
   "id": "following-texture",
   "metadata": {},
   "outputs": [],
   "source": [
    "# sklearn.linear_model._omp.OrthogonalMatchingPursuitCV._set_intercept\n",
    "try:\n",
    "    obj = class_constructor() # noqa F821\n",
    "    ret = obj._set_intercept()\n",
    "    type_sklearn_linear_model__omp_OrthogonalMatchingPursuitCV__set_intercept = getattr(ret, '__module__', 'none') + '.' + ret.__class__.__name__\n",
    "    print('✅ sklearn.linear_model._omp.OrthogonalMatchingPursuitCV._set_intercept: ', type(ret)) # noqa E501\n",
    "except Exception as e:\n",
    "    type_sklearn_linear_model__omp_OrthogonalMatchingPursuitCV__set_intercept = '_syft_missing'\n",
    "    print('❌ sklearn.linear_model._omp.OrthogonalMatchingPursuitCV._set_intercept: Return unavailable') # noqa E501\n",
    "    print(\"  Please fix this return type code until there is no exception\")\n",
    "    print('  Error:', e)\n"
   ]
  },
  {
   "cell_type": "code",
   "execution_count": null,
   "id": "compatible-debate",
   "metadata": {},
   "outputs": [],
   "source": [
    "# sklearn.linear_model._omp.OrthogonalMatchingPursuitCV._validate_data\n",
    "try:\n",
    "    obj = class_constructor() # noqa F821\n",
    "    ret = obj._validate_data()\n",
    "    type_sklearn_linear_model__omp_OrthogonalMatchingPursuitCV__validate_data = getattr(ret, '__module__', 'none') + '.' + ret.__class__.__name__\n",
    "    print('✅ sklearn.linear_model._omp.OrthogonalMatchingPursuitCV._validate_data: ', type(ret)) # noqa E501\n",
    "except Exception as e:\n",
    "    type_sklearn_linear_model__omp_OrthogonalMatchingPursuitCV__validate_data = '_syft_missing'\n",
    "    print('❌ sklearn.linear_model._omp.OrthogonalMatchingPursuitCV._validate_data: Return unavailable') # noqa E501\n",
    "    print(\"  Please fix this return type code until there is no exception\")\n",
    "    print('  Error:', e)\n"
   ]
  },
  {
   "cell_type": "code",
   "execution_count": null,
   "id": "stainless-nicholas",
   "metadata": {},
   "outputs": [],
   "source": [
    "# sklearn.linear_model._omp.OrthogonalMatchingPursuitCV.fit\n",
    "try:\n",
    "    obj = class_constructor() # noqa F821\n",
    "    ret = obj.fit()\n",
    "    type_sklearn_linear_model__omp_OrthogonalMatchingPursuitCV_fit = getattr(ret, '__module__', 'none') + '.' + ret.__class__.__name__\n",
    "    print('✅ sklearn.linear_model._omp.OrthogonalMatchingPursuitCV.fit: ', type(ret)) # noqa E501\n",
    "except Exception as e:\n",
    "    type_sklearn_linear_model__omp_OrthogonalMatchingPursuitCV_fit = '_syft_missing'\n",
    "    print('❌ sklearn.linear_model._omp.OrthogonalMatchingPursuitCV.fit: Return unavailable') # noqa E501\n",
    "    print(\"  Please fix this return type code until there is no exception\")\n",
    "    print('  Error:', e)\n"
   ]
  },
  {
   "cell_type": "code",
   "execution_count": null,
   "id": "conditional-privacy",
   "metadata": {},
   "outputs": [],
   "source": [
    "# sklearn.linear_model._omp.OrthogonalMatchingPursuitCV.get_params\n",
    "try:\n",
    "    obj = class_constructor() # noqa F821\n",
    "    ret = obj.get_params()\n",
    "    type_sklearn_linear_model__omp_OrthogonalMatchingPursuitCV_get_params = getattr(ret, '__module__', 'none') + '.' + ret.__class__.__name__\n",
    "    print('✅ sklearn.linear_model._omp.OrthogonalMatchingPursuitCV.get_params: ', type(ret)) # noqa E501\n",
    "except Exception as e:\n",
    "    type_sklearn_linear_model__omp_OrthogonalMatchingPursuitCV_get_params = '_syft_missing'\n",
    "    print('❌ sklearn.linear_model._omp.OrthogonalMatchingPursuitCV.get_params: Return unavailable') # noqa E501\n",
    "    print(\"  Please fix this return type code until there is no exception\")\n",
    "    print('  Error:', e)\n"
   ]
  },
  {
   "cell_type": "code",
   "execution_count": null,
   "id": "compliant-composer",
   "metadata": {},
   "outputs": [],
   "source": [
    "# sklearn.linear_model._omp.OrthogonalMatchingPursuitCV.predict\n",
    "try:\n",
    "    obj = class_constructor() # noqa F821\n",
    "    ret = obj.predict()\n",
    "    type_sklearn_linear_model__omp_OrthogonalMatchingPursuitCV_predict = getattr(ret, '__module__', 'none') + '.' + ret.__class__.__name__\n",
    "    print('✅ sklearn.linear_model._omp.OrthogonalMatchingPursuitCV.predict: ', type(ret)) # noqa E501\n",
    "except Exception as e:\n",
    "    type_sklearn_linear_model__omp_OrthogonalMatchingPursuitCV_predict = '_syft_missing'\n",
    "    print('❌ sklearn.linear_model._omp.OrthogonalMatchingPursuitCV.predict: Return unavailable') # noqa E501\n",
    "    print(\"  Please fix this return type code until there is no exception\")\n",
    "    print('  Error:', e)\n"
   ]
  },
  {
   "cell_type": "code",
   "execution_count": null,
   "id": "visible-scroll",
   "metadata": {},
   "outputs": [],
   "source": [
    "# sklearn.linear_model._omp.OrthogonalMatchingPursuitCV.score\n",
    "try:\n",
    "    obj = class_constructor() # noqa F821\n",
    "    ret = obj.score()\n",
    "    type_sklearn_linear_model__omp_OrthogonalMatchingPursuitCV_score = getattr(ret, '__module__', 'none') + '.' + ret.__class__.__name__\n",
    "    print('✅ sklearn.linear_model._omp.OrthogonalMatchingPursuitCV.score: ', type(ret)) # noqa E501\n",
    "except Exception as e:\n",
    "    type_sklearn_linear_model__omp_OrthogonalMatchingPursuitCV_score = '_syft_missing'\n",
    "    print('❌ sklearn.linear_model._omp.OrthogonalMatchingPursuitCV.score: Return unavailable') # noqa E501\n",
    "    print(\"  Please fix this return type code until there is no exception\")\n",
    "    print('  Error:', e)\n"
   ]
  },
  {
   "cell_type": "code",
   "execution_count": null,
   "id": "labeled-necessity",
   "metadata": {},
   "outputs": [],
   "source": [
    "# sklearn.linear_model._omp.OrthogonalMatchingPursuitCV.set_params\n",
    "try:\n",
    "    obj = class_constructor() # noqa F821\n",
    "    ret = obj.set_params()\n",
    "    type_sklearn_linear_model__omp_OrthogonalMatchingPursuitCV_set_params = getattr(ret, '__module__', 'none') + '.' + ret.__class__.__name__\n",
    "    print('✅ sklearn.linear_model._omp.OrthogonalMatchingPursuitCV.set_params: ', type(ret)) # noqa E501\n",
    "except Exception as e:\n",
    "    type_sklearn_linear_model__omp_OrthogonalMatchingPursuitCV_set_params = '_syft_missing'\n",
    "    print('❌ sklearn.linear_model._omp.OrthogonalMatchingPursuitCV.set_params: Return unavailable') # noqa E501\n",
    "    print(\"  Please fix this return type code until there is no exception\")\n",
    "    print('  Error:', e)\n"
   ]
  }
 ],
 "metadata": {},
 "nbformat": 4,
 "nbformat_minor": 5
}
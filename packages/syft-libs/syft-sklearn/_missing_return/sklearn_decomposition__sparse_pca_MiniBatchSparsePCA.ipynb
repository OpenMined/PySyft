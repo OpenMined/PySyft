{
 "cells": [
  {
   "cell_type": "markdown",
   "id": "systematic-tower",
   "metadata": {},
   "source": [
    "## sklearn.decomposition._sparse_pca.MiniBatchSparsePCA"
   ]
  },
  {
   "cell_type": "code",
   "execution_count": null,
   "id": "together-wheel",
   "metadata": {},
   "outputs": [],
   "source": [
    "import sklearn\n",
    "def class_constructor(*args, **kwargs):\n",
    "    obj = sklearn.decomposition._sparse_pca.MiniBatchSparsePCA()\n",
    "    return obj\n"
   ]
  },
  {
   "cell_type": "code",
   "execution_count": null,
   "id": "transparent-texture",
   "metadata": {},
   "outputs": [],
   "source": [
    "# sklearn.decomposition._sparse_pca.MiniBatchSparsePCA.__getstate__\n",
    "try:\n",
    "    obj = class_constructor() # noqa F821\n",
    "    ret = obj.__getstate__()\n",
    "    type_sklearn_decomposition__sparse_pca_MiniBatchSparsePCA___getstate__ = getattr(ret, '__module__', 'none') + '.' + ret.__class__.__name__\n",
    "    print('✅ sklearn.decomposition._sparse_pca.MiniBatchSparsePCA.__getstate__: ', type(ret)) # noqa E501\n",
    "except Exception as e:\n",
    "    type_sklearn_decomposition__sparse_pca_MiniBatchSparsePCA___getstate__ = '_syft_missing'\n",
    "    print('❌ sklearn.decomposition._sparse_pca.MiniBatchSparsePCA.__getstate__: Return unavailable') # noqa E501\n",
    "    print(\"  Please fix this return type code until there is no exception\")\n",
    "    print('  Error:', e)\n"
   ]
  },
  {
   "cell_type": "code",
   "execution_count": null,
   "id": "nonprofit-amplifier",
   "metadata": {},
   "outputs": [],
   "source": [
    "# sklearn.decomposition._sparse_pca.MiniBatchSparsePCA.__repr__\n",
    "try:\n",
    "    obj = class_constructor() # noqa F821\n",
    "    ret = obj.__repr__()\n",
    "    type_sklearn_decomposition__sparse_pca_MiniBatchSparsePCA___repr__ = getattr(ret, '__module__', 'none') + '.' + ret.__class__.__name__\n",
    "    print('✅ sklearn.decomposition._sparse_pca.MiniBatchSparsePCA.__repr__: ', type(ret)) # noqa E501\n",
    "except Exception as e:\n",
    "    type_sklearn_decomposition__sparse_pca_MiniBatchSparsePCA___repr__ = '_syft_missing'\n",
    "    print('❌ sklearn.decomposition._sparse_pca.MiniBatchSparsePCA.__repr__: Return unavailable') # noqa E501\n",
    "    print(\"  Please fix this return type code until there is no exception\")\n",
    "    print('  Error:', e)\n"
   ]
  },
  {
   "cell_type": "code",
   "execution_count": null,
   "id": "studied-soccer",
   "metadata": {},
   "outputs": [],
   "source": [
    "# sklearn.decomposition._sparse_pca.MiniBatchSparsePCA.__setstate__\n",
    "try:\n",
    "    obj = class_constructor() # noqa F821\n",
    "    ret = obj.__setstate__()\n",
    "    type_sklearn_decomposition__sparse_pca_MiniBatchSparsePCA___setstate__ = getattr(ret, '__module__', 'none') + '.' + ret.__class__.__name__\n",
    "    print('✅ sklearn.decomposition._sparse_pca.MiniBatchSparsePCA.__setstate__: ', type(ret)) # noqa E501\n",
    "except Exception as e:\n",
    "    type_sklearn_decomposition__sparse_pca_MiniBatchSparsePCA___setstate__ = '_syft_missing'\n",
    "    print('❌ sklearn.decomposition._sparse_pca.MiniBatchSparsePCA.__setstate__: Return unavailable') # noqa E501\n",
    "    print(\"  Please fix this return type code until there is no exception\")\n",
    "    print('  Error:', e)\n"
   ]
  },
  {
   "cell_type": "code",
   "execution_count": null,
   "id": "understood-chamber",
   "metadata": {},
   "outputs": [],
   "source": [
    "# sklearn.decomposition._sparse_pca.MiniBatchSparsePCA._check_n_features\n",
    "try:\n",
    "    obj = class_constructor() # noqa F821\n",
    "    ret = obj._check_n_features()\n",
    "    type_sklearn_decomposition__sparse_pca_MiniBatchSparsePCA__check_n_features = getattr(ret, '__module__', 'none') + '.' + ret.__class__.__name__\n",
    "    print('✅ sklearn.decomposition._sparse_pca.MiniBatchSparsePCA._check_n_features: ', type(ret)) # noqa E501\n",
    "except Exception as e:\n",
    "    type_sklearn_decomposition__sparse_pca_MiniBatchSparsePCA__check_n_features = '_syft_missing'\n",
    "    print('❌ sklearn.decomposition._sparse_pca.MiniBatchSparsePCA._check_n_features: Return unavailable') # noqa E501\n",
    "    print(\"  Please fix this return type code until there is no exception\")\n",
    "    print('  Error:', e)\n"
   ]
  },
  {
   "cell_type": "code",
   "execution_count": null,
   "id": "proper-representative",
   "metadata": {},
   "outputs": [],
   "source": [
    "# sklearn.decomposition._sparse_pca.MiniBatchSparsePCA._get_param_names\n",
    "try:\n",
    "    obj = class_constructor() # noqa F821\n",
    "    ret = obj._get_param_names()\n",
    "    type_sklearn_decomposition__sparse_pca_MiniBatchSparsePCA__get_param_names = getattr(ret, '__module__', 'none') + '.' + ret.__class__.__name__\n",
    "    print('✅ sklearn.decomposition._sparse_pca.MiniBatchSparsePCA._get_param_names: ', type(ret)) # noqa E501\n",
    "except Exception as e:\n",
    "    type_sklearn_decomposition__sparse_pca_MiniBatchSparsePCA__get_param_names = '_syft_missing'\n",
    "    print('❌ sklearn.decomposition._sparse_pca.MiniBatchSparsePCA._get_param_names: Return unavailable') # noqa E501\n",
    "    print(\"  Please fix this return type code until there is no exception\")\n",
    "    print('  Error:', e)\n"
   ]
  },
  {
   "cell_type": "code",
   "execution_count": null,
   "id": "dependent-wisconsin",
   "metadata": {},
   "outputs": [],
   "source": [
    "# sklearn.decomposition._sparse_pca.MiniBatchSparsePCA._get_tags\n",
    "try:\n",
    "    obj = class_constructor() # noqa F821\n",
    "    ret = obj._get_tags()\n",
    "    type_sklearn_decomposition__sparse_pca_MiniBatchSparsePCA__get_tags = getattr(ret, '__module__', 'none') + '.' + ret.__class__.__name__\n",
    "    print('✅ sklearn.decomposition._sparse_pca.MiniBatchSparsePCA._get_tags: ', type(ret)) # noqa E501\n",
    "except Exception as e:\n",
    "    type_sklearn_decomposition__sparse_pca_MiniBatchSparsePCA__get_tags = '_syft_missing'\n",
    "    print('❌ sklearn.decomposition._sparse_pca.MiniBatchSparsePCA._get_tags: Return unavailable') # noqa E501\n",
    "    print(\"  Please fix this return type code until there is no exception\")\n",
    "    print('  Error:', e)\n"
   ]
  },
  {
   "cell_type": "code",
   "execution_count": null,
   "id": "swedish-dining",
   "metadata": {},
   "outputs": [],
   "source": [
    "# sklearn.decomposition._sparse_pca.MiniBatchSparsePCA._more_tags\n",
    "try:\n",
    "    obj = class_constructor() # noqa F821\n",
    "    ret = obj._more_tags()\n",
    "    type_sklearn_decomposition__sparse_pca_MiniBatchSparsePCA__more_tags = getattr(ret, '__module__', 'none') + '.' + ret.__class__.__name__\n",
    "    print('✅ sklearn.decomposition._sparse_pca.MiniBatchSparsePCA._more_tags: ', type(ret)) # noqa E501\n",
    "except Exception as e:\n",
    "    type_sklearn_decomposition__sparse_pca_MiniBatchSparsePCA__more_tags = '_syft_missing'\n",
    "    print('❌ sklearn.decomposition._sparse_pca.MiniBatchSparsePCA._more_tags: Return unavailable') # noqa E501\n",
    "    print(\"  Please fix this return type code until there is no exception\")\n",
    "    print('  Error:', e)\n"
   ]
  },
  {
   "cell_type": "code",
   "execution_count": null,
   "id": "widespread-height",
   "metadata": {},
   "outputs": [],
   "source": [
    "# sklearn.decomposition._sparse_pca.MiniBatchSparsePCA._repr_html_\n",
    "try:\n",
    "    obj = class_constructor()\n",
    "    ret = obj._repr_html_\n",
    "    type_sklearn_decomposition__sparse_pca_MiniBatchSparsePCA__repr_html_ = getattr(ret, '__module__', 'none') + '.' + ret.__class__.__name__\n",
    "    print('✅ sklearn.decomposition._sparse_pca.MiniBatchSparsePCA._repr_html_:', type(ret)) # noqa E501\n",
    "except Exception as e:\n",
    "    type_sklearn_decomposition__sparse_pca_MiniBatchSparsePCA__repr_html_ = '_syft_missing'\n",
    "    print('❌ sklearn.decomposition._sparse_pca.MiniBatchSparsePCA._repr_html_: Return unavailable') # noqa E501\n",
    "    print(\"  Please fix this return type code until there is no exception\")\n",
    "    print('  Error:', e)\n"
   ]
  },
  {
   "cell_type": "code",
   "execution_count": null,
   "id": "weekly-rabbit",
   "metadata": {},
   "outputs": [],
   "source": [
    "# sklearn.decomposition._sparse_pca.MiniBatchSparsePCA._repr_html_inner\n",
    "try:\n",
    "    obj = class_constructor() # noqa F821\n",
    "    ret = obj._repr_html_inner()\n",
    "    type_sklearn_decomposition__sparse_pca_MiniBatchSparsePCA__repr_html_inner = getattr(ret, '__module__', 'none') + '.' + ret.__class__.__name__\n",
    "    print('✅ sklearn.decomposition._sparse_pca.MiniBatchSparsePCA._repr_html_inner: ', type(ret)) # noqa E501\n",
    "except Exception as e:\n",
    "    type_sklearn_decomposition__sparse_pca_MiniBatchSparsePCA__repr_html_inner = '_syft_missing'\n",
    "    print('❌ sklearn.decomposition._sparse_pca.MiniBatchSparsePCA._repr_html_inner: Return unavailable') # noqa E501\n",
    "    print(\"  Please fix this return type code until there is no exception\")\n",
    "    print('  Error:', e)\n"
   ]
  },
  {
   "cell_type": "code",
   "execution_count": null,
   "id": "charitable-suicide",
   "metadata": {},
   "outputs": [],
   "source": [
    "# sklearn.decomposition._sparse_pca.MiniBatchSparsePCA._repr_mimebundle_\n",
    "try:\n",
    "    obj = class_constructor() # noqa F821\n",
    "    ret = obj._repr_mimebundle_()\n",
    "    type_sklearn_decomposition__sparse_pca_MiniBatchSparsePCA__repr_mimebundle_ = getattr(ret, '__module__', 'none') + '.' + ret.__class__.__name__\n",
    "    print('✅ sklearn.decomposition._sparse_pca.MiniBatchSparsePCA._repr_mimebundle_: ', type(ret)) # noqa E501\n",
    "except Exception as e:\n",
    "    type_sklearn_decomposition__sparse_pca_MiniBatchSparsePCA__repr_mimebundle_ = '_syft_missing'\n",
    "    print('❌ sklearn.decomposition._sparse_pca.MiniBatchSparsePCA._repr_mimebundle_: Return unavailable') # noqa E501\n",
    "    print(\"  Please fix this return type code until there is no exception\")\n",
    "    print('  Error:', e)\n"
   ]
  },
  {
   "cell_type": "code",
   "execution_count": null,
   "id": "preceding-clearance",
   "metadata": {},
   "outputs": [],
   "source": [
    "# sklearn.decomposition._sparse_pca.MiniBatchSparsePCA._validate_data\n",
    "try:\n",
    "    obj = class_constructor() # noqa F821\n",
    "    ret = obj._validate_data()\n",
    "    type_sklearn_decomposition__sparse_pca_MiniBatchSparsePCA__validate_data = getattr(ret, '__module__', 'none') + '.' + ret.__class__.__name__\n",
    "    print('✅ sklearn.decomposition._sparse_pca.MiniBatchSparsePCA._validate_data: ', type(ret)) # noqa E501\n",
    "except Exception as e:\n",
    "    type_sklearn_decomposition__sparse_pca_MiniBatchSparsePCA__validate_data = '_syft_missing'\n",
    "    print('❌ sklearn.decomposition._sparse_pca.MiniBatchSparsePCA._validate_data: Return unavailable') # noqa E501\n",
    "    print(\"  Please fix this return type code until there is no exception\")\n",
    "    print('  Error:', e)\n"
   ]
  },
  {
   "cell_type": "code",
   "execution_count": null,
   "id": "thousand-piece",
   "metadata": {},
   "outputs": [],
   "source": [
    "# sklearn.decomposition._sparse_pca.MiniBatchSparsePCA.fit\n",
    "try:\n",
    "    obj = class_constructor() # noqa F821\n",
    "    ret = obj.fit()\n",
    "    type_sklearn_decomposition__sparse_pca_MiniBatchSparsePCA_fit = getattr(ret, '__module__', 'none') + '.' + ret.__class__.__name__\n",
    "    print('✅ sklearn.decomposition._sparse_pca.MiniBatchSparsePCA.fit: ', type(ret)) # noqa E501\n",
    "except Exception as e:\n",
    "    type_sklearn_decomposition__sparse_pca_MiniBatchSparsePCA_fit = '_syft_missing'\n",
    "    print('❌ sklearn.decomposition._sparse_pca.MiniBatchSparsePCA.fit: Return unavailable') # noqa E501\n",
    "    print(\"  Please fix this return type code until there is no exception\")\n",
    "    print('  Error:', e)\n"
   ]
  },
  {
   "cell_type": "code",
   "execution_count": null,
   "id": "destroyed-physics",
   "metadata": {},
   "outputs": [],
   "source": [
    "# sklearn.decomposition._sparse_pca.MiniBatchSparsePCA.fit_transform\n",
    "try:\n",
    "    obj = class_constructor() # noqa F821\n",
    "    ret = obj.fit_transform()\n",
    "    type_sklearn_decomposition__sparse_pca_MiniBatchSparsePCA_fit_transform = getattr(ret, '__module__', 'none') + '.' + ret.__class__.__name__\n",
    "    print('✅ sklearn.decomposition._sparse_pca.MiniBatchSparsePCA.fit_transform: ', type(ret)) # noqa E501\n",
    "except Exception as e:\n",
    "    type_sklearn_decomposition__sparse_pca_MiniBatchSparsePCA_fit_transform = '_syft_missing'\n",
    "    print('❌ sklearn.decomposition._sparse_pca.MiniBatchSparsePCA.fit_transform: Return unavailable') # noqa E501\n",
    "    print(\"  Please fix this return type code until there is no exception\")\n",
    "    print('  Error:', e)\n"
   ]
  },
  {
   "cell_type": "code",
   "execution_count": null,
   "id": "confidential-champagne",
   "metadata": {},
   "outputs": [],
   "source": [
    "# sklearn.decomposition._sparse_pca.MiniBatchSparsePCA.get_params\n",
    "try:\n",
    "    obj = class_constructor() # noqa F821\n",
    "    ret = obj.get_params()\n",
    "    type_sklearn_decomposition__sparse_pca_MiniBatchSparsePCA_get_params = getattr(ret, '__module__', 'none') + '.' + ret.__class__.__name__\n",
    "    print('✅ sklearn.decomposition._sparse_pca.MiniBatchSparsePCA.get_params: ', type(ret)) # noqa E501\n",
    "except Exception as e:\n",
    "    type_sklearn_decomposition__sparse_pca_MiniBatchSparsePCA_get_params = '_syft_missing'\n",
    "    print('❌ sklearn.decomposition._sparse_pca.MiniBatchSparsePCA.get_params: Return unavailable') # noqa E501\n",
    "    print(\"  Please fix this return type code until there is no exception\")\n",
    "    print('  Error:', e)\n"
   ]
  },
  {
   "cell_type": "code",
   "execution_count": null,
   "id": "incredible-coverage",
   "metadata": {},
   "outputs": [],
   "source": [
    "# sklearn.decomposition._sparse_pca.MiniBatchSparsePCA.set_params\n",
    "try:\n",
    "    obj = class_constructor() # noqa F821\n",
    "    ret = obj.set_params()\n",
    "    type_sklearn_decomposition__sparse_pca_MiniBatchSparsePCA_set_params = getattr(ret, '__module__', 'none') + '.' + ret.__class__.__name__\n",
    "    print('✅ sklearn.decomposition._sparse_pca.MiniBatchSparsePCA.set_params: ', type(ret)) # noqa E501\n",
    "except Exception as e:\n",
    "    type_sklearn_decomposition__sparse_pca_MiniBatchSparsePCA_set_params = '_syft_missing'\n",
    "    print('❌ sklearn.decomposition._sparse_pca.MiniBatchSparsePCA.set_params: Return unavailable') # noqa E501\n",
    "    print(\"  Please fix this return type code until there is no exception\")\n",
    "    print('  Error:', e)\n"
   ]
  },
  {
   "cell_type": "code",
   "execution_count": null,
   "id": "drawn-mixture",
   "metadata": {},
   "outputs": [],
   "source": [
    "# sklearn.decomposition._sparse_pca.MiniBatchSparsePCA.transform\n",
    "try:\n",
    "    obj = class_constructor() # noqa F821\n",
    "    ret = obj.transform()\n",
    "    type_sklearn_decomposition__sparse_pca_MiniBatchSparsePCA_transform = getattr(ret, '__module__', 'none') + '.' + ret.__class__.__name__\n",
    "    print('✅ sklearn.decomposition._sparse_pca.MiniBatchSparsePCA.transform: ', type(ret)) # noqa E501\n",
    "except Exception as e:\n",
    "    type_sklearn_decomposition__sparse_pca_MiniBatchSparsePCA_transform = '_syft_missing'\n",
    "    print('❌ sklearn.decomposition._sparse_pca.MiniBatchSparsePCA.transform: Return unavailable') # noqa E501\n",
    "    print(\"  Please fix this return type code until there is no exception\")\n",
    "    print('  Error:', e)\n"
   ]
  }
 ],
 "metadata": {},
 "nbformat": 4,
 "nbformat_minor": 5
}
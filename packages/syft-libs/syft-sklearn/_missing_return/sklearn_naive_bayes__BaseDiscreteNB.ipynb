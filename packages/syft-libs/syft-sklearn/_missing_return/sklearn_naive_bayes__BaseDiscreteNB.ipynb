{
 "cells": [
  {
   "cell_type": "markdown",
   "id": "private-greene",
   "metadata": {},
   "source": [
    "## sklearn.naive_bayes._BaseDiscreteNB"
   ]
  },
  {
   "cell_type": "code",
   "execution_count": null,
   "id": "charming-score",
   "metadata": {},
   "outputs": [],
   "source": [
    "import sklearn\n",
    "def class_constructor(*args, **kwargs):\n",
    "    obj = sklearn.naive_bayes._BaseDiscreteNB()\n",
    "    return obj\n"
   ]
  },
  {
   "cell_type": "code",
   "execution_count": null,
   "id": "brown-gibraltar",
   "metadata": {},
   "outputs": [],
   "source": [
    "# sklearn.naive_bayes._BaseDiscreteNB.__getstate__\n",
    "try:\n",
    "    obj = class_constructor() # noqa F821\n",
    "    ret = obj.__getstate__()\n",
    "    type_sklearn_naive_bayes__BaseDiscreteNB___getstate__ = getattr(ret, '__module__', 'none') + '.' + ret.__class__.__name__\n",
    "    print('✅ sklearn.naive_bayes._BaseDiscreteNB.__getstate__: ', type(ret)) # noqa E501\n",
    "except Exception as e:\n",
    "    type_sklearn_naive_bayes__BaseDiscreteNB___getstate__ = '_syft_missing'\n",
    "    print('❌ sklearn.naive_bayes._BaseDiscreteNB.__getstate__: Return unavailable') # noqa E501\n",
    "    print(\"  Please fix this return type code until there is no exception\")\n",
    "    print('  Error:', e)\n"
   ]
  },
  {
   "cell_type": "code",
   "execution_count": null,
   "id": "animal-region",
   "metadata": {},
   "outputs": [],
   "source": [
    "# sklearn.naive_bayes._BaseDiscreteNB.__repr__\n",
    "try:\n",
    "    obj = class_constructor() # noqa F821\n",
    "    ret = obj.__repr__()\n",
    "    type_sklearn_naive_bayes__BaseDiscreteNB___repr__ = getattr(ret, '__module__', 'none') + '.' + ret.__class__.__name__\n",
    "    print('✅ sklearn.naive_bayes._BaseDiscreteNB.__repr__: ', type(ret)) # noqa E501\n",
    "except Exception as e:\n",
    "    type_sklearn_naive_bayes__BaseDiscreteNB___repr__ = '_syft_missing'\n",
    "    print('❌ sklearn.naive_bayes._BaseDiscreteNB.__repr__: Return unavailable') # noqa E501\n",
    "    print(\"  Please fix this return type code until there is no exception\")\n",
    "    print('  Error:', e)\n"
   ]
  },
  {
   "cell_type": "code",
   "execution_count": null,
   "id": "thrown-uruguay",
   "metadata": {},
   "outputs": [],
   "source": [
    "# sklearn.naive_bayes._BaseDiscreteNB.__setstate__\n",
    "try:\n",
    "    obj = class_constructor() # noqa F821\n",
    "    ret = obj.__setstate__()\n",
    "    type_sklearn_naive_bayes__BaseDiscreteNB___setstate__ = getattr(ret, '__module__', 'none') + '.' + ret.__class__.__name__\n",
    "    print('✅ sklearn.naive_bayes._BaseDiscreteNB.__setstate__: ', type(ret)) # noqa E501\n",
    "except Exception as e:\n",
    "    type_sklearn_naive_bayes__BaseDiscreteNB___setstate__ = '_syft_missing'\n",
    "    print('❌ sklearn.naive_bayes._BaseDiscreteNB.__setstate__: Return unavailable') # noqa E501\n",
    "    print(\"  Please fix this return type code until there is no exception\")\n",
    "    print('  Error:', e)\n"
   ]
  },
  {
   "cell_type": "code",
   "execution_count": null,
   "id": "interracial-disability",
   "metadata": {},
   "outputs": [],
   "source": [
    "# sklearn.naive_bayes._BaseDiscreteNB._check_X\n",
    "try:\n",
    "    obj = class_constructor() # noqa F821\n",
    "    ret = obj._check_X()\n",
    "    type_sklearn_naive_bayes__BaseDiscreteNB__check_X = getattr(ret, '__module__', 'none') + '.' + ret.__class__.__name__\n",
    "    print('✅ sklearn.naive_bayes._BaseDiscreteNB._check_X: ', type(ret)) # noqa E501\n",
    "except Exception as e:\n",
    "    type_sklearn_naive_bayes__BaseDiscreteNB__check_X = '_syft_missing'\n",
    "    print('❌ sklearn.naive_bayes._BaseDiscreteNB._check_X: Return unavailable') # noqa E501\n",
    "    print(\"  Please fix this return type code until there is no exception\")\n",
    "    print('  Error:', e)\n"
   ]
  },
  {
   "cell_type": "code",
   "execution_count": null,
   "id": "silver-investigation",
   "metadata": {},
   "outputs": [],
   "source": [
    "# sklearn.naive_bayes._BaseDiscreteNB._check_X_y\n",
    "try:\n",
    "    obj = class_constructor() # noqa F821\n",
    "    ret = obj._check_X_y()\n",
    "    type_sklearn_naive_bayes__BaseDiscreteNB__check_X_y = getattr(ret, '__module__', 'none') + '.' + ret.__class__.__name__\n",
    "    print('✅ sklearn.naive_bayes._BaseDiscreteNB._check_X_y: ', type(ret)) # noqa E501\n",
    "except Exception as e:\n",
    "    type_sklearn_naive_bayes__BaseDiscreteNB__check_X_y = '_syft_missing'\n",
    "    print('❌ sklearn.naive_bayes._BaseDiscreteNB._check_X_y: Return unavailable') # noqa E501\n",
    "    print(\"  Please fix this return type code until there is no exception\")\n",
    "    print('  Error:', e)\n"
   ]
  },
  {
   "cell_type": "code",
   "execution_count": null,
   "id": "assured-measurement",
   "metadata": {},
   "outputs": [],
   "source": [
    "# sklearn.naive_bayes._BaseDiscreteNB._check_alpha\n",
    "try:\n",
    "    obj = class_constructor() # noqa F821\n",
    "    ret = obj._check_alpha()\n",
    "    type_sklearn_naive_bayes__BaseDiscreteNB__check_alpha = getattr(ret, '__module__', 'none') + '.' + ret.__class__.__name__\n",
    "    print('✅ sklearn.naive_bayes._BaseDiscreteNB._check_alpha: ', type(ret)) # noqa E501\n",
    "except Exception as e:\n",
    "    type_sklearn_naive_bayes__BaseDiscreteNB__check_alpha = '_syft_missing'\n",
    "    print('❌ sklearn.naive_bayes._BaseDiscreteNB._check_alpha: Return unavailable') # noqa E501\n",
    "    print(\"  Please fix this return type code until there is no exception\")\n",
    "    print('  Error:', e)\n"
   ]
  },
  {
   "cell_type": "code",
   "execution_count": null,
   "id": "unauthorized-surveillance",
   "metadata": {},
   "outputs": [],
   "source": [
    "# sklearn.naive_bayes._BaseDiscreteNB._check_n_features\n",
    "try:\n",
    "    obj = class_constructor() # noqa F821\n",
    "    ret = obj._check_n_features()\n",
    "    type_sklearn_naive_bayes__BaseDiscreteNB__check_n_features = getattr(ret, '__module__', 'none') + '.' + ret.__class__.__name__\n",
    "    print('✅ sklearn.naive_bayes._BaseDiscreteNB._check_n_features: ', type(ret)) # noqa E501\n",
    "except Exception as e:\n",
    "    type_sklearn_naive_bayes__BaseDiscreteNB__check_n_features = '_syft_missing'\n",
    "    print('❌ sklearn.naive_bayes._BaseDiscreteNB._check_n_features: Return unavailable') # noqa E501\n",
    "    print(\"  Please fix this return type code until there is no exception\")\n",
    "    print('  Error:', e)\n"
   ]
  },
  {
   "cell_type": "code",
   "execution_count": null,
   "id": "threatened-brain",
   "metadata": {},
   "outputs": [],
   "source": [
    "# sklearn.naive_bayes._BaseDiscreteNB._get_param_names\n",
    "try:\n",
    "    obj = class_constructor() # noqa F821\n",
    "    ret = obj._get_param_names()\n",
    "    type_sklearn_naive_bayes__BaseDiscreteNB__get_param_names = getattr(ret, '__module__', 'none') + '.' + ret.__class__.__name__\n",
    "    print('✅ sklearn.naive_bayes._BaseDiscreteNB._get_param_names: ', type(ret)) # noqa E501\n",
    "except Exception as e:\n",
    "    type_sklearn_naive_bayes__BaseDiscreteNB__get_param_names = '_syft_missing'\n",
    "    print('❌ sklearn.naive_bayes._BaseDiscreteNB._get_param_names: Return unavailable') # noqa E501\n",
    "    print(\"  Please fix this return type code until there is no exception\")\n",
    "    print('  Error:', e)\n"
   ]
  },
  {
   "cell_type": "code",
   "execution_count": null,
   "id": "comparative-colony",
   "metadata": {},
   "outputs": [],
   "source": [
    "# sklearn.naive_bayes._BaseDiscreteNB._get_tags\n",
    "try:\n",
    "    obj = class_constructor() # noqa F821\n",
    "    ret = obj._get_tags()\n",
    "    type_sklearn_naive_bayes__BaseDiscreteNB__get_tags = getattr(ret, '__module__', 'none') + '.' + ret.__class__.__name__\n",
    "    print('✅ sklearn.naive_bayes._BaseDiscreteNB._get_tags: ', type(ret)) # noqa E501\n",
    "except Exception as e:\n",
    "    type_sklearn_naive_bayes__BaseDiscreteNB__get_tags = '_syft_missing'\n",
    "    print('❌ sklearn.naive_bayes._BaseDiscreteNB._get_tags: Return unavailable') # noqa E501\n",
    "    print(\"  Please fix this return type code until there is no exception\")\n",
    "    print('  Error:', e)\n"
   ]
  },
  {
   "cell_type": "code",
   "execution_count": null,
   "id": "parliamentary-disorder",
   "metadata": {},
   "outputs": [],
   "source": [
    "# sklearn.naive_bayes._BaseDiscreteNB._init_counters\n",
    "try:\n",
    "    obj = class_constructor() # noqa F821\n",
    "    ret = obj._init_counters()\n",
    "    type_sklearn_naive_bayes__BaseDiscreteNB__init_counters = getattr(ret, '__module__', 'none') + '.' + ret.__class__.__name__\n",
    "    print('✅ sklearn.naive_bayes._BaseDiscreteNB._init_counters: ', type(ret)) # noqa E501\n",
    "except Exception as e:\n",
    "    type_sklearn_naive_bayes__BaseDiscreteNB__init_counters = '_syft_missing'\n",
    "    print('❌ sklearn.naive_bayes._BaseDiscreteNB._init_counters: Return unavailable') # noqa E501\n",
    "    print(\"  Please fix this return type code until there is no exception\")\n",
    "    print('  Error:', e)\n"
   ]
  },
  {
   "cell_type": "code",
   "execution_count": null,
   "id": "systematic-cannon",
   "metadata": {},
   "outputs": [],
   "source": [
    "# sklearn.naive_bayes._BaseDiscreteNB._joint_log_likelihood\n",
    "try:\n",
    "    obj = class_constructor() # noqa F821\n",
    "    ret = obj._joint_log_likelihood()\n",
    "    type_sklearn_naive_bayes__BaseDiscreteNB__joint_log_likelihood = getattr(ret, '__module__', 'none') + '.' + ret.__class__.__name__\n",
    "    print('✅ sklearn.naive_bayes._BaseDiscreteNB._joint_log_likelihood: ', type(ret)) # noqa E501\n",
    "except Exception as e:\n",
    "    type_sklearn_naive_bayes__BaseDiscreteNB__joint_log_likelihood = '_syft_missing'\n",
    "    print('❌ sklearn.naive_bayes._BaseDiscreteNB._joint_log_likelihood: Return unavailable') # noqa E501\n",
    "    print(\"  Please fix this return type code until there is no exception\")\n",
    "    print('  Error:', e)\n"
   ]
  },
  {
   "cell_type": "code",
   "execution_count": null,
   "id": "velvet-bailey",
   "metadata": {},
   "outputs": [],
   "source": [
    "# sklearn.naive_bayes._BaseDiscreteNB._more_tags\n",
    "try:\n",
    "    obj = class_constructor() # noqa F821\n",
    "    ret = obj._more_tags()\n",
    "    type_sklearn_naive_bayes__BaseDiscreteNB__more_tags = getattr(ret, '__module__', 'none') + '.' + ret.__class__.__name__\n",
    "    print('✅ sklearn.naive_bayes._BaseDiscreteNB._more_tags: ', type(ret)) # noqa E501\n",
    "except Exception as e:\n",
    "    type_sklearn_naive_bayes__BaseDiscreteNB__more_tags = '_syft_missing'\n",
    "    print('❌ sklearn.naive_bayes._BaseDiscreteNB._more_tags: Return unavailable') # noqa E501\n",
    "    print(\"  Please fix this return type code until there is no exception\")\n",
    "    print('  Error:', e)\n"
   ]
  },
  {
   "cell_type": "code",
   "execution_count": null,
   "id": "ecological-boston",
   "metadata": {},
   "outputs": [],
   "source": [
    "# sklearn.naive_bayes._BaseDiscreteNB._repr_html_\n",
    "try:\n",
    "    obj = class_constructor()\n",
    "    ret = obj._repr_html_\n",
    "    type_sklearn_naive_bayes__BaseDiscreteNB__repr_html_ = getattr(ret, '__module__', 'none') + '.' + ret.__class__.__name__\n",
    "    print('✅ sklearn.naive_bayes._BaseDiscreteNB._repr_html_:', type(ret)) # noqa E501\n",
    "except Exception as e:\n",
    "    type_sklearn_naive_bayes__BaseDiscreteNB__repr_html_ = '_syft_missing'\n",
    "    print('❌ sklearn.naive_bayes._BaseDiscreteNB._repr_html_: Return unavailable') # noqa E501\n",
    "    print(\"  Please fix this return type code until there is no exception\")\n",
    "    print('  Error:', e)\n"
   ]
  },
  {
   "cell_type": "code",
   "execution_count": null,
   "id": "concerned-difference",
   "metadata": {},
   "outputs": [],
   "source": [
    "# sklearn.naive_bayes._BaseDiscreteNB._repr_html_inner\n",
    "try:\n",
    "    obj = class_constructor() # noqa F821\n",
    "    ret = obj._repr_html_inner()\n",
    "    type_sklearn_naive_bayes__BaseDiscreteNB__repr_html_inner = getattr(ret, '__module__', 'none') + '.' + ret.__class__.__name__\n",
    "    print('✅ sklearn.naive_bayes._BaseDiscreteNB._repr_html_inner: ', type(ret)) # noqa E501\n",
    "except Exception as e:\n",
    "    type_sklearn_naive_bayes__BaseDiscreteNB__repr_html_inner = '_syft_missing'\n",
    "    print('❌ sklearn.naive_bayes._BaseDiscreteNB._repr_html_inner: Return unavailable') # noqa E501\n",
    "    print(\"  Please fix this return type code until there is no exception\")\n",
    "    print('  Error:', e)\n"
   ]
  },
  {
   "cell_type": "code",
   "execution_count": null,
   "id": "electoral-assault",
   "metadata": {},
   "outputs": [],
   "source": [
    "# sklearn.naive_bayes._BaseDiscreteNB._repr_mimebundle_\n",
    "try:\n",
    "    obj = class_constructor() # noqa F821\n",
    "    ret = obj._repr_mimebundle_()\n",
    "    type_sklearn_naive_bayes__BaseDiscreteNB__repr_mimebundle_ = getattr(ret, '__module__', 'none') + '.' + ret.__class__.__name__\n",
    "    print('✅ sklearn.naive_bayes._BaseDiscreteNB._repr_mimebundle_: ', type(ret)) # noqa E501\n",
    "except Exception as e:\n",
    "    type_sklearn_naive_bayes__BaseDiscreteNB__repr_mimebundle_ = '_syft_missing'\n",
    "    print('❌ sklearn.naive_bayes._BaseDiscreteNB._repr_mimebundle_: Return unavailable') # noqa E501\n",
    "    print(\"  Please fix this return type code until there is no exception\")\n",
    "    print('  Error:', e)\n"
   ]
  },
  {
   "cell_type": "code",
   "execution_count": null,
   "id": "mighty-blind",
   "metadata": {},
   "outputs": [],
   "source": [
    "# sklearn.naive_bayes._BaseDiscreteNB._update_class_log_prior\n",
    "try:\n",
    "    obj = class_constructor() # noqa F821\n",
    "    ret = obj._update_class_log_prior()\n",
    "    type_sklearn_naive_bayes__BaseDiscreteNB__update_class_log_prior = getattr(ret, '__module__', 'none') + '.' + ret.__class__.__name__\n",
    "    print('✅ sklearn.naive_bayes._BaseDiscreteNB._update_class_log_prior: ', type(ret)) # noqa E501\n",
    "except Exception as e:\n",
    "    type_sklearn_naive_bayes__BaseDiscreteNB__update_class_log_prior = '_syft_missing'\n",
    "    print('❌ sklearn.naive_bayes._BaseDiscreteNB._update_class_log_prior: Return unavailable') # noqa E501\n",
    "    print(\"  Please fix this return type code until there is no exception\")\n",
    "    print('  Error:', e)\n"
   ]
  },
  {
   "cell_type": "code",
   "execution_count": null,
   "id": "former-company",
   "metadata": {},
   "outputs": [],
   "source": [
    "# sklearn.naive_bayes._BaseDiscreteNB._validate_data\n",
    "try:\n",
    "    obj = class_constructor() # noqa F821\n",
    "    ret = obj._validate_data()\n",
    "    type_sklearn_naive_bayes__BaseDiscreteNB__validate_data = getattr(ret, '__module__', 'none') + '.' + ret.__class__.__name__\n",
    "    print('✅ sklearn.naive_bayes._BaseDiscreteNB._validate_data: ', type(ret)) # noqa E501\n",
    "except Exception as e:\n",
    "    type_sklearn_naive_bayes__BaseDiscreteNB__validate_data = '_syft_missing'\n",
    "    print('❌ sklearn.naive_bayes._BaseDiscreteNB._validate_data: Return unavailable') # noqa E501\n",
    "    print(\"  Please fix this return type code until there is no exception\")\n",
    "    print('  Error:', e)\n"
   ]
  },
  {
   "cell_type": "code",
   "execution_count": null,
   "id": "efficient-junction",
   "metadata": {},
   "outputs": [],
   "source": [
    "# sklearn.naive_bayes._BaseDiscreteNB.coef_\n",
    "try:\n",
    "    obj = class_constructor()\n",
    "    ret = obj.coef_\n",
    "    type_sklearn_naive_bayes__BaseDiscreteNB_coef_ = getattr(ret, '__module__', 'none') + '.' + ret.__class__.__name__\n",
    "    print('✅ sklearn.naive_bayes._BaseDiscreteNB.coef_:', type(ret)) # noqa E501\n",
    "except Exception as e:\n",
    "    type_sklearn_naive_bayes__BaseDiscreteNB_coef_ = '_syft_missing'\n",
    "    print('❌ sklearn.naive_bayes._BaseDiscreteNB.coef_: Return unavailable') # noqa E501\n",
    "    print(\"  Please fix this return type code until there is no exception\")\n",
    "    print('  Error:', e)\n"
   ]
  },
  {
   "cell_type": "code",
   "execution_count": null,
   "id": "better-covering",
   "metadata": {},
   "outputs": [],
   "source": [
    "# sklearn.naive_bayes._BaseDiscreteNB.fit\n",
    "try:\n",
    "    obj = class_constructor() # noqa F821\n",
    "    ret = obj.fit()\n",
    "    type_sklearn_naive_bayes__BaseDiscreteNB_fit = getattr(ret, '__module__', 'none') + '.' + ret.__class__.__name__\n",
    "    print('✅ sklearn.naive_bayes._BaseDiscreteNB.fit: ', type(ret)) # noqa E501\n",
    "except Exception as e:\n",
    "    type_sklearn_naive_bayes__BaseDiscreteNB_fit = '_syft_missing'\n",
    "    print('❌ sklearn.naive_bayes._BaseDiscreteNB.fit: Return unavailable') # noqa E501\n",
    "    print(\"  Please fix this return type code until there is no exception\")\n",
    "    print('  Error:', e)\n"
   ]
  },
  {
   "cell_type": "code",
   "execution_count": null,
   "id": "governing-consideration",
   "metadata": {},
   "outputs": [],
   "source": [
    "# sklearn.naive_bayes._BaseDiscreteNB.get_params\n",
    "try:\n",
    "    obj = class_constructor() # noqa F821\n",
    "    ret = obj.get_params()\n",
    "    type_sklearn_naive_bayes__BaseDiscreteNB_get_params = getattr(ret, '__module__', 'none') + '.' + ret.__class__.__name__\n",
    "    print('✅ sklearn.naive_bayes._BaseDiscreteNB.get_params: ', type(ret)) # noqa E501\n",
    "except Exception as e:\n",
    "    type_sklearn_naive_bayes__BaseDiscreteNB_get_params = '_syft_missing'\n",
    "    print('❌ sklearn.naive_bayes._BaseDiscreteNB.get_params: Return unavailable') # noqa E501\n",
    "    print(\"  Please fix this return type code until there is no exception\")\n",
    "    print('  Error:', e)\n"
   ]
  },
  {
   "cell_type": "code",
   "execution_count": null,
   "id": "collected-portable",
   "metadata": {},
   "outputs": [],
   "source": [
    "# sklearn.naive_bayes._BaseDiscreteNB.intercept_\n",
    "try:\n",
    "    obj = class_constructor()\n",
    "    ret = obj.intercept_\n",
    "    type_sklearn_naive_bayes__BaseDiscreteNB_intercept_ = getattr(ret, '__module__', 'none') + '.' + ret.__class__.__name__\n",
    "    print('✅ sklearn.naive_bayes._BaseDiscreteNB.intercept_:', type(ret)) # noqa E501\n",
    "except Exception as e:\n",
    "    type_sklearn_naive_bayes__BaseDiscreteNB_intercept_ = '_syft_missing'\n",
    "    print('❌ sklearn.naive_bayes._BaseDiscreteNB.intercept_: Return unavailable') # noqa E501\n",
    "    print(\"  Please fix this return type code until there is no exception\")\n",
    "    print('  Error:', e)\n"
   ]
  },
  {
   "cell_type": "code",
   "execution_count": null,
   "id": "current-vault",
   "metadata": {},
   "outputs": [],
   "source": [
    "# sklearn.naive_bayes._BaseDiscreteNB.partial_fit\n",
    "try:\n",
    "    obj = class_constructor() # noqa F821\n",
    "    ret = obj.partial_fit()\n",
    "    type_sklearn_naive_bayes__BaseDiscreteNB_partial_fit = getattr(ret, '__module__', 'none') + '.' + ret.__class__.__name__\n",
    "    print('✅ sklearn.naive_bayes._BaseDiscreteNB.partial_fit: ', type(ret)) # noqa E501\n",
    "except Exception as e:\n",
    "    type_sklearn_naive_bayes__BaseDiscreteNB_partial_fit = '_syft_missing'\n",
    "    print('❌ sklearn.naive_bayes._BaseDiscreteNB.partial_fit: Return unavailable') # noqa E501\n",
    "    print(\"  Please fix this return type code until there is no exception\")\n",
    "    print('  Error:', e)\n"
   ]
  },
  {
   "cell_type": "code",
   "execution_count": null,
   "id": "reflected-awareness",
   "metadata": {},
   "outputs": [],
   "source": [
    "# sklearn.naive_bayes._BaseDiscreteNB.predict\n",
    "try:\n",
    "    obj = class_constructor() # noqa F821\n",
    "    ret = obj.predict()\n",
    "    type_sklearn_naive_bayes__BaseDiscreteNB_predict = getattr(ret, '__module__', 'none') + '.' + ret.__class__.__name__\n",
    "    print('✅ sklearn.naive_bayes._BaseDiscreteNB.predict: ', type(ret)) # noqa E501\n",
    "except Exception as e:\n",
    "    type_sklearn_naive_bayes__BaseDiscreteNB_predict = '_syft_missing'\n",
    "    print('❌ sklearn.naive_bayes._BaseDiscreteNB.predict: Return unavailable') # noqa E501\n",
    "    print(\"  Please fix this return type code until there is no exception\")\n",
    "    print('  Error:', e)\n"
   ]
  },
  {
   "cell_type": "code",
   "execution_count": null,
   "id": "fixed-airfare",
   "metadata": {},
   "outputs": [],
   "source": [
    "# sklearn.naive_bayes._BaseDiscreteNB.predict_log_proba\n",
    "try:\n",
    "    obj = class_constructor() # noqa F821\n",
    "    ret = obj.predict_log_proba()\n",
    "    type_sklearn_naive_bayes__BaseDiscreteNB_predict_log_proba = getattr(ret, '__module__', 'none') + '.' + ret.__class__.__name__\n",
    "    print('✅ sklearn.naive_bayes._BaseDiscreteNB.predict_log_proba: ', type(ret)) # noqa E501\n",
    "except Exception as e:\n",
    "    type_sklearn_naive_bayes__BaseDiscreteNB_predict_log_proba = '_syft_missing'\n",
    "    print('❌ sklearn.naive_bayes._BaseDiscreteNB.predict_log_proba: Return unavailable') # noqa E501\n",
    "    print(\"  Please fix this return type code until there is no exception\")\n",
    "    print('  Error:', e)\n"
   ]
  },
  {
   "cell_type": "code",
   "execution_count": null,
   "id": "adjustable-portuguese",
   "metadata": {},
   "outputs": [],
   "source": [
    "# sklearn.naive_bayes._BaseDiscreteNB.predict_proba\n",
    "try:\n",
    "    obj = class_constructor() # noqa F821\n",
    "    ret = obj.predict_proba()\n",
    "    type_sklearn_naive_bayes__BaseDiscreteNB_predict_proba = getattr(ret, '__module__', 'none') + '.' + ret.__class__.__name__\n",
    "    print('✅ sklearn.naive_bayes._BaseDiscreteNB.predict_proba: ', type(ret)) # noqa E501\n",
    "except Exception as e:\n",
    "    type_sklearn_naive_bayes__BaseDiscreteNB_predict_proba = '_syft_missing'\n",
    "    print('❌ sklearn.naive_bayes._BaseDiscreteNB.predict_proba: Return unavailable') # noqa E501\n",
    "    print(\"  Please fix this return type code until there is no exception\")\n",
    "    print('  Error:', e)\n"
   ]
  },
  {
   "cell_type": "code",
   "execution_count": null,
   "id": "antique-turner",
   "metadata": {},
   "outputs": [],
   "source": [
    "# sklearn.naive_bayes._BaseDiscreteNB.score\n",
    "try:\n",
    "    obj = class_constructor() # noqa F821\n",
    "    ret = obj.score()\n",
    "    type_sklearn_naive_bayes__BaseDiscreteNB_score = getattr(ret, '__module__', 'none') + '.' + ret.__class__.__name__\n",
    "    print('✅ sklearn.naive_bayes._BaseDiscreteNB.score: ', type(ret)) # noqa E501\n",
    "except Exception as e:\n",
    "    type_sklearn_naive_bayes__BaseDiscreteNB_score = '_syft_missing'\n",
    "    print('❌ sklearn.naive_bayes._BaseDiscreteNB.score: Return unavailable') # noqa E501\n",
    "    print(\"  Please fix this return type code until there is no exception\")\n",
    "    print('  Error:', e)\n"
   ]
  },
  {
   "cell_type": "code",
   "execution_count": null,
   "id": "departmental-screening",
   "metadata": {},
   "outputs": [],
   "source": [
    "# sklearn.naive_bayes._BaseDiscreteNB.set_params\n",
    "try:\n",
    "    obj = class_constructor() # noqa F821\n",
    "    ret = obj.set_params()\n",
    "    type_sklearn_naive_bayes__BaseDiscreteNB_set_params = getattr(ret, '__module__', 'none') + '.' + ret.__class__.__name__\n",
    "    print('✅ sklearn.naive_bayes._BaseDiscreteNB.set_params: ', type(ret)) # noqa E501\n",
    "except Exception as e:\n",
    "    type_sklearn_naive_bayes__BaseDiscreteNB_set_params = '_syft_missing'\n",
    "    print('❌ sklearn.naive_bayes._BaseDiscreteNB.set_params: Return unavailable') # noqa E501\n",
    "    print(\"  Please fix this return type code until there is no exception\")\n",
    "    print('  Error:', e)\n"
   ]
  }
 ],
 "metadata": {},
 "nbformat": 4,
 "nbformat_minor": 5
}
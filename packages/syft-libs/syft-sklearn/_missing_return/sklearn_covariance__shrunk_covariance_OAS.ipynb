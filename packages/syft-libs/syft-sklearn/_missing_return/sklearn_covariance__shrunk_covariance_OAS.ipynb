{
 "cells": [
  {
   "cell_type": "markdown",
   "id": "welcome-gossip",
   "metadata": {},
   "source": [
    "## sklearn.covariance._shrunk_covariance.OAS"
   ]
  },
  {
   "cell_type": "code",
   "execution_count": null,
   "id": "administrative-thesis",
   "metadata": {},
   "outputs": [],
   "source": [
    "import sklearn\n",
    "def class_constructor(*args, **kwargs):\n",
    "    obj = sklearn.covariance._shrunk_covariance.OAS()\n",
    "    return obj\n"
   ]
  },
  {
   "cell_type": "code",
   "execution_count": null,
   "id": "dedicated-reminder",
   "metadata": {},
   "outputs": [],
   "source": [
    "# sklearn.covariance._shrunk_covariance.OAS.__getstate__\n",
    "try:\n",
    "    obj = class_constructor() # noqa F821\n",
    "    ret = obj.__getstate__()\n",
    "    type_sklearn_covariance__shrunk_covariance_OAS___getstate__ = getattr(ret, '__module__', 'none') + '.' + ret.__class__.__name__\n",
    "    print('✅ sklearn.covariance._shrunk_covariance.OAS.__getstate__: ', type(ret)) # noqa E501\n",
    "except Exception as e:\n",
    "    type_sklearn_covariance__shrunk_covariance_OAS___getstate__ = '_syft_missing'\n",
    "    print('❌ sklearn.covariance._shrunk_covariance.OAS.__getstate__: Return unavailable') # noqa E501\n",
    "    print(\"  Please fix this return type code until there is no exception\")\n",
    "    print('  Error:', e)\n"
   ]
  },
  {
   "cell_type": "code",
   "execution_count": null,
   "id": "occupational-export",
   "metadata": {},
   "outputs": [],
   "source": [
    "# sklearn.covariance._shrunk_covariance.OAS.__repr__\n",
    "try:\n",
    "    obj = class_constructor() # noqa F821\n",
    "    ret = obj.__repr__()\n",
    "    type_sklearn_covariance__shrunk_covariance_OAS___repr__ = getattr(ret, '__module__', 'none') + '.' + ret.__class__.__name__\n",
    "    print('✅ sklearn.covariance._shrunk_covariance.OAS.__repr__: ', type(ret)) # noqa E501\n",
    "except Exception as e:\n",
    "    type_sklearn_covariance__shrunk_covariance_OAS___repr__ = '_syft_missing'\n",
    "    print('❌ sklearn.covariance._shrunk_covariance.OAS.__repr__: Return unavailable') # noqa E501\n",
    "    print(\"  Please fix this return type code until there is no exception\")\n",
    "    print('  Error:', e)\n"
   ]
  },
  {
   "cell_type": "code",
   "execution_count": null,
   "id": "informational-black",
   "metadata": {},
   "outputs": [],
   "source": [
    "# sklearn.covariance._shrunk_covariance.OAS.__setstate__\n",
    "try:\n",
    "    obj = class_constructor() # noqa F821\n",
    "    ret = obj.__setstate__()\n",
    "    type_sklearn_covariance__shrunk_covariance_OAS___setstate__ = getattr(ret, '__module__', 'none') + '.' + ret.__class__.__name__\n",
    "    print('✅ sklearn.covariance._shrunk_covariance.OAS.__setstate__: ', type(ret)) # noqa E501\n",
    "except Exception as e:\n",
    "    type_sklearn_covariance__shrunk_covariance_OAS___setstate__ = '_syft_missing'\n",
    "    print('❌ sklearn.covariance._shrunk_covariance.OAS.__setstate__: Return unavailable') # noqa E501\n",
    "    print(\"  Please fix this return type code until there is no exception\")\n",
    "    print('  Error:', e)\n"
   ]
  },
  {
   "cell_type": "code",
   "execution_count": null,
   "id": "fancy-school",
   "metadata": {},
   "outputs": [],
   "source": [
    "# sklearn.covariance._shrunk_covariance.OAS._check_n_features\n",
    "try:\n",
    "    obj = class_constructor() # noqa F821\n",
    "    ret = obj._check_n_features()\n",
    "    type_sklearn_covariance__shrunk_covariance_OAS__check_n_features = getattr(ret, '__module__', 'none') + '.' + ret.__class__.__name__\n",
    "    print('✅ sklearn.covariance._shrunk_covariance.OAS._check_n_features: ', type(ret)) # noqa E501\n",
    "except Exception as e:\n",
    "    type_sklearn_covariance__shrunk_covariance_OAS__check_n_features = '_syft_missing'\n",
    "    print('❌ sklearn.covariance._shrunk_covariance.OAS._check_n_features: Return unavailable') # noqa E501\n",
    "    print(\"  Please fix this return type code until there is no exception\")\n",
    "    print('  Error:', e)\n"
   ]
  },
  {
   "cell_type": "code",
   "execution_count": null,
   "id": "sudden-burns",
   "metadata": {},
   "outputs": [],
   "source": [
    "# sklearn.covariance._shrunk_covariance.OAS._get_param_names\n",
    "try:\n",
    "    obj = class_constructor() # noqa F821\n",
    "    ret = obj._get_param_names()\n",
    "    type_sklearn_covariance__shrunk_covariance_OAS__get_param_names = getattr(ret, '__module__', 'none') + '.' + ret.__class__.__name__\n",
    "    print('✅ sklearn.covariance._shrunk_covariance.OAS._get_param_names: ', type(ret)) # noqa E501\n",
    "except Exception as e:\n",
    "    type_sklearn_covariance__shrunk_covariance_OAS__get_param_names = '_syft_missing'\n",
    "    print('❌ sklearn.covariance._shrunk_covariance.OAS._get_param_names: Return unavailable') # noqa E501\n",
    "    print(\"  Please fix this return type code until there is no exception\")\n",
    "    print('  Error:', e)\n"
   ]
  },
  {
   "cell_type": "code",
   "execution_count": null,
   "id": "alike-ladder",
   "metadata": {},
   "outputs": [],
   "source": [
    "# sklearn.covariance._shrunk_covariance.OAS._get_tags\n",
    "try:\n",
    "    obj = class_constructor() # noqa F821\n",
    "    ret = obj._get_tags()\n",
    "    type_sklearn_covariance__shrunk_covariance_OAS__get_tags = getattr(ret, '__module__', 'none') + '.' + ret.__class__.__name__\n",
    "    print('✅ sklearn.covariance._shrunk_covariance.OAS._get_tags: ', type(ret)) # noqa E501\n",
    "except Exception as e:\n",
    "    type_sklearn_covariance__shrunk_covariance_OAS__get_tags = '_syft_missing'\n",
    "    print('❌ sklearn.covariance._shrunk_covariance.OAS._get_tags: Return unavailable') # noqa E501\n",
    "    print(\"  Please fix this return type code until there is no exception\")\n",
    "    print('  Error:', e)\n"
   ]
  },
  {
   "cell_type": "code",
   "execution_count": null,
   "id": "proprietary-marketing",
   "metadata": {},
   "outputs": [],
   "source": [
    "# sklearn.covariance._shrunk_covariance.OAS._more_tags\n",
    "try:\n",
    "    obj = class_constructor() # noqa F821\n",
    "    ret = obj._more_tags()\n",
    "    type_sklearn_covariance__shrunk_covariance_OAS__more_tags = getattr(ret, '__module__', 'none') + '.' + ret.__class__.__name__\n",
    "    print('✅ sklearn.covariance._shrunk_covariance.OAS._more_tags: ', type(ret)) # noqa E501\n",
    "except Exception as e:\n",
    "    type_sklearn_covariance__shrunk_covariance_OAS__more_tags = '_syft_missing'\n",
    "    print('❌ sklearn.covariance._shrunk_covariance.OAS._more_tags: Return unavailable') # noqa E501\n",
    "    print(\"  Please fix this return type code until there is no exception\")\n",
    "    print('  Error:', e)\n"
   ]
  },
  {
   "cell_type": "code",
   "execution_count": null,
   "id": "intimate-system",
   "metadata": {},
   "outputs": [],
   "source": [
    "# sklearn.covariance._shrunk_covariance.OAS._repr_html_\n",
    "try:\n",
    "    obj = class_constructor()\n",
    "    ret = obj._repr_html_\n",
    "    type_sklearn_covariance__shrunk_covariance_OAS__repr_html_ = getattr(ret, '__module__', 'none') + '.' + ret.__class__.__name__\n",
    "    print('✅ sklearn.covariance._shrunk_covariance.OAS._repr_html_:', type(ret)) # noqa E501\n",
    "except Exception as e:\n",
    "    type_sklearn_covariance__shrunk_covariance_OAS__repr_html_ = '_syft_missing'\n",
    "    print('❌ sklearn.covariance._shrunk_covariance.OAS._repr_html_: Return unavailable') # noqa E501\n",
    "    print(\"  Please fix this return type code until there is no exception\")\n",
    "    print('  Error:', e)\n"
   ]
  },
  {
   "cell_type": "code",
   "execution_count": null,
   "id": "future-omaha",
   "metadata": {},
   "outputs": [],
   "source": [
    "# sklearn.covariance._shrunk_covariance.OAS._repr_html_inner\n",
    "try:\n",
    "    obj = class_constructor() # noqa F821\n",
    "    ret = obj._repr_html_inner()\n",
    "    type_sklearn_covariance__shrunk_covariance_OAS__repr_html_inner = getattr(ret, '__module__', 'none') + '.' + ret.__class__.__name__\n",
    "    print('✅ sklearn.covariance._shrunk_covariance.OAS._repr_html_inner: ', type(ret)) # noqa E501\n",
    "except Exception as e:\n",
    "    type_sklearn_covariance__shrunk_covariance_OAS__repr_html_inner = '_syft_missing'\n",
    "    print('❌ sklearn.covariance._shrunk_covariance.OAS._repr_html_inner: Return unavailable') # noqa E501\n",
    "    print(\"  Please fix this return type code until there is no exception\")\n",
    "    print('  Error:', e)\n"
   ]
  },
  {
   "cell_type": "code",
   "execution_count": null,
   "id": "golden-cookbook",
   "metadata": {},
   "outputs": [],
   "source": [
    "# sklearn.covariance._shrunk_covariance.OAS._repr_mimebundle_\n",
    "try:\n",
    "    obj = class_constructor() # noqa F821\n",
    "    ret = obj._repr_mimebundle_()\n",
    "    type_sklearn_covariance__shrunk_covariance_OAS__repr_mimebundle_ = getattr(ret, '__module__', 'none') + '.' + ret.__class__.__name__\n",
    "    print('✅ sklearn.covariance._shrunk_covariance.OAS._repr_mimebundle_: ', type(ret)) # noqa E501\n",
    "except Exception as e:\n",
    "    type_sklearn_covariance__shrunk_covariance_OAS__repr_mimebundle_ = '_syft_missing'\n",
    "    print('❌ sklearn.covariance._shrunk_covariance.OAS._repr_mimebundle_: Return unavailable') # noqa E501\n",
    "    print(\"  Please fix this return type code until there is no exception\")\n",
    "    print('  Error:', e)\n"
   ]
  },
  {
   "cell_type": "code",
   "execution_count": null,
   "id": "nuclear-climate",
   "metadata": {},
   "outputs": [],
   "source": [
    "# sklearn.covariance._shrunk_covariance.OAS._set_covariance\n",
    "try:\n",
    "    obj = class_constructor() # noqa F821\n",
    "    ret = obj._set_covariance()\n",
    "    type_sklearn_covariance__shrunk_covariance_OAS__set_covariance = getattr(ret, '__module__', 'none') + '.' + ret.__class__.__name__\n",
    "    print('✅ sklearn.covariance._shrunk_covariance.OAS._set_covariance: ', type(ret)) # noqa E501\n",
    "except Exception as e:\n",
    "    type_sklearn_covariance__shrunk_covariance_OAS__set_covariance = '_syft_missing'\n",
    "    print('❌ sklearn.covariance._shrunk_covariance.OAS._set_covariance: Return unavailable') # noqa E501\n",
    "    print(\"  Please fix this return type code until there is no exception\")\n",
    "    print('  Error:', e)\n"
   ]
  },
  {
   "cell_type": "code",
   "execution_count": null,
   "id": "leading-rebate",
   "metadata": {},
   "outputs": [],
   "source": [
    "# sklearn.covariance._shrunk_covariance.OAS._validate_data\n",
    "try:\n",
    "    obj = class_constructor() # noqa F821\n",
    "    ret = obj._validate_data()\n",
    "    type_sklearn_covariance__shrunk_covariance_OAS__validate_data = getattr(ret, '__module__', 'none') + '.' + ret.__class__.__name__\n",
    "    print('✅ sklearn.covariance._shrunk_covariance.OAS._validate_data: ', type(ret)) # noqa E501\n",
    "except Exception as e:\n",
    "    type_sklearn_covariance__shrunk_covariance_OAS__validate_data = '_syft_missing'\n",
    "    print('❌ sklearn.covariance._shrunk_covariance.OAS._validate_data: Return unavailable') # noqa E501\n",
    "    print(\"  Please fix this return type code until there is no exception\")\n",
    "    print('  Error:', e)\n"
   ]
  },
  {
   "cell_type": "code",
   "execution_count": null,
   "id": "defined-potter",
   "metadata": {},
   "outputs": [],
   "source": [
    "# sklearn.covariance._shrunk_covariance.OAS.error_norm\n",
    "try:\n",
    "    obj = class_constructor() # noqa F821\n",
    "    ret = obj.error_norm()\n",
    "    type_sklearn_covariance__shrunk_covariance_OAS_error_norm = getattr(ret, '__module__', 'none') + '.' + ret.__class__.__name__\n",
    "    print('✅ sklearn.covariance._shrunk_covariance.OAS.error_norm: ', type(ret)) # noqa E501\n",
    "except Exception as e:\n",
    "    type_sklearn_covariance__shrunk_covariance_OAS_error_norm = '_syft_missing'\n",
    "    print('❌ sklearn.covariance._shrunk_covariance.OAS.error_norm: Return unavailable') # noqa E501\n",
    "    print(\"  Please fix this return type code until there is no exception\")\n",
    "    print('  Error:', e)\n"
   ]
  },
  {
   "cell_type": "code",
   "execution_count": null,
   "id": "sorted-feelings",
   "metadata": {},
   "outputs": [],
   "source": [
    "# sklearn.covariance._shrunk_covariance.OAS.fit\n",
    "try:\n",
    "    obj = class_constructor() # noqa F821\n",
    "    ret = obj.fit()\n",
    "    type_sklearn_covariance__shrunk_covariance_OAS_fit = getattr(ret, '__module__', 'none') + '.' + ret.__class__.__name__\n",
    "    print('✅ sklearn.covariance._shrunk_covariance.OAS.fit: ', type(ret)) # noqa E501\n",
    "except Exception as e:\n",
    "    type_sklearn_covariance__shrunk_covariance_OAS_fit = '_syft_missing'\n",
    "    print('❌ sklearn.covariance._shrunk_covariance.OAS.fit: Return unavailable') # noqa E501\n",
    "    print(\"  Please fix this return type code until there is no exception\")\n",
    "    print('  Error:', e)\n"
   ]
  },
  {
   "cell_type": "code",
   "execution_count": null,
   "id": "received-supplier",
   "metadata": {},
   "outputs": [],
   "source": [
    "# sklearn.covariance._shrunk_covariance.OAS.get_params\n",
    "try:\n",
    "    obj = class_constructor() # noqa F821\n",
    "    ret = obj.get_params()\n",
    "    type_sklearn_covariance__shrunk_covariance_OAS_get_params = getattr(ret, '__module__', 'none') + '.' + ret.__class__.__name__\n",
    "    print('✅ sklearn.covariance._shrunk_covariance.OAS.get_params: ', type(ret)) # noqa E501\n",
    "except Exception as e:\n",
    "    type_sklearn_covariance__shrunk_covariance_OAS_get_params = '_syft_missing'\n",
    "    print('❌ sklearn.covariance._shrunk_covariance.OAS.get_params: Return unavailable') # noqa E501\n",
    "    print(\"  Please fix this return type code until there is no exception\")\n",
    "    print('  Error:', e)\n"
   ]
  },
  {
   "cell_type": "code",
   "execution_count": null,
   "id": "veterinary-swift",
   "metadata": {},
   "outputs": [],
   "source": [
    "# sklearn.covariance._shrunk_covariance.OAS.get_precision\n",
    "try:\n",
    "    obj = class_constructor() # noqa F821\n",
    "    ret = obj.get_precision()\n",
    "    type_sklearn_covariance__shrunk_covariance_OAS_get_precision = getattr(ret, '__module__', 'none') + '.' + ret.__class__.__name__\n",
    "    print('✅ sklearn.covariance._shrunk_covariance.OAS.get_precision: ', type(ret)) # noqa E501\n",
    "except Exception as e:\n",
    "    type_sklearn_covariance__shrunk_covariance_OAS_get_precision = '_syft_missing'\n",
    "    print('❌ sklearn.covariance._shrunk_covariance.OAS.get_precision: Return unavailable') # noqa E501\n",
    "    print(\"  Please fix this return type code until there is no exception\")\n",
    "    print('  Error:', e)\n"
   ]
  },
  {
   "cell_type": "code",
   "execution_count": null,
   "id": "central-billy",
   "metadata": {},
   "outputs": [],
   "source": [
    "# sklearn.covariance._shrunk_covariance.OAS.mahalanobis\n",
    "try:\n",
    "    obj = class_constructor() # noqa F821\n",
    "    ret = obj.mahalanobis()\n",
    "    type_sklearn_covariance__shrunk_covariance_OAS_mahalanobis = getattr(ret, '__module__', 'none') + '.' + ret.__class__.__name__\n",
    "    print('✅ sklearn.covariance._shrunk_covariance.OAS.mahalanobis: ', type(ret)) # noqa E501\n",
    "except Exception as e:\n",
    "    type_sklearn_covariance__shrunk_covariance_OAS_mahalanobis = '_syft_missing'\n",
    "    print('❌ sklearn.covariance._shrunk_covariance.OAS.mahalanobis: Return unavailable') # noqa E501\n",
    "    print(\"  Please fix this return type code until there is no exception\")\n",
    "    print('  Error:', e)\n"
   ]
  },
  {
   "cell_type": "code",
   "execution_count": null,
   "id": "desirable-collapse",
   "metadata": {},
   "outputs": [],
   "source": [
    "# sklearn.covariance._shrunk_covariance.OAS.score\n",
    "try:\n",
    "    obj = class_constructor() # noqa F821\n",
    "    ret = obj.score()\n",
    "    type_sklearn_covariance__shrunk_covariance_OAS_score = getattr(ret, '__module__', 'none') + '.' + ret.__class__.__name__\n",
    "    print('✅ sklearn.covariance._shrunk_covariance.OAS.score: ', type(ret)) # noqa E501\n",
    "except Exception as e:\n",
    "    type_sklearn_covariance__shrunk_covariance_OAS_score = '_syft_missing'\n",
    "    print('❌ sklearn.covariance._shrunk_covariance.OAS.score: Return unavailable') # noqa E501\n",
    "    print(\"  Please fix this return type code until there is no exception\")\n",
    "    print('  Error:', e)\n"
   ]
  },
  {
   "cell_type": "code",
   "execution_count": null,
   "id": "retained-person",
   "metadata": {},
   "outputs": [],
   "source": [
    "# sklearn.covariance._shrunk_covariance.OAS.set_params\n",
    "try:\n",
    "    obj = class_constructor() # noqa F821\n",
    "    ret = obj.set_params()\n",
    "    type_sklearn_covariance__shrunk_covariance_OAS_set_params = getattr(ret, '__module__', 'none') + '.' + ret.__class__.__name__\n",
    "    print('✅ sklearn.covariance._shrunk_covariance.OAS.set_params: ', type(ret)) # noqa E501\n",
    "except Exception as e:\n",
    "    type_sklearn_covariance__shrunk_covariance_OAS_set_params = '_syft_missing'\n",
    "    print('❌ sklearn.covariance._shrunk_covariance.OAS.set_params: Return unavailable') # noqa E501\n",
    "    print(\"  Please fix this return type code until there is no exception\")\n",
    "    print('  Error:', e)\n"
   ]
  }
 ],
 "metadata": {},
 "nbformat": 4,
 "nbformat_minor": 5
}
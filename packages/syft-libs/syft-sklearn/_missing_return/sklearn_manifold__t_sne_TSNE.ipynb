{
 "cells": [
  {
   "cell_type": "markdown",
   "id": "overall-holiday",
   "metadata": {},
   "source": [
    "## sklearn.manifold._t_sne.TSNE"
   ]
  },
  {
   "cell_type": "code",
   "execution_count": null,
   "id": "failing-wyoming",
   "metadata": {},
   "outputs": [],
   "source": [
    "import sklearn\n",
    "def class_constructor(*args, **kwargs):\n",
    "    obj = sklearn.manifold._t_sne.TSNE()\n",
    "    return obj\n"
   ]
  },
  {
   "cell_type": "code",
   "execution_count": null,
   "id": "artistic-pendant",
   "metadata": {},
   "outputs": [],
   "source": [
    "# sklearn.manifold._t_sne.TSNE.__getstate__\n",
    "try:\n",
    "    obj = class_constructor() # noqa F821\n",
    "    ret = obj.__getstate__()\n",
    "    type_sklearn_manifold__t_sne_TSNE___getstate__ = getattr(ret, '__module__', 'none') + '.' + ret.__class__.__name__\n",
    "    print('✅ sklearn.manifold._t_sne.TSNE.__getstate__: ', type(ret)) # noqa E501\n",
    "except Exception as e:\n",
    "    type_sklearn_manifold__t_sne_TSNE___getstate__ = '_syft_missing'\n",
    "    print('❌ sklearn.manifold._t_sne.TSNE.__getstate__: Return unavailable') # noqa E501\n",
    "    print(\"  Please fix this return type code until there is no exception\")\n",
    "    print('  Error:', e)\n"
   ]
  },
  {
   "cell_type": "code",
   "execution_count": null,
   "id": "removed-idaho",
   "metadata": {},
   "outputs": [],
   "source": [
    "# sklearn.manifold._t_sne.TSNE.__repr__\n",
    "try:\n",
    "    obj = class_constructor() # noqa F821\n",
    "    ret = obj.__repr__()\n",
    "    type_sklearn_manifold__t_sne_TSNE___repr__ = getattr(ret, '__module__', 'none') + '.' + ret.__class__.__name__\n",
    "    print('✅ sklearn.manifold._t_sne.TSNE.__repr__: ', type(ret)) # noqa E501\n",
    "except Exception as e:\n",
    "    type_sklearn_manifold__t_sne_TSNE___repr__ = '_syft_missing'\n",
    "    print('❌ sklearn.manifold._t_sne.TSNE.__repr__: Return unavailable') # noqa E501\n",
    "    print(\"  Please fix this return type code until there is no exception\")\n",
    "    print('  Error:', e)\n"
   ]
  },
  {
   "cell_type": "code",
   "execution_count": null,
   "id": "organic-scotland",
   "metadata": {},
   "outputs": [],
   "source": [
    "# sklearn.manifold._t_sne.TSNE.__setstate__\n",
    "try:\n",
    "    obj = class_constructor() # noqa F821\n",
    "    ret = obj.__setstate__()\n",
    "    type_sklearn_manifold__t_sne_TSNE___setstate__ = getattr(ret, '__module__', 'none') + '.' + ret.__class__.__name__\n",
    "    print('✅ sklearn.manifold._t_sne.TSNE.__setstate__: ', type(ret)) # noqa E501\n",
    "except Exception as e:\n",
    "    type_sklearn_manifold__t_sne_TSNE___setstate__ = '_syft_missing'\n",
    "    print('❌ sklearn.manifold._t_sne.TSNE.__setstate__: Return unavailable') # noqa E501\n",
    "    print(\"  Please fix this return type code until there is no exception\")\n",
    "    print('  Error:', e)\n"
   ]
  },
  {
   "cell_type": "code",
   "execution_count": null,
   "id": "infinite-birthday",
   "metadata": {},
   "outputs": [],
   "source": [
    "# sklearn.manifold._t_sne.TSNE._check_n_features\n",
    "try:\n",
    "    obj = class_constructor() # noqa F821\n",
    "    ret = obj._check_n_features()\n",
    "    type_sklearn_manifold__t_sne_TSNE__check_n_features = getattr(ret, '__module__', 'none') + '.' + ret.__class__.__name__\n",
    "    print('✅ sklearn.manifold._t_sne.TSNE._check_n_features: ', type(ret)) # noqa E501\n",
    "except Exception as e:\n",
    "    type_sklearn_manifold__t_sne_TSNE__check_n_features = '_syft_missing'\n",
    "    print('❌ sklearn.manifold._t_sne.TSNE._check_n_features: Return unavailable') # noqa E501\n",
    "    print(\"  Please fix this return type code until there is no exception\")\n",
    "    print('  Error:', e)\n"
   ]
  },
  {
   "cell_type": "code",
   "execution_count": null,
   "id": "invisible-telling",
   "metadata": {},
   "outputs": [],
   "source": [
    "# sklearn.manifold._t_sne.TSNE._fit\n",
    "try:\n",
    "    obj = class_constructor() # noqa F821\n",
    "    ret = obj._fit()\n",
    "    type_sklearn_manifold__t_sne_TSNE__fit = getattr(ret, '__module__', 'none') + '.' + ret.__class__.__name__\n",
    "    print('✅ sklearn.manifold._t_sne.TSNE._fit: ', type(ret)) # noqa E501\n",
    "except Exception as e:\n",
    "    type_sklearn_manifold__t_sne_TSNE__fit = '_syft_missing'\n",
    "    print('❌ sklearn.manifold._t_sne.TSNE._fit: Return unavailable') # noqa E501\n",
    "    print(\"  Please fix this return type code until there is no exception\")\n",
    "    print('  Error:', e)\n"
   ]
  },
  {
   "cell_type": "code",
   "execution_count": null,
   "id": "wanted-tissue",
   "metadata": {},
   "outputs": [],
   "source": [
    "# sklearn.manifold._t_sne.TSNE._get_param_names\n",
    "try:\n",
    "    obj = class_constructor() # noqa F821\n",
    "    ret = obj._get_param_names()\n",
    "    type_sklearn_manifold__t_sne_TSNE__get_param_names = getattr(ret, '__module__', 'none') + '.' + ret.__class__.__name__\n",
    "    print('✅ sklearn.manifold._t_sne.TSNE._get_param_names: ', type(ret)) # noqa E501\n",
    "except Exception as e:\n",
    "    type_sklearn_manifold__t_sne_TSNE__get_param_names = '_syft_missing'\n",
    "    print('❌ sklearn.manifold._t_sne.TSNE._get_param_names: Return unavailable') # noqa E501\n",
    "    print(\"  Please fix this return type code until there is no exception\")\n",
    "    print('  Error:', e)\n"
   ]
  },
  {
   "cell_type": "code",
   "execution_count": null,
   "id": "collectible-registration",
   "metadata": {},
   "outputs": [],
   "source": [
    "# sklearn.manifold._t_sne.TSNE._get_tags\n",
    "try:\n",
    "    obj = class_constructor() # noqa F821\n",
    "    ret = obj._get_tags()\n",
    "    type_sklearn_manifold__t_sne_TSNE__get_tags = getattr(ret, '__module__', 'none') + '.' + ret.__class__.__name__\n",
    "    print('✅ sklearn.manifold._t_sne.TSNE._get_tags: ', type(ret)) # noqa E501\n",
    "except Exception as e:\n",
    "    type_sklearn_manifold__t_sne_TSNE__get_tags = '_syft_missing'\n",
    "    print('❌ sklearn.manifold._t_sne.TSNE._get_tags: Return unavailable') # noqa E501\n",
    "    print(\"  Please fix this return type code until there is no exception\")\n",
    "    print('  Error:', e)\n"
   ]
  },
  {
   "cell_type": "code",
   "execution_count": null,
   "id": "textile-aberdeen",
   "metadata": {},
   "outputs": [],
   "source": [
    "# sklearn.manifold._t_sne.TSNE._more_tags\n",
    "try:\n",
    "    obj = class_constructor() # noqa F821\n",
    "    ret = obj._more_tags()\n",
    "    type_sklearn_manifold__t_sne_TSNE__more_tags = getattr(ret, '__module__', 'none') + '.' + ret.__class__.__name__\n",
    "    print('✅ sklearn.manifold._t_sne.TSNE._more_tags: ', type(ret)) # noqa E501\n",
    "except Exception as e:\n",
    "    type_sklearn_manifold__t_sne_TSNE__more_tags = '_syft_missing'\n",
    "    print('❌ sklearn.manifold._t_sne.TSNE._more_tags: Return unavailable') # noqa E501\n",
    "    print(\"  Please fix this return type code until there is no exception\")\n",
    "    print('  Error:', e)\n"
   ]
  },
  {
   "cell_type": "code",
   "execution_count": null,
   "id": "extreme-religious",
   "metadata": {},
   "outputs": [],
   "source": [
    "# sklearn.manifold._t_sne.TSNE._repr_html_\n",
    "try:\n",
    "    obj = class_constructor()\n",
    "    ret = obj._repr_html_\n",
    "    type_sklearn_manifold__t_sne_TSNE__repr_html_ = getattr(ret, '__module__', 'none') + '.' + ret.__class__.__name__\n",
    "    print('✅ sklearn.manifold._t_sne.TSNE._repr_html_:', type(ret)) # noqa E501\n",
    "except Exception as e:\n",
    "    type_sklearn_manifold__t_sne_TSNE__repr_html_ = '_syft_missing'\n",
    "    print('❌ sklearn.manifold._t_sne.TSNE._repr_html_: Return unavailable') # noqa E501\n",
    "    print(\"  Please fix this return type code until there is no exception\")\n",
    "    print('  Error:', e)\n"
   ]
  },
  {
   "cell_type": "code",
   "execution_count": null,
   "id": "norwegian-fighter",
   "metadata": {},
   "outputs": [],
   "source": [
    "# sklearn.manifold._t_sne.TSNE._repr_html_inner\n",
    "try:\n",
    "    obj = class_constructor() # noqa F821\n",
    "    ret = obj._repr_html_inner()\n",
    "    type_sklearn_manifold__t_sne_TSNE__repr_html_inner = getattr(ret, '__module__', 'none') + '.' + ret.__class__.__name__\n",
    "    print('✅ sklearn.manifold._t_sne.TSNE._repr_html_inner: ', type(ret)) # noqa E501\n",
    "except Exception as e:\n",
    "    type_sklearn_manifold__t_sne_TSNE__repr_html_inner = '_syft_missing'\n",
    "    print('❌ sklearn.manifold._t_sne.TSNE._repr_html_inner: Return unavailable') # noqa E501\n",
    "    print(\"  Please fix this return type code until there is no exception\")\n",
    "    print('  Error:', e)\n"
   ]
  },
  {
   "cell_type": "code",
   "execution_count": null,
   "id": "residential-cleaners",
   "metadata": {},
   "outputs": [],
   "source": [
    "# sklearn.manifold._t_sne.TSNE._repr_mimebundle_\n",
    "try:\n",
    "    obj = class_constructor() # noqa F821\n",
    "    ret = obj._repr_mimebundle_()\n",
    "    type_sklearn_manifold__t_sne_TSNE__repr_mimebundle_ = getattr(ret, '__module__', 'none') + '.' + ret.__class__.__name__\n",
    "    print('✅ sklearn.manifold._t_sne.TSNE._repr_mimebundle_: ', type(ret)) # noqa E501\n",
    "except Exception as e:\n",
    "    type_sklearn_manifold__t_sne_TSNE__repr_mimebundle_ = '_syft_missing'\n",
    "    print('❌ sklearn.manifold._t_sne.TSNE._repr_mimebundle_: Return unavailable') # noqa E501\n",
    "    print(\"  Please fix this return type code until there is no exception\")\n",
    "    print('  Error:', e)\n"
   ]
  },
  {
   "cell_type": "code",
   "execution_count": null,
   "id": "irish-contractor",
   "metadata": {},
   "outputs": [],
   "source": [
    "# sklearn.manifold._t_sne.TSNE._tsne\n",
    "try:\n",
    "    obj = class_constructor() # noqa F821\n",
    "    ret = obj._tsne()\n",
    "    type_sklearn_manifold__t_sne_TSNE__tsne = getattr(ret, '__module__', 'none') + '.' + ret.__class__.__name__\n",
    "    print('✅ sklearn.manifold._t_sne.TSNE._tsne: ', type(ret)) # noqa E501\n",
    "except Exception as e:\n",
    "    type_sklearn_manifold__t_sne_TSNE__tsne = '_syft_missing'\n",
    "    print('❌ sklearn.manifold._t_sne.TSNE._tsne: Return unavailable') # noqa E501\n",
    "    print(\"  Please fix this return type code until there is no exception\")\n",
    "    print('  Error:', e)\n"
   ]
  },
  {
   "cell_type": "code",
   "execution_count": null,
   "id": "angry-middle",
   "metadata": {},
   "outputs": [],
   "source": [
    "# sklearn.manifold._t_sne.TSNE._validate_data\n",
    "try:\n",
    "    obj = class_constructor() # noqa F821\n",
    "    ret = obj._validate_data()\n",
    "    type_sklearn_manifold__t_sne_TSNE__validate_data = getattr(ret, '__module__', 'none') + '.' + ret.__class__.__name__\n",
    "    print('✅ sklearn.manifold._t_sne.TSNE._validate_data: ', type(ret)) # noqa E501\n",
    "except Exception as e:\n",
    "    type_sklearn_manifold__t_sne_TSNE__validate_data = '_syft_missing'\n",
    "    print('❌ sklearn.manifold._t_sne.TSNE._validate_data: Return unavailable') # noqa E501\n",
    "    print(\"  Please fix this return type code until there is no exception\")\n",
    "    print('  Error:', e)\n"
   ]
  },
  {
   "cell_type": "code",
   "execution_count": null,
   "id": "communist-jacob",
   "metadata": {},
   "outputs": [],
   "source": [
    "# sklearn.manifold._t_sne.TSNE.fit\n",
    "try:\n",
    "    obj = class_constructor() # noqa F821\n",
    "    ret = obj.fit()\n",
    "    type_sklearn_manifold__t_sne_TSNE_fit = getattr(ret, '__module__', 'none') + '.' + ret.__class__.__name__\n",
    "    print('✅ sklearn.manifold._t_sne.TSNE.fit: ', type(ret)) # noqa E501\n",
    "except Exception as e:\n",
    "    type_sklearn_manifold__t_sne_TSNE_fit = '_syft_missing'\n",
    "    print('❌ sklearn.manifold._t_sne.TSNE.fit: Return unavailable') # noqa E501\n",
    "    print(\"  Please fix this return type code until there is no exception\")\n",
    "    print('  Error:', e)\n"
   ]
  },
  {
   "cell_type": "code",
   "execution_count": null,
   "id": "lasting-round",
   "metadata": {},
   "outputs": [],
   "source": [
    "# sklearn.manifold._t_sne.TSNE.fit_transform\n",
    "try:\n",
    "    obj = class_constructor() # noqa F821\n",
    "    ret = obj.fit_transform()\n",
    "    type_sklearn_manifold__t_sne_TSNE_fit_transform = getattr(ret, '__module__', 'none') + '.' + ret.__class__.__name__\n",
    "    print('✅ sklearn.manifold._t_sne.TSNE.fit_transform: ', type(ret)) # noqa E501\n",
    "except Exception as e:\n",
    "    type_sklearn_manifold__t_sne_TSNE_fit_transform = '_syft_missing'\n",
    "    print('❌ sklearn.manifold._t_sne.TSNE.fit_transform: Return unavailable') # noqa E501\n",
    "    print(\"  Please fix this return type code until there is no exception\")\n",
    "    print('  Error:', e)\n"
   ]
  },
  {
   "cell_type": "code",
   "execution_count": null,
   "id": "insured-score",
   "metadata": {},
   "outputs": [],
   "source": [
    "# sklearn.manifold._t_sne.TSNE.get_params\n",
    "try:\n",
    "    obj = class_constructor() # noqa F821\n",
    "    ret = obj.get_params()\n",
    "    type_sklearn_manifold__t_sne_TSNE_get_params = getattr(ret, '__module__', 'none') + '.' + ret.__class__.__name__\n",
    "    print('✅ sklearn.manifold._t_sne.TSNE.get_params: ', type(ret)) # noqa E501\n",
    "except Exception as e:\n",
    "    type_sklearn_manifold__t_sne_TSNE_get_params = '_syft_missing'\n",
    "    print('❌ sklearn.manifold._t_sne.TSNE.get_params: Return unavailable') # noqa E501\n",
    "    print(\"  Please fix this return type code until there is no exception\")\n",
    "    print('  Error:', e)\n"
   ]
  },
  {
   "cell_type": "code",
   "execution_count": null,
   "id": "prescribed-clearance",
   "metadata": {},
   "outputs": [],
   "source": [
    "# sklearn.manifold._t_sne.TSNE.set_params\n",
    "try:\n",
    "    obj = class_constructor() # noqa F821\n",
    "    ret = obj.set_params()\n",
    "    type_sklearn_manifold__t_sne_TSNE_set_params = getattr(ret, '__module__', 'none') + '.' + ret.__class__.__name__\n",
    "    print('✅ sklearn.manifold._t_sne.TSNE.set_params: ', type(ret)) # noqa E501\n",
    "except Exception as e:\n",
    "    type_sklearn_manifold__t_sne_TSNE_set_params = '_syft_missing'\n",
    "    print('❌ sklearn.manifold._t_sne.TSNE.set_params: Return unavailable') # noqa E501\n",
    "    print(\"  Please fix this return type code until there is no exception\")\n",
    "    print('  Error:', e)\n"
   ]
  }
 ],
 "metadata": {},
 "nbformat": 4,
 "nbformat_minor": 5
}
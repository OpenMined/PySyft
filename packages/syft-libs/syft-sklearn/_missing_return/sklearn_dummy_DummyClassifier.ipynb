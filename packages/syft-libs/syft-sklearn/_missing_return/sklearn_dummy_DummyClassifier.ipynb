{
 "cells": [
  {
   "cell_type": "markdown",
   "id": "vocational-sheep",
   "metadata": {},
   "source": [
    "## sklearn.dummy.DummyClassifier"
   ]
  },
  {
   "cell_type": "code",
   "execution_count": null,
   "id": "proof-panel",
   "metadata": {},
   "outputs": [],
   "source": [
    "import sklearn\n",
    "def class_constructor(*args, **kwargs):\n",
    "    obj = sklearn.dummy.DummyClassifier()\n",
    "    return obj\n"
   ]
  },
  {
   "cell_type": "code",
   "execution_count": null,
   "id": "internal-scotland",
   "metadata": {},
   "outputs": [],
   "source": [
    "# sklearn.dummy.DummyClassifier.__getstate__\n",
    "try:\n",
    "    obj = class_constructor() # noqa F821\n",
    "    ret = obj.__getstate__()\n",
    "    type_sklearn_dummy_DummyClassifier___getstate__ = getattr(ret, '__module__', 'none') + '.' + ret.__class__.__name__\n",
    "    print('✅ sklearn.dummy.DummyClassifier.__getstate__: ', type(ret)) # noqa E501\n",
    "except Exception as e:\n",
    "    type_sklearn_dummy_DummyClassifier___getstate__ = '_syft_missing'\n",
    "    print('❌ sklearn.dummy.DummyClassifier.__getstate__: Return unavailable') # noqa E501\n",
    "    print(\"  Please fix this return type code until there is no exception\")\n",
    "    print('  Error:', e)\n"
   ]
  },
  {
   "cell_type": "code",
   "execution_count": null,
   "id": "legitimate-daisy",
   "metadata": {},
   "outputs": [],
   "source": [
    "# sklearn.dummy.DummyClassifier.__repr__\n",
    "try:\n",
    "    obj = class_constructor() # noqa F821\n",
    "    ret = obj.__repr__()\n",
    "    type_sklearn_dummy_DummyClassifier___repr__ = getattr(ret, '__module__', 'none') + '.' + ret.__class__.__name__\n",
    "    print('✅ sklearn.dummy.DummyClassifier.__repr__: ', type(ret)) # noqa E501\n",
    "except Exception as e:\n",
    "    type_sklearn_dummy_DummyClassifier___repr__ = '_syft_missing'\n",
    "    print('❌ sklearn.dummy.DummyClassifier.__repr__: Return unavailable') # noqa E501\n",
    "    print(\"  Please fix this return type code until there is no exception\")\n",
    "    print('  Error:', e)\n"
   ]
  },
  {
   "cell_type": "code",
   "execution_count": null,
   "id": "sublime-thomson",
   "metadata": {},
   "outputs": [],
   "source": [
    "# sklearn.dummy.DummyClassifier.__setstate__\n",
    "try:\n",
    "    obj = class_constructor() # noqa F821\n",
    "    ret = obj.__setstate__()\n",
    "    type_sklearn_dummy_DummyClassifier___setstate__ = getattr(ret, '__module__', 'none') + '.' + ret.__class__.__name__\n",
    "    print('✅ sklearn.dummy.DummyClassifier.__setstate__: ', type(ret)) # noqa E501\n",
    "except Exception as e:\n",
    "    type_sklearn_dummy_DummyClassifier___setstate__ = '_syft_missing'\n",
    "    print('❌ sklearn.dummy.DummyClassifier.__setstate__: Return unavailable') # noqa E501\n",
    "    print(\"  Please fix this return type code until there is no exception\")\n",
    "    print('  Error:', e)\n"
   ]
  },
  {
   "cell_type": "code",
   "execution_count": null,
   "id": "scheduled-kingdom",
   "metadata": {},
   "outputs": [],
   "source": [
    "# sklearn.dummy.DummyClassifier._check_n_features\n",
    "try:\n",
    "    obj = class_constructor() # noqa F821\n",
    "    ret = obj._check_n_features()\n",
    "    type_sklearn_dummy_DummyClassifier__check_n_features = getattr(ret, '__module__', 'none') + '.' + ret.__class__.__name__\n",
    "    print('✅ sklearn.dummy.DummyClassifier._check_n_features: ', type(ret)) # noqa E501\n",
    "except Exception as e:\n",
    "    type_sklearn_dummy_DummyClassifier__check_n_features = '_syft_missing'\n",
    "    print('❌ sklearn.dummy.DummyClassifier._check_n_features: Return unavailable') # noqa E501\n",
    "    print(\"  Please fix this return type code until there is no exception\")\n",
    "    print('  Error:', e)\n"
   ]
  },
  {
   "cell_type": "code",
   "execution_count": null,
   "id": "fatty-sleeping",
   "metadata": {},
   "outputs": [],
   "source": [
    "# sklearn.dummy.DummyClassifier._get_param_names\n",
    "try:\n",
    "    obj = class_constructor() # noqa F821\n",
    "    ret = obj._get_param_names()\n",
    "    type_sklearn_dummy_DummyClassifier__get_param_names = getattr(ret, '__module__', 'none') + '.' + ret.__class__.__name__\n",
    "    print('✅ sklearn.dummy.DummyClassifier._get_param_names: ', type(ret)) # noqa E501\n",
    "except Exception as e:\n",
    "    type_sklearn_dummy_DummyClassifier__get_param_names = '_syft_missing'\n",
    "    print('❌ sklearn.dummy.DummyClassifier._get_param_names: Return unavailable') # noqa E501\n",
    "    print(\"  Please fix this return type code until there is no exception\")\n",
    "    print('  Error:', e)\n"
   ]
  },
  {
   "cell_type": "code",
   "execution_count": null,
   "id": "turned-edgar",
   "metadata": {},
   "outputs": [],
   "source": [
    "# sklearn.dummy.DummyClassifier._get_tags\n",
    "try:\n",
    "    obj = class_constructor() # noqa F821\n",
    "    ret = obj._get_tags()\n",
    "    type_sklearn_dummy_DummyClassifier__get_tags = getattr(ret, '__module__', 'none') + '.' + ret.__class__.__name__\n",
    "    print('✅ sklearn.dummy.DummyClassifier._get_tags: ', type(ret)) # noqa E501\n",
    "except Exception as e:\n",
    "    type_sklearn_dummy_DummyClassifier__get_tags = '_syft_missing'\n",
    "    print('❌ sklearn.dummy.DummyClassifier._get_tags: Return unavailable') # noqa E501\n",
    "    print(\"  Please fix this return type code until there is no exception\")\n",
    "    print('  Error:', e)\n"
   ]
  },
  {
   "cell_type": "code",
   "execution_count": null,
   "id": "level-behavior",
   "metadata": {},
   "outputs": [],
   "source": [
    "# sklearn.dummy.DummyClassifier._more_tags\n",
    "try:\n",
    "    obj = class_constructor() # noqa F821\n",
    "    ret = obj._more_tags()\n",
    "    type_sklearn_dummy_DummyClassifier__more_tags = getattr(ret, '__module__', 'none') + '.' + ret.__class__.__name__\n",
    "    print('✅ sklearn.dummy.DummyClassifier._more_tags: ', type(ret)) # noqa E501\n",
    "except Exception as e:\n",
    "    type_sklearn_dummy_DummyClassifier__more_tags = '_syft_missing'\n",
    "    print('❌ sklearn.dummy.DummyClassifier._more_tags: Return unavailable') # noqa E501\n",
    "    print(\"  Please fix this return type code until there is no exception\")\n",
    "    print('  Error:', e)\n"
   ]
  },
  {
   "cell_type": "code",
   "execution_count": null,
   "id": "informative-boxing",
   "metadata": {},
   "outputs": [],
   "source": [
    "# sklearn.dummy.DummyClassifier._repr_html_\n",
    "try:\n",
    "    obj = class_constructor()\n",
    "    ret = obj._repr_html_\n",
    "    type_sklearn_dummy_DummyClassifier__repr_html_ = getattr(ret, '__module__', 'none') + '.' + ret.__class__.__name__\n",
    "    print('✅ sklearn.dummy.DummyClassifier._repr_html_:', type(ret)) # noqa E501\n",
    "except Exception as e:\n",
    "    type_sklearn_dummy_DummyClassifier__repr_html_ = '_syft_missing'\n",
    "    print('❌ sklearn.dummy.DummyClassifier._repr_html_: Return unavailable') # noqa E501\n",
    "    print(\"  Please fix this return type code until there is no exception\")\n",
    "    print('  Error:', e)\n"
   ]
  },
  {
   "cell_type": "code",
   "execution_count": null,
   "id": "automotive-basics",
   "metadata": {},
   "outputs": [],
   "source": [
    "# sklearn.dummy.DummyClassifier._repr_html_inner\n",
    "try:\n",
    "    obj = class_constructor() # noqa F821\n",
    "    ret = obj._repr_html_inner()\n",
    "    type_sklearn_dummy_DummyClassifier__repr_html_inner = getattr(ret, '__module__', 'none') + '.' + ret.__class__.__name__\n",
    "    print('✅ sklearn.dummy.DummyClassifier._repr_html_inner: ', type(ret)) # noqa E501\n",
    "except Exception as e:\n",
    "    type_sklearn_dummy_DummyClassifier__repr_html_inner = '_syft_missing'\n",
    "    print('❌ sklearn.dummy.DummyClassifier._repr_html_inner: Return unavailable') # noqa E501\n",
    "    print(\"  Please fix this return type code until there is no exception\")\n",
    "    print('  Error:', e)\n"
   ]
  },
  {
   "cell_type": "code",
   "execution_count": null,
   "id": "higher-elements",
   "metadata": {},
   "outputs": [],
   "source": [
    "# sklearn.dummy.DummyClassifier._repr_mimebundle_\n",
    "try:\n",
    "    obj = class_constructor() # noqa F821\n",
    "    ret = obj._repr_mimebundle_()\n",
    "    type_sklearn_dummy_DummyClassifier__repr_mimebundle_ = getattr(ret, '__module__', 'none') + '.' + ret.__class__.__name__\n",
    "    print('✅ sklearn.dummy.DummyClassifier._repr_mimebundle_: ', type(ret)) # noqa E501\n",
    "except Exception as e:\n",
    "    type_sklearn_dummy_DummyClassifier__repr_mimebundle_ = '_syft_missing'\n",
    "    print('❌ sklearn.dummy.DummyClassifier._repr_mimebundle_: Return unavailable') # noqa E501\n",
    "    print(\"  Please fix this return type code until there is no exception\")\n",
    "    print('  Error:', e)\n"
   ]
  },
  {
   "cell_type": "code",
   "execution_count": null,
   "id": "fatty-program",
   "metadata": {},
   "outputs": [],
   "source": [
    "# sklearn.dummy.DummyClassifier._validate_data\n",
    "try:\n",
    "    obj = class_constructor() # noqa F821\n",
    "    ret = obj._validate_data()\n",
    "    type_sklearn_dummy_DummyClassifier__validate_data = getattr(ret, '__module__', 'none') + '.' + ret.__class__.__name__\n",
    "    print('✅ sklearn.dummy.DummyClassifier._validate_data: ', type(ret)) # noqa E501\n",
    "except Exception as e:\n",
    "    type_sklearn_dummy_DummyClassifier__validate_data = '_syft_missing'\n",
    "    print('❌ sklearn.dummy.DummyClassifier._validate_data: Return unavailable') # noqa E501\n",
    "    print(\"  Please fix this return type code until there is no exception\")\n",
    "    print('  Error:', e)\n"
   ]
  },
  {
   "cell_type": "code",
   "execution_count": null,
   "id": "demanding-intellectual",
   "metadata": {},
   "outputs": [],
   "source": [
    "# sklearn.dummy.DummyClassifier.fit\n",
    "try:\n",
    "    obj = class_constructor() # noqa F821\n",
    "    ret = obj.fit()\n",
    "    type_sklearn_dummy_DummyClassifier_fit = getattr(ret, '__module__', 'none') + '.' + ret.__class__.__name__\n",
    "    print('✅ sklearn.dummy.DummyClassifier.fit: ', type(ret)) # noqa E501\n",
    "except Exception as e:\n",
    "    type_sklearn_dummy_DummyClassifier_fit = '_syft_missing'\n",
    "    print('❌ sklearn.dummy.DummyClassifier.fit: Return unavailable') # noqa E501\n",
    "    print(\"  Please fix this return type code until there is no exception\")\n",
    "    print('  Error:', e)\n"
   ]
  },
  {
   "cell_type": "code",
   "execution_count": null,
   "id": "indonesian-wagon",
   "metadata": {},
   "outputs": [],
   "source": [
    "# sklearn.dummy.DummyClassifier.get_params\n",
    "try:\n",
    "    obj = class_constructor() # noqa F821\n",
    "    ret = obj.get_params()\n",
    "    type_sklearn_dummy_DummyClassifier_get_params = getattr(ret, '__module__', 'none') + '.' + ret.__class__.__name__\n",
    "    print('✅ sklearn.dummy.DummyClassifier.get_params: ', type(ret)) # noqa E501\n",
    "except Exception as e:\n",
    "    type_sklearn_dummy_DummyClassifier_get_params = '_syft_missing'\n",
    "    print('❌ sklearn.dummy.DummyClassifier.get_params: Return unavailable') # noqa E501\n",
    "    print(\"  Please fix this return type code until there is no exception\")\n",
    "    print('  Error:', e)\n"
   ]
  },
  {
   "cell_type": "code",
   "execution_count": null,
   "id": "working-mortgage",
   "metadata": {},
   "outputs": [],
   "source": [
    "# sklearn.dummy.DummyClassifier.predict\n",
    "try:\n",
    "    obj = class_constructor() # noqa F821\n",
    "    ret = obj.predict()\n",
    "    type_sklearn_dummy_DummyClassifier_predict = getattr(ret, '__module__', 'none') + '.' + ret.__class__.__name__\n",
    "    print('✅ sklearn.dummy.DummyClassifier.predict: ', type(ret)) # noqa E501\n",
    "except Exception as e:\n",
    "    type_sklearn_dummy_DummyClassifier_predict = '_syft_missing'\n",
    "    print('❌ sklearn.dummy.DummyClassifier.predict: Return unavailable') # noqa E501\n",
    "    print(\"  Please fix this return type code until there is no exception\")\n",
    "    print('  Error:', e)\n"
   ]
  },
  {
   "cell_type": "code",
   "execution_count": null,
   "id": "center-piece",
   "metadata": {},
   "outputs": [],
   "source": [
    "# sklearn.dummy.DummyClassifier.predict_log_proba\n",
    "try:\n",
    "    obj = class_constructor() # noqa F821\n",
    "    ret = obj.predict_log_proba()\n",
    "    type_sklearn_dummy_DummyClassifier_predict_log_proba = getattr(ret, '__module__', 'none') + '.' + ret.__class__.__name__\n",
    "    print('✅ sklearn.dummy.DummyClassifier.predict_log_proba: ', type(ret)) # noqa E501\n",
    "except Exception as e:\n",
    "    type_sklearn_dummy_DummyClassifier_predict_log_proba = '_syft_missing'\n",
    "    print('❌ sklearn.dummy.DummyClassifier.predict_log_proba: Return unavailable') # noqa E501\n",
    "    print(\"  Please fix this return type code until there is no exception\")\n",
    "    print('  Error:', e)\n"
   ]
  },
  {
   "cell_type": "code",
   "execution_count": null,
   "id": "decreased-surveillance",
   "metadata": {},
   "outputs": [],
   "source": [
    "# sklearn.dummy.DummyClassifier.predict_proba\n",
    "try:\n",
    "    obj = class_constructor() # noqa F821\n",
    "    ret = obj.predict_proba()\n",
    "    type_sklearn_dummy_DummyClassifier_predict_proba = getattr(ret, '__module__', 'none') + '.' + ret.__class__.__name__\n",
    "    print('✅ sklearn.dummy.DummyClassifier.predict_proba: ', type(ret)) # noqa E501\n",
    "except Exception as e:\n",
    "    type_sklearn_dummy_DummyClassifier_predict_proba = '_syft_missing'\n",
    "    print('❌ sklearn.dummy.DummyClassifier.predict_proba: Return unavailable') # noqa E501\n",
    "    print(\"  Please fix this return type code until there is no exception\")\n",
    "    print('  Error:', e)\n"
   ]
  },
  {
   "cell_type": "code",
   "execution_count": null,
   "id": "decreased-natural",
   "metadata": {},
   "outputs": [],
   "source": [
    "# sklearn.dummy.DummyClassifier.score\n",
    "try:\n",
    "    obj = class_constructor() # noqa F821\n",
    "    ret = obj.score()\n",
    "    type_sklearn_dummy_DummyClassifier_score = getattr(ret, '__module__', 'none') + '.' + ret.__class__.__name__\n",
    "    print('✅ sklearn.dummy.DummyClassifier.score: ', type(ret)) # noqa E501\n",
    "except Exception as e:\n",
    "    type_sklearn_dummy_DummyClassifier_score = '_syft_missing'\n",
    "    print('❌ sklearn.dummy.DummyClassifier.score: Return unavailable') # noqa E501\n",
    "    print(\"  Please fix this return type code until there is no exception\")\n",
    "    print('  Error:', e)\n"
   ]
  },
  {
   "cell_type": "code",
   "execution_count": null,
   "id": "arctic-violence",
   "metadata": {},
   "outputs": [],
   "source": [
    "# sklearn.dummy.DummyClassifier.set_params\n",
    "try:\n",
    "    obj = class_constructor() # noqa F821\n",
    "    ret = obj.set_params()\n",
    "    type_sklearn_dummy_DummyClassifier_set_params = getattr(ret, '__module__', 'none') + '.' + ret.__class__.__name__\n",
    "    print('✅ sklearn.dummy.DummyClassifier.set_params: ', type(ret)) # noqa E501\n",
    "except Exception as e:\n",
    "    type_sklearn_dummy_DummyClassifier_set_params = '_syft_missing'\n",
    "    print('❌ sklearn.dummy.DummyClassifier.set_params: Return unavailable') # noqa E501\n",
    "    print(\"  Please fix this return type code until there is no exception\")\n",
    "    print('  Error:', e)\n"
   ]
  }
 ],
 "metadata": {},
 "nbformat": 4,
 "nbformat_minor": 5
}
{
 "cells": [
  {
   "cell_type": "markdown",
   "id": "functional-running",
   "metadata": {},
   "source": [
    "## sklearn.base._UnstableArchMixin"
   ]
  },
  {
   "cell_type": "code",
   "execution_count": null,
   "id": "identified-divorce",
   "metadata": {},
   "outputs": [],
   "source": [
    "import sklearn\n",
    "def class_constructor(*args, **kwargs):\n",
    "    obj = sklearn.base._UnstableArchMixin()\n",
    "    return obj\n"
   ]
  },
  {
   "cell_type": "code",
   "execution_count": null,
   "id": "actual-conservative",
   "metadata": {},
   "outputs": [],
   "source": [
    "# sklearn.base._UnstableArchMixin._more_tags\n",
    "try:\n",
    "    obj = class_constructor() # noqa F821\n",
    "    ret = obj._more_tags()\n",
    "    type_sklearn_base__UnstableArchMixin__more_tags = getattr(ret, '__module__', 'none') + '.' + ret.__class__.__name__\n",
    "    print('✅ sklearn.base._UnstableArchMixin._more_tags: ', type(ret)) # noqa E501\n",
    "except Exception as e:\n",
    "    type_sklearn_base__UnstableArchMixin__more_tags = '_syft_missing'\n",
    "    print('❌ sklearn.base._UnstableArchMixin._more_tags: Return unavailable') # noqa E501\n",
    "    print(\"  Please fix this return type code until there is no exception\")\n",
    "    print('  Error:', e)\n"
   ]
  }
 ],
 "metadata": {},
 "nbformat": 4,
 "nbformat_minor": 5
}
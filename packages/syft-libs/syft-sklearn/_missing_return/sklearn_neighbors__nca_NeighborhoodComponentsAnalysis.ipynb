{
 "cells": [
  {
   "cell_type": "markdown",
   "id": "separate-fortune",
   "metadata": {},
   "source": [
    "## sklearn.neighbors._nca.NeighborhoodComponentsAnalysis"
   ]
  },
  {
   "cell_type": "code",
   "execution_count": null,
   "id": "ideal-missouri",
   "metadata": {},
   "outputs": [],
   "source": [
    "import sklearn\n",
    "def class_constructor(*args, **kwargs):\n",
    "    obj = sklearn.neighbors._nca.NeighborhoodComponentsAnalysis()\n",
    "    return obj\n"
   ]
  },
  {
   "cell_type": "code",
   "execution_count": null,
   "id": "helpful-asbestos",
   "metadata": {},
   "outputs": [],
   "source": [
    "# sklearn.neighbors._nca.NeighborhoodComponentsAnalysis.__getstate__\n",
    "try:\n",
    "    obj = class_constructor() # noqa F821\n",
    "    ret = obj.__getstate__()\n",
    "    type_sklearn_neighbors__nca_NeighborhoodComponentsAnalysis___getstate__ = getattr(ret, '__module__', 'none') + '.' + ret.__class__.__name__\n",
    "    print('✅ sklearn.neighbors._nca.NeighborhoodComponentsAnalysis.__getstate__: ', type(ret)) # noqa E501\n",
    "except Exception as e:\n",
    "    type_sklearn_neighbors__nca_NeighborhoodComponentsAnalysis___getstate__ = '_syft_missing'\n",
    "    print('❌ sklearn.neighbors._nca.NeighborhoodComponentsAnalysis.__getstate__: Return unavailable') # noqa E501\n",
    "    print(\"  Please fix this return type code until there is no exception\")\n",
    "    print('  Error:', e)\n"
   ]
  },
  {
   "cell_type": "code",
   "execution_count": null,
   "id": "indoor-bunch",
   "metadata": {},
   "outputs": [],
   "source": [
    "# sklearn.neighbors._nca.NeighborhoodComponentsAnalysis.__repr__\n",
    "try:\n",
    "    obj = class_constructor() # noqa F821\n",
    "    ret = obj.__repr__()\n",
    "    type_sklearn_neighbors__nca_NeighborhoodComponentsAnalysis___repr__ = getattr(ret, '__module__', 'none') + '.' + ret.__class__.__name__\n",
    "    print('✅ sklearn.neighbors._nca.NeighborhoodComponentsAnalysis.__repr__: ', type(ret)) # noqa E501\n",
    "except Exception as e:\n",
    "    type_sklearn_neighbors__nca_NeighborhoodComponentsAnalysis___repr__ = '_syft_missing'\n",
    "    print('❌ sklearn.neighbors._nca.NeighborhoodComponentsAnalysis.__repr__: Return unavailable') # noqa E501\n",
    "    print(\"  Please fix this return type code until there is no exception\")\n",
    "    print('  Error:', e)\n"
   ]
  },
  {
   "cell_type": "code",
   "execution_count": null,
   "id": "hungry-sunglasses",
   "metadata": {},
   "outputs": [],
   "source": [
    "# sklearn.neighbors._nca.NeighborhoodComponentsAnalysis.__setstate__\n",
    "try:\n",
    "    obj = class_constructor() # noqa F821\n",
    "    ret = obj.__setstate__()\n",
    "    type_sklearn_neighbors__nca_NeighborhoodComponentsAnalysis___setstate__ = getattr(ret, '__module__', 'none') + '.' + ret.__class__.__name__\n",
    "    print('✅ sklearn.neighbors._nca.NeighborhoodComponentsAnalysis.__setstate__: ', type(ret)) # noqa E501\n",
    "except Exception as e:\n",
    "    type_sklearn_neighbors__nca_NeighborhoodComponentsAnalysis___setstate__ = '_syft_missing'\n",
    "    print('❌ sklearn.neighbors._nca.NeighborhoodComponentsAnalysis.__setstate__: Return unavailable') # noqa E501\n",
    "    print(\"  Please fix this return type code until there is no exception\")\n",
    "    print('  Error:', e)\n"
   ]
  },
  {
   "cell_type": "code",
   "execution_count": null,
   "id": "parental-japan",
   "metadata": {},
   "outputs": [],
   "source": [
    "# sklearn.neighbors._nca.NeighborhoodComponentsAnalysis._callback\n",
    "try:\n",
    "    obj = class_constructor() # noqa F821\n",
    "    ret = obj._callback()\n",
    "    type_sklearn_neighbors__nca_NeighborhoodComponentsAnalysis__callback = getattr(ret, '__module__', 'none') + '.' + ret.__class__.__name__\n",
    "    print('✅ sklearn.neighbors._nca.NeighborhoodComponentsAnalysis._callback: ', type(ret)) # noqa E501\n",
    "except Exception as e:\n",
    "    type_sklearn_neighbors__nca_NeighborhoodComponentsAnalysis__callback = '_syft_missing'\n",
    "    print('❌ sklearn.neighbors._nca.NeighborhoodComponentsAnalysis._callback: Return unavailable') # noqa E501\n",
    "    print(\"  Please fix this return type code until there is no exception\")\n",
    "    print('  Error:', e)\n"
   ]
  },
  {
   "cell_type": "code",
   "execution_count": null,
   "id": "systematic-serve",
   "metadata": {},
   "outputs": [],
   "source": [
    "# sklearn.neighbors._nca.NeighborhoodComponentsAnalysis._check_n_features\n",
    "try:\n",
    "    obj = class_constructor() # noqa F821\n",
    "    ret = obj._check_n_features()\n",
    "    type_sklearn_neighbors__nca_NeighborhoodComponentsAnalysis__check_n_features = getattr(ret, '__module__', 'none') + '.' + ret.__class__.__name__\n",
    "    print('✅ sklearn.neighbors._nca.NeighborhoodComponentsAnalysis._check_n_features: ', type(ret)) # noqa E501\n",
    "except Exception as e:\n",
    "    type_sklearn_neighbors__nca_NeighborhoodComponentsAnalysis__check_n_features = '_syft_missing'\n",
    "    print('❌ sklearn.neighbors._nca.NeighborhoodComponentsAnalysis._check_n_features: Return unavailable') # noqa E501\n",
    "    print(\"  Please fix this return type code until there is no exception\")\n",
    "    print('  Error:', e)\n"
   ]
  },
  {
   "cell_type": "code",
   "execution_count": null,
   "id": "combined-bridges",
   "metadata": {},
   "outputs": [],
   "source": [
    "# sklearn.neighbors._nca.NeighborhoodComponentsAnalysis._get_param_names\n",
    "try:\n",
    "    obj = class_constructor() # noqa F821\n",
    "    ret = obj._get_param_names()\n",
    "    type_sklearn_neighbors__nca_NeighborhoodComponentsAnalysis__get_param_names = getattr(ret, '__module__', 'none') + '.' + ret.__class__.__name__\n",
    "    print('✅ sklearn.neighbors._nca.NeighborhoodComponentsAnalysis._get_param_names: ', type(ret)) # noqa E501\n",
    "except Exception as e:\n",
    "    type_sklearn_neighbors__nca_NeighborhoodComponentsAnalysis__get_param_names = '_syft_missing'\n",
    "    print('❌ sklearn.neighbors._nca.NeighborhoodComponentsAnalysis._get_param_names: Return unavailable') # noqa E501\n",
    "    print(\"  Please fix this return type code until there is no exception\")\n",
    "    print('  Error:', e)\n"
   ]
  },
  {
   "cell_type": "code",
   "execution_count": null,
   "id": "actual-botswana",
   "metadata": {},
   "outputs": [],
   "source": [
    "# sklearn.neighbors._nca.NeighborhoodComponentsAnalysis._get_tags\n",
    "try:\n",
    "    obj = class_constructor() # noqa F821\n",
    "    ret = obj._get_tags()\n",
    "    type_sklearn_neighbors__nca_NeighborhoodComponentsAnalysis__get_tags = getattr(ret, '__module__', 'none') + '.' + ret.__class__.__name__\n",
    "    print('✅ sklearn.neighbors._nca.NeighborhoodComponentsAnalysis._get_tags: ', type(ret)) # noqa E501\n",
    "except Exception as e:\n",
    "    type_sklearn_neighbors__nca_NeighborhoodComponentsAnalysis__get_tags = '_syft_missing'\n",
    "    print('❌ sklearn.neighbors._nca.NeighborhoodComponentsAnalysis._get_tags: Return unavailable') # noqa E501\n",
    "    print(\"  Please fix this return type code until there is no exception\")\n",
    "    print('  Error:', e)\n"
   ]
  },
  {
   "cell_type": "code",
   "execution_count": null,
   "id": "egyptian-string",
   "metadata": {},
   "outputs": [],
   "source": [
    "# sklearn.neighbors._nca.NeighborhoodComponentsAnalysis._initialize\n",
    "try:\n",
    "    obj = class_constructor() # noqa F821\n",
    "    ret = obj._initialize()\n",
    "    type_sklearn_neighbors__nca_NeighborhoodComponentsAnalysis__initialize = getattr(ret, '__module__', 'none') + '.' + ret.__class__.__name__\n",
    "    print('✅ sklearn.neighbors._nca.NeighborhoodComponentsAnalysis._initialize: ', type(ret)) # noqa E501\n",
    "except Exception as e:\n",
    "    type_sklearn_neighbors__nca_NeighborhoodComponentsAnalysis__initialize = '_syft_missing'\n",
    "    print('❌ sklearn.neighbors._nca.NeighborhoodComponentsAnalysis._initialize: Return unavailable') # noqa E501\n",
    "    print(\"  Please fix this return type code until there is no exception\")\n",
    "    print('  Error:', e)\n"
   ]
  },
  {
   "cell_type": "code",
   "execution_count": null,
   "id": "eight-latino",
   "metadata": {},
   "outputs": [],
   "source": [
    "# sklearn.neighbors._nca.NeighborhoodComponentsAnalysis._loss_grad_lbfgs\n",
    "try:\n",
    "    obj = class_constructor() # noqa F821\n",
    "    ret = obj._loss_grad_lbfgs()\n",
    "    type_sklearn_neighbors__nca_NeighborhoodComponentsAnalysis__loss_grad_lbfgs = getattr(ret, '__module__', 'none') + '.' + ret.__class__.__name__\n",
    "    print('✅ sklearn.neighbors._nca.NeighborhoodComponentsAnalysis._loss_grad_lbfgs: ', type(ret)) # noqa E501\n",
    "except Exception as e:\n",
    "    type_sklearn_neighbors__nca_NeighborhoodComponentsAnalysis__loss_grad_lbfgs = '_syft_missing'\n",
    "    print('❌ sklearn.neighbors._nca.NeighborhoodComponentsAnalysis._loss_grad_lbfgs: Return unavailable') # noqa E501\n",
    "    print(\"  Please fix this return type code until there is no exception\")\n",
    "    print('  Error:', e)\n"
   ]
  },
  {
   "cell_type": "code",
   "execution_count": null,
   "id": "neural-african",
   "metadata": {},
   "outputs": [],
   "source": [
    "# sklearn.neighbors._nca.NeighborhoodComponentsAnalysis._more_tags\n",
    "try:\n",
    "    obj = class_constructor() # noqa F821\n",
    "    ret = obj._more_tags()\n",
    "    type_sklearn_neighbors__nca_NeighborhoodComponentsAnalysis__more_tags = getattr(ret, '__module__', 'none') + '.' + ret.__class__.__name__\n",
    "    print('✅ sklearn.neighbors._nca.NeighborhoodComponentsAnalysis._more_tags: ', type(ret)) # noqa E501\n",
    "except Exception as e:\n",
    "    type_sklearn_neighbors__nca_NeighborhoodComponentsAnalysis__more_tags = '_syft_missing'\n",
    "    print('❌ sklearn.neighbors._nca.NeighborhoodComponentsAnalysis._more_tags: Return unavailable') # noqa E501\n",
    "    print(\"  Please fix this return type code until there is no exception\")\n",
    "    print('  Error:', e)\n"
   ]
  },
  {
   "cell_type": "code",
   "execution_count": null,
   "id": "collective-primary",
   "metadata": {},
   "outputs": [],
   "source": [
    "# sklearn.neighbors._nca.NeighborhoodComponentsAnalysis._repr_html_\n",
    "try:\n",
    "    obj = class_constructor()\n",
    "    ret = obj._repr_html_\n",
    "    type_sklearn_neighbors__nca_NeighborhoodComponentsAnalysis__repr_html_ = getattr(ret, '__module__', 'none') + '.' + ret.__class__.__name__\n",
    "    print('✅ sklearn.neighbors._nca.NeighborhoodComponentsAnalysis._repr_html_:', type(ret)) # noqa E501\n",
    "except Exception as e:\n",
    "    type_sklearn_neighbors__nca_NeighborhoodComponentsAnalysis__repr_html_ = '_syft_missing'\n",
    "    print('❌ sklearn.neighbors._nca.NeighborhoodComponentsAnalysis._repr_html_: Return unavailable') # noqa E501\n",
    "    print(\"  Please fix this return type code until there is no exception\")\n",
    "    print('  Error:', e)\n"
   ]
  },
  {
   "cell_type": "code",
   "execution_count": null,
   "id": "integral-vocabulary",
   "metadata": {},
   "outputs": [],
   "source": [
    "# sklearn.neighbors._nca.NeighborhoodComponentsAnalysis._repr_html_inner\n",
    "try:\n",
    "    obj = class_constructor() # noqa F821\n",
    "    ret = obj._repr_html_inner()\n",
    "    type_sklearn_neighbors__nca_NeighborhoodComponentsAnalysis__repr_html_inner = getattr(ret, '__module__', 'none') + '.' + ret.__class__.__name__\n",
    "    print('✅ sklearn.neighbors._nca.NeighborhoodComponentsAnalysis._repr_html_inner: ', type(ret)) # noqa E501\n",
    "except Exception as e:\n",
    "    type_sklearn_neighbors__nca_NeighborhoodComponentsAnalysis__repr_html_inner = '_syft_missing'\n",
    "    print('❌ sklearn.neighbors._nca.NeighborhoodComponentsAnalysis._repr_html_inner: Return unavailable') # noqa E501\n",
    "    print(\"  Please fix this return type code until there is no exception\")\n",
    "    print('  Error:', e)\n"
   ]
  },
  {
   "cell_type": "code",
   "execution_count": null,
   "id": "silver-filename",
   "metadata": {},
   "outputs": [],
   "source": [
    "# sklearn.neighbors._nca.NeighborhoodComponentsAnalysis._repr_mimebundle_\n",
    "try:\n",
    "    obj = class_constructor() # noqa F821\n",
    "    ret = obj._repr_mimebundle_()\n",
    "    type_sklearn_neighbors__nca_NeighborhoodComponentsAnalysis__repr_mimebundle_ = getattr(ret, '__module__', 'none') + '.' + ret.__class__.__name__\n",
    "    print('✅ sklearn.neighbors._nca.NeighborhoodComponentsAnalysis._repr_mimebundle_: ', type(ret)) # noqa E501\n",
    "except Exception as e:\n",
    "    type_sklearn_neighbors__nca_NeighborhoodComponentsAnalysis__repr_mimebundle_ = '_syft_missing'\n",
    "    print('❌ sklearn.neighbors._nca.NeighborhoodComponentsAnalysis._repr_mimebundle_: Return unavailable') # noqa E501\n",
    "    print(\"  Please fix this return type code until there is no exception\")\n",
    "    print('  Error:', e)\n"
   ]
  },
  {
   "cell_type": "code",
   "execution_count": null,
   "id": "amber-climate",
   "metadata": {},
   "outputs": [],
   "source": [
    "# sklearn.neighbors._nca.NeighborhoodComponentsAnalysis._validate_data\n",
    "try:\n",
    "    obj = class_constructor() # noqa F821\n",
    "    ret = obj._validate_data()\n",
    "    type_sklearn_neighbors__nca_NeighborhoodComponentsAnalysis__validate_data = getattr(ret, '__module__', 'none') + '.' + ret.__class__.__name__\n",
    "    print('✅ sklearn.neighbors._nca.NeighborhoodComponentsAnalysis._validate_data: ', type(ret)) # noqa E501\n",
    "except Exception as e:\n",
    "    type_sklearn_neighbors__nca_NeighborhoodComponentsAnalysis__validate_data = '_syft_missing'\n",
    "    print('❌ sklearn.neighbors._nca.NeighborhoodComponentsAnalysis._validate_data: Return unavailable') # noqa E501\n",
    "    print(\"  Please fix this return type code until there is no exception\")\n",
    "    print('  Error:', e)\n"
   ]
  },
  {
   "cell_type": "code",
   "execution_count": null,
   "id": "passing-prison",
   "metadata": {},
   "outputs": [],
   "source": [
    "# sklearn.neighbors._nca.NeighborhoodComponentsAnalysis._validate_params\n",
    "try:\n",
    "    obj = class_constructor() # noqa F821\n",
    "    ret = obj._validate_params()\n",
    "    type_sklearn_neighbors__nca_NeighborhoodComponentsAnalysis__validate_params = getattr(ret, '__module__', 'none') + '.' + ret.__class__.__name__\n",
    "    print('✅ sklearn.neighbors._nca.NeighborhoodComponentsAnalysis._validate_params: ', type(ret)) # noqa E501\n",
    "except Exception as e:\n",
    "    type_sklearn_neighbors__nca_NeighborhoodComponentsAnalysis__validate_params = '_syft_missing'\n",
    "    print('❌ sklearn.neighbors._nca.NeighborhoodComponentsAnalysis._validate_params: Return unavailable') # noqa E501\n",
    "    print(\"  Please fix this return type code until there is no exception\")\n",
    "    print('  Error:', e)\n"
   ]
  },
  {
   "cell_type": "code",
   "execution_count": null,
   "id": "annoying-paint",
   "metadata": {},
   "outputs": [],
   "source": [
    "# sklearn.neighbors._nca.NeighborhoodComponentsAnalysis.fit\n",
    "try:\n",
    "    obj = class_constructor() # noqa F821\n",
    "    ret = obj.fit()\n",
    "    type_sklearn_neighbors__nca_NeighborhoodComponentsAnalysis_fit = getattr(ret, '__module__', 'none') + '.' + ret.__class__.__name__\n",
    "    print('✅ sklearn.neighbors._nca.NeighborhoodComponentsAnalysis.fit: ', type(ret)) # noqa E501\n",
    "except Exception as e:\n",
    "    type_sklearn_neighbors__nca_NeighborhoodComponentsAnalysis_fit = '_syft_missing'\n",
    "    print('❌ sklearn.neighbors._nca.NeighborhoodComponentsAnalysis.fit: Return unavailable') # noqa E501\n",
    "    print(\"  Please fix this return type code until there is no exception\")\n",
    "    print('  Error:', e)\n"
   ]
  },
  {
   "cell_type": "code",
   "execution_count": null,
   "id": "funded-payday",
   "metadata": {},
   "outputs": [],
   "source": [
    "# sklearn.neighbors._nca.NeighborhoodComponentsAnalysis.fit_transform\n",
    "try:\n",
    "    obj = class_constructor() # noqa F821\n",
    "    ret = obj.fit_transform()\n",
    "    type_sklearn_neighbors__nca_NeighborhoodComponentsAnalysis_fit_transform = getattr(ret, '__module__', 'none') + '.' + ret.__class__.__name__\n",
    "    print('✅ sklearn.neighbors._nca.NeighborhoodComponentsAnalysis.fit_transform: ', type(ret)) # noqa E501\n",
    "except Exception as e:\n",
    "    type_sklearn_neighbors__nca_NeighborhoodComponentsAnalysis_fit_transform = '_syft_missing'\n",
    "    print('❌ sklearn.neighbors._nca.NeighborhoodComponentsAnalysis.fit_transform: Return unavailable') # noqa E501\n",
    "    print(\"  Please fix this return type code until there is no exception\")\n",
    "    print('  Error:', e)\n"
   ]
  },
  {
   "cell_type": "code",
   "execution_count": null,
   "id": "seasonal-participant",
   "metadata": {},
   "outputs": [],
   "source": [
    "# sklearn.neighbors._nca.NeighborhoodComponentsAnalysis.get_params\n",
    "try:\n",
    "    obj = class_constructor() # noqa F821\n",
    "    ret = obj.get_params()\n",
    "    type_sklearn_neighbors__nca_NeighborhoodComponentsAnalysis_get_params = getattr(ret, '__module__', 'none') + '.' + ret.__class__.__name__\n",
    "    print('✅ sklearn.neighbors._nca.NeighborhoodComponentsAnalysis.get_params: ', type(ret)) # noqa E501\n",
    "except Exception as e:\n",
    "    type_sklearn_neighbors__nca_NeighborhoodComponentsAnalysis_get_params = '_syft_missing'\n",
    "    print('❌ sklearn.neighbors._nca.NeighborhoodComponentsAnalysis.get_params: Return unavailable') # noqa E501\n",
    "    print(\"  Please fix this return type code until there is no exception\")\n",
    "    print('  Error:', e)\n"
   ]
  },
  {
   "cell_type": "code",
   "execution_count": null,
   "id": "spectacular-orleans",
   "metadata": {},
   "outputs": [],
   "source": [
    "# sklearn.neighbors._nca.NeighborhoodComponentsAnalysis.set_params\n",
    "try:\n",
    "    obj = class_constructor() # noqa F821\n",
    "    ret = obj.set_params()\n",
    "    type_sklearn_neighbors__nca_NeighborhoodComponentsAnalysis_set_params = getattr(ret, '__module__', 'none') + '.' + ret.__class__.__name__\n",
    "    print('✅ sklearn.neighbors._nca.NeighborhoodComponentsAnalysis.set_params: ', type(ret)) # noqa E501\n",
    "except Exception as e:\n",
    "    type_sklearn_neighbors__nca_NeighborhoodComponentsAnalysis_set_params = '_syft_missing'\n",
    "    print('❌ sklearn.neighbors._nca.NeighborhoodComponentsAnalysis.set_params: Return unavailable') # noqa E501\n",
    "    print(\"  Please fix this return type code until there is no exception\")\n",
    "    print('  Error:', e)\n"
   ]
  },
  {
   "cell_type": "code",
   "execution_count": null,
   "id": "recreational-ordering",
   "metadata": {},
   "outputs": [],
   "source": [
    "# sklearn.neighbors._nca.NeighborhoodComponentsAnalysis.transform\n",
    "try:\n",
    "    obj = class_constructor() # noqa F821\n",
    "    ret = obj.transform()\n",
    "    type_sklearn_neighbors__nca_NeighborhoodComponentsAnalysis_transform = getattr(ret, '__module__', 'none') + '.' + ret.__class__.__name__\n",
    "    print('✅ sklearn.neighbors._nca.NeighborhoodComponentsAnalysis.transform: ', type(ret)) # noqa E501\n",
    "except Exception as e:\n",
    "    type_sklearn_neighbors__nca_NeighborhoodComponentsAnalysis_transform = '_syft_missing'\n",
    "    print('❌ sklearn.neighbors._nca.NeighborhoodComponentsAnalysis.transform: Return unavailable') # noqa E501\n",
    "    print(\"  Please fix this return type code until there is no exception\")\n",
    "    print('  Error:', e)\n"
   ]
  }
 ],
 "metadata": {},
 "nbformat": 4,
 "nbformat_minor": 5
}
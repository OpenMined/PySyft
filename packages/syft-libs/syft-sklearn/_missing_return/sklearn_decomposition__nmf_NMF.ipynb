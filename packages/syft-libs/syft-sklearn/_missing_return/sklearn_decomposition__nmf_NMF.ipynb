{
 "cells": [
  {
   "cell_type": "markdown",
   "id": "tested-primary",
   "metadata": {},
   "source": [
    "## sklearn.decomposition._nmf.NMF"
   ]
  },
  {
   "cell_type": "code",
   "execution_count": null,
   "id": "atlantic-variation",
   "metadata": {},
   "outputs": [],
   "source": [
    "import sklearn\n",
    "def class_constructor(*args, **kwargs):\n",
    "    obj = sklearn.decomposition._nmf.NMF()\n",
    "    return obj\n"
   ]
  },
  {
   "cell_type": "code",
   "execution_count": null,
   "id": "particular-jimmy",
   "metadata": {},
   "outputs": [],
   "source": [
    "# sklearn.decomposition._nmf.NMF.__getstate__\n",
    "try:\n",
    "    obj = class_constructor() # noqa F821\n",
    "    ret = obj.__getstate__()\n",
    "    type_sklearn_decomposition__nmf_NMF___getstate__ = getattr(ret, '__module__', 'none') + '.' + ret.__class__.__name__\n",
    "    print('✅ sklearn.decomposition._nmf.NMF.__getstate__: ', type(ret)) # noqa E501\n",
    "except Exception as e:\n",
    "    type_sklearn_decomposition__nmf_NMF___getstate__ = '_syft_missing'\n",
    "    print('❌ sklearn.decomposition._nmf.NMF.__getstate__: Return unavailable') # noqa E501\n",
    "    print(\"  Please fix this return type code until there is no exception\")\n",
    "    print('  Error:', e)\n"
   ]
  },
  {
   "cell_type": "code",
   "execution_count": null,
   "id": "frank-continuity",
   "metadata": {},
   "outputs": [],
   "source": [
    "# sklearn.decomposition._nmf.NMF.__repr__\n",
    "try:\n",
    "    obj = class_constructor() # noqa F821\n",
    "    ret = obj.__repr__()\n",
    "    type_sklearn_decomposition__nmf_NMF___repr__ = getattr(ret, '__module__', 'none') + '.' + ret.__class__.__name__\n",
    "    print('✅ sklearn.decomposition._nmf.NMF.__repr__: ', type(ret)) # noqa E501\n",
    "except Exception as e:\n",
    "    type_sklearn_decomposition__nmf_NMF___repr__ = '_syft_missing'\n",
    "    print('❌ sklearn.decomposition._nmf.NMF.__repr__: Return unavailable') # noqa E501\n",
    "    print(\"  Please fix this return type code until there is no exception\")\n",
    "    print('  Error:', e)\n"
   ]
  },
  {
   "cell_type": "code",
   "execution_count": null,
   "id": "organic-playback",
   "metadata": {},
   "outputs": [],
   "source": [
    "# sklearn.decomposition._nmf.NMF.__setstate__\n",
    "try:\n",
    "    obj = class_constructor() # noqa F821\n",
    "    ret = obj.__setstate__()\n",
    "    type_sklearn_decomposition__nmf_NMF___setstate__ = getattr(ret, '__module__', 'none') + '.' + ret.__class__.__name__\n",
    "    print('✅ sklearn.decomposition._nmf.NMF.__setstate__: ', type(ret)) # noqa E501\n",
    "except Exception as e:\n",
    "    type_sklearn_decomposition__nmf_NMF___setstate__ = '_syft_missing'\n",
    "    print('❌ sklearn.decomposition._nmf.NMF.__setstate__: Return unavailable') # noqa E501\n",
    "    print(\"  Please fix this return type code until there is no exception\")\n",
    "    print('  Error:', e)\n"
   ]
  },
  {
   "cell_type": "code",
   "execution_count": null,
   "id": "trying-attribute",
   "metadata": {},
   "outputs": [],
   "source": [
    "# sklearn.decomposition._nmf.NMF._check_n_features\n",
    "try:\n",
    "    obj = class_constructor() # noqa F821\n",
    "    ret = obj._check_n_features()\n",
    "    type_sklearn_decomposition__nmf_NMF__check_n_features = getattr(ret, '__module__', 'none') + '.' + ret.__class__.__name__\n",
    "    print('✅ sklearn.decomposition._nmf.NMF._check_n_features: ', type(ret)) # noqa E501\n",
    "except Exception as e:\n",
    "    type_sklearn_decomposition__nmf_NMF__check_n_features = '_syft_missing'\n",
    "    print('❌ sklearn.decomposition._nmf.NMF._check_n_features: Return unavailable') # noqa E501\n",
    "    print(\"  Please fix this return type code until there is no exception\")\n",
    "    print('  Error:', e)\n"
   ]
  },
  {
   "cell_type": "code",
   "execution_count": null,
   "id": "patient-yield",
   "metadata": {},
   "outputs": [],
   "source": [
    "# sklearn.decomposition._nmf.NMF._get_param_names\n",
    "try:\n",
    "    obj = class_constructor() # noqa F821\n",
    "    ret = obj._get_param_names()\n",
    "    type_sklearn_decomposition__nmf_NMF__get_param_names = getattr(ret, '__module__', 'none') + '.' + ret.__class__.__name__\n",
    "    print('✅ sklearn.decomposition._nmf.NMF._get_param_names: ', type(ret)) # noqa E501\n",
    "except Exception as e:\n",
    "    type_sklearn_decomposition__nmf_NMF__get_param_names = '_syft_missing'\n",
    "    print('❌ sklearn.decomposition._nmf.NMF._get_param_names: Return unavailable') # noqa E501\n",
    "    print(\"  Please fix this return type code until there is no exception\")\n",
    "    print('  Error:', e)\n"
   ]
  },
  {
   "cell_type": "code",
   "execution_count": null,
   "id": "noble-plymouth",
   "metadata": {},
   "outputs": [],
   "source": [
    "# sklearn.decomposition._nmf.NMF._get_tags\n",
    "try:\n",
    "    obj = class_constructor() # noqa F821\n",
    "    ret = obj._get_tags()\n",
    "    type_sklearn_decomposition__nmf_NMF__get_tags = getattr(ret, '__module__', 'none') + '.' + ret.__class__.__name__\n",
    "    print('✅ sklearn.decomposition._nmf.NMF._get_tags: ', type(ret)) # noqa E501\n",
    "except Exception as e:\n",
    "    type_sklearn_decomposition__nmf_NMF__get_tags = '_syft_missing'\n",
    "    print('❌ sklearn.decomposition._nmf.NMF._get_tags: Return unavailable') # noqa E501\n",
    "    print(\"  Please fix this return type code until there is no exception\")\n",
    "    print('  Error:', e)\n"
   ]
  },
  {
   "cell_type": "code",
   "execution_count": null,
   "id": "failing-orbit",
   "metadata": {},
   "outputs": [],
   "source": [
    "# sklearn.decomposition._nmf.NMF._more_tags\n",
    "try:\n",
    "    obj = class_constructor() # noqa F821\n",
    "    ret = obj._more_tags()\n",
    "    type_sklearn_decomposition__nmf_NMF__more_tags = getattr(ret, '__module__', 'none') + '.' + ret.__class__.__name__\n",
    "    print('✅ sklearn.decomposition._nmf.NMF._more_tags: ', type(ret)) # noqa E501\n",
    "except Exception as e:\n",
    "    type_sklearn_decomposition__nmf_NMF__more_tags = '_syft_missing'\n",
    "    print('❌ sklearn.decomposition._nmf.NMF._more_tags: Return unavailable') # noqa E501\n",
    "    print(\"  Please fix this return type code until there is no exception\")\n",
    "    print('  Error:', e)\n"
   ]
  },
  {
   "cell_type": "code",
   "execution_count": null,
   "id": "precise-bubble",
   "metadata": {},
   "outputs": [],
   "source": [
    "# sklearn.decomposition._nmf.NMF._repr_html_\n",
    "try:\n",
    "    obj = class_constructor()\n",
    "    ret = obj._repr_html_\n",
    "    type_sklearn_decomposition__nmf_NMF__repr_html_ = getattr(ret, '__module__', 'none') + '.' + ret.__class__.__name__\n",
    "    print('✅ sklearn.decomposition._nmf.NMF._repr_html_:', type(ret)) # noqa E501\n",
    "except Exception as e:\n",
    "    type_sklearn_decomposition__nmf_NMF__repr_html_ = '_syft_missing'\n",
    "    print('❌ sklearn.decomposition._nmf.NMF._repr_html_: Return unavailable') # noqa E501\n",
    "    print(\"  Please fix this return type code until there is no exception\")\n",
    "    print('  Error:', e)\n"
   ]
  },
  {
   "cell_type": "code",
   "execution_count": null,
   "id": "intense-crime",
   "metadata": {},
   "outputs": [],
   "source": [
    "# sklearn.decomposition._nmf.NMF._repr_html_inner\n",
    "try:\n",
    "    obj = class_constructor() # noqa F821\n",
    "    ret = obj._repr_html_inner()\n",
    "    type_sklearn_decomposition__nmf_NMF__repr_html_inner = getattr(ret, '__module__', 'none') + '.' + ret.__class__.__name__\n",
    "    print('✅ sklearn.decomposition._nmf.NMF._repr_html_inner: ', type(ret)) # noqa E501\n",
    "except Exception as e:\n",
    "    type_sklearn_decomposition__nmf_NMF__repr_html_inner = '_syft_missing'\n",
    "    print('❌ sklearn.decomposition._nmf.NMF._repr_html_inner: Return unavailable') # noqa E501\n",
    "    print(\"  Please fix this return type code until there is no exception\")\n",
    "    print('  Error:', e)\n"
   ]
  },
  {
   "cell_type": "code",
   "execution_count": null,
   "id": "front-spray",
   "metadata": {},
   "outputs": [],
   "source": [
    "# sklearn.decomposition._nmf.NMF._repr_mimebundle_\n",
    "try:\n",
    "    obj = class_constructor() # noqa F821\n",
    "    ret = obj._repr_mimebundle_()\n",
    "    type_sklearn_decomposition__nmf_NMF__repr_mimebundle_ = getattr(ret, '__module__', 'none') + '.' + ret.__class__.__name__\n",
    "    print('✅ sklearn.decomposition._nmf.NMF._repr_mimebundle_: ', type(ret)) # noqa E501\n",
    "except Exception as e:\n",
    "    type_sklearn_decomposition__nmf_NMF__repr_mimebundle_ = '_syft_missing'\n",
    "    print('❌ sklearn.decomposition._nmf.NMF._repr_mimebundle_: Return unavailable') # noqa E501\n",
    "    print(\"  Please fix this return type code until there is no exception\")\n",
    "    print('  Error:', e)\n"
   ]
  },
  {
   "cell_type": "code",
   "execution_count": null,
   "id": "ignored-basketball",
   "metadata": {},
   "outputs": [],
   "source": [
    "# sklearn.decomposition._nmf.NMF._validate_data\n",
    "try:\n",
    "    obj = class_constructor() # noqa F821\n",
    "    ret = obj._validate_data()\n",
    "    type_sklearn_decomposition__nmf_NMF__validate_data = getattr(ret, '__module__', 'none') + '.' + ret.__class__.__name__\n",
    "    print('✅ sklearn.decomposition._nmf.NMF._validate_data: ', type(ret)) # noqa E501\n",
    "except Exception as e:\n",
    "    type_sklearn_decomposition__nmf_NMF__validate_data = '_syft_missing'\n",
    "    print('❌ sklearn.decomposition._nmf.NMF._validate_data: Return unavailable') # noqa E501\n",
    "    print(\"  Please fix this return type code until there is no exception\")\n",
    "    print('  Error:', e)\n"
   ]
  },
  {
   "cell_type": "code",
   "execution_count": null,
   "id": "legislative-wallace",
   "metadata": {},
   "outputs": [],
   "source": [
    "# sklearn.decomposition._nmf.NMF.fit\n",
    "try:\n",
    "    obj = class_constructor() # noqa F821\n",
    "    ret = obj.fit()\n",
    "    type_sklearn_decomposition__nmf_NMF_fit = getattr(ret, '__module__', 'none') + '.' + ret.__class__.__name__\n",
    "    print('✅ sklearn.decomposition._nmf.NMF.fit: ', type(ret)) # noqa E501\n",
    "except Exception as e:\n",
    "    type_sklearn_decomposition__nmf_NMF_fit = '_syft_missing'\n",
    "    print('❌ sklearn.decomposition._nmf.NMF.fit: Return unavailable') # noqa E501\n",
    "    print(\"  Please fix this return type code until there is no exception\")\n",
    "    print('  Error:', e)\n"
   ]
  },
  {
   "cell_type": "code",
   "execution_count": null,
   "id": "worthy-substitute",
   "metadata": {},
   "outputs": [],
   "source": [
    "# sklearn.decomposition._nmf.NMF.fit_transform\n",
    "try:\n",
    "    obj = class_constructor() # noqa F821\n",
    "    ret = obj.fit_transform()\n",
    "    type_sklearn_decomposition__nmf_NMF_fit_transform = getattr(ret, '__module__', 'none') + '.' + ret.__class__.__name__\n",
    "    print('✅ sklearn.decomposition._nmf.NMF.fit_transform: ', type(ret)) # noqa E501\n",
    "except Exception as e:\n",
    "    type_sklearn_decomposition__nmf_NMF_fit_transform = '_syft_missing'\n",
    "    print('❌ sklearn.decomposition._nmf.NMF.fit_transform: Return unavailable') # noqa E501\n",
    "    print(\"  Please fix this return type code until there is no exception\")\n",
    "    print('  Error:', e)\n"
   ]
  },
  {
   "cell_type": "code",
   "execution_count": null,
   "id": "incoming-culture",
   "metadata": {},
   "outputs": [],
   "source": [
    "# sklearn.decomposition._nmf.NMF.get_params\n",
    "try:\n",
    "    obj = class_constructor() # noqa F821\n",
    "    ret = obj.get_params()\n",
    "    type_sklearn_decomposition__nmf_NMF_get_params = getattr(ret, '__module__', 'none') + '.' + ret.__class__.__name__\n",
    "    print('✅ sklearn.decomposition._nmf.NMF.get_params: ', type(ret)) # noqa E501\n",
    "except Exception as e:\n",
    "    type_sklearn_decomposition__nmf_NMF_get_params = '_syft_missing'\n",
    "    print('❌ sklearn.decomposition._nmf.NMF.get_params: Return unavailable') # noqa E501\n",
    "    print(\"  Please fix this return type code until there is no exception\")\n",
    "    print('  Error:', e)\n"
   ]
  },
  {
   "cell_type": "code",
   "execution_count": null,
   "id": "respiratory-massage",
   "metadata": {},
   "outputs": [],
   "source": [
    "# sklearn.decomposition._nmf.NMF.inverse_transform\n",
    "try:\n",
    "    obj = class_constructor() # noqa F821\n",
    "    ret = obj.inverse_transform()\n",
    "    type_sklearn_decomposition__nmf_NMF_inverse_transform = getattr(ret, '__module__', 'none') + '.' + ret.__class__.__name__\n",
    "    print('✅ sklearn.decomposition._nmf.NMF.inverse_transform: ', type(ret)) # noqa E501\n",
    "except Exception as e:\n",
    "    type_sklearn_decomposition__nmf_NMF_inverse_transform = '_syft_missing'\n",
    "    print('❌ sklearn.decomposition._nmf.NMF.inverse_transform: Return unavailable') # noqa E501\n",
    "    print(\"  Please fix this return type code until there is no exception\")\n",
    "    print('  Error:', e)\n"
   ]
  },
  {
   "cell_type": "code",
   "execution_count": null,
   "id": "working-blogger",
   "metadata": {},
   "outputs": [],
   "source": [
    "# sklearn.decomposition._nmf.NMF.set_params\n",
    "try:\n",
    "    obj = class_constructor() # noqa F821\n",
    "    ret = obj.set_params()\n",
    "    type_sklearn_decomposition__nmf_NMF_set_params = getattr(ret, '__module__', 'none') + '.' + ret.__class__.__name__\n",
    "    print('✅ sklearn.decomposition._nmf.NMF.set_params: ', type(ret)) # noqa E501\n",
    "except Exception as e:\n",
    "    type_sklearn_decomposition__nmf_NMF_set_params = '_syft_missing'\n",
    "    print('❌ sklearn.decomposition._nmf.NMF.set_params: Return unavailable') # noqa E501\n",
    "    print(\"  Please fix this return type code until there is no exception\")\n",
    "    print('  Error:', e)\n"
   ]
  },
  {
   "cell_type": "code",
   "execution_count": null,
   "id": "liberal-massage",
   "metadata": {},
   "outputs": [],
   "source": [
    "# sklearn.decomposition._nmf.NMF.transform\n",
    "try:\n",
    "    obj = class_constructor() # noqa F821\n",
    "    ret = obj.transform()\n",
    "    type_sklearn_decomposition__nmf_NMF_transform = getattr(ret, '__module__', 'none') + '.' + ret.__class__.__name__\n",
    "    print('✅ sklearn.decomposition._nmf.NMF.transform: ', type(ret)) # noqa E501\n",
    "except Exception as e:\n",
    "    type_sklearn_decomposition__nmf_NMF_transform = '_syft_missing'\n",
    "    print('❌ sklearn.decomposition._nmf.NMF.transform: Return unavailable') # noqa E501\n",
    "    print(\"  Please fix this return type code until there is no exception\")\n",
    "    print('  Error:', e)\n"
   ]
  }
 ],
 "metadata": {},
 "nbformat": 4,
 "nbformat_minor": 5
}
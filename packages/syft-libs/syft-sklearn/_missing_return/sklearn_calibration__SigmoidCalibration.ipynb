{
 "cells": [
  {
   "cell_type": "markdown",
   "id": "atmospheric-bahrain",
   "metadata": {},
   "source": [
    "## sklearn.calibration._SigmoidCalibration"
   ]
  },
  {
   "cell_type": "code",
   "execution_count": null,
   "id": "alien-substance",
   "metadata": {},
   "outputs": [],
   "source": [
    "import sklearn\n",
    "def class_constructor(*args, **kwargs):\n",
    "    obj = sklearn.calibration._SigmoidCalibration()\n",
    "    return obj\n"
   ]
  },
  {
   "cell_type": "code",
   "execution_count": null,
   "id": "protective-landscape",
   "metadata": {},
   "outputs": [],
   "source": [
    "# sklearn.calibration._SigmoidCalibration.__getstate__\n",
    "try:\n",
    "    obj = class_constructor() # noqa F821\n",
    "    ret = obj.__getstate__()\n",
    "    type_sklearn_calibration__SigmoidCalibration___getstate__ = getattr(ret, '__module__', 'none') + '.' + ret.__class__.__name__\n",
    "    print('✅ sklearn.calibration._SigmoidCalibration.__getstate__: ', type(ret)) # noqa E501\n",
    "except Exception as e:\n",
    "    type_sklearn_calibration__SigmoidCalibration___getstate__ = '_syft_missing'\n",
    "    print('❌ sklearn.calibration._SigmoidCalibration.__getstate__: Return unavailable') # noqa E501\n",
    "    print(\"  Please fix this return type code until there is no exception\")\n",
    "    print('  Error:', e)\n"
   ]
  },
  {
   "cell_type": "code",
   "execution_count": null,
   "id": "arctic-istanbul",
   "metadata": {},
   "outputs": [],
   "source": [
    "# sklearn.calibration._SigmoidCalibration.__repr__\n",
    "try:\n",
    "    obj = class_constructor() # noqa F821\n",
    "    ret = obj.__repr__()\n",
    "    type_sklearn_calibration__SigmoidCalibration___repr__ = getattr(ret, '__module__', 'none') + '.' + ret.__class__.__name__\n",
    "    print('✅ sklearn.calibration._SigmoidCalibration.__repr__: ', type(ret)) # noqa E501\n",
    "except Exception as e:\n",
    "    type_sklearn_calibration__SigmoidCalibration___repr__ = '_syft_missing'\n",
    "    print('❌ sklearn.calibration._SigmoidCalibration.__repr__: Return unavailable') # noqa E501\n",
    "    print(\"  Please fix this return type code until there is no exception\")\n",
    "    print('  Error:', e)\n"
   ]
  },
  {
   "cell_type": "code",
   "execution_count": null,
   "id": "julian-margin",
   "metadata": {},
   "outputs": [],
   "source": [
    "# sklearn.calibration._SigmoidCalibration.__setstate__\n",
    "try:\n",
    "    obj = class_constructor() # noqa F821\n",
    "    ret = obj.__setstate__()\n",
    "    type_sklearn_calibration__SigmoidCalibration___setstate__ = getattr(ret, '__module__', 'none') + '.' + ret.__class__.__name__\n",
    "    print('✅ sklearn.calibration._SigmoidCalibration.__setstate__: ', type(ret)) # noqa E501\n",
    "except Exception as e:\n",
    "    type_sklearn_calibration__SigmoidCalibration___setstate__ = '_syft_missing'\n",
    "    print('❌ sklearn.calibration._SigmoidCalibration.__setstate__: Return unavailable') # noqa E501\n",
    "    print(\"  Please fix this return type code until there is no exception\")\n",
    "    print('  Error:', e)\n"
   ]
  },
  {
   "cell_type": "code",
   "execution_count": null,
   "id": "broadband-performance",
   "metadata": {},
   "outputs": [],
   "source": [
    "# sklearn.calibration._SigmoidCalibration._check_n_features\n",
    "try:\n",
    "    obj = class_constructor() # noqa F821\n",
    "    ret = obj._check_n_features()\n",
    "    type_sklearn_calibration__SigmoidCalibration__check_n_features = getattr(ret, '__module__', 'none') + '.' + ret.__class__.__name__\n",
    "    print('✅ sklearn.calibration._SigmoidCalibration._check_n_features: ', type(ret)) # noqa E501\n",
    "except Exception as e:\n",
    "    type_sklearn_calibration__SigmoidCalibration__check_n_features = '_syft_missing'\n",
    "    print('❌ sklearn.calibration._SigmoidCalibration._check_n_features: Return unavailable') # noqa E501\n",
    "    print(\"  Please fix this return type code until there is no exception\")\n",
    "    print('  Error:', e)\n"
   ]
  },
  {
   "cell_type": "code",
   "execution_count": null,
   "id": "incorrect-customs",
   "metadata": {},
   "outputs": [],
   "source": [
    "# sklearn.calibration._SigmoidCalibration._get_param_names\n",
    "try:\n",
    "    obj = class_constructor() # noqa F821\n",
    "    ret = obj._get_param_names()\n",
    "    type_sklearn_calibration__SigmoidCalibration__get_param_names = getattr(ret, '__module__', 'none') + '.' + ret.__class__.__name__\n",
    "    print('✅ sklearn.calibration._SigmoidCalibration._get_param_names: ', type(ret)) # noqa E501\n",
    "except Exception as e:\n",
    "    type_sklearn_calibration__SigmoidCalibration__get_param_names = '_syft_missing'\n",
    "    print('❌ sklearn.calibration._SigmoidCalibration._get_param_names: Return unavailable') # noqa E501\n",
    "    print(\"  Please fix this return type code until there is no exception\")\n",
    "    print('  Error:', e)\n"
   ]
  },
  {
   "cell_type": "code",
   "execution_count": null,
   "id": "coated-harvey",
   "metadata": {},
   "outputs": [],
   "source": [
    "# sklearn.calibration._SigmoidCalibration._get_tags\n",
    "try:\n",
    "    obj = class_constructor() # noqa F821\n",
    "    ret = obj._get_tags()\n",
    "    type_sklearn_calibration__SigmoidCalibration__get_tags = getattr(ret, '__module__', 'none') + '.' + ret.__class__.__name__\n",
    "    print('✅ sklearn.calibration._SigmoidCalibration._get_tags: ', type(ret)) # noqa E501\n",
    "except Exception as e:\n",
    "    type_sklearn_calibration__SigmoidCalibration__get_tags = '_syft_missing'\n",
    "    print('❌ sklearn.calibration._SigmoidCalibration._get_tags: Return unavailable') # noqa E501\n",
    "    print(\"  Please fix this return type code until there is no exception\")\n",
    "    print('  Error:', e)\n"
   ]
  },
  {
   "cell_type": "code",
   "execution_count": null,
   "id": "bronze-reception",
   "metadata": {},
   "outputs": [],
   "source": [
    "# sklearn.calibration._SigmoidCalibration._more_tags\n",
    "try:\n",
    "    obj = class_constructor() # noqa F821\n",
    "    ret = obj._more_tags()\n",
    "    type_sklearn_calibration__SigmoidCalibration__more_tags = getattr(ret, '__module__', 'none') + '.' + ret.__class__.__name__\n",
    "    print('✅ sklearn.calibration._SigmoidCalibration._more_tags: ', type(ret)) # noqa E501\n",
    "except Exception as e:\n",
    "    type_sklearn_calibration__SigmoidCalibration__more_tags = '_syft_missing'\n",
    "    print('❌ sklearn.calibration._SigmoidCalibration._more_tags: Return unavailable') # noqa E501\n",
    "    print(\"  Please fix this return type code until there is no exception\")\n",
    "    print('  Error:', e)\n"
   ]
  },
  {
   "cell_type": "code",
   "execution_count": null,
   "id": "naughty-movie",
   "metadata": {},
   "outputs": [],
   "source": [
    "# sklearn.calibration._SigmoidCalibration._repr_html_\n",
    "try:\n",
    "    obj = class_constructor()\n",
    "    ret = obj._repr_html_\n",
    "    type_sklearn_calibration__SigmoidCalibration__repr_html_ = getattr(ret, '__module__', 'none') + '.' + ret.__class__.__name__\n",
    "    print('✅ sklearn.calibration._SigmoidCalibration._repr_html_:', type(ret)) # noqa E501\n",
    "except Exception as e:\n",
    "    type_sklearn_calibration__SigmoidCalibration__repr_html_ = '_syft_missing'\n",
    "    print('❌ sklearn.calibration._SigmoidCalibration._repr_html_: Return unavailable') # noqa E501\n",
    "    print(\"  Please fix this return type code until there is no exception\")\n",
    "    print('  Error:', e)\n"
   ]
  },
  {
   "cell_type": "code",
   "execution_count": null,
   "id": "handmade-truck",
   "metadata": {},
   "outputs": [],
   "source": [
    "# sklearn.calibration._SigmoidCalibration._repr_html_inner\n",
    "try:\n",
    "    obj = class_constructor() # noqa F821\n",
    "    ret = obj._repr_html_inner()\n",
    "    type_sklearn_calibration__SigmoidCalibration__repr_html_inner = getattr(ret, '__module__', 'none') + '.' + ret.__class__.__name__\n",
    "    print('✅ sklearn.calibration._SigmoidCalibration._repr_html_inner: ', type(ret)) # noqa E501\n",
    "except Exception as e:\n",
    "    type_sklearn_calibration__SigmoidCalibration__repr_html_inner = '_syft_missing'\n",
    "    print('❌ sklearn.calibration._SigmoidCalibration._repr_html_inner: Return unavailable') # noqa E501\n",
    "    print(\"  Please fix this return type code until there is no exception\")\n",
    "    print('  Error:', e)\n"
   ]
  },
  {
   "cell_type": "code",
   "execution_count": null,
   "id": "junior-remedy",
   "metadata": {},
   "outputs": [],
   "source": [
    "# sklearn.calibration._SigmoidCalibration._repr_mimebundle_\n",
    "try:\n",
    "    obj = class_constructor() # noqa F821\n",
    "    ret = obj._repr_mimebundle_()\n",
    "    type_sklearn_calibration__SigmoidCalibration__repr_mimebundle_ = getattr(ret, '__module__', 'none') + '.' + ret.__class__.__name__\n",
    "    print('✅ sklearn.calibration._SigmoidCalibration._repr_mimebundle_: ', type(ret)) # noqa E501\n",
    "except Exception as e:\n",
    "    type_sklearn_calibration__SigmoidCalibration__repr_mimebundle_ = '_syft_missing'\n",
    "    print('❌ sklearn.calibration._SigmoidCalibration._repr_mimebundle_: Return unavailable') # noqa E501\n",
    "    print(\"  Please fix this return type code until there is no exception\")\n",
    "    print('  Error:', e)\n"
   ]
  },
  {
   "cell_type": "code",
   "execution_count": null,
   "id": "knowing-movement",
   "metadata": {},
   "outputs": [],
   "source": [
    "# sklearn.calibration._SigmoidCalibration._validate_data\n",
    "try:\n",
    "    obj = class_constructor() # noqa F821\n",
    "    ret = obj._validate_data()\n",
    "    type_sklearn_calibration__SigmoidCalibration__validate_data = getattr(ret, '__module__', 'none') + '.' + ret.__class__.__name__\n",
    "    print('✅ sklearn.calibration._SigmoidCalibration._validate_data: ', type(ret)) # noqa E501\n",
    "except Exception as e:\n",
    "    type_sklearn_calibration__SigmoidCalibration__validate_data = '_syft_missing'\n",
    "    print('❌ sklearn.calibration._SigmoidCalibration._validate_data: Return unavailable') # noqa E501\n",
    "    print(\"  Please fix this return type code until there is no exception\")\n",
    "    print('  Error:', e)\n"
   ]
  },
  {
   "cell_type": "code",
   "execution_count": null,
   "id": "earned-preliminary",
   "metadata": {},
   "outputs": [],
   "source": [
    "# sklearn.calibration._SigmoidCalibration.fit\n",
    "try:\n",
    "    obj = class_constructor() # noqa F821\n",
    "    ret = obj.fit()\n",
    "    type_sklearn_calibration__SigmoidCalibration_fit = getattr(ret, '__module__', 'none') + '.' + ret.__class__.__name__\n",
    "    print('✅ sklearn.calibration._SigmoidCalibration.fit: ', type(ret)) # noqa E501\n",
    "except Exception as e:\n",
    "    type_sklearn_calibration__SigmoidCalibration_fit = '_syft_missing'\n",
    "    print('❌ sklearn.calibration._SigmoidCalibration.fit: Return unavailable') # noqa E501\n",
    "    print(\"  Please fix this return type code until there is no exception\")\n",
    "    print('  Error:', e)\n"
   ]
  },
  {
   "cell_type": "code",
   "execution_count": null,
   "id": "solar-funeral",
   "metadata": {},
   "outputs": [],
   "source": [
    "# sklearn.calibration._SigmoidCalibration.get_params\n",
    "try:\n",
    "    obj = class_constructor() # noqa F821\n",
    "    ret = obj.get_params()\n",
    "    type_sklearn_calibration__SigmoidCalibration_get_params = getattr(ret, '__module__', 'none') + '.' + ret.__class__.__name__\n",
    "    print('✅ sklearn.calibration._SigmoidCalibration.get_params: ', type(ret)) # noqa E501\n",
    "except Exception as e:\n",
    "    type_sklearn_calibration__SigmoidCalibration_get_params = '_syft_missing'\n",
    "    print('❌ sklearn.calibration._SigmoidCalibration.get_params: Return unavailable') # noqa E501\n",
    "    print(\"  Please fix this return type code until there is no exception\")\n",
    "    print('  Error:', e)\n"
   ]
  },
  {
   "cell_type": "code",
   "execution_count": null,
   "id": "affiliated-indonesian",
   "metadata": {},
   "outputs": [],
   "source": [
    "# sklearn.calibration._SigmoidCalibration.predict\n",
    "try:\n",
    "    obj = class_constructor() # noqa F821\n",
    "    ret = obj.predict()\n",
    "    type_sklearn_calibration__SigmoidCalibration_predict = getattr(ret, '__module__', 'none') + '.' + ret.__class__.__name__\n",
    "    print('✅ sklearn.calibration._SigmoidCalibration.predict: ', type(ret)) # noqa E501\n",
    "except Exception as e:\n",
    "    type_sklearn_calibration__SigmoidCalibration_predict = '_syft_missing'\n",
    "    print('❌ sklearn.calibration._SigmoidCalibration.predict: Return unavailable') # noqa E501\n",
    "    print(\"  Please fix this return type code until there is no exception\")\n",
    "    print('  Error:', e)\n"
   ]
  },
  {
   "cell_type": "code",
   "execution_count": null,
   "id": "copyrighted-demographic",
   "metadata": {},
   "outputs": [],
   "source": [
    "# sklearn.calibration._SigmoidCalibration.score\n",
    "try:\n",
    "    obj = class_constructor() # noqa F821\n",
    "    ret = obj.score()\n",
    "    type_sklearn_calibration__SigmoidCalibration_score = getattr(ret, '__module__', 'none') + '.' + ret.__class__.__name__\n",
    "    print('✅ sklearn.calibration._SigmoidCalibration.score: ', type(ret)) # noqa E501\n",
    "except Exception as e:\n",
    "    type_sklearn_calibration__SigmoidCalibration_score = '_syft_missing'\n",
    "    print('❌ sklearn.calibration._SigmoidCalibration.score: Return unavailable') # noqa E501\n",
    "    print(\"  Please fix this return type code until there is no exception\")\n",
    "    print('  Error:', e)\n"
   ]
  },
  {
   "cell_type": "code",
   "execution_count": null,
   "id": "aware-peripheral",
   "metadata": {},
   "outputs": [],
   "source": [
    "# sklearn.calibration._SigmoidCalibration.set_params\n",
    "try:\n",
    "    obj = class_constructor() # noqa F821\n",
    "    ret = obj.set_params()\n",
    "    type_sklearn_calibration__SigmoidCalibration_set_params = getattr(ret, '__module__', 'none') + '.' + ret.__class__.__name__\n",
    "    print('✅ sklearn.calibration._SigmoidCalibration.set_params: ', type(ret)) # noqa E501\n",
    "except Exception as e:\n",
    "    type_sklearn_calibration__SigmoidCalibration_set_params = '_syft_missing'\n",
    "    print('❌ sklearn.calibration._SigmoidCalibration.set_params: Return unavailable') # noqa E501\n",
    "    print(\"  Please fix this return type code until there is no exception\")\n",
    "    print('  Error:', e)\n"
   ]
  }
 ],
 "metadata": {},
 "nbformat": 4,
 "nbformat_minor": 5
}
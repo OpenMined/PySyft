{
 "cells": [
  {
   "cell_type": "markdown",
   "id": "natural-series",
   "metadata": {},
   "source": [
    "## sklearn._loss.glm_distribution.GammaDistribution"
   ]
  },
  {
   "cell_type": "code",
   "execution_count": null,
   "id": "hybrid-lingerie",
   "metadata": {},
   "outputs": [],
   "source": [
    "import sklearn\n",
    "def class_constructor(*args, **kwargs):\n",
    "    obj = sklearn._loss.glm_distribution.GammaDistribution()\n",
    "    return obj\n"
   ]
  },
  {
   "cell_type": "code",
   "execution_count": null,
   "id": "uniform-buying",
   "metadata": {},
   "outputs": [],
   "source": [
    "# sklearn._loss.glm_distribution.GammaDistribution.deviance\n",
    "try:\n",
    "    obj = class_constructor() # noqa F821\n",
    "    ret = obj.deviance()\n",
    "    type_sklearn__loss_glm_distribution_GammaDistribution_deviance = getattr(ret, '__module__', 'none') + '.' + ret.__class__.__name__\n",
    "    print('✅ sklearn._loss.glm_distribution.GammaDistribution.deviance: ', type(ret)) # noqa E501\n",
    "except Exception as e:\n",
    "    type_sklearn__loss_glm_distribution_GammaDistribution_deviance = '_syft_missing'\n",
    "    print('❌ sklearn._loss.glm_distribution.GammaDistribution.deviance: Return unavailable') # noqa E501\n",
    "    print(\"  Please fix this return type code until there is no exception\")\n",
    "    print('  Error:', e)\n"
   ]
  },
  {
   "cell_type": "code",
   "execution_count": null,
   "id": "generous-antigua",
   "metadata": {},
   "outputs": [],
   "source": [
    "# sklearn._loss.glm_distribution.GammaDistribution.deviance_derivative\n",
    "try:\n",
    "    obj = class_constructor() # noqa F821\n",
    "    ret = obj.deviance_derivative()\n",
    "    type_sklearn__loss_glm_distribution_GammaDistribution_deviance_derivative = getattr(ret, '__module__', 'none') + '.' + ret.__class__.__name__\n",
    "    print('✅ sklearn._loss.glm_distribution.GammaDistribution.deviance_derivative: ', type(ret)) # noqa E501\n",
    "except Exception as e:\n",
    "    type_sklearn__loss_glm_distribution_GammaDistribution_deviance_derivative = '_syft_missing'\n",
    "    print('❌ sklearn._loss.glm_distribution.GammaDistribution.deviance_derivative: Return unavailable') # noqa E501\n",
    "    print(\"  Please fix this return type code until there is no exception\")\n",
    "    print('  Error:', e)\n"
   ]
  },
  {
   "cell_type": "code",
   "execution_count": null,
   "id": "nearby-hospital",
   "metadata": {},
   "outputs": [],
   "source": [
    "# sklearn._loss.glm_distribution.GammaDistribution.in_y_range\n",
    "try:\n",
    "    obj = class_constructor() # noqa F821\n",
    "    ret = obj.in_y_range()\n",
    "    type_sklearn__loss_glm_distribution_GammaDistribution_in_y_range = getattr(ret, '__module__', 'none') + '.' + ret.__class__.__name__\n",
    "    print('✅ sklearn._loss.glm_distribution.GammaDistribution.in_y_range: ', type(ret)) # noqa E501\n",
    "except Exception as e:\n",
    "    type_sklearn__loss_glm_distribution_GammaDistribution_in_y_range = '_syft_missing'\n",
    "    print('❌ sklearn._loss.glm_distribution.GammaDistribution.in_y_range: Return unavailable') # noqa E501\n",
    "    print(\"  Please fix this return type code until there is no exception\")\n",
    "    print('  Error:', e)\n"
   ]
  },
  {
   "cell_type": "code",
   "execution_count": null,
   "id": "vital-tattoo",
   "metadata": {},
   "outputs": [],
   "source": [
    "# sklearn._loss.glm_distribution.GammaDistribution.power\n",
    "try:\n",
    "    obj = class_constructor()\n",
    "    ret = obj.power\n",
    "    type_sklearn__loss_glm_distribution_GammaDistribution_power = getattr(ret, '__module__', 'none') + '.' + ret.__class__.__name__\n",
    "    print('✅ sklearn._loss.glm_distribution.GammaDistribution.power:', type(ret)) # noqa E501\n",
    "except Exception as e:\n",
    "    type_sklearn__loss_glm_distribution_GammaDistribution_power = '_syft_missing'\n",
    "    print('❌ sklearn._loss.glm_distribution.GammaDistribution.power: Return unavailable') # noqa E501\n",
    "    print(\"  Please fix this return type code until there is no exception\")\n",
    "    print('  Error:', e)\n"
   ]
  },
  {
   "cell_type": "code",
   "execution_count": null,
   "id": "incorrect-blackjack",
   "metadata": {},
   "outputs": [],
   "source": [
    "# sklearn._loss.glm_distribution.GammaDistribution.unit_deviance\n",
    "try:\n",
    "    obj = class_constructor() # noqa F821\n",
    "    ret = obj.unit_deviance()\n",
    "    type_sklearn__loss_glm_distribution_GammaDistribution_unit_deviance = getattr(ret, '__module__', 'none') + '.' + ret.__class__.__name__\n",
    "    print('✅ sklearn._loss.glm_distribution.GammaDistribution.unit_deviance: ', type(ret)) # noqa E501\n",
    "except Exception as e:\n",
    "    type_sklearn__loss_glm_distribution_GammaDistribution_unit_deviance = '_syft_missing'\n",
    "    print('❌ sklearn._loss.glm_distribution.GammaDistribution.unit_deviance: Return unavailable') # noqa E501\n",
    "    print(\"  Please fix this return type code until there is no exception\")\n",
    "    print('  Error:', e)\n"
   ]
  },
  {
   "cell_type": "code",
   "execution_count": null,
   "id": "acting-sacramento",
   "metadata": {},
   "outputs": [],
   "source": [
    "# sklearn._loss.glm_distribution.GammaDistribution.unit_deviance_derivative\n",
    "try:\n",
    "    obj = class_constructor() # noqa F821\n",
    "    ret = obj.unit_deviance_derivative()\n",
    "    type_sklearn__loss_glm_distribution_GammaDistribution_unit_deviance_derivative = getattr(ret, '__module__', 'none') + '.' + ret.__class__.__name__\n",
    "    print('✅ sklearn._loss.glm_distribution.GammaDistribution.unit_deviance_derivative: ', type(ret)) # noqa E501\n",
    "except Exception as e:\n",
    "    type_sklearn__loss_glm_distribution_GammaDistribution_unit_deviance_derivative = '_syft_missing'\n",
    "    print('❌ sklearn._loss.glm_distribution.GammaDistribution.unit_deviance_derivative: Return unavailable') # noqa E501\n",
    "    print(\"  Please fix this return type code until there is no exception\")\n",
    "    print('  Error:', e)\n"
   ]
  },
  {
   "cell_type": "code",
   "execution_count": null,
   "id": "becoming-federation",
   "metadata": {},
   "outputs": [],
   "source": [
    "# sklearn._loss.glm_distribution.GammaDistribution.unit_variance\n",
    "try:\n",
    "    obj = class_constructor() # noqa F821\n",
    "    ret = obj.unit_variance()\n",
    "    type_sklearn__loss_glm_distribution_GammaDistribution_unit_variance = getattr(ret, '__module__', 'none') + '.' + ret.__class__.__name__\n",
    "    print('✅ sklearn._loss.glm_distribution.GammaDistribution.unit_variance: ', type(ret)) # noqa E501\n",
    "except Exception as e:\n",
    "    type_sklearn__loss_glm_distribution_GammaDistribution_unit_variance = '_syft_missing'\n",
    "    print('❌ sklearn._loss.glm_distribution.GammaDistribution.unit_variance: Return unavailable') # noqa E501\n",
    "    print(\"  Please fix this return type code until there is no exception\")\n",
    "    print('  Error:', e)\n"
   ]
  }
 ],
 "metadata": {},
 "nbformat": 4,
 "nbformat_minor": 5
}
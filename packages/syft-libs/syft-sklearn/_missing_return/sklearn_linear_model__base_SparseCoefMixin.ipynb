{
 "cells": [
  {
   "cell_type": "markdown",
   "id": "skilled-cyprus",
   "metadata": {},
   "source": [
    "## sklearn.linear_model._base.SparseCoefMixin"
   ]
  },
  {
   "cell_type": "code",
   "execution_count": null,
   "id": "directed-broad",
   "metadata": {},
   "outputs": [],
   "source": [
    "import sklearn\n",
    "def class_constructor(*args, **kwargs):\n",
    "    obj = sklearn.linear_model._base.SparseCoefMixin()\n",
    "    return obj\n"
   ]
  },
  {
   "cell_type": "code",
   "execution_count": null,
   "id": "portable-laugh",
   "metadata": {},
   "outputs": [],
   "source": [
    "# sklearn.linear_model._base.SparseCoefMixin.densify\n",
    "try:\n",
    "    obj = class_constructor() # noqa F821\n",
    "    ret = obj.densify()\n",
    "    type_sklearn_linear_model__base_SparseCoefMixin_densify = getattr(ret, '__module__', 'none') + '.' + ret.__class__.__name__\n",
    "    print('✅ sklearn.linear_model._base.SparseCoefMixin.densify: ', type(ret)) # noqa E501\n",
    "except Exception as e:\n",
    "    type_sklearn_linear_model__base_SparseCoefMixin_densify = '_syft_missing'\n",
    "    print('❌ sklearn.linear_model._base.SparseCoefMixin.densify: Return unavailable') # noqa E501\n",
    "    print(\"  Please fix this return type code until there is no exception\")\n",
    "    print('  Error:', e)\n"
   ]
  },
  {
   "cell_type": "code",
   "execution_count": null,
   "id": "sacred-apple",
   "metadata": {},
   "outputs": [],
   "source": [
    "# sklearn.linear_model._base.SparseCoefMixin.sparsify\n",
    "try:\n",
    "    obj = class_constructor() # noqa F821\n",
    "    ret = obj.sparsify()\n",
    "    type_sklearn_linear_model__base_SparseCoefMixin_sparsify = getattr(ret, '__module__', 'none') + '.' + ret.__class__.__name__\n",
    "    print('✅ sklearn.linear_model._base.SparseCoefMixin.sparsify: ', type(ret)) # noqa E501\n",
    "except Exception as e:\n",
    "    type_sklearn_linear_model__base_SparseCoefMixin_sparsify = '_syft_missing'\n",
    "    print('❌ sklearn.linear_model._base.SparseCoefMixin.sparsify: Return unavailable') # noqa E501\n",
    "    print(\"  Please fix this return type code until there is no exception\")\n",
    "    print('  Error:', e)\n"
   ]
  }
 ],
 "metadata": {},
 "nbformat": 4,
 "nbformat_minor": 5
}
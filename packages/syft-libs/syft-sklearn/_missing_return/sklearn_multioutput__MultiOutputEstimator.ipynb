{
 "cells": [
  {
   "cell_type": "markdown",
   "id": "experimental-oasis",
   "metadata": {},
   "source": [
    "## sklearn.multioutput._MultiOutputEstimator"
   ]
  },
  {
   "cell_type": "code",
   "execution_count": null,
   "id": "pending-glenn",
   "metadata": {},
   "outputs": [],
   "source": [
    "import sklearn\n",
    "def class_constructor(*args, **kwargs):\n",
    "    obj = sklearn.multioutput._MultiOutputEstimator()\n",
    "    return obj\n"
   ]
  },
  {
   "cell_type": "code",
   "execution_count": null,
   "id": "billion-crazy",
   "metadata": {},
   "outputs": [],
   "source": [
    "# sklearn.multioutput._MultiOutputEstimator.__getstate__\n",
    "try:\n",
    "    obj = class_constructor() # noqa F821\n",
    "    ret = obj.__getstate__()\n",
    "    type_sklearn_multioutput__MultiOutputEstimator___getstate__ = getattr(ret, '__module__', 'none') + '.' + ret.__class__.__name__\n",
    "    print('✅ sklearn.multioutput._MultiOutputEstimator.__getstate__: ', type(ret)) # noqa E501\n",
    "except Exception as e:\n",
    "    type_sklearn_multioutput__MultiOutputEstimator___getstate__ = '_syft_missing'\n",
    "    print('❌ sklearn.multioutput._MultiOutputEstimator.__getstate__: Return unavailable') # noqa E501\n",
    "    print(\"  Please fix this return type code until there is no exception\")\n",
    "    print('  Error:', e)\n"
   ]
  },
  {
   "cell_type": "code",
   "execution_count": null,
   "id": "employed-satisfaction",
   "metadata": {},
   "outputs": [],
   "source": [
    "# sklearn.multioutput._MultiOutputEstimator.__repr__\n",
    "try:\n",
    "    obj = class_constructor() # noqa F821\n",
    "    ret = obj.__repr__()\n",
    "    type_sklearn_multioutput__MultiOutputEstimator___repr__ = getattr(ret, '__module__', 'none') + '.' + ret.__class__.__name__\n",
    "    print('✅ sklearn.multioutput._MultiOutputEstimator.__repr__: ', type(ret)) # noqa E501\n",
    "except Exception as e:\n",
    "    type_sklearn_multioutput__MultiOutputEstimator___repr__ = '_syft_missing'\n",
    "    print('❌ sklearn.multioutput._MultiOutputEstimator.__repr__: Return unavailable') # noqa E501\n",
    "    print(\"  Please fix this return type code until there is no exception\")\n",
    "    print('  Error:', e)\n"
   ]
  },
  {
   "cell_type": "code",
   "execution_count": null,
   "id": "round-russia",
   "metadata": {},
   "outputs": [],
   "source": [
    "# sklearn.multioutput._MultiOutputEstimator.__setstate__\n",
    "try:\n",
    "    obj = class_constructor() # noqa F821\n",
    "    ret = obj.__setstate__()\n",
    "    type_sklearn_multioutput__MultiOutputEstimator___setstate__ = getattr(ret, '__module__', 'none') + '.' + ret.__class__.__name__\n",
    "    print('✅ sklearn.multioutput._MultiOutputEstimator.__setstate__: ', type(ret)) # noqa E501\n",
    "except Exception as e:\n",
    "    type_sklearn_multioutput__MultiOutputEstimator___setstate__ = '_syft_missing'\n",
    "    print('❌ sklearn.multioutput._MultiOutputEstimator.__setstate__: Return unavailable') # noqa E501\n",
    "    print(\"  Please fix this return type code until there is no exception\")\n",
    "    print('  Error:', e)\n"
   ]
  },
  {
   "cell_type": "code",
   "execution_count": null,
   "id": "public-capacity",
   "metadata": {},
   "outputs": [],
   "source": [
    "# sklearn.multioutput._MultiOutputEstimator._check_n_features\n",
    "try:\n",
    "    obj = class_constructor() # noqa F821\n",
    "    ret = obj._check_n_features()\n",
    "    type_sklearn_multioutput__MultiOutputEstimator__check_n_features = getattr(ret, '__module__', 'none') + '.' + ret.__class__.__name__\n",
    "    print('✅ sklearn.multioutput._MultiOutputEstimator._check_n_features: ', type(ret)) # noqa E501\n",
    "except Exception as e:\n",
    "    type_sklearn_multioutput__MultiOutputEstimator__check_n_features = '_syft_missing'\n",
    "    print('❌ sklearn.multioutput._MultiOutputEstimator._check_n_features: Return unavailable') # noqa E501\n",
    "    print(\"  Please fix this return type code until there is no exception\")\n",
    "    print('  Error:', e)\n"
   ]
  },
  {
   "cell_type": "code",
   "execution_count": null,
   "id": "asian-roman",
   "metadata": {},
   "outputs": [],
   "source": [
    "# sklearn.multioutput._MultiOutputEstimator._get_param_names\n",
    "try:\n",
    "    obj = class_constructor() # noqa F821\n",
    "    ret = obj._get_param_names()\n",
    "    type_sklearn_multioutput__MultiOutputEstimator__get_param_names = getattr(ret, '__module__', 'none') + '.' + ret.__class__.__name__\n",
    "    print('✅ sklearn.multioutput._MultiOutputEstimator._get_param_names: ', type(ret)) # noqa E501\n",
    "except Exception as e:\n",
    "    type_sklearn_multioutput__MultiOutputEstimator__get_param_names = '_syft_missing'\n",
    "    print('❌ sklearn.multioutput._MultiOutputEstimator._get_param_names: Return unavailable') # noqa E501\n",
    "    print(\"  Please fix this return type code until there is no exception\")\n",
    "    print('  Error:', e)\n"
   ]
  },
  {
   "cell_type": "code",
   "execution_count": null,
   "id": "saving-syracuse",
   "metadata": {},
   "outputs": [],
   "source": [
    "# sklearn.multioutput._MultiOutputEstimator._get_tags\n",
    "try:\n",
    "    obj = class_constructor() # noqa F821\n",
    "    ret = obj._get_tags()\n",
    "    type_sklearn_multioutput__MultiOutputEstimator__get_tags = getattr(ret, '__module__', 'none') + '.' + ret.__class__.__name__\n",
    "    print('✅ sklearn.multioutput._MultiOutputEstimator._get_tags: ', type(ret)) # noqa E501\n",
    "except Exception as e:\n",
    "    type_sklearn_multioutput__MultiOutputEstimator__get_tags = '_syft_missing'\n",
    "    print('❌ sklearn.multioutput._MultiOutputEstimator._get_tags: Return unavailable') # noqa E501\n",
    "    print(\"  Please fix this return type code until there is no exception\")\n",
    "    print('  Error:', e)\n"
   ]
  },
  {
   "cell_type": "code",
   "execution_count": null,
   "id": "elder-dallas",
   "metadata": {},
   "outputs": [],
   "source": [
    "# sklearn.multioutput._MultiOutputEstimator._more_tags\n",
    "try:\n",
    "    obj = class_constructor() # noqa F821\n",
    "    ret = obj._more_tags()\n",
    "    type_sklearn_multioutput__MultiOutputEstimator__more_tags = getattr(ret, '__module__', 'none') + '.' + ret.__class__.__name__\n",
    "    print('✅ sklearn.multioutput._MultiOutputEstimator._more_tags: ', type(ret)) # noqa E501\n",
    "except Exception as e:\n",
    "    type_sklearn_multioutput__MultiOutputEstimator__more_tags = '_syft_missing'\n",
    "    print('❌ sklearn.multioutput._MultiOutputEstimator._more_tags: Return unavailable') # noqa E501\n",
    "    print(\"  Please fix this return type code until there is no exception\")\n",
    "    print('  Error:', e)\n"
   ]
  },
  {
   "cell_type": "code",
   "execution_count": null,
   "id": "handled-label",
   "metadata": {},
   "outputs": [],
   "source": [
    "# sklearn.multioutput._MultiOutputEstimator._repr_html_\n",
    "try:\n",
    "    obj = class_constructor()\n",
    "    ret = obj._repr_html_\n",
    "    type_sklearn_multioutput__MultiOutputEstimator__repr_html_ = getattr(ret, '__module__', 'none') + '.' + ret.__class__.__name__\n",
    "    print('✅ sklearn.multioutput._MultiOutputEstimator._repr_html_:', type(ret)) # noqa E501\n",
    "except Exception as e:\n",
    "    type_sklearn_multioutput__MultiOutputEstimator__repr_html_ = '_syft_missing'\n",
    "    print('❌ sklearn.multioutput._MultiOutputEstimator._repr_html_: Return unavailable') # noqa E501\n",
    "    print(\"  Please fix this return type code until there is no exception\")\n",
    "    print('  Error:', e)\n"
   ]
  },
  {
   "cell_type": "code",
   "execution_count": null,
   "id": "eastern-charger",
   "metadata": {},
   "outputs": [],
   "source": [
    "# sklearn.multioutput._MultiOutputEstimator._repr_html_inner\n",
    "try:\n",
    "    obj = class_constructor() # noqa F821\n",
    "    ret = obj._repr_html_inner()\n",
    "    type_sklearn_multioutput__MultiOutputEstimator__repr_html_inner = getattr(ret, '__module__', 'none') + '.' + ret.__class__.__name__\n",
    "    print('✅ sklearn.multioutput._MultiOutputEstimator._repr_html_inner: ', type(ret)) # noqa E501\n",
    "except Exception as e:\n",
    "    type_sklearn_multioutput__MultiOutputEstimator__repr_html_inner = '_syft_missing'\n",
    "    print('❌ sklearn.multioutput._MultiOutputEstimator._repr_html_inner: Return unavailable') # noqa E501\n",
    "    print(\"  Please fix this return type code until there is no exception\")\n",
    "    print('  Error:', e)\n"
   ]
  },
  {
   "cell_type": "code",
   "execution_count": null,
   "id": "experienced-divorce",
   "metadata": {},
   "outputs": [],
   "source": [
    "# sklearn.multioutput._MultiOutputEstimator._repr_mimebundle_\n",
    "try:\n",
    "    obj = class_constructor() # noqa F821\n",
    "    ret = obj._repr_mimebundle_()\n",
    "    type_sklearn_multioutput__MultiOutputEstimator__repr_mimebundle_ = getattr(ret, '__module__', 'none') + '.' + ret.__class__.__name__\n",
    "    print('✅ sklearn.multioutput._MultiOutputEstimator._repr_mimebundle_: ', type(ret)) # noqa E501\n",
    "except Exception as e:\n",
    "    type_sklearn_multioutput__MultiOutputEstimator__repr_mimebundle_ = '_syft_missing'\n",
    "    print('❌ sklearn.multioutput._MultiOutputEstimator._repr_mimebundle_: Return unavailable') # noqa E501\n",
    "    print(\"  Please fix this return type code until there is no exception\")\n",
    "    print('  Error:', e)\n"
   ]
  },
  {
   "cell_type": "code",
   "execution_count": null,
   "id": "designing-stomach",
   "metadata": {},
   "outputs": [],
   "source": [
    "# sklearn.multioutput._MultiOutputEstimator._validate_data\n",
    "try:\n",
    "    obj = class_constructor() # noqa F821\n",
    "    ret = obj._validate_data()\n",
    "    type_sklearn_multioutput__MultiOutputEstimator__validate_data = getattr(ret, '__module__', 'none') + '.' + ret.__class__.__name__\n",
    "    print('✅ sklearn.multioutput._MultiOutputEstimator._validate_data: ', type(ret)) # noqa E501\n",
    "except Exception as e:\n",
    "    type_sklearn_multioutput__MultiOutputEstimator__validate_data = '_syft_missing'\n",
    "    print('❌ sklearn.multioutput._MultiOutputEstimator._validate_data: Return unavailable') # noqa E501\n",
    "    print(\"  Please fix this return type code until there is no exception\")\n",
    "    print('  Error:', e)\n"
   ]
  },
  {
   "cell_type": "code",
   "execution_count": null,
   "id": "union-finland",
   "metadata": {},
   "outputs": [],
   "source": [
    "# sklearn.multioutput._MultiOutputEstimator.fit\n",
    "try:\n",
    "    obj = class_constructor() # noqa F821\n",
    "    ret = obj.fit()\n",
    "    type_sklearn_multioutput__MultiOutputEstimator_fit = getattr(ret, '__module__', 'none') + '.' + ret.__class__.__name__\n",
    "    print('✅ sklearn.multioutput._MultiOutputEstimator.fit: ', type(ret)) # noqa E501\n",
    "except Exception as e:\n",
    "    type_sklearn_multioutput__MultiOutputEstimator_fit = '_syft_missing'\n",
    "    print('❌ sklearn.multioutput._MultiOutputEstimator.fit: Return unavailable') # noqa E501\n",
    "    print(\"  Please fix this return type code until there is no exception\")\n",
    "    print('  Error:', e)\n"
   ]
  },
  {
   "cell_type": "code",
   "execution_count": null,
   "id": "powered-exhaust",
   "metadata": {},
   "outputs": [],
   "source": [
    "# sklearn.multioutput._MultiOutputEstimator.get_params\n",
    "try:\n",
    "    obj = class_constructor() # noqa F821\n",
    "    ret = obj.get_params()\n",
    "    type_sklearn_multioutput__MultiOutputEstimator_get_params = getattr(ret, '__module__', 'none') + '.' + ret.__class__.__name__\n",
    "    print('✅ sklearn.multioutput._MultiOutputEstimator.get_params: ', type(ret)) # noqa E501\n",
    "except Exception as e:\n",
    "    type_sklearn_multioutput__MultiOutputEstimator_get_params = '_syft_missing'\n",
    "    print('❌ sklearn.multioutput._MultiOutputEstimator.get_params: Return unavailable') # noqa E501\n",
    "    print(\"  Please fix this return type code until there is no exception\")\n",
    "    print('  Error:', e)\n"
   ]
  },
  {
   "cell_type": "code",
   "execution_count": null,
   "id": "decreased-photographer",
   "metadata": {},
   "outputs": [],
   "source": [
    "# sklearn.multioutput._MultiOutputEstimator.partial_fit\n",
    "try:\n",
    "    obj = class_constructor() # noqa F821\n",
    "    ret = obj.partial_fit()\n",
    "    type_sklearn_multioutput__MultiOutputEstimator_partial_fit = getattr(ret, '__module__', 'none') + '.' + ret.__class__.__name__\n",
    "    print('✅ sklearn.multioutput._MultiOutputEstimator.partial_fit: ', type(ret)) # noqa E501\n",
    "except Exception as e:\n",
    "    type_sklearn_multioutput__MultiOutputEstimator_partial_fit = '_syft_missing'\n",
    "    print('❌ sklearn.multioutput._MultiOutputEstimator.partial_fit: Return unavailable') # noqa E501\n",
    "    print(\"  Please fix this return type code until there is no exception\")\n",
    "    print('  Error:', e)\n"
   ]
  },
  {
   "cell_type": "code",
   "execution_count": null,
   "id": "minute-sunglasses",
   "metadata": {},
   "outputs": [],
   "source": [
    "# sklearn.multioutput._MultiOutputEstimator.predict\n",
    "try:\n",
    "    obj = class_constructor() # noqa F821\n",
    "    ret = obj.predict()\n",
    "    type_sklearn_multioutput__MultiOutputEstimator_predict = getattr(ret, '__module__', 'none') + '.' + ret.__class__.__name__\n",
    "    print('✅ sklearn.multioutput._MultiOutputEstimator.predict: ', type(ret)) # noqa E501\n",
    "except Exception as e:\n",
    "    type_sklearn_multioutput__MultiOutputEstimator_predict = '_syft_missing'\n",
    "    print('❌ sklearn.multioutput._MultiOutputEstimator.predict: Return unavailable') # noqa E501\n",
    "    print(\"  Please fix this return type code until there is no exception\")\n",
    "    print('  Error:', e)\n"
   ]
  },
  {
   "cell_type": "code",
   "execution_count": null,
   "id": "running-elite",
   "metadata": {},
   "outputs": [],
   "source": [
    "# sklearn.multioutput._MultiOutputEstimator.set_params\n",
    "try:\n",
    "    obj = class_constructor() # noqa F821\n",
    "    ret = obj.set_params()\n",
    "    type_sklearn_multioutput__MultiOutputEstimator_set_params = getattr(ret, '__module__', 'none') + '.' + ret.__class__.__name__\n",
    "    print('✅ sklearn.multioutput._MultiOutputEstimator.set_params: ', type(ret)) # noqa E501\n",
    "except Exception as e:\n",
    "    type_sklearn_multioutput__MultiOutputEstimator_set_params = '_syft_missing'\n",
    "    print('❌ sklearn.multioutput._MultiOutputEstimator.set_params: Return unavailable') # noqa E501\n",
    "    print(\"  Please fix this return type code until there is no exception\")\n",
    "    print('  Error:', e)\n"
   ]
  }
 ],
 "metadata": {},
 "nbformat": 4,
 "nbformat_minor": 5
}
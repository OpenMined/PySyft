{
 "cells": [
  {
   "cell_type": "markdown",
   "id": "sonic-heading",
   "metadata": {},
   "source": [
    "## sklearn.discriminant_analysis.LinearDiscriminantAnalysis"
   ]
  },
  {
   "cell_type": "code",
   "execution_count": null,
   "id": "suspended-offer",
   "metadata": {},
   "outputs": [],
   "source": [
    "import sklearn\n",
    "def class_constructor(*args, **kwargs):\n",
    "    obj = sklearn.discriminant_analysis.LinearDiscriminantAnalysis()\n",
    "    return obj\n"
   ]
  },
  {
   "cell_type": "code",
   "execution_count": null,
   "id": "proud-diabetes",
   "metadata": {},
   "outputs": [],
   "source": [
    "# sklearn.discriminant_analysis.LinearDiscriminantAnalysis.__getstate__\n",
    "try:\n",
    "    obj = class_constructor() # noqa F821\n",
    "    ret = obj.__getstate__()\n",
    "    type_sklearn_discriminant_analysis_LinearDiscriminantAnalysis___getstate__ = getattr(ret, '__module__', 'none') + '.' + ret.__class__.__name__\n",
    "    print('✅ sklearn.discriminant_analysis.LinearDiscriminantAnalysis.__getstate__: ', type(ret)) # noqa E501\n",
    "except Exception as e:\n",
    "    type_sklearn_discriminant_analysis_LinearDiscriminantAnalysis___getstate__ = '_syft_missing'\n",
    "    print('❌ sklearn.discriminant_analysis.LinearDiscriminantAnalysis.__getstate__: Return unavailable') # noqa E501\n",
    "    print(\"  Please fix this return type code until there is no exception\")\n",
    "    print('  Error:', e)\n"
   ]
  },
  {
   "cell_type": "code",
   "execution_count": null,
   "id": "hidden-capacity",
   "metadata": {},
   "outputs": [],
   "source": [
    "# sklearn.discriminant_analysis.LinearDiscriminantAnalysis.__repr__\n",
    "try:\n",
    "    obj = class_constructor() # noqa F821\n",
    "    ret = obj.__repr__()\n",
    "    type_sklearn_discriminant_analysis_LinearDiscriminantAnalysis___repr__ = getattr(ret, '__module__', 'none') + '.' + ret.__class__.__name__\n",
    "    print('✅ sklearn.discriminant_analysis.LinearDiscriminantAnalysis.__repr__: ', type(ret)) # noqa E501\n",
    "except Exception as e:\n",
    "    type_sklearn_discriminant_analysis_LinearDiscriminantAnalysis___repr__ = '_syft_missing'\n",
    "    print('❌ sklearn.discriminant_analysis.LinearDiscriminantAnalysis.__repr__: Return unavailable') # noqa E501\n",
    "    print(\"  Please fix this return type code until there is no exception\")\n",
    "    print('  Error:', e)\n"
   ]
  },
  {
   "cell_type": "code",
   "execution_count": null,
   "id": "median-effect",
   "metadata": {},
   "outputs": [],
   "source": [
    "# sklearn.discriminant_analysis.LinearDiscriminantAnalysis.__setstate__\n",
    "try:\n",
    "    obj = class_constructor() # noqa F821\n",
    "    ret = obj.__setstate__()\n",
    "    type_sklearn_discriminant_analysis_LinearDiscriminantAnalysis___setstate__ = getattr(ret, '__module__', 'none') + '.' + ret.__class__.__name__\n",
    "    print('✅ sklearn.discriminant_analysis.LinearDiscriminantAnalysis.__setstate__: ', type(ret)) # noqa E501\n",
    "except Exception as e:\n",
    "    type_sklearn_discriminant_analysis_LinearDiscriminantAnalysis___setstate__ = '_syft_missing'\n",
    "    print('❌ sklearn.discriminant_analysis.LinearDiscriminantAnalysis.__setstate__: Return unavailable') # noqa E501\n",
    "    print(\"  Please fix this return type code until there is no exception\")\n",
    "    print('  Error:', e)\n"
   ]
  },
  {
   "cell_type": "code",
   "execution_count": null,
   "id": "useful-likelihood",
   "metadata": {},
   "outputs": [],
   "source": [
    "# sklearn.discriminant_analysis.LinearDiscriminantAnalysis._check_n_features\n",
    "try:\n",
    "    obj = class_constructor() # noqa F821\n",
    "    ret = obj._check_n_features()\n",
    "    type_sklearn_discriminant_analysis_LinearDiscriminantAnalysis__check_n_features = getattr(ret, '__module__', 'none') + '.' + ret.__class__.__name__\n",
    "    print('✅ sklearn.discriminant_analysis.LinearDiscriminantAnalysis._check_n_features: ', type(ret)) # noqa E501\n",
    "except Exception as e:\n",
    "    type_sklearn_discriminant_analysis_LinearDiscriminantAnalysis__check_n_features = '_syft_missing'\n",
    "    print('❌ sklearn.discriminant_analysis.LinearDiscriminantAnalysis._check_n_features: Return unavailable') # noqa E501\n",
    "    print(\"  Please fix this return type code until there is no exception\")\n",
    "    print('  Error:', e)\n"
   ]
  },
  {
   "cell_type": "code",
   "execution_count": null,
   "id": "laughing-amateur",
   "metadata": {},
   "outputs": [],
   "source": [
    "# sklearn.discriminant_analysis.LinearDiscriminantAnalysis._get_param_names\n",
    "try:\n",
    "    obj = class_constructor() # noqa F821\n",
    "    ret = obj._get_param_names()\n",
    "    type_sklearn_discriminant_analysis_LinearDiscriminantAnalysis__get_param_names = getattr(ret, '__module__', 'none') + '.' + ret.__class__.__name__\n",
    "    print('✅ sklearn.discriminant_analysis.LinearDiscriminantAnalysis._get_param_names: ', type(ret)) # noqa E501\n",
    "except Exception as e:\n",
    "    type_sklearn_discriminant_analysis_LinearDiscriminantAnalysis__get_param_names = '_syft_missing'\n",
    "    print('❌ sklearn.discriminant_analysis.LinearDiscriminantAnalysis._get_param_names: Return unavailable') # noqa E501\n",
    "    print(\"  Please fix this return type code until there is no exception\")\n",
    "    print('  Error:', e)\n"
   ]
  },
  {
   "cell_type": "code",
   "execution_count": null,
   "id": "altered-cement",
   "metadata": {},
   "outputs": [],
   "source": [
    "# sklearn.discriminant_analysis.LinearDiscriminantAnalysis._get_tags\n",
    "try:\n",
    "    obj = class_constructor() # noqa F821\n",
    "    ret = obj._get_tags()\n",
    "    type_sklearn_discriminant_analysis_LinearDiscriminantAnalysis__get_tags = getattr(ret, '__module__', 'none') + '.' + ret.__class__.__name__\n",
    "    print('✅ sklearn.discriminant_analysis.LinearDiscriminantAnalysis._get_tags: ', type(ret)) # noqa E501\n",
    "except Exception as e:\n",
    "    type_sklearn_discriminant_analysis_LinearDiscriminantAnalysis__get_tags = '_syft_missing'\n",
    "    print('❌ sklearn.discriminant_analysis.LinearDiscriminantAnalysis._get_tags: Return unavailable') # noqa E501\n",
    "    print(\"  Please fix this return type code until there is no exception\")\n",
    "    print('  Error:', e)\n"
   ]
  },
  {
   "cell_type": "code",
   "execution_count": null,
   "id": "unknown-classroom",
   "metadata": {},
   "outputs": [],
   "source": [
    "# sklearn.discriminant_analysis.LinearDiscriminantAnalysis._more_tags\n",
    "try:\n",
    "    obj = class_constructor() # noqa F821\n",
    "    ret = obj._more_tags()\n",
    "    type_sklearn_discriminant_analysis_LinearDiscriminantAnalysis__more_tags = getattr(ret, '__module__', 'none') + '.' + ret.__class__.__name__\n",
    "    print('✅ sklearn.discriminant_analysis.LinearDiscriminantAnalysis._more_tags: ', type(ret)) # noqa E501\n",
    "except Exception as e:\n",
    "    type_sklearn_discriminant_analysis_LinearDiscriminantAnalysis__more_tags = '_syft_missing'\n",
    "    print('❌ sklearn.discriminant_analysis.LinearDiscriminantAnalysis._more_tags: Return unavailable') # noqa E501\n",
    "    print(\"  Please fix this return type code until there is no exception\")\n",
    "    print('  Error:', e)\n"
   ]
  },
  {
   "cell_type": "code",
   "execution_count": null,
   "id": "subject-penny",
   "metadata": {},
   "outputs": [],
   "source": [
    "# sklearn.discriminant_analysis.LinearDiscriminantAnalysis._predict_proba_lr\n",
    "try:\n",
    "    obj = class_constructor() # noqa F821\n",
    "    ret = obj._predict_proba_lr()\n",
    "    type_sklearn_discriminant_analysis_LinearDiscriminantAnalysis__predict_proba_lr = getattr(ret, '__module__', 'none') + '.' + ret.__class__.__name__\n",
    "    print('✅ sklearn.discriminant_analysis.LinearDiscriminantAnalysis._predict_proba_lr: ', type(ret)) # noqa E501\n",
    "except Exception as e:\n",
    "    type_sklearn_discriminant_analysis_LinearDiscriminantAnalysis__predict_proba_lr = '_syft_missing'\n",
    "    print('❌ sklearn.discriminant_analysis.LinearDiscriminantAnalysis._predict_proba_lr: Return unavailable') # noqa E501\n",
    "    print(\"  Please fix this return type code until there is no exception\")\n",
    "    print('  Error:', e)\n"
   ]
  },
  {
   "cell_type": "code",
   "execution_count": null,
   "id": "annoying-effectiveness",
   "metadata": {},
   "outputs": [],
   "source": [
    "# sklearn.discriminant_analysis.LinearDiscriminantAnalysis._repr_html_\n",
    "try:\n",
    "    obj = class_constructor()\n",
    "    ret = obj._repr_html_\n",
    "    type_sklearn_discriminant_analysis_LinearDiscriminantAnalysis__repr_html_ = getattr(ret, '__module__', 'none') + '.' + ret.__class__.__name__\n",
    "    print('✅ sklearn.discriminant_analysis.LinearDiscriminantAnalysis._repr_html_:', type(ret)) # noqa E501\n",
    "except Exception as e:\n",
    "    type_sklearn_discriminant_analysis_LinearDiscriminantAnalysis__repr_html_ = '_syft_missing'\n",
    "    print('❌ sklearn.discriminant_analysis.LinearDiscriminantAnalysis._repr_html_: Return unavailable') # noqa E501\n",
    "    print(\"  Please fix this return type code until there is no exception\")\n",
    "    print('  Error:', e)\n"
   ]
  },
  {
   "cell_type": "code",
   "execution_count": null,
   "id": "similar-advance",
   "metadata": {},
   "outputs": [],
   "source": [
    "# sklearn.discriminant_analysis.LinearDiscriminantAnalysis._repr_html_inner\n",
    "try:\n",
    "    obj = class_constructor() # noqa F821\n",
    "    ret = obj._repr_html_inner()\n",
    "    type_sklearn_discriminant_analysis_LinearDiscriminantAnalysis__repr_html_inner = getattr(ret, '__module__', 'none') + '.' + ret.__class__.__name__\n",
    "    print('✅ sklearn.discriminant_analysis.LinearDiscriminantAnalysis._repr_html_inner: ', type(ret)) # noqa E501\n",
    "except Exception as e:\n",
    "    type_sklearn_discriminant_analysis_LinearDiscriminantAnalysis__repr_html_inner = '_syft_missing'\n",
    "    print('❌ sklearn.discriminant_analysis.LinearDiscriminantAnalysis._repr_html_inner: Return unavailable') # noqa E501\n",
    "    print(\"  Please fix this return type code until there is no exception\")\n",
    "    print('  Error:', e)\n"
   ]
  },
  {
   "cell_type": "code",
   "execution_count": null,
   "id": "incoming-perry",
   "metadata": {},
   "outputs": [],
   "source": [
    "# sklearn.discriminant_analysis.LinearDiscriminantAnalysis._repr_mimebundle_\n",
    "try:\n",
    "    obj = class_constructor() # noqa F821\n",
    "    ret = obj._repr_mimebundle_()\n",
    "    type_sklearn_discriminant_analysis_LinearDiscriminantAnalysis__repr_mimebundle_ = getattr(ret, '__module__', 'none') + '.' + ret.__class__.__name__\n",
    "    print('✅ sklearn.discriminant_analysis.LinearDiscriminantAnalysis._repr_mimebundle_: ', type(ret)) # noqa E501\n",
    "except Exception as e:\n",
    "    type_sklearn_discriminant_analysis_LinearDiscriminantAnalysis__repr_mimebundle_ = '_syft_missing'\n",
    "    print('❌ sklearn.discriminant_analysis.LinearDiscriminantAnalysis._repr_mimebundle_: Return unavailable') # noqa E501\n",
    "    print(\"  Please fix this return type code until there is no exception\")\n",
    "    print('  Error:', e)\n"
   ]
  },
  {
   "cell_type": "code",
   "execution_count": null,
   "id": "existing-tulsa",
   "metadata": {},
   "outputs": [],
   "source": [
    "# sklearn.discriminant_analysis.LinearDiscriminantAnalysis._solve_eigen\n",
    "try:\n",
    "    obj = class_constructor() # noqa F821\n",
    "    ret = obj._solve_eigen()\n",
    "    type_sklearn_discriminant_analysis_LinearDiscriminantAnalysis__solve_eigen = getattr(ret, '__module__', 'none') + '.' + ret.__class__.__name__\n",
    "    print('✅ sklearn.discriminant_analysis.LinearDiscriminantAnalysis._solve_eigen: ', type(ret)) # noqa E501\n",
    "except Exception as e:\n",
    "    type_sklearn_discriminant_analysis_LinearDiscriminantAnalysis__solve_eigen = '_syft_missing'\n",
    "    print('❌ sklearn.discriminant_analysis.LinearDiscriminantAnalysis._solve_eigen: Return unavailable') # noqa E501\n",
    "    print(\"  Please fix this return type code until there is no exception\")\n",
    "    print('  Error:', e)\n"
   ]
  },
  {
   "cell_type": "code",
   "execution_count": null,
   "id": "reflected-operations",
   "metadata": {},
   "outputs": [],
   "source": [
    "# sklearn.discriminant_analysis.LinearDiscriminantAnalysis._solve_lsqr\n",
    "try:\n",
    "    obj = class_constructor() # noqa F821\n",
    "    ret = obj._solve_lsqr()\n",
    "    type_sklearn_discriminant_analysis_LinearDiscriminantAnalysis__solve_lsqr = getattr(ret, '__module__', 'none') + '.' + ret.__class__.__name__\n",
    "    print('✅ sklearn.discriminant_analysis.LinearDiscriminantAnalysis._solve_lsqr: ', type(ret)) # noqa E501\n",
    "except Exception as e:\n",
    "    type_sklearn_discriminant_analysis_LinearDiscriminantAnalysis__solve_lsqr = '_syft_missing'\n",
    "    print('❌ sklearn.discriminant_analysis.LinearDiscriminantAnalysis._solve_lsqr: Return unavailable') # noqa E501\n",
    "    print(\"  Please fix this return type code until there is no exception\")\n",
    "    print('  Error:', e)\n"
   ]
  },
  {
   "cell_type": "code",
   "execution_count": null,
   "id": "automatic-university",
   "metadata": {},
   "outputs": [],
   "source": [
    "# sklearn.discriminant_analysis.LinearDiscriminantAnalysis._solve_svd\n",
    "try:\n",
    "    obj = class_constructor() # noqa F821\n",
    "    ret = obj._solve_svd()\n",
    "    type_sklearn_discriminant_analysis_LinearDiscriminantAnalysis__solve_svd = getattr(ret, '__module__', 'none') + '.' + ret.__class__.__name__\n",
    "    print('✅ sklearn.discriminant_analysis.LinearDiscriminantAnalysis._solve_svd: ', type(ret)) # noqa E501\n",
    "except Exception as e:\n",
    "    type_sklearn_discriminant_analysis_LinearDiscriminantAnalysis__solve_svd = '_syft_missing'\n",
    "    print('❌ sklearn.discriminant_analysis.LinearDiscriminantAnalysis._solve_svd: Return unavailable') # noqa E501\n",
    "    print(\"  Please fix this return type code until there is no exception\")\n",
    "    print('  Error:', e)\n"
   ]
  },
  {
   "cell_type": "code",
   "execution_count": null,
   "id": "typical-forth",
   "metadata": {},
   "outputs": [],
   "source": [
    "# sklearn.discriminant_analysis.LinearDiscriminantAnalysis._validate_data\n",
    "try:\n",
    "    obj = class_constructor() # noqa F821\n",
    "    ret = obj._validate_data()\n",
    "    type_sklearn_discriminant_analysis_LinearDiscriminantAnalysis__validate_data = getattr(ret, '__module__', 'none') + '.' + ret.__class__.__name__\n",
    "    print('✅ sklearn.discriminant_analysis.LinearDiscriminantAnalysis._validate_data: ', type(ret)) # noqa E501\n",
    "except Exception as e:\n",
    "    type_sklearn_discriminant_analysis_LinearDiscriminantAnalysis__validate_data = '_syft_missing'\n",
    "    print('❌ sklearn.discriminant_analysis.LinearDiscriminantAnalysis._validate_data: Return unavailable') # noqa E501\n",
    "    print(\"  Please fix this return type code until there is no exception\")\n",
    "    print('  Error:', e)\n"
   ]
  },
  {
   "cell_type": "code",
   "execution_count": null,
   "id": "conventional-observation",
   "metadata": {},
   "outputs": [],
   "source": [
    "# sklearn.discriminant_analysis.LinearDiscriminantAnalysis.decision_function\n",
    "try:\n",
    "    obj = class_constructor() # noqa F821\n",
    "    ret = obj.decision_function()\n",
    "    type_sklearn_discriminant_analysis_LinearDiscriminantAnalysis_decision_function = getattr(ret, '__module__', 'none') + '.' + ret.__class__.__name__\n",
    "    print('✅ sklearn.discriminant_analysis.LinearDiscriminantAnalysis.decision_function: ', type(ret)) # noqa E501\n",
    "except Exception as e:\n",
    "    type_sklearn_discriminant_analysis_LinearDiscriminantAnalysis_decision_function = '_syft_missing'\n",
    "    print('❌ sklearn.discriminant_analysis.LinearDiscriminantAnalysis.decision_function: Return unavailable') # noqa E501\n",
    "    print(\"  Please fix this return type code until there is no exception\")\n",
    "    print('  Error:', e)\n"
   ]
  },
  {
   "cell_type": "code",
   "execution_count": null,
   "id": "compressed-recipient",
   "metadata": {},
   "outputs": [],
   "source": [
    "# sklearn.discriminant_analysis.LinearDiscriminantAnalysis.fit\n",
    "try:\n",
    "    obj = class_constructor() # noqa F821\n",
    "    ret = obj.fit()\n",
    "    type_sklearn_discriminant_analysis_LinearDiscriminantAnalysis_fit = getattr(ret, '__module__', 'none') + '.' + ret.__class__.__name__\n",
    "    print('✅ sklearn.discriminant_analysis.LinearDiscriminantAnalysis.fit: ', type(ret)) # noqa E501\n",
    "except Exception as e:\n",
    "    type_sklearn_discriminant_analysis_LinearDiscriminantAnalysis_fit = '_syft_missing'\n",
    "    print('❌ sklearn.discriminant_analysis.LinearDiscriminantAnalysis.fit: Return unavailable') # noqa E501\n",
    "    print(\"  Please fix this return type code until there is no exception\")\n",
    "    print('  Error:', e)\n"
   ]
  },
  {
   "cell_type": "code",
   "execution_count": null,
   "id": "complimentary-exhibition",
   "metadata": {},
   "outputs": [],
   "source": [
    "# sklearn.discriminant_analysis.LinearDiscriminantAnalysis.fit_transform\n",
    "try:\n",
    "    obj = class_constructor() # noqa F821\n",
    "    ret = obj.fit_transform()\n",
    "    type_sklearn_discriminant_analysis_LinearDiscriminantAnalysis_fit_transform = getattr(ret, '__module__', 'none') + '.' + ret.__class__.__name__\n",
    "    print('✅ sklearn.discriminant_analysis.LinearDiscriminantAnalysis.fit_transform: ', type(ret)) # noqa E501\n",
    "except Exception as e:\n",
    "    type_sklearn_discriminant_analysis_LinearDiscriminantAnalysis_fit_transform = '_syft_missing'\n",
    "    print('❌ sklearn.discriminant_analysis.LinearDiscriminantAnalysis.fit_transform: Return unavailable') # noqa E501\n",
    "    print(\"  Please fix this return type code until there is no exception\")\n",
    "    print('  Error:', e)\n"
   ]
  },
  {
   "cell_type": "code",
   "execution_count": null,
   "id": "cheap-range",
   "metadata": {},
   "outputs": [],
   "source": [
    "# sklearn.discriminant_analysis.LinearDiscriminantAnalysis.get_params\n",
    "try:\n",
    "    obj = class_constructor() # noqa F821\n",
    "    ret = obj.get_params()\n",
    "    type_sklearn_discriminant_analysis_LinearDiscriminantAnalysis_get_params = getattr(ret, '__module__', 'none') + '.' + ret.__class__.__name__\n",
    "    print('✅ sklearn.discriminant_analysis.LinearDiscriminantAnalysis.get_params: ', type(ret)) # noqa E501\n",
    "except Exception as e:\n",
    "    type_sklearn_discriminant_analysis_LinearDiscriminantAnalysis_get_params = '_syft_missing'\n",
    "    print('❌ sklearn.discriminant_analysis.LinearDiscriminantAnalysis.get_params: Return unavailable') # noqa E501\n",
    "    print(\"  Please fix this return type code until there is no exception\")\n",
    "    print('  Error:', e)\n"
   ]
  },
  {
   "cell_type": "code",
   "execution_count": null,
   "id": "sensitive-madonna",
   "metadata": {},
   "outputs": [],
   "source": [
    "# sklearn.discriminant_analysis.LinearDiscriminantAnalysis.predict\n",
    "try:\n",
    "    obj = class_constructor() # noqa F821\n",
    "    ret = obj.predict()\n",
    "    type_sklearn_discriminant_analysis_LinearDiscriminantAnalysis_predict = getattr(ret, '__module__', 'none') + '.' + ret.__class__.__name__\n",
    "    print('✅ sklearn.discriminant_analysis.LinearDiscriminantAnalysis.predict: ', type(ret)) # noqa E501\n",
    "except Exception as e:\n",
    "    type_sklearn_discriminant_analysis_LinearDiscriminantAnalysis_predict = '_syft_missing'\n",
    "    print('❌ sklearn.discriminant_analysis.LinearDiscriminantAnalysis.predict: Return unavailable') # noqa E501\n",
    "    print(\"  Please fix this return type code until there is no exception\")\n",
    "    print('  Error:', e)\n"
   ]
  },
  {
   "cell_type": "code",
   "execution_count": null,
   "id": "neural-pendant",
   "metadata": {},
   "outputs": [],
   "source": [
    "# sklearn.discriminant_analysis.LinearDiscriminantAnalysis.predict_log_proba\n",
    "try:\n",
    "    obj = class_constructor() # noqa F821\n",
    "    ret = obj.predict_log_proba()\n",
    "    type_sklearn_discriminant_analysis_LinearDiscriminantAnalysis_predict_log_proba = getattr(ret, '__module__', 'none') + '.' + ret.__class__.__name__\n",
    "    print('✅ sklearn.discriminant_analysis.LinearDiscriminantAnalysis.predict_log_proba: ', type(ret)) # noqa E501\n",
    "except Exception as e:\n",
    "    type_sklearn_discriminant_analysis_LinearDiscriminantAnalysis_predict_log_proba = '_syft_missing'\n",
    "    print('❌ sklearn.discriminant_analysis.LinearDiscriminantAnalysis.predict_log_proba: Return unavailable') # noqa E501\n",
    "    print(\"  Please fix this return type code until there is no exception\")\n",
    "    print('  Error:', e)\n"
   ]
  },
  {
   "cell_type": "code",
   "execution_count": null,
   "id": "removable-theta",
   "metadata": {},
   "outputs": [],
   "source": [
    "# sklearn.discriminant_analysis.LinearDiscriminantAnalysis.predict_proba\n",
    "try:\n",
    "    obj = class_constructor() # noqa F821\n",
    "    ret = obj.predict_proba()\n",
    "    type_sklearn_discriminant_analysis_LinearDiscriminantAnalysis_predict_proba = getattr(ret, '__module__', 'none') + '.' + ret.__class__.__name__\n",
    "    print('✅ sklearn.discriminant_analysis.LinearDiscriminantAnalysis.predict_proba: ', type(ret)) # noqa E501\n",
    "except Exception as e:\n",
    "    type_sklearn_discriminant_analysis_LinearDiscriminantAnalysis_predict_proba = '_syft_missing'\n",
    "    print('❌ sklearn.discriminant_analysis.LinearDiscriminantAnalysis.predict_proba: Return unavailable') # noqa E501\n",
    "    print(\"  Please fix this return type code until there is no exception\")\n",
    "    print('  Error:', e)\n"
   ]
  },
  {
   "cell_type": "code",
   "execution_count": null,
   "id": "limiting-isaac",
   "metadata": {},
   "outputs": [],
   "source": [
    "# sklearn.discriminant_analysis.LinearDiscriminantAnalysis.score\n",
    "try:\n",
    "    obj = class_constructor() # noqa F821\n",
    "    ret = obj.score()\n",
    "    type_sklearn_discriminant_analysis_LinearDiscriminantAnalysis_score = getattr(ret, '__module__', 'none') + '.' + ret.__class__.__name__\n",
    "    print('✅ sklearn.discriminant_analysis.LinearDiscriminantAnalysis.score: ', type(ret)) # noqa E501\n",
    "except Exception as e:\n",
    "    type_sklearn_discriminant_analysis_LinearDiscriminantAnalysis_score = '_syft_missing'\n",
    "    print('❌ sklearn.discriminant_analysis.LinearDiscriminantAnalysis.score: Return unavailable') # noqa E501\n",
    "    print(\"  Please fix this return type code until there is no exception\")\n",
    "    print('  Error:', e)\n"
   ]
  },
  {
   "cell_type": "code",
   "execution_count": null,
   "id": "southeast-sapphire",
   "metadata": {},
   "outputs": [],
   "source": [
    "# sklearn.discriminant_analysis.LinearDiscriminantAnalysis.set_params\n",
    "try:\n",
    "    obj = class_constructor() # noqa F821\n",
    "    ret = obj.set_params()\n",
    "    type_sklearn_discriminant_analysis_LinearDiscriminantAnalysis_set_params = getattr(ret, '__module__', 'none') + '.' + ret.__class__.__name__\n",
    "    print('✅ sklearn.discriminant_analysis.LinearDiscriminantAnalysis.set_params: ', type(ret)) # noqa E501\n",
    "except Exception as e:\n",
    "    type_sklearn_discriminant_analysis_LinearDiscriminantAnalysis_set_params = '_syft_missing'\n",
    "    print('❌ sklearn.discriminant_analysis.LinearDiscriminantAnalysis.set_params: Return unavailable') # noqa E501\n",
    "    print(\"  Please fix this return type code until there is no exception\")\n",
    "    print('  Error:', e)\n"
   ]
  },
  {
   "cell_type": "code",
   "execution_count": null,
   "id": "foster-bowling",
   "metadata": {},
   "outputs": [],
   "source": [
    "# sklearn.discriminant_analysis.LinearDiscriminantAnalysis.transform\n",
    "try:\n",
    "    obj = class_constructor() # noqa F821\n",
    "    ret = obj.transform()\n",
    "    type_sklearn_discriminant_analysis_LinearDiscriminantAnalysis_transform = getattr(ret, '__module__', 'none') + '.' + ret.__class__.__name__\n",
    "    print('✅ sklearn.discriminant_analysis.LinearDiscriminantAnalysis.transform: ', type(ret)) # noqa E501\n",
    "except Exception as e:\n",
    "    type_sklearn_discriminant_analysis_LinearDiscriminantAnalysis_transform = '_syft_missing'\n",
    "    print('❌ sklearn.discriminant_analysis.LinearDiscriminantAnalysis.transform: Return unavailable') # noqa E501\n",
    "    print(\"  Please fix this return type code until there is no exception\")\n",
    "    print('  Error:', e)\n"
   ]
  }
 ],
 "metadata": {},
 "nbformat": 4,
 "nbformat_minor": 5
}
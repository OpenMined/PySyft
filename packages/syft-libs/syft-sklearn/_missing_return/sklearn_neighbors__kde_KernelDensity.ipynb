{
 "cells": [
  {
   "cell_type": "markdown",
   "id": "mighty-defendant",
   "metadata": {},
   "source": [
    "## sklearn.neighbors._kde.KernelDensity"
   ]
  },
  {
   "cell_type": "code",
   "execution_count": null,
   "id": "rational-airline",
   "metadata": {},
   "outputs": [],
   "source": [
    "import sklearn\n",
    "def class_constructor(*args, **kwargs):\n",
    "    obj = sklearn.neighbors._kde.KernelDensity()\n",
    "    return obj\n"
   ]
  },
  {
   "cell_type": "code",
   "execution_count": null,
   "id": "macro-station",
   "metadata": {},
   "outputs": [],
   "source": [
    "# sklearn.neighbors._kde.KernelDensity.__getstate__\n",
    "try:\n",
    "    obj = class_constructor() # noqa F821\n",
    "    ret = obj.__getstate__()\n",
    "    type_sklearn_neighbors__kde_KernelDensity___getstate__ = getattr(ret, '__module__', 'none') + '.' + ret.__class__.__name__\n",
    "    print('✅ sklearn.neighbors._kde.KernelDensity.__getstate__: ', type(ret)) # noqa E501\n",
    "except Exception as e:\n",
    "    type_sklearn_neighbors__kde_KernelDensity___getstate__ = '_syft_missing'\n",
    "    print('❌ sklearn.neighbors._kde.KernelDensity.__getstate__: Return unavailable') # noqa E501\n",
    "    print(\"  Please fix this return type code until there is no exception\")\n",
    "    print('  Error:', e)\n"
   ]
  },
  {
   "cell_type": "code",
   "execution_count": null,
   "id": "viral-accident",
   "metadata": {},
   "outputs": [],
   "source": [
    "# sklearn.neighbors._kde.KernelDensity.__repr__\n",
    "try:\n",
    "    obj = class_constructor() # noqa F821\n",
    "    ret = obj.__repr__()\n",
    "    type_sklearn_neighbors__kde_KernelDensity___repr__ = getattr(ret, '__module__', 'none') + '.' + ret.__class__.__name__\n",
    "    print('✅ sklearn.neighbors._kde.KernelDensity.__repr__: ', type(ret)) # noqa E501\n",
    "except Exception as e:\n",
    "    type_sklearn_neighbors__kde_KernelDensity___repr__ = '_syft_missing'\n",
    "    print('❌ sklearn.neighbors._kde.KernelDensity.__repr__: Return unavailable') # noqa E501\n",
    "    print(\"  Please fix this return type code until there is no exception\")\n",
    "    print('  Error:', e)\n"
   ]
  },
  {
   "cell_type": "code",
   "execution_count": null,
   "id": "metallic-payment",
   "metadata": {},
   "outputs": [],
   "source": [
    "# sklearn.neighbors._kde.KernelDensity.__setstate__\n",
    "try:\n",
    "    obj = class_constructor() # noqa F821\n",
    "    ret = obj.__setstate__()\n",
    "    type_sklearn_neighbors__kde_KernelDensity___setstate__ = getattr(ret, '__module__', 'none') + '.' + ret.__class__.__name__\n",
    "    print('✅ sklearn.neighbors._kde.KernelDensity.__setstate__: ', type(ret)) # noqa E501\n",
    "except Exception as e:\n",
    "    type_sklearn_neighbors__kde_KernelDensity___setstate__ = '_syft_missing'\n",
    "    print('❌ sklearn.neighbors._kde.KernelDensity.__setstate__: Return unavailable') # noqa E501\n",
    "    print(\"  Please fix this return type code until there is no exception\")\n",
    "    print('  Error:', e)\n"
   ]
  },
  {
   "cell_type": "code",
   "execution_count": null,
   "id": "gothic-taxation",
   "metadata": {},
   "outputs": [],
   "source": [
    "# sklearn.neighbors._kde.KernelDensity._check_n_features\n",
    "try:\n",
    "    obj = class_constructor() # noqa F821\n",
    "    ret = obj._check_n_features()\n",
    "    type_sklearn_neighbors__kde_KernelDensity__check_n_features = getattr(ret, '__module__', 'none') + '.' + ret.__class__.__name__\n",
    "    print('✅ sklearn.neighbors._kde.KernelDensity._check_n_features: ', type(ret)) # noqa E501\n",
    "except Exception as e:\n",
    "    type_sklearn_neighbors__kde_KernelDensity__check_n_features = '_syft_missing'\n",
    "    print('❌ sklearn.neighbors._kde.KernelDensity._check_n_features: Return unavailable') # noqa E501\n",
    "    print(\"  Please fix this return type code until there is no exception\")\n",
    "    print('  Error:', e)\n"
   ]
  },
  {
   "cell_type": "code",
   "execution_count": null,
   "id": "careful-season",
   "metadata": {},
   "outputs": [],
   "source": [
    "# sklearn.neighbors._kde.KernelDensity._choose_algorithm\n",
    "try:\n",
    "    obj = class_constructor() # noqa F821\n",
    "    ret = obj._choose_algorithm()\n",
    "    type_sklearn_neighbors__kde_KernelDensity__choose_algorithm = getattr(ret, '__module__', 'none') + '.' + ret.__class__.__name__\n",
    "    print('✅ sklearn.neighbors._kde.KernelDensity._choose_algorithm: ', type(ret)) # noqa E501\n",
    "except Exception as e:\n",
    "    type_sklearn_neighbors__kde_KernelDensity__choose_algorithm = '_syft_missing'\n",
    "    print('❌ sklearn.neighbors._kde.KernelDensity._choose_algorithm: Return unavailable') # noqa E501\n",
    "    print(\"  Please fix this return type code until there is no exception\")\n",
    "    print('  Error:', e)\n"
   ]
  },
  {
   "cell_type": "code",
   "execution_count": null,
   "id": "egyptian-galaxy",
   "metadata": {},
   "outputs": [],
   "source": [
    "# sklearn.neighbors._kde.KernelDensity._get_param_names\n",
    "try:\n",
    "    obj = class_constructor() # noqa F821\n",
    "    ret = obj._get_param_names()\n",
    "    type_sklearn_neighbors__kde_KernelDensity__get_param_names = getattr(ret, '__module__', 'none') + '.' + ret.__class__.__name__\n",
    "    print('✅ sklearn.neighbors._kde.KernelDensity._get_param_names: ', type(ret)) # noqa E501\n",
    "except Exception as e:\n",
    "    type_sklearn_neighbors__kde_KernelDensity__get_param_names = '_syft_missing'\n",
    "    print('❌ sklearn.neighbors._kde.KernelDensity._get_param_names: Return unavailable') # noqa E501\n",
    "    print(\"  Please fix this return type code until there is no exception\")\n",
    "    print('  Error:', e)\n"
   ]
  },
  {
   "cell_type": "code",
   "execution_count": null,
   "id": "cloudy-steering",
   "metadata": {},
   "outputs": [],
   "source": [
    "# sklearn.neighbors._kde.KernelDensity._get_tags\n",
    "try:\n",
    "    obj = class_constructor() # noqa F821\n",
    "    ret = obj._get_tags()\n",
    "    type_sklearn_neighbors__kde_KernelDensity__get_tags = getattr(ret, '__module__', 'none') + '.' + ret.__class__.__name__\n",
    "    print('✅ sklearn.neighbors._kde.KernelDensity._get_tags: ', type(ret)) # noqa E501\n",
    "except Exception as e:\n",
    "    type_sklearn_neighbors__kde_KernelDensity__get_tags = '_syft_missing'\n",
    "    print('❌ sklearn.neighbors._kde.KernelDensity._get_tags: Return unavailable') # noqa E501\n",
    "    print(\"  Please fix this return type code until there is no exception\")\n",
    "    print('  Error:', e)\n"
   ]
  },
  {
   "cell_type": "code",
   "execution_count": null,
   "id": "respected-rover",
   "metadata": {},
   "outputs": [],
   "source": [
    "# sklearn.neighbors._kde.KernelDensity._more_tags\n",
    "try:\n",
    "    obj = class_constructor() # noqa F821\n",
    "    ret = obj._more_tags()\n",
    "    type_sklearn_neighbors__kde_KernelDensity__more_tags = getattr(ret, '__module__', 'none') + '.' + ret.__class__.__name__\n",
    "    print('✅ sklearn.neighbors._kde.KernelDensity._more_tags: ', type(ret)) # noqa E501\n",
    "except Exception as e:\n",
    "    type_sklearn_neighbors__kde_KernelDensity__more_tags = '_syft_missing'\n",
    "    print('❌ sklearn.neighbors._kde.KernelDensity._more_tags: Return unavailable') # noqa E501\n",
    "    print(\"  Please fix this return type code until there is no exception\")\n",
    "    print('  Error:', e)\n"
   ]
  },
  {
   "cell_type": "code",
   "execution_count": null,
   "id": "formal-clinton",
   "metadata": {},
   "outputs": [],
   "source": [
    "# sklearn.neighbors._kde.KernelDensity._repr_html_\n",
    "try:\n",
    "    obj = class_constructor()\n",
    "    ret = obj._repr_html_\n",
    "    type_sklearn_neighbors__kde_KernelDensity__repr_html_ = getattr(ret, '__module__', 'none') + '.' + ret.__class__.__name__\n",
    "    print('✅ sklearn.neighbors._kde.KernelDensity._repr_html_:', type(ret)) # noqa E501\n",
    "except Exception as e:\n",
    "    type_sklearn_neighbors__kde_KernelDensity__repr_html_ = '_syft_missing'\n",
    "    print('❌ sklearn.neighbors._kde.KernelDensity._repr_html_: Return unavailable') # noqa E501\n",
    "    print(\"  Please fix this return type code until there is no exception\")\n",
    "    print('  Error:', e)\n"
   ]
  },
  {
   "cell_type": "code",
   "execution_count": null,
   "id": "preceding-island",
   "metadata": {},
   "outputs": [],
   "source": [
    "# sklearn.neighbors._kde.KernelDensity._repr_html_inner\n",
    "try:\n",
    "    obj = class_constructor() # noqa F821\n",
    "    ret = obj._repr_html_inner()\n",
    "    type_sklearn_neighbors__kde_KernelDensity__repr_html_inner = getattr(ret, '__module__', 'none') + '.' + ret.__class__.__name__\n",
    "    print('✅ sklearn.neighbors._kde.KernelDensity._repr_html_inner: ', type(ret)) # noqa E501\n",
    "except Exception as e:\n",
    "    type_sklearn_neighbors__kde_KernelDensity__repr_html_inner = '_syft_missing'\n",
    "    print('❌ sklearn.neighbors._kde.KernelDensity._repr_html_inner: Return unavailable') # noqa E501\n",
    "    print(\"  Please fix this return type code until there is no exception\")\n",
    "    print('  Error:', e)\n"
   ]
  },
  {
   "cell_type": "code",
   "execution_count": null,
   "id": "capital-meeting",
   "metadata": {},
   "outputs": [],
   "source": [
    "# sklearn.neighbors._kde.KernelDensity._repr_mimebundle_\n",
    "try:\n",
    "    obj = class_constructor() # noqa F821\n",
    "    ret = obj._repr_mimebundle_()\n",
    "    type_sklearn_neighbors__kde_KernelDensity__repr_mimebundle_ = getattr(ret, '__module__', 'none') + '.' + ret.__class__.__name__\n",
    "    print('✅ sklearn.neighbors._kde.KernelDensity._repr_mimebundle_: ', type(ret)) # noqa E501\n",
    "except Exception as e:\n",
    "    type_sklearn_neighbors__kde_KernelDensity__repr_mimebundle_ = '_syft_missing'\n",
    "    print('❌ sklearn.neighbors._kde.KernelDensity._repr_mimebundle_: Return unavailable') # noqa E501\n",
    "    print(\"  Please fix this return type code until there is no exception\")\n",
    "    print('  Error:', e)\n"
   ]
  },
  {
   "cell_type": "code",
   "execution_count": null,
   "id": "raised-theme",
   "metadata": {},
   "outputs": [],
   "source": [
    "# sklearn.neighbors._kde.KernelDensity._validate_data\n",
    "try:\n",
    "    obj = class_constructor() # noqa F821\n",
    "    ret = obj._validate_data()\n",
    "    type_sklearn_neighbors__kde_KernelDensity__validate_data = getattr(ret, '__module__', 'none') + '.' + ret.__class__.__name__\n",
    "    print('✅ sklearn.neighbors._kde.KernelDensity._validate_data: ', type(ret)) # noqa E501\n",
    "except Exception as e:\n",
    "    type_sklearn_neighbors__kde_KernelDensity__validate_data = '_syft_missing'\n",
    "    print('❌ sklearn.neighbors._kde.KernelDensity._validate_data: Return unavailable') # noqa E501\n",
    "    print(\"  Please fix this return type code until there is no exception\")\n",
    "    print('  Error:', e)\n"
   ]
  },
  {
   "cell_type": "code",
   "execution_count": null,
   "id": "flexible-mailman",
   "metadata": {},
   "outputs": [],
   "source": [
    "# sklearn.neighbors._kde.KernelDensity.fit\n",
    "try:\n",
    "    obj = class_constructor() # noqa F821\n",
    "    ret = obj.fit()\n",
    "    type_sklearn_neighbors__kde_KernelDensity_fit = getattr(ret, '__module__', 'none') + '.' + ret.__class__.__name__\n",
    "    print('✅ sklearn.neighbors._kde.KernelDensity.fit: ', type(ret)) # noqa E501\n",
    "except Exception as e:\n",
    "    type_sklearn_neighbors__kde_KernelDensity_fit = '_syft_missing'\n",
    "    print('❌ sklearn.neighbors._kde.KernelDensity.fit: Return unavailable') # noqa E501\n",
    "    print(\"  Please fix this return type code until there is no exception\")\n",
    "    print('  Error:', e)\n"
   ]
  },
  {
   "cell_type": "code",
   "execution_count": null,
   "id": "reduced-ballet",
   "metadata": {},
   "outputs": [],
   "source": [
    "# sklearn.neighbors._kde.KernelDensity.get_params\n",
    "try:\n",
    "    obj = class_constructor() # noqa F821\n",
    "    ret = obj.get_params()\n",
    "    type_sklearn_neighbors__kde_KernelDensity_get_params = getattr(ret, '__module__', 'none') + '.' + ret.__class__.__name__\n",
    "    print('✅ sklearn.neighbors._kde.KernelDensity.get_params: ', type(ret)) # noqa E501\n",
    "except Exception as e:\n",
    "    type_sklearn_neighbors__kde_KernelDensity_get_params = '_syft_missing'\n",
    "    print('❌ sklearn.neighbors._kde.KernelDensity.get_params: Return unavailable') # noqa E501\n",
    "    print(\"  Please fix this return type code until there is no exception\")\n",
    "    print('  Error:', e)\n"
   ]
  },
  {
   "cell_type": "code",
   "execution_count": null,
   "id": "professional-nitrogen",
   "metadata": {},
   "outputs": [],
   "source": [
    "# sklearn.neighbors._kde.KernelDensity.sample\n",
    "try:\n",
    "    obj = class_constructor() # noqa F821\n",
    "    ret = obj.sample()\n",
    "    type_sklearn_neighbors__kde_KernelDensity_sample = getattr(ret, '__module__', 'none') + '.' + ret.__class__.__name__\n",
    "    print('✅ sklearn.neighbors._kde.KernelDensity.sample: ', type(ret)) # noqa E501\n",
    "except Exception as e:\n",
    "    type_sklearn_neighbors__kde_KernelDensity_sample = '_syft_missing'\n",
    "    print('❌ sklearn.neighbors._kde.KernelDensity.sample: Return unavailable') # noqa E501\n",
    "    print(\"  Please fix this return type code until there is no exception\")\n",
    "    print('  Error:', e)\n"
   ]
  },
  {
   "cell_type": "code",
   "execution_count": null,
   "id": "small-boston",
   "metadata": {},
   "outputs": [],
   "source": [
    "# sklearn.neighbors._kde.KernelDensity.score\n",
    "try:\n",
    "    obj = class_constructor() # noqa F821\n",
    "    ret = obj.score()\n",
    "    type_sklearn_neighbors__kde_KernelDensity_score = getattr(ret, '__module__', 'none') + '.' + ret.__class__.__name__\n",
    "    print('✅ sklearn.neighbors._kde.KernelDensity.score: ', type(ret)) # noqa E501\n",
    "except Exception as e:\n",
    "    type_sklearn_neighbors__kde_KernelDensity_score = '_syft_missing'\n",
    "    print('❌ sklearn.neighbors._kde.KernelDensity.score: Return unavailable') # noqa E501\n",
    "    print(\"  Please fix this return type code until there is no exception\")\n",
    "    print('  Error:', e)\n"
   ]
  },
  {
   "cell_type": "code",
   "execution_count": null,
   "id": "realistic-egypt",
   "metadata": {},
   "outputs": [],
   "source": [
    "# sklearn.neighbors._kde.KernelDensity.score_samples\n",
    "try:\n",
    "    obj = class_constructor() # noqa F821\n",
    "    ret = obj.score_samples()\n",
    "    type_sklearn_neighbors__kde_KernelDensity_score_samples = getattr(ret, '__module__', 'none') + '.' + ret.__class__.__name__\n",
    "    print('✅ sklearn.neighbors._kde.KernelDensity.score_samples: ', type(ret)) # noqa E501\n",
    "except Exception as e:\n",
    "    type_sklearn_neighbors__kde_KernelDensity_score_samples = '_syft_missing'\n",
    "    print('❌ sklearn.neighbors._kde.KernelDensity.score_samples: Return unavailable') # noqa E501\n",
    "    print(\"  Please fix this return type code until there is no exception\")\n",
    "    print('  Error:', e)\n"
   ]
  },
  {
   "cell_type": "code",
   "execution_count": null,
   "id": "gothic-accountability",
   "metadata": {},
   "outputs": [],
   "source": [
    "# sklearn.neighbors._kde.KernelDensity.set_params\n",
    "try:\n",
    "    obj = class_constructor() # noqa F821\n",
    "    ret = obj.set_params()\n",
    "    type_sklearn_neighbors__kde_KernelDensity_set_params = getattr(ret, '__module__', 'none') + '.' + ret.__class__.__name__\n",
    "    print('✅ sklearn.neighbors._kde.KernelDensity.set_params: ', type(ret)) # noqa E501\n",
    "except Exception as e:\n",
    "    type_sklearn_neighbors__kde_KernelDensity_set_params = '_syft_missing'\n",
    "    print('❌ sklearn.neighbors._kde.KernelDensity.set_params: Return unavailable') # noqa E501\n",
    "    print(\"  Please fix this return type code until there is no exception\")\n",
    "    print('  Error:', e)\n"
   ]
  }
 ],
 "metadata": {},
 "nbformat": 4,
 "nbformat_minor": 5
}
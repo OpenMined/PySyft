{
 "cells": [
  {
   "cell_type": "markdown",
   "id": "sufficient-norway",
   "metadata": {},
   "source": [
    "## sklearn.neighbors._graph.KNeighborsTransformer"
   ]
  },
  {
   "cell_type": "code",
   "execution_count": null,
   "id": "small-baseball",
   "metadata": {},
   "outputs": [],
   "source": [
    "import sklearn\n",
    "def class_constructor(*args, **kwargs):\n",
    "    obj = sklearn.neighbors._graph.KNeighborsTransformer()\n",
    "    return obj\n"
   ]
  },
  {
   "cell_type": "code",
   "execution_count": null,
   "id": "sunset-editor",
   "metadata": {},
   "outputs": [],
   "source": [
    "# sklearn.neighbors._graph.KNeighborsTransformer.__getstate__\n",
    "try:\n",
    "    obj = class_constructor() # noqa F821\n",
    "    ret = obj.__getstate__()\n",
    "    type_sklearn_neighbors__graph_KNeighborsTransformer___getstate__ = getattr(ret, '__module__', 'none') + '.' + ret.__class__.__name__\n",
    "    print('✅ sklearn.neighbors._graph.KNeighborsTransformer.__getstate__: ', type(ret)) # noqa E501\n",
    "except Exception as e:\n",
    "    type_sklearn_neighbors__graph_KNeighborsTransformer___getstate__ = '_syft_missing'\n",
    "    print('❌ sklearn.neighbors._graph.KNeighborsTransformer.__getstate__: Return unavailable') # noqa E501\n",
    "    print(\"  Please fix this return type code until there is no exception\")\n",
    "    print('  Error:', e)\n"
   ]
  },
  {
   "cell_type": "code",
   "execution_count": null,
   "id": "authentic-anthropology",
   "metadata": {},
   "outputs": [],
   "source": [
    "# sklearn.neighbors._graph.KNeighborsTransformer.__repr__\n",
    "try:\n",
    "    obj = class_constructor() # noqa F821\n",
    "    ret = obj.__repr__()\n",
    "    type_sklearn_neighbors__graph_KNeighborsTransformer___repr__ = getattr(ret, '__module__', 'none') + '.' + ret.__class__.__name__\n",
    "    print('✅ sklearn.neighbors._graph.KNeighborsTransformer.__repr__: ', type(ret)) # noqa E501\n",
    "except Exception as e:\n",
    "    type_sklearn_neighbors__graph_KNeighborsTransformer___repr__ = '_syft_missing'\n",
    "    print('❌ sklearn.neighbors._graph.KNeighborsTransformer.__repr__: Return unavailable') # noqa E501\n",
    "    print(\"  Please fix this return type code until there is no exception\")\n",
    "    print('  Error:', e)\n"
   ]
  },
  {
   "cell_type": "code",
   "execution_count": null,
   "id": "competent-distribution",
   "metadata": {},
   "outputs": [],
   "source": [
    "# sklearn.neighbors._graph.KNeighborsTransformer.__setstate__\n",
    "try:\n",
    "    obj = class_constructor() # noqa F821\n",
    "    ret = obj.__setstate__()\n",
    "    type_sklearn_neighbors__graph_KNeighborsTransformer___setstate__ = getattr(ret, '__module__', 'none') + '.' + ret.__class__.__name__\n",
    "    print('✅ sklearn.neighbors._graph.KNeighborsTransformer.__setstate__: ', type(ret)) # noqa E501\n",
    "except Exception as e:\n",
    "    type_sklearn_neighbors__graph_KNeighborsTransformer___setstate__ = '_syft_missing'\n",
    "    print('❌ sklearn.neighbors._graph.KNeighborsTransformer.__setstate__: Return unavailable') # noqa E501\n",
    "    print(\"  Please fix this return type code until there is no exception\")\n",
    "    print('  Error:', e)\n"
   ]
  },
  {
   "cell_type": "code",
   "execution_count": null,
   "id": "heated-sheffield",
   "metadata": {},
   "outputs": [],
   "source": [
    "# sklearn.neighbors._graph.KNeighborsTransformer._check_algorithm_metric\n",
    "try:\n",
    "    obj = class_constructor() # noqa F821\n",
    "    ret = obj._check_algorithm_metric()\n",
    "    type_sklearn_neighbors__graph_KNeighborsTransformer__check_algorithm_metric = getattr(ret, '__module__', 'none') + '.' + ret.__class__.__name__\n",
    "    print('✅ sklearn.neighbors._graph.KNeighborsTransformer._check_algorithm_metric: ', type(ret)) # noqa E501\n",
    "except Exception as e:\n",
    "    type_sklearn_neighbors__graph_KNeighborsTransformer__check_algorithm_metric = '_syft_missing'\n",
    "    print('❌ sklearn.neighbors._graph.KNeighborsTransformer._check_algorithm_metric: Return unavailable') # noqa E501\n",
    "    print(\"  Please fix this return type code until there is no exception\")\n",
    "    print('  Error:', e)\n"
   ]
  },
  {
   "cell_type": "code",
   "execution_count": null,
   "id": "proof-disposition",
   "metadata": {},
   "outputs": [],
   "source": [
    "# sklearn.neighbors._graph.KNeighborsTransformer._check_n_features\n",
    "try:\n",
    "    obj = class_constructor() # noqa F821\n",
    "    ret = obj._check_n_features()\n",
    "    type_sklearn_neighbors__graph_KNeighborsTransformer__check_n_features = getattr(ret, '__module__', 'none') + '.' + ret.__class__.__name__\n",
    "    print('✅ sklearn.neighbors._graph.KNeighborsTransformer._check_n_features: ', type(ret)) # noqa E501\n",
    "except Exception as e:\n",
    "    type_sklearn_neighbors__graph_KNeighborsTransformer__check_n_features = '_syft_missing'\n",
    "    print('❌ sklearn.neighbors._graph.KNeighborsTransformer._check_n_features: Return unavailable') # noqa E501\n",
    "    print(\"  Please fix this return type code until there is no exception\")\n",
    "    print('  Error:', e)\n"
   ]
  },
  {
   "cell_type": "code",
   "execution_count": null,
   "id": "unlike-vampire",
   "metadata": {},
   "outputs": [],
   "source": [
    "# sklearn.neighbors._graph.KNeighborsTransformer._fit\n",
    "try:\n",
    "    obj = class_constructor() # noqa F821\n",
    "    ret = obj._fit()\n",
    "    type_sklearn_neighbors__graph_KNeighborsTransformer__fit = getattr(ret, '__module__', 'none') + '.' + ret.__class__.__name__\n",
    "    print('✅ sklearn.neighbors._graph.KNeighborsTransformer._fit: ', type(ret)) # noqa E501\n",
    "except Exception as e:\n",
    "    type_sklearn_neighbors__graph_KNeighborsTransformer__fit = '_syft_missing'\n",
    "    print('❌ sklearn.neighbors._graph.KNeighborsTransformer._fit: Return unavailable') # noqa E501\n",
    "    print(\"  Please fix this return type code until there is no exception\")\n",
    "    print('  Error:', e)\n"
   ]
  },
  {
   "cell_type": "code",
   "execution_count": null,
   "id": "informative-russell",
   "metadata": {},
   "outputs": [],
   "source": [
    "# sklearn.neighbors._graph.KNeighborsTransformer._get_param_names\n",
    "try:\n",
    "    obj = class_constructor() # noqa F821\n",
    "    ret = obj._get_param_names()\n",
    "    type_sklearn_neighbors__graph_KNeighborsTransformer__get_param_names = getattr(ret, '__module__', 'none') + '.' + ret.__class__.__name__\n",
    "    print('✅ sklearn.neighbors._graph.KNeighborsTransformer._get_param_names: ', type(ret)) # noqa E501\n",
    "except Exception as e:\n",
    "    type_sklearn_neighbors__graph_KNeighborsTransformer__get_param_names = '_syft_missing'\n",
    "    print('❌ sklearn.neighbors._graph.KNeighborsTransformer._get_param_names: Return unavailable') # noqa E501\n",
    "    print(\"  Please fix this return type code until there is no exception\")\n",
    "    print('  Error:', e)\n"
   ]
  },
  {
   "cell_type": "code",
   "execution_count": null,
   "id": "sharp-newton",
   "metadata": {},
   "outputs": [],
   "source": [
    "# sklearn.neighbors._graph.KNeighborsTransformer._get_tags\n",
    "try:\n",
    "    obj = class_constructor() # noqa F821\n",
    "    ret = obj._get_tags()\n",
    "    type_sklearn_neighbors__graph_KNeighborsTransformer__get_tags = getattr(ret, '__module__', 'none') + '.' + ret.__class__.__name__\n",
    "    print('✅ sklearn.neighbors._graph.KNeighborsTransformer._get_tags: ', type(ret)) # noqa E501\n",
    "except Exception as e:\n",
    "    type_sklearn_neighbors__graph_KNeighborsTransformer__get_tags = '_syft_missing'\n",
    "    print('❌ sklearn.neighbors._graph.KNeighborsTransformer._get_tags: Return unavailable') # noqa E501\n",
    "    print(\"  Please fix this return type code until there is no exception\")\n",
    "    print('  Error:', e)\n"
   ]
  },
  {
   "cell_type": "code",
   "execution_count": null,
   "id": "returning-porcelain",
   "metadata": {},
   "outputs": [],
   "source": [
    "# sklearn.neighbors._graph.KNeighborsTransformer._kneighbors_reduce_func\n",
    "try:\n",
    "    obj = class_constructor() # noqa F821\n",
    "    ret = obj._kneighbors_reduce_func()\n",
    "    type_sklearn_neighbors__graph_KNeighborsTransformer__kneighbors_reduce_func = getattr(ret, '__module__', 'none') + '.' + ret.__class__.__name__\n",
    "    print('✅ sklearn.neighbors._graph.KNeighborsTransformer._kneighbors_reduce_func: ', type(ret)) # noqa E501\n",
    "except Exception as e:\n",
    "    type_sklearn_neighbors__graph_KNeighborsTransformer__kneighbors_reduce_func = '_syft_missing'\n",
    "    print('❌ sklearn.neighbors._graph.KNeighborsTransformer._kneighbors_reduce_func: Return unavailable') # noqa E501\n",
    "    print(\"  Please fix this return type code until there is no exception\")\n",
    "    print('  Error:', e)\n"
   ]
  },
  {
   "cell_type": "code",
   "execution_count": null,
   "id": "incoming-romance",
   "metadata": {},
   "outputs": [],
   "source": [
    "# sklearn.neighbors._graph.KNeighborsTransformer._more_tags\n",
    "try:\n",
    "    obj = class_constructor() # noqa F821\n",
    "    ret = obj._more_tags()\n",
    "    type_sklearn_neighbors__graph_KNeighborsTransformer__more_tags = getattr(ret, '__module__', 'none') + '.' + ret.__class__.__name__\n",
    "    print('✅ sklearn.neighbors._graph.KNeighborsTransformer._more_tags: ', type(ret)) # noqa E501\n",
    "except Exception as e:\n",
    "    type_sklearn_neighbors__graph_KNeighborsTransformer__more_tags = '_syft_missing'\n",
    "    print('❌ sklearn.neighbors._graph.KNeighborsTransformer._more_tags: Return unavailable') # noqa E501\n",
    "    print(\"  Please fix this return type code until there is no exception\")\n",
    "    print('  Error:', e)\n"
   ]
  },
  {
   "cell_type": "code",
   "execution_count": null,
   "id": "filled-embassy",
   "metadata": {},
   "outputs": [],
   "source": [
    "# sklearn.neighbors._graph.KNeighborsTransformer._pairwise\n",
    "try:\n",
    "    obj = class_constructor()\n",
    "    ret = obj._pairwise\n",
    "    type_sklearn_neighbors__graph_KNeighborsTransformer__pairwise = getattr(ret, '__module__', 'none') + '.' + ret.__class__.__name__\n",
    "    print('✅ sklearn.neighbors._graph.KNeighborsTransformer._pairwise:', type(ret)) # noqa E501\n",
    "except Exception as e:\n",
    "    type_sklearn_neighbors__graph_KNeighborsTransformer__pairwise = '_syft_missing'\n",
    "    print('❌ sklearn.neighbors._graph.KNeighborsTransformer._pairwise: Return unavailable') # noqa E501\n",
    "    print(\"  Please fix this return type code until there is no exception\")\n",
    "    print('  Error:', e)\n"
   ]
  },
  {
   "cell_type": "code",
   "execution_count": null,
   "id": "every-richardson",
   "metadata": {},
   "outputs": [],
   "source": [
    "# sklearn.neighbors._graph.KNeighborsTransformer._repr_html_\n",
    "try:\n",
    "    obj = class_constructor()\n",
    "    ret = obj._repr_html_\n",
    "    type_sklearn_neighbors__graph_KNeighborsTransformer__repr_html_ = getattr(ret, '__module__', 'none') + '.' + ret.__class__.__name__\n",
    "    print('✅ sklearn.neighbors._graph.KNeighborsTransformer._repr_html_:', type(ret)) # noqa E501\n",
    "except Exception as e:\n",
    "    type_sklearn_neighbors__graph_KNeighborsTransformer__repr_html_ = '_syft_missing'\n",
    "    print('❌ sklearn.neighbors._graph.KNeighborsTransformer._repr_html_: Return unavailable') # noqa E501\n",
    "    print(\"  Please fix this return type code until there is no exception\")\n",
    "    print('  Error:', e)\n"
   ]
  },
  {
   "cell_type": "code",
   "execution_count": null,
   "id": "substantial-colonial",
   "metadata": {},
   "outputs": [],
   "source": [
    "# sklearn.neighbors._graph.KNeighborsTransformer._repr_html_inner\n",
    "try:\n",
    "    obj = class_constructor() # noqa F821\n",
    "    ret = obj._repr_html_inner()\n",
    "    type_sklearn_neighbors__graph_KNeighborsTransformer__repr_html_inner = getattr(ret, '__module__', 'none') + '.' + ret.__class__.__name__\n",
    "    print('✅ sklearn.neighbors._graph.KNeighborsTransformer._repr_html_inner: ', type(ret)) # noqa E501\n",
    "except Exception as e:\n",
    "    type_sklearn_neighbors__graph_KNeighborsTransformer__repr_html_inner = '_syft_missing'\n",
    "    print('❌ sklearn.neighbors._graph.KNeighborsTransformer._repr_html_inner: Return unavailable') # noqa E501\n",
    "    print(\"  Please fix this return type code until there is no exception\")\n",
    "    print('  Error:', e)\n"
   ]
  },
  {
   "cell_type": "code",
   "execution_count": null,
   "id": "fundamental-thomson",
   "metadata": {},
   "outputs": [],
   "source": [
    "# sklearn.neighbors._graph.KNeighborsTransformer._repr_mimebundle_\n",
    "try:\n",
    "    obj = class_constructor() # noqa F821\n",
    "    ret = obj._repr_mimebundle_()\n",
    "    type_sklearn_neighbors__graph_KNeighborsTransformer__repr_mimebundle_ = getattr(ret, '__module__', 'none') + '.' + ret.__class__.__name__\n",
    "    print('✅ sklearn.neighbors._graph.KNeighborsTransformer._repr_mimebundle_: ', type(ret)) # noqa E501\n",
    "except Exception as e:\n",
    "    type_sklearn_neighbors__graph_KNeighborsTransformer__repr_mimebundle_ = '_syft_missing'\n",
    "    print('❌ sklearn.neighbors._graph.KNeighborsTransformer._repr_mimebundle_: Return unavailable') # noqa E501\n",
    "    print(\"  Please fix this return type code until there is no exception\")\n",
    "    print('  Error:', e)\n"
   ]
  },
  {
   "cell_type": "code",
   "execution_count": null,
   "id": "indirect-fabric",
   "metadata": {},
   "outputs": [],
   "source": [
    "# sklearn.neighbors._graph.KNeighborsTransformer._validate_data\n",
    "try:\n",
    "    obj = class_constructor() # noqa F821\n",
    "    ret = obj._validate_data()\n",
    "    type_sklearn_neighbors__graph_KNeighborsTransformer__validate_data = getattr(ret, '__module__', 'none') + '.' + ret.__class__.__name__\n",
    "    print('✅ sklearn.neighbors._graph.KNeighborsTransformer._validate_data: ', type(ret)) # noqa E501\n",
    "except Exception as e:\n",
    "    type_sklearn_neighbors__graph_KNeighborsTransformer__validate_data = '_syft_missing'\n",
    "    print('❌ sklearn.neighbors._graph.KNeighborsTransformer._validate_data: Return unavailable') # noqa E501\n",
    "    print(\"  Please fix this return type code until there is no exception\")\n",
    "    print('  Error:', e)\n"
   ]
  },
  {
   "cell_type": "code",
   "execution_count": null,
   "id": "brazilian-auditor",
   "metadata": {},
   "outputs": [],
   "source": [
    "# sklearn.neighbors._graph.KNeighborsTransformer.fit\n",
    "try:\n",
    "    obj = class_constructor() # noqa F821\n",
    "    ret = obj.fit()\n",
    "    type_sklearn_neighbors__graph_KNeighborsTransformer_fit = getattr(ret, '__module__', 'none') + '.' + ret.__class__.__name__\n",
    "    print('✅ sklearn.neighbors._graph.KNeighborsTransformer.fit: ', type(ret)) # noqa E501\n",
    "except Exception as e:\n",
    "    type_sklearn_neighbors__graph_KNeighborsTransformer_fit = '_syft_missing'\n",
    "    print('❌ sklearn.neighbors._graph.KNeighborsTransformer.fit: Return unavailable') # noqa E501\n",
    "    print(\"  Please fix this return type code until there is no exception\")\n",
    "    print('  Error:', e)\n"
   ]
  },
  {
   "cell_type": "code",
   "execution_count": null,
   "id": "occupational-authority",
   "metadata": {},
   "outputs": [],
   "source": [
    "# sklearn.neighbors._graph.KNeighborsTransformer.fit_transform\n",
    "try:\n",
    "    obj = class_constructor() # noqa F821\n",
    "    ret = obj.fit_transform()\n",
    "    type_sklearn_neighbors__graph_KNeighborsTransformer_fit_transform = getattr(ret, '__module__', 'none') + '.' + ret.__class__.__name__\n",
    "    print('✅ sklearn.neighbors._graph.KNeighborsTransformer.fit_transform: ', type(ret)) # noqa E501\n",
    "except Exception as e:\n",
    "    type_sklearn_neighbors__graph_KNeighborsTransformer_fit_transform = '_syft_missing'\n",
    "    print('❌ sklearn.neighbors._graph.KNeighborsTransformer.fit_transform: Return unavailable') # noqa E501\n",
    "    print(\"  Please fix this return type code until there is no exception\")\n",
    "    print('  Error:', e)\n"
   ]
  },
  {
   "cell_type": "code",
   "execution_count": null,
   "id": "infinite-pillow",
   "metadata": {},
   "outputs": [],
   "source": [
    "# sklearn.neighbors._graph.KNeighborsTransformer.get_params\n",
    "try:\n",
    "    obj = class_constructor() # noqa F821\n",
    "    ret = obj.get_params()\n",
    "    type_sklearn_neighbors__graph_KNeighborsTransformer_get_params = getattr(ret, '__module__', 'none') + '.' + ret.__class__.__name__\n",
    "    print('✅ sklearn.neighbors._graph.KNeighborsTransformer.get_params: ', type(ret)) # noqa E501\n",
    "except Exception as e:\n",
    "    type_sklearn_neighbors__graph_KNeighborsTransformer_get_params = '_syft_missing'\n",
    "    print('❌ sklearn.neighbors._graph.KNeighborsTransformer.get_params: Return unavailable') # noqa E501\n",
    "    print(\"  Please fix this return type code until there is no exception\")\n",
    "    print('  Error:', e)\n"
   ]
  },
  {
   "cell_type": "code",
   "execution_count": null,
   "id": "younger-arthur",
   "metadata": {},
   "outputs": [],
   "source": [
    "# sklearn.neighbors._graph.KNeighborsTransformer.kneighbors\n",
    "try:\n",
    "    obj = class_constructor() # noqa F821\n",
    "    ret = obj.kneighbors()\n",
    "    type_sklearn_neighbors__graph_KNeighborsTransformer_kneighbors = getattr(ret, '__module__', 'none') + '.' + ret.__class__.__name__\n",
    "    print('✅ sklearn.neighbors._graph.KNeighborsTransformer.kneighbors: ', type(ret)) # noqa E501\n",
    "except Exception as e:\n",
    "    type_sklearn_neighbors__graph_KNeighborsTransformer_kneighbors = '_syft_missing'\n",
    "    print('❌ sklearn.neighbors._graph.KNeighborsTransformer.kneighbors: Return unavailable') # noqa E501\n",
    "    print(\"  Please fix this return type code until there is no exception\")\n",
    "    print('  Error:', e)\n"
   ]
  },
  {
   "cell_type": "code",
   "execution_count": null,
   "id": "differential-renewal",
   "metadata": {},
   "outputs": [],
   "source": [
    "# sklearn.neighbors._graph.KNeighborsTransformer.kneighbors_graph\n",
    "try:\n",
    "    obj = class_constructor() # noqa F821\n",
    "    ret = obj.kneighbors_graph()\n",
    "    type_sklearn_neighbors__graph_KNeighborsTransformer_kneighbors_graph = getattr(ret, '__module__', 'none') + '.' + ret.__class__.__name__\n",
    "    print('✅ sklearn.neighbors._graph.KNeighborsTransformer.kneighbors_graph: ', type(ret)) # noqa E501\n",
    "except Exception as e:\n",
    "    type_sklearn_neighbors__graph_KNeighborsTransformer_kneighbors_graph = '_syft_missing'\n",
    "    print('❌ sklearn.neighbors._graph.KNeighborsTransformer.kneighbors_graph: Return unavailable') # noqa E501\n",
    "    print(\"  Please fix this return type code until there is no exception\")\n",
    "    print('  Error:', e)\n"
   ]
  },
  {
   "cell_type": "code",
   "execution_count": null,
   "id": "national-spiritual",
   "metadata": {},
   "outputs": [],
   "source": [
    "# sklearn.neighbors._graph.KNeighborsTransformer.set_params\n",
    "try:\n",
    "    obj = class_constructor() # noqa F821\n",
    "    ret = obj.set_params()\n",
    "    type_sklearn_neighbors__graph_KNeighborsTransformer_set_params = getattr(ret, '__module__', 'none') + '.' + ret.__class__.__name__\n",
    "    print('✅ sklearn.neighbors._graph.KNeighborsTransformer.set_params: ', type(ret)) # noqa E501\n",
    "except Exception as e:\n",
    "    type_sklearn_neighbors__graph_KNeighborsTransformer_set_params = '_syft_missing'\n",
    "    print('❌ sklearn.neighbors._graph.KNeighborsTransformer.set_params: Return unavailable') # noqa E501\n",
    "    print(\"  Please fix this return type code until there is no exception\")\n",
    "    print('  Error:', e)\n"
   ]
  },
  {
   "cell_type": "code",
   "execution_count": null,
   "id": "comparative-harvey",
   "metadata": {},
   "outputs": [],
   "source": [
    "# sklearn.neighbors._graph.KNeighborsTransformer.transform\n",
    "try:\n",
    "    obj = class_constructor() # noqa F821\n",
    "    ret = obj.transform()\n",
    "    type_sklearn_neighbors__graph_KNeighborsTransformer_transform = getattr(ret, '__module__', 'none') + '.' + ret.__class__.__name__\n",
    "    print('✅ sklearn.neighbors._graph.KNeighborsTransformer.transform: ', type(ret)) # noqa E501\n",
    "except Exception as e:\n",
    "    type_sklearn_neighbors__graph_KNeighborsTransformer_transform = '_syft_missing'\n",
    "    print('❌ sklearn.neighbors._graph.KNeighborsTransformer.transform: Return unavailable') # noqa E501\n",
    "    print(\"  Please fix this return type code until there is no exception\")\n",
    "    print('  Error:', e)\n"
   ]
  }
 ],
 "metadata": {},
 "nbformat": 4,
 "nbformat_minor": 5
}
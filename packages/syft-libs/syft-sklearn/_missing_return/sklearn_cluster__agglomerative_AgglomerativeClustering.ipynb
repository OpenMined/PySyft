{
 "cells": [
  {
   "cell_type": "markdown",
   "id": "overhead-burlington",
   "metadata": {},
   "source": [
    "## sklearn.cluster._agglomerative.AgglomerativeClustering"
   ]
  },
  {
   "cell_type": "code",
   "execution_count": null,
   "id": "sapphire-fusion",
   "metadata": {},
   "outputs": [],
   "source": [
    "import sklearn\n",
    "def class_constructor(*args, **kwargs):\n",
    "    obj = sklearn.cluster._agglomerative.AgglomerativeClustering()\n",
    "    return obj\n"
   ]
  },
  {
   "cell_type": "code",
   "execution_count": null,
   "id": "continental-experiment",
   "metadata": {},
   "outputs": [],
   "source": [
    "# sklearn.cluster._agglomerative.AgglomerativeClustering.__getstate__\n",
    "try:\n",
    "    obj = class_constructor() # noqa F821\n",
    "    ret = obj.__getstate__()\n",
    "    type_sklearn_cluster__agglomerative_AgglomerativeClustering___getstate__ = getattr(ret, '__module__', 'none') + '.' + ret.__class__.__name__\n",
    "    print('✅ sklearn.cluster._agglomerative.AgglomerativeClustering.__getstate__: ', type(ret)) # noqa E501\n",
    "except Exception as e:\n",
    "    type_sklearn_cluster__agglomerative_AgglomerativeClustering___getstate__ = '_syft_missing'\n",
    "    print('❌ sklearn.cluster._agglomerative.AgglomerativeClustering.__getstate__: Return unavailable') # noqa E501\n",
    "    print(\"  Please fix this return type code until there is no exception\")\n",
    "    print('  Error:', e)\n"
   ]
  },
  {
   "cell_type": "code",
   "execution_count": null,
   "id": "interim-forwarding",
   "metadata": {},
   "outputs": [],
   "source": [
    "# sklearn.cluster._agglomerative.AgglomerativeClustering.__repr__\n",
    "try:\n",
    "    obj = class_constructor() # noqa F821\n",
    "    ret = obj.__repr__()\n",
    "    type_sklearn_cluster__agglomerative_AgglomerativeClustering___repr__ = getattr(ret, '__module__', 'none') + '.' + ret.__class__.__name__\n",
    "    print('✅ sklearn.cluster._agglomerative.AgglomerativeClustering.__repr__: ', type(ret)) # noqa E501\n",
    "except Exception as e:\n",
    "    type_sklearn_cluster__agglomerative_AgglomerativeClustering___repr__ = '_syft_missing'\n",
    "    print('❌ sklearn.cluster._agglomerative.AgglomerativeClustering.__repr__: Return unavailable') # noqa E501\n",
    "    print(\"  Please fix this return type code until there is no exception\")\n",
    "    print('  Error:', e)\n"
   ]
  },
  {
   "cell_type": "code",
   "execution_count": null,
   "id": "american-development",
   "metadata": {},
   "outputs": [],
   "source": [
    "# sklearn.cluster._agglomerative.AgglomerativeClustering.__setstate__\n",
    "try:\n",
    "    obj = class_constructor() # noqa F821\n",
    "    ret = obj.__setstate__()\n",
    "    type_sklearn_cluster__agglomerative_AgglomerativeClustering___setstate__ = getattr(ret, '__module__', 'none') + '.' + ret.__class__.__name__\n",
    "    print('✅ sklearn.cluster._agglomerative.AgglomerativeClustering.__setstate__: ', type(ret)) # noqa E501\n",
    "except Exception as e:\n",
    "    type_sklearn_cluster__agglomerative_AgglomerativeClustering___setstate__ = '_syft_missing'\n",
    "    print('❌ sklearn.cluster._agglomerative.AgglomerativeClustering.__setstate__: Return unavailable') # noqa E501\n",
    "    print(\"  Please fix this return type code until there is no exception\")\n",
    "    print('  Error:', e)\n"
   ]
  },
  {
   "cell_type": "code",
   "execution_count": null,
   "id": "serial-stamp",
   "metadata": {},
   "outputs": [],
   "source": [
    "# sklearn.cluster._agglomerative.AgglomerativeClustering._check_n_features\n",
    "try:\n",
    "    obj = class_constructor() # noqa F821\n",
    "    ret = obj._check_n_features()\n",
    "    type_sklearn_cluster__agglomerative_AgglomerativeClustering__check_n_features = getattr(ret, '__module__', 'none') + '.' + ret.__class__.__name__\n",
    "    print('✅ sklearn.cluster._agglomerative.AgglomerativeClustering._check_n_features: ', type(ret)) # noqa E501\n",
    "except Exception as e:\n",
    "    type_sklearn_cluster__agglomerative_AgglomerativeClustering__check_n_features = '_syft_missing'\n",
    "    print('❌ sklearn.cluster._agglomerative.AgglomerativeClustering._check_n_features: Return unavailable') # noqa E501\n",
    "    print(\"  Please fix this return type code until there is no exception\")\n",
    "    print('  Error:', e)\n"
   ]
  },
  {
   "cell_type": "code",
   "execution_count": null,
   "id": "decent-nashville",
   "metadata": {},
   "outputs": [],
   "source": [
    "# sklearn.cluster._agglomerative.AgglomerativeClustering._get_param_names\n",
    "try:\n",
    "    obj = class_constructor() # noqa F821\n",
    "    ret = obj._get_param_names()\n",
    "    type_sklearn_cluster__agglomerative_AgglomerativeClustering__get_param_names = getattr(ret, '__module__', 'none') + '.' + ret.__class__.__name__\n",
    "    print('✅ sklearn.cluster._agglomerative.AgglomerativeClustering._get_param_names: ', type(ret)) # noqa E501\n",
    "except Exception as e:\n",
    "    type_sklearn_cluster__agglomerative_AgglomerativeClustering__get_param_names = '_syft_missing'\n",
    "    print('❌ sklearn.cluster._agglomerative.AgglomerativeClustering._get_param_names: Return unavailable') # noqa E501\n",
    "    print(\"  Please fix this return type code until there is no exception\")\n",
    "    print('  Error:', e)\n"
   ]
  },
  {
   "cell_type": "code",
   "execution_count": null,
   "id": "opening-pathology",
   "metadata": {},
   "outputs": [],
   "source": [
    "# sklearn.cluster._agglomerative.AgglomerativeClustering._get_tags\n",
    "try:\n",
    "    obj = class_constructor() # noqa F821\n",
    "    ret = obj._get_tags()\n",
    "    type_sklearn_cluster__agglomerative_AgglomerativeClustering__get_tags = getattr(ret, '__module__', 'none') + '.' + ret.__class__.__name__\n",
    "    print('✅ sklearn.cluster._agglomerative.AgglomerativeClustering._get_tags: ', type(ret)) # noqa E501\n",
    "except Exception as e:\n",
    "    type_sklearn_cluster__agglomerative_AgglomerativeClustering__get_tags = '_syft_missing'\n",
    "    print('❌ sklearn.cluster._agglomerative.AgglomerativeClustering._get_tags: Return unavailable') # noqa E501\n",
    "    print(\"  Please fix this return type code until there is no exception\")\n",
    "    print('  Error:', e)\n"
   ]
  },
  {
   "cell_type": "code",
   "execution_count": null,
   "id": "creative-execution",
   "metadata": {},
   "outputs": [],
   "source": [
    "# sklearn.cluster._agglomerative.AgglomerativeClustering._more_tags\n",
    "try:\n",
    "    obj = class_constructor() # noqa F821\n",
    "    ret = obj._more_tags()\n",
    "    type_sklearn_cluster__agglomerative_AgglomerativeClustering__more_tags = getattr(ret, '__module__', 'none') + '.' + ret.__class__.__name__\n",
    "    print('✅ sklearn.cluster._agglomerative.AgglomerativeClustering._more_tags: ', type(ret)) # noqa E501\n",
    "except Exception as e:\n",
    "    type_sklearn_cluster__agglomerative_AgglomerativeClustering__more_tags = '_syft_missing'\n",
    "    print('❌ sklearn.cluster._agglomerative.AgglomerativeClustering._more_tags: Return unavailable') # noqa E501\n",
    "    print(\"  Please fix this return type code until there is no exception\")\n",
    "    print('  Error:', e)\n"
   ]
  },
  {
   "cell_type": "code",
   "execution_count": null,
   "id": "suitable-experiment",
   "metadata": {},
   "outputs": [],
   "source": [
    "# sklearn.cluster._agglomerative.AgglomerativeClustering._repr_html_\n",
    "try:\n",
    "    obj = class_constructor()\n",
    "    ret = obj._repr_html_\n",
    "    type_sklearn_cluster__agglomerative_AgglomerativeClustering__repr_html_ = getattr(ret, '__module__', 'none') + '.' + ret.__class__.__name__\n",
    "    print('✅ sklearn.cluster._agglomerative.AgglomerativeClustering._repr_html_:', type(ret)) # noqa E501\n",
    "except Exception as e:\n",
    "    type_sklearn_cluster__agglomerative_AgglomerativeClustering__repr_html_ = '_syft_missing'\n",
    "    print('❌ sklearn.cluster._agglomerative.AgglomerativeClustering._repr_html_: Return unavailable') # noqa E501\n",
    "    print(\"  Please fix this return type code until there is no exception\")\n",
    "    print('  Error:', e)\n"
   ]
  },
  {
   "cell_type": "code",
   "execution_count": null,
   "id": "lesser-statistics",
   "metadata": {},
   "outputs": [],
   "source": [
    "# sklearn.cluster._agglomerative.AgglomerativeClustering._repr_html_inner\n",
    "try:\n",
    "    obj = class_constructor() # noqa F821\n",
    "    ret = obj._repr_html_inner()\n",
    "    type_sklearn_cluster__agglomerative_AgglomerativeClustering__repr_html_inner = getattr(ret, '__module__', 'none') + '.' + ret.__class__.__name__\n",
    "    print('✅ sklearn.cluster._agglomerative.AgglomerativeClustering._repr_html_inner: ', type(ret)) # noqa E501\n",
    "except Exception as e:\n",
    "    type_sklearn_cluster__agglomerative_AgglomerativeClustering__repr_html_inner = '_syft_missing'\n",
    "    print('❌ sklearn.cluster._agglomerative.AgglomerativeClustering._repr_html_inner: Return unavailable') # noqa E501\n",
    "    print(\"  Please fix this return type code until there is no exception\")\n",
    "    print('  Error:', e)\n"
   ]
  },
  {
   "cell_type": "code",
   "execution_count": null,
   "id": "postal-nelson",
   "metadata": {},
   "outputs": [],
   "source": [
    "# sklearn.cluster._agglomerative.AgglomerativeClustering._repr_mimebundle_\n",
    "try:\n",
    "    obj = class_constructor() # noqa F821\n",
    "    ret = obj._repr_mimebundle_()\n",
    "    type_sklearn_cluster__agglomerative_AgglomerativeClustering__repr_mimebundle_ = getattr(ret, '__module__', 'none') + '.' + ret.__class__.__name__\n",
    "    print('✅ sklearn.cluster._agglomerative.AgglomerativeClustering._repr_mimebundle_: ', type(ret)) # noqa E501\n",
    "except Exception as e:\n",
    "    type_sklearn_cluster__agglomerative_AgglomerativeClustering__repr_mimebundle_ = '_syft_missing'\n",
    "    print('❌ sklearn.cluster._agglomerative.AgglomerativeClustering._repr_mimebundle_: Return unavailable') # noqa E501\n",
    "    print(\"  Please fix this return type code until there is no exception\")\n",
    "    print('  Error:', e)\n"
   ]
  },
  {
   "cell_type": "code",
   "execution_count": null,
   "id": "headed-lightweight",
   "metadata": {},
   "outputs": [],
   "source": [
    "# sklearn.cluster._agglomerative.AgglomerativeClustering._validate_data\n",
    "try:\n",
    "    obj = class_constructor() # noqa F821\n",
    "    ret = obj._validate_data()\n",
    "    type_sklearn_cluster__agglomerative_AgglomerativeClustering__validate_data = getattr(ret, '__module__', 'none') + '.' + ret.__class__.__name__\n",
    "    print('✅ sklearn.cluster._agglomerative.AgglomerativeClustering._validate_data: ', type(ret)) # noqa E501\n",
    "except Exception as e:\n",
    "    type_sklearn_cluster__agglomerative_AgglomerativeClustering__validate_data = '_syft_missing'\n",
    "    print('❌ sklearn.cluster._agglomerative.AgglomerativeClustering._validate_data: Return unavailable') # noqa E501\n",
    "    print(\"  Please fix this return type code until there is no exception\")\n",
    "    print('  Error:', e)\n"
   ]
  },
  {
   "cell_type": "code",
   "execution_count": null,
   "id": "accurate-health",
   "metadata": {},
   "outputs": [],
   "source": [
    "# sklearn.cluster._agglomerative.AgglomerativeClustering.fit\n",
    "try:\n",
    "    obj = class_constructor() # noqa F821\n",
    "    ret = obj.fit()\n",
    "    type_sklearn_cluster__agglomerative_AgglomerativeClustering_fit = getattr(ret, '__module__', 'none') + '.' + ret.__class__.__name__\n",
    "    print('✅ sklearn.cluster._agglomerative.AgglomerativeClustering.fit: ', type(ret)) # noqa E501\n",
    "except Exception as e:\n",
    "    type_sklearn_cluster__agglomerative_AgglomerativeClustering_fit = '_syft_missing'\n",
    "    print('❌ sklearn.cluster._agglomerative.AgglomerativeClustering.fit: Return unavailable') # noqa E501\n",
    "    print(\"  Please fix this return type code until there is no exception\")\n",
    "    print('  Error:', e)\n"
   ]
  },
  {
   "cell_type": "code",
   "execution_count": null,
   "id": "native-indian",
   "metadata": {},
   "outputs": [],
   "source": [
    "# sklearn.cluster._agglomerative.AgglomerativeClustering.fit_predict\n",
    "try:\n",
    "    obj = class_constructor() # noqa F821\n",
    "    ret = obj.fit_predict()\n",
    "    type_sklearn_cluster__agglomerative_AgglomerativeClustering_fit_predict = getattr(ret, '__module__', 'none') + '.' + ret.__class__.__name__\n",
    "    print('✅ sklearn.cluster._agglomerative.AgglomerativeClustering.fit_predict: ', type(ret)) # noqa E501\n",
    "except Exception as e:\n",
    "    type_sklearn_cluster__agglomerative_AgglomerativeClustering_fit_predict = '_syft_missing'\n",
    "    print('❌ sklearn.cluster._agglomerative.AgglomerativeClustering.fit_predict: Return unavailable') # noqa E501\n",
    "    print(\"  Please fix this return type code until there is no exception\")\n",
    "    print('  Error:', e)\n"
   ]
  },
  {
   "cell_type": "code",
   "execution_count": null,
   "id": "vanilla-adult",
   "metadata": {},
   "outputs": [],
   "source": [
    "# sklearn.cluster._agglomerative.AgglomerativeClustering.get_params\n",
    "try:\n",
    "    obj = class_constructor() # noqa F821\n",
    "    ret = obj.get_params()\n",
    "    type_sklearn_cluster__agglomerative_AgglomerativeClustering_get_params = getattr(ret, '__module__', 'none') + '.' + ret.__class__.__name__\n",
    "    print('✅ sklearn.cluster._agglomerative.AgglomerativeClustering.get_params: ', type(ret)) # noqa E501\n",
    "except Exception as e:\n",
    "    type_sklearn_cluster__agglomerative_AgglomerativeClustering_get_params = '_syft_missing'\n",
    "    print('❌ sklearn.cluster._agglomerative.AgglomerativeClustering.get_params: Return unavailable') # noqa E501\n",
    "    print(\"  Please fix this return type code until there is no exception\")\n",
    "    print('  Error:', e)\n"
   ]
  },
  {
   "cell_type": "code",
   "execution_count": null,
   "id": "acquired-allowance",
   "metadata": {},
   "outputs": [],
   "source": [
    "# sklearn.cluster._agglomerative.AgglomerativeClustering.set_params\n",
    "try:\n",
    "    obj = class_constructor() # noqa F821\n",
    "    ret = obj.set_params()\n",
    "    type_sklearn_cluster__agglomerative_AgglomerativeClustering_set_params = getattr(ret, '__module__', 'none') + '.' + ret.__class__.__name__\n",
    "    print('✅ sklearn.cluster._agglomerative.AgglomerativeClustering.set_params: ', type(ret)) # noqa E501\n",
    "except Exception as e:\n",
    "    type_sklearn_cluster__agglomerative_AgglomerativeClustering_set_params = '_syft_missing'\n",
    "    print('❌ sklearn.cluster._agglomerative.AgglomerativeClustering.set_params: Return unavailable') # noqa E501\n",
    "    print(\"  Please fix this return type code until there is no exception\")\n",
    "    print('  Error:', e)\n"
   ]
  }
 ],
 "metadata": {},
 "nbformat": 4,
 "nbformat_minor": 5
}
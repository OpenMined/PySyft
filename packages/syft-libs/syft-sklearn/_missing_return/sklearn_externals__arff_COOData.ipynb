{
 "cells": [
  {
   "cell_type": "markdown",
   "id": "framed-continent",
   "metadata": {},
   "source": [
    "## sklearn.externals._arff.COOData"
   ]
  },
  {
   "cell_type": "code",
   "execution_count": null,
   "id": "identified-silver",
   "metadata": {},
   "outputs": [],
   "source": [
    "import sklearn\n",
    "def class_constructor(*args, **kwargs):\n",
    "    obj = sklearn.externals._arff.COOData()\n",
    "    return obj\n"
   ]
  },
  {
   "cell_type": "code",
   "execution_count": null,
   "id": "organized-effects",
   "metadata": {},
   "outputs": [],
   "source": [
    "# sklearn.externals._arff.COOData.decode_rows\n",
    "try:\n",
    "    obj = class_constructor() # noqa F821\n",
    "    ret = obj.decode_rows()\n",
    "    type_sklearn_externals__arff_COOData_decode_rows = getattr(ret, '__module__', 'none') + '.' + ret.__class__.__name__\n",
    "    print('✅ sklearn.externals._arff.COOData.decode_rows: ', type(ret)) # noqa E501\n",
    "except Exception as e:\n",
    "    type_sklearn_externals__arff_COOData_decode_rows = '_syft_missing'\n",
    "    print('❌ sklearn.externals._arff.COOData.decode_rows: Return unavailable') # noqa E501\n",
    "    print(\"  Please fix this return type code until there is no exception\")\n",
    "    print('  Error:', e)\n"
   ]
  },
  {
   "cell_type": "code",
   "execution_count": null,
   "id": "dying-gasoline",
   "metadata": {},
   "outputs": [],
   "source": [
    "# sklearn.externals._arff.COOData.encode_data\n",
    "try:\n",
    "    obj = class_constructor() # noqa F821\n",
    "    ret = obj.encode_data()\n",
    "    type_sklearn_externals__arff_COOData_encode_data = getattr(ret, '__module__', 'none') + '.' + ret.__class__.__name__\n",
    "    print('✅ sklearn.externals._arff.COOData.encode_data: ', type(ret)) # noqa E501\n",
    "except Exception as e:\n",
    "    type_sklearn_externals__arff_COOData_encode_data = '_syft_missing'\n",
    "    print('❌ sklearn.externals._arff.COOData.encode_data: Return unavailable') # noqa E501\n",
    "    print(\"  Please fix this return type code until there is no exception\")\n",
    "    print('  Error:', e)\n"
   ]
  }
 ],
 "metadata": {},
 "nbformat": 4,
 "nbformat_minor": 5
}
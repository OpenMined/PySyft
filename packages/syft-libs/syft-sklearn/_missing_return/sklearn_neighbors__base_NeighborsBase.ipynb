{
 "cells": [
  {
   "cell_type": "markdown",
   "id": "expected-python",
   "metadata": {},
   "source": [
    "## sklearn.neighbors._base.NeighborsBase"
   ]
  },
  {
   "cell_type": "code",
   "execution_count": null,
   "id": "champion-amplifier",
   "metadata": {},
   "outputs": [],
   "source": [
    "import sklearn\n",
    "def class_constructor(*args, **kwargs):\n",
    "    obj = sklearn.neighbors._base.NeighborsBase()\n",
    "    return obj\n"
   ]
  },
  {
   "cell_type": "code",
   "execution_count": null,
   "id": "iraqi-checkout",
   "metadata": {},
   "outputs": [],
   "source": [
    "# sklearn.neighbors._base.NeighborsBase.__getstate__\n",
    "try:\n",
    "    obj = class_constructor() # noqa F821\n",
    "    ret = obj.__getstate__()\n",
    "    type_sklearn_neighbors__base_NeighborsBase___getstate__ = getattr(ret, '__module__', 'none') + '.' + ret.__class__.__name__\n",
    "    print('✅ sklearn.neighbors._base.NeighborsBase.__getstate__: ', type(ret)) # noqa E501\n",
    "except Exception as e:\n",
    "    type_sklearn_neighbors__base_NeighborsBase___getstate__ = '_syft_missing'\n",
    "    print('❌ sklearn.neighbors._base.NeighborsBase.__getstate__: Return unavailable') # noqa E501\n",
    "    print(\"  Please fix this return type code until there is no exception\")\n",
    "    print('  Error:', e)\n"
   ]
  },
  {
   "cell_type": "code",
   "execution_count": null,
   "id": "sustainable-paint",
   "metadata": {},
   "outputs": [],
   "source": [
    "# sklearn.neighbors._base.NeighborsBase.__repr__\n",
    "try:\n",
    "    obj = class_constructor() # noqa F821\n",
    "    ret = obj.__repr__()\n",
    "    type_sklearn_neighbors__base_NeighborsBase___repr__ = getattr(ret, '__module__', 'none') + '.' + ret.__class__.__name__\n",
    "    print('✅ sklearn.neighbors._base.NeighborsBase.__repr__: ', type(ret)) # noqa E501\n",
    "except Exception as e:\n",
    "    type_sklearn_neighbors__base_NeighborsBase___repr__ = '_syft_missing'\n",
    "    print('❌ sklearn.neighbors._base.NeighborsBase.__repr__: Return unavailable') # noqa E501\n",
    "    print(\"  Please fix this return type code until there is no exception\")\n",
    "    print('  Error:', e)\n"
   ]
  },
  {
   "cell_type": "code",
   "execution_count": null,
   "id": "weighted-religious",
   "metadata": {},
   "outputs": [],
   "source": [
    "# sklearn.neighbors._base.NeighborsBase.__setstate__\n",
    "try:\n",
    "    obj = class_constructor() # noqa F821\n",
    "    ret = obj.__setstate__()\n",
    "    type_sklearn_neighbors__base_NeighborsBase___setstate__ = getattr(ret, '__module__', 'none') + '.' + ret.__class__.__name__\n",
    "    print('✅ sklearn.neighbors._base.NeighborsBase.__setstate__: ', type(ret)) # noqa E501\n",
    "except Exception as e:\n",
    "    type_sklearn_neighbors__base_NeighborsBase___setstate__ = '_syft_missing'\n",
    "    print('❌ sklearn.neighbors._base.NeighborsBase.__setstate__: Return unavailable') # noqa E501\n",
    "    print(\"  Please fix this return type code until there is no exception\")\n",
    "    print('  Error:', e)\n"
   ]
  },
  {
   "cell_type": "code",
   "execution_count": null,
   "id": "checked-trinidad",
   "metadata": {},
   "outputs": [],
   "source": [
    "# sklearn.neighbors._base.NeighborsBase._check_algorithm_metric\n",
    "try:\n",
    "    obj = class_constructor() # noqa F821\n",
    "    ret = obj._check_algorithm_metric()\n",
    "    type_sklearn_neighbors__base_NeighborsBase__check_algorithm_metric = getattr(ret, '__module__', 'none') + '.' + ret.__class__.__name__\n",
    "    print('✅ sklearn.neighbors._base.NeighborsBase._check_algorithm_metric: ', type(ret)) # noqa E501\n",
    "except Exception as e:\n",
    "    type_sklearn_neighbors__base_NeighborsBase__check_algorithm_metric = '_syft_missing'\n",
    "    print('❌ sklearn.neighbors._base.NeighborsBase._check_algorithm_metric: Return unavailable') # noqa E501\n",
    "    print(\"  Please fix this return type code until there is no exception\")\n",
    "    print('  Error:', e)\n"
   ]
  },
  {
   "cell_type": "code",
   "execution_count": null,
   "id": "lightweight-vertical",
   "metadata": {},
   "outputs": [],
   "source": [
    "# sklearn.neighbors._base.NeighborsBase._check_n_features\n",
    "try:\n",
    "    obj = class_constructor() # noqa F821\n",
    "    ret = obj._check_n_features()\n",
    "    type_sklearn_neighbors__base_NeighborsBase__check_n_features = getattr(ret, '__module__', 'none') + '.' + ret.__class__.__name__\n",
    "    print('✅ sklearn.neighbors._base.NeighborsBase._check_n_features: ', type(ret)) # noqa E501\n",
    "except Exception as e:\n",
    "    type_sklearn_neighbors__base_NeighborsBase__check_n_features = '_syft_missing'\n",
    "    print('❌ sklearn.neighbors._base.NeighborsBase._check_n_features: Return unavailable') # noqa E501\n",
    "    print(\"  Please fix this return type code until there is no exception\")\n",
    "    print('  Error:', e)\n"
   ]
  },
  {
   "cell_type": "code",
   "execution_count": null,
   "id": "built-reputation",
   "metadata": {},
   "outputs": [],
   "source": [
    "# sklearn.neighbors._base.NeighborsBase._fit\n",
    "try:\n",
    "    obj = class_constructor() # noqa F821\n",
    "    ret = obj._fit()\n",
    "    type_sklearn_neighbors__base_NeighborsBase__fit = getattr(ret, '__module__', 'none') + '.' + ret.__class__.__name__\n",
    "    print('✅ sklearn.neighbors._base.NeighborsBase._fit: ', type(ret)) # noqa E501\n",
    "except Exception as e:\n",
    "    type_sklearn_neighbors__base_NeighborsBase__fit = '_syft_missing'\n",
    "    print('❌ sklearn.neighbors._base.NeighborsBase._fit: Return unavailable') # noqa E501\n",
    "    print(\"  Please fix this return type code until there is no exception\")\n",
    "    print('  Error:', e)\n"
   ]
  },
  {
   "cell_type": "code",
   "execution_count": null,
   "id": "center-charter",
   "metadata": {},
   "outputs": [],
   "source": [
    "# sklearn.neighbors._base.NeighborsBase._get_param_names\n",
    "try:\n",
    "    obj = class_constructor() # noqa F821\n",
    "    ret = obj._get_param_names()\n",
    "    type_sklearn_neighbors__base_NeighborsBase__get_param_names = getattr(ret, '__module__', 'none') + '.' + ret.__class__.__name__\n",
    "    print('✅ sklearn.neighbors._base.NeighborsBase._get_param_names: ', type(ret)) # noqa E501\n",
    "except Exception as e:\n",
    "    type_sklearn_neighbors__base_NeighborsBase__get_param_names = '_syft_missing'\n",
    "    print('❌ sklearn.neighbors._base.NeighborsBase._get_param_names: Return unavailable') # noqa E501\n",
    "    print(\"  Please fix this return type code until there is no exception\")\n",
    "    print('  Error:', e)\n"
   ]
  },
  {
   "cell_type": "code",
   "execution_count": null,
   "id": "indian-produce",
   "metadata": {},
   "outputs": [],
   "source": [
    "# sklearn.neighbors._base.NeighborsBase._get_tags\n",
    "try:\n",
    "    obj = class_constructor() # noqa F821\n",
    "    ret = obj._get_tags()\n",
    "    type_sklearn_neighbors__base_NeighborsBase__get_tags = getattr(ret, '__module__', 'none') + '.' + ret.__class__.__name__\n",
    "    print('✅ sklearn.neighbors._base.NeighborsBase._get_tags: ', type(ret)) # noqa E501\n",
    "except Exception as e:\n",
    "    type_sklearn_neighbors__base_NeighborsBase__get_tags = '_syft_missing'\n",
    "    print('❌ sklearn.neighbors._base.NeighborsBase._get_tags: Return unavailable') # noqa E501\n",
    "    print(\"  Please fix this return type code until there is no exception\")\n",
    "    print('  Error:', e)\n"
   ]
  },
  {
   "cell_type": "code",
   "execution_count": null,
   "id": "criminal-enemy",
   "metadata": {},
   "outputs": [],
   "source": [
    "# sklearn.neighbors._base.NeighborsBase._more_tags\n",
    "try:\n",
    "    obj = class_constructor() # noqa F821\n",
    "    ret = obj._more_tags()\n",
    "    type_sklearn_neighbors__base_NeighborsBase__more_tags = getattr(ret, '__module__', 'none') + '.' + ret.__class__.__name__\n",
    "    print('✅ sklearn.neighbors._base.NeighborsBase._more_tags: ', type(ret)) # noqa E501\n",
    "except Exception as e:\n",
    "    type_sklearn_neighbors__base_NeighborsBase__more_tags = '_syft_missing'\n",
    "    print('❌ sklearn.neighbors._base.NeighborsBase._more_tags: Return unavailable') # noqa E501\n",
    "    print(\"  Please fix this return type code until there is no exception\")\n",
    "    print('  Error:', e)\n"
   ]
  },
  {
   "cell_type": "code",
   "execution_count": null,
   "id": "atmospheric-tanzania",
   "metadata": {},
   "outputs": [],
   "source": [
    "# sklearn.neighbors._base.NeighborsBase._pairwise\n",
    "try:\n",
    "    obj = class_constructor()\n",
    "    ret = obj._pairwise\n",
    "    type_sklearn_neighbors__base_NeighborsBase__pairwise = getattr(ret, '__module__', 'none') + '.' + ret.__class__.__name__\n",
    "    print('✅ sklearn.neighbors._base.NeighborsBase._pairwise:', type(ret)) # noqa E501\n",
    "except Exception as e:\n",
    "    type_sklearn_neighbors__base_NeighborsBase__pairwise = '_syft_missing'\n",
    "    print('❌ sklearn.neighbors._base.NeighborsBase._pairwise: Return unavailable') # noqa E501\n",
    "    print(\"  Please fix this return type code until there is no exception\")\n",
    "    print('  Error:', e)\n"
   ]
  },
  {
   "cell_type": "code",
   "execution_count": null,
   "id": "boxed-globe",
   "metadata": {},
   "outputs": [],
   "source": [
    "# sklearn.neighbors._base.NeighborsBase._repr_html_\n",
    "try:\n",
    "    obj = class_constructor()\n",
    "    ret = obj._repr_html_\n",
    "    type_sklearn_neighbors__base_NeighborsBase__repr_html_ = getattr(ret, '__module__', 'none') + '.' + ret.__class__.__name__\n",
    "    print('✅ sklearn.neighbors._base.NeighborsBase._repr_html_:', type(ret)) # noqa E501\n",
    "except Exception as e:\n",
    "    type_sklearn_neighbors__base_NeighborsBase__repr_html_ = '_syft_missing'\n",
    "    print('❌ sklearn.neighbors._base.NeighborsBase._repr_html_: Return unavailable') # noqa E501\n",
    "    print(\"  Please fix this return type code until there is no exception\")\n",
    "    print('  Error:', e)\n"
   ]
  },
  {
   "cell_type": "code",
   "execution_count": null,
   "id": "amazing-championship",
   "metadata": {},
   "outputs": [],
   "source": [
    "# sklearn.neighbors._base.NeighborsBase._repr_html_inner\n",
    "try:\n",
    "    obj = class_constructor() # noqa F821\n",
    "    ret = obj._repr_html_inner()\n",
    "    type_sklearn_neighbors__base_NeighborsBase__repr_html_inner = getattr(ret, '__module__', 'none') + '.' + ret.__class__.__name__\n",
    "    print('✅ sklearn.neighbors._base.NeighborsBase._repr_html_inner: ', type(ret)) # noqa E501\n",
    "except Exception as e:\n",
    "    type_sklearn_neighbors__base_NeighborsBase__repr_html_inner = '_syft_missing'\n",
    "    print('❌ sklearn.neighbors._base.NeighborsBase._repr_html_inner: Return unavailable') # noqa E501\n",
    "    print(\"  Please fix this return type code until there is no exception\")\n",
    "    print('  Error:', e)\n"
   ]
  },
  {
   "cell_type": "code",
   "execution_count": null,
   "id": "emerging-switzerland",
   "metadata": {},
   "outputs": [],
   "source": [
    "# sklearn.neighbors._base.NeighborsBase._repr_mimebundle_\n",
    "try:\n",
    "    obj = class_constructor() # noqa F821\n",
    "    ret = obj._repr_mimebundle_()\n",
    "    type_sklearn_neighbors__base_NeighborsBase__repr_mimebundle_ = getattr(ret, '__module__', 'none') + '.' + ret.__class__.__name__\n",
    "    print('✅ sklearn.neighbors._base.NeighborsBase._repr_mimebundle_: ', type(ret)) # noqa E501\n",
    "except Exception as e:\n",
    "    type_sklearn_neighbors__base_NeighborsBase__repr_mimebundle_ = '_syft_missing'\n",
    "    print('❌ sklearn.neighbors._base.NeighborsBase._repr_mimebundle_: Return unavailable') # noqa E501\n",
    "    print(\"  Please fix this return type code until there is no exception\")\n",
    "    print('  Error:', e)\n"
   ]
  },
  {
   "cell_type": "code",
   "execution_count": null,
   "id": "funky-terrain",
   "metadata": {},
   "outputs": [],
   "source": [
    "# sklearn.neighbors._base.NeighborsBase._validate_data\n",
    "try:\n",
    "    obj = class_constructor() # noqa F821\n",
    "    ret = obj._validate_data()\n",
    "    type_sklearn_neighbors__base_NeighborsBase__validate_data = getattr(ret, '__module__', 'none') + '.' + ret.__class__.__name__\n",
    "    print('✅ sklearn.neighbors._base.NeighborsBase._validate_data: ', type(ret)) # noqa E501\n",
    "except Exception as e:\n",
    "    type_sklearn_neighbors__base_NeighborsBase__validate_data = '_syft_missing'\n",
    "    print('❌ sklearn.neighbors._base.NeighborsBase._validate_data: Return unavailable') # noqa E501\n",
    "    print(\"  Please fix this return type code until there is no exception\")\n",
    "    print('  Error:', e)\n"
   ]
  },
  {
   "cell_type": "code",
   "execution_count": null,
   "id": "arabic-rotation",
   "metadata": {},
   "outputs": [],
   "source": [
    "# sklearn.neighbors._base.NeighborsBase.get_params\n",
    "try:\n",
    "    obj = class_constructor() # noqa F821\n",
    "    ret = obj.get_params()\n",
    "    type_sklearn_neighbors__base_NeighborsBase_get_params = getattr(ret, '__module__', 'none') + '.' + ret.__class__.__name__\n",
    "    print('✅ sklearn.neighbors._base.NeighborsBase.get_params: ', type(ret)) # noqa E501\n",
    "except Exception as e:\n",
    "    type_sklearn_neighbors__base_NeighborsBase_get_params = '_syft_missing'\n",
    "    print('❌ sklearn.neighbors._base.NeighborsBase.get_params: Return unavailable') # noqa E501\n",
    "    print(\"  Please fix this return type code until there is no exception\")\n",
    "    print('  Error:', e)\n"
   ]
  },
  {
   "cell_type": "code",
   "execution_count": null,
   "id": "desperate-transmission",
   "metadata": {},
   "outputs": [],
   "source": [
    "# sklearn.neighbors._base.NeighborsBase.set_params\n",
    "try:\n",
    "    obj = class_constructor() # noqa F821\n",
    "    ret = obj.set_params()\n",
    "    type_sklearn_neighbors__base_NeighborsBase_set_params = getattr(ret, '__module__', 'none') + '.' + ret.__class__.__name__\n",
    "    print('✅ sklearn.neighbors._base.NeighborsBase.set_params: ', type(ret)) # noqa E501\n",
    "except Exception as e:\n",
    "    type_sklearn_neighbors__base_NeighborsBase_set_params = '_syft_missing'\n",
    "    print('❌ sklearn.neighbors._base.NeighborsBase.set_params: Return unavailable') # noqa E501\n",
    "    print(\"  Please fix this return type code until there is no exception\")\n",
    "    print('  Error:', e)\n"
   ]
  }
 ],
 "metadata": {},
 "nbformat": 4,
 "nbformat_minor": 5
}
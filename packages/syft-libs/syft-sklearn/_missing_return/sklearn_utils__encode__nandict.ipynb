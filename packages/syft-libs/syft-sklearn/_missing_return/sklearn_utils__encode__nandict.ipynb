{
 "cells": [
  {
   "cell_type": "markdown",
   "id": "biological-ownership",
   "metadata": {},
   "source": [
    "## sklearn.utils._encode._nandict"
   ]
  },
  {
   "cell_type": "code",
   "execution_count": null,
   "id": "optical-match",
   "metadata": {},
   "outputs": [],
   "source": [
    "import sklearn\n",
    "def class_constructor(*args, **kwargs):\n",
    "    obj = sklearn.utils._encode._nandict()\n",
    "    return obj\n"
   ]
  },
  {
   "cell_type": "code",
   "execution_count": null,
   "id": "perfect-thermal",
   "metadata": {},
   "outputs": [],
   "source": [
    "# sklearn.utils._encode._nandict.__missing__\n",
    "try:\n",
    "    obj = class_constructor() # noqa F821\n",
    "    ret = obj.__missing__()\n",
    "    type_sklearn_utils__encode__nandict___missing__ = getattr(ret, '__module__', 'none') + '.' + ret.__class__.__name__\n",
    "    print('✅ sklearn.utils._encode._nandict.__missing__: ', type(ret)) # noqa E501\n",
    "except Exception as e:\n",
    "    type_sklearn_utils__encode__nandict___missing__ = '_syft_missing'\n",
    "    print('❌ sklearn.utils._encode._nandict.__missing__: Return unavailable') # noqa E501\n",
    "    print(\"  Please fix this return type code until there is no exception\")\n",
    "    print('  Error:', e)\n"
   ]
  }
 ],
 "metadata": {},
 "nbformat": 4,
 "nbformat_minor": 5
}
{
 "cells": [
  {
   "cell_type": "markdown",
   "id": "insured-psychiatry",
   "metadata": {},
   "source": [
    "## sklearn.linear_model._glm.link.BaseLink"
   ]
  },
  {
   "cell_type": "code",
   "execution_count": null,
   "id": "outside-uniform",
   "metadata": {},
   "outputs": [],
   "source": [
    "import sklearn\n",
    "def class_constructor(*args, **kwargs):\n",
    "    obj = sklearn.linear_model._glm.link.BaseLink()\n",
    "    return obj\n"
   ]
  },
  {
   "cell_type": "code",
   "execution_count": null,
   "id": "vocational-satisfaction",
   "metadata": {},
   "outputs": [],
   "source": [
    "# sklearn.linear_model._glm.link.BaseLink.__call__\n",
    "try:\n",
    "    obj = class_constructor() # noqa F821\n",
    "    ret = obj.__call__()\n",
    "    type_sklearn_linear_model__glm_link_BaseLink___call__ = getattr(ret, '__module__', 'none') + '.' + ret.__class__.__name__\n",
    "    print('✅ sklearn.linear_model._glm.link.BaseLink.__call__: ', type(ret)) # noqa E501\n",
    "except Exception as e:\n",
    "    type_sklearn_linear_model__glm_link_BaseLink___call__ = '_syft_missing'\n",
    "    print('❌ sklearn.linear_model._glm.link.BaseLink.__call__: Return unavailable') # noqa E501\n",
    "    print(\"  Please fix this return type code until there is no exception\")\n",
    "    print('  Error:', e)\n"
   ]
  },
  {
   "cell_type": "code",
   "execution_count": null,
   "id": "sunrise-harmony",
   "metadata": {},
   "outputs": [],
   "source": [
    "# sklearn.linear_model._glm.link.BaseLink.derivative\n",
    "try:\n",
    "    obj = class_constructor() # noqa F821\n",
    "    ret = obj.derivative()\n",
    "    type_sklearn_linear_model__glm_link_BaseLink_derivative = getattr(ret, '__module__', 'none') + '.' + ret.__class__.__name__\n",
    "    print('✅ sklearn.linear_model._glm.link.BaseLink.derivative: ', type(ret)) # noqa E501\n",
    "except Exception as e:\n",
    "    type_sklearn_linear_model__glm_link_BaseLink_derivative = '_syft_missing'\n",
    "    print('❌ sklearn.linear_model._glm.link.BaseLink.derivative: Return unavailable') # noqa E501\n",
    "    print(\"  Please fix this return type code until there is no exception\")\n",
    "    print('  Error:', e)\n"
   ]
  },
  {
   "cell_type": "code",
   "execution_count": null,
   "id": "adverse-syracuse",
   "metadata": {},
   "outputs": [],
   "source": [
    "# sklearn.linear_model._glm.link.BaseLink.inverse\n",
    "try:\n",
    "    obj = class_constructor() # noqa F821\n",
    "    ret = obj.inverse()\n",
    "    type_sklearn_linear_model__glm_link_BaseLink_inverse = getattr(ret, '__module__', 'none') + '.' + ret.__class__.__name__\n",
    "    print('✅ sklearn.linear_model._glm.link.BaseLink.inverse: ', type(ret)) # noqa E501\n",
    "except Exception as e:\n",
    "    type_sklearn_linear_model__glm_link_BaseLink_inverse = '_syft_missing'\n",
    "    print('❌ sklearn.linear_model._glm.link.BaseLink.inverse: Return unavailable') # noqa E501\n",
    "    print(\"  Please fix this return type code until there is no exception\")\n",
    "    print('  Error:', e)\n"
   ]
  },
  {
   "cell_type": "code",
   "execution_count": null,
   "id": "solar-tunisia",
   "metadata": {},
   "outputs": [],
   "source": [
    "# sklearn.linear_model._glm.link.BaseLink.inverse_derivative\n",
    "try:\n",
    "    obj = class_constructor() # noqa F821\n",
    "    ret = obj.inverse_derivative()\n",
    "    type_sklearn_linear_model__glm_link_BaseLink_inverse_derivative = getattr(ret, '__module__', 'none') + '.' + ret.__class__.__name__\n",
    "    print('✅ sklearn.linear_model._glm.link.BaseLink.inverse_derivative: ', type(ret)) # noqa E501\n",
    "except Exception as e:\n",
    "    type_sklearn_linear_model__glm_link_BaseLink_inverse_derivative = '_syft_missing'\n",
    "    print('❌ sklearn.linear_model._glm.link.BaseLink.inverse_derivative: Return unavailable') # noqa E501\n",
    "    print(\"  Please fix this return type code until there is no exception\")\n",
    "    print('  Error:', e)\n"
   ]
  }
 ],
 "metadata": {},
 "nbformat": 4,
 "nbformat_minor": 5
}
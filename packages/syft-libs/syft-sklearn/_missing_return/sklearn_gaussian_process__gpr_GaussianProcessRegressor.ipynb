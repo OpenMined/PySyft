{
 "cells": [
  {
   "cell_type": "markdown",
   "id": "human-maryland",
   "metadata": {},
   "source": [
    "## sklearn.gaussian_process._gpr.GaussianProcessRegressor"
   ]
  },
  {
   "cell_type": "code",
   "execution_count": null,
   "id": "loose-necklace",
   "metadata": {},
   "outputs": [],
   "source": [
    "import sklearn\n",
    "def class_constructor(*args, **kwargs):\n",
    "    obj = sklearn.gaussian_process._gpr.GaussianProcessRegressor()\n",
    "    return obj\n"
   ]
  },
  {
   "cell_type": "code",
   "execution_count": null,
   "id": "otherwise-meaning",
   "metadata": {},
   "outputs": [],
   "source": [
    "# sklearn.gaussian_process._gpr.GaussianProcessRegressor.__getstate__\n",
    "try:\n",
    "    obj = class_constructor() # noqa F821\n",
    "    ret = obj.__getstate__()\n",
    "    type_sklearn_gaussian_process__gpr_GaussianProcessRegressor___getstate__ = getattr(ret, '__module__', 'none') + '.' + ret.__class__.__name__\n",
    "    print('✅ sklearn.gaussian_process._gpr.GaussianProcessRegressor.__getstate__: ', type(ret)) # noqa E501\n",
    "except Exception as e:\n",
    "    type_sklearn_gaussian_process__gpr_GaussianProcessRegressor___getstate__ = '_syft_missing'\n",
    "    print('❌ sklearn.gaussian_process._gpr.GaussianProcessRegressor.__getstate__: Return unavailable') # noqa E501\n",
    "    print(\"  Please fix this return type code until there is no exception\")\n",
    "    print('  Error:', e)\n"
   ]
  },
  {
   "cell_type": "code",
   "execution_count": null,
   "id": "restricted-military",
   "metadata": {},
   "outputs": [],
   "source": [
    "# sklearn.gaussian_process._gpr.GaussianProcessRegressor.__repr__\n",
    "try:\n",
    "    obj = class_constructor() # noqa F821\n",
    "    ret = obj.__repr__()\n",
    "    type_sklearn_gaussian_process__gpr_GaussianProcessRegressor___repr__ = getattr(ret, '__module__', 'none') + '.' + ret.__class__.__name__\n",
    "    print('✅ sklearn.gaussian_process._gpr.GaussianProcessRegressor.__repr__: ', type(ret)) # noqa E501\n",
    "except Exception as e:\n",
    "    type_sklearn_gaussian_process__gpr_GaussianProcessRegressor___repr__ = '_syft_missing'\n",
    "    print('❌ sklearn.gaussian_process._gpr.GaussianProcessRegressor.__repr__: Return unavailable') # noqa E501\n",
    "    print(\"  Please fix this return type code until there is no exception\")\n",
    "    print('  Error:', e)\n"
   ]
  },
  {
   "cell_type": "code",
   "execution_count": null,
   "id": "necessary-seafood",
   "metadata": {},
   "outputs": [],
   "source": [
    "# sklearn.gaussian_process._gpr.GaussianProcessRegressor.__setstate__\n",
    "try:\n",
    "    obj = class_constructor() # noqa F821\n",
    "    ret = obj.__setstate__()\n",
    "    type_sklearn_gaussian_process__gpr_GaussianProcessRegressor___setstate__ = getattr(ret, '__module__', 'none') + '.' + ret.__class__.__name__\n",
    "    print('✅ sklearn.gaussian_process._gpr.GaussianProcessRegressor.__setstate__: ', type(ret)) # noqa E501\n",
    "except Exception as e:\n",
    "    type_sklearn_gaussian_process__gpr_GaussianProcessRegressor___setstate__ = '_syft_missing'\n",
    "    print('❌ sklearn.gaussian_process._gpr.GaussianProcessRegressor.__setstate__: Return unavailable') # noqa E501\n",
    "    print(\"  Please fix this return type code until there is no exception\")\n",
    "    print('  Error:', e)\n"
   ]
  },
  {
   "cell_type": "code",
   "execution_count": null,
   "id": "expensive-dover",
   "metadata": {},
   "outputs": [],
   "source": [
    "# sklearn.gaussian_process._gpr.GaussianProcessRegressor._check_n_features\n",
    "try:\n",
    "    obj = class_constructor() # noqa F821\n",
    "    ret = obj._check_n_features()\n",
    "    type_sklearn_gaussian_process__gpr_GaussianProcessRegressor__check_n_features = getattr(ret, '__module__', 'none') + '.' + ret.__class__.__name__\n",
    "    print('✅ sklearn.gaussian_process._gpr.GaussianProcessRegressor._check_n_features: ', type(ret)) # noqa E501\n",
    "except Exception as e:\n",
    "    type_sklearn_gaussian_process__gpr_GaussianProcessRegressor__check_n_features = '_syft_missing'\n",
    "    print('❌ sklearn.gaussian_process._gpr.GaussianProcessRegressor._check_n_features: Return unavailable') # noqa E501\n",
    "    print(\"  Please fix this return type code until there is no exception\")\n",
    "    print('  Error:', e)\n"
   ]
  },
  {
   "cell_type": "code",
   "execution_count": null,
   "id": "desperate-orlando",
   "metadata": {},
   "outputs": [],
   "source": [
    "# sklearn.gaussian_process._gpr.GaussianProcessRegressor._constrained_optimization\n",
    "try:\n",
    "    obj = class_constructor() # noqa F821\n",
    "    ret = obj._constrained_optimization()\n",
    "    type_sklearn_gaussian_process__gpr_GaussianProcessRegressor__constrained_optimization = getattr(ret, '__module__', 'none') + '.' + ret.__class__.__name__\n",
    "    print('✅ sklearn.gaussian_process._gpr.GaussianProcessRegressor._constrained_optimization: ', type(ret)) # noqa E501\n",
    "except Exception as e:\n",
    "    type_sklearn_gaussian_process__gpr_GaussianProcessRegressor__constrained_optimization = '_syft_missing'\n",
    "    print('❌ sklearn.gaussian_process._gpr.GaussianProcessRegressor._constrained_optimization: Return unavailable') # noqa E501\n",
    "    print(\"  Please fix this return type code until there is no exception\")\n",
    "    print('  Error:', e)\n"
   ]
  },
  {
   "cell_type": "code",
   "execution_count": null,
   "id": "assigned-delay",
   "metadata": {},
   "outputs": [],
   "source": [
    "# sklearn.gaussian_process._gpr.GaussianProcessRegressor._get_param_names\n",
    "try:\n",
    "    obj = class_constructor() # noqa F821\n",
    "    ret = obj._get_param_names()\n",
    "    type_sklearn_gaussian_process__gpr_GaussianProcessRegressor__get_param_names = getattr(ret, '__module__', 'none') + '.' + ret.__class__.__name__\n",
    "    print('✅ sklearn.gaussian_process._gpr.GaussianProcessRegressor._get_param_names: ', type(ret)) # noqa E501\n",
    "except Exception as e:\n",
    "    type_sklearn_gaussian_process__gpr_GaussianProcessRegressor__get_param_names = '_syft_missing'\n",
    "    print('❌ sklearn.gaussian_process._gpr.GaussianProcessRegressor._get_param_names: Return unavailable') # noqa E501\n",
    "    print(\"  Please fix this return type code until there is no exception\")\n",
    "    print('  Error:', e)\n"
   ]
  },
  {
   "cell_type": "code",
   "execution_count": null,
   "id": "miniature-showcase",
   "metadata": {},
   "outputs": [],
   "source": [
    "# sklearn.gaussian_process._gpr.GaussianProcessRegressor._get_tags\n",
    "try:\n",
    "    obj = class_constructor() # noqa F821\n",
    "    ret = obj._get_tags()\n",
    "    type_sklearn_gaussian_process__gpr_GaussianProcessRegressor__get_tags = getattr(ret, '__module__', 'none') + '.' + ret.__class__.__name__\n",
    "    print('✅ sklearn.gaussian_process._gpr.GaussianProcessRegressor._get_tags: ', type(ret)) # noqa E501\n",
    "except Exception as e:\n",
    "    type_sklearn_gaussian_process__gpr_GaussianProcessRegressor__get_tags = '_syft_missing'\n",
    "    print('❌ sklearn.gaussian_process._gpr.GaussianProcessRegressor._get_tags: Return unavailable') # noqa E501\n",
    "    print(\"  Please fix this return type code until there is no exception\")\n",
    "    print('  Error:', e)\n"
   ]
  },
  {
   "cell_type": "code",
   "execution_count": null,
   "id": "french-category",
   "metadata": {},
   "outputs": [],
   "source": [
    "# sklearn.gaussian_process._gpr.GaussianProcessRegressor._more_tags\n",
    "try:\n",
    "    obj = class_constructor() # noqa F821\n",
    "    ret = obj._more_tags()\n",
    "    type_sklearn_gaussian_process__gpr_GaussianProcessRegressor__more_tags = getattr(ret, '__module__', 'none') + '.' + ret.__class__.__name__\n",
    "    print('✅ sklearn.gaussian_process._gpr.GaussianProcessRegressor._more_tags: ', type(ret)) # noqa E501\n",
    "except Exception as e:\n",
    "    type_sklearn_gaussian_process__gpr_GaussianProcessRegressor__more_tags = '_syft_missing'\n",
    "    print('❌ sklearn.gaussian_process._gpr.GaussianProcessRegressor._more_tags: Return unavailable') # noqa E501\n",
    "    print(\"  Please fix this return type code until there is no exception\")\n",
    "    print('  Error:', e)\n"
   ]
  },
  {
   "cell_type": "code",
   "execution_count": null,
   "id": "modular-november",
   "metadata": {},
   "outputs": [],
   "source": [
    "# sklearn.gaussian_process._gpr.GaussianProcessRegressor._repr_html_\n",
    "try:\n",
    "    obj = class_constructor()\n",
    "    ret = obj._repr_html_\n",
    "    type_sklearn_gaussian_process__gpr_GaussianProcessRegressor__repr_html_ = getattr(ret, '__module__', 'none') + '.' + ret.__class__.__name__\n",
    "    print('✅ sklearn.gaussian_process._gpr.GaussianProcessRegressor._repr_html_:', type(ret)) # noqa E501\n",
    "except Exception as e:\n",
    "    type_sklearn_gaussian_process__gpr_GaussianProcessRegressor__repr_html_ = '_syft_missing'\n",
    "    print('❌ sklearn.gaussian_process._gpr.GaussianProcessRegressor._repr_html_: Return unavailable') # noqa E501\n",
    "    print(\"  Please fix this return type code until there is no exception\")\n",
    "    print('  Error:', e)\n"
   ]
  },
  {
   "cell_type": "code",
   "execution_count": null,
   "id": "talented-visibility",
   "metadata": {},
   "outputs": [],
   "source": [
    "# sklearn.gaussian_process._gpr.GaussianProcessRegressor._repr_html_inner\n",
    "try:\n",
    "    obj = class_constructor() # noqa F821\n",
    "    ret = obj._repr_html_inner()\n",
    "    type_sklearn_gaussian_process__gpr_GaussianProcessRegressor__repr_html_inner = getattr(ret, '__module__', 'none') + '.' + ret.__class__.__name__\n",
    "    print('✅ sklearn.gaussian_process._gpr.GaussianProcessRegressor._repr_html_inner: ', type(ret)) # noqa E501\n",
    "except Exception as e:\n",
    "    type_sklearn_gaussian_process__gpr_GaussianProcessRegressor__repr_html_inner = '_syft_missing'\n",
    "    print('❌ sklearn.gaussian_process._gpr.GaussianProcessRegressor._repr_html_inner: Return unavailable') # noqa E501\n",
    "    print(\"  Please fix this return type code until there is no exception\")\n",
    "    print('  Error:', e)\n"
   ]
  },
  {
   "cell_type": "code",
   "execution_count": null,
   "id": "extended-niger",
   "metadata": {},
   "outputs": [],
   "source": [
    "# sklearn.gaussian_process._gpr.GaussianProcessRegressor._repr_mimebundle_\n",
    "try:\n",
    "    obj = class_constructor() # noqa F821\n",
    "    ret = obj._repr_mimebundle_()\n",
    "    type_sklearn_gaussian_process__gpr_GaussianProcessRegressor__repr_mimebundle_ = getattr(ret, '__module__', 'none') + '.' + ret.__class__.__name__\n",
    "    print('✅ sklearn.gaussian_process._gpr.GaussianProcessRegressor._repr_mimebundle_: ', type(ret)) # noqa E501\n",
    "except Exception as e:\n",
    "    type_sklearn_gaussian_process__gpr_GaussianProcessRegressor__repr_mimebundle_ = '_syft_missing'\n",
    "    print('❌ sklearn.gaussian_process._gpr.GaussianProcessRegressor._repr_mimebundle_: Return unavailable') # noqa E501\n",
    "    print(\"  Please fix this return type code until there is no exception\")\n",
    "    print('  Error:', e)\n"
   ]
  },
  {
   "cell_type": "code",
   "execution_count": null,
   "id": "sonic-audit",
   "metadata": {},
   "outputs": [],
   "source": [
    "# sklearn.gaussian_process._gpr.GaussianProcessRegressor._validate_data\n",
    "try:\n",
    "    obj = class_constructor() # noqa F821\n",
    "    ret = obj._validate_data()\n",
    "    type_sklearn_gaussian_process__gpr_GaussianProcessRegressor__validate_data = getattr(ret, '__module__', 'none') + '.' + ret.__class__.__name__\n",
    "    print('✅ sklearn.gaussian_process._gpr.GaussianProcessRegressor._validate_data: ', type(ret)) # noqa E501\n",
    "except Exception as e:\n",
    "    type_sklearn_gaussian_process__gpr_GaussianProcessRegressor__validate_data = '_syft_missing'\n",
    "    print('❌ sklearn.gaussian_process._gpr.GaussianProcessRegressor._validate_data: Return unavailable') # noqa E501\n",
    "    print(\"  Please fix this return type code until there is no exception\")\n",
    "    print('  Error:', e)\n"
   ]
  },
  {
   "cell_type": "code",
   "execution_count": null,
   "id": "mobile-dispatch",
   "metadata": {},
   "outputs": [],
   "source": [
    "# sklearn.gaussian_process._gpr.GaussianProcessRegressor.fit\n",
    "try:\n",
    "    obj = class_constructor() # noqa F821\n",
    "    ret = obj.fit()\n",
    "    type_sklearn_gaussian_process__gpr_GaussianProcessRegressor_fit = getattr(ret, '__module__', 'none') + '.' + ret.__class__.__name__\n",
    "    print('✅ sklearn.gaussian_process._gpr.GaussianProcessRegressor.fit: ', type(ret)) # noqa E501\n",
    "except Exception as e:\n",
    "    type_sklearn_gaussian_process__gpr_GaussianProcessRegressor_fit = '_syft_missing'\n",
    "    print('❌ sklearn.gaussian_process._gpr.GaussianProcessRegressor.fit: Return unavailable') # noqa E501\n",
    "    print(\"  Please fix this return type code until there is no exception\")\n",
    "    print('  Error:', e)\n"
   ]
  },
  {
   "cell_type": "code",
   "execution_count": null,
   "id": "portuguese-robertson",
   "metadata": {},
   "outputs": [],
   "source": [
    "# sklearn.gaussian_process._gpr.GaussianProcessRegressor.get_params\n",
    "try:\n",
    "    obj = class_constructor() # noqa F821\n",
    "    ret = obj.get_params()\n",
    "    type_sklearn_gaussian_process__gpr_GaussianProcessRegressor_get_params = getattr(ret, '__module__', 'none') + '.' + ret.__class__.__name__\n",
    "    print('✅ sklearn.gaussian_process._gpr.GaussianProcessRegressor.get_params: ', type(ret)) # noqa E501\n",
    "except Exception as e:\n",
    "    type_sklearn_gaussian_process__gpr_GaussianProcessRegressor_get_params = '_syft_missing'\n",
    "    print('❌ sklearn.gaussian_process._gpr.GaussianProcessRegressor.get_params: Return unavailable') # noqa E501\n",
    "    print(\"  Please fix this return type code until there is no exception\")\n",
    "    print('  Error:', e)\n"
   ]
  },
  {
   "cell_type": "code",
   "execution_count": null,
   "id": "norwegian-reunion",
   "metadata": {},
   "outputs": [],
   "source": [
    "# sklearn.gaussian_process._gpr.GaussianProcessRegressor.log_marginal_likelihood\n",
    "try:\n",
    "    obj = class_constructor() # noqa F821\n",
    "    ret = obj.log_marginal_likelihood()\n",
    "    type_sklearn_gaussian_process__gpr_GaussianProcessRegressor_log_marginal_likelihood = getattr(ret, '__module__', 'none') + '.' + ret.__class__.__name__\n",
    "    print('✅ sklearn.gaussian_process._gpr.GaussianProcessRegressor.log_marginal_likelihood: ', type(ret)) # noqa E501\n",
    "except Exception as e:\n",
    "    type_sklearn_gaussian_process__gpr_GaussianProcessRegressor_log_marginal_likelihood = '_syft_missing'\n",
    "    print('❌ sklearn.gaussian_process._gpr.GaussianProcessRegressor.log_marginal_likelihood: Return unavailable') # noqa E501\n",
    "    print(\"  Please fix this return type code until there is no exception\")\n",
    "    print('  Error:', e)\n"
   ]
  },
  {
   "cell_type": "code",
   "execution_count": null,
   "id": "scenic-basic",
   "metadata": {},
   "outputs": [],
   "source": [
    "# sklearn.gaussian_process._gpr.GaussianProcessRegressor.predict\n",
    "try:\n",
    "    obj = class_constructor() # noqa F821\n",
    "    ret = obj.predict()\n",
    "    type_sklearn_gaussian_process__gpr_GaussianProcessRegressor_predict = getattr(ret, '__module__', 'none') + '.' + ret.__class__.__name__\n",
    "    print('✅ sklearn.gaussian_process._gpr.GaussianProcessRegressor.predict: ', type(ret)) # noqa E501\n",
    "except Exception as e:\n",
    "    type_sklearn_gaussian_process__gpr_GaussianProcessRegressor_predict = '_syft_missing'\n",
    "    print('❌ sklearn.gaussian_process._gpr.GaussianProcessRegressor.predict: Return unavailable') # noqa E501\n",
    "    print(\"  Please fix this return type code until there is no exception\")\n",
    "    print('  Error:', e)\n"
   ]
  },
  {
   "cell_type": "code",
   "execution_count": null,
   "id": "voluntary-firmware",
   "metadata": {},
   "outputs": [],
   "source": [
    "# sklearn.gaussian_process._gpr.GaussianProcessRegressor.sample_y\n",
    "try:\n",
    "    obj = class_constructor() # noqa F821\n",
    "    ret = obj.sample_y()\n",
    "    type_sklearn_gaussian_process__gpr_GaussianProcessRegressor_sample_y = getattr(ret, '__module__', 'none') + '.' + ret.__class__.__name__\n",
    "    print('✅ sklearn.gaussian_process._gpr.GaussianProcessRegressor.sample_y: ', type(ret)) # noqa E501\n",
    "except Exception as e:\n",
    "    type_sklearn_gaussian_process__gpr_GaussianProcessRegressor_sample_y = '_syft_missing'\n",
    "    print('❌ sklearn.gaussian_process._gpr.GaussianProcessRegressor.sample_y: Return unavailable') # noqa E501\n",
    "    print(\"  Please fix this return type code until there is no exception\")\n",
    "    print('  Error:', e)\n"
   ]
  },
  {
   "cell_type": "code",
   "execution_count": null,
   "id": "brown-premiere",
   "metadata": {},
   "outputs": [],
   "source": [
    "# sklearn.gaussian_process._gpr.GaussianProcessRegressor.score\n",
    "try:\n",
    "    obj = class_constructor() # noqa F821\n",
    "    ret = obj.score()\n",
    "    type_sklearn_gaussian_process__gpr_GaussianProcessRegressor_score = getattr(ret, '__module__', 'none') + '.' + ret.__class__.__name__\n",
    "    print('✅ sklearn.gaussian_process._gpr.GaussianProcessRegressor.score: ', type(ret)) # noqa E501\n",
    "except Exception as e:\n",
    "    type_sklearn_gaussian_process__gpr_GaussianProcessRegressor_score = '_syft_missing'\n",
    "    print('❌ sklearn.gaussian_process._gpr.GaussianProcessRegressor.score: Return unavailable') # noqa E501\n",
    "    print(\"  Please fix this return type code until there is no exception\")\n",
    "    print('  Error:', e)\n"
   ]
  },
  {
   "cell_type": "code",
   "execution_count": null,
   "id": "blessed-tournament",
   "metadata": {},
   "outputs": [],
   "source": [
    "# sklearn.gaussian_process._gpr.GaussianProcessRegressor.set_params\n",
    "try:\n",
    "    obj = class_constructor() # noqa F821\n",
    "    ret = obj.set_params()\n",
    "    type_sklearn_gaussian_process__gpr_GaussianProcessRegressor_set_params = getattr(ret, '__module__', 'none') + '.' + ret.__class__.__name__\n",
    "    print('✅ sklearn.gaussian_process._gpr.GaussianProcessRegressor.set_params: ', type(ret)) # noqa E501\n",
    "except Exception as e:\n",
    "    type_sklearn_gaussian_process__gpr_GaussianProcessRegressor_set_params = '_syft_missing'\n",
    "    print('❌ sklearn.gaussian_process._gpr.GaussianProcessRegressor.set_params: Return unavailable') # noqa E501\n",
    "    print(\"  Please fix this return type code until there is no exception\")\n",
    "    print('  Error:', e)\n"
   ]
  }
 ],
 "metadata": {},
 "nbformat": 4,
 "nbformat_minor": 5
}
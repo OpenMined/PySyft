{
 "cells": [
  {
   "cell_type": "markdown",
   "id": "violent-seminar",
   "metadata": {},
   "source": [
    "## sklearn.inspection._plot.partial_dependence.PartialDependenceDisplay"
   ]
  },
  {
   "cell_type": "code",
   "execution_count": null,
   "id": "several-bloom",
   "metadata": {},
   "outputs": [],
   "source": [
    "import sklearn\n",
    "def class_constructor(*args, **kwargs):\n",
    "    obj = sklearn.inspection._plot.partial_dependence.PartialDependenceDisplay()\n",
    "    return obj\n"
   ]
  },
  {
   "cell_type": "code",
   "execution_count": null,
   "id": "modular-outdoors",
   "metadata": {},
   "outputs": [],
   "source": [
    "# sklearn.inspection._plot.partial_dependence.PartialDependenceDisplay._get_sample_count\n",
    "try:\n",
    "    obj = class_constructor() # noqa F821\n",
    "    ret = obj._get_sample_count()\n",
    "    type_sklearn_inspection__plot_partial_dependence_PartialDependenceDisplay__get_sample_count = getattr(ret, '__module__', 'none') + '.' + ret.__class__.__name__\n",
    "    print('✅ sklearn.inspection._plot.partial_dependence.PartialDependenceDisplay._get_sample_count: ', type(ret)) # noqa E501\n",
    "except Exception as e:\n",
    "    type_sklearn_inspection__plot_partial_dependence_PartialDependenceDisplay__get_sample_count = '_syft_missing'\n",
    "    print('❌ sklearn.inspection._plot.partial_dependence.PartialDependenceDisplay._get_sample_count: Return unavailable') # noqa E501\n",
    "    print(\"  Please fix this return type code until there is no exception\")\n",
    "    print('  Error:', e)\n"
   ]
  },
  {
   "cell_type": "code",
   "execution_count": null,
   "id": "working-mustang",
   "metadata": {},
   "outputs": [],
   "source": [
    "# sklearn.inspection._plot.partial_dependence.PartialDependenceDisplay._plot_average_dependence\n",
    "try:\n",
    "    obj = class_constructor() # noqa F821\n",
    "    ret = obj._plot_average_dependence()\n",
    "    type_sklearn_inspection__plot_partial_dependence_PartialDependenceDisplay__plot_average_dependence = getattr(ret, '__module__', 'none') + '.' + ret.__class__.__name__\n",
    "    print('✅ sklearn.inspection._plot.partial_dependence.PartialDependenceDisplay._plot_average_dependence: ', type(ret)) # noqa E501\n",
    "except Exception as e:\n",
    "    type_sklearn_inspection__plot_partial_dependence_PartialDependenceDisplay__plot_average_dependence = '_syft_missing'\n",
    "    print('❌ sklearn.inspection._plot.partial_dependence.PartialDependenceDisplay._plot_average_dependence: Return unavailable') # noqa E501\n",
    "    print(\"  Please fix this return type code until there is no exception\")\n",
    "    print('  Error:', e)\n"
   ]
  },
  {
   "cell_type": "code",
   "execution_count": null,
   "id": "graduate-control",
   "metadata": {},
   "outputs": [],
   "source": [
    "# sklearn.inspection._plot.partial_dependence.PartialDependenceDisplay._plot_ice_lines\n",
    "try:\n",
    "    obj = class_constructor() # noqa F821\n",
    "    ret = obj._plot_ice_lines()\n",
    "    type_sklearn_inspection__plot_partial_dependence_PartialDependenceDisplay__plot_ice_lines = getattr(ret, '__module__', 'none') + '.' + ret.__class__.__name__\n",
    "    print('✅ sklearn.inspection._plot.partial_dependence.PartialDependenceDisplay._plot_ice_lines: ', type(ret)) # noqa E501\n",
    "except Exception as e:\n",
    "    type_sklearn_inspection__plot_partial_dependence_PartialDependenceDisplay__plot_ice_lines = '_syft_missing'\n",
    "    print('❌ sklearn.inspection._plot.partial_dependence.PartialDependenceDisplay._plot_ice_lines: Return unavailable') # noqa E501\n",
    "    print(\"  Please fix this return type code until there is no exception\")\n",
    "    print('  Error:', e)\n"
   ]
  },
  {
   "cell_type": "code",
   "execution_count": null,
   "id": "concerned-court",
   "metadata": {},
   "outputs": [],
   "source": [
    "# sklearn.inspection._plot.partial_dependence.PartialDependenceDisplay._plot_one_way_partial_dependence\n",
    "try:\n",
    "    obj = class_constructor() # noqa F821\n",
    "    ret = obj._plot_one_way_partial_dependence()\n",
    "    type_sklearn_inspection__plot_partial_dependence_PartialDependenceDisplay__plot_one_way_partial_dependence = getattr(ret, '__module__', 'none') + '.' + ret.__class__.__name__\n",
    "    print('✅ sklearn.inspection._plot.partial_dependence.PartialDependenceDisplay._plot_one_way_partial_dependence: ', type(ret)) # noqa E501\n",
    "except Exception as e:\n",
    "    type_sklearn_inspection__plot_partial_dependence_PartialDependenceDisplay__plot_one_way_partial_dependence = '_syft_missing'\n",
    "    print('❌ sklearn.inspection._plot.partial_dependence.PartialDependenceDisplay._plot_one_way_partial_dependence: Return unavailable') # noqa E501\n",
    "    print(\"  Please fix this return type code until there is no exception\")\n",
    "    print('  Error:', e)\n"
   ]
  },
  {
   "cell_type": "code",
   "execution_count": null,
   "id": "crude-protocol",
   "metadata": {},
   "outputs": [],
   "source": [
    "# sklearn.inspection._plot.partial_dependence.PartialDependenceDisplay._plot_two_way_partial_dependence\n",
    "try:\n",
    "    obj = class_constructor() # noqa F821\n",
    "    ret = obj._plot_two_way_partial_dependence()\n",
    "    type_sklearn_inspection__plot_partial_dependence_PartialDependenceDisplay__plot_two_way_partial_dependence = getattr(ret, '__module__', 'none') + '.' + ret.__class__.__name__\n",
    "    print('✅ sklearn.inspection._plot.partial_dependence.PartialDependenceDisplay._plot_two_way_partial_dependence: ', type(ret)) # noqa E501\n",
    "except Exception as e:\n",
    "    type_sklearn_inspection__plot_partial_dependence_PartialDependenceDisplay__plot_two_way_partial_dependence = '_syft_missing'\n",
    "    print('❌ sklearn.inspection._plot.partial_dependence.PartialDependenceDisplay._plot_two_way_partial_dependence: Return unavailable') # noqa E501\n",
    "    print(\"  Please fix this return type code until there is no exception\")\n",
    "    print('  Error:', e)\n"
   ]
  },
  {
   "cell_type": "code",
   "execution_count": null,
   "id": "mighty-psychiatry",
   "metadata": {},
   "outputs": [],
   "source": [
    "# sklearn.inspection._plot.partial_dependence.PartialDependenceDisplay.plot\n",
    "try:\n",
    "    obj = class_constructor() # noqa F821\n",
    "    ret = obj.plot()\n",
    "    type_sklearn_inspection__plot_partial_dependence_PartialDependenceDisplay_plot = getattr(ret, '__module__', 'none') + '.' + ret.__class__.__name__\n",
    "    print('✅ sklearn.inspection._plot.partial_dependence.PartialDependenceDisplay.plot: ', type(ret)) # noqa E501\n",
    "except Exception as e:\n",
    "    type_sklearn_inspection__plot_partial_dependence_PartialDependenceDisplay_plot = '_syft_missing'\n",
    "    print('❌ sklearn.inspection._plot.partial_dependence.PartialDependenceDisplay.plot: Return unavailable') # noqa E501\n",
    "    print(\"  Please fix this return type code until there is no exception\")\n",
    "    print('  Error:', e)\n"
   ]
  }
 ],
 "metadata": {},
 "nbformat": 4,
 "nbformat_minor": 5
}
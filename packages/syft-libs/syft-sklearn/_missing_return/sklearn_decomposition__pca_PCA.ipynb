{
 "cells": [
  {
   "cell_type": "markdown",
   "id": "contained-edinburgh",
   "metadata": {},
   "source": [
    "## sklearn.decomposition._pca.PCA"
   ]
  },
  {
   "cell_type": "code",
   "execution_count": null,
   "id": "abandoned-major",
   "metadata": {},
   "outputs": [],
   "source": [
    "import sklearn\n",
    "def class_constructor(*args, **kwargs):\n",
    "    obj = sklearn.decomposition._pca.PCA()\n",
    "    return obj\n"
   ]
  },
  {
   "cell_type": "code",
   "execution_count": null,
   "id": "fitted-greenhouse",
   "metadata": {},
   "outputs": [],
   "source": [
    "# sklearn.decomposition._pca.PCA.__getstate__\n",
    "try:\n",
    "    obj = class_constructor() # noqa F821\n",
    "    ret = obj.__getstate__()\n",
    "    type_sklearn_decomposition__pca_PCA___getstate__ = getattr(ret, '__module__', 'none') + '.' + ret.__class__.__name__\n",
    "    print('✅ sklearn.decomposition._pca.PCA.__getstate__: ', type(ret)) # noqa E501\n",
    "except Exception as e:\n",
    "    type_sklearn_decomposition__pca_PCA___getstate__ = '_syft_missing'\n",
    "    print('❌ sklearn.decomposition._pca.PCA.__getstate__: Return unavailable') # noqa E501\n",
    "    print(\"  Please fix this return type code until there is no exception\")\n",
    "    print('  Error:', e)\n"
   ]
  },
  {
   "cell_type": "code",
   "execution_count": null,
   "id": "collected-plastic",
   "metadata": {},
   "outputs": [],
   "source": [
    "# sklearn.decomposition._pca.PCA.__repr__\n",
    "try:\n",
    "    obj = class_constructor() # noqa F821\n",
    "    ret = obj.__repr__()\n",
    "    type_sklearn_decomposition__pca_PCA___repr__ = getattr(ret, '__module__', 'none') + '.' + ret.__class__.__name__\n",
    "    print('✅ sklearn.decomposition._pca.PCA.__repr__: ', type(ret)) # noqa E501\n",
    "except Exception as e:\n",
    "    type_sklearn_decomposition__pca_PCA___repr__ = '_syft_missing'\n",
    "    print('❌ sklearn.decomposition._pca.PCA.__repr__: Return unavailable') # noqa E501\n",
    "    print(\"  Please fix this return type code until there is no exception\")\n",
    "    print('  Error:', e)\n"
   ]
  },
  {
   "cell_type": "code",
   "execution_count": null,
   "id": "focal-dream",
   "metadata": {},
   "outputs": [],
   "source": [
    "# sklearn.decomposition._pca.PCA.__setstate__\n",
    "try:\n",
    "    obj = class_constructor() # noqa F821\n",
    "    ret = obj.__setstate__()\n",
    "    type_sklearn_decomposition__pca_PCA___setstate__ = getattr(ret, '__module__', 'none') + '.' + ret.__class__.__name__\n",
    "    print('✅ sklearn.decomposition._pca.PCA.__setstate__: ', type(ret)) # noqa E501\n",
    "except Exception as e:\n",
    "    type_sklearn_decomposition__pca_PCA___setstate__ = '_syft_missing'\n",
    "    print('❌ sklearn.decomposition._pca.PCA.__setstate__: Return unavailable') # noqa E501\n",
    "    print(\"  Please fix this return type code until there is no exception\")\n",
    "    print('  Error:', e)\n"
   ]
  },
  {
   "cell_type": "code",
   "execution_count": null,
   "id": "recent-philosophy",
   "metadata": {},
   "outputs": [],
   "source": [
    "# sklearn.decomposition._pca.PCA._check_n_features\n",
    "try:\n",
    "    obj = class_constructor() # noqa F821\n",
    "    ret = obj._check_n_features()\n",
    "    type_sklearn_decomposition__pca_PCA__check_n_features = getattr(ret, '__module__', 'none') + '.' + ret.__class__.__name__\n",
    "    print('✅ sklearn.decomposition._pca.PCA._check_n_features: ', type(ret)) # noqa E501\n",
    "except Exception as e:\n",
    "    type_sklearn_decomposition__pca_PCA__check_n_features = '_syft_missing'\n",
    "    print('❌ sklearn.decomposition._pca.PCA._check_n_features: Return unavailable') # noqa E501\n",
    "    print(\"  Please fix this return type code until there is no exception\")\n",
    "    print('  Error:', e)\n"
   ]
  },
  {
   "cell_type": "code",
   "execution_count": null,
   "id": "ordered-method",
   "metadata": {},
   "outputs": [],
   "source": [
    "# sklearn.decomposition._pca.PCA._fit\n",
    "try:\n",
    "    obj = class_constructor() # noqa F821\n",
    "    ret = obj._fit()\n",
    "    type_sklearn_decomposition__pca_PCA__fit = getattr(ret, '__module__', 'none') + '.' + ret.__class__.__name__\n",
    "    print('✅ sklearn.decomposition._pca.PCA._fit: ', type(ret)) # noqa E501\n",
    "except Exception as e:\n",
    "    type_sklearn_decomposition__pca_PCA__fit = '_syft_missing'\n",
    "    print('❌ sklearn.decomposition._pca.PCA._fit: Return unavailable') # noqa E501\n",
    "    print(\"  Please fix this return type code until there is no exception\")\n",
    "    print('  Error:', e)\n"
   ]
  },
  {
   "cell_type": "code",
   "execution_count": null,
   "id": "southeast-mediterranean",
   "metadata": {},
   "outputs": [],
   "source": [
    "# sklearn.decomposition._pca.PCA._fit_full\n",
    "try:\n",
    "    obj = class_constructor() # noqa F821\n",
    "    ret = obj._fit_full()\n",
    "    type_sklearn_decomposition__pca_PCA__fit_full = getattr(ret, '__module__', 'none') + '.' + ret.__class__.__name__\n",
    "    print('✅ sklearn.decomposition._pca.PCA._fit_full: ', type(ret)) # noqa E501\n",
    "except Exception as e:\n",
    "    type_sklearn_decomposition__pca_PCA__fit_full = '_syft_missing'\n",
    "    print('❌ sklearn.decomposition._pca.PCA._fit_full: Return unavailable') # noqa E501\n",
    "    print(\"  Please fix this return type code until there is no exception\")\n",
    "    print('  Error:', e)\n"
   ]
  },
  {
   "cell_type": "code",
   "execution_count": null,
   "id": "intense-check",
   "metadata": {},
   "outputs": [],
   "source": [
    "# sklearn.decomposition._pca.PCA._fit_truncated\n",
    "try:\n",
    "    obj = class_constructor() # noqa F821\n",
    "    ret = obj._fit_truncated()\n",
    "    type_sklearn_decomposition__pca_PCA__fit_truncated = getattr(ret, '__module__', 'none') + '.' + ret.__class__.__name__\n",
    "    print('✅ sklearn.decomposition._pca.PCA._fit_truncated: ', type(ret)) # noqa E501\n",
    "except Exception as e:\n",
    "    type_sklearn_decomposition__pca_PCA__fit_truncated = '_syft_missing'\n",
    "    print('❌ sklearn.decomposition._pca.PCA._fit_truncated: Return unavailable') # noqa E501\n",
    "    print(\"  Please fix this return type code until there is no exception\")\n",
    "    print('  Error:', e)\n"
   ]
  },
  {
   "cell_type": "code",
   "execution_count": null,
   "id": "photographic-participant",
   "metadata": {},
   "outputs": [],
   "source": [
    "# sklearn.decomposition._pca.PCA._get_param_names\n",
    "try:\n",
    "    obj = class_constructor() # noqa F821\n",
    "    ret = obj._get_param_names()\n",
    "    type_sklearn_decomposition__pca_PCA__get_param_names = getattr(ret, '__module__', 'none') + '.' + ret.__class__.__name__\n",
    "    print('✅ sklearn.decomposition._pca.PCA._get_param_names: ', type(ret)) # noqa E501\n",
    "except Exception as e:\n",
    "    type_sklearn_decomposition__pca_PCA__get_param_names = '_syft_missing'\n",
    "    print('❌ sklearn.decomposition._pca.PCA._get_param_names: Return unavailable') # noqa E501\n",
    "    print(\"  Please fix this return type code until there is no exception\")\n",
    "    print('  Error:', e)\n"
   ]
  },
  {
   "cell_type": "code",
   "execution_count": null,
   "id": "exterior-wholesale",
   "metadata": {},
   "outputs": [],
   "source": [
    "# sklearn.decomposition._pca.PCA._get_tags\n",
    "try:\n",
    "    obj = class_constructor() # noqa F821\n",
    "    ret = obj._get_tags()\n",
    "    type_sklearn_decomposition__pca_PCA__get_tags = getattr(ret, '__module__', 'none') + '.' + ret.__class__.__name__\n",
    "    print('✅ sklearn.decomposition._pca.PCA._get_tags: ', type(ret)) # noqa E501\n",
    "except Exception as e:\n",
    "    type_sklearn_decomposition__pca_PCA__get_tags = '_syft_missing'\n",
    "    print('❌ sklearn.decomposition._pca.PCA._get_tags: Return unavailable') # noqa E501\n",
    "    print(\"  Please fix this return type code until there is no exception\")\n",
    "    print('  Error:', e)\n"
   ]
  },
  {
   "cell_type": "code",
   "execution_count": null,
   "id": "streaming-afghanistan",
   "metadata": {},
   "outputs": [],
   "source": [
    "# sklearn.decomposition._pca.PCA._more_tags\n",
    "try:\n",
    "    obj = class_constructor() # noqa F821\n",
    "    ret = obj._more_tags()\n",
    "    type_sklearn_decomposition__pca_PCA__more_tags = getattr(ret, '__module__', 'none') + '.' + ret.__class__.__name__\n",
    "    print('✅ sklearn.decomposition._pca.PCA._more_tags: ', type(ret)) # noqa E501\n",
    "except Exception as e:\n",
    "    type_sklearn_decomposition__pca_PCA__more_tags = '_syft_missing'\n",
    "    print('❌ sklearn.decomposition._pca.PCA._more_tags: Return unavailable') # noqa E501\n",
    "    print(\"  Please fix this return type code until there is no exception\")\n",
    "    print('  Error:', e)\n"
   ]
  },
  {
   "cell_type": "code",
   "execution_count": null,
   "id": "lasting-trade",
   "metadata": {},
   "outputs": [],
   "source": [
    "# sklearn.decomposition._pca.PCA._repr_html_\n",
    "try:\n",
    "    obj = class_constructor()\n",
    "    ret = obj._repr_html_\n",
    "    type_sklearn_decomposition__pca_PCA__repr_html_ = getattr(ret, '__module__', 'none') + '.' + ret.__class__.__name__\n",
    "    print('✅ sklearn.decomposition._pca.PCA._repr_html_:', type(ret)) # noqa E501\n",
    "except Exception as e:\n",
    "    type_sklearn_decomposition__pca_PCA__repr_html_ = '_syft_missing'\n",
    "    print('❌ sklearn.decomposition._pca.PCA._repr_html_: Return unavailable') # noqa E501\n",
    "    print(\"  Please fix this return type code until there is no exception\")\n",
    "    print('  Error:', e)\n"
   ]
  },
  {
   "cell_type": "code",
   "execution_count": null,
   "id": "abandoned-consequence",
   "metadata": {},
   "outputs": [],
   "source": [
    "# sklearn.decomposition._pca.PCA._repr_html_inner\n",
    "try:\n",
    "    obj = class_constructor() # noqa F821\n",
    "    ret = obj._repr_html_inner()\n",
    "    type_sklearn_decomposition__pca_PCA__repr_html_inner = getattr(ret, '__module__', 'none') + '.' + ret.__class__.__name__\n",
    "    print('✅ sklearn.decomposition._pca.PCA._repr_html_inner: ', type(ret)) # noqa E501\n",
    "except Exception as e:\n",
    "    type_sklearn_decomposition__pca_PCA__repr_html_inner = '_syft_missing'\n",
    "    print('❌ sklearn.decomposition._pca.PCA._repr_html_inner: Return unavailable') # noqa E501\n",
    "    print(\"  Please fix this return type code until there is no exception\")\n",
    "    print('  Error:', e)\n"
   ]
  },
  {
   "cell_type": "code",
   "execution_count": null,
   "id": "measured-pierre",
   "metadata": {},
   "outputs": [],
   "source": [
    "# sklearn.decomposition._pca.PCA._repr_mimebundle_\n",
    "try:\n",
    "    obj = class_constructor() # noqa F821\n",
    "    ret = obj._repr_mimebundle_()\n",
    "    type_sklearn_decomposition__pca_PCA__repr_mimebundle_ = getattr(ret, '__module__', 'none') + '.' + ret.__class__.__name__\n",
    "    print('✅ sklearn.decomposition._pca.PCA._repr_mimebundle_: ', type(ret)) # noqa E501\n",
    "except Exception as e:\n",
    "    type_sklearn_decomposition__pca_PCA__repr_mimebundle_ = '_syft_missing'\n",
    "    print('❌ sklearn.decomposition._pca.PCA._repr_mimebundle_: Return unavailable') # noqa E501\n",
    "    print(\"  Please fix this return type code until there is no exception\")\n",
    "    print('  Error:', e)\n"
   ]
  },
  {
   "cell_type": "code",
   "execution_count": null,
   "id": "sharing-biotechnology",
   "metadata": {},
   "outputs": [],
   "source": [
    "# sklearn.decomposition._pca.PCA._validate_data\n",
    "try:\n",
    "    obj = class_constructor() # noqa F821\n",
    "    ret = obj._validate_data()\n",
    "    type_sklearn_decomposition__pca_PCA__validate_data = getattr(ret, '__module__', 'none') + '.' + ret.__class__.__name__\n",
    "    print('✅ sklearn.decomposition._pca.PCA._validate_data: ', type(ret)) # noqa E501\n",
    "except Exception as e:\n",
    "    type_sklearn_decomposition__pca_PCA__validate_data = '_syft_missing'\n",
    "    print('❌ sklearn.decomposition._pca.PCA._validate_data: Return unavailable') # noqa E501\n",
    "    print(\"  Please fix this return type code until there is no exception\")\n",
    "    print('  Error:', e)\n"
   ]
  },
  {
   "cell_type": "code",
   "execution_count": null,
   "id": "backed-batman",
   "metadata": {},
   "outputs": [],
   "source": [
    "# sklearn.decomposition._pca.PCA.fit\n",
    "try:\n",
    "    obj = class_constructor() # noqa F821\n",
    "    ret = obj.fit()\n",
    "    type_sklearn_decomposition__pca_PCA_fit = getattr(ret, '__module__', 'none') + '.' + ret.__class__.__name__\n",
    "    print('✅ sklearn.decomposition._pca.PCA.fit: ', type(ret)) # noqa E501\n",
    "except Exception as e:\n",
    "    type_sklearn_decomposition__pca_PCA_fit = '_syft_missing'\n",
    "    print('❌ sklearn.decomposition._pca.PCA.fit: Return unavailable') # noqa E501\n",
    "    print(\"  Please fix this return type code until there is no exception\")\n",
    "    print('  Error:', e)\n"
   ]
  },
  {
   "cell_type": "code",
   "execution_count": null,
   "id": "fourth-hartford",
   "metadata": {},
   "outputs": [],
   "source": [
    "# sklearn.decomposition._pca.PCA.fit_transform\n",
    "try:\n",
    "    obj = class_constructor() # noqa F821\n",
    "    ret = obj.fit_transform()\n",
    "    type_sklearn_decomposition__pca_PCA_fit_transform = getattr(ret, '__module__', 'none') + '.' + ret.__class__.__name__\n",
    "    print('✅ sklearn.decomposition._pca.PCA.fit_transform: ', type(ret)) # noqa E501\n",
    "except Exception as e:\n",
    "    type_sklearn_decomposition__pca_PCA_fit_transform = '_syft_missing'\n",
    "    print('❌ sklearn.decomposition._pca.PCA.fit_transform: Return unavailable') # noqa E501\n",
    "    print(\"  Please fix this return type code until there is no exception\")\n",
    "    print('  Error:', e)\n"
   ]
  },
  {
   "cell_type": "code",
   "execution_count": null,
   "id": "informal-english",
   "metadata": {},
   "outputs": [],
   "source": [
    "# sklearn.decomposition._pca.PCA.get_covariance\n",
    "try:\n",
    "    obj = class_constructor() # noqa F821\n",
    "    ret = obj.get_covariance()\n",
    "    type_sklearn_decomposition__pca_PCA_get_covariance = getattr(ret, '__module__', 'none') + '.' + ret.__class__.__name__\n",
    "    print('✅ sklearn.decomposition._pca.PCA.get_covariance: ', type(ret)) # noqa E501\n",
    "except Exception as e:\n",
    "    type_sklearn_decomposition__pca_PCA_get_covariance = '_syft_missing'\n",
    "    print('❌ sklearn.decomposition._pca.PCA.get_covariance: Return unavailable') # noqa E501\n",
    "    print(\"  Please fix this return type code until there is no exception\")\n",
    "    print('  Error:', e)\n"
   ]
  },
  {
   "cell_type": "code",
   "execution_count": null,
   "id": "optional-professor",
   "metadata": {},
   "outputs": [],
   "source": [
    "# sklearn.decomposition._pca.PCA.get_params\n",
    "try:\n",
    "    obj = class_constructor() # noqa F821\n",
    "    ret = obj.get_params()\n",
    "    type_sklearn_decomposition__pca_PCA_get_params = getattr(ret, '__module__', 'none') + '.' + ret.__class__.__name__\n",
    "    print('✅ sklearn.decomposition._pca.PCA.get_params: ', type(ret)) # noqa E501\n",
    "except Exception as e:\n",
    "    type_sklearn_decomposition__pca_PCA_get_params = '_syft_missing'\n",
    "    print('❌ sklearn.decomposition._pca.PCA.get_params: Return unavailable') # noqa E501\n",
    "    print(\"  Please fix this return type code until there is no exception\")\n",
    "    print('  Error:', e)\n"
   ]
  },
  {
   "cell_type": "code",
   "execution_count": null,
   "id": "contained-implementation",
   "metadata": {},
   "outputs": [],
   "source": [
    "# sklearn.decomposition._pca.PCA.get_precision\n",
    "try:\n",
    "    obj = class_constructor() # noqa F821\n",
    "    ret = obj.get_precision()\n",
    "    type_sklearn_decomposition__pca_PCA_get_precision = getattr(ret, '__module__', 'none') + '.' + ret.__class__.__name__\n",
    "    print('✅ sklearn.decomposition._pca.PCA.get_precision: ', type(ret)) # noqa E501\n",
    "except Exception as e:\n",
    "    type_sklearn_decomposition__pca_PCA_get_precision = '_syft_missing'\n",
    "    print('❌ sklearn.decomposition._pca.PCA.get_precision: Return unavailable') # noqa E501\n",
    "    print(\"  Please fix this return type code until there is no exception\")\n",
    "    print('  Error:', e)\n"
   ]
  },
  {
   "cell_type": "code",
   "execution_count": null,
   "id": "varied-sympathy",
   "metadata": {},
   "outputs": [],
   "source": [
    "# sklearn.decomposition._pca.PCA.inverse_transform\n",
    "try:\n",
    "    obj = class_constructor() # noqa F821\n",
    "    ret = obj.inverse_transform()\n",
    "    type_sklearn_decomposition__pca_PCA_inverse_transform = getattr(ret, '__module__', 'none') + '.' + ret.__class__.__name__\n",
    "    print('✅ sklearn.decomposition._pca.PCA.inverse_transform: ', type(ret)) # noqa E501\n",
    "except Exception as e:\n",
    "    type_sklearn_decomposition__pca_PCA_inverse_transform = '_syft_missing'\n",
    "    print('❌ sklearn.decomposition._pca.PCA.inverse_transform: Return unavailable') # noqa E501\n",
    "    print(\"  Please fix this return type code until there is no exception\")\n",
    "    print('  Error:', e)\n"
   ]
  },
  {
   "cell_type": "code",
   "execution_count": null,
   "id": "supported-button",
   "metadata": {},
   "outputs": [],
   "source": [
    "# sklearn.decomposition._pca.PCA.score\n",
    "try:\n",
    "    obj = class_constructor() # noqa F821\n",
    "    ret = obj.score()\n",
    "    type_sklearn_decomposition__pca_PCA_score = getattr(ret, '__module__', 'none') + '.' + ret.__class__.__name__\n",
    "    print('✅ sklearn.decomposition._pca.PCA.score: ', type(ret)) # noqa E501\n",
    "except Exception as e:\n",
    "    type_sklearn_decomposition__pca_PCA_score = '_syft_missing'\n",
    "    print('❌ sklearn.decomposition._pca.PCA.score: Return unavailable') # noqa E501\n",
    "    print(\"  Please fix this return type code until there is no exception\")\n",
    "    print('  Error:', e)\n"
   ]
  },
  {
   "cell_type": "code",
   "execution_count": null,
   "id": "preliminary-anniversary",
   "metadata": {},
   "outputs": [],
   "source": [
    "# sklearn.decomposition._pca.PCA.score_samples\n",
    "try:\n",
    "    obj = class_constructor() # noqa F821\n",
    "    ret = obj.score_samples()\n",
    "    type_sklearn_decomposition__pca_PCA_score_samples = getattr(ret, '__module__', 'none') + '.' + ret.__class__.__name__\n",
    "    print('✅ sklearn.decomposition._pca.PCA.score_samples: ', type(ret)) # noqa E501\n",
    "except Exception as e:\n",
    "    type_sklearn_decomposition__pca_PCA_score_samples = '_syft_missing'\n",
    "    print('❌ sklearn.decomposition._pca.PCA.score_samples: Return unavailable') # noqa E501\n",
    "    print(\"  Please fix this return type code until there is no exception\")\n",
    "    print('  Error:', e)\n"
   ]
  },
  {
   "cell_type": "code",
   "execution_count": null,
   "id": "enormous-winter",
   "metadata": {},
   "outputs": [],
   "source": [
    "# sklearn.decomposition._pca.PCA.set_params\n",
    "try:\n",
    "    obj = class_constructor() # noqa F821\n",
    "    ret = obj.set_params()\n",
    "    type_sklearn_decomposition__pca_PCA_set_params = getattr(ret, '__module__', 'none') + '.' + ret.__class__.__name__\n",
    "    print('✅ sklearn.decomposition._pca.PCA.set_params: ', type(ret)) # noqa E501\n",
    "except Exception as e:\n",
    "    type_sklearn_decomposition__pca_PCA_set_params = '_syft_missing'\n",
    "    print('❌ sklearn.decomposition._pca.PCA.set_params: Return unavailable') # noqa E501\n",
    "    print(\"  Please fix this return type code until there is no exception\")\n",
    "    print('  Error:', e)\n"
   ]
  },
  {
   "cell_type": "code",
   "execution_count": null,
   "id": "dominant-bahrain",
   "metadata": {},
   "outputs": [],
   "source": [
    "# sklearn.decomposition._pca.PCA.transform\n",
    "try:\n",
    "    obj = class_constructor() # noqa F821\n",
    "    ret = obj.transform()\n",
    "    type_sklearn_decomposition__pca_PCA_transform = getattr(ret, '__module__', 'none') + '.' + ret.__class__.__name__\n",
    "    print('✅ sklearn.decomposition._pca.PCA.transform: ', type(ret)) # noqa E501\n",
    "except Exception as e:\n",
    "    type_sklearn_decomposition__pca_PCA_transform = '_syft_missing'\n",
    "    print('❌ sklearn.decomposition._pca.PCA.transform: Return unavailable') # noqa E501\n",
    "    print(\"  Please fix this return type code until there is no exception\")\n",
    "    print('  Error:', e)\n"
   ]
  }
 ],
 "metadata": {},
 "nbformat": 4,
 "nbformat_minor": 5
}
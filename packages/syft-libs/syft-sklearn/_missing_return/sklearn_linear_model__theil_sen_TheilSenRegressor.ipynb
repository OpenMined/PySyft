{
 "cells": [
  {
   "cell_type": "markdown",
   "id": "thousand-provider",
   "metadata": {},
   "source": [
    "## sklearn.linear_model._theil_sen.TheilSenRegressor"
   ]
  },
  {
   "cell_type": "code",
   "execution_count": null,
   "id": "dependent-synthetic",
   "metadata": {},
   "outputs": [],
   "source": [
    "import sklearn\n",
    "def class_constructor(*args, **kwargs):\n",
    "    obj = sklearn.linear_model._theil_sen.TheilSenRegressor()\n",
    "    return obj\n"
   ]
  },
  {
   "cell_type": "code",
   "execution_count": null,
   "id": "copyrighted-proof",
   "metadata": {},
   "outputs": [],
   "source": [
    "# sklearn.linear_model._theil_sen.TheilSenRegressor.__getstate__\n",
    "try:\n",
    "    obj = class_constructor() # noqa F821\n",
    "    ret = obj.__getstate__()\n",
    "    type_sklearn_linear_model__theil_sen_TheilSenRegressor___getstate__ = getattr(ret, '__module__', 'none') + '.' + ret.__class__.__name__\n",
    "    print('✅ sklearn.linear_model._theil_sen.TheilSenRegressor.__getstate__: ', type(ret)) # noqa E501\n",
    "except Exception as e:\n",
    "    type_sklearn_linear_model__theil_sen_TheilSenRegressor___getstate__ = '_syft_missing'\n",
    "    print('❌ sklearn.linear_model._theil_sen.TheilSenRegressor.__getstate__: Return unavailable') # noqa E501\n",
    "    print(\"  Please fix this return type code until there is no exception\")\n",
    "    print('  Error:', e)\n"
   ]
  },
  {
   "cell_type": "code",
   "execution_count": null,
   "id": "previous-reducing",
   "metadata": {},
   "outputs": [],
   "source": [
    "# sklearn.linear_model._theil_sen.TheilSenRegressor.__repr__\n",
    "try:\n",
    "    obj = class_constructor() # noqa F821\n",
    "    ret = obj.__repr__()\n",
    "    type_sklearn_linear_model__theil_sen_TheilSenRegressor___repr__ = getattr(ret, '__module__', 'none') + '.' + ret.__class__.__name__\n",
    "    print('✅ sklearn.linear_model._theil_sen.TheilSenRegressor.__repr__: ', type(ret)) # noqa E501\n",
    "except Exception as e:\n",
    "    type_sklearn_linear_model__theil_sen_TheilSenRegressor___repr__ = '_syft_missing'\n",
    "    print('❌ sklearn.linear_model._theil_sen.TheilSenRegressor.__repr__: Return unavailable') # noqa E501\n",
    "    print(\"  Please fix this return type code until there is no exception\")\n",
    "    print('  Error:', e)\n"
   ]
  },
  {
   "cell_type": "code",
   "execution_count": null,
   "id": "circular-outside",
   "metadata": {},
   "outputs": [],
   "source": [
    "# sklearn.linear_model._theil_sen.TheilSenRegressor.__setstate__\n",
    "try:\n",
    "    obj = class_constructor() # noqa F821\n",
    "    ret = obj.__setstate__()\n",
    "    type_sklearn_linear_model__theil_sen_TheilSenRegressor___setstate__ = getattr(ret, '__module__', 'none') + '.' + ret.__class__.__name__\n",
    "    print('✅ sklearn.linear_model._theil_sen.TheilSenRegressor.__setstate__: ', type(ret)) # noqa E501\n",
    "except Exception as e:\n",
    "    type_sklearn_linear_model__theil_sen_TheilSenRegressor___setstate__ = '_syft_missing'\n",
    "    print('❌ sklearn.linear_model._theil_sen.TheilSenRegressor.__setstate__: Return unavailable') # noqa E501\n",
    "    print(\"  Please fix this return type code until there is no exception\")\n",
    "    print('  Error:', e)\n"
   ]
  },
  {
   "cell_type": "code",
   "execution_count": null,
   "id": "analyzed-selection",
   "metadata": {},
   "outputs": [],
   "source": [
    "# sklearn.linear_model._theil_sen.TheilSenRegressor._check_n_features\n",
    "try:\n",
    "    obj = class_constructor() # noqa F821\n",
    "    ret = obj._check_n_features()\n",
    "    type_sklearn_linear_model__theil_sen_TheilSenRegressor__check_n_features = getattr(ret, '__module__', 'none') + '.' + ret.__class__.__name__\n",
    "    print('✅ sklearn.linear_model._theil_sen.TheilSenRegressor._check_n_features: ', type(ret)) # noqa E501\n",
    "except Exception as e:\n",
    "    type_sklearn_linear_model__theil_sen_TheilSenRegressor__check_n_features = '_syft_missing'\n",
    "    print('❌ sklearn.linear_model._theil_sen.TheilSenRegressor._check_n_features: Return unavailable') # noqa E501\n",
    "    print(\"  Please fix this return type code until there is no exception\")\n",
    "    print('  Error:', e)\n"
   ]
  },
  {
   "cell_type": "code",
   "execution_count": null,
   "id": "capable-poison",
   "metadata": {},
   "outputs": [],
   "source": [
    "# sklearn.linear_model._theil_sen.TheilSenRegressor._check_subparams\n",
    "try:\n",
    "    obj = class_constructor() # noqa F821\n",
    "    ret = obj._check_subparams()\n",
    "    type_sklearn_linear_model__theil_sen_TheilSenRegressor__check_subparams = getattr(ret, '__module__', 'none') + '.' + ret.__class__.__name__\n",
    "    print('✅ sklearn.linear_model._theil_sen.TheilSenRegressor._check_subparams: ', type(ret)) # noqa E501\n",
    "except Exception as e:\n",
    "    type_sklearn_linear_model__theil_sen_TheilSenRegressor__check_subparams = '_syft_missing'\n",
    "    print('❌ sklearn.linear_model._theil_sen.TheilSenRegressor._check_subparams: Return unavailable') # noqa E501\n",
    "    print(\"  Please fix this return type code until there is no exception\")\n",
    "    print('  Error:', e)\n"
   ]
  },
  {
   "cell_type": "code",
   "execution_count": null,
   "id": "appreciated-topic",
   "metadata": {},
   "outputs": [],
   "source": [
    "# sklearn.linear_model._theil_sen.TheilSenRegressor._decision_function\n",
    "try:\n",
    "    obj = class_constructor() # noqa F821\n",
    "    ret = obj._decision_function()\n",
    "    type_sklearn_linear_model__theil_sen_TheilSenRegressor__decision_function = getattr(ret, '__module__', 'none') + '.' + ret.__class__.__name__\n",
    "    print('✅ sklearn.linear_model._theil_sen.TheilSenRegressor._decision_function: ', type(ret)) # noqa E501\n",
    "except Exception as e:\n",
    "    type_sklearn_linear_model__theil_sen_TheilSenRegressor__decision_function = '_syft_missing'\n",
    "    print('❌ sklearn.linear_model._theil_sen.TheilSenRegressor._decision_function: Return unavailable') # noqa E501\n",
    "    print(\"  Please fix this return type code until there is no exception\")\n",
    "    print('  Error:', e)\n"
   ]
  },
  {
   "cell_type": "code",
   "execution_count": null,
   "id": "lyric-plastic",
   "metadata": {},
   "outputs": [],
   "source": [
    "# sklearn.linear_model._theil_sen.TheilSenRegressor._get_param_names\n",
    "try:\n",
    "    obj = class_constructor() # noqa F821\n",
    "    ret = obj._get_param_names()\n",
    "    type_sklearn_linear_model__theil_sen_TheilSenRegressor__get_param_names = getattr(ret, '__module__', 'none') + '.' + ret.__class__.__name__\n",
    "    print('✅ sklearn.linear_model._theil_sen.TheilSenRegressor._get_param_names: ', type(ret)) # noqa E501\n",
    "except Exception as e:\n",
    "    type_sklearn_linear_model__theil_sen_TheilSenRegressor__get_param_names = '_syft_missing'\n",
    "    print('❌ sklearn.linear_model._theil_sen.TheilSenRegressor._get_param_names: Return unavailable') # noqa E501\n",
    "    print(\"  Please fix this return type code until there is no exception\")\n",
    "    print('  Error:', e)\n"
   ]
  },
  {
   "cell_type": "code",
   "execution_count": null,
   "id": "nearby-nirvana",
   "metadata": {},
   "outputs": [],
   "source": [
    "# sklearn.linear_model._theil_sen.TheilSenRegressor._get_tags\n",
    "try:\n",
    "    obj = class_constructor() # noqa F821\n",
    "    ret = obj._get_tags()\n",
    "    type_sklearn_linear_model__theil_sen_TheilSenRegressor__get_tags = getattr(ret, '__module__', 'none') + '.' + ret.__class__.__name__\n",
    "    print('✅ sklearn.linear_model._theil_sen.TheilSenRegressor._get_tags: ', type(ret)) # noqa E501\n",
    "except Exception as e:\n",
    "    type_sklearn_linear_model__theil_sen_TheilSenRegressor__get_tags = '_syft_missing'\n",
    "    print('❌ sklearn.linear_model._theil_sen.TheilSenRegressor._get_tags: Return unavailable') # noqa E501\n",
    "    print(\"  Please fix this return type code until there is no exception\")\n",
    "    print('  Error:', e)\n"
   ]
  },
  {
   "cell_type": "code",
   "execution_count": null,
   "id": "communist-ground",
   "metadata": {},
   "outputs": [],
   "source": [
    "# sklearn.linear_model._theil_sen.TheilSenRegressor._more_tags\n",
    "try:\n",
    "    obj = class_constructor() # noqa F821\n",
    "    ret = obj._more_tags()\n",
    "    type_sklearn_linear_model__theil_sen_TheilSenRegressor__more_tags = getattr(ret, '__module__', 'none') + '.' + ret.__class__.__name__\n",
    "    print('✅ sklearn.linear_model._theil_sen.TheilSenRegressor._more_tags: ', type(ret)) # noqa E501\n",
    "except Exception as e:\n",
    "    type_sklearn_linear_model__theil_sen_TheilSenRegressor__more_tags = '_syft_missing'\n",
    "    print('❌ sklearn.linear_model._theil_sen.TheilSenRegressor._more_tags: Return unavailable') # noqa E501\n",
    "    print(\"  Please fix this return type code until there is no exception\")\n",
    "    print('  Error:', e)\n"
   ]
  },
  {
   "cell_type": "code",
   "execution_count": null,
   "id": "infectious-palestinian",
   "metadata": {},
   "outputs": [],
   "source": [
    "# sklearn.linear_model._theil_sen.TheilSenRegressor._preprocess_data\n",
    "try:\n",
    "    obj = class_constructor() # noqa F821\n",
    "    ret = obj._preprocess_data()\n",
    "    type_sklearn_linear_model__theil_sen_TheilSenRegressor__preprocess_data = getattr(ret, '__module__', 'none') + '.' + ret.__class__.__name__\n",
    "    print('✅ sklearn.linear_model._theil_sen.TheilSenRegressor._preprocess_data: ', type(ret)) # noqa E501\n",
    "except Exception as e:\n",
    "    type_sklearn_linear_model__theil_sen_TheilSenRegressor__preprocess_data = '_syft_missing'\n",
    "    print('❌ sklearn.linear_model._theil_sen.TheilSenRegressor._preprocess_data: Return unavailable') # noqa E501\n",
    "    print(\"  Please fix this return type code until there is no exception\")\n",
    "    print('  Error:', e)\n"
   ]
  },
  {
   "cell_type": "code",
   "execution_count": null,
   "id": "alternative-advertiser",
   "metadata": {},
   "outputs": [],
   "source": [
    "# sklearn.linear_model._theil_sen.TheilSenRegressor._repr_html_\n",
    "try:\n",
    "    obj = class_constructor()\n",
    "    ret = obj._repr_html_\n",
    "    type_sklearn_linear_model__theil_sen_TheilSenRegressor__repr_html_ = getattr(ret, '__module__', 'none') + '.' + ret.__class__.__name__\n",
    "    print('✅ sklearn.linear_model._theil_sen.TheilSenRegressor._repr_html_:', type(ret)) # noqa E501\n",
    "except Exception as e:\n",
    "    type_sklearn_linear_model__theil_sen_TheilSenRegressor__repr_html_ = '_syft_missing'\n",
    "    print('❌ sklearn.linear_model._theil_sen.TheilSenRegressor._repr_html_: Return unavailable') # noqa E501\n",
    "    print(\"  Please fix this return type code until there is no exception\")\n",
    "    print('  Error:', e)\n"
   ]
  },
  {
   "cell_type": "code",
   "execution_count": null,
   "id": "exact-experiment",
   "metadata": {},
   "outputs": [],
   "source": [
    "# sklearn.linear_model._theil_sen.TheilSenRegressor._repr_html_inner\n",
    "try:\n",
    "    obj = class_constructor() # noqa F821\n",
    "    ret = obj._repr_html_inner()\n",
    "    type_sklearn_linear_model__theil_sen_TheilSenRegressor__repr_html_inner = getattr(ret, '__module__', 'none') + '.' + ret.__class__.__name__\n",
    "    print('✅ sklearn.linear_model._theil_sen.TheilSenRegressor._repr_html_inner: ', type(ret)) # noqa E501\n",
    "except Exception as e:\n",
    "    type_sklearn_linear_model__theil_sen_TheilSenRegressor__repr_html_inner = '_syft_missing'\n",
    "    print('❌ sklearn.linear_model._theil_sen.TheilSenRegressor._repr_html_inner: Return unavailable') # noqa E501\n",
    "    print(\"  Please fix this return type code until there is no exception\")\n",
    "    print('  Error:', e)\n"
   ]
  },
  {
   "cell_type": "code",
   "execution_count": null,
   "id": "adjusted-fleece",
   "metadata": {},
   "outputs": [],
   "source": [
    "# sklearn.linear_model._theil_sen.TheilSenRegressor._repr_mimebundle_\n",
    "try:\n",
    "    obj = class_constructor() # noqa F821\n",
    "    ret = obj._repr_mimebundle_()\n",
    "    type_sklearn_linear_model__theil_sen_TheilSenRegressor__repr_mimebundle_ = getattr(ret, '__module__', 'none') + '.' + ret.__class__.__name__\n",
    "    print('✅ sklearn.linear_model._theil_sen.TheilSenRegressor._repr_mimebundle_: ', type(ret)) # noqa E501\n",
    "except Exception as e:\n",
    "    type_sklearn_linear_model__theil_sen_TheilSenRegressor__repr_mimebundle_ = '_syft_missing'\n",
    "    print('❌ sklearn.linear_model._theil_sen.TheilSenRegressor._repr_mimebundle_: Return unavailable') # noqa E501\n",
    "    print(\"  Please fix this return type code until there is no exception\")\n",
    "    print('  Error:', e)\n"
   ]
  },
  {
   "cell_type": "code",
   "execution_count": null,
   "id": "attempted-tactics",
   "metadata": {},
   "outputs": [],
   "source": [
    "# sklearn.linear_model._theil_sen.TheilSenRegressor._set_intercept\n",
    "try:\n",
    "    obj = class_constructor() # noqa F821\n",
    "    ret = obj._set_intercept()\n",
    "    type_sklearn_linear_model__theil_sen_TheilSenRegressor__set_intercept = getattr(ret, '__module__', 'none') + '.' + ret.__class__.__name__\n",
    "    print('✅ sklearn.linear_model._theil_sen.TheilSenRegressor._set_intercept: ', type(ret)) # noqa E501\n",
    "except Exception as e:\n",
    "    type_sklearn_linear_model__theil_sen_TheilSenRegressor__set_intercept = '_syft_missing'\n",
    "    print('❌ sklearn.linear_model._theil_sen.TheilSenRegressor._set_intercept: Return unavailable') # noqa E501\n",
    "    print(\"  Please fix this return type code until there is no exception\")\n",
    "    print('  Error:', e)\n"
   ]
  },
  {
   "cell_type": "code",
   "execution_count": null,
   "id": "collectible-uniform",
   "metadata": {},
   "outputs": [],
   "source": [
    "# sklearn.linear_model._theil_sen.TheilSenRegressor._validate_data\n",
    "try:\n",
    "    obj = class_constructor() # noqa F821\n",
    "    ret = obj._validate_data()\n",
    "    type_sklearn_linear_model__theil_sen_TheilSenRegressor__validate_data = getattr(ret, '__module__', 'none') + '.' + ret.__class__.__name__\n",
    "    print('✅ sklearn.linear_model._theil_sen.TheilSenRegressor._validate_data: ', type(ret)) # noqa E501\n",
    "except Exception as e:\n",
    "    type_sklearn_linear_model__theil_sen_TheilSenRegressor__validate_data = '_syft_missing'\n",
    "    print('❌ sklearn.linear_model._theil_sen.TheilSenRegressor._validate_data: Return unavailable') # noqa E501\n",
    "    print(\"  Please fix this return type code until there is no exception\")\n",
    "    print('  Error:', e)\n"
   ]
  },
  {
   "cell_type": "code",
   "execution_count": null,
   "id": "necessary-metadata",
   "metadata": {},
   "outputs": [],
   "source": [
    "# sklearn.linear_model._theil_sen.TheilSenRegressor.fit\n",
    "try:\n",
    "    obj = class_constructor() # noqa F821\n",
    "    ret = obj.fit()\n",
    "    type_sklearn_linear_model__theil_sen_TheilSenRegressor_fit = getattr(ret, '__module__', 'none') + '.' + ret.__class__.__name__\n",
    "    print('✅ sklearn.linear_model._theil_sen.TheilSenRegressor.fit: ', type(ret)) # noqa E501\n",
    "except Exception as e:\n",
    "    type_sklearn_linear_model__theil_sen_TheilSenRegressor_fit = '_syft_missing'\n",
    "    print('❌ sklearn.linear_model._theil_sen.TheilSenRegressor.fit: Return unavailable') # noqa E501\n",
    "    print(\"  Please fix this return type code until there is no exception\")\n",
    "    print('  Error:', e)\n"
   ]
  },
  {
   "cell_type": "code",
   "execution_count": null,
   "id": "flexible-netscape",
   "metadata": {},
   "outputs": [],
   "source": [
    "# sklearn.linear_model._theil_sen.TheilSenRegressor.get_params\n",
    "try:\n",
    "    obj = class_constructor() # noqa F821\n",
    "    ret = obj.get_params()\n",
    "    type_sklearn_linear_model__theil_sen_TheilSenRegressor_get_params = getattr(ret, '__module__', 'none') + '.' + ret.__class__.__name__\n",
    "    print('✅ sklearn.linear_model._theil_sen.TheilSenRegressor.get_params: ', type(ret)) # noqa E501\n",
    "except Exception as e:\n",
    "    type_sklearn_linear_model__theil_sen_TheilSenRegressor_get_params = '_syft_missing'\n",
    "    print('❌ sklearn.linear_model._theil_sen.TheilSenRegressor.get_params: Return unavailable') # noqa E501\n",
    "    print(\"  Please fix this return type code until there is no exception\")\n",
    "    print('  Error:', e)\n"
   ]
  },
  {
   "cell_type": "code",
   "execution_count": null,
   "id": "found-texture",
   "metadata": {},
   "outputs": [],
   "source": [
    "# sklearn.linear_model._theil_sen.TheilSenRegressor.predict\n",
    "try:\n",
    "    obj = class_constructor() # noqa F821\n",
    "    ret = obj.predict()\n",
    "    type_sklearn_linear_model__theil_sen_TheilSenRegressor_predict = getattr(ret, '__module__', 'none') + '.' + ret.__class__.__name__\n",
    "    print('✅ sklearn.linear_model._theil_sen.TheilSenRegressor.predict: ', type(ret)) # noqa E501\n",
    "except Exception as e:\n",
    "    type_sklearn_linear_model__theil_sen_TheilSenRegressor_predict = '_syft_missing'\n",
    "    print('❌ sklearn.linear_model._theil_sen.TheilSenRegressor.predict: Return unavailable') # noqa E501\n",
    "    print(\"  Please fix this return type code until there is no exception\")\n",
    "    print('  Error:', e)\n"
   ]
  },
  {
   "cell_type": "code",
   "execution_count": null,
   "id": "adopted-blond",
   "metadata": {},
   "outputs": [],
   "source": [
    "# sklearn.linear_model._theil_sen.TheilSenRegressor.score\n",
    "try:\n",
    "    obj = class_constructor() # noqa F821\n",
    "    ret = obj.score()\n",
    "    type_sklearn_linear_model__theil_sen_TheilSenRegressor_score = getattr(ret, '__module__', 'none') + '.' + ret.__class__.__name__\n",
    "    print('✅ sklearn.linear_model._theil_sen.TheilSenRegressor.score: ', type(ret)) # noqa E501\n",
    "except Exception as e:\n",
    "    type_sklearn_linear_model__theil_sen_TheilSenRegressor_score = '_syft_missing'\n",
    "    print('❌ sklearn.linear_model._theil_sen.TheilSenRegressor.score: Return unavailable') # noqa E501\n",
    "    print(\"  Please fix this return type code until there is no exception\")\n",
    "    print('  Error:', e)\n"
   ]
  },
  {
   "cell_type": "code",
   "execution_count": null,
   "id": "thermal-credits",
   "metadata": {},
   "outputs": [],
   "source": [
    "# sklearn.linear_model._theil_sen.TheilSenRegressor.set_params\n",
    "try:\n",
    "    obj = class_constructor() # noqa F821\n",
    "    ret = obj.set_params()\n",
    "    type_sklearn_linear_model__theil_sen_TheilSenRegressor_set_params = getattr(ret, '__module__', 'none') + '.' + ret.__class__.__name__\n",
    "    print('✅ sklearn.linear_model._theil_sen.TheilSenRegressor.set_params: ', type(ret)) # noqa E501\n",
    "except Exception as e:\n",
    "    type_sklearn_linear_model__theil_sen_TheilSenRegressor_set_params = '_syft_missing'\n",
    "    print('❌ sklearn.linear_model._theil_sen.TheilSenRegressor.set_params: Return unavailable') # noqa E501\n",
    "    print(\"  Please fix this return type code until there is no exception\")\n",
    "    print('  Error:', e)\n"
   ]
  }
 ],
 "metadata": {},
 "nbformat": 4,
 "nbformat_minor": 5
}
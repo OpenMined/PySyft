{
 "cells": [
  {
   "cell_type": "markdown",
   "id": "numerous-injection",
   "metadata": {},
   "source": [
    "## sklearn.linear_model._ridge.RidgeClassifier"
   ]
  },
  {
   "cell_type": "code",
   "execution_count": null,
   "id": "chemical-mailman",
   "metadata": {},
   "outputs": [],
   "source": [
    "import sklearn\n",
    "def class_constructor(*args, **kwargs):\n",
    "    obj = sklearn.linear_model._ridge.RidgeClassifier()\n",
    "    return obj\n"
   ]
  },
  {
   "cell_type": "code",
   "execution_count": null,
   "id": "magnetic-highway",
   "metadata": {},
   "outputs": [],
   "source": [
    "# sklearn.linear_model._ridge.RidgeClassifier.__getstate__\n",
    "try:\n",
    "    obj = class_constructor() # noqa F821\n",
    "    ret = obj.__getstate__()\n",
    "    type_sklearn_linear_model__ridge_RidgeClassifier___getstate__ = getattr(ret, '__module__', 'none') + '.' + ret.__class__.__name__\n",
    "    print('✅ sklearn.linear_model._ridge.RidgeClassifier.__getstate__: ', type(ret)) # noqa E501\n",
    "except Exception as e:\n",
    "    type_sklearn_linear_model__ridge_RidgeClassifier___getstate__ = '_syft_missing'\n",
    "    print('❌ sklearn.linear_model._ridge.RidgeClassifier.__getstate__: Return unavailable') # noqa E501\n",
    "    print(\"  Please fix this return type code until there is no exception\")\n",
    "    print('  Error:', e)\n"
   ]
  },
  {
   "cell_type": "code",
   "execution_count": null,
   "id": "spoken-harassment",
   "metadata": {},
   "outputs": [],
   "source": [
    "# sklearn.linear_model._ridge.RidgeClassifier.__repr__\n",
    "try:\n",
    "    obj = class_constructor() # noqa F821\n",
    "    ret = obj.__repr__()\n",
    "    type_sklearn_linear_model__ridge_RidgeClassifier___repr__ = getattr(ret, '__module__', 'none') + '.' + ret.__class__.__name__\n",
    "    print('✅ sklearn.linear_model._ridge.RidgeClassifier.__repr__: ', type(ret)) # noqa E501\n",
    "except Exception as e:\n",
    "    type_sklearn_linear_model__ridge_RidgeClassifier___repr__ = '_syft_missing'\n",
    "    print('❌ sklearn.linear_model._ridge.RidgeClassifier.__repr__: Return unavailable') # noqa E501\n",
    "    print(\"  Please fix this return type code until there is no exception\")\n",
    "    print('  Error:', e)\n"
   ]
  },
  {
   "cell_type": "code",
   "execution_count": null,
   "id": "pursuant-indian",
   "metadata": {},
   "outputs": [],
   "source": [
    "# sklearn.linear_model._ridge.RidgeClassifier.__setstate__\n",
    "try:\n",
    "    obj = class_constructor() # noqa F821\n",
    "    ret = obj.__setstate__()\n",
    "    type_sklearn_linear_model__ridge_RidgeClassifier___setstate__ = getattr(ret, '__module__', 'none') + '.' + ret.__class__.__name__\n",
    "    print('✅ sklearn.linear_model._ridge.RidgeClassifier.__setstate__: ', type(ret)) # noqa E501\n",
    "except Exception as e:\n",
    "    type_sklearn_linear_model__ridge_RidgeClassifier___setstate__ = '_syft_missing'\n",
    "    print('❌ sklearn.linear_model._ridge.RidgeClassifier.__setstate__: Return unavailable') # noqa E501\n",
    "    print(\"  Please fix this return type code until there is no exception\")\n",
    "    print('  Error:', e)\n"
   ]
  },
  {
   "cell_type": "code",
   "execution_count": null,
   "id": "unique-likelihood",
   "metadata": {},
   "outputs": [],
   "source": [
    "# sklearn.linear_model._ridge.RidgeClassifier._check_n_features\n",
    "try:\n",
    "    obj = class_constructor() # noqa F821\n",
    "    ret = obj._check_n_features()\n",
    "    type_sklearn_linear_model__ridge_RidgeClassifier__check_n_features = getattr(ret, '__module__', 'none') + '.' + ret.__class__.__name__\n",
    "    print('✅ sklearn.linear_model._ridge.RidgeClassifier._check_n_features: ', type(ret)) # noqa E501\n",
    "except Exception as e:\n",
    "    type_sklearn_linear_model__ridge_RidgeClassifier__check_n_features = '_syft_missing'\n",
    "    print('❌ sklearn.linear_model._ridge.RidgeClassifier._check_n_features: Return unavailable') # noqa E501\n",
    "    print(\"  Please fix this return type code until there is no exception\")\n",
    "    print('  Error:', e)\n"
   ]
  },
  {
   "cell_type": "code",
   "execution_count": null,
   "id": "contemporary-ridge",
   "metadata": {},
   "outputs": [],
   "source": [
    "# sklearn.linear_model._ridge.RidgeClassifier._decision_function\n",
    "try:\n",
    "    obj = class_constructor() # noqa F821\n",
    "    ret = obj._decision_function()\n",
    "    type_sklearn_linear_model__ridge_RidgeClassifier__decision_function = getattr(ret, '__module__', 'none') + '.' + ret.__class__.__name__\n",
    "    print('✅ sklearn.linear_model._ridge.RidgeClassifier._decision_function: ', type(ret)) # noqa E501\n",
    "except Exception as e:\n",
    "    type_sklearn_linear_model__ridge_RidgeClassifier__decision_function = '_syft_missing'\n",
    "    print('❌ sklearn.linear_model._ridge.RidgeClassifier._decision_function: Return unavailable') # noqa E501\n",
    "    print(\"  Please fix this return type code until there is no exception\")\n",
    "    print('  Error:', e)\n"
   ]
  },
  {
   "cell_type": "code",
   "execution_count": null,
   "id": "cordless-jurisdiction",
   "metadata": {},
   "outputs": [],
   "source": [
    "# sklearn.linear_model._ridge.RidgeClassifier._get_param_names\n",
    "try:\n",
    "    obj = class_constructor() # noqa F821\n",
    "    ret = obj._get_param_names()\n",
    "    type_sklearn_linear_model__ridge_RidgeClassifier__get_param_names = getattr(ret, '__module__', 'none') + '.' + ret.__class__.__name__\n",
    "    print('✅ sklearn.linear_model._ridge.RidgeClassifier._get_param_names: ', type(ret)) # noqa E501\n",
    "except Exception as e:\n",
    "    type_sklearn_linear_model__ridge_RidgeClassifier__get_param_names = '_syft_missing'\n",
    "    print('❌ sklearn.linear_model._ridge.RidgeClassifier._get_param_names: Return unavailable') # noqa E501\n",
    "    print(\"  Please fix this return type code until there is no exception\")\n",
    "    print('  Error:', e)\n"
   ]
  },
  {
   "cell_type": "code",
   "execution_count": null,
   "id": "adult-voltage",
   "metadata": {},
   "outputs": [],
   "source": [
    "# sklearn.linear_model._ridge.RidgeClassifier._get_tags\n",
    "try:\n",
    "    obj = class_constructor() # noqa F821\n",
    "    ret = obj._get_tags()\n",
    "    type_sklearn_linear_model__ridge_RidgeClassifier__get_tags = getattr(ret, '__module__', 'none') + '.' + ret.__class__.__name__\n",
    "    print('✅ sklearn.linear_model._ridge.RidgeClassifier._get_tags: ', type(ret)) # noqa E501\n",
    "except Exception as e:\n",
    "    type_sklearn_linear_model__ridge_RidgeClassifier__get_tags = '_syft_missing'\n",
    "    print('❌ sklearn.linear_model._ridge.RidgeClassifier._get_tags: Return unavailable') # noqa E501\n",
    "    print(\"  Please fix this return type code until there is no exception\")\n",
    "    print('  Error:', e)\n"
   ]
  },
  {
   "cell_type": "code",
   "execution_count": null,
   "id": "impaired-behalf",
   "metadata": {},
   "outputs": [],
   "source": [
    "# sklearn.linear_model._ridge.RidgeClassifier._more_tags\n",
    "try:\n",
    "    obj = class_constructor() # noqa F821\n",
    "    ret = obj._more_tags()\n",
    "    type_sklearn_linear_model__ridge_RidgeClassifier__more_tags = getattr(ret, '__module__', 'none') + '.' + ret.__class__.__name__\n",
    "    print('✅ sklearn.linear_model._ridge.RidgeClassifier._more_tags: ', type(ret)) # noqa E501\n",
    "except Exception as e:\n",
    "    type_sklearn_linear_model__ridge_RidgeClassifier__more_tags = '_syft_missing'\n",
    "    print('❌ sklearn.linear_model._ridge.RidgeClassifier._more_tags: Return unavailable') # noqa E501\n",
    "    print(\"  Please fix this return type code until there is no exception\")\n",
    "    print('  Error:', e)\n"
   ]
  },
  {
   "cell_type": "code",
   "execution_count": null,
   "id": "sunset-permission",
   "metadata": {},
   "outputs": [],
   "source": [
    "# sklearn.linear_model._ridge.RidgeClassifier._predict_proba_lr\n",
    "try:\n",
    "    obj = class_constructor() # noqa F821\n",
    "    ret = obj._predict_proba_lr()\n",
    "    type_sklearn_linear_model__ridge_RidgeClassifier__predict_proba_lr = getattr(ret, '__module__', 'none') + '.' + ret.__class__.__name__\n",
    "    print('✅ sklearn.linear_model._ridge.RidgeClassifier._predict_proba_lr: ', type(ret)) # noqa E501\n",
    "except Exception as e:\n",
    "    type_sklearn_linear_model__ridge_RidgeClassifier__predict_proba_lr = '_syft_missing'\n",
    "    print('❌ sklearn.linear_model._ridge.RidgeClassifier._predict_proba_lr: Return unavailable') # noqa E501\n",
    "    print(\"  Please fix this return type code until there is no exception\")\n",
    "    print('  Error:', e)\n"
   ]
  },
  {
   "cell_type": "code",
   "execution_count": null,
   "id": "coastal-eclipse",
   "metadata": {},
   "outputs": [],
   "source": [
    "# sklearn.linear_model._ridge.RidgeClassifier._preprocess_data\n",
    "try:\n",
    "    obj = class_constructor() # noqa F821\n",
    "    ret = obj._preprocess_data()\n",
    "    type_sklearn_linear_model__ridge_RidgeClassifier__preprocess_data = getattr(ret, '__module__', 'none') + '.' + ret.__class__.__name__\n",
    "    print('✅ sklearn.linear_model._ridge.RidgeClassifier._preprocess_data: ', type(ret)) # noqa E501\n",
    "except Exception as e:\n",
    "    type_sklearn_linear_model__ridge_RidgeClassifier__preprocess_data = '_syft_missing'\n",
    "    print('❌ sklearn.linear_model._ridge.RidgeClassifier._preprocess_data: Return unavailable') # noqa E501\n",
    "    print(\"  Please fix this return type code until there is no exception\")\n",
    "    print('  Error:', e)\n"
   ]
  },
  {
   "cell_type": "code",
   "execution_count": null,
   "id": "conventional-wayne",
   "metadata": {},
   "outputs": [],
   "source": [
    "# sklearn.linear_model._ridge.RidgeClassifier._repr_html_\n",
    "try:\n",
    "    obj = class_constructor()\n",
    "    ret = obj._repr_html_\n",
    "    type_sklearn_linear_model__ridge_RidgeClassifier__repr_html_ = getattr(ret, '__module__', 'none') + '.' + ret.__class__.__name__\n",
    "    print('✅ sklearn.linear_model._ridge.RidgeClassifier._repr_html_:', type(ret)) # noqa E501\n",
    "except Exception as e:\n",
    "    type_sklearn_linear_model__ridge_RidgeClassifier__repr_html_ = '_syft_missing'\n",
    "    print('❌ sklearn.linear_model._ridge.RidgeClassifier._repr_html_: Return unavailable') # noqa E501\n",
    "    print(\"  Please fix this return type code until there is no exception\")\n",
    "    print('  Error:', e)\n"
   ]
  },
  {
   "cell_type": "code",
   "execution_count": null,
   "id": "different-restoration",
   "metadata": {},
   "outputs": [],
   "source": [
    "# sklearn.linear_model._ridge.RidgeClassifier._repr_html_inner\n",
    "try:\n",
    "    obj = class_constructor() # noqa F821\n",
    "    ret = obj._repr_html_inner()\n",
    "    type_sklearn_linear_model__ridge_RidgeClassifier__repr_html_inner = getattr(ret, '__module__', 'none') + '.' + ret.__class__.__name__\n",
    "    print('✅ sklearn.linear_model._ridge.RidgeClassifier._repr_html_inner: ', type(ret)) # noqa E501\n",
    "except Exception as e:\n",
    "    type_sklearn_linear_model__ridge_RidgeClassifier__repr_html_inner = '_syft_missing'\n",
    "    print('❌ sklearn.linear_model._ridge.RidgeClassifier._repr_html_inner: Return unavailable') # noqa E501\n",
    "    print(\"  Please fix this return type code until there is no exception\")\n",
    "    print('  Error:', e)\n"
   ]
  },
  {
   "cell_type": "code",
   "execution_count": null,
   "id": "mounted-collection",
   "metadata": {},
   "outputs": [],
   "source": [
    "# sklearn.linear_model._ridge.RidgeClassifier._repr_mimebundle_\n",
    "try:\n",
    "    obj = class_constructor() # noqa F821\n",
    "    ret = obj._repr_mimebundle_()\n",
    "    type_sklearn_linear_model__ridge_RidgeClassifier__repr_mimebundle_ = getattr(ret, '__module__', 'none') + '.' + ret.__class__.__name__\n",
    "    print('✅ sklearn.linear_model._ridge.RidgeClassifier._repr_mimebundle_: ', type(ret)) # noqa E501\n",
    "except Exception as e:\n",
    "    type_sklearn_linear_model__ridge_RidgeClassifier__repr_mimebundle_ = '_syft_missing'\n",
    "    print('❌ sklearn.linear_model._ridge.RidgeClassifier._repr_mimebundle_: Return unavailable') # noqa E501\n",
    "    print(\"  Please fix this return type code until there is no exception\")\n",
    "    print('  Error:', e)\n"
   ]
  },
  {
   "cell_type": "code",
   "execution_count": null,
   "id": "executed-sally",
   "metadata": {},
   "outputs": [],
   "source": [
    "# sklearn.linear_model._ridge.RidgeClassifier._set_intercept\n",
    "try:\n",
    "    obj = class_constructor() # noqa F821\n",
    "    ret = obj._set_intercept()\n",
    "    type_sklearn_linear_model__ridge_RidgeClassifier__set_intercept = getattr(ret, '__module__', 'none') + '.' + ret.__class__.__name__\n",
    "    print('✅ sklearn.linear_model._ridge.RidgeClassifier._set_intercept: ', type(ret)) # noqa E501\n",
    "except Exception as e:\n",
    "    type_sklearn_linear_model__ridge_RidgeClassifier__set_intercept = '_syft_missing'\n",
    "    print('❌ sklearn.linear_model._ridge.RidgeClassifier._set_intercept: Return unavailable') # noqa E501\n",
    "    print(\"  Please fix this return type code until there is no exception\")\n",
    "    print('  Error:', e)\n"
   ]
  },
  {
   "cell_type": "code",
   "execution_count": null,
   "id": "finnish-signature",
   "metadata": {},
   "outputs": [],
   "source": [
    "# sklearn.linear_model._ridge.RidgeClassifier._validate_data\n",
    "try:\n",
    "    obj = class_constructor() # noqa F821\n",
    "    ret = obj._validate_data()\n",
    "    type_sklearn_linear_model__ridge_RidgeClassifier__validate_data = getattr(ret, '__module__', 'none') + '.' + ret.__class__.__name__\n",
    "    print('✅ sklearn.linear_model._ridge.RidgeClassifier._validate_data: ', type(ret)) # noqa E501\n",
    "except Exception as e:\n",
    "    type_sklearn_linear_model__ridge_RidgeClassifier__validate_data = '_syft_missing'\n",
    "    print('❌ sklearn.linear_model._ridge.RidgeClassifier._validate_data: Return unavailable') # noqa E501\n",
    "    print(\"  Please fix this return type code until there is no exception\")\n",
    "    print('  Error:', e)\n"
   ]
  },
  {
   "cell_type": "code",
   "execution_count": null,
   "id": "coated-lindsay",
   "metadata": {},
   "outputs": [],
   "source": [
    "# sklearn.linear_model._ridge.RidgeClassifier.classes_\n",
    "try:\n",
    "    obj = class_constructor()\n",
    "    ret = obj.classes_\n",
    "    type_sklearn_linear_model__ridge_RidgeClassifier_classes_ = getattr(ret, '__module__', 'none') + '.' + ret.__class__.__name__\n",
    "    print('✅ sklearn.linear_model._ridge.RidgeClassifier.classes_:', type(ret)) # noqa E501\n",
    "except Exception as e:\n",
    "    type_sklearn_linear_model__ridge_RidgeClassifier_classes_ = '_syft_missing'\n",
    "    print('❌ sklearn.linear_model._ridge.RidgeClassifier.classes_: Return unavailable') # noqa E501\n",
    "    print(\"  Please fix this return type code until there is no exception\")\n",
    "    print('  Error:', e)\n"
   ]
  },
  {
   "cell_type": "code",
   "execution_count": null,
   "id": "empirical-things",
   "metadata": {},
   "outputs": [],
   "source": [
    "# sklearn.linear_model._ridge.RidgeClassifier.decision_function\n",
    "try:\n",
    "    obj = class_constructor() # noqa F821\n",
    "    ret = obj.decision_function()\n",
    "    type_sklearn_linear_model__ridge_RidgeClassifier_decision_function = getattr(ret, '__module__', 'none') + '.' + ret.__class__.__name__\n",
    "    print('✅ sklearn.linear_model._ridge.RidgeClassifier.decision_function: ', type(ret)) # noqa E501\n",
    "except Exception as e:\n",
    "    type_sklearn_linear_model__ridge_RidgeClassifier_decision_function = '_syft_missing'\n",
    "    print('❌ sklearn.linear_model._ridge.RidgeClassifier.decision_function: Return unavailable') # noqa E501\n",
    "    print(\"  Please fix this return type code until there is no exception\")\n",
    "    print('  Error:', e)\n"
   ]
  },
  {
   "cell_type": "code",
   "execution_count": null,
   "id": "strategic-prerequisite",
   "metadata": {},
   "outputs": [],
   "source": [
    "# sklearn.linear_model._ridge.RidgeClassifier.fit\n",
    "try:\n",
    "    obj = class_constructor() # noqa F821\n",
    "    ret = obj.fit()\n",
    "    type_sklearn_linear_model__ridge_RidgeClassifier_fit = getattr(ret, '__module__', 'none') + '.' + ret.__class__.__name__\n",
    "    print('✅ sklearn.linear_model._ridge.RidgeClassifier.fit: ', type(ret)) # noqa E501\n",
    "except Exception as e:\n",
    "    type_sklearn_linear_model__ridge_RidgeClassifier_fit = '_syft_missing'\n",
    "    print('❌ sklearn.linear_model._ridge.RidgeClassifier.fit: Return unavailable') # noqa E501\n",
    "    print(\"  Please fix this return type code until there is no exception\")\n",
    "    print('  Error:', e)\n"
   ]
  },
  {
   "cell_type": "code",
   "execution_count": null,
   "id": "eastern-touch",
   "metadata": {},
   "outputs": [],
   "source": [
    "# sklearn.linear_model._ridge.RidgeClassifier.get_params\n",
    "try:\n",
    "    obj = class_constructor() # noqa F821\n",
    "    ret = obj.get_params()\n",
    "    type_sklearn_linear_model__ridge_RidgeClassifier_get_params = getattr(ret, '__module__', 'none') + '.' + ret.__class__.__name__\n",
    "    print('✅ sklearn.linear_model._ridge.RidgeClassifier.get_params: ', type(ret)) # noqa E501\n",
    "except Exception as e:\n",
    "    type_sklearn_linear_model__ridge_RidgeClassifier_get_params = '_syft_missing'\n",
    "    print('❌ sklearn.linear_model._ridge.RidgeClassifier.get_params: Return unavailable') # noqa E501\n",
    "    print(\"  Please fix this return type code until there is no exception\")\n",
    "    print('  Error:', e)\n"
   ]
  },
  {
   "cell_type": "code",
   "execution_count": null,
   "id": "known-firmware",
   "metadata": {},
   "outputs": [],
   "source": [
    "# sklearn.linear_model._ridge.RidgeClassifier.predict\n",
    "try:\n",
    "    obj = class_constructor() # noqa F821\n",
    "    ret = obj.predict()\n",
    "    type_sklearn_linear_model__ridge_RidgeClassifier_predict = getattr(ret, '__module__', 'none') + '.' + ret.__class__.__name__\n",
    "    print('✅ sklearn.linear_model._ridge.RidgeClassifier.predict: ', type(ret)) # noqa E501\n",
    "except Exception as e:\n",
    "    type_sklearn_linear_model__ridge_RidgeClassifier_predict = '_syft_missing'\n",
    "    print('❌ sklearn.linear_model._ridge.RidgeClassifier.predict: Return unavailable') # noqa E501\n",
    "    print(\"  Please fix this return type code until there is no exception\")\n",
    "    print('  Error:', e)\n"
   ]
  },
  {
   "cell_type": "code",
   "execution_count": null,
   "id": "medium-equity",
   "metadata": {},
   "outputs": [],
   "source": [
    "# sklearn.linear_model._ridge.RidgeClassifier.score\n",
    "try:\n",
    "    obj = class_constructor() # noqa F821\n",
    "    ret = obj.score()\n",
    "    type_sklearn_linear_model__ridge_RidgeClassifier_score = getattr(ret, '__module__', 'none') + '.' + ret.__class__.__name__\n",
    "    print('✅ sklearn.linear_model._ridge.RidgeClassifier.score: ', type(ret)) # noqa E501\n",
    "except Exception as e:\n",
    "    type_sklearn_linear_model__ridge_RidgeClassifier_score = '_syft_missing'\n",
    "    print('❌ sklearn.linear_model._ridge.RidgeClassifier.score: Return unavailable') # noqa E501\n",
    "    print(\"  Please fix this return type code until there is no exception\")\n",
    "    print('  Error:', e)\n"
   ]
  },
  {
   "cell_type": "code",
   "execution_count": null,
   "id": "decimal-novelty",
   "metadata": {},
   "outputs": [],
   "source": [
    "# sklearn.linear_model._ridge.RidgeClassifier.set_params\n",
    "try:\n",
    "    obj = class_constructor() # noqa F821\n",
    "    ret = obj.set_params()\n",
    "    type_sklearn_linear_model__ridge_RidgeClassifier_set_params = getattr(ret, '__module__', 'none') + '.' + ret.__class__.__name__\n",
    "    print('✅ sklearn.linear_model._ridge.RidgeClassifier.set_params: ', type(ret)) # noqa E501\n",
    "except Exception as e:\n",
    "    type_sklearn_linear_model__ridge_RidgeClassifier_set_params = '_syft_missing'\n",
    "    print('❌ sklearn.linear_model._ridge.RidgeClassifier.set_params: Return unavailable') # noqa E501\n",
    "    print(\"  Please fix this return type code until there is no exception\")\n",
    "    print('  Error:', e)\n"
   ]
  }
 ],
 "metadata": {},
 "nbformat": 4,
 "nbformat_minor": 5
}
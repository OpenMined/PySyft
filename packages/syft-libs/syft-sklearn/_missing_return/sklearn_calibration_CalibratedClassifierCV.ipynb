{
 "cells": [
  {
   "cell_type": "markdown",
   "id": "hearing-paradise",
   "metadata": {},
   "source": [
    "## sklearn.calibration.CalibratedClassifierCV"
   ]
  },
  {
   "cell_type": "code",
   "execution_count": null,
   "id": "ceramic-sitting",
   "metadata": {},
   "outputs": [],
   "source": [
    "import sklearn\n",
    "def class_constructor(*args, **kwargs):\n",
    "    obj = sklearn.calibration.CalibratedClassifierCV()\n",
    "    return obj\n"
   ]
  },
  {
   "cell_type": "code",
   "execution_count": null,
   "id": "statutory-browser",
   "metadata": {},
   "outputs": [],
   "source": [
    "# sklearn.calibration.CalibratedClassifierCV.__getstate__\n",
    "try:\n",
    "    obj = class_constructor() # noqa F821\n",
    "    ret = obj.__getstate__()\n",
    "    type_sklearn_calibration_CalibratedClassifierCV___getstate__ = getattr(ret, '__module__', 'none') + '.' + ret.__class__.__name__\n",
    "    print('✅ sklearn.calibration.CalibratedClassifierCV.__getstate__: ', type(ret)) # noqa E501\n",
    "except Exception as e:\n",
    "    type_sklearn_calibration_CalibratedClassifierCV___getstate__ = '_syft_missing'\n",
    "    print('❌ sklearn.calibration.CalibratedClassifierCV.__getstate__: Return unavailable') # noqa E501\n",
    "    print(\"  Please fix this return type code until there is no exception\")\n",
    "    print('  Error:', e)\n"
   ]
  },
  {
   "cell_type": "code",
   "execution_count": null,
   "id": "colonial-possession",
   "metadata": {},
   "outputs": [],
   "source": [
    "# sklearn.calibration.CalibratedClassifierCV.__repr__\n",
    "try:\n",
    "    obj = class_constructor() # noqa F821\n",
    "    ret = obj.__repr__()\n",
    "    type_sklearn_calibration_CalibratedClassifierCV___repr__ = getattr(ret, '__module__', 'none') + '.' + ret.__class__.__name__\n",
    "    print('✅ sklearn.calibration.CalibratedClassifierCV.__repr__: ', type(ret)) # noqa E501\n",
    "except Exception as e:\n",
    "    type_sklearn_calibration_CalibratedClassifierCV___repr__ = '_syft_missing'\n",
    "    print('❌ sklearn.calibration.CalibratedClassifierCV.__repr__: Return unavailable') # noqa E501\n",
    "    print(\"  Please fix this return type code until there is no exception\")\n",
    "    print('  Error:', e)\n"
   ]
  },
  {
   "cell_type": "code",
   "execution_count": null,
   "id": "social-norman",
   "metadata": {},
   "outputs": [],
   "source": [
    "# sklearn.calibration.CalibratedClassifierCV.__setstate__\n",
    "try:\n",
    "    obj = class_constructor() # noqa F821\n",
    "    ret = obj.__setstate__()\n",
    "    type_sklearn_calibration_CalibratedClassifierCV___setstate__ = getattr(ret, '__module__', 'none') + '.' + ret.__class__.__name__\n",
    "    print('✅ sklearn.calibration.CalibratedClassifierCV.__setstate__: ', type(ret)) # noqa E501\n",
    "except Exception as e:\n",
    "    type_sklearn_calibration_CalibratedClassifierCV___setstate__ = '_syft_missing'\n",
    "    print('❌ sklearn.calibration.CalibratedClassifierCV.__setstate__: Return unavailable') # noqa E501\n",
    "    print(\"  Please fix this return type code until there is no exception\")\n",
    "    print('  Error:', e)\n"
   ]
  },
  {
   "cell_type": "code",
   "execution_count": null,
   "id": "varying-harassment",
   "metadata": {},
   "outputs": [],
   "source": [
    "# sklearn.calibration.CalibratedClassifierCV._check_n_features\n",
    "try:\n",
    "    obj = class_constructor() # noqa F821\n",
    "    ret = obj._check_n_features()\n",
    "    type_sklearn_calibration_CalibratedClassifierCV__check_n_features = getattr(ret, '__module__', 'none') + '.' + ret.__class__.__name__\n",
    "    print('✅ sklearn.calibration.CalibratedClassifierCV._check_n_features: ', type(ret)) # noqa E501\n",
    "except Exception as e:\n",
    "    type_sklearn_calibration_CalibratedClassifierCV__check_n_features = '_syft_missing'\n",
    "    print('❌ sklearn.calibration.CalibratedClassifierCV._check_n_features: Return unavailable') # noqa E501\n",
    "    print(\"  Please fix this return type code until there is no exception\")\n",
    "    print('  Error:', e)\n"
   ]
  },
  {
   "cell_type": "code",
   "execution_count": null,
   "id": "brutal-walker",
   "metadata": {},
   "outputs": [],
   "source": [
    "# sklearn.calibration.CalibratedClassifierCV._get_param_names\n",
    "try:\n",
    "    obj = class_constructor() # noqa F821\n",
    "    ret = obj._get_param_names()\n",
    "    type_sklearn_calibration_CalibratedClassifierCV__get_param_names = getattr(ret, '__module__', 'none') + '.' + ret.__class__.__name__\n",
    "    print('✅ sklearn.calibration.CalibratedClassifierCV._get_param_names: ', type(ret)) # noqa E501\n",
    "except Exception as e:\n",
    "    type_sklearn_calibration_CalibratedClassifierCV__get_param_names = '_syft_missing'\n",
    "    print('❌ sklearn.calibration.CalibratedClassifierCV._get_param_names: Return unavailable') # noqa E501\n",
    "    print(\"  Please fix this return type code until there is no exception\")\n",
    "    print('  Error:', e)\n"
   ]
  },
  {
   "cell_type": "code",
   "execution_count": null,
   "id": "pressing-living",
   "metadata": {},
   "outputs": [],
   "source": [
    "# sklearn.calibration.CalibratedClassifierCV._get_tags\n",
    "try:\n",
    "    obj = class_constructor() # noqa F821\n",
    "    ret = obj._get_tags()\n",
    "    type_sklearn_calibration_CalibratedClassifierCV__get_tags = getattr(ret, '__module__', 'none') + '.' + ret.__class__.__name__\n",
    "    print('✅ sklearn.calibration.CalibratedClassifierCV._get_tags: ', type(ret)) # noqa E501\n",
    "except Exception as e:\n",
    "    type_sklearn_calibration_CalibratedClassifierCV__get_tags = '_syft_missing'\n",
    "    print('❌ sklearn.calibration.CalibratedClassifierCV._get_tags: Return unavailable') # noqa E501\n",
    "    print(\"  Please fix this return type code until there is no exception\")\n",
    "    print('  Error:', e)\n"
   ]
  },
  {
   "cell_type": "code",
   "execution_count": null,
   "id": "atmospheric-agenda",
   "metadata": {},
   "outputs": [],
   "source": [
    "# sklearn.calibration.CalibratedClassifierCV._more_tags\n",
    "try:\n",
    "    obj = class_constructor() # noqa F821\n",
    "    ret = obj._more_tags()\n",
    "    type_sklearn_calibration_CalibratedClassifierCV__more_tags = getattr(ret, '__module__', 'none') + '.' + ret.__class__.__name__\n",
    "    print('✅ sklearn.calibration.CalibratedClassifierCV._more_tags: ', type(ret)) # noqa E501\n",
    "except Exception as e:\n",
    "    type_sklearn_calibration_CalibratedClassifierCV__more_tags = '_syft_missing'\n",
    "    print('❌ sklearn.calibration.CalibratedClassifierCV._more_tags: Return unavailable') # noqa E501\n",
    "    print(\"  Please fix this return type code until there is no exception\")\n",
    "    print('  Error:', e)\n"
   ]
  },
  {
   "cell_type": "code",
   "execution_count": null,
   "id": "balanced-gabriel",
   "metadata": {},
   "outputs": [],
   "source": [
    "# sklearn.calibration.CalibratedClassifierCV._repr_html_\n",
    "try:\n",
    "    obj = class_constructor()\n",
    "    ret = obj._repr_html_\n",
    "    type_sklearn_calibration_CalibratedClassifierCV__repr_html_ = getattr(ret, '__module__', 'none') + '.' + ret.__class__.__name__\n",
    "    print('✅ sklearn.calibration.CalibratedClassifierCV._repr_html_:', type(ret)) # noqa E501\n",
    "except Exception as e:\n",
    "    type_sklearn_calibration_CalibratedClassifierCV__repr_html_ = '_syft_missing'\n",
    "    print('❌ sklearn.calibration.CalibratedClassifierCV._repr_html_: Return unavailable') # noqa E501\n",
    "    print(\"  Please fix this return type code until there is no exception\")\n",
    "    print('  Error:', e)\n"
   ]
  },
  {
   "cell_type": "code",
   "execution_count": null,
   "id": "simplified-cycling",
   "metadata": {},
   "outputs": [],
   "source": [
    "# sklearn.calibration.CalibratedClassifierCV._repr_html_inner\n",
    "try:\n",
    "    obj = class_constructor() # noqa F821\n",
    "    ret = obj._repr_html_inner()\n",
    "    type_sklearn_calibration_CalibratedClassifierCV__repr_html_inner = getattr(ret, '__module__', 'none') + '.' + ret.__class__.__name__\n",
    "    print('✅ sklearn.calibration.CalibratedClassifierCV._repr_html_inner: ', type(ret)) # noqa E501\n",
    "except Exception as e:\n",
    "    type_sklearn_calibration_CalibratedClassifierCV__repr_html_inner = '_syft_missing'\n",
    "    print('❌ sklearn.calibration.CalibratedClassifierCV._repr_html_inner: Return unavailable') # noqa E501\n",
    "    print(\"  Please fix this return type code until there is no exception\")\n",
    "    print('  Error:', e)\n"
   ]
  },
  {
   "cell_type": "code",
   "execution_count": null,
   "id": "appreciated-transfer",
   "metadata": {},
   "outputs": [],
   "source": [
    "# sklearn.calibration.CalibratedClassifierCV._repr_mimebundle_\n",
    "try:\n",
    "    obj = class_constructor() # noqa F821\n",
    "    ret = obj._repr_mimebundle_()\n",
    "    type_sklearn_calibration_CalibratedClassifierCV__repr_mimebundle_ = getattr(ret, '__module__', 'none') + '.' + ret.__class__.__name__\n",
    "    print('✅ sklearn.calibration.CalibratedClassifierCV._repr_mimebundle_: ', type(ret)) # noqa E501\n",
    "except Exception as e:\n",
    "    type_sklearn_calibration_CalibratedClassifierCV__repr_mimebundle_ = '_syft_missing'\n",
    "    print('❌ sklearn.calibration.CalibratedClassifierCV._repr_mimebundle_: Return unavailable') # noqa E501\n",
    "    print(\"  Please fix this return type code until there is no exception\")\n",
    "    print('  Error:', e)\n"
   ]
  },
  {
   "cell_type": "code",
   "execution_count": null,
   "id": "peaceful-width",
   "metadata": {},
   "outputs": [],
   "source": [
    "# sklearn.calibration.CalibratedClassifierCV._validate_data\n",
    "try:\n",
    "    obj = class_constructor() # noqa F821\n",
    "    ret = obj._validate_data()\n",
    "    type_sklearn_calibration_CalibratedClassifierCV__validate_data = getattr(ret, '__module__', 'none') + '.' + ret.__class__.__name__\n",
    "    print('✅ sklearn.calibration.CalibratedClassifierCV._validate_data: ', type(ret)) # noqa E501\n",
    "except Exception as e:\n",
    "    type_sklearn_calibration_CalibratedClassifierCV__validate_data = '_syft_missing'\n",
    "    print('❌ sklearn.calibration.CalibratedClassifierCV._validate_data: Return unavailable') # noqa E501\n",
    "    print(\"  Please fix this return type code until there is no exception\")\n",
    "    print('  Error:', e)\n"
   ]
  },
  {
   "cell_type": "code",
   "execution_count": null,
   "id": "automotive-tobacco",
   "metadata": {},
   "outputs": [],
   "source": [
    "# sklearn.calibration.CalibratedClassifierCV.fit\n",
    "try:\n",
    "    obj = class_constructor() # noqa F821\n",
    "    ret = obj.fit()\n",
    "    type_sklearn_calibration_CalibratedClassifierCV_fit = getattr(ret, '__module__', 'none') + '.' + ret.__class__.__name__\n",
    "    print('✅ sklearn.calibration.CalibratedClassifierCV.fit: ', type(ret)) # noqa E501\n",
    "except Exception as e:\n",
    "    type_sklearn_calibration_CalibratedClassifierCV_fit = '_syft_missing'\n",
    "    print('❌ sklearn.calibration.CalibratedClassifierCV.fit: Return unavailable') # noqa E501\n",
    "    print(\"  Please fix this return type code until there is no exception\")\n",
    "    print('  Error:', e)\n"
   ]
  },
  {
   "cell_type": "code",
   "execution_count": null,
   "id": "conscious-laser",
   "metadata": {},
   "outputs": [],
   "source": [
    "# sklearn.calibration.CalibratedClassifierCV.get_params\n",
    "try:\n",
    "    obj = class_constructor() # noqa F821\n",
    "    ret = obj.get_params()\n",
    "    type_sklearn_calibration_CalibratedClassifierCV_get_params = getattr(ret, '__module__', 'none') + '.' + ret.__class__.__name__\n",
    "    print('✅ sklearn.calibration.CalibratedClassifierCV.get_params: ', type(ret)) # noqa E501\n",
    "except Exception as e:\n",
    "    type_sklearn_calibration_CalibratedClassifierCV_get_params = '_syft_missing'\n",
    "    print('❌ sklearn.calibration.CalibratedClassifierCV.get_params: Return unavailable') # noqa E501\n",
    "    print(\"  Please fix this return type code until there is no exception\")\n",
    "    print('  Error:', e)\n"
   ]
  },
  {
   "cell_type": "code",
   "execution_count": null,
   "id": "clear-occasions",
   "metadata": {},
   "outputs": [],
   "source": [
    "# sklearn.calibration.CalibratedClassifierCV.predict\n",
    "try:\n",
    "    obj = class_constructor() # noqa F821\n",
    "    ret = obj.predict()\n",
    "    type_sklearn_calibration_CalibratedClassifierCV_predict = getattr(ret, '__module__', 'none') + '.' + ret.__class__.__name__\n",
    "    print('✅ sklearn.calibration.CalibratedClassifierCV.predict: ', type(ret)) # noqa E501\n",
    "except Exception as e:\n",
    "    type_sklearn_calibration_CalibratedClassifierCV_predict = '_syft_missing'\n",
    "    print('❌ sklearn.calibration.CalibratedClassifierCV.predict: Return unavailable') # noqa E501\n",
    "    print(\"  Please fix this return type code until there is no exception\")\n",
    "    print('  Error:', e)\n"
   ]
  },
  {
   "cell_type": "code",
   "execution_count": null,
   "id": "cultural-mention",
   "metadata": {},
   "outputs": [],
   "source": [
    "# sklearn.calibration.CalibratedClassifierCV.predict_proba\n",
    "try:\n",
    "    obj = class_constructor() # noqa F821\n",
    "    ret = obj.predict_proba()\n",
    "    type_sklearn_calibration_CalibratedClassifierCV_predict_proba = getattr(ret, '__module__', 'none') + '.' + ret.__class__.__name__\n",
    "    print('✅ sklearn.calibration.CalibratedClassifierCV.predict_proba: ', type(ret)) # noqa E501\n",
    "except Exception as e:\n",
    "    type_sklearn_calibration_CalibratedClassifierCV_predict_proba = '_syft_missing'\n",
    "    print('❌ sklearn.calibration.CalibratedClassifierCV.predict_proba: Return unavailable') # noqa E501\n",
    "    print(\"  Please fix this return type code until there is no exception\")\n",
    "    print('  Error:', e)\n"
   ]
  },
  {
   "cell_type": "code",
   "execution_count": null,
   "id": "classified-device",
   "metadata": {},
   "outputs": [],
   "source": [
    "# sklearn.calibration.CalibratedClassifierCV.score\n",
    "try:\n",
    "    obj = class_constructor() # noqa F821\n",
    "    ret = obj.score()\n",
    "    type_sklearn_calibration_CalibratedClassifierCV_score = getattr(ret, '__module__', 'none') + '.' + ret.__class__.__name__\n",
    "    print('✅ sklearn.calibration.CalibratedClassifierCV.score: ', type(ret)) # noqa E501\n",
    "except Exception as e:\n",
    "    type_sklearn_calibration_CalibratedClassifierCV_score = '_syft_missing'\n",
    "    print('❌ sklearn.calibration.CalibratedClassifierCV.score: Return unavailable') # noqa E501\n",
    "    print(\"  Please fix this return type code until there is no exception\")\n",
    "    print('  Error:', e)\n"
   ]
  },
  {
   "cell_type": "code",
   "execution_count": null,
   "id": "hydraulic-melbourne",
   "metadata": {},
   "outputs": [],
   "source": [
    "# sklearn.calibration.CalibratedClassifierCV.set_params\n",
    "try:\n",
    "    obj = class_constructor() # noqa F821\n",
    "    ret = obj.set_params()\n",
    "    type_sklearn_calibration_CalibratedClassifierCV_set_params = getattr(ret, '__module__', 'none') + '.' + ret.__class__.__name__\n",
    "    print('✅ sklearn.calibration.CalibratedClassifierCV.set_params: ', type(ret)) # noqa E501\n",
    "except Exception as e:\n",
    "    type_sklearn_calibration_CalibratedClassifierCV_set_params = '_syft_missing'\n",
    "    print('❌ sklearn.calibration.CalibratedClassifierCV.set_params: Return unavailable') # noqa E501\n",
    "    print(\"  Please fix this return type code until there is no exception\")\n",
    "    print('  Error:', e)\n"
   ]
  }
 ],
 "metadata": {},
 "nbformat": 4,
 "nbformat_minor": 5
}
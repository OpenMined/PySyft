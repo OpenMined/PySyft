{
 "cells": [
  {
   "cell_type": "markdown",
   "id": "express-jungle",
   "metadata": {},
   "source": [
    "## sklearn.linear_model._glm.link.LogitLink"
   ]
  },
  {
   "cell_type": "code",
   "execution_count": null,
   "id": "minor-leave",
   "metadata": {},
   "outputs": [],
   "source": [
    "import sklearn\n",
    "def class_constructor(*args, **kwargs):\n",
    "    obj = sklearn.linear_model._glm.link.LogitLink()\n",
    "    return obj\n"
   ]
  },
  {
   "cell_type": "code",
   "execution_count": null,
   "id": "muslim-intent",
   "metadata": {},
   "outputs": [],
   "source": [
    "# sklearn.linear_model._glm.link.LogitLink.__call__\n",
    "try:\n",
    "    obj = class_constructor() # noqa F821\n",
    "    ret = obj.__call__()\n",
    "    type_sklearn_linear_model__glm_link_LogitLink___call__ = getattr(ret, '__module__', 'none') + '.' + ret.__class__.__name__\n",
    "    print('✅ sklearn.linear_model._glm.link.LogitLink.__call__: ', type(ret)) # noqa E501\n",
    "except Exception as e:\n",
    "    type_sklearn_linear_model__glm_link_LogitLink___call__ = '_syft_missing'\n",
    "    print('❌ sklearn.linear_model._glm.link.LogitLink.__call__: Return unavailable') # noqa E501\n",
    "    print(\"  Please fix this return type code until there is no exception\")\n",
    "    print('  Error:', e)\n"
   ]
  },
  {
   "cell_type": "code",
   "execution_count": null,
   "id": "literary-egypt",
   "metadata": {},
   "outputs": [],
   "source": [
    "# sklearn.linear_model._glm.link.LogitLink.derivative\n",
    "try:\n",
    "    obj = class_constructor() # noqa F821\n",
    "    ret = obj.derivative()\n",
    "    type_sklearn_linear_model__glm_link_LogitLink_derivative = getattr(ret, '__module__', 'none') + '.' + ret.__class__.__name__\n",
    "    print('✅ sklearn.linear_model._glm.link.LogitLink.derivative: ', type(ret)) # noqa E501\n",
    "except Exception as e:\n",
    "    type_sklearn_linear_model__glm_link_LogitLink_derivative = '_syft_missing'\n",
    "    print('❌ sklearn.linear_model._glm.link.LogitLink.derivative: Return unavailable') # noqa E501\n",
    "    print(\"  Please fix this return type code until there is no exception\")\n",
    "    print('  Error:', e)\n"
   ]
  },
  {
   "cell_type": "code",
   "execution_count": null,
   "id": "creative-mouth",
   "metadata": {},
   "outputs": [],
   "source": [
    "# sklearn.linear_model._glm.link.LogitLink.inverse\n",
    "try:\n",
    "    obj = class_constructor() # noqa F821\n",
    "    ret = obj.inverse()\n",
    "    type_sklearn_linear_model__glm_link_LogitLink_inverse = getattr(ret, '__module__', 'none') + '.' + ret.__class__.__name__\n",
    "    print('✅ sklearn.linear_model._glm.link.LogitLink.inverse: ', type(ret)) # noqa E501\n",
    "except Exception as e:\n",
    "    type_sklearn_linear_model__glm_link_LogitLink_inverse = '_syft_missing'\n",
    "    print('❌ sklearn.linear_model._glm.link.LogitLink.inverse: Return unavailable') # noqa E501\n",
    "    print(\"  Please fix this return type code until there is no exception\")\n",
    "    print('  Error:', e)\n"
   ]
  },
  {
   "cell_type": "code",
   "execution_count": null,
   "id": "internal-senate",
   "metadata": {},
   "outputs": [],
   "source": [
    "# sklearn.linear_model._glm.link.LogitLink.inverse_derivative\n",
    "try:\n",
    "    obj = class_constructor() # noqa F821\n",
    "    ret = obj.inverse_derivative()\n",
    "    type_sklearn_linear_model__glm_link_LogitLink_inverse_derivative = getattr(ret, '__module__', 'none') + '.' + ret.__class__.__name__\n",
    "    print('✅ sklearn.linear_model._glm.link.LogitLink.inverse_derivative: ', type(ret)) # noqa E501\n",
    "except Exception as e:\n",
    "    type_sklearn_linear_model__glm_link_LogitLink_inverse_derivative = '_syft_missing'\n",
    "    print('❌ sklearn.linear_model._glm.link.LogitLink.inverse_derivative: Return unavailable') # noqa E501\n",
    "    print(\"  Please fix this return type code until there is no exception\")\n",
    "    print('  Error:', e)\n"
   ]
  }
 ],
 "metadata": {},
 "nbformat": 4,
 "nbformat_minor": 5
}
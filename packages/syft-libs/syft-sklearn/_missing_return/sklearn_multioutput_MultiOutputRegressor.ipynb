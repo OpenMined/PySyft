{
 "cells": [
  {
   "cell_type": "markdown",
   "id": "graduate-telephone",
   "metadata": {},
   "source": [
    "## sklearn.multioutput.MultiOutputRegressor"
   ]
  },
  {
   "cell_type": "code",
   "execution_count": null,
   "id": "instant-avenue",
   "metadata": {},
   "outputs": [],
   "source": [
    "import sklearn\n",
    "def class_constructor(*args, **kwargs):\n",
    "    obj = sklearn.multioutput.MultiOutputRegressor()\n",
    "    return obj\n"
   ]
  },
  {
   "cell_type": "code",
   "execution_count": null,
   "id": "american-drill",
   "metadata": {},
   "outputs": [],
   "source": [
    "# sklearn.multioutput.MultiOutputRegressor.__getstate__\n",
    "try:\n",
    "    obj = class_constructor() # noqa F821\n",
    "    ret = obj.__getstate__()\n",
    "    type_sklearn_multioutput_MultiOutputRegressor___getstate__ = getattr(ret, '__module__', 'none') + '.' + ret.__class__.__name__\n",
    "    print('✅ sklearn.multioutput.MultiOutputRegressor.__getstate__: ', type(ret)) # noqa E501\n",
    "except Exception as e:\n",
    "    type_sklearn_multioutput_MultiOutputRegressor___getstate__ = '_syft_missing'\n",
    "    print('❌ sklearn.multioutput.MultiOutputRegressor.__getstate__: Return unavailable') # noqa E501\n",
    "    print(\"  Please fix this return type code until there is no exception\")\n",
    "    print('  Error:', e)\n"
   ]
  },
  {
   "cell_type": "code",
   "execution_count": null,
   "id": "sacred-samba",
   "metadata": {},
   "outputs": [],
   "source": [
    "# sklearn.multioutput.MultiOutputRegressor.__repr__\n",
    "try:\n",
    "    obj = class_constructor() # noqa F821\n",
    "    ret = obj.__repr__()\n",
    "    type_sklearn_multioutput_MultiOutputRegressor___repr__ = getattr(ret, '__module__', 'none') + '.' + ret.__class__.__name__\n",
    "    print('✅ sklearn.multioutput.MultiOutputRegressor.__repr__: ', type(ret)) # noqa E501\n",
    "except Exception as e:\n",
    "    type_sklearn_multioutput_MultiOutputRegressor___repr__ = '_syft_missing'\n",
    "    print('❌ sklearn.multioutput.MultiOutputRegressor.__repr__: Return unavailable') # noqa E501\n",
    "    print(\"  Please fix this return type code until there is no exception\")\n",
    "    print('  Error:', e)\n"
   ]
  },
  {
   "cell_type": "code",
   "execution_count": null,
   "id": "imperial-clock",
   "metadata": {},
   "outputs": [],
   "source": [
    "# sklearn.multioutput.MultiOutputRegressor.__setstate__\n",
    "try:\n",
    "    obj = class_constructor() # noqa F821\n",
    "    ret = obj.__setstate__()\n",
    "    type_sklearn_multioutput_MultiOutputRegressor___setstate__ = getattr(ret, '__module__', 'none') + '.' + ret.__class__.__name__\n",
    "    print('✅ sklearn.multioutput.MultiOutputRegressor.__setstate__: ', type(ret)) # noqa E501\n",
    "except Exception as e:\n",
    "    type_sklearn_multioutput_MultiOutputRegressor___setstate__ = '_syft_missing'\n",
    "    print('❌ sklearn.multioutput.MultiOutputRegressor.__setstate__: Return unavailable') # noqa E501\n",
    "    print(\"  Please fix this return type code until there is no exception\")\n",
    "    print('  Error:', e)\n"
   ]
  },
  {
   "cell_type": "code",
   "execution_count": null,
   "id": "atmospheric-cylinder",
   "metadata": {},
   "outputs": [],
   "source": [
    "# sklearn.multioutput.MultiOutputRegressor._check_n_features\n",
    "try:\n",
    "    obj = class_constructor() # noqa F821\n",
    "    ret = obj._check_n_features()\n",
    "    type_sklearn_multioutput_MultiOutputRegressor__check_n_features = getattr(ret, '__module__', 'none') + '.' + ret.__class__.__name__\n",
    "    print('✅ sklearn.multioutput.MultiOutputRegressor._check_n_features: ', type(ret)) # noqa E501\n",
    "except Exception as e:\n",
    "    type_sklearn_multioutput_MultiOutputRegressor__check_n_features = '_syft_missing'\n",
    "    print('❌ sklearn.multioutput.MultiOutputRegressor._check_n_features: Return unavailable') # noqa E501\n",
    "    print(\"  Please fix this return type code until there is no exception\")\n",
    "    print('  Error:', e)\n"
   ]
  },
  {
   "cell_type": "code",
   "execution_count": null,
   "id": "responsible-michigan",
   "metadata": {},
   "outputs": [],
   "source": [
    "# sklearn.multioutput.MultiOutputRegressor._get_param_names\n",
    "try:\n",
    "    obj = class_constructor() # noqa F821\n",
    "    ret = obj._get_param_names()\n",
    "    type_sklearn_multioutput_MultiOutputRegressor__get_param_names = getattr(ret, '__module__', 'none') + '.' + ret.__class__.__name__\n",
    "    print('✅ sklearn.multioutput.MultiOutputRegressor._get_param_names: ', type(ret)) # noqa E501\n",
    "except Exception as e:\n",
    "    type_sklearn_multioutput_MultiOutputRegressor__get_param_names = '_syft_missing'\n",
    "    print('❌ sklearn.multioutput.MultiOutputRegressor._get_param_names: Return unavailable') # noqa E501\n",
    "    print(\"  Please fix this return type code until there is no exception\")\n",
    "    print('  Error:', e)\n"
   ]
  },
  {
   "cell_type": "code",
   "execution_count": null,
   "id": "expensive-elements",
   "metadata": {},
   "outputs": [],
   "source": [
    "# sklearn.multioutput.MultiOutputRegressor._get_tags\n",
    "try:\n",
    "    obj = class_constructor() # noqa F821\n",
    "    ret = obj._get_tags()\n",
    "    type_sklearn_multioutput_MultiOutputRegressor__get_tags = getattr(ret, '__module__', 'none') + '.' + ret.__class__.__name__\n",
    "    print('✅ sklearn.multioutput.MultiOutputRegressor._get_tags: ', type(ret)) # noqa E501\n",
    "except Exception as e:\n",
    "    type_sklearn_multioutput_MultiOutputRegressor__get_tags = '_syft_missing'\n",
    "    print('❌ sklearn.multioutput.MultiOutputRegressor._get_tags: Return unavailable') # noqa E501\n",
    "    print(\"  Please fix this return type code until there is no exception\")\n",
    "    print('  Error:', e)\n"
   ]
  },
  {
   "cell_type": "code",
   "execution_count": null,
   "id": "least-surgery",
   "metadata": {},
   "outputs": [],
   "source": [
    "# sklearn.multioutput.MultiOutputRegressor._more_tags\n",
    "try:\n",
    "    obj = class_constructor() # noqa F821\n",
    "    ret = obj._more_tags()\n",
    "    type_sklearn_multioutput_MultiOutputRegressor__more_tags = getattr(ret, '__module__', 'none') + '.' + ret.__class__.__name__\n",
    "    print('✅ sklearn.multioutput.MultiOutputRegressor._more_tags: ', type(ret)) # noqa E501\n",
    "except Exception as e:\n",
    "    type_sklearn_multioutput_MultiOutputRegressor__more_tags = '_syft_missing'\n",
    "    print('❌ sklearn.multioutput.MultiOutputRegressor._more_tags: Return unavailable') # noqa E501\n",
    "    print(\"  Please fix this return type code until there is no exception\")\n",
    "    print('  Error:', e)\n"
   ]
  },
  {
   "cell_type": "code",
   "execution_count": null,
   "id": "academic-hindu",
   "metadata": {},
   "outputs": [],
   "source": [
    "# sklearn.multioutput.MultiOutputRegressor._repr_html_\n",
    "try:\n",
    "    obj = class_constructor()\n",
    "    ret = obj._repr_html_\n",
    "    type_sklearn_multioutput_MultiOutputRegressor__repr_html_ = getattr(ret, '__module__', 'none') + '.' + ret.__class__.__name__\n",
    "    print('✅ sklearn.multioutput.MultiOutputRegressor._repr_html_:', type(ret)) # noqa E501\n",
    "except Exception as e:\n",
    "    type_sklearn_multioutput_MultiOutputRegressor__repr_html_ = '_syft_missing'\n",
    "    print('❌ sklearn.multioutput.MultiOutputRegressor._repr_html_: Return unavailable') # noqa E501\n",
    "    print(\"  Please fix this return type code until there is no exception\")\n",
    "    print('  Error:', e)\n"
   ]
  },
  {
   "cell_type": "code",
   "execution_count": null,
   "id": "vietnamese-holly",
   "metadata": {},
   "outputs": [],
   "source": [
    "# sklearn.multioutput.MultiOutputRegressor._repr_html_inner\n",
    "try:\n",
    "    obj = class_constructor() # noqa F821\n",
    "    ret = obj._repr_html_inner()\n",
    "    type_sklearn_multioutput_MultiOutputRegressor__repr_html_inner = getattr(ret, '__module__', 'none') + '.' + ret.__class__.__name__\n",
    "    print('✅ sklearn.multioutput.MultiOutputRegressor._repr_html_inner: ', type(ret)) # noqa E501\n",
    "except Exception as e:\n",
    "    type_sklearn_multioutput_MultiOutputRegressor__repr_html_inner = '_syft_missing'\n",
    "    print('❌ sklearn.multioutput.MultiOutputRegressor._repr_html_inner: Return unavailable') # noqa E501\n",
    "    print(\"  Please fix this return type code until there is no exception\")\n",
    "    print('  Error:', e)\n"
   ]
  },
  {
   "cell_type": "code",
   "execution_count": null,
   "id": "alternative-robert",
   "metadata": {},
   "outputs": [],
   "source": [
    "# sklearn.multioutput.MultiOutputRegressor._repr_mimebundle_\n",
    "try:\n",
    "    obj = class_constructor() # noqa F821\n",
    "    ret = obj._repr_mimebundle_()\n",
    "    type_sklearn_multioutput_MultiOutputRegressor__repr_mimebundle_ = getattr(ret, '__module__', 'none') + '.' + ret.__class__.__name__\n",
    "    print('✅ sklearn.multioutput.MultiOutputRegressor._repr_mimebundle_: ', type(ret)) # noqa E501\n",
    "except Exception as e:\n",
    "    type_sklearn_multioutput_MultiOutputRegressor__repr_mimebundle_ = '_syft_missing'\n",
    "    print('❌ sklearn.multioutput.MultiOutputRegressor._repr_mimebundle_: Return unavailable') # noqa E501\n",
    "    print(\"  Please fix this return type code until there is no exception\")\n",
    "    print('  Error:', e)\n"
   ]
  },
  {
   "cell_type": "code",
   "execution_count": null,
   "id": "hawaiian-reply",
   "metadata": {},
   "outputs": [],
   "source": [
    "# sklearn.multioutput.MultiOutputRegressor._validate_data\n",
    "try:\n",
    "    obj = class_constructor() # noqa F821\n",
    "    ret = obj._validate_data()\n",
    "    type_sklearn_multioutput_MultiOutputRegressor__validate_data = getattr(ret, '__module__', 'none') + '.' + ret.__class__.__name__\n",
    "    print('✅ sklearn.multioutput.MultiOutputRegressor._validate_data: ', type(ret)) # noqa E501\n",
    "except Exception as e:\n",
    "    type_sklearn_multioutput_MultiOutputRegressor__validate_data = '_syft_missing'\n",
    "    print('❌ sklearn.multioutput.MultiOutputRegressor._validate_data: Return unavailable') # noqa E501\n",
    "    print(\"  Please fix this return type code until there is no exception\")\n",
    "    print('  Error:', e)\n"
   ]
  },
  {
   "cell_type": "code",
   "execution_count": null,
   "id": "supposed-times",
   "metadata": {},
   "outputs": [],
   "source": [
    "# sklearn.multioutput.MultiOutputRegressor.fit\n",
    "try:\n",
    "    obj = class_constructor() # noqa F821\n",
    "    ret = obj.fit()\n",
    "    type_sklearn_multioutput_MultiOutputRegressor_fit = getattr(ret, '__module__', 'none') + '.' + ret.__class__.__name__\n",
    "    print('✅ sklearn.multioutput.MultiOutputRegressor.fit: ', type(ret)) # noqa E501\n",
    "except Exception as e:\n",
    "    type_sklearn_multioutput_MultiOutputRegressor_fit = '_syft_missing'\n",
    "    print('❌ sklearn.multioutput.MultiOutputRegressor.fit: Return unavailable') # noqa E501\n",
    "    print(\"  Please fix this return type code until there is no exception\")\n",
    "    print('  Error:', e)\n"
   ]
  },
  {
   "cell_type": "code",
   "execution_count": null,
   "id": "technical-couple",
   "metadata": {},
   "outputs": [],
   "source": [
    "# sklearn.multioutput.MultiOutputRegressor.get_params\n",
    "try:\n",
    "    obj = class_constructor() # noqa F821\n",
    "    ret = obj.get_params()\n",
    "    type_sklearn_multioutput_MultiOutputRegressor_get_params = getattr(ret, '__module__', 'none') + '.' + ret.__class__.__name__\n",
    "    print('✅ sklearn.multioutput.MultiOutputRegressor.get_params: ', type(ret)) # noqa E501\n",
    "except Exception as e:\n",
    "    type_sklearn_multioutput_MultiOutputRegressor_get_params = '_syft_missing'\n",
    "    print('❌ sklearn.multioutput.MultiOutputRegressor.get_params: Return unavailable') # noqa E501\n",
    "    print(\"  Please fix this return type code until there is no exception\")\n",
    "    print('  Error:', e)\n"
   ]
  },
  {
   "cell_type": "code",
   "execution_count": null,
   "id": "ranking-parks",
   "metadata": {},
   "outputs": [],
   "source": [
    "# sklearn.multioutput.MultiOutputRegressor.partial_fit\n",
    "try:\n",
    "    obj = class_constructor() # noqa F821\n",
    "    ret = obj.partial_fit()\n",
    "    type_sklearn_multioutput_MultiOutputRegressor_partial_fit = getattr(ret, '__module__', 'none') + '.' + ret.__class__.__name__\n",
    "    print('✅ sklearn.multioutput.MultiOutputRegressor.partial_fit: ', type(ret)) # noqa E501\n",
    "except Exception as e:\n",
    "    type_sklearn_multioutput_MultiOutputRegressor_partial_fit = '_syft_missing'\n",
    "    print('❌ sklearn.multioutput.MultiOutputRegressor.partial_fit: Return unavailable') # noqa E501\n",
    "    print(\"  Please fix this return type code until there is no exception\")\n",
    "    print('  Error:', e)\n"
   ]
  },
  {
   "cell_type": "code",
   "execution_count": null,
   "id": "round-airplane",
   "metadata": {},
   "outputs": [],
   "source": [
    "# sklearn.multioutput.MultiOutputRegressor.predict\n",
    "try:\n",
    "    obj = class_constructor() # noqa F821\n",
    "    ret = obj.predict()\n",
    "    type_sklearn_multioutput_MultiOutputRegressor_predict = getattr(ret, '__module__', 'none') + '.' + ret.__class__.__name__\n",
    "    print('✅ sklearn.multioutput.MultiOutputRegressor.predict: ', type(ret)) # noqa E501\n",
    "except Exception as e:\n",
    "    type_sklearn_multioutput_MultiOutputRegressor_predict = '_syft_missing'\n",
    "    print('❌ sklearn.multioutput.MultiOutputRegressor.predict: Return unavailable') # noqa E501\n",
    "    print(\"  Please fix this return type code until there is no exception\")\n",
    "    print('  Error:', e)\n"
   ]
  },
  {
   "cell_type": "code",
   "execution_count": null,
   "id": "ethical-letters",
   "metadata": {},
   "outputs": [],
   "source": [
    "# sklearn.multioutput.MultiOutputRegressor.score\n",
    "try:\n",
    "    obj = class_constructor() # noqa F821\n",
    "    ret = obj.score()\n",
    "    type_sklearn_multioutput_MultiOutputRegressor_score = getattr(ret, '__module__', 'none') + '.' + ret.__class__.__name__\n",
    "    print('✅ sklearn.multioutput.MultiOutputRegressor.score: ', type(ret)) # noqa E501\n",
    "except Exception as e:\n",
    "    type_sklearn_multioutput_MultiOutputRegressor_score = '_syft_missing'\n",
    "    print('❌ sklearn.multioutput.MultiOutputRegressor.score: Return unavailable') # noqa E501\n",
    "    print(\"  Please fix this return type code until there is no exception\")\n",
    "    print('  Error:', e)\n"
   ]
  },
  {
   "cell_type": "code",
   "execution_count": null,
   "id": "improved-mainland",
   "metadata": {},
   "outputs": [],
   "source": [
    "# sklearn.multioutput.MultiOutputRegressor.set_params\n",
    "try:\n",
    "    obj = class_constructor() # noqa F821\n",
    "    ret = obj.set_params()\n",
    "    type_sklearn_multioutput_MultiOutputRegressor_set_params = getattr(ret, '__module__', 'none') + '.' + ret.__class__.__name__\n",
    "    print('✅ sklearn.multioutput.MultiOutputRegressor.set_params: ', type(ret)) # noqa E501\n",
    "except Exception as e:\n",
    "    type_sklearn_multioutput_MultiOutputRegressor_set_params = '_syft_missing'\n",
    "    print('❌ sklearn.multioutput.MultiOutputRegressor.set_params: Return unavailable') # noqa E501\n",
    "    print(\"  Please fix this return type code until there is no exception\")\n",
    "    print('  Error:', e)\n"
   ]
  }
 ],
 "metadata": {},
 "nbformat": 4,
 "nbformat_minor": 5
}
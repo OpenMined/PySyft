{
 "cells": [
  {
   "cell_type": "markdown",
   "id": "offshore-spencer",
   "metadata": {},
   "source": [
    "## sklearn.random_projection.BaseRandomProjection"
   ]
  },
  {
   "cell_type": "code",
   "execution_count": null,
   "id": "chubby-hungary",
   "metadata": {},
   "outputs": [],
   "source": [
    "import sklearn\n",
    "def class_constructor(*args, **kwargs):\n",
    "    obj = sklearn.random_projection.BaseRandomProjection()\n",
    "    return obj\n"
   ]
  },
  {
   "cell_type": "code",
   "execution_count": null,
   "id": "future-inspiration",
   "metadata": {},
   "outputs": [],
   "source": [
    "# sklearn.random_projection.BaseRandomProjection.__getstate__\n",
    "try:\n",
    "    obj = class_constructor() # noqa F821\n",
    "    ret = obj.__getstate__()\n",
    "    type_sklearn_random_projection_BaseRandomProjection___getstate__ = getattr(ret, '__module__', 'none') + '.' + ret.__class__.__name__\n",
    "    print('✅ sklearn.random_projection.BaseRandomProjection.__getstate__: ', type(ret)) # noqa E501\n",
    "except Exception as e:\n",
    "    type_sklearn_random_projection_BaseRandomProjection___getstate__ = '_syft_missing'\n",
    "    print('❌ sklearn.random_projection.BaseRandomProjection.__getstate__: Return unavailable') # noqa E501\n",
    "    print(\"  Please fix this return type code until there is no exception\")\n",
    "    print('  Error:', e)\n"
   ]
  },
  {
   "cell_type": "code",
   "execution_count": null,
   "id": "current-fruit",
   "metadata": {},
   "outputs": [],
   "source": [
    "# sklearn.random_projection.BaseRandomProjection.__repr__\n",
    "try:\n",
    "    obj = class_constructor() # noqa F821\n",
    "    ret = obj.__repr__()\n",
    "    type_sklearn_random_projection_BaseRandomProjection___repr__ = getattr(ret, '__module__', 'none') + '.' + ret.__class__.__name__\n",
    "    print('✅ sklearn.random_projection.BaseRandomProjection.__repr__: ', type(ret)) # noqa E501\n",
    "except Exception as e:\n",
    "    type_sklearn_random_projection_BaseRandomProjection___repr__ = '_syft_missing'\n",
    "    print('❌ sklearn.random_projection.BaseRandomProjection.__repr__: Return unavailable') # noqa E501\n",
    "    print(\"  Please fix this return type code until there is no exception\")\n",
    "    print('  Error:', e)\n"
   ]
  },
  {
   "cell_type": "code",
   "execution_count": null,
   "id": "governmental-tender",
   "metadata": {},
   "outputs": [],
   "source": [
    "# sklearn.random_projection.BaseRandomProjection.__setstate__\n",
    "try:\n",
    "    obj = class_constructor() # noqa F821\n",
    "    ret = obj.__setstate__()\n",
    "    type_sklearn_random_projection_BaseRandomProjection___setstate__ = getattr(ret, '__module__', 'none') + '.' + ret.__class__.__name__\n",
    "    print('✅ sklearn.random_projection.BaseRandomProjection.__setstate__: ', type(ret)) # noqa E501\n",
    "except Exception as e:\n",
    "    type_sklearn_random_projection_BaseRandomProjection___setstate__ = '_syft_missing'\n",
    "    print('❌ sklearn.random_projection.BaseRandomProjection.__setstate__: Return unavailable') # noqa E501\n",
    "    print(\"  Please fix this return type code until there is no exception\")\n",
    "    print('  Error:', e)\n"
   ]
  },
  {
   "cell_type": "code",
   "execution_count": null,
   "id": "similar-mileage",
   "metadata": {},
   "outputs": [],
   "source": [
    "# sklearn.random_projection.BaseRandomProjection._check_n_features\n",
    "try:\n",
    "    obj = class_constructor() # noqa F821\n",
    "    ret = obj._check_n_features()\n",
    "    type_sklearn_random_projection_BaseRandomProjection__check_n_features = getattr(ret, '__module__', 'none') + '.' + ret.__class__.__name__\n",
    "    print('✅ sklearn.random_projection.BaseRandomProjection._check_n_features: ', type(ret)) # noqa E501\n",
    "except Exception as e:\n",
    "    type_sklearn_random_projection_BaseRandomProjection__check_n_features = '_syft_missing'\n",
    "    print('❌ sklearn.random_projection.BaseRandomProjection._check_n_features: Return unavailable') # noqa E501\n",
    "    print(\"  Please fix this return type code until there is no exception\")\n",
    "    print('  Error:', e)\n"
   ]
  },
  {
   "cell_type": "code",
   "execution_count": null,
   "id": "august-wyoming",
   "metadata": {},
   "outputs": [],
   "source": [
    "# sklearn.random_projection.BaseRandomProjection._get_param_names\n",
    "try:\n",
    "    obj = class_constructor() # noqa F821\n",
    "    ret = obj._get_param_names()\n",
    "    type_sklearn_random_projection_BaseRandomProjection__get_param_names = getattr(ret, '__module__', 'none') + '.' + ret.__class__.__name__\n",
    "    print('✅ sklearn.random_projection.BaseRandomProjection._get_param_names: ', type(ret)) # noqa E501\n",
    "except Exception as e:\n",
    "    type_sklearn_random_projection_BaseRandomProjection__get_param_names = '_syft_missing'\n",
    "    print('❌ sklearn.random_projection.BaseRandomProjection._get_param_names: Return unavailable') # noqa E501\n",
    "    print(\"  Please fix this return type code until there is no exception\")\n",
    "    print('  Error:', e)\n"
   ]
  },
  {
   "cell_type": "code",
   "execution_count": null,
   "id": "dynamic-dispute",
   "metadata": {},
   "outputs": [],
   "source": [
    "# sklearn.random_projection.BaseRandomProjection._get_tags\n",
    "try:\n",
    "    obj = class_constructor() # noqa F821\n",
    "    ret = obj._get_tags()\n",
    "    type_sklearn_random_projection_BaseRandomProjection__get_tags = getattr(ret, '__module__', 'none') + '.' + ret.__class__.__name__\n",
    "    print('✅ sklearn.random_projection.BaseRandomProjection._get_tags: ', type(ret)) # noqa E501\n",
    "except Exception as e:\n",
    "    type_sklearn_random_projection_BaseRandomProjection__get_tags = '_syft_missing'\n",
    "    print('❌ sklearn.random_projection.BaseRandomProjection._get_tags: Return unavailable') # noqa E501\n",
    "    print(\"  Please fix this return type code until there is no exception\")\n",
    "    print('  Error:', e)\n"
   ]
  },
  {
   "cell_type": "code",
   "execution_count": null,
   "id": "blind-venue",
   "metadata": {},
   "outputs": [],
   "source": [
    "# sklearn.random_projection.BaseRandomProjection._make_random_matrix\n",
    "try:\n",
    "    obj = class_constructor() # noqa F821\n",
    "    ret = obj._make_random_matrix()\n",
    "    type_sklearn_random_projection_BaseRandomProjection__make_random_matrix = getattr(ret, '__module__', 'none') + '.' + ret.__class__.__name__\n",
    "    print('✅ sklearn.random_projection.BaseRandomProjection._make_random_matrix: ', type(ret)) # noqa E501\n",
    "except Exception as e:\n",
    "    type_sklearn_random_projection_BaseRandomProjection__make_random_matrix = '_syft_missing'\n",
    "    print('❌ sklearn.random_projection.BaseRandomProjection._make_random_matrix: Return unavailable') # noqa E501\n",
    "    print(\"  Please fix this return type code until there is no exception\")\n",
    "    print('  Error:', e)\n"
   ]
  },
  {
   "cell_type": "code",
   "execution_count": null,
   "id": "pressed-vector",
   "metadata": {},
   "outputs": [],
   "source": [
    "# sklearn.random_projection.BaseRandomProjection._more_tags\n",
    "try:\n",
    "    obj = class_constructor() # noqa F821\n",
    "    ret = obj._more_tags()\n",
    "    type_sklearn_random_projection_BaseRandomProjection__more_tags = getattr(ret, '__module__', 'none') + '.' + ret.__class__.__name__\n",
    "    print('✅ sklearn.random_projection.BaseRandomProjection._more_tags: ', type(ret)) # noqa E501\n",
    "except Exception as e:\n",
    "    type_sklearn_random_projection_BaseRandomProjection__more_tags = '_syft_missing'\n",
    "    print('❌ sklearn.random_projection.BaseRandomProjection._more_tags: Return unavailable') # noqa E501\n",
    "    print(\"  Please fix this return type code until there is no exception\")\n",
    "    print('  Error:', e)\n"
   ]
  },
  {
   "cell_type": "code",
   "execution_count": null,
   "id": "social-angola",
   "metadata": {},
   "outputs": [],
   "source": [
    "# sklearn.random_projection.BaseRandomProjection._repr_html_\n",
    "try:\n",
    "    obj = class_constructor()\n",
    "    ret = obj._repr_html_\n",
    "    type_sklearn_random_projection_BaseRandomProjection__repr_html_ = getattr(ret, '__module__', 'none') + '.' + ret.__class__.__name__\n",
    "    print('✅ sklearn.random_projection.BaseRandomProjection._repr_html_:', type(ret)) # noqa E501\n",
    "except Exception as e:\n",
    "    type_sklearn_random_projection_BaseRandomProjection__repr_html_ = '_syft_missing'\n",
    "    print('❌ sklearn.random_projection.BaseRandomProjection._repr_html_: Return unavailable') # noqa E501\n",
    "    print(\"  Please fix this return type code until there is no exception\")\n",
    "    print('  Error:', e)\n"
   ]
  },
  {
   "cell_type": "code",
   "execution_count": null,
   "id": "expensive-stable",
   "metadata": {},
   "outputs": [],
   "source": [
    "# sklearn.random_projection.BaseRandomProjection._repr_html_inner\n",
    "try:\n",
    "    obj = class_constructor() # noqa F821\n",
    "    ret = obj._repr_html_inner()\n",
    "    type_sklearn_random_projection_BaseRandomProjection__repr_html_inner = getattr(ret, '__module__', 'none') + '.' + ret.__class__.__name__\n",
    "    print('✅ sklearn.random_projection.BaseRandomProjection._repr_html_inner: ', type(ret)) # noqa E501\n",
    "except Exception as e:\n",
    "    type_sklearn_random_projection_BaseRandomProjection__repr_html_inner = '_syft_missing'\n",
    "    print('❌ sklearn.random_projection.BaseRandomProjection._repr_html_inner: Return unavailable') # noqa E501\n",
    "    print(\"  Please fix this return type code until there is no exception\")\n",
    "    print('  Error:', e)\n"
   ]
  },
  {
   "cell_type": "code",
   "execution_count": null,
   "id": "defensive-pierce",
   "metadata": {},
   "outputs": [],
   "source": [
    "# sklearn.random_projection.BaseRandomProjection._repr_mimebundle_\n",
    "try:\n",
    "    obj = class_constructor() # noqa F821\n",
    "    ret = obj._repr_mimebundle_()\n",
    "    type_sklearn_random_projection_BaseRandomProjection__repr_mimebundle_ = getattr(ret, '__module__', 'none') + '.' + ret.__class__.__name__\n",
    "    print('✅ sklearn.random_projection.BaseRandomProjection._repr_mimebundle_: ', type(ret)) # noqa E501\n",
    "except Exception as e:\n",
    "    type_sklearn_random_projection_BaseRandomProjection__repr_mimebundle_ = '_syft_missing'\n",
    "    print('❌ sklearn.random_projection.BaseRandomProjection._repr_mimebundle_: Return unavailable') # noqa E501\n",
    "    print(\"  Please fix this return type code until there is no exception\")\n",
    "    print('  Error:', e)\n"
   ]
  },
  {
   "cell_type": "code",
   "execution_count": null,
   "id": "neural-wells",
   "metadata": {},
   "outputs": [],
   "source": [
    "# sklearn.random_projection.BaseRandomProjection._validate_data\n",
    "try:\n",
    "    obj = class_constructor() # noqa F821\n",
    "    ret = obj._validate_data()\n",
    "    type_sklearn_random_projection_BaseRandomProjection__validate_data = getattr(ret, '__module__', 'none') + '.' + ret.__class__.__name__\n",
    "    print('✅ sklearn.random_projection.BaseRandomProjection._validate_data: ', type(ret)) # noqa E501\n",
    "except Exception as e:\n",
    "    type_sklearn_random_projection_BaseRandomProjection__validate_data = '_syft_missing'\n",
    "    print('❌ sklearn.random_projection.BaseRandomProjection._validate_data: Return unavailable') # noqa E501\n",
    "    print(\"  Please fix this return type code until there is no exception\")\n",
    "    print('  Error:', e)\n"
   ]
  },
  {
   "cell_type": "code",
   "execution_count": null,
   "id": "processed-junction",
   "metadata": {},
   "outputs": [],
   "source": [
    "# sklearn.random_projection.BaseRandomProjection.fit\n",
    "try:\n",
    "    obj = class_constructor() # noqa F821\n",
    "    ret = obj.fit()\n",
    "    type_sklearn_random_projection_BaseRandomProjection_fit = getattr(ret, '__module__', 'none') + '.' + ret.__class__.__name__\n",
    "    print('✅ sklearn.random_projection.BaseRandomProjection.fit: ', type(ret)) # noqa E501\n",
    "except Exception as e:\n",
    "    type_sklearn_random_projection_BaseRandomProjection_fit = '_syft_missing'\n",
    "    print('❌ sklearn.random_projection.BaseRandomProjection.fit: Return unavailable') # noqa E501\n",
    "    print(\"  Please fix this return type code until there is no exception\")\n",
    "    print('  Error:', e)\n"
   ]
  },
  {
   "cell_type": "code",
   "execution_count": null,
   "id": "billion-endorsement",
   "metadata": {},
   "outputs": [],
   "source": [
    "# sklearn.random_projection.BaseRandomProjection.fit_transform\n",
    "try:\n",
    "    obj = class_constructor() # noqa F821\n",
    "    ret = obj.fit_transform()\n",
    "    type_sklearn_random_projection_BaseRandomProjection_fit_transform = getattr(ret, '__module__', 'none') + '.' + ret.__class__.__name__\n",
    "    print('✅ sklearn.random_projection.BaseRandomProjection.fit_transform: ', type(ret)) # noqa E501\n",
    "except Exception as e:\n",
    "    type_sklearn_random_projection_BaseRandomProjection_fit_transform = '_syft_missing'\n",
    "    print('❌ sklearn.random_projection.BaseRandomProjection.fit_transform: Return unavailable') # noqa E501\n",
    "    print(\"  Please fix this return type code until there is no exception\")\n",
    "    print('  Error:', e)\n"
   ]
  },
  {
   "cell_type": "code",
   "execution_count": null,
   "id": "intellectual-review",
   "metadata": {},
   "outputs": [],
   "source": [
    "# sklearn.random_projection.BaseRandomProjection.get_params\n",
    "try:\n",
    "    obj = class_constructor() # noqa F821\n",
    "    ret = obj.get_params()\n",
    "    type_sklearn_random_projection_BaseRandomProjection_get_params = getattr(ret, '__module__', 'none') + '.' + ret.__class__.__name__\n",
    "    print('✅ sklearn.random_projection.BaseRandomProjection.get_params: ', type(ret)) # noqa E501\n",
    "except Exception as e:\n",
    "    type_sklearn_random_projection_BaseRandomProjection_get_params = '_syft_missing'\n",
    "    print('❌ sklearn.random_projection.BaseRandomProjection.get_params: Return unavailable') # noqa E501\n",
    "    print(\"  Please fix this return type code until there is no exception\")\n",
    "    print('  Error:', e)\n"
   ]
  },
  {
   "cell_type": "code",
   "execution_count": null,
   "id": "handy-jewelry",
   "metadata": {},
   "outputs": [],
   "source": [
    "# sklearn.random_projection.BaseRandomProjection.set_params\n",
    "try:\n",
    "    obj = class_constructor() # noqa F821\n",
    "    ret = obj.set_params()\n",
    "    type_sklearn_random_projection_BaseRandomProjection_set_params = getattr(ret, '__module__', 'none') + '.' + ret.__class__.__name__\n",
    "    print('✅ sklearn.random_projection.BaseRandomProjection.set_params: ', type(ret)) # noqa E501\n",
    "except Exception as e:\n",
    "    type_sklearn_random_projection_BaseRandomProjection_set_params = '_syft_missing'\n",
    "    print('❌ sklearn.random_projection.BaseRandomProjection.set_params: Return unavailable') # noqa E501\n",
    "    print(\"  Please fix this return type code until there is no exception\")\n",
    "    print('  Error:', e)\n"
   ]
  },
  {
   "cell_type": "code",
   "execution_count": null,
   "id": "retired-halloween",
   "metadata": {},
   "outputs": [],
   "source": [
    "# sklearn.random_projection.BaseRandomProjection.transform\n",
    "try:\n",
    "    obj = class_constructor() # noqa F821\n",
    "    ret = obj.transform()\n",
    "    type_sklearn_random_projection_BaseRandomProjection_transform = getattr(ret, '__module__', 'none') + '.' + ret.__class__.__name__\n",
    "    print('✅ sklearn.random_projection.BaseRandomProjection.transform: ', type(ret)) # noqa E501\n",
    "except Exception as e:\n",
    "    type_sklearn_random_projection_BaseRandomProjection_transform = '_syft_missing'\n",
    "    print('❌ sklearn.random_projection.BaseRandomProjection.transform: Return unavailable') # noqa E501\n",
    "    print(\"  Please fix this return type code until there is no exception\")\n",
    "    print('  Error:', e)\n"
   ]
  }
 ],
 "metadata": {},
 "nbformat": 4,
 "nbformat_minor": 5
}
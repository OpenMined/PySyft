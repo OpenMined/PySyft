{
 "cells": [
  {
   "cell_type": "markdown",
   "id": "virgin-volleyball",
   "metadata": {},
   "source": [
    "## sklearn.cross_decomposition._pls.PLSCanonical"
   ]
  },
  {
   "cell_type": "code",
   "execution_count": null,
   "id": "portable-cutting",
   "metadata": {},
   "outputs": [],
   "source": [
    "import sklearn\n",
    "def class_constructor(*args, **kwargs):\n",
    "    obj = sklearn.cross_decomposition._pls.PLSCanonical()\n",
    "    return obj\n"
   ]
  },
  {
   "cell_type": "code",
   "execution_count": null,
   "id": "otherwise-coordinator",
   "metadata": {},
   "outputs": [],
   "source": [
    "# sklearn.cross_decomposition._pls.PLSCanonical.__getstate__\n",
    "try:\n",
    "    obj = class_constructor() # noqa F821\n",
    "    ret = obj.__getstate__()\n",
    "    type_sklearn_cross_decomposition__pls_PLSCanonical___getstate__ = getattr(ret, '__module__', 'none') + '.' + ret.__class__.__name__\n",
    "    print('✅ sklearn.cross_decomposition._pls.PLSCanonical.__getstate__: ', type(ret)) # noqa E501\n",
    "except Exception as e:\n",
    "    type_sklearn_cross_decomposition__pls_PLSCanonical___getstate__ = '_syft_missing'\n",
    "    print('❌ sklearn.cross_decomposition._pls.PLSCanonical.__getstate__: Return unavailable') # noqa E501\n",
    "    print(\"  Please fix this return type code until there is no exception\")\n",
    "    print('  Error:', e)\n"
   ]
  },
  {
   "cell_type": "code",
   "execution_count": null,
   "id": "informational-round",
   "metadata": {},
   "outputs": [],
   "source": [
    "# sklearn.cross_decomposition._pls.PLSCanonical.__repr__\n",
    "try:\n",
    "    obj = class_constructor() # noqa F821\n",
    "    ret = obj.__repr__()\n",
    "    type_sklearn_cross_decomposition__pls_PLSCanonical___repr__ = getattr(ret, '__module__', 'none') + '.' + ret.__class__.__name__\n",
    "    print('✅ sklearn.cross_decomposition._pls.PLSCanonical.__repr__: ', type(ret)) # noqa E501\n",
    "except Exception as e:\n",
    "    type_sklearn_cross_decomposition__pls_PLSCanonical___repr__ = '_syft_missing'\n",
    "    print('❌ sklearn.cross_decomposition._pls.PLSCanonical.__repr__: Return unavailable') # noqa E501\n",
    "    print(\"  Please fix this return type code until there is no exception\")\n",
    "    print('  Error:', e)\n"
   ]
  },
  {
   "cell_type": "code",
   "execution_count": null,
   "id": "loose-advisory",
   "metadata": {},
   "outputs": [],
   "source": [
    "# sklearn.cross_decomposition._pls.PLSCanonical.__setstate__\n",
    "try:\n",
    "    obj = class_constructor() # noqa F821\n",
    "    ret = obj.__setstate__()\n",
    "    type_sklearn_cross_decomposition__pls_PLSCanonical___setstate__ = getattr(ret, '__module__', 'none') + '.' + ret.__class__.__name__\n",
    "    print('✅ sklearn.cross_decomposition._pls.PLSCanonical.__setstate__: ', type(ret)) # noqa E501\n",
    "except Exception as e:\n",
    "    type_sklearn_cross_decomposition__pls_PLSCanonical___setstate__ = '_syft_missing'\n",
    "    print('❌ sklearn.cross_decomposition._pls.PLSCanonical.__setstate__: Return unavailable') # noqa E501\n",
    "    print(\"  Please fix this return type code until there is no exception\")\n",
    "    print('  Error:', e)\n"
   ]
  },
  {
   "cell_type": "code",
   "execution_count": null,
   "id": "million-manchester",
   "metadata": {},
   "outputs": [],
   "source": [
    "# sklearn.cross_decomposition._pls.PLSCanonical._check_n_features\n",
    "try:\n",
    "    obj = class_constructor() # noqa F821\n",
    "    ret = obj._check_n_features()\n",
    "    type_sklearn_cross_decomposition__pls_PLSCanonical__check_n_features = getattr(ret, '__module__', 'none') + '.' + ret.__class__.__name__\n",
    "    print('✅ sklearn.cross_decomposition._pls.PLSCanonical._check_n_features: ', type(ret)) # noqa E501\n",
    "except Exception as e:\n",
    "    type_sklearn_cross_decomposition__pls_PLSCanonical__check_n_features = '_syft_missing'\n",
    "    print('❌ sklearn.cross_decomposition._pls.PLSCanonical._check_n_features: Return unavailable') # noqa E501\n",
    "    print(\"  Please fix this return type code until there is no exception\")\n",
    "    print('  Error:', e)\n"
   ]
  },
  {
   "cell_type": "code",
   "execution_count": null,
   "id": "instant-chicago",
   "metadata": {},
   "outputs": [],
   "source": [
    "# sklearn.cross_decomposition._pls.PLSCanonical._get_param_names\n",
    "try:\n",
    "    obj = class_constructor() # noqa F821\n",
    "    ret = obj._get_param_names()\n",
    "    type_sklearn_cross_decomposition__pls_PLSCanonical__get_param_names = getattr(ret, '__module__', 'none') + '.' + ret.__class__.__name__\n",
    "    print('✅ sklearn.cross_decomposition._pls.PLSCanonical._get_param_names: ', type(ret)) # noqa E501\n",
    "except Exception as e:\n",
    "    type_sklearn_cross_decomposition__pls_PLSCanonical__get_param_names = '_syft_missing'\n",
    "    print('❌ sklearn.cross_decomposition._pls.PLSCanonical._get_param_names: Return unavailable') # noqa E501\n",
    "    print(\"  Please fix this return type code until there is no exception\")\n",
    "    print('  Error:', e)\n"
   ]
  },
  {
   "cell_type": "code",
   "execution_count": null,
   "id": "expressed-regression",
   "metadata": {},
   "outputs": [],
   "source": [
    "# sklearn.cross_decomposition._pls.PLSCanonical._get_tags\n",
    "try:\n",
    "    obj = class_constructor() # noqa F821\n",
    "    ret = obj._get_tags()\n",
    "    type_sklearn_cross_decomposition__pls_PLSCanonical__get_tags = getattr(ret, '__module__', 'none') + '.' + ret.__class__.__name__\n",
    "    print('✅ sklearn.cross_decomposition._pls.PLSCanonical._get_tags: ', type(ret)) # noqa E501\n",
    "except Exception as e:\n",
    "    type_sklearn_cross_decomposition__pls_PLSCanonical__get_tags = '_syft_missing'\n",
    "    print('❌ sklearn.cross_decomposition._pls.PLSCanonical._get_tags: Return unavailable') # noqa E501\n",
    "    print(\"  Please fix this return type code until there is no exception\")\n",
    "    print('  Error:', e)\n"
   ]
  },
  {
   "cell_type": "code",
   "execution_count": null,
   "id": "ruled-mainland",
   "metadata": {},
   "outputs": [],
   "source": [
    "# sklearn.cross_decomposition._pls.PLSCanonical._more_tags\n",
    "try:\n",
    "    obj = class_constructor() # noqa F821\n",
    "    ret = obj._more_tags()\n",
    "    type_sklearn_cross_decomposition__pls_PLSCanonical__more_tags = getattr(ret, '__module__', 'none') + '.' + ret.__class__.__name__\n",
    "    print('✅ sklearn.cross_decomposition._pls.PLSCanonical._more_tags: ', type(ret)) # noqa E501\n",
    "except Exception as e:\n",
    "    type_sklearn_cross_decomposition__pls_PLSCanonical__more_tags = '_syft_missing'\n",
    "    print('❌ sklearn.cross_decomposition._pls.PLSCanonical._more_tags: Return unavailable') # noqa E501\n",
    "    print(\"  Please fix this return type code until there is no exception\")\n",
    "    print('  Error:', e)\n"
   ]
  },
  {
   "cell_type": "code",
   "execution_count": null,
   "id": "sticky-pioneer",
   "metadata": {},
   "outputs": [],
   "source": [
    "# sklearn.cross_decomposition._pls.PLSCanonical._repr_html_\n",
    "try:\n",
    "    obj = class_constructor()\n",
    "    ret = obj._repr_html_\n",
    "    type_sklearn_cross_decomposition__pls_PLSCanonical__repr_html_ = getattr(ret, '__module__', 'none') + '.' + ret.__class__.__name__\n",
    "    print('✅ sklearn.cross_decomposition._pls.PLSCanonical._repr_html_:', type(ret)) # noqa E501\n",
    "except Exception as e:\n",
    "    type_sklearn_cross_decomposition__pls_PLSCanonical__repr_html_ = '_syft_missing'\n",
    "    print('❌ sklearn.cross_decomposition._pls.PLSCanonical._repr_html_: Return unavailable') # noqa E501\n",
    "    print(\"  Please fix this return type code until there is no exception\")\n",
    "    print('  Error:', e)\n"
   ]
  },
  {
   "cell_type": "code",
   "execution_count": null,
   "id": "heated-kingston",
   "metadata": {},
   "outputs": [],
   "source": [
    "# sklearn.cross_decomposition._pls.PLSCanonical._repr_html_inner\n",
    "try:\n",
    "    obj = class_constructor() # noqa F821\n",
    "    ret = obj._repr_html_inner()\n",
    "    type_sklearn_cross_decomposition__pls_PLSCanonical__repr_html_inner = getattr(ret, '__module__', 'none') + '.' + ret.__class__.__name__\n",
    "    print('✅ sklearn.cross_decomposition._pls.PLSCanonical._repr_html_inner: ', type(ret)) # noqa E501\n",
    "except Exception as e:\n",
    "    type_sklearn_cross_decomposition__pls_PLSCanonical__repr_html_inner = '_syft_missing'\n",
    "    print('❌ sklearn.cross_decomposition._pls.PLSCanonical._repr_html_inner: Return unavailable') # noqa E501\n",
    "    print(\"  Please fix this return type code until there is no exception\")\n",
    "    print('  Error:', e)\n"
   ]
  },
  {
   "cell_type": "code",
   "execution_count": null,
   "id": "refined-latino",
   "metadata": {},
   "outputs": [],
   "source": [
    "# sklearn.cross_decomposition._pls.PLSCanonical._repr_mimebundle_\n",
    "try:\n",
    "    obj = class_constructor() # noqa F821\n",
    "    ret = obj._repr_mimebundle_()\n",
    "    type_sklearn_cross_decomposition__pls_PLSCanonical__repr_mimebundle_ = getattr(ret, '__module__', 'none') + '.' + ret.__class__.__name__\n",
    "    print('✅ sklearn.cross_decomposition._pls.PLSCanonical._repr_mimebundle_: ', type(ret)) # noqa E501\n",
    "except Exception as e:\n",
    "    type_sklearn_cross_decomposition__pls_PLSCanonical__repr_mimebundle_ = '_syft_missing'\n",
    "    print('❌ sklearn.cross_decomposition._pls.PLSCanonical._repr_mimebundle_: Return unavailable') # noqa E501\n",
    "    print(\"  Please fix this return type code until there is no exception\")\n",
    "    print('  Error:', e)\n"
   ]
  },
  {
   "cell_type": "code",
   "execution_count": null,
   "id": "medieval-night",
   "metadata": {},
   "outputs": [],
   "source": [
    "# sklearn.cross_decomposition._pls.PLSCanonical._validate_data\n",
    "try:\n",
    "    obj = class_constructor() # noqa F821\n",
    "    ret = obj._validate_data()\n",
    "    type_sklearn_cross_decomposition__pls_PLSCanonical__validate_data = getattr(ret, '__module__', 'none') + '.' + ret.__class__.__name__\n",
    "    print('✅ sklearn.cross_decomposition._pls.PLSCanonical._validate_data: ', type(ret)) # noqa E501\n",
    "except Exception as e:\n",
    "    type_sklearn_cross_decomposition__pls_PLSCanonical__validate_data = '_syft_missing'\n",
    "    print('❌ sklearn.cross_decomposition._pls.PLSCanonical._validate_data: Return unavailable') # noqa E501\n",
    "    print(\"  Please fix this return type code until there is no exception\")\n",
    "    print('  Error:', e)\n"
   ]
  },
  {
   "cell_type": "code",
   "execution_count": null,
   "id": "criminal-cooper",
   "metadata": {},
   "outputs": [],
   "source": [
    "# sklearn.cross_decomposition._pls.PLSCanonical.fit\n",
    "try:\n",
    "    obj = class_constructor() # noqa F821\n",
    "    ret = obj.fit()\n",
    "    type_sklearn_cross_decomposition__pls_PLSCanonical_fit = getattr(ret, '__module__', 'none') + '.' + ret.__class__.__name__\n",
    "    print('✅ sklearn.cross_decomposition._pls.PLSCanonical.fit: ', type(ret)) # noqa E501\n",
    "except Exception as e:\n",
    "    type_sklearn_cross_decomposition__pls_PLSCanonical_fit = '_syft_missing'\n",
    "    print('❌ sklearn.cross_decomposition._pls.PLSCanonical.fit: Return unavailable') # noqa E501\n",
    "    print(\"  Please fix this return type code until there is no exception\")\n",
    "    print('  Error:', e)\n"
   ]
  },
  {
   "cell_type": "code",
   "execution_count": null,
   "id": "color-organizer",
   "metadata": {},
   "outputs": [],
   "source": [
    "# sklearn.cross_decomposition._pls.PLSCanonical.fit_transform\n",
    "try:\n",
    "    obj = class_constructor() # noqa F821\n",
    "    ret = obj.fit_transform()\n",
    "    type_sklearn_cross_decomposition__pls_PLSCanonical_fit_transform = getattr(ret, '__module__', 'none') + '.' + ret.__class__.__name__\n",
    "    print('✅ sklearn.cross_decomposition._pls.PLSCanonical.fit_transform: ', type(ret)) # noqa E501\n",
    "except Exception as e:\n",
    "    type_sklearn_cross_decomposition__pls_PLSCanonical_fit_transform = '_syft_missing'\n",
    "    print('❌ sklearn.cross_decomposition._pls.PLSCanonical.fit_transform: Return unavailable') # noqa E501\n",
    "    print(\"  Please fix this return type code until there is no exception\")\n",
    "    print('  Error:', e)\n"
   ]
  },
  {
   "cell_type": "code",
   "execution_count": null,
   "id": "approximate-sauce",
   "metadata": {},
   "outputs": [],
   "source": [
    "# sklearn.cross_decomposition._pls.PLSCanonical.get_params\n",
    "try:\n",
    "    obj = class_constructor() # noqa F821\n",
    "    ret = obj.get_params()\n",
    "    type_sklearn_cross_decomposition__pls_PLSCanonical_get_params = getattr(ret, '__module__', 'none') + '.' + ret.__class__.__name__\n",
    "    print('✅ sklearn.cross_decomposition._pls.PLSCanonical.get_params: ', type(ret)) # noqa E501\n",
    "except Exception as e:\n",
    "    type_sklearn_cross_decomposition__pls_PLSCanonical_get_params = '_syft_missing'\n",
    "    print('❌ sklearn.cross_decomposition._pls.PLSCanonical.get_params: Return unavailable') # noqa E501\n",
    "    print(\"  Please fix this return type code until there is no exception\")\n",
    "    print('  Error:', e)\n"
   ]
  },
  {
   "cell_type": "code",
   "execution_count": null,
   "id": "former-toyota",
   "metadata": {},
   "outputs": [],
   "source": [
    "# sklearn.cross_decomposition._pls.PLSCanonical.inverse_transform\n",
    "try:\n",
    "    obj = class_constructor() # noqa F821\n",
    "    ret = obj.inverse_transform()\n",
    "    type_sklearn_cross_decomposition__pls_PLSCanonical_inverse_transform = getattr(ret, '__module__', 'none') + '.' + ret.__class__.__name__\n",
    "    print('✅ sklearn.cross_decomposition._pls.PLSCanonical.inverse_transform: ', type(ret)) # noqa E501\n",
    "except Exception as e:\n",
    "    type_sklearn_cross_decomposition__pls_PLSCanonical_inverse_transform = '_syft_missing'\n",
    "    print('❌ sklearn.cross_decomposition._pls.PLSCanonical.inverse_transform: Return unavailable') # noqa E501\n",
    "    print(\"  Please fix this return type code until there is no exception\")\n",
    "    print('  Error:', e)\n"
   ]
  },
  {
   "cell_type": "code",
   "execution_count": null,
   "id": "greenhouse-consultancy",
   "metadata": {},
   "outputs": [],
   "source": [
    "# sklearn.cross_decomposition._pls.PLSCanonical.norm_y_weights\n",
    "try:\n",
    "    obj = class_constructor()\n",
    "    ret = obj.norm_y_weights\n",
    "    type_sklearn_cross_decomposition__pls_PLSCanonical_norm_y_weights = getattr(ret, '__module__', 'none') + '.' + ret.__class__.__name__\n",
    "    print('✅ sklearn.cross_decomposition._pls.PLSCanonical.norm_y_weights:', type(ret)) # noqa E501\n",
    "except Exception as e:\n",
    "    type_sklearn_cross_decomposition__pls_PLSCanonical_norm_y_weights = '_syft_missing'\n",
    "    print('❌ sklearn.cross_decomposition._pls.PLSCanonical.norm_y_weights: Return unavailable') # noqa E501\n",
    "    print(\"  Please fix this return type code until there is no exception\")\n",
    "    print('  Error:', e)\n"
   ]
  },
  {
   "cell_type": "code",
   "execution_count": null,
   "id": "similar-auckland",
   "metadata": {},
   "outputs": [],
   "source": [
    "# sklearn.cross_decomposition._pls.PLSCanonical.predict\n",
    "try:\n",
    "    obj = class_constructor() # noqa F821\n",
    "    ret = obj.predict()\n",
    "    type_sklearn_cross_decomposition__pls_PLSCanonical_predict = getattr(ret, '__module__', 'none') + '.' + ret.__class__.__name__\n",
    "    print('✅ sklearn.cross_decomposition._pls.PLSCanonical.predict: ', type(ret)) # noqa E501\n",
    "except Exception as e:\n",
    "    type_sklearn_cross_decomposition__pls_PLSCanonical_predict = '_syft_missing'\n",
    "    print('❌ sklearn.cross_decomposition._pls.PLSCanonical.predict: Return unavailable') # noqa E501\n",
    "    print(\"  Please fix this return type code until there is no exception\")\n",
    "    print('  Error:', e)\n"
   ]
  },
  {
   "cell_type": "code",
   "execution_count": null,
   "id": "sonic-marina",
   "metadata": {},
   "outputs": [],
   "source": [
    "# sklearn.cross_decomposition._pls.PLSCanonical.score\n",
    "try:\n",
    "    obj = class_constructor() # noqa F821\n",
    "    ret = obj.score()\n",
    "    type_sklearn_cross_decomposition__pls_PLSCanonical_score = getattr(ret, '__module__', 'none') + '.' + ret.__class__.__name__\n",
    "    print('✅ sklearn.cross_decomposition._pls.PLSCanonical.score: ', type(ret)) # noqa E501\n",
    "except Exception as e:\n",
    "    type_sklearn_cross_decomposition__pls_PLSCanonical_score = '_syft_missing'\n",
    "    print('❌ sklearn.cross_decomposition._pls.PLSCanonical.score: Return unavailable') # noqa E501\n",
    "    print(\"  Please fix this return type code until there is no exception\")\n",
    "    print('  Error:', e)\n"
   ]
  },
  {
   "cell_type": "code",
   "execution_count": null,
   "id": "approved-token",
   "metadata": {},
   "outputs": [],
   "source": [
    "# sklearn.cross_decomposition._pls.PLSCanonical.set_params\n",
    "try:\n",
    "    obj = class_constructor() # noqa F821\n",
    "    ret = obj.set_params()\n",
    "    type_sklearn_cross_decomposition__pls_PLSCanonical_set_params = getattr(ret, '__module__', 'none') + '.' + ret.__class__.__name__\n",
    "    print('✅ sklearn.cross_decomposition._pls.PLSCanonical.set_params: ', type(ret)) # noqa E501\n",
    "except Exception as e:\n",
    "    type_sklearn_cross_decomposition__pls_PLSCanonical_set_params = '_syft_missing'\n",
    "    print('❌ sklearn.cross_decomposition._pls.PLSCanonical.set_params: Return unavailable') # noqa E501\n",
    "    print(\"  Please fix this return type code until there is no exception\")\n",
    "    print('  Error:', e)\n"
   ]
  },
  {
   "cell_type": "code",
   "execution_count": null,
   "id": "crucial-scottish",
   "metadata": {},
   "outputs": [],
   "source": [
    "# sklearn.cross_decomposition._pls.PLSCanonical.transform\n",
    "try:\n",
    "    obj = class_constructor() # noqa F821\n",
    "    ret = obj.transform()\n",
    "    type_sklearn_cross_decomposition__pls_PLSCanonical_transform = getattr(ret, '__module__', 'none') + '.' + ret.__class__.__name__\n",
    "    print('✅ sklearn.cross_decomposition._pls.PLSCanonical.transform: ', type(ret)) # noqa E501\n",
    "except Exception as e:\n",
    "    type_sklearn_cross_decomposition__pls_PLSCanonical_transform = '_syft_missing'\n",
    "    print('❌ sklearn.cross_decomposition._pls.PLSCanonical.transform: Return unavailable') # noqa E501\n",
    "    print(\"  Please fix this return type code until there is no exception\")\n",
    "    print('  Error:', e)\n"
   ]
  },
  {
   "cell_type": "code",
   "execution_count": null,
   "id": "muslim-baking",
   "metadata": {},
   "outputs": [],
   "source": [
    "# sklearn.cross_decomposition._pls.PLSCanonical.x_mean_\n",
    "try:\n",
    "    obj = class_constructor()\n",
    "    ret = obj.x_mean_\n",
    "    type_sklearn_cross_decomposition__pls_PLSCanonical_x_mean_ = getattr(ret, '__module__', 'none') + '.' + ret.__class__.__name__\n",
    "    print('✅ sklearn.cross_decomposition._pls.PLSCanonical.x_mean_:', type(ret)) # noqa E501\n",
    "except Exception as e:\n",
    "    type_sklearn_cross_decomposition__pls_PLSCanonical_x_mean_ = '_syft_missing'\n",
    "    print('❌ sklearn.cross_decomposition._pls.PLSCanonical.x_mean_: Return unavailable') # noqa E501\n",
    "    print(\"  Please fix this return type code until there is no exception\")\n",
    "    print('  Error:', e)\n"
   ]
  },
  {
   "cell_type": "code",
   "execution_count": null,
   "id": "meaning-chemistry",
   "metadata": {},
   "outputs": [],
   "source": [
    "# sklearn.cross_decomposition._pls.PLSCanonical.x_scores_\n",
    "try:\n",
    "    obj = class_constructor()\n",
    "    ret = obj.x_scores_\n",
    "    type_sklearn_cross_decomposition__pls_PLSCanonical_x_scores_ = getattr(ret, '__module__', 'none') + '.' + ret.__class__.__name__\n",
    "    print('✅ sklearn.cross_decomposition._pls.PLSCanonical.x_scores_:', type(ret)) # noqa E501\n",
    "except Exception as e:\n",
    "    type_sklearn_cross_decomposition__pls_PLSCanonical_x_scores_ = '_syft_missing'\n",
    "    print('❌ sklearn.cross_decomposition._pls.PLSCanonical.x_scores_: Return unavailable') # noqa E501\n",
    "    print(\"  Please fix this return type code until there is no exception\")\n",
    "    print('  Error:', e)\n"
   ]
  },
  {
   "cell_type": "code",
   "execution_count": null,
   "id": "intimate-theater",
   "metadata": {},
   "outputs": [],
   "source": [
    "# sklearn.cross_decomposition._pls.PLSCanonical.x_std_\n",
    "try:\n",
    "    obj = class_constructor()\n",
    "    ret = obj.x_std_\n",
    "    type_sklearn_cross_decomposition__pls_PLSCanonical_x_std_ = getattr(ret, '__module__', 'none') + '.' + ret.__class__.__name__\n",
    "    print('✅ sklearn.cross_decomposition._pls.PLSCanonical.x_std_:', type(ret)) # noqa E501\n",
    "except Exception as e:\n",
    "    type_sklearn_cross_decomposition__pls_PLSCanonical_x_std_ = '_syft_missing'\n",
    "    print('❌ sklearn.cross_decomposition._pls.PLSCanonical.x_std_: Return unavailable') # noqa E501\n",
    "    print(\"  Please fix this return type code until there is no exception\")\n",
    "    print('  Error:', e)\n"
   ]
  },
  {
   "cell_type": "code",
   "execution_count": null,
   "id": "strong-malpractice",
   "metadata": {},
   "outputs": [],
   "source": [
    "# sklearn.cross_decomposition._pls.PLSCanonical.y_mean_\n",
    "try:\n",
    "    obj = class_constructor()\n",
    "    ret = obj.y_mean_\n",
    "    type_sklearn_cross_decomposition__pls_PLSCanonical_y_mean_ = getattr(ret, '__module__', 'none') + '.' + ret.__class__.__name__\n",
    "    print('✅ sklearn.cross_decomposition._pls.PLSCanonical.y_mean_:', type(ret)) # noqa E501\n",
    "except Exception as e:\n",
    "    type_sklearn_cross_decomposition__pls_PLSCanonical_y_mean_ = '_syft_missing'\n",
    "    print('❌ sklearn.cross_decomposition._pls.PLSCanonical.y_mean_: Return unavailable') # noqa E501\n",
    "    print(\"  Please fix this return type code until there is no exception\")\n",
    "    print('  Error:', e)\n"
   ]
  },
  {
   "cell_type": "code",
   "execution_count": null,
   "id": "expected-clone",
   "metadata": {},
   "outputs": [],
   "source": [
    "# sklearn.cross_decomposition._pls.PLSCanonical.y_scores_\n",
    "try:\n",
    "    obj = class_constructor()\n",
    "    ret = obj.y_scores_\n",
    "    type_sklearn_cross_decomposition__pls_PLSCanonical_y_scores_ = getattr(ret, '__module__', 'none') + '.' + ret.__class__.__name__\n",
    "    print('✅ sklearn.cross_decomposition._pls.PLSCanonical.y_scores_:', type(ret)) # noqa E501\n",
    "except Exception as e:\n",
    "    type_sklearn_cross_decomposition__pls_PLSCanonical_y_scores_ = '_syft_missing'\n",
    "    print('❌ sklearn.cross_decomposition._pls.PLSCanonical.y_scores_: Return unavailable') # noqa E501\n",
    "    print(\"  Please fix this return type code until there is no exception\")\n",
    "    print('  Error:', e)\n"
   ]
  },
  {
   "cell_type": "code",
   "execution_count": null,
   "id": "exempt-origin",
   "metadata": {},
   "outputs": [],
   "source": [
    "# sklearn.cross_decomposition._pls.PLSCanonical.y_std_\n",
    "try:\n",
    "    obj = class_constructor()\n",
    "    ret = obj.y_std_\n",
    "    type_sklearn_cross_decomposition__pls_PLSCanonical_y_std_ = getattr(ret, '__module__', 'none') + '.' + ret.__class__.__name__\n",
    "    print('✅ sklearn.cross_decomposition._pls.PLSCanonical.y_std_:', type(ret)) # noqa E501\n",
    "except Exception as e:\n",
    "    type_sklearn_cross_decomposition__pls_PLSCanonical_y_std_ = '_syft_missing'\n",
    "    print('❌ sklearn.cross_decomposition._pls.PLSCanonical.y_std_: Return unavailable') # noqa E501\n",
    "    print(\"  Please fix this return type code until there is no exception\")\n",
    "    print('  Error:', e)\n"
   ]
  }
 ],
 "metadata": {},
 "nbformat": 4,
 "nbformat_minor": 5
}
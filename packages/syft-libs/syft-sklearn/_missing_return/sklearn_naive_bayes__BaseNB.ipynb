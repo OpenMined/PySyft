{
 "cells": [
  {
   "cell_type": "markdown",
   "id": "three-regular",
   "metadata": {},
   "source": [
    "## sklearn.naive_bayes._BaseNB"
   ]
  },
  {
   "cell_type": "code",
   "execution_count": null,
   "id": "blank-silly",
   "metadata": {},
   "outputs": [],
   "source": [
    "import sklearn\n",
    "def class_constructor(*args, **kwargs):\n",
    "    obj = sklearn.naive_bayes._BaseNB()\n",
    "    return obj\n"
   ]
  },
  {
   "cell_type": "code",
   "execution_count": null,
   "id": "incorporate-stretch",
   "metadata": {},
   "outputs": [],
   "source": [
    "# sklearn.naive_bayes._BaseNB.__getstate__\n",
    "try:\n",
    "    obj = class_constructor() # noqa F821\n",
    "    ret = obj.__getstate__()\n",
    "    type_sklearn_naive_bayes__BaseNB___getstate__ = getattr(ret, '__module__', 'none') + '.' + ret.__class__.__name__\n",
    "    print('✅ sklearn.naive_bayes._BaseNB.__getstate__: ', type(ret)) # noqa E501\n",
    "except Exception as e:\n",
    "    type_sklearn_naive_bayes__BaseNB___getstate__ = '_syft_missing'\n",
    "    print('❌ sklearn.naive_bayes._BaseNB.__getstate__: Return unavailable') # noqa E501\n",
    "    print(\"  Please fix this return type code until there is no exception\")\n",
    "    print('  Error:', e)\n"
   ]
  },
  {
   "cell_type": "code",
   "execution_count": null,
   "id": "printable-pendant",
   "metadata": {},
   "outputs": [],
   "source": [
    "# sklearn.naive_bayes._BaseNB.__repr__\n",
    "try:\n",
    "    obj = class_constructor() # noqa F821\n",
    "    ret = obj.__repr__()\n",
    "    type_sklearn_naive_bayes__BaseNB___repr__ = getattr(ret, '__module__', 'none') + '.' + ret.__class__.__name__\n",
    "    print('✅ sklearn.naive_bayes._BaseNB.__repr__: ', type(ret)) # noqa E501\n",
    "except Exception as e:\n",
    "    type_sklearn_naive_bayes__BaseNB___repr__ = '_syft_missing'\n",
    "    print('❌ sklearn.naive_bayes._BaseNB.__repr__: Return unavailable') # noqa E501\n",
    "    print(\"  Please fix this return type code until there is no exception\")\n",
    "    print('  Error:', e)\n"
   ]
  },
  {
   "cell_type": "code",
   "execution_count": null,
   "id": "thousand-sport",
   "metadata": {},
   "outputs": [],
   "source": [
    "# sklearn.naive_bayes._BaseNB.__setstate__\n",
    "try:\n",
    "    obj = class_constructor() # noqa F821\n",
    "    ret = obj.__setstate__()\n",
    "    type_sklearn_naive_bayes__BaseNB___setstate__ = getattr(ret, '__module__', 'none') + '.' + ret.__class__.__name__\n",
    "    print('✅ sklearn.naive_bayes._BaseNB.__setstate__: ', type(ret)) # noqa E501\n",
    "except Exception as e:\n",
    "    type_sklearn_naive_bayes__BaseNB___setstate__ = '_syft_missing'\n",
    "    print('❌ sklearn.naive_bayes._BaseNB.__setstate__: Return unavailable') # noqa E501\n",
    "    print(\"  Please fix this return type code until there is no exception\")\n",
    "    print('  Error:', e)\n"
   ]
  },
  {
   "cell_type": "code",
   "execution_count": null,
   "id": "substantial-portland",
   "metadata": {},
   "outputs": [],
   "source": [
    "# sklearn.naive_bayes._BaseNB._check_X\n",
    "try:\n",
    "    obj = class_constructor() # noqa F821\n",
    "    ret = obj._check_X()\n",
    "    type_sklearn_naive_bayes__BaseNB__check_X = getattr(ret, '__module__', 'none') + '.' + ret.__class__.__name__\n",
    "    print('✅ sklearn.naive_bayes._BaseNB._check_X: ', type(ret)) # noqa E501\n",
    "except Exception as e:\n",
    "    type_sklearn_naive_bayes__BaseNB__check_X = '_syft_missing'\n",
    "    print('❌ sklearn.naive_bayes._BaseNB._check_X: Return unavailable') # noqa E501\n",
    "    print(\"  Please fix this return type code until there is no exception\")\n",
    "    print('  Error:', e)\n"
   ]
  },
  {
   "cell_type": "code",
   "execution_count": null,
   "id": "adult-pharmaceutical",
   "metadata": {},
   "outputs": [],
   "source": [
    "# sklearn.naive_bayes._BaseNB._check_n_features\n",
    "try:\n",
    "    obj = class_constructor() # noqa F821\n",
    "    ret = obj._check_n_features()\n",
    "    type_sklearn_naive_bayes__BaseNB__check_n_features = getattr(ret, '__module__', 'none') + '.' + ret.__class__.__name__\n",
    "    print('✅ sklearn.naive_bayes._BaseNB._check_n_features: ', type(ret)) # noqa E501\n",
    "except Exception as e:\n",
    "    type_sklearn_naive_bayes__BaseNB__check_n_features = '_syft_missing'\n",
    "    print('❌ sklearn.naive_bayes._BaseNB._check_n_features: Return unavailable') # noqa E501\n",
    "    print(\"  Please fix this return type code until there is no exception\")\n",
    "    print('  Error:', e)\n"
   ]
  },
  {
   "cell_type": "code",
   "execution_count": null,
   "id": "further-monte",
   "metadata": {},
   "outputs": [],
   "source": [
    "# sklearn.naive_bayes._BaseNB._get_param_names\n",
    "try:\n",
    "    obj = class_constructor() # noqa F821\n",
    "    ret = obj._get_param_names()\n",
    "    type_sklearn_naive_bayes__BaseNB__get_param_names = getattr(ret, '__module__', 'none') + '.' + ret.__class__.__name__\n",
    "    print('✅ sklearn.naive_bayes._BaseNB._get_param_names: ', type(ret)) # noqa E501\n",
    "except Exception as e:\n",
    "    type_sklearn_naive_bayes__BaseNB__get_param_names = '_syft_missing'\n",
    "    print('❌ sklearn.naive_bayes._BaseNB._get_param_names: Return unavailable') # noqa E501\n",
    "    print(\"  Please fix this return type code until there is no exception\")\n",
    "    print('  Error:', e)\n"
   ]
  },
  {
   "cell_type": "code",
   "execution_count": null,
   "id": "interpreted-transfer",
   "metadata": {},
   "outputs": [],
   "source": [
    "# sklearn.naive_bayes._BaseNB._get_tags\n",
    "try:\n",
    "    obj = class_constructor() # noqa F821\n",
    "    ret = obj._get_tags()\n",
    "    type_sklearn_naive_bayes__BaseNB__get_tags = getattr(ret, '__module__', 'none') + '.' + ret.__class__.__name__\n",
    "    print('✅ sklearn.naive_bayes._BaseNB._get_tags: ', type(ret)) # noqa E501\n",
    "except Exception as e:\n",
    "    type_sklearn_naive_bayes__BaseNB__get_tags = '_syft_missing'\n",
    "    print('❌ sklearn.naive_bayes._BaseNB._get_tags: Return unavailable') # noqa E501\n",
    "    print(\"  Please fix this return type code until there is no exception\")\n",
    "    print('  Error:', e)\n"
   ]
  },
  {
   "cell_type": "code",
   "execution_count": null,
   "id": "illegal-senior",
   "metadata": {},
   "outputs": [],
   "source": [
    "# sklearn.naive_bayes._BaseNB._joint_log_likelihood\n",
    "try:\n",
    "    obj = class_constructor() # noqa F821\n",
    "    ret = obj._joint_log_likelihood()\n",
    "    type_sklearn_naive_bayes__BaseNB__joint_log_likelihood = getattr(ret, '__module__', 'none') + '.' + ret.__class__.__name__\n",
    "    print('✅ sklearn.naive_bayes._BaseNB._joint_log_likelihood: ', type(ret)) # noqa E501\n",
    "except Exception as e:\n",
    "    type_sklearn_naive_bayes__BaseNB__joint_log_likelihood = '_syft_missing'\n",
    "    print('❌ sklearn.naive_bayes._BaseNB._joint_log_likelihood: Return unavailable') # noqa E501\n",
    "    print(\"  Please fix this return type code until there is no exception\")\n",
    "    print('  Error:', e)\n"
   ]
  },
  {
   "cell_type": "code",
   "execution_count": null,
   "id": "incomplete-contact",
   "metadata": {},
   "outputs": [],
   "source": [
    "# sklearn.naive_bayes._BaseNB._more_tags\n",
    "try:\n",
    "    obj = class_constructor() # noqa F821\n",
    "    ret = obj._more_tags()\n",
    "    type_sklearn_naive_bayes__BaseNB__more_tags = getattr(ret, '__module__', 'none') + '.' + ret.__class__.__name__\n",
    "    print('✅ sklearn.naive_bayes._BaseNB._more_tags: ', type(ret)) # noqa E501\n",
    "except Exception as e:\n",
    "    type_sklearn_naive_bayes__BaseNB__more_tags = '_syft_missing'\n",
    "    print('❌ sklearn.naive_bayes._BaseNB._more_tags: Return unavailable') # noqa E501\n",
    "    print(\"  Please fix this return type code until there is no exception\")\n",
    "    print('  Error:', e)\n"
   ]
  },
  {
   "cell_type": "code",
   "execution_count": null,
   "id": "vocal-sterling",
   "metadata": {},
   "outputs": [],
   "source": [
    "# sklearn.naive_bayes._BaseNB._repr_html_\n",
    "try:\n",
    "    obj = class_constructor()\n",
    "    ret = obj._repr_html_\n",
    "    type_sklearn_naive_bayes__BaseNB__repr_html_ = getattr(ret, '__module__', 'none') + '.' + ret.__class__.__name__\n",
    "    print('✅ sklearn.naive_bayes._BaseNB._repr_html_:', type(ret)) # noqa E501\n",
    "except Exception as e:\n",
    "    type_sklearn_naive_bayes__BaseNB__repr_html_ = '_syft_missing'\n",
    "    print('❌ sklearn.naive_bayes._BaseNB._repr_html_: Return unavailable') # noqa E501\n",
    "    print(\"  Please fix this return type code until there is no exception\")\n",
    "    print('  Error:', e)\n"
   ]
  },
  {
   "cell_type": "code",
   "execution_count": null,
   "id": "contemporary-dairy",
   "metadata": {},
   "outputs": [],
   "source": [
    "# sklearn.naive_bayes._BaseNB._repr_html_inner\n",
    "try:\n",
    "    obj = class_constructor() # noqa F821\n",
    "    ret = obj._repr_html_inner()\n",
    "    type_sklearn_naive_bayes__BaseNB__repr_html_inner = getattr(ret, '__module__', 'none') + '.' + ret.__class__.__name__\n",
    "    print('✅ sklearn.naive_bayes._BaseNB._repr_html_inner: ', type(ret)) # noqa E501\n",
    "except Exception as e:\n",
    "    type_sklearn_naive_bayes__BaseNB__repr_html_inner = '_syft_missing'\n",
    "    print('❌ sklearn.naive_bayes._BaseNB._repr_html_inner: Return unavailable') # noqa E501\n",
    "    print(\"  Please fix this return type code until there is no exception\")\n",
    "    print('  Error:', e)\n"
   ]
  },
  {
   "cell_type": "code",
   "execution_count": null,
   "id": "innocent-mathematics",
   "metadata": {},
   "outputs": [],
   "source": [
    "# sklearn.naive_bayes._BaseNB._repr_mimebundle_\n",
    "try:\n",
    "    obj = class_constructor() # noqa F821\n",
    "    ret = obj._repr_mimebundle_()\n",
    "    type_sklearn_naive_bayes__BaseNB__repr_mimebundle_ = getattr(ret, '__module__', 'none') + '.' + ret.__class__.__name__\n",
    "    print('✅ sklearn.naive_bayes._BaseNB._repr_mimebundle_: ', type(ret)) # noqa E501\n",
    "except Exception as e:\n",
    "    type_sklearn_naive_bayes__BaseNB__repr_mimebundle_ = '_syft_missing'\n",
    "    print('❌ sklearn.naive_bayes._BaseNB._repr_mimebundle_: Return unavailable') # noqa E501\n",
    "    print(\"  Please fix this return type code until there is no exception\")\n",
    "    print('  Error:', e)\n"
   ]
  },
  {
   "cell_type": "code",
   "execution_count": null,
   "id": "greater-multiple",
   "metadata": {},
   "outputs": [],
   "source": [
    "# sklearn.naive_bayes._BaseNB._validate_data\n",
    "try:\n",
    "    obj = class_constructor() # noqa F821\n",
    "    ret = obj._validate_data()\n",
    "    type_sklearn_naive_bayes__BaseNB__validate_data = getattr(ret, '__module__', 'none') + '.' + ret.__class__.__name__\n",
    "    print('✅ sklearn.naive_bayes._BaseNB._validate_data: ', type(ret)) # noqa E501\n",
    "except Exception as e:\n",
    "    type_sklearn_naive_bayes__BaseNB__validate_data = '_syft_missing'\n",
    "    print('❌ sklearn.naive_bayes._BaseNB._validate_data: Return unavailable') # noqa E501\n",
    "    print(\"  Please fix this return type code until there is no exception\")\n",
    "    print('  Error:', e)\n"
   ]
  },
  {
   "cell_type": "code",
   "execution_count": null,
   "id": "imperial-optimum",
   "metadata": {},
   "outputs": [],
   "source": [
    "# sklearn.naive_bayes._BaseNB.get_params\n",
    "try:\n",
    "    obj = class_constructor() # noqa F821\n",
    "    ret = obj.get_params()\n",
    "    type_sklearn_naive_bayes__BaseNB_get_params = getattr(ret, '__module__', 'none') + '.' + ret.__class__.__name__\n",
    "    print('✅ sklearn.naive_bayes._BaseNB.get_params: ', type(ret)) # noqa E501\n",
    "except Exception as e:\n",
    "    type_sklearn_naive_bayes__BaseNB_get_params = '_syft_missing'\n",
    "    print('❌ sklearn.naive_bayes._BaseNB.get_params: Return unavailable') # noqa E501\n",
    "    print(\"  Please fix this return type code until there is no exception\")\n",
    "    print('  Error:', e)\n"
   ]
  },
  {
   "cell_type": "code",
   "execution_count": null,
   "id": "handed-beauty",
   "metadata": {},
   "outputs": [],
   "source": [
    "# sklearn.naive_bayes._BaseNB.predict\n",
    "try:\n",
    "    obj = class_constructor() # noqa F821\n",
    "    ret = obj.predict()\n",
    "    type_sklearn_naive_bayes__BaseNB_predict = getattr(ret, '__module__', 'none') + '.' + ret.__class__.__name__\n",
    "    print('✅ sklearn.naive_bayes._BaseNB.predict: ', type(ret)) # noqa E501\n",
    "except Exception as e:\n",
    "    type_sklearn_naive_bayes__BaseNB_predict = '_syft_missing'\n",
    "    print('❌ sklearn.naive_bayes._BaseNB.predict: Return unavailable') # noqa E501\n",
    "    print(\"  Please fix this return type code until there is no exception\")\n",
    "    print('  Error:', e)\n"
   ]
  },
  {
   "cell_type": "code",
   "execution_count": null,
   "id": "ambient-luxembourg",
   "metadata": {},
   "outputs": [],
   "source": [
    "# sklearn.naive_bayes._BaseNB.predict_log_proba\n",
    "try:\n",
    "    obj = class_constructor() # noqa F821\n",
    "    ret = obj.predict_log_proba()\n",
    "    type_sklearn_naive_bayes__BaseNB_predict_log_proba = getattr(ret, '__module__', 'none') + '.' + ret.__class__.__name__\n",
    "    print('✅ sklearn.naive_bayes._BaseNB.predict_log_proba: ', type(ret)) # noqa E501\n",
    "except Exception as e:\n",
    "    type_sklearn_naive_bayes__BaseNB_predict_log_proba = '_syft_missing'\n",
    "    print('❌ sklearn.naive_bayes._BaseNB.predict_log_proba: Return unavailable') # noqa E501\n",
    "    print(\"  Please fix this return type code until there is no exception\")\n",
    "    print('  Error:', e)\n"
   ]
  },
  {
   "cell_type": "code",
   "execution_count": null,
   "id": "demonstrated-roommate",
   "metadata": {},
   "outputs": [],
   "source": [
    "# sklearn.naive_bayes._BaseNB.predict_proba\n",
    "try:\n",
    "    obj = class_constructor() # noqa F821\n",
    "    ret = obj.predict_proba()\n",
    "    type_sklearn_naive_bayes__BaseNB_predict_proba = getattr(ret, '__module__', 'none') + '.' + ret.__class__.__name__\n",
    "    print('✅ sklearn.naive_bayes._BaseNB.predict_proba: ', type(ret)) # noqa E501\n",
    "except Exception as e:\n",
    "    type_sklearn_naive_bayes__BaseNB_predict_proba = '_syft_missing'\n",
    "    print('❌ sklearn.naive_bayes._BaseNB.predict_proba: Return unavailable') # noqa E501\n",
    "    print(\"  Please fix this return type code until there is no exception\")\n",
    "    print('  Error:', e)\n"
   ]
  },
  {
   "cell_type": "code",
   "execution_count": null,
   "id": "independent-longer",
   "metadata": {},
   "outputs": [],
   "source": [
    "# sklearn.naive_bayes._BaseNB.score\n",
    "try:\n",
    "    obj = class_constructor() # noqa F821\n",
    "    ret = obj.score()\n",
    "    type_sklearn_naive_bayes__BaseNB_score = getattr(ret, '__module__', 'none') + '.' + ret.__class__.__name__\n",
    "    print('✅ sklearn.naive_bayes._BaseNB.score: ', type(ret)) # noqa E501\n",
    "except Exception as e:\n",
    "    type_sklearn_naive_bayes__BaseNB_score = '_syft_missing'\n",
    "    print('❌ sklearn.naive_bayes._BaseNB.score: Return unavailable') # noqa E501\n",
    "    print(\"  Please fix this return type code until there is no exception\")\n",
    "    print('  Error:', e)\n"
   ]
  },
  {
   "cell_type": "code",
   "execution_count": null,
   "id": "serious-skirt",
   "metadata": {},
   "outputs": [],
   "source": [
    "# sklearn.naive_bayes._BaseNB.set_params\n",
    "try:\n",
    "    obj = class_constructor() # noqa F821\n",
    "    ret = obj.set_params()\n",
    "    type_sklearn_naive_bayes__BaseNB_set_params = getattr(ret, '__module__', 'none') + '.' + ret.__class__.__name__\n",
    "    print('✅ sklearn.naive_bayes._BaseNB.set_params: ', type(ret)) # noqa E501\n",
    "except Exception as e:\n",
    "    type_sklearn_naive_bayes__BaseNB_set_params = '_syft_missing'\n",
    "    print('❌ sklearn.naive_bayes._BaseNB.set_params: Return unavailable') # noqa E501\n",
    "    print(\"  Please fix this return type code until there is no exception\")\n",
    "    print('  Error:', e)\n"
   ]
  }
 ],
 "metadata": {},
 "nbformat": 4,
 "nbformat_minor": 5
}
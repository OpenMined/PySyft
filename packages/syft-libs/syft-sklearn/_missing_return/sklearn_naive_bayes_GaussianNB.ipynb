{
 "cells": [
  {
   "cell_type": "markdown",
   "id": "unavailable-johns",
   "metadata": {},
   "source": [
    "## sklearn.naive_bayes.GaussianNB"
   ]
  },
  {
   "cell_type": "code",
   "execution_count": null,
   "id": "magnetic-adapter",
   "metadata": {},
   "outputs": [],
   "source": [
    "import sklearn\n",
    "def class_constructor(*args, **kwargs):\n",
    "    obj = sklearn.naive_bayes.GaussianNB()\n",
    "    return obj\n"
   ]
  },
  {
   "cell_type": "code",
   "execution_count": null,
   "id": "angry-decrease",
   "metadata": {},
   "outputs": [],
   "source": [
    "# sklearn.naive_bayes.GaussianNB.__getstate__\n",
    "try:\n",
    "    obj = class_constructor() # noqa F821\n",
    "    ret = obj.__getstate__()\n",
    "    type_sklearn_naive_bayes_GaussianNB___getstate__ = getattr(ret, '__module__', 'none') + '.' + ret.__class__.__name__\n",
    "    print('✅ sklearn.naive_bayes.GaussianNB.__getstate__: ', type(ret)) # noqa E501\n",
    "except Exception as e:\n",
    "    type_sklearn_naive_bayes_GaussianNB___getstate__ = '_syft_missing'\n",
    "    print('❌ sklearn.naive_bayes.GaussianNB.__getstate__: Return unavailable') # noqa E501\n",
    "    print(\"  Please fix this return type code until there is no exception\")\n",
    "    print('  Error:', e)\n"
   ]
  },
  {
   "cell_type": "code",
   "execution_count": null,
   "id": "classical-response",
   "metadata": {},
   "outputs": [],
   "source": [
    "# sklearn.naive_bayes.GaussianNB.__repr__\n",
    "try:\n",
    "    obj = class_constructor() # noqa F821\n",
    "    ret = obj.__repr__()\n",
    "    type_sklearn_naive_bayes_GaussianNB___repr__ = getattr(ret, '__module__', 'none') + '.' + ret.__class__.__name__\n",
    "    print('✅ sklearn.naive_bayes.GaussianNB.__repr__: ', type(ret)) # noqa E501\n",
    "except Exception as e:\n",
    "    type_sklearn_naive_bayes_GaussianNB___repr__ = '_syft_missing'\n",
    "    print('❌ sklearn.naive_bayes.GaussianNB.__repr__: Return unavailable') # noqa E501\n",
    "    print(\"  Please fix this return type code until there is no exception\")\n",
    "    print('  Error:', e)\n"
   ]
  },
  {
   "cell_type": "code",
   "execution_count": null,
   "id": "injured-internship",
   "metadata": {},
   "outputs": [],
   "source": [
    "# sklearn.naive_bayes.GaussianNB.__setstate__\n",
    "try:\n",
    "    obj = class_constructor() # noqa F821\n",
    "    ret = obj.__setstate__()\n",
    "    type_sklearn_naive_bayes_GaussianNB___setstate__ = getattr(ret, '__module__', 'none') + '.' + ret.__class__.__name__\n",
    "    print('✅ sklearn.naive_bayes.GaussianNB.__setstate__: ', type(ret)) # noqa E501\n",
    "except Exception as e:\n",
    "    type_sklearn_naive_bayes_GaussianNB___setstate__ = '_syft_missing'\n",
    "    print('❌ sklearn.naive_bayes.GaussianNB.__setstate__: Return unavailable') # noqa E501\n",
    "    print(\"  Please fix this return type code until there is no exception\")\n",
    "    print('  Error:', e)\n"
   ]
  },
  {
   "cell_type": "code",
   "execution_count": null,
   "id": "congressional-church",
   "metadata": {},
   "outputs": [],
   "source": [
    "# sklearn.naive_bayes.GaussianNB._check_X\n",
    "try:\n",
    "    obj = class_constructor() # noqa F821\n",
    "    ret = obj._check_X()\n",
    "    type_sklearn_naive_bayes_GaussianNB__check_X = getattr(ret, '__module__', 'none') + '.' + ret.__class__.__name__\n",
    "    print('✅ sklearn.naive_bayes.GaussianNB._check_X: ', type(ret)) # noqa E501\n",
    "except Exception as e:\n",
    "    type_sklearn_naive_bayes_GaussianNB__check_X = '_syft_missing'\n",
    "    print('❌ sklearn.naive_bayes.GaussianNB._check_X: Return unavailable') # noqa E501\n",
    "    print(\"  Please fix this return type code until there is no exception\")\n",
    "    print('  Error:', e)\n"
   ]
  },
  {
   "cell_type": "code",
   "execution_count": null,
   "id": "coordinate-serial",
   "metadata": {},
   "outputs": [],
   "source": [
    "# sklearn.naive_bayes.GaussianNB._check_n_features\n",
    "try:\n",
    "    obj = class_constructor() # noqa F821\n",
    "    ret = obj._check_n_features()\n",
    "    type_sklearn_naive_bayes_GaussianNB__check_n_features = getattr(ret, '__module__', 'none') + '.' + ret.__class__.__name__\n",
    "    print('✅ sklearn.naive_bayes.GaussianNB._check_n_features: ', type(ret)) # noqa E501\n",
    "except Exception as e:\n",
    "    type_sklearn_naive_bayes_GaussianNB__check_n_features = '_syft_missing'\n",
    "    print('❌ sklearn.naive_bayes.GaussianNB._check_n_features: Return unavailable') # noqa E501\n",
    "    print(\"  Please fix this return type code until there is no exception\")\n",
    "    print('  Error:', e)\n"
   ]
  },
  {
   "cell_type": "code",
   "execution_count": null,
   "id": "maritime-attendance",
   "metadata": {},
   "outputs": [],
   "source": [
    "# sklearn.naive_bayes.GaussianNB._get_param_names\n",
    "try:\n",
    "    obj = class_constructor() # noqa F821\n",
    "    ret = obj._get_param_names()\n",
    "    type_sklearn_naive_bayes_GaussianNB__get_param_names = getattr(ret, '__module__', 'none') + '.' + ret.__class__.__name__\n",
    "    print('✅ sklearn.naive_bayes.GaussianNB._get_param_names: ', type(ret)) # noqa E501\n",
    "except Exception as e:\n",
    "    type_sklearn_naive_bayes_GaussianNB__get_param_names = '_syft_missing'\n",
    "    print('❌ sklearn.naive_bayes.GaussianNB._get_param_names: Return unavailable') # noqa E501\n",
    "    print(\"  Please fix this return type code until there is no exception\")\n",
    "    print('  Error:', e)\n"
   ]
  },
  {
   "cell_type": "code",
   "execution_count": null,
   "id": "partial-canyon",
   "metadata": {},
   "outputs": [],
   "source": [
    "# sklearn.naive_bayes.GaussianNB._get_tags\n",
    "try:\n",
    "    obj = class_constructor() # noqa F821\n",
    "    ret = obj._get_tags()\n",
    "    type_sklearn_naive_bayes_GaussianNB__get_tags = getattr(ret, '__module__', 'none') + '.' + ret.__class__.__name__\n",
    "    print('✅ sklearn.naive_bayes.GaussianNB._get_tags: ', type(ret)) # noqa E501\n",
    "except Exception as e:\n",
    "    type_sklearn_naive_bayes_GaussianNB__get_tags = '_syft_missing'\n",
    "    print('❌ sklearn.naive_bayes.GaussianNB._get_tags: Return unavailable') # noqa E501\n",
    "    print(\"  Please fix this return type code until there is no exception\")\n",
    "    print('  Error:', e)\n"
   ]
  },
  {
   "cell_type": "code",
   "execution_count": null,
   "id": "visible-richmond",
   "metadata": {},
   "outputs": [],
   "source": [
    "# sklearn.naive_bayes.GaussianNB._joint_log_likelihood\n",
    "try:\n",
    "    obj = class_constructor() # noqa F821\n",
    "    ret = obj._joint_log_likelihood()\n",
    "    type_sklearn_naive_bayes_GaussianNB__joint_log_likelihood = getattr(ret, '__module__', 'none') + '.' + ret.__class__.__name__\n",
    "    print('✅ sklearn.naive_bayes.GaussianNB._joint_log_likelihood: ', type(ret)) # noqa E501\n",
    "except Exception as e:\n",
    "    type_sklearn_naive_bayes_GaussianNB__joint_log_likelihood = '_syft_missing'\n",
    "    print('❌ sklearn.naive_bayes.GaussianNB._joint_log_likelihood: Return unavailable') # noqa E501\n",
    "    print(\"  Please fix this return type code until there is no exception\")\n",
    "    print('  Error:', e)\n"
   ]
  },
  {
   "cell_type": "code",
   "execution_count": null,
   "id": "naughty-adult",
   "metadata": {},
   "outputs": [],
   "source": [
    "# sklearn.naive_bayes.GaussianNB._more_tags\n",
    "try:\n",
    "    obj = class_constructor() # noqa F821\n",
    "    ret = obj._more_tags()\n",
    "    type_sklearn_naive_bayes_GaussianNB__more_tags = getattr(ret, '__module__', 'none') + '.' + ret.__class__.__name__\n",
    "    print('✅ sklearn.naive_bayes.GaussianNB._more_tags: ', type(ret)) # noqa E501\n",
    "except Exception as e:\n",
    "    type_sklearn_naive_bayes_GaussianNB__more_tags = '_syft_missing'\n",
    "    print('❌ sklearn.naive_bayes.GaussianNB._more_tags: Return unavailable') # noqa E501\n",
    "    print(\"  Please fix this return type code until there is no exception\")\n",
    "    print('  Error:', e)\n"
   ]
  },
  {
   "cell_type": "code",
   "execution_count": null,
   "id": "advance-brother",
   "metadata": {},
   "outputs": [],
   "source": [
    "# sklearn.naive_bayes.GaussianNB._partial_fit\n",
    "try:\n",
    "    obj = class_constructor() # noqa F821\n",
    "    ret = obj._partial_fit()\n",
    "    type_sklearn_naive_bayes_GaussianNB__partial_fit = getattr(ret, '__module__', 'none') + '.' + ret.__class__.__name__\n",
    "    print('✅ sklearn.naive_bayes.GaussianNB._partial_fit: ', type(ret)) # noqa E501\n",
    "except Exception as e:\n",
    "    type_sklearn_naive_bayes_GaussianNB__partial_fit = '_syft_missing'\n",
    "    print('❌ sklearn.naive_bayes.GaussianNB._partial_fit: Return unavailable') # noqa E501\n",
    "    print(\"  Please fix this return type code until there is no exception\")\n",
    "    print('  Error:', e)\n"
   ]
  },
  {
   "cell_type": "code",
   "execution_count": null,
   "id": "stunning-gossip",
   "metadata": {},
   "outputs": [],
   "source": [
    "# sklearn.naive_bayes.GaussianNB._repr_html_\n",
    "try:\n",
    "    obj = class_constructor()\n",
    "    ret = obj._repr_html_\n",
    "    type_sklearn_naive_bayes_GaussianNB__repr_html_ = getattr(ret, '__module__', 'none') + '.' + ret.__class__.__name__\n",
    "    print('✅ sklearn.naive_bayes.GaussianNB._repr_html_:', type(ret)) # noqa E501\n",
    "except Exception as e:\n",
    "    type_sklearn_naive_bayes_GaussianNB__repr_html_ = '_syft_missing'\n",
    "    print('❌ sklearn.naive_bayes.GaussianNB._repr_html_: Return unavailable') # noqa E501\n",
    "    print(\"  Please fix this return type code until there is no exception\")\n",
    "    print('  Error:', e)\n"
   ]
  },
  {
   "cell_type": "code",
   "execution_count": null,
   "id": "natural-findings",
   "metadata": {},
   "outputs": [],
   "source": [
    "# sklearn.naive_bayes.GaussianNB._repr_html_inner\n",
    "try:\n",
    "    obj = class_constructor() # noqa F821\n",
    "    ret = obj._repr_html_inner()\n",
    "    type_sklearn_naive_bayes_GaussianNB__repr_html_inner = getattr(ret, '__module__', 'none') + '.' + ret.__class__.__name__\n",
    "    print('✅ sklearn.naive_bayes.GaussianNB._repr_html_inner: ', type(ret)) # noqa E501\n",
    "except Exception as e:\n",
    "    type_sklearn_naive_bayes_GaussianNB__repr_html_inner = '_syft_missing'\n",
    "    print('❌ sklearn.naive_bayes.GaussianNB._repr_html_inner: Return unavailable') # noqa E501\n",
    "    print(\"  Please fix this return type code until there is no exception\")\n",
    "    print('  Error:', e)\n"
   ]
  },
  {
   "cell_type": "code",
   "execution_count": null,
   "id": "mounted-latitude",
   "metadata": {},
   "outputs": [],
   "source": [
    "# sklearn.naive_bayes.GaussianNB._repr_mimebundle_\n",
    "try:\n",
    "    obj = class_constructor() # noqa F821\n",
    "    ret = obj._repr_mimebundle_()\n",
    "    type_sklearn_naive_bayes_GaussianNB__repr_mimebundle_ = getattr(ret, '__module__', 'none') + '.' + ret.__class__.__name__\n",
    "    print('✅ sklearn.naive_bayes.GaussianNB._repr_mimebundle_: ', type(ret)) # noqa E501\n",
    "except Exception as e:\n",
    "    type_sklearn_naive_bayes_GaussianNB__repr_mimebundle_ = '_syft_missing'\n",
    "    print('❌ sklearn.naive_bayes.GaussianNB._repr_mimebundle_: Return unavailable') # noqa E501\n",
    "    print(\"  Please fix this return type code until there is no exception\")\n",
    "    print('  Error:', e)\n"
   ]
  },
  {
   "cell_type": "code",
   "execution_count": null,
   "id": "popular-adjustment",
   "metadata": {},
   "outputs": [],
   "source": [
    "# sklearn.naive_bayes.GaussianNB._update_mean_variance\n",
    "try:\n",
    "    obj = class_constructor() # noqa F821\n",
    "    ret = obj._update_mean_variance()\n",
    "    type_sklearn_naive_bayes_GaussianNB__update_mean_variance = getattr(ret, '__module__', 'none') + '.' + ret.__class__.__name__\n",
    "    print('✅ sklearn.naive_bayes.GaussianNB._update_mean_variance: ', type(ret)) # noqa E501\n",
    "except Exception as e:\n",
    "    type_sklearn_naive_bayes_GaussianNB__update_mean_variance = '_syft_missing'\n",
    "    print('❌ sklearn.naive_bayes.GaussianNB._update_mean_variance: Return unavailable') # noqa E501\n",
    "    print(\"  Please fix this return type code until there is no exception\")\n",
    "    print('  Error:', e)\n"
   ]
  },
  {
   "cell_type": "code",
   "execution_count": null,
   "id": "outside-scope",
   "metadata": {},
   "outputs": [],
   "source": [
    "# sklearn.naive_bayes.GaussianNB._validate_data\n",
    "try:\n",
    "    obj = class_constructor() # noqa F821\n",
    "    ret = obj._validate_data()\n",
    "    type_sklearn_naive_bayes_GaussianNB__validate_data = getattr(ret, '__module__', 'none') + '.' + ret.__class__.__name__\n",
    "    print('✅ sklearn.naive_bayes.GaussianNB._validate_data: ', type(ret)) # noqa E501\n",
    "except Exception as e:\n",
    "    type_sklearn_naive_bayes_GaussianNB__validate_data = '_syft_missing'\n",
    "    print('❌ sklearn.naive_bayes.GaussianNB._validate_data: Return unavailable') # noqa E501\n",
    "    print(\"  Please fix this return type code until there is no exception\")\n",
    "    print('  Error:', e)\n"
   ]
  },
  {
   "cell_type": "code",
   "execution_count": null,
   "id": "rising-priest",
   "metadata": {},
   "outputs": [],
   "source": [
    "# sklearn.naive_bayes.GaussianNB.fit\n",
    "try:\n",
    "    obj = class_constructor() # noqa F821\n",
    "    ret = obj.fit()\n",
    "    type_sklearn_naive_bayes_GaussianNB_fit = getattr(ret, '__module__', 'none') + '.' + ret.__class__.__name__\n",
    "    print('✅ sklearn.naive_bayes.GaussianNB.fit: ', type(ret)) # noqa E501\n",
    "except Exception as e:\n",
    "    type_sklearn_naive_bayes_GaussianNB_fit = '_syft_missing'\n",
    "    print('❌ sklearn.naive_bayes.GaussianNB.fit: Return unavailable') # noqa E501\n",
    "    print(\"  Please fix this return type code until there is no exception\")\n",
    "    print('  Error:', e)\n"
   ]
  },
  {
   "cell_type": "code",
   "execution_count": null,
   "id": "requested-injury",
   "metadata": {},
   "outputs": [],
   "source": [
    "# sklearn.naive_bayes.GaussianNB.get_params\n",
    "try:\n",
    "    obj = class_constructor() # noqa F821\n",
    "    ret = obj.get_params()\n",
    "    type_sklearn_naive_bayes_GaussianNB_get_params = getattr(ret, '__module__', 'none') + '.' + ret.__class__.__name__\n",
    "    print('✅ sklearn.naive_bayes.GaussianNB.get_params: ', type(ret)) # noqa E501\n",
    "except Exception as e:\n",
    "    type_sklearn_naive_bayes_GaussianNB_get_params = '_syft_missing'\n",
    "    print('❌ sklearn.naive_bayes.GaussianNB.get_params: Return unavailable') # noqa E501\n",
    "    print(\"  Please fix this return type code until there is no exception\")\n",
    "    print('  Error:', e)\n"
   ]
  },
  {
   "cell_type": "code",
   "execution_count": null,
   "id": "invisible-master",
   "metadata": {},
   "outputs": [],
   "source": [
    "# sklearn.naive_bayes.GaussianNB.partial_fit\n",
    "try:\n",
    "    obj = class_constructor() # noqa F821\n",
    "    ret = obj.partial_fit()\n",
    "    type_sklearn_naive_bayes_GaussianNB_partial_fit = getattr(ret, '__module__', 'none') + '.' + ret.__class__.__name__\n",
    "    print('✅ sklearn.naive_bayes.GaussianNB.partial_fit: ', type(ret)) # noqa E501\n",
    "except Exception as e:\n",
    "    type_sklearn_naive_bayes_GaussianNB_partial_fit = '_syft_missing'\n",
    "    print('❌ sklearn.naive_bayes.GaussianNB.partial_fit: Return unavailable') # noqa E501\n",
    "    print(\"  Please fix this return type code until there is no exception\")\n",
    "    print('  Error:', e)\n"
   ]
  },
  {
   "cell_type": "code",
   "execution_count": null,
   "id": "cutting-launch",
   "metadata": {},
   "outputs": [],
   "source": [
    "# sklearn.naive_bayes.GaussianNB.predict\n",
    "try:\n",
    "    obj = class_constructor() # noqa F821\n",
    "    ret = obj.predict()\n",
    "    type_sklearn_naive_bayes_GaussianNB_predict = getattr(ret, '__module__', 'none') + '.' + ret.__class__.__name__\n",
    "    print('✅ sklearn.naive_bayes.GaussianNB.predict: ', type(ret)) # noqa E501\n",
    "except Exception as e:\n",
    "    type_sklearn_naive_bayes_GaussianNB_predict = '_syft_missing'\n",
    "    print('❌ sklearn.naive_bayes.GaussianNB.predict: Return unavailable') # noqa E501\n",
    "    print(\"  Please fix this return type code until there is no exception\")\n",
    "    print('  Error:', e)\n"
   ]
  },
  {
   "cell_type": "code",
   "execution_count": null,
   "id": "assured-hartford",
   "metadata": {},
   "outputs": [],
   "source": [
    "# sklearn.naive_bayes.GaussianNB.predict_log_proba\n",
    "try:\n",
    "    obj = class_constructor() # noqa F821\n",
    "    ret = obj.predict_log_proba()\n",
    "    type_sklearn_naive_bayes_GaussianNB_predict_log_proba = getattr(ret, '__module__', 'none') + '.' + ret.__class__.__name__\n",
    "    print('✅ sklearn.naive_bayes.GaussianNB.predict_log_proba: ', type(ret)) # noqa E501\n",
    "except Exception as e:\n",
    "    type_sklearn_naive_bayes_GaussianNB_predict_log_proba = '_syft_missing'\n",
    "    print('❌ sklearn.naive_bayes.GaussianNB.predict_log_proba: Return unavailable') # noqa E501\n",
    "    print(\"  Please fix this return type code until there is no exception\")\n",
    "    print('  Error:', e)\n"
   ]
  },
  {
   "cell_type": "code",
   "execution_count": null,
   "id": "attempted-spectacular",
   "metadata": {},
   "outputs": [],
   "source": [
    "# sklearn.naive_bayes.GaussianNB.predict_proba\n",
    "try:\n",
    "    obj = class_constructor() # noqa F821\n",
    "    ret = obj.predict_proba()\n",
    "    type_sklearn_naive_bayes_GaussianNB_predict_proba = getattr(ret, '__module__', 'none') + '.' + ret.__class__.__name__\n",
    "    print('✅ sklearn.naive_bayes.GaussianNB.predict_proba: ', type(ret)) # noqa E501\n",
    "except Exception as e:\n",
    "    type_sklearn_naive_bayes_GaussianNB_predict_proba = '_syft_missing'\n",
    "    print('❌ sklearn.naive_bayes.GaussianNB.predict_proba: Return unavailable') # noqa E501\n",
    "    print(\"  Please fix this return type code until there is no exception\")\n",
    "    print('  Error:', e)\n"
   ]
  },
  {
   "cell_type": "code",
   "execution_count": null,
   "id": "basic-tuition",
   "metadata": {},
   "outputs": [],
   "source": [
    "# sklearn.naive_bayes.GaussianNB.score\n",
    "try:\n",
    "    obj = class_constructor() # noqa F821\n",
    "    ret = obj.score()\n",
    "    type_sklearn_naive_bayes_GaussianNB_score = getattr(ret, '__module__', 'none') + '.' + ret.__class__.__name__\n",
    "    print('✅ sklearn.naive_bayes.GaussianNB.score: ', type(ret)) # noqa E501\n",
    "except Exception as e:\n",
    "    type_sklearn_naive_bayes_GaussianNB_score = '_syft_missing'\n",
    "    print('❌ sklearn.naive_bayes.GaussianNB.score: Return unavailable') # noqa E501\n",
    "    print(\"  Please fix this return type code until there is no exception\")\n",
    "    print('  Error:', e)\n"
   ]
  },
  {
   "cell_type": "code",
   "execution_count": null,
   "id": "hidden-removal",
   "metadata": {},
   "outputs": [],
   "source": [
    "# sklearn.naive_bayes.GaussianNB.set_params\n",
    "try:\n",
    "    obj = class_constructor() # noqa F821\n",
    "    ret = obj.set_params()\n",
    "    type_sklearn_naive_bayes_GaussianNB_set_params = getattr(ret, '__module__', 'none') + '.' + ret.__class__.__name__\n",
    "    print('✅ sklearn.naive_bayes.GaussianNB.set_params: ', type(ret)) # noqa E501\n",
    "except Exception as e:\n",
    "    type_sklearn_naive_bayes_GaussianNB_set_params = '_syft_missing'\n",
    "    print('❌ sklearn.naive_bayes.GaussianNB.set_params: Return unavailable') # noqa E501\n",
    "    print(\"  Please fix this return type code until there is no exception\")\n",
    "    print('  Error:', e)\n"
   ]
  }
 ],
 "metadata": {},
 "nbformat": 4,
 "nbformat_minor": 5
}
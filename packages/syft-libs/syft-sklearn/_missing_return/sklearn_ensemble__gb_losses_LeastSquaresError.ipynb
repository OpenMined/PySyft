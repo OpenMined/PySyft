{
 "cells": [
  {
   "cell_type": "markdown",
   "id": "auburn-venture",
   "metadata": {},
   "source": [
    "## sklearn.ensemble._gb_losses.LeastSquaresError"
   ]
  },
  {
   "cell_type": "code",
   "execution_count": null,
   "id": "pointed-carnival",
   "metadata": {},
   "outputs": [],
   "source": [
    "import sklearn\n",
    "def class_constructor(*args, **kwargs):\n",
    "    obj = sklearn.ensemble._gb_losses.LeastSquaresError()\n",
    "    return obj\n"
   ]
  },
  {
   "cell_type": "code",
   "execution_count": null,
   "id": "spare-reading",
   "metadata": {},
   "outputs": [],
   "source": [
    "# sklearn.ensemble._gb_losses.LeastSquaresError.__call__\n",
    "try:\n",
    "    obj = class_constructor() # noqa F821\n",
    "    ret = obj.__call__()\n",
    "    type_sklearn_ensemble__gb_losses_LeastSquaresError___call__ = getattr(ret, '__module__', 'none') + '.' + ret.__class__.__name__\n",
    "    print('✅ sklearn.ensemble._gb_losses.LeastSquaresError.__call__: ', type(ret)) # noqa E501\n",
    "except Exception as e:\n",
    "    type_sklearn_ensemble__gb_losses_LeastSquaresError___call__ = '_syft_missing'\n",
    "    print('❌ sklearn.ensemble._gb_losses.LeastSquaresError.__call__: Return unavailable') # noqa E501\n",
    "    print(\"  Please fix this return type code until there is no exception\")\n",
    "    print('  Error:', e)\n"
   ]
  },
  {
   "cell_type": "code",
   "execution_count": null,
   "id": "quick-concern",
   "metadata": {},
   "outputs": [],
   "source": [
    "# sklearn.ensemble._gb_losses.LeastSquaresError._update_terminal_region\n",
    "try:\n",
    "    obj = class_constructor() # noqa F821\n",
    "    ret = obj._update_terminal_region()\n",
    "    type_sklearn_ensemble__gb_losses_LeastSquaresError__update_terminal_region = getattr(ret, '__module__', 'none') + '.' + ret.__class__.__name__\n",
    "    print('✅ sklearn.ensemble._gb_losses.LeastSquaresError._update_terminal_region: ', type(ret)) # noqa E501\n",
    "except Exception as e:\n",
    "    type_sklearn_ensemble__gb_losses_LeastSquaresError__update_terminal_region = '_syft_missing'\n",
    "    print('❌ sklearn.ensemble._gb_losses.LeastSquaresError._update_terminal_region: Return unavailable') # noqa E501\n",
    "    print(\"  Please fix this return type code until there is no exception\")\n",
    "    print('  Error:', e)\n"
   ]
  },
  {
   "cell_type": "code",
   "execution_count": null,
   "id": "direct-finish",
   "metadata": {},
   "outputs": [],
   "source": [
    "# sklearn.ensemble._gb_losses.LeastSquaresError.check_init_estimator\n",
    "try:\n",
    "    obj = class_constructor() # noqa F821\n",
    "    ret = obj.check_init_estimator()\n",
    "    type_sklearn_ensemble__gb_losses_LeastSquaresError_check_init_estimator = getattr(ret, '__module__', 'none') + '.' + ret.__class__.__name__\n",
    "    print('✅ sklearn.ensemble._gb_losses.LeastSquaresError.check_init_estimator: ', type(ret)) # noqa E501\n",
    "except Exception as e:\n",
    "    type_sklearn_ensemble__gb_losses_LeastSquaresError_check_init_estimator = '_syft_missing'\n",
    "    print('❌ sklearn.ensemble._gb_losses.LeastSquaresError.check_init_estimator: Return unavailable') # noqa E501\n",
    "    print(\"  Please fix this return type code until there is no exception\")\n",
    "    print('  Error:', e)\n"
   ]
  },
  {
   "cell_type": "code",
   "execution_count": null,
   "id": "buried-footwear",
   "metadata": {},
   "outputs": [],
   "source": [
    "# sklearn.ensemble._gb_losses.LeastSquaresError.get_init_raw_predictions\n",
    "try:\n",
    "    obj = class_constructor() # noqa F821\n",
    "    ret = obj.get_init_raw_predictions()\n",
    "    type_sklearn_ensemble__gb_losses_LeastSquaresError_get_init_raw_predictions = getattr(ret, '__module__', 'none') + '.' + ret.__class__.__name__\n",
    "    print('✅ sklearn.ensemble._gb_losses.LeastSquaresError.get_init_raw_predictions: ', type(ret)) # noqa E501\n",
    "except Exception as e:\n",
    "    type_sklearn_ensemble__gb_losses_LeastSquaresError_get_init_raw_predictions = '_syft_missing'\n",
    "    print('❌ sklearn.ensemble._gb_losses.LeastSquaresError.get_init_raw_predictions: Return unavailable') # noqa E501\n",
    "    print(\"  Please fix this return type code until there is no exception\")\n",
    "    print('  Error:', e)\n"
   ]
  },
  {
   "cell_type": "code",
   "execution_count": null,
   "id": "becoming-baltimore",
   "metadata": {},
   "outputs": [],
   "source": [
    "# sklearn.ensemble._gb_losses.LeastSquaresError.init_estimator\n",
    "try:\n",
    "    obj = class_constructor() # noqa F821\n",
    "    ret = obj.init_estimator()\n",
    "    type_sklearn_ensemble__gb_losses_LeastSquaresError_init_estimator = getattr(ret, '__module__', 'none') + '.' + ret.__class__.__name__\n",
    "    print('✅ sklearn.ensemble._gb_losses.LeastSquaresError.init_estimator: ', type(ret)) # noqa E501\n",
    "except Exception as e:\n",
    "    type_sklearn_ensemble__gb_losses_LeastSquaresError_init_estimator = '_syft_missing'\n",
    "    print('❌ sklearn.ensemble._gb_losses.LeastSquaresError.init_estimator: Return unavailable') # noqa E501\n",
    "    print(\"  Please fix this return type code until there is no exception\")\n",
    "    print('  Error:', e)\n"
   ]
  },
  {
   "cell_type": "code",
   "execution_count": null,
   "id": "trying-solid",
   "metadata": {},
   "outputs": [],
   "source": [
    "# sklearn.ensemble._gb_losses.LeastSquaresError.negative_gradient\n",
    "try:\n",
    "    obj = class_constructor() # noqa F821\n",
    "    ret = obj.negative_gradient()\n",
    "    type_sklearn_ensemble__gb_losses_LeastSquaresError_negative_gradient = getattr(ret, '__module__', 'none') + '.' + ret.__class__.__name__\n",
    "    print('✅ sklearn.ensemble._gb_losses.LeastSquaresError.negative_gradient: ', type(ret)) # noqa E501\n",
    "except Exception as e:\n",
    "    type_sklearn_ensemble__gb_losses_LeastSquaresError_negative_gradient = '_syft_missing'\n",
    "    print('❌ sklearn.ensemble._gb_losses.LeastSquaresError.negative_gradient: Return unavailable') # noqa E501\n",
    "    print(\"  Please fix this return type code until there is no exception\")\n",
    "    print('  Error:', e)\n"
   ]
  },
  {
   "cell_type": "code",
   "execution_count": null,
   "id": "gothic-judges",
   "metadata": {},
   "outputs": [],
   "source": [
    "# sklearn.ensemble._gb_losses.LeastSquaresError.update_terminal_regions\n",
    "try:\n",
    "    obj = class_constructor() # noqa F821\n",
    "    ret = obj.update_terminal_regions()\n",
    "    type_sklearn_ensemble__gb_losses_LeastSquaresError_update_terminal_regions = getattr(ret, '__module__', 'none') + '.' + ret.__class__.__name__\n",
    "    print('✅ sklearn.ensemble._gb_losses.LeastSquaresError.update_terminal_regions: ', type(ret)) # noqa E501\n",
    "except Exception as e:\n",
    "    type_sklearn_ensemble__gb_losses_LeastSquaresError_update_terminal_regions = '_syft_missing'\n",
    "    print('❌ sklearn.ensemble._gb_losses.LeastSquaresError.update_terminal_regions: Return unavailable') # noqa E501\n",
    "    print(\"  Please fix this return type code until there is no exception\")\n",
    "    print('  Error:', e)\n"
   ]
  }
 ],
 "metadata": {},
 "nbformat": 4,
 "nbformat_minor": 5
}
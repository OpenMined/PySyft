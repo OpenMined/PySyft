{
 "cells": [
  {
   "cell_type": "markdown",
   "id": "breeding-charge",
   "metadata": {},
   "source": [
    "## sklearn._loss.glm_distribution.PoissonDistribution"
   ]
  },
  {
   "cell_type": "code",
   "execution_count": null,
   "id": "composed-louis",
   "metadata": {},
   "outputs": [],
   "source": [
    "import sklearn\n",
    "def class_constructor(*args, **kwargs):\n",
    "    obj = sklearn._loss.glm_distribution.PoissonDistribution()\n",
    "    return obj\n"
   ]
  },
  {
   "cell_type": "code",
   "execution_count": null,
   "id": "favorite-repeat",
   "metadata": {},
   "outputs": [],
   "source": [
    "# sklearn._loss.glm_distribution.PoissonDistribution.deviance\n",
    "try:\n",
    "    obj = class_constructor() # noqa F821\n",
    "    ret = obj.deviance()\n",
    "    type_sklearn__loss_glm_distribution_PoissonDistribution_deviance = getattr(ret, '__module__', 'none') + '.' + ret.__class__.__name__\n",
    "    print('✅ sklearn._loss.glm_distribution.PoissonDistribution.deviance: ', type(ret)) # noqa E501\n",
    "except Exception as e:\n",
    "    type_sklearn__loss_glm_distribution_PoissonDistribution_deviance = '_syft_missing'\n",
    "    print('❌ sklearn._loss.glm_distribution.PoissonDistribution.deviance: Return unavailable') # noqa E501\n",
    "    print(\"  Please fix this return type code until there is no exception\")\n",
    "    print('  Error:', e)\n"
   ]
  },
  {
   "cell_type": "code",
   "execution_count": null,
   "id": "normal-joint",
   "metadata": {},
   "outputs": [],
   "source": [
    "# sklearn._loss.glm_distribution.PoissonDistribution.deviance_derivative\n",
    "try:\n",
    "    obj = class_constructor() # noqa F821\n",
    "    ret = obj.deviance_derivative()\n",
    "    type_sklearn__loss_glm_distribution_PoissonDistribution_deviance_derivative = getattr(ret, '__module__', 'none') + '.' + ret.__class__.__name__\n",
    "    print('✅ sklearn._loss.glm_distribution.PoissonDistribution.deviance_derivative: ', type(ret)) # noqa E501\n",
    "except Exception as e:\n",
    "    type_sklearn__loss_glm_distribution_PoissonDistribution_deviance_derivative = '_syft_missing'\n",
    "    print('❌ sklearn._loss.glm_distribution.PoissonDistribution.deviance_derivative: Return unavailable') # noqa E501\n",
    "    print(\"  Please fix this return type code until there is no exception\")\n",
    "    print('  Error:', e)\n"
   ]
  },
  {
   "cell_type": "code",
   "execution_count": null,
   "id": "broken-chile",
   "metadata": {},
   "outputs": [],
   "source": [
    "# sklearn._loss.glm_distribution.PoissonDistribution.in_y_range\n",
    "try:\n",
    "    obj = class_constructor() # noqa F821\n",
    "    ret = obj.in_y_range()\n",
    "    type_sklearn__loss_glm_distribution_PoissonDistribution_in_y_range = getattr(ret, '__module__', 'none') + '.' + ret.__class__.__name__\n",
    "    print('✅ sklearn._loss.glm_distribution.PoissonDistribution.in_y_range: ', type(ret)) # noqa E501\n",
    "except Exception as e:\n",
    "    type_sklearn__loss_glm_distribution_PoissonDistribution_in_y_range = '_syft_missing'\n",
    "    print('❌ sklearn._loss.glm_distribution.PoissonDistribution.in_y_range: Return unavailable') # noqa E501\n",
    "    print(\"  Please fix this return type code until there is no exception\")\n",
    "    print('  Error:', e)\n"
   ]
  },
  {
   "cell_type": "code",
   "execution_count": null,
   "id": "mediterranean-lottery",
   "metadata": {},
   "outputs": [],
   "source": [
    "# sklearn._loss.glm_distribution.PoissonDistribution.power\n",
    "try:\n",
    "    obj = class_constructor()\n",
    "    ret = obj.power\n",
    "    type_sklearn__loss_glm_distribution_PoissonDistribution_power = getattr(ret, '__module__', 'none') + '.' + ret.__class__.__name__\n",
    "    print('✅ sklearn._loss.glm_distribution.PoissonDistribution.power:', type(ret)) # noqa E501\n",
    "except Exception as e:\n",
    "    type_sklearn__loss_glm_distribution_PoissonDistribution_power = '_syft_missing'\n",
    "    print('❌ sklearn._loss.glm_distribution.PoissonDistribution.power: Return unavailable') # noqa E501\n",
    "    print(\"  Please fix this return type code until there is no exception\")\n",
    "    print('  Error:', e)\n"
   ]
  },
  {
   "cell_type": "code",
   "execution_count": null,
   "id": "unexpected-facial",
   "metadata": {},
   "outputs": [],
   "source": [
    "# sklearn._loss.glm_distribution.PoissonDistribution.unit_deviance\n",
    "try:\n",
    "    obj = class_constructor() # noqa F821\n",
    "    ret = obj.unit_deviance()\n",
    "    type_sklearn__loss_glm_distribution_PoissonDistribution_unit_deviance = getattr(ret, '__module__', 'none') + '.' + ret.__class__.__name__\n",
    "    print('✅ sklearn._loss.glm_distribution.PoissonDistribution.unit_deviance: ', type(ret)) # noqa E501\n",
    "except Exception as e:\n",
    "    type_sklearn__loss_glm_distribution_PoissonDistribution_unit_deviance = '_syft_missing'\n",
    "    print('❌ sklearn._loss.glm_distribution.PoissonDistribution.unit_deviance: Return unavailable') # noqa E501\n",
    "    print(\"  Please fix this return type code until there is no exception\")\n",
    "    print('  Error:', e)\n"
   ]
  },
  {
   "cell_type": "code",
   "execution_count": null,
   "id": "secure-damages",
   "metadata": {},
   "outputs": [],
   "source": [
    "# sklearn._loss.glm_distribution.PoissonDistribution.unit_deviance_derivative\n",
    "try:\n",
    "    obj = class_constructor() # noqa F821\n",
    "    ret = obj.unit_deviance_derivative()\n",
    "    type_sklearn__loss_glm_distribution_PoissonDistribution_unit_deviance_derivative = getattr(ret, '__module__', 'none') + '.' + ret.__class__.__name__\n",
    "    print('✅ sklearn._loss.glm_distribution.PoissonDistribution.unit_deviance_derivative: ', type(ret)) # noqa E501\n",
    "except Exception as e:\n",
    "    type_sklearn__loss_glm_distribution_PoissonDistribution_unit_deviance_derivative = '_syft_missing'\n",
    "    print('❌ sklearn._loss.glm_distribution.PoissonDistribution.unit_deviance_derivative: Return unavailable') # noqa E501\n",
    "    print(\"  Please fix this return type code until there is no exception\")\n",
    "    print('  Error:', e)\n"
   ]
  },
  {
   "cell_type": "code",
   "execution_count": null,
   "id": "oriented-burst",
   "metadata": {},
   "outputs": [],
   "source": [
    "# sklearn._loss.glm_distribution.PoissonDistribution.unit_variance\n",
    "try:\n",
    "    obj = class_constructor() # noqa F821\n",
    "    ret = obj.unit_variance()\n",
    "    type_sklearn__loss_glm_distribution_PoissonDistribution_unit_variance = getattr(ret, '__module__', 'none') + '.' + ret.__class__.__name__\n",
    "    print('✅ sklearn._loss.glm_distribution.PoissonDistribution.unit_variance: ', type(ret)) # noqa E501\n",
    "except Exception as e:\n",
    "    type_sklearn__loss_glm_distribution_PoissonDistribution_unit_variance = '_syft_missing'\n",
    "    print('❌ sklearn._loss.glm_distribution.PoissonDistribution.unit_variance: Return unavailable') # noqa E501\n",
    "    print(\"  Please fix this return type code until there is no exception\")\n",
    "    print('  Error:', e)\n"
   ]
  }
 ],
 "metadata": {},
 "nbformat": 4,
 "nbformat_minor": 5
}
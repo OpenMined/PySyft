{
 "cells": [
  {
   "cell_type": "markdown",
   "id": "straight-scene",
   "metadata": {},
   "source": [
    "## sklearn.neural_network._stochastic_optimizers.BaseOptimizer"
   ]
  },
  {
   "cell_type": "code",
   "execution_count": null,
   "id": "federal-mission",
   "metadata": {},
   "outputs": [],
   "source": [
    "import sklearn\n",
    "def class_constructor(*args, **kwargs):\n",
    "    obj = sklearn.neural_network._stochastic_optimizers.BaseOptimizer()\n",
    "    return obj\n"
   ]
  },
  {
   "cell_type": "code",
   "execution_count": null,
   "id": "professional-elder",
   "metadata": {},
   "outputs": [],
   "source": [
    "# sklearn.neural_network._stochastic_optimizers.BaseOptimizer.iteration_ends\n",
    "try:\n",
    "    obj = class_constructor() # noqa F821\n",
    "    ret = obj.iteration_ends()\n",
    "    type_sklearn_neural_network__stochastic_optimizers_BaseOptimizer_iteration_ends = getattr(ret, '__module__', 'none') + '.' + ret.__class__.__name__\n",
    "    print('✅ sklearn.neural_network._stochastic_optimizers.BaseOptimizer.iteration_ends: ', type(ret)) # noqa E501\n",
    "except Exception as e:\n",
    "    type_sklearn_neural_network__stochastic_optimizers_BaseOptimizer_iteration_ends = '_syft_missing'\n",
    "    print('❌ sklearn.neural_network._stochastic_optimizers.BaseOptimizer.iteration_ends: Return unavailable') # noqa E501\n",
    "    print(\"  Please fix this return type code until there is no exception\")\n",
    "    print('  Error:', e)\n"
   ]
  },
  {
   "cell_type": "code",
   "execution_count": null,
   "id": "forced-chosen",
   "metadata": {},
   "outputs": [],
   "source": [
    "# sklearn.neural_network._stochastic_optimizers.BaseOptimizer.trigger_stopping\n",
    "try:\n",
    "    obj = class_constructor() # noqa F821\n",
    "    ret = obj.trigger_stopping()\n",
    "    type_sklearn_neural_network__stochastic_optimizers_BaseOptimizer_trigger_stopping = getattr(ret, '__module__', 'none') + '.' + ret.__class__.__name__\n",
    "    print('✅ sklearn.neural_network._stochastic_optimizers.BaseOptimizer.trigger_stopping: ', type(ret)) # noqa E501\n",
    "except Exception as e:\n",
    "    type_sklearn_neural_network__stochastic_optimizers_BaseOptimizer_trigger_stopping = '_syft_missing'\n",
    "    print('❌ sklearn.neural_network._stochastic_optimizers.BaseOptimizer.trigger_stopping: Return unavailable') # noqa E501\n",
    "    print(\"  Please fix this return type code until there is no exception\")\n",
    "    print('  Error:', e)\n"
   ]
  },
  {
   "cell_type": "code",
   "execution_count": null,
   "id": "instructional-rouge",
   "metadata": {},
   "outputs": [],
   "source": [
    "# sklearn.neural_network._stochastic_optimizers.BaseOptimizer.update_params\n",
    "try:\n",
    "    obj = class_constructor() # noqa F821\n",
    "    ret = obj.update_params()\n",
    "    type_sklearn_neural_network__stochastic_optimizers_BaseOptimizer_update_params = getattr(ret, '__module__', 'none') + '.' + ret.__class__.__name__\n",
    "    print('✅ sklearn.neural_network._stochastic_optimizers.BaseOptimizer.update_params: ', type(ret)) # noqa E501\n",
    "except Exception as e:\n",
    "    type_sklearn_neural_network__stochastic_optimizers_BaseOptimizer_update_params = '_syft_missing'\n",
    "    print('❌ sklearn.neural_network._stochastic_optimizers.BaseOptimizer.update_params: Return unavailable') # noqa E501\n",
    "    print(\"  Please fix this return type code until there is no exception\")\n",
    "    print('  Error:', e)\n"
   ]
  }
 ],
 "metadata": {},
 "nbformat": 4,
 "nbformat_minor": 5
}
{
 "cells": [
  {
   "cell_type": "markdown",
   "id": "palestinian-genome",
   "metadata": {},
   "source": [
    "## sklearn._loss.glm_distribution.NormalDistribution"
   ]
  },
  {
   "cell_type": "code",
   "execution_count": null,
   "id": "capable-spain",
   "metadata": {},
   "outputs": [],
   "source": [
    "import sklearn\n",
    "def class_constructor(*args, **kwargs):\n",
    "    obj = sklearn._loss.glm_distribution.NormalDistribution()\n",
    "    return obj\n"
   ]
  },
  {
   "cell_type": "code",
   "execution_count": null,
   "id": "celtic-jamaica",
   "metadata": {},
   "outputs": [],
   "source": [
    "# sklearn._loss.glm_distribution.NormalDistribution.deviance\n",
    "try:\n",
    "    obj = class_constructor() # noqa F821\n",
    "    ret = obj.deviance()\n",
    "    type_sklearn__loss_glm_distribution_NormalDistribution_deviance = getattr(ret, '__module__', 'none') + '.' + ret.__class__.__name__\n",
    "    print('✅ sklearn._loss.glm_distribution.NormalDistribution.deviance: ', type(ret)) # noqa E501\n",
    "except Exception as e:\n",
    "    type_sklearn__loss_glm_distribution_NormalDistribution_deviance = '_syft_missing'\n",
    "    print('❌ sklearn._loss.glm_distribution.NormalDistribution.deviance: Return unavailable') # noqa E501\n",
    "    print(\"  Please fix this return type code until there is no exception\")\n",
    "    print('  Error:', e)\n"
   ]
  },
  {
   "cell_type": "code",
   "execution_count": null,
   "id": "ongoing-wiring",
   "metadata": {},
   "outputs": [],
   "source": [
    "# sklearn._loss.glm_distribution.NormalDistribution.deviance_derivative\n",
    "try:\n",
    "    obj = class_constructor() # noqa F821\n",
    "    ret = obj.deviance_derivative()\n",
    "    type_sklearn__loss_glm_distribution_NormalDistribution_deviance_derivative = getattr(ret, '__module__', 'none') + '.' + ret.__class__.__name__\n",
    "    print('✅ sklearn._loss.glm_distribution.NormalDistribution.deviance_derivative: ', type(ret)) # noqa E501\n",
    "except Exception as e:\n",
    "    type_sklearn__loss_glm_distribution_NormalDistribution_deviance_derivative = '_syft_missing'\n",
    "    print('❌ sklearn._loss.glm_distribution.NormalDistribution.deviance_derivative: Return unavailable') # noqa E501\n",
    "    print(\"  Please fix this return type code until there is no exception\")\n",
    "    print('  Error:', e)\n"
   ]
  },
  {
   "cell_type": "code",
   "execution_count": null,
   "id": "secondary-arlington",
   "metadata": {},
   "outputs": [],
   "source": [
    "# sklearn._loss.glm_distribution.NormalDistribution.in_y_range\n",
    "try:\n",
    "    obj = class_constructor() # noqa F821\n",
    "    ret = obj.in_y_range()\n",
    "    type_sklearn__loss_glm_distribution_NormalDistribution_in_y_range = getattr(ret, '__module__', 'none') + '.' + ret.__class__.__name__\n",
    "    print('✅ sklearn._loss.glm_distribution.NormalDistribution.in_y_range: ', type(ret)) # noqa E501\n",
    "except Exception as e:\n",
    "    type_sklearn__loss_glm_distribution_NormalDistribution_in_y_range = '_syft_missing'\n",
    "    print('❌ sklearn._loss.glm_distribution.NormalDistribution.in_y_range: Return unavailable') # noqa E501\n",
    "    print(\"  Please fix this return type code until there is no exception\")\n",
    "    print('  Error:', e)\n"
   ]
  },
  {
   "cell_type": "code",
   "execution_count": null,
   "id": "inside-nickname",
   "metadata": {},
   "outputs": [],
   "source": [
    "# sklearn._loss.glm_distribution.NormalDistribution.power\n",
    "try:\n",
    "    obj = class_constructor()\n",
    "    ret = obj.power\n",
    "    type_sklearn__loss_glm_distribution_NormalDistribution_power = getattr(ret, '__module__', 'none') + '.' + ret.__class__.__name__\n",
    "    print('✅ sklearn._loss.glm_distribution.NormalDistribution.power:', type(ret)) # noqa E501\n",
    "except Exception as e:\n",
    "    type_sklearn__loss_glm_distribution_NormalDistribution_power = '_syft_missing'\n",
    "    print('❌ sklearn._loss.glm_distribution.NormalDistribution.power: Return unavailable') # noqa E501\n",
    "    print(\"  Please fix this return type code until there is no exception\")\n",
    "    print('  Error:', e)\n"
   ]
  },
  {
   "cell_type": "code",
   "execution_count": null,
   "id": "heard-account",
   "metadata": {},
   "outputs": [],
   "source": [
    "# sklearn._loss.glm_distribution.NormalDistribution.unit_deviance\n",
    "try:\n",
    "    obj = class_constructor() # noqa F821\n",
    "    ret = obj.unit_deviance()\n",
    "    type_sklearn__loss_glm_distribution_NormalDistribution_unit_deviance = getattr(ret, '__module__', 'none') + '.' + ret.__class__.__name__\n",
    "    print('✅ sklearn._loss.glm_distribution.NormalDistribution.unit_deviance: ', type(ret)) # noqa E501\n",
    "except Exception as e:\n",
    "    type_sklearn__loss_glm_distribution_NormalDistribution_unit_deviance = '_syft_missing'\n",
    "    print('❌ sklearn._loss.glm_distribution.NormalDistribution.unit_deviance: Return unavailable') # noqa E501\n",
    "    print(\"  Please fix this return type code until there is no exception\")\n",
    "    print('  Error:', e)\n"
   ]
  },
  {
   "cell_type": "code",
   "execution_count": null,
   "id": "complimentary-chuck",
   "metadata": {},
   "outputs": [],
   "source": [
    "# sklearn._loss.glm_distribution.NormalDistribution.unit_deviance_derivative\n",
    "try:\n",
    "    obj = class_constructor() # noqa F821\n",
    "    ret = obj.unit_deviance_derivative()\n",
    "    type_sklearn__loss_glm_distribution_NormalDistribution_unit_deviance_derivative = getattr(ret, '__module__', 'none') + '.' + ret.__class__.__name__\n",
    "    print('✅ sklearn._loss.glm_distribution.NormalDistribution.unit_deviance_derivative: ', type(ret)) # noqa E501\n",
    "except Exception as e:\n",
    "    type_sklearn__loss_glm_distribution_NormalDistribution_unit_deviance_derivative = '_syft_missing'\n",
    "    print('❌ sklearn._loss.glm_distribution.NormalDistribution.unit_deviance_derivative: Return unavailable') # noqa E501\n",
    "    print(\"  Please fix this return type code until there is no exception\")\n",
    "    print('  Error:', e)\n"
   ]
  },
  {
   "cell_type": "code",
   "execution_count": null,
   "id": "skilled-event",
   "metadata": {},
   "outputs": [],
   "source": [
    "# sklearn._loss.glm_distribution.NormalDistribution.unit_variance\n",
    "try:\n",
    "    obj = class_constructor() # noqa F821\n",
    "    ret = obj.unit_variance()\n",
    "    type_sklearn__loss_glm_distribution_NormalDistribution_unit_variance = getattr(ret, '__module__', 'none') + '.' + ret.__class__.__name__\n",
    "    print('✅ sklearn._loss.glm_distribution.NormalDistribution.unit_variance: ', type(ret)) # noqa E501\n",
    "except Exception as e:\n",
    "    type_sklearn__loss_glm_distribution_NormalDistribution_unit_variance = '_syft_missing'\n",
    "    print('❌ sklearn._loss.glm_distribution.NormalDistribution.unit_variance: Return unavailable') # noqa E501\n",
    "    print(\"  Please fix this return type code until there is no exception\")\n",
    "    print('  Error:', e)\n"
   ]
  }
 ],
 "metadata": {},
 "nbformat": 4,
 "nbformat_minor": 5
}
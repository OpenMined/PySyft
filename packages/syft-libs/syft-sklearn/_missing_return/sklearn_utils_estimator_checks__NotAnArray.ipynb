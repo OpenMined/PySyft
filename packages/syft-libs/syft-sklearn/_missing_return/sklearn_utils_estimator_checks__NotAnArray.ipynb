{
 "cells": [
  {
   "cell_type": "markdown",
   "id": "flying-naples",
   "metadata": {},
   "source": [
    "## sklearn.utils.estimator_checks._NotAnArray"
   ]
  },
  {
   "cell_type": "code",
   "execution_count": null,
   "id": "heavy-television",
   "metadata": {},
   "outputs": [],
   "source": [
    "import sklearn\n",
    "def class_constructor(*args, **kwargs):\n",
    "    obj = sklearn.utils.estimator_checks._NotAnArray()\n",
    "    return obj\n"
   ]
  },
  {
   "cell_type": "code",
   "execution_count": null,
   "id": "shaped-contents",
   "metadata": {},
   "outputs": [],
   "source": [
    "# sklearn.utils.estimator_checks._NotAnArray.__array__\n",
    "try:\n",
    "    obj = class_constructor() # noqa F821\n",
    "    ret = obj.__array__()\n",
    "    type_sklearn_utils_estimator_checks__NotAnArray___array__ = getattr(ret, '__module__', 'none') + '.' + ret.__class__.__name__\n",
    "    print('✅ sklearn.utils.estimator_checks._NotAnArray.__array__: ', type(ret)) # noqa E501\n",
    "except Exception as e:\n",
    "    type_sklearn_utils_estimator_checks__NotAnArray___array__ = '_syft_missing'\n",
    "    print('❌ sklearn.utils.estimator_checks._NotAnArray.__array__: Return unavailable') # noqa E501\n",
    "    print(\"  Please fix this return type code until there is no exception\")\n",
    "    print('  Error:', e)\n"
   ]
  },
  {
   "cell_type": "code",
   "execution_count": null,
   "id": "working-ghana",
   "metadata": {},
   "outputs": [],
   "source": [
    "# sklearn.utils.estimator_checks._NotAnArray.__array_function__\n",
    "try:\n",
    "    obj = class_constructor() # noqa F821\n",
    "    ret = obj.__array_function__()\n",
    "    type_sklearn_utils_estimator_checks__NotAnArray___array_function__ = getattr(ret, '__module__', 'none') + '.' + ret.__class__.__name__\n",
    "    print('✅ sklearn.utils.estimator_checks._NotAnArray.__array_function__: ', type(ret)) # noqa E501\n",
    "except Exception as e:\n",
    "    type_sklearn_utils_estimator_checks__NotAnArray___array_function__ = '_syft_missing'\n",
    "    print('❌ sklearn.utils.estimator_checks._NotAnArray.__array_function__: Return unavailable') # noqa E501\n",
    "    print(\"  Please fix this return type code until there is no exception\")\n",
    "    print('  Error:', e)\n"
   ]
  }
 ],
 "metadata": {},
 "nbformat": 4,
 "nbformat_minor": 5
}
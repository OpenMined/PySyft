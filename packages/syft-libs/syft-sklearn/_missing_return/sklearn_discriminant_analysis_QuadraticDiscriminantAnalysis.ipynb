{
 "cells": [
  {
   "cell_type": "markdown",
   "id": "compliant-investment",
   "metadata": {},
   "source": [
    "## sklearn.discriminant_analysis.QuadraticDiscriminantAnalysis"
   ]
  },
  {
   "cell_type": "code",
   "execution_count": null,
   "id": "finnish-melbourne",
   "metadata": {},
   "outputs": [],
   "source": [
    "import sklearn\n",
    "def class_constructor(*args, **kwargs):\n",
    "    obj = sklearn.discriminant_analysis.QuadraticDiscriminantAnalysis()\n",
    "    return obj\n"
   ]
  },
  {
   "cell_type": "code",
   "execution_count": null,
   "id": "irish-fellowship",
   "metadata": {},
   "outputs": [],
   "source": [
    "# sklearn.discriminant_analysis.QuadraticDiscriminantAnalysis.__getstate__\n",
    "try:\n",
    "    obj = class_constructor() # noqa F821\n",
    "    ret = obj.__getstate__()\n",
    "    type_sklearn_discriminant_analysis_QuadraticDiscriminantAnalysis___getstate__ = getattr(ret, '__module__', 'none') + '.' + ret.__class__.__name__\n",
    "    print('✅ sklearn.discriminant_analysis.QuadraticDiscriminantAnalysis.__getstate__: ', type(ret)) # noqa E501\n",
    "except Exception as e:\n",
    "    type_sklearn_discriminant_analysis_QuadraticDiscriminantAnalysis___getstate__ = '_syft_missing'\n",
    "    print('❌ sklearn.discriminant_analysis.QuadraticDiscriminantAnalysis.__getstate__: Return unavailable') # noqa E501\n",
    "    print(\"  Please fix this return type code until there is no exception\")\n",
    "    print('  Error:', e)\n"
   ]
  },
  {
   "cell_type": "code",
   "execution_count": null,
   "id": "knowing-workplace",
   "metadata": {},
   "outputs": [],
   "source": [
    "# sklearn.discriminant_analysis.QuadraticDiscriminantAnalysis.__repr__\n",
    "try:\n",
    "    obj = class_constructor() # noqa F821\n",
    "    ret = obj.__repr__()\n",
    "    type_sklearn_discriminant_analysis_QuadraticDiscriminantAnalysis___repr__ = getattr(ret, '__module__', 'none') + '.' + ret.__class__.__name__\n",
    "    print('✅ sklearn.discriminant_analysis.QuadraticDiscriminantAnalysis.__repr__: ', type(ret)) # noqa E501\n",
    "except Exception as e:\n",
    "    type_sklearn_discriminant_analysis_QuadraticDiscriminantAnalysis___repr__ = '_syft_missing'\n",
    "    print('❌ sklearn.discriminant_analysis.QuadraticDiscriminantAnalysis.__repr__: Return unavailable') # noqa E501\n",
    "    print(\"  Please fix this return type code until there is no exception\")\n",
    "    print('  Error:', e)\n"
   ]
  },
  {
   "cell_type": "code",
   "execution_count": null,
   "id": "changing-brown",
   "metadata": {},
   "outputs": [],
   "source": [
    "# sklearn.discriminant_analysis.QuadraticDiscriminantAnalysis.__setstate__\n",
    "try:\n",
    "    obj = class_constructor() # noqa F821\n",
    "    ret = obj.__setstate__()\n",
    "    type_sklearn_discriminant_analysis_QuadraticDiscriminantAnalysis___setstate__ = getattr(ret, '__module__', 'none') + '.' + ret.__class__.__name__\n",
    "    print('✅ sklearn.discriminant_analysis.QuadraticDiscriminantAnalysis.__setstate__: ', type(ret)) # noqa E501\n",
    "except Exception as e:\n",
    "    type_sklearn_discriminant_analysis_QuadraticDiscriminantAnalysis___setstate__ = '_syft_missing'\n",
    "    print('❌ sklearn.discriminant_analysis.QuadraticDiscriminantAnalysis.__setstate__: Return unavailable') # noqa E501\n",
    "    print(\"  Please fix this return type code until there is no exception\")\n",
    "    print('  Error:', e)\n"
   ]
  },
  {
   "cell_type": "code",
   "execution_count": null,
   "id": "convertible-silver",
   "metadata": {},
   "outputs": [],
   "source": [
    "# sklearn.discriminant_analysis.QuadraticDiscriminantAnalysis._check_n_features\n",
    "try:\n",
    "    obj = class_constructor() # noqa F821\n",
    "    ret = obj._check_n_features()\n",
    "    type_sklearn_discriminant_analysis_QuadraticDiscriminantAnalysis__check_n_features = getattr(ret, '__module__', 'none') + '.' + ret.__class__.__name__\n",
    "    print('✅ sklearn.discriminant_analysis.QuadraticDiscriminantAnalysis._check_n_features: ', type(ret)) # noqa E501\n",
    "except Exception as e:\n",
    "    type_sklearn_discriminant_analysis_QuadraticDiscriminantAnalysis__check_n_features = '_syft_missing'\n",
    "    print('❌ sklearn.discriminant_analysis.QuadraticDiscriminantAnalysis._check_n_features: Return unavailable') # noqa E501\n",
    "    print(\"  Please fix this return type code until there is no exception\")\n",
    "    print('  Error:', e)\n"
   ]
  },
  {
   "cell_type": "code",
   "execution_count": null,
   "id": "acute-supervision",
   "metadata": {},
   "outputs": [],
   "source": [
    "# sklearn.discriminant_analysis.QuadraticDiscriminantAnalysis._decision_function\n",
    "try:\n",
    "    obj = class_constructor() # noqa F821\n",
    "    ret = obj._decision_function()\n",
    "    type_sklearn_discriminant_analysis_QuadraticDiscriminantAnalysis__decision_function = getattr(ret, '__module__', 'none') + '.' + ret.__class__.__name__\n",
    "    print('✅ sklearn.discriminant_analysis.QuadraticDiscriminantAnalysis._decision_function: ', type(ret)) # noqa E501\n",
    "except Exception as e:\n",
    "    type_sklearn_discriminant_analysis_QuadraticDiscriminantAnalysis__decision_function = '_syft_missing'\n",
    "    print('❌ sklearn.discriminant_analysis.QuadraticDiscriminantAnalysis._decision_function: Return unavailable') # noqa E501\n",
    "    print(\"  Please fix this return type code until there is no exception\")\n",
    "    print('  Error:', e)\n"
   ]
  },
  {
   "cell_type": "code",
   "execution_count": null,
   "id": "supposed-tribute",
   "metadata": {},
   "outputs": [],
   "source": [
    "# sklearn.discriminant_analysis.QuadraticDiscriminantAnalysis._get_param_names\n",
    "try:\n",
    "    obj = class_constructor() # noqa F821\n",
    "    ret = obj._get_param_names()\n",
    "    type_sklearn_discriminant_analysis_QuadraticDiscriminantAnalysis__get_param_names = getattr(ret, '__module__', 'none') + '.' + ret.__class__.__name__\n",
    "    print('✅ sklearn.discriminant_analysis.QuadraticDiscriminantAnalysis._get_param_names: ', type(ret)) # noqa E501\n",
    "except Exception as e:\n",
    "    type_sklearn_discriminant_analysis_QuadraticDiscriminantAnalysis__get_param_names = '_syft_missing'\n",
    "    print('❌ sklearn.discriminant_analysis.QuadraticDiscriminantAnalysis._get_param_names: Return unavailable') # noqa E501\n",
    "    print(\"  Please fix this return type code until there is no exception\")\n",
    "    print('  Error:', e)\n"
   ]
  },
  {
   "cell_type": "code",
   "execution_count": null,
   "id": "generic-pennsylvania",
   "metadata": {},
   "outputs": [],
   "source": [
    "# sklearn.discriminant_analysis.QuadraticDiscriminantAnalysis._get_tags\n",
    "try:\n",
    "    obj = class_constructor() # noqa F821\n",
    "    ret = obj._get_tags()\n",
    "    type_sklearn_discriminant_analysis_QuadraticDiscriminantAnalysis__get_tags = getattr(ret, '__module__', 'none') + '.' + ret.__class__.__name__\n",
    "    print('✅ sklearn.discriminant_analysis.QuadraticDiscriminantAnalysis._get_tags: ', type(ret)) # noqa E501\n",
    "except Exception as e:\n",
    "    type_sklearn_discriminant_analysis_QuadraticDiscriminantAnalysis__get_tags = '_syft_missing'\n",
    "    print('❌ sklearn.discriminant_analysis.QuadraticDiscriminantAnalysis._get_tags: Return unavailable') # noqa E501\n",
    "    print(\"  Please fix this return type code until there is no exception\")\n",
    "    print('  Error:', e)\n"
   ]
  },
  {
   "cell_type": "code",
   "execution_count": null,
   "id": "frequent-drill",
   "metadata": {},
   "outputs": [],
   "source": [
    "# sklearn.discriminant_analysis.QuadraticDiscriminantAnalysis._more_tags\n",
    "try:\n",
    "    obj = class_constructor() # noqa F821\n",
    "    ret = obj._more_tags()\n",
    "    type_sklearn_discriminant_analysis_QuadraticDiscriminantAnalysis__more_tags = getattr(ret, '__module__', 'none') + '.' + ret.__class__.__name__\n",
    "    print('✅ sklearn.discriminant_analysis.QuadraticDiscriminantAnalysis._more_tags: ', type(ret)) # noqa E501\n",
    "except Exception as e:\n",
    "    type_sklearn_discriminant_analysis_QuadraticDiscriminantAnalysis__more_tags = '_syft_missing'\n",
    "    print('❌ sklearn.discriminant_analysis.QuadraticDiscriminantAnalysis._more_tags: Return unavailable') # noqa E501\n",
    "    print(\"  Please fix this return type code until there is no exception\")\n",
    "    print('  Error:', e)\n"
   ]
  },
  {
   "cell_type": "code",
   "execution_count": null,
   "id": "unexpected-replication",
   "metadata": {},
   "outputs": [],
   "source": [
    "# sklearn.discriminant_analysis.QuadraticDiscriminantAnalysis._repr_html_\n",
    "try:\n",
    "    obj = class_constructor()\n",
    "    ret = obj._repr_html_\n",
    "    type_sklearn_discriminant_analysis_QuadraticDiscriminantAnalysis__repr_html_ = getattr(ret, '__module__', 'none') + '.' + ret.__class__.__name__\n",
    "    print('✅ sklearn.discriminant_analysis.QuadraticDiscriminantAnalysis._repr_html_:', type(ret)) # noqa E501\n",
    "except Exception as e:\n",
    "    type_sklearn_discriminant_analysis_QuadraticDiscriminantAnalysis__repr_html_ = '_syft_missing'\n",
    "    print('❌ sklearn.discriminant_analysis.QuadraticDiscriminantAnalysis._repr_html_: Return unavailable') # noqa E501\n",
    "    print(\"  Please fix this return type code until there is no exception\")\n",
    "    print('  Error:', e)\n"
   ]
  },
  {
   "cell_type": "code",
   "execution_count": null,
   "id": "prescribed-lafayette",
   "metadata": {},
   "outputs": [],
   "source": [
    "# sklearn.discriminant_analysis.QuadraticDiscriminantAnalysis._repr_html_inner\n",
    "try:\n",
    "    obj = class_constructor() # noqa F821\n",
    "    ret = obj._repr_html_inner()\n",
    "    type_sklearn_discriminant_analysis_QuadraticDiscriminantAnalysis__repr_html_inner = getattr(ret, '__module__', 'none') + '.' + ret.__class__.__name__\n",
    "    print('✅ sklearn.discriminant_analysis.QuadraticDiscriminantAnalysis._repr_html_inner: ', type(ret)) # noqa E501\n",
    "except Exception as e:\n",
    "    type_sklearn_discriminant_analysis_QuadraticDiscriminantAnalysis__repr_html_inner = '_syft_missing'\n",
    "    print('❌ sklearn.discriminant_analysis.QuadraticDiscriminantAnalysis._repr_html_inner: Return unavailable') # noqa E501\n",
    "    print(\"  Please fix this return type code until there is no exception\")\n",
    "    print('  Error:', e)\n"
   ]
  },
  {
   "cell_type": "code",
   "execution_count": null,
   "id": "mathematical-example",
   "metadata": {},
   "outputs": [],
   "source": [
    "# sklearn.discriminant_analysis.QuadraticDiscriminantAnalysis._repr_mimebundle_\n",
    "try:\n",
    "    obj = class_constructor() # noqa F821\n",
    "    ret = obj._repr_mimebundle_()\n",
    "    type_sklearn_discriminant_analysis_QuadraticDiscriminantAnalysis__repr_mimebundle_ = getattr(ret, '__module__', 'none') + '.' + ret.__class__.__name__\n",
    "    print('✅ sklearn.discriminant_analysis.QuadraticDiscriminantAnalysis._repr_mimebundle_: ', type(ret)) # noqa E501\n",
    "except Exception as e:\n",
    "    type_sklearn_discriminant_analysis_QuadraticDiscriminantAnalysis__repr_mimebundle_ = '_syft_missing'\n",
    "    print('❌ sklearn.discriminant_analysis.QuadraticDiscriminantAnalysis._repr_mimebundle_: Return unavailable') # noqa E501\n",
    "    print(\"  Please fix this return type code until there is no exception\")\n",
    "    print('  Error:', e)\n"
   ]
  },
  {
   "cell_type": "code",
   "execution_count": null,
   "id": "noble-oasis",
   "metadata": {},
   "outputs": [],
   "source": [
    "# sklearn.discriminant_analysis.QuadraticDiscriminantAnalysis._validate_data\n",
    "try:\n",
    "    obj = class_constructor() # noqa F821\n",
    "    ret = obj._validate_data()\n",
    "    type_sklearn_discriminant_analysis_QuadraticDiscriminantAnalysis__validate_data = getattr(ret, '__module__', 'none') + '.' + ret.__class__.__name__\n",
    "    print('✅ sklearn.discriminant_analysis.QuadraticDiscriminantAnalysis._validate_data: ', type(ret)) # noqa E501\n",
    "except Exception as e:\n",
    "    type_sklearn_discriminant_analysis_QuadraticDiscriminantAnalysis__validate_data = '_syft_missing'\n",
    "    print('❌ sklearn.discriminant_analysis.QuadraticDiscriminantAnalysis._validate_data: Return unavailable') # noqa E501\n",
    "    print(\"  Please fix this return type code until there is no exception\")\n",
    "    print('  Error:', e)\n"
   ]
  },
  {
   "cell_type": "code",
   "execution_count": null,
   "id": "historic-fetish",
   "metadata": {},
   "outputs": [],
   "source": [
    "# sklearn.discriminant_analysis.QuadraticDiscriminantAnalysis.decision_function\n",
    "try:\n",
    "    obj = class_constructor() # noqa F821\n",
    "    ret = obj.decision_function()\n",
    "    type_sklearn_discriminant_analysis_QuadraticDiscriminantAnalysis_decision_function = getattr(ret, '__module__', 'none') + '.' + ret.__class__.__name__\n",
    "    print('✅ sklearn.discriminant_analysis.QuadraticDiscriminantAnalysis.decision_function: ', type(ret)) # noqa E501\n",
    "except Exception as e:\n",
    "    type_sklearn_discriminant_analysis_QuadraticDiscriminantAnalysis_decision_function = '_syft_missing'\n",
    "    print('❌ sklearn.discriminant_analysis.QuadraticDiscriminantAnalysis.decision_function: Return unavailable') # noqa E501\n",
    "    print(\"  Please fix this return type code until there is no exception\")\n",
    "    print('  Error:', e)\n"
   ]
  },
  {
   "cell_type": "code",
   "execution_count": null,
   "id": "nutritional-participation",
   "metadata": {},
   "outputs": [],
   "source": [
    "# sklearn.discriminant_analysis.QuadraticDiscriminantAnalysis.fit\n",
    "try:\n",
    "    obj = class_constructor() # noqa F821\n",
    "    ret = obj.fit()\n",
    "    type_sklearn_discriminant_analysis_QuadraticDiscriminantAnalysis_fit = getattr(ret, '__module__', 'none') + '.' + ret.__class__.__name__\n",
    "    print('✅ sklearn.discriminant_analysis.QuadraticDiscriminantAnalysis.fit: ', type(ret)) # noqa E501\n",
    "except Exception as e:\n",
    "    type_sklearn_discriminant_analysis_QuadraticDiscriminantAnalysis_fit = '_syft_missing'\n",
    "    print('❌ sklearn.discriminant_analysis.QuadraticDiscriminantAnalysis.fit: Return unavailable') # noqa E501\n",
    "    print(\"  Please fix this return type code until there is no exception\")\n",
    "    print('  Error:', e)\n"
   ]
  },
  {
   "cell_type": "code",
   "execution_count": null,
   "id": "organizational-transfer",
   "metadata": {},
   "outputs": [],
   "source": [
    "# sklearn.discriminant_analysis.QuadraticDiscriminantAnalysis.get_params\n",
    "try:\n",
    "    obj = class_constructor() # noqa F821\n",
    "    ret = obj.get_params()\n",
    "    type_sklearn_discriminant_analysis_QuadraticDiscriminantAnalysis_get_params = getattr(ret, '__module__', 'none') + '.' + ret.__class__.__name__\n",
    "    print('✅ sklearn.discriminant_analysis.QuadraticDiscriminantAnalysis.get_params: ', type(ret)) # noqa E501\n",
    "except Exception as e:\n",
    "    type_sklearn_discriminant_analysis_QuadraticDiscriminantAnalysis_get_params = '_syft_missing'\n",
    "    print('❌ sklearn.discriminant_analysis.QuadraticDiscriminantAnalysis.get_params: Return unavailable') # noqa E501\n",
    "    print(\"  Please fix this return type code until there is no exception\")\n",
    "    print('  Error:', e)\n"
   ]
  },
  {
   "cell_type": "code",
   "execution_count": null,
   "id": "supported-blind",
   "metadata": {},
   "outputs": [],
   "source": [
    "# sklearn.discriminant_analysis.QuadraticDiscriminantAnalysis.predict\n",
    "try:\n",
    "    obj = class_constructor() # noqa F821\n",
    "    ret = obj.predict()\n",
    "    type_sklearn_discriminant_analysis_QuadraticDiscriminantAnalysis_predict = getattr(ret, '__module__', 'none') + '.' + ret.__class__.__name__\n",
    "    print('✅ sklearn.discriminant_analysis.QuadraticDiscriminantAnalysis.predict: ', type(ret)) # noqa E501\n",
    "except Exception as e:\n",
    "    type_sklearn_discriminant_analysis_QuadraticDiscriminantAnalysis_predict = '_syft_missing'\n",
    "    print('❌ sklearn.discriminant_analysis.QuadraticDiscriminantAnalysis.predict: Return unavailable') # noqa E501\n",
    "    print(\"  Please fix this return type code until there is no exception\")\n",
    "    print('  Error:', e)\n"
   ]
  },
  {
   "cell_type": "code",
   "execution_count": null,
   "id": "honey-studio",
   "metadata": {},
   "outputs": [],
   "source": [
    "# sklearn.discriminant_analysis.QuadraticDiscriminantAnalysis.predict_log_proba\n",
    "try:\n",
    "    obj = class_constructor() # noqa F821\n",
    "    ret = obj.predict_log_proba()\n",
    "    type_sklearn_discriminant_analysis_QuadraticDiscriminantAnalysis_predict_log_proba = getattr(ret, '__module__', 'none') + '.' + ret.__class__.__name__\n",
    "    print('✅ sklearn.discriminant_analysis.QuadraticDiscriminantAnalysis.predict_log_proba: ', type(ret)) # noqa E501\n",
    "except Exception as e:\n",
    "    type_sklearn_discriminant_analysis_QuadraticDiscriminantAnalysis_predict_log_proba = '_syft_missing'\n",
    "    print('❌ sklearn.discriminant_analysis.QuadraticDiscriminantAnalysis.predict_log_proba: Return unavailable') # noqa E501\n",
    "    print(\"  Please fix this return type code until there is no exception\")\n",
    "    print('  Error:', e)\n"
   ]
  },
  {
   "cell_type": "code",
   "execution_count": null,
   "id": "welsh-light",
   "metadata": {},
   "outputs": [],
   "source": [
    "# sklearn.discriminant_analysis.QuadraticDiscriminantAnalysis.predict_proba\n",
    "try:\n",
    "    obj = class_constructor() # noqa F821\n",
    "    ret = obj.predict_proba()\n",
    "    type_sklearn_discriminant_analysis_QuadraticDiscriminantAnalysis_predict_proba = getattr(ret, '__module__', 'none') + '.' + ret.__class__.__name__\n",
    "    print('✅ sklearn.discriminant_analysis.QuadraticDiscriminantAnalysis.predict_proba: ', type(ret)) # noqa E501\n",
    "except Exception as e:\n",
    "    type_sklearn_discriminant_analysis_QuadraticDiscriminantAnalysis_predict_proba = '_syft_missing'\n",
    "    print('❌ sklearn.discriminant_analysis.QuadraticDiscriminantAnalysis.predict_proba: Return unavailable') # noqa E501\n",
    "    print(\"  Please fix this return type code until there is no exception\")\n",
    "    print('  Error:', e)\n"
   ]
  },
  {
   "cell_type": "code",
   "execution_count": null,
   "id": "dried-stereo",
   "metadata": {},
   "outputs": [],
   "source": [
    "# sklearn.discriminant_analysis.QuadraticDiscriminantAnalysis.score\n",
    "try:\n",
    "    obj = class_constructor() # noqa F821\n",
    "    ret = obj.score()\n",
    "    type_sklearn_discriminant_analysis_QuadraticDiscriminantAnalysis_score = getattr(ret, '__module__', 'none') + '.' + ret.__class__.__name__\n",
    "    print('✅ sklearn.discriminant_analysis.QuadraticDiscriminantAnalysis.score: ', type(ret)) # noqa E501\n",
    "except Exception as e:\n",
    "    type_sklearn_discriminant_analysis_QuadraticDiscriminantAnalysis_score = '_syft_missing'\n",
    "    print('❌ sklearn.discriminant_analysis.QuadraticDiscriminantAnalysis.score: Return unavailable') # noqa E501\n",
    "    print(\"  Please fix this return type code until there is no exception\")\n",
    "    print('  Error:', e)\n"
   ]
  },
  {
   "cell_type": "code",
   "execution_count": null,
   "id": "dutch-lawyer",
   "metadata": {},
   "outputs": [],
   "source": [
    "# sklearn.discriminant_analysis.QuadraticDiscriminantAnalysis.set_params\n",
    "try:\n",
    "    obj = class_constructor() # noqa F821\n",
    "    ret = obj.set_params()\n",
    "    type_sklearn_discriminant_analysis_QuadraticDiscriminantAnalysis_set_params = getattr(ret, '__module__', 'none') + '.' + ret.__class__.__name__\n",
    "    print('✅ sklearn.discriminant_analysis.QuadraticDiscriminantAnalysis.set_params: ', type(ret)) # noqa E501\n",
    "except Exception as e:\n",
    "    type_sklearn_discriminant_analysis_QuadraticDiscriminantAnalysis_set_params = '_syft_missing'\n",
    "    print('❌ sklearn.discriminant_analysis.QuadraticDiscriminantAnalysis.set_params: Return unavailable') # noqa E501\n",
    "    print(\"  Please fix this return type code until there is no exception\")\n",
    "    print('  Error:', e)\n"
   ]
  }
 ],
 "metadata": {},
 "nbformat": 4,
 "nbformat_minor": 5
}
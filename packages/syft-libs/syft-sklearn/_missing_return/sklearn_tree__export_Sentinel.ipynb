{
 "cells": [
  {
   "cell_type": "markdown",
   "id": "animated-telephone",
   "metadata": {},
   "source": [
    "## sklearn.tree._export.Sentinel"
   ]
  },
  {
   "cell_type": "code",
   "execution_count": null,
   "id": "caring-graduation",
   "metadata": {},
   "outputs": [],
   "source": [
    "import sklearn\n",
    "def class_constructor(*args, **kwargs):\n",
    "    obj = sklearn.tree._export.Sentinel()\n",
    "    return obj\n"
   ]
  },
  {
   "cell_type": "code",
   "execution_count": null,
   "id": "increased-revolution",
   "metadata": {},
   "outputs": [],
   "source": [
    "# sklearn.tree._export.Sentinel.__repr__\n",
    "try:\n",
    "    obj = class_constructor() # noqa F821\n",
    "    ret = obj.__repr__()\n",
    "    type_sklearn_tree__export_Sentinel___repr__ = getattr(ret, '__module__', 'none') + '.' + ret.__class__.__name__\n",
    "    print('✅ sklearn.tree._export.Sentinel.__repr__: ', type(ret)) # noqa E501\n",
    "except Exception as e:\n",
    "    type_sklearn_tree__export_Sentinel___repr__ = '_syft_missing'\n",
    "    print('❌ sklearn.tree._export.Sentinel.__repr__: Return unavailable') # noqa E501\n",
    "    print(\"  Please fix this return type code until there is no exception\")\n",
    "    print('  Error:', e)\n"
   ]
  }
 ],
 "metadata": {},
 "nbformat": 4,
 "nbformat_minor": 5
}
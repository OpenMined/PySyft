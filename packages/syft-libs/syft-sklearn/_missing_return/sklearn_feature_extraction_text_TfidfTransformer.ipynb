{
 "cells": [
  {
   "cell_type": "markdown",
   "id": "elementary-compilation",
   "metadata": {},
   "source": [
    "## sklearn.feature_extraction.text.TfidfTransformer"
   ]
  },
  {
   "cell_type": "code",
   "execution_count": null,
   "id": "liberal-plain",
   "metadata": {},
   "outputs": [],
   "source": [
    "import sklearn\n",
    "def class_constructor(*args, **kwargs):\n",
    "    obj = sklearn.feature_extraction.text.TfidfTransformer()\n",
    "    return obj\n"
   ]
  },
  {
   "cell_type": "code",
   "execution_count": null,
   "id": "greek-seller",
   "metadata": {},
   "outputs": [],
   "source": [
    "# sklearn.feature_extraction.text.TfidfTransformer.__getstate__\n",
    "try:\n",
    "    obj = class_constructor() # noqa F821\n",
    "    ret = obj.__getstate__()\n",
    "    type_sklearn_feature_extraction_text_TfidfTransformer___getstate__ = getattr(ret, '__module__', 'none') + '.' + ret.__class__.__name__\n",
    "    print('✅ sklearn.feature_extraction.text.TfidfTransformer.__getstate__: ', type(ret)) # noqa E501\n",
    "except Exception as e:\n",
    "    type_sklearn_feature_extraction_text_TfidfTransformer___getstate__ = '_syft_missing'\n",
    "    print('❌ sklearn.feature_extraction.text.TfidfTransformer.__getstate__: Return unavailable') # noqa E501\n",
    "    print(\"  Please fix this return type code until there is no exception\")\n",
    "    print('  Error:', e)\n"
   ]
  },
  {
   "cell_type": "code",
   "execution_count": null,
   "id": "enabling-phase",
   "metadata": {},
   "outputs": [],
   "source": [
    "# sklearn.feature_extraction.text.TfidfTransformer.__repr__\n",
    "try:\n",
    "    obj = class_constructor() # noqa F821\n",
    "    ret = obj.__repr__()\n",
    "    type_sklearn_feature_extraction_text_TfidfTransformer___repr__ = getattr(ret, '__module__', 'none') + '.' + ret.__class__.__name__\n",
    "    print('✅ sklearn.feature_extraction.text.TfidfTransformer.__repr__: ', type(ret)) # noqa E501\n",
    "except Exception as e:\n",
    "    type_sklearn_feature_extraction_text_TfidfTransformer___repr__ = '_syft_missing'\n",
    "    print('❌ sklearn.feature_extraction.text.TfidfTransformer.__repr__: Return unavailable') # noqa E501\n",
    "    print(\"  Please fix this return type code until there is no exception\")\n",
    "    print('  Error:', e)\n"
   ]
  },
  {
   "cell_type": "code",
   "execution_count": null,
   "id": "controversial-clinic",
   "metadata": {},
   "outputs": [],
   "source": [
    "# sklearn.feature_extraction.text.TfidfTransformer.__setstate__\n",
    "try:\n",
    "    obj = class_constructor() # noqa F821\n",
    "    ret = obj.__setstate__()\n",
    "    type_sklearn_feature_extraction_text_TfidfTransformer___setstate__ = getattr(ret, '__module__', 'none') + '.' + ret.__class__.__name__\n",
    "    print('✅ sklearn.feature_extraction.text.TfidfTransformer.__setstate__: ', type(ret)) # noqa E501\n",
    "except Exception as e:\n",
    "    type_sklearn_feature_extraction_text_TfidfTransformer___setstate__ = '_syft_missing'\n",
    "    print('❌ sklearn.feature_extraction.text.TfidfTransformer.__setstate__: Return unavailable') # noqa E501\n",
    "    print(\"  Please fix this return type code until there is no exception\")\n",
    "    print('  Error:', e)\n"
   ]
  },
  {
   "cell_type": "code",
   "execution_count": null,
   "id": "dressed-estimate",
   "metadata": {},
   "outputs": [],
   "source": [
    "# sklearn.feature_extraction.text.TfidfTransformer._check_n_features\n",
    "try:\n",
    "    obj = class_constructor() # noqa F821\n",
    "    ret = obj._check_n_features()\n",
    "    type_sklearn_feature_extraction_text_TfidfTransformer__check_n_features = getattr(ret, '__module__', 'none') + '.' + ret.__class__.__name__\n",
    "    print('✅ sklearn.feature_extraction.text.TfidfTransformer._check_n_features: ', type(ret)) # noqa E501\n",
    "except Exception as e:\n",
    "    type_sklearn_feature_extraction_text_TfidfTransformer__check_n_features = '_syft_missing'\n",
    "    print('❌ sklearn.feature_extraction.text.TfidfTransformer._check_n_features: Return unavailable') # noqa E501\n",
    "    print(\"  Please fix this return type code until there is no exception\")\n",
    "    print('  Error:', e)\n"
   ]
  },
  {
   "cell_type": "code",
   "execution_count": null,
   "id": "rolled-assembly",
   "metadata": {},
   "outputs": [],
   "source": [
    "# sklearn.feature_extraction.text.TfidfTransformer._get_param_names\n",
    "try:\n",
    "    obj = class_constructor() # noqa F821\n",
    "    ret = obj._get_param_names()\n",
    "    type_sklearn_feature_extraction_text_TfidfTransformer__get_param_names = getattr(ret, '__module__', 'none') + '.' + ret.__class__.__name__\n",
    "    print('✅ sklearn.feature_extraction.text.TfidfTransformer._get_param_names: ', type(ret)) # noqa E501\n",
    "except Exception as e:\n",
    "    type_sklearn_feature_extraction_text_TfidfTransformer__get_param_names = '_syft_missing'\n",
    "    print('❌ sklearn.feature_extraction.text.TfidfTransformer._get_param_names: Return unavailable') # noqa E501\n",
    "    print(\"  Please fix this return type code until there is no exception\")\n",
    "    print('  Error:', e)\n"
   ]
  },
  {
   "cell_type": "code",
   "execution_count": null,
   "id": "formed-second",
   "metadata": {},
   "outputs": [],
   "source": [
    "# sklearn.feature_extraction.text.TfidfTransformer._get_tags\n",
    "try:\n",
    "    obj = class_constructor() # noqa F821\n",
    "    ret = obj._get_tags()\n",
    "    type_sklearn_feature_extraction_text_TfidfTransformer__get_tags = getattr(ret, '__module__', 'none') + '.' + ret.__class__.__name__\n",
    "    print('✅ sklearn.feature_extraction.text.TfidfTransformer._get_tags: ', type(ret)) # noqa E501\n",
    "except Exception as e:\n",
    "    type_sklearn_feature_extraction_text_TfidfTransformer__get_tags = '_syft_missing'\n",
    "    print('❌ sklearn.feature_extraction.text.TfidfTransformer._get_tags: Return unavailable') # noqa E501\n",
    "    print(\"  Please fix this return type code until there is no exception\")\n",
    "    print('  Error:', e)\n"
   ]
  },
  {
   "cell_type": "code",
   "execution_count": null,
   "id": "congressional-accreditation",
   "metadata": {},
   "outputs": [],
   "source": [
    "# sklearn.feature_extraction.text.TfidfTransformer._more_tags\n",
    "try:\n",
    "    obj = class_constructor() # noqa F821\n",
    "    ret = obj._more_tags()\n",
    "    type_sklearn_feature_extraction_text_TfidfTransformer__more_tags = getattr(ret, '__module__', 'none') + '.' + ret.__class__.__name__\n",
    "    print('✅ sklearn.feature_extraction.text.TfidfTransformer._more_tags: ', type(ret)) # noqa E501\n",
    "except Exception as e:\n",
    "    type_sklearn_feature_extraction_text_TfidfTransformer__more_tags = '_syft_missing'\n",
    "    print('❌ sklearn.feature_extraction.text.TfidfTransformer._more_tags: Return unavailable') # noqa E501\n",
    "    print(\"  Please fix this return type code until there is no exception\")\n",
    "    print('  Error:', e)\n"
   ]
  },
  {
   "cell_type": "code",
   "execution_count": null,
   "id": "italic-reasoning",
   "metadata": {},
   "outputs": [],
   "source": [
    "# sklearn.feature_extraction.text.TfidfTransformer._repr_html_\n",
    "try:\n",
    "    obj = class_constructor()\n",
    "    ret = obj._repr_html_\n",
    "    type_sklearn_feature_extraction_text_TfidfTransformer__repr_html_ = getattr(ret, '__module__', 'none') + '.' + ret.__class__.__name__\n",
    "    print('✅ sklearn.feature_extraction.text.TfidfTransformer._repr_html_:', type(ret)) # noqa E501\n",
    "except Exception as e:\n",
    "    type_sklearn_feature_extraction_text_TfidfTransformer__repr_html_ = '_syft_missing'\n",
    "    print('❌ sklearn.feature_extraction.text.TfidfTransformer._repr_html_: Return unavailable') # noqa E501\n",
    "    print(\"  Please fix this return type code until there is no exception\")\n",
    "    print('  Error:', e)\n"
   ]
  },
  {
   "cell_type": "code",
   "execution_count": null,
   "id": "recognized-solid",
   "metadata": {},
   "outputs": [],
   "source": [
    "# sklearn.feature_extraction.text.TfidfTransformer._repr_html_inner\n",
    "try:\n",
    "    obj = class_constructor() # noqa F821\n",
    "    ret = obj._repr_html_inner()\n",
    "    type_sklearn_feature_extraction_text_TfidfTransformer__repr_html_inner = getattr(ret, '__module__', 'none') + '.' + ret.__class__.__name__\n",
    "    print('✅ sklearn.feature_extraction.text.TfidfTransformer._repr_html_inner: ', type(ret)) # noqa E501\n",
    "except Exception as e:\n",
    "    type_sklearn_feature_extraction_text_TfidfTransformer__repr_html_inner = '_syft_missing'\n",
    "    print('❌ sklearn.feature_extraction.text.TfidfTransformer._repr_html_inner: Return unavailable') # noqa E501\n",
    "    print(\"  Please fix this return type code until there is no exception\")\n",
    "    print('  Error:', e)\n"
   ]
  },
  {
   "cell_type": "code",
   "execution_count": null,
   "id": "dependent-confidentiality",
   "metadata": {},
   "outputs": [],
   "source": [
    "# sklearn.feature_extraction.text.TfidfTransformer._repr_mimebundle_\n",
    "try:\n",
    "    obj = class_constructor() # noqa F821\n",
    "    ret = obj._repr_mimebundle_()\n",
    "    type_sklearn_feature_extraction_text_TfidfTransformer__repr_mimebundle_ = getattr(ret, '__module__', 'none') + '.' + ret.__class__.__name__\n",
    "    print('✅ sklearn.feature_extraction.text.TfidfTransformer._repr_mimebundle_: ', type(ret)) # noqa E501\n",
    "except Exception as e:\n",
    "    type_sklearn_feature_extraction_text_TfidfTransformer__repr_mimebundle_ = '_syft_missing'\n",
    "    print('❌ sklearn.feature_extraction.text.TfidfTransformer._repr_mimebundle_: Return unavailable') # noqa E501\n",
    "    print(\"  Please fix this return type code until there is no exception\")\n",
    "    print('  Error:', e)\n"
   ]
  },
  {
   "cell_type": "code",
   "execution_count": null,
   "id": "personal-consensus",
   "metadata": {},
   "outputs": [],
   "source": [
    "# sklearn.feature_extraction.text.TfidfTransformer._validate_data\n",
    "try:\n",
    "    obj = class_constructor() # noqa F821\n",
    "    ret = obj._validate_data()\n",
    "    type_sklearn_feature_extraction_text_TfidfTransformer__validate_data = getattr(ret, '__module__', 'none') + '.' + ret.__class__.__name__\n",
    "    print('✅ sklearn.feature_extraction.text.TfidfTransformer._validate_data: ', type(ret)) # noqa E501\n",
    "except Exception as e:\n",
    "    type_sklearn_feature_extraction_text_TfidfTransformer__validate_data = '_syft_missing'\n",
    "    print('❌ sklearn.feature_extraction.text.TfidfTransformer._validate_data: Return unavailable') # noqa E501\n",
    "    print(\"  Please fix this return type code until there is no exception\")\n",
    "    print('  Error:', e)\n"
   ]
  },
  {
   "cell_type": "code",
   "execution_count": null,
   "id": "aging-calculator",
   "metadata": {},
   "outputs": [],
   "source": [
    "# sklearn.feature_extraction.text.TfidfTransformer.fit\n",
    "try:\n",
    "    obj = class_constructor() # noqa F821\n",
    "    ret = obj.fit()\n",
    "    type_sklearn_feature_extraction_text_TfidfTransformer_fit = getattr(ret, '__module__', 'none') + '.' + ret.__class__.__name__\n",
    "    print('✅ sklearn.feature_extraction.text.TfidfTransformer.fit: ', type(ret)) # noqa E501\n",
    "except Exception as e:\n",
    "    type_sklearn_feature_extraction_text_TfidfTransformer_fit = '_syft_missing'\n",
    "    print('❌ sklearn.feature_extraction.text.TfidfTransformer.fit: Return unavailable') # noqa E501\n",
    "    print(\"  Please fix this return type code until there is no exception\")\n",
    "    print('  Error:', e)\n"
   ]
  },
  {
   "cell_type": "code",
   "execution_count": null,
   "id": "sought-horse",
   "metadata": {},
   "outputs": [],
   "source": [
    "# sklearn.feature_extraction.text.TfidfTransformer.fit_transform\n",
    "try:\n",
    "    obj = class_constructor() # noqa F821\n",
    "    ret = obj.fit_transform()\n",
    "    type_sklearn_feature_extraction_text_TfidfTransformer_fit_transform = getattr(ret, '__module__', 'none') + '.' + ret.__class__.__name__\n",
    "    print('✅ sklearn.feature_extraction.text.TfidfTransformer.fit_transform: ', type(ret)) # noqa E501\n",
    "except Exception as e:\n",
    "    type_sklearn_feature_extraction_text_TfidfTransformer_fit_transform = '_syft_missing'\n",
    "    print('❌ sklearn.feature_extraction.text.TfidfTransformer.fit_transform: Return unavailable') # noqa E501\n",
    "    print(\"  Please fix this return type code until there is no exception\")\n",
    "    print('  Error:', e)\n"
   ]
  },
  {
   "cell_type": "code",
   "execution_count": null,
   "id": "curious-direction",
   "metadata": {},
   "outputs": [],
   "source": [
    "# sklearn.feature_extraction.text.TfidfTransformer.get_params\n",
    "try:\n",
    "    obj = class_constructor() # noqa F821\n",
    "    ret = obj.get_params()\n",
    "    type_sklearn_feature_extraction_text_TfidfTransformer_get_params = getattr(ret, '__module__', 'none') + '.' + ret.__class__.__name__\n",
    "    print('✅ sklearn.feature_extraction.text.TfidfTransformer.get_params: ', type(ret)) # noqa E501\n",
    "except Exception as e:\n",
    "    type_sklearn_feature_extraction_text_TfidfTransformer_get_params = '_syft_missing'\n",
    "    print('❌ sklearn.feature_extraction.text.TfidfTransformer.get_params: Return unavailable') # noqa E501\n",
    "    print(\"  Please fix this return type code until there is no exception\")\n",
    "    print('  Error:', e)\n"
   ]
  },
  {
   "cell_type": "code",
   "execution_count": null,
   "id": "sustainable-stake",
   "metadata": {},
   "outputs": [],
   "source": [
    "# sklearn.feature_extraction.text.TfidfTransformer.idf_\n",
    "try:\n",
    "    obj = class_constructor()\n",
    "    ret = obj.idf_\n",
    "    type_sklearn_feature_extraction_text_TfidfTransformer_idf_ = getattr(ret, '__module__', 'none') + '.' + ret.__class__.__name__\n",
    "    print('✅ sklearn.feature_extraction.text.TfidfTransformer.idf_:', type(ret)) # noqa E501\n",
    "except Exception as e:\n",
    "    type_sklearn_feature_extraction_text_TfidfTransformer_idf_ = '_syft_missing'\n",
    "    print('❌ sklearn.feature_extraction.text.TfidfTransformer.idf_: Return unavailable') # noqa E501\n",
    "    print(\"  Please fix this return type code until there is no exception\")\n",
    "    print('  Error:', e)\n"
   ]
  },
  {
   "cell_type": "code",
   "execution_count": null,
   "id": "million-carol",
   "metadata": {},
   "outputs": [],
   "source": [
    "# sklearn.feature_extraction.text.TfidfTransformer.set_params\n",
    "try:\n",
    "    obj = class_constructor() # noqa F821\n",
    "    ret = obj.set_params()\n",
    "    type_sklearn_feature_extraction_text_TfidfTransformer_set_params = getattr(ret, '__module__', 'none') + '.' + ret.__class__.__name__\n",
    "    print('✅ sklearn.feature_extraction.text.TfidfTransformer.set_params: ', type(ret)) # noqa E501\n",
    "except Exception as e:\n",
    "    type_sklearn_feature_extraction_text_TfidfTransformer_set_params = '_syft_missing'\n",
    "    print('❌ sklearn.feature_extraction.text.TfidfTransformer.set_params: Return unavailable') # noqa E501\n",
    "    print(\"  Please fix this return type code until there is no exception\")\n",
    "    print('  Error:', e)\n"
   ]
  },
  {
   "cell_type": "code",
   "execution_count": null,
   "id": "powerful-blond",
   "metadata": {},
   "outputs": [],
   "source": [
    "# sklearn.feature_extraction.text.TfidfTransformer.transform\n",
    "try:\n",
    "    obj = class_constructor() # noqa F821\n",
    "    ret = obj.transform()\n",
    "    type_sklearn_feature_extraction_text_TfidfTransformer_transform = getattr(ret, '__module__', 'none') + '.' + ret.__class__.__name__\n",
    "    print('✅ sklearn.feature_extraction.text.TfidfTransformer.transform: ', type(ret)) # noqa E501\n",
    "except Exception as e:\n",
    "    type_sklearn_feature_extraction_text_TfidfTransformer_transform = '_syft_missing'\n",
    "    print('❌ sklearn.feature_extraction.text.TfidfTransformer.transform: Return unavailable') # noqa E501\n",
    "    print(\"  Please fix this return type code until there is no exception\")\n",
    "    print('  Error:', e)\n"
   ]
  }
 ],
 "metadata": {},
 "nbformat": 4,
 "nbformat_minor": 5
}
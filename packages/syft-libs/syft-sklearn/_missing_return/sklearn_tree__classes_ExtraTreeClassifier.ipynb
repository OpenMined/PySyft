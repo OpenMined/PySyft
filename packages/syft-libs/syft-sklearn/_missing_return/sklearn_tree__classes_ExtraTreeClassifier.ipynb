{
 "cells": [
  {
   "cell_type": "markdown",
   "id": "national-contents",
   "metadata": {},
   "source": [
    "## sklearn.tree._classes.ExtraTreeClassifier"
   ]
  },
  {
   "cell_type": "code",
   "execution_count": null,
   "id": "canadian-serbia",
   "metadata": {},
   "outputs": [],
   "source": [
    "import sklearn\n",
    "def class_constructor(*args, **kwargs):\n",
    "    obj = sklearn.tree._classes.ExtraTreeClassifier()\n",
    "    return obj\n"
   ]
  },
  {
   "cell_type": "code",
   "execution_count": null,
   "id": "floppy-wonder",
   "metadata": {},
   "outputs": [],
   "source": [
    "# sklearn.tree._classes.ExtraTreeClassifier.__getstate__\n",
    "try:\n",
    "    obj = class_constructor() # noqa F821\n",
    "    ret = obj.__getstate__()\n",
    "    type_sklearn_tree__classes_ExtraTreeClassifier___getstate__ = getattr(ret, '__module__', 'none') + '.' + ret.__class__.__name__\n",
    "    print('✅ sklearn.tree._classes.ExtraTreeClassifier.__getstate__: ', type(ret)) # noqa E501\n",
    "except Exception as e:\n",
    "    type_sklearn_tree__classes_ExtraTreeClassifier___getstate__ = '_syft_missing'\n",
    "    print('❌ sklearn.tree._classes.ExtraTreeClassifier.__getstate__: Return unavailable') # noqa E501\n",
    "    print(\"  Please fix this return type code until there is no exception\")\n",
    "    print('  Error:', e)\n"
   ]
  },
  {
   "cell_type": "code",
   "execution_count": null,
   "id": "juvenile-basics",
   "metadata": {},
   "outputs": [],
   "source": [
    "# sklearn.tree._classes.ExtraTreeClassifier.__repr__\n",
    "try:\n",
    "    obj = class_constructor() # noqa F821\n",
    "    ret = obj.__repr__()\n",
    "    type_sklearn_tree__classes_ExtraTreeClassifier___repr__ = getattr(ret, '__module__', 'none') + '.' + ret.__class__.__name__\n",
    "    print('✅ sklearn.tree._classes.ExtraTreeClassifier.__repr__: ', type(ret)) # noqa E501\n",
    "except Exception as e:\n",
    "    type_sklearn_tree__classes_ExtraTreeClassifier___repr__ = '_syft_missing'\n",
    "    print('❌ sklearn.tree._classes.ExtraTreeClassifier.__repr__: Return unavailable') # noqa E501\n",
    "    print(\"  Please fix this return type code until there is no exception\")\n",
    "    print('  Error:', e)\n"
   ]
  },
  {
   "cell_type": "code",
   "execution_count": null,
   "id": "waiting-testament",
   "metadata": {},
   "outputs": [],
   "source": [
    "# sklearn.tree._classes.ExtraTreeClassifier.__setstate__\n",
    "try:\n",
    "    obj = class_constructor() # noqa F821\n",
    "    ret = obj.__setstate__()\n",
    "    type_sklearn_tree__classes_ExtraTreeClassifier___setstate__ = getattr(ret, '__module__', 'none') + '.' + ret.__class__.__name__\n",
    "    print('✅ sklearn.tree._classes.ExtraTreeClassifier.__setstate__: ', type(ret)) # noqa E501\n",
    "except Exception as e:\n",
    "    type_sklearn_tree__classes_ExtraTreeClassifier___setstate__ = '_syft_missing'\n",
    "    print('❌ sklearn.tree._classes.ExtraTreeClassifier.__setstate__: Return unavailable') # noqa E501\n",
    "    print(\"  Please fix this return type code until there is no exception\")\n",
    "    print('  Error:', e)\n"
   ]
  },
  {
   "cell_type": "code",
   "execution_count": null,
   "id": "frank-verse",
   "metadata": {},
   "outputs": [],
   "source": [
    "# sklearn.tree._classes.ExtraTreeClassifier._check_n_features\n",
    "try:\n",
    "    obj = class_constructor() # noqa F821\n",
    "    ret = obj._check_n_features()\n",
    "    type_sklearn_tree__classes_ExtraTreeClassifier__check_n_features = getattr(ret, '__module__', 'none') + '.' + ret.__class__.__name__\n",
    "    print('✅ sklearn.tree._classes.ExtraTreeClassifier._check_n_features: ', type(ret)) # noqa E501\n",
    "except Exception as e:\n",
    "    type_sklearn_tree__classes_ExtraTreeClassifier__check_n_features = '_syft_missing'\n",
    "    print('❌ sklearn.tree._classes.ExtraTreeClassifier._check_n_features: Return unavailable') # noqa E501\n",
    "    print(\"  Please fix this return type code until there is no exception\")\n",
    "    print('  Error:', e)\n"
   ]
  },
  {
   "cell_type": "code",
   "execution_count": null,
   "id": "daily-replica",
   "metadata": {},
   "outputs": [],
   "source": [
    "# sklearn.tree._classes.ExtraTreeClassifier._get_param_names\n",
    "try:\n",
    "    obj = class_constructor() # noqa F821\n",
    "    ret = obj._get_param_names()\n",
    "    type_sklearn_tree__classes_ExtraTreeClassifier__get_param_names = getattr(ret, '__module__', 'none') + '.' + ret.__class__.__name__\n",
    "    print('✅ sklearn.tree._classes.ExtraTreeClassifier._get_param_names: ', type(ret)) # noqa E501\n",
    "except Exception as e:\n",
    "    type_sklearn_tree__classes_ExtraTreeClassifier__get_param_names = '_syft_missing'\n",
    "    print('❌ sklearn.tree._classes.ExtraTreeClassifier._get_param_names: Return unavailable') # noqa E501\n",
    "    print(\"  Please fix this return type code until there is no exception\")\n",
    "    print('  Error:', e)\n"
   ]
  },
  {
   "cell_type": "code",
   "execution_count": null,
   "id": "solar-stations",
   "metadata": {},
   "outputs": [],
   "source": [
    "# sklearn.tree._classes.ExtraTreeClassifier._get_tags\n",
    "try:\n",
    "    obj = class_constructor() # noqa F821\n",
    "    ret = obj._get_tags()\n",
    "    type_sklearn_tree__classes_ExtraTreeClassifier__get_tags = getattr(ret, '__module__', 'none') + '.' + ret.__class__.__name__\n",
    "    print('✅ sklearn.tree._classes.ExtraTreeClassifier._get_tags: ', type(ret)) # noqa E501\n",
    "except Exception as e:\n",
    "    type_sklearn_tree__classes_ExtraTreeClassifier__get_tags = '_syft_missing'\n",
    "    print('❌ sklearn.tree._classes.ExtraTreeClassifier._get_tags: Return unavailable') # noqa E501\n",
    "    print(\"  Please fix this return type code until there is no exception\")\n",
    "    print('  Error:', e)\n"
   ]
  },
  {
   "cell_type": "code",
   "execution_count": null,
   "id": "increasing-behavior",
   "metadata": {},
   "outputs": [],
   "source": [
    "# sklearn.tree._classes.ExtraTreeClassifier._more_tags\n",
    "try:\n",
    "    obj = class_constructor() # noqa F821\n",
    "    ret = obj._more_tags()\n",
    "    type_sklearn_tree__classes_ExtraTreeClassifier__more_tags = getattr(ret, '__module__', 'none') + '.' + ret.__class__.__name__\n",
    "    print('✅ sklearn.tree._classes.ExtraTreeClassifier._more_tags: ', type(ret)) # noqa E501\n",
    "except Exception as e:\n",
    "    type_sklearn_tree__classes_ExtraTreeClassifier__more_tags = '_syft_missing'\n",
    "    print('❌ sklearn.tree._classes.ExtraTreeClassifier._more_tags: Return unavailable') # noqa E501\n",
    "    print(\"  Please fix this return type code until there is no exception\")\n",
    "    print('  Error:', e)\n"
   ]
  },
  {
   "cell_type": "code",
   "execution_count": null,
   "id": "complicated-monroe",
   "metadata": {},
   "outputs": [],
   "source": [
    "# sklearn.tree._classes.ExtraTreeClassifier._prune_tree\n",
    "try:\n",
    "    obj = class_constructor() # noqa F821\n",
    "    ret = obj._prune_tree()\n",
    "    type_sklearn_tree__classes_ExtraTreeClassifier__prune_tree = getattr(ret, '__module__', 'none') + '.' + ret.__class__.__name__\n",
    "    print('✅ sklearn.tree._classes.ExtraTreeClassifier._prune_tree: ', type(ret)) # noqa E501\n",
    "except Exception as e:\n",
    "    type_sklearn_tree__classes_ExtraTreeClassifier__prune_tree = '_syft_missing'\n",
    "    print('❌ sklearn.tree._classes.ExtraTreeClassifier._prune_tree: Return unavailable') # noqa E501\n",
    "    print(\"  Please fix this return type code until there is no exception\")\n",
    "    print('  Error:', e)\n"
   ]
  },
  {
   "cell_type": "code",
   "execution_count": null,
   "id": "passing-hudson",
   "metadata": {},
   "outputs": [],
   "source": [
    "# sklearn.tree._classes.ExtraTreeClassifier._repr_html_\n",
    "try:\n",
    "    obj = class_constructor()\n",
    "    ret = obj._repr_html_\n",
    "    type_sklearn_tree__classes_ExtraTreeClassifier__repr_html_ = getattr(ret, '__module__', 'none') + '.' + ret.__class__.__name__\n",
    "    print('✅ sklearn.tree._classes.ExtraTreeClassifier._repr_html_:', type(ret)) # noqa E501\n",
    "except Exception as e:\n",
    "    type_sklearn_tree__classes_ExtraTreeClassifier__repr_html_ = '_syft_missing'\n",
    "    print('❌ sklearn.tree._classes.ExtraTreeClassifier._repr_html_: Return unavailable') # noqa E501\n",
    "    print(\"  Please fix this return type code until there is no exception\")\n",
    "    print('  Error:', e)\n"
   ]
  },
  {
   "cell_type": "code",
   "execution_count": null,
   "id": "architectural-patrick",
   "metadata": {},
   "outputs": [],
   "source": [
    "# sklearn.tree._classes.ExtraTreeClassifier._repr_html_inner\n",
    "try:\n",
    "    obj = class_constructor() # noqa F821\n",
    "    ret = obj._repr_html_inner()\n",
    "    type_sklearn_tree__classes_ExtraTreeClassifier__repr_html_inner = getattr(ret, '__module__', 'none') + '.' + ret.__class__.__name__\n",
    "    print('✅ sklearn.tree._classes.ExtraTreeClassifier._repr_html_inner: ', type(ret)) # noqa E501\n",
    "except Exception as e:\n",
    "    type_sklearn_tree__classes_ExtraTreeClassifier__repr_html_inner = '_syft_missing'\n",
    "    print('❌ sklearn.tree._classes.ExtraTreeClassifier._repr_html_inner: Return unavailable') # noqa E501\n",
    "    print(\"  Please fix this return type code until there is no exception\")\n",
    "    print('  Error:', e)\n"
   ]
  },
  {
   "cell_type": "code",
   "execution_count": null,
   "id": "directed-journalist",
   "metadata": {},
   "outputs": [],
   "source": [
    "# sklearn.tree._classes.ExtraTreeClassifier._repr_mimebundle_\n",
    "try:\n",
    "    obj = class_constructor() # noqa F821\n",
    "    ret = obj._repr_mimebundle_()\n",
    "    type_sklearn_tree__classes_ExtraTreeClassifier__repr_mimebundle_ = getattr(ret, '__module__', 'none') + '.' + ret.__class__.__name__\n",
    "    print('✅ sklearn.tree._classes.ExtraTreeClassifier._repr_mimebundle_: ', type(ret)) # noqa E501\n",
    "except Exception as e:\n",
    "    type_sklearn_tree__classes_ExtraTreeClassifier__repr_mimebundle_ = '_syft_missing'\n",
    "    print('❌ sklearn.tree._classes.ExtraTreeClassifier._repr_mimebundle_: Return unavailable') # noqa E501\n",
    "    print(\"  Please fix this return type code until there is no exception\")\n",
    "    print('  Error:', e)\n"
   ]
  },
  {
   "cell_type": "code",
   "execution_count": null,
   "id": "exterior-wrong",
   "metadata": {},
   "outputs": [],
   "source": [
    "# sklearn.tree._classes.ExtraTreeClassifier._validate_X_predict\n",
    "try:\n",
    "    obj = class_constructor() # noqa F821\n",
    "    ret = obj._validate_X_predict()\n",
    "    type_sklearn_tree__classes_ExtraTreeClassifier__validate_X_predict = getattr(ret, '__module__', 'none') + '.' + ret.__class__.__name__\n",
    "    print('✅ sklearn.tree._classes.ExtraTreeClassifier._validate_X_predict: ', type(ret)) # noqa E501\n",
    "except Exception as e:\n",
    "    type_sklearn_tree__classes_ExtraTreeClassifier__validate_X_predict = '_syft_missing'\n",
    "    print('❌ sklearn.tree._classes.ExtraTreeClassifier._validate_X_predict: Return unavailable') # noqa E501\n",
    "    print(\"  Please fix this return type code until there is no exception\")\n",
    "    print('  Error:', e)\n"
   ]
  },
  {
   "cell_type": "code",
   "execution_count": null,
   "id": "powered-default",
   "metadata": {},
   "outputs": [],
   "source": [
    "# sklearn.tree._classes.ExtraTreeClassifier._validate_data\n",
    "try:\n",
    "    obj = class_constructor() # noqa F821\n",
    "    ret = obj._validate_data()\n",
    "    type_sklearn_tree__classes_ExtraTreeClassifier__validate_data = getattr(ret, '__module__', 'none') + '.' + ret.__class__.__name__\n",
    "    print('✅ sklearn.tree._classes.ExtraTreeClassifier._validate_data: ', type(ret)) # noqa E501\n",
    "except Exception as e:\n",
    "    type_sklearn_tree__classes_ExtraTreeClassifier__validate_data = '_syft_missing'\n",
    "    print('❌ sklearn.tree._classes.ExtraTreeClassifier._validate_data: Return unavailable') # noqa E501\n",
    "    print(\"  Please fix this return type code until there is no exception\")\n",
    "    print('  Error:', e)\n"
   ]
  },
  {
   "cell_type": "code",
   "execution_count": null,
   "id": "aggregate-front",
   "metadata": {},
   "outputs": [],
   "source": [
    "# sklearn.tree._classes.ExtraTreeClassifier.apply\n",
    "try:\n",
    "    obj = class_constructor() # noqa F821\n",
    "    ret = obj.apply()\n",
    "    type_sklearn_tree__classes_ExtraTreeClassifier_apply = getattr(ret, '__module__', 'none') + '.' + ret.__class__.__name__\n",
    "    print('✅ sklearn.tree._classes.ExtraTreeClassifier.apply: ', type(ret)) # noqa E501\n",
    "except Exception as e:\n",
    "    type_sklearn_tree__classes_ExtraTreeClassifier_apply = '_syft_missing'\n",
    "    print('❌ sklearn.tree._classes.ExtraTreeClassifier.apply: Return unavailable') # noqa E501\n",
    "    print(\"  Please fix this return type code until there is no exception\")\n",
    "    print('  Error:', e)\n"
   ]
  },
  {
   "cell_type": "code",
   "execution_count": null,
   "id": "material-depression",
   "metadata": {},
   "outputs": [],
   "source": [
    "# sklearn.tree._classes.ExtraTreeClassifier.cost_complexity_pruning_path\n",
    "try:\n",
    "    obj = class_constructor() # noqa F821\n",
    "    ret = obj.cost_complexity_pruning_path()\n",
    "    type_sklearn_tree__classes_ExtraTreeClassifier_cost_complexity_pruning_path = getattr(ret, '__module__', 'none') + '.' + ret.__class__.__name__\n",
    "    print('✅ sklearn.tree._classes.ExtraTreeClassifier.cost_complexity_pruning_path: ', type(ret)) # noqa E501\n",
    "except Exception as e:\n",
    "    type_sklearn_tree__classes_ExtraTreeClassifier_cost_complexity_pruning_path = '_syft_missing'\n",
    "    print('❌ sklearn.tree._classes.ExtraTreeClassifier.cost_complexity_pruning_path: Return unavailable') # noqa E501\n",
    "    print(\"  Please fix this return type code until there is no exception\")\n",
    "    print('  Error:', e)\n"
   ]
  },
  {
   "cell_type": "code",
   "execution_count": null,
   "id": "running-halloween",
   "metadata": {},
   "outputs": [],
   "source": [
    "# sklearn.tree._classes.ExtraTreeClassifier.decision_path\n",
    "try:\n",
    "    obj = class_constructor() # noqa F821\n",
    "    ret = obj.decision_path()\n",
    "    type_sklearn_tree__classes_ExtraTreeClassifier_decision_path = getattr(ret, '__module__', 'none') + '.' + ret.__class__.__name__\n",
    "    print('✅ sklearn.tree._classes.ExtraTreeClassifier.decision_path: ', type(ret)) # noqa E501\n",
    "except Exception as e:\n",
    "    type_sklearn_tree__classes_ExtraTreeClassifier_decision_path = '_syft_missing'\n",
    "    print('❌ sklearn.tree._classes.ExtraTreeClassifier.decision_path: Return unavailable') # noqa E501\n",
    "    print(\"  Please fix this return type code until there is no exception\")\n",
    "    print('  Error:', e)\n"
   ]
  },
  {
   "cell_type": "code",
   "execution_count": null,
   "id": "compliant-adoption",
   "metadata": {},
   "outputs": [],
   "source": [
    "# sklearn.tree._classes.ExtraTreeClassifier.feature_importances_\n",
    "try:\n",
    "    obj = class_constructor()\n",
    "    ret = obj.feature_importances_\n",
    "    type_sklearn_tree__classes_ExtraTreeClassifier_feature_importances_ = getattr(ret, '__module__', 'none') + '.' + ret.__class__.__name__\n",
    "    print('✅ sklearn.tree._classes.ExtraTreeClassifier.feature_importances_:', type(ret)) # noqa E501\n",
    "except Exception as e:\n",
    "    type_sklearn_tree__classes_ExtraTreeClassifier_feature_importances_ = '_syft_missing'\n",
    "    print('❌ sklearn.tree._classes.ExtraTreeClassifier.feature_importances_: Return unavailable') # noqa E501\n",
    "    print(\"  Please fix this return type code until there is no exception\")\n",
    "    print('  Error:', e)\n"
   ]
  },
  {
   "cell_type": "code",
   "execution_count": null,
   "id": "fresh-mozambique",
   "metadata": {},
   "outputs": [],
   "source": [
    "# sklearn.tree._classes.ExtraTreeClassifier.fit\n",
    "try:\n",
    "    obj = class_constructor() # noqa F821\n",
    "    ret = obj.fit()\n",
    "    type_sklearn_tree__classes_ExtraTreeClassifier_fit = getattr(ret, '__module__', 'none') + '.' + ret.__class__.__name__\n",
    "    print('✅ sklearn.tree._classes.ExtraTreeClassifier.fit: ', type(ret)) # noqa E501\n",
    "except Exception as e:\n",
    "    type_sklearn_tree__classes_ExtraTreeClassifier_fit = '_syft_missing'\n",
    "    print('❌ sklearn.tree._classes.ExtraTreeClassifier.fit: Return unavailable') # noqa E501\n",
    "    print(\"  Please fix this return type code until there is no exception\")\n",
    "    print('  Error:', e)\n"
   ]
  },
  {
   "cell_type": "code",
   "execution_count": null,
   "id": "systematic-planning",
   "metadata": {},
   "outputs": [],
   "source": [
    "# sklearn.tree._classes.ExtraTreeClassifier.get_depth\n",
    "try:\n",
    "    obj = class_constructor() # noqa F821\n",
    "    ret = obj.get_depth()\n",
    "    type_sklearn_tree__classes_ExtraTreeClassifier_get_depth = getattr(ret, '__module__', 'none') + '.' + ret.__class__.__name__\n",
    "    print('✅ sklearn.tree._classes.ExtraTreeClassifier.get_depth: ', type(ret)) # noqa E501\n",
    "except Exception as e:\n",
    "    type_sklearn_tree__classes_ExtraTreeClassifier_get_depth = '_syft_missing'\n",
    "    print('❌ sklearn.tree._classes.ExtraTreeClassifier.get_depth: Return unavailable') # noqa E501\n",
    "    print(\"  Please fix this return type code until there is no exception\")\n",
    "    print('  Error:', e)\n"
   ]
  },
  {
   "cell_type": "code",
   "execution_count": null,
   "id": "multiple-vegetable",
   "metadata": {},
   "outputs": [],
   "source": [
    "# sklearn.tree._classes.ExtraTreeClassifier.get_n_leaves\n",
    "try:\n",
    "    obj = class_constructor() # noqa F821\n",
    "    ret = obj.get_n_leaves()\n",
    "    type_sklearn_tree__classes_ExtraTreeClassifier_get_n_leaves = getattr(ret, '__module__', 'none') + '.' + ret.__class__.__name__\n",
    "    print('✅ sklearn.tree._classes.ExtraTreeClassifier.get_n_leaves: ', type(ret)) # noqa E501\n",
    "except Exception as e:\n",
    "    type_sklearn_tree__classes_ExtraTreeClassifier_get_n_leaves = '_syft_missing'\n",
    "    print('❌ sklearn.tree._classes.ExtraTreeClassifier.get_n_leaves: Return unavailable') # noqa E501\n",
    "    print(\"  Please fix this return type code until there is no exception\")\n",
    "    print('  Error:', e)\n"
   ]
  },
  {
   "cell_type": "code",
   "execution_count": null,
   "id": "framed-inquiry",
   "metadata": {},
   "outputs": [],
   "source": [
    "# sklearn.tree._classes.ExtraTreeClassifier.get_params\n",
    "try:\n",
    "    obj = class_constructor() # noqa F821\n",
    "    ret = obj.get_params()\n",
    "    type_sklearn_tree__classes_ExtraTreeClassifier_get_params = getattr(ret, '__module__', 'none') + '.' + ret.__class__.__name__\n",
    "    print('✅ sklearn.tree._classes.ExtraTreeClassifier.get_params: ', type(ret)) # noqa E501\n",
    "except Exception as e:\n",
    "    type_sklearn_tree__classes_ExtraTreeClassifier_get_params = '_syft_missing'\n",
    "    print('❌ sklearn.tree._classes.ExtraTreeClassifier.get_params: Return unavailable') # noqa E501\n",
    "    print(\"  Please fix this return type code until there is no exception\")\n",
    "    print('  Error:', e)\n"
   ]
  },
  {
   "cell_type": "code",
   "execution_count": null,
   "id": "twenty-lancaster",
   "metadata": {},
   "outputs": [],
   "source": [
    "# sklearn.tree._classes.ExtraTreeClassifier.predict\n",
    "try:\n",
    "    obj = class_constructor() # noqa F821\n",
    "    ret = obj.predict()\n",
    "    type_sklearn_tree__classes_ExtraTreeClassifier_predict = getattr(ret, '__module__', 'none') + '.' + ret.__class__.__name__\n",
    "    print('✅ sklearn.tree._classes.ExtraTreeClassifier.predict: ', type(ret)) # noqa E501\n",
    "except Exception as e:\n",
    "    type_sklearn_tree__classes_ExtraTreeClassifier_predict = '_syft_missing'\n",
    "    print('❌ sklearn.tree._classes.ExtraTreeClassifier.predict: Return unavailable') # noqa E501\n",
    "    print(\"  Please fix this return type code until there is no exception\")\n",
    "    print('  Error:', e)\n"
   ]
  },
  {
   "cell_type": "code",
   "execution_count": null,
   "id": "helpful-companion",
   "metadata": {},
   "outputs": [],
   "source": [
    "# sklearn.tree._classes.ExtraTreeClassifier.predict_log_proba\n",
    "try:\n",
    "    obj = class_constructor() # noqa F821\n",
    "    ret = obj.predict_log_proba()\n",
    "    type_sklearn_tree__classes_ExtraTreeClassifier_predict_log_proba = getattr(ret, '__module__', 'none') + '.' + ret.__class__.__name__\n",
    "    print('✅ sklearn.tree._classes.ExtraTreeClassifier.predict_log_proba: ', type(ret)) # noqa E501\n",
    "except Exception as e:\n",
    "    type_sklearn_tree__classes_ExtraTreeClassifier_predict_log_proba = '_syft_missing'\n",
    "    print('❌ sklearn.tree._classes.ExtraTreeClassifier.predict_log_proba: Return unavailable') # noqa E501\n",
    "    print(\"  Please fix this return type code until there is no exception\")\n",
    "    print('  Error:', e)\n"
   ]
  },
  {
   "cell_type": "code",
   "execution_count": null,
   "id": "british-motel",
   "metadata": {},
   "outputs": [],
   "source": [
    "# sklearn.tree._classes.ExtraTreeClassifier.predict_proba\n",
    "try:\n",
    "    obj = class_constructor() # noqa F821\n",
    "    ret = obj.predict_proba()\n",
    "    type_sklearn_tree__classes_ExtraTreeClassifier_predict_proba = getattr(ret, '__module__', 'none') + '.' + ret.__class__.__name__\n",
    "    print('✅ sklearn.tree._classes.ExtraTreeClassifier.predict_proba: ', type(ret)) # noqa E501\n",
    "except Exception as e:\n",
    "    type_sklearn_tree__classes_ExtraTreeClassifier_predict_proba = '_syft_missing'\n",
    "    print('❌ sklearn.tree._classes.ExtraTreeClassifier.predict_proba: Return unavailable') # noqa E501\n",
    "    print(\"  Please fix this return type code until there is no exception\")\n",
    "    print('  Error:', e)\n"
   ]
  },
  {
   "cell_type": "code",
   "execution_count": null,
   "id": "korean-improvement",
   "metadata": {},
   "outputs": [],
   "source": [
    "# sklearn.tree._classes.ExtraTreeClassifier.score\n",
    "try:\n",
    "    obj = class_constructor() # noqa F821\n",
    "    ret = obj.score()\n",
    "    type_sklearn_tree__classes_ExtraTreeClassifier_score = getattr(ret, '__module__', 'none') + '.' + ret.__class__.__name__\n",
    "    print('✅ sklearn.tree._classes.ExtraTreeClassifier.score: ', type(ret)) # noqa E501\n",
    "except Exception as e:\n",
    "    type_sklearn_tree__classes_ExtraTreeClassifier_score = '_syft_missing'\n",
    "    print('❌ sklearn.tree._classes.ExtraTreeClassifier.score: Return unavailable') # noqa E501\n",
    "    print(\"  Please fix this return type code until there is no exception\")\n",
    "    print('  Error:', e)\n"
   ]
  },
  {
   "cell_type": "code",
   "execution_count": null,
   "id": "humanitarian-soundtrack",
   "metadata": {},
   "outputs": [],
   "source": [
    "# sklearn.tree._classes.ExtraTreeClassifier.set_params\n",
    "try:\n",
    "    obj = class_constructor() # noqa F821\n",
    "    ret = obj.set_params()\n",
    "    type_sklearn_tree__classes_ExtraTreeClassifier_set_params = getattr(ret, '__module__', 'none') + '.' + ret.__class__.__name__\n",
    "    print('✅ sklearn.tree._classes.ExtraTreeClassifier.set_params: ', type(ret)) # noqa E501\n",
    "except Exception as e:\n",
    "    type_sklearn_tree__classes_ExtraTreeClassifier_set_params = '_syft_missing'\n",
    "    print('❌ sklearn.tree._classes.ExtraTreeClassifier.set_params: Return unavailable') # noqa E501\n",
    "    print(\"  Please fix this return type code until there is no exception\")\n",
    "    print('  Error:', e)\n"
   ]
  }
 ],
 "metadata": {},
 "nbformat": 4,
 "nbformat_minor": 5
}
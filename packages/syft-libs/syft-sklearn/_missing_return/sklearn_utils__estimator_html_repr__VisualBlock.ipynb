{
 "cells": [
  {
   "cell_type": "markdown",
   "id": "applicable-claim",
   "metadata": {},
   "source": [
    "## sklearn.utils._estimator_html_repr._VisualBlock"
   ]
  },
  {
   "cell_type": "code",
   "execution_count": null,
   "id": "compound-overhead",
   "metadata": {},
   "outputs": [],
   "source": [
    "import sklearn\n",
    "def class_constructor(*args, **kwargs):\n",
    "    obj = sklearn.utils._estimator_html_repr._VisualBlock()\n",
    "    return obj\n"
   ]
  },
  {
   "cell_type": "code",
   "execution_count": null,
   "id": "novel-frank",
   "metadata": {},
   "outputs": [],
   "source": [
    "# sklearn.utils._estimator_html_repr._VisualBlock._sk_visual_block_\n",
    "try:\n",
    "    obj = class_constructor() # noqa F821\n",
    "    ret = obj._sk_visual_block_()\n",
    "    type_sklearn_utils__estimator_html_repr__VisualBlock__sk_visual_block_ = getattr(ret, '__module__', 'none') + '.' + ret.__class__.__name__\n",
    "    print('✅ sklearn.utils._estimator_html_repr._VisualBlock._sk_visual_block_: ', type(ret)) # noqa E501\n",
    "except Exception as e:\n",
    "    type_sklearn_utils__estimator_html_repr__VisualBlock__sk_visual_block_ = '_syft_missing'\n",
    "    print('❌ sklearn.utils._estimator_html_repr._VisualBlock._sk_visual_block_: Return unavailable') # noqa E501\n",
    "    print(\"  Please fix this return type code until there is no exception\")\n",
    "    print('  Error:', e)\n"
   ]
  }
 ],
 "metadata": {},
 "nbformat": 4,
 "nbformat_minor": 5
}
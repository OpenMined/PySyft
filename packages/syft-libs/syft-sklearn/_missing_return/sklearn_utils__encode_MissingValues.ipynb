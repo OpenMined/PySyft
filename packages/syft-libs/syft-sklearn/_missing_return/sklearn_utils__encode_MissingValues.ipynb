{
 "cells": [
  {
   "cell_type": "markdown",
   "id": "offshore-lawrence",
   "metadata": {},
   "source": [
    "## sklearn.utils._encode.MissingValues"
   ]
  },
  {
   "cell_type": "code",
   "execution_count": null,
   "id": "subject-palestine",
   "metadata": {},
   "outputs": [],
   "source": [
    "import sklearn\n",
    "def class_constructor(*args, **kwargs):\n",
    "    obj = sklearn.utils._encode.MissingValues()\n",
    "    return obj\n"
   ]
  },
  {
   "cell_type": "code",
   "execution_count": null,
   "id": "married-split",
   "metadata": {},
   "outputs": [],
   "source": [
    "# sklearn.utils._encode.MissingValues.__getnewargs__\n",
    "try:\n",
    "    obj = class_constructor() # noqa F821\n",
    "    ret = obj.__getnewargs__()\n",
    "    type_sklearn_utils__encode_MissingValues___getnewargs__ = getattr(ret, '__module__', 'none') + '.' + ret.__class__.__name__\n",
    "    print('✅ sklearn.utils._encode.MissingValues.__getnewargs__: ', type(ret)) # noqa E501\n",
    "except Exception as e:\n",
    "    type_sklearn_utils__encode_MissingValues___getnewargs__ = '_syft_missing'\n",
    "    print('❌ sklearn.utils._encode.MissingValues.__getnewargs__: Return unavailable') # noqa E501\n",
    "    print(\"  Please fix this return type code until there is no exception\")\n",
    "    print('  Error:', e)\n"
   ]
  },
  {
   "cell_type": "code",
   "execution_count": null,
   "id": "divine-function",
   "metadata": {},
   "outputs": [],
   "source": [
    "# sklearn.utils._encode.MissingValues.__new__\n",
    "try:\n",
    "    obj = class_constructor() # noqa F821\n",
    "    ret = obj.__new__()\n",
    "    type_sklearn_utils__encode_MissingValues___new__ = getattr(ret, '__module__', 'none') + '.' + ret.__class__.__name__\n",
    "    print('✅ sklearn.utils._encode.MissingValues.__new__: ', type(ret)) # noqa E501\n",
    "except Exception as e:\n",
    "    type_sklearn_utils__encode_MissingValues___new__ = '_syft_missing'\n",
    "    print('❌ sklearn.utils._encode.MissingValues.__new__: Return unavailable') # noqa E501\n",
    "    print(\"  Please fix this return type code until there is no exception\")\n",
    "    print('  Error:', e)\n"
   ]
  },
  {
   "cell_type": "code",
   "execution_count": null,
   "id": "excited-diagram",
   "metadata": {},
   "outputs": [],
   "source": [
    "# sklearn.utils._encode.MissingValues.__repr__\n",
    "try:\n",
    "    obj = class_constructor() # noqa F821\n",
    "    ret = obj.__repr__()\n",
    "    type_sklearn_utils__encode_MissingValues___repr__ = getattr(ret, '__module__', 'none') + '.' + ret.__class__.__name__\n",
    "    print('✅ sklearn.utils._encode.MissingValues.__repr__: ', type(ret)) # noqa E501\n",
    "except Exception as e:\n",
    "    type_sklearn_utils__encode_MissingValues___repr__ = '_syft_missing'\n",
    "    print('❌ sklearn.utils._encode.MissingValues.__repr__: Return unavailable') # noqa E501\n",
    "    print(\"  Please fix this return type code until there is no exception\")\n",
    "    print('  Error:', e)\n"
   ]
  },
  {
   "cell_type": "code",
   "execution_count": null,
   "id": "champion-celebrity",
   "metadata": {},
   "outputs": [],
   "source": [
    "# sklearn.utils._encode.MissingValues._asdict\n",
    "try:\n",
    "    obj = class_constructor() # noqa F821\n",
    "    ret = obj._asdict()\n",
    "    type_sklearn_utils__encode_MissingValues__asdict = getattr(ret, '__module__', 'none') + '.' + ret.__class__.__name__\n",
    "    print('✅ sklearn.utils._encode.MissingValues._asdict: ', type(ret)) # noqa E501\n",
    "except Exception as e:\n",
    "    type_sklearn_utils__encode_MissingValues__asdict = '_syft_missing'\n",
    "    print('❌ sklearn.utils._encode.MissingValues._asdict: Return unavailable') # noqa E501\n",
    "    print(\"  Please fix this return type code until there is no exception\")\n",
    "    print('  Error:', e)\n"
   ]
  },
  {
   "cell_type": "code",
   "execution_count": null,
   "id": "innovative-romance",
   "metadata": {},
   "outputs": [],
   "source": [
    "# sklearn.utils._encode.MissingValues._make\n",
    "try:\n",
    "    obj = class_constructor() # noqa F821\n",
    "    ret = obj._make()\n",
    "    type_sklearn_utils__encode_MissingValues__make = getattr(ret, '__module__', 'none') + '.' + ret.__class__.__name__\n",
    "    print('✅ sklearn.utils._encode.MissingValues._make: ', type(ret)) # noqa E501\n",
    "except Exception as e:\n",
    "    type_sklearn_utils__encode_MissingValues__make = '_syft_missing'\n",
    "    print('❌ sklearn.utils._encode.MissingValues._make: Return unavailable') # noqa E501\n",
    "    print(\"  Please fix this return type code until there is no exception\")\n",
    "    print('  Error:', e)\n"
   ]
  },
  {
   "cell_type": "code",
   "execution_count": null,
   "id": "egyptian-sword",
   "metadata": {},
   "outputs": [],
   "source": [
    "# sklearn.utils._encode.MissingValues._replace\n",
    "try:\n",
    "    obj = class_constructor() # noqa F821\n",
    "    ret = obj._replace()\n",
    "    type_sklearn_utils__encode_MissingValues__replace = getattr(ret, '__module__', 'none') + '.' + ret.__class__.__name__\n",
    "    print('✅ sklearn.utils._encode.MissingValues._replace: ', type(ret)) # noqa E501\n",
    "except Exception as e:\n",
    "    type_sklearn_utils__encode_MissingValues__replace = '_syft_missing'\n",
    "    print('❌ sklearn.utils._encode.MissingValues._replace: Return unavailable') # noqa E501\n",
    "    print(\"  Please fix this return type code until there is no exception\")\n",
    "    print('  Error:', e)\n"
   ]
  },
  {
   "cell_type": "code",
   "execution_count": null,
   "id": "filled-james",
   "metadata": {},
   "outputs": [],
   "source": [
    "# sklearn.utils._encode.MissingValues.to_list\n",
    "try:\n",
    "    obj = class_constructor() # noqa F821\n",
    "    ret = obj.to_list()\n",
    "    type_sklearn_utils__encode_MissingValues_to_list = getattr(ret, '__module__', 'none') + '.' + ret.__class__.__name__\n",
    "    print('✅ sklearn.utils._encode.MissingValues.to_list: ', type(ret)) # noqa E501\n",
    "except Exception as e:\n",
    "    type_sklearn_utils__encode_MissingValues_to_list = '_syft_missing'\n",
    "    print('❌ sklearn.utils._encode.MissingValues.to_list: Return unavailable') # noqa E501\n",
    "    print(\"  Please fix this return type code until there is no exception\")\n",
    "    print('  Error:', e)\n"
   ]
  }
 ],
 "metadata": {},
 "nbformat": 4,
 "nbformat_minor": 5
}
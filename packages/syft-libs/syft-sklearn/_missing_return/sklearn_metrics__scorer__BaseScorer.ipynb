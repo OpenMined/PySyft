{
 "cells": [
  {
   "cell_type": "markdown",
   "id": "abroad-arizona",
   "metadata": {},
   "source": [
    "## sklearn.metrics._scorer._BaseScorer"
   ]
  },
  {
   "cell_type": "code",
   "execution_count": null,
   "id": "radical-affiliate",
   "metadata": {},
   "outputs": [],
   "source": [
    "import sklearn\n",
    "def class_constructor(*args, **kwargs):\n",
    "    obj = sklearn.metrics._scorer._BaseScorer()\n",
    "    return obj\n"
   ]
  },
  {
   "cell_type": "code",
   "execution_count": null,
   "id": "interstate-stanley",
   "metadata": {},
   "outputs": [],
   "source": [
    "# sklearn.metrics._scorer._BaseScorer.__call__\n",
    "try:\n",
    "    obj = class_constructor() # noqa F821\n",
    "    ret = obj.__call__()\n",
    "    type_sklearn_metrics__scorer__BaseScorer___call__ = getattr(ret, '__module__', 'none') + '.' + ret.__class__.__name__\n",
    "    print('✅ sklearn.metrics._scorer._BaseScorer.__call__: ', type(ret)) # noqa E501\n",
    "except Exception as e:\n",
    "    type_sklearn_metrics__scorer__BaseScorer___call__ = '_syft_missing'\n",
    "    print('❌ sklearn.metrics._scorer._BaseScorer.__call__: Return unavailable') # noqa E501\n",
    "    print(\"  Please fix this return type code until there is no exception\")\n",
    "    print('  Error:', e)\n"
   ]
  },
  {
   "cell_type": "code",
   "execution_count": null,
   "id": "dangerous-moisture",
   "metadata": {},
   "outputs": [],
   "source": [
    "# sklearn.metrics._scorer._BaseScorer.__repr__\n",
    "try:\n",
    "    obj = class_constructor() # noqa F821\n",
    "    ret = obj.__repr__()\n",
    "    type_sklearn_metrics__scorer__BaseScorer___repr__ = getattr(ret, '__module__', 'none') + '.' + ret.__class__.__name__\n",
    "    print('✅ sklearn.metrics._scorer._BaseScorer.__repr__: ', type(ret)) # noqa E501\n",
    "except Exception as e:\n",
    "    type_sklearn_metrics__scorer__BaseScorer___repr__ = '_syft_missing'\n",
    "    print('❌ sklearn.metrics._scorer._BaseScorer.__repr__: Return unavailable') # noqa E501\n",
    "    print(\"  Please fix this return type code until there is no exception\")\n",
    "    print('  Error:', e)\n"
   ]
  },
  {
   "cell_type": "code",
   "execution_count": null,
   "id": "collect-distribution",
   "metadata": {},
   "outputs": [],
   "source": [
    "# sklearn.metrics._scorer._BaseScorer._check_pos_label\n",
    "try:\n",
    "    obj = class_constructor() # noqa F821\n",
    "    ret = obj._check_pos_label()\n",
    "    type_sklearn_metrics__scorer__BaseScorer__check_pos_label = getattr(ret, '__module__', 'none') + '.' + ret.__class__.__name__\n",
    "    print('✅ sklearn.metrics._scorer._BaseScorer._check_pos_label: ', type(ret)) # noqa E501\n",
    "except Exception as e:\n",
    "    type_sklearn_metrics__scorer__BaseScorer__check_pos_label = '_syft_missing'\n",
    "    print('❌ sklearn.metrics._scorer._BaseScorer._check_pos_label: Return unavailable') # noqa E501\n",
    "    print(\"  Please fix this return type code until there is no exception\")\n",
    "    print('  Error:', e)\n"
   ]
  },
  {
   "cell_type": "code",
   "execution_count": null,
   "id": "democratic-prospect",
   "metadata": {},
   "outputs": [],
   "source": [
    "# sklearn.metrics._scorer._BaseScorer._factory_args\n",
    "try:\n",
    "    obj = class_constructor() # noqa F821\n",
    "    ret = obj._factory_args()\n",
    "    type_sklearn_metrics__scorer__BaseScorer__factory_args = getattr(ret, '__module__', 'none') + '.' + ret.__class__.__name__\n",
    "    print('✅ sklearn.metrics._scorer._BaseScorer._factory_args: ', type(ret)) # noqa E501\n",
    "except Exception as e:\n",
    "    type_sklearn_metrics__scorer__BaseScorer__factory_args = '_syft_missing'\n",
    "    print('❌ sklearn.metrics._scorer._BaseScorer._factory_args: Return unavailable') # noqa E501\n",
    "    print(\"  Please fix this return type code until there is no exception\")\n",
    "    print('  Error:', e)\n"
   ]
  },
  {
   "cell_type": "code",
   "execution_count": null,
   "id": "familiar-removal",
   "metadata": {},
   "outputs": [],
   "source": [
    "# sklearn.metrics._scorer._BaseScorer._select_proba_binary\n",
    "try:\n",
    "    obj = class_constructor() # noqa F821\n",
    "    ret = obj._select_proba_binary()\n",
    "    type_sklearn_metrics__scorer__BaseScorer__select_proba_binary = getattr(ret, '__module__', 'none') + '.' + ret.__class__.__name__\n",
    "    print('✅ sklearn.metrics._scorer._BaseScorer._select_proba_binary: ', type(ret)) # noqa E501\n",
    "except Exception as e:\n",
    "    type_sklearn_metrics__scorer__BaseScorer__select_proba_binary = '_syft_missing'\n",
    "    print('❌ sklearn.metrics._scorer._BaseScorer._select_proba_binary: Return unavailable') # noqa E501\n",
    "    print(\"  Please fix this return type code until there is no exception\")\n",
    "    print('  Error:', e)\n"
   ]
  }
 ],
 "metadata": {},
 "nbformat": 4,
 "nbformat_minor": 5
}
{
 "cells": [
  {
   "cell_type": "markdown",
   "id": "posted-evening",
   "metadata": {},
   "source": [
    "## sklearn.linear_model._base.LinearModel"
   ]
  },
  {
   "cell_type": "code",
   "execution_count": null,
   "id": "accepting-castle",
   "metadata": {},
   "outputs": [],
   "source": [
    "import sklearn\n",
    "def class_constructor(*args, **kwargs):\n",
    "    obj = sklearn.linear_model._base.LinearModel()\n",
    "    return obj\n"
   ]
  },
  {
   "cell_type": "code",
   "execution_count": null,
   "id": "latter-statistics",
   "metadata": {},
   "outputs": [],
   "source": [
    "# sklearn.linear_model._base.LinearModel.__getstate__\n",
    "try:\n",
    "    obj = class_constructor() # noqa F821\n",
    "    ret = obj.__getstate__()\n",
    "    type_sklearn_linear_model__base_LinearModel___getstate__ = getattr(ret, '__module__', 'none') + '.' + ret.__class__.__name__\n",
    "    print('✅ sklearn.linear_model._base.LinearModel.__getstate__: ', type(ret)) # noqa E501\n",
    "except Exception as e:\n",
    "    type_sklearn_linear_model__base_LinearModel___getstate__ = '_syft_missing'\n",
    "    print('❌ sklearn.linear_model._base.LinearModel.__getstate__: Return unavailable') # noqa E501\n",
    "    print(\"  Please fix this return type code until there is no exception\")\n",
    "    print('  Error:', e)\n"
   ]
  },
  {
   "cell_type": "code",
   "execution_count": null,
   "id": "approximate-regular",
   "metadata": {},
   "outputs": [],
   "source": [
    "# sklearn.linear_model._base.LinearModel.__repr__\n",
    "try:\n",
    "    obj = class_constructor() # noqa F821\n",
    "    ret = obj.__repr__()\n",
    "    type_sklearn_linear_model__base_LinearModel___repr__ = getattr(ret, '__module__', 'none') + '.' + ret.__class__.__name__\n",
    "    print('✅ sklearn.linear_model._base.LinearModel.__repr__: ', type(ret)) # noqa E501\n",
    "except Exception as e:\n",
    "    type_sklearn_linear_model__base_LinearModel___repr__ = '_syft_missing'\n",
    "    print('❌ sklearn.linear_model._base.LinearModel.__repr__: Return unavailable') # noqa E501\n",
    "    print(\"  Please fix this return type code until there is no exception\")\n",
    "    print('  Error:', e)\n"
   ]
  },
  {
   "cell_type": "code",
   "execution_count": null,
   "id": "scenic-cardiff",
   "metadata": {},
   "outputs": [],
   "source": [
    "# sklearn.linear_model._base.LinearModel.__setstate__\n",
    "try:\n",
    "    obj = class_constructor() # noqa F821\n",
    "    ret = obj.__setstate__()\n",
    "    type_sklearn_linear_model__base_LinearModel___setstate__ = getattr(ret, '__module__', 'none') + '.' + ret.__class__.__name__\n",
    "    print('✅ sklearn.linear_model._base.LinearModel.__setstate__: ', type(ret)) # noqa E501\n",
    "except Exception as e:\n",
    "    type_sklearn_linear_model__base_LinearModel___setstate__ = '_syft_missing'\n",
    "    print('❌ sklearn.linear_model._base.LinearModel.__setstate__: Return unavailable') # noqa E501\n",
    "    print(\"  Please fix this return type code until there is no exception\")\n",
    "    print('  Error:', e)\n"
   ]
  },
  {
   "cell_type": "code",
   "execution_count": null,
   "id": "secure-group",
   "metadata": {},
   "outputs": [],
   "source": [
    "# sklearn.linear_model._base.LinearModel._check_n_features\n",
    "try:\n",
    "    obj = class_constructor() # noqa F821\n",
    "    ret = obj._check_n_features()\n",
    "    type_sklearn_linear_model__base_LinearModel__check_n_features = getattr(ret, '__module__', 'none') + '.' + ret.__class__.__name__\n",
    "    print('✅ sklearn.linear_model._base.LinearModel._check_n_features: ', type(ret)) # noqa E501\n",
    "except Exception as e:\n",
    "    type_sklearn_linear_model__base_LinearModel__check_n_features = '_syft_missing'\n",
    "    print('❌ sklearn.linear_model._base.LinearModel._check_n_features: Return unavailable') # noqa E501\n",
    "    print(\"  Please fix this return type code until there is no exception\")\n",
    "    print('  Error:', e)\n"
   ]
  },
  {
   "cell_type": "code",
   "execution_count": null,
   "id": "established-luxury",
   "metadata": {},
   "outputs": [],
   "source": [
    "# sklearn.linear_model._base.LinearModel._decision_function\n",
    "try:\n",
    "    obj = class_constructor() # noqa F821\n",
    "    ret = obj._decision_function()\n",
    "    type_sklearn_linear_model__base_LinearModel__decision_function = getattr(ret, '__module__', 'none') + '.' + ret.__class__.__name__\n",
    "    print('✅ sklearn.linear_model._base.LinearModel._decision_function: ', type(ret)) # noqa E501\n",
    "except Exception as e:\n",
    "    type_sklearn_linear_model__base_LinearModel__decision_function = '_syft_missing'\n",
    "    print('❌ sklearn.linear_model._base.LinearModel._decision_function: Return unavailable') # noqa E501\n",
    "    print(\"  Please fix this return type code until there is no exception\")\n",
    "    print('  Error:', e)\n"
   ]
  },
  {
   "cell_type": "code",
   "execution_count": null,
   "id": "national-priest",
   "metadata": {},
   "outputs": [],
   "source": [
    "# sklearn.linear_model._base.LinearModel._get_param_names\n",
    "try:\n",
    "    obj = class_constructor() # noqa F821\n",
    "    ret = obj._get_param_names()\n",
    "    type_sklearn_linear_model__base_LinearModel__get_param_names = getattr(ret, '__module__', 'none') + '.' + ret.__class__.__name__\n",
    "    print('✅ sklearn.linear_model._base.LinearModel._get_param_names: ', type(ret)) # noqa E501\n",
    "except Exception as e:\n",
    "    type_sklearn_linear_model__base_LinearModel__get_param_names = '_syft_missing'\n",
    "    print('❌ sklearn.linear_model._base.LinearModel._get_param_names: Return unavailable') # noqa E501\n",
    "    print(\"  Please fix this return type code until there is no exception\")\n",
    "    print('  Error:', e)\n"
   ]
  },
  {
   "cell_type": "code",
   "execution_count": null,
   "id": "precise-instruction",
   "metadata": {},
   "outputs": [],
   "source": [
    "# sklearn.linear_model._base.LinearModel._get_tags\n",
    "try:\n",
    "    obj = class_constructor() # noqa F821\n",
    "    ret = obj._get_tags()\n",
    "    type_sklearn_linear_model__base_LinearModel__get_tags = getattr(ret, '__module__', 'none') + '.' + ret.__class__.__name__\n",
    "    print('✅ sklearn.linear_model._base.LinearModel._get_tags: ', type(ret)) # noqa E501\n",
    "except Exception as e:\n",
    "    type_sklearn_linear_model__base_LinearModel__get_tags = '_syft_missing'\n",
    "    print('❌ sklearn.linear_model._base.LinearModel._get_tags: Return unavailable') # noqa E501\n",
    "    print(\"  Please fix this return type code until there is no exception\")\n",
    "    print('  Error:', e)\n"
   ]
  },
  {
   "cell_type": "code",
   "execution_count": null,
   "id": "strong-leadership",
   "metadata": {},
   "outputs": [],
   "source": [
    "# sklearn.linear_model._base.LinearModel._more_tags\n",
    "try:\n",
    "    obj = class_constructor() # noqa F821\n",
    "    ret = obj._more_tags()\n",
    "    type_sklearn_linear_model__base_LinearModel__more_tags = getattr(ret, '__module__', 'none') + '.' + ret.__class__.__name__\n",
    "    print('✅ sklearn.linear_model._base.LinearModel._more_tags: ', type(ret)) # noqa E501\n",
    "except Exception as e:\n",
    "    type_sklearn_linear_model__base_LinearModel__more_tags = '_syft_missing'\n",
    "    print('❌ sklearn.linear_model._base.LinearModel._more_tags: Return unavailable') # noqa E501\n",
    "    print(\"  Please fix this return type code until there is no exception\")\n",
    "    print('  Error:', e)\n"
   ]
  },
  {
   "cell_type": "code",
   "execution_count": null,
   "id": "complimentary-literacy",
   "metadata": {},
   "outputs": [],
   "source": [
    "# sklearn.linear_model._base.LinearModel._preprocess_data\n",
    "try:\n",
    "    obj = class_constructor() # noqa F821\n",
    "    ret = obj._preprocess_data()\n",
    "    type_sklearn_linear_model__base_LinearModel__preprocess_data = getattr(ret, '__module__', 'none') + '.' + ret.__class__.__name__\n",
    "    print('✅ sklearn.linear_model._base.LinearModel._preprocess_data: ', type(ret)) # noqa E501\n",
    "except Exception as e:\n",
    "    type_sklearn_linear_model__base_LinearModel__preprocess_data = '_syft_missing'\n",
    "    print('❌ sklearn.linear_model._base.LinearModel._preprocess_data: Return unavailable') # noqa E501\n",
    "    print(\"  Please fix this return type code until there is no exception\")\n",
    "    print('  Error:', e)\n"
   ]
  },
  {
   "cell_type": "code",
   "execution_count": null,
   "id": "danish-naples",
   "metadata": {},
   "outputs": [],
   "source": [
    "# sklearn.linear_model._base.LinearModel._repr_html_\n",
    "try:\n",
    "    obj = class_constructor()\n",
    "    ret = obj._repr_html_\n",
    "    type_sklearn_linear_model__base_LinearModel__repr_html_ = getattr(ret, '__module__', 'none') + '.' + ret.__class__.__name__\n",
    "    print('✅ sklearn.linear_model._base.LinearModel._repr_html_:', type(ret)) # noqa E501\n",
    "except Exception as e:\n",
    "    type_sklearn_linear_model__base_LinearModel__repr_html_ = '_syft_missing'\n",
    "    print('❌ sklearn.linear_model._base.LinearModel._repr_html_: Return unavailable') # noqa E501\n",
    "    print(\"  Please fix this return type code until there is no exception\")\n",
    "    print('  Error:', e)\n"
   ]
  },
  {
   "cell_type": "code",
   "execution_count": null,
   "id": "traditional-liberal",
   "metadata": {},
   "outputs": [],
   "source": [
    "# sklearn.linear_model._base.LinearModel._repr_html_inner\n",
    "try:\n",
    "    obj = class_constructor() # noqa F821\n",
    "    ret = obj._repr_html_inner()\n",
    "    type_sklearn_linear_model__base_LinearModel__repr_html_inner = getattr(ret, '__module__', 'none') + '.' + ret.__class__.__name__\n",
    "    print('✅ sklearn.linear_model._base.LinearModel._repr_html_inner: ', type(ret)) # noqa E501\n",
    "except Exception as e:\n",
    "    type_sklearn_linear_model__base_LinearModel__repr_html_inner = '_syft_missing'\n",
    "    print('❌ sklearn.linear_model._base.LinearModel._repr_html_inner: Return unavailable') # noqa E501\n",
    "    print(\"  Please fix this return type code until there is no exception\")\n",
    "    print('  Error:', e)\n"
   ]
  },
  {
   "cell_type": "code",
   "execution_count": null,
   "id": "exciting-macedonia",
   "metadata": {},
   "outputs": [],
   "source": [
    "# sklearn.linear_model._base.LinearModel._repr_mimebundle_\n",
    "try:\n",
    "    obj = class_constructor() # noqa F821\n",
    "    ret = obj._repr_mimebundle_()\n",
    "    type_sklearn_linear_model__base_LinearModel__repr_mimebundle_ = getattr(ret, '__module__', 'none') + '.' + ret.__class__.__name__\n",
    "    print('✅ sklearn.linear_model._base.LinearModel._repr_mimebundle_: ', type(ret)) # noqa E501\n",
    "except Exception as e:\n",
    "    type_sklearn_linear_model__base_LinearModel__repr_mimebundle_ = '_syft_missing'\n",
    "    print('❌ sklearn.linear_model._base.LinearModel._repr_mimebundle_: Return unavailable') # noqa E501\n",
    "    print(\"  Please fix this return type code until there is no exception\")\n",
    "    print('  Error:', e)\n"
   ]
  },
  {
   "cell_type": "code",
   "execution_count": null,
   "id": "naval-singing",
   "metadata": {},
   "outputs": [],
   "source": [
    "# sklearn.linear_model._base.LinearModel._set_intercept\n",
    "try:\n",
    "    obj = class_constructor() # noqa F821\n",
    "    ret = obj._set_intercept()\n",
    "    type_sklearn_linear_model__base_LinearModel__set_intercept = getattr(ret, '__module__', 'none') + '.' + ret.__class__.__name__\n",
    "    print('✅ sklearn.linear_model._base.LinearModel._set_intercept: ', type(ret)) # noqa E501\n",
    "except Exception as e:\n",
    "    type_sklearn_linear_model__base_LinearModel__set_intercept = '_syft_missing'\n",
    "    print('❌ sklearn.linear_model._base.LinearModel._set_intercept: Return unavailable') # noqa E501\n",
    "    print(\"  Please fix this return type code until there is no exception\")\n",
    "    print('  Error:', e)\n"
   ]
  },
  {
   "cell_type": "code",
   "execution_count": null,
   "id": "bulgarian-spell",
   "metadata": {},
   "outputs": [],
   "source": [
    "# sklearn.linear_model._base.LinearModel._validate_data\n",
    "try:\n",
    "    obj = class_constructor() # noqa F821\n",
    "    ret = obj._validate_data()\n",
    "    type_sklearn_linear_model__base_LinearModel__validate_data = getattr(ret, '__module__', 'none') + '.' + ret.__class__.__name__\n",
    "    print('✅ sklearn.linear_model._base.LinearModel._validate_data: ', type(ret)) # noqa E501\n",
    "except Exception as e:\n",
    "    type_sklearn_linear_model__base_LinearModel__validate_data = '_syft_missing'\n",
    "    print('❌ sklearn.linear_model._base.LinearModel._validate_data: Return unavailable') # noqa E501\n",
    "    print(\"  Please fix this return type code until there is no exception\")\n",
    "    print('  Error:', e)\n"
   ]
  },
  {
   "cell_type": "code",
   "execution_count": null,
   "id": "checked-lighting",
   "metadata": {},
   "outputs": [],
   "source": [
    "# sklearn.linear_model._base.LinearModel.fit\n",
    "try:\n",
    "    obj = class_constructor() # noqa F821\n",
    "    ret = obj.fit()\n",
    "    type_sklearn_linear_model__base_LinearModel_fit = getattr(ret, '__module__', 'none') + '.' + ret.__class__.__name__\n",
    "    print('✅ sklearn.linear_model._base.LinearModel.fit: ', type(ret)) # noqa E501\n",
    "except Exception as e:\n",
    "    type_sklearn_linear_model__base_LinearModel_fit = '_syft_missing'\n",
    "    print('❌ sklearn.linear_model._base.LinearModel.fit: Return unavailable') # noqa E501\n",
    "    print(\"  Please fix this return type code until there is no exception\")\n",
    "    print('  Error:', e)\n"
   ]
  },
  {
   "cell_type": "code",
   "execution_count": null,
   "id": "casual-johnson",
   "metadata": {},
   "outputs": [],
   "source": [
    "# sklearn.linear_model._base.LinearModel.get_params\n",
    "try:\n",
    "    obj = class_constructor() # noqa F821\n",
    "    ret = obj.get_params()\n",
    "    type_sklearn_linear_model__base_LinearModel_get_params = getattr(ret, '__module__', 'none') + '.' + ret.__class__.__name__\n",
    "    print('✅ sklearn.linear_model._base.LinearModel.get_params: ', type(ret)) # noqa E501\n",
    "except Exception as e:\n",
    "    type_sklearn_linear_model__base_LinearModel_get_params = '_syft_missing'\n",
    "    print('❌ sklearn.linear_model._base.LinearModel.get_params: Return unavailable') # noqa E501\n",
    "    print(\"  Please fix this return type code until there is no exception\")\n",
    "    print('  Error:', e)\n"
   ]
  },
  {
   "cell_type": "code",
   "execution_count": null,
   "id": "white-mozambique",
   "metadata": {},
   "outputs": [],
   "source": [
    "# sklearn.linear_model._base.LinearModel.predict\n",
    "try:\n",
    "    obj = class_constructor() # noqa F821\n",
    "    ret = obj.predict()\n",
    "    type_sklearn_linear_model__base_LinearModel_predict = getattr(ret, '__module__', 'none') + '.' + ret.__class__.__name__\n",
    "    print('✅ sklearn.linear_model._base.LinearModel.predict: ', type(ret)) # noqa E501\n",
    "except Exception as e:\n",
    "    type_sklearn_linear_model__base_LinearModel_predict = '_syft_missing'\n",
    "    print('❌ sklearn.linear_model._base.LinearModel.predict: Return unavailable') # noqa E501\n",
    "    print(\"  Please fix this return type code until there is no exception\")\n",
    "    print('  Error:', e)\n"
   ]
  },
  {
   "cell_type": "code",
   "execution_count": null,
   "id": "after-saint",
   "metadata": {},
   "outputs": [],
   "source": [
    "# sklearn.linear_model._base.LinearModel.set_params\n",
    "try:\n",
    "    obj = class_constructor() # noqa F821\n",
    "    ret = obj.set_params()\n",
    "    type_sklearn_linear_model__base_LinearModel_set_params = getattr(ret, '__module__', 'none') + '.' + ret.__class__.__name__\n",
    "    print('✅ sklearn.linear_model._base.LinearModel.set_params: ', type(ret)) # noqa E501\n",
    "except Exception as e:\n",
    "    type_sklearn_linear_model__base_LinearModel_set_params = '_syft_missing'\n",
    "    print('❌ sklearn.linear_model._base.LinearModel.set_params: Return unavailable') # noqa E501\n",
    "    print(\"  Please fix this return type code until there is no exception\")\n",
    "    print('  Error:', e)\n"
   ]
  }
 ],
 "metadata": {},
 "nbformat": 4,
 "nbformat_minor": 5
}
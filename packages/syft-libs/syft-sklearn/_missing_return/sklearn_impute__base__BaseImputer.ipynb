{
 "cells": [
  {
   "cell_type": "markdown",
   "id": "affiliated-muscle",
   "metadata": {},
   "source": [
    "## sklearn.impute._base._BaseImputer"
   ]
  },
  {
   "cell_type": "code",
   "execution_count": null,
   "id": "chemical-migration",
   "metadata": {},
   "outputs": [],
   "source": [
    "import sklearn\n",
    "def class_constructor(*args, **kwargs):\n",
    "    obj = sklearn.impute._base._BaseImputer()\n",
    "    return obj\n"
   ]
  },
  {
   "cell_type": "code",
   "execution_count": null,
   "id": "precise-integration",
   "metadata": {},
   "outputs": [],
   "source": [
    "# sklearn.impute._base._BaseImputer.__getstate__\n",
    "try:\n",
    "    obj = class_constructor() # noqa F821\n",
    "    ret = obj.__getstate__()\n",
    "    type_sklearn_impute__base__BaseImputer___getstate__ = getattr(ret, '__module__', 'none') + '.' + ret.__class__.__name__\n",
    "    print('✅ sklearn.impute._base._BaseImputer.__getstate__: ', type(ret)) # noqa E501\n",
    "except Exception as e:\n",
    "    type_sklearn_impute__base__BaseImputer___getstate__ = '_syft_missing'\n",
    "    print('❌ sklearn.impute._base._BaseImputer.__getstate__: Return unavailable') # noqa E501\n",
    "    print(\"  Please fix this return type code until there is no exception\")\n",
    "    print('  Error:', e)\n"
   ]
  },
  {
   "cell_type": "code",
   "execution_count": null,
   "id": "attached-external",
   "metadata": {},
   "outputs": [],
   "source": [
    "# sklearn.impute._base._BaseImputer.__repr__\n",
    "try:\n",
    "    obj = class_constructor() # noqa F821\n",
    "    ret = obj.__repr__()\n",
    "    type_sklearn_impute__base__BaseImputer___repr__ = getattr(ret, '__module__', 'none') + '.' + ret.__class__.__name__\n",
    "    print('✅ sklearn.impute._base._BaseImputer.__repr__: ', type(ret)) # noqa E501\n",
    "except Exception as e:\n",
    "    type_sklearn_impute__base__BaseImputer___repr__ = '_syft_missing'\n",
    "    print('❌ sklearn.impute._base._BaseImputer.__repr__: Return unavailable') # noqa E501\n",
    "    print(\"  Please fix this return type code until there is no exception\")\n",
    "    print('  Error:', e)\n"
   ]
  },
  {
   "cell_type": "code",
   "execution_count": null,
   "id": "surprised-injection",
   "metadata": {},
   "outputs": [],
   "source": [
    "# sklearn.impute._base._BaseImputer.__setstate__\n",
    "try:\n",
    "    obj = class_constructor() # noqa F821\n",
    "    ret = obj.__setstate__()\n",
    "    type_sklearn_impute__base__BaseImputer___setstate__ = getattr(ret, '__module__', 'none') + '.' + ret.__class__.__name__\n",
    "    print('✅ sklearn.impute._base._BaseImputer.__setstate__: ', type(ret)) # noqa E501\n",
    "except Exception as e:\n",
    "    type_sklearn_impute__base__BaseImputer___setstate__ = '_syft_missing'\n",
    "    print('❌ sklearn.impute._base._BaseImputer.__setstate__: Return unavailable') # noqa E501\n",
    "    print(\"  Please fix this return type code until there is no exception\")\n",
    "    print('  Error:', e)\n"
   ]
  },
  {
   "cell_type": "code",
   "execution_count": null,
   "id": "conservative-number",
   "metadata": {},
   "outputs": [],
   "source": [
    "# sklearn.impute._base._BaseImputer._check_n_features\n",
    "try:\n",
    "    obj = class_constructor() # noqa F821\n",
    "    ret = obj._check_n_features()\n",
    "    type_sklearn_impute__base__BaseImputer__check_n_features = getattr(ret, '__module__', 'none') + '.' + ret.__class__.__name__\n",
    "    print('✅ sklearn.impute._base._BaseImputer._check_n_features: ', type(ret)) # noqa E501\n",
    "except Exception as e:\n",
    "    type_sklearn_impute__base__BaseImputer__check_n_features = '_syft_missing'\n",
    "    print('❌ sklearn.impute._base._BaseImputer._check_n_features: Return unavailable') # noqa E501\n",
    "    print(\"  Please fix this return type code until there is no exception\")\n",
    "    print('  Error:', e)\n"
   ]
  },
  {
   "cell_type": "code",
   "execution_count": null,
   "id": "contrary-corporation",
   "metadata": {},
   "outputs": [],
   "source": [
    "# sklearn.impute._base._BaseImputer._concatenate_indicator\n",
    "try:\n",
    "    obj = class_constructor() # noqa F821\n",
    "    ret = obj._concatenate_indicator()\n",
    "    type_sklearn_impute__base__BaseImputer__concatenate_indicator = getattr(ret, '__module__', 'none') + '.' + ret.__class__.__name__\n",
    "    print('✅ sklearn.impute._base._BaseImputer._concatenate_indicator: ', type(ret)) # noqa E501\n",
    "except Exception as e:\n",
    "    type_sklearn_impute__base__BaseImputer__concatenate_indicator = '_syft_missing'\n",
    "    print('❌ sklearn.impute._base._BaseImputer._concatenate_indicator: Return unavailable') # noqa E501\n",
    "    print(\"  Please fix this return type code until there is no exception\")\n",
    "    print('  Error:', e)\n"
   ]
  },
  {
   "cell_type": "code",
   "execution_count": null,
   "id": "committed-greene",
   "metadata": {},
   "outputs": [],
   "source": [
    "# sklearn.impute._base._BaseImputer._fit_indicator\n",
    "try:\n",
    "    obj = class_constructor() # noqa F821\n",
    "    ret = obj._fit_indicator()\n",
    "    type_sklearn_impute__base__BaseImputer__fit_indicator = getattr(ret, '__module__', 'none') + '.' + ret.__class__.__name__\n",
    "    print('✅ sklearn.impute._base._BaseImputer._fit_indicator: ', type(ret)) # noqa E501\n",
    "except Exception as e:\n",
    "    type_sklearn_impute__base__BaseImputer__fit_indicator = '_syft_missing'\n",
    "    print('❌ sklearn.impute._base._BaseImputer._fit_indicator: Return unavailable') # noqa E501\n",
    "    print(\"  Please fix this return type code until there is no exception\")\n",
    "    print('  Error:', e)\n"
   ]
  },
  {
   "cell_type": "code",
   "execution_count": null,
   "id": "loaded-sponsorship",
   "metadata": {},
   "outputs": [],
   "source": [
    "# sklearn.impute._base._BaseImputer._get_param_names\n",
    "try:\n",
    "    obj = class_constructor() # noqa F821\n",
    "    ret = obj._get_param_names()\n",
    "    type_sklearn_impute__base__BaseImputer__get_param_names = getattr(ret, '__module__', 'none') + '.' + ret.__class__.__name__\n",
    "    print('✅ sklearn.impute._base._BaseImputer._get_param_names: ', type(ret)) # noqa E501\n",
    "except Exception as e:\n",
    "    type_sklearn_impute__base__BaseImputer__get_param_names = '_syft_missing'\n",
    "    print('❌ sklearn.impute._base._BaseImputer._get_param_names: Return unavailable') # noqa E501\n",
    "    print(\"  Please fix this return type code until there is no exception\")\n",
    "    print('  Error:', e)\n"
   ]
  },
  {
   "cell_type": "code",
   "execution_count": null,
   "id": "integrated-correlation",
   "metadata": {},
   "outputs": [],
   "source": [
    "# sklearn.impute._base._BaseImputer._get_tags\n",
    "try:\n",
    "    obj = class_constructor() # noqa F821\n",
    "    ret = obj._get_tags()\n",
    "    type_sklearn_impute__base__BaseImputer__get_tags = getattr(ret, '__module__', 'none') + '.' + ret.__class__.__name__\n",
    "    print('✅ sklearn.impute._base._BaseImputer._get_tags: ', type(ret)) # noqa E501\n",
    "except Exception as e:\n",
    "    type_sklearn_impute__base__BaseImputer__get_tags = '_syft_missing'\n",
    "    print('❌ sklearn.impute._base._BaseImputer._get_tags: Return unavailable') # noqa E501\n",
    "    print(\"  Please fix this return type code until there is no exception\")\n",
    "    print('  Error:', e)\n"
   ]
  },
  {
   "cell_type": "code",
   "execution_count": null,
   "id": "noted-trinity",
   "metadata": {},
   "outputs": [],
   "source": [
    "# sklearn.impute._base._BaseImputer._more_tags\n",
    "try:\n",
    "    obj = class_constructor() # noqa F821\n",
    "    ret = obj._more_tags()\n",
    "    type_sklearn_impute__base__BaseImputer__more_tags = getattr(ret, '__module__', 'none') + '.' + ret.__class__.__name__\n",
    "    print('✅ sklearn.impute._base._BaseImputer._more_tags: ', type(ret)) # noqa E501\n",
    "except Exception as e:\n",
    "    type_sklearn_impute__base__BaseImputer__more_tags = '_syft_missing'\n",
    "    print('❌ sklearn.impute._base._BaseImputer._more_tags: Return unavailable') # noqa E501\n",
    "    print(\"  Please fix this return type code until there is no exception\")\n",
    "    print('  Error:', e)\n"
   ]
  },
  {
   "cell_type": "code",
   "execution_count": null,
   "id": "transsexual-template",
   "metadata": {},
   "outputs": [],
   "source": [
    "# sklearn.impute._base._BaseImputer._repr_html_\n",
    "try:\n",
    "    obj = class_constructor()\n",
    "    ret = obj._repr_html_\n",
    "    type_sklearn_impute__base__BaseImputer__repr_html_ = getattr(ret, '__module__', 'none') + '.' + ret.__class__.__name__\n",
    "    print('✅ sklearn.impute._base._BaseImputer._repr_html_:', type(ret)) # noqa E501\n",
    "except Exception as e:\n",
    "    type_sklearn_impute__base__BaseImputer__repr_html_ = '_syft_missing'\n",
    "    print('❌ sklearn.impute._base._BaseImputer._repr_html_: Return unavailable') # noqa E501\n",
    "    print(\"  Please fix this return type code until there is no exception\")\n",
    "    print('  Error:', e)\n"
   ]
  },
  {
   "cell_type": "code",
   "execution_count": null,
   "id": "decent-pledge",
   "metadata": {},
   "outputs": [],
   "source": [
    "# sklearn.impute._base._BaseImputer._repr_html_inner\n",
    "try:\n",
    "    obj = class_constructor() # noqa F821\n",
    "    ret = obj._repr_html_inner()\n",
    "    type_sklearn_impute__base__BaseImputer__repr_html_inner = getattr(ret, '__module__', 'none') + '.' + ret.__class__.__name__\n",
    "    print('✅ sklearn.impute._base._BaseImputer._repr_html_inner: ', type(ret)) # noqa E501\n",
    "except Exception as e:\n",
    "    type_sklearn_impute__base__BaseImputer__repr_html_inner = '_syft_missing'\n",
    "    print('❌ sklearn.impute._base._BaseImputer._repr_html_inner: Return unavailable') # noqa E501\n",
    "    print(\"  Please fix this return type code until there is no exception\")\n",
    "    print('  Error:', e)\n"
   ]
  },
  {
   "cell_type": "code",
   "execution_count": null,
   "id": "judicial-contact",
   "metadata": {},
   "outputs": [],
   "source": [
    "# sklearn.impute._base._BaseImputer._repr_mimebundle_\n",
    "try:\n",
    "    obj = class_constructor() # noqa F821\n",
    "    ret = obj._repr_mimebundle_()\n",
    "    type_sklearn_impute__base__BaseImputer__repr_mimebundle_ = getattr(ret, '__module__', 'none') + '.' + ret.__class__.__name__\n",
    "    print('✅ sklearn.impute._base._BaseImputer._repr_mimebundle_: ', type(ret)) # noqa E501\n",
    "except Exception as e:\n",
    "    type_sklearn_impute__base__BaseImputer__repr_mimebundle_ = '_syft_missing'\n",
    "    print('❌ sklearn.impute._base._BaseImputer._repr_mimebundle_: Return unavailable') # noqa E501\n",
    "    print(\"  Please fix this return type code until there is no exception\")\n",
    "    print('  Error:', e)\n"
   ]
  },
  {
   "cell_type": "code",
   "execution_count": null,
   "id": "southwest-ranking",
   "metadata": {},
   "outputs": [],
   "source": [
    "# sklearn.impute._base._BaseImputer._transform_indicator\n",
    "try:\n",
    "    obj = class_constructor() # noqa F821\n",
    "    ret = obj._transform_indicator()\n",
    "    type_sklearn_impute__base__BaseImputer__transform_indicator = getattr(ret, '__module__', 'none') + '.' + ret.__class__.__name__\n",
    "    print('✅ sklearn.impute._base._BaseImputer._transform_indicator: ', type(ret)) # noqa E501\n",
    "except Exception as e:\n",
    "    type_sklearn_impute__base__BaseImputer__transform_indicator = '_syft_missing'\n",
    "    print('❌ sklearn.impute._base._BaseImputer._transform_indicator: Return unavailable') # noqa E501\n",
    "    print(\"  Please fix this return type code until there is no exception\")\n",
    "    print('  Error:', e)\n"
   ]
  },
  {
   "cell_type": "code",
   "execution_count": null,
   "id": "changing-drive",
   "metadata": {},
   "outputs": [],
   "source": [
    "# sklearn.impute._base._BaseImputer._validate_data\n",
    "try:\n",
    "    obj = class_constructor() # noqa F821\n",
    "    ret = obj._validate_data()\n",
    "    type_sklearn_impute__base__BaseImputer__validate_data = getattr(ret, '__module__', 'none') + '.' + ret.__class__.__name__\n",
    "    print('✅ sklearn.impute._base._BaseImputer._validate_data: ', type(ret)) # noqa E501\n",
    "except Exception as e:\n",
    "    type_sklearn_impute__base__BaseImputer__validate_data = '_syft_missing'\n",
    "    print('❌ sklearn.impute._base._BaseImputer._validate_data: Return unavailable') # noqa E501\n",
    "    print(\"  Please fix this return type code until there is no exception\")\n",
    "    print('  Error:', e)\n"
   ]
  },
  {
   "cell_type": "code",
   "execution_count": null,
   "id": "relative-consent",
   "metadata": {},
   "outputs": [],
   "source": [
    "# sklearn.impute._base._BaseImputer.fit_transform\n",
    "try:\n",
    "    obj = class_constructor() # noqa F821\n",
    "    ret = obj.fit_transform()\n",
    "    type_sklearn_impute__base__BaseImputer_fit_transform = getattr(ret, '__module__', 'none') + '.' + ret.__class__.__name__\n",
    "    print('✅ sklearn.impute._base._BaseImputer.fit_transform: ', type(ret)) # noqa E501\n",
    "except Exception as e:\n",
    "    type_sklearn_impute__base__BaseImputer_fit_transform = '_syft_missing'\n",
    "    print('❌ sklearn.impute._base._BaseImputer.fit_transform: Return unavailable') # noqa E501\n",
    "    print(\"  Please fix this return type code until there is no exception\")\n",
    "    print('  Error:', e)\n"
   ]
  },
  {
   "cell_type": "code",
   "execution_count": null,
   "id": "authentic-penny",
   "metadata": {},
   "outputs": [],
   "source": [
    "# sklearn.impute._base._BaseImputer.get_params\n",
    "try:\n",
    "    obj = class_constructor() # noqa F821\n",
    "    ret = obj.get_params()\n",
    "    type_sklearn_impute__base__BaseImputer_get_params = getattr(ret, '__module__', 'none') + '.' + ret.__class__.__name__\n",
    "    print('✅ sklearn.impute._base._BaseImputer.get_params: ', type(ret)) # noqa E501\n",
    "except Exception as e:\n",
    "    type_sklearn_impute__base__BaseImputer_get_params = '_syft_missing'\n",
    "    print('❌ sklearn.impute._base._BaseImputer.get_params: Return unavailable') # noqa E501\n",
    "    print(\"  Please fix this return type code until there is no exception\")\n",
    "    print('  Error:', e)\n"
   ]
  },
  {
   "cell_type": "code",
   "execution_count": null,
   "id": "rural-healthcare",
   "metadata": {},
   "outputs": [],
   "source": [
    "# sklearn.impute._base._BaseImputer.set_params\n",
    "try:\n",
    "    obj = class_constructor() # noqa F821\n",
    "    ret = obj.set_params()\n",
    "    type_sklearn_impute__base__BaseImputer_set_params = getattr(ret, '__module__', 'none') + '.' + ret.__class__.__name__\n",
    "    print('✅ sklearn.impute._base._BaseImputer.set_params: ', type(ret)) # noqa E501\n",
    "except Exception as e:\n",
    "    type_sklearn_impute__base__BaseImputer_set_params = '_syft_missing'\n",
    "    print('❌ sklearn.impute._base._BaseImputer.set_params: Return unavailable') # noqa E501\n",
    "    print(\"  Please fix this return type code until there is no exception\")\n",
    "    print('  Error:', e)\n"
   ]
  }
 ],
 "metadata": {},
 "nbformat": 4,
 "nbformat_minor": 5
}
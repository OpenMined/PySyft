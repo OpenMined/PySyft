{
 "cells": [
  {
   "cell_type": "markdown",
   "id": "dependent-empty",
   "metadata": {},
   "source": [
    "## sklearn.ensemble._hist_gradient_boosting.predictor.TreePredictor"
   ]
  },
  {
   "cell_type": "code",
   "execution_count": null,
   "id": "considerable-reaction",
   "metadata": {},
   "outputs": [],
   "source": [
    "import sklearn\n",
    "def class_constructor(*args, **kwargs):\n",
    "    obj = sklearn.ensemble._hist_gradient_boosting.predictor.TreePredictor()\n",
    "    return obj\n"
   ]
  },
  {
   "cell_type": "code",
   "execution_count": null,
   "id": "increasing-dressing",
   "metadata": {},
   "outputs": [],
   "source": [
    "# sklearn.ensemble._hist_gradient_boosting.predictor.TreePredictor.compute_partial_dependence\n",
    "try:\n",
    "    obj = class_constructor() # noqa F821\n",
    "    ret = obj.compute_partial_dependence()\n",
    "    type_sklearn_ensemble__hist_gradient_boosting_predictor_TreePredictor_compute_partial_dependence = getattr(ret, '__module__', 'none') + '.' + ret.__class__.__name__\n",
    "    print('✅ sklearn.ensemble._hist_gradient_boosting.predictor.TreePredictor.compute_partial_dependence: ', type(ret)) # noqa E501\n",
    "except Exception as e:\n",
    "    type_sklearn_ensemble__hist_gradient_boosting_predictor_TreePredictor_compute_partial_dependence = '_syft_missing'\n",
    "    print('❌ sklearn.ensemble._hist_gradient_boosting.predictor.TreePredictor.compute_partial_dependence: Return unavailable') # noqa E501\n",
    "    print(\"  Please fix this return type code until there is no exception\")\n",
    "    print('  Error:', e)\n"
   ]
  },
  {
   "cell_type": "code",
   "execution_count": null,
   "id": "developed-complaint",
   "metadata": {},
   "outputs": [],
   "source": [
    "# sklearn.ensemble._hist_gradient_boosting.predictor.TreePredictor.get_max_depth\n",
    "try:\n",
    "    obj = class_constructor() # noqa F821\n",
    "    ret = obj.get_max_depth()\n",
    "    type_sklearn_ensemble__hist_gradient_boosting_predictor_TreePredictor_get_max_depth = getattr(ret, '__module__', 'none') + '.' + ret.__class__.__name__\n",
    "    print('✅ sklearn.ensemble._hist_gradient_boosting.predictor.TreePredictor.get_max_depth: ', type(ret)) # noqa E501\n",
    "except Exception as e:\n",
    "    type_sklearn_ensemble__hist_gradient_boosting_predictor_TreePredictor_get_max_depth = '_syft_missing'\n",
    "    print('❌ sklearn.ensemble._hist_gradient_boosting.predictor.TreePredictor.get_max_depth: Return unavailable') # noqa E501\n",
    "    print(\"  Please fix this return type code until there is no exception\")\n",
    "    print('  Error:', e)\n"
   ]
  },
  {
   "cell_type": "code",
   "execution_count": null,
   "id": "suffering-quarterly",
   "metadata": {},
   "outputs": [],
   "source": [
    "# sklearn.ensemble._hist_gradient_boosting.predictor.TreePredictor.get_n_leaf_nodes\n",
    "try:\n",
    "    obj = class_constructor() # noqa F821\n",
    "    ret = obj.get_n_leaf_nodes()\n",
    "    type_sklearn_ensemble__hist_gradient_boosting_predictor_TreePredictor_get_n_leaf_nodes = getattr(ret, '__module__', 'none') + '.' + ret.__class__.__name__\n",
    "    print('✅ sklearn.ensemble._hist_gradient_boosting.predictor.TreePredictor.get_n_leaf_nodes: ', type(ret)) # noqa E501\n",
    "except Exception as e:\n",
    "    type_sklearn_ensemble__hist_gradient_boosting_predictor_TreePredictor_get_n_leaf_nodes = '_syft_missing'\n",
    "    print('❌ sklearn.ensemble._hist_gradient_boosting.predictor.TreePredictor.get_n_leaf_nodes: Return unavailable') # noqa E501\n",
    "    print(\"  Please fix this return type code until there is no exception\")\n",
    "    print('  Error:', e)\n"
   ]
  },
  {
   "cell_type": "code",
   "execution_count": null,
   "id": "intermediate-university",
   "metadata": {},
   "outputs": [],
   "source": [
    "# sklearn.ensemble._hist_gradient_boosting.predictor.TreePredictor.predict\n",
    "try:\n",
    "    obj = class_constructor() # noqa F821\n",
    "    ret = obj.predict()\n",
    "    type_sklearn_ensemble__hist_gradient_boosting_predictor_TreePredictor_predict = getattr(ret, '__module__', 'none') + '.' + ret.__class__.__name__\n",
    "    print('✅ sklearn.ensemble._hist_gradient_boosting.predictor.TreePredictor.predict: ', type(ret)) # noqa E501\n",
    "except Exception as e:\n",
    "    type_sklearn_ensemble__hist_gradient_boosting_predictor_TreePredictor_predict = '_syft_missing'\n",
    "    print('❌ sklearn.ensemble._hist_gradient_boosting.predictor.TreePredictor.predict: Return unavailable') # noqa E501\n",
    "    print(\"  Please fix this return type code until there is no exception\")\n",
    "    print('  Error:', e)\n"
   ]
  },
  {
   "cell_type": "code",
   "execution_count": null,
   "id": "short-bruce",
   "metadata": {},
   "outputs": [],
   "source": [
    "# sklearn.ensemble._hist_gradient_boosting.predictor.TreePredictor.predict_binned\n",
    "try:\n",
    "    obj = class_constructor() # noqa F821\n",
    "    ret = obj.predict_binned()\n",
    "    type_sklearn_ensemble__hist_gradient_boosting_predictor_TreePredictor_predict_binned = getattr(ret, '__module__', 'none') + '.' + ret.__class__.__name__\n",
    "    print('✅ sklearn.ensemble._hist_gradient_boosting.predictor.TreePredictor.predict_binned: ', type(ret)) # noqa E501\n",
    "except Exception as e:\n",
    "    type_sklearn_ensemble__hist_gradient_boosting_predictor_TreePredictor_predict_binned = '_syft_missing'\n",
    "    print('❌ sklearn.ensemble._hist_gradient_boosting.predictor.TreePredictor.predict_binned: Return unavailable') # noqa E501\n",
    "    print(\"  Please fix this return type code until there is no exception\")\n",
    "    print('  Error:', e)\n"
   ]
  }
 ],
 "metadata": {},
 "nbformat": 4,
 "nbformat_minor": 5
}
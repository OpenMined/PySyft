{
 "cells": [
  {
   "cell_type": "markdown",
   "id": "instructional-enough",
   "metadata": {},
   "source": [
    "## sklearn.ensemble._hist_gradient_boosting.gradient_boosting.BaseHistGradientBoosting"
   ]
  },
  {
   "cell_type": "code",
   "execution_count": null,
   "id": "realistic-illinois",
   "metadata": {},
   "outputs": [],
   "source": [
    "import sklearn\n",
    "def class_constructor(*args, **kwargs):\n",
    "    obj = sklearn.ensemble._hist_gradient_boosting.gradient_boosting.BaseHistGradientBoosting()\n",
    "    return obj\n"
   ]
  },
  {
   "cell_type": "code",
   "execution_count": null,
   "id": "incorrect-shield",
   "metadata": {},
   "outputs": [],
   "source": [
    "# sklearn.ensemble._hist_gradient_boosting.gradient_boosting.BaseHistGradientBoosting.__getstate__\n",
    "try:\n",
    "    obj = class_constructor() # noqa F821\n",
    "    ret = obj.__getstate__()\n",
    "    type_sklearn_ensemble__hist_gradient_boosting_gradient_boosting_BaseHistGradientBoosting___getstate__ = getattr(ret, '__module__', 'none') + '.' + ret.__class__.__name__\n",
    "    print('✅ sklearn.ensemble._hist_gradient_boosting.gradient_boosting.BaseHistGradientBoosting.__getstate__: ', type(ret)) # noqa E501\n",
    "except Exception as e:\n",
    "    type_sklearn_ensemble__hist_gradient_boosting_gradient_boosting_BaseHistGradientBoosting___getstate__ = '_syft_missing'\n",
    "    print('❌ sklearn.ensemble._hist_gradient_boosting.gradient_boosting.BaseHistGradientBoosting.__getstate__: Return unavailable') # noqa E501\n",
    "    print(\"  Please fix this return type code until there is no exception\")\n",
    "    print('  Error:', e)\n"
   ]
  },
  {
   "cell_type": "code",
   "execution_count": null,
   "id": "abstract-identity",
   "metadata": {},
   "outputs": [],
   "source": [
    "# sklearn.ensemble._hist_gradient_boosting.gradient_boosting.BaseHistGradientBoosting.__repr__\n",
    "try:\n",
    "    obj = class_constructor() # noqa F821\n",
    "    ret = obj.__repr__()\n",
    "    type_sklearn_ensemble__hist_gradient_boosting_gradient_boosting_BaseHistGradientBoosting___repr__ = getattr(ret, '__module__', 'none') + '.' + ret.__class__.__name__\n",
    "    print('✅ sklearn.ensemble._hist_gradient_boosting.gradient_boosting.BaseHistGradientBoosting.__repr__: ', type(ret)) # noqa E501\n",
    "except Exception as e:\n",
    "    type_sklearn_ensemble__hist_gradient_boosting_gradient_boosting_BaseHistGradientBoosting___repr__ = '_syft_missing'\n",
    "    print('❌ sklearn.ensemble._hist_gradient_boosting.gradient_boosting.BaseHistGradientBoosting.__repr__: Return unavailable') # noqa E501\n",
    "    print(\"  Please fix this return type code until there is no exception\")\n",
    "    print('  Error:', e)\n"
   ]
  },
  {
   "cell_type": "code",
   "execution_count": null,
   "id": "positive-robert",
   "metadata": {},
   "outputs": [],
   "source": [
    "# sklearn.ensemble._hist_gradient_boosting.gradient_boosting.BaseHistGradientBoosting.__setstate__\n",
    "try:\n",
    "    obj = class_constructor() # noqa F821\n",
    "    ret = obj.__setstate__()\n",
    "    type_sklearn_ensemble__hist_gradient_boosting_gradient_boosting_BaseHistGradientBoosting___setstate__ = getattr(ret, '__module__', 'none') + '.' + ret.__class__.__name__\n",
    "    print('✅ sklearn.ensemble._hist_gradient_boosting.gradient_boosting.BaseHistGradientBoosting.__setstate__: ', type(ret)) # noqa E501\n",
    "except Exception as e:\n",
    "    type_sklearn_ensemble__hist_gradient_boosting_gradient_boosting_BaseHistGradientBoosting___setstate__ = '_syft_missing'\n",
    "    print('❌ sklearn.ensemble._hist_gradient_boosting.gradient_boosting.BaseHistGradientBoosting.__setstate__: Return unavailable') # noqa E501\n",
    "    print(\"  Please fix this return type code until there is no exception\")\n",
    "    print('  Error:', e)\n"
   ]
  },
  {
   "cell_type": "code",
   "execution_count": null,
   "id": "generous-revolution",
   "metadata": {},
   "outputs": [],
   "source": [
    "# sklearn.ensemble._hist_gradient_boosting.gradient_boosting.BaseHistGradientBoosting._bin_data\n",
    "try:\n",
    "    obj = class_constructor() # noqa F821\n",
    "    ret = obj._bin_data()\n",
    "    type_sklearn_ensemble__hist_gradient_boosting_gradient_boosting_BaseHistGradientBoosting__bin_data = getattr(ret, '__module__', 'none') + '.' + ret.__class__.__name__\n",
    "    print('✅ sklearn.ensemble._hist_gradient_boosting.gradient_boosting.BaseHistGradientBoosting._bin_data: ', type(ret)) # noqa E501\n",
    "except Exception as e:\n",
    "    type_sklearn_ensemble__hist_gradient_boosting_gradient_boosting_BaseHistGradientBoosting__bin_data = '_syft_missing'\n",
    "    print('❌ sklearn.ensemble._hist_gradient_boosting.gradient_boosting.BaseHistGradientBoosting._bin_data: Return unavailable') # noqa E501\n",
    "    print(\"  Please fix this return type code until there is no exception\")\n",
    "    print('  Error:', e)\n"
   ]
  },
  {
   "cell_type": "code",
   "execution_count": null,
   "id": "dying-cotton",
   "metadata": {},
   "outputs": [],
   "source": [
    "# sklearn.ensemble._hist_gradient_boosting.gradient_boosting.BaseHistGradientBoosting._check_categories\n",
    "try:\n",
    "    obj = class_constructor() # noqa F821\n",
    "    ret = obj._check_categories()\n",
    "    type_sklearn_ensemble__hist_gradient_boosting_gradient_boosting_BaseHistGradientBoosting__check_categories = getattr(ret, '__module__', 'none') + '.' + ret.__class__.__name__\n",
    "    print('✅ sklearn.ensemble._hist_gradient_boosting.gradient_boosting.BaseHistGradientBoosting._check_categories: ', type(ret)) # noqa E501\n",
    "except Exception as e:\n",
    "    type_sklearn_ensemble__hist_gradient_boosting_gradient_boosting_BaseHistGradientBoosting__check_categories = '_syft_missing'\n",
    "    print('❌ sklearn.ensemble._hist_gradient_boosting.gradient_boosting.BaseHistGradientBoosting._check_categories: Return unavailable') # noqa E501\n",
    "    print(\"  Please fix this return type code until there is no exception\")\n",
    "    print('  Error:', e)\n"
   ]
  },
  {
   "cell_type": "code",
   "execution_count": null,
   "id": "furnished-proposition",
   "metadata": {},
   "outputs": [],
   "source": [
    "# sklearn.ensemble._hist_gradient_boosting.gradient_boosting.BaseHistGradientBoosting._check_early_stopping_loss\n",
    "try:\n",
    "    obj = class_constructor() # noqa F821\n",
    "    ret = obj._check_early_stopping_loss()\n",
    "    type_sklearn_ensemble__hist_gradient_boosting_gradient_boosting_BaseHistGradientBoosting__check_early_stopping_loss = getattr(ret, '__module__', 'none') + '.' + ret.__class__.__name__\n",
    "    print('✅ sklearn.ensemble._hist_gradient_boosting.gradient_boosting.BaseHistGradientBoosting._check_early_stopping_loss: ', type(ret)) # noqa E501\n",
    "except Exception as e:\n",
    "    type_sklearn_ensemble__hist_gradient_boosting_gradient_boosting_BaseHistGradientBoosting__check_early_stopping_loss = '_syft_missing'\n",
    "    print('❌ sklearn.ensemble._hist_gradient_boosting.gradient_boosting.BaseHistGradientBoosting._check_early_stopping_loss: Return unavailable') # noqa E501\n",
    "    print(\"  Please fix this return type code until there is no exception\")\n",
    "    print('  Error:', e)\n"
   ]
  },
  {
   "cell_type": "code",
   "execution_count": null,
   "id": "controlled-validity",
   "metadata": {},
   "outputs": [],
   "source": [
    "# sklearn.ensemble._hist_gradient_boosting.gradient_boosting.BaseHistGradientBoosting._check_early_stopping_scorer\n",
    "try:\n",
    "    obj = class_constructor() # noqa F821\n",
    "    ret = obj._check_early_stopping_scorer()\n",
    "    type_sklearn_ensemble__hist_gradient_boosting_gradient_boosting_BaseHistGradientBoosting__check_early_stopping_scorer = getattr(ret, '__module__', 'none') + '.' + ret.__class__.__name__\n",
    "    print('✅ sklearn.ensemble._hist_gradient_boosting.gradient_boosting.BaseHistGradientBoosting._check_early_stopping_scorer: ', type(ret)) # noqa E501\n",
    "except Exception as e:\n",
    "    type_sklearn_ensemble__hist_gradient_boosting_gradient_boosting_BaseHistGradientBoosting__check_early_stopping_scorer = '_syft_missing'\n",
    "    print('❌ sklearn.ensemble._hist_gradient_boosting.gradient_boosting.BaseHistGradientBoosting._check_early_stopping_scorer: Return unavailable') # noqa E501\n",
    "    print(\"  Please fix this return type code until there is no exception\")\n",
    "    print('  Error:', e)\n"
   ]
  },
  {
   "cell_type": "code",
   "execution_count": null,
   "id": "bacterial-driver",
   "metadata": {},
   "outputs": [],
   "source": [
    "# sklearn.ensemble._hist_gradient_boosting.gradient_boosting.BaseHistGradientBoosting._check_n_features\n",
    "try:\n",
    "    obj = class_constructor() # noqa F821\n",
    "    ret = obj._check_n_features()\n",
    "    type_sklearn_ensemble__hist_gradient_boosting_gradient_boosting_BaseHistGradientBoosting__check_n_features = getattr(ret, '__module__', 'none') + '.' + ret.__class__.__name__\n",
    "    print('✅ sklearn.ensemble._hist_gradient_boosting.gradient_boosting.BaseHistGradientBoosting._check_n_features: ', type(ret)) # noqa E501\n",
    "except Exception as e:\n",
    "    type_sklearn_ensemble__hist_gradient_boosting_gradient_boosting_BaseHistGradientBoosting__check_n_features = '_syft_missing'\n",
    "    print('❌ sklearn.ensemble._hist_gradient_boosting.gradient_boosting.BaseHistGradientBoosting._check_n_features: Return unavailable') # noqa E501\n",
    "    print(\"  Please fix this return type code until there is no exception\")\n",
    "    print('  Error:', e)\n"
   ]
  },
  {
   "cell_type": "code",
   "execution_count": null,
   "id": "funded-serve",
   "metadata": {},
   "outputs": [],
   "source": [
    "# sklearn.ensemble._hist_gradient_boosting.gradient_boosting.BaseHistGradientBoosting._clear_state\n",
    "try:\n",
    "    obj = class_constructor() # noqa F821\n",
    "    ret = obj._clear_state()\n",
    "    type_sklearn_ensemble__hist_gradient_boosting_gradient_boosting_BaseHistGradientBoosting__clear_state = getattr(ret, '__module__', 'none') + '.' + ret.__class__.__name__\n",
    "    print('✅ sklearn.ensemble._hist_gradient_boosting.gradient_boosting.BaseHistGradientBoosting._clear_state: ', type(ret)) # noqa E501\n",
    "except Exception as e:\n",
    "    type_sklearn_ensemble__hist_gradient_boosting_gradient_boosting_BaseHistGradientBoosting__clear_state = '_syft_missing'\n",
    "    print('❌ sklearn.ensemble._hist_gradient_boosting.gradient_boosting.BaseHistGradientBoosting._clear_state: Return unavailable') # noqa E501\n",
    "    print(\"  Please fix this return type code until there is no exception\")\n",
    "    print('  Error:', e)\n"
   ]
  },
  {
   "cell_type": "code",
   "execution_count": null,
   "id": "instant-buying",
   "metadata": {},
   "outputs": [],
   "source": [
    "# sklearn.ensemble._hist_gradient_boosting.gradient_boosting.BaseHistGradientBoosting._compute_partial_dependence_recursion\n",
    "try:\n",
    "    obj = class_constructor() # noqa F821\n",
    "    ret = obj._compute_partial_dependence_recursion()\n",
    "    type_sklearn_ensemble__hist_gradient_boosting_gradient_boosting_BaseHistGradientBoosting__compute_partial_dependence_recursion = getattr(ret, '__module__', 'none') + '.' + ret.__class__.__name__\n",
    "    print('✅ sklearn.ensemble._hist_gradient_boosting.gradient_boosting.BaseHistGradientBoosting._compute_partial_dependence_recursion: ', type(ret)) # noqa E501\n",
    "except Exception as e:\n",
    "    type_sklearn_ensemble__hist_gradient_boosting_gradient_boosting_BaseHistGradientBoosting__compute_partial_dependence_recursion = '_syft_missing'\n",
    "    print('❌ sklearn.ensemble._hist_gradient_boosting.gradient_boosting.BaseHistGradientBoosting._compute_partial_dependence_recursion: Return unavailable') # noqa E501\n",
    "    print(\"  Please fix this return type code until there is no exception\")\n",
    "    print('  Error:', e)\n"
   ]
  },
  {
   "cell_type": "code",
   "execution_count": null,
   "id": "sacred-tissue",
   "metadata": {},
   "outputs": [],
   "source": [
    "# sklearn.ensemble._hist_gradient_boosting.gradient_boosting.BaseHistGradientBoosting._encode_y\n",
    "try:\n",
    "    obj = class_constructor() # noqa F821\n",
    "    ret = obj._encode_y()\n",
    "    type_sklearn_ensemble__hist_gradient_boosting_gradient_boosting_BaseHistGradientBoosting__encode_y = getattr(ret, '__module__', 'none') + '.' + ret.__class__.__name__\n",
    "    print('✅ sklearn.ensemble._hist_gradient_boosting.gradient_boosting.BaseHistGradientBoosting._encode_y: ', type(ret)) # noqa E501\n",
    "except Exception as e:\n",
    "    type_sklearn_ensemble__hist_gradient_boosting_gradient_boosting_BaseHistGradientBoosting__encode_y = '_syft_missing'\n",
    "    print('❌ sklearn.ensemble._hist_gradient_boosting.gradient_boosting.BaseHistGradientBoosting._encode_y: Return unavailable') # noqa E501\n",
    "    print(\"  Please fix this return type code until there is no exception\")\n",
    "    print('  Error:', e)\n"
   ]
  },
  {
   "cell_type": "code",
   "execution_count": null,
   "id": "transsexual-joint",
   "metadata": {},
   "outputs": [],
   "source": [
    "# sklearn.ensemble._hist_gradient_boosting.gradient_boosting.BaseHistGradientBoosting._get_loss\n",
    "try:\n",
    "    obj = class_constructor() # noqa F821\n",
    "    ret = obj._get_loss()\n",
    "    type_sklearn_ensemble__hist_gradient_boosting_gradient_boosting_BaseHistGradientBoosting__get_loss = getattr(ret, '__module__', 'none') + '.' + ret.__class__.__name__\n",
    "    print('✅ sklearn.ensemble._hist_gradient_boosting.gradient_boosting.BaseHistGradientBoosting._get_loss: ', type(ret)) # noqa E501\n",
    "except Exception as e:\n",
    "    type_sklearn_ensemble__hist_gradient_boosting_gradient_boosting_BaseHistGradientBoosting__get_loss = '_syft_missing'\n",
    "    print('❌ sklearn.ensemble._hist_gradient_boosting.gradient_boosting.BaseHistGradientBoosting._get_loss: Return unavailable') # noqa E501\n",
    "    print(\"  Please fix this return type code until there is no exception\")\n",
    "    print('  Error:', e)\n"
   ]
  },
  {
   "cell_type": "code",
   "execution_count": null,
   "id": "inner-melbourne",
   "metadata": {},
   "outputs": [],
   "source": [
    "# sklearn.ensemble._hist_gradient_boosting.gradient_boosting.BaseHistGradientBoosting._get_param_names\n",
    "try:\n",
    "    obj = class_constructor() # noqa F821\n",
    "    ret = obj._get_param_names()\n",
    "    type_sklearn_ensemble__hist_gradient_boosting_gradient_boosting_BaseHistGradientBoosting__get_param_names = getattr(ret, '__module__', 'none') + '.' + ret.__class__.__name__\n",
    "    print('✅ sklearn.ensemble._hist_gradient_boosting.gradient_boosting.BaseHistGradientBoosting._get_param_names: ', type(ret)) # noqa E501\n",
    "except Exception as e:\n",
    "    type_sklearn_ensemble__hist_gradient_boosting_gradient_boosting_BaseHistGradientBoosting__get_param_names = '_syft_missing'\n",
    "    print('❌ sklearn.ensemble._hist_gradient_boosting.gradient_boosting.BaseHistGradientBoosting._get_param_names: Return unavailable') # noqa E501\n",
    "    print(\"  Please fix this return type code until there is no exception\")\n",
    "    print('  Error:', e)\n"
   ]
  },
  {
   "cell_type": "code",
   "execution_count": null,
   "id": "historical-decade",
   "metadata": {},
   "outputs": [],
   "source": [
    "# sklearn.ensemble._hist_gradient_boosting.gradient_boosting.BaseHistGradientBoosting._get_small_trainset\n",
    "try:\n",
    "    obj = class_constructor() # noqa F821\n",
    "    ret = obj._get_small_trainset()\n",
    "    type_sklearn_ensemble__hist_gradient_boosting_gradient_boosting_BaseHistGradientBoosting__get_small_trainset = getattr(ret, '__module__', 'none') + '.' + ret.__class__.__name__\n",
    "    print('✅ sklearn.ensemble._hist_gradient_boosting.gradient_boosting.BaseHistGradientBoosting._get_small_trainset: ', type(ret)) # noqa E501\n",
    "except Exception as e:\n",
    "    type_sklearn_ensemble__hist_gradient_boosting_gradient_boosting_BaseHistGradientBoosting__get_small_trainset = '_syft_missing'\n",
    "    print('❌ sklearn.ensemble._hist_gradient_boosting.gradient_boosting.BaseHistGradientBoosting._get_small_trainset: Return unavailable') # noqa E501\n",
    "    print(\"  Please fix this return type code until there is no exception\")\n",
    "    print('  Error:', e)\n"
   ]
  },
  {
   "cell_type": "code",
   "execution_count": null,
   "id": "demonstrated-publicity",
   "metadata": {},
   "outputs": [],
   "source": [
    "# sklearn.ensemble._hist_gradient_boosting.gradient_boosting.BaseHistGradientBoosting._get_tags\n",
    "try:\n",
    "    obj = class_constructor() # noqa F821\n",
    "    ret = obj._get_tags()\n",
    "    type_sklearn_ensemble__hist_gradient_boosting_gradient_boosting_BaseHistGradientBoosting__get_tags = getattr(ret, '__module__', 'none') + '.' + ret.__class__.__name__\n",
    "    print('✅ sklearn.ensemble._hist_gradient_boosting.gradient_boosting.BaseHistGradientBoosting._get_tags: ', type(ret)) # noqa E501\n",
    "except Exception as e:\n",
    "    type_sklearn_ensemble__hist_gradient_boosting_gradient_boosting_BaseHistGradientBoosting__get_tags = '_syft_missing'\n",
    "    print('❌ sklearn.ensemble._hist_gradient_boosting.gradient_boosting.BaseHistGradientBoosting._get_tags: Return unavailable') # noqa E501\n",
    "    print(\"  Please fix this return type code until there is no exception\")\n",
    "    print('  Error:', e)\n"
   ]
  },
  {
   "cell_type": "code",
   "execution_count": null,
   "id": "sweet-algorithm",
   "metadata": {},
   "outputs": [],
   "source": [
    "# sklearn.ensemble._hist_gradient_boosting.gradient_boosting.BaseHistGradientBoosting._is_fitted\n",
    "try:\n",
    "    obj = class_constructor() # noqa F821\n",
    "    ret = obj._is_fitted()\n",
    "    type_sklearn_ensemble__hist_gradient_boosting_gradient_boosting_BaseHistGradientBoosting__is_fitted = getattr(ret, '__module__', 'none') + '.' + ret.__class__.__name__\n",
    "    print('✅ sklearn.ensemble._hist_gradient_boosting.gradient_boosting.BaseHistGradientBoosting._is_fitted: ', type(ret)) # noqa E501\n",
    "except Exception as e:\n",
    "    type_sklearn_ensemble__hist_gradient_boosting_gradient_boosting_BaseHistGradientBoosting__is_fitted = '_syft_missing'\n",
    "    print('❌ sklearn.ensemble._hist_gradient_boosting.gradient_boosting.BaseHistGradientBoosting._is_fitted: Return unavailable') # noqa E501\n",
    "    print(\"  Please fix this return type code until there is no exception\")\n",
    "    print('  Error:', e)\n"
   ]
  },
  {
   "cell_type": "code",
   "execution_count": null,
   "id": "speaking-tunisia",
   "metadata": {},
   "outputs": [],
   "source": [
    "# sklearn.ensemble._hist_gradient_boosting.gradient_boosting.BaseHistGradientBoosting._more_tags\n",
    "try:\n",
    "    obj = class_constructor() # noqa F821\n",
    "    ret = obj._more_tags()\n",
    "    type_sklearn_ensemble__hist_gradient_boosting_gradient_boosting_BaseHistGradientBoosting__more_tags = getattr(ret, '__module__', 'none') + '.' + ret.__class__.__name__\n",
    "    print('✅ sklearn.ensemble._hist_gradient_boosting.gradient_boosting.BaseHistGradientBoosting._more_tags: ', type(ret)) # noqa E501\n",
    "except Exception as e:\n",
    "    type_sklearn_ensemble__hist_gradient_boosting_gradient_boosting_BaseHistGradientBoosting__more_tags = '_syft_missing'\n",
    "    print('❌ sklearn.ensemble._hist_gradient_boosting.gradient_boosting.BaseHistGradientBoosting._more_tags: Return unavailable') # noqa E501\n",
    "    print(\"  Please fix this return type code until there is no exception\")\n",
    "    print('  Error:', e)\n"
   ]
  },
  {
   "cell_type": "code",
   "execution_count": null,
   "id": "higher-chancellor",
   "metadata": {},
   "outputs": [],
   "source": [
    "# sklearn.ensemble._hist_gradient_boosting.gradient_boosting.BaseHistGradientBoosting._predict_iterations\n",
    "try:\n",
    "    obj = class_constructor() # noqa F821\n",
    "    ret = obj._predict_iterations()\n",
    "    type_sklearn_ensemble__hist_gradient_boosting_gradient_boosting_BaseHistGradientBoosting__predict_iterations = getattr(ret, '__module__', 'none') + '.' + ret.__class__.__name__\n",
    "    print('✅ sklearn.ensemble._hist_gradient_boosting.gradient_boosting.BaseHistGradientBoosting._predict_iterations: ', type(ret)) # noqa E501\n",
    "except Exception as e:\n",
    "    type_sklearn_ensemble__hist_gradient_boosting_gradient_boosting_BaseHistGradientBoosting__predict_iterations = '_syft_missing'\n",
    "    print('❌ sklearn.ensemble._hist_gradient_boosting.gradient_boosting.BaseHistGradientBoosting._predict_iterations: Return unavailable') # noqa E501\n",
    "    print(\"  Please fix this return type code until there is no exception\")\n",
    "    print('  Error:', e)\n"
   ]
  },
  {
   "cell_type": "code",
   "execution_count": null,
   "id": "breathing-finland",
   "metadata": {},
   "outputs": [],
   "source": [
    "# sklearn.ensemble._hist_gradient_boosting.gradient_boosting.BaseHistGradientBoosting._print_iteration_stats\n",
    "try:\n",
    "    obj = class_constructor() # noqa F821\n",
    "    ret = obj._print_iteration_stats()\n",
    "    type_sklearn_ensemble__hist_gradient_boosting_gradient_boosting_BaseHistGradientBoosting__print_iteration_stats = getattr(ret, '__module__', 'none') + '.' + ret.__class__.__name__\n",
    "    print('✅ sklearn.ensemble._hist_gradient_boosting.gradient_boosting.BaseHistGradientBoosting._print_iteration_stats: ', type(ret)) # noqa E501\n",
    "except Exception as e:\n",
    "    type_sklearn_ensemble__hist_gradient_boosting_gradient_boosting_BaseHistGradientBoosting__print_iteration_stats = '_syft_missing'\n",
    "    print('❌ sklearn.ensemble._hist_gradient_boosting.gradient_boosting.BaseHistGradientBoosting._print_iteration_stats: Return unavailable') # noqa E501\n",
    "    print(\"  Please fix this return type code until there is no exception\")\n",
    "    print('  Error:', e)\n"
   ]
  },
  {
   "cell_type": "code",
   "execution_count": null,
   "id": "documented-ideal",
   "metadata": {},
   "outputs": [],
   "source": [
    "# sklearn.ensemble._hist_gradient_boosting.gradient_boosting.BaseHistGradientBoosting._raw_predict\n",
    "try:\n",
    "    obj = class_constructor() # noqa F821\n",
    "    ret = obj._raw_predict()\n",
    "    type_sklearn_ensemble__hist_gradient_boosting_gradient_boosting_BaseHistGradientBoosting__raw_predict = getattr(ret, '__module__', 'none') + '.' + ret.__class__.__name__\n",
    "    print('✅ sklearn.ensemble._hist_gradient_boosting.gradient_boosting.BaseHistGradientBoosting._raw_predict: ', type(ret)) # noqa E501\n",
    "except Exception as e:\n",
    "    type_sklearn_ensemble__hist_gradient_boosting_gradient_boosting_BaseHistGradientBoosting__raw_predict = '_syft_missing'\n",
    "    print('❌ sklearn.ensemble._hist_gradient_boosting.gradient_boosting.BaseHistGradientBoosting._raw_predict: Return unavailable') # noqa E501\n",
    "    print(\"  Please fix this return type code until there is no exception\")\n",
    "    print('  Error:', e)\n"
   ]
  },
  {
   "cell_type": "code",
   "execution_count": null,
   "id": "adjacent-riverside",
   "metadata": {},
   "outputs": [],
   "source": [
    "# sklearn.ensemble._hist_gradient_boosting.gradient_boosting.BaseHistGradientBoosting._repr_html_\n",
    "try:\n",
    "    obj = class_constructor()\n",
    "    ret = obj._repr_html_\n",
    "    type_sklearn_ensemble__hist_gradient_boosting_gradient_boosting_BaseHistGradientBoosting__repr_html_ = getattr(ret, '__module__', 'none') + '.' + ret.__class__.__name__\n",
    "    print('✅ sklearn.ensemble._hist_gradient_boosting.gradient_boosting.BaseHistGradientBoosting._repr_html_:', type(ret)) # noqa E501\n",
    "except Exception as e:\n",
    "    type_sklearn_ensemble__hist_gradient_boosting_gradient_boosting_BaseHistGradientBoosting__repr_html_ = '_syft_missing'\n",
    "    print('❌ sklearn.ensemble._hist_gradient_boosting.gradient_boosting.BaseHistGradientBoosting._repr_html_: Return unavailable') # noqa E501\n",
    "    print(\"  Please fix this return type code until there is no exception\")\n",
    "    print('  Error:', e)\n"
   ]
  },
  {
   "cell_type": "code",
   "execution_count": null,
   "id": "disabled-russell",
   "metadata": {},
   "outputs": [],
   "source": [
    "# sklearn.ensemble._hist_gradient_boosting.gradient_boosting.BaseHistGradientBoosting._repr_html_inner\n",
    "try:\n",
    "    obj = class_constructor() # noqa F821\n",
    "    ret = obj._repr_html_inner()\n",
    "    type_sklearn_ensemble__hist_gradient_boosting_gradient_boosting_BaseHistGradientBoosting__repr_html_inner = getattr(ret, '__module__', 'none') + '.' + ret.__class__.__name__\n",
    "    print('✅ sklearn.ensemble._hist_gradient_boosting.gradient_boosting.BaseHistGradientBoosting._repr_html_inner: ', type(ret)) # noqa E501\n",
    "except Exception as e:\n",
    "    type_sklearn_ensemble__hist_gradient_boosting_gradient_boosting_BaseHistGradientBoosting__repr_html_inner = '_syft_missing'\n",
    "    print('❌ sklearn.ensemble._hist_gradient_boosting.gradient_boosting.BaseHistGradientBoosting._repr_html_inner: Return unavailable') # noqa E501\n",
    "    print(\"  Please fix this return type code until there is no exception\")\n",
    "    print('  Error:', e)\n"
   ]
  },
  {
   "cell_type": "code",
   "execution_count": null,
   "id": "otherwise-airline",
   "metadata": {},
   "outputs": [],
   "source": [
    "# sklearn.ensemble._hist_gradient_boosting.gradient_boosting.BaseHistGradientBoosting._repr_mimebundle_\n",
    "try:\n",
    "    obj = class_constructor() # noqa F821\n",
    "    ret = obj._repr_mimebundle_()\n",
    "    type_sklearn_ensemble__hist_gradient_boosting_gradient_boosting_BaseHistGradientBoosting__repr_mimebundle_ = getattr(ret, '__module__', 'none') + '.' + ret.__class__.__name__\n",
    "    print('✅ sklearn.ensemble._hist_gradient_boosting.gradient_boosting.BaseHistGradientBoosting._repr_mimebundle_: ', type(ret)) # noqa E501\n",
    "except Exception as e:\n",
    "    type_sklearn_ensemble__hist_gradient_boosting_gradient_boosting_BaseHistGradientBoosting__repr_mimebundle_ = '_syft_missing'\n",
    "    print('❌ sklearn.ensemble._hist_gradient_boosting.gradient_boosting.BaseHistGradientBoosting._repr_mimebundle_: Return unavailable') # noqa E501\n",
    "    print(\"  Please fix this return type code until there is no exception\")\n",
    "    print('  Error:', e)\n"
   ]
  },
  {
   "cell_type": "code",
   "execution_count": null,
   "id": "everyday-aurora",
   "metadata": {},
   "outputs": [],
   "source": [
    "# sklearn.ensemble._hist_gradient_boosting.gradient_boosting.BaseHistGradientBoosting._should_stop\n",
    "try:\n",
    "    obj = class_constructor() # noqa F821\n",
    "    ret = obj._should_stop()\n",
    "    type_sklearn_ensemble__hist_gradient_boosting_gradient_boosting_BaseHistGradientBoosting__should_stop = getattr(ret, '__module__', 'none') + '.' + ret.__class__.__name__\n",
    "    print('✅ sklearn.ensemble._hist_gradient_boosting.gradient_boosting.BaseHistGradientBoosting._should_stop: ', type(ret)) # noqa E501\n",
    "except Exception as e:\n",
    "    type_sklearn_ensemble__hist_gradient_boosting_gradient_boosting_BaseHistGradientBoosting__should_stop = '_syft_missing'\n",
    "    print('❌ sklearn.ensemble._hist_gradient_boosting.gradient_boosting.BaseHistGradientBoosting._should_stop: Return unavailable') # noqa E501\n",
    "    print(\"  Please fix this return type code until there is no exception\")\n",
    "    print('  Error:', e)\n"
   ]
  },
  {
   "cell_type": "code",
   "execution_count": null,
   "id": "tribal-adaptation",
   "metadata": {},
   "outputs": [],
   "source": [
    "# sklearn.ensemble._hist_gradient_boosting.gradient_boosting.BaseHistGradientBoosting._staged_raw_predict\n",
    "try:\n",
    "    obj = class_constructor() # noqa F821\n",
    "    ret = obj._staged_raw_predict()\n",
    "    type_sklearn_ensemble__hist_gradient_boosting_gradient_boosting_BaseHistGradientBoosting__staged_raw_predict = getattr(ret, '__module__', 'none') + '.' + ret.__class__.__name__\n",
    "    print('✅ sklearn.ensemble._hist_gradient_boosting.gradient_boosting.BaseHistGradientBoosting._staged_raw_predict: ', type(ret)) # noqa E501\n",
    "except Exception as e:\n",
    "    type_sklearn_ensemble__hist_gradient_boosting_gradient_boosting_BaseHistGradientBoosting__staged_raw_predict = '_syft_missing'\n",
    "    print('❌ sklearn.ensemble._hist_gradient_boosting.gradient_boosting.BaseHistGradientBoosting._staged_raw_predict: Return unavailable') # noqa E501\n",
    "    print(\"  Please fix this return type code until there is no exception\")\n",
    "    print('  Error:', e)\n"
   ]
  },
  {
   "cell_type": "code",
   "execution_count": null,
   "id": "plastic-deposit",
   "metadata": {},
   "outputs": [],
   "source": [
    "# sklearn.ensemble._hist_gradient_boosting.gradient_boosting.BaseHistGradientBoosting._validate_data\n",
    "try:\n",
    "    obj = class_constructor() # noqa F821\n",
    "    ret = obj._validate_data()\n",
    "    type_sklearn_ensemble__hist_gradient_boosting_gradient_boosting_BaseHistGradientBoosting__validate_data = getattr(ret, '__module__', 'none') + '.' + ret.__class__.__name__\n",
    "    print('✅ sklearn.ensemble._hist_gradient_boosting.gradient_boosting.BaseHistGradientBoosting._validate_data: ', type(ret)) # noqa E501\n",
    "except Exception as e:\n",
    "    type_sklearn_ensemble__hist_gradient_boosting_gradient_boosting_BaseHistGradientBoosting__validate_data = '_syft_missing'\n",
    "    print('❌ sklearn.ensemble._hist_gradient_boosting.gradient_boosting.BaseHistGradientBoosting._validate_data: Return unavailable') # noqa E501\n",
    "    print(\"  Please fix this return type code until there is no exception\")\n",
    "    print('  Error:', e)\n"
   ]
  },
  {
   "cell_type": "code",
   "execution_count": null,
   "id": "described-guarantee",
   "metadata": {},
   "outputs": [],
   "source": [
    "# sklearn.ensemble._hist_gradient_boosting.gradient_boosting.BaseHistGradientBoosting._validate_parameters\n",
    "try:\n",
    "    obj = class_constructor() # noqa F821\n",
    "    ret = obj._validate_parameters()\n",
    "    type_sklearn_ensemble__hist_gradient_boosting_gradient_boosting_BaseHistGradientBoosting__validate_parameters = getattr(ret, '__module__', 'none') + '.' + ret.__class__.__name__\n",
    "    print('✅ sklearn.ensemble._hist_gradient_boosting.gradient_boosting.BaseHistGradientBoosting._validate_parameters: ', type(ret)) # noqa E501\n",
    "except Exception as e:\n",
    "    type_sklearn_ensemble__hist_gradient_boosting_gradient_boosting_BaseHistGradientBoosting__validate_parameters = '_syft_missing'\n",
    "    print('❌ sklearn.ensemble._hist_gradient_boosting.gradient_boosting.BaseHistGradientBoosting._validate_parameters: Return unavailable') # noqa E501\n",
    "    print(\"  Please fix this return type code until there is no exception\")\n",
    "    print('  Error:', e)\n"
   ]
  },
  {
   "cell_type": "code",
   "execution_count": null,
   "id": "intellectual-greensboro",
   "metadata": {},
   "outputs": [],
   "source": [
    "# sklearn.ensemble._hist_gradient_boosting.gradient_boosting.BaseHistGradientBoosting.fit\n",
    "try:\n",
    "    obj = class_constructor() # noqa F821\n",
    "    ret = obj.fit()\n",
    "    type_sklearn_ensemble__hist_gradient_boosting_gradient_boosting_BaseHistGradientBoosting_fit = getattr(ret, '__module__', 'none') + '.' + ret.__class__.__name__\n",
    "    print('✅ sklearn.ensemble._hist_gradient_boosting.gradient_boosting.BaseHistGradientBoosting.fit: ', type(ret)) # noqa E501\n",
    "except Exception as e:\n",
    "    type_sklearn_ensemble__hist_gradient_boosting_gradient_boosting_BaseHistGradientBoosting_fit = '_syft_missing'\n",
    "    print('❌ sklearn.ensemble._hist_gradient_boosting.gradient_boosting.BaseHistGradientBoosting.fit: Return unavailable') # noqa E501\n",
    "    print(\"  Please fix this return type code until there is no exception\")\n",
    "    print('  Error:', e)\n"
   ]
  },
  {
   "cell_type": "code",
   "execution_count": null,
   "id": "plastic-bunny",
   "metadata": {},
   "outputs": [],
   "source": [
    "# sklearn.ensemble._hist_gradient_boosting.gradient_boosting.BaseHistGradientBoosting.get_params\n",
    "try:\n",
    "    obj = class_constructor() # noqa F821\n",
    "    ret = obj.get_params()\n",
    "    type_sklearn_ensemble__hist_gradient_boosting_gradient_boosting_BaseHistGradientBoosting_get_params = getattr(ret, '__module__', 'none') + '.' + ret.__class__.__name__\n",
    "    print('✅ sklearn.ensemble._hist_gradient_boosting.gradient_boosting.BaseHistGradientBoosting.get_params: ', type(ret)) # noqa E501\n",
    "except Exception as e:\n",
    "    type_sklearn_ensemble__hist_gradient_boosting_gradient_boosting_BaseHistGradientBoosting_get_params = '_syft_missing'\n",
    "    print('❌ sklearn.ensemble._hist_gradient_boosting.gradient_boosting.BaseHistGradientBoosting.get_params: Return unavailable') # noqa E501\n",
    "    print(\"  Please fix this return type code until there is no exception\")\n",
    "    print('  Error:', e)\n"
   ]
  },
  {
   "cell_type": "code",
   "execution_count": null,
   "id": "ignored-substitute",
   "metadata": {},
   "outputs": [],
   "source": [
    "# sklearn.ensemble._hist_gradient_boosting.gradient_boosting.BaseHistGradientBoosting.n_iter_\n",
    "try:\n",
    "    obj = class_constructor()\n",
    "    ret = obj.n_iter_\n",
    "    type_sklearn_ensemble__hist_gradient_boosting_gradient_boosting_BaseHistGradientBoosting_n_iter_ = getattr(ret, '__module__', 'none') + '.' + ret.__class__.__name__\n",
    "    print('✅ sklearn.ensemble._hist_gradient_boosting.gradient_boosting.BaseHistGradientBoosting.n_iter_:', type(ret)) # noqa E501\n",
    "except Exception as e:\n",
    "    type_sklearn_ensemble__hist_gradient_boosting_gradient_boosting_BaseHistGradientBoosting_n_iter_ = '_syft_missing'\n",
    "    print('❌ sklearn.ensemble._hist_gradient_boosting.gradient_boosting.BaseHistGradientBoosting.n_iter_: Return unavailable') # noqa E501\n",
    "    print(\"  Please fix this return type code until there is no exception\")\n",
    "    print('  Error:', e)\n"
   ]
  },
  {
   "cell_type": "code",
   "execution_count": null,
   "id": "precious-medication",
   "metadata": {},
   "outputs": [],
   "source": [
    "# sklearn.ensemble._hist_gradient_boosting.gradient_boosting.BaseHistGradientBoosting.set_params\n",
    "try:\n",
    "    obj = class_constructor() # noqa F821\n",
    "    ret = obj.set_params()\n",
    "    type_sklearn_ensemble__hist_gradient_boosting_gradient_boosting_BaseHistGradientBoosting_set_params = getattr(ret, '__module__', 'none') + '.' + ret.__class__.__name__\n",
    "    print('✅ sklearn.ensemble._hist_gradient_boosting.gradient_boosting.BaseHistGradientBoosting.set_params: ', type(ret)) # noqa E501\n",
    "except Exception as e:\n",
    "    type_sklearn_ensemble__hist_gradient_boosting_gradient_boosting_BaseHistGradientBoosting_set_params = '_syft_missing'\n",
    "    print('❌ sklearn.ensemble._hist_gradient_boosting.gradient_boosting.BaseHistGradientBoosting.set_params: Return unavailable') # noqa E501\n",
    "    print(\"  Please fix this return type code until there is no exception\")\n",
    "    print('  Error:', e)\n"
   ]
  }
 ],
 "metadata": {},
 "nbformat": 4,
 "nbformat_minor": 5
}
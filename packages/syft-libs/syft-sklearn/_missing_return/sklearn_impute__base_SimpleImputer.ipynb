{
 "cells": [
  {
   "cell_type": "markdown",
   "id": "dimensional-image",
   "metadata": {},
   "source": [
    "## sklearn.impute._base.SimpleImputer"
   ]
  },
  {
   "cell_type": "code",
   "execution_count": null,
   "id": "collectible-value",
   "metadata": {},
   "outputs": [],
   "source": [
    "import sklearn\n",
    "def class_constructor(*args, **kwargs):\n",
    "    obj = sklearn.impute._base.SimpleImputer()\n",
    "    return obj\n"
   ]
  },
  {
   "cell_type": "code",
   "execution_count": null,
   "id": "functioning-lighting",
   "metadata": {},
   "outputs": [],
   "source": [
    "# sklearn.impute._base.SimpleImputer.__getstate__\n",
    "try:\n",
    "    obj = class_constructor() # noqa F821\n",
    "    ret = obj.__getstate__()\n",
    "    type_sklearn_impute__base_SimpleImputer___getstate__ = getattr(ret, '__module__', 'none') + '.' + ret.__class__.__name__\n",
    "    print('✅ sklearn.impute._base.SimpleImputer.__getstate__: ', type(ret)) # noqa E501\n",
    "except Exception as e:\n",
    "    type_sklearn_impute__base_SimpleImputer___getstate__ = '_syft_missing'\n",
    "    print('❌ sklearn.impute._base.SimpleImputer.__getstate__: Return unavailable') # noqa E501\n",
    "    print(\"  Please fix this return type code until there is no exception\")\n",
    "    print('  Error:', e)\n"
   ]
  },
  {
   "cell_type": "code",
   "execution_count": null,
   "id": "precise-contest",
   "metadata": {},
   "outputs": [],
   "source": [
    "# sklearn.impute._base.SimpleImputer.__repr__\n",
    "try:\n",
    "    obj = class_constructor() # noqa F821\n",
    "    ret = obj.__repr__()\n",
    "    type_sklearn_impute__base_SimpleImputer___repr__ = getattr(ret, '__module__', 'none') + '.' + ret.__class__.__name__\n",
    "    print('✅ sklearn.impute._base.SimpleImputer.__repr__: ', type(ret)) # noqa E501\n",
    "except Exception as e:\n",
    "    type_sklearn_impute__base_SimpleImputer___repr__ = '_syft_missing'\n",
    "    print('❌ sklearn.impute._base.SimpleImputer.__repr__: Return unavailable') # noqa E501\n",
    "    print(\"  Please fix this return type code until there is no exception\")\n",
    "    print('  Error:', e)\n"
   ]
  },
  {
   "cell_type": "code",
   "execution_count": null,
   "id": "continuing-surgeon",
   "metadata": {},
   "outputs": [],
   "source": [
    "# sklearn.impute._base.SimpleImputer.__setstate__\n",
    "try:\n",
    "    obj = class_constructor() # noqa F821\n",
    "    ret = obj.__setstate__()\n",
    "    type_sklearn_impute__base_SimpleImputer___setstate__ = getattr(ret, '__module__', 'none') + '.' + ret.__class__.__name__\n",
    "    print('✅ sklearn.impute._base.SimpleImputer.__setstate__: ', type(ret)) # noqa E501\n",
    "except Exception as e:\n",
    "    type_sklearn_impute__base_SimpleImputer___setstate__ = '_syft_missing'\n",
    "    print('❌ sklearn.impute._base.SimpleImputer.__setstate__: Return unavailable') # noqa E501\n",
    "    print(\"  Please fix this return type code until there is no exception\")\n",
    "    print('  Error:', e)\n"
   ]
  },
  {
   "cell_type": "code",
   "execution_count": null,
   "id": "critical-password",
   "metadata": {},
   "outputs": [],
   "source": [
    "# sklearn.impute._base.SimpleImputer._check_n_features\n",
    "try:\n",
    "    obj = class_constructor() # noqa F821\n",
    "    ret = obj._check_n_features()\n",
    "    type_sklearn_impute__base_SimpleImputer__check_n_features = getattr(ret, '__module__', 'none') + '.' + ret.__class__.__name__\n",
    "    print('✅ sklearn.impute._base.SimpleImputer._check_n_features: ', type(ret)) # noqa E501\n",
    "except Exception as e:\n",
    "    type_sklearn_impute__base_SimpleImputer__check_n_features = '_syft_missing'\n",
    "    print('❌ sklearn.impute._base.SimpleImputer._check_n_features: Return unavailable') # noqa E501\n",
    "    print(\"  Please fix this return type code until there is no exception\")\n",
    "    print('  Error:', e)\n"
   ]
  },
  {
   "cell_type": "code",
   "execution_count": null,
   "id": "julian-balance",
   "metadata": {},
   "outputs": [],
   "source": [
    "# sklearn.impute._base.SimpleImputer._concatenate_indicator\n",
    "try:\n",
    "    obj = class_constructor() # noqa F821\n",
    "    ret = obj._concatenate_indicator()\n",
    "    type_sklearn_impute__base_SimpleImputer__concatenate_indicator = getattr(ret, '__module__', 'none') + '.' + ret.__class__.__name__\n",
    "    print('✅ sklearn.impute._base.SimpleImputer._concatenate_indicator: ', type(ret)) # noqa E501\n",
    "except Exception as e:\n",
    "    type_sklearn_impute__base_SimpleImputer__concatenate_indicator = '_syft_missing'\n",
    "    print('❌ sklearn.impute._base.SimpleImputer._concatenate_indicator: Return unavailable') # noqa E501\n",
    "    print(\"  Please fix this return type code until there is no exception\")\n",
    "    print('  Error:', e)\n"
   ]
  },
  {
   "cell_type": "code",
   "execution_count": null,
   "id": "related-analysis",
   "metadata": {},
   "outputs": [],
   "source": [
    "# sklearn.impute._base.SimpleImputer._dense_fit\n",
    "try:\n",
    "    obj = class_constructor() # noqa F821\n",
    "    ret = obj._dense_fit()\n",
    "    type_sklearn_impute__base_SimpleImputer__dense_fit = getattr(ret, '__module__', 'none') + '.' + ret.__class__.__name__\n",
    "    print('✅ sklearn.impute._base.SimpleImputer._dense_fit: ', type(ret)) # noqa E501\n",
    "except Exception as e:\n",
    "    type_sklearn_impute__base_SimpleImputer__dense_fit = '_syft_missing'\n",
    "    print('❌ sklearn.impute._base.SimpleImputer._dense_fit: Return unavailable') # noqa E501\n",
    "    print(\"  Please fix this return type code until there is no exception\")\n",
    "    print('  Error:', e)\n"
   ]
  },
  {
   "cell_type": "code",
   "execution_count": null,
   "id": "elementary-stack",
   "metadata": {},
   "outputs": [],
   "source": [
    "# sklearn.impute._base.SimpleImputer._fit_indicator\n",
    "try:\n",
    "    obj = class_constructor() # noqa F821\n",
    "    ret = obj._fit_indicator()\n",
    "    type_sklearn_impute__base_SimpleImputer__fit_indicator = getattr(ret, '__module__', 'none') + '.' + ret.__class__.__name__\n",
    "    print('✅ sklearn.impute._base.SimpleImputer._fit_indicator: ', type(ret)) # noqa E501\n",
    "except Exception as e:\n",
    "    type_sklearn_impute__base_SimpleImputer__fit_indicator = '_syft_missing'\n",
    "    print('❌ sklearn.impute._base.SimpleImputer._fit_indicator: Return unavailable') # noqa E501\n",
    "    print(\"  Please fix this return type code until there is no exception\")\n",
    "    print('  Error:', e)\n"
   ]
  },
  {
   "cell_type": "code",
   "execution_count": null,
   "id": "underlying-occasions",
   "metadata": {},
   "outputs": [],
   "source": [
    "# sklearn.impute._base.SimpleImputer._get_param_names\n",
    "try:\n",
    "    obj = class_constructor() # noqa F821\n",
    "    ret = obj._get_param_names()\n",
    "    type_sklearn_impute__base_SimpleImputer__get_param_names = getattr(ret, '__module__', 'none') + '.' + ret.__class__.__name__\n",
    "    print('✅ sklearn.impute._base.SimpleImputer._get_param_names: ', type(ret)) # noqa E501\n",
    "except Exception as e:\n",
    "    type_sklearn_impute__base_SimpleImputer__get_param_names = '_syft_missing'\n",
    "    print('❌ sklearn.impute._base.SimpleImputer._get_param_names: Return unavailable') # noqa E501\n",
    "    print(\"  Please fix this return type code until there is no exception\")\n",
    "    print('  Error:', e)\n"
   ]
  },
  {
   "cell_type": "code",
   "execution_count": null,
   "id": "universal-dylan",
   "metadata": {},
   "outputs": [],
   "source": [
    "# sklearn.impute._base.SimpleImputer._get_tags\n",
    "try:\n",
    "    obj = class_constructor() # noqa F821\n",
    "    ret = obj._get_tags()\n",
    "    type_sklearn_impute__base_SimpleImputer__get_tags = getattr(ret, '__module__', 'none') + '.' + ret.__class__.__name__\n",
    "    print('✅ sklearn.impute._base.SimpleImputer._get_tags: ', type(ret)) # noqa E501\n",
    "except Exception as e:\n",
    "    type_sklearn_impute__base_SimpleImputer__get_tags = '_syft_missing'\n",
    "    print('❌ sklearn.impute._base.SimpleImputer._get_tags: Return unavailable') # noqa E501\n",
    "    print(\"  Please fix this return type code until there is no exception\")\n",
    "    print('  Error:', e)\n"
   ]
  },
  {
   "cell_type": "code",
   "execution_count": null,
   "id": "mechanical-electric",
   "metadata": {},
   "outputs": [],
   "source": [
    "# sklearn.impute._base.SimpleImputer._more_tags\n",
    "try:\n",
    "    obj = class_constructor() # noqa F821\n",
    "    ret = obj._more_tags()\n",
    "    type_sklearn_impute__base_SimpleImputer__more_tags = getattr(ret, '__module__', 'none') + '.' + ret.__class__.__name__\n",
    "    print('✅ sklearn.impute._base.SimpleImputer._more_tags: ', type(ret)) # noqa E501\n",
    "except Exception as e:\n",
    "    type_sklearn_impute__base_SimpleImputer__more_tags = '_syft_missing'\n",
    "    print('❌ sklearn.impute._base.SimpleImputer._more_tags: Return unavailable') # noqa E501\n",
    "    print(\"  Please fix this return type code until there is no exception\")\n",
    "    print('  Error:', e)\n"
   ]
  },
  {
   "cell_type": "code",
   "execution_count": null,
   "id": "facial-anxiety",
   "metadata": {},
   "outputs": [],
   "source": [
    "# sklearn.impute._base.SimpleImputer._repr_html_\n",
    "try:\n",
    "    obj = class_constructor()\n",
    "    ret = obj._repr_html_\n",
    "    type_sklearn_impute__base_SimpleImputer__repr_html_ = getattr(ret, '__module__', 'none') + '.' + ret.__class__.__name__\n",
    "    print('✅ sklearn.impute._base.SimpleImputer._repr_html_:', type(ret)) # noqa E501\n",
    "except Exception as e:\n",
    "    type_sklearn_impute__base_SimpleImputer__repr_html_ = '_syft_missing'\n",
    "    print('❌ sklearn.impute._base.SimpleImputer._repr_html_: Return unavailable') # noqa E501\n",
    "    print(\"  Please fix this return type code until there is no exception\")\n",
    "    print('  Error:', e)\n"
   ]
  },
  {
   "cell_type": "code",
   "execution_count": null,
   "id": "hungarian-component",
   "metadata": {},
   "outputs": [],
   "source": [
    "# sklearn.impute._base.SimpleImputer._repr_html_inner\n",
    "try:\n",
    "    obj = class_constructor() # noqa F821\n",
    "    ret = obj._repr_html_inner()\n",
    "    type_sklearn_impute__base_SimpleImputer__repr_html_inner = getattr(ret, '__module__', 'none') + '.' + ret.__class__.__name__\n",
    "    print('✅ sklearn.impute._base.SimpleImputer._repr_html_inner: ', type(ret)) # noqa E501\n",
    "except Exception as e:\n",
    "    type_sklearn_impute__base_SimpleImputer__repr_html_inner = '_syft_missing'\n",
    "    print('❌ sklearn.impute._base.SimpleImputer._repr_html_inner: Return unavailable') # noqa E501\n",
    "    print(\"  Please fix this return type code until there is no exception\")\n",
    "    print('  Error:', e)\n"
   ]
  },
  {
   "cell_type": "code",
   "execution_count": null,
   "id": "killing-genealogy",
   "metadata": {},
   "outputs": [],
   "source": [
    "# sklearn.impute._base.SimpleImputer._repr_mimebundle_\n",
    "try:\n",
    "    obj = class_constructor() # noqa F821\n",
    "    ret = obj._repr_mimebundle_()\n",
    "    type_sklearn_impute__base_SimpleImputer__repr_mimebundle_ = getattr(ret, '__module__', 'none') + '.' + ret.__class__.__name__\n",
    "    print('✅ sklearn.impute._base.SimpleImputer._repr_mimebundle_: ', type(ret)) # noqa E501\n",
    "except Exception as e:\n",
    "    type_sklearn_impute__base_SimpleImputer__repr_mimebundle_ = '_syft_missing'\n",
    "    print('❌ sklearn.impute._base.SimpleImputer._repr_mimebundle_: Return unavailable') # noqa E501\n",
    "    print(\"  Please fix this return type code until there is no exception\")\n",
    "    print('  Error:', e)\n"
   ]
  },
  {
   "cell_type": "code",
   "execution_count": null,
   "id": "billion-fortune",
   "metadata": {},
   "outputs": [],
   "source": [
    "# sklearn.impute._base.SimpleImputer._sparse_fit\n",
    "try:\n",
    "    obj = class_constructor() # noqa F821\n",
    "    ret = obj._sparse_fit()\n",
    "    type_sklearn_impute__base_SimpleImputer__sparse_fit = getattr(ret, '__module__', 'none') + '.' + ret.__class__.__name__\n",
    "    print('✅ sklearn.impute._base.SimpleImputer._sparse_fit: ', type(ret)) # noqa E501\n",
    "except Exception as e:\n",
    "    type_sklearn_impute__base_SimpleImputer__sparse_fit = '_syft_missing'\n",
    "    print('❌ sklearn.impute._base.SimpleImputer._sparse_fit: Return unavailable') # noqa E501\n",
    "    print(\"  Please fix this return type code until there is no exception\")\n",
    "    print('  Error:', e)\n"
   ]
  },
  {
   "cell_type": "code",
   "execution_count": null,
   "id": "substantial-violation",
   "metadata": {},
   "outputs": [],
   "source": [
    "# sklearn.impute._base.SimpleImputer._transform_indicator\n",
    "try:\n",
    "    obj = class_constructor() # noqa F821\n",
    "    ret = obj._transform_indicator()\n",
    "    type_sklearn_impute__base_SimpleImputer__transform_indicator = getattr(ret, '__module__', 'none') + '.' + ret.__class__.__name__\n",
    "    print('✅ sklearn.impute._base.SimpleImputer._transform_indicator: ', type(ret)) # noqa E501\n",
    "except Exception as e:\n",
    "    type_sklearn_impute__base_SimpleImputer__transform_indicator = '_syft_missing'\n",
    "    print('❌ sklearn.impute._base.SimpleImputer._transform_indicator: Return unavailable') # noqa E501\n",
    "    print(\"  Please fix this return type code until there is no exception\")\n",
    "    print('  Error:', e)\n"
   ]
  },
  {
   "cell_type": "code",
   "execution_count": null,
   "id": "animated-sucking",
   "metadata": {},
   "outputs": [],
   "source": [
    "# sklearn.impute._base.SimpleImputer._validate_data\n",
    "try:\n",
    "    obj = class_constructor() # noqa F821\n",
    "    ret = obj._validate_data()\n",
    "    type_sklearn_impute__base_SimpleImputer__validate_data = getattr(ret, '__module__', 'none') + '.' + ret.__class__.__name__\n",
    "    print('✅ sklearn.impute._base.SimpleImputer._validate_data: ', type(ret)) # noqa E501\n",
    "except Exception as e:\n",
    "    type_sklearn_impute__base_SimpleImputer__validate_data = '_syft_missing'\n",
    "    print('❌ sklearn.impute._base.SimpleImputer._validate_data: Return unavailable') # noqa E501\n",
    "    print(\"  Please fix this return type code until there is no exception\")\n",
    "    print('  Error:', e)\n"
   ]
  },
  {
   "cell_type": "code",
   "execution_count": null,
   "id": "studied-stranger",
   "metadata": {},
   "outputs": [],
   "source": [
    "# sklearn.impute._base.SimpleImputer._validate_input\n",
    "try:\n",
    "    obj = class_constructor() # noqa F821\n",
    "    ret = obj._validate_input()\n",
    "    type_sklearn_impute__base_SimpleImputer__validate_input = getattr(ret, '__module__', 'none') + '.' + ret.__class__.__name__\n",
    "    print('✅ sklearn.impute._base.SimpleImputer._validate_input: ', type(ret)) # noqa E501\n",
    "except Exception as e:\n",
    "    type_sklearn_impute__base_SimpleImputer__validate_input = '_syft_missing'\n",
    "    print('❌ sklearn.impute._base.SimpleImputer._validate_input: Return unavailable') # noqa E501\n",
    "    print(\"  Please fix this return type code until there is no exception\")\n",
    "    print('  Error:', e)\n"
   ]
  },
  {
   "cell_type": "code",
   "execution_count": null,
   "id": "prescribed-liverpool",
   "metadata": {},
   "outputs": [],
   "source": [
    "# sklearn.impute._base.SimpleImputer.fit\n",
    "try:\n",
    "    obj = class_constructor() # noqa F821\n",
    "    ret = obj.fit()\n",
    "    type_sklearn_impute__base_SimpleImputer_fit = getattr(ret, '__module__', 'none') + '.' + ret.__class__.__name__\n",
    "    print('✅ sklearn.impute._base.SimpleImputer.fit: ', type(ret)) # noqa E501\n",
    "except Exception as e:\n",
    "    type_sklearn_impute__base_SimpleImputer_fit = '_syft_missing'\n",
    "    print('❌ sklearn.impute._base.SimpleImputer.fit: Return unavailable') # noqa E501\n",
    "    print(\"  Please fix this return type code until there is no exception\")\n",
    "    print('  Error:', e)\n"
   ]
  },
  {
   "cell_type": "code",
   "execution_count": null,
   "id": "hungarian-layout",
   "metadata": {},
   "outputs": [],
   "source": [
    "# sklearn.impute._base.SimpleImputer.fit_transform\n",
    "try:\n",
    "    obj = class_constructor() # noqa F821\n",
    "    ret = obj.fit_transform()\n",
    "    type_sklearn_impute__base_SimpleImputer_fit_transform = getattr(ret, '__module__', 'none') + '.' + ret.__class__.__name__\n",
    "    print('✅ sklearn.impute._base.SimpleImputer.fit_transform: ', type(ret)) # noqa E501\n",
    "except Exception as e:\n",
    "    type_sklearn_impute__base_SimpleImputer_fit_transform = '_syft_missing'\n",
    "    print('❌ sklearn.impute._base.SimpleImputer.fit_transform: Return unavailable') # noqa E501\n",
    "    print(\"  Please fix this return type code until there is no exception\")\n",
    "    print('  Error:', e)\n"
   ]
  },
  {
   "cell_type": "code",
   "execution_count": null,
   "id": "formal-herald",
   "metadata": {},
   "outputs": [],
   "source": [
    "# sklearn.impute._base.SimpleImputer.get_params\n",
    "try:\n",
    "    obj = class_constructor() # noqa F821\n",
    "    ret = obj.get_params()\n",
    "    type_sklearn_impute__base_SimpleImputer_get_params = getattr(ret, '__module__', 'none') + '.' + ret.__class__.__name__\n",
    "    print('✅ sklearn.impute._base.SimpleImputer.get_params: ', type(ret)) # noqa E501\n",
    "except Exception as e:\n",
    "    type_sklearn_impute__base_SimpleImputer_get_params = '_syft_missing'\n",
    "    print('❌ sklearn.impute._base.SimpleImputer.get_params: Return unavailable') # noqa E501\n",
    "    print(\"  Please fix this return type code until there is no exception\")\n",
    "    print('  Error:', e)\n"
   ]
  },
  {
   "cell_type": "code",
   "execution_count": null,
   "id": "sudden-roots",
   "metadata": {},
   "outputs": [],
   "source": [
    "# sklearn.impute._base.SimpleImputer.inverse_transform\n",
    "try:\n",
    "    obj = class_constructor() # noqa F821\n",
    "    ret = obj.inverse_transform()\n",
    "    type_sklearn_impute__base_SimpleImputer_inverse_transform = getattr(ret, '__module__', 'none') + '.' + ret.__class__.__name__\n",
    "    print('✅ sklearn.impute._base.SimpleImputer.inverse_transform: ', type(ret)) # noqa E501\n",
    "except Exception as e:\n",
    "    type_sklearn_impute__base_SimpleImputer_inverse_transform = '_syft_missing'\n",
    "    print('❌ sklearn.impute._base.SimpleImputer.inverse_transform: Return unavailable') # noqa E501\n",
    "    print(\"  Please fix this return type code until there is no exception\")\n",
    "    print('  Error:', e)\n"
   ]
  },
  {
   "cell_type": "code",
   "execution_count": null,
   "id": "opposed-economics",
   "metadata": {},
   "outputs": [],
   "source": [
    "# sklearn.impute._base.SimpleImputer.set_params\n",
    "try:\n",
    "    obj = class_constructor() # noqa F821\n",
    "    ret = obj.set_params()\n",
    "    type_sklearn_impute__base_SimpleImputer_set_params = getattr(ret, '__module__', 'none') + '.' + ret.__class__.__name__\n",
    "    print('✅ sklearn.impute._base.SimpleImputer.set_params: ', type(ret)) # noqa E501\n",
    "except Exception as e:\n",
    "    type_sklearn_impute__base_SimpleImputer_set_params = '_syft_missing'\n",
    "    print('❌ sklearn.impute._base.SimpleImputer.set_params: Return unavailable') # noqa E501\n",
    "    print(\"  Please fix this return type code until there is no exception\")\n",
    "    print('  Error:', e)\n"
   ]
  },
  {
   "cell_type": "code",
   "execution_count": null,
   "id": "understanding-culture",
   "metadata": {},
   "outputs": [],
   "source": [
    "# sklearn.impute._base.SimpleImputer.transform\n",
    "try:\n",
    "    obj = class_constructor() # noqa F821\n",
    "    ret = obj.transform()\n",
    "    type_sklearn_impute__base_SimpleImputer_transform = getattr(ret, '__module__', 'none') + '.' + ret.__class__.__name__\n",
    "    print('✅ sklearn.impute._base.SimpleImputer.transform: ', type(ret)) # noqa E501\n",
    "except Exception as e:\n",
    "    type_sklearn_impute__base_SimpleImputer_transform = '_syft_missing'\n",
    "    print('❌ sklearn.impute._base.SimpleImputer.transform: Return unavailable') # noqa E501\n",
    "    print(\"  Please fix this return type code until there is no exception\")\n",
    "    print('  Error:', e)\n"
   ]
  }
 ],
 "metadata": {},
 "nbformat": 4,
 "nbformat_minor": 5
}
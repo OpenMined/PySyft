{
 "cells": [
  {
   "cell_type": "markdown",
   "id": "pediatric-serial",
   "metadata": {},
   "source": [
    "## sklearn.metrics._plot.det_curve.DetCurveDisplay"
   ]
  },
  {
   "cell_type": "code",
   "execution_count": null,
   "id": "fallen-variance",
   "metadata": {},
   "outputs": [],
   "source": [
    "import sklearn\n",
    "def class_constructor(*args, **kwargs):\n",
    "    obj = sklearn.metrics._plot.det_curve.DetCurveDisplay()\n",
    "    return obj\n"
   ]
  },
  {
   "cell_type": "code",
   "execution_count": null,
   "id": "sharing-disclosure",
   "metadata": {},
   "outputs": [],
   "source": [
    "# sklearn.metrics._plot.det_curve.DetCurveDisplay.plot\n",
    "try:\n",
    "    obj = class_constructor() # noqa F821\n",
    "    ret = obj.plot()\n",
    "    type_sklearn_metrics__plot_det_curve_DetCurveDisplay_plot = getattr(ret, '__module__', 'none') + '.' + ret.__class__.__name__\n",
    "    print('✅ sklearn.metrics._plot.det_curve.DetCurveDisplay.plot: ', type(ret)) # noqa E501\n",
    "except Exception as e:\n",
    "    type_sklearn_metrics__plot_det_curve_DetCurveDisplay_plot = '_syft_missing'\n",
    "    print('❌ sklearn.metrics._plot.det_curve.DetCurveDisplay.plot: Return unavailable') # noqa E501\n",
    "    print(\"  Please fix this return type code until there is no exception\")\n",
    "    print('  Error:', e)\n"
   ]
  }
 ],
 "metadata": {},
 "nbformat": 4,
 "nbformat_minor": 5
}
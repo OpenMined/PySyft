{
 "cells": [
  {
   "cell_type": "markdown",
   "id": "compliant-mississippi",
   "metadata": {},
   "source": [
    "## sklearn.cross_decomposition._pls.PLSSVD"
   ]
  },
  {
   "cell_type": "code",
   "execution_count": null,
   "id": "average-money",
   "metadata": {},
   "outputs": [],
   "source": [
    "import sklearn\n",
    "def class_constructor(*args, **kwargs):\n",
    "    obj = sklearn.cross_decomposition._pls.PLSSVD()\n",
    "    return obj\n"
   ]
  },
  {
   "cell_type": "code",
   "execution_count": null,
   "id": "flexible-bandwidth",
   "metadata": {},
   "outputs": [],
   "source": [
    "# sklearn.cross_decomposition._pls.PLSSVD.__getstate__\n",
    "try:\n",
    "    obj = class_constructor() # noqa F821\n",
    "    ret = obj.__getstate__()\n",
    "    type_sklearn_cross_decomposition__pls_PLSSVD___getstate__ = getattr(ret, '__module__', 'none') + '.' + ret.__class__.__name__\n",
    "    print('✅ sklearn.cross_decomposition._pls.PLSSVD.__getstate__: ', type(ret)) # noqa E501\n",
    "except Exception as e:\n",
    "    type_sklearn_cross_decomposition__pls_PLSSVD___getstate__ = '_syft_missing'\n",
    "    print('❌ sklearn.cross_decomposition._pls.PLSSVD.__getstate__: Return unavailable') # noqa E501\n",
    "    print(\"  Please fix this return type code until there is no exception\")\n",
    "    print('  Error:', e)\n"
   ]
  },
  {
   "cell_type": "code",
   "execution_count": null,
   "id": "funny-facial",
   "metadata": {},
   "outputs": [],
   "source": [
    "# sklearn.cross_decomposition._pls.PLSSVD.__repr__\n",
    "try:\n",
    "    obj = class_constructor() # noqa F821\n",
    "    ret = obj.__repr__()\n",
    "    type_sklearn_cross_decomposition__pls_PLSSVD___repr__ = getattr(ret, '__module__', 'none') + '.' + ret.__class__.__name__\n",
    "    print('✅ sklearn.cross_decomposition._pls.PLSSVD.__repr__: ', type(ret)) # noqa E501\n",
    "except Exception as e:\n",
    "    type_sklearn_cross_decomposition__pls_PLSSVD___repr__ = '_syft_missing'\n",
    "    print('❌ sklearn.cross_decomposition._pls.PLSSVD.__repr__: Return unavailable') # noqa E501\n",
    "    print(\"  Please fix this return type code until there is no exception\")\n",
    "    print('  Error:', e)\n"
   ]
  },
  {
   "cell_type": "code",
   "execution_count": null,
   "id": "roman-camera",
   "metadata": {},
   "outputs": [],
   "source": [
    "# sklearn.cross_decomposition._pls.PLSSVD.__setstate__\n",
    "try:\n",
    "    obj = class_constructor() # noqa F821\n",
    "    ret = obj.__setstate__()\n",
    "    type_sklearn_cross_decomposition__pls_PLSSVD___setstate__ = getattr(ret, '__module__', 'none') + '.' + ret.__class__.__name__\n",
    "    print('✅ sklearn.cross_decomposition._pls.PLSSVD.__setstate__: ', type(ret)) # noqa E501\n",
    "except Exception as e:\n",
    "    type_sklearn_cross_decomposition__pls_PLSSVD___setstate__ = '_syft_missing'\n",
    "    print('❌ sklearn.cross_decomposition._pls.PLSSVD.__setstate__: Return unavailable') # noqa E501\n",
    "    print(\"  Please fix this return type code until there is no exception\")\n",
    "    print('  Error:', e)\n"
   ]
  },
  {
   "cell_type": "code",
   "execution_count": null,
   "id": "accomplished-chamber",
   "metadata": {},
   "outputs": [],
   "source": [
    "# sklearn.cross_decomposition._pls.PLSSVD._check_n_features\n",
    "try:\n",
    "    obj = class_constructor() # noqa F821\n",
    "    ret = obj._check_n_features()\n",
    "    type_sklearn_cross_decomposition__pls_PLSSVD__check_n_features = getattr(ret, '__module__', 'none') + '.' + ret.__class__.__name__\n",
    "    print('✅ sklearn.cross_decomposition._pls.PLSSVD._check_n_features: ', type(ret)) # noqa E501\n",
    "except Exception as e:\n",
    "    type_sklearn_cross_decomposition__pls_PLSSVD__check_n_features = '_syft_missing'\n",
    "    print('❌ sklearn.cross_decomposition._pls.PLSSVD._check_n_features: Return unavailable') # noqa E501\n",
    "    print(\"  Please fix this return type code until there is no exception\")\n",
    "    print('  Error:', e)\n"
   ]
  },
  {
   "cell_type": "code",
   "execution_count": null,
   "id": "coordinated-exposure",
   "metadata": {},
   "outputs": [],
   "source": [
    "# sklearn.cross_decomposition._pls.PLSSVD._get_param_names\n",
    "try:\n",
    "    obj = class_constructor() # noqa F821\n",
    "    ret = obj._get_param_names()\n",
    "    type_sklearn_cross_decomposition__pls_PLSSVD__get_param_names = getattr(ret, '__module__', 'none') + '.' + ret.__class__.__name__\n",
    "    print('✅ sklearn.cross_decomposition._pls.PLSSVD._get_param_names: ', type(ret)) # noqa E501\n",
    "except Exception as e:\n",
    "    type_sklearn_cross_decomposition__pls_PLSSVD__get_param_names = '_syft_missing'\n",
    "    print('❌ sklearn.cross_decomposition._pls.PLSSVD._get_param_names: Return unavailable') # noqa E501\n",
    "    print(\"  Please fix this return type code until there is no exception\")\n",
    "    print('  Error:', e)\n"
   ]
  },
  {
   "cell_type": "code",
   "execution_count": null,
   "id": "compatible-settle",
   "metadata": {},
   "outputs": [],
   "source": [
    "# sklearn.cross_decomposition._pls.PLSSVD._get_tags\n",
    "try:\n",
    "    obj = class_constructor() # noqa F821\n",
    "    ret = obj._get_tags()\n",
    "    type_sklearn_cross_decomposition__pls_PLSSVD__get_tags = getattr(ret, '__module__', 'none') + '.' + ret.__class__.__name__\n",
    "    print('✅ sklearn.cross_decomposition._pls.PLSSVD._get_tags: ', type(ret)) # noqa E501\n",
    "except Exception as e:\n",
    "    type_sklearn_cross_decomposition__pls_PLSSVD__get_tags = '_syft_missing'\n",
    "    print('❌ sklearn.cross_decomposition._pls.PLSSVD._get_tags: Return unavailable') # noqa E501\n",
    "    print(\"  Please fix this return type code until there is no exception\")\n",
    "    print('  Error:', e)\n"
   ]
  },
  {
   "cell_type": "code",
   "execution_count": null,
   "id": "educational-balloon",
   "metadata": {},
   "outputs": [],
   "source": [
    "# sklearn.cross_decomposition._pls.PLSSVD._more_tags\n",
    "try:\n",
    "    obj = class_constructor() # noqa F821\n",
    "    ret = obj._more_tags()\n",
    "    type_sklearn_cross_decomposition__pls_PLSSVD__more_tags = getattr(ret, '__module__', 'none') + '.' + ret.__class__.__name__\n",
    "    print('✅ sklearn.cross_decomposition._pls.PLSSVD._more_tags: ', type(ret)) # noqa E501\n",
    "except Exception as e:\n",
    "    type_sklearn_cross_decomposition__pls_PLSSVD__more_tags = '_syft_missing'\n",
    "    print('❌ sklearn.cross_decomposition._pls.PLSSVD._more_tags: Return unavailable') # noqa E501\n",
    "    print(\"  Please fix this return type code until there is no exception\")\n",
    "    print('  Error:', e)\n"
   ]
  },
  {
   "cell_type": "code",
   "execution_count": null,
   "id": "under-fabric",
   "metadata": {},
   "outputs": [],
   "source": [
    "# sklearn.cross_decomposition._pls.PLSSVD._repr_html_\n",
    "try:\n",
    "    obj = class_constructor()\n",
    "    ret = obj._repr_html_\n",
    "    type_sklearn_cross_decomposition__pls_PLSSVD__repr_html_ = getattr(ret, '__module__', 'none') + '.' + ret.__class__.__name__\n",
    "    print('✅ sklearn.cross_decomposition._pls.PLSSVD._repr_html_:', type(ret)) # noqa E501\n",
    "except Exception as e:\n",
    "    type_sklearn_cross_decomposition__pls_PLSSVD__repr_html_ = '_syft_missing'\n",
    "    print('❌ sklearn.cross_decomposition._pls.PLSSVD._repr_html_: Return unavailable') # noqa E501\n",
    "    print(\"  Please fix this return type code until there is no exception\")\n",
    "    print('  Error:', e)\n"
   ]
  },
  {
   "cell_type": "code",
   "execution_count": null,
   "id": "recognized-saskatchewan",
   "metadata": {},
   "outputs": [],
   "source": [
    "# sklearn.cross_decomposition._pls.PLSSVD._repr_html_inner\n",
    "try:\n",
    "    obj = class_constructor() # noqa F821\n",
    "    ret = obj._repr_html_inner()\n",
    "    type_sklearn_cross_decomposition__pls_PLSSVD__repr_html_inner = getattr(ret, '__module__', 'none') + '.' + ret.__class__.__name__\n",
    "    print('✅ sklearn.cross_decomposition._pls.PLSSVD._repr_html_inner: ', type(ret)) # noqa E501\n",
    "except Exception as e:\n",
    "    type_sklearn_cross_decomposition__pls_PLSSVD__repr_html_inner = '_syft_missing'\n",
    "    print('❌ sklearn.cross_decomposition._pls.PLSSVD._repr_html_inner: Return unavailable') # noqa E501\n",
    "    print(\"  Please fix this return type code until there is no exception\")\n",
    "    print('  Error:', e)\n"
   ]
  },
  {
   "cell_type": "code",
   "execution_count": null,
   "id": "infrared-advocacy",
   "metadata": {},
   "outputs": [],
   "source": [
    "# sklearn.cross_decomposition._pls.PLSSVD._repr_mimebundle_\n",
    "try:\n",
    "    obj = class_constructor() # noqa F821\n",
    "    ret = obj._repr_mimebundle_()\n",
    "    type_sklearn_cross_decomposition__pls_PLSSVD__repr_mimebundle_ = getattr(ret, '__module__', 'none') + '.' + ret.__class__.__name__\n",
    "    print('✅ sklearn.cross_decomposition._pls.PLSSVD._repr_mimebundle_: ', type(ret)) # noqa E501\n",
    "except Exception as e:\n",
    "    type_sklearn_cross_decomposition__pls_PLSSVD__repr_mimebundle_ = '_syft_missing'\n",
    "    print('❌ sklearn.cross_decomposition._pls.PLSSVD._repr_mimebundle_: Return unavailable') # noqa E501\n",
    "    print(\"  Please fix this return type code until there is no exception\")\n",
    "    print('  Error:', e)\n"
   ]
  },
  {
   "cell_type": "code",
   "execution_count": null,
   "id": "agricultural-protest",
   "metadata": {},
   "outputs": [],
   "source": [
    "# sklearn.cross_decomposition._pls.PLSSVD._validate_data\n",
    "try:\n",
    "    obj = class_constructor() # noqa F821\n",
    "    ret = obj._validate_data()\n",
    "    type_sklearn_cross_decomposition__pls_PLSSVD__validate_data = getattr(ret, '__module__', 'none') + '.' + ret.__class__.__name__\n",
    "    print('✅ sklearn.cross_decomposition._pls.PLSSVD._validate_data: ', type(ret)) # noqa E501\n",
    "except Exception as e:\n",
    "    type_sklearn_cross_decomposition__pls_PLSSVD__validate_data = '_syft_missing'\n",
    "    print('❌ sklearn.cross_decomposition._pls.PLSSVD._validate_data: Return unavailable') # noqa E501\n",
    "    print(\"  Please fix this return type code until there is no exception\")\n",
    "    print('  Error:', e)\n"
   ]
  },
  {
   "cell_type": "code",
   "execution_count": null,
   "id": "premier-egyptian",
   "metadata": {},
   "outputs": [],
   "source": [
    "# sklearn.cross_decomposition._pls.PLSSVD.fit\n",
    "try:\n",
    "    obj = class_constructor() # noqa F821\n",
    "    ret = obj.fit()\n",
    "    type_sklearn_cross_decomposition__pls_PLSSVD_fit = getattr(ret, '__module__', 'none') + '.' + ret.__class__.__name__\n",
    "    print('✅ sklearn.cross_decomposition._pls.PLSSVD.fit: ', type(ret)) # noqa E501\n",
    "except Exception as e:\n",
    "    type_sklearn_cross_decomposition__pls_PLSSVD_fit = '_syft_missing'\n",
    "    print('❌ sklearn.cross_decomposition._pls.PLSSVD.fit: Return unavailable') # noqa E501\n",
    "    print(\"  Please fix this return type code until there is no exception\")\n",
    "    print('  Error:', e)\n"
   ]
  },
  {
   "cell_type": "code",
   "execution_count": null,
   "id": "cordless-certificate",
   "metadata": {},
   "outputs": [],
   "source": [
    "# sklearn.cross_decomposition._pls.PLSSVD.fit_transform\n",
    "try:\n",
    "    obj = class_constructor() # noqa F821\n",
    "    ret = obj.fit_transform()\n",
    "    type_sklearn_cross_decomposition__pls_PLSSVD_fit_transform = getattr(ret, '__module__', 'none') + '.' + ret.__class__.__name__\n",
    "    print('✅ sklearn.cross_decomposition._pls.PLSSVD.fit_transform: ', type(ret)) # noqa E501\n",
    "except Exception as e:\n",
    "    type_sklearn_cross_decomposition__pls_PLSSVD_fit_transform = '_syft_missing'\n",
    "    print('❌ sklearn.cross_decomposition._pls.PLSSVD.fit_transform: Return unavailable') # noqa E501\n",
    "    print(\"  Please fix this return type code until there is no exception\")\n",
    "    print('  Error:', e)\n"
   ]
  },
  {
   "cell_type": "code",
   "execution_count": null,
   "id": "perceived-liberia",
   "metadata": {},
   "outputs": [],
   "source": [
    "# sklearn.cross_decomposition._pls.PLSSVD.get_params\n",
    "try:\n",
    "    obj = class_constructor() # noqa F821\n",
    "    ret = obj.get_params()\n",
    "    type_sklearn_cross_decomposition__pls_PLSSVD_get_params = getattr(ret, '__module__', 'none') + '.' + ret.__class__.__name__\n",
    "    print('✅ sklearn.cross_decomposition._pls.PLSSVD.get_params: ', type(ret)) # noqa E501\n",
    "except Exception as e:\n",
    "    type_sklearn_cross_decomposition__pls_PLSSVD_get_params = '_syft_missing'\n",
    "    print('❌ sklearn.cross_decomposition._pls.PLSSVD.get_params: Return unavailable') # noqa E501\n",
    "    print(\"  Please fix this return type code until there is no exception\")\n",
    "    print('  Error:', e)\n"
   ]
  },
  {
   "cell_type": "code",
   "execution_count": null,
   "id": "excessive-motivation",
   "metadata": {},
   "outputs": [],
   "source": [
    "# sklearn.cross_decomposition._pls.PLSSVD.set_params\n",
    "try:\n",
    "    obj = class_constructor() # noqa F821\n",
    "    ret = obj.set_params()\n",
    "    type_sklearn_cross_decomposition__pls_PLSSVD_set_params = getattr(ret, '__module__', 'none') + '.' + ret.__class__.__name__\n",
    "    print('✅ sklearn.cross_decomposition._pls.PLSSVD.set_params: ', type(ret)) # noqa E501\n",
    "except Exception as e:\n",
    "    type_sklearn_cross_decomposition__pls_PLSSVD_set_params = '_syft_missing'\n",
    "    print('❌ sklearn.cross_decomposition._pls.PLSSVD.set_params: Return unavailable') # noqa E501\n",
    "    print(\"  Please fix this return type code until there is no exception\")\n",
    "    print('  Error:', e)\n"
   ]
  },
  {
   "cell_type": "code",
   "execution_count": null,
   "id": "common-vertex",
   "metadata": {},
   "outputs": [],
   "source": [
    "# sklearn.cross_decomposition._pls.PLSSVD.transform\n",
    "try:\n",
    "    obj = class_constructor() # noqa F821\n",
    "    ret = obj.transform()\n",
    "    type_sklearn_cross_decomposition__pls_PLSSVD_transform = getattr(ret, '__module__', 'none') + '.' + ret.__class__.__name__\n",
    "    print('✅ sklearn.cross_decomposition._pls.PLSSVD.transform: ', type(ret)) # noqa E501\n",
    "except Exception as e:\n",
    "    type_sklearn_cross_decomposition__pls_PLSSVD_transform = '_syft_missing'\n",
    "    print('❌ sklearn.cross_decomposition._pls.PLSSVD.transform: Return unavailable') # noqa E501\n",
    "    print(\"  Please fix this return type code until there is no exception\")\n",
    "    print('  Error:', e)\n"
   ]
  },
  {
   "cell_type": "code",
   "execution_count": null,
   "id": "solved-championship",
   "metadata": {},
   "outputs": [],
   "source": [
    "# sklearn.cross_decomposition._pls.PLSSVD.x_mean_\n",
    "try:\n",
    "    obj = class_constructor()\n",
    "    ret = obj.x_mean_\n",
    "    type_sklearn_cross_decomposition__pls_PLSSVD_x_mean_ = getattr(ret, '__module__', 'none') + '.' + ret.__class__.__name__\n",
    "    print('✅ sklearn.cross_decomposition._pls.PLSSVD.x_mean_:', type(ret)) # noqa E501\n",
    "except Exception as e:\n",
    "    type_sklearn_cross_decomposition__pls_PLSSVD_x_mean_ = '_syft_missing'\n",
    "    print('❌ sklearn.cross_decomposition._pls.PLSSVD.x_mean_: Return unavailable') # noqa E501\n",
    "    print(\"  Please fix this return type code until there is no exception\")\n",
    "    print('  Error:', e)\n"
   ]
  },
  {
   "cell_type": "code",
   "execution_count": null,
   "id": "agreed-concrete",
   "metadata": {},
   "outputs": [],
   "source": [
    "# sklearn.cross_decomposition._pls.PLSSVD.x_scores_\n",
    "try:\n",
    "    obj = class_constructor()\n",
    "    ret = obj.x_scores_\n",
    "    type_sklearn_cross_decomposition__pls_PLSSVD_x_scores_ = getattr(ret, '__module__', 'none') + '.' + ret.__class__.__name__\n",
    "    print('✅ sklearn.cross_decomposition._pls.PLSSVD.x_scores_:', type(ret)) # noqa E501\n",
    "except Exception as e:\n",
    "    type_sklearn_cross_decomposition__pls_PLSSVD_x_scores_ = '_syft_missing'\n",
    "    print('❌ sklearn.cross_decomposition._pls.PLSSVD.x_scores_: Return unavailable') # noqa E501\n",
    "    print(\"  Please fix this return type code until there is no exception\")\n",
    "    print('  Error:', e)\n"
   ]
  },
  {
   "cell_type": "code",
   "execution_count": null,
   "id": "little-adolescent",
   "metadata": {},
   "outputs": [],
   "source": [
    "# sklearn.cross_decomposition._pls.PLSSVD.x_std_\n",
    "try:\n",
    "    obj = class_constructor()\n",
    "    ret = obj.x_std_\n",
    "    type_sklearn_cross_decomposition__pls_PLSSVD_x_std_ = getattr(ret, '__module__', 'none') + '.' + ret.__class__.__name__\n",
    "    print('✅ sklearn.cross_decomposition._pls.PLSSVD.x_std_:', type(ret)) # noqa E501\n",
    "except Exception as e:\n",
    "    type_sklearn_cross_decomposition__pls_PLSSVD_x_std_ = '_syft_missing'\n",
    "    print('❌ sklearn.cross_decomposition._pls.PLSSVD.x_std_: Return unavailable') # noqa E501\n",
    "    print(\"  Please fix this return type code until there is no exception\")\n",
    "    print('  Error:', e)\n"
   ]
  },
  {
   "cell_type": "code",
   "execution_count": null,
   "id": "legendary-place",
   "metadata": {},
   "outputs": [],
   "source": [
    "# sklearn.cross_decomposition._pls.PLSSVD.y_mean_\n",
    "try:\n",
    "    obj = class_constructor()\n",
    "    ret = obj.y_mean_\n",
    "    type_sklearn_cross_decomposition__pls_PLSSVD_y_mean_ = getattr(ret, '__module__', 'none') + '.' + ret.__class__.__name__\n",
    "    print('✅ sklearn.cross_decomposition._pls.PLSSVD.y_mean_:', type(ret)) # noqa E501\n",
    "except Exception as e:\n",
    "    type_sklearn_cross_decomposition__pls_PLSSVD_y_mean_ = '_syft_missing'\n",
    "    print('❌ sklearn.cross_decomposition._pls.PLSSVD.y_mean_: Return unavailable') # noqa E501\n",
    "    print(\"  Please fix this return type code until there is no exception\")\n",
    "    print('  Error:', e)\n"
   ]
  },
  {
   "cell_type": "code",
   "execution_count": null,
   "id": "current-yukon",
   "metadata": {},
   "outputs": [],
   "source": [
    "# sklearn.cross_decomposition._pls.PLSSVD.y_scores_\n",
    "try:\n",
    "    obj = class_constructor()\n",
    "    ret = obj.y_scores_\n",
    "    type_sklearn_cross_decomposition__pls_PLSSVD_y_scores_ = getattr(ret, '__module__', 'none') + '.' + ret.__class__.__name__\n",
    "    print('✅ sklearn.cross_decomposition._pls.PLSSVD.y_scores_:', type(ret)) # noqa E501\n",
    "except Exception as e:\n",
    "    type_sklearn_cross_decomposition__pls_PLSSVD_y_scores_ = '_syft_missing'\n",
    "    print('❌ sklearn.cross_decomposition._pls.PLSSVD.y_scores_: Return unavailable') # noqa E501\n",
    "    print(\"  Please fix this return type code until there is no exception\")\n",
    "    print('  Error:', e)\n"
   ]
  },
  {
   "cell_type": "code",
   "execution_count": null,
   "id": "extra-transport",
   "metadata": {},
   "outputs": [],
   "source": [
    "# sklearn.cross_decomposition._pls.PLSSVD.y_std_\n",
    "try:\n",
    "    obj = class_constructor()\n",
    "    ret = obj.y_std_\n",
    "    type_sklearn_cross_decomposition__pls_PLSSVD_y_std_ = getattr(ret, '__module__', 'none') + '.' + ret.__class__.__name__\n",
    "    print('✅ sklearn.cross_decomposition._pls.PLSSVD.y_std_:', type(ret)) # noqa E501\n",
    "except Exception as e:\n",
    "    type_sklearn_cross_decomposition__pls_PLSSVD_y_std_ = '_syft_missing'\n",
    "    print('❌ sklearn.cross_decomposition._pls.PLSSVD.y_std_: Return unavailable') # noqa E501\n",
    "    print(\"  Please fix this return type code until there is no exception\")\n",
    "    print('  Error:', e)\n"
   ]
  }
 ],
 "metadata": {},
 "nbformat": 4,
 "nbformat_minor": 5
}
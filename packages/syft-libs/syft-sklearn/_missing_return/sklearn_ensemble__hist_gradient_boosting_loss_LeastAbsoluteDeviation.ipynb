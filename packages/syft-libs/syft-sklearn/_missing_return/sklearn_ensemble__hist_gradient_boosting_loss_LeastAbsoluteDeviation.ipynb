{
 "cells": [
  {
   "cell_type": "markdown",
   "id": "final-provincial",
   "metadata": {},
   "source": [
    "## sklearn.ensemble._hist_gradient_boosting.loss.LeastAbsoluteDeviation"
   ]
  },
  {
   "cell_type": "code",
   "execution_count": null,
   "id": "demographic-passage",
   "metadata": {},
   "outputs": [],
   "source": [
    "import sklearn\n",
    "def class_constructor(*args, **kwargs):\n",
    "    obj = sklearn.ensemble._hist_gradient_boosting.loss.LeastAbsoluteDeviation()\n",
    "    return obj\n"
   ]
  },
  {
   "cell_type": "code",
   "execution_count": null,
   "id": "promotional-rating",
   "metadata": {},
   "outputs": [],
   "source": [
    "# sklearn.ensemble._hist_gradient_boosting.loss.LeastAbsoluteDeviation.__call__\n",
    "try:\n",
    "    obj = class_constructor() # noqa F821\n",
    "    ret = obj.__call__()\n",
    "    type_sklearn_ensemble__hist_gradient_boosting_loss_LeastAbsoluteDeviation___call__ = getattr(ret, '__module__', 'none') + '.' + ret.__class__.__name__\n",
    "    print('✅ sklearn.ensemble._hist_gradient_boosting.loss.LeastAbsoluteDeviation.__call__: ', type(ret)) # noqa E501\n",
    "except Exception as e:\n",
    "    type_sklearn_ensemble__hist_gradient_boosting_loss_LeastAbsoluteDeviation___call__ = '_syft_missing'\n",
    "    print('❌ sklearn.ensemble._hist_gradient_boosting.loss.LeastAbsoluteDeviation.__call__: Return unavailable') # noqa E501\n",
    "    print(\"  Please fix this return type code until there is no exception\")\n",
    "    print('  Error:', e)\n"
   ]
  },
  {
   "cell_type": "code",
   "execution_count": null,
   "id": "upper-challenge",
   "metadata": {},
   "outputs": [],
   "source": [
    "# sklearn.ensemble._hist_gradient_boosting.loss.LeastAbsoluteDeviation.get_baseline_prediction\n",
    "try:\n",
    "    obj = class_constructor() # noqa F821\n",
    "    ret = obj.get_baseline_prediction()\n",
    "    type_sklearn_ensemble__hist_gradient_boosting_loss_LeastAbsoluteDeviation_get_baseline_prediction = getattr(ret, '__module__', 'none') + '.' + ret.__class__.__name__\n",
    "    print('✅ sklearn.ensemble._hist_gradient_boosting.loss.LeastAbsoluteDeviation.get_baseline_prediction: ', type(ret)) # noqa E501\n",
    "except Exception as e:\n",
    "    type_sklearn_ensemble__hist_gradient_boosting_loss_LeastAbsoluteDeviation_get_baseline_prediction = '_syft_missing'\n",
    "    print('❌ sklearn.ensemble._hist_gradient_boosting.loss.LeastAbsoluteDeviation.get_baseline_prediction: Return unavailable') # noqa E501\n",
    "    print(\"  Please fix this return type code until there is no exception\")\n",
    "    print('  Error:', e)\n"
   ]
  },
  {
   "cell_type": "code",
   "execution_count": null,
   "id": "sudden-retro",
   "metadata": {},
   "outputs": [],
   "source": [
    "# sklearn.ensemble._hist_gradient_boosting.loss.LeastAbsoluteDeviation.init_gradients_and_hessians\n",
    "try:\n",
    "    obj = class_constructor() # noqa F821\n",
    "    ret = obj.init_gradients_and_hessians()\n",
    "    type_sklearn_ensemble__hist_gradient_boosting_loss_LeastAbsoluteDeviation_init_gradients_and_hessians = getattr(ret, '__module__', 'none') + '.' + ret.__class__.__name__\n",
    "    print('✅ sklearn.ensemble._hist_gradient_boosting.loss.LeastAbsoluteDeviation.init_gradients_and_hessians: ', type(ret)) # noqa E501\n",
    "except Exception as e:\n",
    "    type_sklearn_ensemble__hist_gradient_boosting_loss_LeastAbsoluteDeviation_init_gradients_and_hessians = '_syft_missing'\n",
    "    print('❌ sklearn.ensemble._hist_gradient_boosting.loss.LeastAbsoluteDeviation.init_gradients_and_hessians: Return unavailable') # noqa E501\n",
    "    print(\"  Please fix this return type code until there is no exception\")\n",
    "    print('  Error:', e)\n"
   ]
  },
  {
   "cell_type": "code",
   "execution_count": null,
   "id": "occupational-storage",
   "metadata": {},
   "outputs": [],
   "source": [
    "# sklearn.ensemble._hist_gradient_boosting.loss.LeastAbsoluteDeviation.inverse_link_function\n",
    "try:\n",
    "    obj = class_constructor() # noqa F821\n",
    "    ret = obj.inverse_link_function()\n",
    "    type_sklearn_ensemble__hist_gradient_boosting_loss_LeastAbsoluteDeviation_inverse_link_function = getattr(ret, '__module__', 'none') + '.' + ret.__class__.__name__\n",
    "    print('✅ sklearn.ensemble._hist_gradient_boosting.loss.LeastAbsoluteDeviation.inverse_link_function: ', type(ret)) # noqa E501\n",
    "except Exception as e:\n",
    "    type_sklearn_ensemble__hist_gradient_boosting_loss_LeastAbsoluteDeviation_inverse_link_function = '_syft_missing'\n",
    "    print('❌ sklearn.ensemble._hist_gradient_boosting.loss.LeastAbsoluteDeviation.inverse_link_function: Return unavailable') # noqa E501\n",
    "    print(\"  Please fix this return type code until there is no exception\")\n",
    "    print('  Error:', e)\n"
   ]
  },
  {
   "cell_type": "code",
   "execution_count": null,
   "id": "terminal-squad",
   "metadata": {},
   "outputs": [],
   "source": [
    "# sklearn.ensemble._hist_gradient_boosting.loss.LeastAbsoluteDeviation.pointwise_loss\n",
    "try:\n",
    "    obj = class_constructor() # noqa F821\n",
    "    ret = obj.pointwise_loss()\n",
    "    type_sklearn_ensemble__hist_gradient_boosting_loss_LeastAbsoluteDeviation_pointwise_loss = getattr(ret, '__module__', 'none') + '.' + ret.__class__.__name__\n",
    "    print('✅ sklearn.ensemble._hist_gradient_boosting.loss.LeastAbsoluteDeviation.pointwise_loss: ', type(ret)) # noqa E501\n",
    "except Exception as e:\n",
    "    type_sklearn_ensemble__hist_gradient_boosting_loss_LeastAbsoluteDeviation_pointwise_loss = '_syft_missing'\n",
    "    print('❌ sklearn.ensemble._hist_gradient_boosting.loss.LeastAbsoluteDeviation.pointwise_loss: Return unavailable') # noqa E501\n",
    "    print(\"  Please fix this return type code until there is no exception\")\n",
    "    print('  Error:', e)\n"
   ]
  },
  {
   "cell_type": "code",
   "execution_count": null,
   "id": "minus-memorial",
   "metadata": {},
   "outputs": [],
   "source": [
    "# sklearn.ensemble._hist_gradient_boosting.loss.LeastAbsoluteDeviation.update_gradients_and_hessians\n",
    "try:\n",
    "    obj = class_constructor() # noqa F821\n",
    "    ret = obj.update_gradients_and_hessians()\n",
    "    type_sklearn_ensemble__hist_gradient_boosting_loss_LeastAbsoluteDeviation_update_gradients_and_hessians = getattr(ret, '__module__', 'none') + '.' + ret.__class__.__name__\n",
    "    print('✅ sklearn.ensemble._hist_gradient_boosting.loss.LeastAbsoluteDeviation.update_gradients_and_hessians: ', type(ret)) # noqa E501\n",
    "except Exception as e:\n",
    "    type_sklearn_ensemble__hist_gradient_boosting_loss_LeastAbsoluteDeviation_update_gradients_and_hessians = '_syft_missing'\n",
    "    print('❌ sklearn.ensemble._hist_gradient_boosting.loss.LeastAbsoluteDeviation.update_gradients_and_hessians: Return unavailable') # noqa E501\n",
    "    print(\"  Please fix this return type code until there is no exception\")\n",
    "    print('  Error:', e)\n"
   ]
  },
  {
   "cell_type": "code",
   "execution_count": null,
   "id": "satisfactory-current",
   "metadata": {},
   "outputs": [],
   "source": [
    "# sklearn.ensemble._hist_gradient_boosting.loss.LeastAbsoluteDeviation.update_leaves_values\n",
    "try:\n",
    "    obj = class_constructor() # noqa F821\n",
    "    ret = obj.update_leaves_values()\n",
    "    type_sklearn_ensemble__hist_gradient_boosting_loss_LeastAbsoluteDeviation_update_leaves_values = getattr(ret, '__module__', 'none') + '.' + ret.__class__.__name__\n",
    "    print('✅ sklearn.ensemble._hist_gradient_boosting.loss.LeastAbsoluteDeviation.update_leaves_values: ', type(ret)) # noqa E501\n",
    "except Exception as e:\n",
    "    type_sklearn_ensemble__hist_gradient_boosting_loss_LeastAbsoluteDeviation_update_leaves_values = '_syft_missing'\n",
    "    print('❌ sklearn.ensemble._hist_gradient_boosting.loss.LeastAbsoluteDeviation.update_leaves_values: Return unavailable') # noqa E501\n",
    "    print(\"  Please fix this return type code until there is no exception\")\n",
    "    print('  Error:', e)\n"
   ]
  }
 ],
 "metadata": {},
 "nbformat": 4,
 "nbformat_minor": 5
}
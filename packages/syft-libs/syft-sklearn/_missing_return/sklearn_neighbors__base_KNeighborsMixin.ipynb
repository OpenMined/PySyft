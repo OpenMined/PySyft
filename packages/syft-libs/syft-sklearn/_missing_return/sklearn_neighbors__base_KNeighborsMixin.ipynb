{
 "cells": [
  {
   "cell_type": "markdown",
   "id": "aggressive-snapshot",
   "metadata": {},
   "source": [
    "## sklearn.neighbors._base.KNeighborsMixin"
   ]
  },
  {
   "cell_type": "code",
   "execution_count": null,
   "id": "familiar-conducting",
   "metadata": {},
   "outputs": [],
   "source": [
    "import sklearn\n",
    "def class_constructor(*args, **kwargs):\n",
    "    obj = sklearn.neighbors._base.KNeighborsMixin()\n",
    "    return obj\n"
   ]
  },
  {
   "cell_type": "code",
   "execution_count": null,
   "id": "atlantic-clarity",
   "metadata": {},
   "outputs": [],
   "source": [
    "# sklearn.neighbors._base.KNeighborsMixin._kneighbors_reduce_func\n",
    "try:\n",
    "    obj = class_constructor() # noqa F821\n",
    "    ret = obj._kneighbors_reduce_func()\n",
    "    type_sklearn_neighbors__base_KNeighborsMixin__kneighbors_reduce_func = getattr(ret, '__module__', 'none') + '.' + ret.__class__.__name__\n",
    "    print('✅ sklearn.neighbors._base.KNeighborsMixin._kneighbors_reduce_func: ', type(ret)) # noqa E501\n",
    "except Exception as e:\n",
    "    type_sklearn_neighbors__base_KNeighborsMixin__kneighbors_reduce_func = '_syft_missing'\n",
    "    print('❌ sklearn.neighbors._base.KNeighborsMixin._kneighbors_reduce_func: Return unavailable') # noqa E501\n",
    "    print(\"  Please fix this return type code until there is no exception\")\n",
    "    print('  Error:', e)\n"
   ]
  },
  {
   "cell_type": "code",
   "execution_count": null,
   "id": "eastern-warrant",
   "metadata": {},
   "outputs": [],
   "source": [
    "# sklearn.neighbors._base.KNeighborsMixin.kneighbors\n",
    "try:\n",
    "    obj = class_constructor() # noqa F821\n",
    "    ret = obj.kneighbors()\n",
    "    type_sklearn_neighbors__base_KNeighborsMixin_kneighbors = getattr(ret, '__module__', 'none') + '.' + ret.__class__.__name__\n",
    "    print('✅ sklearn.neighbors._base.KNeighborsMixin.kneighbors: ', type(ret)) # noqa E501\n",
    "except Exception as e:\n",
    "    type_sklearn_neighbors__base_KNeighborsMixin_kneighbors = '_syft_missing'\n",
    "    print('❌ sklearn.neighbors._base.KNeighborsMixin.kneighbors: Return unavailable') # noqa E501\n",
    "    print(\"  Please fix this return type code until there is no exception\")\n",
    "    print('  Error:', e)\n"
   ]
  },
  {
   "cell_type": "code",
   "execution_count": null,
   "id": "municipal-defendant",
   "metadata": {},
   "outputs": [],
   "source": [
    "# sklearn.neighbors._base.KNeighborsMixin.kneighbors_graph\n",
    "try:\n",
    "    obj = class_constructor() # noqa F821\n",
    "    ret = obj.kneighbors_graph()\n",
    "    type_sklearn_neighbors__base_KNeighborsMixin_kneighbors_graph = getattr(ret, '__module__', 'none') + '.' + ret.__class__.__name__\n",
    "    print('✅ sklearn.neighbors._base.KNeighborsMixin.kneighbors_graph: ', type(ret)) # noqa E501\n",
    "except Exception as e:\n",
    "    type_sklearn_neighbors__base_KNeighborsMixin_kneighbors_graph = '_syft_missing'\n",
    "    print('❌ sklearn.neighbors._base.KNeighborsMixin.kneighbors_graph: Return unavailable') # noqa E501\n",
    "    print(\"  Please fix this return type code until there is no exception\")\n",
    "    print('  Error:', e)\n"
   ]
  }
 ],
 "metadata": {},
 "nbformat": 4,
 "nbformat_minor": 5
}
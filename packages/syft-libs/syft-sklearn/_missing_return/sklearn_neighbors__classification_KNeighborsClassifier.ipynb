{
 "cells": [
  {
   "cell_type": "markdown",
   "id": "original-retrieval",
   "metadata": {},
   "source": [
    "## sklearn.neighbors._classification.KNeighborsClassifier"
   ]
  },
  {
   "cell_type": "code",
   "execution_count": null,
   "id": "earlier-smith",
   "metadata": {},
   "outputs": [],
   "source": [
    "import sklearn\n",
    "def class_constructor(*args, **kwargs):\n",
    "    obj = sklearn.neighbors._classification.KNeighborsClassifier()\n",
    "    return obj\n"
   ]
  },
  {
   "cell_type": "code",
   "execution_count": null,
   "id": "important-metadata",
   "metadata": {},
   "outputs": [],
   "source": [
    "# sklearn.neighbors._classification.KNeighborsClassifier.__getstate__\n",
    "try:\n",
    "    obj = class_constructor() # noqa F821\n",
    "    ret = obj.__getstate__()\n",
    "    type_sklearn_neighbors__classification_KNeighborsClassifier___getstate__ = getattr(ret, '__module__', 'none') + '.' + ret.__class__.__name__\n",
    "    print('✅ sklearn.neighbors._classification.KNeighborsClassifier.__getstate__: ', type(ret)) # noqa E501\n",
    "except Exception as e:\n",
    "    type_sklearn_neighbors__classification_KNeighborsClassifier___getstate__ = '_syft_missing'\n",
    "    print('❌ sklearn.neighbors._classification.KNeighborsClassifier.__getstate__: Return unavailable') # noqa E501\n",
    "    print(\"  Please fix this return type code until there is no exception\")\n",
    "    print('  Error:', e)\n"
   ]
  },
  {
   "cell_type": "code",
   "execution_count": null,
   "id": "protective-dominant",
   "metadata": {},
   "outputs": [],
   "source": [
    "# sklearn.neighbors._classification.KNeighborsClassifier.__repr__\n",
    "try:\n",
    "    obj = class_constructor() # noqa F821\n",
    "    ret = obj.__repr__()\n",
    "    type_sklearn_neighbors__classification_KNeighborsClassifier___repr__ = getattr(ret, '__module__', 'none') + '.' + ret.__class__.__name__\n",
    "    print('✅ sklearn.neighbors._classification.KNeighborsClassifier.__repr__: ', type(ret)) # noqa E501\n",
    "except Exception as e:\n",
    "    type_sklearn_neighbors__classification_KNeighborsClassifier___repr__ = '_syft_missing'\n",
    "    print('❌ sklearn.neighbors._classification.KNeighborsClassifier.__repr__: Return unavailable') # noqa E501\n",
    "    print(\"  Please fix this return type code until there is no exception\")\n",
    "    print('  Error:', e)\n"
   ]
  },
  {
   "cell_type": "code",
   "execution_count": null,
   "id": "handled-release",
   "metadata": {},
   "outputs": [],
   "source": [
    "# sklearn.neighbors._classification.KNeighborsClassifier.__setstate__\n",
    "try:\n",
    "    obj = class_constructor() # noqa F821\n",
    "    ret = obj.__setstate__()\n",
    "    type_sklearn_neighbors__classification_KNeighborsClassifier___setstate__ = getattr(ret, '__module__', 'none') + '.' + ret.__class__.__name__\n",
    "    print('✅ sklearn.neighbors._classification.KNeighborsClassifier.__setstate__: ', type(ret)) # noqa E501\n",
    "except Exception as e:\n",
    "    type_sklearn_neighbors__classification_KNeighborsClassifier___setstate__ = '_syft_missing'\n",
    "    print('❌ sklearn.neighbors._classification.KNeighborsClassifier.__setstate__: Return unavailable') # noqa E501\n",
    "    print(\"  Please fix this return type code until there is no exception\")\n",
    "    print('  Error:', e)\n"
   ]
  },
  {
   "cell_type": "code",
   "execution_count": null,
   "id": "fitting-developer",
   "metadata": {},
   "outputs": [],
   "source": [
    "# sklearn.neighbors._classification.KNeighborsClassifier._check_algorithm_metric\n",
    "try:\n",
    "    obj = class_constructor() # noqa F821\n",
    "    ret = obj._check_algorithm_metric()\n",
    "    type_sklearn_neighbors__classification_KNeighborsClassifier__check_algorithm_metric = getattr(ret, '__module__', 'none') + '.' + ret.__class__.__name__\n",
    "    print('✅ sklearn.neighbors._classification.KNeighborsClassifier._check_algorithm_metric: ', type(ret)) # noqa E501\n",
    "except Exception as e:\n",
    "    type_sklearn_neighbors__classification_KNeighborsClassifier__check_algorithm_metric = '_syft_missing'\n",
    "    print('❌ sklearn.neighbors._classification.KNeighborsClassifier._check_algorithm_metric: Return unavailable') # noqa E501\n",
    "    print(\"  Please fix this return type code until there is no exception\")\n",
    "    print('  Error:', e)\n"
   ]
  },
  {
   "cell_type": "code",
   "execution_count": null,
   "id": "personalized-earthquake",
   "metadata": {},
   "outputs": [],
   "source": [
    "# sklearn.neighbors._classification.KNeighborsClassifier._check_n_features\n",
    "try:\n",
    "    obj = class_constructor() # noqa F821\n",
    "    ret = obj._check_n_features()\n",
    "    type_sklearn_neighbors__classification_KNeighborsClassifier__check_n_features = getattr(ret, '__module__', 'none') + '.' + ret.__class__.__name__\n",
    "    print('✅ sklearn.neighbors._classification.KNeighborsClassifier._check_n_features: ', type(ret)) # noqa E501\n",
    "except Exception as e:\n",
    "    type_sklearn_neighbors__classification_KNeighborsClassifier__check_n_features = '_syft_missing'\n",
    "    print('❌ sklearn.neighbors._classification.KNeighborsClassifier._check_n_features: Return unavailable') # noqa E501\n",
    "    print(\"  Please fix this return type code until there is no exception\")\n",
    "    print('  Error:', e)\n"
   ]
  },
  {
   "cell_type": "code",
   "execution_count": null,
   "id": "informational-reducing",
   "metadata": {},
   "outputs": [],
   "source": [
    "# sklearn.neighbors._classification.KNeighborsClassifier._fit\n",
    "try:\n",
    "    obj = class_constructor() # noqa F821\n",
    "    ret = obj._fit()\n",
    "    type_sklearn_neighbors__classification_KNeighborsClassifier__fit = getattr(ret, '__module__', 'none') + '.' + ret.__class__.__name__\n",
    "    print('✅ sklearn.neighbors._classification.KNeighborsClassifier._fit: ', type(ret)) # noqa E501\n",
    "except Exception as e:\n",
    "    type_sklearn_neighbors__classification_KNeighborsClassifier__fit = '_syft_missing'\n",
    "    print('❌ sklearn.neighbors._classification.KNeighborsClassifier._fit: Return unavailable') # noqa E501\n",
    "    print(\"  Please fix this return type code until there is no exception\")\n",
    "    print('  Error:', e)\n"
   ]
  },
  {
   "cell_type": "code",
   "execution_count": null,
   "id": "ranging-midnight",
   "metadata": {},
   "outputs": [],
   "source": [
    "# sklearn.neighbors._classification.KNeighborsClassifier._get_param_names\n",
    "try:\n",
    "    obj = class_constructor() # noqa F821\n",
    "    ret = obj._get_param_names()\n",
    "    type_sklearn_neighbors__classification_KNeighborsClassifier__get_param_names = getattr(ret, '__module__', 'none') + '.' + ret.__class__.__name__\n",
    "    print('✅ sklearn.neighbors._classification.KNeighborsClassifier._get_param_names: ', type(ret)) # noqa E501\n",
    "except Exception as e:\n",
    "    type_sklearn_neighbors__classification_KNeighborsClassifier__get_param_names = '_syft_missing'\n",
    "    print('❌ sklearn.neighbors._classification.KNeighborsClassifier._get_param_names: Return unavailable') # noqa E501\n",
    "    print(\"  Please fix this return type code until there is no exception\")\n",
    "    print('  Error:', e)\n"
   ]
  },
  {
   "cell_type": "code",
   "execution_count": null,
   "id": "south-burden",
   "metadata": {},
   "outputs": [],
   "source": [
    "# sklearn.neighbors._classification.KNeighborsClassifier._get_tags\n",
    "try:\n",
    "    obj = class_constructor() # noqa F821\n",
    "    ret = obj._get_tags()\n",
    "    type_sklearn_neighbors__classification_KNeighborsClassifier__get_tags = getattr(ret, '__module__', 'none') + '.' + ret.__class__.__name__\n",
    "    print('✅ sklearn.neighbors._classification.KNeighborsClassifier._get_tags: ', type(ret)) # noqa E501\n",
    "except Exception as e:\n",
    "    type_sklearn_neighbors__classification_KNeighborsClassifier__get_tags = '_syft_missing'\n",
    "    print('❌ sklearn.neighbors._classification.KNeighborsClassifier._get_tags: Return unavailable') # noqa E501\n",
    "    print(\"  Please fix this return type code until there is no exception\")\n",
    "    print('  Error:', e)\n"
   ]
  },
  {
   "cell_type": "code",
   "execution_count": null,
   "id": "automatic-livestock",
   "metadata": {},
   "outputs": [],
   "source": [
    "# sklearn.neighbors._classification.KNeighborsClassifier._kneighbors_reduce_func\n",
    "try:\n",
    "    obj = class_constructor() # noqa F821\n",
    "    ret = obj._kneighbors_reduce_func()\n",
    "    type_sklearn_neighbors__classification_KNeighborsClassifier__kneighbors_reduce_func = getattr(ret, '__module__', 'none') + '.' + ret.__class__.__name__\n",
    "    print('✅ sklearn.neighbors._classification.KNeighborsClassifier._kneighbors_reduce_func: ', type(ret)) # noqa E501\n",
    "except Exception as e:\n",
    "    type_sklearn_neighbors__classification_KNeighborsClassifier__kneighbors_reduce_func = '_syft_missing'\n",
    "    print('❌ sklearn.neighbors._classification.KNeighborsClassifier._kneighbors_reduce_func: Return unavailable') # noqa E501\n",
    "    print(\"  Please fix this return type code until there is no exception\")\n",
    "    print('  Error:', e)\n"
   ]
  },
  {
   "cell_type": "code",
   "execution_count": null,
   "id": "related-fishing",
   "metadata": {},
   "outputs": [],
   "source": [
    "# sklearn.neighbors._classification.KNeighborsClassifier._more_tags\n",
    "try:\n",
    "    obj = class_constructor() # noqa F821\n",
    "    ret = obj._more_tags()\n",
    "    type_sklearn_neighbors__classification_KNeighborsClassifier__more_tags = getattr(ret, '__module__', 'none') + '.' + ret.__class__.__name__\n",
    "    print('✅ sklearn.neighbors._classification.KNeighborsClassifier._more_tags: ', type(ret)) # noqa E501\n",
    "except Exception as e:\n",
    "    type_sklearn_neighbors__classification_KNeighborsClassifier__more_tags = '_syft_missing'\n",
    "    print('❌ sklearn.neighbors._classification.KNeighborsClassifier._more_tags: Return unavailable') # noqa E501\n",
    "    print(\"  Please fix this return type code until there is no exception\")\n",
    "    print('  Error:', e)\n"
   ]
  },
  {
   "cell_type": "code",
   "execution_count": null,
   "id": "intimate-monday",
   "metadata": {},
   "outputs": [],
   "source": [
    "# sklearn.neighbors._classification.KNeighborsClassifier._pairwise\n",
    "try:\n",
    "    obj = class_constructor()\n",
    "    ret = obj._pairwise\n",
    "    type_sklearn_neighbors__classification_KNeighborsClassifier__pairwise = getattr(ret, '__module__', 'none') + '.' + ret.__class__.__name__\n",
    "    print('✅ sklearn.neighbors._classification.KNeighborsClassifier._pairwise:', type(ret)) # noqa E501\n",
    "except Exception as e:\n",
    "    type_sklearn_neighbors__classification_KNeighborsClassifier__pairwise = '_syft_missing'\n",
    "    print('❌ sklearn.neighbors._classification.KNeighborsClassifier._pairwise: Return unavailable') # noqa E501\n",
    "    print(\"  Please fix this return type code until there is no exception\")\n",
    "    print('  Error:', e)\n"
   ]
  },
  {
   "cell_type": "code",
   "execution_count": null,
   "id": "timely-biotechnology",
   "metadata": {},
   "outputs": [],
   "source": [
    "# sklearn.neighbors._classification.KNeighborsClassifier._repr_html_\n",
    "try:\n",
    "    obj = class_constructor()\n",
    "    ret = obj._repr_html_\n",
    "    type_sklearn_neighbors__classification_KNeighborsClassifier__repr_html_ = getattr(ret, '__module__', 'none') + '.' + ret.__class__.__name__\n",
    "    print('✅ sklearn.neighbors._classification.KNeighborsClassifier._repr_html_:', type(ret)) # noqa E501\n",
    "except Exception as e:\n",
    "    type_sklearn_neighbors__classification_KNeighborsClassifier__repr_html_ = '_syft_missing'\n",
    "    print('❌ sklearn.neighbors._classification.KNeighborsClassifier._repr_html_: Return unavailable') # noqa E501\n",
    "    print(\"  Please fix this return type code until there is no exception\")\n",
    "    print('  Error:', e)\n"
   ]
  },
  {
   "cell_type": "code",
   "execution_count": null,
   "id": "ranking-pacific",
   "metadata": {},
   "outputs": [],
   "source": [
    "# sklearn.neighbors._classification.KNeighborsClassifier._repr_html_inner\n",
    "try:\n",
    "    obj = class_constructor() # noqa F821\n",
    "    ret = obj._repr_html_inner()\n",
    "    type_sklearn_neighbors__classification_KNeighborsClassifier__repr_html_inner = getattr(ret, '__module__', 'none') + '.' + ret.__class__.__name__\n",
    "    print('✅ sklearn.neighbors._classification.KNeighborsClassifier._repr_html_inner: ', type(ret)) # noqa E501\n",
    "except Exception as e:\n",
    "    type_sklearn_neighbors__classification_KNeighborsClassifier__repr_html_inner = '_syft_missing'\n",
    "    print('❌ sklearn.neighbors._classification.KNeighborsClassifier._repr_html_inner: Return unavailable') # noqa E501\n",
    "    print(\"  Please fix this return type code until there is no exception\")\n",
    "    print('  Error:', e)\n"
   ]
  },
  {
   "cell_type": "code",
   "execution_count": null,
   "id": "structured-thanks",
   "metadata": {},
   "outputs": [],
   "source": [
    "# sklearn.neighbors._classification.KNeighborsClassifier._repr_mimebundle_\n",
    "try:\n",
    "    obj = class_constructor() # noqa F821\n",
    "    ret = obj._repr_mimebundle_()\n",
    "    type_sklearn_neighbors__classification_KNeighborsClassifier__repr_mimebundle_ = getattr(ret, '__module__', 'none') + '.' + ret.__class__.__name__\n",
    "    print('✅ sklearn.neighbors._classification.KNeighborsClassifier._repr_mimebundle_: ', type(ret)) # noqa E501\n",
    "except Exception as e:\n",
    "    type_sklearn_neighbors__classification_KNeighborsClassifier__repr_mimebundle_ = '_syft_missing'\n",
    "    print('❌ sklearn.neighbors._classification.KNeighborsClassifier._repr_mimebundle_: Return unavailable') # noqa E501\n",
    "    print(\"  Please fix this return type code until there is no exception\")\n",
    "    print('  Error:', e)\n"
   ]
  },
  {
   "cell_type": "code",
   "execution_count": null,
   "id": "integrated-conditioning",
   "metadata": {},
   "outputs": [],
   "source": [
    "# sklearn.neighbors._classification.KNeighborsClassifier._validate_data\n",
    "try:\n",
    "    obj = class_constructor() # noqa F821\n",
    "    ret = obj._validate_data()\n",
    "    type_sklearn_neighbors__classification_KNeighborsClassifier__validate_data = getattr(ret, '__module__', 'none') + '.' + ret.__class__.__name__\n",
    "    print('✅ sklearn.neighbors._classification.KNeighborsClassifier._validate_data: ', type(ret)) # noqa E501\n",
    "except Exception as e:\n",
    "    type_sklearn_neighbors__classification_KNeighborsClassifier__validate_data = '_syft_missing'\n",
    "    print('❌ sklearn.neighbors._classification.KNeighborsClassifier._validate_data: Return unavailable') # noqa E501\n",
    "    print(\"  Please fix this return type code until there is no exception\")\n",
    "    print('  Error:', e)\n"
   ]
  },
  {
   "cell_type": "code",
   "execution_count": null,
   "id": "general-liverpool",
   "metadata": {},
   "outputs": [],
   "source": [
    "# sklearn.neighbors._classification.KNeighborsClassifier.fit\n",
    "try:\n",
    "    obj = class_constructor() # noqa F821\n",
    "    ret = obj.fit()\n",
    "    type_sklearn_neighbors__classification_KNeighborsClassifier_fit = getattr(ret, '__module__', 'none') + '.' + ret.__class__.__name__\n",
    "    print('✅ sklearn.neighbors._classification.KNeighborsClassifier.fit: ', type(ret)) # noqa E501\n",
    "except Exception as e:\n",
    "    type_sklearn_neighbors__classification_KNeighborsClassifier_fit = '_syft_missing'\n",
    "    print('❌ sklearn.neighbors._classification.KNeighborsClassifier.fit: Return unavailable') # noqa E501\n",
    "    print(\"  Please fix this return type code until there is no exception\")\n",
    "    print('  Error:', e)\n"
   ]
  },
  {
   "cell_type": "code",
   "execution_count": null,
   "id": "mighty-accordance",
   "metadata": {},
   "outputs": [],
   "source": [
    "# sklearn.neighbors._classification.KNeighborsClassifier.get_params\n",
    "try:\n",
    "    obj = class_constructor() # noqa F821\n",
    "    ret = obj.get_params()\n",
    "    type_sklearn_neighbors__classification_KNeighborsClassifier_get_params = getattr(ret, '__module__', 'none') + '.' + ret.__class__.__name__\n",
    "    print('✅ sklearn.neighbors._classification.KNeighborsClassifier.get_params: ', type(ret)) # noqa E501\n",
    "except Exception as e:\n",
    "    type_sklearn_neighbors__classification_KNeighborsClassifier_get_params = '_syft_missing'\n",
    "    print('❌ sklearn.neighbors._classification.KNeighborsClassifier.get_params: Return unavailable') # noqa E501\n",
    "    print(\"  Please fix this return type code until there is no exception\")\n",
    "    print('  Error:', e)\n"
   ]
  },
  {
   "cell_type": "code",
   "execution_count": null,
   "id": "serious-contrary",
   "metadata": {},
   "outputs": [],
   "source": [
    "# sklearn.neighbors._classification.KNeighborsClassifier.kneighbors\n",
    "try:\n",
    "    obj = class_constructor() # noqa F821\n",
    "    ret = obj.kneighbors()\n",
    "    type_sklearn_neighbors__classification_KNeighborsClassifier_kneighbors = getattr(ret, '__module__', 'none') + '.' + ret.__class__.__name__\n",
    "    print('✅ sklearn.neighbors._classification.KNeighborsClassifier.kneighbors: ', type(ret)) # noqa E501\n",
    "except Exception as e:\n",
    "    type_sklearn_neighbors__classification_KNeighborsClassifier_kneighbors = '_syft_missing'\n",
    "    print('❌ sklearn.neighbors._classification.KNeighborsClassifier.kneighbors: Return unavailable') # noqa E501\n",
    "    print(\"  Please fix this return type code until there is no exception\")\n",
    "    print('  Error:', e)\n"
   ]
  },
  {
   "cell_type": "code",
   "execution_count": null,
   "id": "specific-heaven",
   "metadata": {},
   "outputs": [],
   "source": [
    "# sklearn.neighbors._classification.KNeighborsClassifier.kneighbors_graph\n",
    "try:\n",
    "    obj = class_constructor() # noqa F821\n",
    "    ret = obj.kneighbors_graph()\n",
    "    type_sklearn_neighbors__classification_KNeighborsClassifier_kneighbors_graph = getattr(ret, '__module__', 'none') + '.' + ret.__class__.__name__\n",
    "    print('✅ sklearn.neighbors._classification.KNeighborsClassifier.kneighbors_graph: ', type(ret)) # noqa E501\n",
    "except Exception as e:\n",
    "    type_sklearn_neighbors__classification_KNeighborsClassifier_kneighbors_graph = '_syft_missing'\n",
    "    print('❌ sklearn.neighbors._classification.KNeighborsClassifier.kneighbors_graph: Return unavailable') # noqa E501\n",
    "    print(\"  Please fix this return type code until there is no exception\")\n",
    "    print('  Error:', e)\n"
   ]
  },
  {
   "cell_type": "code",
   "execution_count": null,
   "id": "tender-opposition",
   "metadata": {},
   "outputs": [],
   "source": [
    "# sklearn.neighbors._classification.KNeighborsClassifier.predict\n",
    "try:\n",
    "    obj = class_constructor() # noqa F821\n",
    "    ret = obj.predict()\n",
    "    type_sklearn_neighbors__classification_KNeighborsClassifier_predict = getattr(ret, '__module__', 'none') + '.' + ret.__class__.__name__\n",
    "    print('✅ sklearn.neighbors._classification.KNeighborsClassifier.predict: ', type(ret)) # noqa E501\n",
    "except Exception as e:\n",
    "    type_sklearn_neighbors__classification_KNeighborsClassifier_predict = '_syft_missing'\n",
    "    print('❌ sklearn.neighbors._classification.KNeighborsClassifier.predict: Return unavailable') # noqa E501\n",
    "    print(\"  Please fix this return type code until there is no exception\")\n",
    "    print('  Error:', e)\n"
   ]
  },
  {
   "cell_type": "code",
   "execution_count": null,
   "id": "measured-skating",
   "metadata": {},
   "outputs": [],
   "source": [
    "# sklearn.neighbors._classification.KNeighborsClassifier.predict_proba\n",
    "try:\n",
    "    obj = class_constructor() # noqa F821\n",
    "    ret = obj.predict_proba()\n",
    "    type_sklearn_neighbors__classification_KNeighborsClassifier_predict_proba = getattr(ret, '__module__', 'none') + '.' + ret.__class__.__name__\n",
    "    print('✅ sklearn.neighbors._classification.KNeighborsClassifier.predict_proba: ', type(ret)) # noqa E501\n",
    "except Exception as e:\n",
    "    type_sklearn_neighbors__classification_KNeighborsClassifier_predict_proba = '_syft_missing'\n",
    "    print('❌ sklearn.neighbors._classification.KNeighborsClassifier.predict_proba: Return unavailable') # noqa E501\n",
    "    print(\"  Please fix this return type code until there is no exception\")\n",
    "    print('  Error:', e)\n"
   ]
  },
  {
   "cell_type": "code",
   "execution_count": null,
   "id": "structural-nitrogen",
   "metadata": {},
   "outputs": [],
   "source": [
    "# sklearn.neighbors._classification.KNeighborsClassifier.score\n",
    "try:\n",
    "    obj = class_constructor() # noqa F821\n",
    "    ret = obj.score()\n",
    "    type_sklearn_neighbors__classification_KNeighborsClassifier_score = getattr(ret, '__module__', 'none') + '.' + ret.__class__.__name__\n",
    "    print('✅ sklearn.neighbors._classification.KNeighborsClassifier.score: ', type(ret)) # noqa E501\n",
    "except Exception as e:\n",
    "    type_sklearn_neighbors__classification_KNeighborsClassifier_score = '_syft_missing'\n",
    "    print('❌ sklearn.neighbors._classification.KNeighborsClassifier.score: Return unavailable') # noqa E501\n",
    "    print(\"  Please fix this return type code until there is no exception\")\n",
    "    print('  Error:', e)\n"
   ]
  },
  {
   "cell_type": "code",
   "execution_count": null,
   "id": "another-assets",
   "metadata": {},
   "outputs": [],
   "source": [
    "# sklearn.neighbors._classification.KNeighborsClassifier.set_params\n",
    "try:\n",
    "    obj = class_constructor() # noqa F821\n",
    "    ret = obj.set_params()\n",
    "    type_sklearn_neighbors__classification_KNeighborsClassifier_set_params = getattr(ret, '__module__', 'none') + '.' + ret.__class__.__name__\n",
    "    print('✅ sklearn.neighbors._classification.KNeighborsClassifier.set_params: ', type(ret)) # noqa E501\n",
    "except Exception as e:\n",
    "    type_sklearn_neighbors__classification_KNeighborsClassifier_set_params = '_syft_missing'\n",
    "    print('❌ sklearn.neighbors._classification.KNeighborsClassifier.set_params: Return unavailable') # noqa E501\n",
    "    print(\"  Please fix this return type code until there is no exception\")\n",
    "    print('  Error:', e)\n"
   ]
  }
 ],
 "metadata": {},
 "nbformat": 4,
 "nbformat_minor": 5
}
{
 "cells": [
  {
   "cell_type": "markdown",
   "id": "indie-toner",
   "metadata": {},
   "source": [
    "## sklearn.semi_supervised._label_propagation.BaseLabelPropagation"
   ]
  },
  {
   "cell_type": "code",
   "execution_count": null,
   "id": "turned-fellow",
   "metadata": {},
   "outputs": [],
   "source": [
    "import sklearn\n",
    "def class_constructor(*args, **kwargs):\n",
    "    obj = sklearn.semi_supervised._label_propagation.BaseLabelPropagation()\n",
    "    return obj\n"
   ]
  },
  {
   "cell_type": "code",
   "execution_count": null,
   "id": "lined-camera",
   "metadata": {},
   "outputs": [],
   "source": [
    "# sklearn.semi_supervised._label_propagation.BaseLabelPropagation.__getstate__\n",
    "try:\n",
    "    obj = class_constructor() # noqa F821\n",
    "    ret = obj.__getstate__()\n",
    "    type_sklearn_semi_supervised__label_propagation_BaseLabelPropagation___getstate__ = getattr(ret, '__module__', 'none') + '.' + ret.__class__.__name__\n",
    "    print('✅ sklearn.semi_supervised._label_propagation.BaseLabelPropagation.__getstate__: ', type(ret)) # noqa E501\n",
    "except Exception as e:\n",
    "    type_sklearn_semi_supervised__label_propagation_BaseLabelPropagation___getstate__ = '_syft_missing'\n",
    "    print('❌ sklearn.semi_supervised._label_propagation.BaseLabelPropagation.__getstate__: Return unavailable') # noqa E501\n",
    "    print(\"  Please fix this return type code until there is no exception\")\n",
    "    print('  Error:', e)\n"
   ]
  },
  {
   "cell_type": "code",
   "execution_count": null,
   "id": "basic-fountain",
   "metadata": {},
   "outputs": [],
   "source": [
    "# sklearn.semi_supervised._label_propagation.BaseLabelPropagation.__repr__\n",
    "try:\n",
    "    obj = class_constructor() # noqa F821\n",
    "    ret = obj.__repr__()\n",
    "    type_sklearn_semi_supervised__label_propagation_BaseLabelPropagation___repr__ = getattr(ret, '__module__', 'none') + '.' + ret.__class__.__name__\n",
    "    print('✅ sklearn.semi_supervised._label_propagation.BaseLabelPropagation.__repr__: ', type(ret)) # noqa E501\n",
    "except Exception as e:\n",
    "    type_sklearn_semi_supervised__label_propagation_BaseLabelPropagation___repr__ = '_syft_missing'\n",
    "    print('❌ sklearn.semi_supervised._label_propagation.BaseLabelPropagation.__repr__: Return unavailable') # noqa E501\n",
    "    print(\"  Please fix this return type code until there is no exception\")\n",
    "    print('  Error:', e)\n"
   ]
  },
  {
   "cell_type": "code",
   "execution_count": null,
   "id": "japanese-dance",
   "metadata": {},
   "outputs": [],
   "source": [
    "# sklearn.semi_supervised._label_propagation.BaseLabelPropagation.__setstate__\n",
    "try:\n",
    "    obj = class_constructor() # noqa F821\n",
    "    ret = obj.__setstate__()\n",
    "    type_sklearn_semi_supervised__label_propagation_BaseLabelPropagation___setstate__ = getattr(ret, '__module__', 'none') + '.' + ret.__class__.__name__\n",
    "    print('✅ sklearn.semi_supervised._label_propagation.BaseLabelPropagation.__setstate__: ', type(ret)) # noqa E501\n",
    "except Exception as e:\n",
    "    type_sklearn_semi_supervised__label_propagation_BaseLabelPropagation___setstate__ = '_syft_missing'\n",
    "    print('❌ sklearn.semi_supervised._label_propagation.BaseLabelPropagation.__setstate__: Return unavailable') # noqa E501\n",
    "    print(\"  Please fix this return type code until there is no exception\")\n",
    "    print('  Error:', e)\n"
   ]
  },
  {
   "cell_type": "code",
   "execution_count": null,
   "id": "objective-philip",
   "metadata": {},
   "outputs": [],
   "source": [
    "# sklearn.semi_supervised._label_propagation.BaseLabelPropagation._build_graph\n",
    "try:\n",
    "    obj = class_constructor() # noqa F821\n",
    "    ret = obj._build_graph()\n",
    "    type_sklearn_semi_supervised__label_propagation_BaseLabelPropagation__build_graph = getattr(ret, '__module__', 'none') + '.' + ret.__class__.__name__\n",
    "    print('✅ sklearn.semi_supervised._label_propagation.BaseLabelPropagation._build_graph: ', type(ret)) # noqa E501\n",
    "except Exception as e:\n",
    "    type_sklearn_semi_supervised__label_propagation_BaseLabelPropagation__build_graph = '_syft_missing'\n",
    "    print('❌ sklearn.semi_supervised._label_propagation.BaseLabelPropagation._build_graph: Return unavailable') # noqa E501\n",
    "    print(\"  Please fix this return type code until there is no exception\")\n",
    "    print('  Error:', e)\n"
   ]
  },
  {
   "cell_type": "code",
   "execution_count": null,
   "id": "capable-marks",
   "metadata": {},
   "outputs": [],
   "source": [
    "# sklearn.semi_supervised._label_propagation.BaseLabelPropagation._check_n_features\n",
    "try:\n",
    "    obj = class_constructor() # noqa F821\n",
    "    ret = obj._check_n_features()\n",
    "    type_sklearn_semi_supervised__label_propagation_BaseLabelPropagation__check_n_features = getattr(ret, '__module__', 'none') + '.' + ret.__class__.__name__\n",
    "    print('✅ sklearn.semi_supervised._label_propagation.BaseLabelPropagation._check_n_features: ', type(ret)) # noqa E501\n",
    "except Exception as e:\n",
    "    type_sklearn_semi_supervised__label_propagation_BaseLabelPropagation__check_n_features = '_syft_missing'\n",
    "    print('❌ sklearn.semi_supervised._label_propagation.BaseLabelPropagation._check_n_features: Return unavailable') # noqa E501\n",
    "    print(\"  Please fix this return type code until there is no exception\")\n",
    "    print('  Error:', e)\n"
   ]
  },
  {
   "cell_type": "code",
   "execution_count": null,
   "id": "incorrect-costs",
   "metadata": {},
   "outputs": [],
   "source": [
    "# sklearn.semi_supervised._label_propagation.BaseLabelPropagation._get_kernel\n",
    "try:\n",
    "    obj = class_constructor() # noqa F821\n",
    "    ret = obj._get_kernel()\n",
    "    type_sklearn_semi_supervised__label_propagation_BaseLabelPropagation__get_kernel = getattr(ret, '__module__', 'none') + '.' + ret.__class__.__name__\n",
    "    print('✅ sklearn.semi_supervised._label_propagation.BaseLabelPropagation._get_kernel: ', type(ret)) # noqa E501\n",
    "except Exception as e:\n",
    "    type_sklearn_semi_supervised__label_propagation_BaseLabelPropagation__get_kernel = '_syft_missing'\n",
    "    print('❌ sklearn.semi_supervised._label_propagation.BaseLabelPropagation._get_kernel: Return unavailable') # noqa E501\n",
    "    print(\"  Please fix this return type code until there is no exception\")\n",
    "    print('  Error:', e)\n"
   ]
  },
  {
   "cell_type": "code",
   "execution_count": null,
   "id": "talented-remark",
   "metadata": {},
   "outputs": [],
   "source": [
    "# sklearn.semi_supervised._label_propagation.BaseLabelPropagation._get_param_names\n",
    "try:\n",
    "    obj = class_constructor() # noqa F821\n",
    "    ret = obj._get_param_names()\n",
    "    type_sklearn_semi_supervised__label_propagation_BaseLabelPropagation__get_param_names = getattr(ret, '__module__', 'none') + '.' + ret.__class__.__name__\n",
    "    print('✅ sklearn.semi_supervised._label_propagation.BaseLabelPropagation._get_param_names: ', type(ret)) # noqa E501\n",
    "except Exception as e:\n",
    "    type_sklearn_semi_supervised__label_propagation_BaseLabelPropagation__get_param_names = '_syft_missing'\n",
    "    print('❌ sklearn.semi_supervised._label_propagation.BaseLabelPropagation._get_param_names: Return unavailable') # noqa E501\n",
    "    print(\"  Please fix this return type code until there is no exception\")\n",
    "    print('  Error:', e)\n"
   ]
  },
  {
   "cell_type": "code",
   "execution_count": null,
   "id": "possible-calendar",
   "metadata": {},
   "outputs": [],
   "source": [
    "# sklearn.semi_supervised._label_propagation.BaseLabelPropagation._get_tags\n",
    "try:\n",
    "    obj = class_constructor() # noqa F821\n",
    "    ret = obj._get_tags()\n",
    "    type_sklearn_semi_supervised__label_propagation_BaseLabelPropagation__get_tags = getattr(ret, '__module__', 'none') + '.' + ret.__class__.__name__\n",
    "    print('✅ sklearn.semi_supervised._label_propagation.BaseLabelPropagation._get_tags: ', type(ret)) # noqa E501\n",
    "except Exception as e:\n",
    "    type_sklearn_semi_supervised__label_propagation_BaseLabelPropagation__get_tags = '_syft_missing'\n",
    "    print('❌ sklearn.semi_supervised._label_propagation.BaseLabelPropagation._get_tags: Return unavailable') # noqa E501\n",
    "    print(\"  Please fix this return type code until there is no exception\")\n",
    "    print('  Error:', e)\n"
   ]
  },
  {
   "cell_type": "code",
   "execution_count": null,
   "id": "regulated-drive",
   "metadata": {},
   "outputs": [],
   "source": [
    "# sklearn.semi_supervised._label_propagation.BaseLabelPropagation._more_tags\n",
    "try:\n",
    "    obj = class_constructor() # noqa F821\n",
    "    ret = obj._more_tags()\n",
    "    type_sklearn_semi_supervised__label_propagation_BaseLabelPropagation__more_tags = getattr(ret, '__module__', 'none') + '.' + ret.__class__.__name__\n",
    "    print('✅ sklearn.semi_supervised._label_propagation.BaseLabelPropagation._more_tags: ', type(ret)) # noqa E501\n",
    "except Exception as e:\n",
    "    type_sklearn_semi_supervised__label_propagation_BaseLabelPropagation__more_tags = '_syft_missing'\n",
    "    print('❌ sklearn.semi_supervised._label_propagation.BaseLabelPropagation._more_tags: Return unavailable') # noqa E501\n",
    "    print(\"  Please fix this return type code until there is no exception\")\n",
    "    print('  Error:', e)\n"
   ]
  },
  {
   "cell_type": "code",
   "execution_count": null,
   "id": "solved-promise",
   "metadata": {},
   "outputs": [],
   "source": [
    "# sklearn.semi_supervised._label_propagation.BaseLabelPropagation._repr_html_\n",
    "try:\n",
    "    obj = class_constructor()\n",
    "    ret = obj._repr_html_\n",
    "    type_sklearn_semi_supervised__label_propagation_BaseLabelPropagation__repr_html_ = getattr(ret, '__module__', 'none') + '.' + ret.__class__.__name__\n",
    "    print('✅ sklearn.semi_supervised._label_propagation.BaseLabelPropagation._repr_html_:', type(ret)) # noqa E501\n",
    "except Exception as e:\n",
    "    type_sklearn_semi_supervised__label_propagation_BaseLabelPropagation__repr_html_ = '_syft_missing'\n",
    "    print('❌ sklearn.semi_supervised._label_propagation.BaseLabelPropagation._repr_html_: Return unavailable') # noqa E501\n",
    "    print(\"  Please fix this return type code until there is no exception\")\n",
    "    print('  Error:', e)\n"
   ]
  },
  {
   "cell_type": "code",
   "execution_count": null,
   "id": "processed-blackberry",
   "metadata": {},
   "outputs": [],
   "source": [
    "# sklearn.semi_supervised._label_propagation.BaseLabelPropagation._repr_html_inner\n",
    "try:\n",
    "    obj = class_constructor() # noqa F821\n",
    "    ret = obj._repr_html_inner()\n",
    "    type_sklearn_semi_supervised__label_propagation_BaseLabelPropagation__repr_html_inner = getattr(ret, '__module__', 'none') + '.' + ret.__class__.__name__\n",
    "    print('✅ sklearn.semi_supervised._label_propagation.BaseLabelPropagation._repr_html_inner: ', type(ret)) # noqa E501\n",
    "except Exception as e:\n",
    "    type_sklearn_semi_supervised__label_propagation_BaseLabelPropagation__repr_html_inner = '_syft_missing'\n",
    "    print('❌ sklearn.semi_supervised._label_propagation.BaseLabelPropagation._repr_html_inner: Return unavailable') # noqa E501\n",
    "    print(\"  Please fix this return type code until there is no exception\")\n",
    "    print('  Error:', e)\n"
   ]
  },
  {
   "cell_type": "code",
   "execution_count": null,
   "id": "perceived-cabinet",
   "metadata": {},
   "outputs": [],
   "source": [
    "# sklearn.semi_supervised._label_propagation.BaseLabelPropagation._repr_mimebundle_\n",
    "try:\n",
    "    obj = class_constructor() # noqa F821\n",
    "    ret = obj._repr_mimebundle_()\n",
    "    type_sklearn_semi_supervised__label_propagation_BaseLabelPropagation__repr_mimebundle_ = getattr(ret, '__module__', 'none') + '.' + ret.__class__.__name__\n",
    "    print('✅ sklearn.semi_supervised._label_propagation.BaseLabelPropagation._repr_mimebundle_: ', type(ret)) # noqa E501\n",
    "except Exception as e:\n",
    "    type_sklearn_semi_supervised__label_propagation_BaseLabelPropagation__repr_mimebundle_ = '_syft_missing'\n",
    "    print('❌ sklearn.semi_supervised._label_propagation.BaseLabelPropagation._repr_mimebundle_: Return unavailable') # noqa E501\n",
    "    print(\"  Please fix this return type code until there is no exception\")\n",
    "    print('  Error:', e)\n"
   ]
  },
  {
   "cell_type": "code",
   "execution_count": null,
   "id": "efficient-paris",
   "metadata": {},
   "outputs": [],
   "source": [
    "# sklearn.semi_supervised._label_propagation.BaseLabelPropagation._validate_data\n",
    "try:\n",
    "    obj = class_constructor() # noqa F821\n",
    "    ret = obj._validate_data()\n",
    "    type_sklearn_semi_supervised__label_propagation_BaseLabelPropagation__validate_data = getattr(ret, '__module__', 'none') + '.' + ret.__class__.__name__\n",
    "    print('✅ sklearn.semi_supervised._label_propagation.BaseLabelPropagation._validate_data: ', type(ret)) # noqa E501\n",
    "except Exception as e:\n",
    "    type_sklearn_semi_supervised__label_propagation_BaseLabelPropagation__validate_data = '_syft_missing'\n",
    "    print('❌ sklearn.semi_supervised._label_propagation.BaseLabelPropagation._validate_data: Return unavailable') # noqa E501\n",
    "    print(\"  Please fix this return type code until there is no exception\")\n",
    "    print('  Error:', e)\n"
   ]
  },
  {
   "cell_type": "code",
   "execution_count": null,
   "id": "wooden-extra",
   "metadata": {},
   "outputs": [],
   "source": [
    "# sklearn.semi_supervised._label_propagation.BaseLabelPropagation.fit\n",
    "try:\n",
    "    obj = class_constructor() # noqa F821\n",
    "    ret = obj.fit()\n",
    "    type_sklearn_semi_supervised__label_propagation_BaseLabelPropagation_fit = getattr(ret, '__module__', 'none') + '.' + ret.__class__.__name__\n",
    "    print('✅ sklearn.semi_supervised._label_propagation.BaseLabelPropagation.fit: ', type(ret)) # noqa E501\n",
    "except Exception as e:\n",
    "    type_sklearn_semi_supervised__label_propagation_BaseLabelPropagation_fit = '_syft_missing'\n",
    "    print('❌ sklearn.semi_supervised._label_propagation.BaseLabelPropagation.fit: Return unavailable') # noqa E501\n",
    "    print(\"  Please fix this return type code until there is no exception\")\n",
    "    print('  Error:', e)\n"
   ]
  },
  {
   "cell_type": "code",
   "execution_count": null,
   "id": "sonic-physics",
   "metadata": {},
   "outputs": [],
   "source": [
    "# sklearn.semi_supervised._label_propagation.BaseLabelPropagation.get_params\n",
    "try:\n",
    "    obj = class_constructor() # noqa F821\n",
    "    ret = obj.get_params()\n",
    "    type_sklearn_semi_supervised__label_propagation_BaseLabelPropagation_get_params = getattr(ret, '__module__', 'none') + '.' + ret.__class__.__name__\n",
    "    print('✅ sklearn.semi_supervised._label_propagation.BaseLabelPropagation.get_params: ', type(ret)) # noqa E501\n",
    "except Exception as e:\n",
    "    type_sklearn_semi_supervised__label_propagation_BaseLabelPropagation_get_params = '_syft_missing'\n",
    "    print('❌ sklearn.semi_supervised._label_propagation.BaseLabelPropagation.get_params: Return unavailable') # noqa E501\n",
    "    print(\"  Please fix this return type code until there is no exception\")\n",
    "    print('  Error:', e)\n"
   ]
  },
  {
   "cell_type": "code",
   "execution_count": null,
   "id": "clean-vacation",
   "metadata": {},
   "outputs": [],
   "source": [
    "# sklearn.semi_supervised._label_propagation.BaseLabelPropagation.predict\n",
    "try:\n",
    "    obj = class_constructor() # noqa F821\n",
    "    ret = obj.predict()\n",
    "    type_sklearn_semi_supervised__label_propagation_BaseLabelPropagation_predict = getattr(ret, '__module__', 'none') + '.' + ret.__class__.__name__\n",
    "    print('✅ sklearn.semi_supervised._label_propagation.BaseLabelPropagation.predict: ', type(ret)) # noqa E501\n",
    "except Exception as e:\n",
    "    type_sklearn_semi_supervised__label_propagation_BaseLabelPropagation_predict = '_syft_missing'\n",
    "    print('❌ sklearn.semi_supervised._label_propagation.BaseLabelPropagation.predict: Return unavailable') # noqa E501\n",
    "    print(\"  Please fix this return type code until there is no exception\")\n",
    "    print('  Error:', e)\n"
   ]
  },
  {
   "cell_type": "code",
   "execution_count": null,
   "id": "convertible-shock",
   "metadata": {},
   "outputs": [],
   "source": [
    "# sklearn.semi_supervised._label_propagation.BaseLabelPropagation.predict_proba\n",
    "try:\n",
    "    obj = class_constructor() # noqa F821\n",
    "    ret = obj.predict_proba()\n",
    "    type_sklearn_semi_supervised__label_propagation_BaseLabelPropagation_predict_proba = getattr(ret, '__module__', 'none') + '.' + ret.__class__.__name__\n",
    "    print('✅ sklearn.semi_supervised._label_propagation.BaseLabelPropagation.predict_proba: ', type(ret)) # noqa E501\n",
    "except Exception as e:\n",
    "    type_sklearn_semi_supervised__label_propagation_BaseLabelPropagation_predict_proba = '_syft_missing'\n",
    "    print('❌ sklearn.semi_supervised._label_propagation.BaseLabelPropagation.predict_proba: Return unavailable') # noqa E501\n",
    "    print(\"  Please fix this return type code until there is no exception\")\n",
    "    print('  Error:', e)\n"
   ]
  },
  {
   "cell_type": "code",
   "execution_count": null,
   "id": "catholic-accident",
   "metadata": {},
   "outputs": [],
   "source": [
    "# sklearn.semi_supervised._label_propagation.BaseLabelPropagation.score\n",
    "try:\n",
    "    obj = class_constructor() # noqa F821\n",
    "    ret = obj.score()\n",
    "    type_sklearn_semi_supervised__label_propagation_BaseLabelPropagation_score = getattr(ret, '__module__', 'none') + '.' + ret.__class__.__name__\n",
    "    print('✅ sklearn.semi_supervised._label_propagation.BaseLabelPropagation.score: ', type(ret)) # noqa E501\n",
    "except Exception as e:\n",
    "    type_sklearn_semi_supervised__label_propagation_BaseLabelPropagation_score = '_syft_missing'\n",
    "    print('❌ sklearn.semi_supervised._label_propagation.BaseLabelPropagation.score: Return unavailable') # noqa E501\n",
    "    print(\"  Please fix this return type code until there is no exception\")\n",
    "    print('  Error:', e)\n"
   ]
  },
  {
   "cell_type": "code",
   "execution_count": null,
   "id": "steady-mistress",
   "metadata": {},
   "outputs": [],
   "source": [
    "# sklearn.semi_supervised._label_propagation.BaseLabelPropagation.set_params\n",
    "try:\n",
    "    obj = class_constructor() # noqa F821\n",
    "    ret = obj.set_params()\n",
    "    type_sklearn_semi_supervised__label_propagation_BaseLabelPropagation_set_params = getattr(ret, '__module__', 'none') + '.' + ret.__class__.__name__\n",
    "    print('✅ sklearn.semi_supervised._label_propagation.BaseLabelPropagation.set_params: ', type(ret)) # noqa E501\n",
    "except Exception as e:\n",
    "    type_sklearn_semi_supervised__label_propagation_BaseLabelPropagation_set_params = '_syft_missing'\n",
    "    print('❌ sklearn.semi_supervised._label_propagation.BaseLabelPropagation.set_params: Return unavailable') # noqa E501\n",
    "    print(\"  Please fix this return type code until there is no exception\")\n",
    "    print('  Error:', e)\n"
   ]
  }
 ],
 "metadata": {},
 "nbformat": 4,
 "nbformat_minor": 5
}
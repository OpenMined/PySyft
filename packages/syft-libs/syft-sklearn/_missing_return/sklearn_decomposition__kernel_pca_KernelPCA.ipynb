{
 "cells": [
  {
   "cell_type": "markdown",
   "id": "recovered-springer",
   "metadata": {},
   "source": [
    "## sklearn.decomposition._kernel_pca.KernelPCA"
   ]
  },
  {
   "cell_type": "code",
   "execution_count": null,
   "id": "intermediate-monday",
   "metadata": {},
   "outputs": [],
   "source": [
    "import sklearn\n",
    "def class_constructor(*args, **kwargs):\n",
    "    obj = sklearn.decomposition._kernel_pca.KernelPCA()\n",
    "    return obj\n"
   ]
  },
  {
   "cell_type": "code",
   "execution_count": null,
   "id": "internal-ranking",
   "metadata": {},
   "outputs": [],
   "source": [
    "# sklearn.decomposition._kernel_pca.KernelPCA.__getstate__\n",
    "try:\n",
    "    obj = class_constructor() # noqa F821\n",
    "    ret = obj.__getstate__()\n",
    "    type_sklearn_decomposition__kernel_pca_KernelPCA___getstate__ = getattr(ret, '__module__', 'none') + '.' + ret.__class__.__name__\n",
    "    print('✅ sklearn.decomposition._kernel_pca.KernelPCA.__getstate__: ', type(ret)) # noqa E501\n",
    "except Exception as e:\n",
    "    type_sklearn_decomposition__kernel_pca_KernelPCA___getstate__ = '_syft_missing'\n",
    "    print('❌ sklearn.decomposition._kernel_pca.KernelPCA.__getstate__: Return unavailable') # noqa E501\n",
    "    print(\"  Please fix this return type code until there is no exception\")\n",
    "    print('  Error:', e)\n"
   ]
  },
  {
   "cell_type": "code",
   "execution_count": null,
   "id": "known-scenario",
   "metadata": {},
   "outputs": [],
   "source": [
    "# sklearn.decomposition._kernel_pca.KernelPCA.__repr__\n",
    "try:\n",
    "    obj = class_constructor() # noqa F821\n",
    "    ret = obj.__repr__()\n",
    "    type_sklearn_decomposition__kernel_pca_KernelPCA___repr__ = getattr(ret, '__module__', 'none') + '.' + ret.__class__.__name__\n",
    "    print('✅ sklearn.decomposition._kernel_pca.KernelPCA.__repr__: ', type(ret)) # noqa E501\n",
    "except Exception as e:\n",
    "    type_sklearn_decomposition__kernel_pca_KernelPCA___repr__ = '_syft_missing'\n",
    "    print('❌ sklearn.decomposition._kernel_pca.KernelPCA.__repr__: Return unavailable') # noqa E501\n",
    "    print(\"  Please fix this return type code until there is no exception\")\n",
    "    print('  Error:', e)\n"
   ]
  },
  {
   "cell_type": "code",
   "execution_count": null,
   "id": "removable-friendly",
   "metadata": {},
   "outputs": [],
   "source": [
    "# sklearn.decomposition._kernel_pca.KernelPCA.__setstate__\n",
    "try:\n",
    "    obj = class_constructor() # noqa F821\n",
    "    ret = obj.__setstate__()\n",
    "    type_sklearn_decomposition__kernel_pca_KernelPCA___setstate__ = getattr(ret, '__module__', 'none') + '.' + ret.__class__.__name__\n",
    "    print('✅ sklearn.decomposition._kernel_pca.KernelPCA.__setstate__: ', type(ret)) # noqa E501\n",
    "except Exception as e:\n",
    "    type_sklearn_decomposition__kernel_pca_KernelPCA___setstate__ = '_syft_missing'\n",
    "    print('❌ sklearn.decomposition._kernel_pca.KernelPCA.__setstate__: Return unavailable') # noqa E501\n",
    "    print(\"  Please fix this return type code until there is no exception\")\n",
    "    print('  Error:', e)\n"
   ]
  },
  {
   "cell_type": "code",
   "execution_count": null,
   "id": "illegal-lafayette",
   "metadata": {},
   "outputs": [],
   "source": [
    "# sklearn.decomposition._kernel_pca.KernelPCA._check_n_features\n",
    "try:\n",
    "    obj = class_constructor() # noqa F821\n",
    "    ret = obj._check_n_features()\n",
    "    type_sklearn_decomposition__kernel_pca_KernelPCA__check_n_features = getattr(ret, '__module__', 'none') + '.' + ret.__class__.__name__\n",
    "    print('✅ sklearn.decomposition._kernel_pca.KernelPCA._check_n_features: ', type(ret)) # noqa E501\n",
    "except Exception as e:\n",
    "    type_sklearn_decomposition__kernel_pca_KernelPCA__check_n_features = '_syft_missing'\n",
    "    print('❌ sklearn.decomposition._kernel_pca.KernelPCA._check_n_features: Return unavailable') # noqa E501\n",
    "    print(\"  Please fix this return type code until there is no exception\")\n",
    "    print('  Error:', e)\n"
   ]
  },
  {
   "cell_type": "code",
   "execution_count": null,
   "id": "basic-syracuse",
   "metadata": {},
   "outputs": [],
   "source": [
    "# sklearn.decomposition._kernel_pca.KernelPCA._fit_inverse_transform\n",
    "try:\n",
    "    obj = class_constructor() # noqa F821\n",
    "    ret = obj._fit_inverse_transform()\n",
    "    type_sklearn_decomposition__kernel_pca_KernelPCA__fit_inverse_transform = getattr(ret, '__module__', 'none') + '.' + ret.__class__.__name__\n",
    "    print('✅ sklearn.decomposition._kernel_pca.KernelPCA._fit_inverse_transform: ', type(ret)) # noqa E501\n",
    "except Exception as e:\n",
    "    type_sklearn_decomposition__kernel_pca_KernelPCA__fit_inverse_transform = '_syft_missing'\n",
    "    print('❌ sklearn.decomposition._kernel_pca.KernelPCA._fit_inverse_transform: Return unavailable') # noqa E501\n",
    "    print(\"  Please fix this return type code until there is no exception\")\n",
    "    print('  Error:', e)\n"
   ]
  },
  {
   "cell_type": "code",
   "execution_count": null,
   "id": "particular-nancy",
   "metadata": {},
   "outputs": [],
   "source": [
    "# sklearn.decomposition._kernel_pca.KernelPCA._fit_transform\n",
    "try:\n",
    "    obj = class_constructor() # noqa F821\n",
    "    ret = obj._fit_transform()\n",
    "    type_sklearn_decomposition__kernel_pca_KernelPCA__fit_transform = getattr(ret, '__module__', 'none') + '.' + ret.__class__.__name__\n",
    "    print('✅ sklearn.decomposition._kernel_pca.KernelPCA._fit_transform: ', type(ret)) # noqa E501\n",
    "except Exception as e:\n",
    "    type_sklearn_decomposition__kernel_pca_KernelPCA__fit_transform = '_syft_missing'\n",
    "    print('❌ sklearn.decomposition._kernel_pca.KernelPCA._fit_transform: Return unavailable') # noqa E501\n",
    "    print(\"  Please fix this return type code until there is no exception\")\n",
    "    print('  Error:', e)\n"
   ]
  },
  {
   "cell_type": "code",
   "execution_count": null,
   "id": "effective-static",
   "metadata": {},
   "outputs": [],
   "source": [
    "# sklearn.decomposition._kernel_pca.KernelPCA._get_kernel\n",
    "try:\n",
    "    obj = class_constructor() # noqa F821\n",
    "    ret = obj._get_kernel()\n",
    "    type_sklearn_decomposition__kernel_pca_KernelPCA__get_kernel = getattr(ret, '__module__', 'none') + '.' + ret.__class__.__name__\n",
    "    print('✅ sklearn.decomposition._kernel_pca.KernelPCA._get_kernel: ', type(ret)) # noqa E501\n",
    "except Exception as e:\n",
    "    type_sklearn_decomposition__kernel_pca_KernelPCA__get_kernel = '_syft_missing'\n",
    "    print('❌ sklearn.decomposition._kernel_pca.KernelPCA._get_kernel: Return unavailable') # noqa E501\n",
    "    print(\"  Please fix this return type code until there is no exception\")\n",
    "    print('  Error:', e)\n"
   ]
  },
  {
   "cell_type": "code",
   "execution_count": null,
   "id": "thorough-warrant",
   "metadata": {},
   "outputs": [],
   "source": [
    "# sklearn.decomposition._kernel_pca.KernelPCA._get_param_names\n",
    "try:\n",
    "    obj = class_constructor() # noqa F821\n",
    "    ret = obj._get_param_names()\n",
    "    type_sklearn_decomposition__kernel_pca_KernelPCA__get_param_names = getattr(ret, '__module__', 'none') + '.' + ret.__class__.__name__\n",
    "    print('✅ sklearn.decomposition._kernel_pca.KernelPCA._get_param_names: ', type(ret)) # noqa E501\n",
    "except Exception as e:\n",
    "    type_sklearn_decomposition__kernel_pca_KernelPCA__get_param_names = '_syft_missing'\n",
    "    print('❌ sklearn.decomposition._kernel_pca.KernelPCA._get_param_names: Return unavailable') # noqa E501\n",
    "    print(\"  Please fix this return type code until there is no exception\")\n",
    "    print('  Error:', e)\n"
   ]
  },
  {
   "cell_type": "code",
   "execution_count": null,
   "id": "trained-dragon",
   "metadata": {},
   "outputs": [],
   "source": [
    "# sklearn.decomposition._kernel_pca.KernelPCA._get_tags\n",
    "try:\n",
    "    obj = class_constructor() # noqa F821\n",
    "    ret = obj._get_tags()\n",
    "    type_sklearn_decomposition__kernel_pca_KernelPCA__get_tags = getattr(ret, '__module__', 'none') + '.' + ret.__class__.__name__\n",
    "    print('✅ sklearn.decomposition._kernel_pca.KernelPCA._get_tags: ', type(ret)) # noqa E501\n",
    "except Exception as e:\n",
    "    type_sklearn_decomposition__kernel_pca_KernelPCA__get_tags = '_syft_missing'\n",
    "    print('❌ sklearn.decomposition._kernel_pca.KernelPCA._get_tags: Return unavailable') # noqa E501\n",
    "    print(\"  Please fix this return type code until there is no exception\")\n",
    "    print('  Error:', e)\n"
   ]
  },
  {
   "cell_type": "code",
   "execution_count": null,
   "id": "regional-remains",
   "metadata": {},
   "outputs": [],
   "source": [
    "# sklearn.decomposition._kernel_pca.KernelPCA._more_tags\n",
    "try:\n",
    "    obj = class_constructor() # noqa F821\n",
    "    ret = obj._more_tags()\n",
    "    type_sklearn_decomposition__kernel_pca_KernelPCA__more_tags = getattr(ret, '__module__', 'none') + '.' + ret.__class__.__name__\n",
    "    print('✅ sklearn.decomposition._kernel_pca.KernelPCA._more_tags: ', type(ret)) # noqa E501\n",
    "except Exception as e:\n",
    "    type_sklearn_decomposition__kernel_pca_KernelPCA__more_tags = '_syft_missing'\n",
    "    print('❌ sklearn.decomposition._kernel_pca.KernelPCA._more_tags: Return unavailable') # noqa E501\n",
    "    print(\"  Please fix this return type code until there is no exception\")\n",
    "    print('  Error:', e)\n"
   ]
  },
  {
   "cell_type": "code",
   "execution_count": null,
   "id": "waiting-monte",
   "metadata": {},
   "outputs": [],
   "source": [
    "# sklearn.decomposition._kernel_pca.KernelPCA._pairwise\n",
    "try:\n",
    "    obj = class_constructor()\n",
    "    ret = obj._pairwise\n",
    "    type_sklearn_decomposition__kernel_pca_KernelPCA__pairwise = getattr(ret, '__module__', 'none') + '.' + ret.__class__.__name__\n",
    "    print('✅ sklearn.decomposition._kernel_pca.KernelPCA._pairwise:', type(ret)) # noqa E501\n",
    "except Exception as e:\n",
    "    type_sklearn_decomposition__kernel_pca_KernelPCA__pairwise = '_syft_missing'\n",
    "    print('❌ sklearn.decomposition._kernel_pca.KernelPCA._pairwise: Return unavailable') # noqa E501\n",
    "    print(\"  Please fix this return type code until there is no exception\")\n",
    "    print('  Error:', e)\n"
   ]
  },
  {
   "cell_type": "code",
   "execution_count": null,
   "id": "seven-reduction",
   "metadata": {},
   "outputs": [],
   "source": [
    "# sklearn.decomposition._kernel_pca.KernelPCA._repr_html_\n",
    "try:\n",
    "    obj = class_constructor()\n",
    "    ret = obj._repr_html_\n",
    "    type_sklearn_decomposition__kernel_pca_KernelPCA__repr_html_ = getattr(ret, '__module__', 'none') + '.' + ret.__class__.__name__\n",
    "    print('✅ sklearn.decomposition._kernel_pca.KernelPCA._repr_html_:', type(ret)) # noqa E501\n",
    "except Exception as e:\n",
    "    type_sklearn_decomposition__kernel_pca_KernelPCA__repr_html_ = '_syft_missing'\n",
    "    print('❌ sklearn.decomposition._kernel_pca.KernelPCA._repr_html_: Return unavailable') # noqa E501\n",
    "    print(\"  Please fix this return type code until there is no exception\")\n",
    "    print('  Error:', e)\n"
   ]
  },
  {
   "cell_type": "code",
   "execution_count": null,
   "id": "filled-sussex",
   "metadata": {},
   "outputs": [],
   "source": [
    "# sklearn.decomposition._kernel_pca.KernelPCA._repr_html_inner\n",
    "try:\n",
    "    obj = class_constructor() # noqa F821\n",
    "    ret = obj._repr_html_inner()\n",
    "    type_sklearn_decomposition__kernel_pca_KernelPCA__repr_html_inner = getattr(ret, '__module__', 'none') + '.' + ret.__class__.__name__\n",
    "    print('✅ sklearn.decomposition._kernel_pca.KernelPCA._repr_html_inner: ', type(ret)) # noqa E501\n",
    "except Exception as e:\n",
    "    type_sklearn_decomposition__kernel_pca_KernelPCA__repr_html_inner = '_syft_missing'\n",
    "    print('❌ sklearn.decomposition._kernel_pca.KernelPCA._repr_html_inner: Return unavailable') # noqa E501\n",
    "    print(\"  Please fix this return type code until there is no exception\")\n",
    "    print('  Error:', e)\n"
   ]
  },
  {
   "cell_type": "code",
   "execution_count": null,
   "id": "collective-interview",
   "metadata": {},
   "outputs": [],
   "source": [
    "# sklearn.decomposition._kernel_pca.KernelPCA._repr_mimebundle_\n",
    "try:\n",
    "    obj = class_constructor() # noqa F821\n",
    "    ret = obj._repr_mimebundle_()\n",
    "    type_sklearn_decomposition__kernel_pca_KernelPCA__repr_mimebundle_ = getattr(ret, '__module__', 'none') + '.' + ret.__class__.__name__\n",
    "    print('✅ sklearn.decomposition._kernel_pca.KernelPCA._repr_mimebundle_: ', type(ret)) # noqa E501\n",
    "except Exception as e:\n",
    "    type_sklearn_decomposition__kernel_pca_KernelPCA__repr_mimebundle_ = '_syft_missing'\n",
    "    print('❌ sklearn.decomposition._kernel_pca.KernelPCA._repr_mimebundle_: Return unavailable') # noqa E501\n",
    "    print(\"  Please fix this return type code until there is no exception\")\n",
    "    print('  Error:', e)\n"
   ]
  },
  {
   "cell_type": "code",
   "execution_count": null,
   "id": "alike-falls",
   "metadata": {},
   "outputs": [],
   "source": [
    "# sklearn.decomposition._kernel_pca.KernelPCA._validate_data\n",
    "try:\n",
    "    obj = class_constructor() # noqa F821\n",
    "    ret = obj._validate_data()\n",
    "    type_sklearn_decomposition__kernel_pca_KernelPCA__validate_data = getattr(ret, '__module__', 'none') + '.' + ret.__class__.__name__\n",
    "    print('✅ sklearn.decomposition._kernel_pca.KernelPCA._validate_data: ', type(ret)) # noqa E501\n",
    "except Exception as e:\n",
    "    type_sklearn_decomposition__kernel_pca_KernelPCA__validate_data = '_syft_missing'\n",
    "    print('❌ sklearn.decomposition._kernel_pca.KernelPCA._validate_data: Return unavailable') # noqa E501\n",
    "    print(\"  Please fix this return type code until there is no exception\")\n",
    "    print('  Error:', e)\n"
   ]
  },
  {
   "cell_type": "code",
   "execution_count": null,
   "id": "approximate-investigation",
   "metadata": {},
   "outputs": [],
   "source": [
    "# sklearn.decomposition._kernel_pca.KernelPCA.fit\n",
    "try:\n",
    "    obj = class_constructor() # noqa F821\n",
    "    ret = obj.fit()\n",
    "    type_sklearn_decomposition__kernel_pca_KernelPCA_fit = getattr(ret, '__module__', 'none') + '.' + ret.__class__.__name__\n",
    "    print('✅ sklearn.decomposition._kernel_pca.KernelPCA.fit: ', type(ret)) # noqa E501\n",
    "except Exception as e:\n",
    "    type_sklearn_decomposition__kernel_pca_KernelPCA_fit = '_syft_missing'\n",
    "    print('❌ sklearn.decomposition._kernel_pca.KernelPCA.fit: Return unavailable') # noqa E501\n",
    "    print(\"  Please fix this return type code until there is no exception\")\n",
    "    print('  Error:', e)\n"
   ]
  },
  {
   "cell_type": "code",
   "execution_count": null,
   "id": "governing-concern",
   "metadata": {},
   "outputs": [],
   "source": [
    "# sklearn.decomposition._kernel_pca.KernelPCA.fit_transform\n",
    "try:\n",
    "    obj = class_constructor() # noqa F821\n",
    "    ret = obj.fit_transform()\n",
    "    type_sklearn_decomposition__kernel_pca_KernelPCA_fit_transform = getattr(ret, '__module__', 'none') + '.' + ret.__class__.__name__\n",
    "    print('✅ sklearn.decomposition._kernel_pca.KernelPCA.fit_transform: ', type(ret)) # noqa E501\n",
    "except Exception as e:\n",
    "    type_sklearn_decomposition__kernel_pca_KernelPCA_fit_transform = '_syft_missing'\n",
    "    print('❌ sklearn.decomposition._kernel_pca.KernelPCA.fit_transform: Return unavailable') # noqa E501\n",
    "    print(\"  Please fix this return type code until there is no exception\")\n",
    "    print('  Error:', e)\n"
   ]
  },
  {
   "cell_type": "code",
   "execution_count": null,
   "id": "composed-funeral",
   "metadata": {},
   "outputs": [],
   "source": [
    "# sklearn.decomposition._kernel_pca.KernelPCA.get_params\n",
    "try:\n",
    "    obj = class_constructor() # noqa F821\n",
    "    ret = obj.get_params()\n",
    "    type_sklearn_decomposition__kernel_pca_KernelPCA_get_params = getattr(ret, '__module__', 'none') + '.' + ret.__class__.__name__\n",
    "    print('✅ sklearn.decomposition._kernel_pca.KernelPCA.get_params: ', type(ret)) # noqa E501\n",
    "except Exception as e:\n",
    "    type_sklearn_decomposition__kernel_pca_KernelPCA_get_params = '_syft_missing'\n",
    "    print('❌ sklearn.decomposition._kernel_pca.KernelPCA.get_params: Return unavailable') # noqa E501\n",
    "    print(\"  Please fix this return type code until there is no exception\")\n",
    "    print('  Error:', e)\n"
   ]
  },
  {
   "cell_type": "code",
   "execution_count": null,
   "id": "charged-report",
   "metadata": {},
   "outputs": [],
   "source": [
    "# sklearn.decomposition._kernel_pca.KernelPCA.inverse_transform\n",
    "try:\n",
    "    obj = class_constructor() # noqa F821\n",
    "    ret = obj.inverse_transform()\n",
    "    type_sklearn_decomposition__kernel_pca_KernelPCA_inverse_transform = getattr(ret, '__module__', 'none') + '.' + ret.__class__.__name__\n",
    "    print('✅ sklearn.decomposition._kernel_pca.KernelPCA.inverse_transform: ', type(ret)) # noqa E501\n",
    "except Exception as e:\n",
    "    type_sklearn_decomposition__kernel_pca_KernelPCA_inverse_transform = '_syft_missing'\n",
    "    print('❌ sklearn.decomposition._kernel_pca.KernelPCA.inverse_transform: Return unavailable') # noqa E501\n",
    "    print(\"  Please fix this return type code until there is no exception\")\n",
    "    print('  Error:', e)\n"
   ]
  },
  {
   "cell_type": "code",
   "execution_count": null,
   "id": "positive-perception",
   "metadata": {},
   "outputs": [],
   "source": [
    "# sklearn.decomposition._kernel_pca.KernelPCA.set_params\n",
    "try:\n",
    "    obj = class_constructor() # noqa F821\n",
    "    ret = obj.set_params()\n",
    "    type_sklearn_decomposition__kernel_pca_KernelPCA_set_params = getattr(ret, '__module__', 'none') + '.' + ret.__class__.__name__\n",
    "    print('✅ sklearn.decomposition._kernel_pca.KernelPCA.set_params: ', type(ret)) # noqa E501\n",
    "except Exception as e:\n",
    "    type_sklearn_decomposition__kernel_pca_KernelPCA_set_params = '_syft_missing'\n",
    "    print('❌ sklearn.decomposition._kernel_pca.KernelPCA.set_params: Return unavailable') # noqa E501\n",
    "    print(\"  Please fix this return type code until there is no exception\")\n",
    "    print('  Error:', e)\n"
   ]
  },
  {
   "cell_type": "code",
   "execution_count": null,
   "id": "sophisticated-impact",
   "metadata": {},
   "outputs": [],
   "source": [
    "# sklearn.decomposition._kernel_pca.KernelPCA.transform\n",
    "try:\n",
    "    obj = class_constructor() # noqa F821\n",
    "    ret = obj.transform()\n",
    "    type_sklearn_decomposition__kernel_pca_KernelPCA_transform = getattr(ret, '__module__', 'none') + '.' + ret.__class__.__name__\n",
    "    print('✅ sklearn.decomposition._kernel_pca.KernelPCA.transform: ', type(ret)) # noqa E501\n",
    "except Exception as e:\n",
    "    type_sklearn_decomposition__kernel_pca_KernelPCA_transform = '_syft_missing'\n",
    "    print('❌ sklearn.decomposition._kernel_pca.KernelPCA.transform: Return unavailable') # noqa E501\n",
    "    print(\"  Please fix this return type code until there is no exception\")\n",
    "    print('  Error:', e)\n"
   ]
  }
 ],
 "metadata": {},
 "nbformat": 4,
 "nbformat_minor": 5
}
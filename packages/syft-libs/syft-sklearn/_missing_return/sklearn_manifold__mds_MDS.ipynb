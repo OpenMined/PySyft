{
 "cells": [
  {
   "cell_type": "markdown",
   "id": "hydraulic-vault",
   "metadata": {},
   "source": [
    "## sklearn.manifold._mds.MDS"
   ]
  },
  {
   "cell_type": "code",
   "execution_count": null,
   "id": "conscious-beverage",
   "metadata": {},
   "outputs": [],
   "source": [
    "import sklearn\n",
    "def class_constructor(*args, **kwargs):\n",
    "    obj = sklearn.manifold._mds.MDS()\n",
    "    return obj\n"
   ]
  },
  {
   "cell_type": "code",
   "execution_count": null,
   "id": "hairy-backup",
   "metadata": {},
   "outputs": [],
   "source": [
    "# sklearn.manifold._mds.MDS.__getstate__\n",
    "try:\n",
    "    obj = class_constructor() # noqa F821\n",
    "    ret = obj.__getstate__()\n",
    "    type_sklearn_manifold__mds_MDS___getstate__ = getattr(ret, '__module__', 'none') + '.' + ret.__class__.__name__\n",
    "    print('✅ sklearn.manifold._mds.MDS.__getstate__: ', type(ret)) # noqa E501\n",
    "except Exception as e:\n",
    "    type_sklearn_manifold__mds_MDS___getstate__ = '_syft_missing'\n",
    "    print('❌ sklearn.manifold._mds.MDS.__getstate__: Return unavailable') # noqa E501\n",
    "    print(\"  Please fix this return type code until there is no exception\")\n",
    "    print('  Error:', e)\n"
   ]
  },
  {
   "cell_type": "code",
   "execution_count": null,
   "id": "moral-anime",
   "metadata": {},
   "outputs": [],
   "source": [
    "# sklearn.manifold._mds.MDS.__repr__\n",
    "try:\n",
    "    obj = class_constructor() # noqa F821\n",
    "    ret = obj.__repr__()\n",
    "    type_sklearn_manifold__mds_MDS___repr__ = getattr(ret, '__module__', 'none') + '.' + ret.__class__.__name__\n",
    "    print('✅ sklearn.manifold._mds.MDS.__repr__: ', type(ret)) # noqa E501\n",
    "except Exception as e:\n",
    "    type_sklearn_manifold__mds_MDS___repr__ = '_syft_missing'\n",
    "    print('❌ sklearn.manifold._mds.MDS.__repr__: Return unavailable') # noqa E501\n",
    "    print(\"  Please fix this return type code until there is no exception\")\n",
    "    print('  Error:', e)\n"
   ]
  },
  {
   "cell_type": "code",
   "execution_count": null,
   "id": "valuable-attraction",
   "metadata": {},
   "outputs": [],
   "source": [
    "# sklearn.manifold._mds.MDS.__setstate__\n",
    "try:\n",
    "    obj = class_constructor() # noqa F821\n",
    "    ret = obj.__setstate__()\n",
    "    type_sklearn_manifold__mds_MDS___setstate__ = getattr(ret, '__module__', 'none') + '.' + ret.__class__.__name__\n",
    "    print('✅ sklearn.manifold._mds.MDS.__setstate__: ', type(ret)) # noqa E501\n",
    "except Exception as e:\n",
    "    type_sklearn_manifold__mds_MDS___setstate__ = '_syft_missing'\n",
    "    print('❌ sklearn.manifold._mds.MDS.__setstate__: Return unavailable') # noqa E501\n",
    "    print(\"  Please fix this return type code until there is no exception\")\n",
    "    print('  Error:', e)\n"
   ]
  },
  {
   "cell_type": "code",
   "execution_count": null,
   "id": "amber-adoption",
   "metadata": {},
   "outputs": [],
   "source": [
    "# sklearn.manifold._mds.MDS._check_n_features\n",
    "try:\n",
    "    obj = class_constructor() # noqa F821\n",
    "    ret = obj._check_n_features()\n",
    "    type_sklearn_manifold__mds_MDS__check_n_features = getattr(ret, '__module__', 'none') + '.' + ret.__class__.__name__\n",
    "    print('✅ sklearn.manifold._mds.MDS._check_n_features: ', type(ret)) # noqa E501\n",
    "except Exception as e:\n",
    "    type_sklearn_manifold__mds_MDS__check_n_features = '_syft_missing'\n",
    "    print('❌ sklearn.manifold._mds.MDS._check_n_features: Return unavailable') # noqa E501\n",
    "    print(\"  Please fix this return type code until there is no exception\")\n",
    "    print('  Error:', e)\n"
   ]
  },
  {
   "cell_type": "code",
   "execution_count": null,
   "id": "interstate-musician",
   "metadata": {},
   "outputs": [],
   "source": [
    "# sklearn.manifold._mds.MDS._get_param_names\n",
    "try:\n",
    "    obj = class_constructor() # noqa F821\n",
    "    ret = obj._get_param_names()\n",
    "    type_sklearn_manifold__mds_MDS__get_param_names = getattr(ret, '__module__', 'none') + '.' + ret.__class__.__name__\n",
    "    print('✅ sklearn.manifold._mds.MDS._get_param_names: ', type(ret)) # noqa E501\n",
    "except Exception as e:\n",
    "    type_sklearn_manifold__mds_MDS__get_param_names = '_syft_missing'\n",
    "    print('❌ sklearn.manifold._mds.MDS._get_param_names: Return unavailable') # noqa E501\n",
    "    print(\"  Please fix this return type code until there is no exception\")\n",
    "    print('  Error:', e)\n"
   ]
  },
  {
   "cell_type": "code",
   "execution_count": null,
   "id": "spread-appliance",
   "metadata": {},
   "outputs": [],
   "source": [
    "# sklearn.manifold._mds.MDS._get_tags\n",
    "try:\n",
    "    obj = class_constructor() # noqa F821\n",
    "    ret = obj._get_tags()\n",
    "    type_sklearn_manifold__mds_MDS__get_tags = getattr(ret, '__module__', 'none') + '.' + ret.__class__.__name__\n",
    "    print('✅ sklearn.manifold._mds.MDS._get_tags: ', type(ret)) # noqa E501\n",
    "except Exception as e:\n",
    "    type_sklearn_manifold__mds_MDS__get_tags = '_syft_missing'\n",
    "    print('❌ sklearn.manifold._mds.MDS._get_tags: Return unavailable') # noqa E501\n",
    "    print(\"  Please fix this return type code until there is no exception\")\n",
    "    print('  Error:', e)\n"
   ]
  },
  {
   "cell_type": "code",
   "execution_count": null,
   "id": "absolute-jaguar",
   "metadata": {},
   "outputs": [],
   "source": [
    "# sklearn.manifold._mds.MDS._more_tags\n",
    "try:\n",
    "    obj = class_constructor() # noqa F821\n",
    "    ret = obj._more_tags()\n",
    "    type_sklearn_manifold__mds_MDS__more_tags = getattr(ret, '__module__', 'none') + '.' + ret.__class__.__name__\n",
    "    print('✅ sklearn.manifold._mds.MDS._more_tags: ', type(ret)) # noqa E501\n",
    "except Exception as e:\n",
    "    type_sklearn_manifold__mds_MDS__more_tags = '_syft_missing'\n",
    "    print('❌ sklearn.manifold._mds.MDS._more_tags: Return unavailable') # noqa E501\n",
    "    print(\"  Please fix this return type code until there is no exception\")\n",
    "    print('  Error:', e)\n"
   ]
  },
  {
   "cell_type": "code",
   "execution_count": null,
   "id": "numerical-ranch",
   "metadata": {},
   "outputs": [],
   "source": [
    "# sklearn.manifold._mds.MDS._pairwise\n",
    "try:\n",
    "    obj = class_constructor()\n",
    "    ret = obj._pairwise\n",
    "    type_sklearn_manifold__mds_MDS__pairwise = getattr(ret, '__module__', 'none') + '.' + ret.__class__.__name__\n",
    "    print('✅ sklearn.manifold._mds.MDS._pairwise:', type(ret)) # noqa E501\n",
    "except Exception as e:\n",
    "    type_sklearn_manifold__mds_MDS__pairwise = '_syft_missing'\n",
    "    print('❌ sklearn.manifold._mds.MDS._pairwise: Return unavailable') # noqa E501\n",
    "    print(\"  Please fix this return type code until there is no exception\")\n",
    "    print('  Error:', e)\n"
   ]
  },
  {
   "cell_type": "code",
   "execution_count": null,
   "id": "close-cancellation",
   "metadata": {},
   "outputs": [],
   "source": [
    "# sklearn.manifold._mds.MDS._repr_html_\n",
    "try:\n",
    "    obj = class_constructor()\n",
    "    ret = obj._repr_html_\n",
    "    type_sklearn_manifold__mds_MDS__repr_html_ = getattr(ret, '__module__', 'none') + '.' + ret.__class__.__name__\n",
    "    print('✅ sklearn.manifold._mds.MDS._repr_html_:', type(ret)) # noqa E501\n",
    "except Exception as e:\n",
    "    type_sklearn_manifold__mds_MDS__repr_html_ = '_syft_missing'\n",
    "    print('❌ sklearn.manifold._mds.MDS._repr_html_: Return unavailable') # noqa E501\n",
    "    print(\"  Please fix this return type code until there is no exception\")\n",
    "    print('  Error:', e)\n"
   ]
  },
  {
   "cell_type": "code",
   "execution_count": null,
   "id": "moved-earthquake",
   "metadata": {},
   "outputs": [],
   "source": [
    "# sklearn.manifold._mds.MDS._repr_html_inner\n",
    "try:\n",
    "    obj = class_constructor() # noqa F821\n",
    "    ret = obj._repr_html_inner()\n",
    "    type_sklearn_manifold__mds_MDS__repr_html_inner = getattr(ret, '__module__', 'none') + '.' + ret.__class__.__name__\n",
    "    print('✅ sklearn.manifold._mds.MDS._repr_html_inner: ', type(ret)) # noqa E501\n",
    "except Exception as e:\n",
    "    type_sklearn_manifold__mds_MDS__repr_html_inner = '_syft_missing'\n",
    "    print('❌ sklearn.manifold._mds.MDS._repr_html_inner: Return unavailable') # noqa E501\n",
    "    print(\"  Please fix this return type code until there is no exception\")\n",
    "    print('  Error:', e)\n"
   ]
  },
  {
   "cell_type": "code",
   "execution_count": null,
   "id": "geological-portugal",
   "metadata": {},
   "outputs": [],
   "source": [
    "# sklearn.manifold._mds.MDS._repr_mimebundle_\n",
    "try:\n",
    "    obj = class_constructor() # noqa F821\n",
    "    ret = obj._repr_mimebundle_()\n",
    "    type_sklearn_manifold__mds_MDS__repr_mimebundle_ = getattr(ret, '__module__', 'none') + '.' + ret.__class__.__name__\n",
    "    print('✅ sklearn.manifold._mds.MDS._repr_mimebundle_: ', type(ret)) # noqa E501\n",
    "except Exception as e:\n",
    "    type_sklearn_manifold__mds_MDS__repr_mimebundle_ = '_syft_missing'\n",
    "    print('❌ sklearn.manifold._mds.MDS._repr_mimebundle_: Return unavailable') # noqa E501\n",
    "    print(\"  Please fix this return type code until there is no exception\")\n",
    "    print('  Error:', e)\n"
   ]
  },
  {
   "cell_type": "code",
   "execution_count": null,
   "id": "irish-sugar",
   "metadata": {},
   "outputs": [],
   "source": [
    "# sklearn.manifold._mds.MDS._validate_data\n",
    "try:\n",
    "    obj = class_constructor() # noqa F821\n",
    "    ret = obj._validate_data()\n",
    "    type_sklearn_manifold__mds_MDS__validate_data = getattr(ret, '__module__', 'none') + '.' + ret.__class__.__name__\n",
    "    print('✅ sklearn.manifold._mds.MDS._validate_data: ', type(ret)) # noqa E501\n",
    "except Exception as e:\n",
    "    type_sklearn_manifold__mds_MDS__validate_data = '_syft_missing'\n",
    "    print('❌ sklearn.manifold._mds.MDS._validate_data: Return unavailable') # noqa E501\n",
    "    print(\"  Please fix this return type code until there is no exception\")\n",
    "    print('  Error:', e)\n"
   ]
  },
  {
   "cell_type": "code",
   "execution_count": null,
   "id": "cross-invite",
   "metadata": {},
   "outputs": [],
   "source": [
    "# sklearn.manifold._mds.MDS.fit\n",
    "try:\n",
    "    obj = class_constructor() # noqa F821\n",
    "    ret = obj.fit()\n",
    "    type_sklearn_manifold__mds_MDS_fit = getattr(ret, '__module__', 'none') + '.' + ret.__class__.__name__\n",
    "    print('✅ sklearn.manifold._mds.MDS.fit: ', type(ret)) # noqa E501\n",
    "except Exception as e:\n",
    "    type_sklearn_manifold__mds_MDS_fit = '_syft_missing'\n",
    "    print('❌ sklearn.manifold._mds.MDS.fit: Return unavailable') # noqa E501\n",
    "    print(\"  Please fix this return type code until there is no exception\")\n",
    "    print('  Error:', e)\n"
   ]
  },
  {
   "cell_type": "code",
   "execution_count": null,
   "id": "powered-upgrade",
   "metadata": {},
   "outputs": [],
   "source": [
    "# sklearn.manifold._mds.MDS.fit_transform\n",
    "try:\n",
    "    obj = class_constructor() # noqa F821\n",
    "    ret = obj.fit_transform()\n",
    "    type_sklearn_manifold__mds_MDS_fit_transform = getattr(ret, '__module__', 'none') + '.' + ret.__class__.__name__\n",
    "    print('✅ sklearn.manifold._mds.MDS.fit_transform: ', type(ret)) # noqa E501\n",
    "except Exception as e:\n",
    "    type_sklearn_manifold__mds_MDS_fit_transform = '_syft_missing'\n",
    "    print('❌ sklearn.manifold._mds.MDS.fit_transform: Return unavailable') # noqa E501\n",
    "    print(\"  Please fix this return type code until there is no exception\")\n",
    "    print('  Error:', e)\n"
   ]
  },
  {
   "cell_type": "code",
   "execution_count": null,
   "id": "compatible-eligibility",
   "metadata": {},
   "outputs": [],
   "source": [
    "# sklearn.manifold._mds.MDS.get_params\n",
    "try:\n",
    "    obj = class_constructor() # noqa F821\n",
    "    ret = obj.get_params()\n",
    "    type_sklearn_manifold__mds_MDS_get_params = getattr(ret, '__module__', 'none') + '.' + ret.__class__.__name__\n",
    "    print('✅ sklearn.manifold._mds.MDS.get_params: ', type(ret)) # noqa E501\n",
    "except Exception as e:\n",
    "    type_sklearn_manifold__mds_MDS_get_params = '_syft_missing'\n",
    "    print('❌ sklearn.manifold._mds.MDS.get_params: Return unavailable') # noqa E501\n",
    "    print(\"  Please fix this return type code until there is no exception\")\n",
    "    print('  Error:', e)\n"
   ]
  },
  {
   "cell_type": "code",
   "execution_count": null,
   "id": "terminal-pioneer",
   "metadata": {},
   "outputs": [],
   "source": [
    "# sklearn.manifold._mds.MDS.set_params\n",
    "try:\n",
    "    obj = class_constructor() # noqa F821\n",
    "    ret = obj.set_params()\n",
    "    type_sklearn_manifold__mds_MDS_set_params = getattr(ret, '__module__', 'none') + '.' + ret.__class__.__name__\n",
    "    print('✅ sklearn.manifold._mds.MDS.set_params: ', type(ret)) # noqa E501\n",
    "except Exception as e:\n",
    "    type_sklearn_manifold__mds_MDS_set_params = '_syft_missing'\n",
    "    print('❌ sklearn.manifold._mds.MDS.set_params: Return unavailable') # noqa E501\n",
    "    print(\"  Please fix this return type code until there is no exception\")\n",
    "    print('  Error:', e)\n"
   ]
  }
 ],
 "metadata": {},
 "nbformat": 4,
 "nbformat_minor": 5
}
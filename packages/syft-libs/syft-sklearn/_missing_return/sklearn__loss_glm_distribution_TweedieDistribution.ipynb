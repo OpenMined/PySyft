{
 "cells": [
  {
   "cell_type": "markdown",
   "id": "aboriginal-baker",
   "metadata": {},
   "source": [
    "## sklearn._loss.glm_distribution.TweedieDistribution"
   ]
  },
  {
   "cell_type": "code",
   "execution_count": null,
   "id": "aboriginal-asbestos",
   "metadata": {},
   "outputs": [],
   "source": [
    "import sklearn\n",
    "def class_constructor(*args, **kwargs):\n",
    "    obj = sklearn._loss.glm_distribution.TweedieDistribution()\n",
    "    return obj\n"
   ]
  },
  {
   "cell_type": "code",
   "execution_count": null,
   "id": "unlike-addition",
   "metadata": {},
   "outputs": [],
   "source": [
    "# sklearn._loss.glm_distribution.TweedieDistribution.deviance\n",
    "try:\n",
    "    obj = class_constructor() # noqa F821\n",
    "    ret = obj.deviance()\n",
    "    type_sklearn__loss_glm_distribution_TweedieDistribution_deviance = getattr(ret, '__module__', 'none') + '.' + ret.__class__.__name__\n",
    "    print('✅ sklearn._loss.glm_distribution.TweedieDistribution.deviance: ', type(ret)) # noqa E501\n",
    "except Exception as e:\n",
    "    type_sklearn__loss_glm_distribution_TweedieDistribution_deviance = '_syft_missing'\n",
    "    print('❌ sklearn._loss.glm_distribution.TweedieDistribution.deviance: Return unavailable') # noqa E501\n",
    "    print(\"  Please fix this return type code until there is no exception\")\n",
    "    print('  Error:', e)\n"
   ]
  },
  {
   "cell_type": "code",
   "execution_count": null,
   "id": "developmental-colombia",
   "metadata": {},
   "outputs": [],
   "source": [
    "# sklearn._loss.glm_distribution.TweedieDistribution.deviance_derivative\n",
    "try:\n",
    "    obj = class_constructor() # noqa F821\n",
    "    ret = obj.deviance_derivative()\n",
    "    type_sklearn__loss_glm_distribution_TweedieDistribution_deviance_derivative = getattr(ret, '__module__', 'none') + '.' + ret.__class__.__name__\n",
    "    print('✅ sklearn._loss.glm_distribution.TweedieDistribution.deviance_derivative: ', type(ret)) # noqa E501\n",
    "except Exception as e:\n",
    "    type_sklearn__loss_glm_distribution_TweedieDistribution_deviance_derivative = '_syft_missing'\n",
    "    print('❌ sklearn._loss.glm_distribution.TweedieDistribution.deviance_derivative: Return unavailable') # noqa E501\n",
    "    print(\"  Please fix this return type code until there is no exception\")\n",
    "    print('  Error:', e)\n"
   ]
  },
  {
   "cell_type": "code",
   "execution_count": null,
   "id": "brief-belly",
   "metadata": {},
   "outputs": [],
   "source": [
    "# sklearn._loss.glm_distribution.TweedieDistribution.in_y_range\n",
    "try:\n",
    "    obj = class_constructor() # noqa F821\n",
    "    ret = obj.in_y_range()\n",
    "    type_sklearn__loss_glm_distribution_TweedieDistribution_in_y_range = getattr(ret, '__module__', 'none') + '.' + ret.__class__.__name__\n",
    "    print('✅ sklearn._loss.glm_distribution.TweedieDistribution.in_y_range: ', type(ret)) # noqa E501\n",
    "except Exception as e:\n",
    "    type_sklearn__loss_glm_distribution_TweedieDistribution_in_y_range = '_syft_missing'\n",
    "    print('❌ sklearn._loss.glm_distribution.TweedieDistribution.in_y_range: Return unavailable') # noqa E501\n",
    "    print(\"  Please fix this return type code until there is no exception\")\n",
    "    print('  Error:', e)\n"
   ]
  },
  {
   "cell_type": "code",
   "execution_count": null,
   "id": "owned-canadian",
   "metadata": {},
   "outputs": [],
   "source": [
    "# sklearn._loss.glm_distribution.TweedieDistribution.power\n",
    "try:\n",
    "    obj = class_constructor()\n",
    "    ret = obj.power\n",
    "    type_sklearn__loss_glm_distribution_TweedieDistribution_power = getattr(ret, '__module__', 'none') + '.' + ret.__class__.__name__\n",
    "    print('✅ sklearn._loss.glm_distribution.TweedieDistribution.power:', type(ret)) # noqa E501\n",
    "except Exception as e:\n",
    "    type_sklearn__loss_glm_distribution_TweedieDistribution_power = '_syft_missing'\n",
    "    print('❌ sklearn._loss.glm_distribution.TweedieDistribution.power: Return unavailable') # noqa E501\n",
    "    print(\"  Please fix this return type code until there is no exception\")\n",
    "    print('  Error:', e)\n"
   ]
  },
  {
   "cell_type": "code",
   "execution_count": null,
   "id": "sharing-brooks",
   "metadata": {},
   "outputs": [],
   "source": [
    "# sklearn._loss.glm_distribution.TweedieDistribution.unit_deviance\n",
    "try:\n",
    "    obj = class_constructor() # noqa F821\n",
    "    ret = obj.unit_deviance()\n",
    "    type_sklearn__loss_glm_distribution_TweedieDistribution_unit_deviance = getattr(ret, '__module__', 'none') + '.' + ret.__class__.__name__\n",
    "    print('✅ sklearn._loss.glm_distribution.TweedieDistribution.unit_deviance: ', type(ret)) # noqa E501\n",
    "except Exception as e:\n",
    "    type_sklearn__loss_glm_distribution_TweedieDistribution_unit_deviance = '_syft_missing'\n",
    "    print('❌ sklearn._loss.glm_distribution.TweedieDistribution.unit_deviance: Return unavailable') # noqa E501\n",
    "    print(\"  Please fix this return type code until there is no exception\")\n",
    "    print('  Error:', e)\n"
   ]
  },
  {
   "cell_type": "code",
   "execution_count": null,
   "id": "deadly-exhaust",
   "metadata": {},
   "outputs": [],
   "source": [
    "# sklearn._loss.glm_distribution.TweedieDistribution.unit_deviance_derivative\n",
    "try:\n",
    "    obj = class_constructor() # noqa F821\n",
    "    ret = obj.unit_deviance_derivative()\n",
    "    type_sklearn__loss_glm_distribution_TweedieDistribution_unit_deviance_derivative = getattr(ret, '__module__', 'none') + '.' + ret.__class__.__name__\n",
    "    print('✅ sklearn._loss.glm_distribution.TweedieDistribution.unit_deviance_derivative: ', type(ret)) # noqa E501\n",
    "except Exception as e:\n",
    "    type_sklearn__loss_glm_distribution_TweedieDistribution_unit_deviance_derivative = '_syft_missing'\n",
    "    print('❌ sklearn._loss.glm_distribution.TweedieDistribution.unit_deviance_derivative: Return unavailable') # noqa E501\n",
    "    print(\"  Please fix this return type code until there is no exception\")\n",
    "    print('  Error:', e)\n"
   ]
  },
  {
   "cell_type": "code",
   "execution_count": null,
   "id": "urban-indonesian",
   "metadata": {},
   "outputs": [],
   "source": [
    "# sklearn._loss.glm_distribution.TweedieDistribution.unit_variance\n",
    "try:\n",
    "    obj = class_constructor() # noqa F821\n",
    "    ret = obj.unit_variance()\n",
    "    type_sklearn__loss_glm_distribution_TweedieDistribution_unit_variance = getattr(ret, '__module__', 'none') + '.' + ret.__class__.__name__\n",
    "    print('✅ sklearn._loss.glm_distribution.TweedieDistribution.unit_variance: ', type(ret)) # noqa E501\n",
    "except Exception as e:\n",
    "    type_sklearn__loss_glm_distribution_TweedieDistribution_unit_variance = '_syft_missing'\n",
    "    print('❌ sklearn._loss.glm_distribution.TweedieDistribution.unit_variance: Return unavailable') # noqa E501\n",
    "    print(\"  Please fix this return type code until there is no exception\")\n",
    "    print('  Error:', e)\n"
   ]
  }
 ],
 "metadata": {},
 "nbformat": 4,
 "nbformat_minor": 5
}
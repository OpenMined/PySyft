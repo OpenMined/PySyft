{
 "cells": [
  {
   "cell_type": "markdown",
   "id": "abd7d117",
   "metadata": {},
   "source": [
    "## numpy.distutils._shell_utils.WindowsParser"
   ]
  },
  {
   "cell_type": "code",
   "execution_count": null,
   "id": "fa2c3ad1",
   "metadata": {},
   "outputs": [],
   "source": [
    "import numpy\n",
    "def class_constructor(*args, **kwargs):\n",
    "    obj = numpy.distutils._shell_utils.WindowsParser()\n",
    "    return obj\n"
   ]
  },
  {
   "cell_type": "code",
   "execution_count": null,
   "id": "8a319b28",
   "metadata": {},
   "outputs": [],
   "source": [
    "# numpy.distutils._shell_utils.WindowsParser.join\n",
    "try:\n",
    "    obj = class_constructor()\n",
    "    ret = obj.join()\n",
    "    type_numpy_distutils__shell_utils_WindowsParser_join = getattr(ret, '__module__', 'none') + '.' + ret.__class__.__name__\n",
    "    print('✅ numpy.distutils._shell_utils.WindowsParser.join: ', type(ret))\n",
    "except Exception as e:\n",
    "    type_numpy_distutils__shell_utils_WindowsParser_join = '_syft_missing'\n",
    "    print('❌ numpy.distutils._shell_utils.WindowsParser.join: Return unavailable')\n",
    "    print(\"  Please fix this return type code until there is no exception\")\n",
    "    print('  Error:', e)\n"
   ]
  },
  {
   "cell_type": "code",
   "execution_count": null,
   "id": "1568ef65",
   "metadata": {},
   "outputs": [],
   "source": [
    "# numpy.distutils._shell_utils.WindowsParser.split\n",
    "try:\n",
    "    obj = class_constructor()\n",
    "    ret = obj.split()\n",
    "    type_numpy_distutils__shell_utils_WindowsParser_split = getattr(ret, '__module__', 'none') + '.' + ret.__class__.__name__\n",
    "    print('✅ numpy.distutils._shell_utils.WindowsParser.split: ', type(ret))\n",
    "except Exception as e:\n",
    "    type_numpy_distutils__shell_utils_WindowsParser_split = '_syft_missing'\n",
    "    print('❌ numpy.distutils._shell_utils.WindowsParser.split: Return unavailable')\n",
    "    print(\"  Please fix this return type code until there is no exception\")\n",
    "    print('  Error:', e)\n"
   ]
  }
 ],
 "metadata": {},
 "nbformat": 4,
 "nbformat_minor": 5
}
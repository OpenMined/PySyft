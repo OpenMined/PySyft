{
 "cells": [
  {
   "cell_type": "markdown",
   "id": "a6d67bf9",
   "metadata": {},
   "source": [
    "## numpy.vectorize"
   ]
  },
  {
   "cell_type": "code",
   "execution_count": null,
   "id": "8ca36d79",
   "metadata": {},
   "outputs": [],
   "source": [
    "import numpy\n",
    "def class_constructor(*args, **kwargs):\n",
    "    obj = numpy.vectorize()\n",
    "    return obj\n"
   ]
  },
  {
   "cell_type": "code",
   "execution_count": null,
   "id": "bccb97f0",
   "metadata": {},
   "outputs": [],
   "source": [
    "# numpy.vectorize.__call__\n",
    "try:\n",
    "    obj = class_constructor()\n",
    "    ret = obj.__call__()\n",
    "    type_numpy_vectorize___call__ = getattr(ret, '__module__', 'none') + '.' + ret.__class__.__name__\n",
    "    print('✅ numpy.vectorize.__call__: ', type(ret))\n",
    "except Exception as e:\n",
    "    type_numpy_vectorize___call__ = '_syft_missing'\n",
    "    print('❌ numpy.vectorize.__call__: Return unavailable')\n",
    "    print(\"  Please fix this return type code until there is no exception\")\n",
    "    print('  Error:', e)\n"
   ]
  },
  {
   "cell_type": "code",
   "execution_count": null,
   "id": "30d28be9",
   "metadata": {},
   "outputs": [],
   "source": [
    "# numpy.vectorize._get_ufunc_and_otypes\n",
    "try:\n",
    "    obj = class_constructor()\n",
    "    ret = obj._get_ufunc_and_otypes()\n",
    "    type_numpy_vectorize__get_ufunc_and_otypes = getattr(ret, '__module__', 'none') + '.' + ret.__class__.__name__\n",
    "    print('✅ numpy.vectorize._get_ufunc_and_otypes: ', type(ret))\n",
    "except Exception as e:\n",
    "    type_numpy_vectorize__get_ufunc_and_otypes = '_syft_missing'\n",
    "    print('❌ numpy.vectorize._get_ufunc_and_otypes: Return unavailable')\n",
    "    print(\"  Please fix this return type code until there is no exception\")\n",
    "    print('  Error:', e)\n"
   ]
  },
  {
   "cell_type": "code",
   "execution_count": null,
   "id": "497e9c33",
   "metadata": {},
   "outputs": [],
   "source": [
    "# numpy.vectorize._vectorize_call\n",
    "try:\n",
    "    obj = class_constructor()\n",
    "    ret = obj._vectorize_call()\n",
    "    type_numpy_vectorize__vectorize_call = getattr(ret, '__module__', 'none') + '.' + ret.__class__.__name__\n",
    "    print('✅ numpy.vectorize._vectorize_call: ', type(ret))\n",
    "except Exception as e:\n",
    "    type_numpy_vectorize__vectorize_call = '_syft_missing'\n",
    "    print('❌ numpy.vectorize._vectorize_call: Return unavailable')\n",
    "    print(\"  Please fix this return type code until there is no exception\")\n",
    "    print('  Error:', e)\n"
   ]
  },
  {
   "cell_type": "code",
   "execution_count": null,
   "id": "dffef13c",
   "metadata": {},
   "outputs": [],
   "source": [
    "# numpy.vectorize._vectorize_call_with_signature\n",
    "try:\n",
    "    obj = class_constructor()\n",
    "    ret = obj._vectorize_call_with_signature()\n",
    "    type_numpy_vectorize__vectorize_call_with_signature = getattr(ret, '__module__', 'none') + '.' + ret.__class__.__name__\n",
    "    print('✅ numpy.vectorize._vectorize_call_with_signature: ', type(ret))\n",
    "except Exception as e:\n",
    "    type_numpy_vectorize__vectorize_call_with_signature = '_syft_missing'\n",
    "    print('❌ numpy.vectorize._vectorize_call_with_signature: Return unavailable')\n",
    "    print(\"  Please fix this return type code until there is no exception\")\n",
    "    print('  Error:', e)\n"
   ]
  }
 ],
 "metadata": {},
 "nbformat": 4,
 "nbformat_minor": 5
}
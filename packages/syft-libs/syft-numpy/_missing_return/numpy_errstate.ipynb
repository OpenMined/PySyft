{
 "cells": [
  {
   "cell_type": "markdown",
   "id": "ead2fbc4",
   "metadata": {},
   "source": [
    "## numpy.errstate"
   ]
  },
  {
   "cell_type": "code",
   "execution_count": null,
   "id": "7291ba98",
   "metadata": {},
   "outputs": [],
   "source": [
    "import numpy\n",
    "def class_constructor(*args, **kwargs):\n",
    "    obj = numpy.errstate()\n",
    "    return obj\n"
   ]
  },
  {
   "cell_type": "code",
   "execution_count": null,
   "id": "11544dad",
   "metadata": {},
   "outputs": [],
   "source": [
    "# numpy.errstate.__call__\n",
    "try:\n",
    "    obj = class_constructor()\n",
    "    ret = obj.__call__()\n",
    "    type_numpy_errstate___call__ = getattr(ret, '__module__', 'none') + '.' + ret.__class__.__name__\n",
    "    print('✅ numpy.errstate.__call__: ', type(ret))\n",
    "except Exception as e:\n",
    "    type_numpy_errstate___call__ = '_syft_missing'\n",
    "    print('❌ numpy.errstate.__call__: Return unavailable')\n",
    "    print(\"  Please fix this return type code until there is no exception\")\n",
    "    print('  Error:', e)\n"
   ]
  },
  {
   "cell_type": "code",
   "execution_count": null,
   "id": "ab65dace",
   "metadata": {},
   "outputs": [],
   "source": [
    "# numpy.errstate.__enter__\n",
    "try:\n",
    "    obj = class_constructor()\n",
    "    ret = obj.__enter__()\n",
    "    type_numpy_errstate___enter__ = getattr(ret, '__module__', 'none') + '.' + ret.__class__.__name__\n",
    "    print('✅ numpy.errstate.__enter__: ', type(ret))\n",
    "except Exception as e:\n",
    "    type_numpy_errstate___enter__ = '_syft_missing'\n",
    "    print('❌ numpy.errstate.__enter__: Return unavailable')\n",
    "    print(\"  Please fix this return type code until there is no exception\")\n",
    "    print('  Error:', e)\n"
   ]
  },
  {
   "cell_type": "code",
   "execution_count": null,
   "id": "248505d1",
   "metadata": {},
   "outputs": [],
   "source": [
    "# numpy.errstate.__exit__\n",
    "try:\n",
    "    obj = class_constructor()\n",
    "    ret = obj.__exit__()\n",
    "    type_numpy_errstate___exit__ = getattr(ret, '__module__', 'none') + '.' + ret.__class__.__name__\n",
    "    print('✅ numpy.errstate.__exit__: ', type(ret))\n",
    "except Exception as e:\n",
    "    type_numpy_errstate___exit__ = '_syft_missing'\n",
    "    print('❌ numpy.errstate.__exit__: Return unavailable')\n",
    "    print(\"  Please fix this return type code until there is no exception\")\n",
    "    print('  Error:', e)\n"
   ]
  },
  {
   "cell_type": "code",
   "execution_count": null,
   "id": "7fffb86a",
   "metadata": {},
   "outputs": [],
   "source": [
    "# numpy.errstate._recreate_cm\n",
    "try:\n",
    "    obj = class_constructor()\n",
    "    ret = obj._recreate_cm()\n",
    "    type_numpy_errstate__recreate_cm = getattr(ret, '__module__', 'none') + '.' + ret.__class__.__name__\n",
    "    print('✅ numpy.errstate._recreate_cm: ', type(ret))\n",
    "except Exception as e:\n",
    "    type_numpy_errstate__recreate_cm = '_syft_missing'\n",
    "    print('❌ numpy.errstate._recreate_cm: Return unavailable')\n",
    "    print(\"  Please fix this return type code until there is no exception\")\n",
    "    print('  Error:', e)\n"
   ]
  }
 ],
 "metadata": {},
 "nbformat": 4,
 "nbformat_minor": 5
}
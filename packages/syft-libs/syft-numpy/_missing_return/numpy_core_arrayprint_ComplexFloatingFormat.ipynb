{
 "cells": [
  {
   "cell_type": "markdown",
   "id": "bb2a32fe",
   "metadata": {},
   "source": [
    "## numpy.core.arrayprint.ComplexFloatingFormat"
   ]
  },
  {
   "cell_type": "code",
   "execution_count": null,
   "id": "93b29a1b",
   "metadata": {},
   "outputs": [],
   "source": [
    "import numpy\n",
    "def class_constructor(*args, **kwargs):\n",
    "    obj = numpy.core.arrayprint.ComplexFloatingFormat()\n",
    "    return obj\n"
   ]
  },
  {
   "cell_type": "code",
   "execution_count": null,
   "id": "384985a5",
   "metadata": {},
   "outputs": [],
   "source": [
    "# numpy.core.arrayprint.ComplexFloatingFormat.__call__\n",
    "try:\n",
    "    obj = class_constructor()\n",
    "    ret = obj.__call__()\n",
    "    type_numpy_core_arrayprint_ComplexFloatingFormat___call__ = getattr(ret, '__module__', 'none') + '.' + ret.__class__.__name__\n",
    "    print('✅ numpy.core.arrayprint.ComplexFloatingFormat.__call__: ', type(ret))\n",
    "except Exception as e:\n",
    "    type_numpy_core_arrayprint_ComplexFloatingFormat___call__ = '_syft_missing'\n",
    "    print('❌ numpy.core.arrayprint.ComplexFloatingFormat.__call__: Return unavailable')\n",
    "    print(\"  Please fix this return type code until there is no exception\")\n",
    "    print('  Error:', e)\n"
   ]
  }
 ],
 "metadata": {},
 "nbformat": 4,
 "nbformat_minor": 5
}
{
 "cells": [
  {
   "cell_type": "markdown",
   "id": "bed3e698",
   "metadata": {},
   "source": [
    "## numpy.MachAr"
   ]
  },
  {
   "cell_type": "code",
   "execution_count": null,
   "id": "a60e8337",
   "metadata": {},
   "outputs": [],
   "source": [
    "import numpy\n",
    "def class_constructor(*args, **kwargs):\n",
    "    obj = numpy.MachAr()\n",
    "    return obj\n"
   ]
  },
  {
   "cell_type": "code",
   "execution_count": null,
   "id": "1bbc9a5f",
   "metadata": {},
   "outputs": [],
   "source": [
    "# numpy.MachAr.__str__\n",
    "try:\n",
    "    obj = class_constructor()\n",
    "    ret = obj.__str__()\n",
    "    type_numpy_MachAr___str__ = getattr(ret, '__module__', 'none') + '.' + ret.__class__.__name__\n",
    "    print('✅ numpy.MachAr.__str__: ', type(ret))\n",
    "except Exception as e:\n",
    "    type_numpy_MachAr___str__ = '_syft_missing'\n",
    "    print('❌ numpy.MachAr.__str__: Return unavailable')\n",
    "    print(\"  Please fix this return type code until there is no exception\")\n",
    "    print('  Error:', e)\n"
   ]
  },
  {
   "cell_type": "code",
   "execution_count": null,
   "id": "47fe759e",
   "metadata": {},
   "outputs": [],
   "source": [
    "# numpy.MachAr._do_init\n",
    "try:\n",
    "    obj = class_constructor()\n",
    "    ret = obj._do_init()\n",
    "    type_numpy_MachAr__do_init = getattr(ret, '__module__', 'none') + '.' + ret.__class__.__name__\n",
    "    print('✅ numpy.MachAr._do_init: ', type(ret))\n",
    "except Exception as e:\n",
    "    type_numpy_MachAr__do_init = '_syft_missing'\n",
    "    print('❌ numpy.MachAr._do_init: Return unavailable')\n",
    "    print(\"  Please fix this return type code until there is no exception\")\n",
    "    print('  Error:', e)\n"
   ]
  }
 ],
 "metadata": {},
 "nbformat": 4,
 "nbformat_minor": 5
}
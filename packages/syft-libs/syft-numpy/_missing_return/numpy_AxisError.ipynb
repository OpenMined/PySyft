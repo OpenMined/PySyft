{
 "cells": [
  {
   "cell_type": "markdown",
   "id": "374d34b3",
   "metadata": {},
   "source": [
    "## numpy.AxisError"
   ]
  },
  {
   "cell_type": "code",
   "execution_count": null,
   "id": "2d182a7f",
   "metadata": {},
   "outputs": [],
   "source": [
    "import numpy\n",
    "def class_constructor(*args, **kwargs):\n",
    "    obj = numpy.AxisError()\n",
    "    return obj\n"
   ]
  },
  {
   "cell_type": "code",
   "execution_count": null,
   "id": "c85e5823",
   "metadata": {},
   "outputs": [],
   "source": [
    "# numpy.AxisError.__str__\n",
    "try:\n",
    "    obj = class_constructor()\n",
    "    ret = obj.__str__()\n",
    "    type_numpy_AxisError___str__ = getattr(ret, '__module__', 'none') + '.' + ret.__class__.__name__\n",
    "    print('✅ numpy.AxisError.__str__: ', type(ret))\n",
    "except Exception as e:\n",
    "    type_numpy_AxisError___str__ = '_syft_missing'\n",
    "    print('❌ numpy.AxisError.__str__: Return unavailable')\n",
    "    print(\"  Please fix this return type code until there is no exception\")\n",
    "    print('  Error:', e)\n"
   ]
  }
 ],
 "metadata": {},
 "nbformat": 4,
 "nbformat_minor": 5
}
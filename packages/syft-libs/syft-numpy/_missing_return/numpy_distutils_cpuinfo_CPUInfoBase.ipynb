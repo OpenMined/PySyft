{
 "cells": [
  {
   "cell_type": "markdown",
   "id": "8ba88c04",
   "metadata": {},
   "source": [
    "## numpy.distutils.cpuinfo.CPUInfoBase"
   ]
  },
  {
   "cell_type": "code",
   "execution_count": null,
   "id": "b59a12b4",
   "metadata": {},
   "outputs": [],
   "source": [
    "import numpy\n",
    "def class_constructor(*args, **kwargs):\n",
    "    obj = numpy.distutils.cpuinfo.CPUInfoBase()\n",
    "    return obj\n"
   ]
  },
  {
   "cell_type": "code",
   "execution_count": null,
   "id": "1a9997d0",
   "metadata": {},
   "outputs": [],
   "source": [
    "# numpy.distutils.cpuinfo.CPUInfoBase.__get_nbits\n",
    "try:\n",
    "    obj = class_constructor()\n",
    "    ret = obj.__get_nbits()\n",
    "    type_numpy_distutils_cpuinfo_CPUInfoBase___get_nbits = getattr(ret, '__module__', 'none') + '.' + ret.__class__.__name__\n",
    "    print('✅ numpy.distutils.cpuinfo.CPUInfoBase.__get_nbits: ', type(ret))\n",
    "except Exception as e:\n",
    "    type_numpy_distutils_cpuinfo_CPUInfoBase___get_nbits = '_syft_missing'\n",
    "    print('❌ numpy.distutils.cpuinfo.CPUInfoBase.__get_nbits: Return unavailable')\n",
    "    print(\"  Please fix this return type code until there is no exception\")\n",
    "    print('  Error:', e)\n"
   ]
  },
  {
   "cell_type": "code",
   "execution_count": null,
   "id": "40893eeb",
   "metadata": {},
   "outputs": [],
   "source": [
    "# numpy.distutils.cpuinfo.CPUInfoBase.__getattr__\n",
    "try:\n",
    "    obj = class_constructor()\n",
    "    ret = obj.__getattr__()\n",
    "    type_numpy_distutils_cpuinfo_CPUInfoBase___getattr__ = getattr(ret, '__module__', 'none') + '.' + ret.__class__.__name__\n",
    "    print('✅ numpy.distutils.cpuinfo.CPUInfoBase.__getattr__: ', type(ret))\n",
    "except Exception as e:\n",
    "    type_numpy_distutils_cpuinfo_CPUInfoBase___getattr__ = '_syft_missing'\n",
    "    print('❌ numpy.distutils.cpuinfo.CPUInfoBase.__getattr__: Return unavailable')\n",
    "    print(\"  Please fix this return type code until there is no exception\")\n",
    "    print('  Error:', e)\n"
   ]
  },
  {
   "cell_type": "code",
   "execution_count": null,
   "id": "7428666f",
   "metadata": {},
   "outputs": [],
   "source": [
    "# numpy.distutils.cpuinfo.CPUInfoBase._getNCPUs\n",
    "try:\n",
    "    obj = class_constructor()\n",
    "    ret = obj._getNCPUs()\n",
    "    type_numpy_distutils_cpuinfo_CPUInfoBase__getNCPUs = getattr(ret, '__module__', 'none') + '.' + ret.__class__.__name__\n",
    "    print('✅ numpy.distutils.cpuinfo.CPUInfoBase._getNCPUs: ', type(ret))\n",
    "except Exception as e:\n",
    "    type_numpy_distutils_cpuinfo_CPUInfoBase__getNCPUs = '_syft_missing'\n",
    "    print('❌ numpy.distutils.cpuinfo.CPUInfoBase._getNCPUs: Return unavailable')\n",
    "    print(\"  Please fix this return type code until there is no exception\")\n",
    "    print('  Error:', e)\n"
   ]
  },
  {
   "cell_type": "code",
   "execution_count": null,
   "id": "4c6afc40",
   "metadata": {},
   "outputs": [],
   "source": [
    "# numpy.distutils.cpuinfo.CPUInfoBase._is_32bit\n",
    "try:\n",
    "    obj = class_constructor()\n",
    "    ret = obj._is_32bit()\n",
    "    type_numpy_distutils_cpuinfo_CPUInfoBase__is_32bit = getattr(ret, '__module__', 'none') + '.' + ret.__class__.__name__\n",
    "    print('✅ numpy.distutils.cpuinfo.CPUInfoBase._is_32bit: ', type(ret))\n",
    "except Exception as e:\n",
    "    type_numpy_distutils_cpuinfo_CPUInfoBase__is_32bit = '_syft_missing'\n",
    "    print('❌ numpy.distutils.cpuinfo.CPUInfoBase._is_32bit: Return unavailable')\n",
    "    print(\"  Please fix this return type code until there is no exception\")\n",
    "    print('  Error:', e)\n"
   ]
  },
  {
   "cell_type": "code",
   "execution_count": null,
   "id": "16846f4e",
   "metadata": {},
   "outputs": [],
   "source": [
    "# numpy.distutils.cpuinfo.CPUInfoBase._is_64bit\n",
    "try:\n",
    "    obj = class_constructor()\n",
    "    ret = obj._is_64bit()\n",
    "    type_numpy_distutils_cpuinfo_CPUInfoBase__is_64bit = getattr(ret, '__module__', 'none') + '.' + ret.__class__.__name__\n",
    "    print('✅ numpy.distutils.cpuinfo.CPUInfoBase._is_64bit: ', type(ret))\n",
    "except Exception as e:\n",
    "    type_numpy_distutils_cpuinfo_CPUInfoBase__is_64bit = '_syft_missing'\n",
    "    print('❌ numpy.distutils.cpuinfo.CPUInfoBase._is_64bit: Return unavailable')\n",
    "    print(\"  Please fix this return type code until there is no exception\")\n",
    "    print('  Error:', e)\n"
   ]
  },
  {
   "cell_type": "code",
   "execution_count": null,
   "id": "e426ba32",
   "metadata": {},
   "outputs": [],
   "source": [
    "# numpy.distutils.cpuinfo.CPUInfoBase._try_call\n",
    "try:\n",
    "    obj = class_constructor()\n",
    "    ret = obj._try_call()\n",
    "    type_numpy_distutils_cpuinfo_CPUInfoBase__try_call = getattr(ret, '__module__', 'none') + '.' + ret.__class__.__name__\n",
    "    print('✅ numpy.distutils.cpuinfo.CPUInfoBase._try_call: ', type(ret))\n",
    "except Exception as e:\n",
    "    type_numpy_distutils_cpuinfo_CPUInfoBase__try_call = '_syft_missing'\n",
    "    print('❌ numpy.distutils.cpuinfo.CPUInfoBase._try_call: Return unavailable')\n",
    "    print(\"  Please fix this return type code until there is no exception\")\n",
    "    print('  Error:', e)\n"
   ]
  }
 ],
 "metadata": {},
 "nbformat": 4,
 "nbformat_minor": 5
}
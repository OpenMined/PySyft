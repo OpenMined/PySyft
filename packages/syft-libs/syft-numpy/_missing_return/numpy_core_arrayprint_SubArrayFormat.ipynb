{
 "cells": [
  {
   "cell_type": "markdown",
   "id": "a45c58f6",
   "metadata": {},
   "source": [
    "## numpy.core.arrayprint.SubArrayFormat"
   ]
  },
  {
   "cell_type": "code",
   "execution_count": null,
   "id": "5edefdfe",
   "metadata": {},
   "outputs": [],
   "source": [
    "import numpy\n",
    "def class_constructor(*args, **kwargs):\n",
    "    obj = numpy.core.arrayprint.SubArrayFormat()\n",
    "    return obj\n"
   ]
  },
  {
   "cell_type": "code",
   "execution_count": null,
   "id": "3b210fda",
   "metadata": {},
   "outputs": [],
   "source": [
    "# numpy.core.arrayprint.SubArrayFormat.__call__\n",
    "try:\n",
    "    obj = class_constructor()\n",
    "    ret = obj.__call__()\n",
    "    type_numpy_core_arrayprint_SubArrayFormat___call__ = getattr(ret, '__module__', 'none') + '.' + ret.__class__.__name__\n",
    "    print('✅ numpy.core.arrayprint.SubArrayFormat.__call__: ', type(ret))\n",
    "except Exception as e:\n",
    "    type_numpy_core_arrayprint_SubArrayFormat___call__ = '_syft_missing'\n",
    "    print('❌ numpy.core.arrayprint.SubArrayFormat.__call__: Return unavailable')\n",
    "    print(\"  Please fix this return type code until there is no exception\")\n",
    "    print('  Error:', e)\n"
   ]
  }
 ],
 "metadata": {},
 "nbformat": 4,
 "nbformat_minor": 5
}
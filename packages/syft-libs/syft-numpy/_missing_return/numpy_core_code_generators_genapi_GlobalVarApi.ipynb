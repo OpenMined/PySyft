{
 "cells": [
  {
   "cell_type": "markdown",
   "id": "ee077be4",
   "metadata": {},
   "source": [
    "## numpy.core.code_generators.genapi.GlobalVarApi"
   ]
  },
  {
   "cell_type": "code",
   "execution_count": null,
   "id": "ae5b9b03",
   "metadata": {},
   "outputs": [],
   "source": [
    "import numpy\n",
    "def class_constructor(*args, **kwargs):\n",
    "    obj = numpy.core.code_generators.genapi.GlobalVarApi()\n",
    "    return obj\n"
   ]
  },
  {
   "cell_type": "code",
   "execution_count": null,
   "id": "a07f2217",
   "metadata": {},
   "outputs": [],
   "source": [
    "# numpy.core.code_generators.genapi.GlobalVarApi.array_api_define\n",
    "try:\n",
    "    obj = class_constructor()\n",
    "    ret = obj.array_api_define()\n",
    "    type_numpy_core_code_generators_genapi_GlobalVarApi_array_api_define = getattr(ret, '__module__', 'none') + '.' + ret.__class__.__name__\n",
    "    print('✅ numpy.core.code_generators.genapi.GlobalVarApi.array_api_define: ', type(ret))\n",
    "except Exception as e:\n",
    "    type_numpy_core_code_generators_genapi_GlobalVarApi_array_api_define = '_syft_missing'\n",
    "    print('❌ numpy.core.code_generators.genapi.GlobalVarApi.array_api_define: Return unavailable')\n",
    "    print(\"  Please fix this return type code until there is no exception\")\n",
    "    print('  Error:', e)\n"
   ]
  },
  {
   "cell_type": "code",
   "execution_count": null,
   "id": "3eb0b2d7",
   "metadata": {},
   "outputs": [],
   "source": [
    "# numpy.core.code_generators.genapi.GlobalVarApi.define_from_array_api_string\n",
    "try:\n",
    "    obj = class_constructor()\n",
    "    ret = obj.define_from_array_api_string()\n",
    "    type_numpy_core_code_generators_genapi_GlobalVarApi_define_from_array_api_string = getattr(ret, '__module__', 'none') + '.' + ret.__class__.__name__\n",
    "    print('✅ numpy.core.code_generators.genapi.GlobalVarApi.define_from_array_api_string: ', type(ret))\n",
    "except Exception as e:\n",
    "    type_numpy_core_code_generators_genapi_GlobalVarApi_define_from_array_api_string = '_syft_missing'\n",
    "    print('❌ numpy.core.code_generators.genapi.GlobalVarApi.define_from_array_api_string: Return unavailable')\n",
    "    print(\"  Please fix this return type code until there is no exception\")\n",
    "    print('  Error:', e)\n"
   ]
  },
  {
   "cell_type": "code",
   "execution_count": null,
   "id": "f3f871df",
   "metadata": {},
   "outputs": [],
   "source": [
    "# numpy.core.code_generators.genapi.GlobalVarApi.internal_define\n",
    "try:\n",
    "    obj = class_constructor()\n",
    "    ret = obj.internal_define()\n",
    "    type_numpy_core_code_generators_genapi_GlobalVarApi_internal_define = getattr(ret, '__module__', 'none') + '.' + ret.__class__.__name__\n",
    "    print('✅ numpy.core.code_generators.genapi.GlobalVarApi.internal_define: ', type(ret))\n",
    "except Exception as e:\n",
    "    type_numpy_core_code_generators_genapi_GlobalVarApi_internal_define = '_syft_missing'\n",
    "    print('❌ numpy.core.code_generators.genapi.GlobalVarApi.internal_define: Return unavailable')\n",
    "    print(\"  Please fix this return type code until there is no exception\")\n",
    "    print('  Error:', e)\n"
   ]
  }
 ],
 "metadata": {},
 "nbformat": 4,
 "nbformat_minor": 5
}
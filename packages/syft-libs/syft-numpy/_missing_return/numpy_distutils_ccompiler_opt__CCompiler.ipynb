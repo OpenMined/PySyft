{
 "cells": [
  {
   "cell_type": "markdown",
   "id": "ff11b0ae",
   "metadata": {},
   "source": [
    "## numpy.distutils.ccompiler_opt._CCompiler"
   ]
  },
  {
   "cell_type": "code",
   "execution_count": null,
   "id": "4453036d",
   "metadata": {},
   "outputs": [],
   "source": [
    "import numpy\n",
    "def class_constructor(*args, **kwargs):\n",
    "    obj = numpy.distutils.ccompiler_opt._CCompiler()\n",
    "    return obj\n"
   ]
  },
  {
   "cell_type": "code",
   "execution_count": null,
   "id": "16256181",
   "metadata": {},
   "outputs": [],
   "source": [
    "# numpy.distutils.ccompiler_opt._CCompiler._cc_normalize_unix\n",
    "try:\n",
    "    obj = class_constructor()\n",
    "    ret = obj._cc_normalize_unix()\n",
    "    type_numpy_distutils_ccompiler_opt__CCompiler__cc_normalize_unix = getattr(ret, '__module__', 'none') + '.' + ret.__class__.__name__\n",
    "    print('✅ numpy.distutils.ccompiler_opt._CCompiler._cc_normalize_unix: ', type(ret))\n",
    "except Exception as e:\n",
    "    type_numpy_distutils_ccompiler_opt__CCompiler__cc_normalize_unix = '_syft_missing'\n",
    "    print('❌ numpy.distutils.ccompiler_opt._CCompiler._cc_normalize_unix: Return unavailable')\n",
    "    print(\"  Please fix this return type code until there is no exception\")\n",
    "    print('  Error:', e)\n"
   ]
  },
  {
   "cell_type": "code",
   "execution_count": null,
   "id": "93172748",
   "metadata": {},
   "outputs": [],
   "source": [
    "# numpy.distutils.ccompiler_opt._CCompiler._cc_normalize_win\n",
    "try:\n",
    "    obj = class_constructor()\n",
    "    ret = obj._cc_normalize_win()\n",
    "    type_numpy_distutils_ccompiler_opt__CCompiler__cc_normalize_win = getattr(ret, '__module__', 'none') + '.' + ret.__class__.__name__\n",
    "    print('✅ numpy.distutils.ccompiler_opt._CCompiler._cc_normalize_win: ', type(ret))\n",
    "except Exception as e:\n",
    "    type_numpy_distutils_ccompiler_opt__CCompiler__cc_normalize_win = '_syft_missing'\n",
    "    print('❌ numpy.distutils.ccompiler_opt._CCompiler._cc_normalize_win: Return unavailable')\n",
    "    print(\"  Please fix this return type code until there is no exception\")\n",
    "    print('  Error:', e)\n"
   ]
  },
  {
   "cell_type": "code",
   "execution_count": null,
   "id": "70b57072",
   "metadata": {},
   "outputs": [],
   "source": [
    "# numpy.distutils.ccompiler_opt._CCompiler.cc_normalize_flags\n",
    "try:\n",
    "    obj = class_constructor()\n",
    "    ret = obj.cc_normalize_flags()\n",
    "    type_numpy_distutils_ccompiler_opt__CCompiler_cc_normalize_flags = getattr(ret, '__module__', 'none') + '.' + ret.__class__.__name__\n",
    "    print('✅ numpy.distutils.ccompiler_opt._CCompiler.cc_normalize_flags: ', type(ret))\n",
    "except Exception as e:\n",
    "    type_numpy_distutils_ccompiler_opt__CCompiler_cc_normalize_flags = '_syft_missing'\n",
    "    print('❌ numpy.distutils.ccompiler_opt._CCompiler.cc_normalize_flags: Return unavailable')\n",
    "    print(\"  Please fix this return type code until there is no exception\")\n",
    "    print('  Error:', e)\n"
   ]
  },
  {
   "cell_type": "code",
   "execution_count": null,
   "id": "e5b45145",
   "metadata": {},
   "outputs": [],
   "source": [
    "# numpy.distutils.ccompiler_opt._CCompiler.cache_wrap_me\n",
    "try:\n",
    "    obj = class_constructor()\n",
    "    ret = obj.cache_wrap_me()\n",
    "    type_numpy_distutils_ccompiler_opt__CCompiler_cache_wrap_me = getattr(ret, '__module__', 'none') + '.' + ret.__class__.__name__\n",
    "    print('✅ numpy.distutils.ccompiler_opt._CCompiler.cache_wrap_me: ', type(ret))\n",
    "except Exception as e:\n",
    "    type_numpy_distutils_ccompiler_opt__CCompiler_cache_wrap_me = '_syft_missing'\n",
    "    print('❌ numpy.distutils.ccompiler_opt._CCompiler.cache_wrap_me: Return unavailable')\n",
    "    print(\"  Please fix this return type code until there is no exception\")\n",
    "    print('  Error:', e)\n"
   ]
  }
 ],
 "metadata": {},
 "nbformat": 4,
 "nbformat_minor": 5
}
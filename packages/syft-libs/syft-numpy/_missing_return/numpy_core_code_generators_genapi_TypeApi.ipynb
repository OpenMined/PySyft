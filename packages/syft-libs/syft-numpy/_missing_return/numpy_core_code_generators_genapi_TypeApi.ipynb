{
 "cells": [
  {
   "cell_type": "markdown",
   "id": "fbeb9602",
   "metadata": {},
   "source": [
    "## numpy.core.code_generators.genapi.TypeApi"
   ]
  },
  {
   "cell_type": "code",
   "execution_count": null,
   "id": "503ddd7b",
   "metadata": {},
   "outputs": [],
   "source": [
    "import numpy\n",
    "def class_constructor(*args, **kwargs):\n",
    "    obj = numpy.core.code_generators.genapi.TypeApi()\n",
    "    return obj\n"
   ]
  },
  {
   "cell_type": "code",
   "execution_count": null,
   "id": "978f92e4",
   "metadata": {},
   "outputs": [],
   "source": [
    "# numpy.core.code_generators.genapi.TypeApi.array_api_define\n",
    "try:\n",
    "    obj = class_constructor()\n",
    "    ret = obj.array_api_define()\n",
    "    type_numpy_core_code_generators_genapi_TypeApi_array_api_define = getattr(ret, '__module__', 'none') + '.' + ret.__class__.__name__\n",
    "    print('✅ numpy.core.code_generators.genapi.TypeApi.array_api_define: ', type(ret))\n",
    "except Exception as e:\n",
    "    type_numpy_core_code_generators_genapi_TypeApi_array_api_define = '_syft_missing'\n",
    "    print('❌ numpy.core.code_generators.genapi.TypeApi.array_api_define: Return unavailable')\n",
    "    print(\"  Please fix this return type code until there is no exception\")\n",
    "    print('  Error:', e)\n"
   ]
  },
  {
   "cell_type": "code",
   "execution_count": null,
   "id": "c9031be9",
   "metadata": {},
   "outputs": [],
   "source": [
    "# numpy.core.code_generators.genapi.TypeApi.define_from_array_api_string\n",
    "try:\n",
    "    obj = class_constructor()\n",
    "    ret = obj.define_from_array_api_string()\n",
    "    type_numpy_core_code_generators_genapi_TypeApi_define_from_array_api_string = getattr(ret, '__module__', 'none') + '.' + ret.__class__.__name__\n",
    "    print('✅ numpy.core.code_generators.genapi.TypeApi.define_from_array_api_string: ', type(ret))\n",
    "except Exception as e:\n",
    "    type_numpy_core_code_generators_genapi_TypeApi_define_from_array_api_string = '_syft_missing'\n",
    "    print('❌ numpy.core.code_generators.genapi.TypeApi.define_from_array_api_string: Return unavailable')\n",
    "    print(\"  Please fix this return type code until there is no exception\")\n",
    "    print('  Error:', e)\n"
   ]
  },
  {
   "cell_type": "code",
   "execution_count": null,
   "id": "0647e4e5",
   "metadata": {},
   "outputs": [],
   "source": [
    "# numpy.core.code_generators.genapi.TypeApi.internal_define\n",
    "try:\n",
    "    obj = class_constructor()\n",
    "    ret = obj.internal_define()\n",
    "    type_numpy_core_code_generators_genapi_TypeApi_internal_define = getattr(ret, '__module__', 'none') + '.' + ret.__class__.__name__\n",
    "    print('✅ numpy.core.code_generators.genapi.TypeApi.internal_define: ', type(ret))\n",
    "except Exception as e:\n",
    "    type_numpy_core_code_generators_genapi_TypeApi_internal_define = '_syft_missing'\n",
    "    print('❌ numpy.core.code_generators.genapi.TypeApi.internal_define: Return unavailable')\n",
    "    print(\"  Please fix this return type code until there is no exception\")\n",
    "    print('  Error:', e)\n"
   ]
  }
 ],
 "metadata": {},
 "nbformat": 4,
 "nbformat_minor": 5
}
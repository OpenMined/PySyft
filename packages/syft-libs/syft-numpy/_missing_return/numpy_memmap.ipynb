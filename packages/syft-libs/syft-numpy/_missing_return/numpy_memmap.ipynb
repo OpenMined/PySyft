{
 "cells": [
  {
   "cell_type": "markdown",
   "id": "bc210805",
   "metadata": {},
   "source": [
    "## numpy.memmap"
   ]
  },
  {
   "cell_type": "code",
   "execution_count": null,
   "id": "b8475ada",
   "metadata": {},
   "outputs": [],
   "source": [
    "import numpy\n",
    "def class_constructor(*args, **kwargs):\n",
    "    obj = numpy.memmap()\n",
    "    return obj\n"
   ]
  },
  {
   "cell_type": "code",
   "execution_count": null,
   "id": "80a1af1c",
   "metadata": {},
   "outputs": [],
   "source": [
    "# numpy.memmap.__array_finalize__\n",
    "try:\n",
    "    obj = class_constructor()\n",
    "    ret = obj.__array_finalize__()\n",
    "    type_numpy_memmap___array_finalize__ = getattr(ret, '__module__', 'none') + '.' + ret.__class__.__name__\n",
    "    print('✅ numpy.memmap.__array_finalize__: ', type(ret))\n",
    "except Exception as e:\n",
    "    type_numpy_memmap___array_finalize__ = '_syft_missing'\n",
    "    print('❌ numpy.memmap.__array_finalize__: Return unavailable')\n",
    "    print(\"  Please fix this return type code until there is no exception\")\n",
    "    print('  Error:', e)\n"
   ]
  },
  {
   "cell_type": "code",
   "execution_count": null,
   "id": "9e153c01",
   "metadata": {},
   "outputs": [],
   "source": [
    "# numpy.memmap.__array_wrap__\n",
    "try:\n",
    "    obj = class_constructor()\n",
    "    ret = obj.__array_wrap__()\n",
    "    type_numpy_memmap___array_wrap__ = getattr(ret, '__module__', 'none') + '.' + ret.__class__.__name__\n",
    "    print('✅ numpy.memmap.__array_wrap__: ', type(ret))\n",
    "except Exception as e:\n",
    "    type_numpy_memmap___array_wrap__ = '_syft_missing'\n",
    "    print('❌ numpy.memmap.__array_wrap__: Return unavailable')\n",
    "    print(\"  Please fix this return type code until there is no exception\")\n",
    "    print('  Error:', e)\n"
   ]
  },
  {
   "cell_type": "code",
   "execution_count": null,
   "id": "7b026b7c",
   "metadata": {},
   "outputs": [],
   "source": [
    "# numpy.memmap.__getitem__\n",
    "try:\n",
    "    obj = class_constructor()\n",
    "    ret = obj.__getitem__()\n",
    "    type_numpy_memmap___getitem__ = getattr(ret, '__module__', 'none') + '.' + ret.__class__.__name__\n",
    "    print('✅ numpy.memmap.__getitem__: ', type(ret))\n",
    "except Exception as e:\n",
    "    type_numpy_memmap___getitem__ = '_syft_missing'\n",
    "    print('❌ numpy.memmap.__getitem__: Return unavailable')\n",
    "    print(\"  Please fix this return type code until there is no exception\")\n",
    "    print('  Error:', e)\n"
   ]
  },
  {
   "cell_type": "code",
   "execution_count": null,
   "id": "9d61021a",
   "metadata": {},
   "outputs": [],
   "source": [
    "# numpy.memmap.__new__\n",
    "try:\n",
    "    obj = class_constructor()\n",
    "    ret = obj.__new__()\n",
    "    type_numpy_memmap___new__ = getattr(ret, '__module__', 'none') + '.' + ret.__class__.__name__\n",
    "    print('✅ numpy.memmap.__new__: ', type(ret))\n",
    "except Exception as e:\n",
    "    type_numpy_memmap___new__ = '_syft_missing'\n",
    "    print('❌ numpy.memmap.__new__: Return unavailable')\n",
    "    print(\"  Please fix this return type code until there is no exception\")\n",
    "    print('  Error:', e)\n"
   ]
  },
  {
   "cell_type": "code",
   "execution_count": null,
   "id": "6034de70",
   "metadata": {},
   "outputs": [],
   "source": [
    "# numpy.memmap.flush\n",
    "try:\n",
    "    obj = class_constructor()\n",
    "    ret = obj.flush()\n",
    "    type_numpy_memmap_flush = getattr(ret, '__module__', 'none') + '.' + ret.__class__.__name__\n",
    "    print('✅ numpy.memmap.flush: ', type(ret))\n",
    "except Exception as e:\n",
    "    type_numpy_memmap_flush = '_syft_missing'\n",
    "    print('❌ numpy.memmap.flush: Return unavailable')\n",
    "    print(\"  Please fix this return type code until there is no exception\")\n",
    "    print('  Error:', e)\n"
   ]
  }
 ],
 "metadata": {},
 "nbformat": 4,
 "nbformat_minor": 5
}
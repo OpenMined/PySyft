{
 "cells": [
  {
   "cell_type": "markdown",
   "id": "b3b54515",
   "metadata": {},
   "source": [
    "## numpy.core.arrayprint.TimedeltaFormat"
   ]
  },
  {
   "cell_type": "code",
   "execution_count": null,
   "id": "900f5d58",
   "metadata": {},
   "outputs": [],
   "source": [
    "import numpy\n",
    "def class_constructor(*args, **kwargs):\n",
    "    obj = numpy.core.arrayprint.TimedeltaFormat()\n",
    "    return obj\n"
   ]
  },
  {
   "cell_type": "code",
   "execution_count": null,
   "id": "bd5544f7",
   "metadata": {},
   "outputs": [],
   "source": [
    "# numpy.core.arrayprint.TimedeltaFormat.__call__\n",
    "try:\n",
    "    obj = class_constructor()\n",
    "    ret = obj.__call__()\n",
    "    type_numpy_core_arrayprint_TimedeltaFormat___call__ = getattr(ret, '__module__', 'none') + '.' + ret.__class__.__name__\n",
    "    print('✅ numpy.core.arrayprint.TimedeltaFormat.__call__: ', type(ret))\n",
    "except Exception as e:\n",
    "    type_numpy_core_arrayprint_TimedeltaFormat___call__ = '_syft_missing'\n",
    "    print('❌ numpy.core.arrayprint.TimedeltaFormat.__call__: Return unavailable')\n",
    "    print(\"  Please fix this return type code until there is no exception\")\n",
    "    print('  Error:', e)\n"
   ]
  },
  {
   "cell_type": "code",
   "execution_count": null,
   "id": "312172e4",
   "metadata": {},
   "outputs": [],
   "source": [
    "# numpy.core.arrayprint.TimedeltaFormat._format_non_nat\n",
    "try:\n",
    "    obj = class_constructor()\n",
    "    ret = obj._format_non_nat()\n",
    "    type_numpy_core_arrayprint_TimedeltaFormat__format_non_nat = getattr(ret, '__module__', 'none') + '.' + ret.__class__.__name__\n",
    "    print('✅ numpy.core.arrayprint.TimedeltaFormat._format_non_nat: ', type(ret))\n",
    "except Exception as e:\n",
    "    type_numpy_core_arrayprint_TimedeltaFormat__format_non_nat = '_syft_missing'\n",
    "    print('❌ numpy.core.arrayprint.TimedeltaFormat._format_non_nat: Return unavailable')\n",
    "    print(\"  Please fix this return type code until there is no exception\")\n",
    "    print('  Error:', e)\n"
   ]
  }
 ],
 "metadata": {},
 "nbformat": 4,
 "nbformat_minor": 5
}
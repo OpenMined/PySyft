{
 "cells": [
  {
   "cell_type": "markdown",
   "id": "0224d25b",
   "metadata": {},
   "source": [
    "## numpy.core.code_generators.genapi.NonNull"
   ]
  },
  {
   "cell_type": "code",
   "execution_count": null,
   "id": "6ed99f43",
   "metadata": {},
   "outputs": [],
   "source": [
    "import numpy\n",
    "def class_constructor(*args, **kwargs):\n",
    "    obj = numpy.core.code_generators.genapi.NonNull()\n",
    "    return obj\n"
   ]
  },
  {
   "cell_type": "code",
   "execution_count": null,
   "id": "607bc2cc",
   "metadata": {},
   "outputs": [],
   "source": [
    "# numpy.core.code_generators.genapi.NonNull.__str__\n",
    "try:\n",
    "    obj = class_constructor()\n",
    "    ret = obj.__str__()\n",
    "    type_numpy_core_code_generators_genapi_NonNull___str__ = getattr(ret, '__module__', 'none') + '.' + ret.__class__.__name__\n",
    "    print('✅ numpy.core.code_generators.genapi.NonNull.__str__: ', type(ret))\n",
    "except Exception as e:\n",
    "    type_numpy_core_code_generators_genapi_NonNull___str__ = '_syft_missing'\n",
    "    print('❌ numpy.core.code_generators.genapi.NonNull.__str__: Return unavailable')\n",
    "    print(\"  Please fix this return type code until there is no exception\")\n",
    "    print('  Error:', e)\n"
   ]
  }
 ],
 "metadata": {},
 "nbformat": 4,
 "nbformat_minor": 5
}
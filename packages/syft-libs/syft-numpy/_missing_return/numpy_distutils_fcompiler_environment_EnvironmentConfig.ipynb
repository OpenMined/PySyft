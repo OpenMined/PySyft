{
 "cells": [
  {
   "cell_type": "markdown",
   "id": "b38ca2d1",
   "metadata": {},
   "source": [
    "## numpy.distutils.fcompiler.environment.EnvironmentConfig"
   ]
  },
  {
   "cell_type": "code",
   "execution_count": null,
   "id": "ae0aa993",
   "metadata": {},
   "outputs": [],
   "source": [
    "import numpy\n",
    "def class_constructor(*args, **kwargs):\n",
    "    obj = numpy.distutils.fcompiler.environment.EnvironmentConfig()\n",
    "    return obj\n"
   ]
  },
  {
   "cell_type": "code",
   "execution_count": null,
   "id": "08fb392e",
   "metadata": {},
   "outputs": [],
   "source": [
    "# numpy.distutils.fcompiler.environment.EnvironmentConfig.__getattr__\n",
    "try:\n",
    "    obj = class_constructor()\n",
    "    ret = obj.__getattr__()\n",
    "    type_numpy_distutils_fcompiler_environment_EnvironmentConfig___getattr__ = getattr(ret, '__module__', 'none') + '.' + ret.__class__.__name__\n",
    "    print('✅ numpy.distutils.fcompiler.environment.EnvironmentConfig.__getattr__: ', type(ret))\n",
    "except Exception as e:\n",
    "    type_numpy_distutils_fcompiler_environment_EnvironmentConfig___getattr__ = '_syft_missing'\n",
    "    print('❌ numpy.distutils.fcompiler.environment.EnvironmentConfig.__getattr__: Return unavailable')\n",
    "    print(\"  Please fix this return type code until there is no exception\")\n",
    "    print('  Error:', e)\n"
   ]
  },
  {
   "cell_type": "code",
   "execution_count": null,
   "id": "e4a370cd",
   "metadata": {},
   "outputs": [],
   "source": [
    "# numpy.distutils.fcompiler.environment.EnvironmentConfig._get_var\n",
    "try:\n",
    "    obj = class_constructor()\n",
    "    ret = obj._get_var()\n",
    "    type_numpy_distutils_fcompiler_environment_EnvironmentConfig__get_var = getattr(ret, '__module__', 'none') + '.' + ret.__class__.__name__\n",
    "    print('✅ numpy.distutils.fcompiler.environment.EnvironmentConfig._get_var: ', type(ret))\n",
    "except Exception as e:\n",
    "    type_numpy_distutils_fcompiler_environment_EnvironmentConfig__get_var = '_syft_missing'\n",
    "    print('❌ numpy.distutils.fcompiler.environment.EnvironmentConfig._get_var: Return unavailable')\n",
    "    print(\"  Please fix this return type code until there is no exception\")\n",
    "    print('  Error:', e)\n"
   ]
  },
  {
   "cell_type": "code",
   "execution_count": null,
   "id": "42b02739",
   "metadata": {},
   "outputs": [],
   "source": [
    "# numpy.distutils.fcompiler.environment.EnvironmentConfig.clone\n",
    "try:\n",
    "    obj = class_constructor()\n",
    "    ret = obj.clone()\n",
    "    type_numpy_distutils_fcompiler_environment_EnvironmentConfig_clone = getattr(ret, '__module__', 'none') + '.' + ret.__class__.__name__\n",
    "    print('✅ numpy.distutils.fcompiler.environment.EnvironmentConfig.clone: ', type(ret))\n",
    "except Exception as e:\n",
    "    type_numpy_distutils_fcompiler_environment_EnvironmentConfig_clone = '_syft_missing'\n",
    "    print('❌ numpy.distutils.fcompiler.environment.EnvironmentConfig.clone: Return unavailable')\n",
    "    print(\"  Please fix this return type code until there is no exception\")\n",
    "    print('  Error:', e)\n"
   ]
  },
  {
   "cell_type": "code",
   "execution_count": null,
   "id": "6df9d49c",
   "metadata": {},
   "outputs": [],
   "source": [
    "# numpy.distutils.fcompiler.environment.EnvironmentConfig.dump_variable\n",
    "try:\n",
    "    obj = class_constructor()\n",
    "    ret = obj.dump_variable()\n",
    "    type_numpy_distutils_fcompiler_environment_EnvironmentConfig_dump_variable = getattr(ret, '__module__', 'none') + '.' + ret.__class__.__name__\n",
    "    print('✅ numpy.distutils.fcompiler.environment.EnvironmentConfig.dump_variable: ', type(ret))\n",
    "except Exception as e:\n",
    "    type_numpy_distutils_fcompiler_environment_EnvironmentConfig_dump_variable = '_syft_missing'\n",
    "    print('❌ numpy.distutils.fcompiler.environment.EnvironmentConfig.dump_variable: Return unavailable')\n",
    "    print(\"  Please fix this return type code until there is no exception\")\n",
    "    print('  Error:', e)\n"
   ]
  },
  {
   "cell_type": "code",
   "execution_count": null,
   "id": "71b13e08",
   "metadata": {},
   "outputs": [],
   "source": [
    "# numpy.distutils.fcompiler.environment.EnvironmentConfig.dump_variables\n",
    "try:\n",
    "    obj = class_constructor()\n",
    "    ret = obj.dump_variables()\n",
    "    type_numpy_distutils_fcompiler_environment_EnvironmentConfig_dump_variables = getattr(ret, '__module__', 'none') + '.' + ret.__class__.__name__\n",
    "    print('✅ numpy.distutils.fcompiler.environment.EnvironmentConfig.dump_variables: ', type(ret))\n",
    "except Exception as e:\n",
    "    type_numpy_distutils_fcompiler_environment_EnvironmentConfig_dump_variables = '_syft_missing'\n",
    "    print('❌ numpy.distutils.fcompiler.environment.EnvironmentConfig.dump_variables: Return unavailable')\n",
    "    print(\"  Please fix this return type code until there is no exception\")\n",
    "    print('  Error:', e)\n"
   ]
  },
  {
   "cell_type": "code",
   "execution_count": null,
   "id": "fa3e89f8",
   "metadata": {},
   "outputs": [],
   "source": [
    "# numpy.distutils.fcompiler.environment.EnvironmentConfig.get\n",
    "try:\n",
    "    obj = class_constructor()\n",
    "    ret = obj.get()\n",
    "    type_numpy_distutils_fcompiler_environment_EnvironmentConfig_get = getattr(ret, '__module__', 'none') + '.' + ret.__class__.__name__\n",
    "    print('✅ numpy.distutils.fcompiler.environment.EnvironmentConfig.get: ', type(ret))\n",
    "except Exception as e:\n",
    "    type_numpy_distutils_fcompiler_environment_EnvironmentConfig_get = '_syft_missing'\n",
    "    print('❌ numpy.distutils.fcompiler.environment.EnvironmentConfig.get: Return unavailable')\n",
    "    print(\"  Please fix this return type code until there is no exception\")\n",
    "    print('  Error:', e)\n"
   ]
  },
  {
   "cell_type": "code",
   "execution_count": null,
   "id": "6b39f648",
   "metadata": {},
   "outputs": [],
   "source": [
    "# numpy.distutils.fcompiler.environment.EnvironmentConfig.use_distribution\n",
    "try:\n",
    "    obj = class_constructor()\n",
    "    ret = obj.use_distribution()\n",
    "    type_numpy_distutils_fcompiler_environment_EnvironmentConfig_use_distribution = getattr(ret, '__module__', 'none') + '.' + ret.__class__.__name__\n",
    "    print('✅ numpy.distutils.fcompiler.environment.EnvironmentConfig.use_distribution: ', type(ret))\n",
    "except Exception as e:\n",
    "    type_numpy_distutils_fcompiler_environment_EnvironmentConfig_use_distribution = '_syft_missing'\n",
    "    print('❌ numpy.distutils.fcompiler.environment.EnvironmentConfig.use_distribution: Return unavailable')\n",
    "    print(\"  Please fix this return type code until there is no exception\")\n",
    "    print('  Error:', e)\n"
   ]
  }
 ],
 "metadata": {},
 "nbformat": 4,
 "nbformat_minor": 5
}
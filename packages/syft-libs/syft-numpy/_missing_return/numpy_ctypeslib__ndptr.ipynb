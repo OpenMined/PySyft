{
 "cells": [
  {
   "cell_type": "markdown",
   "id": "ec3919cf",
   "metadata": {},
   "source": [
    "## numpy.ctypeslib._ndptr"
   ]
  },
  {
   "cell_type": "code",
   "execution_count": null,
   "id": "01cbecb9",
   "metadata": {},
   "outputs": [],
   "source": [
    "import numpy\n",
    "def class_constructor(*args, **kwargs):\n",
    "    obj = numpy.ctypeslib._ndptr()\n",
    "    return obj\n"
   ]
  },
  {
   "cell_type": "code",
   "execution_count": null,
   "id": "f0df24f4",
   "metadata": {},
   "outputs": [],
   "source": [
    "# numpy.ctypeslib._ndptr.from_param\n",
    "try:\n",
    "    obj = class_constructor()\n",
    "    ret = obj.from_param()\n",
    "    type_numpy_ctypeslib__ndptr_from_param = getattr(ret, '__module__', 'none') + '.' + ret.__class__.__name__\n",
    "    print('✅ numpy.ctypeslib._ndptr.from_param: ', type(ret))\n",
    "except Exception as e:\n",
    "    type_numpy_ctypeslib__ndptr_from_param = '_syft_missing'\n",
    "    print('❌ numpy.ctypeslib._ndptr.from_param: Return unavailable')\n",
    "    print(\"  Please fix this return type code until there is no exception\")\n",
    "    print('  Error:', e)\n"
   ]
  }
 ],
 "metadata": {},
 "nbformat": 4,
 "nbformat_minor": 5
}
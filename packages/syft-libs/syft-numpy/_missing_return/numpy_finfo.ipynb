{
 "cells": [
  {
   "cell_type": "markdown",
   "id": "693f59fd",
   "metadata": {},
   "source": [
    "## numpy.finfo"
   ]
  },
  {
   "cell_type": "code",
   "execution_count": null,
   "id": "0b85a04a",
   "metadata": {},
   "outputs": [],
   "source": [
    "import numpy\n",
    "def class_constructor(*args, **kwargs):\n",
    "    obj = numpy.finfo()\n",
    "    return obj\n"
   ]
  },
  {
   "cell_type": "code",
   "execution_count": null,
   "id": "9de7461e",
   "metadata": {},
   "outputs": [],
   "source": [
    "# numpy.finfo.__new__\n",
    "try:\n",
    "    obj = class_constructor()\n",
    "    ret = obj.__new__()\n",
    "    type_numpy_finfo___new__ = getattr(ret, '__module__', 'none') + '.' + ret.__class__.__name__\n",
    "    print('✅ numpy.finfo.__new__: ', type(ret))\n",
    "except Exception as e:\n",
    "    type_numpy_finfo___new__ = '_syft_missing'\n",
    "    print('❌ numpy.finfo.__new__: Return unavailable')\n",
    "    print(\"  Please fix this return type code until there is no exception\")\n",
    "    print('  Error:', e)\n"
   ]
  },
  {
   "cell_type": "code",
   "execution_count": null,
   "id": "5c47ce50",
   "metadata": {},
   "outputs": [],
   "source": [
    "# numpy.finfo.__repr__\n",
    "try:\n",
    "    obj = class_constructor()\n",
    "    ret = obj.__repr__()\n",
    "    type_numpy_finfo___repr__ = getattr(ret, '__module__', 'none') + '.' + ret.__class__.__name__\n",
    "    print('✅ numpy.finfo.__repr__: ', type(ret))\n",
    "except Exception as e:\n",
    "    type_numpy_finfo___repr__ = '_syft_missing'\n",
    "    print('❌ numpy.finfo.__repr__: Return unavailable')\n",
    "    print(\"  Please fix this return type code until there is no exception\")\n",
    "    print('  Error:', e)\n"
   ]
  },
  {
   "cell_type": "code",
   "execution_count": null,
   "id": "32f52bd7",
   "metadata": {},
   "outputs": [],
   "source": [
    "# numpy.finfo.__str__\n",
    "try:\n",
    "    obj = class_constructor()\n",
    "    ret = obj.__str__()\n",
    "    type_numpy_finfo___str__ = getattr(ret, '__module__', 'none') + '.' + ret.__class__.__name__\n",
    "    print('✅ numpy.finfo.__str__: ', type(ret))\n",
    "except Exception as e:\n",
    "    type_numpy_finfo___str__ = '_syft_missing'\n",
    "    print('❌ numpy.finfo.__str__: Return unavailable')\n",
    "    print(\"  Please fix this return type code until there is no exception\")\n",
    "    print('  Error:', e)\n"
   ]
  },
  {
   "cell_type": "code",
   "execution_count": null,
   "id": "416a6863",
   "metadata": {},
   "outputs": [],
   "source": [
    "# numpy.finfo._init\n",
    "try:\n",
    "    obj = class_constructor()\n",
    "    ret = obj._init()\n",
    "    type_numpy_finfo__init = getattr(ret, '__module__', 'none') + '.' + ret.__class__.__name__\n",
    "    print('✅ numpy.finfo._init: ', type(ret))\n",
    "except Exception as e:\n",
    "    type_numpy_finfo__init = '_syft_missing'\n",
    "    print('❌ numpy.finfo._init: Return unavailable')\n",
    "    print(\"  Please fix this return type code until there is no exception\")\n",
    "    print('  Error:', e)\n"
   ]
  }
 ],
 "metadata": {},
 "nbformat": 4,
 "nbformat_minor": 5
}
{
 "cells": [
  {
   "cell_type": "markdown",
   "id": "5531b451",
   "metadata": {},
   "source": [
    "## numpy.finfo"
   ]
  },
  {
   "cell_type": "code",
   "execution_count": null,
   "id": "263b0896",
   "metadata": {},
   "outputs": [],
   "source": [
    "import numpy\n",
    "def class_constructor(*args, **kwargs):\n",
    "    obj = numpy.finfo()\n",
    "    return obj\n"
   ]
  },
  {
   "cell_type": "code",
   "execution_count": null,
   "id": "6090346e",
   "metadata": {},
   "outputs": [],
   "source": [
    "# numpy.finfo.__new__\n",
    "try:\n",
    "    obj = class_constructor()\n",
    "    ret = obj.__new__()\n",
    "    type_numpy_finfo___new__ = getattr(ret, '__module__', 'none') + '.' + ret.__class__.__name__\n",
    "    print('✅ numpy.finfo.__new__: ', type(ret))\n",
    "except Exception as e:\n",
    "    type_numpy_finfo___new__ = '_syft_missing'\n",
    "    print('❌ numpy.finfo.__new__: Return unavailable')\n",
    "    print(\"  Please fix this return type code until there is no exception\")\n",
    "    print('  Error:', e)\n"
   ]
  },
  {
   "cell_type": "code",
   "execution_count": null,
   "id": "3c74fe5e",
   "metadata": {},
   "outputs": [],
   "source": [
    "# numpy.finfo.__repr__\n",
    "try:\n",
    "    obj = class_constructor()\n",
    "    ret = obj.__repr__()\n",
    "    type_numpy_finfo___repr__ = getattr(ret, '__module__', 'none') + '.' + ret.__class__.__name__\n",
    "    print('✅ numpy.finfo.__repr__: ', type(ret))\n",
    "except Exception as e:\n",
    "    type_numpy_finfo___repr__ = '_syft_missing'\n",
    "    print('❌ numpy.finfo.__repr__: Return unavailable')\n",
    "    print(\"  Please fix this return type code until there is no exception\")\n",
    "    print('  Error:', e)\n"
   ]
  },
  {
   "cell_type": "code",
   "execution_count": null,
   "id": "8787b492",
   "metadata": {},
   "outputs": [],
   "source": [
    "# numpy.finfo.__str__\n",
    "try:\n",
    "    obj = class_constructor()\n",
    "    ret = obj.__str__()\n",
    "    type_numpy_finfo___str__ = getattr(ret, '__module__', 'none') + '.' + ret.__class__.__name__\n",
    "    print('✅ numpy.finfo.__str__: ', type(ret))\n",
    "except Exception as e:\n",
    "    type_numpy_finfo___str__ = '_syft_missing'\n",
    "    print('❌ numpy.finfo.__str__: Return unavailable')\n",
    "    print(\"  Please fix this return type code until there is no exception\")\n",
    "    print('  Error:', e)\n"
   ]
  },
  {
   "cell_type": "code",
   "execution_count": null,
   "id": "906e045f",
   "metadata": {},
   "outputs": [],
   "source": [
    "# numpy.finfo._init\n",
    "try:\n",
    "    obj = class_constructor()\n",
    "    ret = obj._init()\n",
    "    type_numpy_finfo__init = getattr(ret, '__module__', 'none') + '.' + ret.__class__.__name__\n",
    "    print('✅ numpy.finfo._init: ', type(ret))\n",
    "except Exception as e:\n",
    "    type_numpy_finfo__init = '_syft_missing'\n",
    "    print('❌ numpy.finfo._init: Return unavailable')\n",
    "    print(\"  Please fix this return type code until there is no exception\")\n",
    "    print('  Error:', e)\n"
   ]
  },
  {
   "cell_type": "code",
   "execution_count": null,
   "id": "49bee8d1",
   "metadata": {},
   "outputs": [],
   "source": [
    "# numpy.finfo.smallest_normal\n",
    "try:\n",
    "    obj = class_constructor()\n",
    "    ret = obj.smallest_normal\n",
    "    type_numpy_finfo_smallest_normal = getattr(ret, '__module__', 'none') + '.' + ret.__class__.__name__\n",
    "    print('✅ numpy.finfo.smallest_normal:', type(ret))\n",
    "except Exception as e:\n",
    "    type_numpy_finfo_smallest_normal = '_syft_missing'\n",
    "    print('❌ numpy.finfo.smallest_normal: Return unavailable')\n",
    "    print(\"  Please fix this return type code until there is no exception\")\n",
    "    print('  Error:', e)\n"
   ]
  },
  {
   "cell_type": "code",
   "execution_count": null,
   "id": "f66ff4df",
   "metadata": {},
   "outputs": [],
   "source": [
    "# numpy.finfo.tiny\n",
    "try:\n",
    "    obj = class_constructor()\n",
    "    ret = obj.tiny\n",
    "    type_numpy_finfo_tiny = getattr(ret, '__module__', 'none') + '.' + ret.__class__.__name__\n",
    "    print('✅ numpy.finfo.tiny:', type(ret))\n",
    "except Exception as e:\n",
    "    type_numpy_finfo_tiny = '_syft_missing'\n",
    "    print('❌ numpy.finfo.tiny: Return unavailable')\n",
    "    print(\"  Please fix this return type code until there is no exception\")\n",
    "    print('  Error:', e)\n"
   ]
  }
 ],
 "metadata": {},
 "nbformat": 4,
 "nbformat_minor": 5
}
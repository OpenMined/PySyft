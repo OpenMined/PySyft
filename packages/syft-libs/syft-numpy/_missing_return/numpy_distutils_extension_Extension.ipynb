{
 "cells": [
  {
   "cell_type": "markdown",
   "id": "b795127c",
   "metadata": {},
   "source": [
    "## numpy.distutils.extension.Extension"
   ]
  },
  {
   "cell_type": "code",
   "execution_count": null,
   "id": "94d4b3b4",
   "metadata": {},
   "outputs": [],
   "source": [
    "import numpy\n",
    "def class_constructor(*args, **kwargs):\n",
    "    obj = numpy.distutils.extension.Extension()\n",
    "    return obj\n"
   ]
  },
  {
   "cell_type": "code",
   "execution_count": null,
   "id": "02c4723b",
   "metadata": {},
   "outputs": [],
   "source": [
    "# numpy.distutils.extension.Extension.__repr__\n",
    "try:\n",
    "    obj = class_constructor()\n",
    "    ret = obj.__repr__()\n",
    "    type_numpy_distutils_extension_Extension___repr__ = getattr(ret, '__module__', 'none') + '.' + ret.__class__.__name__\n",
    "    print('✅ numpy.distutils.extension.Extension.__repr__: ', type(ret))\n",
    "except Exception as e:\n",
    "    type_numpy_distutils_extension_Extension___repr__ = '_syft_missing'\n",
    "    print('❌ numpy.distutils.extension.Extension.__repr__: Return unavailable')\n",
    "    print(\"  Please fix this return type code until there is no exception\")\n",
    "    print('  Error:', e)\n"
   ]
  },
  {
   "cell_type": "code",
   "execution_count": null,
   "id": "8dd1f2f3",
   "metadata": {},
   "outputs": [],
   "source": [
    "# numpy.distutils.extension.Extension._convert_pyx_sources_to_lang\n",
    "try:\n",
    "    obj = class_constructor()\n",
    "    ret = obj._convert_pyx_sources_to_lang()\n",
    "    type_numpy_distutils_extension_Extension__convert_pyx_sources_to_lang = getattr(ret, '__module__', 'none') + '.' + ret.__class__.__name__\n",
    "    print('✅ numpy.distutils.extension.Extension._convert_pyx_sources_to_lang: ', type(ret))\n",
    "except Exception as e:\n",
    "    type_numpy_distutils_extension_Extension__convert_pyx_sources_to_lang = '_syft_missing'\n",
    "    print('❌ numpy.distutils.extension.Extension._convert_pyx_sources_to_lang: Return unavailable')\n",
    "    print(\"  Please fix this return type code until there is no exception\")\n",
    "    print('  Error:', e)\n"
   ]
  },
  {
   "cell_type": "code",
   "execution_count": null,
   "id": "60283985",
   "metadata": {},
   "outputs": [],
   "source": [
    "# numpy.distutils.extension.Extension.has_cxx_sources\n",
    "try:\n",
    "    obj = class_constructor()\n",
    "    ret = obj.has_cxx_sources()\n",
    "    type_numpy_distutils_extension_Extension_has_cxx_sources = getattr(ret, '__module__', 'none') + '.' + ret.__class__.__name__\n",
    "    print('✅ numpy.distutils.extension.Extension.has_cxx_sources: ', type(ret))\n",
    "except Exception as e:\n",
    "    type_numpy_distutils_extension_Extension_has_cxx_sources = '_syft_missing'\n",
    "    print('❌ numpy.distutils.extension.Extension.has_cxx_sources: Return unavailable')\n",
    "    print(\"  Please fix this return type code until there is no exception\")\n",
    "    print('  Error:', e)\n"
   ]
  },
  {
   "cell_type": "code",
   "execution_count": null,
   "id": "7b721261",
   "metadata": {},
   "outputs": [],
   "source": [
    "# numpy.distutils.extension.Extension.has_f2py_sources\n",
    "try:\n",
    "    obj = class_constructor()\n",
    "    ret = obj.has_f2py_sources()\n",
    "    type_numpy_distutils_extension_Extension_has_f2py_sources = getattr(ret, '__module__', 'none') + '.' + ret.__class__.__name__\n",
    "    print('✅ numpy.distutils.extension.Extension.has_f2py_sources: ', type(ret))\n",
    "except Exception as e:\n",
    "    type_numpy_distutils_extension_Extension_has_f2py_sources = '_syft_missing'\n",
    "    print('❌ numpy.distutils.extension.Extension.has_f2py_sources: Return unavailable')\n",
    "    print(\"  Please fix this return type code until there is no exception\")\n",
    "    print('  Error:', e)\n"
   ]
  }
 ],
 "metadata": {},
 "nbformat": 4,
 "nbformat_minor": 5
}
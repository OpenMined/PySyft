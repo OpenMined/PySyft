{
 "cells": [
  {
   "cell_type": "markdown",
   "id": "482116d9",
   "metadata": {},
   "source": [
    "## numpy.distutils.ccompiler_opt._Config"
   ]
  },
  {
   "cell_type": "code",
   "execution_count": null,
   "id": "25ca034e",
   "metadata": {},
   "outputs": [],
   "source": [
    "import numpy\n",
    "def class_constructor(*args, **kwargs):\n",
    "    obj = numpy.distutils.ccompiler_opt._Config()\n",
    "    return obj\n"
   ]
  },
  {
   "cell_type": "code",
   "execution_count": null,
   "id": "4a5cf7d1",
   "metadata": {},
   "outputs": [],
   "source": [
    "# numpy.distutils.ccompiler_opt._Config.conf_features_partial\n",
    "try:\n",
    "    obj = class_constructor()\n",
    "    ret = obj.conf_features_partial()\n",
    "    type_numpy_distutils_ccompiler_opt__Config_conf_features_partial = getattr(ret, '__module__', 'none') + '.' + ret.__class__.__name__\n",
    "    print('✅ numpy.distutils.ccompiler_opt._Config.conf_features_partial: ', type(ret))\n",
    "except Exception as e:\n",
    "    type_numpy_distutils_ccompiler_opt__Config_conf_features_partial = '_syft_missing'\n",
    "    print('❌ numpy.distutils.ccompiler_opt._Config.conf_features_partial: Return unavailable')\n",
    "    print(\"  Please fix this return type code until there is no exception\")\n",
    "    print('  Error:', e)\n"
   ]
  }
 ],
 "metadata": {},
 "nbformat": 4,
 "nbformat_minor": 5
}
{
 "cells": [
  {
   "cell_type": "markdown",
   "id": "7f75c41f",
   "metadata": {},
   "source": [
    "## numpy.record"
   ]
  },
  {
   "cell_type": "code",
   "execution_count": null,
   "id": "f048fb1a",
   "metadata": {},
   "outputs": [],
   "source": [
    "import numpy\n",
    "def class_constructor(*args, **kwargs):\n",
    "    obj = numpy.record()\n",
    "    return obj\n"
   ]
  },
  {
   "cell_type": "code",
   "execution_count": null,
   "id": "69c20bc9",
   "metadata": {},
   "outputs": [],
   "source": [
    "# numpy.record.__getattribute__\n",
    "try:\n",
    "    obj = class_constructor()\n",
    "    ret = obj.__getattribute__()\n",
    "    type_numpy_record___getattribute__ = getattr(ret, '__module__', 'none') + '.' + ret.__class__.__name__\n",
    "    print('✅ numpy.record.__getattribute__: ', type(ret))\n",
    "except Exception as e:\n",
    "    type_numpy_record___getattribute__ = '_syft_missing'\n",
    "    print('❌ numpy.record.__getattribute__: Return unavailable')\n",
    "    print(\"  Please fix this return type code until there is no exception\")\n",
    "    print('  Error:', e)\n"
   ]
  },
  {
   "cell_type": "code",
   "execution_count": null,
   "id": "f21efd59",
   "metadata": {},
   "outputs": [],
   "source": [
    "# numpy.record.__getitem__\n",
    "try:\n",
    "    obj = class_constructor()\n",
    "    ret = obj.__getitem__()\n",
    "    type_numpy_record___getitem__ = getattr(ret, '__module__', 'none') + '.' + ret.__class__.__name__\n",
    "    print('✅ numpy.record.__getitem__: ', type(ret))\n",
    "except Exception as e:\n",
    "    type_numpy_record___getitem__ = '_syft_missing'\n",
    "    print('❌ numpy.record.__getitem__: Return unavailable')\n",
    "    print(\"  Please fix this return type code until there is no exception\")\n",
    "    print('  Error:', e)\n"
   ]
  },
  {
   "cell_type": "code",
   "execution_count": null,
   "id": "c1e2799b",
   "metadata": {},
   "outputs": [],
   "source": [
    "# numpy.record.__repr__\n",
    "try:\n",
    "    obj = class_constructor()\n",
    "    ret = obj.__repr__()\n",
    "    type_numpy_record___repr__ = getattr(ret, '__module__', 'none') + '.' + ret.__class__.__name__\n",
    "    print('✅ numpy.record.__repr__: ', type(ret))\n",
    "except Exception as e:\n",
    "    type_numpy_record___repr__ = '_syft_missing'\n",
    "    print('❌ numpy.record.__repr__: Return unavailable')\n",
    "    print(\"  Please fix this return type code until there is no exception\")\n",
    "    print('  Error:', e)\n"
   ]
  },
  {
   "cell_type": "code",
   "execution_count": null,
   "id": "2199117a",
   "metadata": {},
   "outputs": [],
   "source": [
    "# numpy.record.__setattr__\n",
    "try:\n",
    "    obj = class_constructor()\n",
    "    ret = obj.__setattr__()\n",
    "    type_numpy_record___setattr__ = getattr(ret, '__module__', 'none') + '.' + ret.__class__.__name__\n",
    "    print('✅ numpy.record.__setattr__: ', type(ret))\n",
    "except Exception as e:\n",
    "    type_numpy_record___setattr__ = '_syft_missing'\n",
    "    print('❌ numpy.record.__setattr__: Return unavailable')\n",
    "    print(\"  Please fix this return type code until there is no exception\")\n",
    "    print('  Error:', e)\n"
   ]
  },
  {
   "cell_type": "code",
   "execution_count": null,
   "id": "1005863f",
   "metadata": {},
   "outputs": [],
   "source": [
    "# numpy.record.__str__\n",
    "try:\n",
    "    obj = class_constructor()\n",
    "    ret = obj.__str__()\n",
    "    type_numpy_record___str__ = getattr(ret, '__module__', 'none') + '.' + ret.__class__.__name__\n",
    "    print('✅ numpy.record.__str__: ', type(ret))\n",
    "except Exception as e:\n",
    "    type_numpy_record___str__ = '_syft_missing'\n",
    "    print('❌ numpy.record.__str__: Return unavailable')\n",
    "    print(\"  Please fix this return type code until there is no exception\")\n",
    "    print('  Error:', e)\n"
   ]
  },
  {
   "cell_type": "code",
   "execution_count": null,
   "id": "6f83726f",
   "metadata": {},
   "outputs": [],
   "source": [
    "# numpy.record.pprint\n",
    "try:\n",
    "    obj = class_constructor()\n",
    "    ret = obj.pprint()\n",
    "    type_numpy_record_pprint = getattr(ret, '__module__', 'none') + '.' + ret.__class__.__name__\n",
    "    print('✅ numpy.record.pprint: ', type(ret))\n",
    "except Exception as e:\n",
    "    type_numpy_record_pprint = '_syft_missing'\n",
    "    print('❌ numpy.record.pprint: Return unavailable')\n",
    "    print(\"  Please fix this return type code until there is no exception\")\n",
    "    print('  Error:', e)\n"
   ]
  }
 ],
 "metadata": {},
 "nbformat": 4,
 "nbformat_minor": 5
}
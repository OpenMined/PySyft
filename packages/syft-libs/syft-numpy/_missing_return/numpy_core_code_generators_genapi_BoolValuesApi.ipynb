{
 "cells": [
  {
   "cell_type": "markdown",
   "id": "095a6805",
   "metadata": {},
   "source": [
    "## numpy.core.code_generators.genapi.BoolValuesApi"
   ]
  },
  {
   "cell_type": "code",
   "execution_count": null,
   "id": "04943b32",
   "metadata": {},
   "outputs": [],
   "source": [
    "import numpy\n",
    "def class_constructor(*args, **kwargs):\n",
    "    obj = numpy.core.code_generators.genapi.BoolValuesApi()\n",
    "    return obj\n"
   ]
  },
  {
   "cell_type": "code",
   "execution_count": null,
   "id": "0e2abdb8",
   "metadata": {},
   "outputs": [],
   "source": [
    "# numpy.core.code_generators.genapi.BoolValuesApi.array_api_define\n",
    "try:\n",
    "    obj = class_constructor()\n",
    "    ret = obj.array_api_define()\n",
    "    type_numpy_core_code_generators_genapi_BoolValuesApi_array_api_define = getattr(ret, '__module__', 'none') + '.' + ret.__class__.__name__\n",
    "    print('✅ numpy.core.code_generators.genapi.BoolValuesApi.array_api_define: ', type(ret))\n",
    "except Exception as e:\n",
    "    type_numpy_core_code_generators_genapi_BoolValuesApi_array_api_define = '_syft_missing'\n",
    "    print('❌ numpy.core.code_generators.genapi.BoolValuesApi.array_api_define: Return unavailable')\n",
    "    print(\"  Please fix this return type code until there is no exception\")\n",
    "    print('  Error:', e)\n"
   ]
  },
  {
   "cell_type": "code",
   "execution_count": null,
   "id": "d60f6ca6",
   "metadata": {},
   "outputs": [],
   "source": [
    "# numpy.core.code_generators.genapi.BoolValuesApi.define_from_array_api_string\n",
    "try:\n",
    "    obj = class_constructor()\n",
    "    ret = obj.define_from_array_api_string()\n",
    "    type_numpy_core_code_generators_genapi_BoolValuesApi_define_from_array_api_string = getattr(ret, '__module__', 'none') + '.' + ret.__class__.__name__\n",
    "    print('✅ numpy.core.code_generators.genapi.BoolValuesApi.define_from_array_api_string: ', type(ret))\n",
    "except Exception as e:\n",
    "    type_numpy_core_code_generators_genapi_BoolValuesApi_define_from_array_api_string = '_syft_missing'\n",
    "    print('❌ numpy.core.code_generators.genapi.BoolValuesApi.define_from_array_api_string: Return unavailable')\n",
    "    print(\"  Please fix this return type code until there is no exception\")\n",
    "    print('  Error:', e)\n"
   ]
  },
  {
   "cell_type": "code",
   "execution_count": null,
   "id": "1b7f316c",
   "metadata": {},
   "outputs": [],
   "source": [
    "# numpy.core.code_generators.genapi.BoolValuesApi.internal_define\n",
    "try:\n",
    "    obj = class_constructor()\n",
    "    ret = obj.internal_define()\n",
    "    type_numpy_core_code_generators_genapi_BoolValuesApi_internal_define = getattr(ret, '__module__', 'none') + '.' + ret.__class__.__name__\n",
    "    print('✅ numpy.core.code_generators.genapi.BoolValuesApi.internal_define: ', type(ret))\n",
    "except Exception as e:\n",
    "    type_numpy_core_code_generators_genapi_BoolValuesApi_internal_define = '_syft_missing'\n",
    "    print('❌ numpy.core.code_generators.genapi.BoolValuesApi.internal_define: Return unavailable')\n",
    "    print(\"  Please fix this return type code until there is no exception\")\n",
    "    print('  Error:', e)\n"
   ]
  }
 ],
 "metadata": {},
 "nbformat": 4,
 "nbformat_minor": 5
}
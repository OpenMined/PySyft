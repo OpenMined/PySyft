{
 "cells": [
  {
   "cell_type": "markdown",
   "id": "16cf105f",
   "metadata": {},
   "source": [
    "## numpy.compat.py3k.contextlib_nullcontext"
   ]
  },
  {
   "cell_type": "code",
   "execution_count": null,
   "id": "422d6d20",
   "metadata": {},
   "outputs": [],
   "source": [
    "import numpy\n",
    "def class_constructor(*args, **kwargs):\n",
    "    obj = numpy.compat.py3k.contextlib_nullcontext()\n",
    "    return obj\n"
   ]
  },
  {
   "cell_type": "code",
   "execution_count": null,
   "id": "31c18a64",
   "metadata": {},
   "outputs": [],
   "source": [
    "# numpy.compat.py3k.contextlib_nullcontext.__enter__\n",
    "try:\n",
    "    obj = class_constructor()\n",
    "    ret = obj.__enter__()\n",
    "    type_numpy_compat_py3k_contextlib_nullcontext___enter__ = getattr(ret, '__module__', 'none') + '.' + ret.__class__.__name__\n",
    "    print('✅ numpy.compat.py3k.contextlib_nullcontext.__enter__: ', type(ret))\n",
    "except Exception as e:\n",
    "    type_numpy_compat_py3k_contextlib_nullcontext___enter__ = '_syft_missing'\n",
    "    print('❌ numpy.compat.py3k.contextlib_nullcontext.__enter__: Return unavailable')\n",
    "    print(\"  Please fix this return type code until there is no exception\")\n",
    "    print('  Error:', e)\n"
   ]
  },
  {
   "cell_type": "code",
   "execution_count": null,
   "id": "a01a7bfe",
   "metadata": {},
   "outputs": [],
   "source": [
    "# numpy.compat.py3k.contextlib_nullcontext.__exit__\n",
    "try:\n",
    "    obj = class_constructor()\n",
    "    ret = obj.__exit__()\n",
    "    type_numpy_compat_py3k_contextlib_nullcontext___exit__ = getattr(ret, '__module__', 'none') + '.' + ret.__class__.__name__\n",
    "    print('✅ numpy.compat.py3k.contextlib_nullcontext.__exit__: ', type(ret))\n",
    "except Exception as e:\n",
    "    type_numpy_compat_py3k_contextlib_nullcontext___exit__ = '_syft_missing'\n",
    "    print('❌ numpy.compat.py3k.contextlib_nullcontext.__exit__: Return unavailable')\n",
    "    print(\"  Please fix this return type code until there is no exception\")\n",
    "    print('  Error:', e)\n"
   ]
  }
 ],
 "metadata": {},
 "nbformat": 4,
 "nbformat_minor": 5
}
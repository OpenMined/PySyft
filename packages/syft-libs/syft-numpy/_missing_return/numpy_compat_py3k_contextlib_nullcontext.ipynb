{
 "cells": [
  {
   "cell_type": "markdown",
   "id": "11f79610",
   "metadata": {},
   "source": [
    "## numpy.compat.py3k.contextlib_nullcontext"
   ]
  },
  {
   "cell_type": "code",
   "execution_count": null,
   "id": "2ce8e195",
   "metadata": {},
   "outputs": [],
   "source": [
    "import numpy\n",
    "def class_constructor(*args, **kwargs):\n",
    "    obj = numpy.compat.py3k.contextlib_nullcontext()\n",
    "    return obj\n"
   ]
  },
  {
   "cell_type": "code",
   "execution_count": null,
   "id": "c2a116e1",
   "metadata": {},
   "outputs": [],
   "source": [
    "# numpy.compat.py3k.contextlib_nullcontext.__enter__\n",
    "try:\n",
    "    obj = class_constructor()\n",
    "    ret = obj.__enter__()\n",
    "    type_numpy_compat_py3k_contextlib_nullcontext___enter__ = getattr(ret, '__module__', 'none') + '.' + ret.__class__.__name__\n",
    "    print('✅ numpy.compat.py3k.contextlib_nullcontext.__enter__: ', type(ret))\n",
    "except Exception as e:\n",
    "    type_numpy_compat_py3k_contextlib_nullcontext___enter__ = '_syft_missing'\n",
    "    print('❌ numpy.compat.py3k.contextlib_nullcontext.__enter__: Return unavailable')\n",
    "    print(\"  Please fix this return type code until there is no exception\")\n",
    "    print('  Error:', e)\n"
   ]
  },
  {
   "cell_type": "code",
   "execution_count": null,
   "id": "b55af761",
   "metadata": {},
   "outputs": [],
   "source": [
    "# numpy.compat.py3k.contextlib_nullcontext.__exit__\n",
    "try:\n",
    "    obj = class_constructor()\n",
    "    ret = obj.__exit__()\n",
    "    type_numpy_compat_py3k_contextlib_nullcontext___exit__ = getattr(ret, '__module__', 'none') + '.' + ret.__class__.__name__\n",
    "    print('✅ numpy.compat.py3k.contextlib_nullcontext.__exit__: ', type(ret))\n",
    "except Exception as e:\n",
    "    type_numpy_compat_py3k_contextlib_nullcontext___exit__ = '_syft_missing'\n",
    "    print('❌ numpy.compat.py3k.contextlib_nullcontext.__exit__: Return unavailable')\n",
    "    print(\"  Please fix this return type code until there is no exception\")\n",
    "    print('  Error:', e)\n"
   ]
  }
 ],
 "metadata": {},
 "nbformat": 4,
 "nbformat_minor": 5
}
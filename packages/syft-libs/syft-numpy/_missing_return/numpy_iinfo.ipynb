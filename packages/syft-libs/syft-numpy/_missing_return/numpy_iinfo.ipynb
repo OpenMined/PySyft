{
 "cells": [
  {
   "cell_type": "markdown",
   "id": "d4f5132b",
   "metadata": {},
   "source": [
    "## numpy.iinfo"
   ]
  },
  {
   "cell_type": "code",
   "execution_count": null,
   "id": "df965524",
   "metadata": {},
   "outputs": [],
   "source": [
    "import numpy\n",
    "def class_constructor(*args, **kwargs):\n",
    "    obj = numpy.iinfo()\n",
    "    return obj\n"
   ]
  },
  {
   "cell_type": "code",
   "execution_count": null,
   "id": "95909317",
   "metadata": {},
   "outputs": [],
   "source": [
    "# numpy.iinfo.__repr__\n",
    "try:\n",
    "    obj = class_constructor()\n",
    "    ret = obj.__repr__()\n",
    "    type_numpy_iinfo___repr__ = getattr(ret, '__module__', 'none') + '.' + ret.__class__.__name__\n",
    "    print('✅ numpy.iinfo.__repr__: ', type(ret))\n",
    "except Exception as e:\n",
    "    type_numpy_iinfo___repr__ = '_syft_missing'\n",
    "    print('❌ numpy.iinfo.__repr__: Return unavailable')\n",
    "    print(\"  Please fix this return type code until there is no exception\")\n",
    "    print('  Error:', e)\n"
   ]
  },
  {
   "cell_type": "code",
   "execution_count": null,
   "id": "322bf966",
   "metadata": {},
   "outputs": [],
   "source": [
    "# numpy.iinfo.__str__\n",
    "try:\n",
    "    obj = class_constructor()\n",
    "    ret = obj.__str__()\n",
    "    type_numpy_iinfo___str__ = getattr(ret, '__module__', 'none') + '.' + ret.__class__.__name__\n",
    "    print('✅ numpy.iinfo.__str__: ', type(ret))\n",
    "except Exception as e:\n",
    "    type_numpy_iinfo___str__ = '_syft_missing'\n",
    "    print('❌ numpy.iinfo.__str__: Return unavailable')\n",
    "    print(\"  Please fix this return type code until there is no exception\")\n",
    "    print('  Error:', e)\n"
   ]
  },
  {
   "cell_type": "code",
   "execution_count": null,
   "id": "152ea01f",
   "metadata": {},
   "outputs": [],
   "source": [
    "# numpy.iinfo.max\n",
    "try:\n",
    "    obj = class_constructor()\n",
    "    ret = obj.max\n",
    "    type_numpy_iinfo_max = getattr(ret, '__module__', 'none') + '.' + ret.__class__.__name__\n",
    "    print('✅ numpy.iinfo.max:', type(ret))\n",
    "except Exception as e:\n",
    "    type_numpy_iinfo_max = '_syft_missing'\n",
    "    print('❌ numpy.iinfo.max: Return unavailable')\n",
    "    print(\"  Please fix this return type code until there is no exception\")\n",
    "    print('  Error:', e)\n"
   ]
  },
  {
   "cell_type": "code",
   "execution_count": null,
   "id": "f6c070a2",
   "metadata": {},
   "outputs": [],
   "source": [
    "# numpy.iinfo.min\n",
    "try:\n",
    "    obj = class_constructor()\n",
    "    ret = obj.min\n",
    "    type_numpy_iinfo_min = getattr(ret, '__module__', 'none') + '.' + ret.__class__.__name__\n",
    "    print('✅ numpy.iinfo.min:', type(ret))\n",
    "except Exception as e:\n",
    "    type_numpy_iinfo_min = '_syft_missing'\n",
    "    print('❌ numpy.iinfo.min: Return unavailable')\n",
    "    print(\"  Please fix this return type code until there is no exception\")\n",
    "    print('  Error:', e)\n"
   ]
  }
 ],
 "metadata": {},
 "nbformat": 4,
 "nbformat_minor": 5
}
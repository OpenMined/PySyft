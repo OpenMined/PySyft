{
 "cells": [
  {
   "cell_type": "markdown",
   "id": "11265b42",
   "metadata": {},
   "source": [
    "## numpy.core._internal.recursive"
   ]
  },
  {
   "cell_type": "code",
   "execution_count": null,
   "id": "54c1fa92",
   "metadata": {},
   "outputs": [],
   "source": [
    "import numpy\n",
    "def class_constructor(*args, **kwargs):\n",
    "    obj = numpy.core._internal.recursive()\n",
    "    return obj\n"
   ]
  },
  {
   "cell_type": "code",
   "execution_count": null,
   "id": "eccb1be5",
   "metadata": {},
   "outputs": [],
   "source": [
    "# numpy.core._internal.recursive.__call__\n",
    "try:\n",
    "    obj = class_constructor()\n",
    "    ret = obj.__call__()\n",
    "    type_numpy_core__internal_recursive___call__ = getattr(ret, '__module__', 'none') + '.' + ret.__class__.__name__\n",
    "    print('✅ numpy.core._internal.recursive.__call__: ', type(ret))\n",
    "except Exception as e:\n",
    "    type_numpy_core__internal_recursive___call__ = '_syft_missing'\n",
    "    print('❌ numpy.core._internal.recursive.__call__: Return unavailable')\n",
    "    print(\"  Please fix this return type code until there is no exception\")\n",
    "    print('  Error:', e)\n"
   ]
  }
 ],
 "metadata": {},
 "nbformat": 4,
 "nbformat_minor": 5
}
{
 "cells": [
  {
   "cell_type": "markdown",
   "id": "84a8a934",
   "metadata": {},
   "source": [
    "## pandas._config.config.DictWrapper"
   ]
  },
  {
   "cell_type": "code",
   "execution_count": null,
   "id": "e461418b",
   "metadata": {},
   "outputs": [],
   "source": [
    "import pandas\n",
    "def class_constructor(*args, **kwargs):\n",
    "    obj = pandas._config.config.DictWrapper()\n",
    "    return obj\n"
   ]
  },
  {
   "cell_type": "code",
   "execution_count": null,
   "id": "e36f3ff3",
   "metadata": {},
   "outputs": [],
   "source": [
    "# pandas._config.config.DictWrapper.__getattr__\n",
    "try:\n",
    "    obj = class_constructor()\n",
    "    ret = obj.__getattr__()\n",
    "    type_pandas__config_config_DictWrapper___getattr__ = (\n",
    "    getattr(ret, '__module__', None) + '.' + ret.__class__.__name__\n",
    "        if getattr(ret, '__module__', None)\n",
    "        else ret.__class__.__name__\n",
    "        )\n",
    "    print(\"✅ pandas._config.config.DictWrapper.__getattr__:\",\n",
    "        type_pandas__config_config_DictWrapper___getattr__)\n",
    "except Exception as e:\n",
    "    type_pandas__config_config_DictWrapper___getattr__ = '_syft_missing'\n",
    "    print('❌ pandas._config.config.DictWrapper.__getattr__: Return unavailable')\n",
    "    print(\"  Please fix this return type code until there is no exception\")\n",
    "    print('   Error:', e)\n"
   ]
  }
 ],
 "metadata": {},
 "nbformat": 4,
 "nbformat_minor": 5
}
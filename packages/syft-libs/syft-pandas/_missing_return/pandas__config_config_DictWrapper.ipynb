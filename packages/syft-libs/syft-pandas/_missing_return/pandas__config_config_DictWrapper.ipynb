{
 "cells": [
  {
   "cell_type": "markdown",
   "id": "784b739e",
   "metadata": {},
   "source": [
    "## pandas._config.config.DictWrapper"
   ]
  },
  {
   "cell_type": "code",
   "execution_count": 10,
   "id": "f49e5ebb",
   "metadata": {},
   "outputs": [],
   "source": [
    "import pandas\n",
    "def class_constructor(*args, **kwargs):\n",
    "    obj = pandas._config.config.DictWrapper({\"abc\":11})\n",
    "    return obj\n"
   ]
  },
  {
   "cell_type": "code",
   "execution_count": 11,
   "id": "259b28f5",
   "metadata": {},
   "outputs": [
    {
     "name": "stdout",
     "output_type": "stream",
     "text": [
      "❌ pandas._config.config.DictWrapper.__getattr__: Return unavailable\n",
      "  Please fix this return type code until there is no exception\n",
      "   Error: \"No such keys(s): 'abc'\"\n"
     ]
    }
   ],
   "source": [
    "# pandas._config.config.DictWrapper.__getattr__\n",
    "try:\n",
    "    obj = class_constructor()\n",
    "    ret = obj.__getattr__(\"abc\")\n",
    "    type_pandas__config_config_DictWrapper___getattr__ = (\n",
    "    getattr(ret, '__module__', None) + '.' + ret.__class__.__name__\n",
    "        if getattr(ret, '__module__', None)\n",
    "        else ret.__class__.__name__\n",
    "        )\n",
    "    print(\"✅ pandas._config.config.DictWrapper.__getattr__:\",\n",
    "        type_pandas__config_config_DictWrapper___getattr__)\n",
    "except Exception as e:\n",
    "    type_pandas__config_config_DictWrapper___getattr__ = '_syft_missing'\n",
    "    print('❌ pandas._config.config.DictWrapper.__getattr__: Return unavailable')\n",
    "    print(\"  Please fix this return type code until there is no exception\")\n",
    "    print('   Error:', e)\n"
   ]
  },
  {
   "cell_type": "code",
   "execution_count": null,
   "id": "b7c29dae",
   "metadata": {},
   "outputs": [],
   "source": []
  }
 ],
 "metadata": {
  "kernelspec": {
   "display_name": "Python 3",
   "language": "python",
   "name": "python3"
  },
  "language_info": {
   "codemirror_mode": {
    "name": "ipython",
    "version": 3
   },
   "file_extension": ".py",
   "mimetype": "text/x-python",
   "name": "python",
   "nbconvert_exporter": "python",
   "pygments_lexer": "ipython3",
   "version": "3.9.5"
  }
 },
 "nbformat": 4,
 "nbformat_minor": 5
}

{
 "cells": [
  {
   "cell_type": "markdown",
   "id": "0e8257e0",
   "metadata": {},
   "source": [
    "## pandas._config.config.DictWrapper"
   ]
  },
  {
   "cell_type": "code",
   "execution_count": 10,
   "id": "bd88d49c",
   "metadata": {},
   "outputs": [],
   "source": [
    "import pandas\n",
    "def class_constructor(*args, **kwargs):\n",
    "    obj = pandas._config.config.DictWrapper({\"a\":1},\"b\")\n",
    "    return obj\n"
   ]
  },
  {
   "cell_type": "code",
   "execution_count": 12,
   "id": "92e95fcc",
   "metadata": {},
   "outputs": [
    {
     "data": {
      "text/plain": [
       "{'a': 1}"
      ]
     },
     "execution_count": 12,
     "metadata": {},
     "output_type": "execute_result"
    }
   ],
   "source": [
    "obj = class_constructor()\n",
    "obj.d"
   ]
  },
  {
   "cell_type": "code",
   "execution_count": 14,
   "id": "4d14dbd0",
   "metadata": {},
   "outputs": [
    {
     "name": "stdout",
     "output_type": "stream",
     "text": [
      "❌ pandas._config.config.DictWrapper.__getattr__: Return unavailable\n",
      "  Please fix this return type code until there is no exception\n",
      "  Error: \"No such keys(s): 'b.a'\"\n"
     ]
    }
   ],
   "source": [
    "# pandas._config.config.DictWrapper.__getattr__\n",
    "try:\n",
    "    obj = class_constructor()\n",
    "    ret = obj.__getattr__(\"a\")\n",
    "    type_pandas__config_config_DictWrapper___getattr__ = getattr(ret, '__module__', 'none') + '.' + ret.__class__.__name__\n",
    "    print('✅ pandas._config.config.DictWrapper.__getattr__: ', type(ret))\n",
    "except Exception as e:\n",
    "    type_pandas__config_config_DictWrapper___getattr__ = '_syft_missing'\n",
    "    print('❌ pandas._config.config.DictWrapper.__getattr__: Return unavailable')\n",
    "    print(\"  Please fix this return type code until there is no exception\")\n",
    "    print('  Error:', e)\n"
   ]
  },
  {
   "cell_type": "code",
   "execution_count": null,
   "id": "595102b1",
   "metadata": {},
   "outputs": [],
   "source": []
  }
 ],
 "metadata": {
  "kernelspec": {
   "display_name": "Python 3",
   "language": "python",
   "name": "python3"
  },
  "language_info": {
   "codemirror_mode": {
    "name": "ipython",
    "version": 3
   },
   "file_extension": ".py",
   "mimetype": "text/x-python",
   "name": "python",
   "nbconvert_exporter": "python",
   "pygments_lexer": "ipython3",
   "version": "3.9.5"
  }
 },
 "nbformat": 4,
 "nbformat_minor": 5
}

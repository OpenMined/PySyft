{
 "cells": [
  {
   "cell_type": "markdown",
   "id": "9715c97e",
   "metadata": {},
   "source": [
    "## pandas.core.groupby.ops.SeriesSplitter"
   ]
  },
  {
   "cell_type": "code",
   "execution_count": null,
   "id": "b0c02f71",
   "metadata": {},
   "outputs": [],
   "source": [
    "import pandas\n",
    "def class_constructor(*args, **kwargs):\n",
    "    obj = pandas.core.groupby.ops.SeriesSplitter()\n",
    "    return obj\n"
   ]
  },
  {
   "cell_type": "code",
   "execution_count": null,
   "id": "62484a22",
   "metadata": {},
   "outputs": [],
   "source": [
    "# pandas.core.groupby.ops.SeriesSplitter.__class_getitem__\n",
    "try:\n",
    "    obj = class_constructor()\n",
    "    ret = obj.__class_getitem__()\n",
    "    type_pandas_core_groupby_ops_SeriesSplitter___class_getitem__ = (\n",
    "    getattr(ret, '__module__', None) + '.' + ret.__class__.__name__\n",
    "        if getattr(ret, '__module__', None)\n",
    "        else ret.__class__.__name__\n",
    "        )\n",
    "    print(\"✅ pandas.core.groupby.ops.SeriesSplitter.__class_getitem__:\",\n",
    "        type_pandas_core_groupby_ops_SeriesSplitter___class_getitem__)\n",
    "except Exception as e:\n",
    "    type_pandas_core_groupby_ops_SeriesSplitter___class_getitem__ = '_syft_missing'\n",
    "    print('❌ pandas.core.groupby.ops.SeriesSplitter.__class_getitem__: Return unavailable')\n",
    "    print(\"  Please fix this return type code until there is no exception\")\n",
    "    print('   Error:', e)\n"
   ]
  },
  {
   "cell_type": "code",
   "execution_count": null,
   "id": "9796ad7e",
   "metadata": {},
   "outputs": [],
   "source": [
    "# pandas.core.groupby.ops.SeriesSplitter.__init_subclass__\n",
    "try:\n",
    "    obj = class_constructor()\n",
    "    ret = obj.__init_subclass__()\n",
    "    type_pandas_core_groupby_ops_SeriesSplitter___init_subclass__ = (\n",
    "    getattr(ret, '__module__', None) + '.' + ret.__class__.__name__\n",
    "        if getattr(ret, '__module__', None)\n",
    "        else ret.__class__.__name__\n",
    "        )\n",
    "    print(\"✅ pandas.core.groupby.ops.SeriesSplitter.__init_subclass__:\",\n",
    "        type_pandas_core_groupby_ops_SeriesSplitter___init_subclass__)\n",
    "except Exception as e:\n",
    "    type_pandas_core_groupby_ops_SeriesSplitter___init_subclass__ = '_syft_missing'\n",
    "    print('❌ pandas.core.groupby.ops.SeriesSplitter.__init_subclass__: Return unavailable')\n",
    "    print(\"  Please fix this return type code until there is no exception\")\n",
    "    print('   Error:', e)\n"
   ]
  },
  {
   "cell_type": "code",
   "execution_count": null,
   "id": "3cbd12f7",
   "metadata": {},
   "outputs": [],
   "source": [
    "# pandas.core.groupby.ops.SeriesSplitter.__iter__\n",
    "try:\n",
    "    obj = class_constructor()\n",
    "    ret = obj.__iter__()\n",
    "    type_pandas_core_groupby_ops_SeriesSplitter___iter__ = (\n",
    "    getattr(ret, '__module__', None) + '.' + ret.__class__.__name__\n",
    "        if getattr(ret, '__module__', None)\n",
    "        else ret.__class__.__name__\n",
    "        )\n",
    "    print(\"✅ pandas.core.groupby.ops.SeriesSplitter.__iter__:\",\n",
    "        type_pandas_core_groupby_ops_SeriesSplitter___iter__)\n",
    "except Exception as e:\n",
    "    type_pandas_core_groupby_ops_SeriesSplitter___iter__ = '_syft_missing'\n",
    "    print('❌ pandas.core.groupby.ops.SeriesSplitter.__iter__: Return unavailable')\n",
    "    print(\"  Please fix this return type code until there is no exception\")\n",
    "    print('   Error:', e)\n"
   ]
  }
 ],
 "metadata": {},
 "nbformat": 4,
 "nbformat_minor": 5
}
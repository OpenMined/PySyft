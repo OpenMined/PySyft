{
 "cells": [
  {
   "cell_type": "markdown",
   "id": "0ea8b97b",
   "metadata": {},
   "source": [
    "## pandas.core.base.PandasObject"
   ]
  },
  {
   "cell_type": "code",
   "execution_count": null,
   "id": "bd1c2f9f",
   "metadata": {},
   "outputs": [],
   "source": [
    "import pandas\n",
    "def class_constructor(*args, **kwargs):\n",
    "    obj = pandas.core.base.PandasObject()\n",
    "    return obj\n"
   ]
  },
  {
   "cell_type": "code",
   "execution_count": null,
   "id": "232f5102",
   "metadata": {},
   "outputs": [],
   "source": [
    "# pandas.core.base.PandasObject.__dir__\n",
    "try:\n",
    "    obj = class_constructor()\n",
    "    ret = obj.__dir__()\n",
    "    type_pandas_core_base_PandasObject___dir__ = (\n",
    "    getattr(ret, '__module__', None) + '.' + ret.__class__.__name__\n",
    "        if getattr(ret, '__module__', None)\n",
    "        else ret.__class__.__name__\n",
    "        )\n",
    "    print(\"✅ pandas.core.base.PandasObject.__dir__:\",\n",
    "        type_pandas_core_base_PandasObject___dir__)\n",
    "except Exception as e:\n",
    "    type_pandas_core_base_PandasObject___dir__ = '_syft_missing'\n",
    "    print('❌ pandas.core.base.PandasObject.__dir__: Return unavailable')\n",
    "    print(\"  Please fix this return type code until there is no exception\")\n",
    "    print('   Error:', e)\n"
   ]
  },
  {
   "cell_type": "code",
   "execution_count": null,
   "id": "f4269746",
   "metadata": {},
   "outputs": [],
   "source": [
    "# pandas.core.base.PandasObject.__sizeof__\n",
    "try:\n",
    "    obj = class_constructor()\n",
    "    ret = obj.__sizeof__()\n",
    "    type_pandas_core_base_PandasObject___sizeof__ = (\n",
    "    getattr(ret, '__module__', None) + '.' + ret.__class__.__name__\n",
    "        if getattr(ret, '__module__', None)\n",
    "        else ret.__class__.__name__\n",
    "        )\n",
    "    print(\"✅ pandas.core.base.PandasObject.__sizeof__:\",\n",
    "        type_pandas_core_base_PandasObject___sizeof__)\n",
    "except Exception as e:\n",
    "    type_pandas_core_base_PandasObject___sizeof__ = '_syft_missing'\n",
    "    print('❌ pandas.core.base.PandasObject.__sizeof__: Return unavailable')\n",
    "    print(\"  Please fix this return type code until there is no exception\")\n",
    "    print('   Error:', e)\n"
   ]
  },
  {
   "cell_type": "code",
   "execution_count": null,
   "id": "9891b563",
   "metadata": {},
   "outputs": [],
   "source": [
    "# pandas.core.base.PandasObject._constructor\n",
    "try:\n",
    "    obj = class_constructor()\n",
    "    ret = obj._constructor\n",
    "    type_pandas_core_base_PandasObject__constructor = (\n",
    "    getattr(ret, '__module__', None) + '.' + ret.__class__.__name__\n",
    "        if getattr(ret, '__module__', None)\n",
    "        else ret.__class__.__name__\n",
    "        )\n",
    "    print(\"✅ pandas.core.base.PandasObject._constructor:\",\n",
    "        type_pandas_core_base_PandasObject__constructor)\n",
    "except Exception as e:\n",
    "    type_pandas_core_base_PandasObject__constructor = '_syft_missing'\n",
    "    print('❌ pandas.core.base.PandasObject._constructor: Return unavailable')\n",
    "    print(\"  Please fix this return type code until there is no exception\")\n",
    "    print('  Error:', e)\n"
   ]
  },
  {
   "cell_type": "code",
   "execution_count": null,
   "id": "64798086",
   "metadata": {},
   "outputs": [],
   "source": [
    "# pandas.core.base.PandasObject._dir_additions\n",
    "try:\n",
    "    obj = class_constructor()\n",
    "    ret = obj._dir_additions()\n",
    "    type_pandas_core_base_PandasObject__dir_additions = (\n",
    "    getattr(ret, '__module__', None) + '.' + ret.__class__.__name__\n",
    "        if getattr(ret, '__module__', None)\n",
    "        else ret.__class__.__name__\n",
    "        )\n",
    "    print(\"✅ pandas.core.base.PandasObject._dir_additions:\",\n",
    "        type_pandas_core_base_PandasObject__dir_additions)\n",
    "except Exception as e:\n",
    "    type_pandas_core_base_PandasObject__dir_additions = '_syft_missing'\n",
    "    print('❌ pandas.core.base.PandasObject._dir_additions: Return unavailable')\n",
    "    print(\"  Please fix this return type code until there is no exception\")\n",
    "    print('   Error:', e)\n"
   ]
  },
  {
   "cell_type": "code",
   "execution_count": null,
   "id": "d40215f4",
   "metadata": {},
   "outputs": [],
   "source": [
    "# pandas.core.base.PandasObject._dir_deletions\n",
    "try:\n",
    "    obj = class_constructor()\n",
    "    ret = obj._dir_deletions()\n",
    "    type_pandas_core_base_PandasObject__dir_deletions = (\n",
    "    getattr(ret, '__module__', None) + '.' + ret.__class__.__name__\n",
    "        if getattr(ret, '__module__', None)\n",
    "        else ret.__class__.__name__\n",
    "        )\n",
    "    print(\"✅ pandas.core.base.PandasObject._dir_deletions:\",\n",
    "        type_pandas_core_base_PandasObject__dir_deletions)\n",
    "except Exception as e:\n",
    "    type_pandas_core_base_PandasObject__dir_deletions = '_syft_missing'\n",
    "    print('❌ pandas.core.base.PandasObject._dir_deletions: Return unavailable')\n",
    "    print(\"  Please fix this return type code until there is no exception\")\n",
    "    print('   Error:', e)\n"
   ]
  }
 ],
 "metadata": {},
 "nbformat": 4,
 "nbformat_minor": 5
}
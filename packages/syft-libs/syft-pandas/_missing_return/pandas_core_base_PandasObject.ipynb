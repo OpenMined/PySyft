{
 "cells": [
  {
   "cell_type": "markdown",
   "id": "6a10cde0",
   "metadata": {},
   "source": [
    "## pandas.core.base.PandasObject"
   ]
  },
  {
   "cell_type": "code",
   "execution_count": null,
   "id": "1828c7b3",
   "metadata": {},
   "outputs": [],
   "source": [
    "# pandas.core.base.PandasObject._constructor\n",
    "try:\n",
    "    obj = class_constructor()\n",
    "    ret = obj._constructor\n",
    "    type_pandas_core_base_PandasObject__constructor = (\n",
    "    getattr(ret, '__module__', None) + '.' + ret.__class__.__name__\n",
    "        if getattr(ret, '__module__', None)\n",
    "        else ret.__class__.__name__\n",
    "        )\n",
    "    print(\"✅ pandas.core.base.PandasObject._constructor:\",\n",
    "        type_pandas_core_base_PandasObject__constructor)\n",
    "except Exception as e:\n",
    "    type_pandas_core_base_PandasObject__constructor = '_syft_missing'\n",
    "    print('❌ pandas.core.base.PandasObject._constructor: Return unavailable')\n",
    "    print(\"  Please fix this return type code until there is no exception\")\n",
    "    print('  Error:', e)\n"
   ]
  }
 ],
 "metadata": {},
 "nbformat": 4,
 "nbformat_minor": 5
}
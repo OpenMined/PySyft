{
 "cells": [
  {
   "cell_type": "markdown",
   "id": "bf83703f",
   "metadata": {},
   "source": [
    "## pandas.core.sorting._KeyMapper"
   ]
  },
  {
   "cell_type": "code",
   "execution_count": null,
   "id": "5e7e3203",
   "metadata": {},
   "outputs": [],
   "source": [
    "import pandas\n",
    "def class_constructor(*args, **kwargs):\n",
    "    obj = pandas.core.sorting._KeyMapper()\n",
    "    return obj\n"
   ]
  },
  {
   "cell_type": "code",
   "execution_count": null,
   "id": "ce28ff27",
   "metadata": {},
   "outputs": [],
   "source": [
    "# pandas.core.sorting._KeyMapper._populate_tables\n",
    "try:\n",
    "    obj = class_constructor()\n",
    "    ret = obj._populate_tables()\n",
    "    type_pandas_core_sorting__KeyMapper__populate_tables = (\n",
    "    getattr(ret, '__module__', None) + '.' + ret.__class__.__name__\n",
    "        if getattr(ret, '__module__', None)\n",
    "        else ret.__class__.__name__\n",
    "        )\n",
    "    print(\"✅ pandas.core.sorting._KeyMapper._populate_tables:\",\n",
    "        type_pandas_core_sorting__KeyMapper__populate_tables)\n",
    "except Exception as e:\n",
    "    type_pandas_core_sorting__KeyMapper__populate_tables = '_syft_missing'\n",
    "    print('❌ pandas.core.sorting._KeyMapper._populate_tables: Return unavailable')\n",
    "    print(\"  Please fix this return type code until there is no exception\")\n",
    "    print('   Error:', e)\n"
   ]
  },
  {
   "cell_type": "code",
   "execution_count": null,
   "id": "c9802a72",
   "metadata": {},
   "outputs": [],
   "source": [
    "# pandas.core.sorting._KeyMapper.get_key\n",
    "try:\n",
    "    obj = class_constructor()\n",
    "    ret = obj.get_key()\n",
    "    type_pandas_core_sorting__KeyMapper_get_key = (\n",
    "    getattr(ret, '__module__', None) + '.' + ret.__class__.__name__\n",
    "        if getattr(ret, '__module__', None)\n",
    "        else ret.__class__.__name__\n",
    "        )\n",
    "    print(\"✅ pandas.core.sorting._KeyMapper.get_key:\",\n",
    "        type_pandas_core_sorting__KeyMapper_get_key)\n",
    "except Exception as e:\n",
    "    type_pandas_core_sorting__KeyMapper_get_key = '_syft_missing'\n",
    "    print('❌ pandas.core.sorting._KeyMapper.get_key: Return unavailable')\n",
    "    print(\"  Please fix this return type code until there is no exception\")\n",
    "    print('   Error:', e)\n"
   ]
  }
 ],
 "metadata": {},
 "nbformat": 4,
 "nbformat_minor": 5
}
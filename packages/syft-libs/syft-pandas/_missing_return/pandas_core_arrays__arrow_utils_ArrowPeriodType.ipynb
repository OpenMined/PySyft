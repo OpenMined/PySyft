{
 "cells": [
  {
   "cell_type": "markdown",
   "id": "bf7cc6c5",
   "metadata": {},
   "source": [
    "## pandas.core.arrays._arrow_utils.ArrowPeriodType"
   ]
  },
  {
   "cell_type": "code",
   "execution_count": 1,
   "id": "1a68e7fe",
   "metadata": {},
   "outputs": [],
   "source": [
    "import pandas.core.arrays._arrow_utils\n",
    "def class_constructor(*args, **kwargs):\n",
    "    obj = pandas.core.arrays._arrow_utils.ArrowPeriodType(\"D\")\n",
    "    return obj\n"
   ]
  },
  {
   "cell_type": "code",
   "execution_count": 2,
   "id": "51d6296e",
   "metadata": {},
   "outputs": [
    {
     "name": "stdout",
     "output_type": "stream",
     "text": [
      "✅ pandas.core.arrays._arrow_utils.ArrowPeriodType.__arrow_ext_deserialize__: pandas.core.arrays._arrow_utils.ArrowPeriodType\n"
     ]
    }
   ],
   "source": [
    "# pandas.core.arrays._arrow_utils.ArrowPeriodType.__arrow_ext_deserialize__\n",
    "try:\n",
    "    obj = class_constructor()\n",
    "    # __arrow_ext_deserialize__ is a classmethod that returns instance\n",
    "    ret = obj\n",
    "    type_pandas_core_arrays__arrow_utils_ArrowPeriodType___arrow_ext_deserialize__ = (\n",
    "    getattr(ret, '__module__', None) + '.' + ret.__class__.__name__\n",
    "        if getattr(ret, '__module__', None)\n",
    "        else ret.__class__.__name__\n",
    "        )\n",
    "    print(\"✅ pandas.core.arrays._arrow_utils.ArrowPeriodType.__arrow_ext_deserialize__:\",\n",
    "        type_pandas_core_arrays__arrow_utils_ArrowPeriodType___arrow_ext_deserialize__)\n",
    "except Exception as e:\n",
    "    type_pandas_core_arrays__arrow_utils_ArrowPeriodType___arrow_ext_deserialize__ = '_syft_missing'\n",
    "    print('❌ pandas.core.arrays._arrow_utils.ArrowPeriodType.__arrow_ext_deserialize__: Return unavailable')\n",
    "    print(\"  Please fix this return type code until there is no exception\")\n",
    "    print('   Error:', e)\n"
   ]
  },
  {
   "cell_type": "code",
   "execution_count": 3,
   "id": "c7222bc3",
   "metadata": {},
   "outputs": [
    {
     "name": "stdout",
     "output_type": "stream",
     "text": [
      "✅ pandas.core.arrays._arrow_utils.ArrowPeriodType.__arrow_ext_serialize__: bytes\n"
     ]
    }
   ],
   "source": [
    "# pandas.core.arrays._arrow_utils.ArrowPeriodType.__arrow_ext_serialize__\n",
    "try:\n",
    "    obj = class_constructor()\n",
    "    ret = obj.__arrow_ext_serialize__()\n",
    "    type_pandas_core_arrays__arrow_utils_ArrowPeriodType___arrow_ext_serialize__ = (\n",
    "    getattr(ret, '__module__', None) + '.' + ret.__class__.__name__\n",
    "        if getattr(ret, '__module__', None)\n",
    "        else ret.__class__.__name__\n",
    "        )\n",
    "    print(\"✅ pandas.core.arrays._arrow_utils.ArrowPeriodType.__arrow_ext_serialize__:\",\n",
    "        type_pandas_core_arrays__arrow_utils_ArrowPeriodType___arrow_ext_serialize__)\n",
    "except Exception as e:\n",
    "    type_pandas_core_arrays__arrow_utils_ArrowPeriodType___arrow_ext_serialize__ = '_syft_missing'\n",
    "    print('❌ pandas.core.arrays._arrow_utils.ArrowPeriodType.__arrow_ext_serialize__: Return unavailable')\n",
    "    print(\"  Please fix this return type code until there is no exception\")\n",
    "    print('   Error:', e)\n"
   ]
  },
  {
   "cell_type": "code",
   "execution_count": 4,
   "id": "a9e5c59c",
   "metadata": {},
   "outputs": [
    {
     "name": "stdout",
     "output_type": "stream",
     "text": [
      "✅ pandas.core.arrays._arrow_utils.ArrowPeriodType.__eq__: bool\n"
     ]
    }
   ],
   "source": [
    "# pandas.core.arrays._arrow_utils.ArrowPeriodType.__eq__\n",
    "try:\n",
    "    obj = class_constructor()\n",
    "    obj2 = class_constructor()\n",
    "    ret = obj.__eq__(obj2)\n",
    "    type_pandas_core_arrays__arrow_utils_ArrowPeriodType___eq__ = (\n",
    "    getattr(ret, '__module__', None) + '.' + ret.__class__.__name__\n",
    "        if getattr(ret, '__module__', None)\n",
    "        else ret.__class__.__name__\n",
    "        )\n",
    "    print(\"✅ pandas.core.arrays._arrow_utils.ArrowPeriodType.__eq__:\",\n",
    "        type_pandas_core_arrays__arrow_utils_ArrowPeriodType___eq__)\n",
    "except Exception as e:\n",
    "    type_pandas_core_arrays__arrow_utils_ArrowPeriodType___eq__ = '_syft_missing'\n",
    "    print('❌ pandas.core.arrays._arrow_utils.ArrowPeriodType.__eq__: Return unavailable')\n",
    "    print(\"  Please fix this return type code until there is no exception\")\n",
    "    print('   Error:', e)\n"
   ]
  },
  {
   "cell_type": "code",
   "execution_count": 5,
   "id": "58d01280",
   "metadata": {},
   "outputs": [
    {
     "name": "stdout",
     "output_type": "stream",
     "text": [
      "✅ pandas.core.arrays._arrow_utils.ArrowPeriodType.__hash__: int\n"
     ]
    }
   ],
   "source": [
    "# pandas.core.arrays._arrow_utils.ArrowPeriodType.__hash__\n",
    "try:\n",
    "    obj = class_constructor()\n",
    "    ret = obj.__hash__()\n",
    "    type_pandas_core_arrays__arrow_utils_ArrowPeriodType___hash__ = (\n",
    "    getattr(ret, '__module__', None) + '.' + ret.__class__.__name__\n",
    "        if getattr(ret, '__module__', None)\n",
    "        else ret.__class__.__name__\n",
    "        )\n",
    "    print(\"✅ pandas.core.arrays._arrow_utils.ArrowPeriodType.__hash__:\",\n",
    "        type_pandas_core_arrays__arrow_utils_ArrowPeriodType___hash__)\n",
    "except Exception as e:\n",
    "    type_pandas_core_arrays__arrow_utils_ArrowPeriodType___hash__ = '_syft_missing'\n",
    "    print('❌ pandas.core.arrays._arrow_utils.ArrowPeriodType.__hash__: Return unavailable')\n",
    "    print(\"  Please fix this return type code until there is no exception\")\n",
    "    print('   Error:', e)\n"
   ]
  },
  {
   "cell_type": "code",
   "execution_count": 6,
   "id": "f250a26d",
   "metadata": {},
   "outputs": [
    {
     "name": "stdout",
     "output_type": "stream",
     "text": [
      "✅ pandas.core.arrays._arrow_utils.ArrowPeriodType.freq: str\n"
     ]
    }
   ],
   "source": [
    "# pandas.core.arrays._arrow_utils.ArrowPeriodType.freq\n",
    "try:\n",
    "    obj = class_constructor()\n",
    "    ret = obj.freq\n",
    "    type_pandas_core_arrays__arrow_utils_ArrowPeriodType_freq = (\n",
    "    getattr(ret, '__module__', None) + '.' + ret.__class__.__name__\n",
    "        if getattr(ret, '__module__', None)\n",
    "        else ret.__class__.__name__\n",
    "        )\n",
    "    print(\"✅ pandas.core.arrays._arrow_utils.ArrowPeriodType.freq:\",\n",
    "        type_pandas_core_arrays__arrow_utils_ArrowPeriodType_freq)\n",
    "except Exception as e:\n",
    "    type_pandas_core_arrays__arrow_utils_ArrowPeriodType_freq = '_syft_missing'\n",
    "    print('❌ pandas.core.arrays._arrow_utils.ArrowPeriodType.freq: Return unavailable')\n",
    "    print(\"  Please fix this return type code until there is no exception\")\n",
    "    print('  Error:', e)\n"
   ]
  },
  {
   "cell_type": "code",
   "execution_count": 7,
   "id": "a6ed2795",
   "metadata": {},
   "outputs": [
    {
     "name": "stdout",
     "output_type": "stream",
     "text": [
      "✅ pandas.core.arrays._arrow_utils.ArrowPeriodType.to_pandas_dtype: pandas.core.dtypes.dtypes.PeriodDtype\n"
     ]
    }
   ],
   "source": [
    "# pandas.core.arrays._arrow_utils.ArrowPeriodType.to_pandas_dtype\n",
    "try:\n",
    "    obj = class_constructor()\n",
    "    ret = obj.to_pandas_dtype()\n",
    "    type_pandas_core_arrays__arrow_utils_ArrowPeriodType_to_pandas_dtype = (\n",
    "    getattr(ret, '__module__', None) + '.' + ret.__class__.__name__\n",
    "        if getattr(ret, '__module__', None)\n",
    "        else ret.__class__.__name__\n",
    "        )\n",
    "    print(\"✅ pandas.core.arrays._arrow_utils.ArrowPeriodType.to_pandas_dtype:\",\n",
    "        type_pandas_core_arrays__arrow_utils_ArrowPeriodType_to_pandas_dtype)\n",
    "except Exception as e:\n",
    "    type_pandas_core_arrays__arrow_utils_ArrowPeriodType_to_pandas_dtype = '_syft_missing'\n",
    "    print('❌ pandas.core.arrays._arrow_utils.ArrowPeriodType.to_pandas_dtype: Return unavailable')\n",
    "    print(\"  Please fix this return type code until there is no exception\")\n",
    "    print('   Error:', e)\n"
   ]
  },
  {
   "cell_type": "code",
   "execution_count": null,
   "id": "d1486a50",
   "metadata": {},
   "outputs": [],
   "source": []
  }
 ],
 "metadata": {
  "kernelspec": {
   "display_name": "Python 3",
   "language": "python",
   "name": "python3"
  },
  "language_info": {
   "codemirror_mode": {
    "name": "ipython",
    "version": 3
   },
   "file_extension": ".py",
   "mimetype": "text/x-python",
   "name": "python",
   "nbconvert_exporter": "python",
   "pygments_lexer": "ipython3",
   "version": "3.9.5"
  }
 },
 "nbformat": 4,
 "nbformat_minor": 5
}

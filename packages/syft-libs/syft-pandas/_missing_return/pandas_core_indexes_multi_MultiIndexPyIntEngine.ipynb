{
 "cells": [
  {
   "cell_type": "markdown",
   "id": "69310735",
   "metadata": {},
   "source": [
    "## pandas.core.indexes.multi.MultiIndexPyIntEngine"
   ]
  },
  {
   "cell_type": "code",
   "execution_count": null,
   "id": "bc7276d7",
   "metadata": {},
   "outputs": [],
   "source": [
    "import pandas\n",
    "def class_constructor(*args, **kwargs):\n",
    "    obj = pandas.core.indexes.multi.MultiIndexPyIntEngine()\n",
    "    return obj\n"
   ]
  },
  {
   "cell_type": "code",
   "execution_count": null,
   "id": "5b50f63c",
   "metadata": {},
   "outputs": [],
   "source": [
    "# pandas.core.indexes.multi.MultiIndexPyIntEngine._codes_to_ints\n",
    "try:\n",
    "    obj = class_constructor()\n",
    "    ret = obj._codes_to_ints()\n",
    "    type_pandas_core_indexes_multi_MultiIndexPyIntEngine__codes_to_ints = (\n",
    "    getattr(ret, '__module__', None) + '.' + ret.__class__.__name__\n",
    "        if getattr(ret, '__module__', None)\n",
    "        else ret.__class__.__name__\n",
    "        )\n",
    "    print(\"✅ pandas.core.indexes.multi.MultiIndexPyIntEngine._codes_to_ints:\",\n",
    "        type_pandas_core_indexes_multi_MultiIndexPyIntEngine__codes_to_ints)\n",
    "except Exception as e:\n",
    "    type_pandas_core_indexes_multi_MultiIndexPyIntEngine__codes_to_ints = '_syft_missing'\n",
    "    print('❌ pandas.core.indexes.multi.MultiIndexPyIntEngine._codes_to_ints: Return unavailable')\n",
    "    print(\"  Please fix this return type code until there is no exception\")\n",
    "    print('   Error:', e)\n"
   ]
  }
 ],
 "metadata": {},
 "nbformat": 4,
 "nbformat_minor": 5
}
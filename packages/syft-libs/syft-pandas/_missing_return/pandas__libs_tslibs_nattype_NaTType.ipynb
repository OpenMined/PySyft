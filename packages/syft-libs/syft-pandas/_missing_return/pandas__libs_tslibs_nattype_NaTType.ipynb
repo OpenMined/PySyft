{
 "cells": [
  {
   "cell_type": "markdown",
   "id": "6b082cde",
   "metadata": {},
   "source": [
    "## pandas._libs.tslibs.nattype.NaTType"
   ]
  },
  {
   "cell_type": "code",
   "execution_count": 6,
   "id": "382f26aa",
   "metadata": {},
   "outputs": [],
   "source": [
    "import pandas\n",
    "\n",
    "def class_constructor():\n",
    "    return pandas._libs.tslibs.nattype.NaTType()\n"
   ]
  },
  {
   "cell_type": "code",
   "execution_count": 8,
   "id": "d2980c17",
   "metadata": {},
   "outputs": [
    {
     "data": {
      "text/plain": [
       "NaT"
      ]
     },
     "execution_count": 8,
     "metadata": {},
     "output_type": "execute_result"
    }
   ],
   "source": [
    "obj = class_constructor()\n",
    "obj"
   ]
  },
  {
   "cell_type": "code",
   "execution_count": 9,
   "id": "438336e7",
   "metadata": {},
   "outputs": [
    {
     "name": "stdout",
     "output_type": "stream",
     "text": [
      "✅ pandas._libs.tslibs.nattype.NaTType.day: <class 'float'>\n"
     ]
    }
   ],
   "source": [
    "# pandas._libs.tslibs.nattype.NaTType.day\n",
    "try:\n",
    "    obj = class_constructor()\n",
    "    ret = obj.day\n",
    "    type_pandas__libs_tslibs_nattype_NaTType_day = getattr(ret, '__module__', 'none') + '.' + ret.__class__.__name__\n",
    "    print('✅ pandas._libs.tslibs.nattype.NaTType.day:', type(ret))\n",
    "except Exception as e:\n",
    "    type_pandas__libs_tslibs_nattype_NaTType_day = '_syft_missing'\n",
    "    print('❌ pandas._libs.tslibs.nattype.NaTType.day: Return unavailable')\n",
    "    print(\"  Please fix this return type code until there is no exception\")\n",
    "    print('  Error:', e)\n"
   ]
  },
  {
   "cell_type": "code",
   "execution_count": 10,
   "id": "eb1f03fb",
   "metadata": {},
   "outputs": [
    {
     "name": "stdout",
     "output_type": "stream",
     "text": [
      "✅ pandas._libs.tslibs.nattype.NaTType.dayofweek: <class 'float'>\n"
     ]
    }
   ],
   "source": [
    "# pandas._libs.tslibs.nattype.NaTType.dayofweek\n",
    "try:\n",
    "    obj = class_constructor()\n",
    "    ret = obj.dayofweek\n",
    "    type_pandas__libs_tslibs_nattype_NaTType_dayofweek = getattr(ret, '__module__', 'none') + '.' + ret.__class__.__name__\n",
    "    print('✅ pandas._libs.tslibs.nattype.NaTType.dayofweek:', type(ret))\n",
    "except Exception as e:\n",
    "    type_pandas__libs_tslibs_nattype_NaTType_dayofweek = '_syft_missing'\n",
    "    print('❌ pandas._libs.tslibs.nattype.NaTType.dayofweek: Return unavailable')\n",
    "    print(\"  Please fix this return type code until there is no exception\")\n",
    "    print('  Error:', e)\n"
   ]
  },
  {
   "cell_type": "code",
   "execution_count": 11,
   "id": "4aa4f5f5",
   "metadata": {},
   "outputs": [
    {
     "name": "stdout",
     "output_type": "stream",
     "text": [
      "✅ pandas._libs.tslibs.nattype.NaTType.dayofyear: <class 'float'>\n"
     ]
    }
   ],
   "source": [
    "# pandas._libs.tslibs.nattype.NaTType.dayofyear\n",
    "try:\n",
    "    obj = class_constructor()\n",
    "    ret = obj.dayofyear\n",
    "    type_pandas__libs_tslibs_nattype_NaTType_dayofyear = getattr(ret, '__module__', 'none') + '.' + ret.__class__.__name__\n",
    "    print('✅ pandas._libs.tslibs.nattype.NaTType.dayofyear:', type(ret))\n",
    "except Exception as e:\n",
    "    type_pandas__libs_tslibs_nattype_NaTType_dayofyear = '_syft_missing'\n",
    "    print('❌ pandas._libs.tslibs.nattype.NaTType.dayofyear: Return unavailable')\n",
    "    print(\"  Please fix this return type code until there is no exception\")\n",
    "    print('  Error:', e)\n"
   ]
  },
  {
   "cell_type": "code",
   "execution_count": 12,
   "id": "59b6f23a",
   "metadata": {},
   "outputs": [
    {
     "name": "stdout",
     "output_type": "stream",
     "text": [
      "✅ pandas._libs.tslibs.nattype.NaTType.days: <class 'float'>\n"
     ]
    }
   ],
   "source": [
    "# pandas._libs.tslibs.nattype.NaTType.days\n",
    "try:\n",
    "    obj = class_constructor()\n",
    "    ret = obj.days\n",
    "    type_pandas__libs_tslibs_nattype_NaTType_days = getattr(ret, '__module__', 'none') + '.' + ret.__class__.__name__\n",
    "    print('✅ pandas._libs.tslibs.nattype.NaTType.days:', type(ret))\n",
    "except Exception as e:\n",
    "    type_pandas__libs_tslibs_nattype_NaTType_days = '_syft_missing'\n",
    "    print('❌ pandas._libs.tslibs.nattype.NaTType.days: Return unavailable')\n",
    "    print(\"  Please fix this return type code until there is no exception\")\n",
    "    print('  Error:', e)\n"
   ]
  },
  {
   "cell_type": "code",
   "execution_count": 13,
   "id": "615bb10a",
   "metadata": {},
   "outputs": [
    {
     "name": "stdout",
     "output_type": "stream",
     "text": [
      "✅ pandas._libs.tslibs.nattype.NaTType.days_in_month: <class 'float'>\n"
     ]
    }
   ],
   "source": [
    "# pandas._libs.tslibs.nattype.NaTType.days_in_month\n",
    "try:\n",
    "    obj = class_constructor()\n",
    "    ret = obj.days_in_month\n",
    "    type_pandas__libs_tslibs_nattype_NaTType_days_in_month = getattr(ret, '__module__', 'none') + '.' + ret.__class__.__name__\n",
    "    print('✅ pandas._libs.tslibs.nattype.NaTType.days_in_month:', type(ret))\n",
    "except Exception as e:\n",
    "    type_pandas__libs_tslibs_nattype_NaTType_days_in_month = '_syft_missing'\n",
    "    print('❌ pandas._libs.tslibs.nattype.NaTType.days_in_month: Return unavailable')\n",
    "    print(\"  Please fix this return type code until there is no exception\")\n",
    "    print('  Error:', e)\n"
   ]
  },
  {
   "cell_type": "code",
   "execution_count": 14,
   "id": "0876e326",
   "metadata": {},
   "outputs": [
    {
     "name": "stdout",
     "output_type": "stream",
     "text": [
      "✅ pandas._libs.tslibs.nattype.NaTType.daysinmonth: <class 'float'>\n"
     ]
    }
   ],
   "source": [
    "# pandas._libs.tslibs.nattype.NaTType.daysinmonth\n",
    "try:\n",
    "    obj = class_constructor()\n",
    "    ret = obj.daysinmonth\n",
    "    type_pandas__libs_tslibs_nattype_NaTType_daysinmonth = getattr(ret, '__module__', 'none') + '.' + ret.__class__.__name__\n",
    "    print('✅ pandas._libs.tslibs.nattype.NaTType.daysinmonth:', type(ret))\n",
    "except Exception as e:\n",
    "    type_pandas__libs_tslibs_nattype_NaTType_daysinmonth = '_syft_missing'\n",
    "    print('❌ pandas._libs.tslibs.nattype.NaTType.daysinmonth: Return unavailable')\n",
    "    print(\"  Please fix this return type code until there is no exception\")\n",
    "    print('  Error:', e)\n"
   ]
  },
  {
   "cell_type": "code",
   "execution_count": 15,
   "id": "0b8dbf18",
   "metadata": {},
   "outputs": [
    {
     "name": "stdout",
     "output_type": "stream",
     "text": [
      "✅ pandas._libs.tslibs.nattype.NaTType.hour: <class 'float'>\n"
     ]
    }
   ],
   "source": [
    "# pandas._libs.tslibs.nattype.NaTType.hour\n",
    "try:\n",
    "    obj = class_constructor()\n",
    "    ret = obj.hour\n",
    "    type_pandas__libs_tslibs_nattype_NaTType_hour = getattr(ret, '__module__', 'none') + '.' + ret.__class__.__name__\n",
    "    print('✅ pandas._libs.tslibs.nattype.NaTType.hour:', type(ret))\n",
    "except Exception as e:\n",
    "    type_pandas__libs_tslibs_nattype_NaTType_hour = '_syft_missing'\n",
    "    print('❌ pandas._libs.tslibs.nattype.NaTType.hour: Return unavailable')\n",
    "    print(\"  Please fix this return type code until there is no exception\")\n",
    "    print('  Error:', e)\n"
   ]
  },
  {
   "cell_type": "code",
   "execution_count": 16,
   "id": "69a5d8a9",
   "metadata": {},
   "outputs": [
    {
     "name": "stdout",
     "output_type": "stream",
     "text": [
      "✅ pandas._libs.tslibs.nattype.NaTType.microsecond: <class 'float'>\n"
     ]
    }
   ],
   "source": [
    "# pandas._libs.tslibs.nattype.NaTType.microsecond\n",
    "try:\n",
    "    obj = class_constructor()\n",
    "    ret = obj.microsecond\n",
    "    type_pandas__libs_tslibs_nattype_NaTType_microsecond = getattr(ret, '__module__', 'none') + '.' + ret.__class__.__name__\n",
    "    print('✅ pandas._libs.tslibs.nattype.NaTType.microsecond:', type(ret))\n",
    "except Exception as e:\n",
    "    type_pandas__libs_tslibs_nattype_NaTType_microsecond = '_syft_missing'\n",
    "    print('❌ pandas._libs.tslibs.nattype.NaTType.microsecond: Return unavailable')\n",
    "    print(\"  Please fix this return type code until there is no exception\")\n",
    "    print('  Error:', e)\n"
   ]
  },
  {
   "cell_type": "code",
   "execution_count": 17,
   "id": "bc261ed6",
   "metadata": {},
   "outputs": [
    {
     "name": "stdout",
     "output_type": "stream",
     "text": [
      "✅ pandas._libs.tslibs.nattype.NaTType.microseconds: <class 'float'>\n"
     ]
    }
   ],
   "source": [
    "# pandas._libs.tslibs.nattype.NaTType.microseconds\n",
    "try:\n",
    "    obj = class_constructor()\n",
    "    ret = obj.microseconds\n",
    "    type_pandas__libs_tslibs_nattype_NaTType_microseconds = getattr(ret, '__module__', 'none') + '.' + ret.__class__.__name__\n",
    "    print('✅ pandas._libs.tslibs.nattype.NaTType.microseconds:', type(ret))\n",
    "except Exception as e:\n",
    "    type_pandas__libs_tslibs_nattype_NaTType_microseconds = '_syft_missing'\n",
    "    print('❌ pandas._libs.tslibs.nattype.NaTType.microseconds: Return unavailable')\n",
    "    print(\"  Please fix this return type code until there is no exception\")\n",
    "    print('  Error:', e)\n"
   ]
  },
  {
   "cell_type": "code",
   "execution_count": 18,
   "id": "d85e9958",
   "metadata": {},
   "outputs": [
    {
     "name": "stdout",
     "output_type": "stream",
     "text": [
      "✅ pandas._libs.tslibs.nattype.NaTType.millisecond: <class 'float'>\n"
     ]
    }
   ],
   "source": [
    "# pandas._libs.tslibs.nattype.NaTType.millisecond\n",
    "try:\n",
    "    obj = class_constructor()\n",
    "    ret = obj.millisecond\n",
    "    type_pandas__libs_tslibs_nattype_NaTType_millisecond = getattr(ret, '__module__', 'none') + '.' + ret.__class__.__name__\n",
    "    print('✅ pandas._libs.tslibs.nattype.NaTType.millisecond:', type(ret))\n",
    "except Exception as e:\n",
    "    type_pandas__libs_tslibs_nattype_NaTType_millisecond = '_syft_missing'\n",
    "    print('❌ pandas._libs.tslibs.nattype.NaTType.millisecond: Return unavailable')\n",
    "    print(\"  Please fix this return type code until there is no exception\")\n",
    "    print('  Error:', e)\n"
   ]
  },
  {
   "cell_type": "code",
   "execution_count": 19,
   "id": "58d87602",
   "metadata": {},
   "outputs": [
    {
     "name": "stdout",
     "output_type": "stream",
     "text": [
      "✅ pandas._libs.tslibs.nattype.NaTType.minute: <class 'float'>\n"
     ]
    }
   ],
   "source": [
    "# pandas._libs.tslibs.nattype.NaTType.minute\n",
    "try:\n",
    "    obj = class_constructor()\n",
    "    ret = obj.minute\n",
    "    type_pandas__libs_tslibs_nattype_NaTType_minute = getattr(ret, '__module__', 'none') + '.' + ret.__class__.__name__\n",
    "    print('✅ pandas._libs.tslibs.nattype.NaTType.minute:', type(ret))\n",
    "except Exception as e:\n",
    "    type_pandas__libs_tslibs_nattype_NaTType_minute = '_syft_missing'\n",
    "    print('❌ pandas._libs.tslibs.nattype.NaTType.minute: Return unavailable')\n",
    "    print(\"  Please fix this return type code until there is no exception\")\n",
    "    print('  Error:', e)\n"
   ]
  },
  {
   "cell_type": "code",
   "execution_count": 20,
   "id": "c573d63b",
   "metadata": {},
   "outputs": [
    {
     "name": "stdout",
     "output_type": "stream",
     "text": [
      "✅ pandas._libs.tslibs.nattype.NaTType.month: <class 'float'>\n"
     ]
    }
   ],
   "source": [
    "# pandas._libs.tslibs.nattype.NaTType.month\n",
    "try:\n",
    "    obj = class_constructor()\n",
    "    ret = obj.month\n",
    "    type_pandas__libs_tslibs_nattype_NaTType_month = getattr(ret, '__module__', 'none') + '.' + ret.__class__.__name__\n",
    "    print('✅ pandas._libs.tslibs.nattype.NaTType.month:', type(ret))\n",
    "except Exception as e:\n",
    "    type_pandas__libs_tslibs_nattype_NaTType_month = '_syft_missing'\n",
    "    print('❌ pandas._libs.tslibs.nattype.NaTType.month: Return unavailable')\n",
    "    print(\"  Please fix this return type code until there is no exception\")\n",
    "    print('  Error:', e)\n"
   ]
  },
  {
   "cell_type": "code",
   "execution_count": 21,
   "id": "6e752588",
   "metadata": {},
   "outputs": [
    {
     "name": "stdout",
     "output_type": "stream",
     "text": [
      "✅ pandas._libs.tslibs.nattype.NaTType.nanosecond: <class 'float'>\n"
     ]
    }
   ],
   "source": [
    "# pandas._libs.tslibs.nattype.NaTType.nanosecond\n",
    "try:\n",
    "    obj = class_constructor()\n",
    "    ret = obj.nanosecond\n",
    "    type_pandas__libs_tslibs_nattype_NaTType_nanosecond = getattr(ret, '__module__', 'none') + '.' + ret.__class__.__name__\n",
    "    print('✅ pandas._libs.tslibs.nattype.NaTType.nanosecond:', type(ret))\n",
    "except Exception as e:\n",
    "    type_pandas__libs_tslibs_nattype_NaTType_nanosecond = '_syft_missing'\n",
    "    print('❌ pandas._libs.tslibs.nattype.NaTType.nanosecond: Return unavailable')\n",
    "    print(\"  Please fix this return type code until there is no exception\")\n",
    "    print('  Error:', e)\n"
   ]
  },
  {
   "cell_type": "code",
   "execution_count": 22,
   "id": "c484fda7",
   "metadata": {},
   "outputs": [
    {
     "name": "stdout",
     "output_type": "stream",
     "text": [
      "✅ pandas._libs.tslibs.nattype.NaTType.nanoseconds: <class 'float'>\n"
     ]
    }
   ],
   "source": [
    "# pandas._libs.tslibs.nattype.NaTType.nanoseconds\n",
    "try:\n",
    "    obj = class_constructor()\n",
    "    ret = obj.nanoseconds\n",
    "    type_pandas__libs_tslibs_nattype_NaTType_nanoseconds = getattr(ret, '__module__', 'none') + '.' + ret.__class__.__name__\n",
    "    print('✅ pandas._libs.tslibs.nattype.NaTType.nanoseconds:', type(ret))\n",
    "except Exception as e:\n",
    "    type_pandas__libs_tslibs_nattype_NaTType_nanoseconds = '_syft_missing'\n",
    "    print('❌ pandas._libs.tslibs.nattype.NaTType.nanoseconds: Return unavailable')\n",
    "    print(\"  Please fix this return type code until there is no exception\")\n",
    "    print('  Error:', e)\n"
   ]
  },
  {
   "cell_type": "code",
   "execution_count": 23,
   "id": "28c4a5af",
   "metadata": {},
   "outputs": [
    {
     "name": "stdout",
     "output_type": "stream",
     "text": [
      "✅ pandas._libs.tslibs.nattype.NaTType.quarter: <class 'float'>\n"
     ]
    }
   ],
   "source": [
    "# pandas._libs.tslibs.nattype.NaTType.quarter\n",
    "try:\n",
    "    obj = class_constructor()\n",
    "    ret = obj.quarter\n",
    "    type_pandas__libs_tslibs_nattype_NaTType_quarter = getattr(ret, '__module__', 'none') + '.' + ret.__class__.__name__\n",
    "    print('✅ pandas._libs.tslibs.nattype.NaTType.quarter:', type(ret))\n",
    "except Exception as e:\n",
    "    type_pandas__libs_tslibs_nattype_NaTType_quarter = '_syft_missing'\n",
    "    print('❌ pandas._libs.tslibs.nattype.NaTType.quarter: Return unavailable')\n",
    "    print(\"  Please fix this return type code until there is no exception\")\n",
    "    print('  Error:', e)\n"
   ]
  },
  {
   "cell_type": "code",
   "execution_count": 24,
   "id": "01fc9928",
   "metadata": {},
   "outputs": [
    {
     "name": "stdout",
     "output_type": "stream",
     "text": [
      "✅ pandas._libs.tslibs.nattype.NaTType.qyear: <class 'float'>\n"
     ]
    }
   ],
   "source": [
    "# pandas._libs.tslibs.nattype.NaTType.qyear\n",
    "try:\n",
    "    obj = class_constructor()\n",
    "    ret = obj.qyear\n",
    "    type_pandas__libs_tslibs_nattype_NaTType_qyear = getattr(ret, '__module__', 'none') + '.' + ret.__class__.__name__\n",
    "    print('✅ pandas._libs.tslibs.nattype.NaTType.qyear:', type(ret))\n",
    "except Exception as e:\n",
    "    type_pandas__libs_tslibs_nattype_NaTType_qyear = '_syft_missing'\n",
    "    print('❌ pandas._libs.tslibs.nattype.NaTType.qyear: Return unavailable')\n",
    "    print(\"  Please fix this return type code until there is no exception\")\n",
    "    print('  Error:', e)\n"
   ]
  },
  {
   "cell_type": "code",
   "execution_count": 25,
   "id": "7442e55d",
   "metadata": {},
   "outputs": [
    {
     "name": "stdout",
     "output_type": "stream",
     "text": [
      "✅ pandas._libs.tslibs.nattype.NaTType.second: <class 'float'>\n"
     ]
    }
   ],
   "source": [
    "# pandas._libs.tslibs.nattype.NaTType.second\n",
    "try:\n",
    "    obj = class_constructor()\n",
    "    ret = obj.second\n",
    "    type_pandas__libs_tslibs_nattype_NaTType_second = getattr(ret, '__module__', 'none') + '.' + ret.__class__.__name__\n",
    "    print('✅ pandas._libs.tslibs.nattype.NaTType.second:', type(ret))\n",
    "except Exception as e:\n",
    "    type_pandas__libs_tslibs_nattype_NaTType_second = '_syft_missing'\n",
    "    print('❌ pandas._libs.tslibs.nattype.NaTType.second: Return unavailable')\n",
    "    print(\"  Please fix this return type code until there is no exception\")\n",
    "    print('  Error:', e)\n"
   ]
  },
  {
   "cell_type": "code",
   "execution_count": 26,
   "id": "30b83d51",
   "metadata": {},
   "outputs": [
    {
     "name": "stdout",
     "output_type": "stream",
     "text": [
      "✅ pandas._libs.tslibs.nattype.NaTType.seconds: <class 'float'>\n"
     ]
    }
   ],
   "source": [
    "# pandas._libs.tslibs.nattype.NaTType.seconds\n",
    "try:\n",
    "    obj = class_constructor()\n",
    "    ret = obj.seconds\n",
    "    type_pandas__libs_tslibs_nattype_NaTType_seconds = getattr(ret, '__module__', 'none') + '.' + ret.__class__.__name__\n",
    "    print('✅ pandas._libs.tslibs.nattype.NaTType.seconds:', type(ret))\n",
    "except Exception as e:\n",
    "    type_pandas__libs_tslibs_nattype_NaTType_seconds = '_syft_missing'\n",
    "    print('❌ pandas._libs.tslibs.nattype.NaTType.seconds: Return unavailable')\n",
    "    print(\"  Please fix this return type code until there is no exception\")\n",
    "    print('  Error:', e)\n"
   ]
  },
  {
   "cell_type": "code",
   "execution_count": 27,
   "id": "c7e4ed90",
   "metadata": {},
   "outputs": [
    {
     "name": "stdout",
     "output_type": "stream",
     "text": [
      "✅ pandas._libs.tslibs.nattype.NaTType.week: <class 'float'>\n"
     ]
    }
   ],
   "source": [
    "# pandas._libs.tslibs.nattype.NaTType.week\n",
    "try:\n",
    "    obj = class_constructor()\n",
    "    ret = obj.week\n",
    "    type_pandas__libs_tslibs_nattype_NaTType_week = getattr(ret, '__module__', 'none') + '.' + ret.__class__.__name__\n",
    "    print('✅ pandas._libs.tslibs.nattype.NaTType.week:', type(ret))\n",
    "except Exception as e:\n",
    "    type_pandas__libs_tslibs_nattype_NaTType_week = '_syft_missing'\n",
    "    print('❌ pandas._libs.tslibs.nattype.NaTType.week: Return unavailable')\n",
    "    print(\"  Please fix this return type code until there is no exception\")\n",
    "    print('  Error:', e)\n"
   ]
  },
  {
   "cell_type": "code",
   "execution_count": 28,
   "id": "f4cba070",
   "metadata": {},
   "outputs": [
    {
     "name": "stdout",
     "output_type": "stream",
     "text": [
      "✅ pandas._libs.tslibs.nattype.NaTType.weekofyear: <class 'float'>\n"
     ]
    }
   ],
   "source": [
    "# pandas._libs.tslibs.nattype.NaTType.weekofyear\n",
    "try:\n",
    "    obj = class_constructor()\n",
    "    ret = obj.weekofyear\n",
    "    type_pandas__libs_tslibs_nattype_NaTType_weekofyear = getattr(ret, '__module__', 'none') + '.' + ret.__class__.__name__\n",
    "    print('✅ pandas._libs.tslibs.nattype.NaTType.weekofyear:', type(ret))\n",
    "except Exception as e:\n",
    "    type_pandas__libs_tslibs_nattype_NaTType_weekofyear = '_syft_missing'\n",
    "    print('❌ pandas._libs.tslibs.nattype.NaTType.weekofyear: Return unavailable')\n",
    "    print(\"  Please fix this return type code until there is no exception\")\n",
    "    print('  Error:', e)\n"
   ]
  },
  {
   "cell_type": "code",
   "execution_count": 30,
   "id": "e5dcd7cd",
   "metadata": {},
   "outputs": [
    {
     "name": "stdout",
     "output_type": "stream",
     "text": [
      "✅ pandas._libs.tslibs.nattype.NaTType.year: <class 'float'>\n"
     ]
    }
   ],
   "source": [
    "# pandas._libs.tslibs.nattype.NaTType.year\n",
    "try:\n",
    "    obj = class_constructor()\n",
    "    ret = obj.year\n",
    "    type_pandas__libs_tslibs_nattype_NaTType_year = getattr(ret, '__module__', 'none') + '.' + ret.__class__.__name__\n",
    "    print('✅ pandas._libs.tslibs.nattype.NaTType.year:', type(ret))\n",
    "except Exception as e:\n",
    "    type_pandas__libs_tslibs_nattype_NaTType_year = '_syft_missing'\n",
    "    print('❌ pandas._libs.tslibs.nattype.NaTType.year: Return unavailable')\n",
    "    print(\"  Please fix this return type code until there is no exception\")\n",
    "    print('  Error:', e)\n"
   ]
  },
  {
   "cell_type": "code",
   "execution_count": 31,
   "id": "8e32b019",
   "metadata": {},
   "outputs": [
    {
     "data": {
      "text/plain": [
       "'none.float'"
      ]
     },
     "execution_count": 31,
     "metadata": {},
     "output_type": "execute_result"
    }
   ],
   "source": [
    "type_pandas__libs_tslibs_nattype_NaTType_day"
   ]
  },
  {
   "cell_type": "code",
   "execution_count": null,
   "id": "95bade47",
   "metadata": {},
   "outputs": [],
   "source": []
  }
 ],
 "metadata": {
  "kernelspec": {
   "display_name": "Python 3",
   "language": "python",
   "name": "python3"
  },
  "language_info": {
   "codemirror_mode": {
    "name": "ipython",
    "version": 3
   },
   "file_extension": ".py",
   "mimetype": "text/x-python",
   "name": "python",
   "nbconvert_exporter": "python",
   "pygments_lexer": "ipython3",
   "version": "3.9.5"
  }
 },
 "nbformat": 4,
 "nbformat_minor": 5
}

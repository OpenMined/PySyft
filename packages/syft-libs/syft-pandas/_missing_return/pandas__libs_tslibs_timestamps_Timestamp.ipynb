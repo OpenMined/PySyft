{
 "cells": [
  {
   "cell_type": "markdown",
   "id": "d8e214d4",
   "metadata": {},
   "source": [
    "## pandas._libs.tslibs.timestamps.Timestamp"
   ]
  },
  {
   "cell_type": "code",
   "execution_count": 8,
   "id": "32bcdea3",
   "metadata": {},
   "outputs": [],
   "source": [
    "import pandas\n",
    "def class_constructor(*args, **kwargs):\n",
    "    obj = pandas._libs.tslibs.timestamps.Timestamp(0)\n",
    "    return obj\n"
   ]
  },
  {
   "cell_type": "code",
   "execution_count": 9,
   "id": "6a7be9db",
   "metadata": {},
   "outputs": [
    {
     "data": {
      "text/plain": [
       "Timestamp('1970-01-01 00:00:00')"
      ]
     },
     "execution_count": 9,
     "metadata": {},
     "output_type": "execute_result"
    }
   ],
   "source": [
    "class_constructor()"
   ]
  },
  {
   "cell_type": "code",
   "execution_count": 21,
   "id": "01425671",
   "metadata": {},
   "outputs": [],
   "source": [
    "from datetime import date,time"
   ]
  },
  {
   "cell_type": "code",
   "execution_count": 22,
   "id": "9584965a",
   "metadata": {},
   "outputs": [
    {
     "name": "stdout",
     "output_type": "stream",
     "text": [
      "✅ pandas._libs.tslibs.timestamps.Timestamp.combine:  <class 'pandas._libs.tslibs.timestamps.Timestamp'>\n"
     ]
    }
   ],
   "source": [
    "# pandas._libs.tslibs.timestamps.Timestamp.combine\n",
    "try:\n",
    "    obj = class_constructor()\n",
    "    ret = obj.combine(date(2020, 3, 14), time(15, 30, 15))\n",
    "    type_pandas__libs_tslibs_timestamps_Timestamp_combine = getattr(ret, '__module__', 'none') + '.' + ret.__class__.__name__\n",
    "    print('✅ pandas._libs.tslibs.timestamps.Timestamp.combine: ', type(ret))\n",
    "except Exception as e:\n",
    "    type_pandas__libs_tslibs_timestamps_Timestamp_combine = '_syft_missing'\n",
    "    print('❌ pandas._libs.tslibs.timestamps.Timestamp.combine: Return unavailable')\n",
    "    print(\"  Please fix this return type code until there is no exception\")\n",
    "    print('  Error:', e)\n"
   ]
  },
  {
   "cell_type": "code",
   "execution_count": 23,
   "id": "60b994fc",
   "metadata": {},
   "outputs": [
    {
     "name": "stdout",
     "output_type": "stream",
     "text": [
      "✅ pandas._libs.tslibs.timestamps.Timestamp.freqstr: <class 'NoneType'>\n"
     ]
    }
   ],
   "source": [
    "# pandas._libs.tslibs.timestamps.Timestamp.freqstr\n",
    "try:\n",
    "    obj = class_constructor()\n",
    "    ret = obj.freqstr\n",
    "    type_pandas__libs_tslibs_timestamps_Timestamp_freqstr = getattr(ret, '__module__', 'none') + '.' + ret.__class__.__name__\n",
    "    print('✅ pandas._libs.tslibs.timestamps.Timestamp.freqstr:', type(ret))\n",
    "except Exception as e:\n",
    "    type_pandas__libs_tslibs_timestamps_Timestamp_freqstr = '_syft_missing'\n",
    "    print('❌ pandas._libs.tslibs.timestamps.Timestamp.freqstr: Return unavailable')\n",
    "    print(\"  Please fix this return type code until there is no exception\")\n",
    "    print('  Error:', e)\n"
   ]
  },
  {
   "cell_type": "code",
   "execution_count": 25,
   "id": "4bb93f43",
   "metadata": {},
   "outputs": [
    {
     "name": "stdout",
     "output_type": "stream",
     "text": [
      "✅ pandas._libs.tslibs.timestamps.Timestamp.fromordinal:  <class 'pandas._libs.tslibs.timestamps.Timestamp'>\n"
     ]
    }
   ],
   "source": [
    "# pandas._libs.tslibs.timestamps.Timestamp.fromordinal\n",
    "try:\n",
    "    obj = class_constructor()\n",
    "    ret = obj.fromordinal(737425)\n",
    "    type_pandas__libs_tslibs_timestamps_Timestamp_fromordinal = getattr(ret, '__module__', 'none') + '.' + ret.__class__.__name__\n",
    "    print('✅ pandas._libs.tslibs.timestamps.Timestamp.fromordinal: ', type(ret))\n",
    "except Exception as e:\n",
    "    type_pandas__libs_tslibs_timestamps_Timestamp_fromordinal = '_syft_missing'\n",
    "    print('❌ pandas._libs.tslibs.timestamps.Timestamp.fromordinal: Return unavailable')\n",
    "    print(\"  Please fix this return type code until there is no exception\")\n",
    "    print('  Error:', e)\n"
   ]
  },
  {
   "cell_type": "code",
   "execution_count": 26,
   "id": "d0cb98ec",
   "metadata": {},
   "outputs": [
    {
     "name": "stdout",
     "output_type": "stream",
     "text": [
      "✅ pandas._libs.tslibs.timestamps.Timestamp.fromtimestamp:  <class 'pandas._libs.tslibs.timestamps.Timestamp'>\n"
     ]
    }
   ],
   "source": [
    "# pandas._libs.tslibs.timestamps.Timestamp.fromtimestamp\n",
    "try:\n",
    "    obj = class_constructor()\n",
    "    ret = obj.fromtimestamp(1584199972)\n",
    "    type_pandas__libs_tslibs_timestamps_Timestamp_fromtimestamp = getattr(ret, '__module__', 'none') + '.' + ret.__class__.__name__\n",
    "    print('✅ pandas._libs.tslibs.timestamps.Timestamp.fromtimestamp: ', type(ret))\n",
    "except Exception as e:\n",
    "    type_pandas__libs_tslibs_timestamps_Timestamp_fromtimestamp = '_syft_missing'\n",
    "    print('❌ pandas._libs.tslibs.timestamps.Timestamp.fromtimestamp: Return unavailable')\n",
    "    print(\"  Please fix this return type code until there is no exception\")\n",
    "    print('  Error:', e)\n"
   ]
  },
  {
   "cell_type": "code",
   "execution_count": 27,
   "id": "695697dc",
   "metadata": {},
   "outputs": [
    {
     "name": "stdout",
     "output_type": "stream",
     "text": [
      "✅ pandas._libs.tslibs.timestamps.Timestamp.now:  <class 'pandas._libs.tslibs.timestamps.Timestamp'>\n"
     ]
    }
   ],
   "source": [
    "# pandas._libs.tslibs.timestamps.Timestamp.now\n",
    "try:\n",
    "    obj = class_constructor()\n",
    "    ret = obj.now()\n",
    "    type_pandas__libs_tslibs_timestamps_Timestamp_now = getattr(ret, '__module__', 'none') + '.' + ret.__class__.__name__\n",
    "    print('✅ pandas._libs.tslibs.timestamps.Timestamp.now: ', type(ret))\n",
    "except Exception as e:\n",
    "    type_pandas__libs_tslibs_timestamps_Timestamp_now = '_syft_missing'\n",
    "    print('❌ pandas._libs.tslibs.timestamps.Timestamp.now: Return unavailable')\n",
    "    print(\"  Please fix this return type code until there is no exception\")\n",
    "    print('  Error:', e)\n"
   ]
  },
  {
   "cell_type": "code",
   "execution_count": 28,
   "id": "1312dec9",
   "metadata": {},
   "outputs": [
    {
     "name": "stdout",
     "output_type": "stream",
     "text": [
      "❌ pandas._libs.tslibs.timestamps.Timestamp.strptime: Return unavailable\n",
      "  Please fix this return type code until there is no exception\n",
      "  Error: Timestamp.strptime() is not implemented. Use to_datetime() to parse date strings.\n"
     ]
    }
   ],
   "source": [
    "# pandas._libs.tslibs.timestamps.Timestamp.strptime\n",
    "try:\n",
    "    obj = class_constructor()\n",
    "    ret = obj.strptime(\"01022020\",\"ddmmyyyy\")\n",
    "    type_pandas__libs_tslibs_timestamps_Timestamp_strptime = getattr(ret, '__module__', 'none') + '.' + ret.__class__.__name__\n",
    "    print('✅ pandas._libs.tslibs.timestamps.Timestamp.strptime: ', type(ret))\n",
    "except Exception as e:\n",
    "    type_pandas__libs_tslibs_timestamps_Timestamp_strptime = '_syft_missing'\n",
    "    print('❌ pandas._libs.tslibs.timestamps.Timestamp.strptime: Return unavailable')\n",
    "    print(\"  Please fix this return type code until there is no exception\")\n",
    "    print('  Error:', e)\n"
   ]
  },
  {
   "cell_type": "code",
   "execution_count": 29,
   "id": "392c9436",
   "metadata": {},
   "outputs": [
    {
     "name": "stdout",
     "output_type": "stream",
     "text": [
      "✅ pandas._libs.tslibs.timestamps.Timestamp.today:  <class 'pandas._libs.tslibs.timestamps.Timestamp'>\n"
     ]
    }
   ],
   "source": [
    "# pandas._libs.tslibs.timestamps.Timestamp.today\n",
    "try:\n",
    "    obj = class_constructor()\n",
    "    ret = obj.today()\n",
    "    type_pandas__libs_tslibs_timestamps_Timestamp_today = getattr(ret, '__module__', 'none') + '.' + ret.__class__.__name__\n",
    "    print('✅ pandas._libs.tslibs.timestamps.Timestamp.today: ', type(ret))\n",
    "except Exception as e:\n",
    "    type_pandas__libs_tslibs_timestamps_Timestamp_today = '_syft_missing'\n",
    "    print('❌ pandas._libs.tslibs.timestamps.Timestamp.today: Return unavailable')\n",
    "    print(\"  Please fix this return type code until there is no exception\")\n",
    "    print('  Error:', e)\n"
   ]
  },
  {
   "cell_type": "code",
   "execution_count": 30,
   "id": "cdb27c4b",
   "metadata": {},
   "outputs": [
    {
     "name": "stdout",
     "output_type": "stream",
     "text": [
      "✅ pandas._libs.tslibs.timestamps.Timestamp.tz: <class 'NoneType'>\n"
     ]
    }
   ],
   "source": [
    "# pandas._libs.tslibs.timestamps.Timestamp.tz\n",
    "try:\n",
    "    obj = class_constructor()\n",
    "    ret = obj.tz\n",
    "    type_pandas__libs_tslibs_timestamps_Timestamp_tz = getattr(ret, '__module__', 'none') + '.' + ret.__class__.__name__\n",
    "    print('✅ pandas._libs.tslibs.timestamps.Timestamp.tz:', type(ret))\n",
    "except Exception as e:\n",
    "    type_pandas__libs_tslibs_timestamps_Timestamp_tz = '_syft_missing'\n",
    "    print('❌ pandas._libs.tslibs.timestamps.Timestamp.tz: Return unavailable')\n",
    "    print(\"  Please fix this return type code until there is no exception\")\n",
    "    print('  Error:', e)\n"
   ]
  },
  {
   "cell_type": "code",
   "execution_count": 31,
   "id": "5c74a8fc",
   "metadata": {},
   "outputs": [
    {
     "name": "stdout",
     "output_type": "stream",
     "text": [
      "✅ pandas._libs.tslibs.timestamps.Timestamp.utcfromtimestamp:  <class 'pandas._libs.tslibs.timestamps.Timestamp'>\n"
     ]
    }
   ],
   "source": [
    "# pandas._libs.tslibs.timestamps.Timestamp.utcfromtimestamp\n",
    "try:\n",
    "    obj = class_constructor()\n",
    "    ret = obj.utcfromtimestamp(12345)\n",
    "    type_pandas__libs_tslibs_timestamps_Timestamp_utcfromtimestamp = getattr(ret, '__module__', 'none') + '.' + ret.__class__.__name__\n",
    "    print('✅ pandas._libs.tslibs.timestamps.Timestamp.utcfromtimestamp: ', type(ret))\n",
    "except Exception as e:\n",
    "    type_pandas__libs_tslibs_timestamps_Timestamp_utcfromtimestamp = '_syft_missing'\n",
    "    print('❌ pandas._libs.tslibs.timestamps.Timestamp.utcfromtimestamp: Return unavailable')\n",
    "    print(\"  Please fix this return type code until there is no exception\")\n",
    "    print('  Error:', e)\n"
   ]
  },
  {
   "cell_type": "code",
   "execution_count": 32,
   "id": "3b14b759",
   "metadata": {},
   "outputs": [
    {
     "name": "stdout",
     "output_type": "stream",
     "text": [
      "✅ pandas._libs.tslibs.timestamps.Timestamp.utcnow:  <class 'pandas._libs.tslibs.timestamps.Timestamp'>\n"
     ]
    }
   ],
   "source": [
    "# pandas._libs.tslibs.timestamps.Timestamp.utcnow\n",
    "try:\n",
    "    obj = class_constructor()\n",
    "    ret = obj.utcnow()\n",
    "    type_pandas__libs_tslibs_timestamps_Timestamp_utcnow = getattr(ret, '__module__', 'none') + '.' + ret.__class__.__name__\n",
    "    print('✅ pandas._libs.tslibs.timestamps.Timestamp.utcnow: ', type(ret))\n",
    "except Exception as e:\n",
    "    type_pandas__libs_tslibs_timestamps_Timestamp_utcnow = '_syft_missing'\n",
    "    print('❌ pandas._libs.tslibs.timestamps.Timestamp.utcnow: Return unavailable')\n",
    "    print(\"  Please fix this return type code until there is no exception\")\n",
    "    print('  Error:', e)\n"
   ]
  },
  {
   "cell_type": "code",
   "execution_count": null,
   "id": "77039777",
   "metadata": {},
   "outputs": [],
   "source": []
  }
 ],
 "metadata": {
  "kernelspec": {
   "display_name": "Python 3",
   "language": "python",
   "name": "python3"
  },
  "language_info": {
   "codemirror_mode": {
    "name": "ipython",
    "version": 3
   },
   "file_extension": ".py",
   "mimetype": "text/x-python",
   "name": "python",
   "nbconvert_exporter": "python",
   "pygments_lexer": "ipython3",
   "version": "3.9.5"
  }
 },
 "nbformat": 4,
 "nbformat_minor": 5
}

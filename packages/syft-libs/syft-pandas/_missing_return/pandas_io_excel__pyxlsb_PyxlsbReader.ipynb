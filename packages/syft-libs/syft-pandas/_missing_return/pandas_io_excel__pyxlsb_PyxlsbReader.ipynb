{
 "cells": [
  {
   "cell_type": "markdown",
   "id": "0baf33bd",
   "metadata": {},
   "source": [
    "## pandas.io.excel._pyxlsb.PyxlsbReader"
   ]
  },
  {
   "cell_type": "code",
   "execution_count": null,
   "id": "06f4b250",
   "metadata": {},
   "outputs": [],
   "source": [
    "# pandas.io.excel._pyxlsb.PyxlsbReader._workbook_class\n",
    "try:\n",
    "    obj = class_constructor()\n",
    "    ret = obj._workbook_class\n",
    "    type_pandas_io_excel__pyxlsb_PyxlsbReader__workbook_class = (\n",
    "    getattr(ret, '__module__', None) + '.' + ret.__class__.__name__\n",
    "        if getattr(ret, '__module__', None)\n",
    "        else ret.__class__.__name__\n",
    "        )\n",
    "    print(\"✅ pandas.io.excel._pyxlsb.PyxlsbReader._workbook_class:\",\n",
    "        type_pandas_io_excel__pyxlsb_PyxlsbReader__workbook_class)\n",
    "except Exception as e:\n",
    "    type_pandas_io_excel__pyxlsb_PyxlsbReader__workbook_class = '_syft_missing'\n",
    "    print('❌ pandas.io.excel._pyxlsb.PyxlsbReader._workbook_class: Return unavailable')\n",
    "    print(\"  Please fix this return type code until there is no exception\")\n",
    "    print('  Error:', e)\n"
   ]
  },
  {
   "cell_type": "code",
   "execution_count": null,
   "id": "9c97527c",
   "metadata": {},
   "outputs": [],
   "source": [
    "# pandas.io.excel._pyxlsb.PyxlsbReader.close\n",
    "try:\n",
    "    obj = class_constructor()\n",
    "    ret = obj.close()\n",
    "    type_pandas_io_excel__pyxlsb_PyxlsbReader_close = (\n",
    "    getattr(ret, '__module__', None) + '.' + ret.__class__.__name__\n",
    "        if getattr(ret, '__module__', None)\n",
    "        else ret.__class__.__name__\n",
    "        )\n",
    "    print(\"✅ pandas.io.excel._pyxlsb.PyxlsbReader.close:\",\n",
    "        type_pandas_io_excel__pyxlsb_PyxlsbReader_close)\n",
    "except Exception as e:\n",
    "    type_pandas_io_excel__pyxlsb_PyxlsbReader_close = '_syft_missing'\n",
    "    print('❌ pandas.io.excel._pyxlsb.PyxlsbReader.close: Return unavailable')\n",
    "    print(\"  Please fix this return type code until there is no exception\")\n",
    "    print('   Error:', e)\n"
   ]
  },
  {
   "cell_type": "code",
   "execution_count": null,
   "id": "00a1dac2",
   "metadata": {},
   "outputs": [],
   "source": [
    "# pandas.io.excel._pyxlsb.PyxlsbReader.get_sheet_by_index\n",
    "try:\n",
    "    obj = class_constructor()\n",
    "    ret = obj.get_sheet_by_index()\n",
    "    type_pandas_io_excel__pyxlsb_PyxlsbReader_get_sheet_by_index = (\n",
    "    getattr(ret, '__module__', None) + '.' + ret.__class__.__name__\n",
    "        if getattr(ret, '__module__', None)\n",
    "        else ret.__class__.__name__\n",
    "        )\n",
    "    print(\"✅ pandas.io.excel._pyxlsb.PyxlsbReader.get_sheet_by_index:\",\n",
    "        type_pandas_io_excel__pyxlsb_PyxlsbReader_get_sheet_by_index)\n",
    "except Exception as e:\n",
    "    type_pandas_io_excel__pyxlsb_PyxlsbReader_get_sheet_by_index = '_syft_missing'\n",
    "    print('❌ pandas.io.excel._pyxlsb.PyxlsbReader.get_sheet_by_index: Return unavailable')\n",
    "    print(\"  Please fix this return type code until there is no exception\")\n",
    "    print('   Error:', e)\n"
   ]
  },
  {
   "cell_type": "code",
   "execution_count": null,
   "id": "1efac959",
   "metadata": {},
   "outputs": [],
   "source": [
    "# pandas.io.excel._pyxlsb.PyxlsbReader.get_sheet_by_name\n",
    "try:\n",
    "    obj = class_constructor()\n",
    "    ret = obj.get_sheet_by_name()\n",
    "    type_pandas_io_excel__pyxlsb_PyxlsbReader_get_sheet_by_name = (\n",
    "    getattr(ret, '__module__', None) + '.' + ret.__class__.__name__\n",
    "        if getattr(ret, '__module__', None)\n",
    "        else ret.__class__.__name__\n",
    "        )\n",
    "    print(\"✅ pandas.io.excel._pyxlsb.PyxlsbReader.get_sheet_by_name:\",\n",
    "        type_pandas_io_excel__pyxlsb_PyxlsbReader_get_sheet_by_name)\n",
    "except Exception as e:\n",
    "    type_pandas_io_excel__pyxlsb_PyxlsbReader_get_sheet_by_name = '_syft_missing'\n",
    "    print('❌ pandas.io.excel._pyxlsb.PyxlsbReader.get_sheet_by_name: Return unavailable')\n",
    "    print(\"  Please fix this return type code until there is no exception\")\n",
    "    print('   Error:', e)\n"
   ]
  },
  {
   "cell_type": "code",
   "execution_count": null,
   "id": "6819b746",
   "metadata": {},
   "outputs": [],
   "source": [
    "# pandas.io.excel._pyxlsb.PyxlsbReader.sheet_names\n",
    "try:\n",
    "    obj = class_constructor()\n",
    "    ret = obj.sheet_names\n",
    "    type_pandas_io_excel__pyxlsb_PyxlsbReader_sheet_names = (\n",
    "    getattr(ret, '__module__', None) + '.' + ret.__class__.__name__\n",
    "        if getattr(ret, '__module__', None)\n",
    "        else ret.__class__.__name__\n",
    "        )\n",
    "    print(\"✅ pandas.io.excel._pyxlsb.PyxlsbReader.sheet_names:\",\n",
    "        type_pandas_io_excel__pyxlsb_PyxlsbReader_sheet_names)\n",
    "except Exception as e:\n",
    "    type_pandas_io_excel__pyxlsb_PyxlsbReader_sheet_names = '_syft_missing'\n",
    "    print('❌ pandas.io.excel._pyxlsb.PyxlsbReader.sheet_names: Return unavailable')\n",
    "    print(\"  Please fix this return type code until there is no exception\")\n",
    "    print('  Error:', e)\n"
   ]
  }
 ],
 "metadata": {},
 "nbformat": 4,
 "nbformat_minor": 5
}
{
 "cells": [
  {
   "cell_type": "markdown",
   "id": "3d8d8627",
   "metadata": {},
   "source": [
    "## pandas.io.formats.info.BaseInfo"
   ]
  },
  {
   "cell_type": "code",
   "execution_count": null,
   "id": "3bb6ef80",
   "metadata": {},
   "outputs": [],
   "source": [
    "# pandas.io.formats.info.BaseInfo.dtype_counts\n",
    "try:\n",
    "    obj = class_constructor()\n",
    "    ret = obj.dtype_counts\n",
    "    type_pandas_io_formats_info_BaseInfo_dtype_counts = (\n",
    "    getattr(ret, '__module__', None) + '.' + ret.__class__.__name__\n",
    "        if getattr(ret, '__module__', None)\n",
    "        else ret.__class__.__name__\n",
    "        )\n",
    "    print(\"✅ pandas.io.formats.info.BaseInfo.dtype_counts:\",\n",
    "        type_pandas_io_formats_info_BaseInfo_dtype_counts)\n",
    "except Exception as e:\n",
    "    type_pandas_io_formats_info_BaseInfo_dtype_counts = '_syft_missing'\n",
    "    print('❌ pandas.io.formats.info.BaseInfo.dtype_counts: Return unavailable')\n",
    "    print(\"  Please fix this return type code until there is no exception\")\n",
    "    print('  Error:', e)\n"
   ]
  },
  {
   "cell_type": "code",
   "execution_count": null,
   "id": "8a112219",
   "metadata": {},
   "outputs": [],
   "source": [
    "# pandas.io.formats.info.BaseInfo.dtypes\n",
    "try:\n",
    "    obj = class_constructor()\n",
    "    ret = obj.dtypes\n",
    "    type_pandas_io_formats_info_BaseInfo_dtypes = (\n",
    "    getattr(ret, '__module__', None) + '.' + ret.__class__.__name__\n",
    "        if getattr(ret, '__module__', None)\n",
    "        else ret.__class__.__name__\n",
    "        )\n",
    "    print(\"✅ pandas.io.formats.info.BaseInfo.dtypes:\",\n",
    "        type_pandas_io_formats_info_BaseInfo_dtypes)\n",
    "except Exception as e:\n",
    "    type_pandas_io_formats_info_BaseInfo_dtypes = '_syft_missing'\n",
    "    print('❌ pandas.io.formats.info.BaseInfo.dtypes: Return unavailable')\n",
    "    print(\"  Please fix this return type code until there is no exception\")\n",
    "    print('  Error:', e)\n"
   ]
  },
  {
   "cell_type": "code",
   "execution_count": null,
   "id": "bc329a0f",
   "metadata": {},
   "outputs": [],
   "source": [
    "# pandas.io.formats.info.BaseInfo.memory_usage_bytes\n",
    "try:\n",
    "    obj = class_constructor()\n",
    "    ret = obj.memory_usage_bytes\n",
    "    type_pandas_io_formats_info_BaseInfo_memory_usage_bytes = (\n",
    "    getattr(ret, '__module__', None) + '.' + ret.__class__.__name__\n",
    "        if getattr(ret, '__module__', None)\n",
    "        else ret.__class__.__name__\n",
    "        )\n",
    "    print(\"✅ pandas.io.formats.info.BaseInfo.memory_usage_bytes:\",\n",
    "        type_pandas_io_formats_info_BaseInfo_memory_usage_bytes)\n",
    "except Exception as e:\n",
    "    type_pandas_io_formats_info_BaseInfo_memory_usage_bytes = '_syft_missing'\n",
    "    print('❌ pandas.io.formats.info.BaseInfo.memory_usage_bytes: Return unavailable')\n",
    "    print(\"  Please fix this return type code until there is no exception\")\n",
    "    print('  Error:', e)\n"
   ]
  },
  {
   "cell_type": "code",
   "execution_count": null,
   "id": "8ef8d340",
   "metadata": {},
   "outputs": [],
   "source": [
    "# pandas.io.formats.info.BaseInfo.memory_usage_string\n",
    "try:\n",
    "    obj = class_constructor()\n",
    "    ret = obj.memory_usage_string\n",
    "    type_pandas_io_formats_info_BaseInfo_memory_usage_string = (\n",
    "    getattr(ret, '__module__', None) + '.' + ret.__class__.__name__\n",
    "        if getattr(ret, '__module__', None)\n",
    "        else ret.__class__.__name__\n",
    "        )\n",
    "    print(\"✅ pandas.io.formats.info.BaseInfo.memory_usage_string:\",\n",
    "        type_pandas_io_formats_info_BaseInfo_memory_usage_string)\n",
    "except Exception as e:\n",
    "    type_pandas_io_formats_info_BaseInfo_memory_usage_string = '_syft_missing'\n",
    "    print('❌ pandas.io.formats.info.BaseInfo.memory_usage_string: Return unavailable')\n",
    "    print(\"  Please fix this return type code until there is no exception\")\n",
    "    print('  Error:', e)\n"
   ]
  },
  {
   "cell_type": "code",
   "execution_count": null,
   "id": "8d325693",
   "metadata": {},
   "outputs": [],
   "source": [
    "# pandas.io.formats.info.BaseInfo.non_null_counts\n",
    "try:\n",
    "    obj = class_constructor()\n",
    "    ret = obj.non_null_counts\n",
    "    type_pandas_io_formats_info_BaseInfo_non_null_counts = (\n",
    "    getattr(ret, '__module__', None) + '.' + ret.__class__.__name__\n",
    "        if getattr(ret, '__module__', None)\n",
    "        else ret.__class__.__name__\n",
    "        )\n",
    "    print(\"✅ pandas.io.formats.info.BaseInfo.non_null_counts:\",\n",
    "        type_pandas_io_formats_info_BaseInfo_non_null_counts)\n",
    "except Exception as e:\n",
    "    type_pandas_io_formats_info_BaseInfo_non_null_counts = '_syft_missing'\n",
    "    print('❌ pandas.io.formats.info.BaseInfo.non_null_counts: Return unavailable')\n",
    "    print(\"  Please fix this return type code until there is no exception\")\n",
    "    print('  Error:', e)\n"
   ]
  },
  {
   "cell_type": "code",
   "execution_count": null,
   "id": "2bc6033d",
   "metadata": {},
   "outputs": [],
   "source": [
    "# pandas.io.formats.info.BaseInfo.size_qualifier\n",
    "try:\n",
    "    obj = class_constructor()\n",
    "    ret = obj.size_qualifier\n",
    "    type_pandas_io_formats_info_BaseInfo_size_qualifier = (\n",
    "    getattr(ret, '__module__', None) + '.' + ret.__class__.__name__\n",
    "        if getattr(ret, '__module__', None)\n",
    "        else ret.__class__.__name__\n",
    "        )\n",
    "    print(\"✅ pandas.io.formats.info.BaseInfo.size_qualifier:\",\n",
    "        type_pandas_io_formats_info_BaseInfo_size_qualifier)\n",
    "except Exception as e:\n",
    "    type_pandas_io_formats_info_BaseInfo_size_qualifier = '_syft_missing'\n",
    "    print('❌ pandas.io.formats.info.BaseInfo.size_qualifier: Return unavailable')\n",
    "    print(\"  Please fix this return type code until there is no exception\")\n",
    "    print('  Error:', e)\n"
   ]
  }
 ],
 "metadata": {},
 "nbformat": 4,
 "nbformat_minor": 5
}
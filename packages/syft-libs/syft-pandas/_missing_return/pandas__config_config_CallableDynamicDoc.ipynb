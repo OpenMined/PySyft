{
 "cells": [
  {
   "cell_type": "markdown",
   "id": "e9fd5d7d",
   "metadata": {},
   "source": [
    "## pandas._config.config.CallableDynamicDoc"
   ]
  },
  {
   "cell_type": "code",
   "execution_count": null,
   "id": "0b05ab2c",
   "metadata": {},
   "outputs": [],
   "source": [
    "import pandas\n",
    "def class_constructor(*args, **kwargs):\n",
    "    obj = pandas._config.config.CallableDynamicDoc()\n",
    "    return obj\n"
   ]
  },
  {
   "cell_type": "code",
   "execution_count": null,
   "id": "8b0a2ba7",
   "metadata": {},
   "outputs": [],
   "source": [
    "# pandas._config.config.CallableDynamicDoc.__call__\n",
    "try:\n",
    "    obj = class_constructor()\n",
    "    ret = obj.__call__()\n",
    "    type_pandas__config_config_CallableDynamicDoc___call__ = (\n",
    "    getattr(ret, '__module__', None) + '.' + ret.__class__.__name__\n",
    "        if getattr(ret, '__module__', None)\n",
    "        else ret.__class__.__name__\n",
    "        )\n",
    "    print(\"✅ pandas._config.config.CallableDynamicDoc.__call__:\",\n",
    "        type_pandas__config_config_CallableDynamicDoc___call__)\n",
    "except Exception as e:\n",
    "    type_pandas__config_config_CallableDynamicDoc___call__ = '_syft_missing'\n",
    "    print('❌ pandas._config.config.CallableDynamicDoc.__call__: Return unavailable')\n",
    "    print(\"  Please fix this return type code until there is no exception\")\n",
    "    print('   Error:', e)\n"
   ]
  },
  {
   "cell_type": "code",
   "execution_count": null,
   "id": "547296a4",
   "metadata": {},
   "outputs": [],
   "source": [
    "# pandas._config.config.CallableDynamicDoc.__doc__\n",
    "try:\n",
    "    obj = class_constructor()\n",
    "    ret = obj.__doc__\n",
    "    type_pandas__config_config_CallableDynamicDoc___doc__ = (\n",
    "    getattr(ret, '__module__', None) + '.' + ret.__class__.__name__\n",
    "        if getattr(ret, '__module__', None)\n",
    "        else ret.__class__.__name__\n",
    "        )\n",
    "    print(\"✅ pandas._config.config.CallableDynamicDoc.__doc__:\",\n",
    "        type_pandas__config_config_CallableDynamicDoc___doc__)\n",
    "except Exception as e:\n",
    "    type_pandas__config_config_CallableDynamicDoc___doc__ = '_syft_missing'\n",
    "    print('❌ pandas._config.config.CallableDynamicDoc.__doc__: Return unavailable')\n",
    "    print(\"  Please fix this return type code until there is no exception\")\n",
    "    print('  Error:', e)\n"
   ]
  }
 ],
 "metadata": {},
 "nbformat": 4,
 "nbformat_minor": 5
}
{
 "cells": [
  {
   "cell_type": "markdown",
   "id": "67116370",
   "metadata": {},
   "source": [
    "## pandas._config.config.CallableDynamicDoc"
   ]
  },
  {
   "cell_type": "code",
   "execution_count": 1,
   "id": "318a1e33",
   "metadata": {},
   "outputs": [],
   "source": [
    "import pandas\n",
    "def class_constructor(*args, **kwargs):\n",
    "    obj = pandas._config.config.CallableDynamicDoc()\n",
    "    return obj\n"
   ]
  },
  {
   "cell_type": "code",
   "execution_count": 2,
   "id": "690bf761",
   "metadata": {},
   "outputs": [
    {
     "name": "stdout",
     "output_type": "stream",
     "text": [
      "❌ pandas._config.config.CallableDynamicDoc.__call__: Return unavailable\n",
      "  Please fix this return type code until there is no exception\n",
      "   Error: __init__() missing 2 required positional arguments: 'func' and 'doc_tmpl'\n"
     ]
    }
   ],
   "source": [
    "# pandas._config.config.CallableDynamicDoc.__call__\n",
    "try:\n",
    "    obj = class_constructor()\n",
    "    ret = obj.__call__()\n",
    "    type_pandas__config_config_CallableDynamicDoc___call__ = (\n",
    "    getattr(ret, '__module__', None) + '.' + ret.__class__.__name__\n",
    "        if getattr(ret, '__module__', None)\n",
    "        else ret.__class__.__name__\n",
    "        )\n",
    "    print(\"✅ pandas._config.config.CallableDynamicDoc.__call__:\",\n",
    "        type_pandas__config_config_CallableDynamicDoc___call__)\n",
    "except Exception as e:\n",
    "    type_pandas__config_config_CallableDynamicDoc___call__ = '_syft_missing'\n",
    "    print('❌ pandas._config.config.CallableDynamicDoc.__call__: Return unavailable')\n",
    "    print(\"  Please fix this return type code until there is no exception\")\n",
    "    print('   Error:', e)\n"
   ]
  },
  {
   "cell_type": "code",
   "execution_count": 3,
   "id": "5f5915f4",
   "metadata": {},
   "outputs": [
    {
     "name": "stdout",
     "output_type": "stream",
     "text": [
      "✅ pandas._config.config.CallableDynamicDoc.__doc__: str\n"
     ]
    }
   ],
   "source": [
    "# pandas._config.config.CallableDynamicDoc.__doc__\n",
    "try:\n",
    "    obj = pandas._config.config.CallableDynamicDoc(lambda x:x,\"\")\n",
    "    ret = obj.__doc__\n",
    "    type_pandas__config_config_CallableDynamicDoc___doc__ = (\n",
    "    getattr(ret, '__module__', None) + '.' + ret.__class__.__name__\n",
    "        if getattr(ret, '__module__', None)\n",
    "        else ret.__class__.__name__\n",
    "        )\n",
    "    print(\"✅ pandas._config.config.CallableDynamicDoc.__doc__:\",\n",
    "        type_pandas__config_config_CallableDynamicDoc___doc__)\n",
    "except Exception as e:\n",
    "    type_pandas__config_config_CallableDynamicDoc___doc__ = '_syft_missing'\n",
    "    print('❌ pandas._config.config.CallableDynamicDoc.__doc__: Return unavailable')\n",
    "    print(\"  Please fix this return type code until there is no exception\")\n",
    "    print('  Error:', e)\n"
   ]
  },
  {
   "cell_type": "code",
   "execution_count": null,
   "id": "7366daa1",
   "metadata": {},
   "outputs": [],
   "source": []
  }
 ],
 "metadata": {
  "kernelspec": {
   "display_name": "Python 3",
   "language": "python",
   "name": "python3"
  },
  "language_info": {
   "codemirror_mode": {
    "name": "ipython",
    "version": 3
   },
   "file_extension": ".py",
   "mimetype": "text/x-python",
   "name": "python",
   "nbconvert_exporter": "python",
   "pygments_lexer": "ipython3",
   "version": "3.9.5"
  }
 },
 "nbformat": 4,
 "nbformat_minor": 5
}

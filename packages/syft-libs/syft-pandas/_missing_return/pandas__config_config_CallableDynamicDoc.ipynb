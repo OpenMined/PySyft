{
 "cells": [
  {
   "cell_type": "markdown",
   "id": "6de04641",
   "metadata": {},
   "source": [
    "## pandas._config.config.CallableDynamicDoc"
   ]
  },
  {
   "cell_type": "code",
   "execution_count": 18,
   "id": "c79be98e",
   "metadata": {},
   "outputs": [],
   "source": [
    "import pandas\n",
    "def f():\n",
    "    pass\n",
    "def class_constructor(*args, **kwargs):    \n",
    "    #return pandas.describe_option(\"compute.use_bottleneck\")\n",
    "    return pandas._config.config.CallableDynamicDoc(f, \"txt\")"
   ]
  },
  {
   "cell_type": "code",
   "execution_count": 24,
   "id": "36b1d2bd",
   "metadata": {},
   "outputs": [
    {
     "name": "stdout",
     "output_type": "stream",
     "text": [
      "✅ pandas._config.config.CallableDynamicDoc.__call__:  NoneType\n"
     ]
    }
   ],
   "source": [
    "# pandas._config.config.CallableDynamicDoc.__call__\n",
    "try:\n",
    "    obj = class_constructor()\n",
    "    ret = obj.__call__()\n",
    "    \n",
    "    \n",
    "    type_pandas__config_config_CallableDynamicDoc___call__ = (\n",
    "                getattr(ret, \"__module__\", None) + \".\" + ret.__class__.__name__\n",
    "                if getattr(ret, \"__module__\", None)\n",
    "                else ret.__class__.__name__\n",
    "            )\n",
    "    print(\"✅ pandas._config.config.CallableDynamicDoc.__call__: \",\n",
    "            type_pandas__config_config_CallableDynamicDoc___call__)\n",
    "    \n",
    "except Exception as e:\n",
    "    type_pandas__config_config_CallableDynamicDoc___call__ = '_syft_missing'\n",
    "    print('❌ pandas._config.config.CallableDynamicDoc.__call__: Return unavailable')\n",
    "    print(\"  Please fix this return type code until there is no exception\")\n",
    "    print('  Error:', e)\n"
   ]
  },
  {
   "cell_type": "code",
   "execution_count": 20,
   "id": "71de542f",
   "metadata": {},
   "outputs": [
    {
     "name": "stdout",
     "output_type": "stream",
     "text": [
      "✅ pandas._config.config.CallableDynamicDoc.__doc__: <class 'str'>\n"
     ]
    }
   ],
   "source": [
    "# pandas._config.config.CallableDynamicDoc.__doc__\n",
    "try:\n",
    "    obj = class_constructor()\n",
    "    ret = obj.__doc__\n",
    "    type_pandas__config_config_CallableDynamicDoc___doc__ = getattr(ret, '__module__', 'none') + '.' + ret.__class__.__name__\n",
    "    print('✅ pandas._config.config.CallableDynamicDoc.__doc__:', type(ret))\n",
    "except Exception as e:\n",
    "    type_pandas__config_config_CallableDynamicDoc___doc__ = '_syft_missing'\n",
    "    print('❌ pandas._config.config.CallableDynamicDoc.__doc__: Return unavailable')\n",
    "    print(\"  Please fix this return type code until there is no exception\")\n",
    "    print('  Error:', e)\n"
   ]
  },
  {
   "cell_type": "code",
   "execution_count": null,
   "id": "60cb1c18",
   "metadata": {},
   "outputs": [],
   "source": []
  }
 ],
 "metadata": {
  "kernelspec": {
   "display_name": "Python 3",
   "language": "python",
   "name": "python3"
  },
  "language_info": {
   "codemirror_mode": {
    "name": "ipython",
    "version": 3
   },
   "file_extension": ".py",
   "mimetype": "text/x-python",
   "name": "python",
   "nbconvert_exporter": "python",
   "pygments_lexer": "ipython3",
   "version": "3.9.5"
  }
 },
 "nbformat": 4,
 "nbformat_minor": 5
}

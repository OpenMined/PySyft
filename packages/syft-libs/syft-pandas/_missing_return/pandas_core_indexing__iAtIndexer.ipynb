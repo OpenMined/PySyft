{
 "cells": [
  {
   "cell_type": "markdown",
   "id": "89bd8919",
   "metadata": {},
   "source": [
    "## pandas.core.indexing._iAtIndexer"
   ]
  },
  {
   "cell_type": "code",
   "execution_count": null,
   "id": "a2abf3ee",
   "metadata": {},
   "outputs": [],
   "source": [
    "import pandas\n",
    "def class_constructor(*args, **kwargs):\n",
    "    obj = pandas.core.indexing._iAtIndexer()\n",
    "    return obj\n"
   ]
  },
  {
   "cell_type": "code",
   "execution_count": null,
   "id": "2247b0bd",
   "metadata": {},
   "outputs": [],
   "source": [
    "# pandas.core.indexing._iAtIndexer.__getitem__\n",
    "try:\n",
    "    obj = class_constructor()\n",
    "    ret = obj.__getitem__()\n",
    "    type_pandas_core_indexing__iAtIndexer___getitem__ = (\n",
    "    getattr(ret, '__module__', None) + '.' + ret.__class__.__name__\n",
    "        if getattr(ret, '__module__', None)\n",
    "        else ret.__class__.__name__\n",
    "        )\n",
    "    print(\"✅ pandas.core.indexing._iAtIndexer.__getitem__:\",\n",
    "        type_pandas_core_indexing__iAtIndexer___getitem__)\n",
    "except Exception as e:\n",
    "    type_pandas_core_indexing__iAtIndexer___getitem__ = '_syft_missing'\n",
    "    print('❌ pandas.core.indexing._iAtIndexer.__getitem__: Return unavailable')\n",
    "    print(\"  Please fix this return type code until there is no exception\")\n",
    "    print('   Error:', e)\n"
   ]
  },
  {
   "cell_type": "code",
   "execution_count": null,
   "id": "2440aa52",
   "metadata": {},
   "outputs": [],
   "source": [
    "# pandas.core.indexing._iAtIndexer.__setitem__\n",
    "try:\n",
    "    obj = class_constructor()\n",
    "    ret = obj.__setitem__()\n",
    "    type_pandas_core_indexing__iAtIndexer___setitem__ = (\n",
    "    getattr(ret, '__module__', None) + '.' + ret.__class__.__name__\n",
    "        if getattr(ret, '__module__', None)\n",
    "        else ret.__class__.__name__\n",
    "        )\n",
    "    print(\"✅ pandas.core.indexing._iAtIndexer.__setitem__:\",\n",
    "        type_pandas_core_indexing__iAtIndexer___setitem__)\n",
    "except Exception as e:\n",
    "    type_pandas_core_indexing__iAtIndexer___setitem__ = '_syft_missing'\n",
    "    print('❌ pandas.core.indexing._iAtIndexer.__setitem__: Return unavailable')\n",
    "    print(\"  Please fix this return type code until there is no exception\")\n",
    "    print('   Error:', e)\n"
   ]
  },
  {
   "cell_type": "code",
   "execution_count": null,
   "id": "c5ebbe42",
   "metadata": {},
   "outputs": [],
   "source": [
    "# pandas.core.indexing._iAtIndexer._convert_key\n",
    "try:\n",
    "    obj = class_constructor()\n",
    "    ret = obj._convert_key()\n",
    "    type_pandas_core_indexing__iAtIndexer__convert_key = (\n",
    "    getattr(ret, '__module__', None) + '.' + ret.__class__.__name__\n",
    "        if getattr(ret, '__module__', None)\n",
    "        else ret.__class__.__name__\n",
    "        )\n",
    "    print(\"✅ pandas.core.indexing._iAtIndexer._convert_key:\",\n",
    "        type_pandas_core_indexing__iAtIndexer__convert_key)\n",
    "except Exception as e:\n",
    "    type_pandas_core_indexing__iAtIndexer__convert_key = '_syft_missing'\n",
    "    print('❌ pandas.core.indexing._iAtIndexer._convert_key: Return unavailable')\n",
    "    print(\"  Please fix this return type code until there is no exception\")\n",
    "    print('   Error:', e)\n"
   ]
  }
 ],
 "metadata": {},
 "nbformat": 4,
 "nbformat_minor": 5
}
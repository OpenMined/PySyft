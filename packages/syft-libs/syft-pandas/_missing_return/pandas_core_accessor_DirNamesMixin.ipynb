{
 "cells": [
  {
   "cell_type": "markdown",
   "id": "71d9f1e1",
   "metadata": {},
   "source": [
    "## pandas.core.accessor.DirNamesMixin"
   ]
  },
  {
   "cell_type": "code",
   "execution_count": 1,
   "id": "92b93de9",
   "metadata": {},
   "outputs": [],
   "source": [
    "import pandas\n",
    "def class_constructor(*args, **kwargs):\n",
    "    obj = pandas.core.accessor.DirNamesMixin()\n",
    "    return obj\n"
   ]
  },
  {
   "cell_type": "code",
   "execution_count": 2,
   "id": "2989e2d3",
   "metadata": {},
   "outputs": [
    {
     "name": "stdout",
     "output_type": "stream",
     "text": [
      "✅ pandas.core.accessor.DirNamesMixin.__dir__: list\n"
     ]
    }
   ],
   "source": [
    "# pandas.core.accessor.DirNamesMixin.__dir__\n",
    "try:\n",
    "    obj = class_constructor()\n",
    "    ret = obj.__dir__()\n",
    "    type_pandas_core_accessor_DirNamesMixin___dir__ = (\n",
    "    getattr(ret, '__module__', None) + '.' + ret.__class__.__name__\n",
    "        if getattr(ret, '__module__', None)\n",
    "        else ret.__class__.__name__\n",
    "        )\n",
    "    print(\"✅ pandas.core.accessor.DirNamesMixin.__dir__:\",\n",
    "        type_pandas_core_accessor_DirNamesMixin___dir__)\n",
    "except Exception as e:\n",
    "    type_pandas_core_accessor_DirNamesMixin___dir__ = '_syft_missing'\n",
    "    print('❌ pandas.core.accessor.DirNamesMixin.__dir__: Return unavailable')\n",
    "    print(\"  Please fix this return type code until there is no exception\")\n",
    "    print('   Error:', e)\n"
   ]
  },
  {
   "cell_type": "code",
   "execution_count": 3,
   "id": "c52fe453",
   "metadata": {},
   "outputs": [
    {
     "name": "stdout",
     "output_type": "stream",
     "text": [
      "✅ pandas.core.accessor.DirNamesMixin._dir_additions: set\n"
     ]
    }
   ],
   "source": [
    "# pandas.core.accessor.DirNamesMixin._dir_additions\n",
    "try:\n",
    "    obj = class_constructor()\n",
    "    ret = obj._dir_additions()\n",
    "    type_pandas_core_accessor_DirNamesMixin__dir_additions = (\n",
    "    getattr(ret, '__module__', None) + '.' + ret.__class__.__name__\n",
    "        if getattr(ret, '__module__', None)\n",
    "        else ret.__class__.__name__\n",
    "        )\n",
    "    print(\"✅ pandas.core.accessor.DirNamesMixin._dir_additions:\",\n",
    "        type_pandas_core_accessor_DirNamesMixin__dir_additions)\n",
    "except Exception as e:\n",
    "    type_pandas_core_accessor_DirNamesMixin__dir_additions = '_syft_missing'\n",
    "    print('❌ pandas.core.accessor.DirNamesMixin._dir_additions: Return unavailable')\n",
    "    print(\"  Please fix this return type code until there is no exception\")\n",
    "    print('   Error:', e)\n"
   ]
  },
  {
   "cell_type": "code",
   "execution_count": 4,
   "id": "ba853986",
   "metadata": {},
   "outputs": [
    {
     "name": "stdout",
     "output_type": "stream",
     "text": [
      "✅ pandas.core.accessor.DirNamesMixin._dir_deletions: set\n"
     ]
    }
   ],
   "source": [
    "# pandas.core.accessor.DirNamesMixin._dir_deletions\n",
    "try:\n",
    "    obj = class_constructor()\n",
    "    ret = obj._dir_deletions()\n",
    "    type_pandas_core_accessor_DirNamesMixin__dir_deletions = (\n",
    "    getattr(ret, '__module__', None) + '.' + ret.__class__.__name__\n",
    "        if getattr(ret, '__module__', None)\n",
    "        else ret.__class__.__name__\n",
    "        )\n",
    "    print(\"✅ pandas.core.accessor.DirNamesMixin._dir_deletions:\",\n",
    "        type_pandas_core_accessor_DirNamesMixin__dir_deletions)\n",
    "except Exception as e:\n",
    "    type_pandas_core_accessor_DirNamesMixin__dir_deletions = '_syft_missing'\n",
    "    print('❌ pandas.core.accessor.DirNamesMixin._dir_deletions: Return unavailable')\n",
    "    print(\"  Please fix this return type code until there is no exception\")\n",
    "    print('   Error:', e)\n"
   ]
  },
  {
   "cell_type": "code",
   "execution_count": null,
   "id": "f0dc6340",
   "metadata": {},
   "outputs": [],
   "source": []
  }
 ],
 "metadata": {
  "kernelspec": {
   "display_name": "Python 3",
   "language": "python",
   "name": "python3"
  },
  "language_info": {
   "codemirror_mode": {
    "name": "ipython",
    "version": 3
   },
   "file_extension": ".py",
   "mimetype": "text/x-python",
   "name": "python",
   "nbconvert_exporter": "python",
   "pygments_lexer": "ipython3",
   "version": "3.9.5"
  }
 },
 "nbformat": 4,
 "nbformat_minor": 5
}

{
 "cells": [
  {
   "cell_type": "markdown",
   "id": "970975cb",
   "metadata": {},
   "source": [
    "## pandas.io.formats.excel.CSSToExcelConverter"
   ]
  },
  {
   "cell_type": "code",
   "execution_count": null,
   "id": "b91ee45b",
   "metadata": {},
   "outputs": [],
   "source": [
    "import pandas\n",
    "def class_constructor(*args, **kwargs):\n",
    "    obj = pandas.io.formats.excel.CSSToExcelConverter()\n",
    "    return obj\n"
   ]
  },
  {
   "cell_type": "code",
   "execution_count": null,
   "id": "e882d774",
   "metadata": {},
   "outputs": [],
   "source": [
    "# pandas.io.formats.excel.CSSToExcelConverter.build_fill\n",
    "try:\n",
    "    obj = class_constructor()\n",
    "    ret = obj.build_fill()\n",
    "    type_pandas_io_formats_excel_CSSToExcelConverter_build_fill = (\n",
    "    getattr(ret, '__module__', None) + '.' + ret.__class__.__name__\n",
    "        if getattr(ret, '__module__', None)\n",
    "        else ret.__class__.__name__\n",
    "        )\n",
    "    print(\"✅ pandas.io.formats.excel.CSSToExcelConverter.build_fill:\",\n",
    "        type_pandas_io_formats_excel_CSSToExcelConverter_build_fill)\n",
    "except Exception as e:\n",
    "    type_pandas_io_formats_excel_CSSToExcelConverter_build_fill = '_syft_missing'\n",
    "    print('❌ pandas.io.formats.excel.CSSToExcelConverter.build_fill: Return unavailable')\n",
    "    print(\"  Please fix this return type code until there is no exception\")\n",
    "    print('   Error:', e)\n"
   ]
  }
 ],
 "metadata": {},
 "nbformat": 4,
 "nbformat_minor": 5
}
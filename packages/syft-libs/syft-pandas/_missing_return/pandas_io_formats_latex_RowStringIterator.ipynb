{
 "cells": [
  {
   "cell_type": "markdown",
   "id": "757d22af",
   "metadata": {},
   "source": [
    "## pandas.io.formats.latex.RowStringIterator"
   ]
  },
  {
   "cell_type": "code",
   "execution_count": null,
   "id": "28ff1a9b",
   "metadata": {},
   "outputs": [],
   "source": [
    "# pandas.io.formats.latex.RowStringIterator._empty_info_line\n",
    "try:\n",
    "    obj = class_constructor()\n",
    "    ret = obj._empty_info_line\n",
    "    type_pandas_io_formats_latex_RowStringIterator__empty_info_line = (\n",
    "    getattr(ret, '__module__', None) + '.' + ret.__class__.__name__\n",
    "        if getattr(ret, '__module__', None)\n",
    "        else ret.__class__.__name__\n",
    "        )\n",
    "    print(\"✅ pandas.io.formats.latex.RowStringIterator._empty_info_line:\",\n",
    "        type_pandas_io_formats_latex_RowStringIterator__empty_info_line)\n",
    "except Exception as e:\n",
    "    type_pandas_io_formats_latex_RowStringIterator__empty_info_line = '_syft_missing'\n",
    "    print('❌ pandas.io.formats.latex.RowStringIterator._empty_info_line: Return unavailable')\n",
    "    print(\"  Please fix this return type code until there is no exception\")\n",
    "    print('  Error:', e)\n"
   ]
  },
  {
   "cell_type": "code",
   "execution_count": null,
   "id": "9394e16b",
   "metadata": {},
   "outputs": [],
   "source": [
    "# pandas.io.formats.latex.RowStringIterator._header_row_num\n",
    "try:\n",
    "    obj = class_constructor()\n",
    "    ret = obj._header_row_num\n",
    "    type_pandas_io_formats_latex_RowStringIterator__header_row_num = (\n",
    "    getattr(ret, '__module__', None) + '.' + ret.__class__.__name__\n",
    "        if getattr(ret, '__module__', None)\n",
    "        else ret.__class__.__name__\n",
    "        )\n",
    "    print(\"✅ pandas.io.formats.latex.RowStringIterator._header_row_num:\",\n",
    "        type_pandas_io_formats_latex_RowStringIterator__header_row_num)\n",
    "except Exception as e:\n",
    "    type_pandas_io_formats_latex_RowStringIterator__header_row_num = '_syft_missing'\n",
    "    print('❌ pandas.io.formats.latex.RowStringIterator._header_row_num: Return unavailable')\n",
    "    print(\"  Please fix this return type code until there is no exception\")\n",
    "    print('  Error:', e)\n"
   ]
  },
  {
   "cell_type": "code",
   "execution_count": null,
   "id": "852f7759",
   "metadata": {},
   "outputs": [],
   "source": [
    "# pandas.io.formats.latex.RowStringIterator.column_levels\n",
    "try:\n",
    "    obj = class_constructor()\n",
    "    ret = obj.column_levels\n",
    "    type_pandas_io_formats_latex_RowStringIterator_column_levels = (\n",
    "    getattr(ret, '__module__', None) + '.' + ret.__class__.__name__\n",
    "        if getattr(ret, '__module__', None)\n",
    "        else ret.__class__.__name__\n",
    "        )\n",
    "    print(\"✅ pandas.io.formats.latex.RowStringIterator.column_levels:\",\n",
    "        type_pandas_io_formats_latex_RowStringIterator_column_levels)\n",
    "except Exception as e:\n",
    "    type_pandas_io_formats_latex_RowStringIterator_column_levels = '_syft_missing'\n",
    "    print('❌ pandas.io.formats.latex.RowStringIterator.column_levels: Return unavailable')\n",
    "    print(\"  Please fix this return type code until there is no exception\")\n",
    "    print('  Error:', e)\n"
   ]
  },
  {
   "cell_type": "code",
   "execution_count": null,
   "id": "d1d34c28",
   "metadata": {},
   "outputs": [],
   "source": [
    "# pandas.io.formats.latex.RowStringIterator.header_levels\n",
    "try:\n",
    "    obj = class_constructor()\n",
    "    ret = obj.header_levels\n",
    "    type_pandas_io_formats_latex_RowStringIterator_header_levels = (\n",
    "    getattr(ret, '__module__', None) + '.' + ret.__class__.__name__\n",
    "        if getattr(ret, '__module__', None)\n",
    "        else ret.__class__.__name__\n",
    "        )\n",
    "    print(\"✅ pandas.io.formats.latex.RowStringIterator.header_levels:\",\n",
    "        type_pandas_io_formats_latex_RowStringIterator_header_levels)\n",
    "except Exception as e:\n",
    "    type_pandas_io_formats_latex_RowStringIterator_header_levels = '_syft_missing'\n",
    "    print('❌ pandas.io.formats.latex.RowStringIterator.header_levels: Return unavailable')\n",
    "    print(\"  Please fix this return type code until there is no exception\")\n",
    "    print('  Error:', e)\n"
   ]
  },
  {
   "cell_type": "code",
   "execution_count": null,
   "id": "0424b904",
   "metadata": {},
   "outputs": [],
   "source": [
    "# pandas.io.formats.latex.RowStringIterator.index_levels\n",
    "try:\n",
    "    obj = class_constructor()\n",
    "    ret = obj.index_levels\n",
    "    type_pandas_io_formats_latex_RowStringIterator_index_levels = (\n",
    "    getattr(ret, '__module__', None) + '.' + ret.__class__.__name__\n",
    "        if getattr(ret, '__module__', None)\n",
    "        else ret.__class__.__name__\n",
    "        )\n",
    "    print(\"✅ pandas.io.formats.latex.RowStringIterator.index_levels:\",\n",
    "        type_pandas_io_formats_latex_RowStringIterator_index_levels)\n",
    "except Exception as e:\n",
    "    type_pandas_io_formats_latex_RowStringIterator_index_levels = '_syft_missing'\n",
    "    print('❌ pandas.io.formats.latex.RowStringIterator.index_levels: Return unavailable')\n",
    "    print(\"  Please fix this return type code until there is no exception\")\n",
    "    print('  Error:', e)\n"
   ]
  }
 ],
 "metadata": {},
 "nbformat": 4,
 "nbformat_minor": 5
}
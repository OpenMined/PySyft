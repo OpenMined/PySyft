{
 "cells": [
  {
   "cell_type": "markdown",
   "id": "d37d0bd1",
   "metadata": {},
   "source": [
    "## pandas.core.arrays.boolean.BooleanDtype"
   ]
  },
  {
   "cell_type": "code",
   "execution_count": 1,
   "id": "7c102cd2",
   "metadata": {},
   "outputs": [],
   "source": [
    "import pandas \n",
    "def class_constructor():\n",
    "    return pandas.core.arrays.boolean.BooleanDtype()"
   ]
  },
  {
   "cell_type": "code",
   "execution_count": 2,
   "id": "7d783178",
   "metadata": {},
   "outputs": [
    {
     "data": {
      "text/plain": [
       "BooleanDtype"
      ]
     },
     "execution_count": 2,
     "metadata": {},
     "output_type": "execute_result"
    }
   ],
   "source": [
    "class_constructor()"
   ]
  },
  {
   "cell_type": "code",
   "execution_count": 3,
   "id": "51bc7e75",
   "metadata": {},
   "outputs": [
    {
     "name": "stdout",
     "output_type": "stream",
     "text": [
      "✅ pandas.core.arrays.boolean.BooleanDtype._is_boolean: bool\n"
     ]
    }
   ],
   "source": [
    "# pandas.core.arrays.boolean.BooleanDtype._is_boolean\n",
    "try:\n",
    "    obj = class_constructor()\n",
    "    ret = obj._is_boolean\n",
    "    type_pandas_core_arrays_boolean_BooleanDtype__is_boolean = (\n",
    "    getattr(ret, '__module__', None) + '.' + ret.__class__.__name__\n",
    "        if getattr(ret, '__module__', None)\n",
    "        else ret.__class__.__name__\n",
    "        )\n",
    "    print(\"✅ pandas.core.arrays.boolean.BooleanDtype._is_boolean:\",\n",
    "        type_pandas_core_arrays_boolean_BooleanDtype__is_boolean)\n",
    "except Exception as e:\n",
    "    type_pandas_core_arrays_boolean_BooleanDtype__is_boolean = '_syft_missing'\n",
    "    print('❌ pandas.core.arrays.boolean.BooleanDtype._is_boolean: Return unavailable')\n",
    "    print(\"  Please fix this return type code until there is no exception\")\n",
    "    print('  Error:', e)\n"
   ]
  },
  {
   "cell_type": "code",
   "execution_count": 4,
   "id": "883949dd",
   "metadata": {},
   "outputs": [
    {
     "name": "stdout",
     "output_type": "stream",
     "text": [
      "✅ pandas.core.arrays.boolean.BooleanDtype._is_numeric: bool\n"
     ]
    }
   ],
   "source": [
    "# pandas.core.arrays.boolean.BooleanDtype._is_numeric\n",
    "try:\n",
    "    obj = class_constructor()\n",
    "    ret = obj._is_numeric\n",
    "    type_pandas_core_arrays_boolean_BooleanDtype__is_numeric = (\n",
    "    getattr(ret, '__module__', None) + '.' + ret.__class__.__name__\n",
    "        if getattr(ret, '__module__', None)\n",
    "        else ret.__class__.__name__\n",
    "        )\n",
    "    print(\"✅ pandas.core.arrays.boolean.BooleanDtype._is_numeric:\",\n",
    "        type_pandas_core_arrays_boolean_BooleanDtype__is_numeric)\n",
    "except Exception as e:\n",
    "    type_pandas_core_arrays_boolean_BooleanDtype__is_numeric = '_syft_missing'\n",
    "    print('❌ pandas.core.arrays.boolean.BooleanDtype._is_numeric: Return unavailable')\n",
    "    print(\"  Please fix this return type code until there is no exception\")\n",
    "    print('  Error:', e)\n"
   ]
  },
  {
   "cell_type": "code",
   "execution_count": 5,
   "id": "eff4c245",
   "metadata": {},
   "outputs": [
    {
     "name": "stdout",
     "output_type": "stream",
     "text": [
      "✅ pandas.core.arrays.boolean.BooleanDtype.construct_from_string: pandas.core.arrays.boolean.BooleanDtype\n"
     ]
    }
   ],
   "source": [
    "# pandas.core.arrays.boolean.BooleanDtype.construct_from_string\n",
    "try:\n",
    "    obj = class_constructor()\n",
    "    ret = obj.construct_from_string(\"boolean\")\n",
    "    type_pandas_core_arrays_boolean_BooleanDtype_construct_from_string = (\n",
    "    getattr(ret, '__module__', None) + '.' + ret.__class__.__name__\n",
    "        if getattr(ret, '__module__', None)\n",
    "        else ret.__class__.__name__\n",
    "        )\n",
    "    print(\"✅ pandas.core.arrays.boolean.BooleanDtype.construct_from_string:\",\n",
    "        type_pandas_core_arrays_boolean_BooleanDtype_construct_from_string)\n",
    "except Exception as e:\n",
    "    type_pandas_core_arrays_boolean_BooleanDtype_construct_from_string = '_syft_missing'\n",
    "    print('❌ pandas.core.arrays.boolean.BooleanDtype.construct_from_string: Return unavailable')\n",
    "    print(\"  Please fix this return type code until there is no exception\")\n",
    "    print('   Error:', e)\n"
   ]
  },
  {
   "cell_type": "code",
   "execution_count": 6,
   "id": "587ea569",
   "metadata": {},
   "outputs": [
    {
     "name": "stdout",
     "output_type": "stream",
     "text": [
      "✅ pandas.core.arrays.boolean.BooleanDtype.kind: str\n"
     ]
    }
   ],
   "source": [
    "# pandas.core.arrays.boolean.BooleanDtype.kind\n",
    "try:\n",
    "    obj = class_constructor()\n",
    "    ret = obj.kind\n",
    "    type_pandas_core_arrays_boolean_BooleanDtype_kind = (\n",
    "    getattr(ret, '__module__', None) + '.' + ret.__class__.__name__\n",
    "        if getattr(ret, '__module__', None)\n",
    "        else ret.__class__.__name__\n",
    "        )\n",
    "    print(\"✅ pandas.core.arrays.boolean.BooleanDtype.kind:\",\n",
    "        type_pandas_core_arrays_boolean_BooleanDtype_kind)\n",
    "except Exception as e:\n",
    "    type_pandas_core_arrays_boolean_BooleanDtype_kind = '_syft_missing'\n",
    "    print('❌ pandas.core.arrays.boolean.BooleanDtype.kind: Return unavailable')\n",
    "    print(\"  Please fix this return type code until there is no exception\")\n",
    "    print('  Error:', e)\n"
   ]
  },
  {
   "cell_type": "code",
   "execution_count": 7,
   "id": "9233369e",
   "metadata": {},
   "outputs": [
    {
     "name": "stdout",
     "output_type": "stream",
     "text": [
      "✅ pandas.core.arrays.boolean.BooleanDtype.names: NoneType\n"
     ]
    }
   ],
   "source": [
    "# pandas.core.arrays.boolean.BooleanDtype.names\n",
    "try:\n",
    "    obj = class_constructor()\n",
    "    ret = obj.names\n",
    "    type_pandas_core_arrays_boolean_BooleanDtype_names = (\n",
    "    getattr(ret, '__module__', None) + '.' + ret.__class__.__name__\n",
    "        if getattr(ret, '__module__', None)\n",
    "        else ret.__class__.__name__\n",
    "        )\n",
    "    print(\"✅ pandas.core.arrays.boolean.BooleanDtype.names:\",\n",
    "        type_pandas_core_arrays_boolean_BooleanDtype_names)\n",
    "except Exception as e:\n",
    "    type_pandas_core_arrays_boolean_BooleanDtype_names = '_syft_missing'\n",
    "    print('❌ pandas.core.arrays.boolean.BooleanDtype.names: Return unavailable')\n",
    "    print(\"  Please fix this return type code until there is no exception\")\n",
    "    print('  Error:', e)\n"
   ]
  },
  {
   "cell_type": "code",
   "execution_count": 8,
   "id": "397cc4e2",
   "metadata": {},
   "outputs": [
    {
     "name": "stdout",
     "output_type": "stream",
     "text": [
      "✅ pandas.core.arrays.boolean.BooleanDtype.numpy_dtype: dtype\n"
     ]
    }
   ],
   "source": [
    "# pandas.core.arrays.boolean.BooleanDtype.numpy_dtype\n",
    "try:\n",
    "    obj = class_constructor()\n",
    "    ret = obj.numpy_dtype\n",
    "    type_pandas_core_arrays_boolean_BooleanDtype_numpy_dtype = (\n",
    "    getattr(ret, '__module__', None) + '.' + ret.__class__.__name__\n",
    "        if getattr(ret, '__module__', None)\n",
    "        else ret.__class__.__name__\n",
    "        )\n",
    "    print(\"✅ pandas.core.arrays.boolean.BooleanDtype.numpy_dtype:\",\n",
    "        type_pandas_core_arrays_boolean_BooleanDtype_numpy_dtype)\n",
    "except Exception as e:\n",
    "    type_pandas_core_arrays_boolean_BooleanDtype_numpy_dtype = '_syft_missing'\n",
    "    print('❌ pandas.core.arrays.boolean.BooleanDtype.numpy_dtype: Return unavailable')\n",
    "    print(\"  Please fix this return type code until there is no exception\")\n",
    "    print('  Error:', e)\n"
   ]
  },
  {
   "cell_type": "code",
   "execution_count": 9,
   "id": "7075655f",
   "metadata": {},
   "outputs": [
    {
     "name": "stdout",
     "output_type": "stream",
     "text": [
      "✅ pandas.core.arrays.boolean.BooleanDtype.type: numpy.type\n"
     ]
    }
   ],
   "source": [
    "# pandas.core.arrays.boolean.BooleanDtype.type\n",
    "try:\n",
    "    obj = class_constructor()\n",
    "    ret = obj.type\n",
    "    type_pandas_core_arrays_boolean_BooleanDtype_type = (\n",
    "    getattr(ret, '__module__', None) + '.' + ret.__class__.__name__\n",
    "        if getattr(ret, '__module__', None)\n",
    "        else ret.__class__.__name__\n",
    "        )\n",
    "    print(\"✅ pandas.core.arrays.boolean.BooleanDtype.type:\",\n",
    "        type_pandas_core_arrays_boolean_BooleanDtype_type)\n",
    "except Exception as e:\n",
    "    type_pandas_core_arrays_boolean_BooleanDtype_type = '_syft_missing'\n",
    "    print('❌ pandas.core.arrays.boolean.BooleanDtype.type: Return unavailable')\n",
    "    print(\"  Please fix this return type code until there is no exception\")\n",
    "    print('  Error:', e)\n"
   ]
  },
  {
   "cell_type": "code",
   "execution_count": null,
   "id": "f9e7c108",
   "metadata": {},
   "outputs": [],
   "source": []
  }
 ],
 "metadata": {
  "kernelspec": {
   "display_name": "Python 3",
   "language": "python",
   "name": "python3"
  },
  "language_info": {
   "codemirror_mode": {
    "name": "ipython",
    "version": 3
   },
   "file_extension": ".py",
   "mimetype": "text/x-python",
   "name": "python",
   "nbconvert_exporter": "python",
   "pygments_lexer": "ipython3",
   "version": "3.9.5"
  }
 },
 "nbformat": 4,
 "nbformat_minor": 5
}

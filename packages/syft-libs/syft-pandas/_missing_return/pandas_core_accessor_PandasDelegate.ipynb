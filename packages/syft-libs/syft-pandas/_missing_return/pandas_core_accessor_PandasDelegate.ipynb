{
 "cells": [
  {
   "cell_type": "markdown",
   "id": "63830c2d",
   "metadata": {},
   "source": [
    "## pandas.core.accessor.PandasDelegate"
   ]
  },
  {
   "cell_type": "code",
   "execution_count": 1,
   "id": "d2501a8e",
   "metadata": {},
   "outputs": [],
   "source": [
    "class Delegator:\n",
    "        _properties = [\"foo\"]\n",
    "        _methods = [\"bar\"]\n",
    "\n",
    "        def _set_foo(self, value):\n",
    "            self.foo = value\n",
    "\n",
    "        def _get_foo(self):\n",
    "            return self.foo\n",
    "\n",
    "        foo = property(_get_foo, _set_foo, doc=\"foo property\")\n",
    "\n",
    "        def bar(self, *args, **kwargs):\n",
    "            \"\"\"a test bar method\"\"\"\n",
    "            pass"
   ]
  },
  {
   "cell_type": "code",
   "execution_count": 2,
   "id": "2820f446",
   "metadata": {},
   "outputs": [],
   "source": [
    "import pandas\n",
    "def class_constructor(*args, **kwargs):\n",
    "    obj = pandas.core.accessor.PandasDelegate()\n",
    "    return obj\n"
   ]
  },
  {
   "cell_type": "code",
   "execution_count": 3,
   "id": "c1c9a7e3",
   "metadata": {},
   "outputs": [
    {
     "name": "stdout",
     "output_type": "stream",
     "text": [
      "✅ pandas.core.accessor.PandasDelegate._add_delegate_accessors: NoneType\n"
     ]
    }
   ],
   "source": [
    "# pandas.core.accessor.PandasDelegate._add_delegate_accessors\n",
    "try:\n",
    "    obj = class_constructor()\n",
    "    ret = obj._add_delegate_accessors(Delegator,Delegator._properties,typ=\"property\")\n",
    "    type_pandas_core_accessor_PandasDelegate__add_delegate_accessors = (\n",
    "    getattr(ret, '__module__', None) + '.' + ret.__class__.__name__\n",
    "        if getattr(ret, '__module__', None)\n",
    "        else ret.__class__.__name__\n",
    "        )\n",
    "    print(\"✅ pandas.core.accessor.PandasDelegate._add_delegate_accessors:\",\n",
    "        type_pandas_core_accessor_PandasDelegate__add_delegate_accessors)\n",
    "except Exception as e:\n",
    "    type_pandas_core_accessor_PandasDelegate__add_delegate_accessors = '_syft_missing'\n",
    "    print('❌ pandas.core.accessor.PandasDelegate._add_delegate_accessors: Return unavailable')\n",
    "    print(\"  Please fix this return type code until there is no exception\")\n",
    "    print('   Error:', e)\n"
   ]
  },
  {
   "cell_type": "code",
   "execution_count": 4,
   "id": "3263196a",
   "metadata": {},
   "outputs": [
    {
     "name": "stdout",
     "output_type": "stream",
     "text": [
      "❌ pandas.core.accessor.PandasDelegate._delegate_method: Return unavailable\n",
      "  Please fix this return type code until there is no exception\n",
      "   Error: _delegate_method() missing 1 required positional argument: 'name'\n"
     ]
    }
   ],
   "source": [
    "# pandas.core.accessor.PandasDelegate._delegate_method\n",
    "try:\n",
    "    obj = class_constructor()\n",
    "    ret = obj._delegate_method()\n",
    "    type_pandas_core_accessor_PandasDelegate__delegate_method = (\n",
    "    getattr(ret, '__module__', None) + '.' + ret.__class__.__name__\n",
    "        if getattr(ret, '__module__', None)\n",
    "        else ret.__class__.__name__\n",
    "        )\n",
    "    print(\"✅ pandas.core.accessor.PandasDelegate._delegate_method:\",\n",
    "        type_pandas_core_accessor_PandasDelegate__delegate_method)\n",
    "except Exception as e:\n",
    "    type_pandas_core_accessor_PandasDelegate__delegate_method = '_syft_missing'\n",
    "    print('❌ pandas.core.accessor.PandasDelegate._delegate_method: Return unavailable')\n",
    "    print(\"  Please fix this return type code until there is no exception\")\n",
    "    print('   Error:', e)\n"
   ]
  },
  {
   "cell_type": "code",
   "execution_count": 5,
   "id": "cd5c1c32",
   "metadata": {},
   "outputs": [
    {
     "name": "stdout",
     "output_type": "stream",
     "text": [
      "❌ pandas.core.accessor.PandasDelegate._delegate_property_get: Return unavailable\n",
      "  Please fix this return type code until there is no exception\n",
      "   Error: _delegate_property_get() missing 1 required positional argument: 'name'\n"
     ]
    }
   ],
   "source": [
    "# pandas.core.accessor.PandasDelegate._delegate_property_get\n",
    "try:\n",
    "    obj = class_constructor()\n",
    "    ret = obj._delegate_property_get()\n",
    "    type_pandas_core_accessor_PandasDelegate__delegate_property_get = (\n",
    "    getattr(ret, '__module__', None) + '.' + ret.__class__.__name__\n",
    "        if getattr(ret, '__module__', None)\n",
    "        else ret.__class__.__name__\n",
    "        )\n",
    "    print(\"✅ pandas.core.accessor.PandasDelegate._delegate_property_get:\",\n",
    "        type_pandas_core_accessor_PandasDelegate__delegate_property_get)\n",
    "except Exception as e:\n",
    "    type_pandas_core_accessor_PandasDelegate__delegate_property_get = '_syft_missing'\n",
    "    print('❌ pandas.core.accessor.PandasDelegate._delegate_property_get: Return unavailable')\n",
    "    print(\"  Please fix this return type code until there is no exception\")\n",
    "    print('   Error:', e)\n"
   ]
  },
  {
   "cell_type": "code",
   "execution_count": 6,
   "id": "36b41a9a",
   "metadata": {},
   "outputs": [
    {
     "name": "stdout",
     "output_type": "stream",
     "text": [
      "❌ pandas.core.accessor.PandasDelegate._delegate_property_set: Return unavailable\n",
      "  Please fix this return type code until there is no exception\n",
      "   Error: _delegate_property_set() missing 2 required positional arguments: 'name' and 'value'\n"
     ]
    }
   ],
   "source": [
    "# pandas.core.accessor.PandasDelegate._delegate_property_set\n",
    "try:\n",
    "    obj = class_constructor()\n",
    "    ret = obj._delegate_property_set()\n",
    "    type_pandas_core_accessor_PandasDelegate__delegate_property_set = (\n",
    "    getattr(ret, '__module__', None) + '.' + ret.__class__.__name__\n",
    "        if getattr(ret, '__module__', None)\n",
    "        else ret.__class__.__name__\n",
    "        )\n",
    "    print(\"✅ pandas.core.accessor.PandasDelegate._delegate_property_set:\",\n",
    "        type_pandas_core_accessor_PandasDelegate__delegate_property_set)\n",
    "except Exception as e:\n",
    "    type_pandas_core_accessor_PandasDelegate__delegate_property_set = '_syft_missing'\n",
    "    print('❌ pandas.core.accessor.PandasDelegate._delegate_property_set: Return unavailable')\n",
    "    print(\"  Please fix this return type code until there is no exception\")\n",
    "    print('   Error:', e)\n"
   ]
  },
  {
   "cell_type": "code",
   "execution_count": null,
   "id": "d9f25354",
   "metadata": {},
   "outputs": [],
   "source": []
  }
 ],
 "metadata": {
  "kernelspec": {
   "display_name": "Python 3",
   "language": "python",
   "name": "python3"
  },
  "language_info": {
   "codemirror_mode": {
    "name": "ipython",
    "version": 3
   },
   "file_extension": ".py",
   "mimetype": "text/x-python",
   "name": "python",
   "nbconvert_exporter": "python",
   "pygments_lexer": "ipython3",
   "version": "3.9.5"
  }
 },
 "nbformat": 4,
 "nbformat_minor": 5
}

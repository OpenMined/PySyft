{
 "cells": [
  {
   "cell_type": "markdown",
   "id": "d0af1b00",
   "metadata": {},
   "source": [
    "## pandas.core.arrays.integer.IntegerArray"
   ]
  },
  {
   "cell_type": "code",
   "execution_count": 1,
   "id": "0ecfcefa",
   "metadata": {},
   "outputs": [],
   "source": [
    "import pandas\n",
    "import numpy as np\n",
    "def class_constructor(*args, **kwargs):\n",
    "    obj = pandas.core.arrays.integer.IntegerArray(np.array([1,2,3]),np.array([False,False,False]))\n",
    "    return obj\n"
   ]
  },
  {
   "cell_type": "code",
   "execution_count": 2,
   "id": "40830709",
   "metadata": {},
   "outputs": [
    {
     "data": {
      "text/plain": [
       "<IntegerArray>\n",
       "[1, 2, 3]\n",
       "Length: 3, dtype: Int64"
      ]
     },
     "execution_count": 2,
     "metadata": {},
     "output_type": "execute_result"
    }
   ],
   "source": [
    "class_constructor()"
   ]
  },
  {
   "cell_type": "code",
   "execution_count": 3,
   "id": "0d2225d8",
   "metadata": {},
   "outputs": [
    {
     "name": "stdout",
     "output_type": "stream",
     "text": [
      "✅ pandas.core.arrays.integer.IntegerArray.__abs__: pandas.core.arrays.integer.IntegerArray\n"
     ]
    }
   ],
   "source": [
    "# pandas.core.arrays.integer.IntegerArray.__abs__\n",
    "try:\n",
    "    obj = class_constructor()\n",
    "    ret = obj.__abs__()\n",
    "    type_pandas_core_arrays_integer_IntegerArray___abs__ = (\n",
    "    getattr(ret, '__module__', None) + '.' + ret.__class__.__name__\n",
    "        if getattr(ret, '__module__', None)\n",
    "        else ret.__class__.__name__\n",
    "        )\n",
    "    print(\"✅ pandas.core.arrays.integer.IntegerArray.__abs__:\",\n",
    "        type_pandas_core_arrays_integer_IntegerArray___abs__)\n",
    "except Exception as e:\n",
    "    type_pandas_core_arrays_integer_IntegerArray___abs__ = '_syft_missing'\n",
    "    print('❌ pandas.core.arrays.integer.IntegerArray.__abs__: Return unavailable')\n",
    "    print(\"  Please fix this return type code until there is no exception\")\n",
    "    print('   Error:', e)\n"
   ]
  },
  {
   "cell_type": "code",
   "execution_count": 4,
   "id": "431441a8",
   "metadata": {},
   "outputs": [
    {
     "name": "stdout",
     "output_type": "stream",
     "text": [
      "✅ pandas.core.arrays.integer.IntegerArray.__add__: pandas.core.arrays.integer.IntegerArray\n"
     ]
    }
   ],
   "source": [
    "# pandas.core.arrays.integer.IntegerArray.__add__\n",
    "try:\n",
    "    obj = class_constructor()\n",
    "    ret = obj.__add__(obj)\n",
    "    type_pandas_core_arrays_integer_IntegerArray___add__ = (\n",
    "    getattr(ret, '__module__', None) + '.' + ret.__class__.__name__\n",
    "        if getattr(ret, '__module__', None)\n",
    "        else ret.__class__.__name__\n",
    "        )\n",
    "    print(\"✅ pandas.core.arrays.integer.IntegerArray.__add__:\",\n",
    "        type_pandas_core_arrays_integer_IntegerArray___add__)\n",
    "except Exception as e:\n",
    "    type_pandas_core_arrays_integer_IntegerArray___add__ = '_syft_missing'\n",
    "    print('❌ pandas.core.arrays.integer.IntegerArray.__add__: Return unavailable')\n",
    "    print(\"  Please fix this return type code until there is no exception\")\n",
    "    print('   Error:', e)\n"
   ]
  },
  {
   "cell_type": "code",
   "execution_count": 5,
   "id": "9fdfe793",
   "metadata": {},
   "outputs": [
    {
     "name": "stdout",
     "output_type": "stream",
     "text": [
      "❌ pandas.core.arrays.integer.IntegerArray.__array_ufunc__: Return unavailable\n",
      "  Please fix this return type code until there is no exception\n",
      "   Error: __array_ufunc__() missing 2 required positional arguments: 'ufunc' and 'method'\n"
     ]
    }
   ],
   "source": [
    "# pandas.core.arrays.integer.IntegerArray.__array_ufunc__\n",
    "try:\n",
    "    obj = class_constructor()\n",
    "    ret = obj.__array_ufunc__()\n",
    "    type_pandas_core_arrays_integer_IntegerArray___array_ufunc__ = (\n",
    "    getattr(ret, '__module__', None) + '.' + ret.__class__.__name__\n",
    "        if getattr(ret, '__module__', None)\n",
    "        else ret.__class__.__name__\n",
    "        )\n",
    "    print(\"✅ pandas.core.arrays.integer.IntegerArray.__array_ufunc__:\",\n",
    "        type_pandas_core_arrays_integer_IntegerArray___array_ufunc__)\n",
    "except Exception as e:\n",
    "    type_pandas_core_arrays_integer_IntegerArray___array_ufunc__ = '_syft_missing'\n",
    "    print('❌ pandas.core.arrays.integer.IntegerArray.__array_ufunc__: Return unavailable')\n",
    "    print(\"  Please fix this return type code until there is no exception\")\n",
    "    print('   Error:', e)\n"
   ]
  },
  {
   "cell_type": "code",
   "execution_count": 6,
   "id": "6315bb74",
   "metadata": {},
   "outputs": [
    {
     "name": "stdout",
     "output_type": "stream",
     "text": [
      "✅ pandas.core.arrays.integer.IntegerArray.__arrow_array__: Int64Array\n"
     ]
    }
   ],
   "source": [
    "# pandas.core.arrays.integer.IntegerArray.__arrow_array__\n",
    "try:\n",
    "    obj = class_constructor()\n",
    "    ret = obj.__arrow_array__()\n",
    "    type_pandas_core_arrays_integer_IntegerArray___arrow_array__ = (\n",
    "    getattr(ret, '__module__', None) + '.' + ret.__class__.__name__\n",
    "        if getattr(ret, '__module__', None)\n",
    "        else ret.__class__.__name__\n",
    "        )\n",
    "    print(\"✅ pandas.core.arrays.integer.IntegerArray.__arrow_array__:\",\n",
    "        type_pandas_core_arrays_integer_IntegerArray___arrow_array__)\n",
    "except Exception as e:\n",
    "    type_pandas_core_arrays_integer_IntegerArray___arrow_array__ = '_syft_missing'\n",
    "    print('❌ pandas.core.arrays.integer.IntegerArray.__arrow_array__: Return unavailable')\n",
    "    print(\"  Please fix this return type code until there is no exception\")\n",
    "    print('   Error:', e)\n"
   ]
  },
  {
   "cell_type": "code",
   "execution_count": 7,
   "id": "81c2ad19",
   "metadata": {},
   "outputs": [
    {
     "name": "stdout",
     "output_type": "stream",
     "text": [
      "✅ pandas.core.arrays.integer.IntegerArray.__divmod__: tuple\n"
     ]
    }
   ],
   "source": [
    "# pandas.core.arrays.integer.IntegerArray.__divmod__\n",
    "try:\n",
    "    obj = class_constructor()\n",
    "    ret = obj.__divmod__(obj)\n",
    "    type_pandas_core_arrays_integer_IntegerArray___divmod__ = (\n",
    "    getattr(ret, '__module__', None) + '.' + ret.__class__.__name__\n",
    "        if getattr(ret, '__module__', None)\n",
    "        else ret.__class__.__name__\n",
    "        )\n",
    "    print(\"✅ pandas.core.arrays.integer.IntegerArray.__divmod__:\",\n",
    "        type_pandas_core_arrays_integer_IntegerArray___divmod__)\n",
    "except Exception as e:\n",
    "    type_pandas_core_arrays_integer_IntegerArray___divmod__ = '_syft_missing'\n",
    "    print('❌ pandas.core.arrays.integer.IntegerArray.__divmod__: Return unavailable')\n",
    "    print(\"  Please fix this return type code until there is no exception\")\n",
    "    print('   Error:', e)\n"
   ]
  },
  {
   "cell_type": "code",
   "execution_count": 8,
   "id": "760be062",
   "metadata": {},
   "outputs": [
    {
     "name": "stdout",
     "output_type": "stream",
     "text": [
      "✅ pandas.core.arrays.integer.IntegerArray.__eq__: pandas.core.arrays.boolean.BooleanArray\n"
     ]
    }
   ],
   "source": [
    "# pandas.core.arrays.integer.IntegerArray.__eq__\n",
    "try:\n",
    "    obj = class_constructor()\n",
    "    ret = obj.__eq__(obj)\n",
    "    type_pandas_core_arrays_integer_IntegerArray___eq__ = (\n",
    "    getattr(ret, '__module__', None) + '.' + ret.__class__.__name__\n",
    "        if getattr(ret, '__module__', None)\n",
    "        else ret.__class__.__name__\n",
    "        )\n",
    "    print(\"✅ pandas.core.arrays.integer.IntegerArray.__eq__:\",\n",
    "        type_pandas_core_arrays_integer_IntegerArray___eq__)\n",
    "except Exception as e:\n",
    "    type_pandas_core_arrays_integer_IntegerArray___eq__ = '_syft_missing'\n",
    "    print('❌ pandas.core.arrays.integer.IntegerArray.__eq__: Return unavailable')\n",
    "    print(\"  Please fix this return type code until there is no exception\")\n",
    "    print('   Error:', e)\n"
   ]
  },
  {
   "cell_type": "code",
   "execution_count": 9,
   "id": "5a813048",
   "metadata": {},
   "outputs": [
    {
     "name": "stdout",
     "output_type": "stream",
     "text": [
      "✅ pandas.core.arrays.integer.IntegerArray.__floordiv__: pandas.core.arrays.integer.IntegerArray\n"
     ]
    }
   ],
   "source": [
    "# pandas.core.arrays.integer.IntegerArray.__floordiv__\n",
    "try:\n",
    "    obj = class_constructor()\n",
    "    ret = obj.__floordiv__(obj)\n",
    "    type_pandas_core_arrays_integer_IntegerArray___floordiv__ = (\n",
    "    getattr(ret, '__module__', None) + '.' + ret.__class__.__name__\n",
    "        if getattr(ret, '__module__', None)\n",
    "        else ret.__class__.__name__\n",
    "        )\n",
    "    print(\"✅ pandas.core.arrays.integer.IntegerArray.__floordiv__:\",\n",
    "        type_pandas_core_arrays_integer_IntegerArray___floordiv__)\n",
    "except Exception as e:\n",
    "    type_pandas_core_arrays_integer_IntegerArray___floordiv__ = '_syft_missing'\n",
    "    print('❌ pandas.core.arrays.integer.IntegerArray.__floordiv__: Return unavailable')\n",
    "    print(\"  Please fix this return type code until there is no exception\")\n",
    "    print('   Error:', e)\n"
   ]
  },
  {
   "cell_type": "code",
   "execution_count": 10,
   "id": "e21683d5",
   "metadata": {},
   "outputs": [
    {
     "name": "stdout",
     "output_type": "stream",
     "text": [
      "✅ pandas.core.arrays.integer.IntegerArray.__ge__: pandas.core.arrays.boolean.BooleanArray\n"
     ]
    }
   ],
   "source": [
    "# pandas.core.arrays.integer.IntegerArray.__ge__\n",
    "try:\n",
    "    obj = class_constructor()\n",
    "    ret = obj.__ge__(obj)\n",
    "    type_pandas_core_arrays_integer_IntegerArray___ge__ = (\n",
    "    getattr(ret, '__module__', None) + '.' + ret.__class__.__name__\n",
    "        if getattr(ret, '__module__', None)\n",
    "        else ret.__class__.__name__\n",
    "        )\n",
    "    print(\"✅ pandas.core.arrays.integer.IntegerArray.__ge__:\",\n",
    "        type_pandas_core_arrays_integer_IntegerArray___ge__)\n",
    "except Exception as e:\n",
    "    type_pandas_core_arrays_integer_IntegerArray___ge__ = '_syft_missing'\n",
    "    print('❌ pandas.core.arrays.integer.IntegerArray.__ge__: Return unavailable')\n",
    "    print(\"  Please fix this return type code until there is no exception\")\n",
    "    print('   Error:', e)\n"
   ]
  },
  {
   "cell_type": "code",
   "execution_count": 11,
   "id": "aeac7cd2",
   "metadata": {},
   "outputs": [
    {
     "name": "stdout",
     "output_type": "stream",
     "text": [
      "✅ pandas.core.arrays.integer.IntegerArray.__getitem__: int64\n"
     ]
    }
   ],
   "source": [
    "# pandas.core.arrays.integer.IntegerArray.__getitem__\n",
    "try:\n",
    "    obj = class_constructor()\n",
    "    ret = obj.__getitem__(1)\n",
    "    type_pandas_core_arrays_integer_IntegerArray___getitem__ = (\n",
    "    getattr(ret, '__module__', None) + '.' + ret.__class__.__name__\n",
    "        if getattr(ret, '__module__', None)\n",
    "        else ret.__class__.__name__\n",
    "        )\n",
    "    print(\"✅ pandas.core.arrays.integer.IntegerArray.__getitem__:\",\n",
    "        type_pandas_core_arrays_integer_IntegerArray___getitem__)\n",
    "except Exception as e:\n",
    "    type_pandas_core_arrays_integer_IntegerArray___getitem__ = '_syft_missing'\n",
    "    print('❌ pandas.core.arrays.integer.IntegerArray.__getitem__: Return unavailable')\n",
    "    print(\"  Please fix this return type code until there is no exception\")\n",
    "    print('   Error:', e)\n"
   ]
  },
  {
   "cell_type": "code",
   "execution_count": 12,
   "id": "fd6ce76a",
   "metadata": {},
   "outputs": [
    {
     "name": "stdout",
     "output_type": "stream",
     "text": [
      "✅ pandas.core.arrays.integer.IntegerArray.__gt__: pandas.core.arrays.boolean.BooleanArray\n"
     ]
    }
   ],
   "source": [
    "# pandas.core.arrays.integer.IntegerArray.__gt__\n",
    "try:\n",
    "    obj = class_constructor()\n",
    "    ret = obj.__gt__(obj)\n",
    "    type_pandas_core_arrays_integer_IntegerArray___gt__ = (\n",
    "    getattr(ret, '__module__', None) + '.' + ret.__class__.__name__\n",
    "        if getattr(ret, '__module__', None)\n",
    "        else ret.__class__.__name__\n",
    "        )\n",
    "    print(\"✅ pandas.core.arrays.integer.IntegerArray.__gt__:\",\n",
    "        type_pandas_core_arrays_integer_IntegerArray___gt__)\n",
    "except Exception as e:\n",
    "    type_pandas_core_arrays_integer_IntegerArray___gt__ = '_syft_missing'\n",
    "    print('❌ pandas.core.arrays.integer.IntegerArray.__gt__: Return unavailable')\n",
    "    print(\"  Please fix this return type code until there is no exception\")\n",
    "    print('   Error:', e)\n"
   ]
  },
  {
   "cell_type": "code",
   "execution_count": 13,
   "id": "0504c2fa",
   "metadata": {},
   "outputs": [
    {
     "name": "stdout",
     "output_type": "stream",
     "text": [
      "❌ pandas.core.arrays.integer.IntegerArray.__hash__: Return unavailable\n",
      "  Please fix this return type code until there is no exception\n",
      "   Error: unhashable type: 'IntegerArray'\n"
     ]
    }
   ],
   "source": [
    "# pandas.core.arrays.integer.IntegerArray.__hash__\n",
    "try:\n",
    "    obj = class_constructor()\n",
    "    ret = obj.__hash__()\n",
    "    type_pandas_core_arrays_integer_IntegerArray___hash__ = (\n",
    "    getattr(ret, '__module__', None) + '.' + ret.__class__.__name__\n",
    "        if getattr(ret, '__module__', None)\n",
    "        else ret.__class__.__name__\n",
    "        )\n",
    "    print(\"✅ pandas.core.arrays.integer.IntegerArray.__hash__:\",\n",
    "        type_pandas_core_arrays_integer_IntegerArray___hash__)\n",
    "except Exception as e:\n",
    "    type_pandas_core_arrays_integer_IntegerArray___hash__ = '_syft_missing'\n",
    "    print('❌ pandas.core.arrays.integer.IntegerArray.__hash__: Return unavailable')\n",
    "    print(\"  Please fix this return type code until there is no exception\")\n",
    "    print('   Error:', e)\n"
   ]
  },
  {
   "cell_type": "code",
   "execution_count": 14,
   "id": "5aaa89af",
   "metadata": {},
   "outputs": [
    {
     "name": "stdout",
     "output_type": "stream",
     "text": [
      "✅ pandas.core.arrays.integer.IntegerArray.__iter__: generator\n"
     ]
    }
   ],
   "source": [
    "# pandas.core.arrays.integer.IntegerArray.__iter__\n",
    "try:\n",
    "    obj = class_constructor()\n",
    "    ret = obj.__iter__()\n",
    "    type_pandas_core_arrays_integer_IntegerArray___iter__ = (\n",
    "    getattr(ret, '__module__', None) + '.' + ret.__class__.__name__\n",
    "        if getattr(ret, '__module__', None)\n",
    "        else ret.__class__.__name__\n",
    "        )\n",
    "    print(\"✅ pandas.core.arrays.integer.IntegerArray.__iter__:\",\n",
    "        type_pandas_core_arrays_integer_IntegerArray___iter__)\n",
    "except Exception as e:\n",
    "    type_pandas_core_arrays_integer_IntegerArray___iter__ = '_syft_missing'\n",
    "    print('❌ pandas.core.arrays.integer.IntegerArray.__iter__: Return unavailable')\n",
    "    print(\"  Please fix this return type code until there is no exception\")\n",
    "    print('   Error:', e)\n"
   ]
  },
  {
   "cell_type": "code",
   "execution_count": 15,
   "id": "79f14278",
   "metadata": {},
   "outputs": [
    {
     "name": "stdout",
     "output_type": "stream",
     "text": [
      "✅ pandas.core.arrays.integer.IntegerArray.__le__: pandas.core.arrays.boolean.BooleanArray\n"
     ]
    }
   ],
   "source": [
    "# pandas.core.arrays.integer.IntegerArray.__le__\n",
    "try:\n",
    "    obj = class_constructor()\n",
    "    ret = obj.__le__(obj)\n",
    "    type_pandas_core_arrays_integer_IntegerArray___le__ = (\n",
    "    getattr(ret, '__module__', None) + '.' + ret.__class__.__name__\n",
    "        if getattr(ret, '__module__', None)\n",
    "        else ret.__class__.__name__\n",
    "        )\n",
    "    print(\"✅ pandas.core.arrays.integer.IntegerArray.__le__:\",\n",
    "        type_pandas_core_arrays_integer_IntegerArray___le__)\n",
    "except Exception as e:\n",
    "    type_pandas_core_arrays_integer_IntegerArray___le__ = '_syft_missing'\n",
    "    print('❌ pandas.core.arrays.integer.IntegerArray.__le__: Return unavailable')\n",
    "    print(\"  Please fix this return type code until there is no exception\")\n",
    "    print('   Error:', e)\n"
   ]
  },
  {
   "cell_type": "code",
   "execution_count": 16,
   "id": "30f72cfd",
   "metadata": {},
   "outputs": [
    {
     "name": "stdout",
     "output_type": "stream",
     "text": [
      "✅ pandas.core.arrays.integer.IntegerArray.__lt__: pandas.core.arrays.boolean.BooleanArray\n"
     ]
    }
   ],
   "source": [
    "# pandas.core.arrays.integer.IntegerArray.__lt__\n",
    "try:\n",
    "    obj = class_constructor()\n",
    "    ret = obj.__lt__(obj)\n",
    "    type_pandas_core_arrays_integer_IntegerArray___lt__ = (\n",
    "    getattr(ret, '__module__', None) + '.' + ret.__class__.__name__\n",
    "        if getattr(ret, '__module__', None)\n",
    "        else ret.__class__.__name__\n",
    "        )\n",
    "    print(\"✅ pandas.core.arrays.integer.IntegerArray.__lt__:\",\n",
    "        type_pandas_core_arrays_integer_IntegerArray___lt__)\n",
    "except Exception as e:\n",
    "    type_pandas_core_arrays_integer_IntegerArray___lt__ = '_syft_missing'\n",
    "    print('❌ pandas.core.arrays.integer.IntegerArray.__lt__: Return unavailable')\n",
    "    print(\"  Please fix this return type code until there is no exception\")\n",
    "    print('   Error:', e)\n"
   ]
  },
  {
   "cell_type": "code",
   "execution_count": 17,
   "id": "b93d5ca9",
   "metadata": {},
   "outputs": [
    {
     "name": "stdout",
     "output_type": "stream",
     "text": [
      "✅ pandas.core.arrays.integer.IntegerArray.__mod__: pandas.core.arrays.integer.IntegerArray\n"
     ]
    }
   ],
   "source": [
    "# pandas.core.arrays.integer.IntegerArray.__mod__\n",
    "try:\n",
    "    obj = class_constructor()\n",
    "    ret = obj.__mod__(obj)\n",
    "    type_pandas_core_arrays_integer_IntegerArray___mod__ = (\n",
    "    getattr(ret, '__module__', None) + '.' + ret.__class__.__name__\n",
    "        if getattr(ret, '__module__', None)\n",
    "        else ret.__class__.__name__\n",
    "        )\n",
    "    print(\"✅ pandas.core.arrays.integer.IntegerArray.__mod__:\",\n",
    "        type_pandas_core_arrays_integer_IntegerArray___mod__)\n",
    "except Exception as e:\n",
    "    type_pandas_core_arrays_integer_IntegerArray___mod__ = '_syft_missing'\n",
    "    print('❌ pandas.core.arrays.integer.IntegerArray.__mod__: Return unavailable')\n",
    "    print(\"  Please fix this return type code until there is no exception\")\n",
    "    print('   Error:', e)\n"
   ]
  },
  {
   "cell_type": "code",
   "execution_count": 18,
   "id": "cb77b5d5",
   "metadata": {},
   "outputs": [
    {
     "name": "stdout",
     "output_type": "stream",
     "text": [
      "❌ pandas.core.arrays.integer.IntegerArray.__mul__: Return unavailable\n",
      "  Please fix this return type code until there is no exception\n",
      "   Error: name 'type_pandas_core_arrays_integer_IntegerArray___mul__' is not defined\n"
     ]
    }
   ],
   "source": [
    "# pandas.core.arrays.integer.IntegerArray.__mul__\n",
    "try:\n",
    "    obj = class_constructor()\n",
    "    ret = obj.__mul__(obj)\n",
    "    type_pandas_core_arrays_iNDArrayBackedExtensionArraynteger_IntegerArray___mul__ = (\n",
    "    getattr(ret, '__module__', None) + '.' + ret.__class__.__name__\n",
    "        if getattr(ret, '__module__', None)\n",
    "        else ret.__class__.__name__\n",
    "        )\n",
    "    print(\"✅ pandas.core.arrays.integer.IntegerArray.__mul__:\",\n",
    "        type_pandas_core_arrays_integer_IntegerArray___mul__)\n",
    "except Exception as e:\n",
    "    type_pandas_core_arrays_integer_IntegerArray___mul__ = '_syft_missing'\n",
    "    print('❌ pandas.core.arrays.integer.IntegerArray.__mul__: Return unavailable')\n",
    "    print(\"  Please fix this return type code until there is no exception\")\n",
    "    print('   Error:', e)\n"
   ]
  },
  {
   "cell_type": "code",
   "execution_count": 19,
   "id": "7f788c78",
   "metadata": {},
   "outputs": [
    {
     "name": "stdout",
     "output_type": "stream",
     "text": [
      "✅ pandas.core.arraNDArrayBackedExtensionArrayys.integer.IntegerArray.__ne__: pandas.core.arrays.boolean.BooleanArray\n"
     ]
    }
   ],
   "source": [
    "# pandas.core.arrays.integer.IntegerArray.__ne__\n",
    "try:\n",
    "    obj = class_constructor()\n",
    "    ret = obj.__ne__(obj)\n",
    "    type_pandas_core_arrays_integer_IntegerArray___ne__ = (\n",
    "    getattr(ret, '__module__', None) + '.' + ret.__class__.__name__\n",
    "        if getattr(ret, '__module__', None)\n",
    "        else ret.__class__.__name__\n",
    "        )\n",
    "    print(\"✅ pandas.core.arraNDArrayBackedExtensionArrayys.integer.IntegerArray.__ne__:\",\n",
    "        type_pandas_core_arrays_integer_IntegerArray___ne__)\n",
    "except Exception as e:\n",
    "    type_pandas_core_arrays_integer_IntegerArray___ne__ = '_syft_missing'\n",
    "    print('❌ pandas.core.arrays.integer.IntegerArray.__ne__: Return unavailable')\n",
    "    print(\"  Please fix this return type code until there is no exception\")\n",
    "    print('   Error:', e)\n"
   ]
  },
  {
   "cell_type": "code",
   "execution_count": 20,
   "id": "a32c484c",
   "metadata": {},
   "outputs": [
    {
     "name": "stdout",
     "output_type": "stream",
     "text": [
      "✅ pandas.core.arrays.integer.IntegerArray.__neg__: pandas.core.arrays.integer.IntegerArray\n"
     ]
    }
   ],
   "source": [
    "# pandas.core.arrays.integer.IntegerArray.__neg__\n",
    "try:\n",
    "    obj = class_constructor()\n",
    "    ret = obj.__neg__()\n",
    "    type_pandas_core_arrays_integer_IntegerArray___neg__ = (\n",
    "    getattr(ret, '__module__', None) + '.' + ret.__class__.__name__\n",
    "        if getattr(ret, '__module__', None)\n",
    "        else ret.__class__.__name__\n",
    "        )\n",
    "    print(\"✅ pandas.core.arrays.integer.IntegerArray.__neg__:\",\n",
    "        type_pandas_core_arrays_integer_IntegerArray___neg__)\n",
    "except Exception as e:\n",
    "    type_pandas_core_arrays_integer_IntegerArray___neg__ = '_syft_missing'\n",
    "    print('❌ pandas.core.arrays.integer.IntegerArray.__neg__: Return unavailable')\n",
    "    print(\"  Please fix this return type code until there is no exception\")\n",
    "    print('   Error:', e)\n"
   ]
  },
  {
   "cell_type": "code",
   "execution_count": 21,
   "id": "de4081e9",
   "metadata": {},
   "outputs": [
    {
     "name": "stdout",
     "output_type": "stream",
     "text": [
      "✅ pandas.core.arrays.integer.IntegerArray.__pos__: pandas.core.arrays.integer.IntegerArray\n"
     ]
    }
   ],
   "source": [
    "# pandas.core.arrays.integer.IntegerArray.__pos__\n",
    "try:\n",
    "    obj = class_constructor()\n",
    "    ret = obj.__pos__()\n",
    "    type_pandas_core_arrays_integer_IntegerArray___pos__ = (\n",
    "    getattr(ret, '__module__', None) + '.' + ret.__class__.__name__\n",
    "        if getattr(ret, '__module__', None)\n",
    "        else ret.__class__.__name__\n",
    "        )\n",
    "    print(\"✅ pandas.core.arrays.integer.IntegerArray.__pos__:\",\n",
    "        type_pandas_core_arrays_integer_IntegerArray___pos__)\n",
    "except Exception as e:\n",
    "    type_pandas_core_arrays_integer_IntegerArray___pos__ = '_syft_missing'\n",
    "    print('❌ pandas.core.arrays.integer.IntegerArray.__pos__: Return unavailable')\n",
    "    print(\"  Please fix this return type code until there is no exception\")\n",
    "    print('   Error:', e)\n"
   ]
  },
  {
   "cell_type": "code",
   "execution_count": 22,
   "id": "76ade0f0",
   "metadata": {},
   "outputs": [
    {
     "name": "stdout",
     "output_type": "stream",
     "text": [
      "✅ pandas.core.arrays.integer.IntegerArray.__pow__: pandas.core.arrays.integer.IntegerArray\n"
     ]
    }
   ],
   "source": [
    "# pandas.core.arrays.integer.IntegerArray.__pow__\n",
    "try:\n",
    "    obj = class_constructor()\n",
    "    ret = obj.__pow__(3)\n",
    "    type_pandas_core_arrays_integer_IntegerArray___pow__ = (\n",
    "    getattr(ret, '__module__', None) + '.' + ret.__class__.__name__\n",
    "        if getattr(ret, '__module__', None)\n",
    "        else ret.__class__.__name__\n",
    "        )\n",
    "    print(\"✅ pandas.core.arrays.integer.IntegerArray.__pow__:\",\n",
    "        type_pandas_core_arrays_integer_IntegerArray___pow__)\n",
    "except Exception as e:\n",
    "    type_pandas_core_arrays_integer_IntegerArray___pow__ = '_syft_missing'\n",
    "    print('❌ pandas.core.arrays.integer.IntegerArray.__pow__: Return unavailable')\n",
    "    print(\"  Please fix this return type code until there is no exception\")\n",
    "    print('   Error:', e)\n"
   ]
  },
  {
   "cell_type": "code",
   "execution_count": 23,
   "id": "2c41197f",
   "metadata": {},
   "outputs": [
    {
     "name": "stdout",
     "output_type": "stream",
     "text": [
      "✅ pandas.core.arrays.integer.IntegerArray.__radd__: pandas.core.arrays.integer.IntegerArray\n"
     ]
    }
   ],
   "source": [
    "# pandas.core.arrays.integer.IntegerArray.__radd__\n",
    "try:\n",
    "    obj = class_constructor()\n",
    "    ret = obj.__radd__(obj)\n",
    "    type_pandas_core_arrays_integer_IntegerArray___radd__ = (\n",
    "    getattr(ret, '__module__', None) + '.' + ret.__class__.__name__\n",
    "        if getattr(ret, '__module__', None)\n",
    "        else ret.__class__.__name__\n",
    "        )\n",
    "    print(\"✅ pandas.core.arrays.integer.IntegerArray.__radd__:\",\n",
    "        type_pandas_core_arrays_integer_IntegerArray___radd__)\n",
    "except Exception as e:\n",
    "    type_pandas_core_arrays_integer_IntegerArray___radd__ = '_syft_missing'\n",
    "    print('❌ pandas.core.arrays.integer.IntegerArray.__radd__: Return unavailable')\n",
    "    print(\"  Please fix this return type code until there is no exception\")\n",
    "    print('   Error:', e)\n"
   ]
  },
  {
   "cell_type": "code",
   "execution_count": 24,
   "id": "291c69e7",
   "metadata": {},
   "outputs": [
    {
     "name": "stdout",
     "output_type": "stream",
     "text": [
      "❌ pandas.core.arrays.integer.IntegerArray.__rdivmod__: Return unavailable\n",
      "  Please fix this return type code until there is no exception\n",
      "   Error: values should be integer numpy array. Use the 'pd.array' function instead\n"
     ]
    }
   ],
   "source": [
    "# pandas.core.arrays.integer.IntegerArray.__rdivmod__\n",
    "try:\n",
    "    obj = class_constructor()\n",
    "    ret = obj.__rdivmod__(np.array([1,1,1]))\n",
    "    type_pandas_core_arrays_integer_IntegerArray___rdivmod__ = (\n",
    "    getattr(ret, '__module__', None) + '.' + ret.__class__.__name__\n",
    "        if getattr(ret, '__module__', None)\n",
    "        else ret.__class__.__name__\n",
    "        )\n",
    "    print(\"✅ pandas.core.arrays.integer.IntegerArray.__rdivmod__:\",\n",
    "        type_pandas_core_arrays_integer_IntegerArray___rdivmod__)\n",
    "except Exception as e:\n",
    "    type_pandas_core_arrays_integer_IntegerArray___rdivmod__ = '_syft_missing'\n",
    "    print('❌ pandas.core.arrays.integer.IntegerArray.__rdivmod__: Return unavailable')\n",
    "    print(\"  Please fix this return type code until there is no exception\")\n",
    "    print('   Error:', e)\n"
   ]
  },
  {
   "cell_type": "code",
   "execution_count": 25,
   "id": "34b3848b",
   "metadata": {},
   "outputs": [
    {
     "name": "stdout",
     "output_type": "stream",
     "text": [
      "✅ pandas.core.arrays.integer.IntegerArray.__rfloordiv__: pandas.core.arrays.integer.IntegerArray\n"
     ]
    }
   ],
   "source": [
    "# pandas.core.arrays.integer.IntegerArray.__rfloordiv__\n",
    "try:\n",
    "    obj = class_constructor()\n",
    "    ret = obj.__rfloordiv__(obj)\n",
    "    type_pandas_core_arrays_integer_IntegerArray___rfloordiv__ = (\n",
    "    getattr(ret, '__module__', None) + '.' + ret.__class__.__name__\n",
    "        if getattr(ret, '__module__', None)\n",
    "        else ret.__class__.__name__\n",
    "        )\n",
    "    print(\"✅ pandas.core.arrays.integer.IntegerArray.__rfloordiv__:\",\n",
    "        type_pandas_core_arrays_integer_IntegerArray___rfloordiv__)\n",
    "except Exception as e:\n",
    "    type_pandas_core_arrays_integer_IntegerArray___rfloordiv__ = '_syft_missing'\n",
    "    print('❌ pandas.core.arrays.integer.IntegerArray.__rfloordiv__: Return unavailable')\n",
    "    print(\"  Please fix this return type code until there is no exception\")\n",
    "    print('   Error:', e)\n"
   ]
  },
  {
   "cell_type": "code",
   "execution_count": 26,
   "id": "948f6a19",
   "metadata": {},
   "outputs": [
    {
     "name": "stdout",
     "output_type": "stream",
     "text": [
      "✅ pandas.core.arrays.integer.IntegerArray.__rmod__: pandas.core.arrays.integer.IntegerArray\n"
     ]
    }
   ],
   "source": [
    "# pandas.core.arrays.integer.IntegerArray.__rmod__\n",
    "try:\n",
    "    obj = class_constructor()\n",
    "    ret = obj.__rmod__(obj)\n",
    "    type_pandas_core_arrays_integer_IntegerArray___rmod__ = (\n",
    "    getattr(ret, '__module__', None) + '.' + ret.__class__.__name__\n",
    "        if getattr(ret, '__module__', None)\n",
    "        else ret.__class__.__name__\n",
    "        )\n",
    "    print(\"✅ pandas.core.arrays.integer.IntegerArray.__rmod__:\",\n",
    "        type_pandas_core_arrays_integer_IntegerArray___rmod__)\n",
    "except Exception as e:\n",
    "    type_pandas_core_arrays_integer_IntegerArray___rmod__ = '_syft_missing'\n",
    "    print('❌ pandas.core.arrays.integer.IntegerArray.__rmod__: Return unavailable')\n",
    "    print(\"  Please fix this return type code until there is no exception\")\n",
    "    print('   Error:', e)\n"
   ]
  },
  {
   "cell_type": "code",
   "execution_count": 27,
   "id": "6f981635",
   "metadata": {},
   "outputs": [
    {
     "name": "stdout",
     "output_type": "stream",
     "text": [
      "✅ pandas.core.arrays.integer.IntegerArray.__rmul__: pandas.core.arrays.integer.IntegerArray\n"
     ]
    }
   ],
   "source": [
    "# pandas.core.arrays.integer.IntegerArray.__rmul__\n",
    "try:\n",
    "    obj = class_constructor()\n",
    "    ret = obj.__rmul__(obj)\n",
    "    type_pandas_core_arrays_integer_IntegerArray___rmul__ = (\n",
    "    getattr(ret, '__module__', None) + '.' + ret.__class__.__name__\n",
    "        if getattr(ret, '__module__', None)\n",
    "        else ret.__class__.__name__\n",
    "        )\n",
    "    print(\"✅ pandas.core.arrays.integer.IntegerArray.__rmul__:\",\n",
    "        type_pandas_core_arrays_integer_IntegerArray___rmul__)\n",
    "except Exception as e:\n",
    "    type_pandas_core_arrays_integer_IntegerArray___rmul__ = '_syft_missing'\n",
    "    print('❌ pandas.core.arrays.integer.IntegerArray.__rmul__: Return unavailable')\n",
    "    print(\"  Please fix this return type code until there is no exception\")\n",
    "    print('   Error:', e)\n"
   ]
  },
  {
   "cell_type": "code",
   "execution_count": 28,
   "id": "07b739db",
   "metadata": {},
   "outputs": [
    {
     "name": "stdout",
     "output_type": "stream",
     "text": [
      "✅ pandas.core.arrays.integer.IntegerArray.__rpow__: pandas.core.arrays.integer.IntegerArray\n"
     ]
    }
   ],
   "source": [
    "# pandas.core.arrays.integer.IntegerArray.__rpow__\n",
    "try:\n",
    "    obj = class_constructor()\n",
    "    ret = obj.__rpow__(2)\n",
    "    type_pandas_core_arrays_integer_IntegerArray___rpow__ = (\n",
    "    getattr(ret, '__module__', None) + '.' + ret.__class__.__name__\n",
    "        if getattr(ret, '__module__', None)\n",
    "        else ret.__class__.__name__\n",
    "        )\n",
    "    print(\"✅ pandas.core.arrays.integer.IntegerArray.__rpow__:\",\n",
    "        type_pandas_core_arrays_integer_IntegerArray___rpow__)\n",
    "except Exception as e:\n",
    "    type_pandas_core_arrays_integer_IntegerArray___rpow__ = '_syft_missing'\n",
    "    print('❌ pandas.core.arrays.integer.IntegerArray.__rpow__: Return unavailable')\n",
    "    print(\"  Please fix this return type code until there is no exception\")\n",
    "    print('   Error:', e)\n"
   ]
  },
  {
   "cell_type": "code",
   "execution_count": 29,
   "id": "d9f3317e",
   "metadata": {},
   "outputs": [
    {
     "name": "stdout",
     "output_type": "stream",
     "text": [
      "✅ pandas.core.arrays.integer.IntegerArray.__rsub__: pandas.core.arrays.integer.IntegerArray\n"
     ]
    }
   ],
   "source": [
    "# pandas.core.arrays.integer.IntegerArray.__rsub__\n",
    "try:\n",
    "    obj = class_constructor()\n",
    "    ret = obj.__rsub__(2)\n",
    "    type_pandas_core_arrays_integer_IntegerArray___rsub__ = (\n",
    "    getattr(ret, '__module__', None) + '.' + ret.__class__.__name__\n",
    "        if getattr(ret, '__module__', None)\n",
    "        else ret.__class__.__name__\n",
    "        )\n",
    "    print(\"✅ pandas.core.arrays.integer.IntegerArray.__rsub__:\",\n",
    "        type_pandas_core_arrays_integer_IntegerArray___rsub__)\n",
    "except Exception as e:\n",
    "    type_pandas_core_arrays_integer_IntegerArray___rsub__ = '_syft_missing'\n",
    "    print('❌ pandas.core.arrays.integer.IntegerArray.__rsub__: Return unavailable')\n",
    "    print(\"  Please fix this return type code until there is no exception\")\n",
    "    print('   Error:', e)\n"
   ]
  },
  {
   "cell_type": "code",
   "execution_count": 30,
   "id": "2a2cd7c5",
   "metadata": {},
   "outputs": [
    {
     "name": "stdout",
     "output_type": "stream",
     "text": [
      "✅ pandas.core.arrays.integer.IntegerArray.__rtruediv__: ndarray\n"
     ]
    }
   ],
   "source": [
    "# pandas.core.arrays.integer.IntegerArray.__rtruediv__\n",
    "try:\n",
    "    obj = class_constructor()\n",
    "    ret = obj.__rtruediv__(2)\n",
    "    type_pandas_core_arrays_integer_IntegerArray___rtruediv__ = (\n",
    "    getattr(ret, '__module__', None) + '.' + ret.__class__.__name__\n",
    "        if getattr(ret, '__module__', None)\n",
    "        else ret.__class__.__name__\n",
    "        )\n",
    "    print(\"✅ pandas.core.arrays.integer.IntegerArray.__rtruediv__:\",\n",
    "        type_pandas_core_arrays_integer_IntegerArray___rtruediv__)\n",
    "except Exception as e:\n",
    "    type_pandas_core_arrays_integer_IntegerArray___rtruediv__ = '_syft_missing'\n",
    "    print('❌ pandas.core.arrays.integer.IntegerArray.__rtruediv__: Return unavailable')\n",
    "    print(\"  Please fix this return type code until there is no exception\")\n",
    "    print('   Error:', e)\n"
   ]
  },
  {
   "cell_type": "code",
   "execution_count": 31,
   "id": "26fa3e81",
   "metadata": {},
   "outputs": [
    {
     "name": "stdout",
     "output_type": "stream",
     "text": [
      "✅ pandas.core.arrays.integer.IntegerArray.__sub__: pandas.core.arrays.integer.IntegerArray\n"
     ]
    }
   ],
   "source": [
    "# pandas.core.arrays.integer.IntegerArray.__sub__\n",
    "try:\n",
    "    obj = class_constructor()\n",
    "    ret = obj.__sub__(obj)\n",
    "    type_pandas_core_arrays_integer_IntegerArray___sub__ = (\n",
    "    getattr(ret, '__module__', None) + '.' + ret.__class__.__name__\n",
    "        if getattr(ret, '__module__', None)\n",
    "        else ret.__class__.__name__\n",
    "        )\n",
    "    print(\"✅ pandas.core.arrays.integer.IntegerArray.__sub__:\",\n",
    "        type_pandas_core_arrays_integer_IntegerArray___sub__)\n",
    "except Exception as e:\n",
    "    type_pandas_core_arrays_integer_IntegerArray___sub__ = '_syft_missing'\n",
    "    print('❌ pandas.core.arrays.integer.IntegerArray.__sub__: Return unavailable')\n",
    "    print(\"  Please fix this return type code until there is no exception\")\n",
    "    print('   Error:', e)\n"
   ]
  },
  {
   "cell_type": "code",
   "execution_count": 32,
   "id": "9c733c04",
   "metadata": {},
   "outputs": [
    {
     "name": "stdout",
     "output_type": "stream",
     "text": [
      "✅ pandas.core.arrays.integer.IntegerArray.__truediv__: ndarray\n"
     ]
    }
   ],
   "source": [
    "# pandas.core.arrays.integer.IntegerArray.__truediv__\n",
    "try:\n",
    "    obj = class_constructor()\n",
    "    ret = obj.__truediv__(obj)\n",
    "    type_pandas_core_arrays_integer_IntegerArray___truediv__ = (\n",
    "    getattr(ret, '__module__', None) + '.' + ret.__class__.__name__\n",
    "        if getattr(ret, '__module__', None)\n",
    "        else ret.__class__.__name__\n",
    "        )\n",
    "    print(\"✅ pandas.core.arrays.integer.IntegerArray.__truediv__:\",\n",
    "        type_pandas_core_arrays_integer_IntegerArray___truediv__)\n",
    "except Exception as e:\n",
    "    type_pandas_core_arrays_integer_IntegerArray___truediv__ = '_syft_missing'\n",
    "    print('❌ pandas.core.arrays.integer.IntegerArray.__truediv__: Return unavailable')\n",
    "    print(\"  Please fix this return type code until there is no exception\")\n",
    "    print('   Error:', e)\n"
   ]
  },
  {
   "cell_type": "code",
   "execution_count": 33,
   "id": "e1f38f24",
   "metadata": {},
   "outputs": [
    {
     "name": "stdout",
     "output_type": "stream",
     "text": [
      "✅ pandas.core.arrays.integer.IntegerArray._add_arithmetic_ops: NoneType\n"
     ]
    }
   ],
   "source": [
    "# pandas.core.arrays.integer.IntegerArray._add_arithmetic_ops\n",
    "try:\n",
    "    obj = class_constructor()\n",
    "    ret = obj._add_arithmetic_ops()\n",
    "    type_pandas_core_arrays_integer_IntegerArray__add_arithmetic_ops = (\n",
    "    getattr(ret, '__module__', None) + '.' + ret.__class__.__name__\n",
    "        if getattr(ret, '__module__', None)\n",
    "        else ret.__class__.__name__\n",
    "        )\n",
    "    print(\"✅ pandas.core.arrays.integer.IntegerArray._add_arithmetic_ops:\",\n",
    "        type_pandas_core_arrays_integer_IntegerArray__add_arithmetic_ops)\n",
    "except Exception as e:\n",
    "    type_pandas_core_arrays_integer_IntegerArray__add_arithmetic_ops = '_syft_missing'\n",
    "    print('❌ pandas.core.arrays.integer.IntegerArray._add_arithmetic_ops: Return unavailable')\n",
    "    print(\"  Please fix this return type code until there is no exception\")\n",
    "    print('   Error:', e)\n"
   ]
  },
  {
   "cell_type": "code",
   "execution_count": 34,
   "id": "6aba7038",
   "metadata": {},
   "outputs": [
    {
     "name": "stdout",
     "output_type": "stream",
     "text": [
      "✅ pandas.core.arrays.integer.IntegerArray._add_comparison_ops: NoneType\n"
     ]
    }
   ],
   "source": [
    "# pandas.core.arrays.integer.IntegerArray._add_comparison_ops\n",
    "try:\n",
    "    obj = class_constructor()\n",
    "    ret = obj._add_comparison_ops()\n",
    "    type_pandas_core_arrays_integer_IntegerArray__add_comparison_ops = (\n",
    "    getattr(ret, '__module__', None) + '.' + ret.__class__.__name__\n",
    "        if getattr(ret, '__module__', None)\n",
    "        else ret.__class__.__name__\n",
    "        )\n",
    "    print(\"✅ pandas.core.arrays.integer.IntegerArray._add_comparison_ops:\",\n",
    "        type_pandas_core_arrays_integer_IntegerArray__add_comparison_ops)\n",
    "except Exception as e:\n",
    "    type_pandas_core_arrays_integer_IntegerArray__add_comparison_ops = '_syft_missing'\n",
    "    print('❌ pandas.core.arrays.integer.IntegerArray._add_comparison_ops: Return unavailable')\n",
    "    print(\"  Please fix this return type code until there is no exception\")\n",
    "    print('   Error:', e)\n"
   ]
  },
  {
   "cell_type": "code",
   "execution_count": 35,
   "id": "77c0a0e1",
   "metadata": {},
   "outputs": [
    {
     "name": "stdout",
     "output_type": "stream",
     "text": [
      "❌ pandas.core.arrays.integer.IntegerArray._add_logical_ops: Return unavailable\n",
      "  Please fix this return type code until there is no exception\n",
      "   Error: type object 'IntegerArray' has no attribute '_create_logical_method'\n"
     ]
    }
   ],
   "source": [
    "# pandas.core.arrays.integer.IntegerArray._add_logical_ops\n",
    "try:\n",
    "    obj = class_constructor()\n",
    "    ret = obj._add_logical_ops()\n",
    "    type_pandas_core_arrays_integer_IntegerArray__add_logical_ops = (\n",
    "    getattr(ret, '__module__', None) + '.' + ret.__class__.__name__\n",
    "        if getattr(ret, '__module__', None)\n",
    "        else ret.__class__.__name__\n",
    "        )\n",
    "    print(\"✅ pandas.core.arrays.integer.IntegerArray._add_logical_ops:\",\n",
    "        type_pandas_core_arrays_integer_IntegerArray__add_logical_ops)\n",
    "except Exception as e:\n",
    "    type_pandas_core_arrays_integer_IntegerArray__add_logical_ops = '_syft_missing'\n",
    "    print('❌ pandas.core.arrays.integer.IntegerArray._add_logical_ops: Return unavailable')\n",
    "    print(\"  Please fix this return type code until there is no exception\")\n",
    "    print('   Error:', e)\n"
   ]
  },
  {
   "cell_type": "code",
   "execution_count": 36,
   "id": "5ecb29b7",
   "metadata": {},
   "outputs": [
    {
     "name": "stdout",
     "output_type": "stream",
     "text": [
      "✅ pandas.core.arrays.integer.IntegerArray._create_arithmetic_method: pandas.core.arrays.integer.function\n"
     ]
    }
   ],
   "source": [
    "# pandas.core.arrays.integer.IntegerArray._create_arithmetic_method\n",
    "try:\n",
    "    obj = class_constructor()\n",
    "    import operator as op\n",
    "    ret = obj._create_arithmetic_method(op.add)\n",
    "    type_pandas_core_arrays_integer_IntegerArray__create_arithmetic_method = (\n",
    "    getattr(ret, '__module__', None) + '.' + ret.__class__.__name__\n",
    "        if getattr(ret, '__module__', None)\n",
    "        else ret.__class__.__name__\n",
    "        )\n",
    "    print(\"✅ pandas.core.arrays.integer.IntegerArray._create_arithmetic_method:\",\n",
    "        type_pandas_core_arrays_integer_IntegerArray__create_arithmetic_method)\n",
    "except Exception as e:\n",
    "    type_pandas_core_arrays_integer_IntegerArray__create_arithmetic_method = '_syft_missing'\n",
    "    print('❌ pandas.core.arrays.integer.IntegerArray._create_arithmetic_method: Return unavailable')\n",
    "    print(\"  Please fix this return type code until there is no exception\")\n",
    "    print('   Error:', e)\n"
   ]
  },
  {
   "cell_type": "code",
   "execution_count": 37,
   "id": "ee3b07f2",
   "metadata": {},
   "outputs": [
    {
     "name": "stdout",
     "output_type": "stream",
     "text": [
      "✅ pandas.core.arrays.integer.IntegerArray._create_comparison_method: pandas.core.arrays.integer.function\n"
     ]
    }
   ],
   "source": [
    "# pandas.core.arrays.integer.IntegerArray._create_comparison_method\n",
    "try:\n",
    "    obj = class_constructor()\n",
    "    import operator as op\n",
    "    ret = obj._create_comparison_method(op.eq)\n",
    "    type_pandas_core_arrays_integer_IntegerArray__create_comparison_method = (\n",
    "    getattr(ret, '__module__', None) + '.' + ret.__class__.__name__\n",
    "        if getattr(ret, '__module__', None)\n",
    "        else ret.__class__.__name__\n",
    "        )\n",
    "    print(\"✅ pandas.core.arrays.integer.IntegerArray._create_comparison_method:\",\n",
    "        type_pandas_core_arrays_integer_IntegerArray__create_comparison_method)\n",
    "except Exception as e:\n",
    "    type_pandas_core_arrays_integer_IntegerArray__create_comparison_method = '_syft_missing'\n",
    "    print('❌ pandas.core.arrays.integer.IntegerArray._create_comparison_method: Return unavailable')\n",
    "    print(\"  Please fix this return type code until there is no exception\")\n",
    "    print('   Error:', e)\n"
   ]
  },
  {
   "cell_type": "code",
   "execution_count": 38,
   "id": "8e6c6a62",
   "metadata": {},
   "outputs": [
    {
     "name": "stdout",
     "output_type": "stream",
     "text": [
      "❌ pandas.core.arrays.integer.IntegerArray._from_factorized: Return unavailable\n",
      "  Please fix this return type code until there is no exception\n",
      "   Error: _from_factorized() missing 2 required positional arguments: 'values' and 'original'\n"
     ]
    }
   ],
   "source": [
    "# pandas.core.arrays.integer.IntegerArray._from_factorized\n",
    "try:\n",
    "    obj = class_constructor()\n",
    "    ret = obj._from_factorized()\n",
    "    type_pandas_core_arrays_integer_IntegerArray__from_factorized = (\n",
    "    getattr(ret, '__module__', None) + '.' + ret.__class__.__name__\n",
    "        if getattr(ret, '__module__', None)\n",
    "        else ret.__class__.__name__\n",
    "        )\n",
    "    print(\"✅ pandas.core.arrays.integer.IntegerArray._from_factorized:\",\n",
    "        type_pandas_core_arrays_integer_IntegerArray__from_factorized)\n",
    "except Exception as e:\n",
    "    type_pandas_core_arrays_integer_IntegerArray__from_factorized = '_syft_missing'\n",
    "    print('❌ pandas.core.arrays.integer.IntegerArray._from_factorized: Return unavailable')\n",
    "    print(\"  Please fix this return type code until there is no exception\")\n",
    "    print('   Error:', e)\n"
   ]
  },
  {
   "cell_type": "code",
   "execution_count": 39,
   "id": "a19811d9",
   "metadata": {},
   "outputs": [
    {
     "name": "stdout",
     "output_type": "stream",
     "text": [
      "✅ pandas.core.arrays.integer.IntegerArray._hasna: bool_\n"
     ]
    }
   ],
   "source": [
    "# pandas.core.arrays.integer.IntegerArray._hasna\n",
    "try:\n",
    "    obj = class_constructor()\n",
    "    ret = obj._hasna\n",
    "    type_pandas_core_arrays_integer_IntegerArray__hasna = (\n",
    "    getattr(ret, '__module__', None) + '.' + ret.__class__.__name__\n",
    "        if getattr(ret, '__module__', None)\n",
    "        else ret.__class__.__name__\n",
    "        )\n",
    "    print(\"✅ pandas.core.arrays.integer.IntegerArray._hasna:\",\n",
    "        type_pandas_core_arrays_integer_IntegerArray__hasna)\n",
    "except Exception as e:\n",
    "    type_pandas_core_arrays_integer_IntegerArray__hasna = '_syft_missing'\n",
    "    print('❌ pandas.core.arrays.integer.IntegerArray._hasna: Return unavailable')\n",
    "    print(\"  Please fix this return type code until there is no exception\")\n",
    "    print('  Error:', e)\n"
   ]
  },
  {
   "cell_type": "code",
   "execution_count": 40,
   "id": "e865184e",
   "metadata": {},
   "outputs": [
    {
     "name": "stdout",
     "output_type": "stream",
     "text": [
      "❌ pandas.core.arrays.integer.IntegerArray._maybe_mask_result: Return unavailable\n",
      "  Please fix this return type code until there is no exception\n",
      "   Error: _maybe_mask_result() missing 4 required positional arguments: 'result', 'mask', 'other', and 'op_name'\n"
     ]
    }
   ],
   "source": [
    "# pandas.core.arrays.integer.IntegerArray._maybe_mask_result\n",
    "try:\n",
    "    obj = class_constructor()\n",
    "    ret = obj._maybe_mask_result()\n",
    "    type_pandas_core_arrays_integer_IntegerArray__maybe_mask_result = (\n",
    "    getattr(ret, '__module__', None) + '.' + ret.__class__.__name__\n",
    "        if getattr(ret, '__module__', None)\n",
    "        else ret.__class__.__name__\n",
    "        )\n",
    "    print(\"✅ pandas.core.arrays.integer.IntegerArray._maybe_mask_result:\",\n",
    "        type_pandas_core_arrays_integer_IntegerArray__maybe_mask_result)\n",
    "except Exception as e:\n",
    "    type_pandas_core_arrays_integer_IntegerArray__maybe_mask_result = '_syft_missing'\n",
    "    print('❌ pandas.core.arrays.integer.IntegerArray._maybe_mask_result: Return unavailable')\n",
    "    print(\"  Please fix this return type code until there is no exception\")\n",
    "    print('   Error:', e)\n"
   ]
  },
  {
   "cell_type": "code",
   "execution_count": 41,
   "id": "b22d4d84",
   "metadata": {},
   "outputs": [
    {
     "name": "stdout",
     "output_type": "stream",
     "text": [
      "✅ pandas.core.arrays.integer.IntegerArray._na_value: pandas._libs.missing.NAType\n"
     ]
    }
   ],
   "source": [
    "# pandas.core.arrays.integer.IntegerArray._na_value\n",
    "try:\n",
    "    obj = class_constructor()\n",
    "    ret = obj._na_value\n",
    "    type_pandas_core_arrays_integer_IntegerArray__na_value = (\n",
    "    getattr(ret, '__module__', None) + '.' + ret.__class__.__name__\n",
    "        if getattr(ret, '__module__', None)\n",
    "        else ret.__class__.__name__\n",
    "        )\n",
    "    print(\"✅ pandas.core.arrays.integer.IntegerArray._na_value:\",\n",
    "        type_pandas_core_arrays_integer_IntegerArray__na_value)\n",
    "except Exception as e:\n",
    "    type_pandas_core_arrays_integer_IntegerArray__na_value = '_syft_missing'\n",
    "    print('❌ pandas.core.arrays.integer.IntegerArray._na_value: Return unavailable')\n",
    "    print(\"  Please fix this return type code until there is no exception\")\n",
    "    print('  Error:', e)\n"
   ]
  },
  {
   "cell_type": "code",
   "execution_count": 42,
   "id": "1e6ef5d4",
   "metadata": {},
   "outputs": [
    {
     "name": "stdout",
     "output_type": "stream",
     "text": [
      "✅ pandas.core.arrays.integer.IntegerArray._reduce: bool_\n"
     ]
    }
   ],
   "source": [
    "# pandas.core.arrays.integer.IntegerArray._reduce\n",
    "try:\n",
    "    obj = class_constructor()\n",
    "    ret = obj._reduce(\"all\")\n",
    "    type_pandas_core_arrays_integer_IntegerArray__reduce = (\n",
    "    getattr(ret, '__module__', None) + '.' + ret.__class__.__name__\n",
    "        if getattr(ret, '__module__', None)\n",
    "        else ret.__class__.__name__\n",
    "        )\n",
    "    print(\"✅ pandas.core.arrays.integer.IntegerArray._reduce:\",\n",
    "        type_pandas_core_arrays_integer_IntegerArray__reduce)\n",
    "except Exception as e:\n",
    "    type_pandas_core_arrays_integer_IntegerArray__reduce = '_syft_missing'\n",
    "    print('❌ pandas.core.arrays.integer.IntegerArray._reduce: Return unavailable')\n",
    "    print(\"  Please fix this return type code until there is no exception\")\n",
    "    print('   Error:', e)\n"
   ]
  },
  {
   "cell_type": "code",
   "execution_count": 43,
   "id": "ede15ce2",
   "metadata": {},
   "outputs": [
    {
     "name": "stdout",
     "output_type": "stream",
     "text": [
      "✅ pandas.core.arrays.integer.IntegerArray.argmax: int64\n"
     ]
    }
   ],
   "source": [
    "# pandas.core.arrays.integer.IntegerArray.argmax\n",
    "try:\n",
    "    obj = class_constructor()\n",
    "    ret = obj.argmax()\n",
    "    type_pandas_core_arrays_integer_IntegerArray_argmax = (\n",
    "    getattr(ret, '__module__', None) + '.' + ret.__class__.__name__\n",
    "        if getattr(ret, '__module__', None)\n",
    "        else ret.__class__.__name__\n",
    "        )\n",
    "    print(\"✅ pandas.core.arrays.integer.IntegerArray.argmax:\",\n",
    "        type_pandas_core_arrays_integer_IntegerArray_argmax)\n",
    "except Exception as e:\n",
    "    type_pandas_core_arrays_integer_IntegerArray_argmax = '_syft_missing'\n",
    "    print('❌ pandas.core.arrays.integer.IntegerArray.argmax: Return unavailable')\n",
    "    print(\"  Please fix this return type code until there is no exception\")\n",
    "    print('   Error:', e)\n"
   ]
  },
  {
   "cell_type": "code",
   "execution_count": 44,
   "id": "38cb0de4",
   "metadata": {},
   "outputs": [
    {
     "name": "stdout",
     "output_type": "stream",
     "text": [
      "✅ pandas.core.arrays.integer.IntegerArray.argmin: int64\n"
     ]
    }
   ],
   "source": [
    "# pandas.core.arrays.integer.IntegerArray.argmin\n",
    "try:\n",
    "    obj = class_constructor()\n",
    "    ret = obj.argmin()\n",
    "    type_pandas_core_arrays_integer_IntegerArray_argmin = (\n",
    "    getattr(ret, '__module__', None) + '.' + ret.__class__.__name__\n",
    "        if getattr(ret, '__module__', None)\n",
    "        else ret.__class__.__name__\n",
    "        )\n",
    "    print(\"✅ pandas.core.arrays.integer.IntegerArray.argmin:\",\n",
    "        type_pandas_core_arrays_integer_IntegerArray_argmin)\n",
    "except Exception as e:\n",
    "    type_pandas_core_arrays_integer_IntegerArray_argmin = '_syft_missing'\n",
    "    print('❌ pandas.core.arrays.integer.IntegerArray.argmin: Return unavailable')\n",
    "    print(\"  Please fix this return type code until there is no exception\")\n",
    "    print('   Error:', e)\n"
   ]
  },
  {
   "cell_type": "code",
   "execution_count": 45,
   "id": "1ea18257",
   "metadata": {},
   "outputs": [
    {
     "name": "stdout",
     "output_type": "stream",
     "text": [
      "✅ pandas.core.arrays.integer.IntegerArray.dropna: pandas.core.arrays.integer.IntegerArray\n"
     ]
    }
   ],
   "source": [
    "# pandas.core.arrays.integer.IntegerArray.dropna\n",
    "try:\n",
    "    obj = class_constructor()\n",
    "    ret = obj.dropna()\n",
    "    type_pandas_core_arrays_integer_IntegerArray_dropna = (\n",
    "    getattr(ret, '__module__', None) + '.' + ret.__class__.__name__\n",
    "        if getattr(ret, '__module__', None)\n",
    "        else ret.__class__.__name__\n",
    "        )\n",
    "    print(\"✅ pandas.core.arrays.integer.IntegerArray.dropna:\",\n",
    "        type_pandas_core_arrays_integer_IntegerArray_dropna)\n",
    "except Exception as e:\n",
    "    type_pandas_core_arrays_integer_IntegerArray_dropna = '_syft_missing'\n",
    "    print('❌ pandas.core.arrays.integer.IntegerArray.dropna: Return unavailable')\n",
    "    print(\"  Please fix this return type code until there is no exception\")\n",
    "    print('   Error:', e)\n"
   ]
  },
  {
   "cell_type": "code",
   "execution_count": 46,
   "id": "b82ad311",
   "metadata": {},
   "outputs": [
    {
     "name": "stdout",
     "output_type": "stream",
     "text": [
      "✅ pandas.core.arrays.integer.IntegerArray.fillna: pandas.core.arrays.integer.IntegerArray\n"
     ]
    }
   ],
   "source": [
    "# pandas.core.arrays.integer.IntegerArray.fillna\n",
    "try:\n",
    "    obj = class_constructor()\n",
    "    ret = obj.fillna(1)\n",
    "    type_pandas_core_arrays_integer_IntegerArray_fillna = (\n",
    "    getattr(ret, '__module__', None) + '.' + ret.__class__.__name__\n",
    "        if getattr(ret, '__module__', None)\n",
    "        else ret.__class__.__name__\n",
    "        )\n",
    "    print(\"✅ pandas.core.arrays.integer.IntegerArray.fillna:\",\n",
    "        type_pandas_core_arrays_integer_IntegerArray_fillna)\n",
    "except Exception as e:\n",
    "    type_pandas_core_arrays_integer_IntegerArray_fillna = '_syft_missing'\n",
    "    print('❌ pandas.core.arrays.integer.IntegerArray.fillna: Return unavailable')\n",
    "    print(\"  Please fix this return type code until there is no exception\")\n",
    "    print('   Error:', e)\n"
   ]
  },
  {
   "cell_type": "code",
   "execution_count": 47,
   "id": "6e3031ef",
   "metadata": {},
   "outputs": [
    {
     "name": "stdout",
     "output_type": "stream",
     "text": [
      "✅ pandas.core.arrays.integer.IntegerArray.nbytes: int\n"
     ]
    }
   ],
   "source": [
    "# pandas.core.arrays.integer.IntegerArray.nbytes\n",
    "try:\n",
    "    obj = class_constructor()\n",
    "    ret = obj.nbytes\n",
    "    type_pandas_core_arrays_integer_IntegerArray_nbytes = (\n",
    "    getattr(ret, '__module__', None) + '.' + ret.__class__.__name__\n",
    "        if getattr(ret, '__module__', None)\n",
    "        else ret.__class__.__name__\n",
    "        )\n",
    "    print(\"✅ pandas.core.arrays.integer.IntegerArray.nbytes:\",\n",
    "        type_pandas_core_arrays_integer_IntegerArray_nbytes)\n",
    "except Exception as e:\n",
    "    type_pandas_core_arrays_integer_IntegerArray_nbytes = '_syft_missing'\n",
    "    print('❌ pandas.core.arrays.integer.IntegerArray.nbytes: Return unavailable')\n",
    "    print(\"  Please fix this return type code until there is no exception\")\n",
    "    print('  Error:', e)\n"
   ]
  },
  {
   "cell_type": "code",
   "execution_count": 48,
   "id": "0dc9ac64",
   "metadata": {},
   "outputs": [
    {
     "name": "stdout",
     "output_type": "stream",
     "text": [
      "✅ pandas.core.arrays.integer.IntegerArray.ndim: int\n"
     ]
    }
   ],
   "source": [
    "# pandas.core.arrays.integer.IntegerArray.ndim\n",
    "try:\n",
    "    obj = class_constructor()\n",
    "    ret = obj.ndim\n",
    "    type_pandas_core_arrays_integer_IntegerArray_ndim = (\n",
    "    getattr(ret, '__module__', None) + '.' + ret.__class__.__name__\n",
    "        if getattr(ret, '__module__', None)\n",
    "        else ret.__class__.__name__\n",
    "        )\n",
    "    print(\"✅ pandas.core.arrays.integer.IntegerArray.ndim:\",\n",
    "        type_pandas_core_arrays_integer_IntegerArray_ndim)\n",
    "except Exception as e:\n",
    "    type_pandas_core_arrays_integer_IntegerArray_ndim = '_syft_missing'\n",
    "    print('❌ pandas.core.arrays.integer.IntegerArray.ndim: Return unavailable')\n",
    "    print(\"  Please fix this return type code until there is no exception\")\n",
    "    print('  Error:', e)\n"
   ]
  },
  {
   "cell_type": "code",
   "execution_count": 49,
   "id": "1a937c9e",
   "metadata": {},
   "outputs": [
    {
     "name": "stdout",
     "output_type": "stream",
     "text": [
      "✅ pandas.core.arrays.integer.IntegerArray.repeat: pandas.core.arrays.integer.IntegerArray\n"
     ]
    }
   ],
   "source": [
    "# pandas.core.arrays.integer.IntegerArray.repeat\n",
    "try:\n",
    "    obj = class_constructor()\n",
    "    ret = obj.repeat(2)\n",
    "    type_pandas_core_arrays_integer_IntegerArray_repeat = (\n",
    "    getattr(ret, '__module__', None) + '.' + ret.__class__.__name__\n",
    "        if getattr(ret, '__module__', None)\n",
    "        else ret.__class__.__name__\n",
    "        )\n",
    "    print(\"✅ pandas.core.arrays.integer.IntegerArray.repeat:\",\n",
    "        type_pandas_core_arrays_integer_IntegerArray_repeat)\n",
    "except Exception as e:\n",
    "    type_pandas_core_arrays_integer_IntegerArray_repeat = '_syft_missing'\n",
    "    print('❌ pandas.core.arrays.integer.IntegerArray.repeat: Return unavailable')\n",
    "    print(\"  Please fix this return type code until there is no exception\")\n",
    "    print('   Error:', e)\n"
   ]
  },
  {
   "cell_type": "code",
   "execution_count": 50,
   "id": "b8969b1b",
   "metadata": {},
   "outputs": [
    {
     "name": "stdout",
     "output_type": "stream",
     "text": [
      "✅ pandas.core.arrays.integer.IntegerArray.searchsorted: int64\n"
     ]
    }
   ],
   "source": [
    "# pandas.core.arrays.integer.IntegerArray.searchsorted\n",
    "try:\n",
    "    obj = class_constructor()\n",
    "    ret = obj.searchsorted(1)\n",
    "    type_pandas_core_arrays_integer_IntegerArray_searchsorted = (\n",
    "    getattr(ret, '__module__', None) + '.' + ret.__class__.__name__\n",
    "        if getattr(ret, '__module__', None)\n",
    "        else ret.__class__.__name__\n",
    "        )\n",
    "    print(\"✅ pandas.core.arrays.integer.IntegerArray.searchsorted:\",\n",
    "        type_pandas_core_arrays_integer_IntegerArray_searchsorted)\n",
    "except Exception as e:\n",
    "    type_pandas_core_arrays_integer_IntegerArray_searchsorted = '_syft_missing'\n",
    "    print('❌ pandas.core.arrays.integer.IntegerArray.searchsorted: Return unavailable')\n",
    "    print(\"  Please fix this return type code until there is no exception\")\n",
    "    print('   Error:', e)\n"
   ]
  },
  {
   "cell_type": "code",
   "execution_count": 51,
   "id": "2cd73c74",
   "metadata": {},
   "outputs": [
    {
     "name": "stdout",
     "output_type": "stream",
     "text": [
      "✅ pandas.core.arrays.integer.IntegerArray.shape: tuple\n"
     ]
    }
   ],
   "source": [
    "# pandas.core.arrays.integer.IntegerArray.shape\n",
    "try:\n",
    "    obj = class_constructor()\n",
    "    ret = obj.shape\n",
    "    type_pandas_core_arrays_integer_IntegerArray_shape = (\n",
    "    getattr(ret, '__module__', None) + '.' + ret.__class__.__name__\n",
    "        if getattr(ret, '__module__', None)\n",
    "        else ret.__class__.__name__\n",
    "        )\n",
    "    print(\"✅ pandas.core.arrays.integer.IntegerArray.shape:\",\n",
    "        type_pandas_core_arrays_integer_IntegerArray_shape)\n",
    "except Exception as e:\n",
    "    type_pandas_core_arrays_integer_IntegerArray_shape = '_syft_missing'\n",
    "    print('❌ pandas.core.arrays.integer.IntegerArray.shape: Return unavailable')\n",
    "    print(\"  Please fix this return type code until there is no exception\")\n",
    "    print('  Error:', e)\n"
   ]
  },
  {
   "cell_type": "code",
   "execution_count": 52,
   "id": "14d40c60",
   "metadata": {},
   "outputs": [
    {
     "name": "stdout",
     "output_type": "stream",
     "text": [
      "✅ pandas.core.arrays.integer.IntegerArray.size: int64\n"
     ]
    }
   ],
   "source": [
    "# pandas.core.arrays.integer.IntegerArray.size\n",
    "try:\n",
    "    obj = class_constructor()\n",
    "    ret = obj.size\n",
    "    type_pandas_core_arrays_integer_IntegerArray_size = (\n",
    "    getattr(ret, '__module__', None) + '.' + ret.__class__.__name__\n",
    "        if getattr(ret, '__module__', None)\n",
    "        else ret.__class__.__name__\n",
    "        )\n",
    "    print(\"✅ pandas.core.arrays.integer.IntegerArray.size:\",\n",
    "        type_pandas_core_arrays_integer_IntegerArray_size)\n",
    "except Exception as e:\n",
    "    type_pandas_core_arrays_integer_IntegerArray_size = '_syft_missing'\n",
    "    print('❌ pandas.core.arrays.integer.IntegerArray.size: Return unavailable')\n",
    "    print(\"  Please fix this return type code until there is no exception\")\n",
    "    print('  Error:', e)\n"
   ]
  },
  {
   "cell_type": "code",
   "execution_count": 53,
   "id": "af0c48f1",
   "metadata": {},
   "outputs": [
    {
     "name": "stdout",
     "output_type": "stream",
     "text": [
      "✅ pandas.core.arrays.integer.IntegerArray.sum: int64\n"
     ]
    }
   ],
   "source": [
    "# pandas.core.arrays.integer.IntegerArray.sum\n",
    "try:\n",
    "    obj = class_constructor()\n",
    "    ret = obj.sum()\n",
    "    type_pandas_core_arrays_integer_IntegerArray_sum = (\n",
    "    getattr(ret, '__module__', None) + '.' + ret.__class__.__name__\n",
    "        if getattr(ret, '__module__', None)\n",
    "        else ret.__class__.__name__\n",
    "        )\n",
    "    print(\"✅ pandas.core.arrays.integer.IntegerArray.sum:\",\n",
    "        type_pandas_core_arrays_integer_IntegerArray_sum)\n",
    "except Exception as e:\n",
    "    type_pandas_core_arrays_integer_IntegerArray_sum = '_syft_missing'\n",
    "    print('❌ pandas.core.arrays.integer.IntegerArray.sum: Return unavailable')\n",
    "    print(\"  Please fix this return type code until there is no exception\")\n",
    "    print('   Error:', e)\n"
   ]
  },
  {
   "cell_type": "code",
   "execution_count": 54,
   "id": "467e293c",
   "metadata": {},
   "outputs": [
    {
     "name": "stdout",
     "output_type": "stream",
     "text": [
      "✅ pandas.core.arrays.integer.IntegerArray.unique: pandas.core.arrays.integer.IntegerArray\n"
     ]
    }
   ],
   "source": [
    "# pandas.core.arrays.integer.IntegerArray.unique\n",
    "try:\n",
    "    obj = class_constructor()\n",
    "    ret = obj.unique()\n",
    "    type_pandas_core_arrays_integer_IntegerArray_unique = (\n",
    "    getattr(ret, '__module__', None) + '.' + ret.__class__.__name__\n",
    "        if getattr(ret, '__module__', None)\n",
    "        else ret.__class__.__name__\n",
    "        )\n",
    "    print(\"✅ pandas.core.arrays.integer.IntegerArray.unique:\",\n",
    "        type_pandas_core_arrays_integer_IntegerArray_unique)\n",
    "except Exception as e:\n",
    "    type_pandas_core_arrays_integer_IntegerArray_unique = '_syft_missing'\n",
    "    print('❌ pandas.core.arrays.integer.IntegerArray.unique: Return unavailable')\n",
    "    print(\"  Please fix this return type code until there is no exception\")\n",
    "    print('   Error:', e)\n"
   ]
  },
  {
   "cell_type": "code",
   "execution_count": null,
   "id": "a073b2eb",
   "metadata": {},
   "outputs": [],
   "source": []
  }
 ],
 "metadata": {
  "kernelspec": {
   "display_name": "Python 3",
   "language": "python",
   "name": "python3"
  },
  "language_info": {
   "codemirror_mode": {
    "name": "ipython",
    "version": 3
   },
   "file_extension": ".py",
   "mimetype": "text/x-python",
   "name": "python",
   "nbconvert_exporter": "python",
   "pygments_lexer": "ipython3",
   "version": "3.9.5"
  }
 },
 "nbformat": 4,
 "nbformat_minor": 5
}

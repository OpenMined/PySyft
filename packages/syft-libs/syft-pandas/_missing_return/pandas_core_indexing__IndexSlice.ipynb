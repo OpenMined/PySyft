{
 "cells": [
  {
   "cell_type": "markdown",
   "id": "345eac2c",
   "metadata": {},
   "source": [
    "## pandas.core.indexing._IndexSlice"
   ]
  },
  {
   "cell_type": "code",
   "execution_count": null,
   "id": "5ca80ee1",
   "metadata": {},
   "outputs": [],
   "source": [
    "import pandas\n",
    "def class_constructor(*args, **kwargs):\n",
    "    obj = pandas.core.indexing._IndexSlice()\n",
    "    return obj\n"
   ]
  },
  {
   "cell_type": "code",
   "execution_count": null,
   "id": "55093cc9",
   "metadata": {},
   "outputs": [],
   "source": [
    "# pandas.core.indexing._IndexSlice.__getitem__\n",
    "try:\n",
    "    obj = class_constructor()\n",
    "    ret = obj.__getitem__()\n",
    "    type_pandas_core_indexing__IndexSlice___getitem__ = (\n",
    "    getattr(ret, '__module__', None) + '.' + ret.__class__.__name__\n",
    "        if getattr(ret, '__module__', None)\n",
    "        else ret.__class__.__name__\n",
    "        )\n",
    "    print(\"✅ pandas.core.indexing._IndexSlice.__getitem__:\",\n",
    "        type_pandas_core_indexing__IndexSlice___getitem__)\n",
    "except Exception as e:\n",
    "    type_pandas_core_indexing__IndexSlice___getitem__ = '_syft_missing'\n",
    "    print('❌ pandas.core.indexing._IndexSlice.__getitem__: Return unavailable')\n",
    "    print(\"  Please fix this return type code until there is no exception\")\n",
    "    print('   Error:', e)\n"
   ]
  }
 ],
 "metadata": {},
 "nbformat": 4,
 "nbformat_minor": 5
}
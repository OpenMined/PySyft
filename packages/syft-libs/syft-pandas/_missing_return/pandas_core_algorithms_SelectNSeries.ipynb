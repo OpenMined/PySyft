{
 "cells": [
  {
   "cell_type": "markdown",
   "id": "38e54f89",
   "metadata": {},
   "source": [
    "## pandas.core.algorithms.SelectNSeries"
   ]
  },
  {
   "cell_type": "code",
   "execution_count": 1,
   "id": "9faa5612",
   "metadata": {},
   "outputs": [],
   "source": [
    "import pandas\n",
    "import pandas as pd\n",
    "countries_population = {\"Italy\": 59000000, \"France\": 65000000,\n",
    "                        \"Malta\": 434000, \"Maldives\": 434000,\n",
    "                        \"Brunei\": 434000, \"Iceland\": 337000,\n",
    "                        \"Nauru\": 11300, \"Tuvalu\": 11300,\n",
    "                        \"Anguilla\": 11300, \"Montserrat\": 5200}\n",
    "\n",
    "\n",
    "s = pd.Series(countries_population)\n",
    "def class_constructor(*args, **kwargs):\n",
    "    obj = pandas.core.algorithms.SelectNSeries(s,2,keep=\"first\")\n",
    "    return obj\n"
   ]
  },
  {
   "cell_type": "code",
   "execution_count": 2,
   "id": "db97e591",
   "metadata": {},
   "outputs": [
    {
     "name": "stdout",
     "output_type": "stream",
     "text": [
      "✅ pandas.core.algorithms.SelectNSeries.compute: pandas.core.series.Series\n"
     ]
    }
   ],
   "source": [
    "# pandas.core.algorithms.SelectNSeries.compute\n",
    "try:\n",
    "    obj = class_constructor()\n",
    "    ret = obj.compute(\"nlargest\")\n",
    "    type_pandas_core_algorithms_SelectNSeries_compute = (\n",
    "    getattr(ret, '__module__', None) + '.' + ret.__class__.__name__\n",
    "        if getattr(ret, '__module__', None)\n",
    "        else ret.__class__.__name__\n",
    "        )\n",
    "    print(\"✅ pandas.core.algorithms.SelectNSeries.compute:\",\n",
    "        type_pandas_core_algorithms_SelectNSeries_compute)\n",
    "except Exception as e:\n",
    "    type_pandas_core_algorithms_SelectNSeries_compute = '_syft_missing'\n",
    "    print('❌ pandas.core.algorithms.SelectNSeries.compute: Return unavailable')\n",
    "    print(\"  Please fix this return type code until there is no exception\")\n",
    "    print('   Error:', e)\n"
   ]
  },
  {
   "cell_type": "code",
   "execution_count": 3,
   "id": "3ec520ce",
   "metadata": {},
   "outputs": [
    {
     "name": "stdout",
     "output_type": "stream",
     "text": [
      "✅ pandas.core.algorithms.SelectNSeries.nlargest: pandas.core.series.Series\n"
     ]
    }
   ],
   "source": [
    "# pandas.core.algorithms.SelectNSeries.nlargest\n",
    "try:\n",
    "    obj = class_constructor()\n",
    "    ret = obj.nlargest()\n",
    "    type_pandas_core_algorithms_SelectNSeries_nlargest = (\n",
    "    getattr(ret, '__module__', None) + '.' + ret.__class__.__name__\n",
    "        if getattr(ret, '__module__', None)\n",
    "        else ret.__class__.__name__\n",
    "        )\n",
    "    print(\"✅ pandas.core.algorithms.SelectNSeries.nlargest:\",\n",
    "        type_pandas_core_algorithms_SelectNSeries_nlargest)\n",
    "except Exception as e:\n",
    "    type_pandas_core_algorithms_SelectNSeries_nlargest = '_syft_missing'\n",
    "    print('❌ pandas.core.algorithms.SelectNSeries.nlargest: Return unavailable')\n",
    "    print(\"  Please fix this return type code until there is no exception\")\n",
    "    print('   Error:', e)\n"
   ]
  },
  {
   "cell_type": "code",
   "execution_count": 4,
   "id": "23456ecc",
   "metadata": {},
   "outputs": [
    {
     "name": "stdout",
     "output_type": "stream",
     "text": [
      "✅ pandas.core.algorithms.SelectNSeries.nsmallest: pandas.core.series.Series\n"
     ]
    }
   ],
   "source": [
    "# pandas.core.algorithms.SelectNSeries.nsmallest\n",
    "try:\n",
    "    obj = class_constructor()\n",
    "    ret = obj.nsmallest()\n",
    "    type_pandas_core_algorithms_SelectNSeries_nsmallest = (\n",
    "    getattr(ret, '__module__', None) + '.' + ret.__class__.__name__\n",
    "        if getattr(ret, '__module__', None)\n",
    "        else ret.__class__.__name__\n",
    "        )\n",
    "    print(\"✅ pandas.core.algorithms.SelectNSeries.nsmallest:\",\n",
    "        type_pandas_core_algorithms_SelectNSeries_nsmallest)\n",
    "except Exception as e:\n",
    "    type_pandas_core_algorithms_SelectNSeries_nsmallest = '_syft_missing'\n",
    "    print('❌ pandas.core.algorithms.SelectNSeries.nsmallest: Return unavailable')\n",
    "    print(\"  Please fix this return type code until there is no exception\")\n",
    "    print('   Error:', e)\n"
   ]
  },
  {
   "cell_type": "code",
   "execution_count": null,
   "id": "f8d8f8d3",
   "metadata": {},
   "outputs": [],
   "source": []
  }
 ],
 "metadata": {
  "kernelspec": {
   "display_name": "Python 3",
   "language": "python",
   "name": "python3"
  },
  "language_info": {
   "codemirror_mode": {
    "name": "ipython",
    "version": 3
   },
   "file_extension": ".py",
   "mimetype": "text/x-python",
   "name": "python",
   "nbconvert_exporter": "python",
   "pygments_lexer": "ipython3",
   "version": "3.9.5"
  }
 },
 "nbformat": 4,
 "nbformat_minor": 5
}

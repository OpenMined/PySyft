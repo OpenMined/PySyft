{
 "cells": [
  {
   "cell_type": "markdown",
   "id": "eecf5958",
   "metadata": {},
   "source": [
    "## pandas.core.algorithms.SelectNSeries"
   ]
  },
  {
   "cell_type": "code",
   "execution_count": null,
   "id": "e5916949",
   "metadata": {},
   "outputs": [],
   "source": [
    "import pandas\n",
    "def class_constructor(*args, **kwargs):\n",
    "    obj = pandas.core.algorithms.SelectNSeries()\n",
    "    return obj\n"
   ]
  },
  {
   "cell_type": "code",
   "execution_count": null,
   "id": "7bb511c9",
   "metadata": {},
   "outputs": [],
   "source": [
    "# pandas.core.algorithms.SelectNSeries.nlargest\n",
    "try:\n",
    "    obj = class_constructor()\n",
    "    ret = obj.nlargest()\n",
    "    type_pandas_core_algorithms_SelectNSeries_nlargest = (\n",
    "    getattr(ret, '__module__', None) + '.' + ret.__class__.__name__\n",
    "        if getattr(ret, '__module__', None)\n",
    "        else ret.__class__.__name__\n",
    "        )\n",
    "    print(\"✅ pandas.core.algorithms.SelectNSeries.nlargest:\",\n",
    "        type_pandas_core_algorithms_SelectNSeries_nlargest)\n",
    "except Exception as e:\n",
    "    type_pandas_core_algorithms_SelectNSeries_nlargest = '_syft_missing'\n",
    "    print('❌ pandas.core.algorithms.SelectNSeries.nlargest: Return unavailable')\n",
    "    print(\"  Please fix this return type code until there is no exception\")\n",
    "    print('   Error:', e)\n"
   ]
  },
  {
   "cell_type": "code",
   "execution_count": null,
   "id": "ed22244e",
   "metadata": {},
   "outputs": [],
   "source": [
    "# pandas.core.algorithms.SelectNSeries.nsmallest\n",
    "try:\n",
    "    obj = class_constructor()\n",
    "    ret = obj.nsmallest()\n",
    "    type_pandas_core_algorithms_SelectNSeries_nsmallest = (\n",
    "    getattr(ret, '__module__', None) + '.' + ret.__class__.__name__\n",
    "        if getattr(ret, '__module__', None)\n",
    "        else ret.__class__.__name__\n",
    "        )\n",
    "    print(\"✅ pandas.core.algorithms.SelectNSeries.nsmallest:\",\n",
    "        type_pandas_core_algorithms_SelectNSeries_nsmallest)\n",
    "except Exception as e:\n",
    "    type_pandas_core_algorithms_SelectNSeries_nsmallest = '_syft_missing'\n",
    "    print('❌ pandas.core.algorithms.SelectNSeries.nsmallest: Return unavailable')\n",
    "    print(\"  Please fix this return type code until there is no exception\")\n",
    "    print('   Error:', e)\n"
   ]
  }
 ],
 "metadata": {},
 "nbformat": 4,
 "nbformat_minor": 5
}
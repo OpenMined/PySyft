{
 "cells": [
  {
   "cell_type": "markdown",
   "id": "b99de6e2",
   "metadata": {},
   "source": [
    "## pandas.core.indexes.multi.MultiIndexUIntEngine"
   ]
  },
  {
   "cell_type": "code",
   "execution_count": null,
   "id": "7efaa2b2",
   "metadata": {},
   "outputs": [],
   "source": [
    "import pandas\n",
    "def class_constructor(*args, **kwargs):\n",
    "    obj = pandas.core.indexes.multi.MultiIndexUIntEngine()\n",
    "    return obj\n"
   ]
  },
  {
   "cell_type": "code",
   "execution_count": null,
   "id": "6db770bc",
   "metadata": {},
   "outputs": [],
   "source": [
    "# pandas.core.indexes.multi.MultiIndexUIntEngine._codes_to_ints\n",
    "try:\n",
    "    obj = class_constructor()\n",
    "    ret = obj._codes_to_ints()\n",
    "    type_pandas_core_indexes_multi_MultiIndexUIntEngine__codes_to_ints = (\n",
    "    getattr(ret, '__module__', None) + '.' + ret.__class__.__name__\n",
    "        if getattr(ret, '__module__', None)\n",
    "        else ret.__class__.__name__\n",
    "        )\n",
    "    print(\"✅ pandas.core.indexes.multi.MultiIndexUIntEngine._codes_to_ints:\",\n",
    "        type_pandas_core_indexes_multi_MultiIndexUIntEngine__codes_to_ints)\n",
    "except Exception as e:\n",
    "    type_pandas_core_indexes_multi_MultiIndexUIntEngine__codes_to_ints = '_syft_missing'\n",
    "    print('❌ pandas.core.indexes.multi.MultiIndexUIntEngine._codes_to_ints: Return unavailable')\n",
    "    print(\"  Please fix this return type code until there is no exception\")\n",
    "    print('   Error:', e)\n"
   ]
  }
 ],
 "metadata": {},
 "nbformat": 4,
 "nbformat_minor": 5
}
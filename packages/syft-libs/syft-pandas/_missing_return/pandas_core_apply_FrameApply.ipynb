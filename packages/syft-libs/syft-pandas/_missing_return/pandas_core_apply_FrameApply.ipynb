{
 "cells": [
  {
   "cell_type": "markdown",
   "id": "3703125a",
   "metadata": {},
   "source": [
    "## pandas.core.apply.FrameApply"
   ]
  },
  {
   "cell_type": "code",
   "execution_count": 5,
   "id": "cc3b98fe",
   "metadata": {},
   "outputs": [],
   "source": [
    "import pandas\n",
    "import pandas.core.apply\n",
    "df = pandas.DataFrame({\"A\":[1,2,3],\"B\":[2,3,4]})\n",
    "def class_constructor():\n",
    "    return pandas.core.apply.frame_apply(df,lambda x:x**2)"
   ]
  },
  {
   "cell_type": "code",
   "execution_count": 6,
   "id": "66d9770e",
   "metadata": {},
   "outputs": [
    {
     "data": {
      "text/plain": [
       "<pandas.core.apply.FrameRowApply at 0x7fd55a0eb820>"
      ]
     },
     "execution_count": 6,
     "metadata": {},
     "output_type": "execute_result"
    }
   ],
   "source": [
    "class_constructor()"
   ]
  },
  {
   "cell_type": "code",
   "execution_count": 7,
   "id": "d0211750",
   "metadata": {},
   "outputs": [
    {
     "name": "stdout",
     "output_type": "stream",
     "text": [
      "✅ pandas.core.apply.FrameApply.agg_axis: pandas.core.indexes.base.Index\n"
     ]
    }
   ],
   "source": [
    "# pandas.core.apply.FrameApply.agg_axis\n",
    "try:\n",
    "    obj = class_constructor()\n",
    "    ret = obj.agg_axis\n",
    "    type_pandas_core_apply_FrameApply_agg_axis = (\n",
    "    getattr(ret, '__module__', None) + '.' + ret.__class__.__name__\n",
    "        if getattr(ret, '__module__', None)\n",
    "        else ret.__class__.__name__\n",
    "        )\n",
    "    print(\"✅ pandas.core.apply.FrameApply.agg_axis:\",\n",
    "        type_pandas_core_apply_FrameApply_agg_axis)\n",
    "except Exception as e:\n",
    "    type_pandas_core_apply_FrameApply_agg_axis = '_syft_missing'\n",
    "    print('❌ pandas.core.apply.FrameApply.agg_axis: Return unavailable')\n",
    "    print(\"  Please fix this return type code until there is no exception\")\n",
    "    print('  Error:', e)\n"
   ]
  },
  {
   "cell_type": "code",
   "execution_count": 8,
   "id": "ac143d32",
   "metadata": {},
   "outputs": [
    {
     "name": "stdout",
     "output_type": "stream",
     "text": [
      "✅ pandas.core.apply.FrameApply.apply_empty_result: pandas.core.frame.DataFrame\n"
     ]
    }
   ],
   "source": [
    "# pandas.core.apply.FrameApply.apply_empty_result\n",
    "try:\n",
    "    obj = class_constructor()\n",
    "    ret = obj.apply_empty_result()\n",
    "    type_pandas_core_apply_FrameApply_apply_empty_result = (\n",
    "    getattr(ret, '__module__', None) + '.' + ret.__class__.__name__\n",
    "        if getattr(ret, '__module__', None)\n",
    "        else ret.__class__.__name__\n",
    "        )\n",
    "    print(\"✅ pandas.core.apply.FrameApply.apply_empty_result:\",\n",
    "        type_pandas_core_apply_FrameApply_apply_empty_result)\n",
    "except Exception as e:\n",
    "    type_pandas_core_apply_FrameApply_apply_empty_result = '_syft_missing'\n",
    "    print('❌ pandas.core.apply.FrameApply.apply_empty_result: Return unavailable')\n",
    "    print(\"  Please fix this return type code until there is no exception\")\n",
    "    print('   Error:', e)\n"
   ]
  },
  {
   "cell_type": "code",
   "execution_count": 9,
   "id": "e1119468",
   "metadata": {},
   "outputs": [
    {
     "name": "stdout",
     "output_type": "stream",
     "text": [
      "✅ pandas.core.apply.FrameApply.apply_raw: pandas.core.frame.DataFrame\n"
     ]
    }
   ],
   "source": [
    "# pandas.core.apply.FrameApply.apply_raw\n",
    "try:\n",
    "    obj = class_constructor()\n",
    "    ret = obj.apply_raw()\n",
    "    type_pandas_core_apply_FrameApply_apply_raw = (\n",
    "    getattr(ret, '__module__', None) + '.' + ret.__class__.__name__\n",
    "        if getattr(ret, '__module__', None)\n",
    "        else ret.__class__.__name__\n",
    "        )\n",
    "    print(\"✅ pandas.core.apply.FrameApply.apply_raw:\",\n",
    "        type_pandas_core_apply_FrameApply_apply_raw)\n",
    "except Exception as e:\n",
    "    type_pandas_core_apply_FrameApply_apply_raw = '_syft_missing'\n",
    "    print('❌ pandas.core.apply.FrameApply.apply_raw: Return unavailable')\n",
    "    print(\"  Please fix this return type code until there is no exception\")\n",
    "    print('   Error:', e)\n"
   ]
  },
  {
   "cell_type": "code",
   "execution_count": 10,
   "id": "69a88476",
   "metadata": {},
   "outputs": [
    {
     "name": "stdout",
     "output_type": "stream",
     "text": [
      "✅ pandas.core.apply.FrameApply.apply_standard: pandas.core.frame.DataFrame\n"
     ]
    }
   ],
   "source": [
    "# pandas.core.apply.FrameApply.apply_standard\n",
    "try:\n",
    "    obj = class_constructor()\n",
    "    ret = obj.apply_standard()\n",
    "    type_pandas_core_apply_FrameApply_apply_standard = (\n",
    "    getattr(ret, '__module__', None) + '.' + ret.__class__.__name__\n",
    "        if getattr(ret, '__module__', None)\n",
    "        else ret.__class__.__name__\n",
    "        )\n",
    "    print(\"✅ pandas.core.apply.FrameApply.apply_standard:\",\n",
    "        type_pandas_core_apply_FrameApply_apply_standard)\n",
    "except Exception as e:\n",
    "    type_pandas_core_apply_FrameApply_apply_standard = '_syft_missing'\n",
    "    print('❌ pandas.core.apply.FrameApply.apply_standard: Return unavailable')\n",
    "    print(\"  Please fix this return type code until there is no exception\")\n",
    "    print('   Error:', e)\n"
   ]
  },
  {
   "cell_type": "code",
   "execution_count": 11,
   "id": "844297d7",
   "metadata": {},
   "outputs": [
    {
     "name": "stdout",
     "output_type": "stream",
     "text": [
      "✅ pandas.core.apply.FrameApply.columns: pandas.core.indexes.base.Index\n"
     ]
    }
   ],
   "source": [
    "# pandas.core.apply.FrameApply.columns\n",
    "try:\n",
    "    obj = class_constructor()\n",
    "    ret = obj.columns\n",
    "    type_pandas_core_apply_FrameApply_columns = (\n",
    "    getattr(ret, '__module__', None) + '.' + ret.__class__.__name__\n",
    "        if getattr(ret, '__module__', None)\n",
    "        else ret.__class__.__name__\n",
    "        )\n",
    "    print(\"✅ pandas.core.apply.FrameApply.columns:\",\n",
    "        type_pandas_core_apply_FrameApply_columns)\n",
    "except Exception as e:\n",
    "    type_pandas_core_apply_FrameApply_columns = '_syft_missing'\n",
    "    print('❌ pandas.core.apply.FrameApply.columns: Return unavailable')\n",
    "    print(\"  Please fix this return type code until there is no exception\")\n",
    "    print('  Error:', e)\n"
   ]
  },
  {
   "cell_type": "code",
   "execution_count": 12,
   "id": "61a440a2",
   "metadata": {},
   "outputs": [
    {
     "name": "stdout",
     "output_type": "stream",
     "text": [
      "✅ pandas.core.apply.FrameApply.get_result: pandas.core.frame.DataFrame\n"
     ]
    }
   ],
   "source": [
    "# pandas.core.apply.FrameApply.get_result\n",
    "try:\n",
    "    obj = class_constructor()\n",
    "    ret = obj.get_result()\n",
    "    type_pandas_core_apply_FrameApply_get_result = (\n",
    "    getattr(ret, '__module__', None) + '.' + ret.__class__.__name__\n",
    "        if getattr(ret, '__module__', None)\n",
    "        else ret.__class__.__name__\n",
    "        )\n",
    "    print(\"✅ pandas.core.apply.FrameApply.get_result:\",\n",
    "        type_pandas_core_apply_FrameApply_get_result)\n",
    "except Exception as e:\n",
    "    type_pandas_core_apply_FrameApply_get_result = '_syft_missing'\n",
    "    print('❌ pandas.core.apply.FrameApply.get_result: Return unavailable')\n",
    "    print(\"  Please fix this return type code until there is no exception\")\n",
    "    print('   Error:', e)\n"
   ]
  },
  {
   "cell_type": "code",
   "execution_count": 13,
   "id": "722aabcf",
   "metadata": {},
   "outputs": [
    {
     "name": "stdout",
     "output_type": "stream",
     "text": [
      "✅ pandas.core.apply.FrameApply.index: pandas.core.indexes.range.RangeIndex\n"
     ]
    }
   ],
   "source": [
    "# pandas.core.apply.FrameApply.index\n",
    "try:\n",
    "    obj = class_constructor()\n",
    "    ret = obj.index\n",
    "    type_pandas_core_apply_FrameApply_index = (\n",
    "    getattr(ret, '__module__', None) + '.' + ret.__class__.__name__\n",
    "        if getattr(ret, '__module__', None)\n",
    "        else ret.__class__.__name__\n",
    "        )\n",
    "    print(\"✅ pandas.core.apply.FrameApply.index:\",\n",
    "        type_pandas_core_apply_FrameApply_index)\n",
    "except Exception as e:\n",
    "    type_pandas_core_apply_FrameApply_index = '_syft_missing'\n",
    "    print('❌ pandas.core.apply.FrameApply.index: Return unavailable')\n",
    "    print(\"  Please fix this return type code until there is no exception\")\n",
    "    print('  Error:', e)\n"
   ]
  },
  {
   "cell_type": "code",
   "execution_count": 14,
   "id": "f2164e6a",
   "metadata": {},
   "outputs": [
    {
     "name": "stdout",
     "output_type": "stream",
     "text": [
      "✅ pandas.core.apply.FrameApply.res_columns: pandas.core.indexes.range.RangeIndex\n"
     ]
    }
   ],
   "source": [
    "# pandas.core.apply.FrameApply.res_columns\n",
    "try:\n",
    "    obj = class_constructor()\n",
    "    ret = obj.res_columns\n",
    "    type_pandas_core_apply_FrameApply_res_columns = (\n",
    "    getattr(ret, '__module__', None) + '.' + ret.__class__.__name__\n",
    "        if getattr(ret, '__module__', None)\n",
    "        else ret.__class__.__name__\n",
    "        )\n",
    "    print(\"✅ pandas.core.apply.FrameApply.res_columns:\",\n",
    "        type_pandas_core_apply_FrameApply_res_columns)\n",
    "except Exception as e:\n",
    "    type_pandas_core_apply_FrameApply_res_columns = '_syft_missing'\n",
    "    print('❌ pandas.core.apply.FrameApply.res_columns: Return unavailable')\n",
    "    print(\"  Please fix this return type code until there is no exception\")\n",
    "    print('  Error:', e)\n"
   ]
  },
  {
   "cell_type": "code",
   "execution_count": 15,
   "id": "dec49cc1",
   "metadata": {},
   "outputs": [
    {
     "name": "stdout",
     "output_type": "stream",
     "text": [
      "✅ pandas.core.apply.FrameApply.result_columns: pandas.core.indexes.range.RangeIndex\n"
     ]
    }
   ],
   "source": [
    "# pandas.core.apply.FrameApply.result_columns\n",
    "try:\n",
    "    obj = class_constructor()\n",
    "    ret = obj.result_columns\n",
    "    type_pandas_core_apply_FrameApply_result_columns = (\n",
    "    getattr(ret, '__module__', None) + '.' + ret.__class__.__name__\n",
    "        if getattr(ret, '__module__', None)\n",
    "        else ret.__class__.__name__\n",
    "        )\n",
    "    print(\"✅ pandas.core.apply.FrameApply.result_columns:\",\n",
    "        type_pandas_core_apply_FrameApply_result_columns)\n",
    "except Exception as e:\n",
    "    type_pandas_core_apply_FrameApply_result_columns = '_syft_missing'\n",
    "    print('❌ pandas.core.apply.FrameApply.result_columns: Return unavailable')\n",
    "    print(\"  Please fix this return type code until there is no exception\")\n",
    "    print('  Error:', e)\n"
   ]
  },
  {
   "cell_type": "code",
   "execution_count": 16,
   "id": "ac2a73c5",
   "metadata": {},
   "outputs": [
    {
     "name": "stdout",
     "output_type": "stream",
     "text": [
      "✅ pandas.core.apply.FrameApply.result_index: pandas.core.indexes.base.Index\n"
     ]
    }
   ],
   "source": [
    "# pandas.core.apply.FrameApply.result_index\n",
    "try:\n",
    "    obj = class_constructor()\n",
    "    ret = obj.result_index\n",
    "    type_pandas_core_apply_FrameApply_result_index = (\n",
    "    getattr(ret, '__module__', None) + '.' + ret.__class__.__name__\n",
    "        if getattr(ret, '__module__', None)\n",
    "        else ret.__class__.__name__\n",
    "        )\n",
    "    print(\"✅ pandas.core.apply.FrameApply.result_index:\",\n",
    "        type_pandas_core_apply_FrameApply_result_index)\n",
    "except Exception as e:\n",
    "    type_pandas_core_apply_FrameApply_result_index = '_syft_missing'\n",
    "    print('❌ pandas.core.apply.FrameApply.result_index: Return unavailable')\n",
    "    print(\"  Please fix this return type code until there is no exception\")\n",
    "    print('  Error:', e)\n"
   ]
  },
  {
   "cell_type": "code",
   "execution_count": 17,
   "id": "af1d5bbc",
   "metadata": {},
   "outputs": [
    {
     "name": "stdout",
     "output_type": "stream",
     "text": [
      "✅ pandas.core.apply.FrameApply.series_generator: generator\n"
     ]
    }
   ],
   "source": [
    "# pandas.core.apply.FrameApply.series_generator\n",
    "try:\n",
    "    obj = class_constructor()\n",
    "    ret = obj.series_generator\n",
    "    type_pandas_core_apply_FrameApply_series_generator = (\n",
    "    getattr(ret, '__module__', None) + '.' + ret.__class__.__name__\n",
    "        if getattr(ret, '__module__', None)\n",
    "        else ret.__class__.__name__\n",
    "        )\n",
    "    print(\"✅ pandas.core.apply.FrameApply.series_generator:\",\n",
    "        type_pandas_core_apply_FrameApply_series_generator)\n",
    "except Exception as e:\n",
    "    type_pandas_core_apply_FrameApply_series_generator = '_syft_missing'\n",
    "    print('❌ pandas.core.apply.FrameApply.series_generator: Return unavailable')\n",
    "    print(\"  Please fix this return type code until there is no exception\")\n",
    "    print('  Error:', e)\n"
   ]
  },
  {
   "cell_type": "code",
   "execution_count": null,
   "id": "4df53f88",
   "metadata": {},
   "outputs": [],
   "source": []
  }
 ],
 "metadata": {
  "kernelspec": {
   "display_name": "Python 3",
   "language": "python",
   "name": "python3"
  },
  "language_info": {
   "codemirror_mode": {
    "name": "ipython",
    "version": 3
   },
   "file_extension": ".py",
   "mimetype": "text/x-python",
   "name": "python",
   "nbconvert_exporter": "python",
   "pygments_lexer": "ipython3",
   "version": "3.9.5"
  }
 },
 "nbformat": 4,
 "nbformat_minor": 5
}

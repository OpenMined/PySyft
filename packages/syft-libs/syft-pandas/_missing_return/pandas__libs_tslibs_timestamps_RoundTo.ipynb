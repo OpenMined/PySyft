{
 "cells": [
  {
   "cell_type": "markdown",
   "id": "57149148",
   "metadata": {},
   "source": [
    "## pandas._libs.tslibs.timestamps.RoundTo"
   ]
  },
  {
   "cell_type": "code",
   "execution_count": 7,
   "id": "a0674adf",
   "metadata": {},
   "outputs": [],
   "source": [
    "import pandas as pd\n",
    "def class_constructor():\n",
    "    return pd._libs.tslibs.timestamps.RoundTo()"
   ]
  },
  {
   "cell_type": "code",
   "execution_count": 8,
   "id": "17701e76",
   "metadata": {},
   "outputs": [
    {
     "name": "stdout",
     "output_type": "stream",
     "text": [
      "✅ pandas._libs.tslibs.timestamps.RoundTo.MINUS_INFTY: <class 'int'>\n"
     ]
    }
   ],
   "source": [
    "# pandas._libs.tslibs.timestamps.RoundTo.MINUS_INFTY\n",
    "try:\n",
    "    obj = class_constructor()\n",
    "    ret = obj.MINUS_INFTY\n",
    "    type_pandas__libs_tslibs_timestamps_RoundTo_MINUS_INFTY = getattr(ret, '__module__', 'none') + '.' + ret.__class__.__name__\n",
    "    print('✅ pandas._libs.tslibs.timestamps.RoundTo.MINUS_INFTY:', type(ret))\n",
    "except Exception as e:\n",
    "    type_pandas__libs_tslibs_timestamps_RoundTo_MINUS_INFTY = '_syft_missing'\n",
    "    print('❌ pandas._libs.tslibs.timestamps.RoundTo.MINUS_INFTY: Return unavailable')\n",
    "    print(\"  Please fix this return type code until there is no exception\")\n",
    "    print('  Error:', e)\n"
   ]
  },
  {
   "cell_type": "code",
   "execution_count": 9,
   "id": "77318a7e",
   "metadata": {},
   "outputs": [
    {
     "name": "stdout",
     "output_type": "stream",
     "text": [
      "✅ pandas._libs.tslibs.timestamps.RoundTo.NEAREST_HALF_EVEN: <class 'int'>\n"
     ]
    }
   ],
   "source": [
    "# pandas._libs.tslibs.timestamps.RoundTo.NEAREST_HALF_EVEN\n",
    "try:\n",
    "    obj = class_constructor()\n",
    "    ret = obj.NEAREST_HALF_EVEN\n",
    "    type_pandas__libs_tslibs_timestamps_RoundTo_NEAREST_HALF_EVEN = getattr(ret, '__module__', 'none') + '.' + ret.__class__.__name__\n",
    "    print('✅ pandas._libs.tslibs.timestamps.RoundTo.NEAREST_HALF_EVEN:', type(ret))\n",
    "except Exception as e:\n",
    "    type_pandas__libs_tslibs_timestamps_RoundTo_NEAREST_HALF_EVEN = '_syft_missing'\n",
    "    print('❌ pandas._libs.tslibs.timestamps.RoundTo.NEAREST_HALF_EVEN: Return unavailable')\n",
    "    print(\"  Please fix this return type code until there is no exception\")\n",
    "    print('  Error:', e)\n"
   ]
  },
  {
   "cell_type": "code",
   "execution_count": 10,
   "id": "b2dbc858",
   "metadata": {},
   "outputs": [
    {
     "name": "stdout",
     "output_type": "stream",
     "text": [
      "✅ pandas._libs.tslibs.timestamps.RoundTo.NEAREST_HALF_MINUS_INFTY: <class 'int'>\n"
     ]
    }
   ],
   "source": [
    "# pandas._libs.tslibs.timestamps.RoundTo.NEAREST_HALF_MINUS_INFTY\n",
    "try:\n",
    "    obj = class_constructor()\n",
    "    ret = obj.NEAREST_HALF_MINUS_INFTY\n",
    "    type_pandas__libs_tslibs_timestamps_RoundTo_NEAREST_HALF_MINUS_INFTY = getattr(ret, '__module__', 'none') + '.' + ret.__class__.__name__\n",
    "    print('✅ pandas._libs.tslibs.timestamps.RoundTo.NEAREST_HALF_MINUS_INFTY:', type(ret))\n",
    "except Exception as e:\n",
    "    type_pandas__libs_tslibs_timestamps_RoundTo_NEAREST_HALF_MINUS_INFTY = '_syft_missing'\n",
    "    print('❌ pandas._libs.tslibs.timestamps.RoundTo.NEAREST_HALF_MINUS_INFTY: Return unavailable')\n",
    "    print(\"  Please fix this return type code until there is no exception\")\n",
    "    print('  Error:', e)\n"
   ]
  },
  {
   "cell_type": "code",
   "execution_count": 11,
   "id": "a6e53d46",
   "metadata": {},
   "outputs": [
    {
     "name": "stdout",
     "output_type": "stream",
     "text": [
      "✅ pandas._libs.tslibs.timestamps.RoundTo.NEAREST_HALF_PLUS_INFTY: <class 'int'>\n"
     ]
    }
   ],
   "source": [
    "# pandas._libs.tslibs.timestamps.RoundTo.NEAREST_HALF_PLUS_INFTY\n",
    "try:\n",
    "    obj = class_constructor()\n",
    "    ret = obj.NEAREST_HALF_PLUS_INFTY\n",
    "    type_pandas__libs_tslibs_timestamps_RoundTo_NEAREST_HALF_PLUS_INFTY = getattr(ret, '__module__', 'none') + '.' + ret.__class__.__name__\n",
    "    print('✅ pandas._libs.tslibs.timestamps.RoundTo.NEAREST_HALF_PLUS_INFTY:', type(ret))\n",
    "except Exception as e:\n",
    "    type_pandas__libs_tslibs_timestamps_RoundTo_NEAREST_HALF_PLUS_INFTY = '_syft_missing'\n",
    "    print('❌ pandas._libs.tslibs.timestamps.RoundTo.NEAREST_HALF_PLUS_INFTY: Return unavailable')\n",
    "    print(\"  Please fix this return type code until there is no exception\")\n",
    "    print('  Error:', e)\n"
   ]
  },
  {
   "cell_type": "code",
   "execution_count": 12,
   "id": "b06146ef",
   "metadata": {},
   "outputs": [
    {
     "name": "stdout",
     "output_type": "stream",
     "text": [
      "✅ pandas._libs.tslibs.timestamps.RoundTo.PLUS_INFTY: <class 'int'>\n"
     ]
    }
   ],
   "source": [
    "# pandas._libs.tslibs.timestamps.RoundTo.PLUS_INFTY\n",
    "try:\n",
    "    obj = class_constructor()\n",
    "    ret = obj.PLUS_INFTY\n",
    "    type_pandas__libs_tslibs_timestamps_RoundTo_PLUS_INFTY = getattr(ret, '__module__', 'none') + '.' + ret.__class__.__name__\n",
    "    print('✅ pandas._libs.tslibs.timestamps.RoundTo.PLUS_INFTY:', type(ret))\n",
    "except Exception as e:\n",
    "    type_pandas__libs_tslibs_timestamps_RoundTo_PLUS_INFTY = '_syft_missing'\n",
    "    print('❌ pandas._libs.tslibs.timestamps.RoundTo.PLUS_INFTY: Return unavailable')\n",
    "    print(\"  Please fix this return type code until there is no exception\")\n",
    "    print('  Error:', e)\n"
   ]
  },
  {
   "cell_type": "code",
   "execution_count": null,
   "id": "4787cfa5",
   "metadata": {},
   "outputs": [],
   "source": []
  }
 ],
 "metadata": {
  "kernelspec": {
   "display_name": "Python 3",
   "language": "python",
   "name": "python3"
  },
  "language_info": {
   "codemirror_mode": {
    "name": "ipython",
    "version": 3
   },
   "file_extension": ".py",
   "mimetype": "text/x-python",
   "name": "python",
   "nbconvert_exporter": "python",
   "pygments_lexer": "ipython3",
   "version": "3.9.5"
  }
 },
 "nbformat": 4,
 "nbformat_minor": 5
}

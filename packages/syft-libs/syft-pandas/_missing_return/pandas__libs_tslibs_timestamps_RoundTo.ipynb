{
 "cells": [
  {
   "cell_type": "markdown",
   "id": "de0ae5b2",
   "metadata": {},
   "source": [
    "## pandas._libs.tslibs.timestamps.RoundTo"
   ]
  },
  {
   "cell_type": "code",
   "execution_count": 1,
   "id": "faaefdb8",
   "metadata": {},
   "outputs": [],
   "source": [
    "import pandas\n",
    "def class_constructor():\n",
    "    return pandas._libs.tslibs.timestamps.RoundTo()"
   ]
  },
  {
   "cell_type": "code",
   "execution_count": 2,
   "id": "e9115d88",
   "metadata": {},
   "outputs": [
    {
     "name": "stdout",
     "output_type": "stream",
     "text": [
      "✅ pandas._libs.tslibs.timestamps.RoundTo.MINUS_INFTY: int\n"
     ]
    }
   ],
   "source": [
    "# pandas._libs.tslibs.timestamps.RoundTo.MINUS_INFTY\n",
    "try:\n",
    "    obj = class_constructor()\n",
    "    ret = obj.MINUS_INFTY\n",
    "    type_pandas__libs_tslibs_timestamps_RoundTo_MINUS_INFTY = (\n",
    "    getattr(ret, '__module__', None) + '.' + ret.__class__.__name__\n",
    "        if getattr(ret, '__module__', None)\n",
    "        else ret.__class__.__name__\n",
    "        )\n",
    "    print(\"✅ pandas._libs.tslibs.timestamps.RoundTo.MINUS_INFTY:\",\n",
    "        type_pandas__libs_tslibs_timestamps_RoundTo_MINUS_INFTY)\n",
    "except Exception as e:\n",
    "    type_pandas__libs_tslibs_timestamps_RoundTo_MINUS_INFTY = '_syft_missing'\n",
    "    print('❌ pandas._libs.tslibs.timestamps.RoundTo.MINUS_INFTY: Return unavailable')\n",
    "    print(\"  Please fix this return type code until there is no exception\")\n",
    "    print('  Error:', e)\n"
   ]
  },
  {
   "cell_type": "code",
   "execution_count": 3,
   "id": "b7f8644e",
   "metadata": {},
   "outputs": [
    {
     "name": "stdout",
     "output_type": "stream",
     "text": [
      "✅ pandas._libs.tslibs.timestamps.RoundTo.NEAREST_HALF_EVEN: int\n"
     ]
    }
   ],
   "source": [
    "# pandas._libs.tslibs.timestamps.RoundTo.NEAREST_HALF_EVEN\n",
    "try:\n",
    "    obj = class_constructor()\n",
    "    ret = obj.NEAREST_HALF_EVEN\n",
    "    type_pandas__libs_tslibs_timestamps_RoundTo_NEAREST_HALF_EVEN = (\n",
    "    getattr(ret, '__module__', None) + '.' + ret.__class__.__name__\n",
    "        if getattr(ret, '__module__', None)\n",
    "        else ret.__class__.__name__\n",
    "        )\n",
    "    print(\"✅ pandas._libs.tslibs.timestamps.RoundTo.NEAREST_HALF_EVEN:\",\n",
    "        type_pandas__libs_tslibs_timestamps_RoundTo_NEAREST_HALF_EVEN)\n",
    "except Exception as e:\n",
    "    type_pandas__libs_tslibs_timestamps_RoundTo_NEAREST_HALF_EVEN = '_syft_missing'\n",
    "    print('❌ pandas._libs.tslibs.timestamps.RoundTo.NEAREST_HALF_EVEN: Return unavailable')\n",
    "    print(\"  Please fix this return type code until there is no exception\")\n",
    "    print('  Error:', e)\n"
   ]
  },
  {
   "cell_type": "code",
   "execution_count": 4,
   "id": "c8e48d11",
   "metadata": {},
   "outputs": [
    {
     "name": "stdout",
     "output_type": "stream",
     "text": [
      "✅ pandas._libs.tslibs.timestamps.RoundTo.NEAREST_HALF_MINUS_INFTY: int\n"
     ]
    }
   ],
   "source": [
    "# pandas._libs.tslibs.timestamps.RoundTo.NEAREST_HALF_MINUS_INFTY\n",
    "try:\n",
    "    obj = class_constructor()\n",
    "    ret = obj.NEAREST_HALF_MINUS_INFTY\n",
    "    type_pandas__libs_tslibs_timestamps_RoundTo_NEAREST_HALF_MINUS_INFTY = (\n",
    "    getattr(ret, '__module__', None) + '.' + ret.__class__.__name__\n",
    "        if getattr(ret, '__module__', None)\n",
    "        else ret.__class__.__name__\n",
    "        )\n",
    "    print(\"✅ pandas._libs.tslibs.timestamps.RoundTo.NEAREST_HALF_MINUS_INFTY:\",\n",
    "        type_pandas__libs_tslibs_timestamps_RoundTo_NEAREST_HALF_MINUS_INFTY)\n",
    "except Exception as e:\n",
    "    type_pandas__libs_tslibs_timestamps_RoundTo_NEAREST_HALF_MINUS_INFTY = '_syft_missing'\n",
    "    print('❌ pandas._libs.tslibs.timestamps.RoundTo.NEAREST_HALF_MINUS_INFTY: Return unavailable')\n",
    "    print(\"  Please fix this return type code until there is no exception\")\n",
    "    print('  Error:', e)\n"
   ]
  },
  {
   "cell_type": "code",
   "execution_count": 5,
   "id": "a8cb7d2c",
   "metadata": {},
   "outputs": [
    {
     "name": "stdout",
     "output_type": "stream",
     "text": [
      "✅ pandas._libs.tslibs.timestamps.RoundTo.NEAREST_HALF_PLUS_INFTY: int\n"
     ]
    }
   ],
   "source": [
    "# pandas._libs.tslibs.timestamps.RoundTo.NEAREST_HALF_PLUS_INFTY\n",
    "try:\n",
    "    obj = class_constructor()\n",
    "    ret = obj.NEAREST_HALF_PLUS_INFTY\n",
    "    type_pandas__libs_tslibs_timestamps_RoundTo_NEAREST_HALF_PLUS_INFTY = (\n",
    "    getattr(ret, '__module__', None) + '.' + ret.__class__.__name__\n",
    "        if getattr(ret, '__module__', None)\n",
    "        else ret.__class__.__name__\n",
    "        )\n",
    "    print(\"✅ pandas._libs.tslibs.timestamps.RoundTo.NEAREST_HALF_PLUS_INFTY:\",\n",
    "        type_pandas__libs_tslibs_timestamps_RoundTo_NEAREST_HALF_PLUS_INFTY)\n",
    "except Exception as e:\n",
    "    type_pandas__libs_tslibs_timestamps_RoundTo_NEAREST_HALF_PLUS_INFTY = '_syft_missing'\n",
    "    print('❌ pandas._libs.tslibs.timestamps.RoundTo.NEAREST_HALF_PLUS_INFTY: Return unavailable')\n",
    "    print(\"  Please fix this return type code until there is no exception\")\n",
    "    print('  Error:', e)\n"
   ]
  },
  {
   "cell_type": "code",
   "execution_count": 6,
   "id": "e097dad6",
   "metadata": {},
   "outputs": [
    {
     "name": "stdout",
     "output_type": "stream",
     "text": [
      "✅ pandas._libs.tslibs.timestamps.RoundTo.PLUS_INFTY: int\n"
     ]
    }
   ],
   "source": [
    "# pandas._libs.tslibs.timestamps.RoundTo.PLUS_INFTY\n",
    "try:\n",
    "    obj = class_constructor()\n",
    "    ret = obj.PLUS_INFTY\n",
    "    type_pandas__libs_tslibs_timestamps_RoundTo_PLUS_INFTY = (\n",
    "    getattr(ret, '__module__', None) + '.' + ret.__class__.__name__\n",
    "        if getattr(ret, '__module__', None)\n",
    "        else ret.__class__.__name__\n",
    "        )\n",
    "    print(\"✅ pandas._libs.tslibs.timestamps.RoundTo.PLUS_INFTY:\",\n",
    "        type_pandas__libs_tslibs_timestamps_RoundTo_PLUS_INFTY)\n",
    "except Exception as e:\n",
    "    type_pandas__libs_tslibs_timestamps_RoundTo_PLUS_INFTY = '_syft_missing'\n",
    "    print('❌ pandas._libs.tslibs.timestamps.RoundTo.PLUS_INFTY: Return unavailable')\n",
    "    print(\"  Please fix this return type code until there is no exception\")\n",
    "    print('  Error:', e)\n"
   ]
  },
  {
   "cell_type": "code",
   "execution_count": null,
   "id": "f9d95598",
   "metadata": {},
   "outputs": [],
   "source": []
  }
 ],
 "metadata": {
  "kernelspec": {
   "display_name": "Python 3",
   "language": "python",
   "name": "python3"
  },
  "language_info": {
   "codemirror_mode": {
    "name": "ipython",
    "version": 3
   },
   "file_extension": ".py",
   "mimetype": "text/x-python",
   "name": "python",
   "nbconvert_exporter": "python",
   "pygments_lexer": "ipython3",
   "version": "3.9.5"
  }
 },
 "nbformat": 4,
 "nbformat_minor": 5
}

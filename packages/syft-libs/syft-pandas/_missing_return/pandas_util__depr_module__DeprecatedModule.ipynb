{
 "cells": [
  {
   "cell_type": "markdown",
   "id": "77bd62f5",
   "metadata": {},
   "source": [
    "## pandas.util._depr_module._DeprecatedModule"
   ]
  },
  {
   "cell_type": "code",
   "execution_count": null,
   "id": "4f063bc4",
   "metadata": {},
   "outputs": [],
   "source": [
    "import pandas\n",
    "def class_constructor(*args, **kwargs):\n",
    "    obj = pandas.util._depr_module._DeprecatedModule()\n",
    "    return obj\n"
   ]
  },
  {
   "cell_type": "code",
   "execution_count": null,
   "id": "e22cd9b5",
   "metadata": {},
   "outputs": [],
   "source": [
    "# pandas.util._depr_module._DeprecatedModule.__getattr__\n",
    "try:\n",
    "    obj = class_constructor()\n",
    "    ret = obj.__getattr__()\n",
    "    type_pandas_util__depr_module__DeprecatedModule___getattr__ = (\n",
    "    getattr(ret, '__module__', None) + '.' + ret.__class__.__name__\n",
    "        if getattr(ret, '__module__', None)\n",
    "        else ret.__class__.__name__\n",
    "        )\n",
    "    print(\"✅ pandas.util._depr_module._DeprecatedModule.__getattr__:\",\n",
    "        type_pandas_util__depr_module__DeprecatedModule___getattr__)\n",
    "except Exception as e:\n",
    "    type_pandas_util__depr_module__DeprecatedModule___getattr__ = '_syft_missing'\n",
    "    print('❌ pandas.util._depr_module._DeprecatedModule.__getattr__: Return unavailable')\n",
    "    print(\"  Please fix this return type code until there is no exception\")\n",
    "    print('   Error:', e)\n"
   ]
  },
  {
   "cell_type": "code",
   "execution_count": null,
   "id": "0422ab36",
   "metadata": {},
   "outputs": [],
   "source": [
    "# pandas.util._depr_module._DeprecatedModule._import_deprmod\n",
    "try:\n",
    "    obj = class_constructor()\n",
    "    ret = obj._import_deprmod()\n",
    "    type_pandas_util__depr_module__DeprecatedModule__import_deprmod = (\n",
    "    getattr(ret, '__module__', None) + '.' + ret.__class__.__name__\n",
    "        if getattr(ret, '__module__', None)\n",
    "        else ret.__class__.__name__\n",
    "        )\n",
    "    print(\"✅ pandas.util._depr_module._DeprecatedModule._import_deprmod:\",\n",
    "        type_pandas_util__depr_module__DeprecatedModule__import_deprmod)\n",
    "except Exception as e:\n",
    "    type_pandas_util__depr_module__DeprecatedModule__import_deprmod = '_syft_missing'\n",
    "    print('❌ pandas.util._depr_module._DeprecatedModule._import_deprmod: Return unavailable')\n",
    "    print(\"  Please fix this return type code until there is no exception\")\n",
    "    print('   Error:', e)\n"
   ]
  }
 ],
 "metadata": {},
 "nbformat": 4,
 "nbformat_minor": 5
}
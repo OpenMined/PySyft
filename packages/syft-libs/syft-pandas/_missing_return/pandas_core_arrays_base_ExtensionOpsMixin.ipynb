{
 "cells": [
  {
   "cell_type": "markdown",
   "id": "56d071d4",
   "metadata": {},
   "source": [
    "## pandas.core.arrays.base.ExtensionOpsMixin\n",
    "\n",
    "Abstract Class"
   ]
  },
  {
   "cell_type": "code",
   "execution_count": 1,
   "id": "8390a007",
   "metadata": {},
   "outputs": [],
   "source": [
    "import pandas\n",
    "def class_constructor(*args, **kwargs):\n",
    "    obj = pandas.core.arrays.base.ExtensionOpsMixin()\n",
    "    return obj\n"
   ]
  },
  {
   "cell_type": "code",
   "execution_count": 2,
   "id": "9603aab6",
   "metadata": {},
   "outputs": [
    {
     "name": "stdout",
     "output_type": "stream",
     "text": [
      "❌ pandas.core.arrays.base.ExtensionOpsMixin._add_arithmetic_ops: Return unavailable\n",
      "  Please fix this return type code until there is no exception\n",
      "   Error: type object 'ExtensionOpsMixin' has no attribute '_create_arithmetic_method'\n"
     ]
    }
   ],
   "source": [
    "# pandas.core.arrays.base.ExtensionOpsMixin._add_arithmetic_ops\n",
    "try:\n",
    "    obj = class_constructor()\n",
    "    ret = obj._add_arithmetic_ops()\n",
    "    type_pandas_core_arrays_base_ExtensionOpsMixin__add_arithmetic_ops = (\n",
    "    getattr(ret, '__module__', None) + '.' + ret.__class__.__name__\n",
    "        if getattr(ret, '__module__', None)\n",
    "        else ret.__class__.__name__\n",
    "        )\n",
    "    print(\"✅ pandas.core.arrays.base.ExtensionOpsMixin._add_arithmetic_ops:\",\n",
    "        type_pandas_core_arrays_base_ExtensionOpsMixin__add_arithmetic_ops)\n",
    "except Exception as e:\n",
    "    type_pandas_core_arrays_base_ExtensionOpsMixin__add_arithmetic_ops = '_syft_missing'\n",
    "    print('❌ pandas.core.arrays.base.ExtensionOpsMixin._add_arithmetic_ops: Return unavailable')\n",
    "    print(\"  Please fix this return type code until there is no exception\")\n",
    "    print('   Error:', e)\n"
   ]
  },
  {
   "cell_type": "code",
   "execution_count": 3,
   "id": "b271b695",
   "metadata": {},
   "outputs": [
    {
     "name": "stdout",
     "output_type": "stream",
     "text": [
      "❌ pandas.core.arrays.base.ExtensionOpsMixin._add_comparison_ops: Return unavailable\n",
      "  Please fix this return type code until there is no exception\n",
      "   Error: type object 'ExtensionOpsMixin' has no attribute '_create_comparison_method'\n"
     ]
    }
   ],
   "source": [
    "# pandas.core.arrays.base.ExtensionOpsMixin._add_comparison_ops\n",
    "try:\n",
    "    obj = class_constructor()\n",
    "    ret = obj._add_comparison_ops()\n",
    "    type_pandas_core_arrays_base_ExtensionOpsMixin__add_comparison_ops = (\n",
    "    getattr(ret, '__module__', None) + '.' + ret.__class__.__name__\n",
    "        if getattr(ret, '__module__', None)\n",
    "        else ret.__class__.__name__\n",
    "        )\n",
    "    print(\"✅ pandas.core.arrays.base.ExtensionOpsMixin._add_comparison_ops:\",\n",
    "        type_pandas_core_arrays_base_ExtensionOpsMixin__add_comparison_ops)\n",
    "except Exception as e:\n",
    "    type_pandas_core_arrays_base_ExtensionOpsMixin__add_comparison_ops = '_syft_missing'\n",
    "    print('❌ pandas.core.arrays.base.ExtensionOpsMixin._add_comparison_ops: Return unavailable')\n",
    "    print(\"  Please fix this return type code until there is no exception\")\n",
    "    print('   Error:', e)\n"
   ]
  },
  {
   "cell_type": "code",
   "execution_count": 4,
   "id": "1fc18c66",
   "metadata": {},
   "outputs": [
    {
     "name": "stdout",
     "output_type": "stream",
     "text": [
      "❌ pandas.core.arrays.base.ExtensionOpsMixin._add_logical_ops: Return unavailable\n",
      "  Please fix this return type code until there is no exception\n",
      "   Error: type object 'ExtensionOpsMixin' has no attribute '_create_logical_method'\n"
     ]
    }
   ],
   "source": [
    "# pandas.core.arrays.base.ExtensionOpsMixin._add_logical_ops\n",
    "try:\n",
    "    obj = class_constructor()\n",
    "    ret = obj._add_logical_ops()\n",
    "    type_pandas_core_arrays_base_ExtensionOpsMixin__add_logical_ops = (\n",
    "    getattr(ret, '__module__', None) + '.' + ret.__class__.__name__\n",
    "        if getattr(ret, '__module__', None)\n",
    "        else ret.__class__.__name__\n",
    "        )\n",
    "    print(\"✅ pandas.core.arrays.base.ExtensionOpsMixin._add_logical_ops:\",\n",
    "        type_pandas_core_arrays_base_ExtensionOpsMixin__add_logical_ops)\n",
    "except Exception as e:\n",
    "    type_pandas_core_arrays_base_ExtensionOpsMixin__add_logical_ops = '_syft_missing'\n",
    "    print('❌ pandas.core.arrays.base.ExtensionOpsMixin._add_logical_ops: Return unavailable')\n",
    "    print(\"  Please fix this return type code until there is no exception\")\n",
    "    print('   Error:', e)\n"
   ]
  }
 ],
 "metadata": {
  "kernelspec": {
   "display_name": "Python 3",
   "language": "python",
   "name": "python3"
  },
  "language_info": {
   "codemirror_mode": {
    "name": "ipython",
    "version": 3
   },
   "file_extension": ".py",
   "mimetype": "text/x-python",
   "name": "python",
   "nbconvert_exporter": "python",
   "pygments_lexer": "ipython3",
   "version": "3.9.5"
  }
 },
 "nbformat": 4,
 "nbformat_minor": 5
}

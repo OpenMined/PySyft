{
 "cells": [
  {
   "cell_type": "markdown",
   "id": "2ac42753",
   "metadata": {},
   "source": [
    "## pandas.core.groupby.ops.WrappedCythonOp"
   ]
  },
  {
   "cell_type": "code",
   "execution_count": null,
   "id": "6daa8a18",
   "metadata": {},
   "outputs": [],
   "source": [
    "import pandas\n",
    "def class_constructor(*args, **kwargs):\n",
    "    obj = pandas.core.groupby.ops.WrappedCythonOp()\n",
    "    return obj\n"
   ]
  },
  {
   "cell_type": "code",
   "execution_count": null,
   "id": "22c8e018",
   "metadata": {},
   "outputs": [],
   "source": [
    "# pandas.core.groupby.ops.WrappedCythonOp._disallow_invalid_ops\n",
    "try:\n",
    "    obj = class_constructor()\n",
    "    ret = obj._disallow_invalid_ops()\n",
    "    type_pandas_core_groupby_ops_WrappedCythonOp__disallow_invalid_ops = (\n",
    "    getattr(ret, '__module__', None) + '.' + ret.__class__.__name__\n",
    "        if getattr(ret, '__module__', None)\n",
    "        else ret.__class__.__name__\n",
    "        )\n",
    "    print(\"✅ pandas.core.groupby.ops.WrappedCythonOp._disallow_invalid_ops:\",\n",
    "        type_pandas_core_groupby_ops_WrappedCythonOp__disallow_invalid_ops)\n",
    "except Exception as e:\n",
    "    type_pandas_core_groupby_ops_WrappedCythonOp__disallow_invalid_ops = '_syft_missing'\n",
    "    print('❌ pandas.core.groupby.ops.WrappedCythonOp._disallow_invalid_ops: Return unavailable')\n",
    "    print(\"  Please fix this return type code until there is no exception\")\n",
    "    print('   Error:', e)\n"
   ]
  },
  {
   "cell_type": "code",
   "execution_count": null,
   "id": "2a202838",
   "metadata": {},
   "outputs": [],
   "source": [
    "# pandas.core.groupby.ops.WrappedCythonOp._get_cython_function\n",
    "try:\n",
    "    obj = class_constructor()\n",
    "    ret = obj._get_cython_function()\n",
    "    type_pandas_core_groupby_ops_WrappedCythonOp__get_cython_function = (\n",
    "    getattr(ret, '__module__', None) + '.' + ret.__class__.__name__\n",
    "        if getattr(ret, '__module__', None)\n",
    "        else ret.__class__.__name__\n",
    "        )\n",
    "    print(\"✅ pandas.core.groupby.ops.WrappedCythonOp._get_cython_function:\",\n",
    "        type_pandas_core_groupby_ops_WrappedCythonOp__get_cython_function)\n",
    "except Exception as e:\n",
    "    type_pandas_core_groupby_ops_WrappedCythonOp__get_cython_function = '_syft_missing'\n",
    "    print('❌ pandas.core.groupby.ops.WrappedCythonOp._get_cython_function: Return unavailable')\n",
    "    print(\"  Please fix this return type code until there is no exception\")\n",
    "    print('   Error:', e)\n"
   ]
  },
  {
   "cell_type": "code",
   "execution_count": null,
   "id": "8020e4c8",
   "metadata": {},
   "outputs": [],
   "source": [
    "# pandas.core.groupby.ops.WrappedCythonOp.get_cython_func_and_vals\n",
    "try:\n",
    "    obj = class_constructor()\n",
    "    ret = obj.get_cython_func_and_vals()\n",
    "    type_pandas_core_groupby_ops_WrappedCythonOp_get_cython_func_and_vals = (\n",
    "    getattr(ret, '__module__', None) + '.' + ret.__class__.__name__\n",
    "        if getattr(ret, '__module__', None)\n",
    "        else ret.__class__.__name__\n",
    "        )\n",
    "    print(\"✅ pandas.core.groupby.ops.WrappedCythonOp.get_cython_func_and_vals:\",\n",
    "        type_pandas_core_groupby_ops_WrappedCythonOp_get_cython_func_and_vals)\n",
    "except Exception as e:\n",
    "    type_pandas_core_groupby_ops_WrappedCythonOp_get_cython_func_and_vals = '_syft_missing'\n",
    "    print('❌ pandas.core.groupby.ops.WrappedCythonOp.get_cython_func_and_vals: Return unavailable')\n",
    "    print(\"  Please fix this return type code until there is no exception\")\n",
    "    print('   Error:', e)\n"
   ]
  }
 ],
 "metadata": {},
 "nbformat": 4,
 "nbformat_minor": 5
}
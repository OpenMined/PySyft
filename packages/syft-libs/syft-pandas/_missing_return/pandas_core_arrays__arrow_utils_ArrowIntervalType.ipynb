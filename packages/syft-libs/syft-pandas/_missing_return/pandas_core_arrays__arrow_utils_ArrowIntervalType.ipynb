{
 "cells": [
  {
   "cell_type": "markdown",
   "id": "d218367f",
   "metadata": {},
   "source": [
    "## pandas.core.arrays._arrow_utils.ArrowIntervalType"
   ]
  },
  {
   "cell_type": "code",
   "execution_count": 6,
   "id": "b44334a6",
   "metadata": {},
   "outputs": [],
   "source": [
    "import pyarrow as pa\n",
    "import pandas.core.arrays._arrow_utils\n",
    "def class_constructor(*args, **kwargs):\n",
    "    obj = pandas.core.arrays._arrow_utils.ArrowIntervalType(pa.int64(), \"left\")\n",
    "    return obj\n"
   ]
  },
  {
   "cell_type": "code",
   "execution_count": 15,
   "id": "7d0c863e",
   "metadata": {},
   "outputs": [
    {
     "name": "stdout",
     "output_type": "stream",
     "text": [
      "✅ pandas.core.arrays._arrow_utils.ArrowIntervalType.__arrow_ext_deserialize__: pandas.core.arrays._arrow_utils.ArrowIntervalType\n"
     ]
    }
   ],
   "source": [
    "# pandas.core.arrays._arrow_utils.ArrowIntervalType.__arrow_ext_deserialize__\n",
    "# https://github.com/pandas-dev/pandas/blob/77443dce2734d57484e3f5f38eba6d1897089182/pandas/core/arrays/_arrow_utils.py#L114\n",
    "try:\n",
    "    obj = class_constructor()\n",
    "    # __arrow_ext_deserialize__ is a classmethod that returns instance\n",
    "    ret = obj\n",
    "    type_pandas_core_arrays__arrow_utils_ArrowIntervalType___arrow_ext_deserialize__ = (\n",
    "    getattr(ret, '__module__', None) + '.' + ret.__class__.__name__\n",
    "        if getattr(ret, '__module__', None)\n",
    "        else ret.__class__.__name__\n",
    "        )\n",
    "    print(\"✅ pandas.core.arrays._arrow_utils.ArrowIntervalType.__arrow_ext_deserialize__:\",\n",
    "        type_pandas_core_arrays__arrow_utils_ArrowIntervalType___arrow_ext_deserialize__)\n",
    "except Exception as e:\n",
    "    type_pandas_core_arrays__arrow_utils_ArrowIntervalType___arrow_ext_deserialize__ = '_syft_missing'\n",
    "    print('❌ pandas.core.arrays._arrow_utils.ArrowIntervalType.__arrow_ext_deserialize__: Return unavailable')\n",
    "    print(\"  Please fix this return type code until there is no exception\")\n",
    "    print('   Error:', e)\n"
   ]
  },
  {
   "cell_type": "code",
   "execution_count": 8,
   "id": "7bf2915f",
   "metadata": {},
   "outputs": [
    {
     "name": "stdout",
     "output_type": "stream",
     "text": [
      "✅ pandas.core.arrays._arrow_utils.ArrowIntervalType.__arrow_ext_serialize__: bytes\n"
     ]
    }
   ],
   "source": [
    "# pandas.core.arrays._arrow_utils.ArrowIntervalType.__arrow_ext_serialize__\n",
    "try:\n",
    "    obj = class_constructor()\n",
    "    ret = obj.__arrow_ext_serialize__()\n",
    "    type_pandas_core_arrays__arrow_utils_ArrowIntervalType___arrow_ext_serialize__ = (\n",
    "    getattr(ret, '__module__', None) + '.' + ret.__class__.__name__\n",
    "        if getattr(ret, '__module__', None)\n",
    "        else ret.__class__.__name__\n",
    "        )\n",
    "    print(\"✅ pandas.core.arrays._arrow_utils.ArrowIntervalType.__arrow_ext_serialize__:\",\n",
    "        type_pandas_core_arrays__arrow_utils_ArrowIntervalType___arrow_ext_serialize__)\n",
    "except Exception as e:\n",
    "    type_pandas_core_arrays__arrow_utils_ArrowIntervalType___arrow_ext_serialize__ = '_syft_missing'\n",
    "    print('❌ pandas.core.arrays._arrow_utils.ArrowIntervalType.__arrow_ext_serialize__: Return unavailable')\n",
    "    print(\"  Please fix this return type code until there is no exception\")\n",
    "    print('   Error:', e)\n"
   ]
  },
  {
   "cell_type": "code",
   "execution_count": 14,
   "id": "219b6b7e",
   "metadata": {},
   "outputs": [
    {
     "name": "stdout",
     "output_type": "stream",
     "text": [
      "✅ pandas.core.arrays._arrow_utils.ArrowIntervalType.__eq__: bool\n"
     ]
    }
   ],
   "source": [
    "# pandas.core.arrays._arrow_utils.ArrowIntervalType.__eq__\n",
    "try:\n",
    "    obj = class_constructor()\n",
    "    obj2 = class_constructor()\n",
    "    ret = obj.__eq__(obj2)\n",
    "    type_pandas_core_arrays__arrow_utils_ArrowIntervalType___eq__ = (\n",
    "    getattr(ret, '__module__', None) + '.' + ret.__class__.__name__\n",
    "        if getattr(ret, '__module__', None)\n",
    "        else ret.__class__.__name__\n",
    "        )\n",
    "    print(\"✅ pandas.core.arrays._arrow_utils.ArrowIntervalType.__eq__:\",\n",
    "        type_pandas_core_arrays__arrow_utils_ArrowIntervalType___eq__)\n",
    "except Exception as e:\n",
    "    type_pandas_core_arrays__arrow_utils_ArrowIntervalType___eq__ = '_syft_missing'\n",
    "    print('❌ pandas.core.arrays._arrow_utils.ArrowIntervalType.__eq__: Return unavailable')\n",
    "    print(\"  Please fix this return type code until there is no exception\")\n",
    "    print('   Error:', e)\n"
   ]
  },
  {
   "cell_type": "code",
   "execution_count": 10,
   "id": "a8b68a31",
   "metadata": {},
   "outputs": [
    {
     "name": "stdout",
     "output_type": "stream",
     "text": [
      "✅ pandas.core.arrays._arrow_utils.ArrowIntervalType.__hash__: int\n"
     ]
    }
   ],
   "source": [
    "# pandas.core.arrays._arrow_utils.ArrowIntervalType.__hash__\n",
    "try:\n",
    "    obj = class_constructor()\n",
    "    ret = obj.__hash__()\n",
    "    type_pandas_core_arrays__arrow_utils_ArrowIntervalType___hash__ = (\n",
    "    getattr(ret, '__module__', None) + '.' + ret.__class__.__name__\n",
    "        if getattr(ret, '__module__', None)\n",
    "        else ret.__class__.__name__\n",
    "        )\n",
    "    print(\"✅ pandas.core.arrays._arrow_utils.ArrowIntervalType.__hash__:\",\n",
    "        type_pandas_core_arrays__arrow_utils_ArrowIntervalType___hash__)\n",
    "except Exception as e:\n",
    "    type_pandas_core_arrays__arrow_utils_ArrowIntervalType___hash__ = '_syft_missing'\n",
    "    print('❌ pandas.core.arrays._arrow_utils.ArrowIntervalType.__hash__: Return unavailable')\n",
    "    print(\"  Please fix this return type code until there is no exception\")\n",
    "    print('   Error:', e)\n"
   ]
  },
  {
   "cell_type": "code",
   "execution_count": 11,
   "id": "bc04e2f8",
   "metadata": {},
   "outputs": [
    {
     "name": "stdout",
     "output_type": "stream",
     "text": [
      "✅ pandas.core.arrays._arrow_utils.ArrowIntervalType.closed: str\n"
     ]
    }
   ],
   "source": [
    "# pandas.core.arrays._arrow_utils.ArrowIntervalType.closed\n",
    "try:\n",
    "    obj = class_constructor()\n",
    "    ret = obj.closed\n",
    "    type_pandas_core_arrays__arrow_utils_ArrowIntervalType_closed = (\n",
    "    getattr(ret, '__module__', None) + '.' + ret.__class__.__name__\n",
    "        if getattr(ret, '__module__', None)\n",
    "        else ret.__class__.__name__\n",
    "        )\n",
    "    print(\"✅ pandas.core.arrays._arrow_utils.ArrowIntervalType.closed:\",\n",
    "        type_pandas_core_arrays__arrow_utils_ArrowIntervalType_closed)\n",
    "except Exception as e:\n",
    "    type_pandas_core_arrays__arrow_utils_ArrowIntervalType_closed = '_syft_missing'\n",
    "    print('❌ pandas.core.arrays._arrow_utils.ArrowIntervalType.closed: Return unavailable')\n",
    "    print(\"  Please fix this return type code until there is no exception\")\n",
    "    print('  Error:', e)\n"
   ]
  },
  {
   "cell_type": "code",
   "execution_count": 12,
   "id": "9bf35c3a",
   "metadata": {},
   "outputs": [
    {
     "name": "stdout",
     "output_type": "stream",
     "text": [
      "✅ pandas.core.arrays._arrow_utils.ArrowIntervalType.subtype: DataType\n"
     ]
    }
   ],
   "source": [
    "# pandas.core.arrays._arrow_utils.ArrowIntervalType.subtype\n",
    "try:\n",
    "    obj = class_constructor()\n",
    "    ret = obj.subtype\n",
    "    type_pandas_core_arrays__arrow_utils_ArrowIntervalType_subtype = (\n",
    "    getattr(ret, '__module__', None) + '.' + ret.__class__.__name__\n",
    "        if getattr(ret, '__module__', None)\n",
    "        else ret.__class__.__name__\n",
    "        )\n",
    "    print(\"✅ pandas.core.arrays._arrow_utils.ArrowIntervalType.subtype:\",\n",
    "        type_pandas_core_arrays__arrow_utils_ArrowIntervalType_subtype)\n",
    "except Exception as e:\n",
    "    type_pandas_core_arrays__arrow_utils_ArrowIntervalType_subtype = '_syft_missing'\n",
    "    print('❌ pandas.core.arrays._arrow_utils.ArrowIntervalType.subtype: Return unavailable')\n",
    "    print(\"  Please fix this return type code until there is no exception\")\n",
    "    print('  Error:', e)\n"
   ]
  },
  {
   "cell_type": "code",
   "execution_count": 13,
   "id": "890be710",
   "metadata": {},
   "outputs": [
    {
     "name": "stdout",
     "output_type": "stream",
     "text": [
      "✅ pandas.core.arrays._arrow_utils.ArrowIntervalType.to_pandas_dtype: pandas.core.dtypes.dtypes.IntervalDtype\n"
     ]
    }
   ],
   "source": [
    "# pandas.core.arrays._arrow_utils.ArrowIntervalType.to_pandas_dtype\n",
    "try:\n",
    "    obj = class_constructor()\n",
    "    ret = obj.to_pandas_dtype()\n",
    "    type_pandas_core_arrays__arrow_utils_ArrowIntervalType_to_pandas_dtype = (\n",
    "    getattr(ret, '__module__', None) + '.' + ret.__class__.__name__\n",
    "        if getattr(ret, '__module__', None)\n",
    "        else ret.__class__.__name__\n",
    "        )\n",
    "    print(\"✅ pandas.core.arrays._arrow_utils.ArrowIntervalType.to_pandas_dtype:\",\n",
    "        type_pandas_core_arrays__arrow_utils_ArrowIntervalType_to_pandas_dtype)\n",
    "except Exception as e:\n",
    "    type_pandas_core_arrays__arrow_utils_ArrowIntervalType_to_pandas_dtype = '_syft_missing'\n",
    "    print('❌ pandas.core.arrays._arrow_utils.ArrowIntervalType.to_pandas_dtype: Return unavailable')\n",
    "    print(\"  Please fix this return type code until there is no exception\")\n",
    "    print('   Error:', e)\n"
   ]
  },
  {
   "cell_type": "code",
   "execution_count": null,
   "id": "7590558e",
   "metadata": {},
   "outputs": [],
   "source": []
  }
 ],
 "metadata": {
  "kernelspec": {
   "display_name": "Python 3",
   "language": "python",
   "name": "python3"
  },
  "language_info": {
   "codemirror_mode": {
    "name": "ipython",
    "version": 3
   },
   "file_extension": ".py",
   "mimetype": "text/x-python",
   "name": "python",
   "nbconvert_exporter": "python",
   "pygments_lexer": "ipython3",
   "version": "3.9.5"
  }
 },
 "nbformat": 4,
 "nbformat_minor": 5
}

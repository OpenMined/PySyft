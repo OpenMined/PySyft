{
 "cells": [
  {
   "cell_type": "markdown",
   "id": "fdbce156",
   "metadata": {},
   "source": [
    "## pandas.core.indexing._AtIndexer"
   ]
  },
  {
   "cell_type": "code",
   "execution_count": null,
   "id": "896ead79",
   "metadata": {},
   "outputs": [],
   "source": [
    "import pandas\n",
    "def class_constructor(*args, **kwargs):\n",
    "    obj = pandas.core.indexing._AtIndexer()\n",
    "    return obj\n"
   ]
  },
  {
   "cell_type": "code",
   "execution_count": null,
   "id": "2a2089fa",
   "metadata": {},
   "outputs": [],
   "source": [
    "# pandas.core.indexing._AtIndexer.__getitem__\n",
    "try:\n",
    "    obj = class_constructor()\n",
    "    ret = obj.__getitem__()\n",
    "    type_pandas_core_indexing__AtIndexer___getitem__ = (\n",
    "    getattr(ret, '__module__', None) + '.' + ret.__class__.__name__\n",
    "        if getattr(ret, '__module__', None)\n",
    "        else ret.__class__.__name__\n",
    "        )\n",
    "    print(\"✅ pandas.core.indexing._AtIndexer.__getitem__:\",\n",
    "        type_pandas_core_indexing__AtIndexer___getitem__)\n",
    "except Exception as e:\n",
    "    type_pandas_core_indexing__AtIndexer___getitem__ = '_syft_missing'\n",
    "    print('❌ pandas.core.indexing._AtIndexer.__getitem__: Return unavailable')\n",
    "    print(\"  Please fix this return type code until there is no exception\")\n",
    "    print('   Error:', e)\n"
   ]
  },
  {
   "cell_type": "code",
   "execution_count": null,
   "id": "548cffb9",
   "metadata": {},
   "outputs": [],
   "source": [
    "# pandas.core.indexing._AtIndexer.__setitem__\n",
    "try:\n",
    "    obj = class_constructor()\n",
    "    ret = obj.__setitem__()\n",
    "    type_pandas_core_indexing__AtIndexer___setitem__ = (\n",
    "    getattr(ret, '__module__', None) + '.' + ret.__class__.__name__\n",
    "        if getattr(ret, '__module__', None)\n",
    "        else ret.__class__.__name__\n",
    "        )\n",
    "    print(\"✅ pandas.core.indexing._AtIndexer.__setitem__:\",\n",
    "        type_pandas_core_indexing__AtIndexer___setitem__)\n",
    "except Exception as e:\n",
    "    type_pandas_core_indexing__AtIndexer___setitem__ = '_syft_missing'\n",
    "    print('❌ pandas.core.indexing._AtIndexer.__setitem__: Return unavailable')\n",
    "    print(\"  Please fix this return type code until there is no exception\")\n",
    "    print('   Error:', e)\n"
   ]
  },
  {
   "cell_type": "code",
   "execution_count": null,
   "id": "f2a5c575",
   "metadata": {},
   "outputs": [],
   "source": [
    "# pandas.core.indexing._AtIndexer._axes_are_unique\n",
    "try:\n",
    "    obj = class_constructor()\n",
    "    ret = obj._axes_are_unique\n",
    "    type_pandas_core_indexing__AtIndexer__axes_are_unique = (\n",
    "    getattr(ret, '__module__', None) + '.' + ret.__class__.__name__\n",
    "        if getattr(ret, '__module__', None)\n",
    "        else ret.__class__.__name__\n",
    "        )\n",
    "    print(\"✅ pandas.core.indexing._AtIndexer._axes_are_unique:\",\n",
    "        type_pandas_core_indexing__AtIndexer__axes_are_unique)\n",
    "except Exception as e:\n",
    "    type_pandas_core_indexing__AtIndexer__axes_are_unique = '_syft_missing'\n",
    "    print('❌ pandas.core.indexing._AtIndexer._axes_are_unique: Return unavailable')\n",
    "    print(\"  Please fix this return type code until there is no exception\")\n",
    "    print('  Error:', e)\n"
   ]
  },
  {
   "cell_type": "code",
   "execution_count": null,
   "id": "06bb2ce7",
   "metadata": {},
   "outputs": [],
   "source": [
    "# pandas.core.indexing._AtIndexer._convert_key\n",
    "try:\n",
    "    obj = class_constructor()\n",
    "    ret = obj._convert_key()\n",
    "    type_pandas_core_indexing__AtIndexer__convert_key = (\n",
    "    getattr(ret, '__module__', None) + '.' + ret.__class__.__name__\n",
    "        if getattr(ret, '__module__', None)\n",
    "        else ret.__class__.__name__\n",
    "        )\n",
    "    print(\"✅ pandas.core.indexing._AtIndexer._convert_key:\",\n",
    "        type_pandas_core_indexing__AtIndexer__convert_key)\n",
    "except Exception as e:\n",
    "    type_pandas_core_indexing__AtIndexer__convert_key = '_syft_missing'\n",
    "    print('❌ pandas.core.indexing._AtIndexer._convert_key: Return unavailable')\n",
    "    print(\"  Please fix this return type code until there is no exception\")\n",
    "    print('   Error:', e)\n"
   ]
  }
 ],
 "metadata": {},
 "nbformat": 4,
 "nbformat_minor": 5
}
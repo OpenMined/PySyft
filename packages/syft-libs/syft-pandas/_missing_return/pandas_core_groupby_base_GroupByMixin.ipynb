{
 "cells": [
  {
   "cell_type": "markdown",
   "id": "adc61961",
   "metadata": {},
   "source": [
    "## pandas.core.groupby.base.GroupByMixin"
   ]
  },
  {
   "cell_type": "code",
   "execution_count": null,
   "id": "e1fe341a",
   "metadata": {},
   "outputs": [],
   "source": [
    "import pandas\n",
    "def class_constructor(*args, **kwargs):\n",
    "    obj = pandas.core.groupby.base.GroupByMixin()\n",
    "    return obj\n"
   ]
  },
  {
   "cell_type": "code",
   "execution_count": null,
   "id": "33d16c65",
   "metadata": {},
   "outputs": [],
   "source": [
    "# pandas.core.groupby.base.GroupByMixin._gotitem\n",
    "try:\n",
    "    obj = class_constructor()\n",
    "    ret = obj._gotitem()\n",
    "    type_pandas_core_groupby_base_GroupByMixin__gotitem = (\n",
    "    getattr(ret, '__module__', None) + '.' + ret.__class__.__name__\n",
    "        if getattr(ret, '__module__', None)\n",
    "        else ret.__class__.__name__\n",
    "        )\n",
    "    print(\"✅ pandas.core.groupby.base.GroupByMixin._gotitem:\",\n",
    "        type_pandas_core_groupby_base_GroupByMixin__gotitem)\n",
    "except Exception as e:\n",
    "    type_pandas_core_groupby_base_GroupByMixin__gotitem = '_syft_missing'\n",
    "    print('❌ pandas.core.groupby.base.GroupByMixin._gotitem: Return unavailable')\n",
    "    print(\"  Please fix this return type code until there is no exception\")\n",
    "    print('   Error:', e)\n"
   ]
  }
 ],
 "metadata": {},
 "nbformat": 4,
 "nbformat_minor": 5
}
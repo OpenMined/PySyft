{
 "cells": [
  {
   "cell_type": "markdown",
   "id": "9488ba9c",
   "metadata": {},
   "source": [
    "## pandas.core.internals.array_manager.NullArrayProxy"
   ]
  },
  {
   "cell_type": "code",
   "execution_count": null,
   "id": "81034cf1",
   "metadata": {},
   "outputs": [],
   "source": [
    "# pandas.core.internals.array_manager.NullArrayProxy.shape\n",
    "try:\n",
    "    obj = class_constructor()\n",
    "    ret = obj.shape\n",
    "    type_pandas_core_internals_array_manager_NullArrayProxy_shape = (\n",
    "    getattr(ret, '__module__', None) + '.' + ret.__class__.__name__\n",
    "        if getattr(ret, '__module__', None)\n",
    "        else ret.__class__.__name__\n",
    "        )\n",
    "    print(\"✅ pandas.core.internals.array_manager.NullArrayProxy.shape:\",\n",
    "        type_pandas_core_internals_array_manager_NullArrayProxy_shape)\n",
    "except Exception as e:\n",
    "    type_pandas_core_internals_array_manager_NullArrayProxy_shape = '_syft_missing'\n",
    "    print('❌ pandas.core.internals.array_manager.NullArrayProxy.shape: Return unavailable')\n",
    "    print(\"  Please fix this return type code until there is no exception\")\n",
    "    print('  Error:', e)\n"
   ]
  }
 ],
 "metadata": {},
 "nbformat": 4,
 "nbformat_minor": 5
}
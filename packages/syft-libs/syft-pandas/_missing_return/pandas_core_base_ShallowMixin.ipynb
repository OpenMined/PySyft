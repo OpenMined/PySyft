{
 "cells": [
  {
   "cell_type": "markdown",
   "id": "74a2a7a5",
   "metadata": {},
   "source": [
    "## pandas.core.base.ShallowMixin"
   ]
  },
  {
   "cell_type": "code",
   "execution_count": null,
   "id": "cba49933",
   "metadata": {},
   "outputs": [],
   "source": [
    "import pandas\n",
    "def class_constructor(*args, **kwargs):\n",
    "    obj = pandas.core.base.ShallowMixin()\n",
    "    return obj\n"
   ]
  },
  {
   "cell_type": "code",
   "execution_count": null,
   "id": "b83e5ba7",
   "metadata": {},
   "outputs": [],
   "source": [
    "# pandas.core.base.ShallowMixin._shallow_copy\n",
    "try:\n",
    "    obj = class_constructor()\n",
    "    ret = obj._shallow_copy()\n",
    "    type_pandas_core_base_ShallowMixin__shallow_copy = (\n",
    "    getattr(ret, '__module__', None) + '.' + ret.__class__.__name__\n",
    "        if getattr(ret, '__module__', None)\n",
    "        else ret.__class__.__name__\n",
    "        )\n",
    "    print(\"✅ pandas.core.base.ShallowMixin._shallow_copy:\",\n",
    "        type_pandas_core_base_ShallowMixin__shallow_copy)\n",
    "except Exception as e:\n",
    "    type_pandas_core_base_ShallowMixin__shallow_copy = '_syft_missing'\n",
    "    print('❌ pandas.core.base.ShallowMixin._shallow_copy: Return unavailable')\n",
    "    print(\"  Please fix this return type code until there is no exception\")\n",
    "    print('   Error:', e)\n"
   ]
  }
 ],
 "metadata": {},
 "nbformat": 4,
 "nbformat_minor": 5
}
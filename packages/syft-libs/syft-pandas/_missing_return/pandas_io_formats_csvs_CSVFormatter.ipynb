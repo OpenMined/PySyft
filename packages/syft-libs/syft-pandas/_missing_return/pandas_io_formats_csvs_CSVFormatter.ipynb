{
 "cells": [
  {
   "cell_type": "markdown",
   "id": "32260273",
   "metadata": {},
   "source": [
    "## pandas.io.formats.csvs.CSVFormatter"
   ]
  },
  {
   "cell_type": "code",
   "execution_count": null,
   "id": "f7036993",
   "metadata": {},
   "outputs": [],
   "source": [
    "import pandas\n",
    "def class_constructor(*args, **kwargs):\n",
    "    obj = pandas.io.formats.csvs.CSVFormatter()\n",
    "    return obj\n"
   ]
  },
  {
   "cell_type": "code",
   "execution_count": null,
   "id": "a0958ffc",
   "metadata": {},
   "outputs": [],
   "source": [
    "# pandas.io.formats.csvs.CSVFormatter._save_header\n",
    "try:\n",
    "    obj = class_constructor()\n",
    "    ret = obj._save_header()\n",
    "    type_pandas_io_formats_csvs_CSVFormatter__save_header = (\n",
    "    getattr(ret, '__module__', None) + '.' + ret.__class__.__name__\n",
    "        if getattr(ret, '__module__', None)\n",
    "        else ret.__class__.__name__\n",
    "        )\n",
    "    print(\"✅ pandas.io.formats.csvs.CSVFormatter._save_header:\",\n",
    "        type_pandas_io_formats_csvs_CSVFormatter__save_header)\n",
    "except Exception as e:\n",
    "    type_pandas_io_formats_csvs_CSVFormatter__save_header = '_syft_missing'\n",
    "    print('❌ pandas.io.formats.csvs.CSVFormatter._save_header: Return unavailable')\n",
    "    print(\"  Please fix this return type code until there is no exception\")\n",
    "    print('   Error:', e)\n"
   ]
  }
 ],
 "metadata": {},
 "nbformat": 4,
 "nbformat_minor": 5
}
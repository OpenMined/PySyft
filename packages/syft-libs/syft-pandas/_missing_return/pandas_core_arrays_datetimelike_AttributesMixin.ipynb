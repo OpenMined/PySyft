{
 "cells": [
  {
   "cell_type": "markdown",
   "id": "716372fa",
   "metadata": {},
   "source": [
    "## pandas.core.arrays.datetimelike.AttributesMixin\n",
    "Abstract Class"
   ]
  },
  {
   "cell_type": "code",
   "execution_count": 1,
   "id": "e84d7c9f",
   "metadata": {},
   "outputs": [],
   "source": [
    "import pandas\n",
    "def class_constructor():\n",
    "    return pandas.core.arrays.datetimelike.AttributesMixin()"
   ]
  },
  {
   "cell_type": "code",
   "execution_count": 2,
   "id": "42087b81",
   "metadata": {},
   "outputs": [
    {
     "name": "stdout",
     "output_type": "stream",
     "text": [
      "❌ pandas.core.arrays.datetimelike.AttributesMixin._scalar_type: Return unavailable\n",
      "  Please fix this return type code until there is no exception\n",
      "  Error: This method must be defined in the concrete class AttributesMixin\n"
     ]
    }
   ],
   "source": [
    "# pandas.core.arrays.datetimelike.AttributesMixin._scalar_type\n",
    "try:\n",
    "    obj = class_constructor()\n",
    "    ret = obj._scalar_type\n",
    "    type_pandas_core_arrays_datetimelike_AttributesMixin__scalar_type = (\n",
    "    getattr(ret, '__module__', None) + '.' + ret.__class__.__name__\n",
    "        if getattr(ret, '__module__', None)\n",
    "        else ret.__class__.__name__\n",
    "        )\n",
    "    print(\"✅ pandas.core.arrays.datetimelike.AttributesMixin._scalar_type:\",\n",
    "        type_pandas_core_arrays_datetimelike_AttributesMixin__scalar_type)\n",
    "except Exception as e:\n",
    "    type_pandas_core_arrays_datetimelike_AttributesMixin__scalar_type = '_syft_missing'\n",
    "    print('❌ pandas.core.arrays.datetimelike.AttributesMixin._scalar_type: Return unavailable')\n",
    "    print(\"  Please fix this return type code until there is no exception\")\n",
    "    print('  Error:', e)\n"
   ]
  },
  {
   "cell_type": "code",
   "execution_count": 3,
   "id": "5d10916e",
   "metadata": {},
   "outputs": [
    {
     "name": "stdout",
     "output_type": "stream",
     "text": [
      "❌ pandas.core.arrays.datetimelike.AttributesMixin._simple_new: Return unavailable\n",
      "  Please fix this return type code until there is no exception\n",
      "   Error: This method must be defined in the concrete class type\n"
     ]
    }
   ],
   "source": [
    "# pandas.core.arrays.datetimelike.AttributesMixin._simple_new\n",
    "try:\n",
    "    obj = class_constructor()\n",
    "    ret = obj._simple_new([1,2,3])\n",
    "    type_pandas_core_arrays_datetimelike_AttributesMixin__simple_new = (\n",
    "    getattr(ret, '__module__', None) + '.' + ret.__class__.__name__\n",
    "        if getattr(ret, '__module__', None)\n",
    "        else ret.__class__.__name__\n",
    "        )\n",
    "    print(\"✅ pandas.core.arrays.datetimelike.AttributesMixin._simple_new:\",\n",
    "        type_pandas_core_arrays_datetimelike_AttributesMixin__simple_new)\n",
    "except Exception as e:\n",
    "    type_pandas_core_arrays_datetimelike_AttributesMixin__simple_new = '_syft_missing'\n",
    "    print('❌ pandas.core.arrays.datetimelike.AttributesMixin._simple_new: Return unavailable')\n",
    "    print(\"  Please fix this return type code until there is no exception\")\n",
    "    print('   Error:', e)\n"
   ]
  },
  {
   "cell_type": "code",
   "execution_count": null,
   "id": "3c6cd45f",
   "metadata": {},
   "outputs": [],
   "source": []
  }
 ],
 "metadata": {
  "kernelspec": {
   "display_name": "Python 3",
   "language": "python",
   "name": "python3"
  },
  "language_info": {
   "codemirror_mode": {
    "name": "ipython",
    "version": 3
   },
   "file_extension": ".py",
   "mimetype": "text/x-python",
   "name": "python",
   "nbconvert_exporter": "python",
   "pygments_lexer": "ipython3",
   "version": "3.9.5"
  }
 },
 "nbformat": 4,
 "nbformat_minor": 5
}

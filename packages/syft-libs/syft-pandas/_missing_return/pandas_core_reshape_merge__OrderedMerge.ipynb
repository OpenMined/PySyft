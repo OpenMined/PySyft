{
 "cells": [
  {
   "cell_type": "markdown",
   "id": "db874a30",
   "metadata": {},
   "source": [
    "## pandas.core.reshape.merge._OrderedMerge"
   ]
  },
  {
   "cell_type": "code",
   "execution_count": null,
   "id": "a4cc0110",
   "metadata": {},
   "outputs": [],
   "source": [
    "import pandas\n",
    "def class_constructor(*args, **kwargs):\n",
    "    obj = pandas.core.reshape.merge._OrderedMerge()\n",
    "    return obj\n"
   ]
  },
  {
   "cell_type": "code",
   "execution_count": null,
   "id": "e87cdcb6",
   "metadata": {},
   "outputs": [],
   "source": [
    "# pandas.core.reshape.merge._OrderedMerge._get_merge_keys\n",
    "try:\n",
    "    obj = class_constructor()\n",
    "    ret = obj._get_merge_keys()\n",
    "    type_pandas_core_reshape_merge__OrderedMerge__get_merge_keys = (\n",
    "    getattr(ret, '__module__', None) + '.' + ret.__class__.__name__\n",
    "        if getattr(ret, '__module__', None)\n",
    "        else ret.__class__.__name__\n",
    "        )\n",
    "    print(\"✅ pandas.core.reshape.merge._OrderedMerge._get_merge_keys:\",\n",
    "        type_pandas_core_reshape_merge__OrderedMerge__get_merge_keys)\n",
    "except Exception as e:\n",
    "    type_pandas_core_reshape_merge__OrderedMerge__get_merge_keys = '_syft_missing'\n",
    "    print('❌ pandas.core.reshape.merge._OrderedMerge._get_merge_keys: Return unavailable')\n",
    "    print(\"  Please fix this return type code until there is no exception\")\n",
    "    print('   Error:', e)\n"
   ]
  }
 ],
 "metadata": {},
 "nbformat": 4,
 "nbformat_minor": 5
}
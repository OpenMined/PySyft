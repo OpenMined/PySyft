{
 "cells": [
  {
   "cell_type": "markdown",
   "id": "96b40714",
   "metadata": {},
   "source": [
    "## pandas.core.arrays.integer.Int8Dtype"
   ]
  },
  {
   "cell_type": "code",
   "execution_count": null,
   "id": "6a852a61",
   "metadata": {},
   "outputs": [],
   "source": [
    "# pandas.core.arrays.integer.Int8Dtype._can_hold_na\n",
    "try:\n",
    "    obj = class_constructor()\n",
    "    ret = obj._can_hold_na\n",
    "    type_pandas_core_arrays_integer_Int8Dtype__can_hold_na = (\n",
    "    getattr(ret, '__module__', None) + '.' + ret.__class__.__name__\n",
    "        if getattr(ret, '__module__', None)\n",
    "        else ret.__class__.__name__\n",
    "        )\n",
    "    print(\"✅ pandas.core.arrays.integer.Int8Dtype._can_hold_na:\",\n",
    "        type_pandas_core_arrays_integer_Int8Dtype__can_hold_na)\n",
    "except Exception as e:\n",
    "    type_pandas_core_arrays_integer_Int8Dtype__can_hold_na = '_syft_missing'\n",
    "    print('❌ pandas.core.arrays.integer.Int8Dtype._can_hold_na: Return unavailable')\n",
    "    print(\"  Please fix this return type code until there is no exception\")\n",
    "    print('  Error:', e)\n"
   ]
  },
  {
   "cell_type": "code",
   "execution_count": null,
   "id": "03182a59",
   "metadata": {},
   "outputs": [],
   "source": [
    "# pandas.core.arrays.integer.Int8Dtype._is_boolean\n",
    "try:\n",
    "    obj = class_constructor()\n",
    "    ret = obj._is_boolean\n",
    "    type_pandas_core_arrays_integer_Int8Dtype__is_boolean = (\n",
    "    getattr(ret, '__module__', None) + '.' + ret.__class__.__name__\n",
    "        if getattr(ret, '__module__', None)\n",
    "        else ret.__class__.__name__\n",
    "        )\n",
    "    print(\"✅ pandas.core.arrays.integer.Int8Dtype._is_boolean:\",\n",
    "        type_pandas_core_arrays_integer_Int8Dtype__is_boolean)\n",
    "except Exception as e:\n",
    "    type_pandas_core_arrays_integer_Int8Dtype__is_boolean = '_syft_missing'\n",
    "    print('❌ pandas.core.arrays.integer.Int8Dtype._is_boolean: Return unavailable')\n",
    "    print(\"  Please fix this return type code until there is no exception\")\n",
    "    print('  Error:', e)\n"
   ]
  },
  {
   "cell_type": "code",
   "execution_count": null,
   "id": "c3c6a074",
   "metadata": {},
   "outputs": [],
   "source": [
    "# pandas.core.arrays.integer.Int8Dtype._is_numeric\n",
    "try:\n",
    "    obj = class_constructor()\n",
    "    ret = obj._is_numeric\n",
    "    type_pandas_core_arrays_integer_Int8Dtype__is_numeric = (\n",
    "    getattr(ret, '__module__', None) + '.' + ret.__class__.__name__\n",
    "        if getattr(ret, '__module__', None)\n",
    "        else ret.__class__.__name__\n",
    "        )\n",
    "    print(\"✅ pandas.core.arrays.integer.Int8Dtype._is_numeric:\",\n",
    "        type_pandas_core_arrays_integer_Int8Dtype__is_numeric)\n",
    "except Exception as e:\n",
    "    type_pandas_core_arrays_integer_Int8Dtype__is_numeric = '_syft_missing'\n",
    "    print('❌ pandas.core.arrays.integer.Int8Dtype._is_numeric: Return unavailable')\n",
    "    print(\"  Please fix this return type code until there is no exception\")\n",
    "    print('  Error:', e)\n"
   ]
  },
  {
   "cell_type": "code",
   "execution_count": null,
   "id": "84720700",
   "metadata": {},
   "outputs": [],
   "source": [
    "# pandas.core.arrays.integer.Int8Dtype.construct_from_string\n",
    "try:\n",
    "    obj = class_constructor()\n",
    "    ret = obj.construct_from_string()\n",
    "    type_pandas_core_arrays_integer_Int8Dtype_construct_from_string = (\n",
    "    getattr(ret, '__module__', None) + '.' + ret.__class__.__name__\n",
    "        if getattr(ret, '__module__', None)\n",
    "        else ret.__class__.__name__\n",
    "        )\n",
    "    print(\"✅ pandas.core.arrays.integer.Int8Dtype.construct_from_string:\",\n",
    "        type_pandas_core_arrays_integer_Int8Dtype_construct_from_string)\n",
    "except Exception as e:\n",
    "    type_pandas_core_arrays_integer_Int8Dtype_construct_from_string = '_syft_missing'\n",
    "    print('❌ pandas.core.arrays.integer.Int8Dtype.construct_from_string: Return unavailable')\n",
    "    print(\"  Please fix this return type code until there is no exception\")\n",
    "    print('   Error:', e)\n"
   ]
  },
  {
   "cell_type": "code",
   "execution_count": null,
   "id": "69fc4475",
   "metadata": {},
   "outputs": [],
   "source": [
    "# pandas.core.arrays.integer.Int8Dtype.names\n",
    "try:\n",
    "    obj = class_constructor()\n",
    "    ret = obj.names\n",
    "    type_pandas_core_arrays_integer_Int8Dtype_names = (\n",
    "    getattr(ret, '__module__', None) + '.' + ret.__class__.__name__\n",
    "        if getattr(ret, '__module__', None)\n",
    "        else ret.__class__.__name__\n",
    "        )\n",
    "    print(\"✅ pandas.core.arrays.integer.Int8Dtype.names:\",\n",
    "        type_pandas_core_arrays_integer_Int8Dtype_names)\n",
    "except Exception as e:\n",
    "    type_pandas_core_arrays_integer_Int8Dtype_names = '_syft_missing'\n",
    "    print('❌ pandas.core.arrays.integer.Int8Dtype.names: Return unavailable')\n",
    "    print(\"  Please fix this return type code until there is no exception\")\n",
    "    print('  Error:', e)\n"
   ]
  }
 ],
 "metadata": {},
 "nbformat": 4,
 "nbformat_minor": 5
}
{
 "cells": [
  {
   "cell_type": "markdown",
   "id": "6b9a4d14",
   "metadata": {},
   "source": [
    "## pandas.core.reshape.merge._MergeOperation"
   ]
  },
  {
   "cell_type": "code",
   "execution_count": null,
   "id": "22cb8b8a",
   "metadata": {},
   "outputs": [],
   "source": [
    "import pandas\n",
    "def class_constructor(*args, **kwargs):\n",
    "    obj = pandas.core.reshape.merge._MergeOperation()\n",
    "    return obj\n"
   ]
  },
  {
   "cell_type": "code",
   "execution_count": null,
   "id": "463ce618",
   "metadata": {},
   "outputs": [],
   "source": [
    "# pandas.core.reshape.merge._MergeOperation._get_merge_keys\n",
    "try:\n",
    "    obj = class_constructor()\n",
    "    ret = obj._get_merge_keys()\n",
    "    type_pandas_core_reshape_merge__MergeOperation__get_merge_keys = (\n",
    "    getattr(ret, '__module__', None) + '.' + ret.__class__.__name__\n",
    "        if getattr(ret, '__module__', None)\n",
    "        else ret.__class__.__name__\n",
    "        )\n",
    "    print(\"✅ pandas.core.reshape.merge._MergeOperation._get_merge_keys:\",\n",
    "        type_pandas_core_reshape_merge__MergeOperation__get_merge_keys)\n",
    "except Exception as e:\n",
    "    type_pandas_core_reshape_merge__MergeOperation__get_merge_keys = '_syft_missing'\n",
    "    print('❌ pandas.core.reshape.merge._MergeOperation._get_merge_keys: Return unavailable')\n",
    "    print(\"  Please fix this return type code until there is no exception\")\n",
    "    print('   Error:', e)\n"
   ]
  }
 ],
 "metadata": {},
 "nbformat": 4,
 "nbformat_minor": 5
}
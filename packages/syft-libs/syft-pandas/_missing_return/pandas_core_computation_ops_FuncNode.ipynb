{
 "cells": [
  {
   "cell_type": "markdown",
   "id": "ebccf169",
   "metadata": {},
   "source": [
    "## pandas.core.computation.ops.FuncNode"
   ]
  },
  {
   "cell_type": "code",
   "execution_count": null,
   "id": "65988dbc",
   "metadata": {},
   "outputs": [],
   "source": [
    "import pandas\n",
    "def class_constructor(*args, **kwargs):\n",
    "    obj = pandas.core.computation.ops.FuncNode()\n",
    "    return obj\n"
   ]
  },
  {
   "cell_type": "code",
   "execution_count": null,
   "id": "799b0c5f",
   "metadata": {},
   "outputs": [],
   "source": [
    "# pandas.core.computation.ops.FuncNode.__call__\n",
    "try:\n",
    "    obj = class_constructor()\n",
    "    ret = obj.__call__()\n",
    "    type_pandas_core_computation_ops_FuncNode___call__ = (\n",
    "    getattr(ret, '__module__', None) + '.' + ret.__class__.__name__\n",
    "        if getattr(ret, '__module__', None)\n",
    "        else ret.__class__.__name__\n",
    "        )\n",
    "    print(\"✅ pandas.core.computation.ops.FuncNode.__call__:\",\n",
    "        type_pandas_core_computation_ops_FuncNode___call__)\n",
    "except Exception as e:\n",
    "    type_pandas_core_computation_ops_FuncNode___call__ = '_syft_missing'\n",
    "    print('❌ pandas.core.computation.ops.FuncNode.__call__: Return unavailable')\n",
    "    print(\"  Please fix this return type code until there is no exception\")\n",
    "    print('   Error:', e)\n"
   ]
  }
 ],
 "metadata": {},
 "nbformat": 4,
 "nbformat_minor": 5
}
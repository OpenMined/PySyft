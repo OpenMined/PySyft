{
 "cells": [
  {
   "cell_type": "markdown",
   "id": "d5665b0a",
   "metadata": {},
   "source": [
    "## pandas.core.base.NoNewAttributesMixin"
   ]
  },
  {
   "cell_type": "code",
   "execution_count": null,
   "id": "5e9df321",
   "metadata": {},
   "outputs": [],
   "source": [
    "import pandas\n",
    "def class_constructor(*args, **kwargs):\n",
    "    obj = pandas.core.base.NoNewAttributesMixin()\n",
    "    return obj\n"
   ]
  },
  {
   "cell_type": "code",
   "execution_count": null,
   "id": "c9178136",
   "metadata": {},
   "outputs": [],
   "source": [
    "# pandas.core.base.NoNewAttributesMixin.__setattr__\n",
    "try:\n",
    "    obj = class_constructor()\n",
    "    ret = obj.__setattr__()\n",
    "    type_pandas_core_base_NoNewAttributesMixin___setattr__ = (\n",
    "    getattr(ret, '__module__', None) + '.' + ret.__class__.__name__\n",
    "        if getattr(ret, '__module__', None)\n",
    "        else ret.__class__.__name__\n",
    "        )\n",
    "    print(\"✅ pandas.core.base.NoNewAttributesMixin.__setattr__:\",\n",
    "        type_pandas_core_base_NoNewAttributesMixin___setattr__)\n",
    "except Exception as e:\n",
    "    type_pandas_core_base_NoNewAttributesMixin___setattr__ = '_syft_missing'\n",
    "    print('❌ pandas.core.base.NoNewAttributesMixin.__setattr__: Return unavailable')\n",
    "    print(\"  Please fix this return type code until there is no exception\")\n",
    "    print('   Error:', e)\n"
   ]
  },
  {
   "cell_type": "code",
   "execution_count": null,
   "id": "f77e93b0",
   "metadata": {},
   "outputs": [],
   "source": [
    "# pandas.core.base.NoNewAttributesMixin._freeze\n",
    "try:\n",
    "    obj = class_constructor()\n",
    "    ret = obj._freeze()\n",
    "    type_pandas_core_base_NoNewAttributesMixin__freeze = (\n",
    "    getattr(ret, '__module__', None) + '.' + ret.__class__.__name__\n",
    "        if getattr(ret, '__module__', None)\n",
    "        else ret.__class__.__name__\n",
    "        )\n",
    "    print(\"✅ pandas.core.base.NoNewAttributesMixin._freeze:\",\n",
    "        type_pandas_core_base_NoNewAttributesMixin__freeze)\n",
    "except Exception as e:\n",
    "    type_pandas_core_base_NoNewAttributesMixin__freeze = '_syft_missing'\n",
    "    print('❌ pandas.core.base.NoNewAttributesMixin._freeze: Return unavailable')\n",
    "    print(\"  Please fix this return type code until there is no exception\")\n",
    "    print('   Error:', e)\n"
   ]
  }
 ],
 "metadata": {},
 "nbformat": 4,
 "nbformat_minor": 5
}
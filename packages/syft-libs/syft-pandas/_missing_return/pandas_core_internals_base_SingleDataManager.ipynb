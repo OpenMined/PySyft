{
 "cells": [
  {
   "cell_type": "markdown",
   "id": "b350f477",
   "metadata": {},
   "source": [
    "## pandas.core.internals.base.SingleDataManager"
   ]
  },
  {
   "cell_type": "code",
   "execution_count": null,
   "id": "a1839e7f",
   "metadata": {},
   "outputs": [],
   "source": [
    "# pandas.core.internals.base.SingleDataManager._constructor\n",
    "try:\n",
    "    obj = class_constructor()\n",
    "    ret = obj._constructor\n",
    "    type_pandas_core_internals_base_SingleDataManager__constructor = (\n",
    "    getattr(ret, '__module__', None) + '.' + ret.__class__.__name__\n",
    "        if getattr(ret, '__module__', None)\n",
    "        else ret.__class__.__name__\n",
    "        )\n",
    "    print(\"✅ pandas.core.internals.base.SingleDataManager._constructor:\",\n",
    "        type_pandas_core_internals_base_SingleDataManager__constructor)\n",
    "except Exception as e:\n",
    "    type_pandas_core_internals_base_SingleDataManager__constructor = '_syft_missing'\n",
    "    print('❌ pandas.core.internals.base.SingleDataManager._constructor: Return unavailable')\n",
    "    print(\"  Please fix this return type code until there is no exception\")\n",
    "    print('  Error:', e)\n"
   ]
  },
  {
   "cell_type": "code",
   "execution_count": null,
   "id": "89105a25",
   "metadata": {},
   "outputs": [],
   "source": [
    "# pandas.core.internals.base.SingleDataManager.array\n",
    "try:\n",
    "    obj = class_constructor()\n",
    "    ret = obj.array\n",
    "    type_pandas_core_internals_base_SingleDataManager_array = (\n",
    "    getattr(ret, '__module__', None) + '.' + ret.__class__.__name__\n",
    "        if getattr(ret, '__module__', None)\n",
    "        else ret.__class__.__name__\n",
    "        )\n",
    "    print(\"✅ pandas.core.internals.base.SingleDataManager.array:\",\n",
    "        type_pandas_core_internals_base_SingleDataManager_array)\n",
    "except Exception as e:\n",
    "    type_pandas_core_internals_base_SingleDataManager_array = '_syft_missing'\n",
    "    print('❌ pandas.core.internals.base.SingleDataManager.array: Return unavailable')\n",
    "    print(\"  Please fix this return type code until there is no exception\")\n",
    "    print('  Error:', e)\n"
   ]
  },
  {
   "cell_type": "code",
   "execution_count": null,
   "id": "25f3ffe6",
   "metadata": {},
   "outputs": [],
   "source": [
    "# pandas.core.internals.base.SingleDataManager.items\n",
    "try:\n",
    "    obj = class_constructor()\n",
    "    ret = obj.items\n",
    "    type_pandas_core_internals_base_SingleDataManager_items = (\n",
    "    getattr(ret, '__module__', None) + '.' + ret.__class__.__name__\n",
    "        if getattr(ret, '__module__', None)\n",
    "        else ret.__class__.__name__\n",
    "        )\n",
    "    print(\"✅ pandas.core.internals.base.SingleDataManager.items:\",\n",
    "        type_pandas_core_internals_base_SingleDataManager_items)\n",
    "except Exception as e:\n",
    "    type_pandas_core_internals_base_SingleDataManager_items = '_syft_missing'\n",
    "    print('❌ pandas.core.internals.base.SingleDataManager.items: Return unavailable')\n",
    "    print(\"  Please fix this return type code until there is no exception\")\n",
    "    print('  Error:', e)\n"
   ]
  },
  {
   "cell_type": "code",
   "execution_count": null,
   "id": "080463b4",
   "metadata": {},
   "outputs": [],
   "source": [
    "# pandas.core.internals.base.SingleDataManager.shape\n",
    "try:\n",
    "    obj = class_constructor()\n",
    "    ret = obj.shape\n",
    "    type_pandas_core_internals_base_SingleDataManager_shape = (\n",
    "    getattr(ret, '__module__', None) + '.' + ret.__class__.__name__\n",
    "        if getattr(ret, '__module__', None)\n",
    "        else ret.__class__.__name__\n",
    "        )\n",
    "    print(\"✅ pandas.core.internals.base.SingleDataManager.shape:\",\n",
    "        type_pandas_core_internals_base_SingleDataManager_shape)\n",
    "except Exception as e:\n",
    "    type_pandas_core_internals_base_SingleDataManager_shape = '_syft_missing'\n",
    "    print('❌ pandas.core.internals.base.SingleDataManager.shape: Return unavailable')\n",
    "    print(\"  Please fix this return type code until there is no exception\")\n",
    "    print('  Error:', e)\n"
   ]
  }
 ],
 "metadata": {},
 "nbformat": 4,
 "nbformat_minor": 5
}
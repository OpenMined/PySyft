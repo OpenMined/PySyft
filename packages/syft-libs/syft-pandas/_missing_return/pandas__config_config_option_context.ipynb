{
 "cells": [
  {
   "cell_type": "markdown",
   "id": "25649c06",
   "metadata": {},
   "source": [
    "## pandas._config.config.option_context"
   ]
  },
  {
   "cell_type": "code",
   "execution_count": 10,
   "id": "4ff348fe",
   "metadata": {},
   "outputs": [
    {
     "data": {
      "text/plain": [
       "[('pop', 1)]"
      ]
     },
     "execution_count": 10,
     "metadata": {},
     "output_type": "execute_result"
    }
   ],
   "source": [
    "import pandas\n",
    "def class_constructor(*args, **kwargs):\n",
    "    obj = pandas._config.config.option_context(\"pop\",1)\n",
    "    return obj\n",
    "\n",
    "obj = class_constructor()\n",
    "obj.ops"
   ]
  },
  {
   "cell_type": "code",
   "execution_count": 11,
   "id": "973a19ec",
   "metadata": {},
   "outputs": [
    {
     "name": "stdout",
     "output_type": "stream",
     "text": [
      "❌ pandas._config.config.option_context.__call__: Return unavailable\n",
      "  Please fix this return type code until there is no exception\n",
      "  Error: __call__() missing 1 required positional argument: 'func'\n"
     ]
    }
   ],
   "source": [
    "# pandas._config.config.option_context.__call__\n",
    "try:\n",
    "    obj = class_constructor()\n",
    "    ret = obj.__call__()\n",
    "    type_pandas__config_config_option_context___call__ = getattr(ret, '__module__', 'none') + '.' + ret.__class__.__name__\n",
    "    print('✅ pandas._config.config.option_context.__call__: ', type(ret))\n",
    "except Exception as e:\n",
    "    type_pandas__config_config_option_context___call__ = '_syft_missing'\n",
    "    print('❌ pandas._config.config.option_context.__call__: Return unavailable')\n",
    "    print(\"  Please fix this return type code until there is no exception\")\n",
    "    print('  Error:', e)\n"
   ]
  },
  {
   "cell_type": "code",
   "execution_count": 12,
   "id": "ae67451d",
   "metadata": {},
   "outputs": [
    {
     "name": "stdout",
     "output_type": "stream",
     "text": [
      "❌ pandas._config.config.option_context.__enter__: Return unavailable\n",
      "  Please fix this return type code until there is no exception\n",
      "  Error: \"No such keys(s): 'pop'\"\n"
     ]
    }
   ],
   "source": [
    "# pandas._config.config.option_context.__enter__\n",
    "try:\n",
    "    obj = class_constructor()\n",
    "    ret = obj.__enter__()\n",
    "    type_pandas__config_config_option_context___enter__ = getattr(ret, '__module__', 'none') + '.' + ret.__class__.__name__\n",
    "    print('✅ pandas._config.config.option_context.__enter__: ', type(ret))\n",
    "except Exception as e:\n",
    "    type_pandas__config_config_option_context___enter__ = '_syft_missing'\n",
    "    print('❌ pandas._config.config.option_context.__enter__: Return unavailable')\n",
    "    print(\"  Please fix this return type code until there is no exception\")\n",
    "    print('  Error:', e)\n"
   ]
  },
  {
   "cell_type": "code",
   "execution_count": 13,
   "id": "b4aa1bfb",
   "metadata": {},
   "outputs": [
    {
     "name": "stdout",
     "output_type": "stream",
     "text": [
      "❌ pandas._config.config.option_context.__exit__: Return unavailable\n",
      "  Please fix this return type code until there is no exception\n",
      "  Error: 'option_context' object has no attribute 'undo'\n"
     ]
    }
   ],
   "source": [
    "# pandas._config.config.option_context.__exit__\n",
    "try:\n",
    "    obj = class_constructor()\n",
    "    ret = obj.__exit__()\n",
    "    type_pandas__config_config_option_context___exit__ = getattr(ret, '__module__', 'none') + '.' + ret.__class__.__name__\n",
    "    print('✅ pandas._config.config.option_context.__exit__: ', type(ret))\n",
    "except Exception as e:\n",
    "    type_pandas__config_config_option_context___exit__ = '_syft_missing'\n",
    "    print('❌ pandas._config.config.option_context.__exit__: Return unavailable')\n",
    "    print(\"  Please fix this return type code until there is no exception\")\n",
    "    print('  Error:', e)\n"
   ]
  },
  {
   "cell_type": "code",
   "execution_count": 14,
   "id": "019f22ae",
   "metadata": {},
   "outputs": [
    {
     "name": "stdout",
     "output_type": "stream",
     "text": [
      "✅ pandas._config.config.option_context._recreate_cm:  <class 'pandas._config.config.option_context'>\n"
     ]
    }
   ],
   "source": [
    "# pandas._config.config.option_context._recreate_cm\n",
    "try:\n",
    "    obj = class_constructor()\n",
    "    ret = obj._recreate_cm()\n",
    "    type_pandas__config_config_option_context__recreate_cm = getattr(ret, '__module__', 'none') + '.' + ret.__class__.__name__\n",
    "    print('✅ pandas._config.config.option_context._recreate_cm: ', type(ret))\n",
    "except Exception as e:\n",
    "    type_pandas__config_config_option_context__recreate_cm = '_syft_missing'\n",
    "    print('❌ pandas._config.config.option_context._recreate_cm: Return unavailable')\n",
    "    print(\"  Please fix this return type code until there is no exception\")\n",
    "    print('  Error:', e)\n"
   ]
  },
  {
   "cell_type": "code",
   "execution_count": null,
   "id": "a830364b",
   "metadata": {},
   "outputs": [],
   "source": []
  }
 ],
 "metadata": {
  "kernelspec": {
   "display_name": "Python 3",
   "language": "python",
   "name": "python3"
  },
  "language_info": {
   "codemirror_mode": {
    "name": "ipython",
    "version": 3
   },
   "file_extension": ".py",
   "mimetype": "text/x-python",
   "name": "python",
   "nbconvert_exporter": "python",
   "pygments_lexer": "ipython3",
   "version": "3.9.5"
  }
 },
 "nbformat": 4,
 "nbformat_minor": 5
}

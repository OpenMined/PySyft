{
 "cells": [
  {
   "cell_type": "markdown",
   "id": "55d511a7",
   "metadata": {},
   "source": [
    "## pandas._config.config.option_context\n",
    "\n",
    "https://github.com/pandas-dev/pandas/blob/77443dce2734d57484e3f5f38eba6d1897089182/pandas/_config/config.py#L392"
   ]
  },
  {
   "cell_type": "code",
   "execution_count": 1,
   "id": "5e05bde0",
   "metadata": {},
   "outputs": [],
   "source": [
    "import pandas\n",
    "def class_constructor(*args, **kwargs):\n",
    "    obj = pandas._config.config.option_context(\"mode.chained_assignment\", 101)\n",
    "    return obj\n"
   ]
  },
  {
   "cell_type": "code",
   "execution_count": 2,
   "id": "9070c8e1",
   "metadata": {},
   "outputs": [
    {
     "name": "stdout",
     "output_type": "stream",
     "text": [
      "❌ pandas._config.config.option_context.__call__: Return unavailable\n",
      "  Please fix this return type code until there is no exception\n",
      "   Error: __call__() missing 1 required positional argument: 'func'\n"
     ]
    }
   ],
   "source": [
    "# pandas._config.config.option_context.__call__\n",
    "try:\n",
    "    obj = class_constructor()\n",
    "    ret = obj.__call__()\n",
    "    type_pandas__config_config_option_context___call__ = (\n",
    "    getattr(ret, '__module__', None) + '.' + ret.__class__.__name__\n",
    "        if getattr(ret, '__module__', None)\n",
    "        else ret.__class__.__name__\n",
    "        )\n",
    "    print(\"✅ pandas._config.config.option_context.__call__:\",\n",
    "        type_pandas__config_config_option_context___call__)\n",
    "except Exception as e:\n",
    "    type_pandas__config_config_option_context___call__ = '_syft_missing'\n",
    "    print('❌ pandas._config.config.option_context.__call__: Return unavailable')\n",
    "    print(\"  Please fix this return type code until there is no exception\")\n",
    "    print('   Error:', e)\n"
   ]
  },
  {
   "cell_type": "code",
   "execution_count": 3,
   "id": "cd7876b5",
   "metadata": {},
   "outputs": [
    {
     "name": "stdout",
     "output_type": "stream",
     "text": [
      "❌ pandas._config.config.option_context.__enter__: Return unavailable\n",
      "  Please fix this return type code until there is no exception\n",
      "   Error: Value must be one of None|warn|raise\n"
     ]
    }
   ],
   "source": [
    "# pandas._config.config.option_context.__enter__\n",
    "try:\n",
    "    obj = class_constructor()\n",
    "    ret = obj.__enter__()\n",
    "    type_pandas__config_config_option_context___enter__ = (\n",
    "    getattr(ret, '__module__', None) + '.' + ret.__class__.__name__\n",
    "        if getattr(ret, '__module__', None)\n",
    "        else ret.__class__.__name__\n",
    "        )\n",
    "    print(\"✅ pandas._config.config.option_context.__enter__:\",\n",
    "        type_pandas__config_config_option_context___enter__)\n",
    "except Exception as e:\n",
    "    type_pandas__config_config_option_context___enter__ = '_syft_missing'\n",
    "    print('❌ pandas._config.config.option_context.__enter__: Return unavailable')\n",
    "    print(\"  Please fix this return type code until there is no exception\")\n",
    "    print('   Error:', e)\n"
   ]
  },
  {
   "cell_type": "code",
   "execution_count": 4,
   "id": "fac9ed3d",
   "metadata": {},
   "outputs": [
    {
     "name": "stdout",
     "output_type": "stream",
     "text": [
      "❌ pandas._config.config.option_context.__exit__: Return unavailable\n",
      "  Please fix this return type code until there is no exception\n",
      "   Error: 'option_context' object has no attribute 'undo'\n"
     ]
    }
   ],
   "source": [
    "# pandas._config.config.option_context.__exit__\n",
    "try:\n",
    "    obj = class_constructor()\n",
    "    ret = obj.__exit__()\n",
    "    type_pandas__config_config_option_context___exit__ = (\n",
    "    getattr(ret, '__module__', None) + '.' + ret.__class__.__name__\n",
    "        if getattr(ret, '__module__', None)\n",
    "        else ret.__class__.__name__\n",
    "        )\n",
    "    print(\"✅ pandas._config.config.option_context.__exit__:\",\n",
    "        type_pandas__config_config_option_context___exit__)\n",
    "except Exception as e:\n",
    "    type_pandas__config_config_option_context___exit__ = '_syft_missing'\n",
    "    print('❌ pandas._config.config.option_context.__exit__: Return unavailable')\n",
    "    print(\"  Please fix this return type code until there is no exception\")\n",
    "    print('   Error:', e)\n"
   ]
  },
  {
   "cell_type": "code",
   "execution_count": 5,
   "id": "0cb3cdf4",
   "metadata": {},
   "outputs": [
    {
     "name": "stdout",
     "output_type": "stream",
     "text": [
      "✅ pandas._config.config.option_context._recreate_cm: pandas._config.config.option_context\n"
     ]
    }
   ],
   "source": [
    "# pandas._config.config.option_context._recreate_cm\n",
    "try:\n",
    "    obj = class_constructor()\n",
    "    ret = obj._recreate_cm()\n",
    "    type_pandas__config_config_option_context__recreate_cm = (\n",
    "    getattr(ret, '__module__', None) + '.' + ret.__class__.__name__\n",
    "        if getattr(ret, '__module__', None)\n",
    "        else ret.__class__.__name__\n",
    "        )\n",
    "    print(\"✅ pandas._config.config.option_context._recreate_cm:\",\n",
    "        type_pandas__config_config_option_context__recreate_cm)\n",
    "except Exception as e:\n",
    "    type_pandas__config_config_option_context__recreate_cm = '_syft_missing'\n",
    "    print('❌ pandas._config.config.option_context._recreate_cm: Return unavailable')\n",
    "    print(\"  Please fix this return type code until there is no exception\")\n",
    "    print('   Error:', e)\n"
   ]
  },
  {
   "cell_type": "code",
   "execution_count": null,
   "id": "c7af8ff5",
   "metadata": {},
   "outputs": [],
   "source": []
  }
 ],
 "metadata": {
  "kernelspec": {
   "display_name": "Python 3",
   "language": "python",
   "name": "python3"
  },
  "language_info": {
   "codemirror_mode": {
    "name": "ipython",
    "version": 3
   },
   "file_extension": ".py",
   "mimetype": "text/x-python",
   "name": "python",
   "nbconvert_exporter": "python",
   "pygments_lexer": "ipython3",
   "version": "3.9.5"
  }
 },
 "nbformat": 4,
 "nbformat_minor": 5
}

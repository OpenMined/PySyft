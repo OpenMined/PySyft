{
 "cells": [
  {
   "cell_type": "markdown",
   "id": "c93007a0",
   "metadata": {},
   "source": [
    "## pandas._config.config.option_context"
   ]
  },
  {
   "cell_type": "code",
   "execution_count": null,
   "id": "bee4b4bd",
   "metadata": {},
   "outputs": [],
   "source": [
    "import pandas\n",
    "def class_constructor(*args, **kwargs):\n",
    "    obj = pandas._config.config.option_context()\n",
    "    return obj\n"
   ]
  },
  {
   "cell_type": "code",
   "execution_count": null,
   "id": "fcde4b6b",
   "metadata": {},
   "outputs": [],
   "source": [
    "# pandas._config.config.option_context.__call__\n",
    "try:\n",
    "    obj = class_constructor()\n",
    "    ret = obj.__call__()\n",
    "    type_pandas__config_config_option_context___call__ = (\n",
    "    getattr(ret, '__module__', None) + '.' + ret.__class__.__name__\n",
    "        if getattr(ret, '__module__', None)\n",
    "        else ret.__class__.__name__\n",
    "        )\n",
    "    print(\"✅ pandas._config.config.option_context.__call__:\",\n",
    "        type_pandas__config_config_option_context___call__)\n",
    "except Exception as e:\n",
    "    type_pandas__config_config_option_context___call__ = '_syft_missing'\n",
    "    print('❌ pandas._config.config.option_context.__call__: Return unavailable')\n",
    "    print(\"  Please fix this return type code until there is no exception\")\n",
    "    print('   Error:', e)\n"
   ]
  },
  {
   "cell_type": "code",
   "execution_count": null,
   "id": "b44698b1",
   "metadata": {},
   "outputs": [],
   "source": [
    "# pandas._config.config.option_context.__enter__\n",
    "try:\n",
    "    obj = class_constructor()\n",
    "    ret = obj.__enter__()\n",
    "    type_pandas__config_config_option_context___enter__ = (\n",
    "    getattr(ret, '__module__', None) + '.' + ret.__class__.__name__\n",
    "        if getattr(ret, '__module__', None)\n",
    "        else ret.__class__.__name__\n",
    "        )\n",
    "    print(\"✅ pandas._config.config.option_context.__enter__:\",\n",
    "        type_pandas__config_config_option_context___enter__)\n",
    "except Exception as e:\n",
    "    type_pandas__config_config_option_context___enter__ = '_syft_missing'\n",
    "    print('❌ pandas._config.config.option_context.__enter__: Return unavailable')\n",
    "    print(\"  Please fix this return type code until there is no exception\")\n",
    "    print('   Error:', e)\n"
   ]
  },
  {
   "cell_type": "code",
   "execution_count": null,
   "id": "fb1033c8",
   "metadata": {},
   "outputs": [],
   "source": [
    "# pandas._config.config.option_context.__exit__\n",
    "try:\n",
    "    obj = class_constructor()\n",
    "    ret = obj.__exit__()\n",
    "    type_pandas__config_config_option_context___exit__ = (\n",
    "    getattr(ret, '__module__', None) + '.' + ret.__class__.__name__\n",
    "        if getattr(ret, '__module__', None)\n",
    "        else ret.__class__.__name__\n",
    "        )\n",
    "    print(\"✅ pandas._config.config.option_context.__exit__:\",\n",
    "        type_pandas__config_config_option_context___exit__)\n",
    "except Exception as e:\n",
    "    type_pandas__config_config_option_context___exit__ = '_syft_missing'\n",
    "    print('❌ pandas._config.config.option_context.__exit__: Return unavailable')\n",
    "    print(\"  Please fix this return type code until there is no exception\")\n",
    "    print('   Error:', e)\n"
   ]
  },
  {
   "cell_type": "code",
   "execution_count": null,
   "id": "95eea15f",
   "metadata": {},
   "outputs": [],
   "source": [
    "# pandas._config.config.option_context._recreate_cm\n",
    "try:\n",
    "    obj = class_constructor()\n",
    "    ret = obj._recreate_cm()\n",
    "    type_pandas__config_config_option_context__recreate_cm = (\n",
    "    getattr(ret, '__module__', None) + '.' + ret.__class__.__name__\n",
    "        if getattr(ret, '__module__', None)\n",
    "        else ret.__class__.__name__\n",
    "        )\n",
    "    print(\"✅ pandas._config.config.option_context._recreate_cm:\",\n",
    "        type_pandas__config_config_option_context__recreate_cm)\n",
    "except Exception as e:\n",
    "    type_pandas__config_config_option_context__recreate_cm = '_syft_missing'\n",
    "    print('❌ pandas._config.config.option_context._recreate_cm: Return unavailable')\n",
    "    print(\"  Please fix this return type code until there is no exception\")\n",
    "    print('   Error:', e)\n"
   ]
  }
 ],
 "metadata": {},
 "nbformat": 4,
 "nbformat_minor": 5
}
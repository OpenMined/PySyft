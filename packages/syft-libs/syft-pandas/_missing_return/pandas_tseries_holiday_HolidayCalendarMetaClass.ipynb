{
 "cells": [
  {
   "cell_type": "markdown",
   "id": "0879b8cc",
   "metadata": {},
   "source": [
    "## pandas.tseries.holiday.HolidayCalendarMetaClass"
   ]
  },
  {
   "cell_type": "code",
   "execution_count": null,
   "id": "cb5a8573",
   "metadata": {},
   "outputs": [],
   "source": [
    "import pandas\n",
    "def class_constructor(*args, **kwargs):\n",
    "    obj = pandas.tseries.holiday.HolidayCalendarMetaClass()\n",
    "    return obj\n"
   ]
  },
  {
   "cell_type": "code",
   "execution_count": null,
   "id": "59a213ec",
   "metadata": {},
   "outputs": [],
   "source": [
    "# pandas.tseries.holiday.HolidayCalendarMetaClass.__new__\n",
    "try:\n",
    "    obj = class_constructor()\n",
    "    ret = obj.__new__()\n",
    "    type_pandas_tseries_holiday_HolidayCalendarMetaClass___new__ = (\n",
    "    getattr(ret, '__module__', None) + '.' + ret.__class__.__name__\n",
    "        if getattr(ret, '__module__', None)\n",
    "        else ret.__class__.__name__\n",
    "        )\n",
    "    print(\"✅ pandas.tseries.holiday.HolidayCalendarMetaClass.__new__:\",\n",
    "        type_pandas_tseries_holiday_HolidayCalendarMetaClass___new__)\n",
    "except Exception as e:\n",
    "    type_pandas_tseries_holiday_HolidayCalendarMetaClass___new__ = '_syft_missing'\n",
    "    print('❌ pandas.tseries.holiday.HolidayCalendarMetaClass.__new__: Return unavailable')\n",
    "    print(\"  Please fix this return type code until there is no exception\")\n",
    "    print('   Error:', e)\n"
   ]
  }
 ],
 "metadata": {},
 "nbformat": 4,
 "nbformat_minor": 5
}
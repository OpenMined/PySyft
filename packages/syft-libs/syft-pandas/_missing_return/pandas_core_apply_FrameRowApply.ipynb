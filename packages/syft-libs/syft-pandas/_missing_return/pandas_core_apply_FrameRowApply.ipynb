{
 "cells": [
  {
   "cell_type": "markdown",
   "id": "f71926c4",
   "metadata": {},
   "source": [
    "## pandas.core.apply.FrameRowApply"
   ]
  },
  {
   "cell_type": "code",
   "execution_count": 1,
   "id": "e4fafdda",
   "metadata": {},
   "outputs": [],
   "source": [
    "import pandas\n",
    "import pandas.core.apply\n",
    "df = pandas.DataFrame({\"A\":[1,2,3],\"B\":[2,3,4]})\n",
    "def class_constructor():\n",
    "    return pandas.core.apply.frame_apply(df,lambda x:x**2)"
   ]
  },
  {
   "cell_type": "code",
   "execution_count": 2,
   "id": "f50e0985",
   "metadata": {},
   "outputs": [
    {
     "data": {
      "text/plain": [
       "<pandas.core.apply.FrameRowApply at 0x7f80f876c8e0>"
      ]
     },
     "execution_count": 2,
     "metadata": {},
     "output_type": "execute_result"
    }
   ],
   "source": [
    "class_constructor()"
   ]
  },
  {
   "cell_type": "code",
   "execution_count": 3,
   "id": "014aabb5",
   "metadata": {},
   "outputs": [
    {
     "name": "stdout",
     "output_type": "stream",
     "text": [
      "✅ pandas.core.apply.FrameRowApply.agg_axis: pandas.core.indexes.base.Index\n"
     ]
    }
   ],
   "source": [
    "# pandas.core.apply.FrameRowApply.agg_axis\n",
    "try:\n",
    "    obj = class_constructor()\n",
    "    ret = obj.agg_axis\n",
    "    type_pandas_core_apply_FrameRowApply_agg_axis = (\n",
    "    getattr(ret, '__module__', None) + '.' + ret.__class__.__name__\n",
    "        if getattr(ret, '__module__', None)\n",
    "        else ret.__class__.__name__\n",
    "        )\n",
    "    print(\"✅ pandas.core.apply.FrameRowApply.agg_axis:\",\n",
    "        type_pandas_core_apply_FrameRowApply_agg_axis)\n",
    "except Exception as e:\n",
    "    type_pandas_core_apply_FrameRowApply_agg_axis = '_syft_missing'\n",
    "    print('❌ pandas.core.apply.FrameRowApply.agg_axis: Return unavailable')\n",
    "    print(\"  Please fix this return type code until there is no exception\")\n",
    "    print('  Error:', e)\n"
   ]
  },
  {
   "cell_type": "code",
   "execution_count": 4,
   "id": "df5d1c4f",
   "metadata": {},
   "outputs": [
    {
     "name": "stdout",
     "output_type": "stream",
     "text": [
      "✅ pandas.core.apply.FrameRowApply.apply_empty_result: pandas.core.frame.DataFrame\n"
     ]
    }
   ],
   "source": [
    "# pandas.core.apply.FrameRowApply.apply_empty_result\n",
    "try:\n",
    "    obj = class_constructor()\n",
    "    ret = obj.apply_empty_result()\n",
    "    type_pandas_core_apply_FrameRowApply_apply_empty_result = (\n",
    "    getattr(ret, '__module__', None) + '.' + ret.__class__.__name__\n",
    "        if getattr(ret, '__module__', None)\n",
    "        else ret.__class__.__name__\n",
    "        )\n",
    "    print(\"✅ pandas.core.apply.FrameRowApply.apply_empty_result:\",\n",
    "        type_pandas_core_apply_FrameRowApply_apply_empty_result)\n",
    "except Exception as e:\n",
    "    type_pandas_core_apply_FrameRowApply_apply_empty_result = '_syft_missing'\n",
    "    print('❌ pandas.core.apply.FrameRowApply.apply_empty_result: Return unavailable')\n",
    "    print(\"  Please fix this return type code until there is no exception\")\n",
    "    print('   Error:', e)\n"
   ]
  },
  {
   "cell_type": "code",
   "execution_count": 5,
   "id": "61995f66",
   "metadata": {},
   "outputs": [
    {
     "name": "stdout",
     "output_type": "stream",
     "text": [
      "✅ pandas.core.apply.FrameRowApply.apply_raw: pandas.core.frame.DataFrame\n"
     ]
    }
   ],
   "source": [
    "# pandas.core.apply.FrameRowApply.apply_raw\n",
    "try:\n",
    "    obj = class_constructor()\n",
    "    ret = obj.apply_raw()\n",
    "    type_pandas_core_apply_FrameRowApply_apply_raw = (\n",
    "    getattr(ret, '__module__', None) + '.' + ret.__class__.__name__\n",
    "        if getattr(ret, '__module__', None)\n",
    "        else ret.__class__.__name__\n",
    "        )\n",
    "    print(\"✅ pandas.core.apply.FrameRowApply.apply_raw:\",\n",
    "        type_pandas_core_apply_FrameRowApply_apply_raw)\n",
    "except Exception as e:\n",
    "    type_pandas_core_apply_FrameRowApply_apply_raw = '_syft_missing'\n",
    "    print('❌ pandas.core.apply.FrameRowApply.apply_raw: Return unavailable')\n",
    "    print(\"  Please fix this return type code until there is no exception\")\n",
    "    print('   Error:', e)\n"
   ]
  },
  {
   "cell_type": "code",
   "execution_count": 6,
   "id": "8d5db6c2",
   "metadata": {},
   "outputs": [
    {
     "name": "stdout",
     "output_type": "stream",
     "text": [
      "✅ pandas.core.apply.FrameRowApply.apply_standard: pandas.core.frame.DataFrame\n"
     ]
    }
   ],
   "source": [
    "# pandas.core.apply.FrameRowApply.apply_standard\n",
    "try:\n",
    "    obj = class_constructor()\n",
    "    ret = obj.apply_standard()\n",
    "    type_pandas_core_apply_FrameRowApply_apply_standard = (\n",
    "    getattr(ret, '__module__', None) + '.' + ret.__class__.__name__\n",
    "        if getattr(ret, '__module__', None)\n",
    "        else ret.__class__.__name__\n",
    "        )\n",
    "    print(\"✅ pandas.core.apply.FrameRowApply.apply_standard:\",\n",
    "        type_pandas_core_apply_FrameRowApply_apply_standard)\n",
    "except Exception as e:\n",
    "    type_pandas_core_apply_FrameRowApply_apply_standard = '_syft_missing'\n",
    "    print('❌ pandas.core.apply.FrameRowApply.apply_standard: Return unavailable')\n",
    "    print(\"  Please fix this return type code until there is no exception\")\n",
    "    print('   Error:', e)\n"
   ]
  },
  {
   "cell_type": "code",
   "execution_count": 7,
   "id": "c16d5ba9",
   "metadata": {},
   "outputs": [
    {
     "name": "stdout",
     "output_type": "stream",
     "text": [
      "✅ pandas.core.apply.FrameRowApply.columns: pandas.core.indexes.base.Index\n"
     ]
    }
   ],
   "source": [
    "# pandas.core.apply.FrameRowApply.columns\n",
    "try:\n",
    "    obj = class_constructor()\n",
    "    ret = obj.columns\n",
    "    type_pandas_core_apply_FrameRowApply_columns = (\n",
    "    getattr(ret, '__module__', None) + '.' + ret.__class__.__name__\n",
    "        if getattr(ret, '__module__', None)\n",
    "        else ret.__class__.__name__\n",
    "        )\n",
    "    print(\"✅ pandas.core.apply.FrameRowApply.columns:\",\n",
    "        type_pandas_core_apply_FrameRowApply_columns)\n",
    "except Exception as e:\n",
    "    type_pandas_core_apply_FrameRowApply_columns = '_syft_missing'\n",
    "    print('❌ pandas.core.apply.FrameRowApply.columns: Return unavailable')\n",
    "    print(\"  Please fix this return type code until there is no exception\")\n",
    "    print('  Error:', e)\n"
   ]
  },
  {
   "cell_type": "code",
   "execution_count": 8,
   "id": "cf2498d5",
   "metadata": {},
   "outputs": [
    {
     "name": "stdout",
     "output_type": "stream",
     "text": [
      "✅ pandas.core.apply.FrameRowApply.get_result: pandas.core.frame.DataFrame\n"
     ]
    }
   ],
   "source": [
    "# pandas.core.apply.FrameRowApply.get_result\n",
    "try:\n",
    "    obj = class_constructor()\n",
    "    ret = obj.get_result()\n",
    "    type_pandas_core_apply_FrameRowApply_get_result = (\n",
    "    getattr(ret, '__module__', None) + '.' + ret.__class__.__name__\n",
    "        if getattr(ret, '__module__', None)\n",
    "        else ret.__class__.__name__\n",
    "        )\n",
    "    print(\"✅ pandas.core.apply.FrameRowApply.get_result:\",\n",
    "        type_pandas_core_apply_FrameRowApply_get_result)\n",
    "except Exception as e:\n",
    "    type_pandas_core_apply_FrameRowApply_get_result = '_syft_missing'\n",
    "    print('❌ pandas.core.apply.FrameRowApply.get_result: Return unavailable')\n",
    "    print(\"  Please fix this return type code until there is no exception\")\n",
    "    print('   Error:', e)\n"
   ]
  },
  {
   "cell_type": "code",
   "execution_count": 9,
   "id": "1b12e962",
   "metadata": {},
   "outputs": [
    {
     "name": "stdout",
     "output_type": "stream",
     "text": [
      "✅ pandas.core.apply.FrameRowApply.index: pandas.core.indexes.range.RangeIndex\n"
     ]
    }
   ],
   "source": [
    "# pandas.core.apply.FrameRowApply.index\n",
    "try:\n",
    "    obj = class_constructor()\n",
    "    ret = obj.index\n",
    "    type_pandas_core_apply_FrameRowApply_index = (\n",
    "    getattr(ret, '__module__', None) + '.' + ret.__class__.__name__\n",
    "        if getattr(ret, '__module__', None)\n",
    "        else ret.__class__.__name__\n",
    "        )\n",
    "    print(\"✅ pandas.core.apply.FrameRowApply.index:\",\n",
    "        type_pandas_core_apply_FrameRowApply_index)\n",
    "except Exception as e:\n",
    "    type_pandas_core_apply_FrameRowApply_index = '_syft_missing'\n",
    "    print('❌ pandas.core.apply.FrameRowApply.index: Return unavailable')\n",
    "    print(\"  Please fix this return type code until there is no exception\")\n",
    "    print('  Error:', e)\n"
   ]
  },
  {
   "cell_type": "code",
   "execution_count": 10,
   "id": "e8321f77",
   "metadata": {},
   "outputs": [
    {
     "name": "stdout",
     "output_type": "stream",
     "text": [
      "✅ pandas.core.apply.FrameRowApply.res_columns: pandas.core.indexes.range.RangeIndex\n"
     ]
    }
   ],
   "source": [
    "# pandas.core.apply.FrameRowApply.res_columns\n",
    "try:\n",
    "    obj = class_constructor()\n",
    "    ret = obj.res_columns\n",
    "    type_pandas_core_apply_FrameRowApply_res_columns = (\n",
    "    getattr(ret, '__module__', None) + '.' + ret.__class__.__name__\n",
    "        if getattr(ret, '__module__', None)\n",
    "        else ret.__class__.__name__\n",
    "        )\n",
    "    print(\"✅ pandas.core.apply.FrameRowApply.res_columns:\",\n",
    "        type_pandas_core_apply_FrameRowApply_res_columns)\n",
    "except Exception as e:\n",
    "    type_pandas_core_apply_FrameRowApply_res_columns = '_syft_missing'\n",
    "    print('❌ pandas.core.apply.FrameRowApply.res_columns: Return unavailable')\n",
    "    print(\"  Please fix this return type code until there is no exception\")\n",
    "    print('  Error:', e)\n"
   ]
  },
  {
   "cell_type": "code",
   "execution_count": 11,
   "id": "535837c3",
   "metadata": {},
   "outputs": [
    {
     "name": "stdout",
     "output_type": "stream",
     "text": [
      "✅ pandas.core.apply.FrameRowApply.result_columns: pandas.core.indexes.range.RangeIndex\n"
     ]
    }
   ],
   "source": [
    "# pandas.core.apply.FrameRowApply.result_columns\n",
    "try:\n",
    "    obj = class_constructor()\n",
    "    ret = obj.result_columns\n",
    "    type_pandas_core_apply_FrameRowApply_result_columns = (\n",
    "    getattr(ret, '__module__', None) + '.' + ret.__class__.__name__\n",
    "        if getattr(ret, '__module__', None)\n",
    "        else ret.__class__.__name__\n",
    "        )\n",
    "    print(\"✅ pandas.core.apply.FrameRowApply.result_columns:\",\n",
    "        type_pandas_core_apply_FrameRowApply_result_columns)\n",
    "except Exception as e:\n",
    "    type_pandas_core_apply_FrameRowApply_result_columns = '_syft_missing'\n",
    "    print('❌ pandas.core.apply.FrameRowApply.result_columns: Return unavailable')\n",
    "    print(\"  Please fix this return type code until there is no exception\")\n",
    "    print('  Error:', e)\n"
   ]
  },
  {
   "cell_type": "code",
   "execution_count": 12,
   "id": "de051f8a",
   "metadata": {},
   "outputs": [
    {
     "name": "stdout",
     "output_type": "stream",
     "text": [
      "✅ pandas.core.apply.FrameRowApply.result_index: pandas.core.indexes.base.Index\n"
     ]
    }
   ],
   "source": [
    "# pandas.core.apply.FrameRowApply.result_index\n",
    "try:\n",
    "    obj = class_constructor()\n",
    "    ret = obj.result_index\n",
    "    type_pandas_core_apply_FrameRowApply_result_index = (\n",
    "    getattr(ret, '__module__', None) + '.' + ret.__class__.__name__\n",
    "        if getattr(ret, '__module__', None)\n",
    "        else ret.__class__.__name__\n",
    "        )\n",
    "    print(\"✅ pandas.core.apply.FrameRowApply.result_index:\",\n",
    "        type_pandas_core_apply_FrameRowApply_result_index)\n",
    "except Exception as e:\n",
    "    type_pandas_core_apply_FrameRowApply_result_index = '_syft_missing'\n",
    "    print('❌ pandas.core.apply.FrameRowApply.result_index: Return unavailable')\n",
    "    print(\"  Please fix this return type code until there is no exception\")\n",
    "    print('  Error:', e)\n"
   ]
  },
  {
   "cell_type": "code",
   "execution_count": 13,
   "id": "ecb90243",
   "metadata": {},
   "outputs": [
    {
     "name": "stdout",
     "output_type": "stream",
     "text": [
      "✅ pandas.core.apply.FrameRowApply.series_generator: generator\n"
     ]
    }
   ],
   "source": [
    "# pandas.core.apply.FrameRowApply.series_generator\n",
    "try:\n",
    "    obj = class_constructor()\n",
    "    ret = obj.series_generator\n",
    "    type_pandas_core_apply_FrameRowApply_series_generator = (\n",
    "    getattr(ret, '__module__', None) + '.' + ret.__class__.__name__\n",
    "        if getattr(ret, '__module__', None)\n",
    "        else ret.__class__.__name__\n",
    "        )\n",
    "    print(\"✅ pandas.core.apply.FrameRowApply.series_generator:\",\n",
    "        type_pandas_core_apply_FrameRowApply_series_generator)\n",
    "except Exception as e:\n",
    "    type_pandas_core_apply_FrameRowApply_series_generator = '_syft_missing'\n",
    "    print('❌ pandas.core.apply.FrameRowApply.series_generator: Return unavailable')\n",
    "    print(\"  Please fix this return type code until there is no exception\")\n",
    "    print('  Error:', e)\n"
   ]
  }
 ],
 "metadata": {
  "kernelspec": {
   "display_name": "Python 3",
   "language": "python",
   "name": "python3"
  },
  "language_info": {
   "codemirror_mode": {
    "name": "ipython",
    "version": 3
   },
   "file_extension": ".py",
   "mimetype": "text/x-python",
   "name": "python",
   "nbconvert_exporter": "python",
   "pygments_lexer": "ipython3",
   "version": "3.9.5"
  }
 },
 "nbformat": 4,
 "nbformat_minor": 5
}

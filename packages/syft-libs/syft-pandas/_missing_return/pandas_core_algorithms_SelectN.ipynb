{
 "cells": [
  {
   "cell_type": "markdown",
   "id": "7467542a",
   "metadata": {},
   "source": [
    "## pandas.core.algorithms.SelectN"
   ]
  },
  {
   "cell_type": "code",
   "execution_count": 1,
   "id": "bd65a4c3",
   "metadata": {},
   "outputs": [],
   "source": [
    "import pandas\n",
    "def class_constructor(*args, **kwargs):\n",
    "    obj = pandas.core.algorithms.SelectN()\n",
    "    return obj\n"
   ]
  },
  {
   "cell_type": "code",
   "execution_count": 2,
   "id": "51faf38a",
   "metadata": {},
   "outputs": [
    {
     "name": "stdout",
     "output_type": "stream",
     "text": [
      "❌ pandas.core.algorithms.SelectN.nlargest: Return unavailable\n",
      "  Please fix this return type code until there is no exception\n",
      "   Error: __init__() missing 3 required positional arguments: 'obj', 'n', and 'keep'\n"
     ]
    }
   ],
   "source": [
    "# pandas.core.algorithms.SelectN.nlargest\n",
    "try:\n",
    "    obj = class_constructor()\n",
    "    ret = obj.nlargest()\n",
    "    type_pandas_core_algorithms_SelectN_nlargest = (\n",
    "    getattr(ret, '__module__', None) + '.' + ret.__class__.__name__\n",
    "        if getattr(ret, '__module__', None)\n",
    "        else ret.__class__.__name__\n",
    "        )\n",
    "    print(\"✅ pandas.core.algorithms.SelectN.nlargest:\",\n",
    "        type_pandas_core_algorithms_SelectN_nlargest)\n",
    "except Exception as e:\n",
    "    type_pandas_core_algorithms_SelectN_nlargest = '_syft_missing'\n",
    "    print('❌ pandas.core.algorithms.SelectN.nlargest: Return unavailable')\n",
    "    print(\"  Please fix this return type code until there is no exception\")\n",
    "    print('   Error:', e)\n"
   ]
  },
  {
   "cell_type": "code",
   "execution_count": null,
   "id": "82aeabe8",
   "metadata": {},
   "outputs": [],
   "source": [
    "# pandas.core.algorithms.SelectN.nsmallest\n",
    "try:\n",
    "    obj = class_constructor()\n",
    "    ret = obj.nsmallest()\n",
    "    type_pandas_core_algorithms_SelectN_nsmallest = (\n",
    "    getattr(ret, '__module__', None) + '.' + ret.__class__.__name__\n",
    "        if getattr(ret, '__module__', None)\n",
    "        else ret.__class__.__name__\n",
    "        )\n",
    "    print(\"✅ pandas.core.algorithms.SelectN.nsmallest:\",\n",
    "        type_pandas_core_algorithms_SelectN_nsmallest)\n",
    "except Exception as e:\n",
    "    type_pandas_core_algorithms_SelectN_nsmallest = '_syft_missing'\n",
    "    print('❌ pandas.core.algorithms.SelectN.nsmallest: Return unavailable')\n",
    "    print(\"  Please fix this return type code until there is no exception\")\n",
    "    print('   Error:', e)\n"
   ]
  }
 ],
 "metadata": {
  "kernelspec": {
   "display_name": "Python 3",
   "language": "python",
   "name": "python3"
  },
  "language_info": {
   "codemirror_mode": {
    "name": "ipython",
    "version": 3
   },
   "file_extension": ".py",
   "mimetype": "text/x-python",
   "name": "python",
   "nbconvert_exporter": "python",
   "pygments_lexer": "ipython3",
   "version": "3.9.5"
  }
 },
 "nbformat": 4,
 "nbformat_minor": 5
}

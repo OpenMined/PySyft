{
 "cells": [
  {
   "cell_type": "markdown",
   "id": "d485cf8d",
   "metadata": {},
   "source": [
    "## pandas.core.algorithms.SelectN"
   ]
  },
  {
   "cell_type": "code",
   "execution_count": null,
   "id": "a6796967",
   "metadata": {},
   "outputs": [],
   "source": [
    "import pandas\n",
    "def class_constructor(*args, **kwargs):\n",
    "    obj = pandas.core.algorithms.SelectN()\n",
    "    return obj\n"
   ]
  },
  {
   "cell_type": "code",
   "execution_count": null,
   "id": "0a68a417",
   "metadata": {},
   "outputs": [],
   "source": [
    "# pandas.core.algorithms.SelectN.nlargest\n",
    "try:\n",
    "    obj = class_constructor()\n",
    "    ret = obj.nlargest()\n",
    "    type_pandas_core_algorithms_SelectN_nlargest = (\n",
    "    getattr(ret, '__module__', None) + '.' + ret.__class__.__name__\n",
    "        if getattr(ret, '__module__', None)\n",
    "        else ret.__class__.__name__\n",
    "        )\n",
    "    print(\"✅ pandas.core.algorithms.SelectN.nlargest:\",\n",
    "        type_pandas_core_algorithms_SelectN_nlargest)\n",
    "except Exception as e:\n",
    "    type_pandas_core_algorithms_SelectN_nlargest = '_syft_missing'\n",
    "    print('❌ pandas.core.algorithms.SelectN.nlargest: Return unavailable')\n",
    "    print(\"  Please fix this return type code until there is no exception\")\n",
    "    print('   Error:', e)\n"
   ]
  },
  {
   "cell_type": "code",
   "execution_count": null,
   "id": "45c3a570",
   "metadata": {},
   "outputs": [],
   "source": [
    "# pandas.core.algorithms.SelectN.nsmallest\n",
    "try:\n",
    "    obj = class_constructor()\n",
    "    ret = obj.nsmallest()\n",
    "    type_pandas_core_algorithms_SelectN_nsmallest = (\n",
    "    getattr(ret, '__module__', None) + '.' + ret.__class__.__name__\n",
    "        if getattr(ret, '__module__', None)\n",
    "        else ret.__class__.__name__\n",
    "        )\n",
    "    print(\"✅ pandas.core.algorithms.SelectN.nsmallest:\",\n",
    "        type_pandas_core_algorithms_SelectN_nsmallest)\n",
    "except Exception as e:\n",
    "    type_pandas_core_algorithms_SelectN_nsmallest = '_syft_missing'\n",
    "    print('❌ pandas.core.algorithms.SelectN.nsmallest: Return unavailable')\n",
    "    print(\"  Please fix this return type code until there is no exception\")\n",
    "    print('   Error:', e)\n"
   ]
  }
 ],
 "metadata": {},
 "nbformat": 4,
 "nbformat_minor": 5
}
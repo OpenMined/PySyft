{
 "cells": [
  {
   "cell_type": "markdown",
   "id": "42317291",
   "metadata": {},
   "source": [
    "## pandas.core.arrays.sparse.accessor.BaseAccessor"
   ]
  },
  {
   "cell_type": "code",
   "execution_count": null,
   "id": "0ea8e29a",
   "metadata": {},
   "outputs": [],
   "source": [
    "import pandas\n",
    "def class_constructor(*args, **kwargs):\n",
    "    obj = pandas.core.arrays.sparse.accessor.BaseAccessor()\n",
    "    return obj\n"
   ]
  },
  {
   "cell_type": "code",
   "execution_count": null,
   "id": "64d2e5fe",
   "metadata": {},
   "outputs": [],
   "source": [
    "# pandas.core.arrays.sparse.accessor.BaseAccessor._validate\n",
    "try:\n",
    "    obj = class_constructor()\n",
    "    ret = obj._validate()\n",
    "    type_pandas_core_arrays_sparse_accessor_BaseAccessor__validate = (\n",
    "    getattr(ret, '__module__', None) + '.' + ret.__class__.__name__\n",
    "        if getattr(ret, '__module__', None)\n",
    "        else ret.__class__.__name__\n",
    "        )\n",
    "    print(\"✅ pandas.core.arrays.sparse.accessor.BaseAccessor._validate:\",\n",
    "        type_pandas_core_arrays_sparse_accessor_BaseAccessor__validate)\n",
    "except Exception as e:\n",
    "    type_pandas_core_arrays_sparse_accessor_BaseAccessor__validate = '_syft_missing'\n",
    "    print('❌ pandas.core.arrays.sparse.accessor.BaseAccessor._validate: Return unavailable')\n",
    "    print(\"  Please fix this return type code until there is no exception\")\n",
    "    print('   Error:', e)\n"
   ]
  }
 ],
 "metadata": {},
 "nbformat": 4,
 "nbformat_minor": 5
}
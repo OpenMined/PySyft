{
 "cells": [
  {
   "cell_type": "markdown",
   "id": "8b9f19bf",
   "metadata": {},
   "source": [
    "## pandas.core.indexing._ScalarAccessIndexer"
   ]
  },
  {
   "cell_type": "code",
   "execution_count": null,
   "id": "76714ec8",
   "metadata": {},
   "outputs": [],
   "source": [
    "import pandas\n",
    "def class_constructor(*args, **kwargs):\n",
    "    obj = pandas.core.indexing._ScalarAccessIndexer()\n",
    "    return obj\n"
   ]
  },
  {
   "cell_type": "code",
   "execution_count": null,
   "id": "171f1fd0",
   "metadata": {},
   "outputs": [],
   "source": [
    "# pandas.core.indexing._ScalarAccessIndexer.__getitem__\n",
    "try:\n",
    "    obj = class_constructor()\n",
    "    ret = obj.__getitem__()\n",
    "    type_pandas_core_indexing__ScalarAccessIndexer___getitem__ = (\n",
    "    getattr(ret, '__module__', None) + '.' + ret.__class__.__name__\n",
    "        if getattr(ret, '__module__', None)\n",
    "        else ret.__class__.__name__\n",
    "        )\n",
    "    print(\"✅ pandas.core.indexing._ScalarAccessIndexer.__getitem__:\",\n",
    "        type_pandas_core_indexing__ScalarAccessIndexer___getitem__)\n",
    "except Exception as e:\n",
    "    type_pandas_core_indexing__ScalarAccessIndexer___getitem__ = '_syft_missing'\n",
    "    print('❌ pandas.core.indexing._ScalarAccessIndexer.__getitem__: Return unavailable')\n",
    "    print(\"  Please fix this return type code until there is no exception\")\n",
    "    print('   Error:', e)\n"
   ]
  },
  {
   "cell_type": "code",
   "execution_count": null,
   "id": "001ea22d",
   "metadata": {},
   "outputs": [],
   "source": [
    "# pandas.core.indexing._ScalarAccessIndexer.__setitem__\n",
    "try:\n",
    "    obj = class_constructor()\n",
    "    ret = obj.__setitem__()\n",
    "    type_pandas_core_indexing__ScalarAccessIndexer___setitem__ = (\n",
    "    getattr(ret, '__module__', None) + '.' + ret.__class__.__name__\n",
    "        if getattr(ret, '__module__', None)\n",
    "        else ret.__class__.__name__\n",
    "        )\n",
    "    print(\"✅ pandas.core.indexing._ScalarAccessIndexer.__setitem__:\",\n",
    "        type_pandas_core_indexing__ScalarAccessIndexer___setitem__)\n",
    "except Exception as e:\n",
    "    type_pandas_core_indexing__ScalarAccessIndexer___setitem__ = '_syft_missing'\n",
    "    print('❌ pandas.core.indexing._ScalarAccessIndexer.__setitem__: Return unavailable')\n",
    "    print(\"  Please fix this return type code until there is no exception\")\n",
    "    print('   Error:', e)\n"
   ]
  },
  {
   "cell_type": "code",
   "execution_count": null,
   "id": "c511a52c",
   "metadata": {},
   "outputs": [],
   "source": [
    "# pandas.core.indexing._ScalarAccessIndexer._convert_key\n",
    "try:\n",
    "    obj = class_constructor()\n",
    "    ret = obj._convert_key()\n",
    "    type_pandas_core_indexing__ScalarAccessIndexer__convert_key = (\n",
    "    getattr(ret, '__module__', None) + '.' + ret.__class__.__name__\n",
    "        if getattr(ret, '__module__', None)\n",
    "        else ret.__class__.__name__\n",
    "        )\n",
    "    print(\"✅ pandas.core.indexing._ScalarAccessIndexer._convert_key:\",\n",
    "        type_pandas_core_indexing__ScalarAccessIndexer__convert_key)\n",
    "except Exception as e:\n",
    "    type_pandas_core_indexing__ScalarAccessIndexer__convert_key = '_syft_missing'\n",
    "    print('❌ pandas.core.indexing._ScalarAccessIndexer._convert_key: Return unavailable')\n",
    "    print(\"  Please fix this return type code until there is no exception\")\n",
    "    print('   Error:', e)\n"
   ]
  }
 ],
 "metadata": {},
 "nbformat": 4,
 "nbformat_minor": 5
}
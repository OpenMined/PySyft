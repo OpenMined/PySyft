{
 "cells": [
  {
   "cell_type": "markdown",
   "id": "db76cdde",
   "metadata": {},
   "source": [
    "## pandas.core.algorithms.SelectNFrame"
   ]
  },
  {
   "cell_type": "code",
   "execution_count": null,
   "id": "8017721a",
   "metadata": {},
   "outputs": [],
   "source": [
    "import pandas\n",
    "def class_constructor(*args, **kwargs):\n",
    "    obj = pandas.core.algorithms.SelectNFrame()\n",
    "    return obj\n"
   ]
  },
  {
   "cell_type": "code",
   "execution_count": null,
   "id": "04ae17ad",
   "metadata": {},
   "outputs": [],
   "source": [
    "# pandas.core.algorithms.SelectNFrame.nlargest\n",
    "try:\n",
    "    obj = class_constructor()\n",
    "    ret = obj.nlargest()\n",
    "    type_pandas_core_algorithms_SelectNFrame_nlargest = (\n",
    "    getattr(ret, '__module__', None) + '.' + ret.__class__.__name__\n",
    "        if getattr(ret, '__module__', None)\n",
    "        else ret.__class__.__name__\n",
    "        )\n",
    "    print(\"✅ pandas.core.algorithms.SelectNFrame.nlargest:\",\n",
    "        type_pandas_core_algorithms_SelectNFrame_nlargest)\n",
    "except Exception as e:\n",
    "    type_pandas_core_algorithms_SelectNFrame_nlargest = '_syft_missing'\n",
    "    print('❌ pandas.core.algorithms.SelectNFrame.nlargest: Return unavailable')\n",
    "    print(\"  Please fix this return type code until there is no exception\")\n",
    "    print('   Error:', e)\n"
   ]
  },
  {
   "cell_type": "code",
   "execution_count": null,
   "id": "d7487016",
   "metadata": {},
   "outputs": [],
   "source": [
    "# pandas.core.algorithms.SelectNFrame.nsmallest\n",
    "try:\n",
    "    obj = class_constructor()\n",
    "    ret = obj.nsmallest()\n",
    "    type_pandas_core_algorithms_SelectNFrame_nsmallest = (\n",
    "    getattr(ret, '__module__', None) + '.' + ret.__class__.__name__\n",
    "        if getattr(ret, '__module__', None)\n",
    "        else ret.__class__.__name__\n",
    "        )\n",
    "    print(\"✅ pandas.core.algorithms.SelectNFrame.nsmallest:\",\n",
    "        type_pandas_core_algorithms_SelectNFrame_nsmallest)\n",
    "except Exception as e:\n",
    "    type_pandas_core_algorithms_SelectNFrame_nsmallest = '_syft_missing'\n",
    "    print('❌ pandas.core.algorithms.SelectNFrame.nsmallest: Return unavailable')\n",
    "    print(\"  Please fix this return type code until there is no exception\")\n",
    "    print('   Error:', e)\n"
   ]
  }
 ],
 "metadata": {},
 "nbformat": 4,
 "nbformat_minor": 5
}
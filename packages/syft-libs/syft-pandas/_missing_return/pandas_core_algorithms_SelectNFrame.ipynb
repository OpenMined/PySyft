{
 "cells": [
  {
   "cell_type": "markdown",
   "id": "f1f64d3f",
   "metadata": {},
   "source": [
    "## pandas.core.algorithms.SelectNFrame"
   ]
  },
  {
   "cell_type": "code",
   "execution_count": 1,
   "id": "67585d28",
   "metadata": {},
   "outputs": [],
   "source": [
    "import pandas\n",
    "df = pandas.DataFrame({\"A\":[1,2,3],\"B\":[1.1,12,0]})\n",
    "def class_constructor(*args, **kwargs):\n",
    "    obj = pandas.core.algorithms.SelectNFrame(df,2,keep=\"first\",columns=[\"A\",'B'])\n",
    "    return obj\n"
   ]
  },
  {
   "cell_type": "code",
   "execution_count": 2,
   "id": "583eed22",
   "metadata": {},
   "outputs": [
    {
     "name": "stdout",
     "output_type": "stream",
     "text": [
      "✅ pandas.core.algorithms.SelectNFrame.compute: pandas.core.frame.DataFrame\n"
     ]
    }
   ],
   "source": [
    "# pandas.core.algorithms.SelectNFrame.compute\n",
    "try:\n",
    "    obj = class_constructor()\n",
    "    ret = obj.compute(\"nlargest\")\n",
    "    type_pandas_core_algorithms_SelectNFrame_compute = (\n",
    "    getattr(ret, '__module__', None) + '.' + ret.__class__.__name__\n",
    "        if getattr(ret, '__module__', None)\n",
    "        else ret.__class__.__name__\n",
    "        )\n",
    "    print(\"✅ pandas.core.algorithms.SelectNFrame.compute:\",\n",
    "        type_pandas_core_algorithms_SelectNFrame_compute)\n",
    "except Exception as e:\n",
    "    type_pandas_core_algorithms_SelectNFrame_compute = '_syft_missing'\n",
    "    print('❌ pandas.core.algorithms.SelectNFrame.compute: Return unavailable')\n",
    "    print(\"  Please fix this return type code until there is no exception\")\n",
    "    print('   Error:', e)\n"
   ]
  },
  {
   "cell_type": "code",
   "execution_count": 3,
   "id": "8853d569",
   "metadata": {},
   "outputs": [
    {
     "name": "stdout",
     "output_type": "stream",
     "text": [
      "✅ pandas.core.algorithms.SelectNFrame.nlargest: pandas.core.frame.DataFrame\n"
     ]
    }
   ],
   "source": [
    "# pandas.core.algorithms.SelectNFrame.nlargest\n",
    "try:\n",
    "    obj = class_constructor()\n",
    "    ret = obj.nlargest()\n",
    "    type_pandas_core_algorithms_SelectNFrame_nlargest = (\n",
    "    getattr(ret, '__module__', None) + '.' + ret.__class__.__name__\n",
    "        if getattr(ret, '__module__', None)\n",
    "        else ret.__class__.__name__\n",
    "        )\n",
    "    print(\"✅ pandas.core.algorithms.SelectNFrame.nlargest:\",\n",
    "        type_pandas_core_algorithms_SelectNFrame_nlargest)\n",
    "except Exception as e:\n",
    "    type_pandas_core_algorithms_SelectNFrame_nlargest = '_syft_missing'\n",
    "    print('❌ pandas.core.algorithms.SelectNFrame.nlargest: Return unavailable')\n",
    "    print(\"  Please fix this return type code until there is no exception\")\n",
    "    print('   Error:', e)\n"
   ]
  },
  {
   "cell_type": "code",
   "execution_count": 4,
   "id": "09058449",
   "metadata": {},
   "outputs": [
    {
     "name": "stdout",
     "output_type": "stream",
     "text": [
      "✅ pandas.core.algorithms.SelectNFrame.nsmallest: pandas.core.frame.DataFrame\n"
     ]
    }
   ],
   "source": [
    "# pandas.core.algorithms.SelectNFrame.nsmallest\n",
    "try:\n",
    "    obj = class_constructor()\n",
    "    ret = obj.nsmallest()\n",
    "    type_pandas_core_algorithms_SelectNFrame_nsmallest = (\n",
    "    getattr(ret, '__module__', None) + '.' + ret.__class__.__name__\n",
    "        if getattr(ret, '__module__', None)\n",
    "        else ret.__class__.__name__\n",
    "        )\n",
    "    print(\"✅ pandas.core.algorithms.SelectNFrame.nsmallest:\",\n",
    "        type_pandas_core_algorithms_SelectNFrame_nsmallest)\n",
    "except Exception as e:\n",
    "    type_pandas_core_algorithms_SelectNFrame_nsmallest = '_syft_missing'\n",
    "    print('❌ pandas.core.algorithms.SelectNFrame.nsmallest: Return unavailable')\n",
    "    print(\"  Please fix this return type code until there is no exception\")\n",
    "    print('   Error:', e)\n"
   ]
  },
  {
   "cell_type": "code",
   "execution_count": null,
   "id": "15ebe2c3",
   "metadata": {},
   "outputs": [],
   "source": []
  }
 ],
 "metadata": {
  "kernelspec": {
   "display_name": "Python 3",
   "language": "python",
   "name": "python3"
  },
  "language_info": {
   "codemirror_mode": {
    "name": "ipython",
    "version": 3
   },
   "file_extension": ".py",
   "mimetype": "text/x-python",
   "name": "python",
   "nbconvert_exporter": "python",
   "pygments_lexer": "ipython3",
   "version": "3.9.5"
  }
 },
 "nbformat": 4,
 "nbformat_minor": 5
}

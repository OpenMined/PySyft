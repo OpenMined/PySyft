{
 "cells": [
  {
   "cell_type": "markdown",
   "id": "182beeb4",
   "metadata": {},
   "source": [
    "## pandas.tseries.holiday.Holiday"
   ]
  },
  {
   "cell_type": "code",
   "execution_count": null,
   "id": "3a610e6d",
   "metadata": {},
   "outputs": [],
   "source": [
    "import pandas\n",
    "def class_constructor(*args, **kwargs):\n",
    "    obj = pandas.tseries.holiday.Holiday()\n",
    "    return obj\n"
   ]
  },
  {
   "cell_type": "code",
   "execution_count": null,
   "id": "86601325",
   "metadata": {},
   "outputs": [],
   "source": [
    "# pandas.tseries.holiday.Holiday._apply_rule\n",
    "try:\n",
    "    obj = class_constructor()\n",
    "    ret = obj._apply_rule()\n",
    "    type_pandas_tseries_holiday_Holiday__apply_rule = (\n",
    "    getattr(ret, '__module__', None) + '.' + ret.__class__.__name__\n",
    "        if getattr(ret, '__module__', None)\n",
    "        else ret.__class__.__name__\n",
    "        )\n",
    "    print(\"✅ pandas.tseries.holiday.Holiday._apply_rule:\",\n",
    "        type_pandas_tseries_holiday_Holiday__apply_rule)\n",
    "except Exception as e:\n",
    "    type_pandas_tseries_holiday_Holiday__apply_rule = '_syft_missing'\n",
    "    print('❌ pandas.tseries.holiday.Holiday._apply_rule: Return unavailable')\n",
    "    print(\"  Please fix this return type code until there is no exception\")\n",
    "    print('   Error:', e)\n"
   ]
  },
  {
   "cell_type": "code",
   "execution_count": null,
   "id": "6a1d565e",
   "metadata": {},
   "outputs": [],
   "source": [
    "# pandas.tseries.holiday.Holiday._reference_dates\n",
    "try:\n",
    "    obj = class_constructor()\n",
    "    ret = obj._reference_dates()\n",
    "    type_pandas_tseries_holiday_Holiday__reference_dates = (\n",
    "    getattr(ret, '__module__', None) + '.' + ret.__class__.__name__\n",
    "        if getattr(ret, '__module__', None)\n",
    "        else ret.__class__.__name__\n",
    "        )\n",
    "    print(\"✅ pandas.tseries.holiday.Holiday._reference_dates:\",\n",
    "        type_pandas_tseries_holiday_Holiday__reference_dates)\n",
    "except Exception as e:\n",
    "    type_pandas_tseries_holiday_Holiday__reference_dates = '_syft_missing'\n",
    "    print('❌ pandas.tseries.holiday.Holiday._reference_dates: Return unavailable')\n",
    "    print(\"  Please fix this return type code until there is no exception\")\n",
    "    print('   Error:', e)\n"
   ]
  },
  {
   "cell_type": "code",
   "execution_count": null,
   "id": "35b3b103",
   "metadata": {},
   "outputs": [],
   "source": [
    "# pandas.tseries.holiday.Holiday.dates\n",
    "try:\n",
    "    obj = class_constructor()\n",
    "    ret = obj.dates()\n",
    "    type_pandas_tseries_holiday_Holiday_dates = (\n",
    "    getattr(ret, '__module__', None) + '.' + ret.__class__.__name__\n",
    "        if getattr(ret, '__module__', None)\n",
    "        else ret.__class__.__name__\n",
    "        )\n",
    "    print(\"✅ pandas.tseries.holiday.Holiday.dates:\",\n",
    "        type_pandas_tseries_holiday_Holiday_dates)\n",
    "except Exception as e:\n",
    "    type_pandas_tseries_holiday_Holiday_dates = '_syft_missing'\n",
    "    print('❌ pandas.tseries.holiday.Holiday.dates: Return unavailable')\n",
    "    print(\"  Please fix this return type code until there is no exception\")\n",
    "    print('   Error:', e)\n"
   ]
  }
 ],
 "metadata": {},
 "nbformat": 4,
 "nbformat_minor": 5
}
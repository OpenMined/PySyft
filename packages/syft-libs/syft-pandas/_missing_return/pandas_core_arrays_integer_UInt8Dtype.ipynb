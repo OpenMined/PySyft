{
 "cells": [
  {
   "cell_type": "markdown",
   "id": "a1daa29b",
   "metadata": {},
   "source": [
    "## pandas.core.arrays.integer.UInt8Dtype"
   ]
  },
  {
   "cell_type": "code",
   "execution_count": null,
   "id": "81259406",
   "metadata": {},
   "outputs": [],
   "source": [
    "# pandas.core.arrays.integer.UInt8Dtype._can_hold_na\n",
    "try:\n",
    "    obj = class_constructor()\n",
    "    ret = obj._can_hold_na\n",
    "    type_pandas_core_arrays_integer_UInt8Dtype__can_hold_na = (\n",
    "    getattr(ret, '__module__', None) + '.' + ret.__class__.__name__\n",
    "        if getattr(ret, '__module__', None)\n",
    "        else ret.__class__.__name__\n",
    "        )\n",
    "    print(\"✅ pandas.core.arrays.integer.UInt8Dtype._can_hold_na:\",\n",
    "        type_pandas_core_arrays_integer_UInt8Dtype__can_hold_na)\n",
    "except Exception as e:\n",
    "    type_pandas_core_arrays_integer_UInt8Dtype__can_hold_na = '_syft_missing'\n",
    "    print('❌ pandas.core.arrays.integer.UInt8Dtype._can_hold_na: Return unavailable')\n",
    "    print(\"  Please fix this return type code until there is no exception\")\n",
    "    print('  Error:', e)\n"
   ]
  },
  {
   "cell_type": "code",
   "execution_count": null,
   "id": "c7a1c13f",
   "metadata": {},
   "outputs": [],
   "source": [
    "# pandas.core.arrays.integer.UInt8Dtype._is_boolean\n",
    "try:\n",
    "    obj = class_constructor()\n",
    "    ret = obj._is_boolean\n",
    "    type_pandas_core_arrays_integer_UInt8Dtype__is_boolean = (\n",
    "    getattr(ret, '__module__', None) + '.' + ret.__class__.__name__\n",
    "        if getattr(ret, '__module__', None)\n",
    "        else ret.__class__.__name__\n",
    "        )\n",
    "    print(\"✅ pandas.core.arrays.integer.UInt8Dtype._is_boolean:\",\n",
    "        type_pandas_core_arrays_integer_UInt8Dtype__is_boolean)\n",
    "except Exception as e:\n",
    "    type_pandas_core_arrays_integer_UInt8Dtype__is_boolean = '_syft_missing'\n",
    "    print('❌ pandas.core.arrays.integer.UInt8Dtype._is_boolean: Return unavailable')\n",
    "    print(\"  Please fix this return type code until there is no exception\")\n",
    "    print('  Error:', e)\n"
   ]
  },
  {
   "cell_type": "code",
   "execution_count": null,
   "id": "98e6b28a",
   "metadata": {},
   "outputs": [],
   "source": [
    "# pandas.core.arrays.integer.UInt8Dtype._is_numeric\n",
    "try:\n",
    "    obj = class_constructor()\n",
    "    ret = obj._is_numeric\n",
    "    type_pandas_core_arrays_integer_UInt8Dtype__is_numeric = (\n",
    "    getattr(ret, '__module__', None) + '.' + ret.__class__.__name__\n",
    "        if getattr(ret, '__module__', None)\n",
    "        else ret.__class__.__name__\n",
    "        )\n",
    "    print(\"✅ pandas.core.arrays.integer.UInt8Dtype._is_numeric:\",\n",
    "        type_pandas_core_arrays_integer_UInt8Dtype__is_numeric)\n",
    "except Exception as e:\n",
    "    type_pandas_core_arrays_integer_UInt8Dtype__is_numeric = '_syft_missing'\n",
    "    print('❌ pandas.core.arrays.integer.UInt8Dtype._is_numeric: Return unavailable')\n",
    "    print(\"  Please fix this return type code until there is no exception\")\n",
    "    print('  Error:', e)\n"
   ]
  },
  {
   "cell_type": "code",
   "execution_count": null,
   "id": "575de033",
   "metadata": {},
   "outputs": [],
   "source": [
    "# pandas.core.arrays.integer.UInt8Dtype.construct_from_string\n",
    "try:\n",
    "    obj = class_constructor()\n",
    "    ret = obj.construct_from_string()\n",
    "    type_pandas_core_arrays_integer_UInt8Dtype_construct_from_string = (\n",
    "    getattr(ret, '__module__', None) + '.' + ret.__class__.__name__\n",
    "        if getattr(ret, '__module__', None)\n",
    "        else ret.__class__.__name__\n",
    "        )\n",
    "    print(\"✅ pandas.core.arrays.integer.UInt8Dtype.construct_from_string:\",\n",
    "        type_pandas_core_arrays_integer_UInt8Dtype_construct_from_string)\n",
    "except Exception as e:\n",
    "    type_pandas_core_arrays_integer_UInt8Dtype_construct_from_string = '_syft_missing'\n",
    "    print('❌ pandas.core.arrays.integer.UInt8Dtype.construct_from_string: Return unavailable')\n",
    "    print(\"  Please fix this return type code until there is no exception\")\n",
    "    print('   Error:', e)\n"
   ]
  },
  {
   "cell_type": "code",
   "execution_count": null,
   "id": "52bc64f1",
   "metadata": {},
   "outputs": [],
   "source": [
    "# pandas.core.arrays.integer.UInt8Dtype.names\n",
    "try:\n",
    "    obj = class_constructor()\n",
    "    ret = obj.names\n",
    "    type_pandas_core_arrays_integer_UInt8Dtype_names = (\n",
    "    getattr(ret, '__module__', None) + '.' + ret.__class__.__name__\n",
    "        if getattr(ret, '__module__', None)\n",
    "        else ret.__class__.__name__\n",
    "        )\n",
    "    print(\"✅ pandas.core.arrays.integer.UInt8Dtype.names:\",\n",
    "        type_pandas_core_arrays_integer_UInt8Dtype_names)\n",
    "except Exception as e:\n",
    "    type_pandas_core_arrays_integer_UInt8Dtype_names = '_syft_missing'\n",
    "    print('❌ pandas.core.arrays.integer.UInt8Dtype.names: Return unavailable')\n",
    "    print(\"  Please fix this return type code until there is no exception\")\n",
    "    print('  Error:', e)\n"
   ]
  }
 ],
 "metadata": {},
 "nbformat": 4,
 "nbformat_minor": 5
}
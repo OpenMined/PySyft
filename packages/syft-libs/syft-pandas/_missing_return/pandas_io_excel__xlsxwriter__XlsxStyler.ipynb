{
 "cells": [
  {
   "cell_type": "markdown",
   "id": "77801deb",
   "metadata": {},
   "source": [
    "## pandas.io.excel._xlsxwriter._XlsxStyler"
   ]
  },
  {
   "cell_type": "code",
   "execution_count": null,
   "id": "f47744a1",
   "metadata": {},
   "outputs": [],
   "source": [
    "import pandas\n",
    "def class_constructor(*args, **kwargs):\n",
    "    obj = pandas.io.excel._xlsxwriter._XlsxStyler()\n",
    "    return obj\n"
   ]
  },
  {
   "cell_type": "code",
   "execution_count": null,
   "id": "7efe6fc0",
   "metadata": {},
   "outputs": [],
   "source": [
    "# pandas.io.excel._xlsxwriter._XlsxStyler.convert\n",
    "try:\n",
    "    obj = class_constructor()\n",
    "    ret = obj.convert()\n",
    "    type_pandas_io_excel__xlsxwriter__XlsxStyler_convert = (\n",
    "    getattr(ret, '__module__', None) + '.' + ret.__class__.__name__\n",
    "        if getattr(ret, '__module__', None)\n",
    "        else ret.__class__.__name__\n",
    "        )\n",
    "    print(\"✅ pandas.io.excel._xlsxwriter._XlsxStyler.convert:\",\n",
    "        type_pandas_io_excel__xlsxwriter__XlsxStyler_convert)\n",
    "except Exception as e:\n",
    "    type_pandas_io_excel__xlsxwriter__XlsxStyler_convert = '_syft_missing'\n",
    "    print('❌ pandas.io.excel._xlsxwriter._XlsxStyler.convert: Return unavailable')\n",
    "    print(\"  Please fix this return type code until there is no exception\")\n",
    "    print('   Error:', e)\n"
   ]
  }
 ],
 "metadata": {},
 "nbformat": 4,
 "nbformat_minor": 5
}
{
 "cells": [
  {
   "cell_type": "markdown",
   "id": "9e6cee9d",
   "metadata": {},
   "source": [
    "## pandas.core.reshape.merge._AsOfMerge"
   ]
  },
  {
   "cell_type": "code",
   "execution_count": null,
   "id": "28f0db48",
   "metadata": {},
   "outputs": [],
   "source": [
    "import pandas\n",
    "def class_constructor(*args, **kwargs):\n",
    "    obj = pandas.core.reshape.merge._AsOfMerge()\n",
    "    return obj\n"
   ]
  },
  {
   "cell_type": "code",
   "execution_count": null,
   "id": "7be3a901",
   "metadata": {},
   "outputs": [],
   "source": [
    "# pandas.core.reshape.merge._AsOfMerge._get_merge_keys\n",
    "try:\n",
    "    obj = class_constructor()\n",
    "    ret = obj._get_merge_keys()\n",
    "    type_pandas_core_reshape_merge__AsOfMerge__get_merge_keys = (\n",
    "    getattr(ret, '__module__', None) + '.' + ret.__class__.__name__\n",
    "        if getattr(ret, '__module__', None)\n",
    "        else ret.__class__.__name__\n",
    "        )\n",
    "    print(\"✅ pandas.core.reshape.merge._AsOfMerge._get_merge_keys:\",\n",
    "        type_pandas_core_reshape_merge__AsOfMerge__get_merge_keys)\n",
    "except Exception as e:\n",
    "    type_pandas_core_reshape_merge__AsOfMerge__get_merge_keys = '_syft_missing'\n",
    "    print('❌ pandas.core.reshape.merge._AsOfMerge._get_merge_keys: Return unavailable')\n",
    "    print(\"  Please fix this return type code until there is no exception\")\n",
    "    print('   Error:', e)\n"
   ]
  }
 ],
 "metadata": {},
 "nbformat": 4,
 "nbformat_minor": 5
}
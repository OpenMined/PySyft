{
 "cells": [
  {
   "cell_type": "markdown",
   "id": "796c89df",
   "metadata": {},
   "source": [
    "## pandas.core.internals.concat.JoinUnit"
   ]
  },
  {
   "cell_type": "code",
   "execution_count": null,
   "id": "e82ebd34",
   "metadata": {},
   "outputs": [],
   "source": [
    "import pandas\n",
    "def class_constructor(*args, **kwargs):\n",
    "    obj = pandas.core.internals.concat.JoinUnit()\n",
    "    return obj\n"
   ]
  },
  {
   "cell_type": "code",
   "execution_count": null,
   "id": "4ccae347",
   "metadata": {},
   "outputs": [],
   "source": [
    "# pandas.core.internals.concat.JoinUnit.get_reindexed_values\n",
    "try:\n",
    "    obj = class_constructor()\n",
    "    ret = obj.get_reindexed_values()\n",
    "    type_pandas_core_internals_concat_JoinUnit_get_reindexed_values = (\n",
    "    getattr(ret, '__module__', None) + '.' + ret.__class__.__name__\n",
    "        if getattr(ret, '__module__', None)\n",
    "        else ret.__class__.__name__\n",
    "        )\n",
    "    print(\"✅ pandas.core.internals.concat.JoinUnit.get_reindexed_values:\",\n",
    "        type_pandas_core_internals_concat_JoinUnit_get_reindexed_values)\n",
    "except Exception as e:\n",
    "    type_pandas_core_internals_concat_JoinUnit_get_reindexed_values = '_syft_missing'\n",
    "    print('❌ pandas.core.internals.concat.JoinUnit.get_reindexed_values: Return unavailable')\n",
    "    print(\"  Please fix this return type code until there is no exception\")\n",
    "    print('   Error:', e)\n"
   ]
  }
 ],
 "metadata": {},
 "nbformat": 4,
 "nbformat_minor": 5
}
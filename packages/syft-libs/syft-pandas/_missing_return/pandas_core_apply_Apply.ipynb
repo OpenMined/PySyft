{
 "cells": [
  {
   "cell_type": "markdown",
   "id": "4188d531",
   "metadata": {},
   "source": [
    "## pandas.core.apply.Apply"
   ]
  },
  {
   "cell_type": "code",
   "execution_count": null,
   "id": "205d5bdb",
   "metadata": {},
   "outputs": [],
   "source": [
    "import pandas\n",
    "def class_constructor(*args, **kwargs):\n",
    "    obj = pandas.core.apply.Apply()\n",
    "    return obj\n"
   ]
  },
  {
   "cell_type": "code",
   "execution_count": null,
   "id": "45813757",
   "metadata": {},
   "outputs": [],
   "source": [
    "# pandas.core.apply.Apply._try_aggregate_string_function\n",
    "try:\n",
    "    obj = class_constructor()\n",
    "    ret = obj._try_aggregate_string_function()\n",
    "    type_pandas_core_apply_Apply__try_aggregate_string_function = (\n",
    "    getattr(ret, '__module__', None) + '.' + ret.__class__.__name__\n",
    "        if getattr(ret, '__module__', None)\n",
    "        else ret.__class__.__name__\n",
    "        )\n",
    "    print(\"✅ pandas.core.apply.Apply._try_aggregate_string_function:\",\n",
    "        type_pandas_core_apply_Apply__try_aggregate_string_function)\n",
    "except Exception as e:\n",
    "    type_pandas_core_apply_Apply__try_aggregate_string_function = '_syft_missing'\n",
    "    print('❌ pandas.core.apply.Apply._try_aggregate_string_function: Return unavailable')\n",
    "    print(\"  Please fix this return type code until there is no exception\")\n",
    "    print('   Error:', e)\n"
   ]
  },
  {
   "cell_type": "code",
   "execution_count": null,
   "id": "b892582d",
   "metadata": {},
   "outputs": [],
   "source": [
    "# pandas.core.apply.Apply.transform_dict_like\n",
    "try:\n",
    "    obj = class_constructor()\n",
    "    ret = obj.transform_dict_like()\n",
    "    type_pandas_core_apply_Apply_transform_dict_like = (\n",
    "    getattr(ret, '__module__', None) + '.' + ret.__class__.__name__\n",
    "        if getattr(ret, '__module__', None)\n",
    "        else ret.__class__.__name__\n",
    "        )\n",
    "    print(\"✅ pandas.core.apply.Apply.transform_dict_like:\",\n",
    "        type_pandas_core_apply_Apply_transform_dict_like)\n",
    "except Exception as e:\n",
    "    type_pandas_core_apply_Apply_transform_dict_like = '_syft_missing'\n",
    "    print('❌ pandas.core.apply.Apply.transform_dict_like: Return unavailable')\n",
    "    print(\"  Please fix this return type code until there is no exception\")\n",
    "    print('   Error:', e)\n"
   ]
  }
 ],
 "metadata": {},
 "nbformat": 4,
 "nbformat_minor": 5
}
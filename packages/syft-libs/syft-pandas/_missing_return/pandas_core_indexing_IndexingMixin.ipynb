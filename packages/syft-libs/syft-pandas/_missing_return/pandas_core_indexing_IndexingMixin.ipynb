{
 "cells": [
  {
   "cell_type": "markdown",
   "id": "9ff994e3",
   "metadata": {},
   "source": [
    "## pandas.core.indexing.IndexingMixin"
   ]
  },
  {
   "cell_type": "code",
   "execution_count": null,
   "id": "e8741f79",
   "metadata": {},
   "outputs": [],
   "source": [
    "# pandas.core.indexing.IndexingMixin.at\n",
    "try:\n",
    "    obj = class_constructor()\n",
    "    ret = obj.at\n",
    "    type_pandas_core_indexing_IndexingMixin_at = (\n",
    "    getattr(ret, '__module__', None) + '.' + ret.__class__.__name__\n",
    "        if getattr(ret, '__module__', None)\n",
    "        else ret.__class__.__name__\n",
    "        )\n",
    "    print(\"✅ pandas.core.indexing.IndexingMixin.at:\",\n",
    "        type_pandas_core_indexing_IndexingMixin_at)\n",
    "except Exception as e:\n",
    "    type_pandas_core_indexing_IndexingMixin_at = '_syft_missing'\n",
    "    print('❌ pandas.core.indexing.IndexingMixin.at: Return unavailable')\n",
    "    print(\"  Please fix this return type code until there is no exception\")\n",
    "    print('  Error:', e)\n"
   ]
  },
  {
   "cell_type": "code",
   "execution_count": null,
   "id": "ea3367c3",
   "metadata": {},
   "outputs": [],
   "source": [
    "# pandas.core.indexing.IndexingMixin.iat\n",
    "try:\n",
    "    obj = class_constructor()\n",
    "    ret = obj.iat\n",
    "    type_pandas_core_indexing_IndexingMixin_iat = (\n",
    "    getattr(ret, '__module__', None) + '.' + ret.__class__.__name__\n",
    "        if getattr(ret, '__module__', None)\n",
    "        else ret.__class__.__name__\n",
    "        )\n",
    "    print(\"✅ pandas.core.indexing.IndexingMixin.iat:\",\n",
    "        type_pandas_core_indexing_IndexingMixin_iat)\n",
    "except Exception as e:\n",
    "    type_pandas_core_indexing_IndexingMixin_iat = '_syft_missing'\n",
    "    print('❌ pandas.core.indexing.IndexingMixin.iat: Return unavailable')\n",
    "    print(\"  Please fix this return type code until there is no exception\")\n",
    "    print('  Error:', e)\n"
   ]
  },
  {
   "cell_type": "code",
   "execution_count": null,
   "id": "4ef1f90a",
   "metadata": {},
   "outputs": [],
   "source": [
    "# pandas.core.indexing.IndexingMixin.iloc\n",
    "try:\n",
    "    obj = class_constructor()\n",
    "    ret = obj.iloc\n",
    "    type_pandas_core_indexing_IndexingMixin_iloc = (\n",
    "    getattr(ret, '__module__', None) + '.' + ret.__class__.__name__\n",
    "        if getattr(ret, '__module__', None)\n",
    "        else ret.__class__.__name__\n",
    "        )\n",
    "    print(\"✅ pandas.core.indexing.IndexingMixin.iloc:\",\n",
    "        type_pandas_core_indexing_IndexingMixin_iloc)\n",
    "except Exception as e:\n",
    "    type_pandas_core_indexing_IndexingMixin_iloc = '_syft_missing'\n",
    "    print('❌ pandas.core.indexing.IndexingMixin.iloc: Return unavailable')\n",
    "    print(\"  Please fix this return type code until there is no exception\")\n",
    "    print('  Error:', e)\n"
   ]
  },
  {
   "cell_type": "code",
   "execution_count": null,
   "id": "0a522a01",
   "metadata": {},
   "outputs": [],
   "source": [
    "# pandas.core.indexing.IndexingMixin.loc\n",
    "try:\n",
    "    obj = class_constructor()\n",
    "    ret = obj.loc\n",
    "    type_pandas_core_indexing_IndexingMixin_loc = (\n",
    "    getattr(ret, '__module__', None) + '.' + ret.__class__.__name__\n",
    "        if getattr(ret, '__module__', None)\n",
    "        else ret.__class__.__name__\n",
    "        )\n",
    "    print(\"✅ pandas.core.indexing.IndexingMixin.loc:\",\n",
    "        type_pandas_core_indexing_IndexingMixin_loc)\n",
    "except Exception as e:\n",
    "    type_pandas_core_indexing_IndexingMixin_loc = '_syft_missing'\n",
    "    print('❌ pandas.core.indexing.IndexingMixin.loc: Return unavailable')\n",
    "    print(\"  Please fix this return type code until there is no exception\")\n",
    "    print('  Error:', e)\n"
   ]
  }
 ],
 "metadata": {},
 "nbformat": 4,
 "nbformat_minor": 5
}
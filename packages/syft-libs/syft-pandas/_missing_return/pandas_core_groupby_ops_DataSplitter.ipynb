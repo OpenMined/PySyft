{
 "cells": [
  {
   "cell_type": "markdown",
   "id": "3f606a41",
   "metadata": {},
   "source": [
    "## pandas.core.groupby.ops.DataSplitter"
   ]
  },
  {
   "cell_type": "code",
   "execution_count": null,
   "id": "64ae8584",
   "metadata": {},
   "outputs": [],
   "source": [
    "import pandas\n",
    "def class_constructor(*args, **kwargs):\n",
    "    obj = pandas.core.groupby.ops.DataSplitter()\n",
    "    return obj\n"
   ]
  },
  {
   "cell_type": "code",
   "execution_count": null,
   "id": "9422be95",
   "metadata": {},
   "outputs": [],
   "source": [
    "# pandas.core.groupby.ops.DataSplitter.__iter__\n",
    "try:\n",
    "    obj = class_constructor()\n",
    "    ret = obj.__iter__()\n",
    "    type_pandas_core_groupby_ops_DataSplitter___iter__ = (\n",
    "    getattr(ret, '__module__', None) + '.' + ret.__class__.__name__\n",
    "        if getattr(ret, '__module__', None)\n",
    "        else ret.__class__.__name__\n",
    "        )\n",
    "    print(\"✅ pandas.core.groupby.ops.DataSplitter.__iter__:\",\n",
    "        type_pandas_core_groupby_ops_DataSplitter___iter__)\n",
    "except Exception as e:\n",
    "    type_pandas_core_groupby_ops_DataSplitter___iter__ = '_syft_missing'\n",
    "    print('❌ pandas.core.groupby.ops.DataSplitter.__iter__: Return unavailable')\n",
    "    print(\"  Please fix this return type code until there is no exception\")\n",
    "    print('   Error:', e)\n"
   ]
  }
 ],
 "metadata": {},
 "nbformat": 4,
 "nbformat_minor": 5
}
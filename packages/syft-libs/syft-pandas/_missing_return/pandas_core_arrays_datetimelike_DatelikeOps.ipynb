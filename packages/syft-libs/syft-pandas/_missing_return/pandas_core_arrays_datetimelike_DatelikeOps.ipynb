{
 "cells": [
  {
   "cell_type": "markdown",
   "id": "f04fa4b1",
   "metadata": {},
   "source": [
    "## pandas.core.arrays.datetimelike.DatelikeOps"
   ]
  },
  {
   "cell_type": "code",
   "execution_count": 1,
   "id": "fcc0a8c6",
   "metadata": {},
   "outputs": [],
   "source": [
    "import pandas\n",
    "def class_constructor(*args, **kwargs):\n",
    "    obj = pandas.core.arrays.datetimelike.DatelikeOps()\n",
    "    return obj\n"
   ]
  },
  {
   "cell_type": "code",
   "execution_count": 5,
   "id": "fd8bd5d3",
   "metadata": {},
   "outputs": [
    {
     "name": "stdout",
     "output_type": "stream",
     "text": [
      "❌ pandas.core.arrays.datetimelike.DatelikeOps.strftime: Return unavailable\n",
      "  Please fix this return type code until there is no exception\n",
      "   Error: 'DatelikeOps' object has no attribute '_format_native_types'\n"
     ]
    }
   ],
   "source": [
    "# pandas.core.arrays.datetimelike.DatelikeOps.strftime\n",
    "try:\n",
    "    obj = class_constructor()\n",
    "    ret = obj.strftime('%%B %%d, %%Y, %%r')\n",
    "    type_pandas_core_arrays_datetimelike_DatelikeOps_strftime = (\n",
    "    getattr(ret, '__module__', None) + '.' + ret.__class__.__name__\n",
    "        if getattr(ret, '__module__', None)\n",
    "        else ret.__class__.__name__\n",
    "        )\n",
    "    print(\"✅ pandas.core.arrays.datetimelike.DatelikeOps.strftime:\",\n",
    "        type_pandas_core_arrays_datetimelike_DatelikeOps_strftime)\n",
    "except Exception as e:\n",
    "    type_pandas_core_arrays_datetimelike_DatelikeOps_strftime = '_syft_missing'\n",
    "    print('❌ pandas.core.arrays.datetimelike.DatelikeOps.strftime: Return unavailable')\n",
    "    print(\"  Please fix this return type code until there is no exception\")\n",
    "    print('   Error:', e)\n"
   ]
  },
  {
   "cell_type": "code",
   "execution_count": null,
   "id": "fb77ac58",
   "metadata": {},
   "outputs": [],
   "source": []
  }
 ],
 "metadata": {
  "kernelspec": {
   "display_name": "Python 3",
   "language": "python",
   "name": "python3"
  },
  "language_info": {
   "codemirror_mode": {
    "name": "ipython",
    "version": 3
   },
   "file_extension": ".py",
   "mimetype": "text/x-python",
   "name": "python",
   "nbconvert_exporter": "python",
   "pygments_lexer": "ipython3",
   "version": "3.9.5"
  }
 },
 "nbformat": 4,
 "nbformat_minor": 5
}

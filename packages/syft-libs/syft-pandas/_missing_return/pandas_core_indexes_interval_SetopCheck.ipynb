{
 "cells": [
  {
   "cell_type": "markdown",
   "id": "de1735e0",
   "metadata": {},
   "source": [
    "## pandas.core.indexes.interval.SetopCheck"
   ]
  },
  {
   "cell_type": "code",
   "execution_count": null,
   "id": "90f36ee8",
   "metadata": {},
   "outputs": [],
   "source": [
    "import pandas\n",
    "def class_constructor(*args, **kwargs):\n",
    "    obj = pandas.core.indexes.interval.SetopCheck()\n",
    "    return obj\n"
   ]
  },
  {
   "cell_type": "code",
   "execution_count": null,
   "id": "29f55dcd",
   "metadata": {},
   "outputs": [],
   "source": [
    "# pandas.core.indexes.interval.SetopCheck.__call__\n",
    "try:\n",
    "    obj = class_constructor()\n",
    "    ret = obj.__call__()\n",
    "    type_pandas_core_indexes_interval_SetopCheck___call__ = (\n",
    "    getattr(ret, '__module__', None) + '.' + ret.__class__.__name__\n",
    "        if getattr(ret, '__module__', None)\n",
    "        else ret.__class__.__name__\n",
    "        )\n",
    "    print(\"✅ pandas.core.indexes.interval.SetopCheck.__call__:\",\n",
    "        type_pandas_core_indexes_interval_SetopCheck___call__)\n",
    "except Exception as e:\n",
    "    type_pandas_core_indexes_interval_SetopCheck___call__ = '_syft_missing'\n",
    "    print('❌ pandas.core.indexes.interval.SetopCheck.__call__: Return unavailable')\n",
    "    print(\"  Please fix this return type code until there is no exception\")\n",
    "    print('   Error:', e)\n"
   ]
  }
 ],
 "metadata": {},
 "nbformat": 4,
 "nbformat_minor": 5
}
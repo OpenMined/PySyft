{
 "cells": [
  {
   "cell_type": "markdown",
   "id": "0faa61b8",
   "metadata": {},
   "source": [
    "## pandas.io.formats.format.TableFormatter"
   ]
  },
  {
   "cell_type": "code",
   "execution_count": null,
   "id": "4131089f",
   "metadata": {},
   "outputs": [],
   "source": [
    "import pandas\n",
    "def class_constructor(*args, **kwargs):\n",
    "    obj = pandas.io.formats.format.TableFormatter()\n",
    "    return obj\n"
   ]
  },
  {
   "cell_type": "code",
   "execution_count": null,
   "id": "9d18c577",
   "metadata": {},
   "outputs": [],
   "source": [
    "# pandas.io.formats.format.TableFormatter.get_buffer\n",
    "try:\n",
    "    obj = class_constructor()\n",
    "    ret = obj.get_buffer()\n",
    "    type_pandas_io_formats_format_TableFormatter_get_buffer = (\n",
    "    getattr(ret, '__module__', None) + '.' + ret.__class__.__name__\n",
    "        if getattr(ret, '__module__', None)\n",
    "        else ret.__class__.__name__\n",
    "        )\n",
    "    print(\"✅ pandas.io.formats.format.TableFormatter.get_buffer:\",\n",
    "        type_pandas_io_formats_format_TableFormatter_get_buffer)\n",
    "except Exception as e:\n",
    "    type_pandas_io_formats_format_TableFormatter_get_buffer = '_syft_missing'\n",
    "    print('❌ pandas.io.formats.format.TableFormatter.get_buffer: Return unavailable')\n",
    "    print(\"  Please fix this return type code until there is no exception\")\n",
    "    print('   Error:', e)\n"
   ]
  },
  {
   "cell_type": "code",
   "execution_count": null,
   "id": "42a3445d",
   "metadata": {},
   "outputs": [],
   "source": [
    "# pandas.io.formats.format.TableFormatter.should_show_dimensions\n",
    "try:\n",
    "    obj = class_constructor()\n",
    "    ret = obj.should_show_dimensions\n",
    "    type_pandas_io_formats_format_TableFormatter_should_show_dimensions = (\n",
    "    getattr(ret, '__module__', None) + '.' + ret.__class__.__name__\n",
    "        if getattr(ret, '__module__', None)\n",
    "        else ret.__class__.__name__\n",
    "        )\n",
    "    print(\"✅ pandas.io.formats.format.TableFormatter.should_show_dimensions:\",\n",
    "        type_pandas_io_formats_format_TableFormatter_should_show_dimensions)\n",
    "except Exception as e:\n",
    "    type_pandas_io_formats_format_TableFormatter_should_show_dimensions = '_syft_missing'\n",
    "    print('❌ pandas.io.formats.format.TableFormatter.should_show_dimensions: Return unavailable')\n",
    "    print(\"  Please fix this return type code until there is no exception\")\n",
    "    print('  Error:', e)\n"
   ]
  }
 ],
 "metadata": {},
 "nbformat": 4,
 "nbformat_minor": 5
}
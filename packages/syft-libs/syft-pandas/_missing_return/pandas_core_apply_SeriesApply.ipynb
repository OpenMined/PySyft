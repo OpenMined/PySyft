{
 "cells": [
  {
   "cell_type": "markdown",
   "id": "23e29c2e",
   "metadata": {},
   "source": [
    "## pandas.core.apply.SeriesApply"
   ]
  },
  {
   "cell_type": "code",
   "execution_count": null,
   "id": "e1e43a66",
   "metadata": {},
   "outputs": [],
   "source": [
    "import pandas\n",
    "def class_constructor(*args, **kwargs):\n",
    "    obj = pandas.core.apply.SeriesApply()\n",
    "    return obj\n"
   ]
  },
  {
   "cell_type": "code",
   "execution_count": null,
   "id": "e686266d",
   "metadata": {},
   "outputs": [],
   "source": [
    "# pandas.core.apply.SeriesApply._try_aggregate_string_function\n",
    "try:\n",
    "    obj = class_constructor()\n",
    "    ret = obj._try_aggregate_string_function()\n",
    "    type_pandas_core_apply_SeriesApply__try_aggregate_string_function = (\n",
    "    getattr(ret, '__module__', None) + '.' + ret.__class__.__name__\n",
    "        if getattr(ret, '__module__', None)\n",
    "        else ret.__class__.__name__\n",
    "        )\n",
    "    print(\"✅ pandas.core.apply.SeriesApply._try_aggregate_string_function:\",\n",
    "        type_pandas_core_apply_SeriesApply__try_aggregate_string_function)\n",
    "except Exception as e:\n",
    "    type_pandas_core_apply_SeriesApply__try_aggregate_string_function = '_syft_missing'\n",
    "    print('❌ pandas.core.apply.SeriesApply._try_aggregate_string_function: Return unavailable')\n",
    "    print(\"  Please fix this return type code until there is no exception\")\n",
    "    print('   Error:', e)\n"
   ]
  },
  {
   "cell_type": "code",
   "execution_count": null,
   "id": "5df35770",
   "metadata": {},
   "outputs": [],
   "source": [
    "# pandas.core.apply.SeriesApply.agg\n",
    "try:\n",
    "    obj = class_constructor()\n",
    "    ret = obj.agg()\n",
    "    type_pandas_core_apply_SeriesApply_agg = (\n",
    "    getattr(ret, '__module__', None) + '.' + ret.__class__.__name__\n",
    "        if getattr(ret, '__module__', None)\n",
    "        else ret.__class__.__name__\n",
    "        )\n",
    "    print(\"✅ pandas.core.apply.SeriesApply.agg:\",\n",
    "        type_pandas_core_apply_SeriesApply_agg)\n",
    "except Exception as e:\n",
    "    type_pandas_core_apply_SeriesApply_agg = '_syft_missing'\n",
    "    print('❌ pandas.core.apply.SeriesApply.agg: Return unavailable')\n",
    "    print(\"  Please fix this return type code until there is no exception\")\n",
    "    print('   Error:', e)\n"
   ]
  },
  {
   "cell_type": "code",
   "execution_count": null,
   "id": "de93927c",
   "metadata": {},
   "outputs": [],
   "source": [
    "# pandas.core.apply.SeriesApply.agg_axis\n",
    "try:\n",
    "    obj = class_constructor()\n",
    "    ret = obj.agg_axis\n",
    "    type_pandas_core_apply_SeriesApply_agg_axis = (\n",
    "    getattr(ret, '__module__', None) + '.' + ret.__class__.__name__\n",
    "        if getattr(ret, '__module__', None)\n",
    "        else ret.__class__.__name__\n",
    "        )\n",
    "    print(\"✅ pandas.core.apply.SeriesApply.agg_axis:\",\n",
    "        type_pandas_core_apply_SeriesApply_agg_axis)\n",
    "except Exception as e:\n",
    "    type_pandas_core_apply_SeriesApply_agg_axis = '_syft_missing'\n",
    "    print('❌ pandas.core.apply.SeriesApply.agg_axis: Return unavailable')\n",
    "    print(\"  Please fix this return type code until there is no exception\")\n",
    "    print('  Error:', e)\n"
   ]
  },
  {
   "cell_type": "code",
   "execution_count": null,
   "id": "6fd9a3b8",
   "metadata": {},
   "outputs": [],
   "source": [
    "# pandas.core.apply.SeriesApply.index\n",
    "try:\n",
    "    obj = class_constructor()\n",
    "    ret = obj.index\n",
    "    type_pandas_core_apply_SeriesApply_index = (\n",
    "    getattr(ret, '__module__', None) + '.' + ret.__class__.__name__\n",
    "        if getattr(ret, '__module__', None)\n",
    "        else ret.__class__.__name__\n",
    "        )\n",
    "    print(\"✅ pandas.core.apply.SeriesApply.index:\",\n",
    "        type_pandas_core_apply_SeriesApply_index)\n",
    "except Exception as e:\n",
    "    type_pandas_core_apply_SeriesApply_index = '_syft_missing'\n",
    "    print('❌ pandas.core.apply.SeriesApply.index: Return unavailable')\n",
    "    print(\"  Please fix this return type code until there is no exception\")\n",
    "    print('  Error:', e)\n"
   ]
  },
  {
   "cell_type": "code",
   "execution_count": null,
   "id": "e794fb64",
   "metadata": {},
   "outputs": [],
   "source": [
    "# pandas.core.apply.SeriesApply.transform_dict_like\n",
    "try:\n",
    "    obj = class_constructor()\n",
    "    ret = obj.transform_dict_like()\n",
    "    type_pandas_core_apply_SeriesApply_transform_dict_like = (\n",
    "    getattr(ret, '__module__', None) + '.' + ret.__class__.__name__\n",
    "        if getattr(ret, '__module__', None)\n",
    "        else ret.__class__.__name__\n",
    "        )\n",
    "    print(\"✅ pandas.core.apply.SeriesApply.transform_dict_like:\",\n",
    "        type_pandas_core_apply_SeriesApply_transform_dict_like)\n",
    "except Exception as e:\n",
    "    type_pandas_core_apply_SeriesApply_transform_dict_like = '_syft_missing'\n",
    "    print('❌ pandas.core.apply.SeriesApply.transform_dict_like: Return unavailable')\n",
    "    print(\"  Please fix this return type code until there is no exception\")\n",
    "    print('   Error:', e)\n"
   ]
  }
 ],
 "metadata": {
  "kernelspec": {
   "display_name": "Python 3",
   "language": "python",
   "name": "python3"
  },
  "language_info": {
   "codemirror_mode": {
    "name": "ipython",
    "version": 3
   },
   "file_extension": ".py",
   "mimetype": "text/x-python",
   "name": "python",
   "nbconvert_exporter": "python",
   "pygments_lexer": "ipython3",
   "version": "3.9.5"
  }
 },
 "nbformat": 4,
 "nbformat_minor": 5
}

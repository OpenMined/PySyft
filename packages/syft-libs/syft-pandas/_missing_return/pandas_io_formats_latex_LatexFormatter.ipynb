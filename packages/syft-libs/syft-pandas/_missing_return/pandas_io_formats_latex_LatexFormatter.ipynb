{
 "cells": [
  {
   "cell_type": "markdown",
   "id": "54572f3f",
   "metadata": {},
   "source": [
    "## pandas.io.formats.latex.LatexFormatter"
   ]
  },
  {
   "cell_type": "code",
   "execution_count": null,
   "id": "bf3bd9ec",
   "metadata": {},
   "outputs": [],
   "source": [
    "# pandas.io.formats.latex.LatexFormatter.builder\n",
    "try:\n",
    "    obj = class_constructor()\n",
    "    ret = obj.builder\n",
    "    type_pandas_io_formats_latex_LatexFormatter_builder = (\n",
    "    getattr(ret, '__module__', None) + '.' + ret.__class__.__name__\n",
    "        if getattr(ret, '__module__', None)\n",
    "        else ret.__class__.__name__\n",
    "        )\n",
    "    print(\"✅ pandas.io.formats.latex.LatexFormatter.builder:\",\n",
    "        type_pandas_io_formats_latex_LatexFormatter_builder)\n",
    "except Exception as e:\n",
    "    type_pandas_io_formats_latex_LatexFormatter_builder = '_syft_missing'\n",
    "    print('❌ pandas.io.formats.latex.LatexFormatter.builder: Return unavailable')\n",
    "    print(\"  Please fix this return type code until there is no exception\")\n",
    "    print('  Error:', e)\n"
   ]
  },
  {
   "cell_type": "code",
   "execution_count": null,
   "id": "8d17e0a8",
   "metadata": {},
   "outputs": [],
   "source": [
    "# pandas.io.formats.latex.LatexFormatter.column_format\n",
    "try:\n",
    "    obj = class_constructor()\n",
    "    ret = obj.column_format\n",
    "    type_pandas_io_formats_latex_LatexFormatter_column_format = (\n",
    "    getattr(ret, '__module__', None) + '.' + ret.__class__.__name__\n",
    "        if getattr(ret, '__module__', None)\n",
    "        else ret.__class__.__name__\n",
    "        )\n",
    "    print(\"✅ pandas.io.formats.latex.LatexFormatter.column_format:\",\n",
    "        type_pandas_io_formats_latex_LatexFormatter_column_format)\n",
    "except Exception as e:\n",
    "    type_pandas_io_formats_latex_LatexFormatter_column_format = '_syft_missing'\n",
    "    print('❌ pandas.io.formats.latex.LatexFormatter.column_format: Return unavailable')\n",
    "    print(\"  Please fix this return type code until there is no exception\")\n",
    "    print('  Error:', e)\n"
   ]
  }
 ],
 "metadata": {},
 "nbformat": 4,
 "nbformat_minor": 5
}
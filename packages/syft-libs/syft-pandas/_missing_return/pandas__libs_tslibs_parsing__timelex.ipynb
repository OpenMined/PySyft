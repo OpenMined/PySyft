{
 "cells": [
  {
   "cell_type": "markdown",
   "id": "ace5d515",
   "metadata": {},
   "source": [
    "## pandas._libs.tslibs.parsing._timelex"
   ]
  },
  {
   "cell_type": "code",
   "execution_count": 6,
   "id": "83c5d3a3",
   "metadata": {},
   "outputs": [],
   "source": [
    "import pandas\n",
    "def class_constructor(*args, **kwargs):\n",
    "    obj = pandas._libs.tslibs.parsing._timelex(\"adfslsdbfgksdsadgl\")\n",
    "    return obj\n"
   ]
  },
  {
   "cell_type": "code",
   "execution_count": 8,
   "id": "1e77ec0a",
   "metadata": {},
   "outputs": [
    {
     "name": "stdout",
     "output_type": "stream",
     "text": [
      "✅ pandas._libs.tslibs.parsing._timelex.split:  <class 'list'>\n"
     ]
    }
   ],
   "source": [
    "# pandas._libs.tslibs.parsing._timelex.split\n",
    "try:\n",
    "    obj = class_constructor()\n",
    "    ret = obj.split(\"wdfasdgah\")\n",
    "    type_pandas__libs_tslibs_parsing__timelex_split = getattr(ret, '__module__', 'none') + '.' + ret.__class__.__name__\n",
    "    print('✅ pandas._libs.tslibs.parsing._timelex.split: ', type(ret))\n",
    "except Exception as e:\n",
    "    type_pandas__libs_tslibs_parsing__timelex_split = '_syft_missing'\n",
    "    print('❌ pandas._libs.tslibs.parsing._timelex.split: Return unavailable')\n",
    "    print(\"  Please fix this return type code until there is no exception\")\n",
    "    print('  Error:', e)\n"
   ]
  },
  {
   "cell_type": "code",
   "execution_count": null,
   "id": "751b2024",
   "metadata": {},
   "outputs": [],
   "source": []
  }
 ],
 "metadata": {
  "kernelspec": {
   "display_name": "Python 3",
   "language": "python",
   "name": "python3"
  },
  "language_info": {
   "codemirror_mode": {
    "name": "ipython",
    "version": 3
   },
   "file_extension": ".py",
   "mimetype": "text/x-python",
   "name": "python",
   "nbconvert_exporter": "python",
   "pygments_lexer": "ipython3",
   "version": "3.9.5"
  }
 },
 "nbformat": 4,
 "nbformat_minor": 5
}

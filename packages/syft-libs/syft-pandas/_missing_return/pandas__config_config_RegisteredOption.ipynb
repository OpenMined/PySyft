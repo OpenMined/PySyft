{
 "cells": [
  {
   "cell_type": "markdown",
   "id": "a5bf6c20",
   "metadata": {},
   "source": [
    "## pandas._config.config.RegisteredOption"
   ]
  },
  {
   "cell_type": "code",
   "execution_count": 1,
   "id": "8639f137",
   "metadata": {},
   "outputs": [],
   "source": [
    "import pandas\n",
    "def class_constructor(*args, **kwargs):\n",
    "    obj = pandas._config.config.RegisteredOption(\"\",\"\",\"\",\"\",'')\n",
    "    return obj\n"
   ]
  },
  {
   "cell_type": "code",
   "execution_count": 2,
   "id": "6d091f9a",
   "metadata": {},
   "outputs": [
    {
     "name": "stdout",
     "output_type": "stream",
     "text": [
      "✅ pandas._config.config.RegisteredOption.__getnewargs__: tuple\n"
     ]
    }
   ],
   "source": [
    "# pandas._config.config.RegisteredOption.__getnewargs__\n",
    "try:\n",
    "    obj = class_constructor()\n",
    "    ret = obj.__getnewargs__()\n",
    "    type_pandas__config_config_RegisteredOption___getnewargs__ = (\n",
    "    getattr(ret, '__module__', None) + '.' + ret.__class__.__name__\n",
    "        if getattr(ret, '__module__', None)\n",
    "        else ret.__class__.__name__\n",
    "        )\n",
    "    print(\"✅ pandas._config.config.RegisteredOption.__getnewargs__:\",\n",
    "        type_pandas__config_config_RegisteredOption___getnewargs__)\n",
    "except Exception as e:\n",
    "    type_pandas__config_config_RegisteredOption___getnewargs__ = '_syft_missing'\n",
    "    print('❌ pandas._config.config.RegisteredOption.__getnewargs__: Return unavailable')\n",
    "    print(\"  Please fix this return type code until there is no exception\")\n",
    "    print('   Error:', e)\n"
   ]
  },
  {
   "cell_type": "code",
   "execution_count": 3,
   "id": "0b070e52",
   "metadata": {},
   "outputs": [
    {
     "name": "stdout",
     "output_type": "stream",
     "text": [
      "✅ pandas._config.config.RegisteredOption.__new__: pandas._config.config.RegisteredOption\n"
     ]
    }
   ],
   "source": [
    "# pandas._config.config.RegisteredOption.__new__\n",
    "try:\n",
    "    obj = class_constructor()\n",
    "    ret = obj\n",
    "    type_pandas__config_config_RegisteredOption___new__ = (\n",
    "    getattr(ret, '__module__', None) + '.' + ret.__class__.__name__\n",
    "        if getattr(ret, '__module__', None)\n",
    "        else ret.__class__.__name__\n",
    "        )\n",
    "    print(\"✅ pandas._config.config.RegisteredOption.__new__:\",\n",
    "        type_pandas__config_config_RegisteredOption___new__)\n",
    "except Exception as e:\n",
    "    type_pandas__config_config_RegisteredOption___new__ = '_syft_missing'\n",
    "    print('❌ pandas._config.config.RegisteredOption.__new__: Return unavailable')\n",
    "    print(\"  Please fix this return type code until there is no exception\")\n",
    "    print('   Error:', e)\n"
   ]
  },
  {
   "cell_type": "code",
   "execution_count": 4,
   "id": "1d00e24e",
   "metadata": {},
   "outputs": [
    {
     "name": "stdout",
     "output_type": "stream",
     "text": [
      "✅ pandas._config.config.RegisteredOption.__repr__: str\n"
     ]
    }
   ],
   "source": [
    "# pandas._config.config.RegisteredOption.__repr__\n",
    "try:\n",
    "    obj = class_constructor()\n",
    "    ret = obj.__repr__()\n",
    "    type_pandas__config_config_RegisteredOption___repr__ = (\n",
    "    getattr(ret, '__module__', None) + '.' + ret.__class__.__name__\n",
    "        if getattr(ret, '__module__', None)\n",
    "        else ret.__class__.__name__\n",
    "        )\n",
    "    print(\"✅ pandas._config.config.RegisteredOption.__repr__:\",\n",
    "        type_pandas__config_config_RegisteredOption___repr__)\n",
    "except Exception as e:\n",
    "    type_pandas__config_config_RegisteredOption___repr__ = '_syft_missing'\n",
    "    print('❌ pandas._config.config.RegisteredOption.__repr__: Return unavailable')\n",
    "    print(\"  Please fix this return type code until there is no exception\")\n",
    "    print('   Error:', e)\n"
   ]
  },
  {
   "cell_type": "code",
   "execution_count": 5,
   "id": "92a48755",
   "metadata": {},
   "outputs": [
    {
     "name": "stdout",
     "output_type": "stream",
     "text": [
      "✅ pandas._config.config.RegisteredOption._asdict: dict\n"
     ]
    }
   ],
   "source": [
    "# pandas._config.config.RegisteredOption._asdict\n",
    "try:\n",
    "    obj = class_constructor()\n",
    "    ret = obj._asdict()\n",
    "    type_pandas__config_config_RegisteredOption__asdict = (\n",
    "    getattr(ret, '__module__', None) + '.' + ret.__class__.__name__\n",
    "        if getattr(ret, '__module__', None)\n",
    "        else ret.__class__.__name__\n",
    "        )\n",
    "    print(\"✅ pandas._config.config.RegisteredOption._asdict:\",\n",
    "        type_pandas__config_config_RegisteredOption__asdict)\n",
    "except Exception as e:\n",
    "    type_pandas__config_config_RegisteredOption__asdict = '_syft_missing'\n",
    "    print('❌ pandas._config.config.RegisteredOption._asdict: Return unavailable')\n",
    "    print(\"  Please fix this return type code until there is no exception\")\n",
    "    print('   Error:', e)\n"
   ]
  },
  {
   "cell_type": "code",
   "execution_count": 6,
   "id": "7a4307ab",
   "metadata": {},
   "outputs": [
    {
     "name": "stdout",
     "output_type": "stream",
     "text": [
      "✅ pandas._config.config.RegisteredOption._make: pandas._config.config.RegisteredOption\n"
     ]
    }
   ],
   "source": [
    "# pandas._config.config.RegisteredOption._make\n",
    "try:\n",
    "    obj = class_constructor()\n",
    "    ret = obj._make([\"\",\"\",\"\",\"\",\"\"])\n",
    "    type_pandas__config_config_RegisteredOption__make = (\n",
    "    getattr(ret, '__module__', None) + '.' + ret.__class__.__name__\n",
    "        if getattr(ret, '__module__', None)\n",
    "        else ret.__class__.__name__\n",
    "        )\n",
    "    print(\"✅ pandas._config.config.RegisteredOption._make:\",\n",
    "        type_pandas__config_config_RegisteredOption__make)\n",
    "except Exception as e:\n",
    "    type_pandas__config_config_RegisteredOption__make = '_syft_missing'\n",
    "    print('❌ pandas._config.config.RegisteredOption._make: Return unavailable')\n",
    "    print(\"  Please fix this return type code until there is no exception\")\n",
    "    print('   Error:', e)\n"
   ]
  },
  {
   "cell_type": "code",
   "execution_count": 7,
   "id": "c7660539",
   "metadata": {},
   "outputs": [
    {
     "name": "stdout",
     "output_type": "stream",
     "text": [
      "✅ pandas._config.config.RegisteredOption._replace: pandas._config.config.RegisteredOption\n"
     ]
    }
   ],
   "source": [
    "# pandas._config.config.RegisteredOption._replace\n",
    "try:\n",
    "    obj = class_constructor()\n",
    "    ret = obj._replace()\n",
    "    type_pandas__config_config_RegisteredOption__replace = (\n",
    "    getattr(ret, '__module__', None) + '.' + ret.__class__.__name__\n",
    "        if getattr(ret, '__module__', None)\n",
    "        else ret.__class__.__name__\n",
    "        )\n",
    "    print(\"✅ pandas._config.config.RegisteredOption._replace:\",\n",
    "        type_pandas__config_config_RegisteredOption__replace)\n",
    "except Exception as e:\n",
    "    type_pandas__config_config_RegisteredOption__replace = '_syft_missing'\n",
    "    print('❌ pandas._config.config.RegisteredOption._replace: Return unavailable')\n",
    "    print(\"  Please fix this return type code until there is no exception\")\n",
    "    print('   Error:', e)\n"
   ]
  },
  {
   "cell_type": "code",
   "execution_count": null,
   "id": "cd4a90d6",
   "metadata": {},
   "outputs": [],
   "source": []
  }
 ],
 "metadata": {
  "kernelspec": {
   "display_name": "Python 3",
   "language": "python",
   "name": "python3"
  },
  "language_info": {
   "codemirror_mode": {
    "name": "ipython",
    "version": 3
   },
   "file_extension": ".py",
   "mimetype": "text/x-python",
   "name": "python",
   "nbconvert_exporter": "python",
   "pygments_lexer": "ipython3",
   "version": "3.9.5"
  }
 },
 "nbformat": 4,
 "nbformat_minor": 5
}

{
 "cells": [
  {
   "cell_type": "markdown",
   "id": "1414847d",
   "metadata": {},
   "source": [
    "## pandas._config.config.RegisteredOption"
   ]
  },
  {
   "cell_type": "code",
   "execution_count": 3,
   "id": "260ed24d",
   "metadata": {},
   "outputs": [],
   "source": [
    "import pandas\n",
    "def class_constructor(*args, **kwargs):\n",
    "    obj = pandas._config.config.RegisteredOption(\"key\",\"\",\"\",\"\",\"\")\n",
    "    return obj\n"
   ]
  },
  {
   "cell_type": "code",
   "execution_count": 4,
   "id": "8d2de3b5",
   "metadata": {},
   "outputs": [
    {
     "name": "stdout",
     "output_type": "stream",
     "text": [
      "✅ pandas._config.config.RegisteredOption.__getnewargs__:  <class 'tuple'>\n"
     ]
    }
   ],
   "source": [
    "# pandas._config.config.RegisteredOption.__getnewargs__\n",
    "try:\n",
    "    obj = class_constructor()\n",
    "    ret = obj.__getnewargs__()\n",
    "    type_pandas__config_config_RegisteredOption___getnewargs__ = getattr(ret, '__module__', 'none') + '.' + ret.__class__.__name__\n",
    "    print('✅ pandas._config.config.RegisteredOption.__getnewargs__: ', type(ret))\n",
    "except Exception as e:\n",
    "    type_pandas__config_config_RegisteredOption___getnewargs__ = '_syft_missing'\n",
    "    print('❌ pandas._config.config.RegisteredOption.__getnewargs__: Return unavailable')\n",
    "    print(\"  Please fix this return type code until there is no exception\")\n",
    "    print('  Error:', e)\n"
   ]
  },
  {
   "cell_type": "code",
   "execution_count": 6,
   "id": "d229aff1",
   "metadata": {},
   "outputs": [
    {
     "name": "stdout",
     "output_type": "stream",
     "text": [
      "✅ pandas._config.config.RegisteredOption.__new__:  <class 'pandas._config.config.RegisteredOption'>\n"
     ]
    }
   ],
   "source": [
    "# pandas._config.config.RegisteredOption.__new__\n",
    "try:\n",
    "    obj = class_constructor()\n",
    "    ret = obj.__new__(obj.__class__,\"key\",\"\",\"\",\"\",\"\")\n",
    "    type_pandas__config_config_RegisteredOption___new__ = getattr(ret, '__module__', 'none') + '.' + ret.__class__.__name__\n",
    "    print('✅ pandas._config.config.RegisteredOption.__new__: ', type(ret))\n",
    "except Exception as e:\n",
    "    type_pandas__config_config_RegisteredOption___new__ = '_syft_missing'\n",
    "    print('❌ pandas._config.config.RegisteredOption.__new__: Return unavailable')\n",
    "    print(\"  Please fix this return type code until there is no exception\")\n",
    "    print('  Error:', e)\n"
   ]
  },
  {
   "cell_type": "code",
   "execution_count": 7,
   "id": "911ced6c",
   "metadata": {},
   "outputs": [
    {
     "name": "stdout",
     "output_type": "stream",
     "text": [
      "✅ pandas._config.config.RegisteredOption.__repr__:  <class 'str'>\n"
     ]
    }
   ],
   "source": [
    "# pandas._config.config.RegisteredOption.__repr__\n",
    "try:\n",
    "    obj = class_constructor()\n",
    "    ret = obj.__repr__()\n",
    "    type_pandas__config_config_RegisteredOption___repr__ = getattr(ret, '__module__', 'none') + '.' + ret.__class__.__name__\n",
    "    print('✅ pandas._config.config.RegisteredOption.__repr__: ', type(ret))\n",
    "except Exception as e:\n",
    "    type_pandas__config_config_RegisteredOption___repr__ = '_syft_missing'\n",
    "    print('❌ pandas._config.config.RegisteredOption.__repr__: Return unavailable')\n",
    "    print(\"  Please fix this return type code until there is no exception\")\n",
    "    print('  Error:', e)\n"
   ]
  },
  {
   "cell_type": "code",
   "execution_count": 8,
   "id": "e6219d4d",
   "metadata": {},
   "outputs": [
    {
     "name": "stdout",
     "output_type": "stream",
     "text": [
      "✅ pandas._config.config.RegisteredOption._asdict:  <class 'dict'>\n"
     ]
    }
   ],
   "source": [
    "# pandas._config.config.RegisteredOption._asdict\n",
    "try:\n",
    "    obj = class_constructor()\n",
    "    ret = obj._asdict()\n",
    "    type_pandas__config_config_RegisteredOption__asdict = getattr(ret, '__module__', 'none') + '.' + ret.__class__.__name__\n",
    "    print('✅ pandas._config.config.RegisteredOption._asdict: ', type(ret))\n",
    "except Exception as e:\n",
    "    type_pandas__config_config_RegisteredOption__asdict = '_syft_missing'\n",
    "    print('❌ pandas._config.config.RegisteredOption._asdict: Return unavailable')\n",
    "    print(\"  Please fix this return type code until there is no exception\")\n",
    "    print('  Error:', e)\n"
   ]
  },
  {
   "cell_type": "code",
   "execution_count": 10,
   "id": "14c9001c",
   "metadata": {},
   "outputs": [
    {
     "name": "stdout",
     "output_type": "stream",
     "text": [
      "✅ pandas._config.config.RegisteredOption._make:  <class 'pandas._config.config.RegisteredOption'>\n"
     ]
    }
   ],
   "source": [
    "# pandas._config.config.RegisteredOption._make\n",
    "try:\n",
    "    obj = class_constructor()\n",
    "    ret = obj._make([\"key\",\"\",\"\",\"\",\"\"])\n",
    "    type_pandas__config_config_RegisteredOption__make = getattr(ret, '__module__', 'none') + '.' + ret.__class__.__name__\n",
    "    print('✅ pandas._config.config.RegisteredOption._make: ', type(ret))\n",
    "except Exception as e:\n",
    "    type_pandas__config_config_RegisteredOption__make = '_syft_missing'\n",
    "    print('❌ pandas._config.config.RegisteredOption._make: Return unavailable')\n",
    "    print(\"  Please fix this return type code until there is no exception\")\n",
    "    print('  Error:', e)\n"
   ]
  },
  {
   "cell_type": "code",
   "execution_count": 11,
   "id": "38efd0f3",
   "metadata": {},
   "outputs": [
    {
     "name": "stdout",
     "output_type": "stream",
     "text": [
      "✅ pandas._config.config.RegisteredOption._replace:  <class 'pandas._config.config.RegisteredOption'>\n"
     ]
    }
   ],
   "source": [
    "# pandas._config.config.RegisteredOption._replace\n",
    "try:\n",
    "    obj = class_constructor()\n",
    "    ret = obj._replace()\n",
    "    type_pandas__config_config_RegisteredOption__replace = getattr(ret, '__module__', 'none') + '.' + ret.__class__.__name__\n",
    "    print('✅ pandas._config.config.RegisteredOption._replace: ', type(ret))\n",
    "except Exception as e:\n",
    "    type_pandas__config_config_RegisteredOption__replace = '_syft_missing'\n",
    "    print('❌ pandas._config.config.RegisteredOption._replace: Return unavailable')\n",
    "    print(\"  Please fix this return type code until there is no exception\")\n",
    "    print('  Error:', e)\n"
   ]
  },
  {
   "cell_type": "code",
   "execution_count": null,
   "id": "3ef4eb0a",
   "metadata": {},
   "outputs": [],
   "source": []
  }
 ],
 "metadata": {
  "kernelspec": {
   "display_name": "Python 3",
   "language": "python",
   "name": "python3"
  },
  "language_info": {
   "codemirror_mode": {
    "name": "ipython",
    "version": 3
   },
   "file_extension": ".py",
   "mimetype": "text/x-python",
   "name": "python",
   "nbconvert_exporter": "python",
   "pygments_lexer": "ipython3",
   "version": "3.9.5"
  }
 },
 "nbformat": 4,
 "nbformat_minor": 5
}

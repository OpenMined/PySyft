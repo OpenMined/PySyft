{
 "cells": [
  {
   "cell_type": "markdown",
   "id": "9b720138",
   "metadata": {},
   "source": [
    "## pandas.core.apply.NDFrameApply"
   ]
  },
  {
   "cell_type": "code",
   "execution_count": null,
   "id": "afbf6ab8",
   "metadata": {},
   "outputs": [],
   "source": [
    "import pandas\n",
    "def class_constructor(*args, **kwargs):\n",
    "    obj = pandas.core.apply.NDFrameApply()\n",
    "    return obj\n"
   ]
  },
  {
   "cell_type": "code",
   "execution_count": null,
   "id": "6e0bfe28",
   "metadata": {},
   "outputs": [],
   "source": [
    "# pandas.core.apply.NDFrameApply._try_aggregate_string_function\n",
    "try:\n",
    "    obj = class_constructor()\n",
    "    ret = obj._try_aggregate_string_function()\n",
    "    type_pandas_core_apply_NDFrameApply__try_aggregate_string_function = (\n",
    "    getattr(ret, '__module__', None) + '.' + ret.__class__.__name__\n",
    "        if getattr(ret, '__module__', None)\n",
    "        else ret.__class__.__name__\n",
    "        )\n",
    "    print(\"✅ pandas.core.apply.NDFrameApply._try_aggregate_string_function:\",\n",
    "        type_pandas_core_apply_NDFrameApply__try_aggregate_string_function)\n",
    "except Exception as e:\n",
    "    type_pandas_core_apply_NDFrameApply__try_aggregate_string_function = '_syft_missing'\n",
    "    print('❌ pandas.core.apply.NDFrameApply._try_aggregate_string_function: Return unavailable')\n",
    "    print(\"  Please fix this return type code until there is no exception\")\n",
    "    print('   Error:', e)\n"
   ]
  },
  {
   "cell_type": "code",
   "execution_count": null,
   "id": "a804ef50",
   "metadata": {},
   "outputs": [],
   "source": [
    "# pandas.core.apply.NDFrameApply.agg_axis\n",
    "try:\n",
    "    obj = class_constructor()\n",
    "    ret = obj.agg_axis\n",
    "    type_pandas_core_apply_NDFrameApply_agg_axis = (\n",
    "    getattr(ret, '__module__', None) + '.' + ret.__class__.__name__\n",
    "        if getattr(ret, '__module__', None)\n",
    "        else ret.__class__.__name__\n",
    "        )\n",
    "    print(\"✅ pandas.core.apply.NDFrameApply.agg_axis:\",\n",
    "        type_pandas_core_apply_NDFrameApply_agg_axis)\n",
    "except Exception as e:\n",
    "    type_pandas_core_apply_NDFrameApply_agg_axis = '_syft_missing'\n",
    "    print('❌ pandas.core.apply.NDFrameApply.agg_axis: Return unavailable')\n",
    "    print(\"  Please fix this return type code until there is no exception\")\n",
    "    print('  Error:', e)\n"
   ]
  },
  {
   "cell_type": "code",
   "execution_count": null,
   "id": "37f9815d",
   "metadata": {},
   "outputs": [],
   "source": [
    "# pandas.core.apply.NDFrameApply.index\n",
    "try:\n",
    "    obj = class_constructor()\n",
    "    ret = obj.index\n",
    "    type_pandas_core_apply_NDFrameApply_index = (\n",
    "    getattr(ret, '__module__', None) + '.' + ret.__class__.__name__\n",
    "        if getattr(ret, '__module__', None)\n",
    "        else ret.__class__.__name__\n",
    "        )\n",
    "    print(\"✅ pandas.core.apply.NDFrameApply.index:\",\n",
    "        type_pandas_core_apply_NDFrameApply_index)\n",
    "except Exception as e:\n",
    "    type_pandas_core_apply_NDFrameApply_index = '_syft_missing'\n",
    "    print('❌ pandas.core.apply.NDFrameApply.index: Return unavailable')\n",
    "    print(\"  Please fix this return type code until there is no exception\")\n",
    "    print('  Error:', e)\n"
   ]
  },
  {
   "cell_type": "code",
   "execution_count": null,
   "id": "40e268a7",
   "metadata": {},
   "outputs": [],
   "source": [
    "# pandas.core.apply.NDFrameApply.transform_dict_like\n",
    "try:\n",
    "    obj = class_constructor()\n",
    "    ret = obj.transform_dict_like()\n",
    "    type_pandas_core_apply_NDFrameApply_transform_dict_like = (\n",
    "    getattr(ret, '__module__', None) + '.' + ret.__class__.__name__\n",
    "        if getattr(ret, '__module__', None)\n",
    "        else ret.__class__.__name__\n",
    "        )\n",
    "    print(\"✅ pandas.core.apply.NDFrameApply.transform_dict_like:\",\n",
    "        type_pandas_core_apply_NDFrameApply_transform_dict_like)\n",
    "except Exception as e:\n",
    "    type_pandas_core_apply_NDFrameApply_transform_dict_like = '_syft_missing'\n",
    "    print('❌ pandas.core.apply.NDFrameApply.transform_dict_like: Return unavailable')\n",
    "    print(\"  Please fix this return type code until there is no exception\")\n",
    "    print('   Error:', e)\n"
   ]
  }
 ],
 "metadata": {},
 "nbformat": 4,
 "nbformat_minor": 5
}
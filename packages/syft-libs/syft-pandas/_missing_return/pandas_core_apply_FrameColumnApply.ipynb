{
 "cells": [
  {
   "cell_type": "markdown",
   "id": "e354c104",
   "metadata": {},
   "source": [
    "## pandas.core.apply.FrameColumnApply"
   ]
  },
  {
   "cell_type": "code",
   "execution_count": 1,
   "id": "d6333c01",
   "metadata": {},
   "outputs": [],
   "source": [
    "import pandas\n",
    "import pandas.core.apply\n",
    "df = pandas.DataFrame({\"A\":[1,2,3],\"B\":[2,3,4]})\n",
    "def class_constructor():\n",
    "    return pandas.core.apply.frame_apply(df,lambda x:x**2,axis=1)"
   ]
  },
  {
   "cell_type": "code",
   "execution_count": 2,
   "id": "68ea4440",
   "metadata": {},
   "outputs": [
    {
     "data": {
      "text/plain": [
       "<pandas.core.apply.FrameColumnApply at 0x7f1b1c0a3610>"
      ]
     },
     "execution_count": 2,
     "metadata": {},
     "output_type": "execute_result"
    }
   ],
   "source": [
    "class_constructor()"
   ]
  },
  {
   "cell_type": "code",
   "execution_count": 3,
   "id": "6a0c8d57",
   "metadata": {},
   "outputs": [
    {
     "name": "stdout",
     "output_type": "stream",
     "text": [
      "✅ pandas.core.apply.FrameColumnApply.agg_axis: pandas.core.indexes.range.RangeIndex\n"
     ]
    }
   ],
   "source": [
    "# pandas.core.apply.FrameColumnApply.agg_axis\n",
    "try:\n",
    "    obj = class_constructor()\n",
    "    ret = obj.agg_axis\n",
    "    type_pandas_core_apply_FrameColumnApply_agg_axis = (\n",
    "    getattr(ret, '__module__', None) + '.' + ret.__class__.__name__\n",
    "        if getattr(ret, '__module__', None)\n",
    "        else ret.__class__.__name__\n",
    "        )\n",
    "    print(\"✅ pandas.core.apply.FrameColumnApply.agg_axis:\",\n",
    "        type_pandas_core_apply_FrameColumnApply_agg_axis)\n",
    "except Exception as e:\n",
    "    type_pandas_core_apply_FrameColumnApply_agg_axis = '_syft_missing'\n",
    "    print('❌ pandas.core.apply.FrameColumnApply.agg_axis: Return unavailable')\n",
    "    print(\"  Please fix this return type code until there is no exception\")\n",
    "    print('  Error:', e)\n"
   ]
  },
  {
   "cell_type": "code",
   "execution_count": 4,
   "id": "8be5d5b7",
   "metadata": {},
   "outputs": [
    {
     "name": "stdout",
     "output_type": "stream",
     "text": [
      "✅ pandas.core.apply.FrameColumnApply.apply_empty_result: pandas.core.frame.DataFrame\n"
     ]
    }
   ],
   "source": [
    "# pandas.core.apply.FrameColumnApply.apply_empty_result\n",
    "try:\n",
    "    obj = class_constructor()\n",
    "    ret = obj.apply_empty_result()\n",
    "    type_pandas_core_apply_FrameColumnApply_apply_empty_result = (\n",
    "    getattr(ret, '__module__', None) + '.' + ret.__class__.__name__\n",
    "        if getattr(ret, '__module__', None)\n",
    "        else ret.__class__.__name__\n",
    "        )\n",
    "    print(\"✅ pandas.core.apply.FrameColumnApply.apply_empty_result:\",\n",
    "        type_pandas_core_apply_FrameColumnApply_apply_empty_result)\n",
    "except Exception as e:\n",
    "    type_pandas_core_apply_FrameColumnApply_apply_empty_result = '_syft_missing'\n",
    "    print('❌ pandas.core.apply.FrameColumnApply.apply_empty_result: Return unavailable')\n",
    "    print(\"  Please fix this return type code until there is no exception\")\n",
    "    print('   Error:', e)\n"
   ]
  },
  {
   "cell_type": "code",
   "execution_count": 5,
   "id": "0da5af14",
   "metadata": {},
   "outputs": [
    {
     "name": "stdout",
     "output_type": "stream",
     "text": [
      "✅ pandas.core.apply.FrameColumnApply.apply_raw: pandas.core.frame.DataFrame\n"
     ]
    }
   ],
   "source": [
    "# pandas.core.apply.FrameColumnApply.apply_raw\n",
    "try:\n",
    "    obj = class_constructor()\n",
    "    ret = obj.apply_raw()\n",
    "    type_pandas_core_apply_FrameColumnApply_apply_raw = (\n",
    "    getattr(ret, '__module__', None) + '.' + ret.__class__.__name__\n",
    "        if getattr(ret, '__module__', None)\n",
    "        else ret.__class__.__name__\n",
    "        )\n",
    "    print(\"✅ pandas.core.apply.FrameColumnApply.apply_raw:\",\n",
    "        type_pandas_core_apply_FrameColumnApply_apply_raw)\n",
    "except Exception as e:\n",
    "    type_pandas_core_apply_FrameColumnApply_apply_raw = '_syft_missing'\n",
    "    print('❌ pandas.core.apply.FrameColumnApply.apply_raw: Return unavailable')\n",
    "    print(\"  Please fix this return type code until there is no exception\")\n",
    "    print('   Error:', e)\n"
   ]
  },
  {
   "cell_type": "code",
   "execution_count": 6,
   "id": "ddcfc837",
   "metadata": {},
   "outputs": [
    {
     "name": "stdout",
     "output_type": "stream",
     "text": [
      "✅ pandas.core.apply.FrameColumnApply.apply_standard: pandas.core.frame.DataFrame\n"
     ]
    }
   ],
   "source": [
    "# pandas.core.apply.FrameColumnApply.apply_standard\n",
    "try:\n",
    "    obj = class_constructor()\n",
    "    ret = obj.apply_standard()\n",
    "    type_pandas_core_apply_FrameColumnApply_apply_standard = (\n",
    "    getattr(ret, '__module__', None) + '.' + ret.__class__.__name__\n",
    "        if getattr(ret, '__module__', None)\n",
    "        else ret.__class__.__name__\n",
    "        )\n",
    "    print(\"✅ pandas.core.apply.FrameColumnApply.apply_standard:\",\n",
    "        type_pandas_core_apply_FrameColumnApply_apply_standard)\n",
    "except Exception as e:\n",
    "    type_pandas_core_apply_FrameColumnApply_apply_standard = '_syft_missing'\n",
    "    print('❌ pandas.core.apply.FrameColumnApply.apply_standard: Return unavailable')\n",
    "    print(\"  Please fix this return type code until there is no exception\")\n",
    "    print('   Error:', e)\n"
   ]
  },
  {
   "cell_type": "code",
   "execution_count": 7,
   "id": "2589991c",
   "metadata": {},
   "outputs": [
    {
     "name": "stdout",
     "output_type": "stream",
     "text": [
      "✅ pandas.core.apply.FrameColumnApply.columns: pandas.core.indexes.base.Index\n"
     ]
    }
   ],
   "source": [
    "# pandas.core.apply.FrameColumnApply.columns\n",
    "try:\n",
    "    obj = class_constructor()\n",
    "    ret = obj.columns\n",
    "    type_pandas_core_apply_FrameColumnApply_columns = (\n",
    "    getattr(ret, '__module__', None) + '.' + ret.__class__.__name__\n",
    "        if getattr(ret, '__module__', None)\n",
    "        else ret.__class__.__name__\n",
    "        )\n",
    "    print(\"✅ pandas.core.apply.FrameColumnApply.columns:\",\n",
    "        type_pandas_core_apply_FrameColumnApply_columns)\n",
    "except Exception as e:\n",
    "    type_pandas_core_apply_FrameColumnApply_columns = '_syft_missing'\n",
    "    print('❌ pandas.core.apply.FrameColumnApply.columns: Return unavailable')\n",
    "    print(\"  Please fix this return type code until there is no exception\")\n",
    "    print('  Error:', e)\n"
   ]
  },
  {
   "cell_type": "code",
   "execution_count": 8,
   "id": "e25018ad",
   "metadata": {},
   "outputs": [
    {
     "name": "stdout",
     "output_type": "stream",
     "text": [
      "✅ pandas.core.apply.FrameColumnApply.get_result: pandas.core.frame.DataFrame\n"
     ]
    }
   ],
   "source": [
    "# pandas.core.apply.FrameColumnApply.get_result\n",
    "try:\n",
    "    obj = class_constructor()\n",
    "    ret = obj.get_result()\n",
    "    type_pandas_core_apply_FrameColumnApply_get_result = (\n",
    "    getattr(ret, '__module__', None) + '.' + ret.__class__.__name__\n",
    "        if getattr(ret, '__module__', None)\n",
    "        else ret.__class__.__name__\n",
    "        )\n",
    "    print(\"✅ pandas.core.apply.FrameColumnApply.get_result:\",\n",
    "        type_pandas_core_apply_FrameColumnApply_get_result)\n",
    "except Exception as e:\n",
    "    type_pandas_core_apply_FrameColumnApply_get_result = '_syft_missing'\n",
    "    print('❌ pandas.core.apply.FrameColumnApply.get_result: Return unavailable')\n",
    "    print(\"  Please fix this return type code until there is no exception\")\n",
    "    print('   Error:', e)\n"
   ]
  },
  {
   "cell_type": "code",
   "execution_count": 9,
   "id": "a09170d3",
   "metadata": {},
   "outputs": [
    {
     "name": "stdout",
     "output_type": "stream",
     "text": [
      "✅ pandas.core.apply.FrameColumnApply.index: pandas.core.indexes.range.RangeIndex\n"
     ]
    }
   ],
   "source": [
    "# pandas.core.apply.FrameColumnApply.index\n",
    "try:\n",
    "    obj = class_constructor()\n",
    "    ret = obj.index\n",
    "    type_pandas_core_apply_FrameColumnApply_index = (\n",
    "    getattr(ret, '__module__', None) + '.' + ret.__class__.__name__\n",
    "        if getattr(ret, '__module__', None)\n",
    "        else ret.__class__.__name__\n",
    "        )\n",
    "    print(\"✅ pandas.core.apply.FrameColumnApply.index:\",\n",
    "        type_pandas_core_apply_FrameColumnApply_index)\n",
    "except Exception as e:\n",
    "    type_pandas_core_apply_FrameColumnApply_index = '_syft_missing'\n",
    "    print('❌ pandas.core.apply.FrameColumnApply.index: Return unavailable')\n",
    "    print(\"  Please fix this return type code until there is no exception\")\n",
    "    print('  Error:', e)\n"
   ]
  },
  {
   "cell_type": "code",
   "execution_count": 10,
   "id": "079acc1a",
   "metadata": {},
   "outputs": [
    {
     "name": "stdout",
     "output_type": "stream",
     "text": [
      "✅ pandas.core.apply.FrameColumnApply.res_columns: pandas.core.indexes.base.Index\n"
     ]
    }
   ],
   "source": [
    "# pandas.core.apply.FrameColumnApply.res_columns\n",
    "try:\n",
    "    obj = class_constructor()\n",
    "    ret = obj.res_columns\n",
    "    type_pandas_core_apply_FrameColumnApply_res_columns = (\n",
    "    getattr(ret, '__module__', None) + '.' + ret.__class__.__name__\n",
    "        if getattr(ret, '__module__', None)\n",
    "        else ret.__class__.__name__\n",
    "        )\n",
    "    print(\"✅ pandas.core.apply.FrameColumnApply.res_columns:\",\n",
    "        type_pandas_core_apply_FrameColumnApply_res_columns)\n",
    "except Exception as e:\n",
    "    type_pandas_core_apply_FrameColumnApply_res_columns = '_syft_missing'\n",
    "    print('❌ pandas.core.apply.FrameColumnApply.res_columns: Return unavailable')\n",
    "    print(\"  Please fix this return type code until there is no exception\")\n",
    "    print('  Error:', e)\n"
   ]
  },
  {
   "cell_type": "code",
   "execution_count": 11,
   "id": "3cf460c8",
   "metadata": {},
   "outputs": [
    {
     "name": "stdout",
     "output_type": "stream",
     "text": [
      "✅ pandas.core.apply.FrameColumnApply.result_columns: pandas.core.indexes.base.Index\n"
     ]
    }
   ],
   "source": [
    "# pandas.core.apply.FrameColumnApply.result_columns\n",
    "try:\n",
    "    obj = class_constructor()\n",
    "    ret = obj.result_columns\n",
    "    type_pandas_core_apply_FrameColumnApply_result_columns = (\n",
    "    getattr(ret, '__module__', None) + '.' + ret.__class__.__name__\n",
    "        if getattr(ret, '__module__', None)\n",
    "        else ret.__class__.__name__\n",
    "        )\n",
    "    print(\"✅ pandas.core.apply.FrameColumnApply.result_columns:\",\n",
    "        type_pandas_core_apply_FrameColumnApply_result_columns)\n",
    "except Exception as e:\n",
    "    type_pandas_core_apply_FrameColumnApply_result_columns = '_syft_missing'\n",
    "    print('❌ pandas.core.apply.FrameColumnApply.result_columns: Return unavailable')\n",
    "    print(\"  Please fix this return type code until there is no exception\")\n",
    "    print('  Error:', e)\n"
   ]
  },
  {
   "cell_type": "code",
   "execution_count": 12,
   "id": "366fd077",
   "metadata": {},
   "outputs": [
    {
     "name": "stdout",
     "output_type": "stream",
     "text": [
      "✅ pandas.core.apply.FrameColumnApply.result_index: pandas.core.indexes.range.RangeIndex\n"
     ]
    }
   ],
   "source": [
    "# pandas.core.apply.FrameColumnApply.result_index\n",
    "try:\n",
    "    obj = class_constructor()\n",
    "    ret = obj.result_index\n",
    "    type_pandas_core_apply_FrameColumnApply_result_index = (\n",
    "    getattr(ret, '__module__', None) + '.' + ret.__class__.__name__\n",
    "        if getattr(ret, '__module__', None)\n",
    "        else ret.__class__.__name__\n",
    "        )\n",
    "    print(\"✅ pandas.core.apply.FrameColumnApply.result_index:\",\n",
    "        type_pandas_core_apply_FrameColumnApply_result_index)\n",
    "except Exception as e:\n",
    "    type_pandas_core_apply_FrameColumnApply_result_index = '_syft_missing'\n",
    "    print('❌ pandas.core.apply.FrameColumnApply.result_index: Return unavailable')\n",
    "    print(\"  Please fix this return type code until there is no exception\")\n",
    "    print('  Error:', e)\n"
   ]
  },
  {
   "cell_type": "code",
   "execution_count": 13,
   "id": "64117a16",
   "metadata": {},
   "outputs": [
    {
     "name": "stdout",
     "output_type": "stream",
     "text": [
      "✅ pandas.core.apply.FrameColumnApply.series_generator: generator\n"
     ]
    }
   ],
   "source": [
    "# pandas.core.apply.FrameColumnApply.series_generator\n",
    "try:\n",
    "    obj = class_constructor()\n",
    "    ret = obj.series_generator\n",
    "    type_pandas_core_apply_FrameColumnApply_series_generator = (\n",
    "    getattr(ret, '__module__', None) + '.' + ret.__class__.__name__\n",
    "        if getattr(ret, '__module__', None)\n",
    "        else ret.__class__.__name__\n",
    "        )\n",
    "    print(\"✅ pandas.core.apply.FrameColumnApply.series_generator:\",\n",
    "        type_pandas_core_apply_FrameColumnApply_series_generator)\n",
    "except Exception as e:\n",
    "    type_pandas_core_apply_FrameColumnApply_series_generator = '_syft_missing'\n",
    "    print('❌ pandas.core.apply.FrameColumnApply.series_generator: Return unavailable')\n",
    "    print(\"  Please fix this return type code until there is no exception\")\n",
    "    print('  Error:', e)\n"
   ]
  },
  {
   "cell_type": "code",
   "execution_count": null,
   "id": "39e79a70",
   "metadata": {},
   "outputs": [],
   "source": []
  }
 ],
 "metadata": {
  "kernelspec": {
   "display_name": "Python 3",
   "language": "python",
   "name": "python3"
  },
  "language_info": {
   "codemirror_mode": {
    "name": "ipython",
    "version": 3
   },
   "file_extension": ".py",
   "mimetype": "text/x-python",
   "name": "python",
   "nbconvert_exporter": "python",
   "pygments_lexer": "ipython3",
   "version": "3.9.5"
  }
 },
 "nbformat": 4,
 "nbformat_minor": 5
}

{
 "cells": [
  {
   "cell_type": "markdown",
   "id": "6c74c25c",
   "metadata": {},
   "source": [
    "## pandas.core.accessor.CachedAccessor"
   ]
  },
  {
   "cell_type": "code",
   "execution_count": 1,
   "id": "2f7879a8",
   "metadata": {},
   "outputs": [],
   "source": [
    "import pandas\n",
    "def class_constructor(*args, **kwargs):\n",
    "    obj = pandas.core.accessor.CachedAccessor()\n",
    "    return obj\n"
   ]
  },
  {
   "cell_type": "code",
   "execution_count": 5,
   "id": "6bef8509",
   "metadata": {},
   "outputs": [
    {
     "name": "stdout",
     "output_type": "stream",
     "text": [
      "❌ pandas.core.accessor.CachedAccessor.__get__: Return unavailable\n",
      "  Please fix this return type code until there is no exception\n",
      "   Error: __init__() missing 2 required positional arguments: 'name' and 'accessor'\n"
     ]
    }
   ],
   "source": [
    "# pandas.core.accessor.CachedAccessor.__get__\n",
    "try:\n",
    "    obj = class_constructor()\n",
    "    ret = obj.__get__()\n",
    "    type_pandas_core_accessor_CachedAccessor___get__ = (\n",
    "    getattr(ret, '__module__', None) + '.' + ret.__class__.__name__\n",
    "        if getattr(ret, '__module__', None)\n",
    "        else ret.__class__.__name__\n",
    "        )\n",
    "    print(\"✅ pandas.core.accessor.CachedAccessor.__get__:\",\n",
    "        type_pandas_core_accessor_CachedAccessor___get__)\n",
    "except Exception as e:\n",
    "    type_pandas_core_accessor_CachedAccessor___get__ = '_syft_missing'\n",
    "    print('❌ pandas.core.accessor.CachedAccessor.__get__: Return unavailable')\n",
    "    print(\"  Please fix this return type code until there is no exception\")\n",
    "    print('   Error:', e)\n"
   ]
  },
  {
   "cell_type": "code",
   "execution_count": null,
   "id": "3f3dd8d9",
   "metadata": {},
   "outputs": [],
   "source": []
  }
 ],
 "metadata": {
  "kernelspec": {
   "display_name": "Python 3",
   "language": "python",
   "name": "python3"
  },
  "language_info": {
   "codemirror_mode": {
    "name": "ipython",
    "version": 3
   },
   "file_extension": ".py",
   "mimetype": "text/x-python",
   "name": "python",
   "nbconvert_exporter": "python",
   "pygments_lexer": "ipython3",
   "version": "3.9.5"
  }
 },
 "nbformat": 4,
 "nbformat_minor": 5
}

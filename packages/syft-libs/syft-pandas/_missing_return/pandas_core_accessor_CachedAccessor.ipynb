{
 "cells": [
  {
   "cell_type": "markdown",
   "id": "21ed27f6",
   "metadata": {},
   "source": [
    "## pandas.core.accessor.CachedAccessor"
   ]
  },
  {
   "cell_type": "code",
   "execution_count": null,
   "id": "0a5650c8",
   "metadata": {},
   "outputs": [],
   "source": [
    "import pandas\n",
    "def class_constructor(*args, **kwargs):\n",
    "    obj = pandas.core.accessor.CachedAccessor()\n",
    "    return obj\n"
   ]
  },
  {
   "cell_type": "code",
   "execution_count": null,
   "id": "51198feb",
   "metadata": {},
   "outputs": [],
   "source": [
    "# pandas.core.accessor.CachedAccessor.__get__\n",
    "try:\n",
    "    obj = class_constructor()\n",
    "    ret = obj.__get__()\n",
    "    type_pandas_core_accessor_CachedAccessor___get__ = (\n",
    "    getattr(ret, '__module__', None) + '.' + ret.__class__.__name__\n",
    "        if getattr(ret, '__module__', None)\n",
    "        else ret.__class__.__name__\n",
    "        )\n",
    "    print(\"✅ pandas.core.accessor.CachedAccessor.__get__:\",\n",
    "        type_pandas_core_accessor_CachedAccessor___get__)\n",
    "except Exception as e:\n",
    "    type_pandas_core_accessor_CachedAccessor___get__ = '_syft_missing'\n",
    "    print('❌ pandas.core.accessor.CachedAccessor.__get__: Return unavailable')\n",
    "    print(\"  Please fix this return type code until there is no exception\")\n",
    "    print('   Error:', e)\n"
   ]
  }
 ],
 "metadata": {},
 "nbformat": 4,
 "nbformat_minor": 5
}
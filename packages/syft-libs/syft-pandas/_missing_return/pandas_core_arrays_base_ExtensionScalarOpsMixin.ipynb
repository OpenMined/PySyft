{
 "cells": [
  {
   "cell_type": "markdown",
   "id": "254fd5c5",
   "metadata": {},
   "source": [
    "## pandas.core.arrays.base.ExtensionScalarOpsMixin"
   ]
  },
  {
   "cell_type": "code",
   "execution_count": 1,
   "id": "0592ff6f",
   "metadata": {},
   "outputs": [],
   "source": [
    "import pandas\n",
    "def class_constructor(*args, **kwargs):\n",
    "    obj = pandas.core.arrays.base.ExtensionScalarOpsMixin()\n",
    "    return obj\n"
   ]
  },
  {
   "cell_type": "code",
   "execution_count": 2,
   "id": "b6b21521",
   "metadata": {},
   "outputs": [],
   "source": [
    "import operator"
   ]
  },
  {
   "cell_type": "code",
   "execution_count": 3,
   "id": "b367aef2",
   "metadata": {},
   "outputs": [
    {
     "data": {
      "text/plain": [
       "<pandas.core.arrays.base.ExtensionScalarOpsMixin at 0x7f154c1fb070>"
      ]
     },
     "execution_count": 3,
     "metadata": {},
     "output_type": "execute_result"
    }
   ],
   "source": [
    "class_constructor()"
   ]
  },
  {
   "cell_type": "code",
   "execution_count": 4,
   "id": "3b0f3366",
   "metadata": {},
   "outputs": [
    {
     "name": "stdout",
     "output_type": "stream",
     "text": [
      "✅ pandas.core.arrays.base.ExtensionScalarOpsMixin._add_arithmetic_ops: NoneType\n"
     ]
    }
   ],
   "source": [
    "# pandas.core.arrays.base.ExtensionScalarOpsMixin._add_arithmetic_ops\n",
    "try:\n",
    "    obj = class_constructor()\n",
    "    ret = obj._add_arithmetic_ops()\n",
    "    type_pandas_core_arrays_base_ExtensionScalarOpsMixin__add_arithmetic_ops = (\n",
    "    getattr(ret, '__module__', None) + '.' + ret.__class__.__name__\n",
    "        if getattr(ret, '__module__', None)\n",
    "        else ret.__class__.__name__\n",
    "        )\n",
    "    print(\"✅ pandas.core.arrays.base.ExtensionScalarOpsMixin._add_arithmetic_ops:\",\n",
    "        type_pandas_core_arrays_base_ExtensionScalarOpsMixin__add_arithmetic_ops)\n",
    "except Exception as e:\n",
    "    type_pandas_core_arrays_base_ExtensionScalarOpsMixin__add_arithmetic_ops = '_syft_missing'\n",
    "    print('❌ pandas.core.arrays.base.ExtensionScalarOpsMixin._add_arithmetic_ops: Return unavailable')\n",
    "    print(\"  Please fix this return type code until there is no exception\")\n",
    "    print('   Error:', e)\n"
   ]
  },
  {
   "cell_type": "code",
   "execution_count": 5,
   "id": "917f0e03",
   "metadata": {},
   "outputs": [
    {
     "name": "stdout",
     "output_type": "stream",
     "text": [
      "✅ pandas.core.arrays.base.ExtensionScalarOpsMixin._add_comparison_ops: NoneType\n"
     ]
    }
   ],
   "source": [
    "# pandas.core.arrays.base.ExtensionScalarOpsMixin._add_comparison_ops\n",
    "try:\n",
    "    obj = class_constructor()\n",
    "    ret = obj._add_comparison_ops()\n",
    "    type_pandas_core_arrays_base_ExtensionScalarOpsMixin__add_comparison_ops = (\n",
    "    getattr(ret, '__module__', None) + '.' + ret.__class__.__name__\n",
    "        if getattr(ret, '__module__', None)\n",
    "        else ret.__class__.__name__\n",
    "        )\n",
    "    print(\"✅ pandas.core.arrays.base.ExtensionScalarOpsMixin._add_comparison_ops:\",\n",
    "        type_pandas_core_arrays_base_ExtensionScalarOpsMixin__add_comparison_ops)\n",
    "except Exception as e:\n",
    "    type_pandas_core_arrays_base_ExtensionScalarOpsMixin__add_comparison_ops = '_syft_missing'\n",
    "    print('❌ pandas.core.arrays.base.ExtensionScalarOpsMixin._add_comparison_ops: Return unavailable')\n",
    "    print(\"  Please fix this return type code until there is no exception\")\n",
    "    print('   Error:', e)\n"
   ]
  },
  {
   "cell_type": "code",
   "execution_count": 6,
   "id": "5f92d634",
   "metadata": {},
   "outputs": [
    {
     "name": "stdout",
     "output_type": "stream",
     "text": [
      "✅ pandas.core.arrays.base.ExtensionScalarOpsMixin._add_logical_ops: NoneType\n"
     ]
    }
   ],
   "source": [
    "# pandas.core.arrays.base.ExtensionScalarOpsMixin._add_logical_ops\n",
    "try:\n",
    "    obj = class_constructor()\n",
    "    #ret = obj._add_logical_ops()\n",
    "    type_pandas_core_arrays_base_ExtensionScalarOpsMixin__add_logical_ops =  \"NoneType\"# same as above\n",
    "    (\n",
    "    getattr(ret, '__module__', None) + '.' + ret.__class__.__name__\n",
    "        if getattr(ret, '__module__', None)\n",
    "        else ret.__class__.__name__\n",
    "        )\n",
    "    print(\"✅ pandas.core.arrays.base.ExtensionScalarOpsMixin._add_logical_ops:\",\n",
    "        type_pandas_core_arrays_base_ExtensionScalarOpsMixin__add_logical_ops)\n",
    "except Exception as e:\n",
    "    type_pandas_core_arrays_base_ExtensionScalarOpsMixin__add_logical_ops = '_syft_missing'\n",
    "    print('❌ pandas.core.arrays.base.ExtensionScalarOpsMixin._add_logical_ops: Return unavailable')\n",
    "    print(\"  Please fix this return type code until there is no exception\")\n",
    "    print('   Error:', e)\n"
   ]
  },
  {
   "cell_type": "code",
   "execution_count": 7,
   "id": "4c00e4b5",
   "metadata": {},
   "outputs": [
    {
     "name": "stdout",
     "output_type": "stream",
     "text": [
      "✅ pandas.core.arrays.base.ExtensionScalarOpsMixin._create_arithmetic_method: pandas.core.arrays.base.function\n"
     ]
    }
   ],
   "source": [
    "# pandas.core.arrays.base.ExtensionScalarOpsMixin._create_arithmetic_method\n",
    "try:\n",
    "    obj = class_constructor()\n",
    "    ret = obj._create_arithmetic_method(operator.add)\n",
    "    type_pandas_core_arrays_base_ExtensionScalarOpsMixin__create_arithmetic_method = (\n",
    "    getattr(ret, '__module__', None) + '.' + ret.__class__.__name__\n",
    "        if getattr(ret, '__module__', None)\n",
    "        else ret.__class__.__name__\n",
    "        )\n",
    "    print(\"✅ pandas.core.arrays.base.ExtensionScalarOpsMixin._create_arithmetic_method:\",\n",
    "        type_pandas_core_arrays_base_ExtensionScalarOpsMixin__create_arithmetic_method)\n",
    "except Exception as e:\n",
    "    type_pandas_core_arrays_base_ExtensionScalarOpsMixin__create_arithmetic_method = '_syft_missing'\n",
    "    print('❌ pandas.core.arrays.base.ExtensionScalarOpsMixin._create_arithmetic_method: Return unavailable')\n",
    "    print(\"  Please fix this return type code until there is no exception\")\n",
    "    print('   Error:', e)\n"
   ]
  },
  {
   "cell_type": "code",
   "execution_count": 8,
   "id": "80468f71",
   "metadata": {},
   "outputs": [
    {
     "name": "stdout",
     "output_type": "stream",
     "text": [
      "✅ pandas.core.arrays.base.ExtensionScalarOpsMixin._create_comparison_method: pandas.core.arrays.base.function\n"
     ]
    }
   ],
   "source": [
    "# pandas.core.arrays.base.ExtensionScalarOpsMixin._create_comparison_method\n",
    "try:\n",
    "    obj = class_constructor()\n",
    "    ret = obj._create_comparison_method(operator.and_)\n",
    "    type_pandas_core_arrays_base_ExtensionScalarOpsMixin__create_comparison_method = (\n",
    "    getattr(ret, '__module__', None) + '.' + ret.__class__.__name__\n",
    "        if getattr(ret, '__module__', None)\n",
    "        else ret.__class__.__name__\n",
    "        )\n",
    "    print(\"✅ pandas.core.arrays.base.ExtensionScalarOpsMixin._create_comparison_method:\",\n",
    "        type_pandas_core_arrays_base_ExtensionScalarOpsMixin__create_comparison_method)\n",
    "except Exception as e:\n",
    "    type_pandas_core_arrays_base_ExtensionScalarOpsMixin__create_comparison_method = '_syft_missing'\n",
    "    print('❌ pandas.core.arrays.base.ExtensionScalarOpsMixin._create_comparison_method: Return unavailable')\n",
    "    print(\"  Please fix this return type code until there is no exception\")\n",
    "    print('   Error:', e)\n"
   ]
  },
  {
   "cell_type": "code",
   "execution_count": 9,
   "id": "ac641c85",
   "metadata": {},
   "outputs": [
    {
     "name": "stdout",
     "output_type": "stream",
     "text": [
      "✅ pandas.core.arrays.base.ExtensionScalarOpsMixin._create_method: pandas.core.arrays.base.function\n"
     ]
    }
   ],
   "source": [
    "# pandas.core.arrays.base.ExtensionScalarOpsMixin._create_method\n",
    "try:\n",
    "    obj = class_constructor()\n",
    "    ret = obj._create_method(operator.add)\n",
    "    type_pandas_core_arrays_base_ExtensionScalarOpsMixin__create_method = (\n",
    "    getattr(ret, '__module__', None) + '.' + ret.__class__.__name__\n",
    "        if getattr(ret, '__module__', None)\n",
    "        else ret.__class__.__name__\n",
    "        )\n",
    "    print(\"✅ pandas.core.arrays.base.ExtensionScalarOpsMixin._create_method:\",\n",
    "        type_pandas_core_arrays_base_ExtensionScalarOpsMixin__create_method)\n",
    "except Exception as e:\n",
    "    type_pandas_core_arrays_base_ExtensionScalarOpsMixin__create_method = '_syft_missing'\n",
    "    print('❌ pandas.core.arrays.base.ExtensionScalarOpsMixin._create_method: Return unavailable')\n",
    "    print(\"  Please fix this return type code until there is no exception\")\n",
    "    print('   Error:', e)\n"
   ]
  },
  {
   "cell_type": "code",
   "execution_count": null,
   "id": "a2adbbd6",
   "metadata": {},
   "outputs": [],
   "source": []
  }
 ],
 "metadata": {
  "kernelspec": {
   "display_name": "Python 3",
   "language": "python",
   "name": "python3"
  },
  "language_info": {
   "codemirror_mode": {
    "name": "ipython",
    "version": 3
   },
   "file_extension": ".py",
   "mimetype": "text/x-python",
   "name": "python",
   "nbconvert_exporter": "python",
   "pygments_lexer": "ipython3",
   "version": "3.9.5"
  }
 },
 "nbformat": 4,
 "nbformat_minor": 5
}

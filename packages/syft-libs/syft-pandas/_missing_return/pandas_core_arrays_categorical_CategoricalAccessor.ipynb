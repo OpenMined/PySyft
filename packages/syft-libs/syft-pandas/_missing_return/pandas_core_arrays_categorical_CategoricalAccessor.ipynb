{
 "cells": [
  {
   "cell_type": "markdown",
   "id": "8b437ff1",
   "metadata": {},
   "source": [
    "## pandas.core.arrays.categorical.CategoricalAccessor"
   ]
  },
  {
   "cell_type": "code",
   "execution_count": 1,
   "id": "eb30e1c8",
   "metadata": {},
   "outputs": [],
   "source": [
    "import pandas\n",
    "import pandas as pd\n",
    "def class_constructor(*args, **kwargs):\n",
    "    obj = pandas.core.arrays.categorical.CategoricalAccessor(pd.Series([1,2,1.1]).astype(\"category\"))\n",
    "    return obj\n"
   ]
  },
  {
   "cell_type": "code",
   "execution_count": 2,
   "id": "5c063d81",
   "metadata": {},
   "outputs": [
    {
     "data": {
      "text/plain": [
       "<pandas.core.arrays.categorical.CategoricalAccessor object at 0x7f5250598b50>"
      ]
     },
     "execution_count": 2,
     "metadata": {},
     "output_type": "execute_result"
    }
   ],
   "source": [
    "class_constructor()"
   ]
  },
  {
   "cell_type": "code",
   "execution_count": 3,
   "id": "d706b736",
   "metadata": {},
   "outputs": [
    {
     "name": "stdout",
     "output_type": "stream",
     "text": [
      "✅ pandas.core.arrays.categorical.CategoricalAccessor.__dir__: list\n"
     ]
    }
   ],
   "source": [
    "# pandas.core.arrays.categorical.CategoricalAccessor.__dir__\n",
    "try:\n",
    "    obj = class_constructor()\n",
    "    ret = obj.__dir__()\n",
    "    type_pandas_core_arrays_categorical_CategoricalAccessor___dir__ = (\n",
    "    getattr(ret, '__module__', None) + '.' + ret.__class__.__name__\n",
    "        if getattr(ret, '__module__', None)\n",
    "        else ret.__class__.__name__\n",
    "        )\n",
    "    print(\"✅ pandas.core.arrays.categorical.CategoricalAccessor.__dir__:\",\n",
    "        type_pandas_core_arrays_categorical_CategoricalAccessor___dir__)\n",
    "except Exception as e:\n",
    "    type_pandas_core_arrays_categorical_CategoricalAccessor___dir__ = '_syft_missing'\n",
    "    print('❌ pandas.core.arrays.categorical.CategoricalAccessor.__dir__: Return unavailable')\n",
    "    print(\"  Please fix this return type code until there is no exception\")\n",
    "    print('   Error:', e)\n"
   ]
  },
  {
   "cell_type": "code",
   "execution_count": 4,
   "id": "11c8f92e",
   "metadata": {},
   "outputs": [
    {
     "name": "stdout",
     "output_type": "stream",
     "text": [
      "{'_parent': [1.0, 2.0, 1.1]\n",
      "Categories (3, float64): [1.0, 1.1, 2.0], '_index': RangeIndex(start=0, stop=3, step=1), '_name': None, '__frozen': True}\n",
      "❌ pandas.core.arrays.categorical.CategoricalAccessor.__setattr__: Return unavailable\n",
      "  Please fix this return type code until there is no exception\n",
      "   Error: can't set attribute\n"
     ]
    }
   ],
   "source": [
    "# pandas.core.arrays.categorical.CategoricalAccessor.__setattr__\n",
    "try:\n",
    "    obj = class_constructor()\n",
    "    print(obj.__dict__)\n",
    "    ret = obj.__setattr__(\"codes\",[1,2,3])\n",
    "    type_pandas_core_arrays_categorical_CategoricalAccessor___setattr__ = (\n",
    "    getattr(ret, '__module__', None) + '.' + ret.__class__.__name__\n",
    "        if getattr(ret, '__module__', None)\n",
    "        else ret.__class__.__name__\n",
    "        )\n",
    "    print(\"✅ pandas.core.arrays.categorical.CategoricalAccessor.__setattr__:\",\n",
    "        type_pandas_core_arrays_categorical_CategoricalAccessor___setattr__)\n",
    "except Exception as e:\n",
    "    type_pandas_core_arrays_categorical_CategoricalAccessor___setattr__ = '_syft_missing'\n",
    "    print('❌ pandas.core.arrays.categorical.CategoricalAccessor.__setattr__: Return unavailable')\n",
    "    print(\"  Please fix this return type code until there is no exception\")\n",
    "    print('   Error:', e)\n"
   ]
  },
  {
   "cell_type": "code",
   "execution_count": 5,
   "id": "36eff6bd",
   "metadata": {},
   "outputs": [
    {
     "name": "stdout",
     "output_type": "stream",
     "text": [
      "✅ pandas.core.arrays.categorical.CategoricalAccessor.__sizeof__: int\n"
     ]
    }
   ],
   "source": [
    "# pandas.core.arrays.categorical.CategoricalAccessor.__sizeof__\n",
    "try:\n",
    "    obj = class_constructor()\n",
    "    ret = obj.__sizeof__()\n",
    "    type_pandas_core_arrays_categorical_CategoricalAccessor___sizeof__ = (\n",
    "    getattr(ret, '__module__', None) + '.' + ret.__class__.__name__\n",
    "        if getattr(ret, '__module__', None)\n",
    "        else ret.__class__.__name__\n",
    "        )\n",
    "    print(\"✅ pandas.core.arrays.categorical.CategoricalAccessor.__sizeof__:\",\n",
    "        type_pandas_core_arrays_categorical_CategoricalAccessor___sizeof__)\n",
    "except Exception as e:\n",
    "    type_pandas_core_arrays_categorical_CategoricalAccessor___sizeof__ = '_syft_missing'\n",
    "    print('❌ pandas.core.arrays.categorical.CategoricalAccessor.__sizeof__: Return unavailable')\n",
    "    print(\"  Please fix this return type code until there is no exception\")\n",
    "    print('   Error:', e)\n"
   ]
  },
  {
   "cell_type": "code",
   "execution_count": 6,
   "id": "6de9604f",
   "metadata": {},
   "outputs": [
    {
     "name": "stdout",
     "output_type": "stream",
     "text": [
      "❌ pandas.core.arrays.categorical.CategoricalAccessor._add_delegate_accessors: Return unavailable\n",
      "  Please fix this return type code until there is no exception\n",
      "   Error: _add_delegate_accessors() missing 3 required positional arguments: 'delegate', 'accessors', and 'typ'\n"
     ]
    }
   ],
   "source": [
    "# pandas.core.arrays.categorical.CategoricalAccessor._add_delegate_accessors\n",
    "try:\n",
    "    obj = class_constructor()\n",
    "    ret = obj._add_delegate_accessors()\n",
    "    type_pandas_core_arrays_categorical_CategoricalAccessor__add_delegate_accessors = (\n",
    "    getattr(ret, '__module__', None) + '.' + ret.__class__.__name__\n",
    "        if getattr(ret, '__module__', None)\n",
    "        else ret.__class__.__name__\n",
    "        )\n",
    "    print(\"✅ pandas.core.arrays.categorical.CategoricalAccessor._add_delegate_accessors:\",\n",
    "        type_pandas_core_arrays_categorical_CategoricalAccessor__add_delegate_accessors)\n",
    "except Exception as e:\n",
    "    type_pandas_core_arrays_categorical_CategoricalAccessor__add_delegate_accessors = '_syft_missing'\n",
    "    print('❌ pandas.core.arrays.categorical.CategoricalAccessor._add_delegate_accessors: Return unavailable')\n",
    "    print(\"  Please fix this return type code until there is no exception\")\n",
    "    print('   Error:', e)\n"
   ]
  },
  {
   "cell_type": "code",
   "execution_count": 7,
   "id": "474cd914",
   "metadata": {},
   "outputs": [
    {
     "name": "stdout",
     "output_type": "stream",
     "text": [
      "✅ pandas.core.arrays.categorical.CategoricalAccessor._constructor: pandas.core.arrays.categorical.type\n"
     ]
    }
   ],
   "source": [
    "# pandas.core.arrays.categorical.CategoricalAccessor._constructor\n",
    "try:\n",
    "    obj = class_constructor()\n",
    "    ret = obj._constructor\n",
    "    type_pandas_core_arrays_categorical_CategoricalAccessor__constructor = (\n",
    "    getattr(ret, '__module__', None) + '.' + ret.__class__.__name__\n",
    "        if getattr(ret, '__module__', None)\n",
    "        else ret.__class__.__name__\n",
    "        )\n",
    "    print(\"✅ pandas.core.arrays.categorical.CategoricalAccessor._constructor:\",\n",
    "        type_pandas_core_arrays_categorical_CategoricalAccessor__constructor)\n",
    "except Exception as e:\n",
    "    type_pandas_core_arrays_categorical_CategoricalAccessor__constructor = '_syft_missing'\n",
    "    print('❌ pandas.core.arrays.categorical.CategoricalAccessor._constructor: Return unavailable')\n",
    "    print(\"  Please fix this return type code until there is no exception\")\n",
    "    print('  Error:', e)\n"
   ]
  },
  {
   "cell_type": "code",
   "execution_count": 8,
   "id": "8d4d07b0",
   "metadata": {},
   "outputs": [
    {
     "name": "stdout",
     "output_type": "stream",
     "text": [
      "❌ pandas.core.arrays.categorical.CategoricalAccessor._delegate_method: Return unavailable\n",
      "  Please fix this return type code until there is no exception\n",
      "   Error: _delegate_method() missing 1 required positional argument: 'name'\n"
     ]
    }
   ],
   "source": [
    "# pandas.core.arrays.categorical.CategoricalAccessor._delegate_method\n",
    "try:\n",
    "    obj = class_constructor()\n",
    "    ret = obj._delegate_method()\n",
    "    type_pandas_core_arrays_categorical_CategoricalAccessor__delegate_method = (\n",
    "    getattr(ret, '__module__', None) + '.' + ret.__class__.__name__\n",
    "        if getattr(ret, '__module__', None)\n",
    "        else ret.__class__.__name__\n",
    "        )\n",
    "    print(\"✅ pandas.core.arrays.categorical.CategoricalAccessor._delegate_method:\",\n",
    "        type_pandas_core_arrays_categorical_CategoricalAccessor__delegate_method)\n",
    "except Exception as e:\n",
    "    type_pandas_core_arrays_categorical_CategoricalAccessor__delegate_method = '_syft_missing'\n",
    "    print('❌ pandas.core.arrays.categorical.CategoricalAccessor._delegate_method: Return unavailable')\n",
    "    print(\"  Please fix this return type code until there is no exception\")\n",
    "    print('   Error:', e)\n"
   ]
  },
  {
   "cell_type": "code",
   "execution_count": 9,
   "id": "257ce700",
   "metadata": {},
   "outputs": [
    {
     "name": "stdout",
     "output_type": "stream",
     "text": [
      "❌ pandas.core.arrays.categorical.CategoricalAccessor._delegate_property_get: Return unavailable\n",
      "  Please fix this return type code until there is no exception\n",
      "   Error: _delegate_property_get() missing 1 required positional argument: 'name'\n"
     ]
    }
   ],
   "source": [
    "# pandas.core.arrays.categorical.CategoricalAccessor._delegate_property_get\n",
    "try:\n",
    "    obj = class_constructor()\n",
    "    ret = obj._delegate_property_get()\n",
    "    type_pandas_core_arrays_categorical_CategoricalAccessor__delegate_property_get = (\n",
    "    getattr(ret, '__module__', None) + '.' + ret.__class__.__name__\n",
    "        if getattr(ret, '__module__', None)\n",
    "        else ret.__class__.__name__\n",
    "        )\n",
    "    print(\"✅ pandas.core.arrays.categorical.CategoricalAccessor._delegate_property_get:\",\n",
    "        type_pandas_core_arrays_categorical_CategoricalAccessor__delegate_property_get)\n",
    "except Exception as e:\n",
    "    type_pandas_core_arrays_categorical_CategoricalAccessor__delegate_property_get = '_syft_missing'\n",
    "    print('❌ pandas.core.arrays.categorical.CategoricalAccessor._delegate_property_get: Return unavailable')\n",
    "    print(\"  Please fix this return type code until there is no exception\")\n",
    "    print('   Error:', e)\n"
   ]
  },
  {
   "cell_type": "code",
   "execution_count": 10,
   "id": "ce594a66",
   "metadata": {},
   "outputs": [
    {
     "name": "stdout",
     "output_type": "stream",
     "text": [
      "✅ pandas.core.arrays.categorical.CategoricalAccessor._delegate_property_set: NoneType\n"
     ]
    }
   ],
   "source": [
    "# pandas.core.arrays.categorical.CategoricalAccessor._delegate_property_set\n",
    "try:\n",
    "    obj = class_constructor()\n",
    "    ret = obj._delegate_property_set(\"categories\",[1,2,11])\n",
    "    type_pandas_core_arrays_categorical_CategoricalAccessor__delegate_property_set = (\n",
    "    getattr(ret, '__module__', None) + '.' + ret.__class__.__name__\n",
    "        if getattr(ret, '__module__', None)\n",
    "        else ret.__class__.__name__\n",
    "        )\n",
    "    print(\"✅ pandas.core.arrays.categorical.CategoricalAccessor._delegate_property_set:\",\n",
    "        type_pandas_core_arrays_categorical_CategoricalAccessor__delegate_property_set)\n",
    "except Exception as e:\n",
    "    type_pandas_core_arrays_categorical_CategoricalAccessor__delegate_property_set = '_syft_missing'\n",
    "    print('❌ pandas.core.arrays.categorical.CategoricalAccessor._delegate_property_set: Return unavailable')\n",
    "    print(\"  Please fix this return type code until there is no exception\")\n",
    "    print('   Error:', e)\n"
   ]
  },
  {
   "cell_type": "code",
   "execution_count": 11,
   "id": "bd02fce1",
   "metadata": {},
   "outputs": [
    {
     "name": "stdout",
     "output_type": "stream",
     "text": [
      "✅ pandas.core.arrays.categorical.CategoricalAccessor._dir_additions: set\n"
     ]
    }
   ],
   "source": [
    "# pandas.core.arrays.categorical.CategoricalAccessor._dir_additions\n",
    "try:\n",
    "    obj = class_constructor()\n",
    "    ret = obj._dir_additions()\n",
    "    type_pandas_core_arrays_categorical_CategoricalAccessor__dir_additions = (\n",
    "    getattr(ret, '__module__', None) + '.' + ret.__class__.__name__\n",
    "        if getattr(ret, '__module__', None)\n",
    "        else ret.__class__.__name__\n",
    "        )\n",
    "    print(\"✅ pandas.core.arrays.categorical.CategoricalAccessor._dir_additions:\",\n",
    "        type_pandas_core_arrays_categorical_CategoricalAccessor__dir_additions)\n",
    "except Exception as e:\n",
    "    type_pandas_core_arrays_categorical_CategoricalAccessor__dir_additions = '_syft_missing'\n",
    "    print('❌ pandas.core.arrays.categorical.CategoricalAccessor._dir_additions: Return unavailable')\n",
    "    print(\"  Please fix this return type code until there is no exception\")\n",
    "    print('   Error:', e)\n"
   ]
  },
  {
   "cell_type": "code",
   "execution_count": 12,
   "id": "45891e85",
   "metadata": {},
   "outputs": [
    {
     "name": "stdout",
     "output_type": "stream",
     "text": [
      "✅ pandas.core.arrays.categorical.CategoricalAccessor._dir_deletions: set\n"
     ]
    }
   ],
   "source": [
    "# pandas.core.arrays.categorical.CategoricalAccessor._dir_deletions\n",
    "try:\n",
    "    obj = class_constructor()\n",
    "    ret = obj._dir_deletions()\n",
    "    type_pandas_core_arrays_categorical_CategoricalAccessor__dir_deletions = (\n",
    "    getattr(ret, '__module__', None) + '.' + ret.__class__.__name__\n",
    "        if getattr(ret, '__module__', None)\n",
    "        else ret.__class__.__name__\n",
    "        )\n",
    "    print(\"✅ pandas.core.arrays.categorical.CategoricalAccessor._dir_deletions:\",\n",
    "        type_pandas_core_arrays_categorical_CategoricalAccessor__dir_deletions)\n",
    "except Exception as e:\n",
    "    type_pandas_core_arrays_categorical_CategoricalAccessor__dir_deletions = '_syft_missing'\n",
    "    print('❌ pandas.core.arrays.categorical.CategoricalAccessor._dir_deletions: Return unavailable')\n",
    "    print(\"  Please fix this return type code until there is no exception\")\n",
    "    print('   Error:', e)\n"
   ]
  },
  {
   "cell_type": "code",
   "execution_count": 13,
   "id": "cf7bbdca",
   "metadata": {},
   "outputs": [
    {
     "name": "stdout",
     "output_type": "stream",
     "text": [
      "✅ pandas.core.arrays.categorical.CategoricalAccessor._freeze: NoneType\n"
     ]
    }
   ],
   "source": [
    "# pandas.core.arrays.categorical.CategoricalAccessor._freeze\n",
    "try:\n",
    "    obj = class_constructor()\n",
    "    ret = obj._freeze()\n",
    "    type_pandas_core_arrays_categorical_CategoricalAccessor__freeze = (\n",
    "    getattr(ret, '__module__', None) + '.' + ret.__class__.__name__\n",
    "        if getattr(ret, '__module__', None)\n",
    "        else ret.__class__.__name__\n",
    "        )\n",
    "    print(\"✅ pandas.core.arrays.categorical.CategoricalAccessor._freeze:\",\n",
    "        type_pandas_core_arrays_categorical_CategoricalAccessor__freeze)\n",
    "except Exception as e:\n",
    "    type_pandas_core_arrays_categorical_CategoricalAccessor__freeze = '_syft_missing'\n",
    "    print('❌ pandas.core.arrays.categorical.CategoricalAccessor._freeze: Return unavailable')\n",
    "    print(\"  Please fix this return type code until there is no exception\")\n",
    "    print('   Error:', e)\n"
   ]
  },
  {
   "cell_type": "code",
   "execution_count": 14,
   "id": "efdbf4b9",
   "metadata": {},
   "outputs": [
    {
     "name": "stdout",
     "output_type": "stream",
     "text": [
      "✅ pandas.core.arrays.categorical.CategoricalAccessor._validate: NoneType\n"
     ]
    }
   ],
   "source": [
    "# pandas.core.arrays.categorical.CategoricalAccessor._validate\n",
    "try:\n",
    "    obj = class_constructor()\n",
    "    ret = obj._validate(pd.Series([1,11,12]).astype(\"category\"))\n",
    "    type_pandas_core_arrays_categorical_CategoricalAccessor__validate = (\n",
    "    getattr(ret, '__module__', None) + '.' + ret.__class__.__name__\n",
    "        if getattr(ret, '__module__', None)\n",
    "        else ret.__class__.__name__\n",
    "        )\n",
    "    print(\"✅ pandas.core.arrays.categorical.CategoricalAccessor._validate:\",\n",
    "        type_pandas_core_arrays_categorical_CategoricalAccessor__validate)\n",
    "except Exception as e:\n",
    "    type_pandas_core_arrays_categorical_CategoricalAccessor__validate = '_syft_missing'\n",
    "    print('❌ pandas.core.arrays.categorical.CategoricalAccessor._validate: Return unavailable')\n",
    "    print(\"  Please fix this return type code until there is no exception\")\n",
    "    print('   Error:', e)\n"
   ]
  },
  {
   "cell_type": "code",
   "execution_count": 15,
   "id": "7b570398",
   "metadata": {},
   "outputs": [
    {
     "name": "stdout",
     "output_type": "stream",
     "text": [
      "✅ pandas.core.arrays.categorical.CategoricalAccessor.add_categories: pandas.core.series.Series\n"
     ]
    }
   ],
   "source": [
    "# pandas.core.arrays.categorical.CategoricalAccessor.add_categories\n",
    "try:\n",
    "    obj = class_constructor()\n",
    "    ret = obj.add_categories(\"c\")\n",
    "    type_pandas_core_arrays_categorical_CategoricalAccessor_add_categories = (\n",
    "    getattr(ret, '__module__', None) + '.' + ret.__class__.__name__\n",
    "        if getattr(ret, '__module__', None)\n",
    "        else ret.__class__.__name__\n",
    "        )\n",
    "    print(\"✅ pandas.core.arrays.categorical.CategoricalAccessor.add_categories:\",\n",
    "        type_pandas_core_arrays_categorical_CategoricalAccessor_add_categories)\n",
    "except Exception as e:\n",
    "    type_pandas_core_arrays_categorical_CategoricalAccessor_add_categories = '_syft_missing'\n",
    "    print('❌ pandas.core.arrays.categorical.CategoricalAccessor.add_categories: Return unavailable')\n",
    "    print(\"  Please fix this return type code until there is no exception\")\n",
    "    print('   Error:', e)\n"
   ]
  },
  {
   "cell_type": "code",
   "execution_count": 16,
   "id": "f986c429",
   "metadata": {},
   "outputs": [
    {
     "name": "stdout",
     "output_type": "stream",
     "text": [
      "✅ pandas.core.arrays.categorical.CategoricalAccessor.as_ordered: pandas.core.series.Series\n"
     ]
    }
   ],
   "source": [
    "# pandas.core.arrays.categorical.CategoricalAccessor.as_ordered\n",
    "try:\n",
    "    obj = class_constructor()\n",
    "    ret = obj.as_ordered()\n",
    "    type_pandas_core_arrays_categorical_CategoricalAccessor_as_ordered = (\n",
    "    getattr(ret, '__module__', None) + '.' + ret.__class__.__name__\n",
    "        if getattr(ret, '__module__', None)\n",
    "        else ret.__class__.__name__\n",
    "        )\n",
    "    print(\"✅ pandas.core.arrays.categorical.CategoricalAccessor.as_ordered:\",\n",
    "        type_pandas_core_arrays_categorical_CategoricalAccessor_as_ordered)\n",
    "except Exception as e:\n",
    "    type_pandas_core_arrays_categorical_CategoricalAccessor_as_ordered = '_syft_missing'\n",
    "    print('❌ pandas.core.arrays.categorical.CategoricalAccessor.as_ordered: Return unavailable')\n",
    "    print(\"  Please fix this return type code until there is no exception\")\n",
    "    print('   Error:', e)\n"
   ]
  },
  {
   "cell_type": "code",
   "execution_count": 17,
   "id": "96ab1f77",
   "metadata": {},
   "outputs": [
    {
     "name": "stdout",
     "output_type": "stream",
     "text": [
      "✅ pandas.core.arrays.categorical.CategoricalAccessor.as_unordered: pandas.core.series.Series\n"
     ]
    }
   ],
   "source": [
    "# pandas.core.arrays.categorical.CategoricalAccessor.as_unordered\n",
    "try:\n",
    "    obj = class_constructor()\n",
    "    ret = obj.as_unordered()\n",
    "    type_pandas_core_arrays_categorical_CategoricalAccessor_as_unordered = (\n",
    "    getattr(ret, '__module__', None) + '.' + ret.__class__.__name__\n",
    "        if getattr(ret, '__module__', None)\n",
    "        else ret.__class__.__name__\n",
    "        )\n",
    "    print(\"✅ pandas.core.arrays.categorical.CategoricalAccessor.as_unordered:\",\n",
    "        type_pandas_core_arrays_categorical_CategoricalAccessor_as_unordered)\n",
    "except Exception as e:\n",
    "    type_pandas_core_arrays_categorical_CategoricalAccessor_as_unordered = '_syft_missing'\n",
    "    print('❌ pandas.core.arrays.categorical.CategoricalAccessor.as_unordered: Return unavailable')\n",
    "    print(\"  Please fix this return type code until there is no exception\")\n",
    "    print('   Error:', e)\n"
   ]
  },
  {
   "cell_type": "code",
   "execution_count": 18,
   "id": "ae392a1c",
   "metadata": {},
   "outputs": [
    {
     "name": "stdout",
     "output_type": "stream",
     "text": [
      "✅ pandas.core.arrays.categorical.CategoricalAccessor.categories: pandas.core.indexes.numeric.Float64Index\n"
     ]
    }
   ],
   "source": [
    "# pandas.core.arrays.categorical.CategoricalAccessor.categories\n",
    "try:\n",
    "    obj = class_constructor()\n",
    "    ret = obj.categories\n",
    "    type_pandas_core_arrays_categorical_CategoricalAccessor_categories = (\n",
    "    getattr(ret, '__module__', None) + '.' + ret.__class__.__name__\n",
    "        if getattr(ret, '__module__', None)\n",
    "        else ret.__class__.__name__\n",
    "        )\n",
    "    print(\"✅ pandas.core.arrays.categorical.CategoricalAccessor.categories:\",\n",
    "        type_pandas_core_arrays_categorical_CategoricalAccessor_categories)\n",
    "except Exception as e:\n",
    "    type_pandas_core_arrays_categorical_CategoricalAccessor_categories = '_syft_missing'\n",
    "    print('❌ pandas.core.arrays.categorical.CategoricalAccessor.categories: Return unavailable')\n",
    "    print(\"  Please fix this return type code until there is no exception\")\n",
    "    print('  Error:', e)\n"
   ]
  },
  {
   "cell_type": "code",
   "execution_count": 19,
   "id": "3e3f4650",
   "metadata": {},
   "outputs": [
    {
     "name": "stdout",
     "output_type": "stream",
     "text": [
      "✅ pandas.core.arrays.categorical.CategoricalAccessor.codes: pandas.core.series.Series\n"
     ]
    }
   ],
   "source": [
    "# pandas.core.arrays.categorical.CategoricalAccessor.codes\n",
    "try:\n",
    "    obj = class_constructor()\n",
    "    ret = obj.codes\n",
    "    type_pandas_core_arrays_categorical_CategoricalAccessor_codes = (\n",
    "    getattr(ret, '__module__', None) + '.' + ret.__class__.__name__\n",
    "        if getattr(ret, '__module__', None)\n",
    "        else ret.__class__.__name__\n",
    "        )\n",
    "    print(\"✅ pandas.core.arrays.categorical.CategoricalAccessor.codes:\",\n",
    "        type_pandas_core_arrays_categorical_CategoricalAccessor_codes)\n",
    "except Exception as e:\n",
    "    type_pandas_core_arrays_categorical_CategoricalAccessor_codes = '_syft_missing'\n",
    "    print('❌ pandas.core.arrays.categorical.CategoricalAccessor.codes: Return unavailable')\n",
    "    print(\"  Please fix this return type code until there is no exception\")\n",
    "    print('  Error:', e)\n"
   ]
  },
  {
   "cell_type": "code",
   "execution_count": 20,
   "id": "4a194ba2",
   "metadata": {},
   "outputs": [
    {
     "name": "stdout",
     "output_type": "stream",
     "text": [
      "✅ pandas.core.arrays.categorical.CategoricalAccessor.ordered: bool\n"
     ]
    }
   ],
   "source": [
    "# pandas.core.arrays.categorical.CategoricalAccessor.ordered\n",
    "try:\n",
    "    obj = class_constructor()\n",
    "    ret = obj.ordered\n",
    "    type_pandas_core_arrays_categorical_CategoricalAccessor_ordered = (\n",
    "    getattr(ret, '__module__', None) + '.' + ret.__class__.__name__\n",
    "        if getattr(ret, '__module__', None)\n",
    "        else ret.__class__.__name__\n",
    "        )\n",
    "    print(\"✅ pandas.core.arrays.categorical.CategoricalAccessor.ordered:\",\n",
    "        type_pandas_core_arrays_categorical_CategoricalAccessor_ordered)\n",
    "except Exception as e:\n",
    "    type_pandas_core_arrays_categorical_CategoricalAccessor_ordered = '_syft_missing'\n",
    "    print('❌ pandas.core.arrays.categorical.CategoricalAccessor.ordered: Return unavailable')\n",
    "    print(\"  Please fix this return type code until there is no exception\")\n",
    "    print('  Error:', e)\n"
   ]
  },
  {
   "cell_type": "code",
   "execution_count": 21,
   "id": "9f0b7b31",
   "metadata": {},
   "outputs": [
    {
     "name": "stdout",
     "output_type": "stream",
     "text": [
      "✅ pandas.core.arrays.categorical.CategoricalAccessor.remove_categories: pandas.core.series.Series\n"
     ]
    }
   ],
   "source": [
    "# pandas.core.arrays.categorical.CategoricalAccessor.remove_categories\n",
    "try:\n",
    "    obj = class_constructor()\n",
    "    ret = obj.remove_categories(1)\n",
    "    type_pandas_core_arrays_categorical_CategoricalAccessor_remove_categories = (\n",
    "    getattr(ret, '__module__', None) + '.' + ret.__class__.__name__\n",
    "        if getattr(ret, '__module__', None)\n",
    "        else ret.__class__.__name__\n",
    "        )\n",
    "    print(\"✅ pandas.core.arrays.categorical.CategoricalAccessor.remove_categories:\",\n",
    "        type_pandas_core_arrays_categorical_CategoricalAccessor_remove_categories)\n",
    "except Exception as e:\n",
    "    type_pandas_core_arrays_categorical_CategoricalAccessor_remove_categories = '_syft_missing'\n",
    "    print('❌ pandas.core.arrays.categorical.CategoricalAccessor.remove_categories: Return unavailable')\n",
    "    print(\"  Please fix this return type code until there is no exception\")\n",
    "    print('   Error:', e)\n"
   ]
  },
  {
   "cell_type": "code",
   "execution_count": 22,
   "id": "01adc690",
   "metadata": {},
   "outputs": [
    {
     "name": "stdout",
     "output_type": "stream",
     "text": [
      "✅ pandas.core.arrays.categorical.CategoricalAccessor.remove_unused_categories: pandas.core.series.Series\n"
     ]
    }
   ],
   "source": [
    "# pandas.core.arrays.categorical.CategoricalAccessor.remove_unused_categories\n",
    "try:\n",
    "    obj = class_constructor()\n",
    "    ret = obj.remove_unused_categories()\n",
    "    type_pandas_core_arrays_categorical_CategoricalAccessor_remove_unused_categories = (\n",
    "    getattr(ret, '__module__', None) + '.' + ret.__class__.__name__\n",
    "        if getattr(ret, '__module__', None)\n",
    "        else ret.__class__.__name__\n",
    "        )\n",
    "    print(\"✅ pandas.core.arrays.categorical.CategoricalAccessor.remove_unused_categories:\",\n",
    "        type_pandas_core_arrays_categorical_CategoricalAccessor_remove_unused_categories)\n",
    "except Exception as e:\n",
    "    type_pandas_core_arrays_categorical_CategoricalAccessor_remove_unused_categories = '_syft_missing'\n",
    "    print('❌ pandas.core.arrays.categorical.CategoricalAccessor.remove_unused_categories: Return unavailable')\n",
    "    print(\"  Please fix this return type code until there is no exception\")\n",
    "    print('   Error:', e)\n"
   ]
  },
  {
   "cell_type": "code",
   "execution_count": 23,
   "id": "b91372d8",
   "metadata": {},
   "outputs": [
    {
     "name": "stdout",
     "output_type": "stream",
     "text": [
      "✅ pandas.core.arrays.categorical.CategoricalAccessor.rename_categories: pandas.core.series.Series\n"
     ]
    }
   ],
   "source": [
    "# pandas.core.arrays.categorical.CategoricalAccessor.rename_categories\n",
    "try:\n",
    "    obj = class_constructor()\n",
    "    ret = obj.rename_categories([1.1,3.0,11])\n",
    "    type_pandas_core_arrays_categorical_CategoricalAccessor_rename_categories = (\n",
    "    getattr(ret, '__module__', None) + '.' + ret.__class__.__name__\n",
    "        if getattr(ret, '__module__', None)\n",
    "        else ret.__class__.__name__\n",
    "        )\n",
    "    print(\"✅ pandas.core.arrays.categorical.CategoricalAccessor.rename_categories:\",\n",
    "        type_pandas_core_arrays_categorical_CategoricalAccessor_rename_categories)\n",
    "except Exception as e:\n",
    "    type_pandas_core_arrays_categorical_CategoricalAccessor_rename_categories = '_syft_missing'\n",
    "    print('❌ pandas.core.arrays.categorical.CategoricalAccessor.rename_categories: Return unavailable')\n",
    "    print(\"  Please fix this return type code until there is no exception\")\n",
    "    print('   Error:', e)\n"
   ]
  },
  {
   "cell_type": "code",
   "execution_count": 24,
   "id": "4ca2f849",
   "metadata": {},
   "outputs": [
    {
     "name": "stdout",
     "output_type": "stream",
     "text": [
      "✅ pandas.core.arrays.categorical.CategoricalAccessor.reorder_categories: pandas.core.series.Series\n"
     ]
    }
   ],
   "source": [
    "# pandas.core.arrays.categorical.CategoricalAccessor.reorder_categories\n",
    "try:\n",
    "    obj = class_constructor()\n",
    "    ret = obj.reorder_categories([1.1,1,2.0])\n",
    "    type_pandas_core_arrays_categorical_CategoricalAccessor_reorder_categories = (\n",
    "    getattr(ret, '__module__', None) + '.' + ret.__class__.__name__\n",
    "        if getattr(ret, '__module__', None)\n",
    "        else ret.__class__.__name__\n",
    "        )\n",
    "    print(\"✅ pandas.core.arrays.categorical.CategoricalAccessor.reorder_categories:\",\n",
    "        type_pandas_core_arrays_categorical_CategoricalAccessor_reorder_categories)\n",
    "except Exception as e:\n",
    "    type_pandas_core_arrays_categorical_CategoricalAccessor_reorder_categories = '_syft_missing'\n",
    "    print('❌ pandas.core.arrays.categorical.CategoricalAccessor.reorder_categories: Return unavailable')\n",
    "    print(\"  Please fix this return type code until there is no exception\")\n",
    "    print('   Error:', e)\n"
   ]
  },
  {
   "cell_type": "code",
   "execution_count": 25,
   "id": "bdbf4e8a",
   "metadata": {},
   "outputs": [
    {
     "name": "stdout",
     "output_type": "stream",
     "text": [
      "✅ pandas.core.arrays.categorical.CategoricalAccessor.set_categories: pandas.core.series.Series\n"
     ]
    }
   ],
   "source": [
    "# pandas.core.arrays.categorical.CategoricalAccessor.set_categories\n",
    "try:\n",
    "    obj = class_constructor()\n",
    "    ret = obj.set_categories([1,11,12])\n",
    "    type_pandas_core_arrays_categorical_CategoricalAccessor_set_categories = (\n",
    "    getattr(ret, '__module__', None) + '.' + ret.__class__.__name__\n",
    "        if getattr(ret, '__module__', None)\n",
    "        else ret.__class__.__name__\n",
    "        )\n",
    "    print(\"✅ pandas.core.arrays.categorical.CategoricalAccessor.set_categories:\",\n",
    "        type_pandas_core_arrays_categorical_CategoricalAccessor_set_categories)\n",
    "except Exception as e:\n",
    "    type_pandas_core_arrays_categorical_CategoricalAccessor_set_categories = '_syft_missing'\n",
    "    print('❌ pandas.core.arrays.categorical.CategoricalAccessor.set_categories: Return unavailable')\n",
    "    print(\"  Please fix this return type code until there is no exception\")\n",
    "    print('   Error:', e)\n"
   ]
  },
  {
   "cell_type": "code",
   "execution_count": null,
   "id": "bd81ad74",
   "metadata": {},
   "outputs": [],
   "source": []
  }
 ],
 "metadata": {
  "kernelspec": {
   "display_name": "Python 3",
   "language": "python",
   "name": "python3"
  },
  "language_info": {
   "codemirror_mode": {
    "name": "ipython",
    "version": 3
   },
   "file_extension": ".py",
   "mimetype": "text/x-python",
   "name": "python",
   "nbconvert_exporter": "python",
   "pygments_lexer": "ipython3",
   "version": "3.9.5"
  }
 },
 "nbformat": 4,
 "nbformat_minor": 5
}

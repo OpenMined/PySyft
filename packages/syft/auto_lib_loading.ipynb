{
 "cells": [
  {
   "cell_type": "code",
   "execution_count": null,
   "id": "98f6d63c-ba58-45c8-a571-929145b0deeb",
   "metadata": {},
   "outputs": [],
   "source": [
    "%load_ext autoreload\n",
    "%autoreload 2"
   ]
  },
  {
   "cell_type": "code",
   "execution_count": 1,
   "id": "d61fd35c",
   "metadata": {},
   "outputs": [],
   "source": [
    "import syft as sy\n",
    "import sys\n",
    "import importlib\n",
    "import ast"
   ]
  },
  {
   "cell_type": "code",
   "execution_count": 2,
   "id": "fd410c65",
   "metadata": {},
   "outputs": [],
   "source": [
    "hook_loaded = []"
   ]
  },
  {
   "cell_type": "code",
   "execution_count": null,
   "id": "bb39280b",
   "metadata": {},
   "outputs": [],
   "source": []
  },
  {
   "cell_type": "code",
   "execution_count": null,
   "id": "674dccbf",
   "metadata": {},
   "outputs": [],
   "source": []
  },
  {
   "cell_type": "code",
   "execution_count": 3,
   "id": "5ebb5937",
   "metadata": {},
   "outputs": [],
   "source": [
    "import time\n",
    "from threading import Thread\n",
    "def try_loading_syft_support(module_name):\n",
    "    time.sleep(5)\n",
    "    if module_name != \"syft\" and \".\" not in module_name:\n",
    "#         print(\"try loading syft support\", module_name, type(module_name))\n",
    "        try:\n",
    "            support_lib_name = f\"syft_{module_name}\"\n",
    "            print(support_lib_name)\n",
    "            if support_lib_name not in sys.modules and support_lib_name not in hook_loaded:\n",
    "                try:\n",
    "                    print(\"try loading\", support_lib_name)\n",
    "                    hook_loaded.append(support_lib_name)\n",
    "#                     importlib.import_module(support_lib_name)\n",
    "                    tree = ast.parse(f\"import {support_lib_name}\")\n",
    "                    exec(compile(tree, filename=\"\", mode=\"exec\"))\n",
    "                    \n",
    "                    print(f\"Loaded {support_lib_name}\")\n",
    "                except Exception as e:\n",
    "                    print(\"failed to load\", e)\n",
    "\n",
    "            else:\n",
    "                print(\"Already loaded\", support_lib_name)\n",
    "        except Exception as e:\n",
    "            pass\n",
    "#             print(f\"Failed to load syft support. {e}\")"
   ]
  },
  {
   "cell_type": "code",
   "execution_count": 4,
   "id": "e021ca65",
   "metadata": {},
   "outputs": [],
   "source": [
    "# need global class for isinstance check below\n",
    "class HookDict(dict):\n",
    "    def __setitem__(self, key, value):\n",
    "#         print(\"calling set item\", key, value)\n",
    "        dict.__setitem__(self, key, value)\n",
    "#         print(\"calling setitem with \", key, key.startswith(\"syft_\"))\n",
    "#         if not key.startswith(\"syft_\"):\n",
    "        if key == \"xgboost\":\n",
    "#             try_loading_syft_support(key)            \n",
    "            t = Thread(target=try_loading_syft_support, args=(key,))\n",
    "            t.start()\n",
    "\n",
    "#     def __setattr__(self, key, value):\n",
    "# #         print(\"calling set attr\", key, value)\n",
    "#         dict.__setattr__(self, key, value)\n",
    "#         try_loading_syft_support(key)"
   ]
  },
  {
   "cell_type": "code",
   "execution_count": 5,
   "id": "8aab5f23",
   "metadata": {},
   "outputs": [],
   "source": [
    "sys.modules = HookDict(sys.modules)"
   ]
  },
  {
   "cell_type": "code",
   "execution_count": 6,
   "id": "eecac009",
   "metadata": {},
   "outputs": [],
   "source": [
    "import xgboost"
   ]
  },
  {
   "cell_type": "code",
   "execution_count": 7,
   "id": "d02c09c7",
   "metadata": {},
   "outputs": [
    {
     "data": {
      "text/plain": [
       "['AbstractNodeClient',\n",
       " 'Any',\n",
       " 'GenerateWrapper',\n",
       " 'Globals',\n",
       " 'Iterable',\n",
       " 'ModuleType',\n",
       " 'Optional',\n",
       " 'PIL',\n",
       " 'TypeAny',\n",
       " 'TypeDict',\n",
       " 'TypeList',\n",
       " 'TypeSet',\n",
       " 'TypeTuple',\n",
       " 'TypeUnion',\n",
       " 'VendorLibraryImportException',\n",
       " '__builtins__',\n",
       " '__cached__',\n",
       " '__doc__',\n",
       " '__file__',\n",
       " '__loader__',\n",
       " '__name__',\n",
       " '__package__',\n",
       " '__path__',\n",
       " '__spec__',\n",
       " '_add_lib',\n",
       " '_load_lib',\n",
       " '_regenerate_unions',\n",
       " 'add_classes',\n",
       " 'add_lib_external',\n",
       " 'add_methods',\n",
       " 'add_modules',\n",
       " 'cached',\n",
       " 'create_lib_ast',\n",
       " 'create_plan_ast',\n",
       " 'create_python_ast',\n",
       " 'create_remote_dataloader_ast',\n",
       " 'create_support_ast',\n",
       " 'create_torch_ast',\n",
       " 'create_torchvision_ast',\n",
       " 'create_union_ast',\n",
       " 'critical',\n",
       " 'functools',\n",
       " 'generic_update_ast',\n",
       " 'hashkey',\n",
       " 'importlib',\n",
       " 'lib_ast',\n",
       " 'load',\n",
       " 'load_lib',\n",
       " 'misc',\n",
       " 'numpy',\n",
       " 'packaging',\n",
       " 'pandas',\n",
       " 'plan',\n",
       " 'post_import_hook_third_party',\n",
       " 'python',\n",
       " 'register_library',\n",
       " 'remote_dataloader',\n",
       " 'support_packages',\n",
       " 'sys',\n",
       " 'torch',\n",
       " 'torchvision',\n",
       " 'traceback_and_raise',\n",
       " 'util',\n",
       " 'vendor_requirements_available',\n",
       " 'version',\n",
       " 'warning',\n",
       " 'warnings',\n",
       " 'wrapt']"
      ]
     },
     "execution_count": 7,
     "metadata": {},
     "output_type": "execute_result"
    },
    {
     "name": "stdout",
     "output_type": "stream",
     "text": [
      "syft_xgboost\n",
      "try loading syft_xgboost\n",
      "failed to load xgboost.compat.XGBoostLabelEncoder is not a class.\n",
      "syft_xgboost\n",
      "Already loaded syft_xgboost\n"
     ]
    }
   ],
   "source": [
    "dir(sy.lib)"
   ]
  },
  {
   "cell_type": "code",
   "execution_count": null,
   "id": "7cbc3543",
   "metadata": {},
   "outputs": [],
   "source": [
    "import sys\n",
    "from typing import Callable"
   ]
  },
  {
   "cell_type": "code",
   "execution_count": null,
   "id": "656aa4e3",
   "metadata": {},
   "outputs": [],
   "source": [
    "a[\"a\"] = 1"
   ]
  },
  {
   "cell_type": "code",
   "execution_count": null,
   "id": "78a8d70d",
   "metadata": {},
   "outputs": [],
   "source": [
    "setattr(a, \"b\", 1)"
   ]
  },
  {
   "cell_type": "code",
   "execution_count": null,
   "id": "0f4ed42d",
   "metadata": {},
   "outputs": [],
   "source": [
    "sys.modules = HookDict(sys.modules)"
   ]
  },
  {
   "cell_type": "code",
   "execution_count": null,
   "id": "55f99656",
   "metadata": {},
   "outputs": [],
   "source": [
    "import urllib3"
   ]
  },
  {
   "cell_type": "code",
   "execution_count": null,
   "id": "8f9262ea",
   "metadata": {},
   "outputs": [],
   "source": [
    "urllib3"
   ]
  },
  {
   "cell_type": "code",
   "execution_count": null,
   "id": "85bd15be",
   "metadata": {},
   "outputs": [],
   "source": [
    "type(sys.modules)"
   ]
  },
  {
   "cell_type": "code",
   "execution_count": null,
   "id": "3904c682-806c-4a4a-8649-ea2c0784fb7a",
   "metadata": {},
   "outputs": [],
   "source": []
  },
  {
   "cell_type": "code",
   "execution_count": null,
   "id": "65481607-65f8-40e6-b5b4-f1c9ba638980",
   "metadata": {},
   "outputs": [],
   "source": [
    "# sy.lib.xgboost"
   ]
  },
  {
   "cell_type": "code",
   "execution_count": null,
   "id": "00cc560e",
   "metadata": {},
   "outputs": [],
   "source": [
    "def hook_sys_modules(hook: Callable) -> None:\n",
    "    class HookDict(dict):\n",
    "        def __setitem__(self, key, value):\n",
    "            try:\n",
    "                print(\"calling the hooked setitem\", key, value)\n",
    "                hook(key, value)\n",
    "                dict.__setitem__(self, key, value)\n",
    "            except Exception as e:\n",
    "                print(f\"error {e}\")\n",
    "\n",
    "        def __setattr__(self, key, value):\n",
    "            try:\n",
    "                print(\"calling the hooked setitem\", key, value)\n",
    "                hook(key, value)\n",
    "                dict.__setattr__(self, key, value)\n",
    "            except Exception as e:\n",
    "                print(f\"error {e}\")\n",
    "\n",
    "    if not isinstance(sys.modules, HookDict):\n",
    "        print(\"Installing Syft Module Hook\")\n",
    "        sys.modules = HookDict(sys.modules)"
   ]
  },
  {
   "cell_type": "code",
   "execution_count": null,
   "id": "9f0473b1",
   "metadata": {},
   "outputs": [],
   "source": [
    "def try_loading_syft_support(self, module_name, module):\n",
    "    print(module_name, type(module_name))\n",
    "    try:\n",
    "        support_lib_name = f\"syft_{module_name}\"\n",
    "        print(support_lib_name)\n",
    "        importlib.import_module(support_lib_name)\n",
    "    except Exception as e:\n",
    "        print(f\"Failed to load syft support. {e}\")"
   ]
  },
  {
   "cell_type": "code",
   "execution_count": null,
   "id": "5cb8c0c1",
   "metadata": {},
   "outputs": [],
   "source": [
    "hook_sys_modules(try_loading_syft_support)"
   ]
  },
  {
   "cell_type": "code",
   "execution_count": null,
   "id": "72c42524",
   "metadata": {},
   "outputs": [],
   "source": [
    "import urllib3"
   ]
  },
  {
   "cell_type": "code",
   "execution_count": null,
   "id": "7c0818cb",
   "metadata": {},
   "outputs": [],
   "source": [
    "type(sys.modules)"
   ]
  },
  {
   "cell_type": "code",
   "execution_count": null,
   "id": "7a1631be",
   "metadata": {},
   "outputs": [],
   "source": [
    "sy"
   ]
  },
  {
   "cell_type": "code",
   "execution_count": null,
   "id": "dccddff9",
   "metadata": {},
   "outputs": [],
   "source": [
    "type(sys.modules)"
   ]
  },
  {
   "cell_type": "code",
   "execution_count": null,
   "id": "1b3aa44e",
   "metadata": {},
   "outputs": [],
   "source": [
    "HookDict.hook"
   ]
  },
  {
   "cell_type": "code",
   "execution_count": null,
   "id": "bb870c97",
   "metadata": {},
   "outputs": [],
   "source": [
    "sys.modules = HookDict(sys.modules)"
   ]
  },
  {
   "cell_type": "code",
   "execution_count": null,
   "id": "b14cc291",
   "metadata": {},
   "outputs": [],
   "source": [
    "sys.modules[\"xgboost\"] = 1"
   ]
  },
  {
   "cell_type": "code",
   "execution_count": null,
   "id": "8dce3554",
   "metadata": {},
   "outputs": [],
   "source": [
    "dir(sy.lib)"
   ]
  },
  {
   "cell_type": "code",
   "execution_count": null,
   "id": "a0116882",
   "metadata": {},
   "outputs": [],
   "source": []
  }
 ],
 "metadata": {
  "kernelspec": {
   "display_name": "Python 3 (ipykernel)",
   "language": "python",
   "name": "python3"
  },
  "language_info": {
   "codemirror_mode": {
    "name": "ipython",
    "version": 3
   },
   "file_extension": ".py",
   "mimetype": "text/x-python",
   "name": "python",
   "nbconvert_exporter": "python",
   "pygments_lexer": "ipython3",
   "version": "3.9.6"
  }
 },
 "nbformat": 4,
 "nbformat_minor": 5
}

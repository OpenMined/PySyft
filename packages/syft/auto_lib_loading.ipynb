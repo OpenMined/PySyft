{
 "cells": [
  {
   "cell_type": "code",
   "execution_count": null,
   "id": "98f6d63c-ba58-45c8-a571-929145b0deeb",
   "metadata": {},
   "outputs": [],
   "source": [
    "%load_ext autoreload\n",
    "%autoreload 2"
   ]
  },
  {
   "cell_type": "code",
   "execution_count": 1,
   "id": "d61fd35c",
   "metadata": {},
   "outputs": [],
   "source": [
    "# import syft as sy\n",
    "import sys\n",
    "# import importlib\n",
    "# import ast\n",
    "import wrapt"
   ]
  },
  {
   "cell_type": "code",
   "execution_count": 3,
   "id": "fd410c65",
   "metadata": {},
   "outputs": [],
   "source": [
    "hook_loaded = []"
   ]
  },
  {
   "cell_type": "code",
   "execution_count": 2,
   "id": "bb39280b",
   "metadata": {},
   "outputs": [],
   "source": [
    "modules_imported = set()\n",
    "old_import = __import__\n",
    "\n",
    "queue=[]"
   ]
  },
  {
   "cell_type": "code",
   "execution_count": 4,
   "id": "674dccbf",
   "metadata": {},
   "outputs": [
    {
     "data": {
      "text/plain": [
       "140372947321136"
      ]
     },
     "execution_count": 4,
     "metadata": {},
     "output_type": "execute_result"
    }
   ],
   "source": [
    "id(__builtins__.__import__)"
   ]
  },
  {
   "cell_type": "code",
   "execution_count": null,
   "id": "5ebb5937",
   "metadata": {},
   "outputs": [],
   "source": [
    "import time\n",
    "# from threading import Thread\n",
    "def try_loading_syft_support(module_name):\n",
    "    time.sleep(5)\n",
    "    if module_name != \"syft\" and \".\" not in module_name:\n",
    "#         print(\"try loading syft support\", module_name, type(module_name))\n",
    "        try:\n",
    "            support_lib_name = f\"syft_{module_name}\"\n",
    "            print(support_lib_name)\n",
    "            if support_lib_name not in sys.modules and support_lib_name not in hook_loaded:\n",
    "                try:\n",
    "                    print(\"try loading\", support_lib_name)\n",
    "                    hook_loaded.append(support_lib_name)\n",
    "#                     importlib.import_module(support_lib_name)\n",
    "                    tree = ast.parse(f\"import {support_lib_name}\")\n",
    "                    exec(compile(tree, filename=\"\", mode=\"exec\"))\n",
    "                    \n",
    "                    print(f\"Loaded {support_lib_name}\")\n",
    "                except Exception as e:\n",
    "                    print(\"failed to load\", e)\n",
    "\n",
    "            else:\n",
    "                print(\"Already loaded\", support_lib_name)\n",
    "        except Exception as e:\n",
    "            pass\n",
    "#             print(f\"Failed to load syft support. {e}\")"
   ]
  },
  {
   "cell_type": "code",
   "execution_count": null,
   "id": "e021ca65",
   "metadata": {},
   "outputs": [],
   "source": [
    "# need global class for isinstance check below\n",
    "class HookDict(dict):\n",
    "    def __setitem__(self, key, value):\n",
    "#         print(\"calling set item\", key, value)\n",
    "        dict.__setitem__(self, key, value)\n",
    "#         print(\"calling setitem with \", key, key.startswith(\"syft_\"))\n",
    "#         if not key.startswith(\"syft_\"):\n",
    "        if key == \"xgboost\":\n",
    "#             try_loading_syft_support(key)            \n",
    "            try_loading_syft_support(key)\n",
    "#             t.start()\n",
    "\n",
    "#     def __setattr__(self, key, value):\n",
    "# #         print(\"calling set attr\", key, value)\n",
    "#         dict.__setattr__(self, key, value)\n",
    "#         try_loading_syft_support(key)"
   ]
  },
  {
   "cell_type": "code",
   "execution_count": 5,
   "id": "6bf3a548",
   "metadata": {},
   "outputs": [],
   "source": [
    "def my_import(module, *args, **kwargs):\n",
    "    print(f\" try import {module}\" )\n",
    "    modules_imported.add(module)\n",
    "    if not module.startswith(\"syft_\") and module!=\"zmq\":\n",
    "        queue.append(f\"syft_{module}\")\n",
    "    return old_import(module, *args, **kwargs)\n",
    "    # while queue:\n",
    "    #     for syft_module in queue:\n",
    "    #         old_import(syft_module, *args, **kwargs)\n"
   ]
  },
  {
   "cell_type": "code",
   "execution_count": 6,
   "id": "b1b5a8ee",
   "metadata": {},
   "outputs": [
    {
     "name": "stdout",
     "output_type": "stream",
     "text": [
      "hook called\n",
      "[]\n"
     ]
    }
   ],
   "source": [
    "\n",
    "@wrapt.when_imported(\"math\")\n",
    "def post_import_hook(module):\n",
    "    print(\"hook called\")\n",
    "    print(queue)\n",
    "    while queue:\n",
    "        syft_module=queue[0]\n",
    "        try:\n",
    "            my_import(syft_module)\n",
    "            globals()[syft_module.name]=sys.modules[syft_module]\n",
    "        except Exception as e:\n",
    "            print(f\"Failed to load {syft_module}\\n {e}\")\n",
    "        queue.pop(0)\n",
    "\n"
   ]
  },
  {
   "cell_type": "code",
   "execution_count": 7,
   "id": "1bffb520",
   "metadata": {},
   "outputs": [
    {
     "data": {
      "text/plain": [
       "140372947321136"
      ]
     },
     "execution_count": 7,
     "metadata": {},
     "output_type": "execute_result"
    }
   ],
   "source": [
    "id(__builtins__.__import__)"
   ]
  },
  {
   "cell_type": "code",
   "execution_count": 8,
   "id": "19dbc194",
   "metadata": {},
   "outputs": [
    {
     "name": "stdout",
     "output_type": "stream",
     "text": [
      " try import zmq\n",
      " try import zmq\n",
      " try import zmq\n",
      " try import zmq\n",
      " try import zmq\n",
      " try import zmq\n",
      " try import zmq\n",
      " try import zmq\n",
      " try import zmq\n",
      " try import zmq\n",
      " try import zmq\n",
      " try import zmq\n",
      " try import zmq\n",
      " try import zmq\n",
      " try import zmq\n",
      " try import zmq\n",
      " try import zmq\n",
      " try import zmq\n",
      " try import zmq\n",
      " try import zmq\n",
      " try import zmq\n",
      " try import zmq\n",
      " try import zmq\n",
      " try import zmq\n",
      " try import zmq\n",
      " try import zmq\n",
      " try import zmq\n",
      " try import zmq\n",
      " try import zmq\n",
      " try import zmq\n",
      " try import zmq\n",
      " try import zmq\n",
      " try import zmq\n",
      " try import zmq\n",
      " try import zmq\n",
      " try import zmq\n",
      " try import zmq\n",
      " try import zmq\n",
      " try import zmq\n",
      " try import zmq\n",
      " try import zmq\n",
      " try import zmq\n",
      " try import zmq\n",
      " try import zmq\n",
      " try import zmq\n",
      " try import zmq\n",
      " try import zmq\n",
      " try import zmq\n",
      " try import zmq\n",
      " try import zmq\n",
      " try import zmq\n",
      " try import zmq\n",
      " try import zmq\n",
      " try import zmq\n",
      " try import zmq\n",
      " try import zmq\n",
      " try import zmq\n",
      " try import zmq\n",
      " try import zmq\n",
      " try import zmq\n",
      " try import zmq\n",
      " try import zmq\n",
      " try import zmq\n",
      " try import zmq\n",
      " try import zmq\n",
      " try import zmq\n",
      " try import zmq\n",
      " try import zmq\n",
      " try import zmq\n",
      " try import zmq\n",
      " try import zmq\n",
      " try import zmq\n",
      " try import zmq\n",
      " try import zmq\n",
      " try import zmq\n",
      " try import zmq\n",
      " try import zmq\n",
      " try import zmq\n",
      " try import zmq\n",
      " try import zmq\n",
      " try import zmq\n",
      " try import zmq\n",
      " try import zmq\n",
      " try import zmq\n",
      " try import zmq\n",
      " try import zmq\n",
      " try import zmq\n",
      " try import zmq\n",
      " try import zmq try import zmq\n",
      "\n"
     ]
    }
   ],
   "source": [
    "__builtins__.__import__ = my_import"
   ]
  },
  {
   "cell_type": "code",
   "execution_count": 9,
   "id": "4c4a9a65",
   "metadata": {},
   "outputs": [],
   "source": [
    "del sys.modules['math']"
   ]
  },
  {
   "cell_type": "code",
   "execution_count": 10,
   "id": "77bc8919",
   "metadata": {},
   "outputs": [],
   "source": [
    "import math"
   ]
  },
  {
   "cell_type": "code",
   "execution_count": null,
   "id": "8c2f2642",
   "metadata": {},
   "outputs": [],
   "source": [
    "sys.modules['math']"
   ]
  },
  {
   "cell_type": "code",
   "execution_count": null,
   "id": "da74f91b",
   "metadata": {},
   "outputs": [],
   "source": [
    "__builtins__.__import__ "
   ]
  },
  {
   "cell_type": "code",
   "execution_count": null,
   "id": "f1e78cc3",
   "metadata": {},
   "outputs": [],
   "source": [
    "modules_imported"
   ]
  },
  {
   "cell_type": "code",
   "execution_count": null,
   "id": "8ab1dfff",
   "metadata": {},
   "outputs": [],
   "source": []
  }
 ],
 "metadata": {
  "kernelspec": {
   "display_name": "Auto Lib Load",
   "language": "python",
   "name": "autolib"
  },
  "language_info": {
   "codemirror_mode": {
    "name": "ipython",
    "version": 3
   },
   "file_extension": ".py",
   "mimetype": "text/x-python",
   "name": "python",
   "nbconvert_exporter": "python",
   "pygments_lexer": "ipython3",
   "version": "3.8.10"
  }
 },
 "nbformat": 4,
 "nbformat_minor": 5
}

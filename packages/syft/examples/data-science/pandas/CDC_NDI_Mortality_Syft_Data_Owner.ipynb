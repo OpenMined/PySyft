{
 "cells": [
  {
   "cell_type": "markdown",
   "id": "amended-branch",
   "metadata": {},
   "source": [
    "# CDC NDI Mortality - Syft Duet - Data Owner 🎸"
   ]
  },
  {
   "cell_type": "markdown",
   "id": "round-crystal",
   "metadata": {},
   "source": [
    "This worksheet is intended to illustrate functionality of a shared statistical platform, using a partially synthetic public-use dataset that mirrors the restricted-use dataset. Ultimately, these processes would apply to the restricted-use data.\n",
    "\n",
    "Sample data compiled from the public-use linked mortality files share at https://www.cdc.gov/nchs/data-linkage/mortality.htm provided by the National Center for Health Statistics (NCHS)."
   ]
  },
  {
   "cell_type": "markdown",
   "id": "champion-essence",
   "metadata": {},
   "source": [
    "## PART 1: Launch a Duet Server and Connect\n",
    "\n",
    "As a Data Owner, you want to allow someone else to perform data science on data that you own and likely want to protect.\n",
    "\n",
    "In order to do this, we must load our data into a locally running server within this notebook. We call this server a \"Duet\".\n",
    "\n",
    "To begin, you must launch Duet and help your Duet \"partner\" (a Data Scientist) connect to this server.\n",
    "\n",
    "You do this by running the code below and sending the code snippet containing your unique Server ID to your partner and following the instructions it gives!"
   ]
  },
  {
   "cell_type": "code",
   "execution_count": null,
   "id": "designed-basics",
   "metadata": {},
   "outputs": [],
   "source": [
    "import syft as sy\n",
    "import pandas as pd\n",
    "import numpy as np\n",
    "import statsmodels\n",
    "duet = sy.launch_duet(loopback=True)"
   ]
  },
  {
   "cell_type": "code",
   "execution_count": null,
   "id": "diverse-solomon",
   "metadata": {},
   "outputs": [],
   "source": []
  },
  {
   "cell_type": "code",
   "execution_count": null,
   "id": "included-helping",
   "metadata": {},
   "outputs": [],
   "source": [
    "duet.requests.add_handler(action=\"accept\")"
   ]
  },
  {
   "cell_type": "code",
   "execution_count": null,
   "id": "specialized-mounting",
   "metadata": {},
   "outputs": [],
   "source": [
    "import zipfile\n",
    "import requests\n",
    "import io\n",
    "from urllib.request import urlopen\n",
    "    \n",
    "csv_file = \"mort_match_nhis_all_years.csv\"\n",
    "zip_file = f\"{csv_file}.zip\"\n",
    "url = f\"https://raw.githubusercontent.com/madhavajay/datasets/main/{zip_file}\"\n",
    "\n",
    "res = requests.get(url)\n",
    "z = zipfile.ZipFile(io.BytesIO(res.content))\n",
    "with z.open(z.namelist()[0], 'r') as myfile:\n",
    "    binaryCSV = myfile.read()"
   ]
  },
  {
   "cell_type": "code",
   "execution_count": null,
   "id": "collected-billion",
   "metadata": {},
   "outputs": [],
   "source": [
    "import pandas as pd\n",
    "\n",
    "df = pd.read_csv(io.BytesIO(binaryCSV), encoding='utf-8')\n",
    "df[df.MORTSTAT == 0].head()"
   ]
  },
  {
   "cell_type": "code",
   "execution_count": null,
   "id": "compact-rhythm",
   "metadata": {},
   "outputs": [],
   "source": [
    "len(df)"
   ]
  },
  {
   "cell_type": "code",
   "execution_count": null,
   "id": "declared-december",
   "metadata": {},
   "outputs": [],
   "source": [
    "df_ptr = df.send(duet, tags=[\"df\"])"
   ]
  },
  {
   "cell_type": "code",
   "execution_count": null,
   "id": "revised-announcement",
   "metadata": {},
   "outputs": [],
   "source": [
    "df"
   ]
  },
  {
   "cell_type": "code",
   "execution_count": null,
   "id": "textile-blade",
   "metadata": {},
   "outputs": [],
   "source": [
    "# local stats\n",
    "\n",
    "# Select the records that died by cancer that were eligible for linkage\n",
    "# 002-Malignant neoplasms (C00-C97)\n",
    "cancer = df[(df.UCOD_LEADING == 2) & (df.ELIGSTAT == 1)]\n",
    "\n",
    "# Select the records that died due to heart disease and were eligible for linkage\n",
    "# 001-Diseases of heart (I00-I09, I11, I13, I20-I51)\n",
    "heart = df[(df.UCOD_LEADING == 1) & (df.ELIGSTAT == 1)]"
   ]
  },
  {
   "cell_type": "code",
   "execution_count": null,
   "id": "surface-chase",
   "metadata": {},
   "outputs": [],
   "source": [
    "# Compute simple means and for the cancer and heart subgroups that had diabetes\n",
    "# listed as a multiple cause of death\n",
    "cancer[\"DIABETES\"].mean()"
   ]
  },
  {
   "cell_type": "code",
   "execution_count": null,
   "id": "dental-turkey",
   "metadata": {},
   "outputs": [],
   "source": [
    "# Compute simple means and standard deviations for the cancer and heart subgroups\n",
    "# that had diabetes as a multiple cause of death\n",
    "heart[\"DIABETES\"].mean()"
   ]
  },
  {
   "cell_type": "code",
   "execution_count": null,
   "id": "grand-thesaurus",
   "metadata": {},
   "outputs": [],
   "source": [
    "# Sample means data should account for weights. Write a custom function that uses the weights.\n",
    "\n",
    "\n",
    "def weighted_mean(dx, key, weight_key=\"WGT_NEW\"):\n",
    "    w = dx[weight_key]\n",
    "    v = dx[key]\n",
    "    return (w * v).sum() / w.sum()\n",
    "\n",
    "\n",
    "weighted_mean(cancer, \"DIABETES\"), weighted_mean(heart, \"DIABETES\")"
   ]
  },
  {
   "cell_type": "code",
   "execution_count": null,
   "id": "smaller-working",
   "metadata": {},
   "outputs": [],
   "source": [
    "# Example of a small subgroup (sample size = 6)\n",
    "# Cancer-deaths from males aged 47 who died in 2015\n",
    "# We should check for small cell sizes here\n",
    "subgroup = cancer[(cancer.SEX == 1) & (cancer.AGE_P == 47) & (cancer.DODYEAR == 2015)]\n",
    "print(subgroup[\"DIABETES\"].mean())\n",
    "print(weighted_mean(subgroup, \"DIABETES\"))\n",
    "print(len(subgroup))\n",
    "\n",
    "# These stats are problematic, as the subgroup is too small to report (n=6)\n",
    "subgroup"
   ]
  },
  {
   "cell_type": "code",
   "execution_count": null,
   "id": "incredible-raleigh",
   "metadata": {},
   "outputs": [],
   "source": [
    "import statsmodels.api as sm\n",
    "from statsmodels.genmod.generalized_linear_model import GLM\n",
    "from statsmodels.genmod.families import Binomial\n",
    "\n",
    "# Drop any missing values in the dataset (those under 18)\n",
    "df = df.dropna(subset=[\"MORTSTAT\"])\n",
    "# Keep only the eligible portion\n",
    "df = df[df.ELIGSTAT == 1]\n",
    "\n",
    "# Ignore people > 80\n",
    "df = df[df.AGE_P <= 80]\n",
    "\n",
    "# A person is alive if MORTSTAT==0\n",
    "df[\"is_alive\"] = df.MORTSTAT == 0\n",
    "\n",
    "# Assign a helpful column for sex (0==male, 1==female)\n",
    "df[\"sex\"] = \"male\"\n",
    "df.loc[df.SEX == 2, \"sex\"] = \"female\"\n",
    "\n",
    "x = df[\"AGE_P\"]\n",
    "_x = sm.add_constant(x)\n",
    "_y = df[\"is_alive\"]\n",
    "\n",
    "results = GLM(_y, _x, family=Binomial()).fit()\n",
    "print(results.summary())"
   ]
  },
  {
   "cell_type": "code",
   "execution_count": null,
   "id": "nuclear-finance",
   "metadata": {},
   "outputs": [],
   "source": [
    "predict_x = range(x.min(), x.max() + 1, 1)\n",
    "preds = results.predict(sm.add_constant(predict_x))"
   ]
  },
  {
   "cell_type": "code",
   "execution_count": null,
   "id": "international-toilet",
   "metadata": {},
   "outputs": [],
   "source": [
    "# share predictions\n",
    "preds.send(duet, tags=[\"preds\"])"
   ]
  },
  {
   "cell_type": "code",
   "execution_count": null,
   "id": "prescribed-psychology",
   "metadata": {
    "scrolled": true
   },
   "outputs": [],
   "source": [
    "try:\n",
    "    import pylab as plt\n",
    "    import seaborn as sns\n",
    "\n",
    "    plt.figure(figsize=(12, 5))\n",
    "    plt.plot(predict_x, preds, \"k\", lw=3, label=\"Best Fit for all data\")\n",
    "    sns.lineplot(data=df, x=\"AGE_P\", y=\"is_alive\", hue=\"sex\", err_style=\"bars\")\n",
    "    sns.despine()\n",
    "except ImportError:\n",
    "    print(\"Cant import seaborn try:\\n!pip install seaborn\")"
   ]
  },
  {
   "cell_type": "markdown",
   "id": "occupational-programmer",
   "metadata": {},
   "source": [
    "### <img src=\"https://github.com/OpenMined/design-assets/raw/master/logos/OM/mark-primary-light.png\" alt=\"he-black-box\" width=\"100\"/> Checkpoint 1 : Well done!"
   ]
  },
  {
   "cell_type": "code",
   "execution_count": null,
   "id": "soviet-white",
   "metadata": {},
   "outputs": [],
   "source": []
  }
 ],
 "metadata": {
  "kernelspec": {
   "display_name": "Python 3",
   "language": "python",
   "name": "python3"
  },
  "language_info": {
   "codemirror_mode": {
    "name": "ipython",
    "version": 3
   },
   "file_extension": ".py",
   "mimetype": "text/x-python",
   "name": "python",
   "nbconvert_exporter": "python",
   "pygments_lexer": "ipython3",
   "version": "3.8.9"
  }
 },
 "nbformat": 4,
 "nbformat_minor": 5
}

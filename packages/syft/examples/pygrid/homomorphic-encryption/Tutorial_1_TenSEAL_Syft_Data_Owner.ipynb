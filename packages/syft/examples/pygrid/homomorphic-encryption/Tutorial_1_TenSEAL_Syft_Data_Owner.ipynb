{
 "cells": [
  {
   "cell_type": "markdown",
   "metadata": {},
   "source": [
    "<img src=\"https://github.com/OpenMined/design-assets/raw/master/logos/OM/horizontal-primary-light.png\" alt=\"he-black-box\" width=\"600\"/>\n",
    "\n",
    "\n",
    "# Homomorphic Encryption using Duet: Data Owner\n",
    "## Tutorial 1: Training and Evaluating a Logistic Regression over Encrypted Data\n",
    "\n",
    "\n",
    "Welcome!\n",
    "This tutorial will show you how to train and evaluate a Logistic Regression using Duet and TenSEAL. This notebook illustrates the Data Owner view on the operations.\n",
    "\n",
    "We recommend going through Tutorial 0 before trying this one."
   ]
  },
  {
   "cell_type": "markdown",
   "metadata": {},
   "source": [
    "### Setup\n",
    "\n",
    "All modules are imported here, make sure everything is installed by running the cell below."
   ]
  },
  {
   "cell_type": "code",
   "execution_count": 1,
   "metadata": {},
   "outputs": [],
   "source": [
    "import os\n",
    "import syft as sy\n",
    "import tenseal as ts\n",
    "import torch\n",
    "import pandas as pd\n",
    "import random\n",
    "import numpy as np\n",
    "import requests\n",
    "from syft.grid.client.client import connect\n",
    "from syft.grid.client.grid_connection import GridHTTPConnection\n",
    "from syft.core.node.domain.client import DomainClient\n",
    "\n",
    "import pytest\n",
    "from time import time\n",
    "import matplotlib.pyplot as plt\n",
    "import sys\n",
    "\n",
    "sy.load(\"tenseal\")\n",
    "\n",
    "sy.logger.add(sys.stdout)\n"
   ]
  },
  {
   "cell_type": "markdown",
   "metadata": {},
   "source": [
    "## Connect to PyGrid\n",
    "\n",
    "Connect to PyGrid Domain server."
   ]
  },
  {
   "cell_type": "code",
   "execution_count": 2,
   "metadata": {},
   "outputs": [],
   "source": [
    "client = connect(\n",
    "    url=\"http://localhost:5000\", # Domain Address\n",
    "    credentials={\"email\":\"admin@email.com\", \"password\":\"pwd123\"},\n",
    "    conn_type= GridHTTPConnection, # HTTP Connection Protocol\n",
    "    client_type=DomainClient) # Domain Client type"
   ]
  },
  {
   "cell_type": "markdown",
   "metadata": {},
   "source": [
    "### <img src=\"https://github.com/OpenMined/design-assets/raw/master/logos/OM/mark-primary-light.png\" alt=\"he-black-box\" width=\"100\"/> Checkpoint 1 : Now STOP and run the Data Scientist notebook until the same checkpoint."
   ]
  },
  {
   "cell_type": "markdown",
   "metadata": {},
   "source": [
    "## Scenario 1:  Evaluation of the Logistic Regression on Encrypted Data"
   ]
  },
  {
   "cell_type": "markdown",
   "metadata": {},
   "source": [
    "### Prepare the data\n",
    "\n",
    "We now prepare the training and test data, the dataset was downloaded from Kaggle [here](https://www.kaggle.com/dileep070/heart-disease-prediction-using-logistic-regression).\n",
    "T\n",
    "his dataset provides patients' information along with a 10-year risk of future coronary heart disease (CHD) as a label, and the goal is to build a model that can predict this 10-year CHD risk based on patients' information, you can read more about the dataset in the link provided."
   ]
  },
  {
   "cell_type": "code",
   "execution_count": 3,
   "metadata": {},
   "outputs": [],
   "source": [
    "def split_train_test(x, y, test_ratio=0.3):\n",
    "    idxs = [i for i in range(len(x))]\n",
    "    random.shuffle(idxs)\n",
    "    # delimiter between test and train data\n",
    "    delim = int(len(x) * test_ratio)\n",
    "    test_idxs, train_idxs = idxs[:delim], idxs[delim:]\n",
    "    return x[train_idxs], y[train_idxs], x[test_idxs], y[test_idxs]\n",
    "\n",
    "def download_dataset():\n",
    "    try:\n",
    "        os.mkdir(\"./data\")\n",
    "    except BaseException as e:\n",
    "        print(e)\n",
    "\n",
    "    url = \"https://raw.githubusercontent.com/OpenMined/TenSEAL/master/tutorials/data/framingham.csv\"\n",
    "    path = \"./data/framingham.csv\"\n",
    "    \n",
    "    r = requests.get(url)\n",
    "\n",
    "    with open(path, 'wb') as f:\n",
    "        f.write(r.content)\n",
    "            \n",
    "def heart_disease_data():\n",
    "    download_dataset()\n",
    "    \n",
    "    data = pd.read_csv(\"./data/framingham.csv\")\n",
    "    # drop rows with missing values\n",
    "    data = data.dropna()\n",
    "    # drop some features\n",
    "    data = data.drop(columns=[\"education\", \"currentSmoker\", \"BPMeds\", \"diabetes\", \"diaBP\", \"BMI\"])\n",
    "    # balance data\n",
    "    grouped = data.groupby('TenYearCHD')\n",
    "    data = grouped.apply(lambda x: x.sample(grouped.size().min(), random_state=73).reset_index(drop=True))\n",
    "    # extract labels\n",
    "    y = torch.tensor(data[\"TenYearCHD\"].values).float().unsqueeze(1)\n",
    "    data = data.drop(\"TenYearCHD\", 'columns')\n",
    "    # standardize data\n",
    "    data = (data - data.mean()) / data.std()\n",
    "    x = torch.tensor(data.values).float()\n",
    "    return split_train_test(x, y)\n",
    "\n",
    "x_train, y_train, x_test, y_test = heart_disease_data()"
   ]
  },
  {
   "cell_type": "markdown",
   "metadata": {},
   "source": [
    "### Make Training data Referenceable over Duet\n",
    "\n",
    "In this scenario, we train over the plain data over Duet."
   ]
  },
  {
   "cell_type": "code",
   "execution_count": 4,
   "metadata": {},
   "outputs": [],
   "source": [
    "x_train_ptr = x_train.send(client, pointable=True, tags=[\"x_train\"])\n",
    "y_train_ptr = y_train.send(client, pointable=True, tags=[\"y_train\"])"
   ]
  },
  {
   "cell_type": "markdown",
   "metadata": {},
   "source": [
    "### <img src=\"https://github.com/OpenMined/design-assets/raw/master/logos/OM/mark-primary-light.png\" alt=\"he-black-box\" width=\"100\"/> Checkpoint 2 : Now STOP and run the Data Scientist notebook until the same checkpoint."
   ]
  },
  {
   "cell_type": "markdown",
   "metadata": {},
   "source": [
    "### Approve the requests"
   ]
  },
  {
   "cell_type": "code",
   "execution_count": 5,
   "metadata": {},
   "outputs": [],
   "source": [
    "client.requests[0].accept()\n",
    "client.requests[0].accept()"
   ]
  },
  {
   "cell_type": "code",
   "execution_count": 6,
   "metadata": {},
   "outputs": [
    {
     "data": {
      "text/html": [
       "<div>\n",
       "<style scoped>\n",
       "    .dataframe tbody tr th:only-of-type {\n",
       "        vertical-align: middle;\n",
       "    }\n",
       "\n",
       "    .dataframe tbody tr th {\n",
       "        vertical-align: top;\n",
       "    }\n",
       "\n",
       "    .dataframe thead th {\n",
       "        text-align: right;\n",
       "    }\n",
       "</style>\n",
       "<table border=\"1\" class=\"dataframe\">\n",
       "  <thead>\n",
       "    <tr style=\"text-align: right;\">\n",
       "      <th></th>\n",
       "    </tr>\n",
       "  </thead>\n",
       "  <tbody>\n",
       "  </tbody>\n",
       "</table>\n",
       "</div>"
      ],
      "text/plain": [
       "Empty DataFrame\n",
       "Columns: []\n",
       "Index: []"
      ]
     },
     "execution_count": 6,
     "metadata": {},
     "output_type": "execute_result"
    }
   ],
   "source": [
    "client.requests.pandas"
   ]
  },
  {
   "cell_type": "markdown",
   "metadata": {},
   "source": [
    "### <img src=\"https://github.com/OpenMined/design-assets/raw/master/logos/OM/mark-primary-light.png\" alt=\"he-black-box\" width=\"100\"/> Checkpoint 3 : Now STOP and run the Data Scientist notebook until the same checkpoint."
   ]
  },
  {
   "cell_type": "markdown",
   "metadata": {},
   "source": [
    "### TenSEAL Context\n",
    "\n",
    "The next step is to prepare the data for encrypted evaluation.\n",
    "\n",
    "As you may recall from the first tutorial, the first step for that is to create a __TenSEAL context__."
   ]
  },
  {
   "cell_type": "code",
   "execution_count": 7,
   "metadata": {},
   "outputs": [
    {
     "data": {
      "text/plain": [
       "<tenseal.enc_context.Context at 0x7f79f5a77ca0>"
      ]
     },
     "execution_count": 7,
     "metadata": {},
     "output_type": "execute_result"
    }
   ],
   "source": [
    "context = ts.Context(\n",
    "    ts.SCHEME_TYPE.CKKS,\n",
    "    poly_modulus_degree=8192,\n",
    "    coeff_mod_bit_sizes=[60, 40, 40, 60]\n",
    ")\n",
    "context.global_scale = 2**40\n",
    "context.generate_galois_keys()\n",
    "context"
   ]
  },
  {
   "cell_type": "markdown",
   "metadata": {},
   "source": [
    "### Encrypt the data\n"
   ]
  },
  {
   "cell_type": "code",
   "execution_count": 8,
   "metadata": {},
   "outputs": [
    {
     "name": "stdout",
     "output_type": "stream",
     "text": [
      "Encryption of the test-set took 0 seconds\n"
     ]
    }
   ],
   "source": [
    "t_start = time()\n",
    "x_test = x_test[:10]\n",
    "enc_x_test = sy.lib.python.List([ts.ckks_vector(context, x.tolist()) for x in x_test])\n",
    "t_end = time()\n",
    "print(f\"Encryption of the test-set took {int(t_end - t_start)} seconds\")"
   ]
  },
  {
   "cell_type": "markdown",
   "metadata": {},
   "source": [
    "### Make Context and Encrypted Vectors Referenceable over Duet"
   ]
  },
  {
   "cell_type": "code",
   "execution_count": 9,
   "metadata": {},
   "outputs": [],
   "source": [
    "# tag them so our partner can easily reference it\n",
    "\n",
    "ctx_ptr = context.send(client, pointable=True, tags=[\"context\"])\n",
    "enc_x_test_ptr = enc_x_test.send(client, pointable=True, tags=[\"enc_x_test\"])"
   ]
  },
  {
   "cell_type": "code",
   "execution_count": 10,
   "metadata": {},
   "outputs": [
    {
     "data": {
      "text/html": [
       "<div>\n",
       "<style scoped>\n",
       "    .dataframe tbody tr th:only-of-type {\n",
       "        vertical-align: middle;\n",
       "    }\n",
       "\n",
       "    .dataframe tbody tr th {\n",
       "        vertical-align: top;\n",
       "    }\n",
       "\n",
       "    .dataframe thead th {\n",
       "        text-align: right;\n",
       "    }\n",
       "</style>\n",
       "<table border=\"1\" class=\"dataframe\">\n",
       "  <thead>\n",
       "    <tr style=\"text-align: right;\">\n",
       "      <th></th>\n",
       "      <th>ID</th>\n",
       "      <th>Tags</th>\n",
       "      <th>Description</th>\n",
       "      <th>object_type</th>\n",
       "    </tr>\n",
       "  </thead>\n",
       "  <tbody>\n",
       "    <tr>\n",
       "      <th>0</th>\n",
       "      <td>&lt;UID: 90a2a838f5b149aeb39a62b8bbe2835e&gt;</td>\n",
       "      <td>[x_train]</td>\n",
       "      <td></td>\n",
       "      <td>&lt;class 'torch.Tensor'&gt;</td>\n",
       "    </tr>\n",
       "    <tr>\n",
       "      <th>1</th>\n",
       "      <td>&lt;UID: fb476d205c804da9a8d5bbff12140398&gt;</td>\n",
       "      <td>[y_train]</td>\n",
       "      <td></td>\n",
       "      <td>&lt;class 'torch.Tensor'&gt;</td>\n",
       "    </tr>\n",
       "    <tr>\n",
       "      <th>2</th>\n",
       "      <td>&lt;UID: 28666e88d3694db7bfa214f794f931f9&gt;</td>\n",
       "      <td>[context]</td>\n",
       "      <td></td>\n",
       "      <td>&lt;class 'tenseal.enc_context.Context'&gt;</td>\n",
       "    </tr>\n",
       "    <tr>\n",
       "      <th>3</th>\n",
       "      <td>&lt;UID: 5a0a3af5aee7477bb15ec01f55cd07e8&gt;</td>\n",
       "      <td>[enc_x_test]</td>\n",
       "      <td></td>\n",
       "      <td>&lt;class 'syft.lib.python.list.List'&gt;</td>\n",
       "    </tr>\n",
       "  </tbody>\n",
       "</table>\n",
       "</div>"
      ],
      "text/plain": [
       "                                        ID          Tags Description  \\\n",
       "0  <UID: 90a2a838f5b149aeb39a62b8bbe2835e>     [x_train]               \n",
       "1  <UID: fb476d205c804da9a8d5bbff12140398>     [y_train]               \n",
       "2  <UID: 28666e88d3694db7bfa214f794f931f9>     [context]               \n",
       "3  <UID: 5a0a3af5aee7477bb15ec01f55cd07e8>  [enc_x_test]               \n",
       "\n",
       "                             object_type  \n",
       "0                 <class 'torch.Tensor'>  \n",
       "1                 <class 'torch.Tensor'>  \n",
       "2  <class 'tenseal.enc_context.Context'>  \n",
       "3    <class 'syft.lib.python.list.List'>  "
      ]
     },
     "execution_count": 10,
     "metadata": {},
     "output_type": "execute_result"
    }
   ],
   "source": [
    "# we can see that our three objects are now inside the store we control\n",
    "client.store.pandas"
   ]
  },
  {
   "cell_type": "markdown",
   "metadata": {},
   "source": [
    "### <img src=\"https://github.com/OpenMined/design-assets/raw/master/logos/OM/mark-primary-light.png\" alt=\"he-black-box\" width=\"100\"/> Checkpoint 4 : Now STOP and run the Data Scientist notebook until the same checkpoint."
   ]
  },
  {
   "cell_type": "code",
   "execution_count": 11,
   "metadata": {},
   "outputs": [
    {
     "data": {
      "text/html": [
       "<div>\n",
       "<style scoped>\n",
       "    .dataframe tbody tr th:only-of-type {\n",
       "        vertical-align: middle;\n",
       "    }\n",
       "\n",
       "    .dataframe tbody tr th {\n",
       "        vertical-align: top;\n",
       "    }\n",
       "\n",
       "    .dataframe thead th {\n",
       "        text-align: right;\n",
       "    }\n",
       "</style>\n",
       "<table border=\"1\" class=\"dataframe\">\n",
       "  <thead>\n",
       "    <tr style=\"text-align: right;\">\n",
       "      <th></th>\n",
       "      <th>Requested Object's tags</th>\n",
       "      <th>Reason</th>\n",
       "      <th>Request ID</th>\n",
       "      <th>Requested Object's ID</th>\n",
       "      <th>Requested Object's type</th>\n",
       "    </tr>\n",
       "  </thead>\n",
       "  <tbody>\n",
       "    <tr>\n",
       "      <th>0</th>\n",
       "      <td>[context]</td>\n",
       "      <td>I would like to get the context</td>\n",
       "      <td>&lt;UID: e7d67605f01742d0b36fbee554cc01df&gt;</td>\n",
       "      <td>&lt;UID: 28666e88d3694db7bfa214f794f931f9&gt;</td>\n",
       "      <td>&lt;class 'tenseal.enc_context.Context'&gt;</td>\n",
       "    </tr>\n",
       "    <tr>\n",
       "      <th>1</th>\n",
       "      <td>[enc_x_test]</td>\n",
       "      <td>I would like to get encrypted test set</td>\n",
       "      <td>&lt;UID: 78d26c8fa7804d70b0912b5d94306f6f&gt;</td>\n",
       "      <td>&lt;UID: 5a0a3af5aee7477bb15ec01f55cd07e8&gt;</td>\n",
       "      <td>&lt;class 'syft.lib.python.list.List'&gt;</td>\n",
       "    </tr>\n",
       "  </tbody>\n",
       "</table>\n",
       "</div>"
      ],
      "text/plain": [
       "  Requested Object's tags                                  Reason  \\\n",
       "0               [context]         I would like to get the context   \n",
       "1            [enc_x_test]  I would like to get encrypted test set   \n",
       "\n",
       "                                Request ID  \\\n",
       "0  <UID: e7d67605f01742d0b36fbee554cc01df>   \n",
       "1  <UID: 78d26c8fa7804d70b0912b5d94306f6f>   \n",
       "\n",
       "                     Requested Object's ID  \\\n",
       "0  <UID: 28666e88d3694db7bfa214f794f931f9>   \n",
       "1  <UID: 5a0a3af5aee7477bb15ec01f55cd07e8>   \n",
       "\n",
       "                 Requested Object's type  \n",
       "0  <class 'tenseal.enc_context.Context'>  \n",
       "1    <class 'syft.lib.python.list.List'>  "
      ]
     },
     "execution_count": 11,
     "metadata": {},
     "output_type": "execute_result"
    }
   ],
   "source": [
    "# We can see that there are two requests, for the context and for the encrypted data.\n",
    "client.requests.pandas"
   ]
  },
  {
   "cell_type": "markdown",
   "metadata": {},
   "source": [
    "### Approve the requests"
   ]
  },
  {
   "cell_type": "code",
   "execution_count": 12,
   "metadata": {},
   "outputs": [],
   "source": [
    "client.requests[0].accept()\n",
    "client.requests[0].accept()"
   ]
  },
  {
   "cell_type": "code",
   "execution_count": 13,
   "metadata": {},
   "outputs": [
    {
     "data": {
      "text/html": [
       "<div>\n",
       "<style scoped>\n",
       "    .dataframe tbody tr th:only-of-type {\n",
       "        vertical-align: middle;\n",
       "    }\n",
       "\n",
       "    .dataframe tbody tr th {\n",
       "        vertical-align: top;\n",
       "    }\n",
       "\n",
       "    .dataframe thead th {\n",
       "        text-align: right;\n",
       "    }\n",
       "</style>\n",
       "<table border=\"1\" class=\"dataframe\">\n",
       "  <thead>\n",
       "    <tr style=\"text-align: right;\">\n",
       "      <th></th>\n",
       "    </tr>\n",
       "  </thead>\n",
       "  <tbody>\n",
       "  </tbody>\n",
       "</table>\n",
       "</div>"
      ],
      "text/plain": [
       "Empty DataFrame\n",
       "Columns: []\n",
       "Index: []"
      ]
     },
     "execution_count": 13,
     "metadata": {},
     "output_type": "execute_result"
    }
   ],
   "source": [
    "# The requests should have been handled\n",
    "client.requests.pandas"
   ]
  },
  {
   "cell_type": "markdown",
   "metadata": {},
   "source": [
    "### <img src=\"https://github.com/OpenMined/design-assets/raw/master/logos/OM/mark-primary-light.png\" alt=\"he-black-box\" width=\"100\"/> Checkpoint 5 : Now STOP and run the Data Scientist notebook until the same checkpoint."
   ]
  },
  {
   "cell_type": "code",
   "execution_count": 15,
   "metadata": {},
   "outputs": [
    {
     "data": {
      "text/html": [
       "<div>\n",
       "<style scoped>\n",
       "    .dataframe tbody tr th:only-of-type {\n",
       "        vertical-align: middle;\n",
       "    }\n",
       "\n",
       "    .dataframe tbody tr th {\n",
       "        vertical-align: top;\n",
       "    }\n",
       "\n",
       "    .dataframe thead th {\n",
       "        text-align: right;\n",
       "    }\n",
       "</style>\n",
       "<table border=\"1\" class=\"dataframe\">\n",
       "  <thead>\n",
       "    <tr style=\"text-align: right;\">\n",
       "      <th></th>\n",
       "      <th>ID</th>\n",
       "      <th>Tags</th>\n",
       "      <th>Description</th>\n",
       "      <th>object_type</th>\n",
       "    </tr>\n",
       "  </thead>\n",
       "  <tbody>\n",
       "    <tr>\n",
       "      <th>0</th>\n",
       "      <td>&lt;UID: 90a2a838f5b149aeb39a62b8bbe2835e&gt;</td>\n",
       "      <td>[x_train]</td>\n",
       "      <td></td>\n",
       "      <td>&lt;class 'torch.Tensor'&gt;</td>\n",
       "    </tr>\n",
       "    <tr>\n",
       "      <th>1</th>\n",
       "      <td>&lt;UID: fb476d205c804da9a8d5bbff12140398&gt;</td>\n",
       "      <td>[y_train]</td>\n",
       "      <td></td>\n",
       "      <td>&lt;class 'torch.Tensor'&gt;</td>\n",
       "    </tr>\n",
       "    <tr>\n",
       "      <th>2</th>\n",
       "      <td>&lt;UID: 28666e88d3694db7bfa214f794f931f9&gt;</td>\n",
       "      <td>[context]</td>\n",
       "      <td></td>\n",
       "      <td>&lt;class 'tenseal.enc_context.Context'&gt;</td>\n",
       "    </tr>\n",
       "    <tr>\n",
       "      <th>3</th>\n",
       "      <td>&lt;UID: 5a0a3af5aee7477bb15ec01f55cd07e8&gt;</td>\n",
       "      <td>[enc_x_test]</td>\n",
       "      <td></td>\n",
       "      <td>&lt;class 'syft.lib.python.list.List'&gt;</td>\n",
       "    </tr>\n",
       "    <tr>\n",
       "      <th>4</th>\n",
       "      <td>&lt;UID: 5588e9efb0344e249630e6c40a7b356f&gt;</td>\n",
       "      <td>[result_eval]</td>\n",
       "      <td></td>\n",
       "      <td>&lt;class 'syft.lib.python.list.List'&gt;</td>\n",
       "    </tr>\n",
       "  </tbody>\n",
       "</table>\n",
       "</div>"
      ],
      "text/plain": [
       "                                        ID           Tags Description  \\\n",
       "0  <UID: 90a2a838f5b149aeb39a62b8bbe2835e>      [x_train]               \n",
       "1  <UID: fb476d205c804da9a8d5bbff12140398>      [y_train]               \n",
       "2  <UID: 28666e88d3694db7bfa214f794f931f9>      [context]               \n",
       "3  <UID: 5a0a3af5aee7477bb15ec01f55cd07e8>   [enc_x_test]               \n",
       "4  <UID: 5588e9efb0344e249630e6c40a7b356f>  [result_eval]               \n",
       "\n",
       "                             object_type  \n",
       "0                 <class 'torch.Tensor'>  \n",
       "1                 <class 'torch.Tensor'>  \n",
       "2  <class 'tenseal.enc_context.Context'>  \n",
       "3    <class 'syft.lib.python.list.List'>  \n",
       "4    <class 'syft.lib.python.list.List'>  "
      ]
     },
     "execution_count": 15,
     "metadata": {},
     "output_type": "execute_result"
    }
   ],
   "source": [
    "client.store.pandas"
   ]
  },
  {
   "cell_type": "code",
   "execution_count": 16,
   "metadata": {},
   "outputs": [
    {
     "name": "stdout",
     "output_type": "stream",
     "text": [
      "Evaluated test_set of 10 entries. Accuracy: 8/10 = 0.8\n"
     ]
    }
   ],
   "source": [
    "# Test the accuracy\n",
    "\n",
    "result_eval = client.store[\"result_eval\"].get(delete_obj=False)\n",
    "correct = 0\n",
    "for actual, expected in zip(result_eval, y_test):\n",
    "    actual.link_context(context)\n",
    "    actual = torch.tensor(actual.decrypt())\n",
    "    actual = torch.sigmoid(actual)\n",
    "\n",
    "    if torch.abs(actual - expected) < 0.5:\n",
    "        correct += 1\n",
    "        \n",
    "print(f\"Evaluated test_set of {len(x_test)} entries. Accuracy: {correct}/{len(x_test)} = {correct / len(x_test)}\")"
   ]
  },
  {
   "cell_type": "markdown",
   "metadata": {},
   "source": [
    "### <img src=\"https://github.com/OpenMined/design-assets/raw/master/logos/OM/mark-primary-light.png\" alt=\"he-black-box\" width=\"100\"/> Checkpoint 6: Well Done!"
   ]
  },
  {
   "cell_type": "markdown",
   "metadata": {},
   "source": [
    "# Congratulations!!! - Time to Join the Community!\n",
    "\n",
    "Congratulations on completing this notebook tutorial! If you enjoyed this and would like to join the movement toward privacy preserving, decentralized ownership of AI and the AI supply chain (data), you can do so in the following ways!\n",
    "\n",
    "### Star PySyft and TenSEAL on GitHub\n",
    "\n",
    "The easiest way to help our community is just by starring the Repos! This helps raise awareness of the cool tools we're building.\n",
    "\n",
    "- [Star PySyft](https://github.com/OpenMined/PySyft)\n",
    "- [Star TenSEAL](https://github.com/OpenMined/TenSEAL)\n",
    "\n",
    "### Join our Slack!\n",
    "\n",
    "The best way to keep up to date on the latest advancements is to join our community! You can do so by filling out the form at [http://slack.openmined.org](http://slack.openmined.org). #lib_tenseal and #code_tenseal are the main channels for the TenSEAL project.\n",
    "\n",
    "### Donate\n",
    "\n",
    "If you don't have time to contribute to our codebase, but would still like to lend support, you can also become a Backer on our Open Collective. All donations go toward our web hosting and other community expenses such as hackathons and meetups!\n",
    "\n",
    "[OpenMined's Open Collective Page](https://opencollective.com/openmined)"
   ]
  }
 ],
 "metadata": {
  "kernelspec": {
   "display_name": "Python 3",
   "language": "python",
   "name": "python3"
  },
  "language_info": {
   "codemirror_mode": {
    "name": "ipython",
    "version": 3
   },
   "file_extension": ".py",
   "mimetype": "text/x-python",
   "name": "python",
   "nbconvert_exporter": "python",
   "pygments_lexer": "ipython3",
   "version": "3.8.5"
  }
 },
 "nbformat": 4,
 "nbformat_minor": 4
}

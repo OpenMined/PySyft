{
 "cells": [
  {
   "cell_type": "markdown",
   "metadata": {},
   "source": [
    "<img src=\"https://github.com/OpenMined/design-assets/raw/master/logos/OM/horizontal-primary-light.png\" alt=\"he-black-box\" width=\"600\"/>\n",
    "\n",
    "\n",
    "# Homomorphic Encryption using Duet: Data Owner\n",
    "## Tutorial 0: Basic operations\n",
    "\n",
    "\n",
    "Welcome!\n",
    "This tutorial will show you how to use Duet with homomorphic encryption and some use cases. This notebook illustrates the Data Owner view on the operations.\n",
    "\n",
    "We will focus on Duet's integration with [TenSEAL](https://github.com/OpenMined/TenSEAL). \n",
    "TenSEAL is a Python library for doing homomorphic encryption operations on tensors. It's built on top of [Microsoft SEAL](https://github.com/Microsoft/SEAL), a C++ library implementing the BFV and CKKS homomorphic encryption schemes.\n",
    "\n",
    "\n",
    "If you want to learn more about TenSEAL, we recommend the following tutorials:\n",
    "- ['Tutorial 0 - Getting Started'](https://github.com/OpenMined/TenSEAL/blob/master/tutorials/Tutorial%200%20-%20Getting%20Started.ipynb).\n",
    "- ['Tutorial 1: Training and Evaluation of Logistic Regression on Encrypted Data'](https://github.com/OpenMined/TenSEAL/blob/master/tutorials/Tutorial%201%20-%20Training%20and%20Evaluation%20of%20Logistic%20Regression%20on%20Encrypted%20Data.ipynb).\n",
    "- ['Tutorial 2: Working with Approximate Numbers'](https://github.com/OpenMined/TenSEAL/blob/master/tutorials/Tutorial%202%20-%20Working%20with%20Approximate%20Numbers.ipynb).\n",
    "\n",
    "\n",
    "Let's now start the tutorial with a brief review of what homomorphic encryption is, but keep in mind that you don't need to be a crypto expert to use these features."
   ]
  },
  {
   "cell_type": "markdown",
   "metadata": {},
   "source": [
    "## Homomorphic Encryption\n",
    "\n",
    "__Definition__ : Homomorphic encryption (HE) is a technique that allows computations to be made on ciphertexts and generates results that when decrypted, corresponds to the result of the same computations made on plaintexts.\n",
    "\n",
    "<img src=\"https://github.com/OpenMined/TenSEAL/raw/master/tutorials/assets/he-black-box.png\" alt=\"he-black-box\" width=\"600\"/>\n",
    "\n",
    "This means that an HE scheme lets you encrypt two numbers *X* and *Y*, add their encrypted versions so that it gets decrypted to *X + Y*, the addition could have been a multiplication as well. "
   ]
  },
  {
   "cell_type": "markdown",
   "metadata": {},
   "source": [
    "### Setup\n",
    "\n",
    "All modules are imported here, make sure everything is installed by running the cell below."
   ]
  },
  {
   "cell_type": "code",
   "execution_count": 1,
   "metadata": {},
   "outputs": [],
   "source": [
    "import syft as sy\n",
    "import tenseal as ts\n",
    "import pytest\n",
    "from syft.grid.client.client import connect\n",
    "from syft.grid.client.grid_connection import GridHTTPConnection\n",
    "from syft.core.node.domain.client import DomainClient\n",
    "\n",
    "sy.load(\"tenseal\")"
   ]
  },
  {
   "cell_type": "markdown",
   "metadata": {},
   "source": [
    "## Connect to PyGrid\n",
    "\n",
    "Connect to PyGrid Domain server."
   ]
  },
  {
   "cell_type": "code",
   "execution_count": 2,
   "metadata": {},
   "outputs": [],
   "source": [
    "client = connect(\n",
    "    url=\"http://localhost:5000\", # Domain Address\n",
    "    credentials={\"email\":\"admin@email.com\", \"password\":\"pwd123\"},\n",
    "    conn_type= GridHTTPConnection, # HTTP Connection Protocol\n",
    "    client_type=DomainClient) # Domain Client type"
   ]
  },
  {
   "cell_type": "markdown",
   "metadata": {},
   "source": [
    "### Theory: Homomorphic encryption schemes\n",
    "\n",
    "__TenSEAL__ supports two encryption schemes:\n",
    " - __BFV__, a scheme for operations on integers.\n",
    " - __CKKS__, a scheme for operations on approximate numbers. This scheme is much better suited for ML applications and we will focus more on it.\n",
    " \n",
    "There are a few major steps for each scheme:\n",
    " 1. __Keys Generation__: in this step, we generate public and private keys that will be used for encryption/decryption.\n",
    " 2. __Encryption__: this is the process of converting a plaintext into an encrypted ciphertext. This step requires an encryption key(or a public key).\n",
    " 3. __Decryption__: this is the process of converting a ciphertext back into a plaintext. This step requires a decryption key(or a secret key). This step cannot be done on the Data Scientist endpoint."
   ]
  },
  {
   "cell_type": "markdown",
   "metadata": {},
   "source": [
    "### Theory: Homomorphic encryption parameters\n",
    "\n",
    "__TenSEAL__ requires a few parameters to set the keys up:\n",
    " - __The polynomial modulus degree(poly_modulus_degree).__ This parameter directly affects the size of the ciphertext, the security of the scheme(bigger is better), but also the computational performance of the scheme(bigger is worse)\n",
    " - __The coefficient modulus sizes(coeff_mod_bit_sizes).__ This parameter is an array of bit sizes and directly affects the size of the ciphertext, the security of the scheme(bigger is worse), and the depth of computation allowed in the encrypted space(longer is better).\n",
    " - __The scaling factor(global_scale).__ This parameter is only used for the approximate schemes(CKKS) and directly affects the precision of computation and decryption."
   ]
  },
  {
   "cell_type": "markdown",
   "metadata": {},
   "source": [
    "### Theory: Homomorphic encryption keys\n",
    "\n",
    "__TenSEAL__ generates a few keys internally, each with another use case:\n",
    " - __The Private Key(or the secret/decryption key)__. This key is used for decrypting ciphertexts, and it is used to derive the other keys. __DO NOT SHARE IT OUTSIDE THE DATA OWNER PROCESS__.\n",
    " - __The Public key(or the encryption key)__. This key is used for encrypting the plain data to a ciphertext. You can safely share it with the Data Scientist.\n",
    " - __The Relinearization Keys(optional)__. This key is used for controlling the quality of the ciphertexts after encrypted multiplications. Generate it only if you are doing encrypted multiplications. You can safely share it with the Data Scientist.\n",
    " - __The Galois Keys(optional)__. This key is needed to perform encrypted vector rotation operations on ciphertexts. Generate it only if you are evaluating convolutions on encrypted data. You can safely share it with the Data Scientist."
   ]
  },
  {
   "cell_type": "markdown",
   "metadata": {},
   "source": [
    "### TenSEAL Context\n",
    "\n",
    "Now that we had a short introduction, let's get to work.\n",
    "\n",
    "The first step to do for a Data Owner is to generate a security context containing security parameters and encryption keys."
   ]
  },
  {
   "cell_type": "code",
   "execution_count": 3,
   "metadata": {},
   "outputs": [
    {
     "data": {
      "text/plain": [
       "<tenseal.enc_context.Context at 0x7f6d7632d3a0>"
      ]
     },
     "execution_count": 3,
     "metadata": {},
     "output_type": "execute_result"
    }
   ],
   "source": [
    "context = ts.Context(\n",
    "    ts.SCHEME_TYPE.CKKS,\n",
    "    poly_modulus_degree=8192,\n",
    "    coeff_mod_bit_sizes=[60, 40, 40, 60]\n",
    ")\n",
    "context.global_scale = 2**40\n",
    "context"
   ]
  },
  {
   "cell_type": "markdown",
   "metadata": {},
   "source": [
    "### Encrypt the data\n"
   ]
  },
  {
   "cell_type": "code",
   "execution_count": 4,
   "metadata": {},
   "outputs": [
    {
     "data": {
      "text/plain": [
       "(<tenseal.tensors.ckksvector.CKKSVector at 0x7f6d7632da00>,\n",
       " <tenseal.tensors.ckksvector.CKKSVector at 0x7f6d7632d9a0>)"
      ]
     },
     "execution_count": 4,
     "metadata": {},
     "output_type": "execute_result"
    }
   ],
   "source": [
    "v1 = [0, 1, 2, 3, 4]\n",
    "v2 = [4, 3, 2, 1, 0]\n",
    "\n",
    "enc_v1 = ts.ckks_vector(context, v1)\n",
    "enc_v2 = ts.ckks_vector(context, v2)\n",
    "(enc_v1, enc_v2)"
   ]
  },
  {
   "cell_type": "markdown",
   "metadata": {},
   "source": [
    "### Make Context and Encrypted Vectors Referenceable over Duet"
   ]
  },
  {
   "cell_type": "code",
   "execution_count": 5,
   "metadata": {},
   "outputs": [],
   "source": [
    "# tag them so our partner can easily reference it\n",
    "ctx_ptr = context.send(client, pointable=True, tags=[\"context\"])\n",
    "enc_v1_ptr = enc_v1.send(client, pointable=True, tags=[\"enc_v1\"])\n",
    "enc_v2_ptr = enc_v2.send(client, pointable=True, tags=[\"enc_v2\"])"
   ]
  },
  {
   "cell_type": "code",
   "execution_count": 6,
   "metadata": {},
   "outputs": [
    {
     "data": {
      "text/html": [
       "<div>\n",
       "<style scoped>\n",
       "    .dataframe tbody tr th:only-of-type {\n",
       "        vertical-align: middle;\n",
       "    }\n",
       "\n",
       "    .dataframe tbody tr th {\n",
       "        vertical-align: top;\n",
       "    }\n",
       "\n",
       "    .dataframe thead th {\n",
       "        text-align: right;\n",
       "    }\n",
       "</style>\n",
       "<table border=\"1\" class=\"dataframe\">\n",
       "  <thead>\n",
       "    <tr style=\"text-align: right;\">\n",
       "      <th></th>\n",
       "      <th>ID</th>\n",
       "      <th>Tags</th>\n",
       "      <th>Description</th>\n",
       "      <th>object_type</th>\n",
       "    </tr>\n",
       "  </thead>\n",
       "  <tbody>\n",
       "    <tr>\n",
       "      <th>0</th>\n",
       "      <td>&lt;UID: b3fed70f04a6449ebb5cbead3b187a4e&gt;</td>\n",
       "      <td>[context]</td>\n",
       "      <td></td>\n",
       "      <td>&lt;class 'tenseal.enc_context.Context'&gt;</td>\n",
       "    </tr>\n",
       "    <tr>\n",
       "      <th>1</th>\n",
       "      <td>&lt;UID: 72327eb26d624addab7c78d120e8e588&gt;</td>\n",
       "      <td>[enc_v1]</td>\n",
       "      <td></td>\n",
       "      <td>&lt;class 'tenseal.tensors.ckksvector.CKKSVector'&gt;</td>\n",
       "    </tr>\n",
       "    <tr>\n",
       "      <th>2</th>\n",
       "      <td>&lt;UID: 249b8e6c602143a6a6f6d1faefa0f6d6&gt;</td>\n",
       "      <td>[enc_v2]</td>\n",
       "      <td></td>\n",
       "      <td>&lt;class 'tenseal.tensors.ckksvector.CKKSVector'&gt;</td>\n",
       "    </tr>\n",
       "  </tbody>\n",
       "</table>\n",
       "</div>"
      ],
      "text/plain": [
       "                                        ID       Tags Description  \\\n",
       "0  <UID: b3fed70f04a6449ebb5cbead3b187a4e>  [context]               \n",
       "1  <UID: 72327eb26d624addab7c78d120e8e588>   [enc_v1]               \n",
       "2  <UID: 249b8e6c602143a6a6f6d1faefa0f6d6>   [enc_v2]               \n",
       "\n",
       "                                       object_type  \n",
       "0            <class 'tenseal.enc_context.Context'>  \n",
       "1  <class 'tenseal.tensors.ckksvector.CKKSVector'>  \n",
       "2  <class 'tenseal.tensors.ckksvector.CKKSVector'>  "
      ]
     },
     "execution_count": 6,
     "metadata": {},
     "output_type": "execute_result"
    }
   ],
   "source": [
    "# we can see that our three objects are now inside the store we control\n",
    "client.store.pandas"
   ]
  },
  {
   "cell_type": "markdown",
   "metadata": {},
   "source": [
    "### <img src=\"https://github.com/OpenMined/design-assets/raw/master/logos/OM/mark-primary-light.png\" alt=\"he-black-box\" width=\"100\"/> Checkpoint 1 : Now STOP and run the Data Scientist notebook until the same checkpoint."
   ]
  },
  {
   "cell_type": "code",
   "execution_count": 7,
   "metadata": {},
   "outputs": [
    {
     "data": {
      "text/html": [
       "<div>\n",
       "<style scoped>\n",
       "    .dataframe tbody tr th:only-of-type {\n",
       "        vertical-align: middle;\n",
       "    }\n",
       "\n",
       "    .dataframe tbody tr th {\n",
       "        vertical-align: top;\n",
       "    }\n",
       "\n",
       "    .dataframe thead th {\n",
       "        text-align: right;\n",
       "    }\n",
       "</style>\n",
       "<table border=\"1\" class=\"dataframe\">\n",
       "  <thead>\n",
       "    <tr style=\"text-align: right;\">\n",
       "      <th></th>\n",
       "      <th>Requested Object's tags</th>\n",
       "      <th>Reason</th>\n",
       "      <th>Request ID</th>\n",
       "      <th>Requested Object's ID</th>\n",
       "      <th>Requested Object's type</th>\n",
       "    </tr>\n",
       "  </thead>\n",
       "  <tbody>\n",
       "    <tr>\n",
       "      <th>0</th>\n",
       "      <td>[context]</td>\n",
       "      <td>I would like to get the context</td>\n",
       "      <td>&lt;UID: d5d22bf11d474b74a4204e7990edec50&gt;</td>\n",
       "      <td>&lt;UID: b3fed70f04a6449ebb5cbead3b187a4e&gt;</td>\n",
       "      <td>&lt;class 'tenseal.enc_context.Context'&gt;</td>\n",
       "    </tr>\n",
       "    <tr>\n",
       "      <th>1</th>\n",
       "      <td>[enc_v1]</td>\n",
       "      <td>I would like to get first vector</td>\n",
       "      <td>&lt;UID: 34b7d549d0b74a2fb5d8c7ce4c36dd70&gt;</td>\n",
       "      <td>&lt;UID: 72327eb26d624addab7c78d120e8e588&gt;</td>\n",
       "      <td>&lt;class 'tenseal.tensors.ckksvector.CKKSVector'&gt;</td>\n",
       "    </tr>\n",
       "    <tr>\n",
       "      <th>2</th>\n",
       "      <td>[enc_v2]</td>\n",
       "      <td>I would like to get second vector</td>\n",
       "      <td>&lt;UID: b770f7925f21431b9614c3a7f2ba127e&gt;</td>\n",
       "      <td>&lt;UID: 249b8e6c602143a6a6f6d1faefa0f6d6&gt;</td>\n",
       "      <td>&lt;class 'tenseal.tensors.ckksvector.CKKSVector'&gt;</td>\n",
       "    </tr>\n",
       "  </tbody>\n",
       "</table>\n",
       "</div>"
      ],
      "text/plain": [
       "  Requested Object's tags                             Reason  \\\n",
       "0               [context]    I would like to get the context   \n",
       "1                [enc_v1]   I would like to get first vector   \n",
       "2                [enc_v2]  I would like to get second vector   \n",
       "\n",
       "                                Request ID  \\\n",
       "0  <UID: d5d22bf11d474b74a4204e7990edec50>   \n",
       "1  <UID: 34b7d549d0b74a2fb5d8c7ce4c36dd70>   \n",
       "2  <UID: b770f7925f21431b9614c3a7f2ba127e>   \n",
       "\n",
       "                     Requested Object's ID  \\\n",
       "0  <UID: b3fed70f04a6449ebb5cbead3b187a4e>   \n",
       "1  <UID: 72327eb26d624addab7c78d120e8e588>   \n",
       "2  <UID: 249b8e6c602143a6a6f6d1faefa0f6d6>   \n",
       "\n",
       "                           Requested Object's type  \n",
       "0            <class 'tenseal.enc_context.Context'>  \n",
       "1  <class 'tenseal.tensors.ckksvector.CKKSVector'>  \n",
       "2  <class 'tenseal.tensors.ckksvector.CKKSVector'>  "
      ]
     },
     "execution_count": 7,
     "metadata": {},
     "output_type": "execute_result"
    }
   ],
   "source": [
    "# We can see our duet partner has requested the two encrypted vectors and the public context\n",
    "client.requests.pandas"
   ]
  },
  {
   "cell_type": "markdown",
   "metadata": {},
   "source": [
    "### Approve the requests"
   ]
  },
  {
   "cell_type": "code",
   "execution_count": 8,
   "metadata": {},
   "outputs": [],
   "source": [
    "client.requests[0].accept()\n",
    "client.requests[0].accept()\n",
    "client.requests[0].accept()"
   ]
  },
  {
   "cell_type": "code",
   "execution_count": 9,
   "metadata": {},
   "outputs": [
    {
     "data": {
      "text/html": [
       "<div>\n",
       "<style scoped>\n",
       "    .dataframe tbody tr th:only-of-type {\n",
       "        vertical-align: middle;\n",
       "    }\n",
       "\n",
       "    .dataframe tbody tr th {\n",
       "        vertical-align: top;\n",
       "    }\n",
       "\n",
       "    .dataframe thead th {\n",
       "        text-align: right;\n",
       "    }\n",
       "</style>\n",
       "<table border=\"1\" class=\"dataframe\">\n",
       "  <thead>\n",
       "    <tr style=\"text-align: right;\">\n",
       "      <th></th>\n",
       "    </tr>\n",
       "  </thead>\n",
       "  <tbody>\n",
       "  </tbody>\n",
       "</table>\n",
       "</div>"
      ],
      "text/plain": [
       "Empty DataFrame\n",
       "Columns: []\n",
       "Index: []"
      ]
     },
     "execution_count": 9,
     "metadata": {},
     "output_type": "execute_result"
    }
   ],
   "source": [
    "# The requests should have been handled\n",
    "client.requests.pandas"
   ]
  },
  {
   "cell_type": "markdown",
   "metadata": {},
   "source": [
    "### <img src=\"https://github.com/OpenMined/design-assets/raw/master/logos/OM/mark-primary-light.png\" alt=\"he-black-box\" width=\"100\"/> Checkpoint 2 : Now STOP and run the Data Scientist notebook until the same checkpoint."
   ]
  },
  {
   "cell_type": "markdown",
   "metadata": {},
   "source": [
    "### Get the computation results from store and decrypt them locally"
   ]
  },
  {
   "cell_type": "code",
   "execution_count": 10,
   "metadata": {},
   "outputs": [
    {
     "data": {
      "text/plain": [
       "<tenseal.tensors.ckksvector.CKKSVector at 0x7f6d6fdf4820>"
      ]
     },
     "execution_count": 10,
     "metadata": {},
     "output_type": "execute_result"
    }
   ],
   "source": [
    "# Validate the encrypted add\n",
    "\n",
    "result_add = client.store[\"result_add\"].get(delete_obj=False)\n",
    "result_add.link_context(context)\n",
    "\n",
    "result_add"
   ]
  },
  {
   "cell_type": "code",
   "execution_count": 11,
   "metadata": {},
   "outputs": [
    {
     "data": {
      "text/plain": [
       "[4.000000001397238,\n",
       " 4.000000000909913,\n",
       " 3.999999999419631,\n",
       " 3.9999999992757678,\n",
       " 4.000000004113352]"
      ]
     },
     "execution_count": 11,
     "metadata": {},
     "output_type": "execute_result"
    }
   ],
   "source": [
    "decrypted_result = result_add.decrypt()\n",
    "assert pytest.approx(decrypted_result, abs=10**-3) == [v1 + v2 for v1, v2 in zip(v1, v2)]\n",
    "\n",
    "decrypted_result"
   ]
  },
  {
   "cell_type": "code",
   "execution_count": 13,
   "metadata": {},
   "outputs": [
    {
     "data": {
      "text/plain": [
       "[10.000000000757407,\n",
       " 11.000000000253046,\n",
       " 12.000000000043126,\n",
       " 12.999999999610289,\n",
       " 14.00000000305474]"
      ]
     },
     "execution_count": 13,
     "metadata": {},
     "output_type": "execute_result"
    }
   ],
   "source": [
    "# Validate the encrypted - plain add\n",
    "\n",
    "result_iadd = client.store[\"result_iadd\"].get(delete_obj=False)\n",
    "result_iadd.link_context(context)\n",
    "\n",
    "decrypted_result = result_iadd.decrypt()\n",
    "assert pytest.approx(decrypted_result, abs=10**-3) == [v1 + v2 for v1, v2 in zip(v1, [10, 10, 10, 10, 10])]\n",
    "\n",
    "decrypted_result"
   ]
  },
  {
   "cell_type": "code",
   "execution_count": 14,
   "metadata": {},
   "outputs": [
    {
     "data": {
      "text/plain": [
       "[-3.9999999998677493,\n",
       " -2.0000000003948544,\n",
       " 5.734850372363098e-10,\n",
       " 1.999999999988735,\n",
       " 4.000000001905203]"
      ]
     },
     "execution_count": 14,
     "metadata": {},
     "output_type": "execute_result"
    }
   ],
   "source": [
    "# Validate the encrypted subtraction\n",
    "\n",
    "result_sub = client.store[\"result_sub\"].get(delete_obj=False)\n",
    "result_sub.link_context(context)\n",
    "\n",
    "decrypted_result = result_sub.decrypt()\n",
    "assert pytest.approx(decrypted_result, abs=10**-3) == [v1 - v2 for v1, v2 in zip(v1, v2)]\n",
    "\n",
    "decrypted_result"
   ]
  },
  {
   "cell_type": "code",
   "execution_count": 15,
   "metadata": {},
   "outputs": [
    {
     "data": {
      "text/plain": [
       "[1.2137830740499567e-09,\n",
       " 3.0000004032510796,\n",
       " 4.000000534586555,\n",
       " 3.0000004010256442,\n",
       " 1.9816770446823284e-10]"
      ]
     },
     "execution_count": 15,
     "metadata": {},
     "output_type": "execute_result"
    }
   ],
   "source": [
    "# Validate the encrypted multiplication\n",
    "\n",
    "result_mul = client.store[\"result_mul\"].get(delete_obj=False)\n",
    "result_mul.link_context(context)\n",
    "\n",
    "decrypted_result = result_mul.decrypt()\n",
    "assert pytest.approx(decrypted_result, abs=10**-3) == [v1 * v2 for v1, v2 in zip(v1, v2)]\n",
    "\n",
    "decrypted_result"
   ]
  },
  {
   "cell_type": "code",
   "execution_count": 16,
   "metadata": {},
   "outputs": [
    {
     "data": {
      "text/plain": [
       "[-2.9112179333878885e-10,\n",
       " 1.0000008073093554,\n",
       " 8.000006437818943,\n",
       " 27.000021712227078,\n",
       " 64.00005163222305]"
      ]
     },
     "execution_count": 16,
     "metadata": {},
     "output_type": "execute_result"
    }
   ],
   "source": [
    "# Validate the encrypted power\n",
    "\n",
    "result_pow = client.store[\"result_pow\"].get(delete_obj=False)\n",
    "result_pow.link_context(context)\n",
    "\n",
    "decrypted_result = result_pow.decrypt()\n",
    "assert pytest.approx(decrypted_result, abs=10**-3) == [v ** 3 for v in v1]\n",
    "\n",
    "decrypted_result"
   ]
  },
  {
   "cell_type": "code",
   "execution_count": 17,
   "metadata": {},
   "outputs": [
    {
     "data": {
      "text/plain": [
       "[-7.647451560899299e-10,\n",
       " -1.000000000257529,\n",
       " -1.9999999999965588,\n",
       " -2.9999999996322515,\n",
       " -4.000000003009278]"
      ]
     },
     "execution_count": 17,
     "metadata": {},
     "output_type": "execute_result"
    }
   ],
   "source": [
    "# Validate the encrypted negation\n",
    "\n",
    "result_neg = client.store[\"result_neg\"].get(delete_obj=False)\n",
    "result_neg.link_context(context)\n",
    "\n",
    "decrypted_result = result_neg.decrypt()\n",
    "assert pytest.approx(decrypted_result, abs=10**-3) == [-v for v in v1]\n",
    "\n",
    "decrypted_result"
   ]
  },
  {
   "cell_type": "code",
   "execution_count": 18,
   "metadata": {},
   "outputs": [
    {
     "data": {
      "text/plain": [
       "[0.999999997204764,\n",
       " 3.000000943555186,\n",
       " 13.000006974918877,\n",
       " 37.00002291675291,\n",
       " 81.00005380197547]"
      ]
     },
     "execution_count": 18,
     "metadata": {},
     "output_type": "execute_result"
    }
   ],
   "source": [
    "# Validate the encrypted polynomial evaluation for 1 + X^2 + X^3\n",
    "\n",
    "result_poly = client.store[\"result_poly\"].get(delete_obj=False)\n",
    "result_poly.link_context(context)\n",
    "\n",
    "decrypted_result = result_poly.decrypt()\n",
    "assert pytest.approx(decrypted_result, abs=10**-3) == [1 + v**2 + v**3 for v in v1]\n",
    "\n",
    "decrypted_result"
   ]
  },
  {
   "cell_type": "markdown",
   "metadata": {},
   "source": [
    "### <img src=\"https://github.com/OpenMined/design-assets/raw/master/logos/OM/mark-primary-light.png\" alt=\"he-black-box\" width=\"100\"/> Checkpoint 3 : Well done!"
   ]
  },
  {
   "cell_type": "markdown",
   "metadata": {},
   "source": [
    "# Congratulations!!! - Time to Join the Community!\n",
    "\n",
    "Congratulations on completing this notebook tutorial! If you enjoyed this and would like to join the movement toward privacy preserving, decentralized ownership of AI and the AI supply chain (data), you can do so in the following ways!\n",
    "\n",
    "### Star PySyft and TenSEAL on GitHub\n",
    "\n",
    "The easiest way to help our community is just by starring the Repos! This helps raise awareness of the cool tools we're building.\n",
    "\n",
    "- [Star PySyft](https://github.com/OpenMined/PySyft)\n",
    "- [Star TenSEAL](https://github.com/OpenMined/TenSEAL)\n",
    "\n",
    "### Join our Slack!\n",
    "\n",
    "The best way to keep up to date on the latest advancements is to join our community! You can do so by filling out the form at [http://slack.openmined.org](http://slack.openmined.org). #lib_tenseal and #code_tenseal are the main channels for the TenSEAL project.\n",
    "\n",
    "### Donate\n",
    "\n",
    "If you don't have time to contribute to our codebase, but would still like to lend support, you can also become a Backer on our Open Collective. All donations go toward our web hosting and other community expenses such as hackathons and meetups!\n",
    "\n",
    "[OpenMined's Open Collective Page](https://opencollective.com/openmined)"
   ]
  }
 ],
 "metadata": {
  "kernelspec": {
   "display_name": "Python 3",
   "language": "python",
   "name": "python3"
  },
  "language_info": {
   "codemirror_mode": {
    "name": "ipython",
    "version": 3
   },
   "file_extension": ".py",
   "mimetype": "text/x-python",
   "name": "python",
   "nbconvert_exporter": "python",
   "pygments_lexer": "ipython3",
   "version": "3.8.5"
  }
 },
 "nbformat": 4,
 "nbformat_minor": 4
}

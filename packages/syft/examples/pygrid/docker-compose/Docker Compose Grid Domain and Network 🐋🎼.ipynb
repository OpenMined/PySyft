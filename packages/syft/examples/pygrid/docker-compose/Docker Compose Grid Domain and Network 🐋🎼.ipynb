{
 "cells": [
  {
   "cell_type": "markdown",
   "id": "086d1b07",
   "metadata": {},
   "source": [
    "## Docker Compose Grid Domain and Network 🐋🎼"
   ]
  },
  {
   "cell_type": "markdown",
   "id": "75f4ee4e",
   "metadata": {},
   "source": [
    "<img src=\"../../../docs/img/pygrid_logo.png\" align=\"center\"/>\n",
    "\n",
    "Install Docker and docker-compose for your operating system: https://www.docker.com/"
   ]
  },
  {
   "cell_type": "code",
   "execution_count": null,
   "id": "8c9ffa32",
   "metadata": {},
   "outputs": [],
   "source": [
    "# if you need syft you can try installing the latest release candidate with:\n",
    "# !pip install syft==0.5.0"
   ]
  },
  {
   "cell_type": "code",
   "execution_count": null,
   "id": "hidden-venue",
   "metadata": {},
   "outputs": [],
   "source": [
    "from syft.grid.client.client import connect\n",
    "from syft.grid.client.grid_connection import GridHTTPConnection\n",
    "from syft.core.node.domain.client import DomainClient\n",
    "from syft import logger\n",
    "import syft as sy\n",
    "import torch as th\n",
    "logger.remove()"
   ]
  },
  {
   "cell_type": "markdown",
   "id": "several-rebecca",
   "metadata": {},
   "source": [
    "# Settings"
   ]
  },
  {
   "cell_type": "markdown",
   "id": "db4ad57e",
   "metadata": {},
   "source": [
    "## Run the Compose File"
   ]
  },
  {
   "cell_type": "markdown",
   "id": "93737cc4",
   "metadata": {},
   "source": [
    "```\n",
    "$ cd PySyft\n",
    "$ docker-compose -f docker/docker-compose.yml up -d\n",
    "```"
   ]
  },
  {
   "cell_type": "markdown",
   "id": "87e5d0e1",
   "metadata": {},
   "source": [
    "Run `$ docker ps` and check the output:\n",
    "```\n",
    "CONTAINER ID   IMAGE                           COMMAND                  CREATED          STATUS          PORTS                                       NAMES\n",
    "28e7f96f410f   openmined/grid-network:latest   \"bash -c 'cd /app &&…\"   36 seconds ago   Up 32 seconds   0.0.0.0:5001->5000/tcp, :::5001->5000/tcp   network\n",
    "5550f396ba64   openmined/grid-domain:latest    \"bash -c 'cd /app &&…\"   38 seconds ago   Up 33 seconds   0.0.0.0:5002->5000/tcp, :::5002->5000/tcp   domain\n",
    "a41148d6806c   postgres:12                     \"docker-entrypoint.s…\"   41 seconds ago   Up 37 seconds   0.0.0.0:5434->5432/tcp, :::5434->5432/tcp   db.domain\n",
    "f27e513d7c12   postgres:12                     \"docker-entrypoint.s…\"   41 seconds ago   Up 36 seconds   0.0.0.0:5433->5432/tcp, :::5433->5432/tcp   db.network```"
   ]
  },
  {
   "cell_type": "code",
   "execution_count": null,
   "id": "05767832",
   "metadata": {},
   "outputs": [],
   "source": [
    "HOST_MAPPINGS = {}"
   ]
  },
  {
   "cell_type": "code",
   "execution_count": null,
   "id": "2085a8a7",
   "metadata": {},
   "outputs": [],
   "source": [
    "# We need to connect to our docker network using localhost and the published ports"
   ]
  },
  {
   "cell_type": "code",
   "execution_count": null,
   "id": "1f3c4682",
   "metadata": {},
   "outputs": [],
   "source": [
    "NETWORK_URL = \"http://localhost:5001\"\n",
    "DOMAIN_URL = \"http://localhost:5002\""
   ]
  },
  {
   "cell_type": "code",
   "execution_count": null,
   "id": "bc9a5fc9",
   "metadata": {},
   "outputs": [],
   "source": [
    "# However docker needs to address itself internally using its hostname and the normal port"
   ]
  },
  {
   "cell_type": "code",
   "execution_count": null,
   "id": "9962eb7b",
   "metadata": {},
   "outputs": [],
   "source": [
    "DOCKER_NETWORK_URL = \"http://network:5000\"\n",
    "DOCKER_DOMAIN_URL = \"http://domain:5000\""
   ]
  },
  {
   "cell_type": "code",
   "execution_count": null,
   "id": "66b372ab",
   "metadata": {},
   "outputs": [],
   "source": [
    "HOST_MAPPINGS[NETWORK_URL] = DOCKER_NETWORK_URL\n",
    "HOST_MAPPINGS[DOMAIN_URL] = DOCKER_DOMAIN_URL"
   ]
  },
  {
   "cell_type": "code",
   "execution_count": null,
   "id": "ef092101",
   "metadata": {},
   "outputs": [],
   "source": [
    "INV_HOST_MAPPINGS = {value : key for (key, value) in HOST_MAPPINGS.items()}"
   ]
  },
  {
   "cell_type": "code",
   "execution_count": null,
   "id": "cd3483db",
   "metadata": {},
   "outputs": [],
   "source": [
    "INV_HOST_MAPPINGS"
   ]
  },
  {
   "cell_type": "code",
   "execution_count": null,
   "id": "dominant-terrain",
   "metadata": {},
   "outputs": [],
   "source": [
    "do_email, do_pw = \"owner@openmined.org\", \"12345\"\n",
    "ds_email, ds_pw = \"data_scientist@email.com\", \"data_scientist_pwd123\"\n",
    "net_email, net_pw = \"network@mymail.com\", \"network_pw\"\n",
    "token = \"9G9MJ06OQH\"\n",
    "network_allowlist = [DOMAIN_URL]"
   ]
  },
  {
   "cell_type": "markdown",
   "id": "southeast-portal",
   "metadata": {},
   "source": [
    "# Utils"
   ]
  },
  {
   "cell_type": "code",
   "execution_count": null,
   "id": "saved-ladder",
   "metadata": {},
   "outputs": [],
   "source": [
    "def setup_and_connect(url, email, pw, token, node_name=\"My Node\", domain_name=\"Openmined Domain\"):\n",
    "    def _connect(): return connect(url=url, credentials={\"email\": email, \"password\": pw})\n",
    "    try:\n",
    "        return _connect()\n",
    "    except Exception as e:\n",
    "        client = connect(url=url)\n",
    "        client.setup(email=email, password=pw, node_name=node_name, domain_name=domain_name, token=token)\n",
    "        return _connect()"
   ]
  },
  {
   "cell_type": "code",
   "execution_count": null,
   "id": "superb-hardwood",
   "metadata": {},
   "outputs": [],
   "source": [
    "def is_associated(client, network_url):\n",
    "    requests = client.association_requests.all() \n",
    "    return any([x[\"address\"] == network_url and x[\"accepted\"] == True for x in requests])"
   ]
  },
  {
   "cell_type": "markdown",
   "id": "damaged-marketplace",
   "metadata": {},
   "source": [
    "# Setup Network"
   ]
  },
  {
   "cell_type": "markdown",
   "id": "empirical-stanford",
   "metadata": {},
   "source": [
    "For networks, there is a small naming issue in pygrid `setup_serice.py` line 108 (\"msg\" -> \"message\"), you might have to run this twice to work. "
   ]
  },
  {
   "cell_type": "code",
   "execution_count": null,
   "id": "social-multiple",
   "metadata": {},
   "outputs": [],
   "source": [
    "network_client = setup_and_connect(NETWORK_URL, net_email, net_pw, token, domain_name=\"Network\")"
   ]
  },
  {
   "cell_type": "markdown",
   "id": "bigger-miniature",
   "metadata": {},
   "source": [
    "# Data owner: setup, connect to network, and load data"
   ]
  },
  {
   "cell_type": "markdown",
   "id": "interstate-understanding",
   "metadata": {},
   "source": [
    "## Setup"
   ]
  },
  {
   "cell_type": "code",
   "execution_count": null,
   "id": "collaborative-curtis",
   "metadata": {},
   "outputs": [],
   "source": [
    "do_client = setup_and_connect(DOMAIN_URL, do_email, do_pw, token)"
   ]
  },
  {
   "cell_type": "code",
   "execution_count": null,
   "id": "important-realtor",
   "metadata": {},
   "outputs": [],
   "source": [
    "do_client.users.all()"
   ]
  },
  {
   "cell_type": "markdown",
   "id": "healthy-galaxy",
   "metadata": {},
   "source": [
    "## Association Request"
   ]
  },
  {
   "cell_type": "code",
   "execution_count": null,
   "id": "personalized-brown",
   "metadata": {},
   "outputs": [],
   "source": [
    "if not is_associated(do_client, HOST_MAPPINGS[NETWORK_URL]):\n",
    "    do_client.association_requests.create(\n",
    "        name=\"My request\",\n",
    "        address=HOST_MAPPINGS[NETWORK_URL],\n",
    "        sender_address=HOST_MAPPINGS[DOMAIN_URL]\n",
    "    )"
   ]
  },
  {
   "cell_type": "markdown",
   "id": "australian-thong",
   "metadata": {},
   "source": [
    "### Network Accepts requests from allowlisted URLS"
   ]
  },
  {
   "cell_type": "code",
   "execution_count": null,
   "id": "a25a029b",
   "metadata": {},
   "outputs": [],
   "source": [
    "# add the internal hosts to the allowlist"
   ]
  },
  {
   "cell_type": "code",
   "execution_count": null,
   "id": "aa5a3c3a",
   "metadata": {},
   "outputs": [],
   "source": [
    "network_allowlist.append(DOCKER_NETWORK_URL)\n",
    "network_allowlist.append(DOCKER_DOMAIN_URL)"
   ]
  },
  {
   "cell_type": "code",
   "execution_count": null,
   "id": "economic-blues",
   "metadata": {},
   "outputs": [],
   "source": [
    "for req in network_client.association_requests.all():\n",
    "    if req[\"address\"] in network_allowlist and req[\"accepted\"] == False:\n",
    "        network_client.association_requests[req[\"id\"]].accept();"
   ]
  },
  {
   "cell_type": "code",
   "execution_count": null,
   "id": "southeast-organ",
   "metadata": {},
   "outputs": [],
   "source": [
    "network_client.association_requests.all(pandas=True)"
   ]
  },
  {
   "cell_type": "markdown",
   "id": "moving-governor",
   "metadata": {},
   "source": [
    "## Create dataset (DO)"
   ]
  },
  {
   "cell_type": "code",
   "execution_count": null,
   "id": "worthy-gravity",
   "metadata": {},
   "outputs": [],
   "source": [
    "tag = \"#ages\""
   ]
  },
  {
   "cell_type": "code",
   "execution_count": null,
   "id": "parliamentary-dublin",
   "metadata": {},
   "outputs": [],
   "source": [
    "data_x = th.Tensor([28, 30, 31, 40, 55, 26, 36])"
   ]
  },
  {
   "cell_type": "code",
   "execution_count": null,
   "id": "million-weight",
   "metadata": {},
   "outputs": [],
   "source": [
    "x_ptr = data_x.send(do_client, pointable=True, tags=[f\"{tag}:x\"])"
   ]
  },
  {
   "cell_type": "markdown",
   "id": "silver-snake",
   "metadata": {},
   "source": [
    "## Create DS account (DO)"
   ]
  },
  {
   "cell_type": "markdown",
   "id": "romantic-klein",
   "metadata": {},
   "source": [
    "If we do this for multiple `Domains` we need to make sure that we dont use the same password for different domains. As this may leak access keys between domains"
   ]
  },
  {
   "cell_type": "code",
   "execution_count": null,
   "id": "composite-provincial",
   "metadata": {},
   "outputs": [],
   "source": [
    "if not any([x[\"email\"] == ds_email for x in do_client.users.all()]):\n",
    "    do_client.users.create(email=ds_email, password=ds_pw)"
   ]
  },
  {
   "cell_type": "markdown",
   "id": "experienced-tiger",
   "metadata": {},
   "source": [
    "# Data scientist: search & train"
   ]
  },
  {
   "cell_type": "markdown",
   "id": "psychological-aquarium",
   "metadata": {},
   "source": [
    "## Search"
   ]
  },
  {
   "cell_type": "markdown",
   "id": "bacterial-aluminum",
   "metadata": {},
   "source": [
    "TODO: this should ideally be a separate client (with user permissions) in the future. For now this is oke as we assume that the network owner and the data scientist are from the same org."
   ]
  },
  {
   "cell_type": "code",
   "execution_count": null,
   "id": "desirable-process",
   "metadata": {},
   "outputs": [],
   "source": [
    "query = f\"{tag}:x\""
   ]
  },
  {
   "cell_type": "code",
   "execution_count": null,
   "id": "dense-championship",
   "metadata": {},
   "outputs": [],
   "source": [
    "network_client.search(query=[query], pandas=True)"
   ]
  },
  {
   "cell_type": "code",
   "execution_count": null,
   "id": "recovered-exposure",
   "metadata": {},
   "outputs": [],
   "source": [
    "urls = network_client.search(query=[query])[\"match-nodes\"]\n",
    "url = urls[0]\n",
    "url"
   ]
  },
  {
   "cell_type": "code",
   "execution_count": null,
   "id": "b9c433d9",
   "metadata": {},
   "outputs": [],
   "source": [
    "url = INV_HOST_MAPPINGS[url]\n",
    "url"
   ]
  },
  {
   "cell_type": "markdown",
   "id": "future-subsection",
   "metadata": {},
   "source": [
    "## Connect to domain"
   ]
  },
  {
   "cell_type": "code",
   "execution_count": null,
   "id": "naked-testament",
   "metadata": {},
   "outputs": [],
   "source": [
    "ds_client = connect(url=url, credentials={\"email\": ds_email, \"password\": ds_pw})"
   ]
  },
  {
   "cell_type": "code",
   "execution_count": null,
   "id": "6820bf7d",
   "metadata": {},
   "outputs": [],
   "source": [
    "ds_client.store.pandas"
   ]
  },
  {
   "cell_type": "code",
   "execution_count": null,
   "id": "4c95a0dd",
   "metadata": {},
   "outputs": [],
   "source": [
    "ages_mean_ptr = ds_client.store[\"#ages:x\"].mean()"
   ]
  },
  {
   "cell_type": "code",
   "execution_count": null,
   "id": "f8ccd650",
   "metadata": {},
   "outputs": [],
   "source": [
    "ds_client.store.pandas"
   ]
  },
  {
   "cell_type": "code",
   "execution_count": null,
   "id": "c650a5d2",
   "metadata": {},
   "outputs": [],
   "source": [
    "ages_mean_ptr.request(reason=\"Can I have it please?\")"
   ]
  },
  {
   "cell_type": "code",
   "execution_count": null,
   "id": "04a5e5fe",
   "metadata": {},
   "outputs": [],
   "source": [
    "do_client.requests.pandas"
   ]
  },
  {
   "cell_type": "code",
   "execution_count": null,
   "id": "c86252a9",
   "metadata": {},
   "outputs": [],
   "source": [
    "do_client.requests[-1].approve()"
   ]
  },
  {
   "cell_type": "code",
   "execution_count": null,
   "id": "bf94472e",
   "metadata": {},
   "outputs": [],
   "source": [
    "nb_mean = data_x.mean()\n",
    "remote_mean = ages_mean_ptr.get(delete_obj=False)"
   ]
  },
  {
   "cell_type": "code",
   "execution_count": null,
   "id": "7560606b",
   "metadata": {},
   "outputs": [],
   "source": [
    "nb_mean, remote_mean"
   ]
  },
  {
   "cell_type": "code",
   "execution_count": null,
   "id": "9abc5b97",
   "metadata": {},
   "outputs": [],
   "source": []
  }
 ],
 "metadata": {
  "kernelspec": {
   "display_name": "Python 3",
   "language": "python",
   "name": "python3"
  },
  "language_info": {
   "codemirror_mode": {
    "name": "ipython",
    "version": 3
   },
   "file_extension": ".py",
   "mimetype": "text/x-python",
   "name": "python",
   "nbconvert_exporter": "python",
   "pygments_lexer": "ipython3",
   "version": "3.9.4"
  },
  "toc": {
   "base_numbering": 1,
   "nav_menu": {},
   "number_sections": true,
   "sideBar": true,
   "skip_h1_title": false,
   "title_cell": "Table of Contents",
   "title_sidebar": "Contents",
   "toc_cell": false,
   "toc_position": {},
   "toc_section_display": true,
   "toc_window_display": true
  }
 },
 "nbformat": 4,
 "nbformat_minor": 5
}

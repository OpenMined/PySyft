{
 "cells": [
  {
   "cell_type": "markdown",
   "id": "bd7d748f",
   "metadata": {},
   "source": [
    "## Initial Setup"
   ]
  },
  {
   "cell_type": "code",
   "execution_count": 1,
   "id": "e73e75dc",
   "metadata": {},
   "outputs": [],
   "source": [
    "from syft.grid.client.client import connect  # Method used to connect with the domain.\n",
    "from syft.grid.client.grid_connection import (\n",
    "    GridHTTPConnection,\n",
    ")  # Protocol used to talk with the domain\n",
    "\n",
    "import syft as sy\n",
    "import torch as th\n",
    "\n",
    "# Set logging level\n",
    "import logging\n",
    "\n",
    "logging.basicConfig(level=logging.INFO)"
   ]
  },
  {
   "cell_type": "markdown",
   "id": "fe7e9d50",
   "metadata": {},
   "source": [
    "### Create User Account"
   ]
  },
  {
   "cell_type": "code",
   "execution_count": 2,
   "id": "d507f4e2",
   "metadata": {},
   "outputs": [
    {
     "name": "stderr",
     "output_type": "stream",
     "text": [
      "[2021-05-09T22:15:42.436147+0100][CRITICAL][logger]][8031] Skipping torchvision.torchvision.transforms.functional.adjust_sharpness not supported in 0.8.1\n",
      "[2021-05-09T22:15:42.437017+0100][CRITICAL][logger]][8031] Skipping torchvision.torchvision.transforms.functional.autocontrast not supported in 0.8.1\n",
      "[2021-05-09T22:15:42.437591+0100][CRITICAL][logger]][8031] Skipping torchvision.torchvision.transforms.functional.equalize not supported in 0.8.1\n",
      "[2021-05-09T22:15:42.438334+0100][CRITICAL][logger]][8031] Skipping torchvision.torchvision.transforms.functional.invert not supported in 0.8.1\n",
      "[2021-05-09T22:15:42.438826+0100][CRITICAL][logger]][8031] Skipping torchvision.torchvision.transforms.functional.posterize not supported in 0.8.1\n",
      "[2021-05-09T22:15:42.439454+0100][CRITICAL][logger]][8031] Skipping torchvision.torchvision.transforms.functional.solarize not supported in 0.8.1\n",
      "INFO:root:User created successfully!\n"
     ]
    }
   ],
   "source": [
    "unauthenticated_client = connect(\n",
    "    url=\"http://localhost:5000\", conn_type=GridHTTPConnection\n",
    ")\n",
    "\n",
    "unauthenticated_client.users.create(\n",
    "    email=\"scientist@researchorg.edu\", password=\"pwd123\"\n",
    ")"
   ]
  },
  {
   "cell_type": "markdown",
   "id": "7ccf1741",
   "metadata": {},
   "source": [
    "### Log in as Data Scientist"
   ]
  },
  {
   "cell_type": "code",
   "execution_count": 3,
   "id": "300c7671",
   "metadata": {},
   "outputs": [
    {
     "name": "stderr",
     "output_type": "stream",
     "text": [
      "[2021-05-09T22:15:48.231265+0100][CRITICAL][logger]][8031] Skipping torchvision.torchvision.transforms.functional.adjust_sharpness not supported in 0.8.1\n",
      "[2021-05-09T22:15:48.232041+0100][CRITICAL][logger]][8031] Skipping torchvision.torchvision.transforms.functional.autocontrast not supported in 0.8.1\n",
      "[2021-05-09T22:15:48.232598+0100][CRITICAL][logger]][8031] Skipping torchvision.torchvision.transforms.functional.equalize not supported in 0.8.1\n",
      "[2021-05-09T22:15:48.233384+0100][CRITICAL][logger]][8031] Skipping torchvision.torchvision.transforms.functional.invert not supported in 0.8.1\n",
      "[2021-05-09T22:15:48.233923+0100][CRITICAL][logger]][8031] Skipping torchvision.torchvision.transforms.functional.posterize not supported in 0.8.1\n",
      "[2021-05-09T22:15:48.234591+0100][CRITICAL][logger]][8031] Skipping torchvision.torchvision.transforms.functional.solarize not supported in 0.8.1\n"
     ]
    }
   ],
   "source": [
    "domain_client = connect(\n",
    "    url=\"http://localhost:5000\",\n",
    "    credentials={\"email\": \"scientist@researchorg.edu\", \"password\": \"pwd123\"},\n",
    "    conn_type=GridHTTPConnection,\n",
    ")"
   ]
  },
  {
   "cell_type": "markdown",
   "id": "cb95f85b",
   "metadata": {},
   "source": [
    "### Find a Dataset"
   ]
  },
  {
   "cell_type": "code",
   "execution_count": 4,
   "id": "6c43daf1",
   "metadata": {},
   "outputs": [
    {
     "data": {
      "text/html": [
       "<div>\n",
       "<style scoped>\n",
       "    .dataframe tbody tr th:only-of-type {\n",
       "        vertical-align: middle;\n",
       "    }\n",
       "\n",
       "    .dataframe tbody tr th {\n",
       "        vertical-align: top;\n",
       "    }\n",
       "\n",
       "    .dataframe thead th {\n",
       "        text-align: right;\n",
       "    }\n",
       "</style>\n",
       "<table border=\"1\" class=\"dataframe\">\n",
       "  <thead>\n",
       "    <tr style=\"text-align: right;\">\n",
       "      <th></th>\n",
       "      <th>id</th>\n",
       "      <th>manifest</th>\n",
       "      <th>description</th>\n",
       "      <th>tags</th>\n",
       "      <th>data</th>\n",
       "    </tr>\n",
       "  </thead>\n",
       "  <tbody>\n",
       "    <tr>\n",
       "      <th>0</th>\n",
       "      <td>ed3d0a9d-abfb-458c-9b2c-06a739802f4b</td>\n",
       "      <td>This dataset is originally from the National I...</td>\n",
       "      <td>This dataset is originally from the National I...</td>\n",
       "      <td>[#diabetes, #pima-indians-database]</td>\n",
       "      <td>[{'name': 'diabetes-data/data_02.csv', 'id': '...</td>\n",
       "    </tr>\n",
       "  </tbody>\n",
       "</table>\n",
       "</div>"
      ],
      "text/plain": [
       "                                     id  \\\n",
       "0  ed3d0a9d-abfb-458c-9b2c-06a739802f4b   \n",
       "\n",
       "                                            manifest  \\\n",
       "0  This dataset is originally from the National I...   \n",
       "\n",
       "                                         description  \\\n",
       "0  This dataset is originally from the National I...   \n",
       "\n",
       "                                  tags  \\\n",
       "0  [#diabetes, #pima-indians-database]   \n",
       "\n",
       "                                                data  \n",
       "0  [{'name': 'diabetes-data/data_02.csv', 'id': '...  "
      ]
     },
     "execution_count": 4,
     "metadata": {},
     "output_type": "execute_result"
    }
   ],
   "source": [
    "domain_client.datasets.all(pandas=True)"
   ]
  },
  {
   "cell_type": "code",
   "execution_count": 9,
   "id": "9046413d",
   "metadata": {},
   "outputs": [],
   "source": [
    "remote_dataset = domain_client.datasets[\"ed3d0a9d-abfb-458c-9b2c-06a739802f4b\"]"
   ]
  },
  {
   "cell_type": "code",
   "execution_count": 10,
   "id": "5036d122",
   "metadata": {},
   "outputs": [
    {
     "name": "stdout",
     "output_type": "stream",
     "text": [
      "This dataset is originally from the National Institute of Diabetes and Digestive and Kidney Diseases. The objective is to predict based on diagnostic measurements whether a patient has diabetes.\n",
      "\n",
      "Several constraints were placed on the selection of these instances from a larger database. In particular, all patients here are females at least 21 years old of Pima Indian heritage.\n",
      "\n",
      "Diabetes files consist of 8 fields per record.  Each field is\n",
      "separated by a comma and each record is separated by a newline.\n",
      "\n",
      "CSV Columns and format:\n",
      "(1) Pregnancies (Integer) : Number of times pregnant\n",
      "(2) Glucose (Integer) : Plasma glucose concentration a 2 hours in an oral glucose tolerance test\n",
      "(3) Blood Pressure (Integer) : Diastolic blood pressure (mm Hg)\n",
      "(4) Skin Thickness (Integer) : Triceps skin fold thickness (mm)\n",
      "(5) Insulin (Integer) : 2-Hour serum insulin (mu U/ml)\n",
      "(6) BMI (Float) : Body mass index (weight in kg/(height in m)^2)\n",
      "(6) Diabetes Pedigree (Float) : Diabetes Pedigree Function\n",
      "(7) Age (Integer): Patient's age (years)\n",
      "(8) Outcome (Integer): Class variable (0 or 1)\n",
      "\n"
     ]
    }
   ],
   "source": [
    "print(remote_dataset.manifest)"
   ]
  },
  {
   "cell_type": "code",
   "execution_count": 11,
   "id": "db15cf82",
   "metadata": {},
   "outputs": [
    {
     "data": {
      "text/html": [
       "<div>\n",
       "<style scoped>\n",
       "    .dataframe tbody tr th:only-of-type {\n",
       "        vertical-align: middle;\n",
       "    }\n",
       "\n",
       "    .dataframe tbody tr th {\n",
       "        vertical-align: top;\n",
       "    }\n",
       "\n",
       "    .dataframe thead th {\n",
       "        text-align: right;\n",
       "    }\n",
       "</style>\n",
       "<table border=\"1\" class=\"dataframe\">\n",
       "  <thead>\n",
       "    <tr style=\"text-align: right;\">\n",
       "      <th></th>\n",
       "      <th>name</th>\n",
       "      <th>id</th>\n",
       "      <th>dtype</th>\n",
       "      <th>shape</th>\n",
       "    </tr>\n",
       "  </thead>\n",
       "  <tbody>\n",
       "    <tr>\n",
       "      <th>0</th>\n",
       "      <td>diabetes-data/data_02.csv</td>\n",
       "      <td>4f39bce9-1367-45a3-8556-75c890406272</td>\n",
       "      <td>Tensor</td>\n",
       "      <td>(200, 9)</td>\n",
       "    </tr>\n",
       "    <tr>\n",
       "      <th>1</th>\n",
       "      <td>diabetes-data/data_06.csv</td>\n",
       "      <td>f0b83c5b-b852-46d2-a635-13f589cd7d36</td>\n",
       "      <td>Tensor</td>\n",
       "      <td>(200, 9)</td>\n",
       "    </tr>\n",
       "    <tr>\n",
       "      <th>2</th>\n",
       "      <td>diabetes-data/data_10.csv</td>\n",
       "      <td>7044efc5-13b3-4056-bed4-889db77aa657</td>\n",
       "      <td>Tensor</td>\n",
       "      <td>(200, 9)</td>\n",
       "    </tr>\n",
       "    <tr>\n",
       "      <th>3</th>\n",
       "      <td>diabetes-data/data_03.csv</td>\n",
       "      <td>146cb0cf-3ed0-4183-9904-821d699f81bf</td>\n",
       "      <td>Tensor</td>\n",
       "      <td>(200, 9)</td>\n",
       "    </tr>\n",
       "    <tr>\n",
       "      <th>4</th>\n",
       "      <td>diabetes-data/data_04.csv</td>\n",
       "      <td>0f63f03d-8e25-4d6b-ad74-135739a8bdc5</td>\n",
       "      <td>Tensor</td>\n",
       "      <td>(200, 9)</td>\n",
       "    </tr>\n",
       "    <tr>\n",
       "      <th>5</th>\n",
       "      <td>diabetes-data/new_data.csv</td>\n",
       "      <td>57a8837f-17a5-4dae-bc6e-f676ff920206</td>\n",
       "      <td>Tensor</td>\n",
       "      <td>(2000, 9)</td>\n",
       "    </tr>\n",
       "    <tr>\n",
       "      <th>6</th>\n",
       "      <td>diabetes-data/data_07.csv</td>\n",
       "      <td>7786dbe2-f8b1-4ffe-b0b7-5b27a863c7dc</td>\n",
       "      <td>Tensor</td>\n",
       "      <td>(200, 9)</td>\n",
       "    </tr>\n",
       "    <tr>\n",
       "      <th>7</th>\n",
       "      <td>diabetes-data/data_08.csv</td>\n",
       "      <td>dec2d96d-5563-45ce-bb85-ac91489590c0</td>\n",
       "      <td>Tensor</td>\n",
       "      <td>(200, 9)</td>\n",
       "    </tr>\n",
       "    <tr>\n",
       "      <th>8</th>\n",
       "      <td>diabetes-data/data_09.csv</td>\n",
       "      <td>01214b56-e930-456b-be45-36fd4d3a94cf</td>\n",
       "      <td>Tensor</td>\n",
       "      <td>(200, 9)</td>\n",
       "    </tr>\n",
       "    <tr>\n",
       "      <th>9</th>\n",
       "      <td>diabetes-data/data_05.csv</td>\n",
       "      <td>cbb6e279-dad1-460d-8557-50d942d7654f</td>\n",
       "      <td>Tensor</td>\n",
       "      <td>(200, 9)</td>\n",
       "    </tr>\n",
       "    <tr>\n",
       "      <th>10</th>\n",
       "      <td>diabetes-data/data_01.csv</td>\n",
       "      <td>7fee9663-60f2-4b60-9027-9ccbbd007c58</td>\n",
       "      <td>Tensor</td>\n",
       "      <td>(200, 9)</td>\n",
       "    </tr>\n",
       "  </tbody>\n",
       "</table>\n",
       "</div>"
      ],
      "text/plain": [
       "                          name                                    id   dtype  \\\n",
       "0    diabetes-data/data_02.csv  4f39bce9-1367-45a3-8556-75c890406272  Tensor   \n",
       "1    diabetes-data/data_06.csv  f0b83c5b-b852-46d2-a635-13f589cd7d36  Tensor   \n",
       "2    diabetes-data/data_10.csv  7044efc5-13b3-4056-bed4-889db77aa657  Tensor   \n",
       "3    diabetes-data/data_03.csv  146cb0cf-3ed0-4183-9904-821d699f81bf  Tensor   \n",
       "4    diabetes-data/data_04.csv  0f63f03d-8e25-4d6b-ad74-135739a8bdc5  Tensor   \n",
       "5   diabetes-data/new_data.csv  57a8837f-17a5-4dae-bc6e-f676ff920206  Tensor   \n",
       "6    diabetes-data/data_07.csv  7786dbe2-f8b1-4ffe-b0b7-5b27a863c7dc  Tensor   \n",
       "7    diabetes-data/data_08.csv  dec2d96d-5563-45ce-bb85-ac91489590c0  Tensor   \n",
       "8    diabetes-data/data_09.csv  01214b56-e930-456b-be45-36fd4d3a94cf  Tensor   \n",
       "9    diabetes-data/data_05.csv  cbb6e279-dad1-460d-8557-50d942d7654f  Tensor   \n",
       "10   diabetes-data/data_01.csv  7fee9663-60f2-4b60-9027-9ccbbd007c58  Tensor   \n",
       "\n",
       "        shape  \n",
       "0    (200, 9)  \n",
       "1    (200, 9)  \n",
       "2    (200, 9)  \n",
       "3    (200, 9)  \n",
       "4    (200, 9)  \n",
       "5   (2000, 9)  \n",
       "6    (200, 9)  \n",
       "7    (200, 9)  \n",
       "8    (200, 9)  \n",
       "9    (200, 9)  \n",
       "10   (200, 9)  "
      ]
     },
     "execution_count": 11,
     "metadata": {},
     "output_type": "execute_result"
    }
   ],
   "source": [
    "remote_dataset.pandas"
   ]
  },
  {
   "cell_type": "markdown",
   "id": "f1dfc3e0",
   "metadata": {},
   "source": [
    "### Load Pre-trained Model"
   ]
  },
  {
   "cell_type": "code",
   "execution_count": 12,
   "id": "d0d550d2",
   "metadata": {},
   "outputs": [
    {
     "name": "stdout",
     "output_type": "stream",
     "text": [
      "epoch 0\tloss : 0.6870039701461792\t accuracy : 0.644\n",
      "epoch 50\tloss : 0.5043874382972717\t accuracy : 0.7735\n",
      "epoch 100\tloss : 0.49245786666870117\t accuracy : 0.793\n",
      "epoch 150\tloss : 0.4793068468570709\t accuracy : 0.799\n",
      "epoch 200\tloss : 0.4688788056373596\t accuracy : 0.8105\n",
      "epoch 250\tloss : 0.45552244782447815\t accuracy : 0.8125\n"
     ]
    },
    {
     "name": "stderr",
     "output_type": "stream",
     "text": [
      "INFO:matplotlib.font_manager:Could not open font file /System/Library/Fonts/Supplemental/NISC18030.ttf: In FT2Font: Could not set the fontsize\n",
      "INFO:matplotlib.font_manager:Could not open font file /System/Library/Fonts/Apple Color Emoji.ttc: In FT2Font: Could not set the fontsize\n",
      "INFO:matplotlib.font_manager:generated new fontManager\n"
     ]
    },
    {
     "data": {
      "image/png": "[encoded data removed]",
      "text/plain": [
       "<Figure size 432x288 with 1 Axes>"
      ]
     },
     "metadata": {
      "needs_background": "light"
     },
     "output_type": "display_data"
    }
   ],
   "source": [
    "import torch as th\n",
    "from diabetes_model_training import train_diabetes_model, plot_training_acc\n",
    "\n",
    "model, loss, acc, epochs_list = train_diabetes_model(th)\n",
    "plot_training_acc(acc, loss, epochs_list)"
   ]
  },
  {
   "cell_type": "markdown",
   "id": "ba5cddd5",
   "metadata": {},
   "source": [
    "### Create a Worker"
   ]
  },
  {
   "cell_type": "code",
   "execution_count": 13,
   "id": "369e32d4",
   "metadata": {},
   "outputs": [
    {
     "ename": "RequestAPIException",
     "evalue": "Something went wrong during this request: Provider not supported",
     "output_type": "error",
     "traceback": [
      "\u001b[0;31m---------------------------------------------------------------------------\u001b[0m",
      "\u001b[0;31mRequestAPIException\u001b[0m                       Traceback (most recent call last)",
      "\u001b[0;32m<ipython-input-13-ffeea323d5d2>\u001b[0m in \u001b[0;36m<module>\u001b[0;34m\u001b[0m\n\u001b[0;32m----> 1\u001b[0;31m \u001b[0mdomain_client\u001b[0m\u001b[0;34m.\u001b[0m\u001b[0mworkers\u001b[0m\u001b[0;34m.\u001b[0m\u001b[0minstance_type\u001b[0m\u001b[0;34m(\u001b[0m\u001b[0mpandas\u001b[0m\u001b[0;34m=\u001b[0m\u001b[0;32mTrue\u001b[0m\u001b[0;34m)\u001b[0m\u001b[0;34m\u001b[0m\u001b[0;34m\u001b[0m\u001b[0m\n\u001b[0m",
      "\u001b[0;32m~/opt/anaconda3/lib/python3.8/site-packages/syft-0.3.0.post0.dev1320+g8406a94d2-py3.8.egg/syft/grid/client/request_api/worker_api.py\u001b[0m in \u001b[0;36minstance_type\u001b[0;34m(self, pandas)\u001b[0m\n\u001b[1;32m     39\u001b[0m \u001b[0;34m\u001b[0m\u001b[0m\n\u001b[1;32m     40\u001b[0m     \u001b[0;32mdef\u001b[0m \u001b[0minstance_type\u001b[0m\u001b[0;34m(\u001b[0m\u001b[0mself\u001b[0m\u001b[0;34m,\u001b[0m \u001b[0mpandas\u001b[0m\u001b[0;34m:\u001b[0m \u001b[0mbool\u001b[0m \u001b[0;34m=\u001b[0m \u001b[0;32mFalse\u001b[0m\u001b[0;34m)\u001b[0m \u001b[0;34m->\u001b[0m \u001b[0mAny\u001b[0m\u001b[0;34m:\u001b[0m\u001b[0;34m\u001b[0m\u001b[0;34m\u001b[0m\u001b[0m\n\u001b[0;32m---> 41\u001b[0;31m         \u001b[0mresult\u001b[0m \u001b[0;34m=\u001b[0m \u001b[0mself\u001b[0m\u001b[0;34m.\u001b[0m\u001b[0msend\u001b[0m\u001b[0;34m(\u001b[0m\u001b[0mgrid_msg\u001b[0m\u001b[0;34m=\u001b[0m\u001b[0mGetWorkerInstanceTypesMessage\u001b[0m\u001b[0;34m)\u001b[0m\u001b[0;34m\u001b[0m\u001b[0;34m\u001b[0m\u001b[0m\n\u001b[0m\u001b[1;32m     42\u001b[0m         \u001b[0;32mif\u001b[0m \u001b[0mpandas\u001b[0m\u001b[0;34m:\u001b[0m\u001b[0;34m\u001b[0m\u001b[0;34m\u001b[0m\u001b[0m\n\u001b[1;32m     43\u001b[0m             \u001b[0mmax_size\u001b[0m \u001b[0;34m=\u001b[0m \u001b[0mlen\u001b[0m\u001b[0;34m(\u001b[0m\u001b[0mmin\u001b[0m\u001b[0;34m(\u001b[0m\u001b[0mresult\u001b[0m\u001b[0;34m.\u001b[0m\u001b[0mvalues\u001b[0m\u001b[0;34m(\u001b[0m\u001b[0;34m)\u001b[0m\u001b[0;34m)\u001b[0m\u001b[0;34m)\u001b[0m  \u001b[0;31m# Why min/max functions were switched?\u001b[0m\u001b[0;34m\u001b[0m\u001b[0;34m\u001b[0m\u001b[0m\n",
      "\u001b[0;32m~/opt/anaconda3/lib/python3.8/site-packages/syft-0.3.0.post0.dev1320+g8406a94d2-py3.8.egg/syft/grid/client/client.py\u001b[0m in \u001b[0;36m__perform_grid_request\u001b[0;34m(self, grid_msg, content)\u001b[0m\n\u001b[1;32m    194\u001b[0m             \u001b[0msigned_msg\u001b[0m \u001b[0;34m=\u001b[0m \u001b[0mself\u001b[0m\u001b[0;34m.\u001b[0m\u001b[0m__build_msg\u001b[0m\u001b[0;34m(\u001b[0m\u001b[0mgrid_msg\u001b[0m\u001b[0;34m=\u001b[0m\u001b[0mgrid_msg\u001b[0m\u001b[0;34m,\u001b[0m \u001b[0mcontent\u001b[0m\u001b[0;34m=\u001b[0m\u001b[0mcontent\u001b[0m\u001b[0;34m)\u001b[0m\u001b[0;34m\u001b[0m\u001b[0;34m\u001b[0m\u001b[0m\n\u001b[1;32m    195\u001b[0m             \u001b[0mresponse\u001b[0m \u001b[0;34m=\u001b[0m \u001b[0mself\u001b[0m\u001b[0;34m.\u001b[0m\u001b[0msend_immediate_msg_with_reply\u001b[0m\u001b[0;34m(\u001b[0m\u001b[0mmsg\u001b[0m\u001b[0;34m=\u001b[0m\u001b[0msigned_msg\u001b[0m\u001b[0;34m)\u001b[0m\u001b[0;34m\u001b[0m\u001b[0;34m\u001b[0m\u001b[0m\n\u001b[0;32m--> 196\u001b[0;31m             \u001b[0;32mreturn\u001b[0m \u001b[0mself\u001b[0m\u001b[0;34m.\u001b[0m\u001b[0m__process_response\u001b[0m\u001b[0;34m(\u001b[0m\u001b[0mresponse\u001b[0m\u001b[0;34m=\u001b[0m\u001b[0mresponse\u001b[0m\u001b[0;34m)\u001b[0m\u001b[0;34m\u001b[0m\u001b[0;34m\u001b[0m\u001b[0m\n\u001b[0m\u001b[1;32m    197\u001b[0m \u001b[0;34m\u001b[0m\u001b[0m\n\u001b[1;32m    198\u001b[0m         \u001b[0;32mdef\u001b[0m \u001b[0m__build_msg\u001b[0m\u001b[0;34m(\u001b[0m\u001b[0mself\u001b[0m\u001b[0;34m,\u001b[0m \u001b[0mgrid_msg\u001b[0m\u001b[0;34m:\u001b[0m \u001b[0mAny\u001b[0m\u001b[0;34m,\u001b[0m \u001b[0mcontent\u001b[0m\u001b[0;34m:\u001b[0m \u001b[0mDict\u001b[0m\u001b[0;34m[\u001b[0m\u001b[0mAny\u001b[0m\u001b[0;34m,\u001b[0m \u001b[0mAny\u001b[0m\u001b[0;34m]\u001b[0m\u001b[0;34m)\u001b[0m \u001b[0;34m->\u001b[0m \u001b[0mAny\u001b[0m\u001b[0;34m:\u001b[0m\u001b[0;34m\u001b[0m\u001b[0;34m\u001b[0m\u001b[0m\n",
      "\u001b[0;32m~/opt/anaconda3/lib/python3.8/site-packages/syft-0.3.0.post0.dev1320+g8406a94d2-py3.8.egg/syft/grid/client/client.py\u001b[0m in \u001b[0;36m__process_response\u001b[0;34m(self, response)\u001b[0m\n\u001b[1;32m    208\u001b[0m                 \u001b[0;32mreturn\u001b[0m \u001b[0mresponse\u001b[0m\u001b[0;34m.\u001b[0m\u001b[0mcontent\u001b[0m  \u001b[0;31m# type: ignore\u001b[0m\u001b[0;34m\u001b[0m\u001b[0;34m\u001b[0m\u001b[0m\n\u001b[1;32m    209\u001b[0m             \u001b[0;32melse\u001b[0m\u001b[0;34m:\u001b[0m\u001b[0;34m\u001b[0m\u001b[0;34m\u001b[0m\u001b[0m\n\u001b[0;32m--> 210\u001b[0;31m                 raise RequestAPIException(\n\u001b[0m\u001b[1;32m    211\u001b[0m                     \u001b[0mmessage\u001b[0m\u001b[0;34m=\u001b[0m\u001b[0mresponse\u001b[0m\u001b[0;34m.\u001b[0m\u001b[0mcontent\u001b[0m\u001b[0;34m[\u001b[0m\u001b[0mRequestAPIFields\u001b[0m\u001b[0;34m.\u001b[0m\u001b[0mERROR\u001b[0m\u001b[0;34m]\u001b[0m\u001b[0;34m\u001b[0m\u001b[0;34m\u001b[0m\u001b[0m\n\u001b[1;32m    212\u001b[0m                 )\n",
      "\u001b[0;31mRequestAPIException\u001b[0m: Something went wrong during this request: Provider not supported"
     ]
    }
   ],
   "source": [
    "domain_client.workers.instance_type(pandas=True)"
   ]
  },
  {
   "cell_type": "code",
   "execution_count": null,
   "id": "f9e6e9d1",
   "metadata": {},
   "outputs": [],
   "source": [
    "domain_client.workers.create(instance_type=\"Standard_B2s\")"
   ]
  },
  {
   "cell_type": "code",
   "execution_count": 14,
   "id": "79fe5d06",
   "metadata": {},
   "outputs": [
    {
     "ename": "RequestAPIException",
     "evalue": "Something went wrong during this request: list index out of range",
     "output_type": "error",
     "traceback": [
      "\u001b[0;31m---------------------------------------------------------------------------\u001b[0m",
      "\u001b[0;31mRequestAPIException\u001b[0m                       Traceback (most recent call last)",
      "\u001b[0;32m<ipython-input-14-5fdddcd8c849>\u001b[0m in \u001b[0;36m<module>\u001b[0;34m\u001b[0m\n\u001b[0;32m----> 1\u001b[0;31m \u001b[0mdomain_client\u001b[0m\u001b[0;34m.\u001b[0m\u001b[0mworkers\u001b[0m\u001b[0;34m.\u001b[0m\u001b[0mall\u001b[0m\u001b[0;34m(\u001b[0m\u001b[0mpandas\u001b[0m\u001b[0;34m=\u001b[0m\u001b[0;32mTrue\u001b[0m\u001b[0;34m)\u001b[0m\u001b[0;34m\u001b[0m\u001b[0;34m\u001b[0m\u001b[0m\n\u001b[0m",
      "\u001b[0;32m~/opt/anaconda3/lib/python3.8/site-packages/syft-0.3.0.post0.dev1320+g8406a94d2-py3.8.egg/syft/grid/client/request_api/request_api.py\u001b[0m in \u001b[0;36mall\u001b[0;34m(self, pandas)\u001b[0m\n\u001b[1;32m     49\u001b[0m \u001b[0;34m\u001b[0m\u001b[0m\n\u001b[1;32m     50\u001b[0m     \u001b[0;32mdef\u001b[0m \u001b[0mall\u001b[0m\u001b[0;34m(\u001b[0m\u001b[0mself\u001b[0m\u001b[0;34m,\u001b[0m \u001b[0mpandas\u001b[0m\u001b[0;34m:\u001b[0m \u001b[0mbool\u001b[0m \u001b[0;34m=\u001b[0m \u001b[0;32mFalse\u001b[0m\u001b[0;34m)\u001b[0m \u001b[0;34m->\u001b[0m \u001b[0mDict\u001b[0m\u001b[0;34m[\u001b[0m\u001b[0mstr\u001b[0m\u001b[0;34m,\u001b[0m \u001b[0mAny\u001b[0m\u001b[0;34m]\u001b[0m\u001b[0;34m:\u001b[0m\u001b[0;34m\u001b[0m\u001b[0;34m\u001b[0m\u001b[0m\n\u001b[0;32m---> 51\u001b[0;31m         \u001b[0mresult\u001b[0m \u001b[0;34m=\u001b[0m \u001b[0mself\u001b[0m\u001b[0;34m.\u001b[0m\u001b[0m__send\u001b[0m\u001b[0;34m(\u001b[0m\u001b[0mgrid_msg\u001b[0m\u001b[0;34m=\u001b[0m\u001b[0mself\u001b[0m\u001b[0;34m.\u001b[0m\u001b[0m__get_all_message\u001b[0m\u001b[0;34m)\u001b[0m\u001b[0;34m\u001b[0m\u001b[0;34m\u001b[0m\u001b[0m\n\u001b[0m\u001b[1;32m     52\u001b[0m         \u001b[0;32mif\u001b[0m \u001b[0mpandas\u001b[0m\u001b[0;34m:\u001b[0m\u001b[0;34m\u001b[0m\u001b[0;34m\u001b[0m\u001b[0m\n\u001b[1;32m     53\u001b[0m             \u001b[0mresult\u001b[0m \u001b[0;34m=\u001b[0m \u001b[0mDataFrame\u001b[0m\u001b[0;34m(\u001b[0m\u001b[0mresult\u001b[0m\u001b[0;34m)\u001b[0m\u001b[0;34m\u001b[0m\u001b[0;34m\u001b[0m\u001b[0m\n",
      "\u001b[0;32m~/opt/anaconda3/lib/python3.8/site-packages/syft-0.3.0.post0.dev1320+g8406a94d2-py3.8.egg/syft/grid/client/client.py\u001b[0m in \u001b[0;36m__perform_grid_request\u001b[0;34m(self, grid_msg, content)\u001b[0m\n\u001b[1;32m    194\u001b[0m             \u001b[0msigned_msg\u001b[0m \u001b[0;34m=\u001b[0m \u001b[0mself\u001b[0m\u001b[0;34m.\u001b[0m\u001b[0m__build_msg\u001b[0m\u001b[0;34m(\u001b[0m\u001b[0mgrid_msg\u001b[0m\u001b[0;34m=\u001b[0m\u001b[0mgrid_msg\u001b[0m\u001b[0;34m,\u001b[0m \u001b[0mcontent\u001b[0m\u001b[0;34m=\u001b[0m\u001b[0mcontent\u001b[0m\u001b[0;34m)\u001b[0m\u001b[0;34m\u001b[0m\u001b[0;34m\u001b[0m\u001b[0m\n\u001b[1;32m    195\u001b[0m             \u001b[0mresponse\u001b[0m \u001b[0;34m=\u001b[0m \u001b[0mself\u001b[0m\u001b[0;34m.\u001b[0m\u001b[0msend_immediate_msg_with_reply\u001b[0m\u001b[0;34m(\u001b[0m\u001b[0mmsg\u001b[0m\u001b[0;34m=\u001b[0m\u001b[0msigned_msg\u001b[0m\u001b[0;34m)\u001b[0m\u001b[0;34m\u001b[0m\u001b[0;34m\u001b[0m\u001b[0m\n\u001b[0;32m--> 196\u001b[0;31m             \u001b[0;32mreturn\u001b[0m \u001b[0mself\u001b[0m\u001b[0;34m.\u001b[0m\u001b[0m__process_response\u001b[0m\u001b[0;34m(\u001b[0m\u001b[0mresponse\u001b[0m\u001b[0;34m=\u001b[0m\u001b[0mresponse\u001b[0m\u001b[0;34m)\u001b[0m\u001b[0;34m\u001b[0m\u001b[0;34m\u001b[0m\u001b[0m\n\u001b[0m\u001b[1;32m    197\u001b[0m \u001b[0;34m\u001b[0m\u001b[0m\n\u001b[1;32m    198\u001b[0m         \u001b[0;32mdef\u001b[0m \u001b[0m__build_msg\u001b[0m\u001b[0;34m(\u001b[0m\u001b[0mself\u001b[0m\u001b[0;34m,\u001b[0m \u001b[0mgrid_msg\u001b[0m\u001b[0;34m:\u001b[0m \u001b[0mAny\u001b[0m\u001b[0;34m,\u001b[0m \u001b[0mcontent\u001b[0m\u001b[0;34m:\u001b[0m \u001b[0mDict\u001b[0m\u001b[0;34m[\u001b[0m\u001b[0mAny\u001b[0m\u001b[0;34m,\u001b[0m \u001b[0mAny\u001b[0m\u001b[0;34m]\u001b[0m\u001b[0;34m)\u001b[0m \u001b[0;34m->\u001b[0m \u001b[0mAny\u001b[0m\u001b[0;34m:\u001b[0m\u001b[0;34m\u001b[0m\u001b[0;34m\u001b[0m\u001b[0m\n",
      "\u001b[0;32m~/opt/anaconda3/lib/python3.8/site-packages/syft-0.3.0.post0.dev1320+g8406a94d2-py3.8.egg/syft/grid/client/client.py\u001b[0m in \u001b[0;36m__process_response\u001b[0;34m(self, response)\u001b[0m\n\u001b[1;32m    208\u001b[0m                 \u001b[0;32mreturn\u001b[0m \u001b[0mresponse\u001b[0m\u001b[0;34m.\u001b[0m\u001b[0mcontent\u001b[0m  \u001b[0;31m# type: ignore\u001b[0m\u001b[0;34m\u001b[0m\u001b[0;34m\u001b[0m\u001b[0m\n\u001b[1;32m    209\u001b[0m             \u001b[0;32melse\u001b[0m\u001b[0;34m:\u001b[0m\u001b[0;34m\u001b[0m\u001b[0;34m\u001b[0m\u001b[0m\n\u001b[0;32m--> 210\u001b[0;31m                 raise RequestAPIException(\n\u001b[0m\u001b[1;32m    211\u001b[0m                     \u001b[0mmessage\u001b[0m\u001b[0;34m=\u001b[0m\u001b[0mresponse\u001b[0m\u001b[0;34m.\u001b[0m\u001b[0mcontent\u001b[0m\u001b[0;34m[\u001b[0m\u001b[0mRequestAPIFields\u001b[0m\u001b[0;34m.\u001b[0m\u001b[0mERROR\u001b[0m\u001b[0;34m]\u001b[0m\u001b[0;34m\u001b[0m\u001b[0;34m\u001b[0m\u001b[0m\n\u001b[1;32m    212\u001b[0m                 )\n",
      "\u001b[0;31mRequestAPIException\u001b[0m: Something went wrong during this request: list index out of range"
     ]
    }
   ],
   "source": [
    "domain_client.workers.all(pandas=True)"
   ]
  },
  {
   "cell_type": "code",
   "execution_count": null,
   "id": "c6422ff1",
   "metadata": {},
   "outputs": [],
   "source": [
    "worker = domain_client.workers[1]"
   ]
  },
  {
   "cell_type": "markdown",
   "id": "3a3eec30",
   "metadata": {},
   "source": [
    "### Send the Model to the Worker"
   ]
  },
  {
   "cell_type": "code",
   "execution_count": null,
   "id": "1fa09529",
   "metadata": {},
   "outputs": [],
   "source": [
    "remote_model = model.send(worker)"
   ]
  },
  {
   "cell_type": "markdown",
   "id": "cf621f55",
   "metadata": {},
   "source": [
    "### Load the Dataset into the Worker"
   ]
  },
  {
   "cell_type": "code",
   "execution_count": null,
   "id": "3bd2808f",
   "metadata": {},
   "outputs": [],
   "source": [
    "domain_client.load(remote_dataset.files[0].pointer, worker.address)"
   ]
  },
  {
   "cell_type": "code",
   "execution_count": null,
   "id": "44a21e2b",
   "metadata": {},
   "outputs": [],
   "source": [
    "worker.store.pandas"
   ]
  },
  {
   "cell_type": "markdown",
   "id": "caef7304",
   "metadata": {},
   "source": [
    "### Perform remote inference"
   ]
  },
  {
   "cell_type": "code",
   "execution_count": null,
   "id": "455e711b",
   "metadata": {},
   "outputs": [],
   "source": [
    "feature = worker.store[0][0:, 0:8]\n",
    "labels = worker.store[0][0:, 8]\n",
    "\n",
    "predicted = remote_model(feature)"
   ]
  },
  {
   "cell_type": "markdown",
   "id": "ecbda06b",
   "metadata": {},
   "source": [
    "### Add DP noise to the evaluation result"
   ]
  },
  {
   "cell_type": "code",
   "execution_count": null,
   "id": "90718c9b",
   "metadata": {},
   "outputs": [],
   "source": [
    "acc = (predicted.reshape(-1).round() == labels).int().tolist()"
   ]
  },
  {
   "cell_type": "code",
   "execution_count": null,
   "id": "7bd6ed46",
   "metadata": {},
   "outputs": [],
   "source": [
    "import pydp\n",
    "\n",
    "sy.load(\"pydp\")"
   ]
  },
  {
   "cell_type": "code",
   "execution_count": null,
   "id": "50af5520",
   "metadata": {},
   "outputs": [],
   "source": [
    "BoundedMean = worker.pydp.algorithms.laplacian.BoundedMean\n",
    "mean_ptr = BoundedMean(0.8, lower_bound=0.01, upper_bound=1.0, dtype=\"float\")\n",
    "\n",
    "acc_result = mean_ptr.quick_result(acc)"
   ]
  },
  {
   "cell_type": "markdown",
   "id": "4e7514e1",
   "metadata": {},
   "source": [
    "### Save the result to the Domain"
   ]
  },
  {
   "cell_type": "code",
   "execution_count": null,
   "id": "c30f8ef9",
   "metadata": {},
   "outputs": [],
   "source": [
    "worker.save(acc_result)"
   ]
  },
  {
   "cell_type": "markdown",
   "id": "17f1140e",
   "metadata": {},
   "source": [
    "### Request to download the result"
   ]
  },
  {
   "cell_type": "code",
   "execution_count": null,
   "id": "8b453aef",
   "metadata": {},
   "outputs": [],
   "source": [
    "domain_client.store.pandas"
   ]
  },
  {
   "cell_type": "code",
   "execution_count": null,
   "id": "bddcae4e",
   "metadata": {},
   "outputs": [],
   "source": [
    "acc_ptr = domain_client.store[\"\"]"
   ]
  },
  {
   "cell_type": "code",
   "execution_count": null,
   "id": "a616fe47",
   "metadata": {},
   "outputs": [],
   "source": [
    "acc_ptr.request(reason=\"I'd like to have access to my accuracy result!\")"
   ]
  },
  {
   "cell_type": "markdown",
   "id": "162cc783",
   "metadata": {},
   "source": [
    "### Download the result"
   ]
  },
  {
   "cell_type": "code",
   "execution_count": null,
   "id": "64c921be",
   "metadata": {},
   "outputs": [],
   "source": [
    "acc_ptr.get()"
   ]
  }
 ],
 "metadata": {
  "kernelspec": {
   "display_name": "Python 3",
   "language": "python",
   "name": "python3"
  },
  "language_info": {
   "codemirror_mode": {
    "name": "ipython",
    "version": 3
   },
   "file_extension": ".py",
   "mimetype": "text/x-python",
   "name": "python",
   "nbconvert_exporter": "python",
   "pygments_lexer": "ipython3",
   "version": "3.8.3"
  }
 },
 "nbformat": 4,
 "nbformat_minor": 5
}

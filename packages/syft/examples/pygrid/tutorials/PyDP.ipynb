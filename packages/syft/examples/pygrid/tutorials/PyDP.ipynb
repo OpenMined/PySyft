{
 "cells": [
  {
   "cell_type": "code",
   "execution_count": 2,
   "id": "931372c6",
   "metadata": {},
   "outputs": [],
   "source": [
    "from pydp.algorithms.laplacian import BoundedSum, BoundedMean, Count, Max\n",
    "import pandas as pd\n",
    "import statistics\n",
    "from syft.grid.client.client import connect  # Method used to connect with the node.\n",
    "from syft.grid.client.grid_connection import (\n",
    "    GridHTTPConnection,\n",
    ")  # Protocol used to talk with the node\n",
    "\n",
    "import syft as sy\n",
    "import torch as th\n",
    "import pydp\n",
    "\n",
    "sy.load(\"pydp\")\n",
    "\n",
    "# Set logging level\n",
    "import logging\n",
    "\n",
    "logging.basicConfig(level=logging.INFO)\n",
    "\n",
    "sy.VERBOSE = False"
   ]
  },
  {
   "cell_type": "code",
   "execution_count": 3,
   "id": "96dfab24",
   "metadata": {},
   "outputs": [],
   "source": [
    "domain = connect(\n",
    "    url=\"http://localhost:5000\",  # Domain Address\n",
    "    credentials={\"email\": \"owner@openmined.org\", \"password\": \"owerpwd\"},\n",
    "    conn_type=GridHTTPConnection,\n",
    ")  # HTTP Connection Protocol"
   ]
  },
  {
   "cell_type": "code",
   "execution_count": null,
   "id": "c61a151f",
   "metadata": {},
   "outputs": [],
   "source": [
    "# get carrots data from our public github repo\n",
    "url = \"https://raw.githubusercontent.com/OpenMined/PyDP/dev/examples/Tutorial_1-carrots_demo/animals_and_carrots.csv\"\n",
    "df = pd.read_csv(url, sep=\",\", names=[\"animal\", \"carrots_eaten\"])\n",
    "df.head()"
   ]
  },
  {
   "cell_type": "code",
   "execution_count": null,
   "id": "d6965268",
   "metadata": {},
   "outputs": [],
   "source": [
    "# prepare shared data items\n",
    "# carrots_eaten = list(df[\"carrots_eaten\"])\n",
    "# make it available on duet as the tag \"carrots_eaten\"\n",
    "carrots_eaten_ptr = (\n",
    "    sy.lib.python.List([0, 0, 1, 1, 0, 1, 0, 1])\n",
    "    .tag(\"carrots_eaten\")\n",
    "    .send(domain, pointable=True)\n",
    ")"
   ]
  },
  {
   "cell_type": "code",
   "execution_count": null,
   "id": "789eeefa",
   "metadata": {},
   "outputs": [],
   "source": [
    "BoundedMean = domain.pydp.algorithms.laplacian.BoundedMean"
   ]
  },
  {
   "cell_type": "code",
   "execution_count": null,
   "id": "5bb587a3",
   "metadata": {},
   "outputs": [],
   "source": [
    "carrots_eaten_ptr = domain.store[\"carrots_eaten\"]\n",
    "# calculates mean applying differential privacy\n",
    "def private_mean(privacy_budget: float) -> float:\n",
    "    x_ptr = BoundedMean(privacy_budget, 0, 20)\n",
    "    return x_ptr.quick_result(carrots_eaten_ptr).get()"
   ]
  },
  {
   "cell_type": "code",
   "execution_count": null,
   "id": "af2727d9",
   "metadata": {},
   "outputs": [],
   "source": [
    "carrots_eaten_ptr"
   ]
  },
  {
   "cell_type": "code",
   "execution_count": null,
   "id": "eb9ad0f7",
   "metadata": {},
   "outputs": [],
   "source": [
    "private_mean(0.8)"
   ]
  }
 ],
 "metadata": {
  "kernelspec": {
   "display_name": "Python 3",
   "language": "python",
   "name": "python3"
  },
  "language_info": {
   "codemirror_mode": {
    "name": "ipython",
    "version": 3
   },
   "file_extension": ".py",
   "mimetype": "text/x-python",
   "name": "python",
   "nbconvert_exporter": "python",
   "pygments_lexer": "ipython3",
   "version": "3.9.4"
  }
 },
 "nbformat": 4,
 "nbformat_minor": 5
}

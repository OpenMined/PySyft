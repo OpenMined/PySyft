{
 "cells": [
  {
   "cell_type": "markdown",
   "id": "7b07c366",
   "metadata": {},
   "source": [
    "# Getting Started"
   ]
  },
  {
   "cell_type": "markdown",
   "id": "1778e6e8",
   "metadata": {},
   "source": [
    "### What is PyGrid?"
   ]
  },
  {
   "cell_type": "markdown",
   "id": "0ce2c102",
   "metadata": {},
   "source": [
    "PyGrid is a decentralized platform composed by data owners and data scientists who can collectively train AI models using PySyft. Using flask apps for conducting both model-centric and data-centric federated learning, PyGrid is composed by three different entities.\n",
    "- **Network** - A node used to manage, monitor, control, and route instructions to various PyGrid Domains.\n",
    "- **Domain** - A node used to store private data and models for federated learning, as well as to issue instructions to various PyGrid Workers.\n",
    "- **Worker** - An emphemeral instance, managed by a PyGrid Domain, that is used to compute data."
   ]
  },
  {
   "cell_type": "markdown",
   "id": "5a63d8fe",
   "metadata": {},
   "source": [
    "### 1 - Running a PyGrid Domain\n",
    "As initial step to setup our basic infrastructure, we need to run a domain node. We can do it by using different strategies: \n",
    "- **Docker Image** : You can do it by downloading its docker image from our [dockerhub repository](https://hub.docker.com/u/openmined).\n",
    "- **Running Locally**: You can also do it by installing its dependencies and running this [script](https://github.com/OpenMined/PyGrid/blob/dev/apps/domain/run.sh).\n",
    "- **Cloud Deployment**: This option deploys a domain node directly into a cloud provider using pygrid-cli *(instructions on this [document](https://github.com/OpenMined/PyGrid/blob/dev/deployment.md).)*.\n",
    "\n",
    "For didactic purposes, this notebook will be using a grid version deployed in the cloud (Azure)."
   ]
  },
  {
   "cell_type": "markdown",
   "id": "67cb9db6",
   "metadata": {},
   "source": [
    "### 2 - Setting initial setup"
   ]
  },
  {
   "cell_type": "markdown",
   "id": "f9efc900",
   "metadata": {},
   "source": [
    "The first thing after spinning up a domain node is to set its initial configuration. This step is commonly used set the most important node options and **create the node owner account** which will manage the node. Without this, any other route/functionality will be blocked."
   ]
  },
  {
   "cell_type": "markdown",
   "id": "84e5b8ad",
   "metadata": {},
   "source": [
    "#### 2.1 - Import dependencies"
   ]
  },
  {
   "cell_type": "code",
   "execution_count": null,
   "id": "26a6d299",
   "metadata": {},
   "outputs": [],
   "source": [
    "from syft.grid.client.client import connect  # Method used to connect with the node.\n",
    "from syft.grid.client.grid_connection import (\n",
    "    GridHTTPConnection,\n",
    ")  # Protocol used to talk with the node\n",
    "\n",
    "import syft as sy\n",
    "import torch as th\n",
    "\n",
    "# Set logging level\n",
    "import logging\n",
    "\n",
    "logging.basicConfig(level=logging.INFO)\n",
    "\n",
    "sy.VERBOSE = False"
   ]
  },
  {
   "cell_type": "markdown",
   "id": "bb582e3a",
   "metadata": {},
   "source": [
    "#### 2.2 - Connecting with the node."
   ]
  },
  {
   "cell_type": "markdown",
   "id": "58ec4a7b",
   "metadata": {},
   "source": [
    "In this step, we intend to stablish a connection with the domain node. Since the node hasn't been configured yet, we should do it without the need of authentication."
   ]
  },
  {
   "cell_type": "code",
   "execution_count": null,
   "id": "68c9ddd7",
   "metadata": {},
   "outputs": [],
   "source": [
    "domain = connect(\n",
    "    url=\"http://localhost:5000\",  # Domain Address\n",
    "    conn_type=GridHTTPConnection,\n",
    ")  # HTTP Connection Protocol"
   ]
  },
  {
   "cell_type": "markdown",
   "id": "66ab1ec6",
   "metadata": {},
   "source": [
    "#### 2.3 - Setting the initial configs"
   ]
  },
  {
   "cell_type": "markdown",
   "id": "9718cb68",
   "metadata": {},
   "source": [
    "Here, we intend to finally set the first node options. Some fields are strictly necessary, while others are optional. You can see a brief description about all of them bellow.\n",
    "\n",
    "- **email** *(Needed)*: Node owner email.\n",
    "- **password** *(Needed)*: Node owner password.\n",
    "- **token** *(Needed)*: Node token generated during the first execution *(used to unblock  the`/setup`)*.\n",
    "- **domain_name** *(Needed)*: Domain Name, used to identify the domain node instance.\n",
    "- **private_key** *(Optional)*: If we node owner wants to use his own PySyft private key, otherwise the domain will generate a new one.\n",
    "- **aws_credentials** *(Optional)*: Credentials used to deploy workers in Amazon Cloud.\n",
    "- **gcp_credentials** *(Optional)*: Credentials used to deploy workers in Google Cloud.\n",
    "- **azure_credentials** *(Optional)*: Credentials used to deploy workers in Azure Cloud.\n",
    "- **cache_strategy** *(Optional)*: If some caching strategy is intended.\n",
    "- **replicate_db** *(Optional)*: Apply database replication to provide fault tolerance.\n",
    "- **auto_scale** *(Optional)*: Domain auto-scaling configuration.\n",
    "- **tensor_expiration_policy** *(Optional)*: How many time the tensors can exist in the domain.\n",
    "- **allow_user_signup** *(Optional)*: Allow/Deny the user registration by their own.\n",
    "\n",
    "**PS**: *At the time this article has been written, the optional features have not been fully developed. Contact the author of this article to find out their current status.*"
   ]
  },
  {
   "cell_type": "code",
   "execution_count": null,
   "id": "aff502c7",
   "metadata": {},
   "outputs": [],
   "source": [
    "domain.setup(\n",
    "    email=\"owner@openmined.org\",\n",
    "    password=\"owerpwd\",\n",
    "    domain_name=\"OpenMined Node\",\n",
    "    token=\"9G9MJ06OQH\",\n",
    ")"
   ]
  },
  {
   "cell_type": "markdown",
   "id": "a3fe2a04",
   "metadata": {},
   "source": [
    "__*Voialá!*__ We have our domain node working properly and the first account registered!"
   ]
  },
  {
   "cell_type": "markdown",
   "id": "82a4842a",
   "metadata": {},
   "source": [
    "#### 2.4 Connect using credentials\n",
    "Now we can connect with the node properly using the owner credentials."
   ]
  },
  {
   "cell_type": "code",
   "execution_count": null,
   "id": "6c12e369",
   "metadata": {},
   "outputs": [],
   "source": [
    "domain = connect(\n",
    "    url=\"http://localhost:5000\",  # Domain Address\n",
    "    credentials={\"email\": \"owner@openmined.org\", \"password\": \"owerpwd\"},\n",
    "    conn_type=GridHTTPConnection,\n",
    ")  # HTTP Connection Protocol"
   ]
  },
  {
   "cell_type": "markdown",
   "id": "d5f3c463",
   "metadata": {},
   "source": [
    "#### 2.5 Getting the node configs\n",
    "Now we intend to see the all the node configs that we setted before. It's important to highlight that the only user capable of accessing this resource is the owner of the node, so you must be logged in using the owner credentials."
   ]
  },
  {
   "cell_type": "code",
   "execution_count": null,
   "id": "ca5e91e9",
   "metadata": {},
   "outputs": [],
   "source": [
    "domain.get_setup()"
   ]
  },
  {
   "cell_type": "markdown",
   "id": "fcebf531",
   "metadata": {},
   "source": [
    "As you can see, since we didn't set most part of the optional configs they were defined using default values."
   ]
  },
  {
   "cell_type": "markdown",
   "id": "5a8c89b8",
   "metadata": {},
   "source": [
    "## 3 - Explore PyGrid\n",
    "\n",
    "In order to show all the features currently supported by the platform, we decided to split all the concepts, features and use cases in different notebooks, exploring and explaining  each one of them.<br/><br/>\n",
    "\n",
    "**Feel free to explore the notebooks listed below:**\n",
    "\n",
    "- [PyGrid's Roles](https://github.com/OpenMined/PySyft/blob/pygrid_demo/examples/pygrid/tutorials/PyGrid%20Roles.ipynb)\n",
    "- [PyGrid's Groups](https://github.com/OpenMined/PySyft/blob/pygrid_demo/examples/pygrid/tutorials/PyGrid%20Groups.ipynb)\n",
    "- [PyGrid's Association Requests](https://github.com/OpenMined/PySyft/blob/pygrid_demo/examples/pygrid/tutorials/Association%20Requests.ipynb)\n",
    "- [PyGrid's Workers](https://github.com/OpenMined/PySyft/blob/pygrid_demo/examples/pygrid/tutorials/PyGrid%20Workers.ipynb)\n",
    "- PyGrid related Tutorials\n",
    "    - [Running Model Inferences Remotely + SyMPC](https://github.com/OpenMined/PySyft/blob/pygrid_demo/examples/pygrid/model_inference/Model%20Inference%20PyGrid%20%2B%20SyMPC.ipynb)\n",
    "    - [Running Model Inferences Remotely + TenSeal](https://github.com/OpenMined/PySyft/blob/pygrid_demo/examples/pygrid/model_inference/Model%20Inference%20PyGrid%20%2B%20TenSeal.ipynb)\n",
    "    - [Running Model Inferences Remotely + PyDP](https://github.com/OpenMined/PySyft/blob/pygrid_demo/examples/pygrid/model_inference/Model%20Inference%20Pygrid%20%2B%20PyDP.ipynb)"
   ]
  },
  {
   "cell_type": "markdown",
   "id": "014d2f5a",
   "metadata": {},
   "source": [
    "## Congratulations!!! - Time to Join the Community!\n",
    "\n",
    "Congratulations on completing this notebook tutorial! If you enjoyed this and would like to join the movement toward privacy preserving, decentralized ownership of AI and the AI supply chain (data), you can do so in the following ways!\n",
    "\n",
    "### Star PySyft and SyMPC on GitHub\n",
    "The easiest way to help our community is just by starring the GitHub repos! This helps raise awareness of the cool tools we're building.\n",
    "\n",
    "* [Star PySyft](https://github.com/OpenMined/PySyft)\n",
    "* [Star PyGrid](https://github.com/OpenMined/PyGrid)\n",
    "\n",
    "### Join our Slack!\n",
    "The best way to keep up to date on the latest advancements is to join our community! You can do so by filling out the form at http://slack.openmined.org\n",
    "\n",
    "### Join a Code Project!\n",
    "The best way to contribute to our community is to become a code contributor! At any time you can go to PySyft GitHub Issues page and filter for \"Projects\". This will show you all the top level Tickets giving an overview of what projects you can join! If you don't want to join a project, but you would like to do a bit of coding, you can also look for more \"one off\" mini-projects by searching for GitHub issues marked \"good first issue\".\n",
    "\n",
    "* [PySyft Good First Issue Tickets](https://github.com/OpenMined/PySyft/labels/Good%20first%20issue%20%3Amortar_board%3A)\n",
    "* [PyGrid Good First Issue Tickets](https://github.com/OpenMined/PyGrid/labels/good%20first%20issue)\n",
    "\n",
    "### Donate\n",
    "If you don't have time to contribute to our codebase, but would still like to lend support, you can also become a Backer on our Open Collective. All donations go toward our web hosting and other community expenses such as hackathons and meetups!\n",
    "\n",
    "* [OpenMined's Open Collective Page](https://opencollective.com/openmined)"
   ]
  }
 ],
 "metadata": {
  "kernelspec": {
   "display_name": "Python 3",
   "language": "python",
   "name": "python3"
  },
  "language_info": {
   "codemirror_mode": {
    "name": "ipython",
    "version": 3
   },
   "file_extension": ".py",
   "mimetype": "text/x-python",
   "name": "python",
   "nbconvert_exporter": "python",
   "pygments_lexer": "ipython3",
   "version": "3.8.5"
  }
 },
 "nbformat": 4,
 "nbformat_minor": 5
}

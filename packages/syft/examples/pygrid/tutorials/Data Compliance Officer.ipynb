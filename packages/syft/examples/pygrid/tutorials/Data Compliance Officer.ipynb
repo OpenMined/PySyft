{
 "cells": [
  {
   "cell_type": "markdown",
   "id": "4fcf47c0",
   "metadata": {},
   "source": [
    "## Initial Setup"
   ]
  },
  {
   "cell_type": "code",
   "execution_count": null,
   "id": "e85a9c4e",
   "metadata": {},
   "outputs": [],
   "source": [
    "from syft.grid.client.client import connect\n",
    "from syft.grid.client.grid_connection import GridHTTPConnection\n",
    "\n",
    "import syft as sy\n",
    "import torch as th\n",
    "\n",
    "import logging\n",
    "\n",
    "logging.basicConfig(level=logging.INFO)"
   ]
  },
  {
   "cell_type": "markdown",
   "id": "315af5cf",
   "metadata": {},
   "source": [
    "### Log in as Data Compliance Officer"
   ]
  },
  {
   "cell_type": "code",
   "execution_count": null,
   "id": "318cc85a",
   "metadata": {},
   "outputs": [],
   "source": [
    "cp_officer = connect(\n",
    "    url=\"http://localhost:5000\",\n",
    "    credentials={\"email\": \"compliance@myorg.com\", \"password\": \"pwd123\"},\n",
    "    conn_type=GridHTTPConnection,\n",
    ")"
   ]
  },
  {
   "cell_type": "markdown",
   "id": "97b45dcd",
   "metadata": {},
   "source": [
    "### Get all data access requests"
   ]
  },
  {
   "cell_type": "code",
   "execution_count": null,
   "id": "ae38db4b",
   "metadata": {},
   "outputs": [],
   "source": [
    "cp_officer.requests.pandas"
   ]
  },
  {
   "cell_type": "markdown",
   "id": "d1d5318f",
   "metadata": {},
   "source": [
    "### Accept the request"
   ]
  },
  {
   "cell_type": "code",
   "execution_count": null,
   "id": "5a8f9d35",
   "metadata": {},
   "outputs": [],
   "source": [
    "cp_officer.requests[0].accept()"
   ]
  }
 ],
 "metadata": {
  "kernelspec": {
   "display_name": "Python 3",
   "language": "python",
   "name": "python3"
  },
  "language_info": {
   "codemirror_mode": {
    "name": "ipython",
    "version": 3
   },
   "file_extension": ".py",
   "mimetype": "text/x-python",
   "name": "python",
   "nbconvert_exporter": "python",
   "pygments_lexer": "ipython3",
   "version": "3.8.5"
  }
 },
 "nbformat": 4,
 "nbformat_minor": 5
}

{
 "cells": [
  {
   "cell_type": "markdown",
   "id": "c8b75e96",
   "metadata": {},
   "source": [
    "## Initial Setup"
   ]
  },
  {
   "cell_type": "code",
   "execution_count": 1,
   "id": "decbddae",
   "metadata": {},
   "outputs": [],
   "source": [
    "import syft as sy\n",
    "import torch as th\n",
    "\n",
    "# create owner login\n",
    "# sy.login().setup(email=\"owner@myorg.com\", password=\"owerpwd\")"
   ]
  },
  {
   "cell_type": "markdown",
   "id": "d4b14bf3",
   "metadata": {},
   "source": [
    "### Log in as Owner"
   ]
  },
  {
   "cell_type": "code",
   "execution_count": 2,
   "id": "230dc422",
   "metadata": {},
   "outputs": [
    {
     "name": "stderr",
     "output_type": "stream",
     "text": [
      "[2021-05-10T00:26:43.702374+0100][CRITICAL][logger]][11637] Skipping torchvision.torchvision.transforms.functional.adjust_sharpness not supported in 0.8.1\n",
      "[2021-05-10T00:26:43.703261+0100][CRITICAL][logger]][11637] Skipping torchvision.torchvision.transforms.functional.autocontrast not supported in 0.8.1\n",
      "[2021-05-10T00:26:43.703829+0100][CRITICAL][logger]][11637] Skipping torchvision.torchvision.transforms.functional.equalize not supported in 0.8.1\n",
      "[2021-05-10T00:26:43.704589+0100][CRITICAL][logger]][11637] Skipping torchvision.torchvision.transforms.functional.invert not supported in 0.8.1\n",
      "[2021-05-10T00:26:43.705102+0100][CRITICAL][logger]][11637] Skipping torchvision.torchvision.transforms.functional.posterize not supported in 0.8.1\n",
      "[2021-05-10T00:26:43.705817+0100][CRITICAL][logger]][11637] Skipping torchvision.torchvision.transforms.functional.solarize not supported in 0.8.1\n"
     ]
    }
   ],
   "source": [
    "domain = sy.login(email=\"owner@myorg.com\", password=\"owerpwd\")"
   ]
  },
  {
   "cell_type": "markdown",
   "id": "f2bff862",
   "metadata": {},
   "source": [
    "### Upload a Dataset"
   ]
  },
  {
   "cell_type": "code",
   "execution_count": 3,
   "id": "8d635517",
   "metadata": {},
   "outputs": [],
   "source": [
    "# dataset = domain.datasets.create('diabetes-dataset.tar.gz')"
   ]
  },
  {
   "cell_type": "code",
   "execution_count": 4,
   "id": "3c81dd8e",
   "metadata": {},
   "outputs": [
    {
     "data": {
      "text/html": [
       "<div>\n",
       "<style scoped>\n",
       "    .dataframe tbody tr th:only-of-type {\n",
       "        vertical-align: middle;\n",
       "    }\n",
       "\n",
       "    .dataframe tbody tr th {\n",
       "        vertical-align: top;\n",
       "    }\n",
       "\n",
       "    .dataframe thead th {\n",
       "        text-align: right;\n",
       "    }\n",
       "</style>\n",
       "<table border=\"1\" class=\"dataframe\">\n",
       "  <thead>\n",
       "    <tr style=\"text-align: right;\">\n",
       "      <th></th>\n",
       "      <th>id</th>\n",
       "      <th>manifest</th>\n",
       "      <th>description</th>\n",
       "      <th>tags</th>\n",
       "      <th>data</th>\n",
       "    </tr>\n",
       "  </thead>\n",
       "  <tbody>\n",
       "    <tr>\n",
       "      <th>0</th>\n",
       "      <td>19599af8-2bd2-419d-b274-30dfa14b5cb7</td>\n",
       "      <td>This dataset is originally from the National I...</td>\n",
       "      <td>This dataset is originally from the National I...</td>\n",
       "      <td>[#diabetes, #pima-indians-database]</td>\n",
       "      <td>[{'name': 'diabetes-data/data_02.csv', 'id': '...</td>\n",
       "    </tr>\n",
       "    <tr>\n",
       "      <th>1</th>\n",
       "      <td>57eda3ae-de54-44c7-aea3-73f890aa2ffc</td>\n",
       "      <td>This dataset is originally from the National I...</td>\n",
       "      <td>This dataset is originally from the National I...</td>\n",
       "      <td>[#diabetes, #pima-indians-database]</td>\n",
       "      <td>[{'name': 'diabetes-data/data_02.csv', 'id': '...</td>\n",
       "    </tr>\n",
       "  </tbody>\n",
       "</table>\n",
       "</div>"
      ],
      "text/plain": [
       "<syft.grid.client.request_api.dataset_api.DatasetRequestAPI at 0x7f84a2144dc0>"
      ]
     },
     "execution_count": 4,
     "metadata": {},
     "output_type": "execute_result"
    }
   ],
   "source": [
    "domain.datasets"
   ]
  },
  {
   "cell_type": "code",
   "execution_count": 6,
   "id": "671c9d74",
   "metadata": {},
   "outputs": [
    {
     "data": {
      "text/html": [
       "<syft.grid.client.request_api.dataset_api.Dataset object at 0x7f84c0778ac0><br /><br /><b>Id: </b>19599af8-2bd2-419d-b274-30dfa14b5cb7<br /><b>Tags: </b>['#diabetes', '#pima-indians-database']<br /><b>Manifest: </b>This dataset is originally from the National Institute of Diabetes and Digestive and Kidney Diseases. The objective is to predict based on diagnostic measurements whether a patient has diabetes.\n",
       "\n",
       "Several constraints were placed on the selection of these instances from a larger database. In particular, all patients here are females at least 21 years old of Pima Indian heritage.\n",
       "\n",
       "Diabetes files consist of 8 fields per record.  Each field is\n",
       "separated by a comma and each record is separated by a newline.\n",
       "\n",
       "CSV Columns and format:\n",
       "(1) Pregnancies (Integer) : Number of times pregnant\n",
       "(2) Glucose (Integer) : Plasma glucose concentration a 2 hours in an oral glucose tolerance test\n",
       "(3) Blood Pressure (Integer) : Diastolic blood pressure (mm Hg)\n",
       "(4) Skin Thickness (Integer) : Triceps skin fold thickness (mm)\n",
       "(5) Insulin (Integer) : 2-Hour serum insulin (mu U/ml)\n",
       "(6) BMI (Float) : Body mass index (weight in kg/(height in m)^2)\n",
       "(6) Diabetes Pedigree (Float) : Diabetes Pedigree Function\n",
       "(7) Age (Integer): Patient's age (years)\n",
       "(8) Outcome (Integer): Class variable (0 or 1)\n",
       "<br /><br /><div>\n",
       "<style scoped>\n",
       "    .dataframe tbody tr th:only-of-type {\n",
       "        vertical-align: middle;\n",
       "    }\n",
       "\n",
       "    .dataframe tbody tr th {\n",
       "        vertical-align: top;\n",
       "    }\n",
       "\n",
       "    .dataframe thead th {\n",
       "        text-align: right;\n",
       "    }\n",
       "</style>\n",
       "<table border=\"1\" class=\"dataframe\">\n",
       "  <thead>\n",
       "    <tr style=\"text-align: right;\">\n",
       "      <th></th>\n",
       "      <th>name</th>\n",
       "      <th>id</th>\n",
       "      <th>dtype</th>\n",
       "      <th>shape</th>\n",
       "    </tr>\n",
       "  </thead>\n",
       "  <tbody>\n",
       "    <tr>\n",
       "      <th>0</th>\n",
       "      <td>diabetes-data/data_02.csv</td>\n",
       "      <td>a31de9cf-d4b6-499c-80e0-1e0a59787977</td>\n",
       "      <td>Tensor</td>\n",
       "      <td>(200, 9)</td>\n",
       "    </tr>\n",
       "    <tr>\n",
       "      <th>1</th>\n",
       "      <td>diabetes-data/data_06.csv</td>\n",
       "      <td>13912ca2-1b06-4e89-ae45-dad2dd3643f8</td>\n",
       "      <td>Tensor</td>\n",
       "      <td>(200, 9)</td>\n",
       "    </tr>\n",
       "    <tr>\n",
       "      <th>2</th>\n",
       "      <td>diabetes-data/data_10.csv</td>\n",
       "      <td>ae7e4ef8-a73a-4c3e-8ff3-1cdc28d4dee5</td>\n",
       "      <td>Tensor</td>\n",
       "      <td>(200, 9)</td>\n",
       "    </tr>\n",
       "    <tr>\n",
       "      <th>3</th>\n",
       "      <td>diabetes-data/data_03.csv</td>\n",
       "      <td>e4928969-6a00-4828-bcc4-48cdd9d4268d</td>\n",
       "      <td>Tensor</td>\n",
       "      <td>(200, 9)</td>\n",
       "    </tr>\n",
       "    <tr>\n",
       "      <th>4</th>\n",
       "      <td>diabetes-data/data_04.csv</td>\n",
       "      <td>bfcdab02-aac2-4544-99e2-bab245d565e1</td>\n",
       "      <td>Tensor</td>\n",
       "      <td>(200, 9)</td>\n",
       "    </tr>\n",
       "    <tr>\n",
       "      <th>5</th>\n",
       "      <td>diabetes-data/new_data.csv</td>\n",
       "      <td>ec02316a-aba1-4507-93c8-27142af2a9be</td>\n",
       "      <td>Tensor</td>\n",
       "      <td>(2000, 9)</td>\n",
       "    </tr>\n",
       "    <tr>\n",
       "      <th>6</th>\n",
       "      <td>diabetes-data/data_07.csv</td>\n",
       "      <td>faf4757a-49fe-4270-a4ba-3001296a4f34</td>\n",
       "      <td>Tensor</td>\n",
       "      <td>(200, 9)</td>\n",
       "    </tr>\n",
       "    <tr>\n",
       "      <th>7</th>\n",
       "      <td>diabetes-data/data_08.csv</td>\n",
       "      <td>31576c3e-5e93-4ba8-b9be-149955c0172e</td>\n",
       "      <td>Tensor</td>\n",
       "      <td>(200, 9)</td>\n",
       "    </tr>\n",
       "    <tr>\n",
       "      <th>8</th>\n",
       "      <td>diabetes-data/data_09.csv</td>\n",
       "      <td>69a0ac0f-0cea-4716-ad47-aa6987a88994</td>\n",
       "      <td>Tensor</td>\n",
       "      <td>(200, 9)</td>\n",
       "    </tr>\n",
       "    <tr>\n",
       "      <th>9</th>\n",
       "      <td>diabetes-data/data_05.csv</td>\n",
       "      <td>c7afa982-5110-4693-9a01-f5ceb9e6d9cf</td>\n",
       "      <td>Tensor</td>\n",
       "      <td>(200, 9)</td>\n",
       "    </tr>\n",
       "    <tr>\n",
       "      <th>10</th>\n",
       "      <td>diabetes-data/data_01.csv</td>\n",
       "      <td>234d5e15-21a3-4a11-9d7b-784deeaaf4a5</td>\n",
       "      <td>Tensor</td>\n",
       "      <td>(200, 9)</td>\n",
       "    </tr>\n",
       "  </tbody>\n",
       "</table>\n",
       "</div>"
      ],
      "text/plain": [
       "<syft.grid.client.request_api.dataset_api.Dataset at 0x7f84c0778ac0>"
      ]
     },
     "execution_count": 6,
     "metadata": {},
     "output_type": "execute_result"
    }
   ],
   "source": [
    "domain.datasets[0]"
   ]
  },
  {
   "cell_type": "markdown",
   "id": "467bea49",
   "metadata": {},
   "source": [
    "### Create a Data Compliance Officer "
   ]
  },
  {
   "cell_type": "code",
   "execution_count": 7,
   "id": "fd53b604",
   "metadata": {},
   "outputs": [
    {
     "data": {
      "text/html": [
       "<div>\n",
       "<style scoped>\n",
       "    .dataframe tbody tr th:only-of-type {\n",
       "        vertical-align: middle;\n",
       "    }\n",
       "\n",
       "    .dataframe tbody tr th {\n",
       "        vertical-align: top;\n",
       "    }\n",
       "\n",
       "    .dataframe thead th {\n",
       "        text-align: right;\n",
       "    }\n",
       "</style>\n",
       "<table border=\"1\" class=\"dataframe\">\n",
       "  <thead>\n",
       "    <tr style=\"text-align: right;\">\n",
       "      <th></th>\n",
       "      <th>id</th>\n",
       "      <th>name</th>\n",
       "      <th>can_triage_requests</th>\n",
       "      <th>can_edit_settings</th>\n",
       "      <th>can_create_users</th>\n",
       "      <th>can_create_groups</th>\n",
       "      <th>can_edit_roles</th>\n",
       "      <th>can_manage_infrastructure</th>\n",
       "      <th>can_upload_data</th>\n",
       "    </tr>\n",
       "  </thead>\n",
       "  <tbody>\n",
       "    <tr>\n",
       "      <th>0</th>\n",
       "      <td>1</td>\n",
       "      <td>User</td>\n",
       "      <td>False</td>\n",
       "      <td>False</td>\n",
       "      <td>False</td>\n",
       "      <td>False</td>\n",
       "      <td>False</td>\n",
       "      <td>False</td>\n",
       "      <td>False</td>\n",
       "    </tr>\n",
       "    <tr>\n",
       "      <th>1</th>\n",
       "      <td>2</td>\n",
       "      <td>Compliance Officer</td>\n",
       "      <td>True</td>\n",
       "      <td>False</td>\n",
       "      <td>False</td>\n",
       "      <td>False</td>\n",
       "      <td>False</td>\n",
       "      <td>False</td>\n",
       "      <td>False</td>\n",
       "    </tr>\n",
       "    <tr>\n",
       "      <th>2</th>\n",
       "      <td>3</td>\n",
       "      <td>Administrator</td>\n",
       "      <td>True</td>\n",
       "      <td>True</td>\n",
       "      <td>True</td>\n",
       "      <td>True</td>\n",
       "      <td>False</td>\n",
       "      <td>False</td>\n",
       "      <td>True</td>\n",
       "    </tr>\n",
       "    <tr>\n",
       "      <th>3</th>\n",
       "      <td>4</td>\n",
       "      <td>Owner</td>\n",
       "      <td>True</td>\n",
       "      <td>True</td>\n",
       "      <td>True</td>\n",
       "      <td>True</td>\n",
       "      <td>True</td>\n",
       "      <td>True</td>\n",
       "      <td>True</td>\n",
       "    </tr>\n",
       "  </tbody>\n",
       "</table>\n",
       "</div>"
      ],
      "text/plain": [
       "   id                name  can_triage_requests  can_edit_settings  \\\n",
       "0   1                User                False              False   \n",
       "1   2  Compliance Officer                 True              False   \n",
       "2   3       Administrator                 True               True   \n",
       "3   4               Owner                 True               True   \n",
       "\n",
       "   can_create_users  can_create_groups  can_edit_roles  \\\n",
       "0             False              False           False   \n",
       "1             False              False           False   \n",
       "2              True               True           False   \n",
       "3              True               True            True   \n",
       "\n",
       "   can_manage_infrastructure  can_upload_data  \n",
       "0                      False            False  \n",
       "1                      False            False  \n",
       "2                      False             True  \n",
       "3                       True             True  "
      ]
     },
     "execution_count": 7,
     "metadata": {},
     "output_type": "execute_result"
    }
   ],
   "source": [
    "domain.roles.all(pandas=True)"
   ]
  },
  {
   "cell_type": "code",
   "execution_count": 8,
   "id": "b2348aca",
   "metadata": {},
   "outputs": [
    {
     "name": "stderr",
     "output_type": "stream",
     "text": [
      "INFO:root:User created successfully!\n"
     ]
    }
   ],
   "source": [
    "domain.users.create(\n",
    "    email=\"compliance@myorg.com\", password=\"pwd123\", role=\"Compliance Officer\"\n",
    ")"
   ]
  },
  {
   "cell_type": "code",
   "execution_count": 9,
   "id": "25111be8",
   "metadata": {},
   "outputs": [
    {
     "data": {
      "text/html": [
       "<div>\n",
       "<style scoped>\n",
       "    .dataframe tbody tr th:only-of-type {\n",
       "        vertical-align: middle;\n",
       "    }\n",
       "\n",
       "    .dataframe tbody tr th {\n",
       "        vertical-align: top;\n",
       "    }\n",
       "\n",
       "    .dataframe thead th {\n",
       "        text-align: right;\n",
       "    }\n",
       "</style>\n",
       "<table border=\"1\" class=\"dataframe\">\n",
       "  <thead>\n",
       "    <tr style=\"text-align: right;\">\n",
       "      <th></th>\n",
       "      <th>id</th>\n",
       "      <th>email</th>\n",
       "      <th>private_key</th>\n",
       "      <th>verify_key</th>\n",
       "      <th>role</th>\n",
       "      <th>groups</th>\n",
       "    </tr>\n",
       "  </thead>\n",
       "  <tbody>\n",
       "    <tr>\n",
       "      <th>0</th>\n",
       "      <td>1</td>\n",
       "      <td>owner@myorg.com</td>\n",
       "      <td>49f43fa90a8964282315b9e050368d754044dc34faa82f...</td>\n",
       "      <td>4aaf3fef6acdf6711df2623449f46e31a8920529ac9a48...</td>\n",
       "      <td>4</td>\n",
       "      <td>[]</td>\n",
       "    </tr>\n",
       "    <tr>\n",
       "      <th>1</th>\n",
       "      <td>2</td>\n",
       "      <td>compliance@myorg.com</td>\n",
       "      <td>a4dcafb7f3fb7a7393dcc6e60fc7390e900c613bc6e3fc...</td>\n",
       "      <td>c88a96977023d4fb90000bee94a2876d77a78b12add13f...</td>\n",
       "      <td>2</td>\n",
       "      <td>[]</td>\n",
       "    </tr>\n",
       "  </tbody>\n",
       "</table>\n",
       "</div>"
      ],
      "text/plain": [
       "   id                 email  \\\n",
       "0   1       owner@myorg.com   \n",
       "1   2  compliance@myorg.com   \n",
       "\n",
       "                                         private_key  \\\n",
       "0  49f43fa90a8964282315b9e050368d754044dc34faa82f...   \n",
       "1  a4dcafb7f3fb7a7393dcc6e60fc7390e900c613bc6e3fc...   \n",
       "\n",
       "                                          verify_key  role groups  \n",
       "0  4aaf3fef6acdf6711df2623449f46e31a8920529ac9a48...     4     []  \n",
       "1  c88a96977023d4fb90000bee94a2876d77a78b12add13f...     2     []  "
      ]
     },
     "execution_count": 9,
     "metadata": {},
     "output_type": "execute_result"
    }
   ],
   "source": [
    "domain.users.all(pandas=True)"
   ]
  },
  {
   "cell_type": "code",
   "execution_count": null,
   "id": "37a16237",
   "metadata": {},
   "outputs": [],
   "source": []
  }
 ],
 "metadata": {
  "kernelspec": {
   "display_name": "Python 3",
   "language": "python",
   "name": "python3"
  },
  "language_info": {
   "codemirror_mode": {
    "name": "ipython",
    "version": 3
   },
   "file_extension": ".py",
   "mimetype": "text/x-python",
   "name": "python",
   "nbconvert_exporter": "python",
   "pygments_lexer": "ipython3",
   "version": "3.8.3"
  }
 },
 "nbformat": 4,
 "nbformat_minor": 5
}

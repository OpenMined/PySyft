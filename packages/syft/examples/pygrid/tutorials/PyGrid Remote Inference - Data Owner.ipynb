{
 "cells": [
  {
   "cell_type": "markdown",
   "id": "fa84a6d1",
   "metadata": {},
   "source": [
    "# PyGrid: Remote Inference - Data Owner"
   ]
  },
  {
   "cell_type": "markdown",
   "id": "bd1c72fa",
   "metadata": {},
   "source": [
    "<img src=\"../../../docs/img/pygrid_logo.png\" align=\"center\"/>\n",
    "\n",
    "The ability to evaluate custom models, using private datasets without having access to them; is a powerful idea that will change the way we interact with data during a machine learning workflow. PySyft and PyGrid offer the ability to run inferences remotely by using a variety of technologies and applications.\n",
    "\n",
    "In this notebook series, we'll be covering all the nuances of this process, showing how to send private datasets _(as Data Owner)_, and how to perform remote computation using private environments _(as Data Scientist)_.\n",
    "\n",
    "The main goal of these notebooks is to explore different techniques and technologies that can finally make **private data _\"accessible\"_ to Data Scientists, while also providing Data Owners with total control of their data.**\n",
    "\n",
    "**NOTE**: _This notebook was designed to be executed in pair with the [PyGrid Remote Inference - Data Scientist](./PyGrid%20Remote%20Inference%20-%20Data%20Scientist.ipynb) notebook. In order to reproduce it properly, follow the checkpoints and instructions described in the next sections._"
   ]
  },
  {
   "cell_type": "markdown",
   "id": "270456c1",
   "metadata": {},
   "source": [
    "### Overview\n",
    "\n",
    "- [**Initial Setup**](#initial-setup)\n",
    "- [**Hosting Datasets**](#hosting-datasets)\n",
    "- [**Create a Compliance Officer Account**](#create-a-compliance-officer-account)\n",
    "- [**Data Access Triage**](#data-access-request-triage)"
   ]
  },
  {
   "cell_type": "markdown",
   "id": "98ed0f4e",
   "metadata": {},
   "source": [
    "<a id=\"initial-setup\"></a>\n",
    "## Initial Setup\n",
    "The first thing to do after deploying a domain, is to set its initial configuration. Here we can define some values and flags that will change how the domain will behave. We also use this step to create the owner account, which will have full control and access to the platform. As long as this step is not executed, all other endpoints/features will be blocked. **NOTE**: Setup is also possible via a web interface."
   ]
  },
  {
   "cell_type": "markdown",
   "id": "15381297",
   "metadata": {},
   "source": [
    "### Importing libs"
   ]
  },
  {
   "cell_type": "code",
   "execution_count": null,
   "id": "7075b444",
   "metadata": {},
   "outputs": [],
   "source": [
    "from syft.grid.client.client import connect  # Method used to connect with the domain.\n",
    "from syft.grid.client.grid_connection import (\n",
    "    GridHTTPConnection,\n",
    ")  # Protocol used to talk with the domain\n",
    "\n",
    "import syft as sy\n",
    "import torch as th\n",
    "\n",
    "# Set logging level\n",
    "import logging\n",
    "\n",
    "logging.basicConfig(level=logging.INFO)"
   ]
  },
  {
   "cell_type": "code",
   "execution_count": null,
   "id": "pharmaceutical-accommodation",
   "metadata": {},
   "outputs": [],
   "source": [
    "PYGRID_PORT = 5000"
   ]
  },
  {
   "cell_type": "code",
   "execution_count": null,
   "id": "alike-latino",
   "metadata": {},
   "outputs": [],
   "source": [
    "# 1 - Since we still don't have any account registered,\n",
    "# we can connect with the domain without credentials.\n",
    "domain_client = connect(\n",
    "    url=f\"http://localhost:{PYGRID_PORT}\",  # Domain Address\n",
    "    conn_type=GridHTTPConnection,\n",
    ")  # HTTP Connection Protocol\n",
    "\n",
    "# 2 - Set the domain initial configuration\n",
    "# - Owner's email/password\n",
    "# - Domain Name used to identify this owner.\n",
    "# - Random token generated during deployment\n",
    "domain_client.setup(\n",
    "    email=\"owner@myorg.com\",\n",
    "    password=\"owerpwd\",\n",
    "    domain_name=\"OpenMined Domain\",\n",
    "    token=\"9G9MJ06OQH\",\n",
    ")"
   ]
  },
  {
   "cell_type": "code",
   "execution_count": null,
   "id": "1bca8564",
   "metadata": {},
   "outputs": [],
   "source": [
    "# 3 - Now, we have an account registered!\n",
    "# Let's connect with the domain as using owner credentials.\n",
    "domain = connect(\n",
    "    url=f\"http://localhost:{PYGRID_PORT}\",  # Domain Address\n",
    "    credentials={\"email\": \"owner@myorg.com\", \"password\": \"owerpwd\"},\n",
    "    conn_type=GridHTTPConnection,\n",
    ")  # HTTP Connection Protocol"
   ]
  },
  {
   "cell_type": "markdown",
   "id": "7fca1901",
   "metadata": {},
   "source": [
    "_PS : For didatic purposes, we have reduced the number of parameters used in the \"setup\" process. But the domain also accepts a set of optional parameters. If you want to know more about the initial setup process, it's highly recommended to read our roadmap._"
   ]
  },
  {
   "cell_type": "markdown",
   "id": "519607c5",
   "metadata": {},
   "source": [
    "<a id=\"hosting-datasets\"></a>\n",
    "## Hosting Datasets\n",
    "\n",
    "As a domain owner, we're also able to upload new datasets to the domain. We can do it by using two different approaches:\n",
    "\n",
    "- **Tensor Data Structures**: Using the torch tensor structures and the default PySyft API\n",
    "- **Structured and compressed CSV folder** : We can upload a _.tar.gz_ file  by using the PyGrid API.\n",
    "\n",
    "We'll be covering the second one, sending a compressed file containing a structured folder with different CSV files + metadata information about the dataset _(manifest, description and tags)_."
   ]
  },
  {
   "cell_type": "code",
   "execution_count": null,
   "id": "e81e43c7",
   "metadata": {},
   "outputs": [],
   "source": [
    "dataset = domain.datasets.create(\"diabetes-dataset.tar.gz\")\n",
    "dataset.pandas"
   ]
  },
  {
   "cell_type": "markdown",
   "id": "1f9e23d4",
   "metadata": {},
   "source": [
    "Now, the dataset is available to be used remotely by a data scientist."
   ]
  },
  {
   "cell_type": "markdown",
   "id": "8ad88f9d",
   "metadata": {},
   "source": [
    "<a id=\"create-a-compliance-officer-account\"></a>\n",
    "## Create a Compliance Officer Account\n",
    "By default, PyGrid initializes with 4 pre-set roles that can be attached to the users. These roles are used to define what a user is allowed or not allowed to do when logged-in. You can check its permissions by executing this code snippet."
   ]
  },
  {
   "cell_type": "markdown",
   "id": "4102b365",
   "metadata": {},
   "source": [
    "### Roles"
   ]
  },
  {
   "cell_type": "code",
   "execution_count": null,
   "id": "subjective-shakespeare",
   "metadata": {},
   "outputs": [],
   "source": [
    "domain.roles"
   ]
  },
  {
   "cell_type": "code",
   "execution_count": null,
   "id": "bd5dbfe6",
   "metadata": {},
   "outputs": [],
   "source": [
    "domain.roles.all(pandas=True)"
   ]
  },
  {
   "cell_type": "markdown",
   "id": "85d031a2",
   "metadata": {},
   "source": [
    "These roles are not static _(excluding owner role)_ and can be updated or deleted if necessary. You can also create new ones if needed."
   ]
  },
  {
   "cell_type": "markdown",
   "id": "4d5e45d8",
   "metadata": {},
   "source": [
    "Using owner permissions, you can also check and change the roles used by each user registered in the domain."
   ]
  },
  {
   "cell_type": "code",
   "execution_count": null,
   "id": "e63f8643",
   "metadata": {},
   "outputs": [],
   "source": [
    "domain.users.all(pandas=True)"
   ]
  },
  {
   "cell_type": "markdown",
   "id": "c0448eea",
   "metadata": {},
   "source": [
    "### User Creation\n",
    "\n",
    "PyGrid allow people to create new accounts by themselves, therefore, these accounts will always be  attached to the User role _(without any management permissions)_. Considering the default roles, only the Owner and Administrator accounts would be able to create new accounts attached with different permissions.<br><br>\n",
    "For our use case, we'll create a **compliance officer** account. This role is commonly assigned for users who will **evaluate data access requests**, approving or rejecting them. Since we're logged-in as a owner, we have all the requirements."
   ]
  },
  {
   "cell_type": "code",
   "execution_count": null,
   "id": "4307af35",
   "metadata": {},
   "outputs": [],
   "source": [
    "domain.users.create(\n",
    "    email=\"compliance@myorg.com\", password=\"pwd123\", role=\"Compliance Officer\"\n",
    ")"
   ]
  },
  {
   "cell_type": "code",
   "execution_count": null,
   "id": "9dc6fd0e",
   "metadata": {},
   "outputs": [],
   "source": [
    "domain.users.all(pandas=True)"
   ]
  },
  {
   "cell_type": "markdown",
   "id": "b6e5eb07",
   "metadata": {},
   "source": [
    "### Login as a Compliance Officer\n",
    "To be accurate to this use case, we'll log-in as compliance officer.<br><br>\n",
    "**From now on, we'll use only compliance officer credentials to go through this use case.**"
   ]
  },
  {
   "cell_type": "code",
   "execution_count": null,
   "id": "091d9c18",
   "metadata": {},
   "outputs": [],
   "source": [
    "cp_officer = connect(\n",
    "    url=f\"http://localhost:{PYGRID_PORT}\",  # Domain Address\n",
    "    credentials={\"email\": \"compliance@myorg.com\", \"password\": \"pwd123\"},\n",
    "    conn_type=GridHTTPConnection,\n",
    ")  # HTTP Connection Protocol"
   ]
  },
  {
   "cell_type": "markdown",
   "id": "c623fd98",
   "metadata": {},
   "source": [
    "### <img src=\"https://github.com/OpenMined/design-assets/raw/master/logos/OM/mark-primary-light.png\" alt=\"he-black-box\" width=\"100\"/> Checkpoint : Now STOP and run the Data Scientist notebook until the next checkpoint."
   ]
  },
  {
   "cell_type": "markdown",
   "id": "9744298b",
   "metadata": {},
   "source": [
    "<a id=\"data-access-request-triage\"></a>\n",
    "## Data Access Triage"
   ]
  },
  {
   "cell_type": "markdown",
   "id": "9965bdd1",
   "metadata": {},
   "source": [
    "Empowered by the data access management, the compliance officer the evaluate each request accepting or denying them."
   ]
  },
  {
   "cell_type": "code",
   "execution_count": null,
   "id": "582602f8",
   "metadata": {},
   "outputs": [],
   "source": [
    "cp_officer.requests.pandas"
   ]
  },
  {
   "cell_type": "code",
   "execution_count": null,
   "id": "59fd9dd7",
   "metadata": {},
   "outputs": [],
   "source": [
    "cp_officer.requests[0].accept()"
   ]
  },
  {
   "cell_type": "markdown",
   "id": "1a6cde92",
   "metadata": {},
   "source": [
    "## Congratulations!!! - Time to Join the Community!\n",
    "\n",
    "Congratulations on completing this notebook tutorial! If you enjoyed this and would like to join the movement toward privacy preserving, decentralized ownership of AI and the AI supply chain (data), you can do so in the following ways!\n",
    "\n",
    "### Take our FREE Video Course \"The Private AI Series\"\n",
    "Learn how privacy technology is changing our world and how you can lead the charge.\n",
    "We cover non technical concepts about structured transparency, as well as deep dive into the technical aspects of various Cryptographic technologies and how to use them with Syft and Grid.\n",
    "* [📺 Video Course](https://courses.openmined.org/)\n",
    "\n",
    "### Star PySyft and PyGrid on GitHub\n",
    "The easiest way to help our community is just by starring the GitHub repos! This helps raise awareness of the cool tools we're building.\n",
    "\n",
    "* [⭐️ Star PySyft](https://github.com/OpenMined/PySyft)\n",
    "* [⭐️ Star PyGrid](https://github.com/OpenMined/PyGrid)\n",
    "\n",
    "### Join our Slack!\n",
    "The best way to keep up to date on the latest advancements is to join our community! You can do so by filling out the form at http://slack.openmined.org\n",
    "\n",
    "### Join a Code Project!\n",
    "The best way to contribute to our community is to become a code contributor! At any time you can go to PySyft GitHub Issues page and filter for \"Projects\". This will show you all the top level Tickets giving an overview of what projects you can join! If you don't want to join a project, but you would like to do a bit of coding, you can also look for more \"one off\" mini-projects by searching for GitHub issues marked \"good first issue\".\n",
    "\n",
    "* [PySyft Good First Issue Tickets](https://github.com/OpenMined/PySyft/labels/Good%20first%20issue%20%3Amortar_board%3A)\n",
    "* [PyGrid Good First Issue Tickets](https://github.com/OpenMined/PyGrid/labels/good%20first%20issue)\n",
    "\n",
    "### Donate\n",
    "If you don't have time to contribute to our codebase, but would still like to lend support, you can also become a Backer on our Open Collective. All donations go toward our web hosting and other community expenses such as hackathons and meetups!\n",
    "\n",
    "* [OpenMined's Open Collective Page](https://opencollective.com/openmined)"
   ]
  },
  {
   "cell_type": "code",
   "execution_count": null,
   "id": "confident-underwear",
   "metadata": {},
   "outputs": [],
   "source": []
  }
 ],
 "metadata": {
  "kernelspec": {
   "display_name": "Python 3",
   "language": "python",
   "name": "python3"
  },
  "language_info": {
   "codemirror_mode": {
    "name": "ipython",
    "version": 3
   },
   "file_extension": ".py",
   "mimetype": "text/x-python",
   "name": "python",
   "nbconvert_exporter": "python",
   "pygments_lexer": "ipython3",
   "version": "3.8.6"
  }
 },
 "nbformat": 4,
 "nbformat_minor": 5
}

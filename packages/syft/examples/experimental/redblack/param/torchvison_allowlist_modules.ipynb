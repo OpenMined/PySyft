{
 "cells": [
  {
   "cell_type": "code",
   "execution_count": 1,
   "id": "detected-demonstration",
   "metadata": {},
   "outputs": [],
   "source": [
    "from queue import Queue\n",
    "import torchvision\n",
    "import inspect \n",
    "import typing\n",
    "import requests"
   ]
  },
  {
   "cell_type": "code",
   "execution_count": 71,
   "id": "flying-recruitment",
   "metadata": {},
   "outputs": [],
   "source": [
    "def scraping_lib(thing): \n",
    "    # thing = torchvision.transforms.functional\n",
    "\n",
    "    q = Queue()\n",
    "    allowlist = {}\n",
    "    # print(f'thing {thing}')\n",
    "    q.put(thing)\n",
    "\n",
    "    empty_typing_hints = list()\n",
    "    modules_list = list()\n",
    "    classes_list = list()\n",
    "    while(not q.empty()):\n",
    "\n",
    "        module = q.get()\n",
    "        # print(f'Processing {module.__name__}')\n",
    "        modules_list.append(module.__name__)\n",
    "        # print(module.__name__)\n",
    "        # dules_list.append(t.__name__)\n",
    "        for ax in dir(module):\n",
    "            # print(ax)\n",
    "            t = getattr(module, ax)\n",
    "            if (inspect.ismodule(t)):\n",
    "                if module.__name__ in t.__name__:\n",
    "                    q.put(t)\n",
    "                # else:\n",
    "                    # print(f'Dont consider {module.__name__}, {ax}, {t.__name__}')\n",
    "            if (inspect.isclass(t)):\n",
    "                # Commenting because allowlist should only contain methods\n",
    "                # allowlist[module.__name__ + '.' + t.__name__] = module.__name__ + '.' + t.__name__\n",
    "                classes_list.append(module.__name__ + '.' + t.__name__)\n",
    "            if (inspect.ismethod(t) or inspect.isfunction(t)):\n",
    "                # print(f't for debug: {t} {module}')\n",
    "                try:\n",
    "                    # try block\n",
    "                    d = typing.get_type_hints(t)\n",
    "                    if (not d): \n",
    "                        empty_typing_hints.append(module.__name__ + '.' + t.__name__)\n",
    "                    else:\n",
    "                        if 'return' in d.keys():\n",
    "                            if isinstance(d['return'], typing._GenericAlias):\n",
    "                                # print(type(d['return']))\n",
    "                                # print(get_origin(d['return']))\n",
    "                                allowlist[module.__name__ + '.' + t.__name__] = get_origin(d['return']).__name__\n",
    "                            else:\n",
    "                                # print(d['return'])\n",
    "                                allowlist[module.__name__ + '.' + t.__name__] = d['return'].__name__\n",
    "                        else:\n",
    "                            print(f'No return in keys {t}')\n",
    "\n",
    "                except Exception as e:\n",
    "                    print(f'get_type_hints didnt work: {e}')\n",
    "                \n",
    "    \n",
    "    return allowlist, empty_typing_hints, modules_list, classes_list"
   ]
  },
  {
   "cell_type": "code",
   "execution_count": 72,
   "id": "decimal-hostel",
   "metadata": {},
   "outputs": [
    {
     "name": "stdout",
     "output_type": "stream",
     "text": [
      "get_type_hints didnt work: name 'NDFrame' is not defined\n",
      "No return in keys <function from_pystr_to_cstr at 0x7fd2ac847dc0>\n",
      "get_type_hints didnt work: No module named 'dask'\n",
      "get_type_hints didnt work: No module named 'dask'\n",
      "get_type_hints didnt work: '_SpecialForm' object has no attribute '__name__'\n",
      "get_type_hints didnt work: No module named 'dask'\n",
      "get_type_hints didnt work: No module named 'dask'\n",
      "get_type_hints didnt work: No module named 'dask'\n",
      "get_type_hints didnt work: '_SpecialForm' object has no attribute '__name__'\n",
      "get_type_hints didnt work: No module named 'dask'\n",
      "get_type_hints didnt work: No module named 'dask'\n",
      "get_type_hints didnt work: No module named 'dask'\n",
      "get_type_hints didnt work: No module named 'dask'\n",
      "get_type_hints didnt work: '_SpecialForm' object has no attribute '__name__'\n",
      "get_type_hints didnt work: No module named 'dask'\n",
      "get_type_hints didnt work: name 'NDFrame' is not defined\n",
      "get_type_hints didnt work: No module named 'dask'\n",
      "get_type_hints didnt work: No module named 'dask'\n",
      "No return in keys <function _to_data_type at 0x7fd2ac7e98b0>\n",
      "No return in keys <function dispatch_meta_backend at 0x7fd2ac7e9dc0>\n"
     ]
    }
   ],
   "source": [
    "import xgboost\n",
    "allowlist,empty_typing_hints, modules_list, classes_list = scraping_lib(xgboost)"
   ]
  },
  {
   "cell_type": "code",
   "execution_count": 73,
   "id": "understanding-beijing",
   "metadata": {},
   "outputs": [
    {
     "data": {
      "text/plain": [
       "{'xgboost.core._array_interface': 'bytes',\n",
       " 'xgboost.core._get_booster_layer_trees': 'tuple',\n",
       " 'xgboost.core.find_lib_path': 'list',\n",
       " 'xgboost.core.from_cstr_to_pystr': 'list',\n",
       " 'xgboost.dask._assert_dask_support': 'NoneType',\n",
       " 'xgboost.dask._can_output_df': 'bool',\n",
       " 'xgboost.dask._cls_predict_proba': 'PredtT',\n",
       " 'xgboost.dask._create_device_quantile_dmatrix': 'DeviceQuantileDMatrix',\n",
       " 'xgboost.dask._create_dmatrix': 'DMatrix',\n",
       " 'xgboost.dask._get_worker_parts': 'list',\n",
       " 'xgboost.dask._get_worker_parts_ordered': 'list',\n",
       " 'xgboost.dask._get_workers_from_data': 'list',\n",
       " 'xgboost.dask._infer_predict_output': 'tuple',\n",
       " 'xgboost.dask._start_tracker': 'dict',\n",
       " 'xgboost.dask._unzip': 'list',\n",
       " 'xgboost.dask._wrap_evaluation_matrices': 'tuple',\n",
       " 'xgboost.data._array_interface': 'bytes',\n",
       " 'xgboost.data._transform_np_array': 'ndarray',\n",
       " 'xgboost.data.dispatch_device_quantile_dmatrix_set_data': 'NoneType',\n",
       " 'xgboost.libpath.find_lib_path': 'list',\n",
       " 'xgboost.sklearn._cls_predict_proba': 'PredtT',\n",
       " 'xgboost.sklearn._wrap_evaluation_matrices': 'tuple',\n",
       " 'xgboost.training._get_booster_layer_trees': 'tuple'}"
      ]
     },
     "execution_count": 73,
     "metadata": {},
     "output_type": "execute_result"
    }
   ],
   "source": [
    "allowlist"
   ]
  },
  {
   "cell_type": "code",
   "execution_count": 74,
   "id": "ambient-abraham",
   "metadata": {},
   "outputs": [],
   "source": [
    "package_support = {}\n",
    "\n",
    "package_support['lib'] = xgboost.__name__\n",
    "package_support['class'] = classes_list\n",
    "package_support['modules'] = modules_list\n",
    "package_support['methods'] = allowlist"
   ]
  },
  {
   "cell_type": "code",
   "execution_count": 76,
   "id": "fantastic-yugoslavia",
   "metadata": {},
   "outputs": [],
   "source": [
    "import json\n",
    "# jsonString  = json.dumps(package_support)\n",
    "with open(\"package_support.json\", \"w\") as outfile: \n",
    "    json.dump(package_support, outfile)"
   ]
  },
  {
   "cell_type": "markdown",
   "id": "relevant-scotland",
   "metadata": {},
   "source": [
    "# Current Limitations (to work on next)\n",
    "\n",
    "\n",
    "1. `get_type_hints didnt work:` type of issues \n",
    "2. `No return in keys` type of issues\n",
    "3. `statsmodels` can't be scrapped using this, hence look for an alternate/ better approach. \n",
    "4. Convert to single json \n",
    "5. Convert to a de-duplicated better json configuration. \n"
   ]
  }
 ],
 "metadata": {
  "kernelspec": {
   "display_name": "Python 3",
   "language": "python",
   "name": "python3"
  },
  "language_info": {
   "codemirror_mode": {
    "name": "ipython",
    "version": 3
   },
   "file_extension": ".py",
   "mimetype": "text/x-python",
   "name": "python",
   "nbconvert_exporter": "python",
   "pygments_lexer": "ipython3",
   "version": "3.8.6"
  }
 },
 "nbformat": 4,
 "nbformat_minor": 5
}

{
 "cells": [
  {
   "cell_type": "markdown",
   "metadata": {},
   "source": [
    "### Imports & setup"
   ]
  },
  {
   "cell_type": "code",
   "execution_count": 1,
   "metadata": {},
   "outputs": [],
   "source": [
    "import syft as sy"
   ]
  },
  {
   "cell_type": "code",
   "execution_count": 2,
   "metadata": {},
   "outputs": [],
   "source": [
    "import sklearn\n",
    "import sklearn.linear_model"
   ]
  },
  {
   "cell_type": "code",
   "execution_count": 3,
   "metadata": {},
   "outputs": [],
   "source": [
    "sy.load(\"sklearn\")\n",
    "sy.load(\"pandas\")\n",
    "sy.load(\"numpy\")\n",
    "remote = sy.VirtualMachine().get_root_client()\n",
    "remote_sklearn = remote.sklearn\n",
    "remote_pd = remote.pandas"
   ]
  },
  {
   "cell_type": "markdown",
   "metadata": {},
   "source": [
    "### Load example data and inspect"
   ]
  },
  {
   "cell_type": "code",
   "execution_count": 4,
   "metadata": {},
   "outputs": [],
   "source": [
    "# Change this path to any available CSV on your machine\n",
    "CSV_DATASET='/cache/datasets/paysim/PS_20174392719_1491204439457_log.csv'"
   ]
  },
  {
   "cell_type": "code",
   "execution_count": 5,
   "metadata": {},
   "outputs": [],
   "source": [
    "import pandas as pd\n",
    "df = pd.read_csv(CSV_DATASET)\n",
    "df = df.head(5)"
   ]
  },
  {
   "cell_type": "code",
   "execution_count": 6,
   "metadata": {
    "scrolled": true
   },
   "outputs": [
    {
     "data": {
      "text/html": [
       "<div>\n",
       "<style scoped>\n",
       "    .dataframe tbody tr th:only-of-type {\n",
       "        vertical-align: middle;\n",
       "    }\n",
       "\n",
       "    .dataframe tbody tr th {\n",
       "        vertical-align: top;\n",
       "    }\n",
       "\n",
       "    .dataframe thead th {\n",
       "        text-align: right;\n",
       "    }\n",
       "</style>\n",
       "<table border=\"1\" class=\"dataframe\">\n",
       "  <thead>\n",
       "    <tr style=\"text-align: right;\">\n",
       "      <th></th>\n",
       "      <th>step</th>\n",
       "      <th>type</th>\n",
       "      <th>amount</th>\n",
       "      <th>nameOrig</th>\n",
       "      <th>oldbalanceOrg</th>\n",
       "      <th>newbalanceOrig</th>\n",
       "      <th>nameDest</th>\n",
       "      <th>oldbalanceDest</th>\n",
       "      <th>newbalanceDest</th>\n",
       "      <th>isFraud</th>\n",
       "      <th>isFlaggedFraud</th>\n",
       "    </tr>\n",
       "  </thead>\n",
       "  <tbody>\n",
       "    <tr>\n",
       "      <th>0</th>\n",
       "      <td>1</td>\n",
       "      <td>PAYMENT</td>\n",
       "      <td>9839.64</td>\n",
       "      <td>C1231006815</td>\n",
       "      <td>170136.0</td>\n",
       "      <td>160296.36</td>\n",
       "      <td>M1979787155</td>\n",
       "      <td>0.0</td>\n",
       "      <td>0.0</td>\n",
       "      <td>0</td>\n",
       "      <td>0</td>\n",
       "    </tr>\n",
       "    <tr>\n",
       "      <th>1</th>\n",
       "      <td>1</td>\n",
       "      <td>PAYMENT</td>\n",
       "      <td>1864.28</td>\n",
       "      <td>C1666544295</td>\n",
       "      <td>21249.0</td>\n",
       "      <td>19384.72</td>\n",
       "      <td>M2044282225</td>\n",
       "      <td>0.0</td>\n",
       "      <td>0.0</td>\n",
       "      <td>0</td>\n",
       "      <td>0</td>\n",
       "    </tr>\n",
       "    <tr>\n",
       "      <th>2</th>\n",
       "      <td>1</td>\n",
       "      <td>TRANSFER</td>\n",
       "      <td>181.00</td>\n",
       "      <td>C1305486145</td>\n",
       "      <td>181.0</td>\n",
       "      <td>0.00</td>\n",
       "      <td>C553264065</td>\n",
       "      <td>0.0</td>\n",
       "      <td>0.0</td>\n",
       "      <td>1</td>\n",
       "      <td>0</td>\n",
       "    </tr>\n",
       "    <tr>\n",
       "      <th>3</th>\n",
       "      <td>1</td>\n",
       "      <td>CASH_OUT</td>\n",
       "      <td>181.00</td>\n",
       "      <td>C840083671</td>\n",
       "      <td>181.0</td>\n",
       "      <td>0.00</td>\n",
       "      <td>C38997010</td>\n",
       "      <td>21182.0</td>\n",
       "      <td>0.0</td>\n",
       "      <td>1</td>\n",
       "      <td>0</td>\n",
       "    </tr>\n",
       "    <tr>\n",
       "      <th>4</th>\n",
       "      <td>1</td>\n",
       "      <td>PAYMENT</td>\n",
       "      <td>11668.14</td>\n",
       "      <td>C2048537720</td>\n",
       "      <td>41554.0</td>\n",
       "      <td>29885.86</td>\n",
       "      <td>M1230701703</td>\n",
       "      <td>0.0</td>\n",
       "      <td>0.0</td>\n",
       "      <td>0</td>\n",
       "      <td>0</td>\n",
       "    </tr>\n",
       "  </tbody>\n",
       "</table>\n",
       "</div>"
      ],
      "text/plain": [
       "   step      type    amount     nameOrig  oldbalanceOrg  newbalanceOrig  \\\n",
       "0     1   PAYMENT   9839.64  C1231006815       170136.0       160296.36   \n",
       "1     1   PAYMENT   1864.28  C1666544295        21249.0        19384.72   \n",
       "2     1  TRANSFER    181.00  C1305486145          181.0            0.00   \n",
       "3     1  CASH_OUT    181.00   C840083671          181.0            0.00   \n",
       "4     1   PAYMENT  11668.14  C2048537720        41554.0        29885.86   \n",
       "\n",
       "      nameDest  oldbalanceDest  newbalanceDest  isFraud  isFlaggedFraud  \n",
       "0  M1979787155             0.0             0.0        0               0  \n",
       "1  M2044282225             0.0             0.0        0               0  \n",
       "2   C553264065             0.0             0.0        1               0  \n",
       "3    C38997010         21182.0             0.0        1               0  \n",
       "4  M1230701703             0.0             0.0        0               0  "
      ]
     },
     "execution_count": 6,
     "metadata": {},
     "output_type": "execute_result"
    }
   ],
   "source": [
    "df"
   ]
  },
  {
   "cell_type": "code",
   "execution_count": 7,
   "metadata": {},
   "outputs": [],
   "source": [
    "arr = df.to_numpy()"
   ]
  },
  {
   "cell_type": "code",
   "execution_count": 8,
   "metadata": {},
   "outputs": [
    {
     "data": {
      "text/plain": [
       "id {\n",
       "  value: \"\\336\\203\\352\\234\\305e@W\\207\\252\\253\\347&M\\004\\032\"\n",
       "}\n",
       "obj_type: \"syft.lib.numpy.frame.NumpyNdarrayWrapper\"\n",
       "data {\n",
       "  type_url: \"type.googleapis.com/syft.lib.pandas.PandasDataFrame\"\n",
       "  value: \"\\022\\313\\245\\001\\n\\227\\001\\n\\036syft.lib.python.int.IntWrapper\\022u\\n\\022\\n\\020\\014F\\275\\017o\\020On\\205E!\\342\\337\\3626\\211\\022\\036syft.lib.python.int.IntWrapper\\\"?\\n\\'type.googleapis.com/syft.lib.python.Int\\022\\024\\022\\022\\n\\020\\014F\\275\\017o\\020On\\205E!\\342\\337\\3626\\211\\n\\231\\001\\n\\036syft.lib.python.int.IntWrapper\\022w\\n\\022\\n\\020\\231\\002\\363;\\313\\\\Ne\\233\\211\\270\\032\\220\\215@\\022\\022\\036syft.lib.python.int.IntWrapper\\\"A\\n\\'type.googleapis.com/syft.lib.python.Int\\022\\026\\010\\001\\022\\022\\n\\020\\231\\002\\363;\\313\\\\Ne\\233\\211\\270\\032\\220\\215@\\022\\n\\231\\001\\n\\036syft.lib.python.int.IntWrapper\\022w\\n\\022\\n\\020\\275\\025D\\013n\\371A\\262\\235\\330z\\357\\316\\007\\3417\\022\\036syft.lib.python.int.IntWrapper\\\"A\\n\\'type.googleapis.com/syft.lib.python.Int\\022\\026\\010\\002\\022\\022\\n\\020\\275\\025D\\013n\\371A\\262\\235\\330z\\357\\316\\007\\3417\\n\\231\\001\\n\\036syft.lib.python.int.IntWrapper\\022w\\n\\022\\n\\020\\327\\343\\374]\\030|Of\\250\\373\\377\\262\\351\\246\\3113\\022\\036syft.lib.python.int.IntWrapper\\\"A\\n\\'type.googleapis.com/syft.lib.python.Int\\022\\026\\010\\003\\022\\022\\n\\020\\327\\343\\374]\\030|Of\\250\\373\\377\\262\\351\\246\\3113\\n\\231\\001\\n\\036syft.lib.python.int.IntWrapper\\022w\\n\\022\\n\\020l\\320>\\377\\216\\002J\\220\\246\\006(\\244\\013\\343\\007/\\022\\036syft.lib.python.int.IntWrapper\\\"A\\n\\'type.googleapis.com/syft.lib.python.Int\\022\\026\\010\\004\\022\\022\\n\\020l\\320>\\377\\216\\002J\\220\\246\\006(\\244\\013\\343\\007/\\n\\231\\001\\n\\036syft.lib.python.int.IntWrapper\\022w\\n\\022\\n\\020\\n\\'L\\033<\\245H\\316\\232Q\\213\\032\\r5\\276E\\022\\036syft.lib.python.int.IntWrapper\\\"A\\n\\'type.googleapis.com/syft.lib.python.Int\\022\\026\\010\\005\\022\\022\\n\\020\\n\\'L\\033<\\245H\\316\\232Q\\213\\032\\r5\\276E\\n\\231\\001\\n\\036syft.lib.python.int.IntWrapper\\022w\\n\\022\\n\\020G\\315O\\331\\324\\265F\\230\\215\\363\\312\\326\\327[X\\354\\022\\036syft.lib.python.int.IntWrapper\\\"A\\n\\'type.googleapis.com/syft.lib.python.Int\\022\\026\\010\\006\\022\\022\\n\\020G\\315O\\331\\324\\265F\\230\\215\\363\\312\\326\\327[X\\354\\n\\231\\001\\n\\036syft.lib.python.int.IntWrapper\\022w\\n\\022\\n\\020\\263u)\\3522\\305@\\000\\265=/.\\256\\377#\\361\\022\\036syft.lib.python.int.IntWrapper\\\"A\\n\\'type.googleapis.com/syft.lib.python.Int\\022\\026\\010\\007\\022\\022\\n\\020\\263u)\\3522\\305@\\000\\265=/.\\256\\377#\\361\\n\\231\\001\\n\\036syft.lib.python.int.IntWrapper\\022w\\n\\022\\n\\020\\360\\tKF\\033\\370H\\234\\267h\\250<\\242\\347\\021\\217\\022\\036syft.lib.python.int.IntWrapper\\\"A\\n\\'type.googleapis.com/syft.lib.python.Int\\022\\026\\010\\010\\022\\022\\n\\020\\360\\tKF\\033\\370H\\234\\267h\\250<\\242\\347\\021\\217\\n\\231\\001\\n\\036syft.lib.python.int.IntWrapper\\022w\\n\\022\\n\\020\\256\\027\\234\\374R\\202J\\266\\202\\355>\\032\\210\\256\\334<\\022\\036syft.lib.python.int.IntWrapper\\\"A\\n\\'type.googleapis.com/syft.lib.python.Int\\022\\026\\010\\t\\022\\022\\n\\020\\256\\027\\234\\374R\\202J\\266\\202\\355>\\032\\210\\256\\334<\\n\\231\\001\\n\\036syft.lib.python.int.IntWrapper\\022w\\n\\022\\n\\020\\220X`h\\017\\230O\\341\\274\\221X\\007\\216\\3062]\\022\\036syft.lib.python.int.IntWrapper\\\"A\\n\\'type.googleapis.com/syft.lib.python.Int\\022\\026\\010\\n\\022\\022\\n\\020\\220X`h\\017\\230O\\341\\274\\221X\\007\\216\\3062]\\022\\253\\r\\n\\033syft.lib.python.DictWrapper\\022\\213\\r\\n\\022\\n\\020ofx\\253\\277\\321N\\316\\214\\3238\\333d\\207\\031\\177\\022\\033syft.lib.python.DictWrapper\\\"\\327\\014\\n(type.googleapis.com/syft.lib.python.Dict\\022\\252\\014\\n\\227\\001\\n\\036syft.lib.python.int.IntWrapper\\022u\\n\\022\\n\\020\\013J\\212U\\346\\323Op\\237\\260*\\021\\214\\002+\\327\\022\\036syft.lib.python.int.IntWrapper\\\"?\\n\\'type.googleapis.com/syft.lib.python.Int\\022\\024\\022\\022\\n\\020\\013J\\212U\\346\\323Op\\237\\260*\\021\\214\\002+\\327\\n\\231\\001\\n\\036syft.lib.python.int.IntWrapper\\022w\\n\\022\\n\\020\\324\\004\\020\\340\\362\\323A\\260\\252u\\342$\\213Dx\\267\\022\\036syft.lib.python.int.IntWrapper\\\"A\\n\\'type.googleapis.com/syft.lib.python.Int\\022\\026\\010\\001\\022\\022\\n\\020\\324\\004\\020\\340\\362\\323A\\260\\252u\\342$\\213Dx\\267\\n\\231\\001\\n\\036syft.lib.python.int.IntWrapper\\022w\\n\\022\\n\\020\\221I\\030\\034@\\005CT\\253\\002#Q.\\303t\\r\\022\\036syft.lib.python.int.IntWrapper\\\"A\\n\\'type.googleapis.com/syft.lib.python.Int\\022\\026\\010\\002\\022\\022\\n\\020\\221I\\030\\034@\\005CT\\253\\002#Q.\\303t\\r\\n\\231\\001\\n\\036syft.lib.python.int.IntWrapper\\022w\\n\\022\\n\\020\\005\\340\\026\\236\\263\\321G\\217\\201\\260\\3305M\\342!V\\022\\036syft.lib.python.int.IntWrapper\\\"A\\n\\'type.googleapis.com/syft.lib.python.Int\\022\\026\\010\\003\\022\\022\\n\\020\\005\\340\\026\\236\\263\\321G\\217\\201\\260\\3305M\\342!V\\n\\231\\001\\n\\036syft.lib.python.int.IntWrapper\\022w\\n\\022\\n\\020\\324\\357\\017\\'\\r\\205Ox\\217\\272\\360H\\016\\213\\260\\033\\022\\036syft.lib.python.int.IntWrapper\\\"A\\n\\'type.googleapis.com/syft.lib.python.Int\\022\\026\\010\\004\\022\\022\\n\\020\\324\\357\\017\\'\\r\\205Ox\\217\\272\\360H\\016\\213\\260\\033\\022\\231\\001\\n\\036syft.lib.python.int.IntWrapper\\022w\\n\\022\\n\\020\\305&!\\360\\235\\010M\\215\\222O\\2202\\340\\020\\036\\263\\022\\036syft.lib.python.int.IntWrapper\\\"A\\n\\'type.googleapis.com/syft.lib.python.Int\\022\\026\\010\\001\\022\\022\\n\\020\\305&!\\360\\235\\010M\\215\\222O\\2202\\340\\020\\036\\263\\022\\231\\001\\n\\036syft.lib.python.int.IntWrapper\\022w\\n\\022\\n\\020=\\377\\030wg~O\\304\\246\\366.\\023\\336M\\313R\\022\\036syft.lib.python.int.IntWrapper\\\"A\\n\\'type.googleapis.com/syft.lib.python.Int\\022\\026\\010\\001\\022\\022\\n\\020=\\377\\030wg~O\\304\\246\\366.\\023\\336M\\313R\\022\\231\\001\\n\\036syft.lib.python.int.IntWrapper\\022w\\n\\022\\n\\020J\\210\\3357\\327\\014O\\303\\244d!\\027\\226U#\\204\\022\\036syft.lib.python.int.IntWrapper\\\"A\\n\\'type.googleapis.com/syft.lib.python.Int\\022\\026\\010\\001\\022\\022\\n\\020J\\210\\3357\\327\\014O\\303\\244d!\\027\\226U#\\204\\022\\231\\001\\n\\036syft.lib.python.int.IntWrapper\\022w\\n\\022\\n\\020\\372\\356-\\203`\\037D\\227\\213\\366h\\360\\017\\325\\353\\300\\022\\036syft.lib.python.int.IntWrapper\\\"A\\n\\'type.googleapis.com/syft.lib.python.Int\\022\\026\\010\\001\\022\\022\\n\\020\\372\\356-\\203`\\037D\\227\\213\\366h\\360\\017\\325\\353\\300\\022\\231\\001\\n\\036syft.lib.python.int.IntWrapper\\022w\\n\\022\\n\\020\\373\\352\\262\\302]`FR\\232(;7\\261\\331)B\\022\\036syft.lib.python.int.IntWrapper\\\"A\\n\\'type.googleapis.com/syft.lib.python.Int\\022\\026\\010\\001\\022\\022\\n\\020\\373\\352\\262\\302]`FR\\232(;7\\261\\331)B\\032\\022\\n\\020ofx\\253\\277\\321N\\316\\214\\3238\\333d\\207\\031\\177\\022\\240\\016\\n\\033syft.lib.python.DictWrapper\\022\\200\\016\\n\\022\\n\\020TX\\343\\344\\265tE\\017\\2575\\215\\227\\353J\\277\\312\\022\\033syft.lib.python.DictWrapper\\\"\\314\\r\\n(type.googleapis.com/syft.lib.python.Dict\\022\\237\\r\\n\\227\\001\\n\\036syft.lib.python.int.IntWrapper\\022u\\n\\022\\n\\020\\031;\\333W\\341\\001Gq\\270\\037\\025s\\013B!\\372\\022\\036syft.lib.python.int.IntWrapper\\\"?\\n\\'type.googleapis.com/syft.lib.python.Int\\022\\024\\022\\022\\n\\020\\031;\\333W\\341\\001Gq\\270\\037\\025s\\013B!\\372\\n\\231\\001\\n\\036syft.lib.python.int.IntWrapper\\022w\\n\\022\\n\\020\\023\\254\\214\\363a\\303Cn\\247A\\340\\246\\334\\030\\311\\251\\022\\036syft.lib.python.int.IntWrapper\\\"A\\n\\'type.googleapis.com/syft.lib.python.Int\\022\\026\\010\\001\\022\\022\\n\\020\\023\\254\\214\\363a\\303Cn\\247A\\340\\246\\334\\030\\311\\251\\n\\231\\001\\n\\036syft.lib.python.int.IntWrapper\\022w\\n\\022\\n\\020H\\202{\\360Q\\204M\\024\\215\\346GGE\\223\\260L\\022\\036syft.lib.python.int.IntWrapper\\\"A\\n\\'type.googleapis.com/syft.lib.python.Int\\022\\026\\010\\002\\022\\022\\n\\020H\\202{\\360Q\\204M\\024\\215\\346GGE\\223\\260L\\n\\231\\001\\n\\036syft.lib.python.int.IntWrapper\\022w\\n\\022\\n\\020_\\346 k\\211\\251MK\\201z\\203\\347\\303\\371#\\255\\022\\036syft.lib.python.int.IntWrapper\\\"A\\n\\'type.googleapis.com/syft.lib.python.Int\\022\\026\\010\\003\\022\\022\\n\\020_\\346 k\\211\\251MK\\201z\\203\\347\\303\\371#\\255\\n\\231\\001\\n\\036syft.lib.python.int.IntWrapper\\022w\\n\\022\\n\\020w\\372\\205Rm\\226@\\373\\234\\204\\225\\366\\353\\244\\177/\\022\\036syft.lib.python.int.IntWrapper\\\"A\\n\\'type.googleapis.com/syft.lib.python.Int\\022\\026\\010\\004\\022\\022\\n\\020w\\372\\205Rm\\226@\\373\\234\\204\\225\\366\\353\\244\\177/\\022\\260\\001\\n$syft.lib.python.string.StringWrapper\\022\\207\\001\\n\\022\\n\\020\\024\\001(\\017\\375\\035H\\231\\267\\356E\\333\\002$\\023\\362\\022$syft.lib.python.string.StringWrapper\\\"K\\n*type.googleapis.com/syft.lib.python.String\\022\\035\\n\\007PAYMENT\\022\\022\\n\\020\\024\\001(\\017\\375\\035H\\231\\267\\356E\\333\\002$\\023\\362\\022\\260\\001\\n$syft.lib.python.string.StringWrapper\\022\\207\\001\\n\\022\\n\\020\\353%\\335N\\370\\213M=\\201\\303\\311\\032\\310\\225\\306\\005\\022$syft.lib.python.string.StringWrapper\\\"K\\n*type.googleapis.com/syft.lib.python.String\\022\\035\\n\\007PAYMENT\\022\\022\\n\\020\\353%\\335N\\370\\213M=\\201\\303\\311\\032\\310\\225\\306\\005\\022\\261\\001\\n$syft.lib.python.string.StringWrapper\\022\\210\\001\\n\\022\\n\\020\\212l\\r\\360\\257\\265L\\347\\201\\206$\\300hW>\\302\\022$syft.lib.python.string.StringWrapper\\\"L\\n*type.googleapis.com/syft.lib.python.String\\022\\036\\n\\010TRANSFER\\022\\022\\n\\020\\212l\\r\\360\\257\\265L\\347\\201\\206$\\300hW>\\302\\022\\261\\001\\n$syft.lib.python.string.StringWrapper\\022\\210\\001\\n\\022\\n\\020\\274Z\\303\\t\\263\\206A\\241\\207w{\\331\\340\\213O*\\022$syft.lib.python.string.StringWrapper\\\"L\\n*type.googleapis.com/syft.lib.python.String\\022\\036\\n\\010CASH_OUT\\022\\022\\n\\020\\274Z\\303\\t\\263\\206A\\241\\207w{\\331\\340\\213O*\\022\\260\\001\\n$syft.lib.python.string.StringWrapper\\022\\207\\001\\n\\022\\n\\020v!x\\200~\\356M\\232\\220_\\305\\004\\265\\2038\\246\\022$syft.lib.python.string.StringWrapper\\\"K\\n*type.googleapis.com/syft.lib.python.String\\022\\035\\n\\007PAYMENT\\022\\022\\n\\020v!x\\200~\\356M\\232\\220_\\305\\004\\265\\2038\\246\\032\\022\\n\\020TX\\343\\344\\265tE\\017\\2575\\215\\227\\353J\\277\\312\\022\\361\\r\\n\\033syft.lib.python.DictWrapper\\022\\321\\r\\n\\022\\n\\020\\027yg\\24605M\\331\\277\\217\\035!\\323]\\021g\\022\\033syft.lib.python.DictWrapper\\\"\\235\\r\\n(type.googleapis.com/syft.lib.python.Dict\\022\\360\\014\\n\\227\\001\\n\\036syft.lib.python.int.IntWrapper\\022u\\n\\022\\n\\0207\\221\\245\\220\\261DE\\354\\201\\256mm(T\\322X\\022\\036syft.lib.python.int.IntWrapper\\\"?\\n\\'type.googleapis.com/syft.lib.python.Int\\022\\024\\022\\022\\n\\0207\\221\\245\\220\\261DE\\354\\201\\256mm(T\\322X\\n\\231\\001\\n\\036syft.lib.python.int.IntWrapper\\022w\\n\\022\\n\\020\\213\\204`Y\\037\\253Hf\\272`D\\326t\\024dH\\022\\036syft.lib.python.int.IntWrapper\\\"A\\n\\'type.googleapis.com/syft.lib.python.Int\\022\\026\\010\\001\\022\\022\\n\\020\\213\\204`Y\\037\\253Hf\\272`D\\326t\\024dH\\n\\231\\001\\n\\036syft.lib.python.int.IntWrapper\\022w\\n\\022\\n\\020ot\\356\\235h~K\\304\\260\\250(6\\327\\232\\333\\336\\022\\036syft.lib.python.int.IntWrapper\\\"A\\n\\'type.googleapis.com/syft.lib.python.Int\\022\\026\\010\\002\\022\\022\\n\\020ot\\356\\235h~K\\304\\260\\250(6\\327\\232\\333\\336\\n\\231\\001\\n\\036syft.lib.python.int.IntWrapper\\022w\\n\\022\\n\\020\\004\\335\\315\\246\\270\\230L\\274\\244\\342\\245\\232\\220D\\2465\\022\\036syft.lib.python.int.IntWrapper\\\"A\\n\\'type.googleapis.com/syft.lib.python.Int\\022\\026\\010\\003\\022\\022\\n\\020\\004\\335\\315\\246\\270\\230L\\274\\244\\342\\245\\232\\220D\\2465\\n\\231\\001\\n\\036syft.lib.python.int.IntWrapper\\022w\\n\\022\\n\\020\\366%\\253\\315\\225\\266N\\037\\260\\262\\\\\\217Sd\\343[\\022\\036syft.lib.python.int.IntWrapper\\\"A\\n\\'type.googleapis.com/syft.lib.python.Int\\022\\026\\010\\004\\022\\022\\n\\020\\366%\\253\\315\\225\\266N\\037\\260\\262\\\\\\217Sd\\343[\\022\\247\\001\\n\\\"syft.lib.python.float.FloatWrapper\\022\\200\\001\\n\\022\\n\\020s\\371\\231P\\007\\327H\\241\\217\\231\\330\\230Zf\\000\\267\\022\\\"syft.lib.python.float.FloatWrapper\\\"F\\n)type.googleapis.com/syft.lib.python.Float\\022\\031\\r\\217\\276\\031F\\022\\022\\n\\020s\\371\\231P\\007\\327H\\241\\217\\231\\330\\230Zf\\000\\267\\022\\247\\001\\n\\\"syft.lib.python.float.FloatWrapper\\022\\200\\001\\n\\022\\n\\020\\014\\226\\373\\332\\237|F\\201\\212F\\017\\266\\237\\014\\326\\313\\022\\\"syft.lib.python.float.FloatWrapper\\\"F\\n)type.googleapis.com/syft.lib.python.Float\\022\\031\\r\\366\\010\\351D\\022\\022\\n\\020\\014\\226\\373\\332\\237|F\\201\\212F\\017\\266\\237\\014\\326\\313\\022\\247\\001\\n\\\"syft.lib.python.float.FloatWrapper\\022\\200\\001\\n\\022\\n\\020\\346\\227\\372I\\010\\026@\\017\\244yid\\340\\177;\\233\\022\\\"syft.lib.python.float.FloatWrapper\\\"F\\n)type.googleapis.com/syft.lib.python.Float\\022\\031\\r\\000\\0005C\\022\\022\\n\\020\\346\\227\\372I\\010\\026@\\017\\244yid\\340\\177;\\233\\022\\247\\001\\n\\\"syft.lib.python.float.FloatWrapper\\022\\200\\001\\n\\022\\n\\020\\374\\313\\340a\\265\\346A^\\204yu;\\227\\\"\\202\\202\\022\\\"syft.lib.python.float.FloatWrapper\\\"F\\n)type.googleapis.com/syft.lib.python.Float\\022\\031\\r\\000\\0005C\\022\\022\\n\\020\\374\\313\\340a\\265\\346A^\\204yu;\\227\\\"\\202\\202\\022\\247\\001\\n\\\"syft.lib.python.float.FloatWrapper\\022\\200\\001\\n\\022\\n\\020\\001\\000\\311\\305\\\"YL\\341\\237\\220i\\320\\241,\\354\\247\\022\\\"syft.lib.python.float.FloatWrapper\\\"F\\n)type.googleapis.com/syft.lib.python.Float\\022\\031\\r\\217P6F\\022\\022\\n\\020\\001\\000\\311\\305\\\"YL\\341\\237\\220i\\320\\241,\\354\\247\\032\\022\\n\\020\\027yg\\24605M\\331\\277\\217\\035!\\323]\\021g\\022\\261\\016\\n\\033syft.lib.python.DictWrapper\\022\\221\\016\\n\\022\\n\\020@\\217N\\376\\227]O\\350\\246z\\263\\305\\353\\363\\342\\202\\022\\033syft.lib.python.DictWrapper\\\"\\335\\r\\n(type.googleapis.com/syft.lib.python.Dict\\022\\260\\r\\n\\227\\001\\n\\036syft.lib.python.int.IntWrapper\\022u\\n\\022\\n\\020\\rn7\\252\\221\\344N\\035\\207\\317;$(\\262\\025\\365\\022\\036syft.lib.python.int.IntWrapper\\\"?\\n\\'type.googleapis.com/syft.lib.python.Int\\022\\024\\022\\022\\n\\020\\rn7\\252\\221\\344N\\035\\207\\317;$(\\262\\025\\365\\n\\231\\001\\n\\036syft.lib.python.int.IntWrapper\\022w\\n\\022\\n\\020a\\365b\\022#gM\\363\\220z9\\214OU\\364e\\022\\036syft.lib.python.int.IntWrapper\\\"A\\n\\'type.googleapis.com/syft.lib.python.Int\\022\\026\\010\\001\\022\\022\\n\\020a\\365b\\022#gM\\363\\220z9\\214OU\\364e\\n\\231\\001\\n\\036syft.lib.python.int.IntWrapper\\022w\\n\\022\\n\\020[\\313J\\327\\347\\003I\\261\\266\\366.\\312\\374\\223X\\276\\022\\036syft.lib.python.int.IntWrapper\\\"A\\n\\'type.googleapis.com/syft.lib.python.Int\\022\\026\\010\\002\\022\\022\\n\\020[\\313J\\327\\347\\003I\\261\\266\\366.\\312\\374\\223X\\276\\n\\231\\001\\n\\036syft.lib.python.int.IntWrapper\\022w\\n\\022\\n\\020\\326l|L\\331\\234H1\\234\\262\\267P\\227\\35753\\022\\036syft.lib.python.int.IntWrapper\\\"A\\n\\'type.googleapis.com/syft.lib.python.Int\\022\\026\\010\\003\\022\\022\\n\\020\\326l|L\\331\\234H1\\234\\262\\267P\\227\\35753\\n\\231\\001\\n\\036syft.lib.python.int.IntWrapper\\022w\\n\\022\\n\\0209do\\311\\244TL2\\247\\302\\340\\226\\223R\\301#\\022\\036syft.lib.python.int.IntWrapper\\\"A\\n\\'type.googleapis.com/syft.lib.python.Int\\022\\026\\010\\004\\022\\022\\n\\0209do\\311\\244TL2\\247\\302\\340\\226\\223R\\301#\\022\\264\\001\\n$syft.lib.python.string.StringWrapper\\022\\213\\001\\n\\022\\n\\020\\007]l5\\331\\022N\\\\\\265;\\0335\\352\\255i\\264\\022$syft.lib.python.string.StringWrapper\\\"O\\n*type.googleapis.com/syft.lib.python.String\\022!\\n\\013C1231006815\\022\\022\\n\\020\\007]l5\\331\\022N\\\\\\265;\\0335\\352\\255i\\264\\022\\264\\001\\n$syft.lib.python.string.StringWrapper\\022\\213\\001\\n\\022\\n\\020\\276\\350\\265\\353\\266\\246G\\206\\271\\335\\022\\367V>G\\021\\022$syft.lib.python.string.StringWrapper\\\"O\\n*type.googleapis.com/syft.lib.python.String\\022!\\n\\013C1666544295\\022\\022\\n\\020\\276\\350\\265\\353\\266\\246G\\206\\271\\335\\022\\367V>G\\021\\022\\264\\001\\n$syft.lib.python.string.StringWrapper\\022\\213\\001\\n\\022\\n\\020\\245q{d\\267\\365D\\321\\202m(%\\331\\371@\\240\\022$syft.lib.python.string.StringWrapper\\\"O\\n*type.googleapis.com/syft.lib.python.String\\022!\\n\\013C1305486145\\022\\022\\n\\020\\245q{d\\267\\365D\\321\\202m(%\\331\\371@\\240\\022\\263\\001\\n$syft.lib.python.string.StringWrapper\\022\\212\\001\\n\\022\\n\\020-\\243\\204\\310\\331\\206EC\\202\\020D\\361\\313\\306\\3028\\022$syft.lib.python.string.StringWrapper\\\"N\\n*type.googleapis.com/syft.lib.python.String\\022 \\n\\nC840083671\\022\\022\\n\\020-\\243\\204\\310\\331\\206EC\\202\\020D\\361\\313\\306\\3028\\022\\264\\001\\n$syft.lib.python.string.StringWrapper\\022\\213\\001\\n\\022\\n\\020\\313\\\"P\\375\\022cL\\314\\251\\353q\\310/<\\323`\\022$syft.lib.python.string.StringWrapper\\\"O\\n*type.googleapis.com/syft.lib.python.String\\022!\\n\\013C2048537720\\022\\022\\n\\020\\313\\\"P\\375\\022cL\\314\\251\\353q\\310/<\\323`\\032\\022\\n\\020@\\217N\\376\\227]O\\350\\246z\\263\\305\\353\\363\\342\\202\\022\\361\\r\\n\\033syft.lib.python.DictWrapper\\022\\321\\r\\n\\022\\n\\020!|\\351+}\\305H\\240\\273\\346\\020\\004\\375\\257\\362\\303\\022\\033syft.lib.python.DictWrapper\\\"\\235\\r\\n(type.googleapis.com/syft.lib.python.Dict\\022\\360\\014\\n\\227\\001\\n\\036syft.lib.python.int.IntWrapper\\022u\\n\\022\\n\\020\\202\\203\\202\\003\\355\\023@_\\236=\\253\\336s\\352/t\\022\\036syft.lib.python.int.IntWrapper\\\"?\\n\\'type.googleapis.com/syft.lib.python.Int\\022\\024\\022\\022\\n\\020\\202\\203\\202\\003\\355\\023@_\\236=\\253\\336s\\352/t\\n\\231\\001\\n\\036syft.lib.python.int.IntWrapper\\022w\\n\\022\\n\\020*@\\354*G\\230F\\003\\240\\227-\\304T\\221\\032\\025\\022\\036syft.lib.python.int.IntWrapper\\\"A\\n\\'type.googleapis.com/syft.lib.python.Int\\022\\026\\010\\001\\022\\022\\n\\020*@\\354*G\\230F\\003\\240\\227-\\304T\\221\\032\\025\\n\\231\\001\\n\\036syft.lib.python.int.IntWrapper\\022w\\n\\022\\n\\020o\\227\\214\\025\\265\\273Oc\\2510}\\311rg\\226\\006\\022\\036syft.lib.python.int.IntWrapper\\\"A\\n\\'type.googleapis.com/syft.lib.python.Int\\022\\026\\010\\002\\022\\022\\n\\020o\\227\\214\\025\\265\\273Oc\\2510}\\311rg\\226\\006\\n\\231\\001\\n\\036syft.lib.python.int.IntWrapper\\022w\\n\\022\\n\\020\\2221\\021\\351\\030\\263KE\\276\\211\\036<\\377\\001\\262\\177\\022\\036syft.lib.python.int.IntWrapper\\\"A\\n\\'type.googleapis.com/syft.lib.python.Int\\022\\026\\010\\003\\022\\022\\n\\020\\2221\\021\\351\\030\\263KE\\276\\211\\036<\\377\\001\\262\\177\\n\\231\\001\\n\\036syft.lib.python.int.IntWrapper\\022w\\n\\022\\n\\020\\300\\177\\n\\344\\305bE\\321\\255\\345C\\003\\260\\r5F\\022\\036syft.lib.python.int.IntWrapper\\\"A\\n\\'type.googleapis.com/syft.lib.python.Int\\022\\026\\010\\004\\022\\022\\n\\020\\300\\177\\n\\344\\305bE\\321\\255\\345C\\003\\260\\r5F\\022\\247\\001\\n\\\"syft.lib.python.float.FloatWrapper\\022\\200\\001\\n\\022\\n\\020\\005\\004\\332\\234\\211\\272NJ\\224\\351M\\216\\223J}\\321\\022\\\"syft.lib.python.float.FloatWrapper\\\"F\\n)type.googleapis.com/syft.lib.python.Float\\022\\031\\r\\000&&H\\022\\022\\n\\020\\005\\004\\332\\234\\211\\272NJ\\224\\351M\\216\\223J}\\321\\022\\247\\001\\n\\\"syft.lib.python.float.FloatWrapper\\022\\200\\001\\n\\022\\n\\020\\202\\323r\\305\\027QE\\250\\276\\013\\004\\017\\t\\336\\n\\324\\022\\\"syft.lib.python.float.FloatWrapper\\\"F\\n)type.googleapis.com/syft.lib.python.Float\\022\\031\\r\\000\\002\\246F\\022\\022\\n\\020\\202\\323r\\305\\027QE\\250\\276\\013\\004\\017\\t\\336\\n\\324\\022\\247\\001\\n\\\"syft.lib.python.float.FloatWrapper\\022\\200\\001\\n\\022\\n\\020_\\274!\\357\\234JCj\\214[8b\\006\\366<\\037\\022\\\"syft.lib.python.float.FloatWrapper\\\"F\\n)type.googleapis.com/syft.lib.python.Float\\022\\031\\r\\000\\0005C\\022\\022\\n\\020_\\274!\\357\\234JCj\\214[8b\\006\\366<\\037\\022\\247\\001\\n\\\"syft.lib.python.float.FloatWrapper\\022\\200\\001\\n\\022\\n\\020\\227\\342\\364\\321\\337_J\\035\\273[\\215=\\225\\272A\\320\\022\\\"syft.lib.python.float.FloatWrapper\\\"F\\n)type.googleapis.com/syft.lib.python.Float\\022\\031\\r\\000\\0005C\\022\\022\\n\\020\\227\\342\\364\\321\\337_J\\035\\273[\\215=\\225\\272A\\320\\022\\247\\001\\n\\\"syft.lib.python.float.FloatWrapper\\022\\200\\001\\n\\022\\n\\020\\323b\\326\\007D\\035H3\\221\\326_\\301\\274\\236\\200\\237\\022\\\"syft.lib.python.float.FloatWrapper\\\"F\\n)type.googleapis.com/syft.lib.python.Float\\022\\031\\r\\000R\\\"G\\022\\022\\n\\020\\323b\\326\\007D\\035H3\\221\\326_\\301\\274\\236\\200\\237\\032\\022\\n\\020!|\\351+}\\305H\\240\\273\\346\\020\\004\\375\\257\\362\\303\\022\\345\\r\\n\\033syft.lib.python.DictWrapper\\022\\305\\r\\n\\022\\n\\020\\360\\n\\234\\303\\322\\367H\\024\\241)w[4\\336\\324\\302\\022\\033syft.lib.python.DictWrapper\\\"\\221\\r\\n(type.googleapis.com/syft.lib.python.Dict\\022\\344\\014\\n\\227\\001\\n\\036syft.lib.python.int.IntWrapper\\022u\\n\\022\\n\\020\\314v\\177\\240;\\365L\\266\\233\\377\\000\\234\\243LO6\\022\\036syft.lib.python.int.IntWrapper\\\"?\\n\\'type.googleapis.com/syft.lib.python.Int\\022\\024\\022\\022\\n\\020\\314v\\177\\240;\\365L\\266\\233\\377\\000\\234\\243LO6\\n\\231\\001\\n\\036syft.lib.python.int.IntWrapper\\022w\\n\\022\\n\\020a\\345\\335\\236P<O\\255\\274HB\\221\\302i\\330\\322\\022\\036syft.lib.python.int.IntWrapper\\\"A\\n\\'type.googleapis.com/syft.lib.python.Int\\022\\026\\010\\001\\022\\022\\n\\020a\\345\\335\\236P<O\\255\\274HB\\221\\302i\\330\\322\\n\\231\\001\\n\\036syft.lib.python.int.IntWrapper\\022w\\n\\022\\n\\020\\021\\212@\\270\\251\\356IF\\257?3\\216\\024\\215\\376y\\022\\036syft.lib.python.int.IntWrapper\\\"A\\n\\'type.googleapis.com/syft.lib.python.Int\\022\\026\\010\\002\\022\\022\\n\\020\\021\\212@\\270\\251\\356IF\\257?3\\216\\024\\215\\376y\\n\\231\\001\\n\\036syft.lib.python.int.IntWrapper\\022w\\n\\022\\n\\020\\336\\202R\\235\\223\\325K\\375\\256Nk\\031d\\022V\\216\\022\\036syft.lib.python.int.IntWrapper\\\"A\\n\\'type.googleapis.com/syft.lib.python.Int\\022\\026\\010\\003\\022\\022\\n\\020\\336\\202R\\235\\223\\325K\\375\\256Nk\\031d\\022V\\216\\n\\231\\001\\n\\036syft.lib.python.int.IntWrapper\\022w\\n\\022\\n\\020\\313\\261DG>\\023Nd\\267uw:@o\\210R\\022\\036syft.lib.python.int.IntWrapper\\\"A\\n\\'type.googleapis.com/syft.lib.python.Int\\022\\026\\010\\004\\022\\022\\n\\020\\313\\261DG>\\023Nd\\267uw:@o\\210R\\022\\247\\001\\n\\\"syft.lib.python.float.FloatWrapper\\022\\200\\001\\n\\022\\n\\020\\350,~\\032\\362\\020O\\267\\210FS\\357\\376\\334uK\\022\\\"syft.lib.python.float.FloatWrapper\\\"F\\n)type.googleapis.com/syft.lib.python.Float\\022\\031\\r\\027\\212\\034H\\022\\022\\n\\020\\350,~\\032\\362\\020O\\267\\210FS\\357\\376\\334uK\\022\\247\\001\\n\\\"syft.lib.python.float.FloatWrapper\\022\\200\\001\\n\\022\\n\\020\\376\\010\\205\\232\\000\\340D\\346\\2426\\222m7\\254\\010\\037\\022\\\"syft.lib.python.float.FloatWrapper\\\"F\\n)type.googleapis.com/syft.lib.python.Float\\022\\031\\rqq\\227F\\022\\022\\n\\020\\376\\010\\205\\232\\000\\340D\\346\\2426\\222m7\\254\\010\\037\\022\\241\\001\\n\\\"syft.lib.python.float.FloatWrapper\\022{\\n\\022\\n\\020\\372\\260\\033\\317*eI\\203\\220\\332\\3305r\\307\\\"\\375\\022\\\"syft.lib.python.float.FloatWrapper\\\"A\\n)type.googleapis.com/syft.lib.python.Float\\022\\024\\022\\022\\n\\020\\372\\260\\033\\317*eI\\203\\220\\332\\3305r\\307\\\"\\375\\022\\241\\001\\n\\\"syft.lib.python.float.FloatWrapper\\022{\\n\\022\\n\\020\\322Y\\336\\021\\014UB\\205\\230\\342U\\005\\327\\257\\360\\013\\022\\\"syft.lib.python.float.FloatWrapper\\\"A\\n)type.googleapis.com/syft.lib.python.Float\\022\\024\\022\\022\\n\\020\\322Y\\336\\021\\014UB\\205\\230\\342U\\005\\327\\257\\360\\013\\022\\247\\001\\n\\\"syft.lib.python.float.FloatWrapper\\022\\200\\001\\n\\022\\n\\020\\271e\\336@S\\022L\\256\\252\\373\\370q\\341\\tl\\320\\022\\\"syft.lib.python.float.FloatWrapper\\\"F\\n)type.googleapis.com/syft.lib.python.Float\\022\\031\\r\\270{\\351F\\022\\022\\n\\020\\271e\\336@S\\022L\\256\\252\\373\\370q\\341\\tl\\320\\032\\022\\n\\020\\360\\n\\234\\303\\322\\367H\\024\\241)w[4\\336\\324\\302\\022\\257\\016\\n\\033syft.lib.python.DictWrapper\\022\\217\\016\\n\\022\\n\\020B\\014~T\\360wMG\\231\\250GlM\\201\\250\\324\\022\\033syft.lib.python.DictWrapper\\\"\\333\\r\\n(type.googleapis.com/syft.lib.python.Dict\\022\\256\\r\\n\\227\\001\\n\\036syft.lib.python.int.IntWrapper\\022u\\n\\022\\n\\020?g]\\206\\272ZC\\324\\2028\\232t\\303\\\"\\2515\\022\\036syft.lib.python.int.IntWrapper\\\"?\\n\\'type.googleapis.com/syft.lib.python.Int\\022\\024\\022\\022\\n\\020?g]\\206\\272ZC\\324\\2028\\232t\\303\\\"\\2515\\n\\231\\001\\n\\036syft.lib.python.int.IntWrapper\\022w\\n\\022\\n\\020\\034b\\013E\\231y@W\\213b\\267\\025\\024\\273\\177~\\022\\036syft.lib.python.int.IntWrapper\\\"A\\n\\'type.googleapis.com/syft.lib.python.Int\\022\\026\\010\\001\\022\\022\\n\\020\\034b\\013E\\231y@W\\213b\\267\\025\\024\\273\\177~\\n\\231\\001\\n\\036syft.lib.python.int.IntWrapper\\022w\\n\\022\\n\\020W3\\307\\225U=No\\267yQ\\306\\3052\\004\\261\\022\\036syft.lib.python.int.IntWrapper\\\"A\\n\\'type.googleapis.com/syft.lib.python.Int\\022\\026\\010\\002\\022\\022\\n\\020W3\\307\\225U=No\\267yQ\\306\\3052\\004\\261\\n\\231\\001\\n\\036syft.lib.python.int.IntWrapper\\022w\\n\\022\\n\\020{\\\\\\317Y\\226\\242M\\210\\220\\021\\232Y\\214\\210\\302J\\022\\036syft.lib.python.int.IntWrapper\\\"A\\n\\'type.googleapis.com/syft.lib.python.Int\\022\\026\\010\\003\\022\\022\\n\\020{\\\\\\317Y\\226\\242M\\210\\220\\021\\232Y\\214\\210\\302J\\n\\231\\001\\n\\036syft.lib.python.int.IntWrapper\\022w\\n\\022\\n\\020\\277\\3362,R\\353C\\343\\224\\233\\033\\251\\336\\230\\227[\\022\\036syft.lib.python.int.IntWrapper\\\"A\\n\\'type.googleapis.com/syft.lib.python.Int\\022\\026\\010\\004\\022\\022\\n\\020\\277\\3362,R\\353C\\343\\224\\233\\033\\251\\336\\230\\227[\\022\\264\\001\\n$syft.lib.python.string.StringWrapper\\022\\213\\001\\n\\022\\n\\020N\\355\\226dh\\250B\\325\\204\\036\\315\\235\\372\\230\\372\\316\\022$syft.lib.python.string.StringWrapper\\\"O\\n*type.googleapis.com/syft.lib.python.String\\022!\\n\\013M1979787155\\022\\022\\n\\020N\\355\\226dh\\250B\\325\\204\\036\\315\\235\\372\\230\\372\\316\\022\\264\\001\\n$syft.lib.python.string.StringWrapper\\022\\213\\001\\n\\022\\n\\020\\330\\337\\247\\\"\\037\\243J\\340\\266\\031l\\351\\252\\3662\\n\\022$syft.lib.python.string.StringWrapper\\\"O\\n*type.googleapis.com/syft.lib.python.String\\022!\\n\\013M2044282225\\022\\022\\n\\020\\330\\337\\247\\\"\\037\\243J\\340\\266\\031l\\351\\252\\3662\\n\\022\\263\\001\\n$syft.lib.python.string.StringWrapper\\022\\212\\001\\n\\022\\n\\020F\\212\\245\\277\\265\\207JS\\202\\364\\360B\\322\\370I\\020\\022$syft.lib.python.string.StringWrapper\\\"N\\n*type.googleapis.com/syft.lib.python.String\\022 \\n\\nC553264065\\022\\022\\n\\020F\\212\\245\\277\\265\\207JS\\202\\364\\360B\\322\\370I\\020\\022\\262\\001\\n$syft.lib.python.string.StringWrapper\\022\\211\\001\\n\\022\\n\\020>\\336\\207dm\\273@\\227\\234\\257x\\207\\023#\\214>\\022$syft.lib.python.string.StringWrapper\\\"M\\n*type.googleapis.com/syft.lib.python.String\\022\\037\\n\\tC38997010\\022\\022\\n\\020>\\336\\207dm\\273@\\227\\234\\257x\\207\\023#\\214>\\022\\264\\001\\n$syft.lib.python.string.StringWrapper\\022\\213\\001\\n\\022\\n\\020?\\371R\\355\\235\\014B\\000\\266\\311\\262YL\\257\\257\\203\\022$syft.lib.python.string.StringWrapper\\\"O\\n*type.googleapis.com/syft.lib.python.String\\022!\\n\\013M1230701703\\022\\022\\n\\020?\\371R\\355\\235\\014B\\000\\266\\311\\262YL\\257\\257\\203\\032\\022\\n\\020B\\014~T\\360wMG\\231\\250GlM\\201\\250\\324\\022\\331\\r\\n\\033syft.lib.python.DictWrapper\\022\\271\\r\\n\\022\\n\\0209\\316Q\\\\6/J\\306\\226\\320\\241\\022+\\n L\\022\\033syft.lib.python.DictWrapper\\\"\\205\\r\\n(type.googleapis.com/syft.lib.python.Dict\\022\\330\\014\\n\\227\\001\\n\\036syft.lib.python.int.IntWrapper\\022u\\n\\022\\n\\020\\232_G)\\371\\275I\\254\\202\\034\\345\\317D\\341V4\\022\\036syft.lib.python.int.IntWrapper\\\"?\\n\\'type.googleapis.com/syft.lib.python.Int\\022\\024\\022\\022\\n\\020\\232_G)\\371\\275I\\254\\202\\034\\345\\317D\\341V4\\n\\231\\001\\n\\036syft.lib.python.int.IntWrapper\\022w\\n\\022\\n\\020\\223\\327aT\\305ZK\\014\\231I0\\255\\315a\\016\\266\\022\\036syft.lib.python.int.IntWrapper\\\"A\\n\\'type.googleapis.com/syft.lib.python.Int\\022\\026\\010\\001\\022\\022\\n\\020\\223\\327aT\\305ZK\\014\\231I0\\255\\315a\\016\\266\\n\\231\\001\\n\\036syft.lib.python.int.IntWrapper\\022w\\n\\022\\n\\020Z%D\\3703\\375N^\\260\\036\\000\\006Z\\333\\020\\256\\022\\036syft.lib.python.int.IntWrapper\\\"A\\n\\'type.googleapis.com/syft.lib.python.Int\\022\\026\\010\\002\\022\\022\\n\\020Z%D\\3703\\375N^\\260\\036\\000\\006Z\\333\\020\\256\\n\\231\\001\\n\\036syft.lib.python.int.IntWrapper\\022w\\n\\022\\n\\020}\\202 \\031\\002\\017O\\304\\263\\323\\325\\200\\224XQ\\316\\022\\036syft.lib.python.int.IntWrapper\\\"A\\n\\'type.googleapis.com/syft.lib.python.Int\\022\\026\\010\\003\\022\\022\\n\\020}\\202 \\031\\002\\017O\\304\\263\\323\\325\\200\\224XQ\\316\\n\\231\\001\\n\\036syft.lib.python.int.IntWrapper\\022w\\n\\022\\n\\020\\200Y/rk\\206O\\226\\241\\364\\352C\\234n\\344\\270\\022\\036syft.lib.python.int.IntWrapper\\\"A\\n\\'type.googleapis.com/syft.lib.python.Int\\022\\026\\010\\004\\022\\022\\n\\020\\200Y/rk\\206O\\226\\241\\364\\352C\\234n\\344\\270\\022\\241\\001\\n\\\"syft.lib.python.float.FloatWrapper\\022{\\n\\022\\n\\020\\005\\\">\\376\\037\\235N\\005\\277\\306 \\276\\243+\\266\\024\\022\\\"syft.lib.python.float.FloatWrapper\\\"A\\n)type.googleapis.com/syft.lib.python.Float\\022\\024\\022\\022\\n\\020\\005\\\">\\376\\037\\235N\\005\\277\\306 \\276\\243+\\266\\024\\022\\241\\001\\n\\\"syft.lib.python.float.FloatWrapper\\022{\\n\\022\\n\\020J\\2614d\\362\\305D}\\250D\\326j\\326\\333z\\031\\022\\\"syft.lib.python.float.FloatWrapper\\\"A\\n)type.googleapis.com/syft.lib.python.Float\\022\\024\\022\\022\\n\\020J\\2614d\\362\\305D}\\250D\\326j\\326\\333z\\031\\022\\241\\001\\n\\\"syft.lib.python.float.FloatWrapper\\022{\\n\\022\\n\\020ur\\255\\013\\010gM)\\265\\226\\275\\244h\\3321\\365\\022\\\"syft.lib.python.float.FloatWrapper\\\"A\\n)type.googleapis.com/syft.lib.python.Float\\022\\024\\022\\022\\n\\020ur\\255\\013\\010gM)\\265\\226\\275\\244h\\3321\\365\\022\\247\\001\\n\\\"syft.lib.python.float.FloatWrapper\\022\\200\\001\\n\\022\\n\\020\\243\\033w\\243\\032\\276O\\370\\231\\034\\227\\251\\231\\021\\272%\\022\\\"syft.lib.python.float.FloatWrapper\\\"F\\n)type.googleapis.com/syft.lib.python.Float\\022\\031\\r\\000|\\245F\\022\\022\\n\\020\\243\\033w\\243\\032\\276O\\370\\231\\034\\227\\251\\231\\021\\272%\\022\\241\\001\\n\\\"syft.lib.python.float.FloatWrapper\\022{\\n\\022\\n\\020\\026/\\364\\025\\253\\246D7\\245\\225\\374<``\\272l\\022\\\"syft.lib.python.float.FloatWrapper\\\"A\\n)type.googleapis.com/syft.lib.python.Float\\022\\024\\022\\022\\n\\020\\026/\\364\\025\\253\\246D7\\245\\225\\374<``\\272l\\032\\022\\n\\0209\\316Q\\\\6/J\\306\\226\\320\\241\\022+\\n L\\022\\323\\r\\n\\033syft.lib.python.DictWrapper\\022\\263\\r\\n\\022\\n\\020z\\037\\233\\033\\nCHd\\257a8\\033\\316,\\233\\324\\022\\033syft.lib.python.DictWrapper\\\"\\377\\014\\n(type.googleapis.com/syft.lib.python.Dict\\022\\322\\014\\n\\227\\001\\n\\036syft.lib.python.int.IntWrapper\\022u\\n\\022\\n\\020\\317\\336\\020\\014\\n\\367I\\267\\254pr|@\\352\\207\\211\\022\\036syft.lib.python.int.IntWrapper\\\"?\\n\\'type.googleapis.com/syft.lib.python.Int\\022\\024\\022\\022\\n\\020\\317\\336\\020\\014\\n\\367I\\267\\254pr|@\\352\\207\\211\\n\\231\\001\\n\\036syft.lib.python.int.IntWrapper\\022w\\n\\022\\n\\020\\273p\\316A/oD\\345\\246\\377\\222\\374j\\206\\373\\'\\022\\036syft.lib.python.int.IntWrapper\\\"A\\n\\'type.googleapis.com/syft.lib.python.Int\\022\\026\\010\\001\\022\\022\\n\\020\\273p\\316A/oD\\345\\246\\377\\222\\374j\\206\\373\\'\\n\\231\\001\\n\\036syft.lib.python.int.IntWrapper\\022w\\n\\022\\n\\020,\\212-\\013\\3775J\\230\\277\\260\\223A2\\236\\020*\\022\\036syft.lib.python.int.IntWrapper\\\"A\\n\\'type.googleapis.com/syft.lib.python.Int\\022\\026\\010\\002\\022\\022\\n\\020,\\212-\\013\\3775J\\230\\277\\260\\223A2\\236\\020*\\n\\231\\001\\n\\036syft.lib.python.int.IntWrapper\\022w\\n\\022\\n\\020\\260\\326\\322\\261\\215\\370L%\\231\\250Rk\\367S\\017\\342\\022\\036syft.lib.python.int.IntWrapper\\\"A\\n\\'type.googleapis.com/syft.lib.python.Int\\022\\026\\010\\003\\022\\022\\n\\020\\260\\326\\322\\261\\215\\370L%\\231\\250Rk\\367S\\017\\342\\n\\231\\001\\n\\036syft.lib.python.int.IntWrapper\\022w\\n\\022\\n\\020\\300\\257\\367\\027\\372\\003L\\327\\220\\347&\\336<\\234t]\\022\\036syft.lib.python.int.IntWrapper\\\"A\\n\\'type.googleapis.com/syft.lib.python.Int\\022\\026\\010\\004\\022\\022\\n\\020\\300\\257\\367\\027\\372\\003L\\327\\220\\347&\\336<\\234t]\\022\\241\\001\\n\\\"syft.lib.python.float.FloatWrapper\\022{\\n\\022\\n\\020\\'x\\332\\243d\\223D\\277\\274\\003\\342M\\330\\320\\023F\\022\\\"syft.lib.python.float.FloatWrapper\\\"A\\n)type.googleapis.com/syft.lib.python.Float\\022\\024\\022\\022\\n\\020\\'x\\332\\243d\\223D\\277\\274\\003\\342M\\330\\320\\023F\\022\\241\\001\\n\\\"syft.lib.python.float.FloatWrapper\\022{\\n\\022\\n\\020\\301S\\357\\005\\331\\236M7\\215\\244\\344\\276\\211\\263\\326j\\022\\\"syft.lib.python.float.FloatWrapper\\\"A\\n)type.googleapis.com/syft.lib.python.Float\\022\\024\\022\\022\\n\\020\\301S\\357\\005\\331\\236M7\\215\\244\\344\\276\\211\\263\\326j\\022\\241\\001\\n\\\"syft.lib.python.float.FloatWrapper\\022{\\n\\022\\n\\020|-y\\363\\324\\374F\\205\\262u\\272\\034`b\\263\\270\\022\\\"syft.lib.python.float.FloatWrapper\\\"A\\n)type.googleapis.com/syft.lib.python.Float\\022\\024\\022\\022\\n\\020|-y\\363\\324\\374F\\205\\262u\\272\\034`b\\263\\270\\022\\241\\001\\n\\\"syft.lib.python.float.FloatWrapper\\022{\\n\\022\\n\\020\\366\\357\\254\\250\\364eI`\\2320<\\221\\246f>\\257\\022\\\"syft.lib.python.float.FloatWrapper\\\"A\\n)type.googleapis.com/syft.lib.python.Float\\022\\024\\022\\022\\n\\020\\366\\357\\254\\250\\364eI`\\2320<\\221\\246f>\\257\\022\\241\\001\\n\\\"syft.lib.python.float.FloatWrapper\\022{\\n\\022\\n\\020\\250I\\262L\\332\\236D\\232\\256\\244\\352\\251\\255\\211\\026\\327\\022\\\"syft.lib.python.float.FloatWrapper\\\"A\\n)type.googleapis.com/syft.lib.python.Float\\022\\024\\022\\022\\n\\020\\250I\\262L\\332\\236D\\232\\256\\244\\352\\251\\255\\211\\026\\327\\032\\022\\n\\020z\\037\\233\\033\\nCHd\\257a8\\033\\316,\\233\\324\\022\\245\\r\\n\\033syft.lib.python.DictWrapper\\022\\205\\r\\n\\022\\n\\020p\\247\\340\\026\\226\\213M-\\230x\\266\\357\\331\\341\\020\\313\\022\\033syft.lib.python.DictWrapper\\\"\\321\\014\\n(type.googleapis.com/syft.lib.python.Dict\\022\\244\\014\\n\\227\\001\\n\\036syft.lib.python.int.IntWrapper\\022u\\n\\022\\n\\020\\332\\005\\330\\n\\014\\250G\\271\\231\\307\\244f\\201\\275\\314\\006\\022\\036syft.lib.python.int.IntWrapper\\\"?\\n\\'type.googleapis.com/syft.lib.python.Int\\022\\024\\022\\022\\n\\020\\332\\005\\330\\n\\014\\250G\\271\\231\\307\\244f\\201\\275\\314\\006\\n\\231\\001\\n\\036syft.lib.python.int.IntWrapper\\022w\\n\\022\\n\\020\\265N\\010\\361\\244[E\\326\\202v|\\211\\202}\\227k\\022\\036syft.lib.python.int.IntWrapper\\\"A\\n\\'type.googleapis.com/syft.lib.python.Int\\022\\026\\010\\001\\022\\022\\n\\020\\265N\\010\\361\\244[E\\326\\202v|\\211\\202}\\227k\\n\\231\\001\\n\\036syft.lib.python.int.IntWrapper\\022w\\n\\022\\n\\020k\\023\\272\\212\\333xG\\326\\220_\\213\\030^C+\\263\\022\\036syft.lib.python.int.IntWrapper\\\"A\\n\\'type.googleapis.com/syft.lib.python.Int\\022\\026\\010\\002\\022\\022\\n\\020k\\023\\272\\212\\333xG\\326\\220_\\213\\030^C+\\263\\n\\231\\001\\n\\036syft.lib.python.int.IntWrapper\\022w\\n\\022\\n\\020\\212P\\tD\\303\\303J\\024\\207\\004\\324\\312\\275\\236v\\005\\022\\036syft.lib.python.int.IntWrapper\\\"A\\n\\'type.googleapis.com/syft.lib.python.Int\\022\\026\\010\\003\\022\\022\\n\\020\\212P\\tD\\303\\303J\\024\\207\\004\\324\\312\\275\\236v\\005\\n\\231\\001\\n\\036syft.lib.python.int.IntWrapper\\022w\\n\\022\\n\\020\\211T\\021D\\226\\247JH\\247\\254zF}\\270\\017k\\022\\036syft.lib.python.int.IntWrapper\\\"A\\n\\'type.googleapis.com/syft.lib.python.Int\\022\\026\\010\\004\\022\\022\\n\\020\\211T\\021D\\226\\247JH\\247\\254zF}\\270\\017k\\022\\227\\001\\n\\036syft.lib.python.int.IntWrapper\\022u\\n\\022\\n\\020\\016+\\n\\0359\\017Ot\\252~\\000\\364\\262\\302u\\317\\022\\036syft.lib.python.int.IntWrapper\\\"?\\n\\'type.googleapis.com/syft.lib.python.Int\\022\\024\\022\\022\\n\\020\\016+\\n\\0359\\017Ot\\252~\\000\\364\\262\\302u\\317\\022\\227\\001\\n\\036syft.lib.python.int.IntWrapper\\022u\\n\\022\\n\\020\\225\\326\\327l \\177@\\350\\275|K-O7\\312\\317\\022\\036syft.lib.python.int.IntWrapper\\\"?\\n\\'type.googleapis.com/syft.lib.python.Int\\022\\024\\022\\022\\n\\020\\225\\326\\327l \\177@\\350\\275|K-O7\\312\\317\\022\\231\\001\\n\\036syft.lib.python.int.IntWrapper\\022w\\n\\022\\n\\020_\\361\\236\\3410(D-\\210\\274`\\351;\\332wM\\022\\036syft.lib.python.int.IntWrapper\\\"A\\n\\'type.googleapis.com/syft.lib.python.Int\\022\\026\\010\\001\\022\\022\\n\\020_\\361\\236\\3410(D-\\210\\274`\\351;\\332wM\\022\\231\\001\\n\\036syft.lib.python.int.IntWrapper\\022w\\n\\022\\n\\020\\026\\356;8\\224\\203G\\366\\27601N\\t-\\2614\\022\\036syft.lib.python.int.IntWrapper\\\"A\\n\\'type.googleapis.com/syft.lib.python.Int\\022\\026\\010\\001\\022\\022\\n\\020\\026\\356;8\\224\\203G\\366\\27601N\\t-\\2614\\022\\227\\001\\n\\036syft.lib.python.int.IntWrapper\\022u\\n\\022\\n\\020it\\342\\313_:N{\\234\\227\\023\\215`\\375\\220\\326\\022\\036syft.lib.python.int.IntWrapper\\\"?\\n\\'type.googleapis.com/syft.lib.python.Int\\022\\024\\022\\022\\n\\020it\\342\\313_:N{\\234\\227\\023\\215`\\375\\220\\326\\032\\022\\n\\020p\\247\\340\\026\\226\\213M-\\230x\\266\\357\\331\\341\\020\\313\\022\\241\\r\\n\\033syft.lib.python.DictWrapper\\022\\201\\r\\n\\022\\n\\020\\373O?\\302=\\214E\\231\\254}2\\223\\232.\\375\\243\\022\\033syft.lib.python.DictWrapper\\\"\\315\\014\\n(type.googleapis.com/syft.lib.python.Dict\\022\\240\\014\\n\\227\\001\\n\\036syft.lib.python.int.IntWrapper\\022u\\n\\022\\n\\020\\237\\035\\342\\023t\\377Hv\\276\\361\\024\\272Vn\\020\\347\\022\\036syft.lib.python.int.IntWrapper\\\"?\\n\\'type.googleapis.com/syft.lib.python.Int\\022\\024\\022\\022\\n\\020\\237\\035\\342\\023t\\377Hv\\276\\361\\024\\272Vn\\020\\347\\n\\231\\001\\n\\036syft.lib.python.int.IntWrapper\\022w\\n\\022\\n\\020\\336\\256\\207\\032\\342UM\\312\\270\\014\\244^\\240\\322\\361\\231\\022\\036syft.lib.python.int.IntWrapper\\\"A\\n\\'type.googleapis.com/syft.lib.python.Int\\022\\026\\010\\001\\022\\022\\n\\020\\336\\256\\207\\032\\342UM\\312\\270\\014\\244^\\240\\322\\361\\231\\n\\231\\001\\n\\036syft.lib.python.int.IntWrapper\\022w\\n\\022\\n\\020\\3276\\253\\020\\2348C\\027\\213\\237\\300\\025Cx\\266\\231\\022\\036syft.lib.python.int.IntWrapper\\\"A\\n\\'type.googleapis.com/syft.lib.python.Int\\022\\026\\010\\002\\022\\022\\n\\020\\3276\\253\\020\\2348C\\027\\213\\237\\300\\025Cx\\266\\231\\n\\231\\001\\n\\036syft.lib.python.int.IntWrapper\\022w\\n\\022\\n\\020\\377\\003?\\235\\237\\235F\\013\\264\\222\\357\\236$}Y\\341\\022\\036syft.lib.python.int.IntWrapper\\\"A\\n\\'type.googleapis.com/syft.lib.python.Int\\022\\026\\010\\003\\022\\022\\n\\020\\377\\003?\\235\\237\\235F\\013\\264\\222\\357\\236$}Y\\341\\n\\231\\001\\n\\036syft.lib.python.int.IntWrapper\\022w\\n\\022\\n\\020\\220\\210C\\016\\275!I\\345\\252\\321G\\340\\322]\\221\\270\\022\\036syft.lib.python.int.IntWrapper\\\"A\\n\\'type.googleapis.com/syft.lib.python.Int\\022\\026\\010\\004\\022\\022\\n\\020\\220\\210C\\016\\275!I\\345\\252\\321G\\340\\322]\\221\\270\\022\\227\\001\\n\\036syft.lib.python.int.IntWrapper\\022u\\n\\022\\n\\020\\035J\\346\\016v\\016K\\022\\267{\\207,\\273\\367T\\305\\022\\036syft.lib.python.int.IntWrapper\\\"?\\n\\'type.googleapis.com/syft.lib.python.Int\\022\\024\\022\\022\\n\\020\\035J\\346\\016v\\016K\\022\\267{\\207,\\273\\367T\\305\\022\\227\\001\\n\\036syft.lib.python.int.IntWrapper\\022u\\n\\022\\n\\020&\\235\\364\\n\\306|G\\306\\254\\355c3K\\355~m\\022\\036syft.lib.python.int.IntWrapper\\\"?\\n\\'type.googleapis.com/syft.lib.python.Int\\022\\024\\022\\022\\n\\020&\\235\\364\\n\\306|G\\306\\254\\355c3K\\355~m\\022\\227\\001\\n\\036syft.lib.python.int.IntWrapper\\022u\\n\\022\\n\\020\\251\\236\\035\\r\\226{LV\\237\\272(\\210}\\224>\\026\\022\\036syft.lib.python.int.IntWrapper\\\"?\\n\\'type.googleapis.com/syft.lib.python.Int\\022\\024\\022\\022\\n\\020\\251\\236\\035\\r\\226{LV\\237\\272(\\210}\\224>\\026\\022\\227\\001\\n\\036syft.lib.python.int.IntWrapper\\022u\\n\\022\\n\\020ho\\020e*LH\\237\\205\\004>\\327r\\336!B\\022\\036syft.lib.python.int.IntWrapper\\\"?\\n\\'type.googleapis.com/syft.lib.python.Int\\022\\024\\022\\022\\n\\020ho\\020e*LH\\237\\205\\004>\\327r\\336!B\\022\\227\\001\\n\\036syft.lib.python.int.IntWrapper\\022u\\n\\022\\n\\020%\\306\\'\\311@\\026IK\\233\\266\\000\\202\\033o*\\250\\022\\036syft.lib.python.int.IntWrapper\\\"?\\n\\'type.googleapis.com/syft.lib.python.Int\\022\\024\\022\\022\\n\\020%\\306\\'\\311@\\026IK\\233\\266\\000\\202\\033o*\\250\\032\\022\\n\\020\\373O?\\302=\\214E\\231\\254}2\\223\\232.\\375\\243\\032\\022\\n\\020\\326q\\010ZL\\277L\\353\\274AX\\352L\\202wG\"\n",
       "}"
      ]
     },
     "execution_count": 8,
     "metadata": {},
     "output_type": "execute_result"
    }
   ],
   "source": [
    "sy.serialize(obj=arr)"
   ]
  },
  {
   "cell_type": "code",
   "execution_count": 9,
   "metadata": {},
   "outputs": [
    {
     "name": "stderr",
     "output_type": "stream",
     "text": [
      "/home/ben/code/om/PySyft/src/syft/core/store/storeable_object.py:199: UserWarning: Pandas doesn't allow columns to be created via a new attribute name - see https://pandas.pydata.org/pandas-docs/stable/indexing.html#attribute-access\n",
      "  result.read_permissions = {}\n",
      "/home/ben/code/om/PySyft/src/syft/core/store/storeable_object.py:200: UserWarning: Pandas doesn't allow columns to be created via a new attribute name - see https://pandas.pydata.org/pandas-docs/stable/indexing.html#attribute-access\n",
      "  result.search_permissions = {}\n"
     ]
    },
    {
     "data": {
      "text/html": [
       "<div>\n",
       "<style scoped>\n",
       "    .dataframe tbody tr th:only-of-type {\n",
       "        vertical-align: middle;\n",
       "    }\n",
       "\n",
       "    .dataframe tbody tr th {\n",
       "        vertical-align: top;\n",
       "    }\n",
       "\n",
       "    .dataframe thead th {\n",
       "        text-align: right;\n",
       "    }\n",
       "</style>\n",
       "<table border=\"1\" class=\"dataframe\">\n",
       "  <thead>\n",
       "    <tr style=\"text-align: right;\">\n",
       "      <th></th>\n",
       "      <th>0</th>\n",
       "      <th>1</th>\n",
       "      <th>2</th>\n",
       "      <th>3</th>\n",
       "      <th>4</th>\n",
       "      <th>5</th>\n",
       "      <th>6</th>\n",
       "      <th>7</th>\n",
       "      <th>8</th>\n",
       "      <th>9</th>\n",
       "      <th>10</th>\n",
       "    </tr>\n",
       "  </thead>\n",
       "  <tbody>\n",
       "    <tr>\n",
       "      <th>0</th>\n",
       "      <td>1</td>\n",
       "      <td>PAYMENT</td>\n",
       "      <td>9839.639648</td>\n",
       "      <td>C1231006815</td>\n",
       "      <td>170136.0</td>\n",
       "      <td>160296.359375</td>\n",
       "      <td>M1979787155</td>\n",
       "      <td>0.0</td>\n",
       "      <td>0.0</td>\n",
       "      <td>0</td>\n",
       "      <td>0</td>\n",
       "    </tr>\n",
       "    <tr>\n",
       "      <th>1</th>\n",
       "      <td>1</td>\n",
       "      <td>PAYMENT</td>\n",
       "      <td>1864.280029</td>\n",
       "      <td>C1666544295</td>\n",
       "      <td>21249.0</td>\n",
       "      <td>19384.720703</td>\n",
       "      <td>M2044282225</td>\n",
       "      <td>0.0</td>\n",
       "      <td>0.0</td>\n",
       "      <td>0</td>\n",
       "      <td>0</td>\n",
       "    </tr>\n",
       "    <tr>\n",
       "      <th>2</th>\n",
       "      <td>1</td>\n",
       "      <td>TRANSFER</td>\n",
       "      <td>181.000000</td>\n",
       "      <td>C1305486145</td>\n",
       "      <td>181.0</td>\n",
       "      <td>0.000000</td>\n",
       "      <td>C553264065</td>\n",
       "      <td>0.0</td>\n",
       "      <td>0.0</td>\n",
       "      <td>1</td>\n",
       "      <td>0</td>\n",
       "    </tr>\n",
       "    <tr>\n",
       "      <th>3</th>\n",
       "      <td>1</td>\n",
       "      <td>CASH_OUT</td>\n",
       "      <td>181.000000</td>\n",
       "      <td>C840083671</td>\n",
       "      <td>181.0</td>\n",
       "      <td>0.000000</td>\n",
       "      <td>C38997010</td>\n",
       "      <td>21182.0</td>\n",
       "      <td>0.0</td>\n",
       "      <td>1</td>\n",
       "      <td>0</td>\n",
       "    </tr>\n",
       "    <tr>\n",
       "      <th>4</th>\n",
       "      <td>1</td>\n",
       "      <td>PAYMENT</td>\n",
       "      <td>11668.139648</td>\n",
       "      <td>C2048537720</td>\n",
       "      <td>41554.0</td>\n",
       "      <td>29885.859375</td>\n",
       "      <td>M1230701703</td>\n",
       "      <td>0.0</td>\n",
       "      <td>0.0</td>\n",
       "      <td>0</td>\n",
       "      <td>0</td>\n",
       "    </tr>\n",
       "  </tbody>\n",
       "</table>\n",
       "</div>"
      ],
      "text/plain": [
       "   0         1             2            3         4              5   \\\n",
       "0   1   PAYMENT   9839.639648  C1231006815  170136.0  160296.359375   \n",
       "1   1   PAYMENT   1864.280029  C1666544295   21249.0   19384.720703   \n",
       "2   1  TRANSFER    181.000000  C1305486145     181.0       0.000000   \n",
       "3   1  CASH_OUT    181.000000   C840083671     181.0       0.000000   \n",
       "4   1   PAYMENT  11668.139648  C2048537720   41554.0   29885.859375   \n",
       "\n",
       "            6        7    8   9   10  \n",
       "0  M1979787155      0.0  0.0   0   0  \n",
       "1  M2044282225      0.0  0.0   0   0  \n",
       "2   C553264065      0.0  0.0   1   0  \n",
       "3    C38997010  21182.0  0.0   1   0  \n",
       "4  M1230701703      0.0  0.0   0   0  "
      ]
     },
     "execution_count": 9,
     "metadata": {},
     "output_type": "execute_result"
    }
   ],
   "source": [
    "sy.deserialize(blob=sy.serialize(obj=arr))"
   ]
  },
  {
   "cell_type": "markdown",
   "metadata": {},
   "source": [
    "### Serialise a dataframe"
   ]
  },
  {
   "cell_type": "code",
   "execution_count": 10,
   "metadata": {
    "scrolled": false
   },
   "outputs": [
    {
     "data": {
      "text/plain": [
       "id {\n",
       "  value: \"\\215LR\\n5LB\\242\\254\\242N\\365w(w\\235\"\n",
       "}\n",
       "obj_type: \"syft.lib.pandas.frame.PandasDataFrameWrapper\"\n",
       "data {\n",
       "  type_url: \"type.googleapis.com/syft.lib.pandas.PandasDataFrame\"\n",
       "  value: \"\\022\\347\\247\\001\\n\\255\\001\\n$syft.lib.python.string.StringWrapper\\022\\204\\001\\n\\022\\n\\020p\\022\\021\\206V\\324E\\240\\223\\243\\025\\203I\\274>\\007\\022$syft.lib.python.string.StringWrapper\\\"H\\n*type.googleapis.com/syft.lib.python.String\\022\\032\\n\\004step\\022\\022\\n\\020p\\022\\021\\206V\\324E\\240\\223\\243\\025\\203I\\274>\\007\\n\\255\\001\\n$syft.lib.python.string.StringWrapper\\022\\204\\001\\n\\022\\n\\020\\035\\377i\\271<#J\\330\\210\\232\\016\\227\\'R^\\367\\022$syft.lib.python.string.StringWrapper\\\"H\\n*type.googleapis.com/syft.lib.python.String\\022\\032\\n\\004type\\022\\022\\n\\020\\035\\377i\\271<#J\\330\\210\\232\\016\\227\\'R^\\367\\n\\257\\001\\n$syft.lib.python.string.StringWrapper\\022\\206\\001\\n\\022\\n\\020\\022\\202\\363,\\\\\\232C\\353\\214\\264\\234$~\\335F\\372\\022$syft.lib.python.string.StringWrapper\\\"J\\n*type.googleapis.com/syft.lib.python.String\\022\\034\\n\\006amount\\022\\022\\n\\020\\022\\202\\363,\\\\\\232C\\353\\214\\264\\234$~\\335F\\372\\n\\261\\001\\n$syft.lib.python.string.StringWrapper\\022\\210\\001\\n\\022\\n\\020\\352\\344\\301+ HI \\250\\344\\221\\354R\\035R\\224\\022$syft.lib.python.string.StringWrapper\\\"L\\n*type.googleapis.com/syft.lib.python.String\\022\\036\\n\\010nameOrig\\022\\022\\n\\020\\352\\344\\301+ HI \\250\\344\\221\\354R\\035R\\224\\n\\266\\001\\n$syft.lib.python.string.StringWrapper\\022\\215\\001\\n\\022\\n\\020\\246t^\\207\\262XEF\\200\\000-\\374\\002A\\320s\\022$syft.lib.python.string.StringWrapper\\\"Q\\n*type.googleapis.com/syft.lib.python.String\\022#\\n\\roldbalanceOrg\\022\\022\\n\\020\\246t^\\207\\262XEF\\200\\000-\\374\\002A\\320s\\n\\267\\001\\n$syft.lib.python.string.StringWrapper\\022\\216\\001\\n\\022\\n\\020\\374\\315Q\\2557\\211Gy\\260E\\316n8\\031T\\314\\022$syft.lib.python.string.StringWrapper\\\"R\\n*type.googleapis.com/syft.lib.python.String\\022$\\n\\016newbalanceOrig\\022\\022\\n\\020\\374\\315Q\\2557\\211Gy\\260E\\316n8\\031T\\314\\n\\261\\001\\n$syft.lib.python.string.StringWrapper\\022\\210\\001\\n\\022\\n\\0200\\370\\237\\227\\177\\375K@\\232\\034\\206\\340\\332,^\\006\\022$syft.lib.python.string.StringWrapper\\\"L\\n*type.googleapis.com/syft.lib.python.String\\022\\036\\n\\010nameDest\\022\\022\\n\\0200\\370\\237\\227\\177\\375K@\\232\\034\\206\\340\\332,^\\006\\n\\267\\001\\n$syft.lib.python.string.StringWrapper\\022\\216\\001\\n\\022\\n\\020\\3020\\177C&,GB\\2618\\306:\\351\\353Q\\372\\022$syft.lib.python.string.StringWrapper\\\"R\\n*type.googleapis.com/syft.lib.python.String\\022$\\n\\016oldbalanceDest\\022\\022\\n\\020\\3020\\177C&,GB\\2618\\306:\\351\\353Q\\372\\n\\267\\001\\n$syft.lib.python.string.StringWrapper\\022\\216\\001\\n\\022\\n\\020\\021\\212q\\347\\252\\370B\\374\\265\\346l\\235S\\\"\\211\\311\\022$syft.lib.python.string.StringWrapper\\\"R\\n*type.googleapis.com/syft.lib.python.String\\022$\\n\\016newbalanceDest\\022\\022\\n\\020\\021\\212q\\347\\252\\370B\\374\\265\\346l\\235S\\\"\\211\\311\\n\\260\\001\\n$syft.lib.python.string.StringWrapper\\022\\207\\001\\n\\022\\n\\020\\361\\212\\236_lGLk\\217\\331\\017^Q\\037B\\021\\022$syft.lib.python.string.StringWrapper\\\"K\\n*type.googleapis.com/syft.lib.python.String\\022\\035\\n\\007isFraud\\022\\022\\n\\020\\361\\212\\236_lGLk\\217\\331\\017^Q\\037B\\021\\n\\267\\001\\n$syft.lib.python.string.StringWrapper\\022\\216\\001\\n\\022\\n\\020\\004\\030\\033\\0059rC=\\233\\3343\\036\\227<\\300\\006\\022$syft.lib.python.string.StringWrapper\\\"R\\n*type.googleapis.com/syft.lib.python.String\\022$\\n\\016isFlaggedFraud\\022\\022\\n\\020\\004\\030\\033\\0059rC=\\233\\3343\\036\\227<\\300\\006\\022\\253\\r\\n\\033syft.lib.python.DictWrapper\\022\\213\\r\\n\\022\\n\\020\\246\\231\\223\\356\\013\\177J\\261\\222\\325\\345\\253s\\253\\313\\372\\022\\033syft.lib.python.DictWrapper\\\"\\327\\014\\n(type.googleapis.com/syft.lib.python.Dict\\022\\252\\014\\n\\227\\001\\n\\036syft.lib.python.int.IntWrapper\\022u\\n\\022\\n\\020T\\033.K\\0243AB\\241\\313T\\376\\032\\261E&\\022\\036syft.lib.python.int.IntWrapper\\\"?\\n\\'type.googleapis.com/syft.lib.python.Int\\022\\024\\022\\022\\n\\020T\\033.K\\0243AB\\241\\313T\\376\\032\\261E&\\n\\231\\001\\n\\036syft.lib.python.int.IntWrapper\\022w\\n\\022\\n\\020[\\001k\\352\\263\\233B\\013\\236R\\377\\013d\\354\\\"i\\022\\036syft.lib.python.int.IntWrapper\\\"A\\n\\'type.googleapis.com/syft.lib.python.Int\\022\\026\\010\\001\\022\\022\\n\\020[\\001k\\352\\263\\233B\\013\\236R\\377\\013d\\354\\\"i\\n\\231\\001\\n\\036syft.lib.python.int.IntWrapper\\022w\\n\\022\\n\\020\\221\\357o\\377\\3262CB\\261\\325\\321O\\236\\232\\211?\\022\\036syft.lib.python.int.IntWrapper\\\"A\\n\\'type.googleapis.com/syft.lib.python.Int\\022\\026\\010\\002\\022\\022\\n\\020\\221\\357o\\377\\3262CB\\261\\325\\321O\\236\\232\\211?\\n\\231\\001\\n\\036syft.lib.python.int.IntWrapper\\022w\\n\\022\\n\\020k\\006\\315\\260\\350\\234B\\035\\263\\014Q\\036\\257y\\255k\\022\\036syft.lib.python.int.IntWrapper\\\"A\\n\\'type.googleapis.com/syft.lib.python.Int\\022\\026\\010\\003\\022\\022\\n\\020k\\006\\315\\260\\350\\234B\\035\\263\\014Q\\036\\257y\\255k\\n\\231\\001\\n\\036syft.lib.python.int.IntWrapper\\022w\\n\\022\\n\\020\\000%S\\007\\273UFT\\231G\\335p\\350W\\341]\\022\\036syft.lib.python.int.IntWrapper\\\"A\\n\\'type.googleapis.com/syft.lib.python.Int\\022\\026\\010\\004\\022\\022\\n\\020\\000%S\\007\\273UFT\\231G\\335p\\350W\\341]\\022\\231\\001\\n\\036syft.lib.python.int.IntWrapper\\022w\\n\\022\\n\\020\\003\\213#aU\\345I\\217\\217E)\\242\\035+\\202\\036\\022\\036syft.lib.python.int.IntWrapper\\\"A\\n\\'type.googleapis.com/syft.lib.python.Int\\022\\026\\010\\001\\022\\022\\n\\020\\003\\213#aU\\345I\\217\\217E)\\242\\035+\\202\\036\\022\\231\\001\\n\\036syft.lib.python.int.IntWrapper\\022w\\n\\022\\n\\020\\310\\211\\010\\272\\306\\243B\\033\\273\\206!s\\254j\\311[\\022\\036syft.lib.python.int.IntWrapper\\\"A\\n\\'type.googleapis.com/syft.lib.python.Int\\022\\026\\010\\001\\022\\022\\n\\020\\310\\211\\010\\272\\306\\243B\\033\\273\\206!s\\254j\\311[\\022\\231\\001\\n\\036syft.lib.python.int.IntWrapper\\022w\\n\\022\\n\\020\\301]\\254\\223\\323\\371MG\\270Q$\\320M\\024\\277{\\022\\036syft.lib.python.int.IntWrapper\\\"A\\n\\'type.googleapis.com/syft.lib.python.Int\\022\\026\\010\\001\\022\\022\\n\\020\\301]\\254\\223\\323\\371MG\\270Q$\\320M\\024\\277{\\022\\231\\001\\n\\036syft.lib.python.int.IntWrapper\\022w\\n\\022\\n\\020\\242?\\033\\214K\\370LN\\244\\331\\260\\325\\226e\\352v\\022\\036syft.lib.python.int.IntWrapper\\\"A\\n\\'type.googleapis.com/syft.lib.python.Int\\022\\026\\010\\001\\022\\022\\n\\020\\242?\\033\\214K\\370LN\\244\\331\\260\\325\\226e\\352v\\022\\231\\001\\n\\036syft.lib.python.int.IntWrapper\\022w\\n\\022\\n\\020$N=\\010\\001wOA\\274\\350\\n\\353X5\\242\\024\\022\\036syft.lib.python.int.IntWrapper\\\"A\\n\\'type.googleapis.com/syft.lib.python.Int\\022\\026\\010\\001\\022\\022\\n\\020$N=\\010\\001wOA\\274\\350\\n\\353X5\\242\\024\\032\\022\\n\\020\\246\\231\\223\\356\\013\\177J\\261\\222\\325\\345\\253s\\253\\313\\372\\022\\240\\016\\n\\033syft.lib.python.DictWrapper\\022\\200\\016\\n\\022\\n\\020\\244\\\\\\364]\\357/Kf\\227\\251D\\004\\375\\211\\236\\361\\022\\033syft.lib.python.DictWrapper\\\"\\314\\r\\n(type.googleapis.com/syft.lib.python.Dict\\022\\237\\r\\n\\227\\001\\n\\036syft.lib.python.int.IntWrapper\\022u\\n\\022\\n\\020\\351\\257\\211S\\347\\230@k\\256\\367\\343\\025\\356\\377\\215\\371\\022\\036syft.lib.python.int.IntWrapper\\\"?\\n\\'type.googleapis.com/syft.lib.python.Int\\022\\024\\022\\022\\n\\020\\351\\257\\211S\\347\\230@k\\256\\367\\343\\025\\356\\377\\215\\371\\n\\231\\001\\n\\036syft.lib.python.int.IntWrapper\\022w\\n\\022\\n\\020\\362\\265a\\270l@E\\211\\240pbo\\364\\314t\\000\\022\\036syft.lib.python.int.IntWrapper\\\"A\\n\\'type.googleapis.com/syft.lib.python.Int\\022\\026\\010\\001\\022\\022\\n\\020\\362\\265a\\270l@E\\211\\240pbo\\364\\314t\\000\\n\\231\\001\\n\\036syft.lib.python.int.IntWrapper\\022w\\n\\022\\n\\020\\251L235\\305DR\\266\\242\\304W\\273\\337\\017F\\022\\036syft.lib.python.int.IntWrapper\\\"A\\n\\'type.googleapis.com/syft.lib.python.Int\\022\\026\\010\\002\\022\\022\\n\\020\\251L235\\305DR\\266\\242\\304W\\273\\337\\017F\\n\\231\\001\\n\\036syft.lib.python.int.IntWrapper\\022w\\n\\022\\n\\020CH\\002\\274s\\357N\\202\\226\\372c\\200\\220\\377B\\252\\022\\036syft.lib.python.int.IntWrapper\\\"A\\n\\'type.googleapis.com/syft.lib.python.Int\\022\\026\\010\\003\\022\\022\\n\\020CH\\002\\274s\\357N\\202\\226\\372c\\200\\220\\377B\\252\\n\\231\\001\\n\\036syft.lib.python.int.IntWrapper\\022w\\n\\022\\n\\020Wf\\300\\375>{A`\\240\\036\\334\\r\\277EE\\272\\022\\036syft.lib.python.int.IntWrapper\\\"A\\n\\'type.googleapis.com/syft.lib.python.Int\\022\\026\\010\\004\\022\\022\\n\\020Wf\\300\\375>{A`\\240\\036\\334\\r\\277EE\\272\\022\\260\\001\\n$syft.lib.python.string.StringWrapper\\022\\207\\001\\n\\022\\n\\020\\243\\301\\354\\271\\'mJ\\236\\260\\377Po\\310#\\327 \\022$syft.lib.python.string.StringWrapper\\\"K\\n*type.googleapis.com/syft.lib.python.String\\022\\035\\n\\007PAYMENT\\022\\022\\n\\020\\243\\301\\354\\271\\'mJ\\236\\260\\377Po\\310#\\327 \\022\\260\\001\\n$syft.lib.python.string.StringWrapper\\022\\207\\001\\n\\022\\n\\020\\235\\324\\026\\201H.L\\263\\275$\\r\\2255\\002\\212\\344\\022$syft.lib.python.string.StringWrapper\\\"K\\n*type.googleapis.com/syft.lib.python.String\\022\\035\\n\\007PAYMENT\\022\\022\\n\\020\\235\\324\\026\\201H.L\\263\\275$\\r\\2255\\002\\212\\344\\022\\261\\001\\n$syft.lib.python.string.StringWrapper\\022\\210\\001\\n\\022\\n\\020t\\031\\331\\203\\325NM\\320\\223\\004\\025\\313#\\217J\\320\\022$syft.lib.python.string.StringWrapper\\\"L\\n*type.googleapis.com/syft.lib.python.String\\022\\036\\n\\010TRANSFER\\022\\022\\n\\020t\\031\\331\\203\\325NM\\320\\223\\004\\025\\313#\\217J\\320\\022\\261\\001\\n$syft.lib.python.string.StringWrapper\\022\\210\\001\\n\\022\\n\\020\\324\\364\\033H\\325\\342HB\\261\\351n\\010G\\276\\202\\\\\\022$syft.lib.python.string.StringWrapper\\\"L\\n*type.googleapis.com/syft.lib.python.String\\022\\036\\n\\010CASH_OUT\\022\\022\\n\\020\\324\\364\\033H\\325\\342HB\\261\\351n\\010G\\276\\202\\\\\\022\\260\\001\\n$syft.lib.python.string.StringWrapper\\022\\207\\001\\n\\022\\n\\020\\325\\257\\033\\317R\\323G.\\267\\211\\031\\237<\\n\\330\\226\\022$syft.lib.python.string.StringWrapper\\\"K\\n*type.googleapis.com/syft.lib.python.String\\022\\035\\n\\007PAYMENT\\022\\022\\n\\020\\325\\257\\033\\317R\\323G.\\267\\211\\031\\237<\\n\\330\\226\\032\\022\\n\\020\\244\\\\\\364]\\357/Kf\\227\\251D\\004\\375\\211\\236\\361\\022\\361\\r\\n\\033syft.lib.python.DictWrapper\\022\\321\\r\\n\\022\\n\\020\\234\\'\\325\\276\\331[G\\274\\244\\272\\'\\215\\342\\316\\346\\326\\022\\033syft.lib.python.DictWrapper\\\"\\235\\r\\n(type.googleapis.com/syft.lib.python.Dict\\022\\360\\014\\n\\227\\001\\n\\036syft.lib.python.int.IntWrapper\\022u\\n\\022\\n\\020\\341,\\253A\\246\\241B\\233\\222\\203\\3458\\315\\300\\312\\031\\022\\036syft.lib.python.int.IntWrapper\\\"?\\n\\'type.googleapis.com/syft.lib.python.Int\\022\\024\\022\\022\\n\\020\\341,\\253A\\246\\241B\\233\\222\\203\\3458\\315\\300\\312\\031\\n\\231\\001\\n\\036syft.lib.python.int.IntWrapper\\022w\\n\\022\\n\\020\\3323qb\\221\\022Cq\\205\\211\\001\\345\\350\\367\\336\\330\\022\\036syft.lib.python.int.IntWrapper\\\"A\\n\\'type.googleapis.com/syft.lib.python.Int\\022\\026\\010\\001\\022\\022\\n\\020\\3323qb\\221\\022Cq\\205\\211\\001\\345\\350\\367\\336\\330\\n\\231\\001\\n\\036syft.lib.python.int.IntWrapper\\022w\\n\\022\\n\\020\\371\\345\\254\\377+\\305MN\\250\\335\\371\\320\\003\\336]\\306\\022\\036syft.lib.python.int.IntWrapper\\\"A\\n\\'type.googleapis.com/syft.lib.python.Int\\022\\026\\010\\002\\022\\022\\n\\020\\371\\345\\254\\377+\\305MN\\250\\335\\371\\320\\003\\336]\\306\\n\\231\\001\\n\\036syft.lib.python.int.IntWrapper\\022w\\n\\022\\n\\020u\\223n\\013\\377uH\\345\\2222\\335\\326+\\326V{\\022\\036syft.lib.python.int.IntWrapper\\\"A\\n\\'type.googleapis.com/syft.lib.python.Int\\022\\026\\010\\003\\022\\022\\n\\020u\\223n\\013\\377uH\\345\\2222\\335\\326+\\326V{\\n\\231\\001\\n\\036syft.lib.python.int.IntWrapper\\022w\\n\\022\\n\\020\\004\\236\\373]\\252\\022HW\\223O\\376\\204\\216\\\\\\201\\321\\022\\036syft.lib.python.int.IntWrapper\\\"A\\n\\'type.googleapis.com/syft.lib.python.Int\\022\\026\\010\\004\\022\\022\\n\\020\\004\\236\\373]\\252\\022HW\\223O\\376\\204\\216\\\\\\201\\321\\022\\247\\001\\n\\\"syft.lib.python.float.FloatWrapper\\022\\200\\001\\n\\022\\n\\020\\232J+\\340\\350\\211D\\240\\234\\247\\216\\364\\366S\\200\\216\\022\\\"syft.lib.python.float.FloatWrapper\\\"F\\n)type.googleapis.com/syft.lib.python.Float\\022\\031\\r\\217\\276\\031F\\022\\022\\n\\020\\232J+\\340\\350\\211D\\240\\234\\247\\216\\364\\366S\\200\\216\\022\\247\\001\\n\\\"syft.lib.python.float.FloatWrapper\\022\\200\\001\\n\\022\\n\\020\\272\\017\\343\\021\\336\\240O\\232\\2006\\347\\217\\371\\353\\335\\224\\022\\\"syft.lib.python.float.FloatWrapper\\\"F\\n)type.googleapis.com/syft.lib.python.Float\\022\\031\\r\\366\\010\\351D\\022\\022\\n\\020\\272\\017\\343\\021\\336\\240O\\232\\2006\\347\\217\\371\\353\\335\\224\\022\\247\\001\\n\\\"syft.lib.python.float.FloatWrapper\\022\\200\\001\\n\\022\\n\\020\\357#\\350 ~\\236F\\255\\2529\\031\\364\\253\\330u4\\022\\\"syft.lib.python.float.FloatWrapper\\\"F\\n)type.googleapis.com/syft.lib.python.Float\\022\\031\\r\\000\\0005C\\022\\022\\n\\020\\357#\\350 ~\\236F\\255\\2529\\031\\364\\253\\330u4\\022\\247\\001\\n\\\"syft.lib.python.float.FloatWrapper\\022\\200\\001\\n\\022\\n\\020\\t\\367X\\017\\3423A\\342\\236\\340\\265q\\035\\204cZ\\022\\\"syft.lib.python.float.FloatWrapper\\\"F\\n)type.googleapis.com/syft.lib.python.Float\\022\\031\\r\\000\\0005C\\022\\022\\n\\020\\t\\367X\\017\\3423A\\342\\236\\340\\265q\\035\\204cZ\\022\\247\\001\\n\\\"syft.lib.python.float.FloatWrapper\\022\\200\\001\\n\\022\\n\\020\\\"\\265\\244\\033\\002#K\\204\\252II\\034H\\200\\261\\276\\022\\\"syft.lib.python.float.FloatWrapper\\\"F\\n)type.googleapis.com/syft.lib.python.Float\\022\\031\\r\\217P6F\\022\\022\\n\\020\\\"\\265\\244\\033\\002#K\\204\\252II\\034H\\200\\261\\276\\032\\022\\n\\020\\234\\'\\325\\276\\331[G\\274\\244\\272\\'\\215\\342\\316\\346\\326\\022\\261\\016\\n\\033syft.lib.python.DictWrapper\\022\\221\\016\\n\\022\\n\\020=B\\2726\\037\\201@\\222\\224E\\t\\0016\\025\\305\\n\\022\\033syft.lib.python.DictWrapper\\\"\\335\\r\\n(type.googleapis.com/syft.lib.python.Dict\\022\\260\\r\\n\\227\\001\\n\\036syft.lib.python.int.IntWrapper\\022u\\n\\022\\n\\020\\026m\\017\\250\\177MIK\\265\\2662\\303\\230v\\316\\313\\022\\036syft.lib.python.int.IntWrapper\\\"?\\n\\'type.googleapis.com/syft.lib.python.Int\\022\\024\\022\\022\\n\\020\\026m\\017\\250\\177MIK\\265\\2662\\303\\230v\\316\\313\\n\\231\\001\\n\\036syft.lib.python.int.IntWrapper\\022w\\n\\022\\n\\020\\260\\006\\232-\\230\\320C|\\253._Y\\210\\343\\0175\\022\\036syft.lib.python.int.IntWrapper\\\"A\\n\\'type.googleapis.com/syft.lib.python.Int\\022\\026\\010\\001\\022\\022\\n\\020\\260\\006\\232-\\230\\320C|\\253._Y\\210\\343\\0175\\n\\231\\001\\n\\036syft.lib.python.int.IntWrapper\\022w\\n\\022\\n\\020$\\236\\254GX\\306G\\350\\236\\210\\257gwL\\374\\355\\022\\036syft.lib.python.int.IntWrapper\\\"A\\n\\'type.googleapis.com/syft.lib.python.Int\\022\\026\\010\\002\\022\\022\\n\\020$\\236\\254GX\\306G\\350\\236\\210\\257gwL\\374\\355\\n\\231\\001\\n\\036syft.lib.python.int.IntWrapper\\022w\\n\\022\\n\\020\\n\\266\\177\\274\\223 C\\362\\251,\\354\\220\\311^\\001.\\022\\036syft.lib.python.int.IntWrapper\\\"A\\n\\'type.googleapis.com/syft.lib.python.Int\\022\\026\\010\\003\\022\\022\\n\\020\\n\\266\\177\\274\\223 C\\362\\251,\\354\\220\\311^\\001.\\n\\231\\001\\n\\036syft.lib.python.int.IntWrapper\\022w\\n\\022\\n\\020j3\\306\\235X\\332E\\223\\2456\\242\\377\\340\\333\\000i\\022\\036syft.lib.python.int.IntWrapper\\\"A\\n\\'type.googleapis.com/syft.lib.python.Int\\022\\026\\010\\004\\022\\022\\n\\020j3\\306\\235X\\332E\\223\\2456\\242\\377\\340\\333\\000i\\022\\264\\001\\n$syft.lib.python.string.StringWrapper\\022\\213\\001\\n\\022\\n\\020\\350\\033G\\340\\324\\351E\\007\\236\\270\\330\\032\\004\\355\\311\\225\\022$syft.lib.python.string.StringWrapper\\\"O\\n*type.googleapis.com/syft.lib.python.String\\022!\\n\\013C1231006815\\022\\022\\n\\020\\350\\033G\\340\\324\\351E\\007\\236\\270\\330\\032\\004\\355\\311\\225\\022\\264\\001\\n$syft.lib.python.string.StringWrapper\\022\\213\\001\\n\\022\\n\\020c^\\277\\213\\327\\227@\\260\\2766OH\\366.\\336E\\022$syft.lib.python.string.StringWrapper\\\"O\\n*type.googleapis.com/syft.lib.python.String\\022!\\n\\013C1666544295\\022\\022\\n\\020c^\\277\\213\\327\\227@\\260\\2766OH\\366.\\336E\\022\\264\\001\\n$syft.lib.python.string.StringWrapper\\022\\213\\001\\n\\022\\n\\020$UR\\2737\\\"@\\315\\210\\275\\335[\\306_5\\000\\022$syft.lib.python.string.StringWrapper\\\"O\\n*type.googleapis.com/syft.lib.python.String\\022!\\n\\013C1305486145\\022\\022\\n\\020$UR\\2737\\\"@\\315\\210\\275\\335[\\306_5\\000\\022\\263\\001\\n$syft.lib.python.string.StringWrapper\\022\\212\\001\\n\\022\\n\\020\\364EK\\275\\t\\\"E\\270\\251\\247\\016L\\253y\\265\\360\\022$syft.lib.python.string.StringWrapper\\\"N\\n*type.googleapis.com/syft.lib.python.String\\022 \\n\\nC840083671\\022\\022\\n\\020\\364EK\\275\\t\\\"E\\270\\251\\247\\016L\\253y\\265\\360\\022\\264\\001\\n$syft.lib.python.string.StringWrapper\\022\\213\\001\\n\\022\\n\\020\\033\\342T`\\260\\352C\\013\\230\\321\\0033\\352\\255\\272\\271\\022$syft.lib.python.string.StringWrapper\\\"O\\n*type.googleapis.com/syft.lib.python.String\\022!\\n\\013C2048537720\\022\\022\\n\\020\\033\\342T`\\260\\352C\\013\\230\\321\\0033\\352\\255\\272\\271\\032\\022\\n\\020=B\\2726\\037\\201@\\222\\224E\\t\\0016\\025\\305\\n\\022\\361\\r\\n\\033syft.lib.python.DictWrapper\\022\\321\\r\\n\\022\\n\\020\\267\\207-\\023LCC\\311\\274;\\347\\265A\\253\\246\\t\\022\\033syft.lib.python.DictWrapper\\\"\\235\\r\\n(type.googleapis.com/syft.lib.python.Dict\\022\\360\\014\\n\\227\\001\\n\\036syft.lib.python.int.IntWrapper\\022u\\n\\022\\n\\020\\2260\\354\\352\\230RBx\\202\\242\\265\\021\\236\\004\\275n\\022\\036syft.lib.python.int.IntWrapper\\\"?\\n\\'type.googleapis.com/syft.lib.python.Int\\022\\024\\022\\022\\n\\020\\2260\\354\\352\\230RBx\\202\\242\\265\\021\\236\\004\\275n\\n\\231\\001\\n\\036syft.lib.python.int.IntWrapper\\022w\\n\\022\\n\\020\\240\\244\\205\\261\\217BI\\\\\\254\\240E\\255k\\266W\\023\\022\\036syft.lib.python.int.IntWrapper\\\"A\\n\\'type.googleapis.com/syft.lib.python.Int\\022\\026\\010\\001\\022\\022\\n\\020\\240\\244\\205\\261\\217BI\\\\\\254\\240E\\255k\\266W\\023\\n\\231\\001\\n\\036syft.lib.python.int.IntWrapper\\022w\\n\\022\\n\\020E\\014\\0262\\377XI8\\236;Z\\024B\\n\\351\\021\\022\\036syft.lib.python.int.IntWrapper\\\"A\\n\\'type.googleapis.com/syft.lib.python.Int\\022\\026\\010\\002\\022\\022\\n\\020E\\014\\0262\\377XI8\\236;Z\\024B\\n\\351\\021\\n\\231\\001\\n\\036syft.lib.python.int.IntWrapper\\022w\\n\\022\\n\\020\\334)\\007y\\361\\031G\\261\\261\\3532\\322\\212\\353e\\013\\022\\036syft.lib.python.int.IntWrapper\\\"A\\n\\'type.googleapis.com/syft.lib.python.Int\\022\\026\\010\\003\\022\\022\\n\\020\\334)\\007y\\361\\031G\\261\\261\\3532\\322\\212\\353e\\013\\n\\231\\001\\n\\036syft.lib.python.int.IntWrapper\\022w\\n\\022\\n\\020\\265\\324\\316\\375\\245\\320Oc\\236(\\026O\\203\\207\\214\\213\\022\\036syft.lib.python.int.IntWrapper\\\"A\\n\\'type.googleapis.com/syft.lib.python.Int\\022\\026\\010\\004\\022\\022\\n\\020\\265\\324\\316\\375\\245\\320Oc\\236(\\026O\\203\\207\\214\\213\\022\\247\\001\\n\\\"syft.lib.python.float.FloatWrapper\\022\\200\\001\\n\\022\\n\\020\\344\\230DRM.D\\334\\267\\240\\021\\204\\216\\302-P\\022\\\"syft.lib.python.float.FloatWrapper\\\"F\\n)type.googleapis.com/syft.lib.python.Float\\022\\031\\r\\000&&H\\022\\022\\n\\020\\344\\230DRM.D\\334\\267\\240\\021\\204\\216\\302-P\\022\\247\\001\\n\\\"syft.lib.python.float.FloatWrapper\\022\\200\\001\\n\\022\\n\\020\\353\\206\\242*!\\337Nd\\240\\366\\376\\313@\\333\\314A\\022\\\"syft.lib.python.float.FloatWrapper\\\"F\\n)type.googleapis.com/syft.lib.python.Float\\022\\031\\r\\000\\002\\246F\\022\\022\\n\\020\\353\\206\\242*!\\337Nd\\240\\366\\376\\313@\\333\\314A\\022\\247\\001\\n\\\"syft.lib.python.float.FloatWrapper\\022\\200\\001\\n\\022\\n\\020^\\317\\235.b\\252G\\231\\223\\265\\320r\\273%L\\334\\022\\\"syft.lib.python.float.FloatWrapper\\\"F\\n)type.googleapis.com/syft.lib.python.Float\\022\\031\\r\\000\\0005C\\022\\022\\n\\020^\\317\\235.b\\252G\\231\\223\\265\\320r\\273%L\\334\\022\\247\\001\\n\\\"syft.lib.python.float.FloatWrapper\\022\\200\\001\\n\\022\\n\\020\\312iv:\\337YM\\216\\202\\230,I+\\314\\344\\277\\022\\\"syft.lib.python.float.FloatWrapper\\\"F\\n)type.googleapis.com/syft.lib.python.Float\\022\\031\\r\\000\\0005C\\022\\022\\n\\020\\312iv:\\337YM\\216\\202\\230,I+\\314\\344\\277\\022\\247\\001\\n\\\"syft.lib.python.float.FloatWrapper\\022\\200\\001\\n\\022\\n\\020&\\303\\330,%\\326@9\\234\\327\\255\\016TsL\\020\\022\\\"syft.lib.python.float.FloatWrapper\\\"F\\n)type.googleapis.com/syft.lib.python.Float\\022\\031\\r\\000R\\\"G\\022\\022\\n\\020&\\303\\330,%\\326@9\\234\\327\\255\\016TsL\\020\\032\\022\\n\\020\\267\\207-\\023LCC\\311\\274;\\347\\265A\\253\\246\\t\\022\\345\\r\\n\\033syft.lib.python.DictWrapper\\022\\305\\r\\n\\022\\n\\020\\344B&\\341\\317II\\255\\256f\\211\\334Xn\\250\\216\\022\\033syft.lib.python.DictWrapper\\\"\\221\\r\\n(type.googleapis.com/syft.lib.python.Dict\\022\\344\\014\\n\\227\\001\\n\\036syft.lib.python.int.IntWrapper\\022u\\n\\022\\n\\020hF\\346E\\005TD\\323\\217@j\\345R\\352\\213\\370\\022\\036syft.lib.python.int.IntWrapper\\\"?\\n\\'type.googleapis.com/syft.lib.python.Int\\022\\024\\022\\022\\n\\020hF\\346E\\005TD\\323\\217@j\\345R\\352\\213\\370\\n\\231\\001\\n\\036syft.lib.python.int.IntWrapper\\022w\\n\\022\\n\\020[\\366\\223\\273\\345\\304@\\270\\234,\\327\\211\\271\\n\\325\\336\\022\\036syft.lib.python.int.IntWrapper\\\"A\\n\\'type.googleapis.com/syft.lib.python.Int\\022\\026\\010\\001\\022\\022\\n\\020[\\366\\223\\273\\345\\304@\\270\\234,\\327\\211\\271\\n\\325\\336\\n\\231\\001\\n\\036syft.lib.python.int.IntWrapper\\022w\\n\\022\\n\\020\\n,;`QyOl\\206\\377uF\\336\\307\\207f\\022\\036syft.lib.python.int.IntWrapper\\\"A\\n\\'type.googleapis.com/syft.lib.python.Int\\022\\026\\010\\002\\022\\022\\n\\020\\n,;`QyOl\\206\\377uF\\336\\307\\207f\\n\\231\\001\\n\\036syft.lib.python.int.IntWrapper\\022w\\n\\022\\n\\020\\242\\333\\374\\270s^M#\\213\\301\\265w\\351\\342\\t\\315\\022\\036syft.lib.python.int.IntWrapper\\\"A\\n\\'type.googleapis.com/syft.lib.python.Int\\022\\026\\010\\003\\022\\022\\n\\020\\242\\333\\374\\270s^M#\\213\\301\\265w\\351\\342\\t\\315\\n\\231\\001\\n\\036syft.lib.python.int.IntWrapper\\022w\\n\\022\\n\\020\\320\\204\\304\\034u\\371E\\215\\220\\3310\\346>\\t\\335\\001\\022\\036syft.lib.python.int.IntWrapper\\\"A\\n\\'type.googleapis.com/syft.lib.python.Int\\022\\026\\010\\004\\022\\022\\n\\020\\320\\204\\304\\034u\\371E\\215\\220\\3310\\346>\\t\\335\\001\\022\\247\\001\\n\\\"syft.lib.python.float.FloatWrapper\\022\\200\\001\\n\\022\\n\\020\\205\\312\\272\\347\\276\\277HW\\230BF\\340\\201Hg&\\022\\\"syft.lib.python.float.FloatWrapper\\\"F\\n)type.googleapis.com/syft.lib.python.Float\\022\\031\\r\\027\\212\\034H\\022\\022\\n\\020\\205\\312\\272\\347\\276\\277HW\\230BF\\340\\201Hg&\\022\\247\\001\\n\\\"syft.lib.python.float.FloatWrapper\\022\\200\\001\\n\\022\\n\\020\\000%\\341{-\\234I!\\235\\030S\\032\\0259\\303\\273\\022\\\"syft.lib.python.float.FloatWrapper\\\"F\\n)type.googleapis.com/syft.lib.python.Float\\022\\031\\rqq\\227F\\022\\022\\n\\020\\000%\\341{-\\234I!\\235\\030S\\032\\0259\\303\\273\\022\\241\\001\\n\\\"syft.lib.python.float.FloatWrapper\\022{\\n\\022\\n\\020D\\276\\004\\021J\\206E\\t\\240\\254o\\213\\267\\242\\254\\252\\022\\\"syft.lib.python.float.FloatWrapper\\\"A\\n)type.googleapis.com/syft.lib.python.Float\\022\\024\\022\\022\\n\\020D\\276\\004\\021J\\206E\\t\\240\\254o\\213\\267\\242\\254\\252\\022\\241\\001\\n\\\"syft.lib.python.float.FloatWrapper\\022{\\n\\022\\n\\020\\003\\347\\322\\225\\nGE\\263\\276\\032\\227^+\\221\\032\\243\\022\\\"syft.lib.python.float.FloatWrapper\\\"A\\n)type.googleapis.com/syft.lib.python.Float\\022\\024\\022\\022\\n\\020\\003\\347\\322\\225\\nGE\\263\\276\\032\\227^+\\221\\032\\243\\022\\247\\001\\n\\\"syft.lib.python.float.FloatWrapper\\022\\200\\001\\n\\022\\n\\020E\\377~\\002\\027\\367M\\314\\221\\302\\247\\005\\367\\325O\\037\\022\\\"syft.lib.python.float.FloatWrapper\\\"F\\n)type.googleapis.com/syft.lib.python.Float\\022\\031\\r\\270{\\351F\\022\\022\\n\\020E\\377~\\002\\027\\367M\\314\\221\\302\\247\\005\\367\\325O\\037\\032\\022\\n\\020\\344B&\\341\\317II\\255\\256f\\211\\334Xn\\250\\216\\022\\257\\016\\n\\033syft.lib.python.DictWrapper\\022\\217\\016\\n\\022\\n\\020\\330\\031\\323\\263/\\031L\\330\\223\\261|G\\266\\004P\\373\\022\\033syft.lib.python.DictWrapper\\\"\\333\\r\\n(type.googleapis.com/syft.lib.python.Dict\\022\\256\\r\\n\\227\\001\\n\\036syft.lib.python.int.IntWrapper\\022u\\n\\022\\n\\020w?fT\\270\\362O\\327\\235\\271\\340\\353&\\353d%\\022\\036syft.lib.python.int.IntWrapper\\\"?\\n\\'type.googleapis.com/syft.lib.python.Int\\022\\024\\022\\022\\n\\020w?fT\\270\\362O\\327\\235\\271\\340\\353&\\353d%\\n\\231\\001\\n\\036syft.lib.python.int.IntWrapper\\022w\\n\\022\\n\\020\\374r\\250\\265\\261LH\\025\\271|<\\363\\3746\\r\\245\\022\\036syft.lib.python.int.IntWrapper\\\"A\\n\\'type.googleapis.com/syft.lib.python.Int\\022\\026\\010\\001\\022\\022\\n\\020\\374r\\250\\265\\261LH\\025\\271|<\\363\\3746\\r\\245\\n\\231\\001\\n\\036syft.lib.python.int.IntWrapper\\022w\\n\\022\\n\\020p\\373.(\\207JE+\\234\\247\\205\\327\\241JM\\267\\022\\036syft.lib.python.int.IntWrapper\\\"A\\n\\'type.googleapis.com/syft.lib.python.Int\\022\\026\\010\\002\\022\\022\\n\\020p\\373.(\\207JE+\\234\\247\\205\\327\\241JM\\267\\n\\231\\001\\n\\036syft.lib.python.int.IntWrapper\\022w\\n\\022\\n\\020)$n`\\366v@\\372\\243>|\\000\\025h\\225\\344\\022\\036syft.lib.python.int.IntWrapper\\\"A\\n\\'type.googleapis.com/syft.lib.python.Int\\022\\026\\010\\003\\022\\022\\n\\020)$n`\\366v@\\372\\243>|\\000\\025h\\225\\344\\n\\231\\001\\n\\036syft.lib.python.int.IntWrapper\\022w\\n\\022\\n\\020\\232H*\\233\\273\\262@\\331\\2371\\253\\r\\364^L\\264\\022\\036syft.lib.python.int.IntWrapper\\\"A\\n\\'type.googleapis.com/syft.lib.python.Int\\022\\026\\010\\004\\022\\022\\n\\020\\232H*\\233\\273\\262@\\331\\2371\\253\\r\\364^L\\264\\022\\264\\001\\n$syft.lib.python.string.StringWrapper\\022\\213\\001\\n\\022\\n\\020\\263\\305\\336\\250\\252\\032Lz\\2770k\\317\\347\\230\\021\\026\\022$syft.lib.python.string.StringWrapper\\\"O\\n*type.googleapis.com/syft.lib.python.String\\022!\\n\\013M1979787155\\022\\022\\n\\020\\263\\305\\336\\250\\252\\032Lz\\2770k\\317\\347\\230\\021\\026\\022\\264\\001\\n$syft.lib.python.string.StringWrapper\\022\\213\\001\\n\\022\\n\\020@\\022Y\\243\\242\\324If\\202.\\332\\223\\014m\\276\\326\\022$syft.lib.python.string.StringWrapper\\\"O\\n*type.googleapis.com/syft.lib.python.String\\022!\\n\\013M2044282225\\022\\022\\n\\020@\\022Y\\243\\242\\324If\\202.\\332\\223\\014m\\276\\326\\022\\263\\001\\n$syft.lib.python.string.StringWrapper\\022\\212\\001\\n\\022\\n\\020\\334\\371\\235.\\314\\013K0\\264\\204\\317t\\327\\263+s\\022$syft.lib.python.string.StringWrapper\\\"N\\n*type.googleapis.com/syft.lib.python.String\\022 \\n\\nC553264065\\022\\022\\n\\020\\334\\371\\235.\\314\\013K0\\264\\204\\317t\\327\\263+s\\022\\262\\001\\n$syft.lib.python.string.StringWrapper\\022\\211\\001\\n\\022\\n\\020\\272\\242c#\\207<G|\\261q\\316\\200o\\316\\325\\355\\022$syft.lib.python.string.StringWrapper\\\"M\\n*type.googleapis.com/syft.lib.python.String\\022\\037\\n\\tC38997010\\022\\022\\n\\020\\272\\242c#\\207<G|\\261q\\316\\200o\\316\\325\\355\\022\\264\\001\\n$syft.lib.python.string.StringWrapper\\022\\213\\001\\n\\022\\n\\020\\230\\370\\263=\\265xNn\\276\\223\\365\\335]\\036\\274q\\022$syft.lib.python.string.StringWrapper\\\"O\\n*type.googleapis.com/syft.lib.python.String\\022!\\n\\013M1230701703\\022\\022\\n\\020\\230\\370\\263=\\265xNn\\276\\223\\365\\335]\\036\\274q\\032\\022\\n\\020\\330\\031\\323\\263/\\031L\\330\\223\\261|G\\266\\004P\\373\\022\\331\\r\\n\\033syft.lib.python.DictWrapper\\022\\271\\r\\n\\022\\n\\020#\\350:y\\316\\316H\\263\\253\\001\\230\\206\\374d\\201\\r\\022\\033syft.lib.python.DictWrapper\\\"\\205\\r\\n(type.googleapis.com/syft.lib.python.Dict\\022\\330\\014\\n\\227\\001\\n\\036syft.lib.python.int.IntWrapper\\022u\\n\\022\\n\\020\\032\\024\\375O\\0373I\\372\\231\\'\\363q\\313\\224\\274n\\022\\036syft.lib.python.int.IntWrapper\\\"?\\n\\'type.googleapis.com/syft.lib.python.Int\\022\\024\\022\\022\\n\\020\\032\\024\\375O\\0373I\\372\\231\\'\\363q\\313\\224\\274n\\n\\231\\001\\n\\036syft.lib.python.int.IntWrapper\\022w\\n\\022\\n\\020\\0345\\023|(.Jt\\277\\357\\364\\243\\364)6g\\022\\036syft.lib.python.int.IntWrapper\\\"A\\n\\'type.googleapis.com/syft.lib.python.Int\\022\\026\\010\\001\\022\\022\\n\\020\\0345\\023|(.Jt\\277\\357\\364\\243\\364)6g\\n\\231\\001\\n\\036syft.lib.python.int.IntWrapper\\022w\\n\\022\\n\\020=\\356\\324-} J\\255\\272\\213Lp\\237\\371z\\231\\022\\036syft.lib.python.int.IntWrapper\\\"A\\n\\'type.googleapis.com/syft.lib.python.Int\\022\\026\\010\\002\\022\\022\\n\\020=\\356\\324-} J\\255\\272\\213Lp\\237\\371z\\231\\n\\231\\001\\n\\036syft.lib.python.int.IntWrapper\\022w\\n\\022\\n\\020\\347\\212\\332E6\\251@*\\231._K+\\3073\\224\\022\\036syft.lib.python.int.IntWrapper\\\"A\\n\\'type.googleapis.com/syft.lib.python.Int\\022\\026\\010\\003\\022\\022\\n\\020\\347\\212\\332E6\\251@*\\231._K+\\3073\\224\\n\\231\\001\\n\\036syft.lib.python.int.IntWrapper\\022w\\n\\022\\n\\020\\304\\037\\261\\334\\3073N\\342\\243[\\337\\331\\370\\201\\322\\276\\022\\036syft.lib.python.int.IntWrapper\\\"A\\n\\'type.googleapis.com/syft.lib.python.Int\\022\\026\\010\\004\\022\\022\\n\\020\\304\\037\\261\\334\\3073N\\342\\243[\\337\\331\\370\\201\\322\\276\\022\\241\\001\\n\\\"syft.lib.python.float.FloatWrapper\\022{\\n\\022\\n\\020\\020\\2435IO\\270A\\024\\267\\346\\005\\331\\010\\034)\\253\\022\\\"syft.lib.python.float.FloatWrapper\\\"A\\n)type.googleapis.com/syft.lib.python.Float\\022\\024\\022\\022\\n\\020\\020\\2435IO\\270A\\024\\267\\346\\005\\331\\010\\034)\\253\\022\\241\\001\\n\\\"syft.lib.python.float.FloatWrapper\\022{\\n\\022\\n\\020\\372\\221\\0109aQIT\\263%\\371\\360\\331\\354m3\\022\\\"syft.lib.python.float.FloatWrapper\\\"A\\n)type.googleapis.com/syft.lib.python.Float\\022\\024\\022\\022\\n\\020\\372\\221\\0109aQIT\\263%\\371\\360\\331\\354m3\\022\\241\\001\\n\\\"syft.lib.python.float.FloatWrapper\\022{\\n\\022\\n\\020\\305\\353=\\007\\366\\202Oi\\215\\333!\\230\\nV\\243<\\022\\\"syft.lib.python.float.FloatWrapper\\\"A\\n)type.googleapis.com/syft.lib.python.Float\\022\\024\\022\\022\\n\\020\\305\\353=\\007\\366\\202Oi\\215\\333!\\230\\nV\\243<\\022\\247\\001\\n\\\"syft.lib.python.float.FloatWrapper\\022\\200\\001\\n\\022\\n\\020s\\364S\\332\\225&L\\332\\246\\\\\\342\\351\\327o3\\377\\022\\\"syft.lib.python.float.FloatWrapper\\\"F\\n)type.googleapis.com/syft.lib.python.Float\\022\\031\\r\\000|\\245F\\022\\022\\n\\020s\\364S\\332\\225&L\\332\\246\\\\\\342\\351\\327o3\\377\\022\\241\\001\\n\\\"syft.lib.python.float.FloatWrapper\\022{\\n\\022\\n\\020\\214\\377\\320\\254T\\300G\\210\\203\\362\\177~\\304X\\374\\206\\022\\\"syft.lib.python.float.FloatWrapper\\\"A\\n)type.googleapis.com/syft.lib.python.Float\\022\\024\\022\\022\\n\\020\\214\\377\\320\\254T\\300G\\210\\203\\362\\177~\\304X\\374\\206\\032\\022\\n\\020#\\350:y\\316\\316H\\263\\253\\001\\230\\206\\374d\\201\\r\\022\\323\\r\\n\\033syft.lib.python.DictWrapper\\022\\263\\r\\n\\022\\n\\020\\227\\200)=&\\263@\\350\\263F T\\376\\226\\\\\\273\\022\\033syft.lib.python.DictWrapper\\\"\\377\\014\\n(type.googleapis.com/syft.lib.python.Dict\\022\\322\\014\\n\\227\\001\\n\\036syft.lib.python.int.IntWrapper\\022u\\n\\022\\n\\020b\\245\\275\\335\\001\\360D?\\264\\201\\006D\\220.yJ\\022\\036syft.lib.python.int.IntWrapper\\\"?\\n\\'type.googleapis.com/syft.lib.python.Int\\022\\024\\022\\022\\n\\020b\\245\\275\\335\\001\\360D?\\264\\201\\006D\\220.yJ\\n\\231\\001\\n\\036syft.lib.python.int.IntWrapper\\022w\\n\\022\\n\\020\\254}\\334\\231\\357\\331MD\\275x\\021\\027\\213\\205\\024\\360\\022\\036syft.lib.python.int.IntWrapper\\\"A\\n\\'type.googleapis.com/syft.lib.python.Int\\022\\026\\010\\001\\022\\022\\n\\020\\254}\\334\\231\\357\\331MD\\275x\\021\\027\\213\\205\\024\\360\\n\\231\\001\\n\\036syft.lib.python.int.IntWrapper\\022w\\n\\022\\n\\020\\353\\244\\035\\267\\244\\352NK\\242\\217fh\\302\\221\\317*\\022\\036syft.lib.python.int.IntWrapper\\\"A\\n\\'type.googleapis.com/syft.lib.python.Int\\022\\026\\010\\002\\022\\022\\n\\020\\353\\244\\035\\267\\244\\352NK\\242\\217fh\\302\\221\\317*\\n\\231\\001\\n\\036syft.lib.python.int.IntWrapper\\022w\\n\\022\\n\\020\\366\\217&\\216\\216\\255H\\\"\\232s\\\"\\2425\\337\\230\\022\\022\\036syft.lib.python.int.IntWrapper\\\"A\\n\\'type.googleapis.com/syft.lib.python.Int\\022\\026\\010\\003\\022\\022\\n\\020\\366\\217&\\216\\216\\255H\\\"\\232s\\\"\\2425\\337\\230\\022\\n\\231\\001\\n\\036syft.lib.python.int.IntWrapper\\022w\\n\\022\\n\\020T\\323=\\332w\\217O\\257\\270xQ\\226OK*S\\022\\036syft.lib.python.int.IntWrapper\\\"A\\n\\'type.googleapis.com/syft.lib.python.Int\\022\\026\\010\\004\\022\\022\\n\\020T\\323=\\332w\\217O\\257\\270xQ\\226OK*S\\022\\241\\001\\n\\\"syft.lib.python.float.FloatWrapper\\022{\\n\\022\\n\\020\\237-\\364q\\202LCP\\226\\371\\'\\366\\206[\\303\\377\\022\\\"syft.lib.python.float.FloatWrapper\\\"A\\n)type.googleapis.com/syft.lib.python.Float\\022\\024\\022\\022\\n\\020\\237-\\364q\\202LCP\\226\\371\\'\\366\\206[\\303\\377\\022\\241\\001\\n\\\"syft.lib.python.float.FloatWrapper\\022{\\n\\022\\n\\020!d\\037\\010^MG\\263\\257\\353\\304\\242\\323\\'\\234\\304\\022\\\"syft.lib.python.float.FloatWrapper\\\"A\\n)type.googleapis.com/syft.lib.python.Float\\022\\024\\022\\022\\n\\020!d\\037\\010^MG\\263\\257\\353\\304\\242\\323\\'\\234\\304\\022\\241\\001\\n\\\"syft.lib.python.float.FloatWrapper\\022{\\n\\022\\n\\020\\344[\\017\\236\\307\\304J\\274\\250e\\226i\\361\\353+\\256\\022\\\"syft.lib.python.float.FloatWrapper\\\"A\\n)type.googleapis.com/syft.lib.python.Float\\022\\024\\022\\022\\n\\020\\344[\\017\\236\\307\\304J\\274\\250e\\226i\\361\\353+\\256\\022\\241\\001\\n\\\"syft.lib.python.float.FloatWrapper\\022{\\n\\022\\n\\020wq\\227-BJB\\334\\226!\\n\\372)\\226\\372\\277\\022\\\"syft.lib.python.float.FloatWrapper\\\"A\\n)type.googleapis.com/syft.lib.python.Float\\022\\024\\022\\022\\n\\020wq\\227-BJB\\334\\226!\\n\\372)\\226\\372\\277\\022\\241\\001\\n\\\"syft.lib.python.float.FloatWrapper\\022{\\n\\022\\n\\020%\\356\\305E/\\256@\\366\\257\\226\\224`\\371\\335;\\317\\022\\\"syft.lib.python.float.FloatWrapper\\\"A\\n)type.googleapis.com/syft.lib.python.Float\\022\\024\\022\\022\\n\\020%\\356\\305E/\\256@\\366\\257\\226\\224`\\371\\335;\\317\\032\\022\\n\\020\\227\\200)=&\\263@\\350\\263F T\\376\\226\\\\\\273\\022\\245\\r\\n\\033syft.lib.python.DictWrapper\\022\\205\\r\\n\\022\\n\\020\\274\\316\\273\\372\\356\\255M\\372\\236L[\\201\\252\\316Q+\\022\\033syft.lib.python.DictWrapper\\\"\\321\\014\\n(type.googleapis.com/syft.lib.python.Dict\\022\\244\\014\\n\\227\\001\\n\\036syft.lib.python.int.IntWrapper\\022u\\n\\022\\n\\0203\\232\\253\\323\\004rF\\214\\255y\\0360\\004\\025\\216v\\022\\036syft.lib.python.int.IntWrapper\\\"?\\n\\'type.googleapis.com/syft.lib.python.Int\\022\\024\\022\\022\\n\\0203\\232\\253\\323\\004rF\\214\\255y\\0360\\004\\025\\216v\\n\\231\\001\\n\\036syft.lib.python.int.IntWrapper\\022w\\n\\022\\n\\020\\220\\327\\262\\026\\315\\014F\\372\\2248f\\3517pql\\022\\036syft.lib.python.int.IntWrapper\\\"A\\n\\'type.googleapis.com/syft.lib.python.Int\\022\\026\\010\\001\\022\\022\\n\\020\\220\\327\\262\\026\\315\\014F\\372\\2248f\\3517pql\\n\\231\\001\\n\\036syft.lib.python.int.IntWrapper\\022w\\n\\022\\n\\020@\\027SG\\264\\322I\\222\\250@W\\254M\\215\\202\\231\\022\\036syft.lib.python.int.IntWrapper\\\"A\\n\\'type.googleapis.com/syft.lib.python.Int\\022\\026\\010\\002\\022\\022\\n\\020@\\027SG\\264\\322I\\222\\250@W\\254M\\215\\202\\231\\n\\231\\001\\n\\036syft.lib.python.int.IntWrapper\\022w\\n\\022\\n\\020\\322:\\255\\304\\317\\217I\\365\\2026\\203\\023 \\366\\254Q\\022\\036syft.lib.python.int.IntWrapper\\\"A\\n\\'type.googleapis.com/syft.lib.python.Int\\022\\026\\010\\003\\022\\022\\n\\020\\322:\\255\\304\\317\\217I\\365\\2026\\203\\023 \\366\\254Q\\n\\231\\001\\n\\036syft.lib.python.int.IntWrapper\\022w\\n\\022\\n\\0203[\\321\\303\\215\\370N\\245\\245X\\237\\235o\\213F\\215\\022\\036syft.lib.python.int.IntWrapper\\\"A\\n\\'type.googleapis.com/syft.lib.python.Int\\022\\026\\010\\004\\022\\022\\n\\0203[\\321\\303\\215\\370N\\245\\245X\\237\\235o\\213F\\215\\022\\227\\001\\n\\036syft.lib.python.int.IntWrapper\\022u\\n\\022\\n\\0208\\006\\305p\\363\\372D\\227\\203l\\232\\310,;&y\\022\\036syft.lib.python.int.IntWrapper\\\"?\\n\\'type.googleapis.com/syft.lib.python.Int\\022\\024\\022\\022\\n\\0208\\006\\305p\\363\\372D\\227\\203l\\232\\310,;&y\\022\\227\\001\\n\\036syft.lib.python.int.IntWrapper\\022u\\n\\022\\n\\020\\\\\\237}\\321\\372\\321K\\363\\277\\377\\224\\005s\\3268b\\022\\036syft.lib.python.int.IntWrapper\\\"?\\n\\'type.googleapis.com/syft.lib.python.Int\\022\\024\\022\\022\\n\\020\\\\\\237}\\321\\372\\321K\\363\\277\\377\\224\\005s\\3268b\\022\\231\\001\\n\\036syft.lib.python.int.IntWrapper\\022w\\n\\022\\n\\020nZ\\370h\\325\\335@\\273\\261\\306@QU\\346\\\\\\336\\022\\036syft.lib.python.int.IntWrapper\\\"A\\n\\'type.googleapis.com/syft.lib.python.Int\\022\\026\\010\\001\\022\\022\\n\\020nZ\\370h\\325\\335@\\273\\261\\306@QU\\346\\\\\\336\\022\\231\\001\\n\\036syft.lib.python.int.IntWrapper\\022w\\n\\022\\n\\020\\370\\302X\\201\\001eM\\032\\255&Q\\016\\352\\255\\361\\030\\022\\036syft.lib.python.int.IntWrapper\\\"A\\n\\'type.googleapis.com/syft.lib.python.Int\\022\\026\\010\\001\\022\\022\\n\\020\\370\\302X\\201\\001eM\\032\\255&Q\\016\\352\\255\\361\\030\\022\\227\\001\\n\\036syft.lib.python.int.IntWrapper\\022u\\n\\022\\n\\020\\214\\2572:\\036\\324F\\305\\272.\\221e/\\204\\373\\330\\022\\036syft.lib.python.int.IntWrapper\\\"?\\n\\'type.googleapis.com/syft.lib.python.Int\\022\\024\\022\\022\\n\\020\\214\\2572:\\036\\324F\\305\\272.\\221e/\\204\\373\\330\\032\\022\\n\\020\\274\\316\\273\\372\\356\\255M\\372\\236L[\\201\\252\\316Q+\\022\\241\\r\\n\\033syft.lib.python.DictWrapper\\022\\201\\r\\n\\022\\n\\020\\257Q\\036\\016\\334WE\\203\\257\\374~\\273\\263\\335m\\212\\022\\033syft.lib.python.DictWrapper\\\"\\315\\014\\n(type.googleapis.com/syft.lib.python.Dict\\022\\240\\014\\n\\227\\001\\n\\036syft.lib.python.int.IntWrapper\\022u\\n\\022\\n\\020U\\2253a\\233\\224Du\\274W\\2253\\014\\330\\327\\377\\022\\036syft.lib.python.int.IntWrapper\\\"?\\n\\'type.googleapis.com/syft.lib.python.Int\\022\\024\\022\\022\\n\\020U\\2253a\\233\\224Du\\274W\\2253\\014\\330\\327\\377\\n\\231\\001\\n\\036syft.lib.python.int.IntWrapper\\022w\\n\\022\\n\\020T\\375\\\"\\267@\\206BC\\207{\\343\\001\\'\\035V\\205\\022\\036syft.lib.python.int.IntWrapper\\\"A\\n\\'type.googleapis.com/syft.lib.python.Int\\022\\026\\010\\001\\022\\022\\n\\020T\\375\\\"\\267@\\206BC\\207{\\343\\001\\'\\035V\\205\\n\\231\\001\\n\\036syft.lib.python.int.IntWrapper\\022w\\n\\022\\n\\020G\\347w\\313;#GP\\201\\261m\\340\\\\\\244\\025Z\\022\\036syft.lib.python.int.IntWrapper\\\"A\\n\\'type.googleapis.com/syft.lib.python.Int\\022\\026\\010\\002\\022\\022\\n\\020G\\347w\\313;#GP\\201\\261m\\340\\\\\\244\\025Z\\n\\231\\001\\n\\036syft.lib.python.int.IntWrapper\\022w\\n\\022\\n\\020\\032\\260\\005DM$J\\217\\211\\005\\026\\263\\227\\272\\360\\377\\022\\036syft.lib.python.int.IntWrapper\\\"A\\n\\'type.googleapis.com/syft.lib.python.Int\\022\\026\\010\\003\\022\\022\\n\\020\\032\\260\\005DM$J\\217\\211\\005\\026\\263\\227\\272\\360\\377\\n\\231\\001\\n\\036syft.lib.python.int.IntWrapper\\022w\\n\\022\\n\\020\\237\\216\\243\\336\\017VJ\\276\\227GW\\313\\375\\276\\370\\037\\022\\036syft.lib.python.int.IntWrapper\\\"A\\n\\'type.googleapis.com/syft.lib.python.Int\\022\\026\\010\\004\\022\\022\\n\\020\\237\\216\\243\\336\\017VJ\\276\\227GW\\313\\375\\276\\370\\037\\022\\227\\001\\n\\036syft.lib.python.int.IntWrapper\\022u\\n\\022\\n\\020\\243\\234\\235\\237\\300\\300J\\177\\212Wf\\334\\333IwS\\022\\036syft.lib.python.int.IntWrapper\\\"?\\n\\'type.googleapis.com/syft.lib.python.Int\\022\\024\\022\\022\\n\\020\\243\\234\\235\\237\\300\\300J\\177\\212Wf\\334\\333IwS\\022\\227\\001\\n\\036syft.lib.python.int.IntWrapper\\022u\\n\\022\\n\\020\\235\\310\\202 \\245\\033C\\265\\235\\231\\023r\\t\\271Ny\\022\\036syft.lib.python.int.IntWrapper\\\"?\\n\\'type.googleapis.com/syft.lib.python.Int\\022\\024\\022\\022\\n\\020\\235\\310\\202 \\245\\033C\\265\\235\\231\\023r\\t\\271Ny\\022\\227\\001\\n\\036syft.lib.python.int.IntWrapper\\022u\\n\\022\\n\\020\\035@\\326\\236\\022\\200@7\\256\\345\\350n<\\035\\347\\350\\022\\036syft.lib.python.int.IntWrapper\\\"?\\n\\'type.googleapis.com/syft.lib.python.Int\\022\\024\\022\\022\\n\\020\\035@\\326\\236\\022\\200@7\\256\\345\\350n<\\035\\347\\350\\022\\227\\001\\n\\036syft.lib.python.int.IntWrapper\\022u\\n\\022\\n\\020Fe\\010K\\302\\354J&\\255J_\\262\\004\\253\\330:\\022\\036syft.lib.python.int.IntWrapper\\\"?\\n\\'type.googleapis.com/syft.lib.python.Int\\022\\024\\022\\022\\n\\020Fe\\010K\\302\\354J&\\255J_\\262\\004\\253\\330:\\022\\227\\001\\n\\036syft.lib.python.int.IntWrapper\\022u\\n\\022\\n\\020\\265n\\227\\220\\\\/A\\367\\251\\276\\352\\350\\316\\335\\250\\225\\022\\036syft.lib.python.int.IntWrapper\\\"?\\n\\'type.googleapis.com/syft.lib.python.Int\\022\\024\\022\\022\\n\\020\\265n\\227\\220\\\\/A\\367\\251\\276\\352\\350\\316\\335\\250\\225\\032\\022\\n\\020\\257Q\\036\\016\\334WE\\203\\257\\374~\\273\\263\\335m\\212\\032\\022\\n\\020\\r\\342\\234\\253J\\363N\\034\\230B9\\367\\034|\\210n\"\n",
       "}"
      ]
     },
     "execution_count": 10,
     "metadata": {},
     "output_type": "execute_result"
    }
   ],
   "source": [
    "sy.serialize(obj=df)"
   ]
  },
  {
   "cell_type": "markdown",
   "metadata": {},
   "source": [
    "### Serialise and deserialise a dataframe\n",
    "\n",
    "Triggers a `UserWarning` in `storeable_object` when trying to set attributes (Pandas hijacks this for column names)."
   ]
  },
  {
   "cell_type": "code",
   "execution_count": 11,
   "metadata": {},
   "outputs": [
    {
     "name": "stderr",
     "output_type": "stream",
     "text": [
      "/home/ben/code/om/PySyft/src/syft/core/store/storeable_object.py:199: UserWarning: Pandas doesn't allow columns to be created via a new attribute name - see https://pandas.pydata.org/pandas-docs/stable/indexing.html#attribute-access\n",
      "  result.read_permissions = {}\n",
      "/home/ben/code/om/PySyft/src/syft/core/store/storeable_object.py:200: UserWarning: Pandas doesn't allow columns to be created via a new attribute name - see https://pandas.pydata.org/pandas-docs/stable/indexing.html#attribute-access\n",
      "  result.search_permissions = {}\n"
     ]
    },
    {
     "data": {
      "text/html": [
       "<div>\n",
       "<style scoped>\n",
       "    .dataframe tbody tr th:only-of-type {\n",
       "        vertical-align: middle;\n",
       "    }\n",
       "\n",
       "    .dataframe tbody tr th {\n",
       "        vertical-align: top;\n",
       "    }\n",
       "\n",
       "    .dataframe thead th {\n",
       "        text-align: right;\n",
       "    }\n",
       "</style>\n",
       "<table border=\"1\" class=\"dataframe\">\n",
       "  <thead>\n",
       "    <tr style=\"text-align: right;\">\n",
       "      <th></th>\n",
       "      <th>step</th>\n",
       "      <th>type</th>\n",
       "      <th>amount</th>\n",
       "      <th>nameOrig</th>\n",
       "      <th>oldbalanceOrg</th>\n",
       "      <th>newbalanceOrig</th>\n",
       "      <th>nameDest</th>\n",
       "      <th>oldbalanceDest</th>\n",
       "      <th>newbalanceDest</th>\n",
       "      <th>isFraud</th>\n",
       "      <th>isFlaggedFraud</th>\n",
       "    </tr>\n",
       "  </thead>\n",
       "  <tbody>\n",
       "    <tr>\n",
       "      <th>0</th>\n",
       "      <td>1</td>\n",
       "      <td>PAYMENT</td>\n",
       "      <td>9839.639648</td>\n",
       "      <td>C1231006815</td>\n",
       "      <td>170136.0</td>\n",
       "      <td>160296.359375</td>\n",
       "      <td>M1979787155</td>\n",
       "      <td>0.0</td>\n",
       "      <td>0.0</td>\n",
       "      <td>0</td>\n",
       "      <td>0</td>\n",
       "    </tr>\n",
       "    <tr>\n",
       "      <th>1</th>\n",
       "      <td>1</td>\n",
       "      <td>PAYMENT</td>\n",
       "      <td>1864.280029</td>\n",
       "      <td>C1666544295</td>\n",
       "      <td>21249.0</td>\n",
       "      <td>19384.720703</td>\n",
       "      <td>M2044282225</td>\n",
       "      <td>0.0</td>\n",
       "      <td>0.0</td>\n",
       "      <td>0</td>\n",
       "      <td>0</td>\n",
       "    </tr>\n",
       "    <tr>\n",
       "      <th>2</th>\n",
       "      <td>1</td>\n",
       "      <td>TRANSFER</td>\n",
       "      <td>181.000000</td>\n",
       "      <td>C1305486145</td>\n",
       "      <td>181.0</td>\n",
       "      <td>0.000000</td>\n",
       "      <td>C553264065</td>\n",
       "      <td>0.0</td>\n",
       "      <td>0.0</td>\n",
       "      <td>1</td>\n",
       "      <td>0</td>\n",
       "    </tr>\n",
       "    <tr>\n",
       "      <th>3</th>\n",
       "      <td>1</td>\n",
       "      <td>CASH_OUT</td>\n",
       "      <td>181.000000</td>\n",
       "      <td>C840083671</td>\n",
       "      <td>181.0</td>\n",
       "      <td>0.000000</td>\n",
       "      <td>C38997010</td>\n",
       "      <td>21182.0</td>\n",
       "      <td>0.0</td>\n",
       "      <td>1</td>\n",
       "      <td>0</td>\n",
       "    </tr>\n",
       "    <tr>\n",
       "      <th>4</th>\n",
       "      <td>1</td>\n",
       "      <td>PAYMENT</td>\n",
       "      <td>11668.139648</td>\n",
       "      <td>C2048537720</td>\n",
       "      <td>41554.0</td>\n",
       "      <td>29885.859375</td>\n",
       "      <td>M1230701703</td>\n",
       "      <td>0.0</td>\n",
       "      <td>0.0</td>\n",
       "      <td>0</td>\n",
       "      <td>0</td>\n",
       "    </tr>\n",
       "  </tbody>\n",
       "</table>\n",
       "</div>"
      ],
      "text/plain": [
       "   step      type        amount     nameOrig  oldbalanceOrg  newbalanceOrig  \\\n",
       "0     1   PAYMENT   9839.639648  C1231006815       170136.0   160296.359375   \n",
       "1     1   PAYMENT   1864.280029  C1666544295        21249.0    19384.720703   \n",
       "2     1  TRANSFER    181.000000  C1305486145          181.0        0.000000   \n",
       "3     1  CASH_OUT    181.000000   C840083671          181.0        0.000000   \n",
       "4     1   PAYMENT  11668.139648  C2048537720        41554.0    29885.859375   \n",
       "\n",
       "      nameDest  oldbalanceDest  newbalanceDest  isFraud  isFlaggedFraud  \n",
       "0  M1979787155             0.0             0.0        0               0  \n",
       "1  M2044282225             0.0             0.0        0               0  \n",
       "2   C553264065             0.0             0.0        1               0  \n",
       "3    C38997010         21182.0             0.0        1               0  \n",
       "4  M1230701703             0.0             0.0        0               0  "
      ]
     },
     "execution_count": 11,
     "metadata": {},
     "output_type": "execute_result"
    }
   ],
   "source": [
    "sy.deserialize(blob=sy.serialize(obj=df))"
   ]
  },
  {
   "cell_type": "markdown",
   "metadata": {},
   "source": [
    "### Serialise and deserialise a simple dataframe"
   ]
  },
  {
   "cell_type": "code",
   "execution_count": 12,
   "metadata": {},
   "outputs": [
    {
     "data": {
      "text/plain": [
       "id {\n",
       "  value: \"\\233\\016\\343*VLO\\311\\242\\336i\\263\\265\\355Zo\"\n",
       "}\n",
       "obj_type: \"syft.lib.pandas.frame.PandasDataFrameWrapper\"\n",
       "data {\n",
       "  type_url: \"type.googleapis.com/syft.lib.pandas.PandasDataFrame\"\n",
       "  value: \"\\022\\354\\t\\n\\227\\001\\n\\036syft.lib.python.int.IntWrapper\\022u\\n\\022\\n\\020\\354J\\'\\344\\304\\347B\\364\\216\\035\\237\\247\\306\\352\\036\\000\\022\\036syft.lib.python.int.IntWrapper\\\"?\\n\\'type.googleapis.com/syft.lib.python.Int\\022\\024\\022\\022\\n\\020\\354J\\'\\344\\304\\347B\\364\\216\\035\\237\\247\\306\\352\\036\\000\\022\\273\\010\\n\\033syft.lib.python.DictWrapper\\022\\233\\010\\n\\022\\n\\020\\003\\216f\\225\\350iN\\246\\263g\\315\\332\\310\\371|\\006\\022\\033syft.lib.python.DictWrapper\\\"\\347\\007\\n(type.googleapis.com/syft.lib.python.Dict\\022\\272\\007\\n\\227\\001\\n\\036syft.lib.python.int.IntWrapper\\022u\\n\\022\\n\\020\\233v\\240\\242OIOO\\221/\\247\\273\\231\\254b\\274\\022\\036syft.lib.python.int.IntWrapper\\\"?\\n\\'type.googleapis.com/syft.lib.python.Int\\022\\024\\022\\022\\n\\020\\233v\\240\\242OIOO\\221/\\247\\273\\231\\254b\\274\\n\\231\\001\\n\\036syft.lib.python.int.IntWrapper\\022w\\n\\022\\n\\020\\336\\025|7\\023\\345E\\210\\237\\030\\016\\272i\\265\\367\\034\\022\\036syft.lib.python.int.IntWrapper\\\"A\\n\\'type.googleapis.com/syft.lib.python.Int\\022\\026\\010\\001\\022\\022\\n\\020\\336\\025|7\\023\\345E\\210\\237\\030\\016\\272i\\265\\367\\034\\n\\231\\001\\n\\036syft.lib.python.int.IntWrapper\\022w\\n\\022\\n\\020\\014\\r\\266\\t\\265\\366G\\317\\224\\246\\267\\273\\334(\\350\\032\\022\\036syft.lib.python.int.IntWrapper\\\"A\\n\\'type.googleapis.com/syft.lib.python.Int\\022\\026\\010\\002\\022\\022\\n\\020\\014\\r\\266\\t\\265\\366G\\317\\224\\246\\267\\273\\334(\\350\\032\\022\\231\\001\\n\\036syft.lib.python.int.IntWrapper\\022w\\n\\022\\n\\020<6\\312\\335\\362PK\\336\\232\\305\\\"\\326lx\\270^\\022\\036syft.lib.python.int.IntWrapper\\\"A\\n\\'type.googleapis.com/syft.lib.python.Int\\022\\026\\010\\001\\022\\022\\n\\020<6\\312\\335\\362PK\\336\\232\\305\\\"\\326lx\\270^\\022\\231\\001\\n\\036syft.lib.python.int.IntWrapper\\022w\\n\\022\\n\\020c9\\006X\\033wO\\354\\206\\253h9\\373D\\305\\212\\022\\036syft.lib.python.int.IntWrapper\\\"A\\n\\'type.googleapis.com/syft.lib.python.Int\\022\\026\\010\\002\\022\\022\\n\\020c9\\006X\\033wO\\354\\206\\253h9\\373D\\305\\212\\022\\231\\001\\n\\036syft.lib.python.int.IntWrapper\\022w\\n\\022\\n\\020\\254\\371\\020\\316#4B\\342\\276sm<\\\"\\350W@\\022\\036syft.lib.python.int.IntWrapper\\\"A\\n\\'type.googleapis.com/syft.lib.python.Int\\022\\026\\010\\003\\022\\022\\n\\020\\254\\371\\020\\316#4B\\342\\276sm<\\\"\\350W@\\032\\022\\n\\020\\003\\216f\\225\\350iN\\246\\263g\\315\\332\\310\\371|\\006\\032\\022\\n\\020\\203w<42\\375I\\016\\2216=\\324m6\\215w\"\n",
       "}"
      ]
     },
     "execution_count": 12,
     "metadata": {},
     "output_type": "execute_result"
    }
   ],
   "source": [
    "a = [1, 2, 3]\n",
    "b = pd.DataFrame(a)\n",
    "sy.serialize(obj=b)"
   ]
  },
  {
   "cell_type": "code",
   "execution_count": 13,
   "metadata": {},
   "outputs": [
    {
     "name": "stderr",
     "output_type": "stream",
     "text": [
      "/home/ben/code/om/PySyft/src/syft/core/store/storeable_object.py:199: UserWarning: Pandas doesn't allow columns to be created via a new attribute name - see https://pandas.pydata.org/pandas-docs/stable/indexing.html#attribute-access\n",
      "  result.read_permissions = {}\n",
      "/home/ben/code/om/PySyft/src/syft/core/store/storeable_object.py:200: UserWarning: Pandas doesn't allow columns to be created via a new attribute name - see https://pandas.pydata.org/pandas-docs/stable/indexing.html#attribute-access\n",
      "  result.search_permissions = {}\n"
     ]
    },
    {
     "data": {
      "text/html": [
       "<div>\n",
       "<style scoped>\n",
       "    .dataframe tbody tr th:only-of-type {\n",
       "        vertical-align: middle;\n",
       "    }\n",
       "\n",
       "    .dataframe tbody tr th {\n",
       "        vertical-align: top;\n",
       "    }\n",
       "\n",
       "    .dataframe thead th {\n",
       "        text-align: right;\n",
       "    }\n",
       "</style>\n",
       "<table border=\"1\" class=\"dataframe\">\n",
       "  <thead>\n",
       "    <tr style=\"text-align: right;\">\n",
       "      <th></th>\n",
       "      <th>0</th>\n",
       "    </tr>\n",
       "  </thead>\n",
       "  <tbody>\n",
       "    <tr>\n",
       "      <th>0</th>\n",
       "      <td>1</td>\n",
       "    </tr>\n",
       "    <tr>\n",
       "      <th>1</th>\n",
       "      <td>2</td>\n",
       "    </tr>\n",
       "    <tr>\n",
       "      <th>2</th>\n",
       "      <td>3</td>\n",
       "    </tr>\n",
       "  </tbody>\n",
       "</table>\n",
       "</div>"
      ],
      "text/plain": [
       "   0\n",
       "0  1\n",
       "1  2\n",
       "2  3"
      ]
     },
     "execution_count": 13,
     "metadata": {},
     "output_type": "execute_result"
    }
   ],
   "source": [
    "sy.deserialize(blob=sy.serialize(obj=b))"
   ]
  },
  {
   "cell_type": "markdown",
   "metadata": {},
   "source": [
    "### Grab data for a classifier\n",
    "\n",
    "_Convert the target var to a dataframe so we don't have to serialise `Series` yet_"
   ]
  },
  {
   "cell_type": "code",
   "execution_count": 14,
   "metadata": {},
   "outputs": [],
   "source": [
    "X = df[['amount', 'oldbalanceOrg', 'newbalanceOrig', 'oldbalanceDest', 'newbalanceDest']]\n",
    "Y = pd.DataFrame(df['isFraud'])"
   ]
  },
  {
   "cell_type": "markdown",
   "metadata": {},
   "source": [
    "### Local classifier\n",
    "\n",
    "_Train and predict on X_"
   ]
  },
  {
   "cell_type": "code",
   "execution_count": 15,
   "metadata": {},
   "outputs": [],
   "source": [
    "classifier = sklearn.linear_model.LogisticRegression()"
   ]
  },
  {
   "cell_type": "code",
   "execution_count": 16,
   "metadata": {},
   "outputs": [
    {
     "name": "stderr",
     "output_type": "stream",
     "text": [
      "/home/ben/.virtualenvs/PySyft-oY_gpCbr/lib/python3.8/site-packages/sklearn/utils/validation.py:63: DataConversionWarning: A column-vector y was passed when a 1d array was expected. Please change the shape of y to (n_samples, ), for example using ravel().\n",
      "  return f(*args, **kwargs)\n"
     ]
    },
    {
     "data": {
      "text/plain": [
       "LogisticRegression()"
      ]
     },
     "execution_count": 16,
     "metadata": {},
     "output_type": "execute_result"
    }
   ],
   "source": [
    "classifier.fit(X, Y)"
   ]
  },
  {
   "cell_type": "code",
   "execution_count": 17,
   "metadata": {},
   "outputs": [
    {
     "data": {
      "text/plain": [
       "array([0, 0, 1, 1, 0])"
      ]
     },
     "execution_count": 17,
     "metadata": {},
     "output_type": "execute_result"
    }
   ],
   "source": [
    "classifier.predict(X)"
   ]
  },
  {
   "cell_type": "markdown",
   "metadata": {},
   "source": [
    "### Remote classifier\n",
    "\n",
    "_Train and predict on X_"
   ]
  },
  {
   "cell_type": "code",
   "execution_count": 18,
   "metadata": {},
   "outputs": [],
   "source": [
    "remote_classifier = remote_sklearn.linear_model.LogisticRegression()"
   ]
  },
  {
   "cell_type": "code",
   "execution_count": 19,
   "metadata": {},
   "outputs": [
    {
     "name": "stderr",
     "output_type": "stream",
     "text": [
      "/home/ben/code/om/PySyft/src/syft/ast/klass.py:308: UserWarning: Pandas doesn't allow columns to be created via a new attribute name - see https://pandas.pydata.org/pandas-docs/stable/indexing.html#attribute-access\n",
      "  which_obj.tags = tags\n",
      "/home/ben/code/om/PySyft/src/syft/core/store/storeable_object.py:199: UserWarning: Pandas doesn't allow columns to be created via a new attribute name - see https://pandas.pydata.org/pandas-docs/stable/indexing.html#attribute-access\n",
      "  result.read_permissions = {}\n",
      "/home/ben/code/om/PySyft/src/syft/core/store/storeable_object.py:200: UserWarning: Pandas doesn't allow columns to be created via a new attribute name - see https://pandas.pydata.org/pandas-docs/stable/indexing.html#attribute-access\n",
      "  result.search_permissions = {}\n",
      "/home/ben/code/om/PySyft/src/syft/ast/klass.py:308: UserWarning: Pandas doesn't allow columns to be created via a new attribute name - see https://pandas.pydata.org/pandas-docs/stable/indexing.html#attribute-access\n",
      "  which_obj.tags = tags\n",
      "/home/ben/code/om/PySyft/src/syft/core/store/storeable_object.py:199: UserWarning: Pandas doesn't allow columns to be created via a new attribute name - see https://pandas.pydata.org/pandas-docs/stable/indexing.html#attribute-access\n",
      "  result.read_permissions = {}\n",
      "/home/ben/code/om/PySyft/src/syft/core/store/storeable_object.py:200: UserWarning: Pandas doesn't allow columns to be created via a new attribute name - see https://pandas.pydata.org/pandas-docs/stable/indexing.html#attribute-access\n",
      "  result.search_permissions = {}\n",
      "/home/ben/.virtualenvs/PySyft-oY_gpCbr/lib/python3.8/site-packages/sklearn/utils/validation.py:63: DataConversionWarning: A column-vector y was passed when a 1d array was expected. Please change the shape of y to (n_samples, ), for example using ravel().\n",
      "  return f(*args, **kwargs)\n"
     ]
    },
    {
     "data": {
      "text/plain": [
       "<syft.proxy.sklearn.linear_model.LogisticRegressionPointer at 0x7f1a57387d30>"
      ]
     },
     "execution_count": 19,
     "metadata": {},
     "output_type": "execute_result"
    }
   ],
   "source": [
    "remote_classifier.fit(X, Y)"
   ]
  },
  {
   "cell_type": "code",
   "execution_count": 20,
   "metadata": {},
   "outputs": [
    {
     "name": "stderr",
     "output_type": "stream",
     "text": [
      "/home/ben/code/om/PySyft/src/syft/core/store/storeable_object.py:199: UserWarning: Pandas doesn't allow columns to be created via a new attribute name - see https://pandas.pydata.org/pandas-docs/stable/indexing.html#attribute-access\n",
      "  result.read_permissions = {}\n",
      "/home/ben/code/om/PySyft/src/syft/core/store/storeable_object.py:200: UserWarning: Pandas doesn't allow columns to be created via a new attribute name - see https://pandas.pydata.org/pandas-docs/stable/indexing.html#attribute-access\n",
      "  result.search_permissions = {}\n"
     ]
    }
   ],
   "source": [
    "a = remote_classifier.predict(X)"
   ]
  },
  {
   "cell_type": "code",
   "execution_count": 21,
   "metadata": {},
   "outputs": [
    {
     "name": "stderr",
     "output_type": "stream",
     "text": [
      "/home/ben/code/om/PySyft/src/syft/core/store/storeable_object.py:199: UserWarning: Pandas doesn't allow columns to be created via a new attribute name - see https://pandas.pydata.org/pandas-docs/stable/indexing.html#attribute-access\n",
      "  result.read_permissions = {}\n",
      "/home/ben/code/om/PySyft/src/syft/core/store/storeable_object.py:200: UserWarning: Pandas doesn't allow columns to be created via a new attribute name - see https://pandas.pydata.org/pandas-docs/stable/indexing.html#attribute-access\n",
      "  result.search_permissions = {}\n"
     ]
    },
    {
     "data": {
      "text/html": [
       "<div>\n",
       "<style scoped>\n",
       "    .dataframe tbody tr th:only-of-type {\n",
       "        vertical-align: middle;\n",
       "    }\n",
       "\n",
       "    .dataframe tbody tr th {\n",
       "        vertical-align: top;\n",
       "    }\n",
       "\n",
       "    .dataframe thead th {\n",
       "        text-align: right;\n",
       "    }\n",
       "</style>\n",
       "<table border=\"1\" class=\"dataframe\">\n",
       "  <thead>\n",
       "    <tr style=\"text-align: right;\">\n",
       "      <th></th>\n",
       "      <th>0</th>\n",
       "    </tr>\n",
       "  </thead>\n",
       "  <tbody>\n",
       "    <tr>\n",
       "      <th>0</th>\n",
       "      <td>0</td>\n",
       "    </tr>\n",
       "    <tr>\n",
       "      <th>1</th>\n",
       "      <td>0</td>\n",
       "    </tr>\n",
       "    <tr>\n",
       "      <th>2</th>\n",
       "      <td>1</td>\n",
       "    </tr>\n",
       "    <tr>\n",
       "      <th>3</th>\n",
       "      <td>1</td>\n",
       "    </tr>\n",
       "    <tr>\n",
       "      <th>4</th>\n",
       "      <td>0</td>\n",
       "    </tr>\n",
       "  </tbody>\n",
       "</table>\n",
       "</div>"
      ],
      "text/plain": [
       "   0\n",
       "0  0\n",
       "1  0\n",
       "2  1\n",
       "3  1\n",
       "4  0"
      ]
     },
     "execution_count": 21,
     "metadata": {},
     "output_type": "execute_result"
    }
   ],
   "source": [
    "a.get()"
   ]
  }
 ],
 "metadata": {
  "kernelspec": {
   "display_name": "Python 3",
   "language": "python",
   "name": "python3"
  },
  "language_info": {
   "codemirror_mode": {
    "name": "ipython",
    "version": 3
   },
   "file_extension": ".py",
   "mimetype": "text/x-python",
   "name": "python",
   "nbconvert_exporter": "python",
   "pygments_lexer": "ipython3",
   "version": "3.8.5"
  }
 },
 "nbformat": 4,
 "nbformat_minor": 4
}

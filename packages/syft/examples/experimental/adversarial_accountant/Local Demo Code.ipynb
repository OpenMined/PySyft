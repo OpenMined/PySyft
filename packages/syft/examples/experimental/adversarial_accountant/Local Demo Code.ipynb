{
 "cells": [
  {
   "cell_type": "markdown",
   "metadata": {},
   "source": [
    "# Local Demo Code"
   ]
  },
  {
   "cell_type": "code",
   "execution_count": 1,
   "metadata": {},
   "outputs": [],
   "source": [
    "import numpy as np\n",
    "\n",
    "from syft.core.adp.scalar import PhiScalar\n",
    "from syft.core.adp.entity import Entity\n",
    "from syft.core.adp.adversarial_accountant import AdversarialAccountant\n",
    "from syft.core.adp.publish import publish\n",
    "\n",
    "from sqlalchemy import create_engine\n",
    "from syft.core.node.common.node_table import Base\n",
    "from syft.core.node.common.node_table.utils import seed_db\n",
    "from syft.core.node.common.node_table.utils import create_memory_db_engine\n",
    "from nacl.signing import SigningKey\n",
    "from nacl.signing import VerifyKey\n",
    "from nacl.encoding import HexEncoder\n",
    "from syft import Domain\n",
    "import syft as sy"
   ]
  },
  {
   "cell_type": "code",
   "execution_count": 2,
   "metadata": {},
   "outputs": [],
   "source": [
    "db_engine, SessionMaker = create_memory_db_engine()"
   ]
  },
  {
   "cell_type": "code",
   "execution_count": 3,
   "metadata": {},
   "outputs": [
    {
     "name": "stdout",
     "output_type": "stream",
     "text": [
      "Setup hasnt run yet so ignoring set_node_uid\n"
     ]
    }
   ],
   "source": [
    "domain = Domain(name=\"Bob\", db_engine=db_engine)"
   ]
  },
  {
   "cell_type": "code",
   "execution_count": 4,
   "metadata": {},
   "outputs": [],
   "source": [
    "def get_key() -> VerifyKey:\n",
    "    return SigningKey.generate()"
   ]
  },
  {
   "cell_type": "code",
   "execution_count": 5,
   "metadata": {},
   "outputs": [],
   "source": [
    "def encode_key(key) -> str:\n",
    "    return key.encode(encoder=HexEncoder).decode(\"utf-8\")"
   ]
  },
  {
   "cell_type": "code",
   "execution_count": 23,
   "metadata": {},
   "outputs": [],
   "source": [
    "client = domain.get_root_client()"
   ]
  },
  {
   "cell_type": "code",
   "execution_count": 25,
   "metadata": {},
   "outputs": [
    {
     "name": "stdout",
     "output_type": "stream",
     "text": [
      "a52d8361b27e6d0d14de4fc2ec520c580191075f06a9fc15c1bb622b00b5f8ea\n",
      "7e0937fe50e316cafb106f3fcea5ced0cff2769d565d9595784a81c21ea6a575\n"
     ]
    }
   ],
   "source": [
    "print(encode_key(client.signing_key))\n",
    "print(encode_key(client.verify_key))"
   ]
  },
  {
   "cell_type": "code",
   "execution_count": 26,
   "metadata": {},
   "outputs": [
    {
     "data": {
      "text/plain": [
       "<syft.core.node.common.node_table.user.SyftUser at 0x15df730a0>"
      ]
     },
     "execution_count": 26,
     "metadata": {},
     "output_type": "execute_result"
    }
   ],
   "source": [
    "# key = get_key()\n",
    "key = client.signing_key\n",
    "domain.users.signup(\n",
    "    name=\"Bob\", email=\"bob@gmail.com\", password=\"letmein\", budget=0.1, role=1,\n",
    "    private_key=encode_key(key), verify_key=encode_key(key.verify_key)\n",
    ")"
   ]
  },
  {
   "cell_type": "code",
   "execution_count": 31,
   "metadata": {},
   "outputs": [
    {
     "data": {
      "text/plain": [
       "'a52d8361b27e6d0d14de4fc2ec520c580191075f06a9fc15c1bb622b00b5f8ea'"
      ]
     },
     "execution_count": 31,
     "metadata": {},
     "output_type": "execute_result"
    }
   ],
   "source": [
    "domain.users.all()[1].private_key"
   ]
  },
  {
   "cell_type": "code",
   "execution_count": 32,
   "metadata": {},
   "outputs": [
    {
     "data": {
      "text/plain": [
       "'7e0937fe50e316cafb106f3fcea5ced0cff2769d565d9595784a81c21ea6a575'"
      ]
     },
     "execution_count": 32,
     "metadata": {},
     "output_type": "execute_result"
    }
   ],
   "source": [
    "domain.users.all()[1].verify_key"
   ]
  },
  {
   "cell_type": "code",
   "execution_count": 9,
   "metadata": {},
   "outputs": [],
   "source": [
    "# acc = AdversarialAccountant(max_budget=1000000, db_engine=db_engine)"
   ]
  },
  {
   "cell_type": "code",
   "execution_count": 10,
   "metadata": {},
   "outputs": [],
   "source": [
    "# x = PhiScalar(min_val=0,value=1,max_val=1) #.tag('x').send(duet)\n",
    "# y = PhiScalar(0,0.02,1) #.tag('y').send(duet)\n",
    "# z = PhiScalar(0,0.02,1) #.tag('z').send(duet)\n",
    "\n",
    "# p = x * x\n",
    "# o = p + (y*y) + z\n",
    "# z = o * o * o"
   ]
  },
  {
   "cell_type": "code",
   "execution_count": 33,
   "metadata": {},
   "outputs": [],
   "source": [
    "n = 10\n",
    "\n",
    "data = list()\n",
    "for i in range(n):\n",
    "    data.append(i+1)\n",
    "# Load some sample data\n",
    "data_batch = np.array(data)\n",
    "\n",
    "entities = list()\n",
    "for i in range(n):\n",
    "    entities.append(Entity(name=str(i)))\n",
    "\n",
    "# Upload a private dataset to the Domain object, as the root owner\n",
    "data = sy.Tensor(data_batch).private(0, 20, entities=entities).tag(\"data2\")\n",
    "# target = sy.Tensor(label_batch).private(0.01, 1, entity=ishan).autograd(requires_grad=True).tag(\"target2\")"
   ]
  },
  {
   "cell_type": "code",
   "execution_count": null,
   "metadata": {},
   "outputs": [],
   "source": []
  },
  {
   "cell_type": "code",
   "execution_count": null,
   "metadata": {},
   "outputs": [],
   "source": []
  },
  {
   "cell_type": "code",
   "execution_count": 34,
   "metadata": {},
   "outputs": [],
   "source": [
    "# Send data to the domain object\n",
    "data_ptr = data.send(client)"
   ]
  },
  {
   "cell_type": "code",
   "execution_count": 35,
   "metadata": {},
   "outputs": [
    {
     "data": {
      "text/html": [
       "<div>\n",
       "<style scoped>\n",
       "    .dataframe tbody tr th:only-of-type {\n",
       "        vertical-align: middle;\n",
       "    }\n",
       "\n",
       "    .dataframe tbody tr th {\n",
       "        vertical-align: top;\n",
       "    }\n",
       "\n",
       "    .dataframe thead th {\n",
       "        text-align: right;\n",
       "    }\n",
       "</style>\n",
       "<table border=\"1\" class=\"dataframe\">\n",
       "  <thead>\n",
       "    <tr style=\"text-align: right;\">\n",
       "      <th></th>\n",
       "      <th>ID</th>\n",
       "      <th>Tags</th>\n",
       "      <th>Description</th>\n",
       "      <th>object_type</th>\n",
       "    </tr>\n",
       "  </thead>\n",
       "  <tbody>\n",
       "    <tr>\n",
       "      <th>0</th>\n",
       "      <td>&lt;UID: 6e022a646f204ebfb78972589700a406&gt;</td>\n",
       "      <td>[data2]</td>\n",
       "      <td></td>\n",
       "      <td>&lt;class 'syft.core.tensor.tensor.Tensor'&gt;</td>\n",
       "    </tr>\n",
       "    <tr>\n",
       "      <th>1</th>\n",
       "      <td>&lt;UID: 96c257fd19f5484a9b83b5a1c3354054&gt;</td>\n",
       "      <td>[data2]</td>\n",
       "      <td></td>\n",
       "      <td>&lt;class 'syft.core.tensor.tensor.Tensor'&gt;</td>\n",
       "    </tr>\n",
       "    <tr>\n",
       "      <th>2</th>\n",
       "      <td>&lt;UID: a2a99c0e245c44788d76c6729760cf06&gt;</td>\n",
       "      <td>[]</td>\n",
       "      <td></td>\n",
       "      <td>&lt;class 'syft.lib.python.Int'&gt;</td>\n",
       "    </tr>\n",
       "    <tr>\n",
       "      <th>3</th>\n",
       "      <td>&lt;UID: b1f878930cf64bac8f69345346ffd347&gt;</td>\n",
       "      <td>[]</td>\n",
       "      <td></td>\n",
       "      <td>&lt;class 'syft.lib.python.Int'&gt;</td>\n",
       "    </tr>\n",
       "    <tr>\n",
       "      <th>4</th>\n",
       "      <td>&lt;UID: d8c08ee016cb49388e67276c8bb086c2&gt;</td>\n",
       "      <td>[data2, sum, __truediv__]</td>\n",
       "      <td></td>\n",
       "      <td>&lt;class 'syft.core.tensor.tensor.Tensor'&gt;</td>\n",
       "    </tr>\n",
       "  </tbody>\n",
       "</table>\n",
       "</div>"
      ],
      "text/plain": [
       "[<syft.proxy.syft.core.tensor.tensor.TensorPointer object at 0x15e4443d0>, <syft.proxy.syft.core.tensor.tensor.TensorPointer object at 0x15e444250>, <syft.proxy.syft.lib.python.IntPointer object at 0x15e444880>, <syft.proxy.syft.lib.python.IntPointer object at 0x15e4444f0>, <syft.proxy.syft.core.tensor.tensor.TensorPointer object at 0x15e444850>]"
      ]
     },
     "execution_count": 35,
     "metadata": {},
     "output_type": "execute_result"
    }
   ],
   "source": [
    "client.store"
   ]
  },
  {
   "cell_type": "code",
   "execution_count": 37,
   "metadata": {},
   "outputs": [],
   "source": [
    "data_ptr2 = client.store['6e022a646f204ebfb78972589700a406']\n",
    "# target_ptr = uk.store['target']"
   ]
  },
  {
   "cell_type": "code",
   "execution_count": 38,
   "metadata": {},
   "outputs": [],
   "source": [
    "s_ptr = data_ptr2.sum(0) / 1"
   ]
  },
  {
   "cell_type": "code",
   "execution_count": 39,
   "metadata": {},
   "outputs": [
    {
     "name": "stdout",
     "output_type": "stream",
     "text": [
      "a\n",
      "b\n",
      "c\n",
      "\n",
      "\n",
      "PROCESSING PUBLISH SCALAR ACTION!!!\n",
      "\n",
      "\n",
      "Verify Key:<class 'nacl.signing.VerifyKey'>\n",
      "<syft.core.node.common.node_manager.ledger_manager.LedgerManager object at 0x15d7b29d0>\n",
      "<syft.core.adp.adversarial_accountant.AdversarialAccountant object at 0x15d7b29a0>\n",
      "Num mechanisms before TEMP:0\n",
      "self.temp_entity2ledger:{<Entity:7>: [<syft.core.adp.idp_gaussian_mechanism.iDPGaussianMechanism object at 0x15db755b0>], <Entity:2>: [<syft.core.adp.idp_gaussian_mechanism.iDPGaussianMechanism object at 0x15e444100>], <Entity:1>: [<syft.core.adp.idp_gaussian_mechanism.iDPGaussianMechanism object at 0x15e444310>], <Entity:5>: [<syft.core.adp.idp_gaussian_mechanism.iDPGaussianMechanism object at 0x15e414e80>], <Entity:3>: [<syft.core.adp.idp_gaussian_mechanism.iDPGaussianMechanism object at 0x15db725b0>], <Entity:8>: [<syft.core.adp.idp_gaussian_mechanism.iDPGaussianMechanism object at 0x15e3f9f70>], <Entity:0>: [<syft.core.adp.idp_gaussian_mechanism.iDPGaussianMechanism object at 0x15e444a30>], <Entity:9>: [<syft.core.adp.idp_gaussian_mechanism.iDPGaussianMechanism object at 0x15e425370>], <Entity:4>: [<syft.core.adp.idp_gaussian_mechanism.iDPGaussianMechanism object at 0x15e377220>], <Entity:6>: [<syft.core.adp.idp_gaussian_mechanism.iDPGaussianMechanism object at 0x15e3779d0>]}\n",
      "Num mechanisms after TEMP:1\n",
      "Epsilon1798.2129229648924\n",
      "SPEND:1798.2129229648924\n",
      "what does this query use 7e0937fe50e316cafb106f3fcea5ced0cff2769d565d9595784a81c21ea6a575\n",
      "USER BUDGET:0.1\n",
      "has_budget = 1798.2129229648924 < 0.1\n",
      "Num mechanisms before TEMP:0\n",
      "self.temp_entity2ledger:{<Entity:7>: [<syft.core.adp.idp_gaussian_mechanism.iDPGaussianMechanism object at 0x15db755b0>], <Entity:2>: [<syft.core.adp.idp_gaussian_mechanism.iDPGaussianMechanism object at 0x15e444100>], <Entity:1>: [<syft.core.adp.idp_gaussian_mechanism.iDPGaussianMechanism object at 0x15e444310>], <Entity:5>: [<syft.core.adp.idp_gaussian_mechanism.iDPGaussianMechanism object at 0x15e414e80>], <Entity:3>: [<syft.core.adp.idp_gaussian_mechanism.iDPGaussianMechanism object at 0x15db725b0>], <Entity:8>: [<syft.core.adp.idp_gaussian_mechanism.iDPGaussianMechanism object at 0x15e3f9f70>], <Entity:0>: [<syft.core.adp.idp_gaussian_mechanism.iDPGaussianMechanism object at 0x15e444a30>], <Entity:9>: [<syft.core.adp.idp_gaussian_mechanism.iDPGaussianMechanism object at 0x15e425370>], <Entity:4>: [<syft.core.adp.idp_gaussian_mechanism.iDPGaussianMechanism object at 0x15e377220>], <Entity:6>: [<syft.core.adp.idp_gaussian_mechanism.iDPGaussianMechanism object at 0x15e3779d0>]}\n",
      "Num mechanisms after TEMP:1\n",
      "Epsilon1798.2129229648924\n",
      "SPEND:1798.2129229648924\n",
      "what does this query use 7e0937fe50e316cafb106f3fcea5ced0cff2769d565d9595784a81c21ea6a575\n",
      "USER BUDGET:0.1\n",
      "has_budget = 1798.2129229648924 < 0.1\n",
      "Num mechanisms before TEMP:0\n",
      "self.temp_entity2ledger:{<Entity:7>: [<syft.core.adp.idp_gaussian_mechanism.iDPGaussianMechanism object at 0x15db755b0>], <Entity:2>: [<syft.core.adp.idp_gaussian_mechanism.iDPGaussianMechanism object at 0x15e444100>], <Entity:1>: [<syft.core.adp.idp_gaussian_mechanism.iDPGaussianMechanism object at 0x15e444310>], <Entity:5>: [<syft.core.adp.idp_gaussian_mechanism.iDPGaussianMechanism object at 0x15e414e80>], <Entity:3>: [<syft.core.adp.idp_gaussian_mechanism.iDPGaussianMechanism object at 0x15db725b0>], <Entity:8>: [<syft.core.adp.idp_gaussian_mechanism.iDPGaussianMechanism object at 0x15e3f9f70>], <Entity:0>: [<syft.core.adp.idp_gaussian_mechanism.iDPGaussianMechanism object at 0x15e444a30>], <Entity:9>: [<syft.core.adp.idp_gaussian_mechanism.iDPGaussianMechanism object at 0x15e425370>], <Entity:4>: [<syft.core.adp.idp_gaussian_mechanism.iDPGaussianMechanism object at 0x15e377220>], <Entity:6>: [<syft.core.adp.idp_gaussian_mechanism.iDPGaussianMechanism object at 0x15e3779d0>]}\n",
      "Num mechanisms after TEMP:1\n",
      "Epsilon1798.2129229648924\n",
      "SPEND:1798.2129229648924\n",
      "what does this query use 7e0937fe50e316cafb106f3fcea5ced0cff2769d565d9595784a81c21ea6a575\n",
      "USER BUDGET:0.1\n",
      "has_budget = 1798.2129229648924 < 0.1\n",
      "Num mechanisms before TEMP:0\n",
      "self.temp_entity2ledger:{<Entity:7>: [<syft.core.adp.idp_gaussian_mechanism.iDPGaussianMechanism object at 0x15db755b0>], <Entity:2>: [<syft.core.adp.idp_gaussian_mechanism.iDPGaussianMechanism object at 0x15e444100>], <Entity:1>: [<syft.core.adp.idp_gaussian_mechanism.iDPGaussianMechanism object at 0x15e444310>], <Entity:5>: [<syft.core.adp.idp_gaussian_mechanism.iDPGaussianMechanism object at 0x15e414e80>], <Entity:3>: [<syft.core.adp.idp_gaussian_mechanism.iDPGaussianMechanism object at 0x15db725b0>], <Entity:8>: [<syft.core.adp.idp_gaussian_mechanism.iDPGaussianMechanism object at 0x15e3f9f70>], <Entity:0>: [<syft.core.adp.idp_gaussian_mechanism.iDPGaussianMechanism object at 0x15e444a30>], <Entity:9>: [<syft.core.adp.idp_gaussian_mechanism.iDPGaussianMechanism object at 0x15e425370>], <Entity:4>: [<syft.core.adp.idp_gaussian_mechanism.iDPGaussianMechanism object at 0x15e377220>], <Entity:6>: [<syft.core.adp.idp_gaussian_mechanism.iDPGaussianMechanism object at 0x15e3779d0>]}\n",
      "Num mechanisms after TEMP:1\n",
      "Epsilon1798.2129229648924\n",
      "SPEND:1798.2129229648924\n",
      "what does this query use 7e0937fe50e316cafb106f3fcea5ced0cff2769d565d9595784a81c21ea6a575\n",
      "USER BUDGET:0.1\n",
      "has_budget = 1798.2129229648924 < 0.1\n",
      "Num mechanisms before TEMP:0\n",
      "self.temp_entity2ledger:{<Entity:7>: [<syft.core.adp.idp_gaussian_mechanism.iDPGaussianMechanism object at 0x15db755b0>], <Entity:2>: [<syft.core.adp.idp_gaussian_mechanism.iDPGaussianMechanism object at 0x15e444100>], <Entity:1>: [<syft.core.adp.idp_gaussian_mechanism.iDPGaussianMechanism object at 0x15e444310>], <Entity:5>: [<syft.core.adp.idp_gaussian_mechanism.iDPGaussianMechanism object at 0x15e414e80>], <Entity:3>: [<syft.core.adp.idp_gaussian_mechanism.iDPGaussianMechanism object at 0x15db725b0>], <Entity:8>: [<syft.core.adp.idp_gaussian_mechanism.iDPGaussianMechanism object at 0x15e3f9f70>], <Entity:0>: [<syft.core.adp.idp_gaussian_mechanism.iDPGaussianMechanism object at 0x15e444a30>], <Entity:9>: [<syft.core.adp.idp_gaussian_mechanism.iDPGaussianMechanism object at 0x15e425370>], <Entity:4>: [<syft.core.adp.idp_gaussian_mechanism.iDPGaussianMechanism object at 0x15e377220>], <Entity:6>: [<syft.core.adp.idp_gaussian_mechanism.iDPGaussianMechanism object at 0x15e3779d0>]}\n",
      "Num mechanisms after TEMP:1\n",
      "Epsilon1798.2129229648924\n",
      "SPEND:1798.2129229648924\n",
      "what does this query use 7e0937fe50e316cafb106f3fcea5ced0cff2769d565d9595784a81c21ea6a575\n",
      "USER BUDGET:0.1\n",
      "has_budget = 1798.2129229648924 < 0.1\n",
      "Num mechanisms before TEMP:0\n",
      "self.temp_entity2ledger:{<Entity:7>: [<syft.core.adp.idp_gaussian_mechanism.iDPGaussianMechanism object at 0x15db755b0>], <Entity:2>: [<syft.core.adp.idp_gaussian_mechanism.iDPGaussianMechanism object at 0x15e444100>], <Entity:1>: [<syft.core.adp.idp_gaussian_mechanism.iDPGaussianMechanism object at 0x15e444310>], <Entity:5>: [<syft.core.adp.idp_gaussian_mechanism.iDPGaussianMechanism object at 0x15e414e80>], <Entity:3>: [<syft.core.adp.idp_gaussian_mechanism.iDPGaussianMechanism object at 0x15db725b0>], <Entity:8>: [<syft.core.adp.idp_gaussian_mechanism.iDPGaussianMechanism object at 0x15e3f9f70>], <Entity:0>: [<syft.core.adp.idp_gaussian_mechanism.iDPGaussianMechanism object at 0x15e444a30>], <Entity:9>: [<syft.core.adp.idp_gaussian_mechanism.iDPGaussianMechanism object at 0x15e425370>], <Entity:4>: [<syft.core.adp.idp_gaussian_mechanism.iDPGaussianMechanism object at 0x15e377220>], <Entity:6>: [<syft.core.adp.idp_gaussian_mechanism.iDPGaussianMechanism object at 0x15e3779d0>]}\n",
      "Num mechanisms after TEMP:1\n",
      "Epsilon1798.2129229648924\n",
      "SPEND:1798.2129229648924\n",
      "what does this query use 7e0937fe50e316cafb106f3fcea5ced0cff2769d565d9595784a81c21ea6a575\n",
      "USER BUDGET:0.1\n",
      "has_budget = 1798.2129229648924 < 0.1\n",
      "Num mechanisms before TEMP:0\n",
      "self.temp_entity2ledger:{<Entity:7>: [<syft.core.adp.idp_gaussian_mechanism.iDPGaussianMechanism object at 0x15db755b0>], <Entity:2>: [<syft.core.adp.idp_gaussian_mechanism.iDPGaussianMechanism object at 0x15e444100>], <Entity:1>: [<syft.core.adp.idp_gaussian_mechanism.iDPGaussianMechanism object at 0x15e444310>], <Entity:5>: [<syft.core.adp.idp_gaussian_mechanism.iDPGaussianMechanism object at 0x15e414e80>], <Entity:3>: [<syft.core.adp.idp_gaussian_mechanism.iDPGaussianMechanism object at 0x15db725b0>], <Entity:8>: [<syft.core.adp.idp_gaussian_mechanism.iDPGaussianMechanism object at 0x15e3f9f70>], <Entity:0>: [<syft.core.adp.idp_gaussian_mechanism.iDPGaussianMechanism object at 0x15e444a30>], <Entity:9>: [<syft.core.adp.idp_gaussian_mechanism.iDPGaussianMechanism object at 0x15e425370>], <Entity:4>: [<syft.core.adp.idp_gaussian_mechanism.iDPGaussianMechanism object at 0x15e377220>], <Entity:6>: [<syft.core.adp.idp_gaussian_mechanism.iDPGaussianMechanism object at 0x15e3779d0>]}\n",
      "Num mechanisms after TEMP:1\n",
      "Epsilon1798.2129229648924\n",
      "SPEND:1798.2129229648924\n",
      "what does this query use 7e0937fe50e316cafb106f3fcea5ced0cff2769d565d9595784a81c21ea6a575\n",
      "USER BUDGET:0.1\n",
      "has_budget = 1798.2129229648924 < 0.1\n",
      "Num mechanisms before TEMP:0\n",
      "self.temp_entity2ledger:{<Entity:7>: [<syft.core.adp.idp_gaussian_mechanism.iDPGaussianMechanism object at 0x15db755b0>], <Entity:2>: [<syft.core.adp.idp_gaussian_mechanism.iDPGaussianMechanism object at 0x15e444100>], <Entity:1>: [<syft.core.adp.idp_gaussian_mechanism.iDPGaussianMechanism object at 0x15e444310>], <Entity:5>: [<syft.core.adp.idp_gaussian_mechanism.iDPGaussianMechanism object at 0x15e414e80>], <Entity:3>: [<syft.core.adp.idp_gaussian_mechanism.iDPGaussianMechanism object at 0x15db725b0>], <Entity:8>: [<syft.core.adp.idp_gaussian_mechanism.iDPGaussianMechanism object at 0x15e3f9f70>], <Entity:0>: [<syft.core.adp.idp_gaussian_mechanism.iDPGaussianMechanism object at 0x15e444a30>], <Entity:9>: [<syft.core.adp.idp_gaussian_mechanism.iDPGaussianMechanism object at 0x15e425370>], <Entity:4>: [<syft.core.adp.idp_gaussian_mechanism.iDPGaussianMechanism object at 0x15e377220>], <Entity:6>: [<syft.core.adp.idp_gaussian_mechanism.iDPGaussianMechanism object at 0x15e3779d0>]}\n",
      "Num mechanisms after TEMP:1\n",
      "Epsilon1798.2129229648924\n",
      "SPEND:1798.2129229648924\n",
      "what does this query use 7e0937fe50e316cafb106f3fcea5ced0cff2769d565d9595784a81c21ea6a575\n",
      "USER BUDGET:0.1\n",
      "has_budget = 1798.2129229648924 < 0.1\n",
      "Num mechanisms before TEMP:0\n",
      "self.temp_entity2ledger:{<Entity:7>: [<syft.core.adp.idp_gaussian_mechanism.iDPGaussianMechanism object at 0x15db755b0>], <Entity:2>: [<syft.core.adp.idp_gaussian_mechanism.iDPGaussianMechanism object at 0x15e444100>], <Entity:1>: [<syft.core.adp.idp_gaussian_mechanism.iDPGaussianMechanism object at 0x15e444310>], <Entity:5>: [<syft.core.adp.idp_gaussian_mechanism.iDPGaussianMechanism object at 0x15e414e80>], <Entity:3>: [<syft.core.adp.idp_gaussian_mechanism.iDPGaussianMechanism object at 0x15db725b0>], <Entity:8>: [<syft.core.adp.idp_gaussian_mechanism.iDPGaussianMechanism object at 0x15e3f9f70>], <Entity:0>: [<syft.core.adp.idp_gaussian_mechanism.iDPGaussianMechanism object at 0x15e444a30>], <Entity:9>: [<syft.core.adp.idp_gaussian_mechanism.iDPGaussianMechanism object at 0x15e425370>], <Entity:4>: [<syft.core.adp.idp_gaussian_mechanism.iDPGaussianMechanism object at 0x15e377220>], <Entity:6>: [<syft.core.adp.idp_gaussian_mechanism.iDPGaussianMechanism object at 0x15e3779d0>]}\n",
      "Num mechanisms after TEMP:1\n",
      "Epsilon1798.2129229648924\n",
      "SPEND:1798.2129229648924\n",
      "what does this query use 7e0937fe50e316cafb106f3fcea5ced0cff2769d565d9595784a81c21ea6a575\n",
      "USER BUDGET:0.1\n",
      "has_budget = 1798.2129229648924 < 0.1\n",
      "Num mechanisms before TEMP:0\n",
      "self.temp_entity2ledger:{<Entity:7>: [<syft.core.adp.idp_gaussian_mechanism.iDPGaussianMechanism object at 0x15db755b0>], <Entity:2>: [<syft.core.adp.idp_gaussian_mechanism.iDPGaussianMechanism object at 0x15e444100>], <Entity:1>: [<syft.core.adp.idp_gaussian_mechanism.iDPGaussianMechanism object at 0x15e444310>], <Entity:5>: [<syft.core.adp.idp_gaussian_mechanism.iDPGaussianMechanism object at 0x15e414e80>], <Entity:3>: [<syft.core.adp.idp_gaussian_mechanism.iDPGaussianMechanism object at 0x15db725b0>], <Entity:8>: [<syft.core.adp.idp_gaussian_mechanism.iDPGaussianMechanism object at 0x15e3f9f70>], <Entity:0>: [<syft.core.adp.idp_gaussian_mechanism.iDPGaussianMechanism object at 0x15e444a30>], <Entity:9>: [<syft.core.adp.idp_gaussian_mechanism.iDPGaussianMechanism object at 0x15e425370>], <Entity:4>: [<syft.core.adp.idp_gaussian_mechanism.iDPGaussianMechanism object at 0x15e377220>], <Entity:6>: [<syft.core.adp.idp_gaussian_mechanism.iDPGaussianMechanism object at 0x15e3779d0>]}\n",
      "Num mechanisms after TEMP:1\n",
      "Epsilon1798.2129229648924\n",
      "SPEND:1798.2129229648924\n",
      "what does this query use 7e0937fe50e316cafb106f3fcea5ced0cff2769d565d9595784a81c21ea6a575\n",
      "USER BUDGET:0.1\n",
      "has_budget = 1798.2129229648924 < 0.1\n",
      "\n",
      "\n",
      " QUERY IS OVER BUDGET!!! \n",
      "\n",
      "\n",
      "d\n"
     ]
    }
   ],
   "source": [
    "out = s_ptr.publish(client=client, sigma=1)"
   ]
  },
  {
   "cell_type": "code",
   "execution_count": 43,
   "metadata": {},
   "outputs": [
    {
     "data": {
      "text/plain": [
       "Tensor(child=[0.6586384])"
      ]
     },
     "execution_count": 43,
     "metadata": {},
     "output_type": "execute_result"
    }
   ],
   "source": [
    "out.get()"
   ]
  },
  {
   "cell_type": "code",
   "execution_count": 40,
   "metadata": {},
   "outputs": [
    {
     "data": {
      "text/plain": [
       "(0, 0)"
      ]
     },
     "execution_count": 40,
     "metadata": {},
     "output_type": "execute_result"
    }
   ],
   "source": [
    "len(domain.acc.entities), len(domain.acc.entity2ledger)"
   ]
  },
  {
   "cell_type": "code",
   "execution_count": 41,
   "metadata": {},
   "outputs": [
    {
     "ename": "NameError",
     "evalue": "name 'z' is not defined",
     "output_type": "error",
     "traceback": [
      "\u001b[0;31m---------------------------------------------------------------------------\u001b[0m",
      "\u001b[0;31mNameError\u001b[0m                                 Traceback (most recent call last)",
      "\u001b[0;32m/var/folders/3r/2gwlx_5511nf3r555rv0bwc40000gn/T/ipykernel_44517/336332334.py\u001b[0m in \u001b[0;36m<module>\u001b[0;34m\u001b[0m\n\u001b[0;32m----> 1\u001b[0;31m \u001b[0mx_pub\u001b[0m \u001b[0;34m=\u001b[0m \u001b[0mz\u001b[0m\u001b[0;34m.\u001b[0m\u001b[0mpublish\u001b[0m\u001b[0;34m(\u001b[0m\u001b[0macc\u001b[0m\u001b[0;34m=\u001b[0m\u001b[0mdomain\u001b[0m\u001b[0;34m.\u001b[0m\u001b[0macc\u001b[0m\u001b[0;34m,\u001b[0m \u001b[0msigma\u001b[0m\u001b[0;34m=\u001b[0m\u001b[0;36m1\u001b[0m\u001b[0;34m,\u001b[0m \u001b[0muser_key\u001b[0m\u001b[0;34m=\u001b[0m\u001b[0mkey\u001b[0m\u001b[0;34m.\u001b[0m\u001b[0mverify_key\u001b[0m\u001b[0;34m)\u001b[0m\u001b[0;34m\u001b[0m\u001b[0;34m\u001b[0m\u001b[0m\n\u001b[0m\u001b[1;32m      2\u001b[0m \u001b[0;31m# acc.print_ledger()\u001b[0m\u001b[0;34m\u001b[0m\u001b[0;34m\u001b[0m\u001b[0;34m\u001b[0m\u001b[0m\n",
      "\u001b[0;31mNameError\u001b[0m: name 'z' is not defined"
     ]
    }
   ],
   "source": [
    "x_pub = z.publish(acc=domain.acc, sigma=1, user_key=key.verify_key)\n",
    "# acc.print_ledger()"
   ]
  },
  {
   "cell_type": "code",
   "execution_count": 42,
   "metadata": {},
   "outputs": [
    {
     "data": {
      "text/plain": [
       "(0, 0)"
      ]
     },
     "execution_count": 42,
     "metadata": {},
     "output_type": "execute_result"
    }
   ],
   "source": [
    "len(domain.acc.entities), len(domain.acc.entity2ledger)"
   ]
  },
  {
   "cell_type": "code",
   "execution_count": null,
   "metadata": {},
   "outputs": [],
   "source": [
    "x_pub"
   ]
  },
  {
   "cell_type": "code",
   "execution_count": null,
   "metadata": {},
   "outputs": [],
   "source": []
  },
  {
   "cell_type": "code",
   "execution_count": null,
   "metadata": {},
   "outputs": [],
   "source": []
  },
  {
   "cell_type": "code",
   "execution_count": null,
   "metadata": {},
   "outputs": [],
   "source": [
    "from syft.core.tensor.tensor import Tensor\n",
    "from syft.core.adp.entity import Entity\n",
    "import numpy as np\n",
    "from syft.core.adp.adversarial_accountant import AdversarialAccountant\n",
    "import syft as sy"
   ]
  },
  {
   "cell_type": "code",
   "execution_count": null,
   "metadata": {},
   "outputs": [],
   "source": [
    "gonzalo = Entity(name=\"Gonzalo\")\n",
    "x = Tensor(np.array([1,2,3,4,5]))"
   ]
  },
  {
   "cell_type": "code",
   "execution_count": null,
   "metadata": {},
   "outputs": [],
   "source": [
    "x = x.private(min_val=2,max_val=5,entity=gonzalo)"
   ]
  },
  {
   "cell_type": "code",
   "execution_count": null,
   "metadata": {},
   "outputs": [],
   "source": []
  },
  {
   "cell_type": "code",
   "execution_count": null,
   "metadata": {},
   "outputs": [],
   "source": []
  },
  {
   "cell_type": "code",
   "execution_count": null,
   "metadata": {},
   "outputs": [],
   "source": [
    "acc = AdversarialAccountant(max_budget=1000000)"
   ]
  },
  {
   "cell_type": "code",
   "execution_count": null,
   "metadata": {},
   "outputs": [],
   "source": [
    "x.gamma.publish(acc=acc, sigma=0.5)"
   ]
  },
  {
   "cell_type": "code",
   "execution_count": null,
   "metadata": {},
   "outputs": [],
   "source": [
    "x.max_vals"
   ]
  },
  {
   "cell_type": "code",
   "execution_count": null,
   "metadata": {},
   "outputs": [],
   "source": [
    "x.min_vals"
   ]
  },
  {
   "cell_type": "code",
   "execution_count": null,
   "metadata": {},
   "outputs": [],
   "source": [
    "y = x > 3"
   ]
  },
  {
   "cell_type": "code",
   "execution_count": null,
   "metadata": {},
   "outputs": [],
   "source": [
    "y"
   ]
  },
  {
   "cell_type": "code",
   "execution_count": null,
   "metadata": {},
   "outputs": [],
   "source": [
    "y.max_vals"
   ]
  },
  {
   "cell_type": "code",
   "execution_count": null,
   "metadata": {},
   "outputs": [],
   "source": [
    "y.min_vals"
   ]
  },
  {
   "cell_type": "code",
   "execution_count": null,
   "metadata": {},
   "outputs": [],
   "source": []
  }
 ],
 "metadata": {
  "kernelspec": {
   "display_name": "Python 3",
   "language": "python",
   "name": "python3"
  },
  "language_info": {
   "codemirror_mode": {
    "name": "ipython",
    "version": 3
   },
   "file_extension": ".py",
   "mimetype": "text/x-python",
   "name": "python",
   "nbconvert_exporter": "python",
   "pygments_lexer": "ipython3",
   "version": "3.7.9"
  }
 },
 "nbformat": 4,
 "nbformat_minor": 4
}

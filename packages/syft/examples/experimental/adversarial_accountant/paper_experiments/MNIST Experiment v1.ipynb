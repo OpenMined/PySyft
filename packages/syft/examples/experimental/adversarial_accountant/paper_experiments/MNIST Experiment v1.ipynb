{
 "cells": [
  {
   "cell_type": "markdown",
   "metadata": {},
   "source": [
    "# Reproducing Vitaly Feldman MNIST Results\n",
    "\n",
    "The goal of this notebook is to reproduce the results in https://arxiv.org/abs/2008.11193 which are based on the MNIST model from https://github.com/pytorch/opacus/blob/master/examples/mnist.py"
   ]
  },
  {
   "cell_type": "code",
   "execution_count": 11,
   "metadata": {},
   "outputs": [],
   "source": [
    "import numpy as np\n",
    "import syft as sy\n",
    "from syft.core.tensor.tensor import Tensor\n",
    "from syft.core.adp.entity import Entity\n",
    "from syft.core.adp.adversarial_accountant import AdversarialAccountant\n",
    "from collections import defaultdict\n",
    "\n",
    "data_batch = np.random.rand(4,2)\n",
    "label_batch = np.random.rand(4,10)  \n",
    "\n",
    "class DataSubjectGuardianOfTheGalaxy():\n",
    "    \"\"\"One of these per domain\"\"\"\n",
    "    \n",
    "    def __init__(self, enforce_unique_attrs=['name', 'email']):\n",
    "        \"\"\"\"\"\"\n",
    "        self.enforce_unique_attrs = enforce_unique_attrs\n",
    "        self.entity_id2obj = {}\n",
    "        \n",
    "        self.unique_attr2entity_id = defaultdict(dict)\n",
    "        \n",
    "        # verfiy_key-to-accountant mapping\n",
    "        self.accountants = {}\n",
    "        \n",
    "        # the idea with the symbol factory is that a session with a data scientist\n",
    "        # will have a unique SymbolFactory for the length of that session (this is\n",
    "        # different from an accountant which a data scientist is stuck with for life).\n",
    "        # A Symbol Factory is an object which produces symbols (mapped to prime numbers)\n",
    "        # whenever a PhiTensor is turned into a GammaTensor. Thus, the Symbol Factory\n",
    "        # can be re-initialized every time a data scientist creates a new session on a worker. However,\n",
    "        # if ever the data scientist were to save some intermediate variables across sessions or,\n",
    "        # to transfer a variable from one of their workers to another,\n",
    "        # they would also need to bring across the symbol factory associated with those variables.\n",
    "        # The main issue is that a symbol factory is what allows the privacy logic in gammatensor to\n",
    "        # know when it's dealing with the same symbol twice or two different symbols. \n",
    "        \n",
    "    def register_data_subject(self, **attributes):\n",
    "        \"\"\"\"\"\"\n",
    "        \n",
    "        for attr in self.enforce_unique_attrs:\n",
    "            if attr not in attributes.keys():\n",
    "                raise Exception(\"The DataSubjectGuardian for your node requires you to \"+\\\n",
    "                                \"specify a unique \" + str(attr) + \" for every data subject. \"+\\\n",
    "                               \"Please specify email=<their email> in register_entity() method.\")\n",
    "        \n",
    "        ent = Entity(**attributes)\n",
    "\n",
    "        for attr in self.enforce_unique_attrs:\n",
    "            try:\n",
    "                self.unique_attr2entity_id[attr][ent.attributes[attr]] = ent.id\n",
    "            except KeyError as e:\n",
    "                print(e)\n",
    "                raise KeyError(\"'\" + str(attr) + \"' attribute must be unique '\" + str(attributes[attr]) + \\\n",
    "                               \"' has already been claimed by another entity.\")\n",
    "                \n",
    "        return ent\n",
    "    \n",
    "    @property\n",
    "    def symbol_factory(self):\n",
    "        return self._symbol_factory\n",
    "\n",
    "import sympy as sp    \n",
    "class PrimeFactory:\n",
    "\n",
    "    \"\"\"IMPORTANT: it's very important that two tensors be able to tell that\n",
    "    they are indeed referencing the EXACT same PrimeFactory. At present this is done\n",
    "    by ensuring that it is literally the same python object. In the future, we will probaby\n",
    "    need to formalize this. However, the main way this could go wrong is if we created some\n",
    "    alternate way for checking to see if two prime factories 'sortof looked the same' but which\n",
    "    in fact weren't the EXACT same object. This could lead to security leaks wherein two tensors\n",
    "    think two different symbols in fact are the same symbol.\"\"\"\n",
    "\n",
    "    def __init__(self):\n",
    "        self.prev_prime = 1\n",
    "\n",
    "    def next(self):\n",
    "        self.prev_prime = sp.nextprime(self.prev_prime)\n",
    "        return self.prev_prime\n",
    "    \n",
    "from syft.core.adp.scalar import GammaScalar\n",
    "    \n",
    "class VirtualMachinePrivateScalarManager:\n",
    "\n",
    "    def __init__(self):\n",
    "        self.prime_factory = PrimeFactory()\n",
    "        self.prime2symbol = {}\n",
    "        \n",
    "    def get_symbol(self,min_val, value, max_val, entity):\n",
    "        gs = GammaScalar(min_val=min_val,\n",
    "                        value=value,\n",
    "                        max_val=max_val,\n",
    "                        entity=entity)\n",
    "        gs.prime = self.prime_factory.next()\n",
    "        self.prime2symbol[gs.prime] = gs\n",
    "        return gs.prime\n",
    "\n",
    "    \n",
    "dsg = DataSubjectGuardianOfTheGalaxy()\n",
    "bob = dsg.register_data_subject(name=\"Bob\", email=\"bob@openmined.org\")\n",
    "kritika = dsg.register_data_subject(name=\"Kritika\", email=\"kritika@openmined.org\")\n",
    "madhava = dsg.register_data_subject(name=\"Madhava\", email=\"madhava@openmined.org\")\n",
    "tudor = dsg.register_data_subject(name=\"Tudor\", email=\"tudor@openmined.org\")\n",
    "\n",
    "entities = [bob,kritika,madhava,tudor]\n",
    "\n",
    "# needs to come from the VirtualWorker/Session/etc.\n",
    "scalar_manager = VirtualMachinePrivateScalarManager()\n",
    "\n",
    "data = Tensor(data_batch).private(0.01,1,entities=entities, scalar_manager=scalar_manager).autograd(requires_grad=True)\n",
    "data2 = Tensor(data_batch).private(0.02,2,entities=[bob,bob,bob,bob], scalar_manager=scalar_manager).autograd(requires_grad=True)"
   ]
  },
  {
   "cell_type": "code",
   "execution_count": null,
   "metadata": {},
   "outputs": [],
   "source": []
  },
  {
   "cell_type": "code",
   "execution_count": null,
   "metadata": {},
   "outputs": [],
   "source": []
  },
  {
   "cell_type": "code",
   "execution_count": 12,
   "metadata": {},
   "outputs": [],
   "source": [
    "y = data.sum(0)\n",
    "y2 = data2.sum(0)"
   ]
  },
  {
   "cell_type": "code",
   "execution_count": 13,
   "metadata": {},
   "outputs": [],
   "source": [
    "acc = AdversarialAccountant(20)"
   ]
  },
  {
   "cell_type": "code",
   "execution_count": 14,
   "metadata": {},
   "outputs": [
    {
     "data": {
      "text/plain": [
       "[<IntermediateGammaScalar: (0.04 < 3.278920885978709 < 4.0)>,\n",
       " <IntermediateGammaScalar: (0.04 < 2.3434082360030635 < 4.0)>]"
      ]
     },
     "execution_count": 14,
     "metadata": {},
     "output_type": "execute_result"
    }
   ],
   "source": [
    "y.child.child.flat_scalars"
   ]
  },
  {
   "cell_type": "code",
   "execution_count": 18,
   "metadata": {},
   "outputs": [
    {
     "name": "stdout",
     "output_type": "stream",
     "text": [
      "<Entity:Tudor>\t16.754948874946987\n",
      "<Entity:Kritika>\t16.754948874946987\n",
      "<Entity:Madhava>\t16.754948874946987\n",
      "<Entity:Bob>\t16.754948874946987\n"
     ]
    }
   ],
   "source": [
    "_y = y.publish(acc=acc, sigma=1.5)\n",
    "# _y2 = y2.publish(acc=acc, sigma=1.5)\n",
    "acc.print_ledger()"
   ]
  },
  {
   "cell_type": "code",
   "execution_count": null,
   "metadata": {},
   "outputs": [],
   "source": []
  },
  {
   "cell_type": "code",
   "execution_count": null,
   "metadata": {},
   "outputs": [],
   "source": []
  },
  {
   "cell_type": "code",
   "execution_count": null,
   "metadata": {},
   "outputs": [],
   "source": []
  },
  {
   "cell_type": "code",
   "execution_count": null,
   "metadata": {},
   "outputs": [],
   "source": []
  },
  {
   "cell_type": "code",
   "execution_count": 3,
   "metadata": {},
   "outputs": [],
   "source": [
    "from syft.core.tensor.passthrough import HANDLED_FUNCTIONS"
   ]
  },
  {
   "cell_type": "code",
   "execution_count": 4,
   "metadata": {},
   "outputs": [
    {
     "name": "stdout",
     "output_type": "stream",
     "text": [
      "Tensor(child=AutogradTensor(child=[39593.85306277]))\n",
      "Tensor(child=AutogradTensor(child=[12606.85187116]))\n",
      "Tensor(child=AutogradTensor(child=[4015.70540841]))\n",
      "Tensor(child=AutogradTensor(child=[1280.66337406]))\n",
      "Tensor(child=AutogradTensor(child=[409.85003185]))\n",
      "Tensor(child=AutogradTensor(child=[132.50026923]))\n",
      "Tensor(child=AutogradTensor(child=[44.08106506]))\n",
      "Tensor(child=AutogradTensor(child=[15.81375355]))\n",
      "Tensor(child=AutogradTensor(child=[6.70270769]))\n",
      "Tensor(child=AutogradTensor(child=[3.69698355]))\n"
     ]
    }
   ],
   "source": [
    "\n",
    "data_batch = np.random.rand(4,28*28)\n",
    "label_batch = np.random.rand(4,10)  \n",
    "\n",
    "bob = Entity(unique_name=\"Bob\")\n",
    "\n",
    "data = Tensor(data_batch).autograd(requires_grad=True)\n",
    "target = Tensor(label_batch).autograd(requires_grad=True)\n",
    "\n",
    "weights = Tensor(np.random.rand(28*28,10)).autograd(requires_grad=True)\n",
    "\n",
    "for i in range(10):\n",
    "    pred = data.dot(weights)\n",
    "    diff = target - pred\n",
    "    pre_loss = np.square(diff)\n",
    "    loss = np.mean(pre_loss)\n",
    "    extraneous_thing = -diff\n",
    "    loss.backward()\n",
    "\n",
    "    weights = weights - (weights.grad * 0.01)\n",
    "    print(loss)"
   ]
  },
  {
   "cell_type": "code",
   "execution_count": 1,
   "metadata": {},
   "outputs": [],
   "source": [
    "import pymbolic as pmbl\n",
    "import numpy as np\n",
    "\n",
    "vs = list()\n",
    "for i in range(2*28*28):\n",
    "    x = pmbl.var(\"s\"+str(i))\n",
    "    vs.append(x)\n",
    "    \n",
    "ws = list()\n",
    "for i in range(10*28*28):\n",
    "    w = pmbl.var(\"w\"+str(i))\n",
    "    ws.append(x)    \n",
    "    \n",
    "data = np.array(vs).reshape(2,28*28)\n",
    "weights = np.array(ws).reshape(28*28,10)"
   ]
  },
  {
   "cell_type": "code",
   "execution_count": null,
   "metadata": {},
   "outputs": [],
   "source": []
  },
  {
   "cell_type": "code",
   "execution_count": null,
   "metadata": {},
   "outputs": [],
   "source": []
  },
  {
   "cell_type": "code",
   "execution_count": 2,
   "metadata": {},
   "outputs": [
    {
     "name": "stdout",
     "output_type": "stream",
     "text": [
      "58.3 ms ± 270 µs per loop (mean ± std. dev. of 7 runs, 10 loops each)\n"
     ]
    }
   ],
   "source": [
    "%%timeit\n",
    "pred = data.dot(weights)"
   ]
  },
  {
   "cell_type": "code",
   "execution_count": 3,
   "metadata": {},
   "outputs": [
    {
     "name": "stdout",
     "output_type": "stream",
     "text": [
      "making entities\n"
     ]
    }
   ],
   "source": [
    "from syft.lib.adp.tensor import Tensor\n",
    "from syft.lib.adp.tensor import make_entities\n",
    "\n",
    "\n",
    "data = Tensor(np.random.rand(2,28*28))\n",
    "target = Tensor(np.random.rand(28*28,10))\n",
    "entities = make_entities(n=len(data))\n",
    "data = data.private(min_val=-0.42421296, max_val=2.8214867, entities=entities)\n",
    "data = data.reshape(2,28*28)\n",
    "weights = np.random.rand(28 * 28, 10)"
   ]
  },
  {
   "cell_type": "code",
   "execution_count": 4,
   "metadata": {},
   "outputs": [
    {
     "name": "stdout",
     "output_type": "stream",
     "text": [
      "467 ms ± 0 ns per loop (mean ± std. dev. of 1 run, 1 loop each)\n"
     ]
    }
   ],
   "source": [
    "%%timeit -n1 -r1\n",
    "out = data.dot(weights)"
   ]
  },
  {
   "cell_type": "code",
   "execution_count": 1,
   "metadata": {},
   "outputs": [
    {
     "name": "stdout",
     "output_type": "stream",
     "text": [
      "Cocos running on ArrayFire v3.5.1 (OpenCL 64bit)\n",
      "[0] Apple: AMD Radeon Pro Vega 56 Compute Engine | OpenCL | compute version 1.2\n"
     ]
    }
   ],
   "source": [
    "import cocos.device as cd\n",
    "from cocos.symbolic import (\n",
    "    LambdifiedMatrixExpression, \\\n",
    "    find_length_of_state_vectors\n",
    ")\n",
    "cd.info()\n",
    "from cocos import numerics as cn"
   ]
  },
  {
   "cell_type": "code",
   "execution_count": 14,
   "metadata": {},
   "outputs": [],
   "source": [
    "data = cn.random.rand(500000,28*28)\n",
    "weights = cn.random.rand(28*28,10)"
   ]
  },
  {
   "cell_type": "code",
   "execution_count": 15,
   "metadata": {},
   "outputs": [
    {
     "name": "stdout",
     "output_type": "stream",
     "text": [
      "297 µs ± 0 ns per loop (mean ± std. dev. of 1 run, 1 loop each)\n"
     ]
    }
   ],
   "source": [
    "%%timeit -n1 -r1\n",
    "out = data.dot(weights)"
   ]
  },
  {
   "cell_type": "markdown",
   "metadata": {},
   "source": [
    "##### out"
   ]
  },
  {
   "cell_type": "code",
   "execution_count": null,
   "metadata": {},
   "outputs": [],
   "source": []
  },
  {
   "cell_type": "code",
   "execution_count": null,
   "metadata": {},
   "outputs": [],
   "source": []
  },
  {
   "cell_type": "code",
   "execution_count": null,
   "metadata": {},
   "outputs": [],
   "source": []
  },
  {
   "cell_type": "code",
   "execution_count": 54,
   "metadata": {},
   "outputs": [],
   "source": [
    "out2 = np.dot(data,weights)"
   ]
  },
  {
   "cell_type": "code",
   "execution_count": 62,
   "metadata": {},
   "outputs": [],
   "source": [
    "sp = out2[0][0].value.poly"
   ]
  },
  {
   "cell_type": "code",
   "execution_count": null,
   "metadata": {},
   "outputs": [],
   "source": [
    "class ScalarTensor(np.ndarray):\n",
    "    def __new__(\n",
    "        cls,\n",
    "        data\n",
    "    ):\n",
    "        obj = np.asarray(data).view(cls)\n",
    "        return obj\n",
    "    \n",
    "    def __array_finalize__(self, obj):\n",
    "        print(\"finalizing\")\n",
    "        if obj is None:\n",
    "            return\n",
    "\n",
    "    def __array_wrap__(self, out_arr, context=None):\n",
    "        \n",
    "        print(context)\n",
    "        \n",
    "        # out_arr.view calls __array_finalize__\n",
    "        output = out_arr.view(self.__class__)\n",
    "        \n",
    "        return output"
   ]
  },
  {
   "cell_type": "code",
   "execution_count": 4,
   "metadata": {},
   "outputs": [
    {
     "name": "stdout",
     "output_type": "stream",
     "text": [
      "Cocos running on ArrayFire v3.5.1 (OpenCL 64bit)\n",
      "[0] Apple: AMD Radeon Pro Vega 56 Compute Engine | OpenCL | compute version 1.2\n"
     ]
    }
   ],
   "source": [
    "import cocos.device as cd\n",
    "from cocos.symbolic import (\n",
    "    LambdifiedMatrixExpression, \\\n",
    "    find_length_of_state_vectors\n",
    ")\n",
    "cd.info()"
   ]
  },
  {
   "cell_type": "code",
   "execution_count": 5,
   "metadata": {},
   "outputs": [],
   "source": [
    "import sympy as sym\n",
    "import numpy as np"
   ]
  },
  {
   "cell_type": "code",
   "execution_count": 8,
   "metadata": {},
   "outputs": [],
   "source": [
    "# x1, x2, x3, t = sym.symbols('x1, x2, x3, t')\n",
    "# argument_symbols = (x1, x2, x3)\n",
    "# g = sym.Function('g')\n",
    "# f = sym.Matrix([[x1 + x2], [(g(t) * x1 + x3) ** 2], [sym.exp(x1 + x2 + g(t))]])\n",
    "# jacobian_f = f.jacobian([x1, x2, x3])\n",
    "\n",
    "# def numeric_time_function(t: float):\n",
    "#     return np.log(t)\n",
    "\n",
    "# jacobian_f_lambdified \\\n",
    "#     = LambdifiedMatrixExpression(\n",
    "#         argument_symbols=argument_symbols,\n",
    "#         time_symbol=t,\n",
    "#         symbolic_matrix_expression=jacobian_f,\n",
    "#         symbolic_time_function_name_to_numeric_time_function_map={'g': numeric_time_function})\n",
    "\n",
    "# n = 10000000\n",
    "# X_gpu = cn.random.rand(n, 3)\n",
    "# X_cpu = np.array(X_gpu)"
   ]
  },
  {
   "cell_type": "code",
   "execution_count": null,
   "metadata": {},
   "outputs": [],
   "source": []
  },
  {
   "cell_type": "code",
   "execution_count": 9,
   "metadata": {},
   "outputs": [],
   "source": [
    "# %%timeit\n",
    "# result = X_gpu.sum()"
   ]
  },
  {
   "cell_type": "code",
   "execution_count": 10,
   "metadata": {},
   "outputs": [],
   "source": [
    "# %%timeit\n",
    "# result2 = X_cpu.sum()"
   ]
  },
  {
   "cell_type": "code",
   "execution_count": 37,
   "metadata": {},
   "outputs": [
    {
     "data": {
      "text/plain": [
       "(3,)"
      ]
     },
     "execution_count": 37,
     "metadata": {},
     "output_type": "execute_result"
    }
   ],
   "source": [
    "single_poly = np.array([1,0,1])\n",
    "\n",
    "single_poly.shape"
   ]
  },
  {
   "cell_type": "code",
   "execution_count": 14,
   "metadata": {},
   "outputs": [
    {
     "data": {
      "text/plain": [
       "array([[1, 0, 0],\n",
       "       [0, 1, 1],\n",
       "       [0, 1, 1],\n",
       "       [0, 1, 1],\n",
       "       [0, 1, 1],\n",
       "       [0, 1, 0],\n",
       "       [0, 0, 1],\n",
       "       [0, 1, 1],\n",
       "       [0, 0, 0],\n",
       "       [1, 1, 0]])"
      ]
     },
     "execution_count": 14,
     "metadata": {},
     "output_type": "execute_result"
    }
   ],
   "source": [
    "n_polys = (np.random.rand(10,3) > 0.5).astype(int)\n",
    "n_polys"
   ]
  },
  {
   "cell_type": "code",
   "execution_count": 12,
   "metadata": {},
   "outputs": [],
   "source": [
    "x = data.flatten()[0:5]"
   ]
  },
  {
   "cell_type": "code",
   "execution_count": 1,
   "metadata": {},
   "outputs": [
    {
     "ename": "NameError",
     "evalue": "name 'x' is not defined",
     "output_type": "error",
     "traceback": [
      "\u001b[0;31m---------------------------------------------------------------------------\u001b[0m",
      "\u001b[0;31mNameError\u001b[0m                                 Traceback (most recent call last)",
      "\u001b[0;32m<ipython-input-1-c5a2a76493a0>\u001b[0m in \u001b[0;36m<module>\u001b[0;34m\u001b[0m\n\u001b[1;32m     12\u001b[0m \u001b[0;34m\u001b[0m\u001b[0m\n\u001b[1;32m     13\u001b[0m \u001b[0mgrad_sine\u001b[0m \u001b[0;34m=\u001b[0m \u001b[0mgrad\u001b[0m\u001b[0;34m(\u001b[0m\u001b[0mtaylor_sine\u001b[0m\u001b[0;34m)\u001b[0m\u001b[0;34m\u001b[0m\u001b[0;34m\u001b[0m\u001b[0m\n\u001b[0;32m---> 14\u001b[0;31m \u001b[0mprint\u001b[0m\u001b[0;34m(\u001b[0m\u001b[0;34m\"Gradient of sin(pi) is\"\u001b[0m\u001b[0;34m,\u001b[0m \u001b[0mgrad_sine\u001b[0m\u001b[0;34m(\u001b[0m\u001b[0mx\u001b[0m\u001b[0;34m)\u001b[0m\u001b[0;34m)\u001b[0m\u001b[0;34m\u001b[0m\u001b[0;34m\u001b[0m\u001b[0m\n\u001b[0m",
      "\u001b[0;31mNameError\u001b[0m: name 'x' is not defined"
     ]
    }
   ],
   "source": [
    "import autograd.numpy as np   # Thinly-wrapped version of Numpy\n",
    "from autograd import grad\n",
    "\n",
    "def taylor_sine(x):  # Taylor approximation to sine function\n",
    "    ans = currterm = x\n",
    "    i = 0\n",
    "    while np.abs(currterm) > 0.001:\n",
    "        currterm = -currterm * x**2 / ((2 * i + 3) * (2 * i + 2))\n",
    "        ans = ans + currterm\n",
    "        i += 1\n",
    "    return ans\n",
    "\n",
    "grad_sine = grad(taylor_sine)\n",
    "print(\"Gradient of sin(pi) is\", grad_sine(x))"
   ]
  },
  {
   "cell_type": "code",
   "execution_count": null,
   "metadata": {},
   "outputs": [],
   "source": []
  },
  {
   "cell_type": "code",
   "execution_count": null,
   "metadata": {},
   "outputs": [],
   "source": []
  },
  {
   "cell_type": "code",
   "execution_count": 8,
   "metadata": {},
   "outputs": [],
   "source": [
    "# %%timeit\n",
    "# jacobian_f_numeric_gpu = \\\n",
    "#     (jacobian_f_lambdified\n",
    "#      .evaluate_with_kwargs(x1=X_gpu[:, 0],\n",
    "#                            x2=X_gpu[:, 1],\n",
    "#                            x3=X_gpu[:, 2],\n",
    "#                            t=1.0))"
   ]
  },
  {
   "cell_type": "code",
   "execution_count": 9,
   "metadata": {},
   "outputs": [],
   "source": [
    "# %%timeit\n",
    "# jacobian_f_numeric_cpu = \\\n",
    "#     (jacobian_f_lambdified\n",
    "#      .evaluate_with_kwargs(x1=X_cpu[:, 0],\n",
    "#                            x2=X_cpu[:, 1],\n",
    "#                            x3=X_cpu[:, 2],\n",
    "#                            t=1.0))"
   ]
  },
  {
   "cell_type": "code",
   "execution_count": 21,
   "metadata": {},
   "outputs": [
    {
     "name": "stdout",
     "output_type": "stream",
     "text": [
      "numerical results from cpu and gpu match: True\n"
     ]
    }
   ],
   "source": [
    "print(f'numerical results from cpu and gpu match: '\n",
    "      f'{np.allclose(jacobian_f_numeric_gpu, jacobian_f_numeric_cpu)}')"
   ]
  },
  {
   "cell_type": "code",
   "execution_count": null,
   "metadata": {},
   "outputs": [],
   "source": []
  },
  {
   "cell_type": "code",
   "execution_count": 7,
   "metadata": {},
   "outputs": [],
   "source": [
    "import symengine\n",
    "from symengine import var"
   ]
  },
  {
   "cell_type": "code",
   "execution_count": 8,
   "metadata": {},
   "outputs": [],
   "source": [
    "import uuid"
   ]
  },
  {
   "cell_type": "code",
   "execution_count": 9,
   "metadata": {},
   "outputs": [],
   "source": [
    "syms = \"\"\n",
    "for i in range(784):\n",
    "    id = str(uuid.uuid4()).replace(\"-\",\"\")\n",
    "    syms += 's'+id+str(i)+' '"
   ]
  },
  {
   "cell_type": "code",
   "execution_count": 10,
   "metadata": {},
   "outputs": [],
   "source": [
    "v = var(syms)"
   ]
  },
  {
   "cell_type": "code",
   "execution_count": 11,
   "metadata": {},
   "outputs": [
    {
     "name": "stdout",
     "output_type": "stream",
     "text": [
      "63.8 ms ± 0 ns per loop (mean ± std. dev. of 1 run, 1 loop each)\n"
     ]
    }
   ],
   "source": [
    "%%timeit -n1 -r1\n",
    "result = np.sum(v)"
   ]
  },
  {
   "cell_type": "code",
   "execution_count": null,
   "metadata": {},
   "outputs": [],
   "source": []
  },
  {
   "cell_type": "code",
   "execution_count": 10,
   "metadata": {},
   "outputs": [],
   "source": []
  },
  {
   "cell_type": "code",
   "execution_count": 18,
   "metadata": {},
   "outputs": [],
   "source": []
  },
  {
   "cell_type": "code",
   "execution_count": 19,
   "metadata": {},
   "outputs": [],
   "source": []
  },
  {
   "cell_type": "code",
   "execution_count": 21,
   "metadata": {},
   "outputs": [
    {
     "name": "stdout",
     "output_type": "stream",
     "text": [
      "58 ms ± 291 µs per loop (mean ± std. dev. of 7 runs, 10 loops each)\n"
     ]
    }
   ],
   "source": []
  },
  {
   "cell_type": "code",
   "execution_count": null,
   "metadata": {},
   "outputs": [],
   "source": []
  },
  {
   "cell_type": "code",
   "execution_count": null,
   "metadata": {},
   "outputs": [],
   "source": []
  },
  {
   "cell_type": "code",
   "execution_count": 28,
   "metadata": {},
   "outputs": [
    {
     "name": "stdout",
     "output_type": "stream",
     "text": [
      "2.12 ms ± 0 ns per loop (mean ± std. dev. of 1 run, 1 loop each)\n"
     ]
    }
   ],
   "source": [
    "%%timeit -n1 -r1\n",
    "out = np.sum(vs)"
   ]
  },
  {
   "cell_type": "code",
   "execution_count": null,
   "metadata": {},
   "outputs": [],
   "source": []
  },
  {
   "cell_type": "code",
   "execution_count": 68,
   "metadata": {},
   "outputs": [],
   "source": [
    "syms = \"\"\n",
    "for i in range(784):\n",
    "    id = str(uuid.uuid4()).replace(\"-\",\"\")\n",
    "    syms += 's'+id+str(i)+','"
   ]
  },
  {
   "cell_type": "code",
   "execution_count": 69,
   "metadata": {},
   "outputs": [],
   "source": [
    "from sympy import symbols"
   ]
  },
  {
   "cell_type": "code",
   "execution_count": 70,
   "metadata": {},
   "outputs": [],
   "source": [
    "symbols = symbols(syms[:-1])"
   ]
  },
  {
   "cell_type": "code",
   "execution_count": 71,
   "metadata": {},
   "outputs": [
    {
     "name": "stdout",
     "output_type": "stream",
     "text": [
      "2.01 s ± 0 ns per loop (mean ± std. dev. of 1 run, 1 loop each)\n"
     ]
    }
   ],
   "source": [
    "%%timeit -n1 -r1\n",
    "out = np.sum(symbols)"
   ]
  },
  {
   "cell_type": "code",
   "execution_count": 2,
   "metadata": {},
   "outputs": [
    {
     "name": "stdout",
     "output_type": "stream",
     "text": [
      "2.05 s ± 0 ns per loop (mean ± std. dev. of 1 run, 1 loop each)\n"
     ]
    }
   ],
   "source": [
    "%%timeit -n1 -r1\n",
    "out = np.sum([[x.value.poly for x in row] for row in data[0].tolist()])"
   ]
  },
  {
   "cell_type": "code",
   "execution_count": 3,
   "metadata": {},
   "outputs": [],
   "source": [
    "# %%timeit -n1 -r1\n",
    "# result = data[0].sum()"
   ]
  },
  {
   "cell_type": "code",
   "execution_count": 4,
   "metadata": {},
   "outputs": [
    {
     "name": "stdout",
     "output_type": "stream",
     "text": [
      "2.06 s ± 0 ns per loop (mean ± std. dev. of 1 run, 1 loop each)\n"
     ]
    }
   ],
   "source": [
    "%%timeit -n1 -r1\n",
    "result = data[1].sum()"
   ]
  },
  {
   "cell_type": "code",
   "execution_count": 5,
   "metadata": {},
   "outputs": [
    {
     "name": "stdout",
     "output_type": "stream",
     "text": [
      "2.07 s ± 0 ns per loop (mean ± std. dev. of 1 run, 1 loop each)\n"
     ]
    }
   ],
   "source": [
    "%%timeit -n1 -r1\n",
    "result = data[0].sum()"
   ]
  },
  {
   "cell_type": "code",
   "execution_count": 6,
   "metadata": {},
   "outputs": [
    {
     "name": "stdout",
     "output_type": "stream",
     "text": [
      "2.06 s ± 0 ns per loop (mean ± std. dev. of 1 run, 1 loop each)\n"
     ]
    }
   ],
   "source": [
    "%%timeit -n1 -r1\n",
    "result = data[1].sum()"
   ]
  },
  {
   "cell_type": "code",
   "execution_count": null,
   "metadata": {},
   "outputs": [],
   "source": []
  },
  {
   "cell_type": "code",
   "execution_count": 5,
   "metadata": {},
   "outputs": [],
   "source": [
    "acc = AdversarialAccountant(max_budget=7000)"
   ]
  },
  {
   "cell_type": "code",
   "execution_count": 6,
   "metadata": {},
   "outputs": [
    {
     "ename": "KeyboardInterrupt",
     "evalue": "",
     "output_type": "error",
     "traceback": [
      "\u001b[0;31m---------------------------------------------------------------------------\u001b[0m",
      "\u001b[0;31mKeyboardInterrupt\u001b[0m                         Traceback (most recent call last)",
      "\u001b[0;32m<ipython-input-6-f52c6c16d501>\u001b[0m in \u001b[0;36m<module>\u001b[0;34m\u001b[0m\n\u001b[0;32m----> 1\u001b[0;31m \u001b[0mout\u001b[0m \u001b[0;34m=\u001b[0m \u001b[0mresult\u001b[0m\u001b[0;34m.\u001b[0m\u001b[0mpublish\u001b[0m\u001b[0;34m(\u001b[0m\u001b[0macc\u001b[0m\u001b[0;34m=\u001b[0m\u001b[0macc\u001b[0m\u001b[0;34m,\u001b[0m\u001b[0msigma\u001b[0m\u001b[0;34m=\u001b[0m\u001b[0;36m1.5\u001b[0m\u001b[0;34m)\u001b[0m\u001b[0;34m\u001b[0m\u001b[0;34m\u001b[0m\u001b[0m\n\u001b[0m\u001b[1;32m      2\u001b[0m \u001b[0macc\u001b[0m\u001b[0;34m.\u001b[0m\u001b[0mprint_ledger\u001b[0m\u001b[0;34m(\u001b[0m\u001b[0;34m)\u001b[0m\u001b[0;34m\u001b[0m\u001b[0;34m\u001b[0m\u001b[0m\n",
      "\u001b[0;32m~/Dropbox/Laboratory/openmined/PySyft/PySyft/packages/syft/src/syft/lib/adp/tensor.py\u001b[0m in \u001b[0;36mpublish\u001b[0;34m(self, **kwargs)\u001b[0m\n\u001b[1;32m    171\u001b[0m         \u001b[0;32mfor\u001b[0m \u001b[0mval\u001b[0m \u001b[0;32min\u001b[0m \u001b[0mself\u001b[0m\u001b[0;34m.\u001b[0m\u001b[0mflatten\u001b[0m\u001b[0;34m(\u001b[0m\u001b[0;34m)\u001b[0m\u001b[0;34m.\u001b[0m\u001b[0mtolist\u001b[0m\u001b[0;34m(\u001b[0m\u001b[0;34m)\u001b[0m\u001b[0;34m:\u001b[0m\u001b[0;34m\u001b[0m\u001b[0;34m\u001b[0m\u001b[0m\n\u001b[1;32m    172\u001b[0m             \u001b[0mgrads\u001b[0m\u001b[0;34m.\u001b[0m\u001b[0mappend\u001b[0m\u001b[0;34m(\u001b[0m\u001b[0mval\u001b[0m\u001b[0;34m.\u001b[0m\u001b[0mvalue\u001b[0m\u001b[0;34m)\u001b[0m\u001b[0;34m\u001b[0m\u001b[0;34m\u001b[0m\u001b[0m\n\u001b[0;32m--> 173\u001b[0;31m         \u001b[0mgrads\u001b[0m \u001b[0;34m=\u001b[0m \u001b[0mpublish\u001b[0m\u001b[0;34m(\u001b[0m\u001b[0mscalars\u001b[0m\u001b[0;34m=\u001b[0m\u001b[0mgrads\u001b[0m\u001b[0;34m,\u001b[0m \u001b[0;34m**\u001b[0m\u001b[0mkwargs\u001b[0m\u001b[0;34m)\u001b[0m\u001b[0;34m\u001b[0m\u001b[0;34m\u001b[0m\u001b[0m\n\u001b[0m\u001b[1;32m    174\u001b[0m         \u001b[0;32mreturn\u001b[0m \u001b[0mnp\u001b[0m\u001b[0;34m.\u001b[0m\u001b[0marray\u001b[0m\u001b[0;34m(\u001b[0m\u001b[0mgrads\u001b[0m\u001b[0;34m)\u001b[0m\u001b[0;34m.\u001b[0m\u001b[0mreshape\u001b[0m\u001b[0;34m(\u001b[0m\u001b[0mself\u001b[0m\u001b[0;34m.\u001b[0m\u001b[0mshape\u001b[0m\u001b[0;34m)\u001b[0m\u001b[0;34m\u001b[0m\u001b[0;34m\u001b[0m\u001b[0m\n\u001b[1;32m    175\u001b[0m \u001b[0;34m\u001b[0m\u001b[0m\n",
      "\u001b[0;32m~/Dropbox/Laboratory/openmined/PySyft/PySyft/packages/syft/src/syft/lib/adp/publish.py\u001b[0m in \u001b[0;36mpublish\u001b[0;34m(scalars, acc, sigma)\u001b[0m\n\u001b[1;32m     18\u001b[0m     \u001b[0;32mfor\u001b[0m \u001b[0ms\u001b[0m \u001b[0;32min\u001b[0m \u001b[0mscalars\u001b[0m\u001b[0;34m:\u001b[0m\u001b[0;34m\u001b[0m\u001b[0;34m\u001b[0m\u001b[0m\n\u001b[1;32m     19\u001b[0m         \u001b[0;32mif\u001b[0m \u001b[0misinstance\u001b[0m\u001b[0;34m(\u001b[0m\u001b[0ms\u001b[0m\u001b[0;34m,\u001b[0m \u001b[0mIntermediatePhiScalar\u001b[0m\u001b[0;34m)\u001b[0m\u001b[0;34m:\u001b[0m\u001b[0;34m\u001b[0m\u001b[0;34m\u001b[0m\u001b[0m\n\u001b[0;32m---> 20\u001b[0;31m             \u001b[0m_scalars\u001b[0m\u001b[0;34m.\u001b[0m\u001b[0mappend\u001b[0m\u001b[0;34m(\u001b[0m\u001b[0ms\u001b[0m\u001b[0;34m.\u001b[0m\u001b[0mgamma\u001b[0m\u001b[0;34m)\u001b[0m\u001b[0;34m\u001b[0m\u001b[0;34m\u001b[0m\u001b[0m\n\u001b[0m\u001b[1;32m     21\u001b[0m         \u001b[0;32melse\u001b[0m\u001b[0;34m:\u001b[0m\u001b[0;34m\u001b[0m\u001b[0;34m\u001b[0m\u001b[0m\n\u001b[1;32m     22\u001b[0m             \u001b[0m_scalars\u001b[0m\u001b[0;34m.\u001b[0m\u001b[0mappend\u001b[0m\u001b[0;34m(\u001b[0m\u001b[0ms\u001b[0m\u001b[0;34m)\u001b[0m\u001b[0;34m\u001b[0m\u001b[0;34m\u001b[0m\u001b[0m\n",
      "\u001b[0;32m~/Dropbox/Laboratory/openmined/PySyft/PySyft/packages/syft/src/syft/lib/adp/scalar.py\u001b[0m in \u001b[0;36mgamma\u001b[0;34m(self)\u001b[0m\n\u001b[1;32m    219\u001b[0m             self._gamma = GammaScalar(\n\u001b[1;32m    220\u001b[0m                 \u001b[0mmin_val\u001b[0m\u001b[0;34m=\u001b[0m\u001b[0mself\u001b[0m\u001b[0;34m.\u001b[0m\u001b[0mmin_val\u001b[0m\u001b[0;34m,\u001b[0m\u001b[0;34m\u001b[0m\u001b[0;34m\u001b[0m\u001b[0m\n\u001b[0;32m--> 221\u001b[0;31m                 \u001b[0mvalue\u001b[0m\u001b[0;34m=\u001b[0m\u001b[0mself\u001b[0m\u001b[0;34m.\u001b[0m\u001b[0mvalue\u001b[0m\u001b[0;34m,\u001b[0m\u001b[0;34m\u001b[0m\u001b[0;34m\u001b[0m\u001b[0m\n\u001b[0m\u001b[1;32m    222\u001b[0m                 \u001b[0mmax_val\u001b[0m\u001b[0;34m=\u001b[0m\u001b[0mself\u001b[0m\u001b[0;34m.\u001b[0m\u001b[0mmax_val\u001b[0m\u001b[0;34m,\u001b[0m\u001b[0;34m\u001b[0m\u001b[0;34m\u001b[0m\u001b[0m\n\u001b[1;32m    223\u001b[0m                 \u001b[0mentity\u001b[0m\u001b[0;34m=\u001b[0m\u001b[0mself\u001b[0m\u001b[0;34m.\u001b[0m\u001b[0mentity\u001b[0m\u001b[0;34m,\u001b[0m\u001b[0;34m\u001b[0m\u001b[0;34m\u001b[0m\u001b[0m\n",
      "\u001b[0;32m~/Dropbox/Laboratory/openmined/PySyft/PySyft/packages/syft/src/syft/lib/adp/scalar.py\u001b[0m in \u001b[0;36mmin_val\u001b[0;34m(self)\u001b[0m\n\u001b[1;32m    118\u001b[0m         \u001b[0;32mif\u001b[0m \u001b[0mself\u001b[0m\u001b[0;34m.\u001b[0m\u001b[0mpoly\u001b[0m \u001b[0;32mis\u001b[0m \u001b[0;32mnot\u001b[0m \u001b[0;32mNone\u001b[0m\u001b[0;34m:\u001b[0m\u001b[0;34m\u001b[0m\u001b[0;34m\u001b[0m\u001b[0m\n\u001b[1;32m    119\u001b[0m             \u001b[0mresults\u001b[0m \u001b[0;34m=\u001b[0m \u001b[0mflatten_and_maximize_poly\u001b[0m\u001b[0;34m(\u001b[0m\u001b[0mself\u001b[0m\u001b[0;34m.\u001b[0m\u001b[0mpoly\u001b[0m\u001b[0;34m)\u001b[0m\u001b[0;34m\u001b[0m\u001b[0;34m\u001b[0m\u001b[0m\n\u001b[0;32m--> 120\u001b[0;31m             \u001b[0;32mif\u001b[0m \u001b[0mlen\u001b[0m\u001b[0;34m(\u001b[0m\u001b[0mresults\u001b[0m\u001b[0;34m)\u001b[0m \u001b[0;34m>=\u001b[0m \u001b[0;36m1\u001b[0m\u001b[0;34m:\u001b[0m\u001b[0;34m\u001b[0m\u001b[0;34m\u001b[0m\u001b[0m\n\u001b[0m\u001b[1;32m    121\u001b[0m                 \u001b[0;32mreturn\u001b[0m \u001b[0mresults\u001b[0m\u001b[0;34m[\u001b[0m\u001b[0;34m-\u001b[0m\u001b[0;36m1\u001b[0m\u001b[0;34m]\u001b[0m\u001b[0;34m.\u001b[0m\u001b[0mfun\u001b[0m\u001b[0;34m\u001b[0m\u001b[0;34m\u001b[0m\u001b[0m\n\u001b[1;32m    122\u001b[0m         \u001b[0;32mreturn\u001b[0m \u001b[0;32mNone\u001b[0m\u001b[0;34m\u001b[0m\u001b[0;34m\u001b[0m\u001b[0m\n",
      "\u001b[0;32m~/Dropbox/Laboratory/openmined/PySyft/PySyft/packages/syft/src/syft/lib/adp/search.py\u001b[0m in \u001b[0;36mflatten_and_maximize_poly\u001b[0;34m(poly, force_all_searches)\u001b[0m\n\u001b[1;32m     77\u001b[0m     ]\n\u001b[1;32m     78\u001b[0m \u001b[0;34m\u001b[0m\u001b[0m\n\u001b[0;32m---> 79\u001b[0;31m     return minimize_poly(\n\u001b[0m\u001b[1;32m     80\u001b[0m         \u001b[0mflattened_poly\u001b[0m\u001b[0;34m,\u001b[0m \u001b[0;34m*\u001b[0m\u001b[0mrranges\u001b[0m\u001b[0;34m,\u001b[0m \u001b[0mforce_all_searches\u001b[0m\u001b[0;34m=\u001b[0m\u001b[0mforce_all_searches\u001b[0m\u001b[0;34m,\u001b[0m \u001b[0;34m**\u001b[0m\u001b[0mflattened_s2i\u001b[0m\u001b[0;34m\u001b[0m\u001b[0;34m\u001b[0m\u001b[0m\n\u001b[1;32m     81\u001b[0m     )\n",
      "\u001b[0;32m~/Dropbox/Laboratory/openmined/PySyft/PySyft/packages/syft/src/syft/lib/adp/search.py\u001b[0m in \u001b[0;36mminimize_poly\u001b[0;34m(poly, force_all_searches, *rranges, **s2i)\u001b[0m\n\u001b[1;32m     57\u001b[0m \u001b[0;34m\u001b[0m\u001b[0m\n\u001b[1;32m     58\u001b[0m     \u001b[0;31m# search over rranges for the set of inputs which minimizes function \"f\"\u001b[0m\u001b[0;34m\u001b[0m\u001b[0;34m\u001b[0m\u001b[0;34m\u001b[0m\u001b[0m\n\u001b[0;32m---> 59\u001b[0;31m     \u001b[0;32mreturn\u001b[0m \u001b[0mminimize_function\u001b[0m\u001b[0;34m(\u001b[0m\u001b[0mf\u001b[0m\u001b[0;34m=\u001b[0m\u001b[0msearch_fun\u001b[0m\u001b[0;34m,\u001b[0m \u001b[0mrranges\u001b[0m\u001b[0;34m=\u001b[0m\u001b[0mrranges\u001b[0m\u001b[0;34m,\u001b[0m \u001b[0mforce_all_searches\u001b[0m\u001b[0;34m=\u001b[0m\u001b[0;32mFalse\u001b[0m\u001b[0;34m)\u001b[0m\u001b[0;34m\u001b[0m\u001b[0;34m\u001b[0m\u001b[0m\n\u001b[0m\u001b[1;32m     60\u001b[0m \u001b[0;34m\u001b[0m\u001b[0m\n\u001b[1;32m     61\u001b[0m \u001b[0;34m\u001b[0m\u001b[0m\n",
      "\u001b[0;32m~/Dropbox/Laboratory/openmined/PySyft/PySyft/packages/syft/src/syft/lib/adp/search.py\u001b[0m in \u001b[0;36mminimize_function\u001b[0;34m(f, rranges, constraints, force_all_searches)\u001b[0m\n\u001b[1;32m     98\u001b[0m \u001b[0;34m\u001b[0m\u001b[0m\n\u001b[1;32m     99\u001b[0m     \u001b[0;31m# Step 1: try simplicial\u001b[0m\u001b[0;34m\u001b[0m\u001b[0;34m\u001b[0m\u001b[0;34m\u001b[0m\u001b[0m\n\u001b[0;32m--> 100\u001b[0;31m     shgo_results = optimize.shgo(\n\u001b[0m\u001b[1;32m    101\u001b[0m         \u001b[0mf\u001b[0m\u001b[0;34m,\u001b[0m \u001b[0mrranges\u001b[0m\u001b[0;34m,\u001b[0m \u001b[0msampling_method\u001b[0m\u001b[0;34m=\u001b[0m\u001b[0;34m\"simplicial\"\u001b[0m\u001b[0;34m,\u001b[0m \u001b[0mconstraints\u001b[0m\u001b[0;34m=\u001b[0m\u001b[0mconstraints\u001b[0m\u001b[0;34m\u001b[0m\u001b[0;34m\u001b[0m\u001b[0m\n\u001b[1;32m    102\u001b[0m     )\n",
      "\u001b[0;32m~/opt/anaconda3/lib/python3.8/site-packages/scipy/optimize/_shgo.py\u001b[0m in \u001b[0;36mshgo\u001b[0;34m(func, bounds, args, constraints, n, iters, callback, minimizer_kwargs, options, sampling_method)\u001b[0m\n\u001b[1;32m    421\u001b[0m \u001b[0;34m\u001b[0m\u001b[0m\n\u001b[1;32m    422\u001b[0m     \u001b[0;31m# Run the algorithm, process results and test success\u001b[0m\u001b[0;34m\u001b[0m\u001b[0;34m\u001b[0m\u001b[0;34m\u001b[0m\u001b[0m\n\u001b[0;32m--> 423\u001b[0;31m     \u001b[0mshc\u001b[0m\u001b[0;34m.\u001b[0m\u001b[0mconstruct_complex\u001b[0m\u001b[0;34m(\u001b[0m\u001b[0;34m)\u001b[0m\u001b[0;34m\u001b[0m\u001b[0;34m\u001b[0m\u001b[0m\n\u001b[0m\u001b[1;32m    424\u001b[0m \u001b[0;34m\u001b[0m\u001b[0m\n\u001b[1;32m    425\u001b[0m     \u001b[0;32mif\u001b[0m \u001b[0;32mnot\u001b[0m \u001b[0mshc\u001b[0m\u001b[0;34m.\u001b[0m\u001b[0mbreak_routine\u001b[0m\u001b[0;34m:\u001b[0m\u001b[0;34m\u001b[0m\u001b[0;34m\u001b[0m\u001b[0m\n",
      "\u001b[0;32m~/opt/anaconda3/lib/python3.8/site-packages/scipy/optimize/_shgo.py\u001b[0m in \u001b[0;36mconstruct_complex\u001b[0;34m(self)\u001b[0m\n\u001b[1;32m    726\u001b[0m                 \u001b[0;32mbreak\u001b[0m\u001b[0;34m\u001b[0m\u001b[0;34m\u001b[0m\u001b[0m\n\u001b[1;32m    727\u001b[0m             \u001b[0;31m# Iterate complex, process minimisers\u001b[0m\u001b[0;34m\u001b[0m\u001b[0;34m\u001b[0m\u001b[0;34m\u001b[0m\u001b[0m\n\u001b[0;32m--> 728\u001b[0;31m             \u001b[0mself\u001b[0m\u001b[0;34m.\u001b[0m\u001b[0miterate\u001b[0m\u001b[0;34m(\u001b[0m\u001b[0;34m)\u001b[0m\u001b[0;34m\u001b[0m\u001b[0;34m\u001b[0m\u001b[0m\n\u001b[0m\u001b[1;32m    729\u001b[0m             \u001b[0mself\u001b[0m\u001b[0;34m.\u001b[0m\u001b[0mstopping_criteria\u001b[0m\u001b[0;34m(\u001b[0m\u001b[0;34m)\u001b[0m\u001b[0;34m\u001b[0m\u001b[0;34m\u001b[0m\u001b[0m\n\u001b[1;32m    730\u001b[0m \u001b[0;34m\u001b[0m\u001b[0m\n",
      "\u001b[0;32m~/opt/anaconda3/lib/python3.8/site-packages/scipy/optimize/_shgo.py\u001b[0m in \u001b[0;36miterate\u001b[0;34m(self)\u001b[0m\n\u001b[1;32m    869\u001b[0m \u001b[0;34m\u001b[0m\u001b[0m\n\u001b[1;32m    870\u001b[0m     \u001b[0;32mdef\u001b[0m \u001b[0miterate\u001b[0m\u001b[0;34m(\u001b[0m\u001b[0mself\u001b[0m\u001b[0;34m)\u001b[0m\u001b[0;34m:\u001b[0m\u001b[0;34m\u001b[0m\u001b[0;34m\u001b[0m\u001b[0m\n\u001b[0;32m--> 871\u001b[0;31m         \u001b[0mself\u001b[0m\u001b[0;34m.\u001b[0m\u001b[0miterate_complex\u001b[0m\u001b[0;34m(\u001b[0m\u001b[0;34m)\u001b[0m\u001b[0;34m\u001b[0m\u001b[0;34m\u001b[0m\u001b[0m\n\u001b[0m\u001b[1;32m    872\u001b[0m \u001b[0;34m\u001b[0m\u001b[0m\n\u001b[1;32m    873\u001b[0m         \u001b[0;31m# Build minimiser pool\u001b[0m\u001b[0;34m\u001b[0m\u001b[0;34m\u001b[0m\u001b[0;34m\u001b[0m\u001b[0m\n",
      "\u001b[0;32m~/opt/anaconda3/lib/python3.8/site-packages/scipy/optimize/_shgo.py\u001b[0m in \u001b[0;36miterate_hypercube\u001b[0;34m(self)\u001b[0m\n\u001b[1;32m    888\u001b[0m         \u001b[0;32mif\u001b[0m \u001b[0mself\u001b[0m\u001b[0;34m.\u001b[0m\u001b[0mn_sampled\u001b[0m \u001b[0;34m==\u001b[0m \u001b[0;36m0\u001b[0m\u001b[0;34m:\u001b[0m\u001b[0;34m\u001b[0m\u001b[0;34m\u001b[0m\u001b[0m\n\u001b[1;32m    889\u001b[0m             \u001b[0;31m# Initial triangulation of the hyper-rectangle\u001b[0m\u001b[0;34m\u001b[0m\u001b[0;34m\u001b[0m\u001b[0;34m\u001b[0m\u001b[0m\n\u001b[0;32m--> 890\u001b[0;31m             self.HC = Complex(self.dim, self.func, self.args,\n\u001b[0m\u001b[1;32m    891\u001b[0m                               \u001b[0mself\u001b[0m\u001b[0;34m.\u001b[0m\u001b[0msymmetry\u001b[0m\u001b[0;34m,\u001b[0m \u001b[0mself\u001b[0m\u001b[0;34m.\u001b[0m\u001b[0mbounds\u001b[0m\u001b[0;34m,\u001b[0m \u001b[0mself\u001b[0m\u001b[0;34m.\u001b[0m\u001b[0mg_cons\u001b[0m\u001b[0;34m,\u001b[0m\u001b[0;34m\u001b[0m\u001b[0;34m\u001b[0m\u001b[0m\n\u001b[1;32m    892\u001b[0m                               self.g_args)\n",
      "\u001b[0;32m~/opt/anaconda3/lib/python3.8/site-packages/scipy/optimize/_shgo_lib/triangulation.py\u001b[0m in \u001b[0;36m__init__\u001b[0;34m(self, dim, func, func_args, symmetry, bounds, g_cons, g_args)\u001b[0m\n\u001b[1;32m     23\u001b[0m \u001b[0;34m\u001b[0m\u001b[0m\n\u001b[1;32m     24\u001b[0m         \u001b[0;31m# Generate n-cube here:\u001b[0m\u001b[0;34m\u001b[0m\u001b[0;34m\u001b[0m\u001b[0;34m\u001b[0m\u001b[0m\n\u001b[0;32m---> 25\u001b[0;31m         \u001b[0mself\u001b[0m\u001b[0;34m.\u001b[0m\u001b[0mn_cube\u001b[0m\u001b[0;34m(\u001b[0m\u001b[0mdim\u001b[0m\u001b[0;34m,\u001b[0m \u001b[0msymmetry\u001b[0m\u001b[0;34m=\u001b[0m\u001b[0msymmetry\u001b[0m\u001b[0;34m)\u001b[0m\u001b[0;34m\u001b[0m\u001b[0;34m\u001b[0m\u001b[0m\n\u001b[0m\u001b[1;32m     26\u001b[0m \u001b[0;34m\u001b[0m\u001b[0m\n\u001b[1;32m     27\u001b[0m         \u001b[0;31m# TODO: Assign functions to a the complex instead\u001b[0m\u001b[0;34m\u001b[0m\u001b[0;34m\u001b[0m\u001b[0;34m\u001b[0m\u001b[0m\n",
      "\u001b[0;32m~/opt/anaconda3/lib/python3.8/site-packages/scipy/optimize/_shgo_lib/triangulation.py\u001b[0m in \u001b[0;36mn_cube\u001b[0;34m(self, dim, symmetry, printout)\u001b[0m\n\u001b[1;32m     78\u001b[0m \u001b[0;34m\u001b[0m\u001b[0m\n\u001b[1;32m     79\u001b[0m             \u001b[0mi_parents\u001b[0m \u001b[0;34m=\u001b[0m \u001b[0;34m[\u001b[0m\u001b[0;34m]\u001b[0m\u001b[0;34m\u001b[0m\u001b[0;34m\u001b[0m\u001b[0m\n\u001b[0;32m---> 80\u001b[0;31m             \u001b[0mself\u001b[0m\u001b[0;34m.\u001b[0m\u001b[0mperm\u001b[0m\u001b[0;34m(\u001b[0m\u001b[0mi_parents\u001b[0m\u001b[0;34m,\u001b[0m \u001b[0mx_parents\u001b[0m\u001b[0;34m,\u001b[0m \u001b[0morigin\u001b[0m\u001b[0;34m)\u001b[0m\u001b[0;34m\u001b[0m\u001b[0;34m\u001b[0m\u001b[0m\n\u001b[0m\u001b[1;32m     81\u001b[0m \u001b[0;34m\u001b[0m\u001b[0m\n\u001b[1;32m     82\u001b[0m         \u001b[0;32mif\u001b[0m \u001b[0mprintout\u001b[0m\u001b[0;34m:\u001b[0m\u001b[0;34m\u001b[0m\u001b[0;34m\u001b[0m\u001b[0m\n",
      "\u001b[0;32m~/opt/anaconda3/lib/python3.8/site-packages/scipy/optimize/_shgo_lib/triangulation.py\u001b[0m in \u001b[0;36mperm\u001b[0;34m(self, i_parents, x_parents, xi)\u001b[0m\n\u001b[1;32m    113\u001b[0m \u001b[0;34m\u001b[0m\u001b[0m\n\u001b[1;32m    114\u001b[0m             \u001b[0;31m# Permutate\u001b[0m\u001b[0;34m\u001b[0m\u001b[0;34m\u001b[0m\u001b[0;34m\u001b[0m\u001b[0m\n\u001b[0;32m--> 115\u001b[0;31m             \u001b[0mself\u001b[0m\u001b[0;34m.\u001b[0m\u001b[0mperm\u001b[0m\u001b[0;34m(\u001b[0m\u001b[0mi2_parents\u001b[0m\u001b[0;34m,\u001b[0m \u001b[0mx_parents2\u001b[0m\u001b[0;34m,\u001b[0m \u001b[0mxi2\u001b[0m\u001b[0;34m)\u001b[0m\u001b[0;34m\u001b[0m\u001b[0;34m\u001b[0m\u001b[0m\n\u001b[0m\u001b[1;32m    116\u001b[0m \u001b[0;34m\u001b[0m\u001b[0m\n\u001b[1;32m    117\u001b[0m     \u001b[0;32mdef\u001b[0m \u001b[0mperm_symmetry\u001b[0m\u001b[0;34m(\u001b[0m\u001b[0mself\u001b[0m\u001b[0;34m,\u001b[0m \u001b[0mi_s\u001b[0m\u001b[0;34m,\u001b[0m \u001b[0mx_parents\u001b[0m\u001b[0;34m,\u001b[0m \u001b[0mxi\u001b[0m\u001b[0;34m)\u001b[0m\u001b[0;34m:\u001b[0m\u001b[0;34m\u001b[0m\u001b[0;34m\u001b[0m\u001b[0m\n",
      "\u001b[0;32m~/opt/anaconda3/lib/python3.8/site-packages/scipy/optimize/_shgo_lib/triangulation.py\u001b[0m in \u001b[0;36mperm\u001b[0;34m(self, i_parents, x_parents, xi)\u001b[0m\n\u001b[1;32m    113\u001b[0m \u001b[0;34m\u001b[0m\u001b[0m\n\u001b[1;32m    114\u001b[0m             \u001b[0;31m# Permutate\u001b[0m\u001b[0;34m\u001b[0m\u001b[0;34m\u001b[0m\u001b[0;34m\u001b[0m\u001b[0m\n\u001b[0;32m--> 115\u001b[0;31m             \u001b[0mself\u001b[0m\u001b[0;34m.\u001b[0m\u001b[0mperm\u001b[0m\u001b[0;34m(\u001b[0m\u001b[0mi2_parents\u001b[0m\u001b[0;34m,\u001b[0m \u001b[0mx_parents2\u001b[0m\u001b[0;34m,\u001b[0m \u001b[0mxi2\u001b[0m\u001b[0;34m)\u001b[0m\u001b[0;34m\u001b[0m\u001b[0;34m\u001b[0m\u001b[0m\n\u001b[0m\u001b[1;32m    116\u001b[0m \u001b[0;34m\u001b[0m\u001b[0m\n\u001b[1;32m    117\u001b[0m     \u001b[0;32mdef\u001b[0m \u001b[0mperm_symmetry\u001b[0m\u001b[0;34m(\u001b[0m\u001b[0mself\u001b[0m\u001b[0;34m,\u001b[0m \u001b[0mi_s\u001b[0m\u001b[0;34m,\u001b[0m \u001b[0mx_parents\u001b[0m\u001b[0;34m,\u001b[0m \u001b[0mxi\u001b[0m\u001b[0;34m)\u001b[0m\u001b[0;34m:\u001b[0m\u001b[0;34m\u001b[0m\u001b[0;34m\u001b[0m\u001b[0m\n",
      "\u001b[0;32m~/opt/anaconda3/lib/python3.8/site-packages/scipy/optimize/_shgo_lib/triangulation.py\u001b[0m in \u001b[0;36mperm\u001b[0;34m(self, i_parents, x_parents, xi)\u001b[0m\n\u001b[1;32m    113\u001b[0m \u001b[0;34m\u001b[0m\u001b[0m\n\u001b[1;32m    114\u001b[0m             \u001b[0;31m# Permutate\u001b[0m\u001b[0;34m\u001b[0m\u001b[0;34m\u001b[0m\u001b[0;34m\u001b[0m\u001b[0m\n\u001b[0;32m--> 115\u001b[0;31m             \u001b[0mself\u001b[0m\u001b[0;34m.\u001b[0m\u001b[0mperm\u001b[0m\u001b[0;34m(\u001b[0m\u001b[0mi2_parents\u001b[0m\u001b[0;34m,\u001b[0m \u001b[0mx_parents2\u001b[0m\u001b[0;34m,\u001b[0m \u001b[0mxi2\u001b[0m\u001b[0;34m)\u001b[0m\u001b[0;34m\u001b[0m\u001b[0;34m\u001b[0m\u001b[0m\n\u001b[0m\u001b[1;32m    116\u001b[0m \u001b[0;34m\u001b[0m\u001b[0m\n\u001b[1;32m    117\u001b[0m     \u001b[0;32mdef\u001b[0m \u001b[0mperm_symmetry\u001b[0m\u001b[0;34m(\u001b[0m\u001b[0mself\u001b[0m\u001b[0;34m,\u001b[0m \u001b[0mi_s\u001b[0m\u001b[0;34m,\u001b[0m \u001b[0mx_parents\u001b[0m\u001b[0;34m,\u001b[0m \u001b[0mxi\u001b[0m\u001b[0;34m)\u001b[0m\u001b[0;34m:\u001b[0m\u001b[0;34m\u001b[0m\u001b[0;34m\u001b[0m\u001b[0m\n",
      "\u001b[0;32m~/opt/anaconda3/lib/python3.8/site-packages/scipy/optimize/_shgo_lib/triangulation.py\u001b[0m in \u001b[0;36mperm\u001b[0;34m(self, i_parents, x_parents, xi)\u001b[0m\n\u001b[1;32m    113\u001b[0m \u001b[0;34m\u001b[0m\u001b[0m\n\u001b[1;32m    114\u001b[0m             \u001b[0;31m# Permutate\u001b[0m\u001b[0;34m\u001b[0m\u001b[0;34m\u001b[0m\u001b[0;34m\u001b[0m\u001b[0m\n\u001b[0;32m--> 115\u001b[0;31m             \u001b[0mself\u001b[0m\u001b[0;34m.\u001b[0m\u001b[0mperm\u001b[0m\u001b[0;34m(\u001b[0m\u001b[0mi2_parents\u001b[0m\u001b[0;34m,\u001b[0m \u001b[0mx_parents2\u001b[0m\u001b[0;34m,\u001b[0m \u001b[0mxi2\u001b[0m\u001b[0;34m)\u001b[0m\u001b[0;34m\u001b[0m\u001b[0;34m\u001b[0m\u001b[0m\n\u001b[0m\u001b[1;32m    116\u001b[0m \u001b[0;34m\u001b[0m\u001b[0m\n\u001b[1;32m    117\u001b[0m     \u001b[0;32mdef\u001b[0m \u001b[0mperm_symmetry\u001b[0m\u001b[0;34m(\u001b[0m\u001b[0mself\u001b[0m\u001b[0;34m,\u001b[0m \u001b[0mi_s\u001b[0m\u001b[0;34m,\u001b[0m \u001b[0mx_parents\u001b[0m\u001b[0;34m,\u001b[0m \u001b[0mxi\u001b[0m\u001b[0;34m)\u001b[0m\u001b[0;34m:\u001b[0m\u001b[0;34m\u001b[0m\u001b[0;34m\u001b[0m\u001b[0m\n",
      "\u001b[0;32m~/opt/anaconda3/lib/python3.8/site-packages/scipy/optimize/_shgo_lib/triangulation.py\u001b[0m in \u001b[0;36mperm\u001b[0;34m(self, i_parents, x_parents, xi)\u001b[0m\n\u001b[1;32m    113\u001b[0m \u001b[0;34m\u001b[0m\u001b[0m\n\u001b[1;32m    114\u001b[0m             \u001b[0;31m# Permutate\u001b[0m\u001b[0;34m\u001b[0m\u001b[0;34m\u001b[0m\u001b[0;34m\u001b[0m\u001b[0m\n\u001b[0;32m--> 115\u001b[0;31m             \u001b[0mself\u001b[0m\u001b[0;34m.\u001b[0m\u001b[0mperm\u001b[0m\u001b[0;34m(\u001b[0m\u001b[0mi2_parents\u001b[0m\u001b[0;34m,\u001b[0m \u001b[0mx_parents2\u001b[0m\u001b[0;34m,\u001b[0m \u001b[0mxi2\u001b[0m\u001b[0;34m)\u001b[0m\u001b[0;34m\u001b[0m\u001b[0;34m\u001b[0m\u001b[0m\n\u001b[0m\u001b[1;32m    116\u001b[0m \u001b[0;34m\u001b[0m\u001b[0m\n\u001b[1;32m    117\u001b[0m     \u001b[0;32mdef\u001b[0m \u001b[0mperm_symmetry\u001b[0m\u001b[0;34m(\u001b[0m\u001b[0mself\u001b[0m\u001b[0;34m,\u001b[0m \u001b[0mi_s\u001b[0m\u001b[0;34m,\u001b[0m \u001b[0mx_parents\u001b[0m\u001b[0;34m,\u001b[0m \u001b[0mxi\u001b[0m\u001b[0;34m)\u001b[0m\u001b[0;34m:\u001b[0m\u001b[0;34m\u001b[0m\u001b[0;34m\u001b[0m\u001b[0m\n",
      "\u001b[0;32m~/opt/anaconda3/lib/python3.8/site-packages/scipy/optimize/_shgo_lib/triangulation.py\u001b[0m in \u001b[0;36mperm\u001b[0;34m(self, i_parents, x_parents, xi)\u001b[0m\n\u001b[1;32m    113\u001b[0m \u001b[0;34m\u001b[0m\u001b[0m\n\u001b[1;32m    114\u001b[0m             \u001b[0;31m# Permutate\u001b[0m\u001b[0;34m\u001b[0m\u001b[0;34m\u001b[0m\u001b[0;34m\u001b[0m\u001b[0m\n\u001b[0;32m--> 115\u001b[0;31m             \u001b[0mself\u001b[0m\u001b[0;34m.\u001b[0m\u001b[0mperm\u001b[0m\u001b[0;34m(\u001b[0m\u001b[0mi2_parents\u001b[0m\u001b[0;34m,\u001b[0m \u001b[0mx_parents2\u001b[0m\u001b[0;34m,\u001b[0m \u001b[0mxi2\u001b[0m\u001b[0;34m)\u001b[0m\u001b[0;34m\u001b[0m\u001b[0;34m\u001b[0m\u001b[0m\n\u001b[0m\u001b[1;32m    116\u001b[0m \u001b[0;34m\u001b[0m\u001b[0m\n\u001b[1;32m    117\u001b[0m     \u001b[0;32mdef\u001b[0m \u001b[0mperm_symmetry\u001b[0m\u001b[0;34m(\u001b[0m\u001b[0mself\u001b[0m\u001b[0;34m,\u001b[0m \u001b[0mi_s\u001b[0m\u001b[0;34m,\u001b[0m \u001b[0mx_parents\u001b[0m\u001b[0;34m,\u001b[0m \u001b[0mxi\u001b[0m\u001b[0;34m)\u001b[0m\u001b[0;34m:\u001b[0m\u001b[0;34m\u001b[0m\u001b[0;34m\u001b[0m\u001b[0m\n",
      "\u001b[0;32m~/opt/anaconda3/lib/python3.8/site-packages/scipy/optimize/_shgo_lib/triangulation.py\u001b[0m in \u001b[0;36mperm\u001b[0;34m(self, i_parents, x_parents, xi)\u001b[0m\n\u001b[1;32m    113\u001b[0m \u001b[0;34m\u001b[0m\u001b[0m\n\u001b[1;32m    114\u001b[0m             \u001b[0;31m# Permutate\u001b[0m\u001b[0;34m\u001b[0m\u001b[0;34m\u001b[0m\u001b[0;34m\u001b[0m\u001b[0m\n\u001b[0;32m--> 115\u001b[0;31m             \u001b[0mself\u001b[0m\u001b[0;34m.\u001b[0m\u001b[0mperm\u001b[0m\u001b[0;34m(\u001b[0m\u001b[0mi2_parents\u001b[0m\u001b[0;34m,\u001b[0m \u001b[0mx_parents2\u001b[0m\u001b[0;34m,\u001b[0m \u001b[0mxi2\u001b[0m\u001b[0;34m)\u001b[0m\u001b[0;34m\u001b[0m\u001b[0;34m\u001b[0m\u001b[0m\n\u001b[0m\u001b[1;32m    116\u001b[0m \u001b[0;34m\u001b[0m\u001b[0m\n\u001b[1;32m    117\u001b[0m     \u001b[0;32mdef\u001b[0m \u001b[0mperm_symmetry\u001b[0m\u001b[0;34m(\u001b[0m\u001b[0mself\u001b[0m\u001b[0;34m,\u001b[0m \u001b[0mi_s\u001b[0m\u001b[0;34m,\u001b[0m \u001b[0mx_parents\u001b[0m\u001b[0;34m,\u001b[0m \u001b[0mxi\u001b[0m\u001b[0;34m)\u001b[0m\u001b[0;34m:\u001b[0m\u001b[0;34m\u001b[0m\u001b[0;34m\u001b[0m\u001b[0m\n",
      "\u001b[0;32m~/opt/anaconda3/lib/python3.8/site-packages/scipy/optimize/_shgo_lib/triangulation.py\u001b[0m in \u001b[0;36mperm\u001b[0;34m(self, i_parents, x_parents, xi)\u001b[0m\n\u001b[1;32m    113\u001b[0m \u001b[0;34m\u001b[0m\u001b[0m\n\u001b[1;32m    114\u001b[0m             \u001b[0;31m# Permutate\u001b[0m\u001b[0;34m\u001b[0m\u001b[0;34m\u001b[0m\u001b[0;34m\u001b[0m\u001b[0m\n\u001b[0;32m--> 115\u001b[0;31m             \u001b[0mself\u001b[0m\u001b[0;34m.\u001b[0m\u001b[0mperm\u001b[0m\u001b[0;34m(\u001b[0m\u001b[0mi2_parents\u001b[0m\u001b[0;34m,\u001b[0m \u001b[0mx_parents2\u001b[0m\u001b[0;34m,\u001b[0m \u001b[0mxi2\u001b[0m\u001b[0;34m)\u001b[0m\u001b[0;34m\u001b[0m\u001b[0;34m\u001b[0m\u001b[0m\n\u001b[0m\u001b[1;32m    116\u001b[0m \u001b[0;34m\u001b[0m\u001b[0m\n\u001b[1;32m    117\u001b[0m     \u001b[0;32mdef\u001b[0m \u001b[0mperm_symmetry\u001b[0m\u001b[0;34m(\u001b[0m\u001b[0mself\u001b[0m\u001b[0;34m,\u001b[0m \u001b[0mi_s\u001b[0m\u001b[0;34m,\u001b[0m \u001b[0mx_parents\u001b[0m\u001b[0;34m,\u001b[0m \u001b[0mxi\u001b[0m\u001b[0;34m)\u001b[0m\u001b[0;34m:\u001b[0m\u001b[0;34m\u001b[0m\u001b[0;34m\u001b[0m\u001b[0m\n",
      "\u001b[0;32m~/opt/anaconda3/lib/python3.8/site-packages/scipy/optimize/_shgo_lib/triangulation.py\u001b[0m in \u001b[0;36mperm\u001b[0;34m(self, i_parents, x_parents, xi)\u001b[0m\n\u001b[1;32m    113\u001b[0m \u001b[0;34m\u001b[0m\u001b[0m\n\u001b[1;32m    114\u001b[0m             \u001b[0;31m# Permutate\u001b[0m\u001b[0;34m\u001b[0m\u001b[0;34m\u001b[0m\u001b[0;34m\u001b[0m\u001b[0m\n\u001b[0;32m--> 115\u001b[0;31m             \u001b[0mself\u001b[0m\u001b[0;34m.\u001b[0m\u001b[0mperm\u001b[0m\u001b[0;34m(\u001b[0m\u001b[0mi2_parents\u001b[0m\u001b[0;34m,\u001b[0m \u001b[0mx_parents2\u001b[0m\u001b[0;34m,\u001b[0m \u001b[0mxi2\u001b[0m\u001b[0;34m)\u001b[0m\u001b[0;34m\u001b[0m\u001b[0;34m\u001b[0m\u001b[0m\n\u001b[0m\u001b[1;32m    116\u001b[0m \u001b[0;34m\u001b[0m\u001b[0m\n\u001b[1;32m    117\u001b[0m     \u001b[0;32mdef\u001b[0m \u001b[0mperm_symmetry\u001b[0m\u001b[0;34m(\u001b[0m\u001b[0mself\u001b[0m\u001b[0;34m,\u001b[0m \u001b[0mi_s\u001b[0m\u001b[0;34m,\u001b[0m \u001b[0mx_parents\u001b[0m\u001b[0;34m,\u001b[0m \u001b[0mxi\u001b[0m\u001b[0;34m)\u001b[0m\u001b[0;34m:\u001b[0m\u001b[0;34m\u001b[0m\u001b[0;34m\u001b[0m\u001b[0m\n",
      "\u001b[0;32m~/opt/anaconda3/lib/python3.8/site-packages/scipy/optimize/_shgo_lib/triangulation.py\u001b[0m in \u001b[0;36mperm\u001b[0;34m(self, i_parents, x_parents, xi)\u001b[0m\n\u001b[1;32m    113\u001b[0m \u001b[0;34m\u001b[0m\u001b[0m\n\u001b[1;32m    114\u001b[0m             \u001b[0;31m# Permutate\u001b[0m\u001b[0;34m\u001b[0m\u001b[0;34m\u001b[0m\u001b[0;34m\u001b[0m\u001b[0m\n\u001b[0;32m--> 115\u001b[0;31m             \u001b[0mself\u001b[0m\u001b[0;34m.\u001b[0m\u001b[0mperm\u001b[0m\u001b[0;34m(\u001b[0m\u001b[0mi2_parents\u001b[0m\u001b[0;34m,\u001b[0m \u001b[0mx_parents2\u001b[0m\u001b[0;34m,\u001b[0m \u001b[0mxi2\u001b[0m\u001b[0;34m)\u001b[0m\u001b[0;34m\u001b[0m\u001b[0;34m\u001b[0m\u001b[0m\n\u001b[0m\u001b[1;32m    116\u001b[0m \u001b[0;34m\u001b[0m\u001b[0m\n\u001b[1;32m    117\u001b[0m     \u001b[0;32mdef\u001b[0m \u001b[0mperm_symmetry\u001b[0m\u001b[0;34m(\u001b[0m\u001b[0mself\u001b[0m\u001b[0;34m,\u001b[0m \u001b[0mi_s\u001b[0m\u001b[0;34m,\u001b[0m \u001b[0mx_parents\u001b[0m\u001b[0;34m,\u001b[0m \u001b[0mxi\u001b[0m\u001b[0;34m)\u001b[0m\u001b[0;34m:\u001b[0m\u001b[0;34m\u001b[0m\u001b[0;34m\u001b[0m\u001b[0m\n",
      "\u001b[0;32m~/opt/anaconda3/lib/python3.8/site-packages/scipy/optimize/_shgo_lib/triangulation.py\u001b[0m in \u001b[0;36mperm\u001b[0;34m(self, i_parents, x_parents, xi)\u001b[0m\n\u001b[1;32m    113\u001b[0m \u001b[0;34m\u001b[0m\u001b[0m\n\u001b[1;32m    114\u001b[0m             \u001b[0;31m# Permutate\u001b[0m\u001b[0;34m\u001b[0m\u001b[0;34m\u001b[0m\u001b[0;34m\u001b[0m\u001b[0m\n\u001b[0;32m--> 115\u001b[0;31m             \u001b[0mself\u001b[0m\u001b[0;34m.\u001b[0m\u001b[0mperm\u001b[0m\u001b[0;34m(\u001b[0m\u001b[0mi2_parents\u001b[0m\u001b[0;34m,\u001b[0m \u001b[0mx_parents2\u001b[0m\u001b[0;34m,\u001b[0m \u001b[0mxi2\u001b[0m\u001b[0;34m)\u001b[0m\u001b[0;34m\u001b[0m\u001b[0;34m\u001b[0m\u001b[0m\n\u001b[0m\u001b[1;32m    116\u001b[0m \u001b[0;34m\u001b[0m\u001b[0m\n\u001b[1;32m    117\u001b[0m     \u001b[0;32mdef\u001b[0m \u001b[0mperm_symmetry\u001b[0m\u001b[0;34m(\u001b[0m\u001b[0mself\u001b[0m\u001b[0;34m,\u001b[0m \u001b[0mi_s\u001b[0m\u001b[0;34m,\u001b[0m \u001b[0mx_parents\u001b[0m\u001b[0;34m,\u001b[0m \u001b[0mxi\u001b[0m\u001b[0;34m)\u001b[0m\u001b[0;34m:\u001b[0m\u001b[0;34m\u001b[0m\u001b[0;34m\u001b[0m\u001b[0m\n",
      "\u001b[0;32m~/opt/anaconda3/lib/python3.8/site-packages/scipy/optimize/_shgo_lib/triangulation.py\u001b[0m in \u001b[0;36mperm\u001b[0;34m(self, i_parents, x_parents, xi)\u001b[0m\n\u001b[1;32m    113\u001b[0m \u001b[0;34m\u001b[0m\u001b[0m\n\u001b[1;32m    114\u001b[0m             \u001b[0;31m# Permutate\u001b[0m\u001b[0;34m\u001b[0m\u001b[0;34m\u001b[0m\u001b[0;34m\u001b[0m\u001b[0m\n\u001b[0;32m--> 115\u001b[0;31m             \u001b[0mself\u001b[0m\u001b[0;34m.\u001b[0m\u001b[0mperm\u001b[0m\u001b[0;34m(\u001b[0m\u001b[0mi2_parents\u001b[0m\u001b[0;34m,\u001b[0m \u001b[0mx_parents2\u001b[0m\u001b[0;34m,\u001b[0m \u001b[0mxi2\u001b[0m\u001b[0;34m)\u001b[0m\u001b[0;34m\u001b[0m\u001b[0;34m\u001b[0m\u001b[0m\n\u001b[0m\u001b[1;32m    116\u001b[0m \u001b[0;34m\u001b[0m\u001b[0m\n\u001b[1;32m    117\u001b[0m     \u001b[0;32mdef\u001b[0m \u001b[0mperm_symmetry\u001b[0m\u001b[0;34m(\u001b[0m\u001b[0mself\u001b[0m\u001b[0;34m,\u001b[0m \u001b[0mi_s\u001b[0m\u001b[0;34m,\u001b[0m \u001b[0mx_parents\u001b[0m\u001b[0;34m,\u001b[0m \u001b[0mxi\u001b[0m\u001b[0;34m)\u001b[0m\u001b[0;34m:\u001b[0m\u001b[0;34m\u001b[0m\u001b[0;34m\u001b[0m\u001b[0m\n",
      "\u001b[0;32m~/opt/anaconda3/lib/python3.8/site-packages/scipy/optimize/_shgo_lib/triangulation.py\u001b[0m in \u001b[0;36mperm\u001b[0;34m(self, i_parents, x_parents, xi)\u001b[0m\n\u001b[1;32m    113\u001b[0m \u001b[0;34m\u001b[0m\u001b[0m\n\u001b[1;32m    114\u001b[0m             \u001b[0;31m# Permutate\u001b[0m\u001b[0;34m\u001b[0m\u001b[0;34m\u001b[0m\u001b[0;34m\u001b[0m\u001b[0m\n\u001b[0;32m--> 115\u001b[0;31m             \u001b[0mself\u001b[0m\u001b[0;34m.\u001b[0m\u001b[0mperm\u001b[0m\u001b[0;34m(\u001b[0m\u001b[0mi2_parents\u001b[0m\u001b[0;34m,\u001b[0m \u001b[0mx_parents2\u001b[0m\u001b[0;34m,\u001b[0m \u001b[0mxi2\u001b[0m\u001b[0;34m)\u001b[0m\u001b[0;34m\u001b[0m\u001b[0;34m\u001b[0m\u001b[0m\n\u001b[0m\u001b[1;32m    116\u001b[0m \u001b[0;34m\u001b[0m\u001b[0m\n\u001b[1;32m    117\u001b[0m     \u001b[0;32mdef\u001b[0m \u001b[0mperm_symmetry\u001b[0m\u001b[0;34m(\u001b[0m\u001b[0mself\u001b[0m\u001b[0;34m,\u001b[0m \u001b[0mi_s\u001b[0m\u001b[0;34m,\u001b[0m \u001b[0mx_parents\u001b[0m\u001b[0;34m,\u001b[0m \u001b[0mxi\u001b[0m\u001b[0;34m)\u001b[0m\u001b[0;34m:\u001b[0m\u001b[0;34m\u001b[0m\u001b[0;34m\u001b[0m\u001b[0m\n",
      "\u001b[0;32m~/opt/anaconda3/lib/python3.8/site-packages/scipy/optimize/_shgo_lib/triangulation.py\u001b[0m in \u001b[0;36mperm\u001b[0;34m(self, i_parents, x_parents, xi)\u001b[0m\n\u001b[1;32m    113\u001b[0m \u001b[0;34m\u001b[0m\u001b[0m\n\u001b[1;32m    114\u001b[0m             \u001b[0;31m# Permutate\u001b[0m\u001b[0;34m\u001b[0m\u001b[0;34m\u001b[0m\u001b[0;34m\u001b[0m\u001b[0m\n\u001b[0;32m--> 115\u001b[0;31m             \u001b[0mself\u001b[0m\u001b[0;34m.\u001b[0m\u001b[0mperm\u001b[0m\u001b[0;34m(\u001b[0m\u001b[0mi2_parents\u001b[0m\u001b[0;34m,\u001b[0m \u001b[0mx_parents2\u001b[0m\u001b[0;34m,\u001b[0m \u001b[0mxi2\u001b[0m\u001b[0;34m)\u001b[0m\u001b[0;34m\u001b[0m\u001b[0;34m\u001b[0m\u001b[0m\n\u001b[0m\u001b[1;32m    116\u001b[0m \u001b[0;34m\u001b[0m\u001b[0m\n\u001b[1;32m    117\u001b[0m     \u001b[0;32mdef\u001b[0m \u001b[0mperm_symmetry\u001b[0m\u001b[0;34m(\u001b[0m\u001b[0mself\u001b[0m\u001b[0;34m,\u001b[0m \u001b[0mi_s\u001b[0m\u001b[0;34m,\u001b[0m \u001b[0mx_parents\u001b[0m\u001b[0;34m,\u001b[0m \u001b[0mxi\u001b[0m\u001b[0;34m)\u001b[0m\u001b[0;34m:\u001b[0m\u001b[0;34m\u001b[0m\u001b[0;34m\u001b[0m\u001b[0m\n",
      "\u001b[0;32m~/opt/anaconda3/lib/python3.8/site-packages/scipy/optimize/_shgo_lib/triangulation.py\u001b[0m in \u001b[0;36mperm\u001b[0;34m(self, i_parents, x_parents, xi)\u001b[0m\n\u001b[1;32m    113\u001b[0m \u001b[0;34m\u001b[0m\u001b[0m\n\u001b[1;32m    114\u001b[0m             \u001b[0;31m# Permutate\u001b[0m\u001b[0;34m\u001b[0m\u001b[0;34m\u001b[0m\u001b[0;34m\u001b[0m\u001b[0m\n\u001b[0;32m--> 115\u001b[0;31m             \u001b[0mself\u001b[0m\u001b[0;34m.\u001b[0m\u001b[0mperm\u001b[0m\u001b[0;34m(\u001b[0m\u001b[0mi2_parents\u001b[0m\u001b[0;34m,\u001b[0m \u001b[0mx_parents2\u001b[0m\u001b[0;34m,\u001b[0m \u001b[0mxi2\u001b[0m\u001b[0;34m)\u001b[0m\u001b[0;34m\u001b[0m\u001b[0;34m\u001b[0m\u001b[0m\n\u001b[0m\u001b[1;32m    116\u001b[0m \u001b[0;34m\u001b[0m\u001b[0m\n\u001b[1;32m    117\u001b[0m     \u001b[0;32mdef\u001b[0m \u001b[0mperm_symmetry\u001b[0m\u001b[0;34m(\u001b[0m\u001b[0mself\u001b[0m\u001b[0;34m,\u001b[0m \u001b[0mi_s\u001b[0m\u001b[0;34m,\u001b[0m \u001b[0mx_parents\u001b[0m\u001b[0;34m,\u001b[0m \u001b[0mxi\u001b[0m\u001b[0;34m)\u001b[0m\u001b[0;34m:\u001b[0m\u001b[0;34m\u001b[0m\u001b[0;34m\u001b[0m\u001b[0m\n",
      "\u001b[0;32m~/opt/anaconda3/lib/python3.8/site-packages/scipy/optimize/_shgo_lib/triangulation.py\u001b[0m in \u001b[0;36mperm\u001b[0;34m(self, i_parents, x_parents, xi)\u001b[0m\n\u001b[1;32m    113\u001b[0m \u001b[0;34m\u001b[0m\u001b[0m\n\u001b[1;32m    114\u001b[0m             \u001b[0;31m# Permutate\u001b[0m\u001b[0;34m\u001b[0m\u001b[0;34m\u001b[0m\u001b[0;34m\u001b[0m\u001b[0m\n\u001b[0;32m--> 115\u001b[0;31m             \u001b[0mself\u001b[0m\u001b[0;34m.\u001b[0m\u001b[0mperm\u001b[0m\u001b[0;34m(\u001b[0m\u001b[0mi2_parents\u001b[0m\u001b[0;34m,\u001b[0m \u001b[0mx_parents2\u001b[0m\u001b[0;34m,\u001b[0m \u001b[0mxi2\u001b[0m\u001b[0;34m)\u001b[0m\u001b[0;34m\u001b[0m\u001b[0;34m\u001b[0m\u001b[0m\n\u001b[0m\u001b[1;32m    116\u001b[0m \u001b[0;34m\u001b[0m\u001b[0m\n\u001b[1;32m    117\u001b[0m     \u001b[0;32mdef\u001b[0m \u001b[0mperm_symmetry\u001b[0m\u001b[0;34m(\u001b[0m\u001b[0mself\u001b[0m\u001b[0;34m,\u001b[0m \u001b[0mi_s\u001b[0m\u001b[0;34m,\u001b[0m \u001b[0mx_parents\u001b[0m\u001b[0;34m,\u001b[0m \u001b[0mxi\u001b[0m\u001b[0;34m)\u001b[0m\u001b[0;34m:\u001b[0m\u001b[0;34m\u001b[0m\u001b[0;34m\u001b[0m\u001b[0m\n",
      "\u001b[0;32m~/opt/anaconda3/lib/python3.8/site-packages/scipy/optimize/_shgo_lib/triangulation.py\u001b[0m in \u001b[0;36mperm\u001b[0;34m(self, i_parents, x_parents, xi)\u001b[0m\n\u001b[1;32m    113\u001b[0m \u001b[0;34m\u001b[0m\u001b[0m\n\u001b[1;32m    114\u001b[0m             \u001b[0;31m# Permutate\u001b[0m\u001b[0;34m\u001b[0m\u001b[0;34m\u001b[0m\u001b[0;34m\u001b[0m\u001b[0m\n\u001b[0;32m--> 115\u001b[0;31m             \u001b[0mself\u001b[0m\u001b[0;34m.\u001b[0m\u001b[0mperm\u001b[0m\u001b[0;34m(\u001b[0m\u001b[0mi2_parents\u001b[0m\u001b[0;34m,\u001b[0m \u001b[0mx_parents2\u001b[0m\u001b[0;34m,\u001b[0m \u001b[0mxi2\u001b[0m\u001b[0;34m)\u001b[0m\u001b[0;34m\u001b[0m\u001b[0;34m\u001b[0m\u001b[0m\n\u001b[0m\u001b[1;32m    116\u001b[0m \u001b[0;34m\u001b[0m\u001b[0m\n\u001b[1;32m    117\u001b[0m     \u001b[0;32mdef\u001b[0m \u001b[0mperm_symmetry\u001b[0m\u001b[0;34m(\u001b[0m\u001b[0mself\u001b[0m\u001b[0;34m,\u001b[0m \u001b[0mi_s\u001b[0m\u001b[0;34m,\u001b[0m \u001b[0mx_parents\u001b[0m\u001b[0;34m,\u001b[0m \u001b[0mxi\u001b[0m\u001b[0;34m)\u001b[0m\u001b[0;34m:\u001b[0m\u001b[0;34m\u001b[0m\u001b[0;34m\u001b[0m\u001b[0m\n",
      "\u001b[0;32m~/opt/anaconda3/lib/python3.8/site-packages/scipy/optimize/_shgo_lib/triangulation.py\u001b[0m in \u001b[0;36mperm\u001b[0;34m(self, i_parents, x_parents, xi)\u001b[0m\n\u001b[1;32m    113\u001b[0m \u001b[0;34m\u001b[0m\u001b[0m\n\u001b[1;32m    114\u001b[0m             \u001b[0;31m# Permutate\u001b[0m\u001b[0;34m\u001b[0m\u001b[0;34m\u001b[0m\u001b[0;34m\u001b[0m\u001b[0m\n\u001b[0;32m--> 115\u001b[0;31m             \u001b[0mself\u001b[0m\u001b[0;34m.\u001b[0m\u001b[0mperm\u001b[0m\u001b[0;34m(\u001b[0m\u001b[0mi2_parents\u001b[0m\u001b[0;34m,\u001b[0m \u001b[0mx_parents2\u001b[0m\u001b[0;34m,\u001b[0m \u001b[0mxi2\u001b[0m\u001b[0;34m)\u001b[0m\u001b[0;34m\u001b[0m\u001b[0;34m\u001b[0m\u001b[0m\n\u001b[0m\u001b[1;32m    116\u001b[0m \u001b[0;34m\u001b[0m\u001b[0m\n\u001b[1;32m    117\u001b[0m     \u001b[0;32mdef\u001b[0m \u001b[0mperm_symmetry\u001b[0m\u001b[0;34m(\u001b[0m\u001b[0mself\u001b[0m\u001b[0;34m,\u001b[0m \u001b[0mi_s\u001b[0m\u001b[0;34m,\u001b[0m \u001b[0mx_parents\u001b[0m\u001b[0;34m,\u001b[0m \u001b[0mxi\u001b[0m\u001b[0;34m)\u001b[0m\u001b[0;34m:\u001b[0m\u001b[0;34m\u001b[0m\u001b[0;34m\u001b[0m\u001b[0m\n",
      "\u001b[0;32m~/opt/anaconda3/lib/python3.8/site-packages/scipy/optimize/_shgo_lib/triangulation.py\u001b[0m in \u001b[0;36mperm\u001b[0;34m(self, i_parents, x_parents, xi)\u001b[0m\n\u001b[1;32m    113\u001b[0m \u001b[0;34m\u001b[0m\u001b[0m\n\u001b[1;32m    114\u001b[0m             \u001b[0;31m# Permutate\u001b[0m\u001b[0;34m\u001b[0m\u001b[0;34m\u001b[0m\u001b[0;34m\u001b[0m\u001b[0m\n\u001b[0;32m--> 115\u001b[0;31m             \u001b[0mself\u001b[0m\u001b[0;34m.\u001b[0m\u001b[0mperm\u001b[0m\u001b[0;34m(\u001b[0m\u001b[0mi2_parents\u001b[0m\u001b[0;34m,\u001b[0m \u001b[0mx_parents2\u001b[0m\u001b[0;34m,\u001b[0m \u001b[0mxi2\u001b[0m\u001b[0;34m)\u001b[0m\u001b[0;34m\u001b[0m\u001b[0;34m\u001b[0m\u001b[0m\n\u001b[0m\u001b[1;32m    116\u001b[0m \u001b[0;34m\u001b[0m\u001b[0m\n\u001b[1;32m    117\u001b[0m     \u001b[0;32mdef\u001b[0m \u001b[0mperm_symmetry\u001b[0m\u001b[0;34m(\u001b[0m\u001b[0mself\u001b[0m\u001b[0;34m,\u001b[0m \u001b[0mi_s\u001b[0m\u001b[0;34m,\u001b[0m \u001b[0mx_parents\u001b[0m\u001b[0;34m,\u001b[0m \u001b[0mxi\u001b[0m\u001b[0;34m)\u001b[0m\u001b[0;34m:\u001b[0m\u001b[0;34m\u001b[0m\u001b[0;34m\u001b[0m\u001b[0m\n",
      "\u001b[0;32m~/opt/anaconda3/lib/python3.8/site-packages/scipy/optimize/_shgo_lib/triangulation.py\u001b[0m in \u001b[0;36mperm\u001b[0;34m(self, i_parents, x_parents, xi)\u001b[0m\n\u001b[1;32m    113\u001b[0m \u001b[0;34m\u001b[0m\u001b[0m\n\u001b[1;32m    114\u001b[0m             \u001b[0;31m# Permutate\u001b[0m\u001b[0;34m\u001b[0m\u001b[0;34m\u001b[0m\u001b[0;34m\u001b[0m\u001b[0m\n\u001b[0;32m--> 115\u001b[0;31m             \u001b[0mself\u001b[0m\u001b[0;34m.\u001b[0m\u001b[0mperm\u001b[0m\u001b[0;34m(\u001b[0m\u001b[0mi2_parents\u001b[0m\u001b[0;34m,\u001b[0m \u001b[0mx_parents2\u001b[0m\u001b[0;34m,\u001b[0m \u001b[0mxi2\u001b[0m\u001b[0;34m)\u001b[0m\u001b[0;34m\u001b[0m\u001b[0;34m\u001b[0m\u001b[0m\n\u001b[0m\u001b[1;32m    116\u001b[0m \u001b[0;34m\u001b[0m\u001b[0m\n\u001b[1;32m    117\u001b[0m     \u001b[0;32mdef\u001b[0m \u001b[0mperm_symmetry\u001b[0m\u001b[0;34m(\u001b[0m\u001b[0mself\u001b[0m\u001b[0;34m,\u001b[0m \u001b[0mi_s\u001b[0m\u001b[0;34m,\u001b[0m \u001b[0mx_parents\u001b[0m\u001b[0;34m,\u001b[0m \u001b[0mxi\u001b[0m\u001b[0;34m)\u001b[0m\u001b[0;34m:\u001b[0m\u001b[0;34m\u001b[0m\u001b[0;34m\u001b[0m\u001b[0m\n",
      "\u001b[0;32m~/opt/anaconda3/lib/python3.8/site-packages/scipy/optimize/_shgo_lib/triangulation.py\u001b[0m in \u001b[0;36mperm\u001b[0;34m(self, i_parents, x_parents, xi)\u001b[0m\n\u001b[1;32m    113\u001b[0m \u001b[0;34m\u001b[0m\u001b[0m\n\u001b[1;32m    114\u001b[0m             \u001b[0;31m# Permutate\u001b[0m\u001b[0;34m\u001b[0m\u001b[0;34m\u001b[0m\u001b[0;34m\u001b[0m\u001b[0m\n\u001b[0;32m--> 115\u001b[0;31m             \u001b[0mself\u001b[0m\u001b[0;34m.\u001b[0m\u001b[0mperm\u001b[0m\u001b[0;34m(\u001b[0m\u001b[0mi2_parents\u001b[0m\u001b[0;34m,\u001b[0m \u001b[0mx_parents2\u001b[0m\u001b[0;34m,\u001b[0m \u001b[0mxi2\u001b[0m\u001b[0;34m)\u001b[0m\u001b[0;34m\u001b[0m\u001b[0;34m\u001b[0m\u001b[0m\n\u001b[0m\u001b[1;32m    116\u001b[0m \u001b[0;34m\u001b[0m\u001b[0m\n\u001b[1;32m    117\u001b[0m     \u001b[0;32mdef\u001b[0m \u001b[0mperm_symmetry\u001b[0m\u001b[0;34m(\u001b[0m\u001b[0mself\u001b[0m\u001b[0;34m,\u001b[0m \u001b[0mi_s\u001b[0m\u001b[0;34m,\u001b[0m \u001b[0mx_parents\u001b[0m\u001b[0;34m,\u001b[0m \u001b[0mxi\u001b[0m\u001b[0;34m)\u001b[0m\u001b[0;34m:\u001b[0m\u001b[0;34m\u001b[0m\u001b[0;34m\u001b[0m\u001b[0m\n",
      "\u001b[0;32m~/opt/anaconda3/lib/python3.8/site-packages/scipy/optimize/_shgo_lib/triangulation.py\u001b[0m in \u001b[0;36mperm\u001b[0;34m(self, i_parents, x_parents, xi)\u001b[0m\n\u001b[1;32m    113\u001b[0m \u001b[0;34m\u001b[0m\u001b[0m\n\u001b[1;32m    114\u001b[0m             \u001b[0;31m# Permutate\u001b[0m\u001b[0;34m\u001b[0m\u001b[0;34m\u001b[0m\u001b[0;34m\u001b[0m\u001b[0m\n\u001b[0;32m--> 115\u001b[0;31m             \u001b[0mself\u001b[0m\u001b[0;34m.\u001b[0m\u001b[0mperm\u001b[0m\u001b[0;34m(\u001b[0m\u001b[0mi2_parents\u001b[0m\u001b[0;34m,\u001b[0m \u001b[0mx_parents2\u001b[0m\u001b[0;34m,\u001b[0m \u001b[0mxi2\u001b[0m\u001b[0;34m)\u001b[0m\u001b[0;34m\u001b[0m\u001b[0;34m\u001b[0m\u001b[0m\n\u001b[0m\u001b[1;32m    116\u001b[0m \u001b[0;34m\u001b[0m\u001b[0m\n\u001b[1;32m    117\u001b[0m     \u001b[0;32mdef\u001b[0m \u001b[0mperm_symmetry\u001b[0m\u001b[0;34m(\u001b[0m\u001b[0mself\u001b[0m\u001b[0;34m,\u001b[0m \u001b[0mi_s\u001b[0m\u001b[0;34m,\u001b[0m \u001b[0mx_parents\u001b[0m\u001b[0;34m,\u001b[0m \u001b[0mxi\u001b[0m\u001b[0;34m)\u001b[0m\u001b[0;34m:\u001b[0m\u001b[0;34m\u001b[0m\u001b[0;34m\u001b[0m\u001b[0m\n",
      "\u001b[0;32m~/opt/anaconda3/lib/python3.8/site-packages/scipy/optimize/_shgo_lib/triangulation.py\u001b[0m in \u001b[0;36mperm\u001b[0;34m(self, i_parents, x_parents, xi)\u001b[0m\n\u001b[1;32m    113\u001b[0m \u001b[0;34m\u001b[0m\u001b[0m\n\u001b[1;32m    114\u001b[0m             \u001b[0;31m# Permutate\u001b[0m\u001b[0;34m\u001b[0m\u001b[0;34m\u001b[0m\u001b[0;34m\u001b[0m\u001b[0m\n\u001b[0;32m--> 115\u001b[0;31m             \u001b[0mself\u001b[0m\u001b[0;34m.\u001b[0m\u001b[0mperm\u001b[0m\u001b[0;34m(\u001b[0m\u001b[0mi2_parents\u001b[0m\u001b[0;34m,\u001b[0m \u001b[0mx_parents2\u001b[0m\u001b[0;34m,\u001b[0m \u001b[0mxi2\u001b[0m\u001b[0;34m)\u001b[0m\u001b[0;34m\u001b[0m\u001b[0;34m\u001b[0m\u001b[0m\n\u001b[0m\u001b[1;32m    116\u001b[0m \u001b[0;34m\u001b[0m\u001b[0m\n\u001b[1;32m    117\u001b[0m     \u001b[0;32mdef\u001b[0m \u001b[0mperm_symmetry\u001b[0m\u001b[0;34m(\u001b[0m\u001b[0mself\u001b[0m\u001b[0;34m,\u001b[0m \u001b[0mi_s\u001b[0m\u001b[0;34m,\u001b[0m \u001b[0mx_parents\u001b[0m\u001b[0;34m,\u001b[0m \u001b[0mxi\u001b[0m\u001b[0;34m)\u001b[0m\u001b[0;34m:\u001b[0m\u001b[0;34m\u001b[0m\u001b[0;34m\u001b[0m\u001b[0m\n",
      "\u001b[0;32m~/opt/anaconda3/lib/python3.8/site-packages/scipy/optimize/_shgo_lib/triangulation.py\u001b[0m in \u001b[0;36mperm\u001b[0;34m(self, i_parents, x_parents, xi)\u001b[0m\n\u001b[1;32m    113\u001b[0m \u001b[0;34m\u001b[0m\u001b[0m\n\u001b[1;32m    114\u001b[0m             \u001b[0;31m# Permutate\u001b[0m\u001b[0;34m\u001b[0m\u001b[0;34m\u001b[0m\u001b[0;34m\u001b[0m\u001b[0m\n\u001b[0;32m--> 115\u001b[0;31m             \u001b[0mself\u001b[0m\u001b[0;34m.\u001b[0m\u001b[0mperm\u001b[0m\u001b[0;34m(\u001b[0m\u001b[0mi2_parents\u001b[0m\u001b[0;34m,\u001b[0m \u001b[0mx_parents2\u001b[0m\u001b[0;34m,\u001b[0m \u001b[0mxi2\u001b[0m\u001b[0;34m)\u001b[0m\u001b[0;34m\u001b[0m\u001b[0;34m\u001b[0m\u001b[0m\n\u001b[0m\u001b[1;32m    116\u001b[0m \u001b[0;34m\u001b[0m\u001b[0m\n\u001b[1;32m    117\u001b[0m     \u001b[0;32mdef\u001b[0m \u001b[0mperm_symmetry\u001b[0m\u001b[0;34m(\u001b[0m\u001b[0mself\u001b[0m\u001b[0;34m,\u001b[0m \u001b[0mi_s\u001b[0m\u001b[0;34m,\u001b[0m \u001b[0mx_parents\u001b[0m\u001b[0;34m,\u001b[0m \u001b[0mxi\u001b[0m\u001b[0;34m)\u001b[0m\u001b[0;34m:\u001b[0m\u001b[0;34m\u001b[0m\u001b[0;34m\u001b[0m\u001b[0m\n",
      "\u001b[0;32m~/opt/anaconda3/lib/python3.8/site-packages/scipy/optimize/_shgo_lib/triangulation.py\u001b[0m in \u001b[0;36mperm\u001b[0;34m(self, i_parents, x_parents, xi)\u001b[0m\n\u001b[1;32m    113\u001b[0m \u001b[0;34m\u001b[0m\u001b[0m\n\u001b[1;32m    114\u001b[0m             \u001b[0;31m# Permutate\u001b[0m\u001b[0;34m\u001b[0m\u001b[0;34m\u001b[0m\u001b[0;34m\u001b[0m\u001b[0m\n\u001b[0;32m--> 115\u001b[0;31m             \u001b[0mself\u001b[0m\u001b[0;34m.\u001b[0m\u001b[0mperm\u001b[0m\u001b[0;34m(\u001b[0m\u001b[0mi2_parents\u001b[0m\u001b[0;34m,\u001b[0m \u001b[0mx_parents2\u001b[0m\u001b[0;34m,\u001b[0m \u001b[0mxi2\u001b[0m\u001b[0;34m)\u001b[0m\u001b[0;34m\u001b[0m\u001b[0;34m\u001b[0m\u001b[0m\n\u001b[0m\u001b[1;32m    116\u001b[0m \u001b[0;34m\u001b[0m\u001b[0m\n\u001b[1;32m    117\u001b[0m     \u001b[0;32mdef\u001b[0m \u001b[0mperm_symmetry\u001b[0m\u001b[0;34m(\u001b[0m\u001b[0mself\u001b[0m\u001b[0;34m,\u001b[0m \u001b[0mi_s\u001b[0m\u001b[0;34m,\u001b[0m \u001b[0mx_parents\u001b[0m\u001b[0;34m,\u001b[0m \u001b[0mxi\u001b[0m\u001b[0;34m)\u001b[0m\u001b[0;34m:\u001b[0m\u001b[0;34m\u001b[0m\u001b[0;34m\u001b[0m\u001b[0m\n",
      "\u001b[0;32m~/opt/anaconda3/lib/python3.8/site-packages/scipy/optimize/_shgo_lib/triangulation.py\u001b[0m in \u001b[0;36mperm\u001b[0;34m(self, i_parents, x_parents, xi)\u001b[0m\n\u001b[1;32m    113\u001b[0m \u001b[0;34m\u001b[0m\u001b[0m\n\u001b[1;32m    114\u001b[0m             \u001b[0;31m# Permutate\u001b[0m\u001b[0;34m\u001b[0m\u001b[0;34m\u001b[0m\u001b[0;34m\u001b[0m\u001b[0m\n\u001b[0;32m--> 115\u001b[0;31m             \u001b[0mself\u001b[0m\u001b[0;34m.\u001b[0m\u001b[0mperm\u001b[0m\u001b[0;34m(\u001b[0m\u001b[0mi2_parents\u001b[0m\u001b[0;34m,\u001b[0m \u001b[0mx_parents2\u001b[0m\u001b[0;34m,\u001b[0m \u001b[0mxi2\u001b[0m\u001b[0;34m)\u001b[0m\u001b[0;34m\u001b[0m\u001b[0;34m\u001b[0m\u001b[0m\n\u001b[0m\u001b[1;32m    116\u001b[0m \u001b[0;34m\u001b[0m\u001b[0m\n\u001b[1;32m    117\u001b[0m     \u001b[0;32mdef\u001b[0m \u001b[0mperm_symmetry\u001b[0m\u001b[0;34m(\u001b[0m\u001b[0mself\u001b[0m\u001b[0;34m,\u001b[0m \u001b[0mi_s\u001b[0m\u001b[0;34m,\u001b[0m \u001b[0mx_parents\u001b[0m\u001b[0;34m,\u001b[0m \u001b[0mxi\u001b[0m\u001b[0;34m)\u001b[0m\u001b[0;34m:\u001b[0m\u001b[0;34m\u001b[0m\u001b[0;34m\u001b[0m\u001b[0m\n",
      "\u001b[0;32m~/opt/anaconda3/lib/python3.8/site-packages/scipy/optimize/_shgo_lib/triangulation.py\u001b[0m in \u001b[0;36mperm\u001b[0;34m(self, i_parents, x_parents, xi)\u001b[0m\n\u001b[1;32m    113\u001b[0m \u001b[0;34m\u001b[0m\u001b[0m\n\u001b[1;32m    114\u001b[0m             \u001b[0;31m# Permutate\u001b[0m\u001b[0;34m\u001b[0m\u001b[0;34m\u001b[0m\u001b[0;34m\u001b[0m\u001b[0m\n\u001b[0;32m--> 115\u001b[0;31m             \u001b[0mself\u001b[0m\u001b[0;34m.\u001b[0m\u001b[0mperm\u001b[0m\u001b[0;34m(\u001b[0m\u001b[0mi2_parents\u001b[0m\u001b[0;34m,\u001b[0m \u001b[0mx_parents2\u001b[0m\u001b[0;34m,\u001b[0m \u001b[0mxi2\u001b[0m\u001b[0;34m)\u001b[0m\u001b[0;34m\u001b[0m\u001b[0;34m\u001b[0m\u001b[0m\n\u001b[0m\u001b[1;32m    116\u001b[0m \u001b[0;34m\u001b[0m\u001b[0m\n\u001b[1;32m    117\u001b[0m     \u001b[0;32mdef\u001b[0m \u001b[0mperm_symmetry\u001b[0m\u001b[0;34m(\u001b[0m\u001b[0mself\u001b[0m\u001b[0;34m,\u001b[0m \u001b[0mi_s\u001b[0m\u001b[0;34m,\u001b[0m \u001b[0mx_parents\u001b[0m\u001b[0;34m,\u001b[0m \u001b[0mxi\u001b[0m\u001b[0;34m)\u001b[0m\u001b[0;34m:\u001b[0m\u001b[0;34m\u001b[0m\u001b[0;34m\u001b[0m\u001b[0m\n",
      "\u001b[0;32m~/opt/anaconda3/lib/python3.8/site-packages/scipy/optimize/_shgo_lib/triangulation.py\u001b[0m in \u001b[0;36mperm\u001b[0;34m(self, i_parents, x_parents, xi)\u001b[0m\n\u001b[1;32m    107\u001b[0m             \u001b[0;31m# Connect all family of simplices in parent containers\u001b[0m\u001b[0;34m\u001b[0m\u001b[0;34m\u001b[0m\u001b[0;34m\u001b[0m\u001b[0m\n\u001b[1;32m    108\u001b[0m             \u001b[0;32mfor\u001b[0m \u001b[0mx_ip\u001b[0m \u001b[0;32min\u001b[0m \u001b[0mx_parents\u001b[0m\u001b[0;34m:\u001b[0m\u001b[0;34m\u001b[0m\u001b[0;34m\u001b[0m\u001b[0m\n\u001b[0;32m--> 109\u001b[0;31m                 \u001b[0mself\u001b[0m\u001b[0;34m.\u001b[0m\u001b[0mV\u001b[0m\u001b[0;34m[\u001b[0m\u001b[0mxi2_t\u001b[0m\u001b[0;34m]\u001b[0m\u001b[0;34m.\u001b[0m\u001b[0mconnect\u001b[0m\u001b[0;34m(\u001b[0m\u001b[0mself\u001b[0m\u001b[0;34m.\u001b[0m\u001b[0mV\u001b[0m\u001b[0;34m[\u001b[0m\u001b[0mx_ip\u001b[0m\u001b[0;34m]\u001b[0m\u001b[0;34m)\u001b[0m\u001b[0;34m\u001b[0m\u001b[0;34m\u001b[0m\u001b[0m\n\u001b[0m\u001b[1;32m    110\u001b[0m \u001b[0;34m\u001b[0m\u001b[0m\n\u001b[1;32m    111\u001b[0m             \u001b[0mx_parents2\u001b[0m \u001b[0;34m=\u001b[0m \u001b[0mcopy\u001b[0m\u001b[0;34m.\u001b[0m\u001b[0mcopy\u001b[0m\u001b[0;34m(\u001b[0m\u001b[0mx_parents\u001b[0m\u001b[0;34m)\u001b[0m\u001b[0;34m\u001b[0m\u001b[0;34m\u001b[0m\u001b[0m\n",
      "\u001b[0;32m~/opt/anaconda3/lib/python3.8/site-packages/scipy/optimize/_shgo_lib/triangulation.py\u001b[0m in \u001b[0;36m__getitem__\u001b[0;34m(self, x, indexed)\u001b[0m\n\u001b[1;32m    628\u001b[0m     \u001b[0;32mdef\u001b[0m \u001b[0m__getitem__\u001b[0m\u001b[0;34m(\u001b[0m\u001b[0mself\u001b[0m\u001b[0;34m,\u001b[0m \u001b[0mx\u001b[0m\u001b[0;34m,\u001b[0m \u001b[0mindexed\u001b[0m\u001b[0;34m=\u001b[0m\u001b[0;32mTrue\u001b[0m\u001b[0;34m)\u001b[0m\u001b[0;34m:\u001b[0m\u001b[0;34m\u001b[0m\u001b[0;34m\u001b[0m\u001b[0m\n\u001b[1;32m    629\u001b[0m         \u001b[0;32mtry\u001b[0m\u001b[0;34m:\u001b[0m\u001b[0;34m\u001b[0m\u001b[0;34m\u001b[0m\u001b[0m\n\u001b[0;32m--> 630\u001b[0;31m             \u001b[0;32mreturn\u001b[0m \u001b[0mself\u001b[0m\u001b[0;34m.\u001b[0m\u001b[0mcache\u001b[0m\u001b[0;34m[\u001b[0m\u001b[0mx\u001b[0m\u001b[0;34m]\u001b[0m\u001b[0;34m\u001b[0m\u001b[0;34m\u001b[0m\u001b[0m\n\u001b[0m\u001b[1;32m    631\u001b[0m         \u001b[0;32mexcept\u001b[0m \u001b[0mKeyError\u001b[0m\u001b[0;34m:\u001b[0m\u001b[0;34m\u001b[0m\u001b[0;34m\u001b[0m\u001b[0m\n\u001b[1;32m    632\u001b[0m             \u001b[0;32mif\u001b[0m \u001b[0mindexed\u001b[0m\u001b[0;34m:\u001b[0m\u001b[0;34m\u001b[0m\u001b[0;34m\u001b[0m\u001b[0m\n",
      "\u001b[0;31mKeyboardInterrupt\u001b[0m: "
     ]
    }
   ],
   "source": [
    "out = result.publish(acc=acc,sigma=1.5)\n",
    "acc.print_ledger()"
   ]
  },
  {
   "cell_type": "code",
   "execution_count": 48,
   "metadata": {},
   "outputs": [
    {
     "name": "stdout",
     "output_type": "stream",
     "text": [
      "<Entity:Constance_Weddle>\t2.365443354618569\n"
     ]
    }
   ],
   "source": [
    "acc.print_ledger()"
   ]
  },
  {
   "cell_type": "code",
   "execution_count": 6,
   "metadata": {},
   "outputs": [
    {
     "ename": "SyntaxError",
     "evalue": "invalid syntax (<ipython-input-6-07842543fea2>, line 1)",
     "output_type": "error",
     "traceback": [
      "\u001b[0;36m  File \u001b[0;32m\"<ipython-input-6-07842543fea2>\"\u001b[0;36m, line \u001b[0;32m1\u001b[0m\n\u001b[0;31m    =\u001b[0m\n\u001b[0m    ^\u001b[0m\n\u001b[0;31mSyntaxError\u001b[0m\u001b[0;31m:\u001b[0m invalid syntax\n"
     ]
    }
   ],
   "source": [
    "=\n",
    "\n",
    "x = Tensor(np.array([[1,1],[1,0],[0,1],[0,0]])).private(min_val=0, max_val=1, entities=entities, is_discrete=True)\n",
    "y = Tensor(np.array([[1],[1],[0],[0]])).private(min_val=0, max_val=1, entities=entities, is_discrete=False)\n",
    "\n",
    "_weights = Tensor(np.random.uniform(size=(2,1)))"
   ]
  },
  {
   "cell_type": "code",
   "execution_count": 2,
   "metadata": {},
   "outputs": [
    {
     "name": "stdout",
     "output_type": "stream",
     "text": [
      "0.17169736596498625\n",
      "0.07441205306476974\n",
      "0.04001946718047936\n",
      "<Entity:George>\t602.4247883171074\n",
      "<Entity:Kritika>\t602.4247883171074\n",
      "<Entity:Madhava>\t602.4247883171074\n",
      "<Entity:Tudor>\t602.4247883171074\n"
     ]
    }
   ],
   "source": [
    "weights = _weights + 0\n",
    "# acc = AdversarialAccountant(max_budget=7)  # causes error at end of budget\n",
    "\n",
    "\n",
    "for i in range(3):\n",
    "    batch_loss = 0\n",
    "\n",
    "    pred = x.dot(weights)\n",
    "    pre_loss = np.square(y-pred)\n",
    "    loss = np.mean(pre_loss, axis=1)\n",
    "#     loss = np.mean(pre_loss)    \n",
    "    ledger = loss.backward(accumulate_grads=True)\n",
    "    weight_grad = (weights.grad*0.3)\n",
    "    weight_grad_noise = weight_grad.publish(acc=acc, sigma=0.005)\n",
    "    weights = weights - weight_grad_noise\n",
    "    ledger.zero_grads()\n",
    "    batch_loss += loss.value\n",
    "    print(np.sum([loss.value]))\n",
    "    \n",
    "acc.print_ledger()\n"
   ]
  },
  {
   "cell_type": "code",
   "execution_count": null,
   "metadata": {},
   "outputs": [],
   "source": []
  },
  {
   "cell_type": "code",
   "execution_count": null,
   "metadata": {},
   "outputs": [],
   "source": []
  },
  {
   "cell_type": "code",
   "execution_count": 13,
   "metadata": {},
   "outputs": [],
   "source": [
    "x = PhiScalar(0,0.01,1)"
   ]
  },
  {
   "cell_type": "code",
   "execution_count": 14,
   "metadata": {},
   "outputs": [],
   "source": [
    "out = x * x"
   ]
  },
  {
   "cell_type": "code",
   "execution_count": 15,
   "metadata": {},
   "outputs": [
    {
     "name": "stdout",
     "output_type": "stream",
     "text": [
      "<IntermediatePhiScalar: (0.0 < 0.000100000000000000 < 1.0)>\n",
      "found one!\n"
     ]
    },
    {
     "data": {
      "text/plain": [
       "[0.703353940208477]"
      ]
     },
     "execution_count": 15,
     "metadata": {},
     "output_type": "execute_result"
    }
   ],
   "source": [
    "out.publish(acc=acc)"
   ]
  },
  {
   "cell_type": "code",
   "execution_count": 10,
   "metadata": {},
   "outputs": [
    {
     "name": "stdout",
     "output_type": "stream",
     "text": [
      "<Entity:George>\t0.0\n",
      "<Entity:Richard_Alvarez>\t0.0002737137892581691\n"
     ]
    }
   ],
   "source": [
    "acc.print_ledger()"
   ]
  },
  {
   "cell_type": "code",
   "execution_count": 1,
   "metadata": {},
   "outputs": [
    {
     "ename": "NameError",
     "evalue": "name 'x' is not defined",
     "output_type": "error",
     "traceback": [
      "\u001b[0;31m---------------------------------------------------------------------------\u001b[0m",
      "\u001b[0;31mNameError\u001b[0m                                 Traceback (most recent call last)",
      "\u001b[0;32m<ipython-input-1-cb1926d9db53>\u001b[0m in \u001b[0;36m<module>\u001b[0;34m\u001b[0m\n\u001b[0;32m----> 1\u001b[0;31m \u001b[0mx\u001b[0m\u001b[0;34m.\u001b[0m\u001b[0mentity\u001b[0m\u001b[0;34m\u001b[0m\u001b[0;34m\u001b[0m\u001b[0m\n\u001b[0m",
      "\u001b[0;31mNameError\u001b[0m: name 'x' is not defined"
     ]
    }
   ],
   "source": [
    "x.entity"
   ]
  },
  {
   "cell_type": "code",
   "execution_count": 7,
   "metadata": {},
   "outputs": [],
   "source": [
    "import sympy as sym"
   ]
  },
  {
   "cell_type": "code",
   "execution_count": 9,
   "metadata": {},
   "outputs": [],
   "source": [
    "a,b = sym.symbols('a,b')"
   ]
  },
  {
   "cell_type": "code",
   "execution_count": 10,
   "metadata": {},
   "outputs": [],
   "source": [
    "y = a + b"
   ]
  },
  {
   "cell_type": "code",
   "execution_count": 38,
   "metadata": {},
   "outputs": [],
   "source": [
    "from sympy.core.numbers import Number\n",
    "class Float2(Number):\n",
    "    \n",
    "    def __init__(self, val):\n",
    "        self.val = val\n",
    "        \n",
    "    def __add__(self, other):\n",
    "        print(\"adding\")\n",
    "        return Float(self.val - other.val)"
   ]
  },
  {
   "cell_type": "code",
   "execution_count": 39,
   "metadata": {},
   "outputs": [
    {
     "data": {
      "text/latex": [
       "$\\displaystyle b + 3$"
      ],
      "text/plain": [
       "b + 3"
      ]
     },
     "execution_count": 39,
     "metadata": {},
     "output_type": "execute_result"
    }
   ],
   "source": [
    "out = y.subs({a:Float2(3)})\n",
    "out"
   ]
  },
  {
   "cell_type": "code",
   "execution_count": 40,
   "metadata": {},
   "outputs": [
    {
     "data": {
      "text/latex": [
       "$\\displaystyle 5$"
      ],
      "text/plain": [
       "5"
      ]
     },
     "execution_count": 40,
     "metadata": {},
     "output_type": "execute_result"
    }
   ],
   "source": [
    "out.subs({b:Float2(2)})"
   ]
  },
  {
   "cell_type": "code",
   "execution_count": 9,
   "metadata": {},
   "outputs": [
    {
     "ename": "IndexError",
     "evalue": "too many indices for array",
     "output_type": "error",
     "traceback": [
      "\u001b[0;31m---------------------------------------------------------------------------\u001b[0m",
      "\u001b[0;31mIndexError\u001b[0m                                Traceback (most recent call last)",
      "\u001b[0;32m<ipython-input-9-5e8add4df465>\u001b[0m in \u001b[0;36m<module>\u001b[0;34m\u001b[0m\n\u001b[0;32m----> 1\u001b[0;31m \u001b[0mloss\u001b[0m\u001b[0;34m[\u001b[0m\u001b[0;36m0\u001b[0m\u001b[0;34m]\u001b[0m\u001b[0;34m.\u001b[0m\u001b[0mvalue\u001b[0m\u001b[0;34m.\u001b[0m\u001b[0mpoly\u001b[0m\u001b[0;34m\u001b[0m\u001b[0;34m\u001b[0m\u001b[0m\n\u001b[0m",
      "\u001b[0;31mIndexError\u001b[0m: too many indices for array"
     ]
    }
   ],
   "source": [
    "# loss[0].value.poly"
   ]
  },
  {
   "cell_type": "code",
   "execution_count": null,
   "metadata": {},
   "outputs": [],
   "source": []
  },
  {
   "cell_type": "code",
   "execution_count": null,
   "metadata": {},
   "outputs": [],
   "source": []
  },
  {
   "cell_type": "code",
   "execution_count": null,
   "metadata": {},
   "outputs": [],
   "source": []
  },
  {
   "cell_type": "code",
   "execution_count": 10,
   "metadata": {},
   "outputs": [
    {
     "data": {
      "text/latex": [
       "$\\displaystyle 24ffce1fe8ab44a583abecf0b2e1ca69_{c06e7e291fdb4cb6b5ec0b9abbabf1bf} + 3 \\cdot 3175e5ebc4944304bb4a1a010fa5003d_{162afbde9a87417a9a49c14568ea1c11} + 4 \\cdot 5ec1e3788c314340a6ea45342375281e_{162afbde9a87417a9a49c14568ea1c11} + 6 \\cdot 68ed3172c1f6417faa4f5ca24611e12d_{d59083b02ef74bdf8122e0c51454aa71} + 6 \\cdot 98d310c205b743be9af907ff4646238b_{b63effdec6ba47bf93a126d0b5cc7086} + d082ac7660e84d0c806997c2dbe4f600_{b63effdec6ba47bf93a126d0b5cc7086} + 5 eeffa282abe44326ae5fc1b8a6f8c6a0_{d59083b02ef74bdf8122e0c51454aa71} + 2 fdefb3e070394d5cbf22820ac0ab7b00_{c06e7e291fdb4cb6b5ec0b9abbabf1bf}$"
      ],
      "text/plain": [
       "24ffce1fe8ab44a583abecf0b2e1ca69_c06e7e291fdb4cb6b5ec0b9abbabf1bf + 3*3175e5ebc4944304bb4a1a010fa5003d_162afbde9a87417a9a49c14568ea1c11 + 4*5ec1e3788c314340a6ea45342375281e_162afbde9a87417a9a49c14568ea1c11 + 6*68ed3172c1f6417faa4f5ca24611e12d_d59083b02ef74bdf8122e0c51454aa71 + 6*98d310c205b743be9af907ff4646238b_b63effdec6ba47bf93a126d0b5cc7086 + d082ac7660e84d0c806997c2dbe4f600_b63effdec6ba47bf93a126d0b5cc7086 + 5*eeffa282abe44326ae5fc1b8a6f8c6a0_d59083b02ef74bdf8122e0c51454aa71 + 2*fdefb3e070394d5cbf22820ac0ab7b00_c06e7e291fdb4cb6b5ec0b9abbabf1bf"
      ]
     },
     "execution_count": 10,
     "metadata": {},
     "output_type": "execute_result"
    }
   ],
   "source": []
  },
  {
   "cell_type": "code",
   "execution_count": null,
   "metadata": {},
   "outputs": [],
   "source": []
  },
  {
   "cell_type": "code",
   "execution_count": null,
   "metadata": {},
   "outputs": [],
   "source": [
    "## first-pass methods to try to get into AutogradTensor\n",
    "\n",
    "ops = ['T',\n",
    " '__abs__',\n",
    "#  '__add__',\n",
    "#  '__and__',\n",
    "#  '__array__',\n",
    "#  '__array_finalize__',\n",
    "#  '__array_function__',\n",
    "#  '__array_interface__',\n",
    "#  '__array_prepare__',\n",
    "#  '__array_priority__',\n",
    "#  '__array_struct__',\n",
    "#  '__array_ufunc__',\n",
    "#  '__array_wrap__',\n",
    "#  '__bool__',\n",
    "#  '__class__',\n",
    "#  '__complex__',\n",
    "#  '__contains__',\n",
    "#  '__copy__',\n",
    "#  '__deepcopy__',\n",
    "#  '__delattr__',\n",
    "#  '__delitem__',\n",
    "#  '__dir__',\n",
    " '__divmod__',\n",
    "#  '__doc__',\n",
    " '__eq__',\n",
    "#  '__float__',\n",
    " '__floordiv__',\n",
    "#  '__format__',\n",
    " '__ge__',\n",
    "#  '__getattribute__',\n",
    " '__getitem__',\n",
    " '__gt__',\n",
    "#  '__hash__',\n",
    "#  '__iadd__',\n",
    "#  '__iand__', # trigger an error for inline \n",
    "#  '__ifloordiv__',\n",
    "#  '__ilshift__',\n",
    "#  '__imatmul__',\n",
    "#  '__imod__',\n",
    "#  '__imul__',\n",
    " '__index__',\n",
    "#  '__init__',\n",
    "#  '__init_subclass__',\n",
    "#  '__int__',\n",
    " '__invert__',\n",
    "#  '__ior__',\n",
    "#  '__ipow__',\n",
    "#  '__irshift__',\n",
    "#  '__isub__',\n",
    " '__iter__',\n",
    "#  '__itruediv__',\n",
    "#  '__ixor__',\n",
    " '__le__',\n",
    " '__len__',\n",
    " '__lshift__',\n",
    " '__lt__',\n",
    " '__matmul__',\n",
    "#  '__mod__',\n",
    " '__mul__',\n",
    " '__ne__',\n",
    " '__neg__',\n",
    "#  '__new__',\n",
    "#  '__or__',\n",
    "#  '__pos__',\n",
    " '__pow__',\n",
    " '__radd__',\n",
    "#  '__rand__',\n",
    "#  '__rdivmod__',\n",
    "#  '__reduce__',\n",
    "#  '__reduce_ex__',\n",
    " '__repr__',\n",
    " '__rfloordiv__',\n",
    " '__rlshift__',\n",
    " '__rmatmul__',\n",
    "#  '__rmod__',\n",
    " '__rmul__',\n",
    "#  '__ror__',\n",
    " '__rpow__',\n",
    " '__rrshift__',\n",
    " '__rshift__',\n",
    " '__rsub__',\n",
    " '__rtruediv__',\n",
    "#  '__rxor__',\n",
    "#  '__setattr__',\n",
    "#  '__setitem__',\n",
    "#  '__setstate__',\n",
    " '__sizeof__',\n",
    " '__str__',\n",
    " '__sub__',\n",
    "#  '__subclasshook__',\n",
    " '__truediv__',\n",
    "#  '__xor__',\n",
    "#  'all',\n",
    "#  'any',\n",
    " 'argmax',\n",
    " 'argmin',\n",
    "#  'argpartition',\n",
    " 'argsort',\n",
    "#  'astype',\n",
    "#  'base',\n",
    "#  'byteswap',\n",
    " 'choose',\n",
    " 'clip',\n",
    "#  'compress',\n",
    "#  'conj',\n",
    "#  'conjugate',\n",
    " 'copy',\n",
    "#  'ctypes',\n",
    " 'cumprod',\n",
    " 'cumsum',\n",
    "#  'data',\n",
    " 'diagonal',\n",
    " 'dot',\n",
    "#  'dtype',\n",
    "#  'dump',\n",
    "#  'dumps',\n",
    "#  'fill',\n",
    "#  'flags',\n",
    " 'flat',\n",
    " 'flatten',\n",
    "#  'getfield',\n",
    "#  'imag',\n",
    " 'item',\n",
    " 'itemset',\n",
    " 'itemsize',\n",
    " 'max',\n",
    " 'mean',\n",
    " 'min',\n",
    "#  'nbytes',\n",
    " 'ndim',\n",
    "#  'newbyteorder',\n",
    "#  'nonzero',\n",
    "#  'partition',\n",
    " 'prod',\n",
    "#  'ptp',\n",
    "#  'put',\n",
    "#  'ravel',\n",
    "#  'real',\n",
    " 'repeat',\n",
    " 'reshape',\n",
    " 'resize',\n",
    "#  'round',\n",
    "#  'searchsorted',\n",
    "#  'setfield',\n",
    "#  'setflags',\n",
    "#  'shape',\n",
    "#  'size',\n",
    " 'sort',\n",
    " 'squeeze',\n",
    " 'std',\n",
    "#  'strides',\n",
    " 'sum',\n",
    " 'swapaxes',\n",
    " 'take',\n",
    "#  'tobytes',\n",
    "#  'tofile',\n",
    "#  'tolist',\n",
    "#  'tostring',\n",
    "#  'trace',\n",
    " 'transpose',\n",
    "#  'var',\n",
    "#  'view'\n",
    "      ]"
   ]
  }
 ],
 "metadata": {
  "kernelspec": {
   "display_name": "Python 3",
   "language": "python",
   "name": "python3"
  },
  "language_info": {
   "codemirror_mode": {
    "name": "ipython",
    "version": 3
   },
   "file_extension": ".py",
   "mimetype": "text/x-python",
   "name": "python",
   "nbconvert_exporter": "python",
   "pygments_lexer": "ipython3",
   "version": "3.7.7"
  }
 },
 "nbformat": 4,
 "nbformat_minor": 4
}

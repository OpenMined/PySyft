{
 "cells": [
  {
   "cell_type": "code",
   "execution_count": 9,
   "metadata": {},
   "outputs": [],
   "source": [
    "import syft as sy\n",
    "import numpy as np\n",
    "from syft.core.adp.tensor import Tensor\n",
    "from syft.core.adp.entity import Entity\n",
    "from syft.core.adp.adversarial_accountant import AdversarialAccountant\n",
    "\n",
    "entities = [Entity(name=\"Tudor\"), Entity(name=\"Madhava\"), Entity(name=\"Kritika\"), Entity(name=\"George\")]\n",
    "\n",
    "x = Tensor(np.array([[1,1],[1,0],[0,1],[0,0]])).private(min_val=0, max_val=1, entities=entities, is_discrete=True)\n",
    "y = Tensor(np.array([[1],[1],[0],[0]])).private(min_val=0, max_val=1, entities=entities, is_discrete=False)\n",
    "\n",
    "x = x[0:3]\n",
    "y = y[0:3]\n",
    "\n",
    "_weights = Tensor(np.random.uniform(size=(2,1)))"
   ]
  },
  {
   "cell_type": "code",
   "execution_count": 10,
   "metadata": {},
   "outputs": [
    {
     "name": "stdout",
     "output_type": "stream",
     "text": [
      "Tudor\t1.473721812941998\n",
      "Kritika\t1.2626747203310007\n",
      "Madhava\t0.7005916285533693\n",
      "Tudor\t1.473721812941998\n",
      "Kritika\t1.2626747203310007\n",
      "Madhava\t0.7005916285533693\n",
      "Tudor\t1.473721812941998\n",
      "Kritika\t1.2626747203310007\n",
      "Madhava\t0.7005916285533693\n",
      "Tudor\t1.473721812941998\n",
      "Kritika\t1.2626747203310007\n",
      "Madhava\t0.7005916285533693\n",
      "4min 51s ± 3.64 s per loop (mean ± std. dev. of 2 runs, 2 loops each)\n"
     ]
    }
   ],
   "source": [
    "%%timeit -n2 -r2\n",
    "weights = _weights + 0\n",
    "acc = AdversarialAccountant(max_budget=3000000)\n",
    "for i in range(1):\n",
    "    batch_loss = 0\n",
    "#     for row in range(len(x)):\n",
    "# [row:row+1]\n",
    "    pred = x.dot(weights)\n",
    "    loss = np.mean(np.square(y-pred))\n",
    "    loss.backward()\n",
    "\n",
    "    weight_grad = (weights.grad * 1)\n",
    "    weight_grad = weight_grad.publish(acc=acc, sigma=1)\n",
    "\n",
    "    weights = weights - weight_grad\n",
    "    batch_loss += loss.value\n",
    "\n",
    "acc.print_ledger()\n",
    "\n",
    "# Efficiency Ideas:\n",
    "# - group polynomial terms by entity (eliminates the need to search)\n",
    "# - parallelize publishing tensor variables in tensor (but only if variables come from separate entities)\n",
    "# X offer discretization + brute force search\n",
    "# - replace variables by uniqueneses from left to right in polynomial for memoization\n",
    "# - for search algorithms on iterative learning functions - have it start searching at the global optima from the last iteration\n",
    "# - faster polynomial evaluation\n",
    "# - offer partial discretization"
   ]
  },
  {
   "cell_type": "code",
   "execution_count": 8,
   "metadata": {},
   "outputs": [
    {
     "name": "stdout",
     "output_type": "stream",
     "text": [
      "Tudor\t7.122362375325958\n",
      "Kritika\t5.842118932733819\n",
      "Madhava\t3.555589348429929\n",
      "Tudor\t7.122362375325958\n",
      "Kritika\t5.842118932733819\n",
      "Madhava\t3.555589348429929\n",
      "Tudor\t7.122362375325958\n",
      "Kritika\t5.842118932733819\n",
      "Madhava\t3.555589348429929\n",
      "Tudor\t7.122362375325958\n",
      "Kritika\t5.842118932733819\n",
      "Madhava\t3.555589348429929\n",
      "4.58 s ± 132 ms per loop (mean ± std. dev. of 2 runs, 2 loops each)\n"
     ]
    }
   ],
   "source": []
  },
  {
   "cell_type": "code",
   "execution_count": 71,
   "metadata": {},
   "outputs": [
    {
     "data": {
      "text/plain": [
       "Tensor([[0.6556921576076219],\n",
       "        [0.7788766774053854]], dtype=object)"
      ]
     },
     "execution_count": 71,
     "metadata": {},
     "output_type": "execute_result"
    }
   ],
   "source": [
    "weights\n"
   ]
  },
  {
   "cell_type": "code",
   "execution_count": null,
   "metadata": {},
   "outputs": [],
   "source": []
  }
 ],
 "metadata": {
  "kernelspec": {
   "display_name": "Python 3",
   "language": "python",
   "name": "python3"
  },
  "language_info": {
   "codemirror_mode": {
    "name": "ipython",
    "version": 3
   },
   "file_extension": ".py",
   "mimetype": "text/x-python",
   "name": "python",
   "nbconvert_exporter": "python",
   "pygments_lexer": "ipython3",
   "version": "3.8.3"
  }
 },
 "nbformat": 4,
 "nbformat_minor": 5
}

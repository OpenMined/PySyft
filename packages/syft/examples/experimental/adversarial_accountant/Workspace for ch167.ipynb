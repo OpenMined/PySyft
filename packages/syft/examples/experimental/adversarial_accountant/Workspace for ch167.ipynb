{
 "cells": [
  {
   "cell_type": "code",
   "execution_count": 1,
   "id": "beef0f94-a731-42df-b3d2-6fbf909213a8",
   "metadata": {},
   "outputs": [],
   "source": [
    "from syft.core.tensor.tensor import Tensor\n",
    "from syft.core.adp.entity import Entity\n",
    "import numpy as np\n",
    "from syft.core.adp.adversarial_accountant import AdversarialAccountant\n",
    "import syft as sy"
   ]
  },
  {
   "cell_type": "code",
   "execution_count": 2,
   "id": "bbb79f2f-f92f-48bf-8f4d-3907584f23e4",
   "metadata": {},
   "outputs": [],
   "source": [
    "gonzalo = Entity(name=\"Gonzalo\")\n",
    "x = Tensor(np.array([1,2]))\n",
    "x = x.private(min_val=2,max_val=5,entities=[gonzalo,gonzalo])\n",
    "# x.child.child = [gonzalo, gonzalo]"
   ]
  },
  {
   "cell_type": "code",
   "execution_count": 3,
   "id": "ef508fc0-535c-45b8-9dc0-f5401bf8c8d7",
   "metadata": {},
   "outputs": [],
   "source": [
    "blob = sy.serialize(x.child)"
   ]
  },
  {
   "cell_type": "code",
   "execution_count": 4,
   "id": "d7b82249-1251-4efc-9b0c-952761d351e1",
   "metadata": {},
   "outputs": [],
   "source": [
    "y = sy.deserialize(blob)"
   ]
  },
  {
   "cell_type": "code",
   "execution_count": 5,
   "id": "81fc2224-435d-4f32-94b0-ea7c22d2edb5",
   "metadata": {},
   "outputs": [
    {
     "data": {
      "text/plain": [
       "RowEntityPhiTensor(child=[SingleEntityPhiTensor(entity=Gonzalo, child=[1]), SingleEntityPhiTensor(entity=Gonzalo, child=[2])])"
      ]
     },
     "execution_count": 5,
     "metadata": {},
     "output_type": "execute_result"
    }
   ],
   "source": [
    "y"
   ]
  },
  {
   "cell_type": "code",
   "execution_count": 6,
   "id": "41584e21-2ac4-487b-82ad-2f9570a689ed",
   "metadata": {},
   "outputs": [
    {
     "data": {
      "text/plain": [
       "RowEntityPhiTensor(child=[SingleEntityPhiTensor(entity=Gonzalo, child=[1]), SingleEntityPhiTensor(entity=Gonzalo, child=[2])])"
      ]
     },
     "execution_count": 6,
     "metadata": {},
     "output_type": "execute_result"
    }
   ],
   "source": [
    "x.child"
   ]
  },
  {
   "cell_type": "code",
   "execution_count": 8,
   "id": "ce748d78-2eeb-440a-b811-d154c6897cc0",
   "metadata": {},
   "outputs": [],
   "source": [
    "x = Tensor(np.array([[1,2,3,4,5]]))\n",
    "x = x.private(min_val=2,max_val=5,entity=gonzalo).gamma\n",
    "# sy.serialize(x)"
   ]
  },
  {
   "cell_type": "code",
   "execution_count": 9,
   "id": "eff3819b-604b-44fe-bd34-e7eda2db7e57",
   "metadata": {},
   "outputs": [],
   "source": [
    "y = x + x"
   ]
  },
  {
   "cell_type": "code",
   "execution_count": 10,
   "id": "6fe2dd25-2a2b-47a8-b0bb-c3553e1ad996",
   "metadata": {},
   "outputs": [],
   "source": [
    "z = sy.deserialize(sy.serialize(y))"
   ]
  },
  {
   "cell_type": "code",
   "execution_count": 11,
   "id": "80c7b2da-0102-48a0-98e6-af867c5ea157",
   "metadata": {},
   "outputs": [
    {
     "data": {
      "text/plain": [
       "Tensor(child=IntermediateGammaTensor(child=[[[ 2  2]\n",
       "  [ 3  3]\n",
       "  [ 5  5]\n",
       "  [ 7  7]\n",
       "  [11 11]]]))"
      ]
     },
     "execution_count": 11,
     "metadata": {},
     "output_type": "execute_result"
    }
   ],
   "source": [
    "z"
   ]
  },
  {
   "cell_type": "code",
   "execution_count": null,
   "id": "3b0efe64-daea-4800-8701-7df09e6d45b6",
   "metadata": {},
   "outputs": [],
   "source": []
  },
  {
   "cell_type": "code",
   "execution_count": null,
   "id": "7ad96444-4781-4070-9d8b-6f83c0b342a5",
   "metadata": {},
   "outputs": [],
   "source": []
  }
 ],
 "metadata": {
  "kernelspec": {
   "display_name": "Python 3 (ipykernel)",
   "language": "python",
   "name": "python3"
  },
  "language_info": {
   "codemirror_mode": {
    "name": "ipython",
    "version": 3
   },
   "file_extension": ".py",
   "mimetype": "text/x-python",
   "name": "python",
   "nbconvert_exporter": "python",
   "pygments_lexer": "ipython3",
   "version": "3.9.4"
  }
 },
 "nbformat": 4,
 "nbformat_minor": 5
}

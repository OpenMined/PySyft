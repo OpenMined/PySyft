{
 "cells": [
  {
   "cell_type": "code",
   "execution_count": 7,
   "metadata": {},
   "outputs": [],
   "source": [
    "import syft as sy\n",
    "import numpy as np\n",
    "\n",
    "from syft.core.common.serde.recursive import RecursiveSerde\n",
    "\n",
    "\n",
    "class MyCustomThingy(RecursiveSerde):\n",
    "    __attr_allowlist__ = ['an_int', 'a_string', 'a_numpy_thing']\n",
    "\n",
    "    def __init__(self, an_int, a_string, a_numpy_thing):\n",
    "        self.an_int = an_int\n",
    "        self.a_string = a_string\n",
    "        self.a_numpy_thing = a_numpy_thing\n",
    "\n",
    "    def __add__(self, other):\n",
    "        return self.an_int + other"
   ]
  },
  {
   "cell_type": "code",
   "execution_count": null,
   "metadata": {},
   "outputs": [],
   "source": []
  }
 ],
 "metadata": {
  "kernelspec": {
   "display_name": "Python 3 (ipykernel)",
   "language": "python",
   "name": "python3"
  },
  "language_info": {
   "codemirror_mode": {
    "name": "ipython",
    "version": 3
   },
   "file_extension": ".py",
   "mimetype": "text/x-python",
   "name": "python",
   "nbconvert_exporter": "python",
   "pygments_lexer": "ipython3",
   "version": "3.9.5"
  }
 },
 "nbformat": 4,
 "nbformat_minor": 4
}

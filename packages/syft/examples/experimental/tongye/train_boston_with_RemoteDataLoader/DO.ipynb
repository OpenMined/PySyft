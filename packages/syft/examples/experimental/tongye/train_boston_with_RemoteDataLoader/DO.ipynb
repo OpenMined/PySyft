{
 "cells": [
  {
   "cell_type": "code",
   "execution_count": null,
   "metadata": {},
   "outputs": [],
   "source": [
    "%load_ext autoreload\n",
    "%autoreload 2"
   ]
  },
  {
   "cell_type": "code",
   "execution_count": null,
   "metadata": {},
   "outputs": [],
   "source": [
    "import syft as sy\n",
    "import sklearn\n",
    "import torch\n",
    "from sklearn.datasets import load_boston\n",
    "from matplotlib import pyplot as plt\n",
    "from torch.utils.data import Dataset"
   ]
  },
  {
   "cell_type": "code",
   "execution_count": null,
   "metadata": {},
   "outputs": [],
   "source": [
    "duet = sy.launch_duet(loopback=True)"
   ]
  },
  {
   "cell_type": "markdown",
   "metadata": {},
   "source": [
    "## Checkpoint#1"
   ]
  },
  {
   "cell_type": "markdown",
   "metadata": {},
   "source": [
    "## Run DS.ipynb until Checkpoint#1"
   ]
  },
  {
   "cell_type": "markdown",
   "metadata": {},
   "source": [
    "Data owner create Dataset object and save it in a .pt file."
   ]
  },
  {
   "cell_type": "code",
   "execution_count": null,
   "metadata": {},
   "outputs": [],
   "source": [
    "dataset = load_boston()\n",
    "X = torch.tensor(dataset[\"data\"]).float()\n",
    "y = torch.tensor(dataset[\"target\"]).float()\n",
    "\n",
    "class BostonDS(Dataset):\n",
    "    def __init__(self, X,y):\n",
    "        self.X = X\n",
    "        self.y = y\n",
    "        \n",
    "    def __len__(self):\n",
    "        return self.X.shape[0]\n",
    "    \n",
    "    def __getitem__(self, i):\n",
    "        return (self.X[i], self.y[i])\n",
    "    \n",
    "ds = BostonDS(X,y)\n",
    "torch.save(ds, \"boston_ds.pt\")"
   ]
  },
  {
   "cell_type": "markdown",
   "metadata": {},
   "source": [
    "Data owner send the path string of this .pt file to data scientist."
   ]
  },
  {
   "cell_type": "code",
   "execution_count": null,
   "metadata": {},
   "outputs": [],
   "source": [
    "sy.lib.python.String(\"boston_ds.pt\").send(duet, pointable=True, tags=[\"meta\"])"
   ]
  },
  {
   "cell_type": "markdown",
   "metadata": {},
   "source": [
    "Data owner add the following request handler to allow data scientist to iterate on the RemoteDataLoader object."
   ]
  },
  {
   "cell_type": "markdown",
   "metadata": {},
   "source": [
    "Why `tags=[\"meta\",\"RemoteDataset\", \"RemoteDataLoader\", \"__len__\"]`? Because a RemoteDataset object `rds` will be created from the meta info, which has `tags=[\"meta\"]`, so `rds` will inherite this tag, plus the constructor method name `RemoteDataset`. Then, the RemoteDataLoader object `rdl` will inherite these tags, plus the constructor method name `RemoteDataLoader`. Then, `rdl.__len__()` will inherite these tags, plus the method name `__len__`."
   ]
  },
  {
   "cell_type": "code",
   "execution_count": null,
   "metadata": {
    "scrolled": false
   },
   "outputs": [],
   "source": [
    "duet.requests.add_handler(\n",
    "    action=\"accept\",\n",
    "    tags=[\n",
    "        \"meta\", \"RemoteDataset\", \"RemoteDataLoader\", \"__len__\"\n",
    "    ])"
   ]
  },
  {
   "cell_type": "markdown",
   "metadata": {},
   "source": [
    "Data owner add the following request handler to allow data scientist to `get` the `loss`."
   ]
  },
  {
   "cell_type": "markdown",
   "metadata": {},
   "source": [
    "The `tags` used here comes from all the names of methods being called to get a `loss`."
   ]
  },
  {
   "cell_type": "code",
   "execution_count": null,
   "metadata": {
    "scrolled": false
   },
   "outputs": [],
   "source": [
    "duet.requests.add_handler(\n",
    "    action=\"accept\",\n",
    "    tags=[\n",
    "        'meta',\n",
    "        'RemoteDataset',\n",
    "        'RemoteDataLoader',\n",
    "        '__iter__',\n",
    "        '__next__',\n",
    "        '__getitem__',\n",
    "        '__call__',\n",
    "        'view',\n",
    "        '__sub__',\n",
    "        '__pow__',\n",
    "        'mean'])"
   ]
  },
  {
   "cell_type": "markdown",
   "metadata": {},
   "source": [
    "## Run DS.ipynb until the end"
   ]
  },
  {
   "cell_type": "code",
   "execution_count": null,
   "metadata": {},
   "outputs": [],
   "source": [
    "duet.store.pandas"
   ]
  },
  {
   "cell_type": "code",
   "execution_count": null,
   "metadata": {},
   "outputs": [],
   "source": []
  }
 ],
 "metadata": {
  "kernelspec": {
   "display_name": "Python 3",
   "language": "python",
   "name": "python3"
  },
  "language_info": {
   "codemirror_mode": {
    "name": "ipython",
    "version": 3
   },
   "file_extension": ".py",
   "mimetype": "text/x-python",
   "name": "python",
   "nbconvert_exporter": "python",
   "pygments_lexer": "ipython3",
   "version": "3.9.2"
  }
 },
 "nbformat": 4,
 "nbformat_minor": 4
}

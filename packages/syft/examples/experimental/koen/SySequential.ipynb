{
 "cells": [
  {
   "cell_type": "code",
   "execution_count": 1,
   "id": "covered-atlantic",
   "metadata": {},
   "outputs": [],
   "source": [
    "%load_ext autoreload\n",
    "%autoreload 2"
   ]
  },
  {
   "cell_type": "code",
   "execution_count": 2,
   "id": "killing-russian",
   "metadata": {},
   "outputs": [],
   "source": [
    "import syft as sy\n",
    "import numpy as np\n",
    "import torch as th\n",
    "from syft import VirtualMachine\n",
    "from pathlib import Path\n",
    "from torchvision import datasets, transforms\n",
    "from syft.core.plan.plan_builder import PLAN_BUILDER_VM, make_plan, build_plan_inputs, ROOT_CLIENT\n",
    "from syft.lib.python.collections.ordered_dict import OrderedDict\n",
    "from syft.lib.python.list import List\n",
    "from matplotlib import pyplot as plt\n",
    "from syft import logger\n",
    "from syft import SyModule, SySequential\n",
    "logger.remove()"
   ]
  },
  {
   "cell_type": "code",
   "execution_count": 7,
   "id": "middle-winter",
   "metadata": {},
   "outputs": [],
   "source": [
    "class MySyModuleBlock(SyModule):\n",
    "    def __init__(self, n_in, n_out, **kwargs):\n",
    "        super().__init__(**kwargs)\n",
    "        self.layer = th.nn.Linear(n_in, n_out)\n",
    "    \n",
    "    def forward(self, x):\n",
    "        o1 = self.layer(x)\n",
    "        return o1"
   ]
  },
  {
   "cell_type": "code",
   "execution_count": 8,
   "id": "parallel-brook",
   "metadata": {
    "scrolled": false
   },
   "outputs": [],
   "source": [
    "sequential = SySequential(\n",
    "    MySyModuleBlock(100, 10, input_size=(32,100)),\n",
    "    MySyModuleBlock(10, 10, input_size=(32,10)),\n",
    ")"
   ]
  },
  {
   "cell_type": "code",
   "execution_count": null,
   "id": "behavioral-wright",
   "metadata": {},
   "outputs": [],
   "source": []
  }
 ],
 "metadata": {
  "kernelspec": {
   "display_name": "Python 3",
   "language": "python",
   "name": "python3"
  },
  "language_info": {
   "codemirror_mode": {
    "name": "ipython",
    "version": 3
   },
   "file_extension": ".py",
   "mimetype": "text/x-python",
   "name": "python",
   "nbconvert_exporter": "python",
   "pygments_lexer": "ipython3",
   "version": "3.7.9"
  },
  "toc": {
   "base_numbering": 1,
   "nav_menu": {},
   "number_sections": true,
   "sideBar": true,
   "skip_h1_title": false,
   "title_cell": "Table of Contents",
   "title_sidebar": "Contents",
   "toc_cell": false,
   "toc_position": {},
   "toc_section_display": true,
   "toc_window_display": true
  }
 },
 "nbformat": 4,
 "nbformat_minor": 5
}

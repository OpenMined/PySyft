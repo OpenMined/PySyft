{
 "cells": [
  {
   "cell_type": "code",
   "execution_count": 1,
   "id": "raised-agriculture",
   "metadata": {},
   "outputs": [],
   "source": [
    "%load_ext autoreload\n",
    "%autoreload 2"
   ]
  },
  {
   "cell_type": "code",
   "execution_count": 2,
   "id": "divided-woman",
   "metadata": {},
   "outputs": [],
   "source": [
    "import syft as sy\n",
    "import numpy as np\n",
    "import torch as th\n",
    "from syft import VirtualMachine\n",
    "from syft.core.plan.plan_builder import PLAN_BUILDER_VM, make_plan, build_plan_inputs, ROOT_CLIENT\n",
    "from syft import logger\n",
    "from syft import Plan\n",
    "from syft.core.node.common.service.set_result_permission_service import SetResultPermissionMessage\n",
    "from syft import serialize, deserialize\n",
    "import syft\n",
    "logger.remove()"
   ]
  },
  {
   "cell_type": "markdown",
   "id": "demographic-jason",
   "metadata": {},
   "source": [
    "# Result permission example"
   ]
  },
  {
   "cell_type": "code",
   "execution_count": 3,
   "id": "developing-chorus",
   "metadata": {},
   "outputs": [],
   "source": [
    "node = VirtualMachine(name=\"alice\")"
   ]
  },
  {
   "cell_type": "markdown",
   "id": "specialized-theology",
   "metadata": {},
   "source": [
    "We define two client, data scientist (ds) and data owner (owner)"
   ]
  },
  {
   "cell_type": "code",
   "execution_count": 4,
   "id": "published-strengthening",
   "metadata": {},
   "outputs": [],
   "source": [
    "owner = node.get_root_client()\n",
    "ds = node.get_client()"
   ]
  },
  {
   "cell_type": "code",
   "execution_count": 5,
   "id": "serial-spokesman",
   "metadata": {},
   "outputs": [],
   "source": [
    "@make_plan\n",
    "def train(x = th.rand([64*3, 1, 28, 28])):\n",
    "    return x+1"
   ]
  },
  {
   "cell_type": "markdown",
   "id": "opening-groove",
   "metadata": {},
   "source": [
    "We create a dataset"
   ]
  },
  {
   "cell_type": "code",
   "execution_count": 6,
   "id": "expressed-float",
   "metadata": {},
   "outputs": [],
   "source": [
    "x = th.rand([64*3, 1, 28, 28])\n",
    "x_ptr = x.send(owner)"
   ]
  },
  {
   "cell_type": "markdown",
   "id": "seasonal-overview",
   "metadata": {},
   "source": [
    "And let the DS search for a pointer to the data (it will not have read access)"
   ]
  },
  {
   "cell_type": "code",
   "execution_count": 7,
   "id": "improving-donna",
   "metadata": {},
   "outputs": [],
   "source": [
    "x_ds = ds.store[0]"
   ]
  },
  {
   "cell_type": "markdown",
   "id": "cleared-capability",
   "metadata": {},
   "source": [
    "The ds in turn create a plan, which he wants to apply on the dataset"
   ]
  },
  {
   "cell_type": "code",
   "execution_count": 8,
   "id": "dominant-siemens",
   "metadata": {},
   "outputs": [],
   "source": [
    "train_ptr = train.send(ds)"
   ]
  },
  {
   "cell_type": "markdown",
   "id": "needed-statement",
   "metadata": {},
   "source": [
    "We can execute the plan, but we cannot download the result"
   ]
  },
  {
   "cell_type": "code",
   "execution_count": 9,
   "id": "aerial-castle",
   "metadata": {},
   "outputs": [
    {
     "name": "stdout",
     "output_type": "stream",
     "text": [
      "No permissions\n"
     ]
    }
   ],
   "source": [
    "try:\n",
    "    res_ptr = train_ptr(x=x_ptr)\n",
    "    res_ptr.get()\n",
    "except:\n",
    "    print(\"No permissions\")\n",
    "else:\n",
    "    raise ValueError(\"You should not have permissions to download\")"
   ]
  },
  {
   "cell_type": "markdown",
   "id": "curious-glucose",
   "metadata": {},
   "source": [
    "Now, the DO finds a pointer to plan, and allows execution on x"
   ]
  },
  {
   "cell_type": "code",
   "execution_count": 10,
   "id": "becoming-baking",
   "metadata": {},
   "outputs": [
    {
     "data": {
      "text/plain": [
       "'success'"
      ]
     },
     "execution_count": 10,
     "metadata": {},
     "output_type": "execute_result"
    }
   ],
   "source": [
    "train_ptr_do = [y for y in owner.store if y.__name__ == \"PlanPointer\"][0]\n",
    "train_ptr_do.set_result_permissions(\"__call__\", {\"x\": x_ptr}, ds.verify_key)"
   ]
  },
  {
   "cell_type": "markdown",
   "id": "turkish-replication",
   "metadata": {},
   "source": [
    "And we can verify that the result is the same"
   ]
  },
  {
   "cell_type": "code",
   "execution_count": 11,
   "id": "operational-anaheim",
   "metadata": {},
   "outputs": [],
   "source": [
    "res_ptr = train_ptr(x=x_ptr)\n",
    "result, = res_ptr.get()\n",
    "assert th.equal(result, x+1)"
   ]
  },
  {
   "cell_type": "markdown",
   "id": "paperback-finger",
   "metadata": {},
   "source": [
    "# serialization"
   ]
  },
  {
   "cell_type": "code",
   "execution_count": 17,
   "id": "meaning-nelson",
   "metadata": {},
   "outputs": [],
   "source": [
    "msg = SetResultPermissionMessage(syft.core.common.UID(), {\"x\": plan_do.id_at_location}, \"__call__\", ds.verify_key,\n",
    "                                 owner.address, owner.address)"
   ]
  },
  {
   "cell_type": "code",
   "execution_count": 18,
   "id": "private-providence",
   "metadata": {},
   "outputs": [],
   "source": [
    "pb = serialize(msg)"
   ]
  },
  {
   "cell_type": "code",
   "execution_count": 17,
   "id": "republican-framework",
   "metadata": {},
   "outputs": [],
   "source": [
    "reconstructed_message = deserialize(pb)"
   ]
  },
  {
   "cell_type": "code",
   "execution_count": 18,
   "id": "short-gibson",
   "metadata": {},
   "outputs": [],
   "source": [
    "r = reconstructed_message\n",
    "\n",
    "assert r.inputs == msg.inputs\n",
    "assert r.id_at_location == msg.id_at_location\n",
    "assert r.method_name == msg.method_name\n",
    "assert r.verify_key == msg.verify_key\n",
    "assert r.address == msg.address\n",
    "assert r.reply_to == msg.reply_to"
   ]
  }
 ],
 "metadata": {
  "kernelspec": {
   "display_name": "Python 3",
   "language": "python",
   "name": "python3"
  },
  "language_info": {
   "codemirror_mode": {
    "name": "ipython",
    "version": 3
   },
   "file_extension": ".py",
   "mimetype": "text/x-python",
   "name": "python",
   "nbconvert_exporter": "python",
   "pygments_lexer": "ipython3",
   "version": "3.7.9"
  },
  "toc": {
   "base_numbering": 1,
   "nav_menu": {},
   "number_sections": true,
   "sideBar": true,
   "skip_h1_title": false,
   "title_cell": "Table of Contents",
   "title_sidebar": "Contents",
   "toc_cell": false,
   "toc_position": {},
   "toc_section_display": true,
   "toc_window_display": true
  }
 },
 "nbformat": 4,
 "nbformat_minor": 5
}

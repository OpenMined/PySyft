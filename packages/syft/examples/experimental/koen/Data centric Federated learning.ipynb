{
 "cells": [
  {
   "cell_type": "code",
   "execution_count": 1,
   "id": "verbal-brass",
   "metadata": {},
   "outputs": [],
   "source": [
    "%load_ext autoreload\n",
    "%autoreload 2"
   ]
  },
  {
   "cell_type": "code",
   "execution_count": 2,
   "id": "hidden-venue",
   "metadata": {},
   "outputs": [],
   "source": [
    "from syft.grid.client.client import connect\n",
    "from syft.grid.client.grid_connection import GridHTTPConnection\n",
    "from syft.core.node.domain.client import DomainClient\n",
    "from syft.core.plan.plan_builder import PLAN_BUILDER_VM, make_plan, ROOT_CLIENT\n",
    "from syft import SyModule\n",
    "from syft import logger\n",
    "import syft as sy\n",
    "import torch as th\n",
    "\n",
    "sy.VERBOSE = False\n",
    "logger.remove()"
   ]
  },
  {
   "cell_type": "markdown",
   "id": "annoying-custom",
   "metadata": {},
   "source": [
    "# Settings"
   ]
  },
  {
   "cell_type": "code",
   "execution_count": 3,
   "id": "dominant-terrain",
   "metadata": {},
   "outputs": [],
   "source": [
    "DOMAIN_URL, NETWORK_URL = \"http://localhost:5000\", \"http://localhost:7000\"\n",
    "do_email, do_pw = \"owner@openmined.org\", \"12345\"\n",
    "ds_email, ds_pw = \"data_scientist@email.com\", \"data_scientist_pwd123\"\n",
    "net_email, net_pw = \"network@mymail.com\", \"network_pw\"\n",
    "token = \"9G9MJ06OQH\"\n",
    "network_whitelist = [DOMAIN_URL]"
   ]
  },
  {
   "cell_type": "markdown",
   "id": "difficult-chest",
   "metadata": {},
   "source": [
    "This notebook assumes a clean database state for both domain and network, if you want to delete their databases and start from scratch you can run:"
   ]
  },
  {
   "cell_type": "code",
   "execution_count": 4,
   "id": "hydraulic-trout",
   "metadata": {},
   "outputs": [],
   "source": [
    "# !rm /Users/koen/workspace/PyGrid/apps/domain/src/nodedatabase.db\n",
    "# !rm /Users/koen/workspace/PyGrid/apps/network/src/nodedatabase.db"
   ]
  },
  {
   "cell_type": "markdown",
   "id": "completed-dollar",
   "metadata": {},
   "source": [
    "Run a `Domain` on `http://localhost:5000` and a `Network` on `http://localhost:7000` **make sure to `export MEMORY_STORE=True`** before starting the `Network`."
   ]
  },
  {
   "cell_type": "markdown",
   "id": "fantastic-viewer",
   "metadata": {},
   "source": [
    "# Utils"
   ]
  },
  {
   "cell_type": "code",
   "execution_count": 5,
   "id": "great-viewer",
   "metadata": {},
   "outputs": [],
   "source": [
    "def setup_and_connect(url, email, pw, token, node_name=\"My Node\", domain_name=\"Openmined Domain\"):\n",
    "    def _connect(): return connect(url=url, credentials={\"email\": email, \"password\": pw})\n",
    "    try:\n",
    "        return _connect()\n",
    "    except Exception as e:\n",
    "        client = connect(url=url)\n",
    "        client.setup(email=email, password=pw, node_name=node_name, domain_name=domain_name, token=token)\n",
    "        return _connect()"
   ]
  },
  {
   "cell_type": "code",
   "execution_count": 6,
   "id": "minute-apollo",
   "metadata": {},
   "outputs": [],
   "source": [
    "def is_associated(client, network_url):\n",
    "    requests = client.association_requests.all() \n",
    "    return any([x[\"address\"] == network_url and x[\"accepted\"] == True for x in requests])"
   ]
  },
  {
   "cell_type": "markdown",
   "id": "damaged-marketplace",
   "metadata": {},
   "source": [
    "# Setup Network"
   ]
  },
  {
   "cell_type": "code",
   "execution_count": 7,
   "id": "proved-albuquerque",
   "metadata": {},
   "outputs": [],
   "source": [
    "network_client = setup_and_connect(NETWORK_URL, net_email, net_pw, token, domain_name=\"Network\")"
   ]
  },
  {
   "cell_type": "markdown",
   "id": "bigger-miniature",
   "metadata": {},
   "source": [
    "# Data owner: setup, connect to network, and load data"
   ]
  },
  {
   "cell_type": "markdown",
   "id": "interstate-understanding",
   "metadata": {},
   "source": [
    "## Setup"
   ]
  },
  {
   "cell_type": "code",
   "execution_count": 8,
   "id": "welcome-edgar",
   "metadata": {},
   "outputs": [],
   "source": [
    "do_client = setup_and_connect(DOMAIN_URL, do_email, do_pw, token)"
   ]
  },
  {
   "cell_type": "markdown",
   "id": "healthy-galaxy",
   "metadata": {},
   "source": [
    "## Association Request"
   ]
  },
  {
   "cell_type": "code",
   "execution_count": 9,
   "id": "vanilla-energy",
   "metadata": {},
   "outputs": [],
   "source": [
    "if not is_associated(do_client, NETWORK_URL):\n",
    "    do_client.association_requests.create(name=\"My request\", address=NETWORK_URL, sender_address=DOMAIN_URL)"
   ]
  },
  {
   "cell_type": "markdown",
   "id": "australian-thong",
   "metadata": {},
   "source": [
    "### Network Accepts requests from whitelisted urls"
   ]
  },
  {
   "cell_type": "code",
   "execution_count": 10,
   "id": "growing-spectrum",
   "metadata": {},
   "outputs": [],
   "source": [
    "for req in network_client.association_requests.all():\n",
    "    if req[\"address\"] in network_whitelist and req[\"accepted\"] == False:\n",
    "        network_client.association_requests[req[\"id\"]].accept();"
   ]
  },
  {
   "cell_type": "code",
   "execution_count": 11,
   "id": "ideal-bracket",
   "metadata": {},
   "outputs": [
    {
     "data": {
      "text/html": [
       "<div>\n",
       "<style scoped>\n",
       "    .dataframe tbody tr th:only-of-type {\n",
       "        vertical-align: middle;\n",
       "    }\n",
       "\n",
       "    .dataframe tbody tr th {\n",
       "        vertical-align: top;\n",
       "    }\n",
       "\n",
       "    .dataframe thead th {\n",
       "        text-align: right;\n",
       "    }\n",
       "</style>\n",
       "<table border=\"1\" class=\"dataframe\">\n",
       "  <thead>\n",
       "    <tr style=\"text-align: right;\">\n",
       "      <th></th>\n",
       "      <th>id</th>\n",
       "      <th>date</th>\n",
       "      <th>name</th>\n",
       "      <th>address</th>\n",
       "      <th>sender_address</th>\n",
       "      <th>accepted</th>\n",
       "      <th>pending</th>\n",
       "      <th>handshake_value</th>\n",
       "    </tr>\n",
       "  </thead>\n",
       "  <tbody>\n",
       "    <tr>\n",
       "      <th>0</th>\n",
       "      <td>1</td>\n",
       "      <td>2021-05-20 16:45:08.934553</td>\n",
       "      <td>My request</td>\n",
       "      <td>http://localhost:5000</td>\n",
       "      <td>http://localhost:7000</td>\n",
       "      <td>True</td>\n",
       "      <td>False</td>\n",
       "      <td>b53a6255237890f207f2d856a994cffa893b009b1ed8e4...</td>\n",
       "    </tr>\n",
       "  </tbody>\n",
       "</table>\n",
       "</div>"
      ],
      "text/plain": [
       "   id                        date        name                address  \\\n",
       "0   1  2021-05-20 16:45:08.934553  My request  http://localhost:5000   \n",
       "\n",
       "          sender_address  accepted  pending  \\\n",
       "0  http://localhost:7000      True    False   \n",
       "\n",
       "                                     handshake_value  \n",
       "0  b53a6255237890f207f2d856a994cffa893b009b1ed8e4...  "
      ]
     },
     "execution_count": 11,
     "metadata": {},
     "output_type": "execute_result"
    }
   ],
   "source": [
    "network_client.association_requests.all(pandas=True)"
   ]
  },
  {
   "cell_type": "markdown",
   "id": "moving-governor",
   "metadata": {},
   "source": [
    "## Create dataset (DO)"
   ]
  },
  {
   "cell_type": "code",
   "execution_count": 12,
   "id": "worthy-gravity",
   "metadata": {},
   "outputs": [],
   "source": [
    "tag = \"#mydataset\""
   ]
  },
  {
   "cell_type": "code",
   "execution_count": 13,
   "id": "million-weight",
   "metadata": {},
   "outputs": [],
   "source": [
    "x = th.randn(32, 1, 28, 28)\n",
    "x_s = x.send(do_client, pointable=True, tags=[tag, \"x\"])"
   ]
  },
  {
   "cell_type": "markdown",
   "id": "silver-snake",
   "metadata": {},
   "source": [
    "## Create DS account (DO)"
   ]
  },
  {
   "cell_type": "markdown",
   "id": "wound-validation",
   "metadata": {},
   "source": [
    "If we do this for multiple `Domains` we need to make sure that we dont use the same password for different domains. As this may leak access keys between domains"
   ]
  },
  {
   "cell_type": "code",
   "execution_count": 14,
   "id": "precise-import",
   "metadata": {},
   "outputs": [],
   "source": [
    "if not any([x[\"email\"] == ds_email for x in do_client.users.all()]):\n",
    "    do_client.users.create(email=ds_email, password=ds_pw)"
   ]
  },
  {
   "cell_type": "markdown",
   "id": "experienced-tiger",
   "metadata": {},
   "source": [
    "# Data scientist: search & train"
   ]
  },
  {
   "cell_type": "markdown",
   "id": "psychological-aquarium",
   "metadata": {},
   "source": [
    "## Search"
   ]
  },
  {
   "cell_type": "markdown",
   "id": "bacterial-aluminum",
   "metadata": {},
   "source": [
    "TODO: this should ideally be a separate client (with user permissions) in the future. For now this is oke as we assume that the network owner and the data scientist are from the same org."
   ]
  },
  {
   "cell_type": "code",
   "execution_count": 15,
   "id": "dense-championship",
   "metadata": {},
   "outputs": [
    {
     "data": {
      "text/html": [
       "<div>\n",
       "<style scoped>\n",
       "    .dataframe tbody tr th:only-of-type {\n",
       "        vertical-align: middle;\n",
       "    }\n",
       "\n",
       "    .dataframe tbody tr th {\n",
       "        vertical-align: top;\n",
       "    }\n",
       "\n",
       "    .dataframe thead th {\n",
       "        text-align: right;\n",
       "    }\n",
       "</style>\n",
       "<table border=\"1\" class=\"dataframe\">\n",
       "  <thead>\n",
       "    <tr style=\"text-align: right;\">\n",
       "      <th></th>\n",
       "      <th>match-nodes</th>\n",
       "    </tr>\n",
       "  </thead>\n",
       "  <tbody>\n",
       "    <tr>\n",
       "      <th>0</th>\n",
       "      <td>http://localhost:5000</td>\n",
       "    </tr>\n",
       "  </tbody>\n",
       "</table>\n",
       "</div>"
      ],
      "text/plain": [
       "             match-nodes\n",
       "0  http://localhost:5000"
      ]
     },
     "execution_count": 15,
     "metadata": {},
     "output_type": "execute_result"
    }
   ],
   "source": [
    "network_client.search(query=[tag], pandas=True)"
   ]
  },
  {
   "cell_type": "code",
   "execution_count": 16,
   "id": "recovered-exposure",
   "metadata": {},
   "outputs": [],
   "source": [
    "urls = network_client.search(query=[tag])[\"match-nodes\"]\n",
    "url = urls[0]"
   ]
  },
  {
   "cell_type": "markdown",
   "id": "future-subsection",
   "metadata": {},
   "source": [
    "## Connect to domain"
   ]
  },
  {
   "cell_type": "code",
   "execution_count": 17,
   "id": "naked-testament",
   "metadata": {},
   "outputs": [],
   "source": [
    "ds_client = connect(url=url, credentials={\"email\": ds_email, \"password\": ds_pw})"
   ]
  },
  {
   "cell_type": "markdown",
   "id": "computational-duncan",
   "metadata": {},
   "source": [
    "## Create plan"
   ]
  },
  {
   "cell_type": "code",
   "execution_count": 18,
   "id": "superior-mileage",
   "metadata": {},
   "outputs": [],
   "source": [
    "class MySyModule(SyModule):\n",
    "    def __init__(self, **kwargs):\n",
    "        super().__init__(**kwargs)\n",
    "        self.layer1 = th.nn.Linear(28*28,100)\n",
    "        self.relu1 = th.nn.ReLU()\n",
    "        self.layer2 = th.nn.Linear(100,10)\n",
    "    \n",
    "    def forward(self, x):\n",
    "        x_reshaped = x.view(-1, 28 * 28)\n",
    "        o1 = self.layer1(x_reshaped)\n",
    "        a1 = self.relu1(o1)\n",
    "        out = self.layer2(a1)\n",
    "        return out"
   ]
  },
  {
   "cell_type": "code",
   "execution_count": 19,
   "id": "prescription-trace",
   "metadata": {},
   "outputs": [],
   "source": [
    "model = MySyModule(input_size=(32,28*28))\n",
    "dummy_dl = sy.lib.python.List([(th.randn(1024,1,28,28), th.randint(10, (1024,)))])"
   ]
  },
  {
   "cell_type": "code",
   "execution_count": 20,
   "id": "challenging-orientation",
   "metadata": {},
   "outputs": [],
   "source": [
    "remote_torch = ROOT_CLIENT.torch"
   ]
  },
  {
   "cell_type": "code",
   "execution_count": 21,
   "id": "geological-medicare",
   "metadata": {},
   "outputs": [],
   "source": [
    "\n",
    "@make_plan\n",
    "def train(dl=dummy_dl, model = model):\n",
    "    optimizer = remote_torch.optim.SGD(model.parameters(), lr=1e-1, momentum=0)\n",
    "    for xy in dl:\n",
    "        optimizer.zero_grad()\n",
    "        x, y = xy[0], xy[1]\n",
    "        out = model(x=x)[0]\n",
    "        loss = remote_torch.nn.functional.cross_entropy(out, y)\n",
    "        loss.backward()\n",
    "        optimizer.step()\n",
    "\n",
    "        return [model]"
   ]
  },
  {
   "cell_type": "markdown",
   "id": "appropriate-native",
   "metadata": {},
   "source": [
    "## Run plan"
   ]
  },
  {
   "cell_type": "markdown",
   "id": "painted-contrary",
   "metadata": {},
   "source": [
    "### Get dataset pointer"
   ]
  },
  {
   "cell_type": "code",
   "execution_count": 22,
   "id": "regulated-sweden",
   "metadata": {},
   "outputs": [],
   "source": [
    "dataset = [x for x in ds_client.store if tag in x.tags][-1]\n",
    "model = MySyModule(input_size=(32,28*28))\n",
    "train_ptr = train.send(ds_client)"
   ]
  },
  {
   "cell_type": "markdown",
   "id": "national-technician",
   "metadata": {},
   "source": [
    "TODO: think about how dummy variables in the plan can be re-used. Why do permissions not work correctly without an explicit .send()?"
   ]
  },
  {
   "cell_type": "code",
   "execution_count": 34,
   "id": "introductory-treat",
   "metadata": {},
   "outputs": [],
   "source": [
    "# model_ptr = model.send(do_client)\n",
    "out_ptr = train_ptr(dl=dummy_dl, model=model.send(do_client))"
   ]
  },
  {
   "cell_type": "code",
   "execution_count": 35,
   "id": "posted-welcome",
   "metadata": {},
   "outputs": [
    {
     "data": {
      "text/plain": [
       "<syft.proxy.syft.lib.python.ListPointer at 0x7fb9a4c07610>"
      ]
     },
     "execution_count": 35,
     "metadata": {},
     "output_type": "execute_result"
    }
   ],
   "source": [
    "out_ptr"
   ]
  },
  {
   "cell_type": "code",
   "execution_count": 36,
   "id": "developing-letter",
   "metadata": {},
   "outputs": [],
   "source": [
    "out_ptr.request()\n",
    "\n",
    "do_client.requests\n",
    "\n",
    "try:\n",
    "    updated_model, = out_ptr.get()\n",
    "except:\n",
    "    pass\n",
    "else:\n",
    "    print(updated_model)\n",
    "    raise"
   ]
  },
  {
   "cell_type": "code",
   "execution_count": 37,
   "id": "exact-judgment",
   "metadata": {},
   "outputs": [
    {
     "data": {
      "text/plain": [
       "<UID: a1a54dd5752449a583de6a6ef6c1594b>"
      ]
     },
     "execution_count": 37,
     "metadata": {},
     "output_type": "execute_result"
    }
   ],
   "source": [
    "do_client.requests[-1].id"
   ]
  },
  {
   "cell_type": "code",
   "execution_count": 38,
   "id": "crazy-directory",
   "metadata": {},
   "outputs": [
    {
     "data": {
      "text/plain": [
       "MySyModule(\n",
       "  (layer1): Linear(in_features=784, out_features=100, bias=True)\n",
       "  (relu1): ReLU()\n",
       "  (layer2): Linear(in_features=100, out_features=10, bias=True)\n",
       ")"
      ]
     },
     "execution_count": 38,
     "metadata": {},
     "output_type": "execute_result"
    }
   ],
   "source": [
    "do_client.requests[-1].accept()\n",
    "\n",
    "updated_model, = out_ptr.get()\n",
    "\n",
    "updated_model"
   ]
  },
  {
   "cell_type": "code",
   "execution_count": 39,
   "id": "imported-wilson",
   "metadata": {},
   "outputs": [
    {
     "data": {
      "text/plain": [
       "Parameter containing:\n",
       "tensor([[-0.0336,  0.0043,  0.0315,  ...,  0.0355, -0.0279,  0.0026],\n",
       "        [-0.0114, -0.0169,  0.0144,  ..., -0.0108, -0.0243,  0.0037],\n",
       "        [ 0.0219, -0.0219,  0.0278,  ...,  0.0146,  0.0278,  0.0243],\n",
       "        ...,\n",
       "        [-0.0118,  0.0343, -0.0063,  ..., -0.0185,  0.0164, -0.0291],\n",
       "        [-0.0289,  0.0158,  0.0329,  ..., -0.0243,  0.0027, -0.0222],\n",
       "        [ 0.0335,  0.0029,  0.0200,  ...,  0.0133,  0.0093,  0.0127]],\n",
       "       requires_grad=True)"
      ]
     },
     "execution_count": 39,
     "metadata": {},
     "output_type": "execute_result"
    }
   ],
   "source": [
    "list(model.parameters())[0]"
   ]
  },
  {
   "cell_type": "code",
   "execution_count": 40,
   "id": "brave-degree",
   "metadata": {},
   "outputs": [
    {
     "data": {
      "text/plain": [
       "Parameter containing:\n",
       "tensor([[-0.0336,  0.0042,  0.0315,  ...,  0.0357, -0.0282,  0.0026],\n",
       "        [-0.0116, -0.0168,  0.0143,  ..., -0.0108, -0.0246,  0.0038],\n",
       "        [ 0.0219, -0.0219,  0.0277,  ...,  0.0144,  0.0279,  0.0242],\n",
       "        ...,\n",
       "        [-0.0117,  0.0343, -0.0067,  ..., -0.0187,  0.0163, -0.0292],\n",
       "        [-0.0288,  0.0156,  0.0330,  ..., -0.0242,  0.0030, -0.0224],\n",
       "        [ 0.0334,  0.0029,  0.0200,  ...,  0.0133,  0.0093,  0.0128]],\n",
       "       requires_grad=True)"
      ]
     },
     "execution_count": 40,
     "metadata": {},
     "output_type": "execute_result"
    }
   ],
   "source": [
    "list(updated_model.parameters())[0]"
   ]
  },
  {
   "cell_type": "markdown",
   "id": "patent-athletics",
   "metadata": {},
   "source": [
    "# Appendix (experimental)"
   ]
  },
  {
   "cell_type": "markdown",
   "id": "coated-eligibility",
   "metadata": {
    "heading_collapsed": true
   },
   "source": [
    "## DataLoader"
   ]
  },
  {
   "cell_type": "code",
   "execution_count": 39,
   "id": "amino-intake",
   "metadata": {
    "hidden": true
   },
   "outputs": [],
   "source": [
    "from syft.util import get_root_data_path\n",
    "from torchvision import datasets, transforms\n",
    "mnist_path = get_root_data_path()\n",
    "\n",
    "mnist_train = datasets.MNIST(str(mnist_path), train=True, download=True,\n",
    "               transform=transforms.Compose([transforms.ToTensor(), transforms.Normalize((0.1307,), (0.3081,))]))\n",
    "\n",
    "mnist_test = datasets.MNIST((mnist_path), train=False, \n",
    "              transform=transforms.Compose([transforms.ToTensor(), transforms.Normalize((0.1307,), (0.3081,))]))\n",
    "\n",
    "train_loader = th.utils.data.DataLoader(mnist_train, batch_size=1024, shuffle=True, pin_memory=True)\n",
    "test_loader = th.utils.data.DataLoader(mnist_test, batch_size=1024, shuffle=True, pin_memory=True)"
   ]
  },
  {
   "cell_type": "code",
   "execution_count": 40,
   "id": "valued-latino",
   "metadata": {
    "hidden": true
   },
   "outputs": [],
   "source": [
    "x, y = next(iter(train_loader))"
   ]
  },
  {
   "cell_type": "code",
   "execution_count": 22,
   "id": "postal-puppy",
   "metadata": {
    "hidden": true
   },
   "outputs": [],
   "source": [
    "x_name, y_name = \"x.pt\", \"y.pt\""
   ]
  },
  {
   "cell_type": "code",
   "execution_count": 23,
   "id": "nonprofit-habitat",
   "metadata": {
    "hidden": true
   },
   "outputs": [],
   "source": [
    "th.save(x, x_name)"
   ]
  },
  {
   "cell_type": "code",
   "execution_count": 24,
   "id": "unnecessary-lighting",
   "metadata": {
    "hidden": true
   },
   "outputs": [],
   "source": [
    "transforms.ToTensor??"
   ]
  },
  {
   "cell_type": "code",
   "execution_count": 25,
   "id": "agreed-intro",
   "metadata": {
    "hidden": true
   },
   "outputs": [],
   "source": [
    "tag = \"mydataset\""
   ]
  },
  {
   "cell_type": "code",
   "execution_count": 26,
   "id": "posted-moment",
   "metadata": {
    "hidden": true
   },
   "outputs": [],
   "source": [
    "# train_loader.send(domain_node)"
   ]
  },
  {
   "cell_type": "code",
   "execution_count": 17,
   "id": "sublime-phoenix",
   "metadata": {
    "hidden": true
   },
   "outputs": [],
   "source": [
    "# dataset = RemoteDataset(path=x_name, transform=transforms.Compose([transforms.ToTensor()]))\n",
    "# dataloader = RemoteDataLoader(dataset)"
   ]
  },
  {
   "cell_type": "markdown",
   "id": "damaged-practice",
   "metadata": {
    "heading_collapsed": true
   },
   "source": [
    "## Transforms"
   ]
  },
  {
   "cell_type": "code",
   "execution_count": null,
   "id": "stuffed-interval",
   "metadata": {
    "hidden": true
   },
   "outputs": [],
   "source": []
  },
  {
   "cell_type": "code",
   "execution_count": 18,
   "id": "collaborative-amber",
   "metadata": {
    "hidden": true
   },
   "outputs": [],
   "source": [
    "from torchvision import transforms"
   ]
  },
  {
   "cell_type": "code",
   "execution_count": 19,
   "id": "fitting-tattoo",
   "metadata": {
    "hidden": true
   },
   "outputs": [],
   "source": [
    "# transforms.ToTensor().send(domain_node)"
   ]
  },
  {
   "cell_type": "code",
   "execution_count": 55,
   "id": "parliamentary-accessory",
   "metadata": {
    "hidden": true
   },
   "outputs": [
    {
     "data": {
      "text/plain": [
       "<syft.proxy.torch.TensorPointer at 0x7fa0dc4b9f10>"
      ]
     },
     "execution_count": 55,
     "metadata": {},
     "output_type": "execute_result"
    }
   ],
   "source": [
    "th.tensor([1,2,3]).send(domain_node, tags=[tag])"
   ]
  },
  {
   "cell_type": "code",
   "execution_count": 60,
   "id": "statistical-decision",
   "metadata": {
    "hidden": true
   },
   "outputs": [],
   "source": [
    "x_ptr = [x for x in domain_node.store if tag in x.tags][0]"
   ]
  },
  {
   "cell_type": "code",
   "execution_count": 61,
   "id": "cross-brain",
   "metadata": {
    "hidden": true
   },
   "outputs": [],
   "source": [
    "from syft.core.remote_dataloader import RemoteDataLoader\n",
    "from syft.core.remote_dataloader import RemoteDataset"
   ]
  },
  {
   "cell_type": "code",
   "execution_count": null,
   "id": "coated-garden",
   "metadata": {
    "hidden": true
   },
   "outputs": [],
   "source": [
    "ten = th.rand((1000, ))"
   ]
  },
  {
   "cell_type": "code",
   "execution_count": 20,
   "id": "opposite-ministry",
   "metadata": {
    "hidden": true
   },
   "outputs": [],
   "source": [
    "# domain_node.tensors"
   ]
  },
  {
   "cell_type": "code",
   "execution_count": 21,
   "id": "yellow-billion",
   "metadata": {
    "hidden": true
   },
   "outputs": [],
   "source": [
    "# domain_node.datasets.create(z)"
   ]
  },
  {
   "cell_type": "code",
   "execution_count": 22,
   "id": "moderate-immune",
   "metadata": {
    "hidden": true
   },
   "outputs": [],
   "source": [
    "# %debug"
   ]
  },
  {
   "cell_type": "code",
   "execution_count": 14,
   "id": "relevant-lafayette",
   "metadata": {
    "hidden": true
   },
   "outputs": [
    {
     "data": {
      "text/html": [
       "<div>\n",
       "<style scoped>\n",
       "    .dataframe tbody tr th:only-of-type {\n",
       "        vertical-align: middle;\n",
       "    }\n",
       "\n",
       "    .dataframe tbody tr th {\n",
       "        vertical-align: top;\n",
       "    }\n",
       "\n",
       "    .dataframe thead th {\n",
       "        text-align: right;\n",
       "    }\n",
       "</style>\n",
       "<table border=\"1\" class=\"dataframe\">\n",
       "  <thead>\n",
       "    <tr style=\"text-align: right;\">\n",
       "      <th></th>\n",
       "    </tr>\n",
       "  </thead>\n",
       "  <tbody>\n",
       "  </tbody>\n",
       "</table>\n",
       "</div>"
      ],
      "text/plain": [
       "Empty DataFrame\n",
       "Columns: []\n",
       "Index: []"
      ]
     },
     "execution_count": 14,
     "metadata": {},
     "output_type": "execute_result"
    }
   ],
   "source": [
    "domain_node.datasets.all(pandas=True)"
   ]
  },
  {
   "cell_type": "code",
   "execution_count": 77,
   "id": "driving-error",
   "metadata": {
    "hidden": true
   },
   "outputs": [],
   "source": [
    "x = th.tensor([1,2,3])"
   ]
  },
  {
   "cell_type": "code",
   "execution_count": 26,
   "id": "pediatric-packing",
   "metadata": {
    "hidden": true
   },
   "outputs": [],
   "source": [
    "ptr = x.send(domain_node)"
   ]
  },
  {
   "cell_type": "code",
   "execution_count": 27,
   "id": "hollow-roller",
   "metadata": {
    "hidden": true
   },
   "outputs": [],
   "source": [
    "new_ptr = ptr+5"
   ]
  },
  {
   "cell_type": "code",
   "execution_count": 32,
   "id": "future-doubt",
   "metadata": {
    "hidden": true
   },
   "outputs": [],
   "source": [
    "new_ptr.request()"
   ]
  },
  {
   "cell_type": "code",
   "execution_count": 75,
   "id": "peaceful-recovery",
   "metadata": {
    "hidden": true
   },
   "outputs": [],
   "source": [
    "# new_ptr.get()"
   ]
  },
  {
   "cell_type": "code",
   "execution_count": 29,
   "id": "afraid-shark",
   "metadata": {
    "hidden": true
   },
   "outputs": [],
   "source": [
    "# domain_node.datasets"
   ]
  },
  {
   "cell_type": "code",
   "execution_count": null,
   "id": "equivalent-handy",
   "metadata": {
    "hidden": true
   },
   "outputs": [],
   "source": []
  },
  {
   "cell_type": "code",
   "execution_count": null,
   "id": "advisory-complaint",
   "metadata": {
    "hidden": true
   },
   "outputs": [],
   "source": []
  }
 ],
 "metadata": {
  "kernelspec": {
   "display_name": "Python 3",
   "language": "python",
   "name": "python3"
  },
  "language_info": {
   "codemirror_mode": {
    "name": "ipython",
    "version": 3
   },
   "file_extension": ".py",
   "mimetype": "text/x-python",
   "name": "python",
   "nbconvert_exporter": "python",
   "pygments_lexer": "ipython3",
   "version": "3.7.9"
  },
  "toc": {
   "base_numbering": 1,
   "nav_menu": {},
   "number_sections": true,
   "sideBar": true,
   "skip_h1_title": false,
   "title_cell": "Table of Contents",
   "title_sidebar": "Contents",
   "toc_cell": false,
   "toc_position": {},
   "toc_section_display": true,
   "toc_window_display": true
  }
 },
 "nbformat": 4,
 "nbformat_minor": 5
}

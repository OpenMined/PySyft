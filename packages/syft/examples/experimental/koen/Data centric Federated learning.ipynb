{
 "cells": [
  {
   "cell_type": "code",
   "execution_count": 28,
   "id": "verbal-brass",
   "metadata": {},
   "outputs": [
    {
     "name": "stdout",
     "output_type": "stream",
     "text": [
      "The autoreload extension is already loaded. To reload it, use:\n",
      "  %reload_ext autoreload\n"
     ]
    }
   ],
   "source": [
    "%load_ext autoreload\n",
    "%autoreload 2"
   ]
  },
  {
   "cell_type": "code",
   "execution_count": 29,
   "id": "hidden-venue",
   "metadata": {},
   "outputs": [],
   "source": [
    "from syft.grid.client.client import connect\n",
    "from syft.grid.client.grid_connection import GridHTTPConnection\n",
    "from syft.core.node.domain.client import DomainClient\n",
    "from syft.core.plan.plan_builder import PLAN_BUILDER_VM, make_plan, ROOT_CLIENT\n",
    "from syft import SyModule\n",
    "from syft import logger\n",
    "import syft as sy\n",
    "import torch as th\n",
    "\n",
    "sy.VERBOSE = False\n",
    "logger.remove()"
   ]
  },
  {
   "cell_type": "markdown",
   "id": "several-rebecca",
   "metadata": {},
   "source": [
    "# Settings"
   ]
  },
  {
   "cell_type": "code",
   "execution_count": 65,
   "id": "dominant-terrain",
   "metadata": {},
   "outputs": [],
   "source": [
    "# DOMAIN_URL, NETWORK_URL = \"http://localhost:5000\", \"http://localhost:7000\"\n",
    "DOMAIN_URL, NETWORK_URL = \"http://localhost:5000\", \"http://54.73.229.34:7001\"\n",
    "# DOMAIN_URL, NETWORK_URL = \"http://localhost:5000\", \"http://3.250.104.46:7001\"\n",
    "do_email, do_pw = \"owner@openmined.org\", \"12345\"\n",
    "ds_email, ds_pw = \"data_scientist@email.com\", \"data_scientist_pwd123\"\n",
    "net_email, net_pw = \"network@mymail.com\", \"network_pw\"\n",
    "token = \"9G9MJ06OQH\"\n",
    "network_whitelist = [DOMAIN_URL]"
   ]
  },
  {
   "cell_type": "markdown",
   "id": "mechanical-verse",
   "metadata": {},
   "source": [
    "This notebook assumes a clean database state for both domain and network, if you want to delete their databases and start from scratch you can run:"
   ]
  },
  {
   "cell_type": "code",
   "execution_count": 66,
   "id": "hydraulic-trout",
   "metadata": {},
   "outputs": [],
   "source": [
    "# !rm /Users/koen/workspace/PyGrid/apps/domain/src/nodedatabase.db\n",
    "# !rm /Users/koen/workspace/PyGrid/apps/network/src/nodedatabase.db"
   ]
  },
  {
   "cell_type": "markdown",
   "id": "pointed-settle",
   "metadata": {},
   "source": [
    "Run a `Domain` on `http://localhost:5000` and a `Network` on `http://localhost:7000` **make sure to `export MEMORY_STORE=True`** before starting the `Network`."
   ]
  },
  {
   "cell_type": "markdown",
   "id": "southeast-portal",
   "metadata": {},
   "source": [
    "# Utils"
   ]
  },
  {
   "cell_type": "code",
   "execution_count": 67,
   "id": "saved-ladder",
   "metadata": {},
   "outputs": [],
   "source": [
    "def setup_and_connect(url, email, pw, token, node_name=\"My Node\", domain_name=\"Openmined Domain\"):\n",
    "    def _connect(): return connect(url=url, credentials={\"email\": email, \"password\": pw})\n",
    "    try:\n",
    "        return _connect()\n",
    "    except Exception as e:\n",
    "        client = connect(url=url)\n",
    "        client.setup(email=email, password=pw, node_name=node_name, domain_name=domain_name, token=token)\n",
    "        return _connect()"
   ]
  },
  {
   "cell_type": "code",
   "execution_count": 68,
   "id": "superb-hardwood",
   "metadata": {},
   "outputs": [],
   "source": [
    "def is_associated(client, network_url):\n",
    "    requests = client.association_requests.all() \n",
    "    return any([x[\"address\"] == network_url and x[\"accepted\"] == True for x in requests])"
   ]
  },
  {
   "cell_type": "markdown",
   "id": "damaged-marketplace",
   "metadata": {},
   "source": [
    "# Setup Network"
   ]
  },
  {
   "cell_type": "code",
   "execution_count": 70,
   "id": "social-multiple",
   "metadata": {},
   "outputs": [],
   "source": [
    "network_client = setup_and_connect(NETWORK_URL, net_email, net_pw, token, domain_name=\"Network\")"
   ]
  },
  {
   "cell_type": "code",
   "execution_count": 8,
   "id": "arranged-polymer",
   "metadata": {},
   "outputs": [],
   "source": [
    "# network_client.association_requests.all()"
   ]
  },
  {
   "cell_type": "markdown",
   "id": "bigger-miniature",
   "metadata": {},
   "source": [
    "# Data owner: setup, connect to network, and load data"
   ]
  },
  {
   "cell_type": "markdown",
   "id": "interstate-understanding",
   "metadata": {},
   "source": [
    "## Setup"
   ]
  },
  {
   "cell_type": "code",
   "execution_count": 26,
   "id": "collaborative-curtis",
   "metadata": {},
   "outputs": [],
   "source": [
    "do_client = setup_and_connect(DOMAIN_URL, do_email, do_pw, token)"
   ]
  },
  {
   "cell_type": "code",
   "execution_count": 27,
   "id": "important-realtor",
   "metadata": {},
   "outputs": [
    {
     "data": {
      "text/plain": [
       "[{'id': 1,\n",
       "  'email': 'owner@openmined.org',\n",
       "  'private_key': '4765364ab4e9f3bcf467ad68381314f4e78f5218427065163ab6b3c7b5f198d6',\n",
       "  'verify_key': 'b7c4dd5c154dffd65a6ba431997920ffab4e4d1d1cb9a134151ea058d5ff98ea',\n",
       "  'role': 4,\n",
       "  'groups': []}]"
      ]
     },
     "execution_count": 27,
     "metadata": {},
     "output_type": "execute_result"
    }
   ],
   "source": [
    "do_client.users.all()"
   ]
  },
  {
   "cell_type": "markdown",
   "id": "healthy-galaxy",
   "metadata": {},
   "source": [
    "## Association Request"
   ]
  },
  {
   "cell_type": "markdown",
   "id": "lasting-wound",
   "metadata": {},
   "source": [
    "TODO, why doesnt this work"
   ]
  },
  {
   "cell_type": "code",
   "execution_count": 13,
   "id": "maritime-kazakhstan",
   "metadata": {},
   "outputs": [
    {
     "ename": "NameError",
     "evalue": "name 'network_client' is not defined",
     "output_type": "error",
     "traceback": [
      "\u001b[0;31m---------------------------------------------------------------------------\u001b[0m",
      "\u001b[0;31mNameError\u001b[0m                                 Traceback (most recent call last)",
      "\u001b[0;32m<ipython-input-13-7e21464a4427>\u001b[0m in \u001b[0;36m<module>\u001b[0;34m\u001b[0m\n\u001b[0;32m----> 1\u001b[0;31m \u001b[0mnetwork_client\u001b[0m\u001b[0;34m.\u001b[0m\u001b[0massociation_requests\u001b[0m\u001b[0;34m.\u001b[0m\u001b[0mall\u001b[0m\u001b[0;34m(\u001b[0m\u001b[0;34m)\u001b[0m\u001b[0;34m\u001b[0m\u001b[0;34m\u001b[0m\u001b[0m\n\u001b[0m",
      "\u001b[0;31mNameError\u001b[0m: name 'network_client' is not defined"
     ]
    }
   ],
   "source": [
    "network_client.association_requests.all()"
   ]
  },
  {
   "cell_type": "code",
   "execution_count": 32,
   "id": "textile-government",
   "metadata": {},
   "outputs": [],
   "source": [
    "# for r in network_client.association_requests.all():\n",
    "#     network_client.association_requests.delete(association_request_id=r[\"id\"])"
   ]
  },
  {
   "cell_type": "code",
   "execution_count": 34,
   "id": "robust-composition",
   "metadata": {},
   "outputs": [],
   "source": [
    "# del network_client.association_requests[1]"
   ]
  },
  {
   "cell_type": "code",
   "execution_count": null,
   "id": "velvet-decline",
   "metadata": {},
   "outputs": [],
   "source": []
  },
  {
   "cell_type": "code",
   "execution_count": null,
   "id": "athletic-effects",
   "metadata": {},
   "outputs": [],
   "source": []
  },
  {
   "cell_type": "code",
   "execution_count": null,
   "id": "annual-broad",
   "metadata": {},
   "outputs": [],
   "source": []
  },
  {
   "cell_type": "code",
   "execution_count": 36,
   "id": "equal-composition",
   "metadata": {},
   "outputs": [],
   "source": [
    "# do_client.association_requests.all()[0]"
   ]
  },
  {
   "cell_type": "code",
   "execution_count": 14,
   "id": "personalized-brown",
   "metadata": {},
   "outputs": [],
   "source": [
    "if not is_associated(do_client, NETWORK_URL):\n",
    "    do_client.association_requests.create(name=\"My request\", address=NETWORK_URL, sender_address=DOMAIN_URL)"
   ]
  },
  {
   "cell_type": "markdown",
   "id": "australian-thong",
   "metadata": {},
   "source": [
    "### Network Accepts requests from whitelisted urls"
   ]
  },
  {
   "cell_type": "code",
   "execution_count": 15,
   "id": "economic-blues",
   "metadata": {},
   "outputs": [],
   "source": [
    "for req in network_client.association_requests.all():\n",
    "    if req[\"address\"] in network_whitelist and req[\"accepted\"] == False:\n",
    "        network_client.association_requests[req[\"id\"]].accept();"
   ]
  },
  {
   "cell_type": "code",
   "execution_count": 16,
   "id": "southeast-organ",
   "metadata": {},
   "outputs": [
    {
     "data": {
      "text/html": [
       "<div>\n",
       "<style scoped>\n",
       "    .dataframe tbody tr th:only-of-type {\n",
       "        vertical-align: middle;\n",
       "    }\n",
       "\n",
       "    .dataframe tbody tr th {\n",
       "        vertical-align: top;\n",
       "    }\n",
       "\n",
       "    .dataframe thead th {\n",
       "        text-align: right;\n",
       "    }\n",
       "</style>\n",
       "<table border=\"1\" class=\"dataframe\">\n",
       "  <thead>\n",
       "    <tr style=\"text-align: right;\">\n",
       "      <th></th>\n",
       "      <th>id</th>\n",
       "      <th>date</th>\n",
       "      <th>name</th>\n",
       "      <th>address</th>\n",
       "      <th>sender_address</th>\n",
       "      <th>accepted</th>\n",
       "      <th>pending</th>\n",
       "      <th>handshake_value</th>\n",
       "    </tr>\n",
       "  </thead>\n",
       "  <tbody>\n",
       "    <tr>\n",
       "      <th>0</th>\n",
       "      <td>1</td>\n",
       "      <td>2021-05-27 12:58:14.747608</td>\n",
       "      <td>My request</td>\n",
       "      <td>http://localhost:5000</td>\n",
       "      <td>http://localhost:7000</td>\n",
       "      <td>True</td>\n",
       "      <td>False</td>\n",
       "      <td>b53a6255237890f207f2d856a994cffa893b009b1ed8e4...</td>\n",
       "    </tr>\n",
       "  </tbody>\n",
       "</table>\n",
       "</div>"
      ],
      "text/plain": [
       "   id                        date        name                address  \\\n",
       "0   1  2021-05-27 12:58:14.747608  My request  http://localhost:5000   \n",
       "\n",
       "          sender_address  accepted  pending  \\\n",
       "0  http://localhost:7000      True    False   \n",
       "\n",
       "                                     handshake_value  \n",
       "0  b53a6255237890f207f2d856a994cffa893b009b1ed8e4...  "
      ]
     },
     "execution_count": 16,
     "metadata": {},
     "output_type": "execute_result"
    }
   ],
   "source": [
    "network_client.association_requests.all(pandas=True)"
   ]
  },
  {
   "cell_type": "markdown",
   "id": "moving-governor",
   "metadata": {},
   "source": [
    "## Create dataset (DO)"
   ]
  },
  {
   "cell_type": "code",
   "execution_count": 17,
   "id": "worthy-gravity",
   "metadata": {},
   "outputs": [],
   "source": [
    "tag = \"#mydataset\""
   ]
  },
  {
   "cell_type": "code",
   "execution_count": 18,
   "id": "parliamentary-dublin",
   "metadata": {},
   "outputs": [],
   "source": [
    "data_x, data_y = th.randn(1024,1,28,28), th.randint(10, (1024,))"
   ]
  },
  {
   "cell_type": "code",
   "execution_count": 19,
   "id": "million-weight",
   "metadata": {},
   "outputs": [],
   "source": [
    "x_ptr = data_x.send(do_client, pointable=True, tags=[f\"{tag}:x\"])\n",
    "y_ptr = data_y.send(do_client, pointable=True, tags=[f\"{tag}:y\"])"
   ]
  },
  {
   "cell_type": "markdown",
   "id": "silver-snake",
   "metadata": {},
   "source": [
    "## Create DS account (DO)"
   ]
  },
  {
   "cell_type": "markdown",
   "id": "romantic-klein",
   "metadata": {},
   "source": [
    "If we do this for multiple `Domains` we need to make sure that we dont use the same password for different domains. As this may leak access keys between domains"
   ]
  },
  {
   "cell_type": "code",
   "execution_count": 20,
   "id": "composite-provincial",
   "metadata": {},
   "outputs": [],
   "source": [
    "if not any([x[\"email\"] == ds_email for x in do_client.users.all()]):\n",
    "    do_client.users.create(email=ds_email, password=ds_pw)"
   ]
  },
  {
   "cell_type": "markdown",
   "id": "experienced-tiger",
   "metadata": {},
   "source": [
    "# Data scientist: search & train"
   ]
  },
  {
   "cell_type": "markdown",
   "id": "psychological-aquarium",
   "metadata": {},
   "source": [
    "## Search"
   ]
  },
  {
   "cell_type": "markdown",
   "id": "bacterial-aluminum",
   "metadata": {},
   "source": [
    "TODO: this should ideally be a separate client (with user permissions) in the future. For now this is oke as we assume that the network owner and the data scientist are from the same org."
   ]
  },
  {
   "cell_type": "code",
   "execution_count": 12,
   "id": "desirable-process",
   "metadata": {},
   "outputs": [],
   "source": [
    "query = f\"{tag}:x\""
   ]
  },
  {
   "cell_type": "code",
   "execution_count": 13,
   "id": "dense-championship",
   "metadata": {},
   "outputs": [
    {
     "ename": "UnknownPrivateException",
     "evalue": "UnknownPrivateException has been triggered.",
     "output_type": "error",
     "traceback": [
      "\u001b[0;31m---------------------------------------------------------------------------\u001b[0m",
      "\u001b[0;31mUnknownPrivateException\u001b[0m                   Traceback (most recent call last)",
      "\u001b[0;32m<ipython-input-13-f775fa2fb584>\u001b[0m in \u001b[0;36m<module>\u001b[0;34m\u001b[0m\n\u001b[0;32m----> 1\u001b[0;31m \u001b[0mnetwork_client\u001b[0m\u001b[0;34m.\u001b[0m\u001b[0msearch\u001b[0m\u001b[0;34m(\u001b[0m\u001b[0mquery\u001b[0m\u001b[0;34m=\u001b[0m\u001b[0;34m[\u001b[0m\u001b[0mquery\u001b[0m\u001b[0;34m]\u001b[0m\u001b[0;34m,\u001b[0m \u001b[0mpandas\u001b[0m\u001b[0;34m=\u001b[0m\u001b[0;32mTrue\u001b[0m\u001b[0;34m)\u001b[0m\u001b[0;34m\u001b[0m\u001b[0;34m\u001b[0m\u001b[0m\n\u001b[0m",
      "\u001b[0;32m~/workspace/PySyft/packages/syft/src/syft/grid/client/client.py\u001b[0m in \u001b[0;36msearch\u001b[0;34m(self, query, pandas)\u001b[0m\n\u001b[1;32m    152\u001b[0m     \u001b[0;32mdef\u001b[0m \u001b[0msearch\u001b[0m\u001b[0;34m(\u001b[0m\u001b[0mself\u001b[0m\u001b[0;34m,\u001b[0m \u001b[0mquery\u001b[0m\u001b[0;34m:\u001b[0m \u001b[0mList\u001b[0m\u001b[0;34m,\u001b[0m \u001b[0mpandas\u001b[0m\u001b[0;34m:\u001b[0m \u001b[0mbool\u001b[0m \u001b[0;34m=\u001b[0m \u001b[0;32mFalse\u001b[0m\u001b[0;34m)\u001b[0m \u001b[0;34m->\u001b[0m \u001b[0mAny\u001b[0m\u001b[0;34m:\u001b[0m\u001b[0;34m\u001b[0m\u001b[0;34m\u001b[0m\u001b[0m\n\u001b[1;32m    153\u001b[0m         response = self.__perform_grid_request(\n\u001b[0;32m--> 154\u001b[0;31m             \u001b[0mgrid_msg\u001b[0m\u001b[0;34m=\u001b[0m\u001b[0mNetworkSearchMessage\u001b[0m\u001b[0;34m,\u001b[0m \u001b[0mcontent\u001b[0m\u001b[0;34m=\u001b[0m\u001b[0;34m{\u001b[0m\u001b[0mRequestAPIFields\u001b[0m\u001b[0;34m.\u001b[0m\u001b[0mQUERY\u001b[0m\u001b[0;34m:\u001b[0m \u001b[0mquery\u001b[0m\u001b[0;34m}\u001b[0m\u001b[0;34m\u001b[0m\u001b[0;34m\u001b[0m\u001b[0m\n\u001b[0m\u001b[1;32m    155\u001b[0m         )\n\u001b[1;32m    156\u001b[0m         \u001b[0;32mif\u001b[0m \u001b[0mpandas\u001b[0m\u001b[0;34m:\u001b[0m\u001b[0;34m\u001b[0m\u001b[0;34m\u001b[0m\u001b[0m\n",
      "\u001b[0;32m~/workspace/PySyft/packages/syft/src/syft/grid/client/client.py\u001b[0m in \u001b[0;36m__perform_grid_request\u001b[0;34m(self, grid_msg, content)\u001b[0m\n\u001b[1;32m    208\u001b[0m             \u001b[0mcontent\u001b[0m \u001b[0;34m=\u001b[0m \u001b[0;34m{\u001b[0m\u001b[0;34m}\u001b[0m\u001b[0;34m\u001b[0m\u001b[0;34m\u001b[0m\u001b[0m\n\u001b[1;32m    209\u001b[0m         \u001b[0msigned_msg\u001b[0m \u001b[0;34m=\u001b[0m \u001b[0mself\u001b[0m\u001b[0;34m.\u001b[0m\u001b[0m__build_msg\u001b[0m\u001b[0;34m(\u001b[0m\u001b[0mgrid_msg\u001b[0m\u001b[0;34m=\u001b[0m\u001b[0mgrid_msg\u001b[0m\u001b[0;34m,\u001b[0m \u001b[0mcontent\u001b[0m\u001b[0;34m=\u001b[0m\u001b[0mcontent\u001b[0m\u001b[0;34m)\u001b[0m\u001b[0;34m\u001b[0m\u001b[0;34m\u001b[0m\u001b[0m\n\u001b[0;32m--> 210\u001b[0;31m         \u001b[0mresponse\u001b[0m \u001b[0;34m=\u001b[0m \u001b[0mself\u001b[0m\u001b[0;34m.\u001b[0m\u001b[0msend_immediate_msg_with_reply\u001b[0m\u001b[0;34m(\u001b[0m\u001b[0mmsg\u001b[0m\u001b[0;34m=\u001b[0m\u001b[0msigned_msg\u001b[0m\u001b[0;34m)\u001b[0m\u001b[0;34m\u001b[0m\u001b[0;34m\u001b[0m\u001b[0m\n\u001b[0m\u001b[1;32m    211\u001b[0m         \u001b[0;31m# print(\"got this intermediary\", response, type(response))\u001b[0m\u001b[0;34m\u001b[0m\u001b[0;34m\u001b[0m\u001b[0;34m\u001b[0m\u001b[0m\n\u001b[1;32m    212\u001b[0m         \u001b[0;32mreturn\u001b[0m \u001b[0mself\u001b[0m\u001b[0;34m.\u001b[0m\u001b[0m__process_response\u001b[0m\u001b[0;34m(\u001b[0m\u001b[0mresponse\u001b[0m\u001b[0;34m=\u001b[0m\u001b[0mresponse\u001b[0m\u001b[0;34m)\u001b[0m\u001b[0;34m\u001b[0m\u001b[0;34m\u001b[0m\u001b[0m\n",
      "\u001b[0;32m~/workspace/PySyft/packages/syft/src/syft/grid/client/client.py\u001b[0m in \u001b[0;36msend_immediate_msg_with_reply\u001b[0;34m(self, msg, route_index)\u001b[0m\n\u001b[1;32m    167\u001b[0m     ]:\n\u001b[1;32m    168\u001b[0m         return super(GridClient, self).send_immediate_msg_with_reply(  # type: ignore\n\u001b[0;32m--> 169\u001b[0;31m             \u001b[0mmsg\u001b[0m\u001b[0;34m=\u001b[0m\u001b[0mmsg\u001b[0m\u001b[0;34m,\u001b[0m \u001b[0mroute_index\u001b[0m\u001b[0;34m=\u001b[0m\u001b[0mroute_index\u001b[0m\u001b[0;34m\u001b[0m\u001b[0;34m\u001b[0m\u001b[0m\n\u001b[0m\u001b[1;32m    170\u001b[0m         )\n\u001b[1;32m    171\u001b[0m \u001b[0;34m\u001b[0m\u001b[0m\n",
      "\u001b[0;32m~/workspace/PySyft/packages/syft/src/syft/core/node/common/client.py\u001b[0m in \u001b[0;36msend_immediate_msg_with_reply\u001b[0;34m(self, msg, route_index)\u001b[0m\n\u001b[1;32m    234\u001b[0m                 \u001b[0mexception\u001b[0m \u001b[0;34m=\u001b[0m \u001b[0mexception_msg\u001b[0m\u001b[0;34m.\u001b[0m\u001b[0mexception_type\u001b[0m\u001b[0;34m(\u001b[0m\u001b[0mexception_msg\u001b[0m\u001b[0;34m.\u001b[0m\u001b[0mexception_msg\u001b[0m\u001b[0;34m)\u001b[0m\u001b[0;34m\u001b[0m\u001b[0;34m\u001b[0m\u001b[0m\n\u001b[1;32m    235\u001b[0m                 \u001b[0merror\u001b[0m\u001b[0;34m(\u001b[0m\u001b[0mstr\u001b[0m\u001b[0;34m(\u001b[0m\u001b[0mexception\u001b[0m\u001b[0;34m)\u001b[0m\u001b[0;34m)\u001b[0m\u001b[0;34m\u001b[0m\u001b[0;34m\u001b[0m\u001b[0m\n\u001b[0;32m--> 236\u001b[0;31m                 \u001b[0mtraceback_and_raise\u001b[0m\u001b[0;34m(\u001b[0m\u001b[0mexception\u001b[0m\u001b[0;34m)\u001b[0m\u001b[0;34m\u001b[0m\u001b[0;34m\u001b[0m\u001b[0m\n\u001b[0m\u001b[1;32m    237\u001b[0m             \u001b[0;32melse\u001b[0m\u001b[0;34m:\u001b[0m\u001b[0;34m\u001b[0m\u001b[0;34m\u001b[0m\u001b[0m\n\u001b[1;32m    238\u001b[0m                 \u001b[0;32mreturn\u001b[0m \u001b[0mresponse\u001b[0m\u001b[0;34m.\u001b[0m\u001b[0mmessage\u001b[0m\u001b[0;34m\u001b[0m\u001b[0;34m\u001b[0m\u001b[0m\n",
      "\u001b[0;32m~/workspace/PySyft/packages/syft/src/syft/logger.py\u001b[0m in \u001b[0;36mtraceback_and_raise\u001b[0;34m(e, verbose)\u001b[0m\n\u001b[1;32m     59\u001b[0m     \u001b[0;32mif\u001b[0m \u001b[0;32mnot\u001b[0m \u001b[0missubclass\u001b[0m\u001b[0;34m(\u001b[0m\u001b[0mtype\u001b[0m\u001b[0;34m(\u001b[0m\u001b[0me\u001b[0m\u001b[0;34m)\u001b[0m\u001b[0;34m,\u001b[0m \u001b[0mException\u001b[0m\u001b[0;34m)\u001b[0m\u001b[0;34m:\u001b[0m\u001b[0;34m\u001b[0m\u001b[0;34m\u001b[0m\u001b[0m\n\u001b[1;32m     60\u001b[0m         \u001b[0me\u001b[0m \u001b[0;34m=\u001b[0m \u001b[0mException\u001b[0m\u001b[0;34m(\u001b[0m\u001b[0me\u001b[0m\u001b[0;34m)\u001b[0m\u001b[0;34m\u001b[0m\u001b[0;34m\u001b[0m\u001b[0m\n\u001b[0;32m---> 61\u001b[0;31m     \u001b[0;32mraise\u001b[0m \u001b[0me\u001b[0m\u001b[0;34m\u001b[0m\u001b[0;34m\u001b[0m\u001b[0m\n\u001b[0m\u001b[1;32m     62\u001b[0m \u001b[0;34m\u001b[0m\u001b[0m\n\u001b[1;32m     63\u001b[0m \u001b[0;34m\u001b[0m\u001b[0m\n",
      "\u001b[0;31mUnknownPrivateException\u001b[0m: UnknownPrivateException has been triggered."
     ]
    }
   ],
   "source": [
    "network_client.search(query=[query], pandas=True)"
   ]
  },
  {
   "cell_type": "code",
   "execution_count": 14,
   "id": "going-beauty",
   "metadata": {},
   "outputs": [
    {
     "name": "stdout",
     "output_type": "stream",
     "text": [
      "> \u001b[0;32m/Users/koen/workspace/PySyft/packages/syft/src/syft/logger.py\u001b[0m(61)\u001b[0;36mtraceback_and_raise\u001b[0;34m()\u001b[0m\n",
      "\u001b[0;32m     59 \u001b[0;31m    \u001b[0;32mif\u001b[0m \u001b[0;32mnot\u001b[0m \u001b[0missubclass\u001b[0m\u001b[0;34m(\u001b[0m\u001b[0mtype\u001b[0m\u001b[0;34m(\u001b[0m\u001b[0me\u001b[0m\u001b[0;34m)\u001b[0m\u001b[0;34m,\u001b[0m \u001b[0mException\u001b[0m\u001b[0;34m)\u001b[0m\u001b[0;34m:\u001b[0m\u001b[0;34m\u001b[0m\u001b[0;34m\u001b[0m\u001b[0m\n",
      "\u001b[0m\u001b[0;32m     60 \u001b[0;31m        \u001b[0me\u001b[0m \u001b[0;34m=\u001b[0m \u001b[0mException\u001b[0m\u001b[0;34m(\u001b[0m\u001b[0me\u001b[0m\u001b[0;34m)\u001b[0m\u001b[0;34m\u001b[0m\u001b[0;34m\u001b[0m\u001b[0m\n",
      "\u001b[0m\u001b[0;32m---> 61 \u001b[0;31m    \u001b[0;32mraise\u001b[0m \u001b[0me\u001b[0m\u001b[0;34m\u001b[0m\u001b[0;34m\u001b[0m\u001b[0m\n",
      "\u001b[0m\u001b[0;32m     62 \u001b[0;31m\u001b[0;34m\u001b[0m\u001b[0m\n",
      "\u001b[0m\u001b[0;32m     63 \u001b[0;31m\u001b[0;34m\u001b[0m\u001b[0m\n",
      "\u001b[0m\n",
      "ipdb> u\n",
      "> \u001b[0;32m/Users/koen/workspace/PySyft/packages/syft/src/syft/core/node/common/client.py\u001b[0m(236)\u001b[0;36msend_immediate_msg_with_reply\u001b[0;34m()\u001b[0m\n",
      "\u001b[0;32m    234 \u001b[0;31m                \u001b[0mexception\u001b[0m \u001b[0;34m=\u001b[0m \u001b[0mexception_msg\u001b[0m\u001b[0;34m.\u001b[0m\u001b[0mexception_type\u001b[0m\u001b[0;34m(\u001b[0m\u001b[0mexception_msg\u001b[0m\u001b[0;34m.\u001b[0m\u001b[0mexception_msg\u001b[0m\u001b[0;34m)\u001b[0m\u001b[0;34m\u001b[0m\u001b[0;34m\u001b[0m\u001b[0m\n",
      "\u001b[0m\u001b[0;32m    235 \u001b[0;31m                \u001b[0merror\u001b[0m\u001b[0;34m(\u001b[0m\u001b[0mstr\u001b[0m\u001b[0;34m(\u001b[0m\u001b[0mexception\u001b[0m\u001b[0;34m)\u001b[0m\u001b[0;34m)\u001b[0m\u001b[0;34m\u001b[0m\u001b[0;34m\u001b[0m\u001b[0m\n",
      "\u001b[0m\u001b[0;32m--> 236 \u001b[0;31m                \u001b[0mtraceback_and_raise\u001b[0m\u001b[0;34m(\u001b[0m\u001b[0mexception\u001b[0m\u001b[0;34m)\u001b[0m\u001b[0;34m\u001b[0m\u001b[0;34m\u001b[0m\u001b[0m\n",
      "\u001b[0m\u001b[0;32m    237 \u001b[0;31m            \u001b[0;32melse\u001b[0m\u001b[0;34m:\u001b[0m\u001b[0;34m\u001b[0m\u001b[0;34m\u001b[0m\u001b[0m\n",
      "\u001b[0m\u001b[0;32m    238 \u001b[0;31m                \u001b[0;32mreturn\u001b[0m \u001b[0mresponse\u001b[0m\u001b[0;34m.\u001b[0m\u001b[0mmessage\u001b[0m\u001b[0;34m\u001b[0m\u001b[0;34m\u001b[0m\u001b[0m\n",
      "\u001b[0m\n",
      "ipdb> u\n",
      "> \u001b[0;32m/Users/koen/workspace/PySyft/packages/syft/src/syft/grid/client/client.py\u001b[0m(169)\u001b[0;36msend_immediate_msg_with_reply\u001b[0;34m()\u001b[0m\n",
      "\u001b[0;32m    167 \u001b[0;31m    ]:\n",
      "\u001b[0m\u001b[0;32m    168 \u001b[0;31m        return super(GridClient, self).send_immediate_msg_with_reply(  # type: ignore\n",
      "\u001b[0m\u001b[0;32m--> 169 \u001b[0;31m            \u001b[0mmsg\u001b[0m\u001b[0;34m=\u001b[0m\u001b[0mmsg\u001b[0m\u001b[0;34m,\u001b[0m \u001b[0mroute_index\u001b[0m\u001b[0;34m=\u001b[0m\u001b[0mroute_index\u001b[0m\u001b[0;34m\u001b[0m\u001b[0;34m\u001b[0m\u001b[0m\n",
      "\u001b[0m\u001b[0;32m    170 \u001b[0;31m        )\n",
      "\u001b[0m\u001b[0;32m    171 \u001b[0;31m\u001b[0;34m\u001b[0m\u001b[0m\n",
      "\u001b[0m\n",
      "ipdb> d\n",
      "> \u001b[0;32m/Users/koen/workspace/PySyft/packages/syft/src/syft/core/node/common/client.py\u001b[0m(236)\u001b[0;36msend_immediate_msg_with_reply\u001b[0;34m()\u001b[0m\n",
      "\u001b[0;32m    234 \u001b[0;31m                \u001b[0mexception\u001b[0m \u001b[0;34m=\u001b[0m \u001b[0mexception_msg\u001b[0m\u001b[0;34m.\u001b[0m\u001b[0mexception_type\u001b[0m\u001b[0;34m(\u001b[0m\u001b[0mexception_msg\u001b[0m\u001b[0;34m.\u001b[0m\u001b[0mexception_msg\u001b[0m\u001b[0;34m)\u001b[0m\u001b[0;34m\u001b[0m\u001b[0;34m\u001b[0m\u001b[0m\n",
      "\u001b[0m\u001b[0;32m    235 \u001b[0;31m                \u001b[0merror\u001b[0m\u001b[0;34m(\u001b[0m\u001b[0mstr\u001b[0m\u001b[0;34m(\u001b[0m\u001b[0mexception\u001b[0m\u001b[0;34m)\u001b[0m\u001b[0;34m)\u001b[0m\u001b[0;34m\u001b[0m\u001b[0;34m\u001b[0m\u001b[0m\n",
      "\u001b[0m\u001b[0;32m--> 236 \u001b[0;31m                \u001b[0mtraceback_and_raise\u001b[0m\u001b[0;34m(\u001b[0m\u001b[0mexception\u001b[0m\u001b[0;34m)\u001b[0m\u001b[0;34m\u001b[0m\u001b[0;34m\u001b[0m\u001b[0m\n",
      "\u001b[0m\u001b[0;32m    237 \u001b[0;31m            \u001b[0;32melse\u001b[0m\u001b[0;34m:\u001b[0m\u001b[0;34m\u001b[0m\u001b[0;34m\u001b[0m\u001b[0m\n",
      "\u001b[0m\u001b[0;32m    238 \u001b[0;31m                \u001b[0;32mreturn\u001b[0m \u001b[0mresponse\u001b[0m\u001b[0;34m.\u001b[0m\u001b[0mmessage\u001b[0m\u001b[0;34m\u001b[0m\u001b[0;34m\u001b[0m\u001b[0m\n",
      "\u001b[0m\n",
      "ipdb> exception\n",
      "UnknownPrivateException('UnknownPrivateException has been triggered.')\n",
      "ipdb> q\n"
     ]
    }
   ],
   "source": [
    "%debug"
   ]
  },
  {
   "cell_type": "code",
   "execution_count": 42,
   "id": "recovered-exposure",
   "metadata": {},
   "outputs": [],
   "source": [
    "urls = network_client.search(query=[query])[\"match-nodes\"]\n",
    "url = urls[0]"
   ]
  },
  {
   "cell_type": "markdown",
   "id": "future-subsection",
   "metadata": {},
   "source": [
    "## Connect to domain"
   ]
  },
  {
   "cell_type": "code",
   "execution_count": 43,
   "id": "naked-testament",
   "metadata": {},
   "outputs": [],
   "source": [
    "ds_client = connect(url=url, credentials={\"email\": ds_email, \"password\": ds_pw})"
   ]
  },
  {
   "cell_type": "markdown",
   "id": "computational-duncan",
   "metadata": {},
   "source": [
    "## Create plan"
   ]
  },
  {
   "cell_type": "code",
   "execution_count": 44,
   "id": "superior-mileage",
   "metadata": {},
   "outputs": [],
   "source": [
    "class MySyModule(SyModule):\n",
    "    def __init__(self, **kwargs):\n",
    "        super().__init__(**kwargs)\n",
    "        self.layer1 = th.nn.Linear(28*28,100)\n",
    "        self.relu1 = th.nn.ReLU()\n",
    "        self.layer2 = th.nn.Linear(100,10)\n",
    "    \n",
    "    def forward(self, x):\n",
    "        x_reshaped = x.view(-1, 28 * 28)\n",
    "        o1 = self.layer1(x_reshaped)\n",
    "        a1 = self.relu1(o1)\n",
    "        out = self.layer2(a1)\n",
    "        return out"
   ]
  },
  {
   "cell_type": "code",
   "execution_count": 45,
   "id": "prescription-trace",
   "metadata": {},
   "outputs": [],
   "source": [
    "model = MySyModule(input_size=(32,28*28))\n",
    "dummy_dl = sy.lib.python.List([(th.randn(1024,1,28,28), th.randint(10, (1024,)))])"
   ]
  },
  {
   "cell_type": "code",
   "execution_count": 46,
   "id": "quiet-wallet",
   "metadata": {},
   "outputs": [],
   "source": [
    "remote_torch = ROOT_CLIENT.torch"
   ]
  },
  {
   "cell_type": "code",
   "execution_count": 47,
   "id": "geological-medicare",
   "metadata": {},
   "outputs": [],
   "source": [
    "@make_plan\n",
    "def train(x=data_x, y=data_y, model=model):\n",
    "    optimizer = remote_torch.optim.SGD(model.parameters(), lr=1e-1, momentum=0)\n",
    "    optimizer.zero_grad()\n",
    "    out = model(x=x)[0]\n",
    "    loss = remote_torch.nn.functional.cross_entropy(out, y)\n",
    "    loss.backward()\n",
    "    optimizer.step()\n",
    "\n",
    "    return [model]"
   ]
  },
  {
   "cell_type": "markdown",
   "id": "appropriate-native",
   "metadata": {},
   "source": [
    "## Run plan"
   ]
  },
  {
   "cell_type": "markdown",
   "id": "blond-robertson",
   "metadata": {},
   "source": [
    "### Get dataset pointer"
   ]
  },
  {
   "cell_type": "code",
   "execution_count": 48,
   "id": "driving-yorkshire",
   "metadata": {},
   "outputs": [],
   "source": [
    "# !rm /Users/koen/workspace/PyGrid/apps/domain/src/nodedatabase.db\n",
    "# !rm /Users/koen/workspace/PyGrid/apps/network/src/nodedatabase.db"
   ]
  },
  {
   "cell_type": "code",
   "execution_count": 49,
   "id": "egyptian-adventure",
   "metadata": {},
   "outputs": [],
   "source": [
    "x = [t for t in ds_client.store if f\"{tag}:x\" in t.tags][-1]\n",
    "y = [t for t in ds_client.store if f\"{tag}:y\" in t.tags][-1]\n",
    "model = MySyModule(input_size=(32,28*28))\n",
    "train_ptr = train.send(ds_client)"
   ]
  },
  {
   "cell_type": "markdown",
   "id": "offshore-custody",
   "metadata": {},
   "source": [
    "TODO: think about how dummy variables in the plan can be re-used. Why do permissions not work correctly without an explicit .send()?"
   ]
  },
  {
   "cell_type": "code",
   "execution_count": 50,
   "id": "introductory-treat",
   "metadata": {},
   "outputs": [],
   "source": [
    "out_ptr = train_ptr(x=x, y=y, model=model.send(do_client))"
   ]
  },
  {
   "cell_type": "markdown",
   "id": "ready-cooking",
   "metadata": {},
   "source": [
    "We can request the resulting model"
   ]
  },
  {
   "cell_type": "code",
   "execution_count": 51,
   "id": "developed-friday",
   "metadata": {},
   "outputs": [],
   "source": [
    "out_ptr.request()"
   ]
  },
  {
   "cell_type": "code",
   "execution_count": 54,
   "id": "developing-letter",
   "metadata": {},
   "outputs": [
    {
     "name": "stdout",
     "output_type": "stream",
     "text": [
      "First DO needs to accept\n"
     ]
    }
   ],
   "source": [
    "try:\n",
    "    updated_model, = out_ptr.get()\n",
    "except:\n",
    "    print(\"First DO needs to accept\")\n",
    "else:\n",
    "    raise PermissionError(\"Permissions are broken\")"
   ]
  },
  {
   "cell_type": "code",
   "execution_count": 55,
   "id": "identical-fleece",
   "metadata": {},
   "outputs": [],
   "source": [
    "do_client.requests[-1].accept()"
   ]
  },
  {
   "cell_type": "code",
   "execution_count": 56,
   "id": "sized-learning",
   "metadata": {},
   "outputs": [
    {
     "data": {
      "text/plain": [
       "MySyModule(\n",
       "  (layer1): Linear(in_features=784, out_features=100, bias=True)\n",
       "  (relu1): ReLU()\n",
       "  (layer2): Linear(in_features=100, out_features=10, bias=True)\n",
       ")"
      ]
     },
     "execution_count": 56,
     "metadata": {},
     "output_type": "execute_result"
    }
   ],
   "source": [
    "updated_model, = out_ptr.get()\n",
    "updated_model"
   ]
  },
  {
   "cell_type": "markdown",
   "id": "classified-fifty",
   "metadata": {},
   "source": [
    "Model is updated, so orginal and updated model are not the same"
   ]
  },
  {
   "cell_type": "code",
   "execution_count": 57,
   "id": "gentle-disney",
   "metadata": {},
   "outputs": [
    {
     "data": {
      "text/plain": [
       "False"
      ]
     },
     "execution_count": 57,
     "metadata": {},
     "output_type": "execute_result"
    }
   ],
   "source": [
    "th.equal(list(model.parameters())[0], list(updated_model.parameters())[0])"
   ]
  },
  {
   "cell_type": "markdown",
   "id": "dirty-ideal",
   "metadata": {},
   "source": [
    "# Appendix (experimental)"
   ]
  },
  {
   "cell_type": "markdown",
   "id": "coated-eligibility",
   "metadata": {
    "heading_collapsed": true
   },
   "source": [
    "## DataLoader"
   ]
  },
  {
   "cell_type": "code",
   "execution_count": 39,
   "id": "amino-intake",
   "metadata": {
    "hidden": true
   },
   "outputs": [],
   "source": [
    "from syft.util import get_root_data_path\n",
    "from torchvision import datasets, transforms\n",
    "mnist_path = get_root_data_path()\n",
    "\n",
    "mnist_train = datasets.MNIST(str(mnist_path), train=True, download=True,\n",
    "               transform=transforms.Compose([transforms.ToTensor(), transforms.Normalize((0.1307,), (0.3081,))]))\n",
    "\n",
    "mnist_test = datasets.MNIST((mnist_path), train=False, \n",
    "              transform=transforms.Compose([transforms.ToTensor(), transforms.Normalize((0.1307,), (0.3081,))]))\n",
    "\n",
    "train_loader = th.utils.data.DataLoader(mnist_train, batch_size=1024, shuffle=True, pin_memory=True)\n",
    "test_loader = th.utils.data.DataLoader(mnist_test, batch_size=1024, shuffle=True, pin_memory=True)"
   ]
  },
  {
   "cell_type": "code",
   "execution_count": 40,
   "id": "valued-latino",
   "metadata": {
    "hidden": true
   },
   "outputs": [],
   "source": [
    "x, y = next(iter(train_loader))"
   ]
  },
  {
   "cell_type": "code",
   "execution_count": 22,
   "id": "postal-puppy",
   "metadata": {
    "hidden": true
   },
   "outputs": [],
   "source": [
    "x_name, y_name = \"x.pt\", \"y.pt\""
   ]
  },
  {
   "cell_type": "code",
   "execution_count": 23,
   "id": "nonprofit-habitat",
   "metadata": {
    "hidden": true
   },
   "outputs": [],
   "source": [
    "th.save(x, x_name)"
   ]
  },
  {
   "cell_type": "code",
   "execution_count": 24,
   "id": "unnecessary-lighting",
   "metadata": {
    "hidden": true
   },
   "outputs": [],
   "source": [
    "transforms.ToTensor??"
   ]
  },
  {
   "cell_type": "code",
   "execution_count": 25,
   "id": "agreed-intro",
   "metadata": {
    "hidden": true
   },
   "outputs": [],
   "source": [
    "tag = \"mydataset\""
   ]
  },
  {
   "cell_type": "code",
   "execution_count": 26,
   "id": "posted-moment",
   "metadata": {
    "hidden": true
   },
   "outputs": [],
   "source": [
    "# train_loader.send(domain_node)"
   ]
  },
  {
   "cell_type": "code",
   "execution_count": 17,
   "id": "sublime-phoenix",
   "metadata": {
    "hidden": true
   },
   "outputs": [],
   "source": [
    "# dataset = RemoteDataset(path=x_name, transform=transforms.Compose([transforms.ToTensor()]))\n",
    "# dataloader = RemoteDataLoader(dataset)"
   ]
  },
  {
   "cell_type": "markdown",
   "id": "damaged-practice",
   "metadata": {
    "heading_collapsed": true
   },
   "source": [
    "## Transforms"
   ]
  },
  {
   "cell_type": "code",
   "execution_count": null,
   "id": "stuffed-interval",
   "metadata": {
    "hidden": true
   },
   "outputs": [],
   "source": []
  },
  {
   "cell_type": "code",
   "execution_count": 18,
   "id": "collaborative-amber",
   "metadata": {
    "hidden": true
   },
   "outputs": [],
   "source": [
    "from torchvision import transforms"
   ]
  },
  {
   "cell_type": "code",
   "execution_count": 19,
   "id": "fitting-tattoo",
   "metadata": {
    "hidden": true
   },
   "outputs": [],
   "source": [
    "# transforms.ToTensor().send(domain_node)"
   ]
  },
  {
   "cell_type": "code",
   "execution_count": 55,
   "id": "parliamentary-accessory",
   "metadata": {
    "hidden": true
   },
   "outputs": [
    {
     "data": {
      "text/plain": [
       "<syft.proxy.torch.TensorPointer at 0x7fa0dc4b9f10>"
      ]
     },
     "execution_count": 55,
     "metadata": {},
     "output_type": "execute_result"
    }
   ],
   "source": [
    "th.tensor([1,2,3]).send(domain_node, tags=[tag])"
   ]
  },
  {
   "cell_type": "code",
   "execution_count": 60,
   "id": "statistical-decision",
   "metadata": {
    "hidden": true
   },
   "outputs": [],
   "source": [
    "x_ptr = [x for x in domain_node.store if tag in x.tags][0]"
   ]
  },
  {
   "cell_type": "code",
   "execution_count": 61,
   "id": "cross-brain",
   "metadata": {
    "hidden": true
   },
   "outputs": [],
   "source": [
    "from syft.core.remote_dataloader import RemoteDataLoader\n",
    "from syft.core.remote_dataloader import RemoteDataset"
   ]
  },
  {
   "cell_type": "code",
   "execution_count": null,
   "id": "coated-garden",
   "metadata": {
    "hidden": true
   },
   "outputs": [],
   "source": [
    "ten = th.rand((1000, ))"
   ]
  },
  {
   "cell_type": "code",
   "execution_count": 20,
   "id": "opposite-ministry",
   "metadata": {
    "hidden": true
   },
   "outputs": [],
   "source": [
    "# domain_node.tensors"
   ]
  },
  {
   "cell_type": "code",
   "execution_count": 21,
   "id": "yellow-billion",
   "metadata": {
    "hidden": true
   },
   "outputs": [],
   "source": [
    "# domain_node.datasets.create(z)"
   ]
  },
  {
   "cell_type": "code",
   "execution_count": 22,
   "id": "moderate-immune",
   "metadata": {
    "hidden": true
   },
   "outputs": [],
   "source": [
    "# %debug"
   ]
  },
  {
   "cell_type": "code",
   "execution_count": 14,
   "id": "relevant-lafayette",
   "metadata": {
    "hidden": true
   },
   "outputs": [
    {
     "data": {
      "text/html": [
       "<div>\n",
       "<style scoped>\n",
       "    .dataframe tbody tr th:only-of-type {\n",
       "        vertical-align: middle;\n",
       "    }\n",
       "\n",
       "    .dataframe tbody tr th {\n",
       "        vertical-align: top;\n",
       "    }\n",
       "\n",
       "    .dataframe thead th {\n",
       "        text-align: right;\n",
       "    }\n",
       "</style>\n",
       "<table border=\"1\" class=\"dataframe\">\n",
       "  <thead>\n",
       "    <tr style=\"text-align: right;\">\n",
       "      <th></th>\n",
       "    </tr>\n",
       "  </thead>\n",
       "  <tbody>\n",
       "  </tbody>\n",
       "</table>\n",
       "</div>"
      ],
      "text/plain": [
       "Empty DataFrame\n",
       "Columns: []\n",
       "Index: []"
      ]
     },
     "execution_count": 14,
     "metadata": {},
     "output_type": "execute_result"
    }
   ],
   "source": [
    "domain_node.datasets.all(pandas=True)"
   ]
  },
  {
   "cell_type": "code",
   "execution_count": 77,
   "id": "driving-error",
   "metadata": {
    "hidden": true
   },
   "outputs": [],
   "source": [
    "x = th.tensor([1,2,3])"
   ]
  },
  {
   "cell_type": "code",
   "execution_count": 26,
   "id": "pediatric-packing",
   "metadata": {
    "hidden": true
   },
   "outputs": [],
   "source": [
    "ptr = x.send(domain_node)"
   ]
  },
  {
   "cell_type": "code",
   "execution_count": 27,
   "id": "hollow-roller",
   "metadata": {
    "hidden": true
   },
   "outputs": [],
   "source": [
    "new_ptr = ptr+5"
   ]
  },
  {
   "cell_type": "code",
   "execution_count": 32,
   "id": "future-doubt",
   "metadata": {
    "hidden": true
   },
   "outputs": [],
   "source": [
    "new_ptr.request()"
   ]
  },
  {
   "cell_type": "code",
   "execution_count": 75,
   "id": "peaceful-recovery",
   "metadata": {
    "hidden": true
   },
   "outputs": [],
   "source": [
    "# new_ptr.get()"
   ]
  },
  {
   "cell_type": "code",
   "execution_count": 29,
   "id": "afraid-shark",
   "metadata": {
    "hidden": true
   },
   "outputs": [],
   "source": [
    "# domain_node.datasets"
   ]
  },
  {
   "cell_type": "code",
   "execution_count": null,
   "id": "equivalent-handy",
   "metadata": {
    "hidden": true
   },
   "outputs": [],
   "source": []
  },
  {
   "cell_type": "code",
   "execution_count": null,
   "id": "advisory-complaint",
   "metadata": {
    "hidden": true
   },
   "outputs": [],
   "source": []
  }
 ],
 "metadata": {
  "kernelspec": {
   "display_name": "Python 3",
   "language": "python",
   "name": "python3"
  },
  "language_info": {
   "codemirror_mode": {
    "name": "ipython",
    "version": 3
   },
   "file_extension": ".py",
   "mimetype": "text/x-python",
   "name": "python",
   "nbconvert_exporter": "python",
   "pygments_lexer": "ipython3",
   "version": "3.7.9"
  },
  "toc": {
   "base_numbering": 1,
   "nav_menu": {},
   "number_sections": true,
   "sideBar": true,
   "skip_h1_title": false,
   "title_cell": "Table of Contents",
   "title_sidebar": "Contents",
   "toc_cell": false,
   "toc_position": {},
   "toc_section_display": true,
   "toc_window_display": true
  }
 },
 "nbformat": 4,
 "nbformat_minor": 5
}

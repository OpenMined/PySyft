{
 "cells": [
  {
   "cell_type": "code",
   "execution_count": 121,
   "id": "verbal-brass",
   "metadata": {},
   "outputs": [
    {
     "name": "stdout",
     "output_type": "stream",
     "text": [
      "The autoreload extension is already loaded. To reload it, use:\n",
      "  %reload_ext autoreload\n"
     ]
    }
   ],
   "source": [
    "%load_ext autoreload\n",
    "%autoreload 2"
   ]
  },
  {
   "cell_type": "code",
   "execution_count": 122,
   "id": "hidden-venue",
   "metadata": {},
   "outputs": [],
   "source": [
    "from syft.grid.client.client import connect\n",
    "from syft.grid.client.grid_connection import GridHTTPConnection\n",
    "from syft.core.node.domain.client import DomainClient\n",
    "from syft.core.plan.plan_builder import PLAN_BUILDER_VM, make_plan, ROOT_CLIENT\n",
    "from syft import SyModule\n",
    "from syft import logger\n",
    "import syft as sy\n",
    "import torch as th\n",
    "\n",
    "sy.VERBOSE = False\n",
    "logger.remove()"
   ]
  },
  {
   "cell_type": "markdown",
   "id": "several-rebecca",
   "metadata": {},
   "source": [
    "# Settings"
   ]
  },
  {
   "cell_type": "code",
   "execution_count": 81,
   "id": "dominant-terrain",
   "metadata": {},
   "outputs": [],
   "source": [
    "DOMAIN_URL, NETWORK_URL = \"http://localhost:5000\", \"http://localhost:7000\"\n",
    "do_email, do_pw = \"owner@openmined.org\", \"12345\"\n",
    "ds_email, ds_pw = \"data_scientist@email.com\", \"data_scientist_pwd123\"\n",
    "net_email, net_pw = \"network@mymail.com\", \"network_pw\"\n",
    "token = \"9G9MJ06OQH\"\n",
    "network_whitelist = [DOMAIN_URL]"
   ]
  },
  {
   "cell_type": "markdown",
   "id": "mechanical-verse",
   "metadata": {},
   "source": [
    "This notebook assumes a clean database state for both domain and network, running both on localhost. if you want to delete their databases and start from scratch you can run:"
   ]
  },
  {
   "cell_type": "code",
   "execution_count": 126,
   "id": "hydraulic-trout",
   "metadata": {},
   "outputs": [],
   "source": [
    "# !rm /Users/koen/workspace/PyGrid/apps/domain/src/nodedatabase.db\n",
    "# !rm /Users/koen/workspace/PyGrid/apps/network/src/nodedatabase.db"
   ]
  },
  {
   "cell_type": "markdown",
   "id": "pointed-settle",
   "metadata": {},
   "source": [
    "Run a `Domain` on `http://localhost:5000` and a `Network` on `http://localhost:7000` **\\*\\*make sure to `export MEMORY_STORE=True`\\*\\*** before starting the `Domain`."
   ]
  },
  {
   "cell_type": "markdown",
   "id": "southeast-portal",
   "metadata": {},
   "source": [
    "# Utils"
   ]
  },
  {
   "cell_type": "code",
   "execution_count": 83,
   "id": "saved-ladder",
   "metadata": {},
   "outputs": [],
   "source": [
    "def setup_and_connect(url, email, pw, token, node_name=\"My Node\", domain_name=\"Openmined Domain\"):\n",
    "    def _connect(): return connect(url=url, credentials={\"email\": email, \"password\": pw})\n",
    "    try:\n",
    "        return _connect()\n",
    "    except Exception as e:\n",
    "        client = connect(url=url)\n",
    "        client.setup(email=email, password=pw, node_name=node_name, domain_name=domain_name, token=token)\n",
    "        return _connect()"
   ]
  },
  {
   "cell_type": "code",
   "execution_count": 84,
   "id": "superb-hardwood",
   "metadata": {},
   "outputs": [],
   "source": [
    "def is_associated(client, network_url):\n",
    "    requests = client.association_requests.all() \n",
    "    return any([x[\"address\"] == network_url and x[\"accepted\"] == True for x in requests])"
   ]
  },
  {
   "cell_type": "markdown",
   "id": "damaged-marketplace",
   "metadata": {},
   "source": [
    "# Setup Network"
   ]
  },
  {
   "cell_type": "markdown",
   "id": "empirical-stanford",
   "metadata": {},
   "source": [
    "For networks, there is a small naming issue in pygrid `setup_serice.py` line 108 (\"msg\" -> \"message\"), you might have to run this twice to work. "
   ]
  },
  {
   "cell_type": "code",
   "execution_count": 127,
   "id": "social-multiple",
   "metadata": {},
   "outputs": [],
   "source": [
    "network_client = setup_and_connect(NETWORK_URL, net_email, net_pw, token, domain_name=\"Network\")"
   ]
  },
  {
   "cell_type": "markdown",
   "id": "bigger-miniature",
   "metadata": {},
   "source": [
    "# Data owner: setup, connect to network, and load data"
   ]
  },
  {
   "cell_type": "markdown",
   "id": "interstate-understanding",
   "metadata": {},
   "source": [
    "## Setup"
   ]
  },
  {
   "cell_type": "code",
   "execution_count": 90,
   "id": "collaborative-curtis",
   "metadata": {},
   "outputs": [],
   "source": [
    "do_client = setup_and_connect(DOMAIN_URL, do_email, do_pw, token)"
   ]
  },
  {
   "cell_type": "code",
   "execution_count": 91,
   "id": "important-realtor",
   "metadata": {},
   "outputs": [
    {
     "data": {
      "text/plain": [
       "[{'id': 1,\n",
       "  'email': 'owner@openmined.org',\n",
       "  'private_key': '7829ec684b08dd5eda1548c7f178b519f53c9bfad2f683cbdfa1ddc500e55872',\n",
       "  'verify_key': 'f47acf600a246d97346483bbc8498236e3da0d57e8cd60ec06c6ef69bcdd2016',\n",
       "  'role': 4,\n",
       "  'groups': []}]"
      ]
     },
     "execution_count": 91,
     "metadata": {},
     "output_type": "execute_result"
    }
   ],
   "source": [
    "do_client.users.all()"
   ]
  },
  {
   "cell_type": "markdown",
   "id": "healthy-galaxy",
   "metadata": {},
   "source": [
    "## Association Request"
   ]
  },
  {
   "cell_type": "code",
   "execution_count": 93,
   "id": "personalized-brown",
   "metadata": {},
   "outputs": [],
   "source": [
    "if not is_associated(do_client, NETWORK_URL):\n",
    "    do_client.association_requests.create(name=\"My request\", address=NETWORK_URL, sender_address=DOMAIN_URL)"
   ]
  },
  {
   "cell_type": "markdown",
   "id": "australian-thong",
   "metadata": {},
   "source": [
    "### Network Accepts requests from whitelisted urls"
   ]
  },
  {
   "cell_type": "code",
   "execution_count": 94,
   "id": "economic-blues",
   "metadata": {},
   "outputs": [],
   "source": [
    "for req in network_client.association_requests.all():\n",
    "    if req[\"address\"] in network_whitelist and req[\"accepted\"] == False:\n",
    "        network_client.association_requests[req[\"id\"]].accept();"
   ]
  },
  {
   "cell_type": "code",
   "execution_count": 95,
   "id": "southeast-organ",
   "metadata": {},
   "outputs": [
    {
     "data": {
      "text/html": [
       "<div>\n",
       "<style scoped>\n",
       "    .dataframe tbody tr th:only-of-type {\n",
       "        vertical-align: middle;\n",
       "    }\n",
       "\n",
       "    .dataframe tbody tr th {\n",
       "        vertical-align: top;\n",
       "    }\n",
       "\n",
       "    .dataframe thead th {\n",
       "        text-align: right;\n",
       "    }\n",
       "</style>\n",
       "<table border=\"1\" class=\"dataframe\">\n",
       "  <thead>\n",
       "    <tr style=\"text-align: right;\">\n",
       "      <th></th>\n",
       "      <th>id</th>\n",
       "      <th>date</th>\n",
       "      <th>name</th>\n",
       "      <th>address</th>\n",
       "      <th>sender_address</th>\n",
       "      <th>accepted</th>\n",
       "      <th>pending</th>\n",
       "      <th>handshake_value</th>\n",
       "    </tr>\n",
       "  </thead>\n",
       "  <tbody>\n",
       "    <tr>\n",
       "      <th>0</th>\n",
       "      <td>1</td>\n",
       "      <td>2021-06-01 14:48:13.569228</td>\n",
       "      <td>My request</td>\n",
       "      <td>http://localhost:5000</td>\n",
       "      <td>http://localhost:7000</td>\n",
       "      <td>True</td>\n",
       "      <td>False</td>\n",
       "      <td>b53a6255237890f207f2d856a994cffa893b009b1ed8e4...</td>\n",
       "    </tr>\n",
       "  </tbody>\n",
       "</table>\n",
       "</div>"
      ],
      "text/plain": [
       "   id                        date        name                address  \\\n",
       "0   1  2021-06-01 14:48:13.569228  My request  http://localhost:5000   \n",
       "\n",
       "          sender_address  accepted  pending  \\\n",
       "0  http://localhost:7000      True    False   \n",
       "\n",
       "                                     handshake_value  \n",
       "0  b53a6255237890f207f2d856a994cffa893b009b1ed8e4...  "
      ]
     },
     "execution_count": 95,
     "metadata": {},
     "output_type": "execute_result"
    }
   ],
   "source": [
    "network_client.association_requests.all(pandas=True)"
   ]
  },
  {
   "cell_type": "markdown",
   "id": "moving-governor",
   "metadata": {},
   "source": [
    "## Create dataset (DO)"
   ]
  },
  {
   "cell_type": "code",
   "execution_count": 96,
   "id": "worthy-gravity",
   "metadata": {},
   "outputs": [],
   "source": [
    "tag = \"#mydataset\""
   ]
  },
  {
   "cell_type": "code",
   "execution_count": 97,
   "id": "parliamentary-dublin",
   "metadata": {},
   "outputs": [],
   "source": [
    "data_x, data_y = th.randn(1024,1,28,28), th.randint(10, (1024,))"
   ]
  },
  {
   "cell_type": "code",
   "execution_count": 98,
   "id": "million-weight",
   "metadata": {},
   "outputs": [],
   "source": [
    "x_ptr = data_x.send(do_client, pointable=True, tags=[f\"{tag}:x\"])\n",
    "y_ptr = data_y.send(do_client, pointable=True, tags=[f\"{tag}:y\"])"
   ]
  },
  {
   "cell_type": "markdown",
   "id": "silver-snake",
   "metadata": {},
   "source": [
    "## Create DS account (DO)"
   ]
  },
  {
   "cell_type": "markdown",
   "id": "romantic-klein",
   "metadata": {},
   "source": [
    "If we do this for multiple `Domains` we need to make sure that we dont use the same password for different domains. As this may leak access keys between domains"
   ]
  },
  {
   "cell_type": "code",
   "execution_count": 99,
   "id": "composite-provincial",
   "metadata": {},
   "outputs": [],
   "source": [
    "if not any([x[\"email\"] == ds_email for x in do_client.users.all()]):\n",
    "    do_client.users.create(email=ds_email, password=ds_pw)"
   ]
  },
  {
   "cell_type": "markdown",
   "id": "experienced-tiger",
   "metadata": {},
   "source": [
    "# Data scientist: search & train"
   ]
  },
  {
   "cell_type": "markdown",
   "id": "psychological-aquarium",
   "metadata": {},
   "source": [
    "## Search"
   ]
  },
  {
   "cell_type": "markdown",
   "id": "bacterial-aluminum",
   "metadata": {},
   "source": [
    "TODO: this should ideally be a separate client (with user permissions) in the future. For now this is oke as we assume that the network owner and the data scientist are from the same org."
   ]
  },
  {
   "cell_type": "code",
   "execution_count": 100,
   "id": "desirable-process",
   "metadata": {},
   "outputs": [],
   "source": [
    "query = f\"{tag}:x\""
   ]
  },
  {
   "cell_type": "code",
   "execution_count": 101,
   "id": "dense-championship",
   "metadata": {},
   "outputs": [
    {
     "data": {
      "text/html": [
       "<div>\n",
       "<style scoped>\n",
       "    .dataframe tbody tr th:only-of-type {\n",
       "        vertical-align: middle;\n",
       "    }\n",
       "\n",
       "    .dataframe tbody tr th {\n",
       "        vertical-align: top;\n",
       "    }\n",
       "\n",
       "    .dataframe thead th {\n",
       "        text-align: right;\n",
       "    }\n",
       "</style>\n",
       "<table border=\"1\" class=\"dataframe\">\n",
       "  <thead>\n",
       "    <tr style=\"text-align: right;\">\n",
       "      <th></th>\n",
       "      <th>match-nodes</th>\n",
       "    </tr>\n",
       "  </thead>\n",
       "  <tbody>\n",
       "    <tr>\n",
       "      <th>0</th>\n",
       "      <td>http://localhost:5000</td>\n",
       "    </tr>\n",
       "  </tbody>\n",
       "</table>\n",
       "</div>"
      ],
      "text/plain": [
       "             match-nodes\n",
       "0  http://localhost:5000"
      ]
     },
     "execution_count": 101,
     "metadata": {},
     "output_type": "execute_result"
    }
   ],
   "source": [
    "network_client.search(query=[query], pandas=True)"
   ]
  },
  {
   "cell_type": "code",
   "execution_count": 102,
   "id": "recovered-exposure",
   "metadata": {},
   "outputs": [],
   "source": [
    "urls = network_client.search(query=[query])[\"match-nodes\"]\n",
    "url = urls[0]"
   ]
  },
  {
   "cell_type": "markdown",
   "id": "future-subsection",
   "metadata": {},
   "source": [
    "## Connect to domain"
   ]
  },
  {
   "cell_type": "code",
   "execution_count": 103,
   "id": "naked-testament",
   "metadata": {},
   "outputs": [],
   "source": [
    "ds_client = connect(url=url, credentials={\"email\": ds_email, \"password\": ds_pw})"
   ]
  },
  {
   "cell_type": "markdown",
   "id": "computational-duncan",
   "metadata": {},
   "source": [
    "## Create plan"
   ]
  },
  {
   "cell_type": "code",
   "execution_count": 104,
   "id": "superior-mileage",
   "metadata": {},
   "outputs": [],
   "source": [
    "class MySyModule(SyModule):\n",
    "    def __init__(self, **kwargs):\n",
    "        super().__init__(**kwargs)\n",
    "        self.layer1 = th.nn.Linear(28*28,100)\n",
    "        self.relu1 = th.nn.ReLU()\n",
    "        self.layer2 = th.nn.Linear(100,10)\n",
    "    \n",
    "    def forward(self, x):\n",
    "        x_reshaped = x.view(-1, 28 * 28)\n",
    "        o1 = self.layer1(x_reshaped)\n",
    "        a1 = self.relu1(o1)\n",
    "        out = self.layer2(a1)\n",
    "        return out"
   ]
  },
  {
   "cell_type": "code",
   "execution_count": 105,
   "id": "prescription-trace",
   "metadata": {},
   "outputs": [],
   "source": [
    "model = MySyModule(input_size=(32,28*28))\n",
    "dummy_dl = sy.lib.python.List([(th.randn(1024,1,28,28), th.randint(10, (1024,)))])"
   ]
  },
  {
   "cell_type": "code",
   "execution_count": 106,
   "id": "quiet-wallet",
   "metadata": {},
   "outputs": [],
   "source": [
    "remote_torch = ROOT_CLIENT.torch"
   ]
  },
  {
   "cell_type": "code",
   "execution_count": 107,
   "id": "geological-medicare",
   "metadata": {},
   "outputs": [],
   "source": [
    "@make_plan\n",
    "def train(x=data_x, y=data_y, model=model):\n",
    "    optimizer = remote_torch.optim.SGD(model.parameters(), lr=1e-1, momentum=0)\n",
    "    optimizer.zero_grad()\n",
    "    out = model(x=x)[0]\n",
    "    loss = remote_torch.nn.functional.cross_entropy(out, y)\n",
    "    loss.backward()\n",
    "    optimizer.step()\n",
    "\n",
    "    return [model]"
   ]
  },
  {
   "cell_type": "markdown",
   "id": "appropriate-native",
   "metadata": {},
   "source": [
    "## Run plan"
   ]
  },
  {
   "cell_type": "markdown",
   "id": "blond-robertson",
   "metadata": {},
   "source": [
    "### Get dataset pointer"
   ]
  },
  {
   "cell_type": "code",
   "execution_count": 109,
   "id": "egyptian-adventure",
   "metadata": {},
   "outputs": [],
   "source": [
    "x = [t for t in ds_client.store if f\"{tag}:x\" in t.tags][-1]\n",
    "y = [t for t in ds_client.store if f\"{tag}:y\" in t.tags][-1]\n",
    "model = MySyModule(input_size=(32,28*28))\n",
    "train_ptr = train.send(ds_client)"
   ]
  },
  {
   "cell_type": "markdown",
   "id": "functional-paris",
   "metadata": {},
   "source": [
    "Run the plan on the domain"
   ]
  },
  {
   "cell_type": "code",
   "execution_count": 30,
   "id": "introductory-treat",
   "metadata": {},
   "outputs": [],
   "source": [
    "out_ptr = train_ptr(x=x, y=y, model=model.send(do_client))"
   ]
  },
  {
   "cell_type": "markdown",
   "id": "ready-cooking",
   "metadata": {},
   "source": [
    "We need to request the resulting model, because we have no permissions"
   ]
  },
  {
   "cell_type": "code",
   "execution_count": 31,
   "id": "developed-friday",
   "metadata": {},
   "outputs": [],
   "source": [
    "out_ptr.request()"
   ]
  },
  {
   "cell_type": "code",
   "execution_count": 33,
   "id": "developing-letter",
   "metadata": {},
   "outputs": [
    {
     "name": "stdout",
     "output_type": "stream",
     "text": [
      "First DO needs to accept\n"
     ]
    }
   ],
   "source": [
    "try:\n",
    "    updated_model, = out_ptr.get()\n",
    "except:\n",
    "    print(\"First DO needs to accept\")\n",
    "else:\n",
    "    raise PermissionError(\"Permissions are broken\")"
   ]
  },
  {
   "cell_type": "code",
   "execution_count": 34,
   "id": "identical-fleece",
   "metadata": {},
   "outputs": [],
   "source": [
    "do_client.requests[-1].accept()"
   ]
  },
  {
   "cell_type": "code",
   "execution_count": 35,
   "id": "sized-learning",
   "metadata": {},
   "outputs": [
    {
     "data": {
      "text/plain": [
       "MySyModule(\n",
       "  (layer1): Linear(in_features=784, out_features=100, bias=True)\n",
       "  (relu1): ReLU()\n",
       "  (layer2): Linear(in_features=100, out_features=10, bias=True)\n",
       ")"
      ]
     },
     "execution_count": 35,
     "metadata": {},
     "output_type": "execute_result"
    }
   ],
   "source": [
    "updated_model, = out_ptr.get()\n",
    "updated_model"
   ]
  },
  {
   "cell_type": "markdown",
   "id": "classified-fifty",
   "metadata": {},
   "source": [
    "Model is updated, so orginal and updated model are not the same"
   ]
  },
  {
   "cell_type": "code",
   "execution_count": 36,
   "id": "gentle-disney",
   "metadata": {},
   "outputs": [
    {
     "data": {
      "text/plain": [
       "False"
      ]
     },
     "execution_count": 36,
     "metadata": {},
     "output_type": "execute_result"
    }
   ],
   "source": [
    "th.equal(list(model.parameters())[0], list(updated_model.parameters())[0])"
   ]
  },
  {
   "cell_type": "code",
   "execution_count": null,
   "id": "sized-tournament",
   "metadata": {},
   "outputs": [],
   "source": []
  }
 ],
 "metadata": {
  "kernelspec": {
   "display_name": "Python 3",
   "language": "python",
   "name": "python3"
  },
  "language_info": {
   "codemirror_mode": {
    "name": "ipython",
    "version": 3
   },
   "file_extension": ".py",
   "mimetype": "text/x-python",
   "name": "python",
   "nbconvert_exporter": "python",
   "pygments_lexer": "ipython3",
   "version": "3.7.9"
  },
  "toc": {
   "base_numbering": 1,
   "nav_menu": {},
   "number_sections": true,
   "sideBar": true,
   "skip_h1_title": false,
   "title_cell": "Table of Contents",
   "title_sidebar": "Contents",
   "toc_cell": false,
   "toc_position": {},
   "toc_section_display": true,
   "toc_window_display": true
  }
 },
 "nbformat": 4,
 "nbformat_minor": 5
}

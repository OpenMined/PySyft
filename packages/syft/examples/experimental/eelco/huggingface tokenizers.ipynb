{
 "cells": [
  {
   "cell_type": "code",
   "execution_count": 1,
   "id": "6e065d47",
   "metadata": {},
   "outputs": [],
   "source": [
    "%load_ext autoreload\n",
    "%autoreload 2"
   ]
  },
  {
   "cell_type": "code",
   "execution_count": 2,
   "id": "43c1e7ea",
   "metadata": {},
   "outputs": [],
   "source": [
    "import torch\n",
    "from torch import nn\n",
    "import torch.nn.functional as F\n",
    "\n",
    "import syft as sy\n",
    "from syft import make_plan\n",
    "from syft.lib.python.string import String\n",
    "from syft import logger\n",
    "from torch.utils.data import Dataset, DataLoader\n",
    "\n",
    "from transformers import AutoTokenizer\n",
    "import datasets\n",
    "import tokenizers\n",
    "\n",
    "# sy.lib.load('tokenizers')"
   ]
  },
  {
   "cell_type": "code",
   "execution_count": 3,
   "id": "5debb0bd",
   "metadata": {},
   "outputs": [],
   "source": [
    "# Create client\n",
    "\n",
    "alice = sy.VirtualMachine(name=\"alice\")\n",
    "alice_client = alice.get_client()\n",
    "t = String(\"abcd\")\n",
    "tp = t.send(alice_client)\n",
    "\n",
    "x = String(\"A simple sentence.\")\n",
    "x_ptr = x.send(alice_client)"
   ]
  },
  {
   "cell_type": "code",
   "execution_count": 4,
   "id": "8402d869",
   "metadata": {},
   "outputs": [],
   "source": [
    "# Load model\n",
    "\n",
    "model_name = 'distilroberta-base'\n",
    "\n",
    "# model = AutoModelForSequenceClassification.from_pretrained(model_name)"
   ]
  },
  {
   "cell_type": "code",
   "execution_count": 5,
   "id": "aeffcec4",
   "metadata": {
    "scrolled": true
   },
   "outputs": [
    {
     "name": "stdout",
     "output_type": "stream",
     "text": [
      "<tokenizers.Tokenizer object at 0x00000278504BC870>\n"
     ]
    }
   ],
   "source": [
    "# Tokenizer\n",
    "# NOTE transformers tokenizer wraps a tokenizers.Tokenizer, we uwrap it.\n",
    "tokenizer = AutoTokenizer.from_pretrained(model_name, use_fast=True)._tokenizer\n",
    "print(tokenizer)"
   ]
  },
  {
   "cell_type": "code",
   "execution_count": 7,
   "id": "d381e59f",
   "metadata": {},
   "outputs": [
    {
     "data": {
      "text/plain": [
       "str"
      ]
     },
     "execution_count": 7,
     "metadata": {},
     "output_type": "execute_result"
    }
   ],
   "source": [
    "type(tokenizer.to_str())"
   ]
  },
  {
   "cell_type": "code",
   "execution_count": 15,
   "id": "bbb6dc5b",
   "metadata": {},
   "outputs": [],
   "source": [
    "# Tokenizer serialization\n",
    "\n",
    "from syft.proto.lib.python.string_pb2 import String as String_PB\n",
    "from tokenizers import Tokenizer\n",
    "\n",
    "def object2proto(obj: object) -> String_PB:\n",
    "    # TODO Tokenizer.to_str serializes to a json string.\n",
    "    # Protobuf has protobuf.json_format, which might be better than sending a raw string.\n",
    "    protobuf_tokenizer = String_PB(data=obj.to_str())\n",
    "    return protobuf_tokenizer\n",
    "\n",
    "\n",
    "def proto2object(protobuf_tokenizer: String_PB) -> Tokenizer:\n",
    "    tokenizer = Tokenizer.from_str(protobuf_tokenizer.data)\n",
    "    return tokenizer\n",
    "\n",
    "out = proto2object(object2proto(tokenizer))\n",
    "assert out.to_str() == tokenizer.to_str()"
   ]
  },
  {
   "cell_type": "code",
   "execution_count": 9,
   "id": "b87d37e9",
   "metadata": {},
   "outputs": [],
   "source": [
    "# Encoding serialization\n",
    "\n",
    "from syft.proto.lib.python.string_pb2 import String as String_PB\n",
    "from tokenizers import Encoding\n",
    "\n",
    "def object2proto(obj: object) -> String_PB:\n",
    "    # TODO __getstate__ and __setstate__ return bytes, bytes protobuf?\n",
    "    protobuf_obj = String_PB(data=obj.__getstate__().decode('utf-8'))\n",
    "    return protobuf_obj\n",
    "\n",
    "\n",
    "def proto2object(protobuf_encoding: String_PB) -> Encoding:\n",
    "    encoding = Encoding()\n",
    "    encoding.__setstate__(protobuf_encoding.data.encode('utf-8'))\n",
    "    return encoding\n",
    "\n",
    "encoding = tokenizer.encode(\"This is a test.\")\n",
    "assert encoding.__getstate__() == encoding.__getstate__()"
   ]
  },
  {
   "cell_type": "code",
   "execution_count": null,
   "id": "f8969853",
   "metadata": {},
   "outputs": [],
   "source": []
  },
  {
   "cell_type": "code",
   "execution_count": null,
   "id": "d8eaa64f",
   "metadata": {},
   "outputs": [],
   "source": []
  }
 ],
 "metadata": {
  "kernelspec": {
   "display_name": "Python 3",
   "language": "python",
   "name": "python3"
  },
  "language_info": {
   "codemirror_mode": {
    "name": "ipython",
    "version": 3
   },
   "file_extension": ".py",
   "mimetype": "text/x-python",
   "name": "python",
   "nbconvert_exporter": "python",
   "pygments_lexer": "ipython3",
   "version": "3.8.5"
  },
  "toc": {
   "base_numbering": 1,
   "nav_menu": {},
   "number_sections": true,
   "sideBar": true,
   "skip_h1_title": false,
   "title_cell": "Table of Contents",
   "title_sidebar": "Contents",
   "toc_cell": false,
   "toc_position": {},
   "toc_section_display": true,
   "toc_window_display": true
  }
 },
 "nbformat": 4,
 "nbformat_minor": 5
}

{
 "cells": [
  {
   "cell_type": "code",
   "execution_count": 1,
   "id": "11741cc0",
   "metadata": {},
   "outputs": [],
   "source": [
    "from pathlib import Path\n",
    "\n",
    "import math\n",
    "import numpy as np\n",
    "import torch\n",
    "from torch import nn\n",
    "from matplotlib import pyplot as plt\n",
    "from pprint import pprint\n",
    "import time\n",
    "\n",
    "import syft as sy\n",
    "from syft import VirtualMachine\n",
    "from syft.core.plan.plan_builder import PLAN_BUILDER_VM, make_plan, build_plan_inputs, ROOT_CLIENT\n",
    "from syft.lib.python.collections.ordered_dict import OrderedDict\n",
    "from syft.lib.python.list import List\n",
    "from syft import logger\n",
    "from syft import SyModule, SySequential\n",
    "\n",
    "# transformers imports, not needed in AST\n",
    "from transformers.models.distilbert.modeling_distilbert import DistilBertConfig, create_sinusoidal_embeddings\n",
    "\n",
    "# Add in AST\n",
    "from transformers.activations import gelu\n",
    "\n",
    "logger.remove()"
   ]
  },
  {
   "cell_type": "code",
   "execution_count": 2,
   "id": "d3075bfd",
   "metadata": {},
   "outputs": [],
   "source": [
    "# Create client\n",
    "alice = sy.VirtualMachine(name=\"alice\")\n",
    "alice_client = alice.get_client()\n",
    "remote_torch = ROOT_CLIENT.torch"
   ]
  },
  {
   "cell_type": "code",
   "execution_count": 3,
   "id": "d7dbaafb",
   "metadata": {
    "scrolled": true
   },
   "outputs": [
    {
     "name": "stdout",
     "output_type": "stream",
     "text": [
      "RECOMPILING SyLinear\n",
      "RECOMPILING SyLinear\n",
      "RECOMPILING SyLinear\n",
      "RECOMPILING SyLinear\n",
      "RECOMPILING SyLinear\n",
      "RECOMPILING SyLinear\n"
     ]
    }
   ],
   "source": [
    "class SyLinear(SyModule):\n",
    "    def __init__(self, **kwargs):\n",
    "        super().__init__(**kwargs)\n",
    "        self.layer = nn.Linear(10, 10)\n",
    "        \n",
    "    def forward(self, x):\n",
    "        return self.layer(x)\n",
    "\n",
    "class SyMLP(SyModule):\n",
    "    def __init__(self, **kwargs):\n",
    "        super().__init__(**kwargs)\n",
    "        self.layers = nn.ModuleList([\n",
    "            nn.Linear(10, 10) for _ in range (5)\n",
    "        ])\n",
    "        \n",
    "    def forward(self, x):\n",
    "        out = x\n",
    "        for i in range(len(self.layers)):\n",
    "            layer = self.layers[i]\n",
    "            out = layer(x=out)[0]\n",
    "        return out\n",
    "    \n",
    "dummy_x = torch.randn(2, 10)\n",
    "model = SyMLP(inputs={'x': dummy_x})"
   ]
  },
  {
   "cell_type": "code",
   "execution_count": 4,
   "id": "0a12685b",
   "metadata": {},
   "outputs": [
    {
     "name": "stdout",
     "output_type": "stream",
     "text": [
      "Linear(in_features=1, out_features=2, bias=True)\n",
      "Linear(in_features=1, out_features=2, bias=True)\n",
      "<syft.proxy.torch.nn.ModulePointer object at 0x7f7bf151beb0>\n",
      "<syft.proxy.syft.lib.misc.union.FloatIntStringTensorParameterUnionPointer object at 0x7f7beef96ee0>\n"
     ]
    }
   ],
   "source": [
    "\"\"\"\n",
    "in allowlist.py\n",
    "\n",
    "allowlist[\"torch.nn.ModuleList.__iter__\"] = \"syft.lib.python.Iterator\"\n",
    "allowlist[\"torch.nn.ModuleList.__len__\"] = \"syft.lib.python.Int\"\n",
    "allowlist[\"torch.nn.ModuleList.__getitem__\"] = \"torch.nn.Module\"\n",
    "\"\"\"\n",
    "\n",
    "model = nn.ModuleList([nn.Linear(10, 10) for _ in range(2)])\n",
    "model_ptr = model.send(alice_client)\n",
    "\n",
    ">>> print(model_ptr[0]) # Works\n",
    "<syft.proxy.torch.nn.ModulePointer object at 0x7f7bf151beb0>\n",
    "\n",
    ">>> print(next(iter(model_ptr))) # Needs to be ModulePointer\n",
    "<syft.proxy.syft.lib.misc.union.FloatIntStringTensorParameterUnionPointer object at 0x7f7beef96ee0>"
   ]
  },
  {
   "cell_type": "code",
   "execution_count": 7,
   "id": "c002f6b7",
   "metadata": {},
   "outputs": [
    {
     "data": {
      "text/plain": [
       "int"
      ]
     },
     "execution_count": 7,
     "metadata": {},
     "output_type": "execute_result"
    }
   ],
   "source": [
    "type(len(m))"
   ]
  },
  {
   "cell_type": "code",
   "execution_count": null,
   "id": "03587c31",
   "metadata": {},
   "outputs": [],
   "source": []
  }
 ],
 "metadata": {
  "kernelspec": {
   "display_name": "Python 3",
   "language": "python",
   "name": "python3"
  },
  "language_info": {
   "codemirror_mode": {
    "name": "ipython",
    "version": 3
   },
   "file_extension": ".py",
   "mimetype": "text/x-python",
   "name": "python",
   "nbconvert_exporter": "python",
   "pygments_lexer": "ipython3",
   "version": "3.9.5"
  },
  "toc": {
   "base_numbering": 1,
   "nav_menu": {},
   "number_sections": true,
   "sideBar": true,
   "skip_h1_title": false,
   "title_cell": "Table of Contents",
   "title_sidebar": "Contents",
   "toc_cell": false,
   "toc_position": {},
   "toc_section_display": true,
   "toc_window_display": false
  }
 },
 "nbformat": 4,
 "nbformat_minor": 5
}

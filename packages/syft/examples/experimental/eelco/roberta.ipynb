{
 "cells": [
  {
   "cell_type": "code",
   "execution_count": 1,
   "id": "57dd8449",
   "metadata": {},
   "outputs": [],
   "source": [
    "import syft as sy\n",
    "import transformers\n",
    "import torch\n",
    "import datasets\n",
    "\n",
    "from syft.core.plan.plan_builder import make_plan, ROOT_CLIENT"
   ]
  },
  {
   "cell_type": "code",
   "execution_count": 2,
   "id": "abfb1827",
   "metadata": {},
   "outputs": [],
   "source": [
    "model_name = sy.lib.python.String(\"cardiffnlp/twitter-xlm-roberta-base-sentiment\")"
   ]
  },
  {
   "cell_type": "code",
   "execution_count": 3,
   "id": "85701d04",
   "metadata": {},
   "outputs": [],
   "source": [
    "# Create client\n",
    "alice = sy.VirtualMachine(name=\"alice\")\n",
    "alice_client = alice.get_client()\n",
    "remote_torch = ROOT_CLIENT.torch\n",
    "\n",
    "batch_size = 5"
   ]
  },
  {
   "cell_type": "code",
   "execution_count": 4,
   "id": "51bf1ed2",
   "metadata": {
    "scrolled": true
   },
   "outputs": [
    {
     "name": "stderr",
     "output_type": "stream",
     "text": [
      "Reusing dataset imdb (/home/eelco/.cache/huggingface/datasets/imdb/plain_text/1.0.0/4ea52f2e58a08dbc12c2bd52d0d92b30b88c00230b4522801b3636782f625c5b)\n"
     ]
    }
   ],
   "source": [
    "train_set = datasets.load_dataset('imdb', split='train')\n",
    "train_loader = torch.utils.data.DataLoader(train_set, batch_size=batch_size, shuffle=True)"
   ]
  },
  {
   "cell_type": "code",
   "execution_count": 7,
   "id": "b39258e3",
   "metadata": {},
   "outputs": [
    {
     "name": "stderr",
     "output_type": "stream",
     "text": [
      "[2021-06-18T14:39:19.296777+0200][CRITICAL][logger]][15826] __getattribute__ failed. If you are trying to access an EnumAttribute or a StaticAttribute, be sure they have been added to the AST. Falling back on__getattr__ to search in self.attrs for the requested field.\n",
      "[2021-06-18T14:39:19.297382+0200][CRITICAL][logger]][15826] 'Class' object has no attribute 'from_pretrained'\n",
      "[2021-06-18T14:39:24.118159+0200][CRITICAL][logger]][15826] __getattribute__ failed. If you are trying to access an EnumAttribute or a StaticAttribute, be sure they have been added to the AST. Falling back on__getattr__ to search in self.attrs for the requested field.\n",
      "[2021-06-18T14:39:24.119351+0200][CRITICAL][logger]][15826] 'Class' object has no attribute 'from_pretrained'\n"
     ]
    }
   ],
   "source": [
    "# Local\n",
    "full_model = transformers.AutoModelForSequenceClassification.from_pretrained(model_name)\n",
    "classifier = full_model.classifier\n",
    "\n",
    "dummy_batches = sy.lib.python.List([next(iter(train_loader))])\n",
    "\n",
    "@make_plan\n",
    "def train(classifier=classifier, batches=dummy_batches, base_model_name=model_name):\n",
    "    \"\"\"\n",
    "    Train classifier on batches, and return updated classifier\n",
    "    \"\"\"\n",
    "\n",
    "    roberta_ptr = ROOT_CLIENT.transformers.models.xlm_roberta.modeling_xlm_roberta.XLMRobertaModel.from_pretrained(base_model_name, add_pooling_layer=False)\n",
    "    tokenizer_ptr = ROOT_CLIENT.transformers.models.xlm_roberta.tokenization_xlm_roberta_fast.XLMRobertaTokenizerFast.from_pretrained(base_model_name)\n",
    "    opt = remote_torch.optim.AdamW(classifier.parameters(), lr=1e-3)\n",
    "    \n",
    "    for batch in batches:\n",
    "        classifier.train()\n",
    "        opt.zero_grad()\n",
    "        \n",
    "        # Prepare data\n",
    "        batch_x = tokenizer_ptr(batch['text'], padding=True, return_tensors='pt', truncation=True, max_length=512)\n",
    "        batch_y = batch['label']\n",
    "        \n",
    "        # Remote roberta\n",
    "        with remote_torch.no_grad():\n",
    "            roberta_ptr.eval()\n",
    "            out = roberta_ptr(batch_x[\"input_ids\"], batch_x[\"attention_mask\"], return_dict=False)\n",
    "            hidden_state = out[0]\n",
    "            \n",
    "        # classifier forward + backward\n",
    "        out = classifier(features=hidden_state)\n",
    "        loss = remote_torch.nn.functional.cross_entropy(out, batch_y)\n",
    "        loss.backward()\n",
    "        opt.step()\n",
    "    return [classifier]"
   ]
  },
  {
   "cell_type": "code",
   "execution_count": 8,
   "id": "1653240f",
   "metadata": {},
   "outputs": [],
   "source": [
    "dummy_batches = sy.lib.python.List([next(iter(train_loader))])\n",
    "train_ptr = train.send(alice_client)\n",
    "out_ptr = train_ptr(classifier=classifier, batches=dummy_batches, base_model_name=model_name)"
   ]
  },
  {
   "cell_type": "code",
   "execution_count": 9,
   "id": "6ebb0c7b",
   "metadata": {},
   "outputs": [
    {
     "data": {
      "text/plain": [
       "RobertaClassificationHead(\n",
       "  (dense): Linear(in_features=768, out_features=768, bias=True)\n",
       "  (dropout): Dropout(p=0.1, inplace=False)\n",
       "  (out_proj): Linear(in_features=768, out_features=3, bias=True)\n",
       ")"
      ]
     },
     "execution_count": 9,
     "metadata": {},
     "output_type": "execute_result"
    }
   ],
   "source": [
    "out_ptr[0].get()"
   ]
  }
 ],
 "metadata": {
  "kernelspec": {
   "display_name": "Python 3",
   "language": "python",
   "name": "python3"
  },
  "language_info": {
   "codemirror_mode": {
    "name": "ipython",
    "version": 3
   },
   "file_extension": ".py",
   "mimetype": "text/x-python",
   "name": "python",
   "nbconvert_exporter": "python",
   "pygments_lexer": "ipython3",
   "version": "3.9.5"
  },
  "toc": {
   "base_numbering": 1,
   "nav_menu": {},
   "number_sections": true,
   "sideBar": true,
   "skip_h1_title": false,
   "title_cell": "Table of Contents",
   "title_sidebar": "Contents",
   "toc_cell": false,
   "toc_position": {},
   "toc_section_display": true,
   "toc_window_display": false
  }
 },
 "nbformat": 4,
 "nbformat_minor": 5
}

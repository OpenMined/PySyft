{
 "cells": [
  {
   "cell_type": "code",
   "execution_count": null,
   "metadata": {},
   "outputs": [],
   "source": [
    "import syft as sy\n",
    "\n",
    "duet = sy.join_duet(loopback=True)"
   ]
  },
  {
   "cell_type": "markdown",
   "metadata": {},
   "source": [
    "### <img src=\"https://github.com/OpenMined/design-assets/raw/master/logos/OM/mark-primary-light.png\" alt=\"he-black-box\" width=\"100\"/> Checkpoint 0 : Now STOP and run the Data Owner notebook until the next checkpoint."
   ]
  },
  {
   "cell_type": "code",
   "execution_count": null,
   "metadata": {},
   "outputs": [],
   "source": [
    "# https://github.com/OpenMined/PyDP/blob/dev/examples/Tutorial_1-carrots_demo/carrots_demo.ipynb"
   ]
  },
  {
   "cell_type": "code",
   "execution_count": null,
   "metadata": {},
   "outputs": [],
   "source": [
    "# we will not explicitly call pydp.xxx, instead we will call duet.pydp.xxx, which is calling pydp.xxx on the DO side, so it's not neccessary import pydb\n",
    "# import pydp"
   ]
  },
  {
   "cell_type": "code",
   "execution_count": null,
   "metadata": {},
   "outputs": [],
   "source": [
    "duet.store.pandas"
   ]
  },
  {
   "cell_type": "code",
   "execution_count": null,
   "metadata": {
    "scrolled": false
   },
   "outputs": [],
   "source": [
    "# this will allow us to use pydp like duet.pydp.xxx\n",
    "# Note: load required for sy.__version__ <= 0.5.0\n",
    "import pydp\n",
    "# sy.load(\"pydp\")"
   ]
  },
  {
   "cell_type": "code",
   "execution_count": null,
   "metadata": {},
   "outputs": [],
   "source": [
    "BoundedMean = duet.pydp.algorithms.laplacian.BoundedMean"
   ]
  },
  {
   "cell_type": "code",
   "execution_count": null,
   "metadata": {},
   "outputs": [],
   "source": [
    "carrots_eaten_ptr = duet.store[\"carrots_eaten\"]\n",
    "# calculates mean applying differential privacy\n",
    "def private_mean(privacy_budget: float) -> float:\n",
    "    x_ptr = BoundedMean(epsilon=privacy_budget, lower_bound=1, upper_bound=100, dtype=\"float\")\n",
    "    return x_ptr.quick_result(carrots_eaten_ptr).get(\n",
    "        request_block=True,\n",
    "        reason=\"To get the private_mean\",\n",
    "        timeout_secs=10,\n",
    "    )"
   ]
  },
  {
   "cell_type": "code",
   "execution_count": null,
   "metadata": {},
   "outputs": [],
   "source": [
    "prv_mean = private_mean(0.8)\n",
    "print(\"Private Mean: \", prv_mean)"
   ]
  },
  {
   "cell_type": "code",
   "execution_count": null,
   "metadata": {},
   "outputs": [],
   "source": [
    "assert prv_mean > 40 and prv_mean < 60"
   ]
  },
  {
   "cell_type": "code",
   "execution_count": null,
   "metadata": {},
   "outputs": [],
   "source": [
    "Count = duet.pydp.algorithms.laplacian.Count"
   ]
  },
  {
   "cell_type": "code",
   "execution_count": null,
   "metadata": {},
   "outputs": [],
   "source": [
    "carrots_eaten_limit_ptr = duet.store[\"carrots_eaten_limit\"]\n",
    "\n",
    "# Calculates number of animals who ate more than \"limit\" carrots applying differential privacy.\n",
    "def private_count_above(privacy_budget: float) -> int:\n",
    "    x = Count(epsilon=privacy_budget, dtype=\"int\")\n",
    "    return x.quick_result(carrots_eaten_limit_ptr).get(\n",
    "        request_block=True,\n",
    "        reason=\"To get the private_count_above\",\n",
    "        timeout_secs=10,\n",
    "    )"
   ]
  },
  {
   "cell_type": "code",
   "execution_count": null,
   "metadata": {},
   "outputs": [],
   "source": [
    "prv_count_above = private_count_above(1)\n",
    "print(\"private count above:\\t\" + str(prv_count_above))"
   ]
  },
  {
   "cell_type": "code",
   "execution_count": null,
   "metadata": {},
   "outputs": [],
   "source": [
    "assert prv_count_above > 60"
   ]
  },
  {
   "cell_type": "code",
   "execution_count": null,
   "metadata": {},
   "outputs": [],
   "source": [
    "Max = duet.pydp.algorithms.laplacian.Max"
   ]
  },
  {
   "cell_type": "code",
   "execution_count": null,
   "metadata": {},
   "outputs": [],
   "source": [
    "# Function to return the maximum of the number of carrots eaten by any one animal appyling differential privacy.\n",
    "def private_max(privacy_budget: float) -> int:\n",
    "    # 0 and 100 are the upper and lower limits for the search bound.\n",
    "    x = Max(epsilon=privacy_budget, lower_bound=0, upper_bound=100, dtype=\"int\")\n",
    "    return x.quick_result(carrots_eaten_ptr).get(\n",
    "        request_block=True,\n",
    "        reason=\"To get the private_max\",\n",
    "        timeout_secs=10,\n",
    "    )"
   ]
  },
  {
   "cell_type": "code",
   "execution_count": null,
   "metadata": {},
   "outputs": [],
   "source": [
    "prv_max = private_max(1)\n",
    "print(\"private max:\\t\" + str(prv_max))"
   ]
  },
  {
   "cell_type": "code",
   "execution_count": null,
   "metadata": {},
   "outputs": [],
   "source": [
    "assert prv_max < 100"
   ]
  },
  {
   "cell_type": "code",
   "execution_count": null,
   "metadata": {},
   "outputs": [],
   "source": [
    "BoundedSum = duet.pydp.algorithms.laplacian.BoundedSum"
   ]
  },
  {
   "cell_type": "code",
   "execution_count": null,
   "metadata": {},
   "outputs": [],
   "source": [
    "# Function to calculate sum of carrots eaten applying differential privacy.\n",
    "def private_sum(privacy_budget: float) -> int:\n",
    "    x = BoundedSum(epsilon=privacy_budget, lower_bound=1, upper_bound=100, dtype=\"float\")\n",
    "    return x.quick_result(carrots_eaten_ptr).get(\n",
    "        request_block=True,\n",
    "        reason=\"To get the private_count_above\",\n",
    "        timeout_secs=10,\n",
    "    )"
   ]
  },
  {
   "cell_type": "code",
   "execution_count": null,
   "metadata": {},
   "outputs": [],
   "source": [
    "prv_sum = private_sum(1)\n",
    "print(\"Private Sum:\\t\" + str(prv_sum))"
   ]
  },
  {
   "cell_type": "code",
   "execution_count": null,
   "metadata": {},
   "outputs": [],
   "source": [
    "assert prv_sum > 9000 and prv_sum < 11000"
   ]
  },
  {
   "cell_type": "code",
   "execution_count": null,
   "metadata": {},
   "outputs": [],
   "source": []
  }
 ],
 "metadata": {
  "kernelspec": {
   "display_name": "Python 3",
   "language": "python",
   "name": "python3"
  },
  "language_info": {
   "codemirror_mode": {
    "name": "ipython",
    "version": 3
   },
   "file_extension": ".py",
   "mimetype": "text/x-python",
   "name": "python",
   "nbconvert_exporter": "python",
   "pygments_lexer": "ipython3",
   "version": "3.8.6"
  }
 },
 "nbformat": 4,
 "nbformat_minor": 4
}

{
 "cells": [
  {
   "cell_type": "code",
   "execution_count": null,
   "id": "unsigned-palace",
   "metadata": {},
   "outputs": [],
   "source": [
    "import syft as sy"
   ]
  },
  {
   "cell_type": "markdown",
   "id": "korean-bunch",
   "metadata": {},
   "source": [
    "# Part 1: Launch a Duet Server"
   ]
  },
  {
   "cell_type": "code",
   "execution_count": null,
   "id": "plastic-ridge",
   "metadata": {
    "scrolled": true
   },
   "outputs": [],
   "source": [
    "duet = sy.launch_duet(loopback=True)"
   ]
  },
  {
   "cell_type": "markdown",
   "id": "wrapped-eligibility",
   "metadata": {},
   "source": [
    "# Part 2: Upload data to Duet Server"
   ]
  },
  {
   "cell_type": "code",
   "execution_count": null,
   "id": "understood-aging",
   "metadata": {},
   "outputs": [],
   "source": [
    "from sklearn import datasets\n",
    "import torch as th"
   ]
  },
  {
   "cell_type": "code",
   "execution_count": null,
   "id": "employed-momentum",
   "metadata": {},
   "outputs": [],
   "source": [
    "iris = datasets.load_iris()\n",
    "X, y = iris.data, iris.target\n",
    "\n",
    "print(X[0:5])"
   ]
  },
  {
   "cell_type": "markdown",
   "id": "grand-differential",
   "metadata": {},
   "source": [
    "Flower species mappings:\n",
    "1. \"Iris-setosa\": 0,\n",
    "2. \"Iris-versicolor\": 1,\n",
    "3. \"Iris-virginica\": 2"
   ]
  },
  {
   "cell_type": "code",
   "execution_count": null,
   "id": "theoretical-ownership",
   "metadata": {},
   "outputs": [],
   "source": [
    "print(y)"
   ]
  },
  {
   "cell_type": "code",
   "execution_count": null,
   "id": "occasional-secretary",
   "metadata": {},
   "outputs": [],
   "source": [
    "print(\"Length of dataset:\", len(X))"
   ]
  },
  {
   "cell_type": "code",
   "execution_count": null,
   "id": "numerical-carry",
   "metadata": {},
   "outputs": [],
   "source": [
    "print(type(X))"
   ]
  },
  {
   "cell_type": "code",
   "execution_count": null,
   "id": "direct-sussex",
   "metadata": {},
   "outputs": [],
   "source": [
    "X = th.FloatTensor(X)\n",
    "y = th.FloatTensor(y)"
   ]
  },
  {
   "cell_type": "code",
   "execution_count": null,
   "id": "flexible-canyon",
   "metadata": {},
   "outputs": [],
   "source": [
    "print(type(X))"
   ]
  },
  {
   "cell_type": "code",
   "execution_count": null,
   "id": "assured-clinton",
   "metadata": {},
   "outputs": [],
   "source": [
    "X = X.tag(\"iris-data\")\n",
    "y = y.tag(\"iris-target\")\n",
    "\n",
    "X = X.describe(\n",
    "    \"This is a dataset for flower classification of 150 samples. 4 Features are sepal length (cm), sepal width (cm),\"\n",
    "    \"petal length (cm), petal width (cm)\"\n",
    ")\n",
    "y = y.describe(\"Labels for flowers: Iris-setosa, Iris-versicolour, Iris-virginica\")"
   ]
  },
  {
   "cell_type": "code",
   "execution_count": null,
   "id": "floating-kingston",
   "metadata": {},
   "outputs": [],
   "source": [
    "data_pointer = X.send(duet, pointable=True)\n",
    "target_pointer = y.send(duet, pointable=True)"
   ]
  },
  {
   "cell_type": "code",
   "execution_count": null,
   "id": "italic-zoning",
   "metadata": {},
   "outputs": [],
   "source": [
    "# Once uploaded, the data owner can see the object stored in the tensor\n",
    "duet.store"
   ]
  },
  {
   "cell_type": "code",
   "execution_count": null,
   "id": "dynamic-harrison",
   "metadata": {},
   "outputs": [],
   "source": [
    "# To see it in a human-readable format, data owner can also pretty-print the tensor information\n",
    "duet.store.pandas"
   ]
  },
  {
   "cell_type": "markdown",
   "id": "extreme-specific",
   "metadata": {},
   "source": [
    "# Part 3: Response to requests coming from Data Scientist"
   ]
  },
  {
   "cell_type": "code",
   "execution_count": null,
   "id": "operational-exercise",
   "metadata": {},
   "outputs": [],
   "source": [
    "duet.requests.add_handler(action=\"accept\")"
   ]
  },
  {
   "cell_type": "markdown",
   "id": "incident-intervention",
   "metadata": {},
   "source": [
    "### <img src=\"https://github.com/OpenMined/design-assets/raw/master/logos/OM/mark-primary-light.png\" alt=\"he-black-box\" width=\"100\"/> Checkpoint 1 : Well done!"
   ]
  }
 ],
 "metadata": {
  "kernelspec": {
   "display_name": "Python 3",
   "language": "python",
   "name": "python3"
  },
  "language_info": {
   "codemirror_mode": {
    "name": "ipython",
    "version": 3
   },
   "file_extension": ".py",
   "mimetype": "text/x-python",
   "name": "python",
   "nbconvert_exporter": "python",
   "pygments_lexer": "ipython3",
   "version": "3.9.2"
  }
 },
 "nbformat": 4,
 "nbformat_minor": 5
}

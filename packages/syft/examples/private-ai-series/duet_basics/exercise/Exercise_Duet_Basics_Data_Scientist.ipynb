{
 "cells": [
  {
   "cell_type": "code",
   "execution_count": null,
   "id": "fabulous-carolina",
   "metadata": {},
   "outputs": [],
   "source": [
    "import syft as sy"
   ]
  },
  {
   "cell_type": "markdown",
   "id": "packed-harbor",
   "metadata": {},
   "source": [
    "# Part 1: Join the Duet Server the Data Owner connected to\n"
   ]
  },
  {
   "cell_type": "code",
   "execution_count": null,
   "id": "short-demand",
   "metadata": {
    "scrolled": true
   },
   "outputs": [],
   "source": [
    "duet = sy.join_duet(loopback=True)"
   ]
  },
  {
   "cell_type": "markdown",
   "id": "searching-polish",
   "metadata": {},
   "source": [
    "### <img src=\"https://github.com/OpenMined/design-assets/raw/master/logos/OM/mark-primary-light.png\" alt=\"he-black-box\" width=\"100\"/> Checkpoint 0 : Now STOP and run the Data Owner notebook until Checkpoint 1."
   ]
  },
  {
   "cell_type": "markdown",
   "id": "saved-barcelona",
   "metadata": {},
   "source": [
    "# Part 2: Search for Available Data\n"
   ]
  },
  {
   "cell_type": "code",
   "execution_count": null,
   "id": "fluid-inclusion",
   "metadata": {},
   "outputs": [],
   "source": [
    "# The data scientist can check the list of searchable data in Data Owner's duet store\n",
    "duet.store.pandas"
   ]
  },
  {
   "cell_type": "code",
   "execution_count": null,
   "id": "korean-colonial",
   "metadata": {},
   "outputs": [],
   "source": [
    "# Data Scientist finds that there are Heights and Weights of a group of people. There are some analysis he/she can do with them together.\n",
    "\n",
    "heights_ptr = duet.store[0]\n",
    "weights_ptr = duet.store[1]\n",
    "\n",
    "# heights_ptr is a reference to the height dataset remotely available on data owner's server\n",
    "print(heights_ptr)\n",
    "\n",
    "# weights_ptr is a reference to the weight dataset remotely available on data owner's server\n",
    "print(weights_ptr)"
   ]
  },
  {
   "cell_type": "markdown",
   "id": "committed-forestry",
   "metadata": {},
   "source": [
    "## Calculate BMI (Body Mass Index) and weight status\n",
    "\n",
    "Using the heights and weights pointers of the people of Group A, calculate their BMI and get a pointer to their individual BMI. From the BMI pointers, you can check if a person is normal-weight, overweight or obese, without knowing their actual heights and weights and even BMI values.\n",
    "\n",
    "    BMI from 19 to 24 - Normal \n",
    "    BMI from 25 to 29 - Overweight\n",
    "    BMI from 30 to 39 - Obese\n",
    "\n",
    "    BMI = [weight (kg) / (height (cm)^2)] x 10,000\n",
    "    Hint: run duet.torch and find the required operators"
   ]
  },
  {
   "cell_type": "markdown",
   "id": "fiscal-camel",
   "metadata": {},
   "source": [
    "One amazing thing about pointers is that from a pointer to a list of items, we can get the pointers to each item in the list. As example, here we have weights_ptr pointing to the weight-list, but from that we can also get the pointer to each weight and perform computation on each of them without even the knowing the value! Below code will show you how to access the pointers to each weight and height from the list pointer."
   ]
  },
  {
   "cell_type": "code",
   "execution_count": null,
   "id": "south-parallel",
   "metadata": {
    "scrolled": true
   },
   "outputs": [],
   "source": [
    "for i in range(6):\n",
    "    print(\"Pointer to Weight of person\", i + 1, weights_ptr[i])\n",
    "    print(\"Pointer to Height of person\", i + 1, heights_ptr[i])"
   ]
  },
  {
   "cell_type": "code",
   "execution_count": null,
   "id": "junior-manitoba",
   "metadata": {},
   "outputs": [],
   "source": [
    "def BMI_calculator(w_ptr, h_ptr):\n",
    "    \n",
    "    bmi_ptr = 0\n",
    "\n",
    "    ##TODO\n",
    "\n",
    "    \"Write your code here for calculating bmi_ptr\"\n",
    "\n",
    "    ###\n",
    "\n",
    "    return bmi_ptr\n",
    "\n",
    "\n",
    "def weight_status(w_ptr, h_ptr):\n",
    "\n",
    "    status = None\n",
    "\n",
    "    bmi_ptr = BMI_calculator(w_ptr, h_ptr)\n",
    "\n",
    "    ##TODO\n",
    "\n",
    "    \"\"\"Write your code here. \n",
    "    Possible values for status: \n",
    "    Normal, \n",
    "    Overweight, \n",
    "    Obese, \n",
    "    Out of range\n",
    "    \"\"\"\"\"\n",
    "\n",
    "    ###\n",
    "    \n",
    "    return status"
   ]
  },
  {
   "cell_type": "code",
   "execution_count": null,
   "id": "geological-religious",
   "metadata": {},
   "outputs": [],
   "source": [
    "for i in range(0, 6):\n",
    "    bmi_ptr = BMI_calculator(weights_ptr[i], heights_ptr[i])"
   ]
  },
  {
   "cell_type": "code",
   "execution_count": null,
   "id": "martial-concept",
   "metadata": {
    "scrolled": true
   },
   "outputs": [],
   "source": [
    "statuses = []\n",
    "for i in range(0, 6):\n",
    "    status = weight_status(weights_ptr[i], heights_ptr[i])\n",
    "    print(\"Weight of Person\", i + 1, \"is\", status)\n",
    "    statuses.append(status)"
   ]
  },
  {
   "cell_type": "code",
   "execution_count": null,
   "id": "czech-eight",
   "metadata": {},
   "outputs": [],
   "source": []
  }
 ],
 "metadata": {
  "kernelspec": {
   "display_name": "Python 3",
   "language": "python",
   "name": "python3"
  },
  "language_info": {
   "codemirror_mode": {
    "name": "ipython",
    "version": 3
   },
   "file_extension": ".py",
   "mimetype": "text/x-python",
   "name": "python",
   "nbconvert_exporter": "python",
   "pygments_lexer": "ipython3",
   "version": "3.7.9"
  }
 },
 "nbformat": 4,
 "nbformat_minor": 5
}

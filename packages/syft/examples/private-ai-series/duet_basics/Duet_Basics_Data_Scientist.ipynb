{
 "cells": [
  {
   "cell_type": "code",
   "execution_count": null,
   "id": "unexpected-motor",
   "metadata": {},
   "outputs": [],
   "source": [
    "import syft as sy"
   ]
  },
  {
   "cell_type": "markdown",
   "id": "included-evidence",
   "metadata": {},
   "source": [
    "# Part 1: Join the Duet Server the Data Owner connected to"
   ]
  },
  {
   "cell_type": "code",
   "execution_count": null,
   "id": "retired-profession",
   "metadata": {
    "scrolled": true
   },
   "outputs": [],
   "source": [
    "duet = sy.join_duet(loopback=True)"
   ]
  },
  {
   "cell_type": "markdown",
   "id": "strong-burner",
   "metadata": {},
   "source": [
    "### <img src=\"https://github.com/OpenMined/design-assets/raw/master/logos/OM/mark-primary-light.png\" alt=\"he-black-box\" width=\"100\"/> Checkpoint 0 : Now STOP and run the Data Owner notebook until Checkpoint 1."
   ]
  },
  {
   "cell_type": "markdown",
   "id": "worthy-server",
   "metadata": {},
   "source": [
    "# Part 2: Search for Available Data"
   ]
  },
  {
   "cell_type": "code",
   "execution_count": null,
   "id": "aquatic-teens",
   "metadata": {},
   "outputs": [],
   "source": [
    "# The data scientist can check the list of pointable data in Data Owner's duet store\n",
    "duet.store.pandas"
   ]
  },
  {
   "cell_type": "code",
   "execution_count": null,
   "id": "paperback-priest",
   "metadata": {},
   "outputs": [],
   "source": [
    "# Data Scientist likes the age data. (S)He needs a pointer to it.\n",
    "\n",
    "data_ptr = duet.store[0]\n",
    "\n",
    "# data_ptr is a reference to the age dataset remotely available on data owner's server\n",
    "print(data_ptr)"
   ]
  },
  {
   "cell_type": "markdown",
   "id": "prostate-contamination",
   "metadata": {},
   "source": [
    "# Part 3: Perform some basic analysis on the data\n",
    "Now the data scientist can perform analysis on the data that is in the Data Owner's duet server, without the owner having to share his/her data."
   ]
  },
  {
   "cell_type": "markdown",
   "id": "dimensional-missile",
   "metadata": {},
   "source": [
    "### Get average age"
   ]
  },
  {
   "cell_type": "code",
   "execution_count": null,
   "id": "blocked-jersey",
   "metadata": {},
   "outputs": [],
   "source": [
    "average_age = data_ptr.float().mean()"
   ]
  },
  {
   "cell_type": "code",
   "execution_count": null,
   "id": "weekly-documentation",
   "metadata": {
    "scrolled": true
   },
   "outputs": [],
   "source": [
    "# Now the Data Scientist wants to download the result.\n",
    "\n",
    "try:\n",
    "    average_age.get()\n",
    "except Exception as e:\n",
    "    print(e)"
   ]
  },
  {
   "cell_type": "code",
   "execution_count": null,
   "id": "mature-reaction",
   "metadata": {},
   "outputs": [],
   "source": [
    "# Looks like the Data Scientist does not have permission to download this result! He/she needs\n",
    "# to make a request to the Data Owner.\n",
    "\n",
    "average_age.request(reason=\"Please approve!\")"
   ]
  },
  {
   "cell_type": "markdown",
   "id": "caroline-cologne",
   "metadata": {},
   "source": [
    "### <img src=\"https://github.com/OpenMined/design-assets/raw/master/logos/OM/mark-primary-light.png\" alt=\"he-black-box\" width=\"100\"/> Checkpoint 1 : Now STOP and run the Data Owner notebook until Checkpoint 2."
   ]
  },
  {
   "cell_type": "code",
   "execution_count": null,
   "id": "whole-montreal",
   "metadata": {
    "scrolled": true
   },
   "outputs": [],
   "source": [
    "try:\n",
    "    average_age.get()\n",
    "except Exception as e:\n",
    "    print(e)"
   ]
  },
  {
   "cell_type": "code",
   "execution_count": null,
   "id": "flush-assessment",
   "metadata": {},
   "outputs": [],
   "source": [
    "duet.requests.pandas"
   ]
  },
  {
   "cell_type": "code",
   "execution_count": null,
   "id": "clean-opposition",
   "metadata": {},
   "outputs": [],
   "source": [
    "average_age.request(\n",
    "    reason=\"I am data scientist and I need to know the average age for my analysis.\"\n",
    ")"
   ]
  },
  {
   "cell_type": "code",
   "execution_count": null,
   "id": "impaired-premiere",
   "metadata": {},
   "outputs": [],
   "source": [
    "duet.requests.pandas"
   ]
  },
  {
   "cell_type": "markdown",
   "id": "practical-yacht",
   "metadata": {},
   "source": [
    "### <img src=\"https://github.com/OpenMined/design-assets/raw/master/logos/OM/mark-primary-light.png\" alt=\"he-black-box\" width=\"100\"/> Checkpoint 2 : Now STOP and run the Data Owner notebook until the next checkpoint."
   ]
  },
  {
   "cell_type": "code",
   "execution_count": null,
   "id": "arabic-dayton",
   "metadata": {},
   "outputs": [],
   "source": [
    "# Once the request disappears - the data scientist can download the result!\n",
    "avg = average_age.get()\n",
    "assert round(avg.item(), 4) == 46.8333"
   ]
  },
  {
   "cell_type": "markdown",
   "id": "metropolitan-shannon",
   "metadata": {},
   "source": [
    "### Get min and max age"
   ]
  },
  {
   "cell_type": "code",
   "execution_count": null,
   "id": "demonstrated-palmer",
   "metadata": {},
   "outputs": [],
   "source": [
    "duet.torch"
   ]
  },
  {
   "cell_type": "code",
   "execution_count": null,
   "id": "assumed-roberts",
   "metadata": {},
   "outputs": [],
   "source": [
    "max_age = data_ptr.float().amax()\n",
    "min_age = data_ptr.float().amin()"
   ]
  },
  {
   "cell_type": "code",
   "execution_count": null,
   "id": "criminal-copying",
   "metadata": {},
   "outputs": [],
   "source": [
    "max_age_result = max_age.get(\n",
    "    request_block=True,\n",
    "    reason=\"download the maximum age\",\n",
    "    timeout_secs=10,\n",
    ")\n",
    "\n",
    "assert round(max_age_result.item()) == 88\n",
    "max_age_result"
   ]
  },
  {
   "cell_type": "code",
   "execution_count": null,
   "id": "selected-piece",
   "metadata": {},
   "outputs": [],
   "source": [
    "min_age_result = min_age.get(\n",
    "    request_block=True,\n",
    "    reason=\"download the minimum age\",\n",
    "    timeout_secs=10,\n",
    ")\n",
    "\n",
    "assert round(min_age_result.item()) == 22\n",
    "min_age_result"
   ]
  },
  {
   "cell_type": "markdown",
   "id": "incorporated-tower",
   "metadata": {},
   "source": [
    "## Let's cheat!"
   ]
  },
  {
   "cell_type": "code",
   "execution_count": null,
   "id": "realistic-genre",
   "metadata": {
    "scrolled": true
   },
   "outputs": [],
   "source": [
    "age_data = data_ptr.get(request_block=True, delete_obj=False)\n",
    "\n",
    "assert age_data.tolist() == [25, 32, 49, 65, 88, 22]\n",
    "print(age_data)"
   ]
  },
  {
   "cell_type": "markdown",
   "id": "raised-adult",
   "metadata": {},
   "source": [
    "Please note in the later releases there will be verification to the requests made by data scientists so that they cannot be exploited in anyway. In later courses different techniques for making this whole process more robust will be covered. So stay tuned!\n",
    "\n",
    "For this course, it is a great way for you to debug your codes and sanity check!"
   ]
  }
 ],
 "metadata": {
  "kernelspec": {
   "display_name": "Python 3",
   "language": "python",
   "name": "python3"
  },
  "language_info": {
   "codemirror_mode": {
    "name": "ipython",
    "version": 3
   },
   "file_extension": ".py",
   "mimetype": "text/x-python",
   "name": "python",
   "nbconvert_exporter": "python",
   "pygments_lexer": "ipython3",
   "version": "3.6.9"
  }
 },
 "nbformat": 4,
 "nbformat_minor": 5
}

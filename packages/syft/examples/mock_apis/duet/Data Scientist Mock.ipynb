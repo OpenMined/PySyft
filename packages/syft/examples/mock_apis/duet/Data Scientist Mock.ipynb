{
 "cells": [
  {
   "cell_type": "code",
   "execution_count": 2,
   "metadata": {},
   "outputs": [],
   "source": [
    "import syft as sy\n",
    "import torch as th"
   ]
  },
  {
   "cell_type": "markdown",
   "metadata": {},
   "source": [
    "# Step 0: Local data science (pre-Duet Work)\n",
    "do some local data science experiments with local data sets and models \n",
    "\n",
    "- prep and clean small dataset (some kind of processing pipeline => chain of pure functions / transformations usually)\n",
    "- try a few different models classes (CNN vs GBDT)=> for each, a few architectures (# of conv layers and number of filters) => for each a few hyper params (learning rate cycle etc...)\n",
    "- hits plateau\n",
    "\n",
    "Then...\n",
    "\n",
    "- eventually will need more of the same data (i.e. doing medical images on brain scans... need more brain scans with the same target to be avail i.e. patient age) think vertically stacking data\n",
    "- eventually will need additional features (think of this as doing a sql join based on unseen data) (i.e. doing time-series predictions and want to import data on what days were bank holidays) think horizontally expanding data\n",
    "- for better model accuracy or better test set generalization\n",
    "\n",
    "\n",
    "at this point, there is no guarantee such data exists, can be found, or even if it exists it actually helps the current model\n",
    "- preprocessing matters\n",
    "- normalization matters\n",
    "- feature selection / regularization matters\n",
    "\n",
    "\n",
    "Needs duet...\n",
    "\n",
    "available assets at this stage:\n",
    "- model \n",
    "- processig pipeline / functions\n",
    "- local accuracy\n",
    "\n"
   ]
  },
  {
   "cell_type": "code",
   "execution_count": 4,
   "metadata": {},
   "outputs": [
    {
     "name": "stdout",
     "output_type": "stream",
     "text": [
      "Domain with Root Key: b'>\\xffc;\\xb36\\xe4\\xcbG\\x9c)\\xfej\\x0c\\xcc\\xb3\\xa7;A\\xd3;Fr\\x8f\\xfb\\xda\\xa3U3\\xe3F`'\n",
      "🎤  🎸  ♪♪♪ duet started ♫♫♫  🎻  🎹\n",
      "\n",
      "♫♫♫ >\u001b[93m DISCLAIMER\u001b[0m:\u001b[1m Duet is an experimental feature currently \n",
      "♫♫♫ > in alpha. Do not use this to protect real-world data.\n",
      "\u001b[0m♫♫♫ >\n",
      "♫♫♫ > Duet Node ID:aec949bf-93d7-4ccc-9e45-83ecf8f5450d\n",
      "♫♫♫ > URL:http://127.0.0.1:5000/\n",
      "♫♫♫ > Connecting...\n"
     ]
    },
    {
     "name": "stderr",
     "output_type": "stream",
     "text": [
      "127.0.0.1 - - [11/Aug/2020 15:50:52] \"\u001b[37mGET / HTTP/1.1\u001b[0m\" 200 -\n"
     ]
    },
    {
     "name": "stdout",
     "output_type": "stream",
     "text": [
      "♫♫♫ > Connected!\n"
     ]
    }
   ],
   "source": [
    "duet = sy.duet.connect(id='aec949bf-93d7-4ccc-9e45-83ecf8f5450d')"
   ]
  },
  {
   "cell_type": "code",
   "execution_count": null,
   "metadata": {},
   "outputs": [],
   "source": []
  },
  {
   "cell_type": "code",
   "execution_count": 1,
   "metadata": {},
   "outputs": [
    {
     "data": {
      "text/html": [
       "<div>\n",
       "<style scoped>\n",
       "    .dataframe tbody tr th:only-of-type {\n",
       "        vertical-align: middle;\n",
       "    }\n",
       "\n",
       "    .dataframe tbody tr th {\n",
       "        vertical-align: top;\n",
       "    }\n",
       "\n",
       "    .dataframe thead th {\n",
       "        text-align: right;\n",
       "    }\n",
       "</style>\n",
       "<table border=\"1\" class=\"dataframe\">\n",
       "  <thead>\n",
       "    <tr style=\"text-align: right;\">\n",
       "      <th></th>\n",
       "      <th>tensor_id</th>\n",
       "      <th>shape</th>\n",
       "      <th>tags</th>\n",
       "      <th>description</th>\n",
       "    </tr>\n",
       "  </thead>\n",
       "  <tbody>\n",
       "    <tr>\n",
       "      <th>0</th>\n",
       "      <td>159393d00bdde54f0a29defe0be6c7d491697c5a853a3b...</td>\n",
       "      <td>(23, 53, 2)</td>\n",
       "      <td>[data]</td>\n",
       "      <td>A tensor I made for fun</td>\n",
       "    </tr>\n",
       "    <tr>\n",
       "      <th>1</th>\n",
       "      <td>45801c3c6c4652f34e0a098e3797a13bd802a315c0002b...</td>\n",
       "      <td>(23, 53, 2)</td>\n",
       "      <td>[target]</td>\n",
       "      <td>A target I made for fun</td>\n",
       "    </tr>\n",
       "  </tbody>\n",
       "</table>\n",
       "</div>"
      ],
      "text/plain": [
       "                                           tensor_id        shape      tags  \\\n",
       "0  159393d00bdde54f0a29defe0be6c7d491697c5a853a3b...  (23, 53, 2)    [data]   \n",
       "1  45801c3c6c4652f34e0a098e3797a13bd802a315c0002b...  (23, 53, 2)  [target]   \n",
       "\n",
       "               description  \n",
       "0  A tensor I made for fun  \n",
       "1  A target I made for fun  "
      ]
     },
     "execution_count": 1,
     "metadata": {},
     "output_type": "execute_result"
    }
   ],
   "source": [
    "# duet.tensors # displays a pandas dataframe\n",
    "\n",
    "import os\n",
    "from binascii import hexlify\n",
    "\n",
    "def get_key():\n",
    "    key = hexlify(os.urandom(32)).decode()\n",
    "    return key\n",
    "\n",
    "import pandas as pd\n",
    "#ignore this...it's just to support the mock API\n",
    "columns=[\"tensor_id\", \"shape\", \"tags\", \"description\"]\n",
    "data = [[get_key(), (23,53,2), ['data'], \"A tensor I made for fun\"],\n",
    "        [get_key(), (23,53,2), ['target'], \"A target I made for fun\"]\n",
    "       ]\n",
    "domain_keys = pd.DataFrame(columns=columns, data=data)\n",
    "domain_keys"
   ]
  },
  {
   "cell_type": "code",
   "execution_count": 7,
   "metadata": {},
   "outputs": [
    {
     "name": "stdout",
     "output_type": "stream",
     "text": [
      "Description: A tensor I made for fun \n",
      "Tags: data \n",
      "Shape: 25,53,2 \n",
      "Type: th.FloatTensor\n"
     ]
    }
   ],
   "source": [
    "# # Do standard data understanding steps\n",
    "# data_ptr = duet['159393d00bdde54f0a29defe0be6c7d491697c5a853a3b'] # featch tensor by ID\n",
    "# data_ptr.summary()\n",
    "\n",
    "print(\"Description: A tensor I made for fun \\nTags: data \\nShape: 25,53,2 \\nType: th.FloatTensor\")"
   ]
  },
  {
   "cell_type": "code",
   "execution_count": 8,
   "metadata": {},
   "outputs": [
    {
     "ename": "Exception",
     "evalue": "you just tried to call .get() on a private tensor to which you do not have permission. Please request access.",
     "output_type": "error",
     "traceback": [
      "\u001b[0;31m---------------------------------------------------------------------------\u001b[0m",
      "\u001b[0;31mException\u001b[0m                                 Traceback (most recent call last)",
      "\u001b[0;32m<ipython-input-8-6d5392eaefd6>\u001b[0m in \u001b[0;36m<module>\u001b[0;34m\u001b[0m\n\u001b[1;32m      4\u001b[0m \u001b[0;31m# avg.get()\u001b[0m\u001b[0;34m\u001b[0m\u001b[0;34m\u001b[0m\u001b[0;34m\u001b[0m\u001b[0m\n\u001b[1;32m      5\u001b[0m \u001b[0;34m\u001b[0m\u001b[0m\n\u001b[0;32m----> 6\u001b[0;31m \u001b[0;32mraise\u001b[0m \u001b[0mException\u001b[0m\u001b[0;34m(\u001b[0m\u001b[0;34m\"you just tried to call .get() on a private tensor to which you do not have permission. Please request access.\"\u001b[0m\u001b[0;34m)\u001b[0m\u001b[0;34m\u001b[0m\u001b[0;34m\u001b[0m\u001b[0m\n\u001b[0m",
      "\u001b[0;31mException\u001b[0m: you just tried to call .get() on a private tensor to which you do not have permission. Please request access."
     ]
    }
   ],
   "source": [
    "# avg = data_ptr.average()\n",
    "# median = data_ptr.median()\n",
    "\n",
    "# avg.get()\n",
    "\n",
    "raise Exception(\"you just tried to call .get() on a private tensor to which you do not have permission. Please request access.\")"
   ]
  },
  {
   "cell_type": "code",
   "execution_count": null,
   "metadata": {},
   "outputs": [],
   "source": [
    "avg.request_access(name=\"My Result\", description=\"I calculated a mean and now I'd like to see it.\") # adds avg tensor to the duet's request queue, prints out that this is the first request (iteratively adds more over time)"
   ]
  },
  {
   "cell_type": "code",
   "execution_count": null,
   "metadata": {},
   "outputs": [],
   "source": [
    "duet.request_access(objects=[avg, median],\n",
    "                    name=\"All my results\",\n",
    "                    description=\"I calculated a mean and average and now I'd like to see them.\")"
   ]
  },
  {
   "cell_type": "code",
   "execution_count": 8,
   "metadata": {},
   "outputs": [
    {
     "data": {
      "text/html": [
       "<div>\n",
       "<style scoped>\n",
       "    .dataframe tbody tr th:only-of-type {\n",
       "        vertical-align: middle;\n",
       "    }\n",
       "\n",
       "    .dataframe tbody tr th {\n",
       "        vertical-align: top;\n",
       "    }\n",
       "\n",
       "    .dataframe thead th {\n",
       "        text-align: right;\n",
       "    }\n",
       "</style>\n",
       "<table border=\"1\" class=\"dataframe\">\n",
       "  <thead>\n",
       "    <tr style=\"text-align: right;\">\n",
       "      <th></th>\n",
       "      <th>Status</th>\n",
       "      <th>name</th>\n",
       "      <th>request_id</th>\n",
       "      <th>request_description</th>\n",
       "      <th>tensor_id</th>\n",
       "      <th>tensor_shape</th>\n",
       "      <th>tensor_tags</th>\n",
       "      <th>tensor_description</th>\n",
       "    </tr>\n",
       "  </thead>\n",
       "  <tbody>\n",
       "    <tr>\n",
       "      <th>0</th>\n",
       "      <td>Pending</td>\n",
       "      <td>My Result</td>\n",
       "      <td>941432b15b80da5aa191acbea6cec77cb4a43254a2aaf5...</td>\n",
       "      <td>I calculated a mean and now I'd like to see it.</td>\n",
       "      <td>17fe99a843d2e1b14b0041a6c9bd0c6dd28474be999279...</td>\n",
       "      <td>(25, 32)</td>\n",
       "      <td>None</td>\n",
       "      <td>None</td>\n",
       "    </tr>\n",
       "    <tr>\n",
       "      <th>1</th>\n",
       "      <td>Pending</td>\n",
       "      <td>My Result</td>\n",
       "      <td>adba91a70687cba44dd0b115985eab7cfeaf4c50ec3de9...</td>\n",
       "      <td>I calculated a mean and now I'd like to see it.</td>\n",
       "      <td>dbfa62718f1bd34f174a265596671f9113a9e650c0b795...</td>\n",
       "      <td>(25, 32)</td>\n",
       "      <td>None</td>\n",
       "      <td>None</td>\n",
       "    </tr>\n",
       "  </tbody>\n",
       "</table>\n",
       "</div>"
      ],
      "text/plain": [
       "    Status name                                         request_id  \\\n",
       "0  Pending    My Result  941432b15b80da5aa191acbea6cec77cb4a43254a2aaf5...   \n",
       "1  Pending    My Result  adba91a70687cba44dd0b115985eab7cfeaf4c50ec3de9...   \n",
       "\n",
       "                               request_description  \\\n",
       "0  I calculated a mean and now I'd like to see it.   \n",
       "1  I calculated a mean and now I'd like to see it.   \n",
       "\n",
       "                                           tensor_id tensor_shape tensor_tags  \\\n",
       "0  17fe99a843d2e1b14b0041a6c9bd0c6dd28474be999279...     (25, 32)        None   \n",
       "1  dbfa62718f1bd34f174a265596671f9113a9e650c0b795...     (25, 32)        None   \n",
       "\n",
       "  tensor_description  \n",
       "0               None  \n",
       "1               None  "
      ]
     },
     "execution_count": 8,
     "metadata": {},
     "output_type": "execute_result"
    }
   ],
   "source": [
    "#duet.requests\n",
    "\n",
    "import pandas as pd\n",
    "#ignore this...it's just to support the mock API\n",
    "columns=[\"Status\", \"name\",\"request_id\", \"request_description\", \"tensor_id\", \"tensor_shape\", \"tensor_tags\", \"tensor_description\"]\n",
    "data = [[\"Pending\", \"My Result\", get_key(), \"I calculated a mean and now I'd like to see it.\", get_key(), (25,32), None, None],\n",
    "        [\"Pending\", \"My Result\", get_key(), \"I calculated a mean and now I'd like to see it.\", get_key(), (25,32), None, None],\n",
    "       ]\n",
    "domain_keys = pd.DataFrame(columns=columns, data=data)\n",
    "domain_keys"
   ]
  },
  {
   "cell_type": "code",
   "execution_count": null,
   "metadata": {},
   "outputs": [],
   "source": [
    "# withdraw a reqest\n",
    "\n",
    "duet.requests[1].cancel_request()\n",
    "request = duet['adba91a70687cba44dd0b115985eab7cfeaf4c50ec3de9'].cancel_request()\n",
    "duet.cancel_request('adba91a70687cba44dd0b115985eab7cfeaf4c50ec3de9')"
   ]
  },
  {
   "cell_type": "code",
   "execution_count": null,
   "metadata": {},
   "outputs": [],
   "source": [
    "avg = duet['14e3c825370b3af1be7d5d61fc05cb00393fd3df5b6326'].tensor"
   ]
  },
  {
   "cell_type": "code",
   "execution_count": null,
   "metadata": {},
   "outputs": [],
   "source": [
    "average_value = avg.get() # this will reveal the value of the average "
   ]
  },
  {
   "cell_type": "code",
   "execution_count": null,
   "metadata": {},
   "outputs": [],
   "source": []
  },
  {
   "cell_type": "code",
   "execution_count": null,
   "metadata": {},
   "outputs": [],
   "source": [
    "# Do ML\n",
    "\n",
    "# make a regression model in PyTorch\n",
    "model = ....\n",
    "\n",
    "model.score()"
   ]
  },
  {
   "cell_type": "code",
   "execution_count": null,
   "metadata": {},
   "outputs": [],
   "source": []
  },
  {
   "cell_type": "code",
   "execution_count": null,
   "metadata": {},
   "outputs": [],
   "source": []
  },
  {
   "cell_type": "code",
   "execution_count": 1,
   "metadata": {},
   "outputs": [],
   "source": [
    "import syft as sy\n",
    "import torch as th"
   ]
  },
  {
   "cell_type": "markdown",
   "metadata": {},
   "source": [
    "DUET - DATA OWNER"
   ]
  },
  {
   "cell_type": "code",
   "execution_count": 5,
   "metadata": {},
   "outputs": [],
   "source": [
    "duet_owner = sy.Duet()"
   ]
  },
  {
   "cell_type": "code",
   "execution_count": 6,
   "metadata": {},
   "outputs": [],
   "source": [
    "x = th.tensor([1,2,3,4]).send(duet_owner)"
   ]
  },
  {
   "cell_type": "markdown",
   "metadata": {},
   "source": [
    "DUET - DATA SCIENTIST"
   ]
  },
  {
   "cell_type": "code",
   "execution_count": 7,
   "metadata": {},
   "outputs": [],
   "source": [
    "duet_guest = sy.Duet(domain_url=\"http://localhost:5000\")"
   ]
  },
  {
   "cell_type": "code",
   "execution_count": 8,
   "metadata": {},
   "outputs": [],
   "source": [
    "x_ptr = duet_guest['23igj23iogj2iojowjeiojigoawoeghawig']"
   ]
  },
  {
   "cell_type": "code",
   "execution_count": 9,
   "metadata": {},
   "outputs": [],
   "source": [
    "x_ptr.get() # trigger an error - YOU DON'T HAVE PERMISSION TO SEE THIS!!!"
   ]
  },
  {
   "cell_type": "code",
   "execution_count": 10,
   "metadata": {},
   "outputs": [],
   "source": [
    "y_ptr = x_ptr + x_ptr"
   ]
  },
  {
   "cell_type": "code",
   "execution_count": 13,
   "metadata": {},
   "outputs": [],
   "source": [
    "x_ptr.request_access(name=\"Experiment A Results\", reason=\"I really really really want to see it.\")"
   ]
  },
  {
   "cell_type": "code",
   "execution_count": 15,
   "metadata": {},
   "outputs": [],
   "source": [
    "duet_guests.requests\n",
    "\n",
    "# TABLE: request id, request name, request reason, the object id you're requesting, "
   ]
  },
  {
   "cell_type": "code",
   "execution_count": null,
   "metadata": {},
   "outputs": [],
   "source": [
    "duet_owner.requests['jeliwejlaiegjawilegjawligjaewigj'].withdraw()"
   ]
  },
  {
   "cell_type": "markdown",
   "metadata": {},
   "source": [
    "DUET - DATA OWNER PART 2"
   ]
  },
  {
   "cell_type": "code",
   "execution_count": null,
   "metadata": {},
   "outputs": [],
   "source": [
    "duet_owner.requests\n",
    "\n",
    "# TABLE: request id, request name, request reason, the object id you're requesting, "
   ]
  },
  {
   "cell_type": "code",
   "execution_count": 16,
   "metadata": {},
   "outputs": [],
   "source": [
    "duet_owner.requests['jeliwejlaiegjawilegjawligjaewigj'].accept()\n",
    "duet_owner.requests['jeliwejlaiegjawilegjawligjaewigj'].deny()"
   ]
  },
  {
   "cell_type": "markdown",
   "metadata": {},
   "source": [
    "DUET - DATA SCIENTIST PART 2"
   ]
  },
  {
   "cell_type": "code",
   "execution_count": null,
   "metadata": {},
   "outputs": [],
   "source": [
    "x_ptr.get() # returns an actual tensor to the local machine"
   ]
  }
 ],
 "metadata": {
  "kernelspec": {
   "display_name": "Python 3",
   "language": "python",
   "name": "python3"
  },
  "language_info": {
   "codemirror_mode": {
    "name": "ipython",
    "version": 3
   },
   "file_extension": ".py",
   "mimetype": "text/x-python",
   "name": "python",
   "nbconvert_exporter": "python",
   "pygments_lexer": "ipython3",
   "version": "3.8.3"
  }
 },
 "nbformat": 4,
 "nbformat_minor": 4
}

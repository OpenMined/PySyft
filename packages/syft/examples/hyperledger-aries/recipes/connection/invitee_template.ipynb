{
 "cells": [
  {
   "cell_type": "markdown",
   "id": "39a70811",
   "metadata": {},
   "source": [
    "# ACA-Py & ACC-Py Basic Template\n",
    "\n",
    "## Copy this template into the root folder of your notebook workspace to get started"
   ]
  },
  {
   "cell_type": "markdown",
   "id": "9721c85d",
   "metadata": {},
   "source": [
    "### Imports"
   ]
  },
  {
   "cell_type": "code",
   "execution_count": null,
   "id": "67fe0a0f",
   "metadata": {},
   "outputs": [],
   "source": [
    "from aries_cloudcontroller import AriesAgentController\n",
    "import os\n",
    "from termcolor import colored"
   ]
  },
  {
   "cell_type": "markdown",
   "id": "ba0ba8ae",
   "metadata": {},
   "source": [
    "### Initialise the Agent Controller"
   ]
  },
  {
   "cell_type": "code",
   "execution_count": null,
   "id": "073793f4",
   "metadata": {},
   "outputs": [],
   "source": [
    "api_key = os.getenv(\"ACAPY_ADMIN_API_KEY\")\n",
    "admin_url = os.getenv(\"ADMIN_URL\")\n",
    "\n",
    "print(\n",
    "    f\"Initialising a controller with admin api at {admin_url} and an api key of {api_key}\"\n",
    ")\n",
    "agent_controller = AriesAgentController(admin_url, api_key)"
   ]
  },
  {
   "cell_type": "markdown",
   "id": "30e4e8dd",
   "metadata": {},
   "source": [
    "### Start a Webhook Server"
   ]
  },
  {
   "cell_type": "code",
   "execution_count": null,
   "id": "00c6f0e6",
   "metadata": {},
   "outputs": [],
   "source": [
    "webhook_port = os.getenv(\"WEBHOOK_PORT\")\n",
    "webhook_host = \"0.0.0.0\"\n",
    "\n",
    "agent_controller.init_webhook_server(webhook_host, webhook_port)\n",
    "await agent_controller.listen_webhooks()\n",
    "\n",
    "print(f\"Listening for webhooks from agent at http://{webhook_host}:{webhook_port}\")"
   ]
  },
  {
   "cell_type": "markdown",
   "id": "9d12faa8",
   "metadata": {},
   "source": [
    "## Register Agent Event Listeners\n",
    "\n",
    "You can see some examples within the webhook_listeners recipe. Copy any relevant cells across and customise as needed."
   ]
  },
  {
   "cell_type": "code",
   "execution_count": null,
   "id": "f61b290a",
   "metadata": {},
   "outputs": [],
   "source": [
    "listeners = []\n",
    "\n",
    "# Receive connection messages\n",
    "def connections_handler(payload):\n",
    "    state = payload[\"state\"]\n",
    "    connection_id = payload[\"connection_id\"]\n",
    "    their_role = payload[\"their_role\"]\n",
    "    routing_state = payload[\"routing_state\"]\n",
    "\n",
    "    print(\"----------------------------------------------------------\")\n",
    "    print(\"Connection Webhook Event Received\")\n",
    "    print(\"Connection ID : \", connection_id)\n",
    "    print(\"State : \", state)\n",
    "    print(\"Routing State : \", routing_state)\n",
    "    print(\"Their Role : \", their_role)\n",
    "    print(\"----------------------------------------------------------\")\n",
    "\n",
    "    if state == \"invitation\":\n",
    "        # Your business logic\n",
    "        print(\"invitation\")\n",
    "    elif state == \"request\":\n",
    "        # Your business logic\n",
    "        print(\"request\")\n",
    "\n",
    "    elif state == \"response\":\n",
    "        # Your business logic\n",
    "        print(\"response\")\n",
    "    elif state == \"active\":\n",
    "        # Your business logic\n",
    "        print(\n",
    "            colored(\n",
    "                \"Connection ID: {0} is now active.\".format(connection_id),\n",
    "                \"green\",\n",
    "                attrs=[\"bold\"],\n",
    "            )\n",
    "        )\n",
    "\n",
    "\n",
    "connection_listener = {\"handler\": connections_handler, \"topic\": \"connections\"}\n",
    "\n",
    "listeners.append(connection_listener)\n",
    "\n",
    "agent_controller.register_listeners(listeners)"
   ]
  },
  {
   "cell_type": "markdown",
   "id": "50a2cf67",
   "metadata": {},
   "source": [
    "## Accept Invitation\n",
    "\n",
    "Copy an invitation object from another agent playing the role inviter (see the inviter_template recipe)"
   ]
  },
  {
   "cell_type": "code",
   "execution_count": null,
   "id": "41648c07",
   "metadata": {},
   "outputs": [],
   "source": [
    "invitation = {<some agent invitation>}"
   ]
  },
  {
   "cell_type": "code",
   "execution_count": null,
   "id": "aef3fa82",
   "metadata": {},
   "outputs": [],
   "source": [
    "auto_accept = \"false\"\n",
    "alias = None\n",
    "\n",
    "invite_response = await agent_controller.connections.receive_invitation(\n",
    "    invitation, alias, auto_accept\n",
    ")\n",
    "connection_id = invite_response[\"connection_id\"]"
   ]
  },
  {
   "cell_type": "code",
   "execution_count": null,
   "id": "263b0dfe",
   "metadata": {},
   "outputs": [],
   "source": [
    "# Label for the connection\n",
    "my_label = None\n",
    "# Endpoint you expect to recieve messages at\n",
    "my_endpoint = None\n",
    "\n",
    "accept_response = await agent_controller.connections.accept_invitation(\n",
    "    connection_id, my_label, my_endpoint\n",
    ")"
   ]
  },
  {
   "cell_type": "markdown",
   "id": "2aa6952e",
   "metadata": {},
   "source": [
    "## Send Trust Ping\n",
    "\n",
    "Once connection moves to response state one agent, either inviter or invitee needs to send a trust ping.\n",
    "\n",
    "Note: you may not need to run this cell. It depends one of the agents has the ACAPY_AUTO_PING_CONNECTION=true flag set."
   ]
  },
  {
   "cell_type": "code",
   "execution_count": null,
   "id": "e63ea183",
   "metadata": {},
   "outputs": [],
   "source": [
    "comment = \"Some Optional Comment\"\n",
    "message = await agent_controller.messaging.trust_ping(connection_id, comment)"
   ]
  },
  {
   "cell_type": "markdown",
   "id": "281d9b39",
   "metadata": {},
   "source": [
    "## Your Own Business Logic\n",
    "\n",
    "Now you should have an established, active connection you can write any custom logic you want to engage with protocols with the connection"
   ]
  },
  {
   "cell_type": "code",
   "execution_count": null,
   "id": "4ba61a36",
   "metadata": {},
   "outputs": [],
   "source": [
    "## Custom Logic"
   ]
  },
  {
   "cell_type": "code",
   "execution_count": null,
   "id": "550dd37d",
   "metadata": {},
   "outputs": [],
   "source": []
  },
  {
   "cell_type": "code",
   "execution_count": null,
   "id": "37c1c13b",
   "metadata": {},
   "outputs": [],
   "source": []
  },
  {
   "cell_type": "markdown",
   "id": "61100e08",
   "metadata": {},
   "source": [
    "## Terminate Controller\n",
    "\n",
    "Whenever you have finished with this notebook, be sure to terminate the controller. This is especially important if your business logic runs across multiple notebooks."
   ]
  },
  {
   "cell_type": "code",
   "execution_count": null,
   "id": "7dc3a708",
   "metadata": {},
   "outputs": [],
   "source": [
    "await agent_controller.terminate()"
   ]
  }
 ],
 "metadata": {
  "kernelspec": {
   "display_name": "Python 3",
   "language": "python",
   "name": "python3"
  },
  "language_info": {
   "codemirror_mode": {
    "name": "ipython",
    "version": 3
   },
   "file_extension": ".py",
   "mimetype": "text/x-python",
   "name": "python",
   "nbconvert_exporter": "python",
   "pygments_lexer": "ipython3",
   "version": "3.7.6"
  }
 },
 "nbformat": 4,
 "nbformat_minor": 5
}

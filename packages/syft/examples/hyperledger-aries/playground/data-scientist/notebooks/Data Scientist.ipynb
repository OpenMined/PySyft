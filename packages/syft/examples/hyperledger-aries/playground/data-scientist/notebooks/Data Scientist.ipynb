{
 "cells": [
  {
   "cell_type": "markdown",
   "metadata": {},
   "source": [
    "# Data Scientist"
   ]
  },
  {
   "cell_type": "code",
   "execution_count": null,
   "metadata": {},
   "outputs": [],
   "source": [
    "from src.AriesDuetTokenExchanger import AriesDuetTokenExchanger\n",
    "\n",
    "%autoawait\n",
    "import time\n",
    "import asyncio\n",
    "import os\n",
    "import nest_asyncio\n",
    "from aries_cloudcontroller import AriesAgentController"
   ]
  },
  {
   "cell_type": "code",
   "execution_count": null,
   "metadata": {},
   "outputs": [],
   "source": [
    "api_key = os.getenv(\"ACAPY_ADMIN_API_KEY\")\n",
    "admin_url = os.getenv(\"ADMIN_URL\")\n",
    "webhook_port = int(os.getenv(\"WEBHOOK_PORT\"))\n",
    "webhook_host = \"0.0.0.0\"\n",
    "\n",
    "print(\n",
    "    f\"Initialising a controller with admin api at {admin_url} and an api key of {api_key}\"\n",
    ")\n",
    "scientist_controller = AriesAgentController(admin_url, api_key)\n",
    "\n",
    "await scientist_controller.init_webhook_server(webhook_host, webhook_port)"
   ]
  },
  {
   "cell_type": "code",
   "execution_count": null,
   "metadata": {},
   "outputs": [],
   "source": [
    "datascientist_exchanger = AriesDuetTokenExchanger(agent_controller=scientist_controller)"
   ]
  },
  {
   "cell_type": "markdown",
   "metadata": {},
   "source": [
    "## Get Credential from OM Duet Authority Issuer \n",
    "\n",
    "Again you should produce this invite through the relevant entrypoint exposed by the OM Authority user interface.\n",
    "\n",
    "Accepting a connection using the correct invite from the duet issuer will result in the scientists agent being issued a credential from the Duet Issuer which they can use to authenticate with the Data Owner.\n",
    "\n",
    "Note: The process by which the Data Scientist gets a credential can be designed to provide context specific trust to the use case. They might need to fill out a form, get approval from an ethics committee or prove they are a member of an organisation. The credential acts as a digital attestation to the successful completion of the defined process made by a trustworthy entity."
   ]
  },
  {
   "cell_type": "code",
   "execution_count": null,
   "metadata": {},
   "outputs": [],
   "source": [
    "invite = {\n",
    "    \"@type\":\"did:sov:BzCbsNYhMrjHiqZDTUASHg;spec/connections/1.0/invitation\",\n",
    "    \"@id\":\"ebf3560d-ddea-473f-9e4b-fec688ae1590\",\n",
    "    \"label\":\"OpenMined Duet Authority\",\n",
    "    \"recipientKeys\":[\"3YwzJ2pfs75DxuuqvRRWCiPyqce68iA67W9Jb6dkQn6X\"],\n",
    "    \"serviceEndpoint\":\"http://139.162.224.50:3020\"\n",
    "}"
   ]
  },
  {
   "cell_type": "code",
   "execution_count": null,
   "metadata": {},
   "outputs": [],
   "source": [
    "connection_id = datascientist_exchanger.receive_invitation(invite)"
   ]
  },
  {
   "cell_type": "markdown",
   "metadata": {},
   "source": [
    "## Configure Duet Server Challenge\n",
    "\n",
    "This is a aries proof request that is made to every entity who attempts to make a connection with the Duet server. Before receiving the relevant token they must respond with a valid presentation to this request.\n",
    "\n",
    "Note this challenge could be anything you want, designed to establish context specific trust dependant on the use case. For the challenge to be useful you must be confident that the correct entities will be able to get access to the credential needed to respond. \n",
    "\n",
    "In this example case they need a credential based on a schema with this ID `Sgg1wREgfEwbEPCQn9xEuE:2:OM Data Owner:0.0.1`. Getting this credential is easy, entities simply need to connect to the Duet Issuer and will be automatically issued one. An example of a more realistic scenario could include application for research approval from an ethics committee."
   ]
  },
  {
   "cell_type": "code",
   "execution_count": null,
   "metadata": {},
   "outputs": [],
   "source": [
    "schema_id = \"Sgg1wREgfEwbEPCQn9xEuE:2:OM Data Owner:0.0.1\"\n",
    "\n",
    "\n",
    "revocation = False\n",
    "exchange_tracing = False\n",
    "\n",
    "# Enable this to ask for attributes to identity a user\n",
    "# TODO - change restriction to schemaId or credentialId\n",
    "\n",
    "req_attrs = [\n",
    "    {\"name\": \"domain\", \"restrictions\": [{\"schema_id\": schema_id}]},\n",
    "]\n",
    "\n",
    "global indy_proof_request\n",
    "indy_proof_request = {\n",
    "    \"name\": \"Proof of Scientist\",\n",
    "    \"version\": \"1.0\",\n",
    "    \"requested_attributes\": {\n",
    "        f\"0_{req_attr['name']}_uuid\": req_attr for req_attr in req_attrs\n",
    "    },\n",
    "    \"requested_predicates\": {\n",
    "        #         f\"0_{req_pred['name']}_GE_uuid\":\n",
    "        #         req_pred for req_pred in req_preds\n",
    "    },\n",
    "}"
   ]
  },
  {
   "cell_type": "code",
   "execution_count": null,
   "metadata": {},
   "outputs": [],
   "source": [
    "datascientist_exchanger.configure_challenge(indy_proof_request)"
   ]
  },
  {
   "cell_type": "markdown",
   "metadata": {},
   "source": [
    "## Join Duet Session\n",
    "\n",
    "In this instance rather than launching a new Duet server, we are going to join the one created by the Data Owner. Again we pass in a AriesExchanger as the DuetTokenExchanger. This time instead of creating an invitation, the Duet instance requests a invitation be submitted as an input. \n",
    "\n",
    "Once this is done, the data scientists agent will establish a connection with the data owner and and authentication policies that were configured will be requested. If successful then the respective parties will communicate their Duet token identifiers over the authenticated DIDComm channel. This will be used to establish a Duet WebRTC connection across with PPML messages can be exchanged."
   ]
  },
  {
   "cell_type": "code",
   "execution_count": null,
   "metadata": {},
   "outputs": [],
   "source": [
    "import syft as sy\n",
    "\n",
    "duet = sy.join_duet(credential_exchanger=datascientist_exchanger)"
   ]
  },
  {
   "cell_type": "markdown",
   "metadata": {},
   "source": [
    "## Congratulations!\n",
    "\n",
    "Once a Duet session has been created, you should be able to run any PPML flows that Duet / PySyft supports. This is left as an excercise for the interested. Do let me know if you run into any problems, but this has been designed so that the authentication layer is not tightly coupled to the Syft flows. Rather it act's as an entrypoint to a PPML flow."
   ]
  },
  {
   "cell_type": "code",
   "execution_count": null,
   "metadata": {},
   "outputs": [],
   "source": [
    "duet.torch"
   ]
  },
  {
   "cell_type": "code",
   "execution_count": null,
   "metadata": {},
   "outputs": [],
   "source": []
  }
 ],
 "metadata": {
  "kernelspec": {
   "display_name": "Python 3",
   "language": "python",
   "name": "python3"
  },
  "language_info": {
   "codemirror_mode": {
    "name": "ipython",
    "version": 3
   },
   "file_extension": ".py",
   "mimetype": "text/x-python",
   "name": "python",
   "nbconvert_exporter": "python",
   "pygments_lexer": "ipython3",
   "version": "3.7.6"
  }
 },
 "nbformat": 4,
 "nbformat_minor": 4
}

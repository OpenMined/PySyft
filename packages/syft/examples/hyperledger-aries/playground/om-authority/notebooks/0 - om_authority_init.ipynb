{
 "cells": [
  {
   "cell_type": "markdown",
   "id": "b23cc736",
   "metadata": {},
   "source": [
    "# Initialising Your OpenMined Duet Authority Agent as an Issuer\n",
    "\n",
    "## The OM Authority actor is **ONLY** included to allow you to complete this example without relying on an externally hosted service. The happy path for completing this tutorial however is to interact with a user interface for a Full Stack Application acting as the OM Authority. It just depends if this gets completed, hosted and remains online at the time you are taking this course.\n",
    "\n",
    "#### The code for the Full Stack Application can be found here: https://github.com/wip-abramson/fpc-om-authority-aries-application\n",
    "\n",
    "#### The Full Stack Application should be running here: http://139.162.224.50/\n",
    "    \n",
    "If the application is not accessible you can either attempt to run the Full Stack App from the code linked above. Or you can run through these notebooks to issue the Data Scientist and Data Owner the relevant credentials.\n",
    "\n",
    "Note: You will only be able to interact with the user interface if you can successfully produce a proof from a mobile wallet that you completed the OM PKI Course. (You should have issued yourself it while working through [this notebook](https://github.com/OpenMined/PyDentity/blob/master/tutorials/5.%20OM%20FoPC%20Course%20-%20Public%20Key%20Infrastructures/notebooks/om_authority/4.%20Get%20Your%20OM%20PKI%20Credential.ipynb).)\n",
    "\n",
    "If you did not work through these notebooks in PyDentity, it is **highly recommended** you go back over them. However, for simplicity we have included the notebook to issue yourself an OM PKI Course credential in this example. Just work through the [Get Your OM PKI Credential](http://localhost:8890/doc/tree/Get%2520Your%2520OM%2520PKI%2520Credential.ipynb) notebook after this notebook.\n",
    "    \n",
    "These notebooks are designed to replicate much of the logic used in the Full Stack Application.\n",
    "    \n",
    "#### Also Note: If running the OM Authority through these notebooks then you should only need to run this notebook once. Use `./manage.sh stop` to stop the containers and the state will be persisted\n"
   ]
  },
  {
   "cell_type": "markdown",
   "id": "36e813b6",
   "metadata": {},
   "source": [
    "### Imports"
   ]
  },
  {
   "cell_type": "code",
   "execution_count": 1,
   "id": "ad4a671a",
   "metadata": {},
   "outputs": [],
   "source": [
    "from aries_cloudcontroller import AriesAgentController\n",
    "import os\n",
    "from termcolor import colored"
   ]
  },
  {
   "cell_type": "markdown",
   "id": "a6ccaaf8",
   "metadata": {},
   "source": [
    "### Initialise the Agent Controller"
   ]
  },
  {
   "cell_type": "code",
   "execution_count": 2,
   "id": "adc6d297",
   "metadata": {},
   "outputs": [
    {
     "name": "stdout",
     "output_type": "stream",
     "text": [
      "Initialising a controller with admin api at http://om-authority-agent:3021 and an api key of OM_Authority\n"
     ]
    }
   ],
   "source": [
    "api_key = os.getenv(\"ACAPY_ADMIN_API_KEY\")\n",
    "admin_url = os.getenv(\"ADMIN_URL\")\n",
    "\n",
    "print(\n",
    "    f\"Initialising a controller with admin api at {admin_url} and an api key of {api_key}\"\n",
    ")\n",
    "agent_controller = AriesAgentController(admin_url, api_key)"
   ]
  },
  {
   "cell_type": "markdown",
   "id": "ab74615a",
   "metadata": {},
   "source": [
    "## Write DID to the Public Ledger\n",
    "\n",
    "Note: if defined a ACAPY_WALLET_SEED value for your agent then this function will return a DID, but this DID still needs to be written to the ledger. If you did not define a seed you will need to create a DID first."
   ]
  },
  {
   "cell_type": "code",
   "execution_count": 3,
   "id": "83f31109",
   "metadata": {},
   "outputs": [],
   "source": [
    "public_did_response = await agent_controller.wallet.get_public_did()"
   ]
  },
  {
   "cell_type": "code",
   "execution_count": 4,
   "id": "3d195b4f",
   "metadata": {},
   "outputs": [
    {
     "name": "stdout",
     "output_type": "stream",
     "text": [
      "DID {'did': 'HJQ3unDAEknf3hk8sLmTKL', 'verkey': '9tGspADZ1TCK95vopLdrCWMboLnoiXG38e1ybehxFQse', 'posture': 'wallet_only'}\n"
     ]
    }
   ],
   "source": [
    "if public_did_response[\"result\"]:\n",
    "    did_obj = public_did_response[\"result\"]\n",
    "else:\n",
    "    create_did_response = await agent_controller.wallet.create_did()\n",
    "    did_obj = create_did_response[\"result\"]\n",
    "print(\"DID\", did_obj)"
   ]
  },
  {
   "cell_type": "code",
   "execution_count": 5,
   "id": "84152f40",
   "metadata": {},
   "outputs": [
    {
     "name": "stdout",
     "output_type": "stream",
     "text": [
      "{'statusCode': 200, 'headers': {'Access-Control-Allow-Origin': '*'}, 'body': '{\"statusCode\": 200, \"HJQ3unDAEknf3hk8sLmTKL\": {\"status\": \"Success\", \"statusCode\": 200, \"reason\": \"Successfully wrote NYM identified by HJQ3unDAEknf3hk8sLmTKL to the ledger with role ENDORSER\"}}'}\n"
     ]
    }
   ],
   "source": [
    "# write new DID to Sovrin Stagingnet\n",
    "import requests\n",
    "import json\n",
    "\n",
    "url = \"https://selfserve.sovrin.org/nym\"\n",
    "\n",
    "payload = {\n",
    "    \"network\": \"stagingnet\",\n",
    "    \"did\": did_obj[\"did\"],\n",
    "    \"verkey\": did_obj[\"verkey\"],\n",
    "    \"paymentaddr\": \"\",\n",
    "}\n",
    "\n",
    "# Adding empty header as parameters are being sent in payload\n",
    "headers = {}\n",
    "\n",
    "r = requests.post(url, data=json.dumps(payload), headers=headers)\n",
    "print(r.json())"
   ]
  },
  {
   "cell_type": "markdown",
   "id": "e1dfa386",
   "metadata": {},
   "source": [
    "## Accept Transaction Author Agreement\n",
    "\n",
    "Although the Sovrin StagingNet is permissionless, before DID's have the authority to write to the ledger they must accept something called a transaction author agreement by signing it using the DID they have on the ledger.\n",
    "\n",
    "As a global public ledger, the Sovrin Ledger and all its participants are subject to privacy and data protection regulations such as the EU General Data Protection Regulation (GDPR). These regulations require that the participants be explicit about responsibilities for Personal Data.\n",
    "\n",
    "To clarify these responsibilities and provide protection for all parties, the Sovrin Governance Framework Working Group developed an agreement between Transaction Authors and the Sovrin Foundation. The TAA can be found at [Sovrin.org](https://Sovrin.org). It ensures that users are aware of and consent to the fact that all data written to the Sovrin Ledger cannot be removed, even if the original author of the transaction requests its removal.\n",
    "\n",
    "The TAA outlines the policies that users must follow when interacting with the Sovrin Ledger. When a user’s client software is preparing a transaction for submission to the network, it must include a demonstration that the user had the opportunity to review the current TAA and accept it. This is done by including some additional fields in the ledger write transaction: \n",
    "\n",
    "* A hash of the agreement\n",
    "* A date when the agreement was accepted\n",
    "* A string indicating the user interaction that was followed to obtain the acceptance\n",
    "\n",
    "The Indy client API used by Sovrin has been extended to allow users to review current and past agreements and to indicate acceptance through an approved user interaction pattern. - source: https://sovrin.org/preparing-for-the-sovrin-transaction-author-agreement/\n",
    "\n",
    "For more details on TAA please read more at the following links:\n",
    "* [Preparing for the Sovrin Transaction Author Agreement](https://sovrin.org/preparing-for-the-sovrin-transaction-author-agreement/)\n",
    "* [How the recent approval of the Sovrin Governance Framework v2 affects Transaction Authors\n",
    "](https://sovrin.org/how-the-recent-approval-of-the-sovrin-governance-framework-v2-affects-transaction-authors/)\n",
    "* [TAA v2](https://github.com/sovrin-foundation/sovrin/blob/master/TAA/TAA.md)\n",
    "* [TAA Acceptance Mechanism List (AML)](https://github.com/sovrin-foundation/sovrin/blob/master/TAA/AML.md)"
   ]
  },
  {
   "cell_type": "code",
   "execution_count": 6,
   "id": "6a90735f",
   "metadata": {},
   "outputs": [
    {
     "data": {
      "text/plain": [
       "{}"
      ]
     },
     "execution_count": 6,
     "metadata": {},
     "output_type": "execute_result"
    }
   ],
   "source": [
    "taa_response = await agent_controller.ledger.get_taa()\n",
    "TAA = taa_response[\"result\"][\"taa_record\"]\n",
    "TAA[\"mechanism\"] = \"service_agreement\"\n",
    "await agent_controller.ledger.accept_taa(TAA)"
   ]
  },
  {
   "cell_type": "markdown",
   "id": "79e3f22f",
   "metadata": {},
   "source": [
    "## Assign Agent Public DID if Not Set\n",
    "\n",
    "Will only be ran if ACAPY_WALLET_SEED not initially set."
   ]
  },
  {
   "cell_type": "code",
   "execution_count": 7,
   "id": "0a2886d5",
   "metadata": {},
   "outputs": [
    {
     "name": "stdout",
     "output_type": "stream",
     "text": [
      "Successfully intialised agent with Public DID :  HJQ3unDAEknf3hk8sLmTKL\n"
     ]
    }
   ],
   "source": [
    "if did_obj[\"posture\"] != \"public\":\n",
    "    response = await agent_controller.wallet.assign_public_did(did_obj[\"did\"])\n",
    "print(\"Successfully intialised agent with Public DID : \", did_obj[\"did\"])"
   ]
  },
  {
   "cell_type": "markdown",
   "id": "eb0eacc9",
   "metadata": {},
   "source": [
    "## Identifying Schema to Use\n",
    "\n",
    "These are the same schema used for the previous set of notebooks in the public key infrastructures course"
   ]
  },
  {
   "cell_type": "code",
   "execution_count": 8,
   "id": "4d2325e0",
   "metadata": {},
   "outputs": [],
   "source": [
    "# Copy these for the next notebook 👇🏾\n",
    "\n",
    "data_scientist_schema_id = \"Sgg1wREgfEwbEPCQn9xEuE:2:OM Data Scientist:0.0.1\"\n",
    "data_owner_schema_id = \"Sgg1wREgfEwbEPCQn9xEuE:2:OM Data Owner:0.0.1\""
   ]
  },
  {
   "cell_type": "markdown",
   "id": "a66b14ab",
   "metadata": {},
   "source": [
    "## Writing Credential Definitions\n",
    "\n",
    "For all schema you intend to issue credentials against your agent must author a credential definition transaction to the public ledger. This specifies the public cryptographic material your agent will use to sign all credentials issued against a specific schema. "
   ]
  },
  {
   "cell_type": "code",
   "execution_count": 9,
   "id": "fb20cf04",
   "metadata": {},
   "outputs": [],
   "source": [
    "cred_def_response = await agent_controller.definitions.write_cred_def(\n",
    "    data_scientist_schema_id\n",
    ")\n",
    "data_scientist_cred_def_id = cred_def_response[\"credential_definition_id\"]"
   ]
  },
  {
   "cell_type": "code",
   "execution_count": 10,
   "id": "fdd3f3b6",
   "metadata": {},
   "outputs": [],
   "source": [
    "cred_def_response = await agent_controller.definitions.write_cred_def(\n",
    "    data_owner_schema_id\n",
    ")\n",
    "data_owner_cred_def_id = cred_def_response[\"credential_definition_id\"]"
   ]
  },
  {
   "cell_type": "markdown",
   "id": "3c18f819",
   "metadata": {},
   "source": [
    "## Copy Across Credential Definitions to the om_authority_issue.ipynb file\n"
   ]
  },
  {
   "cell_type": "code",
   "execution_count": 11,
   "id": "a0df1bce",
   "metadata": {},
   "outputs": [
    {
     "name": "stdout",
     "output_type": "stream",
     "text": [
      "Copy these for the next notebook 👇🏾\n",
      "\n",
      "data_scientist_cred_def_id = \"HJQ3unDAEknf3hk8sLmTKL:3:CL:188831:default\"\n",
      "data_owner_cred_def_id = \"HJQ3unDAEknf3hk8sLmTKL:3:CL:188835:default\"\n"
     ]
    }
   ],
   "source": [
    "print(\"Copy these for the next notebook 👇🏾\\n\")\n",
    "\n",
    "print(f'data_scientist_cred_def_id = \\\"{data_scientist_cred_def_id}\\\"')\n",
    "print(f'data_owner_cred_def_id = \\\"{data_owner_cred_def_id}\\\"')"
   ]
  },
  {
   "cell_type": "markdown",
   "id": "46567d72",
   "metadata": {},
   "source": [
    "## Terminate Controller\n"
   ]
  },
  {
   "cell_type": "code",
   "execution_count": 12,
   "id": "22d14244",
   "metadata": {},
   "outputs": [],
   "source": [
    "await agent_controller.terminate()"
   ]
  },
  {
   "cell_type": "code",
   "execution_count": null,
   "id": "41d33bdf",
   "metadata": {},
   "outputs": [],
   "source": []
  }
 ],
 "metadata": {
  "kernelspec": {
   "display_name": "Python 3",
   "language": "python",
   "name": "python3"
  },
  "language_info": {
   "codemirror_mode": {
    "name": "ipython",
    "version": 3
   },
   "file_extension": ".py",
   "mimetype": "text/x-python",
   "name": "python",
   "nbconvert_exporter": "python",
   "pygments_lexer": "ipython3",
   "version": "3.7.6"
  }
 },
 "nbformat": 4,
 "nbformat_minor": 5
}

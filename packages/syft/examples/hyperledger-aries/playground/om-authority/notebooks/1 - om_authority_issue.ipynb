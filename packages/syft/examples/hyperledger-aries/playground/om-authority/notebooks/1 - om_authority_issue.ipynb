{
 "cells": [
  {
   "cell_type": "markdown",
   "id": "39e988de",
   "metadata": {},
   "source": [
    "# OpenMined Duet Authority\n",
    "\n",
    "This is replicating the logic which should ideally be hosted as a Full Stack Application. In particular the [OMAuthorityAgent.py](./src/OMAuthorityAgent.py) class has been copied and slightly edited from this Full Stack Application. The Full Stack App code can be found at this repo - https://github.com/wip-abramson/fpc-om-authority-aries-application\n",
    "\n",
    "It is hopefully running here - http://139.162.224.50/"
   ]
  },
  {
   "cell_type": "markdown",
   "id": "d92d20b7",
   "metadata": {},
   "source": [
    "### Imports"
   ]
  },
  {
   "cell_type": "code",
   "execution_count": null,
   "id": "c584f667",
   "metadata": {},
   "outputs": [],
   "source": [
    "from aries_cloudcontroller import AriesAgentController\n",
    "\n",
    "from src.OMAuthorityAgent import OMAuthorityAgent\n",
    "\n",
    "import os\n",
    "from termcolor import colored"
   ]
  },
  {
   "cell_type": "markdown",
   "id": "77dfacb2",
   "metadata": {},
   "source": [
    "### Initialise the Agent Controller"
   ]
  },
  {
   "cell_type": "code",
   "execution_count": null,
   "id": "e78d862b",
   "metadata": {},
   "outputs": [],
   "source": [
    "api_key = os.getenv(\"ACAPY_ADMIN_API_KEY\")\n",
    "admin_url = os.getenv(\"ADMIN_URL\")\n",
    "\n",
    "print(\n",
    "    f\"Initialising a controller with admin api at {admin_url} and an api key of {api_key}\"\n",
    ")\n",
    "agent_controller = AriesAgentController(admin_url, api_key)"
   ]
  },
  {
   "cell_type": "markdown",
   "id": "916dca15",
   "metadata": {},
   "source": [
    "### Start a Webhook Server"
   ]
  },
  {
   "cell_type": "code",
   "execution_count": null,
   "id": "6a72a42a",
   "metadata": {},
   "outputs": [],
   "source": [
    "webhook_port = int(os.getenv(\"WEBHOOK_PORT\"))\n",
    "webhook_host = \"0.0.0.0\"\n",
    "\n",
    "await agent_controller.init_webhook_server(webhook_host, webhook_port)"
   ]
  },
  {
   "cell_type": "markdown",
   "id": "03aa427a",
   "metadata": {},
   "source": [
    "## Store Issuing Schema and Cred Def Identifiers\n",
    "\n",
    "This is helpful as it means as long as you run `./manage.sh stop` to stop the containers you will not need to reinitialise your agent. State will be persisted and the values you copied below will still be valid."
   ]
  },
  {
   "cell_type": "code",
   "execution_count": null,
   "id": "3b49db0f",
   "metadata": {},
   "outputs": [],
   "source": [
    "# PASTE these two variables from 0 - om_authority_init.ipynb\n",
    "data_scientist_schema_id = \"Sgg1wREgfEwbEPCQn9xEuE:2:OM Data Scientist:0.0.1\"\n",
    "data_owner_schema_id = \"Sgg1wREgfEwbEPCQn9xEuE:2:OM Data Owner:0.0.1\""
   ]
  },
  {
   "cell_type": "code",
   "execution_count": null,
   "id": "1d316ffd",
   "metadata": {},
   "outputs": [],
   "source": [
    "# PASTE these two variables from the end of \"0 - om_authority_init.ipynb\"\n",
    "data_scientist_cred_def_id = \"HJQ3unDAEknf3hk8sLmTKL:3:CL:188831:default\"\n",
    "data_owner_cred_def_id = \"HJQ3unDAEknf3hk8sLmTKL:3:CL:188835:default\""
   ]
  },
  {
   "cell_type": "code",
   "execution_count": null,
   "id": "85211b4b",
   "metadata": {},
   "outputs": [],
   "source": [
    "scientist_config = {\n",
    "    \"schema_id\": data_scientist_schema_id,\n",
    "    \"cred_def_id\": data_scientist_cred_def_id,\n",
    "}\n",
    "\n",
    "owner_config = {\n",
    "    \"schema_id\": data_owner_schema_id,\n",
    "    \"cred_def_id\": data_owner_cred_def_id,\n",
    "}"
   ]
  },
  {
   "cell_type": "markdown",
   "id": "070e2bf1",
   "metadata": {},
   "source": [
    "## Initialise the OMAuthority Agent\n",
    "\n",
    "By passing in the configuration jsons for scientist and data owner you identify the schema and cred defs that class will issue to the respective actors."
   ]
  },
  {
   "cell_type": "code",
   "execution_count": null,
   "id": "efab4c1e",
   "metadata": {},
   "outputs": [],
   "source": [
    "om_authority_agent = OMAuthorityAgent(agent_controller, owner_config, scientist_config)"
   ]
  },
  {
   "cell_type": "markdown",
   "id": "abd38edf",
   "metadata": {},
   "source": [
    "## Optional: Authentiate Against Agent Using OM PKI Course Credential\n",
    "\n",
    "This is used in the Full Stack Application as a \"login\" before you can generate connections for the data scientist or owner. The Full Stack App then uses the connection_id to authenticate future api requests, only allowing them for those connections which have succesfully responded to the proof."
   ]
  },
  {
   "cell_type": "markdown",
   "id": "c0cce60b",
   "metadata": {},
   "source": [
    "### First Configure the Auth Policy\n",
    "\n",
    "This identifies the set of attributes and constraints under which a proof must be produced. The below cell identifies the OM PKI Course credential you should have issued to your mobile earlier in the course.\n",
    "\n",
    "**Note: If you have not got this credential you can skip this part.** Or alternatively you could attempt to use combine the recipes to issue yourself a credential against this schema. Or if you are feeling adventurous define and issue a new schema and update the below authentication policy accordingly."
   ]
  },
  {
   "cell_type": "code",
   "execution_count": null,
   "id": "d0ef8dea",
   "metadata": {},
   "outputs": [],
   "source": [
    "pki_schema_id = \"Sgg1wREgfEwbEPCQn9xEuE:2:OpenMined PKI Course:0.0.1\"\n",
    "\n",
    "req_attrs = [\n",
    "    {\"name\": \"name\", \"restrictions\": [{\"schema_id\": pki_schema_id}]},\n",
    "]\n",
    "\n",
    "indy_proof_request = {\n",
    "    \"name\": \"Proof of PKI Course\",\n",
    "    \"version\": \"1.0\",\n",
    "    \"requested_attributes\": {\n",
    "        # They must follow this uuid pattern\n",
    "        f\"0_{req_attr['name']}_uuid\": req_attr\n",
    "        for req_attr in req_attrs\n",
    "    },\n",
    "    # Predicates allow us to specify range proofs or set membership on attributes. For example greater than 10.\n",
    "    # We will ignore these for now.\n",
    "    \"requested_predicates\": {},\n",
    "}\n",
    "\n",
    "om_authority_agent.set_client_auth_policy(indy_proof_request)"
   ]
  },
  {
   "cell_type": "markdown",
   "id": "843f8a2a",
   "metadata": {},
   "source": [
    "### Get Client Invitation and Display as QR Code.\n",
    "\n",
    "You will need to scan this QRCode using the mobile wallet containing a OpenMined PKI Course Credential"
   ]
  },
  {
   "cell_type": "code",
   "execution_count": null,
   "id": "6d491f58",
   "metadata": {},
   "outputs": [],
   "source": [
    "client_invite_response = om_authority_agent.client_invitation()\n",
    "## URL For the invitation so it can be displayed as a QRCode\n",
    "invitation_url = client_invite_response[\"invite_url\"]\n",
    "## Connection ID used by OM Authority to identify the agent that responds to this invite\n",
    "client_connection_id = client_invite_response[\"connection_id\"]\n",
    "print(client_invite_response)"
   ]
  },
  {
   "cell_type": "code",
   "execution_count": null,
   "id": "582811a8",
   "metadata": {},
   "outputs": [],
   "source": [
    "import qrcode\n",
    "\n",
    "# Link for connection invitation\n",
    "\n",
    "# Creating an instance of qrcode\n",
    "qr = qrcode.QRCode(version=1, box_size=5, border=5)\n",
    "qr.add_data(invitation_url)\n",
    "qr.make(fit=True)\n",
    "img = qr.make_image(fill=\"black\", back_color=\"white\")\n",
    "img"
   ]
  },
  {
   "cell_type": "markdown",
   "id": "aacc401e",
   "metadata": {},
   "source": [
    "### Check Connection ID Trusted List\n",
    "\n",
    "This would be the connection_id used to authenticate a client application. By sending the connection_id with every api request and checking with the agent if this connection_id is \"trusted\" we have created a (very hacky) user authentication system.\n",
    "\n",
    "Work is currently ongoing to use the controller the OpenID Connect protocol."
   ]
  },
  {
   "cell_type": "code",
   "execution_count": null,
   "id": "58fdaadd",
   "metadata": {},
   "outputs": [],
   "source": [
    "is_trusted = om_authority_agent.client_connection_trusted(client_connection_id)\n",
    "print(\"Is Client Trusted? \", is_trusted)"
   ]
  },
  {
   "cell_type": "markdown",
   "id": "f35fa357",
   "metadata": {},
   "source": [
    "## Issue Data Owner Credential\n",
    "\n",
    "Before you can issue a credential you must first establish a connection across which the credential will be issued."
   ]
  },
  {
   "cell_type": "markdown",
   "id": "20265864",
   "metadata": {},
   "source": [
    "### What Attributes Are You Issuing\n",
    "\n",
    "The Full Stack Application allows an authenticated user to submit attributes in a form which are then issued as part of a Data Scientist credential. "
   ]
  },
  {
   "cell_type": "code",
   "execution_count": null,
   "id": "83c937d7",
   "metadata": {},
   "outputs": [],
   "source": [
    "domain = \"Healthcare\"\n",
    "name = \"Some Hospital\""
   ]
  },
  {
   "cell_type": "markdown",
   "id": "ed833c1b",
   "metadata": {},
   "source": [
    "### Create Data Owner Invitation\n",
    "\n",
    "This invite would be returned to the frontend. Where it can then be shared with the Data Owner by copying across to the relevant notebook. \n",
    "\n",
    "Once the invitation has been accepted and becomes active, the OM Authority agent will automatically issue a Data Owner credential with the attributes passed to it when the invitation was created. See `src/OMAuthorityAgent.py` for the code."
   ]
  },
  {
   "cell_type": "code",
   "execution_count": null,
   "id": "8bf50eff",
   "metadata": {},
   "outputs": [],
   "source": [
    "invitation = om_authority_agent.data_owner_invitation(name, domain)\n",
    "## Copy this to the Data Owner notebook\n",
    "print(invitation)"
   ]
  },
  {
   "cell_type": "markdown",
   "id": "377ace70",
   "metadata": {},
   "source": [
    "## Issue Data Scientist Credential"
   ]
  },
  {
   "cell_type": "markdown",
   "id": "e54e097a",
   "metadata": {},
   "source": [
    "### What Attributes Are You Issuing\n",
    "\n",
    "The Full Stack Application allows an authenticated user to submit attributes in a form which are then issued as part of a Data Scientist credential. "
   ]
  },
  {
   "cell_type": "code",
   "execution_count": null,
   "id": "ce3d80cc",
   "metadata": {},
   "outputs": [],
   "source": [
    "scope = \"Healthcare\"\n",
    "name = \"Some Healthcare Research Org\""
   ]
  },
  {
   "cell_type": "markdown",
   "id": "2bd8b59e",
   "metadata": {},
   "source": [
    "### Create Data Scientist Invitation\n",
    "\n",
    "This invite would be returned to the frontend. Where it can then be shared with the Data Scientist by copying across to the relevant notebook. \n",
    "\n",
    "Once the invitation has been accepted and becomes active, the OM Authority agent will automatically issue a Data Scientist credential with the attributes passed to it when the invitation was created. See `src/OMAuthorityAgent.py` for the code."
   ]
  },
  {
   "cell_type": "code",
   "execution_count": null,
   "id": "ec409c82",
   "metadata": {},
   "outputs": [],
   "source": [
    "invitation = om_authority_agent.data_scientist_invitation(name, scope)\n",
    "## Copy this to the Data Scientist notebook\n",
    "print(invitation)"
   ]
  },
  {
   "cell_type": "markdown",
   "id": "c627ae3b",
   "metadata": {},
   "source": [
    "## Congratulations\n",
    "Both the Data Scientist and Data Owner \"notebook applications\" should now have the necessary credentials to authenticate each other before establishing a Duet session.\n",
    "\n",
    "Be sure to check out the [Full Stack Application for this notebook](https://github.com/wip-abramson/fpc-om-authority-aries-application). Hopefully it is hosted somewhere so you can get a feel for what that user experience might be like. \n",
    "\n",
    "Much much more work to be done on that front though!"
   ]
  },
  {
   "cell_type": "markdown",
   "id": "23f466c1",
   "metadata": {},
   "source": [
    "## Terminate Controller\n",
    "\n",
    "Whenever you have finished with this notebook, be sure to terminate the controller. This is especially important if your business logic runs across multiple notebooks."
   ]
  },
  {
   "cell_type": "code",
   "execution_count": null,
   "id": "a1510a6a",
   "metadata": {},
   "outputs": [],
   "source": [
    "await agent_controller.terminate()"
   ]
  },
  {
   "cell_type": "code",
   "execution_count": null,
   "id": "56d15978",
   "metadata": {},
   "outputs": [],
   "source": []
  }
 ],
 "metadata": {
  "kernelspec": {
   "display_name": "Python 3",
   "language": "python",
   "name": "python3"
  },
  "language_info": {
   "codemirror_mode": {
    "name": "ipython",
    "version": 3
   },
   "file_extension": ".py",
   "mimetype": "text/x-python",
   "name": "python",
   "nbconvert_exporter": "python",
   "pygments_lexer": "ipython3",
   "version": "3.7.6"
  }
 },
 "nbformat": 4,
 "nbformat_minor": 5
}

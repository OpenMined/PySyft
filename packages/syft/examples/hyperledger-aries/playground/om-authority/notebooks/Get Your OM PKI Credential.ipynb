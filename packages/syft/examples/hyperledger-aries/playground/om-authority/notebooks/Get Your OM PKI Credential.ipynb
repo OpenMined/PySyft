{
 "cells": [
  {
   "cell_type": "markdown",
   "metadata": {},
   "source": [
    "# Get Your OM PKI Credential\n",
    "\n",
    "## Only do this is you did NOT issue yourself an OM PKI credential as part of the OM PKI Course \n",
    "\n",
    "Ideally if you did not do this you should first take the full set of tutorials as it will give you a better idea of what this is all about. These can be found [here](https://github.com/OpenMined/PyDentity/tree/master/tutorials/5.%20OM%20FoPC%20Course%20-%20Public%20Key%20Infrastructures)."
   ]
  },
  {
   "cell_type": "markdown",
   "metadata": {},
   "source": [
    "## 0. Install a Mobile Aries Agent of Your Choice\n",
    "\n",
    "There are a number of apps available on the app store designed as *digital wallet's* to store verifiable credentials. The one's that work with the Hyperledger verifiable information platform all use code that implement's a set aries-rfcs, these specification's help ensure different implementations can interact.\n",
    "\n",
    "You can pick the application you would prefer to install from any of the following: \n",
    "\n",
    "* [Connect.Me](https://www.connect.me/)\n",
    "* [Trinsic](https://trinsic.id/)\n",
    "* [eSatus](https://esatus.com/?lang=en)\n",
    "* [LISSI](https://lissi.id/)\n",
    "\n",
    "All can be a bit tempermental depending on your OS etc. If one isn't working for you try a different one. I have found eSatus to be the best for my old android phone.\n",
    "\n",
    "Unfortunately to date none of the applications are open source, which in my view is leading to a fragmented experience for the individual. It is common to hear the phrase \"Digital wallet's are the browsers of the future\", or something along those lines. To which I often wonder why nobody has made it easy for me to write the equvalent of a webpage. \n",
    "\n",
    "Digital wallet's are an interesting space to keep an eye on. For the interested I recommend this report on [The Current and Future State of Digital Wallet's](https://wiki.hyperledger.org/download/attachments/24775535/The_Current_and_Future_State_of_Digital_Wallets_v1.0_FINAL.pdf?version=1&modificationDate=1574365535000&api=v2) from Darrell O'Donnell. Also available as a [webinar](https://ssimeetup.org/state-digital-identity-crypto-wallets-darrell-odonnell-webinar-22/).\n",
    "\n",
    "The open source offering around mobile agent's and applications is gradually emerging, the most recent being the announcement of the [aries-bifold](https://github.com/Indicio-tech/aries-bifold) application and companion [aries-mobileagent-reactnative](https://github.com/Indicio-tech/aries-mobileagent-react-native) projects. If you would like to help us figure out how we could and should leverage and contribute too these offerings we would love to hear from you. \n",
    "\n",
    "For the moment we have to make do with what is available. So install one of the above applications and make sure you they are pointing to the **Sovrin StagingNet**. Different applications have different ways of changing the network the agent uses, usually in settings, although Connect.Me requires you select the network as part of the installation process.\n"
   ]
  },
  {
   "cell_type": "markdown",
   "metadata": {},
   "source": [
    "## 1. Initialise a controller for Issuer"
   ]
  },
  {
   "cell_type": "code",
   "execution_count": null,
   "metadata": {},
   "outputs": [],
   "source": [
    "%autoawait\n",
    "import time\n",
    "import os\n",
    "import asyncio\n",
    "from aries_cloudcontroller.aries_controller import AriesAgentController\n",
    "from termcolor import colored,cprint\n",
    "\n",
    "api_key = os.getenv(\"ACAPY_ADMIN_API_KEY\")\n",
    "admin_url = os.getenv(\"ADMIN_URL\")\n",
    "\n",
    "print(\n",
    "    f\"Initialising a controller with admin api at {admin_url} and an api key of {api_key}\"\n",
    ")\n",
    "agent_controller = AriesAgentController(admin_url, api_key)\n",
    "\n",
    "webhook_port = int(os.getenv(\"WEBHOOK_PORT\"))\n",
    "webhook_host = \"0.0.0.0\"\n",
    "\n",
    "await agent_controller.init_webhook_server(webhook_host, webhook_port)\n",
    "    "
   ]
  },
  {
   "cell_type": "markdown",
   "metadata": {},
   "source": [
    "## 2. Register Listeners for Webhook Topics\n"
   ]
  },
  {
   "cell_type": "code",
   "execution_count": null,
   "metadata": {},
   "outputs": [],
   "source": [
    "def cred_handler(payload):\n",
    "    print(\"Handle Credential Webhook Payload\")\n",
    "    exchange_id = payload['credential_exchange_id']\n",
    "    state = payload['state']\n",
    "    role = payload['role']\n",
    "    attributes = payload['credential_proposal_dict']['credential_proposal']['attributes']\n",
    "    print(f\"Credential exchange {exchange_id}, role: {role}, state: {state}\")\n",
    "    if state == \"offer_sent\":\n",
    "        print(f\"Offering: {attributes}\")\n",
    "    \n",
    "cred_listener = {\n",
    "    \"topic\": \"issue_credential\",\n",
    "    \"handler\": cred_handler\n",
    "}\n",
    "\n",
    "def connections_handler(payload):\n",
    "    print(\"Handle Connection Webhook Payload\")\n",
    "    global STATE\n",
    "    connection_id = payload[\"connection_id\"]\n",
    "    print(\"Connection ID\", connection_id)\n",
    "\n",
    "    STATE = payload['state']\n",
    "    print(\"State\", STATE)\n",
    "    if STATE == 'active':\n",
    "#         print('Connection {0} changed state to active'.format(connection_id))\n",
    "        print(colored(\"Connection {0} changed state to active\".format(connection_id), \"red\", attrs=[\"bold\"]))\n",
    "\n",
    "\n",
    "connection_listener = {\n",
    "    \"handler\": connections_handler,\n",
    "    \"topic\": \"connections\"\n",
    "}\n",
    "\n",
    "agent_controller.register_listeners([cred_listener,connection_listener], defaults=True)\n"
   ]
  },
  {
   "cell_type": "markdown",
   "metadata": {},
   "source": [
    "## 3. Establish a DIDComm connection with your Mobile Agent\n",
    "\n",
    "Before you can issue yourself a credential using the OM Authority agent, you must establish a DIDComm connection by first exchanging DIDs. You can view the rfc for this protocol here.\n",
    "\n",
    "You will first request the OM Authority agent to generate an invitation object containing a DID and assocaited public key. Then this information will need to be communicated **out of band**, the common approach to represent it as a QR Code that you will scan with your mobile SSI App. "
   ]
  },
  {
   "cell_type": "markdown",
   "metadata": {},
   "source": [
    "### 3a. Create an Invitation\n",
    "\n",
    "The following cell creates the invitation object. This includes:\n",
    "* `connection_id` - The primary key used to communicate to your agent which connection (and hence agent) you wish to send messages to\n",
    "* `invitation` - A json object representing the invitation that needs to be communicated out of band. This includes the `recipientKeys` used to generate the DID and encrypt communication and a `seviceEndpoint` the location for the mobile agent to send messages too.\n",
    "* `invitation_url` - This is the invitation object represented as a base64 string converted into a url. We use this to produce a QR Code.\n",
    "\n",
    "Also notice the Connection webhook message output. This is from a webhook received by the AriesAgentController and handled by the function we defined in step 2. above."
   ]
  },
  {
   "cell_type": "code",
   "execution_count": null,
   "metadata": {},
   "outputs": [],
   "source": [
    "# Create Invitation\n",
    "invite = await agent_controller.connections.create_invitation()\n",
    "connection_id = invite[\"connection_id\"]\n",
    "print(\"Connection ID\", connection_id)\n",
    "print(\"Invitation\")\n",
    "print(invite[\"invitation\"])\n",
    "print(\"Invite Url\")\n",
    "print(invite['invitation_url'])\n",
    "inviteURL = invite['invitation_url']"
   ]
  },
  {
   "cell_type": "markdown",
   "metadata": {},
   "source": [
    "### 3b. Generate QR Code and Scan\n",
    "\n",
    "You should use the mobile application you installed at the start of the notebook.\n",
    "\n",
    "Once you scan the QR Code and accept the connection on your mobile application you should see a series of Connection webhook payload messages output from the cell. This is the om-authority-agent letting the application know that it has recieved a series of messages associated with the did-exchange protocol from another agent.\n",
    "\n",
    "Notice that the connection_id contained in this payload is the same everytime? This shows us that all the messages arrived across the same connection. This should be the same as the connection_id from the output above.\n",
    "\n",
    "Notice also that each new payload we handle has a different state? This is the protocol progressing through it's different stages until it completes and the connection is moved to active. You can view the state machine for this protocol [here](https://github.com/hyperledger/aries-rfcs/tree/master/features/0023-did-exchange#state-machine-tables)."
   ]
  },
  {
   "cell_type": "code",
   "execution_count": null,
   "metadata": {},
   "outputs": [],
   "source": [
    "import qrcode\n",
    "# Link for connection invitation\n",
    "input_data = inviteURL\n",
    "# Creating an instance of qrcode\n",
    "qr = qrcode.QRCode(\n",
    "        version=1,\n",
    "        box_size=10,\n",
    "        border=5)\n",
    "qr.add_data(input_data)\n",
    "qr.make(fit=True)\n",
    "img = qr.make_image(fill='black', back_color='white')\n",
    "img.save('issuer_agent_invite_QRcode.png')\n",
    "\n",
    "from IPython.display import Image\n",
    "Image(width=400, filename='./issuer_agent_invite_QRcode.png')"
   ]
  },
  {
   "cell_type": "markdown",
   "metadata": {},
   "source": [
    "### 3c. Check if established connection is in active state\n",
    "\n",
    "Depending on the mobile application you chose to use the connection state may not have progress to active yet. You can usually fix this by sending a trust ping to this connection.\n",
    "\n",
    "If the connection state is still not active then you may need to try another application, apologies."
   ]
  },
  {
   "cell_type": "code",
   "execution_count": null,
   "metadata": {},
   "outputs": [],
   "source": [
    "import time\n",
    "\n",
    "# print('Current state for ConnectionId {} is {}'.format(connection_id,STATE))\n",
    "print(colored(\"Current state for ConnectionId {} is {}\".format(connection_id,STATE), \"magenta\", attrs=[\"bold\"]))\n",
    "while STATE != 'active':\n",
    "#     print('ConnectionId {0} is not in active state yet'.format(connection_id))\n",
    "    print(colored(\"ConnectionId {0} is not in active state yet\".format(connection_id), \"yellow\", attrs=[\"bold\"]))\n",
    "    trust_ping = await agent_controller.messaging.trust_ping(connection_id,'hello!')\n",
    "#     print('Trust ping send to ConnectionId {0} to activate connection'.format(trust_ping))\n",
    "    print(colored(\"Trust ping send to ConnectionId {0} to activate connection\".format(trust_ping), \"blue\", attrs=[\"bold\"]))\n",
    "    time.sleep(5)\n",
    "    \n",
    "# print('ConnectionId: {0} is now active. Continue with notebook'.format(connection_id))\n",
    "print(colored(\"ConnectionId: {0} is now active. Continue with notebook\".format(connection_id), \"green\", attrs=[\"bold\"]))\n"
   ]
  },
  {
   "cell_type": "markdown",
   "metadata": {},
   "source": [
    "## 4. Write Credential Definition for OM PKI Schema\n"
   ]
  },
  {
   "cell_type": "code",
   "execution_count": null,
   "metadata": {},
   "outputs": [],
   "source": [
    "pki_schema_id = \"Sgg1wREgfEwbEPCQn9xEuE:2:OpenMined PKI Course:0.0.1\"\n",
    "\n",
    "cred_def_response = await agent_controller.definitions.write_cred_def(\n",
    "    pki_schema_id\n",
    ")\n",
    "pki_cred_def_id = cred_def_response[\"credential_definition_id\"]\n",
    "\n",
    "if pki_schema_id and pki_cred_def_id:\n",
    "    print(\"Successfully loaded identifiers required to issue OM PKI Course credentials\")\n",
    "    print(\"Schema :\", pki_schema_id)\n",
    "    print(\"Cred Def :\", pki_cred_def_id)"
   ]
  },
  {
   "cell_type": "markdown",
   "metadata": {},
   "source": [
    "## 5. Populate the Attribues for the Credential\n",
    "\n",
    "Feel free to fill in your name however you like, this is your credential.\n",
    "\n",
    "Note how information gets entered into a credential before it is offered, signed and accepted is a key process that should be thought through in relation to the context of the application. In many situations there will need to be high assurance that the information in a credential is reliable and accurate.\n",
    "\n",
    "**Bad data in == Bad data out.**"
   ]
  },
  {
   "cell_type": "code",
   "execution_count": null,
   "metadata": {},
   "outputs": [],
   "source": [
    "import datetime\n",
    "tme = datetime.datetime.now()\n",
    "\n",
    "name=input(\"Please enter the name you would like in your OM PKI Course Credential: \")\n",
    "credential_attributes = [\n",
    "    {\"name\": \"name\", \"value\": name},\n",
    "    {\"name\": \"date\", \"value\": tme.strftime(\"%x\")},\n",
    "]\n",
    "print(credential_attributes)"
   ]
  },
  {
   "cell_type": "markdown",
   "metadata": {},
   "source": [
    "## 6. Send Credential\n",
    "\n",
    "This should send a credential offer to your mobile application, once you accept the offer your mobile agent will blindly contribute a commitment to the agents master secret. The OM Authority will complete the signature on the credential and send it back to your mobile where you will store it.\n",
    "\n",
    "Pay attention to the credential webhook messages that get output, these should track the protocol as it progresses through the different stages in the issue-credential flow. See the state diagram [here](https://github.com/hyperledger/aries-rfcs/blob/master/features/0036-issue-credential/credential-issuance.png).\n",
    "\n",
    "There are other ways to issue a credential that require multiple api calls at each stage of the protocol.\n",
    "\n",
    "**Arguments**\n",
    "* connection_id: The connection_id of the holder you wish to issue to (MUST be in active state)\n",
    "* schema_id: The id of the schema you wish to issue\n",
    "* cred_def_id: The definition (public key) to sign the credential object. This must refer to the schema_id and be written to the ledger by the same public did that is currently being used by the agent.\n",
    "* attributes: A list of attribute objects as defined above. Must match the schema attributes.\n",
    "* comment (optional): Any string, defaults to \"\"\n",
    "* auto_remove (optional): Boolean, defaults to True. I believe this removes the record of this credential once it has been issued. (TODO: double check)\n",
    "* trace (optional): Boolean, defaults to False. **Not entirely sure about this one, believe its for logging. Also when set to True it throws an error**"
   ]
  },
  {
   "cell_type": "code",
   "execution_count": null,
   "metadata": {},
   "outputs": [],
   "source": [
    "record = await agent_controller.issuer.send_credential(connection_id, pki_schema_id, pki_cred_def_id, credential_attributes, trace=False)\n"
   ]
  },
  {
   "cell_type": "markdown",
   "metadata": {},
   "source": [
    "## 7. End of Tutorial\n",
    "\n",
    "Be sure to terminate the controller so you can run another tutorial."
   ]
  },
  {
   "cell_type": "code",
   "execution_count": null,
   "metadata": {},
   "outputs": [],
   "source": [
    "response = await agent_controller.terminate()\n",
    "print(response)"
   ]
  },
  {
   "cell_type": "markdown",
   "metadata": {},
   "source": [
    "# You should now have the necessary credential to authenticate against the OM Duet Authority Application. (Assuming it is running still)\n",
    "\n",
    "See - http://139.162.224.50/\n"
   ]
  },
  {
   "cell_type": "code",
   "execution_count": null,
   "metadata": {},
   "outputs": [],
   "source": []
  }
 ],
 "metadata": {
  "kernelspec": {
   "display_name": "Python 3",
   "language": "python",
   "name": "python3"
  },
  "language_info": {
   "codemirror_mode": {
    "name": "ipython",
    "version": 3
   },
   "file_extension": ".py",
   "mimetype": "text/x-python",
   "name": "python",
   "nbconvert_exporter": "python",
   "pygments_lexer": "ipython3",
   "version": "3.7.6"
  }
 },
 "nbformat": 4,
 "nbformat_minor": 4
}

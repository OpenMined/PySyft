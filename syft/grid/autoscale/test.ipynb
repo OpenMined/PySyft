{
 "cells": [
  {
   "cell_type": "code",
   "execution_count": null,
   "metadata": {},
   "outputs": [],
   "source": [
    "\"\"\"To test the implementation of gcloud.py\"\"\"\n",
    "from syft.grid.autoscale import gcloud\n",
    "from syft.grid.autoscale.utils import gcloud_configurations as configs"
   ]
  },
  {
   "cell_type": "code",
   "execution_count": null,
   "metadata": {},
   "outputs": [],
   "source": [
    "NEW = gcloud.GoogleCloud(\n",
    "    credentials=\"/usr/terraform.json\", project_id=\"project\", region=\"us-central1\",\n",
    ")"
   ]
  },
  {
   "cell_type": "code",
   "execution_count": null,
   "metadata": {},
   "outputs": [],
   "source": [
    "NEW.create_cluster(\n",
    "    name=\"new-12345\",\n",
    "    machine_type=configs.MachineType.f1_micro,\n",
    "    zone=configs.Zone.us_central1_a,\n",
    "    image_family=configs.ImageFamily.ubuntu_2004_lts,\n",
    "    target_size=3,\n",
    ")"
   ]
  },
  {
   "cell_type": "code",
   "execution_count": null,
   "metadata": {},
   "outputs": [],
   "source": [
    "NEW.destroy()"
   ]
  },
  {
   "cell_type": "code",
   "execution_count": null,
   "metadata": {},
   "outputs": [],
   "source": []
  }
 ],
 "metadata": {
  "kernelspec": {
   "display_name": "Python 3.7.6 64-bit ('syft': conda)",
   "language": "python",
   "name": "python37664bitsyftconda3821869f2cbc432c8ddeb2e882487673"
  },
  "language_info": {
   "codemirror_mode": {
    "name": "ipython",
    "version": 3
   },
   "file_extension": ".py",
   "mimetype": "text/x-python",
   "name": "python",
   "nbconvert_exporter": "python",
   "pygments_lexer": "ipython3",
   "version": "3.7.6"
  }
 },
 "nbformat": 4,
 "nbformat_minor": 4
}
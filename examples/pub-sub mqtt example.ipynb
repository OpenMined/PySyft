{
 "cells": [
  {
   "cell_type": "code",
   "execution_count": 1,
   "metadata": {},
   "outputs": [],
   "source": [
    "# you need to install paho client for this to work and you should have a running\n",
    "# mqtt broker on your local system. \n",
    "#pip install paho-mqtt"
   ]
  },
  {
   "cell_type": "code",
   "execution_count": 2,
   "metadata": {},
   "outputs": [],
   "source": [
    "# mqtt client\n",
    "import paho.mqtt.client as paho\n",
    "import syft as sy\n",
    "import json\n",
    "from syft.core.broadcast_message import SyftBroadcastMessageWithoutReply, SyftBroadcastMessageWithReply"
   ]
  },
  {
   "cell_type": "code",
   "execution_count": 3,
   "metadata": {},
   "outputs": [],
   "source": [
    "def deserialize_msg_from_json(msg_payload):\n",
    "    \"\"\"\n",
    "    this is dummy for this notebook only - future use protobuf\n",
    "    it is also highly insecure.\n",
    "    \"\"\"\n",
    "    msg = json.loads(msg_payload.decode('utf-8'))\n",
    "    klass = msg['class']\n",
    "    specs = sy.core.broadcast_message.BroadcastMessageSpecs(msg['specs'])\n",
    "    syft_msg_obj = eval(klass)(specs = specs, msg_id = msg['msg_id'])\n",
    "    return syft_msg_obj"
   ]
  },
  {
   "cell_type": "code",
   "execution_count": 4,
   "metadata": {},
   "outputs": [],
   "source": [
    "class PahoClient():\n",
    "\n",
    "    def __init__(self, host=\"localhost\", port=1883):\n",
    "        self.host = host\n",
    "        self.port = port\n",
    "        self.client = paho.Client()\n",
    "        self.client.on_subscribe = self.on_subscribe\n",
    "        self.client.on_message = self.on_message\n",
    "        self.client.on_publish = self.on_publish\n",
    "        self.client.on_log = self.on_log\n",
    "\n",
    "    def on_log(self, client, obj, level, string):\n",
    "        print(string)\n",
    "\n",
    "    def on_publish(self, client, userdata, mid):\n",
    "        pass\n",
    "    \n",
    "    def on_subscribe(self, client, userdata, mid, granted_qos):\n",
    "        print(\"Subscribed: \"+str(mid)+\" \"+str(granted_qos))\n",
    "\n",
    "    def on_message(self, client, userdata, msg):\n",
    "        print(msg.topic+\" \"+str(msg.qos)+\" \"+str(len(msg.payload)))        \n",
    "        to_process = deserialize_msg_from_json(msg.payload)\n",
    "        return self.processor(msg = to_process)\n",
    "\n",
    "    def send(self, topic, msg):\n",
    "        (rc, mid) = self.client.publish(topic, str(msg), qos=1, retain=False)\n",
    "\n",
    "    def connect(self):\n",
    "        self.client.connect(self.host, self.port)\n",
    "\n",
    "    def listen(self, topic, processor, background = True):\n",
    "        \n",
    "        self.processor = processor\n",
    "        \n",
    "        self.client.subscribe(topic, qos=1)\n",
    "        if not background:\n",
    "            self.client.loop_forever()\n",
    "        else:\n",
    "            self.client.loop_start()\n"
   ]
  },
  {
   "cell_type": "code",
   "execution_count": 5,
   "metadata": {},
   "outputs": [],
   "source": [
    "class BroadcastConnection(PahoClient, sy.core.io.connection.ClientConnection): \n",
    "    def send_msg_with_reply(self, topic, msg): \n",
    "        if not self.client.is_connected(): \n",
    "            self.connect() \n",
    "        self.send(topic, msg) \n",
    "    def send_msg_without_reply(self, topic, msg): \n",
    "        if not self.client.is_connected(): \n",
    "            self.connect() \n",
    "        self.send(topic, msg) \n",
    "              \n"
   ]
  },
  {
   "cell_type": "code",
   "execution_count": 6,
   "metadata": {},
   "outputs": [],
   "source": [
    "conn = BroadcastConnection()"
   ]
  },
  {
   "cell_type": "code",
   "execution_count": 7,
   "metadata": {},
   "outputs": [
    {
     "name": "stdout",
     "output_type": "stream",
     "text": [
      "Sending CONNECT (u0, p0, wr0, wq0, wf0, c1, k60) client_id=b''\n",
      "Sending PUBLISH (d0, q1, r0, m1), 'b'test'', ... (11 bytes)\n"
     ]
    }
   ],
   "source": [
    "conn.send_msg_without_reply('test', 'hello mqtt!')   "
   ]
  },
  {
   "cell_type": "markdown",
   "metadata": {},
   "source": [
    "If you had a mosquito client listening in your system, you'd hear the message!\n",
    "\n",
    "you can run the client like this, after you've installed it {insert installation link}\n",
    "> mosquitto_sub -t \"test\"\n"
   ]
  },
  {
   "cell_type": "markdown",
   "metadata": {},
   "source": [
    "now let's build a network and routes"
   ]
  },
  {
   "cell_type": "code",
   "execution_count": 8,
   "metadata": {},
   "outputs": [],
   "source": [
    "vm = sy.VirtualMachine(name = \"tf-cuda-vm\")\n",
    "device = sy.Device(name = \"home-pc\")\n",
    "domain = sy.Domain(name = \"Lisa\")\n",
    "network = sy.Network(name = \"science-team\")"
   ]
  },
  {
   "cell_type": "code",
   "execution_count": 9,
   "metadata": {},
   "outputs": [
    {
     "data": {
      "text/plain": [
       "<UID:edab7a65-7895-4aa2-8cb4-cef43c45da75>"
      ]
     },
     "execution_count": 9,
     "metadata": {},
     "output_type": "execute_result"
    }
   ],
   "source": [
    "domain.id"
   ]
  },
  {
   "cell_type": "code",
   "execution_count": 10,
   "metadata": {},
   "outputs": [],
   "source": [
    "# we are going to make them all talk over the pub-sub route\n",
    "broadcast_route_network_domain = sy.core.io.route.BroadcastRoute(topic = 'science-team', connection = conn)\n",
    "broadcast_route_domain_device = sy.core.io.route.BroadcastRoute(topic = 'lisa-devices', connection = conn)\n",
    "broadcast_route_device_vm = sy.core.io.route.BroadcastRoute(topic = 'home-pc', connection = conn)"
   ]
  },
  {
   "cell_type": "code",
   "execution_count": 11,
   "metadata": {},
   "outputs": [],
   "source": [
    "network_client = network.get_client(routes=[broadcast_route_network_domain])"
   ]
  },
  {
   "cell_type": "code",
   "execution_count": 12,
   "metadata": {},
   "outputs": [],
   "source": [
    "specs = sy.core.broadcast_message.BroadcastMessageSpecs(\n",
    "    {\n",
    "    'compute': 'heavy',\n",
    "    'data': ['fitness', 'heartrate'],\n",
    "    'model_type': 'neural-net',\n",
    "    'framework-type': 'tensorflow'\n",
    "    })\n",
    "msg = SyftBroadcastMessageWithoutReply(specs = specs)\n",
    "msg = json.dumps(msg.to_dict())"
   ]
  },
  {
   "cell_type": "code",
   "execution_count": 13,
   "metadata": {},
   "outputs": [
    {
     "name": "stdout",
     "output_type": "stream",
     "text": [
      "Sending CONNECT (u0, p0, wr0, wq0, wf0, c1, k60) client_id=b''\n",
      "Sending PUBLISH (d0, q1, r0, m2), 'b'science-team'', ... (186 bytes)\n"
     ]
    }
   ],
   "source": [
    "network_client.send_broadcast_msg_without_reply(msg = msg)"
   ]
  },
  {
   "cell_type": "markdown",
   "metadata": {},
   "source": [
    "let's run a domain client that can listen on messages coming from the network and can broadcast to devices"
   ]
  },
  {
   "cell_type": "code",
   "execution_count": 14,
   "metadata": {},
   "outputs": [],
   "source": [
    "domain_client = domain.get_client(routes=[broadcast_route_network_domain, broadcast_route_domain_device])"
   ]
  },
  {
   "cell_type": "code",
   "execution_count": 15,
   "metadata": {},
   "outputs": [
    {
     "data": {
      "text/plain": [
       "[science-team, lisa-devices]"
      ]
     },
     "execution_count": 15,
     "metadata": {},
     "output_type": "execute_result"
    }
   ],
   "source": [
    "domain_client.routes"
   ]
  },
  {
   "cell_type": "code",
   "execution_count": 16,
   "metadata": {},
   "outputs": [
    {
     "name": "stdout",
     "output_type": "stream",
     "text": [
      "Sending SUBSCRIBE (d0, m3) [(b'science-team', 1)]\n",
      "Received CONNACK (0, 0)\n",
      "Sending PUBLISH (d1, q1, r0, m1), 'b'test'', ... (11 bytes)\n",
      "Received PUBACK (Mid: 2)\n",
      "Received SUBACK\n",
      "Subscribed: 3 (1,)\n",
      "Received PUBACK (Mid: 1)\n"
     ]
    }
   ],
   "source": [
    "domain.listen_on_route(route = broadcast_route_network_domain)"
   ]
  },
  {
   "cell_type": "code",
   "execution_count": 17,
   "metadata": {},
   "outputs": [
    {
     "name": "stdout",
     "output_type": "stream",
     "text": [
      "Sending PUBLISH (d0, q1, r0, m4), 'b'science-team'', ... (186 bytes)\n",
      "Received PUBACK (Mid: 4)\n"
     ]
    }
   ],
   "source": [
    "network_client.send_broadcast_msg_without_reply(msg = msg)"
   ]
  },
  {
   "cell_type": "code",
   "execution_count": 18,
   "metadata": {},
   "outputs": [
    {
     "data": {
      "text/plain": [
       "[science-team]"
      ]
     },
     "execution_count": 18,
     "metadata": {},
     "output_type": "execute_result"
    },
    {
     "name": "stdout",
     "output_type": "stream",
     "text": [
      "Received PUBLISH (d0, q1, r0, m1), 'science-team', ...  (186 bytes)\n",
      "Sending PUBACK (Mid: 1)\n",
      "science-team 1 186\n",
      "got a broadcast message\n"
     ]
    }
   ],
   "source": [
    "network_client.routes"
   ]
  },
  {
   "cell_type": "code",
   "execution_count": null,
   "metadata": {},
   "outputs": [],
   "source": []
  }
 ],
 "metadata": {
  "kernelspec": {
   "display_name": "Python 3",
   "language": "python",
   "name": "python3"
  },
  "language_info": {
   "codemirror_mode": {
    "name": "ipython",
    "version": 3
   },
   "file_extension": ".py",
   "mimetype": "text/x-python",
   "name": "python",
   "nbconvert_exporter": "python",
   "pygments_lexer": "ipython3",
   "version": "3.8.3"
  }
 },
 "nbformat": 4,
 "nbformat_minor": 4
}

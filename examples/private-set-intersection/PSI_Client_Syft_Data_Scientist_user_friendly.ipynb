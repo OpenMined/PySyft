{
 "cells": [
  {
   "cell_type": "code",
   "execution_count": null,
   "metadata": {},
   "outputs": [],
   "source": [
    "%%capture\n",
    "!pip install openmined_psi"
   ]
  },
  {
   "cell_type": "code",
   "execution_count": null,
   "metadata": {},
   "outputs": [],
   "source": [
    "import syft as sy\n",
    "duet = sy.join_duet(loopback=True)"
   ]
  },
  {
   "cell_type": "code",
   "execution_count": null,
   "metadata": {},
   "outputs": [],
   "source": [
    "import openmined_psi as psi"
   ]
  },
  {
   "cell_type": "code",
   "execution_count": null,
   "metadata": {},
   "outputs": [],
   "source": [
    "class PsiClientDuet:\n",
    "    def __init__(self, duet, timeout_secs=-1):\n",
    "        self.duet = duet\n",
    "        \n",
    "        # get the reveal intersection flag and create a client\n",
    "        reveal_intersection_ptr = self.duet.store[\"reveal_intersection\"]\n",
    "        reveal_intersection = reveal_intersection_ptr.get(\n",
    "            request_block=True,\n",
    "            name=\"reveal_intersection\",\n",
    "            reason=\"Are we revealing or not?\",\n",
    "            timeout_secs=timeout_secs,\n",
    "            delete_obj=True\n",
    "        )\n",
    "        self.reveal_intersection = reveal_intersection\n",
    "        self.client = psi.client.CreateWithNewKey(reveal_intersection)\n",
    "        \n",
    "        # get the ServerSetup message\n",
    "        setup_ptr = self.duet.store[\"setup\"]\n",
    "        self.setup = setup_ptr.get(\n",
    "            request_block=True,\n",
    "            name=\"setup\",\n",
    "            reason=\"To get the server setup\",\n",
    "            timeout_secs=timeout_secs,\n",
    "            delete_obj=True\n",
    "        )\n",
    "\n",
    "    def intersect(self, client_items, timeout_secs=-1):\n",
    "        # send the client request to the server\n",
    "        self.duet.requests.add_handler(\n",
    "            name=\"request\",\n",
    "            action=\"accept\"\n",
    "        )\n",
    "        request = self.client.CreateRequest(client_items)\n",
    "        request_ptr = request.tag(\"request\").send(self.duet, pointable = True)\n",
    "        \n",
    "        # block until a response is received from the server\n",
    "        while True:\n",
    "            try:\n",
    "                self.duet.store[\"response\"]\n",
    "            except:\n",
    "                continue\n",
    "            \n",
    "            break\n",
    "        \n",
    "        # get the response from the server\n",
    "        response_ptr = self.duet.store[\"response\"]\n",
    "        response = response_ptr.get(\n",
    "            request_block=True,\n",
    "            name=\"response\",\n",
    "            reason=\"To get the response\",\n",
    "            timeout_secs=timeout_secs,\n",
    "            delete_obj=True\n",
    "        )\n",
    "        \n",
    "        # calculate the intersection\n",
    "        if self.reveal_intersection:\n",
    "            return self.client.GetIntersection(self.setup, response)\n",
    "        else:\n",
    "            return self.client.GetIntersectionSize(self.setup, response)"
   ]
  },
  {
   "cell_type": "code",
   "execution_count": null,
   "metadata": {},
   "outputs": [],
   "source": [
    "client_items = [\"Element \" + str(i) for i in range(1000)]"
   ]
  },
  {
   "cell_type": "code",
   "execution_count": null,
   "metadata": {},
   "outputs": [],
   "source": [
    "client = PsiClientDuet(duet)\n",
    "intersection = client.intersect(client_items)"
   ]
  },
  {
   "cell_type": "code",
   "execution_count": null,
   "metadata": {},
   "outputs": [],
   "source": [
    "if client.reveal_intersection:\n",
    "    iset = set(intersection)\n",
    "    for idx in range(len(client_items)):\n",
    "        if idx % 2 == 0:\n",
    "            assert idx in iset\n",
    "        else:\n",
    "            assert idx not in iset"
   ]
  },
  {
   "cell_type": "code",
   "execution_count": null,
   "metadata": {},
   "outputs": [],
   "source": [
    "if not client.reveal_intersection:\n",
    "    assert intersection >= (len(client_items) / 2.0)\n",
    "    assert intersection <= (1.1 * len(client_items) / 2.0)"
   ]
  }
 ],
 "metadata": {
  "kernelspec": {
   "display_name": "Python 3",
   "language": "python",
   "name": "python3"
  },
  "language_info": {
   "codemirror_mode": {
    "name": "ipython",
    "version": 3
   },
   "file_extension": ".py",
   "mimetype": "text/x-python",
   "name": "python",
   "nbconvert_exporter": "python",
   "pygments_lexer": "ipython3",
   "version": "3.8.5"
  }
 },
 "nbformat": 4,
 "nbformat_minor": 4
}

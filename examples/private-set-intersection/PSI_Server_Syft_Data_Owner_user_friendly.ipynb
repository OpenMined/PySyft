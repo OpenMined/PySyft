{
 "cells": [
  {
   "cell_type": "code",
   "execution_count": null,
   "metadata": {},
   "outputs": [],
   "source": [
    "%%capture\n",
    "!pip install openmined_psi"
   ]
  },
  {
   "cell_type": "code",
   "execution_count": null,
   "metadata": {},
   "outputs": [],
   "source": [
    "import syft as sy\n",
    "duet = sy.launch_duet(loopback=True)"
   ]
  },
  {
   "cell_type": "code",
   "execution_count": null,
   "metadata": {},
   "outputs": [],
   "source": [
    "import openmined_psi as psi"
   ]
  },
  {
   "cell_type": "code",
   "execution_count": null,
   "metadata": {},
   "outputs": [],
   "source": [
    "class PsiServerDuet:\n",
    "    def __init__(self, duet, server_items, reveal_intersection=False, fpr=1e-6):\n",
    "        # save a reference to the current duet session\n",
    "        self.duet = duet\n",
    "        \n",
    "        # send the reveal intersection flag to the client\n",
    "        self.duet.requests.add_handler(\n",
    "            name=\"reveal_intersection\",\n",
    "            action=\"accept\"\n",
    "        )\n",
    "        sy_reveal_intersection = sy.lib.python.Bool(reveal_intersection)\n",
    "        sy_reveal_intersection_ptr = sy_reveal_intersection.tag(\"reveal_intersection\").send(self.duet, pointable=True)\n",
    "        \n",
    "        # allow the client to access the false positive rate\n",
    "        self.duet.requests.add_handler(\n",
    "            name=\"fpr\",\n",
    "            action=\"accept\"\n",
    "        )\n",
    "        sy_fpr = sy.lib.python.Float(fpr)\n",
    "        sy_fpr_ptr = sy_fpr.tag(\"fpr\").send(self.duet, pointable=True)\n",
    "    \n",
    "        # start the server\n",
    "        self.server = psi.server.CreateWithNewKey(reveal_intersection)\n",
    "        \n",
    "        # send ServerSetup\n",
    "        self.duet.requests.add_handler(\n",
    "            name=\"setup\",\n",
    "            action=\"accept\"\n",
    "        )\n",
    "        setup = self.server.CreateSetupMessage(fpr, 1, server_items)\n",
    "        setup_ptr = setup.tag(\"setup\").send(self.duet, pointable=True)\n",
    "    \n",
    "    def accept(self, timeout_secs=-1):\n",
    "        # block until a request is received from the client\n",
    "        while True:\n",
    "            try:\n",
    "                self.duet.store[\"request\"]\n",
    "            except:\n",
    "                continue\n",
    "            \n",
    "            break\n",
    "        \n",
    "        # get the Request from the client\n",
    "        request_ptr = self.duet.store[\"request\"]\n",
    "        request = request_ptr.get(\n",
    "            request_block=True,\n",
    "            name=\"request\",\n",
    "            reason=\"To get the client request\",\n",
    "            timeout_secs=timeout_secs,\n",
    "            delete_obj=True\n",
    "        )\n",
    "        \n",
    "        # process the request and send Response to client\n",
    "        self.duet.requests.add_handler(\n",
    "            name=\"response\",\n",
    "            action=\"accept\"\n",
    "        )\n",
    "        response = self.server.ProcessRequest(request)\n",
    "        response_ptr = response.tag(\"response\").send(self.duet, pointable=True)"
   ]
  },
  {
   "cell_type": "code",
   "execution_count": null,
   "metadata": {},
   "outputs": [],
   "source": [
    "server_items = [\"Element \" + str(2 * i) for i in range(1000)]"
   ]
  },
  {
   "cell_type": "code",
   "execution_count": null,
   "metadata": {},
   "outputs": [],
   "source": [
    "server = PsiServerDuet(duet, server_items)\n",
    "# data owner has full control over the number of intersections that can be done\n",
    "server.accept()"
   ]
  }
 ],
 "metadata": {
  "kernelspec": {
   "display_name": "Python 3",
   "language": "python",
   "name": "python3"
  },
  "language_info": {
   "codemirror_mode": {
    "name": "ipython",
    "version": 3
   },
   "file_extension": ".py",
   "mimetype": "text/x-python",
   "name": "python",
   "nbconvert_exporter": "python",
   "pygments_lexer": "ipython3",
   "version": "3.8.5"
  }
 },
 "nbformat": 4,
 "nbformat_minor": 4
}

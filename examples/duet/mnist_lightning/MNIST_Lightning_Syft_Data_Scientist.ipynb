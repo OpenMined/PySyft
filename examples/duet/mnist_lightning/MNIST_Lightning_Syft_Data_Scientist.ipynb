{
 "cells": [
  {
   "cell_type": "markdown",
   "metadata": {},
   "source": [
    "# MNIST - Syft Duet - Data Scientist 🥁"
   ]
  },
  {
   "cell_type": "markdown",
   "metadata": {},
   "source": [
    "## PART 0: Optional - Google Colab Setup"
   ]
  },
  {
   "cell_type": "code",
   "execution_count": null,
   "metadata": {},
   "outputs": [],
   "source": [
    "%load_ext autoreload\n",
    "%autoreload 2"
   ]
  },
  {
   "cell_type": "markdown",
   "metadata": {},
   "source": [
    "## PART 1: Connect to a Remote Duet Server\n",
    "\n",
    "As the Data Scientist, you want to perform data science on data that is sitting in the Data Owner's Duet server in their Notebook.\n",
    "\n",
    "In order to do this, we must run the code that the Data Owner sends us, which importantly includes their Duet Session ID. The code will look like this, importantly with their real Server ID.\n",
    "\n",
    "```\n",
    "import syft as sy\n",
    "duet = sy.duet('xxxxxxxxxxxxxxxxxxxxxxxxxxxxxxxx')\n",
    "```\n",
    "\n",
    "This will create a direct connection from my notebook to the remote Duet server. Once the connection is established all traffic is sent directly between the two nodes.\n",
    "\n",
    "Paste the code or Server ID that the Data Owner gives you and run it in the cell below. It will return your Client ID which you must send to the Data Owner to enter into Duet so it can pair your notebooks."
   ]
  },
  {
   "cell_type": "code",
   "execution_count": null,
   "metadata": {},
   "outputs": [],
   "source": [
    "import syft as sy\n",
    "duet = sy.join_duet(loopback=True)"
   ]
  },
  {
   "cell_type": "markdown",
   "metadata": {},
   "source": [
    "## PART 2: Setting up a Model and our Data\n",
    "The majority of the code below has been adapted closely from the original PyTorch MNIST example which is available in the `original` directory with these notebooks."
   ]
  },
  {
   "cell_type": "markdown",
   "metadata": {},
   "source": [
    "The `duet` variable is now your reference to a whole world of remote operations including supported libraries like torch.\n",
    "\n",
    "Lets take a look at the duet.torch attribute.\n",
    "```\n",
    "duet.torch\n",
    "```"
   ]
  },
  {
   "cell_type": "code",
   "execution_count": null,
   "metadata": {},
   "outputs": [],
   "source": [
    "# duet.torch"
   ]
  },
  {
   "cell_type": "code",
   "execution_count": null,
   "metadata": {},
   "outputs": [],
   "source": [
    "from pytorch_lightning import Trainer, LightningModule\n",
    "import torch\n",
    "import torchvision"
   ]
  },
  {
   "cell_type": "markdown",
   "metadata": {},
   "source": [
    "Lets create a model just like the one in the MNIST example. We do this in almost the exact same way as in PyTorch. The main difference is we inherit from sy.Module instead of nn.Module and we need to pass in a variable called torch_ref which we will use internally for any calls that would normally be to torch."
   ]
  },
  {
   "cell_type": "code",
   "execution_count": null,
   "metadata": {},
   "outputs": [],
   "source": [
    "class SyNet(sy.Module):\n",
    "    def __init__(self, torch_ref):\n",
    "        super(SyNet, self).__init__(torch_ref=torch_ref)\n",
    "        self.conv1 = self.torch_ref.nn.Conv2d(1, 32, 3, 1)\n",
    "        self.conv2 = self.torch_ref.nn.Conv2d(32, 64, 3, 1) \n",
    "        self.dropout1 = self.torch_ref.nn.Dropout2d(0.25)\n",
    "        self.dropout2 = self.torch_ref.nn.Dropout2d(0.5)\n",
    "        self.fc1 = self.torch_ref.nn.Linear(9216, 128)\n",
    "        self.fc2 = self.torch_ref.nn.Linear(128, 10)\n",
    "\n",
    "    def forward(self, x):\n",
    "        x = self.conv1(x)\n",
    "        x = self.torch_ref.nn.functional.relu(x)\n",
    "        x = self.conv2(x)\n",
    "        x = self.torch_ref.nn.functional.relu(x)\n",
    "        x = self.torch_ref.nn.functional.max_pool2d(x, 2)\n",
    "        x = self.dropout1(x)\n",
    "        x = self.torch_ref.flatten(x, 1)\n",
    "        x = self.fc1(x)\n",
    "        x = self.torch_ref.nn.functional.relu(x)\n",
    "        x = self.dropout2(x)\n",
    "        x = self.fc2(x)\n",
    "        output = self.torch_ref.nn.functional.log_softmax(x, dim=1)\n",
    "        return output"
   ]
  },
  {
   "cell_type": "code",
   "execution_count": null,
   "metadata": {},
   "outputs": [],
   "source": [
    "class Model(LightningModule):\n",
    "    def __init__(self, local_torch, download_back=False, set_to_local=False):\n",
    "        super().__init__()\n",
    "        self.local_model = SyNet(local_torch)\n",
    "        self.remote_torch = duet.torch\n",
    "        self.local_torch = local_torch\n",
    "        self.download_back = download_back\n",
    "        self.set_to_local = set_to_local\n",
    "        self.get = self.local_model.get\n",
    "        self.send = self.local_model.send\n",
    "        \n",
    "    def is_remote(self):\n",
    "        # used to test out everything works locally\n",
    "        if self.set_to_local:\n",
    "            return False\n",
    "        elif not self.trainer.testing:\n",
    "            return True\n",
    "        elif self.trainer.evaluation_loop.testing:\n",
    "            return False\n",
    "        else:\n",
    "            return True\n",
    "    \n",
    "    @property \n",
    "    def torchvision(self):\n",
    "        return duet.torchvision if self.is_remote() else torchvision\n",
    "    \n",
    "    @property \n",
    "    def torch(self):\n",
    "        return self.remote_torch if self.is_remote() else self.local_torch\n",
    "    \n",
    "    @property\n",
    "    def model(self):\n",
    "        if self.is_remote():\n",
    "            return self.remote_model\n",
    "        else:\n",
    "            if self.download_back:\n",
    "                return self.get_model()\n",
    "            else:\n",
    "                return  self.local_model\n",
    "    \n",
    "    def send_model(self):\n",
    "        self.remote_model = self.local_model.send(duet)\n",
    "    \n",
    "    def get_model(self):\n",
    "        return self.remote_model.get(\n",
    "            request_block=True,\n",
    "            name=\"model_download\",\n",
    "            reason=\"test evaluation\",\n",
    "            timeout_secs=5\n",
    "        )      \n",
    "    \n",
    "    def forward(self, x):\n",
    "        return self.model(x)\n",
    "    \n",
    "    def loss(self, output, target):\n",
    "        return self.torch.nn.functional.nll_loss(output, target)\n",
    "    \n",
    "    def training_step(self, batch, batch_idx):\n",
    "        data_ptr, target_ptr = batch[0], batch[1]\n",
    "        output = self.forward(data_ptr)\n",
    "        loss = self.loss(output, target_ptr)\n",
    "        return loss\n",
    "    \n",
    "    def test_step(self, batch, batch_idx):\n",
    "        data, target = batch[0], batch[1]\n",
    "        output = self.forward(data)\n",
    "        loss = self.loss(output, target)\n",
    "        self.log(\"test_loss\", loss, on_step=True, on_epoch=True, prog_bar=True)\n",
    "    \n",
    "    def configure_optimizers(self):\n",
    "        optimizer = self.torch.optim.SGD(self.model.parameters(), lr=0.1)\n",
    "        return [optimizer]\n",
    "    \n",
    "    def get_transforms(self):\n",
    "        current_list = duet.python.List if self.is_remote() else list\n",
    "        transforms = current_list()\n",
    "        transforms.append(self.torchvision.transforms.ToTensor())\n",
    "        transforms.append(self.torchvision.transforms.Normalize(0.1307, 0.3081))\n",
    "        return self.torchvision.transforms.Compose(transforms)\n",
    "    \n",
    "    def train_dataloader(self):\n",
    "        transforms = self.get_transforms()\n",
    "        train_data_ptr = self.torchvision.datasets.MNIST('../data', train=True, download=True, transform=transforms)\n",
    "        train_loader_ptr = self.torch.utils.data.DataLoader(train_data_ptr, batch_size=64)\n",
    "        return train_loader_ptr\n",
    "    \n",
    "    def test_dataloader(self):\n",
    "        transforms = self.get_transforms()\n",
    "        test_data = self.torchvision.datasets.MNIST('../data', train=False, download=True, transform=transforms)\n",
    "        test_loader = self.torch.utils.data.DataLoader(test_data, batch_size=64)\n",
    "        return test_loader"
   ]
  },
  {
   "cell_type": "code",
   "execution_count": null,
   "metadata": {},
   "outputs": [],
   "source": [
    "model = Model(torch, download_back=False)"
   ]
  },
  {
   "cell_type": "code",
   "execution_count": null,
   "metadata": {},
   "outputs": [],
   "source": [
    "model.send_model()"
   ]
  },
  {
   "cell_type": "code",
   "execution_count": null,
   "metadata": {},
   "outputs": [],
   "source": [
    "# model.get_model()"
   ]
  },
  {
   "cell_type": "code",
   "execution_count": null,
   "metadata": {},
   "outputs": [],
   "source": [
    "trainer = Trainer(\n",
    "    checkpoint_callback=False,\n",
    "    default_root_dir='./tmp_data',\n",
    "    max_epochs=10,\n",
    "    limit_train_batches=10,\n",
    "    limit_test_batches=10,\n",
    ")"
   ]
  },
  {
   "cell_type": "code",
   "execution_count": null,
   "metadata": {},
   "outputs": [],
   "source": [
    "trainer.test(model)"
   ]
  },
  {
   "cell_type": "code",
   "execution_count": null,
   "metadata": {},
   "outputs": [],
   "source": [
    "trainer.fit(model)"
   ]
  },
  {
   "cell_type": "code",
   "execution_count": null,
   "metadata": {},
   "outputs": [],
   "source": [
    "model.download_back = True\n",
    "trainer.test(model)"
   ]
  },
  {
   "cell_type": "code",
   "execution_count": null,
   "metadata": {},
   "outputs": [],
   "source": []
  },
  {
   "cell_type": "code",
   "execution_count": null,
   "metadata": {},
   "outputs": [],
   "source": []
  }
 ],
 "metadata": {
  "kernelspec": {
   "display_name": "Python 3",
   "language": "python",
   "name": "python3"
  },
  "language_info": {
   "codemirror_mode": {
    "name": "ipython",
    "version": 3
   },
   "file_extension": ".py",
   "mimetype": "text/x-python",
   "name": "python",
   "nbconvert_exporter": "python",
   "pygments_lexer": "ipython3",
   "version": "3.8.6"
  },
  "pycharm": {
   "stem_cell": {
    "cell_type": "raw",
    "metadata": {
     "collapsed": false
    },
    "source": []
   }
  }
 },
 "nbformat": 4,
 "nbformat_minor": 4
}

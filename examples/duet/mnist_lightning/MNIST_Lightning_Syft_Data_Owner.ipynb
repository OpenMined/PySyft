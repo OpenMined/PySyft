{
 "cells": [
  {
   "cell_type": "markdown",
   "metadata": {},
   "source": [
    "# MNIST - Lightning ⚡️ Syft Duet - Data Owner 🎸"
   ]
  },
  {
   "cell_type": "markdown",
   "metadata": {},
   "source": [
    "## PART 1: Launch a Duet Server and Connect\n",
    "\n",
    "As a Data Owner, you want to allow someone else to perform data science on data that you own and likely want to protect.\n",
    "\n",
    "In order to do this, we must load our data into a locally running server within this notebook. We call this server a \"Duet\".\n",
    "\n",
    "To begin, you must launch Duet and help your Duet \"partner\" (a Data Scientist) connect to this server.\n",
    "\n",
    "You do this by running the code below and sending the code snippet containing your unique Server ID to your partner and following the instructions it gives!"
   ]
  },
  {
   "cell_type": "code",
   "execution_count": null,
   "metadata": {},
   "outputs": [],
   "source": [
    "# TorchVision hotfix https://github.com/pytorch/vision/issues/3549\n",
    "from syft.util import get_root_data_path\n",
    "from torchvision import datasets\n",
    "datasets.MNIST.resources = [\n",
    "    (\n",
    "        \"https://ossci-datasets.s3.amazonaws.com/mnist/train-images-idx3-ubyte.gz\",\n",
    "        \"f68b3c2dcbeaaa9fbdd348bbdeb94873\",\n",
    "    ),\n",
    "    (\n",
    "        \"https://ossci-datasets.s3.amazonaws.com/mnist/train-labels-idx1-ubyte.gz\",\n",
    "        \"d53e105ee54ea40749a09fcbcd1e9432\",\n",
    "    ),\n",
    "    (\n",
    "        \"https://ossci-datasets.s3.amazonaws.com/mnist/t10k-images-idx3-ubyte.gz\",\n",
    "        \"9fb629c4189551a2d022fa330f9573f3\",\n",
    "    ),\n",
    "    (\n",
    "        \"https://ossci-datasets.s3.amazonaws.com/mnist/t10k-labels-idx1-ubyte.gz\",\n",
    "        \"ec29112dd5afa0611ce80d1b7f02629c\",\n",
    "    ),\n",
    "]\n",
    "datasets.MNIST(get_root_data_path(), train=True, download=True)\n",
    "datasets.MNIST(get_root_data_path(), train=False, download=True)"
   ]
  },
  {
   "cell_type": "code",
   "execution_count": null,
   "metadata": {},
   "outputs": [],
   "source": [
    "import syft as sy\n",
    "duet = sy.launch_duet(loopback=True)\n",
    "sy.logger.add(sink=\"./syft_do.log\", level=\"DEBUG\")"
   ]
  },
  {
   "cell_type": "markdown",
   "metadata": {},
   "source": [
    "If you are in Jupyter Notebook (not Colab) the ☝🏾DUET LIVE STATUS above will animate "
   ]
  },
  {
   "cell_type": "markdown",
   "metadata": {},
   "source": [
    "## PART 2: Add Request Handlers"
   ]
  },
  {
   "cell_type": "markdown",
   "metadata": {},
   "source": [
    "The MNIST Data Science Notebook makes a number of requests to access data. You can view these requests with:  \n",
    "```\n",
    "duet.requests.pandas\n",
    "```\n",
    "Then manually accept or deny them with:\n",
    "```\n",
    "duet.requests[0].accept()\n",
    "```\n",
    "However for training loops this can be slow and tedious so the below code will create request handlers which will automatically respond with `accept` or `deny` depending on the name of the request."
   ]
  },
  {
   "cell_type": "code",
   "execution_count": null,
   "metadata": {},
   "outputs": [],
   "source": [
    "duet.requests.pandas"
   ]
  },
  {
   "cell_type": "code",
   "execution_count": null,
   "metadata": {},
   "outputs": [],
   "source": [
    "duet.requests.add_handler(\n",
    "    action=\"accept\"\n",
    ")"
   ]
  },
  {
   "cell_type": "code",
   "execution_count": null,
   "metadata": {},
   "outputs": [],
   "source": [
    "duet.store.pandas"
   ]
  },
  {
   "cell_type": "code",
   "execution_count": null,
   "metadata": {},
   "outputs": [],
   "source": []
  }
 ],
 "metadata": {
  "kernelspec": {
   "display_name": "Python 3",
   "language": "python",
   "name": "python3"
  },
  "language_info": {
   "codemirror_mode": {
    "name": "ipython",
    "version": 3
   },
   "file_extension": ".py",
   "mimetype": "text/x-python",
   "name": "python",
   "nbconvert_exporter": "python",
   "pygments_lexer": "ipython3",
   "version": "3.9.2"
  }
 },
 "nbformat": 4,
 "nbformat_minor": 4
}

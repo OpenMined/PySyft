{
 "cells": [
  {
   "cell_type": "code",
   "execution_count": null,
   "id": "embedded-elizabeth",
   "metadata": {},
   "outputs": [],
   "source": [
    "import syft as sy\n",
    "import torch\n",
    "from torchvision import datasets\n",
    "from torchvision import transforms\n",
    "from collections import OrderedDict\n",
    "import tenseal as ts\n",
    "sy.load(\"tenseal\")"
   ]
  },
  {
   "cell_type": "code",
   "execution_count": null,
   "id": "civilian-display",
   "metadata": {},
   "outputs": [
    {
     "name": "stdout",
     "output_type": "stream",
     "text": [
      "♫♫♫ > DUET LIVE STATUS  -  Objects: 1  Requests: 0   Messages: 27  Request Handlers: 1                                \r"
     ]
    }
   ],
   "source": [
    "duet = sy.duet(loopback=True)"
   ]
  },
  {
   "cell_type": "code",
   "execution_count": 4,
   "id": "conditional-canvas",
   "metadata": {},
   "outputs": [],
   "source": [
    "duet.requests.add_handler(action=\"accept\")"
   ]
  },
  {
   "cell_type": "markdown",
   "id": "breathing-myanmar",
   "metadata": {},
   "source": [
    "### <img src=\"https://github.com/OpenMined/design-assets/raw/master/logos/OM/mark-primary-light.png\" alt=\"he-black-box\" width=\"100\"/> Checkpoint 1 : Now STOP and run the Data Scientist notebook until the same checkpoint."
   ]
  },
  {
   "cell_type": "code",
   "execution_count": 5,
   "id": "focused-suspension",
   "metadata": {},
   "outputs": [],
   "source": [
    "mnist_mean = 0.1307\n",
    "mnist_std = 0.3081\n",
    "batch_size = 64\n",
    "epochs = 10\n",
    "lr = 0.1\n",
    "sigma = 1.0\n",
    "max_per_sample_grad_norm = 1.0\n",
    "delta = 1e-5\n",
    "root = \".\"\n",
    "weights_filename = \"mnist_cnn_weights.pt\"\n",
    "device = torch.device(\"cpu\")\n",
    "\n",
    "test_loader = torch.utils.data.DataLoader(\n",
    "    datasets.MNIST(\n",
    "        root,\n",
    "        train=False,\n",
    "        download=True,\n",
    "        transform=transforms.Compose(\n",
    "            [\n",
    "                transforms.ToTensor(),\n",
    "                transforms.Normalize((mnist_mean,), (mnist_std,)),\n",
    "            ]\n",
    "        ),\n",
    "    ),\n",
    "    batch_size=100,\n",
    "    shuffle=True,\n",
    "    num_workers = 1,\n",
    "    pin_memory = True\n",
    ")"
   ]
  },
  {
   "cell_type": "code",
   "execution_count": 6,
   "id": "disabled-bracket",
   "metadata": {},
   "outputs": [],
   "source": [
    "from torch import nn\n",
    "\n",
    "# this shouldn't be here, but can't make it work\n",
    "class ConvolutionalBase(torch.nn.Module):\n",
    "    def __init__(self):\n",
    "        super().__init__()\n",
    "        self.conv1 = nn.Conv2d(1, 16, 8, 2, padding=3)\n",
    "        self.conv2 = nn.Conv2d(16, 32, 4, 2)\n",
    "        \n",
    "    def forward(self, x):\n",
    "        x = nn.functional.relu(self.conv1(x))\n",
    "        x = nn.functional.max_pool2d(x, 2, 1)\n",
    "        x = nn.functional.relu(self.conv2(x))\n",
    "        x = nn.functional.max_pool2d(x, 2, 1)\n",
    "        x = x.view(-1, 32 * 4 * 4)\n",
    "        return x"
   ]
  },
  {
   "cell_type": "code",
   "execution_count": 7,
   "id": "trying-vatican",
   "metadata": {},
   "outputs": [],
   "source": [
    "conv_base_names = duet.store[\"conv_base_names\"].get()\n",
    "conv_base_weights = duet.store[\"conv_base_weights\"].get()"
   ]
  },
  {
   "cell_type": "code",
   "execution_count": 8,
   "id": "massive-ballot",
   "metadata": {},
   "outputs": [
    {
     "data": {
      "text/plain": [
       "<All keys matched successfully>"
      ]
     },
     "execution_count": 8,
     "metadata": {},
     "output_type": "execute_result"
    }
   ],
   "source": [
    "conv_base_state_dict = OrderedDict()\n",
    "\n",
    "for conv_base_name, conv_base_weight in zip(conv_base_names, conv_base_weights):\n",
    "    conv_base_state_dict[conv_base_name] = conv_base_weight\n",
    "\n",
    "conv_base = ConvolutionalBase()\n",
    "conv_base.load_state_dict(conv_base_state_dict)"
   ]
  },
  {
   "cell_type": "code",
   "execution_count": 9,
   "id": "liked-aerospace",
   "metadata": {},
   "outputs": [
    {
     "name": "stderr",
     "output_type": "stream",
     "text": [
      "/home/tudor/anaconda3/envs/om_work/lib/python3.7/site-packages/torch/cuda/__init__.py:52: UserWarning: CUDA initialization: Found no NVIDIA driver on your system. Please check that you have an NVIDIA GPU and installed a driver from http://www.nvidia.com/Download/index.aspx (Triggered internally at  /pytorch/c10/cuda/CUDAFunctions.cpp:100.)\n",
      "  return torch._C._cuda_getDeviceCount() > 0\n"
     ]
    }
   ],
   "source": [
    "secret_data, secret_labels = next(iter(test_loader))\n",
    "test_batch_size = 1\n",
    "offset = 20\n",
    "data_sample = secret_data[offset: offset + test_batch_size]\n",
    "label_sample = secret_labels[offset: offset + test_batch_size]\n",
    "\n",
    "batch_size_ptr = sy.lib.python.Int(test_batch_size).send(duet, searchable=True, tags=[\"batch_size\"])"
   ]
  },
  {
   "cell_type": "code",
   "execution_count": 10,
   "id": "entire-offset",
   "metadata": {},
   "outputs": [],
   "source": [
    "intermediary_activation_data_sample = conv_base(data_sample)"
   ]
  },
  {
   "cell_type": "code",
   "execution_count": 11,
   "id": "sticky-favorite",
   "metadata": {},
   "outputs": [],
   "source": [
    "def create_ctx():\n",
    "    poly_mod_degree = 8192\n",
    "    coeff_mod_bit_sizes = [40, 21, 21, 21, 21, 40]\n",
    "    ctx = ts.context(ts.SCHEME_TYPE.CKKS, poly_mod_degree, -1, coeff_mod_bit_sizes)\n",
    "    ctx.global_scale = 2 ** 21\n",
    "    return ctx\n",
    "\n",
    "def prepare_encrypted_activation(context, activation_sample):\n",
    "    return ts.ckks_tensor(context, activation_sample.detach().numpy())"
   ]
  },
  {
   "cell_type": "code",
   "execution_count": 12,
   "id": "threaded-slave",
   "metadata": {},
   "outputs": [],
   "source": [
    "context = create_ctx()\n",
    "ctx_ptr = context.send(duet, searchable=True, tags=[\"context\"])"
   ]
  },
  {
   "cell_type": "code",
   "execution_count": 13,
   "id": "cutting-product",
   "metadata": {},
   "outputs": [],
   "source": [
    "encrypted_activation = prepare_encrypted_activation(context, intermediary_activation_data_sample)\n",
    "encrypted_activation_ptr = encrypted_activation.send(duet, searchable=True, tags=[\"encrypted_activation\"])"
   ]
  },
  {
   "cell_type": "code",
   "execution_count": 14,
   "id": "embedded-scottish",
   "metadata": {},
   "outputs": [
    {
     "data": {
      "text/html": [
       "<div>\n",
       "<style scoped>\n",
       "    .dataframe tbody tr th:only-of-type {\n",
       "        vertical-align: middle;\n",
       "    }\n",
       "\n",
       "    .dataframe tbody tr th {\n",
       "        vertical-align: top;\n",
       "    }\n",
       "\n",
       "    .dataframe thead th {\n",
       "        text-align: right;\n",
       "    }\n",
       "</style>\n",
       "<table border=\"1\" class=\"dataframe\">\n",
       "  <thead>\n",
       "    <tr style=\"text-align: right;\">\n",
       "      <th></th>\n",
       "      <th>ID</th>\n",
       "      <th>Tags</th>\n",
       "      <th>Description</th>\n",
       "      <th>object_type</th>\n",
       "    </tr>\n",
       "  </thead>\n",
       "  <tbody>\n",
       "    <tr>\n",
       "      <th>0</th>\n",
       "      <td>&lt;UID: 0bb0c69c82ba43eabdd8cf77159492f7&gt;</td>\n",
       "      <td>[batch_size]</td>\n",
       "      <td></td>\n",
       "      <td>&lt;class 'syft.lib.python.Int'&gt;</td>\n",
       "    </tr>\n",
       "    <tr>\n",
       "      <th>1</th>\n",
       "      <td>&lt;UID: db5832272cfd4dea8f41c29d474a1e78&gt;</td>\n",
       "      <td>[context]</td>\n",
       "      <td></td>\n",
       "      <td>&lt;class 'tenseal.enc_context.Context'&gt;</td>\n",
       "    </tr>\n",
       "    <tr>\n",
       "      <th>2</th>\n",
       "      <td>&lt;UID: de970c286e4342f49c90e75244817713&gt;</td>\n",
       "      <td>[encrypted_activation]</td>\n",
       "      <td></td>\n",
       "      <td>&lt;class 'tenseal.tensors.ckkstensor.CKKSTensor'&gt;</td>\n",
       "    </tr>\n",
       "  </tbody>\n",
       "</table>\n",
       "</div>"
      ],
      "text/plain": [
       "                                        ID                    Tags  \\\n",
       "0  <UID: 0bb0c69c82ba43eabdd8cf77159492f7>            [batch_size]   \n",
       "1  <UID: db5832272cfd4dea8f41c29d474a1e78>               [context]   \n",
       "2  <UID: de970c286e4342f49c90e75244817713>  [encrypted_activation]   \n",
       "\n",
       "  Description                                      object_type  \n",
       "0                                <class 'syft.lib.python.Int'>  \n",
       "1                        <class 'tenseal.enc_context.Context'>  \n",
       "2              <class 'tenseal.tensors.ckkstensor.CKKSTensor'>  "
      ]
     },
     "execution_count": 14,
     "metadata": {},
     "output_type": "execute_result"
    }
   ],
   "source": [
    "duet.store.pandas"
   ]
  },
  {
   "cell_type": "markdown",
   "id": "handled-worst",
   "metadata": {},
   "source": [
    "### <img src=\"https://github.com/OpenMined/design-assets/raw/master/logos/OM/mark-primary-light.png\" alt=\"he-black-box\" width=\"100\"/> Checkpoint 2 : Now STOP and run the Data Scientist notebook until the same checkpoint."
   ]
  },
  {
   "cell_type": "code",
   "execution_count": null,
   "id": "invisible-conversation",
   "metadata": {},
   "outputs": [],
   "source": [
    "result = duet.store[\"result\"].get(delete_obj=False)\n",
    "result.link_context(context)\n",
    "\n",
    "result = result.decrypt()"
   ]
  },
  {
   "cell_type": "code",
   "execution_count": null,
   "id": "secondary-glucose",
   "metadata": {},
   "outputs": [],
   "source": [
    "probs = torch.nn.functional.softmax(torch.tensor(result.tolist()), dim=1)\n",
    "label_max = torch.argmax(probs, dim=1)\n",
    "\n",
    "print(f\"Maximum probability for label {label_max} with true_label {label_sample}\")"
   ]
  },
  {
   "cell_type": "markdown",
   "id": "varied-joyce",
   "metadata": {},
   "source": [
    "### <img src=\"https://github.com/OpenMined/design-assets/raw/master/logos/OM/mark-primary-light.png\" alt=\"he-black-box\" width=\"100\"/> Checkpoint 3 : Well done!"
   ]
  },
  {
   "cell_type": "markdown",
   "id": "metallic-effectiveness",
   "metadata": {},
   "source": [
    "# Congratulations!!! - Time to Join the Community!\n",
    "\n",
    "Congratulations on completing this notebook tutorial! If you enjoyed this and would like to join the movement toward privacy preserving, decentralized ownership of AI and the AI supply chain (data), you can do so in the following ways!\n",
    "\n",
    "### Star PySyft on GitHub\n",
    "\n",
    "The easiest way to help our community is just by starring the Repos! This helps raise awareness of the cool tools we're building.\n",
    "\n",
    "- [Star PySyft](https://github.com/OpenMined/PySyft)\n",
    "\n",
    "### Join our Slack!\n",
    "\n",
    "The best way to keep up to date on the latest advancements is to join our community! You can do so by filling out the form at [http://slack.openmined.org](http://slack.openmined.org). #lib_tenseal and #code_tenseal are the main channels for the TenSEAL project.\n",
    "\n",
    "### Donate\n",
    "\n",
    "If you don't have time to contribute to our codebase, but would still like to lend support, you can also become a Backer on our Open Collective. All donations go toward our web hosting and other community expenses such as hackathons and meetups!\n",
    "\n",
    "[OpenMined's Open Collective Page](https://opencollective.com/openmined)"
   ]
  },
  {
   "cell_type": "code",
   "execution_count": null,
   "id": "considered-frost",
   "metadata": {},
   "outputs": [],
   "source": []
  }
 ],
 "metadata": {
  "kernelspec": {
   "display_name": "Python [conda env:om_work] *",
   "language": "python",
   "name": "conda-env-om_work-py"
  },
  "language_info": {
   "codemirror_mode": {
    "name": "ipython",
    "version": 3
   },
   "file_extension": ".py",
   "mimetype": "text/x-python",
   "name": "python",
   "nbconvert_exporter": "python",
   "pygments_lexer": "ipython3",
   "version": "3.7.9"
  }
 },
 "nbformat": 4,
 "nbformat_minor": 5
}

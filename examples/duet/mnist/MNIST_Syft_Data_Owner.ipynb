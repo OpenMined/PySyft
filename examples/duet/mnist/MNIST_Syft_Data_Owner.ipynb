{
 "cells": [
  {
   "cell_type": "markdown",
   "metadata": {},
   "source": [
    "# MNIST Syft Data Owner"
   ]
  },
  {
   "cell_type": "code",
   "execution_count": null,
   "metadata": {},
   "outputs": [],
   "source": [
    "%%capture\n",
    "# this only runs in colab and clones the code sets it up and fixes a few issues\n",
    "import sys\n",
    "if \"google.colab\" in sys.modules:\n",
    "    branch = \"demo\"    # change to the branch you want\n",
    "    ! git clone --single-branch --branch $branch https://github.com/OpenMined/PySyft.git\n",
    "    ! cd PySyft && ./scripts/colab.sh.     # fixes some colab python issues\n",
    "    sys.path.append(\"/content/PySyft/src\") # prevents needing restart"
   ]
  },
  {
   "cell_type": "code",
   "execution_count": null,
   "metadata": {},
   "outputs": [],
   "source": [
    "import syft as sy\n",
    "sy.LOG_FILE = \"syft_do.log\"\n",
    "_ = sy.logger.add(sy.LOG_FILE, enqueue=True, colorize=False, diagnose=True, backtrace=True, level=\"TRACE\")"
   ]
  },
  {
   "cell_type": "markdown",
   "metadata": {},
   "source": [
    "# PART 1: Launch a Duet Server and Connect\n",
    "\n",
    "As a data owner, you want to allow someone else to perform data science on data that you own and likely want to protect.\n",
    "\n",
    "In order to do this, we must load our data into a locally running server (within this notebook).\n",
    "We call this server a \"Duet\".\n",
    "\n",
    "To begin, you must launch Duet and help your Duet \"partner\" (a data scientist) connect to this server.\n",
    "\n",
    "You do this by running the code below and following the instructions it gives!"
   ]
  },
  {
   "cell_type": "code",
   "execution_count": null,
   "metadata": {},
   "outputs": [],
   "source": [
    "# duet = sy.launch_duet(loopback=True)\n",
    "duet = sy.duet()"
   ]
  },
  {
   "cell_type": "code",
   "execution_count": null,
   "metadata": {},
   "outputs": [],
   "source": [
    "# accept all incoming requests named age_data, print and log them\n",
    "duet.requests.add_handler(\n",
    "    name=\"age_data\",\n",
    "    action=\"accept\",\n",
    "    element_quota=100,\n",
    ")"
   ]
  },
  {
   "cell_type": "code",
   "execution_count": null,
   "metadata": {},
   "outputs": [],
   "source": [
    "duet.requests.add_handler(\n",
    "    name=\"cuda_is_available\",\n",
    "    action=\"accept\"\n",
    ")\n",
    "\n",
    "duet.requests.add_handler(\n",
    "    name=\"loss\",\n",
    "    action=\"deny\",\n",
    "    timeout_secs=-1,\n",
    "    print_local=True,\n",
    "    log_local=True\n",
    ")\n",
    "\n",
    "duet.requests.add_handler(\n",
    "    name=\"train_size\",\n",
    "    action=\"accept\"\n",
    ")\n",
    "\n",
    "duet.requests.add_handler(\n",
    "    name=\"inference\",\n",
    "    action=\"accept\"\n",
    ")\n",
    "\n",
    "duet.requests.add_handler(\n",
    "    name=\"model_download\",\n",
    "    action=\"accept\"\n",
    ")"
   ]
  },
  {
   "cell_type": "code",
   "execution_count": null,
   "metadata": {},
   "outputs": [],
   "source": [
    "duet.requests.remove_handler(\n",
    "    name=\"model_download\",\n",
    "    action=\"accept\"\n",
    ")"
   ]
  },
  {
   "cell_type": "code",
   "execution_count": null,
   "metadata": {},
   "outputs": [],
   "source": [
    "duet.requests.handlers"
   ]
  },
  {
   "cell_type": "code",
   "execution_count": null,
   "metadata": {},
   "outputs": [],
   "source": [
    "for handler in duet.requests.handlers:\n",
    "    new_dict = {}\n",
    "    del handler[\"created_time\"]\n",
    "    for k, v in handler.items():\n",
    "        new_dict[str(k)] = v\n",
    "    duet.requests.remove_handler(**new_dict)"
   ]
  },
  {
   "cell_type": "code",
   "execution_count": null,
   "metadata": {},
   "outputs": [],
   "source": [
    "# deny all incoming requests, print and log them\n",
    "deny_handler = {\n",
    "    \"name\": \"loss\",\n",
    "    \"timeout_secs\": -1,\n",
    "    \"action\": \"deny\",\n",
    "    \"print_local\": True,\n",
    "    \"log_local\": True\n",
    "}\n",
    "duet.requests.remove_handler(deny_handler)"
   ]
  },
  {
   "cell_type": "code",
   "execution_count": null,
   "metadata": {},
   "outputs": [],
   "source": [
    "accept_handler = {\n",
    "    \"name\": \"loss\",\n",
    "    \"timeout_secs\": -1,\n",
    "    \"action\": \"accept\"\n",
    "}\n",
    "duet.requests.add_handler(accept_handler)"
   ]
  },
  {
   "cell_type": "code",
   "execution_count": null,
   "metadata": {},
   "outputs": [],
   "source": [
    "a = duet.torch.Tensor([1,2 , 3])\n",
    "print(a, type(a))"
   ]
  },
  {
   "cell_type": "code",
   "execution_count": null,
   "metadata": {},
   "outputs": [],
   "source": [
    "type(a).pointer_name"
   ]
  },
  {
   "cell_type": "code",
   "execution_count": null,
   "metadata": {},
   "outputs": [],
   "source": [
    "a.pointer_name"
   ]
  },
  {
   "cell_type": "code",
   "execution_count": null,
   "metadata": {},
   "outputs": [],
   "source": [
    "print(\"done\")"
   ]
  },
  {
   "cell_type": "code",
   "execution_count": null,
   "metadata": {},
   "outputs": [],
   "source": [
    "print(\"done\")"
   ]
  },
  {
   "cell_type": "code",
   "execution_count": null,
   "metadata": {},
   "outputs": [],
   "source": [
    "# # accept all incoming requests, print and log them\n",
    "# accept_handler = {\n",
    "#     \"timeout_secs\": -1,\n",
    "#     \"action\": \"accept\",\n",
    "#     \"print_local\": True,\n",
    "#     \"log_local\": True\n",
    "# }\n",
    "# duet.requests.add_handler(accept_handler)"
   ]
  },
  {
   "cell_type": "markdown",
   "metadata": {},
   "source": [
    "If you are in Jupyter Notebook (not Colab) the ☝🏾DUET LIVE STATUS above will animate "
   ]
  },
  {
   "cell_type": "markdown",
   "metadata": {},
   "source": [
    "# PART 2: Launch a Duet Server and Connect"
   ]
  },
  {
   "cell_type": "code",
   "execution_count": null,
   "metadata": {},
   "outputs": [],
   "source": [
    "import torch as th\n",
    "import torchvision as tv"
   ]
  },
  {
   "cell_type": "code",
   "execution_count": null,
   "metadata": {},
   "outputs": [],
   "source": [
    "# # let's pretend we have a tensor of human ages\n",
    "# age_data = th.rand((9216, 128)) # not working too big??\n",
    "# import sys\n",
    "# sys.getsizeof(age_data)"
   ]
  },
  {
   "cell_type": "code",
   "execution_count": null,
   "metadata": {},
   "outputs": [],
   "source": [
    "# age_data = th.rand((9216, 128)) # works Wall time: 19.4 s\n"
   ]
  },
  {
   "cell_type": "code",
   "execution_count": null,
   "metadata": {},
   "outputs": [],
   "source": [
    "# age_data = th.rand((4608, 128))   # 589824 params # works Wall time: 24.7 s\n",
    "# age_data = th.rand((10, 1))   # params # works Wall time: 24.7 s\n",
    "age_data = th.rand((1, 1)) # works Wall time: 46.6 s\n",
    "print(age_data.nelement())\n",
    "age_data = age_data.tag(f\"size_{age_data.nelement()}\")\n",
    "age_data_pointer = age_data.send(duet, searchable=True)\n",
    "\n",
    "# Let's tag it as \"age data\"\n",
    "\n",
    "\n",
    "# # Let's add a description to the tensor\n",
    "# age_data = age_data.describe(\"This is a list of people's ages. Let's keep it private!\")\n",
    "\n",
    "# # Let's UPLOAD THE DATA to the Duet server!\n",
    "# age_data_pointer = age_data.send(duet, searchable=True)"
   ]
  },
  {
   "cell_type": "code",
   "execution_count": null,
   "metadata": {},
   "outputs": [],
   "source": [
    "age_data = th.rand((1, 1)) # works Wall time: 46.6 s\n",
    "age_data = age_data.tag(\"testes\")\n",
    "age_data_pointer = age_data.send(duet, searchable=True)"
   ]
  },
  {
   "cell_type": "code",
   "execution_count": null,
   "metadata": {},
   "outputs": [],
   "source": [
    "duet.store.pandas"
   ]
  },
  {
   "cell_type": "code",
   "execution_count": null,
   "metadata": {
    "scrolled": true
   },
   "outputs": [],
   "source": [
    "print(type(duet.store))"
   ]
  },
  {
   "cell_type": "code",
   "execution_count": null,
   "metadata": {},
   "outputs": [],
   "source": [
    "duet.store[\"f5f6bf32de134e84af8a1a25e3e8bb31\"]"
   ]
  },
  {
   "cell_type": "code",
   "execution_count": null,
   "metadata": {},
   "outputs": [],
   "source": [
    "duet.requests.remove_handler(accept_handler)"
   ]
  },
  {
   "cell_type": "code",
   "execution_count": null,
   "metadata": {},
   "outputs": [],
   "source": [
    "# accept all incoming requests, print and log them\n",
    "deny_handler = {\n",
    "    \"timeout_secs\": 10,\n",
    "    \"action\": \"deny\",\n",
    "    \"print_local\": True,\n",
    "    \"log_local\": True\n",
    "}\n",
    "duet.requests.add_handler(deny_handler)"
   ]
  },
  {
   "cell_type": "code",
   "execution_count": null,
   "metadata": {},
   "outputs": [],
   "source": [
    "duet.requests.remove_handler(deny_handler)"
   ]
  },
  {
   "cell_type": "code",
   "execution_count": null,
   "metadata": {},
   "outputs": [],
   "source": [
    "duet.requests.pandas"
   ]
  },
  {
   "cell_type": "code",
   "execution_count": null,
   "metadata": {},
   "outputs": [],
   "source": [
    "print(duet.requests)\n",
    "if len(duet.requests.requests) > 0:\n",
    "    duet.requests[0].approve()\n",
    "duet.requests.pandas    "
   ]
  },
  {
   "cell_type": "code",
   "execution_count": null,
   "metadata": {},
   "outputs": [],
   "source": [
    "\n",
    "\n",
    "print(\"done\")"
   ]
  },
  {
   "cell_type": "code",
   "execution_count": null,
   "metadata": {},
   "outputs": [],
   "source": []
  }
 ],
 "metadata": {
  "kernelspec": {
   "display_name": "Python 3",
   "language": "python",
   "name": "python3"
  },
  "language_info": {
   "codemirror_mode": {
    "name": "ipython",
    "version": 3
   },
   "file_extension": ".py",
   "mimetype": "text/x-python",
   "name": "python",
   "nbconvert_exporter": "python",
   "pygments_lexer": "ipython3",
   "version": "3.8.6"
  }
 },
 "nbformat": 4,
 "nbformat_minor": 4
}

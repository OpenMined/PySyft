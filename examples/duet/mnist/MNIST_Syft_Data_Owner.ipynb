{
 "cells": [
  {
   "cell_type": "markdown",
   "metadata": {},
   "source": [
    "# MNIST - Syft Duet - Data Owner 🎸"
   ]
  },
  {
   "cell_type": "markdown",
   "metadata": {},
   "source": [
    "## PART 0: Optional - Google Colab Setup"
   ]
  },
  {
   "cell_type": "code",
   "execution_count": null,
   "metadata": {},
   "outputs": [],
   "source": [
    "%%capture\n",
    "# This only runs in colab and clones the code sets it up and fixes a few issues, \n",
    "# you can skip this if you are running Jupyter Notebooks\n",
    "import sys\n",
    "if \"google.colab\" in sys.modules:\n",
    "    branch = \"master\"    # change to the branch you want\n",
    "    ! git clone --single-branch --branch $branch https://github.com/OpenMined/PySyft.git\n",
    "    ! cd PySyft && ./scripts/colab.sh      # fixes some colab python issues\n",
    "    sys.path.append(\"/content/PySyft/src\") # prevents needing restart"
   ]
  },
  {
   "cell_type": "markdown",
   "metadata": {},
   "source": [
    "## PART 1: Launch a Duet Server and Connect\n",
    "\n",
    "As a Data Owner, you want to allow someone else to perform data science on data that you own and likely want to protect.\n",
    "\n",
    "In order to do this, we must load our data into a locally running server within this notebook. We call this server a \"Duet\".\n",
    "\n",
    "To begin, you must launch Duet and help your Duet \"partner\" (a Data Scientist) connect to this server.\n",
    "\n",
    "You do this by running the code below and sending the code snippit containing your unqiue Server ID to your partner and following the instructions it gives!"
   ]
  },
  {
   "cell_type": "code",
   "execution_count": null,
   "metadata": {},
   "outputs": [],
   "source": [
    "import syft as sy\n",
    "duet = sy.launch_duet()\n",
    "sy.logging(file_path=\"./syft_do.log\")"
   ]
  },
  {
   "cell_type": "markdown",
   "metadata": {},
   "source": [
    "If you are in Jupyter Notebook (not Colab) the ☝🏾DUET LIVE STATUS above will animate "
   ]
  },
  {
   "cell_type": "markdown",
   "metadata": {},
   "source": [
    "## PART 2: Add Request Handlers"
   ]
  },
  {
   "cell_type": "markdown",
   "metadata": {},
   "source": [
    "The MNIST Data Science Notebook makes a number of requests to access data. You can view these requests with:  \n",
    "```\n",
    "duet.requests.pandas\n",
    "```\n",
    "Then manually accept or deny them with:\n",
    "```\n",
    "duet.requests[0].accept()\n",
    "```\n",
    "However for training loops this can be slow and tedious so the below code will create request handlers which will automatically respond with `accept` or `deny` depending on the name of the request."
   ]
  },
  {
   "cell_type": "code",
   "execution_count": null,
   "metadata": {},
   "outputs": [],
   "source": [
    "duet.requests.pandas"
   ]
  },
  {
   "cell_type": "code",
   "execution_count": null,
   "metadata": {},
   "outputs": [],
   "source": [
    "# duet.requests[0].accept()"
   ]
  },
  {
   "cell_type": "code",
   "execution_count": null,
   "metadata": {},
   "outputs": [],
   "source": [
    "duet.requests.add_handler(\n",
    "    name=\"cuda_is_available\",\n",
    "    action=\"accept\"\n",
    ")\n",
    "\n",
    "duet.requests.add_handler(\n",
    "    name=\"loss\",\n",
    "    action=\"deny\",\n",
    "    timeout_secs=-1,  # no timeout\n",
    "    print_local=True  # print the result in your notebook\n",
    ")\n",
    "\n",
    "duet.requests.add_handler(\n",
    "    name=\"train_size\",\n",
    "    action=\"accept\"\n",
    ")\n",
    "\n",
    "duet.requests.add_handler(\n",
    "    name=\"inference\",\n",
    "    action=\"accept\"\n",
    ")\n",
    "\n",
    "duet.requests.add_handler(\n",
    "    name=\"model_download\",\n",
    "    action=\"accept\"\n",
    ")"
   ]
  },
  {
   "cell_type": "markdown",
   "metadata": {},
   "source": [
    "You can view the existing handlers which are in place with:\n",
    "```\n",
    "duet.requests.handlers\n",
    "```\n",
    "\n",
    "If you wish to clear the handlers simply run:\n",
    "```\n",
    "duet.requests.clear_handlers()\n",
    "```"
   ]
  },
  {
   "cell_type": "code",
   "execution_count": null,
   "metadata": {},
   "outputs": [],
   "source": [
    "duet.requests.handlers"
   ]
  },
  {
   "cell_type": "code",
   "execution_count": null,
   "metadata": {},
   "outputs": [],
   "source": [
    "# duet.requests.clear_handlers()"
   ]
  },
  {
   "cell_type": "code",
   "execution_count": null,
   "metadata": {},
   "outputs": [],
   "source": []
  }
 ],
 "metadata": {
  "kernelspec": {
   "display_name": "Python 3",
   "language": "python",
   "name": "python3"
  },
  "language_info": {
   "codemirror_mode": {
    "name": "ipython",
    "version": 3
   },
   "file_extension": ".py",
   "mimetype": "text/x-python",
   "name": "python",
   "nbconvert_exporter": "python",
   "pygments_lexer": "ipython3",
   "version": "3.8.6"
  }
 },
 "nbformat": 4,
 "nbformat_minor": 4
}

{
 "cells": [
  {
   "cell_type": "markdown",
   "metadata": {},
   "source": [
    "# MNIST Syft Data Owner"
   ]
  },
  {
   "cell_type": "code",
   "execution_count": null,
   "metadata": {},
   "outputs": [],
   "source": [
    "import syft as sy\n",
    "sy.VERBOSE = False"
   ]
  },
  {
   "cell_type": "markdown",
   "metadata": {},
   "source": [
    "# PART 1: Launch a Duet Server and Connect\n",
    "\n",
    "As a data owner, you want to allow someone else to perform data science on data that you own and likely want to protect.\n",
    "\n",
    "In order to do this, we must load our data into a locally running server (within this notebook).\n",
    "We call this server a \"Duet\".\n",
    "\n",
    "To begin, you must launch Duet and help your Duet \"partner\" (a data scientist) connect to this server.\n",
    "\n",
    "You do this by running the code below and following the instructions it gives!"
   ]
  },
  {
   "cell_type": "code",
   "execution_count": null,
   "metadata": {},
   "outputs": [],
   "source": [
    "duet = sy.launch_duet(loopback=True)"
   ]
  },
  {
   "cell_type": "markdown",
   "metadata": {},
   "source": [
    "If you are in Jupyter Notebook (not Colab) the ☝🏾DUET LIVE STATUS above will animate "
   ]
  },
  {
   "cell_type": "markdown",
   "metadata": {},
   "source": [
    "# PART 2: Launch a Duet Server and Connect"
   ]
  },
  {
   "cell_type": "code",
   "execution_count": null,
   "metadata": {},
   "outputs": [],
   "source": [
    "import torch as th\n",
    "import torchvision as tv"
   ]
  },
  {
   "cell_type": "code",
   "execution_count": null,
   "metadata": {},
   "outputs": [],
   "source": [
    "duet.store.pandas"
   ]
  },
  {
   "cell_type": "code",
   "execution_count": null,
   "metadata": {},
   "outputs": [],
   "source": [
    "def approve_all():\n",
    "    print(\"Approving all requests\")\n",
    "    for req in duet.requests:\n",
    "        try:\n",
    "            print(\"Approving\", req)\n",
    "            req.approve()\n",
    "        except Exception as e:\n",
    "            pass"
   ]
  },
  {
   "cell_type": "code",
   "execution_count": null,
   "metadata": {},
   "outputs": [],
   "source": [
    "# we need some transforms for our MNIST data set\n",
    "transform_1 = tv.transforms.ToTensor()  # this converts PIL images to Tensors\n",
    "transform_2 = tv.transforms.Normalize(0.1307, 0.3081)  # this normalizes the dataset\n",
    "\n",
    "# compose our transforms\n",
    "transforms = tv.transforms.Compose([transform_1, transform_2])"
   ]
  },
  {
   "cell_type": "code",
   "execution_count": null,
   "metadata": {},
   "outputs": [],
   "source": [
    "kwargs = {\n",
    "    \"batch_size\": 64,\n",
    "}\n",
    "\n",
    "use_cuda = th.cuda.is_available()\n",
    "print(f\"Using CUDA: {use_cuda}\")\n",
    "if use_cuda:\n",
    "    kwargs.update(\n",
    "            {\n",
    "                \"num_workers\": 1,\n",
    "                \"pin_memory\": True,\n",
    "                \"shuffle\": True\n",
    "            }\n",
    "    )\n",
    "    \n",
    "private_data = tv.datasets.MNIST('../data', train=True, download=True, transform=transform_1)\n",
    "private_loader = th.utils.data.DataLoader(private_data,**kwargs)"
   ]
  },
  {
   "cell_type": "code",
   "execution_count": null,
   "metadata": {
    "scrolled": false
   },
   "outputs": [],
   "source": [
    "# Lets add a tag and description to our dataset so that our Duet partner knows what it is\n",
    "private_loader = private_loader.tag(\"#MNIST_private_training_data\")\n",
    "private_loader = private_loader.describe(\"My super secret MNIST dataset for training the best model!\")"
   ]
  },
  {
   "cell_type": "code",
   "execution_count": null,
   "metadata": {},
   "outputs": [],
   "source": [
    "# now lets host it on duet so our partner can access a pointer to the data\n",
    "# IMPORTANT: The data cannot be viewed, downloaded, or copied without your partner requesting permission\n",
    "\n",
    "# TODO: This cant be sent currently, how can we share it?\n",
    "private_loader_ptr = private_loader.send(duet, searchable=True)"
   ]
  },
  {
   "cell_type": "code",
   "execution_count": null,
   "metadata": {},
   "outputs": [],
   "source": [
    "duet.requests.pandas"
   ]
  },
  {
   "cell_type": "code",
   "execution_count": null,
   "metadata": {},
   "outputs": [],
   "source": [
    "duet.requests[0].approve()"
   ]
  },
  {
   "cell_type": "code",
   "execution_count": null,
   "metadata": {},
   "outputs": [],
   "source": [
    "approve_all()"
   ]
  },
  {
   "cell_type": "code",
   "execution_count": null,
   "metadata": {},
   "outputs": [],
   "source": [
    "duet.store"
   ]
  },
  {
   "cell_type": "code",
   "execution_count": null,
   "metadata": {},
   "outputs": [],
   "source": []
  }
 ],
 "metadata": {
  "kernelspec": {
   "display_name": "Python 3",
   "language": "python",
   "name": "python3"
  },
  "language_info": {
   "codemirror_mode": {
    "name": "ipython",
    "version": 3
   },
   "file_extension": ".py",
   "mimetype": "text/x-python",
   "name": "python",
   "nbconvert_exporter": "python",
   "pygments_lexer": "ipython3",
   "version": "3.8.6"
  }
 },
 "nbformat": 4,
 "nbformat_minor": 4
}

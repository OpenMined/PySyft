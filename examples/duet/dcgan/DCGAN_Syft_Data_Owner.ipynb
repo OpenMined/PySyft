{
 "cells": [
  {
   "cell_type": "markdown",
   "id": "recreational-system",
   "metadata": {},
   "source": [
    "# DCGAN - Syft Duet - Data Owner 🎸\n",
    "\n",
    "Contributed by [@Koukyosyumei](https://github.com/Koukyosyumei)\n",
    "\n",
    "This example trains a DCGAN network on the BSD300 dataset with Syft.\n",
    "This notebook is mainly based on the original pytorch [example](https://github.com/OpenMined/PySyft/tree/dev/examples/duet/dcgan/original)."
   ]
  },
  {
   "cell_type": "markdown",
   "id": "reverse-missile",
   "metadata": {},
   "source": [
    "## PART 1: Launch a Duet Server and Connect\n",
    "\n",
    "As a Data Owner, you want to allow someone else to perform data science on data that you own and likely want to protect.\n",
    "\n",
    "In order to do this, we must load our data into a locally running server within this notebook. We call this server a \"Duet\".\n",
    "\n",
    "To begin, you must launch Duet and help your Duet \"partner\" (a Data Scientist) connect to this server.\n",
    "\n",
    "You do this by running the code below and sending the code snippet containing your unique Server ID to your partner and following the instructions it gives!"
   ]
  },
  {
   "cell_type": "code",
   "execution_count": null,
   "id": "trained-boston",
   "metadata": {
    "executionInfo": {
     "elapsed": 2560,
     "status": "ok",
     "timestamp": 1613196516957,
     "user": {
      "displayName": "hideaki takahashi",
      "photoUrl": "",
      "userId": "16154026581542772178"
     },
     "user_tz": -540
    },
    "id": "LJjt_hDRrJmh"
   },
   "outputs": [],
   "source": [
    "import os\n",
    "import torch\n",
    "import torchvision\n",
    "import torchvision.utils as vutils\n",
    "\n",
    "try:\n",
    "    # make notebook progress bars nicer\n",
    "    from tqdm.notebook import tqdm\n",
    "except ImportError:\n",
    "    print(f\"Unable to import tqdm\")"
   ]
  },
  {
   "cell_type": "code",
   "execution_count": null,
   "id": "novel-custody",
   "metadata": {},
   "outputs": [],
   "source": [
    "# TorchVision hotfix https://github.com/pytorch/vision/issues/3549\n",
    "from syft.util import get_root_data_path\n",
    "from torchvision import datasets\n",
    "datasets.MNIST.resources = [\n",
    "    (\n",
    "        \"https://ossci-datasets.s3.amazonaws.com/mnist/train-images-idx3-ubyte.gz\",\n",
    "        \"f68b3c2dcbeaaa9fbdd348bbdeb94873\",\n",
    "    ),\n",
    "    (\n",
    "        \"https://ossci-datasets.s3.amazonaws.com/mnist/train-labels-idx1-ubyte.gz\",\n",
    "        \"d53e105ee54ea40749a09fcbcd1e9432\",\n",
    "    ),\n",
    "    (\n",
    "        \"https://ossci-datasets.s3.amazonaws.com/mnist/t10k-images-idx3-ubyte.gz\",\n",
    "        \"9fb629c4189551a2d022fa330f9573f3\",\n",
    "    ),\n",
    "    (\n",
    "        \"https://ossci-datasets.s3.amazonaws.com/mnist/t10k-labels-idx1-ubyte.gz\",\n",
    "        \"ec29112dd5afa0611ce80d1b7f02629c\",\n",
    "    ),\n",
    "]\n",
    "datasets.MNIST(get_root_data_path(), train=True, download=True)\n",
    "datasets.MNIST(get_root_data_path(), train=False, download=True)"
   ]
  },
  {
   "cell_type": "code",
   "execution_count": null,
   "id": "senior-attribute",
   "metadata": {
    "colab": {
     "base_uri": "https://localhost:8080/",
     "height": 695
    },
    "executionInfo": {
     "elapsed": 196730,
     "status": "ok",
     "timestamp": 1613196714497,
     "user": {
      "displayName": "hideaki takahashi",
      "photoUrl": "",
      "userId": "16154026581542772178"
     },
     "user_tz": -540
    },
    "id": "proud-procedure",
    "outputId": "334f4b35-02be-4504-d6e7-c3be103a56bb"
   },
   "outputs": [],
   "source": [
    "import syft as sy\n",
    "duet = sy.launch_duet(loopback=True)\n",
    "sy.logger.add(sink=\"./syft_do.log\")"
   ]
  },
  {
   "cell_type": "markdown",
   "id": "orange-webmaster",
   "metadata": {
    "id": "TCHvLbgk9c_S"
   },
   "source": [
    "# Add handlers"
   ]
  },
  {
   "cell_type": "code",
   "execution_count": null,
   "id": "imported-speaker",
   "metadata": {
    "executionInfo": {
     "elapsed": 791,
     "status": "ok",
     "timestamp": 1613196716647,
     "user": {
      "displayName": "hideaki takahashi",
      "photoUrl": "",
      "userId": "16154026581542772178"
     },
     "user_tz": -540
    },
    "id": "nIffCuFym7m9"
   },
   "outputs": [],
   "source": [
    "# handler with no tags accepts everything. Better handlers coming soon.\n",
    "duet.requests.add_handler(action=\"accept\")"
   ]
  },
  {
   "cell_type": "markdown",
   "id": "bridal-dating",
   "metadata": {
    "id": "HCCB4w3o9YP2"
   },
   "source": [
    "# Strore"
   ]
  },
  {
   "cell_type": "code",
   "execution_count": null,
   "id": "conservative-pixel",
   "metadata": {
    "colab": {
     "base_uri": "https://localhost:8080/",
     "height": 1000
    },
    "executionInfo": {
     "elapsed": 1099,
     "status": "ok",
     "timestamp": 1613196811174,
     "user": {
      "displayName": "hideaki takahashi",
      "photoUrl": "",
      "userId": "16154026581542772178"
     },
     "user_tz": -540
    },
    "id": "republican-publicity",
    "outputId": "d7a4518d-67b5-471d-fdd5-0f0a39534e2f"
   },
   "outputs": [],
   "source": [
    "duet.store.pandas"
   ]
  },
  {
   "cell_type": "markdown",
   "id": "final-natural",
   "metadata": {
    "id": "empty-hacker"
   },
   "source": [
    "### <img src=\"https://github.com/OpenMined/design-assets/raw/master/logos/OM/mark-primary-light.png\" alt=\"he-black-box\" width=\"100\"/> Checkpoint 1 : Now STOP and run the Data Scientist notebook until the same checkpoint."
   ]
  },
  {
   "cell_type": "markdown",
   "id": "studied-profile",
   "metadata": {},
   "source": [
    "### <img src=\"https://github.com/OpenMined/design-assets/raw/master/logos/OM/mark-primary-light.png\" alt=\"he-black-box\" width=\"100\"/> Checkpoint 2 : Well done!"
   ]
  },
  {
   "cell_type": "code",
   "execution_count": null,
   "id": "strange-closer",
   "metadata": {},
   "outputs": [],
   "source": []
  }
 ],
 "metadata": {
  "colab": {
   "collapsed_sections": [],
   "name": "re_DCGAN_Syft_Data_Owner_re.ipynb",
   "provenance": []
  },
  "kernelspec": {
   "display_name": "Python 3",
   "language": "python",
   "name": "python3"
  },
  "language_info": {
   "codemirror_mode": {
    "name": "ipython",
    "version": 3
   },
   "file_extension": ".py",
   "mimetype": "text/x-python",
   "name": "python",
   "nbconvert_exporter": "python",
   "pygments_lexer": "ipython3",
   "version": "3.9.2"
  }
 },
 "nbformat": 4,
 "nbformat_minor": 5
}

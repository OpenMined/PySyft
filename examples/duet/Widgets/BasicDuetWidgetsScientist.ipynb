{
 "cells": [
  {
   "cell_type": "code",
   "execution_count": 1,
   "metadata": {},
   "outputs": [],
   "source": [
    "import ipywidgets as widgets\n",
    "from ipywidgets import interact, interactive, fixed, interact_manual\n",
    "from ipywidgets import Button, Layout\n",
    "import syft as sy"
   ]
  },
  {
   "cell_type": "markdown",
   "metadata": {},
   "source": [
    "## 2. Duet Buttons"
   ]
  },
  {
   "cell_type": "code",
   "execution_count": 2,
   "metadata": {},
   "outputs": [],
   "source": [
    "global duet\n",
    "\n",
    "duetJoinButton = Button(\n",
    "    description='Join Duet',\n",
    "    disabled=False,\n",
    "    layout=Layout(width='33%', height='80px'),\n",
    "    button_style='success', # 'success', 'info', 'warning', 'danger' or ''\n",
    "    tooltip='Join Duet',\n",
    "    icon='fa-plug' # (FontAwesome names without the `fa-` prefix)\n",
    ")\n",
    "\n",
    "duetJoinButtonWithLoopback = Button(\n",
    "    description='Join Duet(with loopback)',\n",
    "    disabled=False,\n",
    "    button_style='success', # 'success', 'info', 'warning', 'danger' or ''\n",
    "    tooltip='Join Duet(with loopback)',\n",
    "    layout=Layout(width='33%', height='80px'),\n",
    "    icon='fa-plug' # (FontAwesome names without the `fa-` prefix)\n",
    ")\n",
    "\n",
    "viewPeers = widgets.Button(\n",
    "    description='View Peers',\n",
    "    disabled=False,\n",
    "    layout=Layout(width='33%', height='80px'),\n",
    "    button_style='info', # 'success', 'info', 'warning', 'danger' or ''\n",
    "    tooltip='View Peers',\n",
    "    icon='fa-eye' # (FontAwesome names without the `fa-` prefix)\n",
    ")\n",
    "\n",
    "# view store , disconnect from duet, connect to grid\n",
    "viewDuetStore = Button(\n",
    "    description='View Duet Store',\n",
    "    disabled=False,\n",
    "    layout=Layout(width='33%', height='80px'),\n",
    "    button_style='info', # 'success', 'info', 'warning', 'danger' or ''\n",
    "    tooltip='View Duet Store',\n",
    "    icon='fa-archive' # (FontAwesome names without the `fa-` prefix)\n",
    ")\n",
    "\n",
    "disconnectDuetButton = Button(\n",
    "    description='Disconnect from Duet',\n",
    "    disabled=False,\n",
    "    layout=Layout(width='33%', height='80px'),\n",
    "    button_style='danger', # 'success', 'info', 'warning', 'danger' or ''\n",
    "    tooltip='Disconnect from Duet',\n",
    "    icon='fa-window-close-o' # (FontAwesome names without the `fa-` prefix)\n",
    ")\n",
    "\n",
    "gridConnectButton = Button(\n",
    "    description='Join Grid',\n",
    "    disabled=False,\n",
    "    layout=Layout(width='33%', height='80px'),\n",
    "    button_style='warning', # 'success', 'info', 'warning', 'danger' or ''\n",
    "    tooltip='Join Grid',\n",
    "    icon='fa-plug' # (FontAwesome names without the `fa-` prefix)\n",
    ")\n",
    "\n",
    "\n",
    "dashboardDuetLogger = widgets.Output(layout={'border': '1px solid black'})"
   ]
  },
  {
   "cell_type": "markdown",
   "metadata": {},
   "source": [
    "## 1. Helper Functions\n"
   ]
  },
  {
   "cell_type": "code",
   "execution_count": 3,
   "metadata": {},
   "outputs": [],
   "source": [
    "def on_join_duet_button(b):\n",
    "    with dashboardDuetLogger:\n",
    "        global duet\n",
    "        duet = sy.join_duet()\n",
    "    \n",
    "def on_join_duet_loopback_button(b):\n",
    "    with dashboardDuetLogger:\n",
    "        global duet\n",
    "        duet = sy.join_duet(loopback=True)\n",
    "\n",
    "def view_store_button(b):\n",
    "    with dashboardDuetLogger:\n",
    "        global duet\n",
    "        print(\"Duet Store {}\".format(duet.store))\n",
    "        \n",
    "duetJoinButton.on_click(on_join_duet_button)\n",
    "duetJoinButtonWithLoopback.on_click(on_join_duet_loopback_button)\n",
    "viewDuetStore.on_click(view_store_button)"
   ]
  },
  {
   "cell_type": "markdown",
   "metadata": {},
   "source": [
    "## 3. Display Cells"
   ]
  },
  {
   "cell_type": "code",
   "execution_count": 4,
   "metadata": {},
   "outputs": [
    {
     "data": {
      "application/vnd.jupyter.widget-view+json": {
       "model_id": "2002bae820ad47f8b3dc9ec268deba07",
       "version_major": 2,
       "version_minor": 0
      },
      "text/plain": [
       "VBox(children=(HBox(children=(Button(button_style='success', description='Join Duet', icon='plug', layout=Layo…"
      ]
     },
     "metadata": {},
     "output_type": "display_data"
    },
    {
     "name": "stderr",
     "output_type": "stream",
     "text": [
      "[2021-03-27T20:57:50.524786+0530][CRITICAL][logger]][55485] Skipping torchvision.torchvision.transforms.functional.invert not supported in 0.8.2\n",
      "[2021-03-27T20:57:50.525810+0530][CRITICAL][logger]][55485] Skipping torchvision.torchvision.transforms.functional.posterize not supported in 0.8.2\n",
      "[2021-03-27T20:57:50.526363+0530][CRITICAL][logger]][55485] Skipping torchvision.torchvision.transforms.functional.solarize not supported in 0.8.2\n"
     ]
    }
   ],
   "source": [
    "line1 = widgets.HBox([duetJoinButton, duetJoinButtonWithLoopback, viewPeers])\n",
    "line2 = widgets.HBox([viewDuetStore, disconnectDuetButton, gridConnectButton])\n",
    "display(widgets.VBox([line1,line2]))"
   ]
  },
  {
   "cell_type": "code",
   "execution_count": 5,
   "metadata": {},
   "outputs": [
    {
     "data": {
      "application/vnd.jupyter.widget-view+json": {
       "model_id": "1b983a6a68fc41609c48dfdbd373d1ff",
       "version_major": 2,
       "version_minor": 0
      },
      "text/plain": [
       "Output(layout=Layout(border='1px solid black'))"
      ]
     },
     "metadata": {},
     "output_type": "display_data"
    }
   ],
   "source": [
    "dashboardDuetLogger"
   ]
  },
  {
   "cell_type": "code",
   "execution_count": null,
   "metadata": {},
   "outputs": [],
   "source": []
  },
  {
   "cell_type": "code",
   "execution_count": null,
   "metadata": {},
   "outputs": [],
   "source": []
  }
 ],
 "metadata": {
  "kernelspec": {
   "display_name": "PySyft",
   "language": "python",
   "name": "pysyft"
  },
  "language_info": {
   "codemirror_mode": {
    "name": "ipython",
    "version": 3
   },
   "file_extension": ".py",
   "mimetype": "text/x-python",
   "name": "python",
   "nbconvert_exporter": "python",
   "pygments_lexer": "ipython3",
   "version": "3.6.9"
  }
 },
 "nbformat": 4,
 "nbformat_minor": 2
}

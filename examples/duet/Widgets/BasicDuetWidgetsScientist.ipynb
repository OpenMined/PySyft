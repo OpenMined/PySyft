{
 "cells": [
  {
   "cell_type": "code",
   "execution_count": 1,
   "metadata": {},
   "outputs": [],
   "source": [
    "import ipywidgets as widgets\n",
    "from WidgetScientistButtons import *\n",
    "from LoggingScientistButtons import *\n",
    "from IPython.display import display\n",
    "import syft as sy\n",
    "import qgrid\n",
    "from syft.widget_logger import LOG_WIDGET\n",
    "SET_LOGGING_SINK()"
   ]
  },
  {
   "cell_type": "markdown",
   "metadata": {},
   "source": [
    "## 1. Dashboard\n"
   ]
  },
  {
   "cell_type": "code",
   "execution_count": 2,
   "metadata": {},
   "outputs": [
    {
     "data": {
      "application/vnd.jupyter.widget-view+json": {
       "model_id": "7837b86e81b248b387a86a334862148c",
       "version_major": 2,
       "version_minor": 0
      },
      "text/plain": [
       "VBox(children=(HBox(children=(Button(button_style='success', description='Join Duet', icon='plug', layout=Layo…"
      ]
     },
     "metadata": {},
     "output_type": "display_data"
    }
   ],
   "source": [
    "# Disconnect from Duet does not work any more\n",
    "display(dashboard)"
   ]
  },
  {
   "cell_type": "markdown",
   "metadata": {},
   "source": [
    "## 2. LOGGING AND SEARCHING MODULE"
   ]
  },
  {
   "cell_type": "code",
   "execution_count": 3,
   "metadata": {},
   "outputs": [
    {
     "data": {
      "application/vnd.jupyter.widget-view+json": {
       "model_id": "34b8ce969cce4676a91a274f4e218f92",
       "version_major": 2,
       "version_minor": 0
      },
      "text/plain": [
       "Output(layout=Layout(align_items='stretch', border='1px solid black', display='flex', flex_flow='column'))"
      ]
     },
     "metadata": {},
     "output_type": "display_data"
    }
   ],
   "source": [
    "LOG_WIDGET"
   ]
  },
  {
   "cell_type": "markdown",
   "metadata": {},
   "source": [
    "## 2. DISPLAY STORE AND MAKE RETRIEVAL REQUESTS"
   ]
  },
  {
   "cell_type": "code",
   "execution_count": 4,
   "metadata": {},
   "outputs": [
    {
     "data": {
      "application/vnd.jupyter.widget-view+json": {
       "model_id": "aff1c15ee58546d597a6367f927e1951",
       "version_major": 2,
       "version_minor": 0
      },
      "text/plain": [
       "Output(layout=Layout(border='1px solid black'))"
      ]
     },
     "metadata": {},
     "output_type": "display_data"
    }
   ],
   "source": [
    "storeLogger"
   ]
  },
  {
   "cell_type": "code",
   "execution_count": 6,
   "metadata": {},
   "outputs": [
    {
     "data": {
      "text/plain": [
       "['2021-04-02 19:25:01.425 | INFO     | syft.widget_logger:log_and_print:84 - 🎤  🎸  ♪♪♪ Joining Duet ♫♫♫  🎻  🎹\\n\\n',\n",
       " '2021-04-02 19:25:01.430 | INFO     | syft.widget_logger:log_and_print:84 - ♫♫♫ >\\x1b[93m DISCLAIMER\\x1b[0m: \\x1b[1mDuet is an experimental feature currently in beta.\\n♫♫♫ > Use at your own risk.\\n\\x1b[0m\\n',\n",
       " '2021-04-02 19:25:01.441 | INFO     | syft.widget_logger:log_and_print:84 - \\x1b[1m\\n    > ❤️ \\x1b[91mLove\\x1b[0m \\x1b[92mDuet\\x1b[0m? \\x1b[93mPlease\\x1b[0m \\x1b[94mconsider\\x1b[0m \\x1b[95msupporting\\x1b[0m \\x1b[91mour\\x1b[0m \\x1b[93mcommunity!\\x1b[0m\\n    > https://github.com/sponsors/OpenMined\\x1b[1m\\n\\n',\n",
       " '2021-04-02 19:25:02.233 | INFO     | syft.widget_logger:log_and_print:84 - ♫♫♫ > Punching through firewall to OpenGrid Network Node at:\\n',\n",
       " '2021-04-02 19:25:02.241 | INFO     | syft.widget_logger:log_and_print:84 - ♫♫♫ > http://ec2-18-216-8-163.us-east-2.compute.amazonaws.com:5000\\n',\n",
       " '2021-04-02 19:25:02.249 | INFO     | syft.widget_logger:log_and_print:84 - ♫♫♫ >\\n',\n",
       " '2021-04-02 19:25:02.277 | INFO     | syft.widget_logger:log_and_print:84 - ♫♫♫ > ...waiting for response from OpenGrid Network... \\n',\n",
       " '2021-04-02 19:25:02.992 | INFO     | syft.logger:log_and_print:76 - Skipping torch.Tensor.xpu not supported in 1.7.1\\n',\n",
       " '2021-04-02 19:25:02.992 | INFO     | syft.logger:log_and_print:76 - Skipping torch.Tensor.tile not supported in 1.7.1\\n',\n",
       " '2021-04-02 19:25:02.992 | INFO     | syft.logger:log_and_print:76 - Skipping torch.Tensor.fmax not supported in 1.7.1\\n',\n",
       " '2021-04-02 19:25:02.992 | INFO     | syft.logger:log_and_print:76 - Skipping torch.Tensor.ldexp_ not supported in 1.7.1\\n',\n",
       " '2021-04-02 19:25:02.993 | INFO     | syft.logger:log_and_print:76 - Skipping torch.Tensor.sinc not supported in 1.7.1\\n',\n",
       " '2021-04-02 19:25:02.993 | INFO     | syft.logger:log_and_print:76 - Skipping torch.kron not supported in 1.7.1\\n',\n",
       " '2021-04-02 19:25:02.993 | INFO     | syft.logger:log_and_print:76 - Skipping torch.Tensor.nan_to_num not supported in 1.7.1\\n',\n",
       " '2021-04-02 19:25:02.993 | INFO     | syft.logger:log_and_print:76 - Skipping torch.msort not supported in 1.7.1\\n',\n",
       " '2021-04-02 19:25:02.993 | INFO     | syft.logger:log_and_print:76 - Skipping torch.row_stack not supported in 1.7.1\\n',\n",
       " '2021-04-02 19:25:02.993 | INFO     | syft.logger:log_and_print:76 - Skipping torch.Tensor.new_empty_strided not supported in 1.7.1\\n',\n",
       " '2021-04-02 19:25:02.993 | INFO     | syft.logger:log_and_print:76 - Skipping torch.Tensor.ravel not supported in 1.7.1\\n',\n",
       " '2021-04-02 19:25:02.993 | INFO     | syft.logger:log_and_print:76 - Skipping torch.Tensor.swapdims_ not supported in 1.7.1\\n',\n",
       " '2021-04-02 19:25:02.994 | INFO     | syft.logger:log_and_print:76 - Skipping torch.moveaxis not supported in 1.7.1\\n',\n",
       " '2021-04-02 19:25:02.994 | INFO     | syft.logger:log_and_print:76 - Skipping torch.Tensor.swapaxes not supported in 1.7.1\\n',\n",
       " '2021-04-02 19:25:02.994 | INFO     | syft.logger:log_and_print:76 - Skipping torch.tensor_split not supported in 1.7.1\\n',\n",
       " '2021-04-02 19:25:02.994 | INFO     | syft.logger:log_and_print:76 - Skipping torch.Tensor.tensor_split not supported in 1.7.1\\n',\n",
       " '2021-04-02 19:25:02.994 | INFO     | syft.logger:log_and_print:76 - Skipping torch.tile not supported in 1.7.1\\n',\n",
       " '2021-04-02 19:25:02.994 | INFO     | syft.logger:log_and_print:76 - Skipping torch.Tensor.float_power_ not supported in 1.7.1\\n',\n",
       " '2021-04-02 19:25:02.994 | INFO     | syft.logger:log_and_print:76 - Skipping torch.Tensor.broadcast_to not supported in 1.7.1\\n',\n",
       " '2021-04-02 19:25:02.995 | INFO     | syft.logger:log_and_print:76 - Skipping torch.fmin not supported in 1.7.1\\n',\n",
       " '2021-04-02 19:25:02.995 | INFO     | syft.logger:log_and_print:76 - Skipping torch.ldexp not supported in 1.7.1\\n',\n",
       " '2021-04-02 19:25:02.995 | INFO     | syft.logger:log_and_print:76 - Skipping torch.Tensor.swapdims not supported in 1.7.1\\n',\n",
       " '2021-04-02 19:25:02.995 | INFO     | syft.logger:log_and_print:76 - Skipping torch.igamma not supported in 1.7.1\\n',\n",
       " '2021-04-02 19:25:02.995 | INFO     | syft.logger:log_and_print:76 - Skipping torch.Tensor.nan_to_num_ not supported in 1.7.1\\n',\n",
       " '2021-04-02 19:25:02.995 | INFO     | syft.logger:log_and_print:76 - Skipping torch.Tensor.copysign not supported in 1.7.1\\n',\n",
       " '2021-04-02 19:25:02.995 | INFO     | syft.logger:log_and_print:76 - Skipping torch.Tensor.swapaxes_ not supported in 1.7.1\\n',\n",
       " '2021-04-02 19:25:02.995 | INFO     | syft.logger:log_and_print:76 - Skipping torch.Tensor.cumprod_ not supported in 1.7.1\\n',\n",
       " '2021-04-02 19:25:02.996 | INFO     | syft.logger:log_and_print:76 - Skipping torch.Tensor.ldexp not supported in 1.7.1\\n',\n",
       " '2021-04-02 19:25:02.996 | INFO     | syft.logger:log_and_print:76 - Skipping torch.Tensor.igamma_ not supported in 1.7.1\\n',\n",
       " '2021-04-02 19:25:02.996 | INFO     | syft.logger:log_and_print:76 - Skipping torch.float_power not supported in 1.7.1\\n',\n",
       " '2021-04-02 19:25:02.996 | INFO     | syft.logger:log_and_print:76 - Skipping torch.Tensor.igammac_ not supported in 1.7.1\\n',\n",
       " '2021-04-02 19:25:02.996 | INFO     | syft.logger:log_and_print:76 - Skipping torch.xlogy not supported in 1.7.1\\n',\n",
       " '2021-04-02 19:25:02.996 | INFO     | syft.logger:log_and_print:76 - Skipping torch.copysign not supported in 1.7.1\\n',\n",
       " '2021-04-02 19:25:02.996 | INFO     | syft.logger:log_and_print:76 - Skipping torch.nanmedian not supported in 1.7.1\\n',\n",
       " '2021-04-02 19:25:02.997 | INFO     | syft.logger:log_and_print:76 - Skipping torch.igammac not supported in 1.7.1\\n',\n",
       " '2021-04-02 19:25:02.997 | INFO     | syft.logger:log_and_print:76 - Skipping torch.Tensor.cumsum_ not supported in 1.7.1\\n',\n",
       " '2021-04-02 19:25:02.997 | INFO     | syft.logger:log_and_print:76 - Skipping torch.diff not supported in 1.7.1\\n',\n",
       " '2021-04-02 19:25:02.997 | INFO     | syft.logger:log_and_print:76 - Skipping torch.Tensor.igamma not supported in 1.7.1\\n',\n",
       " '2021-04-02 19:25:02.997 | INFO     | syft.logger:log_and_print:76 - Skipping torch.sinc not supported in 1.7.1\\n',\n",
       " '2021-04-02 19:25:02.997 | INFO     | syft.logger:log_and_print:76 - Skipping torch.Tensor.igammac not supported in 1.7.1\\n',\n",
       " '2021-04-02 19:25:02.997 | INFO     | syft.logger:log_and_print:76 - Skipping torch.Tensor.kron not supported in 1.7.1\\n',\n",
       " '2021-04-02 19:25:02.998 | INFO     | syft.logger:log_and_print:76 - Skipping torch.column_stack not supported in 1.7.1\\n',\n",
       " '2021-04-02 19:25:02.998 | INFO     | syft.logger:log_and_print:76 - Skipping torch.Tensor.msort not supported in 1.7.1\\n',\n",
       " '2021-04-02 19:25:02.998 | INFO     | syft.logger:log_and_print:76 - Skipping torch.pixel_unshuffle not supported in 1.7.1\\n',\n",
       " '2021-04-02 19:25:02.998 | INFO     | syft.logger:log_and_print:76 - Skipping torch.Tensor.fmin not supported in 1.7.1\\n',\n",
       " '2021-04-02 19:25:02.998 | INFO     | syft.logger:log_and_print:76 - Skipping torch.Tensor.xlogy not supported in 1.7.1\\n',\n",
       " '2021-04-02 19:25:02.998 | INFO     | syft.logger:log_and_print:76 - Skipping torch.Tensor.moveaxis not supported in 1.7.1\\n',\n",
       " '2021-04-02 19:25:02.998 | INFO     | syft.logger:log_and_print:76 - Skipping torch.swapaxes not supported in 1.7.1\\n',\n",
       " '2021-04-02 19:25:02.998 | INFO     | syft.logger:log_and_print:76 - Skipping torch.nan_to_num not supported in 1.7.1\\n',\n",
       " '2021-04-02 19:25:02.999 | INFO     | syft.logger:log_and_print:76 - Skipping torch.inner not supported in 1.7.1\\n',\n",
       " '2021-04-02 19:25:02.999 | INFO     | syft.logger:log_and_print:76 - Skipping torch.fmax not supported in 1.7.1\\n',\n",
       " '2021-04-02 19:25:02.999 | INFO     | syft.logger:log_and_print:76 - Skipping torch.Tensor.float_power not supported in 1.7.1\\n',\n",
       " '2021-04-02 19:25:02.999 | INFO     | syft.logger:log_and_print:76 - Skipping torch.Tensor.nanmedian not supported in 1.7.1\\n',\n",
       " '2021-04-02 19:25:02.999 | INFO     | syft.logger:log_and_print:76 - Skipping torch.Tensor.sinc_ not supported in 1.7.1\\n',\n",
       " '2021-04-02 19:25:02.999 | INFO     | syft.logger:log_and_print:76 - Skipping torch.Tensor.copysign_ not supported in 1.7.1\\n',\n",
       " '2021-04-02 19:25:02.999 | INFO     | syft.logger:log_and_print:76 - Skipping torch.ravel not supported in 1.7.1\\n',\n",
       " '2021-04-02 19:25:02.999 | INFO     | syft.logger:log_and_print:76 - Skipping torch.broadcast_to not supported in 1.7.1\\n',\n",
       " '2021-04-02 19:25:03.000 | INFO     | syft.logger:log_and_print:76 - Skipping torch.Tensor.diff not supported in 1.7.1\\n',\n",
       " '2021-04-02 19:25:03.000 | INFO     | syft.logger:log_and_print:76 - Skipping torch.Tensor.xlogy_ not supported in 1.7.1\\n',\n",
       " '2021-04-02 19:25:03.000 | INFO     | syft.logger:log_and_print:76 - Skipping torch.swapdims not supported in 1.7.1\\n',\n",
       " '2021-04-02 19:25:03.000 | INFO     | syft.logger:log_and_print:76 - Skipping torch.Tensor.inner not supported in 1.7.1\\n',\n",
       " '2021-04-02 19:25:03.022 | CRITICAL | syft.logger:log_and_print:76 - Skipping torchvision.torchvision.transforms.functional.adjust_sharpness not supported in 0.8.2\\n',\n",
       " '2021-04-02 19:25:03.022 | CRITICAL | syft.logger:log_and_print:76 - Skipping torchvision.torchvision.transforms.functional.autocontrast not supported in 0.8.2\\n',\n",
       " '2021-04-02 19:25:03.023 | CRITICAL | syft.logger:log_and_print:76 - Skipping torchvision.torchvision.transforms.functional.equalize not supported in 0.8.2\\n',\n",
       " '2021-04-02 19:25:03.023 | CRITICAL | syft.logger:log_and_print:76 - Skipping torchvision.torchvision.transforms.functional.invert not supported in 0.8.2\\n',\n",
       " '2021-04-02 19:25:03.024 | CRITICAL | syft.logger:log_and_print:76 - Skipping torchvision.torchvision.transforms.functional.posterize not supported in 0.8.2\\n',\n",
       " '2021-04-02 19:25:03.025 | CRITICAL | syft.logger:log_and_print:76 - Skipping torchvision.torchvision.transforms.functional.solarize not supported in 0.8.2\\n',\n",
       " '2021-04-02 19:25:03.101 | DEBUG    | syft.logger:log_and_print:76 - > Creating 📡 [🔗] om-net Client (NetworkClient)@<UID:🚶🚵>\\n',\n",
       " '2021-04-02 19:25:03.102 | DEBUG    | syft.logger:log_and_print:76 - > Creating ✉️  (RegisterNewPeerMessage) <UID:🚄🚁>\\n',\n",
       " '2021-04-02 19:25:03.102 | DEBUG    | syft.logger:log_and_print:76 - > 📡 [🔗] om-net Client (NetworkClient)@<UID:🚶🚵> Signing ✉️  (RegisterNewPeerMessage) with 🝍\\n',\n",
       " '2021-04-02 19:25:03.102 | DEBUG    | syft.logger:log_and_print:76 - > Signing with 🝍\\n',\n",
       " '2021-04-02 19:25:03.102 | DEBUG    | syft.logger:log_and_print:76 - Serializing syft.grid.services.signaling_service.RegisterNewPeerMessage\\n',\n",
       " '2021-04-02 19:25:03.103 | DEBUG    | syft.logger:log_and_print:76 - > Creating Signed ✉️ 🔏 (SignedImmediateSyftMessageWithReply) <UID:🚄🚁>\\n',\n",
       " '2021-04-02 19:25:03.103 | DEBUG    | syft.logger:log_and_print:76 - Serializing syft.core.common.message.SignedImmediateSyftMessageWithReply\\n',\n",
       " '2021-04-02 19:25:03.103 | DEBUG    | syft.logger:log_and_print:76 - > ✉️ 🔏 -> Proto 🔢 <UID: 21759a6d8ae64ecc803c8dfe0d381d85>\\n',\n",
       " '2021-04-02 19:25:03.711 | DEBUG    | syft.logger:log_and_print:76 - > Creating ✉️  (PeerSuccessfullyRegistered) <UID:🚅🚇>\\n',\n",
       " '2021-04-02 19:25:03.712 | DEBUG    | syft.logger:log_and_print:76 - > Creating Signed ✉️ 🔏 (SignedImmediateSyftMessageWithoutReply) <UID:🚅🚇>\\n',\n",
       " '2021-04-02 19:25:03.712 | DEBUG    | syft.logger:log_and_print:76 - > ✉️ 🔏 <- 🔢 Proto\\n',\n",
       " '2021-04-02 19:25:03.713 | DEBUG    | syft.logger:log_and_print:76 - > Creating ✉️  (PeerSuccessfullyRegistered) <UID:🚅🚇>\\n',\n",
       " '2021-04-02 19:25:03.716 | INFO     | syft.widget_logger:log_and_print:84 - ♫♫♫ > \\x1b[92mDONE!\\x1b[0m\\n',\n",
       " '2021-04-02 19:25:03.720 | DEBUG    | syft.logger:log_and_print:76 - > Creating 🗃️ (MemoryStore) {}\\n',\n",
       " '2021-04-02 19:25:03.721 | DEBUG    | syft.logger:log_and_print:76 - Created MemoryStore.\\n',\n",
       " '2021-04-02 19:25:03.722 | DEBUG    | syft.logger:log_and_print:76 - > Creating 🏰 Joiner (Domain)@<UID:🛠🙒>\\n',\n",
       " '2021-04-02 19:25:03.871 | DEBUG    | syft.logger:log_and_print:76 - > Creating ✉️  (OfferPullRequestMessage) <UID:🚷🚍>\\n',\n",
       " '2021-04-02 19:25:03.872 | DEBUG    | syft.logger:log_and_print:76 - > 📡 [🔗] om-net Client (NetworkClient)@<UID:🚶🚵> Signing ✉️  (OfferPullRequestMessage) with 🝍\\n',\n",
       " '2021-04-02 19:25:03.872 | DEBUG    | syft.logger:log_and_print:76 - > Signing with 🝍\\n',\n",
       " '2021-04-02 19:25:03.873 | DEBUG    | syft.logger:log_and_print:76 - Serializing syft.grid.services.signaling_service.OfferPullRequestMessage\\n',\n",
       " '2021-04-02 19:25:03.873 | DEBUG    | syft.logger:log_and_print:76 - > Creating Signed ✉️ 🔏 (SignedImmediateSyftMessageWithReply) <UID:🚷🚍>\\n',\n",
       " '2021-04-02 19:25:03.873 | DEBUG    | syft.logger:log_and_print:76 - Serializing syft.core.common.message.SignedImmediateSyftMessageWithReply\\n',\n",
       " '2021-04-02 19:25:03.873 | DEBUG    | syft.logger:log_and_print:76 - > ✉️ 🔏 -> Proto 🔢 <UID: 57d4a04a3822480c9da9d878e98548cf>\\n',\n",
       " '2021-04-02 19:25:04.440 | DEBUG    | syft.logger:log_and_print:76 - > Creating ✉️  (SignalingRequestsNotFound) <UID:🚬🚀>\\n',\n",
       " '2021-04-02 19:25:04.441 | DEBUG    | syft.logger:log_and_print:76 - > Creating Signed ✉️ 🔏 (SignedImmediateSyftMessageWithoutReply) <UID:🚬🚀>\\n',\n",
       " '2021-04-02 19:25:04.441 | DEBUG    | syft.logger:log_and_print:76 - > ✉️ 🔏 <- 🔢 Proto\\n',\n",
       " '2021-04-02 19:25:04.442 | DEBUG    | syft.logger:log_and_print:76 - > Creating ✉️  (SignalingRequestsNotFound) <UID:🚬🚀>\\n',\n",
       " '2021-04-02 19:25:04.943 | DEBUG    | syft.logger:log_and_print:76 - > 📡 [🔗] om-net Client (NetworkClient)@<UID:🚶🚵> Signing ✉️  (OfferPullRequestMessage) with 🝍\\n',\n",
       " '2021-04-02 19:25:04.944 | DEBUG    | syft.logger:log_and_print:76 - > Signing with 🝍\\n',\n",
       " '2021-04-02 19:25:04.944 | DEBUG    | syft.logger:log_and_print:76 - Serializing syft.grid.services.signaling_service.OfferPullRequestMessage\\n',\n",
       " '2021-04-02 19:25:04.945 | DEBUG    | syft.logger:log_and_print:76 - > Creating Signed ✉️ 🔏 (SignedImmediateSyftMessageWithReply) <UID:🚷🚍>\\n',\n",
       " '2021-04-02 19:25:04.945 | DEBUG    | syft.logger:log_and_print:76 - Serializing syft.core.common.message.SignedImmediateSyftMessageWithReply\\n',\n",
       " '2021-04-02 19:25:04.945 | DEBUG    | syft.logger:log_and_print:76 - > ✉️ 🔏 -> Proto 🔢 <UID: 57d4a04a3822480c9da9d878e98548cf>\\n',\n",
       " '2021-04-02 19:25:05.553 | DEBUG    | syft.logger:log_and_print:76 - > Creating ✉️  (SignalingOfferMessage) <UID:🛩🚉>\\n',\n",
       " '2021-04-02 19:25:05.553 | DEBUG    | syft.logger:log_and_print:76 - > Creating Signed ✉️ 🔏 (SignedImmediateSyftMessageWithoutReply) <UID:🛩🚉>\\n',\n",
       " '2021-04-02 19:25:05.554 | DEBUG    | syft.logger:log_and_print:76 - > ✉️ 🔏 <- 🔢 Proto\\n',\n",
       " '2021-04-02 19:25:05.555 | DEBUG    | syft.logger:log_and_print:76 - > Creating ✉️  (SignalingOfferMessage) <UID:🛩🚉>\\n',\n",
       " '2021-04-02 19:25:05.597 | DEBUG    | syft.logger:log_and_print:76 - > Creating ✉️  (SignalingAnswerMessage) <UID:\\U0001f6db🙓>\\n',\n",
       " '2021-04-02 19:25:05.598 | DEBUG    | syft.logger:log_and_print:76 - > 📡 [🔗] om-net Client (NetworkClient)@<UID:🚶🚵> Signing ✉️  (SignalingAnswerMessage) with 🝍\\n',\n",
       " '2021-04-02 19:25:05.599 | DEBUG    | syft.logger:log_and_print:76 - > Signing with 🝍\\n',\n",
       " '2021-04-02 19:25:05.600 | DEBUG    | syft.logger:log_and_print:76 - Serializing syft.grid.services.signaling_service.SignalingAnswerMessage\\n',\n",
       " '2021-04-02 19:25:05.601 | DEBUG    | syft.logger:log_and_print:76 - > Creating Signed ✉️ 🔏 (SignedImmediateSyftMessageWithoutReply) <UID:\\U0001f6db🙓>\\n',\n",
       " '2021-04-02 19:25:05.601 | DEBUG    | syft.logger:log_and_print:76 - > Sending ✉️ 🔏 (SignedImmediateSyftMessageWithoutReply) 📡 [🔗] om-net Client (NetworkClient)@<UID:🚶🚵> ➡️  💠 [🔗] om-net Client (Address)\\n',\n",
       " '2021-04-02 19:25:05.602 | DEBUG    | syft.logger:log_and_print:76 - > Routing ✉️ 🔏 (SignedImmediateSyftMessageWithoutReply) via 🛣️  (SoloRoute)\\n',\n",
       " '2021-04-02 19:25:05.602 | DEBUG    | syft.logger:log_and_print:76 - Serializing syft.core.common.message.SignedImmediateSyftMessageWithoutReply\\n',\n",
       " '2021-04-02 19:25:05.602 | DEBUG    | syft.logger:log_and_print:76 - > ✉️ 🔏 -> Proto 🔢 <UID: b4472a9592e1495f95da4b8b1529bd2a>\\n',\n",
       " '2021-04-02 19:25:06.175 | ERROR    | syft.logger:log_and_print:76 - Got an exception in Duet pull. \\n',\n",
       " '2021-04-02 19:25:06.287 | INFO     | syft.logger:log_and_print:76 - Skipping torch.Tensor.xpu not supported in 1.7.1\\n',\n",
       " '2021-04-02 19:25:06.287 | INFO     | syft.logger:log_and_print:76 - Skipping torch.Tensor.tile not supported in 1.7.1\\n',\n",
       " '2021-04-02 19:25:06.287 | INFO     | syft.logger:log_and_print:76 - Skipping torch.Tensor.fmax not supported in 1.7.1\\n',\n",
       " '2021-04-02 19:25:06.288 | INFO     | syft.logger:log_and_print:76 - Skipping torch.Tensor.ldexp_ not supported in 1.7.1\\n',\n",
       " '2021-04-02 19:25:06.288 | INFO     | syft.logger:log_and_print:76 - Skipping torch.Tensor.sinc not supported in 1.7.1\\n',\n",
       " '2021-04-02 19:25:06.288 | INFO     | syft.logger:log_and_print:76 - Skipping torch.kron not supported in 1.7.1\\n',\n",
       " '2021-04-02 19:25:06.288 | INFO     | syft.logger:log_and_print:76 - Skipping torch.Tensor.nan_to_num not supported in 1.7.1\\n',\n",
       " '2021-04-02 19:25:06.288 | INFO     | syft.logger:log_and_print:76 - Skipping torch.msort not supported in 1.7.1\\n',\n",
       " '2021-04-02 19:25:06.288 | INFO     | syft.logger:log_and_print:76 - Skipping torch.row_stack not supported in 1.7.1\\n',\n",
       " '2021-04-02 19:25:06.289 | INFO     | syft.logger:log_and_print:76 - Skipping torch.Tensor.new_empty_strided not supported in 1.7.1\\n',\n",
       " '2021-04-02 19:25:06.289 | INFO     | syft.logger:log_and_print:76 - Skipping torch.Tensor.ravel not supported in 1.7.1\\n',\n",
       " '2021-04-02 19:25:06.289 | INFO     | syft.logger:log_and_print:76 - Skipping torch.Tensor.swapdims_ not supported in 1.7.1\\n',\n",
       " '2021-04-02 19:25:06.289 | INFO     | syft.logger:log_and_print:76 - Skipping torch.moveaxis not supported in 1.7.1\\n',\n",
       " '2021-04-02 19:25:06.289 | INFO     | syft.logger:log_and_print:76 - Skipping torch.Tensor.swapaxes not supported in 1.7.1\\n',\n",
       " '2021-04-02 19:25:06.290 | INFO     | syft.logger:log_and_print:76 - Skipping torch.tensor_split not supported in 1.7.1\\n',\n",
       " '2021-04-02 19:25:06.290 | INFO     | syft.logger:log_and_print:76 - Skipping torch.Tensor.tensor_split not supported in 1.7.1\\n',\n",
       " '2021-04-02 19:25:06.290 | INFO     | syft.logger:log_and_print:76 - Skipping torch.tile not supported in 1.7.1\\n',\n",
       " '2021-04-02 19:25:06.290 | INFO     | syft.logger:log_and_print:76 - Skipping torch.Tensor.float_power_ not supported in 1.7.1\\n',\n",
       " '2021-04-02 19:25:06.290 | INFO     | syft.logger:log_and_print:76 - Skipping torch.Tensor.broadcast_to not supported in 1.7.1\\n',\n",
       " '2021-04-02 19:25:06.290 | INFO     | syft.logger:log_and_print:76 - Skipping torch.fmin not supported in 1.7.1\\n',\n",
       " '2021-04-02 19:25:06.290 | INFO     | syft.logger:log_and_print:76 - Skipping torch.ldexp not supported in 1.7.1\\n',\n",
       " '2021-04-02 19:25:06.291 | INFO     | syft.logger:log_and_print:76 - Skipping torch.Tensor.swapdims not supported in 1.7.1\\n',\n",
       " '2021-04-02 19:25:06.291 | INFO     | syft.logger:log_and_print:76 - Skipping torch.igamma not supported in 1.7.1\\n',\n",
       " '2021-04-02 19:25:06.291 | INFO     | syft.logger:log_and_print:76 - Skipping torch.Tensor.nan_to_num_ not supported in 1.7.1\\n',\n",
       " '2021-04-02 19:25:06.291 | INFO     | syft.logger:log_and_print:76 - Skipping torch.Tensor.copysign not supported in 1.7.1\\n',\n",
       " '2021-04-02 19:25:06.291 | INFO     | syft.logger:log_and_print:76 - Skipping torch.Tensor.swapaxes_ not supported in 1.7.1\\n',\n",
       " '2021-04-02 19:25:06.291 | INFO     | syft.logger:log_and_print:76 - Skipping torch.Tensor.cumprod_ not supported in 1.7.1\\n',\n",
       " '2021-04-02 19:25:06.291 | INFO     | syft.logger:log_and_print:76 - Skipping torch.Tensor.ldexp not supported in 1.7.1\\n',\n",
       " '2021-04-02 19:25:06.291 | INFO     | syft.logger:log_and_print:76 - Skipping torch.Tensor.igamma_ not supported in 1.7.1\\n',\n",
       " '2021-04-02 19:25:06.292 | INFO     | syft.logger:log_and_print:76 - Skipping torch.float_power not supported in 1.7.1\\n',\n",
       " '2021-04-02 19:25:06.292 | INFO     | syft.logger:log_and_print:76 - Skipping torch.Tensor.igammac_ not supported in 1.7.1\\n',\n",
       " '2021-04-02 19:25:06.292 | INFO     | syft.logger:log_and_print:76 - Skipping torch.xlogy not supported in 1.7.1\\n',\n",
       " '2021-04-02 19:25:06.292 | INFO     | syft.logger:log_and_print:76 - Skipping torch.copysign not supported in 1.7.1\\n',\n",
       " '2021-04-02 19:25:06.292 | INFO     | syft.logger:log_and_print:76 - Skipping torch.nanmedian not supported in 1.7.1\\n',\n",
       " '2021-04-02 19:25:06.292 | INFO     | syft.logger:log_and_print:76 - Skipping torch.igammac not supported in 1.7.1\\n',\n",
       " '2021-04-02 19:25:06.292 | INFO     | syft.logger:log_and_print:76 - Skipping torch.Tensor.cumsum_ not supported in 1.7.1\\n',\n",
       " '2021-04-02 19:25:06.292 | INFO     | syft.logger:log_and_print:76 - Skipping torch.diff not supported in 1.7.1\\n',\n",
       " '2021-04-02 19:25:06.293 | INFO     | syft.logger:log_and_print:76 - Skipping torch.Tensor.igamma not supported in 1.7.1\\n',\n",
       " '2021-04-02 19:25:06.293 | INFO     | syft.logger:log_and_print:76 - Skipping torch.sinc not supported in 1.7.1\\n',\n",
       " '2021-04-02 19:25:06.293 | INFO     | syft.logger:log_and_print:76 - Skipping torch.Tensor.igammac not supported in 1.7.1\\n',\n",
       " '2021-04-02 19:25:06.293 | INFO     | syft.logger:log_and_print:76 - Skipping torch.Tensor.kron not supported in 1.7.1\\n',\n",
       " '2021-04-02 19:25:06.293 | INFO     | syft.logger:log_and_print:76 - Skipping torch.column_stack not supported in 1.7.1\\n',\n",
       " '2021-04-02 19:25:06.293 | INFO     | syft.logger:log_and_print:76 - Skipping torch.Tensor.msort not supported in 1.7.1\\n',\n",
       " '2021-04-02 19:25:06.293 | INFO     | syft.logger:log_and_print:76 - Skipping torch.pixel_unshuffle not supported in 1.7.1\\n',\n",
       " '2021-04-02 19:25:06.293 | INFO     | syft.logger:log_and_print:76 - Skipping torch.Tensor.fmin not supported in 1.7.1\\n',\n",
       " '2021-04-02 19:25:06.294 | INFO     | syft.logger:log_and_print:76 - Skipping torch.Tensor.xlogy not supported in 1.7.1\\n',\n",
       " '2021-04-02 19:25:06.294 | INFO     | syft.logger:log_and_print:76 - Skipping torch.Tensor.moveaxis not supported in 1.7.1\\n',\n",
       " '2021-04-02 19:25:06.294 | INFO     | syft.logger:log_and_print:76 - Skipping torch.swapaxes not supported in 1.7.1\\n',\n",
       " '2021-04-02 19:25:06.294 | INFO     | syft.logger:log_and_print:76 - Skipping torch.nan_to_num not supported in 1.7.1\\n',\n",
       " '2021-04-02 19:25:06.294 | INFO     | syft.logger:log_and_print:76 - Skipping torch.inner not supported in 1.7.1\\n',\n",
       " '2021-04-02 19:25:06.294 | INFO     | syft.logger:log_and_print:76 - Skipping torch.fmax not supported in 1.7.1\\n',\n",
       " '2021-04-02 19:25:06.294 | INFO     | syft.logger:log_and_print:76 - Skipping torch.Tensor.float_power not supported in 1.7.1\\n',\n",
       " '2021-04-02 19:25:06.295 | INFO     | syft.logger:log_and_print:76 - Skipping torch.Tensor.nanmedian not supported in 1.7.1\\n',\n",
       " '2021-04-02 19:25:06.295 | INFO     | syft.logger:log_and_print:76 - Skipping torch.Tensor.sinc_ not supported in 1.7.1\\n',\n",
       " '2021-04-02 19:25:06.295 | INFO     | syft.logger:log_and_print:76 - Skipping torch.Tensor.copysign_ not supported in 1.7.1\\n',\n",
       " '2021-04-02 19:25:06.295 | INFO     | syft.logger:log_and_print:76 - Skipping torch.ravel not supported in 1.7.1\\n',\n",
       " '2021-04-02 19:25:06.295 | INFO     | syft.logger:log_and_print:76 - Skipping torch.broadcast_to not supported in 1.7.1\\n',\n",
       " '2021-04-02 19:25:06.295 | INFO     | syft.logger:log_and_print:76 - Skipping torch.Tensor.diff not supported in 1.7.1\\n',\n",
       " '2021-04-02 19:25:06.295 | INFO     | syft.logger:log_and_print:76 - Skipping torch.Tensor.xlogy_ not supported in 1.7.1\\n',\n",
       " '2021-04-02 19:25:06.296 | INFO     | syft.logger:log_and_print:76 - Skipping torch.swapdims not supported in 1.7.1\\n',\n",
       " '2021-04-02 19:25:06.296 | INFO     | syft.logger:log_and_print:76 - Skipping torch.Tensor.inner not supported in 1.7.1\\n',\n",
       " '2021-04-02 19:25:06.318 | CRITICAL | syft.logger:log_and_print:76 - Skipping torchvision.torchvision.transforms.functional.adjust_sharpness not supported in 0.8.2\\n',\n",
       " '2021-04-02 19:25:06.319 | CRITICAL | syft.logger:log_and_print:76 - Skipping torchvision.torchvision.transforms.functional.autocontrast not supported in 0.8.2\\n',\n",
       " '2021-04-02 19:25:06.319 | CRITICAL | syft.logger:log_and_print:76 - Skipping torchvision.torchvision.transforms.functional.equalize not supported in 0.8.2\\n',\n",
       " '2021-04-02 19:25:06.320 | CRITICAL | syft.logger:log_and_print:76 - Skipping torchvision.torchvision.transforms.functional.invert not supported in 0.8.2\\n',\n",
       " '2021-04-02 19:25:06.321 | CRITICAL | syft.logger:log_and_print:76 - Skipping torchvision.torchvision.transforms.functional.posterize not supported in 0.8.2\\n',\n",
       " '2021-04-02 19:25:06.322 | CRITICAL | syft.logger:log_and_print:76 - Skipping torchvision.torchvision.transforms.functional.solarize not supported in 0.8.2\\n',\n",
       " '2021-04-02 19:25:06.433 | DEBUG    | syft.logger:log_and_print:76 - > Creating 📡 [🏰] Launcher Client (Duet)@<UID:🙙🚌>\\n',\n",
       " \"2021-04-02 19:25:06.441 | DEBUG    | syft.widget_logger:log_and_print:90 - failed to log exception. info() missing 1 required positional argument: '_Logger__message'\\n\",\n",
       " '2021-04-02 19:25:06.449 | INFO     | syft.widget_logger:log_and_print:84 - ♫♫♫ > \\x1b[92mCONNECTED!\\x1b[0m\\n']"
      ]
     },
     "execution_count": 6,
     "metadata": {},
     "output_type": "execute_result"
    }
   ],
   "source": [
    "LOG_LIST"
   ]
  },
  {
   "cell_type": "code",
   "execution_count": null,
   "metadata": {},
   "outputs": [],
   "source": []
  }
 ],
 "metadata": {
  "kernelspec": {
   "display_name": "PySyft",
   "language": "python",
   "name": "pysyft"
  },
  "language_info": {
   "codemirror_mode": {
    "name": "ipython",
    "version": 3
   },
   "file_extension": ".py",
   "mimetype": "text/x-python",
   "name": "python",
   "nbconvert_exporter": "python",
   "pygments_lexer": "ipython3",
   "version": "3.6.9"
  },
  "widgets": {
   "application/vnd.jupyter.widget-state+json": {
    "state": {
     "01569d044b804fbfb99c4405876b97b8": {
      "model_module": "@jupyter-widgets/controls",
      "model_module_version": "1.5.0",
      "model_name": "ButtonStyleModel",
      "state": {}
     },
     "019f67bcb7004377b70eb0e5ce891ecf": {
      "model_module": "@jupyter-widgets/output",
      "model_module_version": "1.0.0",
      "model_name": "OutputModel",
      "state": {
       "layout": "IPY_MODEL_d52458d04ff14e9b81f2ab2d59336b26"
      }
     },
     "01c4c84d714342dabfd853743a8ea7db": {
      "model_module": "@jupyter-widgets/controls",
      "model_module_version": "1.5.0",
      "model_name": "ButtonStyleModel",
      "state": {}
     },
     "0229268639fc45eb9bbb57fd1fd71bf4": {
      "model_module": "@jupyter-widgets/base",
      "model_module_version": "1.2.0",
      "model_name": "LayoutModel",
      "state": {
       "border": "1px solid black"
      }
     },
     "028ab5a0bdec497f9e81416b08e6d6b2": {
      "model_module": "@jupyter-widgets/base",
      "model_module_version": "1.2.0",
      "model_name": "LayoutModel",
      "state": {
       "height": "80px",
       "width": "33%"
      }
     },
     "030e929314924ec8b723ed3cb68f8a86": {
      "model_module": "@jupyter-widgets/base",
      "model_module_version": "1.2.0",
      "model_name": "LayoutModel",
      "state": {}
     },
     "03def018882746229844d5d9001eb890": {
      "model_module": "@jupyter-widgets/controls",
      "model_module_version": "1.5.0",
      "model_name": "ButtonModel",
      "state": {
       "button_style": "info",
       "description": "View Peers",
       "icon": "eye",
       "layout": "IPY_MODEL_44d1987f20a64de3b22d410a2bf5ce3e",
       "style": "IPY_MODEL_6dc449d4e9b0481f819b2637b2a29d9e",
       "tooltip": "View Peers"
      }
     },
     "044423b51cfa409ab2620d53834bad91": {
      "model_module": "@jupyter-widgets/controls",
      "model_module_version": "1.5.0",
      "model_name": "ButtonStyleModel",
      "state": {}
     },
     "04dfaf47fbb646ee917df0d66e5e81d1": {
      "model_module": "@jupyter-widgets/controls",
      "model_module_version": "1.5.0",
      "model_name": "ButtonModel",
      "state": {
       "button_style": "success",
       "description": "Join Duet(with loopback)",
       "icon": "plug",
       "layout": "IPY_MODEL_7f95d25369e44f92a3740964bfc76afa",
       "style": "IPY_MODEL_4f92cce37f3840f8a54e07c4dd551f5c",
       "tooltip": "Join Duet(with loopback)"
      }
     },
     "04fa9905e0be4d74b10a1b101c98a6c0": {
      "model_module": "@jupyter-widgets/controls",
      "model_module_version": "1.5.0",
      "model_name": "ButtonModel",
      "state": {
       "button_style": "danger",
       "description": "Disconnect from Duet",
       "icon": "window-close-o",
       "layout": "IPY_MODEL_3de47daa33b2408490765b989ab6b39e",
       "style": "IPY_MODEL_e6da637296904827824a12189e3f2876",
       "tooltip": "Disconnect from Duet"
      }
     },
     "056ab5bded6349ab9d46830c5ede7230": {
      "model_module": "@jupyter-widgets/output",
      "model_module_version": "1.0.0",
      "model_name": "OutputModel",
      "state": {
       "layout": "IPY_MODEL_96ef5685747643e29dcc3e23f85c5430",
       "outputs": [
        {
         "name": "stdout",
         "output_type": "stream",
         "text": "🎤  🎸  ♪♪♪ Joining Duet ♫♫♫  🎻  🎹\n\n♫♫♫ >\u001b[93m DISCLAIMER\u001b[0m: \u001b[1mDuet is an experimental feature currently in beta.\n♫♫♫ > Use at your own risk.\n\u001b[0m\n\u001b[1m\n    > ❤️ \u001b[91mLove\u001b[0m \u001b[92mDuet\u001b[0m? \u001b[93mPlease\u001b[0m \u001b[94mconsider\u001b[0m \u001b[95msupporting\u001b[0m \u001b[91mour\u001b[0m \u001b[93mcommunity!\u001b[0m\n    > https://github.com/sponsors/OpenMined\u001b[1m\n\n♫♫♫ > Punching through firewall to OpenGrid Network Node at:\n♫♫♫ > http://ec2-18-216-8-163.us-east-2.compute.amazonaws.com:5000\n♫♫♫ >\n♫♫♫ > ...waiting for response from OpenGrid Network... \n♫♫♫ > \u001b[92mDONE!\u001b[0m\n\n"
        },
        {
         "name": "stderr",
         "output_type": "stream",
         "text": "[2021-04-02T18:33:54.860461+0530][CRITICAL][logger]][29660] Skipping torchvision.torchvision.transforms.functional.posterize not supported in 0.8.2\n"
        },
        {
         "name": "stdout",
         "output_type": "stream",
         "text": "♫♫♫ > \u001b[92mCONNECTED!\u001b[0m\n"
        }
       ]
      }
     },
     "058f1d38e95c4728b0fca39510174f08": {
      "model_module": "@jupyter-widgets/controls",
      "model_module_version": "1.5.0",
      "model_name": "ButtonStyleModel",
      "state": {}
     },
     "05a2f8a8c0014e599e00f4d2f8a78d39": {
      "model_module": "@jupyter-widgets/base",
      "model_module_version": "1.2.0",
      "model_name": "LayoutModel",
      "state": {
       "height": "80px",
       "width": "33%"
      }
     },
     "05bd50ece7ce4095a1ab388267284a3f": {
      "model_module": "@jupyter-widgets/base",
      "model_module_version": "1.2.0",
      "model_name": "LayoutModel",
      "state": {
       "align_items": "stretch",
       "border": "1px solid black",
       "display": "flex",
       "flex_flow": "column"
      }
     },
     "07fd32b3378b4b5f90b02729d0ca2e55": {
      "model_module": "@jupyter-widgets/controls",
      "model_module_version": "1.5.0",
      "model_name": "ButtonModel",
      "state": {
       "button_style": "success",
       "description": "Search Logs",
       "icon": "search",
       "layout": "IPY_MODEL_0c3386168d7d4a829bb896623cafd94a",
       "style": "IPY_MODEL_e447c564524148efb8481551f1e36372",
       "tooltip": "Search Logs"
      }
     },
     "08be65dd130d4e5d823a119ed418bdcc": {
      "model_module": "@jupyter-widgets/controls",
      "model_module_version": "1.5.0",
      "model_name": "HBoxModel",
      "state": {
       "children": [
        "IPY_MODEL_8d5dcd00f1cd49b6ac08096322bc9df2",
        "IPY_MODEL_04dfaf47fbb646ee917df0d66e5e81d1",
        "IPY_MODEL_03def018882746229844d5d9001eb890"
       ],
       "layout": "IPY_MODEL_7b9607ec2c644e90a450b08816373e98"
      }
     },
     "08bff0e6e9924aff86f82f075eeb6c5e": {
      "model_module": "@jupyter-widgets/controls",
      "model_module_version": "1.5.0",
      "model_name": "HBoxModel",
      "state": {
       "children": [
        "IPY_MODEL_dc331a6aa7874116bbf66587ef64d6cc",
        "IPY_MODEL_4a72486495424c558ee4f5960113f34d",
        "IPY_MODEL_4556675a7b63427c8f7bb0e7dcc7c8be"
       ],
       "layout": "IPY_MODEL_6284bbe53fb040d3aefcdf1721028554"
      }
     },
     "0a39a503e3de48b7a947aa46bcd75151": {
      "model_module": "@jupyter-widgets/controls",
      "model_module_version": "1.5.0",
      "model_name": "ButtonStyleModel",
      "state": {}
     },
     "0a594cb0a70442f8b925a05b81a32809": {
      "model_module": "@jupyter-widgets/base",
      "model_module_version": "1.2.0",
      "model_name": "LayoutModel",
      "state": {
       "height": "80px",
       "width": "33%"
      }
     },
     "0c3386168d7d4a829bb896623cafd94a": {
      "model_module": "@jupyter-widgets/base",
      "model_module_version": "1.2.0",
      "model_name": "LayoutModel",
      "state": {
       "height": "80px",
       "width": "33%"
      }
     },
     "0cb28f20b4e443e68ca06f4e551ab407": {
      "model_module": "@jupyter-widgets/base",
      "model_module_version": "1.2.0",
      "model_name": "LayoutModel",
      "state": {
       "border": "1px solid black"
      }
     },
     "0cb7e4005ef14df192b50c704524db40": {
      "model_module": "@jupyter-widgets/controls",
      "model_module_version": "1.5.0",
      "model_name": "ButtonModel",
      "state": {
       "button_style": "warning",
       "description": "Join Grid",
       "icon": "plug",
       "layout": "IPY_MODEL_2ccae744ba794c2ba1fde8147d93d9f4",
       "style": "IPY_MODEL_e634c04f8ab0489495dd8b9a2b22881e",
       "tooltip": "Join Grid"
      }
     },
     "0cdeabd556b44d569baf41ba6006e8a2": {
      "model_module": "@jupyter-widgets/controls",
      "model_module_version": "1.5.0",
      "model_name": "ButtonStyleModel",
      "state": {}
     },
     "0d2357a851974d8ba7e7c020a6ba7936": {
      "model_module": "@jupyter-widgets/base",
      "model_module_version": "1.2.0",
      "model_name": "LayoutModel",
      "state": {}
     },
     "0ec1de615b2843cebcb7cff24d684026": {
      "model_module": "@jupyter-widgets/base",
      "model_module_version": "1.2.0",
      "model_name": "LayoutModel",
      "state": {
       "height": "80px",
       "width": "33%"
      }
     },
     "0f0716624255477f8c23957d2e72a4e8": {
      "model_module": "@jupyter-widgets/base",
      "model_module_version": "1.2.0",
      "model_name": "LayoutModel",
      "state": {
       "border": "1px solid black"
      }
     },
     "0f5ac55988a34753846735778aa6c2e7": {
      "model_module": "@jupyter-widgets/base",
      "model_module_version": "1.2.0",
      "model_name": "LayoutModel",
      "state": {
       "height": "80px",
       "width": "33%"
      }
     },
     "1080078b8bf147b78239c3b2de4a8e9c": {
      "model_module": "@jupyter-widgets/controls",
      "model_module_version": "1.5.0",
      "model_name": "ButtonStyleModel",
      "state": {}
     },
     "110a02553f804ba3b1c7f808ad972144": {
      "model_module": "@jupyter-widgets/base",
      "model_module_version": "1.2.0",
      "model_name": "LayoutModel",
      "state": {}
     },
     "113ab5b0e734410b9bc660afea1aa55f": {
      "model_module": "@jupyter-widgets/output",
      "model_module_version": "1.0.0",
      "model_name": "OutputModel",
      "state": {
       "layout": "IPY_MODEL_b9f6234f9bfa4230ab5e39acd4ce4df8"
      }
     },
     "11faf1b6ceed4c9a9102258b0cc9f884": {
      "model_module": "@jupyter-widgets/base",
      "model_module_version": "1.2.0",
      "model_name": "LayoutModel",
      "state": {
       "height": "80px",
       "width": "33%"
      }
     },
     "122a33ef4e794948bed0959a27300d03": {
      "model_module": "@jupyter-widgets/output",
      "model_module_version": "1.0.0",
      "model_name": "OutputModel",
      "state": {
       "layout": "IPY_MODEL_ba8721dc39bb4a879968967755a26a96",
       "outputs": [
        {
         "data": {
          "image/png": "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\n",
          "text/plain": "<IPython.core.display.Image object>"
         },
         "metadata": {
          "image/png": {
           "unconfined": true,
           "width": 400
          }
         },
         "output_type": "display_data"
        },
        {
         "name": "stderr",
         "output_type": "stream",
         "text": "[2021-04-02T18:30:00.853632+0530][CRITICAL][logger]][29452] Skipping torchvision.torchvision.transforms.functional.adjust_sharpness not supported in 0.8.2\n[2021-04-02T18:30:00.854187+0530][CRITICAL][logger]][29452] Skipping torchvision.torchvision.transforms.functional.autocontrast not supported in 0.8.2\n[2021-04-02T18:30:00.854630+0530][CRITICAL][logger]][29452] Skipping torchvision.torchvision.transforms.functional.equalize not supported in 0.8.2\n[2021-04-02T18:30:00.855114+0530][CRITICAL][logger]][29452] Skipping torchvision.torchvision.transforms.functional.invert not supported in 0.8.2\n[2021-04-02T18:30:00.855545+0530][CRITICAL][logger]][29452] Skipping torchvision.torchvision.transforms.functional.posterize not supported in 0.8.2\n[2021-04-02T18:30:00.856051+0530][CRITICAL][logger]][29452] Skipping torchvision.torchvision.transforms.functional.solarize not supported in 0.8.2\n[2021-04-02T18:30:04.188697+0530][CRITICAL][logger]][29452] Skipping torchvision.torchvision.transforms.functional.adjust_sharpness not supported in 0.8.2\n[2021-04-02T18:30:04.189181+0530][CRITICAL][logger]][29452] Skipping torchvision.torchvision.transforms.functional.autocontrast not supported in 0.8.2\n[2021-04-02T18:30:04.189615+0530][CRITICAL][logger]][29452] Skipping torchvision.torchvision.transforms.functional.equalize not supported in 0.8.2\n[2021-04-02T18:30:04.191068+0530][CRITICAL][logger]][29452] Skipping torchvision.torchvision.transforms.functional.solarize not supported in 0.8.2\n"
        }
       ]
      }
     },
     "128ceb0b26824bb89db62b9b721cd8f9": {
      "model_module": "@jupyter-widgets/base",
      "model_module_version": "1.2.0",
      "model_name": "LayoutModel",
      "state": {}
     },
     "12db6dc8908e4ab7a030eecf46dd612f": {
      "model_module": "@jupyter-widgets/base",
      "model_module_version": "1.2.0",
      "model_name": "LayoutModel",
      "state": {
       "height": "80px",
       "width": "33%"
      }
     },
     "131213b05f29449f956bb4f340708441": {
      "model_module": "@jupyter-widgets/controls",
      "model_module_version": "1.5.0",
      "model_name": "HBoxModel",
      "state": {
       "children": [
        "IPY_MODEL_f2eb676ed64b48429bdb19c4f8c13c18",
        "IPY_MODEL_db91bee061834ef4bdbe125b39ff75f8",
        "IPY_MODEL_e647ac8f4c8c4d0ab8042c2cc7cbb16f"
       ],
       "layout": "IPY_MODEL_f885818885d642e9a94da78ea8a3c42e"
      }
     },
     "139995725d6a40a3979a047232f7b682": {
      "model_module": "@jupyter-widgets/base",
      "model_module_version": "1.2.0",
      "model_name": "LayoutModel",
      "state": {
       "height": "80px",
       "width": "33%"
      }
     },
     "13c8a53177f347c68bac4f9d5a6fb272": {
      "model_module": "@jupyter-widgets/controls",
      "model_module_version": "1.5.0",
      "model_name": "ButtonModel",
      "state": {
       "button_style": "warning",
       "description": "Support OpenMined",
       "icon": "money",
       "layout": "IPY_MODEL_ce3b287335b94b588a2061d6415a77f0",
       "style": "IPY_MODEL_631a7ba33e5349169945c50e4cdb648f",
       "tooltip": "Support"
      }
     },
     "13ce35d8fe5440b3866372726846979d": {
      "model_module": "@jupyter-widgets/controls",
      "model_module_version": "1.5.0",
      "model_name": "ButtonModel",
      "state": {
       "button_style": "danger",
       "description": "Disconnect from Duet",
       "icon": "window-close-o",
       "layout": "IPY_MODEL_acf81efe3a2a45119168622005955956",
       "style": "IPY_MODEL_01c4c84d714342dabfd853743a8ea7db",
       "tooltip": "Disconnect from Duet"
      }
     },
     "153030f1a6264ad684dc0ea21e8084ab": {
      "model_module": "@jupyter-widgets/base",
      "model_module_version": "1.2.0",
      "model_name": "LayoutModel",
      "state": {}
     },
     "153efa677b264c9d83085d07c3d710a0": {
      "model_module": "@jupyter-widgets/controls",
      "model_module_version": "1.5.0",
      "model_name": "ButtonModel",
      "state": {
       "button_style": "info",
       "description": "View Peers",
       "icon": "eye",
       "layout": "IPY_MODEL_fd28adabc33e49deb13653a05d2fd0bc",
       "style": "IPY_MODEL_0a39a503e3de48b7a947aa46bcd75151",
       "tooltip": "View Peers"
      }
     },
     "16b8ec756d6f48f0805117d61dd3acaa": {
      "model_module": "@jupyter-widgets/controls",
      "model_module_version": "1.5.0",
      "model_name": "HBoxModel",
      "state": {
       "children": [
        "IPY_MODEL_f0d33a8dea9c4629b051d6bff0ffe42e",
        "IPY_MODEL_266abdec82db432f8a868561560aab96",
        "IPY_MODEL_a88f64ba908742019dc232bc760d1e65"
       ],
       "layout": "IPY_MODEL_d6f17a9cb4344975bbf2433071cb7ff4"
      }
     },
     "17467c94385f41f79b58344ef9f5a1b2": {
      "model_module": "@jupyter-widgets/base",
      "model_module_version": "1.2.0",
      "model_name": "LayoutModel",
      "state": {
       "height": "80px",
       "width": "33%"
      }
     },
     "17675cd3ea29499780c31ebee74ae9f1": {
      "model_module": "@jupyter-widgets/controls",
      "model_module_version": "1.5.0",
      "model_name": "ButtonModel",
      "state": {
       "button_style": "info",
       "description": "View Peers",
       "icon": "eye",
       "layout": "IPY_MODEL_139995725d6a40a3979a047232f7b682",
       "style": "IPY_MODEL_864c2413cef64e84a09d468e52a62701",
       "tooltip": "View Peers"
      }
     },
     "17692d1d80db43cb9e2aeffd14f562ca": {
      "model_module": "@jupyter-widgets/controls",
      "model_module_version": "1.5.0",
      "model_name": "ButtonStyleModel",
      "state": {}
     },
     "18957ef2389b486b94d41e9781736937": {
      "model_module": "@jupyter-widgets/base",
      "model_module_version": "1.2.0",
      "model_name": "LayoutModel",
      "state": {
       "border": "1px solid black"
      }
     },
     "19bf12e169e04a85a32013a96ecbe918": {
      "model_module": "@jupyter-widgets/base",
      "model_module_version": "1.2.0",
      "model_name": "LayoutModel",
      "state": {}
     },
     "1b43ff08600e4fcfa404a88f4fdc1537": {
      "model_module": "@jupyter-widgets/controls",
      "model_module_version": "1.5.0",
      "model_name": "HBoxModel",
      "state": {
       "children": [
        "IPY_MODEL_33f7cad3a01d44ff892b2ce0f38b8504",
        "IPY_MODEL_b9d15f7a9716427ea78287f349e22821",
        "IPY_MODEL_cdca3e8facaf408f9585f19be00c8dcd"
       ],
       "layout": "IPY_MODEL_bca9c3853cca4e4c8e121c93cce16a36"
      }
     },
     "1b64c4d7b6b640e4803e82bf8a3320a0": {
      "model_module": "@jupyter-widgets/controls",
      "model_module_version": "1.5.0",
      "model_name": "HBoxModel",
      "state": {
       "children": [
        "IPY_MODEL_9125e2464e72478994216580e8bab6c3",
        "IPY_MODEL_e77df9237e694dd1bd1902dddd133f60",
        "IPY_MODEL_dd3c852bca2b416896fa497344f2a5b9"
       ],
       "layout": "IPY_MODEL_90d64eb72956472e9d339151baae9d0d"
      }
     },
     "1bb8c9b468fd42edac2905ab87971527": {
      "model_module": "@jupyter-widgets/controls",
      "model_module_version": "1.5.0",
      "model_name": "ButtonStyleModel",
      "state": {}
     },
     "1bebdc7c3c864312bbd44d558a46ec26": {
      "model_module": "@jupyter-widgets/base",
      "model_module_version": "1.2.0",
      "model_name": "LayoutModel",
      "state": {
       "height": "80px",
       "width": "33%"
      }
     },
     "1bee006d530c48c29d0ec248a09dab0b": {
      "model_module": "@jupyter-widgets/base",
      "model_module_version": "1.2.0",
      "model_name": "LayoutModel",
      "state": {}
     },
     "1d12f6cf693045ec93ca67d3d7e3466a": {
      "model_module": "@jupyter-widgets/base",
      "model_module_version": "1.2.0",
      "model_name": "LayoutModel",
      "state": {
       "height": "80px",
       "width": "33%"
      }
     },
     "1dcfe0a519d44ae2867895858cb32627": {
      "model_module": "@jupyter-widgets/controls",
      "model_module_version": "1.5.0",
      "model_name": "ButtonModel",
      "state": {
       "button_style": "info",
       "description": "View Duet Store",
       "icon": "archive",
       "layout": "IPY_MODEL_69f2a79e86cf49bba3170006a9fea3aa",
       "style": "IPY_MODEL_48d3543f482548bebe9b1b793c501dfd",
       "tooltip": "View Duet Store"
      }
     },
     "20ea2cb0a6ea47cc8f0c26b5452d08e2": {
      "model_module": "@jupyter-widgets/base",
      "model_module_version": "1.2.0",
      "model_name": "LayoutModel",
      "state": {
       "height": "80px",
       "width": "33%"
      }
     },
     "21164061e94846c782a5bcdfbc3baf28": {
      "model_module": "@jupyter-widgets/base",
      "model_module_version": "1.2.0",
      "model_name": "LayoutModel",
      "state": {
       "border": "1px solid black"
      }
     },
     "228f1b6156e54f15bdc0a8f9f9498975": {
      "model_module": "@jupyter-widgets/controls",
      "model_module_version": "1.5.0",
      "model_name": "ButtonModel",
      "state": {
       "button_style": "warning",
       "description": "Support OpenMined",
       "icon": "money",
       "layout": "IPY_MODEL_732ccc7461e74c3a8ebd78ff043a7dd7",
       "style": "IPY_MODEL_89e055ee6b9647f7a5940435a291f773",
       "tooltip": "Support"
      }
     },
     "22a6ef5c6d814eeab9deaed5953eb2c9": {
      "model_module": "@jupyter-widgets/base",
      "model_module_version": "1.2.0",
      "model_name": "LayoutModel",
      "state": {
       "align_items": "stretch",
       "border": "1px solid black",
       "display": "flex",
       "flex_flow": "column"
      }
     },
     "2465e36a0ed34bfcada0214bc36cb24b": {
      "model_module": "@jupyter-widgets/controls",
      "model_module_version": "1.5.0",
      "model_name": "HBoxModel",
      "state": {
       "children": [
        "IPY_MODEL_bde07ede5f8545ab82b9fbaf29043d5d",
        "IPY_MODEL_5ba9f5390ac54c2c9be2e6eacd90b921",
        "IPY_MODEL_7b0da9254f2c4986907e323d4d7eae20"
       ],
       "layout": "IPY_MODEL_cebbc7b845c849cc97b378f396020e63"
      }
     },
     "249b651b67354472a5531d02882c177b": {
      "model_module": "@jupyter-widgets/base",
      "model_module_version": "1.2.0",
      "model_name": "LayoutModel",
      "state": {
       "height": "80px",
       "width": "33%"
      }
     },
     "24da1d454d7946b2b0b0f214912b0b53": {
      "model_module": "@jupyter-widgets/base",
      "model_module_version": "1.2.0",
      "model_name": "LayoutModel",
      "state": {
       "height": "80px",
       "width": "33%"
      }
     },
     "25238d9ad449451a9ce28bf3c7229427": {
      "model_module": "@jupyter-widgets/controls",
      "model_module_version": "1.5.0",
      "model_name": "ButtonModel",
      "state": {
       "button_style": "info",
       "description": "View Duet Store",
       "icon": "archive",
       "layout": "IPY_MODEL_dd7231ae3d0c441aafdba23607896c6b",
       "style": "IPY_MODEL_cd0b35f9da0c4579b826d3a4c5fe157f",
       "tooltip": "View Duet Store"
      }
     },
     "266abdec82db432f8a868561560aab96": {
      "model_module": "@jupyter-widgets/controls",
      "model_module_version": "1.5.0",
      "model_name": "ButtonModel",
      "state": {
       "button_style": "danger",
       "description": "Disconnect from Duet",
       "icon": "window-close-o",
       "layout": "IPY_MODEL_80040e8e27a34025b4224c928ccd5473",
       "style": "IPY_MODEL_1bb8c9b468fd42edac2905ab87971527",
       "tooltip": "Disconnect from Duet"
      }
     },
     "2750ee57292e4b819f8425def6508f32": {
      "model_module": "@jupyter-widgets/controls",
      "model_module_version": "1.5.0",
      "model_name": "ButtonModel",
      "state": {
       "button_style": "info",
       "description": "Filter Logs",
       "icon": "filter",
       "layout": "IPY_MODEL_12db6dc8908e4ab7a030eecf46dd612f",
       "style": "IPY_MODEL_dde4cc04948848daa508d0bd80d478a0",
       "tooltip": "Filter Logs"
      }
     },
     "2ab42aa6f9584daa96998aff17cd6fe8": {
      "model_module": "@jupyter-widgets/base",
      "model_module_version": "1.2.0",
      "model_name": "LayoutModel",
      "state": {
       "height": "80px",
       "width": "33%"
      }
     },
     "2ae4d91094304265bc1fe36e2025c433": {
      "model_module": "@jupyter-widgets/controls",
      "model_module_version": "1.5.0",
      "model_name": "ButtonModel",
      "state": {
       "button_style": "danger",
       "description": "Disconnect from Duet",
       "icon": "window-close-o",
       "layout": "IPY_MODEL_929db03735094147935755528695b4c5",
       "style": "IPY_MODEL_b9bb8e05d80443f5aa7199acb002e19b",
       "tooltip": "Disconnect from Duet"
      }
     },
     "2b14938342fe417dba24b121a7c3b9ff": {
      "model_module": "@jupyter-widgets/controls",
      "model_module_version": "1.5.0",
      "model_name": "ButtonStyleModel",
      "state": {}
     },
     "2b4b829c71084c8486c3fda53b1f5b6a": {
      "model_module": "@jupyter-widgets/base",
      "model_module_version": "1.2.0",
      "model_name": "LayoutModel",
      "state": {
       "height": "80px",
       "width": "33%"
      }
     },
     "2c1ddb0b5f9c4164a4fd5d80f68ccfce": {
      "model_module": "@jupyter-widgets/controls",
      "model_module_version": "1.5.0",
      "model_name": "ButtonStyleModel",
      "state": {}
     },
     "2c91ab9514dd4041a44e7821978cd7f6": {
      "model_module": "@jupyter-widgets/base",
      "model_module_version": "1.2.0",
      "model_name": "LayoutModel",
      "state": {
       "height": "80px",
       "width": "33%"
      }
     },
     "2ca12067a47f4427a5bf14c6f444321f": {
      "model_module": "@jupyter-widgets/controls",
      "model_module_version": "1.5.0",
      "model_name": "ButtonStyleModel",
      "state": {}
     },
     "2ccae744ba794c2ba1fde8147d93d9f4": {
      "model_module": "@jupyter-widgets/base",
      "model_module_version": "1.2.0",
      "model_name": "LayoutModel",
      "state": {
       "height": "80px",
       "width": "33%"
      }
     },
     "2d02a99c45074cb68f87f54191c708b4": {
      "model_module": "@jupyter-widgets/base",
      "model_module_version": "1.2.0",
      "model_name": "LayoutModel",
      "state": {
       "height": "80px",
       "width": "33%"
      }
     },
     "2d0f4380ae5246538f149d89d7173321": {
      "model_module": "@jupyter-widgets/controls",
      "model_module_version": "1.5.0",
      "model_name": "ButtonStyleModel",
      "state": {}
     },
     "2de4ee76158f45a28133caff09032191": {
      "model_module": "@jupyter-widgets/output",
      "model_module_version": "1.0.0",
      "model_name": "OutputModel",
      "state": {
       "layout": "IPY_MODEL_3bc1a337d32d45bd9ac464366ca8afe8",
       "outputs": [
        {
         "name": "stdout",
         "output_type": "stream",
         "text": "🎤  🎸  ♪♪♪ Joining Duet ♫♫♫  🎻  🎹\n\n♫♫♫ >\u001b[93m DISCLAIMER\u001b[0m: \u001b[1mDuet is an experimental feature currently in beta.\n♫♫♫ > Use at your own risk.\n\u001b[0m\n\u001b[1m\n    > ❤️ \u001b[91mLove\u001b[0m \u001b[92mDuet\u001b[0m? \u001b[93mPlease\u001b[0m \u001b[94mconsider\u001b[0m \u001b[95msupporting\u001b[0m \u001b[91mour\u001b[0m \u001b[93mcommunity!\u001b[0m\n    > https://github.com/sponsors/OpenMined\u001b[1m\n\n♫♫♫ > Punching through firewall to OpenGrid Network Node at:\n♫♫♫ > http://ec2-18-216-8-163.us-east-2.compute.amazonaws.com:5000\n♫♫♫ >\n♫♫♫ > ...waiting for response from OpenGrid Network... \n♫♫♫ > \u001b[92mDONE!\u001b[0m\n\n"
        },
        {
         "name": "stderr",
         "output_type": "stream",
         "text": "[2021-04-02T16:02:38.133170+0530][CRITICAL][logger]][28890] Skipping torchvision.torchvision.transforms.functional.posterize not supported in 0.8.2\n"
        },
        {
         "name": "stdout",
         "output_type": "stream",
         "text": "♫♫♫ > \u001b[92mCONNECTED!\u001b[0m\n"
        }
       ]
      }
     },
     "2df0517c148944e7a91fd7351fe65be8": {
      "model_module": "@jupyter-widgets/output",
      "model_module_version": "1.0.0",
      "model_name": "OutputModel",
      "state": {
       "layout": "IPY_MODEL_2e5eea8f6fbc4fc5854b14e7da7014ba"
      }
     },
     "2e5eea8f6fbc4fc5854b14e7da7014ba": {
      "model_module": "@jupyter-widgets/base",
      "model_module_version": "1.2.0",
      "model_name": "LayoutModel",
      "state": {
       "border": "1px solid black"
      }
     },
     "2e8b41bc3d934637b2741a6a4b84172c": {
      "model_module": "@jupyter-widgets/controls",
      "model_module_version": "1.5.0",
      "model_name": "HBoxModel",
      "state": {
       "children": [
        "IPY_MODEL_87f42b95d35f4e93b318a2c2a865567f",
        "IPY_MODEL_43306be8d86543a7a29b02b62260a8e0",
        "IPY_MODEL_c3345c6a11514c90961e31fb6cbded8a"
       ],
       "layout": "IPY_MODEL_cd32b53760dc48a3bb1ae034f3456d59"
      }
     },
     "2f128d8e3770466e92e0d9faa00549fd": {
      "model_module": "@jupyter-widgets/base",
      "model_module_version": "1.2.0",
      "model_name": "LayoutModel",
      "state": {
       "height": "80px",
       "width": "33%"
      }
     },
     "30574fe2608646ebb72d7cf7085d6c93": {
      "model_module": "@jupyter-widgets/base",
      "model_module_version": "1.2.0",
      "model_name": "LayoutModel",
      "state": {
       "height": "80px",
       "width": "33%"
      }
     },
     "307780fbb6cf44c8a1aeb674ad543e3c": {
      "model_module": "@jupyter-widgets/controls",
      "model_module_version": "1.5.0",
      "model_name": "ButtonModel",
      "state": {
       "button_style": "info",
       "description": "View Duet Store",
       "icon": "archive",
       "layout": "IPY_MODEL_20ea2cb0a6ea47cc8f0c26b5452d08e2",
       "style": "IPY_MODEL_feb6b9594995415f94404ae7dfcd68e5",
       "tooltip": "View Duet Store"
      }
     },
     "30ce544334de446ca310c83c37da75a8": {
      "model_module": "@jupyter-widgets/base",
      "model_module_version": "1.2.0",
      "model_name": "LayoutModel",
      "state": {
       "height": "80px",
       "width": "33%"
      }
     },
     "30d0fc0713e04772b4ecf7c894202117": {
      "model_module": "@jupyter-widgets/controls",
      "model_module_version": "1.5.0",
      "model_name": "ButtonModel",
      "state": {
       "button_style": "danger",
       "description": "Disconnect from Duet",
       "icon": "window-close-o",
       "layout": "IPY_MODEL_8c7908aa93484306b38c8ddc4b438eb6",
       "style": "IPY_MODEL_afc24c24dafe4b7ca144057679783ef6",
       "tooltip": "Disconnect from Duet"
      }
     },
     "3154837c4a534ad58277b06ad508d4cc": {
      "model_module": "@jupyter-widgets/base",
      "model_module_version": "1.2.0",
      "model_name": "LayoutModel",
      "state": {}
     },
     "31a0bcfb64b84b84a18c2adb0fefcd0d": {
      "model_module": "@jupyter-widgets/base",
      "model_module_version": "1.2.0",
      "model_name": "LayoutModel",
      "state": {
       "border": "1px solid black"
      }
     },
     "31b50c92889e4376b993d349c2e211bf": {
      "model_module": "@jupyter-widgets/base",
      "model_module_version": "1.2.0",
      "model_name": "LayoutModel",
      "state": {
       "border": "1px solid black"
      }
     },
     "31d7f683a2a04d8f86fdd2175ee0f134": {
      "model_module": "@jupyter-widgets/controls",
      "model_module_version": "1.5.0",
      "model_name": "ButtonStyleModel",
      "state": {}
     },
     "31eac299f7de4fb5b4a3df4989ab4ae1": {
      "model_module": "@jupyter-widgets/controls",
      "model_module_version": "1.5.0",
      "model_name": "ButtonModel",
      "state": {
       "button_style": "info",
       "description": "View Duet Store",
       "icon": "archive",
       "layout": "IPY_MODEL_7603db11665545448cf5b66d0ddcbbc7",
       "style": "IPY_MODEL_b6f9e09ea8214010aecd29832b8b9c72",
       "tooltip": "View Duet Store"
      }
     },
     "31fde0d5813d4d969aca2d8e4f523d21": {
      "model_module": "@jupyter-widgets/base",
      "model_module_version": "1.2.0",
      "model_name": "LayoutModel",
      "state": {
       "height": "80px",
       "width": "33%"
      }
     },
     "32b80f0af43c44c3b78011c0a4ea0905": {
      "model_module": "@jupyter-widgets/controls",
      "model_module_version": "1.5.0",
      "model_name": "ButtonModel",
      "state": {
       "button_style": "info",
       "description": "View Peers",
       "icon": "eye",
       "layout": "IPY_MODEL_d688c0ad38cb47cb8d22d94c94b8d298",
       "style": "IPY_MODEL_c74ee4b539c84a2c989d1f7a5011d6d5",
       "tooltip": "View Peers"
      }
     },
     "32f9f30d29e54cbfb6ba9b2773608d5d": {
      "model_module": "@jupyter-widgets/controls",
      "model_module_version": "1.5.0",
      "model_name": "ButtonModel",
      "state": {
       "button_style": "info",
       "description": "View Duet Store",
       "icon": "archive",
       "layout": "IPY_MODEL_c061c7b57fa14e48b0b9452da68e7277",
       "style": "IPY_MODEL_edf342d6c4a9416e910072b5bea4cf12",
       "tooltip": "View Duet Store"
      }
     },
     "3343316f0e644dc0912eb03af9c05ea1": {
      "model_module": "@jupyter-widgets/output",
      "model_module_version": "1.0.0",
      "model_name": "OutputModel",
      "state": {
       "layout": "IPY_MODEL_801f26e0952a40a9a7e32434ffe5bdc9"
      }
     },
     "33f7cad3a01d44ff892b2ce0f38b8504": {
      "model_module": "@jupyter-widgets/controls",
      "model_module_version": "1.5.0",
      "model_name": "ButtonModel",
      "state": {
       "button_style": "success",
       "description": "Join Duet",
       "icon": "plug",
       "layout": "IPY_MODEL_d619818fc94d4dca9ee85c376050adc2",
       "style": "IPY_MODEL_b5a1e5f5a1044efe84c111abc34d90ef",
       "tooltip": "Join Duet"
      }
     },
     "33fdb5df3e354eb9b0629b10f1cd6d3f": {
      "model_module": "@jupyter-widgets/base",
      "model_module_version": "1.2.0",
      "model_name": "LayoutModel",
      "state": {
       "height": "80px",
       "width": "33%"
      }
     },
     "34b8ce969cce4676a91a274f4e218f92": {
      "model_module": "@jupyter-widgets/output",
      "model_module_version": "1.0.0",
      "model_name": "OutputModel",
      "state": {
       "layout": "IPY_MODEL_05bd50ece7ce4095a1ab388267284a3f",
       "outputs": [
        {
         "name": "stdout",
         "output_type": "stream",
         "text": "🎤  🎸  ♪♪♪ Joining Duet ♫♫♫  🎻  🎹\n\n♫♫♫ >\u001b[93m DISCLAIMER\u001b[0m: \u001b[1mDuet is an experimental feature currently in beta.\n♫♫♫ > Use at your own risk.\n\u001b[0m\n\u001b[1m\n    > ❤️ \u001b[91mLove\u001b[0m \u001b[92mDuet\u001b[0m? \u001b[93mPlease\u001b[0m \u001b[94mconsider\u001b[0m \u001b[95msupporting\u001b[0m \u001b[91mour\u001b[0m \u001b[93mcommunity!\u001b[0m\n    > https://github.com/sponsors/OpenMined\u001b[1m\n\n♫♫♫ > Punching through firewall to OpenGrid Network Node at:\n♫♫♫ > http://ec2-18-216-8-163.us-east-2.compute.amazonaws.com:5000\n♫♫♫ >\n♫♫♫ > ...waiting for response from OpenGrid Network... \n♫♫♫ > \u001b[92mDONE!\u001b[0m\n\n"
        },
        {
         "name": "stderr",
         "output_type": "stream",
         "text": "[2021-04-02T19:25:06.321553+0530][CRITICAL][logger]][30202] Skipping torchvision.torchvision.transforms.functional.posterize not supported in 0.8.2\n[2021-04-02T19:25:06.322382+0530][CRITICAL][logger]][30202] Skipping torchvision.torchvision.transforms.functional.solarize not supported in 0.8.2\n"
        },
        {
         "name": "stdout",
         "output_type": "stream",
         "text": "♫♫♫ > \u001b[92mCONNECTED!\u001b[0m\n"
        }
       ]
      }
     },
     "34cb758a440c4ce88746ba93ea6396f2": {
      "model_module": "@jupyter-widgets/controls",
      "model_module_version": "1.5.0",
      "model_name": "ButtonStyleModel",
      "state": {}
     },
     "35a963ea9a054c46a2ed92ef745f43d5": {
      "model_module": "@jupyter-widgets/controls",
      "model_module_version": "1.5.0",
      "model_name": "ButtonStyleModel",
      "state": {}
     },
     "35d10be5eb3e4089a27dcd1107969159": {
      "model_module": "@jupyter-widgets/base",
      "model_module_version": "1.2.0",
      "model_name": "LayoutModel",
      "state": {}
     },
     "38e41306f60448c7a4776039019a06a8": {
      "model_module": "@jupyter-widgets/base",
      "model_module_version": "1.2.0",
      "model_name": "LayoutModel",
      "state": {}
     },
     "399ea7564dbd4bf890d5dbd8efe5f704": {
      "model_module": "@jupyter-widgets/controls",
      "model_module_version": "1.5.0",
      "model_name": "ButtonStyleModel",
      "state": {}
     },
     "3a356a9fe8f245e48144d220eee190b8": {
      "model_module": "@jupyter-widgets/controls",
      "model_module_version": "1.5.0",
      "model_name": "ButtonModel",
      "state": {
       "button_style": "danger",
       "description": "Disconnect from Duet",
       "icon": "window-close-o",
       "layout": "IPY_MODEL_24da1d454d7946b2b0b0f214912b0b53",
       "style": "IPY_MODEL_d0fc2821874f4bbcb21923f64e22f104",
       "tooltip": "Disconnect from Duet"
      }
     },
     "3a5f578e4d2243788ec74f89002761cd": {
      "model_module": "@jupyter-widgets/base",
      "model_module_version": "1.2.0",
      "model_name": "LayoutModel",
      "state": {
       "border": "1px solid black"
      }
     },
     "3b1b150fab2e4e97b18edb1225c5915f": {
      "model_module": "@jupyter-widgets/output",
      "model_module_version": "1.0.0",
      "model_name": "OutputModel",
      "state": {
       "layout": "IPY_MODEL_7aa63a266e834219aaf543e931b9c24a"
      }
     },
     "3b92f6e70f0c46709052465c921070c4": {
      "model_module": "@jupyter-widgets/controls",
      "model_module_version": "1.5.0",
      "model_name": "ButtonStyleModel",
      "state": {}
     },
     "3bc1a337d32d45bd9ac464366ca8afe8": {
      "model_module": "@jupyter-widgets/base",
      "model_module_version": "1.2.0",
      "model_name": "LayoutModel",
      "state": {
       "align_items": "stretch",
       "border": "1px solid black",
       "display": "flex",
       "flex_flow": "column"
      }
     },
     "3c16644865fa4e9382469aee16ed2ee6": {
      "model_module": "@jupyter-widgets/controls",
      "model_module_version": "1.5.0",
      "model_name": "VBoxModel",
      "state": {
       "children": [
        "IPY_MODEL_59a8ccb9885f4a37a81266c812c2721b",
        "IPY_MODEL_8483b0f2932640a79703181cef501b3d"
       ],
       "layout": "IPY_MODEL_110a02553f804ba3b1c7f808ad972144"
      }
     },
     "3c264822051c418899f7f0d0f13f9703": {
      "model_module": "@jupyter-widgets/controls",
      "model_module_version": "1.5.0",
      "model_name": "ButtonStyleModel",
      "state": {}
     },
     "3c574520e6064e8e96306c2b6bc294ba": {
      "model_module": "@jupyter-widgets/controls",
      "model_module_version": "1.5.0",
      "model_name": "ButtonModel",
      "state": {
       "button_style": "success",
       "description": "Search Logs",
       "icon": "search",
       "layout": "IPY_MODEL_d22708b06b8c4bf8bee2187131d6f623",
       "style": "IPY_MODEL_c58ae807ce4b4c8cb6a2b9838bf2a083",
       "tooltip": "Search Logs"
      }
     },
     "3c92228d006f47caaccbeb784bf23582": {
      "model_module": "@jupyter-widgets/base",
      "model_module_version": "1.2.0",
      "model_name": "LayoutModel",
      "state": {
       "height": "80px",
       "width": "33%"
      }
     },
     "3ca13f1e38524844a281b65cfd7e036e": {
      "model_module": "@jupyter-widgets/base",
      "model_module_version": "1.2.0",
      "model_name": "LayoutModel",
      "state": {
       "height": "80px",
       "width": "33%"
      }
     },
     "3d2c4fc5d33f4e8780672e1f8dde731c": {
      "model_module": "@jupyter-widgets/base",
      "model_module_version": "1.2.0",
      "model_name": "LayoutModel",
      "state": {
       "height": "80px",
       "width": "33%"
      }
     },
     "3de47daa33b2408490765b989ab6b39e": {
      "model_module": "@jupyter-widgets/base",
      "model_module_version": "1.2.0",
      "model_name": "LayoutModel",
      "state": {
       "height": "80px",
       "width": "33%"
      }
     },
     "3e568d5a44e74d049140ceb6ad977842": {
      "model_module": "@jupyter-widgets/controls",
      "model_module_version": "1.5.0",
      "model_name": "ButtonStyleModel",
      "state": {}
     },
     "3f30ce6d28174c31a874a6af213b9cc5": {
      "model_module": "@jupyter-widgets/base",
      "model_module_version": "1.2.0",
      "model_name": "LayoutModel",
      "state": {
       "height": "80px",
       "width": "33%"
      }
     },
     "40d0d91cf7cf4371b34d28fd332193f6": {
      "model_module": "@jupyter-widgets/base",
      "model_module_version": "1.2.0",
      "model_name": "LayoutModel",
      "state": {
       "height": "80px",
       "width": "33%"
      }
     },
     "43306be8d86543a7a29b02b62260a8e0": {
      "model_module": "@jupyter-widgets/controls",
      "model_module_version": "1.5.0",
      "model_name": "ButtonModel",
      "state": {
       "button_style": "success",
       "description": "Join Duet(with loopback)",
       "icon": "plug",
       "layout": "IPY_MODEL_da3734748a8c489284d32d1655f0e4dc",
       "style": "IPY_MODEL_96103469573d4c52a534a9b17ae6568a",
       "tooltip": "Join Duet(with loopback)"
      }
     },
     "433d433a08894eb5b251f1d5409f2990": {
      "model_module": "@jupyter-widgets/output",
      "model_module_version": "1.0.0",
      "model_name": "OutputModel",
      "state": {
       "layout": "IPY_MODEL_18957ef2389b486b94d41e9781736937"
      }
     },
     "436fe869e2d0445e88eb67faf8ccb206": {
      "model_module": "@jupyter-widgets/output",
      "model_module_version": "1.0.0",
      "model_name": "OutputModel",
      "state": {
       "layout": "IPY_MODEL_f2d295d750ee40f99d417a22ae19f417",
       "outputs": [
        {
         "data": {
          "image/png": "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\n",
          "text/plain": "<IPython.core.display.Image object>"
         },
         "metadata": {
          "image/png": {
           "unconfined": true,
           "width": 400
          }
         },
         "output_type": "display_data"
        },
        {
         "name": "stderr",
         "output_type": "stream",
         "text": "[2021-04-02T18:21:34.370573+0530][CRITICAL][logger]][29245] Skipping torchvision.torchvision.transforms.functional.adjust_sharpness not supported in 0.8.2\n[2021-04-02T18:21:34.371163+0530][CRITICAL][logger]][29245] Skipping torchvision.torchvision.transforms.functional.autocontrast not supported in 0.8.2\n[2021-04-02T18:21:34.372283+0530][CRITICAL][logger]][29245] Skipping torchvision.torchvision.transforms.functional.equalize not supported in 0.8.2\n[2021-04-02T18:21:34.372855+0530][CRITICAL][logger]][29245] Skipping torchvision.torchvision.transforms.functional.invert not supported in 0.8.2\n[2021-04-02T18:21:34.373730+0530][CRITICAL][logger]][29245] Skipping torchvision.torchvision.transforms.functional.posterize not supported in 0.8.2\n[2021-04-02T18:21:34.374769+0530][CRITICAL][logger]][29245] Skipping torchvision.torchvision.transforms.functional.solarize not supported in 0.8.2\n[2021-04-02T18:21:37.767077+0530][CRITICAL][logger]][29245] Skipping torchvision.torchvision.transforms.functional.adjust_sharpness not supported in 0.8.2\n[2021-04-02T18:21:37.767625+0530][CRITICAL][logger]][29245] Skipping torchvision.torchvision.transforms.functional.autocontrast not supported in 0.8.2\n[2021-04-02T18:21:37.768352+0530][CRITICAL][logger]][29245] Skipping torchvision.torchvision.transforms.functional.equalize not supported in 0.8.2\n[2021-04-02T18:21:37.769402+0530][CRITICAL][logger]][29245] Skipping torchvision.torchvision.transforms.functional.invert not supported in 0.8.2\n[2021-04-02T18:21:37.771026+0530][CRITICAL][logger]][29245] Skipping torchvision.torchvision.transforms.functional.posterize not supported in 0.8.2\n"
        }
       ]
      }
     },
     "44d1987f20a64de3b22d410a2bf5ce3e": {
      "model_module": "@jupyter-widgets/base",
      "model_module_version": "1.2.0",
      "model_name": "LayoutModel",
      "state": {
       "height": "80px",
       "width": "33%"
      }
     },
     "4556675a7b63427c8f7bb0e7dcc7c8be": {
      "model_module": "@jupyter-widgets/controls",
      "model_module_version": "1.5.0",
      "model_name": "ButtonModel",
      "state": {
       "button_style": "warning",
       "description": "Support OpenMined",
       "icon": "money",
       "layout": "IPY_MODEL_547b2c0bb442405f84a50d1d2f09b4ac",
       "style": "IPY_MODEL_c486a67df93c4198a57fcee12818ac2c",
       "tooltip": "Support"
      }
     },
     "470194e3594b411291c20b9021b993f9": {
      "model_module": "@jupyter-widgets/base",
      "model_module_version": "1.2.0",
      "model_name": "LayoutModel",
      "state": {}
     },
     "4702afc334bb4c86938b463be653cd4b": {
      "model_module": "@jupyter-widgets/controls",
      "model_module_version": "1.5.0",
      "model_name": "ButtonStyleModel",
      "state": {}
     },
     "47ca62d5901a4fa98cdfdfc71476bcd2": {
      "model_module": "@jupyter-widgets/controls",
      "model_module_version": "1.5.0",
      "model_name": "ButtonStyleModel",
      "state": {}
     },
     "48d3543f482548bebe9b1b793c501dfd": {
      "model_module": "@jupyter-widgets/controls",
      "model_module_version": "1.5.0",
      "model_name": "ButtonStyleModel",
      "state": {}
     },
     "498b8cec11b542e283e41729f66250f4": {
      "model_module": "@jupyter-widgets/controls",
      "model_module_version": "1.5.0",
      "model_name": "HBoxModel",
      "state": {
       "children": [
        "IPY_MODEL_a23d308b2fcd4681a8e0a9e3c1bc6082",
        "IPY_MODEL_a768541f7dae4699870ff413277d6500",
        "IPY_MODEL_17675cd3ea29499780c31ebee74ae9f1"
       ],
       "layout": "IPY_MODEL_5f195518a5dd454681ee36217fbd1604"
      }
     },
     "4a72486495424c558ee4f5960113f34d": {
      "model_module": "@jupyter-widgets/controls",
      "model_module_version": "1.5.0",
      "model_name": "ButtonModel",
      "state": {
       "button_style": "danger",
       "description": "Disconnect from Duet",
       "icon": "window-close-o",
       "layout": "IPY_MODEL_33fdb5df3e354eb9b0629b10f1cd6d3f",
       "style": "IPY_MODEL_058f1d38e95c4728b0fca39510174f08",
       "tooltip": "Disconnect from Duet"
      }
     },
     "4b9fa978d58e4344af3cabee88433c76": {
      "model_module": "@jupyter-widgets/controls",
      "model_module_version": "1.5.0",
      "model_name": "ButtonStyleModel",
      "state": {}
     },
     "4c3b03d8269f42f3a337f0a8c91927e5": {
      "model_module": "@jupyter-widgets/controls",
      "model_module_version": "1.5.0",
      "model_name": "VBoxModel",
      "state": {
       "children": [
        "IPY_MODEL_1b43ff08600e4fcfa404a88f4fdc1537",
        "IPY_MODEL_16b8ec756d6f48f0805117d61dd3acaa"
       ],
       "layout": "IPY_MODEL_79ce55343a4942189a7c30592b103505"
      }
     },
     "4cccc32ffd9e44209a9c97d13c3cbec4": {
      "model_module": "@jupyter-widgets/base",
      "model_module_version": "1.2.0",
      "model_name": "LayoutModel",
      "state": {
       "height": "80px",
       "width": "33%"
      }
     },
     "4cf7f34cd21644b790e941a95f6b348b": {
      "model_module": "@jupyter-widgets/base",
      "model_module_version": "1.2.0",
      "model_name": "LayoutModel",
      "state": {
       "height": "80px",
       "width": "33%"
      }
     },
     "4d177ab6d7664f978ffc4ef4e8e37a37": {
      "model_module": "@jupyter-widgets/base",
      "model_module_version": "1.2.0",
      "model_name": "LayoutModel",
      "state": {
       "height": "80px",
       "width": "33%"
      }
     },
     "4ec9a55156f94c0f962f4182d61fa6e6": {
      "model_module": "@jupyter-widgets/controls",
      "model_module_version": "1.5.0",
      "model_name": "ButtonStyleModel",
      "state": {}
     },
     "4ecc78ff2e5d4bb9856ae7490b91dc0e": {
      "model_module": "@jupyter-widgets/controls",
      "model_module_version": "1.5.0",
      "model_name": "ButtonModel",
      "state": {
       "button_style": "success",
       "description": "Search Logs",
       "icon": "search",
       "layout": "IPY_MODEL_b92f6362394f4bc4a57ad2d635e11728",
       "style": "IPY_MODEL_c49f390992794ba6a1b091a55b42cfba",
       "tooltip": "Search Logs"
      }
     },
     "4f2eaeba269243b0abc1a3ea78c8f13b": {
      "model_module": "@jupyter-widgets/base",
      "model_module_version": "1.2.0",
      "model_name": "LayoutModel",
      "state": {
       "height": "80px",
       "width": "33%"
      }
     },
     "4f92cce37f3840f8a54e07c4dd551f5c": {
      "model_module": "@jupyter-widgets/controls",
      "model_module_version": "1.5.0",
      "model_name": "ButtonStyleModel",
      "state": {}
     },
     "4fe68d54771c4b5ebd5058361110652c": {
      "model_module": "@jupyter-widgets/controls",
      "model_module_version": "1.5.0",
      "model_name": "ButtonModel",
      "state": {
       "button_style": "danger",
       "description": "Disconnect from Duet",
       "icon": "window-close-o",
       "layout": "IPY_MODEL_80676b256a6646e7b32adf8b68336e36",
       "style": "IPY_MODEL_d87be1867ac14e01a0103c2406d39f54",
       "tooltip": "Disconnect from Duet"
      }
     },
     "50cc6d5c6fe64dabae19d801c59bd32c": {
      "model_module": "@jupyter-widgets/controls",
      "model_module_version": "1.5.0",
      "model_name": "ButtonStyleModel",
      "state": {}
     },
     "50f3d4c2a208493c87a7fc542c83a553": {
      "model_module": "@jupyter-widgets/output",
      "model_module_version": "1.0.0",
      "model_name": "OutputModel",
      "state": {
       "layout": "IPY_MODEL_e84d34b82ab24190aa83bd2d1101d2d8"
      }
     },
     "511bd49717f649499ec6ba2fe8ee9722": {
      "model_module": "@jupyter-widgets/controls",
      "model_module_version": "1.5.0",
      "model_name": "ButtonModel",
      "state": {
       "button_style": "success",
       "description": "Join Duet",
       "icon": "plug",
       "layout": "IPY_MODEL_2b4b829c71084c8486c3fda53b1f5b6a",
       "style": "IPY_MODEL_b745f6f6f4b14a63b9f6c3df21f73d85",
       "tooltip": "Join Duet"
      }
     },
     "51ffc0ac138143c3801a3e2627a6cd52": {
      "model_module": "@jupyter-widgets/controls",
      "model_module_version": "1.5.0",
      "model_name": "ButtonStyleModel",
      "state": {}
     },
     "527f45744de4482fae2f0f44bf19b681": {
      "model_module": "@jupyter-widgets/controls",
      "model_module_version": "1.5.0",
      "model_name": "ButtonStyleModel",
      "state": {}
     },
     "5294bd0a6a464cae89219a81b967d70c": {
      "model_module": "@jupyter-widgets/controls",
      "model_module_version": "1.5.0",
      "model_name": "ButtonModel",
      "state": {
       "button_style": "warning",
       "description": "Join Grid",
       "icon": "plug",
       "layout": "IPY_MODEL_11faf1b6ceed4c9a9102258b0cc9f884",
       "style": "IPY_MODEL_51ffc0ac138143c3801a3e2627a6cd52",
       "tooltip": "Join Grid"
      }
     },
     "52da6b91fee44e65939578c0e65b9369": {
      "model_module": "@jupyter-widgets/controls",
      "model_module_version": "1.5.0",
      "model_name": "ButtonStyleModel",
      "state": {}
     },
     "536f98b09d764ae0a08ba31b3ce3c246": {
      "model_module": "@jupyter-widgets/base",
      "model_module_version": "1.2.0",
      "model_name": "LayoutModel",
      "state": {}
     },
     "543b6c6061ac4d818a6ac8cb0ad119ed": {
      "model_module": "@jupyter-widgets/controls",
      "model_module_version": "1.5.0",
      "model_name": "ButtonModel",
      "state": {
       "button_style": "info",
       "description": "View Peers",
       "icon": "eye",
       "layout": "IPY_MODEL_b1177442a0f74d018bf368e34bdf6110",
       "style": "IPY_MODEL_31d7f683a2a04d8f86fdd2175ee0f134",
       "tooltip": "View Peers"
      }
     },
     "547b2c0bb442405f84a50d1d2f09b4ac": {
      "model_module": "@jupyter-widgets/base",
      "model_module_version": "1.2.0",
      "model_name": "LayoutModel",
      "state": {
       "height": "80px",
       "width": "33%"
      }
     },
     "552947ddc9d0478284e69b7a5e8008e3": {
      "model_module": "@jupyter-widgets/controls",
      "model_module_version": "1.5.0",
      "model_name": "ButtonModel",
      "state": {
       "button_style": "warning",
       "description": "Support OpenMined",
       "icon": "money",
       "layout": "IPY_MODEL_9aa593ffac5f4e698884cea76edf6f28",
       "style": "IPY_MODEL_9f1335810687409591f7dabffb760f9b",
       "tooltip": "Support"
      }
     },
     "55d70314cb05415faaa2ff187bccce34": {
      "model_module": "@jupyter-widgets/controls",
      "model_module_version": "1.5.0",
      "model_name": "ButtonModel",
      "state": {
       "button_style": "warning",
       "description": "Support OpenMined",
       "icon": "money",
       "layout": "IPY_MODEL_f017ffa4710d426596ae480e2757aab1",
       "style": "IPY_MODEL_2b14938342fe417dba24b121a7c3b9ff",
       "tooltip": "Support"
      }
     },
     "589c4c6178ca40048fe9ea8c378ea237": {
      "model_module": "@jupyter-widgets/controls",
      "model_module_version": "1.5.0",
      "model_name": "ButtonStyleModel",
      "state": {}
     },
     "59a8ccb9885f4a37a81266c812c2721b": {
      "model_module": "@jupyter-widgets/controls",
      "model_module_version": "1.5.0",
      "model_name": "HBoxModel",
      "state": {
       "children": [
        "IPY_MODEL_9688445d98ba45569bc7aad5c470bf5f",
        "IPY_MODEL_ff72c6cccf0c4a62b2de66044f74ea45",
        "IPY_MODEL_153efa677b264c9d83085d07c3d710a0"
       ],
       "layout": "IPY_MODEL_0d2357a851974d8ba7e7c020a6ba7936"
      }
     },
     "5ba9f5390ac54c2c9be2e6eacd90b921": {
      "model_module": "@jupyter-widgets/controls",
      "model_module_version": "1.5.0",
      "model_name": "ButtonModel",
      "state": {
       "button_style": "success",
       "description": "Join Duet(with loopback)",
       "icon": "plug",
       "layout": "IPY_MODEL_c21c3f4126f4480cb8eef5597096f2cf",
       "style": "IPY_MODEL_0cdeabd556b44d569baf41ba6006e8a2",
       "tooltip": "Join Duet(with loopback)"
      }
     },
     "5d229473c7a64bb2b02f2fc5fc6465c4": {
      "model_module": "@jupyter-widgets/base",
      "model_module_version": "1.2.0",
      "model_name": "LayoutModel",
      "state": {
       "height": "80px",
       "width": "33%"
      }
     },
     "5eb9ccc660d5477481930d42a5d21d53": {
      "model_module": "@jupyter-widgets/base",
      "model_module_version": "1.2.0",
      "model_name": "LayoutModel",
      "state": {}
     },
     "5f195518a5dd454681ee36217fbd1604": {
      "model_module": "@jupyter-widgets/base",
      "model_module_version": "1.2.0",
      "model_name": "LayoutModel",
      "state": {}
     },
     "60bd23d8c4164b6ca25d1732029a2a4d": {
      "model_module": "@jupyter-widgets/controls",
      "model_module_version": "1.5.0",
      "model_name": "ButtonStyleModel",
      "state": {}
     },
     "61d8fb7244e943889ee1fab65158c6ed": {
      "model_module": "@jupyter-widgets/controls",
      "model_module_version": "1.5.0",
      "model_name": "ButtonModel",
      "state": {
       "button_style": "info",
       "description": "Filter Logs",
       "icon": "filter",
       "layout": "IPY_MODEL_6bccb633f3dc43a49f258b6e9a2995a3",
       "style": "IPY_MODEL_fb141c2e19db4b1492f0c1b8ddced81b",
       "tooltip": "Filter Logs"
      }
     },
     "6259ca82b85d424e9cbb823f0eb33451": {
      "model_module": "@jupyter-widgets/controls",
      "model_module_version": "1.5.0",
      "model_name": "ButtonStyleModel",
      "state": {}
     },
     "6284bbe53fb040d3aefcdf1721028554": {
      "model_module": "@jupyter-widgets/base",
      "model_module_version": "1.2.0",
      "model_name": "LayoutModel",
      "state": {}
     },
     "631a7ba33e5349169945c50e4cdb648f": {
      "model_module": "@jupyter-widgets/controls",
      "model_module_version": "1.5.0",
      "model_name": "ButtonStyleModel",
      "state": {}
     },
     "63b2b570b0314ea6a53cf0d3fd9c9b24": {
      "model_module": "@jupyter-widgets/controls",
      "model_module_version": "1.5.0",
      "model_name": "ButtonStyleModel",
      "state": {}
     },
     "63c612699a9c437f9426353cb36741d1": {
      "model_module": "@jupyter-widgets/controls",
      "model_module_version": "1.5.0",
      "model_name": "ButtonStyleModel",
      "state": {}
     },
     "6793acb33cb04002bd98931290bf8eb3": {
      "model_module": "@jupyter-widgets/controls",
      "model_module_version": "1.5.0",
      "model_name": "ButtonModel",
      "state": {
       "button_style": "info",
       "description": "View Duet Store",
       "icon": "archive",
       "layout": "IPY_MODEL_b37b51d325304251a56e89c06ba2b02a",
       "style": "IPY_MODEL_60bd23d8c4164b6ca25d1732029a2a4d",
       "tooltip": "View Duet Store"
      }
     },
     "686d1337c74047fbb40d5159dd013b8f": {
      "model_module": "@jupyter-widgets/controls",
      "model_module_version": "1.5.0",
      "model_name": "ButtonStyleModel",
      "state": {}
     },
     "69f2a79e86cf49bba3170006a9fea3aa": {
      "model_module": "@jupyter-widgets/base",
      "model_module_version": "1.2.0",
      "model_name": "LayoutModel",
      "state": {
       "height": "80px",
       "width": "33%"
      }
     },
     "6a3acba1aba74ebb82e8be09a490e1f7": {
      "model_module": "@jupyter-widgets/controls",
      "model_module_version": "1.5.0",
      "model_name": "HBoxModel",
      "state": {
       "children": [
        "IPY_MODEL_d8cfaa58a8354da3bc7d94233e0fc0c5",
        "IPY_MODEL_fa278e3bd2bd4dd78e5a57c16422069c",
        "IPY_MODEL_543b6c6061ac4d818a6ac8cb0ad119ed"
       ],
       "layout": "IPY_MODEL_470194e3594b411291c20b9021b993f9"
      }
     },
     "6bbc5de27c6440e19046315c73428d81": {
      "model_module": "@jupyter-widgets/base",
      "model_module_version": "1.2.0",
      "model_name": "LayoutModel",
      "state": {
       "height": "80px",
       "width": "33%"
      }
     },
     "6bccb633f3dc43a49f258b6e9a2995a3": {
      "model_module": "@jupyter-widgets/base",
      "model_module_version": "1.2.0",
      "model_name": "LayoutModel",
      "state": {
       "height": "80px",
       "width": "33%"
      }
     },
     "6bfb36efe3714e57a0dfcfd9f8488bf5": {
      "model_module": "@jupyter-widgets/controls",
      "model_module_version": "1.5.0",
      "model_name": "ButtonModel",
      "state": {
       "button_style": "warning",
       "description": "Support OpenMined",
       "icon": "money",
       "layout": "IPY_MODEL_1d12f6cf693045ec93ca67d3d7e3466a",
       "style": "IPY_MODEL_527f45744de4482fae2f0f44bf19b681",
       "tooltip": "Support"
      }
     },
     "6dc449d4e9b0481f819b2637b2a29d9e": {
      "model_module": "@jupyter-widgets/controls",
      "model_module_version": "1.5.0",
      "model_name": "ButtonStyleModel",
      "state": {}
     },
     "6dd22478847e4880a79feba149cb7743": {
      "model_module": "@jupyter-widgets/base",
      "model_module_version": "1.2.0",
      "model_name": "LayoutModel",
      "state": {
       "align_items": "stretch",
       "border": "1px solid black",
       "display": "flex",
       "flex_flow": "column"
      }
     },
     "6e9135cc836642428ee4520afa13c5cd": {
      "model_module": "@jupyter-widgets/base",
      "model_module_version": "1.2.0",
      "model_name": "LayoutModel",
      "state": {
       "height": "80px",
       "width": "33%"
      }
     },
     "6f90278f0d3547ce92c58b1f45942c53": {
      "model_module": "@jupyter-widgets/controls",
      "model_module_version": "1.5.0",
      "model_name": "HBoxModel",
      "state": {
       "children": [
        "IPY_MODEL_c24860b167a844a9bed71a582f0236b8",
        "IPY_MODEL_dec5a433a01b433f9f4d5daeee9ce8d5",
        "IPY_MODEL_32b80f0af43c44c3b78011c0a4ea0905"
       ],
       "layout": "IPY_MODEL_35d10be5eb3e4089a27dcd1107969159"
      }
     },
     "6fa191f22a27426188fae20e3d16a653": {
      "model_module": "@jupyter-widgets/base",
      "model_module_version": "1.2.0",
      "model_name": "LayoutModel",
      "state": {
       "height": "80px",
       "width": "33%"
      }
     },
     "70c44e0aba4849ceb7a064244ab9c40f": {
      "model_module": "@jupyter-widgets/controls",
      "model_module_version": "1.5.0",
      "model_name": "ButtonStyleModel",
      "state": {}
     },
     "732ccc7461e74c3a8ebd78ff043a7dd7": {
      "model_module": "@jupyter-widgets/base",
      "model_module_version": "1.2.0",
      "model_name": "LayoutModel",
      "state": {
       "height": "80px",
       "width": "33%"
      }
     },
     "744749583e4440e6b499b680fa6ad098": {
      "model_module": "@jupyter-widgets/output",
      "model_module_version": "1.0.0",
      "model_name": "OutputModel",
      "state": {
       "layout": "IPY_MODEL_22a6ef5c6d814eeab9deaed5953eb2c9",
       "outputs": [
        {
         "name": "stdout",
         "output_type": "stream",
         "text": "🎤  🎸  ♪♪♪ Joining Duet ♫♫♫  🎻  🎹\n\n♫♫♫ >\u001b[93m DISCLAIMER\u001b[0m: \u001b[1mDuet is an experimental feature currently in beta.\n♫♫♫ > Use at your own risk.\n\u001b[0m\n\u001b[1m\n    > ❤️ \u001b[91mLove\u001b[0m \u001b[92mDuet\u001b[0m? \u001b[93mPlease\u001b[0m \u001b[94mconsider\u001b[0m \u001b[95msupporting\u001b[0m \u001b[91mour\u001b[0m \u001b[93mcommunity!\u001b[0m\n    > https://github.com/sponsors/OpenMined\u001b[1m\n\n♫♫♫ > Punching through firewall to OpenGrid Network Node at:\n♫♫♫ > http://ec2-18-216-8-163.us-east-2.compute.amazonaws.com:5000\n♫♫♫ >\n♫♫♫ > ...waiting for response from OpenGrid Network... \n♫♫♫ > \u001b[92mDONE!\u001b[0m\n"
        },
        {
         "name": "stderr",
         "output_type": "stream",
         "text": "[2021-04-02T18:21:37.772771+0530][CRITICAL][logger]][29245] Skipping torchvision.torchvision.transforms.functional.solarize not supported in 0.8.2\n"
        },
        {
         "name": "stdout",
         "output_type": "stream",
         "text": "\n♫♫♫ > \u001b[92mCONNECTED!\u001b[0m\n"
        }
       ]
      }
     },
     "757b43deccf8480d8cc64eec7ce1547b": {
      "model_module": "@jupyter-widgets/controls",
      "model_module_version": "1.5.0",
      "model_name": "ButtonStyleModel",
      "state": {}
     },
     "75d66d73a5a4455c9040c0aa8c56cdb1": {
      "model_module": "@jupyter-widgets/controls",
      "model_module_version": "1.5.0",
      "model_name": "HBoxModel",
      "state": {
       "children": [
        "IPY_MODEL_a90aee24bba54f939344b3ae142454b3",
        "IPY_MODEL_c19bdf429a86459f9dde54fc11f21bea",
        "IPY_MODEL_5294bd0a6a464cae89219a81b967d70c"
       ],
       "layout": "IPY_MODEL_1bee006d530c48c29d0ec248a09dab0b"
      }
     },
     "75ee2f6a940a45a2a3c3ad5d9925e132": {
      "model_module": "@jupyter-widgets/base",
      "model_module_version": "1.2.0",
      "model_name": "LayoutModel",
      "state": {}
     },
     "7603db11665545448cf5b66d0ddcbbc7": {
      "model_module": "@jupyter-widgets/base",
      "model_module_version": "1.2.0",
      "model_name": "LayoutModel",
      "state": {
       "height": "80px",
       "width": "33%"
      }
     },
     "7616d2d2ede04c139924d3b36ae59943": {
      "model_module": "@jupyter-widgets/controls",
      "model_module_version": "1.5.0",
      "model_name": "ButtonModel",
      "state": {
       "button_style": "danger",
       "description": "Disconnect from Duet",
       "icon": "window-close-o",
       "layout": "IPY_MODEL_962ec0158dd542e3b746e0df7ac8f85e",
       "style": "IPY_MODEL_b118788d31de44e2aeb6f4f1a35e0b16",
       "tooltip": "Disconnect from Duet"
      }
     },
     "7837b86e81b248b387a86a334862148c": {
      "model_module": "@jupyter-widgets/controls",
      "model_module_version": "1.5.0",
      "model_name": "VBoxModel",
      "state": {
       "children": [
        "IPY_MODEL_b1c1cc2b68ae4cfc8ae2c1b9e863e5ce",
        "IPY_MODEL_9653bca9639e48c9a612a0e9d70c1f7b"
       ],
       "layout": "IPY_MODEL_a95c1c460ff1433b87969667dae57a19"
      }
     },
     "783b3428a1314524a0efd28b92b90c98": {
      "model_module": "@jupyter-widgets/base",
      "model_module_version": "1.2.0",
      "model_name": "LayoutModel",
      "state": {
       "height": "80px",
       "width": "33%"
      }
     },
     "79ce55343a4942189a7c30592b103505": {
      "model_module": "@jupyter-widgets/base",
      "model_module_version": "1.2.0",
      "model_name": "LayoutModel",
      "state": {}
     },
     "7aa63a266e834219aaf543e931b9c24a": {
      "model_module": "@jupyter-widgets/base",
      "model_module_version": "1.2.0",
      "model_name": "LayoutModel",
      "state": {
       "align_items": "stretch",
       "border": "1px solid black",
       "display": "flex",
       "flex_flow": "column"
      }
     },
     "7b0da9254f2c4986907e323d4d7eae20": {
      "model_module": "@jupyter-widgets/controls",
      "model_module_version": "1.5.0",
      "model_name": "ButtonModel",
      "state": {
       "button_style": "info",
       "description": "View Peers",
       "icon": "eye",
       "layout": "IPY_MODEL_e1c8c8b01d3a4acb9d69df769374ae6c",
       "style": "IPY_MODEL_044423b51cfa409ab2620d53834bad91",
       "tooltip": "View Peers"
      }
     },
     "7b859cd8db9448dcba5b2fe9cb86600e": {
      "model_module": "@jupyter-widgets/controls",
      "model_module_version": "1.5.0",
      "model_name": "ButtonModel",
      "state": {
       "button_style": "danger",
       "description": "Disconnect from Duet",
       "icon": "window-close-o",
       "layout": "IPY_MODEL_d58bfc6593474642b0f1067e76be4bfd",
       "style": "IPY_MODEL_9499b6fd3f394a19874aedb8a5f4e8ba",
       "tooltip": "Disconnect from Duet"
      }
     },
     "7b86a66e456e451e85c6be23a3ffc9f8": {
      "model_module": "@jupyter-widgets/output",
      "model_module_version": "1.0.0",
      "model_name": "OutputModel",
      "state": {
       "layout": "IPY_MODEL_31b50c92889e4376b993d349c2e211bf"
      }
     },
     "7b9607ec2c644e90a450b08816373e98": {
      "model_module": "@jupyter-widgets/base",
      "model_module_version": "1.2.0",
      "model_name": "LayoutModel",
      "state": {}
     },
     "7b9f121629244e19982cf0ba761b17e0": {
      "model_module": "@jupyter-widgets/base",
      "model_module_version": "1.2.0",
      "model_name": "LayoutModel",
      "state": {
       "height": "80px",
       "width": "33%"
      }
     },
     "7c5c09193b214b719a50e7471596c307": {
      "model_module": "@jupyter-widgets/base",
      "model_module_version": "1.2.0",
      "model_name": "LayoutModel",
      "state": {
       "height": "80px",
       "width": "33%"
      }
     },
     "7c68080812d1425897cb5a83eccdf526": {
      "model_module": "@jupyter-widgets/base",
      "model_module_version": "1.2.0",
      "model_name": "LayoutModel",
      "state": {}
     },
     "7de722f4d5d34e6bb4d529b6b9ee649c": {
      "model_module": "@jupyter-widgets/controls",
      "model_module_version": "1.5.0",
      "model_name": "VBoxModel",
      "state": {
       "children": [
        "IPY_MODEL_95fb0953970c4be6bf95d43722847347",
        "IPY_MODEL_a9f308221b354df493acb857f59335b7"
       ],
       "layout": "IPY_MODEL_7c68080812d1425897cb5a83eccdf526"
      }
     },
     "7f493c6a2b974254a67692dc5ae8ea29": {
      "model_module": "@jupyter-widgets/controls",
      "model_module_version": "1.5.0",
      "model_name": "VBoxModel",
      "state": {
       "children": [
        "IPY_MODEL_2e8b41bc3d934637b2741a6a4b84172c",
        "IPY_MODEL_832230e9b5be4e5793705f00f8e99a9e"
       ],
       "layout": "IPY_MODEL_872bbbdee304475e8f87fe8cbaa32633"
      }
     },
     "7f95d25369e44f92a3740964bfc76afa": {
      "model_module": "@jupyter-widgets/base",
      "model_module_version": "1.2.0",
      "model_name": "LayoutModel",
      "state": {
       "height": "80px",
       "width": "33%"
      }
     },
     "7fb27acd0af844568c2a9a4f93485bb3": {
      "model_module": "@jupyter-widgets/controls",
      "model_module_version": "1.5.0",
      "model_name": "VBoxModel",
      "state": {
       "children": [
        "IPY_MODEL_1b64c4d7b6b640e4803e82bf8a3320a0",
        "IPY_MODEL_ac1619a0a31b4950849c62e384d7881a"
       ],
       "layout": "IPY_MODEL_a4d8146bdc194a829e02e0d7c65f06ea"
      }
     },
     "80040e8e27a34025b4224c928ccd5473": {
      "model_module": "@jupyter-widgets/base",
      "model_module_version": "1.2.0",
      "model_name": "LayoutModel",
      "state": {
       "height": "80px",
       "width": "33%"
      }
     },
     "801f26e0952a40a9a7e32434ffe5bdc9": {
      "model_module": "@jupyter-widgets/base",
      "model_module_version": "1.2.0",
      "model_name": "LayoutModel",
      "state": {
       "border": "1px solid black"
      }
     },
     "80676b256a6646e7b32adf8b68336e36": {
      "model_module": "@jupyter-widgets/base",
      "model_module_version": "1.2.0",
      "model_name": "LayoutModel",
      "state": {
       "height": "80px",
       "width": "33%"
      }
     },
     "8275798d6ee74326a970dd8202986c09": {
      "model_module": "@jupyter-widgets/controls",
      "model_module_version": "1.5.0",
      "model_name": "ButtonModel",
      "state": {
       "button_style": "info",
       "description": "Filter Logs",
       "icon": "filter",
       "layout": "IPY_MODEL_1bebdc7c3c864312bbd44d558a46ec26",
       "style": "IPY_MODEL_b41e630dff2e4b5b854f7bb2be3a1e4c",
       "tooltip": "Filter Logs"
      }
     },
     "82e94a90eafe4a1697a25afe5b422c75": {
      "model_module": "@jupyter-widgets/controls",
      "model_module_version": "1.5.0",
      "model_name": "ButtonStyleModel",
      "state": {}
     },
     "832230e9b5be4e5793705f00f8e99a9e": {
      "model_module": "@jupyter-widgets/controls",
      "model_module_version": "1.5.0",
      "model_name": "HBoxModel",
      "state": {
       "children": [
        "IPY_MODEL_cdc9736952c74b99be1b15c89878185a",
        "IPY_MODEL_4fe68d54771c4b5ebd5058361110652c",
        "IPY_MODEL_552947ddc9d0478284e69b7a5e8008e3"
       ],
       "layout": "IPY_MODEL_75ee2f6a940a45a2a3c3ad5d9925e132"
      }
     },
     "83b137802f4b449bb90fb0904fa5268b": {
      "model_module": "@jupyter-widgets/controls",
      "model_module_version": "1.5.0",
      "model_name": "ButtonStyleModel",
      "state": {}
     },
     "83c9821c513a4e3e92e3ec47b0a4db8d": {
      "model_module": "@jupyter-widgets/base",
      "model_module_version": "1.2.0",
      "model_name": "LayoutModel",
      "state": {}
     },
     "8483b0f2932640a79703181cef501b3d": {
      "model_module": "@jupyter-widgets/controls",
      "model_module_version": "1.5.0",
      "model_name": "HBoxModel",
      "state": {
       "children": [
        "IPY_MODEL_32f9f30d29e54cbfb6ba9b2773608d5d",
        "IPY_MODEL_7616d2d2ede04c139924d3b36ae59943",
        "IPY_MODEL_55d70314cb05415faaa2ff187bccce34"
       ],
       "layout": "IPY_MODEL_030e929314924ec8b723ed3cb68f8a86"
      }
     },
     "85d7401d33ab4a88812602186eb4eac5": {
      "model_module": "@jupyter-widgets/controls",
      "model_module_version": "1.5.0",
      "model_name": "ButtonStyleModel",
      "state": {}
     },
     "864c2413cef64e84a09d468e52a62701": {
      "model_module": "@jupyter-widgets/controls",
      "model_module_version": "1.5.0",
      "model_name": "ButtonStyleModel",
      "state": {}
     },
     "865f7c4eabed456b8e0a9d424285caab": {
      "model_module": "@jupyter-widgets/base",
      "model_module_version": "1.2.0",
      "model_name": "LayoutModel",
      "state": {
       "height": "80px",
       "width": "33%"
      }
     },
     "86603aae41264e8fa11c057973bddea3": {
      "model_module": "@jupyter-widgets/controls",
      "model_module_version": "1.5.0",
      "model_name": "ButtonModel",
      "state": {
       "button_style": "info",
       "description": "Filter Logs",
       "icon": "filter",
       "layout": "IPY_MODEL_0f5ac55988a34753846735778aa6c2e7",
       "style": "IPY_MODEL_01569d044b804fbfb99c4405876b97b8",
       "tooltip": "Filter Logs"
      }
     },
     "86d47dbceec94dbc852dbbcc5636a9be": {
      "model_module": "@jupyter-widgets/base",
      "model_module_version": "1.2.0",
      "model_name": "LayoutModel",
      "state": {
       "height": "80px",
       "width": "33%"
      }
     },
     "872bbbdee304475e8f87fe8cbaa32633": {
      "model_module": "@jupyter-widgets/base",
      "model_module_version": "1.2.0",
      "model_name": "LayoutModel",
      "state": {}
     },
     "87f42b95d35f4e93b318a2c2a865567f": {
      "model_module": "@jupyter-widgets/controls",
      "model_module_version": "1.5.0",
      "model_name": "ButtonModel",
      "state": {
       "button_style": "success",
       "description": "Join Duet",
       "icon": "plug",
       "layout": "IPY_MODEL_4cf7f34cd21644b790e941a95f6b348b",
       "style": "IPY_MODEL_8fa4576c4f8e46df9efe8c53b767b73d",
       "tooltip": "Join Duet"
      }
     },
     "89e055ee6b9647f7a5940435a291f773": {
      "model_module": "@jupyter-widgets/controls",
      "model_module_version": "1.5.0",
      "model_name": "ButtonStyleModel",
      "state": {}
     },
     "8a7cc2d0b569446ea9fddcbf362497b7": {
      "model_module": "@jupyter-widgets/controls",
      "model_module_version": "1.5.0",
      "model_name": "ButtonModel",
      "state": {
       "button_style": "success",
       "description": "Search Logs",
       "icon": "search",
       "layout": "IPY_MODEL_4d177ab6d7664f978ffc4ef4e8e37a37",
       "style": "IPY_MODEL_399ea7564dbd4bf890d5dbd8efe5f704",
       "tooltip": "Search Logs"
      }
     },
     "8c091a3af676433192daab4ee24e59c7": {
      "model_module": "@jupyter-widgets/base",
      "model_module_version": "1.2.0",
      "model_name": "LayoutModel",
      "state": {}
     },
     "8c7908aa93484306b38c8ddc4b438eb6": {
      "model_module": "@jupyter-widgets/base",
      "model_module_version": "1.2.0",
      "model_name": "LayoutModel",
      "state": {
       "height": "80px",
       "width": "33%"
      }
     },
     "8d5dcd00f1cd49b6ac08096322bc9df2": {
      "model_module": "@jupyter-widgets/controls",
      "model_module_version": "1.5.0",
      "model_name": "ButtonModel",
      "state": {
       "button_style": "success",
       "description": "Join Duet",
       "icon": "plug",
       "layout": "IPY_MODEL_17467c94385f41f79b58344ef9f5a1b2",
       "style": "IPY_MODEL_bac17ed2f772470294ddf4ec582adae2",
       "tooltip": "Join Duet"
      }
     },
     "8d8a3c1ba5b24f7b8d8698582e48080b": {
      "model_module": "@jupyter-widgets/controls",
      "model_module_version": "1.5.0",
      "model_name": "ButtonModel",
      "state": {
       "button_style": "info",
       "description": "Filter Logs",
       "icon": "filter",
       "layout": "IPY_MODEL_2ab42aa6f9584daa96998aff17cd6fe8",
       "style": "IPY_MODEL_3c264822051c418899f7f0d0f13f9703",
       "tooltip": "Filter Logs"
      }
     },
     "8eb1bf305eb04de09bc4f4c44d234650": {
      "model_module": "@jupyter-widgets/controls",
      "model_module_version": "1.5.0",
      "model_name": "ButtonStyleModel",
      "state": {}
     },
     "8fa4576c4f8e46df9efe8c53b767b73d": {
      "model_module": "@jupyter-widgets/controls",
      "model_module_version": "1.5.0",
      "model_name": "ButtonStyleModel",
      "state": {}
     },
     "90d64eb72956472e9d339151baae9d0d": {
      "model_module": "@jupyter-widgets/base",
      "model_module_version": "1.2.0",
      "model_name": "LayoutModel",
      "state": {}
     },
     "9125e2464e72478994216580e8bab6c3": {
      "model_module": "@jupyter-widgets/controls",
      "model_module_version": "1.5.0",
      "model_name": "ButtonModel",
      "state": {
       "button_style": "success",
       "description": "Join Duet",
       "icon": "plug",
       "layout": "IPY_MODEL_a2d25d8414604a3b846441e83c8eabf2",
       "style": "IPY_MODEL_17692d1d80db43cb9e2aeffd14f562ca",
       "tooltip": "Join Duet"
      }
     },
     "929db03735094147935755528695b4c5": {
      "model_module": "@jupyter-widgets/base",
      "model_module_version": "1.2.0",
      "model_name": "LayoutModel",
      "state": {
       "height": "80px",
       "width": "33%"
      }
     },
     "93d58f9471f149969d8723dd9b9bf04b": {
      "model_module": "@jupyter-widgets/controls",
      "model_module_version": "1.5.0",
      "model_name": "ButtonStyleModel",
      "state": {}
     },
     "9490a68efb3a4e9aa7ed62020d8a737b": {
      "model_module": "@jupyter-widgets/base",
      "model_module_version": "1.2.0",
      "model_name": "LayoutModel",
      "state": {}
     },
     "9499b6fd3f394a19874aedb8a5f4e8ba": {
      "model_module": "@jupyter-widgets/controls",
      "model_module_version": "1.5.0",
      "model_name": "ButtonStyleModel",
      "state": {}
     },
     "956c283245c34f4e8f5d778b31dee8bb": {
      "model_module": "@jupyter-widgets/output",
      "model_module_version": "1.0.0",
      "model_name": "OutputModel",
      "state": {
       "layout": "IPY_MODEL_21164061e94846c782a5bcdfbc3baf28"
      }
     },
     "95d2e6edd8314233a1de37ec21265e67": {
      "model_module": "@jupyter-widgets/base",
      "model_module_version": "1.2.0",
      "model_name": "LayoutModel",
      "state": {
       "border": "1px solid black"
      }
     },
     "95fb0953970c4be6bf95d43722847347": {
      "model_module": "@jupyter-widgets/controls",
      "model_module_version": "1.5.0",
      "model_name": "HBoxModel",
      "state": {
       "children": [
        "IPY_MODEL_511bd49717f649499ec6ba2fe8ee9722",
        "IPY_MODEL_96b81dc2660441e5910dd5f7e9c22c72",
        "IPY_MODEL_ea6998eb3fd0452fa048374eae2f907f"
       ],
       "layout": "IPY_MODEL_128ceb0b26824bb89db62b9b721cd8f9"
      }
     },
     "96103469573d4c52a534a9b17ae6568a": {
      "model_module": "@jupyter-widgets/controls",
      "model_module_version": "1.5.0",
      "model_name": "ButtonStyleModel",
      "state": {}
     },
     "962ec0158dd542e3b746e0df7ac8f85e": {
      "model_module": "@jupyter-widgets/base",
      "model_module_version": "1.2.0",
      "model_name": "LayoutModel",
      "state": {
       "height": "80px",
       "width": "33%"
      }
     },
     "9653bca9639e48c9a612a0e9d70c1f7b": {
      "model_module": "@jupyter-widgets/controls",
      "model_module_version": "1.5.0",
      "model_name": "HBoxModel",
      "state": {
       "children": [
        "IPY_MODEL_307780fbb6cf44c8a1aeb674ad543e3c",
        "IPY_MODEL_2ae4d91094304265bc1fe36e2025c433",
        "IPY_MODEL_df59280b0fab4ce49acc60bf43ce6ba2"
       ],
       "layout": "IPY_MODEL_8c091a3af676433192daab4ee24e59c7"
      }
     },
     "9688445d98ba45569bc7aad5c470bf5f": {
      "model_module": "@jupyter-widgets/controls",
      "model_module_version": "1.5.0",
      "model_name": "ButtonModel",
      "state": {
       "button_style": "success",
       "description": "Join Duet",
       "icon": "plug",
       "layout": "IPY_MODEL_3c92228d006f47caaccbeb784bf23582",
       "style": "IPY_MODEL_93d58f9471f149969d8723dd9b9bf04b",
       "tooltip": "Join Duet"
      }
     },
     "96b81dc2660441e5910dd5f7e9c22c72": {
      "model_module": "@jupyter-widgets/controls",
      "model_module_version": "1.5.0",
      "model_name": "ButtonModel",
      "state": {
       "button_style": "success",
       "description": "Join Duet(with loopback)",
       "icon": "plug",
       "layout": "IPY_MODEL_e7cc3aaee04f4f7da42f28798af6a50c",
       "style": "IPY_MODEL_f010e3d73dd34d1aad1005f793a91992",
       "tooltip": "Join Duet(with loopback)"
      }
     },
     "96ef5685747643e29dcc3e23f85c5430": {
      "model_module": "@jupyter-widgets/base",
      "model_module_version": "1.2.0",
      "model_name": "LayoutModel",
      "state": {
       "align_items": "stretch",
       "border": "1px solid black",
       "display": "flex",
       "flex_flow": "column"
      }
     },
     "97996f4280814ea0a91f7e0bafabff70": {
      "model_module": "@jupyter-widgets/output",
      "model_module_version": "1.0.0",
      "model_name": "OutputModel",
      "state": {
       "layout": "IPY_MODEL_95d2e6edd8314233a1de37ec21265e67"
      }
     },
     "9969b98326a742d5a75fea2b191ed154": {
      "model_module": "@jupyter-widgets/controls",
      "model_module_version": "1.5.0",
      "model_name": "VBoxModel",
      "state": {
       "children": [
        "IPY_MODEL_6f90278f0d3547ce92c58b1f45942c53",
        "IPY_MODEL_75d66d73a5a4455c9040c0aa8c56cdb1"
       ],
       "layout": "IPY_MODEL_c4f821d3f93b43569146fec8ac9ba37d"
      }
     },
     "9aa593ffac5f4e698884cea76edf6f28": {
      "model_module": "@jupyter-widgets/base",
      "model_module_version": "1.2.0",
      "model_name": "LayoutModel",
      "state": {
       "height": "80px",
       "width": "33%"
      }
     },
     "9ceea4da407f42ddabe8851bc379990c": {
      "model_module": "@jupyter-widgets/controls",
      "model_module_version": "1.5.0",
      "model_name": "ButtonStyleModel",
      "state": {}
     },
     "9f1335810687409591f7dabffb760f9b": {
      "model_module": "@jupyter-widgets/controls",
      "model_module_version": "1.5.0",
      "model_name": "ButtonStyleModel",
      "state": {}
     },
     "9fda5e56715e4e68ab4c3c5b1d464b72": {
      "model_module": "@jupyter-widgets/controls",
      "model_module_version": "1.5.0",
      "model_name": "ButtonStyleModel",
      "state": {}
     },
     "a010ab84b51d4dd0bb83fe0cb6dd09e8": {
      "model_module": "@jupyter-widgets/base",
      "model_module_version": "1.2.0",
      "model_name": "LayoutModel",
      "state": {
       "border": "1px solid black"
      }
     },
     "a06ad6961416457dbf7bdf7e551df74c": {
      "model_module": "@jupyter-widgets/controls",
      "model_module_version": "1.5.0",
      "model_name": "ButtonStyleModel",
      "state": {}
     },
     "a167fa1e42fa4aa398a0a1a9fa3781ec": {
      "model_module": "@jupyter-widgets/base",
      "model_module_version": "1.2.0",
      "model_name": "LayoutModel",
      "state": {
       "height": "80px",
       "width": "33%"
      }
     },
     "a23d308b2fcd4681a8e0a9e3c1bc6082": {
      "model_module": "@jupyter-widgets/controls",
      "model_module_version": "1.5.0",
      "model_name": "ButtonModel",
      "state": {
       "button_style": "success",
       "description": "Join Duet",
       "icon": "plug",
       "layout": "IPY_MODEL_30574fe2608646ebb72d7cf7085d6c93",
       "style": "IPY_MODEL_cbf8e75e98e64e5bb8634d530208872b",
       "tooltip": "Join Duet"
      }
     },
     "a2d25d8414604a3b846441e83c8eabf2": {
      "model_module": "@jupyter-widgets/base",
      "model_module_version": "1.2.0",
      "model_name": "LayoutModel",
      "state": {
       "height": "80px",
       "width": "33%"
      }
     },
     "a4d8146bdc194a829e02e0d7c65f06ea": {
      "model_module": "@jupyter-widgets/base",
      "model_module_version": "1.2.0",
      "model_name": "LayoutModel",
      "state": {}
     },
     "a60d9aa788854bc4a02a9d00536bdec0": {
      "model_module": "@jupyter-widgets/controls",
      "model_module_version": "1.5.0",
      "model_name": "ButtonStyleModel",
      "state": {}
     },
     "a6327e24a97d42ca991459d12eed9aa5": {
      "model_module": "@jupyter-widgets/controls",
      "model_module_version": "1.5.0",
      "model_name": "ButtonModel",
      "state": {
       "button_style": "danger",
       "description": "Disconnect from Duet",
       "icon": "window-close-o",
       "layout": "IPY_MODEL_6bbc5de27c6440e19046315c73428d81",
       "style": "IPY_MODEL_f6658cd97a244e2ba240bb3f8c0db23c",
       "tooltip": "Disconnect from Duet"
      }
     },
     "a768541f7dae4699870ff413277d6500": {
      "model_module": "@jupyter-widgets/controls",
      "model_module_version": "1.5.0",
      "model_name": "ButtonModel",
      "state": {
       "button_style": "success",
       "description": "Join Duet(with loopback)",
       "icon": "plug",
       "layout": "IPY_MODEL_0ec1de615b2843cebcb7cff24d684026",
       "style": "IPY_MODEL_4ec9a55156f94c0f962f4182d61fa6e6",
       "tooltip": "Join Duet(with loopback)"
      }
     },
     "a88f64ba908742019dc232bc760d1e65": {
      "model_module": "@jupyter-widgets/controls",
      "model_module_version": "1.5.0",
      "model_name": "ButtonModel",
      "state": {
       "button_style": "warning",
       "description": "Join Grid",
       "icon": "plug",
       "layout": "IPY_MODEL_4cccc32ffd9e44209a9c97d13c3cbec4",
       "style": "IPY_MODEL_fb0fa0b1db8f4d68876ab94462df2608",
       "tooltip": "Join Grid"
      }
     },
     "a8a96a9179584d8e9ea4a44539bea064": {
      "model_module": "@jupyter-widgets/controls",
      "model_module_version": "1.5.0",
      "model_name": "ButtonStyleModel",
      "state": {}
     },
     "a90aee24bba54f939344b3ae142454b3": {
      "model_module": "@jupyter-widgets/controls",
      "model_module_version": "1.5.0",
      "model_name": "ButtonModel",
      "state": {
       "button_style": "info",
       "description": "View Duet Store",
       "icon": "archive",
       "layout": "IPY_MODEL_aae239807331434892e6a4e83ba6020e",
       "style": "IPY_MODEL_2ca12067a47f4427a5bf14c6f444321f",
       "tooltip": "View Duet Store"
      }
     },
     "a95c1c460ff1433b87969667dae57a19": {
      "model_module": "@jupyter-widgets/base",
      "model_module_version": "1.2.0",
      "model_name": "LayoutModel",
      "state": {}
     },
     "a9f308221b354df493acb857f59335b7": {
      "model_module": "@jupyter-widgets/controls",
      "model_module_version": "1.5.0",
      "model_name": "HBoxModel",
      "state": {
       "children": [
        "IPY_MODEL_1dcfe0a519d44ae2867895858cb32627",
        "IPY_MODEL_13ce35d8fe5440b3866372726846979d",
        "IPY_MODEL_0cb7e4005ef14df192b50c704524db40"
       ],
       "layout": "IPY_MODEL_83c9821c513a4e3e92e3ec47b0a4db8d"
      }
     },
     "aae239807331434892e6a4e83ba6020e": {
      "model_module": "@jupyter-widgets/base",
      "model_module_version": "1.2.0",
      "model_name": "LayoutModel",
      "state": {
       "height": "80px",
       "width": "33%"
      }
     },
     "ac1619a0a31b4950849c62e384d7881a": {
      "model_module": "@jupyter-widgets/controls",
      "model_module_version": "1.5.0",
      "model_name": "HBoxModel",
      "state": {
       "children": [
        "IPY_MODEL_6793acb33cb04002bd98931290bf8eb3",
        "IPY_MODEL_04fa9905e0be4d74b10a1b101c98a6c0",
        "IPY_MODEL_cf091b21e195416591a66e61ce2a21f1"
       ],
       "layout": "IPY_MODEL_153030f1a6264ad684dc0ea21e8084ab"
      }
     },
     "acf81efe3a2a45119168622005955956": {
      "model_module": "@jupyter-widgets/base",
      "model_module_version": "1.2.0",
      "model_name": "LayoutModel",
      "state": {
       "height": "80px",
       "width": "33%"
      }
     },
     "ad064a0f29694576908da65d65dfed70": {
      "model_module": "@jupyter-widgets/output",
      "model_module_version": "1.0.0",
      "model_name": "OutputModel",
      "state": {
       "layout": "IPY_MODEL_0cb28f20b4e443e68ca06f4e551ab407",
       "outputs": [
        {
         "data": {
          "image/png": "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\n",
          "text/plain": "<IPython.core.display.Image object>"
         },
         "metadata": {
          "image/png": {
           "unconfined": true,
           "width": 400
          }
         },
         "output_type": "display_data"
        },
        {
         "name": "stdout",
         "output_type": "stream",
         "text": "🎤  🎸  ♪♪♪ Joining Duet ♫♫♫  🎻  🎹\n\n♫♫♫ >\u001b[93m DISCLAIMER\u001b[0m: \u001b[1mDuet is an experimental feature currently in beta.\n♫♫♫ > Use at your own risk.\n\u001b[0m\n\u001b[1m\n    > ❤️ \u001b[91mLove\u001b[0m \u001b[92mDuet\u001b[0m? \u001b[93mPlease\u001b[0m \u001b[94mconsider\u001b[0m \u001b[95msupporting\u001b[0m \u001b[91mour\u001b[0m \u001b[93mcommunity!\u001b[0m\n    > https://github.com/sponsors/OpenMined\u001b[1m\n\n♫♫♫ > Punching through firewall to OpenGrid Network Node at:\n♫♫♫ > http://ec2-18-216-8-163.us-east-2.compute.amazonaws.com:5000\n♫♫♫ >\n♫♫♫ > ...waiting for response from OpenGrid Network... \n"
        },
        {
         "name": "stderr",
         "output_type": "stream",
         "text": "[2021-03-28T22:38:15.553415+0530][CRITICAL][logger]][63548] Skipping torchvision.torchvision.transforms.functional.adjust_sharpness not supported in 0.8.2\n[2021-03-28T22:38:15.554522+0530][CRITICAL][logger]][63548] Skipping torchvision.torchvision.transforms.functional.autocontrast not supported in 0.8.2\n[2021-03-28T22:38:15.554994+0530][CRITICAL][logger]][63548] Skipping torchvision.torchvision.transforms.functional.equalize not supported in 0.8.2\n[2021-03-28T22:38:15.555444+0530][CRITICAL][logger]][63548] Skipping torchvision.torchvision.transforms.functional.invert not supported in 0.8.2\n[2021-03-28T22:38:15.555884+0530][CRITICAL][logger]][63548] Skipping torchvision.torchvision.transforms.functional.posterize not supported in 0.8.2\n[2021-03-28T22:38:15.556842+0530][CRITICAL][logger]][63548] Skipping torchvision.torchvision.transforms.functional.solarize not supported in 0.8.2\n"
        },
        {
         "name": "stdout",
         "output_type": "stream",
         "text": "♫♫♫ > \u001b[92mDONE!\u001b[0m\n"
        },
        {
         "name": "stderr",
         "output_type": "stream",
         "text": "[2021-03-28T22:38:18.946655+0530][CRITICAL][logger]][63548] Skipping torchvision.torchvision.transforms.functional.adjust_sharpness not supported in 0.8.2\n[2021-03-28T22:38:18.947087+0530][CRITICAL][logger]][63548] Skipping torchvision.torchvision.transforms.functional.autocontrast not supported in 0.8.2\n"
        },
        {
         "name": "stdout",
         "output_type": "stream",
         "text": "\n♫♫♫ > \u001b[92mCONNECTED!\u001b[0m\n"
        },
        {
         "name": "stderr",
         "output_type": "stream",
         "text": "[2021-03-28T22:38:18.947520+0530][CRITICAL][logger]][63548] Skipping torchvision.torchvision.transforms.functional.equalize not supported in 0.8.2\n[2021-03-28T22:38:18.948310+0530][CRITICAL][logger]][63548] Skipping torchvision.torchvision.transforms.functional.posterize not supported in 0.8.2\n[2021-03-28T22:38:18.948723+0530][CRITICAL][logger]][63548] Skipping torchvision.torchvision.transforms.functional.solarize not supported in 0.8.2\n"
        }
       ]
      }
     },
     "ad3dfe4957284b6cba24a5f89b16fc45": {
      "model_module": "@jupyter-widgets/base",
      "model_module_version": "1.2.0",
      "model_name": "LayoutModel",
      "state": {
       "height": "80px",
       "width": "33%"
      }
     },
     "afbea99f8d8e485895a210fa03e7a881": {
      "model_module": "@jupyter-widgets/controls",
      "model_module_version": "1.5.0",
      "model_name": "ButtonModel",
      "state": {
       "button_style": "success",
       "description": "Search Logs",
       "icon": "search",
       "layout": "IPY_MODEL_b9eb3806c6b8442aaeed8442e2711723",
       "style": "IPY_MODEL_3b92f6e70f0c46709052465c921070c4",
       "tooltip": "Search Logs"
      }
     },
     "afc24c24dafe4b7ca144057679783ef6": {
      "model_module": "@jupyter-widgets/controls",
      "model_module_version": "1.5.0",
      "model_name": "ButtonStyleModel",
      "state": {}
     },
     "aff1c15ee58546d597a6367f927e1951": {
      "model_module": "@jupyter-widgets/output",
      "model_module_version": "1.0.0",
      "model_name": "OutputModel",
      "state": {
       "layout": "IPY_MODEL_fb71063bbd934166ac32e1f92b06812f"
      }
     },
     "affcd428f7e744d2918ae99ca547b395": {
      "model_module": "@jupyter-widgets/controls",
      "model_module_version": "1.5.0",
      "model_name": "HBoxModel",
      "state": {
       "children": [
        "IPY_MODEL_25238d9ad449451a9ce28bf3c7229427",
        "IPY_MODEL_7b859cd8db9448dcba5b2fe9cb86600e",
        "IPY_MODEL_6bfb36efe3714e57a0dfcfd9f8488bf5"
       ],
       "layout": "IPY_MODEL_dff34b6223a04bd0a549384d33f0d27c"
      }
     },
     "b1177442a0f74d018bf368e34bdf6110": {
      "model_module": "@jupyter-widgets/base",
      "model_module_version": "1.2.0",
      "model_name": "LayoutModel",
      "state": {
       "height": "80px",
       "width": "33%"
      }
     },
     "b118788d31de44e2aeb6f4f1a35e0b16": {
      "model_module": "@jupyter-widgets/controls",
      "model_module_version": "1.5.0",
      "model_name": "ButtonStyleModel",
      "state": {}
     },
     "b1c1cc2b68ae4cfc8ae2c1b9e863e5ce": {
      "model_module": "@jupyter-widgets/controls",
      "model_module_version": "1.5.0",
      "model_name": "HBoxModel",
      "state": {
       "children": [
        "IPY_MODEL_f7248d466e7f420b901b20e4ab0c3d98",
        "IPY_MODEL_c005c3359cb142c099e4c1467583a8c9",
        "IPY_MODEL_b26c1cbe80474749a4c24981e6bdc4a2"
       ],
       "layout": "IPY_MODEL_5eb9ccc660d5477481930d42a5d21d53"
      }
     },
     "b26c1cbe80474749a4c24981e6bdc4a2": {
      "model_module": "@jupyter-widgets/controls",
      "model_module_version": "1.5.0",
      "model_name": "ButtonModel",
      "state": {
       "button_style": "info",
       "description": "View Peers",
       "icon": "eye",
       "layout": "IPY_MODEL_249b651b67354472a5531d02882c177b",
       "style": "IPY_MODEL_fdbf69e268cc4be782f47a20e4f518b6",
       "tooltip": "View Peers"
      }
     },
     "b37b51d325304251a56e89c06ba2b02a": {
      "model_module": "@jupyter-widgets/base",
      "model_module_version": "1.2.0",
      "model_name": "LayoutModel",
      "state": {
       "height": "80px",
       "width": "33%"
      }
     },
     "b41e630dff2e4b5b854f7bb2be3a1e4c": {
      "model_module": "@jupyter-widgets/controls",
      "model_module_version": "1.5.0",
      "model_name": "ButtonStyleModel",
      "state": {}
     },
     "b5a1e5f5a1044efe84c111abc34d90ef": {
      "model_module": "@jupyter-widgets/controls",
      "model_module_version": "1.5.0",
      "model_name": "ButtonStyleModel",
      "state": {}
     },
     "b6f9e09ea8214010aecd29832b8b9c72": {
      "model_module": "@jupyter-widgets/controls",
      "model_module_version": "1.5.0",
      "model_name": "ButtonStyleModel",
      "state": {}
     },
     "b745f6f6f4b14a63b9f6c3df21f73d85": {
      "model_module": "@jupyter-widgets/controls",
      "model_module_version": "1.5.0",
      "model_name": "ButtonStyleModel",
      "state": {}
     },
     "b92f6362394f4bc4a57ad2d635e11728": {
      "model_module": "@jupyter-widgets/base",
      "model_module_version": "1.2.0",
      "model_name": "LayoutModel",
      "state": {
       "height": "80px",
       "width": "33%"
      }
     },
     "b9bb8e05d80443f5aa7199acb002e19b": {
      "model_module": "@jupyter-widgets/controls",
      "model_module_version": "1.5.0",
      "model_name": "ButtonStyleModel",
      "state": {}
     },
     "b9d15f7a9716427ea78287f349e22821": {
      "model_module": "@jupyter-widgets/controls",
      "model_module_version": "1.5.0",
      "model_name": "ButtonModel",
      "state": {
       "button_style": "success",
       "description": "Join Duet(with loopback)",
       "icon": "plug",
       "layout": "IPY_MODEL_3d2c4fc5d33f4e8780672e1f8dde731c",
       "style": "IPY_MODEL_a60d9aa788854bc4a02a9d00536bdec0",
       "tooltip": "Join Duet(with loopback)"
      }
     },
     "b9eb3806c6b8442aaeed8442e2711723": {
      "model_module": "@jupyter-widgets/base",
      "model_module_version": "1.2.0",
      "model_name": "LayoutModel",
      "state": {
       "height": "80px",
       "width": "33%"
      }
     },
     "b9f6234f9bfa4230ab5e39acd4ce4df8": {
      "model_module": "@jupyter-widgets/base",
      "model_module_version": "1.2.0",
      "model_name": "LayoutModel",
      "state": {
       "border": "1px solid black"
      }
     },
     "ba266e07c1ce425a912350ee45ddc93f": {
      "model_module": "@jupyter-widgets/controls",
      "model_module_version": "1.5.0",
      "model_name": "ButtonModel",
      "state": {
       "button_style": "success",
       "description": "Search Logs",
       "icon": "search",
       "layout": "IPY_MODEL_3f30ce6d28174c31a874a6af213b9cc5",
       "style": "IPY_MODEL_9ceea4da407f42ddabe8851bc379990c",
       "tooltip": "Search Logs"
      }
     },
     "ba8721dc39bb4a879968967755a26a96": {
      "model_module": "@jupyter-widgets/base",
      "model_module_version": "1.2.0",
      "model_name": "LayoutModel",
      "state": {
       "border": "1px solid black"
      }
     },
     "bac17ed2f772470294ddf4ec582adae2": {
      "model_module": "@jupyter-widgets/controls",
      "model_module_version": "1.5.0",
      "model_name": "ButtonStyleModel",
      "state": {}
     },
     "bca9c3853cca4e4c8e121c93cce16a36": {
      "model_module": "@jupyter-widgets/base",
      "model_module_version": "1.2.0",
      "model_name": "LayoutModel",
      "state": {}
     },
     "bde07ede5f8545ab82b9fbaf29043d5d": {
      "model_module": "@jupyter-widgets/controls",
      "model_module_version": "1.5.0",
      "model_name": "ButtonModel",
      "state": {
       "button_style": "success",
       "description": "Join Duet",
       "icon": "plug",
       "layout": "IPY_MODEL_ff49d313aa17481e99d6a52d1e80df69",
       "style": "IPY_MODEL_70c44e0aba4849ceb7a064244ab9c40f",
       "tooltip": "Join Duet"
      }
     },
     "c005c3359cb142c099e4c1467583a8c9": {
      "model_module": "@jupyter-widgets/controls",
      "model_module_version": "1.5.0",
      "model_name": "ButtonModel",
      "state": {
       "button_style": "success",
       "description": "Join Duet(with loopback)",
       "icon": "plug",
       "layout": "IPY_MODEL_5d229473c7a64bb2b02f2fc5fc6465c4",
       "style": "IPY_MODEL_47ca62d5901a4fa98cdfdfc71476bcd2",
       "tooltip": "Join Duet(with loopback)"
      }
     },
     "c061c7b57fa14e48b0b9452da68e7277": {
      "model_module": "@jupyter-widgets/base",
      "model_module_version": "1.2.0",
      "model_name": "LayoutModel",
      "state": {
       "height": "80px",
       "width": "33%"
      }
     },
     "c19bdf429a86459f9dde54fc11f21bea": {
      "model_module": "@jupyter-widgets/controls",
      "model_module_version": "1.5.0",
      "model_name": "ButtonModel",
      "state": {
       "button_style": "danger",
       "description": "Disconnect from Duet",
       "icon": "window-close-o",
       "layout": "IPY_MODEL_2f128d8e3770466e92e0d9faa00549fd",
       "style": "IPY_MODEL_50cc6d5c6fe64dabae19d801c59bd32c",
       "tooltip": "Disconnect from Duet"
      }
     },
     "c1bb3f17ae4f4df1bb9982823ab8ca50": {
      "model_module": "@jupyter-widgets/controls",
      "model_module_version": "1.5.0",
      "model_name": "ButtonModel",
      "state": {
       "button_style": "info",
       "description": "View Duet Store",
       "icon": "archive",
       "layout": "IPY_MODEL_028ab5a0bdec497f9e81416b08e6d6b2",
       "style": "IPY_MODEL_589c4c6178ca40048fe9ea8c378ea237",
       "tooltip": "View Duet Store"
      }
     },
     "c1be641ab5014447b4b29d5ca7311018": {
      "model_module": "@jupyter-widgets/base",
      "model_module_version": "1.2.0",
      "model_name": "LayoutModel",
      "state": {}
     },
     "c20fc951c4254f518f3292179303ae3d": {
      "model_module": "@jupyter-widgets/controls",
      "model_module_version": "1.5.0",
      "model_name": "ButtonModel",
      "state": {
       "button_style": "info",
       "description": "Filter Logs",
       "icon": "filter",
       "layout": "IPY_MODEL_783b3428a1314524a0efd28b92b90c98",
       "style": "IPY_MODEL_82e94a90eafe4a1697a25afe5b422c75",
       "tooltip": "Filter Logs"
      }
     },
     "c21c3f4126f4480cb8eef5597096f2cf": {
      "model_module": "@jupyter-widgets/base",
      "model_module_version": "1.2.0",
      "model_name": "LayoutModel",
      "state": {
       "height": "80px",
       "width": "33%"
      }
     },
     "c24860b167a844a9bed71a582f0236b8": {
      "model_module": "@jupyter-widgets/controls",
      "model_module_version": "1.5.0",
      "model_name": "ButtonModel",
      "state": {
       "button_style": "success",
       "description": "Join Duet",
       "icon": "plug",
       "layout": "IPY_MODEL_86d47dbceec94dbc852dbbcc5636a9be",
       "style": "IPY_MODEL_35a963ea9a054c46a2ed92ef745f43d5",
       "tooltip": "Join Duet"
      }
     },
     "c3345c6a11514c90961e31fb6cbded8a": {
      "model_module": "@jupyter-widgets/controls",
      "model_module_version": "1.5.0",
      "model_name": "ButtonModel",
      "state": {
       "button_style": "info",
       "description": "View Peers",
       "icon": "eye",
       "layout": "IPY_MODEL_7b9f121629244e19982cf0ba761b17e0",
       "style": "IPY_MODEL_a8a96a9179584d8e9ea4a44539bea064",
       "tooltip": "View Peers"
      }
     },
     "c486a67df93c4198a57fcee12818ac2c": {
      "model_module": "@jupyter-widgets/controls",
      "model_module_version": "1.5.0",
      "model_name": "ButtonStyleModel",
      "state": {}
     },
     "c49f390992794ba6a1b091a55b42cfba": {
      "model_module": "@jupyter-widgets/controls",
      "model_module_version": "1.5.0",
      "model_name": "ButtonStyleModel",
      "state": {}
     },
     "c4f821d3f93b43569146fec8ac9ba37d": {
      "model_module": "@jupyter-widgets/base",
      "model_module_version": "1.2.0",
      "model_name": "LayoutModel",
      "state": {}
     },
     "c58ae807ce4b4c8cb6a2b9838bf2a083": {
      "model_module": "@jupyter-widgets/controls",
      "model_module_version": "1.5.0",
      "model_name": "ButtonStyleModel",
      "state": {}
     },
     "c6e0bf3748e74dfe9fa4423cd3cc1187": {
      "model_module": "@jupyter-widgets/base",
      "model_module_version": "1.2.0",
      "model_name": "LayoutModel",
      "state": {
       "height": "80px",
       "width": "33%"
      }
     },
     "c6fc3f85ff424ad0801b63f267e43a7d": {
      "model_module": "@jupyter-widgets/controls",
      "model_module_version": "1.5.0",
      "model_name": "HBoxModel",
      "state": {
       "children": [
        "IPY_MODEL_d6c414f4cd4c4f03a237fb666b634b38",
        "IPY_MODEL_30d0fc0713e04772b4ecf7c894202117",
        "IPY_MODEL_d1c9c94079d7437999f2ec8ec725812d"
       ],
       "layout": "IPY_MODEL_38e41306f60448c7a4776039019a06a8"
      }
     },
     "c74ee4b539c84a2c989d1f7a5011d6d5": {
      "model_module": "@jupyter-widgets/controls",
      "model_module_version": "1.5.0",
      "model_name": "ButtonStyleModel",
      "state": {}
     },
     "c827bd1479a24882bfc19d2d7e10dd20": {
      "model_module": "@jupyter-widgets/controls",
      "model_module_version": "1.5.0",
      "model_name": "ButtonModel",
      "state": {
       "button_style": "info",
       "description": "Filter Logs",
       "icon": "filter",
       "layout": "IPY_MODEL_6e9135cc836642428ee4520afa13c5cd",
       "style": "IPY_MODEL_34cb758a440c4ce88746ba93ea6396f2",
       "tooltip": "Filter Logs"
      }
     },
     "ca328ad6aa8249c2be616573c463d32e": {
      "model_module": "@jupyter-widgets/controls",
      "model_module_version": "1.5.0",
      "model_name": "ButtonStyleModel",
      "state": {}
     },
     "cb9bd2da4a69450691046758dd2f72b1": {
      "model_module": "@jupyter-widgets/base",
      "model_module_version": "1.2.0",
      "model_name": "LayoutModel",
      "state": {}
     },
     "cbf8e75e98e64e5bb8634d530208872b": {
      "model_module": "@jupyter-widgets/controls",
      "model_module_version": "1.5.0",
      "model_name": "ButtonStyleModel",
      "state": {}
     },
     "cce59916dc124977a6c10e5bf5d23fbe": {
      "model_module": "@jupyter-widgets/base",
      "model_module_version": "1.2.0",
      "model_name": "LayoutModel",
      "state": {
       "height": "80px",
       "width": "33%"
      }
     },
     "cd0b35f9da0c4579b826d3a4c5fe157f": {
      "model_module": "@jupyter-widgets/controls",
      "model_module_version": "1.5.0",
      "model_name": "ButtonStyleModel",
      "state": {}
     },
     "cd32b53760dc48a3bb1ae034f3456d59": {
      "model_module": "@jupyter-widgets/base",
      "model_module_version": "1.2.0",
      "model_name": "LayoutModel",
      "state": {}
     },
     "cdc9736952c74b99be1b15c89878185a": {
      "model_module": "@jupyter-widgets/controls",
      "model_module_version": "1.5.0",
      "model_name": "ButtonModel",
      "state": {
       "button_style": "info",
       "description": "View Duet Store",
       "icon": "archive",
       "layout": "IPY_MODEL_cce59916dc124977a6c10e5bf5d23fbe",
       "style": "IPY_MODEL_2c1ddb0b5f9c4164a4fd5d80f68ccfce",
       "tooltip": "View Duet Store"
      }
     },
     "cdca3e8facaf408f9585f19be00c8dcd": {
      "model_module": "@jupyter-widgets/controls",
      "model_module_version": "1.5.0",
      "model_name": "ButtonModel",
      "state": {
       "button_style": "info",
       "description": "View Peers",
       "icon": "eye",
       "layout": "IPY_MODEL_40d0d91cf7cf4371b34d28fd332193f6",
       "style": "IPY_MODEL_686d1337c74047fbb40d5159dd013b8f",
       "tooltip": "View Peers"
      }
     },
     "ce3b287335b94b588a2061d6415a77f0": {
      "model_module": "@jupyter-widgets/base",
      "model_module_version": "1.2.0",
      "model_name": "LayoutModel",
      "state": {
       "height": "80px",
       "width": "33%"
      }
     },
     "cebbc7b845c849cc97b378f396020e63": {
      "model_module": "@jupyter-widgets/base",
      "model_module_version": "1.2.0",
      "model_name": "LayoutModel",
      "state": {}
     },
     "cf091b21e195416591a66e61ce2a21f1": {
      "model_module": "@jupyter-widgets/controls",
      "model_module_version": "1.5.0",
      "model_name": "ButtonModel",
      "state": {
       "button_style": "warning",
       "description": "Join Grid",
       "icon": "plug",
       "layout": "IPY_MODEL_c6e0bf3748e74dfe9fa4423cd3cc1187",
       "style": "IPY_MODEL_1080078b8bf147b78239c3b2de4a8e9c",
       "tooltip": "Join Grid"
      }
     },
     "d08d4f69117b4c05b39cfb8979f0448a": {
      "model_module": "@jupyter-widgets/output",
      "model_module_version": "1.0.0",
      "model_name": "OutputModel",
      "state": {
       "layout": "IPY_MODEL_6dd22478847e4880a79feba149cb7743",
       "outputs": [
        {
         "name": "stdout",
         "output_type": "stream",
         "text": "🎤  🎸  ♪♪♪ Joining Duet ♫♫♫  🎻  🎹\n\n♫♫♫ >\u001b[93m DISCLAIMER\u001b[0m: \u001b[1mDuet is an experimental feature currently in beta.\n♫♫♫ > Use at your own risk.\n\u001b[0m\n\u001b[1m\n    > ❤️ \u001b[91mLove\u001b[0m \u001b[92mDuet\u001b[0m? \u001b[93mPlease\u001b[0m \u001b[94mconsider\u001b[0m \u001b[95msupporting\u001b[0m \u001b[91mour\u001b[0m \u001b[93mcommunity!\u001b[0m\n    > https://github.com/sponsors/OpenMined\u001b[1m\n\n♫♫♫ > Punching through firewall to OpenGrid Network Node at:\n♫♫♫ > http://ec2-18-216-8-163.us-east-2.compute.amazonaws.com:5000\n♫♫♫ >\n♫♫♫ > ...waiting for response from OpenGrid Network... \n♫♫♫ > \u001b[92mDONE!\u001b[0m\n\n"
        },
        {
         "name": "stderr",
         "output_type": "stream",
         "text": "[2021-04-02T18:30:04.190097+0530][CRITICAL][logger]][29452] Skipping torchvision.torchvision.transforms.functional.invert not supported in 0.8.2\n[2021-04-02T18:30:04.190562+0530][CRITICAL][logger]][29452] Skipping torchvision.torchvision.transforms.functional.posterize not supported in 0.8.2\n"
        },
        {
         "name": "stdout",
         "output_type": "stream",
         "text": "♫♫♫ > \u001b[92mCONNECTED!\u001b[0m\n"
        }
       ]
      }
     },
     "d0fc2821874f4bbcb21923f64e22f104": {
      "model_module": "@jupyter-widgets/controls",
      "model_module_version": "1.5.0",
      "model_name": "ButtonStyleModel",
      "state": {}
     },
     "d1312aa73afd437e997eee004ed09822": {
      "model_module": "@jupyter-widgets/output",
      "model_module_version": "1.0.0",
      "model_name": "OutputModel",
      "state": {
       "layout": "IPY_MODEL_31a0bcfb64b84b84a18c2adb0fefcd0d"
      }
     },
     "d1c9c94079d7437999f2ec8ec725812d": {
      "model_module": "@jupyter-widgets/controls",
      "model_module_version": "1.5.0",
      "model_name": "ButtonModel",
      "state": {
       "button_style": "warning",
       "description": "Join Grid",
       "icon": "plug",
       "layout": "IPY_MODEL_7c5c09193b214b719a50e7471596c307",
       "style": "IPY_MODEL_ca328ad6aa8249c2be616573c463d32e",
       "tooltip": "Join Grid"
      }
     },
     "d22708b06b8c4bf8bee2187131d6f623": {
      "model_module": "@jupyter-widgets/base",
      "model_module_version": "1.2.0",
      "model_name": "LayoutModel",
      "state": {
       "height": "80px",
       "width": "33%"
      }
     },
     "d236075da1fa4792a26769dad423965b": {
      "model_module": "@jupyter-widgets/controls",
      "model_module_version": "1.5.0",
      "model_name": "HBoxModel",
      "state": {
       "children": [
        "IPY_MODEL_c1bb3f17ae4f4df1bb9982823ab8ca50",
        "IPY_MODEL_a6327e24a97d42ca991459d12eed9aa5",
        "IPY_MODEL_13c8a53177f347c68bac4f9d5a6fb272"
       ],
       "layout": "IPY_MODEL_cb9bd2da4a69450691046758dd2f72b1"
      }
     },
     "d3ff2329608a4f49a7e30927f3dc4215": {
      "model_module": "@jupyter-widgets/base",
      "model_module_version": "1.2.0",
      "model_name": "LayoutModel",
      "state": {
       "height": "80px",
       "width": "33%"
      }
     },
     "d4a9134f1d9843e2a6c781ff579b7f9d": {
      "model_module": "@jupyter-widgets/controls",
      "model_module_version": "1.5.0",
      "model_name": "VBoxModel",
      "state": {
       "children": [
        "IPY_MODEL_131213b05f29449f956bb4f340708441",
        "IPY_MODEL_d236075da1fa4792a26769dad423965b"
       ],
       "layout": "IPY_MODEL_536f98b09d764ae0a08ba31b3ce3c246"
      }
     },
     "d52458d04ff14e9b81f2ab2d59336b26": {
      "model_module": "@jupyter-widgets/base",
      "model_module_version": "1.2.0",
      "model_name": "LayoutModel",
      "state": {
       "border": "1px solid black"
      }
     },
     "d58bfc6593474642b0f1067e76be4bfd": {
      "model_module": "@jupyter-widgets/base",
      "model_module_version": "1.2.0",
      "model_name": "LayoutModel",
      "state": {
       "height": "80px",
       "width": "33%"
      }
     },
     "d619818fc94d4dca9ee85c376050adc2": {
      "model_module": "@jupyter-widgets/base",
      "model_module_version": "1.2.0",
      "model_name": "LayoutModel",
      "state": {
       "height": "80px",
       "width": "33%"
      }
     },
     "d688c0ad38cb47cb8d22d94c94b8d298": {
      "model_module": "@jupyter-widgets/base",
      "model_module_version": "1.2.0",
      "model_name": "LayoutModel",
      "state": {
       "height": "80px",
       "width": "33%"
      }
     },
     "d6c414f4cd4c4f03a237fb666b634b38": {
      "model_module": "@jupyter-widgets/controls",
      "model_module_version": "1.5.0",
      "model_name": "ButtonModel",
      "state": {
       "button_style": "info",
       "description": "View Duet Store",
       "icon": "archive",
       "layout": "IPY_MODEL_31fde0d5813d4d969aca2d8e4f523d21",
       "style": "IPY_MODEL_e708f35bf33849d98ee3387862f44faa",
       "tooltip": "View Duet Store"
      }
     },
     "d6f17a9cb4344975bbf2433071cb7ff4": {
      "model_module": "@jupyter-widgets/base",
      "model_module_version": "1.2.0",
      "model_name": "LayoutModel",
      "state": {}
     },
     "d782f9f264c44fc3991572b5645b6632": {
      "model_module": "@jupyter-widgets/base",
      "model_module_version": "1.2.0",
      "model_name": "LayoutModel",
      "state": {
       "border": "1px solid black"
      }
     },
     "d87be1867ac14e01a0103c2406d39f54": {
      "model_module": "@jupyter-widgets/controls",
      "model_module_version": "1.5.0",
      "model_name": "ButtonStyleModel",
      "state": {}
     },
     "d8cfaa58a8354da3bc7d94233e0fc0c5": {
      "model_module": "@jupyter-widgets/controls",
      "model_module_version": "1.5.0",
      "model_name": "ButtonModel",
      "state": {
       "button_style": "success",
       "description": "Join Duet",
       "icon": "plug",
       "layout": "IPY_MODEL_2d02a99c45074cb68f87f54191c708b4",
       "style": "IPY_MODEL_63b2b570b0314ea6a53cf0d3fd9c9b24",
       "tooltip": "Join Duet"
      }
     },
     "d9222b49526c4701b12dc478e9e67d06": {
      "model_module": "@jupyter-widgets/base",
      "model_module_version": "1.2.0",
      "model_name": "LayoutModel",
      "state": {
       "height": "80px",
       "width": "33%"
      }
     },
     "da3734748a8c489284d32d1655f0e4dc": {
      "model_module": "@jupyter-widgets/base",
      "model_module_version": "1.2.0",
      "model_name": "LayoutModel",
      "state": {
       "height": "80px",
       "width": "33%"
      }
     },
     "dafa2c754c0c41c8a565663da6470d20": {
      "model_module": "@jupyter-widgets/output",
      "model_module_version": "1.0.0",
      "model_name": "OutputModel",
      "state": {
       "layout": "IPY_MODEL_3a5f578e4d2243788ec74f89002761cd",
       "outputs": [
        {
         "data": {
          "image/png": "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\n",
          "text/plain": "<IPython.core.display.Image object>"
         },
         "metadata": {
          "image/png": {
           "unconfined": true,
           "width": 400
          }
         },
         "output_type": "display_data"
        },
        {
         "name": "stderr",
         "output_type": "stream",
         "text": "[2021-04-02T19:25:03.022366+0530][CRITICAL][logger]][30202] Skipping torchvision.torchvision.transforms.functional.adjust_sharpness not supported in 0.8.2\n[2021-04-02T19:25:03.022920+0530][CRITICAL][logger]][30202] Skipping torchvision.torchvision.transforms.functional.autocontrast not supported in 0.8.2\n[2021-04-02T19:25:03.023359+0530][CRITICAL][logger]][30202] Skipping torchvision.torchvision.transforms.functional.equalize not supported in 0.8.2\n[2021-04-02T19:25:03.023989+0530][CRITICAL][logger]][30202] Skipping torchvision.torchvision.transforms.functional.invert not supported in 0.8.2\n[2021-04-02T19:25:03.024904+0530][CRITICAL][logger]][30202] Skipping torchvision.torchvision.transforms.functional.posterize not supported in 0.8.2\n[2021-04-02T19:25:03.025575+0530][CRITICAL][logger]][30202] Skipping torchvision.torchvision.transforms.functional.solarize not supported in 0.8.2\n[2021-04-02T19:25:06.318613+0530][CRITICAL][logger]][30202] Skipping torchvision.torchvision.transforms.functional.adjust_sharpness not supported in 0.8.2\n[2021-04-02T19:25:06.319159+0530][CRITICAL][logger]][30202] Skipping torchvision.torchvision.transforms.functional.autocontrast not supported in 0.8.2\n[2021-04-02T19:25:06.319911+0530][CRITICAL][logger]][30202] Skipping torchvision.torchvision.transforms.functional.equalize not supported in 0.8.2\n[2021-04-02T19:25:06.320477+0530][CRITICAL][logger]][30202] Skipping torchvision.torchvision.transforms.functional.invert not supported in 0.8.2\n"
        }
       ]
      }
     },
     "db91bee061834ef4bdbe125b39ff75f8": {
      "model_module": "@jupyter-widgets/controls",
      "model_module_version": "1.5.0",
      "model_name": "ButtonModel",
      "state": {
       "button_style": "success",
       "description": "Join Duet(with loopback)",
       "icon": "plug",
       "layout": "IPY_MODEL_ad3dfe4957284b6cba24a5f89b16fc45",
       "style": "IPY_MODEL_4b9fa978d58e4344af3cabee88433c76",
       "tooltip": "Join Duet(with loopback)"
      }
     },
     "dc331a6aa7874116bbf66587ef64d6cc": {
      "model_module": "@jupyter-widgets/controls",
      "model_module_version": "1.5.0",
      "model_name": "ButtonModel",
      "state": {
       "button_style": "info",
       "description": "View Duet Store",
       "icon": "archive",
       "layout": "IPY_MODEL_e2db0754f4af4b089ad431a5dc2d0bf9",
       "style": "IPY_MODEL_8eb1bf305eb04de09bc4f4c44d234650",
       "tooltip": "View Duet Store"
      }
     },
     "dc958f3c5097495c8bfa54897fc7ff5d": {
      "model_module": "@jupyter-widgets/controls",
      "model_module_version": "1.5.0",
      "model_name": "ButtonModel",
      "state": {
       "button_style": "success",
       "description": "Search Logs",
       "icon": "search",
       "layout": "IPY_MODEL_a167fa1e42fa4aa398a0a1a9fa3781ec",
       "style": "IPY_MODEL_83b137802f4b449bb90fb0904fa5268b",
       "tooltip": "Search Logs"
      }
     },
     "dd3c852bca2b416896fa497344f2a5b9": {
      "model_module": "@jupyter-widgets/controls",
      "model_module_version": "1.5.0",
      "model_name": "ButtonModel",
      "state": {
       "button_style": "info",
       "description": "View Peers",
       "icon": "eye",
       "layout": "IPY_MODEL_6fa191f22a27426188fae20e3d16a653",
       "style": "IPY_MODEL_52da6b91fee44e65939578c0e65b9369",
       "tooltip": "View Peers"
      }
     },
     "dd6caab6ecb243f7a0712cc7c4c59e82": {
      "model_module": "@jupyter-widgets/controls",
      "model_module_version": "1.5.0",
      "model_name": "VBoxModel",
      "state": {
       "children": [
        "IPY_MODEL_2465e36a0ed34bfcada0214bc36cb24b",
        "IPY_MODEL_affcd428f7e744d2918ae99ca547b395"
       ],
       "layout": "IPY_MODEL_19bf12e169e04a85a32013a96ecbe918"
      }
     },
     "dd7231ae3d0c441aafdba23607896c6b": {
      "model_module": "@jupyter-widgets/base",
      "model_module_version": "1.2.0",
      "model_name": "LayoutModel",
      "state": {
       "height": "80px",
       "width": "33%"
      }
     },
     "dde4cc04948848daa508d0bd80d478a0": {
      "model_module": "@jupyter-widgets/controls",
      "model_module_version": "1.5.0",
      "model_name": "ButtonStyleModel",
      "state": {}
     },
     "de1b7c72180440439ae6d90532e93d7f": {
      "model_module": "@jupyter-widgets/controls",
      "model_module_version": "1.5.0",
      "model_name": "VBoxModel",
      "state": {
       "children": [
        "IPY_MODEL_6a3acba1aba74ebb82e8be09a490e1f7",
        "IPY_MODEL_08bff0e6e9924aff86f82f075eeb6c5e"
       ],
       "layout": "IPY_MODEL_c1be641ab5014447b4b29d5ca7311018"
      }
     },
     "dec5a433a01b433f9f4d5daeee9ce8d5": {
      "model_module": "@jupyter-widgets/controls",
      "model_module_version": "1.5.0",
      "model_name": "ButtonModel",
      "state": {
       "button_style": "success",
       "description": "Join Duet(with loopback)",
       "icon": "plug",
       "layout": "IPY_MODEL_d9222b49526c4701b12dc478e9e67d06",
       "style": "IPY_MODEL_63c612699a9c437f9426353cb36741d1",
       "tooltip": "Join Duet(with loopback)"
      }
     },
     "df59280b0fab4ce49acc60bf43ce6ba2": {
      "model_module": "@jupyter-widgets/controls",
      "model_module_version": "1.5.0",
      "model_name": "ButtonModel",
      "state": {
       "button_style": "warning",
       "description": "Support OpenMined",
       "icon": "money",
       "layout": "IPY_MODEL_30ce544334de446ca310c83c37da75a8",
       "style": "IPY_MODEL_4702afc334bb4c86938b463be653cd4b",
       "tooltip": "Support"
      }
     },
     "dff34b6223a04bd0a549384d33f0d27c": {
      "model_module": "@jupyter-widgets/base",
      "model_module_version": "1.2.0",
      "model_name": "LayoutModel",
      "state": {}
     },
     "e1c8c8b01d3a4acb9d69df769374ae6c": {
      "model_module": "@jupyter-widgets/base",
      "model_module_version": "1.2.0",
      "model_name": "LayoutModel",
      "state": {
       "height": "80px",
       "width": "33%"
      }
     },
     "e2db0754f4af4b089ad431a5dc2d0bf9": {
      "model_module": "@jupyter-widgets/base",
      "model_module_version": "1.2.0",
      "model_name": "LayoutModel",
      "state": {
       "height": "80px",
       "width": "33%"
      }
     },
     "e447c564524148efb8481551f1e36372": {
      "model_module": "@jupyter-widgets/controls",
      "model_module_version": "1.5.0",
      "model_name": "ButtonStyleModel",
      "state": {}
     },
     "e44bcf451be045f1abdbeb84cc4e5d93": {
      "model_module": "@jupyter-widgets/output",
      "model_module_version": "1.0.0",
      "model_name": "OutputModel",
      "state": {
       "layout": "IPY_MODEL_d782f9f264c44fc3991572b5645b6632",
       "outputs": [
        {
         "data": {
          "image/png": "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\n",
          "text/plain": "<IPython.core.display.Image object>"
         },
         "metadata": {
          "image/png": {
           "unconfined": true,
           "width": 400
          }
         },
         "output_type": "display_data"
        },
        {
         "name": "stdout",
         "output_type": "stream",
         "text": "🎤  🎸  ♪♪♪ Joining Duet ♫♫♫  🎻  🎹\n\n♫♫♫ >\u001b[93m DISCLAIMER\u001b[0m: \u001b[1mDuet is an experimental feature currently in beta.\n♫♫♫ > Use at your own risk.\n\u001b[0m\n\u001b[1m\n    > ❤️ \u001b[91mLove\u001b[0m \u001b[92mDuet\u001b[0m? \u001b[93mPlease\u001b[0m \u001b[94mconsider\u001b[0m \u001b[95msupporting\u001b[0m \u001b[91mour\u001b[0m \u001b[93mcommunity!\u001b[0m\n    > https://github.com/sponsors/OpenMined\u001b[1m\n\n♫♫♫ > Punching through firewall to OpenGrid Network Node at:\n♫♫♫ > http://ec2-18-216-8-163.us-east-2.compute.amazonaws.com:5000\n♫♫♫ >\n♫♫♫ > ...waiting for response from OpenGrid Network... \n"
        },
        {
         "name": "stderr",
         "output_type": "stream",
         "text": "[2021-03-29T00:13:21.821679+0530][CRITICAL][logger]][63923] Skipping torchvision.torchvision.transforms.functional.adjust_sharpness not supported in 0.8.2\n[2021-03-29T00:13:21.823208+0530][CRITICAL][logger]][63923] Skipping torchvision.torchvision.transforms.functional.autocontrast not supported in 0.8.2\n[2021-03-29T00:13:21.824216+0530][CRITICAL][logger]][63923] Skipping torchvision.torchvision.transforms.functional.equalize not supported in 0.8.2\n[2021-03-29T00:13:21.825101+0530][CRITICAL][logger]][63923] Skipping torchvision.torchvision.transforms.functional.invert not supported in 0.8.2\n[2021-03-29T00:13:21.825590+0530][CRITICAL][logger]][63923] Skipping torchvision.torchvision.transforms.functional.posterize not supported in 0.8.2\n[2021-03-29T00:13:21.826207+0530][CRITICAL][logger]][63923] Skipping torchvision.torchvision.transforms.functional.solarize not supported in 0.8.2\n"
        },
        {
         "name": "stdout",
         "output_type": "stream",
         "text": "♫♫♫ > \u001b[92mDONE!\u001b[0m\n"
        },
        {
         "name": "stderr",
         "output_type": "stream",
         "text": "[2021-03-29T00:13:24.298720+0530][CRITICAL][logger]][63923] Skipping torchvision.torchvision.transforms.functional.adjust_sharpness not supported in 0.8.2\n[2021-03-29T00:13:24.299127+0530][CRITICAL][logger]][63923] Skipping torchvision.torchvision.transforms.functional.autocontrast not supported in 0.8.2\n[2021-03-29T00:13:24.299502+0530][CRITICAL][logger]][63923] Skipping torchvision.torchvision.transforms.functional.equalize not supported in 0.8.2\n[2021-03-29T00:13:24.299912+0530][CRITICAL][logger]][63923] Skipping torchvision.torchvision.transforms.functional.invert not supported in 0.8.2\n"
        },
        {
         "name": "stdout",
         "output_type": "stream",
         "text": "\n♫♫♫ > \u001b[92mCONNECTED!\u001b[0m\n"
        }
       ]
      }
     },
     "e459e6f0bca64853b9d0eb8ce60694bb": {
      "model_module": "@jupyter-widgets/output",
      "model_module_version": "1.0.0",
      "model_name": "OutputModel",
      "state": {
       "layout": "IPY_MODEL_0f0716624255477f8c23957d2e72a4e8",
       "outputs": [
        {
         "data": {
          "image/png": "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\n",
          "text/plain": "<IPython.core.display.Image object>"
         },
         "metadata": {
          "image/png": {
           "unconfined": true,
           "width": 400
          }
         },
         "output_type": "display_data"
        },
        {
         "name": "stdout",
         "output_type": "stream",
         "text": "🎤  🎸  ♪♪♪ Joining Duet ♫♫♫  🎻  🎹\n\n♫♫♫ >\u001b[93m DISCLAIMER\u001b[0m: \u001b[1mDuet is an experimental feature currently in beta.\n♫♫♫ > Use at your own risk.\n\u001b[0m\n\u001b[1m\n    > ❤️ \u001b[91mLove\u001b[0m \u001b[92mDuet\u001b[0m? \u001b[93mPlease\u001b[0m \u001b[94mconsider\u001b[0m \u001b[95msupporting\u001b[0m \u001b[91mour\u001b[0m \u001b[93mcommunity!\u001b[0m\n    > https://github.com/sponsors/OpenMined\u001b[1m\n\n♫♫♫ > Punching through firewall to OpenGrid Network Node at:\n♫♫♫ > http://ec2-18-216-8-163.us-east-2.compute.amazonaws.com:5000\n♫♫♫ >\n♫♫♫ > ...waiting for response from OpenGrid Network... \n"
        },
        {
         "name": "stderr",
         "output_type": "stream",
         "text": "[2021-03-27T22:05:17.308853+0530][CRITICAL][logger]][55994] Skipping torchvision.torchvision.transforms.functional.adjust_sharpness not supported in 0.8.2\n[2021-03-27T22:05:17.309494+0530][CRITICAL][logger]][55994] Skipping torchvision.torchvision.transforms.functional.autocontrast not supported in 0.8.2\n[2021-03-27T22:05:17.310360+0530][CRITICAL][logger]][55994] Skipping torchvision.torchvision.transforms.functional.equalize not supported in 0.8.2\n[2021-03-27T22:05:17.310845+0530][CRITICAL][logger]][55994] Skipping torchvision.torchvision.transforms.functional.invert not supported in 0.8.2\n[2021-03-27T22:05:17.311238+0530][CRITICAL][logger]][55994] Skipping torchvision.torchvision.transforms.functional.posterize not supported in 0.8.2\n[2021-03-27T22:05:17.311853+0530][CRITICAL][logger]][55994] Skipping torchvision.torchvision.transforms.functional.solarize not supported in 0.8.2\n"
        },
        {
         "name": "stdout",
         "output_type": "stream",
         "text": "♫♫♫ > \u001b[92mDONE!\u001b[0m\n"
        },
        {
         "name": "stderr",
         "output_type": "stream",
         "text": "[2021-03-27T22:05:20.611892+0530][CRITICAL][logger]][55994] Skipping torchvision.torchvision.transforms.functional.adjust_sharpness not supported in 0.8.2\n[2021-03-27T22:05:20.612316+0530][CRITICAL][logger]][55994] Skipping torchvision.torchvision.transforms.functional.autocontrast not supported in 0.8.2\n[2021-03-27T22:05:20.612737+0530][CRITICAL][logger]][55994] Skipping torchvision.torchvision.transforms.functional.equalize not supported in 0.8.2\n"
        },
        {
         "name": "stdout",
         "output_type": "stream",
         "text": "\n♫♫♫ > \u001b[92mCONNECTED!\u001b[0m\n"
        },
        {
         "name": "stderr",
         "output_type": "stream",
         "text": "[2021-03-27T22:05:20.613238+0530][CRITICAL][logger]][55994] Skipping torchvision.torchvision.transforms.functional.invert not supported in 0.8.2\n[2021-03-27T22:05:20.613822+0530][CRITICAL][logger]][55994] Skipping torchvision.torchvision.transforms.functional.posterize not supported in 0.8.2\n"
        },
        {
         "name": "stdout",
         "output_type": "stream",
         "text": "Duet Store []\nDuet Store []\n"
        }
       ]
      }
     },
     "e634c04f8ab0489495dd8b9a2b22881e": {
      "model_module": "@jupyter-widgets/controls",
      "model_module_version": "1.5.0",
      "model_name": "ButtonStyleModel",
      "state": {}
     },
     "e647ac8f4c8c4d0ab8042c2cc7cbb16f": {
      "model_module": "@jupyter-widgets/controls",
      "model_module_version": "1.5.0",
      "model_name": "ButtonModel",
      "state": {
       "button_style": "info",
       "description": "View Peers",
       "icon": "eye",
       "layout": "IPY_MODEL_865f7c4eabed456b8e0a9d424285caab",
       "style": "IPY_MODEL_3e568d5a44e74d049140ceb6ad977842",
       "tooltip": "View Peers"
      }
     },
     "e6c292138cde4257a1b3b5afbbdc2702": {
      "model_module": "@jupyter-widgets/output",
      "model_module_version": "1.0.0",
      "model_name": "OutputModel",
      "state": {
       "layout": "IPY_MODEL_a010ab84b51d4dd0bb83fe0cb6dd09e8"
      }
     },
     "e6da637296904827824a12189e3f2876": {
      "model_module": "@jupyter-widgets/controls",
      "model_module_version": "1.5.0",
      "model_name": "ButtonStyleModel",
      "state": {}
     },
     "e708f35bf33849d98ee3387862f44faa": {
      "model_module": "@jupyter-widgets/controls",
      "model_module_version": "1.5.0",
      "model_name": "ButtonStyleModel",
      "state": {}
     },
     "e77df9237e694dd1bd1902dddd133f60": {
      "model_module": "@jupyter-widgets/controls",
      "model_module_version": "1.5.0",
      "model_name": "ButtonModel",
      "state": {
       "button_style": "success",
       "description": "Join Duet(with loopback)",
       "icon": "plug",
       "layout": "IPY_MODEL_4f2eaeba269243b0abc1a3ea78c8f13b",
       "style": "IPY_MODEL_6259ca82b85d424e9cbb823f0eb33451",
       "tooltip": "Join Duet(with loopback)"
      }
     },
     "e7cc3aaee04f4f7da42f28798af6a50c": {
      "model_module": "@jupyter-widgets/base",
      "model_module_version": "1.2.0",
      "model_name": "LayoutModel",
      "state": {
       "height": "80px",
       "width": "33%"
      }
     },
     "e84d34b82ab24190aa83bd2d1101d2d8": {
      "model_module": "@jupyter-widgets/base",
      "model_module_version": "1.2.0",
      "model_name": "LayoutModel",
      "state": {
       "align_items": "stretch",
       "border": "1px solid black",
       "display": "flex",
       "flex_flow": "column"
      }
     },
     "ea6998eb3fd0452fa048374eae2f907f": {
      "model_module": "@jupyter-widgets/controls",
      "model_module_version": "1.5.0",
      "model_name": "ButtonModel",
      "state": {
       "button_style": "info",
       "description": "View Peers",
       "icon": "eye",
       "layout": "IPY_MODEL_05a2f8a8c0014e599e00f4d2f8a78d39",
       "style": "IPY_MODEL_85d7401d33ab4a88812602186eb4eac5",
       "tooltip": "View Peers"
      }
     },
     "eac7a09423314e869f0c2773f554e051": {
      "model_module": "@jupyter-widgets/base",
      "model_module_version": "1.2.0",
      "model_name": "LayoutModel",
      "state": {
       "height": "80px",
       "width": "33%"
      }
     },
     "edf342d6c4a9416e910072b5bea4cf12": {
      "model_module": "@jupyter-widgets/controls",
      "model_module_version": "1.5.0",
      "model_name": "ButtonStyleModel",
      "state": {}
     },
     "ee8b7339f038494581e0de4ed69eb2c6": {
      "model_module": "@jupyter-widgets/controls",
      "model_module_version": "1.5.0",
      "model_name": "VBoxModel",
      "state": {
       "children": [
        "IPY_MODEL_498b8cec11b542e283e41729f66250f4",
        "IPY_MODEL_f12e7d3d67f14a34898fe6d7f2e0236f"
       ],
       "layout": "IPY_MODEL_3154837c4a534ad58277b06ad508d4cc"
      }
     },
     "ee9d53b3fddf4c4b8233589c1e07704c": {
      "model_module": "@jupyter-widgets/base",
      "model_module_version": "1.2.0",
      "model_name": "LayoutModel",
      "state": {
       "border": "1px solid black"
      }
     },
     "f010e3d73dd34d1aad1005f793a91992": {
      "model_module": "@jupyter-widgets/controls",
      "model_module_version": "1.5.0",
      "model_name": "ButtonStyleModel",
      "state": {}
     },
     "f017ffa4710d426596ae480e2757aab1": {
      "model_module": "@jupyter-widgets/base",
      "model_module_version": "1.2.0",
      "model_name": "LayoutModel",
      "state": {
       "height": "80px",
       "width": "33%"
      }
     },
     "f0d33a8dea9c4629b051d6bff0ffe42e": {
      "model_module": "@jupyter-widgets/controls",
      "model_module_version": "1.5.0",
      "model_name": "ButtonModel",
      "state": {
       "button_style": "info",
       "description": "View Duet Store",
       "icon": "archive",
       "layout": "IPY_MODEL_3ca13f1e38524844a281b65cfd7e036e",
       "style": "IPY_MODEL_9fda5e56715e4e68ab4c3c5b1d464b72",
       "tooltip": "View Duet Store"
      }
     },
     "f12e7d3d67f14a34898fe6d7f2e0236f": {
      "model_module": "@jupyter-widgets/controls",
      "model_module_version": "1.5.0",
      "model_name": "HBoxModel",
      "state": {
       "children": [
        "IPY_MODEL_31eac299f7de4fb5b4a3df4989ab4ae1",
        "IPY_MODEL_3a356a9fe8f245e48144d220eee190b8",
        "IPY_MODEL_228f1b6156e54f15bdc0a8f9f9498975"
       ],
       "layout": "IPY_MODEL_9490a68efb3a4e9aa7ed62020d8a737b"
      }
     },
     "f2b2c2491feb4150aa2367f55c6f7f35": {
      "model_module": "@jupyter-widgets/base",
      "model_module_version": "1.2.0",
      "model_name": "LayoutModel",
      "state": {}
     },
     "f2d295d750ee40f99d417a22ae19f417": {
      "model_module": "@jupyter-widgets/base",
      "model_module_version": "1.2.0",
      "model_name": "LayoutModel",
      "state": {
       "border": "1px solid black"
      }
     },
     "f2eb676ed64b48429bdb19c4f8c13c18": {
      "model_module": "@jupyter-widgets/controls",
      "model_module_version": "1.5.0",
      "model_name": "ButtonModel",
      "state": {
       "button_style": "success",
       "description": "Join Duet",
       "icon": "plug",
       "layout": "IPY_MODEL_eac7a09423314e869f0c2773f554e051",
       "style": "IPY_MODEL_a06ad6961416457dbf7bdf7e551df74c",
       "tooltip": "Join Duet"
      }
     },
     "f6658cd97a244e2ba240bb3f8c0db23c": {
      "model_module": "@jupyter-widgets/controls",
      "model_module_version": "1.5.0",
      "model_name": "ButtonStyleModel",
      "state": {}
     },
     "f7248d466e7f420b901b20e4ab0c3d98": {
      "model_module": "@jupyter-widgets/controls",
      "model_module_version": "1.5.0",
      "model_name": "ButtonModel",
      "state": {
       "button_style": "success",
       "description": "Join Duet",
       "icon": "plug",
       "layout": "IPY_MODEL_d3ff2329608a4f49a7e30927f3dc4215",
       "style": "IPY_MODEL_2d0f4380ae5246538f149d89d7173321",
       "tooltip": "Join Duet"
      }
     },
     "f845e102ca9740aa9e62fb1f9f973243": {
      "model_module": "@jupyter-widgets/output",
      "model_module_version": "1.0.0",
      "model_name": "OutputModel",
      "state": {
       "layout": "IPY_MODEL_ee9d53b3fddf4c4b8233589c1e07704c",
       "outputs": [
        {
         "data": {
          "image/png": "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\n",
          "text/plain": "<IPython.core.display.Image object>"
         },
         "metadata": {
          "image/png": {
           "unconfined": true,
           "width": 400
          }
         },
         "output_type": "display_data"
        },
        {
         "name": "stdout",
         "output_type": "stream",
         "text": "🎤  🎸  ♪♪♪ Joining Duet ♫♫♫  🎻  🎹\n\n♫♫♫ >\u001b[93m DISCLAIMER\u001b[0m: \u001b[1mDuet is an experimental feature currently in beta.\n♫♫♫ > Use at your own risk.\n\u001b[0m\n\u001b[1m\n    > ❤️ \u001b[91mLove\u001b[0m \u001b[92mDuet\u001b[0m? \u001b[93mPlease\u001b[0m \u001b[94mconsider\u001b[0m \u001b[95msupporting\u001b[0m \u001b[91mour\u001b[0m \u001b[93mcommunity!\u001b[0m\n    > https://github.com/sponsors/OpenMined\u001b[1m\n\n♫♫♫ > Punching through firewall to OpenGrid Network Node at:\n♫♫♫ > http://ec2-18-216-8-163.us-east-2.compute.amazonaws.com:5000\n♫♫♫ >\n♫♫♫ > ...waiting for response from OpenGrid Network... \n"
        },
        {
         "name": "stderr",
         "output_type": "stream",
         "text": "[2021-03-28T23:05:52.806733+0530][CRITICAL][logger]][63695] Skipping torchvision.torchvision.transforms.functional.adjust_sharpness not supported in 0.8.2\n[2021-03-28T23:05:52.808428+0530][CRITICAL][logger]][63695] Skipping torchvision.torchvision.transforms.functional.autocontrast not supported in 0.8.2\n[2021-03-28T23:05:52.809427+0530][CRITICAL][logger]][63695] Skipping torchvision.torchvision.transforms.functional.equalize not supported in 0.8.2\n[2021-03-28T23:05:52.810579+0530][CRITICAL][logger]][63695] Skipping torchvision.torchvision.transforms.functional.invert not supported in 0.8.2\n[2021-03-28T23:05:52.811237+0530][CRITICAL][logger]][63695] Skipping torchvision.torchvision.transforms.functional.posterize not supported in 0.8.2\n[2021-03-28T23:05:52.811903+0530][CRITICAL][logger]][63695] Skipping torchvision.torchvision.transforms.functional.solarize not supported in 0.8.2\n"
        },
        {
         "name": "stdout",
         "output_type": "stream",
         "text": "♫♫♫ > \u001b[92mDONE!\u001b[0m\n"
        },
        {
         "name": "stderr",
         "output_type": "stream",
         "text": "[2021-03-28T23:05:56.354801+0530][CRITICAL][logger]][63695] Skipping torchvision.torchvision.transforms.functional.adjust_sharpness not supported in 0.8.2\n[2021-03-28T23:05:56.355481+0530][CRITICAL][logger]][63695] Skipping torchvision.torchvision.transforms.functional.autocontrast not supported in 0.8.2\n"
        },
        {
         "name": "stdout",
         "output_type": "stream",
         "text": "\n♫♫♫ > \u001b[92mCONNECTED!\u001b[0m\n"
        },
        {
         "name": "stderr",
         "output_type": "stream",
         "text": "[2021-03-28T23:05:56.355996+0530][CRITICAL][logger]][63695] Skipping torchvision.torchvision.transforms.functional.equalize not supported in 0.8.2\n[2021-03-28T23:05:56.356433+0530][CRITICAL][logger]][63695] Skipping torchvision.torchvision.transforms.functional.invert not supported in 0.8.2\n"
        }
       ]
      }
     },
     "f885818885d642e9a94da78ea8a3c42e": {
      "model_module": "@jupyter-widgets/base",
      "model_module_version": "1.2.0",
      "model_name": "LayoutModel",
      "state": {}
     },
     "f8f1be20128d4f2ba42556f9fc9d1270": {
      "model_module": "@jupyter-widgets/controls",
      "model_module_version": "1.5.0",
      "model_name": "VBoxModel",
      "state": {
       "children": [
        "IPY_MODEL_08be65dd130d4e5d823a119ed418bdcc",
        "IPY_MODEL_c6fc3f85ff424ad0801b63f267e43a7d"
       ],
       "layout": "IPY_MODEL_f2b2c2491feb4150aa2367f55c6f7f35"
      }
     },
     "fa278e3bd2bd4dd78e5a57c16422069c": {
      "model_module": "@jupyter-widgets/controls",
      "model_module_version": "1.5.0",
      "model_name": "ButtonModel",
      "state": {
       "button_style": "success",
       "description": "Join Duet(with loopback)",
       "icon": "plug",
       "layout": "IPY_MODEL_2c91ab9514dd4041a44e7821978cd7f6",
       "style": "IPY_MODEL_fd7ed86be9d2419ba6612be1b3bbd1e4",
       "tooltip": "Join Duet(with loopback)"
      }
     },
     "fb0fa0b1db8f4d68876ab94462df2608": {
      "model_module": "@jupyter-widgets/controls",
      "model_module_version": "1.5.0",
      "model_name": "ButtonStyleModel",
      "state": {}
     },
     "fb141c2e19db4b1492f0c1b8ddced81b": {
      "model_module": "@jupyter-widgets/controls",
      "model_module_version": "1.5.0",
      "model_name": "ButtonStyleModel",
      "state": {}
     },
     "fb71063bbd934166ac32e1f92b06812f": {
      "model_module": "@jupyter-widgets/base",
      "model_module_version": "1.2.0",
      "model_name": "LayoutModel",
      "state": {
       "border": "1px solid black"
      }
     },
     "fd28adabc33e49deb13653a05d2fd0bc": {
      "model_module": "@jupyter-widgets/base",
      "model_module_version": "1.2.0",
      "model_name": "LayoutModel",
      "state": {
       "height": "80px",
       "width": "33%"
      }
     },
     "fd7ed86be9d2419ba6612be1b3bbd1e4": {
      "model_module": "@jupyter-widgets/controls",
      "model_module_version": "1.5.0",
      "model_name": "ButtonStyleModel",
      "state": {}
     },
     "fdbf69e268cc4be782f47a20e4f518b6": {
      "model_module": "@jupyter-widgets/controls",
      "model_module_version": "1.5.0",
      "model_name": "ButtonStyleModel",
      "state": {}
     },
     "feb6b9594995415f94404ae7dfcd68e5": {
      "model_module": "@jupyter-widgets/controls",
      "model_module_version": "1.5.0",
      "model_name": "ButtonStyleModel",
      "state": {}
     },
     "ff49d313aa17481e99d6a52d1e80df69": {
      "model_module": "@jupyter-widgets/base",
      "model_module_version": "1.2.0",
      "model_name": "LayoutModel",
      "state": {
       "height": "80px",
       "width": "33%"
      }
     },
     "ff66b6f7e3c748eda2e566911d6c8235": {
      "model_module": "@jupyter-widgets/output",
      "model_module_version": "1.0.0",
      "model_name": "OutputModel",
      "state": {
       "layout": "IPY_MODEL_0229268639fc45eb9bbb57fd1fd71bf4",
       "outputs": [
        {
         "data": {
          "image/png": "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\n",
          "text/plain": "<IPython.core.display.Image object>"
         },
         "metadata": {
          "image/png": {
           "unconfined": true,
           "width": 400
          }
         },
         "output_type": "display_data"
        },
        {
         "name": "stderr",
         "output_type": "stream",
         "text": "[2021-04-02T16:02:34.816610+0530][CRITICAL][logger]][28890] Skipping torchvision.torchvision.transforms.functional.adjust_sharpness not supported in 0.8.2\n[2021-04-02T16:02:34.817171+0530][CRITICAL][logger]][28890] Skipping torchvision.torchvision.transforms.functional.autocontrast not supported in 0.8.2\n[2021-04-02T16:02:34.817618+0530][CRITICAL][logger]][28890] Skipping torchvision.torchvision.transforms.functional.equalize not supported in 0.8.2\n[2021-04-02T16:02:34.818225+0530][CRITICAL][logger]][28890] Skipping torchvision.torchvision.transforms.functional.invert not supported in 0.8.2\n[2021-04-02T16:02:34.819089+0530][CRITICAL][logger]][28890] Skipping torchvision.torchvision.transforms.functional.posterize not supported in 0.8.2\n[2021-04-02T16:02:34.820023+0530][CRITICAL][logger]][28890] Skipping torchvision.torchvision.transforms.functional.solarize not supported in 0.8.2\n[2021-04-02T16:02:38.130254+0530][CRITICAL][logger]][28890] Skipping torchvision.torchvision.transforms.functional.adjust_sharpness not supported in 0.8.2\n[2021-04-02T16:02:38.130782+0530][CRITICAL][logger]][28890] Skipping torchvision.torchvision.transforms.functional.autocontrast not supported in 0.8.2\n[2021-04-02T16:02:38.131497+0530][CRITICAL][logger]][28890] Skipping torchvision.torchvision.transforms.functional.equalize not supported in 0.8.2\n[2021-04-02T16:02:38.132201+0530][CRITICAL][logger]][28890] Skipping torchvision.torchvision.transforms.functional.invert not supported in 0.8.2\n[2021-04-02T16:02:38.133951+0530][CRITICAL][logger]][28890] Skipping torchvision.torchvision.transforms.functional.solarize not supported in 0.8.2\n"
        }
       ]
      }
     },
     "ff72c6cccf0c4a62b2de66044f74ea45": {
      "model_module": "@jupyter-widgets/controls",
      "model_module_version": "1.5.0",
      "model_name": "ButtonModel",
      "state": {
       "button_style": "success",
       "description": "Join Duet(with loopback)",
       "icon": "plug",
       "layout": "IPY_MODEL_0a594cb0a70442f8b925a05b81a32809",
       "style": "IPY_MODEL_757b43deccf8480d8cc64eec7ce1547b",
       "tooltip": "Join Duet(with loopback)"
      }
     }
    },
    "version_major": 2,
    "version_minor": 0
   }
  }
 },
 "nbformat": 4,
 "nbformat_minor": 2
}

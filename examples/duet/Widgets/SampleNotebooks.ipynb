{
 "cells": [
  {
   "cell_type": "code",
   "execution_count": 1,
   "id": "cardiovascular-proceeding",
   "metadata": {},
   "outputs": [],
   "source": [
    "from syft.widget_logger import LOG_WIDGET\n",
    "from syft.widget_logger import info\n",
    "from syft.widget_logger import add\n",
    "from syft.widget_logger import critical"
   ]
  },
  {
   "cell_type": "code",
   "execution_count": 2,
   "id": "consistent-services",
   "metadata": {},
   "outputs": [],
   "source": [
    "from loguru import logger\n",
    "log_list = []\n",
    "logger.add(lambda msg: log_list.append(msg))\n",
    "critical(\"Hello,\", print=True)"
   ]
  },
  {
   "cell_type": "code",
   "execution_count": 3,
   "id": "amazing-feature",
   "metadata": {},
   "outputs": [
    {
     "data": {
      "application/vnd.jupyter.widget-view+json": {
       "model_id": "5954d205660e408987f6a47ffcfbb3c2",
       "version_major": 2,
       "version_minor": 0
      },
      "text/plain": [
       "Output(layout=Layout(align_items='stretch', border='1px solid black', display='flex', flex_flow='column'), out…"
      ]
     },
     "metadata": {},
     "output_type": "display_data"
    }
   ],
   "source": [
    "LOG_WIDGET"
   ]
  },
  {
   "cell_type": "code",
   "execution_count": 4,
   "id": "prime-michigan",
   "metadata": {},
   "outputs": [
    {
     "data": {
      "text/plain": [
       "['2021-04-02 09:49:22.218 | CRITICAL | syft.widget_logger:log_and_print:88 - Hello,\\n']"
      ]
     },
     "execution_count": 4,
     "metadata": {},
     "output_type": "execute_result"
    }
   ],
   "source": [
    "log_list"
   ]
  },
  {
   "cell_type": "code",
   "execution_count": 4,
   "id": "norwegian-competition",
   "metadata": {},
   "outputs": [],
   "source": [
    "from syft.widget_logger import LOG_LIST"
   ]
  },
  {
   "cell_type": "code",
   "execution_count": 5,
   "id": "wanted-azerbaijan",
   "metadata": {},
   "outputs": [
    {
     "data": {
      "text/plain": [
       "[]"
      ]
     },
     "execution_count": 5,
     "metadata": {},
     "output_type": "execute_result"
    }
   ],
   "source": [
    "LOG_LIST"
   ]
  },
  {
   "cell_type": "code",
   "execution_count": 37,
   "id": "conscious-growth",
   "metadata": {},
   "outputs": [],
   "source": [
    "LOG_WIDGET.clear_output()"
   ]
  },
  {
   "cell_type": "code",
   "execution_count": 38,
   "id": "ongoing-intro",
   "metadata": {},
   "outputs": [],
   "source": [
    "from loguru import logger"
   ]
  },
  {
   "cell_type": "code",
   "execution_count": 51,
   "id": "falling-cable",
   "metadata": {},
   "outputs": [
    {
     "name": "stderr",
     "output_type": "stream",
     "text": [
      "2021-04-01 20:11:11.722 | INFO     | __main__:<module>:4 - Hi You Suck\n"
     ]
    },
    {
     "name": "stdout",
     "output_type": "stream",
     "text": [
      "2021-04-01 20:11:11.722 | INFO     | __main__:<module>:4 - Hi You Suck\n",
      "\n"
     ]
    }
   ],
   "source": [
    "log_list = []\n",
    "logger.add(lambda msg: log_list.append(msg))\n",
    "logger.opt(lazy=True).info(\"Hi! This sucks\")\n",
    "logger.opt(lazy=True).critical(\"Hi! Thissd sucks\")"
   ]
  },
  {
   "cell_type": "code",
   "execution_count": 28,
   "id": "later-suicide",
   "metadata": {},
   "outputs": [],
   "source": [
    "logger.info(\"Hi! This sucks\")"
   ]
  },
  {
   "cell_type": "code",
   "execution_count": 52,
   "id": "copyrighted-neutral",
   "metadata": {},
   "outputs": [
    {
     "data": {
      "text/plain": [
       "['2021-04-01 20:11:11.722 | INFO     | __main__:<module>:4 - Hi You Suck\\n']"
      ]
     },
     "execution_count": 52,
     "metadata": {},
     "output_type": "execute_result"
    }
   ],
   "source": [
    "log_list"
   ]
  },
  {
   "cell_type": "code",
   "execution_count": 49,
   "id": "cross-treasurer",
   "metadata": {},
   "outputs": [
    {
     "data": {
      "text/plain": [
       "['__class__',\n",
       " '__delattr__',\n",
       " '__dict__',\n",
       " '__dir__',\n",
       " '__doc__',\n",
       " '__eq__',\n",
       " '__format__',\n",
       " '__ge__',\n",
       " '__getattribute__',\n",
       " '__gt__',\n",
       " '__hash__',\n",
       " '__init__',\n",
       " '__init_subclass__',\n",
       " '__le__',\n",
       " '__lt__',\n",
       " '__module__',\n",
       " '__ne__',\n",
       " '__new__',\n",
       " '__reduce__',\n",
       " '__reduce_ex__',\n",
       " '__repr__',\n",
       " '__setattr__',\n",
       " '__sizeof__',\n",
       " '__str__',\n",
       " '__subclasshook__',\n",
       " '__weakref__',\n",
       " '_change_activation',\n",
       " '_core',\n",
       " '_dynamic_level',\n",
       " '_find_iter',\n",
       " '_log',\n",
       " '_options',\n",
       " 'add',\n",
       " 'bind',\n",
       " 'catch',\n",
       " 'complete',\n",
       " 'configure',\n",
       " 'contextualize',\n",
       " 'critical',\n",
       " 'debug',\n",
       " 'disable',\n",
       " 'enable',\n",
       " 'error',\n",
       " 'exception',\n",
       " 'info',\n",
       " 'level',\n",
       " 'log',\n",
       " 'opt',\n",
       " 'parse',\n",
       " 'patch',\n",
       " 'remove',\n",
       " 'start',\n",
       " 'stop',\n",
       " 'success',\n",
       " 'trace',\n",
       " 'warning']"
      ]
     },
     "execution_count": 49,
     "metadata": {},
     "output_type": "execute_result"
    }
   ],
   "source": [
    "dir(logger)"
   ]
  },
  {
   "cell_type": "code",
   "execution_count": null,
   "id": "atomic-maintenance",
   "metadata": {},
   "outputs": [],
   "source": []
  }
 ],
 "metadata": {
  "kernelspec": {
   "display_name": "PySyft",
   "language": "python",
   "name": "pysyft"
  },
  "language_info": {
   "codemirror_mode": {
    "name": "ipython",
    "version": 3
   },
   "file_extension": ".py",
   "mimetype": "text/x-python",
   "name": "python",
   "nbconvert_exporter": "python",
   "pygments_lexer": "ipython3",
   "version": "3.6.9"
  }
 },
 "nbformat": 4,
 "nbformat_minor": 5
}

{
 "cells": [
  {
   "cell_type": "code",
   "execution_count": 1,
   "id": "adverse-christianity",
   "metadata": {},
   "outputs": [],
   "source": [
    "class MNIST():\n",
    "    def __init__(self):\n",
    "        self.lr = 0.5\n",
    "        self.epochs = 10\n",
    "        self.batch_size = 32\n",
    "\n",
    "trainer = MNIST()"
   ]
  },
  {
   "cell_type": "code",
   "execution_count": 2,
   "id": "following-rental",
   "metadata": {},
   "outputs": [
    {
     "name": "stdout",
     "output_type": "stream",
     "text": [
      "[FloatSlider(value=0.0, description='lr', max=2.0, orientation='vertical'), IntSlider(value=1, description='epochs', max=500, min=1, orientation='vertical'), IntSlider(value=1, description='batch_size', max=200, min=1, orientation='vertical')]\n"
     ]
    }
   ],
   "source": [
    "from syft.grid.duet.trainerAPI import DuetTrainer\n",
    "widgetboi = DuetTrainer(trainer ,True)"
   ]
  },
  {
   "cell_type": "code",
   "execution_count": null,
   "id": "former-being",
   "metadata": {},
   "outputs": [],
   "source": []
  },
  {
   "cell_type": "code",
   "execution_count": null,
   "id": "immediate-wallace",
   "metadata": {},
   "outputs": [],
   "source": []
  },
  {
   "cell_type": "code",
   "execution_count": null,
   "id": "hawaiian-publication",
   "metadata": {},
   "outputs": [],
   "source": []
  },
  {
   "cell_type": "code",
   "execution_count": 3,
   "id": "defensive-healthcare",
   "metadata": {},
   "outputs": [
    {
     "data": {
      "application/vnd.jupyter.widget-view+json": {
       "model_id": "7ccb519f6557421bac397b196c089afc",
       "version_major": 2,
       "version_minor": 0
      },
      "text/plain": [
       "Output(layout=Layout(border='1px solid black'), outputs=({'output_type': 'display_data', 'data': {'text/plain'…"
      ]
     },
     "metadata": {},
     "output_type": "display_data"
    }
   ],
   "source": [
    "widgetboi.trainingWidgetLoggerDisplay"
   ]
  },
  {
   "cell_type": "code",
   "execution_count": null,
   "id": "adaptive-present",
   "metadata": {},
   "outputs": [],
   "source": []
  }
 ],
 "metadata": {
  "kernelspec": {
   "display_name": "PySyft",
   "language": "python",
   "name": "pysyft"
  },
  "language_info": {
   "codemirror_mode": {
    "name": "ipython",
    "version": 3
   },
   "file_extension": ".py",
   "mimetype": "text/x-python",
   "name": "python",
   "nbconvert_exporter": "python",
   "pygments_lexer": "ipython3",
   "version": "3.6.9"
  }
 },
 "nbformat": 4,
 "nbformat_minor": 5
}

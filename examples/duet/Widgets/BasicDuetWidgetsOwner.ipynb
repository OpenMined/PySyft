{
 "cells": [
  {
   "cell_type": "code",
   "execution_count": 1,
   "metadata": {},
   "outputs": [],
   "source": [
    "import ipywidgets as widgets\n",
    "from WidgetOwnersButtons import *\n",
    "from LoggingOwnersButtons import *\n",
    "from syft.widget_logger import LOG_WIDGET\n",
    "from loguru import logger\n",
    "\n",
    "SET_LOGGING_SINK()"
   ]
  },
  {
   "cell_type": "markdown",
   "metadata": {},
   "source": [
    "## 1. DUET OWNER DASHBOARD"
   ]
  },
  {
   "cell_type": "code",
   "execution_count": 2,
   "metadata": {},
   "outputs": [
    {
     "data": {
      "application/vnd.jupyter.widget-view+json": {
       "model_id": "27d1d5cda93d4bb5b4c905b7f675dc97",
       "version_major": 2,
       "version_minor": 0
      },
      "text/plain": [
       "HBox(children=(Button(button_style='success', description='Launch Duet', icon='plug', layout=Layout(height='80…"
      ]
     },
     "metadata": {},
     "output_type": "display_data"
    }
   ],
   "source": [
    "display(dashboard)"
   ]
  },
  {
   "cell_type": "code",
   "execution_count": 3,
   "metadata": {},
   "outputs": [
    {
     "data": {
      "application/vnd.jupyter.widget-view+json": {
       "model_id": "d0be1864d1c04c2aad12428290a48236",
       "version_major": 2,
       "version_minor": 0
      },
      "text/plain": [
       "Output(layout=Layout(align_items='stretch', border='1px solid black', display='flex', flex_flow='column'))"
      ]
     },
     "metadata": {},
     "output_type": "display_data"
    }
   ],
   "source": [
    "dashboardDuetLogger"
   ]
  },
  {
   "cell_type": "markdown",
   "metadata": {},
   "source": [
    "## 2. LOGGING WIDGET + FSE MODULE (FILTER, SEARCH, EXTRACT)"
   ]
  },
  {
   "cell_type": "code",
   "execution_count": 4,
   "metadata": {},
   "outputs": [
    {
     "data": {
      "application/vnd.jupyter.widget-view+json": {
       "model_id": "4a5646f756d7472e971ac9f60c3cb151",
       "version_major": 2,
       "version_minor": 0
      },
      "text/plain": [
       "Output(layout=Layout(align_items='stretch', border='1px solid black', display='flex', flex_flow='column'))"
      ]
     },
     "metadata": {},
     "output_type": "display_data"
    }
   ],
   "source": [
    "LOG_WIDGET"
   ]
  },
  {
   "cell_type": "code",
   "execution_count": 5,
   "metadata": {},
   "outputs": [
    {
     "data": {
      "application/vnd.jupyter.widget-view+json": {
       "model_id": "6ac30ce022504a8bae6546c83a33b59f",
       "version_major": 2,
       "version_minor": 0
      },
      "text/plain": [
       "VBox(children=(HBox(children=(Button(button_style='info', description='Filter Logs', icon='filter', layout=Lay…"
      ]
     },
     "metadata": {},
     "output_type": "display_data"
    }
   ],
   "source": [
    "FSEWidget"
   ]
  },
  {
   "cell_type": "code",
   "execution_count": 6,
   "metadata": {},
   "outputs": [
    {
     "data": {
      "application/vnd.jupyter.widget-view+json": {
       "model_id": "cbcfa7c16cf14d86abe7daad56395f8f",
       "version_major": 2,
       "version_minor": 0
      },
      "text/plain": [
       "Output(layout=Layout(align_items='stretch', border='1px solid black', display='flex', flex_flow='column'))"
      ]
     },
     "metadata": {},
     "output_type": "display_data"
    }
   ],
   "source": [
    "SEARCH_FILTER_LOG_WIDGET"
   ]
  },
  {
   "cell_type": "markdown",
   "metadata": {},
   "source": [
    "## 3.  VIEW REQUESTS AND APPROVE THEM"
   ]
  },
  {
   "cell_type": "code",
   "execution_count": 7,
   "metadata": {},
   "outputs": [
    {
     "data": {
      "application/vnd.jupyter.widget-view+json": {
       "model_id": "2e903939391548d5ab225b097cc7b638",
       "version_major": 2,
       "version_minor": 0
      },
      "text/plain": [
       "VBox(children=(HBox(children=(Button(button_style='info', description='View Requests', icon='eye', layout=Layo…"
      ]
     },
     "metadata": {},
     "output_type": "display_data"
    }
   ],
   "source": [
    "requestWidgetLogger"
   ]
  },
  {
   "cell_type": "markdown",
   "metadata": {},
   "source": [
    "## 4. LIBRARY/DATASETS LOADING DOCK"
   ]
  },
  {
   "cell_type": "code",
   "execution_count": 8,
   "metadata": {},
   "outputs": [
    {
     "data": {
      "application/vnd.jupyter.widget-view+json": {
       "model_id": "5b3f0ded395e4dd1ad7885d8c0529471",
       "version_major": 2,
       "version_minor": 0
      },
      "text/plain": [
       "VBox(children=(HBox(children=(Dropdown(description=' Dataset:', layout=Layout(height='50px', width='40%'), opt…"
      ]
     },
     "metadata": {},
     "output_type": "display_data"
    }
   ],
   "source": [
    "from DatasetLoadingDock import loadWidget\n",
    "loadWidget"
   ]
  },
  {
   "cell_type": "code",
   "execution_count": 9,
   "metadata": {},
   "outputs": [
    {
     "data": {
      "text/plain": [
       "torchvision.datasets.mnist.MNIST"
      ]
     },
     "execution_count": 9,
     "metadata": {},
     "output_type": "execute_result"
    }
   ],
   "source": [
    "import torchvision\n",
    "torchvision.datasets.MNIST"
   ]
  },
  {
   "cell_type": "markdown",
   "metadata": {},
   "source": [
    "## 4. CUSTOM CODE AREA"
   ]
  },
  {
   "cell_type": "code",
   "execution_count": 10,
   "metadata": {},
   "outputs": [
    {
     "ename": "NameError",
     "evalue": "name 'ass' is not defined",
     "output_type": "error",
     "traceback": [
      "\u001b[0;31m---------------------------------------------------------------------------\u001b[0m",
      "\u001b[0;31mNameError\u001b[0m                                 Traceback (most recent call last)",
      "\u001b[0;32m<ipython-input-10-9f4d56bc0ffa>\u001b[0m in \u001b[0;36m<module>\u001b[0;34m\u001b[0m\n\u001b[0;32m----> 1\u001b[0;31m \u001b[0mass\u001b[0m\u001b[0;34m\u001b[0m\u001b[0;34m\u001b[0m\u001b[0m\n\u001b[0m",
      "\u001b[0;31mNameError\u001b[0m: name 'ass' is not defined"
     ]
    }
   ],
   "source": [
    "ass"
   ]
  },
  {
   "cell_type": "code",
   "execution_count": null,
   "metadata": {},
   "outputs": [],
   "source": [
    "from WidgetOwnersButtons import DUET\n",
    "DUET"
   ]
  },
  {
   "cell_type": "code",
   "execution_count": null,
   "metadata": {},
   "outputs": [],
   "source": [
    "dir(DUET.requests[0])"
   ]
  },
  {
   "cell_type": "code",
   "execution_count": null,
   "metadata": {},
   "outputs": [],
   "source": [
    "DUET.requests[0].accept()"
   ]
  },
  {
   "cell_type": "code",
   "execution_count": null,
   "metadata": {},
   "outputs": [],
   "source": []
  }
 ],
 "metadata": {
  "kernelspec": {
   "display_name": "PySyft",
   "language": "python",
   "name": "pysyft"
  },
  "language_info": {
   "codemirror_mode": {
    "name": "ipython",
    "version": 3
   },
   "file_extension": ".py",
   "mimetype": "text/x-python",
   "name": "python",
   "nbconvert_exporter": "python",
   "pygments_lexer": "ipython3",
   "version": "3.6.9"
  },
  "widgets": {
   "application/vnd.jupyter.widget-state+json": {
    "state": {
     "00f19c94ee684a709ea8f5bdca0e95fe": {
      "model_module": "@jupyter-widgets/output",
      "model_module_version": "1.0.0",
      "model_name": "OutputModel",
      "state": {
       "layout": "IPY_MODEL_06299803460a4cc389863a80da699145"
      }
     },
     "012d0bfe682c43e9a8f50ac1772e3bb2": {
      "model_module": "@jupyter-widgets/controls",
      "model_module_version": "1.5.0",
      "model_name": "CheckboxModel",
      "state": {
       "description": "DEBUG",
       "disabled": false,
       "indent": false,
       "layout": "IPY_MODEL_73b663ae754c4096aaa51e3a3dfe466f",
       "style": "IPY_MODEL_8636922c65dc47c2a811d5e3941f0640",
       "value": true
      }
     },
     "017f0c82c9244014b731733d033ccc91": {
      "model_module": "@jupyter-widgets/controls",
      "model_module_version": "1.5.0",
      "model_name": "ButtonModel",
      "state": {
       "button_style": "info",
       "description": "Filter Logs",
       "icon": "filter",
       "layout": "IPY_MODEL_dc1440c61d3f4a31840adce7d6caa76e",
       "style": "IPY_MODEL_2cbd7abba8f949c19cedf8dd652bc18e",
       "tooltip": "Filter Logs"
      }
     },
     "018e0ef208a1474090e2efa4f959f191": {
      "model_module": "@jupyter-widgets/controls",
      "model_module_version": "1.5.0",
      "model_name": "ButtonStyleModel",
      "state": {}
     },
     "02acfab587574a20960761e7f81e23d6": {
      "model_module": "@jupyter-widgets/controls",
      "model_module_version": "1.5.0",
      "model_name": "DescriptionStyleModel",
      "state": {
       "description_width": ""
      }
     },
     "02fdbb4a89cd4148bfeecf637feb7ea5": {
      "model_module": "@jupyter-widgets/controls",
      "model_module_version": "1.5.0",
      "model_name": "ButtonModel",
      "state": {
       "button_style": "success",
       "description": "Launch Duet(with loopback)",
       "icon": "plug",
       "layout": "IPY_MODEL_88b47c7ae2bb4da7b2e1214a77ff978d",
       "style": "IPY_MODEL_538473ea55854587b3db8dad58db0598",
       "tooltip": "Launch Duet(with loopback)"
      }
     },
     "03a0413046a446478dbaf8add743e1e8": {
      "model_module": "@jupyter-widgets/controls",
      "model_module_version": "1.5.0",
      "model_name": "CheckboxModel",
      "state": {
       "description": "EXCEPTION",
       "disabled": false,
       "indent": false,
       "layout": "IPY_MODEL_6a1a4f139a834b9386f3dc9aa67aa30b",
       "style": "IPY_MODEL_f249779cc57f464b8f9a4b4b2a60750f",
       "value": false
      }
     },
     "03e92c49f2a64615a529ab21304119b0": {
      "model_module": "@jupyter-widgets/base",
      "model_module_version": "1.2.0",
      "model_name": "LayoutModel",
      "state": {}
     },
     "048c7050968c42a3a8839cffd67804c1": {
      "model_module": "@jupyter-widgets/controls",
      "model_module_version": "1.5.0",
      "model_name": "HBoxModel",
      "state": {
       "children": [
        "IPY_MODEL_1f1edfa3b6ee4c9b85e8e5ff352814d7",
        "IPY_MODEL_83a3a15227b24095b2e6ff484379f7b9",
        "IPY_MODEL_2a1f40a0c27a4485a8a4b47727c9fc6d",
        "IPY_MODEL_09d182a01ad540f7b552e4c27e32799b"
       ],
       "layout": "IPY_MODEL_86004d697a4548f8a6e02c3ac6de4af2"
      }
     },
     "0560b3c8232945dbae306b62df8c15ee": {
      "model_module": "@jupyter-widgets/base",
      "model_module_version": "1.2.0",
      "model_name": "LayoutModel",
      "state": {}
     },
     "06024808d8f74abd819786709374923d": {
      "model_module": "@jupyter-widgets/controls",
      "model_module_version": "1.5.0",
      "model_name": "ButtonStyleModel",
      "state": {}
     },
     "06299803460a4cc389863a80da699145": {
      "model_module": "@jupyter-widgets/base",
      "model_module_version": "1.2.0",
      "model_name": "LayoutModel",
      "state": {
       "align_items": "stretch",
       "border": "1px solid black",
       "display": "flex",
       "flex_flow": "column"
      }
     },
     "0695522c86174e16a7301ca235cb5591": {
      "model_module": "@jupyter-widgets/controls",
      "model_module_version": "1.5.0",
      "model_name": "ButtonStyleModel",
      "state": {}
     },
     "069f8df3a78a4d0b8d8e0dff007babf4": {
      "model_module": "@jupyter-widgets/base",
      "model_module_version": "1.2.0",
      "model_name": "LayoutModel",
      "state": {}
     },
     "08c7d82a444e4b70afaaadce8d567011": {
      "model_module": "@jupyter-widgets/controls",
      "model_module_version": "1.5.0",
      "model_name": "ButtonModel",
      "state": {
       "button_style": "success",
       "description": "Launch Duet(with loopback)",
       "icon": "plug",
       "layout": "IPY_MODEL_a6ee722959674225a6e0a5ae93382760",
       "style": "IPY_MODEL_4545fac11ed64dfcab12ab0eead25d78",
       "tooltip": "Launch Duet(with loopback)"
      }
     },
     "094ae10045b542789084adb3dbe630d1": {
      "model_module": "@jupyter-widgets/base",
      "model_module_version": "1.2.0",
      "model_name": "LayoutModel",
      "state": {}
     },
     "09d182a01ad540f7b552e4c27e32799b": {
      "model_module": "@jupyter-widgets/controls",
      "model_module_version": "1.5.0",
      "model_name": "CheckboxModel",
      "state": {
       "description": "NULL",
       "disabled": false,
       "indent": false,
       "layout": "IPY_MODEL_90626963f3384aab8aec433700d283a7",
       "style": "IPY_MODEL_5a64a1600ce647679332f0a4a091fe17",
       "value": false
      }
     },
     "09f57c00990c40ec8bcaaac060a266f9": {
      "model_module": "@jupyter-widgets/base",
      "model_module_version": "1.2.0",
      "model_name": "LayoutModel",
      "state": {
       "align_items": "stretch",
       "border": "1px solid black",
       "display": "flex",
       "flex_flow": "column"
      }
     },
     "0b081befb0e34c5aa97eb874141b2e22": {
      "model_module": "@jupyter-widgets/base",
      "model_module_version": "1.2.0",
      "model_name": "LayoutModel",
      "state": {}
     },
     "0b356ad6dfe74940b21c6ee72287889a": {
      "model_module": "@jupyter-widgets/controls",
      "model_module_version": "1.5.0",
      "model_name": "ButtonModel",
      "state": {
       "button_style": "info",
       "description": "View Peers",
       "icon": "eye",
       "layout": "IPY_MODEL_53b2f9214d0a4371a4b7a29ba131de77",
       "style": "IPY_MODEL_242abb9f94b54272bad28a988d845d93",
       "tooltip": "View Peers"
      }
     },
     "0b966e8051d3420b9a5acecacb25a2f9": {
      "model_module": "@jupyter-widgets/controls",
      "model_module_version": "1.5.0",
      "model_name": "HBoxModel",
      "state": {
       "children": [
        "IPY_MODEL_b8adf231bdb84482a20abd110195fff0",
        "IPY_MODEL_f9f2c51709344b738bc9b99ee5f908cc"
       ],
       "layout": "IPY_MODEL_8ca0caaf98984221bbcbe9710accf473"
      }
     },
     "0c83088a4e644846b022b3b1ec1db2df": {
      "model_module": "@jupyter-widgets/controls",
      "model_module_version": "1.5.0",
      "model_name": "CheckboxModel",
      "state": {
       "description": "EXCEPTION",
       "disabled": false,
       "indent": false,
       "layout": "IPY_MODEL_e2a9f297b19c48fbbde1fa572248dab1",
       "style": "IPY_MODEL_bbfce16b556f40fbb862af39cf104495",
       "value": false
      }
     },
     "0cb2f7dbfbe04c0e8d75227d2f4c773e": {
      "model_module": "@jupyter-widgets/output",
      "model_module_version": "1.0.0",
      "model_name": "OutputModel",
      "state": {
       "layout": "IPY_MODEL_db3bb49a9d3a4eb09b6258360c8a28bc",
       "outputs": [
        {
         "data": {
          "image/png": "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\n",
          "text/plain": "<IPython.core.display.Image object>"
         },
         "metadata": {
          "image/png": {
           "unconfined": true,
           "width": 400
          }
         },
         "output_type": "display_data"
        },
        {
         "name": "stdout",
         "output_type": "stream",
         "text": "syft_{time}.log\n"
        },
        {
         "name": "stderr",
         "output_type": "stream",
         "text": "[2021-04-02T18:29:52.287341+0530][CRITICAL][logger]][29455] Skipping torchvision.torchvision.transforms.functional.adjust_sharpness not supported in 0.8.2\n[2021-04-02T18:29:52.288658+0530][CRITICAL][logger]][29455] Skipping torchvision.torchvision.transforms.functional.autocontrast not supported in 0.8.2\n[2021-04-02T18:29:52.290108+0530][CRITICAL][logger]][29455] Skipping torchvision.torchvision.transforms.functional.equalize not supported in 0.8.2\n[2021-04-02T18:29:52.290993+0530][CRITICAL][logger]][29455] Skipping torchvision.torchvision.transforms.functional.invert not supported in 0.8.2\n[2021-04-02T18:29:52.291877+0530][CRITICAL][logger]][29455] Skipping torchvision.torchvision.transforms.functional.posterize not supported in 0.8.2\n[2021-04-02T18:29:52.293342+0530][CRITICAL][logger]][29455] Skipping torchvision.torchvision.transforms.functional.solarize not supported in 0.8.2\n"
        },
        {
         "name": "stdout",
         "output_type": "stream",
         "text": "\n♫♫♫ > \u001b[95mSTEP 1:\u001b[0m Send the following code to your Duet Partner!\n\nimport syft as sy\nduet = sy.join_duet(loopback=True)\n\n"
        },
        {
         "name": "stderr",
         "output_type": "stream",
         "text": "[2021-04-02T18:30:04.707804+0530][CRITICAL][logger]][29455] Skipping torchvision.torchvision.transforms.functional.adjust_sharpness not supported in 0.8.2\n[2021-04-02T18:30:04.708420+0530][CRITICAL][logger]][29455] Skipping torchvision.torchvision.transforms.functional.autocontrast not supported in 0.8.2\n[2021-04-02T18:30:04.709099+0530][CRITICAL][logger]][29455] Skipping torchvision.torchvision.transforms.functional.equalize not supported in 0.8.2\n[2021-04-02T18:30:04.990952+0530][CRITICAL][logger]][29455] Skipping torchvision.torchvision.transforms.functional.adjust_sharpness not supported in 0.8.2\n[2021-04-02T18:30:04.992875+0530][CRITICAL][logger]][29455] Skipping torchvision.torchvision.transforms.functional.autocontrast not supported in 0.8.2\n[2021-04-02T18:30:04.993521+0530][CRITICAL][logger]][29455] Skipping torchvision.torchvision.transforms.functional.equalize not supported in 0.8.2\n[2021-04-02T18:30:04.994311+0530][CRITICAL][logger]][29455] Skipping torchvision.torchvision.transforms.functional.invert not supported in 0.8.2\n"
        },
        {
         "name": "stdout",
         "output_type": "stream",
         "text": "Begin Logging\n"
        },
        {
         "name": "stderr",
         "output_type": "stream",
         "text": "[2021-04-02T18:30:04.995788+0530][CRITICAL][logger]][29455] Skipping torchvision.torchvision.transforms.functional.posterize not supported in 0.8.2\n"
        }
       ]
      }
     },
     "0d206eeed19549a5bebfa48b2b16f3cb": {
      "model_module": "@jupyter-widgets/controls",
      "model_module_version": "1.5.0",
      "model_name": "ButtonModel",
      "state": {
       "button_style": "success",
       "description": "Launch Duet(with loopback)",
       "icon": "plug",
       "layout": "IPY_MODEL_99cf8a52628b47169ccd2035a4401760",
       "style": "IPY_MODEL_39a8b3acff4c45edb4c5cb78d3221431",
       "tooltip": "Launch Duet(with loopback)"
      }
     },
     "0d5a61f074444e5dbfc2fdf80a597fa4": {
      "model_module": "@jupyter-widgets/output",
      "model_module_version": "1.0.0",
      "model_name": "OutputModel",
      "state": {
       "layout": "IPY_MODEL_4caf9fe26485401c8c814b2b09f1d93d"
      }
     },
     "0e1f6356c45143348ef4e784fd382347": {
      "model_module": "@jupyter-widgets/controls",
      "model_module_version": "1.5.0",
      "model_name": "ButtonModel",
      "state": {
       "button_style": "success",
       "description": "Launch Duet",
       "icon": "plug",
       "layout": "IPY_MODEL_b4219c4bf8a84fd4bce050e0e2ee9556",
       "style": "IPY_MODEL_9452f9c16ff349d497a3419d2fa80281",
       "tooltip": "Launch Duet"
      }
     },
     "0e5a87459f1c486a81091983a17f1d01": {
      "model_module": "@jupyter-widgets/base",
      "model_module_version": "1.2.0",
      "model_name": "LayoutModel",
      "state": {
       "align_items": "stretch",
       "border": "1px solid black",
       "display": "flex",
       "flex_flow": "column"
      }
     },
     "0e7aa00334cc4be5b9fbee207058b1cb": {
      "model_module": "@jupyter-widgets/output",
      "model_module_version": "1.0.0",
      "model_name": "OutputModel",
      "state": {
       "layout": "IPY_MODEL_cc5fd6e105a24d23a80b929dc650e238"
      }
     },
     "0fb77ce2d5c448219549953457157839": {
      "model_module": "@jupyter-widgets/controls",
      "model_module_version": "1.5.0",
      "model_name": "ButtonStyleModel",
      "state": {}
     },
     "101536e999aa4080aa3be10634b6940e": {
      "model_module": "@jupyter-widgets/base",
      "model_module_version": "1.2.0",
      "model_name": "LayoutModel",
      "state": {
       "align_items": "stretch",
       "border": "1px solid black",
       "display": "flex",
       "flex_flow": "column"
      }
     },
     "10d9e8303f83432da0fd94be5ea16e3e": {
      "model_module": "@jupyter-widgets/controls",
      "model_module_version": "1.5.0",
      "model_name": "DescriptionStyleModel",
      "state": {
       "description_width": ""
      }
     },
     "1177da81f5834ba79e447e57ed499c4e": {
      "model_module": "@jupyter-widgets/controls",
      "model_module_version": "1.5.0",
      "model_name": "DescriptionStyleModel",
      "state": {
       "description_width": ""
      }
     },
     "12290bbf7b5f4b7493e82a8bf621bde2": {
      "model_module": "@jupyter-widgets/controls",
      "model_module_version": "1.5.0",
      "model_name": "ButtonModel",
      "state": {
       "button_style": "success",
       "description": "Search Logs",
       "icon": "search",
       "layout": "IPY_MODEL_9aef76a0df434e1ea7b1632826ab9c12",
       "style": "IPY_MODEL_9c0900c106c64b14af8aff7c7feaa275",
       "tooltip": "Search Logs"
      }
     },
     "12922c2237944f35ac8f9e2a2182db3f": {
      "model_module": "@jupyter-widgets/base",
      "model_module_version": "1.2.0",
      "model_name": "LayoutModel",
      "state": {
       "height": "80px",
       "width": "33%"
      }
     },
     "12af639dbd894fc98bbde28330c68cd6": {
      "model_module": "@jupyter-widgets/controls",
      "model_module_version": "1.5.0",
      "model_name": "CheckboxModel",
      "state": {
       "description": "EXCEPTION",
       "disabled": false,
       "indent": false,
       "layout": "IPY_MODEL_fc3cd317286d4fb8ba5468ecd952cc70",
       "style": "IPY_MODEL_b16e5c9e5c544d3fbdb2b15023e60dfc",
       "value": false
      }
     },
     "144a8f1cd20f4980a4cfefe953f6b834": {
      "model_module": "@jupyter-widgets/controls",
      "model_module_version": "1.5.0",
      "model_name": "CheckboxModel",
      "state": {
       "description": "TRACE",
       "disabled": false,
       "indent": false,
       "layout": "IPY_MODEL_965efdbf06014dfe9ef6ba4ef5c44c8a",
       "style": "IPY_MODEL_d74db6b264af4fc7a6acdc11dc581207",
       "value": false
      }
     },
     "150b6808f4fc40ed839807dc8c0d92f5": {
      "model_module": "@jupyter-widgets/base",
      "model_module_version": "1.2.0",
      "model_name": "LayoutModel",
      "state": {
       "align_items": "stretch",
       "border": "1px solid black",
       "display": "flex",
       "flex_flow": "column"
      }
     },
     "15303cee53cc4a4597d534bcc78ba7bf": {
      "model_module": "@jupyter-widgets/base",
      "model_module_version": "1.2.0",
      "model_name": "LayoutModel",
      "state": {}
     },
     "166945e598e04c23b13a2156829bcc8d": {
      "model_module": "@jupyter-widgets/controls",
      "model_module_version": "1.5.0",
      "model_name": "CheckboxModel",
      "state": {
       "description": "EXCEPTION",
       "disabled": false,
       "indent": false,
       "layout": "IPY_MODEL_64bd4da2466e49de9c5745131e8255ac",
       "style": "IPY_MODEL_781358b91b3a4ef0affabb57492c1825",
       "value": false
      }
     },
     "171e5b7c56dd4118a88d2b7a00f23a20": {
      "model_module": "@jupyter-widgets/controls",
      "model_module_version": "1.5.0",
      "model_name": "CheckboxModel",
      "state": {
       "description": "CRITICAL",
       "disabled": false,
       "indent": false,
       "layout": "IPY_MODEL_881cd7487e5f4f6dbf9e01f4c8a6f5bc",
       "style": "IPY_MODEL_46ea2c41ba954a8d921e3b0336bf0e45",
       "value": false
      }
     },
     "17abb693a1c24e6f9f8ace339396284f": {
      "model_module": "@jupyter-widgets/controls",
      "model_module_version": "1.5.0",
      "model_name": "ButtonStyleModel",
      "state": {}
     },
     "18056853b7184d58aa31275c206b3830": {
      "model_module": "@jupyter-widgets/base",
      "model_module_version": "1.2.0",
      "model_name": "LayoutModel",
      "state": {}
     },
     "1995469113c8451d87138ba0eceed0cf": {
      "model_module": "@jupyter-widgets/controls",
      "model_module_version": "1.5.0",
      "model_name": "HBoxModel",
      "state": {
       "children": [
        "IPY_MODEL_3cb9eaa845b54043ab36744007124651",
        "IPY_MODEL_da75841ae69c404aad3e2884a6d1dd79",
        "IPY_MODEL_ce84035a7562499084f90bf1805fb74e",
        "IPY_MODEL_395827502c694ceaa0c5eaff5fec2fe6"
       ],
       "layout": "IPY_MODEL_907afb5a05454af2a182212653e429f6"
      }
     },
     "19de0350dfce47f598e397ff87c6811d": {
      "model_module": "@jupyter-widgets/controls",
      "model_module_version": "1.5.0",
      "model_name": "HBoxModel",
      "state": {
       "children": [
        "IPY_MODEL_4c0e08ee0085415bb905c8069bac322a",
        "IPY_MODEL_45226afb9d1b40f9b024b55e6bba0688",
        "IPY_MODEL_60f9756ac41c4377a314b6420a7b3c4e",
        "IPY_MODEL_22049c6682bc4463ae5b48e5dadcd1da"
       ],
       "layout": "IPY_MODEL_f48b0759be994b2a9c3c2cd6c64e66c0"
      }
     },
     "1a1b70de61664008b7f62302342336e7": {
      "model_module": "@jupyter-widgets/base",
      "model_module_version": "1.2.0",
      "model_name": "LayoutModel",
      "state": {}
     },
     "1aa1d2f0b2e84cd08afa90775888f057": {
      "model_module": "@jupyter-widgets/base",
      "model_module_version": "1.2.0",
      "model_name": "LayoutModel",
      "state": {}
     },
     "1b1dd2d10f954c9694d5a2c6465cbb68": {
      "model_module": "@jupyter-widgets/controls",
      "model_module_version": "1.5.0",
      "model_name": "DescriptionStyleModel",
      "state": {
       "description_width": ""
      }
     },
     "1bb8739fbd3d4156864c618cc0da1981": {
      "model_module": "@jupyter-widgets/controls",
      "model_module_version": "1.5.0",
      "model_name": "VBoxModel",
      "state": {
       "children": [
        "IPY_MODEL_398c5191ad6a412e921afeda1027626c",
        "IPY_MODEL_2a716945b70b4533b6bfc38a2fe77359"
       ],
       "layout": "IPY_MODEL_069f8df3a78a4d0b8d8e0dff007babf4"
      }
     },
     "1c111d011a454cc0903e68606f764477": {
      "model_module": "@jupyter-widgets/base",
      "model_module_version": "1.2.0",
      "model_name": "LayoutModel",
      "state": {}
     },
     "1c77ea8f329a40c7b104bc57265cbbcb": {
      "model_module": "@jupyter-widgets/base",
      "model_module_version": "1.2.0",
      "model_name": "LayoutModel",
      "state": {}
     },
     "1c7c79acb9f04eb48a7c27a4c2696c11": {
      "model_module": "@jupyter-widgets/base",
      "model_module_version": "1.2.0",
      "model_name": "LayoutModel",
      "state": {
       "height": "50px",
       "width": "20%"
      }
     },
     "1c8de94459814b0fb9d0b029ccccc116": {
      "model_module": "@jupyter-widgets/controls",
      "model_module_version": "1.5.0",
      "model_name": "DescriptionStyleModel",
      "state": {
       "description_width": ""
      }
     },
     "1d2cdbff39a84d04bcabf6bb8f61d292": {
      "model_module": "@jupyter-widgets/controls",
      "model_module_version": "1.5.0",
      "model_name": "HBoxModel",
      "state": {
       "children": [
        "IPY_MODEL_48ad06e5e029444eba05aeca6b9f3573",
        "IPY_MODEL_7da6a9a6cde84a798aa5b84d5c0233d2",
        "IPY_MODEL_461aa948b6724faf9710a9aea5bd6f6c",
        "IPY_MODEL_2e6e74bc0ab14d629e90d2d6f179dca4"
       ],
       "layout": "IPY_MODEL_e5e77a7259924ff389d2f3dcd246d236"
      }
     },
     "1d95a21931314b41971ad4cedd857bd2": {
      "model_module": "@jupyter-widgets/controls",
      "model_module_version": "1.5.0",
      "model_name": "ButtonModel",
      "state": {
       "button_style": "success",
       "description": "Search Logs",
       "icon": "search",
       "layout": "IPY_MODEL_fcc154d561f7465c90ccba7d97c04f0c",
       "style": "IPY_MODEL_d1db648db3f84abd9065513de166c33d",
       "tooltip": "Search Logs"
      }
     },
     "1e210ca9c38f45a5baa121310c822932": {
      "model_module": "@jupyter-widgets/base",
      "model_module_version": "1.2.0",
      "model_name": "LayoutModel",
      "state": {
       "height": "80px",
       "width": "33%"
      }
     },
     "1e3801004002428d848bb52b70f99589": {
      "model_module": "@jupyter-widgets/base",
      "model_module_version": "1.2.0",
      "model_name": "LayoutModel",
      "state": {}
     },
     "1e62786fc5e9409381e3bef20d85feae": {
      "model_module": "@jupyter-widgets/controls",
      "model_module_version": "1.5.0",
      "model_name": "ButtonModel",
      "state": {
       "button_style": "success",
       "description": "Launch Duet(with loopback)",
       "icon": "plug",
       "layout": "IPY_MODEL_715c518ebf714f7eb2803b7af5f75873",
       "style": "IPY_MODEL_4740c048279f4e56be06a7795a259ad6",
       "tooltip": "Launch Duet(with loopback)"
      }
     },
     "1f1edfa3b6ee4c9b85e8e5ff352814d7": {
      "model_module": "@jupyter-widgets/controls",
      "model_module_version": "1.5.0",
      "model_name": "CheckboxModel",
      "state": {
       "description": "INFO",
       "disabled": false,
       "indent": false,
       "layout": "IPY_MODEL_15303cee53cc4a4597d534bcc78ba7bf",
       "style": "IPY_MODEL_256d032dd4034f378c0abc8a74c1cfca",
       "value": false
      }
     },
     "208556b8f47d4f32b6bb83a6d428e2de": {
      "model_module": "@jupyter-widgets/controls",
      "model_module_version": "1.5.0",
      "model_name": "DescriptionStyleModel",
      "state": {
       "description_width": ""
      }
     },
     "20d271ada19048a2b65198ba0114dc1c": {
      "model_module": "@jupyter-widgets/base",
      "model_module_version": "1.2.0",
      "model_name": "LayoutModel",
      "state": {
       "height": "80px",
       "width": "33%"
      }
     },
     "211f75e311e54732a8d2ad0d90f94230": {
      "model_module": "@jupyter-widgets/base",
      "model_module_version": "1.2.0",
      "model_name": "LayoutModel",
      "state": {}
     },
     "214132e3fa63421f8af268f882983d58": {
      "model_module": "@jupyter-widgets/base",
      "model_module_version": "1.2.0",
      "model_name": "LayoutModel",
      "state": {}
     },
     "21b2d0546d2047dbbcb6479f4e965a4b": {
      "model_module": "@jupyter-widgets/controls",
      "model_module_version": "1.5.0",
      "model_name": "ButtonStyleModel",
      "state": {}
     },
     "22049c6682bc4463ae5b48e5dadcd1da": {
      "model_module": "@jupyter-widgets/controls",
      "model_module_version": "1.5.0",
      "model_name": "CheckboxModel",
      "state": {
       "description": "WARNING",
       "disabled": false,
       "indent": false,
       "layout": "IPY_MODEL_1c111d011a454cc0903e68606f764477",
       "style": "IPY_MODEL_b62e7d3d376043d8a72c4a3b6d0afc2e",
       "value": false
      }
     },
     "2328a2cd5b71484f9a03ef6c2cb4b9fd": {
      "model_module": "qgrid",
      "model_module_version": "^1.1.3",
      "model_name": "QgridModel",
      "state": {
       "_columns": {
        "LOG TYPE": {
         "cssClass": "string",
         "defaultSortAsc": true,
         "editable": true,
         "field": "LOG TYPE",
         "id": "LOG TYPE",
         "minWidth": 30,
         "name": "LOG TYPE",
         "position": 2,
         "resizable": true,
         "sortable": true,
         "toolTip": "",
         "type": "string"
        },
        "MESSAGE": {
         "cssClass": "string",
         "defaultSortAsc": true,
         "editable": true,
         "field": "MESSAGE",
         "id": "MESSAGE",
         "minWidth": 30,
         "name": "MESSAGE",
         "position": 3,
         "resizable": true,
         "sortable": true,
         "toolTip": "",
         "type": "string"
        },
        "index": {
         "cssClass": "integer first-idx-col idx-col first-idx-col idx-col first-idx-col idx-col first-idx-col idx-col first-idx-col idx-col first-idx-col idx-col first-idx-col idx-col first-idx-col idx-col first-idx-col idx-col first-idx-col idx-col first-idx-col idx-col",
         "defaultSortAsc": true,
         "editable": true,
         "field": "index",
         "first_index": true,
         "id": "index",
         "index_display_text": "",
         "is_index": true,
         "level": 0,
         "minWidth": 30,
         "name": "",
         "position": 0,
         "resizable": true,
         "sortable": true,
         "toolTip": "",
         "type": "integer"
        },
        "qgrid_unfiltered_index": {
         "cssClass": "integer",
         "defaultSortAsc": true,
         "editable": true,
         "field": "qgrid_unfiltered_index",
         "id": "qgrid_unfiltered_index",
         "maxWidth": null,
         "minWidth": 30,
         "name": "qgrid_unfiltered_index",
         "position": 1,
         "resizable": true,
         "sortable": true,
         "toolTip": "",
         "type": "integer",
         "width": null
        }
       },
       "_df_json": "{\"schema\":{\"fields\":[{\"name\":\"index\",\"type\":\"integer\"},{\"name\":\"qgrid_unfiltered_index\",\"type\":\"integer\"},{\"name\":\"LOG TYPE\",\"type\":\"string\"},{\"name\":\"MESSAGE\",\"type\":\"string\"}],\"primaryKey\":[\"index\"],\"pandas_version\":\"0.20.0\"},\"data\":[{\"index\":0,\"qgrid_unfiltered_index\":0,\"LOG TYPE\":\" INFO     \",\"MESSAGE\":\" syft.widget_logger:log_and_print:84 - \\ud83c\\udfa4  \\ud83c\\udfb8  \\u266a\\u266a\\u266a Starting Duet \\u266b\\u266b\\u266b  \\ud83c\\udfbb  \\ud83c\\udfb9\\n\\n\"},{\"index\":1,\"qgrid_unfiltered_index\":1,\"LOG TYPE\":\" INFO     \",\"MESSAGE\":\" syft.widget_logger:log_and_print:84 - \\u266b\\u266b\\u266b >\\u001b[93m DISCLAIMER\\u001b[0m: \\u001b[1mDuet is an experimental feature currently in beta.\\n\\u266b\\u266b\\u266b > Use at your own risk.\\n\\u001b[0m\\n\"},{\"index\":2,\"qgrid_unfiltered_index\":2,\"LOG TYPE\":\" INFO     \",\"MESSAGE\":\" syft.widget_logger:log_and_print:84 - \\u001b[1m\\n    > \\u2764\\ufe0f \\u001b[91mLove\\u001b[0m \\u001b[92mDuet\\u001b[0m? \\u001b[93mPlease\\u001b[0m \\u001b[94mconsider\\u001b[0m \\u001b[95msupporting\\u001b[0m \\u001b[91mour\\u001b[0m \\u001b[93mcommunity!\\u001b[0m\\n    > https:\\/\\/github.com\\/sponsors\\/OpenMined\\u001b[1m\\n\\n\"},{\"index\":3,\"qgrid_unfiltered_index\":3,\"LOG TYPE\":\" INFO     \",\"MESSAGE\":\" syft.widget_logger:log_and_print:84 - \\u266b\\u266b\\u266b > Punching through firewall to OpenGrid Network Node at:\\n\"},{\"index\":4,\"qgrid_unfiltered_index\":4,\"LOG TYPE\":\" INFO     \",\"MESSAGE\":\" syft.widget_logger:log_and_print:84 - \\u266b\\u266b\\u266b > http:\\/\\/ec2-18-216-8-163.us-east-2.compute.amazonaws.com:5000\\n\"},{\"index\":5,\"qgrid_unfiltered_index\":5,\"LOG TYPE\":\" INFO     \",\"MESSAGE\":\" syft.widget_logger:log_and_print:84 - \\u266b\\u266b\\u266b >\\n\"},{\"index\":6,\"qgrid_unfiltered_index\":6,\"LOG TYPE\":\" INFO     \",\"MESSAGE\":\" syft.widget_logger:log_and_print:84 - \\u266b\\u266b\\u266b > ...waiting for response from OpenGrid Network... \\n\"},{\"index\":7,\"qgrid_unfiltered_index\":7,\"LOG TYPE\":\" INFO     \",\"MESSAGE\":\" syft.logger:log_and_print:76 - Skipping torch.Tensor.xpu not supported in 1.7.1\\n\"},{\"index\":8,\"qgrid_unfiltered_index\":8,\"LOG TYPE\":\" INFO     \",\"MESSAGE\":\" syft.logger:log_and_print:76 - Skipping torch.Tensor.tile not supported in 1.7.1\\n\"},{\"index\":9,\"qgrid_unfiltered_index\":9,\"LOG TYPE\":\" INFO     \",\"MESSAGE\":\" syft.logger:log_and_print:76 - Skipping torch.Tensor.fmax not supported in 1.7.1\\n\"},{\"index\":10,\"qgrid_unfiltered_index\":10,\"LOG TYPE\":\" INFO     \",\"MESSAGE\":\" syft.logger:log_and_print:76 - Skipping torch.Tensor.ldexp_ not supported in 1.7.1\\n\"},{\"index\":11,\"qgrid_unfiltered_index\":11,\"LOG TYPE\":\" INFO     \",\"MESSAGE\":\" syft.logger:log_and_print:76 - Skipping torch.Tensor.sinc not supported in 1.7.1\\n\"},{\"index\":12,\"qgrid_unfiltered_index\":12,\"LOG TYPE\":\" INFO     \",\"MESSAGE\":\" syft.logger:log_and_print:76 - Skipping torch.kron not supported in 1.7.1\\n\"},{\"index\":13,\"qgrid_unfiltered_index\":13,\"LOG TYPE\":\" INFO     \",\"MESSAGE\":\" syft.logger:log_and_print:76 - Skipping torch.Tensor.nan_to_num not supported in 1.7.1\\n\"},{\"index\":14,\"qgrid_unfiltered_index\":14,\"LOG TYPE\":\" INFO     \",\"MESSAGE\":\" syft.logger:log_and_print:76 - Skipping torch.msort not supported in 1.7.1\\n\"},{\"index\":15,\"qgrid_unfiltered_index\":15,\"LOG TYPE\":\" INFO     \",\"MESSAGE\":\" syft.logger:log_and_print:76 - Skipping torch.row_stack not supported in 1.7.1\\n\"},{\"index\":16,\"qgrid_unfiltered_index\":16,\"LOG TYPE\":\" INFO     \",\"MESSAGE\":\" syft.logger:log_and_print:76 - Skipping torch.Tensor.new_empty_strided not supported in 1.7.1\\n\"},{\"index\":17,\"qgrid_unfiltered_index\":17,\"LOG TYPE\":\" INFO     \",\"MESSAGE\":\" syft.logger:log_and_print:76 - Skipping torch.Tensor.ravel not supported in 1.7.1\\n\"},{\"index\":18,\"qgrid_unfiltered_index\":18,\"LOG TYPE\":\" INFO     \",\"MESSAGE\":\" syft.logger:log_and_print:76 - Skipping torch.Tensor.swapdims_ not supported in 1.7.1\\n\"},{\"index\":19,\"qgrid_unfiltered_index\":19,\"LOG TYPE\":\" INFO     \",\"MESSAGE\":\" syft.logger:log_and_print:76 - Skipping torch.moveaxis not supported in 1.7.1\\n\"},{\"index\":20,\"qgrid_unfiltered_index\":20,\"LOG TYPE\":\" INFO     \",\"MESSAGE\":\" syft.logger:log_and_print:76 - Skipping torch.Tensor.swapaxes not supported in 1.7.1\\n\"},{\"index\":21,\"qgrid_unfiltered_index\":21,\"LOG TYPE\":\" INFO     \",\"MESSAGE\":\" syft.logger:log_and_print:76 - Skipping torch.tensor_split not supported in 1.7.1\\n\"},{\"index\":22,\"qgrid_unfiltered_index\":22,\"LOG TYPE\":\" INFO     \",\"MESSAGE\":\" syft.logger:log_and_print:76 - Skipping torch.Tensor.tensor_split not supported in 1.7.1\\n\"},{\"index\":23,\"qgrid_unfiltered_index\":23,\"LOG TYPE\":\" INFO     \",\"MESSAGE\":\" syft.logger:log_and_print:76 - Skipping torch.tile not supported in 1.7.1\\n\"},{\"index\":24,\"qgrid_unfiltered_index\":24,\"LOG TYPE\":\" INFO     \",\"MESSAGE\":\" syft.logger:log_and_print:76 - Skipping torch.Tensor.float_power_ not supported in 1.7.1\\n\"},{\"index\":25,\"qgrid_unfiltered_index\":25,\"LOG TYPE\":\" INFO     \",\"MESSAGE\":\" syft.logger:log_and_print:76 - Skipping torch.Tensor.broadcast_to not supported in 1.7.1\\n\"},{\"index\":26,\"qgrid_unfiltered_index\":26,\"LOG TYPE\":\" INFO     \",\"MESSAGE\":\" syft.logger:log_and_print:76 - Skipping torch.fmin not supported in 1.7.1\\n\"},{\"index\":27,\"qgrid_unfiltered_index\":27,\"LOG TYPE\":\" INFO     \",\"MESSAGE\":\" syft.logger:log_and_print:76 - Skipping torch.ldexp not supported in 1.7.1\\n\"},{\"index\":28,\"qgrid_unfiltered_index\":28,\"LOG TYPE\":\" INFO     \",\"MESSAGE\":\" syft.logger:log_and_print:76 - Skipping torch.Tensor.swapdims not supported in 1.7.1\\n\"},{\"index\":29,\"qgrid_unfiltered_index\":29,\"LOG TYPE\":\" INFO     \",\"MESSAGE\":\" syft.logger:log_and_print:76 - Skipping torch.igamma not supported in 1.7.1\\n\"},{\"index\":30,\"qgrid_unfiltered_index\":30,\"LOG TYPE\":\" INFO     \",\"MESSAGE\":\" syft.logger:log_and_print:76 - Skipping torch.Tensor.nan_to_num_ not supported in 1.7.1\\n\"},{\"index\":31,\"qgrid_unfiltered_index\":31,\"LOG TYPE\":\" INFO     \",\"MESSAGE\":\" syft.logger:log_and_print:76 - Skipping torch.Tensor.copysign not supported in 1.7.1\\n\"},{\"index\":32,\"qgrid_unfiltered_index\":32,\"LOG TYPE\":\" INFO     \",\"MESSAGE\":\" syft.logger:log_and_print:76 - Skipping torch.Tensor.swapaxes_ not supported in 1.7.1\\n\"},{\"index\":33,\"qgrid_unfiltered_index\":33,\"LOG TYPE\":\" INFO     \",\"MESSAGE\":\" syft.logger:log_and_print:76 - Skipping torch.Tensor.cumprod_ not supported in 1.7.1\\n\"},{\"index\":34,\"qgrid_unfiltered_index\":34,\"LOG TYPE\":\" INFO     \",\"MESSAGE\":\" syft.logger:log_and_print:76 - Skipping torch.Tensor.ldexp not supported in 1.7.1\\n\"},{\"index\":35,\"qgrid_unfiltered_index\":35,\"LOG TYPE\":\" INFO     \",\"MESSAGE\":\" syft.logger:log_and_print:76 - Skipping torch.Tensor.igamma_ not supported in 1.7.1\\n\"},{\"index\":36,\"qgrid_unfiltered_index\":36,\"LOG TYPE\":\" INFO     \",\"MESSAGE\":\" syft.logger:log_and_print:76 - Skipping torch.float_power not supported in 1.7.1\\n\"},{\"index\":37,\"qgrid_unfiltered_index\":37,\"LOG TYPE\":\" INFO     \",\"MESSAGE\":\" syft.logger:log_and_print:76 - Skipping torch.Tensor.igammac_ not supported in 1.7.1\\n\"},{\"index\":38,\"qgrid_unfiltered_index\":38,\"LOG TYPE\":\" INFO     \",\"MESSAGE\":\" syft.logger:log_and_print:76 - Skipping torch.xlogy not supported in 1.7.1\\n\"},{\"index\":39,\"qgrid_unfiltered_index\":39,\"LOG TYPE\":\" INFO     \",\"MESSAGE\":\" syft.logger:log_and_print:76 - Skipping torch.copysign not supported in 1.7.1\\n\"},{\"index\":40,\"qgrid_unfiltered_index\":40,\"LOG TYPE\":\" INFO     \",\"MESSAGE\":\" syft.logger:log_and_print:76 - Skipping torch.nanmedian not supported in 1.7.1\\n\"},{\"index\":41,\"qgrid_unfiltered_index\":41,\"LOG TYPE\":\" INFO     \",\"MESSAGE\":\" syft.logger:log_and_print:76 - Skipping torch.igammac not supported in 1.7.1\\n\"},{\"index\":42,\"qgrid_unfiltered_index\":42,\"LOG TYPE\":\" INFO     \",\"MESSAGE\":\" syft.logger:log_and_print:76 - Skipping torch.Tensor.cumsum_ not supported in 1.7.1\\n\"},{\"index\":43,\"qgrid_unfiltered_index\":43,\"LOG TYPE\":\" INFO     \",\"MESSAGE\":\" syft.logger:log_and_print:76 - Skipping torch.diff not supported in 1.7.1\\n\"},{\"index\":44,\"qgrid_unfiltered_index\":44,\"LOG TYPE\":\" INFO     \",\"MESSAGE\":\" syft.logger:log_and_print:76 - Skipping torch.Tensor.igamma not supported in 1.7.1\\n\"},{\"index\":45,\"qgrid_unfiltered_index\":45,\"LOG TYPE\":\" INFO     \",\"MESSAGE\":\" syft.logger:log_and_print:76 - Skipping torch.sinc not supported in 1.7.1\\n\"},{\"index\":46,\"qgrid_unfiltered_index\":46,\"LOG TYPE\":\" INFO     \",\"MESSAGE\":\" syft.logger:log_and_print:76 - Skipping torch.Tensor.igammac not supported in 1.7.1\\n\"},{\"index\":47,\"qgrid_unfiltered_index\":47,\"LOG TYPE\":\" INFO     \",\"MESSAGE\":\" syft.logger:log_and_print:76 - Skipping torch.Tensor.kron not supported in 1.7.1\\n\"},{\"index\":48,\"qgrid_unfiltered_index\":48,\"LOG TYPE\":\" INFO     \",\"MESSAGE\":\" syft.logger:log_and_print:76 - Skipping torch.column_stack not supported in 1.7.1\\n\"},{\"index\":49,\"qgrid_unfiltered_index\":49,\"LOG TYPE\":\" INFO     \",\"MESSAGE\":\" syft.logger:log_and_print:76 - Skipping torch.Tensor.msort not supported in 1.7.1\\n\"},{\"index\":50,\"qgrid_unfiltered_index\":50,\"LOG TYPE\":\" INFO     \",\"MESSAGE\":\" syft.logger:log_and_print:76 - Skipping torch.pixel_unshuffle not supported in 1.7.1\\n\"},{\"index\":51,\"qgrid_unfiltered_index\":51,\"LOG TYPE\":\" INFO     \",\"MESSAGE\":\" syft.logger:log_and_print:76 - Skipping torch.Tensor.fmin not supported in 1.7.1\\n\"},{\"index\":52,\"qgrid_unfiltered_index\":52,\"LOG TYPE\":\" INFO     \",\"MESSAGE\":\" syft.logger:log_and_print:76 - Skipping torch.Tensor.xlogy not supported in 1.7.1\\n\"},{\"index\":53,\"qgrid_unfiltered_index\":53,\"LOG TYPE\":\" INFO     \",\"MESSAGE\":\" syft.logger:log_and_print:76 - Skipping torch.Tensor.moveaxis not supported in 1.7.1\\n\"},{\"index\":54,\"qgrid_unfiltered_index\":54,\"LOG TYPE\":\" INFO     \",\"MESSAGE\":\" syft.logger:log_and_print:76 - Skipping torch.swapaxes not supported in 1.7.1\\n\"},{\"index\":55,\"qgrid_unfiltered_index\":55,\"LOG TYPE\":\" INFO     \",\"MESSAGE\":\" syft.logger:log_and_print:76 - Skipping torch.nan_to_num not supported in 1.7.1\\n\"},{\"index\":56,\"qgrid_unfiltered_index\":56,\"LOG TYPE\":\" INFO     \",\"MESSAGE\":\" syft.logger:log_and_print:76 - Skipping torch.inner not supported in 1.7.1\\n\"},{\"index\":57,\"qgrid_unfiltered_index\":57,\"LOG TYPE\":\" INFO     \",\"MESSAGE\":\" syft.logger:log_and_print:76 - Skipping torch.fmax not supported in 1.7.1\\n\"},{\"index\":58,\"qgrid_unfiltered_index\":58,\"LOG TYPE\":\" INFO     \",\"MESSAGE\":\" syft.logger:log_and_print:76 - Skipping torch.Tensor.float_power not supported in 1.7.1\\n\"},{\"index\":59,\"qgrid_unfiltered_index\":59,\"LOG TYPE\":\" INFO     \",\"MESSAGE\":\" syft.logger:log_and_print:76 - Skipping torch.Tensor.nanmedian not supported in 1.7.1\\n\"},{\"index\":60,\"qgrid_unfiltered_index\":60,\"LOG TYPE\":\" INFO     \",\"MESSAGE\":\" syft.logger:log_and_print:76 - Skipping torch.Tensor.sinc_ not supported in 1.7.1\\n\"},{\"index\":61,\"qgrid_unfiltered_index\":61,\"LOG TYPE\":\" INFO     \",\"MESSAGE\":\" syft.logger:log_and_print:76 - Skipping torch.Tensor.copysign_ not supported in 1.7.1\\n\"},{\"index\":62,\"qgrid_unfiltered_index\":62,\"LOG TYPE\":\" INFO     \",\"MESSAGE\":\" syft.logger:log_and_print:76 - Skipping torch.ravel not supported in 1.7.1\\n\"},{\"index\":63,\"qgrid_unfiltered_index\":63,\"LOG TYPE\":\" INFO     \",\"MESSAGE\":\" syft.logger:log_and_print:76 - Skipping torch.broadcast_to not supported in 1.7.1\\n\"},{\"index\":64,\"qgrid_unfiltered_index\":64,\"LOG TYPE\":\" INFO     \",\"MESSAGE\":\" syft.logger:log_and_print:76 - Skipping torch.Tensor.diff not supported in 1.7.1\\n\"},{\"index\":65,\"qgrid_unfiltered_index\":65,\"LOG TYPE\":\" INFO     \",\"MESSAGE\":\" syft.logger:log_and_print:76 - Skipping torch.Tensor.xlogy_ not supported in 1.7.1\\n\"},{\"index\":66,\"qgrid_unfiltered_index\":66,\"LOG TYPE\":\" INFO     \",\"MESSAGE\":\" syft.logger:log_and_print:76 - Skipping torch.swapdims not supported in 1.7.1\\n\"},{\"index\":67,\"qgrid_unfiltered_index\":67,\"LOG TYPE\":\" INFO     \",\"MESSAGE\":\" syft.logger:log_and_print:76 - Skipping torch.Tensor.inner not supported in 1.7.1\\n\"},{\"index\":68,\"qgrid_unfiltered_index\":68,\"LOG TYPE\":\" DEBUG    \",\"MESSAGE\":\" syft.logger:log_and_print:76 - > Creating \\ud83d\\udce1 [\\ud83d\\udd17] om-net Client (NetworkClient)@<UID:\\ud83d\\ude5a\\ud83d\\ude8b>\\n\"},{\"index\":69,\"qgrid_unfiltered_index\":69,\"LOG TYPE\":\" DEBUG    \",\"MESSAGE\":\" syft.logger:log_and_print:76 - > Creating \\u2709\\ufe0f  (RegisterNewPeerMessage) <UID:\\ud83d\\ude4c\\ud83d\\udee1>\\n\"},{\"index\":70,\"qgrid_unfiltered_index\":70,\"LOG TYPE\":\" DEBUG    \",\"MESSAGE\":\" syft.logger:log_and_print:76 - > \\ud83d\\udce1 [\\ud83d\\udd17] om-net Client (NetworkClient)@<UID:\\ud83d\\ude5a\\ud83d\\ude8b> Signing \\u2709\\ufe0f  (RegisterNewPeerMessage) with \\ud83d\\ude99\\n\"},{\"index\":71,\"qgrid_unfiltered_index\":71,\"LOG TYPE\":\" DEBUG    \",\"MESSAGE\":\" syft.logger:log_and_print:76 - > Signing with \\ud83d\\ude99\\n\"},{\"index\":72,\"qgrid_unfiltered_index\":72,\"LOG TYPE\":\" DEBUG    \",\"MESSAGE\":\" syft.logger:log_and_print:76 - Serializing syft.grid.services.signaling_service.RegisterNewPeerMessage\\n\"},{\"index\":73,\"qgrid_unfiltered_index\":73,\"LOG TYPE\":\" DEBUG    \",\"MESSAGE\":\" syft.logger:log_and_print:76 - > Creating Signed \\u2709\\ufe0f \\ud83d\\udd0f (SignedImmediateSyftMessageWithReply) <UID:\\ud83d\\ude4c\\ud83d\\udee1>\\n\"},{\"index\":74,\"qgrid_unfiltered_index\":74,\"LOG TYPE\":\" DEBUG    \",\"MESSAGE\":\" syft.logger:log_and_print:76 - Serializing syft.core.common.message.SignedImmediateSyftMessageWithReply\\n\"},{\"index\":75,\"qgrid_unfiltered_index\":75,\"LOG TYPE\":\" DEBUG    \",\"MESSAGE\":\" syft.logger:log_and_print:76 - > \\u2709\\ufe0f \\ud83d\\udd0f -> Proto \\ud83d\\udd22 <UID: 1d6a50ea788f436eb11ac659afe33403>\\n\"},{\"index\":76,\"qgrid_unfiltered_index\":76,\"LOG TYPE\":\" DEBUG    \",\"MESSAGE\":\" syft.logger:log_and_print:76 - > Creating \\u2709\\ufe0f  (PeerSuccessfullyRegistered) <UID:\\ud83d\\udeb0\\ud83d\\ude82>\\n\"},{\"index\":77,\"qgrid_unfiltered_index\":77,\"LOG TYPE\":\" DEBUG    \",\"MESSAGE\":\" syft.logger:log_and_print:76 - > Creating Signed \\u2709\\ufe0f \\ud83d\\udd0f (SignedImmediateSyftMessageWithoutReply) <UID:\\ud83d\\udeb0\\ud83d\\ude82>\\n\"},{\"index\":78,\"qgrid_unfiltered_index\":78,\"LOG TYPE\":\" DEBUG    \",\"MESSAGE\":\" syft.logger:log_and_print:76 - > \\u2709\\ufe0f \\ud83d\\udd0f <- \\ud83d\\udd22 Proto\\n\"},{\"index\":79,\"qgrid_unfiltered_index\":79,\"LOG TYPE\":\" DEBUG    \",\"MESSAGE\":\" syft.logger:log_and_print:76 - > Creating \\u2709\\ufe0f  (PeerSuccessfullyRegistered) <UID:\\ud83d\\udeb0\\ud83d\\ude82>\\n\"},{\"index\":80,\"qgrid_unfiltered_index\":80,\"LOG TYPE\":\" INFO     \",\"MESSAGE\":\" syft.widget_logger:log_and_print:84 - \\u266b\\u266b\\u266b > \\u001b[92mDONE!\\u001b[0m\\n\"},{\"index\":81,\"qgrid_unfiltered_index\":81,\"LOG TYPE\":\" DEBUG    \",\"MESSAGE\":\" syft.logger:log_and_print:76 - > Creating \\ud83d\\uddc3\\ufe0f (MemoryStore) {}\\n\"},{\"index\":82,\"qgrid_unfiltered_index\":82,\"LOG TYPE\":\" DEBUG    \",\"MESSAGE\":\" syft.logger:log_and_print:76 - Created MemoryStore.\\n\"},{\"index\":83,\"qgrid_unfiltered_index\":83,\"LOG TYPE\":\" DEBUG    \",\"MESSAGE\":\" syft.logger:log_and_print:76 - > Creating \\ud83c\\udff0 Launcher (Domain)@<UID:\\ud83d\\udeb3\\ud83d\\ude5c>\\n\"},{\"index\":84,\"qgrid_unfiltered_index\":84,\"LOG TYPE\":\" DEBUG    \",\"MESSAGE\":\" syft.logger:log_and_print:82 - failed to log exception. info() missing 1 required positional argument: '_Logger__message'\\n\"},{\"index\":85,\"qgrid_unfiltered_index\":85,\"LOG TYPE\":\" INFO     \",\"MESSAGE\":\" syft.logger:log_and_print:76 - \\u266b\\u266b\\u266b > \\u001b[95mSTEP 1:\\u001b[0m Send the following code to your Duet Partner!\\n\"},{\"index\":86,\"qgrid_unfiltered_index\":86,\"LOG TYPE\":\" INFO     \",\"MESSAGE\":\" syft.logger:log_and_print:76 - \\nimport syft as sy\\n\"},{\"index\":87,\"qgrid_unfiltered_index\":87,\"LOG TYPE\":\" INFO     \",\"MESSAGE\":\" syft.logger:log_and_print:76 - duet = sy.join_duet(loopback=True)\\n\"},{\"index\":88,\"qgrid_unfiltered_index\":88,\"LOG TYPE\":\" DEBUG    \",\"MESSAGE\":\" syft.logger:log_and_print:82 - failed to log exception. info() missing 1 required positional argument: '_Logger__message'\\n\"},{\"index\":89,\"qgrid_unfiltered_index\":89,\"LOG TYPE\":\" DEBUG    \",\"MESSAGE\":\" syft.logger:log_and_print:76 - client not ready\\n\"},{\"index\":90,\"qgrid_unfiltered_index\":90,\"LOG TYPE\":\" DEBUG    \",\"MESSAGE\":\" syft.logger:log_and_print:76 - client not ready\\n\"},{\"index\":91,\"qgrid_unfiltered_index\":91,\"LOG TYPE\":\" DEBUG    \",\"MESSAGE\":\" syft.logger:log_and_print:76 - client not ready\\n\"},{\"index\":92,\"qgrid_unfiltered_index\":92,\"LOG TYPE\":\" DEBUG    \",\"MESSAGE\":\" syft.logger:log_and_print:76 - client not ready\\n\"},{\"index\":93,\"qgrid_unfiltered_index\":93,\"LOG TYPE\":\" DEBUG    \",\"MESSAGE\":\" syft.logger:log_and_print:76 - client not ready\\n\"},{\"index\":94,\"qgrid_unfiltered_index\":94,\"LOG TYPE\":\" DEBUG    \",\"MESSAGE\":\" syft.logger:log_and_print:76 - client not ready\\n\"},{\"index\":95,\"qgrid_unfiltered_index\":95,\"LOG TYPE\":\" DEBUG    \",\"MESSAGE\":\" syft.logger:log_and_print:76 - client not ready\\n\"},{\"index\":96,\"qgrid_unfiltered_index\":96,\"LOG TYPE\":\" DEBUG    \",\"MESSAGE\":\" syft.logger:log_and_print:76 - client not ready\\n\"},{\"index\":97,\"qgrid_unfiltered_index\":97,\"LOG TYPE\":\" DEBUG    \",\"MESSAGE\":\" syft.logger:log_and_print:76 - client not ready\\n\"},{\"index\":98,\"qgrid_unfiltered_index\":98,\"LOG TYPE\":\" DEBUG    \",\"MESSAGE\":\" syft.logger:log_and_print:76 - client not ready\\n\"},{\"index\":99,\"qgrid_unfiltered_index\":99,\"LOG TYPE\":\" DEBUG    \",\"MESSAGE\":\" syft.logger:log_and_print:76 - client not ready\\n\"}]}",
       "_df_range": [
        0,
        100
       ],
       "_editable_rows": {},
       "_index_col_name": "qgrid_unfiltered_index",
       "_interval_columns": [],
       "_model_module_version": "^1.1.3",
       "_multi_index": false,
       "_row_count": 269,
       "_row_styles": {},
       "_sort_ascending": true,
       "_sort_field": null,
       "_view_module_version": "^1.1.3",
       "_viewport_range": [
        0,
        16
       ],
       "grid_options": {
        "autoEdit": false,
        "boldIndex": true,
        "defaultColumnWidth": 150,
        "editable": true,
        "enableColumnReorder": false,
        "enableTextSelectionOnCells": true,
        "explicitInitialization": true,
        "filterable": true,
        "forceFitColumns": true,
        "fullWidthRows": true,
        "highlightSelectedCell": false,
        "highlightSelectedRow": true,
        "maxVisibleRows": 15,
        "minVisibleRows": 8,
        "rowHeight": 28,
        "sortable": true,
        "syncColumnCellResize": true
       },
       "id": "4cd30bff-8a10-48f1-9b96-34488904b42d",
       "layout": "IPY_MODEL_64e344165f3344df88fc2d510202f345",
       "precision": 5,
       "show_toolbar": true
      }
     },
     "2331d722bee646c4922e4bc37b3c806e": {
      "model_module": "@jupyter-widgets/base",
      "model_module_version": "1.2.0",
      "model_name": "LayoutModel",
      "state": {
       "height": "80px",
       "width": "33%"
      }
     },
     "23452030f33444e7ae07c33448927977": {
      "model_module": "@jupyter-widgets/controls",
      "model_module_version": "1.5.0",
      "model_name": "ButtonModel",
      "state": {
       "button_style": "success",
       "description": "Search Logs",
       "icon": "search",
       "layout": "IPY_MODEL_37facbc349494731b3671a552f99ab8f",
       "style": "IPY_MODEL_898a9d5df6f9426daf72980a2e7baeac",
       "tooltip": "Search Logs"
      }
     },
     "23c3922dc0844845a70d3ba26fb147e2": {
      "model_module": "@jupyter-widgets/base",
      "model_module_version": "1.2.0",
      "model_name": "LayoutModel",
      "state": {
       "align_items": "stretch",
       "border": "1px solid black",
       "display": "flex",
       "flex_flow": "column"
      }
     },
     "23ed61cbcdb94a6598a6ee1e8f2e9e97": {
      "model_module": "@jupyter-widgets/controls",
      "model_module_version": "1.5.0",
      "model_name": "DescriptionStyleModel",
      "state": {
       "description_width": ""
      }
     },
     "242abb9f94b54272bad28a988d845d93": {
      "model_module": "@jupyter-widgets/controls",
      "model_module_version": "1.5.0",
      "model_name": "ButtonStyleModel",
      "state": {}
     },
     "24987ebc90874914857547271adc3904": {
      "model_module": "@jupyter-widgets/base",
      "model_module_version": "1.2.0",
      "model_name": "LayoutModel",
      "state": {}
     },
     "24993dda77e246b1a5a5dec13c33f076": {
      "model_module": "@jupyter-widgets/base",
      "model_module_version": "1.2.0",
      "model_name": "LayoutModel",
      "state": {}
     },
     "2509471671284454b142d62f62e3e55d": {
      "model_module": "@jupyter-widgets/controls",
      "model_module_version": "1.5.0",
      "model_name": "CheckboxModel",
      "state": {
       "description": "ERROR",
       "disabled": false,
       "indent": false,
       "layout": "IPY_MODEL_6d4aea5142974266aa4e9a2ab5887602",
       "style": "IPY_MODEL_f9920c9443fb4b5e87a6c10c3c41737e",
       "value": false
      }
     },
     "256d032dd4034f378c0abc8a74c1cfca": {
      "model_module": "@jupyter-widgets/controls",
      "model_module_version": "1.5.0",
      "model_name": "DescriptionStyleModel",
      "state": {
       "description_width": ""
      }
     },
     "25b23ad32c1243b2987b05d1c7df483b": {
      "model_module": "@jupyter-widgets/base",
      "model_module_version": "1.2.0",
      "model_name": "LayoutModel",
      "state": {}
     },
     "25e9fecf6f4a41a6836589ddfb13de00": {
      "model_module": "@jupyter-widgets/controls",
      "model_module_version": "1.5.0",
      "model_name": "DescriptionStyleModel",
      "state": {
       "description_width": ""
      }
     },
     "267a45aa27d8470a904b75b0020661ce": {
      "model_module": "@jupyter-widgets/base",
      "model_module_version": "1.2.0",
      "model_name": "LayoutModel",
      "state": {
       "height": "80px",
       "width": "33%"
      }
     },
     "26de9a2cae5d494c8a27f9aa3e7e2012": {
      "model_module": "@jupyter-widgets/base",
      "model_module_version": "1.2.0",
      "model_name": "LayoutModel",
      "state": {
       "height": "80px",
       "width": "33%"
      }
     },
     "27cec172e466495d8fa6d009e3f5386c": {
      "model_module": "@jupyter-widgets/base",
      "model_module_version": "1.2.0",
      "model_name": "LayoutModel",
      "state": {}
     },
     "27d1d5cda93d4bb5b4c905b7f675dc97": {
      "model_module": "@jupyter-widgets/controls",
      "model_module_version": "1.5.0",
      "model_name": "HBoxModel",
      "state": {
       "children": [
        "IPY_MODEL_290c9065a86249909ea74afebc1094f0",
        "IPY_MODEL_acfa881128934c2c867508a9c8d488c1",
        "IPY_MODEL_879a1af1e0754eada53b6d2d36dc7e94"
       ],
       "layout": "IPY_MODEL_f27b84f887714b1391f71b8e3f251f52"
      }
     },
     "287f362b5c7c44998dbde4468f4a5d4a": {
      "model_module": "@jupyter-widgets/output",
      "model_module_version": "1.0.0",
      "model_name": "OutputModel",
      "state": {
       "layout": "IPY_MODEL_52ae3b59d27a4096a0c06bb3b4db5072",
       "outputs": [
        {
         "name": "stdout",
         "output_type": "stream",
         "text": "🎤  🎸  ♪♪♪ Starting Duet ♫♫♫  🎻  🎹\n\n♫♫♫ >\u001b[93m DISCLAIMER\u001b[0m: \u001b[1mDuet is an experimental feature currently in beta.\n♫♫♫ > Use at your own risk.\n\u001b[0m\n\u001b[1m\n    > ❤️ \u001b[91mLove\u001b[0m \u001b[92mDuet\u001b[0m? \u001b[93mPlease\u001b[0m \u001b[94mconsider\u001b[0m \u001b[95msupporting\u001b[0m \u001b[91mour\u001b[0m \u001b[93mcommunity!\u001b[0m\n    > https://github.com/sponsors/OpenMined\u001b[1m\n\n♫♫♫ > Punching through firewall to OpenGrid Network Node at:\n♫♫♫ > http://ec2-18-216-8-163.us-east-2.compute.amazonaws.com:5000\n♫♫♫ >\n♫♫♫ > ...waiting for response from OpenGrid Network... \n♫♫♫ > \u001b[92mDONE!\u001b[0m\n♫♫♫ > Connecting...\n\n"
        },
        {
         "name": "stderr",
         "output_type": "stream",
         "text": "[2021-04-02T18:21:38.344918+0530][CRITICAL][logger]][29235] Skipping torchvision.torchvision.transforms.functional.solarize not supported in 0.8.2\n"
        },
        {
         "name": "stdout",
         "output_type": "stream",
         "text": "♫♫♫ > \u001b[92mCONNECTED!\u001b[0m\n"
        },
        {
         "name": "stderr",
         "output_type": "stream",
         "text": "[2021-04-02T18:21:38.607534+0530][CRITICAL][logger]][29235] Skipping torchvision.torchvision.transforms.functional.invert not supported in 0.8.2\n"
        },
        {
         "name": "stdout",
         "output_type": "stream",
         "text": "\n"
        },
        {
         "name": "stderr",
         "output_type": "stream",
         "text": "[2021-04-02T18:21:38.608154+0530][CRITICAL][logger]][29235] Skipping torchvision.torchvision.transforms.functional.posterize not supported in 0.8.2\n"
        }
       ]
      }
     },
     "2884c322ebc34418ab862b8a2f9a5b01": {
      "model_module": "@jupyter-widgets/controls",
      "model_module_version": "1.5.0",
      "model_name": "ButtonStyleModel",
      "state": {}
     },
     "288d51ab2b764db1b3744516e3f2f09c": {
      "model_module": "@jupyter-widgets/controls",
      "model_module_version": "1.5.0",
      "model_name": "DescriptionStyleModel",
      "state": {
       "description_width": ""
      }
     },
     "290c9065a86249909ea74afebc1094f0": {
      "model_module": "@jupyter-widgets/controls",
      "model_module_version": "1.5.0",
      "model_name": "ButtonModel",
      "state": {
       "button_style": "success",
       "description": "Launch Duet",
       "icon": "plug",
       "layout": "IPY_MODEL_34cd47c233494875873288e28aa90c41",
       "style": "IPY_MODEL_9427d52395144a229fe83636dac0a7f9",
       "tooltip": "Launch Duet"
      }
     },
     "2943d4a6596346f1bbe045a118a648c1": {
      "model_module": "@jupyter-widgets/controls",
      "model_module_version": "1.5.0",
      "model_name": "DescriptionStyleModel",
      "state": {
       "description_width": ""
      }
     },
     "2a1f40a0c27a4485a8a4b47727c9fc6d": {
      "model_module": "@jupyter-widgets/controls",
      "model_module_version": "1.5.0",
      "model_name": "CheckboxModel",
      "state": {
       "description": "TRACE",
       "disabled": false,
       "indent": false,
       "layout": "IPY_MODEL_989d07134f994471a221f6b2fd4530b7",
       "style": "IPY_MODEL_02acfab587574a20960761e7f81e23d6",
       "value": false
      }
     },
     "2a2a84ea88b143c798532f47994a557a": {
      "model_module": "@jupyter-widgets/controls",
      "model_module_version": "1.5.0",
      "model_name": "DescriptionStyleModel",
      "state": {
       "description_width": ""
      }
     },
     "2a716945b70b4533b6bfc38a2fe77359": {
      "model_module": "@jupyter-widgets/controls",
      "model_module_version": "1.5.0",
      "model_name": "HBoxModel",
      "state": {
       "children": [
        "IPY_MODEL_3de06ee0147840a68025d3593d73abfa",
        "IPY_MODEL_8e92bd05e6a04385bd9c5c34334005ba",
        "IPY_MODEL_2b9fd180dc784a35a6139df254730961",
        "IPY_MODEL_c4b02aca49da4990bbaaf44afc4e0552"
       ],
       "layout": "IPY_MODEL_c9a29d12aa954017944ad31c0b39963c"
      }
     },
     "2a812619f63840948c5290d2cdaeacbd": {
      "model_module": "@jupyter-widgets/controls",
      "model_module_version": "1.5.0",
      "model_name": "CheckboxModel",
      "state": {
       "description": "INFO",
       "disabled": false,
       "indent": false,
       "layout": "IPY_MODEL_58ef9facbff74b089d62a2bedeac2a62",
       "style": "IPY_MODEL_d9eae20f909b466f835233d5738c3859",
       "value": false
      }
     },
     "2ad52581f00a439b966ac308ce2877da": {
      "model_module": "@jupyter-widgets/controls",
      "model_module_version": "1.5.0",
      "model_name": "VBoxModel",
      "state": {
       "children": [
        "IPY_MODEL_bad777b3b6d14f6b895649e08422906b",
        "IPY_MODEL_048c7050968c42a3a8839cffd67804c1"
       ],
       "layout": "IPY_MODEL_c3e2b1221b614b9e8b232f6a57ffc01b"
      }
     },
     "2b04c0cd720d4e08ae63051eda2f1a07": {
      "model_module": "@jupyter-widgets/controls",
      "model_module_version": "1.5.0",
      "model_name": "ButtonModel",
      "state": {
       "button_style": "success",
       "description": "Launch Duet(with loopback)",
       "icon": "plug",
       "layout": "IPY_MODEL_65540ba6ff4d48559dbcaf26406f4d66",
       "style": "IPY_MODEL_0695522c86174e16a7301ca235cb5591",
       "tooltip": "Launch Duet(with loopback)"
      }
     },
     "2b6125a8ffa445eea6b94b929eb7aa90": {
      "model_module": "@jupyter-widgets/controls",
      "model_module_version": "1.5.0",
      "model_name": "HBoxModel",
      "state": {
       "children": [
        "IPY_MODEL_d8b06fe0b43e4fa7b842ff7541ed41ce",
        "IPY_MODEL_e61f8be52b44477cb407389fd6690ccc",
        "IPY_MODEL_499da1f04c5644cc98448ed482000068",
        "IPY_MODEL_52556e800632497aae9b2f60fd8849ee"
       ],
       "layout": "IPY_MODEL_f977dfffb9e34f138081688768bc70ee"
      }
     },
     "2b9fd180dc784a35a6139df254730961": {
      "model_module": "@jupyter-widgets/controls",
      "model_module_version": "1.5.0",
      "model_name": "CheckboxModel",
      "state": {
       "description": "TRACE",
       "disabled": false,
       "indent": false,
       "layout": "IPY_MODEL_5e9324c8b8484a96968bf22f948b5d15",
       "style": "IPY_MODEL_f2b4e9d103974b2694f7edbdbf129021",
       "value": false
      }
     },
     "2cbd7abba8f949c19cedf8dd652bc18e": {
      "model_module": "@jupyter-widgets/controls",
      "model_module_version": "1.5.0",
      "model_name": "ButtonStyleModel",
      "state": {}
     },
     "2e6e74bc0ab14d629e90d2d6f179dca4": {
      "model_module": "@jupyter-widgets/controls",
      "model_module_version": "1.5.0",
      "model_name": "CheckboxModel",
      "state": {
       "description": "WARNING",
       "disabled": false,
       "indent": false,
       "layout": "IPY_MODEL_75822604b07544dca12f003cb2c5dba3",
       "style": "IPY_MODEL_ad216f7a103541c49d8f49a63ff0dcde",
       "value": false
      }
     },
     "2e903939391548d5ab225b097cc7b638": {
      "model_module": "@jupyter-widgets/controls",
      "model_module_version": "1.5.0",
      "model_name": "VBoxModel",
      "state": {
       "children": [
        "IPY_MODEL_b0376c9daa114c7a91f5e87c2e2d650c",
        "IPY_MODEL_0d5a61f074444e5dbfc2fdf80a597fa4"
       ],
       "layout": "IPY_MODEL_094ae10045b542789084adb3dbe630d1"
      }
     },
     "2ef1a3d3eaa54c768c062629d7cbaf1d": {
      "model_module": "@jupyter-widgets/controls",
      "model_module_version": "1.5.0",
      "model_name": "DescriptionStyleModel",
      "state": {
       "description_width": ""
      }
     },
     "2f6a5c715ebb471ab0b56d807fa94ea1": {
      "model_module": "@jupyter-widgets/controls",
      "model_module_version": "1.5.0",
      "model_name": "HBoxModel",
      "state": {
       "children": [
        "IPY_MODEL_35973af9edb34d5b91532e44b904ff14",
        "IPY_MODEL_d279877f453e4e18a50562d16497560a"
       ],
       "layout": "IPY_MODEL_c8b406488a2c434aa23a475a73d6bb47"
      }
     },
     "2fdc3b8a595a483ba4061582a7c071a5": {
      "model_module": "@jupyter-widgets/controls",
      "model_module_version": "1.5.0",
      "model_name": "ButtonModel",
      "state": {
       "button_style": "success",
       "description": "Launch Duet",
       "icon": "plug",
       "layout": "IPY_MODEL_2331d722bee646c4922e4bc37b3c806e",
       "style": "IPY_MODEL_c788402311e748bbb7c1ae518991a4c2",
       "tooltip": "Launch Duet"
      }
     },
     "2fea2c0cd02747dfbb20fa716d52883c": {
      "model_module": "@jupyter-widgets/controls",
      "model_module_version": "1.5.0",
      "model_name": "ButtonStyleModel",
      "state": {}
     },
     "302fb4172c6b48258ffc0d63903e2fdc": {
      "model_module": "@jupyter-widgets/base",
      "model_module_version": "1.2.0",
      "model_name": "LayoutModel",
      "state": {
       "height": "50px",
       "width": "20%"
      }
     },
     "303cdbea0d0f4aafbf23b375e7b3eff4": {
      "model_module": "@jupyter-widgets/output",
      "model_module_version": "1.0.0",
      "model_name": "OutputModel",
      "state": {
       "layout": "IPY_MODEL_d29cb53a853e44fabe54956727c79727",
       "outputs": [
        {
         "data": {
          "application/vnd.jupyter.widget-view+json": {
           "model_id": "aafde51f58df4234b510e2c168b9b003",
           "version_major": 2,
           "version_minor": 0
          },
          "text/plain": "QgridWidget(grid_options={'fullWidthRows': True, 'syncColumnCellResize': True, 'forceFitColumns': True, 'defau…"
         },
         "metadata": {},
         "output_type": "display_data"
        }
       ]
      }
     },
     "3244f94d6bfc4a208f6682f22414d977": {
      "model_module": "@jupyter-widgets/base",
      "model_module_version": "1.2.0",
      "model_name": "LayoutModel",
      "state": {
       "align_items": "stretch",
       "border": "1px solid black",
       "display": "flex",
       "flex_flow": "column"
      }
     },
     "3281598a1449481bae000463258e7036": {
      "model_module": "@jupyter-widgets/controls",
      "model_module_version": "1.5.0",
      "model_name": "ButtonModel",
      "state": {
       "button_style": "info",
       "description": "Filter Logs",
       "icon": "filter",
       "layout": "IPY_MODEL_3e06fcd528284c8ba08da5c666c462b0",
       "style": "IPY_MODEL_787552563346484e9cc5f3e50ad4d8a2",
       "tooltip": "Filter Logs"
      }
     },
     "32a14b9a49a8407c86186a55b32a5c03": {
      "model_module": "@jupyter-widgets/output",
      "model_module_version": "1.0.0",
      "model_name": "OutputModel",
      "state": {
       "layout": "IPY_MODEL_99f527d89ef34b4e99ead7e5a9ab19d9"
      }
     },
     "334a56a454d84a778b95465b167a1f6a": {
      "model_module": "@jupyter-widgets/controls",
      "model_module_version": "1.5.0",
      "model_name": "ButtonModel",
      "state": {
       "button_style": "info",
       "description": "View Peers",
       "icon": "eye",
       "layout": "IPY_MODEL_dc259cefb88042898d546aa698b37126",
       "style": "IPY_MODEL_8480701d046e49afa0f3ca6123ac0bf1",
       "tooltip": "View Peers"
      }
     },
     "33ea4b1c8b9a4c36adc914b526c74fc0": {
      "model_module": "@jupyter-widgets/controls",
      "model_module_version": "1.5.0",
      "model_name": "CheckboxModel",
      "state": {
       "description": "ERROR",
       "disabled": false,
       "indent": false,
       "layout": "IPY_MODEL_5e2653d9d5024bb3b2c40c23f1ca906c",
       "style": "IPY_MODEL_9454d5b8ed5346abbf09be99621e8f6b",
       "value": false
      }
     },
     "34cd47c233494875873288e28aa90c41": {
      "model_module": "@jupyter-widgets/base",
      "model_module_version": "1.2.0",
      "model_name": "LayoutModel",
      "state": {
       "height": "80px",
       "width": "33%"
      }
     },
     "35973af9edb34d5b91532e44b904ff14": {
      "model_module": "@jupyter-widgets/controls",
      "model_module_version": "1.5.0",
      "model_name": "TextModel",
      "state": {
       "description": "Log Search",
       "layout": "IPY_MODEL_f3d809c8db3d40688552ab5f6b53536e",
       "placeholder": "Enter Search String",
       "style": "IPY_MODEL_788fbc520ef348208435bf0c15c31b0d"
      }
     },
     "35bb8ebae2a2470396b26d0fec570ecf": {
      "model_module": "@jupyter-widgets/controls",
      "model_module_version": "1.5.0",
      "model_name": "ButtonModel",
      "state": {
       "button_style": "info",
       "description": "View Requests",
       "icon": "eye",
       "layout": "IPY_MODEL_77c77399514e4bc89c67d27ce0ff2cc6",
       "style": "IPY_MODEL_a466180438b0447593d83b6a9641dd54",
       "tooltip": "View Requests"
      }
     },
     "35f3866217bc471d8b730e68247af35f": {
      "model_module": "@jupyter-widgets/controls",
      "model_module_version": "1.5.0",
      "model_name": "HBoxModel",
      "state": {
       "children": [
        "IPY_MODEL_52f6c4beaa324aea96338cb3aaede990",
        "IPY_MODEL_708f278904e94436867ae99166d7f1d2"
       ],
       "layout": "IPY_MODEL_25b23ad32c1243b2987b05d1c7df483b"
      }
     },
     "3655f5674450420f97f1c231341a8cf6": {
      "model_module": "@jupyter-widgets/base",
      "model_module_version": "1.2.0",
      "model_name": "LayoutModel",
      "state": {
       "align_items": "stretch",
       "border": "1px solid black",
       "display": "flex",
       "flex_flow": "column"
      }
     },
     "3666262688b64c1bafbd3e4146e9fef5": {
      "model_module": "@jupyter-widgets/base",
      "model_module_version": "1.2.0",
      "model_name": "LayoutModel",
      "state": {}
     },
     "36cda5f221f3409ebe8211cb0849ae50": {
      "model_module": "@jupyter-widgets/controls",
      "model_module_version": "1.5.0",
      "model_name": "DescriptionStyleModel",
      "state": {
       "description_width": ""
      }
     },
     "372072c5440042ca822ec02c8614615c": {
      "model_module": "@jupyter-widgets/output",
      "model_module_version": "1.0.0",
      "model_name": "OutputModel",
      "state": {
       "layout": "IPY_MODEL_dc01346b2054475e8c76b0fe45153333"
      }
     },
     "37b20fcd654e4b948a02b34700260b5c": {
      "model_module": "@jupyter-widgets/controls",
      "model_module_version": "1.5.0",
      "model_name": "HBoxModel",
      "state": {
       "children": [
        "IPY_MODEL_017f0c82c9244014b731733d033ccc91",
        "IPY_MODEL_8571a62d396a41c9810d33a47387254c"
       ],
       "layout": "IPY_MODEL_7ed0a54008c741c9af19340ad8e281e0"
      }
     },
     "37d8a90ed5004fde8f3751e94b291d78": {
      "model_module": "@jupyter-widgets/controls",
      "model_module_version": "1.5.0",
      "model_name": "ButtonModel",
      "state": {
       "button_style": "info",
       "description": "Filter Logs",
       "icon": "filter",
       "layout": "IPY_MODEL_302fb4172c6b48258ffc0d63903e2fdc",
       "style": "IPY_MODEL_649f7cb9c7414379a08889d8af42bcfd",
       "tooltip": "Filter Logs"
      }
     },
     "37facbc349494731b3671a552f99ab8f": {
      "model_module": "@jupyter-widgets/base",
      "model_module_version": "1.2.0",
      "model_name": "LayoutModel",
      "state": {
       "height": "50px",
       "width": "20%"
      }
     },
     "386422c072eb465da25e110e76175530": {
      "model_module": "@jupyter-widgets/base",
      "model_module_version": "1.2.0",
      "model_name": "LayoutModel",
      "state": {}
     },
     "3893b714180a45269df9c5f0fa0039e4": {
      "model_module": "@jupyter-widgets/controls",
      "model_module_version": "1.5.0",
      "model_name": "CheckboxModel",
      "state": {
       "description": "TRACE",
       "disabled": false,
       "indent": false,
       "layout": "IPY_MODEL_e99e772f2180403c954eb0632a91b2f4",
       "style": "IPY_MODEL_db15144184d2400bbdb7d66d721b418f",
       "value": false
      }
     },
     "390c54917d4b469f966743d3f5a4e112": {
      "model_module": "@jupyter-widgets/base",
      "model_module_version": "1.2.0",
      "model_name": "LayoutModel",
      "state": {
       "align_items": "stretch",
       "border": "1px solid black",
       "display": "flex",
       "flex_flow": "column"
      }
     },
     "395827502c694ceaa0c5eaff5fec2fe6": {
      "model_module": "@jupyter-widgets/controls",
      "model_module_version": "1.5.0",
      "model_name": "CheckboxModel",
      "state": {
       "description": "NULL",
       "disabled": false,
       "indent": false,
       "layout": "IPY_MODEL_bf9624db947d46ee90693059a79e40e1",
       "style": "IPY_MODEL_1c8de94459814b0fb9d0b029ccccc116",
       "value": false
      }
     },
     "398c5191ad6a412e921afeda1027626c": {
      "model_module": "@jupyter-widgets/controls",
      "model_module_version": "1.5.0",
      "model_name": "HBoxModel",
      "state": {
       "children": [
        "IPY_MODEL_0c83088a4e644846b022b3b1ec1db2df",
        "IPY_MODEL_a360a41736984acf8582df981467bb49",
        "IPY_MODEL_84f6fcd903c74d178d995471e073639f",
        "IPY_MODEL_59df7490e85c40d8a3c53833083b2bd6"
       ],
       "layout": "IPY_MODEL_9de93f6502cb487da3fe11b6eeac5136"
      }
     },
     "39a8b3acff4c45edb4c5cb78d3221431": {
      "model_module": "@jupyter-widgets/controls",
      "model_module_version": "1.5.0",
      "model_name": "ButtonStyleModel",
      "state": {}
     },
     "3a4988981ea34240bea6a72f55665afb": {
      "model_module": "@jupyter-widgets/controls",
      "model_module_version": "1.5.0",
      "model_name": "DescriptionStyleModel",
      "state": {
       "description_width": ""
      }
     },
     "3a5b4cfe6f334b868415d5f3061ff10a": {
      "model_module": "@jupyter-widgets/controls",
      "model_module_version": "1.5.0",
      "model_name": "CheckboxModel",
      "state": {
       "description": "NULL",
       "disabled": false,
       "indent": false,
       "layout": "IPY_MODEL_80d8a349d5c44fceb5b6d5fd3c15235e",
       "style": "IPY_MODEL_ba3103fad80443a7908fcea4339fc012",
       "value": false
      }
     },
     "3b5ab554c61b48d7b6a182e279d1359a": {
      "model_module": "@jupyter-widgets/output",
      "model_module_version": "1.0.0",
      "model_name": "OutputModel",
      "state": {
       "layout": "IPY_MODEL_6d82499e3f684651a79f95d4b047896c",
       "outputs": [
        {
         "name": "stdout",
         "output_type": "stream",
         "text": "🎤  🎸  ♪♪♪ Starting Duet ♫♫♫  🎻  🎹\n\n♫♫♫ >\u001b[93m DISCLAIMER\u001b[0m: \u001b[1mDuet is an experimental feature currently in beta.\n♫♫♫ > Use at your own risk.\n\u001b[0m\n\u001b[1m\n    > ❤️ \u001b[91mLove\u001b[0m \u001b[92mDuet\u001b[0m? \u001b[93mPlease\u001b[0m \u001b[94mconsider\u001b[0m \u001b[95msupporting\u001b[0m \u001b[91mour\u001b[0m \u001b[93mcommunity!\u001b[0m\n    > https://github.com/sponsors/OpenMined\u001b[1m\n\n♫♫♫ > Punching through firewall to OpenGrid Network Node at:\n♫♫♫ > http://ec2-18-216-8-163.us-east-2.compute.amazonaws.com:5000\n♫♫♫ >\n♫♫♫ > ...waiting for response from OpenGrid Network... \n♫♫♫ > \u001b[92mDONE!\u001b[0m\n♫♫♫ > Connecting...\n"
        },
        {
         "name": "stderr",
         "output_type": "stream",
         "text": "[2021-04-02T18:30:04.709978+0530][CRITICAL][logger]][29455] Skipping torchvision.torchvision.transforms.functional.invert not supported in 0.8.2\n"
        },
        {
         "name": "stdout",
         "output_type": "stream",
         "text": "\n"
        },
        {
         "name": "stderr",
         "output_type": "stream",
         "text": "[2021-04-02T18:30:04.710598+0530][CRITICAL][logger]][29455] Skipping torchvision.torchvision.transforms.functional.posterize not supported in 0.8.2\n[2021-04-02T18:30:04.711239+0530][CRITICAL][logger]][29455] Skipping torchvision.torchvision.transforms.functional.solarize not supported in 0.8.2\n"
        },
        {
         "name": "stdout",
         "output_type": "stream",
         "text": "♫♫♫ > \u001b[92mCONNECTED!\u001b[0m\n"
        },
        {
         "name": "stderr",
         "output_type": "stream",
         "text": "[2021-04-02T18:30:04.996610+0530][CRITICAL][logger]][29455] Skipping torchvision.torchvision.transforms.functional.solarize not supported in 0.8.2\n"
        },
        {
         "name": "stdout",
         "output_type": "stream",
         "text": "\n"
        }
       ]
      }
     },
     "3ba47b9992b74c40a1c477a09b9bcf77": {
      "model_module": "@jupyter-widgets/controls",
      "model_module_version": "1.5.0",
      "model_name": "DescriptionStyleModel",
      "state": {
       "description_width": ""
      }
     },
     "3c39d37b4df94452aa891ab64a686d2d": {
      "model_module": "@jupyter-widgets/base",
      "model_module_version": "1.2.0",
      "model_name": "LayoutModel",
      "state": {
       "height": "80px",
       "width": "33%"
      }
     },
     "3c4790b26f364307b1b2a020b636fd56": {
      "model_module": "@jupyter-widgets/base",
      "model_module_version": "1.2.0",
      "model_name": "LayoutModel",
      "state": {}
     },
     "3c64512c850a4d1981acd551997a8ce6": {
      "model_module": "@jupyter-widgets/output",
      "model_module_version": "1.0.0",
      "model_name": "OutputModel",
      "state": {
       "layout": "IPY_MODEL_e32c686fdfd34b9d8a93aabd6522a5a2"
      }
     },
     "3cb9eaa845b54043ab36744007124651": {
      "model_module": "@jupyter-widgets/controls",
      "model_module_version": "1.5.0",
      "model_name": "CheckboxModel",
      "state": {
       "description": "INFO",
       "disabled": false,
       "indent": false,
       "layout": "IPY_MODEL_7960809047df42768ebcb625c0b90ab7",
       "style": "IPY_MODEL_eba77a07342640aabc956b9aa33f7b77",
       "value": true
      }
     },
     "3cc3f9f95169466c9308602d37648b10": {
      "model_module": "@jupyter-widgets/controls",
      "model_module_version": "1.5.0",
      "model_name": "DescriptionStyleModel",
      "state": {
       "description_width": ""
      }
     },
     "3ce170f67f024ed0a63ff4e938f09c98": {
      "model_module": "@jupyter-widgets/controls",
      "model_module_version": "1.5.0",
      "model_name": "ButtonStyleModel",
      "state": {}
     },
     "3d2327bfec0c4ab2a9cf48016257635c": {
      "model_module": "@jupyter-widgets/base",
      "model_module_version": "1.2.0",
      "model_name": "LayoutModel",
      "state": {}
     },
     "3d342c46ce4a47baa7abadef40a5b4b7": {
      "model_module": "@jupyter-widgets/controls",
      "model_module_version": "1.5.0",
      "model_name": "DescriptionStyleModel",
      "state": {
       "description_width": ""
      }
     },
     "3de06ee0147840a68025d3593d73abfa": {
      "model_module": "@jupyter-widgets/controls",
      "model_module_version": "1.5.0",
      "model_name": "CheckboxModel",
      "state": {
       "description": "INFO",
       "disabled": false,
       "indent": false,
       "layout": "IPY_MODEL_4d2b30f92bbc402eb1f875e44a6d89f7",
       "style": "IPY_MODEL_cf7047da0d24449dbf948d563bbebaac",
       "value": false
      }
     },
     "3e06fcd528284c8ba08da5c666c462b0": {
      "model_module": "@jupyter-widgets/base",
      "model_module_version": "1.2.0",
      "model_name": "LayoutModel",
      "state": {
       "height": "50px",
       "width": "20%"
      }
     },
     "3f1fc831940d4ec592d934d005f76c9e": {
      "model_module": "@jupyter-widgets/controls",
      "model_module_version": "1.5.0",
      "model_name": "DescriptionStyleModel",
      "state": {
       "description_width": ""
      }
     },
     "3f228a8859b74f5aae043e69eb02e858": {
      "model_module": "@jupyter-widgets/controls",
      "model_module_version": "1.5.0",
      "model_name": "ButtonModel",
      "state": {
       "button_style": "success",
       "description": "Launch Duet(with loopback)",
       "icon": "plug",
       "layout": "IPY_MODEL_98ca9100d6604166a6b9dcbb97c5ca2b",
       "style": "IPY_MODEL_5f2c218bf85f49e1ad327b87dc68b603",
       "tooltip": "Launch Duet(with loopback)"
      }
     },
     "3f700b78929a4325bd2ab3ccc63b4af2": {
      "model_module": "@jupyter-widgets/output",
      "model_module_version": "1.0.0",
      "model_name": "OutputModel",
      "state": {
       "layout": "IPY_MODEL_23c3922dc0844845a70d3ba26fb147e2",
       "outputs": [
        {
         "data": {
          "application/vnd.jupyter.widget-view+json": {
           "model_id": "2328a2cd5b71484f9a03ef6c2cb4b9fd",
           "version_major": 2,
           "version_minor": 0
          },
          "text/plain": "QgridWidget(grid_options={'fullWidthRows': True, 'syncColumnCellResize': True, 'forceFitColumns': True, 'defau…"
         },
         "metadata": {},
         "output_type": "display_data"
        }
       ]
      }
     },
     "401cd2eac2134f47a416e09ceebfdf60": {
      "model_module": "@jupyter-widgets/controls",
      "model_module_version": "1.5.0",
      "model_name": "ButtonModel",
      "state": {
       "button_style": "success",
       "description": "Launch Duet",
       "icon": "plug",
       "layout": "IPY_MODEL_8559255c4ca84ddeb4d35b5b92da9103",
       "style": "IPY_MODEL_d5deba34957a4316a13dce57ca164c6b",
       "tooltip": "Launch Duet"
      }
     },
     "4066a7ee80b0436290f7d73e07b6eb40": {
      "model_module": "@jupyter-widgets/base",
      "model_module_version": "1.2.0",
      "model_name": "LayoutModel",
      "state": {
       "height": "60px",
       "width": "40%"
      }
     },
     "40ae04d534304bf0bcfd92805a0ddc0b": {
      "model_module": "@jupyter-widgets/controls",
      "model_module_version": "1.5.0",
      "model_name": "VBoxModel",
      "state": {
       "children": [
        "IPY_MODEL_56d46e29f3514e918a4f3ced62807eb6",
        "IPY_MODEL_b414bc16cca54cccb192a22b76afe7e5"
       ],
       "layout": "IPY_MODEL_8201924428664f16903f20bbffd50d78"
      }
     },
     "40b255852c6b472fbc921f211f15ce5d": {
      "model_module": "@jupyter-widgets/base",
      "model_module_version": "1.2.0",
      "model_name": "LayoutModel",
      "state": {}
     },
     "40ca7da856b3446ea07a0990d42b5390": {
      "model_module": "@jupyter-widgets/controls",
      "model_module_version": "1.5.0",
      "model_name": "DescriptionStyleModel",
      "state": {
       "description_width": ""
      }
     },
     "40d56425aa3e4cb898e4e1446dde30d7": {
      "model_module": "@jupyter-widgets/controls",
      "model_module_version": "1.5.0",
      "model_name": "DescriptionStyleModel",
      "state": {
       "description_width": ""
      }
     },
     "42d7d081eb3040eebf2c55302a602748": {
      "model_module": "@jupyter-widgets/base",
      "model_module_version": "1.2.0",
      "model_name": "LayoutModel",
      "state": {}
     },
     "44c0e5df21a945b9a4559b9b1c0b994f": {
      "model_module": "@jupyter-widgets/controls",
      "model_module_version": "1.5.0",
      "model_name": "DescriptionStyleModel",
      "state": {
       "description_width": ""
      }
     },
     "45226afb9d1b40f9b024b55e6bba0688": {
      "model_module": "@jupyter-widgets/controls",
      "model_module_version": "1.5.0",
      "model_name": "CheckboxModel",
      "state": {
       "description": "CRITICAL",
       "disabled": false,
       "indent": false,
       "layout": "IPY_MODEL_609e072ab3a74a4384a2b32985ace062",
       "style": "IPY_MODEL_3cc3f9f95169466c9308602d37648b10",
       "value": false
      }
     },
     "45279fc5f3b642e59636102728ca2fc4": {
      "model_module": "@jupyter-widgets/base",
      "model_module_version": "1.2.0",
      "model_name": "LayoutModel",
      "state": {}
     },
     "4545fac11ed64dfcab12ab0eead25d78": {
      "model_module": "@jupyter-widgets/controls",
      "model_module_version": "1.5.0",
      "model_name": "ButtonStyleModel",
      "state": {}
     },
     "4556fad816e042758dbacc4caf0c404f": {
      "model_module": "@jupyter-widgets/controls",
      "model_module_version": "1.5.0",
      "model_name": "ButtonStyleModel",
      "state": {}
     },
     "461aa948b6724faf9710a9aea5bd6f6c": {
      "model_module": "@jupyter-widgets/controls",
      "model_module_version": "1.5.0",
      "model_name": "CheckboxModel",
      "state": {
       "description": "ERROR",
       "disabled": false,
       "indent": false,
       "layout": "IPY_MODEL_1e3801004002428d848bb52b70f99589",
       "style": "IPY_MODEL_8bee9a97eeb645a5ab8b536921680d86",
       "value": false
      }
     },
     "46dbaa1d38ac43d9b79f4142293b25a7": {
      "model_module": "@jupyter-widgets/base",
      "model_module_version": "1.2.0",
      "model_name": "LayoutModel",
      "state": {}
     },
     "46ea2c41ba954a8d921e3b0336bf0e45": {
      "model_module": "@jupyter-widgets/controls",
      "model_module_version": "1.5.0",
      "model_name": "DescriptionStyleModel",
      "state": {
       "description_width": ""
      }
     },
     "47094bc7d70d4a85a796f6c680de9eca": {
      "model_module": "@jupyter-widgets/controls",
      "model_module_version": "1.5.0",
      "model_name": "ButtonStyleModel",
      "state": {}
     },
     "4740c048279f4e56be06a7795a259ad6": {
      "model_module": "@jupyter-widgets/controls",
      "model_module_version": "1.5.0",
      "model_name": "ButtonStyleModel",
      "state": {}
     },
     "479123aa83b046419874e5a3de987d2f": {
      "model_module": "@jupyter-widgets/controls",
      "model_module_version": "1.5.0",
      "model_name": "HBoxModel",
      "state": {
       "children": [
        "IPY_MODEL_3281598a1449481bae000463258e7036",
        "IPY_MODEL_d2488bc8f1a1439fbbde75dedd201690"
       ],
       "layout": "IPY_MODEL_6dcb6d271d414bbea658d1d344e1a1ef"
      }
     },
     "481963bc5bd84e8bbf74838f878c2ccd": {
      "model_module": "qgrid",
      "model_module_version": "^1.1.3",
      "model_name": "QgridModel",
      "state": {
       "_columns": {
        "LOG TYPE": {
         "cssClass": "string",
         "defaultSortAsc": true,
         "editable": true,
         "field": "LOG TYPE",
         "id": "LOG TYPE",
         "minWidth": 30,
         "name": "LOG TYPE",
         "position": 2,
         "resizable": true,
         "sortable": true,
         "toolTip": "",
         "type": "string"
        },
        "MESSAGE": {
         "cssClass": "string",
         "defaultSortAsc": true,
         "editable": true,
         "field": "MESSAGE",
         "id": "MESSAGE",
         "minWidth": 30,
         "name": "MESSAGE",
         "position": 3,
         "resizable": true,
         "sortable": true,
         "toolTip": "",
         "type": "string"
        },
        "index": {
         "cssClass": "integer first-idx-col idx-col first-idx-col idx-col",
         "defaultSortAsc": true,
         "editable": true,
         "field": "index",
         "first_index": true,
         "id": "index",
         "index_display_text": "",
         "is_index": true,
         "level": 0,
         "minWidth": 30,
         "name": "",
         "position": 0,
         "resizable": true,
         "sortable": true,
         "toolTip": "",
         "type": "integer"
        },
        "qgrid_unfiltered_index": {
         "cssClass": "integer",
         "defaultSortAsc": true,
         "editable": true,
         "field": "qgrid_unfiltered_index",
         "id": "qgrid_unfiltered_index",
         "maxWidth": null,
         "minWidth": 30,
         "name": "qgrid_unfiltered_index",
         "position": 1,
         "resizable": true,
         "sortable": true,
         "toolTip": "",
         "type": "integer",
         "width": null
        }
       },
       "_df_json": "{\"schema\":{\"fields\":[{\"name\":\"index\",\"type\":\"integer\"},{\"name\":\"qgrid_unfiltered_index\",\"type\":\"integer\"},{\"name\":\"LOG TYPE\",\"type\":\"string\"},{\"name\":\"MESSAGE\",\"type\":\"string\"}],\"primaryKey\":[\"index\"],\"pandas_version\":\"0.20.0\"},\"data\":[{\"index\":0,\"qgrid_unfiltered_index\":0,\"LOG TYPE\":\" INFO     \",\"MESSAGE\":\" syft.widget_logger:log_and_print:84 - \\ud83c\\udfa4  \\ud83c\\udfb8  \\u266a\\u266a\\u266a Starting Duet \\u266b\\u266b\\u266b  \\ud83c\\udfbb  \\ud83c\\udfb9\\n\\n\"},{\"index\":1,\"qgrid_unfiltered_index\":1,\"LOG TYPE\":\" INFO     \",\"MESSAGE\":\" syft.widget_logger:log_and_print:84 - \\u266b\\u266b\\u266b >\\u001b[93m DISCLAIMER\\u001b[0m: \\u001b[1mDuet is an experimental feature currently in beta.\\n\\u266b\\u266b\\u266b > Use at your own risk.\\n\\u001b[0m\\n\"},{\"index\":2,\"qgrid_unfiltered_index\":2,\"LOG TYPE\":\" INFO     \",\"MESSAGE\":\" syft.widget_logger:log_and_print:84 - \\u001b[1m\\n    > \\u2764\\ufe0f \\u001b[91mLove\\u001b[0m \\u001b[92mDuet\\u001b[0m? \\u001b[93mPlease\\u001b[0m \\u001b[94mconsider\\u001b[0m \\u001b[95msupporting\\u001b[0m \\u001b[91mour\\u001b[0m \\u001b[93mcommunity!\\u001b[0m\\n    > https:\\/\\/github.com\\/sponsors\\/OpenMined\\u001b[1m\\n\\n\"},{\"index\":3,\"qgrid_unfiltered_index\":3,\"LOG TYPE\":\" INFO     \",\"MESSAGE\":\" syft.widget_logger:log_and_print:84 - \\u266b\\u266b\\u266b > Punching through firewall to OpenGrid Network Node at:\\n\"},{\"index\":4,\"qgrid_unfiltered_index\":4,\"LOG TYPE\":\" INFO     \",\"MESSAGE\":\" syft.widget_logger:log_and_print:84 - \\u266b\\u266b\\u266b > http:\\/\\/ec2-18-216-8-163.us-east-2.compute.amazonaws.com:5000\\n\"},{\"index\":5,\"qgrid_unfiltered_index\":5,\"LOG TYPE\":\" INFO     \",\"MESSAGE\":\" syft.widget_logger:log_and_print:84 - \\u266b\\u266b\\u266b >\\n\"},{\"index\":6,\"qgrid_unfiltered_index\":6,\"LOG TYPE\":\" INFO     \",\"MESSAGE\":\" syft.widget_logger:log_and_print:84 - \\u266b\\u266b\\u266b > ...waiting for response from OpenGrid Network... \\n\"},{\"index\":7,\"qgrid_unfiltered_index\":7,\"LOG TYPE\":\" INFO     \",\"MESSAGE\":\" syft.logger:log_and_print:76 - Skipping torch.Tensor.xpu not supported in 1.7.1\\n\"},{\"index\":8,\"qgrid_unfiltered_index\":8,\"LOG TYPE\":\" INFO     \",\"MESSAGE\":\" syft.logger:log_and_print:76 - Skipping torch.Tensor.tile not supported in 1.7.1\\n\"},{\"index\":9,\"qgrid_unfiltered_index\":9,\"LOG TYPE\":\" INFO     \",\"MESSAGE\":\" syft.logger:log_and_print:76 - Skipping torch.Tensor.fmax not supported in 1.7.1\\n\"},{\"index\":10,\"qgrid_unfiltered_index\":10,\"LOG TYPE\":\" INFO     \",\"MESSAGE\":\" syft.logger:log_and_print:76 - Skipping torch.Tensor.ldexp_ not supported in 1.7.1\\n\"},{\"index\":11,\"qgrid_unfiltered_index\":11,\"LOG TYPE\":\" INFO     \",\"MESSAGE\":\" syft.logger:log_and_print:76 - Skipping torch.Tensor.sinc not supported in 1.7.1\\n\"},{\"index\":12,\"qgrid_unfiltered_index\":12,\"LOG TYPE\":\" INFO     \",\"MESSAGE\":\" syft.logger:log_and_print:76 - Skipping torch.kron not supported in 1.7.1\\n\"},{\"index\":13,\"qgrid_unfiltered_index\":13,\"LOG TYPE\":\" INFO     \",\"MESSAGE\":\" syft.logger:log_and_print:76 - Skipping torch.Tensor.nan_to_num not supported in 1.7.1\\n\"},{\"index\":14,\"qgrid_unfiltered_index\":14,\"LOG TYPE\":\" INFO     \",\"MESSAGE\":\" syft.logger:log_and_print:76 - Skipping torch.msort not supported in 1.7.1\\n\"},{\"index\":15,\"qgrid_unfiltered_index\":15,\"LOG TYPE\":\" INFO     \",\"MESSAGE\":\" syft.logger:log_and_print:76 - Skipping torch.row_stack not supported in 1.7.1\\n\"},{\"index\":16,\"qgrid_unfiltered_index\":16,\"LOG TYPE\":\" INFO     \",\"MESSAGE\":\" syft.logger:log_and_print:76 - Skipping torch.Tensor.new_empty_strided not supported in 1.7.1\\n\"},{\"index\":17,\"qgrid_unfiltered_index\":17,\"LOG TYPE\":\" INFO     \",\"MESSAGE\":\" syft.logger:log_and_print:76 - Skipping torch.Tensor.ravel not supported in 1.7.1\\n\"},{\"index\":18,\"qgrid_unfiltered_index\":18,\"LOG TYPE\":\" INFO     \",\"MESSAGE\":\" syft.logger:log_and_print:76 - Skipping torch.Tensor.swapdims_ not supported in 1.7.1\\n\"},{\"index\":19,\"qgrid_unfiltered_index\":19,\"LOG TYPE\":\" INFO     \",\"MESSAGE\":\" syft.logger:log_and_print:76 - Skipping torch.moveaxis not supported in 1.7.1\\n\"},{\"index\":20,\"qgrid_unfiltered_index\":20,\"LOG TYPE\":\" INFO     \",\"MESSAGE\":\" syft.logger:log_and_print:76 - Skipping torch.Tensor.swapaxes not supported in 1.7.1\\n\"},{\"index\":21,\"qgrid_unfiltered_index\":21,\"LOG TYPE\":\" INFO     \",\"MESSAGE\":\" syft.logger:log_and_print:76 - Skipping torch.tensor_split not supported in 1.7.1\\n\"},{\"index\":22,\"qgrid_unfiltered_index\":22,\"LOG TYPE\":\" INFO     \",\"MESSAGE\":\" syft.logger:log_and_print:76 - Skipping torch.Tensor.tensor_split not supported in 1.7.1\\n\"},{\"index\":23,\"qgrid_unfiltered_index\":23,\"LOG TYPE\":\" INFO     \",\"MESSAGE\":\" syft.logger:log_and_print:76 - Skipping torch.tile not supported in 1.7.1\\n\"},{\"index\":24,\"qgrid_unfiltered_index\":24,\"LOG TYPE\":\" INFO     \",\"MESSAGE\":\" syft.logger:log_and_print:76 - Skipping torch.Tensor.float_power_ not supported in 1.7.1\\n\"},{\"index\":25,\"qgrid_unfiltered_index\":25,\"LOG TYPE\":\" INFO     \",\"MESSAGE\":\" syft.logger:log_and_print:76 - Skipping torch.Tensor.broadcast_to not supported in 1.7.1\\n\"},{\"index\":26,\"qgrid_unfiltered_index\":26,\"LOG TYPE\":\" INFO     \",\"MESSAGE\":\" syft.logger:log_and_print:76 - Skipping torch.fmin not supported in 1.7.1\\n\"},{\"index\":27,\"qgrid_unfiltered_index\":27,\"LOG TYPE\":\" INFO     \",\"MESSAGE\":\" syft.logger:log_and_print:76 - Skipping torch.ldexp not supported in 1.7.1\\n\"},{\"index\":28,\"qgrid_unfiltered_index\":28,\"LOG TYPE\":\" INFO     \",\"MESSAGE\":\" syft.logger:log_and_print:76 - Skipping torch.Tensor.swapdims not supported in 1.7.1\\n\"},{\"index\":29,\"qgrid_unfiltered_index\":29,\"LOG TYPE\":\" INFO     \",\"MESSAGE\":\" syft.logger:log_and_print:76 - Skipping torch.igamma not supported in 1.7.1\\n\"},{\"index\":30,\"qgrid_unfiltered_index\":30,\"LOG TYPE\":\" INFO     \",\"MESSAGE\":\" syft.logger:log_and_print:76 - Skipping torch.Tensor.nan_to_num_ not supported in 1.7.1\\n\"},{\"index\":31,\"qgrid_unfiltered_index\":31,\"LOG TYPE\":\" INFO     \",\"MESSAGE\":\" syft.logger:log_and_print:76 - Skipping torch.Tensor.copysign not supported in 1.7.1\\n\"},{\"index\":32,\"qgrid_unfiltered_index\":32,\"LOG TYPE\":\" INFO     \",\"MESSAGE\":\" syft.logger:log_and_print:76 - Skipping torch.Tensor.swapaxes_ not supported in 1.7.1\\n\"},{\"index\":33,\"qgrid_unfiltered_index\":33,\"LOG TYPE\":\" INFO     \",\"MESSAGE\":\" syft.logger:log_and_print:76 - Skipping torch.Tensor.cumprod_ not supported in 1.7.1\\n\"},{\"index\":34,\"qgrid_unfiltered_index\":34,\"LOG TYPE\":\" INFO     \",\"MESSAGE\":\" syft.logger:log_and_print:76 - Skipping torch.Tensor.ldexp not supported in 1.7.1\\n\"},{\"index\":35,\"qgrid_unfiltered_index\":35,\"LOG TYPE\":\" INFO     \",\"MESSAGE\":\" syft.logger:log_and_print:76 - Skipping torch.Tensor.igamma_ not supported in 1.7.1\\n\"},{\"index\":36,\"qgrid_unfiltered_index\":36,\"LOG TYPE\":\" INFO     \",\"MESSAGE\":\" syft.logger:log_and_print:76 - Skipping torch.float_power not supported in 1.7.1\\n\"},{\"index\":37,\"qgrid_unfiltered_index\":37,\"LOG TYPE\":\" INFO     \",\"MESSAGE\":\" syft.logger:log_and_print:76 - Skipping torch.Tensor.igammac_ not supported in 1.7.1\\n\"},{\"index\":38,\"qgrid_unfiltered_index\":38,\"LOG TYPE\":\" INFO     \",\"MESSAGE\":\" syft.logger:log_and_print:76 - Skipping torch.xlogy not supported in 1.7.1\\n\"},{\"index\":39,\"qgrid_unfiltered_index\":39,\"LOG TYPE\":\" INFO     \",\"MESSAGE\":\" syft.logger:log_and_print:76 - Skipping torch.copysign not supported in 1.7.1\\n\"},{\"index\":40,\"qgrid_unfiltered_index\":40,\"LOG TYPE\":\" INFO     \",\"MESSAGE\":\" syft.logger:log_and_print:76 - Skipping torch.nanmedian not supported in 1.7.1\\n\"},{\"index\":41,\"qgrid_unfiltered_index\":41,\"LOG TYPE\":\" INFO     \",\"MESSAGE\":\" syft.logger:log_and_print:76 - Skipping torch.igammac not supported in 1.7.1\\n\"},{\"index\":42,\"qgrid_unfiltered_index\":42,\"LOG TYPE\":\" INFO     \",\"MESSAGE\":\" syft.logger:log_and_print:76 - Skipping torch.Tensor.cumsum_ not supported in 1.7.1\\n\"},{\"index\":43,\"qgrid_unfiltered_index\":43,\"LOG TYPE\":\" INFO     \",\"MESSAGE\":\" syft.logger:log_and_print:76 - Skipping torch.diff not supported in 1.7.1\\n\"},{\"index\":44,\"qgrid_unfiltered_index\":44,\"LOG TYPE\":\" INFO     \",\"MESSAGE\":\" syft.logger:log_and_print:76 - Skipping torch.Tensor.igamma not supported in 1.7.1\\n\"},{\"index\":45,\"qgrid_unfiltered_index\":45,\"LOG TYPE\":\" INFO     \",\"MESSAGE\":\" syft.logger:log_and_print:76 - Skipping torch.sinc not supported in 1.7.1\\n\"},{\"index\":46,\"qgrid_unfiltered_index\":46,\"LOG TYPE\":\" INFO     \",\"MESSAGE\":\" syft.logger:log_and_print:76 - Skipping torch.Tensor.igammac not supported in 1.7.1\\n\"},{\"index\":47,\"qgrid_unfiltered_index\":47,\"LOG TYPE\":\" INFO     \",\"MESSAGE\":\" syft.logger:log_and_print:76 - Skipping torch.Tensor.kron not supported in 1.7.1\\n\"},{\"index\":48,\"qgrid_unfiltered_index\":48,\"LOG TYPE\":\" INFO     \",\"MESSAGE\":\" syft.logger:log_and_print:76 - Skipping torch.column_stack not supported in 1.7.1\\n\"},{\"index\":49,\"qgrid_unfiltered_index\":49,\"LOG TYPE\":\" INFO     \",\"MESSAGE\":\" syft.logger:log_and_print:76 - Skipping torch.Tensor.msort not supported in 1.7.1\\n\"},{\"index\":50,\"qgrid_unfiltered_index\":50,\"LOG TYPE\":\" INFO     \",\"MESSAGE\":\" syft.logger:log_and_print:76 - Skipping torch.pixel_unshuffle not supported in 1.7.1\\n\"},{\"index\":51,\"qgrid_unfiltered_index\":51,\"LOG TYPE\":\" INFO     \",\"MESSAGE\":\" syft.logger:log_and_print:76 - Skipping torch.Tensor.fmin not supported in 1.7.1\\n\"},{\"index\":52,\"qgrid_unfiltered_index\":52,\"LOG TYPE\":\" INFO     \",\"MESSAGE\":\" syft.logger:log_and_print:76 - Skipping torch.Tensor.xlogy not supported in 1.7.1\\n\"},{\"index\":53,\"qgrid_unfiltered_index\":53,\"LOG TYPE\":\" INFO     \",\"MESSAGE\":\" syft.logger:log_and_print:76 - Skipping torch.Tensor.moveaxis not supported in 1.7.1\\n\"},{\"index\":54,\"qgrid_unfiltered_index\":54,\"LOG TYPE\":\" INFO     \",\"MESSAGE\":\" syft.logger:log_and_print:76 - Skipping torch.swapaxes not supported in 1.7.1\\n\"},{\"index\":55,\"qgrid_unfiltered_index\":55,\"LOG TYPE\":\" INFO     \",\"MESSAGE\":\" syft.logger:log_and_print:76 - Skipping torch.nan_to_num not supported in 1.7.1\\n\"},{\"index\":56,\"qgrid_unfiltered_index\":56,\"LOG TYPE\":\" INFO     \",\"MESSAGE\":\" syft.logger:log_and_print:76 - Skipping torch.inner not supported in 1.7.1\\n\"},{\"index\":57,\"qgrid_unfiltered_index\":57,\"LOG TYPE\":\" INFO     \",\"MESSAGE\":\" syft.logger:log_and_print:76 - Skipping torch.fmax not supported in 1.7.1\\n\"},{\"index\":58,\"qgrid_unfiltered_index\":58,\"LOG TYPE\":\" INFO     \",\"MESSAGE\":\" syft.logger:log_and_print:76 - Skipping torch.Tensor.float_power not supported in 1.7.1\\n\"},{\"index\":59,\"qgrid_unfiltered_index\":59,\"LOG TYPE\":\" INFO     \",\"MESSAGE\":\" syft.logger:log_and_print:76 - Skipping torch.Tensor.nanmedian not supported in 1.7.1\\n\"},{\"index\":60,\"qgrid_unfiltered_index\":60,\"LOG TYPE\":\" INFO     \",\"MESSAGE\":\" syft.logger:log_and_print:76 - Skipping torch.Tensor.sinc_ not supported in 1.7.1\\n\"},{\"index\":61,\"qgrid_unfiltered_index\":61,\"LOG TYPE\":\" INFO     \",\"MESSAGE\":\" syft.logger:log_and_print:76 - Skipping torch.Tensor.copysign_ not supported in 1.7.1\\n\"},{\"index\":62,\"qgrid_unfiltered_index\":62,\"LOG TYPE\":\" INFO     \",\"MESSAGE\":\" syft.logger:log_and_print:76 - Skipping torch.ravel not supported in 1.7.1\\n\"},{\"index\":63,\"qgrid_unfiltered_index\":63,\"LOG TYPE\":\" INFO     \",\"MESSAGE\":\" syft.logger:log_and_print:76 - Skipping torch.broadcast_to not supported in 1.7.1\\n\"},{\"index\":64,\"qgrid_unfiltered_index\":64,\"LOG TYPE\":\" INFO     \",\"MESSAGE\":\" syft.logger:log_and_print:76 - Skipping torch.Tensor.diff not supported in 1.7.1\\n\"},{\"index\":65,\"qgrid_unfiltered_index\":65,\"LOG TYPE\":\" INFO     \",\"MESSAGE\":\" syft.logger:log_and_print:76 - Skipping torch.Tensor.xlogy_ not supported in 1.7.1\\n\"},{\"index\":66,\"qgrid_unfiltered_index\":66,\"LOG TYPE\":\" INFO     \",\"MESSAGE\":\" syft.logger:log_and_print:76 - Skipping torch.swapdims not supported in 1.7.1\\n\"},{\"index\":67,\"qgrid_unfiltered_index\":67,\"LOG TYPE\":\" INFO     \",\"MESSAGE\":\" syft.logger:log_and_print:76 - Skipping torch.Tensor.inner not supported in 1.7.1\\n\"},{\"index\":68,\"qgrid_unfiltered_index\":68,\"LOG TYPE\":\" DEBUG    \",\"MESSAGE\":\" syft.logger:log_and_print:76 - > Creating \\ud83d\\udce1 [\\ud83d\\udd17] om-net Client (NetworkClient)@<UID:\\ud83d\\ude5a\\ud83d\\ude8b>\\n\"},{\"index\":69,\"qgrid_unfiltered_index\":69,\"LOG TYPE\":\" DEBUG    \",\"MESSAGE\":\" syft.logger:log_and_print:76 - > Creating \\u2709\\ufe0f  (RegisterNewPeerMessage) <UID:\\ud83d\\ude4c\\ud83d\\udee1>\\n\"},{\"index\":70,\"qgrid_unfiltered_index\":70,\"LOG TYPE\":\" DEBUG    \",\"MESSAGE\":\" syft.logger:log_and_print:76 - > \\ud83d\\udce1 [\\ud83d\\udd17] om-net Client (NetworkClient)@<UID:\\ud83d\\ude5a\\ud83d\\ude8b> Signing \\u2709\\ufe0f  (RegisterNewPeerMessage) with \\ud83d\\ude99\\n\"},{\"index\":71,\"qgrid_unfiltered_index\":71,\"LOG TYPE\":\" DEBUG    \",\"MESSAGE\":\" syft.logger:log_and_print:76 - > Signing with \\ud83d\\ude99\\n\"},{\"index\":72,\"qgrid_unfiltered_index\":72,\"LOG TYPE\":\" DEBUG    \",\"MESSAGE\":\" syft.logger:log_and_print:76 - Serializing syft.grid.services.signaling_service.RegisterNewPeerMessage\\n\"},{\"index\":73,\"qgrid_unfiltered_index\":73,\"LOG TYPE\":\" DEBUG    \",\"MESSAGE\":\" syft.logger:log_and_print:76 - > Creating Signed \\u2709\\ufe0f \\ud83d\\udd0f (SignedImmediateSyftMessageWithReply) <UID:\\ud83d\\ude4c\\ud83d\\udee1>\\n\"},{\"index\":74,\"qgrid_unfiltered_index\":74,\"LOG TYPE\":\" DEBUG    \",\"MESSAGE\":\" syft.logger:log_and_print:76 - Serializing syft.core.common.message.SignedImmediateSyftMessageWithReply\\n\"},{\"index\":75,\"qgrid_unfiltered_index\":75,\"LOG TYPE\":\" DEBUG    \",\"MESSAGE\":\" syft.logger:log_and_print:76 - > \\u2709\\ufe0f \\ud83d\\udd0f -> Proto \\ud83d\\udd22 <UID: 1d6a50ea788f436eb11ac659afe33403>\\n\"},{\"index\":76,\"qgrid_unfiltered_index\":76,\"LOG TYPE\":\" DEBUG    \",\"MESSAGE\":\" syft.logger:log_and_print:76 - > Creating \\u2709\\ufe0f  (PeerSuccessfullyRegistered) <UID:\\ud83d\\udeb0\\ud83d\\ude82>\\n\"},{\"index\":77,\"qgrid_unfiltered_index\":77,\"LOG TYPE\":\" DEBUG    \",\"MESSAGE\":\" syft.logger:log_and_print:76 - > Creating Signed \\u2709\\ufe0f \\ud83d\\udd0f (SignedImmediateSyftMessageWithoutReply) <UID:\\ud83d\\udeb0\\ud83d\\ude82>\\n\"},{\"index\":78,\"qgrid_unfiltered_index\":78,\"LOG TYPE\":\" DEBUG    \",\"MESSAGE\":\" syft.logger:log_and_print:76 - > \\u2709\\ufe0f \\ud83d\\udd0f <- \\ud83d\\udd22 Proto\\n\"},{\"index\":79,\"qgrid_unfiltered_index\":79,\"LOG TYPE\":\" DEBUG    \",\"MESSAGE\":\" syft.logger:log_and_print:76 - > Creating \\u2709\\ufe0f  (PeerSuccessfullyRegistered) <UID:\\ud83d\\udeb0\\ud83d\\ude82>\\n\"},{\"index\":80,\"qgrid_unfiltered_index\":80,\"LOG TYPE\":\" INFO     \",\"MESSAGE\":\" syft.widget_logger:log_and_print:84 - \\u266b\\u266b\\u266b > \\u001b[92mDONE!\\u001b[0m\\n\"},{\"index\":81,\"qgrid_unfiltered_index\":81,\"LOG TYPE\":\" DEBUG    \",\"MESSAGE\":\" syft.logger:log_and_print:76 - > Creating \\ud83d\\uddc3\\ufe0f (MemoryStore) {}\\n\"},{\"index\":82,\"qgrid_unfiltered_index\":82,\"LOG TYPE\":\" DEBUG    \",\"MESSAGE\":\" syft.logger:log_and_print:76 - Created MemoryStore.\\n\"},{\"index\":83,\"qgrid_unfiltered_index\":83,\"LOG TYPE\":\" DEBUG    \",\"MESSAGE\":\" syft.logger:log_and_print:76 - > Creating \\ud83c\\udff0 Launcher (Domain)@<UID:\\ud83d\\udeb3\\ud83d\\ude5c>\\n\"},{\"index\":84,\"qgrid_unfiltered_index\":84,\"LOG TYPE\":\" DEBUG    \",\"MESSAGE\":\" syft.logger:log_and_print:82 - failed to log exception. info() missing 1 required positional argument: '_Logger__message'\\n\"},{\"index\":85,\"qgrid_unfiltered_index\":85,\"LOG TYPE\":\" INFO     \",\"MESSAGE\":\" syft.logger:log_and_print:76 - \\u266b\\u266b\\u266b > \\u001b[95mSTEP 1:\\u001b[0m Send the following code to your Duet Partner!\\n\"},{\"index\":86,\"qgrid_unfiltered_index\":86,\"LOG TYPE\":\" INFO     \",\"MESSAGE\":\" syft.logger:log_and_print:76 - \\nimport syft as sy\\n\"},{\"index\":87,\"qgrid_unfiltered_index\":87,\"LOG TYPE\":\" INFO     \",\"MESSAGE\":\" syft.logger:log_and_print:76 - duet = sy.join_duet(loopback=True)\\n\"},{\"index\":88,\"qgrid_unfiltered_index\":88,\"LOG TYPE\":\" DEBUG    \",\"MESSAGE\":\" syft.logger:log_and_print:82 - failed to log exception. info() missing 1 required positional argument: '_Logger__message'\\n\"},{\"index\":89,\"qgrid_unfiltered_index\":89,\"LOG TYPE\":\" DEBUG    \",\"MESSAGE\":\" syft.logger:log_and_print:76 - client not ready\\n\"},{\"index\":90,\"qgrid_unfiltered_index\":90,\"LOG TYPE\":\" DEBUG    \",\"MESSAGE\":\" syft.logger:log_and_print:76 - client not ready\\n\"},{\"index\":91,\"qgrid_unfiltered_index\":91,\"LOG TYPE\":\" DEBUG    \",\"MESSAGE\":\" syft.logger:log_and_print:76 - client not ready\\n\"},{\"index\":92,\"qgrid_unfiltered_index\":92,\"LOG TYPE\":\" DEBUG    \",\"MESSAGE\":\" syft.logger:log_and_print:76 - client not ready\\n\"},{\"index\":93,\"qgrid_unfiltered_index\":93,\"LOG TYPE\":\" DEBUG    \",\"MESSAGE\":\" syft.logger:log_and_print:76 - client not ready\\n\"},{\"index\":94,\"qgrid_unfiltered_index\":94,\"LOG TYPE\":\" DEBUG    \",\"MESSAGE\":\" syft.logger:log_and_print:76 - client not ready\\n\"},{\"index\":95,\"qgrid_unfiltered_index\":95,\"LOG TYPE\":\" DEBUG    \",\"MESSAGE\":\" syft.logger:log_and_print:76 - client not ready\\n\"},{\"index\":96,\"qgrid_unfiltered_index\":96,\"LOG TYPE\":\" DEBUG    \",\"MESSAGE\":\" syft.logger:log_and_print:76 - client not ready\\n\"},{\"index\":97,\"qgrid_unfiltered_index\":97,\"LOG TYPE\":\" DEBUG    \",\"MESSAGE\":\" syft.logger:log_and_print:76 - client not ready\\n\"},{\"index\":98,\"qgrid_unfiltered_index\":98,\"LOG TYPE\":\" DEBUG    \",\"MESSAGE\":\" syft.logger:log_and_print:76 - client not ready\\n\"},{\"index\":99,\"qgrid_unfiltered_index\":99,\"LOG TYPE\":\" DEBUG    \",\"MESSAGE\":\" syft.logger:log_and_print:76 - client not ready\\n\"}]}",
       "_df_range": [
        0,
        100
       ],
       "_editable_rows": {},
       "_index_col_name": "qgrid_unfiltered_index",
       "_interval_columns": [],
       "_model_module_version": "^1.1.3",
       "_multi_index": false,
       "_row_count": 269,
       "_row_styles": {},
       "_sort_ascending": true,
       "_sort_field": null,
       "_view_module_version": "^1.1.3",
       "_viewport_range": [
        0,
        16
       ],
       "grid_options": {
        "autoEdit": false,
        "boldIndex": true,
        "defaultColumnWidth": 150,
        "editable": true,
        "enableColumnReorder": false,
        "enableTextSelectionOnCells": true,
        "explicitInitialization": true,
        "filterable": true,
        "forceFitColumns": true,
        "fullWidthRows": true,
        "highlightSelectedCell": false,
        "highlightSelectedRow": true,
        "maxVisibleRows": 15,
        "minVisibleRows": 8,
        "rowHeight": 28,
        "sortable": true,
        "syncColumnCellResize": true
       },
       "id": "5c208ee9-88b2-41ad-9221-f778e5734a91",
       "layout": "IPY_MODEL_18056853b7184d58aa31275c206b3830",
       "precision": 5,
       "show_toolbar": true
      }
     },
     "48ad06e5e029444eba05aeca6b9f3573": {
      "model_module": "@jupyter-widgets/controls",
      "model_module_version": "1.5.0",
      "model_name": "CheckboxModel",
      "state": {
       "description": "EXCEPTION",
       "disabled": false,
       "indent": false,
       "layout": "IPY_MODEL_3666262688b64c1bafbd3e4146e9fef5",
       "style": "IPY_MODEL_2943d4a6596346f1bbe045a118a648c1",
       "value": false
      }
     },
     "4935efc889f4478e9680d8a2b775f659": {
      "model_module": "@jupyter-widgets/controls",
      "model_module_version": "1.5.0",
      "model_name": "DescriptionStyleModel",
      "state": {
       "description_width": ""
      }
     },
     "499da1f04c5644cc98448ed482000068": {
      "model_module": "@jupyter-widgets/controls",
      "model_module_version": "1.5.0",
      "model_name": "CheckboxModel",
      "state": {
       "description": "ERROR",
       "disabled": false,
       "indent": false,
       "layout": "IPY_MODEL_386422c072eb465da25e110e76175530",
       "style": "IPY_MODEL_63f64450e59b47c5adaf037ee8734a59",
       "value": false
      }
     },
     "4a35f120168c4021b73d47f8e664491e": {
      "model_module": "@jupyter-widgets/base",
      "model_module_version": "1.2.0",
      "model_name": "LayoutModel",
      "state": {
       "height": "60px",
       "width": "40%"
      }
     },
     "4a45e68b4a5b40818c68cbbe1a1e88d3": {
      "model_module": "@jupyter-widgets/base",
      "model_module_version": "1.2.0",
      "model_name": "LayoutModel",
      "state": {}
     },
     "4a5646f756d7472e971ac9f60c3cb151": {
      "model_module": "@jupyter-widgets/output",
      "model_module_version": "1.0.0",
      "model_name": "OutputModel",
      "state": {
       "layout": "IPY_MODEL_3244f94d6bfc4a208f6682f22414d977"
      }
     },
     "4bae237062b040aa982f804503b5de02": {
      "model_module": "@jupyter-widgets/controls",
      "model_module_version": "1.5.0",
      "model_name": "ButtonStyleModel",
      "state": {}
     },
     "4bfd0d3fc88446b4ae5078d910180e2d": {
      "model_module": "@jupyter-widgets/controls",
      "model_module_version": "1.5.0",
      "model_name": "ButtonModel",
      "state": {
       "button_style": "danger",
       "description": "Deny All Requests",
       "icon": "thumbs-down",
       "layout": "IPY_MODEL_aa5af81c3a694ce2b0cfb1d073385714",
       "style": "IPY_MODEL_018e0ef208a1474090e2efa4f959f191",
       "tooltip": "Deny All Requests"
      }
     },
     "4c0e08ee0085415bb905c8069bac322a": {
      "model_module": "@jupyter-widgets/controls",
      "model_module_version": "1.5.0",
      "model_name": "CheckboxModel",
      "state": {
       "description": "EXCEPTION",
       "disabled": false,
       "indent": false,
       "layout": "IPY_MODEL_c40000dab0594d0ea5512cd4197708c1",
       "style": "IPY_MODEL_8003a01e5ea045de94b4828a80b07fab",
       "value": false
      }
     },
     "4c7943e2da1c491e8d9073d3cc04d69c": {
      "model_module": "@jupyter-widgets/base",
      "model_module_version": "1.2.0",
      "model_name": "LayoutModel",
      "state": {}
     },
     "4caf9fe26485401c8c814b2b09f1d93d": {
      "model_module": "@jupyter-widgets/base",
      "model_module_version": "1.2.0",
      "model_name": "LayoutModel",
      "state": {
       "align_items": "stretch",
       "border": "1px solid black",
       "display": "flex",
       "flex_flow": "column"
      }
     },
     "4ce77805a5f5497fb0081cc5bf3c8231": {
      "model_module": "@jupyter-widgets/controls",
      "model_module_version": "1.5.0",
      "model_name": "CheckboxModel",
      "state": {
       "description": "TRACE",
       "disabled": false,
       "indent": false,
       "layout": "IPY_MODEL_d125b6eef31d4effa0b8cb571b702261",
       "style": "IPY_MODEL_a5aaced55bf14bbb85e20bc04ef86a59",
       "value": false
      }
     },
     "4d2b30f92bbc402eb1f875e44a6d89f7": {
      "model_module": "@jupyter-widgets/base",
      "model_module_version": "1.2.0",
      "model_name": "LayoutModel",
      "state": {}
     },
     "4d331c7b8ff8433f8aaa939e4e97d036": {
      "model_module": "@jupyter-widgets/base",
      "model_module_version": "1.2.0",
      "model_name": "LayoutModel",
      "state": {}
     },
     "4eb82f5694d2473fadcc88a5f06c9139": {
      "model_module": "@jupyter-widgets/controls",
      "model_module_version": "1.5.0",
      "model_name": "ButtonModel",
      "state": {
       "button_style": "success",
       "description": "Launch Duet(with loopback)",
       "icon": "plug",
       "layout": "IPY_MODEL_aa83eade43f74103a71b4ff2938bee24",
       "style": "IPY_MODEL_51cefb7c479349b29098516cf3be039d",
       "tooltip": "Launch Duet(with loopback)"
      }
     },
     "4f09d2d2b49c4040adc1110a082947a8": {
      "model_module": "@jupyter-widgets/base",
      "model_module_version": "1.2.0",
      "model_name": "LayoutModel",
      "state": {}
     },
     "4f5125f1e6904646b9911d8d5380fc9e": {
      "model_module": "@jupyter-widgets/base",
      "model_module_version": "1.2.0",
      "model_name": "LayoutModel",
      "state": {
       "align_items": "stretch",
       "border": "1px solid black",
       "display": "flex",
       "flex_flow": "column"
      }
     },
     "50164aa30226476295d47c72eb87a76c": {
      "model_module": "@jupyter-widgets/controls",
      "model_module_version": "1.5.0",
      "model_name": "ButtonStyleModel",
      "state": {}
     },
     "5081bbebad5f46db93caa5f686e9ae1f": {
      "model_module": "@jupyter-widgets/base",
      "model_module_version": "1.2.0",
      "model_name": "LayoutModel",
      "state": {}
     },
     "518d59c6908b40bc9e553c21ba155ca1": {
      "model_module": "@jupyter-widgets/output",
      "model_module_version": "1.0.0",
      "model_name": "OutputModel",
      "state": {
       "layout": "IPY_MODEL_ea7fb36742c0450f84298c98e05a22fe",
       "outputs": [
        {
         "data": {
          "image/png": "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\n",
          "text/plain": "<IPython.core.display.Image object>"
         },
         "metadata": {
          "image/png": {
           "unconfined": true,
           "width": 400
          }
         },
         "output_type": "display_data"
        },
        {
         "name": "stderr",
         "output_type": "stream",
         "text": "[2021-04-02T19:24:55.688861+0530][CRITICAL][logger]][30194] Skipping torchvision.torchvision.transforms.functional.adjust_sharpness not supported in 0.8.2\n[2021-04-02T19:24:55.689608+0530][CRITICAL][logger]][30194] Skipping torchvision.torchvision.transforms.functional.autocontrast not supported in 0.8.2\n[2021-04-02T19:24:55.691340+0530][CRITICAL][logger]][30194] Skipping torchvision.torchvision.transforms.functional.equalize not supported in 0.8.2\n[2021-04-02T19:24:55.693325+0530][CRITICAL][logger]][30194] Skipping torchvision.torchvision.transforms.functional.invert not supported in 0.8.2\n[2021-04-02T19:24:55.694814+0530][CRITICAL][logger]][30194] Skipping torchvision.torchvision.transforms.functional.posterize not supported in 0.8.2\n[2021-04-02T19:24:55.695395+0530][CRITICAL][logger]][30194] Skipping torchvision.torchvision.transforms.functional.solarize not supported in 0.8.2\n"
        },
        {
         "name": "stdout",
         "output_type": "stream",
         "text": "\n♫♫♫ > \u001b[95mSTEP 1:\u001b[0m Send the following code to your Duet Partner!\n\nimport syft as sy\nduet = sy.join_duet(loopback=True)\n\n"
        },
        {
         "name": "stderr",
         "output_type": "stream",
         "text": "[2021-04-02T19:25:07.070034+0530][CRITICAL][logger]][30194] Skipping torchvision.torchvision.transforms.functional.adjust_sharpness not supported in 0.8.2\n[2021-04-02T19:25:07.070567+0530][CRITICAL][logger]][30194] Skipping torchvision.torchvision.transforms.functional.autocontrast not supported in 0.8.2\n[2021-04-02T19:25:07.071233+0530][CRITICAL][logger]][30194] Skipping torchvision.torchvision.transforms.functional.equalize not supported in 0.8.2\n[2021-04-02T19:25:07.071880+0530][CRITICAL][logger]][30194] Skipping torchvision.torchvision.transforms.functional.invert not supported in 0.8.2\n[2021-04-02T19:25:07.409395+0530][CRITICAL][logger]][30194] Skipping torchvision.torchvision.transforms.functional.adjust_sharpness not supported in 0.8.2\n[2021-04-02T19:25:07.410757+0530][CRITICAL][logger]][30194] Skipping torchvision.torchvision.transforms.functional.autocontrast not supported in 0.8.2\n[2021-04-02T19:25:07.411311+0530][CRITICAL][logger]][30194] Skipping torchvision.torchvision.transforms.functional.equalize not supported in 0.8.2\n[2021-04-02T19:25:07.412198+0530][CRITICAL][logger]][30194] Skipping torchvision.torchvision.transforms.functional.invert not supported in 0.8.2\n[2021-04-02T19:25:07.413342+0530][CRITICAL][logger]][30194] Skipping torchvision.torchvision.transforms.functional.posterize not supported in 0.8.2\n[2021-04-02T19:25:07.413922+0530][CRITICAL][logger]][30194] Skipping torchvision.torchvision.transforms.functional.solarize not supported in 0.8.2\n"
        },
        {
         "name": "stdout",
         "output_type": "stream",
         "text": "Begin Logging\n"
        }
       ]
      }
     },
     "51cefb7c479349b29098516cf3be039d": {
      "model_module": "@jupyter-widgets/controls",
      "model_module_version": "1.5.0",
      "model_name": "ButtonStyleModel",
      "state": {}
     },
     "52556e800632497aae9b2f60fd8849ee": {
      "model_module": "@jupyter-widgets/controls",
      "model_module_version": "1.5.0",
      "model_name": "CheckboxModel",
      "state": {
       "description": "WARNING",
       "disabled": false,
       "indent": false,
       "layout": "IPY_MODEL_a84b0eab9ec54690bd3ec3f49b2b5e38",
       "style": "IPY_MODEL_a3b3ffea308244fd8f911d08d6f025d4",
       "value": false
      }
     },
     "5299df9548604f33b2d7864f5164d735": {
      "model_module": "@jupyter-widgets/controls",
      "model_module_version": "1.5.0",
      "model_name": "ButtonModel",
      "state": {
       "button_style": "success",
       "description": "Launch Duet(with loopback)",
       "icon": "plug",
       "layout": "IPY_MODEL_e82ee10b595f443cb1c470078f50d4f7",
       "style": "IPY_MODEL_0fb77ce2d5c448219549953457157839",
       "tooltip": "Launch Duet(with loopback)"
      }
     },
     "52a0587f04d2454dbb0874935f330ac2": {
      "model_module": "@jupyter-widgets/controls",
      "model_module_version": "1.5.0",
      "model_name": "ButtonModel",
      "state": {
       "button_style": "success",
       "description": "Search Logs",
       "icon": "search",
       "layout": "IPY_MODEL_6788cdd2d2b34a66b08f982c691a51af",
       "style": "IPY_MODEL_3ce170f67f024ed0a63ff4e938f09c98",
       "tooltip": "Search Logs"
      }
     },
     "52ae3b59d27a4096a0c06bb3b4db5072": {
      "model_module": "@jupyter-widgets/base",
      "model_module_version": "1.2.0",
      "model_name": "LayoutModel",
      "state": {
       "align_items": "stretch",
       "border": "1px solid black",
       "display": "flex",
       "flex_flow": "column"
      }
     },
     "52f6c4beaa324aea96338cb3aaede990": {
      "model_module": "@jupyter-widgets/controls",
      "model_module_version": "1.5.0",
      "model_name": "DropdownModel",
      "state": {
       "_options_labels": [
        "MNIST",
        "CIFAR",
        "COCO",
        "EMNIST",
        "Flickr",
        "Imagenet",
        "Custom"
       ],
       "description": " Dataset:",
       "index": 0,
       "layout": "IPY_MODEL_cbbd84abccba4a07863450390315d4de",
       "style": "IPY_MODEL_a0f9475c78bc45a2bd8f76e288f80b3f"
      }
     },
     "52fb94bac9c74b02880f86bdd25b87fa": {
      "model_module": "@jupyter-widgets/controls",
      "model_module_version": "1.5.0",
      "model_name": "DescriptionStyleModel",
      "state": {
       "description_width": ""
      }
     },
     "538473ea55854587b3db8dad58db0598": {
      "model_module": "@jupyter-widgets/controls",
      "model_module_version": "1.5.0",
      "model_name": "ButtonStyleModel",
      "state": {}
     },
     "539e2c74288842d9b548c792e42e44b5": {
      "model_module": "@jupyter-widgets/controls",
      "model_module_version": "1.5.0",
      "model_name": "ButtonModel",
      "state": {
       "button_style": "info",
       "description": "Filter Logs",
       "icon": "filter",
       "layout": "IPY_MODEL_f0ef9fd4532b4ddb8e4e5803d772859b",
       "style": "IPY_MODEL_f5647831d43c463ca534cb944a9744f0",
       "tooltip": "Filter Logs"
      }
     },
     "53b01f2b3dfa4e4d88633b3ef1859eb6": {
      "model_module": "@jupyter-widgets/base",
      "model_module_version": "1.2.0",
      "model_name": "LayoutModel",
      "state": {
       "height": "50px",
       "width": "20%"
      }
     },
     "53b2f9214d0a4371a4b7a29ba131de77": {
      "model_module": "@jupyter-widgets/base",
      "model_module_version": "1.2.0",
      "model_name": "LayoutModel",
      "state": {
       "height": "80px",
       "width": "33%"
      }
     },
     "5477f347224742cb92c5b0740c565ee3": {
      "model_module": "@jupyter-widgets/controls",
      "model_module_version": "1.5.0",
      "model_name": "HBoxModel",
      "state": {
       "children": [
        "IPY_MODEL_d7fcba756e284fbb920ddfdfa4ca72c5",
        "IPY_MODEL_be89c3726a0a4bf8875751a0cb08aa17",
        "IPY_MODEL_a8890433f57e47938f51d7395d4d592f",
        "IPY_MODEL_ae1f605d5aee4b4381370bde7bd7fdc3"
       ],
       "layout": "IPY_MODEL_c8d26a2fdfab4237bc0fe04e61600203"
      }
     },
     "549944ab794e414c8c61b45fa98a9a0c": {
      "model_module": "@jupyter-widgets/controls",
      "model_module_version": "1.5.0",
      "model_name": "DescriptionStyleModel",
      "state": {
       "description_width": ""
      }
     },
     "54dc4c6c95d0454eb16abd94604be248": {
      "model_module": "@jupyter-widgets/controls",
      "model_module_version": "1.5.0",
      "model_name": "HBoxModel",
      "state": {
       "children": [
        "IPY_MODEL_bf3685af8869434abd34080a6d8d7df9",
        "IPY_MODEL_5299df9548604f33b2d7864f5164d735",
        "IPY_MODEL_0b356ad6dfe74940b21c6ee72287889a"
       ],
       "layout": "IPY_MODEL_b660aaa76a58489a93fb0c8ebdcaabec"
      }
     },
     "55184aa4840a4110aa11e64939eb5c67": {
      "model_module": "@jupyter-widgets/controls",
      "model_module_version": "1.5.0",
      "model_name": "ButtonModel",
      "state": {
       "button_style": "info",
       "description": "Filter Logs",
       "icon": "filter",
       "layout": "IPY_MODEL_7a47b2daa76f44558b6fe7850eea4335",
       "style": "IPY_MODEL_60f9a9ae074c4f09bd514b2bcd5b2871",
       "tooltip": "Filter Logs"
      }
     },
     "5572b050fd4049999f366520bca00b49": {
      "model_module": "@jupyter-widgets/controls",
      "model_module_version": "1.5.0",
      "model_name": "ButtonModel",
      "state": {
       "button_style": "success",
       "description": "Launch Duet(with loopback)",
       "icon": "plug",
       "layout": "IPY_MODEL_aff3847e1be94e52939ce6b0ece3ac2c",
       "style": "IPY_MODEL_f398a9a1ba6d4a098866c2f33423e04f",
       "tooltip": "Launch Duet(with loopback)"
      }
     },
     "56d46e29f3514e918a4f3ced62807eb6": {
      "model_module": "@jupyter-widgets/controls",
      "model_module_version": "1.5.0",
      "model_name": "HBoxModel",
      "state": {
       "children": [
        "IPY_MODEL_8d9c2777e6ed4aab9b41f1fa44d3eceb",
        "IPY_MODEL_c88390babe844ae986029e544592f5f2",
        "IPY_MODEL_9ee67948f0c242d69e573129020c1628",
        "IPY_MODEL_e73d5d678f4a4d09b755439853d9f7fa"
       ],
       "layout": "IPY_MODEL_68c099db5f0c4c5bb7ad68a2526f4354"
      }
     },
     "56de725f220c4d6b937c3e6d039c8530": {
      "model_module": "@jupyter-widgets/controls",
      "model_module_version": "1.5.0",
      "model_name": "ButtonModel",
      "state": {
       "button_style": "info",
       "description": "View Peers",
       "icon": "eye",
       "layout": "IPY_MODEL_9cd85f12937944b290b96c53597e375a",
       "style": "IPY_MODEL_79fe07e01abe42848e039224af7696c5",
       "tooltip": "View Peers"
      }
     },
     "56e597a2492e4327bc8ce3d76227a3b5": {
      "model_module": "@jupyter-widgets/controls",
      "model_module_version": "1.5.0",
      "model_name": "ButtonModel",
      "state": {
       "button_style": "success",
       "description": "Search Logs",
       "icon": "search",
       "layout": "IPY_MODEL_7977279f46af4044acb7ba44a042461c",
       "style": "IPY_MODEL_06024808d8f74abd819786709374923d",
       "tooltip": "Search Logs"
      }
     },
     "56f356f3b0244e80bb23c8f18f5e2b41": {
      "model_module": "@jupyter-widgets/base",
      "model_module_version": "1.2.0",
      "model_name": "LayoutModel",
      "state": {}
     },
     "573f7d8bbc23411dbb11d8ab17d57053": {
      "model_module": "@jupyter-widgets/controls",
      "model_module_version": "1.5.0",
      "model_name": "HBoxModel",
      "state": {
       "children": [
        "IPY_MODEL_f51a4d03be6e4475b860ad2c52d597c6",
        "IPY_MODEL_012d0bfe682c43e9a8f50ac1772e3bb2",
        "IPY_MODEL_4ce77805a5f5497fb0081cc5bf3c8231",
        "IPY_MODEL_7806b13c958e4e5db12c88bafbbcdb36"
       ],
       "layout": "IPY_MODEL_728e171f04d54a7a9defa281c9cbbe4b"
      }
     },
     "583dc4b9ae3a432c959f2c276aad3e63": {
      "model_module": "@jupyter-widgets/output",
      "model_module_version": "1.0.0",
      "model_name": "OutputModel",
      "state": {
       "layout": "IPY_MODEL_ebc263a115ca40b1ad3dd3be15fb9aef",
       "outputs": [
        {
         "data": {
          "image/png": "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\n",
          "text/plain": "<IPython.core.display.Image object>"
         },
         "metadata": {
          "image/png": {
           "unconfined": true,
           "width": 400
          }
         },
         "output_type": "display_data"
        },
        {
         "name": "stdout",
         "output_type": "stream",
         "text": "syft_{time}.log\n"
        },
        {
         "name": "stderr",
         "output_type": "stream",
         "text": "[2021-04-02T16:02:27.172949+0530][CRITICAL][logger]][28889] Skipping torchvision.torchvision.transforms.functional.adjust_sharpness not supported in 0.8.2\n[2021-04-02T16:02:27.174233+0530][CRITICAL][logger]][28889] Skipping torchvision.torchvision.transforms.functional.autocontrast not supported in 0.8.2\n[2021-04-02T16:02:27.175922+0530][CRITICAL][logger]][28889] Skipping torchvision.torchvision.transforms.functional.equalize not supported in 0.8.2\n[2021-04-02T16:02:27.177578+0530][CRITICAL][logger]][28889] Skipping torchvision.torchvision.transforms.functional.invert not supported in 0.8.2\n[2021-04-02T16:02:27.178328+0530][CRITICAL][logger]][28889] Skipping torchvision.torchvision.transforms.functional.posterize not supported in 0.8.2\n[2021-04-02T16:02:27.180428+0530][CRITICAL][logger]][28889] Skipping torchvision.torchvision.transforms.functional.solarize not supported in 0.8.2\n"
        },
        {
         "name": "stdout",
         "output_type": "stream",
         "text": "\n♫♫♫ > \u001b[95mSTEP 1:\u001b[0m Send the following code to your Duet Partner!\n\nimport syft as sy\nduet = sy.join_duet(loopback=True)\n\n"
        },
        {
         "name": "stderr",
         "output_type": "stream",
         "text": "[2021-04-02T16:02:39.061983+0530][CRITICAL][logger]][28889] Skipping torchvision.torchvision.transforms.functional.adjust_sharpness not supported in 0.8.2\n[2021-04-02T16:02:39.065118+0530][CRITICAL][logger]][28889] Skipping torchvision.torchvision.transforms.functional.autocontrast not supported in 0.8.2\n[2021-04-02T16:02:39.067697+0530][CRITICAL][logger]][28889] Skipping torchvision.torchvision.transforms.functional.equalize not supported in 0.8.2\n[2021-04-02T16:02:39.409527+0530][CRITICAL][logger]][28889] Skipping torchvision.torchvision.transforms.functional.adjust_sharpness not supported in 0.8.2\n[2021-04-02T16:02:39.410600+0530][CRITICAL][logger]][28889] Skipping torchvision.torchvision.transforms.functional.autocontrast not supported in 0.8.2\n[2021-04-02T16:02:39.411679+0530][CRITICAL][logger]][28889] Skipping torchvision.torchvision.transforms.functional.equalize not supported in 0.8.2\n[2021-04-02T16:02:39.414517+0530][CRITICAL][logger]][28889] Skipping torchvision.torchvision.transforms.functional.invert not supported in 0.8.2\n"
        },
        {
         "name": "stdout",
         "output_type": "stream",
         "text": "Begin Logging\n"
        },
        {
         "name": "stderr",
         "output_type": "stream",
         "text": "[2021-04-02T16:02:39.415593+0530][CRITICAL][logger]][28889] Skipping torchvision.torchvision.transforms.functional.posterize not supported in 0.8.2\n"
        }
       ]
      }
     },
     "58ef9facbff74b089d62a2bedeac2a62": {
      "model_module": "@jupyter-widgets/base",
      "model_module_version": "1.2.0",
      "model_name": "LayoutModel",
      "state": {}
     },
     "59df7490e85c40d8a3c53833083b2bd6": {
      "model_module": "@jupyter-widgets/controls",
      "model_module_version": "1.5.0",
      "model_name": "CheckboxModel",
      "state": {
       "description": "WARNING",
       "disabled": false,
       "indent": false,
       "layout": "IPY_MODEL_8a9515310efa4c328f6ca6725ad666e6",
       "style": "IPY_MODEL_81ab5de0cd3c4143af7289b676861aaf",
       "value": false
      }
     },
     "5a64a1600ce647679332f0a4a091fe17": {
      "model_module": "@jupyter-widgets/controls",
      "model_module_version": "1.5.0",
      "model_name": "DescriptionStyleModel",
      "state": {
       "description_width": ""
      }
     },
     "5a6522097b964dfb8a2730c74065795d": {
      "model_module": "@jupyter-widgets/controls",
      "model_module_version": "1.5.0",
      "model_name": "HBoxModel",
      "state": {
       "children": [
        "IPY_MODEL_6976ffa0b09b4d28bc2661e7f0ebeba3",
        "IPY_MODEL_3f228a8859b74f5aae043e69eb02e858",
        "IPY_MODEL_7adea369a6c7464e8aa6f027ac7c05ba"
       ],
       "layout": "IPY_MODEL_b760149c29804bf3bb3be0030fb6f796"
      }
     },
     "5a8b65f667e841849abbed760435dee0": {
      "model_module": "@jupyter-widgets/controls",
      "model_module_version": "1.5.0",
      "model_name": "CheckboxModel",
      "state": {
       "description": "CRITICAL",
       "disabled": false,
       "indent": false,
       "layout": "IPY_MODEL_767204e2802f48b9842c6510d6f41424",
       "style": "IPY_MODEL_1b1dd2d10f954c9694d5a2c6465cbb68",
       "value": true
      }
     },
     "5aaa26792fef48c7a1274ef3c532a79c": {
      "model_module": "@jupyter-widgets/controls",
      "model_module_version": "1.5.0",
      "model_name": "ButtonModel",
      "state": {
       "button_style": "success",
       "description": "Launch Duet",
       "icon": "plug",
       "layout": "IPY_MODEL_a3be2a743c704d1496f3c00346b1130c",
       "style": "IPY_MODEL_50164aa30226476295d47c72eb87a76c",
       "tooltip": "Launch Duet"
      }
     },
     "5b3f0ded395e4dd1ad7885d8c0529471": {
      "model_module": "@jupyter-widgets/controls",
      "model_module_version": "1.5.0",
      "model_name": "VBoxModel",
      "state": {
       "children": [
        "IPY_MODEL_35f3866217bc471d8b730e68247af35f",
        "IPY_MODEL_ecb8c9e071bc4462be8aab166dcc3608",
        "IPY_MODEL_70fcfe9f888b4da8b312db8b7a8314df"
       ],
       "layout": "IPY_MODEL_c10cce523ab64e3db73d0ae4bf8273f5"
      }
     },
     "5bcd959d3b2343709f80b03ef2077136": {
      "model_module": "@jupyter-widgets/base",
      "model_module_version": "1.2.0",
      "model_name": "LayoutModel",
      "state": {
       "height": "80px",
       "width": "33%"
      }
     },
     "5c293cf2c25043fab6ff895a02f9484d": {
      "model_module": "qgrid",
      "model_module_version": "^1.1.3",
      "model_name": "QgridModel",
      "state": {
       "_columns": {
        "LOG TYPE": {
         "cssClass": "string",
         "defaultSortAsc": true,
         "editable": true,
         "field": "LOG TYPE",
         "id": "LOG TYPE",
         "minWidth": 30,
         "name": "LOG TYPE",
         "position": 2,
         "resizable": true,
         "sortable": true,
         "toolTip": "",
         "type": "string"
        },
        "MESSAGE": {
         "cssClass": "string",
         "defaultSortAsc": true,
         "editable": true,
         "field": "MESSAGE",
         "id": "MESSAGE",
         "minWidth": 30,
         "name": "MESSAGE",
         "position": 3,
         "resizable": true,
         "sortable": true,
         "toolTip": "",
         "type": "string"
        },
        "index": {
         "cssClass": "integer first-idx-col idx-col first-idx-col idx-col",
         "defaultSortAsc": true,
         "editable": true,
         "field": "index",
         "first_index": true,
         "id": "index",
         "index_display_text": "",
         "is_index": true,
         "level": 0,
         "minWidth": 30,
         "name": "",
         "position": 0,
         "resizable": true,
         "sortable": true,
         "toolTip": "",
         "type": "integer"
        },
        "qgrid_unfiltered_index": {
         "cssClass": "integer",
         "defaultSortAsc": true,
         "editable": true,
         "field": "qgrid_unfiltered_index",
         "id": "qgrid_unfiltered_index",
         "maxWidth": null,
         "minWidth": 30,
         "name": "qgrid_unfiltered_index",
         "position": 1,
         "resizable": true,
         "sortable": true,
         "toolTip": "",
         "type": "integer",
         "width": null
        }
       },
       "_df_json": "{\"schema\":{\"fields\":[{\"name\":\"index\",\"type\":\"integer\"},{\"name\":\"qgrid_unfiltered_index\",\"type\":\"integer\"},{\"name\":\"LOG TYPE\",\"type\":\"string\"},{\"name\":\"MESSAGE\",\"type\":\"string\"}],\"primaryKey\":[\"index\"],\"pandas_version\":\"0.20.0\"},\"data\":[{\"index\":0,\"qgrid_unfiltered_index\":0,\"LOG TYPE\":\" DEBUG    \",\"MESSAGE\":\" syft.logger:log_and_print:76 - > Creating \\ud83d\\udce1 [\\ud83d\\udd17] om-net Client (NetworkClient)@<UID:\\ud83d\\ude5a\\ud83d\\ude8b>\\n\"},{\"index\":1,\"qgrid_unfiltered_index\":1,\"LOG TYPE\":\" DEBUG    \",\"MESSAGE\":\" syft.logger:log_and_print:76 - > Creating \\u2709\\ufe0f  (RegisterNewPeerMessage) <UID:\\ud83d\\ude4c\\ud83d\\udee1>\\n\"},{\"index\":2,\"qgrid_unfiltered_index\":2,\"LOG TYPE\":\" DEBUG    \",\"MESSAGE\":\" syft.logger:log_and_print:76 - > \\ud83d\\udce1 [\\ud83d\\udd17] om-net Client (NetworkClient)@<UID:\\ud83d\\ude5a\\ud83d\\ude8b> Signing \\u2709\\ufe0f  (RegisterNewPeerMessage) with \\ud83d\\ude99\\n\"},{\"index\":3,\"qgrid_unfiltered_index\":3,\"LOG TYPE\":\" DEBUG    \",\"MESSAGE\":\" syft.logger:log_and_print:76 - > Signing with \\ud83d\\ude99\\n\"},{\"index\":4,\"qgrid_unfiltered_index\":4,\"LOG TYPE\":\" DEBUG    \",\"MESSAGE\":\" syft.logger:log_and_print:76 - Serializing syft.grid.services.signaling_service.RegisterNewPeerMessage\\n\"},{\"index\":5,\"qgrid_unfiltered_index\":5,\"LOG TYPE\":\" DEBUG    \",\"MESSAGE\":\" syft.logger:log_and_print:76 - > Creating Signed \\u2709\\ufe0f \\ud83d\\udd0f (SignedImmediateSyftMessageWithReply) <UID:\\ud83d\\ude4c\\ud83d\\udee1>\\n\"},{\"index\":6,\"qgrid_unfiltered_index\":6,\"LOG TYPE\":\" DEBUG    \",\"MESSAGE\":\" syft.logger:log_and_print:76 - Serializing syft.core.common.message.SignedImmediateSyftMessageWithReply\\n\"},{\"index\":7,\"qgrid_unfiltered_index\":7,\"LOG TYPE\":\" DEBUG    \",\"MESSAGE\":\" syft.logger:log_and_print:76 - > \\u2709\\ufe0f \\ud83d\\udd0f -> Proto \\ud83d\\udd22 <UID: 1d6a50ea788f436eb11ac659afe33403>\\n\"},{\"index\":8,\"qgrid_unfiltered_index\":8,\"LOG TYPE\":\" DEBUG    \",\"MESSAGE\":\" syft.logger:log_and_print:76 - > Creating \\u2709\\ufe0f  (PeerSuccessfullyRegistered) <UID:\\ud83d\\udeb0\\ud83d\\ude82>\\n\"},{\"index\":9,\"qgrid_unfiltered_index\":9,\"LOG TYPE\":\" DEBUG    \",\"MESSAGE\":\" syft.logger:log_and_print:76 - > Creating Signed \\u2709\\ufe0f \\ud83d\\udd0f (SignedImmediateSyftMessageWithoutReply) <UID:\\ud83d\\udeb0\\ud83d\\ude82>\\n\"},{\"index\":10,\"qgrid_unfiltered_index\":10,\"LOG TYPE\":\" DEBUG    \",\"MESSAGE\":\" syft.logger:log_and_print:76 - > \\u2709\\ufe0f \\ud83d\\udd0f <- \\ud83d\\udd22 Proto\\n\"},{\"index\":11,\"qgrid_unfiltered_index\":11,\"LOG TYPE\":\" DEBUG    \",\"MESSAGE\":\" syft.logger:log_and_print:76 - > Creating \\u2709\\ufe0f  (PeerSuccessfullyRegistered) <UID:\\ud83d\\udeb0\\ud83d\\ude82>\\n\"},{\"index\":12,\"qgrid_unfiltered_index\":12,\"LOG TYPE\":\" DEBUG    \",\"MESSAGE\":\" syft.logger:log_and_print:76 - > Creating \\ud83d\\uddc3\\ufe0f (MemoryStore) {}\\n\"},{\"index\":13,\"qgrid_unfiltered_index\":13,\"LOG TYPE\":\" DEBUG    \",\"MESSAGE\":\" syft.logger:log_and_print:76 - Created MemoryStore.\\n\"},{\"index\":14,\"qgrid_unfiltered_index\":14,\"LOG TYPE\":\" DEBUG    \",\"MESSAGE\":\" syft.logger:log_and_print:76 - > Creating \\ud83c\\udff0 Launcher (Domain)@<UID:\\ud83d\\udeb3\\ud83d\\ude5c>\\n\"},{\"index\":15,\"qgrid_unfiltered_index\":15,\"LOG TYPE\":\" DEBUG    \",\"MESSAGE\":\" syft.logger:log_and_print:82 - failed to log exception. info() missing 1 required positional argument: '_Logger__message'\\n\"},{\"index\":16,\"qgrid_unfiltered_index\":16,\"LOG TYPE\":\" DEBUG    \",\"MESSAGE\":\" syft.logger:log_and_print:82 - failed to log exception. info() missing 1 required positional argument: '_Logger__message'\\n\"},{\"index\":17,\"qgrid_unfiltered_index\":17,\"LOG TYPE\":\" DEBUG    \",\"MESSAGE\":\" syft.logger:log_and_print:76 - client not ready\\n\"},{\"index\":18,\"qgrid_unfiltered_index\":18,\"LOG TYPE\":\" DEBUG    \",\"MESSAGE\":\" syft.logger:log_and_print:76 - client not ready\\n\"},{\"index\":19,\"qgrid_unfiltered_index\":19,\"LOG TYPE\":\" DEBUG    \",\"MESSAGE\":\" syft.logger:log_and_print:76 - client not ready\\n\"},{\"index\":20,\"qgrid_unfiltered_index\":20,\"LOG TYPE\":\" DEBUG    \",\"MESSAGE\":\" syft.logger:log_and_print:76 - client not ready\\n\"},{\"index\":21,\"qgrid_unfiltered_index\":21,\"LOG TYPE\":\" DEBUG    \",\"MESSAGE\":\" syft.logger:log_and_print:76 - client not ready\\n\"},{\"index\":22,\"qgrid_unfiltered_index\":22,\"LOG TYPE\":\" DEBUG    \",\"MESSAGE\":\" syft.logger:log_and_print:76 - client not ready\\n\"},{\"index\":23,\"qgrid_unfiltered_index\":23,\"LOG TYPE\":\" DEBUG    \",\"MESSAGE\":\" syft.logger:log_and_print:76 - client not ready\\n\"},{\"index\":24,\"qgrid_unfiltered_index\":24,\"LOG TYPE\":\" DEBUG    \",\"MESSAGE\":\" syft.logger:log_and_print:76 - client not ready\\n\"},{\"index\":25,\"qgrid_unfiltered_index\":25,\"LOG TYPE\":\" DEBUG    \",\"MESSAGE\":\" syft.logger:log_and_print:76 - client not ready\\n\"},{\"index\":26,\"qgrid_unfiltered_index\":26,\"LOG TYPE\":\" DEBUG    \",\"MESSAGE\":\" syft.logger:log_and_print:76 - client not ready\\n\"},{\"index\":27,\"qgrid_unfiltered_index\":27,\"LOG TYPE\":\" DEBUG    \",\"MESSAGE\":\" syft.logger:log_and_print:76 - client not ready\\n\"},{\"index\":28,\"qgrid_unfiltered_index\":28,\"LOG TYPE\":\" DEBUG    \",\"MESSAGE\":\" syft.logger:log_and_print:76 - client not ready\\n\"},{\"index\":29,\"qgrid_unfiltered_index\":29,\"LOG TYPE\":\" DEBUG    \",\"MESSAGE\":\" syft.logger:log_and_print:76 - client not ready\\n\"},{\"index\":30,\"qgrid_unfiltered_index\":30,\"LOG TYPE\":\" DEBUG    \",\"MESSAGE\":\" syft.logger:log_and_print:76 - client not ready\\n\"},{\"index\":31,\"qgrid_unfiltered_index\":31,\"LOG TYPE\":\" DEBUG    \",\"MESSAGE\":\" syft.logger:log_and_print:76 - client not ready\\n\"},{\"index\":32,\"qgrid_unfiltered_index\":32,\"LOG TYPE\":\" DEBUG    \",\"MESSAGE\":\" syft.logger:log_and_print:76 - client not ready\\n\"},{\"index\":33,\"qgrid_unfiltered_index\":33,\"LOG TYPE\":\" DEBUG    \",\"MESSAGE\":\" syft.logger:log_and_print:76 - client not ready\\n\"},{\"index\":34,\"qgrid_unfiltered_index\":34,\"LOG TYPE\":\" DEBUG    \",\"MESSAGE\":\" syft.logger:log_and_print:76 - client not ready\\n\"},{\"index\":35,\"qgrid_unfiltered_index\":35,\"LOG TYPE\":\" DEBUG    \",\"MESSAGE\":\" syft.logger:log_and_print:76 - client not ready\\n\"},{\"index\":36,\"qgrid_unfiltered_index\":36,\"LOG TYPE\":\" DEBUG    \",\"MESSAGE\":\" syft.logger:log_and_print:76 - client not ready\\n\"},{\"index\":37,\"qgrid_unfiltered_index\":37,\"LOG TYPE\":\" DEBUG    \",\"MESSAGE\":\" syft.logger:log_and_print:76 - client not ready\\n\"},{\"index\":38,\"qgrid_unfiltered_index\":38,\"LOG TYPE\":\" DEBUG    \",\"MESSAGE\":\" syft.logger:log_and_print:76 - client not ready\\n\"},{\"index\":39,\"qgrid_unfiltered_index\":39,\"LOG TYPE\":\" DEBUG    \",\"MESSAGE\":\" syft.logger:log_and_print:76 - > Creating \\u2709\\ufe0f  (SignalingOfferMessage) <UID:\\ud83d\\ude55\\ud83d\\ude8d>\\n\"},{\"index\":40,\"qgrid_unfiltered_index\":40,\"LOG TYPE\":\" DEBUG    \",\"MESSAGE\":\" syft.logger:log_and_print:76 - > Creating \\u2709\\ufe0f  (AnswerPullRequestMessage) <UID:\\ud83d\\ude7b\\ud83d\\ude8a>\\n\"},{\"index\":41,\"qgrid_unfiltered_index\":41,\"LOG TYPE\":\" DEBUG    \",\"MESSAGE\":\" syft.logger:log_and_print:76 - > \\ud83d\\udce1 [\\ud83d\\udd17] om-net Client (NetworkClient)@<UID:\\ud83d\\ude5a\\ud83d\\ude8b> Signing \\u2709\\ufe0f  (SignalingOfferMessage) with \\ud83d\\ude99\\n\"},{\"index\":42,\"qgrid_unfiltered_index\":42,\"LOG TYPE\":\" DEBUG    \",\"MESSAGE\":\" syft.logger:log_and_print:76 - > Signing with \\ud83d\\ude99\\n\"},{\"index\":43,\"qgrid_unfiltered_index\":43,\"LOG TYPE\":\" DEBUG    \",\"MESSAGE\":\" syft.logger:log_and_print:76 - Serializing syft.grid.services.signaling_service.SignalingOfferMessage\\n\"},{\"index\":44,\"qgrid_unfiltered_index\":44,\"LOG TYPE\":\" DEBUG    \",\"MESSAGE\":\" syft.logger:log_and_print:76 - > Creating Signed \\u2709\\ufe0f \\ud83d\\udd0f (SignedImmediateSyftMessageWithoutReply) <UID:\\ud83d\\ude55\\ud83d\\ude8d>\\n\"},{\"index\":45,\"qgrid_unfiltered_index\":45,\"LOG TYPE\":\" DEBUG    \",\"MESSAGE\":\" syft.logger:log_and_print:76 - > Sending \\u2709\\ufe0f \\ud83d\\udd0f (SignedImmediateSyftMessageWithoutReply) \\ud83d\\udce1 [\\ud83d\\udd17] om-net Client (NetworkClient)@<UID:\\ud83d\\ude5a\\ud83d\\ude8b> \\u27a1\\ufe0f  \\ud83d\\udca0 [\\ud83d\\udd17] om-net Client (Address)\\n\"},{\"index\":46,\"qgrid_unfiltered_index\":46,\"LOG TYPE\":\" DEBUG    \",\"MESSAGE\":\" syft.logger:log_and_print:76 - > Routing \\u2709\\ufe0f \\ud83d\\udd0f (SignedImmediateSyftMessageWithoutReply) via \\ud83d\\udee3\\ufe0f  (SoloRoute)\\n\"},{\"index\":47,\"qgrid_unfiltered_index\":47,\"LOG TYPE\":\" DEBUG    \",\"MESSAGE\":\" syft.logger:log_and_print:76 - Serializing syft.core.common.message.SignedImmediateSyftMessageWithoutReply\\n\"},{\"index\":48,\"qgrid_unfiltered_index\":48,\"LOG TYPE\":\" DEBUG    \",\"MESSAGE\":\" syft.logger:log_and_print:76 - > \\u2709\\ufe0f \\ud83d\\udd0f -> Proto \\ud83d\\udd22 <UID: 8720272af2d346f9829217a28f673088>\\n\"},{\"index\":49,\"qgrid_unfiltered_index\":49,\"LOG TYPE\":\" DEBUG    \",\"MESSAGE\":\" syft.logger:log_and_print:76 - > \\ud83d\\udce1 [\\ud83d\\udd17] om-net Client (NetworkClient)@<UID:\\ud83d\\ude5a\\ud83d\\ude8b> Signing \\u2709\\ufe0f  (AnswerPullRequestMessage) with \\ud83d\\ude99\\n\"},{\"index\":50,\"qgrid_unfiltered_index\":50,\"LOG TYPE\":\" DEBUG    \",\"MESSAGE\":\" syft.logger:log_and_print:76 - > Signing with \\ud83d\\ude99\\n\"},{\"index\":51,\"qgrid_unfiltered_index\":51,\"LOG TYPE\":\" DEBUG    \",\"MESSAGE\":\" syft.logger:log_and_print:76 - Serializing syft.grid.services.signaling_service.AnswerPullRequestMessage\\n\"},{\"index\":52,\"qgrid_unfiltered_index\":52,\"LOG TYPE\":\" DEBUG    \",\"MESSAGE\":\" syft.logger:log_and_print:76 - > Creating Signed \\u2709\\ufe0f \\ud83d\\udd0f (SignedImmediateSyftMessageWithReply) <UID:\\ud83d\\ude7b\\ud83d\\ude8a>\\n\"},{\"index\":53,\"qgrid_unfiltered_index\":53,\"LOG TYPE\":\" DEBUG    \",\"MESSAGE\":\" syft.logger:log_and_print:76 - Serializing syft.core.common.message.SignedImmediateSyftMessageWithReply\\n\"},{\"index\":54,\"qgrid_unfiltered_index\":54,\"LOG TYPE\":\" DEBUG    \",\"MESSAGE\":\" syft.logger:log_and_print:76 - > \\u2709\\ufe0f \\ud83d\\udd0f -> Proto \\ud83d\\udd22 <UID: a719c95ee17c4ea89943ba39e7753d11>\\n\"},{\"index\":55,\"qgrid_unfiltered_index\":55,\"LOG TYPE\":\" DEBUG    \",\"MESSAGE\":\" syft.logger:log_and_print:76 - > Creating \\u2709\\ufe0f  (SignalingRequestsNotFound) <UID:\\ud83d\\ude57\\ud83d\\ude82>\\n\"},{\"index\":56,\"qgrid_unfiltered_index\":56,\"LOG TYPE\":\" DEBUG    \",\"MESSAGE\":\" syft.logger:log_and_print:76 - > Creating Signed \\u2709\\ufe0f \\ud83d\\udd0f (SignedImmediateSyftMessageWithoutReply) <UID:\\ud83d\\ude57\\ud83d\\ude82>\\n\"},{\"index\":57,\"qgrid_unfiltered_index\":57,\"LOG TYPE\":\" DEBUG    \",\"MESSAGE\":\" syft.logger:log_and_print:76 - > \\u2709\\ufe0f \\ud83d\\udd0f <- \\ud83d\\udd22 Proto\\n\"},{\"index\":58,\"qgrid_unfiltered_index\":58,\"LOG TYPE\":\" DEBUG    \",\"MESSAGE\":\" syft.logger:log_and_print:76 - > Creating \\u2709\\ufe0f  (SignalingRequestsNotFound) <UID:\\ud83d\\ude57\\ud83d\\ude82>\\n\"},{\"index\":59,\"qgrid_unfiltered_index\":59,\"LOG TYPE\":\" DEBUG    \",\"MESSAGE\":\" syft.logger:log_and_print:76 - > \\ud83d\\udce1 [\\ud83d\\udd17] om-net Client (NetworkClient)@<UID:\\ud83d\\ude5a\\ud83d\\ude8b> Signing \\u2709\\ufe0f  (AnswerPullRequestMessage) with \\ud83d\\ude99\\n\"},{\"index\":60,\"qgrid_unfiltered_index\":60,\"LOG TYPE\":\" DEBUG    \",\"MESSAGE\":\" syft.logger:log_and_print:76 - > Signing with \\ud83d\\ude99\\n\"},{\"index\":61,\"qgrid_unfiltered_index\":61,\"LOG TYPE\":\" DEBUG    \",\"MESSAGE\":\" syft.logger:log_and_print:76 - Serializing syft.grid.services.signaling_service.AnswerPullRequestMessage\\n\"},{\"index\":62,\"qgrid_unfiltered_index\":62,\"LOG TYPE\":\" DEBUG    \",\"MESSAGE\":\" syft.logger:log_and_print:76 - > Creating Signed \\u2709\\ufe0f \\ud83d\\udd0f (SignedImmediateSyftMessageWithReply) <UID:\\ud83d\\ude7b\\ud83d\\ude8a>\\n\"},{\"index\":63,\"qgrid_unfiltered_index\":63,\"LOG TYPE\":\" DEBUG    \",\"MESSAGE\":\" syft.logger:log_and_print:76 - Serializing syft.core.common.message.SignedImmediateSyftMessageWithReply\\n\"},{\"index\":64,\"qgrid_unfiltered_index\":64,\"LOG TYPE\":\" DEBUG    \",\"MESSAGE\":\" syft.logger:log_and_print:76 - > \\u2709\\ufe0f \\ud83d\\udd0f -> Proto \\ud83d\\udd22 <UID: a719c95ee17c4ea89943ba39e7753d11>\\n\"},{\"index\":65,\"qgrid_unfiltered_index\":65,\"LOG TYPE\":\" DEBUG    \",\"MESSAGE\":\" syft.logger:log_and_print:76 - > Creating \\u2709\\ufe0f  (SignalingAnswerMessage) <UID:\\ud83d\\ude87\\ud83d\\ude80>\\n\"},{\"index\":66,\"qgrid_unfiltered_index\":66,\"LOG TYPE\":\" DEBUG    \",\"MESSAGE\":\" syft.logger:log_and_print:76 - > Creating Signed \\u2709\\ufe0f \\ud83d\\udd0f (SignedImmediateSyftMessageWithoutReply) <UID:\\ud83d\\ude87\\ud83d\\ude80>\\n\"},{\"index\":67,\"qgrid_unfiltered_index\":67,\"LOG TYPE\":\" DEBUG    \",\"MESSAGE\":\" syft.logger:log_and_print:76 - > \\u2709\\ufe0f \\ud83d\\udd0f <- \\ud83d\\udd22 Proto\\n\"},{\"index\":68,\"qgrid_unfiltered_index\":68,\"LOG TYPE\":\" DEBUG    \",\"MESSAGE\":\" syft.logger:log_and_print:76 - > Creating \\u2709\\ufe0f  (SignalingAnswerMessage) <UID:\\ud83d\\ude87\\ud83d\\ude80>\\n\"},{\"index\":69,\"qgrid_unfiltered_index\":69,\"LOG TYPE\":\" DEBUG    \",\"MESSAGE\":\" syft.logger:log_and_print:76 - > Creating \\ud83d\\udce1 [\\ud83c\\udff0] Joiner Client (Duet)@<UID:\\ud83d\\ude82\\ud83d\\udedf>\\n\"},{\"index\":70,\"qgrid_unfiltered_index\":70,\"LOG TYPE\":\" DEBUG    \",\"MESSAGE\":\" syft.widget_logger:log_and_print:90 - failed to log exception. info() missing 1 required positional argument: '_Logger__message'\\n\"},{\"index\":71,\"qgrid_unfiltered_index\":71,\"LOG TYPE\":\" DEBUG    \",\"MESSAGE\":\" syft.logger:log_and_print:76 - > Creating \\ud83d\\udce1 [\\ud83c\\udff0] Launcher Client (DomainClient)@<UID:\\ud83d\\udeb3\\ud83d\\ude5c>\\n\"},{\"index\":72,\"qgrid_unfiltered_index\":72,\"LOG TYPE\":\" DEBUG    \",\"MESSAGE\":\" syft.widget_logger:log_and_print:90 - failed to log exception. info() missing 1 required positional argument: '_Logger__message'\\n\"}]}",
       "_df_range": [
        0,
        157
       ],
       "_editable_rows": {},
       "_index_col_name": "qgrid_unfiltered_index",
       "_interval_columns": [],
       "_model_module_version": "^1.1.3",
       "_multi_index": false,
       "_row_count": 73,
       "_row_styles": {},
       "_sort_ascending": true,
       "_sort_field": null,
       "_view_module_version": "^1.1.3",
       "_viewport_range": [
        57,
        74
       ],
       "grid_options": {
        "autoEdit": false,
        "boldIndex": true,
        "defaultColumnWidth": 150,
        "editable": true,
        "enableColumnReorder": false,
        "enableTextSelectionOnCells": true,
        "explicitInitialization": true,
        "filterable": true,
        "forceFitColumns": true,
        "fullWidthRows": true,
        "highlightSelectedCell": false,
        "highlightSelectedRow": true,
        "maxVisibleRows": 15,
        "minVisibleRows": 8,
        "rowHeight": 28,
        "sortable": true,
        "syncColumnCellResize": true
       },
       "id": "0d9c50a2-274b-41c0-9096-fd0321f3a072",
       "layout": "IPY_MODEL_99bc765f1777415ba83fc1568e577e23",
       "precision": 5,
       "show_toolbar": true
      }
     },
     "5c580f6a31b44f65b89c81fc9fa95782": {
      "model_module": "@jupyter-widgets/base",
      "model_module_version": "1.2.0",
      "model_name": "LayoutModel",
      "state": {
       "align_items": "stretch",
       "border": "1px solid black",
       "display": "flex",
       "flex_flow": "column"
      }
     },
     "5dc75d0cb3234dbba26497731ec91740": {
      "model_module": "@jupyter-widgets/controls",
      "model_module_version": "1.5.0",
      "model_name": "DescriptionStyleModel",
      "state": {
       "description_width": ""
      }
     },
     "5e2653d9d5024bb3b2c40c23f1ca906c": {
      "model_module": "@jupyter-widgets/base",
      "model_module_version": "1.2.0",
      "model_name": "LayoutModel",
      "state": {}
     },
     "5e9324c8b8484a96968bf22f948b5d15": {
      "model_module": "@jupyter-widgets/base",
      "model_module_version": "1.2.0",
      "model_name": "LayoutModel",
      "state": {}
     },
     "5eb54c152e174538902ae06a6b7b3ad6": {
      "model_module": "@jupyter-widgets/controls",
      "model_module_version": "1.5.0",
      "model_name": "DescriptionStyleModel",
      "state": {
       "description_width": ""
      }
     },
     "5f2c218bf85f49e1ad327b87dc68b603": {
      "model_module": "@jupyter-widgets/controls",
      "model_module_version": "1.5.0",
      "model_name": "ButtonStyleModel",
      "state": {}
     },
     "5fe7a07658a04fa08d04b56f3930ca4d": {
      "model_module": "@jupyter-widgets/controls",
      "model_module_version": "1.5.0",
      "model_name": "ButtonStyleModel",
      "state": {}
     },
     "6005ddd8c750446aa4916821d4c97daa": {
      "model_module": "@jupyter-widgets/controls",
      "model_module_version": "1.5.0",
      "model_name": "DescriptionStyleModel",
      "state": {
       "description_width": ""
      }
     },
     "603249f7040e486898e151c6a3232117": {
      "model_module": "@jupyter-widgets/controls",
      "model_module_version": "1.5.0",
      "model_name": "DescriptionStyleModel",
      "state": {
       "description_width": ""
      }
     },
     "603affaef0a54a369d18b8d7e1afeb6e": {
      "model_module": "@jupyter-widgets/base",
      "model_module_version": "1.2.0",
      "model_name": "LayoutModel",
      "state": {
       "height": "80px",
       "width": "33%"
      }
     },
     "609e072ab3a74a4384a2b32985ace062": {
      "model_module": "@jupyter-widgets/base",
      "model_module_version": "1.2.0",
      "model_name": "LayoutModel",
      "state": {}
     },
     "60f9756ac41c4377a314b6420a7b3c4e": {
      "model_module": "@jupyter-widgets/controls",
      "model_module_version": "1.5.0",
      "model_name": "CheckboxModel",
      "state": {
       "description": "ERROR",
       "disabled": false,
       "indent": false,
       "layout": "IPY_MODEL_d077deafcab1422f9f0ed7bc7721c546",
       "style": "IPY_MODEL_9b831aa80b5d40829f636aaaea34bbd5",
       "value": false
      }
     },
     "60f9a9ae074c4f09bd514b2bcd5b2871": {
      "model_module": "@jupyter-widgets/controls",
      "model_module_version": "1.5.0",
      "model_name": "ButtonStyleModel",
      "state": {}
     },
     "61770ef51ac44fd1af4ea376ec2d0372": {
      "model_module": "@jupyter-widgets/controls",
      "model_module_version": "1.5.0",
      "model_name": "DescriptionStyleModel",
      "state": {
       "description_width": ""
      }
     },
     "632271c990564874b5c679a8879bea46": {
      "model_module": "@jupyter-widgets/controls",
      "model_module_version": "1.5.0",
      "model_name": "ButtonModel",
      "state": {
       "button_style": "success",
       "description": "Launch Duet",
       "icon": "plug",
       "layout": "IPY_MODEL_20d271ada19048a2b65198ba0114dc1c",
       "style": "IPY_MODEL_e3ccfa44546748d38719b954a9cd075b",
       "tooltip": "Launch Duet"
      }
     },
     "63f64450e59b47c5adaf037ee8734a59": {
      "model_module": "@jupyter-widgets/controls",
      "model_module_version": "1.5.0",
      "model_name": "DescriptionStyleModel",
      "state": {
       "description_width": ""
      }
     },
     "649814fe902b4307b56edbbe3db550ab": {
      "model_module": "@jupyter-widgets/controls",
      "model_module_version": "1.5.0",
      "model_name": "CheckboxModel",
      "state": {
       "description": "WARNING",
       "disabled": false,
       "indent": false,
       "layout": "IPY_MODEL_e1f21656d0a74f8cb43c74e5f762d063",
       "style": "IPY_MODEL_934ef30ca89a496f8c3063f83bde668f",
       "value": false
      }
     },
     "649f7cb9c7414379a08889d8af42bcfd": {
      "model_module": "@jupyter-widgets/controls",
      "model_module_version": "1.5.0",
      "model_name": "ButtonStyleModel",
      "state": {}
     },
     "64bd4da2466e49de9c5745131e8255ac": {
      "model_module": "@jupyter-widgets/base",
      "model_module_version": "1.2.0",
      "model_name": "LayoutModel",
      "state": {}
     },
     "64e344165f3344df88fc2d510202f345": {
      "model_module": "@jupyter-widgets/base",
      "model_module_version": "1.2.0",
      "model_name": "LayoutModel",
      "state": {}
     },
     "65540ba6ff4d48559dbcaf26406f4d66": {
      "model_module": "@jupyter-widgets/base",
      "model_module_version": "1.2.0",
      "model_name": "LayoutModel",
      "state": {
       "height": "80px",
       "width": "33%"
      }
     },
     "667c53b4c2ad4de08ae5f673d49a2959": {
      "model_module": "@jupyter-widgets/base",
      "model_module_version": "1.2.0",
      "model_name": "LayoutModel",
      "state": {}
     },
     "6723252eb50e436787fe592d17e9c921": {
      "model_module": "@jupyter-widgets/base",
      "model_module_version": "1.2.0",
      "model_name": "LayoutModel",
      "state": {
       "height": "50px",
       "width": "20%"
      }
     },
     "6788cdd2d2b34a66b08f982c691a51af": {
      "model_module": "@jupyter-widgets/base",
      "model_module_version": "1.2.0",
      "model_name": "LayoutModel",
      "state": {
       "height": "50px",
       "width": "20%"
      }
     },
     "67bd15b09da44a0786c178873f9c38cf": {
      "model_module": "@jupyter-widgets/controls",
      "model_module_version": "1.5.0",
      "model_name": "HBoxModel",
      "state": {
       "children": [
        "IPY_MODEL_0e1f6356c45143348ef4e784fd382347",
        "IPY_MODEL_81714199ae204bc8866bbb07850edf5e",
        "IPY_MODEL_caac9fd2ff4844aeb9e484fe9010963a"
       ],
       "layout": "IPY_MODEL_214132e3fa63421f8af268f882983d58"
      }
     },
     "686f67b1a6554b3e890d7ff89a63ae5f": {
      "model_module": "@jupyter-widgets/controls",
      "model_module_version": "1.5.0",
      "model_name": "CheckboxModel",
      "state": {
       "description": "NULL",
       "disabled": false,
       "indent": false,
       "layout": "IPY_MODEL_81c23539a07a4d3891ca193e4950fd4a",
       "style": "IPY_MODEL_f90faeb29cb44de4a600026e4578cfa9",
       "value": false
      }
     },
     "68b9b0bd69ec4312922bbfd5d84e8e76": {
      "model_module": "@jupyter-widgets/base",
      "model_module_version": "1.2.0",
      "model_name": "LayoutModel",
      "state": {
       "height": "80px",
       "width": "33%"
      }
     },
     "68c099db5f0c4c5bb7ad68a2526f4354": {
      "model_module": "@jupyter-widgets/base",
      "model_module_version": "1.2.0",
      "model_name": "LayoutModel",
      "state": {}
     },
     "68f8f377a3664fc298021a7948c89f02": {
      "model_module": "@jupyter-widgets/base",
      "model_module_version": "1.2.0",
      "model_name": "LayoutModel",
      "state": {}
     },
     "6954b41a50254e3eb23f7e67492cffdb": {
      "model_module": "@jupyter-widgets/base",
      "model_module_version": "1.2.0",
      "model_name": "LayoutModel",
      "state": {
       "align_items": "stretch",
       "border": "1px solid black",
       "display": "flex",
       "flex_flow": "column"
      }
     },
     "6976ffa0b09b4d28bc2661e7f0ebeba3": {
      "model_module": "@jupyter-widgets/controls",
      "model_module_version": "1.5.0",
      "model_name": "ButtonModel",
      "state": {
       "button_style": "success",
       "description": "Launch Duet",
       "icon": "plug",
       "layout": "IPY_MODEL_e20765fd4f64457ea8411ff3852b7677",
       "style": "IPY_MODEL_ac228dd1f03546a59857913222c0e73b",
       "tooltip": "Launch Duet"
      }
     },
     "69d22c6df0124596b2277d3e6c3be9de": {
      "model_module": "@jupyter-widgets/base",
      "model_module_version": "1.2.0",
      "model_name": "LayoutModel",
      "state": {}
     },
     "69e5cf4125194eccb305830ae05efd4b": {
      "model_module": "@jupyter-widgets/controls",
      "model_module_version": "1.5.0",
      "model_name": "HBoxModel",
      "state": {
       "children": [
        "IPY_MODEL_76834e79624949e494834c87929b74be",
        "IPY_MODEL_cdb7e29bc76842588117bea5846325c1",
        "IPY_MODEL_c079467a087547b9bd6d7edda75901c4",
        "IPY_MODEL_a38a7098ce7b400ba61aa5a27f6a2d83"
       ],
       "layout": "IPY_MODEL_b9388305f23e415a91e34457697ab64a"
      }
     },
     "6a1a4f139a834b9386f3dc9aa67aa30b": {
      "model_module": "@jupyter-widgets/base",
      "model_module_version": "1.2.0",
      "model_name": "LayoutModel",
      "state": {}
     },
     "6a45fae5bf39480f91552a88dd573f36": {
      "model_module": "@jupyter-widgets/controls",
      "model_module_version": "1.5.0",
      "model_name": "CheckboxModel",
      "state": {
       "description": "ERROR",
       "disabled": false,
       "indent": false,
       "layout": "IPY_MODEL_45279fc5f3b642e59636102728ca2fc4",
       "style": "IPY_MODEL_40d56425aa3e4cb898e4e1446dde30d7",
       "value": false
      }
     },
     "6ac30ce022504a8bae6546c83a33b59f": {
      "model_module": "@jupyter-widgets/controls",
      "model_module_version": "1.5.0",
      "model_name": "VBoxModel",
      "state": {
       "children": [
        "IPY_MODEL_0b966e8051d3420b9a5acecacb25a2f9",
        "IPY_MODEL_2f6a5c715ebb471ab0b56d807fa94ea1"
       ],
       "layout": "IPY_MODEL_91e3e5c62c924b16b17cb2e0ba388d8a"
      }
     },
     "6af63f73dde04b879aed7f9ef471922d": {
      "model_module": "@jupyter-widgets/base",
      "model_module_version": "1.2.0",
      "model_name": "LayoutModel",
      "state": {}
     },
     "6b148094eade4e319149764810d3a79b": {
      "model_module": "@jupyter-widgets/controls",
      "model_module_version": "1.5.0",
      "model_name": "ButtonModel",
      "state": {
       "button_style": "success",
       "description": "Search Logs",
       "icon": "search",
       "layout": "IPY_MODEL_6723252eb50e436787fe592d17e9c921",
       "style": "IPY_MODEL_d2dc132e3ba8403fbe27e6d6dae6edfd",
       "tooltip": "Search Logs"
      }
     },
     "6c1f26d4985e4495926167f429fd9769": {
      "model_module": "@jupyter-widgets/controls",
      "model_module_version": "1.5.0",
      "model_name": "DescriptionStyleModel",
      "state": {
       "description_width": ""
      }
     },
     "6c3e07233de94fbb851b9735ff0908f2": {
      "model_module": "qgrid",
      "model_module_version": "^1.1.3",
      "model_name": "QgridModel",
      "state": {
       "_columns": {
        "Date and Time": {
         "cssClass": "string",
         "defaultSortAsc": true,
         "editable": true,
         "field": "Date and Time",
         "id": "Date and Time",
         "maxWidth": null,
         "minWidth": 30,
         "name": "Date and Time",
         "position": 2,
         "resizable": true,
         "sortable": true,
         "toolTip": "",
         "type": "string",
         "width": null
        },
        "LOG TYPE": {
         "cssClass": "string",
         "defaultSortAsc": true,
         "editable": true,
         "field": "LOG TYPE",
         "id": "LOG TYPE",
         "maxWidth": null,
         "minWidth": 30,
         "name": "LOG TYPE",
         "position": 3,
         "resizable": true,
         "sortable": true,
         "toolTip": "",
         "type": "string",
         "width": null
        },
        "MESSAGE": {
         "cssClass": "string",
         "defaultSortAsc": true,
         "editable": true,
         "field": "MESSAGE",
         "id": "MESSAGE",
         "maxWidth": null,
         "minWidth": 30,
         "name": "MESSAGE",
         "position": 4,
         "resizable": true,
         "sortable": true,
         "toolTip": "",
         "type": "string",
         "width": null
        },
        "index": {
         "cssClass": "integer",
         "defaultSortAsc": true,
         "editable": true,
         "field": "index",
         "first_index": true,
         "id": "index",
         "index_display_text": "",
         "is_index": true,
         "level": 0,
         "maxWidth": null,
         "minWidth": 30,
         "name": "index",
         "position": 0,
         "resizable": true,
         "sortable": true,
         "toolTip": "",
         "type": "integer",
         "width": null
        },
        "qgrid_unfiltered_index": {
         "cssClass": "integer",
         "defaultSortAsc": true,
         "editable": true,
         "field": "qgrid_unfiltered_index",
         "id": "qgrid_unfiltered_index",
         "maxWidth": null,
         "minWidth": 30,
         "name": "qgrid_unfiltered_index",
         "position": 1,
         "resizable": true,
         "sortable": true,
         "toolTip": "",
         "type": "integer",
         "width": null
        }
       },
       "_df_json": "{\"schema\":{\"fields\":[{\"name\":\"index\",\"type\":\"integer\"},{\"name\":\"qgrid_unfiltered_index\",\"type\":\"integer\"},{\"name\":\"Date and Time\",\"type\":\"string\"},{\"name\":\"LOG TYPE\",\"type\":\"string\"},{\"name\":\"MESSAGE\",\"type\":\"string\"}],\"primaryKey\":[\"index\"],\"pandas_version\":\"0.20.0\"},\"data\":[{\"index\":0,\"qgrid_unfiltered_index\":0,\"Date and Time\":\"2021-04-02 16:02:25.275 \",\"LOG TYPE\":\" INFO     \",\"MESSAGE\":\" syft.widget_logger:log_and_print:84 - \\ud83c\\udfa4  \\ud83c\\udfb8  \\u266a\\u266a\\u266a Starting Duet \\u266b\\u266b\\u266b  \\ud83c\\udfbb  \\ud83c\\udfb9\\n\\n\"},{\"index\":1,\"qgrid_unfiltered_index\":1,\"Date and Time\":\"2021-04-02 16:02:25.284 \",\"LOG TYPE\":\" INFO     \",\"MESSAGE\":\" syft.widget_logger:log_and_print:84 - \\u266b\\u266b\\u266b >\\u001b[93m DISCLAIMER\\u001b[0m: \\u001b[1mDuet is an experimental feature currently in beta.\\n\\u266b\\u266b\\u266b > Use at your own risk.\\n\\u001b[0m\\n\"},{\"index\":2,\"qgrid_unfiltered_index\":2,\"Date and Time\":\"2021-04-02 16:02:25.294 \",\"LOG TYPE\":\" INFO     \",\"MESSAGE\":\" syft.widget_logger:log_and_print:84 - \\u001b[1m\\n    > \\u2764\\ufe0f \\u001b[91mLove\\u001b[0m \\u001b[92mDuet\\u001b[0m? \\u001b[93mPlease\\u001b[0m \\u001b[94mconsider\\u001b[0m \\u001b[95msupporting\\u001b[0m \\u001b[91mour\\u001b[0m \\u001b[93mcommunity!\\u001b[0m\\n    > https:\\/\\/github.com\\/sponsors\\/OpenMined\\u001b[1m\\n\\n\"},{\"index\":3,\"qgrid_unfiltered_index\":3,\"Date and Time\":\"2021-04-02 16:02:26.389 \",\"LOG TYPE\":\" INFO     \",\"MESSAGE\":\" syft.widget_logger:log_and_print:84 - \\u266b\\u266b\\u266b > Punching through firewall to OpenGrid Network Node at:\\n\"},{\"index\":4,\"qgrid_unfiltered_index\":4,\"Date and Time\":\"2021-04-02 16:02:26.393 \",\"LOG TYPE\":\" INFO     \",\"MESSAGE\":\" syft.widget_logger:log_and_print:84 - \\u266b\\u266b\\u266b > http:\\/\\/ec2-18-216-8-163.us-east-2.compute.amazonaws.com:5000\\n\"},{\"index\":5,\"qgrid_unfiltered_index\":5,\"Date and Time\":\"2021-04-02 16:02:26.399 \",\"LOG TYPE\":\" INFO     \",\"MESSAGE\":\" syft.widget_logger:log_and_print:84 - \\u266b\\u266b\\u266b >\\n\"},{\"index\":6,\"qgrid_unfiltered_index\":6,\"Date and Time\":\"2021-04-02 16:02:26.406 \",\"LOG TYPE\":\" INFO     \",\"MESSAGE\":\" syft.widget_logger:log_and_print:84 - \\u266b\\u266b\\u266b > ...waiting for response from OpenGrid Network... \\n\"},{\"index\":7,\"qgrid_unfiltered_index\":7,\"Date and Time\":\"2021-04-02 16:02:27.141 \",\"LOG TYPE\":\" INFO     \",\"MESSAGE\":\" syft.logger:log_and_print:76 - Skipping torch.Tensor.xpu not supported in 1.7.1\\n\"},{\"index\":8,\"qgrid_unfiltered_index\":8,\"Date and Time\":\"2021-04-02 16:02:27.142 \",\"LOG TYPE\":\" INFO     \",\"MESSAGE\":\" syft.logger:log_and_print:76 - Skipping torch.Tensor.tile not supported in 1.7.1\\n\"},{\"index\":9,\"qgrid_unfiltered_index\":9,\"Date and Time\":\"2021-04-02 16:02:27.142 \",\"LOG TYPE\":\" INFO     \",\"MESSAGE\":\" syft.logger:log_and_print:76 - Skipping torch.Tensor.fmax not supported in 1.7.1\\n\"},{\"index\":10,\"qgrid_unfiltered_index\":10,\"Date and Time\":\"2021-04-02 16:02:27.142 \",\"LOG TYPE\":\" INFO     \",\"MESSAGE\":\" syft.logger:log_and_print:76 - Skipping torch.Tensor.ldexp_ not supported in 1.7.1\\n\"},{\"index\":11,\"qgrid_unfiltered_index\":11,\"Date and Time\":\"2021-04-02 16:02:27.142 \",\"LOG TYPE\":\" INFO     \",\"MESSAGE\":\" syft.logger:log_and_print:76 - Skipping torch.Tensor.sinc not supported in 1.7.1\\n\"},{\"index\":12,\"qgrid_unfiltered_index\":12,\"Date and Time\":\"2021-04-02 16:02:27.142 \",\"LOG TYPE\":\" INFO     \",\"MESSAGE\":\" syft.logger:log_and_print:76 - Skipping torch.kron not supported in 1.7.1\\n\"},{\"index\":13,\"qgrid_unfiltered_index\":13,\"Date and Time\":\"2021-04-02 16:02:27.143 \",\"LOG TYPE\":\" INFO     \",\"MESSAGE\":\" syft.logger:log_and_print:76 - Skipping torch.Tensor.nan_to_num not supported in 1.7.1\\n\"},{\"index\":14,\"qgrid_unfiltered_index\":14,\"Date and Time\":\"2021-04-02 16:02:27.143 \",\"LOG TYPE\":\" INFO     \",\"MESSAGE\":\" syft.logger:log_and_print:76 - Skipping torch.msort not supported in 1.7.1\\n\"},{\"index\":15,\"qgrid_unfiltered_index\":15,\"Date and Time\":\"2021-04-02 16:02:27.143 \",\"LOG TYPE\":\" INFO     \",\"MESSAGE\":\" syft.logger:log_and_print:76 - Skipping torch.row_stack not supported in 1.7.1\\n\"},{\"index\":16,\"qgrid_unfiltered_index\":16,\"Date and Time\":\"2021-04-02 16:02:27.143 \",\"LOG TYPE\":\" INFO     \",\"MESSAGE\":\" syft.logger:log_and_print:76 - Skipping torch.Tensor.new_empty_strided not supported in 1.7.1\\n\"},{\"index\":17,\"qgrid_unfiltered_index\":17,\"Date and Time\":\"2021-04-02 16:02:27.143 \",\"LOG TYPE\":\" INFO     \",\"MESSAGE\":\" syft.logger:log_and_print:76 - Skipping torch.Tensor.ravel not supported in 1.7.1\\n\"},{\"index\":18,\"qgrid_unfiltered_index\":18,\"Date and Time\":\"2021-04-02 16:02:27.143 \",\"LOG TYPE\":\" INFO     \",\"MESSAGE\":\" syft.logger:log_and_print:76 - Skipping torch.Tensor.swapdims_ not supported in 1.7.1\\n\"},{\"index\":19,\"qgrid_unfiltered_index\":19,\"Date and Time\":\"2021-04-02 16:02:27.143 \",\"LOG TYPE\":\" INFO     \",\"MESSAGE\":\" syft.logger:log_and_print:76 - Skipping torch.moveaxis not supported in 1.7.1\\n\"},{\"index\":20,\"qgrid_unfiltered_index\":20,\"Date and Time\":\"2021-04-02 16:02:27.143 \",\"LOG TYPE\":\" INFO     \",\"MESSAGE\":\" syft.logger:log_and_print:76 - Skipping torch.Tensor.swapaxes not supported in 1.7.1\\n\"},{\"index\":21,\"qgrid_unfiltered_index\":21,\"Date and Time\":\"2021-04-02 16:02:27.144 \",\"LOG TYPE\":\" INFO     \",\"MESSAGE\":\" syft.logger:log_and_print:76 - Skipping torch.tensor_split not supported in 1.7.1\\n\"},{\"index\":22,\"qgrid_unfiltered_index\":22,\"Date and Time\":\"2021-04-02 16:02:27.144 \",\"LOG TYPE\":\" INFO     \",\"MESSAGE\":\" syft.logger:log_and_print:76 - Skipping torch.Tensor.tensor_split not supported in 1.7.1\\n\"},{\"index\":23,\"qgrid_unfiltered_index\":23,\"Date and Time\":\"2021-04-02 16:02:27.144 \",\"LOG TYPE\":\" INFO     \",\"MESSAGE\":\" syft.logger:log_and_print:76 - Skipping torch.tile not supported in 1.7.1\\n\"},{\"index\":24,\"qgrid_unfiltered_index\":24,\"Date and Time\":\"2021-04-02 16:02:27.144 \",\"LOG TYPE\":\" INFO     \",\"MESSAGE\":\" syft.logger:log_and_print:76 - Skipping torch.Tensor.float_power_ not supported in 1.7.1\\n\"},{\"index\":25,\"qgrid_unfiltered_index\":25,\"Date and Time\":\"2021-04-02 16:02:27.144 \",\"LOG TYPE\":\" INFO     \",\"MESSAGE\":\" syft.logger:log_and_print:76 - Skipping torch.Tensor.broadcast_to not supported in 1.7.1\\n\"},{\"index\":26,\"qgrid_unfiltered_index\":26,\"Date and Time\":\"2021-04-02 16:02:27.144 \",\"LOG TYPE\":\" INFO     \",\"MESSAGE\":\" syft.logger:log_and_print:76 - Skipping torch.fmin not supported in 1.7.1\\n\"},{\"index\":27,\"qgrid_unfiltered_index\":27,\"Date and Time\":\"2021-04-02 16:02:27.144 \",\"LOG TYPE\":\" INFO     \",\"MESSAGE\":\" syft.logger:log_and_print:76 - Skipping torch.ldexp not supported in 1.7.1\\n\"},{\"index\":28,\"qgrid_unfiltered_index\":28,\"Date and Time\":\"2021-04-02 16:02:27.144 \",\"LOG TYPE\":\" INFO     \",\"MESSAGE\":\" syft.logger:log_and_print:76 - Skipping torch.Tensor.swapdims not supported in 1.7.1\\n\"},{\"index\":29,\"qgrid_unfiltered_index\":29,\"Date and Time\":\"2021-04-02 16:02:27.145 \",\"LOG TYPE\":\" INFO     \",\"MESSAGE\":\" syft.logger:log_and_print:76 - Skipping torch.igamma not supported in 1.7.1\\n\"},{\"index\":30,\"qgrid_unfiltered_index\":30,\"Date and Time\":\"2021-04-02 16:02:27.145 \",\"LOG TYPE\":\" INFO     \",\"MESSAGE\":\" syft.logger:log_and_print:76 - Skipping torch.Tensor.nan_to_num_ not supported in 1.7.1\\n\"},{\"index\":31,\"qgrid_unfiltered_index\":31,\"Date and Time\":\"2021-04-02 16:02:27.145 \",\"LOG TYPE\":\" INFO     \",\"MESSAGE\":\" syft.logger:log_and_print:76 - Skipping torch.Tensor.copysign not supported in 1.7.1\\n\"},{\"index\":32,\"qgrid_unfiltered_index\":32,\"Date and Time\":\"2021-04-02 16:02:27.145 \",\"LOG TYPE\":\" INFO     \",\"MESSAGE\":\" syft.logger:log_and_print:76 - Skipping torch.Tensor.swapaxes_ not supported in 1.7.1\\n\"},{\"index\":33,\"qgrid_unfiltered_index\":33,\"Date and Time\":\"2021-04-02 16:02:27.145 \",\"LOG TYPE\":\" INFO     \",\"MESSAGE\":\" syft.logger:log_and_print:76 - Skipping torch.Tensor.cumprod_ not supported in 1.7.1\\n\"},{\"index\":34,\"qgrid_unfiltered_index\":34,\"Date and Time\":\"2021-04-02 16:02:27.145 \",\"LOG TYPE\":\" INFO     \",\"MESSAGE\":\" syft.logger:log_and_print:76 - Skipping torch.Tensor.ldexp not supported in 1.7.1\\n\"},{\"index\":35,\"qgrid_unfiltered_index\":35,\"Date and Time\":\"2021-04-02 16:02:27.145 \",\"LOG TYPE\":\" INFO     \",\"MESSAGE\":\" syft.logger:log_and_print:76 - Skipping torch.Tensor.igamma_ not supported in 1.7.1\\n\"},{\"index\":36,\"qgrid_unfiltered_index\":36,\"Date and Time\":\"2021-04-02 16:02:27.146 \",\"LOG TYPE\":\" INFO     \",\"MESSAGE\":\" syft.logger:log_and_print:76 - Skipping torch.float_power not supported in 1.7.1\\n\"},{\"index\":37,\"qgrid_unfiltered_index\":37,\"Date and Time\":\"2021-04-02 16:02:27.146 \",\"LOG TYPE\":\" INFO     \",\"MESSAGE\":\" syft.logger:log_and_print:76 - Skipping torch.Tensor.igammac_ not supported in 1.7.1\\n\"},{\"index\":38,\"qgrid_unfiltered_index\":38,\"Date and Time\":\"2021-04-02 16:02:27.146 \",\"LOG TYPE\":\" INFO     \",\"MESSAGE\":\" syft.logger:log_and_print:76 - Skipping torch.xlogy not supported in 1.7.1\\n\"},{\"index\":39,\"qgrid_unfiltered_index\":39,\"Date and Time\":\"2021-04-02 16:02:27.146 \",\"LOG TYPE\":\" INFO     \",\"MESSAGE\":\" syft.logger:log_and_print:76 - Skipping torch.copysign not supported in 1.7.1\\n\"},{\"index\":40,\"qgrid_unfiltered_index\":40,\"Date and Time\":\"2021-04-02 16:02:27.146 \",\"LOG TYPE\":\" INFO     \",\"MESSAGE\":\" syft.logger:log_and_print:76 - Skipping torch.nanmedian not supported in 1.7.1\\n\"},{\"index\":41,\"qgrid_unfiltered_index\":41,\"Date and Time\":\"2021-04-02 16:02:27.146 \",\"LOG TYPE\":\" INFO     \",\"MESSAGE\":\" syft.logger:log_and_print:76 - Skipping torch.igammac not supported in 1.7.1\\n\"},{\"index\":42,\"qgrid_unfiltered_index\":42,\"Date and Time\":\"2021-04-02 16:02:27.146 \",\"LOG TYPE\":\" INFO     \",\"MESSAGE\":\" syft.logger:log_and_print:76 - Skipping torch.Tensor.cumsum_ not supported in 1.7.1\\n\"},{\"index\":43,\"qgrid_unfiltered_index\":43,\"Date and Time\":\"2021-04-02 16:02:27.147 \",\"LOG TYPE\":\" INFO     \",\"MESSAGE\":\" syft.logger:log_and_print:76 - Skipping torch.diff not supported in 1.7.1\\n\"},{\"index\":44,\"qgrid_unfiltered_index\":44,\"Date and Time\":\"2021-04-02 16:02:27.147 \",\"LOG TYPE\":\" INFO     \",\"MESSAGE\":\" syft.logger:log_and_print:76 - Skipping torch.Tensor.igamma not supported in 1.7.1\\n\"},{\"index\":45,\"qgrid_unfiltered_index\":45,\"Date and Time\":\"2021-04-02 16:02:27.147 \",\"LOG TYPE\":\" INFO     \",\"MESSAGE\":\" syft.logger:log_and_print:76 - Skipping torch.sinc not supported in 1.7.1\\n\"},{\"index\":46,\"qgrid_unfiltered_index\":46,\"Date and Time\":\"2021-04-02 16:02:27.147 \",\"LOG TYPE\":\" INFO     \",\"MESSAGE\":\" syft.logger:log_and_print:76 - Skipping torch.Tensor.igammac not supported in 1.7.1\\n\"},{\"index\":47,\"qgrid_unfiltered_index\":47,\"Date and Time\":\"2021-04-02 16:02:27.147 \",\"LOG TYPE\":\" INFO     \",\"MESSAGE\":\" syft.logger:log_and_print:76 - Skipping torch.Tensor.kron not supported in 1.7.1\\n\"},{\"index\":48,\"qgrid_unfiltered_index\":48,\"Date and Time\":\"2021-04-02 16:02:27.147 \",\"LOG TYPE\":\" INFO     \",\"MESSAGE\":\" syft.logger:log_and_print:76 - Skipping torch.column_stack not supported in 1.7.1\\n\"},{\"index\":49,\"qgrid_unfiltered_index\":49,\"Date and Time\":\"2021-04-02 16:02:27.147 \",\"LOG TYPE\":\" INFO     \",\"MESSAGE\":\" syft.logger:log_and_print:76 - Skipping torch.Tensor.msort not supported in 1.7.1\\n\"},{\"index\":50,\"qgrid_unfiltered_index\":50,\"Date and Time\":\"2021-04-02 16:02:27.147 \",\"LOG TYPE\":\" INFO     \",\"MESSAGE\":\" syft.logger:log_and_print:76 - Skipping torch.pixel_unshuffle not supported in 1.7.1\\n\"},{\"index\":51,\"qgrid_unfiltered_index\":51,\"Date and Time\":\"2021-04-02 16:02:27.148 \",\"LOG TYPE\":\" INFO     \",\"MESSAGE\":\" syft.logger:log_and_print:76 - Skipping torch.Tensor.fmin not supported in 1.7.1\\n\"},{\"index\":52,\"qgrid_unfiltered_index\":52,\"Date and Time\":\"2021-04-02 16:02:27.148 \",\"LOG TYPE\":\" INFO     \",\"MESSAGE\":\" syft.logger:log_and_print:76 - Skipping torch.Tensor.xlogy not supported in 1.7.1\\n\"},{\"index\":53,\"qgrid_unfiltered_index\":53,\"Date and Time\":\"2021-04-02 16:02:27.148 \",\"LOG TYPE\":\" INFO     \",\"MESSAGE\":\" syft.logger:log_and_print:76 - Skipping torch.Tensor.moveaxis not supported in 1.7.1\\n\"},{\"index\":54,\"qgrid_unfiltered_index\":54,\"Date and Time\":\"2021-04-02 16:02:27.148 \",\"LOG TYPE\":\" INFO     \",\"MESSAGE\":\" syft.logger:log_and_print:76 - Skipping torch.swapaxes not supported in 1.7.1\\n\"},{\"index\":55,\"qgrid_unfiltered_index\":55,\"Date and Time\":\"2021-04-02 16:02:27.148 \",\"LOG TYPE\":\" INFO     \",\"MESSAGE\":\" syft.logger:log_and_print:76 - Skipping torch.nan_to_num not supported in 1.7.1\\n\"},{\"index\":56,\"qgrid_unfiltered_index\":56,\"Date and Time\":\"2021-04-02 16:02:27.148 \",\"LOG TYPE\":\" INFO     \",\"MESSAGE\":\" syft.logger:log_and_print:76 - Skipping torch.inner not supported in 1.7.1\\n\"},{\"index\":57,\"qgrid_unfiltered_index\":57,\"Date and Time\":\"2021-04-02 16:02:27.148 \",\"LOG TYPE\":\" INFO     \",\"MESSAGE\":\" syft.logger:log_and_print:76 - Skipping torch.fmax not supported in 1.7.1\\n\"},{\"index\":58,\"qgrid_unfiltered_index\":58,\"Date and Time\":\"2021-04-02 16:02:27.148 \",\"LOG TYPE\":\" INFO     \",\"MESSAGE\":\" syft.logger:log_and_print:76 - Skipping torch.Tensor.float_power not supported in 1.7.1\\n\"},{\"index\":59,\"qgrid_unfiltered_index\":59,\"Date and Time\":\"2021-04-02 16:02:27.149 \",\"LOG TYPE\":\" INFO     \",\"MESSAGE\":\" syft.logger:log_and_print:76 - Skipping torch.Tensor.nanmedian not supported in 1.7.1\\n\"},{\"index\":60,\"qgrid_unfiltered_index\":60,\"Date and Time\":\"2021-04-02 16:02:27.149 \",\"LOG TYPE\":\" INFO     \",\"MESSAGE\":\" syft.logger:log_and_print:76 - Skipping torch.Tensor.sinc_ not supported in 1.7.1\\n\"},{\"index\":61,\"qgrid_unfiltered_index\":61,\"Date and Time\":\"2021-04-02 16:02:27.149 \",\"LOG TYPE\":\" INFO     \",\"MESSAGE\":\" syft.logger:log_and_print:76 - Skipping torch.Tensor.copysign_ not supported in 1.7.1\\n\"},{\"index\":62,\"qgrid_unfiltered_index\":62,\"Date and Time\":\"2021-04-02 16:02:27.149 \",\"LOG TYPE\":\" INFO     \",\"MESSAGE\":\" syft.logger:log_and_print:76 - Skipping torch.ravel not supported in 1.7.1\\n\"},{\"index\":63,\"qgrid_unfiltered_index\":63,\"Date and Time\":\"2021-04-02 16:02:27.149 \",\"LOG TYPE\":\" INFO     \",\"MESSAGE\":\" syft.logger:log_and_print:76 - Skipping torch.broadcast_to not supported in 1.7.1\\n\"},{\"index\":64,\"qgrid_unfiltered_index\":64,\"Date and Time\":\"2021-04-02 16:02:27.150 \",\"LOG TYPE\":\" INFO     \",\"MESSAGE\":\" syft.logger:log_and_print:76 - Skipping torch.Tensor.diff not supported in 1.7.1\\n\"},{\"index\":65,\"qgrid_unfiltered_index\":65,\"Date and Time\":\"2021-04-02 16:02:27.150 \",\"LOG TYPE\":\" INFO     \",\"MESSAGE\":\" syft.logger:log_and_print:76 - Skipping torch.Tensor.xlogy_ not supported in 1.7.1\\n\"},{\"index\":66,\"qgrid_unfiltered_index\":66,\"Date and Time\":\"2021-04-02 16:02:27.150 \",\"LOG TYPE\":\" INFO     \",\"MESSAGE\":\" syft.logger:log_and_print:76 - Skipping torch.swapdims not supported in 1.7.1\\n\"},{\"index\":67,\"qgrid_unfiltered_index\":67,\"Date and Time\":\"2021-04-02 16:02:27.150 \",\"LOG TYPE\":\" INFO     \",\"MESSAGE\":\" syft.logger:log_and_print:76 - Skipping torch.Tensor.inner not supported in 1.7.1\\n\"},{\"index\":68,\"qgrid_unfiltered_index\":68,\"Date and Time\":\"2021-04-02 16:02:27.260 \",\"LOG TYPE\":\" DEBUG    \",\"MESSAGE\":\" syft.logger:log_and_print:76 - > Creating \\ud83d\\udce1 [\\ud83d\\udd17] om-net Client (NetworkClient)@<UID:\\ud83d\\ude7f\\ud83d\\ude51>\\n\"},{\"index\":69,\"qgrid_unfiltered_index\":69,\"Date and Time\":\"2021-04-02 16:02:27.260 \",\"LOG TYPE\":\" DEBUG    \",\"MESSAGE\":\" syft.logger:log_and_print:76 - > Creating \\u2709\\ufe0f  (RegisterNewPeerMessage) <UID:\\ud83d\\udeb4\\ud83d\\ude58>\\n\"},{\"index\":70,\"qgrid_unfiltered_index\":70,\"Date and Time\":\"2021-04-02 16:02:27.260 \",\"LOG TYPE\":\" DEBUG    \",\"MESSAGE\":\" syft.logger:log_and_print:76 - > \\ud83d\\udce1 [\\ud83d\\udd17] om-net Client (NetworkClient)@<UID:\\ud83d\\ude7f\\ud83d\\ude51> Signing \\u2709\\ufe0f  (RegisterNewPeerMessage) with \\ud83d\\udf1c\\n\"},{\"index\":71,\"qgrid_unfiltered_index\":71,\"Date and Time\":\"2021-04-02 16:02:27.261 \",\"LOG TYPE\":\" DEBUG    \",\"MESSAGE\":\" syft.logger:log_and_print:76 - > Signing with \\ud83d\\udf1c\\n\"},{\"index\":72,\"qgrid_unfiltered_index\":72,\"Date and Time\":\"2021-04-02 16:02:27.261 \",\"LOG TYPE\":\" DEBUG    \",\"MESSAGE\":\" syft.logger:log_and_print:76 - Serializing syft.grid.services.signaling_service.RegisterNewPeerMessage\\n\"},{\"index\":73,\"qgrid_unfiltered_index\":73,\"Date and Time\":\"2021-04-02 16:02:27.261 \",\"LOG TYPE\":\" DEBUG    \",\"MESSAGE\":\" syft.logger:log_and_print:76 - > Creating Signed \\u2709\\ufe0f \\ud83d\\udd0f (SignedImmediateSyftMessageWithReply) <UID:\\ud83d\\udeb4\\ud83d\\ude58>\\n\"},{\"index\":74,\"qgrid_unfiltered_index\":74,\"Date and Time\":\"2021-04-02 16:02:27.261 \",\"LOG TYPE\":\" DEBUG    \",\"MESSAGE\":\" syft.logger:log_and_print:76 - Serializing syft.core.common.message.SignedImmediateSyftMessageWithReply\\n\"},{\"index\":75,\"qgrid_unfiltered_index\":75,\"Date and Time\":\"2021-04-02 16:02:27.261 \",\"LOG TYPE\":\" DEBUG    \",\"MESSAGE\":\" syft.logger:log_and_print:76 - > \\u2709\\ufe0f \\ud83d\\udd0f -> Proto \\ud83d\\udd22 <UID: cf0719b9d9454fcab612013118764d4f>\\n\"},{\"index\":76,\"qgrid_unfiltered_index\":76,\"Date and Time\":\"2021-04-02 16:02:27.866 \",\"LOG TYPE\":\" DEBUG    \",\"MESSAGE\":\" syft.logger:log_and_print:76 - > Creating \\u2709\\ufe0f  (PeerSuccessfullyRegistered) <UID:\\ud83d\\ude7e\\ud83d\\udee4>\\n\"},{\"index\":77,\"qgrid_unfiltered_index\":77,\"Date and Time\":\"2021-04-02 16:02:27.867 \",\"LOG TYPE\":\" DEBUG    \",\"MESSAGE\":\" syft.logger:log_and_print:76 - > Creating Signed \\u2709\\ufe0f \\ud83d\\udd0f (SignedImmediateSyftMessageWithoutReply) <UID:\\ud83d\\ude7e\\ud83d\\udee4>\\n\"},{\"index\":78,\"qgrid_unfiltered_index\":78,\"Date and Time\":\"2021-04-02 16:02:27.867 \",\"LOG TYPE\":\" DEBUG    \",\"MESSAGE\":\" syft.logger:log_and_print:76 - > \\u2709\\ufe0f \\ud83d\\udd0f <- \\ud83d\\udd22 Proto\\n\"},{\"index\":79,\"qgrid_unfiltered_index\":79,\"Date and Time\":\"2021-04-02 16:02:27.868 \",\"LOG TYPE\":\" DEBUG    \",\"MESSAGE\":\" syft.logger:log_and_print:76 - > Creating \\u2709\\ufe0f  (PeerSuccessfullyRegistered) <UID:\\ud83d\\ude7e\\ud83d\\udee4>\\n\"},{\"index\":80,\"qgrid_unfiltered_index\":80,\"Date and Time\":\"2021-04-02 16:02:27.871 \",\"LOG TYPE\":\" INFO     \",\"MESSAGE\":\" syft.widget_logger:log_and_print:84 - \\u266b\\u266b\\u266b > \\u001b[92mDONE!\\u001b[0m\\n\"},{\"index\":81,\"qgrid_unfiltered_index\":81,\"Date and Time\":\"2021-04-02 16:02:27.876 \",\"LOG TYPE\":\" DEBUG    \",\"MESSAGE\":\" syft.logger:log_and_print:76 - > Creating \\ud83d\\uddc3\\ufe0f (MemoryStore) {}\\n\"},{\"index\":82,\"qgrid_unfiltered_index\":82,\"Date and Time\":\"2021-04-02 16:02:27.876 \",\"LOG TYPE\":\" DEBUG    \",\"MESSAGE\":\" syft.logger:log_and_print:76 - Created MemoryStore.\\n\"},{\"index\":83,\"qgrid_unfiltered_index\":83,\"Date and Time\":\"2021-04-02 16:02:27.879 \",\"LOG TYPE\":\" DEBUG    \",\"MESSAGE\":\" syft.logger:log_and_print:76 - > Creating \\ud83c\\udff0 Launcher (Domain)@<UID:\\ud83d\\udeb1\\ud83d\\udeb4>\\n\"},{\"index\":84,\"qgrid_unfiltered_index\":84,\"Date and Time\":\"2021-04-02 16:02:27.880 \",\"LOG TYPE\":\" DEBUG    \",\"MESSAGE\":\" syft.logger:log_and_print:82 - failed to log exception. info() missing 1 required positional argument: '_Logger__message'\\n\"},{\"index\":85,\"qgrid_unfiltered_index\":85,\"Date and Time\":\"2021-04-02 16:02:27.881 \",\"LOG TYPE\":\" INFO     \",\"MESSAGE\":\" syft.logger:log_and_print:76 - \\u266b\\u266b\\u266b > \\u001b[95mSTEP 1:\\u001b[0m Send the following code to your Duet Partner!\\n\"},{\"index\":86,\"qgrid_unfiltered_index\":86,\"Date and Time\":\"2021-04-02 16:02:27.884 \",\"LOG TYPE\":\" INFO     \",\"MESSAGE\":\" syft.logger:log_and_print:76 - \\nimport syft as sy\\n\"},{\"index\":87,\"qgrid_unfiltered_index\":87,\"Date and Time\":\"2021-04-02 16:02:27.884 \",\"LOG TYPE\":\" INFO     \",\"MESSAGE\":\" syft.logger:log_and_print:76 - duet = sy.join_duet(loopback=True)\\n\"},{\"index\":88,\"qgrid_unfiltered_index\":88,\"Date and Time\":\"2021-04-02 16:02:27.884 \",\"LOG TYPE\":\" DEBUG    \",\"MESSAGE\":\" syft.logger:log_and_print:82 - failed to log exception. info() missing 1 required positional argument: '_Logger__message'\\n\"},{\"index\":89,\"qgrid_unfiltered_index\":89,\"Date and Time\":\"2021-04-02 16:02:27.887 \",\"LOG TYPE\":\" DEBUG    \",\"MESSAGE\":\" syft.logger:log_and_print:76 - client not ready\\n\"},{\"index\":90,\"qgrid_unfiltered_index\":90,\"Date and Time\":\"2021-04-02 16:02:28.389 \",\"LOG TYPE\":\" DEBUG    \",\"MESSAGE\":\" syft.logger:log_and_print:76 - client not ready\\n\"},{\"index\":91,\"qgrid_unfiltered_index\":91,\"Date and Time\":\"2021-04-02 16:02:28.894 \",\"LOG TYPE\":\" DEBUG    \",\"MESSAGE\":\" syft.logger:log_and_print:76 - client not ready\\n\"},{\"index\":92,\"qgrid_unfiltered_index\":92,\"Date and Time\":\"2021-04-02 16:02:29.398 \",\"LOG TYPE\":\" DEBUG    \",\"MESSAGE\":\" syft.logger:log_and_print:76 - client not ready\\n\"},{\"index\":93,\"qgrid_unfiltered_index\":93,\"Date and Time\":\"2021-04-02 16:02:29.904 \",\"LOG TYPE\":\" DEBUG    \",\"MESSAGE\":\" syft.logger:log_and_print:76 - client not ready\\n\"},{\"index\":94,\"qgrid_unfiltered_index\":94,\"Date and Time\":\"2021-04-02 16:02:30.405 \",\"LOG TYPE\":\" DEBUG    \",\"MESSAGE\":\" syft.logger:log_and_print:76 - client not ready\\n\"},{\"index\":95,\"qgrid_unfiltered_index\":95,\"Date and Time\":\"2021-04-02 16:02:30.906 \",\"LOG TYPE\":\" DEBUG    \",\"MESSAGE\":\" syft.logger:log_and_print:76 - client not ready\\n\"},{\"index\":96,\"qgrid_unfiltered_index\":96,\"Date and Time\":\"2021-04-02 16:02:31.411 \",\"LOG TYPE\":\" DEBUG    \",\"MESSAGE\":\" syft.logger:log_and_print:76 - client not ready\\n\"},{\"index\":97,\"qgrid_unfiltered_index\":97,\"Date and Time\":\"2021-04-02 16:02:31.913 \",\"LOG TYPE\":\" DEBUG    \",\"MESSAGE\":\" syft.logger:log_and_print:76 - client not ready\\n\"},{\"index\":98,\"qgrid_unfiltered_index\":98,\"Date and Time\":\"2021-04-02 16:02:32.415 \",\"LOG TYPE\":\" DEBUG    \",\"MESSAGE\":\" syft.logger:log_and_print:76 - client not ready\\n\"},{\"index\":99,\"qgrid_unfiltered_index\":99,\"Date and Time\":\"2021-04-02 16:02:32.916 \",\"LOG TYPE\":\" DEBUG    \",\"MESSAGE\":\" syft.logger:log_and_print:76 - client not ready\\n\"}]}",
       "_df_range": [
        0,
        100
       ],
       "_editable_rows": {},
       "_index_col_name": "qgrid_unfiltered_index",
       "_interval_columns": [],
       "_model_module_version": "^1.1.3",
       "_multi_index": false,
       "_row_count": 263,
       "_row_styles": {},
       "_sort_ascending": true,
       "_sort_field": null,
       "_view_module_version": "^1.1.3",
       "_viewport_range": [
        0,
        100
       ],
       "grid_options": {
        "autoEdit": false,
        "boldIndex": true,
        "defaultColumnWidth": 150,
        "editable": true,
        "enableColumnReorder": false,
        "enableTextSelectionOnCells": true,
        "explicitInitialization": true,
        "filterable": true,
        "forceFitColumns": true,
        "fullWidthRows": true,
        "highlightSelectedCell": false,
        "highlightSelectedRow": true,
        "maxVisibleRows": 15,
        "minVisibleRows": 8,
        "rowHeight": 28,
        "sortable": true,
        "syncColumnCellResize": true
       },
       "id": "66704a62-0c04-4b92-9957-79916bcbe826",
       "layout": "IPY_MODEL_90036c8ff1284dd59fa4761611e34042",
       "precision": 5,
       "show_toolbar": true
      }
     },
     "6c6ff7d7a9c64a5fb51def3980c3288b": {
      "model_module": "@jupyter-widgets/controls",
      "model_module_version": "1.5.0",
      "model_name": "ButtonStyleModel",
      "state": {}
     },
     "6c84e35f7f944c6da10e6bf355ae16c8": {
      "model_module": "@jupyter-widgets/controls",
      "model_module_version": "1.5.0",
      "model_name": "HBoxModel",
      "state": {
       "children": [
        "IPY_MODEL_901233cc53954988a2bb97b3e8f20d25",
        "IPY_MODEL_f4d3b5c39bfe4d2cbdd5ed25d1402604"
       ],
       "layout": "IPY_MODEL_b3df2d724e454aebb676c5bedded85b0"
      }
     },
     "6d4aea5142974266aa4e9a2ab5887602": {
      "model_module": "@jupyter-widgets/base",
      "model_module_version": "1.2.0",
      "model_name": "LayoutModel",
      "state": {}
     },
     "6d82499e3f684651a79f95d4b047896c": {
      "model_module": "@jupyter-widgets/base",
      "model_module_version": "1.2.0",
      "model_name": "LayoutModel",
      "state": {
       "align_items": "stretch",
       "border": "1px solid black",
       "display": "flex",
       "flex_flow": "column"
      }
     },
     "6dac9c155be74e15bb54ec4ff3890ec9": {
      "model_module": "@jupyter-widgets/base",
      "model_module_version": "1.2.0",
      "model_name": "LayoutModel",
      "state": {}
     },
     "6dcb6d271d414bbea658d1d344e1a1ef": {
      "model_module": "@jupyter-widgets/base",
      "model_module_version": "1.2.0",
      "model_name": "LayoutModel",
      "state": {}
     },
     "6e040eaed5244f028fa7f71b9baef05c": {
      "model_module": "@jupyter-widgets/controls",
      "model_module_version": "1.5.0",
      "model_name": "HBoxModel",
      "state": {
       "children": [
        "IPY_MODEL_75eb0553ab884176bf553fa92dd5dd5a",
        "IPY_MODEL_1e62786fc5e9409381e3bef20d85feae",
        "IPY_MODEL_6f771077e92440d886661d534e299067"
       ],
       "layout": "IPY_MODEL_db5642a7c5ec4d6891dd211a6c064e47"
      }
     },
     "6f771077e92440d886661d534e299067": {
      "model_module": "@jupyter-widgets/controls",
      "model_module_version": "1.5.0",
      "model_name": "ButtonModel",
      "state": {
       "button_style": "info",
       "description": "View Peers",
       "icon": "eye",
       "layout": "IPY_MODEL_8b5066c87d904afa9510ec909c3bf84b",
       "style": "IPY_MODEL_89d779aec6be4636befa01a1e7c77efd",
       "tooltip": "View Peers"
      }
     },
     "7055e64ab95349c4bae9d2c0a64965cd": {
      "model_module": "@jupyter-widgets/controls",
      "model_module_version": "1.5.0",
      "model_name": "DescriptionStyleModel",
      "state": {
       "description_width": ""
      }
     },
     "7057f347f81743f1942fe669cb12eccd": {
      "model_module": "@jupyter-widgets/base",
      "model_module_version": "1.2.0",
      "model_name": "LayoutModel",
      "state": {}
     },
     "708f278904e94436867ae99166d7f1d2": {
      "model_module": "@jupyter-widgets/controls",
      "model_module_version": "1.5.0",
      "model_name": "ButtonModel",
      "state": {
       "button_style": "info",
       "description": "Load Dataset",
       "icon": "data",
       "layout": "IPY_MODEL_f4dbe4d3d82b452aaa62a6c085ddb9e8",
       "style": "IPY_MODEL_2fea2c0cd02747dfbb20fa716d52883c",
       "tooltip": "Load Dataset"
      }
     },
     "70eddd6d10804a95b73b643c694ec681": {
      "model_module": "@jupyter-widgets/controls",
      "model_module_version": "1.5.0",
      "model_name": "DescriptionStyleModel",
      "state": {
       "description_width": ""
      }
     },
     "70fcfe9f888b4da8b312db8b7a8314df": {
      "model_module": "@jupyter-widgets/output",
      "model_module_version": "1.0.0",
      "model_name": "OutputModel",
      "state": {
       "layout": "IPY_MODEL_6954b41a50254e3eb23f7e67492cffdb",
       "outputs": [
        {
         "name": "stdout",
         "output_type": "stream",
         "text": "Loaded MNIST Data Successfully .... \n"
        }
       ]
      }
     },
     "715c518ebf714f7eb2803b7af5f75873": {
      "model_module": "@jupyter-widgets/base",
      "model_module_version": "1.2.0",
      "model_name": "LayoutModel",
      "state": {
       "height": "80px",
       "width": "33%"
      }
     },
     "71ab63c66f114dc5b5216f8d72d104fd": {
      "model_module": "@jupyter-widgets/controls",
      "model_module_version": "1.5.0",
      "model_name": "ButtonStyleModel",
      "state": {}
     },
     "71adfd2fb64c46318c4dc34407ce0475": {
      "model_module": "@jupyter-widgets/controls",
      "model_module_version": "1.5.0",
      "model_name": "ButtonStyleModel",
      "state": {}
     },
     "721538f685b44f7d9e655006c1f51a65": {
      "model_module": "@jupyter-widgets/base",
      "model_module_version": "1.2.0",
      "model_name": "LayoutModel",
      "state": {}
     },
     "728e171f04d54a7a9defa281c9cbbe4b": {
      "model_module": "@jupyter-widgets/base",
      "model_module_version": "1.2.0",
      "model_name": "LayoutModel",
      "state": {}
     },
     "73a6a36fc9794cb09ac2be91cde44e92": {
      "model_module": "@jupyter-widgets/controls",
      "model_module_version": "1.5.0",
      "model_name": "ButtonStyleModel",
      "state": {}
     },
     "73b663ae754c4096aaa51e3a3dfe466f": {
      "model_module": "@jupyter-widgets/base",
      "model_module_version": "1.2.0",
      "model_name": "LayoutModel",
      "state": {}
     },
     "757edf3421e141e2956b3b4e39979fde": {
      "model_module": "@jupyter-widgets/controls",
      "model_module_version": "1.5.0",
      "model_name": "CheckboxModel",
      "state": {
       "description": "DEBUG",
       "disabled": false,
       "indent": false,
       "layout": "IPY_MODEL_46dbaa1d38ac43d9b79f4142293b25a7",
       "style": "IPY_MODEL_aa8aacdbddaf4427942dc06a4bc25215",
       "value": true
      }
     },
     "75822604b07544dca12f003cb2c5dba3": {
      "model_module": "@jupyter-widgets/base",
      "model_module_version": "1.2.0",
      "model_name": "LayoutModel",
      "state": {}
     },
     "75d3405605d3464c88e11baa60fec009": {
      "model_module": "@jupyter-widgets/controls",
      "model_module_version": "1.5.0",
      "model_name": "CheckboxModel",
      "state": {
       "description": "WARNING",
       "disabled": false,
       "indent": false,
       "layout": "IPY_MODEL_974d684295614d98bc226dde184f1aba",
       "style": "IPY_MODEL_3ba47b9992b74c40a1c477a09b9bcf77",
       "value": false
      }
     },
     "75eb0553ab884176bf553fa92dd5dd5a": {
      "model_module": "@jupyter-widgets/controls",
      "model_module_version": "1.5.0",
      "model_name": "ButtonModel",
      "state": {
       "button_style": "success",
       "description": "Launch Duet",
       "icon": "plug",
       "layout": "IPY_MODEL_d69e10fc301240e09d634bbd45310a42",
       "style": "IPY_MODEL_5fe7a07658a04fa08d04b56f3930ca4d",
       "tooltip": "Launch Duet"
      }
     },
     "762312d7ef5b4d149ef495309292dd6e": {
      "model_module": "@jupyter-widgets/base",
      "model_module_version": "1.2.0",
      "model_name": "LayoutModel",
      "state": {
       "height": "50px",
       "width": "20%"
      }
     },
     "767204e2802f48b9842c6510d6f41424": {
      "model_module": "@jupyter-widgets/base",
      "model_module_version": "1.2.0",
      "model_name": "LayoutModel",
      "state": {}
     },
     "76834e79624949e494834c87929b74be": {
      "model_module": "@jupyter-widgets/controls",
      "model_module_version": "1.5.0",
      "model_name": "CheckboxModel",
      "state": {
       "description": "INFO",
       "disabled": false,
       "indent": false,
       "layout": "IPY_MODEL_bc5a265ef396487f8947de98671ccf01",
       "style": "IPY_MODEL_3d342c46ce4a47baa7abadef40a5b4b7",
       "value": false
      }
     },
     "76d54c188712453da96cecd9bc71d74b": {
      "model_module": "@jupyter-widgets/controls",
      "model_module_version": "1.5.0",
      "model_name": "DescriptionStyleModel",
      "state": {
       "description_width": ""
      }
     },
     "770a3342ba67461388948fb4ad0adb0c": {
      "model_module": "@jupyter-widgets/base",
      "model_module_version": "1.2.0",
      "model_name": "LayoutModel",
      "state": {}
     },
     "77c77399514e4bc89c67d27ce0ff2cc6": {
      "model_module": "@jupyter-widgets/base",
      "model_module_version": "1.2.0",
      "model_name": "LayoutModel",
      "state": {
       "height": "80px",
       "width": "33%"
      }
     },
     "77df52ee4f43461087d39034438cb069": {
      "model_module": "@jupyter-widgets/controls",
      "model_module_version": "1.5.0",
      "model_name": "VBoxModel",
      "state": {
       "children": [
        "IPY_MODEL_19de0350dfce47f598e397ff87c6811d",
        "IPY_MODEL_69e5cf4125194eccb305830ae05efd4b"
       ],
       "layout": "IPY_MODEL_9fa77672495646d5b042bf9f8ecd73df"
      }
     },
     "7806b13c958e4e5db12c88bafbbcdb36": {
      "model_module": "@jupyter-widgets/controls",
      "model_module_version": "1.5.0",
      "model_name": "CheckboxModel",
      "state": {
       "description": "NULL",
       "disabled": false,
       "indent": false,
       "layout": "IPY_MODEL_b842ef4d7e934b5e9bba5aae1fc7107d",
       "style": "IPY_MODEL_becd5b37ccaa4078bf867fbdbff5a9f5",
       "value": false
      }
     },
     "780b936f73a74771a4f7422a26919dd9": {
      "model_module": "@jupyter-widgets/base",
      "model_module_version": "1.2.0",
      "model_name": "LayoutModel",
      "state": {}
     },
     "781358b91b3a4ef0affabb57492c1825": {
      "model_module": "@jupyter-widgets/controls",
      "model_module_version": "1.5.0",
      "model_name": "DescriptionStyleModel",
      "state": {
       "description_width": ""
      }
     },
     "787552563346484e9cc5f3e50ad4d8a2": {
      "model_module": "@jupyter-widgets/controls",
      "model_module_version": "1.5.0",
      "model_name": "ButtonStyleModel",
      "state": {}
     },
     "788fbc520ef348208435bf0c15c31b0d": {
      "model_module": "@jupyter-widgets/controls",
      "model_module_version": "1.5.0",
      "model_name": "DescriptionStyleModel",
      "state": {
       "description_width": ""
      }
     },
     "79043e6a15df4911b33d5f7187a64280": {
      "model_module": "@jupyter-widgets/base",
      "model_module_version": "1.2.0",
      "model_name": "LayoutModel",
      "state": {
       "align_items": "stretch",
       "border": "1px solid black",
       "display": "flex",
       "flex_flow": "column"
      }
     },
     "7960809047df42768ebcb625c0b90ab7": {
      "model_module": "@jupyter-widgets/base",
      "model_module_version": "1.2.0",
      "model_name": "LayoutModel",
      "state": {}
     },
     "7977279f46af4044acb7ba44a042461c": {
      "model_module": "@jupyter-widgets/base",
      "model_module_version": "1.2.0",
      "model_name": "LayoutModel",
      "state": {
       "height": "50px",
       "width": "20%"
      }
     },
     "79f544e5baee4dc7bb92fab7c1595e65": {
      "model_module": "@jupyter-widgets/controls",
      "model_module_version": "1.5.0",
      "model_name": "HBoxModel",
      "state": {
       "children": [
        "IPY_MODEL_539e2c74288842d9b548c792e42e44b5",
        "IPY_MODEL_2ad52581f00a439b966ac308ce2877da"
       ],
       "layout": "IPY_MODEL_eb62be24471a4d0b947055d1af3e4e6f"
      }
     },
     "79fe07e01abe42848e039224af7696c5": {
      "model_module": "@jupyter-widgets/controls",
      "model_module_version": "1.5.0",
      "model_name": "ButtonStyleModel",
      "state": {}
     },
     "7a47b2daa76f44558b6fe7850eea4335": {
      "model_module": "@jupyter-widgets/base",
      "model_module_version": "1.2.0",
      "model_name": "LayoutModel",
      "state": {
       "height": "50px",
       "width": "20%"
      }
     },
     "7a6667f0878f440cbc39c7fa4eea830a": {
      "model_module": "@jupyter-widgets/controls",
      "model_module_version": "1.5.0",
      "model_name": "DescriptionStyleModel",
      "state": {
       "description_width": ""
      }
     },
     "7adea369a6c7464e8aa6f027ac7c05ba": {
      "model_module": "@jupyter-widgets/controls",
      "model_module_version": "1.5.0",
      "model_name": "ButtonModel",
      "state": {
       "button_style": "info",
       "description": "View Peers",
       "icon": "eye",
       "layout": "IPY_MODEL_f5d7843446694c9e9c5e33952d97629a",
       "style": "IPY_MODEL_2884c322ebc34418ab862b8a2f9a5b01",
       "tooltip": "View Peers"
      }
     },
     "7da6a9a6cde84a798aa5b84d5c0233d2": {
      "model_module": "@jupyter-widgets/controls",
      "model_module_version": "1.5.0",
      "model_name": "CheckboxModel",
      "state": {
       "description": "CRITICAL",
       "disabled": false,
       "indent": false,
       "layout": "IPY_MODEL_b4b96b84bdd64f569e18d61d7bbdb92c",
       "style": "IPY_MODEL_2ef1a3d3eaa54c768c062629d7cbaf1d",
       "value": false
      }
     },
     "7ed0a54008c741c9af19340ad8e281e0": {
      "model_module": "@jupyter-widgets/base",
      "model_module_version": "1.2.0",
      "model_name": "LayoutModel",
      "state": {}
     },
     "8003a01e5ea045de94b4828a80b07fab": {
      "model_module": "@jupyter-widgets/controls",
      "model_module_version": "1.5.0",
      "model_name": "DescriptionStyleModel",
      "state": {
       "description_width": ""
      }
     },
     "804b5a76f60247f1b072f38a09bc1427": {
      "model_module": "@jupyter-widgets/controls",
      "model_module_version": "1.5.0",
      "model_name": "HBoxModel",
      "state": {
       "children": [
        "IPY_MODEL_5aaa26792fef48c7a1274ef3c532a79c",
        "IPY_MODEL_2b04c0cd720d4e08ae63051eda2f1a07",
        "IPY_MODEL_334a56a454d84a778b95465b167a1f6a"
       ],
       "layout": "IPY_MODEL_aabcdea24f7a493d859ae3e13ae37aa7"
      }
     },
     "80d8a349d5c44fceb5b6d5fd3c15235e": {
      "model_module": "@jupyter-widgets/base",
      "model_module_version": "1.2.0",
      "model_name": "LayoutModel",
      "state": {}
     },
     "81714199ae204bc8866bbb07850edf5e": {
      "model_module": "@jupyter-widgets/controls",
      "model_module_version": "1.5.0",
      "model_name": "ButtonModel",
      "state": {
       "button_style": "success",
       "description": "Launch Duet(with loopback)",
       "icon": "plug",
       "layout": "IPY_MODEL_d0cabd106c8a48d69cd4ae63a320311b",
       "style": "IPY_MODEL_aa4072ef8fc24f2eb4d6b868e515420c",
       "tooltip": "Launch Duet(with loopback)"
      }
     },
     "81a9c1742a024a968990734a773c6ea5": {
      "model_module": "@jupyter-widgets/controls",
      "model_module_version": "1.5.0",
      "model_name": "HBoxModel",
      "state": {
       "children": [
        "IPY_MODEL_e5c18002ea0b4f6dbe03e7dd6755e13f",
        "IPY_MODEL_40ae04d534304bf0bcfd92805a0ddc0b"
       ],
       "layout": "IPY_MODEL_1c77ea8f329a40c7b104bc57265cbbcb"
      }
     },
     "81ab5de0cd3c4143af7289b676861aaf": {
      "model_module": "@jupyter-widgets/controls",
      "model_module_version": "1.5.0",
      "model_name": "DescriptionStyleModel",
      "state": {
       "description_width": ""
      }
     },
     "81c23539a07a4d3891ca193e4950fd4a": {
      "model_module": "@jupyter-widgets/base",
      "model_module_version": "1.2.0",
      "model_name": "LayoutModel",
      "state": {}
     },
     "8201924428664f16903f20bbffd50d78": {
      "model_module": "@jupyter-widgets/base",
      "model_module_version": "1.2.0",
      "model_name": "LayoutModel",
      "state": {}
     },
     "826d4b88236a4a1ca2cdfe30701d38b6": {
      "model_module": "@jupyter-widgets/controls",
      "model_module_version": "1.5.0",
      "model_name": "CheckboxModel",
      "state": {
       "description": "ERROR",
       "disabled": false,
       "indent": false,
       "layout": "IPY_MODEL_a301647a70ca4f5c9b1c054b15055f08",
       "style": "IPY_MODEL_76d54c188712453da96cecd9bc71d74b",
       "value": false
      }
     },
     "83a3a15227b24095b2e6ff484379f7b9": {
      "model_module": "@jupyter-widgets/controls",
      "model_module_version": "1.5.0",
      "model_name": "CheckboxModel",
      "state": {
       "description": "DEBUG",
       "disabled": false,
       "indent": false,
       "layout": "IPY_MODEL_ee7fef9da21e45ef92491ea62b55f011",
       "style": "IPY_MODEL_208556b8f47d4f32b6bb83a6d428e2de",
       "value": false
      }
     },
     "843c50b808c147e5978c7446a032aced": {
      "model_module": "@jupyter-widgets/output",
      "model_module_version": "1.0.0",
      "model_name": "OutputModel",
      "state": {
       "layout": "IPY_MODEL_150b6808f4fc40ed839807dc8c0d92f5",
       "outputs": [
        {
         "data": {
          "image/png": "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\n",
          "text/plain": "<IPython.core.display.Image object>"
         },
         "metadata": {
          "image/png": {
           "unconfined": true,
           "width": 400
          }
         },
         "output_type": "display_data"
        },
        {
         "name": "stdout",
         "output_type": "stream",
         "text": "🎤  🎸  ♪♪♪ Starting Duet ♫♫♫  🎻  🎹\n\n♫♫♫ >\u001b[93m DISCLAIMER\u001b[0m: \u001b[1mDuet is an experimental feature currently in beta.\n♫♫♫ > Use at your own risk.\n\u001b[0m\n\u001b[1m\n    > ❤️ \u001b[91mLove\u001b[0m \u001b[92mDuet\u001b[0m? \u001b[93mPlease\u001b[0m \u001b[94mconsider\u001b[0m \u001b[95msupporting\u001b[0m \u001b[91mour\u001b[0m \u001b[93mcommunity!\u001b[0m\n    > https://github.com/sponsors/OpenMined\u001b[1m\n\n♫♫♫ > Punching through firewall to OpenGrid Network Node at:\n♫♫♫ > http://ec2-18-216-8-163.us-east-2.compute.amazonaws.com:5000\n♫♫♫ >\n♫♫♫ > ...waiting for response from OpenGrid Network... \n"
        },
        {
         "name": "stderr",
         "output_type": "stream",
         "text": "[2021-03-27T22:05:00.763750+0530][CRITICAL][logger]][55981] Skipping torchvision.torchvision.transforms.functional.adjust_sharpness not supported in 0.8.2\n[2021-03-27T22:05:00.764271+0530][CRITICAL][logger]][55981] Skipping torchvision.torchvision.transforms.functional.autocontrast not supported in 0.8.2\n[2021-03-27T22:05:00.765176+0530][CRITICAL][logger]][55981] Skipping torchvision.torchvision.transforms.functional.equalize not supported in 0.8.2\n[2021-03-27T22:05:00.766324+0530][CRITICAL][logger]][55981] Skipping torchvision.torchvision.transforms.functional.invert not supported in 0.8.2\n[2021-03-27T22:05:00.766892+0530][CRITICAL][logger]][55981] Skipping torchvision.torchvision.transforms.functional.posterize not supported in 0.8.2\n[2021-03-27T22:05:00.767956+0530][CRITICAL][logger]][55981] Skipping torchvision.torchvision.transforms.functional.solarize not supported in 0.8.2\n"
        },
        {
         "name": "stdout",
         "output_type": "stream",
         "text": "♫♫♫ > \u001b[92mDONE!\u001b[0m\n\n♫♫♫ > \u001b[95mSTEP 1:\u001b[0m Send the following code to your Duet Partner!\n\nimport syft as sy\nduet = sy.join_duet(loopback=True)\n\n♫♫♫ > Connecting...\n"
        },
        {
         "name": "stderr",
         "output_type": "stream",
         "text": "[2021-03-27T22:05:21.164634+0530][CRITICAL][logger]][55981] Skipping torchvision.torchvision.transforms.functional.adjust_sharpness not supported in 0.8.2\n[2021-03-27T22:05:21.165321+0530][CRITICAL][logger]][55981] Skipping torchvision.torchvision.transforms.functional.autocontrast not supported in 0.8.2\n[2021-03-27T22:05:21.166167+0530][CRITICAL][logger]][55981] Skipping torchvision.torchvision.transforms.functional.equalize not supported in 0.8.2\n[2021-03-27T22:05:21.166856+0530][CRITICAL][logger]][55981] Skipping torchvision.torchvision.transforms.functional.invert not supported in 0.8.2\n[2021-03-27T22:05:21.167296+0530][CRITICAL][logger]][55981] Skipping torchvision.torchvision.transforms.functional.posterize not supported in 0.8.2\n[2021-03-27T22:05:21.167777+0530][CRITICAL][logger]][55981] Skipping torchvision.torchvision.transforms.functional.solarize not supported in 0.8.2\n[2021-03-27T22:05:21.409005+0530][CRITICAL][logger]][55981] Skipping torchvision.torchvision.transforms.functional.adjust_sharpness not supported in 0.8.2\n[2021-03-27T22:05:21.409611+0530][CRITICAL][logger]][55981] Skipping torchvision.torchvision.transforms.functional.autocontrast not supported in 0.8.2\n"
        },
        {
         "name": "stdout",
         "output_type": "stream",
         "text": "\n♫♫♫ > \u001b[92mCONNECTED!\u001b[0m\n"
        },
        {
         "name": "stderr",
         "output_type": "stream",
         "text": "[2021-03-27T22:05:21.410052+0530][CRITICAL][logger]][55981] Skipping torchvision.torchvision.transforms.functional.equalize not supported in 0.8.2\n"
        },
        {
         "name": "stdout",
         "output_type": "stream",
         "text": "\n"
        },
        {
         "name": "stderr",
         "output_type": "stream",
         "text": "[2021-03-27T22:05:21.410864+0530][CRITICAL][logger]][55981] Skipping torchvision.torchvision.transforms.functional.invert not supported in 0.8.2\n"
        }
       ]
      }
     },
     "8480701d046e49afa0f3ca6123ac0bf1": {
      "model_module": "@jupyter-widgets/controls",
      "model_module_version": "1.5.0",
      "model_name": "ButtonStyleModel",
      "state": {}
     },
     "84f6fcd903c74d178d995471e073639f": {
      "model_module": "@jupyter-widgets/controls",
      "model_module_version": "1.5.0",
      "model_name": "CheckboxModel",
      "state": {
       "description": "ERROR",
       "disabled": false,
       "indent": false,
       "layout": "IPY_MODEL_721538f685b44f7d9e655006c1f51a65",
       "style": "IPY_MODEL_89ebabdc36544484a6cbd813628cf0b4",
       "value": false
      }
     },
     "8509edc4e5eb481ea23042b431cd9464": {
      "model_module": "@jupyter-widgets/controls",
      "model_module_version": "1.5.0",
      "model_name": "ButtonModel",
      "state": {
       "button_style": "success",
       "description": "Approve all Requests",
       "icon": "thumbs-up",
       "layout": "IPY_MODEL_96415f3e59fa4603b2e60c6bc3f4091e",
       "style": "IPY_MODEL_b3bb5cada5c34aaaa77e88ec2469f60c",
       "tooltip": "Approve all Requests"
      }
     },
     "8559255c4ca84ddeb4d35b5b92da9103": {
      "model_module": "@jupyter-widgets/base",
      "model_module_version": "1.2.0",
      "model_name": "LayoutModel",
      "state": {
       "height": "80px",
       "width": "33%"
      }
     },
     "8571a62d396a41c9810d33a47387254c": {
      "model_module": "@jupyter-widgets/controls",
      "model_module_version": "1.5.0",
      "model_name": "VBoxModel",
      "state": {
       "children": [
        "IPY_MODEL_d05b616a309246989046baf17ed196a9",
        "IPY_MODEL_1995469113c8451d87138ba0eceed0cf"
       ],
       "layout": "IPY_MODEL_4c7943e2da1c491e8d9073d3cc04d69c"
      }
     },
     "8575d184cddb4e5ca1be8faf868ae247": {
      "model_module": "@jupyter-widgets/controls",
      "model_module_version": "1.5.0",
      "model_name": "ButtonStyleModel",
      "state": {}
     },
     "85bab6ca88604d8591a315b16b1b45e5": {
      "model_module": "@jupyter-widgets/controls",
      "model_module_version": "1.5.0",
      "model_name": "ButtonStyleModel",
      "state": {}
     },
     "85e5e7ae463e4a168f53c2e31c26f0de": {
      "model_module": "@jupyter-widgets/controls",
      "model_module_version": "1.5.0",
      "model_name": "CheckboxModel",
      "state": {
       "description": "DEBUG",
       "disabled": false,
       "indent": false,
       "layout": "IPY_MODEL_24987ebc90874914857547271adc3904",
       "style": "IPY_MODEL_8ca05c6e4101438782c33324f64a7a36",
       "value": false
      }
     },
     "86004d697a4548f8a6e02c3ac6de4af2": {
      "model_module": "@jupyter-widgets/base",
      "model_module_version": "1.2.0",
      "model_name": "LayoutModel",
      "state": {}
     },
     "8636922c65dc47c2a811d5e3941f0640": {
      "model_module": "@jupyter-widgets/controls",
      "model_module_version": "1.5.0",
      "model_name": "DescriptionStyleModel",
      "state": {
       "description_width": ""
      }
     },
     "8642b8faeca3448fbb90654c57cbb8d3": {
      "model_module": "@jupyter-widgets/base",
      "model_module_version": "1.2.0",
      "model_name": "LayoutModel",
      "state": {}
     },
     "867382b8e6ba457cab17c013fb83c6e6": {
      "model_module": "@jupyter-widgets/controls",
      "model_module_version": "1.5.0",
      "model_name": "DropdownModel",
      "state": {
       "_options_labels": [
        "tenseal",
        "opacus",
        "sympc",
        "openmined_psi"
       ],
       "description": "Library: ",
       "index": 0,
       "layout": "IPY_MODEL_4a35f120168c4021b73d47f8e664491e",
       "style": "IPY_MODEL_4935efc889f4478e9680d8a2b775f659"
      }
     },
     "8755d1cc64e04a68bc34d5d79434da02": {
      "model_module": "@jupyter-widgets/controls",
      "model_module_version": "1.5.0",
      "model_name": "CheckboxModel",
      "state": {
       "description": "WARNING",
       "disabled": false,
       "indent": false,
       "layout": "IPY_MODEL_fd311efe3e3a445fb369d1825681ec0f",
       "style": "IPY_MODEL_3f1fc831940d4ec592d934d005f76c9e",
       "value": false
      }
     },
     "8764f77b751f433fac51f9a889ec6b8f": {
      "model_module": "@jupyter-widgets/controls",
      "model_module_version": "1.5.0",
      "model_name": "HBoxModel",
      "state": {
       "children": [
        "IPY_MODEL_401cd2eac2134f47a416e09ceebfdf60",
        "IPY_MODEL_02fdbb4a89cd4148bfeecf637feb7ea5",
        "IPY_MODEL_c89a718622a9435bb8958222e1ca0922"
       ],
       "layout": "IPY_MODEL_40b255852c6b472fbc921f211f15ce5d"
      }
     },
     "879a1af1e0754eada53b6d2d36dc7e94": {
      "model_module": "@jupyter-widgets/controls",
      "model_module_version": "1.5.0",
      "model_name": "ButtonModel",
      "state": {
       "button_style": "info",
       "description": "View Peers",
       "icon": "eye",
       "layout": "IPY_MODEL_1e210ca9c38f45a5baa121310c822932",
       "style": "IPY_MODEL_8575d184cddb4e5ca1be8faf868ae247",
       "tooltip": "View Peers"
      }
     },
     "881cd7487e5f4f6dbf9e01f4c8a6f5bc": {
      "model_module": "@jupyter-widgets/base",
      "model_module_version": "1.2.0",
      "model_name": "LayoutModel",
      "state": {}
     },
     "88797db684a44562a65bc3f30dbb68d8": {
      "model_module": "@jupyter-widgets/controls",
      "model_module_version": "1.5.0",
      "model_name": "ButtonModel",
      "state": {
       "button_style": "info",
       "description": "View Peers",
       "icon": "eye",
       "layout": "IPY_MODEL_fbaabd56073a41d1baec96019477ba62",
       "style": "IPY_MODEL_f567a95f7e7b49a5a83e4842e6759a34",
       "tooltip": "View Peers"
      }
     },
     "88b47c7ae2bb4da7b2e1214a77ff978d": {
      "model_module": "@jupyter-widgets/base",
      "model_module_version": "1.2.0",
      "model_name": "LayoutModel",
      "state": {
       "height": "80px",
       "width": "33%"
      }
     },
     "898a9d5df6f9426daf72980a2e7baeac": {
      "model_module": "@jupyter-widgets/controls",
      "model_module_version": "1.5.0",
      "model_name": "ButtonStyleModel",
      "state": {}
     },
     "898cf7a626dd4183a41f2c032a37de07": {
      "model_module": "@jupyter-widgets/controls",
      "model_module_version": "1.5.0",
      "model_name": "ButtonModel",
      "state": {
       "button_style": "info",
       "description": "View Peers",
       "icon": "eye",
       "layout": "IPY_MODEL_267a45aa27d8470a904b75b0020661ce",
       "style": "IPY_MODEL_4556fad816e042758dbacc4caf0c404f",
       "tooltip": "View Peers"
      }
     },
     "89d779aec6be4636befa01a1e7c77efd": {
      "model_module": "@jupyter-widgets/controls",
      "model_module_version": "1.5.0",
      "model_name": "ButtonStyleModel",
      "state": {}
     },
     "89ebabdc36544484a6cbd813628cf0b4": {
      "model_module": "@jupyter-widgets/controls",
      "model_module_version": "1.5.0",
      "model_name": "DescriptionStyleModel",
      "state": {
       "description_width": ""
      }
     },
     "8a2d3212c98249b3ad14bd42293e0738": {
      "model_module": "@jupyter-widgets/base",
      "model_module_version": "1.2.0",
      "model_name": "LayoutModel",
      "state": {}
     },
     "8a9515310efa4c328f6ca6725ad666e6": {
      "model_module": "@jupyter-widgets/base",
      "model_module_version": "1.2.0",
      "model_name": "LayoutModel",
      "state": {}
     },
     "8b5066c87d904afa9510ec909c3bf84b": {
      "model_module": "@jupyter-widgets/base",
      "model_module_version": "1.2.0",
      "model_name": "LayoutModel",
      "state": {
       "height": "80px",
       "width": "33%"
      }
     },
     "8b5547fab600452b9e41741fb275577f": {
      "model_module": "@jupyter-widgets/controls",
      "model_module_version": "1.5.0",
      "model_name": "CheckboxModel",
      "state": {
       "description": "DEBUG",
       "disabled": false,
       "indent": false,
       "layout": "IPY_MODEL_f7bf07c2b9474e0f9e0c3e4be337385c",
       "style": "IPY_MODEL_23ed61cbcdb94a6598a6ee1e8f2e9e97",
       "value": false
      }
     },
     "8bee9a97eeb645a5ab8b536921680d86": {
      "model_module": "@jupyter-widgets/controls",
      "model_module_version": "1.5.0",
      "model_name": "DescriptionStyleModel",
      "state": {
       "description_width": ""
      }
     },
     "8ca05c6e4101438782c33324f64a7a36": {
      "model_module": "@jupyter-widgets/controls",
      "model_module_version": "1.5.0",
      "model_name": "DescriptionStyleModel",
      "state": {
       "description_width": ""
      }
     },
     "8ca0caaf98984221bbcbe9710accf473": {
      "model_module": "@jupyter-widgets/base",
      "model_module_version": "1.2.0",
      "model_name": "LayoutModel",
      "state": {}
     },
     "8cdd565c2e6a4af6bb8fff1566885ccb": {
      "model_module": "@jupyter-widgets/controls",
      "model_module_version": "1.5.0",
      "model_name": "CheckboxModel",
      "state": {
       "description": "INFO",
       "disabled": false,
       "indent": false,
       "layout": "IPY_MODEL_667c53b4c2ad4de08ae5f673d49a2959",
       "style": "IPY_MODEL_a5b19b180c364d72ae98ad7beaf02845",
       "value": false
      }
     },
     "8d9c2777e6ed4aab9b41f1fa44d3eceb": {
      "model_module": "@jupyter-widgets/controls",
      "model_module_version": "1.5.0",
      "model_name": "CheckboxModel",
      "state": {
       "description": "EXCEPTION",
       "disabled": false,
       "indent": false,
       "layout": "IPY_MODEL_0560b3c8232945dbae306b62df8c15ee",
       "style": "IPY_MODEL_61770ef51ac44fd1af4ea376ec2d0372",
       "value": false
      }
     },
     "8e0edf9805584e618bfca5bc03d0f136": {
      "model_module": "@jupyter-widgets/base",
      "model_module_version": "1.2.0",
      "model_name": "LayoutModel",
      "state": {}
     },
     "8e1a8e2864704527b335b6671170c4a9": {
      "model_module": "@jupyter-widgets/output",
      "model_module_version": "1.0.0",
      "model_name": "OutputModel",
      "state": {
       "layout": "IPY_MODEL_79043e6a15df4911b33d5f7187a64280"
      }
     },
     "8e74053926df451daf5635cca1a27398": {
      "model_module": "@jupyter-widgets/controls",
      "model_module_version": "1.5.0",
      "model_name": "ButtonStyleModel",
      "state": {}
     },
     "8e92bd05e6a04385bd9c5c34334005ba": {
      "model_module": "@jupyter-widgets/controls",
      "model_module_version": "1.5.0",
      "model_name": "CheckboxModel",
      "state": {
       "description": "DEBUG",
       "disabled": false,
       "indent": false,
       "layout": "IPY_MODEL_ee7540aae07842eba992375b0e62c445",
       "style": "IPY_MODEL_f0c1ba07d89149a49148dfad3f1a8615",
       "value": false
      }
     },
     "90036c8ff1284dd59fa4761611e34042": {
      "model_module": "@jupyter-widgets/base",
      "model_module_version": "1.2.0",
      "model_name": "LayoutModel",
      "state": {}
     },
     "901233cc53954988a2bb97b3e8f20d25": {
      "model_module": "@jupyter-widgets/controls",
      "model_module_version": "1.5.0",
      "model_name": "ButtonModel",
      "state": {
       "button_style": "info",
       "description": "Filter Logs",
       "icon": "filter",
       "layout": "IPY_MODEL_c0102e94a03642129cd82d3cc84d2bd7",
       "style": "IPY_MODEL_98ba105dd9e243e5ae07c83584c70300",
       "tooltip": "Filter Logs"
      }
     },
     "90626963f3384aab8aec433700d283a7": {
      "model_module": "@jupyter-widgets/base",
      "model_module_version": "1.2.0",
      "model_name": "LayoutModel",
      "state": {}
     },
     "907afb5a05454af2a182212653e429f6": {
      "model_module": "@jupyter-widgets/base",
      "model_module_version": "1.2.0",
      "model_name": "LayoutModel",
      "state": {}
     },
     "90a0e5dc8f3f4125a6ead17907e921bb": {
      "model_module": "@jupyter-widgets/base",
      "model_module_version": "1.2.0",
      "model_name": "LayoutModel",
      "state": {}
     },
     "91e3e5c62c924b16b17cb2e0ba388d8a": {
      "model_module": "@jupyter-widgets/base",
      "model_module_version": "1.2.0",
      "model_name": "LayoutModel",
      "state": {}
     },
     "923238d88abe4756889655ddf2399183": {
      "model_module": "@jupyter-widgets/output",
      "model_module_version": "1.0.0",
      "model_name": "OutputModel",
      "state": {
       "layout": "IPY_MODEL_101536e999aa4080aa3be10634b6940e",
       "outputs": [
        {
         "name": "stdout",
         "output_type": "stream",
         "text": "🎤  🎸  ♪♪♪ Starting Duet ♫♫♫  🎻  🎹\n\n♫♫♫ >\u001b[93m DISCLAIMER\u001b[0m: \u001b[1mDuet is an experimental feature currently in beta.\n♫♫♫ > Use at your own risk.\n\u001b[0m\n\u001b[1m\n    > ❤️ \u001b[91mLove\u001b[0m \u001b[92mDuet\u001b[0m? \u001b[93mPlease\u001b[0m \u001b[94mconsider\u001b[0m \u001b[95msupporting\u001b[0m \u001b[91mour\u001b[0m \u001b[93mcommunity!\u001b[0m\n    > https://github.com/sponsors/OpenMined\u001b[1m\n\n♫♫♫ > Punching through firewall to OpenGrid Network Node at:\n♫♫♫ > http://ec2-18-216-8-163.us-east-2.compute.amazonaws.com:5000\n♫♫♫ >\n♫♫♫ > ...waiting for response from OpenGrid Network... \n♫♫♫ > \u001b[92mDONE!\u001b[0m\n♫♫♫ > Connecting...\n"
        },
        {
         "name": "stderr",
         "output_type": "stream",
         "text": "[2021-04-02T16:02:39.069549+0530][CRITICAL][logger]][28889] Skipping torchvision.torchvision.transforms.functional.invert not supported in 0.8.2\n"
        },
        {
         "name": "stdout",
         "output_type": "stream",
         "text": "\n"
        },
        {
         "name": "stderr",
         "output_type": "stream",
         "text": "[2021-04-02T16:02:39.071169+0530][CRITICAL][logger]][28889] Skipping torchvision.torchvision.transforms.functional.posterize not supported in 0.8.2\n[2021-04-02T16:02:39.072733+0530][CRITICAL][logger]][28889] Skipping torchvision.torchvision.transforms.functional.solarize not supported in 0.8.2\n"
        },
        {
         "name": "stdout",
         "output_type": "stream",
         "text": "♫♫♫ > \u001b[92mCONNECTED!\u001b[0m\n"
        },
        {
         "name": "stderr",
         "output_type": "stream",
         "text": "[2021-04-02T16:02:39.417445+0530][CRITICAL][logger]][28889] Skipping torchvision.torchvision.transforms.functional.solarize not supported in 0.8.2\n"
        },
        {
         "name": "stdout",
         "output_type": "stream",
         "text": "\n"
        }
       ]
      }
     },
     "92622616bcaa4007a6b2cef40b895ac2": {
      "model_module": "@jupyter-widgets/base",
      "model_module_version": "1.2.0",
      "model_name": "LayoutModel",
      "state": {
       "align_items": "stretch",
       "border": "1px solid black",
       "display": "flex",
       "flex_flow": "column"
      }
     },
     "92b217aa26b64c15aa0996b5ce67646a": {
      "model_module": "@jupyter-widgets/controls",
      "model_module_version": "1.5.0",
      "model_name": "ButtonModel",
      "state": {
       "button_style": "success",
       "description": "Launch Duet",
       "icon": "plug",
       "layout": "IPY_MODEL_c04cbefad61f4b3bb1555a36823203bf",
       "style": "IPY_MODEL_b2087286767a4d2088470249f84ba5df",
       "tooltip": "Launch Duet"
      }
     },
     "933b861aed744f0cadaac19848e282b7": {
      "model_module": "@jupyter-widgets/base",
      "model_module_version": "1.2.0",
      "model_name": "LayoutModel",
      "state": {}
     },
     "934ef30ca89a496f8c3063f83bde668f": {
      "model_module": "@jupyter-widgets/controls",
      "model_module_version": "1.5.0",
      "model_name": "DescriptionStyleModel",
      "state": {
       "description_width": ""
      }
     },
     "9427d52395144a229fe83636dac0a7f9": {
      "model_module": "@jupyter-widgets/controls",
      "model_module_version": "1.5.0",
      "model_name": "ButtonStyleModel",
      "state": {}
     },
     "9452f9c16ff349d497a3419d2fa80281": {
      "model_module": "@jupyter-widgets/controls",
      "model_module_version": "1.5.0",
      "model_name": "ButtonStyleModel",
      "state": {}
     },
     "9453a678fc404e5c978667a3d069b12a": {
      "model_module": "@jupyter-widgets/base",
      "model_module_version": "1.2.0",
      "model_name": "LayoutModel",
      "state": {
       "height": "80px",
       "width": "33%"
      }
     },
     "9454d5b8ed5346abbf09be99621e8f6b": {
      "model_module": "@jupyter-widgets/controls",
      "model_module_version": "1.5.0",
      "model_name": "DescriptionStyleModel",
      "state": {
       "description_width": ""
      }
     },
     "948cae2f8dbc4a298a65114e07726c5a": {
      "model_module": "@jupyter-widgets/base",
      "model_module_version": "1.2.0",
      "model_name": "LayoutModel",
      "state": {}
     },
     "95fae582a25349fc9e2dece293a9370e": {
      "model_module": "@jupyter-widgets/controls",
      "model_module_version": "1.5.0",
      "model_name": "ButtonStyleModel",
      "state": {}
     },
     "962dbc3bdf844f9186ce2498428bcb8d": {
      "model_module": "@jupyter-widgets/controls",
      "model_module_version": "1.5.0",
      "model_name": "HBoxModel",
      "state": {
       "children": [
        "IPY_MODEL_92b217aa26b64c15aa0996b5ce67646a",
        "IPY_MODEL_4eb82f5694d2473fadcc88a5f06c9139",
        "IPY_MODEL_a235ce45492e4673bed5da27d03657a9"
       ],
       "layout": "IPY_MODEL_9b8830259cde45e78c1b3c864d4ace22"
      }
     },
     "96415f3e59fa4603b2e60c6bc3f4091e": {
      "model_module": "@jupyter-widgets/base",
      "model_module_version": "1.2.0",
      "model_name": "LayoutModel",
      "state": {
       "height": "80px",
       "width": "33%"
      }
     },
     "965efdbf06014dfe9ef6ba4ef5c44c8a": {
      "model_module": "@jupyter-widgets/base",
      "model_module_version": "1.2.0",
      "model_name": "LayoutModel",
      "state": {}
     },
     "96ab5ae26bf44ca6992f8e8f5eef4e72": {
      "model_module": "@jupyter-widgets/controls",
      "model_module_version": "1.5.0",
      "model_name": "HBoxModel",
      "state": {
       "children": [
        "IPY_MODEL_166945e598e04c23b13a2156829bcc8d",
        "IPY_MODEL_5a8b65f667e841849abbed760435dee0",
        "IPY_MODEL_826d4b88236a4a1ca2cdfe30701d38b6",
        "IPY_MODEL_9d9c3a3c2a4f4965b4bae096cec5f58b"
       ],
       "layout": "IPY_MODEL_0b081befb0e34c5aa97eb874141b2e22"
      }
     },
     "96ee9d87350a420c81e60fc0eba39407": {
      "model_module": "@jupyter-widgets/base",
      "model_module_version": "1.2.0",
      "model_name": "LayoutModel",
      "state": {}
     },
     "974d684295614d98bc226dde184f1aba": {
      "model_module": "@jupyter-widgets/base",
      "model_module_version": "1.2.0",
      "model_name": "LayoutModel",
      "state": {}
     },
     "989d07134f994471a221f6b2fd4530b7": {
      "model_module": "@jupyter-widgets/base",
      "model_module_version": "1.2.0",
      "model_name": "LayoutModel",
      "state": {}
     },
     "98ba105dd9e243e5ae07c83584c70300": {
      "model_module": "@jupyter-widgets/controls",
      "model_module_version": "1.5.0",
      "model_name": "ButtonStyleModel",
      "state": {}
     },
     "98ca9100d6604166a6b9dcbb97c5ca2b": {
      "model_module": "@jupyter-widgets/base",
      "model_module_version": "1.2.0",
      "model_name": "LayoutModel",
      "state": {
       "height": "80px",
       "width": "33%"
      }
     },
     "996a9eda5eb64ba99e2a9ebf1f7354df": {
      "model_module": "@jupyter-widgets/output",
      "model_module_version": "1.0.0",
      "model_name": "OutputModel",
      "state": {
       "layout": "IPY_MODEL_5c580f6a31b44f65b89c81fc9fa95782",
       "outputs": [
        {
         "name": "stdout",
         "output_type": "stream",
         "text": "🎤  🎸  ♪♪♪ Starting Duet ♫♫♫  🎻  🎹\n\n♫♫♫ >\u001b[93m DISCLAIMER\u001b[0m: \u001b[1mDuet is an experimental feature currently in beta.\n♫♫♫ > Use at your own risk.\n\u001b[0m\n\u001b[1m\n    > ❤️ \u001b[91mLove\u001b[0m \u001b[92mDuet\u001b[0m? \u001b[93mPlease\u001b[0m \u001b[94mconsider\u001b[0m \u001b[95msupporting\u001b[0m \u001b[91mour\u001b[0m \u001b[93mcommunity!\u001b[0m\n    > https://github.com/sponsors/OpenMined\u001b[1m\n\n♫♫♫ > Punching through firewall to OpenGrid Network Node at:\n♫♫♫ > http://ec2-18-216-8-163.us-east-2.compute.amazonaws.com:5000\n♫♫♫ >\n♫♫♫ > ...waiting for response from OpenGrid Network... \n♫♫♫ > \u001b[92mDONE!\u001b[0m\n♫♫♫ > Connecting...\n"
        },
        {
         "name": "stderr",
         "output_type": "stream",
         "text": "[2021-04-02T18:33:55.749246+0530][CRITICAL][logger]][29663] Skipping torchvision.torchvision.transforms.functional.solarize not supported in 0.8.2\n"
        },
        {
         "name": "stdout",
         "output_type": "stream",
         "text": "\n♫♫♫ > \u001b[92mCONNECTED!\u001b[0m\n\n"
        }
       ]
      }
     },
     "99bc765f1777415ba83fc1568e577e23": {
      "model_module": "@jupyter-widgets/base",
      "model_module_version": "1.2.0",
      "model_name": "LayoutModel",
      "state": {}
     },
     "99cd844fe5794ee2822083526805d026": {
      "model_module": "@jupyter-widgets/controls",
      "model_module_version": "1.5.0",
      "model_name": "CheckboxModel",
      "state": {
       "description": "INFO",
       "disabled": false,
       "indent": false,
       "layout": "IPY_MODEL_3d2327bfec0c4ab2a9cf48016257635c",
       "style": "IPY_MODEL_10d9e8303f83432da0fd94be5ea16e3e",
       "value": false
      }
     },
     "99cf8a52628b47169ccd2035a4401760": {
      "model_module": "@jupyter-widgets/base",
      "model_module_version": "1.2.0",
      "model_name": "LayoutModel",
      "state": {
       "height": "80px",
       "width": "33%"
      }
     },
     "99f527d89ef34b4e99ead7e5a9ab19d9": {
      "model_module": "@jupyter-widgets/base",
      "model_module_version": "1.2.0",
      "model_name": "LayoutModel",
      "state": {
       "align_items": "stretch",
       "border": "1px solid black",
       "display": "flex",
       "flex_flow": "column"
      }
     },
     "9aef76a0df434e1ea7b1632826ab9c12": {
      "model_module": "@jupyter-widgets/base",
      "model_module_version": "1.2.0",
      "model_name": "LayoutModel",
      "state": {
       "height": "50px",
       "width": "20%"
      }
     },
     "9b831aa80b5d40829f636aaaea34bbd5": {
      "model_module": "@jupyter-widgets/controls",
      "model_module_version": "1.5.0",
      "model_name": "DescriptionStyleModel",
      "state": {
       "description_width": ""
      }
     },
     "9b8830259cde45e78c1b3c864d4ace22": {
      "model_module": "@jupyter-widgets/base",
      "model_module_version": "1.2.0",
      "model_name": "LayoutModel",
      "state": {}
     },
     "9bb1a655dbe84086a49e56a65fc4abe7": {
      "model_module": "@jupyter-widgets/controls",
      "model_module_version": "1.5.0",
      "model_name": "ButtonModel",
      "state": {
       "button_style": "success",
       "description": "Launch Duet(with loopback)",
       "icon": "plug",
       "layout": "IPY_MODEL_3c39d37b4df94452aa891ab64a686d2d",
       "style": "IPY_MODEL_a86fc6063be8454e8f573416d5a908d0",
       "tooltip": "Launch Duet(with loopback)"
      }
     },
     "9c0900c106c64b14af8aff7c7feaa275": {
      "model_module": "@jupyter-widgets/controls",
      "model_module_version": "1.5.0",
      "model_name": "ButtonStyleModel",
      "state": {}
     },
     "9cd85f12937944b290b96c53597e375a": {
      "model_module": "@jupyter-widgets/base",
      "model_module_version": "1.2.0",
      "model_name": "LayoutModel",
      "state": {
       "height": "80px",
       "width": "33%"
      }
     },
     "9d9c3a3c2a4f4965b4bae096cec5f58b": {
      "model_module": "@jupyter-widgets/controls",
      "model_module_version": "1.5.0",
      "model_name": "CheckboxModel",
      "state": {
       "description": "WARNING",
       "disabled": false,
       "indent": false,
       "layout": "IPY_MODEL_ea2f12449bf94da68d6d6eb28083bdaa",
       "style": "IPY_MODEL_6005ddd8c750446aa4916821d4c97daa",
       "value": false
      }
     },
     "9de93f6502cb487da3fe11b6eeac5136": {
      "model_module": "@jupyter-widgets/base",
      "model_module_version": "1.2.0",
      "model_name": "LayoutModel",
      "state": {}
     },
     "9ee67948f0c242d69e573129020c1628": {
      "model_module": "@jupyter-widgets/controls",
      "model_module_version": "1.5.0",
      "model_name": "CheckboxModel",
      "state": {
       "description": "ERROR",
       "disabled": false,
       "indent": false,
       "layout": "IPY_MODEL_4a45e68b4a5b40818c68cbbe1a1e88d3",
       "style": "IPY_MODEL_5eb54c152e174538902ae06a6b7b3ad6",
       "value": false
      }
     },
     "9fa77672495646d5b042bf9f8ecd73df": {
      "model_module": "@jupyter-widgets/base",
      "model_module_version": "1.2.0",
      "model_name": "LayoutModel",
      "state": {}
     },
     "a01c98466e1044a0bbf439f436c759b6": {
      "model_module": "@jupyter-widgets/base",
      "model_module_version": "1.2.0",
      "model_name": "LayoutModel",
      "state": {}
     },
     "a0f9475c78bc45a2bd8f76e288f80b3f": {
      "model_module": "@jupyter-widgets/controls",
      "model_module_version": "1.5.0",
      "model_name": "DescriptionStyleModel",
      "state": {
       "description_width": ""
      }
     },
     "a235ce45492e4673bed5da27d03657a9": {
      "model_module": "@jupyter-widgets/controls",
      "model_module_version": "1.5.0",
      "model_name": "ButtonModel",
      "state": {
       "button_style": "info",
       "description": "View Peers",
       "icon": "eye",
       "layout": "IPY_MODEL_68b9b0bd69ec4312922bbfd5d84e8e76",
       "style": "IPY_MODEL_c04f2e5ef77c48c798c3cf0867561a83",
       "tooltip": "View Peers"
      }
     },
     "a301647a70ca4f5c9b1c054b15055f08": {
      "model_module": "@jupyter-widgets/base",
      "model_module_version": "1.2.0",
      "model_name": "LayoutModel",
      "state": {}
     },
     "a360a41736984acf8582df981467bb49": {
      "model_module": "@jupyter-widgets/controls",
      "model_module_version": "1.5.0",
      "model_name": "CheckboxModel",
      "state": {
       "description": "CRITICAL",
       "disabled": false,
       "indent": false,
       "layout": "IPY_MODEL_7057f347f81743f1942fe669cb12eccd",
       "style": "IPY_MODEL_c8bf6249d4df4c8d808a69944bd55fa3",
       "value": false
      }
     },
     "a38a7098ce7b400ba61aa5a27f6a2d83": {
      "model_module": "@jupyter-widgets/controls",
      "model_module_version": "1.5.0",
      "model_name": "CheckboxModel",
      "state": {
       "description": "NULL",
       "disabled": false,
       "indent": false,
       "layout": "IPY_MODEL_b69c3948c79444469aa9cfc68a24bc11",
       "style": "IPY_MODEL_25e9fecf6f4a41a6836589ddfb13de00",
       "value": false
      }
     },
     "a3b3ffea308244fd8f911d08d6f025d4": {
      "model_module": "@jupyter-widgets/controls",
      "model_module_version": "1.5.0",
      "model_name": "DescriptionStyleModel",
      "state": {
       "description_width": ""
      }
     },
     "a3be2a743c704d1496f3c00346b1130c": {
      "model_module": "@jupyter-widgets/base",
      "model_module_version": "1.2.0",
      "model_name": "LayoutModel",
      "state": {
       "height": "80px",
       "width": "33%"
      }
     },
     "a466180438b0447593d83b6a9641dd54": {
      "model_module": "@jupyter-widgets/controls",
      "model_module_version": "1.5.0",
      "model_name": "ButtonStyleModel",
      "state": {}
     },
     "a4e139dc622644609ada24a825a1679c": {
      "model_module": "@jupyter-widgets/base",
      "model_module_version": "1.2.0",
      "model_name": "LayoutModel",
      "state": {
       "height": "80px",
       "width": "33%"
      }
     },
     "a5aaced55bf14bbb85e20bc04ef86a59": {
      "model_module": "@jupyter-widgets/controls",
      "model_module_version": "1.5.0",
      "model_name": "DescriptionStyleModel",
      "state": {
       "description_width": ""
      }
     },
     "a5b19b180c364d72ae98ad7beaf02845": {
      "model_module": "@jupyter-widgets/controls",
      "model_module_version": "1.5.0",
      "model_name": "DescriptionStyleModel",
      "state": {
       "description_width": ""
      }
     },
     "a6605538fe4f4b868463c1d9be4232c2": {
      "model_module": "@jupyter-widgets/output",
      "model_module_version": "1.0.0",
      "model_name": "OutputModel",
      "state": {
       "layout": "IPY_MODEL_c48fb6da058445179ab759c8ea4f392a"
      }
     },
     "a6ee722959674225a6e0a5ae93382760": {
      "model_module": "@jupyter-widgets/base",
      "model_module_version": "1.2.0",
      "model_name": "LayoutModel",
      "state": {
       "height": "80px",
       "width": "33%"
      }
     },
     "a7420a17839846ed82d61f67d15c91e8": {
      "model_module": "@jupyter-widgets/base",
      "model_module_version": "1.2.0",
      "model_name": "LayoutModel",
      "state": {}
     },
     "a84b0eab9ec54690bd3ec3f49b2b5e38": {
      "model_module": "@jupyter-widgets/base",
      "model_module_version": "1.2.0",
      "model_name": "LayoutModel",
      "state": {}
     },
     "a86fc6063be8454e8f573416d5a908d0": {
      "model_module": "@jupyter-widgets/controls",
      "model_module_version": "1.5.0",
      "model_name": "ButtonStyleModel",
      "state": {}
     },
     "a8890433f57e47938f51d7395d4d592f": {
      "model_module": "@jupyter-widgets/controls",
      "model_module_version": "1.5.0",
      "model_name": "CheckboxModel",
      "state": {
       "description": "TRACE",
       "disabled": false,
       "indent": false,
       "layout": "IPY_MODEL_42d7d081eb3040eebf2c55302a602748",
       "style": "IPY_MODEL_44c0e5df21a945b9a4559b9b1c0b994f",
       "value": false
      }
     },
     "a9c32e6e8e0a4de3aa07b9ac7054ee8d": {
      "model_module": "@jupyter-widgets/controls",
      "model_module_version": "1.5.0",
      "model_name": "HBoxModel",
      "state": {
       "children": [
        "IPY_MODEL_2a812619f63840948c5290d2cdaeacbd",
        "IPY_MODEL_757edf3421e141e2956b3b4e39979fde",
        "IPY_MODEL_144a8f1cd20f4980a4cfefe953f6b834",
        "IPY_MODEL_686f67b1a6554b3e890d7ff89a63ae5f"
       ],
       "layout": "IPY_MODEL_e5f13e90bd2748919eff670a5e0d7348"
      }
     },
     "aa4072ef8fc24f2eb4d6b868e515420c": {
      "model_module": "@jupyter-widgets/controls",
      "model_module_version": "1.5.0",
      "model_name": "ButtonStyleModel",
      "state": {}
     },
     "aa5af81c3a694ce2b0cfb1d073385714": {
      "model_module": "@jupyter-widgets/base",
      "model_module_version": "1.2.0",
      "model_name": "LayoutModel",
      "state": {
       "height": "80px",
       "width": "33%"
      }
     },
     "aa83eade43f74103a71b4ff2938bee24": {
      "model_module": "@jupyter-widgets/base",
      "model_module_version": "1.2.0",
      "model_name": "LayoutModel",
      "state": {
       "height": "80px",
       "width": "33%"
      }
     },
     "aa8aacdbddaf4427942dc06a4bc25215": {
      "model_module": "@jupyter-widgets/controls",
      "model_module_version": "1.5.0",
      "model_name": "DescriptionStyleModel",
      "state": {
       "description_width": ""
      }
     },
     "aabcdea24f7a493d859ae3e13ae37aa7": {
      "model_module": "@jupyter-widgets/base",
      "model_module_version": "1.2.0",
      "model_name": "LayoutModel",
      "state": {}
     },
     "aafde51f58df4234b510e2c168b9b003": {
      "model_module": "qgrid",
      "model_module_version": "^1.1.3",
      "model_name": "QgridModel",
      "state": {
       "_columns": {
        "LOG TYPE": {
         "cssClass": "string",
         "defaultSortAsc": true,
         "editable": true,
         "field": "LOG TYPE",
         "id": "LOG TYPE",
         "minWidth": 30,
         "name": "LOG TYPE",
         "position": 2,
         "resizable": true,
         "sortable": true,
         "toolTip": "",
         "type": "string"
        },
        "MESSAGE": {
         "cssClass": "string",
         "defaultSortAsc": true,
         "editable": true,
         "field": "MESSAGE",
         "id": "MESSAGE",
         "minWidth": 30,
         "name": "MESSAGE",
         "position": 3,
         "resizable": true,
         "sortable": true,
         "toolTip": "",
         "type": "string"
        },
        "index": {
         "cssClass": "integer first-idx-col idx-col first-idx-col idx-col first-idx-col idx-col first-idx-col idx-col first-idx-col idx-col first-idx-col idx-col first-idx-col idx-col first-idx-col idx-col first-idx-col idx-col first-idx-col idx-col first-idx-col idx-col first-idx-col idx-col",
         "defaultSortAsc": true,
         "editable": true,
         "field": "index",
         "first_index": true,
         "id": "index",
         "index_display_text": "",
         "is_index": true,
         "level": 0,
         "minWidth": 30,
         "name": "",
         "position": 0,
         "resizable": true,
         "sortable": true,
         "toolTip": "",
         "type": "integer"
        },
        "qgrid_unfiltered_index": {
         "cssClass": "integer",
         "defaultSortAsc": true,
         "editable": true,
         "field": "qgrid_unfiltered_index",
         "id": "qgrid_unfiltered_index",
         "maxWidth": null,
         "minWidth": 30,
         "name": "qgrid_unfiltered_index",
         "position": 1,
         "resizable": true,
         "sortable": true,
         "toolTip": "",
         "type": "integer",
         "width": null
        }
       },
       "_df_json": "{\"schema\":{\"fields\":[{\"name\":\"index\",\"type\":\"integer\"},{\"name\":\"qgrid_unfiltered_index\",\"type\":\"integer\"},{\"name\":\"LOG TYPE\",\"type\":\"string\"},{\"name\":\"MESSAGE\",\"type\":\"string\"}],\"primaryKey\":[\"index\"],\"pandas_version\":\"0.20.0\"},\"data\":[{\"index\":0,\"qgrid_unfiltered_index\":0,\"LOG TYPE\":\" CRITICAL \",\"MESSAGE\":\" syft.logger:log_and_print:76 - Skipping torchvision.torchvision.transforms.functional.adjust_sharpness not supported in 0.8.2\\n\"},{\"index\":1,\"qgrid_unfiltered_index\":1,\"LOG TYPE\":\" CRITICAL \",\"MESSAGE\":\" syft.logger:log_and_print:76 - Skipping torchvision.torchvision.transforms.functional.autocontrast not supported in 0.8.2\\n\"},{\"index\":2,\"qgrid_unfiltered_index\":2,\"LOG TYPE\":\" CRITICAL \",\"MESSAGE\":\" syft.logger:log_and_print:76 - Skipping torchvision.torchvision.transforms.functional.equalize not supported in 0.8.2\\n\"},{\"index\":3,\"qgrid_unfiltered_index\":3,\"LOG TYPE\":\" CRITICAL \",\"MESSAGE\":\" syft.logger:log_and_print:76 - Skipping torchvision.torchvision.transforms.functional.invert not supported in 0.8.2\\n\"},{\"index\":4,\"qgrid_unfiltered_index\":4,\"LOG TYPE\":\" CRITICAL \",\"MESSAGE\":\" syft.logger:log_and_print:76 - Skipping torchvision.torchvision.transforms.functional.posterize not supported in 0.8.2\\n\"},{\"index\":5,\"qgrid_unfiltered_index\":5,\"LOG TYPE\":\" CRITICAL \",\"MESSAGE\":\" syft.logger:log_and_print:76 - Skipping torchvision.torchvision.transforms.functional.solarize not supported in 0.8.2\\n\"},{\"index\":6,\"qgrid_unfiltered_index\":6,\"LOG TYPE\":\" DEBUG    \",\"MESSAGE\":\" syft.logger:log_and_print:76 - > Creating \\ud83d\\udce1 [\\ud83d\\udd17] om-net Client (NetworkClient)@<UID:\\ud83d\\udeb6\\ud83d\\udeb5>\\n\"},{\"index\":7,\"qgrid_unfiltered_index\":7,\"LOG TYPE\":\" DEBUG    \",\"MESSAGE\":\" syft.logger:log_and_print:76 - > Creating \\u2709\\ufe0f  (RegisterNewPeerMessage) <UID:\\ud83d\\ude88\\ud83d\\ude84>\\n\"},{\"index\":8,\"qgrid_unfiltered_index\":8,\"LOG TYPE\":\" DEBUG    \",\"MESSAGE\":\" syft.logger:log_and_print:76 - > \\ud83d\\udce1 [\\ud83d\\udd17] om-net Client (NetworkClient)@<UID:\\ud83d\\udeb6\\ud83d\\udeb5> Signing \\u2709\\ufe0f  (RegisterNewPeerMessage) with \\ud83d\\udec0\\n\"},{\"index\":9,\"qgrid_unfiltered_index\":9,\"LOG TYPE\":\" DEBUG    \",\"MESSAGE\":\" syft.logger:log_and_print:76 - > Signing with \\ud83d\\udec0\\n\"},{\"index\":10,\"qgrid_unfiltered_index\":10,\"LOG TYPE\":\" DEBUG    \",\"MESSAGE\":\" syft.logger:log_and_print:76 - Serializing syft.grid.services.signaling_service.RegisterNewPeerMessage\\n\"},{\"index\":11,\"qgrid_unfiltered_index\":11,\"LOG TYPE\":\" DEBUG    \",\"MESSAGE\":\" syft.logger:log_and_print:76 - > Creating Signed \\u2709\\ufe0f \\ud83d\\udd0f (SignedImmediateSyftMessageWithReply) <UID:\\ud83d\\ude88\\ud83d\\ude84>\\n\"},{\"index\":12,\"qgrid_unfiltered_index\":12,\"LOG TYPE\":\" DEBUG    \",\"MESSAGE\":\" syft.logger:log_and_print:76 - Serializing syft.core.common.message.SignedImmediateSyftMessageWithReply\\n\"},{\"index\":13,\"qgrid_unfiltered_index\":13,\"LOG TYPE\":\" DEBUG    \",\"MESSAGE\":\" syft.logger:log_and_print:76 - > \\u2709\\ufe0f \\ud83d\\udd0f -> Proto \\ud83d\\udd22 <UID: 5c116dab3d80448e940a539517c76a69>\\n\"},{\"index\":14,\"qgrid_unfiltered_index\":14,\"LOG TYPE\":\" DEBUG    \",\"MESSAGE\":\" syft.logger:log_and_print:76 - > Creating \\u2709\\ufe0f  (PeerSuccessfullyRegistered) <UID:\\ud83d\\ude8a\\ud83d\\udeb1>\\n\"},{\"index\":15,\"qgrid_unfiltered_index\":15,\"LOG TYPE\":\" DEBUG    \",\"MESSAGE\":\" syft.logger:log_and_print:76 - > Creating Signed \\u2709\\ufe0f \\ud83d\\udd0f (SignedImmediateSyftMessageWithoutReply) <UID:\\ud83d\\ude8a\\ud83d\\udeb1>\\n\"},{\"index\":16,\"qgrid_unfiltered_index\":16,\"LOG TYPE\":\" DEBUG    \",\"MESSAGE\":\" syft.logger:log_and_print:76 - > \\u2709\\ufe0f \\ud83d\\udd0f <- \\ud83d\\udd22 Proto\\n\"},{\"index\":17,\"qgrid_unfiltered_index\":17,\"LOG TYPE\":\" DEBUG    \",\"MESSAGE\":\" syft.logger:log_and_print:76 - > Creating \\u2709\\ufe0f  (PeerSuccessfullyRegistered) <UID:\\ud83d\\ude8a\\ud83d\\udeb1>\\n\"},{\"index\":18,\"qgrid_unfiltered_index\":18,\"LOG TYPE\":\" DEBUG    \",\"MESSAGE\":\" syft.logger:log_and_print:76 - > Creating \\ud83d\\uddc3\\ufe0f (MemoryStore) {}\\n\"},{\"index\":19,\"qgrid_unfiltered_index\":19,\"LOG TYPE\":\" DEBUG    \",\"MESSAGE\":\" syft.logger:log_and_print:76 - Created MemoryStore.\\n\"},{\"index\":20,\"qgrid_unfiltered_index\":20,\"LOG TYPE\":\" DEBUG    \",\"MESSAGE\":\" syft.logger:log_and_print:76 - > Creating \\ud83c\\udff0 Launcher (Domain)@<UID:\\ud83d\\ude59\\ud83d\\ude8c>\\n\"},{\"index\":21,\"qgrid_unfiltered_index\":21,\"LOG TYPE\":\" DEBUG    \",\"MESSAGE\":\" syft.logger:log_and_print:82 - failed to log exception. info() missing 1 required positional argument: '_Logger__message'\\n\"},{\"index\":22,\"qgrid_unfiltered_index\":22,\"LOG TYPE\":\" DEBUG    \",\"MESSAGE\":\" syft.logger:log_and_print:82 - failed to log exception. info() missing 1 required positional argument: '_Logger__message'\\n\"},{\"index\":23,\"qgrid_unfiltered_index\":23,\"LOG TYPE\":\" DEBUG    \",\"MESSAGE\":\" syft.logger:log_and_print:76 - client not ready\\n\"},{\"index\":24,\"qgrid_unfiltered_index\":24,\"LOG TYPE\":\" DEBUG    \",\"MESSAGE\":\" syft.logger:log_and_print:76 - client not ready\\n\"},{\"index\":25,\"qgrid_unfiltered_index\":25,\"LOG TYPE\":\" DEBUG    \",\"MESSAGE\":\" syft.logger:log_and_print:76 - client not ready\\n\"},{\"index\":26,\"qgrid_unfiltered_index\":26,\"LOG TYPE\":\" DEBUG    \",\"MESSAGE\":\" syft.logger:log_and_print:76 - client not ready\\n\"},{\"index\":27,\"qgrid_unfiltered_index\":27,\"LOG TYPE\":\" DEBUG    \",\"MESSAGE\":\" syft.logger:log_and_print:76 - client not ready\\n\"},{\"index\":28,\"qgrid_unfiltered_index\":28,\"LOG TYPE\":\" DEBUG    \",\"MESSAGE\":\" syft.logger:log_and_print:76 - client not ready\\n\"},{\"index\":29,\"qgrid_unfiltered_index\":29,\"LOG TYPE\":\" DEBUG    \",\"MESSAGE\":\" syft.logger:log_and_print:76 - client not ready\\n\"},{\"index\":30,\"qgrid_unfiltered_index\":30,\"LOG TYPE\":\" DEBUG    \",\"MESSAGE\":\" syft.logger:log_and_print:76 - client not ready\\n\"},{\"index\":31,\"qgrid_unfiltered_index\":31,\"LOG TYPE\":\" DEBUG    \",\"MESSAGE\":\" syft.logger:log_and_print:76 - client not ready\\n\"},{\"index\":32,\"qgrid_unfiltered_index\":32,\"LOG TYPE\":\" DEBUG    \",\"MESSAGE\":\" syft.logger:log_and_print:76 - client not ready\\n\"},{\"index\":33,\"qgrid_unfiltered_index\":33,\"LOG TYPE\":\" DEBUG    \",\"MESSAGE\":\" syft.logger:log_and_print:76 - client not ready\\n\"},{\"index\":34,\"qgrid_unfiltered_index\":34,\"LOG TYPE\":\" DEBUG    \",\"MESSAGE\":\" syft.logger:log_and_print:76 - client not ready\\n\"},{\"index\":35,\"qgrid_unfiltered_index\":35,\"LOG TYPE\":\" DEBUG    \",\"MESSAGE\":\" syft.logger:log_and_print:76 - client not ready\\n\"},{\"index\":36,\"qgrid_unfiltered_index\":36,\"LOG TYPE\":\" DEBUG    \",\"MESSAGE\":\" syft.logger:log_and_print:76 - client not ready\\n\"},{\"index\":37,\"qgrid_unfiltered_index\":37,\"LOG TYPE\":\" DEBUG    \",\"MESSAGE\":\" syft.logger:log_and_print:76 - client not ready\\n\"},{\"index\":38,\"qgrid_unfiltered_index\":38,\"LOG TYPE\":\" DEBUG    \",\"MESSAGE\":\" syft.logger:log_and_print:76 - > Creating \\u2709\\ufe0f  (SignalingOfferMessage) <UID:\\ud83d\\udee9\\ud83d\\ude89>\\n\"},{\"index\":39,\"qgrid_unfiltered_index\":39,\"LOG TYPE\":\" DEBUG    \",\"MESSAGE\":\" syft.logger:log_and_print:76 - > Creating \\u2709\\ufe0f  (AnswerPullRequestMessage) <UID:\\ud83d\\ude5a\\ud83d\\udeb3>\\n\"},{\"index\":40,\"qgrid_unfiltered_index\":40,\"LOG TYPE\":\" DEBUG    \",\"MESSAGE\":\" syft.logger:log_and_print:76 - > \\ud83d\\udce1 [\\ud83d\\udd17] om-net Client (NetworkClient)@<UID:\\ud83d\\udeb6\\ud83d\\udeb5> Signing \\u2709\\ufe0f  (SignalingOfferMessage) with \\ud83d\\udec0\\n\"},{\"index\":41,\"qgrid_unfiltered_index\":41,\"LOG TYPE\":\" DEBUG    \",\"MESSAGE\":\" syft.logger:log_and_print:76 - > Signing with \\ud83d\\udec0\\n\"},{\"index\":42,\"qgrid_unfiltered_index\":42,\"LOG TYPE\":\" DEBUG    \",\"MESSAGE\":\" syft.logger:log_and_print:76 - Serializing syft.grid.services.signaling_service.SignalingOfferMessage\\n\"},{\"index\":43,\"qgrid_unfiltered_index\":43,\"LOG TYPE\":\" DEBUG    \",\"MESSAGE\":\" syft.logger:log_and_print:76 - > Creating Signed \\u2709\\ufe0f \\ud83d\\udd0f (SignedImmediateSyftMessageWithoutReply) <UID:\\ud83d\\udee9\\ud83d\\ude89>\\n\"},{\"index\":44,\"qgrid_unfiltered_index\":44,\"LOG TYPE\":\" DEBUG    \",\"MESSAGE\":\" syft.logger:log_and_print:76 - > Sending \\u2709\\ufe0f \\ud83d\\udd0f (SignedImmediateSyftMessageWithoutReply) \\ud83d\\udce1 [\\ud83d\\udd17] om-net Client (NetworkClient)@<UID:\\ud83d\\udeb6\\ud83d\\udeb5> \\u27a1\\ufe0f  \\ud83d\\udca0 [\\ud83d\\udd17] om-net Client (Address)\\n\"},{\"index\":45,\"qgrid_unfiltered_index\":45,\"LOG TYPE\":\" DEBUG    \",\"MESSAGE\":\" syft.logger:log_and_print:76 - > Routing \\u2709\\ufe0f \\ud83d\\udd0f (SignedImmediateSyftMessageWithoutReply) via \\ud83d\\udee3\\ufe0f  (SoloRoute)\\n\"},{\"index\":46,\"qgrid_unfiltered_index\":46,\"LOG TYPE\":\" DEBUG    \",\"MESSAGE\":\" syft.logger:log_and_print:76 - Serializing syft.core.common.message.SignedImmediateSyftMessageWithoutReply\\n\"},{\"index\":47,\"qgrid_unfiltered_index\":47,\"LOG TYPE\":\" DEBUG    \",\"MESSAGE\":\" syft.logger:log_and_print:76 - > \\u2709\\ufe0f \\ud83d\\udd0f -> Proto \\ud83d\\udd22 <UID: 68c031fc2c514a73937764b78a958efd>\\n\"},{\"index\":48,\"qgrid_unfiltered_index\":48,\"LOG TYPE\":\" DEBUG    \",\"MESSAGE\":\" syft.logger:log_and_print:76 - > \\ud83d\\udce1 [\\ud83d\\udd17] om-net Client (NetworkClient)@<UID:\\ud83d\\udeb6\\ud83d\\udeb5> Signing \\u2709\\ufe0f  (AnswerPullRequestMessage) with \\ud83d\\udec0\\n\"},{\"index\":49,\"qgrid_unfiltered_index\":49,\"LOG TYPE\":\" DEBUG    \",\"MESSAGE\":\" syft.logger:log_and_print:76 - > Signing with \\ud83d\\udec0\\n\"},{\"index\":50,\"qgrid_unfiltered_index\":50,\"LOG TYPE\":\" DEBUG    \",\"MESSAGE\":\" syft.logger:log_and_print:76 - Serializing syft.grid.services.signaling_service.AnswerPullRequestMessage\\n\"},{\"index\":51,\"qgrid_unfiltered_index\":51,\"LOG TYPE\":\" DEBUG    \",\"MESSAGE\":\" syft.logger:log_and_print:76 - > Creating Signed \\u2709\\ufe0f \\ud83d\\udd0f (SignedImmediateSyftMessageWithReply) <UID:\\ud83d\\ude5a\\ud83d\\udeb3>\\n\"},{\"index\":52,\"qgrid_unfiltered_index\":52,\"LOG TYPE\":\" DEBUG    \",\"MESSAGE\":\" syft.logger:log_and_print:76 - Serializing syft.core.common.message.SignedImmediateSyftMessageWithReply\\n\"},{\"index\":53,\"qgrid_unfiltered_index\":53,\"LOG TYPE\":\" DEBUG    \",\"MESSAGE\":\" syft.logger:log_and_print:76 - > \\u2709\\ufe0f \\ud83d\\udd0f -> Proto \\ud83d\\udd22 <UID: 83136c8d67ad4de89f6363db5d2f3669>\\n\"},{\"index\":54,\"qgrid_unfiltered_index\":54,\"LOG TYPE\":\" DEBUG    \",\"MESSAGE\":\" syft.logger:log_and_print:76 - > Creating \\u2709\\ufe0f  (SignalingRequestsNotFound) <UID:\\ud83d\\ude8c\\ud83d\\udedf>\\n\"},{\"index\":55,\"qgrid_unfiltered_index\":55,\"LOG TYPE\":\" DEBUG    \",\"MESSAGE\":\" syft.logger:log_and_print:76 - > Creating Signed \\u2709\\ufe0f \\ud83d\\udd0f (SignedImmediateSyftMessageWithoutReply) <UID:\\ud83d\\ude8c\\ud83d\\udedf>\\n\"},{\"index\":56,\"qgrid_unfiltered_index\":56,\"LOG TYPE\":\" DEBUG    \",\"MESSAGE\":\" syft.logger:log_and_print:76 - > \\u2709\\ufe0f \\ud83d\\udd0f <- \\ud83d\\udd22 Proto\\n\"},{\"index\":57,\"qgrid_unfiltered_index\":57,\"LOG TYPE\":\" DEBUG    \",\"MESSAGE\":\" syft.logger:log_and_print:76 - > Creating \\u2709\\ufe0f  (SignalingRequestsNotFound) <UID:\\ud83d\\ude8c\\ud83d\\udedf>\\n\"},{\"index\":58,\"qgrid_unfiltered_index\":58,\"LOG TYPE\":\" DEBUG    \",\"MESSAGE\":\" syft.logger:log_and_print:76 - > \\ud83d\\udce1 [\\ud83d\\udd17] om-net Client (NetworkClient)@<UID:\\ud83d\\udeb6\\ud83d\\udeb5> Signing \\u2709\\ufe0f  (AnswerPullRequestMessage) with \\ud83d\\udec0\\n\"},{\"index\":59,\"qgrid_unfiltered_index\":59,\"LOG TYPE\":\" DEBUG    \",\"MESSAGE\":\" syft.logger:log_and_print:76 - > Signing with \\ud83d\\udec0\\n\"},{\"index\":60,\"qgrid_unfiltered_index\":60,\"LOG TYPE\":\" DEBUG    \",\"MESSAGE\":\" syft.logger:log_and_print:76 - Serializing syft.grid.services.signaling_service.AnswerPullRequestMessage\\n\"},{\"index\":61,\"qgrid_unfiltered_index\":61,\"LOG TYPE\":\" DEBUG    \",\"MESSAGE\":\" syft.logger:log_and_print:76 - > Creating Signed \\u2709\\ufe0f \\ud83d\\udd0f (SignedImmediateSyftMessageWithReply) <UID:\\ud83d\\ude5a\\ud83d\\udeb3>\\n\"},{\"index\":62,\"qgrid_unfiltered_index\":62,\"LOG TYPE\":\" DEBUG    \",\"MESSAGE\":\" syft.logger:log_and_print:76 - Serializing syft.core.common.message.SignedImmediateSyftMessageWithReply\\n\"},{\"index\":63,\"qgrid_unfiltered_index\":63,\"LOG TYPE\":\" DEBUG    \",\"MESSAGE\":\" syft.logger:log_and_print:76 - > \\u2709\\ufe0f \\ud83d\\udd0f -> Proto \\ud83d\\udd22 <UID: 83136c8d67ad4de89f6363db5d2f3669>\\n\"},{\"index\":64,\"qgrid_unfiltered_index\":64,\"LOG TYPE\":\" DEBUG    \",\"MESSAGE\":\" syft.logger:log_and_print:76 - > Creating \\u2709\\ufe0f  (SignalingAnswerMessage) <UID:\\ud83d\\udedb\\ud83d\\ude53>\\n\"},{\"index\":65,\"qgrid_unfiltered_index\":65,\"LOG TYPE\":\" DEBUG    \",\"MESSAGE\":\" syft.logger:log_and_print:76 - > Creating Signed \\u2709\\ufe0f \\ud83d\\udd0f (SignedImmediateSyftMessageWithoutReply) <UID:\\ud83d\\udedb\\ud83d\\ude53>\\n\"},{\"index\":66,\"qgrid_unfiltered_index\":66,\"LOG TYPE\":\" DEBUG    \",\"MESSAGE\":\" syft.logger:log_and_print:76 - > \\u2709\\ufe0f \\ud83d\\udd0f <- \\ud83d\\udd22 Proto\\n\"},{\"index\":67,\"qgrid_unfiltered_index\":67,\"LOG TYPE\":\" DEBUG    \",\"MESSAGE\":\" syft.logger:log_and_print:76 - > Creating \\u2709\\ufe0f  (SignalingAnswerMessage) <UID:\\ud83d\\udedb\\ud83d\\ude53>\\n\"},{\"index\":68,\"qgrid_unfiltered_index\":68,\"LOG TYPE\":\" CRITICAL \",\"MESSAGE\":\" syft.logger:log_and_print:76 - Skipping torchvision.torchvision.transforms.functional.adjust_sharpness not supported in 0.8.2\\n\"},{\"index\":69,\"qgrid_unfiltered_index\":69,\"LOG TYPE\":\" CRITICAL \",\"MESSAGE\":\" syft.logger:log_and_print:76 - Skipping torchvision.torchvision.transforms.functional.autocontrast not supported in 0.8.2\\n\"},{\"index\":70,\"qgrid_unfiltered_index\":70,\"LOG TYPE\":\" CRITICAL \",\"MESSAGE\":\" syft.logger:log_and_print:76 - Skipping torchvision.torchvision.transforms.functional.equalize not supported in 0.8.2\\n\"},{\"index\":71,\"qgrid_unfiltered_index\":71,\"LOG TYPE\":\" CRITICAL \",\"MESSAGE\":\" syft.logger:log_and_print:76 - Skipping torchvision.torchvision.transforms.functional.invert not supported in 0.8.2\\n\"},{\"index\":72,\"qgrid_unfiltered_index\":72,\"LOG TYPE\":\" CRITICAL \",\"MESSAGE\":\" syft.logger:log_and_print:76 - Skipping torchvision.torchvision.transforms.functional.posterize not supported in 0.8.2\\n\"},{\"index\":73,\"qgrid_unfiltered_index\":73,\"LOG TYPE\":\" CRITICAL \",\"MESSAGE\":\" syft.logger:log_and_print:76 - Skipping torchvision.torchvision.transforms.functional.solarize not supported in 0.8.2\\n\"},{\"index\":74,\"qgrid_unfiltered_index\":74,\"LOG TYPE\":\" DEBUG    \",\"MESSAGE\":\" syft.logger:log_and_print:76 - > Creating \\ud83d\\udce1 [\\ud83c\\udff0] Joiner Client (Duet)@<UID:\\ud83d\\udee0\\ud83d\\ude52>\\n\"},{\"index\":75,\"qgrid_unfiltered_index\":75,\"LOG TYPE\":\" DEBUG    \",\"MESSAGE\":\" syft.widget_logger:log_and_print:90 - failed to log exception. info() missing 1 required positional argument: '_Logger__message'\\n\"},{\"index\":76,\"qgrid_unfiltered_index\":76,\"LOG TYPE\":\" CRITICAL \",\"MESSAGE\":\" syft.logger:log_and_print:76 - Skipping torchvision.torchvision.transforms.functional.adjust_sharpness not supported in 0.8.2\\n\"},{\"index\":77,\"qgrid_unfiltered_index\":77,\"LOG TYPE\":\" CRITICAL \",\"MESSAGE\":\" syft.logger:log_and_print:76 - Skipping torchvision.torchvision.transforms.functional.autocontrast not supported in 0.8.2\\n\"},{\"index\":78,\"qgrid_unfiltered_index\":78,\"LOG TYPE\":\" CRITICAL \",\"MESSAGE\":\" syft.logger:log_and_print:76 - Skipping torchvision.torchvision.transforms.functional.equalize not supported in 0.8.2\\n\"},{\"index\":79,\"qgrid_unfiltered_index\":79,\"LOG TYPE\":\" CRITICAL \",\"MESSAGE\":\" syft.logger:log_and_print:76 - Skipping torchvision.torchvision.transforms.functional.invert not supported in 0.8.2\\n\"},{\"index\":80,\"qgrid_unfiltered_index\":80,\"LOG TYPE\":\" CRITICAL \",\"MESSAGE\":\" syft.logger:log_and_print:76 - Skipping torchvision.torchvision.transforms.functional.posterize not supported in 0.8.2\\n\"},{\"index\":81,\"qgrid_unfiltered_index\":81,\"LOG TYPE\":\" CRITICAL \",\"MESSAGE\":\" syft.logger:log_and_print:76 - Skipping torchvision.torchvision.transforms.functional.solarize not supported in 0.8.2\\n\"},{\"index\":82,\"qgrid_unfiltered_index\":82,\"LOG TYPE\":\" DEBUG    \",\"MESSAGE\":\" syft.logger:log_and_print:76 - > Creating \\ud83d\\udce1 [\\ud83c\\udff0] Launcher Client (DomainClient)@<UID:\\ud83d\\ude59\\ud83d\\ude8c>\\n\"},{\"index\":83,\"qgrid_unfiltered_index\":83,\"LOG TYPE\":\" DEBUG    \",\"MESSAGE\":\" syft.widget_logger:log_and_print:90 - failed to log exception. info() missing 1 required positional argument: '_Logger__message'\\n\"}]}",
       "_df_range": [
        0,
        100
       ],
       "_editable_rows": {},
       "_index_col_name": "qgrid_unfiltered_index",
       "_interval_columns": [],
       "_model_module_version": "^1.1.3",
       "_multi_index": false,
       "_row_count": 84,
       "_row_styles": {},
       "_sort_ascending": true,
       "_sort_field": null,
       "_view_module_version": "^1.1.3",
       "_viewport_range": [
        0,
        16
       ],
       "grid_options": {
        "autoEdit": false,
        "boldIndex": true,
        "defaultColumnWidth": 150,
        "editable": true,
        "enableColumnReorder": false,
        "enableTextSelectionOnCells": true,
        "explicitInitialization": true,
        "filterable": true,
        "forceFitColumns": true,
        "fullWidthRows": true,
        "highlightSelectedCell": false,
        "highlightSelectedRow": true,
        "maxVisibleRows": 15,
        "minVisibleRows": 8,
        "rowHeight": 28,
        "sortable": true,
        "syncColumnCellResize": true
       },
       "id": "2faf15f6-64a4-4473-9ce0-a79c5d98a9b7",
       "layout": "IPY_MODEL_4f09d2d2b49c4040adc1110a082947a8",
       "precision": 5,
       "show_toolbar": true
      }
     },
     "ab4feee227404c769616e0296619c1bb": {
      "model_module": "@jupyter-widgets/controls",
      "model_module_version": "1.5.0",
      "model_name": "VBoxModel",
      "state": {
       "children": [
        "IPY_MODEL_1d2cdbff39a84d04bcabf6bb8f61d292",
        "IPY_MODEL_573f7d8bbc23411dbb11d8ab17d57053"
       ],
       "layout": "IPY_MODEL_c9d222c28f404a299e090d626da6054b"
      }
     },
     "abb6d0c174f34f0cbf3e08697736c3e4": {
      "model_module": "@jupyter-widgets/base",
      "model_module_version": "1.2.0",
      "model_name": "LayoutModel",
      "state": {
       "align_items": "stretch",
       "border": "1px solid black",
       "display": "flex",
       "flex_flow": "column"
      }
     },
     "ac228dd1f03546a59857913222c0e73b": {
      "model_module": "@jupyter-widgets/controls",
      "model_module_version": "1.5.0",
      "model_name": "ButtonStyleModel",
      "state": {}
     },
     "acfa881128934c2c867508a9c8d488c1": {
      "model_module": "@jupyter-widgets/controls",
      "model_module_version": "1.5.0",
      "model_name": "ButtonModel",
      "state": {
       "button_style": "success",
       "description": "Launch Duet(with loopback)",
       "icon": "plug",
       "layout": "IPY_MODEL_f8a5fe5ee0494864807b18cd498d1ac7",
       "style": "IPY_MODEL_b26f239072864829b508e005c0a9017d",
       "tooltip": "Launch Duet(with loopback)"
      }
     },
     "ad216f7a103541c49d8f49a63ff0dcde": {
      "model_module": "@jupyter-widgets/controls",
      "model_module_version": "1.5.0",
      "model_name": "DescriptionStyleModel",
      "state": {
       "description_width": ""
      }
     },
     "ae1f605d5aee4b4381370bde7bd7fdc3": {
      "model_module": "@jupyter-widgets/controls",
      "model_module_version": "1.5.0",
      "model_name": "CheckboxModel",
      "state": {
       "description": "NULL",
       "disabled": false,
       "indent": false,
       "layout": "IPY_MODEL_56f356f3b0244e80bb23c8f18f5e2b41",
       "style": "IPY_MODEL_288d51ab2b764db1b3744516e3f2f09c",
       "value": false
      }
     },
     "aff3847e1be94e52939ce6b0ece3ac2c": {
      "model_module": "@jupyter-widgets/base",
      "model_module_version": "1.2.0",
      "model_name": "LayoutModel",
      "state": {
       "height": "80px",
       "width": "33%"
      }
     },
     "b0376c9daa114c7a91f5e87c2e2d650c": {
      "model_module": "@jupyter-widgets/controls",
      "model_module_version": "1.5.0",
      "model_name": "HBoxModel",
      "state": {
       "children": [
        "IPY_MODEL_35bb8ebae2a2470396b26d0fec570ecf",
        "IPY_MODEL_8509edc4e5eb481ea23042b431cd9464",
        "IPY_MODEL_4bfd0d3fc88446b4ae5078d910180e2d"
       ],
       "layout": "IPY_MODEL_5081bbebad5f46db93caa5f686e9ae1f"
      }
     },
     "b14cf289b9f14fa89a0e90e354713ecb": {
      "model_module": "@jupyter-widgets/base",
      "model_module_version": "1.2.0",
      "model_name": "LayoutModel",
      "state": {}
     },
     "b16e5c9e5c544d3fbdb2b15023e60dfc": {
      "model_module": "@jupyter-widgets/controls",
      "model_module_version": "1.5.0",
      "model_name": "DescriptionStyleModel",
      "state": {
       "description_width": ""
      }
     },
     "b2087286767a4d2088470249f84ba5df": {
      "model_module": "@jupyter-widgets/controls",
      "model_module_version": "1.5.0",
      "model_name": "ButtonStyleModel",
      "state": {}
     },
     "b26b8ae8bf23445da84b67537dcc6571": {
      "model_module": "@jupyter-widgets/base",
      "model_module_version": "1.2.0",
      "model_name": "LayoutModel",
      "state": {
       "align_items": "stretch",
       "border": "1px solid black",
       "display": "flex",
       "flex_flow": "column"
      }
     },
     "b26f239072864829b508e005c0a9017d": {
      "model_module": "@jupyter-widgets/controls",
      "model_module_version": "1.5.0",
      "model_name": "ButtonStyleModel",
      "state": {}
     },
     "b35bbddcf63e4074b030efe78532d989": {
      "model_module": "@jupyter-widgets/base",
      "model_module_version": "1.2.0",
      "model_name": "LayoutModel",
      "state": {
       "align_items": "stretch",
       "border": "1px solid black",
       "display": "flex",
       "flex_flow": "column"
      }
     },
     "b3bb5cada5c34aaaa77e88ec2469f60c": {
      "model_module": "@jupyter-widgets/controls",
      "model_module_version": "1.5.0",
      "model_name": "ButtonStyleModel",
      "state": {}
     },
     "b3df2d724e454aebb676c5bedded85b0": {
      "model_module": "@jupyter-widgets/base",
      "model_module_version": "1.2.0",
      "model_name": "LayoutModel",
      "state": {}
     },
     "b414bc16cca54cccb192a22b76afe7e5": {
      "model_module": "@jupyter-widgets/controls",
      "model_module_version": "1.5.0",
      "model_name": "HBoxModel",
      "state": {
       "children": [
        "IPY_MODEL_99cd844fe5794ee2822083526805d026",
        "IPY_MODEL_8b5547fab600452b9e41741fb275577f",
        "IPY_MODEL_f2f346af90c44b6c90c583face37bf78",
        "IPY_MODEL_d2d45c52d285466f95b364e1a8ae71ea"
       ],
       "layout": "IPY_MODEL_e0e217b914674e528e8a2e9e14f995ce"
      }
     },
     "b4219c4bf8a84fd4bce050e0e2ee9556": {
      "model_module": "@jupyter-widgets/base",
      "model_module_version": "1.2.0",
      "model_name": "LayoutModel",
      "state": {
       "height": "80px",
       "width": "33%"
      }
     },
     "b49ac963c5c7457c8a8bd36be5054e25": {
      "model_module": "@jupyter-widgets/base",
      "model_module_version": "1.2.0",
      "model_name": "LayoutModel",
      "state": {}
     },
     "b4b96b84bdd64f569e18d61d7bbdb92c": {
      "model_module": "@jupyter-widgets/base",
      "model_module_version": "1.2.0",
      "model_name": "LayoutModel",
      "state": {}
     },
     "b62e7d3d376043d8a72c4a3b6d0afc2e": {
      "model_module": "@jupyter-widgets/controls",
      "model_module_version": "1.5.0",
      "model_name": "DescriptionStyleModel",
      "state": {
       "description_width": ""
      }
     },
     "b660aaa76a58489a93fb0c8ebdcaabec": {
      "model_module": "@jupyter-widgets/base",
      "model_module_version": "1.2.0",
      "model_name": "LayoutModel",
      "state": {}
     },
     "b69c3948c79444469aa9cfc68a24bc11": {
      "model_module": "@jupyter-widgets/base",
      "model_module_version": "1.2.0",
      "model_name": "LayoutModel",
      "state": {}
     },
     "b760149c29804bf3bb3be0030fb6f796": {
      "model_module": "@jupyter-widgets/base",
      "model_module_version": "1.2.0",
      "model_name": "LayoutModel",
      "state": {}
     },
     "b842ef4d7e934b5e9bba5aae1fc7107d": {
      "model_module": "@jupyter-widgets/base",
      "model_module_version": "1.2.0",
      "model_name": "LayoutModel",
      "state": {}
     },
     "b8adf231bdb84482a20abd110195fff0": {
      "model_module": "@jupyter-widgets/controls",
      "model_module_version": "1.5.0",
      "model_name": "ButtonModel",
      "state": {
       "button_style": "info",
       "description": "Filter Logs",
       "icon": "filter",
       "layout": "IPY_MODEL_f99610ffaa9944eda33b95fc4fa6ae52",
       "style": "IPY_MODEL_4bae237062b040aa982f804503b5de02",
       "tooltip": "Filter Logs"
      }
     },
     "b9388305f23e415a91e34457697ab64a": {
      "model_module": "@jupyter-widgets/base",
      "model_module_version": "1.2.0",
      "model_name": "LayoutModel",
      "state": {}
     },
     "ba3103fad80443a7908fcea4339fc012": {
      "model_module": "@jupyter-widgets/controls",
      "model_module_version": "1.5.0",
      "model_name": "DescriptionStyleModel",
      "state": {
       "description_width": ""
      }
     },
     "baa9eb6512c94016904bff7a2e046a5f": {
      "model_module": "@jupyter-widgets/controls",
      "model_module_version": "1.5.0",
      "model_name": "ButtonModel",
      "state": {
       "button_style": "success",
       "description": "Load Library",
       "icon": "book",
       "layout": "IPY_MODEL_4066a7ee80b0436290f7d73e07b6eb40",
       "style": "IPY_MODEL_73a6a36fc9794cb09ac2be91cde44e92",
       "tooltip": "Load Library"
      }
     },
     "bad777b3b6d14f6b895649e08422906b": {
      "model_module": "@jupyter-widgets/controls",
      "model_module_version": "1.5.0",
      "model_name": "HBoxModel",
      "state": {
       "children": [
        "IPY_MODEL_e15d5543ff8c4ec5ad9cf7df9a9b0378",
        "IPY_MODEL_171e5b7c56dd4118a88d2b7a00f23a20",
        "IPY_MODEL_2509471671284454b142d62f62e3e55d",
        "IPY_MODEL_649814fe902b4307b56edbbe3db550ab"
       ],
       "layout": "IPY_MODEL_c785c0bca2d24fe09d344fda6e75b50c"
      }
     },
     "bb49b1eb23974678aa6c481388387fe1": {
      "model_module": "@jupyter-widgets/controls",
      "model_module_version": "1.5.0",
      "model_name": "HBoxModel",
      "state": {
       "children": [
        "IPY_MODEL_f684dea35d804d3fad677687cbc264a9",
        "IPY_MODEL_0d206eeed19549a5bebfa48b2b16f3cb",
        "IPY_MODEL_56de725f220c4d6b937c3e6d039c8530"
       ],
       "layout": "IPY_MODEL_f9b523da5687462981697a6190e15558"
      }
     },
     "bb93de4ce03f43b4b870a6ca7cdc3735": {
      "model_module": "@jupyter-widgets/controls",
      "model_module_version": "1.5.0",
      "model_name": "HBoxModel",
      "state": {
       "children": [
        "IPY_MODEL_8cdd565c2e6a4af6bb8fff1566885ccb",
        "IPY_MODEL_85e5e7ae463e4a168f53c2e31c26f0de",
        "IPY_MODEL_3893b714180a45269df9c5f0fa0039e4",
        "IPY_MODEL_3a5b4cfe6f334b868415d5f3061ff10a"
       ],
       "layout": "IPY_MODEL_a7420a17839846ed82d61f67d15c91e8"
      }
     },
     "bbfce16b556f40fbb862af39cf104495": {
      "model_module": "@jupyter-widgets/controls",
      "model_module_version": "1.5.0",
      "model_name": "DescriptionStyleModel",
      "state": {
       "description_width": ""
      }
     },
     "bc5a265ef396487f8947de98671ccf01": {
      "model_module": "@jupyter-widgets/base",
      "model_module_version": "1.2.0",
      "model_name": "LayoutModel",
      "state": {}
     },
     "bc8a41efad56496297e2a3cd353c3463": {
      "model_module": "@jupyter-widgets/base",
      "model_module_version": "1.2.0",
      "model_name": "LayoutModel",
      "state": {
       "align_items": "stretch",
       "border": "1px solid black",
       "display": "flex",
       "flex_flow": "column"
      }
     },
     "bcc906b7c979484982fa7d06bd287663": {
      "model_module": "@jupyter-widgets/base",
      "model_module_version": "1.2.0",
      "model_name": "LayoutModel",
      "state": {}
     },
     "be13d3b3ef6943c69a19f84c64f17fd4": {
      "model_module": "@jupyter-widgets/base",
      "model_module_version": "1.2.0",
      "model_name": "LayoutModel",
      "state": {
       "align_items": "stretch",
       "border": "1px solid black",
       "display": "flex",
       "flex_flow": "column"
      }
     },
     "be89c3726a0a4bf8875751a0cb08aa17": {
      "model_module": "@jupyter-widgets/controls",
      "model_module_version": "1.5.0",
      "model_name": "CheckboxModel",
      "state": {
       "description": "DEBUG",
       "disabled": false,
       "indent": false,
       "layout": "IPY_MODEL_cec5a18b98674f8fae412d2c37e752bd",
       "style": "IPY_MODEL_e3b06bdca69b4ebfacf9829789c3a716",
       "value": false
      }
     },
     "becd5b37ccaa4078bf867fbdbff5a9f5": {
      "model_module": "@jupyter-widgets/controls",
      "model_module_version": "1.5.0",
      "model_name": "DescriptionStyleModel",
      "state": {
       "description_width": ""
      }
     },
     "bf3685af8869434abd34080a6d8d7df9": {
      "model_module": "@jupyter-widgets/controls",
      "model_module_version": "1.5.0",
      "model_name": "ButtonModel",
      "state": {
       "button_style": "success",
       "description": "Launch Duet",
       "icon": "plug",
       "layout": "IPY_MODEL_12922c2237944f35ac8f9e2a2182db3f",
       "style": "IPY_MODEL_71adfd2fb64c46318c4dc34407ce0475",
       "tooltip": "Launch Duet"
      }
     },
     "bf9624db947d46ee90693059a79e40e1": {
      "model_module": "@jupyter-widgets/base",
      "model_module_version": "1.2.0",
      "model_name": "LayoutModel",
      "state": {}
     },
     "c0102e94a03642129cd82d3cc84d2bd7": {
      "model_module": "@jupyter-widgets/base",
      "model_module_version": "1.2.0",
      "model_name": "LayoutModel",
      "state": {
       "height": "50px",
       "width": "20%"
      }
     },
     "c04cbefad61f4b3bb1555a36823203bf": {
      "model_module": "@jupyter-widgets/base",
      "model_module_version": "1.2.0",
      "model_name": "LayoutModel",
      "state": {
       "height": "80px",
       "width": "33%"
      }
     },
     "c04f2e5ef77c48c798c3cf0867561a83": {
      "model_module": "@jupyter-widgets/controls",
      "model_module_version": "1.5.0",
      "model_name": "ButtonStyleModel",
      "state": {}
     },
     "c079467a087547b9bd6d7edda75901c4": {
      "model_module": "@jupyter-widgets/controls",
      "model_module_version": "1.5.0",
      "model_name": "CheckboxModel",
      "state": {
       "description": "TRACE",
       "disabled": false,
       "indent": false,
       "layout": "IPY_MODEL_933b861aed744f0cadaac19848e282b7",
       "style": "IPY_MODEL_549944ab794e414c8c61b45fa98a9a0c",
       "value": false
      }
     },
     "c10cce523ab64e3db73d0ae4bf8273f5": {
      "model_module": "@jupyter-widgets/base",
      "model_module_version": "1.2.0",
      "model_name": "LayoutModel",
      "state": {}
     },
     "c3e2b1221b614b9e8b232f6a57ffc01b": {
      "model_module": "@jupyter-widgets/base",
      "model_module_version": "1.2.0",
      "model_name": "LayoutModel",
      "state": {}
     },
     "c40000dab0594d0ea5512cd4197708c1": {
      "model_module": "@jupyter-widgets/base",
      "model_module_version": "1.2.0",
      "model_name": "LayoutModel",
      "state": {}
     },
     "c405fc18cb3446638b2145872999f56d": {
      "model_module": "@jupyter-widgets/output",
      "model_module_version": "1.0.0",
      "model_name": "OutputModel",
      "state": {
       "layout": "IPY_MODEL_bc8a41efad56496297e2a3cd353c3463",
       "outputs": [
        {
         "data": {
          "image/png": "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\n",
          "text/plain": "<IPython.core.display.Image object>"
         },
         "metadata": {
          "image/png": {
           "unconfined": true,
           "width": 400
          }
         },
         "output_type": "display_data"
        },
        {
         "name": "stdout",
         "output_type": "stream",
         "text": "syft_{time}.log\n"
        },
        {
         "name": "stderr",
         "output_type": "stream",
         "text": "[2021-04-02T18:21:23.370385+0530][CRITICAL][logger]][29235] Skipping torchvision.torchvision.transforms.functional.adjust_sharpness not supported in 0.8.2\n[2021-04-02T18:21:23.372023+0530][CRITICAL][logger]][29235] Skipping torchvision.torchvision.transforms.functional.autocontrast not supported in 0.8.2\n[2021-04-02T18:21:23.372875+0530][CRITICAL][logger]][29235] Skipping torchvision.torchvision.transforms.functional.equalize not supported in 0.8.2\n[2021-04-02T18:21:23.374045+0530][CRITICAL][logger]][29235] Skipping torchvision.torchvision.transforms.functional.invert not supported in 0.8.2\n[2021-04-02T18:21:23.375118+0530][CRITICAL][logger]][29235] Skipping torchvision.torchvision.transforms.functional.posterize not supported in 0.8.2\n[2021-04-02T18:21:23.376142+0530][CRITICAL][logger]][29235] Skipping torchvision.torchvision.transforms.functional.solarize not supported in 0.8.2\n"
        },
        {
         "name": "stdout",
         "output_type": "stream",
         "text": "\n♫♫♫ > \u001b[95mSTEP 1:\u001b[0m Send the following code to your Duet Partner!\n\nimport syft as sy\nduet = sy.join_duet(loopback=True)\n\n"
        },
        {
         "name": "stderr",
         "output_type": "stream",
         "text": "[2021-04-02T18:21:38.339338+0530][CRITICAL][logger]][29235] Skipping torchvision.torchvision.transforms.functional.adjust_sharpness not supported in 0.8.2\n[2021-04-02T18:21:38.340056+0530][CRITICAL][logger]][29235] Skipping torchvision.torchvision.transforms.functional.autocontrast not supported in 0.8.2\n[2021-04-02T18:21:38.340997+0530][CRITICAL][logger]][29235] Skipping torchvision.torchvision.transforms.functional.equalize not supported in 0.8.2\n[2021-04-02T18:21:38.341940+0530][CRITICAL][logger]][29235] Skipping torchvision.torchvision.transforms.functional.invert not supported in 0.8.2\n[2021-04-02T18:21:38.343332+0530][CRITICAL][logger]][29235] Skipping torchvision.torchvision.transforms.functional.posterize not supported in 0.8.2\n[2021-04-02T18:21:38.603893+0530][CRITICAL][logger]][29235] Skipping torchvision.torchvision.transforms.functional.adjust_sharpness not supported in 0.8.2\n[2021-04-02T18:21:38.605317+0530][CRITICAL][logger]][29235] Skipping torchvision.torchvision.transforms.functional.autocontrast not supported in 0.8.2\n[2021-04-02T18:21:38.606050+0530][CRITICAL][logger]][29235] Skipping torchvision.torchvision.transforms.functional.equalize not supported in 0.8.2\n"
        },
        {
         "name": "stdout",
         "output_type": "stream",
         "text": "Begin Logging\n"
        },
        {
         "name": "stderr",
         "output_type": "stream",
         "text": "[2021-04-02T18:21:38.609112+0530][CRITICAL][logger]][29235] Skipping torchvision.torchvision.transforms.functional.solarize not supported in 0.8.2\n"
        }
       ]
      }
     },
     "c48fb6da058445179ab759c8ea4f392a": {
      "model_module": "@jupyter-widgets/base",
      "model_module_version": "1.2.0",
      "model_name": "LayoutModel",
      "state": {
       "align_items": "stretch",
       "border": "1px solid black",
       "display": "flex",
       "flex_flow": "column"
      }
     },
     "c4b02aca49da4990bbaaf44afc4e0552": {
      "model_module": "@jupyter-widgets/controls",
      "model_module_version": "1.5.0",
      "model_name": "CheckboxModel",
      "state": {
       "description": "NULL",
       "disabled": false,
       "indent": false,
       "layout": "IPY_MODEL_a01c98466e1044a0bbf439f436c759b6",
       "style": "IPY_MODEL_ed87f49b748f4c80ae8dda80368f652b",
       "value": false
      }
     },
     "c6e29485aec54e68a7f3dc46754d1f76": {
      "model_module": "@jupyter-widgets/output",
      "model_module_version": "1.0.0",
      "model_name": "OutputModel",
      "state": {
       "layout": "IPY_MODEL_390c54917d4b469f966743d3f5a4e112"
      }
     },
     "c785c0bca2d24fe09d344fda6e75b50c": {
      "model_module": "@jupyter-widgets/base",
      "model_module_version": "1.2.0",
      "model_name": "LayoutModel",
      "state": {}
     },
     "c788402311e748bbb7c1ae518991a4c2": {
      "model_module": "@jupyter-widgets/controls",
      "model_module_version": "1.5.0",
      "model_name": "ButtonStyleModel",
      "state": {}
     },
     "c7c5dbc9f3d04862832b7ce1e79a050b": {
      "model_module": "@jupyter-widgets/output",
      "model_module_version": "1.0.0",
      "model_name": "OutputModel",
      "state": {
       "layout": "IPY_MODEL_be13d3b3ef6943c69a19f84c64f17fd4"
      }
     },
     "c7f5079bd01d4309a92b70eee8e5a6b0": {
      "model_module": "@jupyter-widgets/base",
      "model_module_version": "1.2.0",
      "model_name": "LayoutModel",
      "state": {}
     },
     "c88390babe844ae986029e544592f5f2": {
      "model_module": "@jupyter-widgets/controls",
      "model_module_version": "1.5.0",
      "model_name": "CheckboxModel",
      "state": {
       "description": "CRITICAL",
       "disabled": false,
       "indent": false,
       "layout": "IPY_MODEL_3c4790b26f364307b1b2a020b636fd56",
       "style": "IPY_MODEL_6c1f26d4985e4495926167f429fd9769",
       "value": false
      }
     },
     "c89a718622a9435bb8958222e1ca0922": {
      "model_module": "@jupyter-widgets/controls",
      "model_module_version": "1.5.0",
      "model_name": "ButtonModel",
      "state": {
       "button_style": "info",
       "description": "View Peers",
       "icon": "eye",
       "layout": "IPY_MODEL_5bcd959d3b2343709f80b03ef2077136",
       "style": "IPY_MODEL_95fae582a25349fc9e2dece293a9370e",
       "tooltip": "View Peers"
      }
     },
     "c8b406488a2c434aa23a475a73d6bb47": {
      "model_module": "@jupyter-widgets/base",
      "model_module_version": "1.2.0",
      "model_name": "LayoutModel",
      "state": {}
     },
     "c8bf6249d4df4c8d808a69944bd55fa3": {
      "model_module": "@jupyter-widgets/controls",
      "model_module_version": "1.5.0",
      "model_name": "DescriptionStyleModel",
      "state": {
       "description_width": ""
      }
     },
     "c8d26a2fdfab4237bc0fe04e61600203": {
      "model_module": "@jupyter-widgets/base",
      "model_module_version": "1.2.0",
      "model_name": "LayoutModel",
      "state": {}
     },
     "c9a29d12aa954017944ad31c0b39963c": {
      "model_module": "@jupyter-widgets/base",
      "model_module_version": "1.2.0",
      "model_name": "LayoutModel",
      "state": {}
     },
     "c9b6d10bfd0c42319a6d483f7e35d410": {
      "model_module": "@jupyter-widgets/controls",
      "model_module_version": "1.5.0",
      "model_name": "CheckboxModel",
      "state": {
       "description": "CRITICAL",
       "disabled": false,
       "indent": false,
       "layout": "IPY_MODEL_211f75e311e54732a8d2ad0d90f94230",
       "style": "IPY_MODEL_603249f7040e486898e151c6a3232117",
       "value": false
      }
     },
     "c9d222c28f404a299e090d626da6054b": {
      "model_module": "@jupyter-widgets/base",
      "model_module_version": "1.2.0",
      "model_name": "LayoutModel",
      "state": {}
     },
     "ca28715598854f7394664f85c049f643": {
      "model_module": "@jupyter-widgets/controls",
      "model_module_version": "1.5.0",
      "model_name": "ButtonModel",
      "state": {
       "button_style": "success",
       "description": "Search Logs",
       "icon": "search",
       "layout": "IPY_MODEL_762312d7ef5b4d149ef495309292dd6e",
       "style": "IPY_MODEL_6c6ff7d7a9c64a5fb51def3980c3288b",
       "tooltip": "Search Logs"
      }
     },
     "caac9fd2ff4844aeb9e484fe9010963a": {
      "model_module": "@jupyter-widgets/controls",
      "model_module_version": "1.5.0",
      "model_name": "ButtonModel",
      "state": {
       "button_style": "info",
       "description": "View Peers",
       "icon": "eye",
       "layout": "IPY_MODEL_a4e139dc622644609ada24a825a1679c",
       "style": "IPY_MODEL_8e74053926df451daf5635cca1a27398",
       "tooltip": "View Peers"
      }
     },
     "cbbd84abccba4a07863450390315d4de": {
      "model_module": "@jupyter-widgets/base",
      "model_module_version": "1.2.0",
      "model_name": "LayoutModel",
      "state": {
       "height": "50px",
       "width": "40%"
      }
     },
     "cbcfa7c16cf14d86abe7daad56395f8f": {
      "model_module": "@jupyter-widgets/output",
      "model_module_version": "1.0.0",
      "model_name": "OutputModel",
      "state": {
       "layout": "IPY_MODEL_92622616bcaa4007a6b2cef40b895ac2"
      }
     },
     "cc5fd6e105a24d23a80b929dc650e238": {
      "model_module": "@jupyter-widgets/base",
      "model_module_version": "1.2.0",
      "model_name": "LayoutModel",
      "state": {
       "align_items": "stretch",
       "border": "1px solid black",
       "display": "flex",
       "flex_flow": "column"
      }
     },
     "cdb7e29bc76842588117bea5846325c1": {
      "model_module": "@jupyter-widgets/controls",
      "model_module_version": "1.5.0",
      "model_name": "CheckboxModel",
      "state": {
       "description": "DEBUG",
       "disabled": false,
       "indent": false,
       "layout": "IPY_MODEL_bcc906b7c979484982fa7d06bd287663",
       "style": "IPY_MODEL_1177da81f5834ba79e447e57ed499c4e",
       "value": false
      }
     },
     "ce28d08a5d7c4ad89bbe512f53bc128a": {
      "model_module": "@jupyter-widgets/controls",
      "model_module_version": "1.5.0",
      "model_name": "ButtonModel",
      "state": {
       "button_style": "success",
       "description": "Search Logs",
       "icon": "search",
       "layout": "IPY_MODEL_1c7c79acb9f04eb48a7c27a4c2696c11",
       "style": "IPY_MODEL_17abb693a1c24e6f9f8ace339396284f",
       "tooltip": "Search Logs"
      }
     },
     "ce44c44790914ccb929c4e15c1947548": {
      "model_module": "@jupyter-widgets/controls",
      "model_module_version": "1.5.0",
      "model_name": "DescriptionStyleModel",
      "state": {
       "description_width": ""
      }
     },
     "ce84035a7562499084f90bf1805fb74e": {
      "model_module": "@jupyter-widgets/controls",
      "model_module_version": "1.5.0",
      "model_name": "CheckboxModel",
      "state": {
       "description": "TRACE",
       "disabled": false,
       "indent": false,
       "layout": "IPY_MODEL_c7f5079bd01d4309a92b70eee8e5a6b0",
       "style": "IPY_MODEL_7a6667f0878f440cbc39c7fa4eea830a",
       "value": false
      }
     },
     "cec5a18b98674f8fae412d2c37e752bd": {
      "model_module": "@jupyter-widgets/base",
      "model_module_version": "1.2.0",
      "model_name": "LayoutModel",
      "state": {}
     },
     "cec5d0ed752543d381fa007e97dc118c": {
      "model_module": "@jupyter-widgets/base",
      "model_module_version": "1.2.0",
      "model_name": "LayoutModel",
      "state": {
       "align_items": "stretch",
       "border": "1px solid black",
       "display": "flex",
       "flex_flow": "column"
      }
     },
     "cf140be739d44adba910a76bd70eb1f1": {
      "model_module": "@jupyter-widgets/controls",
      "model_module_version": "1.5.0",
      "model_name": "HBoxModel",
      "state": {
       "children": [
        "IPY_MODEL_12af639dbd894fc98bbde28330c68cd6",
        "IPY_MODEL_c9b6d10bfd0c42319a6d483f7e35d410",
        "IPY_MODEL_6a45fae5bf39480f91552a88dd573f36",
        "IPY_MODEL_75d3405605d3464c88e11baa60fec009"
       ],
       "layout": "IPY_MODEL_770a3342ba67461388948fb4ad0adb0c"
      }
     },
     "cf6d2b586a314d31bf3a2c288c9479a7": {
      "model_module": "@jupyter-widgets/controls",
      "model_module_version": "1.5.0",
      "model_name": "HBoxModel",
      "state": {
       "children": [
        "IPY_MODEL_37d8a90ed5004fde8f3751e94b291d78",
        "IPY_MODEL_1bb8739fbd3d4156864c618cc0da1981"
       ],
       "layout": "IPY_MODEL_1a1b70de61664008b7f62302342336e7"
      }
     },
     "cf7047da0d24449dbf948d563bbebaac": {
      "model_module": "@jupyter-widgets/controls",
      "model_module_version": "1.5.0",
      "model_name": "DescriptionStyleModel",
      "state": {
       "description_width": ""
      }
     },
     "d05b616a309246989046baf17ed196a9": {
      "model_module": "@jupyter-widgets/controls",
      "model_module_version": "1.5.0",
      "model_name": "HBoxModel",
      "state": {
       "children": [
        "IPY_MODEL_03a0413046a446478dbaf8add743e1e8",
        "IPY_MODEL_f75375beb3324032b0754cf5af24e7d3",
        "IPY_MODEL_33ea4b1c8b9a4c36adc914b526c74fc0",
        "IPY_MODEL_8755d1cc64e04a68bc34d5d79434da02"
       ],
       "layout": "IPY_MODEL_b14cf289b9f14fa89a0e90e354713ecb"
      }
     },
     "d077deafcab1422f9f0ed7bc7721c546": {
      "model_module": "@jupyter-widgets/base",
      "model_module_version": "1.2.0",
      "model_name": "LayoutModel",
      "state": {}
     },
     "d0be1864d1c04c2aad12428290a48236": {
      "model_module": "@jupyter-widgets/output",
      "model_module_version": "1.0.0",
      "model_name": "OutputModel",
      "state": {
       "layout": "IPY_MODEL_09f57c00990c40ec8bcaaac060a266f9"
      }
     },
     "d0cabd106c8a48d69cd4ae63a320311b": {
      "model_module": "@jupyter-widgets/base",
      "model_module_version": "1.2.0",
      "model_name": "LayoutModel",
      "state": {
       "height": "80px",
       "width": "33%"
      }
     },
     "d125b6eef31d4effa0b8cb571b702261": {
      "model_module": "@jupyter-widgets/base",
      "model_module_version": "1.2.0",
      "model_name": "LayoutModel",
      "state": {}
     },
     "d1db648db3f84abd9065513de166c33d": {
      "model_module": "@jupyter-widgets/controls",
      "model_module_version": "1.5.0",
      "model_name": "ButtonStyleModel",
      "state": {}
     },
     "d2488bc8f1a1439fbbde75dedd201690": {
      "model_module": "@jupyter-widgets/controls",
      "model_module_version": "1.5.0",
      "model_name": "VBoxModel",
      "state": {
       "children": [
        "IPY_MODEL_2b6125a8ffa445eea6b94b929eb7aa90",
        "IPY_MODEL_bb93de4ce03f43b4b870a6ca7cdc3735"
       ],
       "layout": "IPY_MODEL_8642b8faeca3448fbb90654c57cbb8d3"
      }
     },
     "d279877f453e4e18a50562d16497560a": {
      "model_module": "@jupyter-widgets/controls",
      "model_module_version": "1.5.0",
      "model_name": "ButtonModel",
      "state": {
       "button_style": "success",
       "description": "Search Logs",
       "icon": "search",
       "layout": "IPY_MODEL_8e0edf9805584e618bfca5bc03d0f136",
       "style": "IPY_MODEL_71ab63c66f114dc5b5216f8d72d104fd",
       "tooltip": "Search"
      }
     },
     "d27f2d0c7ad74911879cc63ebe8c2d21": {
      "model_module": "@jupyter-widgets/output",
      "model_module_version": "1.0.0",
      "model_name": "OutputModel",
      "state": {
       "layout": "IPY_MODEL_cec5d0ed752543d381fa007e97dc118c",
       "outputs": [
        {
         "data": {
          "image/png": "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\n",
          "text/plain": "<IPython.core.display.Image object>"
         },
         "metadata": {
          "image/png": {
           "unconfined": true,
           "width": 400
          }
         },
         "output_type": "display_data"
        },
        {
         "name": "stdout",
         "output_type": "stream",
         "text": "🎤  🎸  ♪♪♪ Starting Duet ♫♫♫  🎻  🎹\n\n♫♫♫ >\u001b[93m DISCLAIMER\u001b[0m: \u001b[1mDuet is an experimental feature currently in beta.\n♫♫♫ > Use at your own risk.\n\u001b[0m\n\u001b[1m\n    > ❤️ \u001b[91mLove\u001b[0m \u001b[92mDuet\u001b[0m? \u001b[93mPlease\u001b[0m \u001b[94mconsider\u001b[0m \u001b[95msupporting\u001b[0m \u001b[91mour\u001b[0m \u001b[93mcommunity!\u001b[0m\n    > https://github.com/sponsors/OpenMined\u001b[1m\n\n♫♫♫ > Punching through firewall to OpenGrid Network Node at:\n♫♫♫ > http://ec2-18-216-8-163.us-east-2.compute.amazonaws.com:5000\n♫♫♫ >\n♫♫♫ > ...waiting for response from OpenGrid Network... \n"
        },
        {
         "name": "stderr",
         "output_type": "stream",
         "text": "[2021-03-28T23:08:03.758140+0530][CRITICAL][logger]][63950] Skipping torchvision.torchvision.transforms.functional.adjust_sharpness not supported in 0.8.2\n[2021-03-28T23:08:03.758909+0530][CRITICAL][logger]][63950] Skipping torchvision.torchvision.transforms.functional.autocontrast not supported in 0.8.2\n[2021-03-28T23:08:03.760129+0530][CRITICAL][logger]][63950] Skipping torchvision.torchvision.transforms.functional.equalize not supported in 0.8.2\n[2021-03-28T23:08:03.760816+0530][CRITICAL][logger]][63950] Skipping torchvision.torchvision.transforms.functional.invert not supported in 0.8.2\n[2021-03-28T23:08:03.761515+0530][CRITICAL][logger]][63950] Skipping torchvision.torchvision.transforms.functional.posterize not supported in 0.8.2\n[2021-03-28T23:08:03.762662+0530][CRITICAL][logger]][63950] Skipping torchvision.torchvision.transforms.functional.solarize not supported in 0.8.2\n"
        },
        {
         "name": "stdout",
         "output_type": "stream",
         "text": "♫♫♫ > \u001b[92mDONE!\u001b[0m\n\n♫♫♫ > \u001b[95mSTEP 1:\u001b[0m Send the following code to your Duet Partner!\n\nimport syft as sy\nduet = sy.join_duet(loopback=True)\n\n♫♫♫ > Connecting...\n"
        },
        {
         "name": "stderr",
         "output_type": "stream",
         "text": "[2021-03-28T23:08:12.988395+0530][CRITICAL][logger]][63950] Skipping torchvision.torchvision.transforms.functional.adjust_sharpness not supported in 0.8.2\n[2021-03-28T23:08:12.988791+0530][CRITICAL][logger]][63950] Skipping torchvision.torchvision.transforms.functional.autocontrast not supported in 0.8.2\n[2021-03-28T23:08:12.989157+0530][CRITICAL][logger]][63950] Skipping torchvision.torchvision.transforms.functional.equalize not supported in 0.8.2\n[2021-03-28T23:08:12.989566+0530][CRITICAL][logger]][63950] Skipping torchvision.torchvision.transforms.functional.invert not supported in 0.8.2\n[2021-03-28T23:08:12.989933+0530][CRITICAL][logger]][63950] Skipping torchvision.torchvision.transforms.functional.posterize not supported in 0.8.2\n[2021-03-28T23:08:12.990352+0530][CRITICAL][logger]][63950] Skipping torchvision.torchvision.transforms.functional.solarize not supported in 0.8.2\n[2021-03-28T23:08:13.233746+0530][CRITICAL][logger]][63950] Skipping torchvision.torchvision.transforms.functional.adjust_sharpness not supported in 0.8.2\n[2021-03-28T23:08:13.234512+0530][CRITICAL][logger]][63950] Skipping torchvision.torchvision.transforms.functional.autocontrast not supported in 0.8.2\n"
        },
        {
         "name": "stdout",
         "output_type": "stream",
         "text": "\n♫♫♫ > \u001b[92mCONNECTED!\u001b[0m\n"
        },
        {
         "name": "stderr",
         "output_type": "stream",
         "text": "[2021-03-28T23:08:13.234967+0530][CRITICAL][logger]][63950] Skipping torchvision.torchvision.transforms.functional.equalize not supported in 0.8.2\n[2021-03-28T23:08:13.235755+0530][CRITICAL][logger]][63950] Skipping torchvision.torchvision.transforms.functional.invert not supported in 0.8.2\n"
        },
        {
         "name": "stdout",
         "output_type": "stream",
         "text": "\n"
        },
        {
         "name": "stderr",
         "output_type": "stream",
         "text": "[2021-03-28T23:08:13.236182+0530][CRITICAL][logger]][63950] Skipping torchvision.torchvision.transforms.functional.posterize not supported in 0.8.2\n"
        }
       ]
      }
     },
     "d29cb53a853e44fabe54956727c79727": {
      "model_module": "@jupyter-widgets/base",
      "model_module_version": "1.2.0",
      "model_name": "LayoutModel",
      "state": {
       "align_items": "stretch",
       "border": "1px solid black",
       "display": "flex",
       "flex_flow": "column"
      }
     },
     "d2d45c52d285466f95b364e1a8ae71ea": {
      "model_module": "@jupyter-widgets/controls",
      "model_module_version": "1.5.0",
      "model_name": "CheckboxModel",
      "state": {
       "description": "NULL",
       "disabled": false,
       "indent": false,
       "layout": "IPY_MODEL_b49ac963c5c7457c8a8bd36be5054e25",
       "style": "IPY_MODEL_d37dfbe5ce564f58a87e735b2530241a",
       "value": false
      }
     },
     "d2dc132e3ba8403fbe27e6d6dae6edfd": {
      "model_module": "@jupyter-widgets/controls",
      "model_module_version": "1.5.0",
      "model_name": "ButtonStyleModel",
      "state": {}
     },
     "d2ef65dd0f0f4c94ab8d2c9c702e1737": {
      "model_module": "@jupyter-widgets/base",
      "model_module_version": "1.2.0",
      "model_name": "LayoutModel",
      "state": {}
     },
     "d37dfbe5ce564f58a87e735b2530241a": {
      "model_module": "@jupyter-widgets/controls",
      "model_module_version": "1.5.0",
      "model_name": "DescriptionStyleModel",
      "state": {
       "description_width": ""
      }
     },
     "d423677c2e8d4e85b93299ab289b1582": {
      "model_module": "@jupyter-widgets/base",
      "model_module_version": "1.2.0",
      "model_name": "LayoutModel",
      "state": {
       "align_items": "stretch",
       "border": "1px solid black",
       "display": "flex",
       "flex_flow": "column"
      }
     },
     "d5deba34957a4316a13dce57ca164c6b": {
      "model_module": "@jupyter-widgets/controls",
      "model_module_version": "1.5.0",
      "model_name": "ButtonStyleModel",
      "state": {}
     },
     "d60528becf554c2f990c1ee268e69a35": {
      "model_module": "@jupyter-widgets/output",
      "model_module_version": "1.0.0",
      "model_name": "OutputModel",
      "state": {
       "layout": "IPY_MODEL_abb6d0c174f34f0cbf3e08697736c3e4",
       "outputs": [
        {
         "name": "stdout",
         "output_type": "stream",
         "text": "🎤  🎸  ♪♪♪ Starting Duet ♫♫♫  🎻  🎹\n\n♫♫♫ >\u001b[93m DISCLAIMER\u001b[0m: \u001b[1mDuet is an experimental feature currently in beta.\n♫♫♫ > Use at your own risk.\n\u001b[0m\n\u001b[1m\n    > ❤️ \u001b[91mLove\u001b[0m \u001b[92mDuet\u001b[0m? \u001b[93mPlease\u001b[0m \u001b[94mconsider\u001b[0m \u001b[95msupporting\u001b[0m \u001b[91mour\u001b[0m \u001b[93mcommunity!\u001b[0m\n    > https://github.com/sponsors/OpenMined\u001b[1m\n\n♫♫♫ > Punching through firewall to OpenGrid Network Node at:\n♫♫♫ > http://ec2-18-216-8-163.us-east-2.compute.amazonaws.com:5000\n♫♫♫ >\n♫♫♫ > ...waiting for response from OpenGrid Network... \n♫♫♫ > \u001b[92mDONE!\u001b[0m\n♫♫♫ > Connecting...\n\n"
        },
        {
         "name": "stderr",
         "output_type": "stream",
         "text": "[2021-04-02T19:25:07.072340+0530][CRITICAL][logger]][30194] Skipping torchvision.torchvision.transforms.functional.posterize not supported in 0.8.2\n[2021-04-02T19:25:07.073020+0530][CRITICAL][logger]][30194] Skipping torchvision.torchvision.transforms.functional.solarize not supported in 0.8.2\n"
        },
        {
         "name": "stdout",
         "output_type": "stream",
         "text": "♫♫♫ > \u001b[92mCONNECTED!\u001b[0m\n\n"
        }
       ]
      }
     },
     "d69e10fc301240e09d634bbd45310a42": {
      "model_module": "@jupyter-widgets/base",
      "model_module_version": "1.2.0",
      "model_name": "LayoutModel",
      "state": {
       "height": "80px",
       "width": "33%"
      }
     },
     "d725df0dcd2b4a8096a8c91ee9c01987": {
      "model_module": "@jupyter-widgets/controls",
      "model_module_version": "1.5.0",
      "model_name": "HBoxModel",
      "state": {
       "children": [
        "IPY_MODEL_e620a50b4b2c4c08a8677baea31ed37b",
        "IPY_MODEL_ab4feee227404c769616e0296619c1bb"
       ],
       "layout": "IPY_MODEL_03e92c49f2a64615a529ab21304119b0"
      }
     },
     "d74db6b264af4fc7a6acdc11dc581207": {
      "model_module": "@jupyter-widgets/controls",
      "model_module_version": "1.5.0",
      "model_name": "DescriptionStyleModel",
      "state": {
       "description_width": ""
      }
     },
     "d7fcba756e284fbb920ddfdfa4ca72c5": {
      "model_module": "@jupyter-widgets/controls",
      "model_module_version": "1.5.0",
      "model_name": "CheckboxModel",
      "state": {
       "description": "INFO",
       "disabled": false,
       "indent": false,
       "layout": "IPY_MODEL_24993dda77e246b1a5a5dec13c33f076",
       "style": "IPY_MODEL_36cda5f221f3409ebe8211cb0849ae50",
       "value": false
      }
     },
     "d881ca93bf61471d82a0adfbaae384c9": {
      "model_module": "@jupyter-widgets/output",
      "model_module_version": "1.0.0",
      "model_name": "OutputModel",
      "state": {
       "layout": "IPY_MODEL_d423677c2e8d4e85b93299ab289b1582"
      }
     },
     "d885c44df7af4281abfe678fb523e0c4": {
      "model_module": "@jupyter-widgets/controls",
      "model_module_version": "1.5.0",
      "model_name": "ButtonModel",
      "state": {
       "button_style": "success",
       "description": "Launch Duet",
       "icon": "plug",
       "layout": "IPY_MODEL_9453a678fc404e5c978667a3d069b12a",
       "style": "IPY_MODEL_e886ee5d6f304cfa9d55ebc8f0ed39f0",
       "tooltip": "Launch Duet"
      }
     },
     "d8b06fe0b43e4fa7b842ff7541ed41ce": {
      "model_module": "@jupyter-widgets/controls",
      "model_module_version": "1.5.0",
      "model_name": "CheckboxModel",
      "state": {
       "description": "EXCEPTION",
       "disabled": false,
       "indent": false,
       "layout": "IPY_MODEL_6dac9c155be74e15bb54ec4ff3890ec9",
       "style": "IPY_MODEL_52fb94bac9c74b02880f86bdd25b87fa",
       "value": false
      }
     },
     "d9eae20f909b466f835233d5738c3859": {
      "model_module": "@jupyter-widgets/controls",
      "model_module_version": "1.5.0",
      "model_name": "DescriptionStyleModel",
      "state": {
       "description_width": ""
      }
     },
     "da75841ae69c404aad3e2884a6d1dd79": {
      "model_module": "@jupyter-widgets/controls",
      "model_module_version": "1.5.0",
      "model_name": "CheckboxModel",
      "state": {
       "description": "DEBUG",
       "disabled": false,
       "indent": false,
       "layout": "IPY_MODEL_69d22c6df0124596b2277d3e6c3be9de",
       "style": "IPY_MODEL_3a4988981ea34240bea6a72f55665afb",
       "value": true
      }
     },
     "db15144184d2400bbdb7d66d721b418f": {
      "model_module": "@jupyter-widgets/controls",
      "model_module_version": "1.5.0",
      "model_name": "DescriptionStyleModel",
      "state": {
       "description_width": ""
      }
     },
     "db3bb49a9d3a4eb09b6258360c8a28bc": {
      "model_module": "@jupyter-widgets/base",
      "model_module_version": "1.2.0",
      "model_name": "LayoutModel",
      "state": {
       "align_items": "stretch",
       "border": "1px solid black",
       "display": "flex",
       "flex_flow": "column"
      }
     },
     "db5642a7c5ec4d6891dd211a6c064e47": {
      "model_module": "@jupyter-widgets/base",
      "model_module_version": "1.2.0",
      "model_name": "LayoutModel",
      "state": {}
     },
     "db79256999a2412b8a281520e760cf9f": {
      "model_module": "@jupyter-widgets/output",
      "model_module_version": "1.0.0",
      "model_name": "OutputModel",
      "state": {
       "layout": "IPY_MODEL_b26b8ae8bf23445da84b67537dcc6571",
       "outputs": [
        {
         "data": {
          "image/png": "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\n",
          "text/plain": "<IPython.core.display.Image object>"
         },
         "metadata": {
          "image/png": {
           "unconfined": true,
           "width": 400
          }
         },
         "output_type": "display_data"
        },
        {
         "name": "stdout",
         "output_type": "stream",
         "text": "🎤  🎸  ♪♪♪ Starting Duet ♫♫♫  🎻  🎹\n\n♫♫♫ >\u001b[93m DISCLAIMER\u001b[0m: \u001b[1mDuet is an experimental feature currently in beta.\n♫♫♫ > Use at your own risk.\n\u001b[0m\n\u001b[1m\n    > ❤️ \u001b[91mLove\u001b[0m \u001b[92mDuet\u001b[0m? \u001b[93mPlease\u001b[0m \u001b[94mconsider\u001b[0m \u001b[95msupporting\u001b[0m \u001b[91mour\u001b[0m \u001b[93mcommunity!\u001b[0m\n    > https://github.com/sponsors/OpenMined\u001b[1m\n\n♫♫♫ > Punching through firewall to OpenGrid Network Node at:\n♫♫♫ > http://ec2-18-216-8-163.us-east-2.compute.amazonaws.com:5000\n♫♫♫ >\n♫♫♫ > ...waiting for response from OpenGrid Network... \n"
        },
        {
         "name": "stderr",
         "output_type": "stream",
         "text": "[2021-03-29T00:13:15.922190+0530][CRITICAL][logger]][63950] Skipping torchvision.torchvision.transforms.functional.adjust_sharpness not supported in 0.8.2\n[2021-03-29T00:13:15.923752+0530][CRITICAL][logger]][63950] Skipping torchvision.torchvision.transforms.functional.autocontrast not supported in 0.8.2\n[2021-03-29T00:13:15.924615+0530][CRITICAL][logger]][63950] Skipping torchvision.torchvision.transforms.functional.equalize not supported in 0.8.2\n[2021-03-29T00:13:15.925157+0530][CRITICAL][logger]][63950] Skipping torchvision.torchvision.transforms.functional.invert not supported in 0.8.2\n[2021-03-29T00:13:15.925643+0530][CRITICAL][logger]][63950] Skipping torchvision.torchvision.transforms.functional.posterize not supported in 0.8.2\n[2021-03-29T00:13:15.926156+0530][CRITICAL][logger]][63950] Skipping torchvision.torchvision.transforms.functional.solarize not supported in 0.8.2\n"
        },
        {
         "name": "stdout",
         "output_type": "stream",
         "text": "♫♫♫ > \u001b[92mDONE!\u001b[0m\n\n♫♫♫ > \u001b[95mSTEP 1:\u001b[0m Send the following code to your Duet Partner!\n\nimport syft as sy\nduet = sy.join_duet(loopback=True)\n\n"
        },
        {
         "name": "stderr",
         "output_type": "stream",
         "text": "[2021-03-29T00:13:25.582593+0530][CRITICAL][logger]][63950] Skipping torchvision.torchvision.transforms.functional.adjust_sharpness not supported in 0.8.2\n[2021-03-29T00:13:25.583777+0530][CRITICAL][logger]][63950] Skipping torchvision.torchvision.transforms.functional.autocontrast not supported in 0.8.2\n[2021-03-29T00:13:25.584252+0530][CRITICAL][logger]][63950] Skipping torchvision.torchvision.transforms.functional.equalize not supported in 0.8.2\n[2021-03-29T00:13:25.585172+0530][CRITICAL][logger]][63950] Skipping torchvision.torchvision.transforms.functional.invert not supported in 0.8.2\n"
        },
        {
         "name": "stdout",
         "output_type": "stream",
         "text": "\n♫♫♫ > \u001b[92mCONNECTED!\u001b[0m\n"
        },
        {
         "name": "stderr",
         "output_type": "stream",
         "text": "[2021-03-29T00:13:25.585809+0530][CRITICAL][logger]][63950] Skipping torchvision.torchvision.transforms.functional.posterize not supported in 0.8.2\n[2021-03-29T00:13:25.586701+0530][CRITICAL][logger]][63950] Skipping torchvision.torchvision.transforms.functional.solarize not supported in 0.8.2\n[2021-03-29T00:13:25.945996+0530][CRITICAL][logger]][63950] Skipping torchvision.torchvision.transforms.functional.adjust_sharpness not supported in 0.8.2\n[2021-03-29T00:13:25.946951+0530][CRITICAL][logger]][63950] Skipping torchvision.torchvision.transforms.functional.autocontrast not supported in 0.8.2\n[2021-03-29T00:13:25.947961+0530][CRITICAL][logger]][63950] Skipping torchvision.torchvision.transforms.functional.equalize not supported in 0.8.2\n[2021-03-29T00:13:25.949016+0530][CRITICAL][logger]][63950] Skipping torchvision.torchvision.transforms.functional.invert not supported in 0.8.2\n[2021-03-29T00:13:25.950479+0530][CRITICAL][logger]][63950] Skipping torchvision.torchvision.transforms.functional.posterize not supported in 0.8.2\n[2021-03-29T00:13:25.951527+0530][CRITICAL][logger]][63950] Skipping torchvision.torchvision.transforms.functional.solarize not supported in 0.8.2\n"
        },
        {
         "name": "stdout",
         "output_type": "stream",
         "text": "\n"
        }
       ]
      }
     },
     "dbe7bbf39f254fa18c7ae8e6d2ce1721": {
      "model_module": "@jupyter-widgets/output",
      "model_module_version": "1.0.0",
      "model_name": "OutputModel",
      "state": {
       "layout": "IPY_MODEL_0e5a87459f1c486a81091983a17f1d01"
      }
     },
     "dc01346b2054475e8c76b0fe45153333": {
      "model_module": "@jupyter-widgets/base",
      "model_module_version": "1.2.0",
      "model_name": "LayoutModel",
      "state": {
       "align_items": "stretch",
       "border": "1px solid black",
       "display": "flex",
       "flex_flow": "column"
      }
     },
     "dc1440c61d3f4a31840adce7d6caa76e": {
      "model_module": "@jupyter-widgets/base",
      "model_module_version": "1.2.0",
      "model_name": "LayoutModel",
      "state": {
       "height": "50px",
       "width": "20%"
      }
     },
     "dc259cefb88042898d546aa698b37126": {
      "model_module": "@jupyter-widgets/base",
      "model_module_version": "1.2.0",
      "model_name": "LayoutModel",
      "state": {
       "height": "80px",
       "width": "33%"
      }
     },
     "dc4f8933ddeb43579f188ea89431d53a": {
      "model_module": "@jupyter-widgets/base",
      "model_module_version": "1.2.0",
      "model_name": "LayoutModel",
      "state": {}
     },
     "dd702e8cae304601bcbdc9b459b3c64e": {
      "model_module": "@jupyter-widgets/output",
      "model_module_version": "1.0.0",
      "model_name": "OutputModel",
      "state": {
       "layout": "IPY_MODEL_f219f54dfe5746d2b6528248d0e9deb0"
      }
     },
     "dddbd9f254d04244bd358e8848429370": {
      "model_module": "@jupyter-widgets/controls",
      "model_module_version": "1.5.0",
      "model_name": "ButtonModel",
      "state": {
       "button_style": "success",
       "description": "Search Logs",
       "icon": "search",
       "layout": "IPY_MODEL_e49f28ababbb41558cedbd3c1d346422",
       "style": "IPY_MODEL_e36ada01b4dc4432a8d93fe95c3cab5f",
       "tooltip": "Search Logs"
      }
     },
     "dea017847bee47998907024c94679b42": {
      "model_module": "@jupyter-widgets/controls",
      "model_module_version": "1.5.0",
      "model_name": "HBoxModel",
      "state": {
       "children": [
        "IPY_MODEL_55184aa4840a4110aa11e64939eb5c67",
        "IPY_MODEL_77df52ee4f43461087d39034438cb069"
       ],
       "layout": "IPY_MODEL_948cae2f8dbc4a298a65114e07726c5a"
      }
     },
     "e0e217b914674e528e8a2e9e14f995ce": {
      "model_module": "@jupyter-widgets/base",
      "model_module_version": "1.2.0",
      "model_name": "LayoutModel",
      "state": {}
     },
     "e15d5543ff8c4ec5ad9cf7df9a9b0378": {
      "model_module": "@jupyter-widgets/controls",
      "model_module_version": "1.5.0",
      "model_name": "CheckboxModel",
      "state": {
       "description": "EXCEPTION",
       "disabled": false,
       "indent": false,
       "layout": "IPY_MODEL_4d331c7b8ff8433f8aaa939e4e97d036",
       "style": "IPY_MODEL_70eddd6d10804a95b73b643c694ec681",
       "value": false
      }
     },
     "e1f21656d0a74f8cb43c74e5f762d063": {
      "model_module": "@jupyter-widgets/base",
      "model_module_version": "1.2.0",
      "model_name": "LayoutModel",
      "state": {}
     },
     "e20765fd4f64457ea8411ff3852b7677": {
      "model_module": "@jupyter-widgets/base",
      "model_module_version": "1.2.0",
      "model_name": "LayoutModel",
      "state": {
       "height": "80px",
       "width": "33%"
      }
     },
     "e2a9f297b19c48fbbde1fa572248dab1": {
      "model_module": "@jupyter-widgets/base",
      "model_module_version": "1.2.0",
      "model_name": "LayoutModel",
      "state": {}
     },
     "e32c686fdfd34b9d8a93aabd6522a5a2": {
      "model_module": "@jupyter-widgets/base",
      "model_module_version": "1.2.0",
      "model_name": "LayoutModel",
      "state": {
       "align_items": "stretch",
       "border": "1px solid black",
       "display": "flex",
       "flex_flow": "column"
      }
     },
     "e36ada01b4dc4432a8d93fe95c3cab5f": {
      "model_module": "@jupyter-widgets/controls",
      "model_module_version": "1.5.0",
      "model_name": "ButtonStyleModel",
      "state": {}
     },
     "e3b06bdca69b4ebfacf9829789c3a716": {
      "model_module": "@jupyter-widgets/controls",
      "model_module_version": "1.5.0",
      "model_name": "DescriptionStyleModel",
      "state": {
       "description_width": ""
      }
     },
     "e3ccfa44546748d38719b954a9cd075b": {
      "model_module": "@jupyter-widgets/controls",
      "model_module_version": "1.5.0",
      "model_name": "ButtonStyleModel",
      "state": {}
     },
     "e49f28ababbb41558cedbd3c1d346422": {
      "model_module": "@jupyter-widgets/base",
      "model_module_version": "1.2.0",
      "model_name": "LayoutModel",
      "state": {
       "height": "50px",
       "width": "20%"
      }
     },
     "e5c18002ea0b4f6dbe03e7dd6755e13f": {
      "model_module": "@jupyter-widgets/controls",
      "model_module_version": "1.5.0",
      "model_name": "ButtonModel",
      "state": {
       "button_style": "info",
       "description": "Filter Logs",
       "icon": "filter",
       "layout": "IPY_MODEL_f72779c420d14c6fb8d418f27b7f9e34",
       "style": "IPY_MODEL_47094bc7d70d4a85a796f6c680de9eca",
       "tooltip": "Filter Logs"
      }
     },
     "e5e77a7259924ff389d2f3dcd246d236": {
      "model_module": "@jupyter-widgets/base",
      "model_module_version": "1.2.0",
      "model_name": "LayoutModel",
      "state": {}
     },
     "e5f13e90bd2748919eff670a5e0d7348": {
      "model_module": "@jupyter-widgets/base",
      "model_module_version": "1.2.0",
      "model_name": "LayoutModel",
      "state": {}
     },
     "e61f8be52b44477cb407389fd6690ccc": {
      "model_module": "@jupyter-widgets/controls",
      "model_module_version": "1.5.0",
      "model_name": "CheckboxModel",
      "state": {
       "description": "CRITICAL",
       "disabled": false,
       "indent": false,
       "layout": "IPY_MODEL_ffdfe2fb56204d6a8aa4bdc95c734278",
       "style": "IPY_MODEL_2a2a84ea88b143c798532f47994a557a",
       "value": false
      }
     },
     "e620a50b4b2c4c08a8677baea31ed37b": {
      "model_module": "@jupyter-widgets/controls",
      "model_module_version": "1.5.0",
      "model_name": "ButtonModel",
      "state": {
       "button_style": "info",
       "description": "Filter Logs",
       "icon": "filter",
       "layout": "IPY_MODEL_53b01f2b3dfa4e4d88633b3ef1859eb6",
       "style": "IPY_MODEL_21b2d0546d2047dbbcb6479f4e965a4b",
       "tooltip": "Filter Logs"
      }
     },
     "e73d5d678f4a4d09b755439853d9f7fa": {
      "model_module": "@jupyter-widgets/controls",
      "model_module_version": "1.5.0",
      "model_name": "CheckboxModel",
      "state": {
       "description": "WARNING",
       "disabled": false,
       "indent": false,
       "layout": "IPY_MODEL_68f8f377a3664fc298021a7948c89f02",
       "style": "IPY_MODEL_7055e64ab95349c4bae9d2c0a64965cd",
       "value": false
      }
     },
     "e7ac2a0e9b08475eb29b266b6514455d": {
      "model_module": "@jupyter-widgets/controls",
      "model_module_version": "1.5.0",
      "model_name": "HBoxModel",
      "state": {
       "children": [
        "IPY_MODEL_632271c990564874b5c679a8879bea46",
        "IPY_MODEL_08c7d82a444e4b70afaaadce8d567011",
        "IPY_MODEL_fe18e1cf7a9646afb54a3fdb89bd0c54"
       ],
       "layout": "IPY_MODEL_90a0e5dc8f3f4125a6ead17907e921bb"
      }
     },
     "e82ee10b595f443cb1c470078f50d4f7": {
      "model_module": "@jupyter-widgets/base",
      "model_module_version": "1.2.0",
      "model_name": "LayoutModel",
      "state": {
       "height": "80px",
       "width": "33%"
      }
     },
     "e886ee5d6f304cfa9d55ebc8f0ed39f0": {
      "model_module": "@jupyter-widgets/controls",
      "model_module_version": "1.5.0",
      "model_name": "ButtonStyleModel",
      "state": {}
     },
     "e9761272816b4bacabe266581c37110c": {
      "model_module": "@jupyter-widgets/output",
      "model_module_version": "1.0.0",
      "model_name": "OutputModel",
      "state": {
       "layout": "IPY_MODEL_4f5125f1e6904646b9911d8d5380fc9e",
       "outputs": [
        {
         "name": "stdout",
         "output_type": "stream",
         "text": "\r♫♫♫ > DUET LIVE STATUS  *  Objects: 0  Requests: 0   Messages: 0  Request Handlers: 0                                \r"
        },
        {
         "data": {
          "text/html": "<div>\n<style scoped>\n    .dataframe tbody tr th:only-of-type {\n        vertical-align: middle;\n    }\n\n    .dataframe tbody tr th {\n        vertical-align: top;\n    }\n\n    .dataframe thead th {\n        text-align: right;\n    }\n</style>\n<table border=\"1\" class=\"dataframe\">\n  <thead>\n    <tr style=\"text-align: right;\">\n      <th></th>\n      <th>Date and Time</th>\n      <th>LOG TYPE</th>\n      <th>MESSAGE</th>\n    </tr>\n  </thead>\n  <tbody>\n    <tr>\n      <th>0</th>\n      <td>2021-04-02 16:02:25.275</td>\n      <td>INFO</td>\n      <td>syft.widget_logger:log_and_print:84 - 🎤  🎸  ♪...</td>\n    </tr>\n    <tr>\n      <th>1</th>\n      <td>2021-04-02 16:02:25.284</td>\n      <td>INFO</td>\n      <td>syft.widget_logger:log_and_print:84 - ♫♫♫ &gt;\u001b[...</td>\n    </tr>\n    <tr>\n      <th>2</th>\n      <td>2021-04-02 16:02:25.294</td>\n      <td>INFO</td>\n      <td>syft.widget_logger:log_and_print:84 - \u001b[1m\\n ...</td>\n    </tr>\n    <tr>\n      <th>3</th>\n      <td>2021-04-02 16:02:26.389</td>\n      <td>INFO</td>\n      <td>syft.widget_logger:log_and_print:84 - ♫♫♫ &gt; P...</td>\n    </tr>\n    <tr>\n      <th>4</th>\n      <td>2021-04-02 16:02:26.393</td>\n      <td>INFO</td>\n      <td>syft.widget_logger:log_and_print:84 - ♫♫♫ &gt; h...</td>\n    </tr>\n    <tr>\n      <th>...</th>\n      <td>...</td>\n      <td>...</td>\n      <td>...</td>\n    </tr>\n    <tr>\n      <th>258</th>\n      <td>2021-04-02 16:02:39.375</td>\n      <td>INFO</td>\n      <td>syft.logger:log_and_print:76 - Skipping torch...</td>\n    </tr>\n    <tr>\n      <th>259</th>\n      <td>2021-04-02 16:02:39.375</td>\n      <td>INFO</td>\n      <td>syft.logger:log_and_print:76 - Skipping torch...</td>\n    </tr>\n    <tr>\n      <th>260</th>\n      <td>2021-04-02 16:02:39.376</td>\n      <td>INFO</td>\n      <td>syft.logger:log_and_print:76 - Skipping torch...</td>\n    </tr>\n    <tr>\n      <th>261</th>\n      <td>2021-04-02 16:02:39.572</td>\n      <td>DEBUG</td>\n      <td>syft.logger:log_and_print:76 - &gt; Creating 📡 [...</td>\n    </tr>\n    <tr>\n      <th>262</th>\n      <td>2021-04-02 16:02:39.585</td>\n      <td>DEBUG</td>\n      <td>syft.widget_logger:log_and_print:90 - failed ...</td>\n    </tr>\n  </tbody>\n</table>\n<p>263 rows × 3 columns</p>\n</div>",
          "text/plain": "                Date and Time    LOG TYPE  \\\n0    2021-04-02 16:02:25.275    INFO        \n1    2021-04-02 16:02:25.284    INFO        \n2    2021-04-02 16:02:25.294    INFO        \n3    2021-04-02 16:02:26.389    INFO        \n4    2021-04-02 16:02:26.393    INFO        \n..                        ...         ...   \n258  2021-04-02 16:02:39.375    INFO        \n259  2021-04-02 16:02:39.375    INFO        \n260  2021-04-02 16:02:39.376    INFO        \n261  2021-04-02 16:02:39.572    DEBUG       \n262  2021-04-02 16:02:39.585    DEBUG       \n\n                                               MESSAGE  \n0     syft.widget_logger:log_and_print:84 - 🎤  🎸  ♪...  \n1     syft.widget_logger:log_and_print:84 - ♫♫♫ >\u001b[...  \n2     syft.widget_logger:log_and_print:84 - \u001b[1m\\n ...  \n3     syft.widget_logger:log_and_print:84 - ♫♫♫ > P...  \n4     syft.widget_logger:log_and_print:84 - ♫♫♫ > h...  \n..                                                 ...  \n258   syft.logger:log_and_print:76 - Skipping torch...  \n259   syft.logger:log_and_print:76 - Skipping torch...  \n260   syft.logger:log_and_print:76 - Skipping torch...  \n261   syft.logger:log_and_print:76 - > Creating 📡 [...  \n262   syft.widget_logger:log_and_print:90 - failed ...  \n\n[263 rows x 3 columns]"
         },
         "metadata": {},
         "output_type": "display_data"
        }
       ]
      }
     },
     "e99e772f2180403c954eb0632a91b2f4": {
      "model_module": "@jupyter-widgets/base",
      "model_module_version": "1.2.0",
      "model_name": "LayoutModel",
      "state": {}
     },
     "ea2f12449bf94da68d6d6eb28083bdaa": {
      "model_module": "@jupyter-widgets/base",
      "model_module_version": "1.2.0",
      "model_name": "LayoutModel",
      "state": {}
     },
     "ea7fb36742c0450f84298c98e05a22fe": {
      "model_module": "@jupyter-widgets/base",
      "model_module_version": "1.2.0",
      "model_name": "LayoutModel",
      "state": {
       "align_items": "stretch",
       "border": "1px solid black",
       "display": "flex",
       "flex_flow": "column"
      }
     },
     "eb62be24471a4d0b947055d1af3e4e6f": {
      "model_module": "@jupyter-widgets/base",
      "model_module_version": "1.2.0",
      "model_name": "LayoutModel",
      "state": {}
     },
     "eba77a07342640aabc956b9aa33f7b77": {
      "model_module": "@jupyter-widgets/controls",
      "model_module_version": "1.5.0",
      "model_name": "DescriptionStyleModel",
      "state": {
       "description_width": ""
      }
     },
     "ebc263a115ca40b1ad3dd3be15fb9aef": {
      "model_module": "@jupyter-widgets/base",
      "model_module_version": "1.2.0",
      "model_name": "LayoutModel",
      "state": {
       "align_items": "stretch",
       "border": "1px solid black",
       "display": "flex",
       "flex_flow": "column"
      }
     },
     "ecb8c9e071bc4462be8aab166dcc3608": {
      "model_module": "@jupyter-widgets/controls",
      "model_module_version": "1.5.0",
      "model_name": "HBoxModel",
      "state": {
       "children": [
        "IPY_MODEL_867382b8e6ba457cab17c013fb83c6e6",
        "IPY_MODEL_baa9eb6512c94016904bff7a2e046a5f"
       ],
       "layout": "IPY_MODEL_8a2d3212c98249b3ad14bd42293e0738"
      }
     },
     "ed87f49b748f4c80ae8dda80368f652b": {
      "model_module": "@jupyter-widgets/controls",
      "model_module_version": "1.5.0",
      "model_name": "DescriptionStyleModel",
      "state": {
       "description_width": ""
      }
     },
     "ee7540aae07842eba992375b0e62c445": {
      "model_module": "@jupyter-widgets/base",
      "model_module_version": "1.2.0",
      "model_name": "LayoutModel",
      "state": {}
     },
     "ee7fef9da21e45ef92491ea62b55f011": {
      "model_module": "@jupyter-widgets/base",
      "model_module_version": "1.2.0",
      "model_name": "LayoutModel",
      "state": {}
     },
     "f0be7845a2314ec497c3a9e2473da328": {
      "model_module": "@jupyter-widgets/output",
      "model_module_version": "1.0.0",
      "model_name": "OutputModel",
      "state": {
       "layout": "IPY_MODEL_3655f5674450420f97f1c231341a8cf6"
      }
     },
     "f0c1ba07d89149a49148dfad3f1a8615": {
      "model_module": "@jupyter-widgets/controls",
      "model_module_version": "1.5.0",
      "model_name": "DescriptionStyleModel",
      "state": {
       "description_width": ""
      }
     },
     "f0ef9fd4532b4ddb8e4e5803d772859b": {
      "model_module": "@jupyter-widgets/base",
      "model_module_version": "1.2.0",
      "model_name": "LayoutModel",
      "state": {
       "height": "50px",
       "width": "20%"
      }
     },
     "f17fdfea6a254f8bba91870fd6867f22": {
      "model_module": "@jupyter-widgets/controls",
      "model_module_version": "1.5.0",
      "model_name": "ButtonStyleModel",
      "state": {}
     },
     "f219f54dfe5746d2b6528248d0e9deb0": {
      "model_module": "@jupyter-widgets/base",
      "model_module_version": "1.2.0",
      "model_name": "LayoutModel",
      "state": {
       "align_items": "stretch",
       "border": "1px solid black",
       "display": "flex",
       "flex_flow": "column"
      }
     },
     "f249779cc57f464b8f9a4b4b2a60750f": {
      "model_module": "@jupyter-widgets/controls",
      "model_module_version": "1.5.0",
      "model_name": "DescriptionStyleModel",
      "state": {
       "description_width": ""
      }
     },
     "f27b84f887714b1391f71b8e3f251f52": {
      "model_module": "@jupyter-widgets/base",
      "model_module_version": "1.2.0",
      "model_name": "LayoutModel",
      "state": {}
     },
     "f2b4e9d103974b2694f7edbdbf129021": {
      "model_module": "@jupyter-widgets/controls",
      "model_module_version": "1.5.0",
      "model_name": "DescriptionStyleModel",
      "state": {
       "description_width": ""
      }
     },
     "f2f346af90c44b6c90c583face37bf78": {
      "model_module": "@jupyter-widgets/controls",
      "model_module_version": "1.5.0",
      "model_name": "CheckboxModel",
      "state": {
       "description": "TRACE",
       "disabled": false,
       "indent": false,
       "layout": "IPY_MODEL_dc4f8933ddeb43579f188ea89431d53a",
       "style": "IPY_MODEL_40ca7da856b3446ea07a0990d42b5390",
       "value": false
      }
     },
     "f398a9a1ba6d4a098866c2f33423e04f": {
      "model_module": "@jupyter-widgets/controls",
      "model_module_version": "1.5.0",
      "model_name": "ButtonStyleModel",
      "state": {}
     },
     "f3d809c8db3d40688552ab5f6b53536e": {
      "model_module": "@jupyter-widgets/base",
      "model_module_version": "1.2.0",
      "model_name": "LayoutModel",
      "state": {}
     },
     "f46084798ac844089e1b31dbf59e0c83": {
      "model_module": "@jupyter-widgets/controls",
      "model_module_version": "1.5.0",
      "model_name": "HBoxModel",
      "state": {
       "children": [
        "IPY_MODEL_d885c44df7af4281abfe678fb523e0c4",
        "IPY_MODEL_5572b050fd4049999f366520bca00b49",
        "IPY_MODEL_88797db684a44562a65bc3f30dbb68d8"
       ],
       "layout": "IPY_MODEL_96ee9d87350a420c81e60fc0eba39407"
      }
     },
     "f48b0759be994b2a9c3c2cd6c64e66c0": {
      "model_module": "@jupyter-widgets/base",
      "model_module_version": "1.2.0",
      "model_name": "LayoutModel",
      "state": {}
     },
     "f4d3b5c39bfe4d2cbdd5ed25d1402604": {
      "model_module": "@jupyter-widgets/controls",
      "model_module_version": "1.5.0",
      "model_name": "VBoxModel",
      "state": {
       "children": [
        "IPY_MODEL_96ab5ae26bf44ca6992f8e8f5eef4e72",
        "IPY_MODEL_a9c32e6e8e0a4de3aa07b9ac7054ee8d"
       ],
       "layout": "IPY_MODEL_d2ef65dd0f0f4c94ab8d2c9c702e1737"
      }
     },
     "f4dbe4d3d82b452aaa62a6c085ddb9e8": {
      "model_module": "@jupyter-widgets/base",
      "model_module_version": "1.2.0",
      "model_name": "LayoutModel",
      "state": {
       "height": "60px",
       "width": "40%"
      }
     },
     "f51a4d03be6e4475b860ad2c52d597c6": {
      "model_module": "@jupyter-widgets/controls",
      "model_module_version": "1.5.0",
      "model_name": "CheckboxModel",
      "state": {
       "description": "INFO",
       "disabled": false,
       "indent": false,
       "layout": "IPY_MODEL_780b936f73a74771a4f7422a26919dd9",
       "style": "IPY_MODEL_ce44c44790914ccb929c4e15c1947548",
       "value": true
      }
     },
     "f5647831d43c463ca534cb944a9744f0": {
      "model_module": "@jupyter-widgets/controls",
      "model_module_version": "1.5.0",
      "model_name": "ButtonStyleModel",
      "state": {}
     },
     "f567a95f7e7b49a5a83e4842e6759a34": {
      "model_module": "@jupyter-widgets/controls",
      "model_module_version": "1.5.0",
      "model_name": "ButtonStyleModel",
      "state": {}
     },
     "f5d7843446694c9e9c5e33952d97629a": {
      "model_module": "@jupyter-widgets/base",
      "model_module_version": "1.2.0",
      "model_name": "LayoutModel",
      "state": {
       "height": "80px",
       "width": "33%"
      }
     },
     "f684dea35d804d3fad677687cbc264a9": {
      "model_module": "@jupyter-widgets/controls",
      "model_module_version": "1.5.0",
      "model_name": "ButtonModel",
      "state": {
       "button_style": "success",
       "description": "Launch Duet",
       "icon": "plug",
       "layout": "IPY_MODEL_603affaef0a54a369d18b8d7e1afeb6e",
       "style": "IPY_MODEL_85bab6ca88604d8591a315b16b1b45e5",
       "tooltip": "Launch Duet"
      }
     },
     "f72779c420d14c6fb8d418f27b7f9e34": {
      "model_module": "@jupyter-widgets/base",
      "model_module_version": "1.2.0",
      "model_name": "LayoutModel",
      "state": {
       "height": "50px",
       "width": "20%"
      }
     },
     "f75375beb3324032b0754cf5af24e7d3": {
      "model_module": "@jupyter-widgets/controls",
      "model_module_version": "1.5.0",
      "model_name": "CheckboxModel",
      "state": {
       "description": "CRITICAL",
       "disabled": false,
       "indent": false,
       "layout": "IPY_MODEL_6af63f73dde04b879aed7f9ef471922d",
       "style": "IPY_MODEL_5dc75d0cb3234dbba26497731ec91740",
       "value": false
      }
     },
     "f7bf07c2b9474e0f9e0c3e4be337385c": {
      "model_module": "@jupyter-widgets/base",
      "model_module_version": "1.2.0",
      "model_name": "LayoutModel",
      "state": {}
     },
     "f8a5fe5ee0494864807b18cd498d1ac7": {
      "model_module": "@jupyter-widgets/base",
      "model_module_version": "1.2.0",
      "model_name": "LayoutModel",
      "state": {
       "height": "80px",
       "width": "33%"
      }
     },
     "f90faeb29cb44de4a600026e4578cfa9": {
      "model_module": "@jupyter-widgets/controls",
      "model_module_version": "1.5.0",
      "model_name": "DescriptionStyleModel",
      "state": {
       "description_width": ""
      }
     },
     "f977dfffb9e34f138081688768bc70ee": {
      "model_module": "@jupyter-widgets/base",
      "model_module_version": "1.2.0",
      "model_name": "LayoutModel",
      "state": {}
     },
     "f9920c9443fb4b5e87a6c10c3c41737e": {
      "model_module": "@jupyter-widgets/controls",
      "model_module_version": "1.5.0",
      "model_name": "DescriptionStyleModel",
      "state": {
       "description_width": ""
      }
     },
     "f99610ffaa9944eda33b95fc4fa6ae52": {
      "model_module": "@jupyter-widgets/base",
      "model_module_version": "1.2.0",
      "model_name": "LayoutModel",
      "state": {
       "height": "50px",
       "width": "20%"
      }
     },
     "f9b523da5687462981697a6190e15558": {
      "model_module": "@jupyter-widgets/base",
      "model_module_version": "1.2.0",
      "model_name": "LayoutModel",
      "state": {}
     },
     "f9f2c51709344b738bc9b99ee5f908cc": {
      "model_module": "@jupyter-widgets/controls",
      "model_module_version": "1.5.0",
      "model_name": "VBoxModel",
      "state": {
       "children": [
        "IPY_MODEL_cf140be739d44adba910a76bd70eb1f1",
        "IPY_MODEL_5477f347224742cb92c5b0740c565ee3"
       ],
       "layout": "IPY_MODEL_1aa1d2f0b2e84cd08afa90775888f057"
      }
     },
     "fbaabd56073a41d1baec96019477ba62": {
      "model_module": "@jupyter-widgets/base",
      "model_module_version": "1.2.0",
      "model_name": "LayoutModel",
      "state": {
       "height": "80px",
       "width": "33%"
      }
     },
     "fc3cd317286d4fb8ba5468ecd952cc70": {
      "model_module": "@jupyter-widgets/base",
      "model_module_version": "1.2.0",
      "model_name": "LayoutModel",
      "state": {}
     },
     "fcc154d561f7465c90ccba7d97c04f0c": {
      "model_module": "@jupyter-widgets/base",
      "model_module_version": "1.2.0",
      "model_name": "LayoutModel",
      "state": {
       "height": "50px",
       "width": "20%"
      }
     },
     "fd311efe3e3a445fb369d1825681ec0f": {
      "model_module": "@jupyter-widgets/base",
      "model_module_version": "1.2.0",
      "model_name": "LayoutModel",
      "state": {}
     },
     "fdafe402f37942f3bffd5a45440f8b2f": {
      "model_module": "@jupyter-widgets/output",
      "model_module_version": "1.0.0",
      "model_name": "OutputModel",
      "state": {
       "layout": "IPY_MODEL_b35bbddcf63e4074b030efe78532d989"
      }
     },
     "fe18e1cf7a9646afb54a3fdb89bd0c54": {
      "model_module": "@jupyter-widgets/controls",
      "model_module_version": "1.5.0",
      "model_name": "ButtonModel",
      "state": {
       "button_style": "info",
       "description": "View Peers",
       "icon": "eye",
       "layout": "IPY_MODEL_26de9a2cae5d494c8a27f9aa3e7e2012",
       "style": "IPY_MODEL_f17fdfea6a254f8bba91870fd6867f22",
       "tooltip": "View Peers"
      }
     },
     "ff8a74b3423d433180acf2b0056b32da": {
      "model_module": "@jupyter-widgets/controls",
      "model_module_version": "1.5.0",
      "model_name": "HBoxModel",
      "state": {
       "children": [
        "IPY_MODEL_2fdc3b8a595a483ba4061582a7c071a5",
        "IPY_MODEL_9bb1a655dbe84086a49e56a65fc4abe7",
        "IPY_MODEL_898cf7a626dd4183a41f2c032a37de07"
       ],
       "layout": "IPY_MODEL_27cec172e466495d8fa6d009e3f5386c"
      }
     },
     "ffdfe2fb56204d6a8aa4bdc95c734278": {
      "model_module": "@jupyter-widgets/base",
      "model_module_version": "1.2.0",
      "model_name": "LayoutModel",
      "state": {}
     }
    },
    "version_major": 2,
    "version_minor": 0
   }
  }
 },
 "nbformat": 4,
 "nbformat_minor": 2
}

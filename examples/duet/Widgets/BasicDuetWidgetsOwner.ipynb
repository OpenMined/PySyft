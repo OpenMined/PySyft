{
 "cells": [
  {
   "cell_type": "code",
   "execution_count": 1,
   "metadata": {},
   "outputs": [],
   "source": [
    "import ipywidgets as widgets\n",
    "from ipywidgets import interact, interactive, fixed, interact_manual, Layout\n",
    "import syft as sy"
   ]
  },
  {
   "cell_type": "markdown",
   "metadata": {},
   "source": [
    "## 2. All Buttons"
   ]
  },
  {
   "cell_type": "code",
   "execution_count": 2,
   "metadata": {},
   "outputs": [],
   "source": [
    "duetLaunchButton = widgets.Button(\n",
    "    description='Launch Duet',\n",
    "    disabled=False,\n",
    "    button_style='success', # 'success', 'info', 'warning', 'danger' or ''\n",
    "    tooltip='Launch Duet',\n",
    "    layout=Layout(width='33%', height='80px'),\n",
    "    icon='fa-plug' # (FontAwesome names without the `fa-` prefix)\n",
    ")\n",
    "\n",
    "duetLaunchButtonLoopback = widgets.Button(\n",
    "    description='Launch Duet(with loopback)',\n",
    "    disabled=False,\n",
    "    layout=Layout(width='33%', height='80px'),\n",
    "    button_style='success', # 'success', 'info', 'warning', 'danger' or ''\n",
    "    tooltip='Launch Duet(with loopback)',\n",
    "    icon='fa-plug' # (FontAwesome names without the `fa-` prefix)\n",
    ")\n",
    "\n",
    "viewPeers = widgets.Button(\n",
    "    description='View Peers',\n",
    "    disabled=False,\n",
    "    layout=Layout(width='33%', height='80px'),\n",
    "    button_style='info', # 'success', 'info', 'warning', 'danger' or ''\n",
    "    tooltip='View Peers',\n",
    "    icon='fa-eye' # (FontAwesome names without the `fa-` prefix)\n",
    ")\n",
    "\n",
    "\n",
    "dashboardLogger = widgets.Output(layout={'border': '1px solid black' , 'display' : 'flex' , 'flex_flow' : 'column' , 'align_items' : 'stretch' })"
   ]
  },
  {
   "cell_type": "markdown",
   "metadata": {},
   "source": [
    "## 1. Helper Functions"
   ]
  },
  {
   "cell_type": "code",
   "execution_count": 3,
   "metadata": {},
   "outputs": [],
   "source": [
    "duet = None\n",
    "def on_launch_duet_button(b):\n",
    "    with dashboardLogger:\n",
    "        global duet\n",
    "        duet = sy.launch_duet()\n",
    "\n",
    "def on_launch_duet_button_loopback(b):\n",
    "    with dashboardLogger:\n",
    "        global duet\n",
    "        duet = sy.launch_duet(loopback=True)\n",
    "\n",
    "\n",
    "    \n",
    "duetLaunchButton.on_click(on_launch_duet_button)\n",
    "duetLaunchButtonLoopback.on_click(on_launch_duet_button_loopback)"
   ]
  },
  {
   "cell_type": "markdown",
   "metadata": {},
   "source": [
    "## 3. Display Buttons"
   ]
  },
  {
   "cell_type": "code",
   "execution_count": 4,
   "metadata": {},
   "outputs": [
    {
     "data": {
      "application/vnd.jupyter.widget-view+json": {
       "model_id": "ba1d20669ca0441fabb2bcb1e03151c4",
       "version_major": 2,
       "version_minor": 0
      },
      "text/plain": [
       "HBox(children=(Button(button_style='success', description='Launch Duet', icon='plug', layout=Layout(height='80…"
      ]
     },
     "metadata": {},
     "output_type": "display_data"
    },
    {
     "name": "stderr",
     "output_type": "stream",
     "text": [
      "[2021-03-27T20:57:51.503145+0530][CRITICAL][logger]][55488] Skipping torchvision.torchvision.transforms.functional.equalize not supported in 0.8.2\n"
     ]
    }
   ],
   "source": [
    "display(widgets.HBox([duetLaunchButton, duetLaunchButtonLoopback, viewPeers]))"
   ]
  },
  {
   "cell_type": "code",
   "execution_count": 5,
   "metadata": {},
   "outputs": [
    {
     "data": {
      "application/vnd.jupyter.widget-view+json": {
       "model_id": "e194ff14bad84d049641fdd749e32776",
       "version_major": 2,
       "version_minor": 0
      },
      "text/plain": [
       "Output(layout=Layout(align_items='stretch', border='1px solid black', display='flex', flex_flow='column'))"
      ]
     },
     "metadata": {},
     "output_type": "display_data"
    }
   ],
   "source": [
    "dashboardLogger"
   ]
  },
  {
   "cell_type": "code",
   "execution_count": null,
   "metadata": {},
   "outputs": [],
   "source": []
  },
  {
   "cell_type": "code",
   "execution_count": null,
   "metadata": {},
   "outputs": [],
   "source": []
  }
 ],
 "metadata": {
  "kernelspec": {
   "display_name": "PySyft",
   "language": "python",
   "name": "pysyft"
  },
  "language_info": {
   "codemirror_mode": {
    "name": "ipython",
    "version": 3
   },
   "file_extension": ".py",
   "mimetype": "text/x-python",
   "name": "python",
   "nbconvert_exporter": "python",
   "pygments_lexer": "ipython3",
   "version": "3.6.9"
  }
 },
 "nbformat": 4,
 "nbformat_minor": 2
}

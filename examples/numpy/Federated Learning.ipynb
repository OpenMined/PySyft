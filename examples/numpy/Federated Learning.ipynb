{
 "cells": [
  {
   "cell_type": "markdown",
   "metadata": {},
   "source": [
    "# Federated Learning in Numpy\n",
    "\n",
    "In this notebook, we show how to train a model across a distributed dataset using Numpy\n",
    "\n",
    "\n",
    "\n",
    "\n",
    "\n",
    "# Step 1: Create Workers"
   ]
  },
  {
   "cell_type": "code",
   "execution_count": 1,
   "metadata": {},
   "outputs": [],
   "source": [
    "import numpy as np\n",
    "import syft as sy\n",
    "import copy\n",
    "\n",
    "x = sy.array([1,2,3])\n",
    "\n",
    "bob = sy.VirtualWorker(id='bob')\n",
    "alice = sy.VirtualWorker(id='alice')"
   ]
  },
  {
   "cell_type": "markdown",
   "metadata": {},
   "source": [
    "# Step 2: Training Logic"
   ]
  },
  {
   "cell_type": "code",
   "execution_count": 2,
   "metadata": {},
   "outputs": [],
   "source": [
    "def train(model, data, iters=100):\n",
    "    \n",
    "    syn0, syn1 = model\n",
    "    X, y = data\n",
    "\n",
    "    for j in range(iters):\n",
    "\n",
    "        l1 = 1/(1+np.exp(-(X.dot(syn0))))\n",
    "        l2 = 1/(1+np.exp(-(l1.dot(syn1))))\n",
    "\n",
    "        l2_delta = (y - l2)*(l2*(1-l2))\n",
    "        l1_delta = l2_delta.dot(syn1.transpose()) * (l1 * (1-l1))\n",
    "\n",
    "        syn1 += l1.transpose().dot(l2_delta)\n",
    "        syn0 += X.transpose().dot(l1_delta)\n",
    "        \n",
    "    return (syn0, syn1), ((y - l2)**2).sum()\n",
    "\n",
    "def send(list_of_things, owner):\n",
    "    pointers = list()\n",
    "    for thing in list_of_things:\n",
    "        pointers.append(thing.send(owner))\n",
    "    return pointers\n",
    "\n",
    "def get(list_of_pointers):\n",
    "    things = list()\n",
    "    for pointer in list_of_pointers:\n",
    "        things.append(pointer.get())\n",
    "    return things"
   ]
  },
  {
   "cell_type": "markdown",
   "metadata": {},
   "source": [
    "# Step 2: Setup Example\n",
    "\n",
    "This creates two datasets and sends them to Bob and Alice. This cell also initializes the model weights"
   ]
  },
  {
   "cell_type": "code",
   "execution_count": 4,
   "metadata": {},
   "outputs": [],
   "source": [
    "X = sy.array([ [0,0,1],[0,1,1],[1,0,1],[1,1,1] ])\n",
    "y = sy.array([[0,1,1,0]]).T\n",
    "\n",
    "syn0 = sy.array(2*np.random.random((3,4)) - 1)\n",
    "syn1 = sy.array(2*np.random.random((4,1)) - 1)\n",
    "\n",
    "model = [syn0, syn1]\n",
    "\n",
    "bobs_data = [copy.deepcopy(X), copy.deepcopy(y)]\n",
    "alices_data = [copy.deepcopy(X), copy.deepcopy(y)]\n",
    "\n",
    "bobs_data = send(bobs_data, bob)\n",
    "alices_data = send(alices_data, alice)"
   ]
  },
  {
   "cell_type": "markdown",
   "metadata": {},
   "source": [
    "# Step 3: Train"
   ]
  },
  {
   "cell_type": "code",
   "execution_count": 10,
   "metadata": {},
   "outputs": [
    {
     "name": "stdout",
     "output_type": "stream",
     "text": [
      "0.8659159062491271\n",
      "0.1740398697239179\n",
      "0.028881457013389733\n",
      "0.013600409537694418\n",
      "0.008606615091287063\n",
      "0.0062077510417679\n",
      "0.004818547437833207\n",
      "0.003919622602001533\n",
      "0.0032935061242867175\n",
      "0.002833928464672367\n"
     ]
    }
   ],
   "source": [
    "model = send(model, bob)\n",
    "\n",
    "for iter in range(10):\n",
    "\n",
    "    model, loss = train(model, bobs_data)\n",
    "\n",
    "    bobs_loss = loss.get()\n",
    "\n",
    "    model = send(get(model), alice)\n",
    "\n",
    "    model, loss = train(model, alices_data)\n",
    "\n",
    "    alices_loss = loss.get()\n",
    "\n",
    "    model = send(get(model), bob)\n",
    "\n",
    "    mean_loss = (bobs_loss + alices_loss)/2\n",
    "    print(mean_loss)"
   ]
  },
  {
   "cell_type": "code",
   "execution_count": null,
   "metadata": {},
   "outputs": [],
   "source": []
  }
 ],
 "metadata": {
  "kernelspec": {
   "display_name": "Python 3",
   "language": "python",
   "name": "python3"
  },
  "language_info": {
   "codemirror_mode": {
    "name": "ipython",
    "version": 3
   },
   "file_extension": ".py",
   "mimetype": "text/x-python",
   "name": "python",
   "nbconvert_exporter": "python",
   "pygments_lexer": "ipython3",
   "version": "3.6.1"
  }
 },
 "nbformat": 4,
 "nbformat_minor": 2
}

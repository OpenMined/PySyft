{
 "cells": [
  {
   "cell_type": "markdown",
   "metadata": {},
   "source": [
    "# Share Tensor\n",
    "### With Duet Clients"
   ]
  },
  {
   "cell_type": "markdown",
   "metadata": {},
   "source": [
    "## Import libs"
   ]
  },
  {
   "cell_type": "code",
   "execution_count": 1,
   "metadata": {},
   "outputs": [],
   "source": [
    "import syft as sy\n",
    "import torch\n",
    "\n",
    "from sympc.session import Session\n",
    "\n",
    "# Import our ShareTensor ControlCenter\n",
    "from sympc.tensor import ShareTensorCC"
   ]
  },
  {
   "cell_type": "markdown",
   "metadata": {},
   "source": [
    "## Create the clients"
   ]
  },
  {
   "cell_type": "code",
   "execution_count": 2,
   "metadata": {},
   "outputs": [],
   "source": [
    "alice = sy.VirtualMachine(name=\"alice\")\n",
    "bob = sy.VirtualMachine(name=\"bob\")\n",
    "\n",
    "alice_client = alice.get_client()\n",
    "bob_client = bob.get_client()"
   ]
  },
  {
   "cell_type": "markdown",
   "metadata": {},
   "source": [
    "## Create a session"
   ]
  },
  {
   "cell_type": "markdown",
   "metadata": {},
   "source": [
    "The session is used to send some config information only once between the parties.\n",
    "This information can be:\n",
    "* the ring size in which we do the computation\n",
    "* the precision and base\n",
    "* the approximation methods we are using for different functions (TODO)"
   ]
  },
  {
   "cell_type": "code",
   "execution_count": 3,
   "metadata": {},
   "outputs": [
    {
     "name": "stdout",
     "output_type": "stream",
     "text": [
      "<sympc.session.session.Session object at 0x7f3e3fd635e0>\n"
     ]
    }
   ],
   "source": [
    "session = Session(parties=[alice_client, bob_client])\n",
    "print(session)"
   ]
  },
  {
   "cell_type": "markdown",
   "metadata": {},
   "source": [
    "## Send the session to all the parties"
   ]
  },
  {
   "cell_type": "code",
   "execution_count": 4,
   "metadata": {},
   "outputs": [],
   "source": [
    "Session.setup_mpc(session)"
   ]
  },
  {
   "cell_type": "code",
   "execution_count": 5,
   "metadata": {},
   "outputs": [],
   "source": [
    "x = ShareTensorCC(secret=torch.tensor([1,2,3,4]), session=session)"
   ]
  },
  {
   "cell_type": "code",
   "execution_count": 6,
   "metadata": {},
   "outputs": [
    {
     "name": "stdout",
     "output_type": "stream",
     "text": [
      "[ShareTensorCC]\n",
      "\t| <VirtualMachineClient: alice Client> -> ShareTensorPointer\n",
      "\t| <VirtualMachineClient: bob Client> -> ShareTensorPointer\n"
     ]
    }
   ],
   "source": [
    "print(x)"
   ]
  },
  {
   "cell_type": "code",
   "execution_count": 7,
   "metadata": {},
   "outputs": [
    {
     "name": "stdout",
     "output_type": "stream",
     "text": [
      "[ShareTensor]\n",
      "\t| [FixedPointEncoder]: precision: 4, base: 10\n",
      "\t| Data: tensor([-3254347133205610703,  5629128132088023381,  2996710540977179804,\n",
      "         7844885257668983457])\n",
      "[ShareTensor]\n",
      "\t| [FixedPointEncoder]: precision: 4, base: 10\n",
      "\t| Data: tensor([ 3254347133205620703, -5629128132088003381, -2996710540977149804,\n",
      "        -7844885257668943457])\n"
     ]
    }
   ],
   "source": [
    "# The values does not make sense for any user, unless they \"reconstruct\" the original tensor\n",
    "for val in x.share_ptr:\n",
    "    print(val.get()) ## Attention! get() destroys the pointer"
   ]
  },
  {
   "cell_type": "code",
   "execution_count": 8,
   "metadata": {},
   "outputs": [],
   "source": [
    "x_secret = torch.tensor([1,2,3,4])\n",
    "x = ShareTensorCC(secret=x_secret, session=session)"
   ]
  },
  {
   "cell_type": "code",
   "execution_count": 9,
   "metadata": {},
   "outputs": [
    {
     "name": "stdout",
     "output_type": "stream",
     "text": [
      "tensor([1., 2., 3., 4.])\n"
     ]
    }
   ],
   "source": [
    "print(x.reconstruct()) ## Attention! Also reconstruct, destroys the pointers"
   ]
  },
  {
   "cell_type": "markdown",
   "metadata": {},
   "source": [
    "## Secret is shared by the orchestrator\n",
    "- the orchestrator generates shares locally\n",
    "- distributes them to the parties"
   ]
  },
  {
   "cell_type": "markdown",
   "metadata": {},
   "source": [
    "### Public Operations"
   ]
  },
  {
   "cell_type": "code",
   "execution_count": 10,
   "metadata": {},
   "outputs": [],
   "source": [
    "x_secret = torch.tensor([1,2,3,4])\n",
    "x = ShareTensorCC(secret=x_secret, session=session)\n",
    "\n",
    "y = 50"
   ]
  },
  {
   "cell_type": "code",
   "execution_count": 11,
   "metadata": {},
   "outputs": [
    {
     "name": "stdout",
     "output_type": "stream",
     "text": [
      "[Priv + Pub] X + Y = tensor([51., 52., 53., 54.])\n",
      "[Pub + Pub] X + Y = tensor([51, 52, 53, 54])\n"
     ]
    }
   ],
   "source": [
    "print(\"[Priv + Pub] X + Y =\", (x + y).reconstruct())\n",
    "print(\"[Pub + Pub] X + Y =\", x_secret + y)"
   ]
  },
  {
   "cell_type": "code",
   "execution_count": 12,
   "metadata": {
    "scrolled": true
   },
   "outputs": [
    {
     "name": "stdout",
     "output_type": "stream",
     "text": [
      "[Priv - Pub] X - Y = tensor([-49., -48., -47., -46.])\n",
      "[Pub - Pub] X - Y = tensor([-49, -48, -47, -46])\n"
     ]
    }
   ],
   "source": [
    "print(\"[Priv - Pub] X - Y =\", (x - y).reconstruct())\n",
    "print(\"[Pub - Pub] X - Y =\", x_secret - y)"
   ]
  },
  {
   "cell_type": "code",
   "execution_count": 13,
   "metadata": {
    "scrolled": true
   },
   "outputs": [
    {
     "name": "stdout",
     "output_type": "stream",
     "text": [
      "[Priv * Pub] X * Y = tensor([ 50., 100., 150., 200.])\n",
      "[Pub * Pub] X * Y = tensor([ 50, 100, 150, 200])\n"
     ]
    }
   ],
   "source": [
    "print(\"[Priv * Pub] X * Y =\", (x * y).reconstruct())\n",
    "print(\"[Pub * Pub] X * Y =\", x_secret * y)"
   ]
  },
  {
   "cell_type": "markdown",
   "metadata": {},
   "source": [
    "### Private Operations"
   ]
  },
  {
   "cell_type": "code",
   "execution_count": 14,
   "metadata": {},
   "outputs": [],
   "source": [
    "x_secret = torch.tensor([1, 2, 3])\n",
    "x = ShareTensorCC(secret=x_secret,session=session)\n",
    "\n",
    "y_secret = 50\n",
    "y = ShareTensorCC(secret=y_secret, session=session)"
   ]
  },
  {
   "cell_type": "code",
   "execution_count": 15,
   "metadata": {},
   "outputs": [
    {
     "name": "stdout",
     "output_type": "stream",
     "text": [
      "[Priv + Priv] X + Y = tensor([51., 52., 53.])\n",
      "[Pub + Pub] X + Y = tensor([51, 52, 53])\n"
     ]
    }
   ],
   "source": [
    "print(\"[Priv + Priv] X + Y =\", (x + y).reconstruct())\n",
    "print(\"[Pub + Pub] X + Y =\", x_secret + y_secret)"
   ]
  },
  {
   "cell_type": "code",
   "execution_count": 16,
   "metadata": {},
   "outputs": [
    {
     "name": "stdout",
     "output_type": "stream",
     "text": [
      "[Priv - Priv] X - Y = tensor([-49., -48., -47.])\n",
      "[Pub - Pub] X - Y = tensor([-49, -48, -47])\n"
     ]
    }
   ],
   "source": [
    "print(\"[Priv - Priv] X - Y =\", (x - y).reconstruct())\n",
    "print(\"[Pub - Pub] X - Y =\", x_secret - y_secret)"
   ]
  },
  {
   "cell_type": "code",
   "execution_count": 17,
   "metadata": {},
   "outputs": [
    {
     "name": "stdout",
     "output_type": "stream",
     "text": [
      "[Priv * Priv] X * Y = tensor([ 50., 100., 150.])\n",
      "[Pub * Pub] X * Y = tensor([ 50, 100, 150])\n"
     ]
    }
   ],
   "source": [
    "print(\"[Priv * Priv] X * Y =\", (x * y).reconstruct())\n",
    "print(\"[Pub * Pub] X * Y =\", x_secret * y_secret)"
   ]
  },
  {
   "cell_type": "markdown",
   "metadata": {},
   "source": [
    "## Private Secret - owned by one party\n",
    "- are used more generators to construct PRZS (Pseudo-Random-Zero-Shares)\n",
    "- the party that has the secret would add it to their own share"
   ]
  },
  {
   "cell_type": "markdown",
   "metadata": {},
   "source": [
    "### Public Operations"
   ]
  },
  {
   "cell_type": "code",
   "execution_count": 18,
   "metadata": {},
   "outputs": [],
   "source": [
    "x_secret = alice_client.torch.Tensor([1,2,3,4]) # at Alice\n",
    "x = ShareTensorCC(secret=x_secret, shape=(1, 4), session=session)\n",
    "y = 50"
   ]
  },
  {
   "cell_type": "code",
   "execution_count": 19,
   "metadata": {},
   "outputs": [
    {
     "name": "stdout",
     "output_type": "stream",
     "text": [
      "[Priv + Pub] X + Y = tensor([[51., 52., 53., 54.]])\n",
      "[Pub + Pub] X + Y = tensor([51., 52., 53., 54.])\n"
     ]
    }
   ],
   "source": [
    "print(\"[Priv + Pub] X + Y =\", (x + y).reconstruct())\n",
    "print(\"[Pub + Pub] X + Y =\", (x_secret + y).get()) # On Alice side"
   ]
  },
  {
   "cell_type": "code",
   "execution_count": 20,
   "metadata": {},
   "outputs": [
    {
     "name": "stdout",
     "output_type": "stream",
     "text": [
      "[Priv - Pub] X - Y = tensor([[-49., -48., -47., -46.]])\n",
      "[Pub - Pub] X - Y = tensor([-49., -48., -47., -46.])\n"
     ]
    }
   ],
   "source": [
    "print(\"[Priv - Pub] X - Y =\", (x - y).reconstruct())\n",
    "print(\"[Pub - Pub] X - Y =\", (x_secret - y).get()) # On Alice side"
   ]
  },
  {
   "cell_type": "code",
   "execution_count": 21,
   "metadata": {},
   "outputs": [
    {
     "name": "stdout",
     "output_type": "stream",
     "text": [
      "[Priv * Pub] X * Y = tensor([[ 50., 100., 150., 200.]])\n",
      "[Pub * Pub] X * Y = tensor([ 50., 100., 150., 200.])\n"
     ]
    }
   ],
   "source": [
    "print(\"[Priv * Pub] X * Y =\", (x * y).reconstruct())\n",
    "print(\"[Pub * Pub] X * Y =\", (x_secret * y).get()) # On Alice side"
   ]
  },
  {
   "cell_type": "markdown",
   "metadata": {},
   "source": [
    "### Private Operations"
   ]
  },
  {
   "cell_type": "code",
   "execution_count": 22,
   "metadata": {},
   "outputs": [],
   "source": [
    "x_secret = alice_client.torch.Tensor([1,2,3]) # at Alice\n",
    "x = ShareTensorCC(secret=x_secret, shape=(1,3), session=session)\n",
    "\n",
    "y_secret = bob_client.python.Int(50) # At Bob\n",
    "y = ShareTensorCC(secret=y_secret, shape=(1,), session=session)"
   ]
  },
  {
   "cell_type": "code",
   "execution_count": 23,
   "metadata": {},
   "outputs": [
    {
     "name": "stdout",
     "output_type": "stream",
     "text": [
      "[Priv + Priv] X + Y = tensor([[51., 52., 53.]])\n",
      "[Pub + Pub] X + Y = tensor([51., 52., 53.])\n"
     ]
    }
   ],
   "source": [
    "print(\"[Priv + Priv] X + Y =\", (x + y).reconstruct())\n",
    "# We can simply add them because they are at different locations\n",
    "# That is why we need to first get them before adding them\n",
    "print(\"[Pub + Pub] X + Y =\", x_secret.get_copy() + y_secret.get_copy())"
   ]
  },
  {
   "cell_type": "code",
   "execution_count": 24,
   "metadata": {},
   "outputs": [
    {
     "name": "stdout",
     "output_type": "stream",
     "text": [
      "[Priv - Priv] X - Y = tensor([[-49., -48., -47.]])\n",
      "[Pub - Pub] X - Y = tensor([-49., -48., -47.])\n"
     ]
    }
   ],
   "source": [
    "print(\"[Priv - Priv] X - Y =\", (x - y).reconstruct())\n",
    "print(\"[Pub - Pub] X - Y =\", x_secret.get_copy() - y_secret.get_copy())"
   ]
  },
  {
   "cell_type": "code",
   "execution_count": 25,
   "metadata": {},
   "outputs": [
    {
     "name": "stdout",
     "output_type": "stream",
     "text": [
      "[Priv * Priv] X * Y = tensor([[ 50., 100., 150.]])\n",
      "[Pub * Pub] X * Y = tensor([ 50., 100., 150.])\n"
     ]
    }
   ],
   "source": [
    "print(\"[Priv * Priv] X * Y =\", (x * y).reconstruct())\n",
    "print(\"[Pub * Pub] X * Y =\", x_secret.get_copy() * y_secret.get_copy())"
   ]
  }
 ],
 "metadata": {
  "kernelspec": {
   "display_name": "Python 3",
   "language": "python",
   "name": "python3"
  },
  "language_info": {
   "codemirror_mode": {
    "name": "ipython",
    "version": 3
   },
   "file_extension": ".py",
   "mimetype": "text/x-python",
   "name": "python",
   "nbconvert_exporter": "python",
   "pygments_lexer": "ipython3",
   "version": "3.8.5"
  }
 },
 "nbformat": 4,
 "nbformat_minor": 4
}

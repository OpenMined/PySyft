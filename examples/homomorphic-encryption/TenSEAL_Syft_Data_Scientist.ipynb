{
 "cells": [
  {
   "cell_type": "code",
   "execution_count": null,
   "metadata": {},
   "outputs": [],
   "source": [
    "%%capture\n",
    "!pip install tenseal==0.3.0a1"
   ]
  },
  {
   "cell_type": "code",
   "execution_count": null,
   "metadata": {},
   "outputs": [],
   "source": [
    "import syft as sy\n",
    "sy.load_lib(\"tenseal\")\n",
    "duet = sy.join_duet(loopback=True)"
   ]
  },
  {
   "cell_type": "code",
   "execution_count": null,
   "metadata": {},
   "outputs": [],
   "source": [
    "import tenseal as ts"
   ]
  },
  {
   "cell_type": "code",
   "execution_count": null,
   "metadata": {},
   "outputs": [],
   "source": [
    "# STOP wait for DO notebook first"
   ]
  },
  {
   "cell_type": "code",
   "execution_count": null,
   "metadata": {},
   "outputs": [],
   "source": [
    "# Now we can see all three objects and get pointers to them.\n",
    "# Note: we cannot get these without permission\n",
    "duet.store.pandas"
   ]
  },
  {
   "cell_type": "code",
   "execution_count": null,
   "metadata": {},
   "outputs": [],
   "source": [
    "# STEP 1 Get pointers to the two encrypted vectors\n",
    "enc_v1_ptr = duet.store[\"enc_v1\"]\n",
    "enc_v2_ptr = duet.store[\"enc_v2\"]"
   ]
  },
  {
   "cell_type": "code",
   "execution_count": null,
   "metadata": {},
   "outputs": [],
   "source": [
    "# STEP 2 Request permission to get encrypted vectors\n",
    "enc_v1_ptr.request(reason=\"I would like to get it\")\n",
    "enc_v2_ptr.request(reason=\"I would like to get it\")"
   ]
  },
  {
   "cell_type": "code",
   "execution_count": null,
   "metadata": {},
   "outputs": [],
   "source": [
    "# Now we can see our requests are pending\n",
    "duet.requests.pandas"
   ]
  },
  {
   "cell_type": "code",
   "execution_count": null,
   "metadata": {},
   "outputs": [],
   "source": [
    "# STOP, go and accept these requests on the DO notebook"
   ]
  },
  {
   "cell_type": "code",
   "execution_count": null,
   "metadata": {},
   "outputs": [],
   "source": [
    "# STEP 3 Get the encrypted vectors\n",
    "# We can see that the requests have been answered\n",
    "duet.requests.pandas"
   ]
  },
  {
   "cell_type": "code",
   "execution_count": null,
   "metadata": {},
   "outputs": [],
   "source": [
    "enc_v1 = enc_v1_ptr.get(delete_obj=False)\n",
    "enc_v2 = enc_v2_ptr.get(delete_obj=False)\n",
    "(enc_v1, enc_v2)"
   ]
  },
  {
   "cell_type": "code",
   "execution_count": null,
   "metadata": {},
   "outputs": [],
   "source": [
    "# STEP 4 Compute the sum of the two vectors locally\n",
    "result = enc_v1 + enc_v2\n",
    "result"
   ]
  },
  {
   "cell_type": "code",
   "execution_count": null,
   "metadata": {},
   "outputs": [],
   "source": [
    "# prove to ourselves we really have the real result here\n",
    "result.serialize()"
   ]
  },
  {
   "cell_type": "code",
   "execution_count": null,
   "metadata": {},
   "outputs": [],
   "source": [
    "# tag and send the result back to the DO\n",
    "result_ptr = result.tag(\"result_add\").send(duet, searchable=True)"
   ]
  },
  {
   "cell_type": "code",
   "execution_count": null,
   "metadata": {},
   "outputs": [],
   "source": [
    "result_ptr"
   ]
  },
  {
   "cell_type": "code",
   "execution_count": null,
   "metadata": {},
   "outputs": [],
   "source": [
    "# STOP and run the DO notebook"
   ]
  },
  {
   "cell_type": "code",
   "execution_count": null,
   "metadata": {},
   "outputs": [],
   "source": [
    "result_dec_ptr = result_enc_ptr.decrypt()"
   ]
  },
  {
   "cell_type": "code",
   "execution_count": null,
   "metadata": {},
   "outputs": [],
   "source": [
    "result = result_dec_ptr.get(\n",
    "    request_block=True,\n",
    "    name=\"decrypt\",\n",
    "    reason=\"Can you decrypt it?\",\n",
    "    timeout_secs=10,\n",
    "    delete_obj=False\n",
    ")"
   ]
  },
  {
   "cell_type": "code",
   "execution_count": null,
   "metadata": {},
   "outputs": [],
   "source": [
    "# TODO finish the other examples\n",
    "\n",
    "# result_enc_ptr2 = enc_v1.dot(enc_v2)"
   ]
  },
  {
   "cell_type": "code",
   "execution_count": null,
   "metadata": {},
   "outputs": [],
   "source": [
    "# result_dec_ptr2 = result_enc_ptr2.decrypt()\n",
    "# result2 = result_dec_ptr2.get(\n",
    "#     request_block=True,\n",
    "#     name=\"decrypt\",\n",
    "#     reason=\"Can you decrypt it?\",\n",
    "#     timeout_secs=10,\n",
    "#     delete_obj=False\n",
    "# )\n",
    "# result2  # ~ [10]"
   ]
  },
  {
   "cell_type": "code",
   "execution_count": null,
   "metadata": {},
   "outputs": [],
   "source": [
    "# matrix = [\n",
    "#   [73, 0.5, 8],\n",
    "#   [81, -5, 66],\n",
    "#   [-100, -78, -2],\n",
    "#   [0, 9, 17],\n",
    "#   [69, 11 , 10],\n",
    "# ]"
   ]
  },
  {
   "cell_type": "code",
   "execution_count": null,
   "metadata": {},
   "outputs": [],
   "source": [
    "# result_enc_ptr3 = enc_v1.matmul(matrix)"
   ]
  },
  {
   "cell_type": "code",
   "execution_count": null,
   "metadata": {},
   "outputs": [],
   "source": [
    "# result_dec_ptr3 = result_enc_ptr3.decrypt()\n",
    "# result3 = result_dec_ptr3.get(\n",
    "#     request_block=True,\n",
    "#     name=\"decrypt\",\n",
    "#     reason=\"Can you decrypt it?\",\n",
    "#     timeout_secs=10,\n",
    "#     delete_obj=False\n",
    "# )\n",
    "# result3  # ~ [157, -90, 153]"
   ]
  },
  {
   "cell_type": "code",
   "execution_count": null,
   "metadata": {},
   "outputs": [],
   "source": []
  }
 ],
 "metadata": {
  "kernelspec": {
   "display_name": "Python 3",
   "language": "python",
   "name": "python3"
  },
  "language_info": {
   "codemirror_mode": {
    "name": "ipython",
    "version": 3
   },
   "file_extension": ".py",
   "mimetype": "text/x-python",
   "name": "python",
   "nbconvert_exporter": "python",
   "pygments_lexer": "ipython3",
   "version": "3.8.6"
  }
 },
 "nbformat": 4,
 "nbformat_minor": 4
}

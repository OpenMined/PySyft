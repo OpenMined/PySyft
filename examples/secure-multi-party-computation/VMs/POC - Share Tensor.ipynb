{
 "cells": [
  {
   "cell_type": "markdown",
   "metadata": {},
   "source": [
    "# Share Tensor\n",
    "### With Duet Clients"
   ]
  },
  {
   "cell_type": "markdown",
   "metadata": {},
   "source": [
    "## Import libs"
   ]
  },
  {
   "cell_type": "code",
   "execution_count": 32,
   "metadata": {},
   "outputs": [],
   "source": [
    "import syft as sy\n",
    "import torch\n",
    "\n",
    "from sympc.session import Session\n",
    "from sympc.tensor import MPCTensor\n",
    "\n",
    "sy.load(\"sympc\")\n",
    "sy.logger.add(sink=\"./example.log\")"
   ]
  },
  {
   "cell_type": "markdown",
   "metadata": {},
   "source": [
    "## Create the clients"
   ]
  },
  {
   "cell_type": "code",
   "execution_count": 6,
   "metadata": {},
   "outputs": [],
   "source": [
    "alice = sy.VirtualMachine(name=\"alice\")\n",
    "bob = sy.VirtualMachine(name=\"bob\")\n",
    "\n",
    "alice_client = alice.get_client()\n",
    "bob_client = bob.get_client()"
   ]
  },
  {
   "cell_type": "markdown",
   "metadata": {},
   "source": [
    "## Create a session"
   ]
  },
  {
   "cell_type": "markdown",
   "metadata": {},
   "source": [
    "The session is used to send some config information only once between the parties.\n",
    "This information can be:\n",
    "* the ring size in which we do the computation\n",
    "* the precision and base\n",
    "* the approximation methods we are using for different functions (TODO)"
   ]
  },
  {
   "cell_type": "code",
   "execution_count": 7,
   "metadata": {},
   "outputs": [
    {
     "name": "stdout",
     "output_type": "stream",
     "text": [
      "<sympc.session.session.Session object at 0x7f086414cc20>\n"
     ]
    }
   ],
   "source": [
    "session = Session(parties=[alice_client, bob_client])\n",
    "print(session)"
   ]
  },
  {
   "cell_type": "markdown",
   "metadata": {},
   "source": [
    "## Send the session to all the parties"
   ]
  },
  {
   "cell_type": "code",
   "execution_count": 8,
   "metadata": {},
   "outputs": [],
   "source": [
    "Session.setup_mpc(session)"
   ]
  },
  {
   "cell_type": "code",
   "execution_count": 9,
   "metadata": {},
   "outputs": [],
   "source": [
    "x = MPCTensor(secret=torch.tensor([1,2,3,4]), session=session)"
   ]
  },
  {
   "cell_type": "code",
   "execution_count": 10,
   "metadata": {},
   "outputs": [
    {
     "name": "stdout",
     "output_type": "stream",
     "text": [
      "[MPCTensor]\n",
      "\t| <VirtualMachineClient: alice Client> -> ShareTensorPointer\n",
      "\t| <VirtualMachineClient: bob Client> -> ShareTensorPointer\n"
     ]
    }
   ],
   "source": [
    "print(x)"
   ]
  },
  {
   "cell_type": "code",
   "execution_count": 11,
   "metadata": {},
   "outputs": [
    {
     "name": "stdout",
     "output_type": "stream",
     "text": [
      "[ShareTensor]\n",
      "\t| [FixedPointEncoder]: precision: 16, base: 2\n",
      "\t| Data: tensor([4497613577609696743, 2913873267072586058, 5176484048171862467,\n",
      "         391990069951415545])\n",
      "[ShareTensor]\n",
      "\t| [FixedPointEncoder]: precision: 16, base: 2\n",
      "\t| Data: tensor([-4497613577609631207, -2913873267072454986, -5176484048171665859,\n",
      "         -391990069951153401])\n"
     ]
    }
   ],
   "source": [
    "# The values does not make sense for any user, unless they \"reconstruct\" the original tensor\n",
    "for val in x.share_ptrs:\n",
    "    print(val.get()) ## Attention! get() destroys the pointer"
   ]
  },
  {
   "cell_type": "code",
   "execution_count": 12,
   "metadata": {},
   "outputs": [],
   "source": [
    "x_secret = torch.tensor([1,2,3,4])\n",
    "x = MPCTensor(secret=x_secret, session=session)"
   ]
  },
  {
   "cell_type": "code",
   "execution_count": 13,
   "metadata": {},
   "outputs": [
    {
     "name": "stdout",
     "output_type": "stream",
     "text": [
      "tensor([1., 2., 3., 4.])\n"
     ]
    }
   ],
   "source": [
    "print(x.reconstruct()) ## Attention! Also reconstruct, destroys the pointers"
   ]
  },
  {
   "cell_type": "markdown",
   "metadata": {},
   "source": [
    "## Secret is shared by the orchestrator\n",
    "- the orchestrator generates shares locally\n",
    "- distributes them to the parties"
   ]
  },
  {
   "cell_type": "markdown",
   "metadata": {},
   "source": [
    "### Public Operations"
   ]
  },
  {
   "cell_type": "code",
   "execution_count": 14,
   "metadata": {},
   "outputs": [],
   "source": [
    "x_secret = torch.tensor([[1,2],[3,4]])\n",
    "x = MPCTensor(secret=x_secret, session=session)\n",
    "\n",
    "y = torch.tensor([[5,6],[7,8]])"
   ]
  },
  {
   "cell_type": "code",
   "execution_count": 15,
   "metadata": {},
   "outputs": [
    {
     "name": "stdout",
     "output_type": "stream",
     "text": [
      "[Priv + Pub] X + Y =\n",
      " tensor([[ 6.,  8.],\n",
      "        [10., 12.]])\n",
      "[Pub + Pub] X + Y =\n",
      " tensor([[ 6,  8],\n",
      "        [10, 12]])\n"
     ]
    }
   ],
   "source": [
    "print(\"[Priv + Pub] X + Y =\\n\", (x + y).reconstruct())\n",
    "print(\"[Pub + Pub] X + Y =\\n\", x_secret + y)"
   ]
  },
  {
   "cell_type": "code",
   "execution_count": 16,
   "metadata": {
    "scrolled": true
   },
   "outputs": [
    {
     "name": "stdout",
     "output_type": "stream",
     "text": [
      "[Priv - Pub] X - Y =\n",
      " tensor([[-4., -4.],\n",
      "        [-4., -4.]])\n",
      "[Pub - Pub] X - Y =\n",
      " tensor([[-4, -4],\n",
      "        [-4, -4]])\n"
     ]
    }
   ],
   "source": [
    "print(\"[Priv - Pub] X - Y =\\n\", (x - y).reconstruct())\n",
    "print(\"[Pub - Pub] X - Y =\\n\", x_secret - y)"
   ]
  },
  {
   "cell_type": "code",
   "execution_count": 17,
   "metadata": {
    "scrolled": true
   },
   "outputs": [
    {
     "name": "stdout",
     "output_type": "stream",
     "text": [
      "[Priv * Pub] X * Y =\n",
      " tensor([[ 5., 12.],\n",
      "        [21., 32.]])\n",
      "[Pub * Pub] X * Y =\n",
      " tensor([[ 5, 12],\n",
      "        [21, 32]])\n"
     ]
    }
   ],
   "source": [
    "print(\"[Priv * Pub] X * Y =\\n\", (x * y).reconstruct())\n",
    "print(\"[Pub * Pub] X * Y =\\n\", x_secret * y)"
   ]
  },
  {
   "cell_type": "code",
   "execution_count": 18,
   "metadata": {},
   "outputs": [
    {
     "name": "stdout",
     "output_type": "stream",
     "text": [
      "[Priv @ Pub] X * Y = tensor([[19., 22.],\n",
      "        [43., 50.]])\n",
      "[Pub @ Pub] X * Y = tensor([[19, 22],\n",
      "        [43, 50]])\n"
     ]
    }
   ],
   "source": [
    "print(\"[Priv @ Pub] X * Y =\\n\", (x @ y).reconstruct())\n",
    "print(\"[Pub @ Pub] X * Y =\\n\", x_secret @ y)"
   ]
  },
  {
   "cell_type": "markdown",
   "metadata": {},
   "source": [
    "### Private Operations"
   ]
  },
  {
   "cell_type": "code",
   "execution_count": 21,
   "metadata": {},
   "outputs": [],
   "source": [
    "x_secret = torch.tensor([[1,2],[3,4]])\n",
    "x = MPCTensor(secret=x_secret,session=session)\n",
    "\n",
    "y_secret = torch.tensor([[5,6],[7,8]])\n",
    "y = MPCTensor(secret=y_secret, session=session)"
   ]
  },
  {
   "cell_type": "code",
   "execution_count": 25,
   "metadata": {},
   "outputs": [
    {
     "name": "stdout",
     "output_type": "stream",
     "text": [
      "[Priv + Priv] X + Y =\n",
      " tensor([[ 6.,  8.],\n",
      "        [10., 12.]])\n",
      "[Pub + Pub] X + Y =\n",
      " tensor([[ 6,  8],\n",
      "        [10, 12]])\n"
     ]
    }
   ],
   "source": [
    "print(\"[Priv + Priv] X + Y =\\n\", (x + y).reconstruct())\n",
    "print(\"[Pub + Pub] X + Y =\\n\", x_secret + y_secret)"
   ]
  },
  {
   "cell_type": "code",
   "execution_count": 26,
   "metadata": {},
   "outputs": [
    {
     "name": "stdout",
     "output_type": "stream",
     "text": [
      "[Priv - Priv] X - Y =\n",
      " tensor([[-4., -4.],\n",
      "        [-4., -4.]])\n",
      "[Pub - Pub] X - Y =\n",
      " tensor([[-4, -4],\n",
      "        [-4, -4]])\n"
     ]
    }
   ],
   "source": [
    "print(\"[Priv - Priv] X - Y =\\n\", (x - y).reconstruct())\n",
    "print(\"[Pub - Pub] X - Y =\\n\", x_secret - y_secret)"
   ]
  },
  {
   "cell_type": "code",
   "execution_count": 27,
   "metadata": {},
   "outputs": [
    {
     "name": "stdout",
     "output_type": "stream",
     "text": [
      "[Priv * Priv] X * Y =\n",
      " tensor([[ 5., 12.],\n",
      "        [21., 32.]])\n",
      "[Pub * Pub] X * Y =\n",
      " tensor([[ 5, 12],\n",
      "        [21, 32]])\n"
     ]
    }
   ],
   "source": [
    "print(\"[Priv * Priv] X * Y =\\n\", (x * y).reconstruct())\n",
    "print(\"[Pub * Pub] X * Y =\\n\", x_secret * y_secret)"
   ]
  },
  {
   "cell_type": "code",
   "execution_count": 28,
   "metadata": {},
   "outputs": [
    {
     "name": "stdout",
     "output_type": "stream",
     "text": [
      "[Priv @ Pub] X * Y =\n",
      " tensor([[19., 22.],\n",
      "        [43., 50.]])\n",
      "[Pub @ Pub] X * Y =\n",
      " tensor([[19, 22],\n",
      "        [43, 50]])\n"
     ]
    }
   ],
   "source": [
    "print(\"[Priv @ Pub] X * Y =\\n\", (x @ y).reconstruct())\n",
    "print(\"[Pub @ Pub] X * Y =\\n\", x_secret @ y_secret)"
   ]
  },
  {
   "cell_type": "markdown",
   "metadata": {},
   "source": [
    "## Private Secret - owned by one party\n",
    "- are used more generators to construct PRZS (Pseudo-Random-Zero-Shares)\n",
    "- the party that has the secret would add it to their own share"
   ]
  },
  {
   "cell_type": "markdown",
   "metadata": {},
   "source": [
    "### Public Operations"
   ]
  },
  {
   "cell_type": "code",
   "execution_count": 44,
   "metadata": {},
   "outputs": [],
   "source": [
    "x_secret = alice_client.torch.Tensor([[1,2],[3,4]]) # at Alice\n",
    "x = MPCTensor(secret=x_secret, shape=(2, 2), session=session)\n",
    "\n",
    "y = torch.tensor([[5,6],[7,8]], dtype=torch.float)"
   ]
  },
  {
   "cell_type": "code",
   "execution_count": 37,
   "metadata": {},
   "outputs": [
    {
     "name": "stdout",
     "output_type": "stream",
     "text": [
      "[Priv + Pub] X + Y =\n",
      " tensor([[ 6.,  8.],\n",
      "        [10., 12.]])\n",
      "[Pub + Pub] X + Y =\n",
      " tensor([[ 6.,  8.],\n",
      "        [10., 12.]])\n"
     ]
    }
   ],
   "source": [
    "print(\"[Priv + Pub] X + Y =\\n\", (x + y).reconstruct())\n",
    "print(\"[Pub + Pub] X + Y =\\n\", (x_secret + y).get()) # On Alice side"
   ]
  },
  {
   "cell_type": "code",
   "execution_count": 38,
   "metadata": {},
   "outputs": [
    {
     "name": "stdout",
     "output_type": "stream",
     "text": [
      "[Priv - Pub] X - Y =\n",
      " tensor([[-4., -4.],\n",
      "        [-4., -4.]])\n",
      "[Pub - Pub] X - Y =\n",
      " tensor([[-4., -4.],\n",
      "        [-4., -4.]])\n"
     ]
    }
   ],
   "source": [
    "print(\"[Priv - Pub] X - Y =\\n\", (x - y).reconstruct())\n",
    "print(\"[Pub - Pub] X - Y =\\n\", (x_secret - y).get()) # On Alice side"
   ]
  },
  {
   "cell_type": "code",
   "execution_count": 39,
   "metadata": {},
   "outputs": [
    {
     "name": "stdout",
     "output_type": "stream",
     "text": [
      "[Priv * Pub] X * Y =\n",
      " tensor([[ 5., 12.],\n",
      "        [21., 32.]])\n",
      "[Pub * Pub] X * Y =\n",
      " tensor([[ 5., 12.],\n",
      "        [21., 32.]])\n"
     ]
    }
   ],
   "source": [
    "print(\"[Priv * Pub] X * Y =\\n\", (x * y).reconstruct())\n",
    "print(\"[Pub * Pub] X * Y =\\n\", (x_secret * y).get()) # On Alice side"
   ]
  },
  {
   "cell_type": "code",
   "execution_count": 46,
   "metadata": {},
   "outputs": [
    {
     "name": "stdout",
     "output_type": "stream",
     "text": [
      "[Priv @ Pub] X * Y =\n",
      " tensor([[19., 22.],\n",
      "        [43., 50.]])\n",
      "[Pub @ Pub] X * Y =\n",
      " tensor([[19., 22.],\n",
      "        [43., 50.]])\n"
     ]
    }
   ],
   "source": [
    "print(\"[Priv @ Pub] X * Y =\\n\", (x @ y).reconstruct())\n",
    "print(\"[Pub @ Pub] X * Y =\\n\", (x_secret @ y).get()) # On Alice side"
   ]
  },
  {
   "cell_type": "markdown",
   "metadata": {},
   "source": [
    "### Private Operations"
   ]
  },
  {
   "cell_type": "code",
   "execution_count": 57,
   "metadata": {},
   "outputs": [],
   "source": [
    "x_secret = alice_client.torch.Tensor([[1,2],[3,4]]) # at Alice\n",
    "x = MPCTensor(secret=x_secret, shape=(2, 2), session=session)\n",
    "\n",
    "y_secret = bob_client.torch.Tensor([[5,6],[7,8]]) # at Bob\n",
    "y = MPCTensor(secret=y_secret, shape=(2, 2), session=session)"
   ]
  },
  {
   "cell_type": "code",
   "execution_count": 58,
   "metadata": {},
   "outputs": [
    {
     "name": "stdout",
     "output_type": "stream",
     "text": [
      "[Priv + Priv] X + Y =\n",
      " tensor([[ 6.,  8.],\n",
      "        [10., 12.]])\n",
      "[Pub + Pub] X + Y =\n",
      " tensor([[ 6.,  8.],\n",
      "        [10., 12.]])\n"
     ]
    }
   ],
   "source": [
    "print(\"[Priv + Priv] X + Y =\\n\", (x + y).reconstruct())\n",
    "\n",
    "# We can not simply add them because they are at different locations\n",
    "# That is why we need to first get them before adding them\n",
    "print(\"[Pub + Pub] X + Y =\\n\", x_secret.get_copy() + y_secret.get_copy())"
   ]
  },
  {
   "cell_type": "code",
   "execution_count": 59,
   "metadata": {},
   "outputs": [
    {
     "name": "stdout",
     "output_type": "stream",
     "text": [
      "[Priv - Priv] X - Y =\n",
      " tensor([[-4., -4.],\n",
      "        [-4., -4.]])\n",
      "[Pub - Pub] X - Y =\n",
      " tensor([[-4., -4.],\n",
      "        [-4., -4.]])\n"
     ]
    }
   ],
   "source": [
    "print(\"[Priv - Priv] X - Y =\\n\", (x - y).reconstruct())\n",
    "print(\"[Pub - Pub] X - Y =\\n\", x_secret.get_copy() - y_secret.get_copy())"
   ]
  },
  {
   "cell_type": "code",
   "execution_count": 60,
   "metadata": {},
   "outputs": [
    {
     "name": "stdout",
     "output_type": "stream",
     "text": [
      "[Priv * Priv] X * Y =\n",
      " tensor([[ 5., 12.],\n",
      "        [21., 32.]])\n",
      "[Pub * Pub] X * Y =\n",
      " tensor([[ 5., 12.],\n",
      "        [21., 32.]])\n"
     ]
    }
   ],
   "source": [
    "print(\"[Priv * Priv] X * Y =\\n\", (x * y).reconstruct())\n",
    "print(\"[Pub * Pub] X * Y =\\n\", x_secret.get_copy() * y_secret.get_copy())"
   ]
  },
  {
   "cell_type": "code",
   "execution_count": 62,
   "metadata": {},
   "outputs": [
    {
     "name": "stdout",
     "output_type": "stream",
     "text": [
      "[Priv @ Pub] X * Y =\n",
      " tensor([[19., 22.],\n",
      "        [43., 50.]])\n",
      "[Pub @ Pub] X * Y =\n",
      " tensor([[19., 22.],\n",
      "        [43., 50.]])\n"
     ]
    }
   ],
   "source": [
    "print(\"[Priv @ Pub] X * Y =\\n\", (x @ y).reconstruct())\n",
    "print(\"[Pub @ Pub] X * Y =\\n\", x_secret.get_copy() @ y_secret.get_copy())"
   ]
  }
 ],
 "metadata": {
  "kernelspec": {
   "display_name": "Python 3",
   "language": "python",
   "name": "python3"
  },
  "language_info": {
   "codemirror_mode": {
    "name": "ipython",
    "version": 3
   },
   "file_extension": ".py",
   "mimetype": "text/x-python",
   "name": "python",
   "nbconvert_exporter": "python",
   "pygments_lexer": "ipython3",
   "version": "3.8.0"
  }
 },
 "nbformat": 4,
 "nbformat_minor": 4
}

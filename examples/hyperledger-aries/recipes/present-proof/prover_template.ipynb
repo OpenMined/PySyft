{
 "cells": [
  {
   "cell_type": "markdown",
   "id": "70a8ac37",
   "metadata": {},
   "source": [
    "# ACA-Py & ACC-Py Prover Template\n",
    "\n",
    "## Copy this template into the root folder of your notebook workspace to get started.\n",
    "\n",
    "## NOTE: A prover can only respond to proof requests if they have credentials previously stored in their wallet (unless using self-attested attributes). The prover_template works well with the templates in the issue-credential folder."
   ]
  },
  {
   "cell_type": "markdown",
   "id": "99564546",
   "metadata": {},
   "source": [
    "### Imports"
   ]
  },
  {
   "cell_type": "code",
   "execution_count": null,
   "id": "1a3f812d",
   "metadata": {},
   "outputs": [],
   "source": [
    "from aries_cloudcontroller import AriesAgentController\n",
    "import os\n",
    "from termcolor import colored"
   ]
  },
  {
   "cell_type": "markdown",
   "id": "4f97fb60",
   "metadata": {},
   "source": [
    "### Initialise the Agent Controller"
   ]
  },
  {
   "cell_type": "code",
   "execution_count": null,
   "id": "f1c8fafc",
   "metadata": {},
   "outputs": [],
   "source": [
    "api_key = os.getenv(\"ACAPY_ADMIN_API_KEY\")\n",
    "admin_url = os.getenv(\"ADMIN_URL\")\n",
    "\n",
    "print(\n",
    "    f\"Initialising a controller with admin api at {admin_url} and an api key of {api_key}\"\n",
    ")\n",
    "agent_controller = AriesAgentController(admin_url, api_key)"
   ]
  },
  {
   "cell_type": "markdown",
   "id": "cd218848",
   "metadata": {},
   "source": [
    "### Start a Webhook Server"
   ]
  },
  {
   "cell_type": "code",
   "execution_count": null,
   "id": "d97701e5",
   "metadata": {},
   "outputs": [],
   "source": [
    "webhook_port = os.getenv(\"WEBHOOK_PORT\")\n",
    "webhook_host = \"0.0.0.0\"\n",
    "\n",
    "agent_controller.init_webhook_server(webhook_host, webhook_port)\n",
    "await agent_controller.listen_webhooks()\n",
    "\n",
    "print(f\"Listening for webhooks from agent at http://{webhook_host}:{webhook_port}\")"
   ]
  },
  {
   "cell_type": "markdown",
   "id": "51eea9be",
   "metadata": {},
   "source": [
    "## Register Agent Event Listeners\n",
    "\n",
    "You can see some examples within the webhook_listeners recipe. Copy any relevant cells across and customise as needed."
   ]
  },
  {
   "cell_type": "code",
   "execution_count": null,
   "id": "93bb7fbc",
   "metadata": {},
   "outputs": [],
   "source": [
    "listeners = []\n",
    "\n",
    "# Receive connection messages\n",
    "def connections_handler(payload):\n",
    "    state = payload[\"state\"]\n",
    "    connection_id = payload[\"connection_id\"]\n",
    "    their_role = payload[\"their_role\"]\n",
    "    routing_state = payload[\"routing_state\"]\n",
    "\n",
    "    print(\"----------------------------------------------------------\")\n",
    "    print(\"Connection Webhook Event Received\")\n",
    "    print(\"Connection ID : \", connection_id)\n",
    "    print(\"State : \", state)\n",
    "    print(\"Routing State : \", routing_state)\n",
    "    print(\"Their Role : \", their_role)\n",
    "    print(\"----------------------------------------------------------\")\n",
    "\n",
    "    if state == \"invitation\":\n",
    "        # Your business logic\n",
    "        print(\"invitation\")\n",
    "    elif state == \"request\":\n",
    "        # Your business logic\n",
    "        print(\"request\")\n",
    "\n",
    "    elif state == \"response\":\n",
    "        # Your business logic\n",
    "        print(\"response\")\n",
    "    elif state == \"active\":\n",
    "        # Your business logic\n",
    "        print(\n",
    "            colored(\n",
    "                \"Connection ID: {0} is now active.\".format(connection_id),\n",
    "                \"green\",\n",
    "                attrs=[\"bold\"],\n",
    "            )\n",
    "        )\n",
    "\n",
    "\n",
    "connection_listener = {\"handler\": connections_handler, \"topic\": \"connections\"}\n",
    "\n",
    "listeners.append(connection_listener)\n",
    "\n",
    "\n",
    "def prover_proof_handler(payload):\n",
    "    role = payload[\"role\"]\n",
    "    connection_id = payload[\"connection_id\"]\n",
    "    pres_ex_id = payload[\"presentation_exchange_id\"]\n",
    "    state = payload[\"state\"]\n",
    "    print(\"\\n---------------------------------------------------------------------\\n\")\n",
    "    print(\"Handle present-proof\")\n",
    "    print(\"Connection ID : \", connection_id)\n",
    "    print(\"Presentation Exchange ID : \", pres_ex_id)\n",
    "    print(\"Protocol State : \", state)\n",
    "    print(\"Agent Role : \", role)\n",
    "    print(\"Initiator : \", payload[\"initiator\"])\n",
    "    print(\"\\n---------------------------------------------------------------------\\n\")\n",
    "\n",
    "    if state == \"request_received\":\n",
    "        presentation_request = payload[\"presentation_request\"]\n",
    "        print(\"Recieved Presentation Request\\n\")\n",
    "        print(\n",
    "            \"\\nRequested Attributes - Note the restrictions. These limit the credentials we could respond with\\n\"\n",
    "        )\n",
    "        print(presentation_request[\"requested_attributes\"])\n",
    "    elif state == \"presentation_sent\":\n",
    "        print(\n",
    "            \"The Presentation object is a bit overwhelming. Let's look at it in detail\\n\"\n",
    "        )\n",
    "\n",
    "    elif state == \"presentation_acked\":\n",
    "        print(\"Presentation has been acknowledged by the Issuer\")\n",
    "\n",
    "\n",
    "prover_listener = {\"topic\": \"present_proof\", \"handler\": prover_proof_handler}\n",
    "\n",
    "listeners.append(prover_listener)\n",
    "\n",
    "\n",
    "agent_controller.register_listeners(listeners)"
   ]
  },
  {
   "cell_type": "markdown",
   "id": "c14bfa7b",
   "metadata": {},
   "source": [
    "## Accept Invitation\n",
    "\n",
    "Copy an invitation object from another agent playing the role inviter (see the inviter_template recipe)"
   ]
  },
  {
   "cell_type": "code",
   "execution_count": null,
   "id": "a20d25af",
   "metadata": {},
   "outputs": [],
   "source": [
    "invitation = {<some agent invitation>}"
   ]
  },
  {
   "cell_type": "code",
   "execution_count": null,
   "id": "a5930b8f",
   "metadata": {},
   "outputs": [],
   "source": [
    "auto_accept = \"false\"\n",
    "alias = None\n",
    "\n",
    "invite_response = await agent_controller.connections.receive_invitation(\n",
    "    invitation, alias, auto_accept\n",
    ")\n",
    "connection_id = invite_response[\"connection_id\"]"
   ]
  },
  {
   "cell_type": "code",
   "execution_count": null,
   "id": "07a29a16",
   "metadata": {},
   "outputs": [],
   "source": [
    "# Label for the connection\n",
    "my_label = None\n",
    "# Endpoint you expect to recieve messages at\n",
    "my_endpoint = None\n",
    "\n",
    "accept_response = await agent_controller.connections.accept_invitation(\n",
    "    connection_id, my_label, my_endpoint\n",
    ")"
   ]
  },
  {
   "cell_type": "markdown",
   "id": "46595a01",
   "metadata": {},
   "source": [
    "## Send Trust Ping\n",
    "\n",
    "Once connection moves to response state one agent, either inviter or invitee needs to send a trust ping.\n",
    "\n",
    "Note: you may not need to run this cell. It depends one of the agents has the ACAPY_AUTO_PING_CONNECTION=true flag set."
   ]
  },
  {
   "cell_type": "code",
   "execution_count": null,
   "id": "75164de9",
   "metadata": {},
   "outputs": [],
   "source": [
    "comment = \"Some Optional Comment\"\n",
    "message = await agent_controller.messaging.trust_ping(connection_id, comment)"
   ]
  },
  {
   "cell_type": "markdown",
   "id": "e4c061f0",
   "metadata": {},
   "source": [
    "## Optional: Send Proposal\n",
    "\n",
    "Propose a presentation to a verifier"
   ]
  },
  {
   "cell_type": "code",
   "execution_count": null,
   "id": "d5136a6e",
   "metadata": {},
   "outputs": [],
   "source": [
    "# TODO: Example proposal object below\n",
    "\n",
    "# proposal_object = {\n",
    "#   \"auto_present\": true,\n",
    "#   \"comment\": \"string\",\n",
    "#   \"connection_id\": \"3fa85f64-5717-4562-b3fc-2c963f66afa6\",\n",
    "#   \"presentation_proposal\": {\n",
    "#     \"@type\": \"did:sov:BzCbsNYhMrjHiqZDTUASHg;spec/present-proof/1.0/presentation-preview\",\n",
    "#     \"attributes\": [\n",
    "#       {\n",
    "#         \"cred_def_id\": \"WgWxqztrNooG92RXvxSTWv:3:CL:20:tag\",\n",
    "#         \"mime-type\": \"image/jpeg\",\n",
    "#         \"name\": \"favourite_drink\",\n",
    "#         \"referent\": \"0\",\n",
    "#         \"value\": \"martini\"\n",
    "#       }\n",
    "#     ],\n",
    "#     \"predicates\": [\n",
    "#       {\n",
    "#         \"cred_def_id\": \"WgWxqztrNooG92RXvxSTWv:3:CL:20:tag\",\n",
    "#         \"name\": \"high_score\",\n",
    "#         \"predicate\": \">=\",\n",
    "#         \"threshold\": 0\n",
    "#       }\n",
    "#     ]\n",
    "#   },\n",
    "#   \"trace\": false\n",
    "# }\n",
    "\n",
    "# proposal_response = await agent_controller.proofs.send_proposal(proposal_object)"
   ]
  },
  {
   "cell_type": "markdown",
   "id": "b2dc76bd",
   "metadata": {},
   "source": [
    "## Fetch Presentation Records\n",
    "\n",
    "Before you can present a presentation, you must identify the presentation record which you wish to respond to with a presentation. This could also be done through the present_proof listeners which have access to a presentation record in the payload."
   ]
  },
  {
   "cell_type": "code",
   "execution_count": null,
   "id": "4649a81b",
   "metadata": {},
   "outputs": [],
   "source": [
    "# Optional Query parameters\n",
    "verifier_connection_id = connection_id\n",
    "thread_id = None\n",
    "state = \"request_received\"\n",
    "role = \"prover\"\n",
    "\n",
    "proof_records_response = await agent_controller.proofs.get_records(\n",
    "    verifier_connection_id, thread_id, state, role\n",
    ")\n",
    "\n",
    "# We fetch the first record from the response. You may want to customise this further\n",
    "presentation_record = proof_records_response[\"results\"][0]\n",
    "presentation_exchange_id = presentation_record[\"presentation_exchange_id\"]"
   ]
  },
  {
   "cell_type": "markdown",
   "id": "491db789",
   "metadata": {},
   "source": [
    "## Search For Available Credentials to Construct Presentation From\n",
    "\n",
    "The presentation record can be used to query your agents wallet and return all credentials that could be used to construct valid presentation"
   ]
  },
  {
   "cell_type": "code",
   "execution_count": null,
   "id": "50ae4a84",
   "metadata": {},
   "outputs": [],
   "source": [
    "# select credentials to provide for the proof\n",
    "credentials = await agent_controller.proofs.get_presentation_credentials(pres_ex_id)\n",
    "print(\n",
    "    \"Credentials stored that could be used to satisfy the request. In some situations you applications may have a choice which credential to reveal\\n\"\n",
    ")\n",
    "print(credentials)\n",
    "\n",
    "credentials_by_reft = {}\n",
    "revealed = {}\n",
    "self_attested = {}\n",
    "predicates = {}\n",
    "\n",
    "\n",
    "# Note we are working on a friendlier api to abstract this away\n",
    "\n",
    "if credentials:\n",
    "    for row in credentials:\n",
    "\n",
    "        for referent in row[\"presentation_referents\"]:\n",
    "            if referent not in credentials_by_reft:\n",
    "                credentials_by_reft[referent] = row\n",
    "\n",
    "for referent in payload[\"presentation_request\"][\"requested_attributes\"]:\n",
    "    if referent in credentials_by_reft:\n",
    "        revealed[referent] = {\n",
    "            \"cred_id\": credentials_by_reft[referent][\"cred_info\"][\"referent\"],\n",
    "            \"revealed\": True,\n",
    "        }\n",
    "\n",
    "\n",
    "print(\"\\nGenerate the proof\")\n",
    "presentation = {\n",
    "    \"requested_predicates\": predicates,\n",
    "    \"requested_attributes\": revealed,\n",
    "    \"self_attested_attributes\": self_attested,\n",
    "}\n",
    "print(presentation)"
   ]
  },
  {
   "cell_type": "markdown",
   "id": "4cba203a",
   "metadata": {},
   "source": [
    "## Send Presentation\n",
    "\n",
    "A presentation is sent in represent to a presentation record that has previously been created."
   ]
  },
  {
   "cell_type": "code",
   "execution_count": null,
   "id": "773de577",
   "metadata": {},
   "outputs": [],
   "source": [
    "presentation_response = await agent_controller.proofs.send_presentation(\n",
    "    presentation_exchange_id, presentation\n",
    ")"
   ]
  },
  {
   "cell_type": "markdown",
   "id": "50f06c14",
   "metadata": {},
   "source": [
    "## Your Own Business Logic\n",
    "\n",
    "Now you should have an established, active connection you can write any custom logic you want to engage with protocols with the connection"
   ]
  },
  {
   "cell_type": "code",
   "execution_count": null,
   "id": "d0aff875",
   "metadata": {},
   "outputs": [],
   "source": [
    "## Custom Logic"
   ]
  },
  {
   "cell_type": "code",
   "execution_count": null,
   "id": "34273210",
   "metadata": {},
   "outputs": [],
   "source": []
  },
  {
   "cell_type": "code",
   "execution_count": null,
   "id": "37d36a21",
   "metadata": {},
   "outputs": [],
   "source": []
  },
  {
   "cell_type": "markdown",
   "id": "18033f07",
   "metadata": {},
   "source": [
    "## Terminate Controller\n",
    "\n",
    "Whenever you have finished with this notebook, be sure to terminate the controller. This is especially important if your business logic runs across multiple notebooks."
   ]
  },
  {
   "cell_type": "code",
   "execution_count": null,
   "id": "babe8d0f",
   "metadata": {},
   "outputs": [],
   "source": [
    "await agent_controller.terminate()"
   ]
  }
 ],
 "metadata": {
  "kernelspec": {
   "display_name": "Python 3",
   "language": "python",
   "name": "python3"
  },
  "language_info": {
   "codemirror_mode": {
    "name": "ipython",
    "version": 3
   },
   "file_extension": ".py",
   "mimetype": "text/x-python",
   "name": "python",
   "nbconvert_exporter": "python",
   "pygments_lexer": "ipython3",
   "version": "3.7.6"
  }
 },
 "nbformat": 4,
 "nbformat_minor": 5
}

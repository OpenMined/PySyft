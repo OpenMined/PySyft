{
 "cells": [
  {
   "cell_type": "markdown",
   "id": "80e648a5",
   "metadata": {},
   "source": [
    "## ACA-Py Webhook Event Listeners"
   ]
  },
  {
   "cell_type": "code",
   "execution_count": 1,
   "id": "fe980ac7",
   "metadata": {},
   "outputs": [],
   "source": [
    "listeners = []"
   ]
  },
  {
   "cell_type": "markdown",
   "id": "7b3cb2a4",
   "metadata": {},
   "source": [
    "## Connection Listener\n",
    "\n",
    "This will get called in relation to the connections protocol"
   ]
  },
  {
   "cell_type": "code",
   "execution_count": null,
   "id": "a93c0978",
   "metadata": {},
   "outputs": [],
   "source": [
    "# Receive connection messages\n",
    "def connections_handler(payload):\n",
    "    state = payload[\"state\"]\n",
    "    connection_id = payload[\"connection_id\"]\n",
    "    their_role = payload[\"their_role\"]\n",
    "    routing_state = payload[\"routing_state\"]\n",
    "\n",
    "    print(\"----------------------------------------------------------\")\n",
    "    print(\"Connection Webhook Event Received\")\n",
    "    print(\"Connection ID : \", connection_id)\n",
    "    print(\"State : \", state)\n",
    "    print(\"Routing State : \", routing_state)\n",
    "    print(\"Their Role : \", their_role)\n",
    "    print(\"----------------------------------------------------------\")\n",
    "\n",
    "    if state == \"invitation\":\n",
    "        # Your business logic\n",
    "        print(\"invitation\")\n",
    "    elif state == \"request\":\n",
    "        # Your business logic\n",
    "        print(\"request\")\n",
    "\n",
    "    elif state == \"response\":\n",
    "        # Your business logic\n",
    "        print(\"response\")\n",
    "\n",
    "    elif state == \"active\":\n",
    "        # Your business logic\n",
    "        print(\n",
    "            colored(\n",
    "                \"Connection ID: {0} is now active.\".format(connection_id),\n",
    "                \"green\",\n",
    "                attrs=[\"bold\"],\n",
    "            )\n",
    "        )\n",
    "\n",
    "\n",
    "connection_listener = {\"handler\": connections_handler, \"topic\": \"connections\"}\n",
    "\n",
    "listeners.append(connection_listener)"
   ]
  },
  {
   "cell_type": "markdown",
   "id": "5caca4aa",
   "metadata": {},
   "source": [
    "## Issue Credential Listener"
   ]
  },
  {
   "cell_type": "markdown",
   "id": "87d6d74a",
   "metadata": {},
   "source": [
    "### Role: Issuer"
   ]
  },
  {
   "cell_type": "code",
   "execution_count": null,
   "id": "07c2e05b",
   "metadata": {},
   "outputs": [],
   "source": [
    "def issuer_handler(payload):\n",
    "    connection_id = payload[\"connection_id\"]\n",
    "    exchange_id = payload[\"credential_exchange_id\"]\n",
    "    state = payload[\"state\"]\n",
    "    role = payload[\"role\"]\n",
    "    print(\"\\n---------------------------------------------------\\n\")\n",
    "    print(\"Handle Issue Credential Webhook\")\n",
    "    print(f\"Connection ID : {connection_id}\")\n",
    "    print(f\"Credential exchange ID : {exchange_id}\")\n",
    "    print(\"Agent Protocol Role : \", role)\n",
    "    print(\"Protocol State : \", state)\n",
    "    print(\"\\n---------------------------------------------------\\n\")\n",
    "\n",
    "    if state == \"offer_sent\":\n",
    "        print(f\"Offering: {attributes}\")\n",
    "        ## YOUR LOGIC HERE\n",
    "    elif state == \"request_received\":\n",
    "        print(\"Request for credential received\")\n",
    "        ## YOUR LOGIC HERE\n",
    "    elif state == \"credential_sent\":\n",
    "        print(\"Credential Sent\")\n",
    "        ## YOUR LOGIC HERE\n",
    "\n",
    "\n",
    "issuer_listener = {\"topic\": \"issue_credential\", \"handler\": issuer_handler}\n",
    "\n",
    "listeners.append(issuer_listener)"
   ]
  },
  {
   "cell_type": "markdown",
   "id": "ce5cf1a9",
   "metadata": {},
   "source": [
    "### Role: Holder"
   ]
  },
  {
   "cell_type": "code",
   "execution_count": null,
   "id": "07a2aebc",
   "metadata": {},
   "outputs": [],
   "source": [
    "def holder_handler(payload):\n",
    "    connection_id = payload[\"connection_id\"]\n",
    "    exchange_id = payload[\"credential_exchange_id\"]\n",
    "    state = payload[\"state\"]\n",
    "    role = payload[\"role\"]\n",
    "    print(\"\\n---------------------------------------------------\\n\")\n",
    "    print(\"Handle Issue Credential Webhook\")\n",
    "    print(f\"Connection ID : {connection_id}\")\n",
    "    print(f\"Credential exchange ID : {exchange_id}\")\n",
    "    print(\"Agent Protocol Role : \", role)\n",
    "    print(\"Protocol State : \", state)\n",
    "    print(\"\\n---------------------------------------------------\\n\")\n",
    "    print(\"Handle Credential Webhook Payload\")\n",
    "\n",
    "    if state == \"offer_received\":\n",
    "        attributes = proposal[\"credential_proposal\"][\"attributes\"]\n",
    "        print(attributes)\n",
    "        print(\"Credential Offer Recieved\")\n",
    "        proposal = payload[\"credential_proposal_dict\"]\n",
    "        print(\n",
    "            \"The proposal dictionary is likely how you would understand and display a credential offer in your application\"\n",
    "        )\n",
    "        print(\"\\n\", proposal)\n",
    "        print(\"\\n This includes the set of attributes you are being offered\")\n",
    "        attributes = proposal[\"credential_proposal\"][\"attributes\"]\n",
    "        print(attributes)\n",
    "        ## YOUR LOGIC HERE\n",
    "    elif state == \"request_sent\":\n",
    "        print(\n",
    "            \"\\nA credential request object contains the commitment to the agents master secret using the nonce from the offer\"\n",
    "        )\n",
    "        ## YOUR LOGIC HERE\n",
    "    elif state == \"credential_received\":\n",
    "        print(\"Received Credential\")\n",
    "        ## YOUR LOGIC HERE\n",
    "    elif state == \"credential_acked\":\n",
    "        ## YOUR LOGIC HERE\n",
    "        credential = payload[\"credential\"]\n",
    "        print(\"Credential Stored\\n\")\n",
    "        print(credential)\n",
    "\n",
    "        print(\n",
    "            \"\\nThe referent acts as the identifier for retrieving the raw credential from the wallet\"\n",
    "        )\n",
    "        # Note: You would probably save this in your application database\n",
    "        credential_referent = credential[\"referent\"]\n",
    "        print(\"Referent\", credential_referent)\n",
    "\n",
    "\n",
    "holder_listener = {\"topic\": \"issue_credential\", \"handler\": holder_listener}\n",
    "\n",
    "listeners.append(holder_listener)"
   ]
  },
  {
   "cell_type": "markdown",
   "id": "64e876d8",
   "metadata": {},
   "source": [
    "## Present Proof Listener"
   ]
  },
  {
   "cell_type": "markdown",
   "id": "8362e137",
   "metadata": {},
   "source": [
    "### Role: Verifier"
   ]
  },
  {
   "cell_type": "code",
   "execution_count": null,
   "id": "a0a0f7f4",
   "metadata": {},
   "outputs": [],
   "source": [
    "def verifier_proof_handler(payload):\n",
    "    role = payload[\"role\"]\n",
    "    connection_id = payload[\"connection_id\"]\n",
    "    pres_ex_id = payload[\"presentation_exchange_id\"]\n",
    "    state = payload[\"state\"]\n",
    "    print(\"\\n---------------------------------------------------------------------\\n\")\n",
    "    print(\"Handle present-proof\")\n",
    "    print(\"Connection ID : \", connection_id)\n",
    "    print(\"Presentation Exchange ID : \", pres_ex_id)\n",
    "    print(\"Protocol State : \", state)\n",
    "    print(\"Agent Role : \", role)\n",
    "    print(\"Initiator : \", payload[\"initiator\"])\n",
    "    print(\"\\n---------------------------------------------------------------------\\n\")\n",
    "\n",
    "    if state == \"request_sent\":\n",
    "        print(\"Presentation Request\\n\")\n",
    "        print(payload[\"presentation_request\"])\n",
    "        print(\n",
    "            \"\\nThe presentation request is encoded in base64 and packaged into a DIDComm Message\\n\"\n",
    "        )\n",
    "        print(payload[\"presentation_request_dict\"])\n",
    "        print(\n",
    "            \"\\nNote the type defines the protocol present-proof and the message request-presentation\\n\"\n",
    "        )\n",
    "        print(payload[\"presentation_request_dict\"][\"@type\"])\n",
    "    elif state == \"presentation_received\":\n",
    "        print(\"Presentation Received\")\n",
    "        print(\n",
    "            \"We will not go into detail on this payload as it is comparable to the presentation_sent we looked at in the earlier cell.\"\n",
    "        )\n",
    "        print(\"This is the full payload\\n\")\n",
    "        print(payload)\n",
    "    else:\n",
    "        print(\"Paload \\n\")\n",
    "        print(payload)\n",
    "\n",
    "\n",
    "verifier_listener = {\"topic\": \"present_proof\", \"handler\": verifier_proof_handler}\n",
    "\n",
    "listeners.append(verifier_listener)"
   ]
  },
  {
   "cell_type": "markdown",
   "id": "0b85495d",
   "metadata": {},
   "source": [
    "### Role: Prover"
   ]
  },
  {
   "cell_type": "code",
   "execution_count": null,
   "id": "2c2bfaf3",
   "metadata": {},
   "outputs": [],
   "source": [
    "def prover_proof_handler(payload):\n",
    "    role = payload[\"role\"]\n",
    "    connection_id = payload[\"connection_id\"]\n",
    "    pres_ex_id = payload[\"presentation_exchange_id\"]\n",
    "    state = payload[\"state\"]\n",
    "    print(\"\\n---------------------------------------------------------------------\\n\")\n",
    "    print(\"Handle present-proof\")\n",
    "    print(\"Connection ID : \", connection_id)\n",
    "    print(\"Presentation Exchange ID : \", pres_ex_id)\n",
    "    print(\"Protocol State : \", state)\n",
    "    print(\"Agent Role : \", role)\n",
    "    print(\"Initiator : \", payload[\"initiator\"])\n",
    "    print(\"\\n---------------------------------------------------------------------\\n\")\n",
    "\n",
    "    if state == \"request_received\":\n",
    "        presentation_request = payload[\"presentation_request\"]\n",
    "        print(\"Recieved Presentation Request\\n\")\n",
    "        print(\n",
    "            \"\\nRequested Attributes - Note the restrictions. These limit the credentials we could respond with\\n\"\n",
    "        )\n",
    "        print(presentation_request[\"requested_attributes\"])\n",
    "    elif state == \"presentation_sent\":\n",
    "        print(\n",
    "            \"The Presentation object is a bit overwhelming. Let's look at it in detail\\n\"\n",
    "        )\n",
    "\n",
    "    elif state == \"presentation_acked\":\n",
    "        print(\"Presentation has been acknowledged by the Issuer\")\n",
    "\n",
    "\n",
    "prover_listener = {\"topic\": \"present_proof\", \"handler\": prover_proof_handler}\n",
    "\n",
    "listeners.append(prover_listener)"
   ]
  }
 ],
 "metadata": {
  "kernelspec": {
   "display_name": "Python 3",
   "language": "python",
   "name": "python3"
  },
  "language_info": {
   "codemirror_mode": {
    "name": "ipython",
    "version": 3
   },
   "file_extension": ".py",
   "mimetype": "text/x-python",
   "name": "python",
   "nbconvert_exporter": "python",
   "pygments_lexer": "ipython3",
   "version": "3.7.6"
  }
 },
 "nbformat": 4,
 "nbformat_minor": 5
}

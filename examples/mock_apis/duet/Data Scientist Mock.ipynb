{
 "cells": [
  {
   "cell_type": "code",
   "execution_count": null,
   "metadata": {},
   "outputs": [],
   "source": [
    "# import syft as sy\n",
    "import torch as th"
   ]
  },
  {
   "cell_type": "code",
   "execution_count": 6,
   "metadata": {},
   "outputs": [],
   "source": [
    "duet = sy.Duet(id='d2cd7dc8-8b93-4663-8f91-ab44fceba6af')"
   ]
  },
  {
   "cell_type": "code",
   "execution_count": 5,
   "metadata": {},
   "outputs": [
    {
     "data": {
      "text/html": [
       "<div>\n",
       "<style scoped>\n",
       "    .dataframe tbody tr th:only-of-type {\n",
       "        vertical-align: middle;\n",
       "    }\n",
       "\n",
       "    .dataframe tbody tr th {\n",
       "        vertical-align: top;\n",
       "    }\n",
       "\n",
       "    .dataframe thead th {\n",
       "        text-align: right;\n",
       "    }\n",
       "</style>\n",
       "<table border=\"1\" class=\"dataframe\">\n",
       "  <thead>\n",
       "    <tr style=\"text-align: right;\">\n",
       "      <th></th>\n",
       "      <th>tensor_id</th>\n",
       "      <th>shape</th>\n",
       "      <th>tags</th>\n",
       "      <th>description</th>\n",
       "    </tr>\n",
       "  </thead>\n",
       "  <tbody>\n",
       "    <tr>\n",
       "      <th>0</th>\n",
       "      <td>30ff7bccb79c6950eeaf56f0f7aefbeb3f0dd46a77d804...</td>\n",
       "      <td>(23, 53, 2)</td>\n",
       "      <td>[data]</td>\n",
       "      <td>A tensor I made for fun</td>\n",
       "    </tr>\n",
       "    <tr>\n",
       "      <th>1</th>\n",
       "      <td>4a30f185f73f4289a90532f148e594766970575c349d64...</td>\n",
       "      <td>(23, 53, 2)</td>\n",
       "      <td>[target]</td>\n",
       "      <td>A target I made for fun</td>\n",
       "    </tr>\n",
       "  </tbody>\n",
       "</table>\n",
       "</div>"
      ],
      "text/plain": [
       "                                           tensor_id        shape      tags  \\\n",
       "0  30ff7bccb79c6950eeaf56f0f7aefbeb3f0dd46a77d804...  (23, 53, 2)    [data]   \n",
       "1  4a30f185f73f4289a90532f148e594766970575c349d64...  (23, 53, 2)  [target]   \n",
       "\n",
       "               description  \n",
       "0  A tensor I made for fun  \n",
       "1  A target I made for fun  "
      ]
     },
     "execution_count": 5,
     "metadata": {},
     "output_type": "execute_result"
    }
   ],
   "source": [
    "# duet.tensors # displays a pandas dataframe\n",
    "\n",
    "import os\n",
    "from binascii import hexlify\n",
    "\n",
    "def get_key():\n",
    "    key = hexlify(os.urandom(32)).decode()\n",
    "    return key\n",
    "\n",
    "import pandas as pd\n",
    "#ignore this...it's just to support the mock API\n",
    "columns=[\"tensor_id\", \"shape\", \"tags\", \"description\"]\n",
    "data = [[get_key(), (23,53,2), ['data'], \"A tensor I made for fun\"],\n",
    "        [get_key(), (23,53,2), ['target'], \"A target I made for fun\"]\n",
    "       ]\n",
    "domain_keys = pd.DataFrame(columns=columns, data=data)\n",
    "domain_keys"
   ]
  },
  {
   "cell_type": "code",
   "execution_count": 3,
   "metadata": {},
   "outputs": [],
   "source": [
    "# Do standard data understanding steps\n",
    "data_ptr = duet['30ff7bccb79c6950eeaf56f0f7aefbeb3f0dd46a77d804'] # featch tensor by ID\n",
    "target_ptr = duet.search(anywhere=\"target\")[0] # search for target and get the first result\n",
    "\n",
    "avg = data_ptr.average()\n",
    "median = data_ptr.median()\n",
    "\n",
    "avg.request(name=\"My Result\", description=\"I calculated a mean and now I'd like to see it.\") # adds avg tensor to the duet's request queue, prints out that this is the first request (iteratively adds more over time)"
   ]
  },
  {
   "cell_type": "code",
   "execution_count": 8,
   "metadata": {},
   "outputs": [
    {
     "data": {
      "text/html": [
       "<div>\n",
       "<style scoped>\n",
       "    .dataframe tbody tr th:only-of-type {\n",
       "        vertical-align: middle;\n",
       "    }\n",
       "\n",
       "    .dataframe tbody tr th {\n",
       "        vertical-align: top;\n",
       "    }\n",
       "\n",
       "    .dataframe thead th {\n",
       "        text-align: right;\n",
       "    }\n",
       "</style>\n",
       "<table border=\"1\" class=\"dataframe\">\n",
       "  <thead>\n",
       "    <tr style=\"text-align: right;\">\n",
       "      <th></th>\n",
       "      <th>Status</th>\n",
       "      <th>request_name</th>\n",
       "      <th>request_id</th>\n",
       "      <th>request_description</th>\n",
       "      <th>tensor_id</th>\n",
       "      <th>tensor_shape</th>\n",
       "      <th>tensor_tags</th>\n",
       "      <th>tensor_description</th>\n",
       "    </tr>\n",
       "  </thead>\n",
       "  <tbody>\n",
       "    <tr>\n",
       "      <th>0</th>\n",
       "      <td>Pending</td>\n",
       "      <td>My Result</td>\n",
       "      <td>941432b15b80da5aa191acbea6cec77cb4a43254a2aaf5...</td>\n",
       "      <td>I calculated a mean and now I'd like to see it.</td>\n",
       "      <td>17fe99a843d2e1b14b0041a6c9bd0c6dd28474be999279...</td>\n",
       "      <td>(25, 32)</td>\n",
       "      <td>None</td>\n",
       "      <td>None</td>\n",
       "    </tr>\n",
       "    <tr>\n",
       "      <th>1</th>\n",
       "      <td>Pending</td>\n",
       "      <td>My Result</td>\n",
       "      <td>adba91a70687cba44dd0b115985eab7cfeaf4c50ec3de9...</td>\n",
       "      <td>I calculated a mean and now I'd like to see it.</td>\n",
       "      <td>dbfa62718f1bd34f174a265596671f9113a9e650c0b795...</td>\n",
       "      <td>(25, 32)</td>\n",
       "      <td>None</td>\n",
       "      <td>None</td>\n",
       "    </tr>\n",
       "  </tbody>\n",
       "</table>\n",
       "</div>"
      ],
      "text/plain": [
       "    Status request_name                                         request_id  \\\n",
       "0  Pending    My Result  941432b15b80da5aa191acbea6cec77cb4a43254a2aaf5...   \n",
       "1  Pending    My Result  adba91a70687cba44dd0b115985eab7cfeaf4c50ec3de9...   \n",
       "\n",
       "                               request_description  \\\n",
       "0  I calculated a mean and now I'd like to see it.   \n",
       "1  I calculated a mean and now I'd like to see it.   \n",
       "\n",
       "                                           tensor_id tensor_shape tensor_tags  \\\n",
       "0  17fe99a843d2e1b14b0041a6c9bd0c6dd28474be999279...     (25, 32)        None   \n",
       "1  dbfa62718f1bd34f174a265596671f9113a9e650c0b795...     (25, 32)        None   \n",
       "\n",
       "  tensor_description  \n",
       "0               None  \n",
       "1               None  "
      ]
     },
     "execution_count": 8,
     "metadata": {},
     "output_type": "execute_result"
    }
   ],
   "source": [
    "#duet.requests\n",
    "\n",
    "import pandas as pd\n",
    "#ignore this...it's just to support the mock API\n",
    "columns=[\"Status\", \"request_name\",\"request_id\", \"request_description\", \"tensor_id\", \"tensor_shape\", \"tensor_tags\", \"tensor_description\"]\n",
    "data = [[\"Pending\", \"My Result\", get_key(), \"I calculated a mean and now I'd like to see it.\", get_key(), (25,32), None, None],\n",
    "        [\"Pending\", \"My Result\", get_key(), \"I calculated a mean and now I'd like to see it.\", get_key(), (25,32), None, None],\n",
    "       ]\n",
    "domain_keys = pd.DataFrame(columns=columns, data=data)\n",
    "domain_keys"
   ]
  },
  {
   "cell_type": "code",
   "execution_count": null,
   "metadata": {},
   "outputs": [],
   "source": [
    "# withdraw a reqest\n",
    "duet.requests[1].withdraw()\n",
    "\n",
    "#OR I could use the ID\n",
    "\n",
    "duet['adba91a70687cba44dd0b115985eab7cfeaf4c50ec3de9'].withdraw()"
   ]
  },
  {
   "cell_type": "code",
   "execution_count": null,
   "metadata": {},
   "outputs": [],
   "source": [
    "avg = duet['14e3c825370b3af1be7d5d61fc05cb00393fd3df5b6326'].tensor"
   ]
  },
  {
   "cell_type": "code",
   "execution_count": null,
   "metadata": {},
   "outputs": [],
   "source": [
    "average_value = avg.get() # this will reveal the value of the average "
   ]
  },
  {
   "cell_type": "code",
   "execution_count": null,
   "metadata": {},
   "outputs": [],
   "source": []
  },
  {
   "cell_type": "code",
   "execution_count": null,
   "metadata": {},
   "outputs": [],
   "source": [
    "# Do ML\n",
    "\n",
    "# make a regression model in PyTorch\n",
    "model = ....\n",
    "\n",
    "model.score()"
   ]
  },
  {
   "cell_type": "code",
   "execution_count": null,
   "metadata": {},
   "outputs": [],
   "source": []
  },
  {
   "cell_type": "code",
   "execution_count": null,
   "metadata": {},
   "outputs": [],
   "source": []
  },
  {
   "cell_type": "code",
   "execution_count": null,
   "metadata": {},
   "outputs": [],
   "source": []
  }
 ],
 "metadata": {
  "kernelspec": {
   "display_name": "Python 3",
   "language": "python",
   "name": "python3"
  },
  "language_info": {
   "codemirror_mode": {
    "name": "ipython",
    "version": 3
   },
   "file_extension": ".py",
   "mimetype": "text/x-python",
   "name": "python",
   "nbconvert_exporter": "python",
   "pygments_lexer": "ipython3",
   "version": "3.7.6"
  }
 },
 "nbformat": 4,
 "nbformat_minor": 4
}

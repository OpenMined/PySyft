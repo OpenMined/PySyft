{
 "cells": [
  {
   "cell_type": "markdown",
   "metadata": {},
   "source": [
    "# Welcome to PySyft"
   ]
  },
  {
   "cell_type": "markdown",
   "metadata": {},
   "source": [
    "The goal of this notebook is to provide step by step explanation of the internal workings of PySyft for developers and have working examples of the API to play with."
   ]
  },
  {
   "cell_type": "markdown",
   "metadata": {},
   "source": [
    "**Note:** You should be able to run these without any issues. This notebook will be automatically run by CI and flagged if it fails. If your commit breaks this notebook, either fix the issue or add some information here for others."
   ]
  },
  {
   "cell_type": "code",
   "execution_count": 1,
   "metadata": {},
   "outputs": [],
   "source": [
    "assert True is True"
   ]
  },
  {
   "cell_type": "code",
   "execution_count": 2,
   "metadata": {},
   "outputs": [],
   "source": [
    "import sys\n",
    "import pytest\n",
    "import syft as sy\n",
    "from syft.core.node.common.service.auth import AuthorizationException\n",
    "from syft.util import key_emoji\n",
    "sy.LOG_FILE = \"syft_do.log\"\n",
    "sy.logger.remove()\n",
    "_ = sy.logger.add(sys.stdout, level=\"DEBUG\")"
   ]
  },
  {
   "cell_type": "markdown",
   "metadata": {},
   "source": [
    "Bob decides has some data he wants to share with Alice using PySyft.\n",
    "The first thing Bob needs to do is to create a Node to handle all the PySyft services he will need to safely and securely share his data with Alice."
   ]
  },
  {
   "cell_type": "code",
   "execution_count": 3,
   "metadata": {},
   "outputs": [
    {
     "name": "stdout",
     "output_type": "stream",
     "text": [
      "2020-11-03 14:41:59.573 | DEBUG    | syft.core.store.store_interface:post_init:186 - > Creating 🗃️ (MemoryStore) {}\n",
      "2020-11-03 14:41:59.576 | DEBUG    | syft.core.io.address:post_init:104 - > Creating 📱 Distracted Elion (Device)@<UID:🚬🚈>\n"
     ]
    }
   ],
   "source": [
    "some_device = sy.Device()"
   ]
  },
  {
   "cell_type": "markdown",
   "metadata": {},
   "source": [
    "This is a device, it is a Node and it has a name, id and address."
   ]
  },
  {
   "cell_type": "code",
   "execution_count": 4,
   "metadata": {},
   "outputs": [
    {
     "name": "stdout",
     "output_type": "stream",
     "text": [
      "Distracted Elion <UID:12d7cbca-652b-4f77-9e34-28c4f538ab07> <Address - Device:<SpecificLocation:..8ab07>>\n"
     ]
    }
   ],
   "source": [
    "print(some_device.name, some_device.id, some_device.address)"
   ]
  },
  {
   "cell_type": "markdown",
   "metadata": {},
   "source": [
    "The ID is a class called UID which is essentially a uuid. The address is a combination of up to four different locations, identifying the path to resolve the final target of the address."
   ]
  },
  {
   "cell_type": "code",
   "execution_count": 5,
   "metadata": {},
   "outputs": [
    {
     "name": "stdout",
     "output_type": "stream",
     "text": [
      "None <SpecificLocation:12d7cbca-652b-4f77-9e34-28c4f538ab07> None None\n",
      "<SpecificLocation:12d7cbca-652b-4f77-9e34-28c4f538ab07>\n"
     ]
    }
   ],
   "source": [
    "print(some_device.address.vm, some_device.address.device, some_device.address.domain, some_device.address.network)\n",
    "print(some_device.address.target_id)"
   ]
  },
  {
   "cell_type": "markdown",
   "metadata": {},
   "source": [
    "UIDs are hard to read and compare so we have a function which converts them to 2 x emoji.\n",
    "Just like the \"name\", Emoji uniqueness is not guaranteed but is very useful during debugging."
   ]
  },
  {
   "cell_type": "code",
   "execution_count": 6,
   "metadata": {},
   "outputs": [
    {
     "name": "stdout",
     "output_type": "stream",
     "text": [
      "📌 Distracted Elion (SpecificLocation)@<UID:🚬🚈>\n",
      "💠 [📱] Distracted Elion (Address)\n"
     ]
    }
   ],
   "source": [
    "print(some_device.address.target_id.pprint)\n",
    "print(some_device.address.pprint)"
   ]
  },
  {
   "cell_type": "markdown",
   "metadata": {},
   "source": [
    "Most things that are \"pretty printed\" include an emoji, a name and a class, additionally with a UID and \"visual UID\" emoji.  \n",
    "📌 some_device.address.target_id is a \"Location\" which is pointing to this specific location with a name and address.  \n",
    "💠 [📱] some_device.address is the \"Address\" of some_device (Think up to 4 x locations) in this case the contents of the List [] show it only has the Location of a device currently.\n",
    "\n",
    "**note:** Sometimes Emojis look like this: 🙓. The dynamically generated code point does not have an Emoji. A PR to fix this, would be welcome. 🙂"
   ]
  },
  {
   "cell_type": "code",
   "execution_count": 7,
   "metadata": {},
   "outputs": [
    {
     "name": "stdout",
     "output_type": "stream",
     "text": [
      "<UID:12d7cbca-652b-4f77-9e34-28c4f538ab07> <UID:12d7cbca-652b-4f77-9e34-28c4f538ab07>\n",
      "<UID:🚬🚈> == <UID:🚬🚈>\n",
      "📱 Distracted Elion (Device)@<UID:🚬🚈>\n"
     ]
    }
   ],
   "source": [
    "print(some_device.id, some_device.address.target_id.id)\n",
    "print(some_device.id.emoji(), \"==\", some_device.address.target_id.id.emoji())\n",
    "print(some_device.pprint)\n",
    "assert some_device.id == some_device.address.target_id.id"
   ]
  },
  {
   "cell_type": "markdown",
   "metadata": {},
   "source": [
    "Interaction with a Node like a device is always done through a client. Clients can \"send\" messages and Nodes can \"receive\" them. Bob needs to get a client for his device. But first it might be a good idea to name the device so that it's easier to follow."
   ]
  },
  {
   "cell_type": "code",
   "execution_count": 8,
   "metadata": {},
   "outputs": [
    {
     "name": "stdout",
     "output_type": "stream",
     "text": [
      "2020-11-03 14:41:59.609 | DEBUG    | syft.core.store.store_interface:post_init:186 - > Creating 🗃️ (MemoryStore) {}\n",
      "2020-11-03 14:41:59.612 | DEBUG    | syft.core.io.address:post_init:104 - > Creating 📱 Bob's iPhone (Device)@<UID:🚲🙼>\n"
     ]
    }
   ],
   "source": [
    "bob_device = sy.Device(name=\"Bob's iPhone\")\n",
    "assert bob_device.name == \"Bob's iPhone\""
   ]
  },
  {
   "cell_type": "code",
   "execution_count": 9,
   "metadata": {},
   "outputs": [
    {
     "name": "stdout",
     "output_type": "stream",
     "text": [
      "2020-11-03 14:41:59.652 | DEBUG    | syft.core.io.address:post_init:104 - > Creating 📡 [📱] Bob's iPhone Client (DeviceClient)@<UID:🚲🙼>\n"
     ]
    }
   ],
   "source": [
    "bob_device_client = bob_device.get_client()"
   ]
  },
  {
   "cell_type": "markdown",
   "metadata": {},
   "source": [
    "When you ask a node for a client you get a \"Client\" which is named after the device and has the same \"UID\" and \"Address\" (4 x Locations) as the device it was created from, and it will have a \"Route\" that connects it to the \"Device\""
   ]
  },
  {
   "cell_type": "code",
   "execution_count": 10,
   "metadata": {},
   "outputs": [],
   "source": [
    "assert bob_device_client.name == \"Bob's iPhone Client\""
   ]
  },
  {
   "cell_type": "code",
   "execution_count": 11,
   "metadata": {},
   "outputs": [
    {
     "name": "stdout",
     "output_type": "stream",
     "text": [
      "📡 [📱] Bob's iPhone Client (DeviceClient)@<UID:🚲🙼> 📱 Bob's iPhone (Device)@<UID:🚲🙼>\n",
      "<UID:🚲🙼> == <UID:🚲🙼>\n"
     ]
    }
   ],
   "source": [
    "print(bob_device_client.pprint, bob_device.pprint)\n",
    "print(bob_device.id.emoji(), \"==\", bob_device_client.id.emoji())\n",
    "assert bob_device.id == bob_device_client.device.id\n",
    "assert bob_device.address == bob_device_client.address"
   ]
  },
  {
   "cell_type": "markdown",
   "metadata": {},
   "source": [
    "📡 [📱] Bob's iPhone Client is a \"DeviceClient\" and it has the same UID and \"Address\" as Bob's Device"
   ]
  },
  {
   "cell_type": "markdown",
   "metadata": {},
   "source": [
    "Now we have something that can send and receive lets take it for a spin.\n",
    "Since everything is handled with a layer of abstraction the smallest unit of work is a \"SyftMessage\". Very little can be done without sending a message from a Client to a Node. There are many types of \"SyftMessage\" which boil down to whether or not they are Sync or Async, and whether or not they expect a response.\n",
    "\n",
    "Lets make a ReprMessage which simply gets a message and prints it at its destination Node.\n",
    "SyftMessage's all have an \"address\" field, without this they would never get delivered. They also generally have a msg_id which can be used to keep track of them."
   ]
  },
  {
   "cell_type": "code",
   "execution_count": 12,
   "metadata": {},
   "outputs": [
    {
     "name": "stdout",
     "output_type": "stream",
     "text": [
      "2020-11-03 14:41:59.669 | DEBUG    | syft.core.common.message:post_init:53 - > Creating ✉️  (ReprMessage) <UID:🙺🛟>\n",
      "✉️  (ReprMessage)\n",
      "💠 [📱] Bob's iPhone Client (Address)\n"
     ]
    }
   ],
   "source": [
    "msg = sy.ReprMessage(address=bob_device_client.address)\n",
    "print(msg.pprint)\n",
    "print(bob_device_client.address.pprint)\n",
    "assert msg.address == bob_device_client.address"
   ]
  },
  {
   "cell_type": "markdown",
   "metadata": {},
   "source": [
    "What type of Message is ReprMessage you ask?"
   ]
  },
  {
   "cell_type": "code",
   "execution_count": 13,
   "metadata": {},
   "outputs": [
    {
     "name": "stdout",
     "output_type": "stream",
     "text": [
      "[<class 'syft.core.node.common.service.repr_service.ReprMessage'>, <class 'syft.core.common.message.ImmediateSyftMessageWithoutReply'>, <class 'syft.core.common.message.ImmediateSyftMessage'>, <class 'syft.core.common.message.SyftMessageWithoutReply'>, <class 'syft.core.common.message.SyftMessage'>, <class 'syft.core.common.message.AbstractMessage'>, <class 'syft.core.common.object.ObjectWithID'>, <class 'syft.core.common.serde.serializable.Serializable'>, <class 'typing.Generic'>, <class 'object'>]\n"
     ]
    }
   ],
   "source": [
    "print(sy.ReprMessage.mro())"
   ]
  },
  {
   "cell_type": "markdown",
   "metadata": {},
   "source": [
    "It's an \"Immediate\" \"WithoutReply\" okay so Sync and no response."
   ]
  },
  {
   "cell_type": "markdown",
   "metadata": {},
   "source": [
    "Now lets send it, remember we need a Client not a Node for sending."
   ]
  },
  {
   "cell_type": "code",
   "execution_count": 14,
   "metadata": {},
   "outputs": [
    {
     "name": "stdout",
     "output_type": "stream",
     "text": [
      "2020-11-03 14:41:59.679 | DEBUG    | syft.core.common.message:post_init:53 - > Creating ✉️  (ReprMessage) <UID:🚀🙒>\n",
      "???\n",
      "2020-11-03 14:41:59.680 | DEBUG    | syft.core.node.common.client:send_immediate_msg_without_reply:247 - > 📡 [📱] Bob's iPhone Client (DeviceClient)@<UID:🚲🙼> Signing ✉️  (ReprMessage) with 🛇\n",
      "2020-11-03 14:41:59.681 | DEBUG    | syft.core.common.message:sign:87 - > Signing with 🛇\n",
      "2020-11-03 14:41:59.681 | DEBUG    | syft.core.common.serde.serializable:serialize:261 - Serializing <class 'syft.core.node.common.service.repr_service.ReprMessage'>\n",
      "2020-11-03 14:41:59.683 | DEBUG    | syft.core.common.message:post_init:53 - > Creating Signed ✉️ 🔏 (SignedImmediateSyftMessageWithoutReply) <UID:🚀🙒>\n",
      "2020-11-03 14:41:59.684 | DEBUG    | syft.core.node.common.client:send_immediate_msg_without_reply:249 - > Sending ✉️ 🔏 (SignedImmediateSyftMessageWithoutReply) 📡 [📱] Bob's iPhone Client (DeviceClient)@<UID:🚲🙼> ➡️  💠 [📱] Bob's iPhone Client (Address)\n",
      "2020-11-03 14:41:59.685 | DEBUG    | syft.core.io.route:send_immediate_msg_without_reply:164 - > Routing ✉️ 🔏 (SignedImmediateSyftMessageWithoutReply) via 🛣️  (SoloRoute)\n",
      "2020-11-03 14:41:59.688 | DEBUG    | syft.core.common.message:post_init:53 - > Creating ✉️  (ReprMessage) <UID:🚀🙒>\n",
      "2020-11-03 14:41:59.689 | DEBUG    | syft.core.node.common.node:recv_immediate_msg_without_reply:378 - > Received without Reply ✉️  (ReprMessage) <UID:25820bd2-7605-4947-9e66-750658301e53> @ 📱 Bob's iPhone (Device)@<UID:🚲🙼>\n",
      "2020-11-03 14:41:59.689 | DEBUG    | syft.core.node.common.node:process_message:443 - > Processing 📨 ✉️ 🔏 (SignedImmediateSyftMessageWithoutReply) @ 📱 Bob's iPhone (Device)@<UID:🚲🙼> <ReprMessage:25820bd2-7605-4947-9e66-750658301e53>\n",
      "2020-11-03 14:41:59.691 | DEBUG    | syft.core.node.common.node:process_message:445 - > Recipient Found ✉️ 🔏 (SignedImmediateSyftMessageWithoutReply)@<UID:🚲🙼> == 📱 Bob's iPhone (Device)@<UID:🚲🙼>\n",
      "2020-11-03 14:41:59.692 | DEBUG    | syft.core.node.common.service.auth:process:28 - > Checking ✉️  (ReprMessage) 🔑 Matches 📱 Bob's iPhone (Device)@<UID:🚲🙼> root 🗝\n",
      "2020-11-03 14:41:59.693 | DEBUG    | syft.core.node.common.service.auth:process:35 - > Matching 🔑 🛇  == 🛿  🗝\n",
      "2020-11-03 14:41:59.694 | DEBUG    | syft.core.node.common.service.auth:process:37 - > ❌ Auth FAILED ✉️  (ReprMessage)\n",
      "2020-11-03 14:41:59.695 | ERROR    | syft.core.node.common.node:recv_immediate_msg_without_reply:386 - Exception processing <ReprMessage:25820bd2-7605-4947-9e66-750658301e53>. You are not Authorized to access this service\n",
      "2020-11-03 14:41:59.695 | ERROR    | syft.core.node.common.node:recv_immediate_msg_without_reply:401 - Unable to format the private log message\n",
      "2020-11-03 14:41:59.696 | ERROR    | syft.core.node.common.node:recv_immediate_msg_without_reply:404 - An <class 'syft.core.node.common.service.auth.AuthorizationException'> has been triggered by <class 'syft.core.node.common.service.repr_service.ReprMessage'> \n",
      "2020-11-03 14:41:59.696 | ERROR    | syft.core.node.common.node:recv_immediate_msg_without_reply:409 - You are not Authorized to access this service\n"
     ]
    }
   ],
   "source": [
    "with pytest.raises(AuthorizationException):\n",
    "    bob_device_client.send_immediate_msg_without_reply(\n",
    "        msg=sy.ReprMessage(address=bob_device_client.address)\n",
    "    )"
   ]
  },
  {
   "cell_type": "markdown",
   "metadata": {},
   "source": [
    "Oh oh! Why did Auth fail? We'll we can see from the debug that the 🔑 (VerifyKey) of the sender was matched to the 🗝 (Root VerifyKey) of the destination and they don't match. This client does not have sufficient permission to send a ReprMessage."
   ]
  },
  {
   "cell_type": "markdown",
   "metadata": {},
   "source": [
    "First lets take a look at the keys involved."
   ]
  },
  {
   "cell_type": "code",
   "execution_count": 15,
   "metadata": {},
   "outputs": [
    {
     "name": "stdout",
     "output_type": "stream",
     "text": [
      "🔑 🛇\n",
      "🔑 🛿🗝 🛿\n"
     ]
    }
   ],
   "source": [
    "print(bob_device_client.keys)\n",
    "print(bob_device.keys)\n",
    "\n",
    "assert bob_device_client.verify_key != bob_device.root_verify_key"
   ]
  },
  {
   "cell_type": "markdown",
   "metadata": {},
   "source": [
    "Not to worry we have a solution, lets get a client which does have this permission."
   ]
  },
  {
   "cell_type": "code",
   "execution_count": 16,
   "metadata": {},
   "outputs": [
    {
     "name": "stdout",
     "output_type": "stream",
     "text": [
      "2020-11-03 14:41:59.737 | DEBUG    | syft.core.io.address:post_init:104 - > Creating 📡 [📱] Bob's iPhone Client (DeviceClient)@<UID:🚲🙼>\n"
     ]
    }
   ],
   "source": [
    "bob_device_client = bob_device.get_root_client()"
   ]
  },
  {
   "cell_type": "markdown",
   "metadata": {},
   "source": [
    "Lets take a look again."
   ]
  },
  {
   "cell_type": "code",
   "execution_count": 17,
   "metadata": {},
   "outputs": [
    {
     "name": "stdout",
     "output_type": "stream",
     "text": [
      "🔑 🚽\n",
      "🔑 🛿🗝 🚽\n"
     ]
    }
   ],
   "source": [
    "print(bob_device_client.keys)\n",
    "print(bob_device.keys)\n",
    "\n",
    "assert bob_device_client.verify_key == bob_device.root_verify_key"
   ]
  },
  {
   "cell_type": "markdown",
   "metadata": {},
   "source": [
    "Lets try sending the message again."
   ]
  },
  {
   "cell_type": "code",
   "execution_count": 18,
   "metadata": {},
   "outputs": [
    {
     "name": "stdout",
     "output_type": "stream",
     "text": [
      "2020-11-03 14:41:59.747 | DEBUG    | syft.core.common.message:post_init:53 - > Creating ✉️  (ReprMessage) <UID:🚈🛤>\n",
      "???\n",
      "2020-11-03 14:41:59.749 | DEBUG    | syft.core.node.common.client:send_immediate_msg_without_reply:247 - > 📡 [📱] Bob's iPhone Client (DeviceClient)@<UID:🚲🙼> Signing ✉️  (ReprMessage) with 🚽\n",
      "2020-11-03 14:41:59.750 | DEBUG    | syft.core.common.message:sign:87 - > Signing with 🚽\n",
      "2020-11-03 14:41:59.751 | DEBUG    | syft.core.common.serde.serializable:serialize:261 - Serializing <class 'syft.core.node.common.service.repr_service.ReprMessage'>\n",
      "2020-11-03 14:41:59.753 | DEBUG    | syft.core.common.message:post_init:53 - > Creating Signed ✉️ 🔏 (SignedImmediateSyftMessageWithoutReply) <UID:🚈🛤>\n",
      "2020-11-03 14:41:59.754 | DEBUG    | syft.core.node.common.client:send_immediate_msg_without_reply:249 - > Sending ✉️ 🔏 (SignedImmediateSyftMessageWithoutReply) 📡 [📱] Bob's iPhone Client (DeviceClient)@<UID:🚲🙼> ➡️  💠 [📱] Bob's iPhone Client (Address)\n",
      "2020-11-03 14:41:59.754 | DEBUG    | syft.core.io.route:send_immediate_msg_without_reply:164 - > Routing ✉️ 🔏 (SignedImmediateSyftMessageWithoutReply) via 🛣️  (SoloRoute)\n",
      "2020-11-03 14:41:59.757 | DEBUG    | syft.core.common.message:post_init:53 - > Creating ✉️  (ReprMessage) <UID:🚈🛤>\n",
      "2020-11-03 14:41:59.758 | DEBUG    | syft.core.node.common.node:recv_immediate_msg_without_reply:378 - > Received without Reply ✉️  (ReprMessage) <UID:91fd7387-d564-4659-8b38-3944fd5c93b8> @ 📱 Bob's iPhone (Device)@<UID:🚲🙼>\n",
      "2020-11-03 14:41:59.759 | DEBUG    | syft.core.node.common.node:process_message:443 - > Processing 📨 ✉️ 🔏 (SignedImmediateSyftMessageWithoutReply) @ 📱 Bob's iPhone (Device)@<UID:🚲🙼> <ReprMessage:91fd7387-d564-4659-8b38-3944fd5c93b8>\n",
      "2020-11-03 14:41:59.760 | DEBUG    | syft.core.node.common.node:process_message:445 - > Recipient Found ✉️ 🔏 (SignedImmediateSyftMessageWithoutReply)@<UID:🚲🙼> == 📱 Bob's iPhone (Device)@<UID:🚲🙼>\n",
      "2020-11-03 14:41:59.761 | DEBUG    | syft.core.node.common.service.auth:process:28 - > Checking ✉️  (ReprMessage) 🔑 Matches 📱 Bob's iPhone (Device)@<UID:🚲🙼> root 🗝\n",
      "2020-11-03 14:41:59.762 | DEBUG    | syft.core.node.common.service.auth:process:35 - > Matching 🔑 🚽  == 🚽  🗝\n",
      "2020-11-03 14:41:59.762 | DEBUG    | syft.core.node.common.service.auth:process:42 - > ✅ Auth Succeeded ✉️  (ReprMessage) 🔑 == 🗝\n",
      "Device:Bob's iPhone:<UID:73237b6b-b1e5-42dd-8f62-0e9ef12154fa>\n"
     ]
    }
   ],
   "source": [
    "bob_device_client.send_immediate_msg_without_reply(\n",
    "    msg=sy.ReprMessage(address=bob_device_client.address)\n",
    ")"
   ]
  },
  {
   "cell_type": "markdown",
   "metadata": {},
   "source": [
    "Woohoo! 🎉"
   ]
  },
  {
   "cell_type": "markdown",
   "metadata": {},
   "source": [
    "Okay so there's a lot going on but lets step through it.  \n",
    "The ReprMessage is created by the Client, and then signed with the Client's SigningKey.\n",
    "The SigningKey and VerifyKey are a pair and the VerifyKey is public and derived from the SigningKey.\n",
    "When we call get_root_client() we update the Node with the newly generated key on the Client so that the Client will now have permission to execute root actions.\n",
    "\n",
    "Behind every message type is a service which executes the message on a Node.\n",
    "To run ReprMessage on our Device Node, we can see that during startup it adds a service to handle these kinds of messages:\n",
    "```python\n",
    "# common/node.py\n",
    "self.immediate_services_without_reply.append(ReprService)\n",
    "````\n",
    "\n",
    "Not all actions / services require \"root\". To enable this a decorator is added like so:\n",
    "```python\n",
    "# repr_service.py\n",
    "class ReprService(ImmediateNodeServiceWithoutReply):\n",
    "    @staticmethod\n",
    "    @service_auth(root_only=True)\n",
    "```"
   ]
  },
  {
   "cell_type": "markdown",
   "metadata": {},
   "source": [
    "Okay so Bob has root access to his own device, but he wants to share some data and compute resources of this device to someone else. So to do that he needs to create a \"Sub Node\" which will be a \"VirtualMachine\". Think of this as a partition or slice of his device which can be allocated memory, storage and compute."
   ]
  },
  {
   "cell_type": "code",
   "execution_count": 19,
   "metadata": {},
   "outputs": [
    {
     "name": "stdout",
     "output_type": "stream",
     "text": [
      "2020-11-03 14:41:59.767 | DEBUG    | syft.core.store.store_interface:post_init:186 - > Creating 🗃️ (MemoryStore) {}\n",
      "2020-11-03 14:41:59.770 | DEBUG    | syft.core.io.address:post_init:104 - > Creating 🍰 Bob's VM (VirtualMachine)@<UID:🚂🚇>\n"
     ]
    }
   ],
   "source": [
    "bob_vm = sy.VirtualMachine(name=\"Bob's VM\")"
   ]
  },
  {
   "cell_type": "markdown",
   "metadata": {},
   "source": [
    "Since VirtualMachine is a Node (Server) it will need a Client to issue commands to it.\n",
    "Lets make one.  \n",
    "**note:** Why do we need a root client? The registration process is two-way and the Registered will need to update its address in response to a successful registration."
   ]
  },
  {
   "cell_type": "code",
   "execution_count": 20,
   "metadata": {},
   "outputs": [
    {
     "name": "stdout",
     "output_type": "stream",
     "text": [
      "2020-11-03 14:41:59.806 | DEBUG    | syft.core.io.address:post_init:104 - > Creating 📡 [🍰] Bob's VM Client (VirtualMachineClient)@<UID:🚂🚇>\n"
     ]
    }
   ],
   "source": [
    "bob_vm_client = bob_vm.get_root_client()"
   ]
  },
  {
   "cell_type": "markdown",
   "metadata": {},
   "source": [
    "Okay so now Bob has two Nodes and their respective clients, but they know nothing of each other.\n",
    "They both have addresses that only point to themselves."
   ]
  },
  {
   "cell_type": "code",
   "execution_count": 21,
   "metadata": {},
   "outputs": [
    {
     "name": "stdout",
     "output_type": "stream",
     "text": [
      "💠 [📱] Bob's iPhone Client (Address)\n",
      "💠 [🍰] Bob's VM Client (Address)\n"
     ]
    }
   ],
   "source": [
    "print(bob_device_client.address.pprint)\n",
    "print(bob_vm_client.address.pprint)"
   ]
  },
  {
   "cell_type": "markdown",
   "metadata": {},
   "source": [
    "Lets register Bob's vm with its device since the Device is higher up in the level of scope."
   ]
  },
  {
   "cell_type": "code",
   "execution_count": 22,
   "metadata": {},
   "outputs": [
    {
     "name": "stdout",
     "output_type": "stream",
     "text": [
      "2020-11-03 14:41:59.820 | DEBUG    | syft.core.node.common.client:register:148 - > Registering 📡 [🍰] Bob's VM Client (VirtualMachineClient)@<UID:🚂🚇> with 📡 [📱] Bob's iPhone Client (DeviceClient)@<UID:🚲🙼>\n",
      "2020-11-03 14:41:59.823 | DEBUG    | syft.core.common.message:post_init:53 - > Creating ✉️  (RegisterChildNodeMessage) <UID:🚀🚳>\n",
      "???\n",
      "2020-11-03 14:41:59.824 | DEBUG    | syft.core.node.common.client:send_immediate_msg_without_reply:247 - > 📡 [📱] Bob's iPhone Client (DeviceClient)@<UID:🚲🙼> Signing ✉️  (RegisterChildNodeMessage) with 🚽\n",
      "2020-11-03 14:41:59.825 | DEBUG    | syft.core.common.message:sign:87 - > Signing with 🚽\n",
      "2020-11-03 14:41:59.825 | DEBUG    | syft.core.common.serde.serializable:serialize:261 - Serializing <class 'syft.core.node.common.service.child_node_lifecycle_service.RegisterChildNodeMessage'>\n",
      "2020-11-03 14:41:59.826 | DEBUG    | syft.core.node.common.service.child_node_lifecycle_service:_object2proto:41 - > ✉️  -> Proto 🔢\n",
      "2020-11-03 14:41:59.828 | DEBUG    | syft.core.common.message:post_init:53 - > Creating Signed ✉️ 🔏 (SignedImmediateSyftMessageWithoutReply) <UID:🚀🚳>\n",
      "2020-11-03 14:41:59.829 | DEBUG    | syft.core.node.common.client:send_immediate_msg_without_reply:249 - > Sending ✉️ 🔏 (SignedImmediateSyftMessageWithoutReply) 📡 [📱] Bob's iPhone Client (DeviceClient)@<UID:🚲🙼> ➡️  💠 [📱] Bob's iPhone Client (Address)\n",
      "2020-11-03 14:41:59.830 | DEBUG    | syft.core.io.route:send_immediate_msg_without_reply:164 - > Routing ✉️ 🔏 (SignedImmediateSyftMessageWithoutReply) via 🛣️  (SoloRoute)\n",
      "2020-11-03 14:41:59.833 | DEBUG    | syft.core.common.message:post_init:53 - > Creating ✉️  (RegisterChildNodeMessage) <UID:🚀🚳>\n",
      "2020-11-03 14:41:59.834 | DEBUG    | syft.core.node.common.service.child_node_lifecycle_service:_proto2object:59 - > ✉️  <- 🔢 Proto\n",
      "2020-11-03 14:41:59.835 | DEBUG    | syft.core.node.common.node:recv_immediate_msg_without_reply:378 - > Received without Reply ✉️  (RegisterChildNodeMessage) <UID:a8d3d027-8988-4b95-b1ce-caf6fd2506c5> @ 📱 Bob's iPhone (Device)@<UID:🚲🙼>\n",
      "2020-11-03 14:41:59.836 | DEBUG    | syft.core.node.common.node:process_message:443 - > Processing 📨 ✉️ 🔏 (SignedImmediateSyftMessageWithoutReply) @ 📱 Bob's iPhone (Device)@<UID:🚲🙼> <RegisterChildNodeMessage:a8d3d027-8988-4b95-b1ce-caf6fd2506c5>\n",
      "2020-11-03 14:41:59.837 | DEBUG    | syft.core.node.common.node:process_message:445 - > Recipient Found ✉️ 🔏 (SignedImmediateSyftMessageWithoutReply)@<UID:🚲🙼> == 📱 Bob's iPhone (Device)@<UID:🚲🙼>\n",
      "2020-11-03 14:41:59.838 | DEBUG    | syft.core.node.common.service.auth:process:28 - > Checking ✉️  (RegisterChildNodeMessage) 🔑 Matches 📱 Bob's iPhone (Device)@<UID:🚲🙼> root 🗝\n",
      "2020-11-03 14:41:59.839 | DEBUG    | syft.core.node.common.service.auth:process:35 - > Matching 🔑 🚽  == 🚽  🗝\n",
      "2020-11-03 14:41:59.840 | DEBUG    | syft.core.node.common.service.auth:process:42 - > ✅ Auth Succeeded ✉️  (RegisterChildNodeMessage) 🔑 == 🗝\n",
      "2020-11-03 14:41:59.840 | DEBUG    | syft.core.node.common.service.child_node_lifecycle_service:process:78 - > Executing 💾 (ChildNodeLifecycleService) ✉️  (RegisterChildNodeMessage) on 📱 Bob's iPhone (Device)@<UID:🚲🙼>\n",
      "2020-11-03 14:41:59.842 | DEBUG    | syft.core.node.common.service.child_node_lifecycle_service:process:86 - > Saving 💾 💠 [🍰] Bob's VM Client (Address) @<UID:🚂🚇> with Key: <UID:dad46add-a8ce-4840-9f73-6142956a2e90> ➡️ <class 'syft.core.store.store_memory.MemoryStore'>\n",
      "2020-11-03 14:41:59.842 | DEBUG    | syft.core.node.common.service.child_node_lifecycle_service:process:105 - > Sending 👪 Update from 📱 Bob's iPhone (Device)@<UID:🚲🙼> back to @<UID:🚂🚇>\n",
      "2020-11-03 14:41:59.843 | DEBUG    | syft.core.node.common.service.child_node_lifecycle_service:process:108 - > Update Contains\n",
      "2020-11-03 14:41:59.845 | DEBUG    | syft.core.common.message:post_init:53 - > Creating ✉️  (HeritageUpdateMessage) <UID:🚲🙓>\n",
      "???\n",
      "2020-11-03 14:41:59.846 | DEBUG    | syft.core.node.common.client:send_immediate_msg_without_reply:247 - > 📡 [🍰📱] Bob's VM Client (VirtualMachineClient)@<UID:🚂🚇> Signing ✉️  (HeritageUpdateMessage) with 🛱\n",
      "2020-11-03 14:41:59.847 | DEBUG    | syft.core.common.message:sign:87 - > Signing with 🛱\n",
      "2020-11-03 14:41:59.848 | DEBUG    | syft.core.common.serde.serializable:serialize:261 - Serializing <class 'syft.core.node.common.service.heritage_update_service.HeritageUpdateMessage'>\n",
      "2020-11-03 14:41:59.850 | DEBUG    | syft.core.common.message:post_init:53 - > Creating Signed ✉️ 🔏 (SignedImmediateSyftMessageWithoutReply) <UID:🚲🙓>\n",
      "2020-11-03 14:41:59.851 | DEBUG    | syft.core.node.common.client:send_immediate_msg_without_reply:249 - > Sending ✉️ 🔏 (SignedImmediateSyftMessageWithoutReply) 📡 [🍰📱] Bob's VM Client (VirtualMachineClient)@<UID:🚂🚇> ➡️  💠 [🍰] Bob's VM Client (Address)\n",
      "2020-11-03 14:41:59.851 | DEBUG    | syft.core.io.route:send_immediate_msg_without_reply:164 - > Routing ✉️ 🔏 (SignedImmediateSyftMessageWithoutReply) via 🛣️  (SoloRoute)\n",
      "2020-11-03 14:41:59.855 | DEBUG    | syft.core.common.message:post_init:53 - > Creating ✉️  (HeritageUpdateMessage) <UID:🚲🙓>\n",
      "2020-11-03 14:41:59.856 | DEBUG    | syft.core.node.common.node:recv_immediate_msg_without_reply:378 - > Received without Reply ✉️  (HeritageUpdateMessage) <UID:3990ea0d-0e38-44b8-95a0-89d10665a8f1> @ 🍰 Bob's VM (VirtualMachine)@<UID:🚂🚇>\n",
      "2020-11-03 14:41:59.857 | DEBUG    | syft.core.node.common.node:process_message:443 - > Processing 📨 ✉️ 🔏 (SignedImmediateSyftMessageWithoutReply) @ 🍰 Bob's VM (VirtualMachine)@<UID:🚂🚇> <HeritageUpdateMessage:3990ea0d-0e38-44b8-95a0-89d10665a8f1>\n",
      "2020-11-03 14:41:59.858 | DEBUG    | syft.core.node.common.node:process_message:445 - > Recipient Found ✉️ 🔏 (SignedImmediateSyftMessageWithoutReply)@<UID:🚂🚇> == 🍰 Bob's VM (VirtualMachine)@<UID:🚂🚇>\n",
      "2020-11-03 14:41:59.859 | DEBUG    | syft.core.node.common.service.auth:process:28 - > Checking ✉️  (HeritageUpdateMessage) 🔑 Matches 🍰 Bob's VM (VirtualMachine)@<UID:🚂🚇> root 🗝\n",
      "2020-11-03 14:41:59.860 | DEBUG    | syft.core.node.common.service.auth:process:35 - > Matching 🔑 🛱  == 🛱  🗝\n",
      "2020-11-03 14:41:59.860 | DEBUG    | syft.core.node.common.service.auth:process:42 - > ✅ Auth Succeeded ✉️  (HeritageUpdateMessage) 🔑 == 🗝\n",
      "2020-11-03 14:41:59.861 | DEBUG    | syft.core.node.common.service.heritage_update_service:process:71 - > Executing ⚙️  (HeritageUpdateService) ✉️  (HeritageUpdateMessage) on 🍰 Bob's VM (VirtualMachine)@<UID:🚂🚇>\n",
      "2020-11-03 14:41:59.862 | DEBUG    | syft.core.node.common.node:known_child_nodes:291 - > 🍰 Bob's VM (VirtualMachine)@<UID:🚂🚇> Getting known Children Nodes\n",
      "2020-11-03 14:41:59.863 | DEBUG    | syft.core.node.common.node:known_child_nodes:312 - > Node 🍰 Bob's VM (VirtualMachine)@<UID:🚂🚇> has no children\n",
      "2020-11-03 14:41:59.864 | DEBUG    | syft.core.node.common.service.child_node_lifecycle_service:process:118 - > Forwarding ✉️  (RegisterChildNodeMessage) to @<UID:🚂🚇>\n"
     ]
    }
   ],
   "source": [
    "bob_device_client.register(client=bob_vm_client)"
   ]
  },
  {
   "cell_type": "markdown",
   "metadata": {},
   "source": [
    "Whoa.. Okay lots happening. As you can see there are two messages and two Authentications. The first one is the `RegisterChildNodeMessage` which is dispatched to the address of the Device. Once it is received it stores the address of the registering Node and then dispatches a new `HeritageUpdateMessage` back to the sender of the first message.\n",
    "\n",
    "**note:** This is not a reply message, this is a completely independent message that happens to be sent back to the sender's address.\n",
    "```python\n",
    "issubclass(RegisterChildNodeMessage, SignedImmediateSyftMessageWithoutReply)\n",
    "issubclass(HeritageUpdateService, SignedImmediateSyftMessageWithoutReply)\n",
    "```"
   ]
  },
  {
   "cell_type": "markdown",
   "metadata": {},
   "source": [
    "You will also notice that the Messages turned into Protobufs and then Signed.  \n",
    "Lets see how this works for `ReprMessage`."
   ]
  },
  {
   "cell_type": "markdown",
   "metadata": {},
   "source": [
    "1) ✉️  -> Proto 🔢"
   ]
  },
  {
   "cell_type": "markdown",
   "metadata": {},
   "source": [
    "Every message that is sent requires and the following method signatures:\n",
    "```python\n",
    "def _object2proto(self) -> ReprMessage_PB:\n",
    "def _proto2object(proto: ReprMessage_PB) -> \"ReprMessage\":\n",
    "def get_protobuf_schema() -> GeneratedProtocolMessageType:\n",
    "```"
   ]
  },
  {
   "cell_type": "markdown",
   "metadata": {},
   "source": [
    "The get_protobuf_schema method will tell the caller what Protobuf class to use, and then the _object2proto method will be called to turn normal python into a protobuf message."
   ]
  },
  {
   "cell_type": "markdown",
   "metadata": {},
   "source": [
    "```python\n",
    "# repr_service.py\n",
    "def _object2proto(self) -> ReprMessage_PB:\n",
    "    return ReprMessage_PB(\n",
    "        msg_id=self.id.serialize(), address=self.address.serialize(),\n",
    "    )\n",
    "```"
   ]
  },
  {
   "cell_type": "markdown",
   "metadata": {},
   "source": [
    "Any type which isn't a normal Protobuf primitive must be converted to a proto or serialized before being stored.\n",
    "**note:** self.id and self.address also need to be serialized so this will call their `_object2proto` methods.  "
   ]
  },
  {
   "cell_type": "markdown",
   "metadata": {},
   "source": [
    "At this point we are using code auto generated by `protoc` as per the build script:\n",
    "```bash\n",
    "$ ./scripts/build_proto.sh\n",
    "```"
   ]
  },
  {
   "cell_type": "markdown",
   "metadata": {},
   "source": [
    "Here is the .proto definition for `ReprMessage`"
   ]
  },
  {
   "cell_type": "markdown",
   "metadata": {},
   "source": [
    "```c++\n",
    "// repr_service.proto\n",
    "syntax = \"proto3\";\n",
    "\n",
    "package syft.core.node.common.service;\n",
    "\n",
    "import \"proto/core/common/common_object.proto\";\n",
    "import \"proto/core/io/address.proto\";\n",
    "\n",
    "message ReprMessage {\n",
    "    syft.core.common.UID msg_id = 1;\n",
    "    syft.core.io.Address address = 2;\n",
    "}\n",
    "```\n"
   ]
  },
  {
   "cell_type": "markdown",
   "metadata": {},
   "source": [
    "Once the message needs to be Deserialized the `_proto2object` method will be called."
   ]
  },
  {
   "cell_type": "markdown",
   "metadata": {},
   "source": [
    "```python\n",
    "# repr_service.py\n",
    "return ReprMessage(\n",
    "    msg_id=_deserialize(blob=proto.msg_id),\n",
    "    address=_deserialize(blob=proto.address),\n",
    ")\n",
    "```"
   ]
  },
  {
   "cell_type": "markdown",
   "metadata": {},
   "source": [
    "Two things to pay attention to:\n",
    "1) `RegisterChildNodeMessage` has caused Bob's Device Store has been updated with an entry representing Bob's VM Address  \n",
    "2) `HeritageUpdateService` has caused Bob's VM to update its address to now include the `SpecificLocation` of Bob's Device.\n",
    "\n",
    "**note:** The Address for Bob's VM Client inside the Store does not include the \"Device\" part of the \"Address\" (4 x Locations) since it isn't updated until after the HeritageUpdateService message is sent."
   ]
  },
  {
   "cell_type": "code",
   "execution_count": 23,
   "metadata": {},
   "outputs": [
    {
     "name": "stdout",
     "output_type": "stream",
     "text": [
      "🗃️ (MemoryStore) {\n",
      "  > <UID:dad46add-a8ce-4840-9f73-6142956a2e90> <UID:🚂🚇> => 🗂️ (StorableObject) (💠 [🍰] Bob's VM Client (Address))\n",
      "}\n",
      "💠 [🍰📱] Bob's VM Client (Address) <UID:🚂🚇>\n"
     ]
    }
   ],
   "source": [
    "print(bob_device.store.pprint)\n",
    "assert bob_vm_client.address.target_id.id in bob_device.store\n",
    "print(bob_vm_client.address.pprint, bob_vm_client.address.target_id.id.emoji())"
   ]
  },
  {
   "cell_type": "markdown",
   "metadata": {},
   "source": [
    "What about `SignedMessage`? If you read `message.py` you will see that all messages inherit from `SignedMessage` and as such contain the following fields."
   ]
  },
  {
   "cell_type": "markdown",
   "metadata": {},
   "source": [
    "```c++\n",
    "message SignedMessage {\n",
    "  syft.core.common.UID msg_id = 1;\n",
    "  string obj_type = 2;\n",
    "  bytes signature = 3;\n",
    "  bytes verify_key = 4;\n",
    "  bytes message = 5;\n",
    "}\n",
    "```"
   ]
  },
  {
   "cell_type": "markdown",
   "metadata": {},
   "source": [
    "The actual message is serialized and stored in the `message` field and a hash of its bytes is calculated using the Client's `SigningKey`."
   ]
  },
  {
   "cell_type": "markdown",
   "metadata": {},
   "source": [
    "The contents of `message` are not encrypted and can be read at any time by simply deserializing them."
   ]
  },
  {
   "cell_type": "code",
   "execution_count": 24,
   "metadata": {},
   "outputs": [],
   "source": [
    "def get_signed_message_bytes() -> bytes:\n",
    "    # return a signed message fixture containing the uid from get_uid\n",
    "    blob = (\n",
    "        b'\\n?syft.core.common.message.SignedImmediateSyftMessageWithoutReply\\x12\\xad\\x02\\n\\x12\\n\\x10\\x8c3\\x19,'\n",
    "        + b'\\xcd\\xd3\\xf3N\\xe2\\xb0\\xc6\\tU\\xdf\\x02u\\x126syft.core.node.common.service.repr_service.ReprMessage'\n",
    "        + b'\\x1a@@\\x82\\x13\\xfaC\\xfb=\\x01H\\x853\\x1e\\xceE+\\xc6\\xb5\\rX\\x16Z\\xb8l\\x02\\x10\\x8algj\\xd6U\\x11]\\xe9R\\x0ei'\n",
    "        + b'\\xd8\\xca\\xb9\\x00=\\xa1\\xeeoEa\\xe2C\\xa0\\x960\\xf7A\\xfad<(9\\xe1\\x8c\\x93\\xf1\\x0b\" \\x81\\xff\\xcc\\xfc7\\xc4U.'\n",
    "        + b'\\x8a*\\x1f\"=0\\x10\\xc4\\xef\\x88\\xc80\\x01\\xf0}3\\x0b\\xd4\\x97\\xad/P\\x8f\\x0f*{\\n6'\n",
    "        + b'syft.core.node.common.service.repr_service.ReprMessage\\x12A\\n\\x12\\n\\x10\\x8c3\\x19,'\n",
    "        + b'\\xcd\\xd3\\xf3N\\xe2\\xb0\\xc6\\tU\\xdf\\x02u\\x12+\\n\\x0bGoofy KirchH\\x01R\\x1a\\n\\x12\\n\\x10\\xfb\\x1b\\xb0g[\\xb7LI'\n",
    "        + b'\\xbe\\xce\\xe7\\x00\\xab\\n\\x15\\x14\\x12\\x04Test'\n",
    "    )\n",
    "    return blob"
   ]
  },
  {
   "cell_type": "code",
   "execution_count": 25,
   "metadata": {},
   "outputs": [
    {
     "name": "stdout",
     "output_type": "stream",
     "text": [
      "2020-11-03 14:41:59.882 | DEBUG    | syft.core.common.message:post_init:53 - > Creating ✉️  (ReprMessage) <UID:🙐🚶>\n",
      "2020-11-03 14:41:59.884 | DEBUG    | syft.core.common.message:post_init:53 - > Creating Signed ✉️ 🔏 (SignedImmediateSyftMessageWithoutReply) <UID:🙐🚶>\n",
      "2020-11-03 14:41:59.884 | DEBUG    | syft.core.common.message:_proto2object:195 - > ✉️ 🔏 <- 🔢 Proto\n"
     ]
    }
   ],
   "source": [
    "sig_msg = sy.deserialize(blob=get_signed_message_bytes(), from_bytes=True)"
   ]
  },
  {
   "cell_type": "markdown",
   "metadata": {},
   "source": [
    "We can get the nested message with a property called `message`"
   ]
  },
  {
   "cell_type": "code",
   "execution_count": 26,
   "metadata": {},
   "outputs": [
    {
     "name": "stdout",
     "output_type": "stream",
     "text": [
      "2020-11-03 14:41:59.891 | DEBUG    | syft.core.common.message:post_init:53 - > Creating ✉️  (ReprMessage) <UID:🙐🚶>\n",
      "✉️  (ReprMessage) ✉️ 🔏 (SignedImmediateSyftMessageWithoutReply)\n",
      "💠 [🍰] Goofy Kirch (Address) 💠 [🍰] Goofy Kirch (Address)\n",
      "<UID:🙍🛖> <UID:🙍🛖>\n"
     ]
    }
   ],
   "source": [
    "repr_msg = sig_msg.message\n",
    "print(repr_msg.pprint, sig_msg.pprint)\n",
    "print(repr_msg.address.pprint, sig_msg.address.pprint)\n",
    "print(repr_msg.address.target_id.id.emoji(), sig_msg.address.target_id.id.emoji())\n",
    "assert sig_msg.id == repr_msg.id\n",
    "assert sig_msg.address == repr_msg.address"
   ]
  },
  {
   "cell_type": "markdown",
   "metadata": {},
   "source": [
    "Notice the UID's of `ReprMessage` and `SignedImmediateSyftMessageWithoutReply` are the same. So are the delivery addresses."
   ]
  },
  {
   "cell_type": "markdown",
   "metadata": {},
   "source": [
    "But the original bytes are still available and serialization / deserialization or serde (ser/de) is bi-directional and reversible"
   ]
  },
  {
   "cell_type": "code",
   "execution_count": 27,
   "metadata": {},
   "outputs": [
    {
     "name": "stdout",
     "output_type": "stream",
     "text": [
      "2020-11-03 14:41:59.898 | DEBUG    | syft.core.common.serde.serializable:serialize:261 - Serializing <class 'syft.core.node.common.service.repr_service.ReprMessage'>\n",
      "✉️  (ReprMessage)  ⬅️  ✉️ 🔏 (SignedImmediateSyftMessageWithoutReply)\n"
     ]
    }
   ],
   "source": [
    "assert repr_msg.serialize(to_bytes=True) == sig_msg.serialized_message\n",
    "print(repr_msg.pprint, \" ⬅️ \", sig_msg.pprint)"
   ]
  },
  {
   "cell_type": "code",
   "execution_count": 28,
   "metadata": {},
   "outputs": [],
   "source": [
    "from nacl.signing import SigningKey, VerifyKey\n",
    "def get_signing_key() -> SigningKey:\n",
    "    # return a the signing key used to sign the get_signed_message_bytes fixture\n",
    "    key = \"e89ff2e651b42393b6ecb5956419088781309d953d72bd73a0968525a3a6a951\"\n",
    "    return SigningKey(bytes.fromhex(key))"
   ]
  },
  {
   "cell_type": "markdown",
   "metadata": {},
   "source": [
    "Lets try re-signing it with the same key it was signed with."
   ]
  },
  {
   "cell_type": "code",
   "execution_count": 29,
   "metadata": {},
   "outputs": [
    {
     "name": "stdout",
     "output_type": "stream",
     "text": [
      "2020-11-03 14:41:59.910 | DEBUG    | syft.core.common.message:sign:87 - > Signing with 🛳\n",
      "2020-11-03 14:41:59.911 | DEBUG    | syft.core.common.serde.serializable:serialize:261 - Serializing <class 'syft.core.node.common.service.repr_service.ReprMessage'>\n",
      "2020-11-03 14:41:59.913 | DEBUG    | syft.core.common.message:post_init:53 - > Creating Signed ✉️ 🔏 (SignedImmediateSyftMessageWithoutReply) <UID:🙐🚶>\n"
     ]
    }
   ],
   "source": [
    "sig_msg_comp = repr_msg.sign(signing_key=get_signing_key())"
   ]
  },
  {
   "cell_type": "code",
   "execution_count": 30,
   "metadata": {},
   "outputs": [
    {
     "name": "stdout",
     "output_type": "stream",
     "text": [
      "SigningKey: 🛭\n",
      "VerifyKey: 🛳\n",
      "<class 'nacl.signing.SigningKey'> <class 'nacl.signing.VerifyKey'>\n",
      "🔑 🛳 == 🛳 🔑\n",
      "b'\\x81\\xff\\xcc\\xfc7\\xc4U.\\x8a*\\x1f\"=0\\x10\\xc4\\xef\\x88\\xc80\\x01\\xf0}3\\x0b\\xd4\\x97\\xad/P\\x8f\\x0f'\n"
     ]
    }
   ],
   "source": [
    "signing_key = get_signing_key()\n",
    "verify_key = signing_key.verify_key\n",
    "\n",
    "print(f\"SigningKey: {key_emoji(key=signing_key)}\")\n",
    "print(f\"VerifyKey: {key_emoji(key=verify_key)}\")\n",
    "print(type(signing_key), type(verify_key))\n",
    "print(f\"🔑 {key_emoji(key=sig_msg.verify_key)} == {key_emoji(key=verify_key)} 🔑\")\n",
    "print(bytes(verify_key))\n",
    "\n",
    "assert sig_msg_comp == sig_msg\n",
    "assert sig_msg.verify_key == verify_key\n",
    "assert VerifyKey(bytes(verify_key)) == verify_key"
   ]
  },
  {
   "cell_type": "markdown",
   "metadata": {},
   "source": [
    "The message is signed with the `SigningKey`, a consistent `VerifyKey` is derived from the `SigningKey`. Both keys can be transformed to bytes and back easily."
   ]
  },
  {
   "cell_type": "markdown",
   "metadata": {},
   "source": [
    "Okay now Bob wants to protect his Device(s) and its / their VM(s). To do that he needs to add them to a higher level Node called a `Domain`."
   ]
  },
  {
   "cell_type": "code",
   "execution_count": 31,
   "metadata": {},
   "outputs": [
    {
     "name": "stdout",
     "output_type": "stream",
     "text": [
      "2020-11-03 14:41:59.927 | DEBUG    | syft.core.store.store_interface:post_init:186 - > Creating 🗃️ (MemoryStore) {}\n",
      "2020-11-03 14:41:59.930 | DEBUG    | syft.core.io.address:post_init:104 - > Creating 🏰 Bob's Domain (Domain)@<UID:🚬🚯>\n",
      "2020-11-03 14:41:59.966 | DEBUG    | syft.core.io.address:post_init:104 - > Creating 📡 [🏰] Bob's Domain Client (DomainClient)@<UID:🚬🚯>\n"
     ]
    }
   ],
   "source": [
    "bob_domain = sy.Domain(name=\"Bob's Domain\")\n",
    "bob_domain_client = bob_domain.get_root_client()"
   ]
  },
  {
   "cell_type": "markdown",
   "metadata": {},
   "source": [
    "Okay lets follow the same procedure and link up these nodes."
   ]
  },
  {
   "cell_type": "code",
   "execution_count": 32,
   "metadata": {},
   "outputs": [
    {
     "name": "stdout",
     "output_type": "stream",
     "text": [
      "💠 [🏰] Bob's Domain (Address)\n"
     ]
    }
   ],
   "source": [
    "print(bob_domain.address.pprint)"
   ]
  },
  {
   "cell_type": "code",
   "execution_count": 33,
   "metadata": {},
   "outputs": [
    {
     "name": "stdout",
     "output_type": "stream",
     "text": [
      "2020-11-03 14:41:59.978 | DEBUG    | syft.core.node.common.client:register:148 - > Registering 📡 [📱] Bob's iPhone Client (DeviceClient)@<UID:🚲🙼> with 📡 [🏰] Bob's Domain Client (DomainClient)@<UID:🚬🚯>\n",
      "2020-11-03 14:41:59.980 | DEBUG    | syft.core.common.message:post_init:53 - > Creating ✉️  (RegisterChildNodeMessage) <UID:🚭🙾>\n",
      "???\n",
      "2020-11-03 14:41:59.982 | DEBUG    | syft.core.node.common.client:send_immediate_msg_without_reply:247 - > 📡 [🏰] Bob's Domain Client (DomainClient)@<UID:🚬🚯> Signing ✉️  (RegisterChildNodeMessage) with 🜟\n",
      "2020-11-03 14:41:59.982 | DEBUG    | syft.core.common.message:sign:87 - > Signing with 🜟\n",
      "2020-11-03 14:41:59.983 | DEBUG    | syft.core.common.serde.serializable:serialize:261 - Serializing <class 'syft.core.node.common.service.child_node_lifecycle_service.RegisterChildNodeMessage'>\n",
      "2020-11-03 14:41:59.984 | DEBUG    | syft.core.node.common.service.child_node_lifecycle_service:_object2proto:41 - > ✉️  -> Proto 🔢\n",
      "2020-11-03 14:41:59.986 | DEBUG    | syft.core.common.message:post_init:53 - > Creating Signed ✉️ 🔏 (SignedImmediateSyftMessageWithoutReply) <UID:🚭🙾>\n",
      "2020-11-03 14:41:59.987 | DEBUG    | syft.core.node.common.client:send_immediate_msg_without_reply:249 - > Sending ✉️ 🔏 (SignedImmediateSyftMessageWithoutReply) 📡 [🏰] Bob's Domain Client (DomainClient)@<UID:🚬🚯> ➡️  💠 [🏰] Bob's Domain Client (Address)\n",
      "2020-11-03 14:41:59.988 | DEBUG    | syft.core.io.route:send_immediate_msg_without_reply:164 - > Routing ✉️ 🔏 (SignedImmediateSyftMessageWithoutReply) via 🛣️  (SoloRoute)\n",
      "2020-11-03 14:41:59.991 | DEBUG    | syft.core.common.message:post_init:53 - > Creating ✉️  (RegisterChildNodeMessage) <UID:🚭🙾>\n",
      "2020-11-03 14:41:59.992 | DEBUG    | syft.core.node.common.service.child_node_lifecycle_service:_proto2object:59 - > ✉️  <- 🔢 Proto\n",
      "2020-11-03 14:41:59.993 | DEBUG    | syft.core.node.common.node:recv_immediate_msg_without_reply:378 - > Received without Reply ✉️  (RegisterChildNodeMessage) <UID:eda9b8f1-1ec1-4a13-aaef-1393c1802d2c> @ 🏰 Bob's Domain (Domain)@<UID:🚬🚯>\n",
      "2020-11-03 14:41:59.994 | DEBUG    | syft.core.node.common.node:process_message:443 - > Processing 📨 ✉️ 🔏 (SignedImmediateSyftMessageWithoutReply) @ 🏰 Bob's Domain (Domain)@<UID:🚬🚯> <RegisterChildNodeMessage:eda9b8f1-1ec1-4a13-aaef-1393c1802d2c>\n",
      "2020-11-03 14:41:59.995 | DEBUG    | syft.core.node.common.node:process_message:445 - > Recipient Found ✉️ 🔏 (SignedImmediateSyftMessageWithoutReply)@<UID:🚬🚯> == 🏰 Bob's Domain (Domain)@<UID:🚬🚯>\n",
      "2020-11-03 14:41:59.996 | DEBUG    | syft.core.node.common.service.auth:process:28 - > Checking ✉️  (RegisterChildNodeMessage) 🔑 Matches 🏰 Bob's Domain (Domain)@<UID:🚬🚯> root 🗝\n",
      "2020-11-03 14:41:59.998 | DEBUG    | syft.core.node.common.service.auth:process:35 - > Matching 🔑 🜟  == 🜟  🗝\n",
      "2020-11-03 14:41:59.999 | DEBUG    | syft.core.node.common.service.auth:process:42 - > ✅ Auth Succeeded ✉️  (RegisterChildNodeMessage) 🔑 == 🗝\n",
      "2020-11-03 14:42:00.000 | DEBUG    | syft.core.node.common.service.child_node_lifecycle_service:process:78 - > Executing 💾 (ChildNodeLifecycleService) ✉️  (RegisterChildNodeMessage) on 🏰 Bob's Domain (Domain)@<UID:🚬🚯>\n",
      "2020-11-03 14:42:00.001 | DEBUG    | syft.core.node.common.service.child_node_lifecycle_service:process:86 - > Saving 💾 💠 [📱] Bob's iPhone Client (Address) @<UID:🚲🙼> with Key: <UID:73237b6b-b1e5-42dd-8f62-0e9ef12154fa> ➡️ <class 'syft.core.store.store_memory.MemoryStore'>\n",
      "2020-11-03 14:42:00.002 | DEBUG    | syft.core.node.common.service.child_node_lifecycle_service:process:105 - > Sending 👪 Update from 🏰 Bob's Domain (Domain)@<UID:🚬🚯> back to @<UID:🚲🙼>\n",
      "2020-11-03 14:42:00.003 | DEBUG    | syft.core.node.common.service.child_node_lifecycle_service:process:108 - > Update Contains\n",
      "2020-11-03 14:42:00.004 | DEBUG    | syft.core.common.message:post_init:53 - > Creating ✉️  (HeritageUpdateMessage) <UID:🙿🚉>\n",
      "???\n",
      "2020-11-03 14:42:00.005 | DEBUG    | syft.core.node.common.client:send_immediate_msg_without_reply:247 - > 📡 [📱🏰] Bob's iPhone Client (DeviceClient)@<UID:🚲🙼> Signing ✉️  (HeritageUpdateMessage) with 🚽\n",
      "2020-11-03 14:42:00.006 | DEBUG    | syft.core.common.message:sign:87 - > Signing with 🚽\n",
      "2020-11-03 14:42:00.006 | DEBUG    | syft.core.common.serde.serializable:serialize:261 - Serializing <class 'syft.core.node.common.service.heritage_update_service.HeritageUpdateMessage'>\n",
      "2020-11-03 14:42:00.009 | DEBUG    | syft.core.common.message:post_init:53 - > Creating Signed ✉️ 🔏 (SignedImmediateSyftMessageWithoutReply) <UID:🙿🚉>\n",
      "2020-11-03 14:42:00.010 | DEBUG    | syft.core.node.common.client:send_immediate_msg_without_reply:249 - > Sending ✉️ 🔏 (SignedImmediateSyftMessageWithoutReply) 📡 [📱🏰] Bob's iPhone Client (DeviceClient)@<UID:🚲🙼> ➡️  💠 [📱] Bob's iPhone Client (Address)\n",
      "2020-11-03 14:42:00.011 | DEBUG    | syft.core.io.route:send_immediate_msg_without_reply:164 - > Routing ✉️ 🔏 (SignedImmediateSyftMessageWithoutReply) via 🛣️  (SoloRoute)\n",
      "2020-11-03 14:42:00.014 | DEBUG    | syft.core.common.message:post_init:53 - > Creating ✉️  (HeritageUpdateMessage) <UID:🙿🚉>\n",
      "2020-11-03 14:42:00.015 | DEBUG    | syft.core.node.common.node:recv_immediate_msg_without_reply:378 - > Received without Reply ✉️  (HeritageUpdateMessage) <UID:9093d3b4-f928-4b16-8fcc-9e5d56d82e24> @ 📱 Bob's iPhone (Device)@<UID:🚲🙼>\n",
      "2020-11-03 14:42:00.016 | DEBUG    | syft.core.node.common.node:process_message:443 - > Processing 📨 ✉️ 🔏 (SignedImmediateSyftMessageWithoutReply) @ 📱 Bob's iPhone (Device)@<UID:🚲🙼> <HeritageUpdateMessage:9093d3b4-f928-4b16-8fcc-9e5d56d82e24>\n",
      "2020-11-03 14:42:00.018 | DEBUG    | syft.core.node.common.node:process_message:445 - > Recipient Found ✉️ 🔏 (SignedImmediateSyftMessageWithoutReply)@<UID:🚲🙼> == 📱 Bob's iPhone (Device)@<UID:🚲🙼>\n",
      "2020-11-03 14:42:00.019 | DEBUG    | syft.core.node.common.service.auth:process:28 - > Checking ✉️  (HeritageUpdateMessage) 🔑 Matches 📱 Bob's iPhone (Device)@<UID:🚲🙼> root 🗝\n",
      "2020-11-03 14:42:00.020 | DEBUG    | syft.core.node.common.service.auth:process:35 - > Matching 🔑 🚽  == 🚽  🗝\n",
      "2020-11-03 14:42:00.020 | DEBUG    | syft.core.node.common.service.auth:process:42 - > ✅ Auth Succeeded ✉️  (HeritageUpdateMessage) 🔑 == 🗝\n",
      "2020-11-03 14:42:00.021 | DEBUG    | syft.core.node.common.service.heritage_update_service:process:71 - > Executing ⚙️  (HeritageUpdateService) ✉️  (HeritageUpdateMessage) on 📱 Bob's iPhone (Device)@<UID:🚲🙼>\n",
      "2020-11-03 14:42:00.022 | DEBUG    | syft.core.node.common.node:known_child_nodes:291 - > 📱 Bob's iPhone (Device)@<UID:🚲🙼> Getting known Children Nodes\n",
      "???\n",
      "2020-11-03 14:42:00.024 | DEBUG    | syft.core.node.common.client:send_immediate_msg_without_reply:247 - > 📡 [🍰📱] Bob's VM Client (VirtualMachineClient)@<UID:🚂🚇> Signing ✉️  (HeritageUpdateMessage) with 🛱\n",
      "2020-11-03 14:42:00.025 | DEBUG    | syft.core.common.message:sign:87 - > Signing with 🛱\n",
      "2020-11-03 14:42:00.025 | DEBUG    | syft.core.common.serde.serializable:serialize:261 - Serializing <class 'syft.core.node.common.service.heritage_update_service.HeritageUpdateMessage'>\n",
      "2020-11-03 14:42:00.028 | DEBUG    | syft.core.common.message:post_init:53 - > Creating Signed ✉️ 🔏 (SignedImmediateSyftMessageWithoutReply) <UID:🙿🚉>\n",
      "2020-11-03 14:42:00.029 | DEBUG    | syft.core.node.common.client:send_immediate_msg_without_reply:249 - > Sending ✉️ 🔏 (SignedImmediateSyftMessageWithoutReply) 📡 [🍰📱] Bob's VM Client (VirtualMachineClient)@<UID:🚂🚇> ➡️  💠 [🍰📱] Bob's VM Client (Address)\n",
      "2020-11-03 14:42:00.030 | DEBUG    | syft.core.io.route:send_immediate_msg_without_reply:164 - > Routing ✉️ 🔏 (SignedImmediateSyftMessageWithoutReply) via 🛣️  (SoloRoute)\n",
      "2020-11-03 14:42:00.034 | DEBUG    | syft.core.common.message:post_init:53 - > Creating ✉️  (HeritageUpdateMessage) <UID:🙿🚉>\n",
      "2020-11-03 14:42:00.036 | DEBUG    | syft.core.node.common.node:recv_immediate_msg_without_reply:378 - > Received without Reply ✉️  (HeritageUpdateMessage) <UID:9093d3b4-f928-4b16-8fcc-9e5d56d82e24> @ 🍰 Bob's VM (VirtualMachine)@<UID:🚂🚇>\n",
      "2020-11-03 14:42:00.038 | DEBUG    | syft.core.node.common.node:process_message:443 - > Processing 📨 ✉️ 🔏 (SignedImmediateSyftMessageWithoutReply) @ 🍰 Bob's VM (VirtualMachine)@<UID:🚂🚇> <HeritageUpdateMessage:9093d3b4-f928-4b16-8fcc-9e5d56d82e24>\n",
      "2020-11-03 14:42:00.040 | DEBUG    | syft.core.node.common.node:process_message:445 - > Recipient Found ✉️ 🔏 (SignedImmediateSyftMessageWithoutReply)@<UID:🚂🚇> == 🍰 Bob's VM (VirtualMachine)@<UID:🚂🚇>\n",
      "2020-11-03 14:42:00.043 | DEBUG    | syft.core.node.common.service.auth:process:28 - > Checking ✉️  (HeritageUpdateMessage) 🔑 Matches 🍰 Bob's VM (VirtualMachine)@<UID:🚂🚇> root 🗝\n",
      "2020-11-03 14:42:00.045 | DEBUG    | syft.core.node.common.service.auth:process:35 - > Matching 🔑 🛱  == 🛱  🗝\n",
      "2020-11-03 14:42:00.046 | DEBUG    | syft.core.node.common.service.auth:process:42 - > ✅ Auth Succeeded ✉️  (HeritageUpdateMessage) 🔑 == 🗝\n",
      "2020-11-03 14:42:00.047 | DEBUG    | syft.core.node.common.service.heritage_update_service:process:71 - > Executing ⚙️  (HeritageUpdateService) ✉️  (HeritageUpdateMessage) on 🍰 Bob's VM (VirtualMachine)@<UID:🚂🚇>\n",
      "2020-11-03 14:42:00.049 | DEBUG    | syft.core.node.common.node:known_child_nodes:291 - > 🍰 Bob's VM (VirtualMachine)@<UID:🚂🚇> Getting known Children Nodes\n",
      "2020-11-03 14:42:00.050 | DEBUG    | syft.core.node.common.node:known_child_nodes:312 - > Node 🍰 Bob's VM (VirtualMachine)@<UID:🚂🚇> has no children\n",
      "2020-11-03 14:42:00.051 | DEBUG    | syft.core.node.common.service.heritage_update_service:process:92 - > Flowing ✉️  (HeritageUpdateMessage) to @<UID:🚬🚯>\n",
      "2020-11-03 14:42:00.053 | DEBUG    | syft.core.node.common.service.child_node_lifecycle_service:process:118 - > Forwarding ✉️  (RegisterChildNodeMessage) to @<UID:🚲🙼>\n"
     ]
    }
   ],
   "source": [
    "bob_domain_client.register(client=bob_device_client)"
   ]
  },
  {
   "cell_type": "markdown",
   "metadata": {},
   "source": [
    "That's interesting, we see there's two `HeritageUpdateMessage` that get sent. The address update is \"Flowing\" upward to the leaf VM nodes."
   ]
  },
  {
   "cell_type": "code",
   "execution_count": 34,
   "metadata": {},
   "outputs": [
    {
     "name": "stdout",
     "output_type": "stream",
     "text": [
      "💠 [🍰📱🏰] Bob's VM (Address)\n",
      "💠 [📱🏰] Bob's iPhone (Address)\n",
      "💠 [🏰] Bob's Domain (Address)\n"
     ]
    }
   ],
   "source": [
    "print(bob_vm.address.pprint)\n",
    "print(bob_device.address.pprint)\n",
    "print(bob_domain.address.pprint)\n",
    "assert bob_domain_client.id == bob_device.address.domain.id\n",
    "assert bob_device.id == bob_vm.address.device.id"
   ]
  },
  {
   "cell_type": "markdown",
   "metadata": {},
   "source": [
    "Now that the Nodes are aware of each other, we can send a message to any child node by dispatching a message on a parent Client and addressing the Child node.\n",
    "**note:** We are changing the bob_vm root_verify_key because ReprMessage is a root message. We should change this example."
   ]
  },
  {
   "cell_type": "markdown",
   "metadata": {},
   "source": [
    "Note, the repr service has the service_auth decorator.  \n",
    "`@service_auth(root_only=True)`\n",
    "\n",
    "```python\n",
    "class ReprService(ImmediateNodeServiceWithoutReply):\n",
    "    @staticmethod\n",
    "    @service_auth(root_only=True)\n",
    "    def process(node: AbstractNode, msg: ReprMessage, verify_key: VerifyKey) -> None:\n",
    "        print(node.__repr__())\n",
    "\n",
    "    @staticmethod\n",
    "    def message_handler_types() -> List[Type[ReprMessage]]:\n",
    "        return [ReprMessage]\n",
    "\n",
    "```"
   ]
  },
  {
   "cell_type": "markdown",
   "metadata": {},
   "source": [
    "For the purpose of the demonstration we will override the destination nodes root_verify_key with one of our new domain clients and the secure ReprMessage will be executed. Normally the remote node is not running in the same python REPL as the client."
   ]
  },
  {
   "cell_type": "code",
   "execution_count": 35,
   "metadata": {},
   "outputs": [
    {
     "name": "stdout",
     "output_type": "stream",
     "text": [
      "2020-11-03 14:42:00.070 | DEBUG    | syft.core.common.message:post_init:53 - > Creating ✉️  (ReprMessage) <UID:🚆🙐>\n",
      "???\n",
      "2020-11-03 14:42:00.072 | DEBUG    | syft.core.node.common.client:send_immediate_msg_without_reply:247 - > 📡 [🏰] Bob's Domain Client (DomainClient)@<UID:🚬🚯> Signing ✉️  (ReprMessage) with 🜟\n",
      "2020-11-03 14:42:00.073 | DEBUG    | syft.core.common.message:sign:87 - > Signing with 🜟\n",
      "2020-11-03 14:42:00.073 | DEBUG    | syft.core.common.serde.serializable:serialize:261 - Serializing <class 'syft.core.node.common.service.repr_service.ReprMessage'>\n",
      "2020-11-03 14:42:00.076 | DEBUG    | syft.core.common.message:post_init:53 - > Creating Signed ✉️ 🔏 (SignedImmediateSyftMessageWithoutReply) <UID:🚆🙐>\n",
      "2020-11-03 14:42:00.076 | DEBUG    | syft.core.node.common.client:send_immediate_msg_without_reply:249 - > Sending ✉️ 🔏 (SignedImmediateSyftMessageWithoutReply) 📡 [🏰] Bob's Domain Client (DomainClient)@<UID:🚬🚯> ➡️  💠 [🍰📱🏰] Bob's VM (Address)\n",
      "2020-11-03 14:42:00.077 | DEBUG    | syft.core.io.route:send_immediate_msg_without_reply:164 - > Routing ✉️ 🔏 (SignedImmediateSyftMessageWithoutReply) via 🛣️  (SoloRoute)\n",
      "2020-11-03 14:42:00.080 | DEBUG    | syft.core.common.message:post_init:53 - > Creating ✉️  (ReprMessage) <UID:🚆🙐>\n",
      "2020-11-03 14:42:00.081 | DEBUG    | syft.core.node.common.node:recv_immediate_msg_without_reply:378 - > Received without Reply ✉️  (ReprMessage) <UID:c0caf111-c8fe-4a93-b495-af629221e717> @ 🏰 Bob's Domain (Domain)@<UID:🚬🚯>\n",
      "2020-11-03 14:42:00.082 | DEBUG    | syft.core.node.common.node:process_message:443 - > Processing 📨 ✉️ 🔏 (SignedImmediateSyftMessageWithoutReply) @ 🏰 Bob's Domain (Domain)@<UID:🚬🚯> <ReprMessage:c0caf111-c8fe-4a93-b495-af629221e717>\n",
      "2020-11-03 14:42:00.083 | DEBUG    | syft.core.node.common.node:process_message:473 - > Recipient Not Found ↪️ ✉️ 🔏 (SignedImmediateSyftMessageWithoutReply)@<UID:🚂🚇> != 🏰 Bob's Domain (Domain)@<UID:🚬🚯>\n",
      "2020-11-03 14:42:00.084 | DEBUG    | syft.core.node.common.service.msg_forwarding_service:process:27 - > Forwarding WithoutReply ✉️ 🔏 (SignedImmediateSyftMessageWithoutReply) to @<UID:🚂🚇>\n",
      "<Address - Domain:<SpecificLocation:..9db31>  Device:<SpecificLocation:..154fa>, VM:<SpecificLocation:..a2e90> in store does not have method send_immediate_msg_without_reply\n",
      "'StorableObject' object has no attribute 'send_immediate_msg_without_reply'\n",
      "2020-11-03 14:42:00.086 | DEBUG    | syft.core.node.common.service.msg_forwarding_service:process:50 - > Lookup: <UID:🚂🚇>\n",
      "2020-11-03 14:42:00.087 | DEBUG    | syft.core.node.common.service.msg_forwarding_service:process:50 - > Lookup: <UID:🚲🙼>\n",
      "???\n",
      "2020-11-03 14:42:00.088 | DEBUG    | syft.core.node.common.client:send_immediate_msg_without_reply:249 - > Sending ✉️ 🔏 (SignedImmediateSyftMessageWithoutReply) 📡 [📱🏰] Bob's iPhone Client (DeviceClient)@<UID:🚲🙼> ➡️  💠 [🍰📱🏰] Bob's VM (Address)\n",
      "2020-11-03 14:42:00.089 | DEBUG    | syft.core.io.route:send_immediate_msg_without_reply:164 - > Routing ✉️ 🔏 (SignedImmediateSyftMessageWithoutReply) via 🛣️  (SoloRoute)\n",
      "2020-11-03 14:42:00.089 | DEBUG    | syft.core.node.common.node:recv_immediate_msg_without_reply:378 - > Received without Reply ✉️  (ReprMessage) <UID:c0caf111-c8fe-4a93-b495-af629221e717> @ 📱 Bob's iPhone (Device)@<UID:🚲🙼>\n",
      "2020-11-03 14:42:00.090 | DEBUG    | syft.core.node.common.node:process_message:443 - > Processing 📨 ✉️ 🔏 (SignedImmediateSyftMessageWithoutReply) @ 📱 Bob's iPhone (Device)@<UID:🚲🙼> <ReprMessage:c0caf111-c8fe-4a93-b495-af629221e717>\n",
      "2020-11-03 14:42:00.091 | DEBUG    | syft.core.node.common.node:process_message:473 - > Recipient Not Found ↪️ ✉️ 🔏 (SignedImmediateSyftMessageWithoutReply)@<UID:🚂🚇> != 📱 Bob's iPhone (Device)@<UID:🚲🙼>\n",
      "2020-11-03 14:42:00.092 | DEBUG    | syft.core.node.common.service.msg_forwarding_service:process:27 - > Forwarding WithoutReply ✉️ 🔏 (SignedImmediateSyftMessageWithoutReply) to @<UID:🚂🚇>\n",
      "<Address - Domain:<SpecificLocation:..9db31>  Device:<SpecificLocation:..154fa>, VM:<SpecificLocation:..a2e90> in store does not have method send_immediate_msg_without_reply\n",
      "'StorableObject' object has no attribute 'send_immediate_msg_without_reply'\n",
      "2020-11-03 14:42:00.094 | DEBUG    | syft.core.node.common.service.msg_forwarding_service:process:50 - > Lookup: <UID:🚂🚇>\n",
      "???\n",
      "2020-11-03 14:42:00.095 | DEBUG    | syft.core.node.common.client:send_immediate_msg_without_reply:249 - > Sending ✉️ 🔏 (SignedImmediateSyftMessageWithoutReply) 📡 [🍰📱] Bob's VM Client (VirtualMachineClient)@<UID:🚂🚇> ➡️  💠 [🍰📱🏰] Bob's VM (Address)\n",
      "2020-11-03 14:42:00.096 | DEBUG    | syft.core.io.route:send_immediate_msg_without_reply:164 - > Routing ✉️ 🔏 (SignedImmediateSyftMessageWithoutReply) via 🛣️  (SoloRoute)\n",
      "2020-11-03 14:42:00.097 | DEBUG    | syft.core.node.common.node:recv_immediate_msg_without_reply:378 - > Received without Reply ✉️  (ReprMessage) <UID:c0caf111-c8fe-4a93-b495-af629221e717> @ 🍰 Bob's VM (VirtualMachine)@<UID:🚂🚇>\n",
      "2020-11-03 14:42:00.098 | DEBUG    | syft.core.node.common.node:process_message:443 - > Processing 📨 ✉️ 🔏 (SignedImmediateSyftMessageWithoutReply) @ 🍰 Bob's VM (VirtualMachine)@<UID:🚂🚇> <ReprMessage:c0caf111-c8fe-4a93-b495-af629221e717>\n",
      "2020-11-03 14:42:00.099 | DEBUG    | syft.core.node.common.node:process_message:445 - > Recipient Found ✉️ 🔏 (SignedImmediateSyftMessageWithoutReply)@<UID:🚂🚇> == 🍰 Bob's VM (VirtualMachine)@<UID:🚂🚇>\n",
      "2020-11-03 14:42:00.100 | DEBUG    | syft.core.node.common.service.auth:process:28 - > Checking ✉️  (ReprMessage) 🔑 Matches 🍰 Bob's VM (VirtualMachine)@<UID:🚂🚇> root 🗝\n",
      "2020-11-03 14:42:00.101 | DEBUG    | syft.core.node.common.service.auth:process:35 - > Matching 🔑 🜟  == 🜟  🗝\n",
      "2020-11-03 14:42:00.102 | DEBUG    | syft.core.node.common.service.auth:process:42 - > ✅ Auth Succeeded ✉️  (ReprMessage) 🔑 == 🗝\n",
      "VirtualMachine:Bob's VM:<UID:dad46add-a8ce-4840-9f73-6142956a2e90>\n"
     ]
    }
   ],
   "source": [
    "# Just to bypass the auth we will set the root verify key on destination so that it will accept this message\n",
    "bob_vm.root_verify_key = bob_domain_client.verify_key  # inject 📡🔑 as 📍🗝\n",
    "bob_domain_client.send_immediate_msg_without_reply(\n",
    "    msg=sy.ReprMessage(address=bob_vm.address)\n",
    ")"
   ]
  },
  {
   "cell_type": "code",
   "execution_count": null,
   "metadata": {},
   "outputs": [],
   "source": []
  }
 ],
 "metadata": {
  "kernelspec": {
   "display_name": "Python 3",
   "language": "python",
   "name": "python3"
  },
  "language_info": {
   "codemirror_mode": {
    "name": "ipython",
    "version": 3
   },
   "file_extension": ".py",
   "mimetype": "text/x-python",
   "name": "python",
   "nbconvert_exporter": "python",
   "pygments_lexer": "ipython3",
   "version": "3.8.5"
  }
 },
 "nbformat": 4,
 "nbformat_minor": 4
}

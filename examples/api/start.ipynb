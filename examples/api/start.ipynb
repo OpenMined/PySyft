{
 "cells": [
  {
   "cell_type": "markdown",
   "metadata": {},
   "source": [
    "# Welcome to PySyft"
   ]
  },
  {
   "cell_type": "markdown",
   "metadata": {},
   "source": [
    "The goal of this notebook is to provide step by step explanation of the internal workings of PySyft for developers and have working examples of the API to play with."
   ]
  },
  {
   "cell_type": "markdown",
   "metadata": {},
   "source": [
    "**Note:** You should be able to run these without any issues. This notebook will be automatically run by CI and flagged if it fails. If your commit breaks this notebook, either fix the issue or add some information here for others."
   ]
  },
  {
   "cell_type": "code",
   "execution_count": 1,
   "metadata": {},
   "outputs": [],
   "source": [
    "assert True is True"
   ]
  },
  {
   "cell_type": "code",
   "execution_count": 2,
   "metadata": {},
   "outputs": [
    {
     "name": "stderr",
     "output_type": "stream",
     "text": [
      "/Users/madhavajay/.local/share/virtualenvs/PySyft-lHlz_cKe/lib/python3.8/site-packages/torch/distributed/distributed_c10d.py:125: UserWarning: torch.distributed.reduce_op is deprecated, please use torch.distributed.ReduceOp instead\n",
      "  warnings.warn(\"torch.distributed.reduce_op is deprecated, please use \"\n"
     ]
    }
   ],
   "source": [
    "import pytest\n",
    "import json\n",
    "import syft as sy\n",
    "from syft.core.node.common.service.auth import AuthorizationException\n",
    "from syft.util import key_emoji"
   ]
  },
  {
   "cell_type": "code",
   "execution_count": 3,
   "metadata": {},
   "outputs": [],
   "source": [
    "sy.VERBOSE = False"
   ]
  },
  {
   "cell_type": "markdown",
   "metadata": {},
   "source": [
    "Bob decides has some data he wants to share with Alice using PySyft.\n",
    "The first thing Bob needs to do is to create a Node to handle all the PySyft services he will need to safely and securely share his data with Alice."
   ]
  },
  {
   "cell_type": "code",
   "execution_count": 4,
   "metadata": {},
   "outputs": [],
   "source": [
    "somedevice = sy.Device()"
   ]
  },
  {
   "cell_type": "markdown",
   "metadata": {},
   "source": [
    "This is a device, it is a Node and it has a name, id and address."
   ]
  },
  {
   "cell_type": "code",
   "execution_count": 5,
   "metadata": {},
   "outputs": [
    {
     "name": "stdout",
     "output_type": "stream",
     "text": [
      "Flamboyant Bhaskara <UID:1cb62232-8a31-4922-977b-97d403047490> <Address - Device:<SpecificLocation:..47490>>\n"
     ]
    }
   ],
   "source": [
    "print(somedevice.name, somedevice.id, somedevice.address)"
   ]
  },
  {
   "cell_type": "markdown",
   "metadata": {},
   "source": [
    "The ID is a class called UID which is essentially a uuid. The address is a combination of up to four different locations, identifying the path to resolve the final target of the address."
   ]
  },
  {
   "cell_type": "code",
   "execution_count": 6,
   "metadata": {},
   "outputs": [
    {
     "name": "stdout",
     "output_type": "stream",
     "text": [
      "None <SpecificLocation:1cb62232-8a31-4922-977b-97d403047490> None None\n",
      "<SpecificLocation:1cb62232-8a31-4922-977b-97d403047490>\n"
     ]
    }
   ],
   "source": [
    "print(somedevice.address.vm, somedevice.address.device, somedevice.address.domain, somedevice.address.network)\n",
    "print(somedevice.address.target_id)"
   ]
  },
  {
   "cell_type": "markdown",
   "metadata": {},
   "source": [
    "UIDs are hard to read and compare so we have a function which converts them to 2 x emoji.\n",
    "Just like the \"name\", Emoji uniqueness is not guaranteed but is very useful during debugging."
   ]
  },
  {
   "cell_type": "code",
   "execution_count": 7,
   "metadata": {},
   "outputs": [
    {
     "name": "stdout",
     "output_type": "stream",
     "text": [
      "📌 Flamboyant Bhaskara (SpecificLocation)@<UID:🙖🙉>\n",
      "💠 [📱] Flamboyant Bhaskara (Address)\n"
     ]
    }
   ],
   "source": [
    "print(somedevice.address.target_id.pprint)\n",
    "print(somedevice.address.pprint)"
   ]
  },
  {
   "cell_type": "markdown",
   "metadata": {},
   "source": [
    "Most things that are \"pretty printed\" include an emoji, a name and a class, additionally with a UID and \"visual UID\" emoji.  \n",
    "📌 somedevice.address.target_id is a \"Location\" which is pointing to this specific location with a name and address.  \n",
    "💠 [📱] somedevice.address is the \"Address\" of somedevice (Think up to 4 x locations) in this case the contents of the List [] show it only has the Location of a device currently.\n",
    "\n",
    "**note:** Sometimes Emoji's look like this: 🙓. The dynamically generated code point doesnt have an Emoji. A PR fix would be welcome. 🙂"
   ]
  },
  {
   "cell_type": "code",
   "execution_count": 8,
   "metadata": {},
   "outputs": [
    {
     "name": "stdout",
     "output_type": "stream",
     "text": [
      "<UID:1cb62232-8a31-4922-977b-97d403047490> <UID:1cb62232-8a31-4922-977b-97d403047490>\n",
      "<UID:🙖🙉> == <UID:🙖🙉>\n",
      "📱 Flamboyant Bhaskara (Device)@<UID:🙖🙉>\n"
     ]
    }
   ],
   "source": [
    "print(somedevice.id, somedevice.address.target_id.id)\n",
    "print(somedevice.id.emoji(), \"==\", somedevice.address.target_id.id.emoji())\n",
    "print(somedevice.pprint)\n",
    "assert somedevice.id == somedevice.address.target_id.id"
   ]
  },
  {
   "cell_type": "markdown",
   "metadata": {},
   "source": [
    "Interaction with a Node like a device is always done through a client. Clients can \"send\" messages and Nodes can \"receive\" them. Bob needs to get a client for his device. But first it might be a good idea to name is device so that its easier to follow. Lets also turn on VERBOSE mode so we can see all the actions that happen."
   ]
  },
  {
   "cell_type": "code",
   "execution_count": 9,
   "metadata": {},
   "outputs": [
    {
     "name": "stdout",
     "output_type": "stream",
     "text": [
      "> Creating 🗃️ (MemoryStore) {}\n",
      "> Creating 📱 Bob's iPhone (Device)@<UID:🚱🚃>\n"
     ]
    }
   ],
   "source": [
    "sy.VERBOSE = True\n",
    "bob_device = sy.Device(name=\"Bob's iPhone\")\n",
    "assert bob_device.name == \"Bob's iPhone\""
   ]
  },
  {
   "cell_type": "code",
   "execution_count": 10,
   "metadata": {},
   "outputs": [
    {
     "name": "stdout",
     "output_type": "stream",
     "text": [
      "> Creating 📡 [📱] Bob's iPhone Client (DeviceClient)@<UID:🚱🚃>\n"
     ]
    }
   ],
   "source": [
    "bob_device_client = bob_device.get_client()"
   ]
  },
  {
   "cell_type": "markdown",
   "metadata": {},
   "source": [
    "When you ask a node for a client you get a \"Client\" which is named after the device and has the same \"UID\" and \"Address\" (4 x Locations) as the device it was created from, and it will have a \"Route\" that connects it to the \"Device\""
   ]
  },
  {
   "cell_type": "code",
   "execution_count": 11,
   "metadata": {},
   "outputs": [],
   "source": [
    "assert bob_device_client.name == \"Bob's iPhone Client\""
   ]
  },
  {
   "cell_type": "code",
   "execution_count": 12,
   "metadata": {},
   "outputs": [
    {
     "name": "stdout",
     "output_type": "stream",
     "text": [
      "📡 [📱] Bob's iPhone Client (DeviceClient)@<UID:🚱🚃> 📱 Bob's iPhone (Device)@<UID:🚱🚃>\n",
      "<UID:🚱🚃> == <UID:🚱🚃>\n"
     ]
    }
   ],
   "source": [
    "print(bob_device_client.pprint, bob_device.pprint)\n",
    "print(bob_device.id.emoji(), \"==\", bob_device_client.id.emoji())\n",
    "assert bob_device.id == bob_device_client.device.id\n",
    "assert bob_device.address == bob_device_client.address"
   ]
  },
  {
   "cell_type": "markdown",
   "metadata": {},
   "source": [
    "📡 [📱] Bob's iPhone Client is a \"DeviceClient\" and it has the same UID and \"Address\" as Bob's Device"
   ]
  },
  {
   "cell_type": "markdown",
   "metadata": {},
   "source": [
    "Now we have something that can send and receive lets take it for a spin.\n",
    "Since everything is handled with a layer of abstraction the smallest unit of work is a \"SyftMessage\". Very little can be done without sending a message from a Client to a Node. There are many types of \"SyftMessage\" which boil down to whether or not they are Sync or Async, and whether or not they expect a response.\n",
    "\n",
    "Lets make a ReprMessage which simply gets a message and prints it at its destination Node.\n",
    "SyftMessage's all have an \"address\" field, without this they would never get delivered. They also generally have a msg_id which can be used to keep track of them."
   ]
  },
  {
   "cell_type": "code",
   "execution_count": 13,
   "metadata": {},
   "outputs": [
    {
     "name": "stdout",
     "output_type": "stream",
     "text": [
      "> Creating ✉️  (ReprMessage) <UID:🚰🚆>\n",
      "✉️  (ReprMessage)\n",
      "💠 [📱] Bob's iPhone Client (Address)\n"
     ]
    }
   ],
   "source": [
    "msg = sy.ReprMessage(address=bob_device_client.address)\n",
    "print(msg.pprint)\n",
    "print(bob_device_client.address.pprint)\n",
    "assert msg.address == bob_device_client.address"
   ]
  },
  {
   "cell_type": "markdown",
   "metadata": {},
   "source": [
    "What type of Message is ReprMessage you ask?"
   ]
  },
  {
   "cell_type": "code",
   "execution_count": 14,
   "metadata": {},
   "outputs": [
    {
     "name": "stdout",
     "output_type": "stream",
     "text": [
      "[<class 'syft.core.node.common.service.repr_service.ReprMessage'>, <class 'syft.core.common.message.ImmediateSyftMessageWithoutReply'>, <class 'syft.core.common.message.ImmediateSyftMessage'>, <class 'syft.core.common.message.SyftMessageWithoutReply'>, <class 'syft.core.common.message.SyftMessage'>, <class 'syft.core.common.message.AbstractMessage'>, <class 'syft.core.common.object.ObjectWithID'>, <class 'syft.core.common.serde.serializable.Serializable'>, <class 'typing.Generic'>, <class 'object'>]\n"
     ]
    }
   ],
   "source": [
    "print(sy.ReprMessage.mro())"
   ]
  },
  {
   "cell_type": "markdown",
   "metadata": {},
   "source": [
    "Its an \"Immediate\" \"WithoutReply\" okay so Sync and no response."
   ]
  },
  {
   "cell_type": "markdown",
   "metadata": {},
   "source": [
    "Now lets send it, remember we need a Client not a Node for sending."
   ]
  },
  {
   "cell_type": "code",
   "execution_count": 15,
   "metadata": {},
   "outputs": [
    {
     "name": "stdout",
     "output_type": "stream",
     "text": [
      "> Creating ✉️  (ReprMessage) <UID:🚾🚫>\n",
      "> 📡 [📱] Bob's iPhone Client (DeviceClient)@<UID:🚱🚃> Signing ✉️  (ReprMessage) with 🛩\n",
      "> Signing with 🛩\n",
      "> Creating Signed ✉️ 🔏 (SignedImmediateSyftMessageWithoutReply) <UID:🚾🚫>\n",
      "> Sending ✉️ 🔏 (SignedImmediateSyftMessageWithoutReply) 📡 [📱] Bob's iPhone Client (DeviceClient)@<UID:🚱🚃> ➡️  💠 [📱] Bob's iPhone Client (Address)\n",
      "> Routing ✉️ 🔏 (SignedImmediateSyftMessageWithoutReply) via 🛣️  (SoloRoute)\n",
      "> Received ✉️ 🔏 (SignedImmediateSyftMessageWithoutReply) @ 📱 Bob's iPhone (Device)@<UID:🚱🚃>\n",
      "> Processing 📨 ✉️ 🔏 (SignedImmediateSyftMessageWithoutReply) @ 📱 Bob's iPhone (Device)@<UID:🚱🚃>\n",
      "> Recipient Found ✉️ 🔏 (SignedImmediateSyftMessageWithoutReply)@<UID:🚱🚃> == 📱 Bob's iPhone (Device)@<UID:🚱🚃>\n",
      "> Creating ✉️  (ReprMessage) <UID:🚾🚫>\n",
      "> Checking ✉️  (ReprMessage) 🔑 Matches 📱 Bob's iPhone (Device)@<UID:🚱🚃> root 🗝\n",
      "> Matching 🔑 🛩  == 🜢  🗝\n",
      "> ❌ Auth FAILED ✉️  (ReprMessage)\n"
     ]
    }
   ],
   "source": [
    "with pytest.raises(AuthorizationException):\n",
    "    bob_device_client.send_immediate_msg_without_reply(\n",
    "        msg=sy.ReprMessage(address=bob_device_client.address)\n",
    "    )"
   ]
  },
  {
   "cell_type": "markdown",
   "metadata": {},
   "source": [
    "Oh oh! Why did Auth fail? We'll we can see from the debug that the 🔑 (VerifyKey) of the sender was matched to the 🗝 (Root VerifyKey) of the destination and they don't match. This client does not have sufficient permission to send a ReprMessage."
   ]
  },
  {
   "cell_type": "markdown",
   "metadata": {},
   "source": [
    "First lets take a look at the keys involved."
   ]
  },
  {
   "cell_type": "code",
   "execution_count": 16,
   "metadata": {},
   "outputs": [
    {
     "name": "stdout",
     "output_type": "stream",
     "text": [
      "🔑 🛩\n",
      "🔑 🜢🗝 🜢\n"
     ]
    }
   ],
   "source": [
    "print(bob_device_client.keys)\n",
    "print(bob_device.keys)\n",
    "\n",
    "assert bob_device_client.verify_key != bob_device.root_verify_key"
   ]
  },
  {
   "cell_type": "markdown",
   "metadata": {},
   "source": [
    "Not to worry we have a solution, lets get a client which does have this permission."
   ]
  },
  {
   "cell_type": "code",
   "execution_count": 17,
   "metadata": {},
   "outputs": [
    {
     "name": "stdout",
     "output_type": "stream",
     "text": [
      "> Creating 📡 [📱] Bob's iPhone Client (DeviceClient)@<UID:🚱🚃>\n"
     ]
    }
   ],
   "source": [
    "bob_device_client = bob_device.get_root_client()"
   ]
  },
  {
   "cell_type": "markdown",
   "metadata": {},
   "source": [
    "Lets take a look again."
   ]
  },
  {
   "cell_type": "code",
   "execution_count": 18,
   "metadata": {},
   "outputs": [
    {
     "name": "stdout",
     "output_type": "stream",
     "text": [
      "🔑 🛮\n",
      "🔑 🜢🗝 🛮\n"
     ]
    }
   ],
   "source": [
    "print(bob_device_client.keys)\n",
    "print(bob_device.keys)\n",
    "\n",
    "assert bob_device_client.verify_key == bob_device.root_verify_key"
   ]
  },
  {
   "cell_type": "markdown",
   "metadata": {},
   "source": [
    "Lets try sending the message again."
   ]
  },
  {
   "cell_type": "code",
   "execution_count": 19,
   "metadata": {},
   "outputs": [
    {
     "name": "stdout",
     "output_type": "stream",
     "text": [
      "> Creating ✉️  (ReprMessage) <UID:🚆🚅>\n",
      "> 📡 [📱] Bob's iPhone Client (DeviceClient)@<UID:🚱🚃> Signing ✉️  (ReprMessage) with 🛮\n",
      "> Signing with 🛮\n",
      "> Creating Signed ✉️ 🔏 (SignedImmediateSyftMessageWithoutReply) <UID:🚆🚅>\n",
      "> Sending ✉️ 🔏 (SignedImmediateSyftMessageWithoutReply) 📡 [📱] Bob's iPhone Client (DeviceClient)@<UID:🚱🚃> ➡️  💠 [📱] Bob's iPhone Client (Address)\n",
      "> Routing ✉️ 🔏 (SignedImmediateSyftMessageWithoutReply) via 🛣️  (SoloRoute)\n",
      "> Received ✉️ 🔏 (SignedImmediateSyftMessageWithoutReply) @ 📱 Bob's iPhone (Device)@<UID:🚱🚃>\n",
      "> Processing 📨 ✉️ 🔏 (SignedImmediateSyftMessageWithoutReply) @ 📱 Bob's iPhone (Device)@<UID:🚱🚃>\n",
      "> Recipient Found ✉️ 🔏 (SignedImmediateSyftMessageWithoutReply)@<UID:🚱🚃> == 📱 Bob's iPhone (Device)@<UID:🚱🚃>\n",
      "> Creating ✉️  (ReprMessage) <UID:🚆🚅>\n",
      "> Checking ✉️  (ReprMessage) 🔑 Matches 📱 Bob's iPhone (Device)@<UID:🚱🚃> root 🗝\n",
      "> Matching 🔑 🛮  == 🛮  🗝\n",
      "> ✅ Auth Succeeded ✉️  (ReprMessage) 🔑 == 🗝\n",
      "Device:Bob's iPhone:<UID:ca85f85e-539d-4d48-a42a-9050f4613dc5>\n"
     ]
    }
   ],
   "source": [
    "bob_device_client.send_immediate_msg_without_reply(\n",
    "    msg=sy.ReprMessage(address=bob_device_client.address)\n",
    ")"
   ]
  },
  {
   "cell_type": "markdown",
   "metadata": {},
   "source": [
    "Woohoo! 🎉"
   ]
  },
  {
   "cell_type": "markdown",
   "metadata": {},
   "source": [
    "Okay so theres a lot going on but lets step through it.  \n",
    "The ReprMessage is created by the Client, and then signed with the Client's SigningKey.\n",
    "The SigningKey and VerifyKey are a pair and the VerifyKey is public and derived from the SigningKey.\n",
    "When we call get_root_client() we update the Node with the newly generated key on the Client so that the Client will now have permission to execute root actions.\n",
    "\n",
    "Behind every message type is a service which executes the message on a Node.\n",
    "To run ReprMessage on our Device Node, we can see that during startup it adds a service to handle these kinds of messages:\n",
    "```python\n",
    "# common/node.py\n",
    "self.immediate_services_without_reply.append(ReprService)\n",
    "````\n",
    "\n",
    "Not all actions / services require \"root\". To enable this a decorator is added like so:\n",
    "```python\n",
    "# repr_service.py\n",
    "class ReprService(ImmediateNodeServiceWithoutReply):\n",
    "    @staticmethod\n",
    "    @service_auth(root_only=True)\n",
    "```"
   ]
  },
  {
   "cell_type": "markdown",
   "metadata": {},
   "source": [
    "Okay so Bob has root access to his own device, but he wants to share some data and compute resources of this device to someone else. So to do that he needs to create a \"Sub Node\" which will be a \"VirtualMachine\". Think of this as a partition or slice of his device which can be allocated memory, storage and compute."
   ]
  },
  {
   "cell_type": "code",
   "execution_count": 20,
   "metadata": {},
   "outputs": [
    {
     "name": "stdout",
     "output_type": "stream",
     "text": [
      "> Creating 🗃️ (MemoryStore) {}\n",
      "> Creating 🍰 Bob's VM (VirtualMachine)@<UID:🚉🚀>\n"
     ]
    }
   ],
   "source": [
    "bob_vm = sy.VirtualMachine(name=\"Bob's VM\")"
   ]
  },
  {
   "cell_type": "markdown",
   "metadata": {},
   "source": [
    "Since VirtualMachine is a Node (Server) it will need a Client to issue commands to it.\n",
    "Lets make one.  \n",
    "**note:** Why do we need a root client? The registration process is two way and the Registeree will need to update its address in response to a successful registration."
   ]
  },
  {
   "cell_type": "code",
   "execution_count": 21,
   "metadata": {},
   "outputs": [
    {
     "name": "stdout",
     "output_type": "stream",
     "text": [
      "> Creating 📡 [🍰] Bob's VM Client (VirtualMachineClient)@<UID:🚉🚀>\n"
     ]
    }
   ],
   "source": [
    "bob_vm_client = bob_vm.get_root_client()"
   ]
  },
  {
   "cell_type": "markdown",
   "metadata": {},
   "source": [
    "Okay so now Bob has two Nodes and their respective clients, but they know nothing of each other.\n",
    "They both have addresses that only point to themselves."
   ]
  },
  {
   "cell_type": "code",
   "execution_count": 22,
   "metadata": {},
   "outputs": [
    {
     "name": "stdout",
     "output_type": "stream",
     "text": [
      "💠 [📱] Bob's iPhone Client (Address)\n",
      "💠 [🍰] Bob's VM Client (Address)\n"
     ]
    }
   ],
   "source": [
    "print(bob_device_client.address.pprint)\n",
    "print(bob_vm_client.address.pprint)"
   ]
  },
  {
   "cell_type": "markdown",
   "metadata": {},
   "source": [
    "Lets register Bob's vm with its device since the Device is higher up in the level of scope."
   ]
  },
  {
   "cell_type": "code",
   "execution_count": 23,
   "metadata": {},
   "outputs": [
    {
     "name": "stdout",
     "output_type": "stream",
     "text": [
      "> Registering 📡 [🍰] Bob's VM Client (VirtualMachineClient)@<UID:🚉🚀> with 📡 [📱] Bob's iPhone Client (DeviceClient)@<UID:🚱🚃>\n",
      "> Creating ✉️  (RegisterChildNodeMessage) <UID:🙼🚴>\n",
      "> 📡 [📱] Bob's iPhone Client (DeviceClient)@<UID:🚱🚃> Signing ✉️  (RegisterChildNodeMessage) with 🛮\n",
      "> Signing with 🛮\n",
      "> ✉️  -> Proto 🔢\n",
      "> Creating Signed ✉️ 🔏 (SignedImmediateSyftMessageWithoutReply) <UID:🙼🚴>\n",
      "> Sending ✉️ 🔏 (SignedImmediateSyftMessageWithoutReply) 📡 [📱] Bob's iPhone Client (DeviceClient)@<UID:🚱🚃> ➡️  💠 [📱] Bob's iPhone Client (Address)\n",
      "> Routing ✉️ 🔏 (SignedImmediateSyftMessageWithoutReply) via 🛣️  (SoloRoute)\n",
      "> Received ✉️ 🔏 (SignedImmediateSyftMessageWithoutReply) @ 📱 Bob's iPhone (Device)@<UID:🚱🚃>\n",
      "> Processing 📨 ✉️ 🔏 (SignedImmediateSyftMessageWithoutReply) @ 📱 Bob's iPhone (Device)@<UID:🚱🚃>\n",
      "> Recipient Found ✉️ 🔏 (SignedImmediateSyftMessageWithoutReply)@<UID:🚱🚃> == 📱 Bob's iPhone (Device)@<UID:🚱🚃>\n",
      "> Creating ✉️  (RegisterChildNodeMessage) <UID:🙼🚴>\n",
      "> ✉️  <- 🔢 Proto\n",
      "> Checking ✉️  (RegisterChildNodeMessage) 🔑 Matches 📱 Bob's iPhone (Device)@<UID:🚱🚃> root 🗝\n",
      "> Matching 🔑 🛮  == 🛮  🗝\n",
      "> ✅ Auth Succeeded ✉️  (RegisterChildNodeMessage) 🔑 == 🗝\n",
      "> Executing 💾 (ChildNodeLifecycleService) ✉️  (RegisterChildNodeMessage) on 📱 Bob's iPhone (Device)@<UID:🚱🚃>\n",
      "> Saving 💾 💠 [🍰] Bob's VM Client (Address) @<UID:🚉🚀> with Key: <UID:344c64c5-46b2-4cc9-bfee-3b32e45079f1> ➡️ 🗃️ (MemoryStore) {\n",
      "  > <UID:344c64c5-46b2-4cc9-bfee-3b32e45079f1> <UID:🚉🚀> => 🗂️ (StorableObject) (💠 [🍰] Bob's VM Client (Address))\n",
      "}\n",
      "> Sending 👪 Update from 📱 Bob's iPhone (Device)@<UID:🚱🚃> back to @<UID:🚉🚀>\n",
      "> Update Contains <class 'syft.core.io.address.Address'> <Address - Device:<SpecificLocation:..13dc5>>\n",
      "> Creating ✉️  (HeritageUpdateMessage) <UID:🚌🚶>\n",
      "> 📡 [🍰📱] Bob's VM Client (VirtualMachineClient)@<UID:🚉🚀> Signing ✉️  (HeritageUpdateMessage) with 🛱\n",
      "> Signing with 🛱\n",
      "> Creating Signed ✉️ 🔏 (SignedImmediateSyftMessageWithoutReply) <UID:🚌🚶>\n",
      "> Sending ✉️ 🔏 (SignedImmediateSyftMessageWithoutReply) 📡 [🍰📱] Bob's VM Client (VirtualMachineClient)@<UID:🚉🚀> ➡️  💠 [🍰] Bob's VM Client (Address)\n",
      "> Routing ✉️ 🔏 (SignedImmediateSyftMessageWithoutReply) via 🛣️  (SoloRoute)\n",
      "> Received ✉️ 🔏 (SignedImmediateSyftMessageWithoutReply) @ 🍰 Bob's VM (VirtualMachine)@<UID:🚉🚀>\n",
      "> Processing 📨 ✉️ 🔏 (SignedImmediateSyftMessageWithoutReply) @ 🍰 Bob's VM (VirtualMachine)@<UID:🚉🚀>\n",
      "> Recipient Found ✉️ 🔏 (SignedImmediateSyftMessageWithoutReply)@<UID:🚉🚀> == 🍰 Bob's VM (VirtualMachine)@<UID:🚉🚀>\n",
      "> Creating ✉️  (HeritageUpdateMessage) <UID:🚌🚶>\n",
      "> Checking ✉️  (HeritageUpdateMessage) 🔑 Matches 🍰 Bob's VM (VirtualMachine)@<UID:🚉🚀> root 🗝\n",
      "> Matching 🔑 🛱  == 🛱  🗝\n",
      "> ✅ Auth Succeeded ✉️  (HeritageUpdateMessage) 🔑 == 🗝\n",
      "> Executing ⚙️  (HeritageUpdateService) ✉️  (HeritageUpdateMessage) on 🍰 Bob's VM (VirtualMachine)@<UID:🚉🚀>\n",
      "> 🍰 Bob's VM (VirtualMachine)@<UID:🚉🚀> Getting known Children Nodes\n",
      "> Node 🍰 Bob's VM (VirtualMachine)@<UID:🚉🚀> has no children\n",
      "> Forwarding ✉️  (RegisterChildNodeMessage) to @<UID:🚉🚀>\n"
     ]
    }
   ],
   "source": [
    "bob_device_client.register(client=bob_vm_client)"
   ]
  },
  {
   "cell_type": "markdown",
   "metadata": {},
   "source": [
    "Whoa.. Okay lots happening. As you can see there are two messages and two Authentications. The first one is the `RegisterChildNodeMessage` which is dispatched to the address of the Device. Once it is received it stores the address of the registering Node and then dispatches a new `HeritageUpdateMessage` back to the sender of the first message.\n",
    "\n",
    "**note:** This is not a reply message, this is a completely independent message that happens to be sent back to the sender's address.\n",
    "```python\n",
    "issubclass(RegisterChildNodeMessage, SignedImmediateSyftMessageWithoutReply)\n",
    "issubclass(HeritageUpdateService, SignedImmediateSyftMessageWithoutReply)\n",
    "```"
   ]
  },
  {
   "cell_type": "markdown",
   "metadata": {},
   "source": [
    "You will also notice that the Messages turned into Protobufs and then Signed.  \n",
    "Lets see how this works for `ReprMessage`."
   ]
  },
  {
   "cell_type": "markdown",
   "metadata": {},
   "source": [
    "1) ✉️  -> Proto 🔢"
   ]
  },
  {
   "cell_type": "markdown",
   "metadata": {},
   "source": [
    "Every message that is sent requires and the following method signatures:\n",
    "```python\n",
    "def _object2proto(self) -> ReprMessage_PB:\n",
    "def _proto2object(proto: ReprMessage_PB) -> \"ReprMessage\":\n",
    "def get_protobuf_schema() -> GeneratedProtocolMessageType:\n",
    "```"
   ]
  },
  {
   "cell_type": "markdown",
   "metadata": {},
   "source": [
    "The get_protobuf_schema method will tell the caller what Protobuf class to use, and then the _object2proto method will be called to turn normal python into a protobuf message."
   ]
  },
  {
   "cell_type": "markdown",
   "metadata": {},
   "source": [
    "```python\n",
    "# repr_service.py\n",
    "def _object2proto(self) -> ReprMessage_PB:\n",
    "    return ReprMessage_PB(\n",
    "        msg_id=self.id.serialize(), address=self.address.serialize(),\n",
    "    )\n",
    "```"
   ]
  },
  {
   "cell_type": "markdown",
   "metadata": {},
   "source": [
    "Any type which isnt a normal Protobuf primitive must be converted to a proto or serialized before being stored.\n",
    "**note:** self.id and self.address also need to be serialized so this will call their `_object2proto` methods.  "
   ]
  },
  {
   "cell_type": "markdown",
   "metadata": {},
   "source": [
    "At this point we are using code auto generated by `protoc` as per the build script:\n",
    "```bash\n",
    "$ ./scripts/build_proto\n",
    "```"
   ]
  },
  {
   "cell_type": "markdown",
   "metadata": {},
   "source": [
    "Here is the .proto definition for `ReprMessage`"
   ]
  },
  {
   "cell_type": "markdown",
   "metadata": {},
   "source": [
    "```c++\n",
    "// repr_service.proto\n",
    "syntax = \"proto3\";\n",
    "\n",
    "package syft.core.node.common.service;\n",
    "\n",
    "import \"proto/core/common/common_object.proto\";\n",
    "import \"proto/core/io/address.proto\";\n",
    "\n",
    "message ReprMessage {\n",
    "    syft.core.common.UID msg_id = 1;\n",
    "    syft.core.io.Address address = 2;\n",
    "}\n",
    "```\n"
   ]
  },
  {
   "cell_type": "markdown",
   "metadata": {},
   "source": [
    "Once the message needs to be Deserialized the `_proto2object` method will be called."
   ]
  },
  {
   "cell_type": "markdown",
   "metadata": {},
   "source": [
    "```python\n",
    "# repr_service.py\n",
    "return ReprMessage(\n",
    "    msg_id=_deserialize(blob=proto.msg_id),\n",
    "    address=_deserialize(blob=proto.address),\n",
    ")\n",
    "```"
   ]
  },
  {
   "cell_type": "markdown",
   "metadata": {},
   "source": [
    "Two things to pay attention to:\n",
    "1) `RegisterChildNodeMessage` has caused Bob's Device Store has been updated with an entry representing Bob's VM Address  \n",
    "2) `HeritageUpdateService` has caused Bob's VM to update its address to now include the `SpecificLocation` of Bob's Device.\n",
    "\n",
    "**note:** The Address for Bob's VM Client inside the Store does not include the \"Device\" part of the \"Address\" (4 x Locations) since it isn't updated until after the HeritageUpdateService message is sent."
   ]
  },
  {
   "cell_type": "code",
   "execution_count": 24,
   "metadata": {},
   "outputs": [
    {
     "name": "stdout",
     "output_type": "stream",
     "text": [
      "🗃️ (MemoryStore) {\n",
      "  > <UID:344c64c5-46b2-4cc9-bfee-3b32e45079f1> <UID:🚉🚀> => 🗂️ (StorableObject) (💠 [🍰] Bob's VM Client (Address))\n",
      "}\n",
      "💠 [🍰📱] Bob's VM Client (Address) <UID:🚉🚀>\n"
     ]
    }
   ],
   "source": [
    "print(bob_device.store.pprint)\n",
    "assert bob_vm_client.address.target_id.id in bob_device.store\n",
    "print(bob_vm_client.address.pprint, bob_vm_client.address.target_id.id.emoji())"
   ]
  },
  {
   "cell_type": "markdown",
   "metadata": {},
   "source": [
    "What about `SignedMessage`? If you read `message.py` you will see that all messages inherit from `SignedMessage` and as such contain the following fields."
   ]
  },
  {
   "cell_type": "markdown",
   "metadata": {},
   "source": [
    "```c++\n",
    "message SignedMessage {\n",
    "  syft.core.common.UID msg_id = 1;\n",
    "  string obj_type = 2;\n",
    "  bytes signature = 3;\n",
    "  bytes verify_key = 4;\n",
    "  bytes message = 5;\n",
    "}\n",
    "```"
   ]
  },
  {
   "cell_type": "markdown",
   "metadata": {},
   "source": [
    "The actual message is serialized and stored in the `message` field and a hash of its bytes is calculated using the Client's `SigningKey`."
   ]
  },
  {
   "cell_type": "markdown",
   "metadata": {},
   "source": [
    "The contents of `message` are not encrypted and can be read at any time by simply deserializing them."
   ]
  },
  {
   "cell_type": "code",
   "execution_count": 25,
   "metadata": {},
   "outputs": [],
   "source": [
    "def get_signed_message_bytes() -> bytes:\n",
    "    # return a signed message fixture containing the uid from get_uid\n",
    "    message = {\n",
    "        \"msgId\": {\"value\": \"OSCFpuBSSeGS6TrP0S7Dkw==\"},\n",
    "        \"objType\": \"syft.core.node.common.service.repr_service.ReprMessage\",\n",
    "        \"signature\": (\n",
    "            \"rltljJvXRhb3g4aRL6QJ1So1gbt9Vohp2BizxChbqhFkkeXPrmZmcE8RdSyRBTRnvOpAMXvjpe\"\n",
    "            + \"nwEHK8olCg==\"\n",
    "        ),\n",
    "        \"verifyKey\": \"gf/M/DfEVS6KKh8iPTAQxO+IyDAB8H0zC9SXrS9Qjw8=\",\n",
    "        \"message\": (\n",
    "            \"eyJvYmpUeXBlIjogInN5ZnQuY29yZS5ub2RlLmNvbW1vbi5zZXJ2aWNlLnJlcHJfc2VydmljZS\"\n",
    "            + \"5SZXByTWVzc2FnZSIsICJjb250ZW50IjogIntcIm1zZ0lkXCI6IHtcInZhbHVlXCI6IFwiT1\"\n",
    "            + \"NDRnB1QlNTZUdTNlRyUDBTN0Rrdz09XCJ9LCBcImFkZHJlc3NcIjoge1wibmFtZVwiOiBcIl\"\n",
    "            + \"Rlc3RcIiwgXCJoYXNWbVwiOiB0cnVlLCBcInZtXCI6IHtcImlkXCI6IHtcInZhbHVlXCI6IF\"\n",
    "            + \"wiK3h1d1oxdTNURW0renVjQXF3b1ZGQT09XCJ9fX19In0=\"\n",
    "        ),\n",
    "    }\n",
    "    envelope = {\n",
    "        \"objType\": \"syft.core.common.message.SignedImmediateSyftMessageWithoutReply\",\n",
    "        \"content\": json.dumps(message),\n",
    "    }\n",
    "    blob = bytes(json.dumps(envelope), \"utf-8\")\n",
    "    return blob\n"
   ]
  },
  {
   "cell_type": "code",
   "execution_count": 26,
   "metadata": {},
   "outputs": [
    {
     "name": "stdout",
     "output_type": "stream",
     "text": [
      "> Creating ✉️  (ReprMessage) <UID:🚄🚮>\n",
      "> Creating Signed ✉️ 🔏 (SignedImmediateSyftMessageWithoutReply) <UID:🚄🚮>\n",
      "> ✉️ 🔏 <- 🔢 Proto\n"
     ]
    }
   ],
   "source": [
    "sig_msg = sy.deserialize(blob=get_signed_message_bytes(), from_binary=True)"
   ]
  },
  {
   "cell_type": "markdown",
   "metadata": {},
   "source": [
    "We can get the nested message with a property called `message`"
   ]
  },
  {
   "cell_type": "code",
   "execution_count": 27,
   "metadata": {},
   "outputs": [
    {
     "name": "stdout",
     "output_type": "stream",
     "text": [
      "> Creating ✉️  (ReprMessage) <UID:🚄🚮>\n",
      "✉️  (ReprMessage) ✉️ 🔏 (SignedImmediateSyftMessageWithoutReply)\n",
      "💠 [🍰] Test (Address) 💠 [🍰] Test (Address)\n",
      "<UID:🙍🛖> <UID:🙍🛖>\n"
     ]
    }
   ],
   "source": [
    "repr_msg = sig_msg.message\n",
    "print(repr_msg.pprint, sig_msg.pprint)\n",
    "print(repr_msg.address.pprint, sig_msg.address.pprint)\n",
    "print(repr_msg.address.target_id.id.emoji(), sig_msg.address.target_id.id.emoji())\n",
    "assert sig_msg.id == repr_msg.id\n",
    "assert sig_msg.address == repr_msg.address"
   ]
  },
  {
   "cell_type": "markdown",
   "metadata": {},
   "source": [
    "Notice the UID's of `ReprMessage` and `SignedImmediateSyftMessageWithoutReply` are the same. So are the delivery address's."
   ]
  },
  {
   "cell_type": "markdown",
   "metadata": {},
   "source": [
    "But the original bytes are still available and serialization / deserialization or serde (ser/de) is bi-directional and reversible"
   ]
  },
  {
   "cell_type": "code",
   "execution_count": 28,
   "metadata": {},
   "outputs": [
    {
     "name": "stdout",
     "output_type": "stream",
     "text": [
      "✉️  (ReprMessage)  ⬅️  ✉️ 🔏 (SignedImmediateSyftMessageWithoutReply)\n"
     ]
    }
   ],
   "source": [
    "assert repr_msg.serialize(to_binary=True) == sig_msg.serialized_message\n",
    "print(repr_msg.pprint, \" ⬅️ \", sig_msg.pprint)"
   ]
  },
  {
   "cell_type": "code",
   "execution_count": 29,
   "metadata": {},
   "outputs": [],
   "source": [
    "from nacl.signing import SigningKey, VerifyKey\n",
    "def get_signing_key() -> SigningKey:\n",
    "    # return a the signing key used to sign the get_signed_message_bytes fixture\n",
    "    key = \"e89ff2e651b42393b6ecb5956419088781309d953d72bd73a0968525a3a6a951\"\n",
    "    return SigningKey(bytes.fromhex(key))"
   ]
  },
  {
   "cell_type": "markdown",
   "metadata": {},
   "source": [
    "Lets try re-signing it with the same key it was signed with."
   ]
  },
  {
   "cell_type": "code",
   "execution_count": 30,
   "metadata": {},
   "outputs": [
    {
     "name": "stdout",
     "output_type": "stream",
     "text": [
      "> Signing with 🛳\n",
      "> Creating Signed ✉️ 🔏 (SignedImmediateSyftMessageWithoutReply) <UID:🚄🚮>\n"
     ]
    }
   ],
   "source": [
    "sig_msg_comp = repr_msg.sign(signing_key=get_signing_key())"
   ]
  },
  {
   "cell_type": "code",
   "execution_count": 31,
   "metadata": {},
   "outputs": [
    {
     "name": "stdout",
     "output_type": "stream",
     "text": [
      "SigningKey: 🛭\n",
      "VerifyKey: 🛳\n",
      "<class 'nacl.signing.SigningKey'> <class 'nacl.signing.VerifyKey'>\n",
      "🔑 🛳 == 🛳 🔑\n",
      "b'\\x81\\xff\\xcc\\xfc7\\xc4U.\\x8a*\\x1f\"=0\\x10\\xc4\\xef\\x88\\xc80\\x01\\xf0}3\\x0b\\xd4\\x97\\xad/P\\x8f\\x0f'\n"
     ]
    }
   ],
   "source": [
    "signing_key = get_signing_key()\n",
    "verify_key = signing_key.verify_key\n",
    "\n",
    "print(f\"SigningKey: {key_emoji(key=signing_key)}\")\n",
    "print(f\"VerifyKey: {key_emoji(key=verify_key)}\")\n",
    "print(type(signing_key), type(verify_key))\n",
    "print(f\"🔑 {key_emoji(key=sig_msg.verify_key)} == {key_emoji(key=verify_key)} 🔑\")\n",
    "print(bytes(verify_key))\n",
    "\n",
    "assert sig_msg_comp == sig_msg\n",
    "assert sig_msg.verify_key == verify_key\n",
    "assert VerifyKey(bytes(verify_key)) == verify_key"
   ]
  },
  {
   "cell_type": "markdown",
   "metadata": {},
   "source": [
    "The message is signed with the `SigningKey`, a consistent `VerifyKey` is derived from the `SigningKey`. Both keys can be transformed to bytes and back easily."
   ]
  },
  {
   "cell_type": "markdown",
   "metadata": {},
   "source": [
    "Okay now Bob wants to protect his Device(s) and its / their VM(s). To do that he needs to add them to a higher level Node called a `Domain`."
   ]
  },
  {
   "cell_type": "code",
   "execution_count": 32,
   "metadata": {},
   "outputs": [
    {
     "name": "stdout",
     "output_type": "stream",
     "text": [
      "> Creating 🗃️ (MemoryStore) {}\n",
      "> Creating 🏰 Bob's Domain (Domain)@<UID:🚅🚮>\n",
      "> Creating 📡 [🏰] Bob's Domain Client (DomainClient)@<UID:🚅🚮>\n"
     ]
    }
   ],
   "source": [
    "bob_domain = sy.Domain(name=\"Bob's Domain\")\n",
    "bob_domain_client = bob_domain.get_root_client()"
   ]
  },
  {
   "cell_type": "markdown",
   "metadata": {},
   "source": [
    "Okay lets follow the same proceedure and link up these nodes."
   ]
  },
  {
   "cell_type": "code",
   "execution_count": 33,
   "metadata": {},
   "outputs": [
    {
     "name": "stdout",
     "output_type": "stream",
     "text": [
      "💠 [🏰] Bob's Domain (Address)\n"
     ]
    }
   ],
   "source": [
    "print(bob_domain.address.pprint)"
   ]
  },
  {
   "cell_type": "code",
   "execution_count": 34,
   "metadata": {},
   "outputs": [
    {
     "name": "stdout",
     "output_type": "stream",
     "text": [
      "> Registering 📡 [📱] Bob's iPhone Client (DeviceClient)@<UID:🚱🚃> with 📡 [🏰] Bob's Domain Client (DomainClient)@<UID:🚅🚮>\n",
      "> Creating ✉️  (RegisterChildNodeMessage) <UID:🚆🙿>\n",
      "> 📡 [🏰] Bob's Domain Client (DomainClient)@<UID:🚅🚮> Signing ✉️  (RegisterChildNodeMessage) with 🚿\n",
      "> Signing with 🚿\n",
      "> ✉️  -> Proto 🔢\n",
      "> Creating Signed ✉️ 🔏 (SignedImmediateSyftMessageWithoutReply) <UID:🚆🙿>\n",
      "> Sending ✉️ 🔏 (SignedImmediateSyftMessageWithoutReply) 📡 [🏰] Bob's Domain Client (DomainClient)@<UID:🚅🚮> ➡️  💠 [🏰] Bob's Domain Client (Address)\n",
      "> Routing ✉️ 🔏 (SignedImmediateSyftMessageWithoutReply) via 🛣️  (SoloRoute)\n",
      "> Received ✉️ 🔏 (SignedImmediateSyftMessageWithoutReply) @ 🏰 Bob's Domain (Domain)@<UID:🚅🚮>\n",
      "> Processing 📨 ✉️ 🔏 (SignedImmediateSyftMessageWithoutReply) @ 🏰 Bob's Domain (Domain)@<UID:🚅🚮>\n",
      "> Recipient Found ✉️ 🔏 (SignedImmediateSyftMessageWithoutReply)@<UID:🚅🚮> == 🏰 Bob's Domain (Domain)@<UID:🚅🚮>\n",
      "> Creating ✉️  (RegisterChildNodeMessage) <UID:🚆🙿>\n",
      "> ✉️  <- 🔢 Proto\n",
      "> Checking ✉️  (RegisterChildNodeMessage) 🔑 Matches 🏰 Bob's Domain (Domain)@<UID:🚅🚮> root 🗝\n",
      "> Matching 🔑 🚿  == 🚿  🗝\n",
      "> ✅ Auth Succeeded ✉️  (RegisterChildNodeMessage) 🔑 == 🗝\n",
      "> Executing 💾 (ChildNodeLifecycleService) ✉️  (RegisterChildNodeMessage) on 🏰 Bob's Domain (Domain)@<UID:🚅🚮>\n",
      "> Saving 💾 💠 [📱] Bob's iPhone Client (Address) @<UID:🚱🚃> with Key: <UID:ca85f85e-539d-4d48-a42a-9050f4613dc5> ➡️ 🗃️ (MemoryStore) {\n",
      "  > <UID:ca85f85e-539d-4d48-a42a-9050f4613dc5> <UID:🚱🚃> => 🗂️ (StorableObject) (💠 [📱] Bob's iPhone Client (Address))\n",
      "}\n",
      "> Sending 👪 Update from 🏰 Bob's Domain (Domain)@<UID:🚅🚮> back to @<UID:🚱🚃>\n",
      "> Update Contains <class 'syft.core.io.address.Address'> <Address - Domain:<SpecificLocation:..e8b09>>\n",
      "> Creating ✉️  (HeritageUpdateMessage) <UID:🚂🙖>\n",
      "> 📡 [📱🏰] Bob's iPhone Client (DeviceClient)@<UID:🚱🚃> Signing ✉️  (HeritageUpdateMessage) with 🛮\n",
      "> Signing with 🛮\n",
      "> Creating Signed ✉️ 🔏 (SignedImmediateSyftMessageWithoutReply) <UID:🚂🙖>\n",
      "> Sending ✉️ 🔏 (SignedImmediateSyftMessageWithoutReply) 📡 [📱🏰] Bob's iPhone Client (DeviceClient)@<UID:🚱🚃> ➡️  💠 [📱] Bob's iPhone Client (Address)\n",
      "> Routing ✉️ 🔏 (SignedImmediateSyftMessageWithoutReply) via 🛣️  (SoloRoute)\n",
      "> Received ✉️ 🔏 (SignedImmediateSyftMessageWithoutReply) @ 📱 Bob's iPhone (Device)@<UID:🚱🚃>\n",
      "> Processing 📨 ✉️ 🔏 (SignedImmediateSyftMessageWithoutReply) @ 📱 Bob's iPhone (Device)@<UID:🚱🚃>\n",
      "> Recipient Found ✉️ 🔏 (SignedImmediateSyftMessageWithoutReply)@<UID:🚱🚃> == 📱 Bob's iPhone (Device)@<UID:🚱🚃>\n",
      "> Creating ✉️  (HeritageUpdateMessage) <UID:🚂🙖>\n",
      "> Checking ✉️  (HeritageUpdateMessage) 🔑 Matches 📱 Bob's iPhone (Device)@<UID:🚱🚃> root 🗝\n",
      "> Matching 🔑 🛮  == 🛮  🗝\n",
      "> ✅ Auth Succeeded ✉️  (HeritageUpdateMessage) 🔑 == 🗝\n",
      "> Executing ⚙️  (HeritageUpdateService) ✉️  (HeritageUpdateMessage) on 📱 Bob's iPhone (Device)@<UID:🚱🚃>\n",
      "> 📱 Bob's iPhone (Device)@<UID:🚱🚃> Getting known Children Nodes\n",
      "> 📡 [🍰📱] Bob's VM Client (VirtualMachineClient)@<UID:🚉🚀> Signing ✉️  (HeritageUpdateMessage) with 🛱\n",
      "> Signing with 🛱\n",
      "> Creating Signed ✉️ 🔏 (SignedImmediateSyftMessageWithoutReply) <UID:🚂🙖>\n",
      "> Sending ✉️ 🔏 (SignedImmediateSyftMessageWithoutReply) 📡 [🍰📱] Bob's VM Client (VirtualMachineClient)@<UID:🚉🚀> ➡️  💠 [🍰] Bob's VM Client (Address)\n",
      "> Routing ✉️ 🔏 (SignedImmediateSyftMessageWithoutReply) via 🛣️  (SoloRoute)\n",
      "> Received ✉️ 🔏 (SignedImmediateSyftMessageWithoutReply) @ 🍰 Bob's VM (VirtualMachine)@<UID:🚉🚀>\n",
      "> Processing 📨 ✉️ 🔏 (SignedImmediateSyftMessageWithoutReply) @ 🍰 Bob's VM (VirtualMachine)@<UID:🚉🚀>\n",
      "> Recipient Found ✉️ 🔏 (SignedImmediateSyftMessageWithoutReply)@<UID:🚉🚀> == 🍰 Bob's VM (VirtualMachine)@<UID:🚉🚀>\n",
      "> Creating ✉️  (HeritageUpdateMessage) <UID:🚂🙖>\n",
      "> Checking ✉️  (HeritageUpdateMessage) 🔑 Matches 🍰 Bob's VM (VirtualMachine)@<UID:🚉🚀> root 🗝\n",
      "> Matching 🔑 🛱  == 🛱  🗝\n",
      "> ✅ Auth Succeeded ✉️  (HeritageUpdateMessage) 🔑 == 🗝\n",
      "> Executing ⚙️  (HeritageUpdateService) ✉️  (HeritageUpdateMessage) on 🍰 Bob's VM (VirtualMachine)@<UID:🚉🚀>\n",
      "> 🍰 Bob's VM (VirtualMachine)@<UID:🚉🚀> Getting known Children Nodes\n",
      "> Node 🍰 Bob's VM (VirtualMachine)@<UID:🚉🚀> has no children\n",
      "> Flowing ✉️  (HeritageUpdateMessage) to @<UID:🚅🚮>\n",
      "> Forwarding ✉️  (RegisterChildNodeMessage) to @<UID:🚱🚃>\n"
     ]
    }
   ],
   "source": [
    "bob_domain_client.register(client=bob_device_client)"
   ]
  },
  {
   "cell_type": "markdown",
   "metadata": {},
   "source": [
    "Thats interesting, we see theres two `HeritageUpdateMessage` that get sent. The address update is \"Flowing\" upward to the leaf VM nodes."
   ]
  },
  {
   "cell_type": "code",
   "execution_count": 35,
   "metadata": {},
   "outputs": [
    {
     "name": "stdout",
     "output_type": "stream",
     "text": [
      "💠 [🍰📱🏰] Bob's VM (Address)\n",
      "💠 [📱🏰] Bob's iPhone (Address)\n",
      "💠 [🏰] Bob's Domain (Address)\n"
     ]
    }
   ],
   "source": [
    "print(bob_vm.address.pprint)\n",
    "print(bob_device.address.pprint)\n",
    "print(bob_domain.address.pprint)\n",
    "assert bob_domain_client.id == bob_device.address.domain.id\n",
    "assert bob_device.id == bob_vm.address.device.id"
   ]
  },
  {
   "cell_type": "markdown",
   "metadata": {},
   "source": [
    "Now that the Nodes are aware of each other, we can send a message to any child node by dispatching a message on a parent Client and addressing the Child node.\n",
    "**note:** We are changing the bob_vm root_verify_key because ReprMessage is a root message. We should change this example."
   ]
  },
  {
   "cell_type": "code",
   "execution_count": 36,
   "metadata": {},
   "outputs": [
    {
     "name": "stdout",
     "output_type": "stream",
     "text": [
      "> Creating ✉️  (ReprMessage) <UID:🚰🜑>\n",
      "> 📡 [🏰] Bob's Domain Client (DomainClient)@<UID:🚅🚮> Signing ✉️  (ReprMessage) with 🚿\n",
      "> Signing with 🚿\n",
      "> Creating Signed ✉️ 🔏 (SignedImmediateSyftMessageWithoutReply) <UID:🚰🜑>\n",
      "> Sending ✉️ 🔏 (SignedImmediateSyftMessageWithoutReply) 📡 [🏰] Bob's Domain Client (DomainClient)@<UID:🚅🚮> ➡️  💠 [🍰📱🏰] Bob's VM (Address)\n",
      "> Routing ✉️ 🔏 (SignedImmediateSyftMessageWithoutReply) via 🛣️  (SoloRoute)\n",
      "> Received ✉️ 🔏 (SignedImmediateSyftMessageWithoutReply) @ 🏰 Bob's Domain (Domain)@<UID:🚅🚮>\n",
      "> Processing 📨 ✉️ 🔏 (SignedImmediateSyftMessageWithoutReply) @ 🏰 Bob's Domain (Domain)@<UID:🚅🚮>\n",
      "> Recipient Not Found ↪️ ✉️ 🔏 (SignedImmediateSyftMessageWithoutReply)@<UID:🚉🚀> != 🏰 Bob's Domain (Domain)@<UID:🚅🚮>\n",
      "> Forwarding WithoutReply ✉️ 🔏 (SignedImmediateSyftMessageWithoutReply) to @<UID:🚉🚀>\n",
      "<Address - Domain:<SpecificLocation:..e8b09>  Device:<SpecificLocation:..13dc5>, VM:<SpecificLocation:..079f1> in store doesnt have method send_immediate_msg_without_reply\n",
      "'StorableObject' object has no attribute 'send_immediate_msg_without_reply'\n",
      "> Lookup: <UID:🚉🚀>\n",
      "> Lookup: <UID:🚱🚃>\n",
      "> Sending ✉️ 🔏 (SignedImmediateSyftMessageWithoutReply) 📡 [📱🏰] Bob's iPhone Client (DeviceClient)@<UID:🚱🚃> ➡️  💠 [🍰📱🏰] Bob's VM (Address)\n",
      "> Routing ✉️ 🔏 (SignedImmediateSyftMessageWithoutReply) via 🛣️  (SoloRoute)\n",
      "> Received ✉️ 🔏 (SignedImmediateSyftMessageWithoutReply) @ 📱 Bob's iPhone (Device)@<UID:🚱🚃>\n",
      "> Processing 📨 ✉️ 🔏 (SignedImmediateSyftMessageWithoutReply) @ 📱 Bob's iPhone (Device)@<UID:🚱🚃>\n",
      "> Recipient Not Found ↪️ ✉️ 🔏 (SignedImmediateSyftMessageWithoutReply)@<UID:🚉🚀> != 📱 Bob's iPhone (Device)@<UID:🚱🚃>\n",
      "> Forwarding WithoutReply ✉️ 🔏 (SignedImmediateSyftMessageWithoutReply) to @<UID:🚉🚀>\n",
      "<Address - Domain:<SpecificLocation:..e8b09>  Device:<SpecificLocation:..13dc5>, VM:<SpecificLocation:..079f1> in store doesnt have method send_immediate_msg_without_reply\n",
      "'StorableObject' object has no attribute 'send_immediate_msg_without_reply'\n",
      "> Lookup: <UID:🚉🚀>\n",
      "> Sending ✉️ 🔏 (SignedImmediateSyftMessageWithoutReply) 📡 [🍰📱] Bob's VM Client (VirtualMachineClient)@<UID:🚉🚀> ➡️  💠 [🍰📱🏰] Bob's VM (Address)\n",
      "> Routing ✉️ 🔏 (SignedImmediateSyftMessageWithoutReply) via 🛣️  (SoloRoute)\n",
      "> Received ✉️ 🔏 (SignedImmediateSyftMessageWithoutReply) @ 🍰 Bob's VM (VirtualMachine)@<UID:🚉🚀>\n",
      "> Processing 📨 ✉️ 🔏 (SignedImmediateSyftMessageWithoutReply) @ 🍰 Bob's VM (VirtualMachine)@<UID:🚉🚀>\n",
      "> Recipient Found ✉️ 🔏 (SignedImmediateSyftMessageWithoutReply)@<UID:🚉🚀> == 🍰 Bob's VM (VirtualMachine)@<UID:🚉🚀>\n",
      "> Creating ✉️  (ReprMessage) <UID:🚰🜑>\n",
      "> Checking ✉️  (ReprMessage) 🔑 Matches 🍰 Bob's VM (VirtualMachine)@<UID:🚉🚀> root 🗝\n",
      "> Matching 🔑 🚿  == 🚿  🗝\n",
      "> ✅ Auth Succeeded ✉️  (ReprMessage) 🔑 == 🗝\n",
      "VirtualMachine:Bob's VM:<UID:344c64c5-46b2-4cc9-bfee-3b32e45079f1>\n"
     ]
    }
   ],
   "source": [
    "# TODO: Change this\n",
    "bob_vm.root_verify_key = bob_domain_client.verify_key  # inject 📡🔑 as 📍🗝\n",
    "bob_domain_client.send_immediate_msg_without_reply(\n",
    "    msg=sy.ReprMessage(address=bob_vm.address)\n",
    ")"
   ]
  },
  {
   "cell_type": "code",
   "execution_count": null,
   "metadata": {},
   "outputs": [],
   "source": []
  },
  {
   "cell_type": "markdown",
   "metadata": {},
   "source": [
    "... To be continued by the next brave soul"
   ]
  },
  {
   "cell_type": "code",
   "execution_count": null,
   "metadata": {},
   "outputs": [],
   "source": []
  }
 ],
 "metadata": {
  "kernelspec": {
   "display_name": "Python 3",
   "language": "python",
   "name": "python3"
  },
  "language_info": {
   "codemirror_mode": {
    "name": "ipython",
    "version": 3
   },
   "file_extension": ".py",
   "mimetype": "text/x-python",
   "name": "python",
   "nbconvert_exporter": "python",
   "pygments_lexer": "ipython3",
   "version": "3.8.5"
  }
 },
 "nbformat": 4,
 "nbformat_minor": 4
}

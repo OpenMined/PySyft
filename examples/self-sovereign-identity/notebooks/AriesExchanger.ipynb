{
 "cells": [
  {
   "cell_type": "code",
   "execution_count": 1,
   "metadata": {},
   "outputs": [],
   "source": [
    "import syft as sy\n",
    "import time"
   ]
  },
  {
   "cell_type": "code",
   "execution_count": 2,
   "metadata": {},
   "outputs": [],
   "source": [
    "from syft.grid.duet.exchange_ids import DuetCredentialExchanger\n",
    "from typing import Any as TypeAny\n",
    "import json"
   ]
  },
  {
   "cell_type": "code",
   "execution_count": 3,
   "metadata": {},
   "outputs": [
    {
     "name": "stdout",
     "output_type": "stream",
     "text": [
      "IPython autoawait is `on`, and set to use `asyncio`\n"
     ]
    }
   ],
   "source": [
    "%autoawait\n",
    "import time\n",
    "import asyncio\n",
    "import nest_asyncio\n",
    "from aries_basic_controller.aries_controller import AriesAgentController\n",
    "\n",
    "    \n",
    "# Anyone know how to get env variables into juypter notebooks through docker easily?\n",
    "WEBHOOK_HOST = \"0.0.0.0\"\n",
    "WEBHOOK_PORT = 8022\n",
    "WEBHOOK_BASE = \"\"\n",
    "ADMIN_URL = \"http://0.0.0.0:8021\"\n",
    "\n",
    "nest_asyncio.apply()\n",
    "\n",
    "# Note AttachmentController just extends the basic controller to include the new attachment endpoint\n",
    "scientist_controller = AriesAgentController(webhook_host=WEBHOOK_HOST, webhook_port=WEBHOOK_PORT,\n",
    "                                       webhook_base=WEBHOOK_BASE, admin_url=ADMIN_URL)"
   ]
  },
  {
   "cell_type": "code",
   "execution_count": 4,
   "metadata": {},
   "outputs": [],
   "source": [
    "# Anyone know how to get env variables into juypter notebooks through docker easily?\n",
    "WEBHOOK_HOST = \"0.0.0.0\"\n",
    "WEBHOOK_PORT = 8052\n",
    "WEBHOOK_BASE = \"\"\n",
    "ADMIN_URL = \"http://0.0.0.0:8051\"\n",
    "\n",
    "# Note AttachmentController just extends the basic controller to include the new attachment endpoint\n",
    "dataowner_controller = AriesAgentController(webhook_host=WEBHOOK_HOST, webhook_port=WEBHOOK_PORT,\n",
    "                                       webhook_base=WEBHOOK_BASE, admin_url=ADMIN_URL)"
   ]
  },
  {
   "cell_type": "code",
   "execution_count": 7,
   "metadata": {},
   "outputs": [],
   "source": [
    "class AriesCredentialExchanger(DuetCredentialExchanger):\n",
    "    def __init__(self, agent_controller: TypeAny) -> None:\n",
    "        super().__init__()\n",
    "        self.agent_controller = agent_controller\n",
    "        self.responder_id = None\n",
    "        self.register_agent_listeners()\n",
    "\n",
    "    def run(\n",
    "        self,\n",
    "        credential: str,\n",
    "    ) -> str:\n",
    "        self.credential=credential\n",
    "        if self.join:\n",
    "            self._client_exchange(duet_token = credential)\n",
    "        else: \n",
    "            self._server_exchange(duet_token = credential)\n",
    "            \n",
    "        \n",
    "#         self.requester_id = credential\n",
    "#         self.agent_controller.joiner(self.join)\n",
    "#         self.agent_controller.send(self.requester_id)\n",
    "#         while True:\n",
    "#             if self.agent.has_response():\n",
    "#                 self.responder_id = self.agent.get_responder_id()\n",
    "\n",
    "        return self.responder_id\n",
    "    \n",
    "    def _client_exchange(self, duet_token):\n",
    "        \n",
    "        while True:\n",
    "            invite = input(\"♫♫♫ > Duet Partner's Aries Invitation: \")  # nosec\n",
    "            loop = asyncio.get_event_loop()\n",
    "            is_ready = False\n",
    "            try: \n",
    "                response = loop.run_until_complete(self.agent_controller.connections.accept_connection(invite))\n",
    "                print(response[\"connection_id\"])\n",
    "                print(response)\n",
    "                connection_id = response[\"connection_id\"]\n",
    "                is_ready = loop.run_until_complete(self.check_active(connection_id))\n",
    "                print(is_ready)\n",
    "            except:\n",
    "                print(\"    > Error: Invalid invitatio. Please try again.\")\n",
    "            if is_ready:\n",
    "                break;\n",
    "        \n",
    "        loop.run_until_complete(self.agent_controller.messaging.send_message(connection_id, duet_token))\n",
    "        \n",
    "        while True:\n",
    "            time.sleep(2)\n",
    "            if self.responder_id:\n",
    "                break\n",
    "                \n",
    "            \n",
    "                \n",
    "        \n",
    "    def _server_exchange(self, duet_token):\n",
    "        loop = asyncio.get_event_loop()\n",
    "        response = loop.run_until_complete(self.agent_controller.connections.create_invitation())\n",
    "        connection_id = response[\"connection_id\"]\n",
    "        invite_message = json.dumps(response['invitation'])\n",
    "\n",
    "        print()\n",
    "        print(\n",
    "            \"♫♫♫ > \"\n",
    "\n",
    "            + \"STEP 1:\"\n",
    "            + \" Send the aries invitation to your Duet Partner!\"\n",
    "        )\n",
    "        print()\n",
    "        print(invite_message)\n",
    "        while True:\n",
    "            is_ready = loop.run_until_complete(self.check_active(connection_id))\n",
    "            if is_ready:\n",
    "                break\n",
    "            else: \n",
    "                time.sleep(2)\n",
    "\n",
    "        loop.run_until_complete(self.agent_controller.messaging.send_message(connection_id, duet_token))\n",
    "        while True:\n",
    "            time.sleep(2)\n",
    "            if self.responder_id:\n",
    "                break\n",
    "\n",
    "    async def check_active(self, connection_id):\n",
    "        loop = asyncio.get_event_loop()\n",
    "        response = loop.run_until_complete(self.agent_controller.connections.get_connection(connection_id))\n",
    "        return \"active\" == response[\"state\"]\n",
    "    \n",
    "    def register_agent_listeners(self):\n",
    "        print(\"REGISTER LISTENERS\")\n",
    "        loop = asyncio.get_event_loop()\n",
    "        loop.run_until_complete(self.agent_controller.listen_webhooks())\n",
    "        \n",
    "        listeners = [{\n",
    "            \"handler\": self.messages_handler,\n",
    "            \"topic\": \"basicmessages\"\n",
    "        },{\n",
    "            \"topic\": \"issue_credential\",\n",
    "            \"handler\": self.cred_handler\n",
    "        },{\n",
    "            \"handler\": self.connection_handler,\n",
    "            \"topic\": \"connections\"\n",
    "        },{\n",
    "            \"topic\": \"present_proof\",\n",
    "            \"handler\": self.proof_handler\n",
    "        }]\n",
    "        self.agent_controller.register_listeners(listeners, defaults=True)\n",
    "        return\n",
    "        \n",
    "    def cred_handler(self, payload):\n",
    "        print(\"Handle Credentials\")\n",
    "        exchange_id = payload['credential_exchange_id']\n",
    "        state = payload['state']\n",
    "        role = payload['role']\n",
    "        attributes = payload['credential_proposal_dict']['credential_proposal']['attributes']\n",
    "        print(f\"Credential exchange {exchange_id}, role: {role}, state: {state}\")\n",
    "        print(f\"Offering: {attributes}\")\n",
    "    \n",
    "    def connection_handler(self, payload):\n",
    "        print(\"Connection Handler Called\")\n",
    "        connection_id = payload[\"connection_id\"]\n",
    "        state = payload[\"state\"]\n",
    "        print(f\"Connection {connection_id} in State {state}\")\n",
    "        \n",
    "        \n",
    "    def proof_handler(self, payload):\n",
    "        print(\"Handle present proof\")\n",
    "        role = payload[\"role\"]\n",
    "        pres_ex_id = payload[\"presentation_exchange_id\"]\n",
    "        state = payload[\"state\"]\n",
    "        print(f\"Role {role}, Exchange {pres_ex_id} in state {state}\")\n",
    "        \n",
    "    # Receive basic messages\n",
    "    def messages_handler(self, payload):\n",
    "\n",
    "        self.responder_id = payload[\"content\"]\n",
    "        print(\"Handle Duet ID\", duet_id)    \n",
    "        \n",
    "    def accept_connection(self, invite):\n",
    "        # Receive Invitation\n",
    "        loop = asyncio.get_event_loop()\n",
    "        response = loop.run_until_complete(self.agent_controller.connections.accept_connection(invitation))\n",
    "        # Print out accepted Invite and Alice's connection ID\n",
    "        print(\"Connection\", response)\n",
    "        return response[\"connection_id\"]\n",
    "        \n",
    "    def create_invitation(self, is_duet: bool = False):\n",
    "        # Create Invitation\n",
    "        loop = asyncio.get_event_loop()\n",
    "        invite = loop.run_until_complete(self.agent_controller.connections.create_invitation())\n",
    "        connection_id = invite[\"connection_id\"]\n",
    "        invite_message = json.dumps(invite['invitation'])\n",
    "#         print(\"Connection ID\", dataowner_id)\n",
    "#         print(\"Copy Invitation to Data Owner\\n\")\n",
    "        return invite_message\n"
   ]
  },
  {
   "cell_type": "code",
   "execution_count": 8,
   "metadata": {},
   "outputs": [
    {
     "name": "stdout",
     "output_type": "stream",
     "text": [
      "REGISTER LISTENERS\n",
      "REGISTER LISTENERS\n"
     ]
    }
   ],
   "source": [
    "dataowner_exchanger = AriesCredentialExchanger(agent_controller=dataowner_controller)\n",
    "datascientist_exchanger = AriesCredentialExchanger(agent_controller=scientist_controller)"
   ]
  },
  {
   "cell_type": "code",
   "execution_count": 9,
   "metadata": {},
   "outputs": [
    {
     "name": "stdout",
     "output_type": "stream",
     "text": [
      "\n",
      "♫♫♫ > STEP 1: Send the aries invitation to your Duet Partner!\n",
      "\n",
      "{\"@type\": \"did:sov:BzCbsNYhMrjHiqZDTUASHg;spec/connections/1.0/invitation\", \"@id\": \"8e288bd2-35a4-4611-bcbd-9dd3968e91e9\", \"serviceEndpoint\": \"http://7570b5c6ef5a.ngrok.io\", \"label\": \"DATASCIENTIST\", \"recipientKeys\": [\"14cZQZ4eGTM6oEBDhrR7gJQRgEvU7eKqQH5Ze5npEwRL\"]}\n"
     ]
    },
    {
     "ename": "KeyboardInterrupt",
     "evalue": "",
     "output_type": "error",
     "traceback": [
      "\u001b[0;31m---------------------------------------------------------------------------\u001b[0m",
      "\u001b[0;31mKeyboardInterrupt\u001b[0m                         Traceback (most recent call last)",
      "\u001b[0;32m<ipython-input-9-af9cf5b0196e>\u001b[0m in \u001b[0;36m<module>\u001b[0;34m\u001b[0m\n\u001b[0;32m----> 1\u001b[0;31m \u001b[0mdatascientist_exchanger\u001b[0m\u001b[0;34m.\u001b[0m\u001b[0mrun\u001b[0m\u001b[0;34m(\u001b[0m\u001b[0;34m'1234'\u001b[0m\u001b[0;34m)\u001b[0m\u001b[0;34m\u001b[0m\u001b[0;34m\u001b[0m\u001b[0m\n\u001b[0m",
      "\u001b[0;32m<ipython-input-7-fcf32a11080f>\u001b[0m in \u001b[0;36mrun\u001b[0;34m(self, credential)\u001b[0m\n\u001b[1;32m     14\u001b[0m             \u001b[0mself\u001b[0m\u001b[0;34m.\u001b[0m\u001b[0m_client_exchange\u001b[0m\u001b[0;34m(\u001b[0m\u001b[0mduet_token\u001b[0m \u001b[0;34m=\u001b[0m \u001b[0mcredential\u001b[0m\u001b[0;34m)\u001b[0m\u001b[0;34m\u001b[0m\u001b[0;34m\u001b[0m\u001b[0m\n\u001b[1;32m     15\u001b[0m         \u001b[0;32melse\u001b[0m\u001b[0;34m:\u001b[0m\u001b[0;34m\u001b[0m\u001b[0;34m\u001b[0m\u001b[0m\n\u001b[0;32m---> 16\u001b[0;31m             \u001b[0mself\u001b[0m\u001b[0;34m.\u001b[0m\u001b[0m_server_exchange\u001b[0m\u001b[0;34m(\u001b[0m\u001b[0mduet_token\u001b[0m \u001b[0;34m=\u001b[0m \u001b[0mcredential\u001b[0m\u001b[0;34m)\u001b[0m\u001b[0;34m\u001b[0m\u001b[0;34m\u001b[0m\u001b[0m\n\u001b[0m\u001b[1;32m     17\u001b[0m \u001b[0;34m\u001b[0m\u001b[0m\n\u001b[1;32m     18\u001b[0m \u001b[0;34m\u001b[0m\u001b[0m\n",
      "\u001b[0;32m<ipython-input-7-fcf32a11080f>\u001b[0m in \u001b[0;36m_server_exchange\u001b[0;34m(self, duet_token)\u001b[0m\n\u001b[1;32m     74\u001b[0m                 \u001b[0;32mbreak\u001b[0m\u001b[0;34m\u001b[0m\u001b[0;34m\u001b[0m\u001b[0m\n\u001b[1;32m     75\u001b[0m             \u001b[0;32melse\u001b[0m\u001b[0;34m:\u001b[0m\u001b[0;34m\u001b[0m\u001b[0;34m\u001b[0m\u001b[0m\n\u001b[0;32m---> 76\u001b[0;31m                 \u001b[0mtime\u001b[0m\u001b[0;34m.\u001b[0m\u001b[0msleep\u001b[0m\u001b[0;34m(\u001b[0m\u001b[0;36m2\u001b[0m\u001b[0;34m)\u001b[0m\u001b[0;34m\u001b[0m\u001b[0;34m\u001b[0m\u001b[0m\n\u001b[0m\u001b[1;32m     77\u001b[0m \u001b[0;34m\u001b[0m\u001b[0m\n\u001b[1;32m     78\u001b[0m         \u001b[0mloop\u001b[0m\u001b[0;34m.\u001b[0m\u001b[0mrun_until_complete\u001b[0m\u001b[0;34m(\u001b[0m\u001b[0mself\u001b[0m\u001b[0;34m.\u001b[0m\u001b[0magent_controller\u001b[0m\u001b[0;34m.\u001b[0m\u001b[0mmessaging\u001b[0m\u001b[0;34m.\u001b[0m\u001b[0msend_message\u001b[0m\u001b[0;34m(\u001b[0m\u001b[0mconnection_id\u001b[0m\u001b[0;34m,\u001b[0m \u001b[0mduet_token\u001b[0m\u001b[0;34m)\u001b[0m\u001b[0;34m)\u001b[0m\u001b[0;34m\u001b[0m\u001b[0;34m\u001b[0m\u001b[0m\n",
      "\u001b[0;31mKeyboardInterrupt\u001b[0m: "
     ]
    }
   ],
   "source": [
    "datascientist_exchanger.run('1234')"
   ]
  },
  {
   "cell_type": "code",
   "execution_count": 9,
   "metadata": {},
   "outputs": [
    {
     "name": "stdout",
     "output_type": "stream",
     "text": [
      "♫♫♫ > Duet Partner's Aries Invitation: {\"@type\": \"did:sov:BzCbsNYhMrjHiqZDTUASHg;spec/connections/1.0/invitation\", \"@id\": \"f34ecb9b-4009-4e23-af1b-5e82fe21d3f7\", \"serviceEndpoint\": \"http://7570b5c6ef5a.ngrok.io\", \"label\": \"DATASCIENTIST\", \"recipientKeys\": [\"58iEoYhCWiu3mtwsCCwuBNPTyhBdcnomh3HzXWE7A1Xs\"]}\n",
      "Connection Handler Called\n",
      "Connection c4d14984-8307-423e-b95f-5b1517af20ff in State invitation\n",
      "Connection Handler Called\n",
      "Connection c4d14984-8307-423e-b95f-5b1517af20ff in State invitation\n",
      "Connection Handler Called\n",
      "Connection c4d14984-8307-423e-b95f-5b1517af20ff in State request\n",
      "Connection Handler Called\n",
      "Connection c4d14984-8307-423e-b95f-5b1517af20ff in State request\n",
      "c4d14984-8307-423e-b95f-5b1517af20ff\n",
      "{'invitation_mode': 'once', 'initiator': 'external', 'accept': 'manual', 'request_id': '94652ecd-b7bd-45d0-a912-91d71df9b2ff', 'created_at': '2020-12-21 13:51:48.088188Z', 'connection_id': 'c4d14984-8307-423e-b95f-5b1517af20ff', 'updated_at': '2020-12-21 13:51:48.101782Z', 'my_did': 'Hu49tMREfCQXjLsqrpYS78', 'their_label': 'DATASCIENTIST', 'invitation_key': '58iEoYhCWiu3mtwsCCwuBNPTyhBdcnomh3HzXWE7A1Xs', 'routing_state': 'none', 'state': 'request'}\n",
      "Connection Handler Called\n",
      "Connection 313644ec-6849-46de-a8ec-1cb2fd7f5652 in State request\n",
      "Connection Handler Called\n",
      "Connection 313644ec-6849-46de-a8ec-1cb2fd7f5652 in State request\n",
      "Connection Handler Called\n",
      "Connection 313644ec-6849-46de-a8ec-1cb2fd7f5652 in State response\n",
      "Connection Handler Called\n",
      "Connection 313644ec-6849-46de-a8ec-1cb2fd7f5652 in State response\n"
     ]
    },
    {
     "name": "stderr",
     "output_type": "stream",
     "text": [
      "ERROR:aiohttp.server:Error handling request\n",
      "Traceback (most recent call last):\n",
      "  File \"/home/will/anaconda3/envs/my_syft_env/lib/python3.8/site-packages/aiohttp/web_protocol.py\", line 418, in start\n",
      "    resp = await task\n",
      "  File \"/home/will/anaconda3/envs/my_syft_env/lib/python3.8/asyncio/futures.py\", line 260, in __await__\n",
      "    yield self  # This tells Task to wait for completion.\n",
      "  File \"/home/will/anaconda3/envs/my_syft_env/lib/python3.8/asyncio/tasks.py\", line 349, in __wakeup\n",
      "    future.result()\n",
      "  File \"/home/will/anaconda3/envs/my_syft_env/lib/python3.8/asyncio/futures.py\", line 178, in result\n",
      "    raise self._exception\n",
      "  File \"/home/will/anaconda3/envs/my_syft_env/lib/python3.8/asyncio/tasks.py\", line 280, in __step\n",
      "    result = coro.send(None)\n",
      "  File \"/home/will/anaconda3/envs/my_syft_env/lib/python3.8/site-packages/aiohttp/web_app.py\", line 458, in _handle\n",
      "    resp = await handler(request)\n",
      "  File \"/home/will/anaconda3/envs/my_syft_env/lib/python3.8/site-packages/aries_basic_controller/aries_controller.py\", line 103, in _receive_webhook\n",
      "    await self.handle_webhook(topic, payload)\n",
      "  File \"/home/will/anaconda3/envs/my_syft_env/lib/python3.8/site-packages/aries_basic_controller/aries_controller.py\", line 108, in handle_webhook\n",
      "    pub.sendMessage(topic, payload=payload)\n",
      "  File \"/home/will/anaconda3/envs/my_syft_env/lib/python3.8/site-packages/pubsub/core/publisher.py\", line 216, in sendMessage\n",
      "    topicObj.publish(**msgData)\n",
      "  File \"/home/will/anaconda3/envs/my_syft_env/lib/python3.8/site-packages/pubsub/core/topicobj.py\", line 452, in publish\n",
      "    self.__sendMessage(msgData, topicObj, msgDataSubset)\n",
      "  File \"/home/will/anaconda3/envs/my_syft_env/lib/python3.8/site-packages/pubsub/core/topicobj.py\", line 482, in __sendMessage\n",
      "    listener(data, self, allData)\n",
      "  File \"/home/will/anaconda3/envs/my_syft_env/lib/python3.8/site-packages/pubsub/core/listener.py\", line 237, in __call__\n",
      "    cb(**kwargs)\n",
      "  File \"/home/will/anaconda3/envs/my_syft_env/lib/python3.8/site-packages/aries_basic_controller/controllers/connections.py\", line 29, in default_handler\n",
      "    connection.update_state(state)\n",
      "  File \"/home/will/anaconda3/envs/my_syft_env/lib/python3.8/site-packages/aries_basic_controller/models/connection.py\", line 21, in update_state\n",
      "    self.future.set_result(True)\n",
      "  File \"/home/will/anaconda3/envs/my_syft_env/lib/python3.8/asyncio/futures.py\", line 234, in set_result\n",
      "    raise exceptions.InvalidStateError(f'{self._state}: {self!r}')\n",
      "asyncio.exceptions.InvalidStateError: CANCELLED: <Future cancelled>\n"
     ]
    },
    {
     "name": "stdout",
     "output_type": "stream",
     "text": [
      "Connection Handler Called\n",
      "Connection c4d14984-8307-423e-b95f-5b1517af20ff in State response\n",
      "Connection Handler Called\n",
      "Connection c4d14984-8307-423e-b95f-5b1517af20ff in State response\n",
      "Connection Handler Called\n",
      "Connection 313644ec-6849-46de-a8ec-1cb2fd7f5652 in State active\n",
      "Connection Handler Called\n",
      "Connection c4d14984-8307-423e-b95f-5b1517af20ff in State active\n",
      "Connection Handler Called\n",
      "Connection c4d14984-8307-423e-b95f-5b1517af20ff in State active\n",
      "True\n"
     ]
    },
    {
     "ename": "KeyboardInterrupt",
     "evalue": "",
     "output_type": "error",
     "traceback": [
      "\u001b[0;31m---------------------------------------------------------------------------\u001b[0m",
      "\u001b[0;31mKeyboardInterrupt\u001b[0m                         Traceback (most recent call last)",
      "\u001b[0;32m<ipython-input-9-7bd6ea55acfd>\u001b[0m in \u001b[0;36m<module>\u001b[0;34m\u001b[0m\n\u001b[1;32m      1\u001b[0m \u001b[0mdataowner_exchanger\u001b[0m\u001b[0;34m.\u001b[0m\u001b[0mset_role\u001b[0m\u001b[0;34m(\u001b[0m\u001b[0;32mTrue\u001b[0m\u001b[0;34m)\u001b[0m\u001b[0;34m\u001b[0m\u001b[0;34m\u001b[0m\u001b[0m\n\u001b[0;32m----> 2\u001b[0;31m \u001b[0mdataowner_exchanger\u001b[0m\u001b[0;34m.\u001b[0m\u001b[0mrun\u001b[0m\u001b[0;34m(\u001b[0m\u001b[0;34m\"1234\"\u001b[0m\u001b[0;34m)\u001b[0m\u001b[0;34m\u001b[0m\u001b[0;34m\u001b[0m\u001b[0m\n\u001b[0m",
      "\u001b[0;32m<ipython-input-5-99f28294d235>\u001b[0m in \u001b[0;36mrun\u001b[0;34m(self, credential)\u001b[0m\n\u001b[1;32m     12\u001b[0m         \u001b[0mself\u001b[0m\u001b[0;34m.\u001b[0m\u001b[0mcredential\u001b[0m\u001b[0;34m=\u001b[0m\u001b[0mcredential\u001b[0m\u001b[0;34m\u001b[0m\u001b[0;34m\u001b[0m\u001b[0m\n\u001b[1;32m     13\u001b[0m         \u001b[0;32mif\u001b[0m \u001b[0mself\u001b[0m\u001b[0;34m.\u001b[0m\u001b[0mjoin\u001b[0m\u001b[0;34m:\u001b[0m\u001b[0;34m\u001b[0m\u001b[0;34m\u001b[0m\u001b[0m\n\u001b[0;32m---> 14\u001b[0;31m             \u001b[0mself\u001b[0m\u001b[0;34m.\u001b[0m\u001b[0m_client_exchange\u001b[0m\u001b[0;34m(\u001b[0m\u001b[0mduet_token\u001b[0m \u001b[0;34m=\u001b[0m \u001b[0mcredential\u001b[0m\u001b[0;34m)\u001b[0m\u001b[0;34m\u001b[0m\u001b[0;34m\u001b[0m\u001b[0m\n\u001b[0m\u001b[1;32m     15\u001b[0m         \u001b[0;32melse\u001b[0m\u001b[0;34m:\u001b[0m\u001b[0;34m\u001b[0m\u001b[0;34m\u001b[0m\u001b[0m\n\u001b[1;32m     16\u001b[0m             \u001b[0mself\u001b[0m\u001b[0;34m.\u001b[0m\u001b[0m_server_exchange\u001b[0m\u001b[0;34m(\u001b[0m\u001b[0mduet_token\u001b[0m \u001b[0;34m=\u001b[0m \u001b[0mcredential\u001b[0m\u001b[0;34m)\u001b[0m\u001b[0;34m\u001b[0m\u001b[0;34m\u001b[0m\u001b[0m\n",
      "\u001b[0;32m<ipython-input-5-99f28294d235>\u001b[0m in \u001b[0;36m_client_exchange\u001b[0;34m(self, duet_token)\u001b[0m\n\u001b[1;32m     47\u001b[0m \u001b[0;34m\u001b[0m\u001b[0m\n\u001b[1;32m     48\u001b[0m         \u001b[0;32mwhile\u001b[0m \u001b[0;32mTrue\u001b[0m\u001b[0;34m:\u001b[0m\u001b[0;34m\u001b[0m\u001b[0;34m\u001b[0m\u001b[0m\n\u001b[0;32m---> 49\u001b[0;31m             \u001b[0mtime\u001b[0m\u001b[0;34m.\u001b[0m\u001b[0msleep\u001b[0m\u001b[0;34m(\u001b[0m\u001b[0;36m2\u001b[0m\u001b[0;34m)\u001b[0m\u001b[0;34m\u001b[0m\u001b[0;34m\u001b[0m\u001b[0m\n\u001b[0m\u001b[1;32m     50\u001b[0m             \u001b[0;32mif\u001b[0m \u001b[0mself\u001b[0m\u001b[0;34m.\u001b[0m\u001b[0mresponder_id\u001b[0m\u001b[0;34m:\u001b[0m\u001b[0;34m\u001b[0m\u001b[0;34m\u001b[0m\u001b[0m\n\u001b[1;32m     51\u001b[0m                 \u001b[0;32mbreak\u001b[0m\u001b[0;34m\u001b[0m\u001b[0;34m\u001b[0m\u001b[0m\n",
      "\u001b[0;31mKeyboardInterrupt\u001b[0m: "
     ]
    }
   ],
   "source": [
    "dataowner_exchanger.set_role(True)\n",
    "dataowner_exchanger.run(\"1234\")"
   ]
  },
  {
   "cell_type": "code",
   "execution_count": 19,
   "metadata": {},
   "outputs": [
    {
     "ename": "RuntimeError",
     "evalue": "Session is closed",
     "output_type": "error",
     "traceback": [
      "\u001b[0;31m---------------------------------------------------------------------------\u001b[0m",
      "\u001b[0;31mRuntimeError\u001b[0m                              Traceback (most recent call last)",
      "\u001b[0;32m<ipython-input-19-8d8fa00c8bbc>\u001b[0m in \u001b[0;36m<module>\u001b[0;34m\u001b[0m\n\u001b[0;32m----> 1\u001b[0;31m \u001b[0mdataowner_exchanger\u001b[0m\u001b[0;34m.\u001b[0m\u001b[0mrun\u001b[0m\u001b[0;34m(\u001b[0m\u001b[0;34m\"123\"\u001b[0m\u001b[0;34m)\u001b[0m\u001b[0;34m\u001b[0m\u001b[0;34m\u001b[0m\u001b[0m\n\u001b[0m",
      "\u001b[0;32m<ipython-input-15-170849715eb1>\u001b[0m in \u001b[0;36mrun\u001b[0;34m(self, credential)\u001b[0m\n\u001b[1;32m     13\u001b[0m             \u001b[0mself\u001b[0m\u001b[0;34m.\u001b[0m\u001b[0m_client_exchange\u001b[0m\u001b[0;34m(\u001b[0m\u001b[0mduet_token\u001b[0m \u001b[0;34m=\u001b[0m \u001b[0mcredential\u001b[0m\u001b[0;34m)\u001b[0m\u001b[0;34m\u001b[0m\u001b[0;34m\u001b[0m\u001b[0m\n\u001b[1;32m     14\u001b[0m         \u001b[0;32melse\u001b[0m\u001b[0;34m:\u001b[0m\u001b[0;34m\u001b[0m\u001b[0;34m\u001b[0m\u001b[0m\n\u001b[0;32m---> 15\u001b[0;31m             \u001b[0mself\u001b[0m\u001b[0;34m.\u001b[0m\u001b[0m_server_exchange\u001b[0m\u001b[0;34m(\u001b[0m\u001b[0mduet_token\u001b[0m \u001b[0;34m=\u001b[0m \u001b[0mcredential\u001b[0m\u001b[0;34m)\u001b[0m\u001b[0;34m\u001b[0m\u001b[0;34m\u001b[0m\u001b[0m\n\u001b[0m\u001b[1;32m     16\u001b[0m \u001b[0;34m\u001b[0m\u001b[0m\n\u001b[1;32m     17\u001b[0m \u001b[0;34m\u001b[0m\u001b[0m\n",
      "\u001b[0;32m<ipython-input-15-170849715eb1>\u001b[0m in \u001b[0;36m_server_exchange\u001b[0;34m(self, duet_token)\u001b[0m\n\u001b[1;32m     55\u001b[0m     \u001b[0;32mdef\u001b[0m \u001b[0m_server_exchange\u001b[0m\u001b[0;34m(\u001b[0m\u001b[0mself\u001b[0m\u001b[0;34m,\u001b[0m \u001b[0mduet_token\u001b[0m\u001b[0;34m)\u001b[0m\u001b[0;34m:\u001b[0m\u001b[0;34m\u001b[0m\u001b[0;34m\u001b[0m\u001b[0m\n\u001b[1;32m     56\u001b[0m         \u001b[0mloop\u001b[0m \u001b[0;34m=\u001b[0m \u001b[0masyncio\u001b[0m\u001b[0;34m.\u001b[0m\u001b[0mget_event_loop\u001b[0m\u001b[0;34m(\u001b[0m\u001b[0;34m)\u001b[0m\u001b[0;34m\u001b[0m\u001b[0;34m\u001b[0m\u001b[0m\n\u001b[0;32m---> 57\u001b[0;31m         \u001b[0mresponse\u001b[0m \u001b[0;34m=\u001b[0m \u001b[0mloop\u001b[0m\u001b[0;34m.\u001b[0m\u001b[0mrun_until_complete\u001b[0m\u001b[0;34m(\u001b[0m\u001b[0magent_controller\u001b[0m\u001b[0;34m.\u001b[0m\u001b[0mconnections\u001b[0m\u001b[0;34m.\u001b[0m\u001b[0mcreate_invitation\u001b[0m\u001b[0;34m(\u001b[0m\u001b[0;34m)\u001b[0m\u001b[0;34m)\u001b[0m\u001b[0;34m\u001b[0m\u001b[0;34m\u001b[0m\u001b[0m\n\u001b[0m\u001b[1;32m     58\u001b[0m         \u001b[0mconnection_id\u001b[0m \u001b[0;34m=\u001b[0m \u001b[0mresponse\u001b[0m\u001b[0;34m[\u001b[0m\u001b[0;34m\"connection_id\"\u001b[0m\u001b[0;34m]\u001b[0m\u001b[0;34m\u001b[0m\u001b[0;34m\u001b[0m\u001b[0m\n\u001b[1;32m     59\u001b[0m         \u001b[0minvite_message\u001b[0m \u001b[0;34m=\u001b[0m \u001b[0mjson\u001b[0m\u001b[0;34m.\u001b[0m\u001b[0mdumps\u001b[0m\u001b[0;34m(\u001b[0m\u001b[0mresponse\u001b[0m\u001b[0;34m[\u001b[0m\u001b[0;34m'invitation'\u001b[0m\u001b[0;34m]\u001b[0m\u001b[0;34m)\u001b[0m\u001b[0;34m\u001b[0m\u001b[0;34m\u001b[0m\u001b[0m\n",
      "\u001b[0;32m~/anaconda3/envs/my_syft_env/lib/python3.8/site-packages/nest_asyncio.py\u001b[0m in \u001b[0;36mrun_until_complete\u001b[0;34m(self, future)\u001b[0m\n\u001b[1;32m     96\u001b[0m                 raise RuntimeError(\n\u001b[1;32m     97\u001b[0m                     'Event loop stopped before Future completed.')\n\u001b[0;32m---> 98\u001b[0;31m             \u001b[0;32mreturn\u001b[0m \u001b[0mf\u001b[0m\u001b[0;34m.\u001b[0m\u001b[0mresult\u001b[0m\u001b[0;34m(\u001b[0m\u001b[0;34m)\u001b[0m\u001b[0;34m\u001b[0m\u001b[0;34m\u001b[0m\u001b[0m\n\u001b[0m\u001b[1;32m     99\u001b[0m         \u001b[0;32mfinally\u001b[0m\u001b[0;34m:\u001b[0m\u001b[0;34m\u001b[0m\u001b[0;34m\u001b[0m\u001b[0m\n\u001b[1;32m    100\u001b[0m             \u001b[0mself\u001b[0m\u001b[0;34m.\u001b[0m\u001b[0m_thread_id\u001b[0m \u001b[0;34m=\u001b[0m \u001b[0mold_thread_id\u001b[0m\u001b[0;34m\u001b[0m\u001b[0;34m\u001b[0m\u001b[0m\n",
      "\u001b[0;32m~/anaconda3/envs/my_syft_env/lib/python3.8/asyncio/futures.py\u001b[0m in \u001b[0;36mresult\u001b[0;34m(self)\u001b[0m\n\u001b[1;32m    176\u001b[0m         \u001b[0mself\u001b[0m\u001b[0;34m.\u001b[0m\u001b[0m__log_traceback\u001b[0m \u001b[0;34m=\u001b[0m \u001b[0;32mFalse\u001b[0m\u001b[0;34m\u001b[0m\u001b[0;34m\u001b[0m\u001b[0m\n\u001b[1;32m    177\u001b[0m         \u001b[0;32mif\u001b[0m \u001b[0mself\u001b[0m\u001b[0;34m.\u001b[0m\u001b[0m_exception\u001b[0m \u001b[0;32mis\u001b[0m \u001b[0;32mnot\u001b[0m \u001b[0;32mNone\u001b[0m\u001b[0;34m:\u001b[0m\u001b[0;34m\u001b[0m\u001b[0;34m\u001b[0m\u001b[0m\n\u001b[0;32m--> 178\u001b[0;31m             \u001b[0;32mraise\u001b[0m \u001b[0mself\u001b[0m\u001b[0;34m.\u001b[0m\u001b[0m_exception\u001b[0m\u001b[0;34m\u001b[0m\u001b[0;34m\u001b[0m\u001b[0m\n\u001b[0m\u001b[1;32m    179\u001b[0m         \u001b[0;32mreturn\u001b[0m \u001b[0mself\u001b[0m\u001b[0;34m.\u001b[0m\u001b[0m_result\u001b[0m\u001b[0;34m\u001b[0m\u001b[0;34m\u001b[0m\u001b[0m\n\u001b[1;32m    180\u001b[0m \u001b[0;34m\u001b[0m\u001b[0m\n",
      "\u001b[0;32m~/anaconda3/envs/my_syft_env/lib/python3.8/asyncio/tasks.py\u001b[0m in \u001b[0;36m__step\u001b[0;34m(***failed resolving arguments***)\u001b[0m\n\u001b[1;32m    278\u001b[0m                 \u001b[0;31m# We use the `send` method directly, because coroutines\u001b[0m\u001b[0;34m\u001b[0m\u001b[0;34m\u001b[0m\u001b[0;34m\u001b[0m\u001b[0m\n\u001b[1;32m    279\u001b[0m                 \u001b[0;31m# don't have `__iter__` and `__next__` methods.\u001b[0m\u001b[0;34m\u001b[0m\u001b[0;34m\u001b[0m\u001b[0;34m\u001b[0m\u001b[0m\n\u001b[0;32m--> 280\u001b[0;31m                 \u001b[0mresult\u001b[0m \u001b[0;34m=\u001b[0m \u001b[0mcoro\u001b[0m\u001b[0;34m.\u001b[0m\u001b[0msend\u001b[0m\u001b[0;34m(\u001b[0m\u001b[0;32mNone\u001b[0m\u001b[0;34m)\u001b[0m\u001b[0;34m\u001b[0m\u001b[0;34m\u001b[0m\u001b[0m\n\u001b[0m\u001b[1;32m    281\u001b[0m             \u001b[0;32melse\u001b[0m\u001b[0;34m:\u001b[0m\u001b[0;34m\u001b[0m\u001b[0;34m\u001b[0m\u001b[0m\n\u001b[1;32m    282\u001b[0m                 \u001b[0mresult\u001b[0m \u001b[0;34m=\u001b[0m \u001b[0mcoro\u001b[0m\u001b[0;34m.\u001b[0m\u001b[0mthrow\u001b[0m\u001b[0;34m(\u001b[0m\u001b[0mexc\u001b[0m\u001b[0;34m)\u001b[0m\u001b[0;34m\u001b[0m\u001b[0;34m\u001b[0m\u001b[0m\n",
      "\u001b[0;32m~/anaconda3/envs/my_syft_env/lib/python3.8/site-packages/aries_basic_controller/controllers/connections.py\u001b[0m in \u001b[0;36mcreate_invitation\u001b[0;34m(self, alias, auto_accept, public, multi_use)\u001b[0m\n\u001b[1;32m     75\u001b[0m             \u001b[0mparams\u001b[0m\u001b[0;34m[\u001b[0m\u001b[0;34m\"multi_use\"\u001b[0m\u001b[0;34m]\u001b[0m \u001b[0;34m=\u001b[0m \u001b[0mmulti_use\u001b[0m\u001b[0;34m\u001b[0m\u001b[0;34m\u001b[0m\u001b[0m\n\u001b[1;32m     76\u001b[0m \u001b[0;34m\u001b[0m\u001b[0m\n\u001b[0;32m---> 77\u001b[0;31m         \u001b[0minvite_details\u001b[0m \u001b[0;34m=\u001b[0m \u001b[0;32mawait\u001b[0m \u001b[0mself\u001b[0m\u001b[0;34m.\u001b[0m\u001b[0madmin_POST\u001b[0m\u001b[0;34m(\u001b[0m\u001b[0;34m\"/connections/create-invitation\"\u001b[0m\u001b[0;34m,\u001b[0m \u001b[0mparams\u001b[0m \u001b[0;34m=\u001b[0m \u001b[0mparams\u001b[0m\u001b[0;34m)\u001b[0m\u001b[0;34m\u001b[0m\u001b[0;34m\u001b[0m\u001b[0m\n\u001b[0m\u001b[1;32m     78\u001b[0m         \u001b[0mconnection\u001b[0m \u001b[0;34m=\u001b[0m \u001b[0mConnection\u001b[0m\u001b[0;34m(\u001b[0m\u001b[0minvite_details\u001b[0m\u001b[0;34m[\u001b[0m\u001b[0;34m\"connection_id\"\u001b[0m\u001b[0;34m]\u001b[0m\u001b[0;34m,\u001b[0m \u001b[0;34m\"invitation\"\u001b[0m\u001b[0;34m)\u001b[0m\u001b[0;34m\u001b[0m\u001b[0;34m\u001b[0m\u001b[0m\n\u001b[1;32m     79\u001b[0m         \u001b[0mself\u001b[0m\u001b[0;34m.\u001b[0m\u001b[0mconnections\u001b[0m\u001b[0;34m.\u001b[0m\u001b[0mappend\u001b[0m\u001b[0;34m(\u001b[0m\u001b[0mconnection\u001b[0m\u001b[0;34m)\u001b[0m\u001b[0;34m\u001b[0m\u001b[0;34m\u001b[0m\u001b[0m\n",
      "\u001b[0;32m~/anaconda3/envs/my_syft_env/lib/python3.8/site-packages/aries_basic_controller/controllers/base.py\u001b[0m in \u001b[0;36madmin_POST\u001b[0;34m(self, path, json_data, text, params, data)\u001b[0m\n\u001b[1;32m     94\u001b[0m                 \u001b[0;34m(\u001b[0m\u001b[0;34m\" with data: \\n{}\"\u001b[0m\u001b[0;34m.\u001b[0m\u001b[0mformat\u001b[0m\u001b[0;34m(\u001b[0m\u001b[0mrepr_json\u001b[0m\u001b[0;34m(\u001b[0m\u001b[0mjson_data\u001b[0m\u001b[0;34m)\u001b[0m\u001b[0;34m)\u001b[0m \u001b[0;32mif\u001b[0m \u001b[0mjson_data\u001b[0m \u001b[0;32melse\u001b[0m \u001b[0;34m\"\"\u001b[0m\u001b[0;34m)\u001b[0m\u001b[0;34m,\u001b[0m\u001b[0;34m\u001b[0m\u001b[0;34m\u001b[0m\u001b[0m\n\u001b[1;32m     95\u001b[0m             )\n\u001b[0;32m---> 96\u001b[0;31m             \u001b[0mresponse\u001b[0m \u001b[0;34m=\u001b[0m \u001b[0;32mawait\u001b[0m \u001b[0mself\u001b[0m\u001b[0;34m.\u001b[0m\u001b[0madmin_request\u001b[0m\u001b[0;34m(\u001b[0m\u001b[0;34m\"POST\"\u001b[0m\u001b[0;34m,\u001b[0m \u001b[0mpath\u001b[0m\u001b[0;34m,\u001b[0m \u001b[0mjson_data\u001b[0m\u001b[0;34m,\u001b[0m \u001b[0mtext\u001b[0m\u001b[0;34m,\u001b[0m \u001b[0mparams\u001b[0m\u001b[0;34m,\u001b[0m \u001b[0mdata\u001b[0m\u001b[0;34m)\u001b[0m\u001b[0;34m\u001b[0m\u001b[0;34m\u001b[0m\u001b[0m\n\u001b[0m\u001b[1;32m     97\u001b[0m             EVENT_LOGGER.debug(\n\u001b[1;32m     98\u001b[0m                 \u001b[0;34m\"Response from POST %s received: \\n%s\"\u001b[0m\u001b[0;34m,\u001b[0m \u001b[0mpath\u001b[0m\u001b[0;34m,\u001b[0m \u001b[0mrepr_json\u001b[0m\u001b[0;34m(\u001b[0m\u001b[0mresponse\u001b[0m\u001b[0;34m)\u001b[0m\u001b[0;34m,\u001b[0m\u001b[0;34m\u001b[0m\u001b[0;34m\u001b[0m\u001b[0m\n",
      "\u001b[0;32m~/anaconda3/envs/my_syft_env/lib/python3.8/site-packages/aries_basic_controller/controllers/base.py\u001b[0m in \u001b[0;36madmin_request\u001b[0;34m(self, method, path, json_data, text, params, data)\u001b[0m\n\u001b[1;32m     58\u001b[0m     ) -> ClientResponse:\n\u001b[1;32m     59\u001b[0m         \u001b[0mparams\u001b[0m \u001b[0;34m=\u001b[0m \u001b[0;34m{\u001b[0m\u001b[0mk\u001b[0m\u001b[0;34m:\u001b[0m \u001b[0mv\u001b[0m \u001b[0;32mfor\u001b[0m \u001b[0;34m(\u001b[0m\u001b[0mk\u001b[0m\u001b[0;34m,\u001b[0m \u001b[0mv\u001b[0m\u001b[0;34m)\u001b[0m \u001b[0;32min\u001b[0m \u001b[0;34m(\u001b[0m\u001b[0mparams\u001b[0m \u001b[0;32mor\u001b[0m \u001b[0;34m{\u001b[0m\u001b[0;34m}\u001b[0m\u001b[0;34m)\u001b[0m\u001b[0;34m.\u001b[0m\u001b[0mitems\u001b[0m\u001b[0;34m(\u001b[0m\u001b[0;34m)\u001b[0m \u001b[0;32mif\u001b[0m \u001b[0mv\u001b[0m \u001b[0;32mis\u001b[0m \u001b[0;32mnot\u001b[0m \u001b[0;32mNone\u001b[0m\u001b[0;34m}\u001b[0m\u001b[0;34m\u001b[0m\u001b[0;34m\u001b[0m\u001b[0m\n\u001b[0;32m---> 60\u001b[0;31m         async with self.client_session.request(\n\u001b[0m\u001b[1;32m     61\u001b[0m             \u001b[0mmethod\u001b[0m\u001b[0;34m,\u001b[0m \u001b[0mself\u001b[0m\u001b[0;34m.\u001b[0m\u001b[0madmin_url\u001b[0m \u001b[0;34m+\u001b[0m \u001b[0mpath\u001b[0m\u001b[0;34m,\u001b[0m \u001b[0mjson\u001b[0m\u001b[0;34m=\u001b[0m\u001b[0mjson_data\u001b[0m\u001b[0;34m,\u001b[0m \u001b[0mparams\u001b[0m\u001b[0;34m=\u001b[0m\u001b[0mparams\u001b[0m\u001b[0;34m,\u001b[0m \u001b[0mdata\u001b[0m\u001b[0;34m=\u001b[0m\u001b[0mdata\u001b[0m\u001b[0;34m\u001b[0m\u001b[0;34m\u001b[0m\u001b[0m\n\u001b[1;32m     62\u001b[0m         ) as resp:\n",
      "\u001b[0;32m~/anaconda3/envs/my_syft_env/lib/python3.8/site-packages/aiohttp/client.py\u001b[0m in \u001b[0;36m__aenter__\u001b[0;34m(self)\u001b[0m\n\u001b[1;32m   1010\u001b[0m \u001b[0;34m\u001b[0m\u001b[0m\n\u001b[1;32m   1011\u001b[0m     \u001b[0;32masync\u001b[0m \u001b[0;32mdef\u001b[0m \u001b[0m__aenter__\u001b[0m\u001b[0;34m(\u001b[0m\u001b[0mself\u001b[0m\u001b[0;34m)\u001b[0m \u001b[0;34m->\u001b[0m \u001b[0m_RetType\u001b[0m\u001b[0;34m:\u001b[0m\u001b[0;34m\u001b[0m\u001b[0;34m\u001b[0m\u001b[0m\n\u001b[0;32m-> 1012\u001b[0;31m         \u001b[0mself\u001b[0m\u001b[0;34m.\u001b[0m\u001b[0m_resp\u001b[0m \u001b[0;34m=\u001b[0m \u001b[0;32mawait\u001b[0m \u001b[0mself\u001b[0m\u001b[0;34m.\u001b[0m\u001b[0m_coro\u001b[0m\u001b[0;34m\u001b[0m\u001b[0;34m\u001b[0m\u001b[0m\n\u001b[0m\u001b[1;32m   1013\u001b[0m         \u001b[0;32mreturn\u001b[0m \u001b[0mself\u001b[0m\u001b[0;34m.\u001b[0m\u001b[0m_resp\u001b[0m\u001b[0;34m\u001b[0m\u001b[0;34m\u001b[0m\u001b[0m\n\u001b[1;32m   1014\u001b[0m \u001b[0;34m\u001b[0m\u001b[0m\n",
      "\u001b[0;32m~/anaconda3/envs/my_syft_env/lib/python3.8/site-packages/aiohttp/client.py\u001b[0m in \u001b[0;36m_request\u001b[0;34m(self, method, str_or_url, params, data, json, cookies, headers, skip_auto_headers, auth, allow_redirects, max_redirects, compress, chunked, expect100, raise_for_status, read_until_eof, proxy, proxy_auth, timeout, verify_ssl, fingerprint, ssl_context, ssl, proxy_headers, trace_request_ctx)\u001b[0m\n\u001b[1;32m    355\u001b[0m \u001b[0;34m\u001b[0m\u001b[0m\n\u001b[1;32m    356\u001b[0m         \u001b[0;32mif\u001b[0m \u001b[0mself\u001b[0m\u001b[0;34m.\u001b[0m\u001b[0mclosed\u001b[0m\u001b[0;34m:\u001b[0m\u001b[0;34m\u001b[0m\u001b[0;34m\u001b[0m\u001b[0m\n\u001b[0;32m--> 357\u001b[0;31m             \u001b[0;32mraise\u001b[0m \u001b[0mRuntimeError\u001b[0m\u001b[0;34m(\u001b[0m\u001b[0;34m'Session is closed'\u001b[0m\u001b[0;34m)\u001b[0m\u001b[0;34m\u001b[0m\u001b[0;34m\u001b[0m\u001b[0m\n\u001b[0m\u001b[1;32m    358\u001b[0m \u001b[0;34m\u001b[0m\u001b[0m\n\u001b[1;32m    359\u001b[0m         \u001b[0mssl\u001b[0m \u001b[0;34m=\u001b[0m \u001b[0m_merge_ssl_params\u001b[0m\u001b[0;34m(\u001b[0m\u001b[0mssl\u001b[0m\u001b[0;34m,\u001b[0m \u001b[0mverify_ssl\u001b[0m\u001b[0;34m,\u001b[0m \u001b[0mssl_context\u001b[0m\u001b[0;34m,\u001b[0m \u001b[0mfingerprint\u001b[0m\u001b[0;34m)\u001b[0m\u001b[0;34m\u001b[0m\u001b[0;34m\u001b[0m\u001b[0m\n",
      "\u001b[0;31mRuntimeError\u001b[0m: Session is closed"
     ]
    }
   ],
   "source": [
    "dataowner_exchanger.run(\"123\")"
   ]
  },
  {
   "cell_type": "code",
   "execution_count": null,
   "metadata": {},
   "outputs": [],
   "source": [
    "await dataowner_exchanger.agent_controller.terminate()\n",
    "await datascientist_exchanger.agent_controller.terminate()"
   ]
  },
  {
   "cell_type": "code",
   "execution_count": null,
   "metadata": {},
   "outputs": [],
   "source": []
  }
 ],
 "metadata": {
  "kernelspec": {
   "display_name": "Python 3",
   "language": "python",
   "name": "python3"
  },
  "language_info": {
   "codemirror_mode": {
    "name": "ipython",
    "version": 3
   },
   "file_extension": ".py",
   "mimetype": "text/x-python",
   "name": "python",
   "nbconvert_exporter": "python",
   "pygments_lexer": "ipython3",
   "version": "3.8.5"
  }
 },
 "nbformat": 4,
 "nbformat_minor": 4
}

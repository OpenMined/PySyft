{
 "cells": [
  {
   "cell_type": "markdown",
   "metadata": {},
   "source": [
    "# SSI - MNIST - Syft Duet - Data Scientist 🥁"
   ]
  },
  {
   "cell_type": "markdown",
   "metadata": {},
   "source": [
    "## PART 0: Establish Authenticated DIDComm connection with Data Owner"
   ]
  },
  {
   "cell_type": "markdown",
   "metadata": {},
   "source": [
    "## Part 0.1 Initialise Aries Agent Controller"
   ]
  },
  {
   "cell_type": "code",
   "execution_count": 1,
   "metadata": {},
   "outputs": [
    {
     "name": "stdout",
     "output_type": "stream",
     "text": [
      "IPython autoawait is `on`, and set to use `asyncio`\n"
     ]
    }
   ],
   "source": [
    "%autoawait\n",
    "import time\n",
    "import asyncio\n",
    "from aries_basic_controller.aries_controller import AriesAgentController\n",
    "\n",
    "    \n",
    "# Anyone know how to get env variables into juypter notebooks through docker easily?\n",
    "WEBHOOK_HOST = \"0.0.0.0\"\n",
    "WEBHOOK_PORT = 8022\n",
    "WEBHOOK_BASE = \"\"\n",
    "ADMIN_URL = \"http://0.0.0.0:8021\"\n",
    "\n",
    "# Note AttachmentController just extends the basic controller to include the new attachment endpoint\n",
    "agent_controller = AriesAgentController(webhook_host=WEBHOOK_HOST, webhook_port=WEBHOOK_PORT,\n",
    "                                       webhook_base=WEBHOOK_BASE, admin_url=ADMIN_URL)"
   ]
  },
  {
   "cell_type": "markdown",
   "metadata": {},
   "source": [
    "## Part 0.2 Register Listeners"
   ]
  },
  {
   "cell_type": "code",
   "execution_count": 2,
   "metadata": {},
   "outputs": [],
   "source": [
    "loop = asyncio.get_event_loop()\n",
    "loop.create_task(agent_controller.listen_webhooks())\n",
    "\n",
    "def connection_handler(payload):\n",
    "    print(\"Connection Handler Called\")\n",
    "    connection_id = payload[\"connection_id\"]\n",
    "    state = payload[\"state\"]\n",
    "    print(f\"Connection {connection_id} in State {state}\")\n",
    "    \n",
    "connection_listener = {\n",
    "    \"handler\": connection_handler,\n",
    "    \"topic\": \"connections\"\n",
    "}\n",
    "\n",
    "def proof_handler(payload):\n",
    "    print(\"Handle present proof\")\n",
    "    role = payload[\"role\"]\n",
    "    pres_ex_id = payload[\"presentation_exchange_id\"]\n",
    "    state = payload[\"state\"]\n",
    "    print(f\"Role {role}, Exchange {pres_ex_id} in state {state}\")\n",
    "\n",
    "proof_listener = {\n",
    "    \"topic\": \"present_proof\",\n",
    "    \"handler\": proof_handler\n",
    "}\n",
    "def cred_handler(payload):\n",
    "    print(\"Handle Credentials\")\n",
    "    exchange_id = payload['credential_exchange_id']\n",
    "    state = payload['state']\n",
    "    role = payload['role']\n",
    "    attributes = payload['credential_proposal_dict']['credential_proposal']['attributes']\n",
    "    print(f\"Credential exchange {exchange_id}, role: {role}, state: {state}\")\n",
    "    print(f\"Offering: {attributes}\")\n",
    "    \n",
    "cred_listener = {\n",
    "    \"topic\": \"issue_credential\",\n",
    "    \"handler\": cred_handler\n",
    "}\n",
    "\n",
    "# Receive basic messages\n",
    "def messages_handler(payload):\n",
    "    \n",
    "    global duet_id\n",
    "    duet_id = payload[\"content\"]\n",
    "    print(\"Handle Duet ID\", duet_id)    \n",
    "\n",
    "message_listener = {\n",
    "    \"handler\": messages_handler,\n",
    "    \"topic\": \"basicmessages\"\n",
    "}\n",
    "\n",
    "agent_controller.register_listeners([connection_listener, proof_listener, cred_listener, message_listener], defaults=True)"
   ]
  },
  {
   "cell_type": "markdown",
   "metadata": {},
   "source": [
    "## Part 0.3: Connect to Remote OpenMined Issuer Agent to receive Credential\n",
    "\n",
    "TODO: Deploy Issuer agent into the cloud.\n",
    "\n",
    "Currently you can run an issuer agent locally by running `./manage start` in the ssi/Issuer folder.\n",
    "\n",
    "Run through the [Issuer notebook](http://127.0.0.1:8890/notebooks/Duet%20Issuer.ipynb) first to create the invitation. Paste it in below.\n",
    "\n",
    "*This is a multi-use invitation to an Issuer Agent that we have running in the cloud. Once a connection has been established the issuer will automatically offer you a Credential.*\n",
    "\n",
    "These flows can be understood in more detail by going through the following tutorials:\n",
    "\n",
    "* TODO"
   ]
  },
  {
   "cell_type": "code",
   "execution_count": 3,
   "metadata": {},
   "outputs": [],
   "source": [
    "# Paste in invitation from the Issuer agenr\n",
    "invitation = {'@type': 'did:sov:BzCbsNYhMrjHiqZDTUASHg;spec/connections/1.0/invitation', '@id': 'ce246450-d95d-4445-99b1-911451e5ad55', 'label': 'ISSUER', 'recipientKeys': ['29n6ReRJNBfFFh87nfgeghS1SZJ6n6qw1rRmvtidv9uG'], 'serviceEndpoint': 'https://d4263894fe94.ngrok.io'}"
   ]
  },
  {
   "cell_type": "code",
   "execution_count": 4,
   "metadata": {},
   "outputs": [
    {
     "name": "stdout",
     "output_type": "stream",
     "text": [
      "Connection Handler Called\n",
      "Connection c834ec54-870f-4eb5-a4e0-4850c82af6be in State invitation\n",
      "Connection Handler Called\n",
      "Connection c834ec54-870f-4eb5-a4e0-4850c82af6be in State request\n",
      "Connection {'updated_at': '2020-12-19 17:10:38.799783Z', 'accept': 'manual', 'invitation_key': '29n6ReRJNBfFFh87nfgeghS1SZJ6n6qw1rRmvtidv9uG', 'connection_id': 'c834ec54-870f-4eb5-a4e0-4850c82af6be', 'their_label': 'ISSUER', 'initiator': 'external', 'state': 'request', 'request_id': 'f8fc6122-c0fc-451c-a98e-7186d1539669', 'invitation_mode': 'once', 'routing_state': 'none', 'created_at': '2020-12-19 17:10:38.771195Z', 'my_did': 'X5vKkY1LwTxWGbdLdKSoZQ'}\n",
      "Connection Handler Called\n",
      "Connection c834ec54-870f-4eb5-a4e0-4850c82af6be in State response\n",
      "Connection Handler Called\n",
      "Connection c834ec54-870f-4eb5-a4e0-4850c82af6be in State active\n",
      "Handle Credentials\n",
      "Credential exchange 5c23dd9f-7473-45a0-82bc-b8da757a0b01, role: holder, state: offer_received\n",
      "Offering: [{'name': 'connection_permitted', 'value': '1'}]\n",
      "Handle Credentials\n",
      "Credential exchange 5c23dd9f-7473-45a0-82bc-b8da757a0b01, role: holder, state: request_sent\n",
      "Offering: [{'name': 'connection_permitted', 'value': '1'}]\n",
      "Handle Credentials\n",
      "Credential exchange 5c23dd9f-7473-45a0-82bc-b8da757a0b01, role: holder, state: credential_received\n",
      "Offering: [{'name': 'connection_permitted', 'value': '1'}]\n",
      "Handle Credentials\n",
      "Credential exchange 5c23dd9f-7473-45a0-82bc-b8da757a0b01, role: holder, state: credential_acked\n",
      "Offering: [{'name': 'connection_permitted', 'value': '1'}]\n"
     ]
    }
   ],
   "source": [
    "# Receive Invitation\n",
    "response = await agent_controller.connections.accept_connection(invitation)\n",
    "# Print out accepted Invite and Alice's connection ID\n",
    "print(\"Connection\", response)\n",
    "issuer_id = response[\"connection_id\"]"
   ]
  },
  {
   "cell_type": "code",
   "execution_count": 5,
   "metadata": {},
   "outputs": [],
   "source": [
    "await agent_controller.terminate()"
   ]
  },
  {
   "cell_type": "markdown",
   "metadata": {},
   "source": [
    "## PART 0.4: Connect To Data Owner\n",
    "\n",
    "The Data Owner will then request proof that you have a credential from the OM Issuer, authenticating you as a valid scientist.\n",
    "\n",
    "Create invite and copy the invite json across to the [Data Owner notebook](http://127.0.0.1:8888/notebooks/SSI_Syft_Data_Owner.ipynb)."
   ]
  },
  {
   "cell_type": "code",
   "execution_count": 12,
   "metadata": {},
   "outputs": [
    {
     "name": "stdout",
     "output_type": "stream",
     "text": [
      "Connection ID f93f92a7-9519-4629-96c8-e7f226239c77\n",
      "Copy Invitation to Data Owner\n",
      "{'@type': 'did:sov:BzCbsNYhMrjHiqZDTUASHg;spec/connections/1.0/invitation', '@id': '97f45d33-7a76-4107-867f-298e92e638a9', 'label': 'DATASCIENTIST', 'recipientKeys': ['ETgwDSuHCGcqoDEMPZ2uxQMwBU9vkmNhJiiRqnzNg9uD'], 'serviceEndpoint': 'https://11938c62c8af.ngrok.io'}\n",
      "Connection Handler Called\n",
      "Connection f93f92a7-9519-4629-96c8-e7f226239c77 in State invitation\n",
      "Connection Handler Called\n",
      "Connection f93f92a7-9519-4629-96c8-e7f226239c77 in State request\n",
      "Connection Handler Called\n",
      "Connection f93f92a7-9519-4629-96c8-e7f226239c77 in State response\n",
      "Connection Handler Called\n",
      "Connection f93f92a7-9519-4629-96c8-e7f226239c77 in State active\n",
      "Handle present proof\n",
      "Role prover, Exchange 85f43f4d-4c07-462b-8f89-7e26e4067a90 in state request_received\n",
      "Handle present proof\n",
      "Role prover, Exchange 85f43f4d-4c07-462b-8f89-7e26e4067a90 in state presentation_sent\n",
      "Handle present proof\n",
      "Role prover, Exchange 85f43f4d-4c07-462b-8f89-7e26e4067a90 in state presentation_acked\n"
     ]
    }
   ],
   "source": [
    "# Create Invitation\n",
    "invite = await agent_controller.connections.create_invitation()\n",
    "dataowner_id = invite[\"connection_id\"]\n",
    "invite_message = invite['invitation']\n",
    "print(\"Connection ID\", dataowner_id)\n",
    "print(\"Copy Invitation to Data Owner\\n\")\n",
    "print(invite_message)"
   ]
  },
  {
   "cell_type": "markdown",
   "metadata": {},
   "source": [
    "## TODO: There is some work do be done. Once authenticated the Data Scientist should receive the duet id from the owner and use this to join duet. Then respond with their own duet id."
   ]
  },
  {
   "cell_type": "markdown",
   "metadata": {},
   "source": [
    "## PART 1: Connect to a Remote Duet Server\n",
    "\n",
    "As the Data Scientist, you want to perform data science on data that is sitting in the Data Owner's Duet server in their Notebook.\n",
    "\n",
    "In order to do this, we must run the code that the Data Owner sends us, which importantly includes their Duet Session ID. The code will look like this, importantly with their real Server ID.\n",
    "\n",
    "```\n",
    "import syft as sy\n",
    "duet = sy.duet('xxxxxxxxxxxxxxxxxxxxxxxxxxxxxxxx')\n",
    "```\n",
    "\n",
    "This will create a direct connection from my notebook to the remote Duet server. Once the connection is established all traffic is sent directly between the two nodes.\n",
    "\n",
    "Paste the code or Server ID that the Data Owner gives you and run it in the cell below. It will return your Client ID which you must send to the Data Owner to enter into Duet so it can pair your notebooks."
   ]
  },
  {
   "cell_type": "code",
   "execution_count": 7,
   "metadata": {},
   "outputs": [
    {
     "data": {
      "image/png": "[encoded data removed]",
      "text/plain": [
       "<IPython.core.display.Image object>"
      ]
     },
     "metadata": {
      "image/png": {
       "unconfined": true,
       "width": 400
      }
     },
     "output_type": "display_data"
    },
    {
     "name": "stdout",
     "output_type": "stream",
     "text": [
      "🎤  🎸  ♪♪♪ Joining Duet ♫♫♫  🎻  🎹\n",
      "\n",
      "♫♫♫ >\u001b[93m DISCLAIMER\u001b[0m:\u001b[1m Duet is an experimental feature currently in beta.\n",
      "♫♫♫ >             Use at your own risk.\n",
      "\n",
      "♫♫♫ > \n",
      "\u001b[0m♫♫♫ >\n",
      "♫♫♫ > Punching through firewall to OpenGrid Network Node at:\n",
      "♫♫♫ > http://ec2-18-216-8-163.us-east-2.compute.amazonaws.com:5000\n",
      "♫♫♫ >\n",
      "♫♫♫ > ...waiting for response from OpenGrid Network... \u001b[92mDONE!\u001b[0m\n",
      "\n",
      "♫♫♫ > Duet Client ID: \u001b[1m12f9142125b4ac590eaa80e61aa70b72\u001b[0m\n",
      "\n",
      "♫♫♫ > \u001b[95mSTEP 1:\u001b[0m Send the Duet Client ID to your duet partner!\n",
      "\n",
      "♫♫♫ > ...waiting for partner to connect...\n",
      "[Errno 2] No such file or directory: '/tmp/duet_loopback.json'\n",
      "♫♫♫ > ...using a running event loop...\n"
     ]
    },
    {
     "ename": "KeyboardInterrupt",
     "evalue": "",
     "output_type": "error",
     "traceback": [
      "\u001b[0;31m---------------------------------------------------------------------------\u001b[0m",
      "\u001b[0;31mKeyboardInterrupt\u001b[0m                         Traceback (most recent call last)",
      "\u001b[0;32m<ipython-input-7-52d76df9aee9>\u001b[0m in \u001b[0;36m<module>\u001b[0;34m\u001b[0m\n\u001b[1;32m      1\u001b[0m \u001b[0;32mimport\u001b[0m \u001b[0msyft\u001b[0m \u001b[0;32mas\u001b[0m \u001b[0msy\u001b[0m\u001b[0;34m\u001b[0m\u001b[0;34m\u001b[0m\u001b[0m\n\u001b[0;32m----> 2\u001b[0;31m \u001b[0msy\u001b[0m\u001b[0;34m.\u001b[0m\u001b[0mjoin_duet\u001b[0m\u001b[0;34m(\u001b[0m\u001b[0mloopback\u001b[0m\u001b[0;34m=\u001b[0m\u001b[0;32mTrue\u001b[0m\u001b[0;34m)\u001b[0m\u001b[0;34m\u001b[0m\u001b[0;34m\u001b[0m\u001b[0m\n\u001b[0m",
      "\u001b[0;32m/opt/conda/lib/python3.7/site-packages/syft/grid/duet/__init__.py\u001b[0m in \u001b[0;36mjoin_duet\u001b[0;34m(target_id, network_url, loopback)\u001b[0m\n\u001b[1;32m    379\u001b[0m         \u001b[0mtarget_id\u001b[0m\u001b[0;34m=\u001b[0m\u001b[0mtarget_id\u001b[0m\u001b[0;34m,\u001b[0m\u001b[0;34m\u001b[0m\u001b[0;34m\u001b[0m\u001b[0m\n\u001b[1;32m    380\u001b[0m         \u001b[0msignaling_client\u001b[0m\u001b[0;34m=\u001b[0m\u001b[0msignaling_client\u001b[0m\u001b[0;34m,\u001b[0m\u001b[0;34m\u001b[0m\u001b[0;34m\u001b[0m\u001b[0m\n\u001b[0;32m--> 381\u001b[0;31m         \u001b[0moffer\u001b[0m\u001b[0;34m=\u001b[0m\u001b[0;32mFalse\u001b[0m\u001b[0;34m,\u001b[0m\u001b[0;34m\u001b[0m\u001b[0;34m\u001b[0m\u001b[0m\n\u001b[0m\u001b[1;32m    382\u001b[0m     )\n\u001b[1;32m    383\u001b[0m     \u001b[0mprint\u001b[0m\u001b[0;34m(\u001b[0m\u001b[0;34m)\u001b[0m\u001b[0;34m\u001b[0m\u001b[0;34m\u001b[0m\u001b[0m\n",
      "\u001b[0;32m/opt/conda/lib/python3.7/site-packages/syft/grid/duet/webrtc_duet.py\u001b[0m in \u001b[0;36m__init__\u001b[0;34m(self, node, target_id, signaling_client, offer)\u001b[0m\n\u001b[1;32m    124\u001b[0m         \u001b[0;31m# 2 - Unexpected Exception\u001b[0m\u001b[0;34m\u001b[0m\u001b[0;34m\u001b[0m\u001b[0;34m\u001b[0m\u001b[0m\n\u001b[1;32m    125\u001b[0m         \u001b[0;32mtry\u001b[0m\u001b[0;34m:\u001b[0m\u001b[0;34m\u001b[0m\u001b[0;34m\u001b[0m\u001b[0m\n\u001b[0;32m--> 126\u001b[0;31m             \u001b[0masyncio\u001b[0m\u001b[0;34m.\u001b[0m\u001b[0mrun\u001b[0m\u001b[0;34m(\u001b[0m\u001b[0mself\u001b[0m\u001b[0;34m.\u001b[0m\u001b[0mnotify\u001b[0m\u001b[0;34m(\u001b[0m\u001b[0;34m)\u001b[0m\u001b[0;34m)\u001b[0m\u001b[0;34m\u001b[0m\u001b[0;34m\u001b[0m\u001b[0m\n\u001b[0m\u001b[1;32m    127\u001b[0m \u001b[0;34m\u001b[0m\u001b[0m\n\u001b[1;32m    128\u001b[0m             \u001b[0;31m# If client_metadata != None, then the connection was created successfully.\u001b[0m\u001b[0;34m\u001b[0m\u001b[0;34m\u001b[0m\u001b[0;34m\u001b[0m\u001b[0m\n",
      "\u001b[0;32m/opt/conda/lib/python3.7/site-packages/nest_asyncio.py\u001b[0m in \u001b[0;36mrun\u001b[0;34m(future, debug)\u001b[0m\n\u001b[1;32m     30\u001b[0m         \u001b[0mloop\u001b[0m \u001b[0;34m=\u001b[0m \u001b[0masyncio\u001b[0m\u001b[0;34m.\u001b[0m\u001b[0mget_event_loop\u001b[0m\u001b[0;34m(\u001b[0m\u001b[0;34m)\u001b[0m\u001b[0;34m\u001b[0m\u001b[0;34m\u001b[0m\u001b[0m\n\u001b[1;32m     31\u001b[0m         \u001b[0mloop\u001b[0m\u001b[0;34m.\u001b[0m\u001b[0mset_debug\u001b[0m\u001b[0;34m(\u001b[0m\u001b[0mdebug\u001b[0m\u001b[0;34m)\u001b[0m\u001b[0;34m\u001b[0m\u001b[0;34m\u001b[0m\u001b[0m\n\u001b[0;32m---> 32\u001b[0;31m         \u001b[0;32mreturn\u001b[0m \u001b[0mloop\u001b[0m\u001b[0;34m.\u001b[0m\u001b[0mrun_until_complete\u001b[0m\u001b[0;34m(\u001b[0m\u001b[0mfuture\u001b[0m\u001b[0;34m)\u001b[0m\u001b[0;34m\u001b[0m\u001b[0;34m\u001b[0m\u001b[0m\n\u001b[0m\u001b[1;32m     33\u001b[0m \u001b[0;34m\u001b[0m\u001b[0m\n\u001b[1;32m     34\u001b[0m     \u001b[0;32mif\u001b[0m \u001b[0msys\u001b[0m\u001b[0;34m.\u001b[0m\u001b[0mversion_info\u001b[0m \u001b[0;34m>=\u001b[0m \u001b[0;34m(\u001b[0m\u001b[0;36m3\u001b[0m\u001b[0;34m,\u001b[0m \u001b[0;36m6\u001b[0m\u001b[0;34m,\u001b[0m \u001b[0;36m0\u001b[0m\u001b[0;34m)\u001b[0m\u001b[0;34m:\u001b[0m\u001b[0;34m\u001b[0m\u001b[0;34m\u001b[0m\u001b[0m\n",
      "\u001b[0;32m/opt/conda/lib/python3.7/site-packages/nest_asyncio.py\u001b[0m in \u001b[0;36mrun_until_complete\u001b[0;34m(self, future)\u001b[0m\n\u001b[1;32m     88\u001b[0m                 \u001b[0mf\u001b[0m\u001b[0;34m.\u001b[0m\u001b[0m_log_destroy_pending\u001b[0m \u001b[0;34m=\u001b[0m \u001b[0;32mFalse\u001b[0m\u001b[0;34m\u001b[0m\u001b[0;34m\u001b[0m\u001b[0m\n\u001b[1;32m     89\u001b[0m             \u001b[0;32mwhile\u001b[0m \u001b[0;32mnot\u001b[0m \u001b[0mf\u001b[0m\u001b[0;34m.\u001b[0m\u001b[0mdone\u001b[0m\u001b[0;34m(\u001b[0m\u001b[0;34m)\u001b[0m\u001b[0;34m:\u001b[0m\u001b[0;34m\u001b[0m\u001b[0;34m\u001b[0m\u001b[0m\n\u001b[0;32m---> 90\u001b[0;31m                 \u001b[0mself\u001b[0m\u001b[0;34m.\u001b[0m\u001b[0m_run_once\u001b[0m\u001b[0;34m(\u001b[0m\u001b[0;34m)\u001b[0m\u001b[0;34m\u001b[0m\u001b[0;34m\u001b[0m\u001b[0m\n\u001b[0m\u001b[1;32m     91\u001b[0m                 \u001b[0;32mif\u001b[0m \u001b[0mself\u001b[0m\u001b[0;34m.\u001b[0m\u001b[0m_stopping\u001b[0m\u001b[0;34m:\u001b[0m\u001b[0;34m\u001b[0m\u001b[0;34m\u001b[0m\u001b[0m\n\u001b[1;32m     92\u001b[0m                     \u001b[0;32mbreak\u001b[0m\u001b[0;34m\u001b[0m\u001b[0;34m\u001b[0m\u001b[0m\n",
      "\u001b[0;32m/opt/conda/lib/python3.7/site-packages/nest_asyncio.py\u001b[0m in \u001b[0;36m_run_once\u001b[0;34m(self)\u001b[0m\n\u001b[1;32m    125\u001b[0m             \u001b[0mhandle\u001b[0m \u001b[0;34m=\u001b[0m \u001b[0mready\u001b[0m\u001b[0;34m.\u001b[0m\u001b[0mpopleft\u001b[0m\u001b[0;34m(\u001b[0m\u001b[0;34m)\u001b[0m\u001b[0;34m\u001b[0m\u001b[0;34m\u001b[0m\u001b[0m\n\u001b[1;32m    126\u001b[0m             \u001b[0;32mif\u001b[0m \u001b[0;32mnot\u001b[0m \u001b[0mhandle\u001b[0m\u001b[0;34m.\u001b[0m\u001b[0m_cancelled\u001b[0m\u001b[0;34m:\u001b[0m\u001b[0;34m\u001b[0m\u001b[0;34m\u001b[0m\u001b[0m\n\u001b[0;32m--> 127\u001b[0;31m                 \u001b[0mhandle\u001b[0m\u001b[0;34m.\u001b[0m\u001b[0m_run\u001b[0m\u001b[0;34m(\u001b[0m\u001b[0;34m)\u001b[0m\u001b[0;34m\u001b[0m\u001b[0;34m\u001b[0m\u001b[0m\n\u001b[0m\u001b[1;32m    128\u001b[0m         \u001b[0mhandle\u001b[0m \u001b[0;34m=\u001b[0m \u001b[0;32mNone\u001b[0m\u001b[0;34m\u001b[0m\u001b[0;34m\u001b[0m\u001b[0m\n\u001b[1;32m    129\u001b[0m \u001b[0;34m\u001b[0m\u001b[0m\n",
      "\u001b[0;32m/opt/conda/lib/python3.7/site-packages/nest_asyncio.py\u001b[0m in \u001b[0;36mrun\u001b[0;34m(self)\u001b[0m\n\u001b[1;32m    194\u001b[0m         \u001b[0;32mtry\u001b[0m\u001b[0;34m:\u001b[0m\u001b[0;34m\u001b[0m\u001b[0;34m\u001b[0m\u001b[0m\n\u001b[1;32m    195\u001b[0m             \u001b[0mctx\u001b[0m \u001b[0;34m=\u001b[0m \u001b[0mself\u001b[0m\u001b[0;34m.\u001b[0m\u001b[0m_context\u001b[0m\u001b[0;34m.\u001b[0m\u001b[0mcopy\u001b[0m\u001b[0;34m(\u001b[0m\u001b[0;34m)\u001b[0m\u001b[0;34m\u001b[0m\u001b[0;34m\u001b[0m\u001b[0m\n\u001b[0;32m--> 196\u001b[0;31m             \u001b[0mctx\u001b[0m\u001b[0;34m.\u001b[0m\u001b[0mrun\u001b[0m\u001b[0;34m(\u001b[0m\u001b[0mself\u001b[0m\u001b[0;34m.\u001b[0m\u001b[0m_callback\u001b[0m\u001b[0;34m,\u001b[0m \u001b[0;34m*\u001b[0m\u001b[0mself\u001b[0m\u001b[0;34m.\u001b[0m\u001b[0m_args\u001b[0m\u001b[0;34m)\u001b[0m\u001b[0;34m\u001b[0m\u001b[0;34m\u001b[0m\u001b[0m\n\u001b[0m\u001b[1;32m    197\u001b[0m             \u001b[0;32mif\u001b[0m \u001b[0mctx\u001b[0m\u001b[0;34m:\u001b[0m\u001b[0;34m\u001b[0m\u001b[0;34m\u001b[0m\u001b[0m\n\u001b[1;32m    198\u001b[0m                 \u001b[0mself\u001b[0m\u001b[0;34m.\u001b[0m\u001b[0m_context\u001b[0m\u001b[0;34m.\u001b[0m\u001b[0mrun\u001b[0m\u001b[0;34m(\u001b[0m\u001b[0mupdate_from_context\u001b[0m\u001b[0;34m,\u001b[0m \u001b[0mctx\u001b[0m\u001b[0;34m)\u001b[0m\u001b[0;34m\u001b[0m\u001b[0;34m\u001b[0m\u001b[0m\n",
      "\u001b[0;32m/opt/conda/lib/python3.7/asyncio/tasks.py\u001b[0m in \u001b[0;36m__wakeup\u001b[0;34m(self, future)\u001b[0m\n\u001b[1;32m    327\u001b[0m             \u001b[0;31m# instead of `__next__()`, which is slower for futures\u001b[0m\u001b[0;34m\u001b[0m\u001b[0;34m\u001b[0m\u001b[0;34m\u001b[0m\u001b[0m\n\u001b[1;32m    328\u001b[0m             \u001b[0;31m# that return non-generator iterators from their `__iter__`.\u001b[0m\u001b[0;34m\u001b[0m\u001b[0;34m\u001b[0m\u001b[0;34m\u001b[0m\u001b[0m\n\u001b[0;32m--> 329\u001b[0;31m             \u001b[0mself\u001b[0m\u001b[0;34m.\u001b[0m\u001b[0m__step\u001b[0m\u001b[0;34m(\u001b[0m\u001b[0;34m)\u001b[0m\u001b[0;34m\u001b[0m\u001b[0;34m\u001b[0m\u001b[0m\n\u001b[0m\u001b[1;32m    330\u001b[0m         \u001b[0mself\u001b[0m \u001b[0;34m=\u001b[0m \u001b[0;32mNone\u001b[0m  \u001b[0;31m# Needed to break cycles when an exception occurs.\u001b[0m\u001b[0;34m\u001b[0m\u001b[0;34m\u001b[0m\u001b[0m\n\u001b[1;32m    331\u001b[0m \u001b[0;34m\u001b[0m\u001b[0m\n",
      "\u001b[0;32m/opt/conda/lib/python3.7/site-packages/nest_asyncio.py\u001b[0m in \u001b[0;36mstep\u001b[0;34m(task, exc)\u001b[0m\n\u001b[1;32m    152\u001b[0m         \u001b[0mcurr_task\u001b[0m \u001b[0;34m=\u001b[0m \u001b[0mcurr_tasks\u001b[0m\u001b[0;34m.\u001b[0m\u001b[0mget\u001b[0m\u001b[0;34m(\u001b[0m\u001b[0mtask\u001b[0m\u001b[0;34m.\u001b[0m\u001b[0m_loop\u001b[0m\u001b[0;34m)\u001b[0m\u001b[0;34m\u001b[0m\u001b[0;34m\u001b[0m\u001b[0m\n\u001b[1;32m    153\u001b[0m         \u001b[0;32mtry\u001b[0m\u001b[0;34m:\u001b[0m\u001b[0;34m\u001b[0m\u001b[0;34m\u001b[0m\u001b[0m\n\u001b[0;32m--> 154\u001b[0;31m             \u001b[0mstep_orig\u001b[0m\u001b[0;34m(\u001b[0m\u001b[0mtask\u001b[0m\u001b[0;34m,\u001b[0m \u001b[0mexc\u001b[0m\u001b[0;34m)\u001b[0m\u001b[0;34m\u001b[0m\u001b[0;34m\u001b[0m\u001b[0m\n\u001b[0m\u001b[1;32m    155\u001b[0m         \u001b[0;32mfinally\u001b[0m\u001b[0;34m:\u001b[0m\u001b[0;34m\u001b[0m\u001b[0;34m\u001b[0m\u001b[0m\n\u001b[1;32m    156\u001b[0m             \u001b[0;32mif\u001b[0m \u001b[0mcurr_task\u001b[0m \u001b[0;32mis\u001b[0m \u001b[0;32mNone\u001b[0m\u001b[0;34m:\u001b[0m\u001b[0;34m\u001b[0m\u001b[0;34m\u001b[0m\u001b[0m\n",
      "\u001b[0;32m/opt/conda/lib/python3.7/asyncio/tasks.py\u001b[0m in \u001b[0;36m__step\u001b[0;34m(***failed resolving arguments***)\u001b[0m\n\u001b[1;32m    247\u001b[0m                 \u001b[0;31m# We use the `send` method directly, because coroutines\u001b[0m\u001b[0;34m\u001b[0m\u001b[0;34m\u001b[0m\u001b[0;34m\u001b[0m\u001b[0m\n\u001b[1;32m    248\u001b[0m                 \u001b[0;31m# don't have `__iter__` and `__next__` methods.\u001b[0m\u001b[0;34m\u001b[0m\u001b[0;34m\u001b[0m\u001b[0;34m\u001b[0m\u001b[0m\n\u001b[0;32m--> 249\u001b[0;31m                 \u001b[0mresult\u001b[0m \u001b[0;34m=\u001b[0m \u001b[0mcoro\u001b[0m\u001b[0;34m.\u001b[0m\u001b[0msend\u001b[0m\u001b[0;34m(\u001b[0m\u001b[0;32mNone\u001b[0m\u001b[0;34m)\u001b[0m\u001b[0;34m\u001b[0m\u001b[0;34m\u001b[0m\u001b[0m\n\u001b[0m\u001b[1;32m    250\u001b[0m             \u001b[0;32melse\u001b[0m\u001b[0;34m:\u001b[0m\u001b[0;34m\u001b[0m\u001b[0;34m\u001b[0m\u001b[0m\n\u001b[1;32m    251\u001b[0m                 \u001b[0mresult\u001b[0m \u001b[0;34m=\u001b[0m \u001b[0mcoro\u001b[0m\u001b[0;34m.\u001b[0m\u001b[0mthrow\u001b[0m\u001b[0;34m(\u001b[0m\u001b[0mexc\u001b[0m\u001b[0;34m)\u001b[0m\u001b[0;34m\u001b[0m\u001b[0;34m\u001b[0m\u001b[0m\n",
      "\u001b[0;32m/opt/conda/lib/python3.7/site-packages/typeguard/__init__.py\u001b[0m in \u001b[0;36masync_wrapper\u001b[0;34m(*args, **kwargs)\u001b[0m\n\u001b[1;32m    907\u001b[0m         \u001b[0mmemo\u001b[0m \u001b[0;34m=\u001b[0m \u001b[0m_CallMemo\u001b[0m\u001b[0;34m(\u001b[0m\u001b[0mpython_func\u001b[0m\u001b[0;34m,\u001b[0m \u001b[0m_localns\u001b[0m\u001b[0;34m,\u001b[0m \u001b[0margs\u001b[0m\u001b[0;34m=\u001b[0m\u001b[0margs\u001b[0m\u001b[0;34m,\u001b[0m \u001b[0mkwargs\u001b[0m\u001b[0;34m=\u001b[0m\u001b[0mkwargs\u001b[0m\u001b[0;34m)\u001b[0m\u001b[0;34m\u001b[0m\u001b[0;34m\u001b[0m\u001b[0m\n\u001b[1;32m    908\u001b[0m         \u001b[0mcheck_argument_types\u001b[0m\u001b[0;34m(\u001b[0m\u001b[0mmemo\u001b[0m\u001b[0;34m)\u001b[0m\u001b[0;34m\u001b[0m\u001b[0;34m\u001b[0m\u001b[0m\n\u001b[0;32m--> 909\u001b[0;31m         \u001b[0mretval\u001b[0m \u001b[0;34m=\u001b[0m \u001b[0;32mawait\u001b[0m \u001b[0mfunc\u001b[0m\u001b[0;34m(\u001b[0m\u001b[0;34m*\u001b[0m\u001b[0margs\u001b[0m\u001b[0;34m,\u001b[0m \u001b[0;34m**\u001b[0m\u001b[0mkwargs\u001b[0m\u001b[0;34m)\u001b[0m\u001b[0;34m\u001b[0m\u001b[0;34m\u001b[0m\u001b[0m\n\u001b[0m\u001b[1;32m    910\u001b[0m         \u001b[0mcheck_return_type\u001b[0m\u001b[0;34m(\u001b[0m\u001b[0mretval\u001b[0m\u001b[0;34m,\u001b[0m \u001b[0mmemo\u001b[0m\u001b[0;34m)\u001b[0m\u001b[0;34m\u001b[0m\u001b[0;34m\u001b[0m\u001b[0m\n\u001b[1;32m    911\u001b[0m         \u001b[0;32mreturn\u001b[0m \u001b[0mretval\u001b[0m\u001b[0;34m\u001b[0m\u001b[0;34m\u001b[0m\u001b[0m\n",
      "\u001b[0;32m/opt/conda/lib/python3.7/site-packages/syft/grid/duet/webrtc_duet.py\u001b[0m in \u001b[0;36mpull\u001b[0;34m(self)\u001b[0m\n\u001b[1;32m    216\u001b[0m                 \u001b[0;31m# If self.push_msg_queue.get() returned a message (OfferPullRequestMessage,AnswerPullRequestMessage)\u001b[0m\u001b[0;34m\u001b[0m\u001b[0;34m\u001b[0m\u001b[0;34m\u001b[0m\u001b[0m\n\u001b[1;32m    217\u001b[0m                 \u001b[0;31m# send it to the signaling server.\u001b[0m\u001b[0;34m\u001b[0m\u001b[0;34m\u001b[0m\u001b[0;34m\u001b[0m\u001b[0m\n\u001b[0;32m--> 218\u001b[0;31m                 \u001b[0m_response\u001b[0m \u001b[0;34m=\u001b[0m \u001b[0mself\u001b[0m\u001b[0;34m.\u001b[0m\u001b[0msignaling_client\u001b[0m\u001b[0;34m.\u001b[0m\u001b[0msend_immediate_msg_with_reply\u001b[0m\u001b[0;34m(\u001b[0m\u001b[0mmsg\u001b[0m\u001b[0;34m=\u001b[0m\u001b[0mmsg\u001b[0m\u001b[0;34m)\u001b[0m\u001b[0;34m\u001b[0m\u001b[0;34m\u001b[0m\u001b[0m\n\u001b[0m\u001b[1;32m    219\u001b[0m \u001b[0;34m\u001b[0m\u001b[0m\n\u001b[1;32m    220\u001b[0m                 \u001b[0mtask\u001b[0m \u001b[0;34m=\u001b[0m \u001b[0;32mNone\u001b[0m\u001b[0;34m\u001b[0m\u001b[0;34m\u001b[0m\u001b[0m\n",
      "\u001b[0;32m/opt/conda/lib/python3.7/site-packages/syft/decorators/syft_decorator_impl.py\u001b[0m in \u001b[0;36mwrapper\u001b[0;34m(*args, **kwargs)\u001b[0m\n\u001b[1;32m     29\u001b[0m         \u001b[0;32mdef\u001b[0m \u001b[0mwrapper\u001b[0m\u001b[0;34m(\u001b[0m\u001b[0;34m*\u001b[0m\u001b[0margs\u001b[0m\u001b[0;34m:\u001b[0m \u001b[0mTuple\u001b[0m\u001b[0;34m[\u001b[0m\u001b[0mAny\u001b[0m\u001b[0;34m]\u001b[0m\u001b[0;34m,\u001b[0m \u001b[0;34m**\u001b[0m\u001b[0mkwargs\u001b[0m\u001b[0;34m:\u001b[0m \u001b[0mDict\u001b[0m\u001b[0;34m[\u001b[0m\u001b[0mAny\u001b[0m\u001b[0;34m,\u001b[0m \u001b[0mAny\u001b[0m\u001b[0;34m]\u001b[0m\u001b[0;34m)\u001b[0m \u001b[0;34m->\u001b[0m \u001b[0mCallable\u001b[0m\u001b[0;34m:\u001b[0m\u001b[0;34m\u001b[0m\u001b[0;34m\u001b[0m\u001b[0m\n\u001b[1;32m     30\u001b[0m \u001b[0;34m\u001b[0m\u001b[0m\n\u001b[0;32m---> 31\u001b[0;31m             \u001b[0;32mreturn\u001b[0m \u001b[0mfunction\u001b[0m\u001b[0;34m(\u001b[0m\u001b[0;34m*\u001b[0m\u001b[0margs\u001b[0m\u001b[0;34m,\u001b[0m \u001b[0;34m**\u001b[0m\u001b[0mkwargs\u001b[0m\u001b[0;34m)\u001b[0m\u001b[0;34m\u001b[0m\u001b[0;34m\u001b[0m\u001b[0m\n\u001b[0m\u001b[1;32m     32\u001b[0m             \u001b[0;31m# try:\u001b[0m\u001b[0;34m\u001b[0m\u001b[0;34m\u001b[0m\u001b[0;34m\u001b[0m\u001b[0m\n\u001b[1;32m     33\u001b[0m             \u001b[0;31m#     return function(*args, **kwargs)\u001b[0m\u001b[0;34m\u001b[0m\u001b[0;34m\u001b[0m\u001b[0;34m\u001b[0m\u001b[0m\n",
      "\u001b[0;32m/opt/conda/lib/python3.7/site-packages/syft/decorators/typecheck.py\u001b[0m in \u001b[0;36mdecorator\u001b[0;34m(*args, **kwargs)\u001b[0m\n\u001b[1;32m    108\u001b[0m         \u001b[0;32mif\u001b[0m \u001b[0mprohibit_args\u001b[0m\u001b[0;34m:\u001b[0m\u001b[0;34m\u001b[0m\u001b[0;34m\u001b[0m\u001b[0m\n\u001b[1;32m    109\u001b[0m             \u001b[0mcheck_args\u001b[0m\u001b[0;34m(\u001b[0m\u001b[0;34m*\u001b[0m\u001b[0margs\u001b[0m\u001b[0;34m,\u001b[0m \u001b[0;34m**\u001b[0m\u001b[0mkwargs\u001b[0m\u001b[0;34m)\u001b[0m\u001b[0;34m\u001b[0m\u001b[0;34m\u001b[0m\u001b[0m\n\u001b[0;32m--> 110\u001b[0;31m         \u001b[0;32mreturn\u001b[0m \u001b[0mtypechecked\u001b[0m\u001b[0;34m(\u001b[0m\u001b[0mdecorated\u001b[0m\u001b[0;34m)\u001b[0m\u001b[0;34m(\u001b[0m\u001b[0;34m*\u001b[0m\u001b[0margs\u001b[0m\u001b[0;34m,\u001b[0m \u001b[0;34m**\u001b[0m\u001b[0mkwargs\u001b[0m\u001b[0;34m)\u001b[0m\u001b[0;34m\u001b[0m\u001b[0;34m\u001b[0m\u001b[0m\n\u001b[0m\u001b[1;32m    111\u001b[0m \u001b[0;34m\u001b[0m\u001b[0m\n\u001b[1;32m    112\u001b[0m     \u001b[0mdecorator\u001b[0m\u001b[0;34m.\u001b[0m\u001b[0m__annotations__\u001b[0m \u001b[0;34m=\u001b[0m \u001b[0mdecorated\u001b[0m\u001b[0;34m.\u001b[0m\u001b[0m__annotations__\u001b[0m\u001b[0;34m\u001b[0m\u001b[0;34m\u001b[0m\u001b[0m\n",
      "\u001b[0;32m/opt/conda/lib/python3.7/site-packages/typeguard/__init__.py\u001b[0m in \u001b[0;36mwrapper\u001b[0;34m(*args, **kwargs)\u001b[0m\n\u001b[1;32m    889\u001b[0m         \u001b[0mmemo\u001b[0m \u001b[0;34m=\u001b[0m \u001b[0m_CallMemo\u001b[0m\u001b[0;34m(\u001b[0m\u001b[0mpython_func\u001b[0m\u001b[0;34m,\u001b[0m \u001b[0m_localns\u001b[0m\u001b[0;34m,\u001b[0m \u001b[0margs\u001b[0m\u001b[0;34m=\u001b[0m\u001b[0margs\u001b[0m\u001b[0;34m,\u001b[0m \u001b[0mkwargs\u001b[0m\u001b[0;34m=\u001b[0m\u001b[0mkwargs\u001b[0m\u001b[0;34m)\u001b[0m\u001b[0;34m\u001b[0m\u001b[0;34m\u001b[0m\u001b[0m\n\u001b[1;32m    890\u001b[0m         \u001b[0mcheck_argument_types\u001b[0m\u001b[0;34m(\u001b[0m\u001b[0mmemo\u001b[0m\u001b[0;34m)\u001b[0m\u001b[0;34m\u001b[0m\u001b[0;34m\u001b[0m\u001b[0m\n\u001b[0;32m--> 891\u001b[0;31m         \u001b[0mretval\u001b[0m \u001b[0;34m=\u001b[0m \u001b[0mfunc\u001b[0m\u001b[0;34m(\u001b[0m\u001b[0;34m*\u001b[0m\u001b[0margs\u001b[0m\u001b[0;34m,\u001b[0m \u001b[0;34m**\u001b[0m\u001b[0mkwargs\u001b[0m\u001b[0;34m)\u001b[0m\u001b[0;34m\u001b[0m\u001b[0;34m\u001b[0m\u001b[0m\n\u001b[0m\u001b[1;32m    892\u001b[0m         \u001b[0mcheck_return_type\u001b[0m\u001b[0;34m(\u001b[0m\u001b[0mretval\u001b[0m\u001b[0;34m,\u001b[0m \u001b[0mmemo\u001b[0m\u001b[0;34m)\u001b[0m\u001b[0;34m\u001b[0m\u001b[0;34m\u001b[0m\u001b[0m\n\u001b[1;32m    893\u001b[0m \u001b[0;34m\u001b[0m\u001b[0m\n",
      "\u001b[0;32m/opt/conda/lib/python3.7/site-packages/syft/grid/duet/signaling_client.py\u001b[0m in \u001b[0;36msend_immediate_msg_with_reply\u001b[0;34m(self, msg)\u001b[0m\n\u001b[1;32m     61\u001b[0m     \u001b[0;34m@\u001b[0m\u001b[0msyft_decorator\u001b[0m\u001b[0;34m(\u001b[0m\u001b[0mtypechecking\u001b[0m\u001b[0;34m=\u001b[0m\u001b[0;32mTrue\u001b[0m\u001b[0;34m)\u001b[0m\u001b[0;34m\u001b[0m\u001b[0;34m\u001b[0m\u001b[0m\n\u001b[1;32m     62\u001b[0m     \u001b[0;32mdef\u001b[0m \u001b[0msend_immediate_msg_with_reply\u001b[0m\u001b[0;34m(\u001b[0m\u001b[0mself\u001b[0m\u001b[0;34m,\u001b[0m \u001b[0mmsg\u001b[0m\u001b[0;34m:\u001b[0m \u001b[0mSyftMessage\u001b[0m\u001b[0;34m)\u001b[0m \u001b[0;34m->\u001b[0m \u001b[0mSyftMessage\u001b[0m\u001b[0;34m:\u001b[0m\u001b[0;34m\u001b[0m\u001b[0;34m\u001b[0m\u001b[0m\n\u001b[0;32m---> 63\u001b[0;31m         \u001b[0;32mreturn\u001b[0m \u001b[0mself\u001b[0m\u001b[0;34m.\u001b[0m\u001b[0m__client\u001b[0m\u001b[0;34m.\u001b[0m\u001b[0msend_immediate_msg_with_reply\u001b[0m\u001b[0;34m(\u001b[0m\u001b[0mmsg\u001b[0m\u001b[0;34m=\u001b[0m\u001b[0mmsg\u001b[0m\u001b[0;34m)\u001b[0m\u001b[0;34m\u001b[0m\u001b[0;34m\u001b[0m\u001b[0m\n\u001b[0m\u001b[1;32m     64\u001b[0m \u001b[0;34m\u001b[0m\u001b[0m\n\u001b[1;32m     65\u001b[0m     \u001b[0;34m@\u001b[0m\u001b[0msyft_decorator\u001b[0m\u001b[0;34m(\u001b[0m\u001b[0mtypechecking\u001b[0m\u001b[0;34m=\u001b[0m\u001b[0;32mTrue\u001b[0m\u001b[0;34m)\u001b[0m\u001b[0;34m\u001b[0m\u001b[0;34m\u001b[0m\u001b[0m\n",
      "\u001b[0;32m/opt/conda/lib/python3.7/site-packages/syft/decorators/syft_decorator_impl.py\u001b[0m in \u001b[0;36mwrapper\u001b[0;34m(*args, **kwargs)\u001b[0m\n\u001b[1;32m     29\u001b[0m         \u001b[0;32mdef\u001b[0m \u001b[0mwrapper\u001b[0m\u001b[0;34m(\u001b[0m\u001b[0;34m*\u001b[0m\u001b[0margs\u001b[0m\u001b[0;34m:\u001b[0m \u001b[0mTuple\u001b[0m\u001b[0;34m[\u001b[0m\u001b[0mAny\u001b[0m\u001b[0;34m]\u001b[0m\u001b[0;34m,\u001b[0m \u001b[0;34m**\u001b[0m\u001b[0mkwargs\u001b[0m\u001b[0;34m:\u001b[0m \u001b[0mDict\u001b[0m\u001b[0;34m[\u001b[0m\u001b[0mAny\u001b[0m\u001b[0;34m,\u001b[0m \u001b[0mAny\u001b[0m\u001b[0;34m]\u001b[0m\u001b[0;34m)\u001b[0m \u001b[0;34m->\u001b[0m \u001b[0mCallable\u001b[0m\u001b[0;34m:\u001b[0m\u001b[0;34m\u001b[0m\u001b[0;34m\u001b[0m\u001b[0m\n\u001b[1;32m     30\u001b[0m \u001b[0;34m\u001b[0m\u001b[0m\n\u001b[0;32m---> 31\u001b[0;31m             \u001b[0;32mreturn\u001b[0m \u001b[0mfunction\u001b[0m\u001b[0;34m(\u001b[0m\u001b[0;34m*\u001b[0m\u001b[0margs\u001b[0m\u001b[0;34m,\u001b[0m \u001b[0;34m**\u001b[0m\u001b[0mkwargs\u001b[0m\u001b[0;34m)\u001b[0m\u001b[0;34m\u001b[0m\u001b[0;34m\u001b[0m\u001b[0m\n\u001b[0m\u001b[1;32m     32\u001b[0m             \u001b[0;31m# try:\u001b[0m\u001b[0;34m\u001b[0m\u001b[0;34m\u001b[0m\u001b[0;34m\u001b[0m\u001b[0m\n\u001b[1;32m     33\u001b[0m             \u001b[0;31m#     return function(*args, **kwargs)\u001b[0m\u001b[0;34m\u001b[0m\u001b[0;34m\u001b[0m\u001b[0;34m\u001b[0m\u001b[0m\n",
      "\u001b[0;32m/opt/conda/lib/python3.7/site-packages/syft/decorators/typecheck.py\u001b[0m in \u001b[0;36mdecorator\u001b[0;34m(*args, **kwargs)\u001b[0m\n\u001b[1;32m    108\u001b[0m         \u001b[0;32mif\u001b[0m \u001b[0mprohibit_args\u001b[0m\u001b[0;34m:\u001b[0m\u001b[0;34m\u001b[0m\u001b[0;34m\u001b[0m\u001b[0m\n\u001b[1;32m    109\u001b[0m             \u001b[0mcheck_args\u001b[0m\u001b[0;34m(\u001b[0m\u001b[0;34m*\u001b[0m\u001b[0margs\u001b[0m\u001b[0;34m,\u001b[0m \u001b[0;34m**\u001b[0m\u001b[0mkwargs\u001b[0m\u001b[0;34m)\u001b[0m\u001b[0;34m\u001b[0m\u001b[0;34m\u001b[0m\u001b[0m\n\u001b[0;32m--> 110\u001b[0;31m         \u001b[0;32mreturn\u001b[0m \u001b[0mtypechecked\u001b[0m\u001b[0;34m(\u001b[0m\u001b[0mdecorated\u001b[0m\u001b[0;34m)\u001b[0m\u001b[0;34m(\u001b[0m\u001b[0;34m*\u001b[0m\u001b[0margs\u001b[0m\u001b[0;34m,\u001b[0m \u001b[0;34m**\u001b[0m\u001b[0mkwargs\u001b[0m\u001b[0;34m)\u001b[0m\u001b[0;34m\u001b[0m\u001b[0;34m\u001b[0m\u001b[0m\n\u001b[0m\u001b[1;32m    111\u001b[0m \u001b[0;34m\u001b[0m\u001b[0m\n\u001b[1;32m    112\u001b[0m     \u001b[0mdecorator\u001b[0m\u001b[0;34m.\u001b[0m\u001b[0m__annotations__\u001b[0m \u001b[0;34m=\u001b[0m \u001b[0mdecorated\u001b[0m\u001b[0;34m.\u001b[0m\u001b[0m__annotations__\u001b[0m\u001b[0;34m\u001b[0m\u001b[0;34m\u001b[0m\u001b[0m\n",
      "\u001b[0;32m/opt/conda/lib/python3.7/site-packages/typeguard/__init__.py\u001b[0m in \u001b[0;36mwrapper\u001b[0;34m(*args, **kwargs)\u001b[0m\n\u001b[1;32m    889\u001b[0m         \u001b[0mmemo\u001b[0m \u001b[0;34m=\u001b[0m \u001b[0m_CallMemo\u001b[0m\u001b[0;34m(\u001b[0m\u001b[0mpython_func\u001b[0m\u001b[0;34m,\u001b[0m \u001b[0m_localns\u001b[0m\u001b[0;34m,\u001b[0m \u001b[0margs\u001b[0m\u001b[0;34m=\u001b[0m\u001b[0margs\u001b[0m\u001b[0;34m,\u001b[0m \u001b[0mkwargs\u001b[0m\u001b[0;34m=\u001b[0m\u001b[0mkwargs\u001b[0m\u001b[0;34m)\u001b[0m\u001b[0;34m\u001b[0m\u001b[0;34m\u001b[0m\u001b[0m\n\u001b[1;32m    890\u001b[0m         \u001b[0mcheck_argument_types\u001b[0m\u001b[0;34m(\u001b[0m\u001b[0mmemo\u001b[0m\u001b[0;34m)\u001b[0m\u001b[0;34m\u001b[0m\u001b[0;34m\u001b[0m\u001b[0m\n\u001b[0;32m--> 891\u001b[0;31m         \u001b[0mretval\u001b[0m \u001b[0;34m=\u001b[0m \u001b[0mfunc\u001b[0m\u001b[0;34m(\u001b[0m\u001b[0;34m*\u001b[0m\u001b[0margs\u001b[0m\u001b[0;34m,\u001b[0m \u001b[0;34m**\u001b[0m\u001b[0mkwargs\u001b[0m\u001b[0;34m)\u001b[0m\u001b[0;34m\u001b[0m\u001b[0;34m\u001b[0m\u001b[0m\n\u001b[0m\u001b[1;32m    892\u001b[0m         \u001b[0mcheck_return_type\u001b[0m\u001b[0;34m(\u001b[0m\u001b[0mretval\u001b[0m\u001b[0;34m,\u001b[0m \u001b[0mmemo\u001b[0m\u001b[0;34m)\u001b[0m\u001b[0;34m\u001b[0m\u001b[0;34m\u001b[0m\u001b[0m\n\u001b[1;32m    893\u001b[0m \u001b[0;34m\u001b[0m\u001b[0m\n",
      "\u001b[0;32m/opt/conda/lib/python3.7/site-packages/syft/core/node/common/client.py\u001b[0m in \u001b[0;36msend_immediate_msg_with_reply\u001b[0;34m(self, msg, route_index)\u001b[0m\n\u001b[1;32m    222\u001b[0m             \u001b[0mmsg\u001b[0m \u001b[0;34m=\u001b[0m \u001b[0mmsg\u001b[0m\u001b[0;34m.\u001b[0m\u001b[0msign\u001b[0m\u001b[0;34m(\u001b[0m\u001b[0msigning_key\u001b[0m\u001b[0;34m=\u001b[0m\u001b[0mself\u001b[0m\u001b[0;34m.\u001b[0m\u001b[0msigning_key\u001b[0m\u001b[0;34m)\u001b[0m\u001b[0;34m\u001b[0m\u001b[0;34m\u001b[0m\u001b[0m\n\u001b[1;32m    223\u001b[0m \u001b[0;34m\u001b[0m\u001b[0m\n\u001b[0;32m--> 224\u001b[0;31m         \u001b[0mresponse\u001b[0m \u001b[0;34m=\u001b[0m \u001b[0mself\u001b[0m\u001b[0;34m.\u001b[0m\u001b[0mroutes\u001b[0m\u001b[0;34m[\u001b[0m\u001b[0mroute_index\u001b[0m\u001b[0;34m]\u001b[0m\u001b[0;34m.\u001b[0m\u001b[0msend_immediate_msg_with_reply\u001b[0m\u001b[0;34m(\u001b[0m\u001b[0mmsg\u001b[0m\u001b[0;34m=\u001b[0m\u001b[0mmsg\u001b[0m\u001b[0;34m)\u001b[0m\u001b[0;34m\u001b[0m\u001b[0;34m\u001b[0m\u001b[0m\n\u001b[0m\u001b[1;32m    225\u001b[0m         \u001b[0;32mif\u001b[0m \u001b[0mresponse\u001b[0m\u001b[0;34m.\u001b[0m\u001b[0mis_valid\u001b[0m\u001b[0;34m:\u001b[0m\u001b[0;34m\u001b[0m\u001b[0;34m\u001b[0m\u001b[0m\n\u001b[1;32m    226\u001b[0m             \u001b[0;31m# check if we have an ExceptionMessage to trigger a local exception\u001b[0m\u001b[0;34m\u001b[0m\u001b[0;34m\u001b[0m\u001b[0;34m\u001b[0m\u001b[0m\n",
      "\u001b[0;32m/opt/conda/lib/python3.7/site-packages/syft/core/io/route.py\u001b[0m in \u001b[0;36msend_immediate_msg_with_reply\u001b[0;34m(self, msg)\u001b[0m\n\u001b[1;32m    173\u001b[0m         \u001b[0mself\u001b[0m\u001b[0;34m,\u001b[0m \u001b[0mmsg\u001b[0m\u001b[0;34m:\u001b[0m \u001b[0mSignedImmediateSyftMessageWithReply\u001b[0m\u001b[0;34m\u001b[0m\u001b[0;34m\u001b[0m\u001b[0m\n\u001b[1;32m    174\u001b[0m     ) -> SignedImmediateSyftMessageWithoutReply:\n\u001b[0;32m--> 175\u001b[0;31m         \u001b[0;32mreturn\u001b[0m \u001b[0mself\u001b[0m\u001b[0;34m.\u001b[0m\u001b[0mconnection\u001b[0m\u001b[0;34m.\u001b[0m\u001b[0msend_immediate_msg_with_reply\u001b[0m\u001b[0;34m(\u001b[0m\u001b[0mmsg\u001b[0m\u001b[0;34m=\u001b[0m\u001b[0mmsg\u001b[0m\u001b[0;34m)\u001b[0m\u001b[0;34m\u001b[0m\u001b[0;34m\u001b[0m\u001b[0m\n\u001b[0m\u001b[1;32m    176\u001b[0m \u001b[0;34m\u001b[0m\u001b[0m\n\u001b[1;32m    177\u001b[0m     \u001b[0;34m@\u001b[0m\u001b[0msyft_decorator\u001b[0m\u001b[0;34m(\u001b[0m\u001b[0mtypechecking\u001b[0m\u001b[0;34m=\u001b[0m\u001b[0;32mTrue\u001b[0m\u001b[0;34m)\u001b[0m\u001b[0;34m\u001b[0m\u001b[0;34m\u001b[0m\u001b[0m\n",
      "\u001b[0;32m/opt/conda/lib/python3.7/site-packages/syft/decorators/syft_decorator_impl.py\u001b[0m in \u001b[0;36mwrapper\u001b[0;34m(*args, **kwargs)\u001b[0m\n\u001b[1;32m     29\u001b[0m         \u001b[0;32mdef\u001b[0m \u001b[0mwrapper\u001b[0m\u001b[0;34m(\u001b[0m\u001b[0;34m*\u001b[0m\u001b[0margs\u001b[0m\u001b[0;34m:\u001b[0m \u001b[0mTuple\u001b[0m\u001b[0;34m[\u001b[0m\u001b[0mAny\u001b[0m\u001b[0;34m]\u001b[0m\u001b[0;34m,\u001b[0m \u001b[0;34m**\u001b[0m\u001b[0mkwargs\u001b[0m\u001b[0;34m:\u001b[0m \u001b[0mDict\u001b[0m\u001b[0;34m[\u001b[0m\u001b[0mAny\u001b[0m\u001b[0;34m,\u001b[0m \u001b[0mAny\u001b[0m\u001b[0;34m]\u001b[0m\u001b[0;34m)\u001b[0m \u001b[0;34m->\u001b[0m \u001b[0mCallable\u001b[0m\u001b[0;34m:\u001b[0m\u001b[0;34m\u001b[0m\u001b[0;34m\u001b[0m\u001b[0m\n\u001b[1;32m     30\u001b[0m \u001b[0;34m\u001b[0m\u001b[0m\n\u001b[0;32m---> 31\u001b[0;31m             \u001b[0;32mreturn\u001b[0m \u001b[0mfunction\u001b[0m\u001b[0;34m(\u001b[0m\u001b[0;34m*\u001b[0m\u001b[0margs\u001b[0m\u001b[0;34m,\u001b[0m \u001b[0;34m**\u001b[0m\u001b[0mkwargs\u001b[0m\u001b[0;34m)\u001b[0m\u001b[0;34m\u001b[0m\u001b[0;34m\u001b[0m\u001b[0m\n\u001b[0m\u001b[1;32m     32\u001b[0m             \u001b[0;31m# try:\u001b[0m\u001b[0;34m\u001b[0m\u001b[0;34m\u001b[0m\u001b[0;34m\u001b[0m\u001b[0m\n\u001b[1;32m     33\u001b[0m             \u001b[0;31m#     return function(*args, **kwargs)\u001b[0m\u001b[0;34m\u001b[0m\u001b[0;34m\u001b[0m\u001b[0;34m\u001b[0m\u001b[0m\n",
      "\u001b[0;32m/opt/conda/lib/python3.7/site-packages/syft/decorators/typecheck.py\u001b[0m in \u001b[0;36mdecorator\u001b[0;34m(*args, **kwargs)\u001b[0m\n\u001b[1;32m    108\u001b[0m         \u001b[0;32mif\u001b[0m \u001b[0mprohibit_args\u001b[0m\u001b[0;34m:\u001b[0m\u001b[0;34m\u001b[0m\u001b[0;34m\u001b[0m\u001b[0m\n\u001b[1;32m    109\u001b[0m             \u001b[0mcheck_args\u001b[0m\u001b[0;34m(\u001b[0m\u001b[0;34m*\u001b[0m\u001b[0margs\u001b[0m\u001b[0;34m,\u001b[0m \u001b[0;34m**\u001b[0m\u001b[0mkwargs\u001b[0m\u001b[0;34m)\u001b[0m\u001b[0;34m\u001b[0m\u001b[0;34m\u001b[0m\u001b[0m\n\u001b[0;32m--> 110\u001b[0;31m         \u001b[0;32mreturn\u001b[0m \u001b[0mtypechecked\u001b[0m\u001b[0;34m(\u001b[0m\u001b[0mdecorated\u001b[0m\u001b[0;34m)\u001b[0m\u001b[0;34m(\u001b[0m\u001b[0;34m*\u001b[0m\u001b[0margs\u001b[0m\u001b[0;34m,\u001b[0m \u001b[0;34m**\u001b[0m\u001b[0mkwargs\u001b[0m\u001b[0;34m)\u001b[0m\u001b[0;34m\u001b[0m\u001b[0;34m\u001b[0m\u001b[0m\n\u001b[0m\u001b[1;32m    111\u001b[0m \u001b[0;34m\u001b[0m\u001b[0m\n\u001b[1;32m    112\u001b[0m     \u001b[0mdecorator\u001b[0m\u001b[0;34m.\u001b[0m\u001b[0m__annotations__\u001b[0m \u001b[0;34m=\u001b[0m \u001b[0mdecorated\u001b[0m\u001b[0;34m.\u001b[0m\u001b[0m__annotations__\u001b[0m\u001b[0;34m\u001b[0m\u001b[0;34m\u001b[0m\u001b[0m\n",
      "\u001b[0;32m/opt/conda/lib/python3.7/site-packages/typeguard/__init__.py\u001b[0m in \u001b[0;36mwrapper\u001b[0;34m(*args, **kwargs)\u001b[0m\n\u001b[1;32m    889\u001b[0m         \u001b[0mmemo\u001b[0m \u001b[0;34m=\u001b[0m \u001b[0m_CallMemo\u001b[0m\u001b[0;34m(\u001b[0m\u001b[0mpython_func\u001b[0m\u001b[0;34m,\u001b[0m \u001b[0m_localns\u001b[0m\u001b[0;34m,\u001b[0m \u001b[0margs\u001b[0m\u001b[0;34m=\u001b[0m\u001b[0margs\u001b[0m\u001b[0;34m,\u001b[0m \u001b[0mkwargs\u001b[0m\u001b[0;34m=\u001b[0m\u001b[0mkwargs\u001b[0m\u001b[0;34m)\u001b[0m\u001b[0;34m\u001b[0m\u001b[0;34m\u001b[0m\u001b[0m\n\u001b[1;32m    890\u001b[0m         \u001b[0mcheck_argument_types\u001b[0m\u001b[0;34m(\u001b[0m\u001b[0mmemo\u001b[0m\u001b[0;34m)\u001b[0m\u001b[0;34m\u001b[0m\u001b[0;34m\u001b[0m\u001b[0m\n\u001b[0;32m--> 891\u001b[0;31m         \u001b[0mretval\u001b[0m \u001b[0;34m=\u001b[0m \u001b[0mfunc\u001b[0m\u001b[0;34m(\u001b[0m\u001b[0;34m*\u001b[0m\u001b[0margs\u001b[0m\u001b[0;34m,\u001b[0m \u001b[0;34m**\u001b[0m\u001b[0mkwargs\u001b[0m\u001b[0;34m)\u001b[0m\u001b[0;34m\u001b[0m\u001b[0;34m\u001b[0m\u001b[0m\n\u001b[0m\u001b[1;32m    892\u001b[0m         \u001b[0mcheck_return_type\u001b[0m\u001b[0;34m(\u001b[0m\u001b[0mretval\u001b[0m\u001b[0;34m,\u001b[0m \u001b[0mmemo\u001b[0m\u001b[0;34m)\u001b[0m\u001b[0;34m\u001b[0m\u001b[0;34m\u001b[0m\u001b[0m\n\u001b[1;32m    893\u001b[0m \u001b[0;34m\u001b[0m\u001b[0m\n",
      "\u001b[0;32m/opt/conda/lib/python3.7/site-packages/syft/grid/connections/http_connection.py\u001b[0m in \u001b[0;36msend_immediate_msg_with_reply\u001b[0;34m(self, msg)\u001b[0m\n\u001b[1;32m     32\u001b[0m         \u001b[0;31m# Serializes SignedImmediateSyftMessageWithReply\u001b[0m\u001b[0;34m\u001b[0m\u001b[0;34m\u001b[0m\u001b[0;34m\u001b[0m\u001b[0m\n\u001b[1;32m     33\u001b[0m         \u001b[0;31m# and send it using HTTP protocol\u001b[0m\u001b[0;34m\u001b[0m\u001b[0;34m\u001b[0m\u001b[0;34m\u001b[0m\u001b[0m\n\u001b[0;32m---> 34\u001b[0;31m         \u001b[0mblob\u001b[0m \u001b[0;34m=\u001b[0m \u001b[0mself\u001b[0m\u001b[0;34m.\u001b[0m\u001b[0m_send_msg\u001b[0m\u001b[0;34m(\u001b[0m\u001b[0mmsg\u001b[0m\u001b[0;34m=\u001b[0m\u001b[0mmsg\u001b[0m\u001b[0;34m)\u001b[0m\u001b[0;34m.\u001b[0m\u001b[0mcontent\u001b[0m\u001b[0;34m\u001b[0m\u001b[0;34m\u001b[0m\u001b[0m\n\u001b[0m\u001b[1;32m     35\u001b[0m         \u001b[0;31m# Deserialize node's response\u001b[0m\u001b[0;34m\u001b[0m\u001b[0;34m\u001b[0m\u001b[0;34m\u001b[0m\u001b[0m\n\u001b[1;32m     36\u001b[0m         \u001b[0mresponse\u001b[0m \u001b[0;34m=\u001b[0m \u001b[0m_deserialize\u001b[0m\u001b[0;34m(\u001b[0m\u001b[0mblob\u001b[0m\u001b[0;34m=\u001b[0m\u001b[0mblob\u001b[0m\u001b[0;34m,\u001b[0m \u001b[0mfrom_bytes\u001b[0m\u001b[0;34m=\u001b[0m\u001b[0;32mTrue\u001b[0m\u001b[0;34m)\u001b[0m\u001b[0;34m\u001b[0m\u001b[0;34m\u001b[0m\u001b[0m\n",
      "\u001b[0;32m/opt/conda/lib/python3.7/site-packages/syft/decorators/syft_decorator_impl.py\u001b[0m in \u001b[0;36mwrapper\u001b[0;34m(*args, **kwargs)\u001b[0m\n\u001b[1;32m     29\u001b[0m         \u001b[0;32mdef\u001b[0m \u001b[0mwrapper\u001b[0m\u001b[0;34m(\u001b[0m\u001b[0;34m*\u001b[0m\u001b[0margs\u001b[0m\u001b[0;34m:\u001b[0m \u001b[0mTuple\u001b[0m\u001b[0;34m[\u001b[0m\u001b[0mAny\u001b[0m\u001b[0;34m]\u001b[0m\u001b[0;34m,\u001b[0m \u001b[0;34m**\u001b[0m\u001b[0mkwargs\u001b[0m\u001b[0;34m:\u001b[0m \u001b[0mDict\u001b[0m\u001b[0;34m[\u001b[0m\u001b[0mAny\u001b[0m\u001b[0;34m,\u001b[0m \u001b[0mAny\u001b[0m\u001b[0;34m]\u001b[0m\u001b[0;34m)\u001b[0m \u001b[0;34m->\u001b[0m \u001b[0mCallable\u001b[0m\u001b[0;34m:\u001b[0m\u001b[0;34m\u001b[0m\u001b[0;34m\u001b[0m\u001b[0m\n\u001b[1;32m     30\u001b[0m \u001b[0;34m\u001b[0m\u001b[0m\n\u001b[0;32m---> 31\u001b[0;31m             \u001b[0;32mreturn\u001b[0m \u001b[0mfunction\u001b[0m\u001b[0;34m(\u001b[0m\u001b[0;34m*\u001b[0m\u001b[0margs\u001b[0m\u001b[0;34m,\u001b[0m \u001b[0;34m**\u001b[0m\u001b[0mkwargs\u001b[0m\u001b[0;34m)\u001b[0m\u001b[0;34m\u001b[0m\u001b[0;34m\u001b[0m\u001b[0m\n\u001b[0m\u001b[1;32m     32\u001b[0m             \u001b[0;31m# try:\u001b[0m\u001b[0;34m\u001b[0m\u001b[0;34m\u001b[0m\u001b[0;34m\u001b[0m\u001b[0m\n\u001b[1;32m     33\u001b[0m             \u001b[0;31m#     return function(*args, **kwargs)\u001b[0m\u001b[0;34m\u001b[0m\u001b[0;34m\u001b[0m\u001b[0;34m\u001b[0m\u001b[0m\n",
      "\u001b[0;32m/opt/conda/lib/python3.7/site-packages/syft/decorators/typecheck.py\u001b[0m in \u001b[0;36mdecorator\u001b[0;34m(*args, **kwargs)\u001b[0m\n\u001b[1;32m    108\u001b[0m         \u001b[0;32mif\u001b[0m \u001b[0mprohibit_args\u001b[0m\u001b[0;34m:\u001b[0m\u001b[0;34m\u001b[0m\u001b[0;34m\u001b[0m\u001b[0m\n\u001b[1;32m    109\u001b[0m             \u001b[0mcheck_args\u001b[0m\u001b[0;34m(\u001b[0m\u001b[0;34m*\u001b[0m\u001b[0margs\u001b[0m\u001b[0;34m,\u001b[0m \u001b[0;34m**\u001b[0m\u001b[0mkwargs\u001b[0m\u001b[0;34m)\u001b[0m\u001b[0;34m\u001b[0m\u001b[0;34m\u001b[0m\u001b[0m\n\u001b[0;32m--> 110\u001b[0;31m         \u001b[0;32mreturn\u001b[0m \u001b[0mtypechecked\u001b[0m\u001b[0;34m(\u001b[0m\u001b[0mdecorated\u001b[0m\u001b[0;34m)\u001b[0m\u001b[0;34m(\u001b[0m\u001b[0;34m*\u001b[0m\u001b[0margs\u001b[0m\u001b[0;34m,\u001b[0m \u001b[0;34m**\u001b[0m\u001b[0mkwargs\u001b[0m\u001b[0;34m)\u001b[0m\u001b[0;34m\u001b[0m\u001b[0;34m\u001b[0m\u001b[0m\n\u001b[0m\u001b[1;32m    111\u001b[0m \u001b[0;34m\u001b[0m\u001b[0m\n\u001b[1;32m    112\u001b[0m     \u001b[0mdecorator\u001b[0m\u001b[0;34m.\u001b[0m\u001b[0m__annotations__\u001b[0m \u001b[0;34m=\u001b[0m \u001b[0mdecorated\u001b[0m\u001b[0;34m.\u001b[0m\u001b[0m__annotations__\u001b[0m\u001b[0;34m\u001b[0m\u001b[0;34m\u001b[0m\u001b[0m\n",
      "\u001b[0;32m/opt/conda/lib/python3.7/site-packages/typeguard/__init__.py\u001b[0m in \u001b[0;36mwrapper\u001b[0;34m(*args, **kwargs)\u001b[0m\n\u001b[1;32m    889\u001b[0m         \u001b[0mmemo\u001b[0m \u001b[0;34m=\u001b[0m \u001b[0m_CallMemo\u001b[0m\u001b[0;34m(\u001b[0m\u001b[0mpython_func\u001b[0m\u001b[0;34m,\u001b[0m \u001b[0m_localns\u001b[0m\u001b[0;34m,\u001b[0m \u001b[0margs\u001b[0m\u001b[0;34m=\u001b[0m\u001b[0margs\u001b[0m\u001b[0;34m,\u001b[0m \u001b[0mkwargs\u001b[0m\u001b[0;34m=\u001b[0m\u001b[0mkwargs\u001b[0m\u001b[0;34m)\u001b[0m\u001b[0;34m\u001b[0m\u001b[0;34m\u001b[0m\u001b[0m\n\u001b[1;32m    890\u001b[0m         \u001b[0mcheck_argument_types\u001b[0m\u001b[0;34m(\u001b[0m\u001b[0mmemo\u001b[0m\u001b[0;34m)\u001b[0m\u001b[0;34m\u001b[0m\u001b[0;34m\u001b[0m\u001b[0m\n\u001b[0;32m--> 891\u001b[0;31m         \u001b[0mretval\u001b[0m \u001b[0;34m=\u001b[0m \u001b[0mfunc\u001b[0m\u001b[0;34m(\u001b[0m\u001b[0;34m*\u001b[0m\u001b[0margs\u001b[0m\u001b[0;34m,\u001b[0m \u001b[0;34m**\u001b[0m\u001b[0mkwargs\u001b[0m\u001b[0;34m)\u001b[0m\u001b[0;34m\u001b[0m\u001b[0;34m\u001b[0m\u001b[0m\n\u001b[0m\u001b[1;32m    892\u001b[0m         \u001b[0mcheck_return_type\u001b[0m\u001b[0;34m(\u001b[0m\u001b[0mretval\u001b[0m\u001b[0;34m,\u001b[0m \u001b[0mmemo\u001b[0m\u001b[0;34m)\u001b[0m\u001b[0;34m\u001b[0m\u001b[0;34m\u001b[0m\u001b[0m\n\u001b[1;32m    893\u001b[0m \u001b[0;34m\u001b[0m\u001b[0m\n",
      "\u001b[0;32m/opt/conda/lib/python3.7/site-packages/syft/grid/connections/http_connection.py\u001b[0m in \u001b[0;36m_send_msg\u001b[0;34m(self, msg)\u001b[0m\n\u001b[1;32m     80\u001b[0m             \u001b[0murl\u001b[0m\u001b[0;34m=\u001b[0m\u001b[0mself\u001b[0m\u001b[0;34m.\u001b[0m\u001b[0mbase_url\u001b[0m\u001b[0;34m,\u001b[0m\u001b[0;34m\u001b[0m\u001b[0;34m\u001b[0m\u001b[0m\n\u001b[1;32m     81\u001b[0m             \u001b[0mdata\u001b[0m\u001b[0;34m=\u001b[0m\u001b[0mmsg\u001b[0m\u001b[0;34m.\u001b[0m\u001b[0mbinary\u001b[0m\u001b[0;34m(\u001b[0m\u001b[0;34m)\u001b[0m\u001b[0;34m,\u001b[0m\u001b[0;34m\u001b[0m\u001b[0;34m\u001b[0m\u001b[0m\n\u001b[0;32m---> 82\u001b[0;31m             \u001b[0mheaders\u001b[0m\u001b[0;34m=\u001b[0m\u001b[0;34m{\u001b[0m\u001b[0;34m\"Content-Type\"\u001b[0m\u001b[0;34m:\u001b[0m \u001b[0;34m\"application/octet-stream\"\u001b[0m\u001b[0;34m}\u001b[0m\u001b[0;34m,\u001b[0m\u001b[0;34m\u001b[0m\u001b[0;34m\u001b[0m\u001b[0m\n\u001b[0m\u001b[1;32m     83\u001b[0m         )\n\u001b[1;32m     84\u001b[0m \u001b[0;34m\u001b[0m\u001b[0m\n",
      "\u001b[0;32m/opt/conda/lib/python3.7/site-packages/requests/api.py\u001b[0m in \u001b[0;36mpost\u001b[0;34m(url, data, json, **kwargs)\u001b[0m\n\u001b[1;32m    114\u001b[0m     \"\"\"\n\u001b[1;32m    115\u001b[0m \u001b[0;34m\u001b[0m\u001b[0m\n\u001b[0;32m--> 116\u001b[0;31m     \u001b[0;32mreturn\u001b[0m \u001b[0mrequest\u001b[0m\u001b[0;34m(\u001b[0m\u001b[0;34m'post'\u001b[0m\u001b[0;34m,\u001b[0m \u001b[0murl\u001b[0m\u001b[0;34m,\u001b[0m \u001b[0mdata\u001b[0m\u001b[0;34m=\u001b[0m\u001b[0mdata\u001b[0m\u001b[0;34m,\u001b[0m \u001b[0mjson\u001b[0m\u001b[0;34m=\u001b[0m\u001b[0mjson\u001b[0m\u001b[0;34m,\u001b[0m \u001b[0;34m**\u001b[0m\u001b[0mkwargs\u001b[0m\u001b[0;34m)\u001b[0m\u001b[0;34m\u001b[0m\u001b[0;34m\u001b[0m\u001b[0m\n\u001b[0m\u001b[1;32m    117\u001b[0m \u001b[0;34m\u001b[0m\u001b[0m\n\u001b[1;32m    118\u001b[0m \u001b[0;34m\u001b[0m\u001b[0m\n",
      "\u001b[0;32m/opt/conda/lib/python3.7/site-packages/requests/api.py\u001b[0m in \u001b[0;36mrequest\u001b[0;34m(method, url, **kwargs)\u001b[0m\n\u001b[1;32m     58\u001b[0m     \u001b[0;31m# cases, and look like a memory leak in others.\u001b[0m\u001b[0;34m\u001b[0m\u001b[0;34m\u001b[0m\u001b[0;34m\u001b[0m\u001b[0m\n\u001b[1;32m     59\u001b[0m     \u001b[0;32mwith\u001b[0m \u001b[0msessions\u001b[0m\u001b[0;34m.\u001b[0m\u001b[0mSession\u001b[0m\u001b[0;34m(\u001b[0m\u001b[0;34m)\u001b[0m \u001b[0;32mas\u001b[0m \u001b[0msession\u001b[0m\u001b[0;34m:\u001b[0m\u001b[0;34m\u001b[0m\u001b[0;34m\u001b[0m\u001b[0m\n\u001b[0;32m---> 60\u001b[0;31m         \u001b[0;32mreturn\u001b[0m \u001b[0msession\u001b[0m\u001b[0;34m.\u001b[0m\u001b[0mrequest\u001b[0m\u001b[0;34m(\u001b[0m\u001b[0mmethod\u001b[0m\u001b[0;34m=\u001b[0m\u001b[0mmethod\u001b[0m\u001b[0;34m,\u001b[0m \u001b[0murl\u001b[0m\u001b[0;34m=\u001b[0m\u001b[0murl\u001b[0m\u001b[0;34m,\u001b[0m \u001b[0;34m**\u001b[0m\u001b[0mkwargs\u001b[0m\u001b[0;34m)\u001b[0m\u001b[0;34m\u001b[0m\u001b[0;34m\u001b[0m\u001b[0m\n\u001b[0m\u001b[1;32m     61\u001b[0m \u001b[0;34m\u001b[0m\u001b[0m\n\u001b[1;32m     62\u001b[0m \u001b[0;34m\u001b[0m\u001b[0m\n",
      "\u001b[0;32m/opt/conda/lib/python3.7/site-packages/requests/sessions.py\u001b[0m in \u001b[0;36mrequest\u001b[0;34m(self, method, url, params, data, headers, cookies, files, auth, timeout, allow_redirects, proxies, hooks, stream, verify, cert, json)\u001b[0m\n\u001b[1;32m    531\u001b[0m         }\n\u001b[1;32m    532\u001b[0m         \u001b[0msend_kwargs\u001b[0m\u001b[0;34m.\u001b[0m\u001b[0mupdate\u001b[0m\u001b[0;34m(\u001b[0m\u001b[0msettings\u001b[0m\u001b[0;34m)\u001b[0m\u001b[0;34m\u001b[0m\u001b[0;34m\u001b[0m\u001b[0m\n\u001b[0;32m--> 533\u001b[0;31m         \u001b[0mresp\u001b[0m \u001b[0;34m=\u001b[0m \u001b[0mself\u001b[0m\u001b[0;34m.\u001b[0m\u001b[0msend\u001b[0m\u001b[0;34m(\u001b[0m\u001b[0mprep\u001b[0m\u001b[0;34m,\u001b[0m \u001b[0;34m**\u001b[0m\u001b[0msend_kwargs\u001b[0m\u001b[0;34m)\u001b[0m\u001b[0;34m\u001b[0m\u001b[0;34m\u001b[0m\u001b[0m\n\u001b[0m\u001b[1;32m    534\u001b[0m \u001b[0;34m\u001b[0m\u001b[0m\n\u001b[1;32m    535\u001b[0m         \u001b[0;32mreturn\u001b[0m \u001b[0mresp\u001b[0m\u001b[0;34m\u001b[0m\u001b[0;34m\u001b[0m\u001b[0m\n",
      "\u001b[0;32m/opt/conda/lib/python3.7/site-packages/requests/sessions.py\u001b[0m in \u001b[0;36msend\u001b[0;34m(self, request, **kwargs)\u001b[0m\n\u001b[1;32m    644\u001b[0m \u001b[0;34m\u001b[0m\u001b[0m\n\u001b[1;32m    645\u001b[0m         \u001b[0;31m# Send the request\u001b[0m\u001b[0;34m\u001b[0m\u001b[0;34m\u001b[0m\u001b[0;34m\u001b[0m\u001b[0m\n\u001b[0;32m--> 646\u001b[0;31m         \u001b[0mr\u001b[0m \u001b[0;34m=\u001b[0m \u001b[0madapter\u001b[0m\u001b[0;34m.\u001b[0m\u001b[0msend\u001b[0m\u001b[0;34m(\u001b[0m\u001b[0mrequest\u001b[0m\u001b[0;34m,\u001b[0m \u001b[0;34m**\u001b[0m\u001b[0mkwargs\u001b[0m\u001b[0;34m)\u001b[0m\u001b[0;34m\u001b[0m\u001b[0;34m\u001b[0m\u001b[0m\n\u001b[0m\u001b[1;32m    647\u001b[0m \u001b[0;34m\u001b[0m\u001b[0m\n\u001b[1;32m    648\u001b[0m         \u001b[0;31m# Total elapsed time of the request (approximately)\u001b[0m\u001b[0;34m\u001b[0m\u001b[0;34m\u001b[0m\u001b[0;34m\u001b[0m\u001b[0m\n",
      "\u001b[0;32m/opt/conda/lib/python3.7/site-packages/requests/adapters.py\u001b[0m in \u001b[0;36msend\u001b[0;34m(self, request, stream, timeout, verify, cert, proxies)\u001b[0m\n\u001b[1;32m    447\u001b[0m                     \u001b[0mdecode_content\u001b[0m\u001b[0;34m=\u001b[0m\u001b[0;32mFalse\u001b[0m\u001b[0;34m,\u001b[0m\u001b[0;34m\u001b[0m\u001b[0;34m\u001b[0m\u001b[0m\n\u001b[1;32m    448\u001b[0m                     \u001b[0mretries\u001b[0m\u001b[0;34m=\u001b[0m\u001b[0mself\u001b[0m\u001b[0;34m.\u001b[0m\u001b[0mmax_retries\u001b[0m\u001b[0;34m,\u001b[0m\u001b[0;34m\u001b[0m\u001b[0;34m\u001b[0m\u001b[0m\n\u001b[0;32m--> 449\u001b[0;31m                     \u001b[0mtimeout\u001b[0m\u001b[0;34m=\u001b[0m\u001b[0mtimeout\u001b[0m\u001b[0;34m\u001b[0m\u001b[0;34m\u001b[0m\u001b[0m\n\u001b[0m\u001b[1;32m    450\u001b[0m                 )\n\u001b[1;32m    451\u001b[0m \u001b[0;34m\u001b[0m\u001b[0m\n",
      "\u001b[0;32m/opt/conda/lib/python3.7/site-packages/urllib3/connectionpool.py\u001b[0m in \u001b[0;36murlopen\u001b[0;34m(self, method, url, body, headers, retries, redirect, assert_same_host, timeout, pool_timeout, release_conn, chunked, body_pos, **response_kw)\u001b[0m\n\u001b[1;32m    670\u001b[0m                 \u001b[0mbody\u001b[0m\u001b[0;34m=\u001b[0m\u001b[0mbody\u001b[0m\u001b[0;34m,\u001b[0m\u001b[0;34m\u001b[0m\u001b[0;34m\u001b[0m\u001b[0m\n\u001b[1;32m    671\u001b[0m                 \u001b[0mheaders\u001b[0m\u001b[0;34m=\u001b[0m\u001b[0mheaders\u001b[0m\u001b[0;34m,\u001b[0m\u001b[0;34m\u001b[0m\u001b[0;34m\u001b[0m\u001b[0m\n\u001b[0;32m--> 672\u001b[0;31m                 \u001b[0mchunked\u001b[0m\u001b[0;34m=\u001b[0m\u001b[0mchunked\u001b[0m\u001b[0;34m,\u001b[0m\u001b[0;34m\u001b[0m\u001b[0;34m\u001b[0m\u001b[0m\n\u001b[0m\u001b[1;32m    673\u001b[0m             )\n\u001b[1;32m    674\u001b[0m \u001b[0;34m\u001b[0m\u001b[0m\n",
      "\u001b[0;32m/opt/conda/lib/python3.7/site-packages/urllib3/connectionpool.py\u001b[0m in \u001b[0;36m_make_request\u001b[0;34m(self, conn, method, url, timeout, chunked, **httplib_request_kw)\u001b[0m\n\u001b[1;32m    419\u001b[0m                     \u001b[0;31m# Python 3 (including for exceptions like SystemExit).\u001b[0m\u001b[0;34m\u001b[0m\u001b[0;34m\u001b[0m\u001b[0;34m\u001b[0m\u001b[0m\n\u001b[1;32m    420\u001b[0m                     \u001b[0;31m# Otherwise it looks like a bug in the code.\u001b[0m\u001b[0;34m\u001b[0m\u001b[0;34m\u001b[0m\u001b[0;34m\u001b[0m\u001b[0m\n\u001b[0;32m--> 421\u001b[0;31m                     \u001b[0msix\u001b[0m\u001b[0;34m.\u001b[0m\u001b[0mraise_from\u001b[0m\u001b[0;34m(\u001b[0m\u001b[0me\u001b[0m\u001b[0;34m,\u001b[0m \u001b[0;32mNone\u001b[0m\u001b[0;34m)\u001b[0m\u001b[0;34m\u001b[0m\u001b[0;34m\u001b[0m\u001b[0m\n\u001b[0m\u001b[1;32m    422\u001b[0m         \u001b[0;32mexcept\u001b[0m \u001b[0;34m(\u001b[0m\u001b[0mSocketTimeout\u001b[0m\u001b[0;34m,\u001b[0m \u001b[0mBaseSSLError\u001b[0m\u001b[0;34m,\u001b[0m \u001b[0mSocketError\u001b[0m\u001b[0;34m)\u001b[0m \u001b[0;32mas\u001b[0m \u001b[0me\u001b[0m\u001b[0;34m:\u001b[0m\u001b[0;34m\u001b[0m\u001b[0;34m\u001b[0m\u001b[0m\n\u001b[1;32m    423\u001b[0m             \u001b[0mself\u001b[0m\u001b[0;34m.\u001b[0m\u001b[0m_raise_timeout\u001b[0m\u001b[0;34m(\u001b[0m\u001b[0merr\u001b[0m\u001b[0;34m=\u001b[0m\u001b[0me\u001b[0m\u001b[0;34m,\u001b[0m \u001b[0murl\u001b[0m\u001b[0;34m=\u001b[0m\u001b[0murl\u001b[0m\u001b[0;34m,\u001b[0m \u001b[0mtimeout_value\u001b[0m\u001b[0;34m=\u001b[0m\u001b[0mread_timeout\u001b[0m\u001b[0;34m)\u001b[0m\u001b[0;34m\u001b[0m\u001b[0;34m\u001b[0m\u001b[0m\n",
      "\u001b[0;32m/opt/conda/lib/python3.7/site-packages/urllib3/packages/six.py\u001b[0m in \u001b[0;36mraise_from\u001b[0;34m(value, from_value)\u001b[0m\n",
      "\u001b[0;32m/opt/conda/lib/python3.7/site-packages/urllib3/connectionpool.py\u001b[0m in \u001b[0;36m_make_request\u001b[0;34m(self, conn, method, url, timeout, chunked, **httplib_request_kw)\u001b[0m\n\u001b[1;32m    414\u001b[0m                 \u001b[0;31m# Python 3\u001b[0m\u001b[0;34m\u001b[0m\u001b[0;34m\u001b[0m\u001b[0;34m\u001b[0m\u001b[0m\n\u001b[1;32m    415\u001b[0m                 \u001b[0;32mtry\u001b[0m\u001b[0;34m:\u001b[0m\u001b[0;34m\u001b[0m\u001b[0;34m\u001b[0m\u001b[0m\n\u001b[0;32m--> 416\u001b[0;31m                     \u001b[0mhttplib_response\u001b[0m \u001b[0;34m=\u001b[0m \u001b[0mconn\u001b[0m\u001b[0;34m.\u001b[0m\u001b[0mgetresponse\u001b[0m\u001b[0;34m(\u001b[0m\u001b[0;34m)\u001b[0m\u001b[0;34m\u001b[0m\u001b[0;34m\u001b[0m\u001b[0m\n\u001b[0m\u001b[1;32m    417\u001b[0m                 \u001b[0;32mexcept\u001b[0m \u001b[0mBaseException\u001b[0m \u001b[0;32mas\u001b[0m \u001b[0me\u001b[0m\u001b[0;34m:\u001b[0m\u001b[0;34m\u001b[0m\u001b[0;34m\u001b[0m\u001b[0m\n\u001b[1;32m    418\u001b[0m                     \u001b[0;31m# Remove the TypeError from the exception chain in\u001b[0m\u001b[0;34m\u001b[0m\u001b[0;34m\u001b[0m\u001b[0;34m\u001b[0m\u001b[0m\n",
      "\u001b[0;32m/opt/conda/lib/python3.7/http/client.py\u001b[0m in \u001b[0;36mgetresponse\u001b[0;34m(self)\u001b[0m\n\u001b[1;32m   1342\u001b[0m         \u001b[0;32mtry\u001b[0m\u001b[0;34m:\u001b[0m\u001b[0;34m\u001b[0m\u001b[0;34m\u001b[0m\u001b[0m\n\u001b[1;32m   1343\u001b[0m             \u001b[0;32mtry\u001b[0m\u001b[0;34m:\u001b[0m\u001b[0;34m\u001b[0m\u001b[0;34m\u001b[0m\u001b[0m\n\u001b[0;32m-> 1344\u001b[0;31m                 \u001b[0mresponse\u001b[0m\u001b[0;34m.\u001b[0m\u001b[0mbegin\u001b[0m\u001b[0;34m(\u001b[0m\u001b[0;34m)\u001b[0m\u001b[0;34m\u001b[0m\u001b[0;34m\u001b[0m\u001b[0m\n\u001b[0m\u001b[1;32m   1345\u001b[0m             \u001b[0;32mexcept\u001b[0m \u001b[0mConnectionError\u001b[0m\u001b[0;34m:\u001b[0m\u001b[0;34m\u001b[0m\u001b[0;34m\u001b[0m\u001b[0m\n\u001b[1;32m   1346\u001b[0m                 \u001b[0mself\u001b[0m\u001b[0;34m.\u001b[0m\u001b[0mclose\u001b[0m\u001b[0;34m(\u001b[0m\u001b[0;34m)\u001b[0m\u001b[0;34m\u001b[0m\u001b[0;34m\u001b[0m\u001b[0m\n",
      "\u001b[0;32m/opt/conda/lib/python3.7/http/client.py\u001b[0m in \u001b[0;36mbegin\u001b[0;34m(self)\u001b[0m\n\u001b[1;32m    304\u001b[0m         \u001b[0;31m# read until we get a non-100 response\u001b[0m\u001b[0;34m\u001b[0m\u001b[0;34m\u001b[0m\u001b[0;34m\u001b[0m\u001b[0m\n\u001b[1;32m    305\u001b[0m         \u001b[0;32mwhile\u001b[0m \u001b[0;32mTrue\u001b[0m\u001b[0;34m:\u001b[0m\u001b[0;34m\u001b[0m\u001b[0;34m\u001b[0m\u001b[0m\n\u001b[0;32m--> 306\u001b[0;31m             \u001b[0mversion\u001b[0m\u001b[0;34m,\u001b[0m \u001b[0mstatus\u001b[0m\u001b[0;34m,\u001b[0m \u001b[0mreason\u001b[0m \u001b[0;34m=\u001b[0m \u001b[0mself\u001b[0m\u001b[0;34m.\u001b[0m\u001b[0m_read_status\u001b[0m\u001b[0;34m(\u001b[0m\u001b[0;34m)\u001b[0m\u001b[0;34m\u001b[0m\u001b[0;34m\u001b[0m\u001b[0m\n\u001b[0m\u001b[1;32m    307\u001b[0m             \u001b[0;32mif\u001b[0m \u001b[0mstatus\u001b[0m \u001b[0;34m!=\u001b[0m \u001b[0mCONTINUE\u001b[0m\u001b[0;34m:\u001b[0m\u001b[0;34m\u001b[0m\u001b[0;34m\u001b[0m\u001b[0m\n\u001b[1;32m    308\u001b[0m                 \u001b[0;32mbreak\u001b[0m\u001b[0;34m\u001b[0m\u001b[0;34m\u001b[0m\u001b[0m\n",
      "\u001b[0;32m/opt/conda/lib/python3.7/http/client.py\u001b[0m in \u001b[0;36m_read_status\u001b[0;34m(self)\u001b[0m\n\u001b[1;32m    265\u001b[0m \u001b[0;34m\u001b[0m\u001b[0m\n\u001b[1;32m    266\u001b[0m     \u001b[0;32mdef\u001b[0m \u001b[0m_read_status\u001b[0m\u001b[0;34m(\u001b[0m\u001b[0mself\u001b[0m\u001b[0;34m)\u001b[0m\u001b[0;34m:\u001b[0m\u001b[0;34m\u001b[0m\u001b[0;34m\u001b[0m\u001b[0m\n\u001b[0;32m--> 267\u001b[0;31m         \u001b[0mline\u001b[0m \u001b[0;34m=\u001b[0m \u001b[0mstr\u001b[0m\u001b[0;34m(\u001b[0m\u001b[0mself\u001b[0m\u001b[0;34m.\u001b[0m\u001b[0mfp\u001b[0m\u001b[0;34m.\u001b[0m\u001b[0mreadline\u001b[0m\u001b[0;34m(\u001b[0m\u001b[0m_MAXLINE\u001b[0m \u001b[0;34m+\u001b[0m \u001b[0;36m1\u001b[0m\u001b[0;34m)\u001b[0m\u001b[0;34m,\u001b[0m \u001b[0;34m\"iso-8859-1\"\u001b[0m\u001b[0;34m)\u001b[0m\u001b[0;34m\u001b[0m\u001b[0;34m\u001b[0m\u001b[0m\n\u001b[0m\u001b[1;32m    268\u001b[0m         \u001b[0;32mif\u001b[0m \u001b[0mlen\u001b[0m\u001b[0;34m(\u001b[0m\u001b[0mline\u001b[0m\u001b[0;34m)\u001b[0m \u001b[0;34m>\u001b[0m \u001b[0m_MAXLINE\u001b[0m\u001b[0;34m:\u001b[0m\u001b[0;34m\u001b[0m\u001b[0;34m\u001b[0m\u001b[0m\n\u001b[1;32m    269\u001b[0m             \u001b[0;32mraise\u001b[0m \u001b[0mLineTooLong\u001b[0m\u001b[0;34m(\u001b[0m\u001b[0;34m\"status line\"\u001b[0m\u001b[0;34m)\u001b[0m\u001b[0;34m\u001b[0m\u001b[0;34m\u001b[0m\u001b[0m\n",
      "\u001b[0;32m/opt/conda/lib/python3.7/socket.py\u001b[0m in \u001b[0;36mreadinto\u001b[0;34m(self, b)\u001b[0m\n\u001b[1;32m    587\u001b[0m         \u001b[0;32mwhile\u001b[0m \u001b[0;32mTrue\u001b[0m\u001b[0;34m:\u001b[0m\u001b[0;34m\u001b[0m\u001b[0;34m\u001b[0m\u001b[0m\n\u001b[1;32m    588\u001b[0m             \u001b[0;32mtry\u001b[0m\u001b[0;34m:\u001b[0m\u001b[0;34m\u001b[0m\u001b[0;34m\u001b[0m\u001b[0m\n\u001b[0;32m--> 589\u001b[0;31m                 \u001b[0;32mreturn\u001b[0m \u001b[0mself\u001b[0m\u001b[0;34m.\u001b[0m\u001b[0m_sock\u001b[0m\u001b[0;34m.\u001b[0m\u001b[0mrecv_into\u001b[0m\u001b[0;34m(\u001b[0m\u001b[0mb\u001b[0m\u001b[0;34m)\u001b[0m\u001b[0;34m\u001b[0m\u001b[0;34m\u001b[0m\u001b[0m\n\u001b[0m\u001b[1;32m    590\u001b[0m             \u001b[0;32mexcept\u001b[0m \u001b[0mtimeout\u001b[0m\u001b[0;34m:\u001b[0m\u001b[0;34m\u001b[0m\u001b[0;34m\u001b[0m\u001b[0m\n\u001b[1;32m    591\u001b[0m                 \u001b[0mself\u001b[0m\u001b[0;34m.\u001b[0m\u001b[0m_timeout_occurred\u001b[0m \u001b[0;34m=\u001b[0m \u001b[0;32mTrue\u001b[0m\u001b[0;34m\u001b[0m\u001b[0;34m\u001b[0m\u001b[0m\n",
      "\u001b[0;31mKeyboardInterrupt\u001b[0m: "
     ]
    }
   ],
   "source": [
    "import syft as sy\n",
    "sy.join_duet(loopback=True)"
   ]
  },
  {
   "cell_type": "markdown",
   "metadata": {},
   "source": [
    "## PART 2: Setting up a Model and our Data\n",
    "The majority of the code below has been adapted closely from the original PyTorch MNIST example which is available in the `original` directory with these notebooks."
   ]
  },
  {
   "cell_type": "markdown",
   "metadata": {},
   "source": [
    "The `duet` variable is now your reference to a whole world of remote operations including supported libraries like torch.\n",
    "\n",
    "Lets take a look at the duet.torch attribute.\n",
    "```\n",
    "duet.torch\n",
    "```"
   ]
  },
  {
   "cell_type": "code",
   "execution_count": 2,
   "metadata": {},
   "outputs": [
    {
     "data": {
      "text/plain": [
       "Module:\n",
       "\t.Tensor -> Tensor\n",
       "\t.BFloat16Tensor -> BFloat16Tensor\n",
       "\t.BoolTensor -> BoolTensor\n",
       "\t.ByteTensor -> ByteTensor\n",
       "\t.CharTensor -> CharTensor\n",
       "\t.DoubleTensor -> DoubleTensor\n",
       "\t.FloatTensor -> FloatTensor\n",
       "\t.HalfTensor -> HalfTensor\n",
       "\t.IntTensor -> IntTensor\n",
       "\t.LongTensor -> LongTensor\n",
       "\t.ShortTensor -> ShortTensor\n",
       "\t.nn -> Module:\n",
       "\t\t.Parameter -> Parameter\n",
       "\t\t.Module -> Module\n",
       "\t\t.Conv2d -> Conv2d\n",
       "\t\t.Dropout2d -> Dropout2d\n",
       "\t\t.Linear -> Linear\n",
       "\t\t.functional -> Module:\n",
       "\t\t\t.relu -> <syft.ast.function.Function object at 0x7f5256b7ac50>\n",
       "\t\t\t.max_pool2d -> <syft.ast.function.Function object at 0x7f5256b7a950>\n",
       "\t\t\t.log_softmax -> <syft.ast.function.Function object at 0x7f5256b7ac10>\n",
       "\t\t\t.cosine_embedding_loss -> <syft.ast.function.Function object at 0x7f5256b7ad10>\n",
       "\t\t\t.ctc_loss -> <syft.ast.function.Function object at 0x7f5256b83f10>\n",
       "\t\t\t.hinge_embedding_loss -> <syft.ast.function.Function object at 0x7f5256b83f90>\n",
       "\t\t\t.l1_loss -> <syft.ast.function.Function object at 0x7f5256b87050>\n",
       "\t\t\t.margin_ranking_loss -> <syft.ast.function.Function object at 0x7f5256b87090>\n",
       "\t\t\t.mse_loss -> <syft.ast.function.Function object at 0x7f5256b87110>\n",
       "\t\t\t.multi_margin_loss -> <syft.ast.function.Function object at 0x7f5256b87150>\n",
       "\t\t\t.multilabel_margin_loss -> <syft.ast.function.Function object at 0x7f5256b871d0>\n",
       "\t\t\t.multilabel_soft_margin_loss -> <syft.ast.function.Function object at 0x7f5256b87210>\n",
       "\t\t\t.nll_loss -> <syft.ast.function.Function object at 0x7f5256b87290>\n",
       "\t\t\t.poisson_nll_loss -> <syft.ast.function.Function object at 0x7f5256b872d0>\n",
       "\t\t\t.smooth_l1_loss -> <syft.ast.function.Function object at 0x7f5256b87310>\n",
       "\t\t\t.soft_margin_loss -> <syft.ast.function.Function object at 0x7f5256b87350>\n",
       "\t\t\t.triplet_margin_loss -> <syft.ast.function.Function object at 0x7f5256b873d0>\n",
       "\n",
       "\t\t.Sequential -> Sequential\n",
       "\t\t.AdaptiveLogSoftmaxWithLoss -> AdaptiveLogSoftmaxWithLoss\n",
       "\t\t.BCELoss -> BCELoss\n",
       "\t\t.BCEWithLogitsLoss -> BCEWithLogitsLoss\n",
       "\t\t.CTCLoss -> CTCLoss\n",
       "\t\t.CrossEntropyLoss -> CrossEntropyLoss\n",
       "\t\t.CosineEmbeddingLoss -> CosineEmbeddingLoss\n",
       "\t\t.HingeEmbeddingLoss -> HingeEmbeddingLoss\n",
       "\t\t.KLDivLoss -> KLDivLoss\n",
       "\t\t.L1Loss -> L1Loss\n",
       "\t\t.MSELoss -> MSELoss\n",
       "\t\t.MarginRankingLoss -> MarginRankingLoss\n",
       "\t\t.MultiLabelMarginLoss -> MultiLabelMarginLoss\n",
       "\t\t.MultiLabelSoftMarginLoss -> MultiLabelSoftMarginLoss\n",
       "\t\t.MultiMarginLoss -> MultiMarginLoss\n",
       "\t\t.NLLLoss -> NLLLoss\n",
       "\t\t.NLLLoss2d -> NLLLoss2d\n",
       "\t\t.PoissonNLLLoss -> PoissonNLLLoss\n",
       "\t\t.SmoothL1Loss -> SmoothL1Loss\n",
       "\t\t.SoftMarginLoss -> SoftMarginLoss\n",
       "\t\t.TripletMarginLoss -> TripletMarginLoss\n",
       "\t\t.AdaptiveAvgPool1d -> AdaptiveAvgPool1d\n",
       "\t\t.AdaptiveAvgPool2d -> AdaptiveAvgPool2d\n",
       "\t\t.AdaptiveAvgPool3d -> AdaptiveAvgPool3d\n",
       "\t\t.AdaptiveMaxPool1d -> AdaptiveMaxPool1d\n",
       "\t\t.AdaptiveMaxPool2d -> AdaptiveMaxPool2d\n",
       "\t\t.AdaptiveMaxPool3d -> AdaptiveMaxPool3d\n",
       "\t\t.AlphaDropout -> AlphaDropout\n",
       "\t\t.AvgPool1d -> AvgPool1d\n",
       "\t\t.AvgPool2d -> AvgPool2d\n",
       "\t\t.AvgPool3d -> AvgPool3d\n",
       "\t\t.BatchNorm1d -> BatchNorm1d\n",
       "\t\t.BatchNorm2d -> BatchNorm2d\n",
       "\t\t.BatchNorm3d -> BatchNorm3d\n",
       "\t\t.Bilinear -> Bilinear\n",
       "\t\t.CELU -> CELU\n",
       "\t\t.ConstantPad1d -> ConstantPad1d\n",
       "\t\t.ConstantPad2d -> ConstantPad2d\n",
       "\t\t.ConstantPad3d -> ConstantPad3d\n",
       "\t\t.Container -> Container\n",
       "\t\t.Conv1d -> Conv1d\n",
       "\t\t.Conv3d -> Conv3d\n",
       "\t\t.ConvTranspose1d -> ConvTranspose1d\n",
       "\t\t.ConvTranspose2d -> ConvTranspose2d\n",
       "\t\t.ConvTranspose3d -> ConvTranspose3d\n",
       "\t\t.CosineSimilarity -> CosineSimilarity\n",
       "\t\t.CrossMapLRN2d -> CrossMapLRN2d\n",
       "\t\t.DataParallel -> DataParallel\n",
       "\t\t.Dropout -> Dropout\n",
       "\t\t.Dropout3d -> Dropout3d\n",
       "\t\t.ELU -> ELU\n",
       "\t\t.Embedding -> Embedding\n",
       "\t\t.EmbeddingBag -> EmbeddingBag\n",
       "\t\t.FeatureAlphaDropout -> FeatureAlphaDropout\n",
       "\t\t.Flatten -> Flatten\n",
       "\t\t.Fold -> Fold\n",
       "\t\t.FractionalMaxPool2d -> FractionalMaxPool2d\n",
       "\t\t.FractionalMaxPool3d -> FractionalMaxPool3d\n",
       "\t\t.GELU -> GELU\n",
       "\t\t.GLU -> GLU\n",
       "\t\t.GRU -> GRU\n",
       "\t\t.GRUCell -> GRUCell\n",
       "\t\t.GroupNorm -> GroupNorm\n",
       "\t\t.Hardshrink -> Hardshrink\n",
       "\t\t.Hardsigmoid -> Hardsigmoid\n",
       "\t\t.Hardswish -> Hardswish\n",
       "\t\t.Hardtanh -> Hardtanh\n",
       "\t\t.Identity -> Identity\n",
       "\t\t.InstanceNorm1d -> InstanceNorm1d\n",
       "\t\t.InstanceNorm2d -> InstanceNorm2d\n",
       "\t\t.InstanceNorm3d -> InstanceNorm3d\n",
       "\t\t.LPPool1d -> LPPool1d\n",
       "\t\t.LPPool2d -> LPPool2d\n",
       "\t\t.LSTM -> LSTM\n",
       "\t\t.LSTMCell -> LSTMCell\n",
       "\t\t.LayerNorm -> LayerNorm\n",
       "\t\t.LeakyReLU -> LeakyReLU\n",
       "\t\t.LocalResponseNorm -> LocalResponseNorm\n",
       "\t\t.LogSigmoid -> LogSigmoid\n",
       "\t\t.LogSoftmax -> LogSoftmax\n",
       "\t\t.MaxPool1d -> MaxPool1d\n",
       "\t\t.MaxPool2d -> MaxPool2d\n",
       "\t\t.MaxPool3d -> MaxPool3d\n",
       "\t\t.MaxUnpool1d -> MaxUnpool1d\n",
       "\t\t.MaxUnpool2d -> MaxUnpool2d\n",
       "\t\t.MaxUnpool3d -> MaxUnpool3d\n",
       "\t\t.ModuleDict -> ModuleDict\n",
       "\t\t.ModuleList -> ModuleList\n",
       "\t\t.MultiheadAttention -> MultiheadAttention\n",
       "\t\t.PReLU -> PReLU\n",
       "\t\t.PairwiseDistance -> PairwiseDistance\n",
       "\t\t.PixelShuffle -> PixelShuffle\n",
       "\t\t.RNN -> RNN\n",
       "\t\t.RNNBase -> RNNBase\n",
       "\t\t.RNNCell -> RNNCell\n",
       "\t\t.RNNCellBase -> RNNCellBase\n",
       "\t\t.RReLU -> RReLU\n",
       "\t\t.ReLU -> ReLU\n",
       "\t\t.ReLU6 -> ReLU6\n",
       "\t\t.ReflectionPad1d -> ReflectionPad1d\n",
       "\t\t.ReflectionPad2d -> ReflectionPad2d\n",
       "\t\t.ReplicationPad1d -> ReplicationPad1d\n",
       "\t\t.ReplicationPad2d -> ReplicationPad2d\n",
       "\t\t.ReplicationPad3d -> ReplicationPad3d\n",
       "\t\t.SELU -> SELU\n",
       "\t\t.Sigmoid -> Sigmoid\n",
       "\t\t.Softmax -> Softmax\n",
       "\t\t.Softmax2d -> Softmax2d\n",
       "\t\t.Softmin -> Softmin\n",
       "\t\t.Softplus -> Softplus\n",
       "\t\t.Softshrink -> Softshrink\n",
       "\t\t.Softsign -> Softsign\n",
       "\t\t.SyncBatchNorm -> SyncBatchNorm\n",
       "\t\t.Tanh -> Tanh\n",
       "\t\t.Tanhshrink -> Tanhshrink\n",
       "\t\t.Threshold -> Threshold\n",
       "\t\t.Transformer -> Transformer\n",
       "\t\t.TransformerDecoder -> TransformerDecoder\n",
       "\t\t.TransformerDecoderLayer -> TransformerDecoderLayer\n",
       "\t\t.TransformerEncoder -> TransformerEncoder\n",
       "\t\t.TransformerEncoderLayer -> TransformerEncoderLayer\n",
       "\t\t.Unfold -> Unfold\n",
       "\t\t.Upsample -> Upsample\n",
       "\t\t.UpsamplingBilinear2d -> UpsamplingBilinear2d\n",
       "\t\t.UpsamplingNearest2d -> UpsamplingNearest2d\n",
       "\t\t.ZeroPad2d -> ZeroPad2d\n",
       "\n",
       "\t.abs_ -> <syft.ast.function.Function object at 0x7f5256bc22d0>\n",
       "\t.abs -> <syft.ast.function.Function object at 0x7f5256bc2390>\n",
       "\t.acos_ -> <syft.ast.function.Function object at 0x7f5256bc2410>\n",
       "\t.acos -> <syft.ast.function.Function object at 0x7f5256bc24d0>\n",
       "\t.add -> <syft.ast.function.Function object at 0x7f5256bc2590>\n",
       "\t.addbmm -> <syft.ast.function.Function object at 0x7f5256bc2650>\n",
       "\t.addcdiv -> <syft.ast.function.Function object at 0x7f5256bc2710>\n",
       "\t.addcmul -> <syft.ast.function.Function object at 0x7f5256bc27d0>\n",
       "\t.addmm -> <syft.ast.function.Function object at 0x7f5256bc2890>\n",
       "\t.addmv_ -> <syft.ast.function.Function object at 0x7f5256bc2950>\n",
       "\t.addmv -> <syft.ast.function.Function object at 0x7f5256bc2a10>\n",
       "\t.addr -> <syft.ast.function.Function object at 0x7f5256bc2ad0>\n",
       "\t.all -> <syft.ast.function.Function object at 0x7f5256bc2b90>\n",
       "\t.allclose -> <syft.ast.function.Function object at 0x7f5256bc2c50>\n",
       "\t.angle -> <syft.ast.function.Function object at 0x7f5256bc2d10>\n",
       "\t.any -> <syft.ast.function.Function object at 0x7f5256bc2dd0>\n",
       "\t.argmax -> <syft.ast.function.Function object at 0x7f5256bc2e90>\n",
       "\t.argmin -> <syft.ast.function.Function object at 0x7f5256bc2f50>\n",
       "\t.argsort -> <syft.ast.function.Function object at 0x7f5256bc6050>\n",
       "\t.as_strided_ -> <syft.ast.function.Function object at 0x7f5256bc60d0>\n",
       "\t.as_strided -> <syft.ast.function.Function object at 0x7f5256bc6110>\n",
       "\t.asin_ -> <syft.ast.function.Function object at 0x7f5256bc6210>\n",
       "\t.asin -> <syft.ast.function.Function object at 0x7f5256bc62d0>\n",
       "\t.atan_ -> <syft.ast.function.Function object at 0x7f5256bc6390>\n",
       "\t.atan -> <syft.ast.function.Function object at 0x7f5256bc6450>\n",
       "\t.atan2 -> <syft.ast.function.Function object at 0x7f5256bc6510>\n",
       "\t.baddbmm -> <syft.ast.function.Function object at 0x7f5256bc65d0>\n",
       "\t.bernoulli -> <syft.ast.function.Function object at 0x7f5256bc66d0>\n",
       "\t.bitwise_and -> <syft.ast.function.Function object at 0x7f5256bc6710>\n",
       "\t.bitwise_not -> <syft.ast.function.Function object at 0x7f5256bc6750>\n",
       "\t.bitwise_or -> <syft.ast.function.Function object at 0x7f5256bc67d0>\n",
       "\t.bitwise_xor -> <syft.ast.function.Function object at 0x7f5256bc6850>\n",
       "\t.bmm -> <syft.ast.function.Function object at 0x7f5256bc6950>\n",
       "\t.ceil_ -> <syft.ast.function.Function object at 0x7f5256bc6a10>\n",
       "\t.ceil -> <syft.ast.function.Function object at 0x7f5256bc6ad0>\n",
       "\t.cholesky_inverse -> <syft.ast.function.Function object at 0x7f5256bc6b10>\n",
       "\t.cholesky_solve -> <syft.ast.function.Function object at 0x7f5256bc6b90>\n",
       "\t.cholesky -> <syft.ast.function.Function object at 0x7f5256bc6c50>\n",
       "\t.chunk -> <syft.ast.function.Function object at 0x7f5256bc6d10>\n",
       "\t.clamp_ -> <syft.ast.function.Function object at 0x7f5256bc6dd0>\n",
       "\t.clamp_max_ -> <syft.ast.function.Function object at 0x7f5256bc6e50>\n",
       "\t.clamp_max -> <syft.ast.function.Function object at 0x7f5256bc6f50>\n",
       "\t.clamp_min_ -> <syft.ast.function.Function object at 0x7f5256bc6f90>\n",
       "\t.clamp_min -> <syft.ast.function.Function object at 0x7f5256bca0d0>\n",
       "\t.clamp -> <syft.ast.function.Function object at 0x7f5256bca150>\n",
       "\t.clone -> <syft.ast.function.Function object at 0x7f5256bca210>\n",
       "\t.conj -> <syft.ast.function.Function object at 0x7f5256bca2d0>\n",
       "\t.cos_ -> <syft.ast.function.Function object at 0x7f5256bca390>\n",
       "\t.cos -> <syft.ast.function.Function object at 0x7f5256bca450>\n",
       "\t.cosh_ -> <syft.ast.function.Function object at 0x7f5256bca510>\n",
       "\t.cosh -> <syft.ast.function.Function object at 0x7f5256bca5d0>\n",
       "\t.cross -> <syft.ast.function.Function object at 0x7f5256bca690>\n",
       "\t.cummax -> <syft.ast.function.Function object at 0x7f5256bca750>\n",
       "\t.cummin -> <syft.ast.function.Function object at 0x7f5256bca810>\n",
       "\t.cumprod -> <syft.ast.function.Function object at 0x7f5256bca8d0>\n",
       "\t.cumsum -> <syft.ast.function.Function object at 0x7f5256bca990>\n",
       "\t.dequantize -> <syft.ast.function.Function object at 0x7f5256bcaa10>\n",
       "\t.det -> <syft.ast.function.Function object at 0x7f5256bcaad0>\n",
       "\t.detach -> <syft.ast.function.Function object at 0x7f5256bcab90>\n",
       "\t.diag_embed -> <syft.ast.function.Function object at 0x7f5256bcac10>\n",
       "\t.diag -> <syft.ast.function.Function object at 0x7f5256bcacd0>\n",
       "\t.diagflat -> <syft.ast.function.Function object at 0x7f5256bcad90>\n",
       "\t.diagonal -> <syft.ast.function.Function object at 0x7f5256bcae50>\n",
       "\t.digamma -> <syft.ast.function.Function object at 0x7f5256bcaf10>\n",
       "\t.dist -> <syft.ast.function.Function object at 0x7f5256bcafd0>\n",
       "\t.div -> <syft.ast.function.Function object at 0x7f5256bcd0d0>\n",
       "\t.dot -> <syft.ast.function.Function object at 0x7f5256bcd190>\n",
       "\t.eig -> <syft.ast.function.Function object at 0x7f5256bcd250>\n",
       "\t.eq -> <syft.ast.function.Function object at 0x7f5256bcd310>\n",
       "\t.equal -> <syft.ast.function.Function object at 0x7f5256bcd3d0>\n",
       "\t.erf_ -> <syft.ast.function.Function object at 0x7f5256bcd490>\n",
       "\t.erf -> <syft.ast.function.Function object at 0x7f5256bcd550>\n",
       "\t.erfc_ -> <syft.ast.function.Function object at 0x7f5256bcd610>\n",
       "\t.erfc -> <syft.ast.function.Function object at 0x7f5256bcd6d0>\n",
       "\t.erfinv -> <syft.ast.function.Function object at 0x7f5256bcd790>\n",
       "\t.exp_ -> <syft.ast.function.Function object at 0x7f5256bcd850>\n",
       "\t.exp -> <syft.ast.function.Function object at 0x7f5256bcd910>\n",
       "\t.expm1_ -> <syft.ast.function.Function object at 0x7f5256bcd9d0>\n",
       "\t.expm1 -> <syft.ast.function.Function object at 0x7f5256bcda90>\n",
       "\t.fft -> <syft.ast.function.Function object at 0x7f5256bcdb50>\n",
       "\t.fill_ -> <syft.ast.function.Function object at 0x7f5256bcdc10>\n",
       "\t.flatten -> <syft.ast.function.Function object at 0x7f5256bcdcd0>\n",
       "\t.flip -> <syft.ast.function.Function object at 0x7f5256bcdd90>\n",
       "\t.floor_ -> <syft.ast.function.Function object at 0x7f5256bcde50>\n",
       "\t.floor_divide -> <syft.ast.function.Function object at 0x7f5256bcded0>\n",
       "\t.floor -> <syft.ast.function.Function object at 0x7f5256bcdf90>\n",
       "\t.fmod -> <syft.ast.function.Function object at 0x7f5256bcf090>\n",
       "\t.frac_ -> <syft.ast.function.Function object at 0x7f5256bcf150>\n",
       "\t.frac -> <syft.ast.function.Function object at 0x7f5256bcf210>\n",
       "\t.gather -> <syft.ast.function.Function object at 0x7f5256bcf2d0>\n",
       "\t.ge -> <syft.ast.function.Function object at 0x7f5256bcf390>\n",
       "\t.geqrf -> <syft.ast.function.Function object at 0x7f5256bcf450>\n",
       "\t.ger -> <syft.ast.function.Function object at 0x7f5256bcf510>\n",
       "\t.get_device -> <syft.ast.function.Function object at 0x7f5256bcf590>\n",
       "\t.gt -> <syft.ast.function.Function object at 0x7f5256bcf650>\n",
       "\t.hardshrink -> <syft.ast.function.Function object at 0x7f5256bcf6d0>\n",
       "\t.histc -> <syft.ast.function.Function object at 0x7f5256bcf790>\n",
       "\t.ifft -> <syft.ast.function.Function object at 0x7f5256bcf850>\n",
       "\t.index_add -> <syft.ast.function.Function object at 0x7f5256bcf950>\n",
       "\t.index_copy -> <syft.ast.function.Function object at 0x7f5256bcf990>\n",
       "\t.index_fill -> <syft.ast.function.Function object at 0x7f5256bcf9d0>\n",
       "\t.index_put_ -> <syft.ast.function.Function object at 0x7f5256bcfa50>\n",
       "\t.index_put -> <syft.ast.function.Function object at 0x7f5256bcfb90>\n",
       "\t.index_select -> <syft.ast.function.Function object at 0x7f5256bcfbd0>\n",
       "\t.int_repr -> <syft.ast.function.Function object at 0x7f5256bcfc90>\n",
       "\t.inverse -> <syft.ast.function.Function object at 0x7f5256bcfd50>\n",
       "\t.irfft -> <syft.ast.function.Function object at 0x7f5256bcfe10>\n",
       "\t.is_complex -> <syft.ast.function.Function object at 0x7f5256bcfe90>\n",
       "\t.is_distributed -> <syft.ast.function.Function object at 0x7f5256bcfed0>\n",
       "\t.is_floating_point -> <syft.ast.function.Function object at 0x7f5256bcff90>\n",
       "\t.is_nonzero -> <syft.ast.function.Function object at 0x7f5256bcffd0>\n",
       "\t.is_same_size -> <syft.ast.function.Function object at 0x7f5256bd4050>\n",
       "\t.is_signed -> <syft.ast.function.Function object at 0x7f5256bd4190>\n",
       "\t.isclose -> <syft.ast.function.Function object at 0x7f5256bd4210>\n",
       "\t.kthvalue -> <syft.ast.function.Function object at 0x7f5256bd42d0>\n",
       "\t.le -> <syft.ast.function.Function object at 0x7f5256bd4390>\n",
       "\t.lerp -> <syft.ast.function.Function object at 0x7f5256bd4450>\n",
       "\t.lgamma -> <syft.ast.function.Function object at 0x7f5256bd4510>\n",
       "\t.log_ -> <syft.ast.function.Function object at 0x7f5256bd45d0>\n",
       "\t.log_softmax -> <syft.ast.function.Function object at 0x7f5256bd4650>\n",
       "\t.log -> <syft.ast.function.Function object at 0x7f5256bd4710>\n",
       "\t.log10_ -> <syft.ast.function.Function object at 0x7f5256bd47d0>\n",
       "\t.log10 -> <syft.ast.function.Function object at 0x7f5256bd4890>\n",
       "\t.log1p_ -> <syft.ast.function.Function object at 0x7f5256bd4950>\n",
       "\t.log1p -> <syft.ast.function.Function object at 0x7f5256bd4a10>\n",
       "\t.log2_ -> <syft.ast.function.Function object at 0x7f5256bd4ad0>\n",
       "\t.log2 -> <syft.ast.function.Function object at 0x7f5256bd4b90>\n",
       "\t.logdet -> <syft.ast.function.Function object at 0x7f5256bd4c50>\n",
       "\t.logical_and -> <syft.ast.function.Function object at 0x7f5256bd4cd0>\n",
       "\t.logical_not -> <syft.ast.function.Function object at 0x7f5256bd4d10>\n",
       "\t.logical_or -> <syft.ast.function.Function object at 0x7f5256bd4d90>\n",
       "\t.logical_xor -> <syft.ast.function.Function object at 0x7f5256bd4e10>\n",
       "\t.logsumexp -> <syft.ast.function.Function object at 0x7f5256bd4f50>\n",
       "\t.lstsq -> <syft.ast.function.Function object at 0x7f5256bd4fd0>\n",
       "\t.lt -> <syft.ast.function.Function object at 0x7f5256bd70d0>\n",
       "\t.lu_solve -> <syft.ast.function.Function object at 0x7f5256bd7190>\n",
       "\t.lu -> <syft.ast.function.Function object at 0x7f5256bd7250>\n",
       "\t.masked_fill -> <syft.ast.function.Function object at 0x7f5256bd72d0>\n",
       "\t.masked_scatter -> <syft.ast.function.Function object at 0x7f5256bd7310>\n",
       "\t.masked_select -> <syft.ast.function.Function object at 0x7f5256bd7390>\n",
       "\t.matmul -> <syft.ast.function.Function object at 0x7f5256bd7490>\n",
       "\t.matrix_power -> <syft.ast.function.Function object at 0x7f5256bd7510>\n",
       "\t.mean -> <syft.ast.function.Function object at 0x7f5256bd75d0>\n",
       "\t.mm -> <syft.ast.function.Function object at 0x7f5256bd7690>\n",
       "\t.mode -> <syft.ast.function.Function object at 0x7f5256bd7750>\n",
       "\t.mul -> <syft.ast.function.Function object at 0x7f5256bd7810>\n",
       "\t.multinomial -> <syft.ast.function.Function object at 0x7f5256bd7890>\n",
       "\t.mv -> <syft.ast.function.Function object at 0x7f5256bd7950>\n",
       "\t.mvlgamma -> <syft.ast.function.Function object at 0x7f5256bd7a10>\n",
       "\t.narrow -> <syft.ast.function.Function object at 0x7f5256bd7ad0>\n",
       "\t.ne -> <syft.ast.function.Function object at 0x7f5256bd7b90>\n",
       "\t.neg_ -> <syft.ast.function.Function object at 0x7f5256bd7c10>\n",
       "\t.neg -> <syft.ast.function.Function object at 0x7f5256bd7cd0>\n",
       "\t.nonzero -> <syft.ast.function.Function object at 0x7f5256bd7d90>\n",
       "\t.norm -> <syft.ast.function.Function object at 0x7f5256bd7e50>\n",
       "\t.orgqr -> <syft.ast.function.Function object at 0x7f5256bd7f10>\n",
       "\t.ormqr -> <syft.ast.function.Function object at 0x7f5256bd7fd0>\n",
       "\t.pinverse -> <syft.ast.function.Function object at 0x7f5256bdb0d0>\n",
       "\t.polygamma -> <syft.ast.function.Function object at 0x7f5256bdb1d0>\n",
       "\t.pow -> <syft.ast.function.Function object at 0x7f5256bdb250>\n",
       "\t.prelu -> <syft.ast.function.Function object at 0x7f5256bdb310>\n",
       "\t.q_per_channel_axis -> <syft.ast.function.Function object at 0x7f5256bdb350>\n",
       "\t.q_per_channel_scales -> <syft.ast.function.Function object at 0x7f5256bdb390>\n",
       "\t.q_per_channel_zero_points -> <syft.ast.function.Function object at 0x7f5256bdb3d0>\n",
       "\t.q_scale -> <syft.ast.function.Function object at 0x7f5256bdb490>\n",
       "\t.q_zero_point -> <syft.ast.function.Function object at 0x7f5256bdb510>\n",
       "\t.qr -> <syft.ast.function.Function object at 0x7f5256bdb5d0>\n",
       "\t.reciprocal_ -> <syft.ast.function.Function object at 0x7f5256bdb650>\n",
       "\t.reciprocal -> <syft.ast.function.Function object at 0x7f5256bdb690>\n",
       "\t.relu_ -> <syft.ast.function.Function object at 0x7f5256bdb790>\n",
       "\t.relu -> <syft.ast.function.Function object at 0x7f5256bdb850>\n",
       "\t.remainder -> <syft.ast.function.Function object at 0x7f5256bdb950>\n",
       "\t.renorm -> <syft.ast.function.Function object at 0x7f5256bdb9d0>\n",
       "\t.repeat_interleave -> <syft.ast.function.Function object at 0x7f5256bdba10>\n",
       "\t.reshape -> <syft.ast.function.Function object at 0x7f5256bdbad0>\n",
       "\t.resize_as_ -> <syft.ast.function.Function object at 0x7f5256bdbb50>\n",
       "\t.rfft -> <syft.ast.function.Function object at 0x7f5256bdbc10>\n",
       "\t.roll -> <syft.ast.function.Function object at 0x7f5256bdbcd0>\n",
       "\t.rot90 -> <syft.ast.function.Function object at 0x7f5256bdbd90>\n",
       "\t.round_ -> <syft.ast.function.Function object at 0x7f5256bdbe50>\n",
       "\t.round -> <syft.ast.function.Function object at 0x7f5256bdbf10>\n",
       "\t.rsqrt_ -> <syft.ast.function.Function object at 0x7f5256bdbfd0>\n",
       "\t.rsqrt -> <syft.ast.function.Function object at 0x7f5256bdf0d0>\n",
       "\t.scatter_add -> <syft.ast.function.Function object at 0x7f5256bdf150>\n",
       "\t.scatter -> <syft.ast.function.Function object at 0x7f5256bdf210>\n",
       "\t.select -> <syft.ast.function.Function object at 0x7f5256bdf2d0>\n",
       "\t.sigmoid_ -> <syft.ast.function.Function object at 0x7f5256bdf390>\n",
       "\t.sigmoid -> <syft.ast.function.Function object at 0x7f5256bdf450>\n",
       "\t.sign -> <syft.ast.function.Function object at 0x7f5256bdf510>\n",
       "\t.sin_ -> <syft.ast.function.Function object at 0x7f5256bdf5d0>\n",
       "\t.sin -> <syft.ast.function.Function object at 0x7f5256bdf690>\n",
       "\t.sinh_ -> <syft.ast.function.Function object at 0x7f5256bdf750>\n",
       "\t.sinh -> <syft.ast.function.Function object at 0x7f5256bdf810>\n",
       "\t.slogdet -> <syft.ast.function.Function object at 0x7f5256bdf8d0>\n",
       "\t.softmax -> <syft.ast.function.Function object at 0x7f5256bdf990>\n",
       "\t.solve -> <syft.ast.function.Function object at 0x7f5256bdfa50>\n",
       "\t.sort -> <syft.ast.function.Function object at 0x7f5256bdfb10>\n",
       "\t.split_with_sizes -> <syft.ast.function.Function object at 0x7f5256bdfb50>\n",
       "\t.split -> <syft.ast.function.Function object at 0x7f5256bdfc10>\n",
       "\t.sqrt_ -> <syft.ast.function.Function object at 0x7f5256bdfcd0>\n",
       "\t.sqrt -> <syft.ast.function.Function object at 0x7f5256bdfd90>\n",
       "\t.square_ -> <syft.ast.function.Function object at 0x7f5256bdfe50>\n",
       "\t.square -> <syft.ast.function.Function object at 0x7f5256bdff10>\n",
       "\t.squeeze -> <syft.ast.function.Function object at 0x7f5256bdffd0>\n",
       "\t.std -> <syft.ast.function.Function object at 0x7f5256be20d0>\n",
       "\t.stft -> <syft.ast.function.Function object at 0x7f5256be2190>\n",
       "\t.sub -> <syft.ast.function.Function object at 0x7f5256be2250>\n",
       "\t.sum -> <syft.ast.function.Function object at 0x7f5256be2310>\n",
       "\t.svd -> <syft.ast.function.Function object at 0x7f5256be23d0>\n",
       "\t.symeig -> <syft.ast.function.Function object at 0x7f5256be2490>\n",
       "\t.t -> <syft.ast.function.Function object at 0x7f5256be2510>\n",
       "\t.take -> <syft.ast.function.Function object at 0x7f5256be25d0>\n",
       "\t.tan_ -> <syft.ast.function.Function object at 0x7f5256be2690>\n",
       "\t.tan -> <syft.ast.function.Function object at 0x7f5256be2750>\n",
       "\t.tanh_ -> <syft.ast.function.Function object at 0x7f5256be2810>\n",
       "\t.tanh -> <syft.ast.function.Function object at 0x7f5256be28d0>\n",
       "\t.topk -> <syft.ast.function.Function object at 0x7f5256be2990>\n",
       "\t.trace -> <syft.ast.function.Function object at 0x7f5256be2a50>\n",
       "\t.transpose -> <syft.ast.function.Function object at 0x7f5256be2b50>\n",
       "\t.triangular_solve -> <syft.ast.function.Function object at 0x7f5256be2b10>\n",
       "\t.tril -> <syft.ast.function.Function object at 0x7f5256be2c10>\n",
       "\t.triu -> <syft.ast.function.Function object at 0x7f5256be2cd0>\n",
       "\t.true_divide -> <syft.ast.function.Function object at 0x7f5256be2d50>\n",
       "\t.trunc_ -> <syft.ast.function.Function object at 0x7f5256be2e10>\n",
       "\t.trunc -> <syft.ast.function.Function object at 0x7f5256be2ed0>\n",
       "\t.unique_consecutive -> <syft.ast.function.Function object at 0x7f52576dc310>\n",
       "\t.unique -> <syft.ast.function.Function object at 0x7f5256be2f50>\n",
       "\t.unsqueeze -> <syft.ast.function.Function object at 0x7f5256be6090>\n",
       "\t.var -> <syft.ast.function.Function object at 0x7f5256be6110>\n",
       "\t.unsafe_chunk -> <syft.ast.function.Function object at 0x7f5256be6190>\n",
       "\t.absolute -> <syft.ast.function.Function object at 0x7f5256be6250>\n",
       "\t.acosh_ -> <syft.ast.function.Function object at 0x7f5256be6310>\n",
       "\t.acosh -> <syft.ast.function.Function object at 0x7f5256be63d0>\n",
       "\t.asinh_ -> <syft.ast.function.Function object at 0x7f5256be6490>\n",
       "\t.asinh -> <syft.ast.function.Function object at 0x7f5256be6550>\n",
       "\t.atanh_ -> <syft.ast.function.Function object at 0x7f5256be6610>\n",
       "\t.atanh -> <syft.ast.function.Function object at 0x7f5256be66d0>\n",
       "\t.deg2rad_ -> <syft.ast.function.Function object at 0x7f5256be6790>\n",
       "\t.deg2rad -> <syft.ast.function.Function object at 0x7f5256be6850>\n",
       "\t.fliplr -> <syft.ast.function.Function object at 0x7f5256be6910>\n",
       "\t.flipud -> <syft.ast.function.Function object at 0x7f5256be69d0>\n",
       "\t.isfinite -> <syft.ast.function.Function object at 0x7f5256be6a90>\n",
       "\t.isinf -> <syft.ast.function.Function object at 0x7f5256be6b50>\n",
       "\t.isnan -> <syft.ast.function.Function object at 0x7f5256be6c10>\n",
       "\t.logaddexp -> <syft.ast.function.Function object at 0x7f5256be6d10>\n",
       "\t.logaddexp2 -> <syft.ast.function.Function object at 0x7f5256be6d50>\n",
       "\t.logcumsumexp -> <syft.ast.function.Function object at 0x7f5256be6d90>\n",
       "\t.rad2deg_ -> <syft.ast.function.Function object at 0x7f5256be6e90>\n",
       "\t.rad2deg -> <syft.ast.function.Function object at 0x7f5256be6f50>\n",
       "\t.istft -> <syft.ast.function.Function object at 0x7f5256be9050>\n",
       "\t.amax -> <syft.ast.function.Function object at 0x7f5256be9110>\n",
       "\t.amin -> <syft.ast.function.Function object at 0x7f5256be91d0>\n",
       "\t.arccos -> <syft.ast.function.Function object at 0x7f5256be9290>\n",
       "\t.arccos_ -> <syft.ast.function.Function object at 0x7f5256be9350>\n",
       "\t.arccosh -> <syft.ast.function.Function object at 0x7f5256be9410>\n",
       "\t.arccosh_ -> <syft.ast.function.Function object at 0x7f5256be94d0>\n",
       "\t.arcsin -> <syft.ast.function.Function object at 0x7f5256be9590>\n",
       "\t.arcsin_ -> <syft.ast.function.Function object at 0x7f5256be9650>\n",
       "\t.arcsinh -> <syft.ast.function.Function object at 0x7f5256be9710>\n",
       "\t.arcsinh_ -> <syft.ast.function.Function object at 0x7f5256be97d0>\n",
       "\t.arctan -> <syft.ast.function.Function object at 0x7f5256be9890>\n",
       "\t.arctan_ -> <syft.ast.function.Function object at 0x7f5256be9950>\n",
       "\t.arctanh -> <syft.ast.function.Function object at 0x7f5256be9a10>\n",
       "\t.arctanh_ -> <syft.ast.function.Function object at 0x7f5256be9ad0>\n",
       "\t.clip -> <syft.ast.function.Function object at 0x7f5256be9b90>\n",
       "\t.clip_ -> <syft.ast.function.Function object at 0x7f5256be9c50>\n",
       "\t.count_nonzero -> <syft.ast.function.Function object at 0x7f5256be9cd0>\n",
       "\t.divide -> <syft.ast.function.Function object at 0x7f5256be9d90>\n",
       "\t.exp2 -> <syft.ast.function.Function object at 0x7f5256be9e50>\n",
       "\t.exp2_ -> <syft.ast.function.Function object at 0x7f5256be9f10>\n",
       "\t.fix -> <syft.ast.function.Function object at 0x7f5256be9fd0>\n",
       "\t.fix_ -> <syft.ast.function.Function object at 0x7f5256bed0d0>\n",
       "\t.gcd -> <syft.ast.function.Function object at 0x7f5256bed190>\n",
       "\t.gcd_ -> <syft.ast.function.Function object at 0x7f5256bed250>\n",
       "\t.greater -> <syft.ast.function.Function object at 0x7f5256bed310>\n",
       "\t.greater_equal -> <syft.ast.function.Function object at 0x7f52576a8a10>\n",
       "\t.heaviside -> <syft.ast.function.Function object at 0x7f5256bed450>\n",
       "\t.hypot -> <syft.ast.function.Function object at 0x7f5256bed4d0>\n",
       "\t.i0 -> <syft.ast.function.Function object at 0x7f5256bed590>\n",
       "\t.i0_ -> <syft.ast.function.Function object at 0x7f5256bed650>\n",
       "\t.isneginf -> <syft.ast.function.Function object at 0x7f5256bed710>\n",
       "\t.isposinf -> <syft.ast.function.Function object at 0x7f5256bed7d0>\n",
       "\t.isreal -> <syft.ast.function.Function object at 0x7f5256bed890>\n",
       "\t.lcm -> <syft.ast.function.Function object at 0x7f5256bed950>\n",
       "\t.lcm_ -> <syft.ast.function.Function object at 0x7f5256beda10>\n",
       "\t.less -> <syft.ast.function.Function object at 0x7f5256bedad0>\n",
       "\t.less_equal -> <syft.ast.function.Function object at 0x7f5256bedb50>\n",
       "\t.logit -> <syft.ast.function.Function object at 0x7f5256bedc10>\n",
       "\t.logit_ -> <syft.ast.function.Function object at 0x7f5256bedcd0>\n",
       "\t.maximum -> <syft.ast.function.Function object at 0x7f5256bedd90>\n",
       "\t.minimum -> <syft.ast.function.Function object at 0x7f5256bede50>\n",
       "\t.matrix_exp -> <syft.ast.function.Function object at 0x7f5256beded0>\n",
       "\t.multiply -> <syft.ast.function.Function object at 0x7f5256bedf90>\n",
       "\t.nanquantile -> <syft.ast.function.Function object at 0x7f5256bf0050>\n",
       "\t.nansum -> <syft.ast.function.Function object at 0x7f5256bf0110>\n",
       "\t.negative -> <syft.ast.function.Function object at 0x7f5256bf01d0>\n",
       "\t.negative_ -> <syft.ast.function.Function object at 0x7f5256bf02d0>\n",
       "\t.nextafter -> <syft.ast.function.Function object at 0x7f5256bf0390>\n",
       "\t.outer -> <syft.ast.function.Function object at 0x7f5256bf0410>\n",
       "\t.quantile -> <syft.ast.function.Function object at 0x7f5256bf04d0>\n",
       "\t.sgn -> <syft.ast.function.Function object at 0x7f5256bf0590>\n",
       "\t.signbit -> <syft.ast.function.Function object at 0x7f5256bf0650>\n",
       "\t.subtract -> <syft.ast.function.Function object at 0x7f5256bf0710>\n",
       "\t.unsafe_split -> <syft.ast.function.Function object at 0x7f5256bf0790>\n",
       "\t.vdot -> <syft.ast.function.Function object at 0x7f5256bf0850>\n",
       "\t.movedim -> <syft.ast.function.Function object at 0x7f5256bf0910>\n",
       "\t.unsafe_split_with_sizes -> <syft.ast.function.Function object at 0x7f5256bf0950>\n",
       "\t.cuda -> Module:\n",
       "\t\t.is_available -> <syft.ast.function.Function object at 0x7f5256bf0a90>\n",
       "\n",
       "\t.device -> device\n",
       "\t.random -> Module:\n",
       "\t\t.initial_seed -> <syft.ast.function.Function object at 0x7f5256bf0dd0>\n",
       "\n",
       "\t.zeros_like -> <syft.ast.function.Function object at 0x7f5256bf0e10>\n",
       "\t.manual_seed -> <syft.ast.function.Function object at 0x7f5256bf0e90>\n",
       "\t.Generator -> Generator\n",
       "\t.utils -> Module:\n",
       "\t\t.data -> Module:\n",
       "\t\t\t.DataLoader -> DataLoader\n",
       "\t\t\t.dataloader -> Module:\n",
       "\t\t\t\t._SingleProcessDataLoaderIter -> _SingleProcessDataLoaderIter\n",
       "\n",
       "\n",
       "\n",
       "\t.optim -> Module:\n",
       "\t\t.ASGD -> ASGD\n",
       "\t\t.Adadelta -> Adadelta\n",
       "\t\t.Adagrad -> Adagrad\n",
       "\t\t.Adam -> Adam\n",
       "\t\t.AdamW -> AdamW\n",
       "\t\t.Adamax -> Adamax\n",
       "\t\t.LBFGS -> LBFGS\n",
       "\t\t.Optimizer -> Optimizer\n",
       "\t\t.RMSprop -> RMSprop\n",
       "\t\t.Rprop -> Rprop\n",
       "\t\t.SGD -> SGD\n",
       "\t\t.SparseAdam -> SparseAdam\n",
       "\t\t.lr_scheduler -> Module:\n",
       "\t\t\t.StepLR -> StepLR\n",
       "\n",
       "\n",
       "\t.no_grad -> no_grad\n",
       "\t.autograd -> Module:\n",
       "\t\t.grad_mode -> Module:\n",
       "\t\t\t.no_grad -> no_grad\n",
       "\n"
      ]
     },
     "execution_count": 2,
     "metadata": {},
     "output_type": "execute_result"
    }
   ],
   "source": [
    "duet.torch"
   ]
  },
  {
   "cell_type": "markdown",
   "metadata": {},
   "source": [
    "Lets create a model just like the one in the MNIST example. We do this in almost the exact same way as in PyTorch. The main difference is we inherit from sy.Module instead of nn.Module and we need to pass in a variable called torch_ref which we will use internally for any calls that would normally be to torch."
   ]
  },
  {
   "cell_type": "code",
   "execution_count": 3,
   "metadata": {},
   "outputs": [],
   "source": [
    "class SyNet(sy.Module):\n",
    "    def __init__(self, torch_ref):\n",
    "        super(SyNet, self).__init__(torch_ref=torch_ref)\n",
    "        self.conv1 = self.torch_ref.nn.Conv2d(1, 32, 3, 1)\n",
    "        self.conv2 = self.torch_ref.nn.Conv2d(32, 64, 3, 1) \n",
    "        self.dropout1 = self.torch_ref.nn.Dropout2d(0.25)\n",
    "        self.dropout2 = self.torch_ref.nn.Dropout2d(0.5)\n",
    "        self.fc1 = self.torch_ref.nn.Linear(9216, 128)\n",
    "        self.fc2 = self.torch_ref.nn.Linear(128, 10)\n",
    "\n",
    "    def forward(self, x):\n",
    "        x = self.conv1(x)\n",
    "        x = self.torch_ref.nn.functional.relu(x)\n",
    "        x = self.conv2(x)\n",
    "        x = self.torch_ref.nn.functional.relu(x)\n",
    "        x = self.torch_ref.nn.functional.max_pool2d(x, 2)\n",
    "        x = self.dropout1(x)\n",
    "        x = self.torch_ref.flatten(x, 1)\n",
    "        x = self.fc1(x)\n",
    "        x = self.torch_ref.nn.functional.relu(x)\n",
    "        x = self.dropout2(x)\n",
    "        x = self.fc2(x)\n",
    "        output = self.torch_ref.nn.functional.log_softmax(x, dim=1)\n",
    "        return output"
   ]
  },
  {
   "cell_type": "code",
   "execution_count": 4,
   "metadata": {},
   "outputs": [],
   "source": [
    "# lets import torch and torchvision just as we normally would\n",
    "import torch\n",
    "import torchvision"
   ]
  },
  {
   "cell_type": "code",
   "execution_count": 5,
   "metadata": {},
   "outputs": [
    {
     "name": "stdout",
     "output_type": "stream",
     "text": [
      "> Creating local model\n"
     ]
    }
   ],
   "source": [
    "# now we can create the model and pass in our local copy of torch\n",
    "local_model = SyNet(torch)"
   ]
  },
  {
   "cell_type": "markdown",
   "metadata": {},
   "source": [
    "Next we can get our MNIST Test Set ready using our local copy of torch."
   ]
  },
  {
   "cell_type": "code",
   "execution_count": 6,
   "metadata": {},
   "outputs": [],
   "source": [
    "# we need some transforms for the MNIST data set\n",
    "local_transform_1 = torchvision.transforms.ToTensor()  # this converts PIL images to Tensors\n",
    "local_transform_2 = torchvision.transforms.Normalize(0.1307, 0.3081)  # this normalizes the dataset\n",
    "\n",
    "# compose our transforms\n",
    "local_transforms = torchvision.transforms.Compose([local_transform_1, local_transform_2])"
   ]
  },
  {
   "cell_type": "code",
   "execution_count": 7,
   "metadata": {},
   "outputs": [],
   "source": [
    "# Lets define a few settings which are from the original MNIST example command line args\n",
    "args = {\n",
    "    \"batch_size\": 64,\n",
    "    \"test_batch_size\": 1000,\n",
    "    \"epochs\": 14,\n",
    "    \"lr\": 1.0,\n",
    "    \"gamma\": 0.7,\n",
    "    \"no_cuda\": False,\n",
    "    \"dry_run\": False,\n",
    "    \"seed\": 42, # the meaning of life\n",
    "    \"log_interval\": 10,\n",
    "    \"save_model\": True,\n",
    "}"
   ]
  },
  {
   "cell_type": "code",
   "execution_count": 8,
   "metadata": {},
   "outputs": [
    {
     "name": "stdout",
     "output_type": "stream",
     "text": [
      "Downloading http://yann.lecun.com/exdb/mnist/train-images-idx3-ubyte.gz to ../data/MNIST/raw/train-images-idx3-ubyte.gz\n"
     ]
    },
    {
     "data": {
      "application/vnd.jupyter.widget-view+json": {
       "model_id": "32072c56aec540349e688945d04725dd",
       "version_major": 2,
       "version_minor": 0
      },
      "text/plain": [
       "HBox(children=(FloatProgress(value=1.0, bar_style='info', max=1.0), HTML(value='')))"
      ]
     },
     "metadata": {},
     "output_type": "display_data"
    },
    {
     "name": "stdout",
     "output_type": "stream",
     "text": [
      "Extracting ../data/MNIST/raw/train-images-idx3-ubyte.gz to ../data/MNIST/raw\n",
      "Downloading http://yann.lecun.com/exdb/mnist/train-labels-idx1-ubyte.gz to ../data/MNIST/raw/train-labels-idx1-ubyte.gz\n"
     ]
    },
    {
     "data": {
      "application/vnd.jupyter.widget-view+json": {
       "model_id": "bf95c742ba394e5aad187bd88c9d28e0",
       "version_major": 2,
       "version_minor": 0
      },
      "text/plain": [
       "HBox(children=(FloatProgress(value=1.0, bar_style='info', max=1.0), HTML(value='')))"
      ]
     },
     "metadata": {},
     "output_type": "display_data"
    },
    {
     "name": "stdout",
     "output_type": "stream",
     "text": [
      "Extracting ../data/MNIST/raw/train-labels-idx1-ubyte.gz to ../data/MNIST/raw\n",
      "Downloading http://yann.lecun.com/exdb/mnist/t10k-images-idx3-ubyte.gz to ../data/MNIST/raw/t10k-images-idx3-ubyte.gz\n"
     ]
    },
    {
     "data": {
      "application/vnd.jupyter.widget-view+json": {
       "model_id": "9db8874a478d42bfb2cef8227d63cba0",
       "version_major": 2,
       "version_minor": 0
      },
      "text/plain": [
       "HBox(children=(FloatProgress(value=1.0, bar_style='info', max=1.0), HTML(value='')))"
      ]
     },
     "metadata": {},
     "output_type": "display_data"
    },
    {
     "name": "stdout",
     "output_type": "stream",
     "text": [
      "Extracting ../data/MNIST/raw/t10k-images-idx3-ubyte.gz to ../data/MNIST/raw\n",
      "Downloading http://yann.lecun.com/exdb/mnist/t10k-labels-idx1-ubyte.gz to ../data/MNIST/raw/t10k-labels-idx1-ubyte.gz\n"
     ]
    },
    {
     "data": {
      "application/vnd.jupyter.widget-view+json": {
       "model_id": "3b8d705f20ab415f979f8cbcfb217b57",
       "version_major": 2,
       "version_minor": 0
      },
      "text/plain": [
       "HBox(children=(FloatProgress(value=1.0, bar_style='info', max=1.0), HTML(value='')))"
      ]
     },
     "metadata": {},
     "output_type": "display_data"
    },
    {
     "name": "stdout",
     "output_type": "stream",
     "text": [
      "Extracting ../data/MNIST/raw/t10k-labels-idx1-ubyte.gz to ../data/MNIST/raw\n",
      "Processing...\n",
      "Done!\n",
      "10000\n"
     ]
    },
    {
     "name": "stderr",
     "output_type": "stream",
     "text": [
      "/opt/conda/lib/python3.7/site-packages/torchvision/datasets/mnist.py:480: UserWarning: The given NumPy array is not writeable, and PyTorch does not support non-writeable tensors. This means you can write to the underlying (supposedly non-writeable) NumPy array using the tensor. You may want to copy the array to protect its data or make it writeable before converting it to a tensor. This type of warning will be suppressed for the rest of this program. (Triggered internally at  /pytorch/torch/csrc/utils/tensor_numpy.cpp:141.)\n",
      "  return torch.from_numpy(parsed.astype(m[2], copy=False)).view(*s)\n"
     ]
    }
   ],
   "source": [
    "# we will configure the test set here locally since we want to know if our Data Owner's\n",
    "# private training dataset will help us reach new SOTA results for our benchmark test set\n",
    "test_kwargs = {\n",
    "    \"batch_size\": args[\"test_batch_size\"],\n",
    "}\n",
    "\n",
    "test_data = torchvision.datasets.MNIST('../data', train=False, download=True, transform=local_transforms)\n",
    "test_loader = torch.utils.data.DataLoader(test_data,**test_kwargs)\n",
    "test_data_length = len(test_loader.dataset)\n",
    "print(test_data_length)"
   ]
  },
  {
   "cell_type": "markdown",
   "metadata": {},
   "source": [
    "Now its time to send the model to our partners Duet Server."
   ]
  },
  {
   "cell_type": "markdown",
   "metadata": {},
   "source": [
    "Note: You can load normal torch model weights before sending your model.\n",
    "Try training the model and saving it at the end of the notebook and then coming back and\n",
    "reloading the weights here, or you can train the same model one using the original script\n",
    "in `original` dir and load it here as well."
   ]
  },
  {
   "cell_type": "code",
   "execution_count": null,
   "metadata": {},
   "outputs": [],
   "source": [
    "# local_model.load(\"./duet_mnist.pt\")"
   ]
  },
  {
   "cell_type": "code",
   "execution_count": 9,
   "metadata": {},
   "outputs": [
    {
     "name": "stdout",
     "output_type": "stream",
     "text": [
      "> Sending local model\n",
      "> Creating remote model\n",
      "  Sending local layer: conv1\n",
      "  Sending local layer: conv2\n",
      "  Sending local layer: dropout1\n",
      "  Sending local layer: dropout2\n",
      "  Sending local layer: fc1\n",
      "  Sending local layer: fc2\n",
      "\n",
      "> Finished sending local model <\n",
      "\n",
      "\n"
     ]
    }
   ],
   "source": [
    "model = local_model.send(duet)"
   ]
  },
  {
   "cell_type": "markdown",
   "metadata": {},
   "source": [
    "Lets create an alias for our partners torch called `remote_torch` so we can refer to local torch as `torch` and any operation we want to do remotely as `remote_torch`. Remember, the return values from `remote_torch` are `Pointers` not the real objects. They mostly act the same when using them with other `Pointers` but you can't mix them with local torch objects."
   ]
  },
  {
   "cell_type": "code",
   "execution_count": null,
   "metadata": {},
   "outputs": [],
   "source": [
    "remote_torch = duet.torch"
   ]
  },
  {
   "cell_type": "code",
   "execution_count": null,
   "metadata": {},
   "outputs": [],
   "source": [
    "# lets ask to see if our Data Owner has CUDA\n",
    "has_cuda = False\n",
    "has_cuda_ptr = remote_torch.cuda.is_available()\n",
    "has_cuda = bool(has_cuda_ptr.get(\n",
    "    request_block=True,\n",
    "    name=\"cuda_is_available\",\n",
    "    reason=\"To run test and inference locally\",\n",
    "    timeout_secs=5,  # change to something slower\n",
    "))\n",
    "print(has_cuda)"
   ]
  },
  {
   "cell_type": "code",
   "execution_count": null,
   "metadata": {},
   "outputs": [],
   "source": [
    "use_cuda = not args[\"no_cuda\"] and has_cuda\n",
    "# now we can set the seed\n",
    "remote_torch.manual_seed(args[\"seed\"])\n",
    "\n",
    "device = remote_torch.device(\"cuda\" if use_cuda else \"cpu\")\n",
    "print(f\"Data Owner device is {device.type.get()}\")"
   ]
  },
  {
   "cell_type": "code",
   "execution_count": null,
   "metadata": {},
   "outputs": [],
   "source": [
    "# if we have CUDA lets send our model to the GPU\n",
    "if has_cuda:\n",
    "    model.cuda(device)\n",
    "else:\n",
    "    model.cpu()"
   ]
  },
  {
   "cell_type": "markdown",
   "metadata": {},
   "source": [
    "Lets get our params, setup an optimizer and a scheduler just the same as the PyTorch MNIST example"
   ]
  },
  {
   "cell_type": "code",
   "execution_count": null,
   "metadata": {},
   "outputs": [],
   "source": [
    "params = model.parameters()"
   ]
  },
  {
   "cell_type": "code",
   "execution_count": null,
   "metadata": {},
   "outputs": [],
   "source": [
    "optimizer = remote_torch.optim.Adadelta(params, lr=args[\"lr\"])"
   ]
  },
  {
   "cell_type": "code",
   "execution_count": null,
   "metadata": {},
   "outputs": [],
   "source": [
    "scheduler = remote_torch.optim.lr_scheduler.StepLR(optimizer, step_size=1, gamma=args[\"gamma\"])"
   ]
  },
  {
   "cell_type": "markdown",
   "metadata": {},
   "source": [
    "Next we need a training loop so we can improve our remote model. Since we want to train on remote data we should check the model is remote first since we will be using remote_torch in this function. To check if a model is local or remote simply use the `.is_local` attribute."
   ]
  },
  {
   "cell_type": "code",
   "execution_count": null,
   "metadata": {},
   "outputs": [],
   "source": [
    "def train(model, torch_ref, train_loader, optimizer, epoch, args, train_data_length):\n",
    "    # + 0.5 lets us math.ceil without the import\n",
    "    train_batches = round((train_data_length / args[\"batch_size\"]) + 0.5)\n",
    "    print(f\"> Running train in {train_batches} batches\")\n",
    "    if model.is_local:\n",
    "        print(\"Training requires remote model\")\n",
    "        return\n",
    "\n",
    "    model.train()\n",
    "\n",
    "    for batch_idx, data in enumerate(train_loader):\n",
    "        data_ptr, target_ptr = data[0], data[1]\n",
    "        optimizer.zero_grad()\n",
    "        output = model(data_ptr)\n",
    "        loss = torch_ref.nn.functional.nll_loss(output, target_ptr)\n",
    "        loss.backward()\n",
    "        optimizer.step()\n",
    "        loss_item = loss.item()\n",
    "        train_loss = duet.python.Float(0)  # create a remote Float we can use for summation\n",
    "        train_loss += loss_item\n",
    "        if batch_idx % args[\"log_interval\"] == 0:\n",
    "            local_loss = None\n",
    "            local_loss = loss_item.get(\n",
    "                name=\"loss\",\n",
    "                reason=\"To evaluate training progress\",\n",
    "                request_block=True,\n",
    "                timeout_secs=5\n",
    "            )\n",
    "            if local_loss is not None:\n",
    "                print(\"Train Epoch: {} {} {:.4}\".format(epoch, batch_idx, local_loss))\n",
    "            else:\n",
    "                print(\"Train Epoch: {} {} ?\".format(epoch, batch_idx))\n",
    "            if args[\"dry_run\"]:\n",
    "                break\n",
    "        if batch_idx >= train_batches - 1:\n",
    "            print(\"batch_idx >= train_batches, breaking\")\n",
    "            break"
   ]
  },
  {
   "cell_type": "markdown",
   "metadata": {},
   "source": [
    "Now we can define a simple test loop very similar to the original PyTorch MNIST example.\n",
    "This function should expect a remote model from our outer epoch loop, so internally we can call `get` to download the weights to do evaluation on our machine with our local test set. Remember, if we have trained on private data, our model will require permission to download, so we should use request_block=True and make sure the Data Owner approves our requests. For the rest of this function we will use local `torch` as we normally would."
   ]
  },
  {
   "cell_type": "code",
   "execution_count": null,
   "metadata": {},
   "outputs": [],
   "source": [
    "def test_local(model, torch_ref, test_loader, test_data_length):\n",
    "    # download remote model\n",
    "    if not model.is_local:\n",
    "        local_model = model.get(\n",
    "            request_block=True,\n",
    "            name=\"model_download\",\n",
    "            reason=\"test evaluation\",\n",
    "            timeout_secs=5\n",
    "        )\n",
    "    else:\n",
    "        local_model = model\n",
    "    # + 0.5 lets us math.ceil without the import\n",
    "    test_batches = round((test_data_length / args[\"test_batch_size\"]) + 0.5)\n",
    "    print(f\"> Running test_local in {test_batches} batches\")\n",
    "    local_model.eval()\n",
    "    test_loss = 0.0\n",
    "    correct = 0.0\n",
    "\n",
    "    with torch_ref.no_grad():\n",
    "        for batch_idx, (data, target) in enumerate(test_loader):\n",
    "            output = local_model(data)\n",
    "            iter_loss = torch_ref.nn.functional.nll_loss(output, target, reduction=\"sum\").item()\n",
    "            test_loss = test_loss + iter_loss\n",
    "            pred = output.argmax(dim=1)\n",
    "            total = pred.eq(target).sum().item()\n",
    "            correct += total\n",
    "            if args[\"dry_run\"]:\n",
    "                break\n",
    "                \n",
    "            if batch_idx >= test_batches - 1:\n",
    "                print(\"batch_idx >= test_batches, breaking\")\n",
    "                break\n",
    "\n",
    "    accuracy = correct / test_data_length\n",
    "    print(f\"Test Set Accuracy: {100 * accuracy}%\")"
   ]
  },
  {
   "cell_type": "markdown",
   "metadata": {},
   "source": [
    "Finally just for demonstration purposes we will get the built in MNIST dataset but on the Data Owners side from `remote_torchvision`."
   ]
  },
  {
   "cell_type": "code",
   "execution_count": null,
   "metadata": {},
   "outputs": [],
   "source": [
    "# we need some transforms for the MNIST data set\n",
    "remote_torchvision = duet.torchvision\n",
    "\n",
    "transform_1 = remote_torchvision.transforms.ToTensor()  # this converts PIL images to Tensors\n",
    "transform_2 = remote_torchvision.transforms.Normalize(0.1307, 0.3081)  # this normalizes the dataset\n",
    "\n",
    "remote_list = duet.python.List()  # create a remote list to add the transforms to\n",
    "remote_list.append(transform_1)\n",
    "remote_list.append(transform_2)\n",
    "\n",
    "# compose our transforms\n",
    "transforms = remote_torchvision.transforms.Compose(remote_list)\n",
    "\n",
    "# The DO has kindly let us initialise a DataLoader for their training set\n",
    "train_kwargs = {\n",
    "    \"batch_size\": args[\"batch_size\"],\n",
    "}\n",
    "train_data_ptr = remote_torchvision.datasets.MNIST('../data', train=True, download=True, transform=transforms)\n",
    "train_loader_ptr = remote_torch.utils.data.DataLoader(train_data_ptr,**train_kwargs)"
   ]
  },
  {
   "cell_type": "code",
   "execution_count": null,
   "metadata": {},
   "outputs": [],
   "source": [
    "# normally we would not necessarily know the length of a remote dataset so lets ask for it\n",
    "# so we can pass that to our training loop and know when to stop\n",
    "def get_train_length(train_data_ptr):\n",
    "    train_length_ptr = train_data_ptr.__len__()\n",
    "    train_data_length = train_length_ptr.get(\n",
    "        request_block=True,\n",
    "        name=\"train_size\",\n",
    "        reason=\"To write the training loop\",\n",
    "        timeout_secs=5,\n",
    "    )\n",
    "    return train_data_length\n",
    "\n",
    "try:\n",
    "    if train_data_length is None:\n",
    "        train_data_length = get_train_length(train_data_ptr)\n",
    "except NameError:\n",
    "        train_data_length = get_train_length(train_data_ptr)\n",
    "\n",
    "print(f\"Training Dataset size is: {train_data_length}\")"
   ]
  },
  {
   "cell_type": "markdown",
   "metadata": {},
   "source": [
    "## PART 3: Training"
   ]
  },
  {
   "cell_type": "code",
   "execution_count": null,
   "metadata": {},
   "outputs": [],
   "source": [
    "%%time\n",
    "import time\n",
    "\n",
    "args[\"dry_run\"] = True  # comment to do a full train\n",
    "print(\"Starting Training\")\n",
    "for epoch in range(1, args[\"epochs\"] + 1):\n",
    "    epoch_start = time.time()\n",
    "    print(f\"Epoch: {epoch}\")\n",
    "    # remote training on model with remote_torch\n",
    "    train(model, remote_torch, train_loader_ptr, optimizer, epoch, args, train_data_length)\n",
    "    # local testing on model with local torch\n",
    "    test_local(model, torch, test_loader, test_data_length)\n",
    "    scheduler.step()\n",
    "    epoch_end = time.time()\n",
    "    print(f\"Epoch time: {int(epoch_end - epoch_start)} seconds\")\n",
    "    break\n",
    "print(\"Finished Training\")"
   ]
  },
  {
   "cell_type": "code",
   "execution_count": null,
   "metadata": {},
   "outputs": [],
   "source": [
    "if args[\"save_model\"]:\n",
    "    model.get(\n",
    "        request_block=True,\n",
    "        name=\"model_download\",\n",
    "        reason=\"test evaluation\",\n",
    "        timeout_secs=5\n",
    "    ).save(\"./duet_mnist.pt\")"
   ]
  },
  {
   "cell_type": "markdown",
   "metadata": {},
   "source": [
    "## PART 4: Inference"
   ]
  },
  {
   "cell_type": "markdown",
   "metadata": {},
   "source": [
    "A model would be no fun without the ability to do inference. The following code shows some examples on how we can do this either remotely or locally."
   ]
  },
  {
   "cell_type": "code",
   "execution_count": null,
   "metadata": {},
   "outputs": [],
   "source": [
    "import matplotlib.pyplot as plt\n",
    "def draw_image_and_label(image, label):\n",
    "    fig = plt.figure()\n",
    "    plt.tight_layout()\n",
    "    plt.imshow(image, cmap=\"gray\", interpolation=\"none\")\n",
    "    plt.title(\"Ground Truth: {}\".format(label))\n",
    "    \n",
    "def prep_for_inference(image):\n",
    "    image_batch = image.unsqueeze(0).unsqueeze(0)\n",
    "    image_batch = image_batch * 1.0\n",
    "    return image_batch"
   ]
  },
  {
   "cell_type": "code",
   "execution_count": null,
   "metadata": {},
   "outputs": [],
   "source": [
    "def classify_local(image, model):\n",
    "    if not model.is_local:\n",
    "        print(\"model is remote try .get()\")\n",
    "        return -1, torch.Tensor([-1])\n",
    "    image_tensor = torch.Tensor(prep_for_inference(image))\n",
    "    output = model(image_tensor)\n",
    "    preds = torch.exp(output)\n",
    "    local_y = preds\n",
    "    local_y = local_y.squeeze()\n",
    "    pos = local_y == max(local_y)\n",
    "    index = torch.nonzero(pos, as_tuple=False)\n",
    "    class_num = index.squeeze()\n",
    "    return class_num, local_y"
   ]
  },
  {
   "cell_type": "code",
   "execution_count": null,
   "metadata": {},
   "outputs": [],
   "source": [
    "def classify_remote(image, model):\n",
    "    if model.is_local:\n",
    "        print(\"model is local try .send()\")\n",
    "        return -1, remote_torch.Tensor([-1])\n",
    "    image_tensor_ptr = remote_torch.Tensor(prep_for_inference(image))\n",
    "    output = model(image_tensor_ptr)\n",
    "    preds = remote_torch.exp(output)\n",
    "    preds_result = preds.get(\n",
    "        request_block=True,\n",
    "        name=\"inference\",\n",
    "        reason=\"To see a real world example of inference\",\n",
    "        timeout_secs=10\n",
    "    )\n",
    "    if preds_result is None:\n",
    "        print(\"No permission to do inference, request again\")\n",
    "        return -1, torch.Tensor([-1])\n",
    "    else:\n",
    "        # now we have the local tensor we can use local torch\n",
    "        local_y = torch.Tensor(preds_result)\n",
    "        local_y = local_y.squeeze()\n",
    "        pos = local_y == max(local_y)\n",
    "        index = torch.nonzero(pos, as_tuple=False)\n",
    "        class_num = index.squeeze()\n",
    "        return class_num, local_y"
   ]
  },
  {
   "cell_type": "code",
   "execution_count": null,
   "metadata": {},
   "outputs": [],
   "source": [
    "# lets grab something from the test set\n",
    "import random\n",
    "total_images = test_data_length # 10000\n",
    "index = random.randint(0, total_images)\n",
    "print(\"Random Test Image:\", index)\n",
    "count = 0\n",
    "batch = index // test_kwargs[\"batch_size\"]\n",
    "batch_index = index % int(total_images / len(test_loader))\n",
    "for tensor_ptr in test_loader:\n",
    "    data, target = tensor_ptr[0], tensor_ptr[1]\n",
    "    if batch == count:\n",
    "        break\n",
    "    count += 1\n",
    "\n",
    "print(f\"Displaying {index} == {batch_index} in Batch: {batch}/{len(test_loader)}\")\n",
    "image_1 = data[batch_index].reshape((28, 28))\n",
    "label_1 = target[batch_index]\n",
    "draw_image_and_label(image_1, label_1)"
   ]
  },
  {
   "cell_type": "code",
   "execution_count": null,
   "metadata": {},
   "outputs": [],
   "source": [
    "# classify remote\n",
    "class_num, preds = classify_remote(image_1, model)\n",
    "print(f\"Prediction: {class_num} Ground Truth: {label_1}\")\n",
    "print(preds)"
   ]
  },
  {
   "cell_type": "code",
   "execution_count": null,
   "metadata": {},
   "outputs": [],
   "source": [
    "local_model = model.get(\n",
    "    request_block=True,\n",
    "    name=\"model_download\",\n",
    "    reason=\"To run test and inference locally\",\n",
    "    timeout_secs=5,\n",
    ")"
   ]
  },
  {
   "cell_type": "code",
   "execution_count": null,
   "metadata": {},
   "outputs": [],
   "source": [
    "# classify local\n",
    "class_num, preds = classify_local(image_1, local_model)\n",
    "print(f\"Prediction: {class_num} Ground Truth: {label_1}\")\n",
    "print(preds)"
   ]
  },
  {
   "cell_type": "code",
   "execution_count": null,
   "metadata": {},
   "outputs": [],
   "source": [
    "# We can also download an image from the web and run inference on that\n",
    "from PIL import Image, ImageEnhance\n",
    "import PIL.ImageOps    \n",
    "\n",
    "import os\n",
    "def classify_url_image(image_url):\n",
    "    filename = os.path.basename(image_url)\n",
    "    !curl -O $image_url\n",
    "    im = Image.open(filename)\n",
    "    im = PIL.ImageOps.invert(im)\n",
    "#     im = im.resize((28,28), Image.ANTIALIAS)\n",
    "    im = im.convert('LA')\n",
    "    enhancer = ImageEnhance.Brightness(im)\n",
    "    im = enhancer.enhance(3)\n",
    "\n",
    "\n",
    "    print(im.size)\n",
    "    fig = plt.figure()\n",
    "    plt.tight_layout()\n",
    "    plt.imshow(im, cmap=\"gray\", interpolation=\"none\")\n",
    "    \n",
    "    # classify local\n",
    "    class_num, preds = classify_local(image_1, local_model)\n",
    "    print(f\"Prediction: {class_num}\")\n",
    "    print(preds)"
   ]
  },
  {
   "cell_type": "code",
   "execution_count": null,
   "metadata": {},
   "outputs": [],
   "source": [
    "image_url = \"https://raw.githubusercontent.com/kensanata/numbers/master/0018_CHXX/0/number-100.png\"\n",
    "classify_url_image(image_url)"
   ]
  },
  {
   "cell_type": "code",
   "execution_count": null,
   "metadata": {},
   "outputs": [],
   "source": []
  },
  {
   "cell_type": "code",
   "execution_count": null,
   "metadata": {},
   "outputs": [],
   "source": []
  }
 ],
 "metadata": {
  "kernelspec": {
   "display_name": "Python 3",
   "language": "python",
   "name": "python3"
  },
  "language_info": {
   "codemirror_mode": {
    "name": "ipython",
    "version": 3
   },
   "file_extension": ".py",
   "mimetype": "text/x-python",
   "name": "python",
   "nbconvert_exporter": "python",
   "pygments_lexer": "ipython3",
   "version": "3.8.5"
  },
  "pycharm": {
   "stem_cell": {
    "cell_type": "raw",
    "metadata": {
     "collapsed": false
    },
    "source": []
   }
  }
 },
 "nbformat": 4,
 "nbformat_minor": 4
}

{
 "cells": [
  {
   "cell_type": "markdown",
   "metadata": {},
   "source": [
    "# PyGrid Client Group API"
   ]
  },
  {
   "cell_type": "code",
   "execution_count": 1,
   "metadata": {},
   "outputs": [],
   "source": [
    "from syft.grid.client.client import connect\n",
    "from syft.grid.client.grid_connection import GridHTTPConnection\n",
    "from syft.core.node.domain.client import DomainClient\n",
    "\n",
    "import syft as sy\n",
    "import torch as th\n",
    "\n",
    "sy.VERBOSE = False"
   ]
  },
  {
   "cell_type": "code",
   "execution_count": 2,
   "metadata": {},
   "outputs": [],
   "source": [
    "domain = connect(\n",
    "    url=\"http://localhost:5000\", # Domain Address\n",
    "    credentials={\"email\":\"admin@email.com\", \"password\":\"pwd123\"},\n",
    "    conn_type= GridHTTPConnection, # HTTP Connection Protocol\n",
    "    client_type=DomainClient) # Domain Client type"
   ]
  },
  {
   "cell_type": "code",
   "execution_count": 3,
   "metadata": {},
   "outputs": [
    {
     "data": {
      "text/plain": [
       "{'message': 'User created successfully!'}"
      ]
     },
     "execution_count": 3,
     "metadata": {},
     "output_type": "execute_result"
    }
   ],
   "source": [
    "domain.users.create(email=\"group_user1@email.com\", password=\"user123\")\n",
    "domain.users.create(email=\"group_user2@email.com\", password=\"user123\")\n",
    "domain.users.create(email=\"group_user3@email.com\", password=\"user123\")\n",
    "domain.users.create(email=\"group_user4@email.com\", password=\"user123\")"
   ]
  },
  {
   "cell_type": "code",
   "execution_count": 4,
   "metadata": {},
   "outputs": [
    {
     "data": {
      "text/html": [
       "<div>\n",
       "<style scoped>\n",
       "    .dataframe tbody tr th:only-of-type {\n",
       "        vertical-align: middle;\n",
       "    }\n",
       "\n",
       "    .dataframe tbody tr th {\n",
       "        vertical-align: top;\n",
       "    }\n",
       "\n",
       "    .dataframe thead th {\n",
       "        text-align: right;\n",
       "    }\n",
       "</style>\n",
       "<table border=\"1\" class=\"dataframe\">\n",
       "  <thead>\n",
       "    <tr style=\"text-align: right;\">\n",
       "      <th></th>\n",
       "      <th>id</th>\n",
       "      <th>email</th>\n",
       "      <th>private_key</th>\n",
       "      <th>verify_key</th>\n",
       "      <th>role</th>\n",
       "    </tr>\n",
       "  </thead>\n",
       "  <tbody>\n",
       "    <tr>\n",
       "      <th>0</th>\n",
       "      <td>1</td>\n",
       "      <td>admin@email.com</td>\n",
       "      <td>32531381c9fccccba09885e00d353907371049e2225d9c...</td>\n",
       "      <td>d8ff266c4898285e8319aa7f4f53f6b3a059c1dd837ad6...</td>\n",
       "      <td>4</td>\n",
       "    </tr>\n",
       "    <tr>\n",
       "      <th>1</th>\n",
       "      <td>3</td>\n",
       "      <td>user3@email.com</td>\n",
       "      <td>1c1bf11ee5d812c53557e015ef66d0fe55aad6ccd9768e...</td>\n",
       "      <td>3fe14c9b329961193782de92d8d7bf44af96b2955f7f53...</td>\n",
       "      <td>1</td>\n",
       "    </tr>\n",
       "    <tr>\n",
       "      <th>2</th>\n",
       "      <td>4</td>\n",
       "      <td>user4@email.com</td>\n",
       "      <td>94caead1b596b9daba9d239c502ebcb8cd52b1d015214e...</td>\n",
       "      <td>0f394ed72494e7b604ba77f04b36b8a7db8e7e734caab8...</td>\n",
       "      <td>2</td>\n",
       "    </tr>\n",
       "    <tr>\n",
       "      <th>3</th>\n",
       "      <td>5</td>\n",
       "      <td>user5@email.com</td>\n",
       "      <td>3a6a9c15981ad68c6de91cf3d242f79381d100aae0bdfc...</td>\n",
       "      <td>c304259a69fe185b89f59de27c45e75e9572218c1141f3...</td>\n",
       "      <td>1</td>\n",
       "    </tr>\n",
       "    <tr>\n",
       "      <th>4</th>\n",
       "      <td>6</td>\n",
       "      <td>group_user1@email.com</td>\n",
       "      <td>f24f16583b77d988485c01c3ef91d337021e6f523ac3b5...</td>\n",
       "      <td>abf471fcd84137adc1cb82739fae7ca96f07cb2fac7981...</td>\n",
       "      <td>1</td>\n",
       "    </tr>\n",
       "    <tr>\n",
       "      <th>5</th>\n",
       "      <td>7</td>\n",
       "      <td>group_user2@email.com</td>\n",
       "      <td>db11fa2b57a6f0fb59b93ea7442de810bb98312f5af833...</td>\n",
       "      <td>0edeec716ed3af781552b01832ea69477cc42ecf744f83...</td>\n",
       "      <td>1</td>\n",
       "    </tr>\n",
       "    <tr>\n",
       "      <th>6</th>\n",
       "      <td>8</td>\n",
       "      <td>group_user3@email.com</td>\n",
       "      <td>fac60639bd6c0ee3e88f9af9cdb78fe55b5d54a5571427...</td>\n",
       "      <td>797d4d52b84feb656793a1e6b06649605b3e3e378c5e0d...</td>\n",
       "      <td>1</td>\n",
       "    </tr>\n",
       "    <tr>\n",
       "      <th>7</th>\n",
       "      <td>9</td>\n",
       "      <td>group_user4@email.com</td>\n",
       "      <td>5f6ba0368ca5a2ee702fe409eb46407558e2652b76ff89...</td>\n",
       "      <td>aae11a0f0bb5f6331768f92e456321d72b283d13492675...</td>\n",
       "      <td>1</td>\n",
       "    </tr>\n",
       "  </tbody>\n",
       "</table>\n",
       "</div>"
      ],
      "text/plain": [
       "   id                  email  \\\n",
       "0   1        admin@email.com   \n",
       "1   3        user3@email.com   \n",
       "2   4        user4@email.com   \n",
       "3   5        user5@email.com   \n",
       "4   6  group_user1@email.com   \n",
       "5   7  group_user2@email.com   \n",
       "6   8  group_user3@email.com   \n",
       "7   9  group_user4@email.com   \n",
       "\n",
       "                                         private_key  \\\n",
       "0  32531381c9fccccba09885e00d353907371049e2225d9c...   \n",
       "1  1c1bf11ee5d812c53557e015ef66d0fe55aad6ccd9768e...   \n",
       "2  94caead1b596b9daba9d239c502ebcb8cd52b1d015214e...   \n",
       "3  3a6a9c15981ad68c6de91cf3d242f79381d100aae0bdfc...   \n",
       "4  f24f16583b77d988485c01c3ef91d337021e6f523ac3b5...   \n",
       "5  db11fa2b57a6f0fb59b93ea7442de810bb98312f5af833...   \n",
       "6  fac60639bd6c0ee3e88f9af9cdb78fe55b5d54a5571427...   \n",
       "7  5f6ba0368ca5a2ee702fe409eb46407558e2652b76ff89...   \n",
       "\n",
       "                                          verify_key  role  \n",
       "0  d8ff266c4898285e8319aa7f4f53f6b3a059c1dd837ad6...     4  \n",
       "1  3fe14c9b329961193782de92d8d7bf44af96b2955f7f53...     1  \n",
       "2  0f394ed72494e7b604ba77f04b36b8a7db8e7e734caab8...     2  \n",
       "3  c304259a69fe185b89f59de27c45e75e9572218c1141f3...     1  \n",
       "4  abf471fcd84137adc1cb82739fae7ca96f07cb2fac7981...     1  \n",
       "5  0edeec716ed3af781552b01832ea69477cc42ecf744f83...     1  \n",
       "6  797d4d52b84feb656793a1e6b06649605b3e3e378c5e0d...     1  \n",
       "7  aae11a0f0bb5f6331768f92e456321d72b283d13492675...     1  "
      ]
     },
     "execution_count": 4,
     "metadata": {},
     "output_type": "execute_result"
    }
   ],
   "source": [
    "domain.users.all(pandas=True)"
   ]
  },
  {
   "cell_type": "code",
   "execution_count": 5,
   "metadata": {},
   "outputs": [
    {
     "data": {
      "text/plain": [
       "{'msg': 'Group created successfully!'}"
      ]
     },
     "execution_count": 5,
     "metadata": {},
     "output_type": "execute_result"
    }
   ],
   "source": [
    "domain.groups.create(name=\"Research Group\", users=[4,3,1])\n",
    "domain.groups.create(name=\"Diabetes Medical Ward\", users=[3,1])\n",
    "domain.groups.create(name=\"Cancer Research\", users=[1,4])"
   ]
  },
  {
   "cell_type": "code",
   "execution_count": 6,
   "metadata": {},
   "outputs": [
    {
     "data": {
      "text/html": [
       "<div>\n",
       "<style scoped>\n",
       "    .dataframe tbody tr th:only-of-type {\n",
       "        vertical-align: middle;\n",
       "    }\n",
       "\n",
       "    .dataframe tbody tr th {\n",
       "        vertical-align: top;\n",
       "    }\n",
       "\n",
       "    .dataframe thead th {\n",
       "        text-align: right;\n",
       "    }\n",
       "</style>\n",
       "<table border=\"1\" class=\"dataframe\">\n",
       "  <thead>\n",
       "    <tr style=\"text-align: right;\">\n",
       "      <th></th>\n",
       "      <th>id</th>\n",
       "      <th>name</th>\n",
       "      <th>users</th>\n",
       "    </tr>\n",
       "  </thead>\n",
       "  <tbody>\n",
       "    <tr>\n",
       "      <th>0</th>\n",
       "      <td>1</td>\n",
       "      <td>Research Group</td>\n",
       "      <td>[4, 3, 1]</td>\n",
       "    </tr>\n",
       "    <tr>\n",
       "      <th>1</th>\n",
       "      <td>2</td>\n",
       "      <td>Diabetes Medical Ward</td>\n",
       "      <td>[3, 1]</td>\n",
       "    </tr>\n",
       "    <tr>\n",
       "      <th>2</th>\n",
       "      <td>3</td>\n",
       "      <td>Cancer Research</td>\n",
       "      <td>[1, 4]</td>\n",
       "    </tr>\n",
       "  </tbody>\n",
       "</table>\n",
       "</div>"
      ],
      "text/plain": [
       "   id                   name      users\n",
       "0   1         Research Group  [4, 3, 1]\n",
       "1   2  Diabetes Medical Ward     [3, 1]\n",
       "2   3        Cancer Research     [1, 4]"
      ]
     },
     "execution_count": 6,
     "metadata": {},
     "output_type": "execute_result"
    }
   ],
   "source": [
    "domain.groups.all(pandas=True)"
   ]
  },
  {
   "cell_type": "code",
   "execution_count": 7,
   "metadata": {},
   "outputs": [
    {
     "name": "stdout",
     "output_type": "stream",
     "text": [
      "Group Name:  Diabetes Medical Ward\n",
      "Group Users:  [3, 1]\n"
     ]
    }
   ],
   "source": [
    "print(\"Group Name: \", domain.groups[2].name)\n",
    "print(\"Group Users: \", domain.groups[2].users)"
   ]
  },
  {
   "cell_type": "code",
   "execution_count": 8,
   "metadata": {},
   "outputs": [
    {
     "data": {
      "text/plain": [
       "{'msg': 'Group updated successfully!'}"
      ]
     },
     "execution_count": 8,
     "metadata": {},
     "output_type": "execute_result"
    }
   ],
   "source": [
    "domain.groups.update(group_id=2, name=\"Heart Disease Research\", users=[4,3,1])"
   ]
  },
  {
   "cell_type": "code",
   "execution_count": 9,
   "metadata": {},
   "outputs": [],
   "source": [
    "assert domain.groups[2].name == \"Heart Disease Research\"\n",
    "assert domain.groups[2].users == [4,3,1]"
   ]
  },
  {
   "cell_type": "code",
   "execution_count": 10,
   "metadata": {},
   "outputs": [],
   "source": [
    "del domain.groups[2]"
   ]
  },
  {
   "cell_type": "code",
   "execution_count": 11,
   "metadata": {},
   "outputs": [
    {
     "data": {
      "text/html": [
       "<div>\n",
       "<style scoped>\n",
       "    .dataframe tbody tr th:only-of-type {\n",
       "        vertical-align: middle;\n",
       "    }\n",
       "\n",
       "    .dataframe tbody tr th {\n",
       "        vertical-align: top;\n",
       "    }\n",
       "\n",
       "    .dataframe thead th {\n",
       "        text-align: right;\n",
       "    }\n",
       "</style>\n",
       "<table border=\"1\" class=\"dataframe\">\n",
       "  <thead>\n",
       "    <tr style=\"text-align: right;\">\n",
       "      <th></th>\n",
       "      <th>id</th>\n",
       "      <th>name</th>\n",
       "      <th>users</th>\n",
       "    </tr>\n",
       "  </thead>\n",
       "  <tbody>\n",
       "    <tr>\n",
       "      <th>0</th>\n",
       "      <td>1</td>\n",
       "      <td>Research Group</td>\n",
       "      <td>[4, 3, 1]</td>\n",
       "    </tr>\n",
       "    <tr>\n",
       "      <th>1</th>\n",
       "      <td>3</td>\n",
       "      <td>Cancer Research</td>\n",
       "      <td>[1, 4]</td>\n",
       "    </tr>\n",
       "  </tbody>\n",
       "</table>\n",
       "</div>"
      ],
      "text/plain": [
       "   id             name      users\n",
       "0   1   Research Group  [4, 3, 1]\n",
       "1   3  Cancer Research     [1, 4]"
      ]
     },
     "execution_count": 11,
     "metadata": {},
     "output_type": "execute_result"
    }
   ],
   "source": [
    "domain.groups.all(pandas=True)"
   ]
  }
 ],
 "metadata": {
  "kernelspec": {
   "display_name": "Python 3",
   "language": "python",
   "name": "python3"
  },
  "language_info": {
   "codemirror_mode": {
    "name": "ipython",
    "version": 3
   },
   "file_extension": ".py",
   "mimetype": "text/x-python",
   "name": "python",
   "nbconvert_exporter": "python",
   "pygments_lexer": "ipython3",
   "version": "3.8.5"
  }
 },
 "nbformat": 4,
 "nbformat_minor": 4
}

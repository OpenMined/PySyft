{
 "cells": [
  {
   "cell_type": "markdown",
   "metadata": {},
   "source": [
    "<img src=\"https://github.com/OpenMined/design-assets/raw/master/logos/OM/horizontal-primary-light.png\" alt=\"he-black-box\" width=\"600\"/>\n",
    "\n",
    "\n",
    "# Homomorphic Encryption using Duet: Data Scientist\n",
    "## Tutorial 1: Logistic Regression over Encrypted Data\n",
    "\n",
    "\n",
    "\n",
    "Welcome!\n",
    "This tutorial will show you how to train and evaluate a Logistic Regression using Duet and TenSEAL. This notebook shows the Data Scientist view on the operations.\n",
    "\n",
    "\n",
    "We recommend going through Tutorial 0 before trying this one."
   ]
  },
  {
   "cell_type": "markdown",
   "metadata": {},
   "source": [
    "## Setup\n",
    "\n",
    "All modules are imported here, make sure everything is installed by running the cell below."
   ]
  },
  {
   "cell_type": "code",
   "execution_count": 1,
   "metadata": {},
   "outputs": [],
   "source": [
    "import syft as sy\n",
    "import tenseal as ts\n",
    "import torch\n",
    "import pandas as pd\n",
    "import random\n",
    "import numpy as np\n",
    "from syft.grid.client.client import connect\n",
    "from syft.grid.client.grid_connection import GridHTTPConnection\n",
    "from syft.core.node.domain.client import DomainClient\n",
    "import pytest\n",
    "from time import time\n",
    "import matplotlib.pyplot as plt\n",
    "\n",
    "sy.load(\"tenseal\")\n"
   ]
  },
  {
   "cell_type": "markdown",
   "metadata": {},
   "source": [
    "## Connect to PyGrid\n",
    "\n",
    "Connect to PyGrid Domain server."
   ]
  },
  {
   "cell_type": "code",
   "execution_count": 3,
   "metadata": {},
   "outputs": [],
   "source": [
    "client = connect(\n",
    "    url=\"http://localhost:5000\", # Domain Address\n",
    "    credentials={\"email\":\"user@email.com\", \"password\":\"userpwd\"},\n",
    "    conn_type= GridHTTPConnection, # HTTP Connection Protocol\n",
    "    client_type=DomainClient) # Domain Client type"
   ]
  },
  {
   "cell_type": "markdown",
   "metadata": {},
   "source": [
    "### <img src=\"https://github.com/OpenMined/design-assets/raw/master/logos/OM/mark-primary-light.png\" alt=\"he-black-box\" width=\"100\"/> Checkpoint 1 : Now STOP and run the Data Owner notebook until the next checkpoint."
   ]
  },
  {
   "cell_type": "markdown",
   "metadata": {},
   "source": [
    "### Define The Model\n",
    "\n",
    "Here we define the models used by the Data Scientist.\n",
    "\n",
    " - __LR__ is a simple logistic regression for plain data.\n",
    " - __EncryptedLR__ adapts the forward method to the API exposed by the encrypted ciphertexts."
   ]
  },
  {
   "cell_type": "code",
   "execution_count": 4,
   "metadata": {},
   "outputs": [],
   "source": [
    "class LR(torch.nn.Module):\n",
    "\n",
    "    def __init__(self, n_features):\n",
    "        super(LR, self).__init__()\n",
    "        self.lr = torch.nn.Linear(n_features, 1)\n",
    "        \n",
    "    def forward(self, x):\n",
    "        out = torch.sigmoid(self.lr(x))\n",
    "        return out\n",
    "    \n",
    "class EncryptedLR:\n",
    "    def __init__(self, torch_lr):\n",
    "        # TenSEAL processes lists and not torch tensors\n",
    "        # so we take out parameters from the PyTorch model\n",
    "        self.weight = torch_lr.lr.weight.data.tolist()[0]\n",
    "        self.bias = torch_lr.lr.bias.data.tolist()\n",
    "        \n",
    "    def forward(self, enc_x):\n",
    "        # We don't need to perform sigmoid as this model\n",
    "        # will only be used for evaluation, and the label\n",
    "        # can be deduced without applying sigmoid\n",
    "        enc_out = enc_x.dot(self.weight) + self.bias\n",
    "        return enc_out\n",
    "    \n",
    "    def __call__(self, *args, **kwargs):\n",
    "        return self.forward(*args, **kwargs)"
   ]
  },
  {
   "cell_type": "markdown",
   "metadata": {},
   "source": [
    "### Request the training data\n",
    "\n",
    "We request access to the training data."
   ]
  },
  {
   "cell_type": "code",
   "execution_count": 5,
   "metadata": {},
   "outputs": [
    {
     "data": {
      "text/html": [
       "<div>\n",
       "<style scoped>\n",
       "    .dataframe tbody tr th:only-of-type {\n",
       "        vertical-align: middle;\n",
       "    }\n",
       "\n",
       "    .dataframe tbody tr th {\n",
       "        vertical-align: top;\n",
       "    }\n",
       "\n",
       "    .dataframe thead th {\n",
       "        text-align: right;\n",
       "    }\n",
       "</style>\n",
       "<table border=\"1\" class=\"dataframe\">\n",
       "  <thead>\n",
       "    <tr style=\"text-align: right;\">\n",
       "      <th></th>\n",
       "      <th>ID</th>\n",
       "      <th>Tags</th>\n",
       "      <th>Description</th>\n",
       "      <th>object_type</th>\n",
       "    </tr>\n",
       "  </thead>\n",
       "  <tbody>\n",
       "    <tr>\n",
       "      <th>0</th>\n",
       "      <td>&lt;UID: 90a2a838f5b149aeb39a62b8bbe2835e&gt;</td>\n",
       "      <td>[x_train]</td>\n",
       "      <td></td>\n",
       "      <td>&lt;class 'torch.Tensor'&gt;</td>\n",
       "    </tr>\n",
       "    <tr>\n",
       "      <th>1</th>\n",
       "      <td>&lt;UID: fb476d205c804da9a8d5bbff12140398&gt;</td>\n",
       "      <td>[y_train]</td>\n",
       "      <td></td>\n",
       "      <td>&lt;class 'torch.Tensor'&gt;</td>\n",
       "    </tr>\n",
       "  </tbody>\n",
       "</table>\n",
       "</div>"
      ],
      "text/plain": [
       "                                        ID       Tags Description  \\\n",
       "0  <UID: 90a2a838f5b149aeb39a62b8bbe2835e>  [x_train]               \n",
       "1  <UID: fb476d205c804da9a8d5bbff12140398>  [y_train]               \n",
       "\n",
       "              object_type  \n",
       "0  <class 'torch.Tensor'>  \n",
       "1  <class 'torch.Tensor'>  "
      ]
     },
     "execution_count": 5,
     "metadata": {},
     "output_type": "execute_result"
    }
   ],
   "source": [
    "client.store.pandas"
   ]
  },
  {
   "cell_type": "code",
   "execution_count": 6,
   "metadata": {},
   "outputs": [],
   "source": [
    "x_train_ptr = client.store[\"x_train\"]\n",
    "y_train_ptr = client.store[\"y_train\"]\n",
    "x_train_ptr.request(reason=\"I would like to get the training data\")\n",
    "y_train_ptr.request(reason=\"I would like to get the training labels\")\n"
   ]
  },
  {
   "cell_type": "code",
   "execution_count": 7,
   "metadata": {},
   "outputs": [
    {
     "data": {
      "text/html": [
       "<div>\n",
       "<style scoped>\n",
       "    .dataframe tbody tr th:only-of-type {\n",
       "        vertical-align: middle;\n",
       "    }\n",
       "\n",
       "    .dataframe tbody tr th {\n",
       "        vertical-align: top;\n",
       "    }\n",
       "\n",
       "    .dataframe thead th {\n",
       "        text-align: right;\n",
       "    }\n",
       "</style>\n",
       "<table border=\"1\" class=\"dataframe\">\n",
       "  <thead>\n",
       "    <tr style=\"text-align: right;\">\n",
       "      <th></th>\n",
       "      <th>Requested Object's tags</th>\n",
       "      <th>Reason</th>\n",
       "      <th>Request ID</th>\n",
       "      <th>Requested Object's ID</th>\n",
       "      <th>Requested Object's type</th>\n",
       "    </tr>\n",
       "  </thead>\n",
       "  <tbody>\n",
       "    <tr>\n",
       "      <th>0</th>\n",
       "      <td>[x_train]</td>\n",
       "      <td>I would like to get the training data</td>\n",
       "      <td>&lt;UID: 1660da134c444d29ae8a0e79f86d503d&gt;</td>\n",
       "      <td>&lt;UID: 90a2a838f5b149aeb39a62b8bbe2835e&gt;</td>\n",
       "      <td>&lt;class 'torch.Tensor'&gt;</td>\n",
       "    </tr>\n",
       "    <tr>\n",
       "      <th>1</th>\n",
       "      <td>[y_train]</td>\n",
       "      <td>I would like to get the training labels</td>\n",
       "      <td>&lt;UID: c75a24e4030348bf95ba203821401784&gt;</td>\n",
       "      <td>&lt;UID: fb476d205c804da9a8d5bbff12140398&gt;</td>\n",
       "      <td>&lt;class 'torch.Tensor'&gt;</td>\n",
       "    </tr>\n",
       "  </tbody>\n",
       "</table>\n",
       "</div>"
      ],
      "text/plain": [
       "  Requested Object's tags                                   Reason  \\\n",
       "0               [x_train]    I would like to get the training data   \n",
       "1               [y_train]  I would like to get the training labels   \n",
       "\n",
       "                                Request ID  \\\n",
       "0  <UID: 1660da134c444d29ae8a0e79f86d503d>   \n",
       "1  <UID: c75a24e4030348bf95ba203821401784>   \n",
       "\n",
       "                     Requested Object's ID Requested Object's type  \n",
       "0  <UID: 90a2a838f5b149aeb39a62b8bbe2835e>  <class 'torch.Tensor'>  \n",
       "1  <UID: fb476d205c804da9a8d5bbff12140398>  <class 'torch.Tensor'>  "
      ]
     },
     "execution_count": 7,
     "metadata": {},
     "output_type": "execute_result"
    }
   ],
   "source": [
    "client.requests.pandas"
   ]
  },
  {
   "cell_type": "markdown",
   "metadata": {},
   "source": [
    "### <img src=\"https://github.com/OpenMined/design-assets/raw/master/logos/OM/mark-primary-light.png\" alt=\"he-black-box\" width=\"100\"/> Checkpoint 2 : Now STOP and run the Data Owner notebook until the next checkpoint."
   ]
  },
  {
   "cell_type": "markdown",
   "metadata": {},
   "source": [
    "### Train the logistic regression\n",
    "\n",
    "Now we train our Logistic regression with the data from the DO instance."
   ]
  },
  {
   "cell_type": "code",
   "execution_count": 8,
   "metadata": {},
   "outputs": [],
   "source": [
    "x_train = x_train_ptr.get(delete_obj=False)\n",
    "y_train = y_train_ptr.get(delete_obj=False)\n",
    "\n",
    "n_features = x_train.shape[1]\n",
    "model = LR(n_features)\n",
    "\n",
    "# use gradient descent with a learning_rate=1\n",
    "optim = torch.optim.SGD(model.parameters(), lr=1)\n",
    "\n",
    "# use Binary Cross Entropy Loss\n",
    "criterion = torch.nn.BCELoss()"
   ]
  },
  {
   "cell_type": "code",
   "execution_count": 9,
   "metadata": {},
   "outputs": [
    {
     "name": "stdout",
     "output_type": "stream",
     "text": [
      "Loss at epoch 1: 0.7149590253829956\n",
      "Loss at epoch 2: 0.6483930349349976\n",
      "Loss at epoch 3: 0.6229013204574585\n",
      "Loss at epoch 4: 0.6113530993461609\n",
      "Loss at epoch 5: 0.605393648147583\n",
      "Loss at epoch 6: 0.6020280718803406\n",
      "Loss at epoch 7: 0.5999988317489624\n",
      "Loss at epoch 8: 0.5987114310264587\n",
      "Loss at epoch 9: 0.5978598594665527\n",
      "Loss at epoch 10: 0.5972760915756226\n",
      "Loss at epoch 11: 0.5968633890151978\n",
      "Loss at epoch 12: 0.5965639352798462\n",
      "Loss at epoch 13: 0.5963418483734131\n",
      "Loss at epoch 14: 0.5961740612983704\n",
      "Loss at epoch 15: 0.5960456132888794\n",
      "Loss at epoch 16: 0.5959459543228149\n",
      "Loss at epoch 17: 0.595867931842804\n",
      "Loss at epoch 18: 0.5958065986633301\n",
      "Loss at epoch 19: 0.5957579612731934\n",
      "Loss at epoch 20: 0.5957191586494446\n"
     ]
    }
   ],
   "source": [
    "EPOCHS = 20\n",
    "\n",
    "def train(model, optim, criterion, x, y, epochs=EPOCHS):\n",
    "    for e in range(1, epochs + 1):\n",
    "        optim.zero_grad()\n",
    "        out = model(x)\n",
    "        loss = criterion(out, y)\n",
    "        loss.backward()\n",
    "        optim.step()\n",
    "        print(f\"Loss at epoch {e}: {loss.data}\")\n",
    "    return model\n",
    "\n",
    "model = train(model, optim, criterion, x_train, y_train)"
   ]
  },
  {
   "cell_type": "markdown",
   "metadata": {},
   "source": [
    "### <img src=\"https://github.com/OpenMined/design-assets/raw/master/logos/OM/mark-primary-light.png\" alt=\"he-black-box\" width=\"100\"/> Checkpoint 3 : Now STOP and run the Data Owner notebook until the next checkpoint."
   ]
  },
  {
   "cell_type": "markdown",
   "metadata": {},
   "source": [
    "### Request the encrypted tensors\n",
    "\n",
    "We create the model variant that cand handle encrypted tensors."
   ]
  },
  {
   "cell_type": "code",
   "execution_count": 10,
   "metadata": {},
   "outputs": [],
   "source": [
    "eelr = EncryptedLR(model)"
   ]
  },
  {
   "cell_type": "markdown",
   "metadata": {},
   "source": [
    "### Check the Duet store\n",
    "\n",
    "Now we can see all evaluating objects and get pointers to them.\n",
    "\n",
    "\n",
    "__Note__: we cannot get these without permission."
   ]
  },
  {
   "cell_type": "code",
   "execution_count": 11,
   "metadata": {},
   "outputs": [
    {
     "data": {
      "text/html": [
       "<div>\n",
       "<style scoped>\n",
       "    .dataframe tbody tr th:only-of-type {\n",
       "        vertical-align: middle;\n",
       "    }\n",
       "\n",
       "    .dataframe tbody tr th {\n",
       "        vertical-align: top;\n",
       "    }\n",
       "\n",
       "    .dataframe thead th {\n",
       "        text-align: right;\n",
       "    }\n",
       "</style>\n",
       "<table border=\"1\" class=\"dataframe\">\n",
       "  <thead>\n",
       "    <tr style=\"text-align: right;\">\n",
       "      <th></th>\n",
       "      <th>ID</th>\n",
       "      <th>Tags</th>\n",
       "      <th>Description</th>\n",
       "      <th>object_type</th>\n",
       "    </tr>\n",
       "  </thead>\n",
       "  <tbody>\n",
       "    <tr>\n",
       "      <th>0</th>\n",
       "      <td>&lt;UID: 90a2a838f5b149aeb39a62b8bbe2835e&gt;</td>\n",
       "      <td>[x_train]</td>\n",
       "      <td></td>\n",
       "      <td>&lt;class 'torch.Tensor'&gt;</td>\n",
       "    </tr>\n",
       "    <tr>\n",
       "      <th>1</th>\n",
       "      <td>&lt;UID: fb476d205c804da9a8d5bbff12140398&gt;</td>\n",
       "      <td>[y_train]</td>\n",
       "      <td></td>\n",
       "      <td>&lt;class 'torch.Tensor'&gt;</td>\n",
       "    </tr>\n",
       "    <tr>\n",
       "      <th>2</th>\n",
       "      <td>&lt;UID: 28666e88d3694db7bfa214f794f931f9&gt;</td>\n",
       "      <td>[context]</td>\n",
       "      <td></td>\n",
       "      <td>&lt;class 'tenseal.enc_context.Context'&gt;</td>\n",
       "    </tr>\n",
       "    <tr>\n",
       "      <th>3</th>\n",
       "      <td>&lt;UID: 5a0a3af5aee7477bb15ec01f55cd07e8&gt;</td>\n",
       "      <td>[enc_x_test]</td>\n",
       "      <td></td>\n",
       "      <td>&lt;class 'syft.lib.python.list.List'&gt;</td>\n",
       "    </tr>\n",
       "  </tbody>\n",
       "</table>\n",
       "</div>"
      ],
      "text/plain": [
       "                                        ID          Tags Description  \\\n",
       "0  <UID: 90a2a838f5b149aeb39a62b8bbe2835e>     [x_train]               \n",
       "1  <UID: fb476d205c804da9a8d5bbff12140398>     [y_train]               \n",
       "2  <UID: 28666e88d3694db7bfa214f794f931f9>     [context]               \n",
       "3  <UID: 5a0a3af5aee7477bb15ec01f55cd07e8>  [enc_x_test]               \n",
       "\n",
       "                             object_type  \n",
       "0                 <class 'torch.Tensor'>  \n",
       "1                 <class 'torch.Tensor'>  \n",
       "2  <class 'tenseal.enc_context.Context'>  \n",
       "3    <class 'syft.lib.python.list.List'>  "
      ]
     },
     "execution_count": 11,
     "metadata": {},
     "output_type": "execute_result"
    }
   ],
   "source": [
    "client.store.pandas"
   ]
  },
  {
   "cell_type": "markdown",
   "metadata": {},
   "source": [
    "### Get pointers to the encrypted vectors and request permission to work on them."
   ]
  },
  {
   "cell_type": "code",
   "execution_count": 12,
   "metadata": {},
   "outputs": [],
   "source": [
    "ctx_ptr = client.store[\"context\"]\n",
    "enc_x_test_ptr = client.store[\"enc_x_test\"]\n",
    "\n",
    "ctx_ptr.request(reason=\"I would like to get the context\")\n",
    "enc_x_test_ptr.request(reason=\"I would like to get encrypted test set\")"
   ]
  },
  {
   "cell_type": "markdown",
   "metadata": {},
   "source": [
    "### <img src=\"https://github.com/OpenMined/design-assets/raw/master/logos/OM/mark-primary-light.png\" alt=\"he-black-box\" width=\"100\"/> Checkpoint 4 : Now STOP and run the Data Owner notebook until the next checkpoint."
   ]
  },
  {
   "cell_type": "markdown",
   "metadata": {},
   "source": [
    "### Encrypted evaluation"
   ]
  },
  {
   "cell_type": "code",
   "execution_count": 13,
   "metadata": {},
   "outputs": [],
   "source": [
    "def encrypted_evaluation(model, enc_x_test):\n",
    "    results = []\n",
    "    \n",
    "    correct = 0\n",
    "    for enc_x in enc_x_test:\n",
    "        # encrypted evaluation\n",
    "        results.append(model(enc_x))\n",
    "    return results\n",
    "\n",
    "enc_x_test = enc_x_test_ptr.get(delete_obj=False)\n",
    "ctx = ctx_ptr.get(delete_obj=False)\n",
    "for t in enc_x_test:\n",
    "    t.link_context(ctx)\n",
    "\n",
    "eval_res = encrypted_evaluation(eelr, enc_x_test)"
   ]
  },
  {
   "cell_type": "code",
   "execution_count": 15,
   "metadata": {},
   "outputs": [
    {
     "data": {
      "text/html": [
       "<div>\n",
       "<style scoped>\n",
       "    .dataframe tbody tr th:only-of-type {\n",
       "        vertical-align: middle;\n",
       "    }\n",
       "\n",
       "    .dataframe tbody tr th {\n",
       "        vertical-align: top;\n",
       "    }\n",
       "\n",
       "    .dataframe thead th {\n",
       "        text-align: right;\n",
       "    }\n",
       "</style>\n",
       "<table border=\"1\" class=\"dataframe\">\n",
       "  <thead>\n",
       "    <tr style=\"text-align: right;\">\n",
       "      <th></th>\n",
       "      <th>ID</th>\n",
       "      <th>Tags</th>\n",
       "      <th>Description</th>\n",
       "      <th>object_type</th>\n",
       "    </tr>\n",
       "  </thead>\n",
       "  <tbody>\n",
       "    <tr>\n",
       "      <th>0</th>\n",
       "      <td>&lt;UID: 90a2a838f5b149aeb39a62b8bbe2835e&gt;</td>\n",
       "      <td>[x_train]</td>\n",
       "      <td></td>\n",
       "      <td>&lt;class 'torch.Tensor'&gt;</td>\n",
       "    </tr>\n",
       "    <tr>\n",
       "      <th>1</th>\n",
       "      <td>&lt;UID: fb476d205c804da9a8d5bbff12140398&gt;</td>\n",
       "      <td>[y_train]</td>\n",
       "      <td></td>\n",
       "      <td>&lt;class 'torch.Tensor'&gt;</td>\n",
       "    </tr>\n",
       "    <tr>\n",
       "      <th>2</th>\n",
       "      <td>&lt;UID: 28666e88d3694db7bfa214f794f931f9&gt;</td>\n",
       "      <td>[context]</td>\n",
       "      <td></td>\n",
       "      <td>&lt;class 'tenseal.enc_context.Context'&gt;</td>\n",
       "    </tr>\n",
       "    <tr>\n",
       "      <th>3</th>\n",
       "      <td>&lt;UID: 5a0a3af5aee7477bb15ec01f55cd07e8&gt;</td>\n",
       "      <td>[enc_x_test]</td>\n",
       "      <td></td>\n",
       "      <td>&lt;class 'syft.lib.python.list.List'&gt;</td>\n",
       "    </tr>\n",
       "    <tr>\n",
       "      <th>4</th>\n",
       "      <td>&lt;UID: 5588e9efb0344e249630e6c40a7b356f&gt;</td>\n",
       "      <td>[result_eval]</td>\n",
       "      <td></td>\n",
       "      <td>&lt;class 'syft.lib.python.list.List'&gt;</td>\n",
       "    </tr>\n",
       "    <tr>\n",
       "      <th>5</th>\n",
       "      <td>&lt;UID: da652bb4061944d196af946e5b34e082&gt;</td>\n",
       "      <td>[result_eval]</td>\n",
       "      <td></td>\n",
       "      <td>&lt;class 'syft.lib.python.list.List'&gt;</td>\n",
       "    </tr>\n",
       "  </tbody>\n",
       "</table>\n",
       "</div>"
      ],
      "text/plain": [
       "                                        ID           Tags Description  \\\n",
       "0  <UID: 90a2a838f5b149aeb39a62b8bbe2835e>      [x_train]               \n",
       "1  <UID: fb476d205c804da9a8d5bbff12140398>      [y_train]               \n",
       "2  <UID: 28666e88d3694db7bfa214f794f931f9>      [context]               \n",
       "3  <UID: 5a0a3af5aee7477bb15ec01f55cd07e8>   [enc_x_test]               \n",
       "4  <UID: 5588e9efb0344e249630e6c40a7b356f>  [result_eval]               \n",
       "5  <UID: da652bb4061944d196af946e5b34e082>  [result_eval]               \n",
       "\n",
       "                             object_type  \n",
       "0                 <class 'torch.Tensor'>  \n",
       "1                 <class 'torch.Tensor'>  \n",
       "2  <class 'tenseal.enc_context.Context'>  \n",
       "3    <class 'syft.lib.python.list.List'>  \n",
       "4    <class 'syft.lib.python.list.List'>  \n",
       "5    <class 'syft.lib.python.list.List'>  "
      ]
     },
     "execution_count": 15,
     "metadata": {},
     "output_type": "execute_result"
    }
   ],
   "source": [
    "result_eval_ptr = sy.lib.python.List(eval_res).send(client, pointable=True, tags=[\"result_eval\"])\n",
    "\n",
    "client.store.pandas"
   ]
  },
  {
   "cell_type": "markdown",
   "metadata": {},
   "source": [
    "### <img src=\"https://github.com/OpenMined/design-assets/raw/master/logos/OM/mark-primary-light.png\" alt=\"he-black-box\" width=\"100\"/> Checkpoint 5 : Now STOP and run the Data Owner notebook until the next checkpoint."
   ]
  },
  {
   "cell_type": "markdown",
   "metadata": {},
   "source": [
    "# Congratulations!!! - Time to Join the Community!\n",
    "\n",
    "Congratulations on completing this notebook tutorial! If you enjoyed this and would like to join the movement toward privacy preserving, decentralized ownership of AI and the AI supply chain (data), you can do so in the following ways!\n",
    "\n",
    "### Star PySyft and TenSEAL on GitHub\n",
    "\n",
    "The easiest way to help our community is just by starring the Repos! This helps raise awareness of the cool tools we're building.\n",
    "\n",
    "- [Star PySyft](https://github.com/OpenMined/PySyft)\n",
    "- [Star TenSEAL](https://github.com/OpenMined/TenSEAL)\n",
    "\n",
    "### Join our Slack!\n",
    "\n",
    "The best way to keep up to date on the latest advancements is to join our community! You can do so by filling out the form at [http://slack.openmined.org](http://slack.openmined.org). #lib_tenseal and #code_tenseal are the main channels for the TenSEAL project.\n",
    "\n",
    "### Donate\n",
    "\n",
    "If you don't have time to contribute to our codebase, but would still like to lend support, you can also become a Backer on our Open Collective. All donations go toward our web hosting and other community expenses such as hackathons and meetups!\n",
    "\n",
    "[OpenMined's Open Collective Page](https://opencollective.com/openmined)"
   ]
  },
  {
   "cell_type": "code",
   "execution_count": null,
   "metadata": {},
   "outputs": [],
   "source": []
  }
 ],
 "metadata": {
  "kernelspec": {
   "display_name": "Python 3",
   "language": "python",
   "name": "python3"
  },
  "language_info": {
   "codemirror_mode": {
    "name": "ipython",
    "version": 3
   },
   "file_extension": ".py",
   "mimetype": "text/x-python",
   "name": "python",
   "nbconvert_exporter": "python",
   "pygments_lexer": "ipython3",
   "version": "3.8.5"
  }
 },
 "nbformat": 4,
 "nbformat_minor": 4
}

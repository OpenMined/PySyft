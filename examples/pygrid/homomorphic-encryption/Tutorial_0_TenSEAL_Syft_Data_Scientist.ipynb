{
 "cells": [
  {
   "cell_type": "markdown",
   "metadata": {},
   "source": [
    "<img src=\"https://github.com/OpenMined/design-assets/raw/master/logos/OM/horizontal-primary-light.png\" alt=\"he-black-box\" width=\"600\"/>\n",
    "\n",
    "\n",
    "# Homomorphic Encryption using Duet: Data Scientist\n",
    "## Tutorial 0: Basic operations\n",
    "\n",
    "\n",
    "\n",
    "Welcome!\n",
    "In this tutorial, we will show you how to use Duet with homomorphic encryption, and some use cases. This notebook shows the Data Scientist view on the operations.\n",
    "\n"
   ]
  },
  {
   "cell_type": "markdown",
   "metadata": {},
   "source": [
    "Homomorphic encryption is efficient in client-server scenarios, like the one depicted in the diagram below. We will see a few use cases in which a Data Scientist can operate on encrypted data.\n",
    "\n",
    "\n",
    "<img src=\"https://blog.openmined.org/content/images/2020/04/OM---CKKS-Graphic-v.01@2x.png\" align=\"center\" style=\"display: block;  margin: auto;\"/>"
   ]
  },
  {
   "cell_type": "markdown",
   "metadata": {},
   "source": [
    "## Setup\n",
    "\n",
    "All modules are imported here, make sure everything is installed by running the cell below."
   ]
  },
  {
   "cell_type": "code",
   "execution_count": 1,
   "metadata": {},
   "outputs": [],
   "source": [
    "import syft as sy\n",
    "import tenseal as ts\n",
    "from syft.grid.client.client import connect\n",
    "from syft.grid.client.grid_connection import GridHTTPConnection\n",
    "from syft.core.node.domain.client import DomainClient\n",
    "\n",
    "sy.load(\"tenseal\")"
   ]
  },
  {
   "cell_type": "markdown",
   "metadata": {},
   "source": [
    "## Connect to PyGrid\n",
    "\n",
    "Connect to PyGrid Domain server."
   ]
  },
  {
   "cell_type": "code",
   "execution_count": 4,
   "metadata": {},
   "outputs": [],
   "source": [
    "client = connect(\n",
    "    url=\"http://localhost:5000\", # Domain Address\n",
    "    credentials={\"email\":\"user@email.com\", \"password\":\"userpwd\"},\n",
    "    conn_type= GridHTTPConnection, # HTTP Connection Protocol\n",
    "    client_type=DomainClient) # Domain Client type"
   ]
  },
  {
   "cell_type": "markdown",
   "metadata": {},
   "source": [
    "### <img src=\"https://github.com/OpenMined/design-assets/raw/master/logos/OM/mark-primary-light.png\" alt=\"he-black-box\" width=\"100\"/> Checkpoint 0 : Now STOP and run the Data Owner notebook until Checkpoint 1."
   ]
  },
  {
   "cell_type": "markdown",
   "metadata": {},
   "source": [
    "### Check the Duet store\n",
    "\n",
    "Now we can see all three objects and get pointers to them.\n",
    "\n",
    "\n",
    "__Note__: we cannot get these without permission."
   ]
  },
  {
   "cell_type": "code",
   "execution_count": 5,
   "metadata": {},
   "outputs": [
    {
     "data": {
      "text/html": [
       "<div>\n",
       "<style scoped>\n",
       "    .dataframe tbody tr th:only-of-type {\n",
       "        vertical-align: middle;\n",
       "    }\n",
       "\n",
       "    .dataframe tbody tr th {\n",
       "        vertical-align: top;\n",
       "    }\n",
       "\n",
       "    .dataframe thead th {\n",
       "        text-align: right;\n",
       "    }\n",
       "</style>\n",
       "<table border=\"1\" class=\"dataframe\">\n",
       "  <thead>\n",
       "    <tr style=\"text-align: right;\">\n",
       "      <th></th>\n",
       "      <th>ID</th>\n",
       "      <th>Tags</th>\n",
       "      <th>Description</th>\n",
       "      <th>object_type</th>\n",
       "    </tr>\n",
       "  </thead>\n",
       "  <tbody>\n",
       "    <tr>\n",
       "      <th>0</th>\n",
       "      <td>&lt;UID: b3fed70f04a6449ebb5cbead3b187a4e&gt;</td>\n",
       "      <td>[context]</td>\n",
       "      <td></td>\n",
       "      <td>&lt;class 'tenseal.enc_context.Context'&gt;</td>\n",
       "    </tr>\n",
       "    <tr>\n",
       "      <th>1</th>\n",
       "      <td>&lt;UID: 72327eb26d624addab7c78d120e8e588&gt;</td>\n",
       "      <td>[enc_v1]</td>\n",
       "      <td></td>\n",
       "      <td>&lt;class 'tenseal.tensors.ckksvector.CKKSVector'&gt;</td>\n",
       "    </tr>\n",
       "    <tr>\n",
       "      <th>2</th>\n",
       "      <td>&lt;UID: 249b8e6c602143a6a6f6d1faefa0f6d6&gt;</td>\n",
       "      <td>[enc_v2]</td>\n",
       "      <td></td>\n",
       "      <td>&lt;class 'tenseal.tensors.ckksvector.CKKSVector'&gt;</td>\n",
       "    </tr>\n",
       "  </tbody>\n",
       "</table>\n",
       "</div>"
      ],
      "text/plain": [
       "                                        ID       Tags Description  \\\n",
       "0  <UID: b3fed70f04a6449ebb5cbead3b187a4e>  [context]               \n",
       "1  <UID: 72327eb26d624addab7c78d120e8e588>   [enc_v1]               \n",
       "2  <UID: 249b8e6c602143a6a6f6d1faefa0f6d6>   [enc_v2]               \n",
       "\n",
       "                                       object_type  \n",
       "0            <class 'tenseal.enc_context.Context'>  \n",
       "1  <class 'tenseal.tensors.ckksvector.CKKSVector'>  \n",
       "2  <class 'tenseal.tensors.ckksvector.CKKSVector'>  "
      ]
     },
     "execution_count": 5,
     "metadata": {},
     "output_type": "execute_result"
    }
   ],
   "source": [
    "client.store.pandas"
   ]
  },
  {
   "cell_type": "markdown",
   "metadata": {},
   "source": [
    "### Get pointers to the encrypted vectors."
   ]
  },
  {
   "cell_type": "code",
   "execution_count": 6,
   "metadata": {},
   "outputs": [],
   "source": [
    "ctx_ptr = client.store[\"context\"]\n",
    "enc_v1_ptr = client.store[\"enc_v1\"]\n",
    "enc_v2_ptr = client.store[\"enc_v2\"]"
   ]
  },
  {
   "cell_type": "markdown",
   "metadata": {},
   "source": [
    "### Request permission to work on the encrypted vectors."
   ]
  },
  {
   "cell_type": "code",
   "execution_count": 7,
   "metadata": {},
   "outputs": [],
   "source": [
    "ctx_ptr.request(reason=\"I would like to get the context\")\n",
    "enc_v1_ptr.request(reason=\"I would like to get first vector\")\n",
    "enc_v2_ptr.request(reason=\"I would like to get second vector\")"
   ]
  },
  {
   "cell_type": "code",
   "execution_count": 8,
   "metadata": {},
   "outputs": [
    {
     "data": {
      "text/html": [
       "<div>\n",
       "<style scoped>\n",
       "    .dataframe tbody tr th:only-of-type {\n",
       "        vertical-align: middle;\n",
       "    }\n",
       "\n",
       "    .dataframe tbody tr th {\n",
       "        vertical-align: top;\n",
       "    }\n",
       "\n",
       "    .dataframe thead th {\n",
       "        text-align: right;\n",
       "    }\n",
       "</style>\n",
       "<table border=\"1\" class=\"dataframe\">\n",
       "  <thead>\n",
       "    <tr style=\"text-align: right;\">\n",
       "      <th></th>\n",
       "      <th>Requested Object's tags</th>\n",
       "      <th>Reason</th>\n",
       "      <th>Request ID</th>\n",
       "      <th>Requested Object's ID</th>\n",
       "      <th>Requested Object's type</th>\n",
       "    </tr>\n",
       "  </thead>\n",
       "  <tbody>\n",
       "    <tr>\n",
       "      <th>0</th>\n",
       "      <td>[context]</td>\n",
       "      <td>I would like to get the context</td>\n",
       "      <td>&lt;UID: d5d22bf11d474b74a4204e7990edec50&gt;</td>\n",
       "      <td>&lt;UID: b3fed70f04a6449ebb5cbead3b187a4e&gt;</td>\n",
       "      <td>&lt;class 'tenseal.enc_context.Context'&gt;</td>\n",
       "    </tr>\n",
       "    <tr>\n",
       "      <th>1</th>\n",
       "      <td>[enc_v1]</td>\n",
       "      <td>I would like to get first vector</td>\n",
       "      <td>&lt;UID: 34b7d549d0b74a2fb5d8c7ce4c36dd70&gt;</td>\n",
       "      <td>&lt;UID: 72327eb26d624addab7c78d120e8e588&gt;</td>\n",
       "      <td>&lt;class 'tenseal.tensors.ckksvector.CKKSVector'&gt;</td>\n",
       "    </tr>\n",
       "    <tr>\n",
       "      <th>2</th>\n",
       "      <td>[enc_v2]</td>\n",
       "      <td>I would like to get second vector</td>\n",
       "      <td>&lt;UID: b770f7925f21431b9614c3a7f2ba127e&gt;</td>\n",
       "      <td>&lt;UID: 249b8e6c602143a6a6f6d1faefa0f6d6&gt;</td>\n",
       "      <td>&lt;class 'tenseal.tensors.ckksvector.CKKSVector'&gt;</td>\n",
       "    </tr>\n",
       "  </tbody>\n",
       "</table>\n",
       "</div>"
      ],
      "text/plain": [
       "  Requested Object's tags                             Reason  \\\n",
       "0               [context]    I would like to get the context   \n",
       "1                [enc_v1]   I would like to get first vector   \n",
       "2                [enc_v2]  I would like to get second vector   \n",
       "\n",
       "                                Request ID  \\\n",
       "0  <UID: d5d22bf11d474b74a4204e7990edec50>   \n",
       "1  <UID: 34b7d549d0b74a2fb5d8c7ce4c36dd70>   \n",
       "2  <UID: b770f7925f21431b9614c3a7f2ba127e>   \n",
       "\n",
       "                     Requested Object's ID  \\\n",
       "0  <UID: b3fed70f04a6449ebb5cbead3b187a4e>   \n",
       "1  <UID: 72327eb26d624addab7c78d120e8e588>   \n",
       "2  <UID: 249b8e6c602143a6a6f6d1faefa0f6d6>   \n",
       "\n",
       "                           Requested Object's type  \n",
       "0            <class 'tenseal.enc_context.Context'>  \n",
       "1  <class 'tenseal.tensors.ckksvector.CKKSVector'>  \n",
       "2  <class 'tenseal.tensors.ckksvector.CKKSVector'>  "
      ]
     },
     "execution_count": 8,
     "metadata": {},
     "output_type": "execute_result"
    }
   ],
   "source": [
    "# Now we can see our requests are pending\n",
    "client.requests.pandas"
   ]
  },
  {
   "cell_type": "markdown",
   "metadata": {},
   "source": [
    "### <img src=\"https://github.com/OpenMined/design-assets/raw/master/logos/OM/mark-primary-light.png\" alt=\"he-black-box\" width=\"100\"/> Checkpoint 1 : Now STOP and run the Data Owner notebook until Checkpoint 2."
   ]
  },
  {
   "cell_type": "markdown",
   "metadata": {},
   "source": [
    "### Get pointers to the encrypted vectors."
   ]
  },
  {
   "cell_type": "code",
   "execution_count": 9,
   "metadata": {},
   "outputs": [
    {
     "data": {
      "text/html": [
       "<div>\n",
       "<style scoped>\n",
       "    .dataframe tbody tr th:only-of-type {\n",
       "        vertical-align: middle;\n",
       "    }\n",
       "\n",
       "    .dataframe tbody tr th {\n",
       "        vertical-align: top;\n",
       "    }\n",
       "\n",
       "    .dataframe thead th {\n",
       "        text-align: right;\n",
       "    }\n",
       "</style>\n",
       "<table border=\"1\" class=\"dataframe\">\n",
       "  <thead>\n",
       "    <tr style=\"text-align: right;\">\n",
       "      <th></th>\n",
       "    </tr>\n",
       "  </thead>\n",
       "  <tbody>\n",
       "  </tbody>\n",
       "</table>\n",
       "</div>"
      ],
      "text/plain": [
       "Empty DataFrame\n",
       "Columns: []\n",
       "Index: []"
      ]
     },
     "execution_count": 9,
     "metadata": {},
     "output_type": "execute_result"
    }
   ],
   "source": [
    "# We can see that the requests have been answered\n",
    "client.requests.pandas"
   ]
  },
  {
   "cell_type": "code",
   "execution_count": 10,
   "metadata": {},
   "outputs": [
    {
     "data": {
      "text/plain": [
       "(<tenseal.tensors.ckksvector.CKKSVector at 0x7f02bcde8eb0>,\n",
       " <tenseal.tensors.ckksvector.CKKSVector at 0x7f02bcdf0700>)"
      ]
     },
     "execution_count": 10,
     "metadata": {},
     "output_type": "execute_result"
    }
   ],
   "source": [
    "ctx = ctx_ptr.get(delete_obj=False)\n",
    "\n",
    "enc_v1 = enc_v1_ptr.get(delete_obj=False)\n",
    "enc_v2 = enc_v2_ptr.get(delete_obj=False)\n",
    "\n",
    "enc_v1.link_context(ctx)\n",
    "enc_v2.link_context(ctx)\n",
    "\n",
    "(enc_v1, enc_v2)"
   ]
  },
  {
   "cell_type": "markdown",
   "metadata": {},
   "source": [
    "### Compute different operations over the two vectors locally"
   ]
  },
  {
   "cell_type": "code",
   "execution_count": 11,
   "metadata": {},
   "outputs": [
    {
     "data": {
      "text/plain": [
       "<tenseal.tensors.ckksvector.CKKSVector at 0x7f02bcdf5bb0>"
      ]
     },
     "execution_count": 11,
     "metadata": {},
     "output_type": "execute_result"
    }
   ],
   "source": [
    "result_add = enc_v1 + enc_v2\n",
    "result_iadd = enc_v1 + [10, 10, 10, 10, 10]\n",
    "result_sub = enc_v1 - enc_v2\n",
    "result_mul = enc_v1 * enc_v2\n",
    "result_pow = enc_v1 ** 3\n",
    "result_neg = -enc_v1\n",
    "result_poly = enc_v1.polyval([1,0,1,1]) # 1 + X^2 + X^3\n",
    "result_add"
   ]
  },
  {
   "cell_type": "markdown",
   "metadata": {},
   "source": [
    "### Send the result back to the Data Owner"
   ]
  },
  {
   "cell_type": "code",
   "execution_count": 12,
   "metadata": {},
   "outputs": [],
   "source": [
    "result_add_ptr = result_add.send(client, pointable=True, tags=[\"result_add\"])\n",
    "result_iadd_ptr = result_iadd.send(client, pointable=True, tags=[\"result_iadd\"])\n",
    "result_sub_ptr = result_sub.send(client, pointable=True, tags=[\"result_sub\"])\n",
    "result_mul_ptr = result_mul.send(client, pointable=True, tags=[\"result_mul\"])\n",
    "result_pow_ptr = result_pow.send(client, pointable=True, tags=[\"result_pow\"])\n",
    "result_neg_ptr = result_neg.send(client, pointable=True, tags=[\"result_neg\"])\n",
    "result_poly_ptr = result_poly.send(client, pointable=True, tags=[\"result_poly\"])\n"
   ]
  },
  {
   "cell_type": "code",
   "execution_count": 14,
   "metadata": {},
   "outputs": [
    {
     "name": "stdout",
     "output_type": "stream",
     "text": [
      "                                        ID           Tags Description  \\\n",
      "0  <UID: b3fed70f04a6449ebb5cbead3b187a4e>      [context]               \n",
      "1  <UID: 72327eb26d624addab7c78d120e8e588>       [enc_v1]               \n",
      "2  <UID: 249b8e6c602143a6a6f6d1faefa0f6d6>       [enc_v2]               \n",
      "3  <UID: df57de9cd5534e49917eb87071eb3dec>   [result_add]               \n",
      "4  <UID: 9205ee2188b146c1bbc296c2aa57000b>  [result_iadd]               \n",
      "5  <UID: abc8dae8c96d49aabab9f712da31f244>   [result_sub]               \n",
      "6  <UID: f90223f3b8b04e15ba004a6325068cc3>   [result_mul]               \n",
      "7  <UID: 7eba6e6f727f40fba1cf51a59681af28>   [result_pow]               \n",
      "8  <UID: c2dab44b70d742a5ac91068c2fb3bd05>   [result_neg]               \n",
      "9  <UID: 639371228f474ec0ad1b5c0d994d0536>  [result_poly]               \n",
      "\n",
      "                                       object_type  \n",
      "0            <class 'tenseal.enc_context.Context'>  \n",
      "1  <class 'tenseal.tensors.ckksvector.CKKSVector'>  \n",
      "2  <class 'tenseal.tensors.ckksvector.CKKSVector'>  \n",
      "3  <class 'tenseal.tensors.ckksvector.CKKSVector'>  \n",
      "4  <class 'tenseal.tensors.ckksvector.CKKSVector'>  \n",
      "5  <class 'tenseal.tensors.ckksvector.CKKSVector'>  \n",
      "6  <class 'tenseal.tensors.ckksvector.CKKSVector'>  \n",
      "7  <class 'tenseal.tensors.ckksvector.CKKSVector'>  \n",
      "8  <class 'tenseal.tensors.ckksvector.CKKSVector'>  \n",
      "9  <class 'tenseal.tensors.ckksvector.CKKSVector'>  \n"
     ]
    }
   ],
   "source": [
    "print(client.store.pandas)"
   ]
  },
  {
   "cell_type": "markdown",
   "metadata": {},
   "source": [
    "### <img src=\"https://github.com/OpenMined/design-assets/raw/master/logos/OM/mark-primary-light.png\" alt=\"he-black-box\" width=\"100\"/> Checkpoint 2 : Now STOP and run the Data Owner notebook until the next checkpoint."
   ]
  },
  {
   "cell_type": "markdown",
   "metadata": {},
   "source": [
    "# Congratulations!!! - Time to Join the Community!\n",
    "\n",
    "Congratulations on completing this notebook tutorial! If you enjoyed this and would like to join the movement toward privacy preserving, decentralized ownership of AI and the AI supply chain (data), you can do so in the following ways!\n",
    "\n",
    "### Star PySyft and TenSEAL on GitHub\n",
    "\n",
    "The easiest way to help our community is just by starring the Repos! This helps raise awareness of the cool tools we're building.\n",
    "\n",
    "- [Star PySyft](https://github.com/OpenMined/PySyft)\n",
    "- [Star TenSEAL](https://github.com/OpenMined/TenSEAL)\n",
    "\n",
    "### Join our Slack!\n",
    "\n",
    "The best way to keep up to date on the latest advancements is to join our community! You can do so by filling out the form at [http://slack.openmined.org](http://slack.openmined.org). #lib_tenseal and #code_tenseal are the main channels for the TenSEAL project.\n",
    "\n",
    "### Donate\n",
    "\n",
    "If you don't have time to contribute to our codebase, but would still like to lend support, you can also become a Backer on our Open Collective. All donations go toward our web hosting and other community expenses such as hackathons and meetups!\n",
    "\n",
    "[OpenMined's Open Collective Page](https://opencollective.com/openmined)"
   ]
  }
 ],
 "metadata": {
  "kernelspec": {
   "display_name": "Python 3",
   "language": "python",
   "name": "python3"
  },
  "language_info": {
   "codemirror_mode": {
    "name": "ipython",
    "version": 3
   },
   "file_extension": ".py",
   "mimetype": "text/x-python",
   "name": "python",
   "nbconvert_exporter": "python",
   "pygments_lexer": "ipython3",
   "version": "3.8.5"
  }
 },
 "nbformat": 4,
 "nbformat_minor": 4
}

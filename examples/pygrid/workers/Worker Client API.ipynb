{
 "cells": [
  {
   "cell_type": "markdown",
   "metadata": {},
   "source": [
    "# PyGrid Client Worker API"
   ]
  },
  {
   "cell_type": "markdown",
   "metadata": {},
   "source": [
    "### Import Libs"
   ]
  },
  {
   "cell_type": "code",
   "execution_count": 1,
   "metadata": {},
   "outputs": [],
   "source": [
    "from syft.grid.client.client import connect\n",
    "from syft.grid.client.grid_connection import GridHTTPConnection\n",
    "from syft.core.node.domain.client import DomainClient\n",
    "\n",
    "import syft as sy\n",
    "import torch as th\n",
    "\n",
    "sy.VERBOSE = False"
   ]
  },
  {
   "cell_type": "markdown",
   "metadata": {},
   "source": [
    "### Connect performing authentication process"
   ]
  },
  {
   "cell_type": "code",
   "execution_count": 2,
   "metadata": {},
   "outputs": [],
   "source": [
    "domain = connect(\n",
    "    url=\"http://3.12.71.243:5000\", # Domain Address\n",
    "    credentials={\"email\":\"admin@email.com\", \"password\":\"admin\"},\n",
    "    conn_type= GridHTTPConnection,) # HTTP Connection Protocol"
   ]
  },
  {
   "cell_type": "markdown",
   "metadata": {},
   "source": [
    "### Create a new workers/environments"
   ]
  },
  {
   "cell_type": "code",
   "execution_count": 3,
   "metadata": {},
   "outputs": [
    {
     "data": {
      "text/html": [
       "<div>\n",
       "<style scoped>\n",
       "    .dataframe tbody tr th:only-of-type {\n",
       "        vertical-align: middle;\n",
       "    }\n",
       "\n",
       "    .dataframe tbody tr th {\n",
       "        vertical-align: top;\n",
       "    }\n",
       "\n",
       "    .dataframe thead th {\n",
       "        text-align: right;\n",
       "    }\n",
       "</style>\n",
       "<table border=\"1\" class=\"dataframe\">\n",
       "  <thead>\n",
       "    <tr style=\"text-align: right;\">\n",
       "      <th></th>\n",
       "      <th>Accelerated Computing Instances(GPU)</th>\n",
       "      <th>Compute Optimized Instances</th>\n",
       "      <th>General Purpose Instances</th>\n",
       "      <th>Free Tier Instances</th>\n",
       "    </tr>\n",
       "  </thead>\n",
       "  <tbody>\n",
       "    <tr>\n",
       "      <th>0</th>\n",
       "      <td>p4d.24xlarge</td>\n",
       "      <td>c5n.large</td>\n",
       "      <td>t2.2xlarge</td>\n",
       "      <td>t2.micro</td>\n",
       "    </tr>\n",
       "    <tr>\n",
       "      <th>1</th>\n",
       "      <td>p2.8xlarge</td>\n",
       "      <td>c5.4xlarge</td>\n",
       "      <td>t2.micro</td>\n",
       "      <td></td>\n",
       "    </tr>\n",
       "    <tr>\n",
       "      <th>2</th>\n",
       "      <td>p3.2xlarge</td>\n",
       "      <td>c5n.4xlarge</td>\n",
       "      <td>t2.large</td>\n",
       "      <td></td>\n",
       "    </tr>\n",
       "    <tr>\n",
       "      <th>3</th>\n",
       "      <td>p3.16xlarge</td>\n",
       "      <td>c5n.2xlarge</td>\n",
       "      <td>t2.xlarge</td>\n",
       "      <td></td>\n",
       "    </tr>\n",
       "    <tr>\n",
       "      <th>4</th>\n",
       "      <td>p2.xlarge</td>\n",
       "      <td>c5a.4xlarge</td>\n",
       "      <td>t2.small</td>\n",
       "      <td></td>\n",
       "    </tr>\n",
       "    <tr>\n",
       "      <th>5</th>\n",
       "      <td>p2.16xlarge</td>\n",
       "      <td>c5d.12xlarge</td>\n",
       "      <td>t2.medium</td>\n",
       "      <td></td>\n",
       "    </tr>\n",
       "    <tr>\n",
       "      <th>6</th>\n",
       "      <td>p3.8xlarge</td>\n",
       "      <td>c5d.large</td>\n",
       "      <td>t2.nano</td>\n",
       "      <td></td>\n",
       "    </tr>\n",
       "    <tr>\n",
       "      <th>7</th>\n",
       "      <td></td>\n",
       "      <td>c5.xlarge</td>\n",
       "      <td></td>\n",
       "      <td></td>\n",
       "    </tr>\n",
       "    <tr>\n",
       "      <th>8</th>\n",
       "      <td></td>\n",
       "      <td>c5.metal</td>\n",
       "      <td></td>\n",
       "      <td></td>\n",
       "    </tr>\n",
       "    <tr>\n",
       "      <th>9</th>\n",
       "      <td></td>\n",
       "      <td>c5d.18xlarge</td>\n",
       "      <td></td>\n",
       "      <td></td>\n",
       "    </tr>\n",
       "    <tr>\n",
       "      <th>10</th>\n",
       "      <td></td>\n",
       "      <td>c5.24xlarge</td>\n",
       "      <td></td>\n",
       "      <td></td>\n",
       "    </tr>\n",
       "    <tr>\n",
       "      <th>11</th>\n",
       "      <td></td>\n",
       "      <td>c5n.9xlarge</td>\n",
       "      <td></td>\n",
       "      <td></td>\n",
       "    </tr>\n",
       "    <tr>\n",
       "      <th>12</th>\n",
       "      <td></td>\n",
       "      <td>c5.12xlarge</td>\n",
       "      <td></td>\n",
       "      <td></td>\n",
       "    </tr>\n",
       "    <tr>\n",
       "      <th>13</th>\n",
       "      <td></td>\n",
       "      <td>c5a.12xlarge</td>\n",
       "      <td></td>\n",
       "      <td></td>\n",
       "    </tr>\n",
       "    <tr>\n",
       "      <th>14</th>\n",
       "      <td></td>\n",
       "      <td>c5d.24xlarge</td>\n",
       "      <td></td>\n",
       "      <td></td>\n",
       "    </tr>\n",
       "    <tr>\n",
       "      <th>15</th>\n",
       "      <td></td>\n",
       "      <td>c5a.xlarge</td>\n",
       "      <td></td>\n",
       "      <td></td>\n",
       "    </tr>\n",
       "    <tr>\n",
       "      <th>16</th>\n",
       "      <td></td>\n",
       "      <td>c5a.2xlarge</td>\n",
       "      <td></td>\n",
       "      <td></td>\n",
       "    </tr>\n",
       "    <tr>\n",
       "      <th>17</th>\n",
       "      <td></td>\n",
       "      <td>c5d.4xlarge</td>\n",
       "      <td></td>\n",
       "      <td></td>\n",
       "    </tr>\n",
       "    <tr>\n",
       "      <th>18</th>\n",
       "      <td></td>\n",
       "      <td>c5a.24xlarge</td>\n",
       "      <td></td>\n",
       "      <td></td>\n",
       "    </tr>\n",
       "    <tr>\n",
       "      <th>19</th>\n",
       "      <td></td>\n",
       "      <td>c5d.2xlarge</td>\n",
       "      <td></td>\n",
       "      <td></td>\n",
       "    </tr>\n",
       "    <tr>\n",
       "      <th>20</th>\n",
       "      <td></td>\n",
       "      <td>c5d.xlarge</td>\n",
       "      <td></td>\n",
       "      <td></td>\n",
       "    </tr>\n",
       "    <tr>\n",
       "      <th>21</th>\n",
       "      <td></td>\n",
       "      <td>c5.large</td>\n",
       "      <td></td>\n",
       "      <td></td>\n",
       "    </tr>\n",
       "    <tr>\n",
       "      <th>22</th>\n",
       "      <td></td>\n",
       "      <td>c5n.metal</td>\n",
       "      <td></td>\n",
       "      <td></td>\n",
       "    </tr>\n",
       "    <tr>\n",
       "      <th>23</th>\n",
       "      <td></td>\n",
       "      <td>c5.9xlarge</td>\n",
       "      <td></td>\n",
       "      <td></td>\n",
       "    </tr>\n",
       "    <tr>\n",
       "      <th>24</th>\n",
       "      <td></td>\n",
       "      <td>c5d.metal</td>\n",
       "      <td></td>\n",
       "      <td></td>\n",
       "    </tr>\n",
       "    <tr>\n",
       "      <th>25</th>\n",
       "      <td></td>\n",
       "      <td>c5n.18xlarge</td>\n",
       "      <td></td>\n",
       "      <td></td>\n",
       "    </tr>\n",
       "    <tr>\n",
       "      <th>26</th>\n",
       "      <td></td>\n",
       "      <td>c5a.8xlarge</td>\n",
       "      <td></td>\n",
       "      <td></td>\n",
       "    </tr>\n",
       "    <tr>\n",
       "      <th>27</th>\n",
       "      <td></td>\n",
       "      <td>c5a.16xlarge</td>\n",
       "      <td></td>\n",
       "      <td></td>\n",
       "    </tr>\n",
       "    <tr>\n",
       "      <th>28</th>\n",
       "      <td></td>\n",
       "      <td>c5.2xlarge</td>\n",
       "      <td></td>\n",
       "      <td></td>\n",
       "    </tr>\n",
       "    <tr>\n",
       "      <th>29</th>\n",
       "      <td></td>\n",
       "      <td>c5a.large</td>\n",
       "      <td></td>\n",
       "      <td></td>\n",
       "    </tr>\n",
       "    <tr>\n",
       "      <th>30</th>\n",
       "      <td></td>\n",
       "      <td>c5d.9xlarge</td>\n",
       "      <td></td>\n",
       "      <td></td>\n",
       "    </tr>\n",
       "    <tr>\n",
       "      <th>31</th>\n",
       "      <td></td>\n",
       "      <td>c5n.xlarge</td>\n",
       "      <td></td>\n",
       "      <td></td>\n",
       "    </tr>\n",
       "    <tr>\n",
       "      <th>32</th>\n",
       "      <td></td>\n",
       "      <td>c5.18xlarge</td>\n",
       "      <td></td>\n",
       "      <td></td>\n",
       "    </tr>\n",
       "  </tbody>\n",
       "</table>\n",
       "</div>"
      ],
      "text/plain": [
       "   Accelerated Computing Instances(GPU) Compute Optimized Instances  \\\n",
       "0                          p4d.24xlarge                   c5n.large   \n",
       "1                            p2.8xlarge                  c5.4xlarge   \n",
       "2                            p3.2xlarge                 c5n.4xlarge   \n",
       "3                           p3.16xlarge                 c5n.2xlarge   \n",
       "4                             p2.xlarge                 c5a.4xlarge   \n",
       "5                           p2.16xlarge                c5d.12xlarge   \n",
       "6                            p3.8xlarge                   c5d.large   \n",
       "7                                                         c5.xlarge   \n",
       "8                                                          c5.metal   \n",
       "9                                                      c5d.18xlarge   \n",
       "10                                                      c5.24xlarge   \n",
       "11                                                      c5n.9xlarge   \n",
       "12                                                      c5.12xlarge   \n",
       "13                                                     c5a.12xlarge   \n",
       "14                                                     c5d.24xlarge   \n",
       "15                                                       c5a.xlarge   \n",
       "16                                                      c5a.2xlarge   \n",
       "17                                                      c5d.4xlarge   \n",
       "18                                                     c5a.24xlarge   \n",
       "19                                                      c5d.2xlarge   \n",
       "20                                                       c5d.xlarge   \n",
       "21                                                         c5.large   \n",
       "22                                                        c5n.metal   \n",
       "23                                                       c5.9xlarge   \n",
       "24                                                        c5d.metal   \n",
       "25                                                     c5n.18xlarge   \n",
       "26                                                      c5a.8xlarge   \n",
       "27                                                     c5a.16xlarge   \n",
       "28                                                       c5.2xlarge   \n",
       "29                                                        c5a.large   \n",
       "30                                                      c5d.9xlarge   \n",
       "31                                                       c5n.xlarge   \n",
       "32                                                      c5.18xlarge   \n",
       "\n",
       "   General Purpose Instances Free Tier Instances  \n",
       "0                 t2.2xlarge            t2.micro  \n",
       "1                   t2.micro                      \n",
       "2                   t2.large                      \n",
       "3                  t2.xlarge                      \n",
       "4                   t2.small                      \n",
       "5                  t2.medium                      \n",
       "6                    t2.nano                      \n",
       "7                                                 \n",
       "8                                                 \n",
       "9                                                 \n",
       "10                                                \n",
       "11                                                \n",
       "12                                                \n",
       "13                                                \n",
       "14                                                \n",
       "15                                                \n",
       "16                                                \n",
       "17                                                \n",
       "18                                                \n",
       "19                                                \n",
       "20                                                \n",
       "21                                                \n",
       "22                                                \n",
       "23                                                \n",
       "24                                                \n",
       "25                                                \n",
       "26                                                \n",
       "27                                                \n",
       "28                                                \n",
       "29                                                \n",
       "30                                                \n",
       "31                                                \n",
       "32                                                "
      ]
     },
     "execution_count": 3,
     "metadata": {},
     "output_type": "execute_result"
    }
   ],
   "source": [
    "domain.workers.instance_type(pandas=True)"
   ]
  },
  {
   "cell_type": "code",
   "execution_count": 4,
   "metadata": {},
   "outputs": [
    {
     "data": {
      "text/plain": [
       "{'msg': 'Worker created successfully!'}"
      ]
     },
     "execution_count": 4,
     "metadata": {},
     "output_type": "execute_result"
    }
   ],
   "source": [
    "domain.workers.create(instance_type=\"t2.large\")"
   ]
  },
  {
   "cell_type": "markdown",
   "metadata": {},
   "source": [
    "### Get all Environments"
   ]
  },
  {
   "cell_type": "code",
   "execution_count": 5,
   "metadata": {},
   "outputs": [
    {
     "data": {
      "text/html": [
       "<div>\n",
       "<style scoped>\n",
       "    .dataframe tbody tr th:only-of-type {\n",
       "        vertical-align: middle;\n",
       "    }\n",
       "\n",
       "    .dataframe tbody tr th {\n",
       "        vertical-align: top;\n",
       "    }\n",
       "\n",
       "    .dataframe thead th {\n",
       "        text-align: right;\n",
       "    }\n",
       "</style>\n",
       "<table border=\"1\" class=\"dataframe\">\n",
       "  <thead>\n",
       "    <tr style=\"text-align: right;\">\n",
       "      <th></th>\n",
       "      <th>id</th>\n",
       "      <th>state</th>\n",
       "      <th>provider</th>\n",
       "      <th>region</th>\n",
       "      <th>instance_type</th>\n",
       "      <th>address</th>\n",
       "      <th>created_at</th>\n",
       "      <th>destroyed_at</th>\n",
       "    </tr>\n",
       "  </thead>\n",
       "  <tbody>\n",
       "    <tr>\n",
       "      <th>0</th>\n",
       "      <td>1</td>\n",
       "      <td>2</td>\n",
       "      <td>aws</td>\n",
       "      <td>us-east-2</td>\n",
       "      <td>t2.large</td>\n",
       "      <td>3.133.113.112:5001</td>\n",
       "      <td>2021-03-31 13:27:32.840550</td>\n",
       "      <td>2021-03-31 13:22:15.716888</td>\n",
       "    </tr>\n",
       "    <tr>\n",
       "      <th>1</th>\n",
       "      <td>2</td>\n",
       "      <td>2</td>\n",
       "      <td>aws</td>\n",
       "      <td>us-east-2</td>\n",
       "      <td>t2.large</td>\n",
       "      <td>3.142.210.61:5001</td>\n",
       "      <td>2021-03-31 13:39:30.726419</td>\n",
       "      <td>2021-03-31 13:22:15.716888</td>\n",
       "    </tr>\n",
       "    <tr>\n",
       "      <th>2</th>\n",
       "      <td>3</td>\n",
       "      <td>2</td>\n",
       "      <td>aws</td>\n",
       "      <td>us-east-2</td>\n",
       "      <td>t2.large</td>\n",
       "      <td>3.15.22.211:5001</td>\n",
       "      <td>2021-03-31 13:53:35.048078</td>\n",
       "      <td>2021-03-31 13:22:15.716888</td>\n",
       "    </tr>\n",
       "  </tbody>\n",
       "</table>\n",
       "</div>"
      ],
      "text/plain": [
       "   id  state provider     region instance_type             address  \\\n",
       "0   1      2      aws  us-east-2      t2.large  3.133.113.112:5001   \n",
       "1   2      2      aws  us-east-2      t2.large   3.142.210.61:5001   \n",
       "2   3      2      aws  us-east-2      t2.large    3.15.22.211:5001   \n",
       "\n",
       "                   created_at                destroyed_at  \n",
       "0  2021-03-31 13:27:32.840550  2021-03-31 13:22:15.716888  \n",
       "1  2021-03-31 13:39:30.726419  2021-03-31 13:22:15.716888  \n",
       "2  2021-03-31 13:53:35.048078  2021-03-31 13:22:15.716888  "
      ]
     },
     "execution_count": 5,
     "metadata": {},
     "output_type": "execute_result"
    }
   ],
   "source": [
    "domain.workers.all(pandas=True)"
   ]
  },
  {
   "cell_type": "markdown",
   "metadata": {},
   "source": [
    "### Get Specific Environment"
   ]
  },
  {
   "cell_type": "code",
   "execution_count": 6,
   "metadata": {},
   "outputs": [],
   "source": [
    "worker = domain.workers[2]"
   ]
  },
  {
   "cell_type": "code",
   "execution_count": 7,
   "metadata": {},
   "outputs": [
    {
     "name": "stdout",
     "output_type": "stream",
     "text": [
      "Worker Provider:  aws\n",
      "Worker Instance Type:  t2.large\n",
      "Worker Region: us-east-2\n"
     ]
    }
   ],
   "source": [
    "print(\"Worker Provider: \", worker.provider)\n",
    "print(\"Worker Instance Type: \", worker.instance_type)\n",
    "print(\"Worker Region:\", worker.region)"
   ]
  },
  {
   "cell_type": "markdown",
   "metadata": {},
   "source": [
    "## Uploading Tensors"
   ]
  },
  {
   "cell_type": "markdown",
   "metadata": {},
   "source": [
    "#### Send a tensor to the Domain"
   ]
  },
  {
   "cell_type": "code",
   "execution_count": 8,
   "metadata": {},
   "outputs": [],
   "source": [
    "import torch as th\n",
    "\n",
    "x = th.tensor([1,2,3,4,5,6])\n",
    "domain_tensor_pointer = x.send(domain, pointable=True, tags=[\"#dataset\"])"
   ]
  },
  {
   "cell_type": "markdown",
   "metadata": {},
   "source": [
    "#### Check Domain Store"
   ]
  },
  {
   "cell_type": "code",
   "execution_count": 9,
   "metadata": {},
   "outputs": [
    {
     "data": {
      "text/html": [
       "<div>\n",
       "<style scoped>\n",
       "    .dataframe tbody tr th:only-of-type {\n",
       "        vertical-align: middle;\n",
       "    }\n",
       "\n",
       "    .dataframe tbody tr th {\n",
       "        vertical-align: top;\n",
       "    }\n",
       "\n",
       "    .dataframe thead th {\n",
       "        text-align: right;\n",
       "    }\n",
       "</style>\n",
       "<table border=\"1\" class=\"dataframe\">\n",
       "  <thead>\n",
       "    <tr style=\"text-align: right;\">\n",
       "      <th></th>\n",
       "      <th>ID</th>\n",
       "      <th>Tags</th>\n",
       "      <th>Description</th>\n",
       "      <th>object_type</th>\n",
       "    </tr>\n",
       "  </thead>\n",
       "  <tbody>\n",
       "    <tr>\n",
       "      <th>0</th>\n",
       "      <td>&lt;UID: 19242cf1f3f44d169411a7f0aa0af1b9&gt;</td>\n",
       "      <td>[#dataset]</td>\n",
       "      <td></td>\n",
       "      <td>&lt;class 'torch.Tensor'&gt;</td>\n",
       "    </tr>\n",
       "  </tbody>\n",
       "</table>\n",
       "</div>"
      ],
      "text/plain": [
       "                                        ID        Tags Description  \\\n",
       "0  <UID: 19242cf1f3f44d169411a7f0aa0af1b9>  [#dataset]               \n",
       "\n",
       "              object_type  \n",
       "0  <class 'torch.Tensor'>  "
      ]
     },
     "execution_count": 9,
     "metadata": {},
     "output_type": "execute_result"
    }
   ],
   "source": [
    "domain.store.pandas"
   ]
  },
  {
   "cell_type": "markdown",
   "metadata": {},
   "source": [
    "#### Move a Domain Tensor to your temporary environment"
   ]
  },
  {
   "cell_type": "code",
   "execution_count": 11,
   "metadata": {},
   "outputs": [],
   "source": [
    "domain.load(domain_tensor_pointer, worker.address)"
   ]
  },
  {
   "cell_type": "markdown",
   "metadata": {},
   "source": [
    "#### Send a private tensor to your temporary environment"
   ]
  },
  {
   "cell_type": "code",
   "execution_count": 12,
   "metadata": {},
   "outputs": [],
   "source": [
    "private_tensor_y = th.tensor([6,5,4,3,2,1])\n",
    "worker_tensor_pointer = private_tensor_y.send(worker, pointable=True, tags=[\"#diff-dataset\"])"
   ]
  },
  {
   "cell_type": "markdown",
   "metadata": {},
   "source": [
    "#### Check Environment Store"
   ]
  },
  {
   "cell_type": "code",
   "execution_count": 13,
   "metadata": {},
   "outputs": [
    {
     "data": {
      "text/html": [
       "<div>\n",
       "<style scoped>\n",
       "    .dataframe tbody tr th:only-of-type {\n",
       "        vertical-align: middle;\n",
       "    }\n",
       "\n",
       "    .dataframe tbody tr th {\n",
       "        vertical-align: top;\n",
       "    }\n",
       "\n",
       "    .dataframe thead th {\n",
       "        text-align: right;\n",
       "    }\n",
       "</style>\n",
       "<table border=\"1\" class=\"dataframe\">\n",
       "  <thead>\n",
       "    <tr style=\"text-align: right;\">\n",
       "      <th></th>\n",
       "      <th>ID</th>\n",
       "      <th>Tags</th>\n",
       "      <th>Description</th>\n",
       "      <th>object_type</th>\n",
       "    </tr>\n",
       "  </thead>\n",
       "  <tbody>\n",
       "    <tr>\n",
       "      <th>0</th>\n",
       "      <td>&lt;UID: 32ed2b67415e4b91b0fa095625109ec4&gt;</td>\n",
       "      <td>[#dataset]</td>\n",
       "      <td></td>\n",
       "      <td>&lt;class 'torch.Tensor'&gt;</td>\n",
       "    </tr>\n",
       "    <tr>\n",
       "      <th>1</th>\n",
       "      <td>&lt;UID: 41944b994fb342059b9a2275106b7207&gt;</td>\n",
       "      <td>[#diff-dataset]</td>\n",
       "      <td></td>\n",
       "      <td>&lt;class 'torch.Tensor'&gt;</td>\n",
       "    </tr>\n",
       "  </tbody>\n",
       "</table>\n",
       "</div>"
      ],
      "text/plain": [
       "                                        ID             Tags Description  \\\n",
       "0  <UID: 32ed2b67415e4b91b0fa095625109ec4>       [#dataset]               \n",
       "1  <UID: 41944b994fb342059b9a2275106b7207>  [#diff-dataset]               \n",
       "\n",
       "              object_type  \n",
       "0  <class 'torch.Tensor'>  \n",
       "1  <class 'torch.Tensor'>  "
      ]
     },
     "execution_count": 13,
     "metadata": {},
     "output_type": "execute_result"
    }
   ],
   "source": [
    "worker.store.pandas"
   ]
  },
  {
   "cell_type": "markdown",
   "metadata": {},
   "source": [
    "### Perform computation using private environment"
   ]
  },
  {
   "cell_type": "code",
   "execution_count": 14,
   "metadata": {},
   "outputs": [],
   "source": [
    "result = worker.store[\"#dataset\"] + worker.store[\"#diff-dataset\"]"
   ]
  },
  {
   "cell_type": "markdown",
   "metadata": {},
   "source": [
    "### Save/Send results from env to the Domain"
   ]
  },
  {
   "cell_type": "code",
   "execution_count": 15,
   "metadata": {},
   "outputs": [],
   "source": [
    "worker.save(result)"
   ]
  },
  {
   "cell_type": "code",
   "execution_count": 16,
   "metadata": {},
   "outputs": [
    {
     "data": {
      "text/html": [
       "<div>\n",
       "<style scoped>\n",
       "    .dataframe tbody tr th:only-of-type {\n",
       "        vertical-align: middle;\n",
       "    }\n",
       "\n",
       "    .dataframe tbody tr th {\n",
       "        vertical-align: top;\n",
       "    }\n",
       "\n",
       "    .dataframe thead th {\n",
       "        text-align: right;\n",
       "    }\n",
       "</style>\n",
       "<table border=\"1\" class=\"dataframe\">\n",
       "  <thead>\n",
       "    <tr style=\"text-align: right;\">\n",
       "      <th></th>\n",
       "      <th>ID</th>\n",
       "      <th>Tags</th>\n",
       "      <th>Description</th>\n",
       "      <th>object_type</th>\n",
       "    </tr>\n",
       "  </thead>\n",
       "  <tbody>\n",
       "    <tr>\n",
       "      <th>0</th>\n",
       "      <td>&lt;UID: 19242cf1f3f44d169411a7f0aa0af1b9&gt;</td>\n",
       "      <td>[#dataset]</td>\n",
       "      <td></td>\n",
       "      <td>&lt;class 'torch.Tensor'&gt;</td>\n",
       "    </tr>\n",
       "    <tr>\n",
       "      <th>1</th>\n",
       "      <td>&lt;UID: dcbc9662a7b44b0bbf95963bdc4d90b9&gt;</td>\n",
       "      <td>[#dataset, #diff-dataset, __add__]</td>\n",
       "      <td></td>\n",
       "      <td>&lt;class 'torch.Tensor'&gt;</td>\n",
       "    </tr>\n",
       "  </tbody>\n",
       "</table>\n",
       "</div>"
      ],
      "text/plain": [
       "                                        ID  \\\n",
       "0  <UID: 19242cf1f3f44d169411a7f0aa0af1b9>   \n",
       "1  <UID: dcbc9662a7b44b0bbf95963bdc4d90b9>   \n",
       "\n",
       "                                 Tags Description             object_type  \n",
       "0                          [#dataset]              <class 'torch.Tensor'>  \n",
       "1  [#dataset, #diff-dataset, __add__]              <class 'torch.Tensor'>  "
      ]
     },
     "execution_count": 16,
     "metadata": {},
     "output_type": "execute_result"
    }
   ],
   "source": [
    "domain.store.pandas"
   ]
  },
  {
   "cell_type": "markdown",
   "metadata": {},
   "source": [
    "### Perform Request to get access to datasets"
   ]
  },
  {
   "cell_type": "code",
   "execution_count": 20,
   "metadata": {},
   "outputs": [],
   "source": [
    "domain.store[1].request(reason=\"I would like to get this tensor\")"
   ]
  },
  {
   "cell_type": "markdown",
   "metadata": {},
   "source": [
    "### Evaluate data access requests"
   ]
  },
  {
   "cell_type": "code",
   "execution_count": 21,
   "metadata": {},
   "outputs": [
    {
     "data": {
      "text/html": [
       "<div>\n",
       "<style scoped>\n",
       "    .dataframe tbody tr th:only-of-type {\n",
       "        vertical-align: middle;\n",
       "    }\n",
       "\n",
       "    .dataframe tbody tr th {\n",
       "        vertical-align: top;\n",
       "    }\n",
       "\n",
       "    .dataframe thead th {\n",
       "        text-align: right;\n",
       "    }\n",
       "</style>\n",
       "<table border=\"1\" class=\"dataframe\">\n",
       "  <thead>\n",
       "    <tr style=\"text-align: right;\">\n",
       "      <th></th>\n",
       "      <th>Requested Object's tags</th>\n",
       "      <th>Reason</th>\n",
       "      <th>Request ID</th>\n",
       "      <th>Requested Object's ID</th>\n",
       "      <th>Requested Object's type</th>\n",
       "    </tr>\n",
       "  </thead>\n",
       "  <tbody>\n",
       "    <tr>\n",
       "      <th>0</th>\n",
       "      <td>[#dataset, #diff-dataset, __add__]</td>\n",
       "      <td>I would like to get this tensor</td>\n",
       "      <td>&lt;UID: 552995c0f7ee4bafb12df5a5c6e553db&gt;</td>\n",
       "      <td>&lt;UID: dcbc9662a7b44b0bbf95963bdc4d90b9&gt;</td>\n",
       "      <td>&lt;class 'torch.Tensor'&gt;</td>\n",
       "    </tr>\n",
       "  </tbody>\n",
       "</table>\n",
       "</div>"
      ],
      "text/plain": [
       "              Requested Object's tags                           Reason  \\\n",
       "0  [#dataset, #diff-dataset, __add__]  I would like to get this tensor   \n",
       "\n",
       "                                Request ID  \\\n",
       "0  <UID: 552995c0f7ee4bafb12df5a5c6e553db>   \n",
       "\n",
       "                     Requested Object's ID Requested Object's type  \n",
       "0  <UID: dcbc9662a7b44b0bbf95963bdc4d90b9>  <class 'torch.Tensor'>  "
      ]
     },
     "execution_count": 21,
     "metadata": {},
     "output_type": "execute_result"
    }
   ],
   "source": [
    "domain.requests.pandas"
   ]
  },
  {
   "cell_type": "code",
   "execution_count": 22,
   "metadata": {},
   "outputs": [],
   "source": [
    "domain.requests[0].accept()"
   ]
  },
  {
   "cell_type": "markdown",
   "metadata": {},
   "source": [
    "### Retrieve the real data value"
   ]
  },
  {
   "cell_type": "code",
   "execution_count": 23,
   "metadata": {},
   "outputs": [
    {
     "data": {
      "text/plain": [
       "tensor([7, 7, 7, 7, 7, 7])"
      ]
     },
     "execution_count": 23,
     "metadata": {},
     "output_type": "execute_result"
    }
   ],
   "source": [
    "domain.store[1].get()"
   ]
  },
  {
   "cell_type": "markdown",
   "metadata": {},
   "source": [
    "### Delete Environment"
   ]
  },
  {
   "cell_type": "code",
   "execution_count": 24,
   "metadata": {},
   "outputs": [],
   "source": [
    "del domain.workers[1]"
   ]
  },
  {
   "cell_type": "code",
   "execution_count": 25,
   "metadata": {},
   "outputs": [
    {
     "data": {
      "text/html": [
       "<div>\n",
       "<style scoped>\n",
       "    .dataframe tbody tr th:only-of-type {\n",
       "        vertical-align: middle;\n",
       "    }\n",
       "\n",
       "    .dataframe tbody tr th {\n",
       "        vertical-align: top;\n",
       "    }\n",
       "\n",
       "    .dataframe thead th {\n",
       "        text-align: right;\n",
       "    }\n",
       "</style>\n",
       "<table border=\"1\" class=\"dataframe\">\n",
       "  <thead>\n",
       "    <tr style=\"text-align: right;\">\n",
       "      <th></th>\n",
       "      <th>id</th>\n",
       "      <th>state</th>\n",
       "      <th>provider</th>\n",
       "      <th>region</th>\n",
       "      <th>instance_type</th>\n",
       "      <th>address</th>\n",
       "      <th>created_at</th>\n",
       "      <th>destroyed_at</th>\n",
       "    </tr>\n",
       "  </thead>\n",
       "  <tbody>\n",
       "    <tr>\n",
       "      <th>0</th>\n",
       "      <td>1</td>\n",
       "      <td>3</td>\n",
       "      <td>aws</td>\n",
       "      <td>us-east-2</td>\n",
       "      <td>t2.large</td>\n",
       "      <td>3.133.113.112:5001</td>\n",
       "      <td>2021-03-31 13:27:32.840550</td>\n",
       "      <td>2021-03-31 13:56:22.009324</td>\n",
       "    </tr>\n",
       "    <tr>\n",
       "      <th>1</th>\n",
       "      <td>2</td>\n",
       "      <td>2</td>\n",
       "      <td>aws</td>\n",
       "      <td>us-east-2</td>\n",
       "      <td>t2.large</td>\n",
       "      <td>3.142.210.61:5001</td>\n",
       "      <td>2021-03-31 13:39:30.726419</td>\n",
       "      <td>2021-03-31 13:22:15.716888</td>\n",
       "    </tr>\n",
       "    <tr>\n",
       "      <th>2</th>\n",
       "      <td>3</td>\n",
       "      <td>2</td>\n",
       "      <td>aws</td>\n",
       "      <td>us-east-2</td>\n",
       "      <td>t2.large</td>\n",
       "      <td>3.15.22.211:5001</td>\n",
       "      <td>2021-03-31 13:53:35.048078</td>\n",
       "      <td>2021-03-31 13:22:15.716888</td>\n",
       "    </tr>\n",
       "  </tbody>\n",
       "</table>\n",
       "</div>"
      ],
      "text/plain": [
       "   id  state provider     region instance_type             address  \\\n",
       "0   1      3      aws  us-east-2      t2.large  3.133.113.112:5001   \n",
       "1   2      2      aws  us-east-2      t2.large   3.142.210.61:5001   \n",
       "2   3      2      aws  us-east-2      t2.large    3.15.22.211:5001   \n",
       "\n",
       "                   created_at                destroyed_at  \n",
       "0  2021-03-31 13:27:32.840550  2021-03-31 13:56:22.009324  \n",
       "1  2021-03-31 13:39:30.726419  2021-03-31 13:22:15.716888  \n",
       "2  2021-03-31 13:53:35.048078  2021-03-31 13:22:15.716888  "
      ]
     },
     "execution_count": 25,
     "metadata": {},
     "output_type": "execute_result"
    }
   ],
   "source": [
    "domain.workers.all(pandas=True)"
   ]
  }
 ],
 "metadata": {
  "kernelspec": {
   "display_name": "Python 3",
   "language": "python",
   "name": "python3"
  },
  "language_info": {
   "codemirror_mode": {
    "name": "ipython",
    "version": 3
   },
   "file_extension": ".py",
   "mimetype": "text/x-python",
   "name": "python",
   "nbconvert_exporter": "python",
   "pygments_lexer": "ipython3",
   "version": "3.8.5"
  }
 },
 "nbformat": 4,
 "nbformat_minor": 4
}

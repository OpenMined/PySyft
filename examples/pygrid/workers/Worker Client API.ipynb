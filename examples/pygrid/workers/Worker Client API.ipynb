{
 "cells": [
  {
   "cell_type": "markdown",
   "metadata": {},
   "source": [
    "# PyGrid Client Worker API"
   ]
  },
  {
   "cell_type": "markdown",
   "metadata": {},
   "source": [
    "### Import Libs"
   ]
  },
  {
   "cell_type": "code",
   "execution_count": 1,
   "metadata": {},
   "outputs": [],
   "source": [
    "from syft.grid.client.client import connect\n",
    "from syft.grid.client.grid_connection import GridHTTPConnection\n",
    "from syft.core.node.domain.client import DomainClient\n",
    "\n",
    "import syft as sy\n",
    "import torch as th\n",
    "\n",
    "sy.VERBOSE = False"
   ]
  },
  {
   "cell_type": "markdown",
   "metadata": {},
   "source": [
    "### Connect performing authentication process"
   ]
  },
  {
   "cell_type": "code",
   "execution_count": 2,
   "metadata": {},
   "outputs": [],
   "source": [
    "domain = connect(\n",
    "    url=\"http://localhost:5000\", # Domain Address\n",
    "    credentials={\"email\":\"admin@email.com\", \"password\":\"pwd123\"},\n",
    "    conn_type= GridHTTPConnection, # HTTP Connection Protocol\n",
    "    client_type=DomainClient) # Domain Client type"
   ]
  },
  {
   "cell_type": "markdown",
   "metadata": {},
   "source": [
    "### Create a new workers/environments"
   ]
  },
  {
   "cell_type": "code",
   "execution_count": 3,
   "metadata": {},
   "outputs": [
    {
     "data": {
      "text/plain": [
       "{'msg': 'Worker created succesfully!'}"
      ]
     },
     "execution_count": 3,
     "metadata": {},
     "output_type": "execute_result"
    }
   ],
   "source": [
    "domain.workers.create(\n",
    "    name=\"Diabetes Research Environment\",\n",
    "    address=\"http://255.255.255.255\",\n",
    "    memory=\"16gb\",\n",
    "    instance=\"EC2\",\n",
    "    gpu=\"Tesla V100\")\n",
    "\n",
    "domain.workers.create(\n",
    "    name=\"Breast Cancer Research Environment\",\n",
    "    address=\"http://255.255.255.255\",\n",
    "    memory=\"32gb\",\n",
    "    instance=\"EC2\",\n",
    "    gpu=\"Tesla V100\")\n",
    "\n",
    "domain.workers.create(\n",
    "    name=\"Dementia Research Environment\",\n",
    "    address=\"http://255.255.255.255\",\n",
    "    memory=\"32gb\",\n",
    "    instance=\"EC2\",\n",
    "    gpu=\"Tesla V100\")"
   ]
  },
  {
   "cell_type": "markdown",
   "metadata": {},
   "source": [
    "### Get all Environments"
   ]
  },
  {
   "cell_type": "code",
   "execution_count": 3,
   "metadata": {},
   "outputs": [
    {
     "data": {
      "text/html": [
       "<div>\n",
       "<style scoped>\n",
       "    .dataframe tbody tr th:only-of-type {\n",
       "        vertical-align: middle;\n",
       "    }\n",
       "\n",
       "    .dataframe tbody tr th {\n",
       "        vertical-align: top;\n",
       "    }\n",
       "\n",
       "    .dataframe thead th {\n",
       "        text-align: right;\n",
       "    }\n",
       "</style>\n",
       "<table border=\"1\" class=\"dataframe\">\n",
       "  <thead>\n",
       "    <tr style=\"text-align: right;\">\n",
       "      <th></th>\n",
       "      <th>id</th>\n",
       "      <th>name</th>\n",
       "      <th>address</th>\n",
       "      <th>syft_address</th>\n",
       "      <th>memory</th>\n",
       "      <th>instance</th>\n",
       "      <th>gpu</th>\n",
       "    </tr>\n",
       "  </thead>\n",
       "  <tbody>\n",
       "    <tr>\n",
       "      <th>0</th>\n",
       "      <td>1</td>\n",
       "      <td>Diabetes Research Environment</td>\n",
       "      <td>http://255.255.255.255</td>\n",
       "      <td>None</td>\n",
       "      <td>16gb</td>\n",
       "      <td>EC2</td>\n",
       "      <td>Tesla V100</td>\n",
       "    </tr>\n",
       "    <tr>\n",
       "      <th>1</th>\n",
       "      <td>2</td>\n",
       "      <td>Breast Cancer Research Environment</td>\n",
       "      <td>http://255.255.255.255</td>\n",
       "      <td>None</td>\n",
       "      <td>32gb</td>\n",
       "      <td>EC2</td>\n",
       "      <td>Tesla V100</td>\n",
       "    </tr>\n",
       "    <tr>\n",
       "      <th>2</th>\n",
       "      <td>3</td>\n",
       "      <td>Dementia Research Environment</td>\n",
       "      <td>http://255.255.255.255</td>\n",
       "      <td>None</td>\n",
       "      <td>32gb</td>\n",
       "      <td>EC2</td>\n",
       "      <td>Tesla V100</td>\n",
       "    </tr>\n",
       "  </tbody>\n",
       "</table>\n",
       "</div>"
      ],
      "text/plain": [
       "   id                                name                 address  \\\n",
       "0   1       Diabetes Research Environment  http://255.255.255.255   \n",
       "1   2  Breast Cancer Research Environment  http://255.255.255.255   \n",
       "2   3       Dementia Research Environment  http://255.255.255.255   \n",
       "\n",
       "  syft_address memory instance         gpu  \n",
       "0         None   16gb      EC2  Tesla V100  \n",
       "1         None   32gb      EC2  Tesla V100  \n",
       "2         None   32gb      EC2  Tesla V100  "
      ]
     },
     "execution_count": 3,
     "metadata": {},
     "output_type": "execute_result"
    }
   ],
   "source": [
    "domain.workers.all(pandas=True)"
   ]
  },
  {
   "cell_type": "markdown",
   "metadata": {},
   "source": [
    "### Get Specific Environment"
   ]
  },
  {
   "cell_type": "code",
   "execution_count": 4,
   "metadata": {},
   "outputs": [
    {
     "name": "stdout",
     "output_type": "stream",
     "text": [
      "Worker name:  Diabetes Research Environment\n",
      "Worker GPU:  Tesla V100\n",
      "Worker Instance:  EC2\n",
      "Worker Memory:  16gb\n"
     ]
    }
   ],
   "source": [
    "print(\"Worker name: \", domain.workers[1].name)\n",
    "print(\"Worker GPU: \", domain.workers[1].gpu)\n",
    "print(\"Worker Instance: \", domain.workers[1].instance)\n",
    "print(\"Worker Memory: \", domain.workers[1].memory)"
   ]
  },
  {
   "cell_type": "markdown",
   "metadata": {},
   "source": [
    "### Update Environment"
   ]
  },
  {
   "cell_type": "code",
   "execution_count": 5,
   "metadata": {},
   "outputs": [
    {
     "data": {
      "text/plain": [
       "{'msg': 'Worker was updated succesfully!'}"
      ]
     },
     "execution_count": 5,
     "metadata": {},
     "output_type": "execute_result"
    }
   ],
   "source": [
    "domain.workers.update(worker_id=1, name=\"Testing Rename Environment\", memory=\"32gb\")"
   ]
  },
  {
   "cell_type": "code",
   "execution_count": 6,
   "metadata": {},
   "outputs": [],
   "source": [
    "assert domain.workers[1].name == \"Testing Rename Environment\"\n",
    "assert domain.workers[1].memory == \"32gb\""
   ]
  },
  {
   "cell_type": "markdown",
   "metadata": {},
   "source": [
    "### Delete Environment"
   ]
  },
  {
   "cell_type": "code",
   "execution_count": 7,
   "metadata": {},
   "outputs": [],
   "source": [
    "del domain.workers[1]"
   ]
  },
  {
   "cell_type": "code",
   "execution_count": 8,
   "metadata": {},
   "outputs": [
    {
     "data": {
      "text/html": [
       "<div>\n",
       "<style scoped>\n",
       "    .dataframe tbody tr th:only-of-type {\n",
       "        vertical-align: middle;\n",
       "    }\n",
       "\n",
       "    .dataframe tbody tr th {\n",
       "        vertical-align: top;\n",
       "    }\n",
       "\n",
       "    .dataframe thead th {\n",
       "        text-align: right;\n",
       "    }\n",
       "</style>\n",
       "<table border=\"1\" class=\"dataframe\">\n",
       "  <thead>\n",
       "    <tr style=\"text-align: right;\">\n",
       "      <th></th>\n",
       "      <th>id</th>\n",
       "      <th>name</th>\n",
       "      <th>address</th>\n",
       "      <th>syft_address</th>\n",
       "      <th>memory</th>\n",
       "      <th>instance</th>\n",
       "      <th>gpu</th>\n",
       "    </tr>\n",
       "  </thead>\n",
       "  <tbody>\n",
       "    <tr>\n",
       "      <th>0</th>\n",
       "      <td>2</td>\n",
       "      <td>Breast Cancer Research Environment</td>\n",
       "      <td>http://255.255.255.255</td>\n",
       "      <td>None</td>\n",
       "      <td>32gb</td>\n",
       "      <td>EC2</td>\n",
       "      <td>Tesla V100</td>\n",
       "    </tr>\n",
       "    <tr>\n",
       "      <th>1</th>\n",
       "      <td>3</td>\n",
       "      <td>Dementia Research Environment</td>\n",
       "      <td>http://255.255.255.255</td>\n",
       "      <td>None</td>\n",
       "      <td>32gb</td>\n",
       "      <td>EC2</td>\n",
       "      <td>Tesla V100</td>\n",
       "    </tr>\n",
       "  </tbody>\n",
       "</table>\n",
       "</div>"
      ],
      "text/plain": [
       "   id                                name                 address  \\\n",
       "0   2  Breast Cancer Research Environment  http://255.255.255.255   \n",
       "1   3       Dementia Research Environment  http://255.255.255.255   \n",
       "\n",
       "  syft_address memory instance         gpu  \n",
       "0         None   32gb      EC2  Tesla V100  \n",
       "1         None   32gb      EC2  Tesla V100  "
      ]
     },
     "execution_count": 8,
     "metadata": {},
     "output_type": "execute_result"
    }
   ],
   "source": [
    "domain.workers.all(pandas=True)"
   ]
  }
 ],
 "metadata": {
  "kernelspec": {
   "display_name": "Python 3",
   "language": "python",
   "name": "python3"
  },
  "language_info": {
   "codemirror_mode": {
    "name": "ipython",
    "version": 3
   },
   "file_extension": ".py",
   "mimetype": "text/x-python",
   "name": "python",
   "nbconvert_exporter": "python",
   "pygments_lexer": "ipython3",
   "version": "3.8.5"
  }
 },
 "nbformat": 4,
 "nbformat_minor": 4
}

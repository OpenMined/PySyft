{
 "cells": [
  {
   "cell_type": "markdown",
   "metadata": {},
   "source": [
    "# PyGrid Client User API"
   ]
  },
  {
   "cell_type": "markdown",
   "metadata": {},
   "source": [
    "### Import Libs"
   ]
  },
  {
   "cell_type": "code",
   "execution_count": 1,
   "metadata": {},
   "outputs": [],
   "source": [
    "from syft.grid.client.client import connect\n",
    "from syft.grid.client.grid_connection import GridHTTPConnection\n",
    "\n",
    "import syft as sy\n",
    "import torch as th\n",
    "\n",
    "sy.VERBOSE = False"
   ]
  },
  {
   "cell_type": "markdown",
   "metadata": {},
   "source": [
    "### Connect without authenticate"
   ]
  },
  {
   "cell_type": "code",
   "execution_count": 4,
   "metadata": {},
   "outputs": [],
   "source": [
    "domain = connect(\n",
    "    url=\"http://localhost:5001\", # Domain Address\n",
    "    conn_type= GridHTTPConnection, # HTTP Connection Protocol\n",
    ")"
   ]
  },
  {
   "cell_type": "markdown",
   "metadata": {},
   "source": [
    "### Create the first user account\n",
    "This account will be the owner"
   ]
  },
  {
   "cell_type": "code",
   "execution_count": 5,
   "metadata": {},
   "outputs": [
    {
     "data": {
      "text/plain": [
       "{'message': 'User created successfully!'}"
      ]
     },
     "execution_count": 5,
     "metadata": {},
     "output_type": "execute_result"
    }
   ],
   "source": [
    "domain.users.create(email=\"admin@email.com\", password=\"pwd123\")"
   ]
  },
  {
   "cell_type": "markdown",
   "metadata": {},
   "source": [
    "### Connect performing authentication process"
   ]
  },
  {
   "cell_type": "code",
   "execution_count": 4,
   "metadata": {},
   "outputs": [],
   "source": [
    "domain = connect(\n",
    "    url=\"http://localhost:5000\", # Domain Address\n",
    "    credentials={\"email\":\"admin@email.com\", \"password\":\"pwd123\"},\n",
    "    conn_type= GridHTTPConnection, # HTTP Connection Protocol\n",
    ")"
   ]
  },
  {
   "cell_type": "markdown",
   "metadata": {},
   "source": [
    "### Create a new users"
   ]
  },
  {
   "cell_type": "code",
   "execution_count": 5,
   "metadata": {},
   "outputs": [
    {
     "data": {
      "text/plain": [
       "{'message': 'User created successfully!'}"
      ]
     },
     "execution_count": 5,
     "metadata": {},
     "output_type": "execute_result"
    }
   ],
   "source": [
    "domain.users.create(email=\"user2@email.com\", password=\"user1234\", role=\"Administrator\")\n",
    "domain.users.create(email=\"user3@email.com\", password=\"user2pwd\", role=\"User\")\n",
    "domain.users.create(email=\"user4@email.com\", password=\"user3pwd\", role=\"Compliance Officer\")\n",
    "domain.users.create(email=\"user5@email.com\", password=\"user4pwd\", role=\"User\")"
   ]
  },
  {
   "cell_type": "markdown",
   "metadata": {},
   "source": [
    "### Get All Users"
   ]
  },
  {
   "cell_type": "code",
   "execution_count": 6,
   "metadata": {},
   "outputs": [
    {
     "data": {
      "text/html": [
       "<div>\n",
       "<style scoped>\n",
       "    .dataframe tbody tr th:only-of-type {\n",
       "        vertical-align: middle;\n",
       "    }\n",
       "\n",
       "    .dataframe tbody tr th {\n",
       "        vertical-align: top;\n",
       "    }\n",
       "\n",
       "    .dataframe thead th {\n",
       "        text-align: right;\n",
       "    }\n",
       "</style>\n",
       "<table border=\"1\" class=\"dataframe\">\n",
       "  <thead>\n",
       "    <tr style=\"text-align: right;\">\n",
       "      <th></th>\n",
       "      <th>id</th>\n",
       "      <th>email</th>\n",
       "      <th>private_key</th>\n",
       "      <th>verify_key</th>\n",
       "      <th>role</th>\n",
       "      <th>groups</th>\n",
       "    </tr>\n",
       "  </thead>\n",
       "  <tbody>\n",
       "    <tr>\n",
       "      <th>0</th>\n",
       "      <td>1</td>\n",
       "      <td>admin@email.com</td>\n",
       "      <td>29939ab5ed1b996379ad25fe9c510e29fb47ccbaccc0d8...</td>\n",
       "      <td>297cf2c850e4c90471b18c70b127a5c9087a93bb679219...</td>\n",
       "      <td>4</td>\n",
       "      <td>[]</td>\n",
       "    </tr>\n",
       "    <tr>\n",
       "      <th>1</th>\n",
       "      <td>2</td>\n",
       "      <td>user2@email.com</td>\n",
       "      <td>152962c9f7a3cd9b8883093b107701ae26f1c1b58a0dd2...</td>\n",
       "      <td>a8ff1d1689da51f3604520e85d68eb2dfa706bd3d09d6a...</td>\n",
       "      <td>3</td>\n",
       "      <td>[]</td>\n",
       "    </tr>\n",
       "    <tr>\n",
       "      <th>2</th>\n",
       "      <td>3</td>\n",
       "      <td>user3@email.com</td>\n",
       "      <td>2f3110c1f9fda3fc0ebe8c99a1791fea8af17e7a9438dc...</td>\n",
       "      <td>04e6296476a63b76892f9ebba32fbbb2f701517137ca54...</td>\n",
       "      <td>1</td>\n",
       "      <td>[]</td>\n",
       "    </tr>\n",
       "    <tr>\n",
       "      <th>3</th>\n",
       "      <td>4</td>\n",
       "      <td>user4@email.com</td>\n",
       "      <td>9203dd6e16f80facbb8becefb3bff7b85b6803e090dc6d...</td>\n",
       "      <td>fc1ab259d94cc0e9faa213347f49dd7931a5a81a06858e...</td>\n",
       "      <td>2</td>\n",
       "      <td>[]</td>\n",
       "    </tr>\n",
       "    <tr>\n",
       "      <th>4</th>\n",
       "      <td>5</td>\n",
       "      <td>user5@email.com</td>\n",
       "      <td>0c3fe4085708757ca54c04b13b8fa2c2611c036585a09d...</td>\n",
       "      <td>3a5063949d8fdd8ef85f24e0e34fbaff442bef601fa9cc...</td>\n",
       "      <td>1</td>\n",
       "      <td>[]</td>\n",
       "    </tr>\n",
       "  </tbody>\n",
       "</table>\n",
       "</div>"
      ],
      "text/plain": [
       "   id            email                                        private_key  \\\n",
       "0   1  admin@email.com  29939ab5ed1b996379ad25fe9c510e29fb47ccbaccc0d8...   \n",
       "1   2  user2@email.com  152962c9f7a3cd9b8883093b107701ae26f1c1b58a0dd2...   \n",
       "2   3  user3@email.com  2f3110c1f9fda3fc0ebe8c99a1791fea8af17e7a9438dc...   \n",
       "3   4  user4@email.com  9203dd6e16f80facbb8becefb3bff7b85b6803e090dc6d...   \n",
       "4   5  user5@email.com  0c3fe4085708757ca54c04b13b8fa2c2611c036585a09d...   \n",
       "\n",
       "                                          verify_key  role groups  \n",
       "0  297cf2c850e4c90471b18c70b127a5c9087a93bb679219...     4     []  \n",
       "1  a8ff1d1689da51f3604520e85d68eb2dfa706bd3d09d6a...     3     []  \n",
       "2  04e6296476a63b76892f9ebba32fbbb2f701517137ca54...     1     []  \n",
       "3  fc1ab259d94cc0e9faa213347f49dd7931a5a81a06858e...     2     []  \n",
       "4  3a5063949d8fdd8ef85f24e0e34fbaff442bef601fa9cc...     1     []  "
      ]
     },
     "execution_count": 6,
     "metadata": {},
     "output_type": "execute_result"
    }
   ],
   "source": [
    "domain.users.all(pandas=True)"
   ]
  },
  {
   "cell_type": "markdown",
   "metadata": {},
   "source": [
    "### Get Specifc User"
   ]
  },
  {
   "cell_type": "code",
   "execution_count": 7,
   "metadata": {},
   "outputs": [
    {
     "name": "stdout",
     "output_type": "stream",
     "text": [
      "Email:  user2@email.com\n",
      "Role:  3\n",
      "Private Key:  152962c9f7a3cd9b8883093b107701ae26f1c1b58a0dd2d11b2148d7b39b5e19\n",
      "Verify Key:  a8ff1d1689da51f3604520e85d68eb2dfa706bd3d09d6adfc9cc31ecb04d7c8d\n"
     ]
    }
   ],
   "source": [
    "print(\"Email: \", domain.users[2].email)\n",
    "print(\"Role: \", domain.users[2].role)\n",
    "print(\"Private Key: \", domain.users[2].private_key)\n",
    "print(\"Verify Key: \", domain.users[2].verify_key)"
   ]
  },
  {
   "cell_type": "markdown",
   "metadata": {},
   "source": [
    "## Update User configs"
   ]
  },
  {
   "cell_type": "code",
   "execution_count": 8,
   "metadata": {},
   "outputs": [
    {
     "data": {
      "text/plain": [
       "{'message': 'User updated successfully!'}"
      ]
     },
     "execution_count": 8,
     "metadata": {},
     "output_type": "execute_result"
    }
   ],
   "source": [
    "domain.users.update(user_id=2, email=\"new_email@email\", password=\"new_pwd\")"
   ]
  },
  {
   "cell_type": "code",
   "execution_count": 9,
   "metadata": {},
   "outputs": [],
   "source": [
    "assert domain.users[2].email == \"new_email@email\""
   ]
  },
  {
   "cell_type": "markdown",
   "metadata": {},
   "source": [
    "### Delete User"
   ]
  },
  {
   "cell_type": "code",
   "execution_count": 10,
   "metadata": {},
   "outputs": [],
   "source": [
    "del domain.users[2]"
   ]
  },
  {
   "cell_type": "code",
   "execution_count": 11,
   "metadata": {},
   "outputs": [
    {
     "data": {
      "text/html": [
       "<div>\n",
       "<style scoped>\n",
       "    .dataframe tbody tr th:only-of-type {\n",
       "        vertical-align: middle;\n",
       "    }\n",
       "\n",
       "    .dataframe tbody tr th {\n",
       "        vertical-align: top;\n",
       "    }\n",
       "\n",
       "    .dataframe thead th {\n",
       "        text-align: right;\n",
       "    }\n",
       "</style>\n",
       "<table border=\"1\" class=\"dataframe\">\n",
       "  <thead>\n",
       "    <tr style=\"text-align: right;\">\n",
       "      <th></th>\n",
       "      <th>id</th>\n",
       "      <th>email</th>\n",
       "      <th>private_key</th>\n",
       "      <th>verify_key</th>\n",
       "      <th>role</th>\n",
       "      <th>groups</th>\n",
       "    </tr>\n",
       "  </thead>\n",
       "  <tbody>\n",
       "    <tr>\n",
       "      <th>0</th>\n",
       "      <td>1</td>\n",
       "      <td>admin@email.com</td>\n",
       "      <td>29939ab5ed1b996379ad25fe9c510e29fb47ccbaccc0d8...</td>\n",
       "      <td>297cf2c850e4c90471b18c70b127a5c9087a93bb679219...</td>\n",
       "      <td>4</td>\n",
       "      <td>[]</td>\n",
       "    </tr>\n",
       "    <tr>\n",
       "      <th>1</th>\n",
       "      <td>3</td>\n",
       "      <td>user3@email.com</td>\n",
       "      <td>2f3110c1f9fda3fc0ebe8c99a1791fea8af17e7a9438dc...</td>\n",
       "      <td>04e6296476a63b76892f9ebba32fbbb2f701517137ca54...</td>\n",
       "      <td>1</td>\n",
       "      <td>[]</td>\n",
       "    </tr>\n",
       "    <tr>\n",
       "      <th>2</th>\n",
       "      <td>4</td>\n",
       "      <td>user4@email.com</td>\n",
       "      <td>9203dd6e16f80facbb8becefb3bff7b85b6803e090dc6d...</td>\n",
       "      <td>fc1ab259d94cc0e9faa213347f49dd7931a5a81a06858e...</td>\n",
       "      <td>2</td>\n",
       "      <td>[]</td>\n",
       "    </tr>\n",
       "    <tr>\n",
       "      <th>3</th>\n",
       "      <td>5</td>\n",
       "      <td>user5@email.com</td>\n",
       "      <td>0c3fe4085708757ca54c04b13b8fa2c2611c036585a09d...</td>\n",
       "      <td>3a5063949d8fdd8ef85f24e0e34fbaff442bef601fa9cc...</td>\n",
       "      <td>1</td>\n",
       "      <td>[]</td>\n",
       "    </tr>\n",
       "  </tbody>\n",
       "</table>\n",
       "</div>"
      ],
      "text/plain": [
       "   id            email                                        private_key  \\\n",
       "0   1  admin@email.com  29939ab5ed1b996379ad25fe9c510e29fb47ccbaccc0d8...   \n",
       "1   3  user3@email.com  2f3110c1f9fda3fc0ebe8c99a1791fea8af17e7a9438dc...   \n",
       "2   4  user4@email.com  9203dd6e16f80facbb8becefb3bff7b85b6803e090dc6d...   \n",
       "3   5  user5@email.com  0c3fe4085708757ca54c04b13b8fa2c2611c036585a09d...   \n",
       "\n",
       "                                          verify_key  role groups  \n",
       "0  297cf2c850e4c90471b18c70b127a5c9087a93bb679219...     4     []  \n",
       "1  04e6296476a63b76892f9ebba32fbbb2f701517137ca54...     1     []  \n",
       "2  fc1ab259d94cc0e9faa213347f49dd7931a5a81a06858e...     2     []  \n",
       "3  3a5063949d8fdd8ef85f24e0e34fbaff442bef601fa9cc...     1     []  "
      ]
     },
     "execution_count": 11,
     "metadata": {},
     "output_type": "execute_result"
    }
   ],
   "source": [
    "domain.users.all(pandas=True)"
   ]
  }
 ],
 "metadata": {
  "kernelspec": {
   "display_name": "Python 3",
   "language": "python",
   "name": "python3"
  },
  "language_info": {
   "codemirror_mode": {
    "name": "ipython",
    "version": 3
   },
   "file_extension": ".py",
   "mimetype": "text/x-python",
   "name": "python",
   "nbconvert_exporter": "python",
   "pygments_lexer": "ipython3",
   "version": "3.8.5"
  }
 },
 "nbformat": 4,
 "nbformat_minor": 4
}

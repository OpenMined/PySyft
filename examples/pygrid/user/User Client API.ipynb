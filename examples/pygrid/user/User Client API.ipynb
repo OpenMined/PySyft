{
 "cells": [
  {
   "cell_type": "markdown",
   "metadata": {},
   "source": [
    "# PyGrid Client User API"
   ]
  },
  {
   "cell_type": "markdown",
   "metadata": {},
   "source": [
    "### Import Libs"
   ]
  },
  {
   "cell_type": "code",
   "execution_count": 1,
   "metadata": {},
   "outputs": [],
   "source": [
    "from syft.grid.client.client import connect\n",
    "from syft.grid.client.grid_connection import GridHTTPConnection\n",
    "from syft.core.node.domain.client import DomainClient\n",
    "\n",
    "import syft as sy\n",
    "import torch as th\n",
    "\n",
    "sy.VERBOSE = False"
   ]
  },
  {
   "cell_type": "markdown",
   "metadata": {},
   "source": [
    "### Connect without authenticate"
   ]
  },
  {
   "cell_type": "code",
   "execution_count": 2,
   "metadata": {},
   "outputs": [],
   "source": [
    "domain = connect(\n",
    "    url=\"http://localhost:5000\", # Domain Address\n",
    "    conn_type= GridHTTPConnection, # HTTP Connection Protocol\n",
    "    client_type=DomainClient) # Domain Client type"
   ]
  },
  {
   "cell_type": "markdown",
   "metadata": {},
   "source": [
    "### Create the first user account\n",
    "This account will be the owner"
   ]
  },
  {
   "cell_type": "code",
   "execution_count": 3,
   "metadata": {},
   "outputs": [
    {
     "data": {
      "text/plain": [
       "{'message': 'User created successfully!'}"
      ]
     },
     "execution_count": 3,
     "metadata": {},
     "output_type": "execute_result"
    }
   ],
   "source": [
    "domain.users.create(email=\"admin@email.com\", password=\"pwd123\")"
   ]
  },
  {
   "cell_type": "markdown",
   "metadata": {},
   "source": [
    "### Connect performing authentication process"
   ]
  },
  {
   "cell_type": "code",
   "execution_count": 4,
   "metadata": {},
   "outputs": [],
   "source": [
    "domain = connect(\n",
    "    url=\"http://localhost:5000\", # Domain Address\n",
    "    credentials={\"email\":\"admin@email.com\", \"password\":\"pwd123\"},\n",
    "    conn_type= GridHTTPConnection, # HTTP Connection Protocol\n",
    "    client_type=DomainClient) # Domain Client type"
   ]
  },
  {
   "cell_type": "markdown",
   "metadata": {},
   "source": [
    "### Create a new users"
   ]
  },
  {
   "cell_type": "code",
   "execution_count": 5,
   "metadata": {},
   "outputs": [
    {
     "data": {
      "text/plain": [
       "{'message': 'User created successfully!'}"
      ]
     },
     "execution_count": 5,
     "metadata": {},
     "output_type": "execute_result"
    }
   ],
   "source": [
    "domain.users.create(email=\"user2@email.com\", password=\"user1234\", role=\"Administrator\")\n",
    "domain.users.create(email=\"user3@email.com\", password=\"user2pwd\", role=\"User\")\n",
    "domain.users.create(email=\"user4@email.com\", password=\"user3pwd\", role=\"Compliance Officer\")\n",
    "domain.users.create(email=\"user5@email.com\", password=\"user4pwd\", role=\"User\")"
   ]
  },
  {
   "cell_type": "markdown",
   "metadata": {},
   "source": [
    "### Get All Users"
   ]
  },
  {
   "cell_type": "code",
   "execution_count": 6,
   "metadata": {},
   "outputs": [
    {
     "data": {
      "text/html": [
       "<div>\n",
       "<style scoped>\n",
       "    .dataframe tbody tr th:only-of-type {\n",
       "        vertical-align: middle;\n",
       "    }\n",
       "\n",
       "    .dataframe tbody tr th {\n",
       "        vertical-align: top;\n",
       "    }\n",
       "\n",
       "    .dataframe thead th {\n",
       "        text-align: right;\n",
       "    }\n",
       "</style>\n",
       "<table border=\"1\" class=\"dataframe\">\n",
       "  <thead>\n",
       "    <tr style=\"text-align: right;\">\n",
       "      <th></th>\n",
       "      <th>id</th>\n",
       "      <th>email</th>\n",
       "      <th>private_key</th>\n",
       "      <th>verify_key</th>\n",
       "      <th>role</th>\n",
       "    </tr>\n",
       "  </thead>\n",
       "  <tbody>\n",
       "    <tr>\n",
       "      <th>0</th>\n",
       "      <td>1</td>\n",
       "      <td>admin@email.com</td>\n",
       "      <td>a1089e20c3752681ac86a188064cdc4615c398cbebcd27...</td>\n",
       "      <td>3143a6323072dd35760ee609ee28459cf4abe6cbe8af63...</td>\n",
       "      <td>4</td>\n",
       "    </tr>\n",
       "    <tr>\n",
       "      <th>1</th>\n",
       "      <td>2</td>\n",
       "      <td>user2@email.com</td>\n",
       "      <td>a4d98b8ebf9bd621a201b403a846909958b083251c8eaa...</td>\n",
       "      <td>52bbbeb6c4ebfb0cc5b98d5ae2adcaedaf92c2bb77e9c9...</td>\n",
       "      <td>3</td>\n",
       "    </tr>\n",
       "    <tr>\n",
       "      <th>2</th>\n",
       "      <td>3</td>\n",
       "      <td>user3@email.com</td>\n",
       "      <td>dd1789c556cbf34bfac6c7b059d17790b5605c0f75eab8...</td>\n",
       "      <td>a1b0e3d969c5d6d9dd3efeafb4d27987421e75ef7629d8...</td>\n",
       "      <td>1</td>\n",
       "    </tr>\n",
       "    <tr>\n",
       "      <th>3</th>\n",
       "      <td>4</td>\n",
       "      <td>user4@email.com</td>\n",
       "      <td>c9efaafb12675fc41b1d9e0973bf62071a9ebe3c47ecc3...</td>\n",
       "      <td>f825e2d1684f64d891f6339d59b197222a529e7e819e3e...</td>\n",
       "      <td>2</td>\n",
       "    </tr>\n",
       "    <tr>\n",
       "      <th>4</th>\n",
       "      <td>5</td>\n",
       "      <td>user5@email.com</td>\n",
       "      <td>321d36bfe81235c4adefe51c267f1e017854669a78894d...</td>\n",
       "      <td>8df7c5973b6b37443d500998e0aba7a3bd3f31797f9215...</td>\n",
       "      <td>1</td>\n",
       "    </tr>\n",
       "  </tbody>\n",
       "</table>\n",
       "</div>"
      ],
      "text/plain": [
       "   id            email                                        private_key  \\\n",
       "0   1  admin@email.com  a1089e20c3752681ac86a188064cdc4615c398cbebcd27...   \n",
       "1   2  user2@email.com  a4d98b8ebf9bd621a201b403a846909958b083251c8eaa...   \n",
       "2   3  user3@email.com  dd1789c556cbf34bfac6c7b059d17790b5605c0f75eab8...   \n",
       "3   4  user4@email.com  c9efaafb12675fc41b1d9e0973bf62071a9ebe3c47ecc3...   \n",
       "4   5  user5@email.com  321d36bfe81235c4adefe51c267f1e017854669a78894d...   \n",
       "\n",
       "                                          verify_key  role  \n",
       "0  3143a6323072dd35760ee609ee28459cf4abe6cbe8af63...     4  \n",
       "1  52bbbeb6c4ebfb0cc5b98d5ae2adcaedaf92c2bb77e9c9...     3  \n",
       "2  a1b0e3d969c5d6d9dd3efeafb4d27987421e75ef7629d8...     1  \n",
       "3  f825e2d1684f64d891f6339d59b197222a529e7e819e3e...     2  \n",
       "4  8df7c5973b6b37443d500998e0aba7a3bd3f31797f9215...     1  "
      ]
     },
     "execution_count": 6,
     "metadata": {},
     "output_type": "execute_result"
    }
   ],
   "source": [
    "domain.users.all(pandas=True)"
   ]
  },
  {
   "cell_type": "markdown",
   "metadata": {},
   "source": [
    "### Get Specifc User"
   ]
  },
  {
   "cell_type": "code",
   "execution_count": 7,
   "metadata": {},
   "outputs": [
    {
     "name": "stdout",
     "output_type": "stream",
     "text": [
      "Email:  user2@email.com\n",
      "Role:  3\n",
      "Private Key:  a4d98b8ebf9bd621a201b403a846909958b083251c8eaa4c22e0f0da47e652dd\n",
      "Verify Key:  52bbbeb6c4ebfb0cc5b98d5ae2adcaedaf92c2bb77e9c9f2ef533323f2ba8eaa\n"
     ]
    }
   ],
   "source": [
    "print(\"Email: \", domain.users[2].email)\n",
    "print(\"Role: \", domain.users[2].role)\n",
    "print(\"Private Key: \", domain.users[2].private_key)\n",
    "print(\"Verify Key: \", domain.users[2].verify_key)"
   ]
  },
  {
   "cell_type": "markdown",
   "metadata": {},
   "source": [
    "## Update User configs"
   ]
  },
  {
   "cell_type": "code",
   "execution_count": 8,
   "metadata": {},
   "outputs": [
    {
     "data": {
      "text/plain": [
       "{'message': 'User updated successfully!'}"
      ]
     },
     "execution_count": 8,
     "metadata": {},
     "output_type": "execute_result"
    }
   ],
   "source": [
    "domain.users.update(user_id=2, email=\"new_email@email\", password=\"new_pwd\")"
   ]
  },
  {
   "cell_type": "code",
   "execution_count": 9,
   "metadata": {},
   "outputs": [],
   "source": [
    "assert domain.users[2].email == \"new_email@email\""
   ]
  },
  {
   "cell_type": "markdown",
   "metadata": {},
   "source": [
    "### Delete User"
   ]
  },
  {
   "cell_type": "code",
   "execution_count": 10,
   "metadata": {},
   "outputs": [],
   "source": [
    "del domain.users[2]"
   ]
  },
  {
   "cell_type": "code",
   "execution_count": 11,
   "metadata": {},
   "outputs": [
    {
     "data": {
      "text/html": [
       "<div>\n",
       "<style scoped>\n",
       "    .dataframe tbody tr th:only-of-type {\n",
       "        vertical-align: middle;\n",
       "    }\n",
       "\n",
       "    .dataframe tbody tr th {\n",
       "        vertical-align: top;\n",
       "    }\n",
       "\n",
       "    .dataframe thead th {\n",
       "        text-align: right;\n",
       "    }\n",
       "</style>\n",
       "<table border=\"1\" class=\"dataframe\">\n",
       "  <thead>\n",
       "    <tr style=\"text-align: right;\">\n",
       "      <th></th>\n",
       "      <th>id</th>\n",
       "      <th>email</th>\n",
       "      <th>private_key</th>\n",
       "      <th>verify_key</th>\n",
       "      <th>role</th>\n",
       "    </tr>\n",
       "  </thead>\n",
       "  <tbody>\n",
       "    <tr>\n",
       "      <th>0</th>\n",
       "      <td>1</td>\n",
       "      <td>admin@email.com</td>\n",
       "      <td>a1089e20c3752681ac86a188064cdc4615c398cbebcd27...</td>\n",
       "      <td>3143a6323072dd35760ee609ee28459cf4abe6cbe8af63...</td>\n",
       "      <td>4</td>\n",
       "    </tr>\n",
       "    <tr>\n",
       "      <th>1</th>\n",
       "      <td>3</td>\n",
       "      <td>user3@email.com</td>\n",
       "      <td>dd1789c556cbf34bfac6c7b059d17790b5605c0f75eab8...</td>\n",
       "      <td>a1b0e3d969c5d6d9dd3efeafb4d27987421e75ef7629d8...</td>\n",
       "      <td>1</td>\n",
       "    </tr>\n",
       "    <tr>\n",
       "      <th>2</th>\n",
       "      <td>4</td>\n",
       "      <td>user4@email.com</td>\n",
       "      <td>c9efaafb12675fc41b1d9e0973bf62071a9ebe3c47ecc3...</td>\n",
       "      <td>f825e2d1684f64d891f6339d59b197222a529e7e819e3e...</td>\n",
       "      <td>2</td>\n",
       "    </tr>\n",
       "    <tr>\n",
       "      <th>3</th>\n",
       "      <td>5</td>\n",
       "      <td>user5@email.com</td>\n",
       "      <td>321d36bfe81235c4adefe51c267f1e017854669a78894d...</td>\n",
       "      <td>8df7c5973b6b37443d500998e0aba7a3bd3f31797f9215...</td>\n",
       "      <td>1</td>\n",
       "    </tr>\n",
       "  </tbody>\n",
       "</table>\n",
       "</div>"
      ],
      "text/plain": [
       "   id            email                                        private_key  \\\n",
       "0   1  admin@email.com  a1089e20c3752681ac86a188064cdc4615c398cbebcd27...   \n",
       "1   3  user3@email.com  dd1789c556cbf34bfac6c7b059d17790b5605c0f75eab8...   \n",
       "2   4  user4@email.com  c9efaafb12675fc41b1d9e0973bf62071a9ebe3c47ecc3...   \n",
       "3   5  user5@email.com  321d36bfe81235c4adefe51c267f1e017854669a78894d...   \n",
       "\n",
       "                                          verify_key  role  \n",
       "0  3143a6323072dd35760ee609ee28459cf4abe6cbe8af63...     4  \n",
       "1  a1b0e3d969c5d6d9dd3efeafb4d27987421e75ef7629d8...     1  \n",
       "2  f825e2d1684f64d891f6339d59b197222a529e7e819e3e...     2  \n",
       "3  8df7c5973b6b37443d500998e0aba7a3bd3f31797f9215...     1  "
      ]
     },
     "execution_count": 11,
     "metadata": {},
     "output_type": "execute_result"
    }
   ],
   "source": [
    "domain.users.all(pandas=True)"
   ]
  }
 ],
 "metadata": {
  "kernelspec": {
   "display_name": "Python 3",
   "language": "python",
   "name": "python3"
  },
  "language_info": {
   "codemirror_mode": {
    "name": "ipython",
    "version": 3
   },
   "file_extension": ".py",
   "mimetype": "text/x-python",
   "name": "python",
   "nbconvert_exporter": "python",
   "pygments_lexer": "ipython3",
   "version": "3.8.5"
  }
 },
 "nbformat": 4,
 "nbformat_minor": 4
}

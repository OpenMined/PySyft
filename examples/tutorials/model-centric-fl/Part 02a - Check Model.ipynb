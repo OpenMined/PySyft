{
 "cells": [
  {
   "cell_type": "markdown",
   "metadata": {},
   "source": [
    "# Federated Learning: Download Trained Model\n",
    "\n",
    "In the \"[Part 01 - Create Plan](Part%2001%20-%20Create%20Plan.ipynb)\" notebook we created the model, training plan, and averaging plan, and then hosted all of them in PyGrid.\n",
    "\n",
    "Imagine, such hosted FL model was trained using client libraries, SwiftSyft, KotlinSyft, syft.js, or FL client from the \"[Part 02 - Execute Plan](Part%2002%20-%20Execute%20Plan.ipynb)\" notebook.\n",
    "\n",
    "In this notebook, we'll download model checkpoints and test them against MNIST dataset.\n",
    "\n",
    "_NOTE_: Technically such evaluation is not correct since we don't have train/test split -\n",
    " clients train on randomly chosen samples from the MNIST dataset.\n",
    " However, since clients train only on a very small portion of samples,\n",
    " we can still get a sense of how well the model generalises to the rest of the dataset."
   ]
  },
  {
   "cell_type": "code",
   "execution_count": 1,
   "metadata": {
    "pycharm": {
     "name": "#%%\n"
    }
   },
   "outputs": [
    {
     "name": "stdout",
     "output_type": "stream",
     "text": [
      "Setting up Sandbox...\n",
      "Done!\n"
     ]
    }
   ],
   "source": [
    "%load_ext autoreload\n",
    "%autoreload 2\n",
    "\n",
    "import torch as th\n",
    "from torch import nn\n",
    "from torchvision import datasets, transforms\n",
    "\n",
    "import numpy as np\n",
    "import matplotlib.pyplot as plt\n",
    "\n",
    "import syft as sy\n",
    "from syft.grid.clients.model_centric_fl_client import ModelCentricFLClient\n",
    "from syft.grid.exceptions import GridError\n",
    "\n",
    "sy.make_hook(globals())"
   ]
  },
  {
   "cell_type": "markdown",
   "metadata": {
    "pycharm": {
     "name": "#%% md\n"
    }
   },
   "source": [
    "Utility function that sets tensors as model weights (copied from Part 01 notebook):"
   ]
  },
  {
   "cell_type": "code",
   "execution_count": 2,
   "metadata": {
    "pycharm": {
     "name": "#%%\n"
    }
   },
   "outputs": [],
   "source": [
    "def set_model_params(module, params_list, start_param_idx=0):\n",
    "    \"\"\" Set params list into model recursively\n",
    "    \"\"\"\n",
    "    param_idx = start_param_idx\n",
    "\n",
    "    for name, param in module._parameters.items():\n",
    "        module._parameters[name] = params_list[param_idx]\n",
    "        param_idx += 1\n",
    "\n",
    "    for name, child in module._modules.items():\n",
    "        if child is not None:\n",
    "            param_idx = set_model_params(child, params_list, param_idx)\n",
    "\n",
    "    return param_idx"
   ]
  },
  {
   "cell_type": "markdown",
   "metadata": {
    "pycharm": {
     "name": "#%% md\n"
    }
   },
   "source": [
    "The model as in Part 01 notebook:"
   ]
  },
  {
   "cell_type": "code",
   "execution_count": 3,
   "metadata": {
    "pycharm": {
     "name": "#%%\n"
    }
   },
   "outputs": [],
   "source": [
    "class Net(nn.Module):\n",
    "    def __init__(self):\n",
    "        super(Net, self).__init__()\n",
    "        self.fc1 = nn.Linear(784, 392)\n",
    "        self.fc2 = nn.Linear(392, 10)\n",
    "\n",
    "    def forward(self, x):\n",
    "        x = self.fc1(x)\n",
    "        x = nn.functional.relu(x)\n",
    "        x = self.fc2(x)\n",
    "        return x"
   ]
  },
  {
   "cell_type": "markdown",
   "metadata": {
    "pycharm": {
     "name": "#%% md\n"
    }
   },
   "source": [
    "Load MNIST dataset."
   ]
  },
  {
   "cell_type": "code",
   "execution_count": 4,
   "metadata": {
    "pycharm": {
     "name": "#%%\n"
    }
   },
   "outputs": [],
   "source": [
    "batch_size = 64\n",
    "mnist_dataset = th.utils.data.DataLoader(\n",
    "    datasets.MNIST('data', train=True, download=True, transform=transforms.ToTensor()),\n",
    "    batch_size=batch_size,\n",
    "    drop_last=True,\n",
    ")"
   ]
  },
  {
   "cell_type": "markdown",
   "metadata": {
    "pycharm": {
     "name": "#%% md\n"
    }
   },
   "source": [
    "Create client and model."
   ]
  },
  {
   "cell_type": "code",
   "execution_count": 5,
   "metadata": {
    "pycharm": {
     "name": "#%%\n"
    }
   },
   "outputs": [
    {
     "data": {
      "text/plain": [
       "Net(\n",
       "  (fc1): Linear(in_features=784, out_features=392, bias=True)\n",
       "  (fc2): Linear(in_features=392, out_features=10, bias=True)\n",
       ")"
      ]
     },
     "execution_count": 5,
     "metadata": {},
     "output_type": "execute_result"
    }
   ],
   "source": [
    "# PyGrid Node where the FL model was hosted and trained\n",
    "gridAddress = \"127.0.0.1:5000\"\n",
    "\n",
    "# Create FL client\n",
    "client = ModelCentricFLClient(id=\"test\", address=gridAddress)\n",
    "\n",
    "# Create model\n",
    "model = Net()\n",
    "model.eval()"
   ]
  },
  {
   "cell_type": "markdown",
   "metadata": {
    "pycharm": {
     "name": "#%% md\n"
    }
   },
   "source": [
    "Define evaluation helper function that will check model accuracy against whole MNIST dataset."
   ]
  },
  {
   "cell_type": "code",
   "execution_count": 6,
   "metadata": {
    "pycharm": {
     "name": "#%%\n"
    }
   },
   "outputs": [],
   "source": [
    "def evaluate_model(name, version, checkpoint):\n",
    "    \"\"\"Test specified model against MNIST dataset\"\"\"\n",
    "    model_params_state = client.get_model(name, version, checkpoint)\n",
    "    model_params = model_params_state.tensors()\n",
    "\n",
    "    # Load model params into the model\n",
    "    set_model_params(model, model_params)\n",
    "\n",
    "    # Test\n",
    "    accuracies = []\n",
    "    for batch_idx, (X, y) in enumerate(mnist_dataset):\n",
    "        X = X.view(batch_size, -1)\n",
    "        with th.no_grad():\n",
    "            logits = model(X)\n",
    "        preds = th.argmax(logits, dim=1)\n",
    "        acc = preds.eq(y).float().mean()\n",
    "        accuracies.append(acc.item())\n",
    "\n",
    "    return np.mean(accuracies)"
   ]
  },
  {
   "cell_type": "markdown",
   "metadata": {
    "pycharm": {
     "name": "#%% md\n"
    }
   },
   "source": [
    "Let's get all model checkpoints and see how they were becoming better."
   ]
  },
  {
   "cell_type": "code",
   "execution_count": 7,
   "metadata": {
    "pycharm": {
     "name": "#%%\n"
    }
   },
   "outputs": [
    {
     "name": "stdout",
     "output_type": "stream",
     "text": [
      "Testing checkpoint 1...Done (0.10757403948772679)\n",
      "Testing checkpoint 2...Done (0.5063367129135539)\n",
      "Testing checkpoint 3...Done (0.6688400480256137)\n",
      "Testing checkpoint 4...Done (0.7043256403415155)\n",
      "Testing checkpoint 5...Done (0.705909818569904)\n",
      "Testing checkpoint 6...Done (0.7358090981856991)\n",
      "Testing checkpoint 7...No more checkpoints to try\n"
     ]
    },
    {
     "data": {
      "text/plain": [
       "<BarContainer object of 6 artists>"
      ]
     },
     "execution_count": 7,
     "metadata": {},
     "output_type": "execute_result"
    },
    {
     "data": {
      "image/png": "[encoded data removed]",
      "text/plain": [
       "<Figure size 432x288 with 1 Axes>"
      ]
     },
     "metadata": {
      "needs_background": "light"
     },
     "output_type": "display_data"
    }
   ],
   "source": [
    "name = \"mnist\"\n",
    "version = \"1.0.0\"\n",
    "checkpoint = 1\n",
    "\n",
    "checkpoints = []\n",
    "accuracies = []\n",
    "\n",
    "while True:\n",
    "    try:\n",
    "        print(f\"Testing checkpoint {checkpoint}...\", end=\"\")\n",
    "        accuracy = evaluate_model(name, version, checkpoint)\n",
    "        print(f\"Done ({accuracy})\")\n",
    "        checkpoints.append(f\"cp #{checkpoint}\")\n",
    "        accuracies.append(accuracy)\n",
    "        checkpoint += 1\n",
    "    except GridError as err:\n",
    "        # Model not found\n",
    "        print(\"No more checkpoints to try\")\n",
    "        break\n",
    "\n",
    "plt.bar(checkpoints, accuracies)"
   ]
  },
  {
   "cell_type": "markdown",
   "metadata": {
    "pycharm": {
     "name": "#%% md\n"
    }
   },
   "source": [
    "NOTE: Retrieving all checkpoints is done for the sake of model improvement demonstration.\n",
    "To simply get the latest checkpoint, do `client.get_model(name, version)` or `client.get_model(name, version, \"latest\")`."
   ]
  }
 ],
 "metadata": {
  "kernelspec": {
   "display_name": "Python 3",
   "language": "python",
   "name": "python3"
  },
  "language_info": {
   "codemirror_mode": {
    "name": "ipython",
    "version": 3
   },
   "file_extension": ".py",
   "mimetype": "text/x-python",
   "name": "python",
   "nbconvert_exporter": "python",
   "pygments_lexer": "ipython3",
   "version": "3.7.6"
  }
 },
 "nbformat": 4,
 "nbformat_minor": 1
}

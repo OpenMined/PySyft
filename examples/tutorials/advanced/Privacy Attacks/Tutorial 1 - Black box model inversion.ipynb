{
 "cells": [
  {
   "cell_type": "markdown",
   "metadata": {},
   "source": [
    "# Model Inversion attack\n",
    "The past few years have seen an explosion of machine learning models to applied to all areas of industry.\n",
    "But just how much thought is given to security and safety of a model and the data upon which it's trained?\n",
    "There are a myriad of ways that a model and its data can be compromised.\n",
    "In this tutorial,\n",
    "we will be running a simple **model inversion attack** on a classifier trained on MNIST.\n",
    "\n",
    "## What is model inversion?\n",
    "The aim of a model inversion attack is to recreate some data which was input to the model.\n",
    "If such an attack is successful,\n",
    "the consequences for a model or data holder could be disastrous,\n",
    "for their reputation\n",
    "and the possible legal liability of failing to adequately protect data.\n",
    "\n",
    "## How to we do it?\n",
    "Let's say there is an externally hosted,\n",
    "trained model we wish to attack (the **target model**).\n",
    "As we don't have a copy of the model,\n",
    "we don't have any knowledge of the model parameters which we can utilise.\n",
    "The best we can do is query the model by sending data to it to be classified.\n",
    "This type of attack setting is known as **black box**,\n",
    "because we know nothing about what's going on inside the model.\n",
    "\n",
    "What we want to do is to train our own model\n",
    "(the **attack model**)\n",
    "which takes some output from the target model\n",
    "and recreates the data which was fed to it.\n",
    "Our attack model is essentially performing the same role as a _decoder_ in an autoencoder,\n",
    "except in our case the _encoder_\n",
    "(the target model)\n",
    "has already been trained.\n",
    "\n",
    "As we can query the target with our own data,\n",
    "we can easily create a dataset of (target input, target output) data on which to train our attack model.\n",
    "But what should this data look like?\n",
    "If our target input data is too dissimilar to the data on which the target has been trained (for example, images of dogs applied to a model which classifies human faces),\n",
    "it is likely that the data will be encoded into some small,\n",
    "obscure part of the target's output space.\n",
    "When we run the attack on data more typical of the target's intended task,\n",
    "our attack model will not have learned how to turn output relating to a human face back into the human face.\n",
    "Therefore,\n",
    "we want our attacker training dataset to be _as close to the target training data_ as possible,\n",
    "however we do not need to use actual training data.\n",
    "In practice,\n",
    "we can use our knowledge about the task a model has been trained to complete to find data which may look like its training data.\n",
    "\n",
    "In this tutorial,\n",
    "let's consider the case of a model which is distributed across multiple parties:\n",
    "the first half of the model is located on one device;\n",
    "this model part performs some inference on the data\n",
    "and sends its output to the second device,\n",
    "where the inference is finished.\n",
    "This paradigm is increasingly common for models which run on mobile devices,\n",
    "as output from a model layer can be smaller than the input data and therefore easier to send to a central server;\n",
    "you may also recognise this process from [SplitNN](https://github.com/OpenMined/PySyft/tree/master/examples/tutorials/advanced/Split%20Neural%20Network),\n",
    "a technique which preserves some data privacy\n",
    "as raw data does not need to be sent to an untrusted party.\n",
    "\n",
    "## Tutorial\n",
    "In this tutorial we:\n",
    "* Train a simple convolutional neural network (CNN), split into two parts, to classify images of handwritten digits (the MNIST dataset)\n",
    "* Train an attack model to invert output of the first part of the model back into images of handwritten digits\n",
    "* Run our attack model on unseen images\n",
    "\n",
    "Authors:\n",
    "* Tom Titcombe - Github: [@TTitcombe](https://github.com/TTitcombe)"
   ]
  },
  {
   "cell_type": "code",
   "execution_count": 1,
   "metadata": {},
   "outputs": [],
   "source": [
    "from collections import namedtuple\n",
    "\n",
    "import matplotlib.pyplot as plt\n",
    "import torch\n",
    "import torchvision.transforms as transforms\n",
    "from torchvision.datasets import MNIST\n",
    "from tqdm.notebook import tqdm, trange"
   ]
  },
  {
   "cell_type": "code",
   "execution_count": 2,
   "metadata": {},
   "outputs": [],
   "source": [
    "%matplotlib inline"
   ]
  },
  {
   "cell_type": "markdown",
   "metadata": {},
   "source": [
    "#### Define hyperparameters for training the target model and the attack model."
   ]
  },
  {
   "cell_type": "code",
   "execution_count": 3,
   "metadata": {},
   "outputs": [],
   "source": [
    "hyperparams = namedtuple('hyperparams', 'batch_size,epochs,learning_rate,n_data')\n",
    "\n",
    "# Target model hyperparameters\n",
    "target_hyperparams = hyperparams(\n",
    "    batch_size=256,\n",
    "    epochs=10,\n",
    "    learning_rate=1e-4,\n",
    "    n_data=5_000,\n",
    ")\n",
    "\n",
    "# Attack model hyperparameters\n",
    "attacker_hyperparams = hyperparams(\n",
    "    batch_size=32,\n",
    "    epochs=10,\n",
    "    learning_rate=1e-4,\n",
    "    n_data=500,\n",
    ")"
   ]
  },
  {
   "cell_type": "code",
   "execution_count": 4,
   "metadata": {},
   "outputs": [
    {
     "name": "stdout",
     "output_type": "stream",
     "text": [
      "Downloading http://yann.lecun.com/exdb/mnist/train-images-idx3-ubyte.gz to mnist\\MNIST\\raw\\train-images-idx3-ubyte.gz\n"
     ]
    },
    {
     "data": {
      "application/vnd.jupyter.widget-view+json": {
       "model_id": "8360dfef68774d9eb6e88c090c80cf3d",
       "version_major": 2,
       "version_minor": 0
      },
      "text/plain": [
       "HBox(children=(FloatProgress(value=1.0, bar_style='info', max=1.0), HTML(value='')))"
      ]
     },
     "metadata": {},
     "output_type": "display_data"
    },
    {
     "name": "stdout",
     "output_type": "stream",
     "text": [
      "Extracting mnist\\MNIST\\raw\\train-images-idx3-ubyte.gz to mnist\\MNIST\\raw\n",
      "Downloading http://yann.lecun.com/exdb/mnist/train-labels-idx1-ubyte.gz to mnist\\MNIST\\raw\\train-labels-idx1-ubyte.gz\n"
     ]
    },
    {
     "data": {
      "application/vnd.jupyter.widget-view+json": {
       "model_id": "6bec94ead625474ba6987e1dcba6962c",
       "version_major": 2,
       "version_minor": 0
      },
      "text/plain": [
       "HBox(children=(FloatProgress(value=1.0, bar_style='info', max=1.0), HTML(value='')))"
      ]
     },
     "metadata": {},
     "output_type": "display_data"
    },
    {
     "name": "stdout",
     "output_type": "stream",
     "text": [
      "Extracting mnist\\MNIST\\raw\\train-labels-idx1-ubyte.gz to mnist\\MNIST\\raw\n",
      "Downloading http://yann.lecun.com/exdb/mnist/t10k-images-idx3-ubyte.gz to mnist\\MNIST\\raw\\t10k-images-idx3-ubyte.gz\n"
     ]
    },
    {
     "data": {
      "application/vnd.jupyter.widget-view+json": {
       "model_id": "11a682d5cf5641018841b34f8f71b9e3",
       "version_major": 2,
       "version_minor": 0
      },
      "text/plain": [
       "HBox(children=(FloatProgress(value=1.0, bar_style='info', max=1.0), HTML(value='')))"
      ]
     },
     "metadata": {},
     "output_type": "display_data"
    },
    {
     "name": "stdout",
     "output_type": "stream",
     "text": [
      "Extracting mnist\\MNIST\\raw\\t10k-images-idx3-ubyte.gz to mnist\\MNIST\\raw\n",
      "Downloading http://yann.lecun.com/exdb/mnist/t10k-labels-idx1-ubyte.gz to mnist\\MNIST\\raw\\t10k-labels-idx1-ubyte.gz\n",
      "\n",
      "\n"
     ]
    },
    {
     "data": {
      "application/vnd.jupyter.widget-view+json": {
       "model_id": "99e712b6246f4e0b815eaa140d58be88",
       "version_major": 2,
       "version_minor": 0
      },
      "text/plain": [
       "HBox(children=(FloatProgress(value=1.0, bar_style='info', max=1.0), HTML(value='')))"
      ]
     },
     "metadata": {},
     "output_type": "display_data"
    },
    {
     "name": "stdout",
     "output_type": "stream",
     "text": [
      "Extracting mnist\\MNIST\\raw\\t10k-labels-idx1-ubyte.gz to mnist\\MNIST\\raw\n",
      "Processing...\n",
      "Done!\n"
     ]
    }
   ],
   "source": [
    "mnist_transform = transforms.Compose(\n",
    "    [transforms.ToTensor(), transforms.Normalize((0.1307,), (0.3081,)),]\n",
    ")\n",
    "\n",
    "# Target model training data\n",
    "train_data = MNIST(\"mnist\", train=True, download=True, transform=mnist_transform)\n",
    "\n",
    "# We don't need to use all the training data for MNIST as it's a simple dataset\n",
    "train_data.data = train_data.data[:target_hyperparams.n_data]\n",
    "train_data.targets = train_data.targets[:target_hyperparams.n_data]\n",
    "\n",
    "# Target model test data\n",
    "test_data = MNIST(\"mnist\", train=False, download=True, transform=mnist_transform)\n",
    "\n",
    "# Create data loaders\n",
    "train_loader = torch.utils.data.DataLoader(train_data, batch_size=target_hyperparams.batch_size)\n",
    "test_loader = torch.utils.data.DataLoader(test_data, batch_size=1_000)"
   ]
  },
  {
   "cell_type": "markdown",
   "metadata": {},
   "source": [
    "# Create a basic classifier\n",
    "MNIST is not a complex dataset, so we do not need a large model. We create a single model for the purposes of this tutorial, but split the computation into two separate stages. In practice, the two stages would be hosted on different devices and the output of one stage would be communicated to the second device."
   ]
  },
  {
   "cell_type": "code",
   "execution_count": 5,
   "metadata": {},
   "outputs": [],
   "source": [
    "class Classifier(torch.nn.Module):\n",
    "    def __init__(self, first_network, second_network) -> None:\n",
    "        super().__init__()\n",
    "\n",
    "        # --- First stage --- #\n",
    "        self.stage1 = first_network\n",
    "        \n",
    "        # --- Second stage --- #\n",
    "        # In practice, at this point the output of the previous stage would be transmitted to\n",
    "        # a central server, where inference would continue\n",
    "        self.stage2 = second_network\n",
    "\n",
    "    def mobile_stage(self, x):\n",
    "        return self.stage1(x)\n",
    "\n",
    "    def forward(self, x):\n",
    "        out = self.mobile_stage(x)\n",
    "        out = out.view(out.size(0), -1)\n",
    "\n",
    "        return self.stage2(out)"
   ]
  },
  {
   "cell_type": "code",
   "execution_count": 6,
   "metadata": {},
   "outputs": [
    {
     "data": {
      "text/plain": [
       "Classifier(\n",
       "  (stage1): Sequential(\n",
       "    (0): Conv2d(1, 32, kernel_size=(5, 5), stride=(1, 1))\n",
       "    (1): ReLU()\n",
       "    (2): MaxPool2d(kernel_size=2, stride=2, padding=0, dilation=1, ceil_mode=False)\n",
       "    (3): Conv2d(32, 32, kernel_size=(5, 5), stride=(1, 1))\n",
       "    (4): ReLU()\n",
       "    (5): MaxPool2d(kernel_size=2, stride=2, padding=0, dilation=1, ceil_mode=False)\n",
       "  )\n",
       "  (stage2): Sequential(\n",
       "    (0): Linear(in_features=512, out_features=256, bias=True)\n",
       "    (1): ReLU()\n",
       "    (2): Linear(in_features=256, out_features=10, bias=True)\n",
       "    (3): Softmax(dim=-1)\n",
       "  )\n",
       ")"
      ]
     },
     "execution_count": 6,
     "metadata": {},
     "output_type": "execute_result"
    }
   ],
   "source": [
    "# The first part of the network. This would be hosted on a mobile device\n",
    "first_network = torch.nn.Sequential(\n",
    "            *[\n",
    "                torch.nn.Conv2d(1, 32, kernel_size=5, padding=0, stride=1),  # first Conv layer\n",
    "                torch.nn.ReLU(),\n",
    "                torch.nn.MaxPool2d(kernel_size=2),\n",
    "                torch.nn.Conv2d(32, 32, kernel_size=5, padding=0, stride=1),  # second Conv layer\n",
    "                torch.nn.ReLU(),\n",
    "                torch.nn.MaxPool2d(kernel_size=2),\n",
    "            ]\n",
    "        )\n",
    "\n",
    "\n",
    "# The second and final part of the network. This would be typically hosted on a central server in practice\n",
    "second_network = torch.nn.Sequential(\n",
    "            *[\n",
    "                torch.nn.Linear(512, 256),\n",
    "                torch.nn.ReLU(),\n",
    "                torch.nn.Linear(256, 10),  # 10-class output\n",
    "                torch.nn.Softmax(dim=-1),\n",
    "            ]\n",
    "        )\n",
    "\n",
    "target_model = Classifier(first_network, second_network)\n",
    "target_model"
   ]
  },
  {
   "cell_type": "markdown",
   "metadata": {},
   "source": [
    "#### Train target model"
   ]
  },
  {
   "cell_type": "code",
   "execution_count": 7,
   "metadata": {},
   "outputs": [
    {
     "data": {
      "application/vnd.jupyter.widget-view+json": {
       "model_id": "e0cecbfe19bc4ed2b78ec767f4d5a109",
       "version_major": 2,
       "version_minor": 0
      },
      "text/plain": [
       "HBox(children=(FloatProgress(value=0.0, max=10.0), HTML(value='')))"
      ]
     },
     "metadata": {},
     "output_type": "display_data"
    },
    {
     "name": "stdout",
     "output_type": "stream",
     "text": [
      "\n",
      "Training loss: 0.007\n",
      "Test loss: 0.002\n",
      "Training accuracy: 72.120\n",
      "Test accuracy: 72.800\n"
     ]
    }
   ],
   "source": [
    "optim = torch.optim.Adam(target_model.parameters(), lr=target_hyperparams.learning_rate)\n",
    "loss_criterion = torch.nn.CrossEntropyLoss()\n",
    "\n",
    "for epoch in trange(target_hyperparams.epochs):\n",
    "    train_correct = 0\n",
    "    train_loss = 0.\n",
    "\n",
    "    # Training loop\n",
    "    for data, targets in train_loader:\n",
    "        optim.zero_grad()\n",
    "\n",
    "        output = target_model(data)\n",
    "\n",
    "        # Update network\n",
    "        loss = loss_criterion(output, targets)\n",
    "        loss.backward()\n",
    "        optim.step()\n",
    "\n",
    "        # Track training statistics\n",
    "        _, predicted = output.max(1)\n",
    "        train_correct += predicted.eq(targets).sum().item()\n",
    "        train_loss += loss.item()\n",
    "\n",
    "train_loss /= len(train_data)\n",
    "\n",
    "# Check test accuracy\n",
    "test_correct = 0\n",
    "test_loss = 0.\n",
    "\n",
    "for data, targets in test_loader:\n",
    "    with torch.no_grad():\n",
    "        output = target_model(data)\n",
    "\n",
    "    loss = loss_criterion(output, targets)\n",
    "\n",
    "    _, predicted = output.max(1)\n",
    "    test_correct += predicted.eq(targets).sum().item()\n",
    "    test_loss += loss.item()\n",
    "\n",
    "test_loss /= len(test_data)\n",
    "\n",
    "print(\n",
    "    f\"Training loss: {train_loss:.3f}\\n\"\n",
    "    f\"Test loss: {test_loss:.3f}\"\n",
    ")\n",
    "\n",
    "print(\n",
    "    f\"Training accuracy: {100 * train_correct / target_hyperparams.n_data:.3f}\\n\"\n",
    "    f\"Test accuracy: {100 * test_correct / 10_000:.3f}\"\n",
    ")"
   ]
  },
  {
   "cell_type": "markdown",
   "metadata": {},
   "source": [
    "---\n",
    "# Attacking the target\n",
    "You will notice that our attack model,\n",
    "below,\n",
    "is made up a deconvolutional layers.\n",
    "This leverages our additional knowledge that the input data are images,\n",
    "however this attack can work with other types of layers."
   ]
  },
  {
   "cell_type": "code",
   "execution_count": 8,
   "metadata": {},
   "outputs": [],
   "source": [
    "class AttackModel(torch.nn.Module):\n",
    "    def __init__(self):\n",
    "        super().__init__()\n",
    "\n",
    "        self.layers = torch.nn.Sequential(\n",
    "            *[\n",
    "                torch.nn.ConvTranspose2d(\n",
    "                    in_channels=32,\n",
    "                    out_channels=32,\n",
    "                    kernel_size=7,\n",
    "                    padding=1,\n",
    "                    stride=2,\n",
    "                    output_padding=1,\n",
    "                ),\n",
    "                torch.nn.ReLU(),\n",
    "                torch.nn.ConvTranspose2d(\n",
    "                    in_channels=32,\n",
    "                    out_channels=32,\n",
    "                    kernel_size=5,\n",
    "                    padding=1,\n",
    "                    stride=2,\n",
    "                    output_padding=1,\n",
    "                ),\n",
    "                torch.nn.ReLU(),\n",
    "                torch.nn.ConvTranspose2d(\n",
    "                    in_channels=32, out_channels=1, kernel_size=5, padding=1, stride=1,\n",
    "                ),\n",
    "            ]\n",
    "        )\n",
    "\n",
    "    def forward(self, x):\n",
    "        return self.layers(x)"
   ]
  },
  {
   "cell_type": "markdown",
   "metadata": {},
   "source": [
    "#### Train the attack model\n",
    "We create a dataset of `500` images from the target's test dataset. The target has not been trained on these images, however there are similar enough to the target's training dataset for the attack to work."
   ]
  },
  {
   "cell_type": "code",
   "execution_count": 9,
   "metadata": {},
   "outputs": [
    {
     "data": {
      "application/vnd.jupyter.widget-view+json": {
       "model_id": "8fee40baaa354780baaf2d5328ff76b0",
       "version_major": 2,
       "version_minor": 0
      },
      "text/plain": [
       "HBox(children=(FloatProgress(value=0.0, max=10.0), HTML(value='')))"
      ]
     },
     "metadata": {},
     "output_type": "display_data"
    },
    {
     "name": "stdout",
     "output_type": "stream",
     "text": [
      "\n"
     ]
    }
   ],
   "source": [
    "# Get attacker\n",
    "attacker = AttackModel()\n",
    "\n",
    "# Get dataset\n",
    "attacker_dataset = MNIST(\"mnist\", train=False, transform=mnist_transform)\n",
    "\n",
    "# Use the last n_data images in the test set to train the attacker\n",
    "attacker_dataset.data = attacker_dataset.data[-attacker_hyperparams.n_data:]\n",
    "attacker_dataset.targets = attacker_dataset.targets[-attacker_hyperparams.n_data:]\n",
    "\n",
    "attacker_train_loader = torch.utils.data.DataLoader(attacker_dataset, batch_size=attacker_hyperparams.batch_size)\n",
    "\n",
    "# Train attacker\n",
    "attack_optim = torch.optim.Adam(attacker.parameters(), lr=attacker_hyperparams.learning_rate)\n",
    "\n",
    "for epoch in trange(attacker_hyperparams.epochs):\n",
    "    for data, targets in attacker_train_loader:\n",
    "        data.float()\n",
    "        targets.float()\n",
    "\n",
    "        attack_optim.zero_grad()\n",
    "\n",
    "        # We intercept the output of the mobile device's model\n",
    "        # This is the input of our attack model\n",
    "        with torch.no_grad():\n",
    "            attack_input = target_model.mobile_stage(data)\n",
    "\n",
    "        output = attacker(attack_input)\n",
    "\n",
    "        loss = ((output - data)**2).mean()  # We want our reconstructed image to look as much like the original image as possible\n",
    "        loss.backward()\n",
    "        attack_optim.step()"
   ]
  },
  {
   "cell_type": "code",
   "execution_count": 10,
   "metadata": {},
   "outputs": [],
   "source": [
    "def plot_images(\n",
    "    tensors,\n",
    "):\n",
    "    \"\"\"\n",
    "    Plot normalised MNIST tensors as images\n",
    "    \"\"\"\n",
    "    fig = plt.figure(figsize=(10, 5))\n",
    "\n",
    "    n_tensors = len(tensors)\n",
    "    n_cols = min(n_tensors, 4)\n",
    "    n_rows = int((n_tensors - 1) / 4) + 1\n",
    "\n",
    "    # De-normalise an MNIST tensor\n",
    "    mu = torch.tensor([0.1307], dtype=torch.float32)\n",
    "    sigma = torch.tensor([0.3081], dtype=torch.float32)\n",
    "    Unnormalise = transforms.Normalize((-mu / sigma).tolist(), (1.0 / sigma).tolist())\n",
    "\n",
    "    for row in range(n_rows):\n",
    "        for col in range(n_cols):\n",
    "            idx = n_cols * row + col\n",
    "\n",
    "            if idx > n_tensors - 1:\n",
    "                break\n",
    "\n",
    "            ax = fig.add_subplot(n_rows, n_cols, idx + 1)\n",
    "            tensor = Unnormalise(tensors[idx])\n",
    "\n",
    "            # Clip image values so we can plot\n",
    "            tensor[tensor < 0] = 0\n",
    "            tensor[tensor > 1] = 1\n",
    "\n",
    "            tensor = tensor.squeeze(0)  # remove batch dim\n",
    "\n",
    "            ax.imshow(transforms.ToPILImage()(tensor), interpolation=\"bicubic\")\n",
    "\n",
    "    plt.tight_layout()\n",
    "    plt.show()"
   ]
  },
  {
   "cell_type": "code",
   "execution_count": 11,
   "metadata": {},
   "outputs": [],
   "source": [
    "def attack(attack_model, target_model, dataset, idxs):\n",
    "    images = []\n",
    "\n",
    "    for datum_idx in idxs:\n",
    "        actual_image, _ = dataset[datum_idx]\n",
    "\n",
    "        with torch.no_grad():\n",
    "            target_output = target_model.mobile_stage(actual_image.unsqueeze(0))\n",
    "            reconstructed_image = attack_model(target_output).squeeze(0)\n",
    "\n",
    "        images.append(actual_image)\n",
    "        images.append(reconstructed_image)\n",
    "\n",
    "    plot_images(images)"
   ]
  },
  {
   "cell_type": "code",
   "execution_count": 12,
   "metadata": {},
   "outputs": [
    {
     "data": {
      "image/png": "[encoded data removed]",
      "text/plain": [
       "<Figure size 720x360 with 12 Axes>"
      ]
     },
     "metadata": {
      "needs_background": "light"
     },
     "output_type": "display_data"
    }
   ],
   "source": [
    "attack(attacker, target_model, test_data, range(6))"
   ]
  },
  {
   "cell_type": "markdown",
   "metadata": {},
   "source": [
    "You can see that,\n",
    "while we have not recreated all of the ideosyncracies of the digits,\n",
    "such as flicks and wiggles,\n",
    "the handwritten digits are close enough to the original data\n",
    "that we could feasibly identify a person's handwriting.\n",
    "While handwritten digits are not the most private of data,\n",
    "this attack could also work on a model to classify faces or MRI results.\n",
    "\n",
    "## Extension\n",
    "* Try to invert output from layers deeper into the target model as well as the classification probabilities. What do you notice about an attacker's capacity to invert data?\n",
    "* Train the attacker on data from the FashionMNIST dataset. How well does the attack work when the data does not resemble the target's training data?\n",
    "* Consider simple, practical steps that can be taken to protect a model from a model inversion attack. In particular, what could be done to the model, and to the way in which the model is exposed to the world? "
   ]
  }
 ],
 "metadata": {
  "kernelspec": {
   "display_name": "Python 3",
   "language": "python",
   "name": "python3"
  },
  "language_info": {
   "codemirror_mode": {
    "name": "ipython",
    "version": 3
   },
   "file_extension": ".py",
   "mimetype": "text/x-python",
   "name": "python",
   "nbconvert_exporter": "python",
   "pygments_lexer": "ipython3",
   "version": "3.7.6"
  }
 },
 "nbformat": 4,
 "nbformat_minor": 4
}

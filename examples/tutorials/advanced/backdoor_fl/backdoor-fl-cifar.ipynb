{
 "cells": [
  {
   "cell_type": "code",
   "execution_count": 1,
   "metadata": {
    "colab": {},
    "colab_type": "code",
    "id": "K7WKRHKMLQiX"
   },
   "outputs": [
    {
     "name": "stderr",
     "output_type": "stream",
     "text": [
      "Falling back to insecure randomness since the required custom op could not be found for the installed version of TensorFlow. Fix this by compiling custom ops. Missing file was '/home/sukhad/pysyft-test/lib/python3.6/site-packages/tf_encrypted-0.6.0rc0-py3.6-linux-x86_64.egg/tf_encrypted/operations/secure_random/secure_random_module_tf_2.0.0.so', error was \"/lib/x86_64-linux-gnu/libc.so.6: version `GLIBC_2.25' not found (required by /home/sukhad/pysyft-test/lib/python3.6/site-packages/tf_encrypted-0.6.0rc0-py3.6-linux-x86_64.egg/tf_encrypted/operations/secure_random/secure_random_module_tf_2.0.0.so)\".\n"
     ]
    }
   ],
   "source": [
    "import random\n",
    "\n",
    "import numpy as np\n",
    "\n",
    "import torch\n",
    "import torch.nn as nn\n",
    "import torch.nn.functional as F\n",
    "\n",
    "import torch.optim as optim\n",
    "\n",
    "import torchvision\n",
    "import torchvision.transforms as transforms\n",
    "\n",
    "import matplotlib.pyplot as plt\n",
    "\n",
    "import pickle\n",
    "import time \n",
    "\n",
    "from resnet import ResNet18\n",
    "\n",
    "import syft as sy\n",
    "\n",
    "hook = sy.TorchHook(torch=torch)\n",
    "\n",
    "%matplotlib inline"
   ]
  },
  {
   "cell_type": "code",
   "execution_count": 2,
   "metadata": {
    "colab": {
     "base_uri": "https://localhost:8080/",
     "height": 34
    },
    "colab_type": "code",
    "executionInfo": {
     "elapsed": 8028,
     "status": "ok",
     "timestamp": 1588593904539,
     "user": {
      "displayName": "Sukhad J",
      "photoUrl": "https://lh3.googleusercontent.com/a-/AOh14Gj0xkMkjHDGHfozVfjbXx7_RJ0mSIYvRjRe2Z_vTA=s64",
      "userId": "00035987704376995024"
     },
     "user_tz": -330
    },
    "id": "Wu5az7mNLcfG",
    "outputId": "6d12fedf-a851-4c26-fb66-3874007d2ed8"
   },
   "outputs": [
    {
     "name": "stdout",
     "output_type": "stream",
     "text": [
      "cpu\n"
     ]
    }
   ],
   "source": [
    "BATCH_SIZE = 64\n",
    "NUM_EPOCH = 350\n",
    "NUM_CLASS = 10  \n",
    "#MODEL_PATH = \"drive/My Drive/cifar-backdoor/models/cifar-resnet-checkpoint-250ep-False.pt\"\n",
    "NUM_WORKERS = 100\n",
    "attacker_index = 42\n",
    "\n",
    "#alpha = \n",
    "\n",
    "device = torch.device(\"cuda:0\" if torch.cuda.is_available() else \"cpu\")\n",
    "print(device)"
   ]
  },
  {
   "cell_type": "code",
   "execution_count": 3,
   "metadata": {
    "colab": {},
    "colab_type": "code",
    "id": "EUVfXwQoMGRn"
   },
   "outputs": [],
   "source": [
    "with open('/home/sukhad/Workspace/GithHub/backdoor_fl/data/indices.pkl',\"rb\") as f:\n",
    "    backdoor_indices = pickle.load(f)"
   ]
  },
  {
   "cell_type": "code",
   "execution_count": 4,
   "metadata": {
    "colab": {
     "base_uri": "https://localhost:8080/",
     "height": 52
    },
    "colab_type": "code",
    "executionInfo": {
     "elapsed": 26426,
     "status": "ok",
     "timestamp": 1588593922954,
     "user": {
      "displayName": "Sukhad J",
      "photoUrl": "https://lh3.googleusercontent.com/a-/AOh14Gj0xkMkjHDGHfozVfjbXx7_RJ0mSIYvRjRe2Z_vTA=s64",
      "userId": "00035987704376995024"
     },
     "user_tz": -330
    },
    "id": "fs7e9CKkMXsf",
    "outputId": "0d0572ea-f9b8-4295-836f-94bfe9d3b56a"
   },
   "outputs": [
    {
     "name": "stdout",
     "output_type": "stream",
     "text": [
      "Files already downloaded and verified\n",
      "Files already downloaded and verified\n"
     ]
    }
   ],
   "source": [
    "train_transformer = transforms.Compose([transforms.RandomCrop(size=32, padding=4), \n",
    "                                        transforms.RandomHorizontalFlip(), \n",
    "                                        transforms.ToTensor(), \n",
    "                                        transforms.Normalize((0.5, 0.5, 0.5), (0.5, 0.5, 0.5))])\n",
    "\n",
    "test_transformer = transforms.Compose([transforms.ToTensor(), \n",
    "                                       transforms.Normalize((0.5, 0.5, 0.5), (0.5, 0.5, 0.5))])\n",
    "\n",
    "train_data = torchvision.datasets.CIFAR10(root=\"drive/My Drive/cifar-backdoor/\", train=True, \n",
    "                                          download=True, transform=train_transformer)\n",
    "\n",
    "\n",
    "benign_data = list()\n",
    "backdoor_data = list()\n",
    "\n",
    "_backdoor_ind = list()\n",
    "for key in backdoor_indices.keys():\n",
    "    _backdoor_ind += backdoor_indices[key] \n",
    "\n",
    "for idx, x in enumerate(train_data):\n",
    "    if idx in _backdoor_ind:\n",
    "        tup = (x[0],2)\n",
    "        backdoor_data.append(tup)\n",
    "    else:\n",
    "        benign_data.append(x)\n",
    "\n",
    "benign_dataloader = torch.utils.data.DataLoader(dataset=benign_data, batch_size=64, \n",
    "                                         shuffle=True)\n",
    "\n",
    "backdoor_dataloader = torch.utils.data.DataLoader(dataset=backdoor_data, batch_size=64, \n",
    "                                         shuffle=True)\n",
    "\n",
    "test_data = torchvision.datasets.CIFAR10(root=\"drive/My Drive/cifar-backdoor/\", train=False, \n",
    "                                         download=True, transform=test_transformer)\n",
    "testloader = torch.utils.data.DataLoader(dataset=test_data, batch_size=64, \n",
    "                                         shuffle=True)\n",
    "\n",
    "labels = (\"airplane\", \"automobile\", \"bird\", \"cat\", \"deer\", \"dog\", \"frog\", \"horse\", \"ship\", \"truck\")\n"
   ]
  },
  {
   "cell_type": "code",
   "execution_count": 5,
   "metadata": {
    "colab": {},
    "colab_type": "code",
    "id": "vN905FpzI1GE"
   },
   "outputs": [],
   "source": [
    "def convert_image(img):\n",
    "    img = img / 2 + 0.5\n",
    "    img = img.numpy()\n",
    "    return img.transpose(1,2,0) \n",
    "\n",
    "\n",
    "def plot_images(dataloader):\n",
    "    data, label = next(iter(dataloader))\n",
    "    ax_dim = 2\n",
    "    indices = list()\n",
    "    for i in range(ax_dim**2):\n",
    "        indices.append(np.random.choice(range(len(data))))\n",
    "  \n",
    "    label_list = list()\n",
    "  \n",
    "    fig, axes = plt.subplots(ax_dim,ax_dim,figsize=(3,3))\n",
    "    i = 0\n",
    "    for j in range(ax_dim):\n",
    "        for k in range(ax_dim):\n",
    "            axes[j][k].set_axis_off()\n",
    "            #print(batch_ind)\n",
    "            #print(img_ind)\n",
    "            axes[j][k].imshow(convert_image(data[indices[i]]))\n",
    "            label_list.append(labels[label[indices[i]]])\n",
    "            i += 1\n",
    "\n",
    "  #print(label_list)"
   ]
  },
  {
   "cell_type": "code",
   "execution_count": 6,
   "metadata": {
    "colab": {
     "base_uri": "https://localhost:8080/",
     "height": 211
    },
    "colab_type": "code",
    "executionInfo": {
     "elapsed": 27470,
     "status": "ok",
     "timestamp": 1588593924015,
     "user": {
      "displayName": "Sukhad J",
      "photoUrl": "https://lh3.googleusercontent.com/a-/AOh14Gj0xkMkjHDGHfozVfjbXx7_RJ0mSIYvRjRe2Z_vTA=s64",
      "userId": "00035987704376995024"
     },
     "user_tz": -330
    },
    "id": "jutS1d4fb6g8",
    "outputId": "f16d7718-051c-4987-d526-db14028467f1"
   },
   "outputs": [
    {
     "name": "stdout",
     "output_type": "stream",
     "text": [
      "benign images\n"
     ]
    },
    {
     "data": {
      "image/png": "[encoded data removed]",
      "text/plain": [
       "<Figure size 216x216 with 4 Axes>"
      ]
     },
     "metadata": {
      "needs_background": "light"
     },
     "output_type": "display_data"
    }
   ],
   "source": [
    "print(\"benign images\")\n",
    "plot_images(benign_dataloader)  # Normal images"
   ]
  },
  {
   "cell_type": "code",
   "execution_count": 7,
   "metadata": {
    "colab": {
     "base_uri": "https://localhost:8080/",
     "height": 211
    },
    "colab_type": "code",
    "executionInfo": {
     "elapsed": 27459,
     "status": "ok",
     "timestamp": 1588593924017,
     "user": {
      "displayName": "Sukhad J",
      "photoUrl": "https://lh3.googleusercontent.com/a-/AOh14Gj0xkMkjHDGHfozVfjbXx7_RJ0mSIYvRjRe2Z_vTA=s64",
      "userId": "00035987704376995024"
     },
     "user_tz": -330
    },
    "id": "gdPBTWhUcDAO",
    "outputId": "7e7e2b60-888b-43e5-dfce-6b1c1544c11f"
   },
   "outputs": [
    {
     "name": "stdout",
     "output_type": "stream",
     "text": [
      "backdoor images\n"
     ]
    },
    {
     "data": {
      "image/png": "[encoded data removed]",
      "text/plain": [
       "<Figure size 216x216 with 4 Axes>"
      ]
     },
     "metadata": {
      "needs_background": "light"
     },
     "output_type": "display_data"
    }
   ],
   "source": [
    "print(\"backdoor images\")\n",
    "plot_images(backdoor_dataloader)  # backdoor images"
   ]
  },
  {
   "cell_type": "code",
   "execution_count": 8,
   "metadata": {
    "colab": {},
    "colab_type": "code",
    "id": "jdNVJW5U-Ia9"
   },
   "outputs": [],
   "source": [
    "# Generate 100 virtual workers\n",
    "workers = list()\n",
    "data_dict = dict()\n",
    "\n",
    "for i in range(NUM_WORKERS):\n",
    "    workers.append(sy.VirtualWorker(hook=hook, id=\"worker\"+str(i)))\n",
    "    data_dict[\"worker\"+str(i)] = list()\n",
    "\n",
    "attacker_worker = workers[attacker_index]\n",
    "\n",
    "secure_worker = sy.VirtualWorker(hook=hook, id=\"secure_worker\")"
   ]
  },
  {
   "cell_type": "code",
   "execution_count": 9,
   "metadata": {
    "colab": {},
    "colab_type": "code",
    "id": "opF6YGzy-oQL"
   },
   "outputs": [],
   "source": [
    "# let's distribute the benign training data\n",
    "for idx, (data, label) in enumerate(benign_dataloader):\n",
    "    worker = workers[idx % NUM_WORKERS]\n",
    "    data = data.send(worker)\n",
    "    label = label.send(worker)\n",
    "\n",
    "    data_dict[worker.id].append((data, label)) "
   ]
  },
  {
   "cell_type": "code",
   "execution_count": 10,
   "metadata": {
    "colab": {},
    "colab_type": "code",
    "id": "qRdgFp1E-pkR"
   },
   "outputs": [],
   "source": [
    "# let's distribute the backdoor data\n",
    "attacker_backdoor_data = list()\n",
    "\n",
    "attacker_worker = workers[attacker_index]\n",
    "for data, label in backdoor_data:\n",
    "    data = data.send(attacker_worker)\n",
    "    label = torch.tensor(label).send(attacker_worker)\n",
    "\n",
    "    attacker_backdoor_data.append((data, label))"
   ]
  },
  {
   "cell_type": "code",
   "execution_count": 11,
   "metadata": {
    "colab": {},
    "colab_type": "code",
    "id": "50PM4h7w3d8T"
   },
   "outputs": [],
   "source": [
    "def replace_data(benign_data, benign_label, attacker_backdoor_data, c=20):\n",
    "    benign_indices = random.sample(range(64), c)\n",
    "    backdoor_indices = random.sample(range(64), c)\n",
    "\n",
    "    for i in range(c):\n",
    "        benign_data[benign_indices[i]] = attacker_backdoor_data[backdoor_indices[i]][0]\n",
    "        benign_label[benign_indices[i]] = attacker_backdoor_data[backdoor_indices[i]][1] "
   ]
  },
  {
   "cell_type": "code",
   "execution_count": 12,
   "metadata": {},
   "outputs": [],
   "source": [
    "def constraint_and_scale(global_model, worker_model, gamma):\n",
    "    global_model_copy = global_model.copy().send(worker_model.location)\n",
    "    \n",
    "    for key in global_model_copy.layers_dict.keys():\n",
    "        bias_none = False\n",
    "        \n",
    "        layer = worker_model.get_layer(key)\n",
    "        \n",
    "        if not hasattr(layer, 'weight'):\n",
    "            continue\n",
    "        \n",
    "        if not hasattr(layer, 'bias') or layer.bias is None:\n",
    "            bias_none = True\n",
    "        \n",
    "        x_weight = layer.weight.copy()\n",
    "        if not bias_none:\n",
    "            x_bias = layer.bias.copy()\n",
    "        \n",
    "        x_weight += gamma*(layer.weight - global_model_copy.get_layer(key).weight)\n",
    "        \n",
    "        if not bias_none:\n",
    "            x_bias += gamma*(layer.bias - global_model_copy.get_layer(key).bias)\n",
    "            \n",
    "        worker_model.get_layer(key).weight = x_weight\n",
    "        \n",
    "        if not bias_none:\n",
    "            worker_model.ge_layer(key).bias = x_bias\n",
    "            \n",
    "        return worker_model"
   ]
  },
  {
   "cell_type": "code",
   "execution_count": 13,
   "metadata": {
    "colab": {},
    "colab_type": "code",
    "id": "IuYo_uGdArV3"
   },
   "outputs": [],
   "source": [
    "def train(global_model, criterion, train_workers, gamma=0.1):\n",
    "    worker_models_list = list()\n",
    "\n",
    "    for worker in train_workers:\n",
    "\n",
    "        print(worker.id)\n",
    "\n",
    "        train_data = data_dict.get(worker.id)\n",
    "    \n",
    "        worker_model = global_model.copy().send(worker)\n",
    "    \n",
    "        optimizer = optim.SGD(worker_model.parameters(), lr=0.1, momentum=0.9, weight_decay=0.0001)\n",
    "    \n",
    "        for i in range(2):\n",
    "            for data, label in train_data:\n",
    "\n",
    "                if worker.id==attacker_worker.id:\n",
    "                    replace_data(data, label, attacker_backdoor_data)\n",
    "\n",
    "            optimizer.zero_grad()\n",
    "\n",
    "            out = worker_model(data)\n",
    "\n",
    "            loss = criterion(out, label)\n",
    "            \n",
    "            loss.backward()\n",
    "        \n",
    "            optimizer.step()\n",
    "            \n",
    "        if worker.id == attacker_worker.id:\n",
    "            worker_model = constraint_and_scale(global_model, worker_model, gamma)\n",
    "\n",
    "        worker_models_list.append(worker_model)\n",
    "        \n",
    "    return worker_models_list"
   ]
  },
  {
   "cell_type": "code",
   "execution_count": 14,
   "metadata": {
    "colab": {},
    "colab_type": "code",
    "id": "5xcYHdL76p0i"
   },
   "outputs": [],
   "source": [
    "# I don't like this \n",
    "def secure_aggregation(global_model, worker_models_list, gamma=0.1):\n",
    "    \n",
    "    print(\"secure aggreagating\")\n",
    "    global_model.send(secure_worker)\n",
    "\n",
    "    worker_model_layers = dict()\n",
    "    \n",
    "    for worker_model in worker_models_list:\n",
    "        worker_model.move(secure_worker)\n",
    "    \n",
    "    for key in global_model.layers_dict.keys():\n",
    "        bias_none = False\n",
    "        \n",
    "        layer = global_model.get_layer(key)\n",
    "        \n",
    "        if not hasattr(layer, 'weight'):\n",
    "            continue\n",
    "            \n",
    "        \n",
    "        if not hasattr(layer, 'bias') or layer.bias is None:\n",
    "            bias_none = True\n",
    "            \n",
    "        x_weight = layer.weight.copy()\n",
    "        if not bias_none:\n",
    "            x_bias = layer.bias.copy()\n",
    "            \n",
    "        for worker_model in worker_models_list:\n",
    "            x_weight += gamma*(worker_model.get_layer(key).weight.child - layer.weight)\n",
    "            \n",
    "            if not bias_none:\n",
    "                x_bias += gamma*(worker_model.get_layer(key).bias.child - layer.bias)\n",
    "        \n",
    "        layer.weight = x_weight\n",
    "        \n",
    "        if not bias_none:\n",
    "            layer.bias = x_bias\n",
    "    \n",
    "\n",
    "        \n",
    "    global_model.get()"
   ]
  },
  {
   "cell_type": "code",
   "execution_count": 28,
   "metadata": {},
   "outputs": [],
   "source": [
    "def calculate_loss(model, criterion, benign_dataloader, backdoor_dataloader):\n",
    "    \n",
    "    with torch.no_grad():\n",
    "    \n",
    "        benign_running_loss = 0.0\n",
    "\n",
    "        data, label = next(iter(benign_dataloader))\n",
    "\n",
    "        out = model(data)\n",
    "\n",
    "        loss = criterion(out, label)\n",
    "\n",
    "        benign_running_loss += loss.item()\n",
    "    \n",
    "    #     for data, label in iter(benign_dataloader):\n",
    "    #         out = model(data)\n",
    "\n",
    "    #         loss = criterion(out, label)\n",
    "\n",
    "    #         benign_running_loss += loss\n",
    "\n",
    "        print(\"Benign data loss: \", (benign_running_loss/len(benign_dataloader)))\n",
    "\n",
    "\n",
    "        backdoor_running_loss = 0.0\n",
    "        \n",
    "        data, label = next(iter(backdoor_dataloader))\n",
    "        \n",
    "        out = model(data)\n",
    "        \n",
    "        loss = criterion(out, label)\n",
    "        \n",
    "        backdoor_running_loss += loss.item()\n",
    "    #     for data, label in iter(backdoor_dataloader):\n",
    "    #         out = model(data)\n",
    "\n",
    "    #         loss = criterion(out, label)\n",
    "\n",
    "    #         backdoor_running_loss += loss\n",
    "\n",
    "        print(\"Backdoor data loss: \", (backdoor_running_loss/len(backdoor_dataloader)))    "
   ]
  },
  {
   "cell_type": "code",
   "execution_count": 29,
   "metadata": {
    "colab": {},
    "colab_type": "code",
    "id": "IBtSeCxxCwJF"
   },
   "outputs": [],
   "source": [
    "model = ResNet18().to(device)"
   ]
  },
  {
   "cell_type": "code",
   "execution_count": 30,
   "metadata": {
    "colab": {},
    "colab_type": "code",
    "id": "oXxkW-2fZzV_"
   },
   "outputs": [],
   "source": [
    "criterion = nn.CrossEntropyLoss()"
   ]
  },
  {
   "cell_type": "code",
   "execution_count": 32,
   "metadata": {
    "colab": {
     "base_uri": "https://localhost:8080/",
     "height": 34
    },
    "colab_type": "code",
    "executionInfo": {
     "elapsed": 7577,
     "status": "ok",
     "timestamp": 1588594927722,
     "user": {
      "displayName": "Sukhad J",
      "photoUrl": "https://lh3.googleusercontent.com/a-/AOh14Gj0xkMkjHDGHfozVfjbXx7_RJ0mSIYvRjRe2Z_vTA=s64",
      "userId": "00035987704376995024"
     },
     "user_tz": -330
    },
    "id": "fFqpXNbETTKk",
    "outputId": "72e9dad8-e604-4759-a93b-9ee0633da7a1"
   },
   "outputs": [
    {
     "name": "stdout",
     "output_type": "stream",
     "text": [
      "worker13\n",
      "worker71\n",
      "worker27\n",
      "worker30\n",
      "worker6\n",
      "worker82\n",
      "worker20\n",
      "worker31\n",
      "worker59\n",
      "worker41\n",
      "secure aggreagating\n",
      "Benign data loss:  0.003154297033742204\n",
      "Backdoor data loss:  1.9036308526992798\n",
      "worker74\n",
      "worker60\n",
      "worker61\n",
      "worker18\n",
      "worker24\n",
      "worker19\n",
      "worker84\n",
      "worker70\n",
      "worker51\n",
      "worker98\n",
      "secure aggreagating\n",
      "Benign data loss:  0.003924459257138065\n",
      "Backdoor data loss:  5.745994567871094\n"
     ]
    }
   ],
   "source": [
    "for _ in range(2):\n",
    "    train_workers = [workers[i] for i in random.sample(range(NUM_WORKERS), 10)]\n",
    "    worker_models_list = train(model, criterion, train_workers)\n",
    "    secure_aggregation(model, worker_models_list, 0.1)\n",
    "    \n",
    "    calculate_loss(model, criterion, benign_dataloader, backdoor_dataloader)"
   ]
  },
  {
   "cell_type": "code",
   "execution_count": null,
   "metadata": {},
   "outputs": [],
   "source": []
  },
  {
   "cell_type": "code",
   "execution_count": null,
   "metadata": {},
   "outputs": [],
   "source": []
  },
  {
   "cell_type": "code",
   "execution_count": null,
   "metadata": {},
   "outputs": [],
   "source": []
  },
  {
   "cell_type": "code",
   "execution_count": null,
   "metadata": {},
   "outputs": [],
   "source": []
  },
  {
   "cell_type": "code",
   "execution_count": null,
   "metadata": {},
   "outputs": [],
   "source": []
  }
 ],
 "metadata": {
  "colab": {
   "authorship_tag": "ABX9TyOFpQ60CwH4QSC9Tm85inDD",
   "collapsed_sections": [],
   "mount_file_id": "1QcZjXUIkBqAJa1baQH_2QfRE7UxhaJtP",
   "name": "backdoor-fl-cifar.ipynb",
   "provenance": []
  },
  "kernelspec": {
   "display_name": "Python 3",
   "language": "python",
   "name": "python3"
  },
  "language_info": {
   "codemirror_mode": {
    "name": "ipython",
    "version": 3
   },
   "file_extension": ".py",
   "mimetype": "text/x-python",
   "name": "python",
   "nbconvert_exporter": "python",
   "pygments_lexer": "ipython3",
   "version": "3.6.9"
  }
 },
 "nbformat": 4,
 "nbformat_minor": 1
}

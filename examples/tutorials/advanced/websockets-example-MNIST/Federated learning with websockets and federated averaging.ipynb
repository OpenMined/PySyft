{
 "cells": [
  {
   "cell_type": "markdown",
   "metadata": {},
   "source": [
    "# Tutorial: Federated learning with websockets and federated averaging\n",
    "\n",
    "This notebook will go through the steps to run a federated learning via websocket workers. We will use federated averaging to join the remotely trained models. \n",
    "\n",
    "Authors:\n",
    "- midokura-silvia"
   ]
  },
  {
   "cell_type": "markdown",
   "metadata": {},
   "source": [
    "## Preparation: start the websocket server workers\n",
    "\n",
    "Each worker is represented by two parts, a local handle (websocket client worker) and the remote instance that holds the data and performs the computations. The remote part is called a websocket server worker.\n",
    "\n",
    "So first, we need to create the remote workers. For this, you need to run in a terminal (not possible from the notebook):\n",
    "\n",
    "```bash\n",
    "python start_websocket_servers.py\n",
    "```"
   ]
  },
  {
   "cell_type": "markdown",
   "metadata": {},
   "source": [
    "## Setting up the websocket client workers"
   ]
  },
  {
   "cell_type": "markdown",
   "metadata": {},
   "source": [
    "We first need to perform the imports and setup some arguments and variables."
   ]
  },
  {
   "cell_type": "code",
   "execution_count": 1,
   "metadata": {},
   "outputs": [],
   "source": [
    "%load_ext autoreload\n",
    "%autoreload 2"
   ]
  },
  {
   "cell_type": "code",
   "execution_count": 2,
   "metadata": {},
   "outputs": [],
   "source": [
    "import sys\n",
    "import syft as sy\n",
    "from syft.workers import WebsocketClientWorker\n",
    "import torch\n",
    "from torchvision import datasets, transforms\n",
    "\n",
    "from syft.frameworks.torch.federated import utils"
   ]
  },
  {
   "cell_type": "code",
   "execution_count": 3,
   "metadata": {},
   "outputs": [],
   "source": [
    "import run_websocket_client as rwc"
   ]
  },
  {
   "cell_type": "code",
   "execution_count": 4,
   "metadata": {
    "scrolled": true
   },
   "outputs": [
    {
     "name": "stdout",
     "output_type": "stream",
     "text": [
      "Namespace(batch_size=64, cuda=False, epochs=2, federate_after_n_batches=50, lr=0.01, save_model=False, seed=1, test_batch_size=1000, use_virtual=False, verbose=False)\n"
     ]
    }
   ],
   "source": [
    "args = rwc.define_and_get_arguments(args=[])\n",
    "use_cuda = args.cuda and torch.cuda.is_available()\n",
    "torch.manual_seed(args.seed)\n",
    "device = torch.device(\"cuda\" if use_cuda else \"cpu\")\n",
    "print(args)"
   ]
  },
  {
   "cell_type": "markdown",
   "metadata": {},
   "source": [
    "Now let's instantiate the websocket client workers, our local access point to the remote workers.\n",
    "Note that **this step will fail, if the websocket server workers are not running**."
   ]
  },
  {
   "cell_type": "code",
   "execution_count": 5,
   "metadata": {},
   "outputs": [
    {
     "name": "stdout",
     "output_type": "stream",
     "text": [
      "[<WebsocketClientWorker id:alice #tensors:0>, <WebsocketClientWorker id:bob #tensors:0>, <WebsocketClientWorker id:charlie #tensors:0>]\n"
     ]
    }
   ],
   "source": [
    "hook = sy.TorchHook(torch)\n",
    "\n",
    "kwargs_websocket = {\"host\": \"localhost\", \"hook\": hook, \"verbose\": args.verbose}\n",
    "alice = WebsocketClientWorker(id=\"alice\", port=8777, **kwargs_websocket)\n",
    "bob = WebsocketClientWorker(id=\"bob\", port=8778, **kwargs_websocket)\n",
    "charlie = WebsocketClientWorker(id=\"charlie\", port=8779, **kwargs_websocket)\n",
    "\n",
    "workers = [alice, bob, charlie]\n",
    "print(workers)\n"
   ]
  },
  {
   "cell_type": "markdown",
   "metadata": {},
   "source": [
    "## Prepare and distribute the training data\n",
    "\n",
    "We will use the MNIST dataset and distribute the data randomly onto the workers. \n",
    "This is not realistic for a federated training setup, where the data would normally already be available at the remote workers.\n",
    "\n",
    "We instantiate two FederatedDataLoaders, one for the train and one for the test set of the MNIST dataset.\n",
    "\n",
    "*If you run into BrokenPipe errors try to restart the notebook or try running [run_websocket_client.py](run_websocket_client.py) (Python script that contains the same code of this notebook)*"
   ]
  },
  {
   "cell_type": "code",
   "execution_count": 6,
   "metadata": {},
   "outputs": [],
   "source": [
    "federated_train_loader = sy.FederatedDataLoader(\n",
    "    datasets.MNIST(\n",
    "        \"../data\",\n",
    "        train=True,\n",
    "        download=True,\n",
    "        transform=transforms.Compose(\n",
    "            [transforms.ToTensor(), transforms.Normalize((0.1307,), (0.3081,))]\n",
    "        ),\n",
    "    ).federate(tuple(workers)),\n",
    "    batch_size=args.batch_size,\n",
    "    shuffle=True,\n",
    "    iter_per_worker=True\n",
    ")\n",
    "\n",
    "test_loader = torch.utils.data.DataLoader(\n",
    "    datasets.MNIST(\n",
    "        \"../data\",\n",
    "        train=False,\n",
    "        transform=transforms.Compose(\n",
    "            [transforms.ToTensor(), transforms.Normalize((0.1307,), (0.3081,))]\n",
    "        ),\n",
    "    ),\n",
    "    batch_size=args.test_batch_size,\n",
    "    shuffle=True\n",
    ")\n"
   ]
  },
  {
   "cell_type": "markdown",
   "metadata": {},
   "source": [
    "Next, we need to instantiate the machine learning model. It is a small neural network with 2 convolutional and two fully connected layers. \n",
    "It uses ReLU activations and max pooling."
   ]
  },
  {
   "cell_type": "code",
   "execution_count": 7,
   "metadata": {},
   "outputs": [
    {
     "name": "stdout",
     "output_type": "stream",
     "text": [
      "Net(\n",
      "  (conv1): Conv2d(1, 20, kernel_size=(5, 5), stride=(1, 1))\n",
      "  (conv2): Conv2d(20, 50, kernel_size=(5, 5), stride=(1, 1))\n",
      "  (fc1): Linear(in_features=800, out_features=500, bias=True)\n",
      "  (fc2): Linear(in_features=500, out_features=10, bias=True)\n",
      ")\n"
     ]
    }
   ],
   "source": [
    "model = rwc.Net().to(device)\n",
    "print(model)"
   ]
  },
  {
   "cell_type": "markdown",
   "metadata": {},
   "source": [
    "Now we are ready to define the training loop. We will perform training over a given number of batches separately on each worker and then calculate the federated average of the resulting model."
   ]
  },
  {
   "cell_type": "code",
   "execution_count": 8,
   "metadata": {},
   "outputs": [],
   "source": [
    "def train(model, device, federated_train_loader, lr, federate_after_n_batches):\n",
    "    model.train()\n",
    "\n",
    "    nr_batches = federate_after_n_batches\n",
    "\n",
    "    models = {}\n",
    "    loss_values = {}\n",
    "\n",
    "    iter(federated_train_loader)  # initialize iterators\n",
    "    batches = rwc.get_next_batches(federated_train_loader, nr_batches)\n",
    "    counter = 0\n",
    "\n",
    "    while True:\n",
    "        print(\"Starting training round, batches [{}, {}]\".format(counter, counter + nr_batches))\n",
    "        data_for_all_workers = True\n",
    "        for worker in batches:\n",
    "            curr_batches = batches[worker]\n",
    "            if curr_batches:\n",
    "                models[worker], loss_values[worker] = rwc.train_on_batches(\n",
    "                    worker, curr_batches, model, device, lr\n",
    "                )\n",
    "            else:\n",
    "                data_for_all_workers = False\n",
    "        counter += nr_batches\n",
    "        if not data_for_all_workers:\n",
    "            logger.debug(\"At least one worker ran out of data, stopping.\")\n",
    "            break\n",
    "\n",
    "        model = utils.federated_avg(models)\n",
    "        batches = rwc.get_next_batches(federated_train_loader, nr_batches)\n",
    "    return model"
   ]
  },
  {
   "cell_type": "code",
   "execution_count": 9,
   "metadata": {},
   "outputs": [],
   "source": [
    "import logging\n",
    "FORMAT = \"%(asctime)s %(levelname)s %(filename)s(l:%(lineno)d) - %(message)s\"\n",
    "LOG_LEVEL = logging.DEBUG\n",
    "logging.basicConfig(format=FORMAT, level=LOG_LEVEL)\n",
    "logger = logging.getLogger(\"main\")"
   ]
  },
  {
   "cell_type": "markdown",
   "metadata": {},
   "source": [
    "## Let's start the training\n",
    "\n",
    "Now we are ready to start the federated training."
   ]
  },
  {
   "cell_type": "code",
   "execution_count": 10,
   "metadata": {},
   "outputs": [
    {
     "name": "stdout",
     "output_type": "stream",
     "text": [
      "Starting epoch 1/2\n"
     ]
    },
    {
     "name": "stderr",
     "output_type": "stream",
     "text": [
      "2019-04-12 14:02:48,628 DEBUG run_websocket_client.py(l:77) - Train Worker alice: [0/50 (0%)]\tLoss: 2.310694\n"
     ]
    },
    {
     "name": "stdout",
     "output_type": "stream",
     "text": [
      "Starting training round, batches [0, 50]\n"
     ]
    },
    {
     "name": "stderr",
     "output_type": "stream",
     "text": [
      "2019-04-12 14:02:50,041 DEBUG run_websocket_client.py(l:77) - Train Worker alice: [25/50 (50%)]\tLoss: 2.204359\n",
      "2019-04-12 14:02:53,351 DEBUG run_websocket_client.py(l:77) - Train Worker bob: [0/50 (0%)]\tLoss: 2.298535\n",
      "2019-04-12 14:02:54,728 DEBUG run_websocket_client.py(l:77) - Train Worker bob: [25/50 (50%)]\tLoss: 2.222379\n",
      "2019-04-12 14:02:58,047 DEBUG run_websocket_client.py(l:77) - Train Worker charlie: [0/50 (0%)]\tLoss: 2.314187\n",
      "2019-04-12 14:02:59,412 DEBUG run_websocket_client.py(l:77) - Train Worker charlie: [25/50 (50%)]\tLoss: 2.209582\n",
      "2019-04-12 14:03:11,753 DEBUG run_websocket_client.py(l:77) - Train Worker alice: [0/50 (0%)]\tLoss: 2.073467\n"
     ]
    },
    {
     "name": "stdout",
     "output_type": "stream",
     "text": [
      "Starting training round, batches [50, 100]\n"
     ]
    },
    {
     "name": "stderr",
     "output_type": "stream",
     "text": [
      "2019-04-12 14:03:13,184 DEBUG run_websocket_client.py(l:77) - Train Worker alice: [25/50 (50%)]\tLoss: 1.754500\n",
      "2019-04-12 14:03:16,378 DEBUG run_websocket_client.py(l:77) - Train Worker bob: [0/50 (0%)]\tLoss: 2.028826\n",
      "2019-04-12 14:03:17,741 DEBUG run_websocket_client.py(l:77) - Train Worker bob: [25/50 (50%)]\tLoss: 1.827653\n",
      "2019-04-12 14:03:20,934 DEBUG run_websocket_client.py(l:77) - Train Worker charlie: [0/50 (0%)]\tLoss: 2.114090\n",
      "2019-04-12 14:03:22,330 DEBUG run_websocket_client.py(l:77) - Train Worker charlie: [25/50 (50%)]\tLoss: 1.715518\n",
      "2019-04-12 14:03:34,722 DEBUG run_websocket_client.py(l:77) - Train Worker alice: [0/50 (0%)]\tLoss: 1.188168\n"
     ]
    },
    {
     "name": "stdout",
     "output_type": "stream",
     "text": [
      "Starting training round, batches [100, 150]\n"
     ]
    },
    {
     "name": "stderr",
     "output_type": "stream",
     "text": [
      "2019-04-12 14:03:36,117 DEBUG run_websocket_client.py(l:77) - Train Worker alice: [25/50 (50%)]\tLoss: 0.915369\n",
      "2019-04-12 14:03:39,357 DEBUG run_websocket_client.py(l:77) - Train Worker bob: [0/50 (0%)]\tLoss: 1.235479\n",
      "2019-04-12 14:03:40,729 DEBUG run_websocket_client.py(l:77) - Train Worker bob: [25/50 (50%)]\tLoss: 0.994216\n",
      "2019-04-12 14:03:43,935 DEBUG run_websocket_client.py(l:77) - Train Worker charlie: [0/50 (0%)]\tLoss: 1.238940\n",
      "2019-04-12 14:03:45,421 DEBUG run_websocket_client.py(l:77) - Train Worker charlie: [25/50 (50%)]\tLoss: 0.811746\n",
      "2019-04-12 14:03:58,167 DEBUG run_websocket_client.py(l:77) - Train Worker alice: [0/50 (0%)]\tLoss: 0.610646\n"
     ]
    },
    {
     "name": "stdout",
     "output_type": "stream",
     "text": [
      "Starting training round, batches [150, 200]\n"
     ]
    },
    {
     "name": "stderr",
     "output_type": "stream",
     "text": [
      "2019-04-12 14:03:59,560 DEBUG run_websocket_client.py(l:77) - Train Worker alice: [25/50 (50%)]\tLoss: 0.637114\n",
      "2019-04-12 14:04:02,736 DEBUG run_websocket_client.py(l:77) - Train Worker bob: [0/50 (0%)]\tLoss: 0.665207\n",
      "2019-04-12 14:04:04,140 DEBUG run_websocket_client.py(l:77) - Train Worker bob: [25/50 (50%)]\tLoss: 0.513375\n",
      "2019-04-12 14:04:07,370 DEBUG run_websocket_client.py(l:77) - Train Worker charlie: [0/50 (0%)]\tLoss: 0.644859\n",
      "2019-04-12 14:04:08,725 DEBUG run_websocket_client.py(l:77) - Train Worker charlie: [25/50 (50%)]\tLoss: 0.594011\n",
      "2019-04-12 14:04:20,865 DEBUG run_websocket_client.py(l:77) - Train Worker alice: [0/50 (0%)]\tLoss: 0.418461\n"
     ]
    },
    {
     "name": "stdout",
     "output_type": "stream",
     "text": [
      "Starting training round, batches [200, 250]\n"
     ]
    },
    {
     "name": "stderr",
     "output_type": "stream",
     "text": [
      "2019-04-12 14:04:22,244 DEBUG run_websocket_client.py(l:77) - Train Worker alice: [25/50 (50%)]\tLoss: 0.521444\n",
      "2019-04-12 14:04:25,461 DEBUG run_websocket_client.py(l:77) - Train Worker bob: [0/50 (0%)]\tLoss: 0.413739\n",
      "2019-04-12 14:04:26,919 DEBUG run_websocket_client.py(l:77) - Train Worker bob: [25/50 (50%)]\tLoss: 0.422240\n",
      "2019-04-12 14:04:30,360 DEBUG run_websocket_client.py(l:77) - Train Worker charlie: [0/50 (0%)]\tLoss: 0.482074\n",
      "2019-04-12 14:04:31,716 DEBUG run_websocket_client.py(l:77) - Train Worker charlie: [25/50 (50%)]\tLoss: 0.268787\n",
      "2019-04-12 14:04:45,137 DEBUG run_websocket_client.py(l:77) - Train Worker alice: [0/50 (0%)]\tLoss: 0.301382\n"
     ]
    },
    {
     "name": "stdout",
     "output_type": "stream",
     "text": [
      "Starting training round, batches [250, 300]\n"
     ]
    },
    {
     "name": "stderr",
     "output_type": "stream",
     "text": [
      "2019-04-12 14:04:46,620 DEBUG run_websocket_client.py(l:77) - Train Worker alice: [25/50 (50%)]\tLoss: 0.272147\n",
      "2019-04-12 14:04:50,040 DEBUG run_websocket_client.py(l:77) - Train Worker bob: [0/50 (0%)]\tLoss: 0.295762\n",
      "2019-04-12 14:04:51,473 DEBUG run_websocket_client.py(l:77) - Train Worker bob: [25/50 (50%)]\tLoss: 0.330889\n",
      "2019-04-12 14:04:54,889 DEBUG run_websocket_client.py(l:77) - Train Worker charlie: [0/50 (0%)]\tLoss: 0.303054\n",
      "2019-04-12 14:04:56,360 DEBUG run_websocket_client.py(l:77) - Train Worker charlie: [25/50 (50%)]\tLoss: 0.364157\n",
      "2019-04-12 14:05:02,074 DEBUG run_websocket_client.py(l:77) - Train Worker alice: [0/13 (0%)]\tLoss: 0.313100\n"
     ]
    },
    {
     "name": "stdout",
     "output_type": "stream",
     "text": [
      "Starting training round, batches [300, 350]\n"
     ]
    },
    {
     "name": "stderr",
     "output_type": "stream",
     "text": [
      "2019-04-12 14:05:04,673 DEBUG run_websocket_client.py(l:77) - Train Worker bob: [0/13 (0%)]\tLoss: 0.382650\n",
      "2019-04-12 14:05:07,303 DEBUG run_websocket_client.py(l:77) - Train Worker charlie: [0/13 (0%)]\tLoss: 0.212397\n",
      "2019-04-12 14:05:09,772 DEBUG <ipython-input-8-997890e4f55a>(l:26) - At least one worker ran out of data, stopping.\n"
     ]
    },
    {
     "name": "stdout",
     "output_type": "stream",
     "text": [
      "Starting training round, batches [350, 400]\n"
     ]
    },
    {
     "name": "stderr",
     "output_type": "stream",
     "text": [
      "2019-04-12 14:05:11,787 INFO run_websocket_client.py(l:158) - \n",
      "\n",
      "2019-04-12 14:05:11,788 INFO run_websocket_client.py(l:162) - Test set: Average loss: 0.3575, Accuracy: 8955/10000 (90%)\n",
      "\n"
     ]
    },
    {
     "name": "stdout",
     "output_type": "stream",
     "text": [
      "Starting epoch 2/2\n"
     ]
    },
    {
     "name": "stderr",
     "output_type": "stream",
     "text": [
      "2019-04-12 14:05:21,039 DEBUG run_websocket_client.py(l:77) - Train Worker alice: [0/50 (0%)]\tLoss: 0.307429\n"
     ]
    },
    {
     "name": "stdout",
     "output_type": "stream",
     "text": [
      "Starting training round, batches [0, 50]\n"
     ]
    },
    {
     "name": "stderr",
     "output_type": "stream",
     "text": [
      "2019-04-12 14:05:22,345 DEBUG run_websocket_client.py(l:77) - Train Worker alice: [25/50 (50%)]\tLoss: 0.221366\n",
      "2019-04-12 14:05:25,491 DEBUG run_websocket_client.py(l:77) - Train Worker bob: [0/50 (0%)]\tLoss: 0.469401\n",
      "2019-04-12 14:05:26,833 DEBUG run_websocket_client.py(l:77) - Train Worker bob: [25/50 (50%)]\tLoss: 0.318723\n",
      "2019-04-12 14:05:30,076 DEBUG run_websocket_client.py(l:77) - Train Worker charlie: [0/50 (0%)]\tLoss: 0.334668\n",
      "2019-04-12 14:05:31,416 DEBUG run_websocket_client.py(l:77) - Train Worker charlie: [25/50 (50%)]\tLoss: 0.489558\n",
      "2019-04-12 14:05:43,817 DEBUG run_websocket_client.py(l:77) - Train Worker alice: [0/50 (0%)]\tLoss: 0.321684\n"
     ]
    },
    {
     "name": "stdout",
     "output_type": "stream",
     "text": [
      "Starting training round, batches [50, 100]\n"
     ]
    },
    {
     "name": "stderr",
     "output_type": "stream",
     "text": [
      "2019-04-12 14:05:45,129 DEBUG run_websocket_client.py(l:77) - Train Worker alice: [25/50 (50%)]\tLoss: 0.175239\n",
      "2019-04-12 14:05:48,463 DEBUG run_websocket_client.py(l:77) - Train Worker bob: [0/50 (0%)]\tLoss: 0.477507\n",
      "2019-04-12 14:05:49,904 DEBUG run_websocket_client.py(l:77) - Train Worker bob: [25/50 (50%)]\tLoss: 0.159149\n",
      "2019-04-12 14:05:53,042 DEBUG run_websocket_client.py(l:77) - Train Worker charlie: [0/50 (0%)]\tLoss: 0.179020\n",
      "2019-04-12 14:05:54,343 DEBUG run_websocket_client.py(l:77) - Train Worker charlie: [25/50 (50%)]\tLoss: 0.251491\n",
      "2019-04-12 14:06:06,514 DEBUG run_websocket_client.py(l:77) - Train Worker alice: [0/50 (0%)]\tLoss: 0.667565\n"
     ]
    },
    {
     "name": "stdout",
     "output_type": "stream",
     "text": [
      "Starting training round, batches [100, 150]\n"
     ]
    },
    {
     "name": "stderr",
     "output_type": "stream",
     "text": [
      "2019-04-12 14:06:07,787 DEBUG run_websocket_client.py(l:77) - Train Worker alice: [25/50 (50%)]\tLoss: 0.084102\n",
      "2019-04-12 14:06:11,043 DEBUG run_websocket_client.py(l:77) - Train Worker bob: [0/50 (0%)]\tLoss: 0.302127\n",
      "2019-04-12 14:06:12,284 DEBUG run_websocket_client.py(l:77) - Train Worker bob: [25/50 (50%)]\tLoss: 0.226824\n",
      "2019-04-12 14:06:15,542 DEBUG run_websocket_client.py(l:77) - Train Worker charlie: [0/50 (0%)]\tLoss: 0.330580\n",
      "2019-04-12 14:06:16,925 DEBUG run_websocket_client.py(l:77) - Train Worker charlie: [25/50 (50%)]\tLoss: 0.755995\n",
      "2019-04-12 14:06:29,470 DEBUG run_websocket_client.py(l:77) - Train Worker alice: [0/50 (0%)]\tLoss: 0.139946\n"
     ]
    },
    {
     "name": "stdout",
     "output_type": "stream",
     "text": [
      "Starting training round, batches [150, 200]\n"
     ]
    },
    {
     "name": "stderr",
     "output_type": "stream",
     "text": [
      "2019-04-12 14:06:30,882 DEBUG run_websocket_client.py(l:77) - Train Worker alice: [25/50 (50%)]\tLoss: 0.360139\n",
      "2019-04-12 14:06:34,239 DEBUG run_websocket_client.py(l:77) - Train Worker bob: [0/50 (0%)]\tLoss: 0.219879\n",
      "2019-04-12 14:06:35,571 DEBUG run_websocket_client.py(l:77) - Train Worker bob: [25/50 (50%)]\tLoss: 0.489604\n",
      "2019-04-12 14:06:38,796 DEBUG run_websocket_client.py(l:77) - Train Worker charlie: [0/50 (0%)]\tLoss: 0.228276\n",
      "2019-04-12 14:06:40,138 DEBUG run_websocket_client.py(l:77) - Train Worker charlie: [25/50 (50%)]\tLoss: 0.129685\n",
      "2019-04-12 14:06:52,394 DEBUG run_websocket_client.py(l:77) - Train Worker alice: [0/50 (0%)]\tLoss: 0.224482\n"
     ]
    },
    {
     "name": "stdout",
     "output_type": "stream",
     "text": [
      "Starting training round, batches [200, 250]\n"
     ]
    },
    {
     "name": "stderr",
     "output_type": "stream",
     "text": [
      "2019-04-12 14:06:53,664 DEBUG run_websocket_client.py(l:77) - Train Worker alice: [25/50 (50%)]\tLoss: 0.233250\n",
      "2019-04-12 14:06:56,817 DEBUG run_websocket_client.py(l:77) - Train Worker bob: [0/50 (0%)]\tLoss: 0.114346\n",
      "2019-04-12 14:06:58,182 DEBUG run_websocket_client.py(l:77) - Train Worker bob: [25/50 (50%)]\tLoss: 0.271151\n",
      "2019-04-12 14:07:01,349 DEBUG run_websocket_client.py(l:77) - Train Worker charlie: [0/50 (0%)]\tLoss: 0.222348\n",
      "2019-04-12 14:07:02,689 DEBUG run_websocket_client.py(l:77) - Train Worker charlie: [25/50 (50%)]\tLoss: 0.244218\n",
      "2019-04-12 14:07:15,995 DEBUG run_websocket_client.py(l:77) - Train Worker alice: [0/50 (0%)]\tLoss: 0.363183\n"
     ]
    },
    {
     "name": "stdout",
     "output_type": "stream",
     "text": [
      "Starting training round, batches [250, 300]\n"
     ]
    },
    {
     "name": "stderr",
     "output_type": "stream",
     "text": [
      "2019-04-12 14:07:17,412 DEBUG run_websocket_client.py(l:77) - Train Worker alice: [25/50 (50%)]\tLoss: 0.284177\n",
      "2019-04-12 14:07:20,801 DEBUG run_websocket_client.py(l:77) - Train Worker bob: [0/50 (0%)]\tLoss: 0.336090\n",
      "2019-04-12 14:07:22,212 DEBUG run_websocket_client.py(l:77) - Train Worker bob: [25/50 (50%)]\tLoss: 0.852364\n",
      "2019-04-12 14:07:25,486 DEBUG run_websocket_client.py(l:77) - Train Worker charlie: [0/50 (0%)]\tLoss: 0.163263\n",
      "2019-04-12 14:07:26,889 DEBUG run_websocket_client.py(l:77) - Train Worker charlie: [25/50 (50%)]\tLoss: 0.240408\n",
      "2019-04-12 14:07:32,571 DEBUG run_websocket_client.py(l:77) - Train Worker alice: [0/13 (0%)]\tLoss: 0.198644\n"
     ]
    },
    {
     "name": "stdout",
     "output_type": "stream",
     "text": [
      "Starting training round, batches [300, 350]\n"
     ]
    },
    {
     "name": "stderr",
     "output_type": "stream",
     "text": [
      "2019-04-12 14:07:35,196 DEBUG run_websocket_client.py(l:77) - Train Worker bob: [0/13 (0%)]\tLoss: 0.137445\n",
      "2019-04-12 14:07:37,808 DEBUG run_websocket_client.py(l:77) - Train Worker charlie: [0/13 (0%)]\tLoss: 0.505784\n",
      "2019-04-12 14:07:40,268 DEBUG <ipython-input-8-997890e4f55a>(l:26) - At least one worker ran out of data, stopping.\n"
     ]
    },
    {
     "name": "stdout",
     "output_type": "stream",
     "text": [
      "Starting training round, batches [350, 400]\n"
     ]
    },
    {
     "name": "stderr",
     "output_type": "stream",
     "text": [
      "2019-04-12 14:07:42,306 INFO run_websocket_client.py(l:158) - \n",
      "\n",
      "2019-04-12 14:07:42,306 INFO run_websocket_client.py(l:162) - Test set: Average loss: 0.2389, Accuracy: 9257/10000 (93%)\n",
      "\n"
     ]
    }
   ],
   "source": [
    "for epoch in range(1, args.epochs + 1):\n",
    "    print(\"Starting epoch {}/{}\".format(epoch, args.epochs))\n",
    "    model = train(model, device, federated_train_loader, args.lr, args.federate_after_n_batches)\n",
    "    rwc.test(model, device, test_loader)"
   ]
  },
  {
   "cell_type": "markdown",
   "metadata": {},
   "source": [
    "# Congratulations!!! - Time to Join the Community!\n",
    "\n",
    "Congratulations on completing this notebook tutorial! If you enjoyed this and would like to join the movement toward privacy preserving, decentralized ownership of AI and the AI supply chain (data), you can do so in the following ways!\n",
    "\n",
    "### Star PySyft on GitHub\n",
    "\n",
    "The easiest way to help our community is just by starring the GitHub repos! This helps raise awareness of the cool tools we're building.\n",
    "\n",
    "- [Star PySyft](https://github.com/OpenMined/PySyft)\n",
    "\n",
    "### Join our Slack!\n",
    "\n",
    "The best way to keep up to date on the latest advancements is to join our community! You can do so by filling out the form at [http://slack.openmined.org](http://slack.openmined.org)\n",
    "\n",
    "### Join a Code Project!\n",
    "\n",
    "The best way to contribute to our community is to become a code contributor! At any time you can go to PySyft GitHub Issues page and filter for \"Projects\". This will show you all the top level Tickets giving an overview of what projects you can join! If you don't want to join a project, but you would like to do a bit of coding, you can also look for more \"one off\" mini-projects by searching for GitHub issues marked \"good first issue\".\n",
    "\n",
    "- [PySyft Projects](https://github.com/OpenMined/PySyft/issues?q=is%3Aopen+is%3Aissue+label%3AProject)\n",
    "- [Good First Issue Tickets](https://github.com/OpenMined/PySyft/issues?q=is%3Aopen+is%3Aissue+label%3A%22good+first+issue%22)\n",
    "\n",
    "### Donate\n",
    "\n",
    "If you don't have time to contribute to our codebase, but would still like to lend support, you can also become a Backer on our Open Collective. All donations go toward our web hosting and other community expenses such as hackathons and meetups!\n",
    "\n",
    "[OpenMined's Open Collective Page](https://opencollective.com/openmined)"
   ]
  },
  {
   "cell_type": "code",
   "execution_count": null,
   "metadata": {},
   "outputs": [],
   "source": []
  }
 ],
 "metadata": {
  "kernelspec": {
   "display_name": "Python 3",
   "language": "python",
   "name": "python3"
  },
  "language_info": {
   "codemirror_mode": {
    "name": "ipython",
    "version": 3
   },
   "file_extension": ".py",
   "mimetype": "text/x-python",
   "name": "python",
   "nbconvert_exporter": "python",
   "pygments_lexer": "ipython3",
   "version": "3.6.7"
  }
 },
 "nbformat": 4,
 "nbformat_minor": 2
}

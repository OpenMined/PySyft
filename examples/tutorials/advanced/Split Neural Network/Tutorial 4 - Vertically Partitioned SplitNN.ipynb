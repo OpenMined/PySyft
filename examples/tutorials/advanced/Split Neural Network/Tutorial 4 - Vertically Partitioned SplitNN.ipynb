{
  "nbformat": 4,
  "nbformat_minor": 0,
  "metadata": {
    "colab": {
      "name": "Vertically_Partitioned_SplitNN.ipynb",
      "provenance": [],
      "toc_visible": true
    },
    "kernelspec": {
      "name": "python3",
      "display_name": "Python 3"
    },
    "accelerator": "GPU",
    "widgets": {
      "application/vnd.jupyter.widget-state+json": {
        "615c17bed6714d3cbddc1567e3662994": {
          "model_module": "@jupyter-widgets/controls",
          "model_name": "HBoxModel",
          "state": {
            "_view_name": "HBoxView",
            "_dom_classes": [],
            "_model_name": "HBoxModel",
            "_view_module": "@jupyter-widgets/controls",
            "_model_module_version": "1.5.0",
            "_view_count": null,
            "_view_module_version": "1.5.0",
            "box_style": "",
            "layout": "IPY_MODEL_014e66393d4941c5999290cbdc998480",
            "_model_module": "@jupyter-widgets/controls",
            "children": [
              "IPY_MODEL_222151085662415cb9c4277c490ff581",
              "IPY_MODEL_4b48f7959b9a4744831c0eca7441bdec"
            ]
          }
        },
        "014e66393d4941c5999290cbdc998480": {
          "model_module": "@jupyter-widgets/base",
          "model_name": "LayoutModel",
          "state": {
            "_view_name": "LayoutView",
            "grid_template_rows": null,
            "right": null,
            "justify_content": null,
            "_view_module": "@jupyter-widgets/base",
            "overflow": null,
            "_model_module_version": "1.2.0",
            "_view_count": null,
            "flex_flow": null,
            "width": null,
            "min_width": null,
            "border": null,
            "align_items": null,
            "bottom": null,
            "_model_module": "@jupyter-widgets/base",
            "top": null,
            "grid_column": null,
            "overflow_y": null,
            "overflow_x": null,
            "grid_auto_flow": null,
            "grid_area": null,
            "grid_template_columns": null,
            "flex": null,
            "_model_name": "LayoutModel",
            "justify_items": null,
            "grid_row": null,
            "max_height": null,
            "align_content": null,
            "visibility": null,
            "align_self": null,
            "height": null,
            "min_height": null,
            "padding": null,
            "grid_auto_rows": null,
            "grid_gap": null,
            "max_width": null,
            "order": null,
            "_view_module_version": "1.2.0",
            "grid_template_areas": null,
            "object_position": null,
            "object_fit": null,
            "grid_auto_columns": null,
            "margin": null,
            "display": null,
            "left": null
          }
        },
        "222151085662415cb9c4277c490ff581": {
          "model_module": "@jupyter-widgets/controls",
          "model_name": "IntProgressModel",
          "state": {
            "_view_name": "ProgressView",
            "style": "IPY_MODEL_9995ec1e59fd458e92f636a8a4a487cf",
            "_dom_classes": [],
            "description": "",
            "_model_name": "IntProgressModel",
            "bar_style": "success",
            "max": 1,
            "_view_module": "@jupyter-widgets/controls",
            "_model_module_version": "1.5.0",
            "value": 1,
            "_view_count": null,
            "_view_module_version": "1.5.0",
            "orientation": "horizontal",
            "min": 0,
            "description_tooltip": null,
            "_model_module": "@jupyter-widgets/controls",
            "layout": "IPY_MODEL_23c66515050b486397984c225c076d32"
          }
        },
        "4b48f7959b9a4744831c0eca7441bdec": {
          "model_module": "@jupyter-widgets/controls",
          "model_name": "HTMLModel",
          "state": {
            "_view_name": "HTMLView",
            "style": "IPY_MODEL_0a688382e63a4457ae5345be361b031c",
            "_dom_classes": [],
            "description": "",
            "_model_name": "HTMLModel",
            "placeholder": "​",
            "_view_module": "@jupyter-widgets/controls",
            "_model_module_version": "1.5.0",
            "value": "9920512it [00:02, 3483421.72it/s]",
            "_view_count": null,
            "_view_module_version": "1.5.0",
            "description_tooltip": null,
            "_model_module": "@jupyter-widgets/controls",
            "layout": "IPY_MODEL_7770bc31851c438394b218859808749b"
          }
        },
        "9995ec1e59fd458e92f636a8a4a487cf": {
          "model_module": "@jupyter-widgets/controls",
          "model_name": "ProgressStyleModel",
          "state": {
            "_view_name": "StyleView",
            "_model_name": "ProgressStyleModel",
            "description_width": "",
            "_view_module": "@jupyter-widgets/base",
            "_model_module_version": "1.5.0",
            "_view_count": null,
            "_view_module_version": "1.2.0",
            "bar_color": null,
            "_model_module": "@jupyter-widgets/controls"
          }
        },
        "23c66515050b486397984c225c076d32": {
          "model_module": "@jupyter-widgets/base",
          "model_name": "LayoutModel",
          "state": {
            "_view_name": "LayoutView",
            "grid_template_rows": null,
            "right": null,
            "justify_content": null,
            "_view_module": "@jupyter-widgets/base",
            "overflow": null,
            "_model_module_version": "1.2.0",
            "_view_count": null,
            "flex_flow": null,
            "width": null,
            "min_width": null,
            "border": null,
            "align_items": null,
            "bottom": null,
            "_model_module": "@jupyter-widgets/base",
            "top": null,
            "grid_column": null,
            "overflow_y": null,
            "overflow_x": null,
            "grid_auto_flow": null,
            "grid_area": null,
            "grid_template_columns": null,
            "flex": null,
            "_model_name": "LayoutModel",
            "justify_items": null,
            "grid_row": null,
            "max_height": null,
            "align_content": null,
            "visibility": null,
            "align_self": null,
            "height": null,
            "min_height": null,
            "padding": null,
            "grid_auto_rows": null,
            "grid_gap": null,
            "max_width": null,
            "order": null,
            "_view_module_version": "1.2.0",
            "grid_template_areas": null,
            "object_position": null,
            "object_fit": null,
            "grid_auto_columns": null,
            "margin": null,
            "display": null,
            "left": null
          }
        },
        "0a688382e63a4457ae5345be361b031c": {
          "model_module": "@jupyter-widgets/controls",
          "model_name": "DescriptionStyleModel",
          "state": {
            "_view_name": "StyleView",
            "_model_name": "DescriptionStyleModel",
            "description_width": "",
            "_view_module": "@jupyter-widgets/base",
            "_model_module_version": "1.5.0",
            "_view_count": null,
            "_view_module_version": "1.2.0",
            "_model_module": "@jupyter-widgets/controls"
          }
        },
        "7770bc31851c438394b218859808749b": {
          "model_module": "@jupyter-widgets/base",
          "model_name": "LayoutModel",
          "state": {
            "_view_name": "LayoutView",
            "grid_template_rows": null,
            "right": null,
            "justify_content": null,
            "_view_module": "@jupyter-widgets/base",
            "overflow": null,
            "_model_module_version": "1.2.0",
            "_view_count": null,
            "flex_flow": null,
            "width": null,
            "min_width": null,
            "border": null,
            "align_items": null,
            "bottom": null,
            "_model_module": "@jupyter-widgets/base",
            "top": null,
            "grid_column": null,
            "overflow_y": null,
            "overflow_x": null,
            "grid_auto_flow": null,
            "grid_area": null,
            "grid_template_columns": null,
            "flex": null,
            "_model_name": "LayoutModel",
            "justify_items": null,
            "grid_row": null,
            "max_height": null,
            "align_content": null,
            "visibility": null,
            "align_self": null,
            "height": null,
            "min_height": null,
            "padding": null,
            "grid_auto_rows": null,
            "grid_gap": null,
            "max_width": null,
            "order": null,
            "_view_module_version": "1.2.0",
            "grid_template_areas": null,
            "object_position": null,
            "object_fit": null,
            "grid_auto_columns": null,
            "margin": null,
            "display": null,
            "left": null
          }
        },
        "116a94edc55d4967a47b6e5b6709abfa": {
          "model_module": "@jupyter-widgets/controls",
          "model_name": "HBoxModel",
          "state": {
            "_view_name": "HBoxView",
            "_dom_classes": [],
            "_model_name": "HBoxModel",
            "_view_module": "@jupyter-widgets/controls",
            "_model_module_version": "1.5.0",
            "_view_count": null,
            "_view_module_version": "1.5.0",
            "box_style": "",
            "layout": "IPY_MODEL_f83ba30751c54a0685d47ad026cc81d9",
            "_model_module": "@jupyter-widgets/controls",
            "children": [
              "IPY_MODEL_ff95ec9c7552475b885f51c8a1ebbf44",
              "IPY_MODEL_3a43ed496986425d8d02d9ed58b1c335"
            ]
          }
        },
        "f83ba30751c54a0685d47ad026cc81d9": {
          "model_module": "@jupyter-widgets/base",
          "model_name": "LayoutModel",
          "state": {
            "_view_name": "LayoutView",
            "grid_template_rows": null,
            "right": null,
            "justify_content": null,
            "_view_module": "@jupyter-widgets/base",
            "overflow": null,
            "_model_module_version": "1.2.0",
            "_view_count": null,
            "flex_flow": null,
            "width": null,
            "min_width": null,
            "border": null,
            "align_items": null,
            "bottom": null,
            "_model_module": "@jupyter-widgets/base",
            "top": null,
            "grid_column": null,
            "overflow_y": null,
            "overflow_x": null,
            "grid_auto_flow": null,
            "grid_area": null,
            "grid_template_columns": null,
            "flex": null,
            "_model_name": "LayoutModel",
            "justify_items": null,
            "grid_row": null,
            "max_height": null,
            "align_content": null,
            "visibility": null,
            "align_self": null,
            "height": null,
            "min_height": null,
            "padding": null,
            "grid_auto_rows": null,
            "grid_gap": null,
            "max_width": null,
            "order": null,
            "_view_module_version": "1.2.0",
            "grid_template_areas": null,
            "object_position": null,
            "object_fit": null,
            "grid_auto_columns": null,
            "margin": null,
            "display": null,
            "left": null
          }
        },
        "ff95ec9c7552475b885f51c8a1ebbf44": {
          "model_module": "@jupyter-widgets/controls",
          "model_name": "IntProgressModel",
          "state": {
            "_view_name": "ProgressView",
            "style": "IPY_MODEL_d92c1468c45a416d890834b554e1ed9e",
            "_dom_classes": [],
            "description": "",
            "_model_name": "IntProgressModel",
            "bar_style": "success",
            "max": 1,
            "_view_module": "@jupyter-widgets/controls",
            "_model_module_version": "1.5.0",
            "value": 1,
            "_view_count": null,
            "_view_module_version": "1.5.0",
            "orientation": "horizontal",
            "min": 0,
            "description_tooltip": null,
            "_model_module": "@jupyter-widgets/controls",
            "layout": "IPY_MODEL_14eb2457437d48bcae3e9b9172677aff"
          }
        },
        "3a43ed496986425d8d02d9ed58b1c335": {
          "model_module": "@jupyter-widgets/controls",
          "model_name": "HTMLModel",
          "state": {
            "_view_name": "HTMLView",
            "style": "IPY_MODEL_93d434dfed4d44c1af43e4dad900fb55",
            "_dom_classes": [],
            "description": "",
            "_model_name": "HTMLModel",
            "placeholder": "​",
            "_view_module": "@jupyter-widgets/controls",
            "_model_module_version": "1.5.0",
            "value": "32768it [00:00, 49403.89it/s]",
            "_view_count": null,
            "_view_module_version": "1.5.0",
            "description_tooltip": null,
            "_model_module": "@jupyter-widgets/controls",
            "layout": "IPY_MODEL_7a2be1f7aed74d38a4690c0806bee793"
          }
        },
        "d92c1468c45a416d890834b554e1ed9e": {
          "model_module": "@jupyter-widgets/controls",
          "model_name": "ProgressStyleModel",
          "state": {
            "_view_name": "StyleView",
            "_model_name": "ProgressStyleModel",
            "description_width": "",
            "_view_module": "@jupyter-widgets/base",
            "_model_module_version": "1.5.0",
            "_view_count": null,
            "_view_module_version": "1.2.0",
            "bar_color": null,
            "_model_module": "@jupyter-widgets/controls"
          }
        },
        "14eb2457437d48bcae3e9b9172677aff": {
          "model_module": "@jupyter-widgets/base",
          "model_name": "LayoutModel",
          "state": {
            "_view_name": "LayoutView",
            "grid_template_rows": null,
            "right": null,
            "justify_content": null,
            "_view_module": "@jupyter-widgets/base",
            "overflow": null,
            "_model_module_version": "1.2.0",
            "_view_count": null,
            "flex_flow": null,
            "width": null,
            "min_width": null,
            "border": null,
            "align_items": null,
            "bottom": null,
            "_model_module": "@jupyter-widgets/base",
            "top": null,
            "grid_column": null,
            "overflow_y": null,
            "overflow_x": null,
            "grid_auto_flow": null,
            "grid_area": null,
            "grid_template_columns": null,
            "flex": null,
            "_model_name": "LayoutModel",
            "justify_items": null,
            "grid_row": null,
            "max_height": null,
            "align_content": null,
            "visibility": null,
            "align_self": null,
            "height": null,
            "min_height": null,
            "padding": null,
            "grid_auto_rows": null,
            "grid_gap": null,
            "max_width": null,
            "order": null,
            "_view_module_version": "1.2.0",
            "grid_template_areas": null,
            "object_position": null,
            "object_fit": null,
            "grid_auto_columns": null,
            "margin": null,
            "display": null,
            "left": null
          }
        },
        "93d434dfed4d44c1af43e4dad900fb55": {
          "model_module": "@jupyter-widgets/controls",
          "model_name": "DescriptionStyleModel",
          "state": {
            "_view_name": "StyleView",
            "_model_name": "DescriptionStyleModel",
            "description_width": "",
            "_view_module": "@jupyter-widgets/base",
            "_model_module_version": "1.5.0",
            "_view_count": null,
            "_view_module_version": "1.2.0",
            "_model_module": "@jupyter-widgets/controls"
          }
        },
        "7a2be1f7aed74d38a4690c0806bee793": {
          "model_module": "@jupyter-widgets/base",
          "model_name": "LayoutModel",
          "state": {
            "_view_name": "LayoutView",
            "grid_template_rows": null,
            "right": null,
            "justify_content": null,
            "_view_module": "@jupyter-widgets/base",
            "overflow": null,
            "_model_module_version": "1.2.0",
            "_view_count": null,
            "flex_flow": null,
            "width": null,
            "min_width": null,
            "border": null,
            "align_items": null,
            "bottom": null,
            "_model_module": "@jupyter-widgets/base",
            "top": null,
            "grid_column": null,
            "overflow_y": null,
            "overflow_x": null,
            "grid_auto_flow": null,
            "grid_area": null,
            "grid_template_columns": null,
            "flex": null,
            "_model_name": "LayoutModel",
            "justify_items": null,
            "grid_row": null,
            "max_height": null,
            "align_content": null,
            "visibility": null,
            "align_self": null,
            "height": null,
            "min_height": null,
            "padding": null,
            "grid_auto_rows": null,
            "grid_gap": null,
            "max_width": null,
            "order": null,
            "_view_module_version": "1.2.0",
            "grid_template_areas": null,
            "object_position": null,
            "object_fit": null,
            "grid_auto_columns": null,
            "margin": null,
            "display": null,
            "left": null
          }
        },
        "46d29830db0f467699202423aabce4c9": {
          "model_module": "@jupyter-widgets/controls",
          "model_name": "HBoxModel",
          "state": {
            "_view_name": "HBoxView",
            "_dom_classes": [],
            "_model_name": "HBoxModel",
            "_view_module": "@jupyter-widgets/controls",
            "_model_module_version": "1.5.0",
            "_view_count": null,
            "_view_module_version": "1.5.0",
            "box_style": "",
            "layout": "IPY_MODEL_06b37e408c684d9f86f0e848bd30cc16",
            "_model_module": "@jupyter-widgets/controls",
            "children": [
              "IPY_MODEL_4cf4e74f98bf476cacd2891d9d360fb6",
              "IPY_MODEL_c8ad3635a3584b7ca7d33ddb0b2ac9a2"
            ]
          }
        },
        "06b37e408c684d9f86f0e848bd30cc16": {
          "model_module": "@jupyter-widgets/base",
          "model_name": "LayoutModel",
          "state": {
            "_view_name": "LayoutView",
            "grid_template_rows": null,
            "right": null,
            "justify_content": null,
            "_view_module": "@jupyter-widgets/base",
            "overflow": null,
            "_model_module_version": "1.2.0",
            "_view_count": null,
            "flex_flow": null,
            "width": null,
            "min_width": null,
            "border": null,
            "align_items": null,
            "bottom": null,
            "_model_module": "@jupyter-widgets/base",
            "top": null,
            "grid_column": null,
            "overflow_y": null,
            "overflow_x": null,
            "grid_auto_flow": null,
            "grid_area": null,
            "grid_template_columns": null,
            "flex": null,
            "_model_name": "LayoutModel",
            "justify_items": null,
            "grid_row": null,
            "max_height": null,
            "align_content": null,
            "visibility": null,
            "align_self": null,
            "height": null,
            "min_height": null,
            "padding": null,
            "grid_auto_rows": null,
            "grid_gap": null,
            "max_width": null,
            "order": null,
            "_view_module_version": "1.2.0",
            "grid_template_areas": null,
            "object_position": null,
            "object_fit": null,
            "grid_auto_columns": null,
            "margin": null,
            "display": null,
            "left": null
          }
        },
        "4cf4e74f98bf476cacd2891d9d360fb6": {
          "model_module": "@jupyter-widgets/controls",
          "model_name": "IntProgressModel",
          "state": {
            "_view_name": "ProgressView",
            "style": "IPY_MODEL_bc7a867572534fd0a8ef902ac2c1db65",
            "_dom_classes": [],
            "description": "",
            "_model_name": "IntProgressModel",
            "bar_style": "success",
            "max": 1,
            "_view_module": "@jupyter-widgets/controls",
            "_model_module_version": "1.5.0",
            "value": 1,
            "_view_count": null,
            "_view_module_version": "1.5.0",
            "orientation": "horizontal",
            "min": 0,
            "description_tooltip": null,
            "_model_module": "@jupyter-widgets/controls",
            "layout": "IPY_MODEL_538ba1739c364d2bb88489440e817c7c"
          }
        },
        "c8ad3635a3584b7ca7d33ddb0b2ac9a2": {
          "model_module": "@jupyter-widgets/controls",
          "model_name": "HTMLModel",
          "state": {
            "_view_name": "HTMLView",
            "style": "IPY_MODEL_fd1abfb2ffb54beaabb6da98cb235c0c",
            "_dom_classes": [],
            "description": "",
            "_model_name": "HTMLModel",
            "placeholder": "​",
            "_view_module": "@jupyter-widgets/controls",
            "_model_module_version": "1.5.0",
            "value": "1654784it [00:01, 890197.76it/s]",
            "_view_count": null,
            "_view_module_version": "1.5.0",
            "description_tooltip": null,
            "_model_module": "@jupyter-widgets/controls",
            "layout": "IPY_MODEL_9a2658fb1b8e4194abc8a97565a79a54"
          }
        },
        "bc7a867572534fd0a8ef902ac2c1db65": {
          "model_module": "@jupyter-widgets/controls",
          "model_name": "ProgressStyleModel",
          "state": {
            "_view_name": "StyleView",
            "_model_name": "ProgressStyleModel",
            "description_width": "",
            "_view_module": "@jupyter-widgets/base",
            "_model_module_version": "1.5.0",
            "_view_count": null,
            "_view_module_version": "1.2.0",
            "bar_color": null,
            "_model_module": "@jupyter-widgets/controls"
          }
        },
        "538ba1739c364d2bb88489440e817c7c": {
          "model_module": "@jupyter-widgets/base",
          "model_name": "LayoutModel",
          "state": {
            "_view_name": "LayoutView",
            "grid_template_rows": null,
            "right": null,
            "justify_content": null,
            "_view_module": "@jupyter-widgets/base",
            "overflow": null,
            "_model_module_version": "1.2.0",
            "_view_count": null,
            "flex_flow": null,
            "width": null,
            "min_width": null,
            "border": null,
            "align_items": null,
            "bottom": null,
            "_model_module": "@jupyter-widgets/base",
            "top": null,
            "grid_column": null,
            "overflow_y": null,
            "overflow_x": null,
            "grid_auto_flow": null,
            "grid_area": null,
            "grid_template_columns": null,
            "flex": null,
            "_model_name": "LayoutModel",
            "justify_items": null,
            "grid_row": null,
            "max_height": null,
            "align_content": null,
            "visibility": null,
            "align_self": null,
            "height": null,
            "min_height": null,
            "padding": null,
            "grid_auto_rows": null,
            "grid_gap": null,
            "max_width": null,
            "order": null,
            "_view_module_version": "1.2.0",
            "grid_template_areas": null,
            "object_position": null,
            "object_fit": null,
            "grid_auto_columns": null,
            "margin": null,
            "display": null,
            "left": null
          }
        },
        "fd1abfb2ffb54beaabb6da98cb235c0c": {
          "model_module": "@jupyter-widgets/controls",
          "model_name": "DescriptionStyleModel",
          "state": {
            "_view_name": "StyleView",
            "_model_name": "DescriptionStyleModel",
            "description_width": "",
            "_view_module": "@jupyter-widgets/base",
            "_model_module_version": "1.5.0",
            "_view_count": null,
            "_view_module_version": "1.2.0",
            "_model_module": "@jupyter-widgets/controls"
          }
        },
        "9a2658fb1b8e4194abc8a97565a79a54": {
          "model_module": "@jupyter-widgets/base",
          "model_name": "LayoutModel",
          "state": {
            "_view_name": "LayoutView",
            "grid_template_rows": null,
            "right": null,
            "justify_content": null,
            "_view_module": "@jupyter-widgets/base",
            "overflow": null,
            "_model_module_version": "1.2.0",
            "_view_count": null,
            "flex_flow": null,
            "width": null,
            "min_width": null,
            "border": null,
            "align_items": null,
            "bottom": null,
            "_model_module": "@jupyter-widgets/base",
            "top": null,
            "grid_column": null,
            "overflow_y": null,
            "overflow_x": null,
            "grid_auto_flow": null,
            "grid_area": null,
            "grid_template_columns": null,
            "flex": null,
            "_model_name": "LayoutModel",
            "justify_items": null,
            "grid_row": null,
            "max_height": null,
            "align_content": null,
            "visibility": null,
            "align_self": null,
            "height": null,
            "min_height": null,
            "padding": null,
            "grid_auto_rows": null,
            "grid_gap": null,
            "max_width": null,
            "order": null,
            "_view_module_version": "1.2.0",
            "grid_template_areas": null,
            "object_position": null,
            "object_fit": null,
            "grid_auto_columns": null,
            "margin": null,
            "display": null,
            "left": null
          }
        },
        "c6c08ecc66c4498186b01bc045428460": {
          "model_module": "@jupyter-widgets/controls",
          "model_name": "HBoxModel",
          "state": {
            "_view_name": "HBoxView",
            "_dom_classes": [],
            "_model_name": "HBoxModel",
            "_view_module": "@jupyter-widgets/controls",
            "_model_module_version": "1.5.0",
            "_view_count": null,
            "_view_module_version": "1.5.0",
            "box_style": "",
            "layout": "IPY_MODEL_ad2039f3cfea4e279410c4b5b423a039",
            "_model_module": "@jupyter-widgets/controls",
            "children": [
              "IPY_MODEL_aa638ae6917d4e708e540769922d6a5e",
              "IPY_MODEL_abf7c670167048bd99a975b9e29998a1"
            ]
          }
        },
        "ad2039f3cfea4e279410c4b5b423a039": {
          "model_module": "@jupyter-widgets/base",
          "model_name": "LayoutModel",
          "state": {
            "_view_name": "LayoutView",
            "grid_template_rows": null,
            "right": null,
            "justify_content": null,
            "_view_module": "@jupyter-widgets/base",
            "overflow": null,
            "_model_module_version": "1.2.0",
            "_view_count": null,
            "flex_flow": null,
            "width": null,
            "min_width": null,
            "border": null,
            "align_items": null,
            "bottom": null,
            "_model_module": "@jupyter-widgets/base",
            "top": null,
            "grid_column": null,
            "overflow_y": null,
            "overflow_x": null,
            "grid_auto_flow": null,
            "grid_area": null,
            "grid_template_columns": null,
            "flex": null,
            "_model_name": "LayoutModel",
            "justify_items": null,
            "grid_row": null,
            "max_height": null,
            "align_content": null,
            "visibility": null,
            "align_self": null,
            "height": null,
            "min_height": null,
            "padding": null,
            "grid_auto_rows": null,
            "grid_gap": null,
            "max_width": null,
            "order": null,
            "_view_module_version": "1.2.0",
            "grid_template_areas": null,
            "object_position": null,
            "object_fit": null,
            "grid_auto_columns": null,
            "margin": null,
            "display": null,
            "left": null
          }
        },
        "aa638ae6917d4e708e540769922d6a5e": {
          "model_module": "@jupyter-widgets/controls",
          "model_name": "IntProgressModel",
          "state": {
            "_view_name": "ProgressView",
            "style": "IPY_MODEL_6395fb1a70f1469eaf79f143cedfbedc",
            "_dom_classes": [],
            "description": "",
            "_model_name": "IntProgressModel",
            "bar_style": "success",
            "max": 1,
            "_view_module": "@jupyter-widgets/controls",
            "_model_module_version": "1.5.0",
            "value": 1,
            "_view_count": null,
            "_view_module_version": "1.5.0",
            "orientation": "horizontal",
            "min": 0,
            "description_tooltip": null,
            "_model_module": "@jupyter-widgets/controls",
            "layout": "IPY_MODEL_f116c4e20ed84a55b264c920733618f0"
          }
        },
        "abf7c670167048bd99a975b9e29998a1": {
          "model_module": "@jupyter-widgets/controls",
          "model_name": "HTMLModel",
          "state": {
            "_view_name": "HTMLView",
            "style": "IPY_MODEL_cfbfef66e1844d528e5efa0609a6785c",
            "_dom_classes": [],
            "description": "",
            "_model_name": "HTMLModel",
            "placeholder": "​",
            "_view_module": "@jupyter-widgets/controls",
            "_model_module_version": "1.5.0",
            "value": "8192it [00:00, 15900.01it/s]",
            "_view_count": null,
            "_view_module_version": "1.5.0",
            "description_tooltip": null,
            "_model_module": "@jupyter-widgets/controls",
            "layout": "IPY_MODEL_6ddf89f9787b4c80aec1fe8b8e023e3b"
          }
        },
        "6395fb1a70f1469eaf79f143cedfbedc": {
          "model_module": "@jupyter-widgets/controls",
          "model_name": "ProgressStyleModel",
          "state": {
            "_view_name": "StyleView",
            "_model_name": "ProgressStyleModel",
            "description_width": "",
            "_view_module": "@jupyter-widgets/base",
            "_model_module_version": "1.5.0",
            "_view_count": null,
            "_view_module_version": "1.2.0",
            "bar_color": null,
            "_model_module": "@jupyter-widgets/controls"
          }
        },
        "f116c4e20ed84a55b264c920733618f0": {
          "model_module": "@jupyter-widgets/base",
          "model_name": "LayoutModel",
          "state": {
            "_view_name": "LayoutView",
            "grid_template_rows": null,
            "right": null,
            "justify_content": null,
            "_view_module": "@jupyter-widgets/base",
            "overflow": null,
            "_model_module_version": "1.2.0",
            "_view_count": null,
            "flex_flow": null,
            "width": null,
            "min_width": null,
            "border": null,
            "align_items": null,
            "bottom": null,
            "_model_module": "@jupyter-widgets/base",
            "top": null,
            "grid_column": null,
            "overflow_y": null,
            "overflow_x": null,
            "grid_auto_flow": null,
            "grid_area": null,
            "grid_template_columns": null,
            "flex": null,
            "_model_name": "LayoutModel",
            "justify_items": null,
            "grid_row": null,
            "max_height": null,
            "align_content": null,
            "visibility": null,
            "align_self": null,
            "height": null,
            "min_height": null,
            "padding": null,
            "grid_auto_rows": null,
            "grid_gap": null,
            "max_width": null,
            "order": null,
            "_view_module_version": "1.2.0",
            "grid_template_areas": null,
            "object_position": null,
            "object_fit": null,
            "grid_auto_columns": null,
            "margin": null,
            "display": null,
            "left": null
          }
        },
        "cfbfef66e1844d528e5efa0609a6785c": {
          "model_module": "@jupyter-widgets/controls",
          "model_name": "DescriptionStyleModel",
          "state": {
            "_view_name": "StyleView",
            "_model_name": "DescriptionStyleModel",
            "description_width": "",
            "_view_module": "@jupyter-widgets/base",
            "_model_module_version": "1.5.0",
            "_view_count": null,
            "_view_module_version": "1.2.0",
            "_model_module": "@jupyter-widgets/controls"
          }
        },
        "6ddf89f9787b4c80aec1fe8b8e023e3b": {
          "model_module": "@jupyter-widgets/base",
          "model_name": "LayoutModel",
          "state": {
            "_view_name": "LayoutView",
            "grid_template_rows": null,
            "right": null,
            "justify_content": null,
            "_view_module": "@jupyter-widgets/base",
            "overflow": null,
            "_model_module_version": "1.2.0",
            "_view_count": null,
            "flex_flow": null,
            "width": null,
            "min_width": null,
            "border": null,
            "align_items": null,
            "bottom": null,
            "_model_module": "@jupyter-widgets/base",
            "top": null,
            "grid_column": null,
            "overflow_y": null,
            "overflow_x": null,
            "grid_auto_flow": null,
            "grid_area": null,
            "grid_template_columns": null,
            "flex": null,
            "_model_name": "LayoutModel",
            "justify_items": null,
            "grid_row": null,
            "max_height": null,
            "align_content": null,
            "visibility": null,
            "align_self": null,
            "height": null,
            "min_height": null,
            "padding": null,
            "grid_auto_rows": null,
            "grid_gap": null,
            "max_width": null,
            "order": null,
            "_view_module_version": "1.2.0",
            "grid_template_areas": null,
            "object_position": null,
            "object_fit": null,
            "grid_auto_columns": null,
            "margin": null,
            "display": null,
            "left": null
          }
        }
      }
    }
  },
  "cells": [
    {
      "cell_type": "markdown",
      "metadata": {
        "id": "iUbZ9MjlEAlz",
        "colab_type": "text"
      },
      "source": [
        ""
      ]
    },
    {
      "cell_type": "markdown",
      "metadata": {
        "id": "H14AmGzhEB9h",
        "colab_type": "text"
      },
      "source": [
        "# Tutorial - Vertically Partitioned Split Learning\n",
        "\n",
        "For demonstration of this structure, MNIST model has been split vertically according to the integer assigned to the variable 'partition'.\n",
        "\n",
        "Images have a dimension of [28 x 28]. We will divide the dataset into some batches, in this case we divide it in 64. Then image dimensions will be resolved to [64 x 784] where row denotes the image and column denotes features of that image. Then we will split these 784 features to act like we have separate datasets containing unique features of an image across columns.    \n",
        "\n"
      ]
    },
    {
      "cell_type": "code",
      "metadata": {
        "id": "rmMpPyhmEWJj",
        "colab_type": "code",
        "outputId": "f242506c-1c75-4859-cf18-3dee7d3cab4d",
        "colab": {
          "base_uri": "https://localhost:8080/",
          "height": 81
        }
      },
      "source": [
        "import syft, torch\n",
        "from torch import nn, optim\n",
        "from torchvision import datasets, transforms\n",
        "from torch.utils.data import DataLoader"
      ],
      "execution_count": 0,
      "outputs": [
        {
          "output_type": "display_data",
          "data": {
            "text/html": [
              "<p style=\"color: red;\">\n",
              "The default version of TensorFlow in Colab will soon switch to TensorFlow 2.x.<br>\n",
              "We recommend you <a href=\"https://www.tensorflow.org/guide/migrate\" target=\"_blank\">upgrade</a> now \n",
              "or ensure your notebook will continue to use TensorFlow 1.x via the <code>%tensorflow_version 1.x</code> magic:\n",
              "<a href=\"https://colab.research.google.com/notebooks/tensorflow_version.ipynb\" target=\"_blank\">more info</a>.</p>\n"
            ],
            "text/plain": [
              "<IPython.core.display.HTML object>"
            ]
          },
          "metadata": {
            "tags": []
          }
        }
      ]
    },
    {
      "cell_type": "markdown",
      "metadata": {
        "id": "8jcd1auoE1hp",
        "colab_type": "text"
      },
      "source": [
        "Create hook and virtual workers - alice and bob"
      ]
    },
    {
      "cell_type": "code",
      "metadata": {
        "id": "DSdmw9cHE4CR",
        "colab_type": "code",
        "colab": {}
      },
      "source": [
        "hook = syft.TorchHook(torch)\n",
        "alice = syft.VirtualWorker(hook, id='alice')\n",
        "bob = syft.VirtualWorker(hook, id='bob')"
      ],
      "execution_count": 0,
      "outputs": []
    },
    {
      "cell_type": "markdown",
      "metadata": {
        "id": "8sP632wmE7Cx",
        "colab_type": "text"
      },
      "source": [
        "# Creating a class SplitNN\n",
        "\n",
        "Create a class SplitNN containing all the functionalities."
      ]
    },
    {
      "cell_type": "code",
      "metadata": {
        "id": "3IHmJKurE6Q8",
        "colab_type": "code",
        "colab": {}
      },
      "source": [
        "class SplitNN(nn.Module):\n",
        "    def __init__(self, models, optimizers, partition):\n",
        "        super().__init__()\n",
        "        self.models = models\n",
        "        self.optimizers = optimizers\n",
        "        self.output = [None] * (partition)\n",
        "\n",
        "    def zero_grads(self):\n",
        "        for opt in self.optimizers:\n",
        "            opt.zero_grad()\n",
        "\n",
        "    # Here x is a list having a batch of diffent partitioned datasets.\n",
        "    def forward(self, x):                  \n",
        "        for i in range(len(x)):\n",
        "            self.output[i] = self.models[i](x[i])\n",
        "\n",
        "        # Concatenating the output of various structures in bottom part (alice's location)\n",
        "        total_out = torch.cat(tuple(self.output[i] for i in range(len(self.output))), dim=1)    \n",
        "        if self.output[-1].location == self.models[-1].location:\n",
        "            second_layer_inp = total_out.detach().requires_grad_()\n",
        "        else:\n",
        "            second_layer_inp = total_out.detach().move(self.models[-1].location).requires_grad_()\n",
        "\n",
        "        self.second_layer_inp = second_layer_inp\n",
        "        pred = self.models[-1](second_layer_inp)\n",
        "        return pred\n",
        "\n",
        "    def backward(self):\n",
        "        second_layer_inp = self.second_layer_inp\n",
        "        if self.output[-1].location == second_layer_inp.location:\n",
        "            grad = second_layer_inp.grad.copy()\n",
        "        else:\n",
        "            grad = second_layer_inp.grad.copy().move(self.output[-1].location)\n",
        "\n",
        "        i = 0\n",
        "        while i < partition-1:\n",
        "            self.output[i].backward(grad[:, hidden_sizes[1]*i : hidden_sizes[1]*(i+1)])\n",
        "            i += 1\n",
        "\n",
        "        # This is implemented because it is not necessary that last batch is of exact same size as partitioned.\n",
        "        self.output[i].backward(grad[:, hidden_sizes[1]*i : ])         \n",
        "\n",
        "\n",
        "    def step(self):\n",
        "        for opt in self.optimizers:\n",
        "            opt.step()"
      ],
      "execution_count": 0,
      "outputs": []
    },
    {
      "cell_type": "markdown",
      "metadata": {
        "id": "AIFIJmvwFIpq",
        "colab_type": "text"
      },
      "source": [
        "Here function create_models, creates models according to the partitions of the model in the bottom part (alice's model).\n",
        "  \n",
        "First we iterate 1 less than the partition size because of their same model structure. Since we divided the data in batches, last part may or may not have the size of the batch. So for this we calculate the remaining size of the dataset, and accordingly create the model.\n",
        "\n",
        "Then a model on the bob's machine is created having labels."
      ]
    },
    {
      "cell_type": "code",
      "metadata": {
        "id": "whMro6Z1FMLj",
        "colab_type": "code",
        "colab": {}
      },
      "source": [
        "def create_models(partition, input_size, hidden_sizes, output_size):\n",
        "    models = list()\n",
        "    for _ in range(1, partition):\n",
        "        models.append(nn.Sequential(nn.Linear(int(input_size/partition), hidden_sizes[0]),\n",
        "                                    nn.ReLU(),\n",
        "                                    nn.Linear(hidden_sizes[0], hidden_sizes[1]),\n",
        "                                    nn.ReLU()))\n",
        "    rem = input_size - int(input_size/partition * (partition-1))\n",
        "    models.append(nn.Sequential(nn.Linear(rem, hidden_sizes[0]),\n",
        "                                nn.ReLU(),\n",
        "                                nn.Linear(hidden_sizes[0], hidden_sizes[1]),\n",
        "                                nn.ReLU()))\n",
        "\n",
        "    models.append(nn.Sequential(nn.Linear(hidden_sizes[1]*partition, hidden_sizes[2]),\n",
        "                                nn.ReLU(),\n",
        "                                nn.Linear(hidden_sizes[2], output_size),\n",
        "                                nn.LogSoftmax(dim=1)))\n",
        "    return models"
      ],
      "execution_count": 0,
      "outputs": []
    },
    {
      "cell_type": "markdown",
      "metadata": {
        "id": "cWJfvE3GFOqY",
        "colab_type": "text"
      },
      "source": [
        "Assign an integer to the partition variable indicating number of partitions available."
      ]
    },
    {
      "cell_type": "code",
      "metadata": {
        "id": "R9mquoxyFQ8S",
        "colab_type": "code",
        "colab": {}
      },
      "source": [
        "partition = 3"
      ],
      "execution_count": 0,
      "outputs": []
    },
    {
      "cell_type": "markdown",
      "metadata": {
        "id": "tJdbcXdsFURy",
        "colab_type": "text"
      },
      "source": [
        "Load the dataset."
      ]
    },
    {
      "cell_type": "code",
      "metadata": {
        "id": "ov2HOL6VFXxg",
        "colab_type": "code",
        "outputId": "7ae3831d-5a56-4ded-aec1-6f7312d0aa20",
        "colab": {
          "base_uri": "https://localhost:8080/",
          "height": 408,
          "referenced_widgets": [
            "615c17bed6714d3cbddc1567e3662994",
            "014e66393d4941c5999290cbdc998480",
            "222151085662415cb9c4277c490ff581",
            "4b48f7959b9a4744831c0eca7441bdec",
            "9995ec1e59fd458e92f636a8a4a487cf",
            "23c66515050b486397984c225c076d32",
            "0a688382e63a4457ae5345be361b031c",
            "7770bc31851c438394b218859808749b",
            "116a94edc55d4967a47b6e5b6709abfa",
            "f83ba30751c54a0685d47ad026cc81d9",
            "ff95ec9c7552475b885f51c8a1ebbf44",
            "3a43ed496986425d8d02d9ed58b1c335",
            "d92c1468c45a416d890834b554e1ed9e",
            "14eb2457437d48bcae3e9b9172677aff",
            "93d434dfed4d44c1af43e4dad900fb55",
            "7a2be1f7aed74d38a4690c0806bee793",
            "46d29830db0f467699202423aabce4c9",
            "06b37e408c684d9f86f0e848bd30cc16",
            "4cf4e74f98bf476cacd2891d9d360fb6",
            "c8ad3635a3584b7ca7d33ddb0b2ac9a2",
            "bc7a867572534fd0a8ef902ac2c1db65",
            "538ba1739c364d2bb88489440e817c7c",
            "fd1abfb2ffb54beaabb6da98cb235c0c",
            "9a2658fb1b8e4194abc8a97565a79a54",
            "c6c08ecc66c4498186b01bc045428460",
            "ad2039f3cfea4e279410c4b5b423a039",
            "aa638ae6917d4e708e540769922d6a5e",
            "abf7c670167048bd99a975b9e29998a1",
            "6395fb1a70f1469eaf79f143cedfbedc",
            "f116c4e20ed84a55b264c920733618f0",
            "cfbfef66e1844d528e5efa0609a6785c",
            "6ddf89f9787b4c80aec1fe8b8e023e3b"
          ]
        }
      },
      "source": [
        "transform = transforms.Compose([transforms.ToTensor(),\n",
        "                                transforms.Normalize((0.5,), (0.5,))])\n",
        "\n",
        "trainset = datasets.MNIST('/content/sample_data/mnist', download=True, train=True, transform=transform)\n",
        "trainloader = DataLoader(trainset, batch_size=64, shuffle=True)"
      ],
      "execution_count": 0,
      "outputs": [
        {
          "output_type": "stream",
          "text": [
            "Downloading http://yann.lecun.com/exdb/mnist/train-images-idx3-ubyte.gz to /content/sample_data/mnist/MNIST/raw/train-images-idx3-ubyte.gz\n"
          ],
          "name": "stdout"
        },
        {
          "output_type": "display_data",
          "data": {
            "application/vnd.jupyter.widget-view+json": {
              "model_id": "615c17bed6714d3cbddc1567e3662994",
              "version_minor": 0,
              "version_major": 2
            },
            "text/plain": [
              "HBox(children=(IntProgress(value=1, bar_style='info', max=1), HTML(value='')))"
            ]
          },
          "metadata": {
            "tags": []
          }
        },
        {
          "output_type": "stream",
          "text": [
            "\n",
            "Extracting /content/sample_data/mnist/MNIST/raw/train-images-idx3-ubyte.gz to /content/sample_data/mnist/MNIST/raw\n",
            "Downloading http://yann.lecun.com/exdb/mnist/train-labels-idx1-ubyte.gz to /content/sample_data/mnist/MNIST/raw/train-labels-idx1-ubyte.gz\n"
          ],
          "name": "stdout"
        },
        {
          "output_type": "display_data",
          "data": {
            "application/vnd.jupyter.widget-view+json": {
              "model_id": "116a94edc55d4967a47b6e5b6709abfa",
              "version_minor": 0,
              "version_major": 2
            },
            "text/plain": [
              "HBox(children=(IntProgress(value=1, bar_style='info', max=1), HTML(value='')))"
            ]
          },
          "metadata": {
            "tags": []
          }
        },
        {
          "output_type": "stream",
          "text": [
            "\n",
            "Extracting /content/sample_data/mnist/MNIST/raw/train-labels-idx1-ubyte.gz to /content/sample_data/mnist/MNIST/raw\n",
            "Downloading http://yann.lecun.com/exdb/mnist/t10k-images-idx3-ubyte.gz to /content/sample_data/mnist/MNIST/raw/t10k-images-idx3-ubyte.gz\n"
          ],
          "name": "stdout"
        },
        {
          "output_type": "display_data",
          "data": {
            "application/vnd.jupyter.widget-view+json": {
              "model_id": "46d29830db0f467699202423aabce4c9",
              "version_minor": 0,
              "version_major": 2
            },
            "text/plain": [
              "HBox(children=(IntProgress(value=1, bar_style='info', max=1), HTML(value='')))"
            ]
          },
          "metadata": {
            "tags": []
          }
        },
        {
          "output_type": "stream",
          "text": [
            "\n",
            "Extracting /content/sample_data/mnist/MNIST/raw/t10k-images-idx3-ubyte.gz to /content/sample_data/mnist/MNIST/raw\n",
            "Downloading http://yann.lecun.com/exdb/mnist/t10k-labels-idx1-ubyte.gz to /content/sample_data/mnist/MNIST/raw/t10k-labels-idx1-ubyte.gz\n"
          ],
          "name": "stdout"
        },
        {
          "output_type": "display_data",
          "data": {
            "application/vnd.jupyter.widget-view+json": {
              "model_id": "c6c08ecc66c4498186b01bc045428460",
              "version_minor": 0,
              "version_major": 2
            },
            "text/plain": [
              "HBox(children=(IntProgress(value=1, bar_style='info', max=1), HTML(value='')))"
            ]
          },
          "metadata": {
            "tags": []
          }
        },
        {
          "output_type": "stream",
          "text": [
            "\n",
            "Extracting /content/sample_data/mnist/MNIST/raw/t10k-labels-idx1-ubyte.gz to /content/sample_data/mnist/MNIST/raw\n",
            "Processing...\n",
            "Done!\n"
          ],
          "name": "stdout"
        }
      ]
    },
    {
      "cell_type": "markdown",
      "metadata": {
        "id": "pgT5xDUtFksM",
        "colab_type": "text"
      },
      "source": [
        "Initialize the sizes."
      ]
    },
    {
      "cell_type": "code",
      "metadata": {
        "id": "QfAldJzjFq6Z",
        "colab_type": "code",
        "colab": {}
      },
      "source": [
        "input_size = 784\n",
        "hidden_sizes = [128, 256, 512]\n",
        "output_size = 10"
      ],
      "execution_count": 0,
      "outputs": []
    },
    {
      "cell_type": "markdown",
      "metadata": {
        "id": "ZoBrA77uFr1A",
        "colab_type": "text"
      },
      "source": [
        "Partition the data as needed to imitate that we have different datasets having different features for our image."
      ]
    },
    {
      "cell_type": "code",
      "metadata": {
        "id": "fQXY2wEZF9Tq",
        "colab_type": "code",
        "colab": {}
      },
      "source": [
        "# 3 lists to contain 3 segmented datasets.\n",
        "image_set1 = list()\n",
        "image_set2 = list()\n",
        "image_set3 = list()\n",
        "labels = list()\n",
        "\n",
        "# Segment the datalength in number of partitions\n",
        "distr = int(input_size/partition)   \n",
        "\n",
        "for image, label in trainloader:\n",
        "\n",
        "    \"\"\"Here we will set the image to [64 x 784] and split columns so that each\n",
        "       list contains unique features for each batch of images which are\n",
        "       arranged row-wise.\"\"\" \n",
        "    image = image.view(image.shape[0], -1)\n",
        "\n",
        "    image_set1.append(image[:, 0:distr])\n",
        "    image_set2.append(image[:, distr:distr*2])\n",
        "    image_set3.append(image[:, distr*2:])\n",
        "    labels.append(label)"
      ],
      "execution_count": 0,
      "outputs": []
    },
    {
      "cell_type": "markdown",
      "metadata": {
        "id": "syokshGTGIfg",
        "colab_type": "text"
      },
      "source": [
        "Here we assign output from create_models to a variable models.\n",
        "\n",
        "Now, according to these models, we are creating different optimizers for different model."
      ]
    },
    {
      "cell_type": "code",
      "metadata": {
        "id": "TdQWjSw_GKxq",
        "colab_type": "code",
        "colab": {}
      },
      "source": [
        "models = create_models(partition, input_size, hidden_sizes, output_size)\n",
        "\n",
        "optimizers = [optim.SGD(model.parameters(), lr=0.01) for model in models]"
      ],
      "execution_count": 0,
      "outputs": []
    },
    {
      "cell_type": "markdown",
      "metadata": {
        "id": "8wsT-GJbGNp7",
        "colab_type": "text"
      },
      "source": [
        "Now append the model locations. All the partitioned models are situated in alice's machine and the model with labels in bob's machine.\n",
        "\n",
        "After this, send each model to its location."
      ]
    },
    {
      "cell_type": "code",
      "metadata": {
        "id": "wzivQFinGRHK",
        "colab_type": "code",
        "colab": {}
      },
      "source": [
        "model_locations = list()\n",
        "for i in range(partition):\n",
        "    model_locations.append(alice)\n",
        "model_locations.append(bob)\n",
        "\n",
        "for model, location in zip(models, model_locations):\n",
        "    model.send(location)"
      ],
      "execution_count": 0,
      "outputs": []
    },
    {
      "cell_type": "markdown",
      "metadata": {
        "id": "GVT4pzB8GWVL",
        "colab_type": "text"
      },
      "source": [
        "Create a object for class SplitNN."
      ]
    },
    {
      "cell_type": "code",
      "metadata": {
        "id": "Qxbt9VbjGYQ7",
        "colab_type": "code",
        "colab": {}
      },
      "source": [
        "splitNN = SplitNN(models, optimizers, partition)"
      ],
      "execution_count": 0,
      "outputs": []
    },
    {
      "cell_type": "markdown",
      "metadata": {
        "id": "MMl88cGrGaGo",
        "colab_type": "text"
      },
      "source": [
        "Define a train function."
      ]
    },
    {
      "cell_type": "code",
      "metadata": {
        "id": "Rt70k3upGbvt",
        "colab_type": "code",
        "colab": {}
      },
      "source": [
        "def train(x, target, splitnn):\n",
        "    splitnn.zero_grads()\n",
        "    pred = splitnn.forward(x)\n",
        "    criterion = nn.NLLLoss()\n",
        "    loss = criterion(pred, target)\n",
        "    loss.backward()\n",
        "    splitnn.backward()\n",
        "    splitnn.step()\n",
        "    return loss"
      ],
      "execution_count": 0,
      "outputs": []
    },
    {
      "cell_type": "markdown",
      "metadata": {
        "id": "BOYMedbVGddf",
        "colab_type": "text"
      },
      "source": [
        "Since we have 2 partitions, we will run the lists in parallel which is made by splitting the dataset from trainloader. Send them to their respective machines i.e. images in alice's machine and labels in bob's machine."
      ]
    },
    {
      "cell_type": "code",
      "metadata": {
        "id": "isJctZN_Gfi-",
        "colab_type": "code",
        "outputId": "c14ba29e-ba84-4eb9-d2e2-f364ba8767f4",
        "colab": {
          "base_uri": "https://localhost:8080/",
          "height": 364
        }
      },
      "source": [
        "epochs = 20\n",
        "\n",
        "for i in range(epochs):\n",
        "    total_loss = 0\n",
        "    for x1, x2, x3, y in zip(image_set1, image_set2, image_set3, labels):\n",
        "        x1, x2 = x1.send(models[0].location), x2.send(models[0].location)\n",
        "        x3 = x3.send(models[0].location)\n",
        "        y = y.send(models[-1].location)\n",
        "        loss = train([x1, x2, x3], y, splitNN)\n",
        "        total_loss += loss.get()\n",
        "\n",
        "    else:\n",
        "        print(f\"Epoch: {i+1}... Training Loss: {total_loss/len(image_set1)}\")"
      ],
      "execution_count": 0,
      "outputs": [
        {
          "output_type": "stream",
          "text": [
            "Epoch: 1... Training Loss: 1.5759333372116089\n",
            "Epoch: 2... Training Loss: 0.46538984775543213\n",
            "Epoch: 3... Training Loss: 0.35638368129730225\n",
            "Epoch: 4... Training Loss: 0.3079238533973694\n",
            "Epoch: 5... Training Loss: 0.2724384367465973\n",
            "Epoch: 6... Training Loss: 0.24428021907806396\n",
            "Epoch: 7... Training Loss: 0.22112241387367249\n",
            "Epoch: 8... Training Loss: 0.2017352432012558\n",
            "Epoch: 9... Training Loss: 0.1853802353143692\n",
            "Epoch: 10... Training Loss: 0.17141534388065338\n",
            "Epoch: 11... Training Loss: 0.15943169593811035\n",
            "Epoch: 12... Training Loss: 0.14898844063282013\n",
            "Epoch: 13... Training Loss: 0.1397523432970047\n",
            "Epoch: 14... Training Loss: 0.1314735859632492\n",
            "Epoch: 15... Training Loss: 0.12397981435060501\n",
            "Epoch: 16... Training Loss: 0.11719723790884018\n",
            "Epoch: 17... Training Loss: 0.11096645891666412\n",
            "Epoch: 18... Training Loss: 0.10527816414833069\n",
            "Epoch: 19... Training Loss: 0.10002068430185318\n",
            "Epoch: 20... Training Loss: 0.09515957534313202\n"
          ],
          "name": "stdout"
        }
      ]
    },
    {
      "cell_type": "code",
      "metadata": {
        "id": "45I2kyXtG3kB",
        "colab_type": "code",
        "colab": {}
      },
      "source": [
        ""
      ],
      "execution_count": 0,
      "outputs": []
    }
  ]
}
{
 "cells": [
  {
   "cell_type": "markdown",
   "metadata": {
    "colab_type": "text",
    "id": "BwHR1frLWbAp"
   },
   "source": [
    "# WebsocketClientWorker Tutorial\n",
    "\n",
    "This tutorial is a 2 notebook tutorial. The partner notebook is the notebook entitled `WebsocketServerWorker.ipynb` and is in the same folder as this notebook. You should execute this notebook AFTER you have executed the other one.\n",
    "\n",
    "In this tutorial, we'll demonstrate how to launch a SocketWorker server which will listen for PyTorch commands over a socket connection. In this tutorial, the two workers are connected via a socket connection on the localhost network.\n",
    "\n",
    "If you'd prefer to download this notebook and run it locally, you can do so via the `Download .ipynb` in the `File` dropdown field in this Google colab environment. "
   ]
  },
  {
   "cell_type": "markdown",
   "metadata": {
    "colab_type": "text",
    "id": "LkAOFaq3WdCn"
   },
   "source": [
    "\n",
    "# Step -1: Copy This Notebook\n",
    "\n",
    "Go up to File -> Save A Copy in Drive\n",
    "\n",
    "This will let you execute the notebook (it won't let you execute this one by default)\n",
    "\n",
    "# Step 0: Install Dependencies"
   ]
  },
  {
   "cell_type": "code",
   "execution_count": null,
   "metadata": {
    "colab": {
     "base_uri": "https://localhost:8080/",
     "height": 5154
    },
    "colab_type": "code",
    "id": "G58GV77oWgO-",
    "outputId": "b6080406-3e39-47b6-e39c-95709cd8d932"
   },
   "outputs": [
    {
     "name": "stdout",
     "output_type": "stream",
     "text": [
      "fatal: destination path 'PySyft' already exists and is not an empty directory.\n",
      "Requirement already satisfied: pre-commit in /usr/local/lib/python3.6/dist-packages (from -r requirements.txt (line 1)) (1.10.5)\n",
      "Requirement already satisfied: sphinx_rtd_theme in /usr/local/lib/python3.6/dist-packages (from -r requirements.txt (line 2)) (0.4.1)\n",
      "Requirement already satisfied: websockets in /usr/local/lib/python3.6/dist-packages (from -r requirements.txt (line 3)) (6.0)\n",
      "Requirement already satisfied: six in /usr/local/lib/python3.6/dist-packages (from pre-commit->-r requirements.txt (line 1)) (1.11.0)\n",
      "Requirement already satisfied: aspy.yaml in /usr/local/lib/python3.6/dist-packages (from pre-commit->-r requirements.txt (line 1)) (1.1.1)\n",
      "Requirement already satisfied: cached-property in /usr/local/lib/python3.6/dist-packages (from pre-commit->-r requirements.txt (line 1)) (1.4.3)\n",
      "Requirement already satisfied: identify>=1.0.0 in /usr/local/lib/python3.6/dist-packages (from pre-commit->-r requirements.txt (line 1)) (1.1.4)\n",
      "Requirement already satisfied: nodeenv>=0.11.1 in /usr/local/lib/python3.6/dist-packages (from pre-commit->-r requirements.txt (line 1)) (1.3.2)\n",
      "Requirement already satisfied: cfgv>=1.0.0 in /usr/local/lib/python3.6/dist-packages (from pre-commit->-r requirements.txt (line 1)) (1.1.0)\n",
      "Requirement already satisfied: toml in /usr/local/lib/python3.6/dist-packages (from pre-commit->-r requirements.txt (line 1)) (0.9.4)\n",
      "Requirement already satisfied: virtualenv in /usr/local/lib/python3.6/dist-packages (from pre-commit->-r requirements.txt (line 1)) (16.0.0)\n",
      "Requirement already satisfied: pyyaml in /usr/local/lib/python3.6/dist-packages (from pre-commit->-r requirements.txt (line 1)) (3.13)\n",
      "Requirement already satisfied: sphinx in /usr/local/lib/python3.6/dist-packages (from sphinx_rtd_theme->-r requirements.txt (line 2)) (1.7.8)\n",
      "Requirement already satisfied: imagesize in /usr/local/lib/python3.6/dist-packages (from sphinx->sphinx_rtd_theme->-r requirements.txt (line 2)) (1.0.0)\n",
      "Requirement already satisfied: docutils>=0.11 in /usr/local/lib/python3.6/dist-packages (from sphinx->sphinx_rtd_theme->-r requirements.txt (line 2)) (0.14)\n",
      "Requirement already satisfied: sphinxcontrib-websupport in /usr/local/lib/python3.6/dist-packages (from sphinx->sphinx_rtd_theme->-r requirements.txt (line 2)) (1.1.0)\n",
      "Requirement already satisfied: requests>=2.0.0 in /usr/local/lib/python3.6/dist-packages (from sphinx->sphinx_rtd_theme->-r requirements.txt (line 2)) (2.18.4)\n",
      "Requirement already satisfied: alabaster<0.8,>=0.7 in /usr/local/lib/python3.6/dist-packages (from sphinx->sphinx_rtd_theme->-r requirements.txt (line 2)) (0.7.11)\n",
      "Requirement already satisfied: Jinja2>=2.3 in /usr/local/lib/python3.6/dist-packages (from sphinx->sphinx_rtd_theme->-r requirements.txt (line 2)) (2.10)\n",
      "Requirement already satisfied: setuptools in /usr/local/lib/python3.6/dist-packages (from sphinx->sphinx_rtd_theme->-r requirements.txt (line 2)) (39.1.0)\n",
      "Requirement already satisfied: packaging in /usr/local/lib/python3.6/dist-packages (from sphinx->sphinx_rtd_theme->-r requirements.txt (line 2)) (17.1)\n",
      "Requirement already satisfied: babel!=2.0,>=1.3 in /usr/local/lib/python3.6/dist-packages (from sphinx->sphinx_rtd_theme->-r requirements.txt (line 2)) (2.6.0)\n",
      "Requirement already satisfied: Pygments>=2.0 in /usr/local/lib/python3.6/dist-packages (from sphinx->sphinx_rtd_theme->-r requirements.txt (line 2)) (2.1.3)\n",
      "Requirement already satisfied: snowballstemmer>=1.1 in /usr/local/lib/python3.6/dist-packages (from sphinx->sphinx_rtd_theme->-r requirements.txt (line 2)) (1.2.1)\n",
      "Requirement already satisfied: certifi>=2017.4.17 in /usr/local/lib/python3.6/dist-packages (from requests>=2.0.0->sphinx->sphinx_rtd_theme->-r requirements.txt (line 2)) (2018.8.24)\n",
      "Requirement already satisfied: idna<2.7,>=2.5 in /usr/local/lib/python3.6/dist-packages (from requests>=2.0.0->sphinx->sphinx_rtd_theme->-r requirements.txt (line 2)) (2.6)\n",
      "Requirement already satisfied: chardet<3.1.0,>=3.0.2 in /usr/local/lib/python3.6/dist-packages (from requests>=2.0.0->sphinx->sphinx_rtd_theme->-r requirements.txt (line 2)) (3.0.4)\n",
      "Requirement already satisfied: urllib3<1.23,>=1.21.1 in /usr/local/lib/python3.6/dist-packages (from requests>=2.0.0->sphinx->sphinx_rtd_theme->-r requirements.txt (line 2)) (1.22)\n",
      "Requirement already satisfied: MarkupSafe>=0.23 in /usr/local/lib/python3.6/dist-packages (from Jinja2>=2.3->sphinx->sphinx_rtd_theme->-r requirements.txt (line 2)) (1.0)\n",
      "Requirement already satisfied: pyparsing>=2.0.2 in /usr/local/lib/python3.6/dist-packages (from packaging->sphinx->sphinx_rtd_theme->-r requirements.txt (line 2)) (2.2.0)\n",
      "Requirement already satisfied: pytz>=0a in /usr/local/lib/python3.6/dist-packages (from babel!=2.0,>=1.3->sphinx->sphinx_rtd_theme->-r requirements.txt (line 2)) (2018.5)\n",
      "running install\n",
      "running bdist_egg\n",
      "running egg_info\n",
      "writing syft.egg-info/PKG-INFO\n",
      "writing dependency_links to syft.egg-info/dependency_links.txt\n",
      "writing requirements to syft.egg-info/requires.txt\n",
      "writing top-level names to syft.egg-info/top_level.txt\n",
      "reading manifest file 'syft.egg-info/SOURCES.txt'\n",
      "writing manifest file 'syft.egg-info/SOURCES.txt'\n",
      "installing library code to build/bdist.linux-x86_64/egg\n",
      "running install_lib\n",
      "running build_py\n",
      "creating build/bdist.linux-x86_64/egg\n",
      "creating build/bdist.linux-x86_64/egg/test\n",
      "creating build/bdist.linux-x86_64/egg/test/core\n",
      "copying build/lib/test/core/utils_test.py -> build/bdist.linux-x86_64/egg/test/core\n",
      "copying build/lib/test/core/workers_test.py -> build/bdist.linux-x86_64/egg/test/core\n",
      "copying build/lib/test/core/hooks_test.py -> build/bdist.linux-x86_64/egg/test/core\n",
      "copying build/lib/test/core/__init__.py -> build/bdist.linux-x86_64/egg/test/core\n",
      "copying build/lib/test/torch_test.py -> build/bdist.linux-x86_64/egg/test\n",
      "copying build/lib/test/__init__.py -> build/bdist.linux-x86_64/egg/test\n",
      "copying build/lib/test/tensor_serde_test.py -> build/bdist.linux-x86_64/egg/test\n",
      "creating build/bdist.linux-x86_64/egg/syft\n",
      "creating build/bdist.linux-x86_64/egg/syft/core\n",
      "copying build/lib/syft/core/utils.py -> build/bdist.linux-x86_64/egg/syft/core\n",
      "creating build/bdist.linux-x86_64/egg/syft/core/frameworks\n",
      "copying build/lib/syft/core/frameworks/__init__.py -> build/bdist.linux-x86_64/egg/syft/core/frameworks\n",
      "creating build/bdist.linux-x86_64/egg/syft/core/frameworks/torch\n",
      "copying build/lib/syft/core/frameworks/torch/encode.py -> build/bdist.linux-x86_64/egg/syft/core/frameworks/torch\n",
      "copying build/lib/syft/core/frameworks/torch/utils.py -> build/bdist.linux-x86_64/egg/syft/core/frameworks/torch\n",
      "copying build/lib/syft/core/frameworks/torch/tensor.py -> build/bdist.linux-x86_64/egg/syft/core/frameworks/torch\n",
      "copying build/lib/syft/core/frameworks/torch/hook.py -> build/bdist.linux-x86_64/egg/syft/core/frameworks/torch\n",
      "copying build/lib/syft/core/frameworks/torch/__init__.py -> build/bdist.linux-x86_64/egg/syft/core/frameworks/torch\n",
      "copying build/lib/syft/core/frameworks/torch/functions.py -> build/bdist.linux-x86_64/egg/syft/core/frameworks/torch\n",
      "creating build/bdist.linux-x86_64/egg/syft/core/workers\n",
      "copying build/lib/syft/core/workers/virtual.py -> build/bdist.linux-x86_64/egg/syft/core/workers\n",
      "copying build/lib/syft/core/workers/websocket.py -> build/bdist.linux-x86_64/egg/syft/core/workers\n",
      "copying build/lib/syft/core/workers/socket.py -> build/bdist.linux-x86_64/egg/syft/core/workers\n",
      "copying build/lib/syft/core/workers/__init__.py -> build/bdist.linux-x86_64/egg/syft/core/workers\n",
      "copying build/lib/syft/core/workers/base.py -> build/bdist.linux-x86_64/egg/syft/core/workers\n",
      "copying build/lib/syft/core/__init__.py -> build/bdist.linux-x86_64/egg/syft/core\n",
      "creating build/bdist.linux-x86_64/egg/syft/mpc\n",
      "creating build/bdist.linux-x86_64/egg/syft/mpc/interface\n",
      "copying build/lib/syft/mpc/interface/grid_client_interface.py -> build/bdist.linux-x86_64/egg/syft/mpc/interface\n",
      "copying build/lib/syft/mpc/interface/base_interface.py -> build/bdist.linux-x86_64/egg/syft/mpc/interface\n",
      "copying build/lib/syft/mpc/interface/distributed_interface.py -> build/bdist.linux-x86_64/egg/syft/mpc/interface\n",
      "copying build/lib/syft/mpc/interface/grid_worker_interface.py -> build/bdist.linux-x86_64/egg/syft/mpc/interface\n",
      "copying build/lib/syft/mpc/interface/__init__.py -> build/bdist.linux-x86_64/egg/syft/mpc/interface\n",
      "copying build/lib/syft/mpc/spdz.py -> build/bdist.linux-x86_64/egg/syft/mpc\n",
      "copying build/lib/syft/mpc/shared_variable.py -> build/bdist.linux-x86_64/egg/syft/mpc\n",
      "copying build/lib/syft/mpc/__init__.py -> build/bdist.linux-x86_64/egg/syft/mpc\n",
      "copying build/lib/syft/__init__.py -> build/bdist.linux-x86_64/egg/syft\n",
      "byte-compiling build/bdist.linux-x86_64/egg/test/core/utils_test.py to utils_test.cpython-36.pyc\n",
      "byte-compiling build/bdist.linux-x86_64/egg/test/core/workers_test.py to workers_test.cpython-36.pyc\n",
      "byte-compiling build/bdist.linux-x86_64/egg/test/core/hooks_test.py to hooks_test.cpython-36.pyc\n",
      "byte-compiling build/bdist.linux-x86_64/egg/test/core/__init__.py to __init__.cpython-36.pyc\n",
      "byte-compiling build/bdist.linux-x86_64/egg/test/torch_test.py to torch_test.cpython-36.pyc\n",
      "byte-compiling build/bdist.linux-x86_64/egg/test/__init__.py to __init__.cpython-36.pyc\n",
      "byte-compiling build/bdist.linux-x86_64/egg/test/tensor_serde_test.py to tensor_serde_test.cpython-36.pyc\n",
      "byte-compiling build/bdist.linux-x86_64/egg/syft/core/utils.py to utils.cpython-36.pyc\n",
      "byte-compiling build/bdist.linux-x86_64/egg/syft/core/frameworks/__init__.py to __init__.cpython-36.pyc\n",
      "byte-compiling build/bdist.linux-x86_64/egg/syft/core/frameworks/torch/encode.py to encode.cpython-36.pyc\n",
      "byte-compiling build/bdist.linux-x86_64/egg/syft/core/frameworks/torch/utils.py to utils.cpython-36.pyc\n",
      "byte-compiling build/bdist.linux-x86_64/egg/syft/core/frameworks/torch/tensor.py to tensor.cpython-36.pyc\n",
      "byte-compiling build/bdist.linux-x86_64/egg/syft/core/frameworks/torch/hook.py to hook.cpython-36.pyc\n",
      "byte-compiling build/bdist.linux-x86_64/egg/syft/core/frameworks/torch/__init__.py to __init__.cpython-36.pyc\n",
      "byte-compiling build/bdist.linux-x86_64/egg/syft/core/frameworks/torch/functions.py to functions.cpython-36.pyc\n",
      "byte-compiling build/bdist.linux-x86_64/egg/syft/core/workers/virtual.py to virtual.cpython-36.pyc\n",
      "byte-compiling build/bdist.linux-x86_64/egg/syft/core/workers/websocket.py to websocket.cpython-36.pyc\n",
      "byte-compiling build/bdist.linux-x86_64/egg/syft/core/workers/socket.py to socket.cpython-36.pyc\n",
      "byte-compiling build/bdist.linux-x86_64/egg/syft/core/workers/__init__.py to __init__.cpython-36.pyc\n",
      "byte-compiling build/bdist.linux-x86_64/egg/syft/core/workers/base.py to base.cpython-36.pyc\n",
      "byte-compiling build/bdist.linux-x86_64/egg/syft/core/__init__.py to __init__.cpython-36.pyc\n",
      "byte-compiling build/bdist.linux-x86_64/egg/syft/mpc/interface/grid_client_interface.py to grid_client_interface.cpython-36.pyc\n",
      "byte-compiling build/bdist.linux-x86_64/egg/syft/mpc/interface/base_interface.py to base_interface.cpython-36.pyc\n",
      "byte-compiling build/bdist.linux-x86_64/egg/syft/mpc/interface/distributed_interface.py to distributed_interface.cpython-36.pyc\n",
      "byte-compiling build/bdist.linux-x86_64/egg/syft/mpc/interface/grid_worker_interface.py to grid_worker_interface.cpython-36.pyc\n",
      "byte-compiling build/bdist.linux-x86_64/egg/syft/mpc/interface/__init__.py to __init__.cpython-36.pyc\n",
      "byte-compiling build/bdist.linux-x86_64/egg/syft/mpc/spdz.py to spdz.cpython-36.pyc\n",
      "byte-compiling build/bdist.linux-x86_64/egg/syft/mpc/shared_variable.py to shared_variable.cpython-36.pyc\n",
      "byte-compiling build/bdist.linux-x86_64/egg/syft/mpc/__init__.py to __init__.cpython-36.pyc\n",
      "byte-compiling build/bdist.linux-x86_64/egg/syft/__init__.py to __init__.cpython-36.pyc\n",
      "creating build/bdist.linux-x86_64/egg/EGG-INFO\n",
      "copying syft.egg-info/PKG-INFO -> build/bdist.linux-x86_64/egg/EGG-INFO\n",
      "copying syft.egg-info/SOURCES.txt -> build/bdist.linux-x86_64/egg/EGG-INFO\n",
      "copying syft.egg-info/dependency_links.txt -> build/bdist.linux-x86_64/egg/EGG-INFO\n",
      "copying syft.egg-info/requires.txt -> build/bdist.linux-x86_64/egg/EGG-INFO\n",
      "copying syft.egg-info/top_level.txt -> build/bdist.linux-x86_64/egg/EGG-INFO\n",
      "zip_safe flag not set; analyzing archive contents...\n",
      "creating 'dist/syft-0.1.0-py3.6.egg' and adding 'build/bdist.linux-x86_64/egg' to it\n",
      "removing 'build/bdist.linux-x86_64/egg' (and everything under it)\n",
      "Processing syft-0.1.0-py3.6.egg\n",
      "Removing /usr/local/lib/python3.6/dist-packages/syft-0.1.0-py3.6.egg\n",
      "Copying syft-0.1.0-py3.6.egg to /usr/local/lib/python3.6/dist-packages\n",
      "syft 0.1.0 is already the active version in easy-install.pth\n",
      "\n",
      "Installed /usr/local/lib/python3.6/dist-packages/syft-0.1.0-py3.6.egg\n",
      "Processing dependencies for syft==0.1.0\n",
      "Searching for websockets==6.0\n",
      "Best match: websockets 6.0\n",
      "Adding websockets 6.0 to easy-install.pth file\n",
      "\n",
      "Using /usr/local/lib/python3.6/dist-packages\n",
      "Searching for sphinx-rtd-theme==0.4.1\n",
      "Best match: sphinx-rtd-theme 0.4.1\n",
      "Adding sphinx-rtd-theme 0.4.1 to easy-install.pth file\n",
      "\n",
      "Using /usr/local/lib/python3.6/dist-packages\n",
      "Searching for pre-commit==1.10.5\n",
      "Best match: pre-commit 1.10.5\n",
      "Adding pre-commit 1.10.5 to easy-install.pth file\n",
      "Installing pre-commit script to /usr/local/bin\n",
      "Installing pre-commit-validate-config script to /usr/local/bin\n",
      "Installing pre-commit-validate-manifest script to /usr/local/bin\n",
      "\n",
      "Using /usr/local/lib/python3.6/dist-packages\n",
      "Searching for Sphinx==1.7.8\n",
      "Best match: Sphinx 1.7.8\n",
      "Adding Sphinx 1.7.8 to easy-install.pth file\n",
      "Installing sphinx-apidoc script to /usr/local/bin\n",
      "Installing sphinx-autogen script to /usr/local/bin\n",
      "Installing sphinx-build script to /usr/local/bin\n",
      "Installing sphinx-quickstart script to /usr/local/bin\n",
      "\n",
      "Using /usr/local/lib/python3.6/dist-packages\n",
      "Searching for PyYAML==3.13\n",
      "Best match: PyYAML 3.13\n",
      "Adding PyYAML 3.13 to easy-install.pth file\n",
      "\n",
      "Using /usr/local/lib/python3.6/dist-packages\n",
      "Searching for nodeenv==1.3.2\n",
      "Best match: nodeenv 1.3.2\n",
      "Adding nodeenv 1.3.2 to easy-install.pth file\n",
      "Installing nodeenv script to /usr/local/bin\n",
      "\n",
      "Using /usr/local/lib/python3.6/dist-packages\n",
      "Searching for toml==0.9.4\n",
      "Best match: toml 0.9.4\n",
      "Adding toml 0.9.4 to easy-install.pth file\n",
      "\n",
      "Using /usr/local/lib/python3.6/dist-packages\n",
      "Searching for cached-property==1.4.3\n",
      "Best match: cached-property 1.4.3\n",
      "Adding cached-property 1.4.3 to easy-install.pth file\n",
      "\n",
      "Using /usr/local/lib/python3.6/dist-packages\n",
      "Searching for identify==1.1.4\n",
      "Best match: identify 1.1.4\n",
      "Adding identify 1.1.4 to easy-install.pth file\n",
      "Installing identify-cli script to /usr/local/bin\n",
      "\n",
      "Using /usr/local/lib/python3.6/dist-packages\n",
      "Searching for cfgv==1.1.0\n",
      "Best match: cfgv 1.1.0\n",
      "Adding cfgv 1.1.0 to easy-install.pth file\n",
      "\n",
      "Using /usr/local/lib/python3.6/dist-packages\n",
      "Searching for virtualenv==16.0.0\n",
      "Best match: virtualenv 16.0.0\n",
      "Adding virtualenv 16.0.0 to easy-install.pth file\n",
      "Installing virtualenv script to /usr/local/bin\n",
      "\n",
      "Using /usr/local/lib/python3.6/dist-packages\n",
      "Searching for six==1.11.0\n",
      "Best match: six 1.11.0\n",
      "Adding six 1.11.0 to easy-install.pth file\n",
      "\n",
      "Using /usr/local/lib/python3.6/dist-packages\n",
      "Searching for aspy.yaml==1.1.1\n",
      "Best match: aspy.yaml 1.1.1\n",
      "Adding aspy.yaml 1.1.1 to easy-install.pth file\n",
      "\n",
      "Using /usr/local/lib/python3.6/dist-packages\n",
      "Searching for Jinja2==2.10\n",
      "Best match: Jinja2 2.10\n",
      "Adding Jinja2 2.10 to easy-install.pth file\n",
      "\n",
      "Using /usr/local/lib/python3.6/dist-packages\n",
      "Searching for requests==2.18.4\n",
      "Best match: requests 2.18.4\n",
      "Adding requests 2.18.4 to easy-install.pth file\n",
      "\n",
      "Using /usr/local/lib/python3.6/dist-packages\n",
      "Searching for docutils==0.14\n",
      "Best match: docutils 0.14\n",
      "Adding docutils 0.14 to easy-install.pth file\n",
      "\n",
      "Using /usr/local/lib/python3.6/dist-packages\n",
      "Searching for snowballstemmer==1.2.1\n",
      "Best match: snowballstemmer 1.2.1\n",
      "Adding snowballstemmer 1.2.1 to easy-install.pth file\n",
      "\n",
      "Using /usr/local/lib/python3.6/dist-packages\n",
      "Searching for Babel==2.6.0\n",
      "Best match: Babel 2.6.0\n",
      "Adding Babel 2.6.0 to easy-install.pth file\n",
      "Installing pybabel script to /usr/local/bin\n",
      "\n",
      "Using /usr/local/lib/python3.6/dist-packages\n",
      "Searching for Pygments==2.1.3\n",
      "Best match: Pygments 2.1.3\n",
      "Adding Pygments 2.1.3 to easy-install.pth file\n",
      "Installing pygmentize script to /usr/local/bin\n",
      "\n",
      "Using /usr/local/lib/python3.6/dist-packages\n",
      "Searching for sphinxcontrib-websupport==1.1.0\n",
      "Best match: sphinxcontrib-websupport 1.1.0\n",
      "Adding sphinxcontrib-websupport 1.1.0 to easy-install.pth file\n",
      "\n",
      "Using /usr/local/lib/python3.6/dist-packages\n",
      "Searching for setuptools==39.1.0\n",
      "Best match: setuptools 39.1.0\n",
      "Adding setuptools 39.1.0 to easy-install.pth file\n",
      "Installing easy_install script to /usr/local/bin\n",
      "Installing easy_install-3.6 script to /usr/local/bin\n",
      "\n",
      "Using /usr/local/lib/python3.6/dist-packages\n",
      "Searching for alabaster==0.7.11\n",
      "Best match: alabaster 0.7.11\n",
      "Adding alabaster 0.7.11 to easy-install.pth file\n",
      "\n",
      "Using /usr/local/lib/python3.6/dist-packages\n",
      "Searching for imagesize==1.0.0\n",
      "Best match: imagesize 1.0.0\n",
      "Adding imagesize 1.0.0 to easy-install.pth file\n",
      "\n",
      "Using /usr/local/lib/python3.6/dist-packages\n",
      "Searching for packaging==17.1\n",
      "Best match: packaging 17.1\n",
      "Adding packaging 17.1 to easy-install.pth file\n",
      "\n",
      "Using /usr/local/lib/python3.6/dist-packages\n",
      "Searching for MarkupSafe==1.0\n",
      "Best match: MarkupSafe 1.0\n",
      "Adding MarkupSafe 1.0 to easy-install.pth file\n",
      "\n",
      "Using /usr/local/lib/python3.6/dist-packages\n",
      "Searching for idna==2.6\n",
      "Best match: idna 2.6\n",
      "Adding idna 2.6 to easy-install.pth file\n",
      "\n",
      "Using /usr/local/lib/python3.6/dist-packages\n",
      "Searching for urllib3==1.22\n",
      "Best match: urllib3 1.22\n",
      "Adding urllib3 1.22 to easy-install.pth file\n",
      "\n",
      "Using /usr/local/lib/python3.6/dist-packages\n",
      "Searching for certifi==2018.8.24\n",
      "Best match: certifi 2018.8.24\n",
      "Adding certifi 2018.8.24 to easy-install.pth file\n",
      "\n",
      "Using /usr/local/lib/python3.6/dist-packages\n",
      "Searching for chardet==3.0.4\n",
      "Best match: chardet 3.0.4\n",
      "Adding chardet 3.0.4 to easy-install.pth file\n",
      "Installing chardetect script to /usr/local/bin\n",
      "\n",
      "Using /usr/local/lib/python3.6/dist-packages\n",
      "Searching for pytz==2018.5\n",
      "Best match: pytz 2018.5\n",
      "Adding pytz 2018.5 to easy-install.pth file\n",
      "\n",
      "Using /usr/local/lib/python3.6/dist-packages\n",
      "Searching for pyparsing==2.2.0\n",
      "Best match: pyparsing 2.2.0\n",
      "Adding pyparsing 2.2.0 to easy-install.pth file\n",
      "\n",
      "Using /usr/local/lib/python3.6/dist-packages\n",
      "Finished processing dependencies for syft==0.1.0\n"
     ]
    }
   ],
   "source": [
    "! git clone https://github.com/OpenMined/PySyft.git\n",
    "! git checkout torch_031\n",
    "# http://pytorch.org/\n",
    "from os import path\n",
    "from wheel.pep425tags import get_abbr_impl, get_impl_ver, get_abi_tag\n",
    "platform = '{}{}-{}'.format(get_abbr_impl(), get_impl_ver(), get_abi_tag())\n",
    "\n",
    "accelerator = 'cu80' if path.exists('/opt/bin/nvidia-smi') else 'cpu'\n",
    "\n",
    "!pip install -q http://download.pytorch.org/whl/{accelerator}/torch-0.3.0.post4-{platform}-linux_x86_64.whl torchvision\n",
    "import torch\n",
    "\n",
    "!cd PySyft; pip install -r requirements.txt; python setup.py install\n",
    "\n",
    "import os\n",
    "import sys\n",
    "module_path = os.path.abspath(os.path.join('./PySyft'))\n",
    "if module_path not in sys.path:\n",
    "    sys.path.append(module_path)"
   ]
  },
  {
   "cell_type": "markdown",
   "metadata": {
    "colab_type": "text",
    "id": "qjuWR5W1WbAq"
   },
   "source": [
    "# Step 1: Hook Torch and Create Local Worker\n",
    "\n",
    "In this step, we hook PyTorch and initialize within the hook a client SocketWorker."
   ]
  },
  {
   "cell_type": "code",
   "execution_count": null,
   "metadata": {
    "colab": {
     "base_uri": "https://localhost:8080/",
     "height": 334
    },
    "colab_type": "code",
    "id": "3Uiboh5tWbAs",
    "outputId": "32f16cbc-d65f-44cc-c4e6-611f98ee516b"
   },
   "outputs": [
    {
     "ename": "ModuleNotFoundError",
     "evalue": "ignored",
     "output_type": "error",
     "traceback": [
      "\u001b[0;31m---------------------------------------------------------------------------\u001b[0m",
      "\u001b[0;31mModuleNotFoundError\u001b[0m                       Traceback (most recent call last)",
      "\u001b[0;32m<ipython-input-1-ee6cdf382d15>\u001b[0m in \u001b[0;36m<module>\u001b[0;34m()\u001b[0m\n\u001b[0;32m----> 1\u001b[0;31m \u001b[0;32mimport\u001b[0m \u001b[0msyft\u001b[0m \u001b[0;32mas\u001b[0m \u001b[0msy\u001b[0m\u001b[0;34m\u001b[0m\u001b[0;34m\u001b[0m\u001b[0m\n\u001b[0m\u001b[1;32m      2\u001b[0m \u001b[0;34m\u001b[0m\u001b[0m\n\u001b[1;32m      3\u001b[0m \u001b[0mhook\u001b[0m \u001b[0;34m=\u001b[0m \u001b[0msy\u001b[0m\u001b[0;34m.\u001b[0m\u001b[0mTorchHook\u001b[0m\u001b[0;34m(\u001b[0m\u001b[0mlocal_worker\u001b[0m\u001b[0;34m=\u001b[0m\u001b[0msy\u001b[0m\u001b[0;34m.\u001b[0m\u001b[0mSocketWorker\u001b[0m\u001b[0;34m(\u001b[0m\u001b[0mid\u001b[0m\u001b[0;34m=\u001b[0m\u001b[0;36m0\u001b[0m\u001b[0;34m,\u001b[0m \u001b[0mport\u001b[0m\u001b[0;34m=\u001b[0m\u001b[0;36m8182\u001b[0m\u001b[0;34m)\u001b[0m\u001b[0;34m)\u001b[0m\u001b[0;34m\u001b[0m\u001b[0;34m\u001b[0m\u001b[0m\n",
      "\u001b[0;31mModuleNotFoundError\u001b[0m: No module named 'syft'",
      "",
      "\u001b[0;31m---------------------------------------------------------------------------\u001b[0;32m\nNOTE: If your import is failing due to a missing package, you can\nmanually install dependencies using either !pip or !apt.\n\nTo view examples of installing some common dependencies, click the\n\"Open Examples\" button below.\n\u001b[0;31m---------------------------------------------------------------------------\u001b[0m\n"
     ]
    }
   ],
   "source": [
    "import syft as sy\n",
    "\n",
    "hook = sy.TorchHook(local_worker=sy.SocketWorker(id=0, port=8182))"
   ]
  },
  {
   "cell_type": "markdown",
   "metadata": {
    "colab_type": "text",
    "id": "9xbDlCZEWbAz"
   },
   "source": [
    "# Step 2: Create Pointer to Remote Socket Worker\n",
    "\n",
    "In order to interact with a foreign worker over a socket connection, we need to create a pointer to it containing information on how to contact it. We set the is_pointer=True to signify that this Python object is not in fact a worker in and of itself but that it is merely a pointer to one over the network. We then inform our local worker about this pointer."
   ]
  },
  {
   "cell_type": "code",
   "execution_count": null,
   "metadata": {
    "colab": {
     "base_uri": "https://localhost:8080/",
     "height": 34
    },
    "colab_type": "code",
    "id": "pakbrhCuWbAz",
    "outputId": "ecab6f57-0eb0-4a06-ccb5-b581f4a65945"
   },
   "outputs": [
    {
     "name": "stdout",
     "output_type": "stream",
     "text": [
      "Attaching Pointer to Socket Worker...\n"
     ]
    }
   ],
   "source": [
    "remote_client = sy.SocketWorker(hook=hook,id=2, port=8181, is_pointer=True)\n",
    "hook.local_worker.add_worker(remote_client)"
   ]
  },
  {
   "cell_type": "markdown",
   "metadata": {
    "colab_type": "text",
    "id": "yaap8ep0WbA3"
   },
   "source": [
    "# Step 3: Create Tensors & Send To The Worker"
   ]
  },
  {
   "cell_type": "code",
   "execution_count": null,
   "metadata": {
    "colab": {},
    "colab_type": "code",
    "id": "pQ9iQViMWbA5"
   },
   "outputs": [],
   "source": [
    "x = sy.FloatTensor([1,2,3,4,5]).send(remote_client)"
   ]
  },
  {
   "cell_type": "code",
   "execution_count": null,
   "metadata": {
    "colab": {},
    "colab_type": "code",
    "id": "Ao5OL3JsWbA7"
   },
   "outputs": [],
   "source": [
    "x2 = torch.FloatTensor([1,2,3,4,4]).send(remote_client)"
   ]
  },
  {
   "cell_type": "code",
   "execution_count": null,
   "metadata": {
    "colab": {
     "base_uri": "https://localhost:8080/",
     "height": 34
    },
    "colab_type": "code",
    "id": "zfVc5_h5WbA-",
    "outputId": "4a6cbff9-1129-4dfa-bb5f-5260b51a22f1"
   },
   "outputs": [
    {
     "data": {
      "text/plain": [
       "FloatTensor[_PointerTensor - id:4129544610 owner:0 loc:2 id@loc:79320779676]"
      ]
     },
     "execution_count": 7,
     "metadata": {
      "tags": []
     },
     "output_type": "execute_result"
    }
   ],
   "source": [
    "x"
   ]
  },
  {
   "cell_type": "code",
   "execution_count": null,
   "metadata": {
    "colab": {
     "base_uri": "https://localhost:8080/",
     "height": 34
    },
    "colab_type": "code",
    "id": "uBUfHGk5WbBB",
    "outputId": "97d6dc33-4a95-4828-cf87-2bed16d09b8d"
   },
   "outputs": [
    {
     "data": {
      "text/plain": [
       "FloatTensor[_PointerTensor - id:8144291470 owner:0 loc:2 id@loc:19397969248]"
      ]
     },
     "execution_count": 8,
     "metadata": {
      "tags": []
     },
     "output_type": "execute_result"
    }
   ],
   "source": [
    "x2"
   ]
  },
  {
   "cell_type": "markdown",
   "metadata": {
    "colab_type": "text",
    "id": "pFQoIbF9WbBF"
   },
   "source": [
    "# Step 4: Execute Operations Like Normal"
   ]
  },
  {
   "cell_type": "code",
   "execution_count": null,
   "metadata": {
    "colab": {},
    "colab_type": "code",
    "id": "i7xOloWOWbBG"
   },
   "outputs": [],
   "source": [
    "y = x + x2 + x"
   ]
  },
  {
   "cell_type": "markdown",
   "metadata": {
    "colab_type": "text",
    "id": "hv6Ci9EpWbBK"
   },
   "source": [
    "# Step 5: Get Results"
   ]
  },
  {
   "cell_type": "code",
   "execution_count": null,
   "metadata": {
    "colab": {
     "base_uri": "https://localhost:8080/",
     "height": 34
    },
    "colab_type": "code",
    "id": "JFXHDVvYWbBL",
    "outputId": "40a82592-f409-4f3a-9363-d02fa6d0bdb8"
   },
   "outputs": [
    {
     "data": {
      "text/plain": [
       "FloatTensor[_PointerTensor - id:1340811713 owner:0 loc:2 id@loc:1136221544]"
      ]
     },
     "execution_count": 10,
     "metadata": {
      "tags": []
     },
     "output_type": "execute_result"
    }
   ],
   "source": [
    "y"
   ]
  },
  {
   "cell_type": "code",
   "execution_count": null,
   "metadata": {
    "colab": {
     "base_uri": "https://localhost:8080/",
     "height": 136
    },
    "colab_type": "code",
    "id": "AIZYgjn3WbBO",
    "outputId": "4e3a27e5-98d8-4760-cf97-1206a8cd52b3"
   },
   "outputs": [
    {
     "data": {
      "text/plain": [
       "\n",
       "  3\n",
       "  6\n",
       "  9\n",
       " 12\n",
       " 14\n",
       "[syft.core.frameworks.torch.tensor.FloatTensor of size 5]"
      ]
     },
     "execution_count": 11,
     "metadata": {
      "tags": []
     },
     "output_type": "execute_result"
    }
   ],
   "source": [
    "y.get()"
   ]
  },
  {
   "cell_type": "code",
   "execution_count": null,
   "metadata": {
    "colab": {
     "base_uri": "https://localhost:8080/",
     "height": 136
    },
    "colab_type": "code",
    "id": "VEBZFX53WbBR",
    "outputId": "25a12c43-16e0-4c52-ec06-3ed487634740"
   },
   "outputs": [
    {
     "data": {
      "text/plain": [
       "\n",
       "  3\n",
       "  6\n",
       "  9\n",
       " 12\n",
       " 14\n",
       "[syft.core.frameworks.torch.tensor.FloatTensor of size 5]"
      ]
     },
     "execution_count": 12,
     "metadata": {
      "tags": []
     },
     "output_type": "execute_result"
    }
   ],
   "source": [
    "y"
   ]
  },
  {
   "cell_type": "code",
   "execution_count": null,
   "metadata": {
    "colab": {},
    "colab_type": "code",
    "id": "k61CHx_sWbBV"
   },
   "outputs": [],
   "source": []
  }
 ],
 "metadata": {
  "colab": {
   "collapsed_sections": [],
   "name": "SocketWorker Client.ipynb",
   "provenance": [],
   "version": "0.3.2"
  },
  "kernelspec": {
   "display_name": "Python 3",
   "language": "python",
   "name": "python3"
  },
  "language_info": {
   "codemirror_mode": {
    "name": "ipython",
    "version": 3
   },
   "file_extension": ".py",
   "mimetype": "text/x-python",
   "name": "python",
   "nbconvert_exporter": "python",
   "pygments_lexer": "ipython3",
   "version": "3.7.3"
  }
 },
 "nbformat": 4,
 "nbformat_minor": 4
}

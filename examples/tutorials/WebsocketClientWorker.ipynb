{
 "cells": [
  {
   "cell_type": "markdown",
   "metadata": {
    "colab_type": "text",
    "id": "BwHR1frLWbAp"
   },
   "source": [
    "# WebsocketClientWorker Tutorial\n",
    "\n",
    "This tutorial is a 2 notebook tutorial. The partner notebook is the notebook entitled `WebsocketServerWorker.ipynb` and is in the same folder as this notebook. You should execute this notebook AFTER you have executed the other one.\n",
    "\n",
    "In this tutorial, we'll demonstrate how to launch a SocketWorker server which will listen for PyTorch commands over a socket connection. In this tutorial, the two workers are connected via a socket connection on the localhost network.\n",
    "\n",
    "If you'd prefer to download this notebook and run it locally, you can do so via the `Download .ipynb` in the `File` dropdown field in this Google colab environment. "
   ]
  },
  {
   "cell_type": "markdown",
   "metadata": {
    "colab_type": "text",
    "id": "LkAOFaq3WdCn"
   },
   "source": [
    "\n",
    "# Step -1: Copy This Notebook\n",
    "\n",
    "Go up to File -> Save A Copy in Drive\n",
    "\n",
    "This will let you execute the notebook (it won't let you execute this one by default)\n",
    "\n",
    "# Step 0: Install Dependencies"
   ]
  },
  {
   "cell_type": "code",
   "execution_count": null,
   "metadata": {
    "colab": {
     "base_uri": "https://localhost:8080/",
     "height": 5154
    },
    "colab_type": "code",
    "id": "G58GV77oWgO-",
    "outputId": "b6080406-3e39-47b6-e39c-95709cd8d932"
   },
   "outputs": [],
   "source": [
    "! git clone https://github.com/OpenMined/PySyft.git\n",
    "! git checkout torch_031\n",
    "# http://pytorch.org/\n",
    "from os import path\n",
    "from wheel.pep425tags import get_abbr_impl, get_impl_ver, get_abi_tag\n",
    "platform = '{}{}-{}'.format(get_abbr_impl(), get_impl_ver(), get_abi_tag())\n",
    "\n",
    "accelerator = 'cu80' if path.exists('/opt/bin/nvidia-smi') else 'cpu'\n",
    "\n",
    "!pip install -q http://download.pytorch.org/whl/{accelerator}/torch-0.3.0.post4-{platform}-linux_x86_64.whl torchvision\n",
    "import torch\n",
    "\n",
    "!cd PySyft; pip install -r requirements.txt; python setup.py install\n",
    "\n",
    "import os\n",
    "import sys\n",
    "module_path = os.path.abspath(os.path.join('./PySyft'))\n",
    "if module_path not in sys.path:\n",
    "    sys.path.append(module_path)"
   ]
  },
  {
   "cell_type": "markdown",
   "metadata": {
    "colab_type": "text",
    "id": "qjuWR5W1WbAq"
   },
   "source": [
    "# Step 1: Hook Torch and Create Local Worker\n",
    "\n",
    "In this step, we hook PyTorch and initialize within the hook a client SocketWorker."
   ]
  },
  {
   "cell_type": "code",
   "execution_count": null,
   "metadata": {
    "colab": {
     "base_uri": "https://localhost:8080/",
     "height": 334
    },
    "colab_type": "code",
    "id": "3Uiboh5tWbAs",
    "outputId": "32f16cbc-d65f-44cc-c4e6-611f98ee516b"
   },
   "outputs": [],
   "source": [
    "import syft as sy\n",
    "from syft.workers.websocket_server import WebsocketServerWorker\n",
    "\n",
    "hook = sy.TorchHook(torch)\n",
    "\n",
    "local_worker = WebsocketServerWorker(\n",
    "                            host=\"localhost\",\n",
    "                            hook=hook,\n",
    "                            id=0,\n",
    "                            port=8182,\n",
    "                            log_msgs=True,\n",
    "                            verbose=True)\n",
    "\n",
    "local_worker.start()  # Might need to Interupt with `control-C`\n",
    "\n",
    "hook = sy.TorchHook(torch, local_worker=local_worker)"
   ]
  },
  {
   "cell_type": "markdown",
   "metadata": {
    "colab_type": "text",
    "id": "9xbDlCZEWbAz"
   },
   "source": [
    "# Step 2: Create Pointer to Remote Socket Worker\n",
    "\n",
    "In order to interact with a foreign worker over a socket connection, we need to create a pointer to it containing information on how to contact it. We set the is_pointer=True to signify that this Python object is not in fact a worker in and of itself but that it is merely a pointer to one over the network. We then inform our local worker about this pointer."
   ]
  },
  {
   "cell_type": "code",
   "execution_count": null,
   "metadata": {
    "colab": {
     "base_uri": "https://localhost:8080/",
     "height": 34
    },
    "colab_type": "code",
    "id": "pakbrhCuWbAz",
    "outputId": "ecab6f57-0eb0-4a06-ccb5-b581f4a65945"
   },
   "outputs": [],
   "source": [
    "from syft.workers.websocket_client import WebsocketClientWorker\n",
    "\n",
    "remote_client = WebsocketClientWorker(\n",
    "                            host=\"localhost\",\n",
    "                            hook=hook,\n",
    "                            id=2, \n",
    "                            port=8182)\n",
    "\n",
    "hook.local_worker.add_worker(remote_client)"
   ]
  },
  {
   "cell_type": "markdown",
   "metadata": {
    "colab_type": "text",
    "id": "yaap8ep0WbA3"
   },
   "source": [
    "# Step 3: Create Tensors & Send To The Worker"
   ]
  },
  {
   "cell_type": "code",
   "execution_count": null,
   "metadata": {
    "colab": {},
    "colab_type": "code",
    "id": "pQ9iQViMWbA5"
   },
   "outputs": [],
   "source": [
    "x = sy.FloatTensor([1,2,3,4,5]).send(remote_client)"
   ]
  },
  {
   "cell_type": "code",
   "execution_count": null,
   "metadata": {
    "colab": {},
    "colab_type": "code",
    "id": "Ao5OL3JsWbA7"
   },
   "outputs": [],
   "source": [
    "x2 = torch.FloatTensor([1,2,3,4,4]).send(remote_client)"
   ]
  },
  {
   "cell_type": "code",
   "execution_count": null,
   "metadata": {
    "colab": {
     "base_uri": "https://localhost:8080/",
     "height": 34
    },
    "colab_type": "code",
    "id": "zfVc5_h5WbA-",
    "outputId": "4a6cbff9-1129-4dfa-bb5f-5260b51a22f1"
   },
   "outputs": [],
   "source": [
    "x"
   ]
  },
  {
   "cell_type": "code",
   "execution_count": null,
   "metadata": {
    "colab": {
     "base_uri": "https://localhost:8080/",
     "height": 34
    },
    "colab_type": "code",
    "id": "uBUfHGk5WbBB",
    "outputId": "97d6dc33-4a95-4828-cf87-2bed16d09b8d"
   },
   "outputs": [],
   "source": [
    "x2"
   ]
  },
  {
   "cell_type": "markdown",
   "metadata": {
    "colab_type": "text",
    "id": "pFQoIbF9WbBF"
   },
   "source": [
    "# Step 4: Execute Operations Like Normal"
   ]
  },
  {
   "cell_type": "code",
   "execution_count": null,
   "metadata": {
    "colab": {},
    "colab_type": "code",
    "id": "i7xOloWOWbBG"
   },
   "outputs": [],
   "source": [
    "y = x + x2 + x"
   ]
  },
  {
   "cell_type": "markdown",
   "metadata": {
    "colab_type": "text",
    "id": "hv6Ci9EpWbBK"
   },
   "source": [
    "# Step 5: Get Results"
   ]
  },
  {
   "cell_type": "code",
   "execution_count": null,
   "metadata": {
    "colab": {
     "base_uri": "https://localhost:8080/",
     "height": 34
    },
    "colab_type": "code",
    "id": "JFXHDVvYWbBL",
    "outputId": "40a82592-f409-4f3a-9363-d02fa6d0bdb8"
   },
   "outputs": [],
   "source": [
    "y"
   ]
  },
  {
   "cell_type": "code",
   "execution_count": null,
   "metadata": {
    "colab": {
     "base_uri": "https://localhost:8080/",
     "height": 136
    },
    "colab_type": "code",
    "id": "AIZYgjn3WbBO",
    "outputId": "4e3a27e5-98d8-4760-cf97-1206a8cd52b3"
   },
   "outputs": [],
   "source": [
    "y.get()"
   ]
  },
  {
   "cell_type": "code",
   "execution_count": null,
   "metadata": {
    "colab": {
     "base_uri": "https://localhost:8080/",
     "height": 136
    },
    "colab_type": "code",
    "id": "VEBZFX53WbBR",
    "outputId": "25a12c43-16e0-4c52-ec06-3ed487634740"
   },
   "outputs": [],
   "source": [
    "y"
   ]
  },
  {
   "cell_type": "code",
   "execution_count": null,
   "metadata": {
    "colab": {},
    "colab_type": "code",
    "id": "k61CHx_sWbBV"
   },
   "outputs": [],
   "source": []
  }
 ],
 "metadata": {
  "colab": {
   "collapsed_sections": [],
   "name": "SocketWorker Client.ipynb",
   "provenance": [],
   "version": "0.3.2"
  },
  "kernelspec": {
   "display_name": "Python (pysyft)",
   "language": "python",
   "name": "pysyft"
  },
  "language_info": {
   "codemirror_mode": {
    "name": "ipython",
    "version": 3
   },
   "file_extension": ".py",
   "mimetype": "text/x-python",
   "name": "python",
   "nbconvert_exporter": "python",
   "pygments_lexer": "ipython3",
   "version": "3.7.3"
  }
 },
 "nbformat": 4,
 "nbformat_minor": 4
}

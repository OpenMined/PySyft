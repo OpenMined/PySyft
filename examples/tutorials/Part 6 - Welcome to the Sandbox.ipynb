{
 "cells": [
  {
   "cell_type": "markdown",
   "metadata": {},
   "source": [
    "# Part 6 - Welcome to the Sandbox\n",
    "\n",
    "In the last tutorials, we've been initializing our hook and all of our workers by hand every time. This can be a bit annoying when you're just playing around / learning about the interfaces. So, from here on out we'll be creating all these same variables using a special convenience function."
   ]
  },
  {
   "cell_type": "code",
   "execution_count": 1,
   "metadata": {},
   "outputs": [
    {
     "name": "stderr",
     "output_type": "stream",
     "text": [
      "/Users/atrask/anaconda/lib/python3.6/importlib/_bootstrap.py:205: RuntimeWarning: numpy.dtype size changed, may indicate binary incompatibility. Expected 96, got 88\n",
      "  return f(*args, **kwds)\n",
      "/Users/atrask/anaconda/lib/python3.6/importlib/_bootstrap.py:205: RuntimeWarning: numpy.dtype size changed, may indicate binary incompatibility. Expected 96, got 88\n",
      "  return f(*args, **kwds)\n",
      "/Users/atrask/anaconda/lib/python3.6/importlib/_bootstrap.py:205: RuntimeWarning: numpy.dtype size changed, may indicate binary incompatibility. Expected 96, got 88\n",
      "  return f(*args, **kwds)\n",
      "/Users/atrask/anaconda/lib/python3.6/importlib/_bootstrap.py:205: RuntimeWarning: numpy.dtype size changed, may indicate binary incompatibility. Expected 96, got 88\n",
      "  return f(*args, **kwds)\n"
     ]
    },
    {
     "name": "stdout",
     "output_type": "stream",
     "text": [
      "Setting up Sandbox...\n",
      "\t- Hooking PyTorch\n",
      "\t- Creating Virtual Workers:\n",
      "\t\t- bob\n",
      "\t\t- theo\n",
      "\t\t- jason\n",
      "\t\t- alice\n",
      "\t\t- andy\n",
      "\t\t- jon\n",
      "\tStoring hook and workers as global variables...\n",
      "\tLoading datasets from SciKit Learn...\n",
      "\t\t- Boston Housing Dataset\n",
      "\t\t- Diabetes Dataset\n",
      "\t\t- Breast Cancer Dataset\n",
      "\t- Digits Dataset\n",
      "\t\t- Iris Dataset\n",
      "\t\t- Wine Dataset\n",
      "\t\t- Linnerud Dataset\n",
      "\tDistributing Datasets Amongst Workers...\n",
      "\tCollecting workers into a VirtualGrid...\n",
      "Done!\n"
     ]
    }
   ],
   "source": [
    "import torch\n",
    "import syft as sy\n",
    "sy.create_sandbox(globals())"
   ]
  },
  {
   "cell_type": "markdown",
   "metadata": {},
   "source": [
    "### What does the sandbox give us?\n",
    "\n",
    "As you can see above, we created several virtual workers and loaded in lots of test dataset, distributing them around the various workers so that we can practice using privacy preserving techniques such as Federated Learning.\n",
    "\n",
    "We created six workers...."
   ]
  },
  {
   "cell_type": "code",
   "execution_count": 2,
   "metadata": {},
   "outputs": [
    {
     "data": {
      "text/plain": [
       "[<VirtualWorker id:bob #tensors:14>,\n",
       " <VirtualWorker id:theo #tensors:14>,\n",
       " <VirtualWorker id:jason #tensors:14>,\n",
       " <VirtualWorker id:alice #tensors:14>,\n",
       " <VirtualWorker id:andy #tensors:14>,\n",
       " <VirtualWorker id:jon #tensors:14>]"
      ]
     },
     "execution_count": 2,
     "metadata": {},
     "output_type": "execute_result"
    }
   ],
   "source": [
    "workers"
   ]
  },
  {
   "cell_type": "markdown",
   "metadata": {},
   "source": [
    "We also populated lots of global variables which we can use right away!"
   ]
  },
  {
   "cell_type": "code",
   "execution_count": 3,
   "metadata": {},
   "outputs": [
    {
     "data": {
      "text/plain": [
       "<syft.frameworks.torch.hook.TorchHook at 0x15278896d8>"
      ]
     },
     "execution_count": 3,
     "metadata": {},
     "output_type": "execute_result"
    }
   ],
   "source": [
    "hook"
   ]
  },
  {
   "cell_type": "code",
   "execution_count": 4,
   "metadata": {},
   "outputs": [
    {
     "data": {
      "text/plain": [
       "<VirtualWorker id:bob #tensors:14>"
      ]
     },
     "execution_count": 4,
     "metadata": {},
     "output_type": "execute_result"
    }
   ],
   "source": [
    "bob"
   ]
  },
  {
   "cell_type": "markdown",
   "metadata": {},
   "source": [
    "# Part 2: Worker Search Functionality\n",
    "\n",
    "One important aspect of doing remote data science is that we want the ability to search for datasets on a remote machine. Think of a research lab wanting to query hospitals for maybe \"radio\" datasets."
   ]
  },
  {
   "cell_type": "code",
   "execution_count": 5,
   "metadata": {},
   "outputs": [
    {
     "data": {
      "text/plain": [
       "tensor([1., 2., 3., 4., 5.])"
      ]
     },
     "execution_count": 5,
     "metadata": {},
     "output_type": "execute_result"
    }
   ],
   "source": [
    "torch.Tensor([1,2,3,4,5])"
   ]
  },
  {
   "cell_type": "code",
   "execution_count": 6,
   "metadata": {},
   "outputs": [],
   "source": [
    "x = torch.tensor([1,2,3,4,5]).tag(\"#fun\", \"#boston\", \"#housing\").describe(\"The input datapoints to the boston housing dataset.\")\n",
    "y = torch.tensor([1,2,3,4,5]).tag(\"#fun\", \"#boston\", \"#housing\").describe(\"The input datapoints to the boston housing dataset.\")\n",
    "z = torch.tensor([1,2,3,4,5]).tag(\"#fun\", \"#mnist\",).describe(\"The images in the MNIST training dataset.\")"
   ]
  },
  {
   "cell_type": "code",
   "execution_count": 7,
   "metadata": {},
   "outputs": [
    {
     "data": {
      "text/plain": [
       "tensor([1, 2, 3, 4, 5])\n",
       "\tTags: #boston #fun #housing \n",
       "\tDescription: The input datapoints to the boston housing dataset....\n",
       "\tShape: torch.Size([5])"
      ]
     },
     "execution_count": 7,
     "metadata": {},
     "output_type": "execute_result"
    }
   ],
   "source": [
    "x"
   ]
  },
  {
   "cell_type": "code",
   "execution_count": 8,
   "metadata": {},
   "outputs": [],
   "source": [
    "x = x.send(bob)\n",
    "y = y.send(bob)\n",
    "z = z.send(bob)\n",
    "\n",
    "# this searches for exact match within a tag or within the description\n",
    "results = bob.search(\"#boston\", \"#housing\")"
   ]
  },
  {
   "cell_type": "code",
   "execution_count": 9,
   "metadata": {},
   "outputs": [
    {
     "data": {
      "text/plain": [
       "[(Wrapper)>[PointerTensor | me:99190410199 -> bob:53314833072]\n",
       " \tTags: #boston_housing house #housing dataset #data #boston boston prices \n",
       " \tShape: torch.Size([84, 13])\n",
       " \tDescription: Boston House Prices dataset...,\n",
       " (Wrapper)>[PointerTensor | me:52264102064 -> bob:21580862210]\n",
       " \tTags: #boston_housing house #target #housing dataset #boston boston prices \n",
       " \tShape: torch.Size([84])\n",
       " \tDescription: Boston House Prices dataset...,\n",
       " (Wrapper)>[PointerTensor | me:47898386769 -> bob:84024149887]\n",
       " \tTags: #boston #fun #housing \n",
       " \tShape: torch.Size([5])\n",
       " \tDescription: The input datapoints to the boston housing dataset....,\n",
       " (Wrapper)>[PointerTensor | me:16631427826 -> bob:86539719493]\n",
       " \tTags: #boston #fun #housing \n",
       " \tShape: torch.Size([5])\n",
       " \tDescription: The input datapoints to the boston housing dataset....]"
      ]
     },
     "execution_count": 9,
     "metadata": {},
     "output_type": "execute_result"
    }
   ],
   "source": [
    "results"
   ]
  },
  {
   "cell_type": "code",
   "execution_count": 10,
   "metadata": {},
   "outputs": [
    {
     "name": "stdout",
     "output_type": "stream",
     "text": [
      "Boston House Prices dataset\n",
      "===========================\n",
      "\n",
      "Notes\n",
      "------\n",
      "Data Set Characteristics:  \n",
      "\n",
      "    :Number of Instances: 506 \n",
      "\n",
      "    :Number of Attributes: 13 numeric/categorical predictive\n",
      "    \n",
      "    :Median Value (attribute 14) is usually the target\n",
      "\n",
      "    :Attribute Information (in order):\n",
      "        - CRIM     per capita crime rate by town\n",
      "        - ZN       proportion of residential land zoned for lots over 25,000 sq.ft.\n",
      "        - INDUS    proportion of non-retail business acres per town\n",
      "        - CHAS     Charles River dummy variable (= 1 if tract bounds river; 0 otherwise)\n",
      "        - NOX      nitric oxides concentration (parts per 10 million)\n",
      "        - RM       average number of rooms per dwelling\n",
      "        - AGE      proportion of owner-occupied units built prior to 1940\n",
      "        - DIS      weighted distances to five Boston employment centres\n",
      "        - RAD      index of accessibility to radial highways\n",
      "        - TAX      full-value property-tax rate per $10,000\n",
      "        - PTRATIO  pupil-teacher ratio by town\n",
      "        - B        1000(Bk - 0.63)^2 where Bk is the proportion of blacks by town\n",
      "        - LSTAT    % lower status of the population\n",
      "        - MEDV     Median value of owner-occupied homes in $1000's\n",
      "\n",
      "    :Missing Attribute Values: None\n",
      "\n",
      "    :Creator: Harrison, D. and Rubinfeld, D.L.\n",
      "\n",
      "This is a copy of UCI ML housing dataset.\n",
      "http://archive.ics.uci.edu/ml/datasets/Housing\n",
      "\n",
      "\n",
      "This dataset was taken from the StatLib library which is maintained at Carnegie Mellon University.\n",
      "\n",
      "The Boston house-price data of Harrison, D. and Rubinfeld, D.L. 'Hedonic\n",
      "prices and the demand for clean air', J. Environ. Economics & Management,\n",
      "vol.5, 81-102, 1978.   Used in Belsley, Kuh & Welsch, 'Regression diagnostics\n",
      "...', Wiley, 1980.   N.B. Various transformations are used in the table on\n",
      "pages 244-261 of the latter.\n",
      "\n",
      "The Boston house-price data has been used in many machine learning papers that address regression\n",
      "problems.   \n",
      "     \n",
      "**References**\n",
      "\n",
      "   - Belsley, Kuh & Welsch, 'Regression diagnostics: Identifying Influential Data and Sources of Collinearity', Wiley, 1980. 244-261.\n",
      "   - Quinlan,R. (1993). Combining Instance-Based and Model-Based Learning. In Proceedings on the Tenth International Conference of Machine Learning, 236-243, University of Massachusetts, Amherst. Morgan Kaufmann.\n",
      "   - many more! (see http://archive.ics.uci.edu/ml/datasets/Housing)\n",
      "\n"
     ]
    }
   ],
   "source": [
    "print(results[0].description)"
   ]
  },
  {
   "cell_type": "markdown",
   "metadata": {},
   "source": [
    "# Part 3: Virtual Grid\n",
    "\n",
    "A Grid is simply a collection of workers which gives you some convenience functions for when you want to put together a dataset."
   ]
  },
  {
   "cell_type": "code",
   "execution_count": 11,
   "metadata": {},
   "outputs": [],
   "source": [
    "grid = sy.VirtualGrid(*workers)"
   ]
  },
  {
   "cell_type": "code",
   "execution_count": 12,
   "metadata": {},
   "outputs": [
    {
     "name": "stdout",
     "output_type": "stream",
     "text": [
      "Found 4 results on <VirtualWorker id:bob #tensors:17> - [('#housing', 4), ('#boston', 4), ('#boston_housing', 2)]\n",
      "Found 2 results on <VirtualWorker id:theo #tensors:14> - [('#boston_housing', 2), ('house', 2), ('#housing', 2)]\n",
      "Found 2 results on <VirtualWorker id:jason #tensors:14> - [('#boston_housing', 2), ('house', 2), ('#housing', 2)]\n",
      "Found 2 results on <VirtualWorker id:alice #tensors:14> - [('#boston_housing', 2), ('house', 2), ('#housing', 2)]\n",
      "Found 2 results on <VirtualWorker id:andy #tensors:14> - [('#boston_housing', 2), ('house', 2), ('#housing', 2)]\n",
      "Found 2 results on <VirtualWorker id:jon #tensors:14> - [('#boston_housing', 2), ('house', 2), ('#housing', 2)]\n",
      "\n",
      "Found 14 results in total.\n",
      "\n",
      "Tag Profile:\n",
      "\t#housing found 14\n",
      "\t#boston found 14\n",
      "\t#boston_housing found 12\n",
      "\thouse found 12\n",
      "\tdataset found 12\n",
      "\tboston found 12\n",
      "\tprices found 12\n",
      "\t#data found 6\n",
      "\t#target found 6\n",
      "\t#fun found 2\n"
     ]
    }
   ],
   "source": [
    "results, tag_ctr = grid.search(\"#boston\")"
   ]
  },
  {
   "cell_type": "code",
   "execution_count": 13,
   "metadata": {},
   "outputs": [
    {
     "name": "stdout",
     "output_type": "stream",
     "text": [
      "Found 1 results on <VirtualWorker id:bob #tensors:17> - [('#boston_housing', 1), ('house', 1), ('#housing', 1)]\n",
      "Found 1 results on <VirtualWorker id:theo #tensors:14> - [('#boston_housing', 1), ('house', 1), ('#housing', 1)]\n",
      "Found 1 results on <VirtualWorker id:jason #tensors:14> - [('#boston_housing', 1), ('house', 1), ('#housing', 1)]\n",
      "Found 1 results on <VirtualWorker id:alice #tensors:14> - [('#boston_housing', 1), ('house', 1), ('#housing', 1)]\n",
      "Found 1 results on <VirtualWorker id:andy #tensors:14> - [('#boston_housing', 1), ('house', 1), ('#housing', 1)]\n",
      "Found 1 results on <VirtualWorker id:jon #tensors:14> - [('#boston_housing', 1), ('house', 1), ('#housing', 1)]\n",
      "\n",
      "Found 6 results in total.\n",
      "\n",
      "Tag Profile:\n",
      "\t#boston_housing found 6\n",
      "\thouse found 6\n",
      "\t#housing found 6\n",
      "\tdataset found 6\n",
      "\t#data found 6\n",
      "\t#boston found 6\n",
      "\tboston found 6\n",
      "\tprices found 6\n"
     ]
    }
   ],
   "source": [
    "boston_data, _ = grid.search(\"#boston\",\"#data\")"
   ]
  },
  {
   "cell_type": "code",
   "execution_count": 14,
   "metadata": {},
   "outputs": [
    {
     "name": "stdout",
     "output_type": "stream",
     "text": [
      "Found 1 results on <VirtualWorker id:bob #tensors:17> - [('#boston_housing', 1), ('house', 1), ('#target', 1)]\n",
      "Found 1 results on <VirtualWorker id:theo #tensors:14> - [('#boston_housing', 1), ('house', 1), ('#target', 1)]\n",
      "Found 1 results on <VirtualWorker id:jason #tensors:14> - [('#boston_housing', 1), ('house', 1), ('#target', 1)]\n",
      "Found 1 results on <VirtualWorker id:alice #tensors:14> - [('#boston_housing', 1), ('house', 1), ('#target', 1)]\n",
      "Found 1 results on <VirtualWorker id:andy #tensors:14> - [('#boston_housing', 1), ('house', 1), ('#target', 1)]\n",
      "Found 1 results on <VirtualWorker id:jon #tensors:14> - [('#boston_housing', 1), ('house', 1), ('#target', 1)]\n",
      "\n",
      "Found 6 results in total.\n",
      "\n",
      "Tag Profile:\n",
      "\t#boston_housing found 6\n",
      "\thouse found 6\n",
      "\t#target found 6\n",
      "\t#housing found 6\n",
      "\tdataset found 6\n",
      "\t#boston found 6\n",
      "\tboston found 6\n",
      "\tprices found 6\n"
     ]
    }
   ],
   "source": [
    "boston_target, _ = grid.search(\"#boston\",\"#target\")"
   ]
  },
  {
   "cell_type": "code",
   "execution_count": null,
   "metadata": {},
   "outputs": [],
   "source": []
  },
  {
   "cell_type": "code",
   "execution_count": null,
   "metadata": {},
   "outputs": [],
   "source": []
  },
  {
   "cell_type": "code",
   "execution_count": null,
   "metadata": {},
   "outputs": [],
   "source": []
  }
 ],
 "metadata": {
  "kernelspec": {
   "display_name": "Python 3",
   "language": "python",
   "name": "python3"
  },
  "language_info": {
   "codemirror_mode": {
    "name": "ipython",
    "version": 3
   },
   "file_extension": ".py",
   "mimetype": "text/x-python",
   "name": "python",
   "nbconvert_exporter": "python",
   "pygments_lexer": "ipython3",
   "version": "3.6.1"
  }
 },
 "nbformat": 4,
 "nbformat_minor": 2
}

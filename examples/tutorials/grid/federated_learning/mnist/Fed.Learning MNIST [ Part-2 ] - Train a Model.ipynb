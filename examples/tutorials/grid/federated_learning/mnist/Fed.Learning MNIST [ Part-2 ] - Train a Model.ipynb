{
 "cells": [
  {
   "cell_type": "markdown",
   "metadata": {},
   "source": [
    "<h1>Perform Federated Learning at Grid Platform </h1>\n",
    "In this notebook, we will train a model using federated approach.\n",
    "\n",
    "**NOTE:** At the time of running this notebook, we were running the grid components in background mode.  \n",
    "\n",
    "**NOTE:**\n",
    "Components:\n",
    " - Grid Gateway(http://localhost:8080)\n",
    " - Grid Node Bob (http://localhost:3000)\n",
    " - Grid Node Alice (http://localhost:3001)\n",
    " - Grid Node Bill (http://localhost:3002)\n",
    "\n",
    "This notebook was made based on <a href=\"https://github.com/OpenMined/PySyft/blob/dev/examples/tutorials/Part%2010%20-%20Federated%20Learning%20with%20Secure%20Aggregation.ipynb\">Part 10: Federated Learning with Encrypted Gradient Aggregation</a> tutorial"
   ]
  },
  {
   "cell_type": "code",
   "execution_count": 3,
   "metadata": {},
   "outputs": [],
   "source": [
    "import syft as sy\n",
    "from syft.grid.public_grid import PublicGridNetwork\n",
    "import torch as th\n",
    "import torch.nn as nn\n",
    "import torch.optim as optim\n",
    "import torch.nn.functional as F"
   ]
  },
  {
   "cell_type": "code",
   "execution_count": 2,
   "metadata": {},
   "outputs": [],
   "source": [
    "hook = sy.TorchHook(th)\n",
    "class Net(nn.Module):\n",
    "    def __init__(self):\n",
    "        super(Net, self).__init__()\n",
    "        self.conv1 = nn.Conv2d(1, 20, 5, 1)\n",
    "        self.conv2 = nn.Conv2d(20, 50, 5, 1)\n",
    "        self.fc1 = nn.Linear(4*4*50, 500)\n",
    "        self.fc2 = nn.Linear(500, 10)\n",
    "\n",
    "    def forward(self, x):\n",
    "        x = F.relu(self.conv1(x))\n",
    "        x = F.max_pool2d(x, 2, 2)\n",
    "        x = F.relu(self.conv2(x))\n",
    "        x = F.max_pool2d(x, 2, 2)\n",
    "        x = x.view(-1, 4*4*50)\n",
    "        x = F.relu(self.fc1(x))\n",
    "        x = self.fc2(x)\n",
    "        return F.log_softmax(x, dim=1)\n",
    "\n",
    "\n",
    "device = th.device(\"cuda:0\" if th.cuda.is_available() else \"cpu\")\n",
    "\n",
    "if(th.cuda.is_available()):\n",
    "    th.set_default_tensor_type(th.cuda.FloatTensor)\n",
    "    \n",
    "model = Net()\n",
    "model.to(device)\n",
    "optimizer = optim.SGD(model.parameters(), lr=0.01)\n",
    "criterion = nn.CrossEntropyLoss()"
   ]
  },
  {
   "cell_type": "code",
   "execution_count": 6,
   "metadata": {},
   "outputs": [],
   "source": [
    "GRID_ADDRESS = 'localhost'\n",
    "GRID_PORT = '5000'\n",
    "\n",
    "my_grid = PublicGridNetwork(hook,\"http://\" + GRID_ADDRESS + \":\" + GRID_PORT)"
   ]
  },
  {
   "cell_type": "code",
   "execution_count": 7,
   "metadata": {},
   "outputs": [],
   "source": [
    "data = my_grid.search(\"#X\", \"#mnist\", \"#dataset\")\n",
    "target = my_grid.search(\"#Y\", \"#mnist\", \"#dataset\")"
   ]
  },
  {
   "cell_type": "code",
   "execution_count": 8,
   "metadata": {},
   "outputs": [
    {
     "data": {
      "text/plain": [
       "{'Bob': [(Wrapper)>[PointerTensor | me:69774305752 -> Bob:84790492900]\n",
       "  \tTags: #mnist #X #dataset \n",
       "  \tShape: torch.Size([5000, 1, 28, 28])\n",
       "  \tDescription: The input datapoints to the MNIST dataset....],\n",
       " 'Alice': [(Wrapper)>[PointerTensor | me:26812650417 -> Alice:53510693506]\n",
       "  \tTags: #mnist #X #dataset \n",
       "  \tShape: torch.Size([5000, 1, 28, 28])\n",
       "  \tDescription: The input datapoints to the MNIST dataset....]}"
      ]
     },
     "execution_count": 8,
     "metadata": {},
     "output_type": "execute_result"
    }
   ],
   "source": [
    "data"
   ]
  },
  {
   "cell_type": "code",
   "execution_count": 9,
   "metadata": {},
   "outputs": [
    {
     "data": {
      "text/plain": [
       "{'Bob': [(Wrapper)>[PointerTensor | me:85263268143 -> Bob:96713703699]\n",
       "  \tTags: #mnist #Y #dataset \n",
       "  \tShape: torch.Size([5000])\n",
       "  \tDescription: The input labels to the MNIST dataset....],\n",
       " 'Alice': [(Wrapper)>[PointerTensor | me:78099185844 -> Alice:47171429524]\n",
       "  \tTags: #mnist #Y #dataset \n",
       "  \tShape: torch.Size([5000])\n",
       "  \tDescription: The input labels to the MNIST dataset....]}"
      ]
     },
     "execution_count": 9,
     "metadata": {},
     "output_type": "execute_result"
    }
   ],
   "source": [
    "target"
   ]
  },
  {
   "cell_type": "code",
   "execution_count": 11,
   "metadata": {},
   "outputs": [],
   "source": [
    "data = list(data.values())\n",
    "target = list(target.values())"
   ]
  },
  {
   "cell_type": "code",
   "execution_count": 12,
   "metadata": {},
   "outputs": [],
   "source": [
    "def epoch_total_size(data):\n",
    "    total = 0\n",
    "    for i in range(len(data)):\n",
    "        for j in range(len(data[i])):\n",
    "            total += data[i][j].shape[0]\n",
    "            \n",
    "    return total"
   ]
  },
  {
   "cell_type": "code",
   "execution_count": 14,
   "metadata": {},
   "outputs": [
    {
     "name": "stdout",
     "output_type": "stream",
     "text": [
      "Train Epoch: 0 | With Bob data |: [5000/10000 (50%)]\tLoss: 2.283551\n",
      "Train Epoch: 0 | With Alice data |: [10000/10000 (100%)]\tLoss: 2.279320\n",
      "Train Epoch: 1 | With Bob data |: [5000/10000 (50%)]\tLoss: 2.274262\n"
     ]
    },
    {
     "name": "stderr",
     "output_type": "stream",
     "text": [
      "Websocket connection closed (worker: Alice)\n",
      "Created new websocket connection\n"
     ]
    },
    {
     "name": "stdout",
     "output_type": "stream",
     "text": [
      "Train Epoch: 1 | With Alice data |: [10000/10000 (100%)]\tLoss: 2.270052\n",
      "Train Epoch: 2 | With Bob data |: [5000/10000 (50%)]\tLoss: 2.265139\n",
      "Train Epoch: 2 | With Alice data |: [10000/10000 (100%)]\tLoss: 2.260950\n"
     ]
    }
   ],
   "source": [
    "N_EPOCS = 3\n",
    "SAVE_MODEL = True\n",
    "SAVE_MODEL_PATH = './models'\n",
    "\n",
    "def train(epoch):\n",
    "    model.train()\n",
    "    epoch_total = epoch_total_size(data)\n",
    "    current_epoch_size = 0\n",
    "    for i in range(len(data)):\n",
    "        for j in range(len(data[i])):\n",
    "            current_epoch_size += len(data[i][j])\n",
    "            worker = data[i][j].location\n",
    "            model.send(worker)\n",
    "            optimizer.zero_grad()\n",
    "            pred = model(data[i][j])\n",
    "            loss = criterion(pred, target[i][j])\n",
    "            loss.backward()\n",
    "            optimizer.step()\n",
    "            model.get()\n",
    "            loss = loss.get()\n",
    "            print('Train Epoch: {} | With {} data |: [{}/{} ({:.0f}%)]\\tLoss: {:.6f}'.format(\n",
    "                      epoch, worker.id, current_epoch_size, epoch_total,\n",
    "                            100. *  current_epoch_size / epoch_total, loss.item()))\n",
    "                    \n",
    "for epoch in range(N_EPOCS):\n",
    "    train(epoch)"
   ]
  }
 ],
 "metadata": {
  "kernelspec": {
   "display_name": "Python 3",
   "language": "python",
   "name": "python3"
  },
  "language_info": {
   "codemirror_mode": {
    "name": "ipython",
    "version": 3
   },
   "file_extension": ".py",
   "mimetype": "text/x-python",
   "name": "python",
   "nbconvert_exporter": "python",
   "pygments_lexer": "ipython3",
   "version": "3.7.3"
  }
 },
 "nbformat": 4,
 "nbformat_minor": 2
}

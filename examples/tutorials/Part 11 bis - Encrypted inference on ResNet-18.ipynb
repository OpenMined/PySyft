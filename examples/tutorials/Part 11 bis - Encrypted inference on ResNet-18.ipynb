{
 "cells": [
  {
   "cell_type": "markdown",
   "metadata": {},
   "source": [
    "# Encrypted Inference on ResNet-18\n",
    "\n",
    "_Encrypted Machine Learning as a Service_ allows owners of sensitive data to use external AI services to get insights over their data. Let's consider a practical scenario where a data owner holds private images and would like to use a service to have those images labeled, without disclosing the images or the labels, and without having to get access the model, which is often considered to be a business asset by such services and is therefore not accessible.\n",
    "\n",
    "To get a realistic example, we will consider [the task of distinguishing between bees and ants](https://pytorch.org/tutorials/beginner/transfer_learning_tutorial.html), which uses a ResNet-18 model to achieve around 95% accuracy. We won't consider training such model, as we assume the AI service provider has already done this training using some data. Instead, we will showcase how we can use PySyft to encrypt both the model and some image samples and to label those images in a fully private way.\n",
    "\n",
    "Author:\n",
    "- Théo Ryffel - Twitter: [@theoryffel](https://twitter.com/theoryffel) · GitHub: [@LaRiffle](https://github.com/LaRiffle)"
   ]
  },
  {
   "cell_type": "markdown",
   "metadata": {},
   "source": [
    "## 1. Did you just say _encrypted_?\n",
    "\n",
    "First, let's try to understand what mechanisms we use to make the data and the model private. If you want to jump straight to the code, you can skip this section! "
   ]
  },
  {
   "cell_type": "markdown",
   "metadata": {},
   "source": [
    "## 2. Show me the code\n",
    "\n",
    "Enough explications, let's open the code!\n",
    "We will first load the data and the model and store them on the `data_owner` and the `model_owner`."
   ]
  },
  {
   "cell_type": "code",
   "execution_count": 1,
   "metadata": {},
   "outputs": [],
   "source": [
    "import torch\n",
    "torch.set_num_threads(1)\n",
    "import torch.nn as nn\n",
    "import numpy as np\n",
    "import torchvision\n",
    "from torchvision import datasets, models, transforms\n",
    "import time"
   ]
  },
  {
   "cell_type": "markdown",
   "metadata": {},
   "source": [
    "### Load the data\n",
    "\n",
    "We download the data and load it on a dataLoader with small batches of size 2, to reduce the inference time and the memory pressure on the RAM."
   ]
  },
  {
   "cell_type": "code",
   "execution_count": 2,
   "metadata": {},
   "outputs": [],
   "source": [
    "#!wget https://download.pytorch.org/tutorial/hymenoptera_data.zip\n",
    "#!unzip hymenoptera_data.zip"
   ]
  },
  {
   "cell_type": "code",
   "execution_count": 3,
   "metadata": {},
   "outputs": [],
   "source": [
    "data_transform = transforms.Compose([\n",
    "    transforms.Resize(256),\n",
    "    transforms.CenterCrop(224),\n",
    "    transforms.ToTensor(),\n",
    "    transforms.Normalize([0.485, 0.456, 0.406], [0.229, 0.224, 0.225])\n",
    "])\n",
    "\n",
    "data_dir = 'hymenoptera_data'\n",
    "image_dataset = datasets.ImageFolder('hymenoptera_data/val', data_transform)\n",
    "dataloader = torch.utils.data.DataLoader(image_dataset, batch_size=1, shuffle=True, num_workers=4)\n",
    "\n",
    "dataset_size = len(image_dataset)\n",
    "class_names = image_dataset.classes"
   ]
  },
  {
   "cell_type": "markdown",
   "metadata": {},
   "source": [
    "Wan't to have a look at your data? Check the samples on [this tutorial](https://pytorch.org/tutorials/beginner/transfer_learning_tutorial.html)."
   ]
  },
  {
   "cell_type": "markdown",
   "metadata": {},
   "source": [
    "### Load the model\n",
    "\n",
    "Now let's download the trained model"
   ]
  },
  {
   "cell_type": "code",
   "execution_count": 4,
   "metadata": {},
   "outputs": [],
   "source": [
    "#!wget --no-check-certificate 'https://docs.google.com/uc?export=download&id=1-1_M81rMYoB1A8_nKXr0BBOwSIKXPp2v' -O lol.pt"
   ]
  },
  {
   "cell_type": "markdown",
   "metadata": {},
   "source": [
    "_You can also download the file_ [here](https://drive.google.com/file/d/1-1_M81rMYoB1A8_nKXr0BBOwSIKXPp2v/view?usp=sharing) _if the command above is not working._"
   ]
  },
  {
   "cell_type": "code",
   "execution_count": 5,
   "metadata": {},
   "outputs": [],
   "source": [
    "model = models.resnet18(pretrained=True)\n",
    "# Here the size of each output sample is set to 2.\n",
    "model.fc = nn.Linear(model.fc.in_features, 2)\n",
    "state = torch.load(\"./resnet18_ants_bees.pt\", map_location='cpu')\n",
    "model.load_state_dict(state)\n",
    "model.eval()\n",
    "# This is a small trick because these two consecuting operations can be switch without\n",
    "# changing the result but it reduces the number of comparisons we have to compute\n",
    "model.maxpool, model.relu = model.relu, model.maxpool"
   ]
  },
  {
   "cell_type": "markdown",
   "metadata": {},
   "source": [
    "Great, now we're ready to start!\n",
    "\n",
    "### Virtual Setup\n",
    "\n",
    "First let's create a virtual setup with 2 workers names `data_owner` and `model_owner`."
   ]
  },
  {
   "cell_type": "code",
   "execution_count": 6,
   "metadata": {},
   "outputs": [],
   "source": [
    "#import syft as sy\n",
    "\n",
    "#hook = sy.TorchHook(torch) \n",
    "#data_owner = sy.VirtualWorker(hook, id=\"data_owner\")\n",
    "#model_owner = sy.VirtualWorker(hook, id=\"model_owner\")\n",
    "#crypto_provider = sy.VirtualWorker(hook, id=\"crypto_provider\")\n",
    "\n",
    "import syft as sy\n",
    "from syft.grid.clients.data_centric_fl_client import DataCentricFLClient\n",
    "\n",
    "hook = sy.TorchHook(torch)\n",
    "data_owner = DataCentricFLClient(hook, \"ws://localhost:7600\")\n",
    "model_owner = DataCentricFLClient(hook, \"ws://localhost:7601\")\n",
    "crypto_provider = DataCentricFLClient(hook, \"ws://localhost:7602\")\n",
    "\n",
    "my_grid = sy.PrivateGridNetwork(data_owner, model_owner, crypto_provider)"
   ]
  },
  {
   "cell_type": "code",
   "execution_count": 7,
   "metadata": {},
   "outputs": [],
   "source": [
    "# Remove compression to have faster communication\n",
    "from syft.serde.compression import NO_COMPRESSION\n",
    "sy.serde.compression.default_compress_scheme = NO_COMPRESSION"
   ]
  },
  {
   "cell_type": "markdown",
   "metadata": {},
   "source": [
    "Let's put some data on the `data_owner` and the model on the `model_owner`"
   ]
  },
  {
   "cell_type": "code",
   "execution_count": 8,
   "metadata": {},
   "outputs": [],
   "source": [
    "data, true_labels = next(iter(dataloader))\n",
    "data_ptr = data.send(data_owner)\n",
    "\n",
    "# We store the true output of the model for comparison purpose\n",
    "true_prediction = model(data)\n",
    "model_ptr = model.send(model_owner)"
   ]
  },
  {
   "cell_type": "markdown",
   "metadata": {},
   "source": [
    "As usual, when calling `.send()`, we only have access to pointers to the data"
   ]
  },
  {
   "cell_type": "code",
   "execution_count": 9,
   "metadata": {},
   "outputs": [
    {
     "name": "stdout",
     "output_type": "stream",
     "text": [
      "(Wrapper)>[PointerTensor | me:68450300422 -> data_owner:72958304771]\n"
     ]
    }
   ],
   "source": [
    "print(data_ptr)"
   ]
  },
  {
   "cell_type": "markdown",
   "metadata": {},
   "source": [
    "### Encryption time!\n",
    "\n",
    "We will now encrypt both the model and the data. To do this, we encrypt them remotely using the pointers and get back the encrypted objects. "
   ]
  },
  {
   "cell_type": "code",
   "execution_count": 10,
   "metadata": {},
   "outputs": [],
   "source": [
    "encryption_kwargs = dict(\n",
    "    workers=(data_owner, model_owner),\n",
    "    crypto_provider=crypto_provider,\n",
    "    protocol=\"fss\",\n",
    "    precision_fractional=4,\n",
    ")"
   ]
  },
  {
   "cell_type": "code",
   "execution_count": 11,
   "metadata": {},
   "outputs": [
    {
     "ename": "TypeError",
     "evalue": "can not serialize 'DataCentricFLClient' object",
     "output_type": "error",
     "traceback": [
      "\u001b[0;31m---------------------------------------------------------------------------\u001b[0m",
      "\u001b[0;31mTypeError\u001b[0m                                 Traceback (most recent call last)",
      "\u001b[0;32m<ipython-input-11-30911aa9b39a>\u001b[0m in \u001b[0;36m<module>\u001b[0;34m\u001b[0m\n\u001b[0;32m----> 1\u001b[0;31m \u001b[0mencrypted_data\u001b[0m \u001b[0;34m=\u001b[0m \u001b[0mdata_ptr\u001b[0m\u001b[0;34m.\u001b[0m\u001b[0mencrypt\u001b[0m\u001b[0;34m(\u001b[0m\u001b[0;34m**\u001b[0m\u001b[0mencryption_kwargs\u001b[0m\u001b[0;34m)\u001b[0m\u001b[0;34m.\u001b[0m\u001b[0mget\u001b[0m\u001b[0;34m(\u001b[0m\u001b[0;34m)\u001b[0m\u001b[0;34m\u001b[0m\u001b[0m\n\u001b[0m\u001b[1;32m      2\u001b[0m \u001b[0mencrypted_model\u001b[0m \u001b[0;34m=\u001b[0m \u001b[0mmodel_ptr\u001b[0m\u001b[0;34m.\u001b[0m\u001b[0mencrypt\u001b[0m\u001b[0;34m(\u001b[0m\u001b[0;34m**\u001b[0m\u001b[0mencryption_kwargs\u001b[0m\u001b[0;34m)\u001b[0m\u001b[0;34m.\u001b[0m\u001b[0mget\u001b[0m\u001b[0;34m(\u001b[0m\u001b[0;34m)\u001b[0m\u001b[0;34m\u001b[0m\u001b[0m\n",
      "\u001b[0;32m~/code/PySyft/syft/frameworks/torch/tensors/interpreters/native.py\u001b[0m in \u001b[0;36mencrypt\u001b[0;34m(self, protocol, inplace, **kwargs)\u001b[0m\n\u001b[1;32m   1052\u001b[0m \u001b[0;34m\u001b[0m\u001b[0m\n\u001b[1;32m   1053\u001b[0m             \u001b[0;32mif\u001b[0m \u001b[0;32mnot\u001b[0m \u001b[0minplace\u001b[0m\u001b[0;34m:\u001b[0m\u001b[0;34m\u001b[0m\u001b[0m\n\u001b[0;32m-> 1054\u001b[0;31m                 \u001b[0mx_shared\u001b[0m \u001b[0;34m=\u001b[0m \u001b[0mself\u001b[0m\u001b[0;34m.\u001b[0m\u001b[0mfix_prec\u001b[0m\u001b[0;34m(\u001b[0m\u001b[0;34m**\u001b[0m\u001b[0mkwargs_fix_prec\u001b[0m\u001b[0;34m)\u001b[0m\u001b[0;34m.\u001b[0m\u001b[0mshare\u001b[0m\u001b[0;34m(\u001b[0m\u001b[0;34m*\u001b[0m\u001b[0mworkers\u001b[0m\u001b[0;34m,\u001b[0m \u001b[0;34m**\u001b[0m\u001b[0mkwargs_share\u001b[0m\u001b[0;34m)\u001b[0m\u001b[0;34m\u001b[0m\u001b[0m\n\u001b[0m\u001b[1;32m   1055\u001b[0m                 \u001b[0;32mreturn\u001b[0m \u001b[0mx_shared\u001b[0m\u001b[0;34m\u001b[0m\u001b[0m\n\u001b[1;32m   1056\u001b[0m             \u001b[0;32melse\u001b[0m\u001b[0;34m:\u001b[0m\u001b[0;34m\u001b[0m\u001b[0m\n",
      "\u001b[0;32m~/code/PySyft/syft/frameworks/torch/tensors/interpreters/native.py\u001b[0m in \u001b[0;36mshare\u001b[0;34m(self, protocol, field, dtype, crypto_provider, requires_grad, no_wrap, *owners)\u001b[0m\n\u001b[1;32m    924\u001b[0m                 \u001b[0mdtype\u001b[0m\u001b[0;34m=\u001b[0m\u001b[0mdtype\u001b[0m\u001b[0;34m,\u001b[0m\u001b[0;34m\u001b[0m\u001b[0m\n\u001b[1;32m    925\u001b[0m                 \u001b[0mcrypto_provider\u001b[0m\u001b[0;34m=\u001b[0m\u001b[0mcrypto_provider\u001b[0m\u001b[0;34m,\u001b[0m\u001b[0;34m\u001b[0m\u001b[0m\n\u001b[0;32m--> 926\u001b[0;31m                 \u001b[0;34m**\u001b[0m\u001b[0mkwargs_\u001b[0m\u001b[0;34m,\u001b[0m\u001b[0;34m\u001b[0m\u001b[0m\n\u001b[0m\u001b[1;32m    927\u001b[0m             )\n\u001b[1;32m    928\u001b[0m         \u001b[0;32melse\u001b[0m\u001b[0;34m:\u001b[0m\u001b[0;34m\u001b[0m\u001b[0m\n",
      "\u001b[0;32m~/code/PySyft/syft/generic/pointers/pointer_tensor.py\u001b[0m in \u001b[0;36mshare\u001b[0;34m(self, *args, **kwargs)\u001b[0m\n\u001b[1;32m    382\u001b[0m             \u001b[0;32mraise\u001b[0m \u001b[0mRuntimeError\u001b[0m\u001b[0;34m(\u001b[0m\u001b[0;34m\"Error, share must have > 1 arguments all of type syft.workers\"\u001b[0m\u001b[0;34m)\u001b[0m\u001b[0;34m\u001b[0m\u001b[0m\n\u001b[1;32m    383\u001b[0m \u001b[0;34m\u001b[0m\u001b[0m\n\u001b[0;32m--> 384\u001b[0;31m         \u001b[0mresponse\u001b[0m \u001b[0;34m=\u001b[0m \u001b[0mself\u001b[0m\u001b[0;34m.\u001b[0m\u001b[0mowner\u001b[0m\u001b[0;34m.\u001b[0m\u001b[0msend_command\u001b[0m\u001b[0;34m(\u001b[0m\u001b[0mself\u001b[0m\u001b[0;34m.\u001b[0m\u001b[0mlocation\u001b[0m\u001b[0;34m,\u001b[0m \u001b[0;34m\"share\"\u001b[0m\u001b[0;34m,\u001b[0m \u001b[0mself\u001b[0m\u001b[0;34m,\u001b[0m \u001b[0margs\u001b[0m\u001b[0;34m,\u001b[0m \u001b[0mkwargs\u001b[0m\u001b[0;34m)\u001b[0m\u001b[0;34m\u001b[0m\u001b[0m\n\u001b[0m\u001b[1;32m    385\u001b[0m         \u001b[0;32mreturn\u001b[0m \u001b[0mresponse\u001b[0m\u001b[0;34m\u001b[0m\u001b[0m\n\u001b[1;32m    386\u001b[0m \u001b[0;34m\u001b[0m\u001b[0m\n",
      "\u001b[0;32m~/code/PySyft/syft/workers/base.py\u001b[0m in \u001b[0;36msend_command\u001b[0;34m(self, recipient, cmd_name, target, args_, kwargs_, return_ids, return_value)\u001b[0m\n\u001b[1;32m    525\u001b[0m                 \u001b[0mcmd_name\u001b[0m\u001b[0;34m,\u001b[0m \u001b[0mtarget\u001b[0m\u001b[0;34m,\u001b[0m \u001b[0margs_\u001b[0m\u001b[0;34m,\u001b[0m \u001b[0mkwargs_\u001b[0m\u001b[0;34m,\u001b[0m \u001b[0mreturn_ids\u001b[0m\u001b[0;34m,\u001b[0m \u001b[0mreturn_value\u001b[0m\u001b[0;34m\u001b[0m\u001b[0m\n\u001b[1;32m    526\u001b[0m             )\n\u001b[0;32m--> 527\u001b[0;31m             \u001b[0mret_val\u001b[0m \u001b[0;34m=\u001b[0m \u001b[0mself\u001b[0m\u001b[0;34m.\u001b[0m\u001b[0msend_msg\u001b[0m\u001b[0;34m(\u001b[0m\u001b[0mmessage\u001b[0m\u001b[0;34m,\u001b[0m \u001b[0mlocation\u001b[0m\u001b[0;34m=\u001b[0m\u001b[0mrecipient\u001b[0m\u001b[0;34m)\u001b[0m\u001b[0;34m\u001b[0m\u001b[0m\n\u001b[0m\u001b[1;32m    528\u001b[0m         \u001b[0;32mexcept\u001b[0m \u001b[0mResponseSignatureError\u001b[0m \u001b[0;32mas\u001b[0m \u001b[0me\u001b[0m\u001b[0;34m:\u001b[0m\u001b[0;34m\u001b[0m\u001b[0m\n\u001b[1;32m    529\u001b[0m             \u001b[0mret_val\u001b[0m \u001b[0;34m=\u001b[0m \u001b[0;32mNone\u001b[0m\u001b[0;34m\u001b[0m\u001b[0m\n",
      "\u001b[0;32m~/code/PySyft/syft/workers/base.py\u001b[0m in \u001b[0;36msend_msg\u001b[0;34m(self, message, location)\u001b[0m\n\u001b[1;32m    313\u001b[0m \u001b[0;34m\u001b[0m\u001b[0m\n\u001b[1;32m    314\u001b[0m         \u001b[0;31m# Step 1: serialize the message to a binary\u001b[0m\u001b[0;34m\u001b[0m\u001b[0;34m\u001b[0m\u001b[0m\n\u001b[0;32m--> 315\u001b[0;31m         \u001b[0mbin_message\u001b[0m \u001b[0;34m=\u001b[0m \u001b[0msy\u001b[0m\u001b[0;34m.\u001b[0m\u001b[0mserde\u001b[0m\u001b[0;34m.\u001b[0m\u001b[0mserialize\u001b[0m\u001b[0;34m(\u001b[0m\u001b[0mmessage\u001b[0m\u001b[0;34m,\u001b[0m \u001b[0mworker\u001b[0m\u001b[0;34m=\u001b[0m\u001b[0mself\u001b[0m\u001b[0;34m)\u001b[0m\u001b[0;34m\u001b[0m\u001b[0m\n\u001b[0m\u001b[1;32m    316\u001b[0m \u001b[0;34m\u001b[0m\u001b[0m\n\u001b[1;32m    317\u001b[0m         \u001b[0;31m# Step 2: send the message and wait for a response\u001b[0m\u001b[0;34m\u001b[0m\u001b[0;34m\u001b[0m\u001b[0m\n",
      "\u001b[0;32m~/code/PySyft/syft/serde/serde.py\u001b[0m in \u001b[0;36mserialize\u001b[0;34m(obj, worker, simplified, force_full_simplification, strategy)\u001b[0m\n\u001b[1;32m     45\u001b[0m         \u001b[0mstrategy\u001b[0m \u001b[0;34m=\u001b[0m \u001b[0mmsgpack_serialize\u001b[0m\u001b[0;34m\u001b[0m\u001b[0m\n\u001b[1;32m     46\u001b[0m \u001b[0;34m\u001b[0m\u001b[0m\n\u001b[0;32m---> 47\u001b[0;31m     \u001b[0;32mreturn\u001b[0m \u001b[0mstrategy\u001b[0m\u001b[0;34m(\u001b[0m\u001b[0mobj\u001b[0m\u001b[0;34m,\u001b[0m \u001b[0mworker\u001b[0m\u001b[0;34m,\u001b[0m \u001b[0msimplified\u001b[0m\u001b[0;34m,\u001b[0m \u001b[0mforce_full_simplification\u001b[0m\u001b[0;34m)\u001b[0m\u001b[0;34m\u001b[0m\u001b[0m\n\u001b[0m\u001b[1;32m     48\u001b[0m \u001b[0;34m\u001b[0m\u001b[0m\n\u001b[1;32m     49\u001b[0m \u001b[0;34m\u001b[0m\u001b[0m\n",
      "\u001b[0;32m~/code/PySyft/syft/serde/msgpack/serde.py\u001b[0m in \u001b[0;36mserialize\u001b[0;34m(obj, worker, simplified, force_full_simplification)\u001b[0m\n\u001b[1;32m    340\u001b[0m \u001b[0;34m\u001b[0m\u001b[0m\n\u001b[1;32m    341\u001b[0m     \u001b[0msimple_objects\u001b[0m \u001b[0;34m=\u001b[0m \u001b[0m_serialize_msgpack_simple\u001b[0m\u001b[0;34m(\u001b[0m\u001b[0mobj\u001b[0m\u001b[0;34m,\u001b[0m \u001b[0mworker\u001b[0m\u001b[0;34m,\u001b[0m \u001b[0msimplified\u001b[0m\u001b[0;34m,\u001b[0m \u001b[0mforce_full_simplification\u001b[0m\u001b[0;34m)\u001b[0m\u001b[0;34m\u001b[0m\u001b[0m\n\u001b[0;32m--> 342\u001b[0;31m     \u001b[0;32mreturn\u001b[0m \u001b[0m_serialize_msgpack_binary\u001b[0m\u001b[0;34m(\u001b[0m\u001b[0msimple_objects\u001b[0m\u001b[0;34m)\u001b[0m\u001b[0;34m\u001b[0m\u001b[0m\n\u001b[0m\u001b[1;32m    343\u001b[0m \u001b[0;34m\u001b[0m\u001b[0m\n\u001b[1;32m    344\u001b[0m \u001b[0;34m\u001b[0m\u001b[0m\n",
      "\u001b[0;32m~/code/PySyft/syft/serde/msgpack/serde.py\u001b[0m in \u001b[0;36m_serialize_msgpack_binary\u001b[0;34m(simple_objects, worker, simplified, force_full_simplification)\u001b[0m\n\u001b[1;32m    294\u001b[0m     \u001b[0;31m# 2) Serialize\u001b[0m\u001b[0;34m\u001b[0m\u001b[0;34m\u001b[0m\u001b[0m\n\u001b[1;32m    295\u001b[0m     \u001b[0;31m# serialize into a binary\u001b[0m\u001b[0;34m\u001b[0m\u001b[0;34m\u001b[0m\u001b[0m\n\u001b[0;32m--> 296\u001b[0;31m     \u001b[0mbinary\u001b[0m \u001b[0;34m=\u001b[0m \u001b[0mmsgpack_lib\u001b[0m\u001b[0;34m.\u001b[0m\u001b[0mdumps\u001b[0m\u001b[0;34m(\u001b[0m\u001b[0msimple_objects\u001b[0m\u001b[0;34m)\u001b[0m\u001b[0;34m\u001b[0m\u001b[0m\n\u001b[0m\u001b[1;32m    297\u001b[0m \u001b[0;34m\u001b[0m\u001b[0m\n\u001b[1;32m    298\u001b[0m     \u001b[0;31m# 3) Compress\u001b[0m\u001b[0;34m\u001b[0m\u001b[0;34m\u001b[0m\u001b[0m\n",
      "\u001b[0;32m~/code/env/pysyft/lib/python3.7/site-packages/msgpack/__init__.py\u001b[0m in \u001b[0;36mpackb\u001b[0;34m(o, **kwargs)\u001b[0m\n\u001b[1;32m     33\u001b[0m     \u001b[0mSee\u001b[0m \u001b[0;34m:\u001b[0m\u001b[0;32mclass\u001b[0m\u001b[0;34m:\u001b[0m\u001b[0;31m`\u001b[0m\u001b[0mPacker\u001b[0m\u001b[0;31m`\u001b[0m \u001b[0;32mfor\u001b[0m \u001b[0moptions\u001b[0m\u001b[0;34m.\u001b[0m\u001b[0;34m\u001b[0m\u001b[0m\n\u001b[1;32m     34\u001b[0m     \"\"\"\n\u001b[0;32m---> 35\u001b[0;31m     \u001b[0;32mreturn\u001b[0m \u001b[0mPacker\u001b[0m\u001b[0;34m(\u001b[0m\u001b[0;34m**\u001b[0m\u001b[0mkwargs\u001b[0m\u001b[0;34m)\u001b[0m\u001b[0;34m.\u001b[0m\u001b[0mpack\u001b[0m\u001b[0;34m(\u001b[0m\u001b[0mo\u001b[0m\u001b[0;34m)\u001b[0m\u001b[0;34m\u001b[0m\u001b[0m\n\u001b[0m\u001b[1;32m     36\u001b[0m \u001b[0;34m\u001b[0m\u001b[0m\n\u001b[1;32m     37\u001b[0m \u001b[0;34m\u001b[0m\u001b[0m\n",
      "\u001b[0;32mmsgpack/_packer.pyx\u001b[0m in \u001b[0;36mmsgpack._cmsgpack.Packer.pack\u001b[0;34m()\u001b[0m\n",
      "\u001b[0;32mmsgpack/_packer.pyx\u001b[0m in \u001b[0;36mmsgpack._cmsgpack.Packer.pack\u001b[0;34m()\u001b[0m\n",
      "\u001b[0;32mmsgpack/_packer.pyx\u001b[0m in \u001b[0;36mmsgpack._cmsgpack.Packer.pack\u001b[0;34m()\u001b[0m\n",
      "\u001b[0;32mmsgpack/_packer.pyx\u001b[0m in \u001b[0;36mmsgpack._cmsgpack.Packer._pack\u001b[0;34m()\u001b[0m\n",
      "\u001b[0;32mmsgpack/_packer.pyx\u001b[0m in \u001b[0;36mmsgpack._cmsgpack.Packer._pack\u001b[0;34m()\u001b[0m\n",
      "\u001b[0;32mmsgpack/_packer.pyx\u001b[0m in \u001b[0;36mmsgpack._cmsgpack.Packer._pack\u001b[0;34m()\u001b[0m\n",
      "\u001b[0;32mmsgpack/_packer.pyx\u001b[0m in \u001b[0;36mmsgpack._cmsgpack.Packer._pack\u001b[0;34m()\u001b[0m\n",
      "\u001b[0;32mmsgpack/_packer.pyx\u001b[0m in \u001b[0;36mmsgpack._cmsgpack.Packer._pack\u001b[0;34m()\u001b[0m\n",
      "\u001b[0;32mmsgpack/_packer.pyx\u001b[0m in \u001b[0;36mmsgpack._cmsgpack.Packer._pack\u001b[0;34m()\u001b[0m\n",
      "\u001b[0;32mmsgpack/_packer.pyx\u001b[0m in \u001b[0;36mmsgpack._cmsgpack.Packer._pack\u001b[0;34m()\u001b[0m\n",
      "\u001b[0;31mTypeError\u001b[0m: can not serialize 'DataCentricFLClient' object"
     ]
    }
   ],
   "source": [
    "encrypted_data = data_ptr.encrypt(**encryption_kwargs).get()\n",
    "encrypted_model = model_ptr.encrypt(**encryption_kwargs).get()"
   ]
  },
  {
   "cell_type": "markdown",
   "metadata": {},
   "source": [
    "### Secure inference\n",
    "We are now able to run our secure inference, so let's do it and let's compare it to the `true_labels` "
   ]
  },
  {
   "cell_type": "code",
   "execution_count": 12,
   "metadata": {},
   "outputs": [
    {
     "data": {
      "text/plain": [
       "'fss'"
      ]
     },
     "execution_count": 12,
     "metadata": {},
     "output_type": "execute_result"
    }
   ],
   "source": [
    "encrypted_data.child.child.protocol"
   ]
  },
  {
   "cell_type": "code",
   "execution_count": 13,
   "metadata": {},
   "outputs": [
    {
     "name": "stderr",
     "output_type": "stream",
     "text": [
      "/Users/tryffel/code/PySyft/syft/frameworks/torch/tensors/interpreters/additive_shared.py:122: UserWarning: Use dtype instead of field\n",
      "  warnings.warn(\"Use dtype instead of field\")\n"
     ]
    },
    {
     "name": "stdout",
     "output_type": "stream",
     "text": [
      "205.43717098236084 seconds\n",
      "Predicted labels: tensor([0.])\n",
      "     True labels: tensor([0])\n"
     ]
    }
   ],
   "source": [
    "start_time = time.time()\n",
    "\n",
    "encrypted_prediction = encrypted_model(encrypted_data)\n",
    "encrypted_labels = encrypted_prediction.argmax(dim=1)\n",
    "\n",
    "print(time.time() - start_time, \"seconds\")\n",
    "\n",
    "labels = encrypted_labels.decrypt()\n",
    "\n",
    "print(\"Predicted labels:\", labels)\n",
    "print(\"     True labels:\", true_labels)"
   ]
  },
  {
   "cell_type": "markdown",
   "metadata": {},
   "source": [
    "Hooray! This works!! Well at least with a probability of 95%...\n",
    "\n",
    "But is the computation _exactly_ the same than the plaintext model? Well not exactly, because we sometime use approximations, but let's open the model output logits to verify how close we are from plaintext execution."
   ]
  },
  {
   "cell_type": "code",
   "execution_count": 14,
   "metadata": {},
   "outputs": [
    {
     "name": "stdout",
     "output_type": "stream",
     "text": [
      "tensor([[ 1.0772, -0.8127]])\n",
      "tensor([[ 1.0569, -0.8008]], grad_fn=<AddmmBackward>)\n"
     ]
    }
   ],
   "source": [
    "print(encrypted_prediction.decrypt())\n",
    "print(true_prediction)"
   ]
  },
  {
   "cell_type": "markdown",
   "metadata": {},
   "source": [
    "As you can observe, this is quite close and in practice the accuracy of the model is preserved.\n",
    "\n",
    "Regarding **runtime**, we manage to predict a batch of 2 images in ~400 seconds, which isn't super fast but is already reasonable for our usecase!"
   ]
  },
  {
   "cell_type": "markdown",
   "metadata": {},
   "source": [
    "## Extension\n",
    "\n",
    "> Ok that's good, but in real life I won't use virtual workers!\n",
    "\n",
    "That's right, actually you can run exactly the same experiment using PyGrid and workers which live in a PrivateGridNetwork.\n",
    "\n",
    "To do so, first clone [PyGrid](https://github.com/OpenMined/PyGrid) and then start new nodes in your terminal (one by tab) as such:\n",
    "```\n",
    "cd PyGrid/apps/node\n",
    "./run.sh --id data_owner      --port 7600 --host localhost --start_local_db\n",
    "./run.sh --id model_owner     --port 7601 --host localhost --start_local_db\n",
    "./run.sh --id crypto_provider --port 7602 --host localhost --start_local_db\n",
    "```\n",
    "\n",
    "And you replace the `syft` imports as such:\n",
    "```\n",
    "import syft as sy\n",
    "from syft.grid.clients.data_centric_fl_client import DataCentricFLClient\n",
    "\n",
    "hook = sy.TorchHook(th)\n",
    "data_owner = DataCentricFLClient(hook, \"ws://localhost:7600\")\n",
    "model_owner = DataCentricFLClient(hook, \"ws://localhost:7601\")\n",
    "crypto_provider = DataCentricFLClient(hook, \"ws://localhost:7602\")\n",
    "\n",
    "my_grid = sy.PrivateGridNetwork(data_owner, model_owner, crypto_provider)\n",
    "```\n",
    "\n",
    "The computation will be exactly the same, and the runtime will roughtly double. You can run the experiment to verify this, and it's a nice intro to PyGrid! "
   ]
  },
  {
   "cell_type": "markdown",
   "metadata": {},
   "source": [
    "## What's  next?\n",
    "\n",
    "Next is improving this first proof of concept! How can this be done?\n",
    "\n",
    "- First, we can optimize our implementation, for example by switching for Python to Rust.\n",
    "- Second, we can try to adapt the model structure or model layers to have a faster execution given our constraints without compromising accuracy. Think of the swap we made between maxpool and relu in the ResNet-18 architecture at thhe beginning.\n",
    "- Last, we can investigate new Function Secret Sharing crypto protocols, this is a new and promising field, we expect new breakthroughs to help us improving the inference time!\n",
    "\n",
    "### Join us!\n",
    "\n",
    "If you want to help, come and [apply to join one of our cryptography teams](https://forms.gle/BWmYQJrCwqe1m3ex5)!\n",
    "\n",
    "### Star PySyft on GitHub\n",
    "\n",
    "You can also help our community by starring the repositories! This helps raise awareness of the cool tools we're building.\n",
    "\n",
    "- [Star PySyft](https://github.com/OpenMined/PySyft)\n",
    "\n",
    "### Join our Slack!\n",
    "\n",
    "The best way to keep up to date on the latest advancements is to join our community! \n",
    "\n",
    "- [Join slack.openmined.org](http://slack.openmined.org)"
   ]
  },
  {
   "cell_type": "code",
   "execution_count": null,
   "metadata": {},
   "outputs": [],
   "source": []
  },
  {
   "cell_type": "code",
   "execution_count": null,
   "metadata": {},
   "outputs": [],
   "source": []
  }
 ],
 "metadata": {
  "kernelspec": {
   "display_name": "Python (Pysyft)",
   "language": "python",
   "name": "pysyft"
  },
  "language_info": {
   "codemirror_mode": {
    "name": "ipython",
    "version": 3
   },
   "file_extension": ".py",
   "mimetype": "text/x-python",
   "name": "python",
   "nbconvert_exporter": "python",
   "pygments_lexer": "ipython3",
   "version": "3.7.0"
  }
 },
 "nbformat": 4,
 "nbformat_minor": 4
}

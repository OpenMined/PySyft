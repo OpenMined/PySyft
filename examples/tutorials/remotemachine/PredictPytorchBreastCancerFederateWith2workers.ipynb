{
 "cells": [
  {
   "cell_type": "code",
   "execution_count": 1,
   "metadata": {},
   "outputs": [
    {
     "data": {
      "text/html": [
       "<style>.container { width:100% !important; }</style>"
      ],
      "text/plain": [
       "<IPython.core.display.HTML object>"
      ]
     },
     "metadata": {},
     "output_type": "display_data"
    }
   ],
   "source": [
    "# Facultatif: pour mettre votre notebook en pleine largeur écran:\n",
    "from IPython.core.display import HTML\n",
    "display(HTML(\"<style>.container { width:100% !important; }</style>\"))\n",
    "\n",
    "%matplotlib inline\n",
    "from torch import nn, optim\n",
    "import torch\n",
    "import time\n",
    "import sys\n",
    "from torch import tensor\n",
    "import torch.nn as nn\n",
    "import torch.nn.functional as F\n",
    "import torch.optim as optim\n",
    "from sklearn.preprocessing import StandardScaler\n",
    "from torch.utils.data import Dataset, DataLoader\n",
    "import torch.utils.data as data_utils\n",
    "import torch.nn.functional as F\n",
    "import numpy as np\n",
    "from sklearn.model_selection import train_test_split\n",
    "import matplotlib.pyplot as plt\n",
    "from torchvision import datasets, transforms\n",
    "\n",
    "# Add library syft for federal learning\n",
    "import syft as sy\n",
    "from syft.workers import WebsocketClientWorker"
   ]
  },
  {
   "cell_type": "code",
   "execution_count": 2,
   "metadata": {},
   "outputs": [],
   "source": [
    "# Create Arguments class with many parameters to be used \n",
    "class Arguments():\n",
    "    def __init__(self):\n",
    "        self.batch_size = 32\n",
    "        self.test_batch_size = 32\n",
    "        self.epochs = 100\n",
    "        self.lr = 0.01\n",
    "        self.momentum = 0.5\n",
    "        self.no_cuda = False\n",
    "        self.seed = 1\n",
    "        self.save_model = False\n",
    "\n",
    "args = Arguments()\n",
    "\n",
    "use_cuda = not args.no_cuda and torch.cuda.is_available()\n",
    "\n",
    "torch.manual_seed(args.seed)\n",
    "\n",
    "device = torch.device(\"cuda\" if use_cuda else \"cpu\")\n",
    "\n",
    "kwargs = {'num_workers': 1, 'pin_memory': True} if use_cuda else {}"
   ]
  },
  {
   "cell_type": "code",
   "execution_count": 4,
   "metadata": {},
   "outputs": [],
   "source": [
    "class NetModel(nn.Module):\n",
    "\n",
    "    def __init__(self, input_dim, output_dim):\n",
    "\n",
    "        super(NetModel, self).__init__() \n",
    "        # Calling Super Class's constructor\n",
    "        # nn.linear is defined in nn.Module\n",
    "        self.linear1 = nn.Linear(input_dim, 30)\n",
    "        self.linear2 = nn.Linear(30, 30)\n",
    "        self.linear3 = nn.Linear(30, 30)\n",
    "        self.linear4 = nn.Linear(30, 1)\n",
    "        self.sigmoid1 = nn.Sigmoid()\n",
    "        \n",
    "        \n",
    "    def forward(self, x):\n",
    "        # Here the forward pass is simply a linear function\n",
    "        x = F.relu(self.linear1(x))\n",
    "        x = F.relu(self.linear2(x))\n",
    "        x = F.relu(self.linear3(x))\n",
    "        x = F.relu(self.linear4(x))\n",
    "        out = self.sigmoid1(x)\n",
    "        return out\n",
    "\n",
    "# takes in a module and applies the specified weight initialization\n",
    "def weights_init_uniform(m):\n",
    "    classname = m.__class__.__name__\n",
    "    # for every Linear layer in a model..\n",
    "    if classname.find('Linear') != -1:\n",
    "        # get the number of the inputs\n",
    "        n = m.in_features\n",
    "        y = 1.0/np.sqrt(n)\n",
    "        m.weight.data.uniform_(-y, y)\n",
    "        m.bias.data.fill_(0)\n",
    "\n",
    "input_dim = 30\n",
    "output_dim = 1\n",
    "\n",
    "model = NetModel(input_dim,output_dim)\n",
    "model.apply(weights_init_uniform)\n",
    "\n",
    "criterion = nn.BCELoss()# Binary Loss\n",
    "optimizer = torch.optim.SGD(model.parameters(), lr = args.lr) #Stochastic Gradient Descent\n",
    "\n",
    "epochs = args.epochs"
   ]
  },
  {
   "cell_type": "markdown",
   "metadata": {},
   "source": [
    "# Connexion to remote server / websocket"
   ]
  },
  {
   "cell_type": "markdown",
   "metadata": {},
   "source": [
    "Before this step make sure you start your remote server worker with some data in it. We will create 2 Workers hospital_1 and hospital_2."
   ]
  },
  {
   "cell_type": "code",
   "execution_count": 5,
   "metadata": {},
   "outputs": [
    {
     "data": {
      "text/plain": [
       "<torch._C.Generator at 0x7fa276f264d0>"
      ]
     },
     "execution_count": 5,
     "metadata": {},
     "output_type": "execute_result"
    }
   ],
   "source": [
    "# For local  \n",
    "hook = sy.TorchHook(torch, verbose=True)\n",
    "torch.manual_seed(args.seed)"
   ]
  },
  {
   "cell_type": "code",
   "execution_count": 6,
   "metadata": {},
   "outputs": [],
   "source": [
    "kwargs_websocket_1 = {\"host\": \"localhost\", \"hook\": hook, \"verbose\": True} \n",
    "kwargs_websocket_2 = {\"host\": \"localhost\", \"hook\": hook, \"verbose\": True} \n",
    "hospital_1 = WebsocketClientWorker(id=\"hospital_1\", port=8083, **kwargs_websocket_1)\n",
    "hospital_2 = WebsocketClientWorker(id=\"hospital_2\", port=8084, **kwargs_websocket_2)"
   ]
  },
  {
   "cell_type": "code",
   "execution_count": 7,
   "metadata": {},
   "outputs": [],
   "source": [
    "features_hospital_1 = hospital_1.search(\"#train_features\")\n",
    "features_hospital_2 = hospital_2.search(\"#train_features\")\n",
    "\n",
    "target_hospital_1 = hospital_1.search(\"train_target\")\n",
    "target_hospital_2 = hospital_2.search(\"train_target\")\n",
    "\n",
    "data_features = {\"hospital_1\": features_hospital_1, \"hospital_2\": features_hospital_2}\n",
    "data_target = {\"hospital_1\":target_hospital_1, \"hospital_2\": target_hospital_2}"
   ]
  },
  {
   "cell_type": "code",
   "execution_count": 8,
   "metadata": {},
   "outputs": [],
   "source": [
    "# Cast the result in BaseDatasets\n",
    "datasets = []\n",
    "for worker in data_features.keys():\n",
    "    dataset = sy.BaseDataset(data_features[worker][0].float(), data_target[worker][0].float())\n",
    "    datasets.append(dataset)\n",
    "\n",
    "# Build the FederatedDataset object\n",
    "dataset = sy.FederatedDataset(datasets)\n",
    "federate_train_loader = sy.FederatedDataLoader(dataset, batch_size=32, shuffle=True, drop_last=False, \n",
    "                                     **kwargs)"
   ]
  },
  {
   "cell_type": "code",
   "execution_count": 9,
   "metadata": {},
   "outputs": [
    {
     "name": "stdout",
     "output_type": "stream",
     "text": [
      "Epochs 1 Total accuracy 56.59050966608085 Total loss 2.1747463826345435\n",
      "Epochs 2 Total accuracy 54.833040421792624 Total loss 2.162115037546007\n",
      "Epochs 3 Total accuracy 53.95430579964851 Total loss 2.1504970971226482\n",
      "Epochs 4 Total accuracy 54.833040421792624 Total loss 2.137312664926995\n",
      "Epochs 5 Total accuracy 55.88752196836555 Total loss 2.1223457605432334\n",
      "Epochs 6 Total accuracy 55.88752196836555 Total loss 2.1082130907290013\n",
      "Epochs 7 Total accuracy 55.18453427065027 Total loss 2.0980138351292936\n",
      "Epochs 8 Total accuracy 56.239015817223205 Total loss 2.0793903272055574\n",
      "Epochs 9 Total accuracy 55.88752196836555 Total loss 2.066983541830562\n",
      "Epochs 10 Total accuracy 56.06326889279437 Total loss 2.053061457635648\n",
      "Epochs 11 Total accuracy 56.06326889279437 Total loss 2.0391942537103263\n",
      "Epochs 12 Total accuracy 55.536028119507904 Total loss 2.0282744942314803\n",
      "Epochs 13 Total accuracy 55.88752196836555 Total loss 2.0075064132837923\n",
      "Epochs 14 Total accuracy 56.94200351493849 Total loss 1.9800171596513692\n",
      "Epochs 15 Total accuracy 55.711775043936726 Total loss 1.976520849656975\n",
      "Epochs 16 Total accuracy 55.711775043936726 Total loss 1.9524017306329493\n",
      "Epochs 17 Total accuracy 56.59050966608085 Total loss 1.930700507021537\n",
      "Epochs 18 Total accuracy 57.29349736379613 Total loss 1.9058515610720024\n",
      "Epochs 19 Total accuracy 57.82073813708261 Total loss 1.8736049663831984\n",
      "Epochs 20 Total accuracy 58.523725834797894 Total loss 1.8519569993647627\n",
      "Epochs 21 Total accuracy 58.17223198594025 Total loss 1.836381394330982\n",
      "Epochs 22 Total accuracy 60.98418277680141 Total loss 1.7768172943319713\n",
      "Epochs 23 Total accuracy 60.45694200351493 Total loss 1.767126280938804\n",
      "Epochs 24 Total accuracy 61.15992970123023 Total loss 1.7457035807188868\n",
      "Epochs 25 Total accuracy 63.09314586994728 Total loss 1.6944728333417896\n",
      "Epochs 26 Total accuracy 64.67486818980667 Total loss 1.6538967409536163\n",
      "Epochs 27 Total accuracy 64.14762741652021 Total loss 1.638996899651727\n",
      "Epochs 28 Total accuracy 65.72934973637962 Total loss 1.5907177135269754\n",
      "Epochs 29 Total accuracy 66.78383128295255 Total loss 1.580988449455355\n",
      "Epochs 30 Total accuracy 69.77152899824253 Total loss 1.520990309271117\n",
      "Epochs 31 Total accuracy 70.298769771529 Total loss 1.4946485864676156\n",
      "Epochs 32 Total accuracy 69.59578207381371 Total loss 1.493778170097901\n",
      "Epochs 33 Total accuracy 71.1775043936731 Total loss 1.4526892054060012\n",
      "Epochs 34 Total accuracy 71.35325131810193 Total loss 1.441132105716712\n",
      "Epochs 35 Total accuracy 71.8804920913884 Total loss 1.4189746132634435\n",
      "Epochs 36 Total accuracy 73.28646748681898 Total loss 1.3895077686527701\n",
      "Epochs 37 Total accuracy 73.81370826010544 Total loss 1.356873623306596\n",
      "Epochs 38 Total accuracy 73.4622144112478 Total loss 1.3642816792892027\n",
      "Epochs 39 Total accuracy 74.51669595782073 Total loss 1.339782557085235\n",
      "Epochs 40 Total accuracy 75.39543057996485 Total loss 1.3307848143242365\n",
      "Epochs 41 Total accuracy 75.04393673110721 Total loss 1.3168378355004455\n",
      "Epochs 42 Total accuracy 74.86818980667839 Total loss 1.331284406524551\n",
      "Epochs 43 Total accuracy 75.57117750439367 Total loss 1.2850801298404622\n",
      "Epochs 44 Total accuracy 75.92267135325132 Total loss 1.3060402733998893\n",
      "Epochs 45 Total accuracy 77.15289982425307 Total loss 1.2564725872711893\n",
      "Epochs 46 Total accuracy 77.50439367311071 Total loss 1.214203115402081\n",
      "Epochs 47 Total accuracy 76.97715289982425 Total loss 1.2440030127501864\n",
      "Epochs 48 Total accuracy 77.68014059753953 Total loss 1.239370197214854\n",
      "Epochs 49 Total accuracy 77.15289982425307 Total loss 1.244832989096851\n",
      "Epochs 50 Total accuracy 77.50439367311071 Total loss 1.2722301645521958\n",
      "Epochs 51 Total accuracy 78.03163444639719 Total loss 1.2320382157193337\n",
      "Epochs 52 Total accuracy 78.55887521968366 Total loss 1.2314668334431305\n",
      "Epochs 53 Total accuracy 79.26186291739896 Total loss 1.2110926014467787\n",
      "Epochs 54 Total accuracy 79.61335676625659 Total loss 1.1952556420922906\n",
      "Epochs 55 Total accuracy 79.78910369068541 Total loss 1.2049891460549433\n",
      "Epochs 56 Total accuracy 79.43760984182776 Total loss 1.2107718991269545\n",
      "Epochs 57 Total accuracy 79.78910369068541 Total loss 1.1918660757411763\n",
      "Epochs 58 Total accuracy 80.84358523725835 Total loss 1.1318997360490957\n",
      "Epochs 59 Total accuracy 80.14059753954305 Total loss 1.1849057773923624\n",
      "Epochs 60 Total accuracy 79.43760984182776 Total loss 1.217103931522537\n",
      "Epochs 61 Total accuracy 79.78910369068541 Total loss 1.197047447802103\n",
      "Epochs 62 Total accuracy 80.84358523725835 Total loss 1.1293813769553374\n",
      "Epochs 63 Total accuracy 79.96485061511423 Total loss 1.1933741334871584\n",
      "Epochs 64 Total accuracy 81.01933216168717 Total loss 1.1692259297010559\n",
      "Epochs 65 Total accuracy 80.14059753954305 Total loss 1.1577597401892152\n",
      "Epochs 66 Total accuracy 80.84358523725835 Total loss 1.1401561028299516\n",
      "Epochs 67 Total accuracy 80.84358523725835 Total loss 1.1426293315703087\n",
      "Epochs 68 Total accuracy 82.0738137082601 Total loss 1.0982750353578523\n",
      "Epochs 69 Total accuracy 81.37082601054482 Total loss 1.136601047168088\n",
      "Epochs 70 Total accuracy 81.72231985940246 Total loss 1.1247002884667032\n",
      "Epochs 71 Total accuracy 80.84358523725835 Total loss 1.1176894309231602\n",
      "Epochs 72 Total accuracy 81.01933216168717 Total loss 1.1070012574874664\n",
      "Epochs 73 Total accuracy 81.195079086116 Total loss 1.1093909218776414\n",
      "Epochs 74 Total accuracy 81.01933216168717 Total loss 1.1465084416585563\n",
      "Epochs 75 Total accuracy 81.37082601054482 Total loss 1.1281836509495082\n",
      "Epochs 76 Total accuracy 81.72231985940246 Total loss 1.10062974094297\n",
      "Epochs 77 Total accuracy 81.54657293497364 Total loss 1.1132321295922585\n",
      "Epochs 78 Total accuracy 81.72231985940246 Total loss 1.093971420256241\n",
      "Epochs 79 Total accuracy 81.37082601054482 Total loss 1.1463211505609991\n",
      "Epochs 80 Total accuracy 82.0738137082601 Total loss 1.0799933192181044\n",
      "Epochs 81 Total accuracy 81.72231985940246 Total loss 1.1177008621302975\n",
      "Epochs 82 Total accuracy 82.42530755711776 Total loss 1.0897473286451063\n",
      "Epochs 83 Total accuracy 81.54657293497364 Total loss 1.1305300862592218\n",
      "Epochs 84 Total accuracy 82.24956063268893 Total loss 1.0744060515728902\n",
      "Epochs 85 Total accuracy 82.0738137082601 Total loss 1.0751775886555757\n",
      "Epochs 86 Total accuracy 82.24956063268893 Total loss 1.0537658194456452\n",
      "Epochs 87 Total accuracy 82.0738137082601 Total loss 1.0838090902053619\n",
      "Epochs 88 Total accuracy 82.0738137082601 Total loss 1.0964370569990054\n",
      "Epochs 89 Total accuracy 82.42530755711776 Total loss 1.0588486317171992\n",
      "Epochs 90 Total accuracy 82.77680140597539 Total loss 1.0921829614153227\n",
      "Epochs 91 Total accuracy 82.60105448154658 Total loss 1.0619856849286595\n",
      "Epochs 92 Total accuracy 82.42530755711776 Total loss 1.090695346281692\n",
      "Epochs 93 Total accuracy 83.6555360281195 Total loss 1.0769960121865432\n",
      "Epochs 94 Total accuracy 82.77680140597539 Total loss 1.0436220595413435\n",
      "Epochs 95 Total accuracy 82.42530755711776 Total loss 1.096902030842585\n",
      "Epochs 96 Total accuracy 83.6555360281195 Total loss 1.061288863158603\n",
      "Epochs 97 Total accuracy 82.60105448154658 Total loss 1.0895587909829219\n",
      "Epochs 98 Total accuracy 83.12829525483303 Total loss 1.087465018086358\n",
      "Epochs 99 Total accuracy 82.95254833040421 Total loss 1.10536579350386\n",
      "Epochs 100 Total accuracy 82.60105448154658 Total loss 1.1095845950718295\n",
      "CPU times: user 2min 56s, sys: 30.9 s, total: 3min 27s\n",
      "Wall time: 6min 11s\n"
     ]
    }
   ],
   "source": [
    "history = { \"loss\": [], \"accuracy\": [], \"loss_val\": [], \"accuracy_val\": [] }\n",
    "\n",
    "for epoch in range(epochs):\n",
    "\n",
    "    epoch +=1\n",
    "    loss_accum = 0\n",
    "    correct = 0\n",
    "    for batch_idx, (data, target) in enumerate(federate_train_loader):\n",
    "\n",
    "        model.send(data.location)\n",
    "        optimizer.zero_grad()\n",
    "\n",
    "        pred = model(data)\n",
    "        loss =  criterion(pred,target)\n",
    "        prediction = [1 if x > 0.5 else 0 for x in pred.get().detach().numpy()]\n",
    "        correct += (prediction == target.get().detach().numpy()).sum()\n",
    "\n",
    "        loss.backward()\n",
    "        \n",
    "        optimizer.step()\n",
    "        \n",
    "        model.get()\n",
    "        loss = loss.get()\n",
    "        loss_accum += float(loss)\n",
    "        \n",
    "       \n",
    "    history[\"accuracy\"].append(correct / len(federate_train_loader.federated_dataset)*100)\n",
    "    history[\"loss\"].append(loss_accum / len(federate_train_loader.federated_dataset)*100)        \n",
    "\n",
    "    print('Epochs', epoch, 'Total accuracy',history[\"accuracy\"][-1], 'Total loss', history['loss'][-1])        "
   ]
  },
  {
   "cell_type": "code",
   "execution_count": 10,
   "metadata": {},
   "outputs": [
    {
     "data": {
      "image/png": "[encoded data removed]",
      "text/plain": [
       "<Figure size 432x288 with 1 Axes>"
      ]
     },
     "metadata": {
      "needs_background": "light"
     },
     "output_type": "display_data"
    }
   ],
   "source": [
    "plt.plot(history['accuracy'])\n",
    "plt.title('Model accuracy')\n",
    "plt.ylabel('accuracy')\n",
    "plt.xlabel('epoch')\n",
    "plt.legend(['train'], loc='upper left')\n",
    "plt.show()"
   ]
  },
  {
   "cell_type": "code",
   "execution_count": 11,
   "metadata": {},
   "outputs": [
    {
     "data": {
      "image/png": "[encoded data removed]",
      "text/plain": [
       "<Figure size 432x288 with 1 Axes>"
      ]
     },
     "metadata": {
      "needs_background": "light"
     },
     "output_type": "display_data"
    }
   ],
   "source": [
    "plt.plot(history['loss'])\n",
    "plt.title('Model loss')\n",
    "plt.ylabel('loss')\n",
    "plt.xlabel('epoch')\n",
    "plt.legend(['train'], loc='upper right')\n",
    "plt.show()"
   ]
  },
  {
   "cell_type": "code",
   "execution_count": 3,
   "metadata": {},
   "outputs": [],
   "source": []
  },
  {
   "cell_type": "code",
   "execution_count": null,
   "metadata": {},
   "outputs": [],
   "source": []
  },
  {
   "cell_type": "code",
   "execution_count": null,
   "metadata": {},
   "outputs": [],
   "source": []
  },
  {
   "cell_type": "code",
   "execution_count": null,
   "metadata": {},
   "outputs": [],
   "source": []
  }
 ],
 "metadata": {
  "kernelspec": {
   "display_name": "Python 3",
   "language": "python",
   "name": "python3"
  },
  "language_info": {
   "codemirror_mode": {
    "name": "ipython",
    "version": 3
   },
   "file_extension": ".py",
   "mimetype": "text/x-python",
   "name": "python",
   "nbconvert_exporter": "python",
   "pygments_lexer": "ipython3",
   "version": "3.7.1"
  }
 },
 "nbformat": 4,
 "nbformat_minor": 2
}

{
 "cells": [
  {
   "cell_type": "code",
   "execution_count": 20,
   "metadata": {},
   "outputs": [
    {
     "data": {
      "text/html": [
       "<style>.container { width:100% !important; }</style>"
      ],
      "text/plain": [
       "<IPython.core.display.HTML object>"
      ]
     },
     "metadata": {},
     "output_type": "display_data"
    }
   ],
   "source": [
    "# Facultatif: pour mettre votre notebook en pleine largeur écran:\n",
    "from IPython.core.display import HTML\n",
    "display(HTML(\"<style>.container { width:100% !important; }</style>\"))\n",
    "\n",
    "%matplotlib inline\n",
    "from sklearn.datasets import load_breast_cancer\n",
    "from torch import nn, optim\n",
    "import torch\n",
    "import torch\n",
    "import torch.nn as nn\n",
    "import torch.nn.functional as F\n",
    "import torch.optim as optim\n",
    "from sklearn.preprocessing import StandardScaler\n",
    "from torch.utils.data import Dataset, DataLoader\n",
    "import torch.utils.data as data_utils\n",
    "import torch.nn.functional as F\n",
    "from torch.autograd import Variable\n",
    "import numpy as np\n",
    "from sklearn.model_selection import train_test_split\n",
    "import matplotlib.pyplot as plt\n",
    "from torchvision import datasets, transforms"
   ]
  },
  {
   "cell_type": "code",
   "execution_count": 21,
   "metadata": {},
   "outputs": [
    {
     "data": {
      "text/plain": [
       "['malignant', 'benign']"
      ]
     },
     "execution_count": 21,
     "metadata": {},
     "output_type": "execute_result"
    }
   ],
   "source": [
    "# Get data from Scikit learn\n",
    "data = load_breast_cancer()\n",
    "list(data.target_names)"
   ]
  },
  {
   "cell_type": "code",
   "execution_count": 22,
   "metadata": {},
   "outputs": [],
   "source": [
    "# Rename train and target data\n",
    "data_train = data.data\n",
    "data_target = data.target"
   ]
  },
  {
   "cell_type": "code",
   "execution_count": 23,
   "metadata": {},
   "outputs": [],
   "source": [
    "# Create Arguments class with many parameters to be used \n",
    "class Arguments():\n",
    "    def __init__(self):\n",
    "        self.batch_size = 32\n",
    "        self.test_batch_size = 32\n",
    "        self.epochs = 100\n",
    "        self.lr = 0.01\n",
    "        self.momentum = 0.5\n",
    "        self.no_cuda = False\n",
    "        self.seed = 1\n",
    "        self.save_model = False\n",
    "\n",
    "args = Arguments()\n",
    "\n",
    "use_cuda = not args.no_cuda and torch.cuda.is_available()\n",
    "\n",
    "torch.manual_seed(args.seed)\n",
    "\n",
    "device = torch.device(\"cuda\" if use_cuda else \"cpu\")\n",
    "\n",
    "kwargs = {'num_workers': 1, 'pin_memory': True} if use_cuda else {}"
   ]
  },
  {
   "cell_type": "code",
   "execution_count": 24,
   "metadata": {},
   "outputs": [],
   "source": [
    "# Standardise data for input into Neural Net\n",
    "scaler = StandardScaler()\n",
    "transformed = scaler.fit_transform(data_train)\n",
    "\n",
    "# Create a TensorDataset with features and target data\n",
    "data_train = data_utils.TensorDataset(torch.tensor(transformed, requires_grad= True).float(),\n",
    "                                 torch.tensor(data_target).float())\n",
    "# Create a DataLoader to add minibatch and shuffle parameters\n",
    "train_loader = torch.utils.data.DataLoader(\n",
    "    data_train,\n",
    "    batch_size=args.batch_size, shuffle=True, **kwargs)"
   ]
  },
  {
   "cell_type": "code",
   "execution_count": 26,
   "metadata": {},
   "outputs": [],
   "source": [
    "class NetModel(nn.Module):\n",
    "\n",
    "    def __init__(self, input_dim, output_dim):\n",
    "\n",
    "        super(NetModel, self).__init__() \n",
    "        # Calling Super Class's constructor\n",
    "        # nn.linear is defined in nn.Module\n",
    "        self.linear1 = nn.Linear(input_dim, 30)\n",
    "        self.linear2 = nn.Linear(30, 30)\n",
    "        self.linear3 = nn.Linear(30, 30)\n",
    "        self.linear4 = nn.Linear(30, 1)\n",
    "        self.sigmoid1 = nn.Sigmoid()\n",
    "        self.relu1 = nn.ReLU()\n",
    "        self.noise = GaussianNoise()\n",
    "        \n",
    "    def forward(self, x):\n",
    "        # Here the forward pass is simply a linear function\n",
    "        x = F.relu(self.linear1(x))\n",
    "        x = F.relu(self.linear2(x))\n",
    "        x = F.relu(self.linear3(x))\n",
    "        x = F.relu(self.linear4(x))\n",
    "        out = self.sigmoid1(x)\n",
    "        return out\n",
    "\n",
    "# takes in a module and applies the specified weight initialization\n",
    "def weights_init_uniform(m):\n",
    "    classname = m.__class__.__name__\n",
    "    # for every Linear layer in a model..\n",
    "    if classname.find('Linear') != -1:\n",
    "        # get the number of the inputs\n",
    "        n = m.in_features\n",
    "        y = 1.0/np.sqrt(n)\n",
    "        m.weight.data.uniform_(-y, y)\n",
    "        m.bias.data.fill_(0)\n",
    "\n",
    "input_dim = 30\n",
    "output_dim = 1\n",
    "\n",
    "model = NetModel(input_dim,output_dim)\n",
    "model.apply(weights_init_uniform)\n",
    "\n",
    "criterion = nn.BCELoss()# Binary Loss\n",
    "optimiser = torch.optim.SGD(model.parameters(), lr = args.lr) #Stochastic Gradient Descent\n",
    "\n",
    "epochs = args.epochs"
   ]
  },
  {
   "cell_type": "code",
   "execution_count": 28,
   "metadata": {},
   "outputs": [
    {
     "name": "stderr",
     "output_type": "stream",
     "text": [
      "/home/sacha/anaconda3/lib/python3.7/site-packages/torch/nn/functional.py:2016: UserWarning: Using a target size (torch.Size([32])) that is different to the input size (torch.Size([32, 1])) is deprecated. Please ensure they have the same size.\n",
      "  \"Please ensure they have the same size.\".format(target.size(), input.size()))\n",
      "/home/sacha/anaconda3/lib/python3.7/site-packages/torch/nn/functional.py:2016: UserWarning: Using a target size (torch.Size([25])) that is different to the input size (torch.Size([25, 1])) is deprecated. Please ensure they have the same size.\n",
      "  \"Please ensure they have the same size.\".format(target.size(), input.size()))\n"
     ]
    },
    {
     "name": "stdout",
     "output_type": "stream",
     "text": [
      "Total accuracy 64.8506151142355 Total loss 2.172467861527508\n",
      "Total accuracy 64.32337434094903 Total loss 2.157805757908075\n",
      "Total accuracy 62.56590509666081 Total loss 2.142753228152364\n",
      "Total accuracy 62.56590509666081 Total loss 2.129763773329857\n",
      "Total accuracy 62.741652021089635 Total loss 2.1159819433684928\n",
      "Total accuracy 62.741652021089635 Total loss 2.101699025853028\n",
      "Total accuracy 62.741652021089635 Total loss 2.089051192590348\n",
      "Total accuracy 62.741652021089635 Total loss 2.073913561229337\n",
      "Total accuracy 62.741652021089635 Total loss 2.0598662968050614\n",
      "Total accuracy 62.741652021089635 Total loss 2.0456901124575437\n",
      "Total accuracy 62.741652021089635 Total loss 2.0298586578905478\n",
      "Total accuracy 62.741652021089635 Total loss 2.012317995614452\n",
      "Total accuracy 62.91739894551846 Total loss 1.9930145338256247\n",
      "Total accuracy 62.91739894551846 Total loss 1.9763937524416746\n",
      "Total accuracy 63.09314586994728 Total loss 1.9519712468232757\n",
      "Total accuracy 63.79613356766256 Total loss 1.926787991096349\n",
      "Total accuracy 64.49912126537785 Total loss 1.9026300085868901\n",
      "Total accuracy 64.8506151142355 Total loss 1.874078975201491\n",
      "Total accuracy 66.08084358523726 Total loss 1.8431485432522579\n",
      "Total accuracy 66.78383128295255 Total loss 1.811108029789581\n",
      "Total accuracy 68.18980667838312 Total loss 1.7742811690734435\n",
      "Total accuracy 69.24428822495607 Total loss 1.7337237175403455\n",
      "Total accuracy 70.298769771529 Total loss 1.692264926454514\n",
      "Total accuracy 72.05623901581723 Total loss 1.6506819031569575\n",
      "Total accuracy 74.51669595782073 Total loss 1.6083750972010338\n",
      "Total accuracy 75.57117750439367 Total loss 1.564563415381527\n",
      "Total accuracy 76.44991212653778 Total loss 1.525591096475799\n",
      "Total accuracy 77.68014059753953 Total loss 1.4845702214484056\n",
      "Total accuracy 78.9103690685413 Total loss 1.4470113863634937\n",
      "Total accuracy 80.31634446397187 Total loss 1.4122442379986675\n",
      "Total accuracy 80.84358523725835 Total loss 1.3770583434347947\n",
      "Total accuracy 82.60105448154658 Total loss 1.3511283588325622\n",
      "Total accuracy 83.47978910369068 Total loss 1.3265124576162999\n",
      "Total accuracy 84.00702987697716 Total loss 1.3054019066068117\n",
      "Total accuracy 84.3585237258348 Total loss 1.2755638580959165\n",
      "Total accuracy 85.41300527240774 Total loss 1.25907353650916\n",
      "Total accuracy 86.29173989455184 Total loss 1.240397788099748\n",
      "Total accuracy 86.8189806678383 Total loss 1.2286081412555045\n",
      "Total accuracy 87.34622144112478 Total loss 1.2126896340524376\n",
      "Total accuracy 87.87346221441125 Total loss 1.1949351885616255\n",
      "Total accuracy 88.57644991212655 Total loss 1.1829731701128512\n",
      "Total accuracy 89.103690685413 Total loss 1.169553865238317\n",
      "Total accuracy 89.63093145869946 Total loss 1.170762841751789\n",
      "Total accuracy 89.80667838312829 Total loss 1.1480570520374185\n",
      "Total accuracy 90.33391915641477 Total loss 1.1422043892117921\n",
      "Total accuracy 90.33391915641477 Total loss 1.1373606973666508\n",
      "Total accuracy 90.86115992970123 Total loss 1.1284239891333823\n",
      "Total accuracy 91.03690685413005 Total loss 1.1181262706411323\n",
      "Total accuracy 91.3884007029877 Total loss 1.1114149683389176\n",
      "Total accuracy 91.73989455184535 Total loss 1.1063129181183076\n",
      "Total accuracy 91.73989455184535 Total loss 1.0954386844366841\n",
      "Total accuracy 91.91564147627417 Total loss 1.0938287043194361\n",
      "Total accuracy 92.44288224956063 Total loss 1.0824383483620228\n",
      "Total accuracy 92.44288224956063 Total loss 1.0738882139613213\n",
      "Total accuracy 92.79437609841827 Total loss 1.0743793080477388\n",
      "Total accuracy 92.97012302284709 Total loss 1.0681111306632969\n",
      "Total accuracy 92.97012302284709 Total loss 1.0573899442156505\n",
      "Total accuracy 93.14586994727593 Total loss 1.0549447396099043\n",
      "Total accuracy 93.49736379613357 Total loss 1.0486926209109528\n",
      "Total accuracy 93.67311072056239 Total loss 1.0408688932395358\n",
      "Total accuracy 93.49736379613357 Total loss 1.0370578701969608\n",
      "Total accuracy 94.20035149384886 Total loss 1.0329009464210284\n",
      "Total accuracy 94.20035149384886 Total loss 1.0278095731835792\n",
      "Total accuracy 94.37609841827768 Total loss 1.021514340632829\n",
      "Total accuracy 94.5518453427065 Total loss 1.0160014976097536\n",
      "Total accuracy 94.90333919156416 Total loss 1.0201585706591816\n",
      "Total accuracy 95.07908611599298 Total loss 1.0123344161179448\n",
      "Total accuracy 95.07908611599298 Total loss 1.0104809552169223\n",
      "Total accuracy 95.07908611599298 Total loss 1.0101096125185385\n",
      "Total accuracy 95.07908611599298 Total loss 1.0043884072655744\n",
      "Total accuracy 95.43057996485061 Total loss 1.0070083456634427\n",
      "Total accuracy 95.60632688927943 Total loss 0.9989040833365939\n",
      "Total accuracy 95.60632688927943 Total loss 0.9994344101639331\n",
      "Total accuracy 95.60632688927943 Total loss 0.9972452148402302\n",
      "Total accuracy 95.60632688927943 Total loss 0.9963789859848826\n",
      "Total accuracy 95.60632688927943 Total loss 0.9922321735241291\n",
      "Total accuracy 95.78207381370825 Total loss 0.985699198053256\n",
      "Total accuracy 96.1335676625659 Total loss 0.9849318458661044\n",
      "Total accuracy 96.1335676625659 Total loss 0.9857643572433553\n",
      "Total accuracy 96.1335676625659 Total loss 0.9899792724627812\n",
      "Total accuracy 96.1335676625659 Total loss 0.9793149723109964\n",
      "Total accuracy 96.1335676625659 Total loss 0.9837604234214408\n",
      "Total accuracy 96.1335676625659 Total loss 0.9822327794215802\n",
      "Total accuracy 96.1335676625659 Total loss 0.9717069422214019\n",
      "Total accuracy 96.30931458699473 Total loss 0.9754503469894557\n",
      "Total accuracy 96.48506151142355 Total loss 0.9757731443758799\n",
      "Total accuracy 96.48506151142355 Total loss 0.9699950240198882\n",
      "Total accuracy 96.48506151142355 Total loss 0.9746326058317363\n",
      "Total accuracy 96.66080843585237 Total loss 0.9717662430815203\n",
      "Total accuracy 96.48506151142355 Total loss 0.9684664581907235\n",
      "Total accuracy 96.66080843585237 Total loss 0.9693187574720131\n",
      "Total accuracy 96.66080843585237 Total loss 0.9669057435645788\n",
      "Total accuracy 96.66080843585237 Total loss 0.9703100591845587\n",
      "Total accuracy 96.66080843585237 Total loss 0.9701345397424614\n",
      "Total accuracy 96.66080843585237 Total loss 0.9631353202938824\n",
      "Total accuracy 96.8365553602812 Total loss 0.9631272700004712\n",
      "Total accuracy 96.66080843585237 Total loss 0.9645145602511186\n",
      "Total accuracy 96.8365553602812 Total loss 0.9559816132530387\n",
      "Total accuracy 96.8365553602812 Total loss 0.9590534156152359\n",
      "Total accuracy 96.8365553602812 Total loss 0.9652169391853319\n",
      "CPU times: user 8.37 s, sys: 54.3 ms, total: 8.43 s\n",
      "Wall time: 4.27 s\n"
     ]
    }
   ],
   "source": [
    "# TRAINING\n",
    "history = { \"loss\": [], \"accuracy\": [], \"loss_val\": [], \"accuracy_val\": [] }\n",
    "\n",
    "for epoch in range(epochs):\n",
    "\n",
    "    epoch +=1\n",
    "    loss_accum = 0\n",
    "    correct = 0\n",
    "    for batch_idx, (data, target) in enumerate(train_loader):\n",
    "        optimiser.zero_grad()\n",
    "\n",
    "        pred = model(data)\n",
    "        \n",
    "        loss = criterion(pred,target)\n",
    "        \n",
    "        prediction = [1 if x > 0.5 else 0 for x in pred.data.numpy()]\n",
    "        correct += (prediction == target.numpy()).sum()\n",
    "        \n",
    "        loss.backward()\n",
    "        \n",
    "        optimiser.step()\n",
    "        \n",
    "        loss_accum += float(loss)\n",
    "            \n",
    "    history[\"accuracy\"].append(correct / len(train_loader.dataset)*100)\n",
    "    history[\"loss\"].append(loss_accum/len(train_loader.dataset)*100)        \n",
    "\n",
    "    print('Total accuracy',history[\"accuracy\"][-1], 'Total loss', history['loss'][-1])"
   ]
  },
  {
   "cell_type": "code",
   "execution_count": 29,
   "metadata": {},
   "outputs": [
    {
     "data": {
      "image/png": "[encoded data removed]",
      "text/plain": [
       "<Figure size 432x288 with 1 Axes>"
      ]
     },
     "metadata": {
      "needs_background": "light"
     },
     "output_type": "display_data"
    }
   ],
   "source": [
    "plt.plot(history['accuracy'])\n",
    "plt.title('Model accuracy')\n",
    "plt.ylabel('accuracy')\n",
    "plt.xlabel('epoch')\n",
    "plt.legend(['train'], loc='upper left')\n",
    "plt.show()"
   ]
  },
  {
   "cell_type": "code",
   "execution_count": 30,
   "metadata": {},
   "outputs": [
    {
     "data": {
      "image/png": "[encoded data removed]",
      "text/plain": [
       "<Figure size 432x288 with 1 Axes>"
      ]
     },
     "metadata": {
      "needs_background": "light"
     },
     "output_type": "display_data"
    }
   ],
   "source": [
    "plt.plot(history['loss'])\n",
    "plt.title('Model loss')\n",
    "plt.ylabel('loss')\n",
    "plt.xlabel('epoch')\n",
    "plt.legend(['train'], loc='upper right')\n",
    "plt.show()"
   ]
  }
 ],
 "metadata": {
  "kernelspec": {
   "display_name": "Python 3",
   "language": "python",
   "name": "python3"
  },
  "language_info": {
   "codemirror_mode": {
    "name": "ipython",
    "version": 3
   },
   "file_extension": ".py",
   "mimetype": "text/x-python",
   "name": "python",
   "nbconvert_exporter": "python",
   "pygments_lexer": "ipython3",
   "version": "3.7.1"
  }
 },
 "nbformat": 4,
 "nbformat_minor": 2
}

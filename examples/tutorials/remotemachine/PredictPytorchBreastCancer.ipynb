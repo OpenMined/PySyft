{
 "cells": [
  {
   "cell_type": "code",
   "execution_count": 19,
   "metadata": {},
   "outputs": [
    {
     "data": {
      "text/html": [
       "<style>.container { width:100% !important; }</style>"
      ],
      "text/plain": [
       "<IPython.core.display.HTML object>"
      ]
     },
     "metadata": {},
     "output_type": "display_data"
    }
   ],
   "source": [
    "# Facultatif: pour mettre votre notebook en pleine largeur écran:\n",
    "from IPython.core.display import HTML\n",
    "display(HTML(\"<style>.container { width:100% !important; }</style>\"))\n",
    "\n",
    "%matplotlib inline\n",
    "from sklearn.datasets import load_breast_cancer\n",
    "from torch import nn, optim\n",
    "import torch\n",
    "import torch\n",
    "import torch.nn as nn\n",
    "import torch.nn.functional as F\n",
    "import torch.optim as optim\n",
    "from sklearn.preprocessing import StandardScaler\n",
    "from torch.utils.data import Dataset, DataLoader\n",
    "import torch.utils.data as data_utils\n",
    "import torch.nn.functional as F\n",
    "from torch.autograd import Variable\n",
    "import numpy as np\n",
    "from sklearn.model_selection import train_test_split\n",
    "import matplotlib.pyplot as plt\n",
    "from torchvision import datasets, transforms"
   ]
  },
  {
   "cell_type": "code",
   "execution_count": 20,
   "metadata": {},
   "outputs": [
    {
     "data": {
      "text/plain": [
       "['malignant', 'benign']"
      ]
     },
     "execution_count": 20,
     "metadata": {},
     "output_type": "execute_result"
    }
   ],
   "source": [
    "# Get data from Scikit learn\n",
    "data = load_breast_cancer()\n",
    "list(data.target_names)"
   ]
  },
  {
   "cell_type": "code",
   "execution_count": 21,
   "metadata": {},
   "outputs": [],
   "source": [
    "# Rename train and target data\n",
    "data_train = data.data\n",
    "data_target = data.target"
   ]
  },
  {
   "cell_type": "code",
   "execution_count": 4,
   "metadata": {},
   "outputs": [],
   "source": [
    "# Create Arguments class with many parameters to be used \n",
    "class Arguments():\n",
    "    def __init__(self):\n",
    "        self.batch_size = 32\n",
    "        self.test_batch_size = 32\n",
    "        self.epochs = 100\n",
    "        self.lr = 0.01\n",
    "        self.momentum = 0.5\n",
    "        self.no_cuda = False\n",
    "        self.seed = 1\n",
    "        self.save_model = False\n",
    "\n",
    "args = Arguments()\n",
    "\n",
    "use_cuda = not args.no_cuda and torch.cuda.is_available()\n",
    "\n",
    "torch.manual_seed(args.seed)\n",
    "\n",
    "device = torch.device(\"cuda\" if use_cuda else \"cpu\")\n",
    "\n",
    "kwargs = {'num_workers': 1, 'pin_memory': True} if use_cuda else {}"
   ]
  },
  {
   "cell_type": "code",
   "execution_count": 5,
   "metadata": {},
   "outputs": [],
   "source": [
    "# Split data between train and test 80% train, 20% validation, 20% test.\n",
    "x_train, x_test, y_train, y_test = train_test_split(data_train, data_target, test_size=0.2, random_state=args.seed)\n",
    "x_val, x_test, y_val, y_test = train_test_split(x_test, y_test, test_size=0.5, random_state=args.seed)\n",
    "\n",
    "# Standardise data for input into Neural Net\n",
    "scaler = StandardScaler()\n",
    "transformed = scaler.fit_transform(x_train)\n",
    "transformed_val = scaler.transform(x_val)\n",
    "transformed_test = scaler.transform(x_test)\n",
    "\n",
    "##TRAIN##\n",
    "# Create a TensorDataset with features and target data\n",
    "data_train = data_utils.TensorDataset(torch.tensor(transformed, requires_grad= True).float(),\n",
    "                                 torch.tensor(y_train).float())\n",
    "# Create a DataLoader to add minibatch and shuffle parameters\n",
    "train_loader = torch.utils.data.DataLoader(\n",
    "    data_train,\n",
    "    batch_size=args.batch_size, shuffle=True, **kwargs)\n",
    "\n",
    "##VAL##\n",
    "# Create val DataLoader\n",
    "data_val = data_utils.TensorDataset(torch.tensor(transformed_val).float(),\n",
    "                                 torch.tensor(y_val).float())\n",
    "# Create a DataLoader to add minibatch and shuffle parameters\n",
    "val_loader = torch.utils.data.DataLoader(\n",
    "    data_val,\n",
    "    batch_size=args.test_batch_size, shuffle=False, **kwargs)\n",
    "\n",
    "##TEST##\n",
    "# Create test DataLoader\n",
    "data_test = data_utils.TensorDataset(torch.tensor(transformed_test).float(),\n",
    "                                 torch.tensor(y_test).float())\n",
    "# Create a DataLoader to add minibatch and shuffle parameters\n",
    "test_loader = torch.utils.data.DataLoader(\n",
    "    data_test,\n",
    "    batch_size=args.test_batch_size, shuffle=False, **kwargs)"
   ]
  },
  {
   "cell_type": "code",
   "execution_count": 6,
   "metadata": {},
   "outputs": [],
   "source": [
    "# Layer Noise to help generalise and reduce speed of learning for our use case. \n",
    "##### Currently not supported by the federal learning so NOT use into our Net #####\n",
    "class GaussianNoise(nn.Module):\n",
    "    \"\"\"Gaussian noise regularizer.\n",
    "\n",
    "    Args:\n",
    "        sigma (float, optional): relative standard deviation used to generate the\n",
    "            noise. Relative means that it will be multiplied by the magnitude of\n",
    "            the value your are adding the noise to. This means that sigma can be\n",
    "            the same regardless of the scale of the vector.\n",
    "        is_relative_detach (bool, optional): whether to detach the variable before\n",
    "            computing the scale of the noise. If `False` then the scale of the noise\n",
    "            won't be seen as a constant but something to optimize: this will bias the\n",
    "            network to generate vectors with smaller values.\n",
    "    \"\"\"\n",
    "\n",
    "    def __init__(self, sigma=5, is_relative_detach=True):\n",
    "        super().__init__()\n",
    "        self.sigma = sigma\n",
    "        self.is_relative_detach = is_relative_detach\n",
    "        self.noise = torch.tensor(0).to(device)\n",
    "\n",
    "    def forward(self, x):\n",
    "        if self.training and self.sigma != 0:\n",
    "            scale = self.sigma * x.detach() if self.is_relative_detach else self.sigma * x\n",
    "            sampled_noise = self.noise.repeat(*x.size()).float().normal_() * scale\n",
    "            x = x + sampled_noise\n",
    "        return x "
   ]
  },
  {
   "cell_type": "code",
   "execution_count": 22,
   "metadata": {},
   "outputs": [],
   "source": [
    "class NetModel(nn.Module):\n",
    "\n",
    "    def __init__(self, input_dim, output_dim):\n",
    "\n",
    "        super(NetModel, self).__init__() \n",
    "        # Calling Super Class's constructor\n",
    "        self.linear1 = nn.Linear(input_dim, 30)\n",
    "        self.linear2 = nn.Linear(30, 30)\n",
    "        self.linear3 = nn.Linear(30, 30)\n",
    "        self.linear4 = nn.Linear(30, 1)\n",
    "        self.sigmoid1 = nn.Sigmoid()\n",
    "        self.relu1 = nn.ReLU()\n",
    "        self.noise = GaussianNoise()\n",
    "        \n",
    "    def forward(self, x):\n",
    "        # Here the forward pass is simply a linear function\n",
    "        x = F.relu(self.linear1(x))\n",
    "        #if self.training:\n",
    "        #    x = self.noise(x)\n",
    "        x = F.relu(self.linear2(x))\n",
    "        #if self.training:\n",
    "            #x = self.noise(x)\n",
    "        x = F.relu(self.linear3(x))\n",
    "        x = F.relu(self.linear4(x))\n",
    "        out = self.sigmoid1(x)\n",
    "        return out\n",
    "\n",
    "# takes in a module and applies the specified weight initialization\n",
    "def weights_init_uniform(m):\n",
    "    classname = m.__class__.__name__\n",
    "    # for every Linear layer in a model..\n",
    "    if classname.find('Linear') != -1:\n",
    "        # get the number of the inputs\n",
    "        n = m.in_features\n",
    "        y = 1.0/np.sqrt(n)\n",
    "        m.weight.data.uniform_(-y, y)\n",
    "        m.bias.data.fill_(0)\n",
    "\n",
    "input_dim = 30\n",
    "output_dim = 1\n",
    "\n",
    "model = NetModel(input_dim,output_dim)\n",
    "model.apply(weights_init_uniform)\n",
    "\n",
    "criterion = nn.BCELoss()# Binary Loss\n",
    "optimiser = torch.optim.SGD(model.parameters(), lr = args.lr) #Stochastic Gradient Descent\n",
    "\n",
    "epochs = args.epochs"
   ]
  },
  {
   "cell_type": "code",
   "execution_count": 23,
   "metadata": {},
   "outputs": [
    {
     "name": "stdout",
     "output_type": "stream",
     "text": [
      "Loss, accuracy, val loss, val acc at epoch 1 tensor(2.2822) 52.74725274725275 tensor(2.4309) 59.64912280701754\n",
      "Loss, accuracy, val loss, val acc at epoch 2 tensor(2.2723) 67.6923076923077 tensor(2.4211) 61.40350877192983\n",
      "Loss, accuracy, val loss, val acc at epoch 3 tensor(2.2568) 66.15384615384615 tensor(2.4137) 54.385964912280706\n",
      "Loss, accuracy, val loss, val acc at epoch 4 tensor(2.2449) 64.3956043956044 tensor(2.4070) 54.385964912280706\n",
      "Loss, accuracy, val loss, val acc at epoch 5 tensor(2.2294) 64.17582417582418 tensor(2.4002) 54.385964912280706\n",
      "Loss, accuracy, val loss, val acc at epoch 6 tensor(2.2263) 63.73626373626373 tensor(2.3933) 54.385964912280706\n",
      "Loss, accuracy, val loss, val acc at epoch 7 tensor(2.2090) 63.73626373626373 tensor(2.3864) 54.385964912280706\n",
      "Loss, accuracy, val loss, val acc at epoch 8 tensor(2.1982) 63.73626373626373 tensor(2.3789) 56.14035087719298\n",
      "Loss, accuracy, val loss, val acc at epoch 9 tensor(2.1929) 64.17582417582418 tensor(2.3719) 56.14035087719298\n",
      "Loss, accuracy, val loss, val acc at epoch 10 tensor(2.1684) 64.83516483516483 tensor(2.3649) 56.14035087719298\n",
      "Loss, accuracy, val loss, val acc at epoch 11 tensor(2.1604) 64.83516483516483 tensor(2.3573) 56.14035087719298\n",
      "Loss, accuracy, val loss, val acc at epoch 12 tensor(2.1515) 65.05494505494505 tensor(2.3495) 56.14035087719298\n",
      "Loss, accuracy, val loss, val acc at epoch 13 tensor(2.1332) 65.27472527472527 tensor(2.3415) 57.89473684210527\n",
      "Loss, accuracy, val loss, val acc at epoch 14 tensor(2.1283) 65.93406593406593 tensor(2.3332) 57.89473684210527\n",
      "Loss, accuracy, val loss, val acc at epoch 15 tensor(2.1134) 66.37362637362637 tensor(2.3243) 57.89473684210527\n",
      "Loss, accuracy, val loss, val acc at epoch 16 tensor(2.0918) 67.25274725274726 tensor(2.3156) 57.89473684210527\n",
      "Loss, accuracy, val loss, val acc at epoch 17 tensor(2.0847) 67.25274725274726 tensor(2.3066) 59.64912280701754\n",
      "Loss, accuracy, val loss, val acc at epoch 18 tensor(2.0723) 67.47252747252747 tensor(2.2967) 59.64912280701754\n",
      "Loss, accuracy, val loss, val acc at epoch 19 tensor(2.0471) 69.01098901098901 tensor(2.2871) 59.64912280701754\n",
      "Loss, accuracy, val loss, val acc at epoch 20 tensor(2.0411) 69.67032967032966 tensor(2.2767) 59.64912280701754\n",
      "Loss, accuracy, val loss, val acc at epoch 21 tensor(2.0279) 69.67032967032966 tensor(2.2660) 61.40350877192983\n",
      "Loss, accuracy, val loss, val acc at epoch 22 tensor(2.0047) 70.1098901098901 tensor(2.2551) 61.40350877192983\n",
      "Loss, accuracy, val loss, val acc at epoch 23 tensor(1.9852) 70.1098901098901 tensor(2.2432) 63.1578947368421\n",
      "Loss, accuracy, val loss, val acc at epoch 24 tensor(1.9746) 71.42857142857143 tensor(2.2314) 63.1578947368421\n",
      "Loss, accuracy, val loss, val acc at epoch 25 tensor(1.9708) 72.08791208791209 tensor(2.2186) 63.1578947368421\n",
      "Loss, accuracy, val loss, val acc at epoch 26 tensor(1.9437) 73.84615384615385 tensor(2.2055) 63.1578947368421\n",
      "Loss, accuracy, val loss, val acc at epoch 27 tensor(1.9301) 74.28571428571429 tensor(2.1920) 63.1578947368421\n",
      "Loss, accuracy, val loss, val acc at epoch 28 tensor(1.9261) 75.16483516483517 tensor(2.1773) 63.1578947368421\n",
      "Loss, accuracy, val loss, val acc at epoch 29 tensor(1.9048) 76.48351648351648 tensor(2.1641) 64.91228070175438\n",
      "Loss, accuracy, val loss, val acc at epoch 30 tensor(1.8754) 76.92307692307693 tensor(2.1491) 64.91228070175438\n",
      "Loss, accuracy, val loss, val acc at epoch 31 tensor(1.8499) 77.36263736263737 tensor(2.1347) 64.91228070175438\n",
      "Loss, accuracy, val loss, val acc at epoch 32 tensor(1.8277) 77.80219780219781 tensor(2.1192) 64.91228070175438\n",
      "Loss, accuracy, val loss, val acc at epoch 33 tensor(1.8041) 78.9010989010989 tensor(2.1039) 64.91228070175438\n",
      "Loss, accuracy, val loss, val acc at epoch 34 tensor(1.8185) 79.12087912087912 tensor(2.0870) 68.42105263157895\n",
      "Loss, accuracy, val loss, val acc at epoch 35 tensor(1.7754) 79.78021978021978 tensor(2.0707) 68.42105263157895\n",
      "Loss, accuracy, val loss, val acc at epoch 36 tensor(1.7402) 81.0989010989011 tensor(2.0547) 68.42105263157895\n",
      "Loss, accuracy, val loss, val acc at epoch 37 tensor(1.7427) 81.31868131868131 tensor(2.0375) 68.42105263157895\n",
      "Loss, accuracy, val loss, val acc at epoch 38 tensor(1.7059) 81.97802197802197 tensor(2.0210) 70.17543859649122\n",
      "Loss, accuracy, val loss, val acc at epoch 39 tensor(1.6886) 82.19780219780219 tensor(2.0028) 70.17543859649122\n",
      "Loss, accuracy, val loss, val acc at epoch 40 tensor(1.6814) 83.07692307692308 tensor(1.9838) 70.17543859649122\n",
      "Loss, accuracy, val loss, val acc at epoch 41 tensor(1.6635) 83.73626373626374 tensor(1.9651) 70.17543859649122\n",
      "Loss, accuracy, val loss, val acc at epoch 42 tensor(1.6312) 84.17582417582418 tensor(1.9463) 70.17543859649122\n",
      "Loss, accuracy, val loss, val acc at epoch 43 tensor(1.5979) 84.3956043956044 tensor(1.9276) 70.17543859649122\n",
      "Loss, accuracy, val loss, val acc at epoch 44 tensor(1.5949) 85.27472527472527 tensor(1.9090) 71.9298245614035\n",
      "Loss, accuracy, val loss, val acc at epoch 45 tensor(1.5608) 85.71428571428571 tensor(1.8887) 73.68421052631578\n",
      "Loss, accuracy, val loss, val acc at epoch 46 tensor(1.5126) 86.37362637362638 tensor(1.8712) 73.68421052631578\n",
      "Loss, accuracy, val loss, val acc at epoch 47 tensor(1.5130) 86.81318681318682 tensor(1.8528) 73.68421052631578\n",
      "Loss, accuracy, val loss, val acc at epoch 48 tensor(1.4851) 87.03296703296704 tensor(1.8352) 73.68421052631578\n",
      "Loss, accuracy, val loss, val acc at epoch 49 tensor(1.4564) 87.25274725274726 tensor(1.8172) 73.68421052631578\n",
      "Loss, accuracy, val loss, val acc at epoch 50 tensor(1.4475) 87.25274725274726 tensor(1.7978) 75.43859649122807\n",
      "Loss, accuracy, val loss, val acc at epoch 51 tensor(1.3978) 87.91208791208791 tensor(1.7797) 75.43859649122807\n",
      "Loss, accuracy, val loss, val acc at epoch 52 tensor(1.3829) 88.13186813186813 tensor(1.7631) 77.19298245614034\n",
      "Loss, accuracy, val loss, val acc at epoch 53 tensor(1.3996) 88.13186813186813 tensor(1.7450) 78.94736842105263\n",
      "Loss, accuracy, val loss, val acc at epoch 54 tensor(1.3819) 88.57142857142857 tensor(1.7283) 78.94736842105263\n",
      "Loss, accuracy, val loss, val acc at epoch 55 tensor(1.3166) 88.79120879120879 tensor(1.7126) 78.94736842105263\n",
      "Loss, accuracy, val loss, val acc at epoch 56 tensor(1.3298) 89.01098901098901 tensor(1.6977) 80.7017543859649\n",
      "Loss, accuracy, val loss, val acc at epoch 57 tensor(1.2850) 89.23076923076924 tensor(1.6837) 80.7017543859649\n",
      "Loss, accuracy, val loss, val acc at epoch 58 tensor(1.2925) 89.23076923076924 tensor(1.6701) 80.7017543859649\n",
      "Loss, accuracy, val loss, val acc at epoch 59 tensor(1.2663) 89.23076923076924 tensor(1.6568) 80.7017543859649\n",
      "Loss, accuracy, val loss, val acc at epoch 60 tensor(1.2869) 89.8901098901099 tensor(1.6433) 80.7017543859649\n",
      "Loss, accuracy, val loss, val acc at epoch 61 tensor(1.2576) 90.10989010989012 tensor(1.6308) 80.7017543859649\n",
      "Loss, accuracy, val loss, val acc at epoch 62 tensor(1.1909) 90.54945054945055 tensor(1.6190) 80.7017543859649\n",
      "Loss, accuracy, val loss, val acc at epoch 63 tensor(1.2060) 90.76923076923077 tensor(1.6083) 84.21052631578947\n",
      "Loss, accuracy, val loss, val acc at epoch 64 tensor(1.2068) 91.20879120879121 tensor(1.5995) 85.96491228070175\n",
      "Loss, accuracy, val loss, val acc at epoch 65 tensor(1.1685) 91.64835164835165 tensor(1.5914) 85.96491228070175\n",
      "Loss, accuracy, val loss, val acc at epoch 66 tensor(1.1610) 91.64835164835165 tensor(1.5836) 85.96491228070175\n",
      "Loss, accuracy, val loss, val acc at epoch 67 tensor(1.1803) 91.86813186813187 tensor(1.5750) 85.96491228070175\n",
      "Loss, accuracy, val loss, val acc at epoch 68 tensor(1.1704) 92.3076923076923 tensor(1.5664) 85.96491228070175\n",
      "Loss, accuracy, val loss, val acc at epoch 69 tensor(1.1284) 92.74725274725274 tensor(1.5599) 85.96491228070175\n",
      "Loss, accuracy, val loss, val acc at epoch 70 tensor(1.1213) 93.18681318681318 tensor(1.5543) 87.71929824561403\n",
      "Loss, accuracy, val loss, val acc at epoch 71 tensor(1.1012) 93.18681318681318 tensor(1.5490) 87.71929824561403\n",
      "Loss, accuracy, val loss, val acc at epoch 72 tensor(1.0806) 93.4065934065934 tensor(1.5438) 87.71929824561403\n",
      "Loss, accuracy, val loss, val acc at epoch 73 tensor(1.1506) 93.4065934065934 tensor(1.5364) 87.71929824561403\n",
      "Loss, accuracy, val loss, val acc at epoch 74 tensor(1.0972) 93.4065934065934 tensor(1.5317) 89.47368421052632\n",
      "Loss, accuracy, val loss, val acc at epoch 75 tensor(1.1036) 93.4065934065934 tensor(1.5272) 91.22807017543859\n",
      "Loss, accuracy, val loss, val acc at epoch 76 tensor(1.1166) 93.4065934065934 tensor(1.5228) 91.22807017543859\n",
      "Loss, accuracy, val loss, val acc at epoch 77 tensor(1.0941) 93.4065934065934 tensor(1.5188) 92.98245614035088\n",
      "Loss, accuracy, val loss, val acc at epoch 78 tensor(1.0995) 93.4065934065934 tensor(1.5145) 92.98245614035088\n",
      "Loss, accuracy, val loss, val acc at epoch 79 tensor(1.0704) 93.62637362637362 tensor(1.5118) 94.73684210526315\n",
      "Loss, accuracy, val loss, val acc at epoch 80 tensor(1.0464) 93.84615384615384 tensor(1.5092) 94.73684210526315\n"
     ]
    },
    {
     "name": "stdout",
     "output_type": "stream",
     "text": [
      "Loss, accuracy, val loss, val acc at epoch 81 tensor(1.0633) 94.06593406593406 tensor(1.5064) 96.49122807017544\n",
      "Loss, accuracy, val loss, val acc at epoch 82 tensor(1.0814) 93.84615384615384 tensor(1.5039) 96.49122807017544\n",
      "Loss, accuracy, val loss, val acc at epoch 83 tensor(1.1004) 94.28571428571428 tensor(1.5004) 96.49122807017544\n",
      "Loss, accuracy, val loss, val acc at epoch 84 tensor(1.0585) 94.5054945054945 tensor(1.4979) 96.49122807017544\n",
      "Loss, accuracy, val loss, val acc at epoch 85 tensor(1.0510) 94.72527472527472 tensor(1.4959) 96.49122807017544\n",
      "Loss, accuracy, val loss, val acc at epoch 86 tensor(1.0217) 94.72527472527472 tensor(1.4934) 96.49122807017544\n",
      "Loss, accuracy, val loss, val acc at epoch 87 tensor(1.0306) 94.72527472527472 tensor(1.4914) 96.49122807017544\n",
      "Loss, accuracy, val loss, val acc at epoch 88 tensor(1.0116) 94.72527472527472 tensor(1.4882) 96.49122807017544\n",
      "Loss, accuracy, val loss, val acc at epoch 89 tensor(1.0429) 94.94505494505493 tensor(1.4872) 96.49122807017544\n",
      "Loss, accuracy, val loss, val acc at epoch 90 tensor(1.0663) 94.94505494505493 tensor(1.4857) 96.49122807017544\n",
      "Loss, accuracy, val loss, val acc at epoch 91 tensor(0.9890) 94.94505494505493 tensor(1.4839) 96.49122807017544\n",
      "Loss, accuracy, val loss, val acc at epoch 92 tensor(1.0141) 94.72527472527472 tensor(1.4824) 96.49122807017544\n",
      "Loss, accuracy, val loss, val acc at epoch 93 tensor(1.0809) 94.94505494505493 tensor(1.4808) 96.49122807017544\n",
      "Loss, accuracy, val loss, val acc at epoch 94 tensor(1.0079) 95.16483516483515 tensor(1.4792) 96.49122807017544\n",
      "Loss, accuracy, val loss, val acc at epoch 95 tensor(1.0396) 95.38461538461539 tensor(1.4780) 96.49122807017544\n",
      "Loss, accuracy, val loss, val acc at epoch 96 tensor(0.9946) 95.38461538461539 tensor(1.4757) 96.49122807017544\n",
      "Loss, accuracy, val loss, val acc at epoch 97 tensor(1.0008) 95.38461538461539 tensor(1.4747) 96.49122807017544\n",
      "Loss, accuracy, val loss, val acc at epoch 98 tensor(1.0162) 95.38461538461539 tensor(1.4735) 96.49122807017544\n",
      "Loss, accuracy, val loss, val acc at epoch 99 tensor(0.9898) 95.82417582417582 tensor(1.4733) 96.49122807017544\n",
      "Loss, accuracy, val loss, val acc at epoch 100 tensor(0.9806) 95.82417582417582 tensor(1.4724) 96.49122807017544\n",
      "CPU times: user 7.12 s, sys: 97.7 ms, total: 7.21 s\n",
      "Wall time: 3.61 s\n"
     ]
    }
   ],
   "source": [
    "%%time\n",
    "history = { \"loss\": [], \"accuracy\": [], \"loss_val\": [], \"accuracy_val\": [] }\n",
    "\n",
    "for epoch in range(epochs):\n",
    "\n",
    "    epoch +=1\n",
    "    correct = 0\n",
    "    model_loss_epoch = 0\n",
    "    for batch_idx, (minibatch, data_target) in enumerate(train_loader):\n",
    "        # Train Model\n",
    "        optimiser.zero_grad()\n",
    "        model_pred = model(minibatch)\n",
    "        prediction = [1 if x > 0.5 else 0 for x in model_pred.data.numpy()]\n",
    "        correct += (prediction == data_target.numpy()).sum()\n",
    "        \n",
    "        \n",
    "        model_loss = criterion(model_pred, data_target)\n",
    "        model_loss.backward()\n",
    "\n",
    "        optimiser.step()\n",
    "        model_loss_epoch += model_loss.data\n",
    "           \n",
    "    \n",
    "    history[\"loss\"].append(model_loss_epoch/len(train_loader.dataset)*100)        \n",
    "    history[\"accuracy\"].append(correct / len(train_loader.dataset)*100)\n",
    "    model.eval()\n",
    "    model_loss_val = 0\n",
    "    correct_val = 0\n",
    "    with torch.no_grad():\n",
    "        for batch_idx1, (minibatch_val, data_target_val) in enumerate(val_loader):\n",
    "            # Validation test \n",
    "            model_pred = model(minibatch_val)\n",
    "            prediction = [1 if x > 0.5 else 0 for x in model_pred.data.numpy()]\n",
    "            correct_val += (prediction == data_target_val.numpy()).sum()\n",
    "            model_loss_val += criterion(model_pred, data_target_val)\n",
    "\n",
    "\n",
    "    history[\"loss_val\"].append(model_loss_val/len(val_loader.dataset)*100)        \n",
    "    history[\"accuracy_val\"].append(correct_val / len(val_loader.dataset)*100)\n",
    "    print(\"Loss, accuracy, val loss, val acc at epoch\", epoch ,history[\"loss\"][-1], \n",
    "          history[\"accuracy\"][-1], history[\"loss_val\"][-1], \n",
    "          history[\"accuracy_val\"][-1] )"
   ]
  },
  {
   "cell_type": "code",
   "execution_count": 24,
   "metadata": {},
   "outputs": [
    {
     "name": "stdout",
     "output_type": "stream",
     "text": [
      "94.73684210526315\n"
     ]
    }
   ],
   "source": [
    "correct = 0\n",
    "for batch_idx, (minibatch, data_target) in enumerate(test_loader):\n",
    "    # Train minibach\n",
    "    optimiser.zero_grad()\n",
    "    model_pred = model(minibatch)\n",
    "    prediction = [1 if x > 0.5 else 0 for x in model_pred.data.numpy()]\n",
    "    correct += (prediction == data_target.numpy()).sum()\n",
    "    \n",
    "print(correct/len(test_loader.dataset)*100)\n"
   ]
  },
  {
   "cell_type": "code",
   "execution_count": 25,
   "metadata": {},
   "outputs": [
    {
     "data": {
      "image/png": "[encoded data removed]",
      "text/plain": [
       "<Figure size 432x288 with 1 Axes>"
      ]
     },
     "metadata": {
      "needs_background": "light"
     },
     "output_type": "display_data"
    }
   ],
   "source": [
    "plt.plot(history['accuracy'])\n",
    "plt.plot(history['accuracy_val'])\n",
    "plt.title('Model accuracy')\n",
    "plt.ylabel('accuracy')\n",
    "plt.xlabel('epoch')\n",
    "plt.legend(['train', 'test'], loc='upper left')\n",
    "plt.show()"
   ]
  },
  {
   "cell_type": "code",
   "execution_count": 26,
   "metadata": {},
   "outputs": [
    {
     "data": {
      "image/png": "[encoded data removed]",
      "text/plain": [
       "<Figure size 432x288 with 1 Axes>"
      ]
     },
     "metadata": {
      "needs_background": "light"
     },
     "output_type": "display_data"
    }
   ],
   "source": [
    "plt.plot(history['loss'])\n",
    "plt.plot(history['loss_val'])\n",
    "plt.title('Model loss')\n",
    "plt.ylabel('loss')\n",
    "plt.xlabel('epoch')\n",
    "plt.legend(['train', 'test'], loc='upper left')\n",
    "plt.show()"
   ]
  },
  {
   "cell_type": "code",
   "execution_count": null,
   "metadata": {},
   "outputs": [],
   "source": []
  },
  {
   "cell_type": "code",
   "execution_count": null,
   "metadata": {},
   "outputs": [],
   "source": []
  },
  {
   "cell_type": "code",
   "execution_count": null,
   "metadata": {},
   "outputs": [],
   "source": []
  }
 ],
 "metadata": {
  "kernelspec": {
   "display_name": "Python 3",
   "language": "python",
   "name": "python3"
  },
  "language_info": {
   "codemirror_mode": {
    "name": "ipython",
    "version": 3
   },
   "file_extension": ".py",
   "mimetype": "text/x-python",
   "name": "python",
   "nbconvert_exporter": "python",
   "pygments_lexer": "ipython3",
   "version": "3.7.1"
  }
 },
 "nbformat": 4,
 "nbformat_minor": 2
}

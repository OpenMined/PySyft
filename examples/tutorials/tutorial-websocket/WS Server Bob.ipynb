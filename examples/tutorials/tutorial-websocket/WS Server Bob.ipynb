{
 "cells": [
  {
   "cell_type": "markdown",
   "metadata": {
    "colab_type": "text",
    "id": "lrcghOJOWGHw"
   },
   "source": [
    "# WebsocketServerWorker Tutorial\n",
    "\n",
    "This tutorial is a 2 notebook tutorial. The partner notebook is the notebook entitled SocketWorker Client.ipynb and is in the same folder as this notebook. You should execute this notebook BEFORE the other.\n",
    "\n",
    "In this tutorial, we'll demonstrate how to launch a WebsocketWorker server which will listen for PyTorch commands over a socket connection. In this tutorial, the two workers are connected via a socket connection on the localhost network.\n",
    "\n",
    "If you'd prefer to download this notebook and run it locally on your machine, you can do so via the `Download .ipynb` in the `File` dropdown field in this Google colab environment. "
   ]
  },
  {
   "cell_type": "code",
   "execution_count": 1,
   "metadata": {
    "colab": {},
    "colab_type": "code",
    "id": "M5CgFFBbWGHy"
   },
   "outputs": [
    {
     "ename": "NameError",
     "evalue": "name 'WebsocketClientWorker' is not defined",
     "output_type": "error",
     "traceback": [
      "\u001b[0;31m---------------------------------------------------------------------------\u001b[0m",
      "\u001b[0;31mNameError\u001b[0m                                 Traceback (most recent call last)",
      "\u001b[0;32m<ipython-input-1-e7b18091abe1>\u001b[0m in \u001b[0;36m<module>\u001b[0;34m\u001b[0m\n\u001b[1;32m     13\u001b[0m )\n\u001b[1;32m     14\u001b[0m \u001b[0;34m\u001b[0m\u001b[0m\n\u001b[0;32m---> 15\u001b[0;31m alice = WebsocketClientWorker(\n\u001b[0m\u001b[1;32m     16\u001b[0m                             \u001b[0mhost\u001b[0m \u001b[0;34m=\u001b[0m \u001b[0;34m'localhost'\u001b[0m\u001b[0;34m,\u001b[0m\u001b[0;34m\u001b[0m\u001b[0m\n\u001b[1;32m     17\u001b[0m                             \u001b[0mhook\u001b[0m\u001b[0;34m=\u001b[0m\u001b[0mhook\u001b[0m\u001b[0;34m,\u001b[0m\u001b[0;34m\u001b[0m\u001b[0m\n",
      "\u001b[0;31mNameError\u001b[0m: name 'WebsocketClientWorker' is not defined"
     ]
    }
   ],
   "source": [
    "import syft as sy\n",
    "import torch\n",
    "hook = sy.TorchHook(torch)\n",
    "\n",
    "from syft.workers.websocket_server import WebsocketServerWorker\n",
    "\n",
    "local_worker = WebsocketServerWorker(\n",
    "                            host=\"localhost\",\n",
    "                            hook=hook,\n",
    "                            id='bob',\n",
    "                            port=8183,\n",
    "                            verbose=True\n",
    ")\n",
    "\n",
    "alice = WebsocketClientWorker(\n",
    "                            host = 'localhost',\n",
    "                            hook=hook,\n",
    "                            id='alice', \n",
    "                            port=8182)\n",
    "\n",
    "local_worker.start()  # Might need to interrupt with `CTRL-C` or some other means"
   ]
  },
  {
   "cell_type": "code",
   "execution_count": null,
   "metadata": {},
   "outputs": [],
   "source": []
  },
  {
   "cell_type": "code",
   "execution_count": null,
   "metadata": {},
   "outputs": [],
   "source": []
  },
  {
   "cell_type": "code",
   "execution_count": null,
   "metadata": {},
   "outputs": [],
   "source": []
  },
  {
   "cell_type": "code",
   "execution_count": null,
   "metadata": {},
   "outputs": [],
   "source": []
  },
  {
   "cell_type": "code",
   "execution_count": 6,
   "metadata": {
    "colab": {
     "base_uri": "https://localhost:8080/",
     "height": 487
    },
    "colab_type": "code",
    "id": "UCQWp2F6WGH9",
    "outputId": "ed98cb4d-41ed-4d24-d7d2-2cce68013207"
   },
   "outputs": [
    {
     "data": {
      "text/plain": [
       "'{}'"
      ]
     },
     "execution_count": 6,
     "metadata": {},
     "output_type": "execute_result"
    }
   ],
   "source": [
    "local_worker.list_objects()"
   ]
  },
  {
   "cell_type": "code",
   "execution_count": null,
   "metadata": {
    "colab": {},
    "colab_type": "code",
    "id": "ig_Mgk8YWGH-"
   },
   "outputs": [],
   "source": [
    "local_worker.objects_count()"
   ]
  },
  {
   "cell_type": "code",
   "execution_count": null,
   "metadata": {},
   "outputs": [],
   "source": [
    "local_worker.host"
   ]
  },
  {
   "cell_type": "code",
   "execution_count": null,
   "metadata": {
    "colab": {},
    "colab_type": "code",
    "id": "Cf8c9o3ZWGIB"
   },
   "outputs": [],
   "source": [
    "local_worker.port"
   ]
  },
  {
   "cell_type": "code",
   "execution_count": null,
   "metadata": {},
   "outputs": [],
   "source": []
  }
 ],
 "metadata": {
  "colab": {
   "collapsed_sections": [],
   "name": "SocketWorker Server.ipynb",
   "provenance": [],
   "version": "0.3.2"
  },
  "kernelspec": {
   "display_name": "Python 3",
   "language": "python",
   "name": "python3"
  }
 },
 "nbformat": 4,
 "nbformat_minor": 4
}

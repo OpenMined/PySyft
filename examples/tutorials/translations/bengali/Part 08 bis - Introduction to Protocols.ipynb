{
  "nbformat": 4,
  "nbformat_minor": 0,
  "metadata": {
    "kernelspec": {
      "display_name": "Python 3",
      "language": "python",
      "name": "python3"
    },
    "language_info": {
      "codemirror_mode": {
        "name": "ipython",
        "version": 3
      },
      "file_extension": ".py",
      "mimetype": "text/x-python",
      "name": "python",
      "nbconvert_exporter": "python",
      "pygments_lexer": "ipython3",
      "version": "3.7.4"
    },
    "colab": {
      "name": "Part 08 bis - Introduction to Protocols.ipynb",
      "provenance": [],
      "collapsed_sections": []
    }
  },
  "cells": [
    {
      "cell_type": "markdown",
      "metadata": {
        "id": "X-jO6rRTldjg",
        "colab_type": "text"
      },
      "source": [
        "# Part 8 পুনর্বার প্রোটোকল পরিচয় (bis - Introduction to Protocols)\n",
        "\n",
        "### প্রসঙ্গ (Context) \n",
        "\n",
        "এখন যেহেতু আমরা Plan পেছনে ফেলে এসেছি, আমরা প্রোটোকল নামে একটি নতুন অবজেক্ট-এর সাথে পরিচিত হবো। একটি প্রোটোকল Plan-এর ক্রম সমন্বয় করে, সেগুলি দূরবর্তী কর্মীদের উপর স্থাপন করে এবং তাদের একক পাসে চালিত করে।\n",
        "\n",
        "এটি একটি উচ্চ স্তরের অবজেক্ট যা একটি জটিল গণনার যুক্তি যুক্ত করে\n",
        "বিভিন্ন শ্রমিক জুড়ে বিতরণ। প্রোটোকলের প্রধান বৈশিষ্ট্য হলো শ্রমিকদের মধ্যে\n",
        "প্রেরণ / অনুসন্ধান / ফেরত পাঠানোর ক্ষমতা এবং শেষে\n",
        "চিহ্নিত কর্মীদের কাছে ডিপ্লয় করা। সুতরাং কোনও ব্যবহারকারী একটি প্রোটোকল ডিজাইন করতে পারেন, এটি আপলোড করতে পারেন\n",
        "কোনও ক্লাউড কর্মীর কাছে এবং অন্য যে কোনও শ্রমিকরা এটি অনুসন্ধান করতে সক্ষম হবেন,\n",
        "এটি ডাউনলোড করতে পারবে, এবং এটি যে কর্মীদের সাথে সংযুক্ত তাদের উপর থাকা গণনা প্রোগ্রামটি প্রয়োগ করতে পারে।\n",
        "\n",
        "আসুন দেখি কীভাবে এটি ব্যবহার করবেন।\n",
        "\n",
        "Authors:\n",
        "- Théo Ryffel - Twitter [@theoryffel](https://twitter.com/theoryffel) - GitHub: [@LaRiffle](https://github.com/LaRiffle)"
      ]
    },
    {
      "cell_type": "markdown",
      "metadata": {
        "id": "atlIjnqHldji",
        "colab_type": "text"
      },
      "source": [
        "অনুবাদক:\n",
        "\n",
        "- Sourav Das - Twitter: [@adventuroussrv](https://twitter.com/adventuroussrv)\n",
        "- Mir Mohammad Jaber - Twitter [@jabertuhin](https://twitter.com/jabertuhin)"
      ]
    },
    {
      "cell_type": "markdown",
      "metadata": {
        "id": "9Fd0xIgdldjk",
        "colab_type": "text"
      },
      "source": [
        "### 1. তৈরি করুন এবং মোতায়েন করুন (Create and deploy)"
      ]
    },
    {
      "cell_type": "markdown",
      "metadata": {
        "id": "rwCN7wPDldjp",
        "colab_type": "text"
      },
      "source": [
        "প্রোটোকল জোড়াগুলির তালিকা`(worker, plan)` সরবরাহ করে তৈরি করা হয়। `worker` বাস্তব কর্মী হতে পারে বা একটি কর্মী আইডি বা একটি কল্পিত কর্মীর প্রতিনিধিত্ব করার জন্য একটি স্ট্রিং। শেষের ঘটনাটির ব্যবহার হতে পারে তৈরির সময় সুনির্দিষ্ট করে বলার জন্য যে ডিপ্লয়মেন্টে দু'টি Plan অবশ্যই একই মালিকানাধীন (অথবা না) । `plan` একটি পরিকল্পনা বা একটি পয়েন্টারপ্ল্যান হতে পারে।"
      ]
    },
    {
      "cell_type": "code",
      "metadata": {
        "id": "A5r7Z5h9ldjt",
        "colab_type": "code",
        "colab": {}
      },
      "source": [
        "import torch as th\n",
        "import syft as sy\n",
        "hook = sy.TorchHook(th)\n",
        "\n",
        "# IMPORTANT: Local worker should not be a client worker\n",
        "hook.local_worker.is_client_worker = False"
      ],
      "execution_count": 0,
      "outputs": []
    },
    {
      "cell_type": "markdown",
      "metadata": {
        "id": "-amtjsecldj9",
        "colab_type": "text"
      },
      "source": [
        "আসুন ৩ টি পরিকল্পনা সংজ্ঞায়িত করি এবং এগুলি একটি প্রোটোকলে ফিড করি। তারা সবাই একটি ইনক্রিমেন্ট অপারেশন করে।"
      ]
    },
    {
      "cell_type": "code",
      "metadata": {
        "id": "8PWmNX_mldkA",
        "colab_type": "code",
        "colab": {}
      },
      "source": [
        "@sy.func2plan(args_shape=[(1,)])\n",
        "def inc1(x):\n",
        "    return x + 1\n",
        "\n",
        "@sy.func2plan(args_shape=[(1,)])\n",
        "def inc2(x):\n",
        "    return x + 1\n",
        "\n",
        "@sy.func2plan(args_shape=[(1,)])\n",
        "def inc3(x):\n",
        "    return x + 1\n",
        "\n",
        "protocol = sy.Protocol([(\"worker1\", inc1), (\"worker2\", inc2), (\"worker3\", inc3)])"
      ],
      "execution_count": 0,
      "outputs": []
    },
    {
      "cell_type": "markdown",
      "metadata": {
        "id": "4SEcPZK-ldkH",
        "colab_type": "text"
      },
      "source": [
        "এখন আমাদের কর্মীদের সাথে প্রোটোকলটি যুক্ত করতে হবে, যা `.deploy(*workers)` কল করে করা হয়। আসুন কিছু কর্মী তৈরি করা যাক।"
      ]
    },
    {
      "cell_type": "code",
      "metadata": {
        "id": "fgytcPT6ldkI",
        "colab_type": "code",
        "colab": {}
      },
      "source": [
        "bob = sy.VirtualWorker(hook, id=\"bob\")\n",
        "alice = sy.VirtualWorker(hook, id=\"alice\")\n",
        "charlie = sy.VirtualWorker(hook, id=\"charlie\")"
      ],
      "execution_count": 0,
      "outputs": []
    },
    {
      "cell_type": "code",
      "metadata": {
        "id": "1_bJaGINldkW",
        "colab_type": "code",
        "colab": {}
      },
      "source": [
        "workers = alice, bob, charlie\n",
        "\n",
        "protocol.deploy(*workers)"
      ],
      "execution_count": 0,
      "outputs": []
    },
    {
      "cell_type": "markdown",
      "metadata": {
        "id": "t7nWo79Gldkg",
        "colab_type": "text"
      },
      "source": [
        "আপনি দেখতে পাচ্ছেন যে Plans ইতিমধ্যে উপযুক্ত কর্মীদের কাছে প্রেরণ করা হয়েছে: এটি মোতায়েন করা হয়েছে!\n",
        "\n",
        "এটি ২ টি পর্যায়ক্রমে করা হয়েছে: প্রথমে আমরা শুরুতে/সৃষ্টিতে(স্ট্রিং দ্বারা নামযুক্ত) প্রদত্ত কল্পিত শ্রমিকদের ম্যাপ করি সরবরাহকারী কর্মীদের সাথে, এবং দ্বিতীয়টি, আমরা সংশ্লিষ্ট Plan তাদের প্রত্যেকের কাছে প্রেরণ করি।"
      ]
    },
    {
      "cell_type": "markdown",
      "metadata": {
        "id": "CZC7px1xldkj",
        "colab_type": "text"
      },
      "source": [
        "### 2. একটি প্রোটোকল চালানো (Run a protocol)\n",
        "\n",
        "প্রোটোকল চালানো মানে সমস্ত Plan ক্রমান্বয়ে সম্পাদন করা। এটি করতে, আপনি কিছু ইনপুট ডেটা সরবরাহ করেন যা প্রথম পরিকল্পনার স্থানে প্রেরণ করা হয়। এই প্রথম পরিকল্পনা রান করুন এবং এর আউটপুট দ্বিতীয় পরিকল্পনার স্থানে সরানো হয় এবং এভাবে চলতে থাকবে। সব Plan চালানোর পরে চূড়ান্ত ফলাফল রিটার্ন করে এবং তা সর্বশেষ Plan এর লোকেশন সম্বলিত হয়।"
      ]
    },
    {
      "cell_type": "code",
      "metadata": {
        "id": "rA5O9gezldkm",
        "colab_type": "code",
        "colab": {}
      },
      "source": [
        "x = th.tensor([1.0])\n",
        "ptr = protocol.run(x)\n",
        "ptr"
      ],
      "execution_count": 0,
      "outputs": []
    },
    {
      "cell_type": "code",
      "metadata": {
        "id": "WKrlnsHMldkt",
        "colab_type": "code",
        "colab": {}
      },
      "source": [
        "ptr.get()"
      ],
      "execution_count": 0,
      "outputs": []
    },
    {
      "cell_type": "markdown",
      "metadata": {
        "id": "_HirNjY6ldky",
        "colab_type": "text"
      },
      "source": [
        "ইনপুট 1.0 টি ৩ টি Plan এর মধ্যে দিয়ে গেছে এবং তাই এটি ৩ বার বৃদ্ধি পেয়েছে।। যার কারণেই এটি এখন 4.0 এর সমান!"
      ]
    },
    {
      "cell_type": "markdown",
      "metadata": {
        "id": "uGQtdZsoldkz",
        "colab_type": "text"
      },
      "source": [
        "প্রকৃতপক্ষে, আপনি ডেটাতে কিছু পয়েন্টারে রিমোট **একটি প্রোটোকল চালাতে পারেন**:"
      ]
    },
    {
      "cell_type": "code",
      "metadata": {
        "id": "iantcEGOldk0",
        "colab_type": "code",
        "colab": {}
      },
      "source": [
        "james = sy.VirtualWorker(hook, id=\"james\")"
      ],
      "execution_count": 0,
      "outputs": []
    },
    {
      "cell_type": "code",
      "metadata": {
        "id": "Sfm9FS4_ldlC",
        "colab_type": "code",
        "colab": {}
      },
      "source": [
        "protocol.send(james)"
      ],
      "execution_count": 0,
      "outputs": []
    },
    {
      "cell_type": "code",
      "metadata": {
        "id": "3Jhsx4YSldlM",
        "colab_type": "code",
        "colab": {}
      },
      "source": [
        "x = th.tensor([1.0]).send(james)\n",
        "ptr = protocol.run(x)\n",
        "ptr"
      ],
      "execution_count": 0,
      "outputs": []
    },
    {
      "cell_type": "markdown",
      "metadata": {
        "id": "i0_9LyZ0ldlY",
        "colab_type": "text"
      },
      "source": [
        "আপনি দেখতে পান ফলাফলটি জেমসের পয়েন্টার"
      ]
    },
    {
      "cell_type": "code",
      "metadata": {
        "id": "r3ChkBOwldla",
        "colab_type": "code",
        "colab": {}
      },
      "source": [
        "ptr = ptr.get()\n",
        "ptr"
      ],
      "execution_count": 0,
      "outputs": []
    },
    {
      "cell_type": "code",
      "metadata": {
        "id": "nbWHr4Ohldlg",
        "colab_type": "code",
        "colab": {}
      },
      "source": [
        "ptr = ptr.get()\n",
        "ptr"
      ],
      "execution_count": 0,
      "outputs": []
    },
    {
      "cell_type": "markdown",
      "metadata": {
        "id": "yCpRs3kYldlq",
        "colab_type": "text"
      },
      "source": [
        "### 3. একটি প্রোটোকল অনুসন্ধান করুন (Search for a protocol)\n",
        "\n",
        "আসল সেটিংসে আপনি একটি রিমোট প্রোটোকল ডাউনলোড করতে, এটি আপনার কর্মীদের উপর স্থাপন এবং এটি আপনার ডেটাতে চালাতে চাইতে পারেন"
      ]
    },
    {
      "cell_type": "markdown",
      "metadata": {
        "id": "TAgsSvwsldly",
        "colab_type": "text"
      },
      "source": [
        "আসুন একটি প্রোটোকল শুরু করুন **যা নিযুক্ত নয়**, এবং এটি একটি দূরবর্তী কর্মীর উপর রাখি"
      ]
    },
    {
      "cell_type": "code",
      "metadata": {
        "id": "dXxCc2U0ldl0",
        "colab_type": "code",
        "colab": {}
      },
      "source": [
        "protocol = sy.Protocol([(\"worker1\", inc1), (\"worker2\", inc2), (\"worker3\", inc3)])\n",
        "protocol.tag('my_protocol')\n",
        "protocol.send(james)"
      ],
      "execution_count": 0,
      "outputs": []
    },
    {
      "cell_type": "code",
      "metadata": {
        "id": "c_ADVtoyldl7",
        "colab_type": "code",
        "colab": {}
      },
      "source": [
        "me = sy.hook.local_worker # get access to me as a local worker"
      ],
      "execution_count": 0,
      "outputs": []
    },
    {
      "cell_type": "markdown",
      "metadata": {
        "id": "F4hZIHd8ldmJ",
        "colab_type": "text"
      },
      "source": [
        "প্রোটোকলটি খুঁজতে এখন আমরা একটি অনুসন্ধান শুরু করি"
      ]
    },
    {
      "cell_type": "code",
      "metadata": {
        "id": "0O_sIX7aldmL",
        "colab_type": "code",
        "colab": {}
      },
      "source": [
        "responses = me.request_search(['my_protocol'], location=james)\n",
        "responses"
      ],
      "execution_count": 0,
      "outputs": []
    },
    {
      "cell_type": "markdown",
      "metadata": {
        "id": "XioUgyEsldmU",
        "colab_type": "text"
      },
      "source": [
        "আপনার প্রোটোকলের একটি পয়েন্টারে অ্যাক্সেস রয়েছে"
      ]
    },
    {
      "cell_type": "code",
      "metadata": {
        "id": "5r-IegE4ldmX",
        "colab_type": "code",
        "colab": {}
      },
      "source": [
        "ptr_protocol = responses[0]"
      ],
      "execution_count": 0,
      "outputs": []
    },
    {
      "cell_type": "markdown",
      "metadata": {
        "id": "uc67-vt6ldmc",
        "colab_type": "text"
      },
      "source": [
        "সাধারণ পয়েন্টারের মতো আপনি এটিকে ফিরে পেতে পারেন"
      ]
    },
    {
      "cell_type": "code",
      "metadata": {
        "id": "829SJ01xldmo",
        "colab_type": "code",
        "colab": {}
      },
      "source": [
        "protocol_back = ptr_protocol.get()\n",
        "protocol_back"
      ],
      "execution_count": 0,
      "outputs": []
    },
    {
      "cell_type": "markdown",
      "metadata": {
        "id": "sNwFPGHgldmt",
        "colab_type": "text"
      },
      "source": [
        "এবং আমরা অংশ ১ এবং ২ এর মতো কাজ করতে পারি।"
      ]
    },
    {
      "cell_type": "code",
      "metadata": {
        "id": "RVyu6Yj7ldmu",
        "colab_type": "code",
        "colab": {}
      },
      "source": [
        "protocol_back.deploy(alice, bob, charlie)\n",
        "\n",
        "x = th.tensor([1.0])\n",
        "ptr = protocol_back.run(x)\n",
        "ptr.get()"
      ],
      "execution_count": 0,
      "outputs": []
    },
    {
      "cell_type": "markdown",
      "metadata": {
        "id": "VBWSRg0aldm4",
        "colab_type": "text"
      },
      "source": [
        "প্রোটোকল এর সাথে আরও প্রকৃত বিশ্বের উদাহরণগুলি আসবে, তবে আপনি ইতিমধ্যে এই নতুন অবজেক্টের দ্বারা খোলা সমস্ত সম্ভাবনা দেখতে পাচ্ছেন!"
      ]
    },
    {
      "cell_type": "markdown",
      "metadata": {
        "id": "qLjkGd7-ldm7",
        "colab_type": "text"
      },
      "source": [
        "### গিটহাবে পাইসিফ্ট কে স্টার দিন (Star PySyft on GitHub)\n",
        "\n",
        "আমাদের সম্প্রদায়কে সাহায্য করার সবচেয়ে সহজ উপায় হল রিপোসিটোরি গুলোতে ষ্টার করা\n",
        " এটি আমরা যে অসাধারণ সরঞ্জামগুলি তৈরি করছি তার সচেতনতা বাড়াতে সহায়তা করে।\n",
        " \n",
        "- [Star PySyft](https://github.com/OpenMined/PySyft)\n",
        "\n",
        "### গিটহাবে আমাদের টিউটোরিয়ালগুলি চয়ন করুন (Pick our tutorials on GitHub!)\n",
        "\n",
        "ফেডারেটেড এবং প্রাইভেসি-প্রিজারভেভিং লার্নিংয়ের চেহারা কেমন হওয়া উচিত এবং আমরা এটির জন্য ইটগুলি কীভাবে তৈরি করছি সে সম্পর্কে আরও ভাল ধারণা পেতে আমরা সত্যিই দুর্দান্ত টিউটোরিয়াল তৈরি করেছি।\n",
        "\n",
        "- [Checkout the PySyft tutorials](https://github.com/OpenMined/PySyft/tree/master/examples/tutorials)\n",
        "\n",
        "\n",
        "### আমাদের স্ল্যাকে যোগ দিন (Join our Slack!)\n",
        "\n",
        "সর্বশেষতম অগ্রগতিতে আপ টু ডেট রাখার সর্বোত্তম উপায় হ'ল আমাদের সম্প্রদায়ে যোগদান করা!\n",
        "\n",
        "- [Join slack.openmined.org](http://slack.openmined.org)\n",
        "\n",
        "### একটি কোড প্রকল্পে যোগদান করুন! (Join a Code Project!)\n",
        "\n",
        "আমাদের সম্প্রদায়ে অবদান রাখার সর্বোত্তম উপায় হল কোড অবদানকারী হয়ে উঠুন! যে কোনও সময় আপনি পাইসাইফ্ট গিটহাবে ইস্যু পৃষ্ঠাতে যেতে পারেন এবং \"প্রকল্পগুলি\" এর জন্য ফিল্টার করতে পারেন। এটি আপনাকে শীর্ষ স্তরের সমস্ত টিকিট দেখিয়ে দেবে যে আপনি কোন প্রকল্পগুলিতে যোগদান করতে পারেন তার একটি ওভারভিউ দেয়! আপনি যদি কোনও প্রকল্পে যোগ দিতে না চান তবে আপনি কিছুটা কোডিং করতে চান তবে আপনি \"ভাল প্রথম ইস্যু\" চিহ্নিত গিটহাব ইস্যুগুলি অনুসন্ধান করে আরও \"ওয়ান অফ\" মিনি-প্রকল্পগুলির সন্ধান করতে পারেন।\n",
        "\n",
        "- [Good First Issue Tickets](https://github.com/OpenMined/PySyft/issues?q=is%3Aopen+is%3Aissue+label%3A%22good+first+issue%22)\n",
        "\n",
        "### দান করুন (Donate)\n",
        "\n",
        "আপনার যদি আমাদের কোডবেসে অবদান রাখার সময় না থাকে তবে তবুও সমর্থন দিতে চান, আপনি আমাদের ওপেন কালেক্টিভেরও Backer হয়ে উঠতে পারেন। সমস্ত অনুদান আমাদের ওয়েব হোস্টিং এবং অন্যান্য সম্প্রদায় ব্যয় যেমন হ্যাকাথনস এবং মেটআপগুলির (hackathons and meetups!) দিকে যায়!\n",
        "\n",
        "- [Donate through OpenMined's Open Collective Page](https://opencollective.com/openmined)"
      ]
    },
    {
      "cell_type": "code",
      "metadata": {
        "id": "Xfx1Q0sIldm8",
        "colab_type": "code",
        "colab": {}
      },
      "source": [
        ""
      ],
      "execution_count": 0,
      "outputs": []
    }
  ]
}
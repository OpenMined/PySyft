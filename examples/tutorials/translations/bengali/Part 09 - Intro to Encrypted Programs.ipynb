{
  "nbformat": 4,
  "nbformat_minor": 0,
  "metadata": {
    "kernelspec": {
      "display_name": "Python 3",
      "language": "python",
      "name": "python3"
    },
    "language_info": {
      "codemirror_mode": {
        "name": "ipython",
        "version": 3
      },
      "file_extension": ".py",
      "mimetype": "text/x-python",
      "name": "python",
      "nbconvert_exporter": "python",
      "pygments_lexer": "ipython3",
      "version": "3.7.5"
    },
    "colab": {
      "name": "Copy of Part 09 - Intro to Encrypted Programs.ipynb",
      "provenance": [],
      "collapsed_sections": [
        "iCsEff4UskJW",
        "TL3Qyi2WskJq"
      ]
    }
  },
  "cells": [
    {
      "cell_type": "markdown",
      "metadata": {
        "id": "SUESicfoskIg",
        "colab_type": "text"
      },
      "source": [
        "# Part 9 - এঙ্ক্রিপ্টেড প্রোগ্রামগুলির সাথে পরিচয় (Intro to Encrypted Programs)\n",
        "\n",
        "বিশ্বাস করুন বা না করুন, এনক্রিপ্ট করা ডেটা দিয়ে গণনা করা সম্ভব। অন্য কথায়, একটি প্রোগ্রাম চালানো সম্ভব যেখানে প্রোগ্রামের _সমস্ত ভেরিয়েবল_ **এনক্রিপ্টেড**\n",
        "\n",
        "এই টিউটোরিয়ালে, আমরা এনক্রিপ্ট করা গণনার খুব প্রাথমিক সরঞ্জামগুলি দেখবো। বিশেষত, আমরা Secure Multi-Party Computation নামে পরিচিত একটি জনপ্রিয় পদ্ধতির উপর ফোকাস করতে যাচ্ছি। এই পাঠে, আমরা শিখব কীভাবে একটি এনক্রিপ্ট করা ক্যালকুলেটর তৈরি করতে হয়, যা এনক্রিপ্ট হওয়া সংখ্যায় গণনা সম্পাদন করতে পারে।\n",
        "\n",
        "Authors:\n",
        "- Andrew Trask - Twitter: [@iamtrask](https://twitter.com/iamtrask)\n",
        "- Théo Ryffel - GitHub: [@LaRiffle](https://github.com/LaRiffle)\n",
        "\n",
        "References: \n",
        "- Morten Dahl - [Blog](https://mortendahl.github.io) - Twitter: [@mortendahlcs](https://twitter.com/mortendahlcs)"
      ]
    },
    {
      "cell_type": "markdown",
      "metadata": {
        "id": "BJcDL6KTskIh",
        "colab_type": "text"
      },
      "source": [
        "অনুবাদক:\n",
        "\n",
        "- Sourav Das - Twitter: [@adventuroussrv](https://twitter.com/adventuroussrv)\n",
        "- Mir Mohammad Jaber - Twitter: [@jabertuhin](https://twitter.com/jabertuhin)"
      ]
    },
    {
      "cell_type": "markdown",
      "metadata": {
        "id": "hzEXNgJZskIi",
        "colab_type": "text"
      },
      "source": [
        "# Step 1: সুরক্ষিত মাল্টি-পার্টির গণনা ব্যবহার করে এনক্রিপশন (Encryption Using Secure Multi-Party Computation)\n",
        "\n",
        "এসএমপিসি(SMPC) প্রথম নজরে \"এনক্রিপশন\" এর এক অদ্ভুত রূপ। কোনও ভেরিয়েবল এনক্রিপ্ট করার জন্য পাবলিক/প্রাইভেট চাবি(key) ব্যবহার করার পরিবর্তে প্রতিটি মান একাধিক shares-এ বিভক্ত হয়, যার প্রতিটি একটি ব্যক্তিগত চাবি(key) হিসাবে চালিত হয়। সাধারণত, এই shares ২ বা ততোধিক মালিকদের মাঝে বিতরণ করা হবে। সুতরাং, সমস্ত মালিকদের ডিক্রিপশন অনুমোদনের  সম্মতির সাপেক্ষে ভেরিয়েবলটি ডিক্রিপ্ট(decrypt) করা হবে। সংক্ষেপে, প্রত্যেকের একটি ব্যক্তিগত চাবি আছে।\n",
        "\n",
        "### এনক্রিপ্ট Encrypt()\n",
        "\n",
        "সুতরাং, ধরা যাক আমরা একটি ভেরিয়েবল `x` \"এনক্রিপ্ট\" করতে চেয়েছিলাম, আমরা নিম্নলিখিত পদ্ধতিতে এটি করতে পারি।\n",
        "\n",
        " > এনক্রিপশন ফ্লোটস বা বাস্তব সংখ্যা ব্যবহার করে না তবে এটি [integer quotient ring](http://mathworld.wolfram.com/QuotientRing.html) নামক গাণিতিক স্পেসে ঘটে যা মূলত `0` এবং `Q-1` এর মধ্যে বিদ্যমান পূর্ণসংখ্যা। যেখানে `Q` মৌলিক এবং \"যথেষ্ট বড়\" যেন স্পেসটি আমাদের পরীক্ষাগুলিতে আমরা যে সমস্ত সংখ্যা ব্যবহার করি তা ধারণ করতে পারে। বাস্তবে, একটি পূর্ণসংখ্যা মান `x` দেয়া হলে, আমরা  `x % Q` করি যেন তা রিং এর মধ্যে ফিট করে। (এজন্যই আমরা `x' > Q` সংখ্যা ব্যবহার করা এড়িয়ে চলি )."
      ]
    },
    {
      "cell_type": "code",
      "metadata": {
        "id": "XKIxno7gskIk",
        "colab_type": "code",
        "colab": {}
      },
      "source": [
        "Q = 1234567891011"
      ],
      "execution_count": 0,
      "outputs": []
    },
    {
      "cell_type": "code",
      "metadata": {
        "id": "D1W7921IskIp",
        "colab_type": "code",
        "colab": {}
      },
      "source": [
        "x = 25"
      ],
      "execution_count": 0,
      "outputs": []
    },
    {
      "cell_type": "code",
      "metadata": {
        "id": "kWPEVdjEskIt",
        "colab_type": "code",
        "colab": {}
      },
      "source": [
        "import random\n",
        "\n",
        "def encrypt(x):\n",
        "    share_a = random.randint(-Q,Q)\n",
        "    share_b = random.randint(-Q,Q)\n",
        "    share_c = (x - share_a - share_b) % Q\n",
        "    return (share_a, share_b,  share_c)"
      ],
      "execution_count": 0,
      "outputs": []
    },
    {
      "cell_type": "code",
      "metadata": {
        "id": "RAIGippuskIw",
        "colab_type": "code",
        "outputId": "5c5e8610-cf80-4110-fa33-7d64a3094689",
        "colab": {}
      },
      "source": [
        "encrypt(x)"
      ],
      "execution_count": 0,
      "outputs": [
        {
          "output_type": "execute_result",
          "data": {
            "text/plain": [
              "(1210729216378, 426632908784, 831773656885)"
            ]
          },
          "metadata": {
            "tags": []
          },
          "execution_count": 4
        }
      ]
    },
    {
      "cell_type": "markdown",
      "metadata": {
        "id": "rv9bAyJBskI1",
        "colab_type": "text"
      },
      "source": [
        "আপনি এখানে দেখতে পাচ্ছেন, আমরা আমাদের পরিবর্তনশীল `x` কে 3 টি আলাদা শেয়ারে বিভক্ত করেছি, যা 3 টি পৃথক মালিককে পাঠানো যেতে পারে।\n",
        "\n",
        "### ডিক্রিপ্ট Decrypt()\n",
        "\n",
        "আমরা যদি এই 3 টি শেয়ার ডিক্রিপ্ট করতে চাইতাম, তবে আমরা কেবল তাদের একসাথে যোগ করতে পারি এবং ফলাফলের মডুলাস নিতে পারি (Mod Q)"
      ]
    },
    {
      "cell_type": "code",
      "metadata": {
        "id": "zaHpzb0HskI2",
        "colab_type": "code",
        "colab": {}
      },
      "source": [
        "def decrypt(*shares):\n",
        "    return sum(shares) % Q"
      ],
      "execution_count": 0,
      "outputs": []
    },
    {
      "cell_type": "code",
      "metadata": {
        "id": "Fg1h-QYDskI6",
        "colab_type": "code",
        "colab": {}
      },
      "source": [
        "a,b,c = encrypt(25)"
      ],
      "execution_count": 0,
      "outputs": []
    },
    {
      "cell_type": "code",
      "metadata": {
        "id": "KZQRrwsWskI-",
        "colab_type": "code",
        "outputId": "9623107b-3f7e-4784-e052-9c2ffb8064d9",
        "colab": {}
      },
      "source": [
        "decrypt(a, b, c)"
      ],
      "execution_count": 0,
      "outputs": [
        {
          "output_type": "execute_result",
          "data": {
            "text/plain": [
              "25"
            ]
          },
          "metadata": {
            "tags": []
          },
          "execution_count": 7
        }
      ]
    },
    {
      "cell_type": "markdown",
      "metadata": {
        "id": "bVaSexyCskJB",
        "colab_type": "text"
      },
      "source": [
        "গুরুত্বপূর্ণভাবে লক্ষ করুন যে আমরা যদি মাত্র দুটি শেয়ার দিয়ে ডিক্রিপ্ট করার চেষ্টা করি তবে ডিক্রিপশনটি কার্যকর হয় না!"
      ]
    },
    {
      "cell_type": "code",
      "metadata": {
        "id": "843_dy8LskJC",
        "colab_type": "code",
        "outputId": "2fe19d2f-0c10-4bb7-8898-3bb42bdfb7ef",
        "colab": {}
      },
      "source": [
        "decrypt(a, b)"
      ],
      "execution_count": 0,
      "outputs": [
        {
          "output_type": "execute_result",
          "data": {
            "text/plain": [
              "824042116826"
            ]
          },
          "metadata": {
            "tags": []
          },
          "execution_count": 8
        }
      ]
    },
    {
      "cell_type": "markdown",
      "metadata": {
        "id": "IlcwDzI2skJH",
        "colab_type": "text"
      },
      "source": [
        "সুতরাং, মানটি ডিক্রিপ্ট করার জন্য আমাদের সকল মালিকদের অংশ নেওয়া প্রয়োজন। এটি এইভাবে `shares` ব্যক্তিগত চাবির মতো কাজ করে, মানটি ডিক্রিপ্ট করার জন্য অবশ্যই এগুলির সবগুলোর উপস্থিতি থাকতে হবে।"
      ]
    },
    {
      "cell_type": "markdown",
      "metadata": {
        "id": "3zRaLgoEskJI",
        "colab_type": "text"
      },
      "source": [
        "# Step 2: এসএমপিসি ব্যবহার করে বেসিক পাটিগণিত(Basic Arithmetic Using SMPC)\n",
        "\n",
        "তবে সিকিউর মাল্টি পার্টি গণনার সত্যিকারের অসাধারণ একটি বৈশিষ্ট্য হলো **যখন ভেরিয়েবলগুলি এনক্রিপ্ট করা থাকে** সেখানেও  গণনা সম্পাদন করতে পারা। নিম্নে সহজ সংযোজন প্রদর্শন করা হলো"
      ]
    },
    {
      "cell_type": "code",
      "metadata": {
        "id": "x2UKE3-NskJJ",
        "colab_type": "code",
        "colab": {}
      },
      "source": [
        "x = encrypt(25)\n",
        "y = encrypt(5)"
      ],
      "execution_count": 0,
      "outputs": []
    },
    {
      "cell_type": "code",
      "metadata": {
        "id": "_AacZrYMskJM",
        "colab_type": "code",
        "colab": {}
      },
      "source": [
        "def add(x, y):\n",
        "    z = list()\n",
        "    # the first worker adds their shares together\n",
        "    z.append((x[0] + y[0]) % Q)\n",
        "    \n",
        "    # the second worker adds their shares together\n",
        "    z.append((x[1] + y[1]) % Q)\n",
        "    \n",
        "    # the third worker adds their shares together\n",
        "    z.append((x[2] + y[2]) % Q)\n",
        "    \n",
        "    return z"
      ],
      "execution_count": 0,
      "outputs": []
    },
    {
      "cell_type": "code",
      "metadata": {
        "id": "6lf2RRTcskJS",
        "colab_type": "code",
        "outputId": "448521e8-b8bd-45aa-b827-7d4d281de399",
        "colab": {}
      },
      "source": [
        "decrypt(*add(x,y))"
      ],
      "execution_count": 0,
      "outputs": [
        {
          "output_type": "execute_result",
          "data": {
            "text/plain": [
              "30"
            ]
          },
          "metadata": {
            "tags": []
          },
          "execution_count": 11
        }
      ]
    },
    {
      "cell_type": "markdown",
      "metadata": {
        "id": "iCsEff4UskJW",
        "colab_type": "text"
      },
      "source": [
        "### সফলতা (Success!!!)\n",
        "\n",
        "এবং আপনি এটা পেয়ে গেলেন! যদি প্রতিটি কর্মী (পৃথকভাবে) তাদের শেয়ারগুলি একসাথে যোগ করে, তবে ফলস্বরূপ শেয়ারগুলি সঠিক মানটিতে ডিক্রিপ্ট হবে (25 + 5 == 30). \n",
        "\n",
        "দেখা যাচ্ছে যে এসএমপিসি(SMPC) প্রোটোকল রয়েছে যা নিম্নলিখিত ক্রিয়াকলাপগুলির জন্য এই এনক্রিপ্ট করা গণনার অনুমতি দিতে পারে:\n",
        "\n",
        "- যোগ (যা আমরা সবেমাত্র দেখেছি)\n",
        "- গুণ\n",
        "- তুলনা\n",
        "\n",
        "এবং এই প্রাথমিক অন্তর্নিহিত প্রিমিটিভস ব্যবহার করে, আমরা অবাধে গণনা সম্পাদন করতে পারি !!!\n",
        "\n",
        "পরবর্তী বিভাগে, আমরা কীভাবে এই অপারেশনগুলি সম্পাদন করতে Pysyft লাইব্রেরি ব্যবহার করতে পারি তা শিখতে চলেছি!"
      ]
    },
    {
      "cell_type": "markdown",
      "metadata": {
        "id": "j8qf3tchskJX",
        "colab_type": "text"
      },
      "source": [
        "# Step 3: এসএমপিসি পাইসাইফ্ট ব্যবহার করে (SMPC Using PySyft)\n",
        "\n",
        "পূর্ববর্তী বিভাগগুলিতে, আমরা এসএমপিসি কিভাবে কাজ করে সে নিয়ে কিছু বেসিক ধারণার রূপরেখা তৈরি করেছি । যাইহোক, বাস্তবে আমাদের এনক্রিপ্ট করা প্রোগ্রামগুলি লেখার সময় আমরা প্রিমিটিভ ক্রিয়াকলাপগুলির সমস্ত কিছু নিজের হাতে লিখতে চাই না। সুতরাং, এই বিভাগে আমরা পাইসাইফ্ট ব্যবহার করে এনক্রিপ্ট করা গণনা কীভাবে করতে হবে তার মূল বিষয়গুলি নিয়ে দেখবো। বিশেষত, আমরা পূর্বে উল্লিখিত ৩-টি প্রিমিটিভ কীভাবে করব তার উপর ফোকাস করতে যাচ্ছি: সংযোজন, গুণ এবং তুলনা।\n",
        "\n",
        "প্রথমত, আমাদের কয়েকটি ভার্চুয়াল ওয়ার্কার তৈরি করতে হবে (যা আশা করি আপনি এখন আমাদের আগের টিউটোরিয়ালগুলির সাথে পরিচিত আছেন)।"
      ]
    },
    {
      "cell_type": "code",
      "metadata": {
        "id": "3eE-1wn4skJY",
        "colab_type": "code",
        "colab": {}
      },
      "source": [
        "import torch\n",
        "import syft as sy\n",
        "hook = sy.TorchHook(torch)\n",
        "\n",
        "bob = sy.VirtualWorker(hook, id=\"bob\")\n",
        "alice = sy.VirtualWorker(hook, id=\"alice\")\n",
        "bill = sy.VirtualWorker(hook, id=\"bill\")"
      ],
      "execution_count": 0,
      "outputs": []
    },
    {
      "cell_type": "markdown",
      "metadata": {
        "id": "wkiwQGM0skJa",
        "colab_type": "text"
      },
      "source": [
        "### সাধারণ এনক্রিপশন / ডিক্রিপশন (Basic Encryption/Decryption)\n",
        "\n",
        "এনক্রিপশন(Encryption) কোনও পাইসাইফ্ট টেনসর নেওয়া এবং .share() কল করার মতোই সহজ। ডিক্রিপশন শেয়ারড ভেরিয়েবলে .get() কল করার মতোই সহজ।"
      ]
    },
    {
      "cell_type": "code",
      "metadata": {
        "id": "Lbglq81zskJb",
        "colab_type": "code",
        "colab": {}
      },
      "source": [
        "x = torch.tensor([25])"
      ],
      "execution_count": 0,
      "outputs": []
    },
    {
      "cell_type": "code",
      "metadata": {
        "id": "s03gaTGjskJe",
        "colab_type": "code",
        "outputId": "0376aa78-4f21-4974-9bd1-a7379d6de40a",
        "colab": {}
      },
      "source": [
        "x"
      ],
      "execution_count": 0,
      "outputs": [
        {
          "output_type": "execute_result",
          "data": {
            "text/plain": [
              "tensor([25])"
            ]
          },
          "metadata": {
            "tags": []
          },
          "execution_count": 14
        }
      ]
    },
    {
      "cell_type": "code",
      "metadata": {
        "id": "zZJsvygyskJh",
        "colab_type": "code",
        "colab": {}
      },
      "source": [
        "encrypted_x = x.share(bob, alice, bill)"
      ],
      "execution_count": 0,
      "outputs": []
    },
    {
      "cell_type": "code",
      "metadata": {
        "id": "QckDxgwIskJk",
        "colab_type": "code",
        "outputId": "941136d3-80b2-4956-cf02-f49f0209e81d",
        "colab": {}
      },
      "source": [
        "encrypted_x.get()"
      ],
      "execution_count": 0,
      "outputs": [
        {
          "output_type": "execute_result",
          "data": {
            "text/plain": [
              "tensor([25])"
            ]
          },
          "metadata": {
            "tags": []
          },
          "execution_count": 16
        }
      ]
    },
    {
      "cell_type": "markdown",
      "metadata": {
        "id": "TL3Qyi2WskJq",
        "colab_type": "text"
      },
      "source": [
        "### এনক্রিপ্ট করা মানগুলিকে আত্মপ্রকাশ করে (Introspecting the Encrypted Values)\n",
        "\n",
        "আমরা যদি Bob, Alice এবং Bill এর কর্মীদের কাছ থেকে দেখি, আমরা যে শেয়ারগুলি তৈরি হবে তা দেখতে পাব!"
      ]
    },
    {
      "cell_type": "code",
      "metadata": {
        "id": "KQiMfuN-skJr",
        "colab_type": "code",
        "outputId": "c4f7f3a8-bfb2-4937-9e82-09998b2c9649",
        "colab": {}
      },
      "source": [
        "bob._objects"
      ],
      "execution_count": 0,
      "outputs": [
        {
          "output_type": "execute_result",
          "data": {
            "text/plain": [
              "{}"
            ]
          },
          "metadata": {
            "tags": []
          },
          "execution_count": 17
        }
      ]
    },
    {
      "cell_type": "code",
      "metadata": {
        "id": "sUmr2gL2skJv",
        "colab_type": "code",
        "colab": {}
      },
      "source": [
        "x = torch.tensor([25]).share(bob, alice, bill)"
      ],
      "execution_count": 0,
      "outputs": []
    },
    {
      "cell_type": "code",
      "metadata": {
        "id": "y80FkVUuskJ0",
        "colab_type": "code",
        "outputId": "95e90336-c689-4555-e038-52259bb4dc33",
        "colab": {}
      },
      "source": [
        "# Bob's share\n",
        "bobs_share = list(bob._objects.values())[0]\n",
        "bobs_share"
      ],
      "execution_count": 0,
      "outputs": [
        {
          "output_type": "execute_result",
          "data": {
            "text/plain": [
              "tensor([4643886570528976851])"
            ]
          },
          "metadata": {
            "tags": []
          },
          "execution_count": 19
        }
      ]
    },
    {
      "cell_type": "code",
      "metadata": {
        "id": "45s40XwYskJ8",
        "colab_type": "code",
        "outputId": "cf5eb8cb-a796-4ca6-dad4-bbe62d97bc62",
        "colab": {}
      },
      "source": [
        "# Alice's share\n",
        "alices_share = list(alice._objects.values())[0]\n",
        "alices_share"
      ],
      "execution_count": 0,
      "outputs": [
        {
          "output_type": "execute_result",
          "data": {
            "text/plain": [
              "tensor([4028707499085759384])"
            ]
          },
          "metadata": {
            "tags": []
          },
          "execution_count": 20
        }
      ]
    },
    {
      "cell_type": "code",
      "metadata": {
        "id": "ZnVFsXcJskKA",
        "colab_type": "code",
        "outputId": "70a94e02-b07c-47d3-8280-44d8e4b5ce1c",
        "colab": {}
      },
      "source": [
        "# Bill's share\n",
        "bills_share = list(bill._objects.values())[0]\n",
        "bills_share"
      ],
      "execution_count": 0,
      "outputs": [
        {
          "output_type": "execute_result",
          "data": {
            "text/plain": [
              "tensor([-8672594069614736210])"
            ]
          },
          "metadata": {
            "tags": []
          },
          "execution_count": 21
        }
      ]
    },
    {
      "cell_type": "markdown",
      "metadata": {
        "id": "BopIYTaLskKJ",
        "colab_type": "text"
      },
      "source": [
        "এবং যদি আমরা চাইতাম, আমরা আগে যে বিষয়গুলি নিয়ে আলোচনা করেছি সেগুলি ব্যবহার করে আমরা এই মানগুলি ডিক্রিপ্ট করতে পারি !!!"
      ]
    },
    {
      "cell_type": "code",
      "metadata": {
        "id": "PWZMMCidskKK",
        "colab_type": "code",
        "outputId": "0ed91bc8-f86a-40ca-8415-74de6411f695",
        "colab": {}
      },
      "source": [
        "(bobs_share + alices_share + bills_share)"
      ],
      "execution_count": 0,
      "outputs": [
        {
          "output_type": "execute_result",
          "data": {
            "text/plain": [
              "tensor([25])"
            ]
          },
          "metadata": {
            "tags": []
          },
          "execution_count": 22
        }
      ]
    },
    {
      "cell_type": "markdown",
      "metadata": {
        "id": "gqlxxcw_skKQ",
        "colab_type": "text"
      },
      "source": [
        "যেমন আপনি দেখতে পাচ্ছেন, আমরা যখন ফোন করেছি`.share()` এটি কেবলমাত্র 3 টি শেয়ারে মূল্য বিভক্ত করে এবং প্রতিটি দলের কাছে একটি ভাগ প্রেরণ করে!"
      ]
    },
    {
      "cell_type": "markdown",
      "metadata": {
        "id": "-WiRITzfskKQ",
        "colab_type": "text"
      },
      "source": [
        "# এনক্রিপ্ট করা পাটীগণিত (Encrypted Arithmetic)\n",
        "\n",
        "এবং এখন আপনি দেখতে পাচ্ছেন যে আমরা অন্তর্নিহিত মানগুলিতে গাণিতিক সম্পাদন করতে পারি! এপিআইটি(API) এমনভাবে তৈরি করা হয়েছে যাতে আমরা পাইটর্চ টেনসোর(PyTorch tensors) মতো সাধারণভাবে পাটিগণিত সম্পাদন করতে পারি।"
      ]
    },
    {
      "cell_type": "code",
      "metadata": {
        "id": "96LUgKneskKS",
        "colab_type": "code",
        "colab": {}
      },
      "source": [
        "x = torch.tensor([25]).share(bob,alice)\n",
        "y = torch.tensor([5]).share(bob,alice)"
      ],
      "execution_count": 0,
      "outputs": []
    },
    {
      "cell_type": "code",
      "metadata": {
        "id": "QEAtm1z4skKW",
        "colab_type": "code",
        "outputId": "e4a507c5-01d9-4ac2-ad58-8f18d796449a",
        "colab": {}
      },
      "source": [
        "z = x + y\n",
        "z.get()"
      ],
      "execution_count": 0,
      "outputs": [
        {
          "output_type": "execute_result",
          "data": {
            "text/plain": [
              "tensor([30])"
            ]
          },
          "metadata": {
            "tags": []
          },
          "execution_count": 24
        }
      ]
    },
    {
      "cell_type": "code",
      "metadata": {
        "id": "ETY7-N1XskKZ",
        "colab_type": "code",
        "outputId": "256b1436-a596-43f9-fbff-9433b0026990",
        "colab": {}
      },
      "source": [
        "z = x - y\n",
        "z.get()"
      ],
      "execution_count": 0,
      "outputs": [
        {
          "output_type": "execute_result",
          "data": {
            "text/plain": [
              "tensor([20])"
            ]
          },
          "metadata": {
            "tags": []
          },
          "execution_count": 25
        }
      ]
    },
    {
      "cell_type": "markdown",
      "metadata": {
        "id": "1uZnHLlQskKc",
        "colab_type": "text"
      },
      "source": [
        "# এনক্রিপ্ট করা গুণ (Encrypted Multiplication)\n",
        "\n",
        "গুণনের জন্য আমাদের একটি অতিরিক্ত দল দরকার যারা ধারাবাহিকভাবে র‍্যান্ডম সংখ্যা তৈরি করার জন্য দায়ী (এবং অন্য দলের কোনটির সাথে মিলিত না হয়ে)। আমরা এই ব্যক্তিকে \"ক্রিপ্টো সরবরাহকারী/crypto provider\" বলি। সকল নিবিড় উদ্দেশ্যে, ক্রিপ্টো সরবরাহকারী কেবল একটি অতিরিক্ত ভার্চুয়াল ওয়ার্কার, তবে এটি স্বীকার করা জরুরী যে ক্রিপ্টো সরবরাহকারী কোনও \"মালিক\" নয় যার জন্য তার নিজের অংশীদারি নেই। তবে সে এমন কেউ যাকে বিশ্বাস করতে হবে যেন সে অন্য কোন শেয়ারহোল্ডারের সাথে মিশে না যায়।"
      ]
    },
    {
      "cell_type": "code",
      "metadata": {
        "id": "JNGwoOrjskKd",
        "colab_type": "code",
        "colab": {}
      },
      "source": [
        "crypto_provider = sy.VirtualWorker(hook, id=\"crypto_provider\")"
      ],
      "execution_count": 0,
      "outputs": []
    },
    {
      "cell_type": "code",
      "metadata": {
        "id": "NUdlVsyFskKh",
        "colab_type": "code",
        "colab": {}
      },
      "source": [
        "x = torch.tensor([25]).share(bob,alice, crypto_provider=crypto_provider)\n",
        "y = torch.tensor([5]).share(bob,alice, crypto_provider=crypto_provider)"
      ],
      "execution_count": 0,
      "outputs": []
    },
    {
      "cell_type": "code",
      "metadata": {
        "id": "iM9mjPfTskKk",
        "colab_type": "code",
        "outputId": "58e1acc3-43f7-4e97-c1f1-a4f70867afb1",
        "colab": {}
      },
      "source": [
        "# multiplication\n",
        "\n",
        "z = x * y\n",
        "z.get()"
      ],
      "execution_count": 0,
      "outputs": [
        {
          "output_type": "execute_result",
          "data": {
            "text/plain": [
              "tensor([125])"
            ]
          },
          "metadata": {
            "tags": []
          },
          "execution_count": 28
        }
      ]
    },
    {
      "cell_type": "markdown",
      "metadata": {
        "id": "2fzmhdq9skKn",
        "colab_type": "text"
      },
      "source": [
        "আপনি ম্যাট্রিক্স গুণও করতে পারেন"
      ]
    },
    {
      "cell_type": "code",
      "metadata": {
        "id": "J7fWkYPTskKn",
        "colab_type": "code",
        "colab": {}
      },
      "source": [
        "x = torch.tensor([[1, 2],[3,4]]).share(bob,alice, crypto_provider=crypto_provider)\n",
        "y = torch.tensor([[2, 0],[0,2]]).share(bob,alice, crypto_provider=crypto_provider)"
      ],
      "execution_count": 0,
      "outputs": []
    },
    {
      "cell_type": "code",
      "metadata": {
        "id": "qOK5dMXmskKs",
        "colab_type": "code",
        "outputId": "2670b90c-a8c4-48f7-fade-9774ccae8f68",
        "colab": {}
      },
      "source": [
        "# matrix multiplication\n",
        "\n",
        "z = x.mm(y)\n",
        "z.get()"
      ],
      "execution_count": 0,
      "outputs": [
        {
          "output_type": "execute_result",
          "data": {
            "text/plain": [
              "tensor([[2, 4],\n",
              "        [6, 8]])"
            ]
          },
          "metadata": {
            "tags": []
          },
          "execution_count": 30
        }
      ]
    },
    {
      "cell_type": "markdown",
      "metadata": {
        "id": "UxTh0ls-skKx",
        "colab_type": "text"
      },
      "source": [
        "# এনক্রিপ্টেড তুলনা (Encrypted comparison)\n",
        "প্রাইভেট ভ্যালুগুলোর মধ্যে প্রাইভেট তুলনা করাও সম্ভব। আমরা এখানে SecureNN প্রোটোকলে নির্ভর করি, যার বিবরণ পাওয়া যাবে [এখানে](https://eprint.iacr.org/2018/442.pdf)। তুলনার ফলাফলটি একটি ব্যক্তিগত শেয়ারড টেনসরও।"
      ]
    },
    {
      "cell_type": "code",
      "metadata": {
        "id": "DI8YjxR4skKx",
        "colab_type": "code",
        "colab": {}
      },
      "source": [
        "x = torch.tensor([25]).share(bob,alice, crypto_provider=crypto_provider)\n",
        "y = torch.tensor([5]).share(bob,alice, crypto_provider=crypto_provider)"
      ],
      "execution_count": 0,
      "outputs": []
    },
    {
      "cell_type": "code",
      "metadata": {
        "id": "jqvgHP8zskK0",
        "colab_type": "code",
        "outputId": "7a21db28-93d6-4d99-ad25-199830b22218",
        "colab": {}
      },
      "source": [
        "z = x > y\n",
        "z.get()"
      ],
      "execution_count": 0,
      "outputs": [
        {
          "output_type": "execute_result",
          "data": {
            "text/plain": [
              "tensor([1])"
            ]
          },
          "metadata": {
            "tags": []
          },
          "execution_count": 32
        }
      ]
    },
    {
      "cell_type": "code",
      "metadata": {
        "id": "ZloKUfgGskK3",
        "colab_type": "code",
        "outputId": "9eb6d8fc-80c7-478c-eb51-9fcac0f48536",
        "colab": {}
      },
      "source": [
        "z = x <= y\n",
        "z.get()"
      ],
      "execution_count": 0,
      "outputs": [
        {
          "output_type": "execute_result",
          "data": {
            "text/plain": [
              "tensor([0])"
            ]
          },
          "metadata": {
            "tags": []
          },
          "execution_count": 33
        }
      ]
    },
    {
      "cell_type": "code",
      "metadata": {
        "id": "3C_3I-hZskK7",
        "colab_type": "code",
        "outputId": "4d81b49b-d28c-42d9-c6ef-062cd4e0bce5",
        "colab": {}
      },
      "source": [
        "z = x == y\n",
        "z.get()"
      ],
      "execution_count": 0,
      "outputs": [
        {
          "output_type": "execute_result",
          "data": {
            "text/plain": [
              "tensor([0])"
            ]
          },
          "metadata": {
            "tags": []
          },
          "execution_count": 34
        }
      ]
    },
    {
      "cell_type": "code",
      "metadata": {
        "id": "uAnAJZ4zskK_",
        "colab_type": "code",
        "outputId": "d9be62b8-4bd7-4f2c-f271-4598ff61f073",
        "colab": {}
      },
      "source": [
        "z = x == y + 20\n",
        "z.get()"
      ],
      "execution_count": 0,
      "outputs": [
        {
          "output_type": "execute_result",
          "data": {
            "text/plain": [
              "tensor([1])"
            ]
          },
          "metadata": {
            "tags": []
          },
          "execution_count": 35
        }
      ]
    },
    {
      "cell_type": "markdown",
      "metadata": {
        "id": "kHFbMLuDskLC",
        "colab_type": "text"
      },
      "source": [
        "আপনি max অপারেশনও করতে পারেন  "
      ]
    },
    {
      "cell_type": "code",
      "metadata": {
        "id": "Wd9GhVSMskLD",
        "colab_type": "code",
        "outputId": "11d472ec-a509-4609-fd30-88b2d6d3433c",
        "colab": {}
      },
      "source": [
        "x = torch.tensor([2, 3, 4, 1]).share(bob,alice, crypto_provider=crypto_provider)\n",
        "x.max().get()"
      ],
      "execution_count": 0,
      "outputs": [
        {
          "output_type": "execute_result",
          "data": {
            "text/plain": [
              "tensor([4])"
            ]
          },
          "metadata": {
            "tags": []
          },
          "execution_count": 36
        }
      ]
    },
    {
      "cell_type": "code",
      "metadata": {
        "id": "KAC8y3SpskLG",
        "colab_type": "code",
        "outputId": "16732d45-e004-433a-881e-ab281ce2a59b",
        "colab": {}
      },
      "source": [
        "x = torch.tensor([[2, 3], [4, 1]]).share(bob,alice, crypto_provider=crypto_provider)\n",
        "max_values, max_ids = x.max(dim=0)\n",
        "max_values.get()"
      ],
      "execution_count": 0,
      "outputs": [
        {
          "output_type": "execute_result",
          "data": {
            "text/plain": [
              "tensor([4, 3])"
            ]
          },
          "metadata": {
            "tags": []
          },
          "execution_count": 37
        }
      ]
    },
    {
      "cell_type": "markdown",
      "metadata": {
        "id": "a92SHKGxskLJ",
        "colab_type": "text"
      },
      "source": [
        "# অভিনন্দন সম্প্রদায় যোগদানের সময়! (Congratulations!!! - Time to Join the Community!)\n",
        "\n",
        "এই নোটবুক টিউটোরিয়ালটি সম্পন্ন করার জন্য অভিনন্দন। আপনি যদি এটি উপভোগ করেন এবং গোপনীয়তা সংরক্ষণ, AI এবং AI সরবরাহ চেইনের (ডেটা) বিকেন্দ্রীভূত মালিকানার দিকে আন্দোলনে যোগ দিতে চান, আপনি নিম্নলিখিত উপায়ে এটি করতে পারেন।\n",
        "\n",
        "### গিটহাবে পাইসিফ্ট কে স্টার দিন (Star PySyft on GitHub)\n",
        "\n",
        "আমাদের সম্প্রদায়কে সাহায্য করার সবচেয়ে সহজ উপায় হল রিপোসিটোরি গুলোতে ষ্টার করা\n",
        " এটি আমরা যে অসাধারণ সরঞ্জামগুলি তৈরি করছি তার সচেতনতা বাড়াতে সহায়তা করে।\n",
        "\n",
        "- [Star PySyft](https://github.com/OpenMined/PySyft)\n",
        "\n",
        "### আমাদের স্ল্যাকে যোগ দিন (Join our Slack!)\n",
        "\n",
        "সর্বশেষতম অগ্রগতিতে আপ টু ডেট রাখার সর্বোত্তম উপায় হ'ল আমাদের সম্প্রদায়ে যোগদান করা। আপনি ফর্মটি পূরণ করে এটি করতে পারেন [http://slack.openmined.org](http://slack.openmined.org)\n",
        "\n",
        "### একটি কোড প্রকল্পে যোগদান করুন! (Join a Code Project!)\n",
        "\n",
        "আমাদের সম্প্রদায়ে অবদান রাখার সর্বোত্তম উপায় হল কোড অবদানকারী হয়ে উঠুন! যে কোনও সময় আপনি পাইসাইফ্ট গিটহাবে ইস্যু পৃষ্ঠাতে যেতে পারেন এবং \"প্রকল্পগুলি\" এর জন্য ফিল্টার করতে পারেন। এটি আপনাকে শীর্ষ স্তরের সমস্ত টিকিট দেখিয়ে দেবে যে আপনি কোন প্রকল্পগুলিতে যোগদান করতে পারেন তার একটি ওভারভিউ দেয়! আপনি যদি কোনও প্রকল্পে যোগ দিতে না চান তবে আপনি কিছুটা কোডিং করতে চান তবে আপনি \"ভাল প্রথম ইস্যু\" চিহ্নিত গিথুব ইস্যুগুলি অনুসন্ধান করে আরও \"ওয়ান অফ\" মিনি-প্রকল্পগুলির সন্ধান করতে পারেন।\n",
        "\n",
        "- [PySyft Projects](https://github.com/OpenMined/PySyft/issues?q=is%3Aopen+is%3Aissue+label%3AProject)\n",
        "- [Good First Issue Tickets](https://github.com/OpenMined/PySyft/issues?q=is%3Aopen+is%3Aissue+label%3A%22good+first+issue%22)\n",
        "\n",
        "### দান করুন (Donate)\n",
        "\n",
        "আপনার যদি আমাদের কোডবেসে অবদান রাখার সময় না থাকে তবে তবুও সমর্থন দিতে চান, আপনি আমাদের ওপেন কালেক্টিভেরও Backer হয়ে উঠতে পারেন। সমস্ত অনুদান আমাদের ওয়েব হোস্টিং এবং অন্যান্য সম্প্রদায় ব্যয় যেমন হ্যাকাথন এবং মিটাপগুলির (hackathons and meetups!) দিকে যায়।\n",
        "\n",
        "- [Donate through OpenMined's Open Collective Page](https://opencollective.com/openmined)"
      ]
    },
    {
      "cell_type": "code",
      "metadata": {
        "id": "PjvCuSV1skLJ",
        "colab_type": "code",
        "colab": {}
      },
      "source": [
        ""
      ],
      "execution_count": 0,
      "outputs": []
    }
  ]
}
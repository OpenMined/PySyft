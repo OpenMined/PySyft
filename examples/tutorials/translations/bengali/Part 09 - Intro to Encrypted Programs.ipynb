{
  "nbformat": 4,
  "nbformat_minor": 0,
  "metadata": {
    "kernelspec": {
      "display_name": "Python 3",
      "language": "python",
      "name": "python3"
    },
    "language_info": {
      "codemirror_mode": {
        "name": "ipython",
        "version": 3
      },
      "file_extension": ".py",
      "mimetype": "text/x-python",
      "name": "python",
      "nbconvert_exporter": "python",
      "pygments_lexer": "ipython3",
      "version": "3.7.0"
    },
    "colab": {
      "name": "Part 09 - Intro to Encrypted Programs.ipynb",
      "provenance": [],
      "collapsed_sections": [
        "Mb8c359Dg8Vg"
      ]
    }
  },
  "cells": [
    {
      "cell_type": "markdown",
      "metadata": {
        "id": "PFVbVlYDg8UM",
        "colab_type": "text"
      },
      "source": [
        "# Part 9 - এঙ্ক্রিপ্টেড প্রোগ্রামগুলির সাথে পরিচয় (Intro to Encrypted Programs)\n",
        "\n",
        "বিশ্বাস করুন বা না করুন, এনক্রিপ্ট করা ডেটা দিয়ে গণনা করা সম্ভব। অন্য কথায়, একটি প্রোগ্রাম চালানো সম্ভব যেখানে প্রোগ্রামের _সমস্ত ভেরিয়েবল_ **এনক্রিপ্টেড**\n",
        "\n",
        "এই টিউটোরিয়ালে, আমরা এনক্রিপ্ট করা গণনার খুব প্রাথমিক সরঞ্জামগুলি দেখবো। বিশেষত, আমরা Secure Multi-Party Computation নামে পরিচিত একটি জনপ্রিয় পদ্ধতির উপর ফোকাস করতে যাচ্ছি। এই পাঠে, আমরা শিখব কীভাবে একটি এনক্রিপ্ট করা ক্যালকুলেটর তৈরি করতে হয়, যা এনক্রিপ্ট হওয়া সংখ্যায় গণনা সম্পাদন করতে পারে।\n",
        "\n",
        "Authors:\n",
        "- Andrew Trask - Twitter: [@iamtrask](https://twitter.com/iamtrask)\n",
        "- Théo Ryffel - GitHub: [@LaRiffle](https://github.com/LaRiffle)\n",
        "\n",
        "References: \n",
        "- Morten Dahl - [Blog](https://mortendahl.github.io) - Twitter: [@mortendahlcs](https://twitter.com/mortendahlcs)"
      ]
    },
    {
      "cell_type": "markdown",
      "metadata": {
        "id": "vPtvbyA1hFEv",
        "colab_type": "text"
      },
      "source": [
        "অনুবাদক:\n",
        "\n",
        "- Sourav Das - Twitter: [@adventuroussrv](https://twitter.com/adventuroussrv)\n",
        "- Mir Mohammad Jaber - Twitter: [@jabertuhin](https://twitter.com/jabertuhin)"
      ]
    },
    {
      "cell_type": "markdown",
      "metadata": {
        "id": "1n9yr7dJg8UP",
        "colab_type": "text"
      },
      "source": [
        "# Step 1: সুরক্ষিত মাল্টি-পার্টির গণনা ব্যবহার করে এনক্রিপশন (Encryption Using Secure Multi-Party Computation)\n",
        "\n",
        "এসএমপিসি(SMPC) প্রথম নজরে \"এনক্রিপশন\" এর এক অদ্ভুত রূপ। কোনও ভেরিয়েবল এনক্রিপ্ট করার জন্য পাবলিক/প্রাইভেট চাবি(key) ব্যবহার করার পরিবর্তে প্রতিটি মান একাধিক shares-এ বিভক্ত হয়, যার প্রতিটি একটি ব্যক্তিগত চাবি(key) হিসাবে চালিত হয়। সাধারণত, এই shares ২ বা ততোধিক মালিকদের মাঝে বিতরণ করা হবে। সুতরাং, সমস্ত মালিকদের ডিক্রিপশন অনুমোদনের  সম্মতির সাপেক্ষে ভেরিয়েবলটি ডিক্রিপ্ট(decrypt) করা হবে। সংক্ষেপে, প্রত্যেকের একটি ব্যক্তিগত চাবি আছে।\n",
        "\n",
        "### এনক্রিপ্ট Encrypt()\n",
        "\n",
        "সুতরাং, ধরা যাক আমরা একটি ভেরিয়েবল `x` \"এনক্রিপ্ট\" করতে চেয়েছিলাম, আমরা নিম্নলিখিত পদ্ধতিতে এটি করতে পারি।\n",
        "\n",
        " > এনক্রিপশন ফ্লোটস বা বাস্তব সংখ্যা ব্যবহার করে না তবে এটি [integer quotient ring](http://mathworld.wolfram.com/QuotientRing.html) নামক গাণিতিক স্পেসে ঘটে যা মূলত `0` এবং `Q-1` এর মধ্যে বিদ্যমান পূর্ণসংখ্যা। যেখানে `Q` মৌলিক এবং \"যথেষ্ট বড়\" যেন স্পেসটি আমাদের পরীক্ষাগুলিতে আমরা যে সমস্ত সংখ্যা ব্যবহার করি তা ধারণ করতে পারে। বাস্তবে, একটি পূর্ণসংখ্যা মান `x` দেয়া হলে, আমরা  `x % Q` করি যেন তা রিং এর মধ্যে ফিট করে। (এজন্যই আমরা `x' > Q` সংখ্যা ব্যবহার করা এড়িয়ে চলি )."
      ]
    },
    {
      "cell_type": "code",
      "metadata": {
        "id": "Fi-EsKZdg8UR",
        "colab_type": "code",
        "colab": {}
      },
      "source": [
        "Q = 1234567891011"
      ],
      "execution_count": 0,
      "outputs": []
    },
    {
      "cell_type": "code",
      "metadata": {
        "id": "BY2OM52Lg8UX",
        "colab_type": "code",
        "colab": {}
      },
      "source": [
        "x = 25"
      ],
      "execution_count": 0,
      "outputs": []
    },
    {
      "cell_type": "code",
      "metadata": {
        "id": "tFn2MLWdg8Uh",
        "colab_type": "code",
        "colab": {}
      },
      "source": [
        "import random\n",
        "\n",
        "def encrypt(x):\n",
        "    share_a = random.randint(-Q,Q)\n",
        "    share_b = random.randint(-Q,Q)\n",
        "    share_c = (x - share_a - share_b) % Q\n",
        "    return (share_a, share_b,  share_c)"
      ],
      "execution_count": 0,
      "outputs": []
    },
    {
      "cell_type": "code",
      "metadata": {
        "id": "OAZsQDXEg8Ul",
        "colab_type": "code",
        "colab": {},
        "outputId": "f00801af-658a-45ac-9c20-654ae6d759f5"
      },
      "source": [
        "encrypt(x)"
      ],
      "execution_count": 0,
      "outputs": [
        {
          "output_type": "execute_result",
          "data": {
            "text/plain": [
              "(467284329259, -652559215416, 185274886182)"
            ]
          },
          "metadata": {
            "tags": []
          },
          "execution_count": 4
        }
      ]
    },
    {
      "cell_type": "markdown",
      "metadata": {
        "id": "3eb3vfdPg8Us",
        "colab_type": "text"
      },
      "source": [
        "আপনি এখানে দেখতে পাচ্ছেন, আমরা আমাদের পরিবর্তনশীল `x` কে 3 টি আলাদা শেয়ারে বিভক্ত করেছি, যা 3 টি পৃথক মালিককে পাঠানো যেতে পারে।\n",
        "\n",
        "### ডিক্রিপ্ট Decrypt()\n",
        "\n",
        "আমরা যদি এই 3 টি শেয়ার ডিক্রিপ্ট করতে চাইতাম, তবে আমরা কেবল তাদের একসাথে যোগ করতে পারি এবং ফলাফলের মডুলাস নিতে পারি (Mod Q)"
      ]
    },
    {
      "cell_type": "code",
      "metadata": {
        "id": "8bVwzl4Sg8Uu",
        "colab_type": "code",
        "colab": {}
      },
      "source": [
        "def decrypt(*shares):\n",
        "    return sum(shares) % Q"
      ],
      "execution_count": 0,
      "outputs": []
    },
    {
      "cell_type": "code",
      "metadata": {
        "id": "5T1x_BCJg8U2",
        "colab_type": "code",
        "colab": {}
      },
      "source": [
        "a,b,c = encrypt(25)"
      ],
      "execution_count": 0,
      "outputs": []
    },
    {
      "cell_type": "code",
      "metadata": {
        "id": "ESmym1cAg8U_",
        "colab_type": "code",
        "colab": {},
        "outputId": "4e9311c9-98ee-4f15-89cb-207cc8df7b8a"
      },
      "source": [
        "decrypt(a, b, c)"
      ],
      "execution_count": 0,
      "outputs": [
        {
          "output_type": "execute_result",
          "data": {
            "text/plain": [
              "25"
            ]
          },
          "metadata": {
            "tags": []
          },
          "execution_count": 7
        }
      ]
    },
    {
      "cell_type": "markdown",
      "metadata": {
        "id": "hAEZZfKNg8VH",
        "colab_type": "text"
      },
      "source": [
        "গুরুত্বপূর্ণভাবে লক্ষ করুন যে আমরা যদি মাত্র দুটি শেয়ার দিয়ে ডিক্রিপ্ট করার চেষ্টা করি তবে ডিক্রিপশনটি কার্যকর হয় না!"
      ]
    },
    {
      "cell_type": "code",
      "metadata": {
        "id": "rcx3idC3g8VI",
        "colab_type": "code",
        "colab": {},
        "outputId": "15f5d9db-1a26-4944-a5d2-89a1dfaaf75b"
      },
      "source": [
        "decrypt(a, b)"
      ],
      "execution_count": 0,
      "outputs": [
        {
          "output_type": "execute_result",
          "data": {
            "text/plain": [
              "346980890071"
            ]
          },
          "metadata": {
            "tags": []
          },
          "execution_count": 8
        }
      ]
    },
    {
      "cell_type": "markdown",
      "metadata": {
        "id": "ZnF73Yzag8VM",
        "colab_type": "text"
      },
      "source": [
        "সুতরাং, মানটি ডিক্রিপ্ট করার জন্য আমাদের সকল মালিকদের অংশ নেওয়া প্রয়োজন। এটি এইভাবে `shares` ব্যক্তিগত চাবির মতো কাজ করে, মানটি ডিক্রিপ্ট করার জন্য অবশ্যই এগুলির সবগুলোর উপস্থিতি থাকতে হবে।"
      ]
    },
    {
      "cell_type": "markdown",
      "metadata": {
        "id": "BJxKpHz_g8VN",
        "colab_type": "text"
      },
      "source": [
        "# Step 2: এসএমপিসি ব্যবহার করে বেসিক পাটিগণিত(Basic Arithmetic Using SMPC)\n",
        "\n",
        "তবে সিকিউর মাল্টি পার্টি গণনার সত্যিকারের অসাধারণ একটি বৈশিষ্ট্য হলো **যখন ভেরিয়েবলগুলি এনক্রিপ্ট করা থাকে** সেখানেও  গণনা সম্পাদন করতে পারা। নিম্নে সহজ সংযোজন প্রদর্শন করা হলো"
      ]
    },
    {
      "cell_type": "code",
      "metadata": {
        "id": "9PclymCDg8VO",
        "colab_type": "code",
        "colab": {}
      },
      "source": [
        "x = encrypt(25)\n",
        "y = encrypt(5)"
      ],
      "execution_count": 0,
      "outputs": []
    },
    {
      "cell_type": "code",
      "metadata": {
        "id": "cZjOBZZgg8VT",
        "colab_type": "code",
        "colab": {}
      },
      "source": [
        "def add(x, y):\n",
        "    z = list()\n",
        "    # the first worker adds their shares together\n",
        "    z.append((x[0] + y[0]) % Q)\n",
        "    \n",
        "    # the second worker adds their shares together\n",
        "    z.append((x[1] + y[1]) % Q)\n",
        "    \n",
        "    # the third worker adds their shares together\n",
        "    z.append((x[2] + y[2]) % Q)\n",
        "    \n",
        "    return z"
      ],
      "execution_count": 0,
      "outputs": []
    },
    {
      "cell_type": "code",
      "metadata": {
        "id": "qELm26uWg8VY",
        "colab_type": "code",
        "colab": {},
        "outputId": "23f8c765-e15e-415e-fcb0-0336c93423f8"
      },
      "source": [
        "decrypt(*add(x,y))"
      ],
      "execution_count": 0,
      "outputs": [
        {
          "output_type": "execute_result",
          "data": {
            "text/plain": [
              "30"
            ]
          },
          "metadata": {
            "tags": []
          },
          "execution_count": 11
        }
      ]
    },
    {
      "cell_type": "markdown",
      "metadata": {
        "id": "Mb8c359Dg8Vg",
        "colab_type": "text"
      },
      "source": [
        "### সফলতা (Success!!!)\n",
        "\n",
        "এবং আপনি এটা পেয়ে গেলেন! যদি প্রতিটি কর্মী (পৃথকভাবে) তাদের শেয়ারগুলি একসাথে যোগ করে, তবে ফলস্বরূপ শেয়ারগুলি সঠিক মানটিতে ডিক্রিপ্ট হবে (25 + 5 == 30). \n",
        "\n",
        "দেখা যাচ্ছে যে এসএমপিসি(SMPC) প্রোটোকল রয়েছে যা নিম্নলিখিত ক্রিয়াকলাপগুলির জন্য এই এনক্রিপ্ট করা গণনার অনুমতি দিতে পারে:\n",
        "\n",
        "- যোগ (যা আমরা সবেমাত্র দেখেছি)\n",
        "- গুণ\n",
        "- তুলনা\n",
        "\n",
        "এবং এই প্রাথমিক অন্তর্নিহিত প্রিমিটিভস ব্যবহার করে, আমরা অবাধে গণনা সম্পাদন করতে পারি !!!\n",
        "\n",
        "পরবর্তী বিভাগে, আমরা কীভাবে এই অপারেশনগুলি সম্পাদন করতে Pysyft লাইব্রেরি ব্যবহার করতে পারি তা শিখতে চলেছি!"
      ]
    },
    {
      "cell_type": "markdown",
      "metadata": {
        "id": "GUrYu5EOg8Vg",
        "colab_type": "text"
      },
      "source": [
        "# Step 3: এসএমপিসি পাইসাইফ্ট ব্যবহার করে (SMPC Using PySyft)\n",
        "\n",
        "পূর্ববর্তী বিভাগগুলিতে, আমরা এসএমপিসি কিভাবে কাজ করে সে নিয়ে কিছু বেসিক ধারণার রূপরেখা তৈরি করেছি । যাইহোক, বাস্তবে আমাদের এনক্রিপ্ট করা প্রোগ্রামগুলি লেখার সময় আমরা প্রিমিটিভ ক্রিয়াকলাপগুলির সমস্ত কিছু নিজের হাতে লিখতে চাই না। সুতরাং, এই বিভাগে আমরা পাইসাইফ্ট ব্যবহার করে এনক্রিপ্ট করা গণনা কীভাবে করতে হবে তার মূল বিষয়গুলি নিয়ে দেখবো। বিশেষত, আমরা পূর্বে উল্লিখিত ৩-টি প্রিমিটিভ কীভাবে করব তার উপর ফোকাস করতে যাচ্ছি: সংযোজন, গুণ এবং তুলনা।\n",
        "\n",
        "প্রথমত, আমাদের কয়েকটি ভার্চুয়াল ওয়ার্কার তৈরি করতে হবে (যা আশা করি আপনি এখন আমাদের আগের টিউটোরিয়ালগুলির সাথে পরিচিত আছেন)।"
      ]
    },
    {
      "cell_type": "code",
      "metadata": {
        "id": "N8n-Itrzg8Vh",
        "colab_type": "code",
        "colab": {}
      },
      "source": [
        "import torch\n",
        "import syft as sy\n",
        "hook = sy.TorchHook(torch)\n",
        "\n",
        "bob = sy.VirtualWorker(hook, id=\"bob\")\n",
        "alice = sy.VirtualWorker(hook, id=\"alice\")\n",
        "bill = sy.VirtualWorker(hook, id=\"bill\")"
      ],
      "execution_count": 0,
      "outputs": []
    },
    {
      "cell_type": "markdown",
      "metadata": {
        "id": "3albSp1tg8Vl",
        "colab_type": "text"
      },
      "source": [
        "### সাধারণ এনক্রিপশন / ডিক্রিপশন (Basic Encryption/Decryption)\n",
        "\n",
        "এনক্রিপশন(Encryption) কোনও পাইসাইফ্ট টেনসর নেওয়া এবং .share() কল করার মতোই সহজ। ডিক্রিপশন শেয়ারড ভেরিয়েবলে .get() কল করার মতোই সহজ।"
      ]
    },
    {
      "cell_type": "code",
      "metadata": {
        "id": "Ahi_1v85g8Vl",
        "colab_type": "code",
        "colab": {}
      },
      "source": [
        "x = torch.tensor([25])"
      ],
      "execution_count": 0,
      "outputs": []
    },
    {
      "cell_type": "code",
      "metadata": {
        "id": "uw07YCWZg8Vp",
        "colab_type": "code",
        "colab": {},
        "outputId": "ecc310f8-e8d7-4fb3-cd9b-a3bb3c2ebdd0"
      },
      "source": [
        "x"
      ],
      "execution_count": 0,
      "outputs": [
        {
          "output_type": "execute_result",
          "data": {
            "text/plain": [
              "tensor([25])"
            ]
          },
          "metadata": {
            "tags": []
          },
          "execution_count": 14
        }
      ]
    },
    {
      "cell_type": "code",
      "metadata": {
        "id": "5Uu6GT6Og8Vs",
        "colab_type": "code",
        "colab": {}
      },
      "source": [
        "encrypted_x = x.share(bob, alice, bill)"
      ],
      "execution_count": 0,
      "outputs": []
    },
    {
      "cell_type": "code",
      "metadata": {
        "id": "xQwkaf3Cg8Vy",
        "colab_type": "code",
        "colab": {},
        "outputId": "ea19f409-24ba-45a1-cb7e-2cbce29af6b8"
      },
      "source": [
        "encrypted_x.get()"
      ],
      "execution_count": 0,
      "outputs": [
        {
          "output_type": "execute_result",
          "data": {
            "text/plain": [
              "tensor([25])"
            ]
          },
          "metadata": {
            "tags": []
          },
          "execution_count": 16
        }
      ]
    },
    {
      "cell_type": "markdown",
      "metadata": {
        "id": "ptVjfWH3g8V4",
        "colab_type": "text"
      },
      "source": [
        "### এনক্রিপ্ট করা মানগুলিকে আত্মপ্রকাশ করে (Introspecting the Encrypted Values)\n",
        "\n",
        "আমরা যদি Bob, Alice এবং Bill এর কর্মীদের কাছ থেকে দেখি, আমরা যে শেয়ারগুলি তৈরি হবে তা দেখতে পাব!"
      ]
    },
    {
      "cell_type": "code",
      "metadata": {
        "id": "XwnPHDj6g8V4",
        "colab_type": "code",
        "colab": {},
        "outputId": "7d3a6e02-1ee5-4ae0-d466-6497459843d9"
      },
      "source": [
        "list(bob._tensors.values())"
      ],
      "execution_count": 0,
      "outputs": [
        {
          "output_type": "execute_result",
          "data": {
            "text/plain": [
              "[]"
            ]
          },
          "metadata": {
            "tags": []
          },
          "execution_count": 17
        }
      ]
    },
    {
      "cell_type": "code",
      "metadata": {
        "id": "DSO9wZwAg8V7",
        "colab_type": "code",
        "colab": {}
      },
      "source": [
        "x = torch.tensor([25]).share(bob, alice, bill)"
      ],
      "execution_count": 0,
      "outputs": []
    },
    {
      "cell_type": "code",
      "metadata": {
        "id": "k6BlePVQg8WA",
        "colab_type": "code",
        "colab": {},
        "outputId": "f27d9225-6633-4804-c62e-a6e1ef1d4684"
      },
      "source": [
        "# Bob's share\n",
        "bobs_share = list(bob._tensors.values())[0]\n",
        "bobs_share"
      ],
      "execution_count": 0,
      "outputs": [
        {
          "output_type": "execute_result",
          "data": {
            "text/plain": [
              "tensor([1061525539398735196])"
            ]
          },
          "metadata": {
            "tags": []
          },
          "execution_count": 19
        }
      ]
    },
    {
      "cell_type": "code",
      "metadata": {
        "id": "WZWWkmCzg8WD",
        "colab_type": "code",
        "colab": {},
        "outputId": "b4b6954f-9537-4484-c417-d278108ed531"
      },
      "source": [
        "# Alice's share\n",
        "alices_share = list(alice._tensors.values())[0]\n",
        "alices_share"
      ],
      "execution_count": 0,
      "outputs": [
        {
          "output_type": "execute_result",
          "data": {
            "text/plain": [
              "tensor([424539979954823758])"
            ]
          },
          "metadata": {
            "tags": []
          },
          "execution_count": 20
        }
      ]
    },
    {
      "cell_type": "code",
      "metadata": {
        "id": "2QItEHErg8WG",
        "colab_type": "code",
        "colab": {},
        "outputId": "a1be5bbc-9e41-44b0-da82-af227c71bbd2"
      },
      "source": [
        "# Bill's share\n",
        "bills_share = list(bill._tensors.values())[0]\n",
        "bills_share"
      ],
      "execution_count": 0,
      "outputs": [
        {
          "output_type": "execute_result",
          "data": {
            "text/plain": [
              "tensor([3125620499073828975])"
            ]
          },
          "metadata": {
            "tags": []
          },
          "execution_count": 21
        }
      ]
    },
    {
      "cell_type": "markdown",
      "metadata": {
        "id": "3GbAbbVSg8WK",
        "colab_type": "text"
      },
      "source": [
        "এবং যদি আমরা চাইতাম, আমরা আগে যে বিষয়গুলি নিয়ে আলোচনা করেছি সেগুলি ব্যবহার করে আমরা এই মানগুলি ডিক্রিপ্ট করতে পারি !!!"
      ]
    },
    {
      "cell_type": "code",
      "metadata": {
        "id": "3vDhTohtg8WL",
        "colab_type": "code",
        "colab": {},
        "outputId": "39fd6b14-589b-4282-f693-41d90e84951b"
      },
      "source": [
        "(bobs_share + alices_share + bills_share)"
      ],
      "execution_count": 0,
      "outputs": [
        {
          "output_type": "execute_result",
          "data": {
            "text/plain": [
              "tensor([25])"
            ]
          },
          "metadata": {
            "tags": []
          },
          "execution_count": 22
        }
      ]
    },
    {
      "cell_type": "markdown",
      "metadata": {
        "id": "X0eVNFAhg8WP",
        "colab_type": "text"
      },
      "source": [
        "যেমন আপনি দেখতে পাচ্ছেন, আমরা যখন ফোন করেছি`.share()` এটি কেবলমাত্র 3 টি শেয়ারে মূল্য বিভক্ত করে এবং প্রতিটি দলের কাছে একটি ভাগ প্রেরণ করে!"
      ]
    },
    {
      "cell_type": "markdown",
      "metadata": {
        "id": "WIn_Oqozg8WQ",
        "colab_type": "text"
      },
      "source": [
        "# এনক্রিপ্ট করা পাটীগণিত (Encrypted Arithmetic)\n",
        "\n",
        "এবং এখন আপনি দেখতে পাচ্ছেন যে আমরা অন্তর্নিহিত মানগুলিতে গাণিতিক সম্পাদন করতে পারি! এপিআইটি(API) এমনভাবে তৈরি করা হয়েছে যাতে আমরা পাইটর্চ টেনসোর(PyTorch tensors) মতো সাধারণভাবে পাটিগণিত সম্পাদন করতে পারি।"
      ]
    },
    {
      "cell_type": "code",
      "metadata": {
        "id": "ChkxJabXg8WR",
        "colab_type": "code",
        "colab": {}
      },
      "source": [
        "x = torch.tensor([25]).share(bob,alice)\n",
        "y = torch.tensor([5]).share(bob,alice)"
      ],
      "execution_count": 0,
      "outputs": []
    },
    {
      "cell_type": "code",
      "metadata": {
        "id": "B7bxJ4-Gg8WU",
        "colab_type": "code",
        "colab": {},
        "outputId": "5fde8843-3638-4fe6-e858-8535858f90e4"
      },
      "source": [
        "z = x + y\n",
        "z.get()"
      ],
      "execution_count": 0,
      "outputs": [
        {
          "output_type": "execute_result",
          "data": {
            "text/plain": [
              "tensor([30])"
            ]
          },
          "metadata": {
            "tags": []
          },
          "execution_count": 24
        }
      ]
    },
    {
      "cell_type": "code",
      "metadata": {
        "id": "5DgJmrISg8WX",
        "colab_type": "code",
        "colab": {},
        "outputId": "9450688e-fe66-4a37-cfcf-02e17b8391ff"
      },
      "source": [
        "z = x - y\n",
        "z.get()"
      ],
      "execution_count": 0,
      "outputs": [
        {
          "output_type": "execute_result",
          "data": {
            "text/plain": [
              "tensor([20])"
            ]
          },
          "metadata": {
            "tags": []
          },
          "execution_count": 25
        }
      ]
    },
    {
      "cell_type": "markdown",
      "metadata": {
        "id": "gzeS6l48g8Wa",
        "colab_type": "text"
      },
      "source": [
        "# এনক্রিপ্ট করা গুণ (Encrypted Multiplication)\n",
        "\n",
        "গুণনের জন্য আমাদের একটি অতিরিক্ত দল দরকার যারা ধারাবাহিকভাবে র‍্যান্ডম সংখ্যা তৈরি করার জন্য দায়ী (এবং অন্য দলের কোনটির সাথে মিলিত না হয়ে)। আমরা এই ব্যক্তিকে \"ক্রিপ্টো সরবরাহকারী/crypto provider\" বলি। সকল নিবিড় উদ্দেশ্যে, ক্রিপ্টো সরবরাহকারী কেবল একটি অতিরিক্ত ভার্চুয়াল ওয়ার্কার, তবে এটি স্বীকার করা জরুরী যে ক্রিপ্টো সরবরাহকারী কোনও \"মালিক\" নয় যার জন্য তার নিজের অংশীদারি নেই। তবে সে এমন কেউ যাকে বিশ্বাস করতে হবে যেন সে অন্য কোন শেয়ারহোল্ডারের সাথে মিশে না যায়।"
      ]
    },
    {
      "cell_type": "code",
      "metadata": {
        "id": "6MLpDhutg8Wb",
        "colab_type": "code",
        "colab": {}
      },
      "source": [
        "crypto_provider = sy.VirtualWorker(hook, id=\"crypto_provider\")"
      ],
      "execution_count": 0,
      "outputs": []
    },
    {
      "cell_type": "code",
      "metadata": {
        "id": "EIaZOH9Tg8Wd",
        "colab_type": "code",
        "colab": {}
      },
      "source": [
        "x = torch.tensor([25]).share(bob,alice, crypto_provider=crypto_provider)\n",
        "y = torch.tensor([5]).share(bob,alice, crypto_provider=crypto_provider)"
      ],
      "execution_count": 0,
      "outputs": []
    },
    {
      "cell_type": "code",
      "metadata": {
        "id": "LWj3h0CZg8Wl",
        "colab_type": "code",
        "colab": {},
        "outputId": "06fc7326-1f72-47e9-8ac5-21c71f1c28f3"
      },
      "source": [
        "# multiplication\n",
        "\n",
        "z = x * y\n",
        "z.get()"
      ],
      "execution_count": 0,
      "outputs": [
        {
          "output_type": "execute_result",
          "data": {
            "text/plain": [
              "tensor([125])"
            ]
          },
          "metadata": {
            "tags": []
          },
          "execution_count": 28
        }
      ]
    },
    {
      "cell_type": "markdown",
      "metadata": {
        "id": "-UjdDTHrg8Wo",
        "colab_type": "text"
      },
      "source": [
        "আপনি ম্যাট্রিক্স গুণও করতে পারেন"
      ]
    },
    {
      "cell_type": "code",
      "metadata": {
        "id": "OHRyaUO8g8Wo",
        "colab_type": "code",
        "colab": {}
      },
      "source": [
        "x = torch.tensor([[1, 2],[3,4]]).share(bob,alice, crypto_provider=crypto_provider)\n",
        "y = torch.tensor([[2, 0],[0,2]]).share(bob,alice, crypto_provider=crypto_provider)"
      ],
      "execution_count": 0,
      "outputs": []
    },
    {
      "cell_type": "code",
      "metadata": {
        "id": "CTk0o6VJg8Wr",
        "colab_type": "code",
        "colab": {},
        "outputId": "5695d202-eadc-4d39-83ba-c16ce4fce2ce"
      },
      "source": [
        "# matrix multiplication\n",
        "\n",
        "z = x.mm(y)\n",
        "z.get()"
      ],
      "execution_count": 0,
      "outputs": [
        {
          "output_type": "execute_result",
          "data": {
            "text/plain": [
              "tensor([[2, 4],\n",
              "        [6, 8]])"
            ]
          },
          "metadata": {
            "tags": []
          },
          "execution_count": 30
        }
      ]
    },
    {
      "cell_type": "markdown",
      "metadata": {
        "id": "-qS-sacrg8Wv",
        "colab_type": "text"
      },
      "source": [
        "# এনক্রিপ্টেড তুলনা (Encrypted comparison)\n",
        "প্রাইভেট ভ্যালুগুলোর মধ্যে প্রাইভেট তুলনা করাও সম্ভব। আমরা এখানে SecureNN প্রোটোকলে নির্ভর করি, যার বিবরণ পাওয়া যাবে [এখানে](https://eprint.iacr.org/2018/442.pdf)। তুলনার ফলাফলটি একটি ব্যক্তিগত শেয়ারড টেনসরও।"
      ]
    },
    {
      "cell_type": "code",
      "metadata": {
        "id": "J9oZy6y6g8Ww",
        "colab_type": "code",
        "colab": {}
      },
      "source": [
        "x = torch.tensor([25]).share(bob,alice, crypto_provider=crypto_provider)\n",
        "y = torch.tensor([5]).share(bob,alice, crypto_provider=crypto_provider)"
      ],
      "execution_count": 0,
      "outputs": []
    },
    {
      "cell_type": "code",
      "metadata": {
        "id": "CotK3-kdg8Wz",
        "colab_type": "code",
        "colab": {},
        "outputId": "ec62df0b-ecb7-40ca-a97e-4b37ab65fbad"
      },
      "source": [
        "z = x > y\n",
        "z.get()"
      ],
      "execution_count": 0,
      "outputs": [
        {
          "output_type": "execute_result",
          "data": {
            "text/plain": [
              "tensor([1])"
            ]
          },
          "metadata": {
            "tags": []
          },
          "execution_count": 32
        }
      ]
    },
    {
      "cell_type": "code",
      "metadata": {
        "id": "uDMrW6Z5g8W2",
        "colab_type": "code",
        "colab": {},
        "outputId": "3b98f09e-c81e-4bb0-e9f8-0c12b5ec7c52"
      },
      "source": [
        "z = x <= y\n",
        "z.get()"
      ],
      "execution_count": 0,
      "outputs": [
        {
          "output_type": "execute_result",
          "data": {
            "text/plain": [
              "tensor([0])"
            ]
          },
          "metadata": {
            "tags": []
          },
          "execution_count": 33
        }
      ]
    },
    {
      "cell_type": "code",
      "metadata": {
        "id": "GlD8iWcFg8W5",
        "colab_type": "code",
        "colab": {},
        "outputId": "cc35e6b5-6440-430a-a66c-58388e1cd0d6"
      },
      "source": [
        "z = x == y\n",
        "z.get()"
      ],
      "execution_count": 0,
      "outputs": [
        {
          "output_type": "execute_result",
          "data": {
            "text/plain": [
              "tensor([0])"
            ]
          },
          "metadata": {
            "tags": []
          },
          "execution_count": 34
        }
      ]
    },
    {
      "cell_type": "code",
      "metadata": {
        "id": "Z0RjpqmSg8W9",
        "colab_type": "code",
        "colab": {},
        "outputId": "4a056a83-d6bb-411a-df37-554e20446930"
      },
      "source": [
        "z = x == y + 20\n",
        "z.get()"
      ],
      "execution_count": 0,
      "outputs": [
        {
          "output_type": "execute_result",
          "data": {
            "text/plain": [
              "tensor([1])"
            ]
          },
          "metadata": {
            "tags": []
          },
          "execution_count": 35
        }
      ]
    },
    {
      "cell_type": "markdown",
      "metadata": {
        "id": "crVl05gyg8W_",
        "colab_type": "text"
      },
      "source": [
        "আপনি max অপারেশনও করতে পারেন"
      ]
    },
    {
      "cell_type": "code",
      "metadata": {
        "id": "WTlwx4htg8XC",
        "colab_type": "code",
        "colab": {},
        "outputId": "ddcf7374-2de6-4e77-a714-cfbb0b8c8160"
      },
      "source": [
        "x = torch.tensor([2, 3, 4, 1]).share(bob,alice, crypto_provider=crypto_provider)\n",
        "x.max().get()"
      ],
      "execution_count": 0,
      "outputs": [
        {
          "output_type": "execute_result",
          "data": {
            "text/plain": [
              "tensor([4])"
            ]
          },
          "metadata": {
            "tags": []
          },
          "execution_count": 36
        }
      ]
    },
    {
      "cell_type": "code",
      "metadata": {
        "id": "G4hwtjksg8XK",
        "colab_type": "code",
        "colab": {},
        "outputId": "062b640f-a8d0-48b7-9554-e197d73e6c53"
      },
      "source": [
        "x = torch.tensor([[2, 3], [4, 1]]).share(bob,alice, crypto_provider=crypto_provider)\n",
        "max_values, max_ids = x.max(dim=0)\n",
        "max_values.get()"
      ],
      "execution_count": 0,
      "outputs": [
        {
          "output_type": "execute_result",
          "data": {
            "text/plain": [
              "tensor([4, 3])"
            ]
          },
          "metadata": {
            "tags": []
          },
          "execution_count": 37
        }
      ]
    },
    {
      "cell_type": "markdown",
      "metadata": {
        "id": "ePro4FJqg8XP",
        "colab_type": "text"
      },
      "source": [
        "# অভিনন্দন সম্প্রদায় যোগদানের সময়! (Congratulations!!! - Time to Join the Community!)\n",
        "\n",
        "এই নোটবুক টিউটোরিয়ালটি সম্পন্ন করার জন্য অভিনন্দন। আপনি যদি এটি উপভোগ করেন এবং গোপনীয়তা সংরক্ষণ, AI এবং AI সরবরাহ চেইনের (ডেটা) বিকেন্দ্রীভূত মালিকানার দিকে আন্দোলনে যোগ দিতে চান, আপনি নিম্নলিখিত উপায়ে এটি করতে পারেন।\n",
        "\n",
        "### গিটহাবে পাইসিফ্ট কে স্টার দিন (Star PySyft on GitHub)\n",
        "\n",
        "আমাদের সম্প্রদায়কে সাহায্য করার সবচেয়ে সহজ উপায় হল রিপোসিটোরি গুলোতে ষ্টার করা\n",
        " এটি আমরা যে অসাধারণ সরঞ্জামগুলি তৈরি করছি তার সচেতনতা বাড়াতে সহায়তা করে।\n",
        "\n",
        "- [Star PySyft](https://github.com/OpenMined/PySyft)\n",
        "\n",
        "### আমাদের স্ল্যাকে যোগ দিন (Join our Slack!)\n",
        "\n",
        "সর্বশেষতম অগ্রগতিতে আপ টু ডেট রাখার সর্বোত্তম উপায় হ'ল আমাদের সম্প্রদায়ে যোগদান করা। আপনি ফর্মটি পূরণ করে এটি করতে পারেন [http://slack.openmined.org](http://slack.openmined.org)\n",
        "\n",
        "### একটি কোড প্রকল্পে যোগদান করুন! (Join a Code Project!)\n",
        "\n",
        "আমাদের সম্প্রদায়ে অবদান রাখার সর্বোত্তম উপায় হল কোড অবদানকারী হয়ে উঠুন! যে কোনও সময় আপনি পাইসাইফ্ট গিটহাবে ইস্যু পৃষ্ঠাতে যেতে পারেন এবং \"প্রকল্পগুলি\" এর জন্য ফিল্টার করতে পারেন। এটি আপনাকে শীর্ষ স্তরের সমস্ত টিকিট দেখিয়ে দেবে যে আপনি কোন প্রকল্পগুলিতে যোগদান করতে পারেন তার একটি ওভারভিউ দেয়! আপনি যদি কোনও প্রকল্পে যোগ দিতে না চান তবে আপনি কিছুটা কোডিং করতে চান তবে আপনি \"ভাল প্রথম ইস্যু\" চিহ্নিত গিথুব ইস্যুগুলি অনুসন্ধান করে আরও \"ওয়ান অফ\" মিনি-প্রকল্পগুলির সন্ধান করতে পারেন।\n",
        "\n",
        "- [PySyft Projects](https://github.com/OpenMined/PySyft/issues?q=is%3Aopen+is%3Aissue+label%3AProject)\n",
        "- [Good First Issue Tickets](https://github.com/OpenMined/PySyft/issues?q=is%3Aopen+is%3Aissue+label%3A%22good+first+issue%22)\n",
        "\n",
        "### দান করুন (Donate)\n",
        "\n",
        "আপনার যদি আমাদের কোডবেসে অবদান রাখার সময় না থাকে তবে তবুও সমর্থন দিতে চান, আপনি আমাদের ওপেন কালেক্টিভেরও Backer হয়ে উঠতে পারেন। সমস্ত অনুদান আমাদের ওয়েব হোস্টিং এবং অন্যান্য সম্প্রদায় ব্যয় যেমন হ্যাকাথন এবং মিটাপগুলির (hackathons and meetups!) দিকে যায়।\n",
        "\n",
        "- [Donate through OpenMined's Open Collective Page](https://opencollective.com/openmined)"
      ]
    },
    {
      "cell_type": "code",
      "metadata": {
        "id": "Epg2Mpeug8XP",
        "colab_type": "code",
        "colab": {}
      },
      "source": [
        ""
      ],
      "execution_count": 0,
      "outputs": []
    }
  ]
}
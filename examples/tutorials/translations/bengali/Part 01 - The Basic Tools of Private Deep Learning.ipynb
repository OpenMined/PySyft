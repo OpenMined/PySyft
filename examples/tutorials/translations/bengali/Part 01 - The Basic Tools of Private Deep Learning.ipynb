{
 "cells": [
  {
   "cell_type": "markdown",
   "metadata": {},
   "source": [
    "# টিউটোরিয়াল: বেসরকারী গভীর শিক্ষার প্রাথমিক সরঞ্জামসমূহ Tools\n",
    "\n",
    "পাইসাইফ্টের গোপনীয়তা সংরক্ষণ, বিকেন্দ্রীভূত গভীর শিক্ষার জন্য প্রবর্তক টিউটোরিয়ালে স্বাগতম। এই সিরিজের নোটবুকগুলি একটি কর্তৃপক্ষের অধীনে কেন্দ্রীভূত না করে গোপন / ব্যক্তিগত তথ্য / মডেলগুলিতে গভীর শিক্ষার জন্য প্রয়োজনীয় নতুন সরঞ্জাম এবং কৌশলগুলি জানতে আপনার জন্য ধাপে ধাপে গাইড।\n",
    "\n",
    "**ব্যাপ্তি:** মনে রাখবেন যে আমরা কীভাবে ডেটা বিকেন্দ্রীকরণ / এনক্রিপ্ট করব সে সম্পর্কে কথা বলব না, তবে আমরা কীভাবে পাইসাইফ্টকে ডেটা সংরক্ষণ এবং কোয়েরি করা ডেটাবেস সহ ডেটাবেস সহ পুরো বাস্তুতন্ত্রকে বিকেন্দ্রীকরণে সহায়তা করতে পারি তা সম্বোধন করব and নিউরাল মডেলগুলি যা ডেটা থেকে তথ্য আহরণের জন্য ব্যবহৃত হয়। পাইসাইফ্টে নতুন এক্সটেনশন তৈরি হওয়ার সাথে সাথে এই নোটবুকগুলি নতুন কার্যকারিতা ব্যাখ্যা করার জন্য নতুন টিউটোরিয়ালগুলির সাথে প্রসারিত হবে।\n",
    "## লেখক:\n",
    "- Andrew Trask - Twitter: [@iamtrask](https://twitter.com/iamtrask)\n",
    "\n",
    "## অনুবাদক:\n",
    "- Sayantan Das - Github: [@ucalyptus](https://github.com/ucalyptus)\n",
    "\n",
    "## কেন এই টিউটোরিয়াল নিন:\n",
    "\n",
    "- পর্ব 1: বেসরকারী গভীর শিক্ষার প্রাথমিক সরঞ্জামগুলি\n",
    "\n",
    "\n",
    "## কেন এই টিউটোরিয়াল নিন?\n",
    "\n",
    "** 1) একটি প্রতিযোগিতামূলক ক্যারিয়ার সুবিধা ** - গত 20 বছর ধরে, ডিজিটাল বিপ্লবটি এনালগ প্রক্রিয়াগুলি ডিজিটাইজড হওয়ার কারণে ডেটা আরও বেশি পরিমাণে আরও বেশি অ্যাক্সেসযোগ্য করে তুলেছে। যাইহোক, নতুন নিয়ন্ত্রণ হিসাবে যেমন[GDPR](https://eugdpr.org/), উদ্যোগগুলি কীভাবে তারা ব্যবহার করে - এবং আরও গুরুত্বপূর্ণভাবে কীভাবে তারা বিশ্লেষণ করে - ব্যক্তিগত তথ্যের সাথে স্বাধীনতার কম চাপে। ** নীচের লাইন: ** তথ্য বিজ্ঞানীরা \"পুরাতন স্কুল\" সরঞ্জামের সাহায্যে তত বেশি ডেটা অ্যাক্সেস করতে পারবেন না, তবে বেসরকারী ডিপ লার্নিংয়ের সরঞ্জামগুলি শিখে আপনি এই বক্ররের চেয়ে এগিয়ে থাকতে পারেন এবং এতে প্রতিযোগিতামূলক সুবিধা পেতে পারেন তোমার কর্মজীবন.\n",
    "\n",
    "**2) উদ্যোক্তা সুযোগ** - সমাজে পুরো সমস্যা রয়েছে যা ডিপ লার্নিং সমাধান করতে পারে তবে বেশিরভাগ গুরুত্বপূর্ণ অনুসন্ধান করা হয়নি কারণ এর জন্য মানুষের সম্পর্কে অবিশ্বাস্য সংবেদনশীল তথ্য অ্যাক্সেসের প্রয়োজন হবে (মানসিক বা সম্পর্কের সমস্যাযুক্ত ব্যক্তিদের সহায়তা করার জন্য ডিপ লার্নিংয়ের ব্যবহার বিবেচনা করুন) !)। সুতরাং, প্রাইভেট ডিপ লার্নিং শেখা আপনার জন্য নতুন শুরু করার সুযোগগুলি পুরোপুরি উন্মুক্ত করে যা এই সরঞ্জাম সরঞ্জামগুলি ছাড়া অন্যদের কাছে আগে উপলভ্য ছিল না।\n",
    "\n",
    "** 3) সামাজিক ভাল ** - ডিপ লার্নিং বাস্তব বিশ্বের বিভিন্ন ধরণের সমস্যা সমাধানের জন্য ব্যবহার করা যেতে পারে, তবে * ব্যক্তিগত তথ্য * সম্পর্কে ডিপ লার্নিং হল মানুষের সম্পর্কে *, মানুষের জন্য * গভীর শেখা। আপনার নিজের মতো নয় এমন ডেটাতে কীভাবে ডিপ লার্নিং করবেন তা শেখা ক্যারিয়ার বা উদ্যোক্তা সুযোগের চেয়ে বেশি প্রতিনিধিত্ব করে, এটি মানুষের জীবনের সবচেয়ে ব্যক্তিগত এবং গুরুত্বপূর্ণ কিছু সমস্যা সমাধানে সহায়তা করার সুযোগ - এবং এটি স্কেল করে করার জন্য।\n",
    "\n",
    "## আমি কীভাবে অতিরিক্ত creditণ পেতে পারি?\n",
    "\n",
    "- গিটহাবে স্টার পাই সাইফ্ট! - [https://github.com/OpenMined/PySyft](https://github.com/OpenMined/PySyft)\n",
    "- এই নোটবুকটি শিখিয়ে একটি ইউটিউব ভিডিও তৈরি করুন!\n",
    "\n",
    "\n",
    "... ঠিক আছে এই কাজ করতে দিন!"
   ]
  },
  {
   "cell_type": "markdown",
   "metadata": {},
   "source": [
    "# পার্ট -১: পূর্বশর্তসমূহ \n",
    "পাইটর্চ জানুন - তা না হলে http://fast.ai কোর্সটি নিয়ে ফিরে আসুন পাই সাইফ্ট ফ্রেমওয়ার্ক পেপার https://arxiv.org/pdf/1811.04017.pdf পড়ুন! এটি আপনাকে পাইসাইফ্ট কীভাবে নির্মাণ করা হয়েছে তার সামগ্রিক ব্যাকগ্রাউন্ড দেবে যা জিনিসগুলি আরও অর্থবোধ করতে সহায়তা করবে।"
   ]
  },
  {
   "cell_type": "markdown",
   "metadata": {},
   "source": [
    "# পার্ট 0: সেটআপশুরু\n",
    "করার জন্য, আপনাকে সঠিক জিনিসগুলি ইনস্টল করা আছে তা নিশ্চিত করতে হবে। এটি করার জন্য, পাইসাইফ্টের রেডমিমে যান এবং সেটআপ নির্দেশাবলী অনুসরণ করুন। বেশিরভাগ লোকের জন্য TLDR হ'ল।\n",
    "\n",
    "- Install Python 3.6 or higher\n",
    "- Install PyTorch 1.3\n",
    "- Clone PySyft (git clone https://github.com/OpenMined/PySyft.git)\n",
    "- cd PySyft\n",
    "- pip install -r pip-dep/requirements.txt\n",
    "- pip install -r pip-dep/requirements_udacity.txt\n",
    "- python setup.py install udacity\n",
    "- python setup.py test\n",
    "\n",
    "যদি এর কোনও অংশ আপনার জন্য কাজ করে না (বা পরীক্ষাগুলির কোনওটি ব্যর্থ হয়) - ইনস্টলেশন সহায়তার জন্য প্রথমে [README] (https://github.com/OpenMined/PySyft.git) পরীক্ষা করুন এবং তারপরে একটি গিটহাব ইস্যু খুলুন বা আমাদের স্ল্যাশে # বিগিনার চ্যানেলটি পিং করুন! [Slack.openmined.org] (http://slack.openmined.org/)"
   ]
  },
  {
   "cell_type": "code",
   "execution_count": null,
   "metadata": {},
   "outputs": [],
   "source": [
    "# Run this cell to see if things work\n",
    "import sys\n",
    "\n",
    "import torch\n",
    "from torch.nn import Parameter\n",
    "import torch.nn as nn\n",
    "import torch.nn.functional as F\n",
    "\n",
    "import syft as sy\n",
    "hook = sy.TorchHook(torch)\n",
    "\n",
    "torch.tensor([1,2,3,4,5])"
   ]
  },
  {
   "cell_type": "markdown",
   "metadata": {},
   "source": [
    "যদি এই সেলটি কার্যকর করা হয়, তবে আপনি দৌড় প্রতিযোগিতায় চলে যাচ্ছেন! চল এটা করি!"
   ]
  },
  {
   "cell_type": "markdown",
   "metadata": {},
   "source": [
    "# পর্ব 1: বেসরকারী, বিকেন্দ্রীভূত ডেটা বিজ্ঞানের প্রাথমিক সরঞ্জামসমূহ\n",
    "\n",
    "সুতরাং - আপনি যে প্রশ্নটি প্রথম থেকেই ভাবতে পারেন তা হ'ল - বিশ্বে আমরা কীভাবে এমন ডেটা সম্পর্কে কোনও মডেলকে প্রশিক্ষণ দেব যা আমাদের অ্যাক্সেস নেই?\n",
    "\n",
    "ঠিক আছে, উত্তরটি আশ্চর্যজনকভাবে সহজ। আপনি যদি পাইটর্চে কাজ করতে অভ্যস্ত হন তবে আপনি মশাল নিয়ে কাজ করতে অভ্যস্ত!"
   ]
  },
  {
   "cell_type": "code",
   "execution_count": null,
   "metadata": {},
   "outputs": [],
   "source": [
    "x = torch.tensor([1,2,3,4,5])\n",
    "y = x + x\n",
    "print(y)"
   ]
  },
  {
   "cell_type": "markdown",
   "metadata": {},
   "source": [
    "স্পষ্টতই, এই সুপার অভিনব (এবং শক্তিশালী!) টেনজারগুলি ব্যবহার করা গুরুত্বপূর্ণ, তবে আপনার স্থানীয় মেশিনে ডেটা থাকাও দরকার। এখান থেকেই আমাদের যাত্রা শুরু।\n",
    "\n",
    "# বিভাগ 1.1 - ববসের মেশিনে টেনারগুলি প্রেরণ\n",
    "\n",
    "যেখানে সাধারণত আমরা মেশিনে ডেটা সায়েন্স / গভীর জ্ঞান সঞ্চালন করি যা ডেটা রাখে, এখন আমরা কিছু ** অন্যান্য ** মেশিনে এই ধরণের গণনা সম্পাদন করতে চাই। আরও নির্দিষ্টভাবে, আমরা আর সহজেই ধরে নিতে পারি না যে ডেটা আমাদের স্থানীয় মেশিনে রয়েছে।\n",
    "\n",
    "সুতরাং, টর্চ টেনারগুলি ব্যবহার করার পরিবর্তে, আমরা এখন ** পয়েন্টারগুলি ** টেনারদের সাথে কাজ করব। আমি বলতে চাই কি আপনাকে দেখাতে দিন। প্রথমে আসুন একটি \"ভান\" মেশিনটি \"ভান\" করা ব্যক্তির মালিকানাধীন - আমরা তাকে বব বলব।"
   ]
  },
  {
   "cell_type": "code",
   "execution_count": null,
   "metadata": {},
   "outputs": [],
   "source": [
    "bob = sy.VirtualWorker(hook, id=\"bob\")"
   ]
  },
  {
   "cell_type": "markdown",
   "metadata": {},
   "source": [
    "ধরা যাক ববসের যন্ত্রটি অন্য গ্রহে রয়েছে - সম্ভবত মঙ্গলগ্রহে! তবে, এই মুহুর্তে মেশিনটি খালি রয়েছে। আসুন কিছু ডেটা তৈরি করুন যাতে আমরা এটি ববকে প্রেরণ করতে পারি এবং পয়েন্টারগুলি সম্পর্কে জানতে পারি!"
   ]
  },
  {
   "cell_type": "code",
   "execution_count": null,
   "metadata": {},
   "outputs": [],
   "source": [
    "x = torch.tensor([1,2,3,4,5])\n",
    "y = torch.tensor([1,1,1,1,1])"
   ]
  },
  {
   "cell_type": "markdown",
   "metadata": {},
   "source": [
    "এবং এখন - আসুন আমাদের টেনারগুলি Bobকে প্রেরণ করুন !!"
   ]
  },
  {
   "cell_type": "code",
   "execution_count": null,
   "metadata": {},
   "outputs": [],
   "source": [
    "x_ptr = x.send(bob)\n",
    "y_ptr = y.send(bob)"
   ]
  },
  {
   "cell_type": "code",
   "execution_count": null,
   "metadata": {},
   "outputs": [],
   "source": [
    "x_ptr"
   ]
  },
  {
   "cell_type": "markdown",
   "metadata": {},
   "source": [
    "এবং এখন - আসুন আমাদের টেনারগুলি Bobকে প্রেরণ করুন !! এখন Bob দুই টেনার আছে! বিশ্বাস করবেন না? নিজের জন্য একবার দেখুন!"
   ]
  },
  {
   "cell_type": "code",
   "execution_count": null,
   "metadata": {},
   "outputs": [],
   "source": [
    "bob._objects"
   ]
  },
  {
   "cell_type": "code",
   "execution_count": null,
   "metadata": {},
   "outputs": [],
   "source": [
    "z = x_ptr + x_ptr"
   ]
  },
  {
   "cell_type": "code",
   "execution_count": null,
   "metadata": {},
   "outputs": [],
   "source": [
    "z"
   ]
  },
  {
   "cell_type": "code",
   "execution_count": null,
   "metadata": {},
   "outputs": [],
   "source": [
    "bob._objects"
   ]
  },
  {
   "cell_type": "markdown",
   "metadata": {},
   "source": [
    "এখন কিছু লক্ষ্য করুন। আমরা যখন `x.send (বব) বলি` তখন এটি একটি নতুন বস্তু ফিরে আসে যা আমরা `x_ptr` বলে called এটি একটি টেন্সরের কাছে আমাদের প্রথম * পয়েন্টার। টেনারগুলিতে পয়েন্টারগুলি আসলে ডেটা রাখে না। পরিবর্তে, তারা কেবল অন্য মেশিনে সঞ্চিত টেনসর (ডেটা সহ) সম্পর্কে মেটাডেটা ধারণ করে। এই টেনসরগুলির উদ্দেশ্য হ'ল এই টেনসরটি ব্যবহার করে অন্য মেশিনকে ফাংশনগুলি গণনা করতে বলার জন্য একটি স্বজ্ঞাত এপিআই দেওয়া। পয়েন্টারগুলিতে থাকা মেটাডেটাটি একবার দেখে নেওয়া যাক।"
   ]
  },
  {
   "cell_type": "code",
   "execution_count": null,
   "metadata": {},
   "outputs": [],
   "source": [
    "x_ptr"
   ]
  },
  {
   "cell_type": "markdown",
   "metadata": {},
   "source": [
    "মেটাটাটা দেখুন!\n",
    "\n",
    "পয়েন্টারগুলিতে নির্দিষ্ট দুটি প্রধান বৈশিষ্ট্য রয়েছে:\n",
    "\n",
    "- `x_ptr.location: bob`, অবস্থান, পয়েন্টারটি নির্দেশ করছে যে অবস্থানের জন্য একটি রেফারেন্স\n",
    "- `x_ptr.id_at_location: <এলোমেলো পূর্ণসংখ্যা>`, আইডি যেখানে সেন্সরটি লোকেশনটিতে সংরক্ষণ করা হয়\n",
    "\n",
    "এগুলি `<id_at_location> @ <লোকেশন> the ফর্ম্যাটে মুদ্রিত হয়েছে`\n",
    "\n",
    "আরও অন্যান্য জেনেরিক বৈশিষ্ট্য রয়েছে:\n",
    "- `x_ptr.id: <এলোমেলো পূর্ণসংখ্যা>`, আমাদের পয়েন্টার টেন্সরের আইডি, এটি এলোমেলোভাবে বরাদ্দ করা হয়েছিল\n",
    "- `x_ptr.owner:\" আমি \"`, যে কর্মী পয়েন্টার টেনসারের মালিক, এখানে স্থানীয় শ্রমিক, নাম দেওয়া হয়েছে \"me\""
   ]
  },
  {
   "cell_type": "code",
   "execution_count": null,
   "metadata": {},
   "outputs": [],
   "source": [
    "x_ptr.location"
   ]
  },
  {
   "cell_type": "code",
   "execution_count": null,
   "metadata": {},
   "outputs": [],
   "source": [
    "bob"
   ]
  },
  {
   "cell_type": "code",
   "execution_count": null,
   "metadata": {},
   "outputs": [],
   "source": [
    "bob == x_ptr.location"
   ]
  },
  {
   "cell_type": "code",
   "execution_count": null,
   "metadata": {},
   "outputs": [],
   "source": [
    "x_ptr.id_at_location"
   ]
  },
  {
   "cell_type": "code",
   "execution_count": null,
   "metadata": {},
   "outputs": [],
   "source": [
    "x_ptr.owner"
   ]
  },
  {
   "cell_type": "markdown",
   "metadata": {},
   "source": [
    "আপনি ভাবতে পারেন যে পয়েন্টারের মালিকানাধীন স্থানীয় কর্মী কেন ভার্চুয়াল ওয়ার্কার, যদিও আমরা এটি তৈরি করি নি।\n",
    "মজার ঘটনা, ঠিক যেমন ববয়ের জন্য আমাদের ভার্চুয়াল ওয়ার্কার অবজেক্ট ছিল, আমাদের (ডিফল্টরূপে) সর্বদা আমাদের জন্যও রয়েছে। যখন আমরা `hook = sy.TorchHook () called বলি তখন এই কর্মী স্বয়ংক্রিয়ভাবে তৈরি হয় এবং তাই আপনাকে সাধারণত নিজেরাই তৈরি করতে হবে না।"
   ]
  },
  {
   "cell_type": "code",
   "execution_count": null,
   "metadata": {},
   "outputs": [],
   "source": [
    "me = sy.local_worker\n",
    "me"
   ]
  },
  {
   "cell_type": "code",
   "execution_count": null,
   "metadata": {},
   "outputs": [],
   "source": [
    "me == x_ptr.owner"
   ]
  },
  {
   "cell_type": "markdown",
   "metadata": {},
   "source": [
    "এবং শেষ অবধি, আমরা যেমন একটি টেনসরে .send () কল করতে পারি, ঠিক তেমনভাবে ফিরে আসার জন্য আমরা একটি টেন্ডারটিতে একটি পয়েন্টারে .get () কল করতে পারি !!!"
   ]
  },
  {
   "cell_type": "code",
   "execution_count": null,
   "metadata": {},
   "outputs": [],
   "source": [
    "x_ptr"
   ]
  },
  {
   "cell_type": "code",
   "execution_count": null,
   "metadata": {},
   "outputs": [],
   "source": [
    "x_ptr.get()"
   ]
  },
  {
   "cell_type": "code",
   "execution_count": null,
   "metadata": {},
   "outputs": [],
   "source": [
    "y_ptr"
   ]
  },
  {
   "cell_type": "code",
   "execution_count": null,
   "metadata": {},
   "outputs": [],
   "source": [
    "y_ptr.get()"
   ]
  },
  {
   "cell_type": "code",
   "execution_count": null,
   "metadata": {},
   "outputs": [],
   "source": [
    "z.get()"
   ]
  },
  {
   "cell_type": "code",
   "execution_count": null,
   "metadata": {},
   "outputs": [],
   "source": [
    "bob._objects"
   ]
  },
  {
   "cell_type": "markdown",
   "metadata": {},
   "source": [
    "এবং আপনি দেখতে পাচ্ছেন ... বব এর আর টেনার নেই! তারা আমাদের মেশিনে ফিরে গেছে!"
   ]
  },
  {
   "cell_type": "markdown",
   "metadata": {},
   "source": [
    "# বিভাগ 1.2 - টেনসর পয়েন্টার ব্যবহার করে\n",
    "\n",
    "সুতরাং, ববের কাছ থেকে টেনারগুলি প্রেরণ এবং গ্রহণ করা দুর্দান্ত তবে এটি ডিপ লার্নিং খুব কমই! আমরা রিমোট টেনারগুলিতে টেনসর _অপারেশন_ সম্পাদন করতে সক্ষম হতে চাই। ভাগ্যক্রমে, টেনসর পয়েন্টারগুলি এটি বেশ সহজ করে তোলে! আপনি যেমন সাধারণ টেনারগুলি চান ঠিক তেমন পয়েন্টার ব্যবহার করতে পারেন!"
   ]
  },
  {
   "cell_type": "code",
   "execution_count": null,
   "metadata": {},
   "outputs": [],
   "source": [
    "x = torch.tensor([1,2,3,4,5]).send(bob)\n",
    "y = torch.tensor([1,1,1,1,1]).send(bob)"
   ]
  },
  {
   "cell_type": "code",
   "execution_count": null,
   "metadata": {},
   "outputs": [],
   "source": [
    "z = x + y"
   ]
  },
  {
   "cell_type": "code",
   "execution_count": null,
   "metadata": {},
   "outputs": [],
   "source": [
    "z"
   ]
  },
  {
   "cell_type": "markdown",
   "metadata": {},
   "source": [
    "ও ভয়েল!\n",
    "\n",
    "পর্দার আড়ালে খুব শক্তিশালী কিছু ঘটেছিল। স্থানীয়ভাবে এক্স এবং ওয়াই সংযোজন করার পরিবর্তে, একটি কমান্ড সিরিয়াল করা হয়েছিল এবং ববকে পাঠানো হয়েছিল, যিনি গণনা করেছিলেন, একটি সেন্সর জেড তৈরি করেছিলেন এবং তারপরে পয়েন্টারটি z এ ফিরে এসেছিলেন!\n",
    "\n",
    "আমরা যদি পয়েন্টারে .get () কল করি তবে আমরা আমাদের মেশিনে ফলাফলটি ফিরে পাব!"
   ]
  },
  {
   "cell_type": "code",
   "execution_count": null,
   "metadata": {},
   "outputs": [],
   "source": [
    "z.get()"
   ]
  },
  {
   "cell_type": "markdown",
   "metadata": {},
   "source": [
    "### টর্চ ফাংশন\n",
    "\n",
    "এই এপিআই টর্চের সমস্ত ক্রিয়াকলাপে প্রসারিত হয়েছে !!!"
   ]
  },
  {
   "cell_type": "code",
   "execution_count": null,
   "metadata": {},
   "outputs": [],
   "source": [
    "x"
   ]
  },
  {
   "cell_type": "code",
   "execution_count": null,
   "metadata": {},
   "outputs": [],
   "source": [
    "y"
   ]
  },
  {
   "cell_type": "code",
   "execution_count": null,
   "metadata": {},
   "outputs": [],
   "source": [
    "z = torch.add(x,y)\n",
    "z"
   ]
  },
  {
   "cell_type": "code",
   "execution_count": null,
   "metadata": {},
   "outputs": [],
   "source": [
    "z.get()"
   ]
  },
  {
   "cell_type": "markdown",
   "metadata": {},
   "source": [
    "### ভেরিয়েবল (ব্যাকপ্রোপেশন সহ!)"
   ]
  },
  {
   "cell_type": "code",
   "execution_count": null,
   "metadata": {},
   "outputs": [],
   "source": [
    "x = torch.tensor([1,2,3,4,5.], requires_grad=True).send(bob)\n",
    "y = torch.tensor([1,1,1,1,1.], requires_grad=True).send(bob)"
   ]
  },
  {
   "cell_type": "code",
   "execution_count": null,
   "metadata": {},
   "outputs": [],
   "source": [
    "z = (x + y).sum()"
   ]
  },
  {
   "cell_type": "code",
   "execution_count": null,
   "metadata": {},
   "outputs": [],
   "source": [
    "z.backward()"
   ]
  },
  {
   "cell_type": "code",
   "execution_count": null,
   "metadata": {},
   "outputs": [],
   "source": [
    "x = x.get()"
   ]
  },
  {
   "cell_type": "code",
   "execution_count": null,
   "metadata": {},
   "outputs": [],
   "source": [
    "x"
   ]
  },
  {
   "cell_type": "code",
   "execution_count": null,
   "metadata": {},
   "outputs": [],
   "source": [
    "x.grad"
   ]
  },
  {
   "cell_type": "markdown",
   "metadata": {},
   "source": [
    "সুতরাং আপনি দেখতে পাচ্ছেন যে, এপিআই হ'ল দূরবর্তী ডেটা * তে টর্চ এ সাধারনত যে কোনও অপারেশন সম্পাদন করতে পারে তার প্রায়শই সম্পাদন করতে সক্ষম। এটি আমাদের আরও উন্নত গোপনীয়তা সংরক্ষণের প্রোটোকল যেমন ফেডারেটেড লার্নিং, সিকিওর মাল্টি-পার্টি পার্টিশন এবং ডিফারেনশিয়াল প্রাইভেসির সংরক্ষণের ভিত্তি তৈরি করে!"
   ]
  },
  {
   "cell_type": "code",
   "execution_count": null,
   "metadata": {},
   "outputs": [],
   "source": []
  },
  {
   "cell_type": "markdown",
   "metadata": {},
   "source": [
    "# অভিনন্দন !!! - সম্প্রদায় যোগদানের সময়!\n",
    "\n",
    "এই নোটবুক টিউটোরিয়ালটি সম্পন্ন করার জন্য অভিনন্দন! আপনি যদি এটি উপভোগ করেন এবং গোপনীয়তা সংরক্ষণ, এআই এবং এআই সরবরাহ চেইনের (ডেটা) বিকেন্দ্রীভূত মালিকানার দিকে আন্দোলনে যোগ দিতে চান, আপনি নিম্নলিখিত উপায়ে এটি করতে পারেন!\n",
    "\n",
    "### গিটহাবে স্টার পাইসাইফ্ট\n",
    "\n",
    "আমাদের সম্প্রদায়কে সাহায্য করার সবচেয়ে সহজ উপায় হ'ল কেবল গিটহাব রেপো অভিনীত! এটি আমরা যে শীতল সরঞ্জামগুলি তৈরি করছি তার সচেতনতা বাড়াতে সহায়তা করে।\n",
    "\n",
    "- [স্টার পাইসাইফ্ট] (https://github.com/OpenMined/PySyft)\n",
    "\n",
    "### আমাদের স্ল্যাচে যোগ দিন!\n",
    "\n",
    "সর্বশেষতম অগ্রগতিতে আপ টু ডেট রাখার সর্বোত্তম উপায় হ'ল আমাদের সম্প্রদায়ে যোগদান করা! আপনি [http://slack.openmined.org] (http://slack.openmined.org) এ ফর্মটি পূরণ করে এটি করতে পারেন\n",
    "\n",
    "### একটি কোড প্রকল্পে যোগদান করুন!\n",
    "\n",
    "আমাদের সম্প্রদায়ে অবদান রাখার সর্বোত্তম উপায় হ'ল কোড অবদানকারী হয়ে উঠুন! যে কোনও সময় আপনি পাইসাইফ্ট গিটহাব ইস্যু পৃষ্ঠাতে যেতে পারেন এবং \"প্রকল্পগুলি\" এর জন্য ফিল্টার করতে পারেন। এটি আপনাকে শীর্ষ স্তরের সমস্ত টিকিট দেখিয়ে দেবে যে আপনি কোন প্রকল্পগুলিতে যোগদান করতে পারেন তার একটি ওভারভিউ দেয়! আপনি যদি কোনও প্রকল্পে যোগ দিতে না চান তবে আপনি কিছুটা কোডিং করতে চান, আপনি আরও ভাল \"ওয়ান অফ\" মিনি-প্রকল্পগুলি গিটহাব ইস্যুগুলি \"ভাল প্রথম ইস্যু\" চিহ্নিত করে অনুসন্ধান করতে পারেন।\n",
    "\n",
    "- [পাইসাইফ্ট প্রজেক্টস] (https://github.com/OpenMined/PySyft/issues?q=is%3Aopen+is%3Aissue+ লেবেল ৯৩ প্রজেক্ট)\n",
    "- [ভাল প্রথম ইস্যুর টিকিট] (https://github.com/OpenMined/PySyft/issues?q=is%3Aopen+is%3Aissue+label%3A%22good+first+issue%22)\n",
    "\n",
    "### দান করুন\n",
    "\n",
    "আপনার যদি আমাদের কোডবেসে অবদান রাখার সময় না থাকে তবে তবুও সমর্থন leণ দিতে চান, আপনি আমাদের ওপেন কালেক্টিভেরও ব্যাকের হয়ে উঠতে পারেন। সমস্ত অনুদান আমাদের ওয়েব হোস্টিং এবং অন্যান্য সম্প্রদায় ব্যয় যেমন হ্যাকাথনস এবং মেটআপগুলির দিকে যায়!\n",
    "\n",
    "[ওপেনমাইন্ডের মুক্ত সমাহারক পৃষ্ঠা] (https://opencollective.com/openmined)"
   ]
  },
  {
   "cell_type": "code",
   "execution_count": null,
   "metadata": {},
   "outputs": [],
   "source": []
  }
 ],
 "metadata": {
  "kernelspec": {
   "display_name": "Python 3",
   "language": "python",
   "name": "python3"
  },
  "language_info": {
   "codemirror_mode": {
    "name": "ipython",
    "version": 3
   },
   "file_extension": ".py",
   "mimetype": "text/x-python",
   "name": "python",
   "nbconvert_exporter": "python",
   "pygments_lexer": "ipython3",
   "version": "3.7.5"
  }
 },
 "nbformat": 4,
 "nbformat_minor": 2
}

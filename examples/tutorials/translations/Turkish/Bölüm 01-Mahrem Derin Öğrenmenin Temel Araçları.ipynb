{
 "cells": [
  {
   "cell_type": "markdown",
   "metadata": {},
   "source": [
    "# Bölüm-01 Mahrem Derin Öğrenmenin Temel Araçları (draft version!)\n",
    "\n",
    "PySyft'in gizliliğin korunması, dağıtık derin öğrenme ile ilgili eğitimine hoş geldiniz. Bu seri gizli veri ya da modeller üzerinde güvenli derin öğrenme yapabilmek için ihtiyaç duyacağınız yeni araç ve teknikleri adım adım öğrenmenizi sağlayacak bir kılavuzdur. \n",
    "\n",
    "**Kapsam:** Sadece veriyi nasıl dağıtık hale getirebiliriz ya da şifreleyebiliriz hususlarını konuşmayacağız; ayrıca verinin depolandığı ve sorgulandığı veri tabanları ve verilerden bilgi elde etmek için kullanılan modeller de dahil olmak üzere, Pysft'in veri etrafındaki tüm ekosistemi nasıl dağıtık hale getirmeye  yardımcı olduğunu da konuşacağız.\n",
    "\n",
    "Yazarlar :\n",
    "- Andrew Trask-Twitter: @iamtrask\n",
    "\n",
    "Çeviri :\n",
    "\n",
    "- Zumrut Muftuoglu : @zmuftuoglu\n",
    "\n",
    "## Ana Hat :\n",
    "- Bölüm 01: Mahrem Derin Öğrenmenin Temel Araçları\n",
    "\n",
    "## Bu eğitimi niçin almalıyım?\n",
    "\n",
    "**1) Rekabetçi Kariyer Avantajı:** Son 20 yıldır,dijital devrim ile analog süreçler sayısallaştıkça ,veri giderek daha da erişilebilir hal aldı. Bununla birlikte GDPR (ülkemizde KVKK) gibi yeni düzenlemelerle, işletmeler kişisel bilgileri nasıl kullandıkları ve daha da önemlisi nasıl analiz ettikleri konusunda daha az özgürlüğe sahip olma baskısı altındadır.**Dip not:** Veri Bilimciler; \"eski okul\" araçlarıyla çok fazla veriye erişemeyecekler, fakat mahrem derin öğrenme araçlarını öğrenerek,bu dönemecin önünde yerinizi alabilir ve kariyerinizde rekabet avantajı elde edebilirsiniz.   \n",
    "\n",
    "**2) Girişimci Fırsatlar :** Toplumda Derin Öğrenme'nin çözebileceği bir dizi sorun vardır, ancak en önemlilerinin çoğu araştırılmamıştır çünkü insanlar hakkında inanılmaz derecede hassas bilgilere erişim gerektirecektir (zihinsel veya ilişki sorunları olan insanlara yardımcı olmak için Derin Öğrenme'yi kullanmayı düşünün !). Böylece, Özel Derin Öğrenme öğrenmek sizin için daha önce bu araç setleri olmadan başkaları tarafından kullanılabilir olmayan bir dizi yeni başlangıç fırsatlarının kilidini açar.\n",
    "\n",
    "**3)Sosya Fayda :**  Derin Öğrenme, gerçek dünyada çok çeşitli sorunları çözmek için kullanılabilir,ancak kişisel veriler üzerinde derin öğrenme, insanlar için, insanlar hakkında derin öğrenmedir. Sahip olmadığınız veriler üzerinde Derin Öğrenme'nin nasıl yapılacağını öğrenmek, bir kariyer veya girişimci fırsattan daha fazlasını temsil eder, insanların yaşamlarındaki en kişisel ve önemli sorunların bazılarının çözülmesine yardımcı olma ve bunu ölçekli olarak yapma fırsatıdır.\n",
    "\n",
    "## Nasıl ekstra kredi kazanabilirim?\n",
    "- Github'ta Pysyft reposunu yıldızlamayı unutmayın! -  https://github.com/OpenMined/PySyft\n",
    "- Bir Youtube eğitim videosu hazırlamaya ne dersiniz?\n",
    "\n",
    "...hadi başlayalım!\n",
    "\n",
    "## Ön Şartlar : \n",
    "- Pytorch' u tanımak-eğer tanımıyorsanız linki tıklayabilirsiniz https://www.fast.ai/\n",
    "- Pysyft çerçevesini anlatan makaleyi okuyun! https://arxiv.org/pdf/1811.04017.pdf Bu makale Pysyft'in nasıl inşa edildiği hakkında hakkında detaylı bir arka plan vererek, işlerin daha anlamlı olmasına yardımcı olacaktır.\n",
    "\n",
    "## Kurulum :\n",
    "\n",
    "Başlamak için, doğru kurulumlar yaptığınıza emin olmalısınız.Bunun için Pysyft 'readme' dosyasına giderek talimatları takip edebilirsiniz. Ya da özetle aşağıdaki adımları takip edebilirsiniz :\n",
    "\n",
    "- Python 3.6 veya daha yukarı bir sürümü kurunuz\n",
    "- Pytorch 1.3 kurun\n",
    "- Pysyft' i kopyalayın (git clone https://github.com/OpenMined/PySyft.git)\n",
    "- Aşağıdaki komutları çalıştırın:\n",
    "    cd PySyft\n",
    "    pip install -r pip-dep/requirements.txt\n",
    "    pip install -r pip-dep/requirements_udacity.txt\n",
    "    python setup.py install udacity\n",
    "    python setup.py test\n",
    "\n",
    "Herhangi bir komut çalışmaz ise(veya testlerbaşarısız olursa)- kurulum yardımı için ilk olarak README dosyasını kontrol ediniz ve sonra Gitgub' ta görev yönetimi (issues) açın veya slack grubumuzda #beginner kanalımızda paylaşın! slack.openmined.org\n",
    "\n",
    "\n"
   ]
  },
  {
   "cell_type": "code",
   "execution_count": 3,
   "metadata": {},
   "outputs": [
    {
     "ename": "ModuleNotFoundError",
     "evalue": "No module named 'syft'",
     "output_type": "error",
     "traceback": [
      "\u001b[1;31m---------------------------------------------------------------------------\u001b[0m",
      "\u001b[1;31mModuleNotFoundError\u001b[0m                       Traceback (most recent call last)",
      "\u001b[1;32m<ipython-input-3-83eec0707b9c>\u001b[0m in \u001b[0;36m<module>\u001b[1;34m()\u001b[0m\n\u001b[0;32m      7\u001b[0m \u001b[1;32mimport\u001b[0m \u001b[0mtorch\u001b[0m\u001b[1;33m.\u001b[0m\u001b[0mnn\u001b[0m\u001b[1;33m.\u001b[0m\u001b[0mfunctional\u001b[0m \u001b[1;32mas\u001b[0m \u001b[0mF\u001b[0m\u001b[1;33m\u001b[0m\u001b[0m\n\u001b[0;32m      8\u001b[0m \u001b[1;33m\u001b[0m\u001b[0m\n\u001b[1;32m----> 9\u001b[1;33m \u001b[1;32mimport\u001b[0m \u001b[0msyft\u001b[0m \u001b[1;32mas\u001b[0m \u001b[0msy\u001b[0m\u001b[1;33m\u001b[0m\u001b[0m\n\u001b[0m\u001b[0;32m     10\u001b[0m \u001b[0mhook\u001b[0m \u001b[1;33m=\u001b[0m \u001b[0msy\u001b[0m\u001b[1;33m.\u001b[0m\u001b[0mTorchHook\u001b[0m\u001b[1;33m(\u001b[0m\u001b[0mtorch\u001b[0m\u001b[1;33m)\u001b[0m\u001b[1;33m\u001b[0m\u001b[0m\n\u001b[0;32m     11\u001b[0m \u001b[1;33m\u001b[0m\u001b[0m\n",
      "\u001b[1;31mModuleNotFoundError\u001b[0m: No module named 'syft'"
     ]
    }
   ],
   "source": [
    "#Yukarıdaki kurulum talimatlarının işe yarayıp yaramadığını görmek için aşağıdaki kodları çalıştırın\n",
    "import sys\n",
    "\n",
    "import torch\n",
    "from torch.nn import Parameter\n",
    "import torch.nn as nn\n",
    "import torch.nn.functional as F\n",
    "\n",
    "import syft as sy\n",
    "hook = sy.TorchHook(torch)\n",
    "\n",
    "torch.tensor([1,2,3,4,5])"
   ]
  },
  {
   "cell_type": "markdown",
   "metadata": {},
   "source": [
    "Eğer buraya kadar sorun yaşamadıysanız, o zaman yarışlara hazırsınız! Hadi yapalım!\n",
    "If this cell executed, then you're off to the races! Let's do this!"
   ]
  },
  {
   "cell_type": "markdown",
   "metadata": {},
   "source": [
    "## 1 Mahrem, Dağıtık Veri Biliminin Temel Araçları\n",
    "\n",
    "Peki veriye erişemediğimiz bir  dünyada modelimizi nasıl eğiteceğiz? Aklınıza gelebilecek ilk soru bu olabilir.\n",
    "Pekala, sorunun cevabı şaşırtıcı bir şekilde kolay. Eğer Pytorch ile çalışmaya alışıksanız, torch ile çalışmaya da aşina olacaksınız.Tensor nesneleri bunlar gibi!\n",
    "\n",
    "\n"
   ]
  },
  {
   "cell_type": "code",
   "execution_count": null,
   "metadata": {},
   "outputs": [],
   "source": [
    "x = torch.tensor([1,2,3,4,5])\n",
    "y = x + x\n",
    "print(y)"
   ]
  },
  {
   "cell_type": "markdown",
   "metadata": {},
   "source": [
    "Açıkçası, bu süper keyifli (ve güçlü!) Tensörleri kullanmak önemlidir, ancak bu aynı zamanda verileri yerel makinenizde bulundurmanızı gerektirir. Yolculuğumuzun başladığı yer tam da burası!\n",
    "\n"
   ]
  },
  {
   "cell_type": "markdown",
   "metadata": {},
   "source": [
    "## 1.1 Tensörlerin Bob'un Makinesine Gönderilmesi\n",
    "Normalde, verileri tutan makinede veri bilimi / derin öğrenme gerçekleştirirken, şimdi bu tür bir hesaplamayı başka bir makinede yapmak istiyoruz. Daha spesifik olarak, verilerin artık yerel makinemizde olduğunu varsayamayız.\n",
    "\n",
    "Böylece, torch tensörlerini kullanmak yerine,şimdi tensörlere işaretçilerle çalışacağız. Ne demek istediğimi göstereyim. İlk olarak, sahte sahibi olan \"sahte\" bir makine üretelim. Bu sahte makinemizin adı Bob olsun."
   ]
  },
  {
   "cell_type": "code",
   "execution_count": null,
   "metadata": {},
   "outputs": [],
   "source": [
    "bob = sy.VirtualWorker(hook, id=\"bob\")"
   ]
  },
  {
   "cell_type": "markdown",
   "metadata": {},
   "source": [
    "Bob'un başka bir gezegende olduğunu düşünelim-belki Mars' ta!\n",
    "Şu an için makine boş. Biraz veri oluşturalım, böylece Bob'a gönderebilir ve işaretçiler hakkında bilgi edinebiliriz!"
   ]
  },
  {
   "cell_type": "code",
   "execution_count": 1,
   "metadata": {},
   "outputs": [
    {
     "ename": "NameError",
     "evalue": "name 'torch' is not defined",
     "output_type": "error",
     "traceback": [
      "\u001b[1;31m---------------------------------------------------------------------------\u001b[0m",
      "\u001b[1;31mNameError\u001b[0m                                 Traceback (most recent call last)",
      "\u001b[1;32m<ipython-input-1-46ecf05f87c5>\u001b[0m in \u001b[0;36m<module>\u001b[1;34m()\u001b[0m\n\u001b[1;32m----> 1\u001b[1;33m \u001b[0mx\u001b[0m \u001b[1;33m=\u001b[0m \u001b[0mtorch\u001b[0m\u001b[1;33m.\u001b[0m\u001b[0mtensor\u001b[0m\u001b[1;33m(\u001b[0m\u001b[1;33m[\u001b[0m\u001b[1;36m1\u001b[0m\u001b[1;33m,\u001b[0m\u001b[1;36m2\u001b[0m\u001b[1;33m,\u001b[0m\u001b[1;36m3\u001b[0m\u001b[1;33m,\u001b[0m\u001b[1;36m4\u001b[0m\u001b[1;33m,\u001b[0m\u001b[1;36m5\u001b[0m\u001b[1;33m]\u001b[0m\u001b[1;33m)\u001b[0m\u001b[1;33m\u001b[0m\u001b[0m\n\u001b[0m\u001b[0;32m      2\u001b[0m \u001b[0my\u001b[0m \u001b[1;33m=\u001b[0m \u001b[0mtorch\u001b[0m\u001b[1;33m.\u001b[0m\u001b[0mtensor\u001b[0m\u001b[1;33m(\u001b[0m\u001b[1;33m[\u001b[0m\u001b[1;36m1\u001b[0m\u001b[1;33m,\u001b[0m\u001b[1;36m1\u001b[0m\u001b[1;33m,\u001b[0m\u001b[1;36m1\u001b[0m\u001b[1;33m,\u001b[0m\u001b[1;36m1\u001b[0m\u001b[1;33m,\u001b[0m\u001b[1;36m1\u001b[0m\u001b[1;33m]\u001b[0m\u001b[1;33m)\u001b[0m\u001b[1;33m\u001b[0m\u001b[0m\n",
      "\u001b[1;31mNameError\u001b[0m: name 'torch' is not defined"
     ]
    }
   ],
   "source": [
    "x = torch.tensor([1,2,3,4,5])\n",
    "y = torch.tensor([1,1,1,1,1])"
   ]
  },
  {
   "cell_type": "code",
   "execution_count": null,
   "metadata": {},
   "outputs": [],
   "source": []
  }
 ],
 "metadata": {
  "kernelspec": {
   "display_name": "Python 3",
   "language": "python",
   "name": "python3"
  },
  "language_info": {
   "codemirror_mode": {
    "name": "ipython",
    "version": 3
   },
   "file_extension": ".py",
   "mimetype": "text/x-python",
   "name": "python",
   "nbconvert_exporter": "python",
   "pygments_lexer": "ipython3",
   "version": "3.6.4"
  }
 },
 "nbformat": 4,
 "nbformat_minor": 2
}

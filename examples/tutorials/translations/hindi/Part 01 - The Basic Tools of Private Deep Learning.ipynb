{
 "cells": [
  {
   "cell_type": "markdown",
   "metadata": {},
   "source": [
    "# ट्यूटोरियल: प्राइवेट डीप लर्निंग का मूल उपकरण\n",
    "\n",
    "गोपनीयता संरक्षण, विकेंद्रीकृत गहन शिक्षा के लिए PySyft के परिचयात्मक ट्यूटोरियल में आपका स्वागत है। नोटबुक की यह श्रृंखला आपके लिए एक कदम-दर-चरण मार्गदर्शिका है, ताकि एक प्राधिकरण के तहत उन्हें केंद्रीकृत किए बिना गुप्त / निजी डेटा / मॉडल पर गहन सीखने के लिए आवश्यक नए उपकरणों और तकनीकों को जान सकें।\n",
    "\n",
    "**क्षेत्र:** ध्यान दें कि हम केवल डेटा के विकेंद्रीकृत (decentralized) / एन्क्रिप्ट (encrypt) करने के तरीके के बारे में बात नहीं कर रहे हैं, लेकिन हम यह बता रहे हैं कि कैसे डेटा के आसपास पूरे पारिस्थितिकी तंत्र को विकेंद्रीकृत करने में मदद करने के लिए PySyft का उपयोग किया जा सकता है, यहां तक कि डेटाबेस भी शामिल है जहां डेटा संग्रहीत और संगीन है, और तंत्रिका मॉडल (Neural Network) जिनका उपयोग डेटा से जानकारी निकालने के लिए किया जाता है। जैसा कि PySyft के लिए नए एक्सटेंशन बनाए गए हैं, नई कार्यक्षमता को समझाने के लिए इन नोटबुक को नए ट्यूटोरियल के साथ बढ़ाया जाएगा।\n",
    "\n",
    "लेखक:\n",
    "- Andrew Trask - Twitter: [@iamtrask](https://twitter.com/iamtrask)\n",
    "\n",
    "अनुवादक:\n",
    "- Arkadip Bhattacharya - Github: [@darkmatter18](https://github.com/darkmatter18)\n",
    "\n",
    "\n",
    "\n",
    "## रूपरेखा:\n",
    "\n",
    "- भाग 1: प्राइवेट डीप लर्निंग का बेसिक टूल\n",
    "\n",
    "\n",
    "## यह ट्यूटोरियल क्यों लें?\n",
    "\n",
    "**1) प्रतियोगी कैरियर लाभ** - पिछले 20 वर्षों से, डिजिटल क्रांति ने बड़ी मात्रा में डेटा को अधिक से अधिक सुलभ बना दिया है क्योंकि एनालॉग प्रक्रियाएं डिजिटल हो गई हैं। \n",
    "हालांकि, नए विनियमन जैसे कि [GDPR](https://eugdpr.org/) के साथ, उद्यमों पर दबाव होता है कि वे किस तरह से कम स्वतंत्रता का उपयोग करें - और अधिक महत्वपूर्ण बात यह है कि वे कैसे - व्यक्तिगत जानकारी का विश्लेषण करते हैं। **Bottom Line:** डेटा वैज्ञानिकों के पास \"पुराने स्कूल\"(Old school) टूल के साथ अधिक से अधिक डेटा तक पहुंच नहीं है, लेकिन प्राइवेट डीप लर्निंग के उपकरण सीखने से, आप इस वक्र से आगे हो सकते हैं और आपके करियर में प्रतिस्पर्धात्मक लाभ हो सकता है। \n",
    "\n",
    "**2) उद्यमी अवसर** - समाज में समस्याओं की एक पूरी मेजबानी है जिसे डीप लर्निंग हल कर सकता है, लेकिन कई सबसे महत्वपूर्ण का पता नहीं लगाया गया है क्योंकि इसे लोगों के बारे में अविश्वसनीय रूप से संवेदनशील जानकारी तक पहुंच की आवश्यकता होगी (मानसिक या रिश्ते के मुद्दों के साथ लोगों की मदद करने के लिए डीप लर्निंग का उपयोग करने पर विचार करें) !)। इस प्रकार, निजी डीप लर्निंग सीखना आपके लिए नए स्टार्टअप अवसरों की एक पूरी मेजबानी को अनलॉक करता है जो पहले इन टूलसेट के बिना दूसरों के लिए उपलब्ध नहीं थे।\n",
    "\n",
    "**3) सोशल गुड** - डीप लर्निंग का उपयोग वास्तविक दुनिया में कई प्रकार की समस्याओं को हल करने के लिए किया जा सकता है, लेकिन डीप लर्निंग व्यक्तिगत जानकारी पर डीप लर्निंग लोगों के बारे में, लोगों के लिए है। दीप लर्निंग कैसे करना है डेटा पर सीखना आपके पास कैरियर या उद्यमशीलता के अवसर से अधिक का प्रतिनिधित्व नहीं करता है, यह लोगों के जीवन में कुछ सबसे व्यक्तिगत और महत्वपूर्ण समस्याओं को हल करने में मदद करने का अवसर है - और इसे पैमाने पर करने के लिए।\n",
    "\n",
    "## मुझे अतिरिक्त क्रेडिट कैसे मिलेगा?\n",
    "\n",
    "- Pysyft को Github पर Star करें! - [https://github.com/OpenMined/PySyft](https://github.com/OpenMined/PySyft)\n",
    "- इस नोटबुक को सिखाने वाला एक Youtube वीडियो बनाएं।!\n",
    "\n",
    "\n",
    "... ठीक है ... आओ इसे करें!"
   ]
  },
  {
   "cell_type": "markdown",
   "metadata": {},
   "source": [
    "# अंश -1: आवश्यक शर्तें\n",
    "\n",
    "- PyTorch को जानें - यदि नहीं तो http://fast.ai कोर्स लें और वापस आएं\n",
    "- PySyft फ्रेमवर्क पेपर https://arxiv.org/pdf/1811.04017.pdf पढ़ें! यह आपको इस बात की पूरी पृष्ठभूमि देगा कि PySyft का निर्माण कैसे किया जाता है जो चीजों को अधिक अर्थपूर्ण बनाने में मदद करेगा।"
   ]
  },
  {
   "cell_type": "markdown",
   "metadata": {},
   "source": [
    "# अंश 0: सेट अप\n",
    "\n",
    "शुरू करने के लिए, आपको यह सुनिश्चित करने की आवश्यकता होगी कि आपके पास सही चीजें स्थापित हैं। ऐसा करने के लिए, PySyft की रीडमी पर जाएं और सेटअप निर्देशों का पालन करें। अधिकांश लोगों के लिए TLDR है।\n",
    "\n",
    "- Install Python 3.5 or higher\n",
    "- Install PyTorch 1.1\n",
    "- Clone PySyft (git clone https://github.com/OpenMined/PySyft.git)\n",
    "- cd PySyft\n",
    "- pip install -r pip-dep/requirements.txt\n",
    "- pip install -r pip-dep/requirements_udacity.txt\n",
    "- python setup.py install udacity\n",
    "- python setup.py test\n",
    "\n",
    "यदि इसका कोई हिस्सा आपके लिए काम नहीं करता है (या कोई भी परीक्षण विफल रहता है) - पहले [README](https://github.com/OpenMined/PySyft.git) की जांच करें स्थापना सहायता के लिए और फिर एक GitHub Issue जारी करें या हमारे स्लैक में #beginner चैनल को पिंग करें! [slack.openmined.org](http://slack.openmined.org/)"
   ]
  },
  {
   "cell_type": "code",
   "execution_count": 1,
   "metadata": {},
   "outputs": [
    {
     "data": {
      "text/plain": [
       "tensor([1, 2, 3, 4, 5])"
      ]
     },
     "execution_count": 1,
     "metadata": {},
     "output_type": "execute_result"
    }
   ],
   "source": [
    "# चीजें देखने के लिए इस सेल को चलाएं\n",
    "import sys\n",
    "\n",
    "import torch\n",
    "from torch.nn import Parameter\n",
    "import torch.nn as nn\n",
    "import torch.nn.functional as F\n",
    "\n",
    "import syft as sy\n",
    "hook = sy.TorchHook(torch)\n",
    "\n",
    "torch.tensor([1,2,3,4,5])"
   ]
  },
  {
   "cell_type": "markdown",
   "metadata": {},
   "source": [
    "यदि इस सेल को निष्पादित किया जाता है, तो आप दौड़ से बाहर हो जाएंगे! आओ इसे करें!"
   ]
  },
  {
   "cell_type": "markdown",
   "metadata": {},
   "source": [
    "# अंश 1: निजी (Private), विकेंद्रीकृत (Decentralized ) डेटा विज्ञान के बुनियादी उपकरण\n",
    "\n",
    "तो - पहला सवाल जो आप सोच रहे होंगे वह यह है - दुनिया में कैसे हम उस डेटा पर एक मॉडल को प्रशिक्षित करते हैं जिसकी हमें एक्सेस नहीं है?\n",
    "\n",
    "खैर, जवाब आश्चर्यजनक रूप से सरल है। यदि आप PyTorch में काम करने के आदी हैं, तो आप इन जैसे torch.Tensor वस्तुओं के साथ काम करने के आदी हैं!"
   ]
  },
  {
   "cell_type": "code",
   "execution_count": 2,
   "metadata": {},
   "outputs": [
    {
     "name": "stdout",
     "output_type": "stream",
     "text": [
      "tensor([ 2,  4,  6,  8, 10])\n"
     ]
    }
   ],
   "source": [
    "x = torch.tensor([1,2,3,4,5])\n",
    "y = x + x\n",
    "print(y)"
   ]
  },
  {
   "cell_type": "markdown",
   "metadata": {},
   "source": [
    "जाहिर है, इन सुपर फैंसी (और शक्तिशाली!) टेंसरों का उपयोग करना महत्वपूर्ण है, लेकिन इसके लिए आपको अपने स्थानीय मशीन पर डेटा भी रखना होगा। यहीं से हमारी यात्रा शुरू होती है।\n",
    "\n",
    "# अनुभाग 1.1 - बॉब(Bob) की मशीन को Tensor भेजना\n",
    "\n",
    "जबकि आमतौर पर हम डेटा को रखने वाली मशीन पर डेटा साइंस / डीप लर्निंग का प्रदर्शन करते थे, अब हम किसी अन्य मशीन पर इस तरह की गणना करना चाहते हैं। विशेष रूप से, हम अब यह नहीं मान सकते हैं कि डेटा हमारे स्थानीय मशीन पर है।\n",
    "\n",
    "इस प्रकार, Torch Tensor का उपयोग करने के बजाय, अब हम पॉइंटर्स के साथ टेंसरों पर काम करने जा रहे हैं। मे तुम्हें दिखाता हूँ की मेरा क्या मतलब हैं। पहले, चलो एक \"ढोंग\"(pretend) मशीन बनाते हैं जो एक \"ढोंग\"(pretend) व्यक्ति के स्वामित्व में है - हम उसे बॉब(Bob) कहेंगे।"
   ]
  },
  {
   "cell_type": "code",
   "execution_count": 3,
   "metadata": {},
   "outputs": [],
   "source": [
    "bob = sy.VirtualWorker(hook, id=\"bob\")"
   ]
  },
  {
   "cell_type": "markdown",
   "metadata": {},
   "source": [
    "मान लीजिए कि बॉब की मशीन दूसरे ग्रह पर है - शायद मंगल पर! लेकिन, फिलहाल मशीन खाली है। आइए कुछ डेटा बनाएं ताकि हम इसे बॉब को भेज सकें और पॉइंटर्स (Pointers) के बारे में जान सकें!"
   ]
  },
  {
   "cell_type": "code",
   "execution_count": 4,
   "metadata": {},
   "outputs": [],
   "source": [
    "x = torch.tensor([1,2,3,4,5])\n",
    "y = torch.tensor([1,1,1,1,1])"
   ]
  },
  {
   "cell_type": "markdown",
   "metadata": {},
   "source": [
    "और अब - चलो हमारे Tensor को बॉब(Bob) को भेजें !!"
   ]
  },
  {
   "cell_type": "code",
   "execution_count": 5,
   "metadata": {},
   "outputs": [],
   "source": [
    "x_ptr = x.send(bob)\n",
    "y_ptr = y.send(bob)"
   ]
  },
  {
   "cell_type": "code",
   "execution_count": 6,
   "metadata": {},
   "outputs": [
    {
     "data": {
      "text/plain": [
       "(Wrapper)>[PointerTensor | me:8030612864 -> bob:14597461368]"
      ]
     },
     "execution_count": 6,
     "metadata": {},
     "output_type": "execute_result"
    }
   ],
   "source": [
    "x_ptr"
   ]
  },
  {
   "cell_type": "markdown",
   "metadata": {},
   "source": [
    "BOOM! अब बॉब(Bob) के दो Tensor हैं! मुझपे विश्वास नहीं है? अपने लिए इसे देख लें!"
   ]
  },
  {
   "cell_type": "code",
   "execution_count": 7,
   "metadata": {},
   "outputs": [
    {
     "data": {
      "text/plain": [
       "{14597461368: tensor([1, 2, 3, 4, 5]), 86863779266: tensor([1, 1, 1, 1, 1])}"
      ]
     },
     "execution_count": 7,
     "metadata": {},
     "output_type": "execute_result"
    }
   ],
   "source": [
    "bob._objects"
   ]
  },
  {
   "cell_type": "code",
   "execution_count": 8,
   "metadata": {},
   "outputs": [],
   "source": [
    "z = x_ptr + x_ptr"
   ]
  },
  {
   "cell_type": "code",
   "execution_count": 9,
   "metadata": {},
   "outputs": [
    {
     "data": {
      "text/plain": [
       "(Wrapper)>[PointerTensor | me:25749208299 -> bob:51980816025]"
      ]
     },
     "execution_count": 9,
     "metadata": {},
     "output_type": "execute_result"
    }
   ],
   "source": [
    "z"
   ]
  },
  {
   "cell_type": "code",
   "execution_count": 10,
   "metadata": {},
   "outputs": [
    {
     "data": {
      "text/plain": [
       "{14597461368: tensor([1, 2, 3, 4, 5]),\n",
       " 86863779266: tensor([1, 1, 1, 1, 1]),\n",
       " 51980816025: tensor([ 2,  4,  6,  8, 10])}"
      ]
     },
     "execution_count": 10,
     "metadata": {},
     "output_type": "execute_result"
    }
   ],
   "source": [
    "bob._objects"
   ]
  },
  {
   "cell_type": "markdown",
   "metadata": {},
   "source": [
    "अब कुछ नोटिस करो। जब हमने `x.send(bob)` को फोन किया तो उसने एक नई वस्तु लौटा दी जिसे हमने `x_ptr` कहा। यह एक टेंसर के लिए हमारा पहला  पॉइंटर  है। दसियों को इंगित करने वाले वास्तव में स्वयं डेटा नहीं रखते हैं। इसके बजाय, वे बस एक मशीन पर संग्रहीत एक Tensor (डेटा के साथ) के बारे में मेटाडेटा होते हैं। इन टेंसरों का उद्देश्य हमें एक सहज ज्ञान युक्त एपीआई देना है जो अन्य मशीन को इस टेंसर का उपयोग करके कार्यों की गणना करने के लिए बताए। आइए मेटाडेटा पर एक नज़र डालें जिसमें Pointer होते हैं।"
   ]
  },
  {
   "cell_type": "code",
   "execution_count": 11,
   "metadata": {},
   "outputs": [
    {
     "data": {
      "text/plain": [
       "(Wrapper)>[PointerTensor | me:8030612864 -> bob:14597461368]"
      ]
     },
     "execution_count": 11,
     "metadata": {},
     "output_type": "execute_result"
    }
   ],
   "source": [
    "x_ptr"
   ]
  },
  {
   "cell_type": "markdown",
   "metadata": {},
   "source": [
    "उस मेटाडेटा (Metadata) की जाँच करें!\n",
    "\n",
    "Pointer करने के लिए विशिष्ट दो मुख्य विशेषताएं हैं:\n",
    "\n",
    "- `x_ptr.location : bob`, स्थान, उस स्थान का संदर्भ जिसे सूचक (Pointer) इंगित कर रहा है\n",
    "- `x_ptr.id_at_location : <random integer>`, वह आईडी जहां स्थान पर Tensor संग्रहीत होता है\n",
    "\n",
    "वे प्रारूप में मुद्रित होते हैं `<id_at_location>@<location>`\n",
    "\n",
    "अन्य अधिक सामान्य विशेषताएँ भी हैं:\n",
    "- `x_ptr.id : <random integer>`, हमारे पॉइंटर Tensor की आईडी, इसे बेतरतीब ढंग (Randomly Allocated) से आवंटित किया गया था\n",
    "- `x_ptr.owner : \"me\"`, वर्कर जो पॉइंटर (Pointer) टेनर का मालिक है, यहाँ उसका स्थानीय कर्मी है, जिसका नाम \"me\" है\n"
   ]
  },
  {
   "cell_type": "code",
   "execution_count": 12,
   "metadata": {},
   "outputs": [
    {
     "data": {
      "text/plain": [
       "<VirtualWorker id:bob #tensors:3>"
      ]
     },
     "execution_count": 12,
     "metadata": {},
     "output_type": "execute_result"
    }
   ],
   "source": [
    "x_ptr.location"
   ]
  },
  {
   "cell_type": "code",
   "execution_count": 13,
   "metadata": {},
   "outputs": [
    {
     "data": {
      "text/plain": [
       "<VirtualWorker id:bob #tensors:3>"
      ]
     },
     "execution_count": 13,
     "metadata": {},
     "output_type": "execute_result"
    }
   ],
   "source": [
    "bob"
   ]
  },
  {
   "cell_type": "code",
   "execution_count": 14,
   "metadata": {},
   "outputs": [
    {
     "data": {
      "text/plain": [
       "True"
      ]
     },
     "execution_count": 14,
     "metadata": {},
     "output_type": "execute_result"
    }
   ],
   "source": [
    "bob == x_ptr.location"
   ]
  },
  {
   "cell_type": "code",
   "execution_count": 15,
   "metadata": {},
   "outputs": [
    {
     "data": {
      "text/plain": [
       "14597461368"
      ]
     },
     "execution_count": 15,
     "metadata": {},
     "output_type": "execute_result"
    }
   ],
   "source": [
    "x_ptr.id_at_location"
   ]
  },
  {
   "cell_type": "code",
   "execution_count": 16,
   "metadata": {},
   "outputs": [
    {
     "data": {
      "text/plain": [
       "<VirtualWorker id:me #tensors:0>"
      ]
     },
     "execution_count": 16,
     "metadata": {},
     "output_type": "execute_result"
    }
   ],
   "source": [
    "x_ptr.owner"
   ]
  },
  {
   "cell_type": "markdown",
   "metadata": {},
   "source": [
    "आपको आश्चर्य हो सकता है कि स्थानीय कर्मचारी जो सूचक (Pointer) का मालिक है, वह भी एक VirtualWorker है, हालांकि हमने इसे नहीं बनाया है।\n",
    "मजेदार तथ्य, ठीक उसी तरह जैसे बॉब (Bob) के लिए हमारे पास VirtualWorker ऑब्जेक्ट था, हमारे पास भी (डिफ़ॉल्ट रूप से) हमेशा ही वैसे ही एक होता है।  जब हम `hook = sy.TorchHook ()` कहते हैं, तो यह कार्यकर्ता स्वचालित रूप से बनाया जाता है और इसलिए आपको आमतौर पर इसे स्वयं बनाने की आवश्यकता नहीं है।"
   ]
  },
  {
   "cell_type": "code",
   "execution_count": 17,
   "metadata": {},
   "outputs": [
    {
     "data": {
      "text/plain": [
       "<VirtualWorker id:me #tensors:0>"
      ]
     },
     "execution_count": 17,
     "metadata": {},
     "output_type": "execute_result"
    }
   ],
   "source": [
    "me = sy.local_worker\n",
    "me"
   ]
  },
  {
   "cell_type": "code",
   "execution_count": 18,
   "metadata": {},
   "outputs": [
    {
     "data": {
      "text/plain": [
       "True"
      ]
     },
     "execution_count": 18,
     "metadata": {},
     "output_type": "execute_result"
    }
   ],
   "source": [
    "me == x_ptr.owner"
   ]
  },
  {
   "cell_type": "markdown",
   "metadata": {},
   "source": [
    "और अंत में, जैसे हम एक Tensor पर .send () कॉल कर सकते हैं, हम इसे वापस पाने के लिए एक Tensor के लिए पॉइंटर (Pointer) पर .get () कॉल कर सकते हैं !!!"
   ]
  },
  {
   "cell_type": "code",
   "execution_count": 19,
   "metadata": {},
   "outputs": [
    {
     "data": {
      "text/plain": [
       "(Wrapper)>[PointerTensor | me:8030612864 -> bob:14597461368]"
      ]
     },
     "execution_count": 19,
     "metadata": {},
     "output_type": "execute_result"
    }
   ],
   "source": [
    "x_ptr"
   ]
  },
  {
   "cell_type": "code",
   "execution_count": 20,
   "metadata": {},
   "outputs": [
    {
     "data": {
      "text/plain": [
       "tensor([1, 2, 3, 4, 5])"
      ]
     },
     "execution_count": 20,
     "metadata": {},
     "output_type": "execute_result"
    }
   ],
   "source": [
    "x_ptr.get()"
   ]
  },
  {
   "cell_type": "code",
   "execution_count": 21,
   "metadata": {},
   "outputs": [
    {
     "data": {
      "text/plain": [
       "(Wrapper)>[PointerTensor | me:35059460605 -> bob:86863779266]"
      ]
     },
     "execution_count": 21,
     "metadata": {},
     "output_type": "execute_result"
    }
   ],
   "source": [
    "y_ptr"
   ]
  },
  {
   "cell_type": "code",
   "execution_count": 22,
   "metadata": {},
   "outputs": [
    {
     "data": {
      "text/plain": [
       "tensor([1, 1, 1, 1, 1])"
      ]
     },
     "execution_count": 22,
     "metadata": {},
     "output_type": "execute_result"
    }
   ],
   "source": [
    "y_ptr.get()"
   ]
  },
  {
   "cell_type": "code",
   "execution_count": 23,
   "metadata": {},
   "outputs": [
    {
     "data": {
      "text/plain": [
       "tensor([ 2,  4,  6,  8, 10])"
      ]
     },
     "execution_count": 23,
     "metadata": {},
     "output_type": "execute_result"
    }
   ],
   "source": [
    "z.get()"
   ]
  },
  {
   "cell_type": "code",
   "execution_count": 24,
   "metadata": {},
   "outputs": [
    {
     "data": {
      "text/plain": [
       "{}"
      ]
     },
     "execution_count": 24,
     "metadata": {},
     "output_type": "execute_result"
    }
   ],
   "source": [
    "bob._objects"
   ]
  },
  {
   "cell_type": "markdown",
   "metadata": {},
   "source": [
    "और जैसा कि आप देख सकते हैं ... बॉब (Bob) में अब टेंसर्स नहीं हैं !!! वे हमारी मशीन में वापस चले गए हैं!"
   ]
  },
  {
   "cell_type": "markdown",
   "metadata": {},
   "source": [
    "# Section 1.2 - Using Tensor Pointers\n",
    "\n",
    "तो, बॉब (Bob) से Tensor भेजना और प्राप्त करना बहुत अच्छा है, लेकिन यह शायद ही डीप लर्निंग है! हम दूरस्थ Tensor पर Tensor _operations_ का प्रदर्शन करने में सक्षम होना चाहते हैं। सौभाग्य से, Tensor पॉइंटर्स (Pointers) इसे काफी आसान बनाते हैं! आप बस Pointers का उपयोग कर सकते हैं जैसे आप सामान्य Tensors करेंगे!"
   ]
  },
  {
   "cell_type": "code",
   "execution_count": 25,
   "metadata": {},
   "outputs": [],
   "source": [
    "x = torch.tensor([1,2,3,4,5]).send(bob)\n",
    "y = torch.tensor([1,1,1,1,1]).send(bob)"
   ]
  },
  {
   "cell_type": "code",
   "execution_count": 26,
   "metadata": {},
   "outputs": [],
   "source": [
    "z = x + y"
   ]
  },
  {
   "cell_type": "code",
   "execution_count": 27,
   "metadata": {},
   "outputs": [
    {
     "data": {
      "text/plain": [
       "(Wrapper)>[PointerTensor | me:64292397072 -> bob:52057427318]"
      ]
     },
     "execution_count": 27,
     "metadata": {},
     "output_type": "execute_result"
    }
   ],
   "source": [
    "z"
   ]
  },
  {
   "cell_type": "markdown",
   "metadata": {},
   "source": [
    "तथा देखा (And voilà!) \n",
    "\n",
    "पर्दे के पीछे, बहुत शक्तिशाली कुछ हुआ। x और y के बजाय स्थानीय रूप से एक computing करने के बजाय, एक कमांड (Commend) को क्रमबद्ध किया गया और बॉब(Bob) को भेजा गया, जिन्होंने गणना करने के लिए, एक Tensor z बनाया, और फिर पॉइंटर(Pointer) को हमें वापस z करने के लिए वापस कर दिया!\n",
    "\n",
    "यदि हम सूचक पर .get () कॉल करते हैं, तो हम फिर से अपनी मशीन पर परिणाम प्राप्त करेंगे!"
   ]
  },
  {
   "cell_type": "code",
   "execution_count": 28,
   "metadata": {},
   "outputs": [
    {
     "data": {
      "text/plain": [
       "tensor([2, 3, 4, 5, 6])"
      ]
     },
     "execution_count": 28,
     "metadata": {},
     "output_type": "execute_result"
    }
   ],
   "source": [
    "z.get()"
   ]
  },
  {
   "cell_type": "markdown",
   "metadata": {},
   "source": [
    "### Torch कार्य (Functions)\n",
    "\n",
    "यह एपीआई(API) Torch के सभी कार्यों के लिए बढ़ा दिया गया है!!!"
   ]
  },
  {
   "cell_type": "code",
   "execution_count": 29,
   "metadata": {},
   "outputs": [
    {
     "data": {
      "text/plain": [
       "(Wrapper)>[PointerTensor | me:61648270672 -> bob:41935419076]"
      ]
     },
     "execution_count": 29,
     "metadata": {},
     "output_type": "execute_result"
    }
   ],
   "source": [
    "x"
   ]
  },
  {
   "cell_type": "code",
   "execution_count": 30,
   "metadata": {},
   "outputs": [
    {
     "data": {
      "text/plain": [
       "(Wrapper)>[PointerTensor | me:91696528814 -> bob:72852698267]"
      ]
     },
     "execution_count": 30,
     "metadata": {},
     "output_type": "execute_result"
    }
   ],
   "source": [
    "y"
   ]
  },
  {
   "cell_type": "code",
   "execution_count": 31,
   "metadata": {},
   "outputs": [
    {
     "data": {
      "text/plain": [
       "(Wrapper)>[PointerTensor | me:52401050415 -> bob:48387803230]"
      ]
     },
     "execution_count": 31,
     "metadata": {},
     "output_type": "execute_result"
    }
   ],
   "source": [
    "z = torch.add(x,y)\n",
    "z"
   ]
  },
  {
   "cell_type": "code",
   "execution_count": 32,
   "metadata": {},
   "outputs": [
    {
     "data": {
      "text/plain": [
       "tensor([2, 3, 4, 5, 6])"
      ]
     },
     "execution_count": 32,
     "metadata": {},
     "output_type": "execute_result"
    }
   ],
   "source": [
    "z.get()"
   ]
  },
  {
   "cell_type": "markdown",
   "metadata": {},
   "source": [
    "### चर (Variables) (backpropagation समेत!)"
   ]
  },
  {
   "cell_type": "code",
   "execution_count": 33,
   "metadata": {},
   "outputs": [],
   "source": [
    "x = torch.tensor([1,2,3,4,5.], requires_grad=True).send(bob)\n",
    "y = torch.tensor([1,1,1,1,1.], requires_grad=True).send(bob)"
   ]
  },
  {
   "cell_type": "code",
   "execution_count": 34,
   "metadata": {},
   "outputs": [],
   "source": [
    "z = (x + y).sum()"
   ]
  },
  {
   "cell_type": "code",
   "execution_count": 35,
   "metadata": {},
   "outputs": [
    {
     "data": {
      "text/plain": [
       "(Wrapper)>[PointerTensor | me:97949899326 -> bob:26737740170]"
      ]
     },
     "execution_count": 35,
     "metadata": {},
     "output_type": "execute_result"
    }
   ],
   "source": [
    "z.backward()"
   ]
  },
  {
   "cell_type": "code",
   "execution_count": 36,
   "metadata": {},
   "outputs": [],
   "source": [
    "x = x.get()"
   ]
  },
  {
   "cell_type": "code",
   "execution_count": 37,
   "metadata": {},
   "outputs": [
    {
     "data": {
      "text/plain": [
       "tensor([1., 2., 3., 4., 5.], requires_grad=True)"
      ]
     },
     "execution_count": 37,
     "metadata": {},
     "output_type": "execute_result"
    }
   ],
   "source": [
    "x"
   ]
  },
  {
   "cell_type": "code",
   "execution_count": 38,
   "metadata": {},
   "outputs": [
    {
     "data": {
      "text/plain": [
       "tensor([1., 1., 1., 1., 1.])"
      ]
     },
     "execution_count": 38,
     "metadata": {},
     "output_type": "execute_result"
    }
   ],
   "source": [
    "x.grad"
   ]
  },
  {
   "cell_type": "markdown",
   "metadata": {},
   "source": [
    "तो जैसा कि आप देख सकते हैं, एपीआई वास्तव में काफी लचीला है और लगभग किसी भी ऑपरेशन को करने में सक्षम है जो आप सामान्य रूप से दूरस्थ डेटा पर Torch में प्रदर्शन करेंगे। यह फेडरेटेड लर्निंग (Federated Learning), सिक्योर मल्टी-पार्टी कम्प्यूटेशन (Secure Multi-Party Computation) और डिफरेंशियल प्राइवेसी (Differential Privacy) जैसे प्रोटोकॉल को संरक्षित करने वाले हमारे अधिक उन्नत गोपनीयता के लिए आधार बनाता है!"
   ]
  },
  {
   "cell_type": "code",
   "execution_count": null,
   "metadata": {},
   "outputs": [],
   "source": []
  },
  {
   "cell_type": "markdown",
   "metadata": {},
   "source": [
    "# बधाई हो!!! - समुदाय में शामिल होने का समय!\n",
    "\n",
    "इस नोटबुक ट्यूटोरियल को पूरा करने पर बधाई! यदि आपने इसका आनंद लिया है और एआई और एआई आपूर्ति श्रृंखला (डेटा) के विकेन्द्रीकृत स्वामित्व के संरक्षण की ओर आंदोलन में शामिल होना चाहते हैं, तो आप निम्न तरीकों से ऐसा कर सकते हैं!\n",
    "\n",
    "### Pysyft को Github पर Star करें!\n",
    "\n",
    "हमारे समुदाय की मदद करने का सबसे आसान तरीका GitHub repos अभिनीत है! यह हमारे द्वारा बनाए जा रहे कूल टूल्स के बारे में जागरूकता बढ़ाने में मदद करता है।\n",
    "\n",
    "- [Star PySyft](https://github.com/OpenMined/PySyft)\n",
    "\n",
    "### हमारी Slack में शामिल हों!\n",
    "\n",
    "नवीनतम प्रगति पर अद्यतित रहने का सबसे अच्छा तरीका हमारे समुदाय में शामिल होना है! आप फॉर्म भरकर ऐसा कर सकते हैं। [http://slack.openmined.org](http://slack.openmined.org)\n",
    "\n",
    "### एक कोड प्रोजेक्ट में शामिल हों!\n",
    "\n",
    "हमारे समुदाय में योगदान करने का सबसे अच्छा तरीका एक कोड योगदानकर्ता बनना है! किसी भी समय आप PySyft GitHub Issues जारी करने वाले पृष्ठ पर जा सकते हैं और \"प्रोजेक्ट्स\\ के लिए फ़िल्टर कर सकते हैं। यह आपको सभी शीर्ष स्तर के टिकट दिखाएगा कि आप किन परियोजनाओं में शामिल हो सकते हैं! यदि आप किसी परियोजना में शामिल नहीं होना चाहते हैं, लेकिन आप थोड़ी सी कोडिंग करना चाहते हैं, तो आप \"अच्छा पहला अंक\" चिह्नित गीथहब मुद्दों की खोज करके अधिक \"वन ऑफ़\" मिनी-प्रोजेक्ट्स की तलाश कर सकते हैं।\n",
    "\n",
    "- [PySyft Projects](https://github.com/OpenMined/PySyft/issues?q=is%3Aopen+is%3Aissue+label%3AProject)\n",
    "- [Good First Issue Tickets](https://github.com/OpenMined/PySyft/issues?q=is%3Aopen+is%3Aissue+label%3A%22good+first+issue%22)\n",
    "\n",
    "### दान करना\n",
    "\n",
    "यदि आपके पास हमारे कोडबेस में योगदान करने का समय नहीं है, लेकिन फिर भी समर्थन उधार देना चाहते हैं, तो आप हमारे ओपन कलेक्टिव में भी एक बैकर बन सकते हैं। सभी दान हमारी वेब होस्टिंग और अन्य सामुदायिक खर्चों जैसे कि हैकाथॉन और मीटअप की ओर जाते हैं!\n",
    "\n",
    "[OpenMined's Open Collective Page](https://opencollective.com/openmined)"
   ]
  },
  {
   "cell_type": "code",
   "execution_count": null,
   "metadata": {
    "collapsed": true
   },
   "outputs": [],
   "source": []
  }
 ],
 "metadata": {
  "kernelspec": {
   "display_name": "Python 3",
   "language": "python",
   "name": "python3"
  },
  "language_info": {
   "codemirror_mode": {
    "name": "ipython",
    "version": 3
   },
   "file_extension": ".py",
   "mimetype": "text/x-python",
   "name": "python",
   "nbconvert_exporter": "python",
   "pygments_lexer": "ipython3",
   "version": "3.7.1"
  }
 },
 "nbformat": 4,
 "nbformat_minor": 2
}

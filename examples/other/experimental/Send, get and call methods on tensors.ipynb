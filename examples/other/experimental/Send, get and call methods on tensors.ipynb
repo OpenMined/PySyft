{
 "cells": [
  {
   "cell_type": "code",
   "execution_count": 1,
   "metadata": {},
   "outputs": [],
   "source": [
    "import syft as sy\n",
    "hook = sy.TorchHook()\n",
    "me = hook.local_worker"
   ]
  },
  {
   "cell_type": "code",
   "execution_count": 2,
   "metadata": {},
   "outputs": [],
   "source": [
    "bob = sy.VirtualWorker(id=\"bob\",hook=hook, is_client_worker=False)\n",
    "alice = sy.VirtualWorker(id=\"alice\",hook=hook, is_client_worker=False)\n",
    "james = sy.VirtualWorker(id=\"james\",hook=hook, is_client_worker=False)\n",
    "me.is_client_worker = False\n",
    "bob.add_workers([me, alice, james])\n",
    "alice.add_workers([me, bob, james])\n",
    "james.add_workers([me, bob, alice])"
   ]
  },
  {
   "cell_type": "code",
   "execution_count": 3,
   "metadata": {
    "scrolled": true
   },
   "outputs": [
    {
     "name": "stdout",
     "output_type": "stream",
     "text": [
      "{1923871620: <_PointerTensor - id:1923871620 owner:0 loc:bob id@loc:1000>}\n",
      "{1000: <_LocalTensor - id:1000 owner:bob>}\n",
      "{}\n",
      "{}\n"
     ]
    }
   ],
   "source": [
    "x = sy.FloatTensor([1,2,3,4])\n",
    "x.send(bob, new_id=1000)\n",
    "print(me._objects)\n",
    "print(bob._objects)\n",
    "print(alice._objects)\n",
    "print(james._objects)"
   ]
  },
  {
   "cell_type": "code",
   "execution_count": 4,
   "metadata": {},
   "outputs": [
    {
     "name": "stdout",
     "output_type": "stream",
     "text": [
      "{1923871620: <_PointerTensor - id:1923871620 owner:0 loc:alice id@loc:2000>}\n",
      "{1000: <_LocalTensor - id:1000 owner:bob>}\n",
      "{2000: <_PointerTensor - id:2000 owner:alice loc:bob id@loc:1000>}\n",
      "{}\n"
     ]
    }
   ],
   "source": [
    "x.send(alice, new_id=2000)\n",
    "print(me._objects)\n",
    "print(bob._objects)\n",
    "print(alice._objects)\n",
    "print(james._objects)"
   ]
  },
  {
   "cell_type": "code",
   "execution_count": 5,
   "metadata": {
    "scrolled": true
   },
   "outputs": [
    {
     "name": "stdout",
     "output_type": "stream",
     "text": [
      "{1923871620: <_PointerTensor - id:1923871620 owner:0 loc:james id@loc:3000>}\n",
      "{1000: <_LocalTensor - id:1000 owner:bob>}\n",
      "{2000: <_PointerTensor - id:2000 owner:alice loc:bob id@loc:1000>}\n",
      "{3000: <_PointerTensor - id:3000 owner:james loc:alice id@loc:2000>}\n"
     ]
    }
   ],
   "source": [
    "x.send(james, new_id=3000)\n",
    "print(me._objects)\n",
    "print(bob._objects)\n",
    "print(alice._objects)\n",
    "print(james._objects)"
   ]
  },
  {
   "cell_type": "code",
   "execution_count": 6,
   "metadata": {},
   "outputs": [],
   "source": [
    "y = sy.FloatTensor([1,2,3,1])"
   ]
  },
  {
   "cell_type": "code",
   "execution_count": 7,
   "metadata": {
    "scrolled": true
   },
   "outputs": [
    {
     "data": {
      "text/plain": [
       "[syft.FloatTensor with no dimension]"
      ]
     },
     "execution_count": 7,
     "metadata": {},
     "output_type": "execute_result"
    }
   ],
   "source": [
    "y.send(bob, new_id=1001)\n",
    "y.send(alice, new_id=2001)\n",
    "y.send(james, new_id=3001)"
   ]
  },
  {
   "cell_type": "code",
   "execution_count": 8,
   "metadata": {},
   "outputs": [
    {
     "name": "stdout",
     "output_type": "stream",
     "text": [
      "{1923871620: <_PointerTensor - id:1923871620 owner:0 loc:james id@loc:3000>, 6509615316: <_PointerTensor - id:6509615316 owner:0 loc:james id@loc:3001>}\n",
      "{1000: <_LocalTensor - id:1000 owner:bob>, 1001: <_LocalTensor - id:1001 owner:bob>}\n",
      "{2000: <_PointerTensor - id:2000 owner:alice loc:bob id@loc:1000>, 2001: <_PointerTensor - id:2001 owner:alice loc:bob id@loc:1001>}\n",
      "{3000: <_PointerTensor - id:3000 owner:james loc:alice id@loc:2000>, 3001: <_PointerTensor - id:3001 owner:james loc:alice id@loc:2001>}\n"
     ]
    }
   ],
   "source": [
    "print(me._objects)\n",
    "print(bob._objects)\n",
    "print(alice._objects)\n",
    "print(james._objects)"
   ]
  },
  {
   "cell_type": "code",
   "execution_count": 9,
   "metadata": {},
   "outputs": [],
   "source": [
    "z = x.add(y)"
   ]
  },
  {
   "cell_type": "code",
   "execution_count": 10,
   "metadata": {},
   "outputs": [
    {
     "data": {
      "text/plain": [
       "\n",
       " 2\n",
       " 4\n",
       " 6\n",
       " 5\n",
       "[syft.FloatTensor of size 4]"
      ]
     },
     "execution_count": 10,
     "metadata": {},
     "output_type": "execute_result"
    }
   ],
   "source": [
    "z.get()"
   ]
  },
  {
   "cell_type": "code",
   "execution_count": 11,
   "metadata": {},
   "outputs": [
    {
     "data": {
      "text/plain": [
       "\n",
       " 2\n",
       " 4\n",
       " 6\n",
       " 5\n",
       "[syft.FloatTensor of size 4]"
      ]
     },
     "execution_count": 11,
     "metadata": {},
     "output_type": "execute_result"
    }
   ],
   "source": [
    "z"
   ]
  },
  {
   "cell_type": "code",
   "execution_count": 12,
   "metadata": {},
   "outputs": [
    {
     "data": {
      "text/plain": [
       "\n",
       " 1\n",
       " 2\n",
       " 3\n",
       " 4\n",
       "[syft.FloatTensor of size 4]"
      ]
     },
     "execution_count": 12,
     "metadata": {},
     "output_type": "execute_result"
    }
   ],
   "source": [
    "x.get().get().get()"
   ]
  },
  {
   "cell_type": "code",
   "execution_count": null,
   "metadata": {},
   "outputs": [],
   "source": []
  }
 ],
 "metadata": {
  "kernelspec": {
   "display_name": "Python 3",
   "language": "python",
   "name": "python3"
  },
  "language_info": {
   "codemirror_mode": {
    "name": "ipython",
    "version": 3
   },
   "file_extension": ".py",
   "mimetype": "text/x-python",
   "name": "python",
   "nbconvert_exporter": "python",
   "pygments_lexer": "ipython3",
   "version": "3.6.4"
  }
 },
 "nbformat": 4,
 "nbformat_minor": 2
}

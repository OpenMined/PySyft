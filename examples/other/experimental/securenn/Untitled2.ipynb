{
 "cells": [
  {
   "cell_type": "code",
   "execution_count": 26,
   "metadata": {},
   "outputs": [
    {
     "name": "stdout",
     "output_type": "stream",
     "text": [
      "\n",
      " 7.0000e+10  1.0000e+11\n",
      " 1.5000e+11  2.2000e+11\n",
      "[torch.LongTensor of size 2x2]\n",
      "\n"
     ]
    }
   ],
   "source": [
    "import torch as th\n",
    "from functools import reduce\n",
    "\n",
    "prod = lambda xs: reduce(lambda x, y: x * y, xs)\n",
    "\n",
    "def _egcd(a, b):\n",
    "    if a == 0:\n",
    "        return (b, 0, 1)\n",
    "    else:\n",
    "        g, y, x = _egcd(b % a, a)\n",
    "        return (g, x - (b // a) * y, y)\n",
    "    \n",
    "def _inverse(a, m):\n",
    "    _, b, _ = _egcd(a, m)\n",
    "    return b % m\n",
    "\n",
    "moduli = [1999703, 1990007, 1996949, 1925899, 1816117]\n",
    "modulus = prod(moduli)\n",
    "moduli_inverses = [_inverse(modulus // mi, mi) for mi in moduli]\n",
    "\n",
    "class CrtTensor(object):\n",
    "\n",
    "    def __init__(self, values, residues=None):\n",
    "        if values is not None:\n",
    "            residues = [ values % mi for mi in moduli ]\n",
    "        self.residues = residues\n",
    "\n",
    "    @staticmethod\n",
    "    def sample_uniform(shape):\n",
    "        return CrtTensor(None, [\n",
    "            th.randint(0, mi, shape).type(th.LongTensor)\n",
    "            for mi in moduli\n",
    "        ])\n",
    "\n",
    "    def recombine(self, bound=2**31):\n",
    "        return self._explicit_crt(bound)\n",
    "\n",
    "    def __add__(self, other):\n",
    "        return CrtTensor(None, [\n",
    "            (xi + yi) % mi\n",
    "            for xi, yi, mi in zip(self.residues, other.residues, moduli)\n",
    "        ])\n",
    "    \n",
    "    def __sub__(self, other):\n",
    "        return CrtTensor(None, [\n",
    "            (xi - yi) % mi\n",
    "            for xi, yi, mi in zip(self.residues, other.residues, moduli)\n",
    "        ])\n",
    "\n",
    "    def __mul__(self, other):\n",
    "        return CrtTensor(None, [\n",
    "            (xi * yi) % mi\n",
    "            for xi, yi, mi in zip(self.residues, other.residues, moduli)\n",
    "        ])\n",
    "\n",
    "    def matmul(self, other):\n",
    "        return CrtTensor(None, [\n",
    "            th.matmul(xi, yi) % mi\n",
    "            for xi, yi, mi in zip(self.residues, other.residues, moduli)\n",
    "        ])\n",
    "\n",
    "    def __mod__(self, k):\n",
    "        return CrtTensor(self._explicit_crt(k))\n",
    "\n",
    "    def _explicit_crt(self, bound):\n",
    "        def sum(xs):\n",
    "            return th.cat(xs).view(len(moduli), *xs[0].shape).sum(0)\n",
    "\n",
    "        t = [\n",
    "            th.fmod((xi * qi), mi)\n",
    "            for xi, qi, mi in zip(self.residues, moduli_inverses, moduli)\n",
    "        ]\n",
    "        alpha = sum(tuple(\n",
    "            ti.type(th.DoubleTensor) / float(mi)\n",
    "            for ti, mi in zip(t, moduli)\n",
    "        ))\n",
    "\n",
    "        b = [(modulus // mi) % bound for mi in moduli]\n",
    "        u = sum(tuple(\n",
    "            ti * bi\n",
    "            for ti, bi in zip(t, b)\n",
    "        ))\n",
    "\n",
    "        B = modulus % bound\n",
    "        v = th.round(alpha).type(th.LongTensor) * B\n",
    "        w = u.type(th.LongTensor) - v\n",
    "\n",
    "        return th.fmod(w,bound)\n",
    "\n",
    "\n",
    "x = CrtTensor(th.LongTensor([100000, 200000, 300000, 400000]).view(2,2))\n",
    "y = CrtTensor(th.LongTensor([100000, 200000, 300000, 400000]).view(2,2))\n",
    "z = x.matmul(y)\n",
    "print(z.recombine(2**40))"
   ]
  },
  {
   "cell_type": "code",
   "execution_count": 2,
   "metadata": {},
   "outputs": [
    {
     "name": "stdout",
     "output_type": "stream",
     "text": [
      "2480347669169650688\n",
      "3836811895822018560\n",
      "3788346572781280256\n",
      "3586661025875073024\n",
      "\n",
      "70000000000\n",
      "100000000000\n",
      "1249511627776\n",
      "220000000000\n"
     ]
    }
   ],
   "source": [
    "bound = 2**40\n",
    "\n",
    "t = [\n",
    "            (xi * qi) % mi\n",
    "            for xi, qi, mi in zip(z.residues, moduli_inverses, moduli)\n",
    "        ]\n",
    "\n",
    "alpha = sum(tuple(\n",
    "            ti.type(th.DoubleTensor) / float(mi)\n",
    "            for ti, mi in zip(t, moduli)\n",
    "        ))\n",
    "\n",
    "b = [(modulus // mi) % bound for mi in moduli]\n",
    "\n",
    "u = sum(tuple(\n",
    "            ti * bi\n",
    "            for ti, bi in zip(t, b)\n",
    "        ))\n",
    "\n",
    "B = modulus % bound\n",
    "\n",
    "v = th.round(alpha).type(th.LongTensor) * B\n",
    "\n",
    "w = u.type(th.LongTensor) - v\n",
    "\n",
    "for each in w.view(-1):\n",
    "    print(each)\n",
    "print()\n",
    "for each in (w % 2**40).view(-1):\n",
    "    print(each)"
   ]
  },
  {
   "cell_type": "code",
   "execution_count": 3,
   "metadata": {},
   "outputs": [],
   "source": [
    "import torch as th"
   ]
  },
  {
   "cell_type": "code",
   "execution_count": 4,
   "metadata": {},
   "outputs": [],
   "source": [
    "x = th.LongTensor([5])"
   ]
  },
  {
   "cell_type": "code",
   "execution_count": 5,
   "metadata": {},
   "outputs": [],
   "source": [
    "y = th.LongTensor([3])"
   ]
  },
  {
   "cell_type": "code",
   "execution_count": null,
   "metadata": {},
   "outputs": [],
   "source": []
  },
  {
   "cell_type": "code",
   "execution_count": 10,
   "metadata": {},
   "outputs": [],
   "source": [
    "x = th.LongTensor([3788346572781280256])\n",
    "y = th.LongTensor([2**40])"
   ]
  },
  {
   "cell_type": "code",
   "execution_count": 16,
   "metadata": {},
   "outputs": [
    {
     "data": {
      "text/plain": [
       "\n",
       " 1.5000e+11\n",
       "[torch.LongTensor of size 1]"
      ]
     },
     "execution_count": 16,
     "metadata": {},
     "output_type": "execute_result"
    }
   ],
   "source": [
    "th.fmod(x,y)"
   ]
  },
  {
   "cell_type": "code",
   "execution_count": 12,
   "metadata": {},
   "outputs": [
    {
     "data": {
      "text/plain": [
       "1099511627776"
      ]
     },
     "execution_count": 12,
     "metadata": {},
     "output_type": "execute_result"
    }
   ],
   "source": [
    "2**40"
   ]
  },
  {
   "cell_type": "code",
   "execution_count": 46,
   "metadata": {},
   "outputs": [
    {
     "data": {
      "text/plain": [
       "\n",
       " 2.4803e+18  3.8368e+18\n",
       " 3.7883e+18  3.5867e+18\n",
       "[torch.LongTensor of size 2x2]"
      ]
     },
     "execution_count": 46,
     "metadata": {},
     "output_type": "execute_result"
    }
   ],
   "source": [
    "w"
   ]
  },
  {
   "cell_type": "code",
   "execution_count": 22,
   "metadata": {},
   "outputs": [
    {
     "data": {
      "text/plain": [
       "\n",
       " 2.0000  3.0000\n",
       " 3.0000  3.0000\n",
       "[torch.DoubleTensor of size 2x2]"
      ]
     },
     "execution_count": 22,
     "metadata": {},
     "output_type": "execute_result"
    }
   ],
   "source": [
    "alpha"
   ]
  },
  {
   "cell_type": "code",
   "execution_count": 20,
   "metadata": {},
   "outputs": [],
   "source": [
    "def tolist(t):\n",
    "\n",
    "    vs = list()\n",
    "    for v in th.cat(t).view(-1):\n",
    "        vs.append(v)\n",
    "    return vs"
   ]
  },
  {
   "cell_type": "code",
   "execution_count": 21,
   "metadata": {},
   "outputs": [
    {
     "data": {
      "text/plain": [
       "[2.0, 2.9999999999999996, 3.0, 3.0]"
      ]
     },
     "execution_count": 21,
     "metadata": {},
     "output_type": "execute_result"
    }
   ],
   "source": [
    "tolist(alpha)"
   ]
  },
  {
   "cell_type": "code",
   "execution_count": null,
   "metadata": {},
   "outputs": [],
   "source": []
  },
  {
   "cell_type": "code",
   "execution_count": null,
   "metadata": {},
   "outputs": [],
   "source": []
  }
 ],
 "metadata": {
  "kernelspec": {
   "display_name": "Python 3",
   "language": "python",
   "name": "python3"
  },
  "language_info": {
   "codemirror_mode": {
    "name": "ipython",
    "version": 3
   },
   "file_extension": ".py",
   "mimetype": "text/x-python",
   "name": "python",
   "nbconvert_exporter": "python",
   "pygments_lexer": "ipython3",
   "version": "3.6.1"
  }
 },
 "nbformat": 4,
 "nbformat_minor": 2
}

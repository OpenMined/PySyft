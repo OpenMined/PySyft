{
 "cells": [
  {
   "cell_type": "code",
   "execution_count": 14,
   "metadata": {},
   "outputs": [
    {
     "name": "stdout",
     "output_type": "stream",
     "text": [
      "tensor([[ 70000000000, 100000000000],\n",
      "        [150000000000, 220000000000]])\n"
     ]
    }
   ],
   "source": [
    "import torch as th\n",
    "from functools import reduce\n",
    "\n",
    "prod = lambda xs: reduce(lambda x, y: x * y, xs)\n",
    "\n",
    "def _egcd(a, b):\n",
    "    if a == 0:\n",
    "        return (b, 0, 1)\n",
    "    else:\n",
    "        g, y, x = _egcd(b % a, a)\n",
    "        return (g, x - (b // a) * y, y)\n",
    "    \n",
    "def _inverse(a, m):\n",
    "    _, b, _ = _egcd(a, m)\n",
    "    return b % m\n",
    "\n",
    "moduli = [1999703, 1990007, 1996949, 1925899, 1816117]\n",
    "modulus = prod(moduli)\n",
    "moduli_inverses = [_inverse(modulus // mi, mi) for mi in moduli]\n",
    "\n",
    "class CrtTensor(object):\n",
    "\n",
    "    def __init__(self, values, residues=None):\n",
    "        if values is not None:\n",
    "            residues = [ values % mi for mi in moduli ]\n",
    "        self.residues = residues\n",
    "\n",
    "    @staticmethod\n",
    "    def sample_uniform(shape):\n",
    "        return CrtTensor(None, [\n",
    "            th.randint(0, mi, shape).type(th.LongTensor)\n",
    "            for mi in moduli\n",
    "        ])\n",
    "\n",
    "    def recombine(self, bound=2**31):\n",
    "        return self._explicit_crt(bound)\n",
    "\n",
    "    def __add__(self, other):\n",
    "        return CrtTensor(None, [\n",
    "            (xi + yi) % mi\n",
    "            for xi, yi, mi in zip(self.residues, other.residues, moduli)\n",
    "        ])\n",
    "    \n",
    "    def __sub__(self, other):\n",
    "        return CrtTensor(None, [\n",
    "            (xi - yi) % mi\n",
    "            for xi, yi, mi in zip(self.residues, other.residues, moduli)\n",
    "        ])\n",
    "\n",
    "    def __mul__(self, other):\n",
    "        return CrtTensor(None, [\n",
    "            (xi * yi) % mi\n",
    "            for xi, yi, mi in zip(self.residues, other.residues, moduli)\n",
    "        ])\n",
    "\n",
    "    def matmul(self, other):\n",
    "        return CrtTensor(None, [\n",
    "            th.matmul(xi, yi) % mi\n",
    "            for xi, yi, mi in zip(self.residues, other.residues, moduli)\n",
    "        ])\n",
    "\n",
    "    def __mod__(self, k):\n",
    "        return CrtTensor(self._explicit_crt(k))\n",
    "\n",
    "    def _explicit_crt(self, bound):\n",
    "        def sum(xs):\n",
    "            return th.cat(xs).view(len(moduli), *xs[0].shape).sum(0)\n",
    "\n",
    "        t = [\n",
    "            (xi * qi) % mi\n",
    "            for xi, qi, mi in zip(self.residues, moduli_inverses, moduli)\n",
    "        ]\n",
    "        alpha = sum(tuple(\n",
    "            ti.type(th.DoubleTensor) / float(mi)\n",
    "            for ti, mi in zip(t, moduli)\n",
    "        ))\n",
    "\n",
    "        b = [(modulus // mi) % bound for mi in moduli]\n",
    "        u = sum(tuple(\n",
    "            ti * bi\n",
    "            for ti, bi in zip(t, b)\n",
    "        ))\n",
    "\n",
    "        B = modulus % bound\n",
    "        v = th.round(alpha).type(th.LongTensor) * B\n",
    "        w = u.type(th.LongTensor) - v\n",
    "\n",
    "        return w % bound\n",
    "\n",
    "\n",
    "x = CrtTensor(th.LongTensor([100000, 200000, 300000, 400000]).view(2,2))\n",
    "y = CrtTensor(th.LongTensor([100000, 200000, 300000, 400000]).view(2,2))\n",
    "z = x.matmul(y)\n",
    "print(z.recombine(2**62))"
   ]
  },
  {
   "cell_type": "code",
   "execution_count": 51,
   "metadata": {},
   "outputs": [
    {
     "name": "stdout",
     "output_type": "stream",
     "text": [
      "tensor(2480347669169650688)\n",
      "tensor(3836811895822018560)\n",
      "tensor(3788346572781280256)\n",
      "tensor(3586661025875073024)\n",
      "\n",
      "tensor(70000000000)\n",
      "tensor(100000000000)\n",
      "tensor(150000000000)\n",
      "tensor(220000000000)\n"
     ]
    }
   ],
   "source": [
    "bound = 2**40\n",
    "\n",
    "t = [\n",
    "            (xi * qi) % mi\n",
    "            for xi, qi, mi in zip(z.residues, moduli_inverses, moduli)\n",
    "        ]\n",
    "\n",
    "alpha = sum(tuple(\n",
    "            ti.type(th.DoubleTensor) / float(mi)\n",
    "            for ti, mi in zip(t, moduli)\n",
    "        ))\n",
    "\n",
    "b = [(modulus // mi) % bound for mi in moduli]\n",
    "\n",
    "u = sum(tuple(\n",
    "            ti * bi\n",
    "            for ti, bi in zip(t, b)\n",
    "        ))\n",
    "\n",
    "B = modulus % bound\n",
    "\n",
    "v = th.round(alpha).type(th.LongTensor) * B\n",
    "\n",
    "w = u.type(th.LongTensor) - v\n",
    "\n",
    "for each in w.view(-1):\n",
    "    print(each)\n",
    "print()\n",
    "for each in (w % 2**40).view(-1):\n",
    "    print(each)"
   ]
  },
  {
   "cell_type": "code",
   "execution_count": 49,
   "metadata": {},
   "outputs": [
    {
     "data": {
      "text/plain": [
       "tensor([[2480347669169650688, 3836811895822018560],\n",
       "        [3788346572781280256, 3586661025875073024]])"
      ]
     },
     "execution_count": 49,
     "metadata": {},
     "output_type": "execute_result"
    }
   ],
   "source": [
    "w"
   ]
  },
  {
   "cell_type": "code",
   "execution_count": 38,
   "metadata": {},
   "outputs": [
    {
     "data": {
      "text/plain": [
       "tensor([[2.0000, 3.0000],\n",
       "        [3.0000, 3.0000]], dtype=torch.float64)"
      ]
     },
     "execution_count": 38,
     "metadata": {},
     "output_type": "execute_result"
    }
   ],
   "source": [
    "alpha"
   ]
  },
  {
   "cell_type": "code",
   "execution_count": 36,
   "metadata": {},
   "outputs": [
    {
     "ename": "TypeError",
     "evalue": "cat(): argument 'tensors' (position 1) must be tuple of Tensors, not Tensor",
     "output_type": "error",
     "traceback": [
      "\u001b[0;31m---------------------------------------------------------------------------\u001b[0m",
      "\u001b[0;31mTypeError\u001b[0m                                 Traceback (most recent call last)",
      "\u001b[0;32m<ipython-input-36-48fb676bf30d>\u001b[0m in \u001b[0;36m<module>\u001b[0;34m()\u001b[0m\n\u001b[0;32m----> 1\u001b[0;31m \u001b[0mtolist\u001b[0m\u001b[0;34m(\u001b[0m\u001b[0malpha\u001b[0m\u001b[0;34m)\u001b[0m\u001b[0;34m\u001b[0m\u001b[0m\n\u001b[0m",
      "\u001b[0;32m<ipython-input-25-46d0399377e3>\u001b[0m in \u001b[0;36mtolist\u001b[0;34m(t)\u001b[0m\n\u001b[1;32m      2\u001b[0m \u001b[0;34m\u001b[0m\u001b[0m\n\u001b[1;32m      3\u001b[0m     \u001b[0mvs\u001b[0m \u001b[0;34m=\u001b[0m \u001b[0mlist\u001b[0m\u001b[0;34m(\u001b[0m\u001b[0;34m)\u001b[0m\u001b[0;34m\u001b[0m\u001b[0m\n\u001b[0;32m----> 4\u001b[0;31m     \u001b[0;32mfor\u001b[0m \u001b[0mv\u001b[0m \u001b[0;32min\u001b[0m \u001b[0mth\u001b[0m\u001b[0;34m.\u001b[0m\u001b[0mcat\u001b[0m\u001b[0;34m(\u001b[0m\u001b[0mt\u001b[0m\u001b[0;34m)\u001b[0m\u001b[0;34m.\u001b[0m\u001b[0mview\u001b[0m\u001b[0;34m(\u001b[0m\u001b[0;34m-\u001b[0m\u001b[0;36m1\u001b[0m\u001b[0;34m)\u001b[0m\u001b[0;34m:\u001b[0m\u001b[0;34m\u001b[0m\u001b[0m\n\u001b[0m\u001b[1;32m      5\u001b[0m         \u001b[0mvs\u001b[0m\u001b[0;34m.\u001b[0m\u001b[0mappend\u001b[0m\u001b[0;34m(\u001b[0m\u001b[0mint\u001b[0m\u001b[0;34m(\u001b[0m\u001b[0mv\u001b[0m\u001b[0;34m)\u001b[0m\u001b[0;34m)\u001b[0m\u001b[0;34m\u001b[0m\u001b[0m\n\u001b[1;32m      6\u001b[0m     \u001b[0;32mreturn\u001b[0m \u001b[0mvs\u001b[0m\u001b[0;34m\u001b[0m\u001b[0m\n",
      "\u001b[0;31mTypeError\u001b[0m: cat(): argument 'tensors' (position 1) must be tuple of Tensors, not Tensor"
     ]
    }
   ],
   "source": [
    "tolist(alpha)"
   ]
  },
  {
   "cell_type": "code",
   "execution_count": 31,
   "metadata": {},
   "outputs": [
    {
     "ename": "NameError",
     "evalue": "name 'alpha' is not defined",
     "output_type": "error",
     "traceback": [
      "\u001b[0;31m---------------------------------------------------------------------------\u001b[0m",
      "\u001b[0;31mNameError\u001b[0m                                 Traceback (most recent call last)",
      "\u001b[0;32m<ipython-input-31-bfe4cc0436c7>\u001b[0m in \u001b[0;36m<module>\u001b[0;34m()\u001b[0m\n\u001b[0;32m----> 1\u001b[0;31m th.FloatTensor(tolist(alpha)) == th.FloatTensor([680188,\n\u001b[0m\u001b[1;32m      2\u001b[0m  \u001b[0;36m1257369\u001b[0m\u001b[0;34m,\u001b[0m\u001b[0;34m\u001b[0m\u001b[0m\n\u001b[1;32m      3\u001b[0m  \u001b[0;36m886202\u001b[0m\u001b[0;34m,\u001b[0m\u001b[0;34m\u001b[0m\u001b[0m\n\u001b[1;32m      4\u001b[0m  \u001b[0;36m1566390\u001b[0m\u001b[0;34m,\u001b[0m\u001b[0;34m\u001b[0m\u001b[0m\n\u001b[1;32m      5\u001b[0m  \u001b[0;36m1602043\u001b[0m\u001b[0;34m,\u001b[0m\u001b[0;34m\u001b[0m\u001b[0m\n",
      "\u001b[0;31mNameError\u001b[0m: name 'alpha' is not defined"
     ]
    }
   ],
   "source": [
    "th.FloatTensor(tolist(alpha)) == \\\n",
    "th.FloatTensor([680188,\n",
    " 1257369,\n",
    " 886202,\n",
    " 1566390,\n",
    " 1602043,\n",
    " 1151486,\n",
    " 1727229,\n",
    " 1339265,\n",
    " 733872,\n",
    " 1333667,\n",
    " 1002026,\n",
    " 1735898,\n",
    " 355455,\n",
    " 1883435,\n",
    " 1862203,\n",
    " 291759,\n",
    " 549828,\n",
    " 266578,\n",
    " 399867,\n",
    " 949695])"
   ]
  },
  {
   "cell_type": "code",
   "execution_count": null,
   "metadata": {},
   "outputs": [],
   "source": []
  },
  {
   "cell_type": "code",
   "execution_count": null,
   "metadata": {},
   "outputs": [],
   "source": []
  },
  {
   "cell_type": "code",
   "execution_count": null,
   "metadata": {},
   "outputs": [],
   "source": []
  },
  {
   "cell_type": "code",
   "execution_count": null,
   "metadata": {},
   "outputs": [],
   "source": []
  },
  {
   "cell_type": "code",
   "execution_count": 28,
   "metadata": {},
   "outputs": [],
   "source": [
    "x2 = th.FloatTensor([680188,\n",
    " 1257369,\n",
    " 886202,\n",
    " 1566390,\n",
    " 1602043,\n",
    " 1151486,\n",
    " 1727229,\n",
    " 1339265,\n",
    " 733872,\n",
    " 1333667,\n",
    " 1002026,\n",
    " 1735898,\n",
    " 355455,\n",
    " 1883435,\n",
    " 1862203,\n",
    " 291759,\n",
    " 549828,\n",
    " 266578,\n",
    " 399867,\n",
    " 949695])"
   ]
  },
  {
   "cell_type": "code",
   "execution_count": null,
   "metadata": {},
   "outputs": [],
   "source": []
  },
  {
   "cell_type": "code",
   "execution_count": 25,
   "metadata": {},
   "outputs": [],
   "source": [
    "def tolist(t):\n",
    "\n",
    "    vs = list()\n",
    "    for v in th.cat(t).view(-1):\n",
    "        vs.append(int(v))\n",
    "    return vs"
   ]
  },
  {
   "cell_type": "code",
   "execution_count": 3,
   "metadata": {},
   "outputs": [],
   "source": [
    "a = th.LongTensor([100000, 200000, 300000, 400000]).view(2, 2)\n",
    "b = th.LongTensor([100000, 200000, 300000, 400000]).view(2, 2)"
   ]
  },
  {
   "cell_type": "code",
   "execution_count": 4,
   "metadata": {},
   "outputs": [
    {
     "data": {
      "text/plain": [
       "tensor([[ 70000000000, 100000000000],\n",
       "        [150000000000, 220000000000]])"
      ]
     },
     "execution_count": 4,
     "metadata": {},
     "output_type": "execute_result"
    }
   ],
   "source": [
    "a.mm(b)"
   ]
  },
  {
   "cell_type": "code",
   "execution_count": null,
   "metadata": {},
   "outputs": [],
   "source": []
  },
  {
   "cell_type": "code",
   "execution_count": null,
   "metadata": {},
   "outputs": [],
   "source": [
    "print(z.recombine(2 ** 40))\n",
    "\n",
    "x = CrtTensor.sample_uniform((2, 2))\n",
    "print(x.residues)"
   ]
  },
  {
   "cell_type": "code",
   "execution_count": null,
   "metadata": {},
   "outputs": [],
   "source": []
  }
 ],
 "metadata": {
  "kernelspec": {
   "display_name": "Python 3",
   "language": "python",
   "name": "python3"
  },
  "language_info": {
   "codemirror_mode": {
    "name": "ipython",
    "version": 3
   },
   "file_extension": ".py",
   "mimetype": "text/x-python",
   "name": "python",
   "nbconvert_exporter": "python",
   "pygments_lexer": "ipython3",
   "version": "3.6.1"
  }
 },
 "nbformat": 4,
 "nbformat_minor": 2
}

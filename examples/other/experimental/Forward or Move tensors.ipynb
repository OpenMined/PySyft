{
 "cells": [
  {
   "cell_type": "code",
   "execution_count": 1,
   "metadata": {},
   "outputs": [],
   "source": [
    "import syft as sy\n",
    "hook = sy.TorchHook()\n",
    "me = hook.local_worker"
   ]
  },
  {
   "cell_type": "code",
   "execution_count": 2,
   "metadata": {},
   "outputs": [],
   "source": [
    "bob = sy.VirtualWorker(id=\"bob\",hook=hook, is_client_worker=False)\n",
    "alice = sy.VirtualWorker(id=\"alice\",hook=hook, is_client_worker=False)\n",
    "james = sy.VirtualWorker(id=\"james\",hook=hook, is_client_worker=False)\n",
    "me.is_client_worker = False\n",
    "bob.add_workers([me, alice, james])\n",
    "alice.add_workers([me, bob, james])\n",
    "james.add_workers([me, bob, alice])"
   ]
  },
  {
   "cell_type": "code",
   "execution_count": 3,
   "metadata": {
    "scrolled": true
   },
   "outputs": [
    {
     "name": "stdout",
     "output_type": "stream",
     "text": [
      "{9145773778: <_PointerTensor - id:9145773778 owner:0 loc:bob id@loc:1000>}\n",
      "{1000: <_LocalTensor - id:1000 owner:bob>}\n",
      "{}\n",
      "{}\n"
     ]
    }
   ],
   "source": [
    "x = sy.FloatTensor([1,2,3,4])\n",
    "x.send(bob, new_id=1000)\n",
    "print(me._objects)\n",
    "print(bob._objects)\n",
    "print(alice._objects)\n",
    "print(james._objects)"
   ]
  },
  {
   "cell_type": "code",
   "execution_count": 4,
   "metadata": {},
   "outputs": [
    {
     "name": "stdout",
     "output_type": "stream",
     "text": [
      "{9145773778: <_PointerTensor - id:9145773778 owner:0 loc:bob id@loc:1000>}\n",
      "{1000: <_PointerTensor - id:1000 owner:bob loc:alice id@loc:1001>}\n",
      "{1001: <_LocalTensor - id:1001 owner:alice>}\n",
      "{}\n"
     ]
    }
   ],
   "source": [
    "x.move(alice, new_id=1001)\n",
    "print(me._objects)\n",
    "print(bob._objects)\n",
    "print(alice._objects)\n",
    "print(james._objects)"
   ]
  },
  {
   "cell_type": "code",
   "execution_count": 5,
   "metadata": {
    "scrolled": true
   },
   "outputs": [
    {
     "name": "stdout",
     "output_type": "stream",
     "text": [
      "{9145773778: <_PointerTensor - id:9145773778 owner:0 loc:bob id@loc:1000>}\n",
      "{1000: <_PointerTensor - id:1000 owner:bob loc:alice id@loc:1001>}\n",
      "{1001: <_PointerTensor - id:1001 owner:alice loc:james id@loc:1002>}\n",
      "{1002: <_LocalTensor - id:1002 owner:james>}\n"
     ]
    }
   ],
   "source": [
    "x.move(james, new_id=1002)\n",
    "print(me._objects)\n",
    "print(bob._objects)\n",
    "print(alice._objects)\n",
    "print(james._objects)"
   ]
  },
  {
   "cell_type": "code",
   "execution_count": 6,
   "metadata": {},
   "outputs": [
    {
     "name": "stdout",
     "output_type": "stream",
     "text": [
      "{9145773778: <_PointerTensor - id:9145773778 owner:0 loc:bob id@loc:1000>}\n",
      "{1000: <_PointerTensor - id:1000 owner:bob loc:alice id@loc:1001>, 1003: <_LocalTensor - id:1003 owner:bob>}\n",
      "{1001: <_PointerTensor - id:1001 owner:alice loc:james id@loc:1002>}\n",
      "{1002: <_PointerTensor - id:1002 owner:james loc:bob id@loc:1003>}\n"
     ]
    }
   ],
   "source": [
    "x.move(bob, new_id=1003)\n",
    "print(me._objects)\n",
    "print(bob._objects)\n",
    "print(alice._objects)\n",
    "print(james._objects)"
   ]
  },
  {
   "cell_type": "code",
   "execution_count": 7,
   "metadata": {},
   "outputs": [],
   "source": [
    "x = x.get().get().get().get()"
   ]
  },
  {
   "cell_type": "code",
   "execution_count": 8,
   "metadata": {},
   "outputs": [
    {
     "name": "stdout",
     "output_type": "stream",
     "text": [
      "{9145773778: <_LocalTensor - id:9145773778 owner:0>}\n",
      "{}\n",
      "{}\n",
      "{}\n"
     ]
    }
   ],
   "source": [
    "print(me._objects)\n",
    "print(bob._objects)\n",
    "print(alice._objects)\n",
    "print(james._objects)"
   ]
  },
  {
   "cell_type": "code",
   "execution_count": null,
   "metadata": {},
   "outputs": [],
   "source": []
  }
 ],
 "metadata": {
  "kernelspec": {
   "display_name": "Python 3",
   "language": "python",
   "name": "python3"
  },
  "language_info": {
   "codemirror_mode": {
    "name": "ipython",
    "version": 3
   },
   "file_extension": ".py",
   "mimetype": "text/x-python",
   "name": "python",
   "nbconvert_exporter": "python",
   "pygments_lexer": "ipython3",
   "version": "3.6.4"
  }
 },
 "nbformat": 4,
 "nbformat_minor": 2
}

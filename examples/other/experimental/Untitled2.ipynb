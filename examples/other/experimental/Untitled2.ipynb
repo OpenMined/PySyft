{
 "cells": [
  {
   "cell_type": "code",
   "execution_count": 1,
   "metadata": {},
   "outputs": [],
   "source": [
    "import torch"
   ]
  },
  {
   "cell_type": "code",
   "execution_count": 4,
   "metadata": {},
   "outputs": [],
   "source": [
    "class TorchFunctions(object):\n",
    "\n",
    "    def add(self, x, y):\n",
    "        return x + y"
   ]
  },
  {
   "cell_type": "code",
   "execution_count": 6,
   "metadata": {},
   "outputs": [
    {
     "name": "stdout",
     "output_type": "stream",
     "text": [
      "__module__\n",
      "__repr__\n",
      "__str__\n",
      "add\n"
     ]
    }
   ],
   "source": [
    "exclude = ['__class__',\n",
    "                   '__delattr__',\n",
    "                   '__dir__',\n",
    "                   '__doc__',\n",
    "                   '__dict__',\n",
    "                   '__eq__',\n",
    "                   '__format__',\n",
    "                   '__ge__',\n",
    "                   '__getattribute__',\n",
    "                   '__gt__',\n",
    "                   '__hash__',\n",
    "                   '__init__',\n",
    "                   '__init_subclass__',\n",
    "                   '__le__',\n",
    "                   '__lt__',\n",
    "                   '__weakref__',\n",
    "                   '__ne__',\n",
    "                   '__new__',\n",
    "                   '__reduce__',\n",
    "                   '__reduce_ex__',\n",
    "                   '__setattr__',\n",
    "                   '__sizeof__',\n",
    "                   '__subclasshook__']\n",
    "\n",
    "for attr in dir(TorchFunctions):\n",
    "    if(attr not in exclude):\n",
    "        setattr(torch, attr, getattr(TorchFunctions, attr))"
   ]
  },
  {
   "cell_type": "code",
   "execution_count": 7,
   "metadata": {},
   "outputs": [],
   "source": [
    "torch.tricked_add(x,y)"
   ]
  },
  {
   "cell_type": "code",
   "execution_count": 11,
   "metadata": {},
   "outputs": [],
   "source": [
    "x = torch.FloatTensor([1,2,3,4,5])"
   ]
  },
  {
   "cell_type": "code",
   "execution_count": null,
   "metadata": {},
   "outputs": [],
   "source": []
  },
  {
   "cell_type": "code",
   "execution_count": 13,
   "metadata": {},
   "outputs": [],
   "source": [
    "y = x.add(x)"
   ]
  },
  {
   "cell_type": "code",
   "execution_count": null,
   "metadata": {},
   "outputs": [],
   "source": []
  }
 ],
 "metadata": {
  "kernelspec": {
   "display_name": "Python 3",
   "language": "python",
   "name": "python3"
  },
  "language_info": {
   "codemirror_mode": {
    "name": "ipython",
    "version": 3
   },
   "file_extension": ".py",
   "mimetype": "text/x-python",
   "name": "python",
   "nbconvert_exporter": "python",
   "pygments_lexer": "ipython3",
   "version": "3.6.1"
  }
 },
 "nbformat": 4,
 "nbformat_minor": 2
}

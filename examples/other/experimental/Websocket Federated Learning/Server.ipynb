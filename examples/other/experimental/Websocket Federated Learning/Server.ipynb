{
 "cells": [
  {
   "cell_type": "code",
   "execution_count": 1,
   "metadata": {},
   "outputs": [
    {
     "name": "stdout",
     "output_type": "stream",
     "text": [
      "Starting Socket Worker...\n",
      "Ready!\n",
      "Hooking into Torch...\n",
      "Overloading complete.\n"
     ]
    }
   ],
   "source": [
    "from  syft.core.hooks  import TorchHook\n",
    "from syft.core.workers import VirtualWorker, SocketWorker\n",
    "import torch\n",
    "import torch.nn as nn\n",
    "from torch.autograd import Variable as Var\n",
    "import torch.optim as optim\n",
    "\n",
    "# this is our hook\n",
    "hook = TorchHook(local_worker=SocketWorker(id=0, port=8186))"
   ]
  },
  {
   "cell_type": "code",
   "execution_count": 2,
   "metadata": {},
   "outputs": [
    {
     "name": "stdout",
     "output_type": "stream",
     "text": [
      "Attaching Pointer to Socket Worker...\n"
     ]
    }
   ],
   "source": [
    "remote_worker_metadata={\"id\": 1,\n",
    "                        \"type\":\"syft.core.workers.socket.SocketWorker\",\n",
    "                        \"hostname\":\"localhost\",\n",
    "                        \"port\":8205}\n",
    "\n",
    "def init_worker_pointer(hook, metadata):\n",
    "    \n",
    "    if(metadata['type'] == \"syft.core.workers.socket.SocketWorker\"):\n",
    "        remote_client = SocketWorker(hook=hook,\n",
    "                                     id=metadata['id'],\n",
    "#                                      hostname=metadata['hostname'],\n",
    "                                     port=metadata['port'],\n",
    "                                     is_pointer=True)\n",
    "        return remote_client\n",
    "hook.local_worker.add_worker(init_worker_pointer(hook, remote_worker_metadata))"
   ]
  },
  {
   "cell_type": "code",
   "execution_count": 3,
   "metadata": {},
   "outputs": [
    {
     "name": "stdout",
     "output_type": "stream",
     "text": [
      "Received Command From: ('127.0.0.1', 58764)\n"
     ]
    }
   ],
   "source": [
    "hook.local_worker.listen(1)"
   ]
  },
  {
   "cell_type": "code",
   "execution_count": 4,
   "metadata": {},
   "outputs": [
    {
     "data": {
      "text/plain": [
       "Variable containing:\n",
       " 0  0\n",
       " 0  1\n",
       "[torch.FloatTensor of size 2x2]"
      ]
     },
     "execution_count": 4,
     "metadata": {},
     "output_type": "execute_result"
    }
   ],
   "source": [
    "hook.local_worker._objects[8494475226].get_()"
   ]
  },
  {
   "cell_type": "code",
   "execution_count": null,
   "metadata": {},
   "outputs": [],
   "source": []
  },
  {
   "cell_type": "code",
   "execution_count": null,
   "metadata": {},
   "outputs": [],
   "source": []
  },
  {
   "cell_type": "code",
   "execution_count": 2,
   "metadata": {},
   "outputs": [
    {
     "name": "stdout",
     "output_type": "stream",
     "text": [
      "adding worker\n",
      "Attaching Pointer to Socket Worker...\n"
     ]
    }
   ],
   "source": [
    "def create_tensor_pointer(tensor_id, tensor_type, remote_worker_id, remote_worker_init_metadata={}):\n",
    "    \n",
    "    if remote_worker_id not in hook.local_worker._known_workers:\n",
    "        print(\"adding worker\")\n",
    "        remote_client = init_worker_pointer(hook,remote_worker_init_metadata)\n",
    "        hook.local_worker.add_worker(remote_client)\n",
    "\n",
    "    ptr = hook._assemble_result_pointer({\"id\":tensor_id, \"owners\":[remote_worker_id]}, tensor_type, None, None)\n",
    "    ptr.is_pointer = True\n",
    "    return ptr\n",
    "\n",
    "tensor_id = 6555669521\n",
    "tensor_type = \"torch.FloatTensor\"\n",
    "\n",
    "\n",
    "x = create_tensor_pointer(tensor_id, \"torch.FloatTensor\", remote_worker_metadata['id'], remote_worker_metadata)"
   ]
  },
  {
   "cell_type": "code",
   "execution_count": null,
   "metadata": {},
   "outputs": [],
   "source": []
  },
  {
   "cell_type": "code",
   "execution_count": null,
   "metadata": {},
   "outputs": [],
   "source": []
  },
  {
   "cell_type": "code",
   "execution_count": null,
   "metadata": {},
   "outputs": [],
   "source": []
  },
  {
   "cell_type": "code",
   "execution_count": 4,
   "metadata": {},
   "outputs": [
    {
     "name": "stdout",
     "output_type": "stream",
     "text": [
      "adding worker\n",
      "Attaching Pointer to Socket Worker...\n"
     ]
    }
   ],
   "source": []
  },
  {
   "cell_type": "code",
   "execution_count": 2,
   "metadata": {},
   "outputs": [],
   "source": []
  },
  {
   "cell_type": "code",
   "execution_count": 3,
   "metadata": {},
   "outputs": [
    {
     "name": "stdout",
     "output_type": "stream",
     "text": [
      "adding worker\n"
     ]
    },
    {
     "ename": "NameError",
     "evalue": "name 'init_worker_pointer' is not defined",
     "output_type": "error",
     "traceback": [
      "\u001b[0;31m---------------------------------------------------------------------------\u001b[0m",
      "\u001b[0;31mNameError\u001b[0m                                 Traceback (most recent call last)",
      "\u001b[0;32m<ipython-input-3-4d32e523effb>\u001b[0m in \u001b[0;36m<module>\u001b[0;34m()\u001b[0m\n\u001b[1;32m      3\u001b[0m \u001b[0mremote_worker_metadata\u001b[0m\u001b[0;34m=\u001b[0m\u001b[0;34m{\u001b[0m\u001b[0;34m\"id\"\u001b[0m\u001b[0;34m:\u001b[0m \u001b[0;36m1\u001b[0m\u001b[0;34m,\u001b[0m \u001b[0;34m\"type\"\u001b[0m\u001b[0;34m:\u001b[0m\u001b[0;34m\"syft.core.workers.socket.SocketWorker\"\u001b[0m\u001b[0;34m,\u001b[0m \u001b[0;34m\"hostname\"\u001b[0m\u001b[0;34m:\u001b[0m\u001b[0;34m\"localhost\"\u001b[0m\u001b[0;34m,\u001b[0m \u001b[0;34m\"port\"\u001b[0m\u001b[0;34m:\u001b[0m\u001b[0;36m8197\u001b[0m\u001b[0;34m}\u001b[0m\u001b[0;34m\u001b[0m\u001b[0m\n\u001b[1;32m      4\u001b[0m \u001b[0;34m\u001b[0m\u001b[0m\n\u001b[0;32m----> 5\u001b[0;31m \u001b[0mx\u001b[0m \u001b[0;34m=\u001b[0m \u001b[0mcreate_tensor_pointer\u001b[0m\u001b[0;34m(\u001b[0m\u001b[0mtensor_id\u001b[0m\u001b[0;34m,\u001b[0m \u001b[0;34m\"torch.FloatTensor\"\u001b[0m\u001b[0;34m,\u001b[0m \u001b[0mremote_worker_metadata\u001b[0m\u001b[0;34m[\u001b[0m\u001b[0;34m'id'\u001b[0m\u001b[0;34m]\u001b[0m\u001b[0;34m,\u001b[0m \u001b[0mremote_worker_metadata\u001b[0m\u001b[0;34m)\u001b[0m\u001b[0;34m\u001b[0m\u001b[0m\n\u001b[0m",
      "\u001b[0;32m<ipython-input-2-06efae2a1895>\u001b[0m in \u001b[0;36mcreate_tensor_pointer\u001b[0;34m(tensor_id, tensor_type, remote_worker_id, remote_worker_init_metadata)\u001b[0m\n\u001b[1;32m      3\u001b[0m     \u001b[0;32mif\u001b[0m \u001b[0mremote_worker_id\u001b[0m \u001b[0;32mnot\u001b[0m \u001b[0;32min\u001b[0m \u001b[0mhook\u001b[0m\u001b[0;34m.\u001b[0m\u001b[0mlocal_worker\u001b[0m\u001b[0;34m.\u001b[0m\u001b[0m_known_workers\u001b[0m\u001b[0;34m:\u001b[0m\u001b[0;34m\u001b[0m\u001b[0m\n\u001b[1;32m      4\u001b[0m         \u001b[0mprint\u001b[0m\u001b[0;34m(\u001b[0m\u001b[0;34m\"adding worker\"\u001b[0m\u001b[0;34m)\u001b[0m\u001b[0;34m\u001b[0m\u001b[0m\n\u001b[0;32m----> 5\u001b[0;31m         \u001b[0mremote_client\u001b[0m \u001b[0;34m=\u001b[0m \u001b[0minit_worker_pointer\u001b[0m\u001b[0;34m(\u001b[0m\u001b[0mhook\u001b[0m\u001b[0;34m,\u001b[0m\u001b[0mremote_worker_init_metadata\u001b[0m\u001b[0;34m)\u001b[0m\u001b[0;34m\u001b[0m\u001b[0m\n\u001b[0m\u001b[1;32m      6\u001b[0m         \u001b[0mhook\u001b[0m\u001b[0;34m.\u001b[0m\u001b[0mlocal_worker\u001b[0m\u001b[0;34m.\u001b[0m\u001b[0madd_worker\u001b[0m\u001b[0;34m(\u001b[0m\u001b[0mremote_client\u001b[0m\u001b[0;34m)\u001b[0m\u001b[0;34m\u001b[0m\u001b[0m\n\u001b[1;32m      7\u001b[0m \u001b[0;34m\u001b[0m\u001b[0m\n",
      "\u001b[0;31mNameError\u001b[0m: name 'init_worker_pointer' is not defined"
     ]
    }
   ],
   "source": []
  },
  {
   "cell_type": "code",
   "execution_count": 5,
   "metadata": {},
   "outputs": [],
   "source": [
    "y = x + x"
   ]
  },
  {
   "cell_type": "code",
   "execution_count": 6,
   "metadata": {},
   "outputs": [
    {
     "data": {
      "text/plain": [
       "\n",
       " 0  0\n",
       " 0  2\n",
       "[torch.FloatTensor of size 2x2]"
      ]
     },
     "execution_count": 6,
     "metadata": {},
     "output_type": "execute_result"
    }
   ],
   "source": [
    "y.get()"
   ]
  },
  {
   "cell_type": "code",
   "execution_count": 7,
   "metadata": {},
   "outputs": [
    {
     "data": {
      "text/plain": [
       "\n",
       " 0  0\n",
       " 0  1\n",
       "[torch.FloatTensor of size 2x2]"
      ]
     },
     "execution_count": 7,
     "metadata": {},
     "output_type": "execute_result"
    }
   ],
   "source": [
    "x.get()"
   ]
  },
  {
   "cell_type": "code",
   "execution_count": null,
   "metadata": {},
   "outputs": [],
   "source": []
  },
  {
   "cell_type": "code",
   "execution_count": null,
   "metadata": {},
   "outputs": [
    {
     "name": "stdout",
     "output_type": "stream",
     "text": [
      "<  1396140055 949881783\n",
      "> Hello {'dataset': {'input': 1396140055, 'target': 949881783}, 'worker': '{\"hostname\": \"localhost\", \"port\": 8184}'}!\n",
      "<  5646722488 6328116976\n",
      "> Hello {'dataset': {'input': 5646722488, 'target': 6328116976}, 'worker': '{\"hostname\": \"localhost\", \"port\": 8184, \"id\": 0}'}!\n"
     ]
    }
   ],
   "source": [
    "# FEDERATED LEARNING SERVER\n",
    "\n",
    "# this server listens for tensors to be submitted by clients\n",
    "# for training of a model\n",
    "\n",
    "import asyncio\n",
    "import websockets\n",
    "import json\n",
    "\n",
    "async def hello(websocket, path):\n",
    "    json_message = await websocket.recv()\n",
    "    message_obj = json.loads(json_message)\n",
    "    input_id = message_obj['dataset']['input']\n",
    "    target_id = message_obj['dataset']['target']\n",
    "    print(f\"<  {input_id} {target_id}\")\n",
    "\n",
    "    greeting = f\"Hello {message_obj}!\"\n",
    "\n",
    "    await websocket.send(greeting)\n",
    "    print(f\"> {greeting}\")\n",
    "\n",
    "start_server = websockets.serve(hello, 'localhost', 8766)\n",
    "\n",
    "asyncio.get_event_loop().run_until_complete(start_server)\n",
    "asyncio.get_event_loop().run_forever()"
   ]
  },
  {
   "cell_type": "code",
   "execution_count": null,
   "metadata": {},
   "outputs": [],
   "source": []
  }
 ],
 "metadata": {
  "kernelspec": {
   "display_name": "Python 3",
   "language": "python",
   "name": "python3"
  },
  "language_info": {
   "codemirror_mode": {
    "name": "ipython",
    "version": 3
   },
   "file_extension": ".py",
   "mimetype": "text/x-python",
   "name": "python",
   "nbconvert_exporter": "python",
   "pygments_lexer": "ipython3",
   "version": "3.6.1"
  }
 },
 "nbformat": 4,
 "nbformat_minor": 2
}

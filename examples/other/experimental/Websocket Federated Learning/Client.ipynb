{
 "cells": [
  {
   "cell_type": "code",
   "execution_count": 2,
   "metadata": {},
   "outputs": [
    {
     "name": "stdout",
     "output_type": "stream",
     "text": [
      "Starting Socket Worker...\n",
      "Ready to receive commands...\n",
      "Hooking into Torch...\n",
      "Overloading complete.\n"
     ]
    }
   ],
   "source": [
    "import json\n",
    "import torch\n",
    "import torch.nn as nn\n",
    "from torch.autograd import Variable as Var\n",
    "import torch.optim as optim\n",
    "\n",
    "from syft.core.hooks import TorchHook\n",
    "from syft.core.workers import VirtualWorker, SocketWorker\n",
    "\n",
    "hook = TorchHook(local_worker=SocketWorker(id=1, port=8205, is_pointer=False, is_client_worker=False))"
   ]
  },
  {
   "cell_type": "code",
   "execution_count": null,
   "metadata": {},
   "outputs": [],
   "source": []
  },
  {
   "cell_type": "code",
   "execution_count": 3,
   "metadata": {},
   "outputs": [
    {
     "name": "stdout",
     "output_type": "stream",
     "text": [
      "Attaching Pointer to Socket Worker...\n"
     ]
    }
   ],
   "source": [
    "remote_worker_metadata={\"id\": 1,\n",
    "                        \"type\":\"syft.core.workers.socket.SocketWorker\",\n",
    "                        \"hostname\":\"localhost\",\n",
    "                        \"port\":8186}\n",
    "\n",
    "def init_worker_pointer(hook, metadata):\n",
    "    \n",
    "    if(metadata['type'] == \"syft.core.workers.socket.SocketWorker\"):\n",
    "        remote_client = SocketWorker(hook=hook,\n",
    "                                     id=metadata['id'],\n",
    "#                                      hostname=metadata['hostname'],\n",
    "                                     port=metadata['port'],\n",
    "                                     is_pointer=True)\n",
    "        return remote_client\n",
    "remote_client = init_worker_pointer(hook, remote_worker_metadata)"
   ]
  },
  {
   "cell_type": "code",
   "execution_count": 4,
   "metadata": {},
   "outputs": [],
   "source": [
    "data = Var(torch.FloatTensor([[0,0],[0,1]]))"
   ]
  },
  {
   "cell_type": "code",
   "execution_count": 5,
   "metadata": {},
   "outputs": [
    {
     "data": {
      "text/plain": [
       "1132951301"
      ]
     },
     "execution_count": 5,
     "metadata": {},
     "output_type": "execute_result"
    }
   ],
   "source": [
    "data.id"
   ]
  },
  {
   "cell_type": "code",
   "execution_count": 6,
   "metadata": {},
   "outputs": [
    {
     "data": {
      "text/plain": [
       "Variable containing:\n",
       " 0  0\n",
       " 0  1\n",
       "[torch.FloatTensor of size 2x2]"
      ]
     },
     "execution_count": 6,
     "metadata": {},
     "output_type": "execute_result"
    }
   ],
   "source": [
    "data.send(remote_client, send_pointer=True)"
   ]
  },
  {
   "cell_type": "code",
   "execution_count": 6,
   "metadata": {},
   "outputs": [
    {
     "data": {
      "text/plain": [
       "Variable containing:\n",
       " 0  0\n",
       " 0  1\n",
       "[torch.FloatTensor of size 2x2]"
      ]
     },
     "execution_count": 6,
     "metadata": {},
     "output_type": "execute_result"
    }
   ],
   "source": [
    "hook.local_worker._objects[data.id]"
   ]
  },
  {
   "cell_type": "code",
   "execution_count": 7,
   "metadata": {},
   "outputs": [
    {
     "name": "stdout",
     "output_type": "stream",
     "text": [
      "Received Command From: ('127.0.0.1', 58601)\n"
     ]
    }
   ],
   "source": [
    "hook.local_worker.listen(1)"
   ]
  },
  {
   "cell_type": "code",
   "execution_count": 4,
   "metadata": {},
   "outputs": [],
   "source": [
    "# data.data.id"
   ]
  },
  {
   "cell_type": "code",
   "execution_count": 5,
   "metadata": {},
   "outputs": [
    {
     "data": {
      "text/plain": [
       "'{\"torch_type\": \"torch.autograd.variable.Variable\", \"requires_grad\": false, \"volatile\": false, \"data\": \"{\\\\\"torch_type\\\\\": \\\\\"torch.FloatTensor\\\\\", \\\\\"id\\\\\": 9578980310, \\\\\"owners\\\\\": [1], \\\\\"is_pointer\\\\\": true}\\\\n\", \"grad\": null, \"id\": 823384466, \"owners\": [1], \"is_pointer\": true}'"
      ]
     },
     "execution_count": 5,
     "metadata": {},
     "output_type": "execute_result"
    }
   ],
   "source": [
    "data.ser(include_data=False)"
   ]
  },
  {
   "cell_type": "code",
   "execution_count": null,
   "metadata": {},
   "outputs": [],
   "source": []
  },
  {
   "cell_type": "code",
   "execution_count": null,
   "metadata": {},
   "outputs": [],
   "source": [
    "data.send()"
   ]
  },
  {
   "cell_type": "code",
   "execution_count": null,
   "metadata": {},
   "outputs": [
    {
     "name": "stdout",
     "output_type": "stream",
     "text": [
      "Received Command From: ('127.0.0.1', 55299)\n"
     ]
    }
   ],
   "source": [
    "hook.local_worker._listen()"
   ]
  },
  {
   "cell_type": "code",
   "execution_count": 4,
   "metadata": {},
   "outputs": [],
   "source": [
    "# FEDERATED LEARNING CLIENT\n",
    "# eventually this would be some kind of browser application\n",
    "# but for now we're going to prototype it in python\n",
    "\n",
    "# 1) Initialize A Dataset (and register it with the local SocketWorker)\n",
    "# 2) Tell the server about the dataset (i have a data and target tensor with ID x and y)\n",
    "# 3) tell SocketWorker to listen for instructions (aka... how to do the federated learning part)"
   ]
  },
  {
   "cell_type": "markdown",
   "metadata": {},
   "source": [
    "# Step 1: Initialize a Dataset\n",
    "\n",
    "(and register it with the local SocketWorker)"
   ]
  },
  {
   "cell_type": "code",
   "execution_count": 5,
   "metadata": {},
   "outputs": [],
   "source": [
    "data = Var(torch.FloatTensor([[0,0],[0,1]]))\n",
    "target = Var(torch.FloatTensor([[0],[0]]))"
   ]
  },
  {
   "cell_type": "code",
   "execution_count": 6,
   "metadata": {},
   "outputs": [],
   "source": [
    "dataset = {}\n",
    "dataset['input'] = data.id\n",
    "dataset['target'] = target.id\n",
    "\n",
    "worker = hook.local_worker.whoami()\n",
    "\n",
    "message_obj = {\"dataset\":dataset, \"worker\":worker}"
   ]
  },
  {
   "cell_type": "code",
   "execution_count": 8,
   "metadata": {},
   "outputs": [
    {
     "data": {
      "text/plain": [
       "syft.core.workers.socket.SocketWorker"
      ]
     },
     "execution_count": 8,
     "metadata": {},
     "output_type": "execute_result"
    }
   ],
   "source": [
    "type(hook.local_worker)"
   ]
  },
  {
   "cell_type": "code",
   "execution_count": 7,
   "metadata": {},
   "outputs": [
    {
     "data": {
      "text/plain": [
       "'{\"hostname\": \"localhost\", \"port\": 8194, \"id\": 1}'"
      ]
     },
     "execution_count": 7,
     "metadata": {},
     "output_type": "execute_result"
    }
   ],
   "source": [
    "worker"
   ]
  },
  {
   "cell_type": "code",
   "execution_count": 6,
   "metadata": {},
   "outputs": [
    {
     "name": "stdout",
     "output_type": "stream",
     "text": [
      "> {\"dataset\": {\"input\": 5646722488, \"target\": 6328116976}, \"worker\": \"{\\\"hostname\\\": \\\"localhost\\\", \\\"port\\\": 8184, \\\"id\\\": 0}\"}\n",
      "< Hello {'dataset': {'input': 5646722488, 'target': 6328116976}, 'worker': '{\"hostname\": \"localhost\", \"port\": 8184, \"id\": 0}'}!\n"
     ]
    }
   ],
   "source": [
    "import asyncio\n",
    "import websockets\n",
    "\n",
    "async def hello():\n",
    "    async with websockets.connect(\n",
    "            'ws://localhost:8766') as websocket:\n",
    "        message = json.dumps(message_obj)\n",
    "\n",
    "        await websocket.send(message)\n",
    "        print(f\"> {message}\")\n",
    "\n",
    "        response = await websocket.recv()\n",
    "        print(f\"< {response}\")\n",
    "\n",
    "asyncio.get_event_loop().run_until_complete(hello())"
   ]
  },
  {
   "cell_type": "code",
   "execution_count": null,
   "metadata": {},
   "outputs": [],
   "source": []
  },
  {
   "cell_type": "code",
   "execution_count": null,
   "metadata": {},
   "outputs": [],
   "source": []
  },
  {
   "cell_type": "code",
   "execution_count": null,
   "metadata": {},
   "outputs": [],
   "source": []
  }
 ],
 "metadata": {
  "kernelspec": {
   "display_name": "Python 3",
   "language": "python",
   "name": "python3"
  },
  "language_info": {
   "codemirror_mode": {
    "name": "ipython",
    "version": 3
   },
   "file_extension": ".py",
   "mimetype": "text/x-python",
   "name": "python",
   "nbconvert_exporter": "python",
   "pygments_lexer": "ipython3",
   "version": "3.6.1"
  }
 },
 "nbformat": 4,
 "nbformat_minor": 2
}

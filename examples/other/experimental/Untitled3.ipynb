{
 "cells": [
  {
   "cell_type": "code",
   "execution_count": 1,
   "metadata": {
    "collapsed": true
   },
   "outputs": [],
   "source": [
    "import random\n",
    "import syft as sy\n",
    "from syft.core import utils\n",
    "from syft.core.frameworks.torch import utils as torch_utils\n",
    "from syft.core.frameworks import encode\n",
    "from syft.core.frameworks.torch.tensor import _SPDZTensor\n",
    "from syft.core.frameworks.torch.tensor import _GeneralizedPointerTensor\n",
    "from syft.spdz import spdz\n",
    "import torch\n",
    "import torch.nn.functional as F\n",
    "from torch.autograd import Variable as Var\n",
    "import json\n",
    "\n",
    "hook = sy.TorchHook(verbose=True)\n",
    "\n",
    "me = hook.local_worker\n",
    "me.is_client_worker = False\n",
    "\n",
    "bob = sy.VirtualWorker(id=\"bob\", hook=hook, is_client_worker=False)\n",
    "alice = sy.VirtualWorker(id=\"alice\", hook=hook, is_client_worker=False)\n",
    "james = sy.VirtualWorker(id=\"james\", hook=hook, is_client_worker=False)\n",
    "\n",
    "bob.add_workers([alice, james])\n",
    "alice.add_workers([bob, james])\n",
    "james.add_workers([bob, alice])"
   ]
  },
  {
   "cell_type": "code",
   "execution_count": 2,
   "metadata": {
    "collapsed": true
   },
   "outputs": [],
   "source": [
    "x = sy.Variable(torch.FloatTensor([5, 6]), requires_grad=True)\n",
    "y = sy.Variable(torch.FloatTensor([3, 4]), requires_grad=True)\n",
    "x = sy._PlusIsMinusTensor().on(x)\n",
    "y = sy._PlusIsMinusTensor().on(y)\n",
    "z = x.add(y).sum()\n",
    "z.backward()\n",
    "\n",
    "# cut chain for the equality check\n",
    "x.grad.data.child = x.grad.data.child.child\n",
    "assert torch.equal(x.grad.data, torch.FloatTensor([1, 1]))"
   ]
  },
  {
   "cell_type": "code",
   "execution_count": null,
   "metadata": {
    "collapsed": true
   },
   "outputs": [],
   "source": []
  }
 ],
 "metadata": {
  "kernelspec": {
   "display_name": "Python 2",
   "language": "python",
   "name": "python2"
  },
  "language_info": {
   "codemirror_mode": {
    "name": "ipython",
    "version": 2
   },
   "file_extension": ".py",
   "mimetype": "text/x-python",
   "name": "python",
   "nbconvert_exporter": "python",
   "pygments_lexer": "ipython2",
   "version": "2.7.13"
  }
 },
 "nbformat": 4,
 "nbformat_minor": 2
}

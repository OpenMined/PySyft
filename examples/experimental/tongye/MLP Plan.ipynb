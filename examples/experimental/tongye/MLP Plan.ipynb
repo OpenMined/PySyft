{
 "cells": [
  {
   "cell_type": "code",
   "execution_count": 1,
   "metadata": {},
   "outputs": [],
   "source": [
    "%load_ext autoreload\n",
    "%autoreload 2"
   ]
  },
  {
   "cell_type": "code",
   "execution_count": 2,
   "metadata": {},
   "outputs": [],
   "source": [
    "import syft as sy\n",
    "import numpy as np\n",
    "import torch as th\n",
    "from syft import VirtualMachine\n",
    "from pathlib import Path\n",
    "from torchvision import datasets, transforms\n",
    "from syft.core.plan.plan_builder import PLAN_BUILDER_VM, make_plan, build_plan_inputs, ROOT_CLIENT\n",
    "from syft.lib.python.list import List\n",
    "from matplotlib import pyplot as plt\n",
    "from syft import logger\n",
    "from syft.lib.torch.module import ModelExecutor\n",
    "logger.remove()"
   ]
  },
  {
   "cell_type": "code",
   "execution_count": 3,
   "metadata": {},
   "outputs": [],
   "source": [
    "alice = VirtualMachine()\n",
    "alice_client = alice.get_root_client()"
   ]
  },
  {
   "cell_type": "markdown",
   "metadata": {},
   "source": [
    "# Define Model"
   ]
  },
  {
   "cell_type": "code",
   "execution_count": 4,
   "metadata": {},
   "outputs": [],
   "source": [
    "class MLP(th.nn.Module):\n",
    "    def __init__(self):\n",
    "        super().__init__()\n",
    "        self.l1 = th.nn.Linear(8, 4)\n",
    "        self.a1 = th.nn.ReLU()\n",
    "        self.l2 = th.nn.Linear(4, 2)\n",
    "        \n",
    "    @staticmethod\n",
    "    def forward(model, x):\n",
    "        l1_out = model.a1(model.l1(x))\n",
    "        l2_out = model.l2(l1_out)\n",
    "        return l2_out"
   ]
  },
  {
   "cell_type": "code",
   "execution_count": 5,
   "metadata": {},
   "outputs": [],
   "source": [
    "local_model = MLP()"
   ]
  },
  {
   "cell_type": "code",
   "execution_count": 6,
   "metadata": {},
   "outputs": [],
   "source": [
    "executor = ModelExecutor(local_model)"
   ]
  },
  {
   "cell_type": "markdown",
   "metadata": {},
   "source": [
    "# Define Plan"
   ]
  },
  {
   "cell_type": "code",
   "execution_count": 7,
   "metadata": {},
   "outputs": [],
   "source": [
    "dummy_dl = sy.lib.python.List([\n",
    "    [th.rand([4,8]), th.randint(0,2, (4,))] for _ in range(1)\n",
    "])"
   ]
  },
  {
   "cell_type": "code",
   "execution_count": 8,
   "metadata": {
    "scrolled": false
   },
   "outputs": [
    {
     "name": "stderr",
     "output_type": "stream",
     "text": [
      "/mnt/d/ubuntu/anaconda3/envs/pysyft_dev/lib/python3.8/site-packages/torch/autograd/__init__.py:130: UserWarning: CUDA initialization: Found no NVIDIA driver on your system. Please check that you have an NVIDIA GPU and installed a driver from http://www.nvidia.com/Download/index.aspx (Triggered internally at  /pytorch/c10/cuda/CUDAFunctions.cpp:100.)\n",
      "  Variable._execution_engine.run_backward(\n"
     ]
    }
   ],
   "source": [
    "@make_plan\n",
    "def train(dl=dummy_dl,\n",
    "          model=local_model\n",
    "         ):\n",
    "    remote_torch = ROOT_CLIENT.torch\n",
    "    optimizer = remote_torch.optim.SGD(model.parameters(), lr=1e-1, momentum=0)\n",
    "    criterion = remote_torch.nn.CrossEntropyLoss()\n",
    "    \n",
    "    for xy in dl:\n",
    "        x = xy[0]\n",
    "        y = xy[1]\n",
    "        out = executor(model,x)\n",
    "        loss = criterion(out, y)\n",
    "        loss.backward()\n",
    "        optimizer.step()\n",
    "        \n",
    "    return loss, model"
   ]
  },
  {
   "cell_type": "markdown",
   "metadata": {},
   "source": [
    "# Run"
   ]
  },
  {
   "cell_type": "code",
   "execution_count": 9,
   "metadata": {
    "scrolled": false
   },
   "outputs": [],
   "source": [
    "remote_model = local_model.send(alice_client)\n",
    "dummy_dl_ptr = dummy_dl.send(alice_client)\n",
    "train_ptr = train.send(alice_client)"
   ]
  },
  {
   "cell_type": "code",
   "execution_count": 10,
   "metadata": {
    "scrolled": false
   },
   "outputs": [],
   "source": [
    "res_ptr = train_ptr(dl=dummy_dl_ptr, model=remote_model)"
   ]
  },
  {
   "cell_type": "code",
   "execution_count": 11,
   "metadata": {},
   "outputs": [
    {
     "name": "stderr",
     "output_type": "stream",
     "text": [
      "/mnt/d/github/PySyft/src/syft/lib/torch/uppercase_tensor.py:30: UserWarning: The .grad attribute of a Tensor that is not a leaf Tensor is being accessed. Its .grad attribute won't be populated during autograd.backward(). If you indeed want the gradient for a non-leaf Tensor, use .retain_grad() on the non-leaf Tensor. If you access the non-leaf Tensor by mistake, make sure you access the leaf Tensor instead. See github.com/pytorch/pytorch/pull/30531 for more informations.\n",
      "  grad = getattr(obj, \"grad\", None)\n"
     ]
    }
   ],
   "source": [
    "res = res_ptr.get()\n",
    "loss = res[0]\n",
    "get_model = res[1]"
   ]
  },
  {
   "cell_type": "code",
   "execution_count": 12,
   "metadata": {},
   "outputs": [
    {
     "data": {
      "text/plain": [
       "tensor(0.7022, requires_grad=True)"
      ]
     },
     "execution_count": 12,
     "metadata": {},
     "output_type": "execute_result"
    }
   ],
   "source": [
    "loss = res[0]\n",
    "loss"
   ]
  },
  {
   "cell_type": "code",
   "execution_count": 13,
   "metadata": {},
   "outputs": [],
   "source": [
    "get_model = res[1]"
   ]
  },
  {
   "cell_type": "code",
   "execution_count": 14,
   "metadata": {},
   "outputs": [
    {
     "data": {
      "text/plain": [
       "[Parameter containing:\n",
       " tensor([[ 0.2833, -0.3295,  0.2022,  0.1772,  0.2799,  0.1299,  0.0827, -0.3357],\n",
       "         [-0.0901, -0.2366, -0.3408, -0.2212, -0.0780,  0.0700,  0.2329,  0.0218],\n",
       "         [-0.0892, -0.1332,  0.1858, -0.3072,  0.2823, -0.1750,  0.1798, -0.1320],\n",
       "         [-0.3528,  0.3329,  0.2806,  0.0390,  0.0221,  0.3490, -0.3451,  0.2502]],\n",
       "        requires_grad=True),\n",
       " Parameter containing:\n",
       " tensor([0.1904, 0.3201, 0.1401, 0.1586], requires_grad=True),\n",
       " Parameter containing:\n",
       " tensor([[ 0.4244,  0.4566,  0.3440,  0.4543],\n",
       "         [ 0.2025, -0.2310,  0.1854, -0.0016]], requires_grad=True),\n",
       " Parameter containing:\n",
       " tensor([-0.2559,  0.3375], requires_grad=True)]"
      ]
     },
     "execution_count": 14,
     "metadata": {},
     "output_type": "execute_result"
    }
   ],
   "source": [
    "list(local_model.parameters())"
   ]
  },
  {
   "cell_type": "code",
   "execution_count": 15,
   "metadata": {},
   "outputs": [
    {
     "data": {
      "text/plain": [
       "[Parameter containing:\n",
       " tensor([[ 0.2854, -0.3280,  0.2033,  0.1776,  0.2811,  0.1307,  0.0849, -0.3357],\n",
       "         [-0.0847, -0.2380, -0.3378, -0.2236, -0.0727,  0.0700,  0.2362,  0.0223],\n",
       "         [-0.0887, -0.1336,  0.1853, -0.3084,  0.2827, -0.1756,  0.1804, -0.1328],\n",
       "         [-0.3486,  0.3361,  0.2829,  0.0399,  0.0247,  0.3507, -0.3408,  0.2502]],\n",
       "        requires_grad=True),\n",
       " Parameter containing:\n",
       " tensor([0.1915, 0.3215, 0.1387, 0.1610], requires_grad=True),\n",
       " Parameter containing:\n",
       " tensor([[ 0.4299,  0.4568,  0.3471,  0.4538],\n",
       "         [ 0.1969, -0.2312,  0.1823, -0.0011]], requires_grad=True),\n",
       " Parameter containing:\n",
       " tensor([-0.2506,  0.3322], requires_grad=True)]"
      ]
     },
     "execution_count": 15,
     "metadata": {},
     "output_type": "execute_result"
    }
   ],
   "source": [
    "list(get_model.parameters())"
   ]
  }
 ],
 "metadata": {
  "kernelspec": {
   "display_name": "Python 3",
   "language": "python",
   "name": "python3"
  },
  "language_info": {
   "codemirror_mode": {
    "name": "ipython",
    "version": 3
   },
   "file_extension": ".py",
   "mimetype": "text/x-python",
   "name": "python",
   "nbconvert_exporter": "python",
   "pygments_lexer": "ipython3",
   "version": "3.8.8"
  },
  "toc": {
   "base_numbering": 1,
   "nav_menu": {},
   "number_sections": true,
   "sideBar": true,
   "skip_h1_title": false,
   "title_cell": "Table of Contents",
   "title_sidebar": "Contents",
   "toc_cell": false,
   "toc_position": {},
   "toc_section_display": true,
   "toc_window_display": true
  }
 },
 "nbformat": 4,
 "nbformat_minor": 5
}

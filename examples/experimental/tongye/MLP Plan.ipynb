{
 "cells": [
  {
   "cell_type": "code",
   "execution_count": 1,
   "metadata": {},
   "outputs": [],
   "source": [
    "%load_ext autoreload\n",
    "%autoreload 2"
   ]
  },
  {
   "cell_type": "code",
   "execution_count": 2,
   "metadata": {},
   "outputs": [],
   "source": [
    "import syft as sy\n",
    "import numpy as np\n",
    "import torch as th\n",
    "from syft import VirtualMachine\n",
    "from pathlib import Path\n",
    "from torchvision import datasets, transforms\n",
    "from syft.core.plan.plan_builder import PLAN_BUILDER_VM, make_plan, build_plan_inputs, ROOT_CLIENT\n",
    "from syft.lib.python.list import List\n",
    "from matplotlib import pyplot as plt\n",
    "from syft import logger\n",
    "from syft.lib.torch.module import ModelExecutor\n",
    "logger.remove()"
   ]
  },
  {
   "cell_type": "code",
   "execution_count": 3,
   "metadata": {},
   "outputs": [],
   "source": [
    "alice = VirtualMachine()\n",
    "alice_client = alice.get_root_client()"
   ]
  },
  {
   "cell_type": "markdown",
   "metadata": {},
   "source": [
    "# Define Model"
   ]
  },
  {
   "cell_type": "code",
   "execution_count": 4,
   "metadata": {},
   "outputs": [],
   "source": [
    "class MLP(th.nn.Module):\n",
    "    def __init__(self):\n",
    "        super().__init__()\n",
    "        self.l1 = th.nn.Linear(8, 4)\n",
    "        self.a1 = th.nn.ReLU()\n",
    "        self.l2 = th.nn.Linear(4, 2)\n",
    "        \n",
    "    def forward(self, x):\n",
    "        l1_out = self.a1(self.l1(x))\n",
    "        l2_out = self.l2(l1_out)\n",
    "        return l2_out"
   ]
  },
  {
   "cell_type": "code",
   "execution_count": 5,
   "metadata": {},
   "outputs": [],
   "source": [
    "local_model = MLP()"
   ]
  },
  {
   "cell_type": "code",
   "execution_count": 6,
   "metadata": {},
   "outputs": [],
   "source": [
    "executor = ModelExecutor(local_model)"
   ]
  },
  {
   "cell_type": "markdown",
   "metadata": {},
   "source": [
    "# Define Plan"
   ]
  },
  {
   "cell_type": "code",
   "execution_count": 7,
   "metadata": {},
   "outputs": [],
   "source": [
    "dummy_dl = sy.lib.python.List([\n",
    "    [th.rand([4,8]), th.randint(0,2, (4,))] for _ in range(1)\n",
    "])"
   ]
  },
  {
   "cell_type": "code",
   "execution_count": 8,
   "metadata": {
    "scrolled": false
   },
   "outputs": [
    {
     "name": "stderr",
     "output_type": "stream",
     "text": [
      "/mnt/d/ubuntu/anaconda3/envs/pysyft_dev/lib/python3.8/site-packages/torch/autograd/__init__.py:130: UserWarning: CUDA initialization: Found no NVIDIA driver on your system. Please check that you have an NVIDIA GPU and installed a driver from http://www.nvidia.com/Download/index.aspx (Triggered internally at  /pytorch/c10/cuda/CUDAFunctions.cpp:100.)\n",
      "  Variable._execution_engine.run_backward(\n"
     ]
    }
   ],
   "source": [
    "@make_plan\n",
    "def train(dl=dummy_dl,\n",
    "          model=local_model\n",
    "         ):\n",
    "    remote_torch = ROOT_CLIENT.torch\n",
    "    optimizer = remote_torch.optim.SGD(model.parameters(), lr=1e-1, momentum=0)\n",
    "    criterion = remote_torch.nn.CrossEntropyLoss()\n",
    "    \n",
    "    for xy in dl:\n",
    "        x = xy[0]\n",
    "        y = xy[1]\n",
    "        out = executor(model,x)\n",
    "        loss = criterion(out, y)\n",
    "        loss.backward()\n",
    "        optimizer.step()\n",
    "        \n",
    "    return loss, model"
   ]
  },
  {
   "cell_type": "markdown",
   "metadata": {},
   "source": [
    "# Run"
   ]
  },
  {
   "cell_type": "code",
   "execution_count": 9,
   "metadata": {
    "scrolled": false
   },
   "outputs": [],
   "source": [
    "remote_model = local_model.send(alice_client)\n",
    "dummy_dl_ptr = dummy_dl.send(alice_client)\n",
    "train_ptr = train.send(alice_client)"
   ]
  },
  {
   "cell_type": "code",
   "execution_count": 10,
   "metadata": {
    "scrolled": false
   },
   "outputs": [],
   "source": [
    "res_ptr = train_ptr(dl=dummy_dl_ptr, model=remote_model)"
   ]
  },
  {
   "cell_type": "code",
   "execution_count": 11,
   "metadata": {},
   "outputs": [
    {
     "name": "stderr",
     "output_type": "stream",
     "text": [
      "/mnt/d/github/PySyft/src/syft/lib/torch/uppercase_tensor.py:30: UserWarning: The .grad attribute of a Tensor that is not a leaf Tensor is being accessed. Its .grad attribute won't be populated during autograd.backward(). If you indeed want the gradient for a non-leaf Tensor, use .retain_grad() on the non-leaf Tensor. If you access the non-leaf Tensor by mistake, make sure you access the leaf Tensor instead. See github.com/pytorch/pytorch/pull/30531 for more informations.\n",
      "  grad = getattr(obj, \"grad\", None)\n"
     ]
    }
   ],
   "source": [
    "res = res_ptr.get()\n",
    "loss = res[0]\n",
    "get_model = res[1]"
   ]
  },
  {
   "cell_type": "code",
   "execution_count": 12,
   "metadata": {},
   "outputs": [
    {
     "data": {
      "text/plain": [
       "tensor(0.7172, requires_grad=True)"
      ]
     },
     "execution_count": 12,
     "metadata": {},
     "output_type": "execute_result"
    }
   ],
   "source": [
    "loss = res[0]\n",
    "loss"
   ]
  },
  {
   "cell_type": "code",
   "execution_count": 13,
   "metadata": {},
   "outputs": [],
   "source": [
    "get_model = res[1]"
   ]
  },
  {
   "cell_type": "code",
   "execution_count": 14,
   "metadata": {},
   "outputs": [
    {
     "data": {
      "text/plain": [
       "[Parameter containing:\n",
       " tensor([[-0.2468, -0.3473, -0.0972,  0.1971, -0.0750,  0.2802, -0.3202,  0.3238],\n",
       "         [-0.0981, -0.0860,  0.1253, -0.1503,  0.3521,  0.0640,  0.1574,  0.0462],\n",
       "         [ 0.1285, -0.1593, -0.2483,  0.3037,  0.3279,  0.0436,  0.0758,  0.2627],\n",
       "         [-0.2953,  0.1203, -0.2534,  0.2447, -0.0197,  0.0519, -0.3233, -0.0060]],\n",
       "        requires_grad=True),\n",
       " Parameter containing:\n",
       " tensor([-0.0886,  0.0461, -0.1898,  0.1258], requires_grad=True),\n",
       " Parameter containing:\n",
       " tensor([[ 0.0588, -0.4441, -0.0490,  0.2595],\n",
       "         [-0.2622,  0.3460,  0.0152,  0.3954]], requires_grad=True),\n",
       " Parameter containing:\n",
       " tensor([0.2401, 0.2451], requires_grad=True)]"
      ]
     },
     "execution_count": 14,
     "metadata": {},
     "output_type": "execute_result"
    }
   ],
   "source": [
    "list(local_model.parameters())"
   ]
  },
  {
   "cell_type": "code",
   "execution_count": 15,
   "metadata": {},
   "outputs": [
    {
     "data": {
      "text/plain": [
       "[Parameter containing:\n",
       " tensor([[-0.2481, -0.3474, -0.0990,  0.1962, -0.0776,  0.2794, -0.3203,  0.3210],\n",
       "         [-0.0999, -0.0886,  0.1159, -0.1519,  0.3456,  0.0640,  0.1529,  0.0542],\n",
       "         [ 0.1288, -0.1588, -0.2483,  0.3037,  0.3280,  0.0444,  0.0760,  0.2634],\n",
       "         [-0.2953,  0.1203, -0.2534,  0.2447, -0.0197,  0.0519, -0.3233, -0.0060]],\n",
       "        requires_grad=True),\n",
       " Parameter containing:\n",
       " tensor([-0.0920,  0.0400, -0.1894,  0.1258], requires_grad=True),\n",
       " Parameter containing:\n",
       " tensor([[ 0.0581, -0.4397, -0.0512,  0.2595],\n",
       "         [-0.2615,  0.3416,  0.0175,  0.3954]], requires_grad=True),\n",
       " Parameter containing:\n",
       " tensor([0.2478, 0.2374], requires_grad=True)]"
      ]
     },
     "execution_count": 15,
     "metadata": {},
     "output_type": "execute_result"
    }
   ],
   "source": [
    "list(get_model.parameters())"
   ]
  }
 ],
 "metadata": {
  "kernelspec": {
   "display_name": "Python 3",
   "language": "python",
   "name": "python3"
  },
  "language_info": {
   "codemirror_mode": {
    "name": "ipython",
    "version": 3
   },
   "file_extension": ".py",
   "mimetype": "text/x-python",
   "name": "python",
   "nbconvert_exporter": "python",
   "pygments_lexer": "ipython3",
   "version": "3.8.8"
  },
  "toc": {
   "base_numbering": 1,
   "nav_menu": {},
   "number_sections": true,
   "sideBar": true,
   "skip_h1_title": false,
   "title_cell": "Table of Contents",
   "title_sidebar": "Contents",
   "toc_cell": false,
   "toc_position": {},
   "toc_section_display": true,
   "toc_window_display": true
  }
 },
 "nbformat": 4,
 "nbformat_minor": 5
}

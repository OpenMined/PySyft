{
 "cells": [
  {
   "cell_type": "code",
   "execution_count": 1,
   "metadata": {},
   "outputs": [],
   "source": [
    "%load_ext autoreload\n",
    "%autoreload 2"
   ]
  },
  {
   "cell_type": "code",
   "execution_count": 2,
   "metadata": {},
   "outputs": [],
   "source": [
    "import syft as sy\n",
    "import numpy as np\n",
    "import torch as th\n",
    "from syft import VirtualMachine\n",
    "from pathlib import Path\n",
    "from torchvision import datasets, transforms\n",
    "from syft.core.plan.plan_builder import PLAN_BUILDER_VM, make_plan, build_plan_inputs, ROOT_CLIENT\n",
    "from syft.lib.python.list import List\n",
    "from matplotlib import pyplot as plt\n",
    "from syft import logger\n",
    "logger.remove()"
   ]
  },
  {
   "cell_type": "code",
   "execution_count": 3,
   "metadata": {},
   "outputs": [],
   "source": [
    "alice = VirtualMachine()\n",
    "alice_client = alice.get_root_client()"
   ]
  },
  {
   "cell_type": "markdown",
   "metadata": {},
   "source": [
    "# Define Model"
   ]
  },
  {
   "cell_type": "code",
   "execution_count": 4,
   "metadata": {},
   "outputs": [],
   "source": [
    "class MLP(th.nn.Module):\n",
    "    def __init__(self):\n",
    "        super().__init__()\n",
    "        self.l1 = th.nn.Linear(4, 4)\n",
    "        self.l2 = th.nn.Linear(4, 2)\n",
    "        \n",
    "    def forward(self, x=th.rand(4), th=th):\n",
    "        x = self.l1(x)\n",
    "        x = th.relu(x)\n",
    "        x = self.l2(x)\n",
    "        return x"
   ]
  },
  {
   "cell_type": "code",
   "execution_count": 5,
   "metadata": {},
   "outputs": [],
   "source": [
    "local_model = MLP()"
   ]
  },
  {
   "cell_type": "markdown",
   "metadata": {},
   "source": [
    "# Define Plan"
   ]
  },
  {
   "cell_type": "code",
   "execution_count": 6,
   "metadata": {},
   "outputs": [],
   "source": [
    "dummy_dl = sy.lib.python.List([\n",
    "    [th.rand([4,4]), th.randint(0,2, (4,))] for _ in range(1)\n",
    "])"
   ]
  },
  {
   "cell_type": "code",
   "execution_count": 7,
   "metadata": {
    "scrolled": false
   },
   "outputs": [
    {
     "name": "stderr",
     "output_type": "stream",
     "text": [
      "/mnt/d/ubuntu/anaconda3/envs/pysyft_dev/lib/python3.8/site-packages/torch/autograd/__init__.py:130: UserWarning: CUDA initialization: Found no NVIDIA driver on your system. Please check that you have an NVIDIA GPU and installed a driver from http://www.nvidia.com/Download/index.aspx (Triggered internally at  /pytorch/c10/cuda/CUDAFunctions.cpp:100.)\n",
      "  Variable._execution_engine.run_backward(\n"
     ]
    }
   ],
   "source": [
    "@make_plan\n",
    "def train(dl=dummy_dl,\n",
    "          model=local_model\n",
    "         ):\n",
    "    remote_torch = ROOT_CLIENT.torch\n",
    "    optimizer = remote_torch.optim.SGD(model.parameters(), lr=1e-1, momentum=0)\n",
    "    criterion = remote_torch.nn.CrossEntropyLoss()\n",
    "    \n",
    "    for xy in dl:\n",
    "        x = xy[0]\n",
    "        y = xy[1]\n",
    "        out = model(x=x)\n",
    "        loss = criterion(out, y)\n",
    "        loss.backward()\n",
    "        optimizer.step()\n",
    "        \n",
    "    return loss, model"
   ]
  },
  {
   "cell_type": "markdown",
   "metadata": {},
   "source": [
    "# Run"
   ]
  },
  {
   "cell_type": "code",
   "execution_count": 8,
   "metadata": {
    "scrolled": false
   },
   "outputs": [],
   "source": [
    "remote_model = local_model.send(alice_client)\n",
    "dummy_dl_ptr = dummy_dl.send(alice_client)\n",
    "train_ptr = train.send(alice_client)"
   ]
  },
  {
   "cell_type": "code",
   "execution_count": 9,
   "metadata": {
    "scrolled": false
   },
   "outputs": [],
   "source": [
    "res_ptr = train_ptr(dl=dummy_dl_ptr, model=remote_model)"
   ]
  },
  {
   "cell_type": "code",
   "execution_count": 10,
   "metadata": {},
   "outputs": [
    {
     "name": "stderr",
     "output_type": "stream",
     "text": [
      "/mnt/d/github/PySyft/src/syft/lib/torch/uppercase_tensor.py:30: UserWarning: The .grad attribute of a Tensor that is not a leaf Tensor is being accessed. Its .grad attribute won't be populated during autograd.backward(). If you indeed want the gradient for a non-leaf Tensor, use .retain_grad() on the non-leaf Tensor. If you access the non-leaf Tensor by mistake, make sure you access the leaf Tensor instead. See github.com/pytorch/pytorch/pull/30531 for more informations.\n",
      "  grad = getattr(obj, \"grad\", None)\n"
     ]
    }
   ],
   "source": [
    "res = res_ptr.get()\n",
    "loss = res[0]\n",
    "get_model = res[1]"
   ]
  },
  {
   "cell_type": "code",
   "execution_count": 11,
   "metadata": {},
   "outputs": [
    {
     "data": {
      "text/plain": [
       "tensor(0.8033, requires_grad=True)"
      ]
     },
     "execution_count": 11,
     "metadata": {},
     "output_type": "execute_result"
    }
   ],
   "source": [
    "loss = res[0]\n",
    "loss"
   ]
  },
  {
   "cell_type": "code",
   "execution_count": 12,
   "metadata": {},
   "outputs": [
    {
     "data": {
      "text/plain": [
       "__main__.MLP"
      ]
     },
     "execution_count": 12,
     "metadata": {},
     "output_type": "execute_result"
    }
   ],
   "source": [
    "get_model = res[1]\n",
    "type(get_model)"
   ]
  },
  {
   "cell_type": "code",
   "execution_count": 13,
   "metadata": {},
   "outputs": [
    {
     "data": {
      "text/plain": [
       "[Parameter containing:\n",
       " tensor([[ 0.1649, -0.4974,  0.3292, -0.3353],\n",
       "         [-0.4181,  0.3504, -0.1989, -0.4969],\n",
       "         [-0.4332,  0.2956,  0.1563,  0.1294],\n",
       "         [-0.4273,  0.2099, -0.3497,  0.1874]], requires_grad=True),\n",
       " Parameter containing:\n",
       " tensor([ 0.1494,  0.4016, -0.4857, -0.2483], requires_grad=True),\n",
       " Parameter containing:\n",
       " tensor([[ 3.5335e-01,  1.7262e-04, -3.9988e-01, -4.9935e-01],\n",
       "         [-2.6603e-01, -2.1481e-02, -1.9673e-01, -2.2271e-01]],\n",
       "        requires_grad=True),\n",
       " Parameter containing:\n",
       " tensor([ 0.0615, -0.2713], requires_grad=True)]"
      ]
     },
     "execution_count": 13,
     "metadata": {},
     "output_type": "execute_result"
    }
   ],
   "source": [
    "list(local_model.parameters())"
   ]
  },
  {
   "cell_type": "code",
   "execution_count": 14,
   "metadata": {},
   "outputs": [
    {
     "data": {
      "text/plain": [
       "[Parameter containing:\n",
       " tensor([[ 0.1680, -0.4955,  0.3247, -0.3386],\n",
       "         [-0.4180,  0.3501, -0.1990, -0.4971],\n",
       "         [-0.4332,  0.2956,  0.1563,  0.1294],\n",
       "         [-0.4273,  0.2099, -0.3497,  0.1874]], requires_grad=True),\n",
       " Parameter containing:\n",
       " tensor([ 0.1465,  0.4011, -0.4857, -0.2483], requires_grad=True),\n",
       " Parameter containing:\n",
       " tensor([[ 0.3514, -0.0055, -0.3999, -0.4993],\n",
       "         [-0.2641, -0.0158, -0.1967, -0.2227]], requires_grad=True),\n",
       " Parameter containing:\n",
       " tensor([ 0.0277, -0.2374], requires_grad=True)]"
      ]
     },
     "execution_count": 14,
     "metadata": {},
     "output_type": "execute_result"
    }
   ],
   "source": [
    "list(get_model.parameters())"
   ]
  }
 ],
 "metadata": {
  "kernelspec": {
   "display_name": "Python 3",
   "language": "python",
   "name": "python3"
  },
  "language_info": {
   "codemirror_mode": {
    "name": "ipython",
    "version": 3
   },
   "file_extension": ".py",
   "mimetype": "text/x-python",
   "name": "python",
   "nbconvert_exporter": "python",
   "pygments_lexer": "ipython3",
   "version": "3.8.8"
  },
  "toc": {
   "base_numbering": 1,
   "nav_menu": {},
   "number_sections": true,
   "sideBar": true,
   "skip_h1_title": false,
   "title_cell": "Table of Contents",
   "title_sidebar": "Contents",
   "toc_cell": false,
   "toc_position": {},
   "toc_section_display": true,
   "toc_window_display": true
  }
 },
 "nbformat": 4,
 "nbformat_minor": 5
}

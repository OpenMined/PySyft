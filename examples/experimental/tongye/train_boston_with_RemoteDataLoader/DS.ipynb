{
 "cells": [
  {
   "cell_type": "markdown",
   "metadata": {},
   "source": [
    "## Run DO.ipynb until Checkpoint#1"
   ]
  },
  {
   "cell_type": "code",
   "execution_count": null,
   "metadata": {},
   "outputs": [],
   "source": [
    "import syft as sy\n",
    "import torch\n",
    "from syft.core.remote_dataloader import RemoteDataset\n",
    "from syft.core.remote_dataloader import RemoteDataLoader"
   ]
  },
  {
   "cell_type": "code",
   "execution_count": null,
   "metadata": {},
   "outputs": [],
   "source": [
    "duet = sy.join_duet(loopback=True)"
   ]
  },
  {
   "cell_type": "markdown",
   "metadata": {},
   "source": [
    "## Checkpoint#1"
   ]
  },
  {
   "cell_type": "markdown",
   "metadata": {},
   "source": [
    "## Run DO.ipynb until the end"
   ]
  },
  {
   "cell_type": "code",
   "execution_count": null,
   "metadata": {},
   "outputs": [],
   "source": [
    "meta_ptr = duet.store[\"meta\"]"
   ]
  },
  {
   "cell_type": "code",
   "execution_count": null,
   "metadata": {},
   "outputs": [],
   "source": [
    "duet.store.pandas"
   ]
  },
  {
   "cell_type": "code",
   "execution_count": null,
   "metadata": {},
   "outputs": [],
   "source": [
    "# create RemoteDataset object on remote side\n",
    "rds_ptr = duet.syft.core.remote_dataloader.RemoteDataset(meta_ptr)\n",
    "# create RemoteDataLoader object on remote side"
   ]
  },
  {
   "cell_type": "code",
   "execution_count": null,
   "metadata": {},
   "outputs": [],
   "source": [
    "rdl_ptr = duet.syft.core.remote_dataloader.RemoteDataLoader(rds_ptr, batch_size=32)\n",
    "# call create_dataset to create the real Dataset object on remote side\n",
    "rdl_ptr.load_dataset()\n",
    "# call create_dataloader to create the real DataLoader object on remote side\n",
    "rdl_ptr.create_dataloader()"
   ]
  },
  {
   "cell_type": "code",
   "execution_count": null,
   "metadata": {},
   "outputs": [],
   "source": [
    "class Model(sy.Module):\n",
    "    def __init__(self, torch_ref):\n",
    "        super(Model, self).__init__(torch_ref=torch_ref)   \n",
    "        \n",
    "        self.layer = self.torch_ref.nn.Linear(13, 1)\n",
    "\n",
    "    def forward(self, x):\n",
    "        output = self.layer(x)\n",
    "        return output\n",
    "\n",
    "local_model = Model(torch)\n",
    "remote_model = local_model.send(duet)"
   ]
  },
  {
   "cell_type": "code",
   "execution_count": null,
   "metadata": {},
   "outputs": [],
   "source": [
    "# you can use rdl_ptr very similar to a normal DataLoader object\n",
    "for epoch in range(2):\n",
    "    epoch_loss = 0\n",
    "    for i,b in enumerate(rdl_ptr):\n",
    "        optimizer = duet.torch.optim.Adam(params=remote_model.parameters(),lr=1e-2)\n",
    "        optimizer.zero_grad()    \n",
    "        X, y = b[0], b[1]\n",
    "        pred = remote_model(X)    \n",
    "        loss = ((pred.view(-1) - y)**2).mean()\n",
    "        loss.backward()\n",
    "        optimizer.step()\n",
    "        gotloss = loss.get(request_block=True,delete_obj= False, timeout_secs=2)\n",
    "        print(\"[epoch#{}-iter#{:2}] : loss={:.2f}\".format(epoch, i, gotloss))"
   ]
  },
  {
   "cell_type": "code",
   "execution_count": null,
   "metadata": {},
   "outputs": [],
   "source": []
  }
 ],
 "metadata": {
  "kernelspec": {
   "display_name": "Python 3",
   "language": "python",
   "name": "python3"
  },
  "language_info": {
   "codemirror_mode": {
    "name": "ipython",
    "version": 3
   },
   "file_extension": ".py",
   "mimetype": "text/x-python",
   "name": "python",
   "nbconvert_exporter": "python",
   "pygments_lexer": "ipython3",
   "version": "3.9.2"
  }
 },
 "nbformat": 4,
 "nbformat_minor": 4
}

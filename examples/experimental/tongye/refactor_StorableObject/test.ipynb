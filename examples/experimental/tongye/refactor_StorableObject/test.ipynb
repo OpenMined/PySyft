{
 "cells": [
  {
   "cell_type": "code",
   "execution_count": 1,
   "metadata": {},
   "outputs": [],
   "source": [
    "import syft as sy"
   ]
  },
  {
   "cell_type": "code",
   "execution_count": 2,
   "metadata": {},
   "outputs": [],
   "source": [
    "from syft.core.store.storeable_object import StorableObject"
   ]
  },
  {
   "cell_type": "code",
   "execution_count": 3,
   "metadata": {},
   "outputs": [],
   "source": [
    "from syft.core.common import UID"
   ]
  },
  {
   "cell_type": "code",
   "execution_count": 4,
   "metadata": {},
   "outputs": [],
   "source": [
    "import torch"
   ]
  },
  {
   "cell_type": "markdown",
   "metadata": {
    "heading_collapsed": true
   },
   "source": [
    "# test functions"
   ]
  },
  {
   "cell_type": "code",
   "execution_count": 5,
   "metadata": {
    "code_folding": [],
    "hidden": true
   },
   "outputs": [],
   "source": [
    "from syft.core.common.serde.serialize import _serialize\n",
    "from syft.core.common.serde.deserialize import _deserialize\n",
    "def serde(data, via_proto=True):\n",
    "    to_proto = True if via_proto else False\n",
    "    to_bytes = not to_proto\n",
    "    from_proto = to_proto\n",
    "    from_bytes = to_bytes\n",
    "    \n",
    "    data_serde = _deserialize(\n",
    "#         blob=_serialize(\n",
    "#             obj=data,\n",
    "#             to_proto=to_proto,\n",
    "#             to_bytes=to_bytes\n",
    "#         ),\n",
    "        blob = data.serialize(\n",
    "            to_proto=to_proto,\n",
    "            to_bytes=to_bytes\n",
    "        ),\n",
    "        from_proto=from_proto,\n",
    "        from_bytes=from_bytes\n",
    "    )\n",
    "    \n",
    "    return data_serde"
   ]
  },
  {
   "cell_type": "code",
   "execution_count": 6,
   "metadata": {
    "code_folding": [
     1
    ],
    "hidden": true
   },
   "outputs": [],
   "source": [
    "import math\n",
    "def assert_eq(obj_1, obj_2):\n",
    "    if isinstance(obj_1, torch.Tensor):\n",
    "        assert (obj_1==obj_2).any()\n",
    "    elif isinstance(obj_1, sy.lib.python.Float):\n",
    "        assert math.isclose(obj_1, obj_2, rel_tol=1e-6)\n",
    "    else:\n",
    "        assert obj_1==obj_2        "
   ]
  },
  {
   "cell_type": "code",
   "execution_count": 7,
   "metadata": {
    "code_folding": [],
    "hidden": true
   },
   "outputs": [],
   "source": [
    "def test_serde(data, via_proto=True):\n",
    "    data_serde = serde(data, via_proto=via_proto)\n",
    "    assert_eq(data_serde, data)"
   ]
  },
  {
   "cell_type": "code",
   "execution_count": 8,
   "metadata": {
    "code_folding": [],
    "hidden": true
   },
   "outputs": [],
   "source": [
    "def test_StorableObject_data(data, via_proto=True):\n",
    "    storable = StorableObject(id=UID(), data=data)\n",
    "    storable_serde = serde(storable, via_proto=via_proto)\n",
    "    assert_eq(storable_serde.data, data)"
   ]
  },
  {
   "cell_type": "code",
   "execution_count": 9,
   "metadata": {
    "code_folding": [],
    "hidden": true
   },
   "outputs": [],
   "source": [
    "remote = sy.VirtualMachine().get_root_client()\n",
    "def test_send_get(data, remote=remote):\n",
    "    tags = [\"tag#\"]\n",
    "    description = \"test description\"\n",
    "    ptr = data.send(remote, tags=tags, description=description, searchable=True)\n",
    "    assert remote.store[-1].tags==ptr.tags==tags\n",
    "    assert remote.store[-1].description==ptr.description==description\n",
    "    assert remote.store[-1].id_at_location==ptr.id_at_location\n",
    "    assert_eq(ptr.get(), data)"
   ]
  },
  {
   "cell_type": "code",
   "execution_count": 10,
   "metadata": {
    "code_folding": [],
    "hidden": true
   },
   "outputs": [],
   "source": [
    "def test(data):\n",
    "    test_serde(data, via_proto=True)\n",
    "    test_serde(data, via_proto=False)\n",
    "    \n",
    "    test_StorableObject_data(data, via_proto=True)\n",
    "    test_StorableObject_data(data, via_proto=False)\n",
    "    \n",
    "    test_send_get(data)"
   ]
  },
  {
   "cell_type": "markdown",
   "metadata": {},
   "source": [
    "# primitives"
   ]
  },
  {
   "cell_type": "markdown",
   "metadata": {},
   "source": [
    "## namedtuple"
   ]
  },
  {
   "cell_type": "code",
   "execution_count": 11,
   "metadata": {},
   "outputs": [],
   "source": [
    "from syft.lib.python.namedtuple import ValuesIndices\n",
    "\n",
    "def test_torch_valuesindices_serde() -> None:\n",
    "    x = torch.Tensor([[1, 2], [1, 2]])\n",
    "    y = x.mode()\n",
    "    values = y.values\n",
    "    indices = y.indices\n",
    "#     import pdb; pdb.set_trace()\n",
    "\n",
    "    ser = y.serialize()\n",
    "    # horrible hack, we shouldnt be constructing these right now anyway\n",
    "    params = [None] * 17\n",
    "    params[0] = values\n",
    "    params[1] = indices\n",
    "    vi = ValuesIndices(*params)\n",
    "    de = _deserialize(blob=ser)\n",
    "\n",
    "    assert (de.values == y.values).all()\n",
    "    assert (de.indices == y.indices).all()\n",
    "    assert (vi.values == de.values).all()\n",
    "    assert (vi.indices == de.indices).all()"
   ]
  },
  {
   "cell_type": "code",
   "execution_count": 12,
   "metadata": {
    "scrolled": false
   },
   "outputs": [],
   "source": [
    "test_torch_valuesindices_serde()"
   ]
  },
  {
   "cell_type": "markdown",
   "metadata": {
    "heading_collapsed": true
   },
   "source": [
    "## Int"
   ]
  },
  {
   "cell_type": "code",
   "execution_count": 13,
   "metadata": {
    "hidden": true
   },
   "outputs": [],
   "source": [
    "data = sy.lib.python.Int(77)\n",
    "test(data)"
   ]
  },
  {
   "cell_type": "markdown",
   "metadata": {
    "heading_collapsed": true
   },
   "source": [
    "## String"
   ]
  },
  {
   "cell_type": "code",
   "execution_count": 14,
   "metadata": {
    "hidden": true
   },
   "outputs": [],
   "source": [
    "data = sy.lib.python.String(\"Hello world\")\n",
    "test(data)"
   ]
  },
  {
   "cell_type": "markdown",
   "metadata": {
    "heading_collapsed": true
   },
   "source": [
    "## Dict"
   ]
  },
  {
   "cell_type": "code",
   "execution_count": 15,
   "metadata": {
    "hidden": true
   },
   "outputs": [],
   "source": [
    "data = sy.lib.python.Dict({\n",
    "    \"a\": 1,\n",
    "    \"b\": 2\n",
    "})\n",
    "test(data)"
   ]
  },
  {
   "cell_type": "markdown",
   "metadata": {
    "heading_collapsed": true
   },
   "source": [
    "## Bool"
   ]
  },
  {
   "cell_type": "code",
   "execution_count": 16,
   "metadata": {
    "hidden": true
   },
   "outputs": [],
   "source": [
    "data = sy.lib.python.Bool(True)\n",
    "test(data)"
   ]
  },
  {
   "cell_type": "markdown",
   "metadata": {},
   "source": [
    "## Float"
   ]
  },
  {
   "cell_type": "code",
   "execution_count": 17,
   "metadata": {},
   "outputs": [],
   "source": [
    "data = sy.lib.python.Float(1.1)\n",
    "test(data)"
   ]
  },
  {
   "cell_type": "markdown",
   "metadata": {},
   "source": [
    "## List"
   ]
  },
  {
   "cell_type": "code",
   "execution_count": 18,
   "metadata": {
    "scrolled": false
   },
   "outputs": [],
   "source": [
    "data = sy.lib.python.List([1,2,3])\n",
    "test(data)"
   ]
  },
  {
   "cell_type": "markdown",
   "metadata": {},
   "source": [
    "## OrderedDict"
   ]
  },
  {
   "cell_type": "code",
   "execution_count": 19,
   "metadata": {},
   "outputs": [],
   "source": [
    "data = sy.lib.python.collections.OrderedDict({\n",
    "    \"a\":1,\n",
    "    \"b\":2\n",
    "})\n",
    "test(data)"
   ]
  },
  {
   "cell_type": "markdown",
   "metadata": {
    "heading_collapsed": true
   },
   "source": [
    "# torch"
   ]
  },
  {
   "cell_type": "code",
   "execution_count": 20,
   "metadata": {
    "hidden": true
   },
   "outputs": [],
   "source": [
    "# !pytest ../../../../tests/syft/lib/torch/"
   ]
  },
  {
   "cell_type": "markdown",
   "metadata": {
    "hidden": true
   },
   "source": [
    "## torch.device"
   ]
  },
  {
   "cell_type": "code",
   "execution_count": 21,
   "metadata": {
    "hidden": true,
    "scrolled": false
   },
   "outputs": [],
   "source": [
    "data = torch.device('cpu')\n",
    "test(data)"
   ]
  },
  {
   "cell_type": "markdown",
   "metadata": {
    "hidden": true
   },
   "source": [
    "## torch.Tensor"
   ]
  },
  {
   "cell_type": "code",
   "execution_count": 22,
   "metadata": {
    "hidden": true,
    "scrolled": false
   },
   "outputs": [],
   "source": [
    "data = torch.rand((2,3))\n",
    "test(data)"
   ]
  },
  {
   "cell_type": "markdown",
   "metadata": {
    "hidden": true
   },
   "source": [
    "## torch.nn.parameter.Parameter"
   ]
  },
  {
   "cell_type": "code",
   "execution_count": 23,
   "metadata": {
    "hidden": true
   },
   "outputs": [],
   "source": [
    "data = torch.nn.parameter.Parameter(torch.tensor([1.0, 2, 3]), requires_grad=True)\n",
    "data.grad = torch.randn_like(data)\n",
    "test(data)"
   ]
  },
  {
   "cell_type": "markdown",
   "metadata": {},
   "source": [
    "# PSI"
   ]
  },
  {
   "cell_type": "code",
   "execution_count": 24,
   "metadata": {},
   "outputs": [],
   "source": [
    "# !pytest ../../../../tests/syft/lib/psi/psi_test.py"
   ]
  }
 ],
 "metadata": {
  "kernelspec": {
   "display_name": "Python 3",
   "language": "python",
   "name": "python3"
  },
  "language_info": {
   "codemirror_mode": {
    "name": "ipython",
    "version": 3
   },
   "file_extension": ".py",
   "mimetype": "text/x-python",
   "name": "python",
   "nbconvert_exporter": "python",
   "pygments_lexer": "ipython3",
   "version": "3.8.5"
  }
 },
 "nbformat": 4,
 "nbformat_minor": 4
}

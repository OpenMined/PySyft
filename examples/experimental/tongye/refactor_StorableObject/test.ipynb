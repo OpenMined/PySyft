{
 "cells": [
  {
   "cell_type": "code",
   "execution_count": 1,
   "metadata": {},
   "outputs": [],
   "source": [
    "import syft as sy"
   ]
  },
  {
   "cell_type": "code",
   "execution_count": 2,
   "metadata": {},
   "outputs": [],
   "source": [
    "from syft.core.store.storeable_object import StorableObject"
   ]
  },
  {
   "cell_type": "code",
   "execution_count": 3,
   "metadata": {},
   "outputs": [],
   "source": [
    "from syft.core.common import UID"
   ]
  },
  {
   "cell_type": "code",
   "execution_count": 4,
   "metadata": {},
   "outputs": [],
   "source": [
    "import torch"
   ]
  },
  {
   "cell_type": "markdown",
   "metadata": {},
   "source": [
    "# test functions"
   ]
  },
  {
   "cell_type": "code",
   "execution_count": 5,
   "metadata": {
    "code_folding": [
     2
    ]
   },
   "outputs": [],
   "source": [
    "from syft.core.common.serde.serialize import _serialize\n",
    "from syft.core.common.serde.deserialize import _deserialize\n",
    "def serde(data, via_proto=True):\n",
    "    to_proto = True if via_proto else False\n",
    "    to_bytes = not to_proto\n",
    "    from_proto = to_proto\n",
    "    from_bytes = to_bytes\n",
    "    \n",
    "    data_serde = _deserialize(\n",
    "        blob=_serialize(\n",
    "            obj=data,\n",
    "            to_proto=to_proto,\n",
    "            to_bytes=to_bytes\n",
    "        ),\n",
    "        from_proto=from_proto,\n",
    "        from_bytes=from_bytes\n",
    "    )\n",
    "    \n",
    "    return data_serde"
   ]
  },
  {
   "cell_type": "code",
   "execution_count": 6,
   "metadata": {
    "code_folding": []
   },
   "outputs": [],
   "source": [
    "import math\n",
    "def assert_eq(obj_1, obj_2):\n",
    "    if isinstance(obj_1, torch.Tensor):\n",
    "        assert (obj_1==obj_2).any()\n",
    "    elif isinstance(obj_1, sy.lib.python.Float):\n",
    "        assert math.isclose(obj_1, obj_2, rel_tol=1e-6)\n",
    "    else:\n",
    "        assert obj_1==obj_2        "
   ]
  },
  {
   "cell_type": "code",
   "execution_count": 7,
   "metadata": {
    "code_folding": []
   },
   "outputs": [],
   "source": [
    "def test_serde(data, via_proto=True):\n",
    "    data_serde = serde(data, via_proto=via_proto)\n",
    "    assert_eq(data_serde, data)"
   ]
  },
  {
   "cell_type": "code",
   "execution_count": 8,
   "metadata": {
    "code_folding": []
   },
   "outputs": [],
   "source": [
    "def test_StorableObject_data(data, via_proto=True):\n",
    "    storable = StorableObject(id=UID(), data=data)\n",
    "    storable_serde = serde(storable, via_proto=via_proto)\n",
    "    assert_eq(storable_serde.data, data)"
   ]
  },
  {
   "cell_type": "code",
   "execution_count": 9,
   "metadata": {
    "code_folding": []
   },
   "outputs": [],
   "source": [
    "remote = sy.VirtualMachine().get_root_client()\n",
    "def test_send_get(data, remote=remote):\n",
    "    tags = [\"tag#\"]\n",
    "    description = \"test description\"\n",
    "    ptr = data.send(remote, tags=tags, description=description, searchable=True)\n",
    "    assert remote.store[-1].tags==ptr.tags==tags\n",
    "    assert remote.store[-1].description==ptr.description==description\n",
    "    assert remote.store[-1].id_at_location==ptr.id_at_location\n",
    "    assert_eq(ptr.get(), data)"
   ]
  },
  {
   "cell_type": "code",
   "execution_count": 10,
   "metadata": {
    "code_folding": []
   },
   "outputs": [],
   "source": [
    "def test(data):\n",
    "    test_serde(data, via_proto=True)\n",
    "    test_serde(data, via_proto=False)\n",
    "    \n",
    "    test_StorableObject_data(data, via_proto=True)\n",
    "    test_StorableObject_data(data, via_proto=False)\n",
    "    \n",
    "    test_send_get(data)"
   ]
  },
  {
   "cell_type": "markdown",
   "metadata": {},
   "source": [
    "# Int"
   ]
  },
  {
   "cell_type": "code",
   "execution_count": 11,
   "metadata": {},
   "outputs": [],
   "source": [
    "data = sy.lib.python.Int(77)\n",
    "test(data)"
   ]
  },
  {
   "cell_type": "markdown",
   "metadata": {},
   "source": [
    "# torch.device"
   ]
  },
  {
   "cell_type": "code",
   "execution_count": 12,
   "metadata": {
    "scrolled": false
   },
   "outputs": [],
   "source": [
    "data = torch.device('cpu')\n",
    "test(data)"
   ]
  },
  {
   "cell_type": "markdown",
   "metadata": {},
   "source": [
    "# String"
   ]
  },
  {
   "cell_type": "code",
   "execution_count": 13,
   "metadata": {},
   "outputs": [],
   "source": [
    "data = sy.lib.python.String(\"Hello world\")\n",
    "test(data)"
   ]
  },
  {
   "cell_type": "markdown",
   "metadata": {},
   "source": [
    "# Dict"
   ]
  },
  {
   "cell_type": "code",
   "execution_count": 14,
   "metadata": {},
   "outputs": [],
   "source": [
    "data = sy.lib.python.Dict({\n",
    "    \"a\": 1,\n",
    "    \"b\": 2\n",
    "})\n",
    "test(data)"
   ]
  },
  {
   "cell_type": "markdown",
   "metadata": {},
   "source": [
    "# Tensor"
   ]
  },
  {
   "cell_type": "code",
   "execution_count": 15,
   "metadata": {
    "scrolled": false
   },
   "outputs": [],
   "source": [
    "data = torch.rand((2,3))\n",
    "test(data)"
   ]
  },
  {
   "cell_type": "markdown",
   "metadata": {},
   "source": [
    "# Bool"
   ]
  },
  {
   "cell_type": "code",
   "execution_count": 16,
   "metadata": {},
   "outputs": [],
   "source": [
    "data = sy.lib.python.Bool(True)\n",
    "test(data)"
   ]
  },
  {
   "cell_type": "markdown",
   "metadata": {},
   "source": [
    "# Float"
   ]
  },
  {
   "cell_type": "code",
   "execution_count": 17,
   "metadata": {},
   "outputs": [],
   "source": [
    "data = sy.lib.python.Float(1.1)\n",
    "test(data)"
   ]
  },
  {
   "cell_type": "markdown",
   "metadata": {},
   "source": [
    "# PSI"
   ]
  },
  {
   "cell_type": "code",
   "execution_count": 45,
   "metadata": {},
   "outputs": [
    {
     "name": "stdout",
     "output_type": "stream",
     "text": [
      "\u001b[1m============================= test session starts ==============================\u001b[0m\n",
      "platform linux -- Python 3.8.5, pytest-6.1.2, py-1.9.0, pluggy-0.13.1 -- /mnt/d/ubuntu/anaconda3/envs/pysyft_dev/bin/python\n",
      "cachedir: .pytest_cache\n",
      "benchmark: 3.2.3 (defaults: timer=time.perf_counter disable_gc=False min_rounds=5 min_time=0.000005 max_time=1.0 calibration_precision=10 warmup=False warmup_iterations=100000)\n",
      "rootdir: /mnt/d/github/PySyft, configfile: setup.cfg\n",
      "plugins: asyncio-0.14.0, benchmark-3.2.3, cov-2.10.1, forked-1.3.0, xdist-2.1.0, typeguard-2.10.0\n",
      "collected 4 items                                                              \u001b[0m\n",
      "\n",
      "../../../../tests/syft/lib/psi/psi_test.py::test_psi[True-True] \u001b[32mPASSED\u001b[0m\u001b[32m   [ 25%]\u001b[0m\n",
      "../../../../tests/syft/lib/psi/psi_test.py::test_psi[True-False] \u001b[32mPASSED\u001b[0m\u001b[32m  [ 50%]\u001b[0m\n",
      "../../../../tests/syft/lib/psi/psi_test.py::test_psi[False-True] \u001b[32mPASSED\u001b[0m\u001b[32m  [ 75%]\u001b[0m\n",
      "../../../../tests/syft/lib/psi/psi_test.py::test_psi[False-False] \u001b[32mPASSED\u001b[0m\u001b[32m [100%]\u001b[0m\n",
      "\n",
      "----------- coverage: platform linux, python 3.8.5-final-0 -----------\n",
      "Name                                                                                                          Stmts   Miss  Cover   Missing\n",
      "-------------------------------------------------------------------------------------------------------------------------------------------\n",
      "/mnt/d/github/PySyft/src/syft/__init__.py                                                                        36      2    94%   92-93\n",
      "/mnt/d/github/PySyft/src/syft/ast/__init__.py                                                                    39      1    97%   85\n",
      "/mnt/d/github/PySyft/src/syft/ast/attribute.py                                                                   56     11    80%   75, 101, 129-135, 169, 181-182, 207\n",
      "/mnt/d/github/PySyft/src/syft/ast/callable.py                                                                    41     17    59%   67-110, 139\n",
      "/mnt/d/github/PySyft/src/syft/ast/enum.py                                                                        30     16    47%   35-36, 50-78, 87-95, 104, 115\n",
      "/mnt/d/github/PySyft/src/syft/ast/globals.py                                                                     33      5    85%   30-39, 56\n",
      "/mnt/d/github/PySyft/src/syft/ast/klass.py                                                                      230     76    67%   54-84, 97-127, 133, 141, 148-164, 171, 180-185, 195, 339-340, 343-346, 357, 407-414, 424-431, 438, 441-443, 446-452, 455-463, 469-471, 484-502\n",
      "/mnt/d/github/PySyft/src/syft/ast/module.py                                                                      87     32    63%   22-28, 58, 63, 80-97, 100-104, 115, 154-173, 178, 185, 194\n",
      "/mnt/d/github/PySyft/src/syft/ast/property.py                                                                    13      1    92%   35\n",
      "/mnt/d/github/PySyft/src/syft/ast/static_attr.py                                                                 52     32    38%   32-33, 40-67, 70-73, 76-79, 82-106, 111, 114\n",
      "/mnt/d/github/PySyft/src/syft/ast/util.py                                                                         9      1    89%   27\n",
      "/mnt/d/github/PySyft/src/syft/core/__init__.py                                                                    0      0   100%\n",
      "/mnt/d/github/PySyft/src/syft/core/common/__init__.py                                                             4      0   100%\n",
      "/mnt/d/github/PySyft/src/syft/core/common/environment.py                                                          8      0   100%\n",
      "/mnt/d/github/PySyft/src/syft/core/common/event_loop.py                                                          61     29    52%   52-53, 60-72, 75-85, 88, 102-109\n",
      "/mnt/d/github/PySyft/src/syft/core/common/group.py                                                               51     14    73%   23-29, 32, 36, 40, 44, 53-56, 84-87\n",
      "/mnt/d/github/PySyft/src/syft/core/common/message.py                                                            113     19    83%   150-151, 157-160, 172-204, 208, 254\n",
      "/mnt/d/github/PySyft/src/syft/core/common/object.py                                                              40      8    80%   81-84, 105, 123, 140, 160\n",
      "/mnt/d/github/PySyft/src/syft/core/common/pointer.py                                                             17      2    88%   20, 23\n",
      "/mnt/d/github/PySyft/src/syft/core/common/serde/__init__.py                                                       3      0   100%\n",
      "/mnt/d/github/PySyft/src/syft/core/common/serde/deserialize.py                                                   24      3    88%   61-62, 74\n",
      "/mnt/d/github/PySyft/src/syft/core/common/serde/serializable.py                                                  71     11    85%   94, 103, 107, 125, 140, 159, 170, 179, 197, 206, 252\n",
      "/mnt/d/github/PySyft/src/syft/core/common/serde/serialize.py                                                     18      4    78%   48-51, 63\n",
      "/mnt/d/github/PySyft/src/syft/core/common/storeable_object.py                                                    15      4    73%   13, 17-18, 22\n",
      "/mnt/d/github/PySyft/src/syft/core/common/uid.py                                                                 74      8    89%   77-81, 122-123, 167\n",
      "/mnt/d/github/PySyft/src/syft/core/io/__init__.py                                                                 0      0   100%\n",
      "/mnt/d/github/PySyft/src/syft/core/io/address.py                                                                163     49    70%   26, 85, 87, 89, 120, 219-220, 224-227, 246-247, 251-254, 272-273, 277-280, 307, 323-330, 342-350, 353-364\n",
      "/mnt/d/github/PySyft/src/syft/core/io/connection.py                                                              72     23    68%   17, 22, 27, 33, 39, 45, 49, 53, 57, 62, 68, 73, 78, 82, 86, 90, 95, 101, 107, 113, 117, 121, 125\n",
      "/mnt/d/github/PySyft/src/syft/core/io/location/__init__.py                                                        6      0   100%\n",
      "/mnt/d/github/PySyft/src/syft/core/io/location/group/__init__.py                                                  0      0   100%\n",
      "/mnt/d/github/PySyft/src/syft/core/io/location/group/group.py                                                     5      1    80%   19\n",
      "/mnt/d/github/PySyft/src/syft/core/io/location/group/registry.py                                                  7      2    71%   21-22\n",
      "/mnt/d/github/PySyft/src/syft/core/io/location/group/subscription.py                                              7      2    71%   11-12\n",
      "/mnt/d/github/PySyft/src/syft/core/io/location/location.py                                                       29      5    83%   28, 38, 56, 71, 90\n",
      "/mnt/d/github/PySyft/src/syft/core/io/location/specific.py                                                       30      3    90%   29, 33-34\n",
      "/mnt/d/github/PySyft/src/syft/core/io/route.py                                                                   62      9    85%   142, 147, 152, 173, 182, 189-191, 198, 207\n",
      "/mnt/d/github/PySyft/src/syft/core/io/virtual.py                                                                 63      9    86%   50, 54, 58-59, 65, 89, 93, 97, 103\n",
      "/mnt/d/github/PySyft/src/syft/core/node/__init__.py                                                               0      0   100%\n",
      "/mnt/d/github/PySyft/src/syft/core/node/abstract/__init__.py                                                      0      0   100%\n",
      "/mnt/d/github/PySyft/src/syft/core/node/abstract/node.py                                                         58     11    81%   59, 64, 69, 74, 79, 83-95, 107, 110\n",
      "/mnt/d/github/PySyft/src/syft/core/node/common/__init__.py                                                        0      0   100%\n",
      "/mnt/d/github/PySyft/src/syft/core/node/common/action/__init__.py                                                 0      0   100%\n",
      "/mnt/d/github/PySyft/src/syft/core/node/common/action/common.py                                                  19      4    79%   21, 28, 35, 44\n",
      "/mnt/d/github/PySyft/src/syft/core/node/common/action/exception_action.py                                        38     15    61%   36-39, 59-65, 89-93, 119\n",
      "/mnt/d/github/PySyft/src/syft/core/node/common/action/function_or_constructor_action.py                          70     40    43%   53-58, 69-73, 76-141, 159, 185, 212\n",
      "/mnt/d/github/PySyft/src/syft/core/node/common/action/garbage_collect_object_action.py                           34     13    62%   25-26, 29-32, 40-43, 54-57, 64\n",
      "/mnt/d/github/PySyft/src/syft/core/node/common/action/get_enum_attribute_action.py                               36     12    67%   32-34, 39, 42-53, 69, 89, 110\n",
      "/mnt/d/github/PySyft/src/syft/core/node/common/action/get_object_action.py                                       75     10    87%   145-151, 158-162, 176-180, 188-189\n",
      "/mnt/d/github/PySyft/src/syft/core/node/common/action/get_or_set_property_action.py                              83     49    41%   49-56, 61, 64-127, 142, 167, 192\n",
      "/mnt/d/github/PySyft/src/syft/core/node/common/action/get_or_set_static_attribute_action.py                      63     34    46%   41-45, 50, 53-90, 107-117, 138, 163\n",
      "/mnt/d/github/PySyft/src/syft/core/node/common/action/run_class_method_action.py                                101     69    32%   55-63, 73-75, 79, 82-191, 210, 235, 263\n",
      "/mnt/d/github/PySyft/src/syft/core/node/common/action/save_object_action.py                                      37      0   100%\n",
      "/mnt/d/github/PySyft/src/syft/core/node/common/client.py                                                        232     82    65%   79, 85, 98, 100, 102, 116-117, 138-139, 142, 147-163, 169-211, 216, 240-243, 247, 276-286, 290, 294, 298, 302-329, 333-365, 369, 373-380, 405, 413, 419-426, 429, 433-443\n",
      "/mnt/d/github/PySyft/src/syft/core/node/common/metadata.py                                                       26      9    65%   24-30, 48, 67, 91\n",
      "/mnt/d/github/PySyft/src/syft/core/node/common/node.py                                                          240     67    72%   125-131, 243, 249, 265, 294, 301, 305, 309-331, 335, 353-375, 403-429, 452, 468-469, 473-481, 491-505, 509-510, 581-582\n",
      "/mnt/d/github/PySyft/src/syft/core/node/common/service/__init__.py                                                0      0   100%\n",
      "/mnt/d/github/PySyft/src/syft/core/node/common/service/auth.py                                                   39     25    36%   31-86\n",
      "/mnt/d/github/PySyft/src/syft/core/node/common/service/child_node_lifecycle_service.py                           65     28    57%   36-38, 42-43, 52-61, 65, 71, 79-122\n",
      "/mnt/d/github/PySyft/src/syft/core/node/common/service/heritage_update_service.py                                59     27    54%   41-42, 46, 54, 62, 72-99\n",
      "/mnt/d/github/PySyft/src/syft/core/node/common/service/msg_forwarding_service.py                                 76     48    37%   26-61, 68, 81-117, 124\n",
      "/mnt/d/github/PySyft/src/syft/core/node/common/service/node_service.py                                           80     16    80%   23, 27, 31, 35, 44, 54, 63, 68, 77, 82, 91, 96, 105, 110, 117, 122\n",
      "/mnt/d/github/PySyft/src/syft/core/node/common/service/obj_action_service.py                                     39      1    97%   40\n",
      "/mnt/d/github/PySyft/src/syft/core/node/common/service/obj_search_permission_service.py                          48     15    69%   43-47, 65, 92, 120, 131-145\n",
      "/mnt/d/github/PySyft/src/syft/core/node/common/service/obj_search_service.py                                     68      2    97%   219-220\n",
      "/mnt/d/github/PySyft/src/syft/core/node/common/service/repr_service.py                                           37      5    86%   35, 54, 74, 97, 104\n",
      "/mnt/d/github/PySyft/src/syft/core/node/device/__init__.py                                                        3      0   100%\n",
      "/mnt/d/github/PySyft/src/syft/core/node/device/client.py                                                         30      6    80%   37-48, 75, 83, 94, 99\n",
      "/mnt/d/github/PySyft/src/syft/core/node/device/device.py                                                         44     12    73%   49-66, 70, 74, 78-82\n",
      "/mnt/d/github/PySyft/src/syft/core/node/device/device_type/__init__.py                                            0      0   100%\n",
      "/mnt/d/github/PySyft/src/syft/core/node/device/device_type/device_type.py                                        20      0   100%\n",
      "/mnt/d/github/PySyft/src/syft/core/node/device/device_type/specs/__init__.py                                      0      0   100%\n",
      "/mnt/d/github/PySyft/src/syft/core/node/device/device_type/specs/cpu.py                                          10      0   100%\n",
      "/mnt/d/github/PySyft/src/syft/core/node/device/device_type/specs/gpu.py                                           8      0   100%\n",
      "/mnt/d/github/PySyft/src/syft/core/node/device/device_type/specs/network.py                                       5      0   100%\n",
      "/mnt/d/github/PySyft/src/syft/core/node/device/device_type/specs/provider.py                                      7      0   100%\n",
      "/mnt/d/github/PySyft/src/syft/core/node/device/device_type/specs/storage.py                                      23      5    78%   25-28, 32\n",
      "/mnt/d/github/PySyft/src/syft/core/node/device/device_type/unknown.py                                            10      0   100%\n",
      "/mnt/d/github/PySyft/src/syft/core/node/domain/__init__.py                                                        3      0   100%\n",
      "/mnt/d/github/PySyft/src/syft/core/node/domain/client.py                                                        156    102    35%   26-27, 32-47, 50-54, 57-69, 72, 76-86, 97-107, 110-112, 115-117, 129-150, 154-161, 166, 171-180, 189-207, 210, 214-232, 251-263, 267, 275, 286, 296, 307, 312-313, 316-321\n",
      "/mnt/d/github/PySyft/src/syft/core/node/domain/domain.py                                                        224    159    29%   64-100, 104, 108, 114-120, 126-136, 141-159, 163-181, 184-192, 195-197, 200-202, 207-217, 223-285, 289-299, 303-326, 331-347\n",
      "/mnt/d/github/PySyft/src/syft/core/node/domain/service/__init__.py                                                6      0   100%\n",
      "/mnt/d/github/PySyft/src/syft/core/node/domain/service/accept_or_deny_request_service.py                         55     25    55%   41-45, 63, 87, 112, 120-152, 156\n",
      "/mnt/d/github/PySyft/src/syft/core/node/domain/service/get_all_requests_service.py                               55     17    69%   31, 49, 70, 94, 104-105, 123, 146, 170, 177, 185-196\n",
      "/mnt/d/github/PySyft/src/syft/core/node/domain/service/request_answer_message.py                                 64     24    62%   31-32, 36-40, 45, 53, 61-63, 67-71, 76-81, 86, 93, 100-102\n",
      "/mnt/d/github/PySyft/src/syft/core/node/domain/service/request_handler_service.py                               115     54    53%   45-47, 66, 90, 115, 122, 140, 163, 187, 197-198, 218-223, 245-250, 274, 281, 288-325, 332, 340-347\n",
      "/mnt/d/github/PySyft/src/syft/core/node/domain/service/request_message.py                                       126     69    45%   57-71, 74, 77, 80, 83, 87-117, 120, 123, 127, 132-133, 137-152, 157-169, 174, 181, 188-222\n",
      "/mnt/d/github/PySyft/src/syft/core/node/network/__init__.py                                                       3      0   100%\n",
      "/mnt/d/github/PySyft/src/syft/core/node/network/client.py                                                        43     10    77%   37-48, 52, 60, 71, 83, 94, 106, 117, 123\n",
      "/mnt/d/github/PySyft/src/syft/core/node/network/network.py                                                       38     11    71%   42-56, 60, 64, 68-72\n",
      "/mnt/d/github/PySyft/src/syft/core/node/pki/__init__.py                                                           0      0   100%\n",
      "/mnt/d/github/PySyft/src/syft/core/node/vm/__init__.py                                                            6      0   100%\n",
      "/mnt/d/github/PySyft/src/syft/core/node/vm/client.py                                                             24      1    96%   55\n",
      "/mnt/d/github/PySyft/src/syft/core/node/vm/vm.py                                                                 43      4    91%   72-74, 78\n",
      "/mnt/d/github/PySyft/src/syft/core/pointer/__init__.py                                                            1      0   100%\n",
      "/mnt/d/github/PySyft/src/syft/core/pointer/pointer.py                                                           132     67    49%   179, 182, 185-186, 203, 231-243, 360-445, 449, 453-454, 469-476, 492-499, 509-514\n",
      "/mnt/d/github/PySyft/src/syft/core/store/__init__.py                                                              4      0   100%\n",
      "/mnt/d/github/PySyft/src/syft/core/store/store_disk.py                                                           87     47    46%   25-31, 35-39, 43-49, 52-54, 58-64, 68, 72, 76, 80-81, 85-90, 94, 98-105, 109, 113\n"
     ]
    },
    {
     "name": "stdout",
     "output_type": "stream",
     "text": [
      "/mnt/d/github/PySyft/src/syft/core/store/store_interface.py                                                      77     17    78%   30, 40, 50, 60, 70, 83, 99, 114, 118, 137, 144, 148, 152, 156, 160, 164, 179\r\n",
      "/mnt/d/github/PySyft/src/syft/core/store/store_memory.py                                                         70     14    80%   46, 50, 54, 66, 72-74, 87-89, 93, 96, 100, 103\r\n",
      "/mnt/d/github/PySyft/src/syft/core/store/storeable_object.py                                                    150     30    80%   87, 155-158, 213, 225-228, 234, 238, 269, 277, 281-305, 309\r\n",
      "/mnt/d/github/PySyft/src/syft/decorators/__init__.py                                                              2      0   100%\r\n",
      "/mnt/d/github/PySyft/src/syft/decorators/syft_decorator_impl.py                                                  27      2    93%   42-43\r\n",
      "/mnt/d/github/PySyft/src/syft/decorators/typecheck.py                                                            42      5    88%   12-15, 86, 97, 109\r\n",
      "/mnt/d/github/PySyft/src/syft/grid/__init__.py                                                                    0      0   100%\r\n",
      "/mnt/d/github/PySyft/src/syft/grid/connections/__init__.py                                                        0      0   100%\r\n",
      "/mnt/d/github/PySyft/src/syft/grid/connections/http_connection.py                                                33     12    64%   17, 35-39, 54, 68, 83-91, 101-104\r\n",
      "/mnt/d/github/PySyft/src/syft/grid/connections/webrtc.py                                                        235    176    25%   130-161, 173-221, 235-263, 270-303, 310-357, 360-369, 372-376, 380-418, 431-442, 451-461, 470-474, 486-490, 499-504, 513-517, 529-559, 565-573\r\n",
      "/mnt/d/github/PySyft/src/syft/grid/duet/__init__.py                                                             134    103    23%   27-28, 54-61, 66-145, 155-160, 172-229, 238-294\r\n",
      "/mnt/d/github/PySyft/src/syft/grid/duet/bcolors.py                                                                9      0   100%\r\n",
      "/mnt/d/github/PySyft/src/syft/grid/duet/exchange_ids.py                                                         115     85    26%   22-23, 26-27, 30, 35-40, 44-80, 84-98, 115-117, 120-124, 127-168, 171-202\r\n",
      "/mnt/d/github/PySyft/src/syft/grid/duet/om_signaling_client.py                                                    7      2    71%   14-17\r\n",
      "/mnt/d/github/PySyft/src/syft/grid/duet/signaling_client.py                                                      34     14    59%   19-46, 50, 54-59, 63, 67, 71\r\n",
      "/mnt/d/github/PySyft/src/syft/grid/duet/webrtc_duet.py                                                          118     84    29%   63-163, 167-181, 184, 189-204, 208-255, 261-288, 294-315, 322-329, 337-343\r\n",
      "/mnt/d/github/PySyft/src/syft/grid/services/__init__.py                                                           0      0   100%\r\n",
      "/mnt/d/github/PySyft/src/syft/grid/services/signaling_service.py                                                198     69    65%   65-67, 85, 108, 135, 148-150, 168, 191, 218, 229, 247, 268, 293, 304-305, 323, 346, 371, 385-389, 407, 431, 459, 473-477, 496, 520, 547, 557, 575, 597, 620, 630, 648, 670, 693, 703, 721, 743, 766, 777-779, 783, 794-799, 803, 827-858, 862\r\n",
      "/mnt/d/github/PySyft/src/syft/lib/__init__.py                                                                    63     17    73%   29-35, 44-52, 81-84\r\n",
      "/mnt/d/github/PySyft/src/syft/lib/misc/__init__.py                                                               64      4    94%   98-102\r\n",
      "/mnt/d/github/PySyft/src/syft/lib/misc/union.py                                                                  30      1    97%   52\r\n",
      "/mnt/d/github/PySyft/src/syft/lib/opacus/__init__.py                                                             27     27     0%   2-63\r\n",
      "/mnt/d/github/PySyft/src/syft/lib/openmined_psi/__init__.py                                                      31      0   100%\r\n",
      "/mnt/d/github/PySyft/src/syft/lib/pydp/__init__.py                                                               37     37     0%   2-355\r\n",
      "/mnt/d/github/PySyft/src/syft/lib/python/__init__.py                                                             41      0   100%\r\n",
      "/mnt/d/github/PySyft/src/syft/lib/python/bool.py                                                                245     91    63%   25, 54, 58, 62-63, 67-68, 76, 80-82, 91, 95, 99-100, 104-105, 109-110, 114, 118, 121, 125-126, 130-131, 135-136, 140-141, 145-146, 150-151, 155, 159-160, 164, 168-169, 173-174, 178-179, 183, 187-190, 194-195, 201-202, 206-207, 211-212, 216-217, 221, 225-226, 230-231, 235-236, 240-241, 245-246, 250-251, 255, 259-260, 264-265, 269, 273-274, 278-279, 283, 287, 291, 296, 300, 304, 327-330\r\n",
      "/mnt/d/github/PySyft/src/syft/lib/python/collections/__init__.py                                                  1      0   100%\r\n",
      "/mnt/d/github/PySyft/src/syft/lib/python/collections/ordered_dict.py                                            150     67    55%   29-30, 41, 45-46, 50-51, 55-56, 60-61, 65-66, 70-71, 76, 80-81, 85-86, 90-91, 96-97, 101-102, 106-107, 111-112, 116-117, 121-122, 126-127, 131-132, 136-137, 141-142, 146-147, 151-166, 171-188, 192, 197-203, 206-208, 212, 216, 220, 229-232\r\n",
      "/mnt/d/github/PySyft/src/syft/lib/python/complex.py                                                             135     59    56%   28-36, 40-41, 52, 56, 60-61, 65-66, 70-71, 75-76, 80-81, 85-86, 90-91, 95-96, 100-101, 105-106, 110-111, 115-116, 120-121, 125-126, 139-140, 144-145, 150, 154, 159, 167, 172-178, 181-183, 187, 191, 195, 204-207\r\n",
      "/mnt/d/github/PySyft/src/syft/lib/python/ctype.py                                                                47      5    89%   55-58, 61\r\n",
      "/mnt/d/github/PySyft/src/syft/lib/python/dict.py                                                                173     53    69%   45, 50, 56-58, 70, 93, 97-98, 102-103, 108-109, 113-114, 118-123, 127-128, 132-133, 141-142, 151-152, 156-157, 161-162, 166-167, 174-175, 179-180, 184, 195-199, 203-204, 208-209, 213-215, 221-222, 276-279\r\n",
      "/mnt/d/github/PySyft/src/syft/lib/python/float.py                                                               199     67    66%   28, 34, 53, 62-63, 67-68, 77-78, 82-83, 92-93, 97-98, 102-103, 112-113, 117-118, 122-123, 127-128, 132-133, 137-138, 142-143, 147-148, 152-153, 157-158, 162-163, 167-168, 172-173, 177-178, 182-183, 187-188, 192, 196, 200, 206, 212, 218, 224, 230, 236, 242, 246, 250, 254, 258, 283-286\r\n",
      "/mnt/d/github/PySyft/src/syft/lib/python/int.py                                                                 286    117    59%   29, 32, 39, 58, 62-63, 67-68, 72-73, 77-78, 82, 86-87, 91-92, 96-97, 101-102, 106-107, 111-112, 116-117, 121-122, 126-127, 136-137, 141-142, 146-147, 151-152, 156-157, 161-162, 166-167, 171-172, 176-177, 181-182, 186-187, 191-192, 196-197, 201-202, 206-207, 211-212, 216-217, 221-222, 226-227, 231-232, 236-237, 241-242, 246-247, 251-252, 256, 262, 268, 274, 280, 286, 292, 298-299, 303, 308, 312, 337-338, 342-343, 347-348, 353-354, 358-359, 363-364, 368-369, 373-374, 383-390, 399-402\r\n",
      "/mnt/d/github/PySyft/src/syft/lib/python/iterator.py                                                             73     17    77%   29, 33-38, 50, 64-66, 71-72, 81-94, 97, 106\r\n",
      "/mnt/d/github/PySyft/src/syft/lib/python/list.py                                                                161     71    56%   38-44, 55, 59, 63-64, 68-69, 73-74, 78-79, 83-84, 88-89, 93-94, 98-99, 103-104, 108-109, 113-114, 118-119, 123-124, 130-131, 135-136, 140-145, 149, 153-155, 159-160, 164-165, 169-172, 177-181, 185, 190-196, 199-201, 205, 209, 213, 222-225\r\n",
      "/mnt/d/github/PySyft/src/syft/lib/python/namedtuple.py                                                          185     95    49%   58-71, 74-89, 93-101, 105-161, 165-171, 181-189, 193, 202-219, 302\r\n",
      "/mnt/d/github/PySyft/src/syft/lib/python/none.py                                                                 61     13    79%   44, 48-55, 59-60, 89-92\r\n",
      "/mnt/d/github/PySyft/src/syft/lib/python/primitive_container.py                                                  40     12    70%   12, 16, 20, 24, 28, 32, 36, 40, 44, 48, 52, 56\r\n",
      "/mnt/d/github/PySyft/src/syft/lib/python/primitive_factory.py                                                    71     29    59%   66, 78, 90, 93, 96, 99-114, 117-141, 144\r\n",
      "/mnt/d/github/PySyft/src/syft/lib/python/primitive_interface.py                                                   5      0   100%\r\n",
      "/mnt/d/github/PySyft/src/syft/lib/python/protobuf.py                                                             14      0   100%\r\n",
      "/mnt/d/github/PySyft/src/syft/lib/python/set.py                                                                 192     89    54%   26-28, 39, 43-44, 48-49, 53-54, 58-59, 63-64, 68-69, 73-74, 78-79, 83-84, 88-89, 93-94, 98-99, 103-104, 108-109, 113-114, 118-119, 123-124, 128-129, 133-134, 138-139, 143-144, 148-149, 153-154, 158-159, 163-164, 168-169, 173-174, 178-179, 183-184, 188-189, 193-194, 198-199, 203-206, 211-215, 219, 224-230, 233-235, 239, 243, 247, 256-259\r\n",
      "/mnt/d/github/PySyft/src/syft/lib/python/string.py                                                              321    158    51%   30-35, 39, 43-44, 48-49, 53-54, 58-59, 63-64, 68-69, 73-74, 78-79, 84-85, 89-90, 94-95, 99-100, 104-107, 111-112, 116-117, 122, 126-127, 131, 135-136, 140-141, 147-149, 155-156, 160-161, 170-177, 181-182, 188-192, 196-197, 201-202, 211-214, 218-219, 223-224, 228-229, 233-234, 238-239, 243-244, 248-249, 253-254, 258-259, 263-264, 268-269, 273-274, 278-281, 285-287, 291-292, 296-298, 302-304, 313-314, 323-325, 334-336, 340-342, 346-348, 354-356, 360-362, 368-370, 374-375, 384-391, 395-397, 401-402, 406-407, 411-412, 416-417, 421-422, 426-427, 438, 442, 447-448, 457, 466-469\r\n",
      "/mnt/d/github/PySyft/src/syft/lib/python/tuple.py                                                               123     44    64%   34, 45, 49, 53, 57, 61, 65, 69, 73, 77, 81, 85, 89, 93, 97, 101-106, 110, 116, 120, 125-129, 133-136, 140, 145-151, 154-156, 160, 164, 168, 177-180\r\n",
      "/mnt/d/github/PySyft/src/syft/lib/python/util.py                                                                 36     15    58%   31-41, 47, 56-66\r\n",
      "/mnt/d/github/PySyft/src/syft/lib/sympc/__init__.py                                                              29     29     0%   2-108\r\n",
      "/mnt/d/github/PySyft/src/syft/lib/sympc/session.py                                                               34     34     0%   2-58\r\n",
      "/mnt/d/github/PySyft/src/syft/lib/sympc/session_util.py                                                          30     30     0%   2-53\r\n",
      "/mnt/d/github/PySyft/src/syft/lib/sympc/share.py                                                                 48     48     0%   2-80\r\n",
      "/mnt/d/github/PySyft/src/syft/lib/tenseal/__init__.py                                                            33     33     0%   2-175\r\n",
      "/mnt/d/github/PySyft/src/syft/lib/tenseal/bfv_vector.py                                                          40     40     0%   2-66\r\n",
      "/mnt/d/github/PySyft/src/syft/lib/tenseal/ckks_tensor.py                                                         40     40     0%   2-66\r\n",
      "/mnt/d/github/PySyft/src/syft/lib/tenseal/ckks_vector.py                                                         40     40     0%   2-66\r\n",
      "/mnt/d/github/PySyft/src/syft/lib/tenseal/context.py                                                             81     81     0%   2-141\r\n",
      "/mnt/d/github/PySyft/src/syft/lib/tenseal/plain_tensor.py                                                        40     40     0%   2-66\r\n",
      "/mnt/d/github/PySyft/src/syft/lib/torch/__init__.py                                                              43      4    91%   36, 40, 55, 67\r\n",
      "/mnt/d/github/PySyft/src/syft/lib/torch/allowlist.py                                                           1982      0   100%\r\n",
      "/mnt/d/github/PySyft/src/syft/lib/torch/device.py                                                                15      8    47%   13-17, 21-24\r\n",
      "/mnt/d/github/PySyft/src/syft/lib/torch/module.py                                                               243    202    17%   34-73, 84, 88-101, 107-112, 115-120, 123-126, 129, 134, 138-141, 145-159, 162-164, 167-169, 172-211, 214-227, 230-235, 238-242, 245-282, 291-358, 362-366, 370-381\r\n",
      "/mnt/d/github/PySyft/src/syft/lib/torch/parameter.py                                                             53     27    49%   25-31, 34-47, 51-59, 63, 67, 76-79\r\n",
      "/mnt/d/github/PySyft/src/syft/lib/torch/tensor_util.py                                                           26     20    23%   31-47, 52-65\r\n",
      "/mnt/d/github/PySyft/src/syft/lib/torch/uppercase_tensor.py                                                      39     22    44%   24-40, 44-64\r\n",
      "/mnt/d/github/PySyft/src/syft/lib/torchvision/__init__.py                                                        30      3    90%   22, 29, 47\r\n",
      "/mnt/d/github/PySyft/src/syft/lib/torchvision/allowlist.py                                                       10      0   100%\r\n",
      "/mnt/d/github/PySyft/src/syft/lib/util.py                                                                        61     31    49%   33, 57-73, 92-94, 111, 132-157, 162\r\n",
      "/mnt/d/github/PySyft/src/syft/logger.py                                                                          53     18    66%   52-59, 67-68, 72-74, 80, 84, 88, 92, 96, 104\r\n",
      "/mnt/d/github/PySyft/src/syft/proto/core/auth/signed_message_pb2.py                                              24      0   100%\r\n",
      "/mnt/d/github/PySyft/src/syft/proto/core/common/common_object_pb2.py                                             23      0   100%\r\n",
      "/mnt/d/github/PySyft/src/syft/proto/core/io/address_pb2.py                                                       17      0   100%\r\n",
      "/mnt/d/github/PySyft/src/syft/proto/core/io/connection_pb2.py                                                    19      0   100%\r\n",
      "/mnt/d/github/PySyft/src/syft/proto/core/io/location_pb2.py                                                      14      0   100%\r\n",
      "/mnt/d/github/PySyft/src/syft/proto/core/io/route_pb2.py                                                         16      0   100%\r\n",
      "/mnt/d/github/PySyft/src/syft/proto/core/node/common/action/exception_action_pb2.py                              17      0   100%\r\n",
      "/mnt/d/github/PySyft/src/syft/proto/core/node/common/action/garbage_collect_object_pb2.py                        16      0   100%\r\n",
      "/mnt/d/github/PySyft/src/syft/proto/core/node/common/action/get_enum_attribute_pb2.py                            18      0   100%\r\n",
      "/mnt/d/github/PySyft/src/syft/proto/core/node/common/action/get_object_pb2.py                                    26      0   100%\r\n",
      "/mnt/d/github/PySyft/src/syft/proto/core/node/common/action/get_set_property_pb2.py                              27      0   100%\r\n",
      "/mnt/d/github/PySyft/src/syft/proto/core/node/common/action/get_set_static_attribute_pb2.py                      19      0   100%\r\n",
      "/mnt/d/github/PySyft/src/syft/proto/core/node/common/action/run_class_method_pb2.py                              26      0   100%\r\n",
      "/mnt/d/github/PySyft/src/syft/proto/core/node/common/action/run_function_or_constructor_pb2.py                   25      0   100%\r\n",
      "/mnt/d/github/PySyft/src/syft/proto/core/node/common/action/save_object_pb2.py                                   17      0   100%\r\n",
      "/mnt/d/github/PySyft/src/syft/proto/core/node/common/client_pb2.py                                               21      0   100%\r\n",
      "/mnt/d/github/PySyft/src/syft/proto/core/node/common/metadata_pb2.py                                             17      0   100%\r\n",
      "/mnt/d/github/PySyft/src/syft/proto/core/node/common/service/child_node_lifecycle_service_pb2.py                 18      0   100%\r\n",
      "/mnt/d/github/PySyft/src/syft/proto/core/node/common/service/heritage_update_service_pb2.py                      17      0   100%\r\n",
      "/mnt/d/github/PySyft/src/syft/proto/core/node/common/service/object_search_message_pb2.py                        25      0   100%\r\n",
      "/mnt/d/github/PySyft/src/syft/proto/core/node/common/service/object_search_permission_update_message_pb2.py      17      0   100%\r\n",
      "/mnt/d/github/PySyft/src/syft/proto/core/node/common/service/repr_service_pb2.py                                 16      0   100%\r\n",
      "/mnt/d/github/PySyft/src/syft/proto/core/node/domain/service/accept_or_deny_request_message_pb2.py               17      0   100%\r\n",
      "/mnt/d/github/PySyft/src/syft/proto/core/node/domain/service/get_all_requests_message_pb2.py                     25      0   100%\r\n",
      "/mnt/d/github/PySyft/src/syft/proto/core/node/domain/service/request_answer_message_pb2.py                       17      0   100%\r\n",
      "/mnt/d/github/PySyft/src/syft/proto/core/node/domain/service/request_answer_response_pb2.py                      16      0   100%\r\n",
      "/mnt/d/github/PySyft/src/syft/proto/core/node/domain/service/request_handler_message_pb2.py                      32      0   100%\r\n",
      "/mnt/d/github/PySyft/src/syft/proto/core/node/domain/service/request_message_pb2.py                              18      0   100%\r\n",
      "/mnt/d/github/PySyft/src/syft/proto/core/pointer/pointer_pb2.py                                                  16      0   100%\r\n",
      "/mnt/d/github/PySyft/src/syft/proto/core/store/store_object_pb2.py                                               57      0   100%\r\n",
      "/mnt/d/github/PySyft/src/syft/proto/grid/service/signaling_service_pb2.py                                        70      0   100%\r\n",
      "/mnt/d/github/PySyft/src/syft/proto/lib/python/bool_pb2.py                                                       14      0   100%\r\n",
      "/mnt/d/github/PySyft/src/syft/proto/lib/python/collections/ordered_dict_pb2.py                                   14      0   100%\r\n",
      "/mnt/d/github/PySyft/src/syft/proto/lib/python/complex_pb2.py                                                    14      0   100%\r\n",
      "/mnt/d/github/PySyft/src/syft/proto/lib/python/dict_pb2.py                                                       15      0   100%\r\n",
      "/mnt/d/github/PySyft/src/syft/proto/lib/python/float_pb2.py                                                      14      0   100%\r\n",
      "/mnt/d/github/PySyft/src/syft/proto/lib/python/int_pb2.py                                                        14      0   100%\r\n",
      "/mnt/d/github/PySyft/src/syft/proto/lib/python/list_pb2.py                                                       16      0   100%\r\n",
      "/mnt/d/github/PySyft/src/syft/proto/lib/python/none_pb2.py                                                       14      0   100%\r\n",
      "/mnt/d/github/PySyft/src/syft/proto/lib/python/set_pb2.py                                                        16      0   100%\r\n",
      "/mnt/d/github/PySyft/src/syft/proto/lib/python/string_pb2.py                                                     14      0   100%\r\n",
      "/mnt/d/github/PySyft/src/syft/proto/lib/python/tuple_pb2.py                                                      16      0   100%\r\n",
      "/mnt/d/github/PySyft/src/syft/proto/lib/torch/device_pb2.py                                                      12      0   100%\r\n",
      "/mnt/d/github/PySyft/src/syft/proto/lib/torch/parameter_pb2.py                                                   16      0   100%\r\n",
      "/mnt/d/github/PySyft/src/syft/proto/lib/torch/tensor_pb2.py                                                      20      0   100%\r\n",
      "/mnt/d/github/PySyft/src/syft/proto/lib/torch/valuesindices_pb2.py                                               16      0   100%\r\n",
      "/mnt/d/github/PySyft/src/syft/proto/util/data_message_pb2.py                                                     12      0   100%\r\n",
      "/mnt/d/github/PySyft/src/syft/util.py                                                                            82     14    83%   116-117, 135-142, 146-149, 159-161\r\n",
      "-------------------------------------------------------------------------------------------------------------------------------------------\r\n",
      "TOTAL                                                                                                         12591   4059    68%\r\n",
      "\r\n",
      "\u001b[31m\u001b[1mFAIL Required test coverage of 80% not reached. Total coverage: 67.76%\r\n",
      "\u001b[0m\r\n",
      "\u001b[32m============================== \u001b[32m\u001b[1m4 passed\u001b[0m\u001b[32m in 7.42s\u001b[0m\u001b[32m ===============================\u001b[0m\r\n"
     ]
    }
   ],
   "source": [
    "!pytest ../../../../tests/syft/lib/psi/psi_test.py"
   ]
  }
 ],
 "metadata": {
  "kernelspec": {
   "display_name": "Python 3",
   "language": "python",
   "name": "python3"
  },
  "language_info": {
   "codemirror_mode": {
    "name": "ipython",
    "version": 3
   },
   "file_extension": ".py",
   "mimetype": "text/x-python",
   "name": "python",
   "nbconvert_exporter": "python",
   "pygments_lexer": "ipython3",
   "version": "3.8.5"
  }
 },
 "nbformat": 4,
 "nbformat_minor": 4
}

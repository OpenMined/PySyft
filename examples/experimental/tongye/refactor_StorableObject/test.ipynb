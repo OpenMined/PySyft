{
 "cells": [
  {
   "cell_type": "code",
   "execution_count": 1,
   "metadata": {},
   "outputs": [],
   "source": [
    "import syft as sy"
   ]
  },
  {
   "cell_type": "code",
   "execution_count": 2,
   "metadata": {},
   "outputs": [],
   "source": [
    "from syft.core.store.storeable_object import StorableObject"
   ]
  },
  {
   "cell_type": "code",
   "execution_count": 3,
   "metadata": {},
   "outputs": [],
   "source": [
    "from syft.core.common import UID"
   ]
  },
  {
   "cell_type": "code",
   "execution_count": 4,
   "metadata": {},
   "outputs": [],
   "source": [
    "import torch"
   ]
  },
  {
   "cell_type": "markdown",
   "metadata": {
    "heading_collapsed": true
   },
   "source": [
    "# test functions"
   ]
  },
  {
   "cell_type": "code",
   "execution_count": 5,
   "metadata": {
    "code_folding": [
     2
    ],
    "hidden": true
   },
   "outputs": [],
   "source": [
    "from syft.core.common.serde.serialize import _serialize\n",
    "from syft.core.common.serde.deserialize import _deserialize\n",
    "def serde(data, via_proto=True):\n",
    "    to_proto = True if via_proto else False\n",
    "    to_bytes = not to_proto\n",
    "    from_proto = to_proto\n",
    "    from_bytes = to_bytes\n",
    "    \n",
    "    data_serde = _deserialize(\n",
    "        blob=_serialize(\n",
    "            obj=data,\n",
    "            to_proto=to_proto,\n",
    "            to_bytes=to_bytes\n",
    "        ),\n",
    "        from_proto=from_proto,\n",
    "        from_bytes=from_bytes\n",
    "    )\n",
    "    \n",
    "    return data_serde"
   ]
  },
  {
   "cell_type": "code",
   "execution_count": 6,
   "metadata": {
    "code_folding": [
     0
    ],
    "hidden": true
   },
   "outputs": [],
   "source": [
    "def test_serde(data, via_proto=True):\n",
    "    data_serde = serde(data, via_proto=via_proto)\n",
    "    assert data_serde==data"
   ]
  },
  {
   "cell_type": "code",
   "execution_count": 7,
   "metadata": {
    "code_folding": [
     0
    ],
    "hidden": true
   },
   "outputs": [],
   "source": [
    "def test_StorableObject_data(data, via_proto=True):\n",
    "    storable = StorableObject(id=UID(), data=data)\n",
    "    storable_serde = serde(storable, via_proto=via_proto)\n",
    "    assert storable_serde.data==data"
   ]
  },
  {
   "cell_type": "code",
   "execution_count": 8,
   "metadata": {
    "code_folding": [],
    "hidden": true
   },
   "outputs": [],
   "source": [
    "remote = sy.VirtualMachine().get_root_client()\n",
    "def test_send_get(data, remote=remote):\n",
    "    tags = [\"tag#\"]\n",
    "    description = \"test description\"\n",
    "    ptr = data.send(remote, tags=tags, description=description, searchable=True)\n",
    "    assert remote.store[-1].tags==ptr.tags==tags\n",
    "    assert remote.store[-1].description==ptr.description==description\n",
    "    assert remote.store[-1].id_at_location==ptr.id_at_location\n",
    "    assert ptr.get()==data"
   ]
  },
  {
   "cell_type": "code",
   "execution_count": 9,
   "metadata": {
    "code_folding": [],
    "hidden": true
   },
   "outputs": [],
   "source": [
    "def test(data):\n",
    "    test_serde(data, via_proto=True)\n",
    "    test_serde(data, via_proto=False)\n",
    "    \n",
    "    test_StorableObject_data(data, via_proto=True)\n",
    "    test_StorableObject_data(data, via_proto=False)\n",
    "    \n",
    "    test_send_get(data)"
   ]
  },
  {
   "cell_type": "markdown",
   "metadata": {},
   "source": [
    "# Int"
   ]
  },
  {
   "cell_type": "code",
   "execution_count": 10,
   "metadata": {},
   "outputs": [],
   "source": [
    "data = sy.lib.python.Int(77)\n",
    "test(data)"
   ]
  },
  {
   "cell_type": "markdown",
   "metadata": {},
   "source": [
    "# torch.device"
   ]
  },
  {
   "cell_type": "code",
   "execution_count": 11,
   "metadata": {},
   "outputs": [],
   "source": [
    "data = torch.device('cpu')\n",
    "test(data)"
   ]
  },
  {
   "cell_type": "markdown",
   "metadata": {},
   "source": [
    "# String"
   ]
  },
  {
   "cell_type": "code",
   "execution_count": 12,
   "metadata": {},
   "outputs": [],
   "source": [
    "data = sy.lib.python.String(\"Hello world\")\n",
    "test(data)"
   ]
  },
  {
   "cell_type": "markdown",
   "metadata": {},
   "source": [
    "# Dict"
   ]
  },
  {
   "cell_type": "code",
   "execution_count": 13,
   "metadata": {},
   "outputs": [],
   "source": [
    "data = sy.lib.python.Dict({\n",
    "    \"a\": 1,\n",
    "    \"b\": 2\n",
    "})\n",
    "test(data)"
   ]
  }
 ],
 "metadata": {
  "kernelspec": {
   "display_name": "Python 3",
   "language": "python",
   "name": "python3"
  },
  "language_info": {
   "codemirror_mode": {
    "name": "ipython",
    "version": 3
   },
   "file_extension": ".py",
   "mimetype": "text/x-python",
   "name": "python",
   "nbconvert_exporter": "python",
   "pygments_lexer": "ipython3",
   "version": "3.8.5"
  }
 },
 "nbformat": 4,
 "nbformat_minor": 4
}

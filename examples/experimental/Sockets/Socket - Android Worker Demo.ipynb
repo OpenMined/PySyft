{
 "cells": [
  {
   "cell_type": "code",
   "execution_count": 1,
   "metadata": {},
   "outputs": [],
   "source": [
    "import socketio\n",
    "import torch as th\n",
    "from torch import nn\n",
    "import syft as sy\n",
    "import numpy as np\n",
    "import binascii"
   ]
  },
  {
   "cell_type": "code",
   "execution_count": 2,
   "metadata": {},
   "outputs": [],
   "source": [
    "import asyncio\n",
    "from syft.workers import BaseWorker\n",
    "\n",
    "class SioWorker(BaseWorker):\n",
    "    def __init__(self, *args, **kwargs):\n",
    "        super().__init__(*args, **kwargs)\n",
    "        self.sio = socketio.Client()\n",
    "        self.sio.connect('http://localhost:5000')\n",
    "\n",
    "    def _send_msg(self, message: bin, location: BaseWorker) -> bin:\n",
    "        return location._recv_msg(message)\n",
    "    \n",
    "    def _recv_msg(self, message: bin) -> bin:\n",
    "        self.sio.emit('message', message) # Block and wait for the response\n",
    "        return sy.serde.serialize(b'')\n"
   ]
  },
  {
   "cell_type": "code",
   "execution_count": 3,
   "metadata": {},
   "outputs": [],
   "source": [
    "hook = sy.TorchHook(th)"
   ]
  },
  {
   "cell_type": "code",
   "execution_count": 4,
   "metadata": {},
   "outputs": [],
   "source": [
    "# Use Numpy serialization strategy\n",
    "sy.serde._serialize_tensor = sy.serde.numpy_tensor_serializer\n",
    "sy.serde._deserialize_tensor = sy.serde.numpy_tensor_deserializer\n",
    "sy.serde._apply_compress_scheme = sy.serde.apply_no_compression"
   ]
  },
  {
   "cell_type": "code",
   "execution_count": 5,
   "metadata": {},
   "outputs": [],
   "source": [
    "phone = SioWorker(hook, id=\"phone\", verbose=True)"
   ]
  },
  {
   "cell_type": "code",
   "execution_count": 7,
   "metadata": {},
   "outputs": [],
   "source": [
    "x = th.tensor([10,20,30,40,50.])\n",
    "x_ptr = x.send(phone)"
   ]
  },
  {
   "cell_type": "code",
   "execution_count": 8,
   "metadata": {},
   "outputs": [],
   "source": [
    "y = th.tensor([20,20,20,20,20.])\n",
    "y_ptr = y.send(phone)"
   ]
  },
  {
   "cell_type": "code",
   "execution_count": 9,
   "metadata": {},
   "outputs": [],
   "source": [
    "z = x_ptr + y_ptr"
   ]
  },
  {
   "cell_type": "code",
   "execution_count": null,
   "metadata": {},
   "outputs": [],
   "source": [
    "print(z)\n",
    "print(z.get())"
   ]
  },
  {
   "cell_type": "code",
   "execution_count": null,
   "metadata": {},
   "outputs": [],
   "source": [
    "print(x_ptr.id_at_location)"
   ]
  },
  {
   "cell_type": "code",
   "execution_count": null,
   "metadata": {},
   "outputs": [],
   "source": [
    "server_id = None\n",
    "@sio.on('client_registered')\n",
    "def on_client_registered(args):\n",
    "    server_id = args"
   ]
  },
  {
   "cell_type": "code",
   "execution_count": null,
   "metadata": {},
   "outputs": [],
   "source": [
    "sio.connect('http://localhost:5000')"
   ]
  },
  {
   "cell_type": "code",
   "execution_count": null,
   "metadata": {},
   "outputs": [],
   "source": []
  },
  {
   "cell_type": "code",
   "execution_count": null,
   "metadata": {},
   "outputs": [],
   "source": [
    "# Use Numpy serialization strategy\n",
    "sy.serde._serialize_tensor = sy.serde.numpy_tensor_serializer\n",
    "sy.serde._deserialize_tensor = sy.serde.numpy_tensor_deserializer\n",
    "sy.serde._apply_compress_scheme = sy.serde.apply_no_compression"
   ]
  },
  {
   "cell_type": "code",
   "execution_count": null,
   "metadata": {},
   "outputs": [],
   "source": [
    "# Simple send of a message containing a tensor. This is not how PySyft wraps the message!\n",
    "# data = th.tensor([[0, 1.]], requires_grad=True)\n",
    "# bin_data = sy.serde.serialize(data)\n",
    "# sio.emit('message', bin_data)"
   ]
  },
  {
   "cell_type": "code",
   "execution_count": null,
   "metadata": {},
   "outputs": [],
   "source": [
    "# This is PySyft message when doing x.send(bob) except the owner stuff\n",
    "data = th.tensor([[0, 1.]], requires_grad=True)\n",
    "pysyft_message = (sy.codes.MSGTYPE.OBJ, data)\n",
    "bin_message = sy.serde.serialize(pysyft_message)\n",
    "print(bin_message)\n",
    "sio.emit('message', bin_message)"
   ]
  },
  {
   "cell_type": "code",
   "execution_count": null,
   "metadata": {},
   "outputs": [],
   "source": [
    "# We can now add two tensors in Android (pointers are coming soon)\n",
    "x = th.tensor([[0, 1.]])\n",
    "y = th.tensor([[1., 1.]])\n",
    "operation = (\"__add__\", (x, y))\n",
    "pysyft_message = (sy.codes.MSGTYPE.CMD, operation)\n",
    "bin_message = sy.serde.serialize(pysyft_message)\n",
    "print(bin_message)\n",
    "sio.emit('message', bin_message)"
   ]
  },
  {
   "cell_type": "code",
   "execution_count": null,
   "metadata": {},
   "outputs": [],
   "source": [
    "# Adding two pointers. I am faking here the worker to get the info we need\n",
    "bob = sy.VirtualWorker(hook, id=\"bob\")\n",
    "x = th.tensor([[0, 1.]])\n",
    "y = th.tensor([[1., 1.]])\n",
    "x_ptr = x.send(bob)\n",
    "y_ptr = y.send(bob)"
   ]
  },
  {
   "cell_type": "code",
   "execution_count": null,
   "metadata": {},
   "outputs": [],
   "source": [
    "z = x_ptr + y_ptr"
   ]
  },
  {
   "cell_type": "code",
   "execution_count": null,
   "metadata": {},
   "outputs": [],
   "source": [
    "# Send through the socket and let Android read it (but it was for Bob!!)\n"
   ]
  },
  {
   "cell_type": "code",
   "execution_count": null,
   "metadata": {},
   "outputs": [],
   "source": [
    "sio.disconnect()"
   ]
  },
  {
   "cell_type": "code",
   "execution_count": null,
   "metadata": {},
   "outputs": [],
   "source": []
  }
 ],
 "metadata": {
  "kernelspec": {
   "display_name": "Python [conda env:openmined2]",
   "language": "python",
   "name": "conda-env-openmined2-py"
  },
  "language_info": {
   "codemirror_mode": {
    "name": "ipython",
    "version": 3
   },
   "file_extension": ".py",
   "mimetype": "text/x-python",
   "name": "python",
   "nbconvert_exporter": "python",
   "pygments_lexer": "ipython3",
   "version": "3.7.2"
  }
 },
 "nbformat": 4,
 "nbformat_minor": 2
}

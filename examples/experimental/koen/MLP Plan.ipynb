{
 "cells": [
  {
   "cell_type": "code",
   "execution_count": 1,
   "id": "muslim-vertical",
   "metadata": {},
   "outputs": [],
   "source": [
    "%load_ext autoreload\n",
    "%autoreload 2"
   ]
  },
  {
   "cell_type": "code",
   "execution_count": 2,
   "id": "determined-address",
   "metadata": {},
   "outputs": [],
   "source": [
    "import syft as sy\n",
    "import numpy as np\n",
    "import torch as th\n",
    "from syft import VirtualMachine\n",
    "from pathlib import Path\n",
    "from torchvision import datasets, transforms\n",
    "from syft.core.plan.plan_builder import PLAN_BUILDER_VM, make_plan, build_plan_inputs, ROOT_CLIENT\n",
    "from syft.lib.python.list import List\n",
    "from matplotlib import pyplot as plt\n",
    "from syft import logger\n",
    "logger.remove()"
   ]
  },
  {
   "cell_type": "markdown",
   "id": "chronic-snake",
   "metadata": {},
   "source": [
    "# Dataset"
   ]
  },
  {
   "cell_type": "code",
   "execution_count": 3,
   "id": "removable-ranch",
   "metadata": {},
   "outputs": [],
   "source": [
    "mnist_path = Path.home() / \".pysyft\" / \"mnist\"\n",
    "mnist_path.mkdir(exist_ok=True, parents=True)"
   ]
  },
  {
   "cell_type": "code",
   "execution_count": 4,
   "id": "proof-gauge",
   "metadata": {},
   "outputs": [],
   "source": [
    "mnist_train = datasets.MNIST(str(mnist_path), train=True, download=True,\n",
    "               transform=transforms.Compose([transforms.ToTensor(), transforms.Normalize((0.1307,), (0.3081,))]))\n",
    "\n",
    "mnist_test = datasets.MNIST((mnist_path), train=False, \n",
    "              transform=transforms.Compose([transforms.ToTensor(), transforms.Normalize((0.1307,), (0.3081,))]))"
   ]
  },
  {
   "cell_type": "code",
   "execution_count": 5,
   "id": "received-forward",
   "metadata": {},
   "outputs": [],
   "source": [
    "train_loader = th.utils.data.DataLoader(mnist_train, batch_size=64*3, shuffle=True, pin_memory=True)\n",
    "test_loader = th.utils.data.DataLoader(mnist_test, batch_size=1024, shuffle=True, pin_memory=True)"
   ]
  },
  {
   "cell_type": "markdown",
   "id": "collective-making",
   "metadata": {},
   "source": [
    "# Define Plan"
   ]
  },
  {
   "cell_type": "markdown",
   "id": "sharing-deputy",
   "metadata": {},
   "source": [
    "obvious shortcommings:\n",
    "- slice is not in the AST, so we cannot do for xs[0:64]\n",
    "- nn.module is not serializable, so we cannot send it\n",
    "- we are using syft.lib.python.list.List to create a sendable list of model params"
   ]
  },
  {
   "cell_type": "code",
   "execution_count": 6,
   "id": "norman-israel",
   "metadata": {},
   "outputs": [],
   "source": [
    "class MLP(sy.Module):\n",
    "    def __init__(self, torch_ref):\n",
    "        super().__init__(torch_ref=torch_ref)\n",
    "        self.l1 = self.torch_ref.nn.Linear(784, 100)\n",
    "        self.a1 = self.torch_ref.nn.ReLU()\n",
    "        self.l2 = self.torch_ref.nn.Linear(100, 10)\n",
    "        \n",
    "    def forward(self, x):\n",
    "        x_reshaped = x.view(-1, 28 * 28)\n",
    "        l1_out = self.a1(self.l1(x_reshaped))\n",
    "        l2_out = self.l2(l1_out)\n",
    "        return l2_out"
   ]
  },
  {
   "cell_type": "code",
   "execution_count": 7,
   "id": "useful-assistant",
   "metadata": {},
   "outputs": [],
   "source": [
    "def set_params(model, params):\n",
    "    \"\"\"happens outside of plan\"\"\"\n",
    "    for p, p_new in zip(model.parameters(), params): p.data = p_new.data"
   ]
  },
  {
   "cell_type": "code",
   "execution_count": 8,
   "id": "virgin-captain",
   "metadata": {},
   "outputs": [],
   "source": [
    "def cross_entropy_loss(logits, targets, batch_size):\n",
    "    norm_logits = logits - logits.max()\n",
    "    log_probs = norm_logits - norm_logits.exp().sum(dim=1, keepdim=True).log()\n",
    "    return -(targets * log_probs).sum() / batch_size"
   ]
  },
  {
   "cell_type": "code",
   "execution_count": 9,
   "id": "related-necklace",
   "metadata": {},
   "outputs": [],
   "source": [
    "def sgd_step(model, lr=0.1):\n",
    "    with ROOT_CLIENT.torch.no_grad():\n",
    "        for p in model.parameters():\n",
    "            p.data = p.data - lr * p.grad            \n",
    "            p.grad = th.zeros_like(p.grad.get())"
   ]
  },
  {
   "cell_type": "code",
   "execution_count": 10,
   "id": "parental-financing",
   "metadata": {},
   "outputs": [],
   "source": [
    "local_model = MLP(th)"
   ]
  },
  {
   "cell_type": "code",
   "execution_count": 11,
   "id": "working-fourth",
   "metadata": {},
   "outputs": [],
   "source": [
    "@make_plan\n",
    "def train(xs = th.rand([64*3, 1, 28, 28]), ys = th.randint(0, 10, [64*3, 10]),\n",
    "          params = List(local_model.parameters()) ):\n",
    "    \n",
    "    model = local_model.send(ROOT_CLIENT)\n",
    "    set_params(model, params)\n",
    "    for i in range(1):\n",
    "        indices = th.tensor(range(64*i, 64*(i+1)))\n",
    "        x, y = xs.index_select(0, indices), ys.index_select(0, indices)\n",
    "        out = model(x)\n",
    "        loss = cross_entropy_loss(out, y, 64)\n",
    "        loss.backward()\n",
    "        sgd_step(model)\n",
    "        \n",
    "    return model.parameters()"
   ]
  },
  {
   "cell_type": "code",
   "execution_count": 15,
   "id": "minute-investing",
   "metadata": {},
   "outputs": [
    {
     "data": {
      "text/plain": [
       "Plan\n",
       "Allowed executions:\tnot defined\n",
       "Remaining executions:\tnot defined\n",
       "Inputs:\n",
       "\t\txs:\tTensorPointer\n",
       "\t\tys:\tTensorPointer\n",
       "\t\tparams:\tListPointer\n",
       "Actions:\n",
       "\t\t152 Actions\n",
       "Outputs:\n",
       "\t\tListPointer\n",
       "\n",
       "Plan code:\n",
       "\"\"\"\n",
       "@make_plan\n",
       "def train(xs = th.rand([64*3, 1, 28, 28]), ys = th.randint(0, 10, [64*3, 10]),\n",
       "          params = List(local_model.parameters()) ):\n",
       "    \n",
       "    model = local_model.send(ROOT_CLIENT)\n",
       "    set_params(model, params)\n",
       "    for i in range(1):\n",
       "        indices = th.tensor(range(64*i, 64*(i+1)))\n",
       "        x, y = xs.index_select(0, indices), ys.index_select(0, indices)\n",
       "        out = model(x)\n",
       "        loss = cross_entropy_loss(out, y, 64)\n",
       "        loss.backward()\n",
       "        sgd_step(model)\n",
       "        \n",
       "    return model.parameters()\n",
       "\n",
       "\"\"\""
      ]
     },
     "execution_count": 15,
     "metadata": {},
     "output_type": "execute_result"
    }
   ],
   "source": [
    "train"
   ]
  },
  {
   "cell_type": "code",
   "execution_count": 14,
   "id": "polar-montana",
   "metadata": {},
   "outputs": [
    {
     "data": {
      "text/plain": [
       "[RunClassMethodAction Module(, ),\n",
       " SaveObjectAction <Storable: 784>,\n",
       " SaveObjectAction <Storable: 100>,\n",
       " SaveObjectAction <Storable: True>,\n",
       " RunClassMethodAction Linear(, out_features=IntPointer,bias=BoolPointer,in_features=IntPointer),\n",
       " SaveObjectAction <Storable: 'l1'>,\n",
       " RunClassMethodAction ModulePointer.add_module(StringPointer,LinearPointer, ),\n",
       " SaveObjectAction <Storable: {'weight': tensor([[-0.0210, -0.0031, - ... 5, 0.0281,     0.0059, 0.0297, -0.0350, 0.0259])}>,\n",
       " RunClassMethodAction Dict(DictPointer, ),\n",
       " RunClassMethodAction LinearPointer.load_state_dict(DictPointer, )]"
      ]
     },
     "execution_count": 14,
     "metadata": {},
     "output_type": "execute_result"
    }
   ],
   "source": [
    "train.actions[:10]"
   ]
  },
  {
   "cell_type": "markdown",
   "id": "coordinated-fraction",
   "metadata": {},
   "source": [
    "# Run"
   ]
  },
  {
   "cell_type": "code",
   "execution_count": 25,
   "id": "institutional-baseline",
   "metadata": {},
   "outputs": [],
   "source": [
    "alice_client = VirtualMachine(name=\"alice\").get_client()\n",
    "train_ptr = train.send(alice_client)"
   ]
  },
  {
   "cell_type": "code",
   "execution_count": 15,
   "id": "institutional-reproduction",
   "metadata": {},
   "outputs": [],
   "source": [
    "def test(test_loader, model):\n",
    "    correct = []\n",
    "    model.eval()\n",
    "    for data, target in test_loader:\n",
    "        output = model(data)\n",
    "        _, pred = th.max(output, 1)\n",
    "        correct.append(th.sum(np.squeeze(pred.eq(target.data.view_as(pred)))))\n",
    "    acc = sum(correct) / len(test_loader.dataset)\n",
    "    return acc"
   ]
  },
  {
   "cell_type": "code",
   "execution_count": 16,
   "id": "crucial-sociology",
   "metadata": {},
   "outputs": [],
   "source": [
    "def show_predictions(test_loader, model, n=6):\n",
    "    xs, ys = next(iter(test_loader))\n",
    "    preds = model(xs).detach()\n",
    "    \n",
    "    fig, axs = plt.subplots(1, n, sharex='col', sharey='row', figsize=(16, 8))\n",
    "    for i in range(n):\n",
    "        ax = axs[i]\n",
    "        ax.set_xticks([]),ax.set_yticks([])\n",
    "        ax.set_xlabel(f\"prediction: {np.argmax(preds[i])}, actual: {ys[i]}\")\n",
    "        ax.imshow(xs[i].reshape((28, 28)))\n"
   ]
  },
  {
   "cell_type": "code",
   "execution_count": 17,
   "id": "sublime-rotation",
   "metadata": {},
   "outputs": [
    {
     "name": "stdout",
     "output_type": "stream",
     "text": [
      "accuracy: 0.07\n"
     ]
    },
    {
     "data": {
      "image/png": "[encoded data removed]",
      "text/plain": [
       "<Figure size 1152x576 with 6 Axes>"
      ]
     },
     "metadata": {},
     "output_type": "display_data"
    }
   ],
   "source": [
    "show_predictions(test_loader, local_model)\n",
    "print(f\"accuracy: {test(test_loader, local_model):.2F}\")"
   ]
  },
  {
   "cell_type": "markdown",
   "id": "modular-sense",
   "metadata": {},
   "source": [
    "## Train"
   ]
  },
  {
   "cell_type": "code",
   "execution_count": 18,
   "id": "incident-refund",
   "metadata": {},
   "outputs": [
    {
     "name": "stdout",
     "output_type": "stream",
     "text": [
      "Iter: 0 Test accuracy: 0.32\n",
      "Iter: 10 Test accuracy: 0.67\n",
      "Iter: 20 Test accuracy: 0.84\n",
      "Iter: 30 Test accuracy: 0.82\n",
      "Iter: 40 Test accuracy: 0.83\n",
      "Iter: 50 Test accuracy: 0.85\n",
      "Iter: 60 Test accuracy: 0.89\n",
      "Iter: 70 Test accuracy: 0.89\n",
      "Iter: 80 Test accuracy: 0.88\n",
      "Iter: 90 Test accuracy: 0.88\n",
      "Iter: 100 Test accuracy: 0.88\n"
     ]
    }
   ],
   "source": [
    "for i, (x, y) in enumerate(train_loader):\n",
    "    y = th.nn.functional.one_hot(y)\n",
    "    res_ptr  = train_ptr(xs=x,ys=y, params=local_model.parameters())\n",
    "    params, = res_ptr.get()\n",
    "    set_params(local_model, params)\n",
    "\n",
    "    if i%10 == 0:\n",
    "        acc = test(test_loader, local_model)\n",
    "        print(f\"Iter: {i} Test accuracy: {acc:.2F}\", flush=True)\n",
    "    if i>100:\n",
    "        break"
   ]
  },
  {
   "cell_type": "markdown",
   "id": "behavioral-driving",
   "metadata": {},
   "source": [
    "## Test"
   ]
  },
  {
   "cell_type": "code",
   "execution_count": 20,
   "id": "white-privacy",
   "metadata": {},
   "outputs": [
    {
     "name": "stdout",
     "output_type": "stream",
     "text": [
      "accuracy: 0.90\n"
     ]
    },
    {
     "data": {
      "image/png": "[encoded data removed]",
      "text/plain": [
       "<Figure size 1152x576 with 6 Axes>"
      ]
     },
     "metadata": {},
     "output_type": "display_data"
    }
   ],
   "source": [
    "show_predictions(test_loader, local_model)\n",
    "print(f\"accuracy: {test(test_loader, local_model):.2F}\")"
   ]
  },
  {
   "cell_type": "code",
   "execution_count": null,
   "id": "noted-joseph",
   "metadata": {},
   "outputs": [],
   "source": []
  }
 ],
 "metadata": {
  "kernelspec": {
   "display_name": "Python 3",
   "language": "python",
   "name": "python3"
  },
  "language_info": {
   "codemirror_mode": {
    "name": "ipython",
    "version": 3
   },
   "file_extension": ".py",
   "mimetype": "text/x-python",
   "name": "python",
   "nbconvert_exporter": "python",
   "pygments_lexer": "ipython3",
   "version": "3.7.9"
  },
  "toc": {
   "base_numbering": 1,
   "nav_menu": {},
   "number_sections": true,
   "sideBar": true,
   "skip_h1_title": false,
   "title_cell": "Table of Contents",
   "title_sidebar": "Contents",
   "toc_cell": false,
   "toc_position": {},
   "toc_section_display": true,
   "toc_window_display": true
  }
 },
 "nbformat": 4,
 "nbformat_minor": 5
}

{
 "cells": [
  {
   "cell_type": "code",
   "execution_count": 1,
   "id": "governing-danish",
   "metadata": {},
   "outputs": [],
   "source": [
    "%load_ext autoreload\n",
    "%autoreload 2"
   ]
  },
  {
   "cell_type": "code",
   "execution_count": 2,
   "id": "executed-wellington",
   "metadata": {},
   "outputs": [],
   "source": [
    "import syft as sy\n",
    "import torch as th\n",
    "from syft.core.node.vm.plan_vm import PlanVirtualMachine\n",
    "from syft import Plan"
   ]
  },
  {
   "cell_type": "code",
   "execution_count": 3,
   "id": "needed-snapshot",
   "metadata": {},
   "outputs": [],
   "source": [
    "import pytest"
   ]
  },
  {
   "cell_type": "code",
   "execution_count": 4,
   "id": "mysterious-reading",
   "metadata": {},
   "outputs": [],
   "source": [
    "alice = PlanVirtualMachine(name=\"alice\")\n",
    "alice_client = alice.get_root_client()\n",
    "remote_torch = alice_client.torch"
   ]
  },
  {
   "cell_type": "code",
   "execution_count": 5,
   "id": "regular-guinea",
   "metadata": {},
   "outputs": [],
   "source": [
    "from syft.core.plan.plan_builder import PLAN_BUILDER_VM, make_plan, build_plan_inputs, ROOT_CLIENT"
   ]
  },
  {
   "cell_type": "markdown",
   "id": "adjustable-principle",
   "metadata": {},
   "source": [
    "# Option 1: make_plan"
   ]
  },
  {
   "cell_type": "code",
   "execution_count": 6,
   "id": "latest-appraisal",
   "metadata": {},
   "outputs": [],
   "source": [
    "@make_plan\n",
    "def add_plan(inp = th.zeros((3))):\n",
    "    return inp + inp"
   ]
  },
  {
   "cell_type": "code",
   "execution_count": 7,
   "id": "synthetic-reserve",
   "metadata": {},
   "outputs": [],
   "source": [
    "input_tensor = th.tensor([1,2,3])"
   ]
  },
  {
   "cell_type": "code",
   "execution_count": 8,
   "id": "european-sessions",
   "metadata": {},
   "outputs": [],
   "source": [
    "plan_pointer = add_plan.send(alice_client)"
   ]
  },
  {
   "cell_type": "code",
   "execution_count": 9,
   "id": "religious-webmaster",
   "metadata": {},
   "outputs": [],
   "source": [
    "res = plan_pointer(inp=input_tensor)"
   ]
  },
  {
   "cell_type": "code",
   "execution_count": 10,
   "id": "convertible-india",
   "metadata": {},
   "outputs": [],
   "source": [
    "assert th.equal(res.get()[0], th.tensor([2,4,6]))"
   ]
  },
  {
   "cell_type": "code",
   "execution_count": 11,
   "id": "committed-administration",
   "metadata": {},
   "outputs": [],
   "source": [
    "@make_plan\n",
    "def mul_plan(inp = th.zeros((3)), inp2 = th.zeros((3))):\n",
    "    return inp * inp2"
   ]
  },
  {
   "cell_type": "code",
   "execution_count": 12,
   "id": "religious-imperial",
   "metadata": {},
   "outputs": [],
   "source": [
    "t1, t2 = th.tensor([1,2,3]), th.tensor([1,2,3])"
   ]
  },
  {
   "cell_type": "code",
   "execution_count": 13,
   "id": "continuous-underwear",
   "metadata": {},
   "outputs": [],
   "source": [
    "plan_pointer = mul_plan.send(alice_client)"
   ]
  },
  {
   "cell_type": "code",
   "execution_count": 14,
   "id": "temporal-guess",
   "metadata": {},
   "outputs": [
    {
     "name": "stderr",
     "output_type": "stream",
     "text": [
      "[2021-03-02T10:20:48.048809+0100][CRITICAL][logger]][2202] <class 'syft.core.store.store_memory.MemoryStore'> __delitem__ error <UID: 6425801367d24b27b333e7f67bca7867>.\n"
     ]
    }
   ],
   "source": [
    "res = plan_pointer(inp=t1, inp2=t2)"
   ]
  },
  {
   "cell_type": "code",
   "execution_count": 15,
   "id": "social-judge",
   "metadata": {},
   "outputs": [],
   "source": [
    "assert th.equal(res.get()[0], th.tensor([1,4,9]))"
   ]
  },
  {
   "cell_type": "markdown",
   "id": "divided-highlight",
   "metadata": {},
   "source": [
    "## assert error"
   ]
  },
  {
   "cell_type": "code",
   "execution_count": 16,
   "id": "comprehensive-college",
   "metadata": {},
   "outputs": [],
   "source": [
    "def assertRaises(exc, obj, methodname, *args):\n",
    "    with pytest.raises(exc) as e_info:\n",
    "        getattr(obj, methodname)(*args)\n",
    "    assert str(e_info) != \"\""
   ]
  },
  {
   "cell_type": "code",
   "execution_count": 17,
   "id": "micro-yield",
   "metadata": {},
   "outputs": [],
   "source": [
    "def test_define_plan():\n",
    "    @make_plan\n",
    "    def add_plan(inp):\n",
    "        return inp + inp"
   ]
  },
  {
   "cell_type": "code",
   "execution_count": 18,
   "id": "minus-shannon",
   "metadata": {},
   "outputs": [],
   "source": [
    "assertRaises(ValueError, test_define_plan, \"__call__\")"
   ]
  },
  {
   "cell_type": "markdown",
   "id": "polar-california",
   "metadata": {},
   "source": [
    "# Extra use case for PlanBuilder, wrapping state"
   ]
  },
  {
   "cell_type": "code",
   "execution_count": 19,
   "id": "mathematical-detail",
   "metadata": {},
   "outputs": [],
   "source": [
    "class PlanBuilder():\n",
    "    def __init__(self, vm=None, wrapping_func=None):\n",
    "        self.vm=PLAN_BUILDER_VM\n",
    "\n",
    "        try:\n",
    "            self.plan = self.build()\n",
    "        except:\n",
    "            raise\n",
    "        \n",
    "        self.plan_pointer=None\n",
    "\n",
    "    def build(self, *args) -> 'PointerPlan':  \n",
    "        inputs = build_plan_inputs(self.forward)\n",
    "\n",
    "        self.vm.record_actions()\n",
    "        res = self.forward(**inputs)\n",
    "        self.vm.stop_recording()\n",
    "        plan = Plan(actions=self.vm.recorded_actions, inputs=inputs, outputs=res)\n",
    "        self.vm.recorded_actions=[]\n",
    "        return plan\n",
    "\n",
    "    def __call__(self, **kwargs):\n",
    "        if self.plan_pointer is not None:\n",
    "            return self.plan_pointer(**kwargs)\n",
    "        else:\n",
    "            client = PlanVirtualMachine(name=\"alice\").get_root_client()\n",
    "            print(\"Model is not remote yet, sending to a new VM\")\n",
    "            self.send_plan(client)\n",
    "            return self.plan_pointer(**kwargs)\n",
    "        \n",
    "        \n",
    "    def send_plan(self, client):\n",
    "        self.plan_pointer = self.plan.send(client)\n"
   ]
  },
  {
   "cell_type": "code",
   "execution_count": 20,
   "id": "identified-collapse",
   "metadata": {},
   "outputs": [],
   "source": [
    "class TestModel(PlanBuilder):\n",
    "    def __init__(self):\n",
    "        self.model_pointer = th.tensor([1,2,3])\n",
    "        super().__init__()\n",
    "    \n",
    "    def forward(self, x = th.tensor([0,0,0])):\n",
    "        res = x * self.model_pointer\n",
    "        return res"
   ]
  },
  {
   "cell_type": "code",
   "execution_count": 21,
   "id": "parallel-married",
   "metadata": {},
   "outputs": [],
   "source": [
    "model = TestModel()"
   ]
  },
  {
   "cell_type": "code",
   "execution_count": 22,
   "id": "progressive-martin",
   "metadata": {},
   "outputs": [],
   "source": [
    "# model.send_plan(alice_client)"
   ]
  },
  {
   "cell_type": "code",
   "execution_count": 23,
   "id": "authorized-causing",
   "metadata": {},
   "outputs": [
    {
     "name": "stderr",
     "output_type": "stream",
     "text": [
      "[2021-03-02T10:20:53.074871+0100][CRITICAL][logger]][2202] <class 'syft.core.store.store_memory.MemoryStore'> __delitem__ error <UID: 45da735110b1414a9fa0a61d8a0fc534>.\n"
     ]
    },
    {
     "name": "stdout",
     "output_type": "stream",
     "text": [
      "Model is not remote yet, sending to a new VM\n"
     ]
    }
   ],
   "source": [
    "res = model(x=th.tensor([4,5,6]))\n",
    "assert th.equal(*res.get(), th.tensor([4,10,18]))"
   ]
  },
  {
   "cell_type": "code",
   "execution_count": null,
   "id": "parental-industry",
   "metadata": {},
   "outputs": [],
   "source": []
  }
 ],
 "metadata": {
  "kernelspec": {
   "display_name": "Python 3",
   "language": "python",
   "name": "python3"
  },
  "language_info": {
   "codemirror_mode": {
    "name": "ipython",
    "version": 3
   },
   "file_extension": ".py",
   "mimetype": "text/x-python",
   "name": "python",
   "nbconvert_exporter": "python",
   "pygments_lexer": "ipython3",
   "version": "3.7.9"
  },
  "toc": {
   "base_numbering": 1,
   "nav_menu": {},
   "number_sections": true,
   "sideBar": true,
   "skip_h1_title": false,
   "title_cell": "Table of Contents",
   "title_sidebar": "Contents",
   "toc_cell": false,
   "toc_position": {
    "height": "calc(100% - 180px)",
    "left": "10px",
    "top": "150px",
    "width": "341.979px"
   },
   "toc_section_display": true,
   "toc_window_display": true
  }
 },
 "nbformat": 4,
 "nbformat_minor": 5
}

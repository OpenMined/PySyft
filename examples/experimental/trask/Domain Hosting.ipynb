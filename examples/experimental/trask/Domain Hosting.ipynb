{
 "cells": [
  {
   "cell_type": "code",
   "execution_count": 1,
   "metadata": {},
   "outputs": [
    {
     "name": "stderr",
     "output_type": "stream",
     "text": [
      "/Users/atrask/opt/anaconda3/envs/syft/lib/python3.8/site-packages/torch/distributed/distributed_c10d.py:102: UserWarning: torch.distributed.reduce_op is deprecated, please use torch.distributed.ReduceOp instead\n",
      "  warnings.warn(\"torch.distributed.reduce_op is deprecated, please use \"\n"
     ]
    }
   ],
   "source": [
    "import syft as sy\n",
    "import torch as th"
   ]
  },
  {
   "cell_type": "code",
   "execution_count": 2,
   "metadata": {},
   "outputs": [
    {
     "name": "stdout",
     "output_type": "stream",
     "text": [
      "> Creating 🍰 bob (VirtualMachine@<UID:🚶🚂>)\n",
      "> Creating 📡 [🍰] bob Client (VirtualMachineClient@<UID:🚶🚂>)\n",
      "> Creating 📡 [🍰] bob Client (VirtualMachineClient@<UID:🚶🚂>)\n"
     ]
    }
   ],
   "source": [
    "bob = sy.VirtualMachine(name=\"bob\")\n",
    "root = bob.get_root_client()\n",
    "guest = bob.get_client()"
   ]
  },
  {
   "cell_type": "code",
   "execution_count": 3,
   "metadata": {},
   "outputs": [
    {
     "name": "stdout",
     "output_type": "stream",
     "text": [
      "> Creating ✉️  (SaveObjectAction)\n",
      "> 📡 [🍰] bob Client (VirtualMachineClient@<UID:🚶🚂>) Signing ✉️  (SaveObjectAction) with 🛺\n",
      "> Signing with 🛺\n",
      "> Creating Signed ✉️ 🔏 (SignedImmediateSyftMessageWithoutReply)\n",
      "> Sending ✉️ 🔏 (SignedImmediateSyftMessageWithoutReply) 📡 [🍰] bob Client (VirtualMachineClient@<UID:🚶🚂>) ➡️  💠 [🍰] bob Client (Address\n",
      "> Routing ✉️ 🔏 (SignedImmediateSyftMessageWithoutReply) via 🛣️  (SoloRoute)\n",
      "> Received ✉️ 🔏 (SignedImmediateSyftMessageWithoutReply) @ 🍰 bob (VirtualMachine@<UID:🚶🚂>)\n",
      "> Processing 📨 ✉️ 🔏 (SignedImmediateSyftMessageWithoutReply) @ 🍰 bob (VirtualMachine@<UID:🚶🚂>)\n",
      "> Recipient Found ✉️ 🔏 (SignedImmediateSyftMessageWithoutReply)@<UID:🚶🚂> == 🍰 bob (VirtualMachine@<UID:🚶🚂>)\n",
      "> Creating ✉️  (SaveObjectAction)\n"
     ]
    }
   ],
   "source": [
    "xp = th.tensor([1,2,3]).send(root)"
   ]
  },
  {
   "cell_type": "code",
   "execution_count": 4,
   "metadata": {},
   "outputs": [],
   "source": [
    "from syft.core.node.common.service.obj_search_permission_service import ObjectSearchPermissionUpdateMessage"
   ]
  },
  {
   "cell_type": "code",
   "execution_count": 5,
   "metadata": {},
   "outputs": [
    {
     "name": "stdout",
     "output_type": "stream",
     "text": [
      "> Creating ✉️  (ObjectSearchPermissionUpdateMessage)\n"
     ]
    }
   ],
   "source": [
    "msg = ObjectSearchPermissionUpdateMessage(address=root.address,\n",
    "                                         add_instead_of_remove=True,\n",
    "                                         target_verify_key=guest.verify_key,\n",
    "                                         target_object_id=xp.id_at_location)"
   ]
  },
  {
   "cell_type": "code",
   "execution_count": 6,
   "metadata": {},
   "outputs": [
    {
     "name": "stdout",
     "output_type": "stream",
     "text": [
      "> 📡 [🍰] bob Client (VirtualMachineClient@<UID:🚶🚂>) Signing ✉️  (ObjectSearchPermissionUpdateMessage) with 🛺\n",
      "> Signing with 🛺\n",
      "> Creating Signed ✉️ 🔏 (SignedImmediateSyftMessageWithoutReply)\n",
      "> Sending ✉️ 🔏 (SignedImmediateSyftMessageWithoutReply) 📡 [🍰] bob Client (VirtualMachineClient@<UID:🚶🚂>) ➡️  💠 [🍰] bob Client (Address\n",
      "> Routing ✉️ 🔏 (SignedImmediateSyftMessageWithoutReply) via 🛣️  (SoloRoute)\n",
      "> Received ✉️ 🔏 (SignedImmediateSyftMessageWithoutReply) @ 🍰 bob (VirtualMachine@<UID:🚶🚂>)\n",
      "> Processing 📨 ✉️ 🔏 (SignedImmediateSyftMessageWithoutReply) @ 🍰 bob (VirtualMachine@<UID:🚶🚂>)\n",
      "> Recipient Found ✉️ 🔏 (SignedImmediateSyftMessageWithoutReply)@<UID:🚶🚂> == 🍰 bob (VirtualMachine@<UID:🚶🚂>)\n",
      "> Creating ✉️  (ObjectSearchPermissionUpdateMessage)\n",
      "> Checking ✉️  (ObjectSearchPermissionUpdateMessage) 🔑 Matches 🍰 bob (VirtualMachine@<UID:🚶🚂>) root 🗝\n",
      "> Matching 🔑 🛺  == 🛺  🗝\n",
      "> ✅ Auth Succeeded ✉️  (ObjectSearchPermissionUpdateMessage) 🔑 == 🗝\n"
     ]
    }
   ],
   "source": [
    "root.send_immediate_msg_without_reply(msg=msg)"
   ]
  },
  {
   "cell_type": "code",
   "execution_count": null,
   "metadata": {},
   "outputs": [],
   "source": []
  },
  {
   "cell_type": "code",
   "execution_count": null,
   "metadata": {},
   "outputs": [],
   "source": []
  }
 ],
 "metadata": {
  "kernelspec": {
   "display_name": "Python 3",
   "language": "python",
   "name": "python3"
  },
  "language_info": {
   "codemirror_mode": {
    "name": "ipython",
    "version": 3
   },
   "file_extension": ".py",
   "mimetype": "text/x-python",
   "name": "python",
   "nbconvert_exporter": "python",
   "pygments_lexer": "ipython3",
   "version": "3.8.1"
  }
 },
 "nbformat": 4,
 "nbformat_minor": 4
}

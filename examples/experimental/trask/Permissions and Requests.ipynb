{
 "cells": [
  {
   "cell_type": "code",
   "execution_count": 1,
   "metadata": {},
   "outputs": [
    {
     "name": "stderr",
     "output_type": "stream",
     "text": [
      "/Users/atrask/opt/anaconda3/envs/syft/lib/python3.8/site-packages/torch/distributed/distributed_c10d.py:102: UserWarning: torch.distributed.reduce_op is deprecated, please use torch.distributed.ReduceOp instead\n",
      "  warnings.warn(\"torch.distributed.reduce_op is deprecated, please use \"\n"
     ]
    },
    {
     "name": "stdout",
     "output_type": "stream",
     "text": [
      "assigning id:<UID:e5bb9c2d-d20f-4091-a7f5-a0f936669c89> type:<class 'torch.Tensor'>\n",
      "setting attr:TensorPointer\n",
      "setting attr:LinearPointer\n",
      "setting attr:ParameterPointer\n"
     ]
    }
   ],
   "source": [
    "import syft as sy\n",
    "import torch as th"
   ]
  },
  {
   "cell_type": "code",
   "execution_count": 2,
   "metadata": {},
   "outputs": [
    {
     "name": "stdout",
     "output_type": "stream",
     "text": [
      "> Creating 🏰 bob (Domain@<UID:🚮🚂>)\n",
      "setting attr:TensorPointer\n",
      "setting attr:LinearPointer\n",
      "setting attr:ParameterPointer\n",
      "> Creating 📡 [🏰] bob Client (DomainClient@<UID:🚮🚂>)\n",
      "setting attr:TensorPointer\n",
      "setting attr:LinearPointer\n",
      "setting attr:ParameterPointer\n",
      "> Creating 📡 [🏰] bob Client (DomainClient@<UID:🚮🚂>)\n"
     ]
    }
   ],
   "source": [
    "bob = sy.Domain(name=\"bob\")\n",
    "root_bob = bob.get_root_client()\n",
    "guest_bob = bob.get_client()"
   ]
  },
  {
   "cell_type": "code",
   "execution_count": 3,
   "metadata": {},
   "outputs": [
    {
     "name": "stdout",
     "output_type": "stream",
     "text": [
      "assigning id:<UID:ba603fa6-0f45-474f-b4bc-4ab39e32d19f> type:<class 'torch.Tensor'>\n",
      "> Creating ✉️  (SaveObjectAction)\n",
      "> 📡 [🏰] bob Client (DomainClient@<UID:🚮🚂>) Signing ✉️  (SaveObjectAction) with 🝔\n",
      "> Signing with 🝔\n",
      "Wrapped tensor with id:<UID:ba603fa6-0f45-474f-b4bc-4ab39e32d19f>\n",
      "> Creating Signed ✉️ 🔏 (SignedImmediateSyftMessageWithoutReply)\n",
      "> Sending ✉️ 🔏 (SignedImmediateSyftMessageWithoutReply) 📡 [🏰] bob Client (DomainClient@<UID:🚮🚂>) ➡️  💠 [🏰] bob Client (Address\n",
      "> Routing ✉️ 🔏 (SignedImmediateSyftMessageWithoutReply) via 🛣️  (SoloRoute)\n",
      "> Received ✉️ 🔏 (SignedImmediateSyftMessageWithoutReply) @ 🏰 bob (Domain@<UID:🚮🚂>)\n",
      "> Processing 📨 ✉️ 🔏 (SignedImmediateSyftMessageWithoutReply) @ 🏰 bob (Domain@<UID:🚮🚂>)\n",
      "> Recipient Found ✉️ 🔏 (SignedImmediateSyftMessageWithoutReply)@<UID:🚮🚂> == 🏰 bob (Domain@<UID:🚮🚂>)\n",
      "assigning id:<UID:569be8bc-def4-4867-a6bf-00b5ed33110d> type:<class 'torch.Tensor'>\n",
      "> Creating ✉️  (SaveObjectAction)\n"
     ]
    }
   ],
   "source": [
    "x = th.tensor([1, 2, 3, 4])\n",
    "\n",
    "# root user of Bob's machine sends a tensor\n",
    "ptr = x.send(root_bob)\n",
    "\n",
    "# guest bob creates a pointer to that object (assuming he could guess/inpher the ID)\n",
    "ptr.location = guest_bob"
   ]
  },
  {
   "cell_type": "code",
   "execution_count": 4,
   "metadata": {},
   "outputs": [],
   "source": [
    "# ptr.get()"
   ]
  },
  {
   "cell_type": "code",
   "execution_count": 5,
   "metadata": {},
   "outputs": [
    {
     "name": "stdout",
     "output_type": "stream",
     "text": [
      "> Creating ✉️  (RequestMessage)\n",
      "> 📡 [🏰] bob Client (DomainClient@<UID:🚮🚂>) Signing ✉️  (RequestMessage) with 🚍\n",
      "> Signing with 🚍\n",
      "> Creating Signed ✉️ 🔏 (SignedImmediateSyftMessageWithoutReply)\n",
      "> Sending ✉️ 🔏 (SignedImmediateSyftMessageWithoutReply) 📡 [🏰] bob Client (DomainClient@<UID:🚮🚂>) ➡️  💠 [🏰] bob Client (Address\n",
      "> Routing ✉️ 🔏 (SignedImmediateSyftMessageWithoutReply) via 🛣️  (SoloRoute)\n",
      "> Received ✉️ 🔏 (SignedImmediateSyftMessageWithoutReply) @ 🏰 bob (Domain@<UID:🚮🚂>)\n",
      "> Processing 📨 ✉️ 🔏 (SignedImmediateSyftMessageWithoutReply) @ 🏰 bob (Domain@<UID:🚮🚂>)\n",
      "> Recipient Found ✉️ 🔏 (SignedImmediateSyftMessageWithoutReply)@<UID:🚮🚂> == 🏰 bob (Domain@<UID:🚮🚂>)\n",
      "> Creating ✉️  (RequestMessage)\n"
     ]
    }
   ],
   "source": [
    "ptr.request_access(node=ptr.location.address)"
   ]
  },
  {
   "cell_type": "code",
   "execution_count": null,
   "metadata": {},
   "outputs": [],
   "source": []
  }
 ],
 "metadata": {
  "kernelspec": {
   "display_name": "Python 3",
   "language": "python",
   "name": "python3"
  },
  "language_info": {
   "codemirror_mode": {
    "name": "ipython",
    "version": 3
   },
   "file_extension": ".py",
   "mimetype": "text/x-python",
   "name": "python",
   "nbconvert_exporter": "python",
   "pygments_lexer": "ipython3",
   "version": "3.8.1"
  }
 },
 "nbformat": 4,
 "nbformat_minor": 4
}

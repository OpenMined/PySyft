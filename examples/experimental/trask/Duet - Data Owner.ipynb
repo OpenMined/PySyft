{
 "cells": [
  {
   "cell_type": "code",
   "execution_count": 2,
   "metadata": {},
   "outputs": [],
   "source": [
    "import syft as sy\n",
    "import torch as th\n",
    "sy.VERBOSE = False"
   ]
  },
  {
   "cell_type": "code",
   "execution_count": 3,
   "metadata": {},
   "outputs": [
    {
     "name": "stdout",
     "output_type": "stream",
     "text": [
      "Domain with Root Key: None\n",
      "🎤  🎸  ♪♪♪ duet started ♫♫♫  🎻  🎹\n",
      "\n",
      "♫♫♫ >\u001b[93m DISCLAIMER\u001b[0m:\u001b[1m Duet is an experimental feature currently \n",
      "♫♫♫ > in alpha. Do not use this to protect real-world data.\n",
      "\u001b[0m♫♫♫ >\n",
      "♫♫♫ > Duet Node ID:67913c25-1dcf-4112-86cf-8f6937f418f5\n",
      "♫♫♫ > URL:http://127.0.0.1:5000/\n",
      "♫♫♫ > Connecting...\n"
     ]
    },
    {
     "name": "stderr",
     "output_type": "stream",
     "text": [
      "127.0.0.1 - - [31/Aug/2020 22:16:15] \"\u001b[37mGET / HTTP/1.1\u001b[0m\" 200 -\n"
     ]
    },
    {
     "name": "stdout",
     "output_type": "stream",
     "text": [
      "♫♫♫ > Connected!\n"
     ]
    }
   ],
   "source": [
    "duet = sy.Duet()"
   ]
  },
  {
   "cell_type": "code",
   "execution_count": 4,
   "metadata": {},
   "outputs": [
    {
     "name": "stderr",
     "output_type": "stream",
     "text": [
      "127.0.0.1 - - [31/Aug/2020 22:16:16] \"\u001b[37mPOST /67913c25-1dcf-4112-86cf-8f6937f418f5 HTTP/1.1\u001b[0m\" 200 -\n"
     ]
    }
   ],
   "source": [
    "xp = th.tensor([1,2,3]).tag(\"some\", \"diabetes\", \"data\").send(duet)\n",
    "# yp = xp + xp\n",
    "# y = yp.get()"
   ]
  },
  {
   "cell_type": "code",
   "execution_count": 5,
   "metadata": {},
   "outputs": [
    {
     "name": "stderr",
     "output_type": "stream",
     "text": [
      "127.0.0.1 - - [31/Aug/2020 22:16:20] \"\u001b[37mPOST /67913c25-1dcf-4112-86cf-8f6937f418f5 HTTP/1.1\u001b[0m\" 200 -\n"
     ]
    },
    {
     "data": {
      "text/html": [
       "<div>\n",
       "<style scoped>\n",
       "    .dataframe tbody tr th:only-of-type {\n",
       "        vertical-align: middle;\n",
       "    }\n",
       "\n",
       "    .dataframe tbody tr th {\n",
       "        vertical-align: top;\n",
       "    }\n",
       "\n",
       "    .dataframe thead th {\n",
       "        text-align: right;\n",
       "    }\n",
       "</style>\n",
       "<table border=\"1\" class=\"dataframe\">\n",
       "  <thead>\n",
       "    <tr style=\"text-align: right;\">\n",
       "      <th></th>\n",
       "      <th>ID</th>\n",
       "      <th>Tags</th>\n",
       "      <th>Description</th>\n",
       "    </tr>\n",
       "  </thead>\n",
       "  <tbody>\n",
       "    <tr>\n",
       "      <th>0</th>\n",
       "      <td>&lt;UID:3e542611-81cc-40e5-b830-2ba0f3ec30b7&gt;</td>\n",
       "      <td>[some, diabetes, data]</td>\n",
       "      <td></td>\n",
       "    </tr>\n",
       "  </tbody>\n",
       "</table>\n",
       "</div>"
      ],
      "text/plain": [
       "                                           ID                    Tags  \\\n",
       "0  <UID:3e542611-81cc-40e5-b830-2ba0f3ec30b7>  [some, diabetes, data]   \n",
       "\n",
       "  Description  \n",
       "0              "
      ]
     },
     "execution_count": 5,
     "metadata": {},
     "output_type": "execute_result"
    }
   ],
   "source": [
    "duet.store.pandas"
   ]
  },
  {
   "cell_type": "code",
   "execution_count": 6,
   "metadata": {},
   "outputs": [
    {
     "name": "stderr",
     "output_type": "stream",
     "text": [
      "127.0.0.1 - - [31/Aug/2020 22:16:30] \"\u001b[37mPOST /67913c25-1dcf-4112-86cf-8f6937f418f5 HTTP/1.1\u001b[0m\" 200 -\n",
      "127.0.0.1 - - [31/Aug/2020 22:16:33] \"\u001b[33mPOST /bc2a86e1-98d5-439d-a1eb-9bc965ff09e7 HTTP/1.1\u001b[0m\" 404 -\n",
      "127.0.0.1 - - [31/Aug/2020 22:16:35] \"\u001b[37mGET / HTTP/1.1\u001b[0m\" 200 -\n",
      "127.0.0.1 - - [31/Aug/2020 22:16:35] \"\u001b[37mPOST /67913c25-1dcf-4112-86cf-8f6937f418f5 HTTP/1.1\u001b[0m\" 200 -\n",
      "127.0.0.1 - - [31/Aug/2020 22:25:27] \"\u001b[37mPOST /67913c25-1dcf-4112-86cf-8f6937f418f5 HTTP/1.1\u001b[0m\" 200 -\n",
      "127.0.0.1 - - [31/Aug/2020 22:25:35] \"\u001b[37mPOST /67913c25-1dcf-4112-86cf-8f6937f418f5 HTTP/1.1\u001b[0m\" 200 -\n",
      "127.0.0.1 - - [31/Aug/2020 22:25:38] \"\u001b[37mPOST /67913c25-1dcf-4112-86cf-8f6937f418f5 HTTP/1.1\u001b[0m\" 200 -\n",
      "127.0.0.1 - - [31/Aug/2020 22:26:22] \"\u001b[37mGET / HTTP/1.1\u001b[0m\" 200 -\n",
      "127.0.0.1 - - [31/Aug/2020 22:26:23] \"\u001b[37mPOST /67913c25-1dcf-4112-86cf-8f6937f418f5 HTTP/1.1\u001b[0m\" 200 -\n",
      "127.0.0.1 - - [31/Aug/2020 22:26:25] \"\u001b[37mPOST /67913c25-1dcf-4112-86cf-8f6937f418f5 HTTP/1.1\u001b[0m\" 200 -\n",
      "127.0.0.1 - - [31/Aug/2020 22:27:29] \"\u001b[37mGET / HTTP/1.1\u001b[0m\" 200 -\n",
      "127.0.0.1 - - [31/Aug/2020 22:27:29] \"\u001b[37mPOST /67913c25-1dcf-4112-86cf-8f6937f418f5 HTTP/1.1\u001b[0m\" 200 -\n",
      "127.0.0.1 - - [31/Aug/2020 22:28:31] \"\u001b[37mPOST /67913c25-1dcf-4112-86cf-8f6937f418f5 HTTP/1.1\u001b[0m\" 200 -\n",
      "127.0.0.1 - - [31/Aug/2020 22:28:36] \"\u001b[37mPOST /67913c25-1dcf-4112-86cf-8f6937f418f5 HTTP/1.1\u001b[0m\" 200 -\n",
      "127.0.0.1 - - [31/Aug/2020 22:29:33] \"\u001b[37mGET / HTTP/1.1\u001b[0m\" 200 -\n",
      "127.0.0.1 - - [31/Aug/2020 22:29:33] \"\u001b[37mPOST /67913c25-1dcf-4112-86cf-8f6937f418f5 HTTP/1.1\u001b[0m\" 200 -\n",
      "127.0.0.1 - - [31/Aug/2020 22:29:33] \"\u001b[37mPOST /67913c25-1dcf-4112-86cf-8f6937f418f5 HTTP/1.1\u001b[0m\" 200 -\n",
      "127.0.0.1 - - [31/Aug/2020 22:29:53] \"\u001b[37mPOST /67913c25-1dcf-4112-86cf-8f6937f418f5 HTTP/1.1\u001b[0m\" 200 -\n"
     ]
    }
   ],
   "source": [
    "xp = th.tensor([1,2,3]).tag(\"diabetes2\").send(duet, searchable=True)"
   ]
  },
  {
   "cell_type": "code",
   "execution_count": 7,
   "metadata": {},
   "outputs": [
    {
     "data": {
      "text/plain": [
       "<UID:8ceaabdf-c95b-4074-807c-008a70ad731a>"
      ]
     },
     "execution_count": 7,
     "metadata": {},
     "output_type": "execute_result"
    }
   ],
   "source": [
    "xp.id_at_location"
   ]
  },
  {
   "cell_type": "code",
   "execution_count": null,
   "metadata": {},
   "outputs": [],
   "source": []
  }
 ],
 "metadata": {
  "kernelspec": {
   "display_name": "Python 3",
   "language": "python",
   "name": "python3"
  },
  "language_info": {
   "codemirror_mode": {
    "name": "ipython",
    "version": 3
   },
   "file_extension": ".py",
   "mimetype": "text/x-python",
   "name": "python",
   "nbconvert_exporter": "python",
   "pygments_lexer": "ipython3",
   "version": "3.8.1"
  }
 },
 "nbformat": 4,
 "nbformat_minor": 4
}

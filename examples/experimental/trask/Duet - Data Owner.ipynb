{
 "cells": [
  {
   "cell_type": "code",
   "execution_count": 1,
   "metadata": {},
   "outputs": [
    {
     "name": "stderr",
     "output_type": "stream",
     "text": [
      "/Users/atrask/opt/anaconda3/envs/syft/lib/python3.8/site-packages/torch/distributed/distributed_c10d.py:102: UserWarning: torch.distributed.reduce_op is deprecated, please use torch.distributed.ReduceOp instead\n",
      "  warnings.warn(\"torch.distributed.reduce_op is deprecated, please use \"\n"
     ]
    }
   ],
   "source": [
    "import syft as sy\n",
    "import torch as th\n",
    "sy.VERBOSE = False"
   ]
  },
  {
   "cell_type": "code",
   "execution_count": 2,
   "metadata": {},
   "outputs": [],
   "source": [
    "import logging"
   ]
  },
  {
   "cell_type": "code",
   "execution_count": 3,
   "metadata": {},
   "outputs": [],
   "source": [
    "logging.DEBUG = 0"
   ]
  },
  {
   "cell_type": "code",
   "execution_count": 4,
   "metadata": {},
   "outputs": [
    {
     "name": "stdout",
     "output_type": "stream",
     "text": [
      "Domain with Root Key: None\n",
      "🎤  🎸  ♪♪♪ duet started ♫♫♫  🎻  🎹\n",
      "\n",
      "♫♫♫ >\u001b[93m DISCLAIMER\u001b[0m:\u001b[1m Duet is an experimental feature currently \n",
      "♫♫♫ > in alpha. Do not use this to protect real-world data.\n",
      "\u001b[0m♫♫♫ >\n",
      "♫♫♫ > Duet Node ID:4f63dc5f-e9bf-43a1-a16b-43bc3a75b8df\n",
      "♫♫♫ > URL:http://127.0.0.1:5000/\n",
      "♫♫♫ > Connecting...\n"
     ]
    },
    {
     "name": "stderr",
     "output_type": "stream",
     "text": [
      "127.0.0.1 - - [01/Sep/2020 00:44:40] \"\u001b[37mGET / HTTP/1.1\u001b[0m\" 200 -\n"
     ]
    },
    {
     "name": "stdout",
     "output_type": "stream",
     "text": [
      "♫♫♫ > Connected!\n"
     ]
    }
   ],
   "source": [
    "duet = sy.Duet()"
   ]
  },
  {
   "cell_type": "code",
   "execution_count": 4,
   "metadata": {},
   "outputs": [
    {
     "name": "stderr",
     "output_type": "stream",
     "text": [
      "127.0.0.1 - - [01/Sep/2020 00:40:16] \"\u001b[37mPOST /4fc46c53-992d-4186-9e11-4c83f370a660 HTTP/1.1\u001b[0m\" 200 -\n"
     ]
    }
   ],
   "source": [
    "xp = th.tensor([1,2,3]).tag(\"some\", \"diabetes\", \"data\").send(duet)\n",
    "# yp = xp + xp\n",
    "# y = yp.get()"
   ]
  },
  {
   "cell_type": "code",
   "execution_count": 5,
   "metadata": {},
   "outputs": [
    {
     "name": "stderr",
     "output_type": "stream",
     "text": [
      "127.0.0.1 - - [01/Sep/2020 00:40:16] \"\u001b[37mPOST /4fc46c53-992d-4186-9e11-4c83f370a660 HTTP/1.1\u001b[0m\" 200 -\n"
     ]
    },
    {
     "data": {
      "text/plain": [
       "[]"
      ]
     },
     "execution_count": 5,
     "metadata": {},
     "output_type": "execute_result"
    },
    {
     "name": "stderr",
     "output_type": "stream",
     "text": [
      "127.0.0.1 - - [01/Sep/2020 00:40:24] \"\u001b[37mGET / HTTP/1.1\u001b[0m\" 200 -\n",
      "127.0.0.1 - - [01/Sep/2020 00:40:25] \"\u001b[37mPOST /4fc46c53-992d-4186-9e11-4c83f370a660 HTTP/1.1\u001b[0m\" 200 -\n",
      "127.0.0.1 - - [01/Sep/2020 00:40:28] \"\u001b[37mPOST /4fc46c53-992d-4186-9e11-4c83f370a660 HTTP/1.1\u001b[0m\" 200 -\n"
     ]
    }
   ],
   "source": [
    "duet.requests"
   ]
  },
  {
   "cell_type": "code",
   "execution_count": 6,
   "metadata": {},
   "outputs": [
    {
     "name": "stderr",
     "output_type": "stream",
     "text": [
      "127.0.0.1 - - [01/Sep/2020 00:40:33] \"\u001b[37mPOST /4fc46c53-992d-4186-9e11-4c83f370a660 HTTP/1.1\u001b[0m\" 200 -\n",
      "127.0.0.1 - - [01/Sep/2020 00:40:40] \"\u001b[37mPOST /4fc46c53-992d-4186-9e11-4c83f370a660 HTTP/1.1\u001b[0m\" 200 -\n",
      "127.0.0.1 - - [01/Sep/2020 00:40:43] \"\u001b[37mPOST /4fc46c53-992d-4186-9e11-4c83f370a660 HTTP/1.1\u001b[0m\" 200 -\n",
      "127.0.0.1 - - [01/Sep/2020 00:40:51] \"\u001b[37mPOST /4fc46c53-992d-4186-9e11-4c83f370a660 HTTP/1.1\u001b[0m\" 200 -\n",
      "127.0.0.1 - - [01/Sep/2020 00:42:57] \"\u001b[37mGET / HTTP/1.1\u001b[0m\" 200 -\n",
      "127.0.0.1 - - [01/Sep/2020 00:42:58] \"\u001b[37mPOST /4fc46c53-992d-4186-9e11-4c83f370a660 HTTP/1.1\u001b[0m\" 200 -\n",
      "127.0.0.1 - - [01/Sep/2020 00:42:58] \"\u001b[37mPOST /4fc46c53-992d-4186-9e11-4c83f370a660 HTTP/1.1\u001b[0m\" 200 -\n",
      "127.0.0.1 - - [01/Sep/2020 00:42:59] \"\u001b[37mPOST /4fc46c53-992d-4186-9e11-4c83f370a660 HTTP/1.1\u001b[0m\" 200 -\n",
      "127.0.0.1 - - [01/Sep/2020 00:43:01] \"\u001b[37mPOST /4fc46c53-992d-4186-9e11-4c83f370a660 HTTP/1.1\u001b[0m\" 200 -\n",
      "127.0.0.1 - - [01/Sep/2020 00:43:09] \"\u001b[37mPOST /4fc46c53-992d-4186-9e11-4c83f370a660 HTTP/1.1\u001b[0m\" 200 -\n",
      "[2020-09-01 00:43:09,759] ERROR in app: Exception on /4fc46c53-992d-4186-9e11-4c83f370a660 [POST]\n",
      "Traceback (most recent call last):\n",
      "  File \"/Users/atrask/opt/anaconda3/envs/syft/lib/python3.8/site-packages/flask/app.py\", line 2447, in wsgi_app\n",
      "    response = self.full_dispatch_request()\n",
      "  File \"/Users/atrask/opt/anaconda3/envs/syft/lib/python3.8/site-packages/flask/app.py\", line 1952, in full_dispatch_request\n",
      "    rv = self.handle_user_exception(e)\n",
      "  File \"/Users/atrask/opt/anaconda3/envs/syft/lib/python3.8/site-packages/flask/app.py\", line 1821, in handle_user_exception\n",
      "    reraise(exc_type, exc_value, tb)\n",
      "  File \"/Users/atrask/opt/anaconda3/envs/syft/lib/python3.8/site-packages/flask/_compat.py\", line 39, in reraise\n",
      "    raise value\n",
      "  File \"/Users/atrask/opt/anaconda3/envs/syft/lib/python3.8/site-packages/flask/app.py\", line 1950, in full_dispatch_request\n",
      "    rv = self.dispatch_request()\n",
      "  File \"/Users/atrask/opt/anaconda3/envs/syft/lib/python3.8/site-packages/flask/app.py\", line 1936, in dispatch_request\n",
      "    return self.view_functions[rule.endpoint](**req.view_args)\n",
      "  File \"/Users/atrask/Dropbox/Laboratory/openmined/PySyft/PySyft/src/syft/grid/duet/duet.py\", line 133, in recv\n",
      "    reply = domain.recv_immediate_msg_with_reply(msg=msg)\n",
      "  File \"/Users/atrask/Dropbox/Laboratory/openmined/PySyft/PySyft/src/syft/decorators/syft_decorator_impl.py\", line 25, in wrapper\n",
      "    return function(*args, **kwargs)\n",
      "  File \"/Users/atrask/Dropbox/Laboratory/openmined/PySyft/PySyft/src/syft/decorators/typecheck.py\", line 105, in decorator\n",
      "    return typechecked(decorated)(*args, **kwargs)\n",
      "  File \"/Users/atrask/opt/anaconda3/envs/syft/lib/python3.8/site-packages/typeguard/__init__.py\", line 840, in wrapper\n",
      "    retval = func(*args, **kwargs)\n",
      "  File \"/Users/atrask/Dropbox/Laboratory/openmined/PySyft/PySyft/src/syft/core/node/common/node.py\", line 319, in recv_immediate_msg_with_reply\n",
      "    response = self.process_message(\n",
      "  File \"/Users/atrask/Dropbox/Laboratory/openmined/PySyft/PySyft/src/syft/core/node/common/node.py\", line 375, in process_message\n",
      "    return service.process(\n",
      "  File \"/Users/atrask/Dropbox/Laboratory/openmined/PySyft/PySyft/src/syft/decorators/syft_decorator_impl.py\", line 25, in wrapper\n",
      "    return function(*args, **kwargs)\n",
      "  File \"/Users/atrask/Dropbox/Laboratory/openmined/PySyft/PySyft/src/syft/decorators/typecheck.py\", line 105, in decorator\n",
      "    return typechecked(decorated)(*args, **kwargs)\n",
      "  File \"/Users/atrask/opt/anaconda3/envs/syft/lib/python3.8/site-packages/typeguard/__init__.py\", line 840, in wrapper\n",
      "    retval = func(*args, **kwargs)\n",
      "  File \"/Users/atrask/Dropbox/Laboratory/openmined/PySyft/PySyft/src/syft/core/node/common/service/obj_action_service.py\", line 55, in process\n",
      "    return msg.execute_action(node=node, verify_key=verify_key)\n",
      "  File \"/Users/atrask/Dropbox/Laboratory/openmined/PySyft/PySyft/src/syft/core/node/common/action/get_object_action.py\", line 132, in execute_action\n",
      "    raise Exception(\n",
      "Exception: You do not have permission to .get() this tensor. Please submit a request.\n",
      "127.0.0.1 - - [01/Sep/2020 00:43:09] \"\u001b[35m\u001b[1mPOST /4fc46c53-992d-4186-9e11-4c83f370a660 HTTP/1.1\u001b[0m\" 500 -\n"
     ]
    }
   ],
   "source": [
    "xp = th.tensor([1,2,3]).tag(\"diabetes2\").send(duet, searchable=True)"
   ]
  },
  {
   "cell_type": "code",
   "execution_count": 9,
   "metadata": {},
   "outputs": [
    {
     "name": "stderr",
     "output_type": "stream",
     "text": [
      "127.0.0.1 - - [01/Sep/2020 00:43:22] \"\u001b[37mPOST /4fc46c53-992d-4186-9e11-4c83f370a660 HTTP/1.1\u001b[0m\" 200 -\n",
      "127.0.0.1 - - [01/Sep/2020 00:43:22] \"\u001b[37mPOST /4fc46c53-992d-4186-9e11-4c83f370a660 HTTP/1.1\u001b[0m\" 200 -\n",
      "127.0.0.1 - - [01/Sep/2020 00:43:25] \"\u001b[37mPOST /4fc46c53-992d-4186-9e11-4c83f370a660 HTTP/1.1\u001b[0m\" 200 -\n",
      "127.0.0.1 - - [01/Sep/2020 00:43:25] \"\u001b[37mPOST /4fc46c53-992d-4186-9e11-4c83f370a660 HTTP/1.1\u001b[0m\" 200 -\n"
     ]
    }
   ],
   "source": [
    "duet.requests[0].accept()"
   ]
  },
  {
   "cell_type": "code",
   "execution_count": null,
   "metadata": {},
   "outputs": [],
   "source": []
  }
 ],
 "metadata": {
  "kernelspec": {
   "display_name": "Python 3",
   "language": "python",
   "name": "python3"
  },
  "language_info": {
   "codemirror_mode": {
    "name": "ipython",
    "version": 3
   },
   "file_extension": ".py",
   "mimetype": "text/x-python",
   "name": "python",
   "nbconvert_exporter": "python",
   "pygments_lexer": "ipython3",
   "version": "3.8.1"
  }
 },
 "nbformat": 4,
 "nbformat_minor": 4
}

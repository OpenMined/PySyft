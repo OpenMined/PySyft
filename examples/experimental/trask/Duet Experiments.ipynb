{
 "cells": [
  {
   "cell_type": "code",
   "execution_count": 1,
   "metadata": {},
   "outputs": [
    {
     "name": "stdout",
     "output_type": "stream",
     "text": [
      "assigning id:<UID:cbde9eb4-a1fd-41e4-84e9-3205f7f1170f> type:<class 'torch.Tensor'>\n",
      "setting attr:TensorPointer\n",
      "setting attr:LinearPointer\n",
      "setting attr:arrayPointer\n",
      "setting attr:ndarrayPointer\n"
     ]
    }
   ],
   "source": [
    "import syft as sy\n",
    "import torch as th\n",
    "import syft\n",
    "\n",
    "from syft.core.io.location import SpecificLocation\n",
    "from syft.core.io.address import Address\n",
    "from syft.core.common.uid import UID\n",
    "from syft.core.node.common.action.run_class_method_action import RunClassMethodAction\n",
    "from syft.proto.core.node.common.action.run_class_method_pb2 import RunClassMethodAction as RunClassMethodAction_PB"
   ]
  },
  {
   "cell_type": "code",
   "execution_count": 2,
   "metadata": {},
   "outputs": [
    {
     "name": "stdout",
     "output_type": "stream",
     "text": [
      "setting attr:TensorPointer\n",
      "setting attr:LinearPointer\n",
      "setting attr:arrayPointer\n",
      "setting attr:ndarrayPointer\n",
      "assigning id:<UID:8753aa59-a293-4f07-a072-918e43af632a> type:<class 'torch.Tensor'>\n",
      "the message is for me!!!\n"
     ]
    }
   ],
   "source": [
    "bob = sy.VirtualMachine(name=\"bob\").get_client()\n",
    "x = th.tensor([1,2,3]).send(bob)"
   ]
  },
  {
   "cell_type": "code",
   "execution_count": 3,
   "metadata": {},
   "outputs": [
    {
     "name": "stdout",
     "output_type": "stream",
     "text": [
      "id at location:<UID:3fdb0251-3410-45fe-a3ea-94ea89754ce4>\n",
      "the message is for me!!!\n"
     ]
    }
   ],
   "source": [
    "y = x + x"
   ]
  },
  {
   "cell_type": "code",
   "execution_count": 4,
   "metadata": {},
   "outputs": [
    {
     "name": "stdout",
     "output_type": "stream",
     "text": [
      "the old_message is for me!!!\n"
     ]
    },
    {
     "data": {
      "text/plain": [
       "tensor([2, 4, 6])"
      ]
     },
     "execution_count": 4,
     "metadata": {},
     "output_type": "execute_result"
    }
   ],
   "source": [
    "y.get()"
   ]
  },
  {
   "cell_type": "code",
   "execution_count": 1,
   "metadata": {},
   "outputs": [
    {
     "name": "stdout",
     "output_type": "stream",
     "text": [
      "assigning id:<UID:74cced8f-69bd-47d4-9785-ae3c71fff868> type:<class 'torch.Tensor'>\n",
      "setting attr:TensorPointer\n",
      "setting attr:LinearPointer\n",
      "setting attr:arrayPointer\n",
      "setting attr:ndarrayPointer\n",
      "Domain with Root Key: b'\\x18\\x82\\xecv5z\\x8e\\xbf\\x05\\xae\\xba\\xe4\\noI\\xd4pE\\x00\\x13\\xf9C\\x88\\xbf\\x8b\\x0b1\\xb0\\xa7G-\\xf0'\n",
      "🎤  🎸  ♪♪♪ duet started ♫♫♫  🎻  🎹\n",
      "\n",
      "♫♫♫ >\u001b[93m DISCLAIMER\u001b[0m:\u001b[1m Duet is an experimental feature currently \n",
      "♫♫♫ > in alpha. Do not use this to protect real-world data.\n",
      "\u001b[0m♫♫♫ >\n",
      "♫♫♫ > Duet Node ID:f16cb15c-02d1-4bc5-9e26-574497e4708d\n",
      "♫♫♫ > URL:http://127.0.0.1:5000/\n",
      "♫♫♫ > Connecting...\n"
     ]
    },
    {
     "name": "stderr",
     "output_type": "stream",
     "text": [
      "127.0.0.1 - - [11/Aug/2020 22:49:51] \"\u001b[37mGET / HTTP/1.1\u001b[0m\" 200 -\n"
     ]
    },
    {
     "name": "stdout",
     "output_type": "stream",
     "text": [
      "setting attr:TensorPointer\n",
      "setting attr:LinearPointer\n",
      "setting attr:arrayPointer\n",
      "setting attr:ndarrayPointer\n",
      "♫♫♫ > Connected!\n"
     ]
    }
   ],
   "source": [
    "import syft as sy\n",
    "import torch as th\n",
    "duet = sy.Duet()"
   ]
  },
  {
   "cell_type": "code",
   "execution_count": 2,
   "metadata": {},
   "outputs": [
    {
     "name": "stderr",
     "output_type": "stream",
     "text": [
      "127.0.0.1 - - [11/Aug/2020 22:49:52] \"\u001b[37mPOST /f16cb15c-02d1-4bc5-9e26-574497e4708d HTTP/1.1\u001b[0m\" 200 -\n"
     ]
    },
    {
     "name": "stdout",
     "output_type": "stream",
     "text": [
      "assigning id:<UID:1bacc753-e846-4ed4-b5f6-244c2c615859> type:<class 'torch.Tensor'>\n",
      "Wrapped tensor with id:<UID:1bacc753-e846-4ed4-b5f6-244c2c615859>\n",
      "trying to send message http://127.0.0.1:5000/ <SaveObjectAction:52f20d4b-ff8a-4f34-86d8-455e8cc867be>\n",
      "assigning id:<UID:7d761d4b-f16c-4e6f-bf6c-65085885bcc6> type:<class 'torch.Tensor'>\n",
      "the message is for me!!!\n"
     ]
    }
   ],
   "source": [
    "x = th.tensor([1,2,3])\n",
    "xp = x.send(duet)\n",
    "# y = xp.get()"
   ]
  },
  {
   "cell_type": "code",
   "execution_count": 3,
   "metadata": {},
   "outputs": [
    {
     "name": "stderr",
     "output_type": "stream",
     "text": [
      "127.0.0.1 - - [11/Aug/2020 22:49:52] \"\u001b[37mPOST /f16cb15c-02d1-4bc5-9e26-574497e4708d HTTP/1.1\u001b[0m\" 200 -\n"
     ]
    },
    {
     "name": "stdout",
     "output_type": "stream",
     "text": [
      "id at location:<UID:2c339b28-581f-4f33-af43-ce2e04de73d2>\n",
      "trying to send message http://127.0.0.1:5000/ <RunClassMethodAction:bd1ebfa9-f782-4414-89ab-90ef726a058e>\n",
      "id at location:<UID:2c339b28-581f-4f33-af43-ce2e04de73d2>\n",
      "the message is for me!!!\n"
     ]
    }
   ],
   "source": [
    "y = xp + xp"
   ]
  },
  {
   "cell_type": "code",
   "execution_count": 4,
   "metadata": {},
   "outputs": [
    {
     "name": "stderr",
     "output_type": "stream",
     "text": [
      "127.0.0.1 - - [11/Aug/2020 22:49:53] \"\u001b[37mPOST /f16cb15c-02d1-4bc5-9e26-574497e4708d HTTP/1.1\u001b[0m\" 200 -\n"
     ]
    },
    {
     "name": "stdout",
     "output_type": "stream",
     "text": [
      "trying to send message http://127.0.0.1:5000/ <GetObjectAction:8ceaed05-84bb-46a0-aa38-9b4d5dafcbc1>\n",
      "the old_message is for me!!!\n",
      "Wrapped tensor with id:<UID:2c339b28-581f-4f33-af43-ce2e04de73d2>\n",
      "{\"objType\": \"syft.core.node.common.action.get_object_action.GetObjectResponseMessage\", \"content\": \"{\\\"msgId\\\": {\\\"value\\\": \\\"we2dAuDSTNuRczSdD/iTcA==\\\"}, \\\"obj\\\": {\\\"id\\\": {\\\"value\\\": \\\"LDObKFgfTzOvQ84uBN5z0g==\\\"}, \\\"objType\\\": \\\"syft.lib.torch.uppercase_tensor.TorchTensorWrapper\\\", \\\"data\\\": {\\\"@type\\\": \\\"type.googleapis.com/syft.lib.numpy.TensorProto\\\", \\\"dims\\\": [\\\"3\\\"], \\\"dataType\\\": \\\"INT32\\\", \\\"int32Data\\\": [2, 4, 6]}}, \\\"address\\\": {\\\"hasDomain\\\": true, \\\"domain\\\": {\\\"id\\\": {\\\"value\\\": \\\"8WyxXALRS8WeJldEl+RwjQ==\\\"}}}}\"}\n",
      "assigning id:<UID:d51f7849-178c-4ad7-8313-cf85bf015aa5> type:<class 'torch.Tensor'>\n",
      "tensor([2, 4, 6])\n"
     ]
    },
    {
     "data": {
      "text/plain": [
       "tensor([2, 4, 6])"
      ]
     },
     "execution_count": 4,
     "metadata": {},
     "output_type": "execute_result"
    }
   ],
   "source": [
    "y.get()"
   ]
  },
  {
   "cell_type": "code",
   "execution_count": null,
   "metadata": {},
   "outputs": [],
   "source": []
  },
  {
   "cell_type": "code",
   "execution_count": 12,
   "metadata": {},
   "outputs": [
    {
     "data": {
      "text/plain": [
       "tensor([1, 2, 3])"
      ]
     },
     "execution_count": 12,
     "metadata": {},
     "output_type": "execute_result"
    }
   ],
   "source": [
    "msg.obj"
   ]
  },
  {
   "cell_type": "code",
   "execution_count": 13,
   "metadata": {},
   "outputs": [
    {
     "data": {
      "text/plain": [
       "tensor([1, 2, 3])"
      ]
     },
     "execution_count": 13,
     "metadata": {},
     "output_type": "execute_result"
    }
   ],
   "source": [
    "msg2.obj"
   ]
  },
  {
   "cell_type": "code",
   "execution_count": null,
   "metadata": {},
   "outputs": [],
   "source": []
  },
  {
   "cell_type": "code",
   "execution_count": 4,
   "metadata": {},
   "outputs": [],
   "source": [
    "msg3 = GetObjectAction(obj_id=msg.obj_id, address=msg.address, reply_to=msg.reply_to, msg_id=msg.id)"
   ]
  },
  {
   "cell_type": "code",
   "execution_count": 6,
   "metadata": {},
   "outputs": [
    {
     "data": {
      "text/plain": [
       "<UID:ce118cd7-0b4c-4bf4-bb87-1ef09485a632>"
      ]
     },
     "execution_count": 6,
     "metadata": {},
     "output_type": "execute_result"
    }
   ],
   "source": [
    "msg3.id"
   ]
  },
  {
   "cell_type": "code",
   "execution_count": 7,
   "metadata": {},
   "outputs": [
    {
     "data": {
      "text/plain": [
       "<UID:ce118cd7-0b4c-4bf4-bb87-1ef09485a632>"
      ]
     },
     "execution_count": 7,
     "metadata": {},
     "output_type": "execute_result"
    }
   ],
   "source": [
    "msg.id"
   ]
  },
  {
   "cell_type": "code",
   "execution_count": 5,
   "metadata": {},
   "outputs": [
    {
     "data": {
      "text/plain": [
       "<GetObjectAction:27a9a759-013f-4e51-b87c-6b340264211a>"
      ]
     },
     "execution_count": 5,
     "metadata": {},
     "output_type": "execute_result"
    }
   ],
   "source": []
  },
  {
   "cell_type": "code",
   "execution_count": null,
   "metadata": {},
   "outputs": [],
   "source": []
  },
  {
   "cell_type": "code",
   "execution_count": null,
   "metadata": {},
   "outputs": [],
   "source": []
  },
  {
   "cell_type": "code",
   "execution_count": null,
   "metadata": {},
   "outputs": [],
   "source": []
  },
  {
   "cell_type": "code",
   "execution_count": null,
   "metadata": {},
   "outputs": [],
   "source": []
  },
  {
   "cell_type": "code",
   "execution_count": null,
   "metadata": {},
   "outputs": [],
   "source": []
  },
  {
   "cell_type": "code",
   "execution_count": null,
   "metadata": {},
   "outputs": [],
   "source": []
  },
  {
   "cell_type": "code",
   "execution_count": 2,
   "metadata": {},
   "outputs": [
    {
     "name": "stdout",
     "output_type": "stream",
     "text": [
      "assigning id:<UID:c8009377-eaf8-4363-8a59-f9411ee84db2> type:<class 'torch.Tensor'>\n"
     ]
    }
   ],
   "source": [
    "uid = UID()\n",
    "obj = th.tensor([1,2,3])\n",
    "addr = Address(network=SpecificLocation(), device=SpecificLocation())\n",
    "\n",
    "msg = SaveObjectAction(obj_id=uid, obj=obj, address=addr)"
   ]
  },
  {
   "cell_type": "code",
   "execution_count": 3,
   "metadata": {},
   "outputs": [
    {
     "name": "stdout",
     "output_type": "stream",
     "text": [
      "Wrapped tensor with id:<UID:c8009377-eaf8-4363-8a59-f9411ee84db2>\n",
      "Underlying Wrapper Type:syft.lib.torch.uppercase_tensor.TorchTensorWrapper\n"
     ]
    }
   ],
   "source": [
    "blob = msg.serialize()"
   ]
  },
  {
   "cell_type": "code",
   "execution_count": 5,
   "metadata": {},
   "outputs": [
    {
     "name": "stdout",
     "output_type": "stream",
     "text": [
      "assigning id:<UID:1b0fc5bf-8571-49a4-ab64-161704972b59> type:<class 'torch.Tensor'>\n"
     ]
    }
   ],
   "source": [
    "msg2 = sy.deserialize(blob=blob)"
   ]
  },
  {
   "cell_type": "code",
   "execution_count": 9,
   "metadata": {},
   "outputs": [
    {
     "data": {
      "text/plain": [
       "<SaveObjectAction:b7dacf75-ca97-41e9-9ef5-88c4915d2172>"
      ]
     },
     "execution_count": 9,
     "metadata": {},
     "output_type": "execute_result"
    }
   ],
   "source": [
    "msg2"
   ]
  },
  {
   "cell_type": "code",
   "execution_count": 5,
   "metadata": {},
   "outputs": [],
   "source": [
    "import syft as sy\n",
    "\n",
    "domain = sy.Domain(name=\"duet\")\n",
    "\n",
    "client_metadata = domain.get_metadata_for_client()\n",
    "\n",
    "target_id, name, id = sy.DomainClient.deserialize_client_metadata_from_node(metadata=client_metadata)"
   ]
  },
  {
   "cell_type": "code",
   "execution_count": 1,
   "metadata": {},
   "outputs": [
    {
     "name": "stdout",
     "output_type": "stream",
     "text": [
      "assigning id:<UID:0bfc4a2c-ea54-4810-8885-adf72ed8e24a> type:<class 'torch.Tensor'>\n"
     ]
    }
   ],
   "source": [
    "from syft.core.io.location import SpecificLocation\n",
    "from syft.core.io.address import Address\n",
    "from syft.core.common.uid import UID\n",
    "import uuid"
   ]
  },
  {
   "cell_type": "code",
   "execution_count": 2,
   "metadata": {},
   "outputs": [],
   "source": [
    "uid = UID(value=uuid.UUID(int=333779996850170035686993356951732753684))\n",
    "obj = SpecificLocation(id=uid)"
   ]
  },
  {
   "cell_type": "code",
   "execution_count": 3,
   "metadata": {},
   "outputs": [
    {
     "data": {
      "text/plain": [
       "'..a1514'"
      ]
     },
     "execution_count": 3,
     "metadata": {},
     "output_type": "execute_result"
    }
   ],
   "source": [
    "uid.repr_short()"
   ]
  },
  {
   "cell_type": "code",
   "execution_count": 4,
   "metadata": {},
   "outputs": [],
   "source": [
    "addr = Address()"
   ]
  },
  {
   "cell_type": "code",
   "execution_count": 5,
   "metadata": {},
   "outputs": [],
   "source": [
    "addr.network = uid\n",
    "addr.device = uid"
   ]
  },
  {
   "cell_type": "code",
   "execution_count": 6,
   "metadata": {},
   "outputs": [
    {
     "data": {
      "text/plain": [
       "<Address - Network:..a1514, Device:..a1514>"
      ]
     },
     "execution_count": 6,
     "metadata": {},
     "output_type": "execute_result"
    }
   ],
   "source": [
    "addr"
   ]
  },
  {
   "cell_type": "code",
   "execution_count": null,
   "metadata": {},
   "outputs": [],
   "source": []
  }
 ],
 "metadata": {
  "kernelspec": {
   "display_name": "Python 3",
   "language": "python",
   "name": "python3"
  },
  "language_info": {
   "codemirror_mode": {
    "name": "ipython",
    "version": 3
   },
   "file_extension": ".py",
   "mimetype": "text/x-python",
   "name": "python",
   "nbconvert_exporter": "python",
   "pygments_lexer": "ipython3",
   "version": "3.8.1"
  }
 },
 "nbformat": 4,
 "nbformat_minor": 4
}

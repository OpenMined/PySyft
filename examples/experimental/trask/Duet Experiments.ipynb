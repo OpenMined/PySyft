{
 "cells": [
  {
   "cell_type": "code",
   "execution_count": null,
   "metadata": {},
   "outputs": [],
   "source": [
    "import syft as sy\n",
    "import torch as th\n",
    "sy.VERBOSE = False"
   ]
  },
  {
   "cell_type": "code",
   "execution_count": 2,
   "metadata": {},
   "outputs": [
    {
     "name": "stdout",
     "output_type": "stream",
     "text": [
      "Domain with Root Key: b'>\\xe1\\x91QQW9\\xfb\\x8f UJ!\\xde\\x9c.\\x15\\xb6Bl\\xa5\\x83\\xde]\\xc3\\xda[\\xe8\\x04\\x9c\\xf9\\xf8'\n",
      "🎤  🎸  ♪♪♪ duet started ♫♫♫  🎻  🎹\n",
      "\n",
      "♫♫♫ >\u001b[93m DISCLAIMER\u001b[0m:\u001b[1m Duet is an experimental feature currently \n",
      "♫♫♫ > in alpha. Do not use this to protect real-world data.\n",
      "\u001b[0m♫♫♫ >\n",
      "♫♫♫ > Duet Node ID:62e69ba3-30ed-4cc1-83fc-5884f8e71fc6\n",
      "♫♫♫ > URL:http://127.0.0.1:5000/\n",
      "♫♫♫ > Connecting...\n"
     ]
    },
    {
     "name": "stderr",
     "output_type": "stream",
     "text": [
      "127.0.0.1 - - [15/Aug/2020 22:21:29] \"\u001b[37mGET / HTTP/1.1\u001b[0m\" 200 -\n"
     ]
    },
    {
     "name": "stdout",
     "output_type": "stream",
     "text": [
      "♫♫♫ > Connected!\n"
     ]
    }
   ],
   "source": [
    "duet = sy.Duet()"
   ]
  },
  {
   "cell_type": "code",
   "execution_count": 5,
   "metadata": {},
   "outputs": [
    {
     "name": "stderr",
     "output_type": "stream",
     "text": [
      "127.0.0.1 - - [15/Aug/2020 22:22:04] \"\u001b[37mPOST /62e69ba3-30ed-4cc1-83fc-5884f8e71fc6 HTTP/1.1\u001b[0m\" 200 -\n",
      "127.0.0.1 - - [15/Aug/2020 22:22:04] \"\u001b[37mPOST /62e69ba3-30ed-4cc1-83fc-5884f8e71fc6 HTTP/1.1\u001b[0m\" 200 -\n",
      "127.0.0.1 - - [15/Aug/2020 22:22:04] \"\u001b[37mPOST /62e69ba3-30ed-4cc1-83fc-5884f8e71fc6 HTTP/1.1\u001b[0m\" 200 -\n"
     ]
    },
    {
     "name": "stdout",
     "output_type": "stream",
     "text": [
      "id at location:<UID:0f8c3567-fade-4519-934d-fcce8bef1740>\n",
      "id at location:<UID:0f8c3567-fade-4519-934d-fcce8bef1740>\n",
      "id at location:<UID:0f8c3567-fade-4519-934d-fcce8bef1740>\n"
     ]
    }
   ],
   "source": [
    "x = th.tensor([1,2,3])\n",
    "xp = x.send(duet)\n",
    "yp = xp + xp\n",
    "y = xp.get()"
   ]
  },
  {
   "cell_type": "code",
   "execution_count": 6,
   "metadata": {},
   "outputs": [
    {
     "data": {
      "text/plain": [
       "tensor([1, 2, 3])"
      ]
     },
     "execution_count": 6,
     "metadata": {},
     "output_type": "execute_result"
    }
   ],
   "source": [
    "y"
   ]
  },
  {
   "cell_type": "code",
   "execution_count": null,
   "metadata": {},
   "outputs": [],
   "source": []
  }
 ],
 "metadata": {
  "kernelspec": {
   "display_name": "Python 3",
   "language": "python",
   "name": "python3"
  },
  "language_info": {
   "codemirror_mode": {
    "name": "ipython",
    "version": 3
   },
   "file_extension": ".py",
   "mimetype": "text/x-python",
   "name": "python",
   "nbconvert_exporter": "python",
   "pygments_lexer": "ipython3",
   "version": "3.8.1"
  }
 },
 "nbformat": 4,
 "nbformat_minor": 4
}

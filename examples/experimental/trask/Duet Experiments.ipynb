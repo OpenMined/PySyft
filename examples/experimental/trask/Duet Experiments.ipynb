{
 "cells": [
  {
   "cell_type": "code",
   "execution_count": 1,
   "metadata": {},
   "outputs": [
    {
     "name": "stderr",
     "output_type": "stream",
     "text": [
      "/Users/atrask/opt/anaconda3/envs/syft/lib/python3.8/site-packages/torch/distributed/distributed_c10d.py:102: UserWarning: torch.distributed.reduce_op is deprecated, please use torch.distributed.ReduceOp instead\n",
      "  warnings.warn(\"torch.distributed.reduce_op is deprecated, please use \"\n"
     ]
    },
    {
     "name": "stdout",
     "output_type": "stream",
     "text": [
      "assigning id:<UID:7001f768-0876-424a-96d2-a281866c8c79> type:<class 'torch.Tensor'>\n",
      "setting attr:TensorPointer\n",
      "setting attr:LinearPointer\n",
      "setting attr:ParameterPointer\n"
     ]
    }
   ],
   "source": [
    "import syft as sy\n",
    "import torch as th\n",
    "import syft\n",
    "\n",
    "from syft.core.io.location import SpecificLocation\n",
    "from syft.core.io.address import Address\n",
    "from syft.core.common.uid import UID\n",
    "from syft.core.node.common.action.run_class_method_action import RunClassMethodAction\n",
    "from syft.proto.core.node.common.action.run_class_method_pb2 import RunClassMethodAction as RunClassMethodAction_PB"
   ]
  },
  {
   "cell_type": "code",
   "execution_count": 2,
   "metadata": {},
   "outputs": [
    {
     "name": "stdout",
     "output_type": "stream",
     "text": [
      "> Creating 🍰 bob (VirtualMachine@<UID:🚆🙏>)\n",
      "setting attr:TensorPointer\n",
      "setting attr:LinearPointer\n",
      "setting attr:ParameterPointer\n",
      "> Creating 📡 [🍰] bob Client (VirtualMachineClient@<UID:🚆🙏>)\n",
      "assigning id:<UID:db279195-bcd1-43cd-a99c-3f1fae1368f5> type:<class 'torch.Tensor'>\n",
      "> Creating ✉️  (SaveObjectAction)\n",
      "> 📡 [🍰] bob Client (VirtualMachineClient@<UID:🚆🙏>) Signing ✉️  (SaveObjectAction) with 🛺\n",
      "> Signing with 🛺\n",
      "Wrapped tensor with id:<UID:db279195-bcd1-43cd-a99c-3f1fae1368f5>\n",
      "> Creating Signed ✉️ 🔏 (SignedImmediateSyftMessageWithoutReply)\n",
      "> Sending ✉️ 🔏 (SignedImmediateSyftMessageWithoutReply) 📡 [🍰] bob Client (VirtualMachineClient@<UID:🚆🙏>) ➡️  💠 [🍰] bob Client (Address\n",
      "> Routing ✉️ 🔏 (SignedImmediateSyftMessageWithoutReply) via 🛣️  (SoloRoute)\n",
      "> Received ✉️ 🔏 (SignedImmediateSyftMessageWithoutReply) @ 🍰 bob (VirtualMachine@<UID:🚆🙏>)\n",
      "> Processing 📨 ✉️ 🔏 (SignedImmediateSyftMessageWithoutReply) @ 🍰 bob (VirtualMachine@<UID:🚆🙏>)\n",
      "> Recipient Found ✉️ 🔏 (SignedImmediateSyftMessageWithoutReply)@<UID:🚆🙏> == 🍰 bob (VirtualMachine@<UID:🚆🙏>)\n",
      "assigning id:<UID:12274095-61be-4ae7-bd07-f4d04e144bea> type:<class 'torch.Tensor'>\n",
      "> Creating ✉️  (SaveObjectAction)\n"
     ]
    }
   ],
   "source": [
    "bob = sy.VirtualMachine(name=\"bob\").get_client()\n",
    "x = th.tensor([1,2,3]).send(bob)"
   ]
  },
  {
   "cell_type": "code",
   "execution_count": 3,
   "metadata": {},
   "outputs": [
    {
     "name": "stdout",
     "output_type": "stream",
     "text": [
      "> Creating ✉️  (RunClassMethodAction)\n",
      "id at location:<UID:fd26286f-e42e-4b28-96cc-605b1343a054>\n",
      "> 📡 [🍰] bob Client (VirtualMachineClient@<UID:🚆🙏>) Signing ✉️  (RunClassMethodAction) with 🛺\n",
      "> Signing with 🛺\n",
      "> Creating Signed ✉️ 🔏 (SignedImmediateSyftMessageWithoutReply)\n",
      "> Sending ✉️ 🔏 (SignedImmediateSyftMessageWithoutReply) 📡 [🍰] bob Client (VirtualMachineClient@<UID:🚆🙏>) ➡️  💠 [🍰] bob Client (Address\n",
      "> Routing ✉️ 🔏 (SignedImmediateSyftMessageWithoutReply) via 🛣️  (SoloRoute)\n",
      "> Received ✉️ 🔏 (SignedImmediateSyftMessageWithoutReply) @ 🍰 bob (VirtualMachine@<UID:🚆🙏>)\n",
      "> Processing 📨 ✉️ 🔏 (SignedImmediateSyftMessageWithoutReply) @ 🍰 bob (VirtualMachine@<UID:🚆🙏>)\n",
      "> Recipient Found ✉️ 🔏 (SignedImmediateSyftMessageWithoutReply)@<UID:🚆🙏> == 🍰 bob (VirtualMachine@<UID:🚆🙏>)\n",
      "> Creating ✉️  (RunClassMethodAction)\n",
      "id at location:<UID:fd26286f-e42e-4b28-96cc-605b1343a054>\n"
     ]
    }
   ],
   "source": [
    "y = x + x"
   ]
  },
  {
   "cell_type": "code",
   "execution_count": 4,
   "metadata": {},
   "outputs": [
    {
     "name": "stdout",
     "output_type": "stream",
     "text": [
      "> Creating ✉️  (GetObjectAction)\n",
      "> 📡 [🍰] bob Client (VirtualMachineClient@<UID:🚆🙏>) Signing ✉️  (GetObjectAction) with 🛺\n",
      "> Signing with 🛺\n",
      "> Creating Signed ✉️ 🔏 (SignedImmediateSyftMessageWithReply)\n",
      "> Processing 📨 ✉️ 🔏 (SignedImmediateSyftMessageWithReply) @ 🍰 bob (VirtualMachine@<UID:🚆🙏>)\n",
      "> Recipient Found ✉️ 🔏 (SignedImmediateSyftMessageWithReply)@<UID:🚆🙏> == 🍰 bob (VirtualMachine@<UID:🚆🙏>)\n",
      "> Creating ✉️  (GetObjectAction)\n",
      "> Creating ✉️  (GetObjectResponseMessage)\n",
      "> Signing with 🚚\n",
      "Wrapped tensor with id:<UID:fd26286f-e42e-4b28-96cc-605b1343a054>\n",
      "> Creating Signed ✉️ 🔏 (SignedImmediateSyftMessageWithoutReply)\n",
      "> 🍰 bob (VirtualMachine@<UID:🚆🙏>) Signing ✉️ 🔏 (SignedImmediateSyftMessageWithoutReply) with 🚚\n",
      "assigning id:<UID:80e3343a-3e74-4711-9cec-7ad2db56612f> type:<class 'torch.Tensor'>\n",
      "> Creating ✉️  (GetObjectResponseMessage)\n"
     ]
    },
    {
     "data": {
      "text/plain": [
       "tensor([2, 4, 6])"
      ]
     },
     "execution_count": 4,
     "metadata": {},
     "output_type": "execute_result"
    }
   ],
   "source": [
    "y.get()"
   ]
  },
  {
   "cell_type": "code",
   "execution_count": 5,
   "metadata": {},
   "outputs": [
    {
     "name": "stdout",
     "output_type": "stream",
     "text": [
      "> Creating 🏰 duet (Domain@<UID:🚲🛥>)\n",
      "Domain with Root Key: b'\\x97\\xf0(\\xa7\\xb9nWl\\xe2F\\x1b\\x15S\\xc7\\x9c1\\t\\xda\\xb9\\xa4\\xc6\\xf0\\xc1\\x95(x\\xa7\\xea\\xe5\\x9d\\x17\\x14'\n",
      "🎤  🎸  ♪♪♪ duet started ♫♫♫  🎻  🎹\n",
      "\n",
      "♫♫♫ >\u001b[93m DISCLAIMER\u001b[0m:\u001b[1m Duet is an experimental feature currently \n",
      "♫♫♫ > in alpha. Do not use this to protect real-world data.\n",
      "\u001b[0m♫♫♫ >\n",
      "♫♫♫ > Duet Node ID:2a652335-5a00-4410-b5c3-8ce0d6fcd0c9\n",
      "♫♫♫ > URL:http://127.0.0.1:5000/\n",
      "♫♫♫ > Connecting...\n"
     ]
    },
    {
     "name": "stderr",
     "output_type": "stream",
     "text": [
      "127.0.0.1 - - [15/Aug/2020 16:56:50] \"\u001b[37mGET / HTTP/1.1\u001b[0m\" 200 -\n"
     ]
    },
    {
     "name": "stdout",
     "output_type": "stream",
     "text": [
      "setting attr:TensorPointer\n",
      "setting attr:LinearPointer\n",
      "setting attr:ParameterPointer\n",
      "> Creating 📡 [🏰] duet Client (Duet@<UID:🚲🛥>)\n",
      "♫♫♫ > Connected!\n"
     ]
    }
   ],
   "source": [
    "import syft as sy\n",
    "import torch as th\n",
    "duet = sy.Duet()"
   ]
  },
  {
   "cell_type": "code",
   "execution_count": 6,
   "metadata": {},
   "outputs": [
    {
     "name": "stderr",
     "output_type": "stream",
     "text": [
      "127.0.0.1 - - [15/Aug/2020 16:56:51] \"\u001b[37mPOST /2a652335-5a00-4410-b5c3-8ce0d6fcd0c9 HTTP/1.1\u001b[0m\" 200 -\n"
     ]
    },
    {
     "name": "stdout",
     "output_type": "stream",
     "text": [
      "assigning id:<UID:920e2765-19a3-4f16-af82-cc909ee2210a> type:<class 'torch.Tensor'>\n",
      "> Creating ✉️  (SaveObjectAction)\n",
      "> 📡 [🏰] duet Client (Duet@<UID:🚲🛥>) Signing ✉️  (SaveObjectAction) with 🛭\n",
      "> Signing with 🛭\n",
      "Wrapped tensor with id:<UID:920e2765-19a3-4f16-af82-cc909ee2210a>\n",
      "> Creating Signed ✉️ 🔏 (SignedImmediateSyftMessageWithoutReply)\n",
      "> Sending ✉️ 🔏 (SignedImmediateSyftMessageWithoutReply) 📡 [🏰] duet Client (Duet@<UID:🚲🛥>) ➡️  💠 [🏰] duet Client (Address\n",
      "> Routing ✉️ 🔏 (SignedImmediateSyftMessageWithoutReply) via 🛣️  (SoloRoute)\n",
      "> ✉️ 🔏 -> Proto 🔢\n",
      "assigning id:<UID:9db00b4d-59df-46b0-ad32-ab754efb6bbf> type:<class 'torch.Tensor'>\n",
      "> Creating ✉️  (SaveObjectAction)\n",
      "> Creating Signed ✉️ 🔏 (SignedImmediateSyftMessageWithoutReply)\n",
      "> ✉️ 🔏 <- 🔢 Proto\n",
      "> Received ✉️ 🔏 (SignedImmediateSyftMessageWithoutReply) @ 🏰 duet (Domain@<UID:🚲🛥>)\n",
      "> Processing 📨 ✉️ 🔏 (SignedImmediateSyftMessageWithoutReply) @ 🏰 duet (Domain@<UID:🚲🛥>)\n",
      "> Recipient Found ✉️ 🔏 (SignedImmediateSyftMessageWithoutReply)@<UID:🚲🛥> == 🏰 duet (Domain@<UID:🚲🛥>)\n",
      "assigning id:<UID:8d07ac59-98f1-4901-99d6-856ce06d6db9> type:<class 'torch.Tensor'>\n",
      "> Creating ✉️  (SaveObjectAction)\n"
     ]
    }
   ],
   "source": [
    "x = th.tensor([1,2,3])\n",
    "xp = x.send(duet)\n",
    "# y = xp.get()"
   ]
  },
  {
   "cell_type": "code",
   "execution_count": 7,
   "metadata": {},
   "outputs": [
    {
     "name": "stderr",
     "output_type": "stream",
     "text": [
      "127.0.0.1 - - [15/Aug/2020 16:56:52] \"\u001b[37mPOST /2a652335-5a00-4410-b5c3-8ce0d6fcd0c9 HTTP/1.1\u001b[0m\" 200 -\n"
     ]
    },
    {
     "name": "stdout",
     "output_type": "stream",
     "text": [
      "> Creating ✉️  (RunClassMethodAction)\n",
      "id at location:<UID:1e5d562e-ec18-48f1-9008-92f817cacff3>\n",
      "> 📡 [🏰] duet Client (Duet@<UID:🚲🛥>) Signing ✉️  (RunClassMethodAction) with 🛭\n",
      "> Signing with 🛭\n",
      "> Creating Signed ✉️ 🔏 (SignedImmediateSyftMessageWithoutReply)\n",
      "> Sending ✉️ 🔏 (SignedImmediateSyftMessageWithoutReply) 📡 [🏰] duet Client (Duet@<UID:🚲🛥>) ➡️  💠 [🏰] duet Client (Address\n",
      "> Routing ✉️ 🔏 (SignedImmediateSyftMessageWithoutReply) via 🛣️  (SoloRoute)\n",
      "> ✉️ 🔏 -> Proto 🔢\n",
      "> Creating ✉️  (RunClassMethodAction)\n",
      "id at location:<UID:1e5d562e-ec18-48f1-9008-92f817cacff3>\n",
      "> Creating Signed ✉️ 🔏 (SignedImmediateSyftMessageWithoutReply)\n",
      "> ✉️ 🔏 <- 🔢 Proto\n",
      "> Received ✉️ 🔏 (SignedImmediateSyftMessageWithoutReply) @ 🏰 duet (Domain@<UID:🚲🛥>)\n",
      "> Processing 📨 ✉️ 🔏 (SignedImmediateSyftMessageWithoutReply) @ 🏰 duet (Domain@<UID:🚲🛥>)\n",
      "> Recipient Found ✉️ 🔏 (SignedImmediateSyftMessageWithoutReply)@<UID:🚲🛥> == 🏰 duet (Domain@<UID:🚲🛥>)\n",
      "> Creating ✉️  (RunClassMethodAction)\n",
      "id at location:<UID:1e5d562e-ec18-48f1-9008-92f817cacff3>\n"
     ]
    }
   ],
   "source": [
    "y = xp + xp"
   ]
  },
  {
   "cell_type": "code",
   "execution_count": 8,
   "metadata": {},
   "outputs": [
    {
     "name": "stderr",
     "output_type": "stream",
     "text": [
      "127.0.0.1 - - [15/Aug/2020 16:56:54] \"\u001b[37mPOST /2a652335-5a00-4410-b5c3-8ce0d6fcd0c9 HTTP/1.1\u001b[0m\" 200 -\n"
     ]
    },
    {
     "name": "stdout",
     "output_type": "stream",
     "text": [
      "> Creating ✉️  (GetObjectAction)\n",
      "> 📡 [🏰] duet Client (Duet@<UID:🚲🛥>) Signing ✉️  (GetObjectAction) with 🛭\n",
      "> Signing with 🛭\n",
      "> Creating Signed ✉️ 🔏 (SignedImmediateSyftMessageWithReply)\n",
      "> ✉️ 🔏 -> Proto 🔢\n",
      "> Creating ✉️  (GetObjectAction)\n",
      "> Creating Signed ✉️ 🔏 (SignedImmediateSyftMessageWithReply)\n",
      "> ✉️ 🔏 <- 🔢 Proto\n",
      "> Processing 📨 ✉️ 🔏 (SignedImmediateSyftMessageWithReply) @ 🏰 duet (Domain@<UID:🚲🛥>)\n",
      "> Recipient Found ✉️ 🔏 (SignedImmediateSyftMessageWithReply)@<UID:🚲🛥> == 🏰 duet (Domain@<UID:🚲🛥>)\n",
      "> Creating ✉️  (GetObjectAction)\n",
      "> Creating ✉️  (GetObjectResponseMessage)\n",
      "> Signing with 🛅\n",
      "Wrapped tensor with id:<UID:1e5d562e-ec18-48f1-9008-92f817cacff3>\n",
      "> Creating Signed ✉️ 🔏 (SignedImmediateSyftMessageWithoutReply)\n",
      "> 🏰 duet (Domain@<UID:🚲🛥>) Signing ✉️ 🔏 (SignedImmediateSyftMessageWithoutReply) with 🛅\n",
      "> ✉️ 🔏 -> Proto 🔢\n",
      "assigning id:<UID:387fd11c-2aeb-4294-a243-653393c5f2bf> type:<class 'torch.Tensor'>\n",
      "> Creating ✉️  (GetObjectResponseMessage)\n",
      "> Creating Signed ✉️ 🔏 (SignedImmediateSyftMessageWithoutReply)\n",
      "> ✉️ 🔏 <- 🔢 Proto\n",
      "assigning id:<UID:4c5da983-73a6-4d69-a903-d97ddc873107> type:<class 'torch.Tensor'>\n",
      "> Creating ✉️  (GetObjectResponseMessage)\n"
     ]
    },
    {
     "data": {
      "text/plain": [
       "tensor([2, 4, 6])"
      ]
     },
     "execution_count": 8,
     "metadata": {},
     "output_type": "execute_result"
    }
   ],
   "source": [
    "y.get()"
   ]
  },
  {
   "cell_type": "code",
   "execution_count": null,
   "metadata": {},
   "outputs": [],
   "source": []
  },
  {
   "cell_type": "code",
   "execution_count": 12,
   "metadata": {},
   "outputs": [
    {
     "data": {
      "text/plain": [
       "tensor([1, 2, 3])"
      ]
     },
     "execution_count": 12,
     "metadata": {},
     "output_type": "execute_result"
    }
   ],
   "source": [
    "msg.obj"
   ]
  },
  {
   "cell_type": "code",
   "execution_count": 13,
   "metadata": {},
   "outputs": [
    {
     "data": {
      "text/plain": [
       "tensor([1, 2, 3])"
      ]
     },
     "execution_count": 13,
     "metadata": {},
     "output_type": "execute_result"
    }
   ],
   "source": [
    "msg2.obj"
   ]
  },
  {
   "cell_type": "code",
   "execution_count": null,
   "metadata": {},
   "outputs": [],
   "source": []
  },
  {
   "cell_type": "code",
   "execution_count": 4,
   "metadata": {},
   "outputs": [],
   "source": [
    "msg3 = GetObjectAction(obj_id=msg.obj_id, address=msg.address, reply_to=msg.reply_to, msg_id=msg.id)"
   ]
  },
  {
   "cell_type": "code",
   "execution_count": 6,
   "metadata": {},
   "outputs": [
    {
     "data": {
      "text/plain": [
       "<UID:ce118cd7-0b4c-4bf4-bb87-1ef09485a632>"
      ]
     },
     "execution_count": 6,
     "metadata": {},
     "output_type": "execute_result"
    }
   ],
   "source": [
    "msg3.id"
   ]
  },
  {
   "cell_type": "code",
   "execution_count": 7,
   "metadata": {},
   "outputs": [
    {
     "data": {
      "text/plain": [
       "<UID:ce118cd7-0b4c-4bf4-bb87-1ef09485a632>"
      ]
     },
     "execution_count": 7,
     "metadata": {},
     "output_type": "execute_result"
    }
   ],
   "source": [
    "msg.id"
   ]
  },
  {
   "cell_type": "code",
   "execution_count": 5,
   "metadata": {},
   "outputs": [
    {
     "data": {
      "text/plain": [
       "<GetObjectAction:27a9a759-013f-4e51-b87c-6b340264211a>"
      ]
     },
     "execution_count": 5,
     "metadata": {},
     "output_type": "execute_result"
    }
   ],
   "source": []
  },
  {
   "cell_type": "code",
   "execution_count": null,
   "metadata": {},
   "outputs": [],
   "source": []
  },
  {
   "cell_type": "code",
   "execution_count": null,
   "metadata": {},
   "outputs": [],
   "source": []
  },
  {
   "cell_type": "code",
   "execution_count": null,
   "metadata": {},
   "outputs": [],
   "source": []
  },
  {
   "cell_type": "code",
   "execution_count": null,
   "metadata": {},
   "outputs": [],
   "source": []
  },
  {
   "cell_type": "code",
   "execution_count": null,
   "metadata": {},
   "outputs": [],
   "source": []
  },
  {
   "cell_type": "code",
   "execution_count": null,
   "metadata": {},
   "outputs": [],
   "source": []
  },
  {
   "cell_type": "code",
   "execution_count": 2,
   "metadata": {},
   "outputs": [
    {
     "name": "stdout",
     "output_type": "stream",
     "text": [
      "assigning id:<UID:c8009377-eaf8-4363-8a59-f9411ee84db2> type:<class 'torch.Tensor'>\n"
     ]
    }
   ],
   "source": [
    "uid = UID()\n",
    "obj = th.tensor([1,2,3])\n",
    "addr = Address(network=SpecificLocation(), device=SpecificLocation())\n",
    "\n",
    "msg = SaveObjectAction(obj_id=uid, obj=obj, address=addr)"
   ]
  },
  {
   "cell_type": "code",
   "execution_count": 3,
   "metadata": {},
   "outputs": [
    {
     "name": "stdout",
     "output_type": "stream",
     "text": [
      "Wrapped tensor with id:<UID:c8009377-eaf8-4363-8a59-f9411ee84db2>\n",
      "Underlying Wrapper Type:syft.lib.torch.uppercase_tensor.TorchTensorWrapper\n"
     ]
    }
   ],
   "source": [
    "blob = msg.serialize()"
   ]
  },
  {
   "cell_type": "code",
   "execution_count": 5,
   "metadata": {},
   "outputs": [
    {
     "name": "stdout",
     "output_type": "stream",
     "text": [
      "assigning id:<UID:1b0fc5bf-8571-49a4-ab64-161704972b59> type:<class 'torch.Tensor'>\n"
     ]
    }
   ],
   "source": [
    "msg2 = sy.deserialize(blob=blob)"
   ]
  },
  {
   "cell_type": "code",
   "execution_count": 9,
   "metadata": {},
   "outputs": [
    {
     "data": {
      "text/plain": [
       "<SaveObjectAction:b7dacf75-ca97-41e9-9ef5-88c4915d2172>"
      ]
     },
     "execution_count": 9,
     "metadata": {},
     "output_type": "execute_result"
    }
   ],
   "source": [
    "msg2"
   ]
  },
  {
   "cell_type": "code",
   "execution_count": 5,
   "metadata": {},
   "outputs": [],
   "source": [
    "import syft as sy\n",
    "\n",
    "domain = sy.Domain(name=\"duet\")\n",
    "\n",
    "client_metadata = domain.get_metadata_for_client()\n",
    "\n",
    "target_id, name, id = sy.DomainClient.deserialize_client_metadata_from_node(metadata=client_metadata)"
   ]
  },
  {
   "cell_type": "code",
   "execution_count": 1,
   "metadata": {},
   "outputs": [
    {
     "name": "stdout",
     "output_type": "stream",
     "text": [
      "assigning id:<UID:0bfc4a2c-ea54-4810-8885-adf72ed8e24a> type:<class 'torch.Tensor'>\n"
     ]
    }
   ],
   "source": [
    "from syft.core.io.location import SpecificLocation\n",
    "from syft.core.io.address import Address\n",
    "from syft.core.common.uid import UID\n",
    "import uuid"
   ]
  },
  {
   "cell_type": "code",
   "execution_count": 2,
   "metadata": {},
   "outputs": [],
   "source": [
    "uid = UID(value=uuid.UUID(int=333779996850170035686993356951732753684))\n",
    "obj = SpecificLocation(id=uid)"
   ]
  },
  {
   "cell_type": "code",
   "execution_count": 3,
   "metadata": {},
   "outputs": [
    {
     "data": {
      "text/plain": [
       "'..a1514'"
      ]
     },
     "execution_count": 3,
     "metadata": {},
     "output_type": "execute_result"
    }
   ],
   "source": [
    "uid.repr_short()"
   ]
  },
  {
   "cell_type": "code",
   "execution_count": 4,
   "metadata": {},
   "outputs": [],
   "source": [
    "addr = Address()"
   ]
  },
  {
   "cell_type": "code",
   "execution_count": 5,
   "metadata": {},
   "outputs": [],
   "source": [
    "addr.network = uid\n",
    "addr.device = uid"
   ]
  },
  {
   "cell_type": "code",
   "execution_count": 6,
   "metadata": {},
   "outputs": [
    {
     "data": {
      "text/plain": [
       "<Address - Network:..a1514, Device:..a1514>"
      ]
     },
     "execution_count": 6,
     "metadata": {},
     "output_type": "execute_result"
    }
   ],
   "source": [
    "addr"
   ]
  },
  {
   "cell_type": "code",
   "execution_count": null,
   "metadata": {},
   "outputs": [],
   "source": []
  }
 ],
 "metadata": {
  "kernelspec": {
   "display_name": "Python 3",
   "language": "python",
   "name": "python3"
  },
  "language_info": {
   "codemirror_mode": {
    "name": "ipython",
    "version": 3
   },
   "file_extension": ".py",
   "mimetype": "text/x-python",
   "name": "python",
   "nbconvert_exporter": "python",
   "pygments_lexer": "ipython3",
   "version": "3.8.1"
  }
 },
 "nbformat": 4,
 "nbformat_minor": 4
}

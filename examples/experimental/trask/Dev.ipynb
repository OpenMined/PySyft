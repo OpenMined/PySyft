{
 "cells": [
  {
   "cell_type": "code",
   "execution_count": 1,
   "metadata": {},
   "outputs": [
    {
     "name": "stdout",
     "output_type": "stream",
     "text": [
      "assigning id:<UID:91ff36b9-8d24-47d2-8098-98994f703765> type:<class 'torch.Tensor'>\n"
     ]
    }
   ],
   "source": [
    "import syft as sy\n",
    "from syft import grid as gr\n",
    "import torch as th"
   ]
  },
  {
   "cell_type": "code",
   "execution_count": 2,
   "metadata": {},
   "outputs": [],
   "source": [
    "from syft.lib import lib_ast"
   ]
  },
  {
   "cell_type": "code",
   "execution_count": 3,
   "metadata": {},
   "outputs": [],
   "source": [
    "bob = sy.VirtualMachine(name=\"Bob\")\n",
    "client = bob.get_client()"
   ]
  },
  {
   "cell_type": "code",
   "execution_count": 4,
   "metadata": {},
   "outputs": [
    {
     "name": "stdout",
     "output_type": "stream",
     "text": [
      "call torch.ones on client <VirtualMachineClient id:Bob>\n",
      "the message is for me!!!\n"
     ]
    }
   ],
   "source": [
    "out = client.torch.ones(2,3)"
   ]
  },
  {
   "cell_type": "code",
   "execution_count": 5,
   "metadata": {},
   "outputs": [
    {
     "name": "stdout",
     "output_type": "stream",
     "text": [
      "the message is for me!!!\n",
      "torch.Tensor.__add__\n",
      "<syft.ast.klass.torch.TensorPointer object at 0x7fd3a0bc0fd0>\n",
      "(<syft.ast.klass.torch.TensorPointer object at 0x7fd3a0bc0fd0>,)\n",
      "{}\n",
      "<UID:033d007c-77e8-4821-ad2d-d0b5bf6ea27b>\n"
     ]
    }
   ],
   "source": [
    "y = out + out"
   ]
  },
  {
   "cell_type": "code",
   "execution_count": 6,
   "metadata": {},
   "outputs": [
    {
     "name": "stdout",
     "output_type": "stream",
     "text": [
      "Deleted:<syft.ast.klass.torch.TensorPointer object at 0x7fd3a0bc0ca0>\n",
      "the old_message is for me!!!\n"
     ]
    }
   ],
   "source": [
    "del y"
   ]
  },
  {
   "cell_type": "code",
   "execution_count": null,
   "metadata": {},
   "outputs": [],
   "source": []
  },
  {
   "cell_type": "code",
   "execution_count": 7,
   "metadata": {},
   "outputs": [
    {
     "data": {
      "text/plain": [
       "{<UID:8aef024a-695c-4fb8-b75b-787bdcfcaa0b>: <Storable:tensor([[1., 1., 1.],    [1., 1., 1.]])>}"
      ]
     },
     "execution_count": 7,
     "metadata": {},
     "output_type": "execute_result"
    }
   ],
   "source": [
    "bob.store"
   ]
  },
  {
   "cell_type": "code",
   "execution_count": 8,
   "metadata": {},
   "outputs": [],
   "source": [
    "_alice = sy.VirtualMachine(name=\"Alice\")\n",
    "alice = _alice.get_client()\n"
   ]
  },
  {
   "cell_type": "code",
   "execution_count": 9,
   "metadata": {},
   "outputs": [
    {
     "name": "stdout",
     "output_type": "stream",
     "text": [
      "call torch.zeros on client <VirtualMachineClient id:Alice>\n",
      "the message is for me!!!\n"
     ]
    }
   ],
   "source": [
    "p = alice.torch.zeros(3,4)"
   ]
  },
  {
   "cell_type": "code",
   "execution_count": null,
   "metadata": {},
   "outputs": [],
   "source": []
  }
 ],
 "metadata": {
  "kernelspec": {
   "display_name": "Python 3",
   "language": "python",
   "name": "python3"
  },
  "language_info": {
   "codemirror_mode": {
    "name": "ipython",
    "version": 3
   },
   "file_extension": ".py",
   "mimetype": "text/x-python",
   "name": "python",
   "nbconvert_exporter": "python",
   "pygments_lexer": "ipython3",
   "version": "3.7.3"
  }
 },
 "nbformat": 4,
 "nbformat_minor": 4
}

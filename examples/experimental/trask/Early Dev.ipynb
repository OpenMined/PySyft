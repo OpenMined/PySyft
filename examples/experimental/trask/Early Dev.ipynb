{
 "cells": [
  {
   "cell_type": "code",
   "execution_count": 1,
   "metadata": {},
   "outputs": [
    {
     "name": "stderr",
     "output_type": "stream",
     "text": [
      "/Users/madhavajay/.local/share/virtualenvs/PySyft-lHlz_cKe/lib/python3.8/site-packages/torch/distributed/distributed_c10d.py:125: UserWarning: torch.distributed.reduce_op is deprecated, please use torch.distributed.ReduceOp instead\n",
      "  warnings.warn(\"torch.distributed.reduce_op is deprecated, please use \"\n"
     ]
    },
    {
     "name": "stdout",
     "output_type": "stream",
     "text": [
      "assigning id:<UID:349550a8-dbd2-4517-95c7-1d633d7e5f84> type:<class 'torch.Tensor'>\n",
      "setting attr:TensorPointer\n",
      "setting attr:LinearPointer\n",
      "setting attr:ParameterPointer\n"
     ]
    }
   ],
   "source": [
    "import syft as sy"
   ]
  },
  {
   "cell_type": "markdown",
   "metadata": {},
   "source": [
    "### Test 1: Send a Message from a VM Client to a VM"
   ]
  },
  {
   "cell_type": "code",
   "execution_count": 2,
   "metadata": {},
   "outputs": [
    {
     "name": "stdout",
     "output_type": "stream",
     "text": [
      "> Creating 🗃️ (MemoryStore) {}\n",
      "> Creating 🍰 Jolly Varahamihira (VirtualMachine)@<UID:🚉🚋>\n"
     ]
    }
   ],
   "source": [
    "bob_vm = sy.VirtualMachine()"
   ]
  },
  {
   "cell_type": "code",
   "execution_count": 3,
   "metadata": {},
   "outputs": [
    {
     "name": "stdout",
     "output_type": "stream",
     "text": [
      "setting attr:TensorPointer\n",
      "setting attr:LinearPointer\n",
      "setting attr:ParameterPointer\n",
      "> Creating 📡 [🍰] Jolly Varahamihira Client (VirtualMachineClient)@<UID:🚉🚋>\n",
      "🔑 🛷 b'h\\xf6\\xbd\\xa1\\xd6]\\xc8j\\xed:\\xad\\x9b\\x9cT\\xa1E\\xd6\\xf1\\xf9\\xf5\\x02pl\\x80X\\xd1\\xdc\\xa7.\\x82\\xa9\\xe5'\n",
      "🔑 🝖🗝 🛷 b'h\\xf6\\xbd\\xa1\\xd6]\\xc8j\\xed:\\xad\\x9b\\x9cT\\xa1E\\xd6\\xf1\\xf9\\xf5\\x02pl\\x80X\\xd1\\xdc\\xa7.\\x82\\xa9\\xe5'\n"
     ]
    }
   ],
   "source": [
    "bob_vm_client = bob_vm.get_root_client()\n",
    "print(bob_vm_client.keys, bob_vm_client.verify_key)\n",
    "print(bob_vm.keys, bob_vm.root_verify_key)"
   ]
  },
  {
   "cell_type": "code",
   "execution_count": 4,
   "metadata": {},
   "outputs": [],
   "source": [
    "assert bob_vm.device is None"
   ]
  },
  {
   "cell_type": "code",
   "execution_count": 5,
   "metadata": {},
   "outputs": [
    {
     "name": "stdout",
     "output_type": "stream",
     "text": [
      "> Creating ✉️  (ReprMessage) <UID:🚇🛡>\n",
      "> 📡 [🍰] Jolly Varahamihira Client (VirtualMachineClient)@<UID:🚉🚋> Signing ✉️  (ReprMessage) with 🛷\n",
      "> Signing with 🛷\n",
      "> Creating Signed ✉️ 🔏 (SignedImmediateSyftMessageWithoutReply) <UID:🚇🛡>\n",
      "> Sending ✉️ 🔏 (SignedImmediateSyftMessageWithoutReply) 📡 [🍰] Jolly Varahamihira Client (VirtualMachineClient)@<UID:🚉🚋> ➡️  📡 [🍰] Jolly Varahamihira Client (VirtualMachineClient)@<UID:🚉🚋>\n",
      "> Routing ✉️ 🔏 (SignedImmediateSyftMessageWithoutReply) via 🛣️  (SoloRoute)\n",
      "> Received ✉️ 🔏 (SignedImmediateSyftMessageWithoutReply) @ 🍰 Jolly Varahamihira (VirtualMachine)@<UID:🚉🚋>\n",
      "> Processing 📨 ✉️ 🔏 (SignedImmediateSyftMessageWithoutReply) @ 🍰 Jolly Varahamihira (VirtualMachine)@<UID:🚉🚋>\n",
      "> Recipient Found ✉️ 🔏 (SignedImmediateSyftMessageWithoutReply)@<UID:🚉🚋> == 🍰 Jolly Varahamihira (VirtualMachine)@<UID:🚉🚋>\n",
      "> Creating ✉️  (ReprMessage) <UID:🚇🛡>\n",
      "> Checking ✉️  (ReprMessage) 🔑 Matches 🍰 Jolly Varahamihira (VirtualMachine)@<UID:🚉🚋> root 🗝\n",
      "> Matching 🔑 🛷  == 🛷  🗝\n",
      "> ✅ Auth Succeeded ✉️  (ReprMessage) 🔑 == 🗝\n",
      "VirtualMachine:Jolly Varahamihira:<UID:935c8d0e-c508-45e9-b23e-8f9c6d69a877>\n"
     ]
    }
   ],
   "source": [
    "bob_vm_client.send_immediate_msg_without_reply(msg=sy.ReprMessage(address=bob_vm_client))"
   ]
  },
  {
   "cell_type": "markdown",
   "metadata": {},
   "source": [
    "### Test 2: Send a message from a Device Client to a Device"
   ]
  },
  {
   "cell_type": "code",
   "execution_count": 6,
   "metadata": {},
   "outputs": [
    {
     "name": "stdout",
     "output_type": "stream",
     "text": [
      "> Creating 🗃️ (MemoryStore) {}\n",
      "> Creating 📱 Jolly Varahamihira's iPhone (Device)@<UID:🚉🚶>\n",
      "setting attr:TensorPointer\n",
      "setting attr:LinearPointer\n",
      "setting attr:ParameterPointer\n",
      "> Creating 📡 [📱] Jolly Varahamihira's iPhone Client (DeviceClient)@<UID:🚉🚶>\n",
      "🔑 🚏 b'\\xeb\\xc3J\\xc1\\x9c\\xae\\xacx\\x831<q\\x1d\"\\xc4\\x1er\\x94\\x14\\x8a\\x9b\\n\\xb3?\\x12\\xc6{\\xf5\\x14\\x8c34'\n",
      "🔑 🚛🗝 🚏 b'\\xeb\\xc3J\\xc1\\x9c\\xae\\xacx\\x831<q\\x1d\"\\xc4\\x1er\\x94\\x14\\x8a\\x9b\\n\\xb3?\\x12\\xc6{\\xf5\\x14\\x8c34'\n"
     ]
    }
   ],
   "source": [
    "bob_phone = sy.Device(name=f\"{bob_vm.name}'s iPhone\")\n",
    "bob_phone_client = bob_phone.get_root_client()\n",
    "print(bob_phone_client.keys, bob_phone_client.verify_key)\n",
    "print(bob_phone.keys, bob_phone.root_verify_key)"
   ]
  },
  {
   "cell_type": "code",
   "execution_count": 7,
   "metadata": {},
   "outputs": [
    {
     "name": "stdout",
     "output_type": "stream",
     "text": [
      "> Creating ✉️  (ReprMessage) <UID:🛢🚳>\n"
     ]
    }
   ],
   "source": [
    "msg = sy.ReprMessage(address=bob_phone_client)"
   ]
  },
  {
   "cell_type": "markdown",
   "metadata": {},
   "source": [
    "### Test 2.1: Register a VM on a Device"
   ]
  },
  {
   "cell_type": "code",
   "execution_count": 8,
   "metadata": {},
   "outputs": [
    {
     "name": "stdout",
     "output_type": "stream",
     "text": [
      "Device:Jolly Varahamihira's iPhone:<UID:55a7a16e-0e7b-44a2-8715-b2d7f44fc992>\n",
      "<SpecificLocation:55a7a16e-0e7b-44a2-8715-b2d7f44fc992>\n",
      "<SpecificLocation:55a7a16e-0e7b-44a2-8715-b2d7f44fc992>\n",
      "<VirtualMachineClient id:Jolly Varahamihira Client>\n",
      "<SpecificLocation:935c8d0e-c508-45e9-b23e-8f9c6d69a877>\n",
      "None\n"
     ]
    }
   ],
   "source": [
    "print(bob_phone_client.routes[0].connection.server.node)\n",
    "print(bob_phone_client.routes[0].connection.server.node.device)\n",
    "print(bob_phone_client.device)\n",
    "print(bob_vm_client)\n",
    "print(bob_vm_client.vm)\n",
    "print(bob_vm_client.device) # no device on the vm client yet"
   ]
  },
  {
   "cell_type": "code",
   "execution_count": 9,
   "metadata": {},
   "outputs": [
    {
     "name": "stdout",
     "output_type": "stream",
     "text": [
      "Jolly Varahamihira Client\n"
     ]
    },
    {
     "data": {
      "text/plain": [
       "'💠 [🍰] Jolly Varahamihira Client (Address)'"
      ]
     },
     "execution_count": 9,
     "metadata": {},
     "output_type": "execute_result"
    }
   ],
   "source": [
    "print(bob_vm_client.address.name)\n",
    "bob_vm_client.address.pprint"
   ]
  },
  {
   "cell_type": "code",
   "execution_count": 10,
   "metadata": {},
   "outputs": [
    {
     "name": "stdout",
     "output_type": "stream",
     "text": [
      "> Registering 📡 [🍰] Jolly Varahamihira Client (VirtualMachineClient)@<UID:🚉🚋> with 📡 [📱] Jolly Varahamihira's iPhone Client (DeviceClient)@<UID:🚉🚶>\n",
      "Lookup id is <UID:935c8d0e-c508-45e9-b23e-8f9c6d69a877> <UID:🚉🚋> Jolly Varahamihira Client 💠 [🍰] Jolly Varahamihira Client (Address) 💠 [📱] Jolly Varahamihira's iPhone Client (Address)\n",
      "> Creating ✉️  (RegisterChildNodeMessage) <UID:🚊🚭>\n",
      "> 📡 [📱] Jolly Varahamihira's iPhone Client (DeviceClient)@<UID:🚉🚶> Signing ✉️  (RegisterChildNodeMessage) with 🚏\n",
      "> Signing with 🚏\n",
      "> ✉️  -> Proto 🔢\n",
      "> Creating Signed ✉️ 🔏 (SignedImmediateSyftMessageWithoutReply) <UID:🚊🚭>\n",
      "> Sending ✉️ 🔏 (SignedImmediateSyftMessageWithoutReply) 📡 [📱] Jolly Varahamihira's iPhone Client (DeviceClient)@<UID:🚉🚶> ➡️  💠 [📱] Jolly Varahamihira's iPhone Client (Address)\n",
      "> Routing ✉️ 🔏 (SignedImmediateSyftMessageWithoutReply) via 🛣️  (SoloRoute)\n",
      "> Received ✉️ 🔏 (SignedImmediateSyftMessageWithoutReply) @ 📱 Jolly Varahamihira's iPhone (Device)@<UID:🚉🚶>\n",
      "> Processing 📨 ✉️ 🔏 (SignedImmediateSyftMessageWithoutReply) @ 📱 Jolly Varahamihira's iPhone (Device)@<UID:🚉🚶>\n",
      "> Recipient Found ✉️ 🔏 (SignedImmediateSyftMessageWithoutReply)@<UID:🚉🚶> == 📱 Jolly Varahamihira's iPhone (Device)@<UID:🚉🚶>\n",
      "> Creating ✉️  (RegisterChildNodeMessage) <UID:🚊🚭>\n",
      "> ✉️  <- 🔢 Proto\n",
      "> Checking ✉️  (RegisterChildNodeMessage) 🔑 Matches 📱 Jolly Varahamihira's iPhone (Device)@<UID:🚉🚶> root 🗝\n",
      "> Matching 🔑 🚏  == 🚏  🗝\n",
      "> ✅ Auth Succeeded ✉️  (RegisterChildNodeMessage) 🔑 == 🗝\n",
      "> Executing 💾 (ChildNodeLifecycleService) ✉️  (RegisterChildNodeMessage) on 📱 Jolly Varahamihira's iPhone (Device)@<UID:🚉🚶>\n",
      "> Saving 💠 [🍰] Jolly Varahamihira Client (Address) @<UID:🚉🚋> with Key <UID:935c8d0e-c508-45e9-b23e-8f9c6d69a877> 💾 to 📱 Jolly Varahamihira's iPhone (Device)@<UID:🚉🚶> \n",
      "> Sending 👪 Update from 📱 Jolly Varahamihira's iPhone (Device)@<UID:🚉🚶> back to @<UID:🚉🚋>\n",
      "> Update Contains <class 'syft.core.io.address.Address'> <Address - Device:<SpecificLocation:..fc992>>\n",
      "> Creating ✉️  (HeritageUpdateMessage) <UID:🛦🚵>\n",
      "> 📡 [🍰📱] Jolly Varahamihira Client (VirtualMachineClient)@<UID:🚉🚋> Signing ✉️  (HeritageUpdateMessage) with 🛷\n",
      "> Signing with 🛷\n",
      "> Creating Signed ✉️ 🔏 (SignedImmediateSyftMessageWithoutReply) <UID:🛦🚵>\n",
      "> Sending ✉️ 🔏 (SignedImmediateSyftMessageWithoutReply) 📡 [🍰📱] Jolly Varahamihira Client (VirtualMachineClient)@<UID:🚉🚋> ➡️  💠 [🍰] Jolly Varahamihira Client (Address)\n",
      "> Routing ✉️ 🔏 (SignedImmediateSyftMessageWithoutReply) via 🛣️  (SoloRoute)\n",
      "> Received ✉️ 🔏 (SignedImmediateSyftMessageWithoutReply) @ 🍰 Jolly Varahamihira (VirtualMachine)@<UID:🚉🚋>\n",
      "> Processing 📨 ✉️ 🔏 (SignedImmediateSyftMessageWithoutReply) @ 🍰 Jolly Varahamihira (VirtualMachine)@<UID:🚉🚋>\n",
      "> Recipient Found ✉️ 🔏 (SignedImmediateSyftMessageWithoutReply)@<UID:🚉🚋> == 🍰 Jolly Varahamihira (VirtualMachine)@<UID:🚉🚋>\n",
      "> Creating ✉️  (HeritageUpdateMessage) <UID:🛦🚵>\n",
      "> Checking ✉️  (HeritageUpdateMessage) 🔑 Matches 🍰 Jolly Varahamihira (VirtualMachine)@<UID:🚉🚋> root 🗝\n",
      "> Matching 🔑 🛷  == 🛷  🗝\n",
      "> ✅ Auth Succeeded ✉️  (HeritageUpdateMessage) 🔑 == 🗝\n",
      "> Executing ⚙️  (HeritageUpdateService) ✉️  (HeritageUpdateMessage) on 🍰 Jolly Varahamihira (VirtualMachine)@<UID:🚉🚋>\n",
      "> 🍰 Jolly Varahamihira (VirtualMachine)@<UID:🚉🚋> Getting known Children Nodes\n",
      "> Node 🍰 Jolly Varahamihira (VirtualMachine)@<UID:🚉🚋> has no children\n",
      "> Forwarding ✉️  (RegisterChildNodeMessage) to @<UID:🚉🚋>\n"
     ]
    }
   ],
   "source": [
    "bob_phone_client.register(client=bob_vm_client)"
   ]
  },
  {
   "cell_type": "code",
   "execution_count": 13,
   "metadata": {},
   "outputs": [
    {
     "name": "stdout",
     "output_type": "stream",
     "text": [
      "📡 [🍰📱] Jolly Varahamihira Client (VirtualMachineClient)@<UID:🚉🚋>\n",
      "🗃️ (MemoryStore) {\n",
      "  > <UID:935c8d0e-c508-45e9-b23e-8f9c6d69a877> <UID:🚉🚋> => 🗂️ (StorableObject) (💠 [🍰] Jolly Varahamihira Client (Address))\n",
      "}\n",
      "💠 [🍰] Jolly Varahamihira Client (Address)\n",
      "💠 [🍰📱] Jolly Varahamihira Client (Address)\n"
     ]
    }
   ],
   "source": [
    "print(bob_vm_client.pprint)\n",
    "print(bob_phone.store.pprint)\n",
    "\n",
    "# the store version was sent first and does not have the \"updated\" HeritageUpdateMessage Address that the \n",
    "# real client recieved back \n",
    "print(bob_phone.store[bob_vm_client.id].data.address.pprint)\n",
    "print(bob_vm_client.address.pprint)\n",
    "\n",
    "assert bob_phone.store[bob_vm_client.id].data.address.vm == bob_vm_client.address.vm"
   ]
  },
  {
   "cell_type": "markdown",
   "metadata": {},
   "source": [
    "### Test 2.2 Test that registration updated \"address\" variable of VM"
   ]
  },
  {
   "cell_type": "code",
   "execution_count": 14,
   "metadata": {},
   "outputs": [],
   "source": [
    "assert bob_vm.device is not None\n",
    "assert bob_vm.device.id == bob_phone_client.device.id"
   ]
  },
  {
   "cell_type": "code",
   "execution_count": 15,
   "metadata": {},
   "outputs": [
    {
     "name": "stdout",
     "output_type": "stream",
     "text": [
      "🍰 Jolly Varahamihira (VirtualMachine)@<UID:🚉🚋>\n"
     ]
    }
   ],
   "source": [
    "print(bob_vm.pprint)"
   ]
  },
  {
   "cell_type": "code",
   "execution_count": 16,
   "metadata": {},
   "outputs": [
    {
     "name": "stdout",
     "output_type": "stream",
     "text": [
      "📡 [🍰📱] Jolly Varahamihira Client (VirtualMachineClient)@<UID:🚉🚋>\n"
     ]
    }
   ],
   "source": [
    "print(bob_vm_client.pprint)"
   ]
  },
  {
   "cell_type": "code",
   "execution_count": 17,
   "metadata": {},
   "outputs": [
    {
     "name": "stdout",
     "output_type": "stream",
     "text": [
      "📱 Jolly Varahamihira's iPhone (Device)@<UID:🚉🚶>\n"
     ]
    }
   ],
   "source": [
    "print(bob_phone.pprint)"
   ]
  },
  {
   "cell_type": "code",
   "execution_count": 18,
   "metadata": {},
   "outputs": [
    {
     "name": "stdout",
     "output_type": "stream",
     "text": [
      "📡 [📱] Jolly Varahamihira's iPhone Client (DeviceClient)@<UID:🚉🚶>\n"
     ]
    }
   ],
   "source": [
    "print(bob_phone_client.pprint)"
   ]
  },
  {
   "cell_type": "code",
   "execution_count": 19,
   "metadata": {},
   "outputs": [
    {
     "name": "stdout",
     "output_type": "stream",
     "text": [
      "<SpecificLocation:55a7a16e-0e7b-44a2-8715-b2d7f44fc992>\n",
      "📌 Jolly Varahamihira's iPhone (SpecificLocation)@<UID:🚉🚶>\n"
     ]
    }
   ],
   "source": [
    "print(bob_vm.device)\n",
    "print(bob_vm.device.pprint)"
   ]
  },
  {
   "cell_type": "code",
   "execution_count": 20,
   "metadata": {},
   "outputs": [
    {
     "name": "stdout",
     "output_type": "stream",
     "text": [
      "📌 Jolly Varahamihira's iPhone (SpecificLocation)@<UID:🚉🚶>\n"
     ]
    }
   ],
   "source": [
    "assert bob_vm_client.device is not None\n",
    "assert bob_vm_client.device.id == bob_phone_client.device.id\n",
    "print(bob_vm_client.device.pprint)"
   ]
  },
  {
   "cell_type": "markdown",
   "metadata": {},
   "source": [
    "### Test 3: Send a message from a Device Client to a VM"
   ]
  },
  {
   "cell_type": "code",
   "execution_count": null,
   "metadata": {},
   "outputs": [],
   "source": [
    "print(bob_phone_client.routes[0].connection.server.node)\n",
    "print(bob_phone_client.routes[0].connection.server.node.device)\n",
    "print(bob_phone_client.device)\n",
    "print(bob_vm_client)\n",
    "print(bob_vm_client.vm)\n",
    "print(bob_vm_client.device)"
   ]
  },
  {
   "cell_type": "code",
   "execution_count": null,
   "metadata": {},
   "outputs": [],
   "source": [
    "print(bob_phone_client.pprint) # phone client id is phone device\n",
    "print(bob_phone_client.address.pprint) # phone client id is phone device\n",
    "print(bob_phone_client.address.target_id.pprint) # phone client id is phone device\n",
    "print(bob_vm_client.pprint) # vm client id is vm\n",
    "print(bob_vm_client.address.pprint) # vm client id is vm\n",
    "print(bob_vm_client.address.target_id.pprint) # vm client id is vm"
   ]
  },
  {
   "cell_type": "code",
   "execution_count": null,
   "metadata": {},
   "outputs": [],
   "source": [
    "# bobs client has a SoloRoute with a VirtualClientConnection to VirtualServerConnection to bobs_phone\n",
    "path = [\n",
    "    bob_phone_client,\n",
    "    bob_phone_client.routes[0],\n",
    "    bob_phone_client.routes[0].connection,\n",
    "    bob_phone_client.routes[0].connection.server,\n",
    "    bob_phone_client.routes[0].connection.server.node,\n",
    "    bob_phone_client.routes[0].connection.server.node.signed_message_without_reply_forwarding_service,\n",
    "    bob_phone_client.routes[0].connection.server.node.store[bob_vm_client.id].data\n",
    "]\n",
    "\n",
    "bob_phone_client.send_immediate_msg_without_reply(msg=sy.ReprMessage(address=bob_vm_client))"
   ]
  },
  {
   "cell_type": "markdown",
   "metadata": {},
   "source": [
    "### Test 4: Send a message from a Domain Client to a VM"
   ]
  },
  {
   "cell_type": "code",
   "execution_count": null,
   "metadata": {},
   "outputs": [],
   "source": [
    "import syft as sy"
   ]
  },
  {
   "cell_type": "code",
   "execution_count": null,
   "metadata": {},
   "outputs": [],
   "source": [
    "bob_domain = sy.Domain(name=\"Bob's Domain\")\n",
    "bob_domain_client = bob_domain.get_client()"
   ]
  },
  {
   "cell_type": "code",
   "execution_count": null,
   "metadata": {},
   "outputs": [],
   "source": [
    "bob_domain_client.register(client=bob_phone_client)"
   ]
  },
  {
   "cell_type": "code",
   "execution_count": null,
   "metadata": {},
   "outputs": [],
   "source": [
    "bob_domain_client.send_immediate_msg_without_reply(msg=sy.ReprMessage(address=bob_vm))"
   ]
  },
  {
   "cell_type": "markdown",
   "metadata": {},
   "source": [
    "### Test 5: Send a message from Network Client to a VM"
   ]
  },
  {
   "cell_type": "code",
   "execution_count": null,
   "metadata": {},
   "outputs": [],
   "source": [
    "bob_network = sy.Network(name=\"Bob's Network\")\n",
    "bob_network_client = bob_network.get_client()"
   ]
  },
  {
   "cell_type": "code",
   "execution_count": null,
   "metadata": {},
   "outputs": [],
   "source": [
    "bob_network_client.register(client=bob_domain_client)"
   ]
  },
  {
   "cell_type": "code",
   "execution_count": null,
   "metadata": {},
   "outputs": [],
   "source": [
    "bob_network_client.send_immediate_msg_without_reply(msg=sy.ReprMessage(address=bob_vm))"
   ]
  },
  {
   "cell_type": "markdown",
   "metadata": {},
   "source": [
    "### Test 5: Use VM Client wtih Torch Tensor"
   ]
  },
  {
   "cell_type": "code",
   "execution_count": null,
   "metadata": {},
   "outputs": [],
   "source": [
    "print(type(bob_network_client))\n",
    "print(bob_network_client.routes)\n",
    "print(bob_network_client.routes[0])\n",
    "print(bob_network_client.routes[0].connection)"
   ]
  },
  {
   "cell_type": "markdown",
   "metadata": {},
   "source": [
    "# Auth signing any message"
   ]
  },
  {
   "cell_type": "code",
   "execution_count": null,
   "metadata": {},
   "outputs": [],
   "source": [
    "import syft as sy\n",
    "from syft.core.node.common.service.repr_service import ReprMessage"
   ]
  },
  {
   "cell_type": "code",
   "execution_count": null,
   "metadata": {},
   "outputs": [],
   "source": [
    "bob = sy.VirtualMachine(name=\"bob\")\n",
    "bobc = bob.get_root_client()\n",
    "\n",
    "alice = sy.VirtualMachine(name=\"alice\")\n",
    "alicec = bob.get_client()"
   ]
  },
  {
   "cell_type": "code",
   "execution_count": null,
   "metadata": {},
   "outputs": [],
   "source": [
    "from syft.core.io.address import Address"
   ]
  },
  {
   "cell_type": "code",
   "execution_count": null,
   "metadata": {},
   "outputs": [],
   "source": [
    "import torch as th\n",
    "x = th.tensor([1,2,3,4])"
   ]
  },
  {
   "cell_type": "code",
   "execution_count": null,
   "metadata": {},
   "outputs": [],
   "source": [
    "ptr = x.send(bobc)"
   ]
  },
  {
   "cell_type": "code",
   "execution_count": null,
   "metadata": {},
   "outputs": [],
   "source": [
    "fake_bob = bob.get_client()"
   ]
  },
  {
   "cell_type": "code",
   "execution_count": null,
   "metadata": {},
   "outputs": [],
   "source": [
    "ptr.location = fake_bob"
   ]
  },
  {
   "cell_type": "code",
   "execution_count": null,
   "metadata": {},
   "outputs": [],
   "source": [
    "ptr.get()"
   ]
  },
  {
   "cell_type": "code",
   "execution_count": null,
   "metadata": {},
   "outputs": [],
   "source": [
    "import pytest\n",
    "\n",
    "bob = sy.VirtualMachine(name=\"bob\")\n",
    "root_bob = bob.get_root_client()\n",
    "guest_bob = bob.get_client()\n",
    "\n",
    "import torch as th\n",
    "x = th.tensor([1, 2, 3, 4])\n",
    "\n",
    "# root user of Bob's machine sends a tensor\n",
    "ptr = x.send(root_bob)\n",
    "\n",
    "# guest bob creates a pointer to that object (assuming he could guess/inpher the ID)\n",
    "ptr.location = guest_bob\n",
    "\n",
    "# this should trigger an exception\n",
    "with pytest.raises(Exception):\n",
    "    ptr.get()\n",
    "\n",
    "x = th.tensor([1, 2, 3, 4])\n",
    "\n",
    "# root user of Bob's machine sends a tensor\n",
    "ptr = x.send(root_bob)\n",
    "\n",
    "# but if root bob asks for it it should be fine\n",
    "x2 = ptr.get()\n",
    "\n",
    "assert (x == x2).all()"
   ]
  },
  {
   "cell_type": "code",
   "execution_count": null,
   "metadata": {},
   "outputs": [],
   "source": []
  },
  {
   "cell_type": "code",
   "execution_count": null,
   "metadata": {},
   "outputs": [],
   "source": []
  },
  {
   "cell_type": "code",
   "execution_count": null,
   "metadata": {},
   "outputs": [],
   "source": [
    "msg = ReprMessage(address=bobc).sign(signing_key=bobc.signing_key)"
   ]
  },
  {
   "cell_type": "code",
   "execution_count": null,
   "metadata": {},
   "outputs": [],
   "source": [
    "bobc.send_immediate_msg_without_reply(msg=sy.ReprMessage(address=bobc))"
   ]
  },
  {
   "cell_type": "code",
   "execution_count": null,
   "metadata": {},
   "outputs": [],
   "source": [
    "alicec.send_immediate_msg_without_reply(msg=sy.ReprMessage(address=alicec))"
   ]
  },
  {
   "cell_type": "code",
   "execution_count": null,
   "metadata": {},
   "outputs": [],
   "source": []
  },
  {
   "cell_type": "code",
   "execution_count": null,
   "metadata": {},
   "outputs": [],
   "source": [
    "import syft as sy\n",
    "alice = sy.VirtualMachine(name=\"alice\")\n",
    "alice_client = alice.g\n",
    "et_client()"
   ]
  },
  {
   "cell_type": "code",
   "execution_count": null,
   "metadata": {},
   "outputs": [],
   "source": [
    "import torch as th"
   ]
  },
  {
   "cell_type": "code",
   "execution_count": null,
   "metadata": {},
   "outputs": [],
   "source": [
    "x = th.tensor([1,2,3,4])\n",
    "\n",
    "blob = x.serialize()\n",
    "\n",
    "x2 = sy.deserialize(blob=blob)\n",
    "\n",
    "assert (x == x2).all()"
   ]
  },
  {
   "cell_type": "code",
   "execution_count": null,
   "metadata": {},
   "outputs": [],
   "source": []
  },
  {
   "cell_type": "code",
   "execution_count": null,
   "metadata": {},
   "outputs": [],
   "source": []
  },
  {
   "cell_type": "code",
   "execution_count": null,
   "metadata": {},
   "outputs": [],
   "source": []
  },
  {
   "cell_type": "code",
   "execution_count": null,
   "metadata": {},
   "outputs": [],
   "source": []
  },
  {
   "cell_type": "code",
   "execution_count": null,
   "metadata": {},
   "outputs": [],
   "source": []
  },
  {
   "cell_type": "code",
   "execution_count": null,
   "metadata": {},
   "outputs": [],
   "source": [
    "x.id"
   ]
  },
  {
   "cell_type": "code",
   "execution_count": null,
   "metadata": {},
   "outputs": [],
   "source": [
    "xp = x.send(alice_client)"
   ]
  },
  {
   "cell_type": "code",
   "execution_count": null,
   "metadata": {},
   "outputs": [],
   "source": [
    "xp.id_at_location"
   ]
  },
  {
   "cell_type": "code",
   "execution_count": null,
   "metadata": {},
   "outputs": [],
   "source": [
    "y = xp + xp"
   ]
  },
  {
   "cell_type": "code",
   "execution_count": null,
   "metadata": {},
   "outputs": [],
   "source": [
    "y.get()"
   ]
  },
  {
   "cell_type": "code",
   "execution_count": null,
   "metadata": {},
   "outputs": [],
   "source": [
    "alice.store"
   ]
  },
  {
   "cell_type": "code",
   "execution_count": null,
   "metadata": {},
   "outputs": [],
   "source": [
    "del xp"
   ]
  },
  {
   "cell_type": "code",
   "execution_count": null,
   "metadata": {},
   "outputs": [],
   "source": [
    "alice.store"
   ]
  },
  {
   "cell_type": "code",
   "execution_count": null,
   "metadata": {},
   "outputs": [],
   "source": [
    "ptr = alice_client.torch.zeros(10,10)"
   ]
  },
  {
   "cell_type": "code",
   "execution_count": null,
   "metadata": {},
   "outputs": [],
   "source": [
    "import numpy as np\n",
    "import syft as sy"
   ]
  },
  {
   "cell_type": "code",
   "execution_count": null,
   "metadata": {},
   "outputs": [],
   "source": [
    "x = np.array([1,2,3,4]).send(alice_client)"
   ]
  },
  {
   "cell_type": "code",
   "execution_count": null,
   "metadata": {},
   "outputs": [],
   "source": [
    "x.get()"
   ]
  },
  {
   "cell_type": "code",
   "execution_count": null,
   "metadata": {},
   "outputs": [],
   "source": [
    "x = np.array([1,2,3,4])"
   ]
  },
  {
   "cell_type": "code",
   "execution_count": null,
   "metadata": {},
   "outputs": [],
   "source": [
    "x.serialize()"
   ]
  },
  {
   "cell_type": "code",
   "execution_count": null,
   "metadata": {},
   "outputs": [],
   "source": []
  },
  {
   "cell_type": "code",
   "execution_count": null,
   "metadata": {},
   "outputs": [],
   "source": []
  },
  {
   "cell_type": "code",
   "execution_count": null,
   "metadata": {},
   "outputs": [],
   "source": []
  },
  {
   "cell_type": "code",
   "execution_count": null,
   "metadata": {},
   "outputs": [],
   "source": [
    "from sqlalchemy import create_engine\n",
    "\n",
    "engine = create_engine('sqlite:///:memory:', echo=True)"
   ]
  },
  {
   "cell_type": "code",
   "execution_count": null,
   "metadata": {},
   "outputs": [],
   "source": [
    "from sqlalchemy.orm import sessionmaker\n",
    "\n",
    "Session = sessionmaker(bind=engine)\n",
    "session = Session()"
   ]
  },
  {
   "cell_type": "code",
   "execution_count": null,
   "metadata": {},
   "outputs": [],
   "source": [
    "from sqlalchemy.ext.declarative import declarative_base\n",
    "\n",
    "Base = declarative_base()"
   ]
  },
  {
   "cell_type": "code",
   "execution_count": null,
   "metadata": {},
   "outputs": [],
   "source": [
    "from sqlalchemy import Column, Integer, String\n",
    "\n",
    "class User(Base):\n",
    "    __tablename__ = 'users'\n",
    "\n",
    "    id = Column(Integer, primary_key=True)\n",
    "    name = Column(String)\n",
    "    password = Column(String)\n",
    "\n",
    "    def __repr__(self):\n",
    "        return f'User {self.name}'"
   ]
  },
  {
   "cell_type": "code",
   "execution_count": null,
   "metadata": {},
   "outputs": [],
   "source": [
    "Base.metadata.create_all(engine)"
   ]
  },
  {
   "cell_type": "code",
   "execution_count": null,
   "metadata": {},
   "outputs": [],
   "source": [
    "user = User(name='John Snow', password='johnspassword')\n",
    "session.add(user)\n",
    "\n",
    "print(user.id)  # None"
   ]
  },
  {
   "cell_type": "code",
   "execution_count": null,
   "metadata": {},
   "outputs": [],
   "source": [
    "session.commit()"
   ]
  },
  {
   "cell_type": "code",
   "execution_count": null,
   "metadata": {},
   "outputs": [],
   "source": [
    "query = session.query(User).filter_by(name='John Snow')"
   ]
  },
  {
   "cell_type": "code",
   "execution_count": null,
   "metadata": {},
   "outputs": [],
   "source": [
    "query.count()"
   ]
  },
  {
   "cell_type": "code",
   "execution_count": null,
   "metadata": {},
   "outputs": [],
   "source": []
  }
 ],
 "metadata": {
  "kernelspec": {
   "display_name": "Python 3",
   "language": "python",
   "name": "python3"
  },
  "language_info": {
   "codemirror_mode": {
    "name": "ipython",
    "version": 3
   },
   "file_extension": ".py",
   "mimetype": "text/x-python",
   "name": "python",
   "nbconvert_exporter": "python",
   "pygments_lexer": "ipython3",
   "version": "3.8.5"
  }
 },
 "nbformat": 4,
 "nbformat_minor": 4
}

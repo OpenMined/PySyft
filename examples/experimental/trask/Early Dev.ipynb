{
 "cells": [
  {
   "cell_type": "code",
   "execution_count": 1,
   "metadata": {},
   "outputs": [
    {
     "name": "stdout",
     "output_type": "stream",
     "text": [
      "assigning id:<UID:a011b940-1824-4a1a-82e9-a40eff61f836> type:<class 'torch.Tensor'>\n"
     ]
    }
   ],
   "source": [
    "import syft as sy"
   ]
  },
  {
   "cell_type": "markdown",
   "metadata": {},
   "source": [
    "### Test 1: Send a Message from a VM Client to a VM"
   ]
  },
  {
   "cell_type": "code",
   "execution_count": 2,
   "metadata": {},
   "outputs": [],
   "source": [
    "bob_vm = sy.VirtualMachine(name=\"Bob\")\n",
    "bob_vm_client = bob_vm.get_client()"
   ]
  },
  {
   "cell_type": "code",
   "execution_count": 3,
   "metadata": {},
   "outputs": [],
   "source": [
    "assert bob_vm.device is None"
   ]
  },
  {
   "cell_type": "code",
   "execution_count": 4,
   "metadata": {},
   "outputs": [
    {
     "name": "stdout",
     "output_type": "stream",
     "text": [
      "the message is for me!!!\n",
      "VirtualMachine:Bob:<UID:06f21705-8745-47c9-a8cc-224887566096>\n"
     ]
    }
   ],
   "source": [
    "bob_vm_client.send_immediate_msg_without_reply(msg=sy.ReprMessage(address=bob_vm_client))"
   ]
  },
  {
   "cell_type": "markdown",
   "metadata": {},
   "source": [
    "### Test 2: Send a message from a Device Client to a Device"
   ]
  },
  {
   "cell_type": "code",
   "execution_count": 5,
   "metadata": {},
   "outputs": [],
   "source": [
    "bob_phone = sy.Device(name=\"Bob's iPhone\")\n",
    "bob_phone_client = bob_phone.get_client()"
   ]
  },
  {
   "cell_type": "code",
   "execution_count": 6,
   "metadata": {},
   "outputs": [],
   "source": [
    "msg = sy.ReprMessage(address=bob_phone_client)"
   ]
  },
  {
   "cell_type": "code",
   "execution_count": 7,
   "metadata": {},
   "outputs": [],
   "source": [
    "def print_path(path):\n",
    "    output = \"\"\n",
    "    indent = 0\n",
    "    for item in path:\n",
    "        tabs = \"\".join([\"\\t\"] * indent)\n",
    "        output += f\"{tabs}{item}\\n\"\n",
    "        indent += 1\n",
    "    print(output)"
   ]
  },
  {
   "cell_type": "code",
   "execution_count": 8,
   "metadata": {},
   "outputs": [
    {
     "name": "stdout",
     "output_type": "stream",
     "text": [
      "<DeviceClient:<SpecificLocation:2f052d16-4a25-4765-9d48-6b3d2b2e38ce>>\n",
      "\t<SoloRoute:d44df485-dd57-425f-81ed-845e2dcb8526>\n",
      "\t\t<syft.core.io.virtual.VirtualClientConnection object at 0x130367340>\n",
      "\t\t\t<syft.core.io.virtual.VirtualServerConnection object at 0x130367490>\n",
      "\t\t\t\tDevice:Bob's iPhone:<UID:2f052d16-4a25-4765-9d48-6b3d2b2e38ce>\n",
      "\n",
      "the message is for me!!!\n",
      "Device:Bob's iPhone:<UID:2f052d16-4a25-4765-9d48-6b3d2b2e38ce>\n"
     ]
    }
   ],
   "source": [
    "# bobs client has a SoloRoute with a VirtualClientConnection to VirtualServerConnection to bobs_phone\n",
    "path = [bob_phone_client, bob_phone_client.routes[0], bob_phone_client.routes[0].connection, bob_phone_client.routes[0].connection.server, bob_phone_client.routes[0].connection.server.node]\n",
    "print_path(path)\n",
    "\n",
    "bob_phone_client.send_immediate_msg_without_reply(msg=sy.ReprMessage(address=bob_phone_client))"
   ]
  },
  {
   "cell_type": "markdown",
   "metadata": {},
   "source": [
    "### Test 2.1: Register a VM on a Device"
   ]
  },
  {
   "cell_type": "code",
   "execution_count": 9,
   "metadata": {},
   "outputs": [
    {
     "name": "stdout",
     "output_type": "stream",
     "text": [
      "Device:Bob's iPhone:<UID:2f052d16-4a25-4765-9d48-6b3d2b2e38ce>\n",
      "<SpecificLocation:2f052d16-4a25-4765-9d48-6b3d2b2e38ce>\n",
      "<SpecificLocation:2f052d16-4a25-4765-9d48-6b3d2b2e38ce>\n",
      "<VirtualMachineClient id:Bob>\n",
      "<SpecificLocation:06f21705-8745-47c9-a8cc-224887566096>\n",
      "None\n"
     ]
    }
   ],
   "source": [
    "print(bob_phone_client.routes[0].connection.server.node)\n",
    "print(bob_phone_client.routes[0].connection.server.node.device)\n",
    "print(bob_phone_client.device)\n",
    "print(bob_vm_client)\n",
    "print(bob_vm_client.vm)\n",
    "print(bob_vm_client.device) # no device on the vm client yet"
   ]
  },
  {
   "cell_type": "code",
   "execution_count": 10,
   "metadata": {},
   "outputs": [
    {
     "name": "stdout",
     "output_type": "stream",
     "text": [
      "the message is for me!!!\n",
      "the message is for me!!!\n",
      "Updating to Device:Bob's iPhone:<UID:2f052d16-4a25-4765-9d48-6b3d2b2e38ce> on node VirtualMachine:Bob:<UID:06f21705-8745-47c9-a8cc-224887566096>\n",
      "child nodes of:Bob\n"
     ]
    }
   ],
   "source": [
    "bob_phone_client.register(client=bob_vm_client)"
   ]
  },
  {
   "cell_type": "code",
   "execution_count": 11,
   "metadata": {},
   "outputs": [
    {
     "name": "stdout",
     "output_type": "stream",
     "text": [
      "{<UID:06f21705-8745-47c9-a8cc-224887566096>: <Storable:<VirtualMachineClient id:Bob>>}\n"
     ]
    }
   ],
   "source": [
    "print(bob_phone.store) # bob_vm_client.id is now stored on the device\n",
    "assert bob_phone.store[bob_vm_client.id].data == bob_vm_client"
   ]
  },
  {
   "cell_type": "markdown",
   "metadata": {},
   "source": [
    "### Test 2.2 Test that registration updated \"address\" variable of VM"
   ]
  },
  {
   "cell_type": "code",
   "execution_count": 12,
   "metadata": {},
   "outputs": [
    {
     "name": "stdout",
     "output_type": "stream",
     "text": [
      "<SpecificLocation:2f052d16-4a25-4765-9d48-6b3d2b2e38ce>\n"
     ]
    }
   ],
   "source": [
    "assert bob_vm.device is not None\n",
    "assert bob_vm.device.id == bob_phone_client.device.id\n",
    "print(bob_vm.device)"
   ]
  },
  {
   "cell_type": "code",
   "execution_count": 13,
   "metadata": {},
   "outputs": [
    {
     "name": "stdout",
     "output_type": "stream",
     "text": [
      "<SpecificLocation:2f052d16-4a25-4765-9d48-6b3d2b2e38ce>\n"
     ]
    }
   ],
   "source": [
    "assert bob_vm_client.device is not None\n",
    "assert bob_vm_client.device.id == bob_phone_client.device.id\n",
    "print(bob_vm_client.device)"
   ]
  },
  {
   "cell_type": "markdown",
   "metadata": {},
   "source": [
    "### Test 3: Send a message from a Device Client to a VM"
   ]
  },
  {
   "cell_type": "code",
   "execution_count": 14,
   "metadata": {},
   "outputs": [
    {
     "name": "stdout",
     "output_type": "stream",
     "text": [
      "Device:Bob's iPhone:<UID:2f052d16-4a25-4765-9d48-6b3d2b2e38ce>\n",
      "<SpecificLocation:2f052d16-4a25-4765-9d48-6b3d2b2e38ce>\n",
      "<SpecificLocation:2f052d16-4a25-4765-9d48-6b3d2b2e38ce>\n",
      "<VirtualMachineClient id:Bob>\n",
      "<SpecificLocation:06f21705-8745-47c9-a8cc-224887566096>\n",
      "<SpecificLocation:2f052d16-4a25-4765-9d48-6b3d2b2e38ce>\n"
     ]
    }
   ],
   "source": [
    "print(bob_phone_client.routes[0].connection.server.node)\n",
    "print(bob_phone_client.routes[0].connection.server.node.device)\n",
    "print(bob_phone_client.device)\n",
    "print(bob_vm_client)\n",
    "print(bob_vm_client.vm)\n",
    "print(bob_vm_client.device)"
   ]
  },
  {
   "cell_type": "code",
   "execution_count": 15,
   "metadata": {},
   "outputs": [
    {
     "name": "stdout",
     "output_type": "stream",
     "text": [
      "<UID:2f052d16-4a25-4765-9d48-6b3d2b2e38ce>\n",
      "<UID:06f21705-8745-47c9-a8cc-224887566096>\n"
     ]
    }
   ],
   "source": [
    "print(bob_phone_client.id) # phone client id is phone device\n",
    "print(bob_vm_client.id) # vm client id is vm"
   ]
  },
  {
   "cell_type": "code",
   "execution_count": 16,
   "metadata": {},
   "outputs": [
    {
     "name": "stdout",
     "output_type": "stream",
     "text": [
      "<DeviceClient:<SpecificLocation:2f052d16-4a25-4765-9d48-6b3d2b2e38ce>>\n",
      "\t<SoloRoute:d44df485-dd57-425f-81ed-845e2dcb8526>\n",
      "\t\t<syft.core.io.virtual.VirtualClientConnection object at 0x130367340>\n",
      "\t\t\t<syft.core.io.virtual.VirtualServerConnection object at 0x130367490>\n",
      "\t\t\t\tDevice:Bob's iPhone:<UID:2f052d16-4a25-4765-9d48-6b3d2b2e38ce>\n",
      "\t\t\t\t\t<syft.core.node.common.service.msg_forwarding_service.MessageWithoutReplyForwardingService object at 0x108d47e50>\n",
      "\t\t\t\t\t\t<VirtualMachineClient id:Bob>\n",
      "\n",
      "the message is not for me... <UID:2f052d16-4a25-4765-9d48-6b3d2b2e38ce>\n",
      "<UID:06f21705-8745-47c9-a8cc-224887566096>\n",
      "the message is for me!!!\n",
      "VirtualMachine:Bob:<UID:06f21705-8745-47c9-a8cc-224887566096>\n"
     ]
    }
   ],
   "source": [
    "# bobs client has a SoloRoute with a VirtualClientConnection to VirtualServerConnection to bobs_phone\n",
    "path = [\n",
    "    bob_phone_client,\n",
    "    bob_phone_client.routes[0],\n",
    "    bob_phone_client.routes[0].connection,\n",
    "    bob_phone_client.routes[0].connection.server,\n",
    "    bob_phone_client.routes[0].connection.server.node,\n",
    "    bob_phone_client.routes[0].connection.server.node.message_without_reply_forwarding_service,\n",
    "    bob_phone_client.routes[0].connection.server.node.store[bob_vm_client.id].data\n",
    "]\n",
    "print_path(path)\n",
    "\n",
    "bob_phone_client.send_immediate_msg_without_reply(msg=sy.ReprMessage(address=bob_vm_client))"
   ]
  },
  {
   "cell_type": "markdown",
   "metadata": {},
   "source": [
    "### Test 4: Send a message from a Domain Client to a VM"
   ]
  },
  {
   "cell_type": "code",
   "execution_count": 17,
   "metadata": {},
   "outputs": [],
   "source": [
    "import syft as sy"
   ]
  },
  {
   "cell_type": "code",
   "execution_count": 18,
   "metadata": {},
   "outputs": [],
   "source": [
    "bob_domain = sy.Domain(name=\"Bob's Domain\")\n",
    "bob_domain_client = bob_domain.get_client()"
   ]
  },
  {
   "cell_type": "code",
   "execution_count": 19,
   "metadata": {},
   "outputs": [
    {
     "name": "stdout",
     "output_type": "stream",
     "text": [
      "the message is for me!!!\n",
      "the message is for me!!!\n",
      "Updating to Domain:Bob's Domain:<UID:a9e7dedd-75be-4b2c-a76a-0e69715496c3> on node Device:Bob's iPhone:<UID:2f052d16-4a25-4765-9d48-6b3d2b2e38ce>\n",
      "child nodes of:Bob's iPhone\n",
      "\tBob\n",
      "the message is for me!!!\n",
      "Updating to Domain:Bob's Domain:<UID:a9e7dedd-75be-4b2c-a76a-0e69715496c3> on node VirtualMachine:Bob:<UID:06f21705-8745-47c9-a8cc-224887566096>\n",
      "child nodes of:Bob\n"
     ]
    }
   ],
   "source": [
    "bob_domain_client.register(client=bob_phone_client)"
   ]
  },
  {
   "cell_type": "code",
   "execution_count": 20,
   "metadata": {},
   "outputs": [
    {
     "name": "stdout",
     "output_type": "stream",
     "text": [
      "the message is not for me... <UID:a9e7dedd-75be-4b2c-a76a-0e69715496c3>\n",
      "<UID:06f21705-8745-47c9-a8cc-224887566096>\n",
      "the message is not for me... <UID:2f052d16-4a25-4765-9d48-6b3d2b2e38ce>\n",
      "<UID:06f21705-8745-47c9-a8cc-224887566096>\n",
      "the message is for me!!!\n",
      "VirtualMachine:Bob:<UID:06f21705-8745-47c9-a8cc-224887566096>\n"
     ]
    }
   ],
   "source": [
    "bob_domain_client.send_immediate_msg_without_reply(msg=sy.ReprMessage(address=bob_vm))"
   ]
  },
  {
   "cell_type": "markdown",
   "metadata": {},
   "source": [
    "### Test 5: Send a message from Network Client to a VM"
   ]
  },
  {
   "cell_type": "code",
   "execution_count": 21,
   "metadata": {},
   "outputs": [],
   "source": [
    "bob_network = sy.Network(name=\"Bob's Network\")\n",
    "bob_network_client = bob_network.get_client()"
   ]
  },
  {
   "cell_type": "code",
   "execution_count": 22,
   "metadata": {},
   "outputs": [
    {
     "name": "stdout",
     "output_type": "stream",
     "text": [
      "the message is for me!!!\n",
      "the message is for me!!!\n",
      "Updating to Network:Bob's Network:<UID:fb3d94d8-ef62-45f8-b869-734b4d0d2dff> on node Domain:Bob's Domain:<UID:a9e7dedd-75be-4b2c-a76a-0e69715496c3>\n",
      "child nodes of:Bob's Domain\n",
      "\tBob's iPhone\n",
      "the message is for me!!!\n",
      "Updating to Network:Bob's Network:<UID:fb3d94d8-ef62-45f8-b869-734b4d0d2dff> on node Device:Bob's iPhone:<UID:2f052d16-4a25-4765-9d48-6b3d2b2e38ce>\n",
      "child nodes of:Bob's iPhone\n",
      "\tBob\n",
      "the message is for me!!!\n",
      "Updating to Network:Bob's Network:<UID:fb3d94d8-ef62-45f8-b869-734b4d0d2dff> on node VirtualMachine:Bob:<UID:06f21705-8745-47c9-a8cc-224887566096>\n",
      "child nodes of:Bob\n"
     ]
    }
   ],
   "source": [
    "bob_network_client.register(client=bob_domain_client)"
   ]
  },
  {
   "cell_type": "code",
   "execution_count": 23,
   "metadata": {},
   "outputs": [
    {
     "name": "stdout",
     "output_type": "stream",
     "text": [
      "the message is not for me... <UID:fb3d94d8-ef62-45f8-b869-734b4d0d2dff>\n",
      "<UID:06f21705-8745-47c9-a8cc-224887566096>\n",
      "the message is not for me... <UID:a9e7dedd-75be-4b2c-a76a-0e69715496c3>\n",
      "<UID:06f21705-8745-47c9-a8cc-224887566096>\n",
      "the message is not for me... <UID:2f052d16-4a25-4765-9d48-6b3d2b2e38ce>\n",
      "<UID:06f21705-8745-47c9-a8cc-224887566096>\n",
      "the message is for me!!!\n",
      "VirtualMachine:Bob:<UID:06f21705-8745-47c9-a8cc-224887566096>\n"
     ]
    }
   ],
   "source": [
    "bob_network_client.send_immediate_msg_without_reply(msg=sy.ReprMessage(address=bob_vm))"
   ]
  },
  {
   "cell_type": "markdown",
   "metadata": {},
   "source": [
    "### Test 5: Use VM Client wtih Torch Tensor"
   ]
  },
  {
   "cell_type": "code",
   "execution_count": 24,
   "metadata": {},
   "outputs": [
    {
     "name": "stdout",
     "output_type": "stream",
     "text": [
      "<class 'syft.core.node.network.client.NetworkClient'>\n",
      "[<SoloRoute:5c44ff2b-7f0e-46f0-b24a-07e93b600012>]\n",
      "<SoloRoute:5c44ff2b-7f0e-46f0-b24a-07e93b600012>\n",
      "<syft.core.io.virtual.VirtualClientConnection object at 0x130367df0>\n"
     ]
    }
   ],
   "source": [
    "print(type(bob_network_client))\n",
    "print(bob_network_client.routes)\n",
    "print(bob_network_client.routes[0])\n",
    "print(bob_network_client.routes[0].connection)"
   ]
  },
  {
   "cell_type": "markdown",
   "metadata": {},
   "source": [
    "### Authorized Messages"
   ]
  },
  {
   "cell_type": "code",
   "execution_count": 25,
   "metadata": {},
   "outputs": [],
   "source": [
    "from syft.core.node.common.service.authorized_service import HelloRootRequest\n",
    "from nacl.signing import SigningKey, VerifyKey"
   ]
  },
  {
   "cell_type": "code",
   "execution_count": 26,
   "metadata": {},
   "outputs": [
    {
     "name": "stdout",
     "output_type": "stream",
     "text": [
      "b'\\xa6\\x97\\xc9\\xcau^\\xffy\\xcdE<\\xe4\\x04\\x10)\\r\\x01\\xf4\\xcb\\xe8?\\xa3\\xf9~\\x93`ly\\xb3t\\x87\\xba'\n",
      "b'\\x07\\x98\\xf5\\xa2\\xe5U\\xe3\\xa8\\x1c\\x9f\\x9c\\xfd\\xe3^y\\x81\\x19\\xbe\\xaa\\xadK\\r\\xd4\\xf1\\xafL\\xaf\\x1dy\\xbdcu'\n"
     ]
    }
   ],
   "source": [
    "bobs_signing_key = SigningKey.generate()\n",
    "bobs_verification_key = bobs_signing_key.verify_key\n",
    "print(bobs_signing_key) # private dont share with anyone\n",
    "print(bobs_verification_key) # public give to anyone who needs to verify your messages"
   ]
  },
  {
   "cell_type": "code",
   "execution_count": 27,
   "metadata": {},
   "outputs": [],
   "source": [
    "secure_msg = HelloRootRequest(username=\"bob\", reply_to=bob_phone_client, address=bob_phone)"
   ]
  },
  {
   "cell_type": "code",
   "execution_count": 28,
   "metadata": {},
   "outputs": [
    {
     "name": "stdout",
     "output_type": "stream",
     "text": [
      "b'{\"objType\": \"syft.core.node.common.service.authorized_service.HelloRootRequest\", \"content\": \"{\\\\\"username\\\\\": \\\\\"bob\\\\\", \\\\\"replyTo\\\\\": {\\\\\"hasDomain\\\\\": true, \\\\\"domain\\\\\": {\\\\\"id\\\\\": {\\\\\"value\\\\\": \\\\\"qefe3XW+Syynag5pcVSWww==\\\\\"}}, \\\\\"hasDevice\\\\\": true, \\\\\"device\\\\\": {\\\\\"id\\\\\": {\\\\\"value\\\\\": \\\\\"LwUtFkolR2WdSGs9Ky44zg==\\\\\"}}}, \\\\\"address\\\\\": {\\\\\"hasNetwork\\\\\": true, \\\\\"network\\\\\": {\\\\\"id\\\\\": {\\\\\"value\\\\\": \\\\\"+z2U2O9iRfi4aXNLTQ0t/w==\\\\\"}}, \\\\\"hasDomain\\\\\": true, \\\\\"domain\\\\\": {\\\\\"id\\\\\": {\\\\\"value\\\\\": \\\\\"qefe3XW+Syynag5pcVSWww==\\\\\"}}, \\\\\"hasDevice\\\\\": true, \\\\\"device\\\\\": {\\\\\"id\\\\\": {\\\\\"value\\\\\": \\\\\"LwUtFkolR2WdSGs9Ky44zg==\\\\\"}}}, \\\\\"msgId\\\\\": {\\\\\"value\\\\\": \\\\\"UVF2XOZlQvywwKEI2BQK5g==\\\\\"}}\"}'\n",
      "<class 'bytes'>\n"
     ]
    }
   ],
   "source": [
    "sm = secure_msg.serialize(to_binary=True)\n",
    "print(sm)\n",
    "print(type(sm))"
   ]
  },
  {
   "cell_type": "code",
   "execution_count": 29,
   "metadata": {},
   "outputs": [
    {
     "name": "stdout",
     "output_type": "stream",
     "text": [
      "<HelloRootRequest:5151765c-e665-42fc-b0c0-a108d8140ae6>\n",
      "<class 'syft.core.node.common.service.authorized_service.HelloRootRequest'>\n"
     ]
    }
   ],
   "source": [
    "dm = sy.deserialize(blob=sm, from_binary=True)\n",
    "print(dm)\n",
    "print(type(dm))"
   ]
  },
  {
   "cell_type": "code",
   "execution_count": 30,
   "metadata": {},
   "outputs": [
    {
     "name": "stdout",
     "output_type": "stream",
     "text": [
      "Device:Bob's iPhone:<UID:2f052d16-4a25-4765-9d48-6b3d2b2e38ce>\n"
     ]
    }
   ],
   "source": [
    "signed_msg = secure_msg.sign_message(signing_key=bobs_signing_key)\n",
    "signed_msg.address = secure_msg.address\n",
    "print(signed_msg.address)"
   ]
  },
  {
   "cell_type": "code",
   "execution_count": 31,
   "metadata": {},
   "outputs": [
    {
     "name": "stdout",
     "output_type": "stream",
     "text": [
      "Device:Bob's iPhone:<UID:2f052d16-4a25-4765-9d48-6b3d2b2e38ce> <HelloRootRequest:5151765c-e665-42fc-b0c0-a108d8140ae6>\n",
      "<syft.core.common.message.SignedMessage object at 0x108e25220>\n",
      "Hello bob\n"
     ]
    }
   ],
   "source": [
    "sig_hello = bob_phone_client.send_signed_msg_with_reply(msg=signed_msg)\n",
    "print(sig_hello)\n",
    "\n",
    "hello = sig_hello.inner_message()\n",
    "print(hello.message)"
   ]
  },
  {
   "cell_type": "code",
   "execution_count": 32,
   "metadata": {},
   "outputs": [],
   "source": [
    "# make a tampered message\n",
    "tampered_msg = secure_msg.sign_message(signing_key=bobs_signing_key)\n",
    "tampered_msg.address = secure_msg.address\n",
    "tampered_msg.signature += b\"a\""
   ]
  },
  {
   "cell_type": "code",
   "execution_count": 33,
   "metadata": {},
   "outputs": [
    {
     "name": "stdout",
     "output_type": "stream",
     "text": [
      "Device:Bob's iPhone:<UID:2f052d16-4a25-4765-9d48-6b3d2b2e38ce> <HelloRootRequest:5151765c-e665-42fc-b0c0-a108d8140ae6>\n",
      "<syft.core.common.message.SignedMessage object at 0x13037daf0>\n",
      "Unauthorized. Go away bob!\n"
     ]
    }
   ],
   "source": [
    "sig_hello = bob_phone_client.send_signed_msg_with_reply(msg=tampered_msg)\n",
    "print(sig_hello)\n",
    "\n",
    "hello = sig_hello.inner_message(allow_invalid=True)\n",
    "print(hello.message)"
   ]
  },
  {
   "cell_type": "code",
   "execution_count": null,
   "metadata": {},
   "outputs": [],
   "source": []
  },
  {
   "cell_type": "code",
   "execution_count": null,
   "metadata": {},
   "outputs": [],
   "source": []
  },
  {
   "cell_type": "code",
   "execution_count": null,
   "metadata": {},
   "outputs": [],
   "source": [
    "import syft as sy\n",
    "alice = sy.VirtualMachine(name=\"alice\")\n",
    "alice_client = alice.get_client()"
   ]
  },
  {
   "cell_type": "code",
   "execution_count": null,
   "metadata": {},
   "outputs": [],
   "source": [
    "import torch as th"
   ]
  },
  {
   "cell_type": "code",
   "execution_count": null,
   "metadata": {},
   "outputs": [],
   "source": [
    "x = th.tensor([1,2,3,4])\n",
    "\n",
    "blob = x.serialize()\n",
    "\n",
    "x2 = sy.deserialize(blob=blob)\n",
    "\n",
    "assert (x == x2).all()"
   ]
  },
  {
   "cell_type": "code",
   "execution_count": null,
   "metadata": {},
   "outputs": [],
   "source": []
  },
  {
   "cell_type": "code",
   "execution_count": null,
   "metadata": {},
   "outputs": [],
   "source": []
  },
  {
   "cell_type": "code",
   "execution_count": null,
   "metadata": {},
   "outputs": [],
   "source": []
  },
  {
   "cell_type": "code",
   "execution_count": null,
   "metadata": {},
   "outputs": [],
   "source": []
  },
  {
   "cell_type": "code",
   "execution_count": null,
   "metadata": {},
   "outputs": [],
   "source": []
  },
  {
   "cell_type": "code",
   "execution_count": null,
   "metadata": {},
   "outputs": [],
   "source": [
    "x.id"
   ]
  },
  {
   "cell_type": "code",
   "execution_count": null,
   "metadata": {},
   "outputs": [],
   "source": [
    "xp = x.send(alice_client)"
   ]
  },
  {
   "cell_type": "code",
   "execution_count": null,
   "metadata": {},
   "outputs": [],
   "source": [
    "xp.id_at_location"
   ]
  },
  {
   "cell_type": "code",
   "execution_count": null,
   "metadata": {},
   "outputs": [],
   "source": [
    "y = xp + xp"
   ]
  },
  {
   "cell_type": "code",
   "execution_count": null,
   "metadata": {},
   "outputs": [],
   "source": [
    "y.get()"
   ]
  },
  {
   "cell_type": "code",
   "execution_count": null,
   "metadata": {},
   "outputs": [],
   "source": [
    "alice.store"
   ]
  },
  {
   "cell_type": "code",
   "execution_count": null,
   "metadata": {},
   "outputs": [],
   "source": [
    "del xp"
   ]
  },
  {
   "cell_type": "code",
   "execution_count": null,
   "metadata": {},
   "outputs": [],
   "source": [
    "alice.store"
   ]
  },
  {
   "cell_type": "code",
   "execution_count": null,
   "metadata": {},
   "outputs": [],
   "source": [
    "ptr = alice_client.torch.zeros(10,10)"
   ]
  },
  {
   "cell_type": "code",
   "execution_count": null,
   "metadata": {},
   "outputs": [],
   "source": [
    "import numpy as np\n",
    "import syft as sy"
   ]
  },
  {
   "cell_type": "code",
   "execution_count": null,
   "metadata": {},
   "outputs": [],
   "source": [
    "x = np.array([1,2,3,4]).send(alice_client)"
   ]
  },
  {
   "cell_type": "code",
   "execution_count": null,
   "metadata": {},
   "outputs": [],
   "source": [
    "x.get()"
   ]
  },
  {
   "cell_type": "code",
   "execution_count": null,
   "metadata": {},
   "outputs": [],
   "source": [
    "x = np.array([1,2,3,4])"
   ]
  },
  {
   "cell_type": "code",
   "execution_count": null,
   "metadata": {},
   "outputs": [],
   "source": [
    "x.serialize()"
   ]
  },
  {
   "cell_type": "code",
   "execution_count": null,
   "metadata": {},
   "outputs": [],
   "source": []
  },
  {
   "cell_type": "code",
   "execution_count": null,
   "metadata": {},
   "outputs": [],
   "source": []
  },
  {
   "cell_type": "code",
   "execution_count": null,
   "metadata": {},
   "outputs": [],
   "source": []
  },
  {
   "cell_type": "code",
   "execution_count": null,
   "metadata": {},
   "outputs": [],
   "source": [
    "from sqlalchemy import create_engine\n",
    "\n",
    "engine = create_engine('sqlite:///:memory:', echo=True)"
   ]
  },
  {
   "cell_type": "code",
   "execution_count": null,
   "metadata": {},
   "outputs": [],
   "source": [
    "from sqlalchemy.orm import sessionmaker\n",
    "\n",
    "Session = sessionmaker(bind=engine)\n",
    "session = Session()"
   ]
  },
  {
   "cell_type": "code",
   "execution_count": null,
   "metadata": {},
   "outputs": [],
   "source": [
    "from sqlalchemy.ext.declarative import declarative_base\n",
    "\n",
    "Base = declarative_base()"
   ]
  },
  {
   "cell_type": "code",
   "execution_count": null,
   "metadata": {},
   "outputs": [],
   "source": [
    "from sqlalchemy import Column, Integer, String\n",
    "\n",
    "class User(Base):\n",
    "    __tablename__ = 'users'\n",
    "\n",
    "    id = Column(Integer, primary_key=True)\n",
    "    name = Column(String)\n",
    "    password = Column(String)\n",
    "\n",
    "    def __repr__(self):\n",
    "        return f'User {self.name}'"
   ]
  },
  {
   "cell_type": "code",
   "execution_count": null,
   "metadata": {},
   "outputs": [],
   "source": [
    "Base.metadata.create_all(engine)"
   ]
  },
  {
   "cell_type": "code",
   "execution_count": null,
   "metadata": {},
   "outputs": [],
   "source": [
    "user = User(name='John Snow', password='johnspassword')\n",
    "session.add(user)\n",
    "\n",
    "print(user.id)  # None"
   ]
  },
  {
   "cell_type": "code",
   "execution_count": null,
   "metadata": {},
   "outputs": [],
   "source": [
    "session.commit()"
   ]
  },
  {
   "cell_type": "code",
   "execution_count": null,
   "metadata": {},
   "outputs": [],
   "source": [
    "query = session.query(User).filter_by(name='John Snow')"
   ]
  },
  {
   "cell_type": "code",
   "execution_count": null,
   "metadata": {},
   "outputs": [],
   "source": [
    "query.count()"
   ]
  },
  {
   "cell_type": "code",
   "execution_count": null,
   "metadata": {},
   "outputs": [],
   "source": []
  }
 ],
 "metadata": {
  "kernelspec": {
   "display_name": "Python 3",
   "language": "python",
   "name": "python3"
  },
  "language_info": {
   "codemirror_mode": {
    "name": "ipython",
    "version": 3
   },
   "file_extension": ".py",
   "mimetype": "text/x-python",
   "name": "python",
   "nbconvert_exporter": "python",
   "pygments_lexer": "ipython3",
   "version": "3.8.5"
  }
 },
 "nbformat": 4,
 "nbformat_minor": 4
}

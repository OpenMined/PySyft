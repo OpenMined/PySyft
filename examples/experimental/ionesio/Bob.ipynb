{
 "cells": [
  {
   "cell_type": "code",
   "execution_count": null,
   "metadata": {},
   "outputs": [],
   "source": [
    "import syft as sy\n",
    "import torch as th\n",
    "import nest_asyncio\n",
    "from syft.grid.duet.om_signaling_client import register\n",
    "from syft.grid.duet.webrtc_duet import Duet\n",
    "\n",
    "nest_asyncio.apply()\n",
    "sy.VERBOSE = False"
   ]
  },
  {
   "cell_type": "markdown",
   "metadata": {},
   "source": [
    "## Create a Signaling Client\n",
    "This resource can be used / developed by different nodes (network, domain, device, vm) using different types of connection protocols (http, websocket, etc.)\n",
    "Thus, we abstracted the concept of signaling server, in order to make this process as generic as possible."
   ]
  },
  {
   "cell_type": "code",
   "execution_count": null,
   "metadata": {},
   "outputs": [],
   "source": [
    "signaling_client = register()"
   ]
  },
  {
   "cell_type": "markdown",
   "metadata": {},
   "source": [
    "## Create Our Domain\n",
    "Now, we need to create our domain which will work as a server, computing remote requests."
   ]
  },
  {
   "cell_type": "code",
   "execution_count": null,
   "metadata": {},
   "outputs": [],
   "source": [
    "my_domain = sy.Domain(name=\"Bob\")"
   ]
  },
  {
   "cell_type": "markdown",
   "metadata": {},
   "source": [
    "## Define Target's Domain/Address\n",
    "PS: We don't need to create a domain to our target peer (just its address would be enough)."
   ]
  },
  {
   "cell_type": "markdown",
   "metadata": {},
   "source": [
    "## Start Duet Process\n",
    "Now, we can start our ICE protocol, if everything goes well, at the end of this process we'll be connected\n",
    "with the other side and ready for send/receive messages.\n",
    "\n",
    "**PS: It is important to pay attention to the \"offer\" parameter,if this parameter is the same for both peers, communication will not be established.**"
   ]
  },
  {
   "cell_type": "code",
   "execution_count": null,
   "metadata": {},
   "outputs": [],
   "source": [
    "duet = Duet(node=my_domain,\n",
    "            target_id=\"a7e618fc5acd3886ce74fec451143f66\",\n",
    "            signaling_client=signaling_client,\n",
    "            offer=True)"
   ]
  },
  {
   "cell_type": "markdown",
   "metadata": {},
   "source": [
    "## Send/Receive Requests/Responses\n",
    "The great advantage of a full-duplex channel is: You can act as a server and as a client simultaneously."
   ]
  },
  {
   "cell_type": "code",
   "execution_count": null,
   "metadata": {},
   "outputs": [],
   "source": [
    "print(\"Send/Request remote operations\")\n",
    "x = th.tensor([1,2,3,4,5,6])\n",
    "p_x = x.send(duet)\n",
    "for i in range(10):\n",
    "    p_x = p_x + p_x\n",
    "print(\"My Result: \", p_x.get())"
   ]
  },
  {
   "cell_type": "code",
   "execution_count": null,
   "metadata": {},
   "outputs": [],
   "source": [
    "duet.close()"
   ]
  }
 ],
 "metadata": {
  "kernelspec": {
   "display_name": "Python 3",
   "language": "python",
   "name": "python3"
  },
  "language_info": {
   "codemirror_mode": {
    "name": "ipython",
    "version": 3
   },
   "file_extension": ".py",
   "mimetype": "text/x-python",
   "name": "python",
   "nbconvert_exporter": "python",
   "pygments_lexer": "ipython3",
   "version": "3.8.2"
  }
 },
 "nbformat": 4,
 "nbformat_minor": 4
}

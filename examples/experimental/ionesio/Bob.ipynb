{
 "cells": [
  {
   "cell_type": "code",
   "execution_count": null,
   "metadata": {},
   "outputs": [],
   "source": [
    "import syft as sy\n",
    "import torch as th\n",
    "import nest_asyncio\n",
    "from syft.grid.webrtc_duet import Duet\n",
    "from syft.grid.connections.http_connection import HTTPConnection\n",
    "from syft.core.node.network.client import NetworkClient\n",
    "from syft.core.io.route import SoloRoute\n",
    "from nacl.signing import SigningKey\n",
    "\n",
    "nest_asyncio.apply()\n",
    "sy.VERBOSE = False"
   ]
  },
  {
   "cell_type": "markdown",
   "metadata": {},
   "source": [
    "## Node Root Key\n",
    "Key used to perform node authentication, we're using the root key **only for proof of concept** purposes.\n",
    "In a real scenario, we'll use our own private key in order to be authorized to perform Duet with other peers."
   ]
  },
  {
   "cell_type": "markdown",
   "metadata": {},
   "source": [
    "## Create a Network Server"
   ]
  },
  {
   "cell_type": "code",
   "execution_count": null,
   "metadata": {},
   "outputs": [],
   "source": [
    "# in local development mode run:\n",
    "# $ python src/syft/grid/example_nodes/network.py\n",
    "\n",
    "# This key can be obtained from the output of network.py\n",
    "network_key = \"fd29f757f1b2c7f435dc92a4bdf314ef351131fc7bd18beadad559e88dabe6bf\""
   ]
  },
  {
   "cell_type": "markdown",
   "metadata": {},
   "source": [
    "## Create a Signaling Client\n",
    "This resource can be used / developed by different nodes (network, domain, device, vm) using different types of connection protocols (http, websocket, etc.)\n",
    "Thus, we abstracted the concept of signaling server, in order to make this process as generic as possible."
   ]
  },
  {
   "cell_type": "code",
   "execution_count": null,
   "metadata": {},
   "outputs": [],
   "source": [
    "def create_signaling_client(url,conn_type, client_type, key):\n",
    "    # Load an Signing Key instance\n",
    "    private_key = SigningKey(bytes.fromhex(key))\n",
    "    \n",
    "    # Use Signaling Server metadata\n",
    "    # to build client route\n",
    "    conn = conn_type(url=url)\n",
    "    (\n",
    "        spec_location,\n",
    "        name,\n",
    "        client_id,\n",
    "    ) = client_type.deserialize_client_metadata_from_node(\n",
    "            metadata=conn._get_metadata()\n",
    "    )\n",
    "    \n",
    "    # Create a new Solo Route using the selected connection type\n",
    "    route = SoloRoute(destination=spec_location, connection=conn)\n",
    "    \n",
    "    # Create a new signaling client using the selected client type\n",
    "    signaling_client = client_type(\n",
    "            network = spec_location,\n",
    "            name=name,\n",
    "            routes=[route],\n",
    "            signing_key=private_key,\n",
    "            verify_key=private_key.verify_key)\n",
    "    \n",
    "    return signaling_client"
   ]
  },
  {
   "cell_type": "code",
   "execution_count": null,
   "metadata": {},
   "outputs": [],
   "source": [
    "# In this example, we'll be using a Network Client type\n",
    "# that uses HTTP connection to send its messages\n",
    "signaling_client = create_signaling_client(\n",
    "    url=\"http://localhost:5000\",\n",
    "    conn_type=HTTPConnection,\n",
    "    client_type=NetworkClient,\n",
    "    key=network_key)"
   ]
  },
  {
   "cell_type": "markdown",
   "metadata": {},
   "source": [
    "## Create Our Domain\n",
    "Now, we need to create our domain which will work as a server, computing remote requests."
   ]
  },
  {
   "cell_type": "code",
   "execution_count": null,
   "metadata": {},
   "outputs": [],
   "source": [
    "my_domain = sy.Domain(name=\"Bob\")"
   ]
  },
  {
   "cell_type": "markdown",
   "metadata": {},
   "source": [
    "## Define Target's Domain/Address\n",
    "PS: We don't need to create a domain to our target peer (just its address would be enough)."
   ]
  },
  {
   "cell_type": "code",
   "execution_count": null,
   "metadata": {},
   "outputs": [],
   "source": [
    "target = sy.Domain(name=\"Maria\")"
   ]
  },
  {
   "cell_type": "markdown",
   "metadata": {},
   "source": [
    "## Start Duet Process\n",
    "Now, we can start our ICE protocol, if everything goes well, at the end of this process we'll be connected\n",
    "with the other side and ready for send/receive messages.\n",
    "\n",
    "**PS: It is important to pay attention to the \"offer\" parameter,if this parameter is the same for both peers, communication will not be established.**"
   ]
  },
  {
   "cell_type": "code",
   "execution_count": null,
   "metadata": {},
   "outputs": [],
   "source": [
    "duet = Duet(node=my_domain,\n",
    "            address=target.address,\n",
    "            signaling_client=signaling_client,\n",
    "            offer=True)"
   ]
  },
  {
   "cell_type": "markdown",
   "metadata": {},
   "source": [
    "## Send/Receive Requests/Responses\n",
    "The great advantage of a full-duplex channel is: You can act as a server and as a client simultaneously."
   ]
  },
  {
   "cell_type": "code",
   "execution_count": null,
   "metadata": {},
   "outputs": [],
   "source": [
    "print(\"Send/Request remote operations\")\n",
    "x = th.tensor([1,2,3,4,5,6])\n",
    "p_x = x.send(duet)\n",
    "for i in range(10):\n",
    "    p_x = p_x + p_x\n",
    "print(\"My Result: \", p_x.get())"
   ]
  },
  {
   "cell_type": "code",
   "execution_count": null,
   "metadata": {},
   "outputs": [],
   "source": []
  }
 ],
 "metadata": {
  "kernelspec": {
   "display_name": "Python 3",
   "language": "python",
   "name": "python3"
  },
  "language_info": {
   "codemirror_mode": {
    "name": "ipython",
    "version": 3
   },
   "file_extension": ".py",
   "mimetype": "text/x-python",
   "name": "python",
   "nbconvert_exporter": "python",
   "pygments_lexer": "ipython3",
   "version": "3.8.5"
  }
 },
 "nbformat": 4,
 "nbformat_minor": 4
}

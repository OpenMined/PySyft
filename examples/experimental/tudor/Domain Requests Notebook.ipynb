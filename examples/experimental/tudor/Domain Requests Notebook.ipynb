{
 "cells": [
  {
   "cell_type": "code",
   "execution_count": 1,
   "metadata": {},
   "outputs": [
    {
     "name": "stdout",
     "output_type": "stream",
     "text": [
      "assigning id:<UID:2d9e996d-8117-472f-980a-3d18b2475b64> type:<class 'torch.Tensor'>\n",
      "setting attr:TensorPointer\n",
      "setting attr:LinearPointer\n",
      "setting attr:ndarrayPointer\n"
     ]
    }
   ],
   "source": [
    "import syft as sy\n",
    "import numpy as np\n",
    "import torch as th"
   ]
  },
  {
   "cell_type": "code",
   "execution_count": 2,
   "metadata": {},
   "outputs": [
    {
     "name": "stdout",
     "output_type": "stream",
     "text": [
      "setting attr:TensorPointer\n",
      "setting attr:LinearPointer\n",
      "setting attr:ndarrayPointer\n",
      "assigning id:<UID:29ca0573-22cd-4e11-ab01-321ca9fbf1d5> type:<class 'torch.Tensor'>\n",
      "the message is for me!!!\n"
     ]
    }
   ],
   "source": [
    "domain_1 = sy.core.node.domain.Domain(name=\"Data Holder\")\n",
    "domain_1_client = domain_1.get_client()\n",
    "data = th.tensor([1, 2, 3])\n",
    "data_ptr = data.send(domain_1_client)"
   ]
  },
  {
   "cell_type": "code",
   "execution_count": 3,
   "metadata": {},
   "outputs": [
    {
     "name": "stdout",
     "output_type": "stream",
     "text": [
      "the message is for me!!!\n"
     ]
    }
   ],
   "source": [
    "domain_2 = sy.core.node.domain.Domain(name=\"Data Consumer\")\n",
    "data_ptr.request_access(domain_2, \"Data Request\", \"Data Request Description\")"
   ]
  },
  {
   "cell_type": "code",
   "execution_count": 4,
   "metadata": {},
   "outputs": [
    {
     "data": {
      "text/html": [
       "<div>\n",
       "<style scoped>\n",
       "    .dataframe tbody tr th:only-of-type {\n",
       "        vertical-align: middle;\n",
       "    }\n",
       "\n",
       "    .dataframe tbody tr th {\n",
       "        vertical-align: top;\n",
       "    }\n",
       "\n",
       "    .dataframe thead th {\n",
       "        text-align: right;\n",
       "    }\n",
       "</style>\n",
       "<table border=\"1\" class=\"dataframe\">\n",
       "  <thead>\n",
       "    <tr style=\"text-align: right;\">\n",
       "      <th></th>\n",
       "      <th>Request name</th>\n",
       "      <th>Request description</th>\n",
       "      <th>Request ID</th>\n",
       "      <th>Object Status</th>\n",
       "      <th>Object ID</th>\n",
       "    </tr>\n",
       "  </thead>\n",
       "  <tbody>\n",
       "    <tr>\n",
       "      <th>0</th>\n",
       "      <td>Data Request</td>\n",
       "      <td>Data Request Description</td>\n",
       "      <td>&lt;UID:8ed37175-8203-4c81-95d6-e25bcd8bad96&gt;</td>\n",
       "      <td>RequestStatus.Pending</td>\n",
       "      <td>&lt;UID:29ca0573-22cd-4e11-ab01-321ca9fbf1d5&gt;</td>\n",
       "    </tr>\n",
       "  </tbody>\n",
       "</table>\n",
       "</div>"
      ],
      "text/plain": [
       "   Request name       Request description  \\\n",
       "0  Data Request  Data Request Description   \n",
       "\n",
       "                                   Request ID          Object Status  \\\n",
       "0  <UID:8ed37175-8203-4c81-95d6-e25bcd8bad96>  RequestStatus.Pending   \n",
       "\n",
       "                                    Object ID  \n",
       "0  <UID:29ca0573-22cd-4e11-ab01-321ca9fbf1d5>  "
      ]
     },
     "execution_count": 4,
     "metadata": {},
     "output_type": "execute_result"
    }
   ],
   "source": [
    "domain_1.requests.display_requests()"
   ]
  },
  {
   "cell_type": "code",
   "execution_count": 5,
   "metadata": {},
   "outputs": [
    {
     "data": {
      "text/plain": [
       "{<UID:29ca0573-22cd-4e11-ab01-321ca9fbf1d5>: <Storable:tensor([1, 2, 3])>}"
      ]
     },
     "execution_count": 5,
     "metadata": {},
     "output_type": "execute_result"
    }
   ],
   "source": [
    "domain_1.store"
   ]
  },
  {
   "cell_type": "code",
   "execution_count": 10,
   "metadata": {},
   "outputs": [],
   "source": [
    "req_id = domain_2.requests._object2request[data_ptr.id_at_location]"
   ]
  },
  {
   "cell_type": "code",
   "execution_count": 11,
   "metadata": {},
   "outputs": [
    {
     "data": {
      "text/plain": [
       "<RequestStatus.Pending: 1>"
      ]
     },
     "execution_count": 11,
     "metadata": {},
     "output_type": "execute_result"
    }
   ],
   "source": [
    "data_ptr.check_access(domain_2, req_id)"
   ]
  },
  {
   "cell_type": "code",
   "execution_count": 14,
   "metadata": {},
   "outputs": [],
   "source": [
    "domain_1.set_request_status(req_id, sy.core.node.domain.service.RequestStatus.Accepted)"
   ]
  },
  {
   "cell_type": "code",
   "execution_count": 15,
   "metadata": {},
   "outputs": [
    {
     "data": {
      "text/html": [
       "<div>\n",
       "<style scoped>\n",
       "    .dataframe tbody tr th:only-of-type {\n",
       "        vertical-align: middle;\n",
       "    }\n",
       "\n",
       "    .dataframe tbody tr th {\n",
       "        vertical-align: top;\n",
       "    }\n",
       "\n",
       "    .dataframe thead th {\n",
       "        text-align: right;\n",
       "    }\n",
       "</style>\n",
       "<table border=\"1\" class=\"dataframe\">\n",
       "  <thead>\n",
       "    <tr style=\"text-align: right;\">\n",
       "      <th></th>\n",
       "      <th>Request name</th>\n",
       "      <th>Request description</th>\n",
       "      <th>Request ID</th>\n",
       "      <th>Object Status</th>\n",
       "      <th>Object ID</th>\n",
       "    </tr>\n",
       "  </thead>\n",
       "  <tbody>\n",
       "    <tr>\n",
       "      <th>0</th>\n",
       "      <td>Data Request</td>\n",
       "      <td>Data Request Description</td>\n",
       "      <td>&lt;UID:8ed37175-8203-4c81-95d6-e25bcd8bad96&gt;</td>\n",
       "      <td>RequestStatus.Accepted</td>\n",
       "      <td>&lt;UID:29ca0573-22cd-4e11-ab01-321ca9fbf1d5&gt;</td>\n",
       "    </tr>\n",
       "  </tbody>\n",
       "</table>\n",
       "</div>"
      ],
      "text/plain": [
       "   Request name       Request description  \\\n",
       "0  Data Request  Data Request Description   \n",
       "\n",
       "                                   Request ID           Object Status  \\\n",
       "0  <UID:8ed37175-8203-4c81-95d6-e25bcd8bad96>  RequestStatus.Accepted   \n",
       "\n",
       "                                    Object ID  \n",
       "0  <UID:29ca0573-22cd-4e11-ab01-321ca9fbf1d5>  "
      ]
     },
     "execution_count": 15,
     "metadata": {},
     "output_type": "execute_result"
    }
   ],
   "source": [
    "domain_1.requests.display_requests()"
   ]
  },
  {
   "cell_type": "code",
   "execution_count": 17,
   "metadata": {},
   "outputs": [
    {
     "data": {
      "text/plain": [
       "<RequestStatus.Accepted: 3>"
      ]
     },
     "execution_count": 17,
     "metadata": {},
     "output_type": "execute_result"
    }
   ],
   "source": [
    "data_ptr.check_access(domain_2, req_id)"
   ]
  },
  {
   "cell_type": "code",
   "execution_count": null,
   "metadata": {},
   "outputs": [],
   "source": []
  }
 ],
 "metadata": {
  "kernelspec": {
   "display_name": "pysyft_dev",
   "language": "python",
   "name": "pysyft_dev"
  },
  "language_info": {
   "codemirror_mode": {
    "name": "ipython",
    "version": 3
   },
   "file_extension": ".py",
   "mimetype": "text/x-python",
   "name": "python",
   "nbconvert_exporter": "python",
   "pygments_lexer": "ipython3",
   "version": "3.8.1"
  }
 },
 "nbformat": 4,
 "nbformat_minor": 4
}

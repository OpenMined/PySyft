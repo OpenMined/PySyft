{
 "cells": [
  {
   "cell_type": "code",
   "execution_count": 1,
   "metadata": {},
   "outputs": [
    {
     "name": "stderr",
     "output_type": "stream",
     "text": [
      "/Users/atrask/opt/anaconda3/envs/syft/lib/python3.8/site-packages/torch/distributed/distributed_c10d.py:102: UserWarning: torch.distributed.reduce_op is deprecated, please use torch.distributed.ReduceOp instead\n",
      "  warnings.warn(\"torch.distributed.reduce_op is deprecated, please use \"\n"
     ]
    },
    {
     "name": "stdout",
     "output_type": "stream",
     "text": [
      "assigning id:<UID:588e261c-2fe5-452c-9eb7-42495267076b> type:<class 'torch.Tensor'>\n",
      "setting attr:TensorPointer\n",
      "setting attr:LinearPointer\n",
      "setting attr:ParameterPointer\n"
     ]
    }
   ],
   "source": [
    "import syft as sy\n",
    "import numpy as np\n",
    "import torch as th"
   ]
  },
  {
   "cell_type": "code",
   "execution_count": 2,
   "metadata": {},
   "outputs": [
    {
     "name": "stdout",
     "output_type": "stream",
     "text": [
      "> Creating 🏰 Data Holder (Domain@<UID:🚻🙡>)\n",
      "setting attr:TensorPointer\n",
      "setting attr:LinearPointer\n",
      "setting attr:ParameterPointer\n",
      "> Creating 📡 [🏰] Data Holder Client (DomainClient@<UID:🚻🙡>)\n",
      "assigning id:<UID:b02e80fa-01c7-4031-bfdf-1c9a3d1c9d17> type:<class 'torch.Tensor'>\n",
      "> Creating ✉️  (SaveObjectAction)\n",
      "> 📡 [🏰] Data Holder Client (DomainClient@<UID:🚻🙡>) Signing ✉️  (SaveObjectAction) with 🚼\n",
      "> Signing with 🚼\n",
      "Wrapped tensor with id:<UID:b02e80fa-01c7-4031-bfdf-1c9a3d1c9d17>\n",
      "> Creating Signed ✉️ 🔏 (SignedImmediateSyftMessageWithoutReply)\n",
      "> Sending ✉️ 🔏 (SignedImmediateSyftMessageWithoutReply) 📡 [🏰] Data Holder Client (DomainClient@<UID:🚻🙡>) ➡️  💠 [🏰] Data Holder Client (Address\n",
      "> Routing ✉️ 🔏 (SignedImmediateSyftMessageWithoutReply) via 🛣️  (SoloRoute)\n",
      "> Received ✉️ 🔏 (SignedImmediateSyftMessageWithoutReply) @ 🏰 Data Holder (Domain@<UID:🚻🙡>)\n",
      "> Processing 📨 ✉️ 🔏 (SignedImmediateSyftMessageWithoutReply) @ 🏰 Data Holder (Domain@<UID:🚻🙡>)\n",
      "> Recipient Found ✉️ 🔏 (SignedImmediateSyftMessageWithoutReply)@<UID:🚻🙡> == 🏰 Data Holder (Domain@<UID:🚻🙡>)\n",
      "assigning id:<UID:86ac30d1-8810-4a96-9d4b-3f887a70c2ce> type:<class 'torch.Tensor'>\n",
      "> Creating ✉️  (SaveObjectAction)\n"
     ]
    }
   ],
   "source": [
    "domain_1 = sy.core.node.domain.Domain(name=\"Data Holder\")\n",
    "domain_1_client = domain_1.get_client()\n",
    "data = th.tensor([1, 2, 3])\n",
    "data_ptr = data.send(domain_1_client)"
   ]
  },
  {
   "cell_type": "code",
   "execution_count": 3,
   "metadata": {},
   "outputs": [
    {
     "data": {
      "text/plain": [
       "<DomainClient:<UID:fad5f660-f098-427a-9221-bec29787ee78>>"
      ]
     },
     "execution_count": 3,
     "metadata": {},
     "output_type": "execute_result"
    }
   ],
   "source": [
    "data_ptr.location"
   ]
  },
  {
   "cell_type": "code",
   "execution_count": 4,
   "metadata": {},
   "outputs": [
    {
     "name": "stdout",
     "output_type": "stream",
     "text": [
      "> Creating 🏰 Data Consumer (Domain@<UID:🚻🙡>)\n",
      "> Creating ✉️  (RequestMessage)\n",
      "> 📡 [🏰] Data Holder Client (DomainClient@<UID:🚻🙡>) Signing ✉️  (RequestMessage) with 🚼\n",
      "> Signing with 🚼\n",
      "> Creating Signed ✉️ 🔏 (SignedImmediateSyftMessageWithoutReply)\n",
      "> Sending ✉️ 🔏 (SignedImmediateSyftMessageWithoutReply) 📡 [🏰] Data Holder Client (DomainClient@<UID:🚻🙡>) ➡️  💠 [🏰] Data Holder Client (Address\n",
      "> Routing ✉️ 🔏 (SignedImmediateSyftMessageWithoutReply) via 🛣️  (SoloRoute)\n",
      "> Received ✉️ 🔏 (SignedImmediateSyftMessageWithoutReply) @ 🏰 Data Holder (Domain@<UID:🚻🙡>)\n",
      "> Processing 📨 ✉️ 🔏 (SignedImmediateSyftMessageWithoutReply) @ 🏰 Data Holder (Domain@<UID:🚻🙡>)\n",
      "> Recipient Found ✉️ 🔏 (SignedImmediateSyftMessageWithoutReply)@<UID:🚻🙡> == 🏰 Data Holder (Domain@<UID:🚻🙡>)\n",
      "> Creating ✉️  (RequestMessage)\n"
     ]
    }
   ],
   "source": [
    "domain_2 = sy.core.node.domain.Domain(name=\"Data Consumer\")\n",
    "data_ptr.request_access(data_ptr.location, \"Data Request\", \"Data Request Description\")"
   ]
  },
  {
   "cell_type": "code",
   "execution_count": 6,
   "metadata": {},
   "outputs": [
    {
     "data": {
      "text/html": [
       "<div>\n",
       "<style scoped>\n",
       "    .dataframe tbody tr th:only-of-type {\n",
       "        vertical-align: middle;\n",
       "    }\n",
       "\n",
       "    .dataframe tbody tr th {\n",
       "        vertical-align: top;\n",
       "    }\n",
       "\n",
       "    .dataframe thead th {\n",
       "        text-align: right;\n",
       "    }\n",
       "</style>\n",
       "<table border=\"1\" class=\"dataframe\">\n",
       "  <thead>\n",
       "    <tr style=\"text-align: right;\">\n",
       "      <th></th>\n",
       "      <th>Request name</th>\n",
       "      <th>Request description</th>\n",
       "      <th>Request ID</th>\n",
       "      <th>Object Status</th>\n",
       "      <th>Object ID</th>\n",
       "    </tr>\n",
       "  </thead>\n",
       "  <tbody>\n",
       "    <tr>\n",
       "      <th>0</th>\n",
       "      <td>Data Request</td>\n",
       "      <td>Data Request Description</td>\n",
       "      <td>&lt;UID:ab957341-0f9c-4f87-9686-81127d5cc113&gt;</td>\n",
       "      <td>RequestStatus.Pending</td>\n",
       "      <td>&lt;UID:b02e80fa-01c7-4031-bfdf-1c9a3d1c9d17&gt;</td>\n",
       "    </tr>\n",
       "  </tbody>\n",
       "</table>\n",
       "</div>"
      ],
      "text/plain": [
       "   Request name       Request description  \\\n",
       "0  Data Request  Data Request Description   \n",
       "\n",
       "                                   Request ID          Object Status  \\\n",
       "0  <UID:ab957341-0f9c-4f87-9686-81127d5cc113>  RequestStatus.Pending   \n",
       "\n",
       "                                    Object ID  \n",
       "0  <UID:b02e80fa-01c7-4031-bfdf-1c9a3d1c9d17>  "
      ]
     },
     "execution_count": 6,
     "metadata": {},
     "output_type": "execute_result"
    }
   ],
   "source": [
    "domain_1.requests.display_requests()"
   ]
  },
  {
   "cell_type": "code",
   "execution_count": 5,
   "metadata": {},
   "outputs": [
    {
     "data": {
      "text/plain": [
       "{<UID:29ca0573-22cd-4e11-ab01-321ca9fbf1d5>: <Storable:tensor([1, 2, 3])>}"
      ]
     },
     "execution_count": 5,
     "metadata": {},
     "output_type": "execute_result"
    }
   ],
   "source": [
    "domain_1.store"
   ]
  },
  {
   "cell_type": "code",
   "execution_count": 10,
   "metadata": {},
   "outputs": [],
   "source": [
    "req_id = domain_2.requests._object2request[data_ptr.id_at_location]"
   ]
  },
  {
   "cell_type": "code",
   "execution_count": 11,
   "metadata": {},
   "outputs": [
    {
     "data": {
      "text/plain": [
       "<RequestStatus.Pending: 1>"
      ]
     },
     "execution_count": 11,
     "metadata": {},
     "output_type": "execute_result"
    }
   ],
   "source": [
    "data_ptr.check_access(domain_2, req_id)"
   ]
  },
  {
   "cell_type": "code",
   "execution_count": 14,
   "metadata": {},
   "outputs": [],
   "source": [
    "domain_1.set_request_status(req_id, sy.core.node.domain.service.RequestStatus.Accepted)"
   ]
  },
  {
   "cell_type": "code",
   "execution_count": 15,
   "metadata": {},
   "outputs": [
    {
     "data": {
      "text/html": [
       "<div>\n",
       "<style scoped>\n",
       "    .dataframe tbody tr th:only-of-type {\n",
       "        vertical-align: middle;\n",
       "    }\n",
       "\n",
       "    .dataframe tbody tr th {\n",
       "        vertical-align: top;\n",
       "    }\n",
       "\n",
       "    .dataframe thead th {\n",
       "        text-align: right;\n",
       "    }\n",
       "</style>\n",
       "<table border=\"1\" class=\"dataframe\">\n",
       "  <thead>\n",
       "    <tr style=\"text-align: right;\">\n",
       "      <th></th>\n",
       "      <th>Request name</th>\n",
       "      <th>Request description</th>\n",
       "      <th>Request ID</th>\n",
       "      <th>Object Status</th>\n",
       "      <th>Object ID</th>\n",
       "    </tr>\n",
       "  </thead>\n",
       "  <tbody>\n",
       "    <tr>\n",
       "      <th>0</th>\n",
       "      <td>Data Request</td>\n",
       "      <td>Data Request Description</td>\n",
       "      <td>&lt;UID:8ed37175-8203-4c81-95d6-e25bcd8bad96&gt;</td>\n",
       "      <td>RequestStatus.Accepted</td>\n",
       "      <td>&lt;UID:29ca0573-22cd-4e11-ab01-321ca9fbf1d5&gt;</td>\n",
       "    </tr>\n",
       "  </tbody>\n",
       "</table>\n",
       "</div>"
      ],
      "text/plain": [
       "   Request name       Request description  \\\n",
       "0  Data Request  Data Request Description   \n",
       "\n",
       "                                   Request ID           Object Status  \\\n",
       "0  <UID:8ed37175-8203-4c81-95d6-e25bcd8bad96>  RequestStatus.Accepted   \n",
       "\n",
       "                                    Object ID  \n",
       "0  <UID:29ca0573-22cd-4e11-ab01-321ca9fbf1d5>  "
      ]
     },
     "execution_count": 15,
     "metadata": {},
     "output_type": "execute_result"
    }
   ],
   "source": [
    "domain_1.requests.display_requests()"
   ]
  },
  {
   "cell_type": "code",
   "execution_count": 17,
   "metadata": {},
   "outputs": [
    {
     "data": {
      "text/plain": [
       "<RequestStatus.Accepted: 3>"
      ]
     },
     "execution_count": 17,
     "metadata": {},
     "output_type": "execute_result"
    }
   ],
   "source": [
    "data_ptr.check_access(domain_2, req_id)"
   ]
  },
  {
   "cell_type": "code",
   "execution_count": null,
   "metadata": {},
   "outputs": [],
   "source": []
  }
 ],
 "metadata": {
  "kernelspec": {
   "display_name": "Python 3",
   "language": "python",
   "name": "python3"
  },
  "language_info": {
   "codemirror_mode": {
    "name": "ipython",
    "version": 3
   },
   "file_extension": ".py",
   "mimetype": "text/x-python",
   "name": "python",
   "nbconvert_exporter": "python",
   "pygments_lexer": "ipython3",
   "version": "3.8.1"
  }
 },
 "nbformat": 4,
 "nbformat_minor": 4
}

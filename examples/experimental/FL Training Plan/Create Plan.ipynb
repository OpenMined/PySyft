{
 "cells": [
  {
   "cell_type": "markdown",
   "source": [
    "# Federated Learning Training Plan: Create Plan\n",
    "\n",
    "Let's try to make protobuf-serializable Training Plan and Model that work after deserializing :)\n",
    "\n",
    "Current list of problems:\n",
    " * `tensor.shape` is not traceable inside the Plan (issue [#3554](https://github.com/OpenMined/PySyft/issues/3554)).\n",
    " * Autograd/Plan tracing doesn't work with native torch's loss functions and optimizers.\n",
    " * others?\n"
   ],
   "metadata": {
    "collapsed": false,
    "pycharm": {
     "name": "#%% md\n"
    }
   }
  },
  {
   "cell_type": "code",
   "execution_count": 1,
   "metadata": {
    "collapsed": true
   },
   "outputs": [
    {
     "name": "stdout",
     "output_type": "stream",
     "text": [
      "Setting up Sandbox...\n",
      "Done!\n"
     ]
    },
    {
     "data": {
      "text/plain": "<torch._C.Generator at 0x208ff241bb0>"
     },
     "execution_count": 1,
     "metadata": {},
     "output_type": "execute_result"
    }
   ],
   "source": [
    "%load_ext autoreload\n",
    "%autoreload 2\n",
    "import warnings\n",
    "warnings.filterwarnings(\"ignore\")\n",
    "\n",
    "import syft as sy\n",
    "import torch as th\n",
    "from torch import nn\n",
    "from syft.serde import protobuf\n",
    "import os\n",
    "from syft.execution.state import State\n",
    "from syft.execution.placeholder import PlaceHolder\n",
    "from syft.execution.translation import TranslationTarget\n",
    "\n",
    "\n",
    "sy.make_hook(globals())\n",
    "# force protobuf serialization for tensors\n",
    "hook.local_worker.framework = None\n",
    "th.random.manual_seed(1)"
   ]
  },
  {
   "cell_type": "markdown",
   "source": [
    "This utility function will serialize any object to protobuf binary and save to a file."
   ],
   "metadata": {
    "collapsed": false,
    "pycharm": {
     "name": "#%% md\n"
    }
   }
  },
  {
   "cell_type": "code",
   "execution_count": 2,
   "outputs": [],
   "source": [
    "def serialize_to_bin_pb(worker, obj, filename):\n",
    "    pb = protobuf.serde._bufferize(worker, obj)\n",
    "    bin = pb.SerializeToString()\n",
    "    print(\"Writing %s to %s/%s\" % (obj.__class__.__name__, os.getcwd(), filename))\n",
    "    with open(filename, \"wb\") as f:\n",
    "        f.write(bin)\n",
    "\n",
    "\n",
    "def set_model_params(module, params_list, start_param_idx=0):\n",
    "    \"\"\" Set params list into model recursively\n",
    "    \"\"\"\n",
    "    param_idx = start_param_idx\n",
    "\n",
    "    for name, param in module._parameters.items():\n",
    "        module._parameters[name] = params_list[param_idx]\n",
    "        param_idx += 1\n",
    "\n",
    "    for name, child in module._modules.items():\n",
    "        if child is not None:\n",
    "            param_idx = set_model_params(child, params_list, param_idx)\n",
    "\n",
    "    return param_idx"
   ],
   "metadata": {
    "collapsed": false,
    "pycharm": {
     "name": "#%%\n"
    }
   }
  },
  {
   "cell_type": "markdown",
   "source": [
    "## Step 1: Define the model\n",
    "\n",
    "This model will train on MNIST data, it's very simple yet can demonstrate learning process.\n",
    "There're 2 linear layers: \n",
    "\n",
    "* Linear 784x392\n",
    "* ReLU\n",
    "* Linear 392x10 "
   ],
   "metadata": {
    "collapsed": false,
    "pycharm": {
     "name": "#%% md\n"
    }
   }
  },
  {
   "cell_type": "code",
   "execution_count": 3,
   "outputs": [],
   "source": [
    "class Net(nn.Module):\n",
    "    def __init__(self):\n",
    "        super(Net, self).__init__()\n",
    "        self.fc1 = nn.Linear(784, 392)\n",
    "        self.fc2 = nn.Linear(392, 10)\n",
    "\n",
    "    def forward(self, x):\n",
    "        x = self.fc1(x)\n",
    "        x = nn.functional.relu(x)\n",
    "        x = self.fc2(x)\n",
    "        return x\n",
    "\n",
    "model = Net()"
   ],
   "metadata": {
    "collapsed": false,
    "pycharm": {
     "name": "#%%\n"
    }
   }
  },
  {
   "cell_type": "markdown",
   "source": [
    "## Step 2: Define Training Plan\n",
    "### Loss function \n",
    "Batch size needs to be passed because otherwise `target.shape[0]` is not traced inside Plan yet (Issue [#3554](https://github.com/OpenMined/PySyft/issues/3554)).\n"
   ],
   "metadata": {
    "collapsed": false,
    "pycharm": {
     "name": "#%% md\n"
    }
   }
  },
  {
   "cell_type": "code",
   "execution_count": 4,
   "outputs": [],
   "source": [
    "def softmax_cross_entropy_with_logits(logits, targets, batch_size):\n",
    "    \"\"\" Calculates softmax entropy\n",
    "        Args:\n",
    "            * logits: (NxC) outputs of dense layer\n",
    "            * targets: (NxC) one-hot encoded labels\n",
    "            * batch_size: value of N, temporarily required because Plan cannot trace .shape\n",
    "    \"\"\"\n",
    "    # numstable logsoftmax\n",
    "    norm_logits = logits - logits.max()\n",
    "    log_probs = norm_logits - norm_logits.exp().sum(dim=1, keepdim=True).log()\n",
    "    # NLL, reduction = mean\n",
    "    return -(targets * log_probs).sum() / batch_size"
   ],
   "metadata": {
    "collapsed": false,
    "pycharm": {
     "name": "#%%\n"
    }
   }
  },
  {
   "cell_type": "markdown",
   "source": [
    "### Optimization function\n",
    " \n",
    "Just updates weights with grad*lr.\n",
    "\n",
    "Note: can't do inplace update because of Autograd/Plan tracing specifics."
   ],
   "metadata": {
    "collapsed": false,
    "pycharm": {
     "name": "#%% md\n"
    }
   }
  },
  {
   "cell_type": "code",
   "execution_count": 5,
   "outputs": [],
   "source": [
    "def naive_sgd(param, **kwargs):\n",
    "    return param - kwargs['lr'] * param.grad"
   ],
   "metadata": {
    "collapsed": false,
    "pycharm": {
     "name": "#%%\n"
    }
   }
  },
  {
   "cell_type": "markdown",
   "source": [
    "### Training Plan procedure\n",
    "\n",
    "We define a routine that will take one batch of training data, and model parameters,\n",
    "and will update model parameters to optimize them for given loss function using SGD."
   ],
   "metadata": {
    "collapsed": false,
    "pycharm": {
     "name": "#%% md\n"
    }
   }
  },
  {
   "cell_type": "code",
   "execution_count": 6,
   "outputs": [],
   "source": [
    "@sy.func2plan()\n",
    "def training_plan(X, y, batch_size, lr, model_params):\n",
    "    # inject params into model\n",
    "    set_model_params(model, model_params)\n",
    "\n",
    "    # forward pass\n",
    "    logits = model.forward(X)\n",
    "    \n",
    "    # loss\n",
    "    loss = softmax_cross_entropy_with_logits(logits, y, batch_size)\n",
    "\n",
    "    # backprop\n",
    "    loss.backward()\n",
    "\n",
    "    # step\n",
    "    updated_params = [\n",
    "        naive_sgd(param, lr=lr)\n",
    "        for param in model_params\n",
    "    ]\n",
    "    \n",
    "    # accuracy\n",
    "    pred = th.argmax(logits, dim=1)\n",
    "    target = th.argmax(y, dim=1)\n",
    "    acc = pred.eq(target).sum().float() / batch_size\n",
    "\n",
    "    return (\n",
    "        loss,\n",
    "        acc,\n",
    "        *updated_params\n",
    "    )"
   ],
   "metadata": {
    "collapsed": false,
    "pycharm": {
     "name": "#%%\n"
    }
   }
  },
  {
   "cell_type": "markdown",
   "source": [
    "Let's build this procedure into the Plan that we can serialize."
   ],
   "metadata": {
    "collapsed": false,
    "pycharm": {
     "name": "#%% md\n"
    }
   }
  },
  {
   "cell_type": "code",
   "execution_count": 7,
   "outputs": [],
   "source": [
    "# Dummy input parameters to make the trace\n",
    "model_params = list(model.parameters())\n",
    "X = th.randn(3, 28 * 28)\n",
    "y = nn.functional.one_hot(th.tensor([1, 2, 3]), 10)\n",
    "lr = th.tensor([0.01])\n",
    "batch_size = th.tensor([3.0])\n",
    "\n",
    "_ = training_plan.build(X, y, batch_size, lr, model_params, trace_autograd=True)"
   ],
   "metadata": {
    "collapsed": false,
    "pycharm": {
     "name": "#%%\n"
    }
   }
  },
  {
   "cell_type": "markdown",
   "source": [
    "Let's look inside the Syft Plan and print out the list of operations recorded."
   ],
   "metadata": {
    "collapsed": false,
    "pycharm": {
     "name": "#%% md\n"
    }
   }
  },
  {
   "cell_type": "code",
   "execution_count": 8,
   "outputs": [
    {
     "name": "stdout",
     "output_type": "stream",
     "text": [
      "def training_plan(arg_1, arg_2, arg_3, arg_4, arg_5, arg_6, arg_7, arg_8):\n",
      "    var_0 = arg_5.t()\n",
      "    var_1 = arg_1.matmul(var_0)\n",
      "    var_2 = arg_6.add(var_1)\n",
      "    var_3 = var_2.relu()\n",
      "    var_4 = arg_7.t()\n",
      "    var_5 = var_3.matmul(var_4)\n",
      "    var_6 = arg_8.add(var_5)\n",
      "    var_7 = var_6.max()\n",
      "    var_8 = var_6.sub(var_7)\n",
      "    var_9 = var_8.exp()\n",
      "    var_10 = var_9.sum(dim=1, keepdim=True)\n",
      "    var_11 = var_10.log()\n",
      "    var_12 = var_8.sub(var_11)\n",
      "    var_13 = arg_2.mul(var_12)\n",
      "    var_14 = var_13.sum()\n",
      "    var_15 = var_14.neg()\n",
      "    out_1 = var_15.div(arg_3)\n",
      "    var_16 = out_1.mul(0)\n",
      "    var_17 = var_16.add(1)\n",
      "    var_18 = var_17.div(arg_3)\n",
      "    var_19 = var_18.mul(-1)\n",
      "    var_20 = var_19.reshape([-1, 1])\n",
      "    var_21 = var_13.mul(0)\n",
      "    var_22 = var_21.add(1)\n",
      "    var_23 = var_22.mul(var_20)\n",
      "    var_24 = var_23.mul(arg_2)\n",
      "    var_25 = var_24.add(0)\n",
      "    var_26 = var_24.mul(-1)\n",
      "    var_27 = var_26.sum(dim=[1], keepdim=True)\n",
      "    var_28 = var_25.add(0)\n",
      "    var_29 = var_28.add(0)\n",
      "    var_30 = var_28.add(0)\n",
      "    var_31 = var_29.sum(dim=[0])\n",
      "    var_32 = var_31.copy()\n",
      "    var_33 = var_4.t()\n",
      "    var_34 = var_30.matmul(var_33)\n",
      "    var_35 = var_3.t()\n",
      "    var_36 = var_35.matmul(var_30)\n",
      "    var_37 = var_2.mul(0)\n",
      "    var_38 = var_2.__gt__(var_37)\n",
      "    var_39 = var_38.mul(var_34)\n",
      "    var_40 = var_39.add(0)\n",
      "    var_41 = var_39.add(0)\n",
      "    var_42 = var_40.sum(dim=[0])\n",
      "    var_43 = var_42.copy()\n",
      "    var_44 = arg_1.t()\n",
      "    var_45 = var_44.matmul(var_41)\n",
      "    var_46 = var_45.t()\n",
      "    var_47 = var_46.copy()\n",
      "    var_48 = var_36.t()\n",
      "    var_49 = var_48.copy()\n",
      "    var_50 = var_10.__rtruediv__(1)\n",
      "    var_51 = var_27.mul(var_50)\n",
      "    var_52 = var_51.reshape([-1, 1])\n",
      "    var_53 = var_9.mul(0)\n",
      "    var_54 = var_53.add(1)\n",
      "    var_55 = var_54.mul(var_52)\n",
      "    var_56 = var_8.exp()\n",
      "    var_57 = var_55.mul(var_56)\n",
      "    var_58 = var_57.add(0)\n",
      "    var_59 = var_58.add(0)\n",
      "    var_60 = var_58.add(0)\n",
      "    var_61 = var_59.sum(dim=[0])\n",
      "    var_32 = var_32.add_(var_61)\n",
      "    var_62 = var_4.t()\n",
      "    var_63 = var_60.matmul(var_62)\n",
      "    var_64 = var_3.t()\n",
      "    var_65 = var_64.matmul(var_60)\n",
      "    var_66 = var_2.mul(0)\n",
      "    var_67 = var_2.__gt__(var_66)\n",
      "    var_68 = var_67.mul(var_63)\n",
      "    var_69 = var_68.add(0)\n",
      "    var_70 = var_68.add(0)\n",
      "    var_71 = var_69.sum(dim=[0])\n",
      "    var_43 = var_43.add_(var_71)\n",
      "    var_72 = arg_1.t()\n",
      "    var_73 = var_72.matmul(var_70)\n",
      "    var_74 = var_73.t()\n",
      "    var_47 = var_47.add_(var_74)\n",
      "    var_75 = var_65.t()\n",
      "    var_49 = var_49.add_(var_75)\n",
      "    var_76 = arg_4.mul(var_47)\n",
      "    out_3 = arg_5.sub(var_76)\n",
      "    var_77 = arg_4.mul(var_43)\n",
      "    out_4 = arg_6.sub(var_77)\n",
      "    var_78 = arg_4.mul(var_49)\n",
      "    out_5 = arg_7.sub(var_78)\n",
      "    var_79 = arg_4.mul(var_32)\n",
      "    out_6 = arg_8.sub(var_79)\n",
      "    var_80 = torch.argmax(var_6, dim=1)\n",
      "    var_81 = torch.argmax(arg_2, dim=1)\n",
      "    var_82 = var_80.eq(var_81)\n",
      "    var_83 = var_82.sum()\n",
      "    var_84 = var_83.float()\n",
      "    out_2 = var_84.div(arg_3)\n",
      "    return out_1, out_2, out_3, out_4, out_5, out_6\n"
     ]
    }
   ],
   "source": [
    "print(training_plan.code)"
   ],
   "metadata": {
    "collapsed": false,
    "pycharm": {
     "name": "#%%\n"
    }
   }
  },
  {
   "cell_type": "markdown",
   "source": [
    "Plan should be automatically translated to torchscript and tensorflow.js, too.\n",
    "Let's examine torchscript code:"
   ],
   "metadata": {
    "collapsed": false,
    "pycharm": {
     "name": "#%% md\n"
    }
   }
  },
  {
   "cell_type": "code",
   "execution_count": 9,
   "outputs": [
    {
     "name": "stdout",
     "output_type": "stream",
     "text": [
      "def <Plan training_plan id:1660783167 owner:me built>\n",
      "(argument_0: Tensor,\n",
      "    argument_1: Tensor,\n",
      "    argument_2: Tensor,\n",
      "    argument_3: Tensor,\n",
      "    argument_4: List[Tensor]) -> Tuple[Tensor, Tensor, Tensor, Tensor, Tensor, Tensor]:\n",
      "  _0, _1, _2, _3, = argument_4\n",
      "  _4 = torch.add(_1, torch.matmul(argument_0, torch.t(_0)), alpha=1)\n",
      "  _5 = torch.relu(_4)\n",
      "  _6 = torch.t(_2)\n",
      "  _7 = torch.add(_3, torch.matmul(_5, _6), alpha=1)\n",
      "  _8 = torch.sub(_7, torch.max(_7), alpha=1)\n",
      "  _9 = torch.exp(_8)\n",
      "  _10 = torch.sum(_9, [1], True, dtype=None)\n",
      "  _11 = torch.sub(_8, torch.log(_10), alpha=1)\n",
      "  _12 = torch.mul(argument_1, _11)\n",
      "  _13 = torch.div(torch.neg(torch.sum(_12, dtype=None)), argument_2)\n",
      "  _14 = torch.add(torch.mul(_13, CONSTANTS.c0), CONSTANTS.c1, alpha=1)\n",
      "  _15 = torch.mul(torch.div(_14, argument_2), CONSTANTS.c2)\n",
      "  _16 = torch.reshape(_15, [-1, 1])\n",
      "  _17 = torch.add(torch.mul(_12, CONSTANTS.c0), CONSTANTS.c1, alpha=1)\n",
      "  _18 = torch.mul(torch.mul(_17, _16), argument_1)\n",
      "  _19 = torch.add(_18, CONSTANTS.c0, alpha=1)\n",
      "  _20 = torch.sum(torch.mul(_18, CONSTANTS.c2), [1], True, dtype=None)\n",
      "  _21 = torch.add(_19, CONSTANTS.c0, alpha=1)\n",
      "  _22 = torch.add(_21, CONSTANTS.c0, alpha=1)\n",
      "  _23 = torch.add(_21, CONSTANTS.c0, alpha=1)\n",
      "  _24 = torch.sum(_22, [0], False, dtype=None)\n",
      "  _25 = torch.matmul(_23, torch.t(_6))\n",
      "  _26 = torch.matmul(torch.t(_5), _23)\n",
      "  _27 = torch.gt(_4, torch.mul(_4, CONSTANTS.c0))\n",
      "  _28 = torch.mul(_27, _25)\n",
      "  _29 = torch.add(_28, CONSTANTS.c0, alpha=1)\n",
      "  _30 = torch.add(_28, CONSTANTS.c0, alpha=1)\n",
      "  _31 = torch.sum(_29, [0], False, dtype=None)\n",
      "  _32 = torch.matmul(torch.t(argument_0), _30)\n",
      "  _33 = torch.t(_32)\n",
      "  _34 = torch.t(_26)\n",
      "  _35 = torch.mul(torch.reciprocal(_10), CONSTANTS.c1)\n",
      "  _36 = torch.reshape(torch.mul(_20, _35), [-1, 1])\n",
      "  _37 = torch.add(torch.mul(_9, CONSTANTS.c0), CONSTANTS.c1, alpha=1)\n",
      "  _38 = torch.mul(torch.mul(_37, _36), torch.exp(_8))\n",
      "  _39 = torch.add(_38, CONSTANTS.c0, alpha=1)\n",
      "  _40 = torch.add(_39, CONSTANTS.c0, alpha=1)\n",
      "  _41 = torch.add(_39, CONSTANTS.c0, alpha=1)\n",
      "  _42 = torch.sum(_40, [0], False, dtype=None)\n",
      "  _43 = torch.add_(_24, _42, alpha=1)\n",
      "  _44 = torch.matmul(_41, torch.t(_6))\n",
      "  _45 = torch.matmul(torch.t(_5), _41)\n",
      "  _46 = torch.gt(_4, torch.mul(_4, CONSTANTS.c0))\n",
      "  _47 = torch.mul(_46, _44)\n",
      "  _48 = torch.add(_47, CONSTANTS.c0, alpha=1)\n",
      "  _49 = torch.add(_47, CONSTANTS.c0, alpha=1)\n",
      "  _50 = torch.sum(_48, [0], False, dtype=None)\n",
      "  _51 = torch.add_(_31, _50, alpha=1)\n",
      "  _52 = torch.matmul(torch.t(argument_0), _49)\n",
      "  _53 = torch.add_(_33, torch.t(_52), alpha=1)\n",
      "  _54 = torch.add_(_34, torch.t(_45), alpha=1)\n",
      "  _55 = torch.sub(_0, torch.mul(argument_3, _53), alpha=1)\n",
      "  _56 = torch.sub(_1, torch.mul(argument_3, _51), alpha=1)\n",
      "  _57 = torch.sub(_2, torch.mul(argument_3, _54), alpha=1)\n",
      "  _58 = torch.sub(_3, torch.mul(argument_3, _43), alpha=1)\n",
      "  _59 = torch.eq(torch.argmax(_7, 1, False), torch.argmax(argument_1, 1, False))\n",
      "  _60 = torch.to(torch.sum(_59, dtype=None), 6, False, False, None)\n",
      "  _61 = (_13, torch.div(_60, argument_2), _55, _56, _57, _58)\n",
      "  return _61\n",
      "\n"
     ]
    }
   ],
   "source": [
    "print(training_plan.torchscript.code)"
   ],
   "metadata": {
    "collapsed": false,
    "pycharm": {
     "name": "#%%\n"
    }
   }
  },
  {
   "cell_type": "markdown",
   "source": [
    "Tensorflow.js code:"
   ],
   "metadata": {
    "collapsed": false,
    "pycharm": {
     "name": "#%% md\n"
    }
   }
  },
  {
   "cell_type": "code",
   "execution_count": 10,
   "outputs": [
    {
     "name": "stdout",
     "output_type": "stream",
     "text": [
      "def training_plan(arg_1, arg_2, arg_3, arg_4, arg_5, arg_6, arg_7, arg_8):\n",
      "    var_0 = tf.transpose(arg_5)\n",
      "    var_1 = tf.matMul(arg_1, var_0)\n",
      "    var_2 = tf.add(arg_6, var_1)\n",
      "    var_3 = tf.relu(var_2)\n",
      "    var_4 = tf.transpose(arg_7)\n",
      "    var_5 = tf.matMul(var_3, var_4)\n",
      "    var_6 = tf.add(arg_8, var_5)\n",
      "    var_7 = tf.max(var_6)\n",
      "    var_8 = tf.sub(var_6, var_7)\n",
      "    var_9 = tf.exp(var_8)\n",
      "    var_10 = tf.sum(var_9, 1, keepdim=True)\n",
      "    var_11 = tf.log(var_10)\n",
      "    var_12 = tf.sub(var_8, var_11)\n",
      "    var_13 = tf.mul(arg_2, var_12)\n",
      "    var_14 = tf.sum(var_13)\n",
      "    var_15 = tf.neg(var_14)\n",
      "    out_1 = tf.div(var_15, arg_3)\n",
      "    var_16 = tf.mul(out_1, 0)\n",
      "    var_17 = tf.add(var_16, 1)\n",
      "    var_18 = tf.div(var_17, arg_3)\n",
      "    var_19 = tf.mul(var_18, -1)\n",
      "    var_20 = reshape(var_19, [-1, 1])\n",
      "    var_21 = tf.mul(var_13, 0)\n",
      "    var_22 = tf.add(var_21, 1)\n",
      "    var_23 = tf.mul(var_22, var_20)\n",
      "    var_24 = tf.mul(var_23, arg_2)\n",
      "    var_25 = tf.add(var_24, 0)\n",
      "    var_26 = tf.mul(var_24, -1)\n",
      "    var_27 = tf.sum(var_26, [1], keepdim=True)\n",
      "    var_28 = tf.add(var_25, 0)\n",
      "    var_29 = tf.add(var_28, 0)\n",
      "    var_30 = tf.add(var_28, 0)\n",
      "    var_31 = tf.sum(var_29, [0])\n",
      "    var_32 = clone(var_31)\n",
      "    var_33 = tf.transpose(var_4)\n",
      "    var_34 = tf.matMul(var_30, var_33)\n",
      "    var_35 = tf.transpose(var_3)\n",
      "    var_36 = tf.matMul(var_35, var_30)\n",
      "    var_37 = tf.mul(var_2, 0)\n",
      "    var_38 = tf.greater(var_2, var_37)\n",
      "    var_39 = tf.mul(var_38, var_34)\n",
      "    var_40 = tf.add(var_39, 0)\n",
      "    var_41 = tf.add(var_39, 0)\n",
      "    var_42 = tf.sum(var_40, [0])\n",
      "    var_43 = clone(var_42)\n",
      "    var_44 = tf.transpose(arg_1)\n",
      "    var_45 = tf.matMul(var_44, var_41)\n",
      "    var_46 = tf.transpose(var_45)\n",
      "    var_47 = clone(var_46)\n",
      "    var_48 = tf.transpose(var_36)\n",
      "    var_49 = clone(var_48)\n",
      "    var_50 = tf.div(1, var_10)\n",
      "    var_51 = tf.mul(var_27, var_50)\n",
      "    var_52 = reshape(var_51, [-1, 1])\n",
      "    var_53 = tf.mul(var_9, 0)\n",
      "    var_54 = tf.add(var_53, 1)\n",
      "    var_55 = tf.mul(var_54, var_52)\n",
      "    var_56 = tf.exp(var_8)\n",
      "    var_57 = tf.mul(var_55, var_56)\n",
      "    var_58 = tf.add(var_57, 0)\n",
      "    var_59 = tf.add(var_58, 0)\n",
      "    var_60 = tf.add(var_58, 0)\n",
      "    var_61 = tf.sum(var_59, [0])\n",
      "    var_32 = tf.add(var_32, var_61)\n",
      "    var_62 = tf.transpose(var_4)\n",
      "    var_63 = tf.matMul(var_60, var_62)\n",
      "    var_64 = tf.transpose(var_3)\n",
      "    var_65 = tf.matMul(var_64, var_60)\n",
      "    var_66 = tf.mul(var_2, 0)\n",
      "    var_67 = tf.greater(var_2, var_66)\n",
      "    var_68 = tf.mul(var_67, var_63)\n",
      "    var_69 = tf.add(var_68, 0)\n",
      "    var_70 = tf.add(var_68, 0)\n",
      "    var_71 = tf.sum(var_69, [0])\n",
      "    var_43 = tf.add(var_43, var_71)\n",
      "    var_72 = tf.transpose(arg_1)\n",
      "    var_73 = tf.matMul(var_72, var_70)\n",
      "    var_74 = tf.transpose(var_73)\n",
      "    var_47 = tf.add(var_47, var_74)\n",
      "    var_75 = tf.transpose(var_65)\n",
      "    var_49 = tf.add(var_49, var_75)\n",
      "    var_76 = tf.mul(arg_4, var_47)\n",
      "    out_3 = tf.sub(arg_5, var_76)\n",
      "    var_77 = tf.mul(arg_4, var_43)\n",
      "    out_4 = tf.sub(arg_6, var_77)\n",
      "    var_78 = tf.mul(arg_4, var_49)\n",
      "    out_5 = tf.sub(arg_7, var_78)\n",
      "    var_79 = tf.mul(arg_4, var_32)\n",
      "    out_6 = tf.sub(arg_8, var_79)\n",
      "    var_80 = tf.argMax(var_6, 1)\n",
      "    var_81 = tf.argMax(arg_2, 1)\n",
      "    var_82 = tf.equal(var_80, var_81)\n",
      "    var_83 = tf.sum(var_82)\n",
      "    var_84 = tf.cast(var_83, float32)\n",
      "    out_2 = tf.div(var_84, arg_3)\n",
      "    return out_1, out_2, out_3, out_4, out_5, out_6\n"
     ]
    }
   ],
   "source": [
    "training_plan.base_framework = TranslationTarget.TENSORFLOW_JS.value\n",
    "print(training_plan.code)\n",
    "training_plan.base_framework = TranslationTarget.PYTORCH.value"
   ],
   "metadata": {
    "collapsed": false,
    "pycharm": {
     "name": "#%%\n"
    }
   }
  },
  {
   "cell_type": "markdown",
   "source": [
    "## Step 3: Serialize!\n",
    "\n",
    "Now it's time to serialize model params and plans to protobuf and save them for further usage:\n",
    " * In \"Execute Plan\" notebook, we load and execute these plans & model, from Python.\n",
    " * In \"Host Plan\" notebook, we send these plans & model to PyGrid, so it can be executed from other worker (e.g. syft.js).\n",
    "\n",
    "**NOTE:**\n",
    " * We don't serialize full Model, only weights. How the Model is serialized is TBD.\n",
    "   State is suitable protobuf class to wrap list of Model params tensors."
   ],
   "metadata": {
    "collapsed": false,
    "pycharm": {
     "name": "#%% md\n"
    }
   }
  },
  {
   "cell_type": "code",
   "execution_count": 11,
   "outputs": [
    {
     "name": "stdout",
     "output_type": "stream",
     "text": [
      "Writing Plan to D:\\projects\\openmined\\PySyft\\examples\\experimental\\FL Training Plan/tp_full.pb\n",
      "Writing State to D:\\projects\\openmined\\PySyft\\examples\\experimental\\FL Training Plan/model_params.pb\n"
     ]
    }
   ],
   "source": [
    "serialize_to_bin_pb(hook.local_worker, training_plan, \"tp_full.pb\")\n",
    "\n",
    "# wrap weights in State to serialize\n",
    "model_params_state = State(\n",
    "    state_placeholders=[\n",
    "        PlaceHolder().instantiate(param)\n",
    "        for param in model_params\n",
    "    ]\n",
    ")\n",
    "\n",
    "serialize_to_bin_pb(hook.local_worker, model_params_state, \"model_params.pb\")\n"
   ],
   "metadata": {
    "collapsed": false,
    "pycharm": {
     "name": "#%%\n"
    }
   }
  }
 ],
 "metadata": {
  "kernelspec": {
   "display_name": "Python 3",
   "language": "python",
   "name": "python3"
  },
  "language_info": {
   "codemirror_mode": {
    "name": "ipython",
    "version": 2
   },
   "file_extension": ".py",
   "mimetype": "text/x-python",
   "name": "python",
   "nbconvert_exporter": "python",
   "pygments_lexer": "ipython2",
   "version": "2.7.6"
  }
 },
 "nbformat": 4,
 "nbformat_minor": 0
}
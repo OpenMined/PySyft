{
 "cells": [
  {
   "cell_type": "markdown",
   "metadata": {},
   "source": [
    "### Imports & setup"
   ]
  },
  {
   "cell_type": "code",
   "execution_count": 1,
   "metadata": {},
   "outputs": [],
   "source": [
    "import syft as sy"
   ]
  },
  {
   "cell_type": "code",
   "execution_count": 2,
   "metadata": {},
   "outputs": [],
   "source": [
    "import sklearn\n",
    "import sklearn.linear_model"
   ]
  },
  {
   "cell_type": "code",
   "execution_count": 3,
   "metadata": {},
   "outputs": [],
   "source": [
    "sy.load_lib(\"sklearn\")\n",
    "sy.load_lib(\"pandas\")\n",
    "remote = sy.VirtualMachine().get_root_client()\n",
    "remote_sklearn = remote.sklearn\n",
    "remote_pd = remote.pandas"
   ]
  },
  {
   "cell_type": "markdown",
   "metadata": {},
   "source": [
    "### Load example data and inspect"
   ]
  },
  {
   "cell_type": "code",
   "execution_count": 4,
   "metadata": {},
   "outputs": [],
   "source": [
    "# Change this path to any available CSV on your machine\n",
    "CSV_DATASET='/cache/datasets/paysim/PS_20174392719_1491204439457_log.csv'"
   ]
  },
  {
   "cell_type": "code",
   "execution_count": 5,
   "metadata": {},
   "outputs": [],
   "source": [
    "import pandas as pd\n",
    "df = pd.read_csv(CSV_DATASET)\n",
    "df = df.head(5)"
   ]
  },
  {
   "cell_type": "code",
   "execution_count": 6,
   "metadata": {
    "scrolled": true
   },
   "outputs": [
    {
     "data": {
      "text/html": [
       "<div>\n",
       "<style scoped>\n",
       "    .dataframe tbody tr th:only-of-type {\n",
       "        vertical-align: middle;\n",
       "    }\n",
       "\n",
       "    .dataframe tbody tr th {\n",
       "        vertical-align: top;\n",
       "    }\n",
       "\n",
       "    .dataframe thead th {\n",
       "        text-align: right;\n",
       "    }\n",
       "</style>\n",
       "<table border=\"1\" class=\"dataframe\">\n",
       "  <thead>\n",
       "    <tr style=\"text-align: right;\">\n",
       "      <th></th>\n",
       "      <th>step</th>\n",
       "      <th>type</th>\n",
       "      <th>amount</th>\n",
       "      <th>nameOrig</th>\n",
       "      <th>oldbalanceOrg</th>\n",
       "      <th>newbalanceOrig</th>\n",
       "      <th>nameDest</th>\n",
       "      <th>oldbalanceDest</th>\n",
       "      <th>newbalanceDest</th>\n",
       "      <th>isFraud</th>\n",
       "      <th>isFlaggedFraud</th>\n",
       "    </tr>\n",
       "  </thead>\n",
       "  <tbody>\n",
       "    <tr>\n",
       "      <th>0</th>\n",
       "      <td>1</td>\n",
       "      <td>PAYMENT</td>\n",
       "      <td>9839.64</td>\n",
       "      <td>C1231006815</td>\n",
       "      <td>170136.0</td>\n",
       "      <td>160296.36</td>\n",
       "      <td>M1979787155</td>\n",
       "      <td>0.0</td>\n",
       "      <td>0.0</td>\n",
       "      <td>0</td>\n",
       "      <td>0</td>\n",
       "    </tr>\n",
       "    <tr>\n",
       "      <th>1</th>\n",
       "      <td>1</td>\n",
       "      <td>PAYMENT</td>\n",
       "      <td>1864.28</td>\n",
       "      <td>C1666544295</td>\n",
       "      <td>21249.0</td>\n",
       "      <td>19384.72</td>\n",
       "      <td>M2044282225</td>\n",
       "      <td>0.0</td>\n",
       "      <td>0.0</td>\n",
       "      <td>0</td>\n",
       "      <td>0</td>\n",
       "    </tr>\n",
       "    <tr>\n",
       "      <th>2</th>\n",
       "      <td>1</td>\n",
       "      <td>TRANSFER</td>\n",
       "      <td>181.00</td>\n",
       "      <td>C1305486145</td>\n",
       "      <td>181.0</td>\n",
       "      <td>0.00</td>\n",
       "      <td>C553264065</td>\n",
       "      <td>0.0</td>\n",
       "      <td>0.0</td>\n",
       "      <td>1</td>\n",
       "      <td>0</td>\n",
       "    </tr>\n",
       "    <tr>\n",
       "      <th>3</th>\n",
       "      <td>1</td>\n",
       "      <td>CASH_OUT</td>\n",
       "      <td>181.00</td>\n",
       "      <td>C840083671</td>\n",
       "      <td>181.0</td>\n",
       "      <td>0.00</td>\n",
       "      <td>C38997010</td>\n",
       "      <td>21182.0</td>\n",
       "      <td>0.0</td>\n",
       "      <td>1</td>\n",
       "      <td>0</td>\n",
       "    </tr>\n",
       "    <tr>\n",
       "      <th>4</th>\n",
       "      <td>1</td>\n",
       "      <td>PAYMENT</td>\n",
       "      <td>11668.14</td>\n",
       "      <td>C2048537720</td>\n",
       "      <td>41554.0</td>\n",
       "      <td>29885.86</td>\n",
       "      <td>M1230701703</td>\n",
       "      <td>0.0</td>\n",
       "      <td>0.0</td>\n",
       "      <td>0</td>\n",
       "      <td>0</td>\n",
       "    </tr>\n",
       "  </tbody>\n",
       "</table>\n",
       "</div>"
      ],
      "text/plain": [
       "   step      type    amount     nameOrig  oldbalanceOrg  newbalanceOrig  \\\n",
       "0     1   PAYMENT   9839.64  C1231006815       170136.0       160296.36   \n",
       "1     1   PAYMENT   1864.28  C1666544295        21249.0        19384.72   \n",
       "2     1  TRANSFER    181.00  C1305486145          181.0            0.00   \n",
       "3     1  CASH_OUT    181.00   C840083671          181.0            0.00   \n",
       "4     1   PAYMENT  11668.14  C2048537720        41554.0        29885.86   \n",
       "\n",
       "      nameDest  oldbalanceDest  newbalanceDest  isFraud  isFlaggedFraud  \n",
       "0  M1979787155             0.0             0.0        0               0  \n",
       "1  M2044282225             0.0             0.0        0               0  \n",
       "2   C553264065             0.0             0.0        1               0  \n",
       "3    C38997010         21182.0             0.0        1               0  \n",
       "4  M1230701703             0.0             0.0        0               0  "
      ]
     },
     "execution_count": 6,
     "metadata": {},
     "output_type": "execute_result"
    }
   ],
   "source": [
    "df"
   ]
  },
  {
   "cell_type": "markdown",
   "metadata": {},
   "source": [
    "### Serialise a dataframe"
   ]
  },
  {
   "cell_type": "code",
   "execution_count": 7,
   "metadata": {
    "scrolled": false
   },
   "outputs": [
    {
     "data": {
      "text/plain": [
       "id {\n",
       "  value: \"\\273\\275,\\336\\377sBl\\217\\'\\255\\3450\\325*2\"\n",
       "}\n",
       "obj_type: \"syft.lib.pandas.frame.PandasDataFrameWrapper\"\n",
       "data {\n",
       "  type_url: \"type.googleapis.com/syft.lib.pandas.PandasDataFrame\"\n",
       "  value: \"\\022\\347\\247\\001\\n\\255\\001\\n$syft.lib.python.string.StringWrapper\\022\\204\\001\\n\\022\\n\\020\\211\\331\\222\\353 \\361B\\023\\201\\273\\241V\\266\\245x\\351\\022$syft.lib.python.string.StringWrapper\\\"H\\n*type.googleapis.com/syft.lib.python.String\\022\\032\\n\\004step\\022\\022\\n\\020\\211\\331\\222\\353 \\361B\\023\\201\\273\\241V\\266\\245x\\351\\n\\255\\001\\n$syft.lib.python.string.StringWrapper\\022\\204\\001\\n\\022\\n\\020N\\216l\\326P\\000M`\\264\\242f\\255\\261c\\365\\334\\022$syft.lib.python.string.StringWrapper\\\"H\\n*type.googleapis.com/syft.lib.python.String\\022\\032\\n\\004type\\022\\022\\n\\020N\\216l\\326P\\000M`\\264\\242f\\255\\261c\\365\\334\\n\\257\\001\\n$syft.lib.python.string.StringWrapper\\022\\206\\001\\n\\022\\n\\020\\265k4\\327\\022\\203I\\037\\245\\351N\\342\\241\\006\\245\\360\\022$syft.lib.python.string.StringWrapper\\\"J\\n*type.googleapis.com/syft.lib.python.String\\022\\034\\n\\006amount\\022\\022\\n\\020\\265k4\\327\\022\\203I\\037\\245\\351N\\342\\241\\006\\245\\360\\n\\261\\001\\n$syft.lib.python.string.StringWrapper\\022\\210\\001\\n\\022\\n\\020\\302\\274$Wk\\353Je\\200\\237\\027\\205|\\240\\316\\355\\022$syft.lib.python.string.StringWrapper\\\"L\\n*type.googleapis.com/syft.lib.python.String\\022\\036\\n\\010nameOrig\\022\\022\\n\\020\\302\\274$Wk\\353Je\\200\\237\\027\\205|\\240\\316\\355\\n\\266\\001\\n$syft.lib.python.string.StringWrapper\\022\\215\\001\\n\\022\\n\\020\\2527\\254\\314\\232\\244Bq\\260:\\321\\301\\205\\236\\322t\\022$syft.lib.python.string.StringWrapper\\\"Q\\n*type.googleapis.com/syft.lib.python.String\\022#\\n\\roldbalanceOrg\\022\\022\\n\\020\\2527\\254\\314\\232\\244Bq\\260:\\321\\301\\205\\236\\322t\\n\\267\\001\\n$syft.lib.python.string.StringWrapper\\022\\216\\001\\n\\022\\n\\020\\206\\211\\2515\\341\\370G:\\240\\346P\\01693\\250\\027\\022$syft.lib.python.string.StringWrapper\\\"R\\n*type.googleapis.com/syft.lib.python.String\\022$\\n\\016newbalanceOrig\\022\\022\\n\\020\\206\\211\\2515\\341\\370G:\\240\\346P\\01693\\250\\027\\n\\261\\001\\n$syft.lib.python.string.StringWrapper\\022\\210\\001\\n\\022\\n\\020\\276\\200+\\242\\372\\314E<\\213nh\\234I\\354Ez\\022$syft.lib.python.string.StringWrapper\\\"L\\n*type.googleapis.com/syft.lib.python.String\\022\\036\\n\\010nameDest\\022\\022\\n\\020\\276\\200+\\242\\372\\314E<\\213nh\\234I\\354Ez\\n\\267\\001\\n$syft.lib.python.string.StringWrapper\\022\\216\\001\\n\\022\\n\\020\\376\\2218\\356\\\"cD\\020\\273t\\220\\030\\341\\320\\\\@\\022$syft.lib.python.string.StringWrapper\\\"R\\n*type.googleapis.com/syft.lib.python.String\\022$\\n\\016oldbalanceDest\\022\\022\\n\\020\\376\\2218\\356\\\"cD\\020\\273t\\220\\030\\341\\320\\\\@\\n\\267\\001\\n$syft.lib.python.string.StringWrapper\\022\\216\\001\\n\\022\\n\\020?\\336)\\305\\214\\340G(\\266`*\\270e*\\223\\272\\022$syft.lib.python.string.StringWrapper\\\"R\\n*type.googleapis.com/syft.lib.python.String\\022$\\n\\016newbalanceDest\\022\\022\\n\\020?\\336)\\305\\214\\340G(\\266`*\\270e*\\223\\272\\n\\260\\001\\n$syft.lib.python.string.StringWrapper\\022\\207\\001\\n\\022\\n\\020\\0250Pb.\\036L\\000\\246c\\310\\273\\037F\\006i\\022$syft.lib.python.string.StringWrapper\\\"K\\n*type.googleapis.com/syft.lib.python.String\\022\\035\\n\\007isFraud\\022\\022\\n\\020\\0250Pb.\\036L\\000\\246c\\310\\273\\037F\\006i\\n\\267\\001\\n$syft.lib.python.string.StringWrapper\\022\\216\\001\\n\\022\\n\\020\\275!\\037%\\215^@\\000\\264\\3401\\203`\\262>\\001\\022$syft.lib.python.string.StringWrapper\\\"R\\n*type.googleapis.com/syft.lib.python.String\\022$\\n\\016isFlaggedFraud\\022\\022\\n\\020\\275!\\037%\\215^@\\000\\264\\3401\\203`\\262>\\001\\022\\253\\r\\n\\033syft.lib.python.DictWrapper\\022\\213\\r\\n\\022\\n\\020H\\226\\007\\242\\025\\275E\\366\\231\\313\\3236\\266\\313\\026>\\022\\033syft.lib.python.DictWrapper\\\"\\327\\014\\n(type.googleapis.com/syft.lib.python.Dict\\022\\252\\014\\n\\227\\001\\n\\036syft.lib.python.int.IntWrapper\\022u\\n\\022\\n\\020\\220.sK\\033\\305@\\034\\203\\243y\\005\\211,#\\231\\022\\036syft.lib.python.int.IntWrapper\\\"?\\n\\'type.googleapis.com/syft.lib.python.Int\\022\\024\\022\\022\\n\\020\\220.sK\\033\\305@\\034\\203\\243y\\005\\211,#\\231\\n\\231\\001\\n\\036syft.lib.python.int.IntWrapper\\022w\\n\\022\\n\\0201\\032\\243\\021\\t\\263@`\\242\\030\\305\\356\\315`\\326\\326\\022\\036syft.lib.python.int.IntWrapper\\\"A\\n\\'type.googleapis.com/syft.lib.python.Int\\022\\026\\010\\001\\022\\022\\n\\0201\\032\\243\\021\\t\\263@`\\242\\030\\305\\356\\315`\\326\\326\\n\\231\\001\\n\\036syft.lib.python.int.IntWrapper\\022w\\n\\022\\n\\020KnU\\032r\\236GB\\206\\t\\243Q\\313\\325\\034~\\022\\036syft.lib.python.int.IntWrapper\\\"A\\n\\'type.googleapis.com/syft.lib.python.Int\\022\\026\\010\\002\\022\\022\\n\\020KnU\\032r\\236GB\\206\\t\\243Q\\313\\325\\034~\\n\\231\\001\\n\\036syft.lib.python.int.IntWrapper\\022w\\n\\022\\n\\020\\343\\337\\240X7\\013K\\256\\277r\\213=\\004?\\235\\324\\022\\036syft.lib.python.int.IntWrapper\\\"A\\n\\'type.googleapis.com/syft.lib.python.Int\\022\\026\\010\\003\\022\\022\\n\\020\\343\\337\\240X7\\013K\\256\\277r\\213=\\004?\\235\\324\\n\\231\\001\\n\\036syft.lib.python.int.IntWrapper\\022w\\n\\022\\n\\020\\003yo\\263\\324\\000@J\\202Z\\237=--/x\\022\\036syft.lib.python.int.IntWrapper\\\"A\\n\\'type.googleapis.com/syft.lib.python.Int\\022\\026\\010\\004\\022\\022\\n\\020\\003yo\\263\\324\\000@J\\202Z\\237=--/x\\022\\231\\001\\n\\036syft.lib.python.int.IntWrapper\\022w\\n\\022\\n\\020\\024\\243\\240\\264\\376\\356N\\271\\222W\\256\\234\\264\\246Y\\207\\022\\036syft.lib.python.int.IntWrapper\\\"A\\n\\'type.googleapis.com/syft.lib.python.Int\\022\\026\\010\\001\\022\\022\\n\\020\\024\\243\\240\\264\\376\\356N\\271\\222W\\256\\234\\264\\246Y\\207\\022\\231\\001\\n\\036syft.lib.python.int.IntWrapper\\022w\\n\\022\\n\\020\\316\\306uK\\276\\013@\\255\\264\\235C\\340\\211b\\220y\\022\\036syft.lib.python.int.IntWrapper\\\"A\\n\\'type.googleapis.com/syft.lib.python.Int\\022\\026\\010\\001\\022\\022\\n\\020\\316\\306uK\\276\\013@\\255\\264\\235C\\340\\211b\\220y\\022\\231\\001\\n\\036syft.lib.python.int.IntWrapper\\022w\\n\\022\\n\\020Fk\\243\\032ukCq\\236K$\\326\\021K\\210\\262\\022\\036syft.lib.python.int.IntWrapper\\\"A\\n\\'type.googleapis.com/syft.lib.python.Int\\022\\026\\010\\001\\022\\022\\n\\020Fk\\243\\032ukCq\\236K$\\326\\021K\\210\\262\\022\\231\\001\\n\\036syft.lib.python.int.IntWrapper\\022w\\n\\022\\n\\020y\\035:w\\202\\344E\\031\\221\\333\\035_\\322q\\356\\340\\022\\036syft.lib.python.int.IntWrapper\\\"A\\n\\'type.googleapis.com/syft.lib.python.Int\\022\\026\\010\\001\\022\\022\\n\\020y\\035:w\\202\\344E\\031\\221\\333\\035_\\322q\\356\\340\\022\\231\\001\\n\\036syft.lib.python.int.IntWrapper\\022w\\n\\022\\n\\020E\\227j\\323\\215\\316FI\\240\\202\\206\\200\\300T\\357\\370\\022\\036syft.lib.python.int.IntWrapper\\\"A\\n\\'type.googleapis.com/syft.lib.python.Int\\022\\026\\010\\001\\022\\022\\n\\020E\\227j\\323\\215\\316FI\\240\\202\\206\\200\\300T\\357\\370\\032\\022\\n\\020H\\226\\007\\242\\025\\275E\\366\\231\\313\\3236\\266\\313\\026>\\022\\240\\016\\n\\033syft.lib.python.DictWrapper\\022\\200\\016\\n\\022\\n\\020\\302\\273(\\305H\\364@V\\232\\223\\213\\245\\312\\025\\334\\357\\022\\033syft.lib.python.DictWrapper\\\"\\314\\r\\n(type.googleapis.com/syft.lib.python.Dict\\022\\237\\r\\n\\227\\001\\n\\036syft.lib.python.int.IntWrapper\\022u\\n\\022\\n\\020=\\177\\313n\\000\\264K;\\221-\\255W\\330H\\022\\t\\022\\036syft.lib.python.int.IntWrapper\\\"?\\n\\'type.googleapis.com/syft.lib.python.Int\\022\\024\\022\\022\\n\\020=\\177\\313n\\000\\264K;\\221-\\255W\\330H\\022\\t\\n\\231\\001\\n\\036syft.lib.python.int.IntWrapper\\022w\\n\\022\\n\\020\\326\\000xP^\\002N\\202\\242\\307yp\\246 \\243\\226\\022\\036syft.lib.python.int.IntWrapper\\\"A\\n\\'type.googleapis.com/syft.lib.python.Int\\022\\026\\010\\001\\022\\022\\n\\020\\326\\000xP^\\002N\\202\\242\\307yp\\246 \\243\\226\\n\\231\\001\\n\\036syft.lib.python.int.IntWrapper\\022w\\n\\022\\n\\020\\255m\\305\\320\\366\\007O\\364\\274\\373u\\343\\255\\223\\360\\256\\022\\036syft.lib.python.int.IntWrapper\\\"A\\n\\'type.googleapis.com/syft.lib.python.Int\\022\\026\\010\\002\\022\\022\\n\\020\\255m\\305\\320\\366\\007O\\364\\274\\373u\\343\\255\\223\\360\\256\\n\\231\\001\\n\\036syft.lib.python.int.IntWrapper\\022w\\n\\022\\n\\020\\014E\\200d:bLc\\273\\302\\227d\\316:S\\231\\022\\036syft.lib.python.int.IntWrapper\\\"A\\n\\'type.googleapis.com/syft.lib.python.Int\\022\\026\\010\\003\\022\\022\\n\\020\\014E\\200d:bLc\\273\\302\\227d\\316:S\\231\\n\\231\\001\\n\\036syft.lib.python.int.IntWrapper\\022w\\n\\022\\n\\020L\\244\\2106\\021fC\\003\\220\\236\\026\\022\\332\\250-\\270\\022\\036syft.lib.python.int.IntWrapper\\\"A\\n\\'type.googleapis.com/syft.lib.python.Int\\022\\026\\010\\004\\022\\022\\n\\020L\\244\\2106\\021fC\\003\\220\\236\\026\\022\\332\\250-\\270\\022\\260\\001\\n$syft.lib.python.string.StringWrapper\\022\\207\\001\\n\\022\\n\\020T\\004C\\004\\251\\206D\\374\\230B7fH\\007I\\025\\022$syft.lib.python.string.StringWrapper\\\"K\\n*type.googleapis.com/syft.lib.python.String\\022\\035\\n\\007PAYMENT\\022\\022\\n\\020T\\004C\\004\\251\\206D\\374\\230B7fH\\007I\\025\\022\\260\\001\\n$syft.lib.python.string.StringWrapper\\022\\207\\001\\n\\022\\n\\020k\\004O\\262\\306\\226@\\314\\2426\\317\\271\\211\\325\\206\\371\\022$syft.lib.python.string.StringWrapper\\\"K\\n*type.googleapis.com/syft.lib.python.String\\022\\035\\n\\007PAYMENT\\022\\022\\n\\020k\\004O\\262\\306\\226@\\314\\2426\\317\\271\\211\\325\\206\\371\\022\\261\\001\\n$syft.lib.python.string.StringWrapper\\022\\210\\001\\n\\022\\n\\020\\371\\336\\260Rt.F\\276\\207\\363\\026T\\336q\\251L\\022$syft.lib.python.string.StringWrapper\\\"L\\n*type.googleapis.com/syft.lib.python.String\\022\\036\\n\\010TRANSFER\\022\\022\\n\\020\\371\\336\\260Rt.F\\276\\207\\363\\026T\\336q\\251L\\022\\261\\001\\n$syft.lib.python.string.StringWrapper\\022\\210\\001\\n\\022\\n\\020\\353\\025\\352\\216z\\376@\\324\\2375\\223no;p\\335\\022$syft.lib.python.string.StringWrapper\\\"L\\n*type.googleapis.com/syft.lib.python.String\\022\\036\\n\\010CASH_OUT\\022\\022\\n\\020\\353\\025\\352\\216z\\376@\\324\\2375\\223no;p\\335\\022\\260\\001\\n$syft.lib.python.string.StringWrapper\\022\\207\\001\\n\\022\\n\\020vb\\017\\273\\303\\217H\\035\\263\\206E\\336\\216\\236!\\315\\022$syft.lib.python.string.StringWrapper\\\"K\\n*type.googleapis.com/syft.lib.python.String\\022\\035\\n\\007PAYMENT\\022\\022\\n\\020vb\\017\\273\\303\\217H\\035\\263\\206E\\336\\216\\236!\\315\\032\\022\\n\\020\\302\\273(\\305H\\364@V\\232\\223\\213\\245\\312\\025\\334\\357\\022\\361\\r\\n\\033syft.lib.python.DictWrapper\\022\\321\\r\\n\\022\\n\\020m\\014\\204~\\271IF\\321\\257/9\\233\\200\\210\\305I\\022\\033syft.lib.python.DictWrapper\\\"\\235\\r\\n(type.googleapis.com/syft.lib.python.Dict\\022\\360\\014\\n\\227\\001\\n\\036syft.lib.python.int.IntWrapper\\022u\\n\\022\\n\\020:\\344\\200\\202hKAA\\236\\302\\352\\246\\377\\241\\3043\\022\\036syft.lib.python.int.IntWrapper\\\"?\\n\\'type.googleapis.com/syft.lib.python.Int\\022\\024\\022\\022\\n\\020:\\344\\200\\202hKAA\\236\\302\\352\\246\\377\\241\\3043\\n\\231\\001\\n\\036syft.lib.python.int.IntWrapper\\022w\\n\\022\\n\\020}\\271p_\\252\\256J\\213\\214`dc\\276\\237\\206\\316\\022\\036syft.lib.python.int.IntWrapper\\\"A\\n\\'type.googleapis.com/syft.lib.python.Int\\022\\026\\010\\001\\022\\022\\n\\020}\\271p_\\252\\256J\\213\\214`dc\\276\\237\\206\\316\\n\\231\\001\\n\\036syft.lib.python.int.IntWrapper\\022w\\n\\022\\n\\020B\\353\\032\\020\\221\\tG\\017\\266\\03113\\351\\'\\224\\346\\022\\036syft.lib.python.int.IntWrapper\\\"A\\n\\'type.googleapis.com/syft.lib.python.Int\\022\\026\\010\\002\\022\\022\\n\\020B\\353\\032\\020\\221\\tG\\017\\266\\03113\\351\\'\\224\\346\\n\\231\\001\\n\\036syft.lib.python.int.IntWrapper\\022w\\n\\022\\n\\020\\276k\\272)\\274\\360G\\300\\274\\300\\3140\\302\\315\\371\\203\\022\\036syft.lib.python.int.IntWrapper\\\"A\\n\\'type.googleapis.com/syft.lib.python.Int\\022\\026\\010\\003\\022\\022\\n\\020\\276k\\272)\\274\\360G\\300\\274\\300\\3140\\302\\315\\371\\203\\n\\231\\001\\n\\036syft.lib.python.int.IntWrapper\\022w\\n\\022\\n\\020l}o\\231%\\261K?\\231V\\221\\200\\265B\\223r\\022\\036syft.lib.python.int.IntWrapper\\\"A\\n\\'type.googleapis.com/syft.lib.python.Int\\022\\026\\010\\004\\022\\022\\n\\020l}o\\231%\\261K?\\231V\\221\\200\\265B\\223r\\022\\247\\001\\n\\\"syft.lib.python.float.FloatWrapper\\022\\200\\001\\n\\022\\n\\020q-\\360~\\265bG\\371\\245\\376\\344\\360yj\\256\\334\\022\\\"syft.lib.python.float.FloatWrapper\\\"F\\n)type.googleapis.com/syft.lib.python.Float\\022\\031\\r\\217\\276\\031F\\022\\022\\n\\020q-\\360~\\265bG\\371\\245\\376\\344\\360yj\\256\\334\\022\\247\\001\\n\\\"syft.lib.python.float.FloatWrapper\\022\\200\\001\\n\\022\\n\\020\\nK\\306\\354\\236\\217@\\347\\254U\\230\\242\\317n\\017\\357\\022\\\"syft.lib.python.float.FloatWrapper\\\"F\\n)type.googleapis.com/syft.lib.python.Float\\022\\031\\r\\366\\010\\351D\\022\\022\\n\\020\\nK\\306\\354\\236\\217@\\347\\254U\\230\\242\\317n\\017\\357\\022\\247\\001\\n\\\"syft.lib.python.float.FloatWrapper\\022\\200\\001\\n\\022\\n\\020h\\3446\\320\\343\\304I\\245\\215hKD\\201\\312\\3166\\022\\\"syft.lib.python.float.FloatWrapper\\\"F\\n)type.googleapis.com/syft.lib.python.Float\\022\\031\\r\\000\\0005C\\022\\022\\n\\020h\\3446\\320\\343\\304I\\245\\215hKD\\201\\312\\3166\\022\\247\\001\\n\\\"syft.lib.python.float.FloatWrapper\\022\\200\\001\\n\\022\\n\\020\\250\\224\\241=\\000\\350JZ\\211\\375f\\206qzh\\321\\022\\\"syft.lib.python.float.FloatWrapper\\\"F\\n)type.googleapis.com/syft.lib.python.Float\\022\\031\\r\\000\\0005C\\022\\022\\n\\020\\250\\224\\241=\\000\\350JZ\\211\\375f\\206qzh\\321\\022\\247\\001\\n\\\"syft.lib.python.float.FloatWrapper\\022\\200\\001\\n\\022\\n\\020\\242!`\\243\\247\\014A\\210\\236\\227\\201\\341\\026\\\\c\\010\\022\\\"syft.lib.python.float.FloatWrapper\\\"F\\n)type.googleapis.com/syft.lib.python.Float\\022\\031\\r\\217P6F\\022\\022\\n\\020\\242!`\\243\\247\\014A\\210\\236\\227\\201\\341\\026\\\\c\\010\\032\\022\\n\\020m\\014\\204~\\271IF\\321\\257/9\\233\\200\\210\\305I\\022\\261\\016\\n\\033syft.lib.python.DictWrapper\\022\\221\\016\\n\\022\\n\\020\\356\\203ZcTy@\\312\\205\\320|\\270pz\\013.\\022\\033syft.lib.python.DictWrapper\\\"\\335\\r\\n(type.googleapis.com/syft.lib.python.Dict\\022\\260\\r\\n\\227\\001\\n\\036syft.lib.python.int.IntWrapper\\022u\\n\\022\\n\\020\\332\\211\\322Hg\\004C\\\"\\270n.{&\\206\\3701\\022\\036syft.lib.python.int.IntWrapper\\\"?\\n\\'type.googleapis.com/syft.lib.python.Int\\022\\024\\022\\022\\n\\020\\332\\211\\322Hg\\004C\\\"\\270n.{&\\206\\3701\\n\\231\\001\\n\\036syft.lib.python.int.IntWrapper\\022w\\n\\022\\n\\020\\366\\251L\\2543\\250J\\224\\276A,3\\256\\027\\354\\251\\022\\036syft.lib.python.int.IntWrapper\\\"A\\n\\'type.googleapis.com/syft.lib.python.Int\\022\\026\\010\\001\\022\\022\\n\\020\\366\\251L\\2543\\250J\\224\\276A,3\\256\\027\\354\\251\\n\\231\\001\\n\\036syft.lib.python.int.IntWrapper\\022w\\n\\022\\n\\020\\273\\347\\027\\002%\\267D\\374\\237\\34591\\245\\340~\\354\\022\\036syft.lib.python.int.IntWrapper\\\"A\\n\\'type.googleapis.com/syft.lib.python.Int\\022\\026\\010\\002\\022\\022\\n\\020\\273\\347\\027\\002%\\267D\\374\\237\\34591\\245\\340~\\354\\n\\231\\001\\n\\036syft.lib.python.int.IntWrapper\\022w\\n\\022\\n\\020\\000#a\\2153pGj\\202O4%3$Vv\\022\\036syft.lib.python.int.IntWrapper\\\"A\\n\\'type.googleapis.com/syft.lib.python.Int\\022\\026\\010\\003\\022\\022\\n\\020\\000#a\\2153pGj\\202O4%3$Vv\\n\\231\\001\\n\\036syft.lib.python.int.IntWrapper\\022w\\n\\022\\n\\0206\\220Z\\231\\324dL\\222\\223\\304\\257\\211[\\256\\214\\213\\022\\036syft.lib.python.int.IntWrapper\\\"A\\n\\'type.googleapis.com/syft.lib.python.Int\\022\\026\\010\\004\\022\\022\\n\\0206\\220Z\\231\\324dL\\222\\223\\304\\257\\211[\\256\\214\\213\\022\\264\\001\\n$syft.lib.python.string.StringWrapper\\022\\213\\001\\n\\022\\n\\020\\275\\325\\330\\226\\201\\227@\\356\\222\\016\\301{\\352\\367?\\035\\022$syft.lib.python.string.StringWrapper\\\"O\\n*type.googleapis.com/syft.lib.python.String\\022!\\n\\013C1231006815\\022\\022\\n\\020\\275\\325\\330\\226\\201\\227@\\356\\222\\016\\301{\\352\\367?\\035\\022\\264\\001\\n$syft.lib.python.string.StringWrapper\\022\\213\\001\\n\\022\\n\\020\\355\\302\\374\\3402\\300K\\352\\244\\307\\014\\216\\304\\342\\365\\304\\022$syft.lib.python.string.StringWrapper\\\"O\\n*type.googleapis.com/syft.lib.python.String\\022!\\n\\013C1666544295\\022\\022\\n\\020\\355\\302\\374\\3402\\300K\\352\\244\\307\\014\\216\\304\\342\\365\\304\\022\\264\\001\\n$syft.lib.python.string.StringWrapper\\022\\213\\001\\n\\022\\n\\020\\303\\\"\\332%\\265\\306Nw\\213\\365m\\326Kz\\202C\\022$syft.lib.python.string.StringWrapper\\\"O\\n*type.googleapis.com/syft.lib.python.String\\022!\\n\\013C1305486145\\022\\022\\n\\020\\303\\\"\\332%\\265\\306Nw\\213\\365m\\326Kz\\202C\\022\\263\\001\\n$syft.lib.python.string.StringWrapper\\022\\212\\001\\n\\022\\n\\020S\\322.\\201Y\\'N2\\251;\\204\\314\\267\\371\\251\\276\\022$syft.lib.python.string.StringWrapper\\\"N\\n*type.googleapis.com/syft.lib.python.String\\022 \\n\\nC840083671\\022\\022\\n\\020S\\322.\\201Y\\'N2\\251;\\204\\314\\267\\371\\251\\276\\022\\264\\001\\n$syft.lib.python.string.StringWrapper\\022\\213\\001\\n\\022\\n\\0209Y\\025\\236[_@\\376\\257\\217\\362\\014b0\\264i\\022$syft.lib.python.string.StringWrapper\\\"O\\n*type.googleapis.com/syft.lib.python.String\\022!\\n\\013C2048537720\\022\\022\\n\\0209Y\\025\\236[_@\\376\\257\\217\\362\\014b0\\264i\\032\\022\\n\\020\\356\\203ZcTy@\\312\\205\\320|\\270pz\\013.\\022\\361\\r\\n\\033syft.lib.python.DictWrapper\\022\\321\\r\\n\\022\\n\\020?U\\014\\305+\\376L\\222\\246w\\343\\312u\\344\\035\\247\\022\\033syft.lib.python.DictWrapper\\\"\\235\\r\\n(type.googleapis.com/syft.lib.python.Dict\\022\\360\\014\\n\\227\\001\\n\\036syft.lib.python.int.IntWrapper\\022u\\n\\022\\n\\0203:\\030\\\"\\3505O\\005\\265|\\027\\304,\\226\\262\\315\\022\\036syft.lib.python.int.IntWrapper\\\"?\\n\\'type.googleapis.com/syft.lib.python.Int\\022\\024\\022\\022\\n\\0203:\\030\\\"\\3505O\\005\\265|\\027\\304,\\226\\262\\315\\n\\231\\001\\n\\036syft.lib.python.int.IntWrapper\\022w\\n\\022\\n\\0204\\250\\307\\3572\\214D\\216\\230\\370\\303\\014\\202\\031\\261\\332\\022\\036syft.lib.python.int.IntWrapper\\\"A\\n\\'type.googleapis.com/syft.lib.python.Int\\022\\026\\010\\001\\022\\022\\n\\0204\\250\\307\\3572\\214D\\216\\230\\370\\303\\014\\202\\031\\261\\332\\n\\231\\001\\n\\036syft.lib.python.int.IntWrapper\\022w\\n\\022\\n\\020\\263\\244uy.\\344By\\237\\310n\\352\\356\\226\\203B\\022\\036syft.lib.python.int.IntWrapper\\\"A\\n\\'type.googleapis.com/syft.lib.python.Int\\022\\026\\010\\002\\022\\022\\n\\020\\263\\244uy.\\344By\\237\\310n\\352\\356\\226\\203B\\n\\231\\001\\n\\036syft.lib.python.int.IntWrapper\\022w\\n\\022\\n\\020\\031\\222\\003\\377\\265\\323Hr\\230\\316\\270oo\\030\\227\\261\\022\\036syft.lib.python.int.IntWrapper\\\"A\\n\\'type.googleapis.com/syft.lib.python.Int\\022\\026\\010\\003\\022\\022\\n\\020\\031\\222\\003\\377\\265\\323Hr\\230\\316\\270oo\\030\\227\\261\\n\\231\\001\\n\\036syft.lib.python.int.IntWrapper\\022w\\n\\022\\n\\020N\\257}$Z6@\\002\\267\\353\\277\\355\\022\\213+\\253\\022\\036syft.lib.python.int.IntWrapper\\\"A\\n\\'type.googleapis.com/syft.lib.python.Int\\022\\026\\010\\004\\022\\022\\n\\020N\\257}$Z6@\\002\\267\\353\\277\\355\\022\\213+\\253\\022\\247\\001\\n\\\"syft.lib.python.float.FloatWrapper\\022\\200\\001\\n\\022\\n\\020\\341\\354%\\233\\302\\035D\\204\\225\\273UE\\270\\346\\033F\\022\\\"syft.lib.python.float.FloatWrapper\\\"F\\n)type.googleapis.com/syft.lib.python.Float\\022\\031\\r\\000&&H\\022\\022\\n\\020\\341\\354%\\233\\302\\035D\\204\\225\\273UE\\270\\346\\033F\\022\\247\\001\\n\\\"syft.lib.python.float.FloatWrapper\\022\\200\\001\\n\\022\\n\\020\\334\\232\\323\\236K\\006J\\302\\222\\\\\\023\\005\\262\\337\\337\\332\\022\\\"syft.lib.python.float.FloatWrapper\\\"F\\n)type.googleapis.com/syft.lib.python.Float\\022\\031\\r\\000\\002\\246F\\022\\022\\n\\020\\334\\232\\323\\236K\\006J\\302\\222\\\\\\023\\005\\262\\337\\337\\332\\022\\247\\001\\n\\\"syft.lib.python.float.FloatWrapper\\022\\200\\001\\n\\022\\n\\020:v\\375\\326\\372hE\\020\\271\\204\\261g\\031^<\\351\\022\\\"syft.lib.python.float.FloatWrapper\\\"F\\n)type.googleapis.com/syft.lib.python.Float\\022\\031\\r\\000\\0005C\\022\\022\\n\\020:v\\375\\326\\372hE\\020\\271\\204\\261g\\031^<\\351\\022\\247\\001\\n\\\"syft.lib.python.float.FloatWrapper\\022\\200\\001\\n\\022\\n\\020\\313\\312_E\\023IH\\312\\256\\356\\367\\236xj8\\214\\022\\\"syft.lib.python.float.FloatWrapper\\\"F\\n)type.googleapis.com/syft.lib.python.Float\\022\\031\\r\\000\\0005C\\022\\022\\n\\020\\313\\312_E\\023IH\\312\\256\\356\\367\\236xj8\\214\\022\\247\\001\\n\\\"syft.lib.python.float.FloatWrapper\\022\\200\\001\\n\\022\\n\\020\\337\\337\\340\\250\\020tO\\226\\234bx\\334\\357\\232\\211\\251\\022\\\"syft.lib.python.float.FloatWrapper\\\"F\\n)type.googleapis.com/syft.lib.python.Float\\022\\031\\r\\000R\\\"G\\022\\022\\n\\020\\337\\337\\340\\250\\020tO\\226\\234bx\\334\\357\\232\\211\\251\\032\\022\\n\\020?U\\014\\305+\\376L\\222\\246w\\343\\312u\\344\\035\\247\\022\\345\\r\\n\\033syft.lib.python.DictWrapper\\022\\305\\r\\n\\022\\n\\020\\206F\\206:\\031!J\\024\\225N\\304\\224\\301\\200\\246\\217\\022\\033syft.lib.python.DictWrapper\\\"\\221\\r\\n(type.googleapis.com/syft.lib.python.Dict\\022\\344\\014\\n\\227\\001\\n\\036syft.lib.python.int.IntWrapper\\022u\\n\\022\\n\\020\\365\\022\\254\\202\\321\\rO\\314\\234\\222\\377F\\353l\\354;\\022\\036syft.lib.python.int.IntWrapper\\\"?\\n\\'type.googleapis.com/syft.lib.python.Int\\022\\024\\022\\022\\n\\020\\365\\022\\254\\202\\321\\rO\\314\\234\\222\\377F\\353l\\354;\\n\\231\\001\\n\\036syft.lib.python.int.IntWrapper\\022w\\n\\022\\n\\020\\225\\2777$g\\365F\\213\\217 \\270J\\324\\201!\\214\\022\\036syft.lib.python.int.IntWrapper\\\"A\\n\\'type.googleapis.com/syft.lib.python.Int\\022\\026\\010\\001\\022\\022\\n\\020\\225\\2777$g\\365F\\213\\217 \\270J\\324\\201!\\214\\n\\231\\001\\n\\036syft.lib.python.int.IntWrapper\\022w\\n\\022\\n\\020\\325\\270\\234\\010\\342\\276K\\203\\246m\\242\\272x~\\277\\023\\022\\036syft.lib.python.int.IntWrapper\\\"A\\n\\'type.googleapis.com/syft.lib.python.Int\\022\\026\\010\\002\\022\\022\\n\\020\\325\\270\\234\\010\\342\\276K\\203\\246m\\242\\272x~\\277\\023\\n\\231\\001\\n\\036syft.lib.python.int.IntWrapper\\022w\\n\\022\\n\\020N~\\007\\306\\360\\317C\\244\\205<\\225sz|.\\020\\022\\036syft.lib.python.int.IntWrapper\\\"A\\n\\'type.googleapis.com/syft.lib.python.Int\\022\\026\\010\\003\\022\\022\\n\\020N~\\007\\306\\360\\317C\\244\\205<\\225sz|.\\020\\n\\231\\001\\n\\036syft.lib.python.int.IntWrapper\\022w\\n\\022\\n\\020z\\325ZZ\\005\\000M\\363\\232\\272\\314\\260g\\002\\343d\\022\\036syft.lib.python.int.IntWrapper\\\"A\\n\\'type.googleapis.com/syft.lib.python.Int\\022\\026\\010\\004\\022\\022\\n\\020z\\325ZZ\\005\\000M\\363\\232\\272\\314\\260g\\002\\343d\\022\\247\\001\\n\\\"syft.lib.python.float.FloatWrapper\\022\\200\\001\\n\\022\\n\\020\\t\\323\\232^\\274LE\\314\\214\\\\\\336\\217\\200\\263\\274\\264\\022\\\"syft.lib.python.float.FloatWrapper\\\"F\\n)type.googleapis.com/syft.lib.python.Float\\022\\031\\r\\027\\212\\034H\\022\\022\\n\\020\\t\\323\\232^\\274LE\\314\\214\\\\\\336\\217\\200\\263\\274\\264\\022\\247\\001\\n\\\"syft.lib.python.float.FloatWrapper\\022\\200\\001\\n\\022\\n\\020\\177\\036\\227\\030AnM/\\264\\207\\325R\\021K\\246\\340\\022\\\"syft.lib.python.float.FloatWrapper\\\"F\\n)type.googleapis.com/syft.lib.python.Float\\022\\031\\rqq\\227F\\022\\022\\n\\020\\177\\036\\227\\030AnM/\\264\\207\\325R\\021K\\246\\340\\022\\241\\001\\n\\\"syft.lib.python.float.FloatWrapper\\022{\\n\\022\\n\\020^~6d\\201\\236C\\035\\211;\\000\\321v\\013~\\240\\022\\\"syft.lib.python.float.FloatWrapper\\\"A\\n)type.googleapis.com/syft.lib.python.Float\\022\\024\\022\\022\\n\\020^~6d\\201\\236C\\035\\211;\\000\\321v\\013~\\240\\022\\241\\001\\n\\\"syft.lib.python.float.FloatWrapper\\022{\\n\\022\\n\\020\\335\\337\\273az>A\\222\\201\\264\\017\\026\\332\\254B\\206\\022\\\"syft.lib.python.float.FloatWrapper\\\"A\\n)type.googleapis.com/syft.lib.python.Float\\022\\024\\022\\022\\n\\020\\335\\337\\273az>A\\222\\201\\264\\017\\026\\332\\254B\\206\\022\\247\\001\\n\\\"syft.lib.python.float.FloatWrapper\\022\\200\\001\\n\\022\\n\\020\\314\\311\\212\\033m!B\\347\\244\\234\\363ni\\307k\\270\\022\\\"syft.lib.python.float.FloatWrapper\\\"F\\n)type.googleapis.com/syft.lib.python.Float\\022\\031\\r\\270{\\351F\\022\\022\\n\\020\\314\\311\\212\\033m!B\\347\\244\\234\\363ni\\307k\\270\\032\\022\\n\\020\\206F\\206:\\031!J\\024\\225N\\304\\224\\301\\200\\246\\217\\022\\257\\016\\n\\033syft.lib.python.DictWrapper\\022\\217\\016\\n\\022\\n\\020-\\001\\202\\024J\\251H4\\264\\200\\376\\332\\325 \\347\\237\\022\\033syft.lib.python.DictWrapper\\\"\\333\\r\\n(type.googleapis.com/syft.lib.python.Dict\\022\\256\\r\\n\\227\\001\\n\\036syft.lib.python.int.IntWrapper\\022u\\n\\022\\n\\020H\\251\\013\\270\\261NF\\216\\202\\352\\n\\225fIY\\333\\022\\036syft.lib.python.int.IntWrapper\\\"?\\n\\'type.googleapis.com/syft.lib.python.Int\\022\\024\\022\\022\\n\\020H\\251\\013\\270\\261NF\\216\\202\\352\\n\\225fIY\\333\\n\\231\\001\\n\\036syft.lib.python.int.IntWrapper\\022w\\n\\022\\n\\020#\\311f\\272k^D\\313\\252\\362 \\212\\265\\373\\222A\\022\\036syft.lib.python.int.IntWrapper\\\"A\\n\\'type.googleapis.com/syft.lib.python.Int\\022\\026\\010\\001\\022\\022\\n\\020#\\311f\\272k^D\\313\\252\\362 \\212\\265\\373\\222A\\n\\231\\001\\n\\036syft.lib.python.int.IntWrapper\\022w\\n\\022\\n\\020\\211\\212\\210)\\241\\325C\\306\\252\\010\\231\\310\\337\\321\\314J\\022\\036syft.lib.python.int.IntWrapper\\\"A\\n\\'type.googleapis.com/syft.lib.python.Int\\022\\026\\010\\002\\022\\022\\n\\020\\211\\212\\210)\\241\\325C\\306\\252\\010\\231\\310\\337\\321\\314J\\n\\231\\001\\n\\036syft.lib.python.int.IntWrapper\\022w\\n\\022\\n\\020}G\\263\\027\\341\\272@e\\254\\252e\\204\\245\\210\\227\\363\\022\\036syft.lib.python.int.IntWrapper\\\"A\\n\\'type.googleapis.com/syft.lib.python.Int\\022\\026\\010\\003\\022\\022\\n\\020}G\\263\\027\\341\\272@e\\254\\252e\\204\\245\\210\\227\\363\\n\\231\\001\\n\\036syft.lib.python.int.IntWrapper\\022w\\n\\022\\n\\020\\341#~\\013q\\022N\\347\\226\\332\\312_\\234\\216\\216\\\"\\022\\036syft.lib.python.int.IntWrapper\\\"A\\n\\'type.googleapis.com/syft.lib.python.Int\\022\\026\\010\\004\\022\\022\\n\\020\\341#~\\013q\\022N\\347\\226\\332\\312_\\234\\216\\216\\\"\\022\\264\\001\\n$syft.lib.python.string.StringWrapper\\022\\213\\001\\n\\022\\n\\020\\017\\271\\2371\\253\\272K\\261\\254\\346\\217\\252\\210\\236K\\370\\022$syft.lib.python.string.StringWrapper\\\"O\\n*type.googleapis.com/syft.lib.python.String\\022!\\n\\013M1979787155\\022\\022\\n\\020\\017\\271\\2371\\253\\272K\\261\\254\\346\\217\\252\\210\\236K\\370\\022\\264\\001\\n$syft.lib.python.string.StringWrapper\\022\\213\\001\\n\\022\\n\\020\\024\\233c\\324\\260\\007D}\\264\\017\\004%\\226Wn\\232\\022$syft.lib.python.string.StringWrapper\\\"O\\n*type.googleapis.com/syft.lib.python.String\\022!\\n\\013M2044282225\\022\\022\\n\\020\\024\\233c\\324\\260\\007D}\\264\\017\\004%\\226Wn\\232\\022\\263\\001\\n$syft.lib.python.string.StringWrapper\\022\\212\\001\\n\\022\\n\\020\\336*\\202)*\\226I4\\210\\331\\003\\0255\\026\\022u\\022$syft.lib.python.string.StringWrapper\\\"N\\n*type.googleapis.com/syft.lib.python.String\\022 \\n\\nC553264065\\022\\022\\n\\020\\336*\\202)*\\226I4\\210\\331\\003\\0255\\026\\022u\\022\\262\\001\\n$syft.lib.python.string.StringWrapper\\022\\211\\001\\n\\022\\n\\020}\\335\\200K\\036\\346B\\314\\271r\\026\\310\\213\\356d#\\022$syft.lib.python.string.StringWrapper\\\"M\\n*type.googleapis.com/syft.lib.python.String\\022\\037\\n\\tC38997010\\022\\022\\n\\020}\\335\\200K\\036\\346B\\314\\271r\\026\\310\\213\\356d#\\022\\264\\001\\n$syft.lib.python.string.StringWrapper\\022\\213\\001\\n\\022\\n\\020`]m\\'\\266VGn\\235)<rZ\\013\\177\\025\\022$syft.lib.python.string.StringWrapper\\\"O\\n*type.googleapis.com/syft.lib.python.String\\022!\\n\\013M1230701703\\022\\022\\n\\020`]m\\'\\266VGn\\235)<rZ\\013\\177\\025\\032\\022\\n\\020-\\001\\202\\024J\\251H4\\264\\200\\376\\332\\325 \\347\\237\\022\\331\\r\\n\\033syft.lib.python.DictWrapper\\022\\271\\r\\n\\022\\n\\020VV\\216\\245EqHW\\276\\250\\364#\\201\\322^o\\022\\033syft.lib.python.DictWrapper\\\"\\205\\r\\n(type.googleapis.com/syft.lib.python.Dict\\022\\330\\014\\n\\227\\001\\n\\036syft.lib.python.int.IntWrapper\\022u\\n\\022\\n\\020\\272a\\214\\343\\020GK\\353\\2159\\000\\302T\\223h\\275\\022\\036syft.lib.python.int.IntWrapper\\\"?\\n\\'type.googleapis.com/syft.lib.python.Int\\022\\024\\022\\022\\n\\020\\272a\\214\\343\\020GK\\353\\2159\\000\\302T\\223h\\275\\n\\231\\001\\n\\036syft.lib.python.int.IntWrapper\\022w\\n\\022\\n\\020\\243=%\\013]\\007Br\\243\\301W\\034\\033\\260\\353\\210\\022\\036syft.lib.python.int.IntWrapper\\\"A\\n\\'type.googleapis.com/syft.lib.python.Int\\022\\026\\010\\001\\022\\022\\n\\020\\243=%\\013]\\007Br\\243\\301W\\034\\033\\260\\353\\210\\n\\231\\001\\n\\036syft.lib.python.int.IntWrapper\\022w\\n\\022\\n\\020@\\307\\244\\260J\\205H\\330\\256,M\\301d\\n~\\213\\022\\036syft.lib.python.int.IntWrapper\\\"A\\n\\'type.googleapis.com/syft.lib.python.Int\\022\\026\\010\\002\\022\\022\\n\\020@\\307\\244\\260J\\205H\\330\\256,M\\301d\\n~\\213\\n\\231\\001\\n\\036syft.lib.python.int.IntWrapper\\022w\\n\\022\\n\\020\\256\\215\\233\\203\\010\\327G\\250\\252\\353\\334\\342\\376\\217\\273a\\022\\036syft.lib.python.int.IntWrapper\\\"A\\n\\'type.googleapis.com/syft.lib.python.Int\\022\\026\\010\\003\\022\\022\\n\\020\\256\\215\\233\\203\\010\\327G\\250\\252\\353\\334\\342\\376\\217\\273a\\n\\231\\001\\n\\036syft.lib.python.int.IntWrapper\\022w\\n\\022\\n\\0204k\\346\\013\\375J@)\\224Rp\\021\\003x\\220\\255\\022\\036syft.lib.python.int.IntWrapper\\\"A\\n\\'type.googleapis.com/syft.lib.python.Int\\022\\026\\010\\004\\022\\022\\n\\0204k\\346\\013\\375J@)\\224Rp\\021\\003x\\220\\255\\022\\241\\001\\n\\\"syft.lib.python.float.FloatWrapper\\022{\\n\\022\\n\\020}\\243\\216\\356\\322,A\\201\\207\\355\\272^\\330WE\\372\\022\\\"syft.lib.python.float.FloatWrapper\\\"A\\n)type.googleapis.com/syft.lib.python.Float\\022\\024\\022\\022\\n\\020}\\243\\216\\356\\322,A\\201\\207\\355\\272^\\330WE\\372\\022\\241\\001\\n\\\"syft.lib.python.float.FloatWrapper\\022{\\n\\022\\n\\020\\353S\\213\\260I\\367H\\360\\216\\032c\\203\\034:Ux\\022\\\"syft.lib.python.float.FloatWrapper\\\"A\\n)type.googleapis.com/syft.lib.python.Float\\022\\024\\022\\022\\n\\020\\353S\\213\\260I\\367H\\360\\216\\032c\\203\\034:Ux\\022\\241\\001\\n\\\"syft.lib.python.float.FloatWrapper\\022{\\n\\022\\n\\020\\320z@T\\205\\310B\\207\\215\\360\\005\\230W\\026J!\\022\\\"syft.lib.python.float.FloatWrapper\\\"A\\n)type.googleapis.com/syft.lib.python.Float\\022\\024\\022\\022\\n\\020\\320z@T\\205\\310B\\207\\215\\360\\005\\230W\\026J!\\022\\247\\001\\n\\\"syft.lib.python.float.FloatWrapper\\022\\200\\001\\n\\022\\n\\020\\370:\\364?\\220\\275E\\233\\223\\303\\006\\033\\205x\\300\\004\\022\\\"syft.lib.python.float.FloatWrapper\\\"F\\n)type.googleapis.com/syft.lib.python.Float\\022\\031\\r\\000|\\245F\\022\\022\\n\\020\\370:\\364?\\220\\275E\\233\\223\\303\\006\\033\\205x\\300\\004\\022\\241\\001\\n\\\"syft.lib.python.float.FloatWrapper\\022{\\n\\022\\n\\020K\\237\\274s\\231-J\\212\\210$\\003\\351\\034V\\362m\\022\\\"syft.lib.python.float.FloatWrapper\\\"A\\n)type.googleapis.com/syft.lib.python.Float\\022\\024\\022\\022\\n\\020K\\237\\274s\\231-J\\212\\210$\\003\\351\\034V\\362m\\032\\022\\n\\020VV\\216\\245EqHW\\276\\250\\364#\\201\\322^o\\022\\323\\r\\n\\033syft.lib.python.DictWrapper\\022\\263\\r\\n\\022\\n\\020F\\377F\\\\\\333\\327@\\241\\220zZQ\\330\\325\\263X\\022\\033syft.lib.python.DictWrapper\\\"\\377\\014\\n(type.googleapis.com/syft.lib.python.Dict\\022\\322\\014\\n\\227\\001\\n\\036syft.lib.python.int.IntWrapper\\022u\\n\\022\\n\\020\\374e\\3108\\033fF\\265\\256%}\\354\\'\\230\\023\\360\\022\\036syft.lib.python.int.IntWrapper\\\"?\\n\\'type.googleapis.com/syft.lib.python.Int\\022\\024\\022\\022\\n\\020\\374e\\3108\\033fF\\265\\256%}\\354\\'\\230\\023\\360\\n\\231\\001\\n\\036syft.lib.python.int.IntWrapper\\022w\\n\\022\\n\\020\\271\\202\\03312cJ\\n\\233>j\\013\\262\\036\\000\\037\\022\\036syft.lib.python.int.IntWrapper\\\"A\\n\\'type.googleapis.com/syft.lib.python.Int\\022\\026\\010\\001\\022\\022\\n\\020\\271\\202\\03312cJ\\n\\233>j\\013\\262\\036\\000\\037\\n\\231\\001\\n\\036syft.lib.python.int.IntWrapper\\022w\\n\\022\\n\\020\\n\\327mw9\\212B\\017\\253!{Q-\\007D\\345\\022\\036syft.lib.python.int.IntWrapper\\\"A\\n\\'type.googleapis.com/syft.lib.python.Int\\022\\026\\010\\002\\022\\022\\n\\020\\n\\327mw9\\212B\\017\\253!{Q-\\007D\\345\\n\\231\\001\\n\\036syft.lib.python.int.IntWrapper\\022w\\n\\022\\n\\020L\\t\\205\\014\\270oC,\\202\\327\\246\\221\\030\\223\\367O\\022\\036syft.lib.python.int.IntWrapper\\\"A\\n\\'type.googleapis.com/syft.lib.python.Int\\022\\026\\010\\003\\022\\022\\n\\020L\\t\\205\\014\\270oC,\\202\\327\\246\\221\\030\\223\\367O\\n\\231\\001\\n\\036syft.lib.python.int.IntWrapper\\022w\\n\\022\\n\\020\\214L\\213=\\260AI6\\2758\\320\\013>\\201\\262\\336\\022\\036syft.lib.python.int.IntWrapper\\\"A\\n\\'type.googleapis.com/syft.lib.python.Int\\022\\026\\010\\004\\022\\022\\n\\020\\214L\\213=\\260AI6\\2758\\320\\013>\\201\\262\\336\\022\\241\\001\\n\\\"syft.lib.python.float.FloatWrapper\\022{\\n\\022\\n\\020\\370\\251\\\\\\341\\274.J\\336\\211#\\t\\374I\\020}\\354\\022\\\"syft.lib.python.float.FloatWrapper\\\"A\\n)type.googleapis.com/syft.lib.python.Float\\022\\024\\022\\022\\n\\020\\370\\251\\\\\\341\\274.J\\336\\211#\\t\\374I\\020}\\354\\022\\241\\001\\n\\\"syft.lib.python.float.FloatWrapper\\022{\\n\\022\\n\\020\\250 \\306\\313{]K\\231\\212\\235N\\244z\\005\\2153\\022\\\"syft.lib.python.float.FloatWrapper\\\"A\\n)type.googleapis.com/syft.lib.python.Float\\022\\024\\022\\022\\n\\020\\250 \\306\\313{]K\\231\\212\\235N\\244z\\005\\2153\\022\\241\\001\\n\\\"syft.lib.python.float.FloatWrapper\\022{\\n\\022\\n\\020\\333Pk\\3051SE\\201\\273\\312~\\3724\\214\\201\\010\\022\\\"syft.lib.python.float.FloatWrapper\\\"A\\n)type.googleapis.com/syft.lib.python.Float\\022\\024\\022\\022\\n\\020\\333Pk\\3051SE\\201\\273\\312~\\3724\\214\\201\\010\\022\\241\\001\\n\\\"syft.lib.python.float.FloatWrapper\\022{\\n\\022\\n\\020M&\\271>\\236\\230@Z\\212\\372@6\\260[M\\221\\022\\\"syft.lib.python.float.FloatWrapper\\\"A\\n)type.googleapis.com/syft.lib.python.Float\\022\\024\\022\\022\\n\\020M&\\271>\\236\\230@Z\\212\\372@6\\260[M\\221\\022\\241\\001\\n\\\"syft.lib.python.float.FloatWrapper\\022{\\n\\022\\n\\020\\223\\010M\\214O\\345H!\\210\\000\\347\\264K\\026\\244\\t\\022\\\"syft.lib.python.float.FloatWrapper\\\"A\\n)type.googleapis.com/syft.lib.python.Float\\022\\024\\022\\022\\n\\020\\223\\010M\\214O\\345H!\\210\\000\\347\\264K\\026\\244\\t\\032\\022\\n\\020F\\377F\\\\\\333\\327@\\241\\220zZQ\\330\\325\\263X\\022\\245\\r\\n\\033syft.lib.python.DictWrapper\\022\\205\\r\\n\\022\\n\\020\\375^\\312\\372l>N\\375\\206\\242$\\220\\262a\\345\\275\\022\\033syft.lib.python.DictWrapper\\\"\\321\\014\\n(type.googleapis.com/syft.lib.python.Dict\\022\\244\\014\\n\\227\\001\\n\\036syft.lib.python.int.IntWrapper\\022u\\n\\022\\n\\020\\376o\\333\\335;\\362LH\\252{\\030l\\362\\314\\233\\213\\022\\036syft.lib.python.int.IntWrapper\\\"?\\n\\'type.googleapis.com/syft.lib.python.Int\\022\\024\\022\\022\\n\\020\\376o\\333\\335;\\362LH\\252{\\030l\\362\\314\\233\\213\\n\\231\\001\\n\\036syft.lib.python.int.IntWrapper\\022w\\n\\022\\n\\020]\\327\\376\\201\\351\\\"AD\\223\\016\\344\\265\\034\\371\\337%\\022\\036syft.lib.python.int.IntWrapper\\\"A\\n\\'type.googleapis.com/syft.lib.python.Int\\022\\026\\010\\001\\022\\022\\n\\020]\\327\\376\\201\\351\\\"AD\\223\\016\\344\\265\\034\\371\\337%\\n\\231\\001\\n\\036syft.lib.python.int.IntWrapper\\022w\\n\\022\\n\\020\\246i\\0024\\002$M\\371\\222\\225\\225\\250\\203\\324\\220(\\022\\036syft.lib.python.int.IntWrapper\\\"A\\n\\'type.googleapis.com/syft.lib.python.Int\\022\\026\\010\\002\\022\\022\\n\\020\\246i\\0024\\002$M\\371\\222\\225\\225\\250\\203\\324\\220(\\n\\231\\001\\n\\036syft.lib.python.int.IntWrapper\\022w\\n\\022\\n\\020i\\026\\274\\340\\212\\005Fx\\227a\\214\\3352\\275\\270\\026\\022\\036syft.lib.python.int.IntWrapper\\\"A\\n\\'type.googleapis.com/syft.lib.python.Int\\022\\026\\010\\003\\022\\022\\n\\020i\\026\\274\\340\\212\\005Fx\\227a\\214\\3352\\275\\270\\026\\n\\231\\001\\n\\036syft.lib.python.int.IntWrapper\\022w\\n\\022\\n\\020~-\\016e\\212lM\\210\\242\\037\\273x\\377\\177<&\\022\\036syft.lib.python.int.IntWrapper\\\"A\\n\\'type.googleapis.com/syft.lib.python.Int\\022\\026\\010\\004\\022\\022\\n\\020~-\\016e\\212lM\\210\\242\\037\\273x\\377\\177<&\\022\\227\\001\\n\\036syft.lib.python.int.IntWrapper\\022u\\n\\022\\n\\020\\335\\241\\340l\\234\\310E\\326\\245\\010\\033\\341\\n\\310\\2257\\022\\036syft.lib.python.int.IntWrapper\\\"?\\n\\'type.googleapis.com/syft.lib.python.Int\\022\\024\\022\\022\\n\\020\\335\\241\\340l\\234\\310E\\326\\245\\010\\033\\341\\n\\310\\2257\\022\\227\\001\\n\\036syft.lib.python.int.IntWrapper\\022u\\n\\022\\n\\020\\271\\tX\\020\\020\\224LD\\276\\201\\306\\202j\\272\\242\\307\\022\\036syft.lib.python.int.IntWrapper\\\"?\\n\\'type.googleapis.com/syft.lib.python.Int\\022\\024\\022\\022\\n\\020\\271\\tX\\020\\020\\224LD\\276\\201\\306\\202j\\272\\242\\307\\022\\231\\001\\n\\036syft.lib.python.int.IntWrapper\\022w\\n\\022\\n\\020\\274/\\005;\\350fK2\\262E\\341\\302(\\311\\223\\307\\022\\036syft.lib.python.int.IntWrapper\\\"A\\n\\'type.googleapis.com/syft.lib.python.Int\\022\\026\\010\\001\\022\\022\\n\\020\\274/\\005;\\350fK2\\262E\\341\\302(\\311\\223\\307\\022\\231\\001\\n\\036syft.lib.python.int.IntWrapper\\022w\\n\\022\\n\\020\\000\\003\\2345i\\332M\\323\\265Cr\\241\\376\\202\\330\\\"\\022\\036syft.lib.python.int.IntWrapper\\\"A\\n\\'type.googleapis.com/syft.lib.python.Int\\022\\026\\010\\001\\022\\022\\n\\020\\000\\003\\2345i\\332M\\323\\265Cr\\241\\376\\202\\330\\\"\\022\\227\\001\\n\\036syft.lib.python.int.IntWrapper\\022u\\n\\022\\n\\020\\221\\336\\010\\031\\323HI\\242\\226\\3258\\347\\\\vt\\266\\022\\036syft.lib.python.int.IntWrapper\\\"?\\n\\'type.googleapis.com/syft.lib.python.Int\\022\\024\\022\\022\\n\\020\\221\\336\\010\\031\\323HI\\242\\226\\3258\\347\\\\vt\\266\\032\\022\\n\\020\\375^\\312\\372l>N\\375\\206\\242$\\220\\262a\\345\\275\\022\\241\\r\\n\\033syft.lib.python.DictWrapper\\022\\201\\r\\n\\022\\n\\020t\\350\\267\\234\\227\\331C\\277\\276\\250\\270x\\207\\361\\232H\\022\\033syft.lib.python.DictWrapper\\\"\\315\\014\\n(type.googleapis.com/syft.lib.python.Dict\\022\\240\\014\\n\\227\\001\\n\\036syft.lib.python.int.IntWrapper\\022u\\n\\022\\n\\020\\313\\2173\\327\\337\\352Ot\\206{\\023#t\\\\4?\\022\\036syft.lib.python.int.IntWrapper\\\"?\\n\\'type.googleapis.com/syft.lib.python.Int\\022\\024\\022\\022\\n\\020\\313\\2173\\327\\337\\352Ot\\206{\\023#t\\\\4?\\n\\231\\001\\n\\036syft.lib.python.int.IntWrapper\\022w\\n\\022\\n\\020x\\327#n\\350\\340G\\210\\227\\006\\002\\256 h{\\210\\022\\036syft.lib.python.int.IntWrapper\\\"A\\n\\'type.googleapis.com/syft.lib.python.Int\\022\\026\\010\\001\\022\\022\\n\\020x\\327#n\\350\\340G\\210\\227\\006\\002\\256 h{\\210\\n\\231\\001\\n\\036syft.lib.python.int.IntWrapper\\022w\\n\\022\\n\\020\\rXd\\365qKMZ\\226e2\\023\\016\\314\\321\\362\\022\\036syft.lib.python.int.IntWrapper\\\"A\\n\\'type.googleapis.com/syft.lib.python.Int\\022\\026\\010\\002\\022\\022\\n\\020\\rXd\\365qKMZ\\226e2\\023\\016\\314\\321\\362\\n\\231\\001\\n\\036syft.lib.python.int.IntWrapper\\022w\\n\\022\\n\\020\\3556\\233u\\257JNx\\250\\007\\261\\177\\321\\330\\3256\\022\\036syft.lib.python.int.IntWrapper\\\"A\\n\\'type.googleapis.com/syft.lib.python.Int\\022\\026\\010\\003\\022\\022\\n\\020\\3556\\233u\\257JNx\\250\\007\\261\\177\\321\\330\\3256\\n\\231\\001\\n\\036syft.lib.python.int.IntWrapper\\022w\\n\\022\\n\\020\\231D\\t\\024\\206\\027E\\002\\237$\\347\\204j\\306(\\264\\022\\036syft.lib.python.int.IntWrapper\\\"A\\n\\'type.googleapis.com/syft.lib.python.Int\\022\\026\\010\\004\\022\\022\\n\\020\\231D\\t\\024\\206\\027E\\002\\237$\\347\\204j\\306(\\264\\022\\227\\001\\n\\036syft.lib.python.int.IntWrapper\\022u\\n\\022\\n\\020\\274\\345I_\\326\\310F\\025\\277\\351N\\236q\\034\\233Q\\022\\036syft.lib.python.int.IntWrapper\\\"?\\n\\'type.googleapis.com/syft.lib.python.Int\\022\\024\\022\\022\\n\\020\\274\\345I_\\326\\310F\\025\\277\\351N\\236q\\034\\233Q\\022\\227\\001\\n\\036syft.lib.python.int.IntWrapper\\022u\\n\\022\\n\\020\\367\\032\\315\\t\\220\\363E\\030\\205{\\276\\277,\\260\\226\\237\\022\\036syft.lib.python.int.IntWrapper\\\"?\\n\\'type.googleapis.com/syft.lib.python.Int\\022\\024\\022\\022\\n\\020\\367\\032\\315\\t\\220\\363E\\030\\205{\\276\\277,\\260\\226\\237\\022\\227\\001\\n\\036syft.lib.python.int.IntWrapper\\022u\\n\\022\\n\\020\\204\\003.\\215.\\333C\\264\\210)\\303\\020\\354\\036\\273\\275\\022\\036syft.lib.python.int.IntWrapper\\\"?\\n\\'type.googleapis.com/syft.lib.python.Int\\022\\024\\022\\022\\n\\020\\204\\003.\\215.\\333C\\264\\210)\\303\\020\\354\\036\\273\\275\\022\\227\\001\\n\\036syft.lib.python.int.IntWrapper\\022u\\n\\022\\n\\020n\\225\\002&T\\253E\\026\\275\\204\\234p\\355\\314\\346\\007\\022\\036syft.lib.python.int.IntWrapper\\\"?\\n\\'type.googleapis.com/syft.lib.python.Int\\022\\024\\022\\022\\n\\020n\\225\\002&T\\253E\\026\\275\\204\\234p\\355\\314\\346\\007\\022\\227\\001\\n\\036syft.lib.python.int.IntWrapper\\022u\\n\\022\\n\\020I!]\\355\\327\\337D\\341\\230\\312\\374\\330`bW\\205\\022\\036syft.lib.python.int.IntWrapper\\\"?\\n\\'type.googleapis.com/syft.lib.python.Int\\022\\024\\022\\022\\n\\020I!]\\355\\327\\337D\\341\\230\\312\\374\\330`bW\\205\\032\\022\\n\\020t\\350\\267\\234\\227\\331C\\277\\276\\250\\270x\\207\\361\\232H\\032\\022\\n\\020Ze=N\\\"\\251A\\020\\226\\371\\031\\014\\364O\\307\\014\"\n",
       "}"
      ]
     },
     "execution_count": 7,
     "metadata": {},
     "output_type": "execute_result"
    }
   ],
   "source": [
    "sy.serialize(obj=df)"
   ]
  },
  {
   "cell_type": "markdown",
   "metadata": {},
   "source": [
    "### Serialise and deserialise a dataframe\n",
    "\n",
    "Triggers a `UserWarning` in `storeable_object` when trying to set attributes (Pandas hijacks this for column names)."
   ]
  },
  {
   "cell_type": "code",
   "execution_count": 8,
   "metadata": {},
   "outputs": [
    {
     "name": "stderr",
     "output_type": "stream",
     "text": [
      "/home/ben/code/om/PySyft/src/syft/lib/pandas/frame.py:57: UserWarning: Pandas doesn't allow columns to be created via a new attribute name - see https://pandas.pydata.org/pandas-docs/stable/indexing.html#attribute-access\n",
      "  data.tags = tags\n",
      "/home/ben/code/om/PySyft/src/syft/core/store/storeable_object.py:177: UserWarning: Pandas doesn't allow columns to be created via a new attribute name - see https://pandas.pydata.org/pandas-docs/stable/indexing.html#attribute-access\n",
      "  result.read_permissions = {}\n",
      "/home/ben/code/om/PySyft/src/syft/core/store/storeable_object.py:178: UserWarning: Pandas doesn't allow columns to be created via a new attribute name - see https://pandas.pydata.org/pandas-docs/stable/indexing.html#attribute-access\n",
      "  result.search_permissions = {}\n"
     ]
    },
    {
     "data": {
      "text/html": [
       "<div>\n",
       "<style scoped>\n",
       "    .dataframe tbody tr th:only-of-type {\n",
       "        vertical-align: middle;\n",
       "    }\n",
       "\n",
       "    .dataframe tbody tr th {\n",
       "        vertical-align: top;\n",
       "    }\n",
       "\n",
       "    .dataframe thead th {\n",
       "        text-align: right;\n",
       "    }\n",
       "</style>\n",
       "<table border=\"1\" class=\"dataframe\">\n",
       "  <thead>\n",
       "    <tr style=\"text-align: right;\">\n",
       "      <th></th>\n",
       "      <th>step</th>\n",
       "      <th>type</th>\n",
       "      <th>amount</th>\n",
       "      <th>nameOrig</th>\n",
       "      <th>oldbalanceOrg</th>\n",
       "      <th>newbalanceOrig</th>\n",
       "      <th>nameDest</th>\n",
       "      <th>oldbalanceDest</th>\n",
       "      <th>newbalanceDest</th>\n",
       "      <th>isFraud</th>\n",
       "      <th>isFlaggedFraud</th>\n",
       "    </tr>\n",
       "  </thead>\n",
       "  <tbody>\n",
       "    <tr>\n",
       "      <th>0</th>\n",
       "      <td>1</td>\n",
       "      <td>PAYMENT</td>\n",
       "      <td>9839.639648</td>\n",
       "      <td>C1231006815</td>\n",
       "      <td>170136.0</td>\n",
       "      <td>160296.359375</td>\n",
       "      <td>M1979787155</td>\n",
       "      <td>0.0</td>\n",
       "      <td>0.0</td>\n",
       "      <td>0</td>\n",
       "      <td>0</td>\n",
       "    </tr>\n",
       "    <tr>\n",
       "      <th>1</th>\n",
       "      <td>1</td>\n",
       "      <td>PAYMENT</td>\n",
       "      <td>1864.280029</td>\n",
       "      <td>C1666544295</td>\n",
       "      <td>21249.0</td>\n",
       "      <td>19384.720703</td>\n",
       "      <td>M2044282225</td>\n",
       "      <td>0.0</td>\n",
       "      <td>0.0</td>\n",
       "      <td>0</td>\n",
       "      <td>0</td>\n",
       "    </tr>\n",
       "    <tr>\n",
       "      <th>2</th>\n",
       "      <td>1</td>\n",
       "      <td>TRANSFER</td>\n",
       "      <td>181.000000</td>\n",
       "      <td>C1305486145</td>\n",
       "      <td>181.0</td>\n",
       "      <td>0.000000</td>\n",
       "      <td>C553264065</td>\n",
       "      <td>0.0</td>\n",
       "      <td>0.0</td>\n",
       "      <td>1</td>\n",
       "      <td>0</td>\n",
       "    </tr>\n",
       "    <tr>\n",
       "      <th>3</th>\n",
       "      <td>1</td>\n",
       "      <td>CASH_OUT</td>\n",
       "      <td>181.000000</td>\n",
       "      <td>C840083671</td>\n",
       "      <td>181.0</td>\n",
       "      <td>0.000000</td>\n",
       "      <td>C38997010</td>\n",
       "      <td>21182.0</td>\n",
       "      <td>0.0</td>\n",
       "      <td>1</td>\n",
       "      <td>0</td>\n",
       "    </tr>\n",
       "    <tr>\n",
       "      <th>4</th>\n",
       "      <td>1</td>\n",
       "      <td>PAYMENT</td>\n",
       "      <td>11668.139648</td>\n",
       "      <td>C2048537720</td>\n",
       "      <td>41554.0</td>\n",
       "      <td>29885.859375</td>\n",
       "      <td>M1230701703</td>\n",
       "      <td>0.0</td>\n",
       "      <td>0.0</td>\n",
       "      <td>0</td>\n",
       "      <td>0</td>\n",
       "    </tr>\n",
       "  </tbody>\n",
       "</table>\n",
       "</div>"
      ],
      "text/plain": [
       "   step      type        amount     nameOrig  oldbalanceOrg  newbalanceOrig  \\\n",
       "0     1   PAYMENT   9839.639648  C1231006815       170136.0   160296.359375   \n",
       "1     1   PAYMENT   1864.280029  C1666544295        21249.0    19384.720703   \n",
       "2     1  TRANSFER    181.000000  C1305486145          181.0        0.000000   \n",
       "3     1  CASH_OUT    181.000000   C840083671          181.0        0.000000   \n",
       "4     1   PAYMENT  11668.139648  C2048537720        41554.0    29885.859375   \n",
       "\n",
       "      nameDest  oldbalanceDest  newbalanceDest  isFraud  isFlaggedFraud  \n",
       "0  M1979787155             0.0             0.0        0               0  \n",
       "1  M2044282225             0.0             0.0        0               0  \n",
       "2   C553264065             0.0             0.0        1               0  \n",
       "3    C38997010         21182.0             0.0        1               0  \n",
       "4  M1230701703             0.0             0.0        0               0  "
      ]
     },
     "execution_count": 8,
     "metadata": {},
     "output_type": "execute_result"
    }
   ],
   "source": [
    "sy.deserialize(blob=sy.serialize(obj=df))"
   ]
  },
  {
   "cell_type": "markdown",
   "metadata": {},
   "source": [
    "### Serialise and deserialise a simple dataframe"
   ]
  },
  {
   "cell_type": "code",
   "execution_count": 9,
   "metadata": {},
   "outputs": [
    {
     "data": {
      "text/plain": [
       "id {\n",
       "  value: \"\\221\\226x.B}N\\263\\2729\\360Q\\366r\\001~\"\n",
       "}\n",
       "obj_type: \"syft.lib.pandas.frame.PandasDataFrameWrapper\"\n",
       "data {\n",
       "  type_url: \"type.googleapis.com/syft.lib.pandas.PandasDataFrame\"\n",
       "  value: \"\\022\\354\\t\\n\\227\\001\\n\\036syft.lib.python.int.IntWrapper\\022u\\n\\022\\n\\020\\263\\273\\013\\277(dDh\\260*\\366\\215\\001\\303\\221\\206\\022\\036syft.lib.python.int.IntWrapper\\\"?\\n\\'type.googleapis.com/syft.lib.python.Int\\022\\024\\022\\022\\n\\020\\263\\273\\013\\277(dDh\\260*\\366\\215\\001\\303\\221\\206\\022\\273\\010\\n\\033syft.lib.python.DictWrapper\\022\\233\\010\\n\\022\\n\\020\\20368\\350\\013pCq\\26566\\342\\273\\036\\001C\\022\\033syft.lib.python.DictWrapper\\\"\\347\\007\\n(type.googleapis.com/syft.lib.python.Dict\\022\\272\\007\\n\\227\\001\\n\\036syft.lib.python.int.IntWrapper\\022u\\n\\022\\n\\020[\\036\\227\\313,\\232H-\\261\\220\\374\\215\\350\\3423\\252\\022\\036syft.lib.python.int.IntWrapper\\\"?\\n\\'type.googleapis.com/syft.lib.python.Int\\022\\024\\022\\022\\n\\020[\\036\\227\\313,\\232H-\\261\\220\\374\\215\\350\\3423\\252\\n\\231\\001\\n\\036syft.lib.python.int.IntWrapper\\022w\\n\\022\\n\\020n\\342~\\000\\344\\265I*\\270/\\027\\277\\0009\\215\\261\\022\\036syft.lib.python.int.IntWrapper\\\"A\\n\\'type.googleapis.com/syft.lib.python.Int\\022\\026\\010\\001\\022\\022\\n\\020n\\342~\\000\\344\\265I*\\270/\\027\\277\\0009\\215\\261\\n\\231\\001\\n\\036syft.lib.python.int.IntWrapper\\022w\\n\\022\\n\\020\\316/\\221/b\\322O{\\207\\037\\324\\300?y\\026[\\022\\036syft.lib.python.int.IntWrapper\\\"A\\n\\'type.googleapis.com/syft.lib.python.Int\\022\\026\\010\\002\\022\\022\\n\\020\\316/\\221/b\\322O{\\207\\037\\324\\300?y\\026[\\022\\231\\001\\n\\036syft.lib.python.int.IntWrapper\\022w\\n\\022\\n\\020\\336\\003\\343z\\2301N\\237\\226\\263\\301\\227\\365c|\\351\\022\\036syft.lib.python.int.IntWrapper\\\"A\\n\\'type.googleapis.com/syft.lib.python.Int\\022\\026\\010\\001\\022\\022\\n\\020\\336\\003\\343z\\2301N\\237\\226\\263\\301\\227\\365c|\\351\\022\\231\\001\\n\\036syft.lib.python.int.IntWrapper\\022w\\n\\022\\n\\020r;\\007^Q\\023D\\r\\267\\346\\347\\364\\274c\\322R\\022\\036syft.lib.python.int.IntWrapper\\\"A\\n\\'type.googleapis.com/syft.lib.python.Int\\022\\026\\010\\002\\022\\022\\n\\020r;\\007^Q\\023D\\r\\267\\346\\347\\364\\274c\\322R\\022\\231\\001\\n\\036syft.lib.python.int.IntWrapper\\022w\\n\\022\\n\\020:e\\303\\032\\337lGW\\266\\206\\020H\\346U\\324\\356\\022\\036syft.lib.python.int.IntWrapper\\\"A\\n\\'type.googleapis.com/syft.lib.python.Int\\022\\026\\010\\003\\022\\022\\n\\020:e\\303\\032\\337lGW\\266\\206\\020H\\346U\\324\\356\\032\\022\\n\\020\\20368\\350\\013pCq\\26566\\342\\273\\036\\001C\\032\\022\\n\\020$x\\252\\277\\243:K\\\\\\265@u\\262.\\345%#\"\n",
       "}"
      ]
     },
     "execution_count": 9,
     "metadata": {},
     "output_type": "execute_result"
    }
   ],
   "source": [
    "a = [1, 2, 3]\n",
    "b = pd.DataFrame(a)\n",
    "sy.serialize(obj=b)"
   ]
  },
  {
   "cell_type": "code",
   "execution_count": 10,
   "metadata": {},
   "outputs": [
    {
     "name": "stderr",
     "output_type": "stream",
     "text": [
      "/home/ben/code/om/PySyft/src/syft/lib/pandas/frame.py:57: UserWarning: Pandas doesn't allow columns to be created via a new attribute name - see https://pandas.pydata.org/pandas-docs/stable/indexing.html#attribute-access\n",
      "  data.tags = tags\n",
      "/home/ben/code/om/PySyft/src/syft/core/store/storeable_object.py:177: UserWarning: Pandas doesn't allow columns to be created via a new attribute name - see https://pandas.pydata.org/pandas-docs/stable/indexing.html#attribute-access\n",
      "  result.read_permissions = {}\n",
      "/home/ben/code/om/PySyft/src/syft/core/store/storeable_object.py:178: UserWarning: Pandas doesn't allow columns to be created via a new attribute name - see https://pandas.pydata.org/pandas-docs/stable/indexing.html#attribute-access\n",
      "  result.search_permissions = {}\n"
     ]
    },
    {
     "data": {
      "text/html": [
       "<div>\n",
       "<style scoped>\n",
       "    .dataframe tbody tr th:only-of-type {\n",
       "        vertical-align: middle;\n",
       "    }\n",
       "\n",
       "    .dataframe tbody tr th {\n",
       "        vertical-align: top;\n",
       "    }\n",
       "\n",
       "    .dataframe thead th {\n",
       "        text-align: right;\n",
       "    }\n",
       "</style>\n",
       "<table border=\"1\" class=\"dataframe\">\n",
       "  <thead>\n",
       "    <tr style=\"text-align: right;\">\n",
       "      <th></th>\n",
       "      <th>0</th>\n",
       "    </tr>\n",
       "  </thead>\n",
       "  <tbody>\n",
       "    <tr>\n",
       "      <th>0</th>\n",
       "      <td>1</td>\n",
       "    </tr>\n",
       "    <tr>\n",
       "      <th>1</th>\n",
       "      <td>2</td>\n",
       "    </tr>\n",
       "    <tr>\n",
       "      <th>2</th>\n",
       "      <td>3</td>\n",
       "    </tr>\n",
       "  </tbody>\n",
       "</table>\n",
       "</div>"
      ],
      "text/plain": [
       "   0\n",
       "0  1\n",
       "1  2\n",
       "2  3"
      ]
     },
     "execution_count": 10,
     "metadata": {},
     "output_type": "execute_result"
    }
   ],
   "source": [
    "sy.deserialize(blob=sy.serialize(obj=b))"
   ]
  },
  {
   "cell_type": "markdown",
   "metadata": {},
   "source": [
    "### Grab data for a classifier\n",
    "\n",
    "_Convert the target var to a dataframe so we don't have to serialise `Series` yet_"
   ]
  },
  {
   "cell_type": "code",
   "execution_count": 11,
   "metadata": {},
   "outputs": [],
   "source": [
    "X = df[['amount', 'oldbalanceOrg', 'newbalanceOrig', 'oldbalanceDest', 'newbalanceDest']]\n",
    "Y = pd.DataFrame(df['isFraud'])"
   ]
  },
  {
   "cell_type": "markdown",
   "metadata": {},
   "source": [
    "### Local classifier\n",
    "\n",
    "_Train and predict on X_"
   ]
  },
  {
   "cell_type": "code",
   "execution_count": 12,
   "metadata": {},
   "outputs": [],
   "source": [
    "classifier = sklearn.linear_model.LogisticRegression()"
   ]
  },
  {
   "cell_type": "code",
   "execution_count": 13,
   "metadata": {},
   "outputs": [
    {
     "name": "stderr",
     "output_type": "stream",
     "text": [
      "/home/ben/.virtualenvs/PySyft-oY_gpCbr/lib/python3.8/site-packages/sklearn/utils/validation.py:63: DataConversionWarning: A column-vector y was passed when a 1d array was expected. Please change the shape of y to (n_samples, ), for example using ravel().\n",
      "  return f(*args, **kwargs)\n"
     ]
    },
    {
     "data": {
      "text/plain": [
       "LogisticRegression()"
      ]
     },
     "execution_count": 13,
     "metadata": {},
     "output_type": "execute_result"
    }
   ],
   "source": [
    "classifier.fit(X, Y)"
   ]
  },
  {
   "cell_type": "code",
   "execution_count": 14,
   "metadata": {},
   "outputs": [
    {
     "data": {
      "text/plain": [
       "array([0, 0, 1, 1, 0])"
      ]
     },
     "execution_count": 14,
     "metadata": {},
     "output_type": "execute_result"
    }
   ],
   "source": [
    "classifier.predict(X)"
   ]
  },
  {
   "cell_type": "markdown",
   "metadata": {},
   "source": [
    "### Remote classifier\n",
    "\n",
    "_Train and predict on X_"
   ]
  },
  {
   "cell_type": "code",
   "execution_count": 15,
   "metadata": {},
   "outputs": [],
   "source": [
    "remote_classifier = remote_sklearn.linear_model.LogisticRegression()"
   ]
  },
  {
   "cell_type": "code",
   "execution_count": 16,
   "metadata": {},
   "outputs": [
    {
     "name": "stderr",
     "output_type": "stream",
     "text": [
      "/home/ben/code/om/PySyft/src/syft/lib/pandas/frame.py:57: UserWarning: Pandas doesn't allow columns to be created via a new attribute name - see https://pandas.pydata.org/pandas-docs/stable/indexing.html#attribute-access\n",
      "  data.tags = tags\n",
      "/home/ben/code/om/PySyft/src/syft/core/store/storeable_object.py:177: UserWarning: Pandas doesn't allow columns to be created via a new attribute name - see https://pandas.pydata.org/pandas-docs/stable/indexing.html#attribute-access\n",
      "  result.read_permissions = {}\n",
      "/home/ben/code/om/PySyft/src/syft/core/store/storeable_object.py:178: UserWarning: Pandas doesn't allow columns to be created via a new attribute name - see https://pandas.pydata.org/pandas-docs/stable/indexing.html#attribute-access\n",
      "  result.search_permissions = {}\n",
      "/home/ben/.virtualenvs/PySyft-oY_gpCbr/lib/python3.8/site-packages/sklearn/utils/validation.py:63: DataConversionWarning: A column-vector y was passed when a 1d array was expected. Please change the shape of y to (n_samples, ), for example using ravel().\n",
      "  return f(*args, **kwargs)\n"
     ]
    },
    {
     "data": {
      "text/plain": [
       "<syft.proxy.sklearn.linear_model.LogisticRegressionPointer at 0x7fb325b8edf0>"
      ]
     },
     "execution_count": 16,
     "metadata": {},
     "output_type": "execute_result"
    }
   ],
   "source": [
    "remote_classifier.fit(X, Y)"
   ]
  },
  {
   "cell_type": "code",
   "execution_count": 17,
   "metadata": {},
   "outputs": [
    {
     "name": "stderr",
     "output_type": "stream",
     "text": [
      "/home/ben/code/om/PySyft/src/syft/lib/pandas/frame.py:57: UserWarning: Pandas doesn't allow columns to be created via a new attribute name - see https://pandas.pydata.org/pandas-docs/stable/indexing.html#attribute-access\n",
      "  data.tags = tags\n",
      "/home/ben/code/om/PySyft/src/syft/core/store/storeable_object.py:177: UserWarning: Pandas doesn't allow columns to be created via a new attribute name - see https://pandas.pydata.org/pandas-docs/stable/indexing.html#attribute-access\n",
      "  result.read_permissions = {}\n",
      "/home/ben/code/om/PySyft/src/syft/core/store/storeable_object.py:178: UserWarning: Pandas doesn't allow columns to be created via a new attribute name - see https://pandas.pydata.org/pandas-docs/stable/indexing.html#attribute-access\n",
      "  result.search_permissions = {}\n"
     ]
    }
   ],
   "source": [
    "a = remote_classifier.predict(X)"
   ]
  },
  {
   "cell_type": "markdown",
   "metadata": {},
   "source": [
    "#### `predict()` returns `numpy.ndarray` which needs wrapping:"
   ]
  },
  {
   "cell_type": "code",
   "execution_count": 18,
   "metadata": {},
   "outputs": [
    {
     "ename": "AttributeError",
     "evalue": "'numpy.ndarray' object has no attribute 'serialize'",
     "output_type": "error",
     "traceback": [
      "\u001b[0;31m---------------------------------------------------------------------------\u001b[0m",
      "\u001b[0;31mAttributeError\u001b[0m                            Traceback (most recent call last)",
      "\u001b[0;32m<ipython-input-18-c200dbd5c07f>\u001b[0m in \u001b[0;36m<module>\u001b[0;34m\u001b[0m\n\u001b[0;32m----> 1\u001b[0;31m \u001b[0ma\u001b[0m\u001b[0;34m.\u001b[0m\u001b[0mget\u001b[0m\u001b[0;34m(\u001b[0m\u001b[0;34m)\u001b[0m\u001b[0;34m\u001b[0m\u001b[0;34m\u001b[0m\u001b[0m\n\u001b[0m",
      "\u001b[0;32m~/code/om/PySyft/src/syft/core/pointer/pointer.py\u001b[0m in \u001b[0;36mget\u001b[0;34m(self, request_block, timeout_secs, name, reason, delete_obj, verbose)\u001b[0m\n\u001b[1;32m    216\u001b[0m \u001b[0;34m\u001b[0m\u001b[0m\n\u001b[1;32m    217\u001b[0m         \u001b[0;32mif\u001b[0m \u001b[0;32mnot\u001b[0m \u001b[0mrequest_block\u001b[0m\u001b[0;34m:\u001b[0m\u001b[0;34m\u001b[0m\u001b[0;34m\u001b[0m\u001b[0m\n\u001b[0;32m--> 218\u001b[0;31m             \u001b[0;32mreturn\u001b[0m \u001b[0mself\u001b[0m\u001b[0;34m.\u001b[0m\u001b[0m_get\u001b[0m\u001b[0;34m(\u001b[0m\u001b[0mdelete_obj\u001b[0m\u001b[0;34m=\u001b[0m\u001b[0mdelete_obj\u001b[0m\u001b[0;34m,\u001b[0m \u001b[0mverbose\u001b[0m\u001b[0;34m=\u001b[0m\u001b[0mverbose\u001b[0m\u001b[0;34m)\u001b[0m\u001b[0;34m\u001b[0m\u001b[0;34m\u001b[0m\u001b[0m\n\u001b[0m\u001b[1;32m    219\u001b[0m         \u001b[0;32melse\u001b[0m\u001b[0;34m:\u001b[0m\u001b[0;34m\u001b[0m\u001b[0;34m\u001b[0m\u001b[0m\n\u001b[1;32m    220\u001b[0m             response_status = self.request(\n",
      "\u001b[0;32m~/code/om/PySyft/src/syft/core/pointer/pointer.py\u001b[0m in \u001b[0;36m_get\u001b[0;34m(self, delete_obj, verbose)\u001b[0m\n\u001b[1;32m    170\u001b[0m         )\n\u001b[1;32m    171\u001b[0m \u001b[0;34m\u001b[0m\u001b[0m\n\u001b[0;32m--> 172\u001b[0;31m         \u001b[0mresponse\u001b[0m \u001b[0;34m=\u001b[0m \u001b[0mself\u001b[0m\u001b[0;34m.\u001b[0m\u001b[0mclient\u001b[0m\u001b[0;34m.\u001b[0m\u001b[0msend_immediate_msg_with_reply\u001b[0m\u001b[0;34m(\u001b[0m\u001b[0mmsg\u001b[0m\u001b[0;34m=\u001b[0m\u001b[0mobj_msg\u001b[0m\u001b[0;34m)\u001b[0m\u001b[0;34m\u001b[0m\u001b[0;34m\u001b[0m\u001b[0m\n\u001b[0m\u001b[1;32m    173\u001b[0m \u001b[0;34m\u001b[0m\u001b[0m\n\u001b[1;32m    174\u001b[0m         \u001b[0;32mreturn\u001b[0m \u001b[0mresponse\u001b[0m\u001b[0;34m.\u001b[0m\u001b[0mobj\u001b[0m\u001b[0;34m\u001b[0m\u001b[0;34m\u001b[0m\u001b[0m\n",
      "\u001b[0;32m~/code/om/PySyft/src/syft/decorators/syft_decorator_impl.py\u001b[0m in \u001b[0;36mwrapper\u001b[0;34m(*args, **kwargs)\u001b[0m\n\u001b[1;32m     29\u001b[0m         \u001b[0;32mdef\u001b[0m \u001b[0mwrapper\u001b[0m\u001b[0;34m(\u001b[0m\u001b[0;34m*\u001b[0m\u001b[0margs\u001b[0m\u001b[0;34m:\u001b[0m \u001b[0mTuple\u001b[0m\u001b[0;34m[\u001b[0m\u001b[0mAny\u001b[0m\u001b[0;34m]\u001b[0m\u001b[0;34m,\u001b[0m \u001b[0;34m**\u001b[0m\u001b[0mkwargs\u001b[0m\u001b[0;34m:\u001b[0m \u001b[0mDict\u001b[0m\u001b[0;34m[\u001b[0m\u001b[0mAny\u001b[0m\u001b[0;34m,\u001b[0m \u001b[0mAny\u001b[0m\u001b[0;34m]\u001b[0m\u001b[0;34m)\u001b[0m \u001b[0;34m->\u001b[0m \u001b[0mCallable\u001b[0m\u001b[0;34m:\u001b[0m\u001b[0;34m\u001b[0m\u001b[0;34m\u001b[0m\u001b[0m\n\u001b[1;32m     30\u001b[0m \u001b[0;34m\u001b[0m\u001b[0m\n\u001b[0;32m---> 31\u001b[0;31m             \u001b[0;32mreturn\u001b[0m \u001b[0mfunction\u001b[0m\u001b[0;34m(\u001b[0m\u001b[0;34m*\u001b[0m\u001b[0margs\u001b[0m\u001b[0;34m,\u001b[0m \u001b[0;34m**\u001b[0m\u001b[0mkwargs\u001b[0m\u001b[0;34m)\u001b[0m\u001b[0;34m\u001b[0m\u001b[0;34m\u001b[0m\u001b[0m\n\u001b[0m\u001b[1;32m     32\u001b[0m             \u001b[0;31m# try:\u001b[0m\u001b[0;34m\u001b[0m\u001b[0;34m\u001b[0m\u001b[0;34m\u001b[0m\u001b[0m\n\u001b[1;32m     33\u001b[0m             \u001b[0;31m#     return function(*args, **kwargs)\u001b[0m\u001b[0;34m\u001b[0m\u001b[0;34m\u001b[0m\u001b[0;34m\u001b[0m\u001b[0m\n",
      "\u001b[0;32m~/code/om/PySyft/src/syft/decorators/typecheck.py\u001b[0m in \u001b[0;36mdecorator\u001b[0;34m(*args, **kwargs)\u001b[0m\n\u001b[1;32m    108\u001b[0m         \u001b[0;32mif\u001b[0m \u001b[0mprohibit_args\u001b[0m\u001b[0;34m:\u001b[0m\u001b[0;34m\u001b[0m\u001b[0;34m\u001b[0m\u001b[0m\n\u001b[1;32m    109\u001b[0m             \u001b[0mcheck_args\u001b[0m\u001b[0;34m(\u001b[0m\u001b[0;34m*\u001b[0m\u001b[0margs\u001b[0m\u001b[0;34m,\u001b[0m \u001b[0;34m**\u001b[0m\u001b[0mkwargs\u001b[0m\u001b[0;34m)\u001b[0m\u001b[0;34m\u001b[0m\u001b[0;34m\u001b[0m\u001b[0m\n\u001b[0;32m--> 110\u001b[0;31m         \u001b[0;32mreturn\u001b[0m \u001b[0mtypechecked\u001b[0m\u001b[0;34m(\u001b[0m\u001b[0mdecorated\u001b[0m\u001b[0;34m)\u001b[0m\u001b[0;34m(\u001b[0m\u001b[0;34m*\u001b[0m\u001b[0margs\u001b[0m\u001b[0;34m,\u001b[0m \u001b[0;34m**\u001b[0m\u001b[0mkwargs\u001b[0m\u001b[0;34m)\u001b[0m\u001b[0;34m\u001b[0m\u001b[0;34m\u001b[0m\u001b[0m\n\u001b[0m\u001b[1;32m    111\u001b[0m \u001b[0;34m\u001b[0m\u001b[0m\n\u001b[1;32m    112\u001b[0m     \u001b[0mdecorator\u001b[0m\u001b[0;34m.\u001b[0m\u001b[0m__annotations__\u001b[0m \u001b[0;34m=\u001b[0m \u001b[0mdecorated\u001b[0m\u001b[0;34m.\u001b[0m\u001b[0m__annotations__\u001b[0m\u001b[0;34m\u001b[0m\u001b[0;34m\u001b[0m\u001b[0m\n",
      "\u001b[0;32m~/.virtualenvs/PySyft-oY_gpCbr/lib/python3.8/site-packages/typeguard/__init__.py\u001b[0m in \u001b[0;36mwrapper\u001b[0;34m(*args, **kwargs)\u001b[0m\n\u001b[1;32m    889\u001b[0m         \u001b[0mmemo\u001b[0m \u001b[0;34m=\u001b[0m \u001b[0m_CallMemo\u001b[0m\u001b[0;34m(\u001b[0m\u001b[0mpython_func\u001b[0m\u001b[0;34m,\u001b[0m \u001b[0m_localns\u001b[0m\u001b[0;34m,\u001b[0m \u001b[0margs\u001b[0m\u001b[0;34m=\u001b[0m\u001b[0margs\u001b[0m\u001b[0;34m,\u001b[0m \u001b[0mkwargs\u001b[0m\u001b[0;34m=\u001b[0m\u001b[0mkwargs\u001b[0m\u001b[0;34m)\u001b[0m\u001b[0;34m\u001b[0m\u001b[0;34m\u001b[0m\u001b[0m\n\u001b[1;32m    890\u001b[0m         \u001b[0mcheck_argument_types\u001b[0m\u001b[0;34m(\u001b[0m\u001b[0mmemo\u001b[0m\u001b[0;34m)\u001b[0m\u001b[0;34m\u001b[0m\u001b[0;34m\u001b[0m\u001b[0m\n\u001b[0;32m--> 891\u001b[0;31m         \u001b[0mretval\u001b[0m \u001b[0;34m=\u001b[0m \u001b[0mfunc\u001b[0m\u001b[0;34m(\u001b[0m\u001b[0;34m*\u001b[0m\u001b[0margs\u001b[0m\u001b[0;34m,\u001b[0m \u001b[0;34m**\u001b[0m\u001b[0mkwargs\u001b[0m\u001b[0;34m)\u001b[0m\u001b[0;34m\u001b[0m\u001b[0;34m\u001b[0m\u001b[0m\n\u001b[0m\u001b[1;32m    892\u001b[0m         \u001b[0mcheck_return_type\u001b[0m\u001b[0;34m(\u001b[0m\u001b[0mretval\u001b[0m\u001b[0;34m,\u001b[0m \u001b[0mmemo\u001b[0m\u001b[0;34m)\u001b[0m\u001b[0;34m\u001b[0m\u001b[0;34m\u001b[0m\u001b[0m\n\u001b[1;32m    893\u001b[0m \u001b[0;34m\u001b[0m\u001b[0m\n",
      "\u001b[0;32m~/code/om/PySyft/src/syft/core/node/common/client.py\u001b[0m in \u001b[0;36msend_immediate_msg_with_reply\u001b[0;34m(self, msg, route_index)\u001b[0m\n\u001b[1;32m    240\u001b[0m             \u001b[0mmsg\u001b[0m \u001b[0;34m=\u001b[0m \u001b[0mmsg\u001b[0m\u001b[0;34m.\u001b[0m\u001b[0msign\u001b[0m\u001b[0;34m(\u001b[0m\u001b[0msigning_key\u001b[0m\u001b[0;34m=\u001b[0m\u001b[0mself\u001b[0m\u001b[0;34m.\u001b[0m\u001b[0msigning_key\u001b[0m\u001b[0;34m)\u001b[0m\u001b[0;34m\u001b[0m\u001b[0;34m\u001b[0m\u001b[0m\n\u001b[1;32m    241\u001b[0m \u001b[0;34m\u001b[0m\u001b[0m\n\u001b[0;32m--> 242\u001b[0;31m         \u001b[0mresponse\u001b[0m \u001b[0;34m=\u001b[0m \u001b[0mself\u001b[0m\u001b[0;34m.\u001b[0m\u001b[0mroutes\u001b[0m\u001b[0;34m[\u001b[0m\u001b[0mroute_index\u001b[0m\u001b[0;34m]\u001b[0m\u001b[0;34m.\u001b[0m\u001b[0msend_immediate_msg_with_reply\u001b[0m\u001b[0;34m(\u001b[0m\u001b[0mmsg\u001b[0m\u001b[0;34m=\u001b[0m\u001b[0mmsg\u001b[0m\u001b[0;34m)\u001b[0m\u001b[0;34m\u001b[0m\u001b[0;34m\u001b[0m\u001b[0m\n\u001b[0m\u001b[1;32m    243\u001b[0m         \u001b[0;32mif\u001b[0m \u001b[0mresponse\u001b[0m\u001b[0;34m.\u001b[0m\u001b[0mis_valid\u001b[0m\u001b[0;34m:\u001b[0m\u001b[0;34m\u001b[0m\u001b[0;34m\u001b[0m\u001b[0m\n\u001b[1;32m    244\u001b[0m             \u001b[0;31m# check if we have an ExceptionMessage to trigger a local exception\u001b[0m\u001b[0;34m\u001b[0m\u001b[0;34m\u001b[0m\u001b[0;34m\u001b[0m\u001b[0m\n",
      "\u001b[0;32m~/code/om/PySyft/src/syft/core/io/route.py\u001b[0m in \u001b[0;36msend_immediate_msg_with_reply\u001b[0;34m(self, msg)\u001b[0m\n\u001b[1;32m    175\u001b[0m         \u001b[0mself\u001b[0m\u001b[0;34m,\u001b[0m \u001b[0mmsg\u001b[0m\u001b[0;34m:\u001b[0m \u001b[0mSignedImmediateSyftMessageWithReply\u001b[0m\u001b[0;34m\u001b[0m\u001b[0;34m\u001b[0m\u001b[0m\n\u001b[1;32m    176\u001b[0m     ) -> SignedImmediateSyftMessageWithoutReply:\n\u001b[0;32m--> 177\u001b[0;31m         \u001b[0;32mreturn\u001b[0m \u001b[0mself\u001b[0m\u001b[0;34m.\u001b[0m\u001b[0mconnection\u001b[0m\u001b[0;34m.\u001b[0m\u001b[0msend_immediate_msg_with_reply\u001b[0m\u001b[0;34m(\u001b[0m\u001b[0mmsg\u001b[0m\u001b[0;34m=\u001b[0m\u001b[0mmsg\u001b[0m\u001b[0;34m)\u001b[0m\u001b[0;34m\u001b[0m\u001b[0;34m\u001b[0m\u001b[0m\n\u001b[0m\u001b[1;32m    178\u001b[0m \u001b[0;34m\u001b[0m\u001b[0m\n\u001b[1;32m    179\u001b[0m     \u001b[0;34m@\u001b[0m\u001b[0msyft_decorator\u001b[0m\u001b[0;34m(\u001b[0m\u001b[0mtypechecking\u001b[0m\u001b[0;34m=\u001b[0m\u001b[0;32mTrue\u001b[0m\u001b[0;34m)\u001b[0m\u001b[0;34m\u001b[0m\u001b[0;34m\u001b[0m\u001b[0m\n",
      "\u001b[0;32m~/code/om/PySyft/src/syft/decorators/syft_decorator_impl.py\u001b[0m in \u001b[0;36mwrapper\u001b[0;34m(*args, **kwargs)\u001b[0m\n\u001b[1;32m     29\u001b[0m         \u001b[0;32mdef\u001b[0m \u001b[0mwrapper\u001b[0m\u001b[0;34m(\u001b[0m\u001b[0;34m*\u001b[0m\u001b[0margs\u001b[0m\u001b[0;34m:\u001b[0m \u001b[0mTuple\u001b[0m\u001b[0;34m[\u001b[0m\u001b[0mAny\u001b[0m\u001b[0;34m]\u001b[0m\u001b[0;34m,\u001b[0m \u001b[0;34m**\u001b[0m\u001b[0mkwargs\u001b[0m\u001b[0;34m:\u001b[0m \u001b[0mDict\u001b[0m\u001b[0;34m[\u001b[0m\u001b[0mAny\u001b[0m\u001b[0;34m,\u001b[0m \u001b[0mAny\u001b[0m\u001b[0;34m]\u001b[0m\u001b[0;34m)\u001b[0m \u001b[0;34m->\u001b[0m \u001b[0mCallable\u001b[0m\u001b[0;34m:\u001b[0m\u001b[0;34m\u001b[0m\u001b[0;34m\u001b[0m\u001b[0m\n\u001b[1;32m     30\u001b[0m \u001b[0;34m\u001b[0m\u001b[0m\n\u001b[0;32m---> 31\u001b[0;31m             \u001b[0;32mreturn\u001b[0m \u001b[0mfunction\u001b[0m\u001b[0;34m(\u001b[0m\u001b[0;34m*\u001b[0m\u001b[0margs\u001b[0m\u001b[0;34m,\u001b[0m \u001b[0;34m**\u001b[0m\u001b[0mkwargs\u001b[0m\u001b[0;34m)\u001b[0m\u001b[0;34m\u001b[0m\u001b[0;34m\u001b[0m\u001b[0m\n\u001b[0m\u001b[1;32m     32\u001b[0m             \u001b[0;31m# try:\u001b[0m\u001b[0;34m\u001b[0m\u001b[0;34m\u001b[0m\u001b[0;34m\u001b[0m\u001b[0m\n\u001b[1;32m     33\u001b[0m             \u001b[0;31m#     return function(*args, **kwargs)\u001b[0m\u001b[0;34m\u001b[0m\u001b[0;34m\u001b[0m\u001b[0;34m\u001b[0m\u001b[0m\n",
      "\u001b[0;32m~/code/om/PySyft/src/syft/decorators/typecheck.py\u001b[0m in \u001b[0;36mdecorator\u001b[0;34m(*args, **kwargs)\u001b[0m\n\u001b[1;32m    108\u001b[0m         \u001b[0;32mif\u001b[0m \u001b[0mprohibit_args\u001b[0m\u001b[0;34m:\u001b[0m\u001b[0;34m\u001b[0m\u001b[0;34m\u001b[0m\u001b[0m\n\u001b[1;32m    109\u001b[0m             \u001b[0mcheck_args\u001b[0m\u001b[0;34m(\u001b[0m\u001b[0;34m*\u001b[0m\u001b[0margs\u001b[0m\u001b[0;34m,\u001b[0m \u001b[0;34m**\u001b[0m\u001b[0mkwargs\u001b[0m\u001b[0;34m)\u001b[0m\u001b[0;34m\u001b[0m\u001b[0;34m\u001b[0m\u001b[0m\n\u001b[0;32m--> 110\u001b[0;31m         \u001b[0;32mreturn\u001b[0m \u001b[0mtypechecked\u001b[0m\u001b[0;34m(\u001b[0m\u001b[0mdecorated\u001b[0m\u001b[0;34m)\u001b[0m\u001b[0;34m(\u001b[0m\u001b[0;34m*\u001b[0m\u001b[0margs\u001b[0m\u001b[0;34m,\u001b[0m \u001b[0;34m**\u001b[0m\u001b[0mkwargs\u001b[0m\u001b[0;34m)\u001b[0m\u001b[0;34m\u001b[0m\u001b[0;34m\u001b[0m\u001b[0m\n\u001b[0m\u001b[1;32m    111\u001b[0m \u001b[0;34m\u001b[0m\u001b[0m\n\u001b[1;32m    112\u001b[0m     \u001b[0mdecorator\u001b[0m\u001b[0;34m.\u001b[0m\u001b[0m__annotations__\u001b[0m \u001b[0;34m=\u001b[0m \u001b[0mdecorated\u001b[0m\u001b[0;34m.\u001b[0m\u001b[0m__annotations__\u001b[0m\u001b[0;34m\u001b[0m\u001b[0;34m\u001b[0m\u001b[0m\n",
      "\u001b[0;32m~/.virtualenvs/PySyft-oY_gpCbr/lib/python3.8/site-packages/typeguard/__init__.py\u001b[0m in \u001b[0;36mwrapper\u001b[0;34m(*args, **kwargs)\u001b[0m\n\u001b[1;32m    889\u001b[0m         \u001b[0mmemo\u001b[0m \u001b[0;34m=\u001b[0m \u001b[0m_CallMemo\u001b[0m\u001b[0;34m(\u001b[0m\u001b[0mpython_func\u001b[0m\u001b[0;34m,\u001b[0m \u001b[0m_localns\u001b[0m\u001b[0;34m,\u001b[0m \u001b[0margs\u001b[0m\u001b[0;34m=\u001b[0m\u001b[0margs\u001b[0m\u001b[0;34m,\u001b[0m \u001b[0mkwargs\u001b[0m\u001b[0;34m=\u001b[0m\u001b[0mkwargs\u001b[0m\u001b[0;34m)\u001b[0m\u001b[0;34m\u001b[0m\u001b[0;34m\u001b[0m\u001b[0m\n\u001b[1;32m    890\u001b[0m         \u001b[0mcheck_argument_types\u001b[0m\u001b[0;34m(\u001b[0m\u001b[0mmemo\u001b[0m\u001b[0;34m)\u001b[0m\u001b[0;34m\u001b[0m\u001b[0;34m\u001b[0m\u001b[0m\n\u001b[0;32m--> 891\u001b[0;31m         \u001b[0mretval\u001b[0m \u001b[0;34m=\u001b[0m \u001b[0mfunc\u001b[0m\u001b[0;34m(\u001b[0m\u001b[0;34m*\u001b[0m\u001b[0margs\u001b[0m\u001b[0;34m,\u001b[0m \u001b[0;34m**\u001b[0m\u001b[0mkwargs\u001b[0m\u001b[0;34m)\u001b[0m\u001b[0;34m\u001b[0m\u001b[0;34m\u001b[0m\u001b[0m\n\u001b[0m\u001b[1;32m    892\u001b[0m         \u001b[0mcheck_return_type\u001b[0m\u001b[0;34m(\u001b[0m\u001b[0mretval\u001b[0m\u001b[0;34m,\u001b[0m \u001b[0mmemo\u001b[0m\u001b[0;34m)\u001b[0m\u001b[0;34m\u001b[0m\u001b[0;34m\u001b[0m\u001b[0m\n\u001b[1;32m    893\u001b[0m \u001b[0;34m\u001b[0m\u001b[0m\n",
      "\u001b[0;32m~/code/om/PySyft/src/syft/core/io/virtual.py\u001b[0m in \u001b[0;36msend_immediate_msg_with_reply\u001b[0;34m(self, msg)\u001b[0m\n\u001b[1;32m     81\u001b[0m         \u001b[0mself\u001b[0m\u001b[0;34m,\u001b[0m \u001b[0mmsg\u001b[0m\u001b[0;34m:\u001b[0m \u001b[0mSignedImmediateSyftMessageWithReply\u001b[0m\u001b[0;34m\u001b[0m\u001b[0;34m\u001b[0m\u001b[0m\n\u001b[1;32m     82\u001b[0m     ) -> SignedImmediateSyftMessageWithoutReply:\n\u001b[0;32m---> 83\u001b[0;31m         \u001b[0;32mreturn\u001b[0m \u001b[0mself\u001b[0m\u001b[0;34m.\u001b[0m\u001b[0mserver\u001b[0m\u001b[0;34m.\u001b[0m\u001b[0mrecv_immediate_msg_with_reply\u001b[0m\u001b[0;34m(\u001b[0m\u001b[0mmsg\u001b[0m\u001b[0;34m=\u001b[0m\u001b[0mmsg\u001b[0m\u001b[0;34m)\u001b[0m\u001b[0;34m\u001b[0m\u001b[0;34m\u001b[0m\u001b[0m\n\u001b[0m\u001b[1;32m     84\u001b[0m \u001b[0;34m\u001b[0m\u001b[0m\n\u001b[1;32m     85\u001b[0m     \u001b[0;34m@\u001b[0m\u001b[0msyft_decorator\u001b[0m\u001b[0;34m(\u001b[0m\u001b[0mtypechecking\u001b[0m\u001b[0;34m=\u001b[0m\u001b[0;32mTrue\u001b[0m\u001b[0;34m)\u001b[0m\u001b[0;34m\u001b[0m\u001b[0;34m\u001b[0m\u001b[0m\n",
      "\u001b[0;32m~/code/om/PySyft/src/syft/decorators/syft_decorator_impl.py\u001b[0m in \u001b[0;36mwrapper\u001b[0;34m(*args, **kwargs)\u001b[0m\n\u001b[1;32m     29\u001b[0m         \u001b[0;32mdef\u001b[0m \u001b[0mwrapper\u001b[0m\u001b[0;34m(\u001b[0m\u001b[0;34m*\u001b[0m\u001b[0margs\u001b[0m\u001b[0;34m:\u001b[0m \u001b[0mTuple\u001b[0m\u001b[0;34m[\u001b[0m\u001b[0mAny\u001b[0m\u001b[0;34m]\u001b[0m\u001b[0;34m,\u001b[0m \u001b[0;34m**\u001b[0m\u001b[0mkwargs\u001b[0m\u001b[0;34m:\u001b[0m \u001b[0mDict\u001b[0m\u001b[0;34m[\u001b[0m\u001b[0mAny\u001b[0m\u001b[0;34m,\u001b[0m \u001b[0mAny\u001b[0m\u001b[0;34m]\u001b[0m\u001b[0;34m)\u001b[0m \u001b[0;34m->\u001b[0m \u001b[0mCallable\u001b[0m\u001b[0;34m:\u001b[0m\u001b[0;34m\u001b[0m\u001b[0;34m\u001b[0m\u001b[0m\n\u001b[1;32m     30\u001b[0m \u001b[0;34m\u001b[0m\u001b[0m\n\u001b[0;32m---> 31\u001b[0;31m             \u001b[0;32mreturn\u001b[0m \u001b[0mfunction\u001b[0m\u001b[0;34m(\u001b[0m\u001b[0;34m*\u001b[0m\u001b[0margs\u001b[0m\u001b[0;34m,\u001b[0m \u001b[0;34m**\u001b[0m\u001b[0mkwargs\u001b[0m\u001b[0;34m)\u001b[0m\u001b[0;34m\u001b[0m\u001b[0;34m\u001b[0m\u001b[0m\n\u001b[0m\u001b[1;32m     32\u001b[0m             \u001b[0;31m# try:\u001b[0m\u001b[0;34m\u001b[0m\u001b[0;34m\u001b[0m\u001b[0;34m\u001b[0m\u001b[0m\n\u001b[1;32m     33\u001b[0m             \u001b[0;31m#     return function(*args, **kwargs)\u001b[0m\u001b[0;34m\u001b[0m\u001b[0;34m\u001b[0m\u001b[0;34m\u001b[0m\u001b[0m\n",
      "\u001b[0;32m~/code/om/PySyft/src/syft/decorators/typecheck.py\u001b[0m in \u001b[0;36mdecorator\u001b[0;34m(*args, **kwargs)\u001b[0m\n\u001b[1;32m    108\u001b[0m         \u001b[0;32mif\u001b[0m \u001b[0mprohibit_args\u001b[0m\u001b[0;34m:\u001b[0m\u001b[0;34m\u001b[0m\u001b[0;34m\u001b[0m\u001b[0m\n\u001b[1;32m    109\u001b[0m             \u001b[0mcheck_args\u001b[0m\u001b[0;34m(\u001b[0m\u001b[0;34m*\u001b[0m\u001b[0margs\u001b[0m\u001b[0;34m,\u001b[0m \u001b[0;34m**\u001b[0m\u001b[0mkwargs\u001b[0m\u001b[0;34m)\u001b[0m\u001b[0;34m\u001b[0m\u001b[0;34m\u001b[0m\u001b[0m\n\u001b[0;32m--> 110\u001b[0;31m         \u001b[0;32mreturn\u001b[0m \u001b[0mtypechecked\u001b[0m\u001b[0;34m(\u001b[0m\u001b[0mdecorated\u001b[0m\u001b[0;34m)\u001b[0m\u001b[0;34m(\u001b[0m\u001b[0;34m*\u001b[0m\u001b[0margs\u001b[0m\u001b[0;34m,\u001b[0m \u001b[0;34m**\u001b[0m\u001b[0mkwargs\u001b[0m\u001b[0;34m)\u001b[0m\u001b[0;34m\u001b[0m\u001b[0;34m\u001b[0m\u001b[0m\n\u001b[0m\u001b[1;32m    111\u001b[0m \u001b[0;34m\u001b[0m\u001b[0m\n\u001b[1;32m    112\u001b[0m     \u001b[0mdecorator\u001b[0m\u001b[0;34m.\u001b[0m\u001b[0m__annotations__\u001b[0m \u001b[0;34m=\u001b[0m \u001b[0mdecorated\u001b[0m\u001b[0;34m.\u001b[0m\u001b[0m__annotations__\u001b[0m\u001b[0;34m\u001b[0m\u001b[0;34m\u001b[0m\u001b[0m\n",
      "\u001b[0;32m~/.virtualenvs/PySyft-oY_gpCbr/lib/python3.8/site-packages/typeguard/__init__.py\u001b[0m in \u001b[0;36mwrapper\u001b[0;34m(*args, **kwargs)\u001b[0m\n\u001b[1;32m    889\u001b[0m         \u001b[0mmemo\u001b[0m \u001b[0;34m=\u001b[0m \u001b[0m_CallMemo\u001b[0m\u001b[0;34m(\u001b[0m\u001b[0mpython_func\u001b[0m\u001b[0;34m,\u001b[0m \u001b[0m_localns\u001b[0m\u001b[0;34m,\u001b[0m \u001b[0margs\u001b[0m\u001b[0;34m=\u001b[0m\u001b[0margs\u001b[0m\u001b[0;34m,\u001b[0m \u001b[0mkwargs\u001b[0m\u001b[0;34m=\u001b[0m\u001b[0mkwargs\u001b[0m\u001b[0;34m)\u001b[0m\u001b[0;34m\u001b[0m\u001b[0;34m\u001b[0m\u001b[0m\n\u001b[1;32m    890\u001b[0m         \u001b[0mcheck_argument_types\u001b[0m\u001b[0;34m(\u001b[0m\u001b[0mmemo\u001b[0m\u001b[0;34m)\u001b[0m\u001b[0;34m\u001b[0m\u001b[0;34m\u001b[0m\u001b[0m\n\u001b[0;32m--> 891\u001b[0;31m         \u001b[0mretval\u001b[0m \u001b[0;34m=\u001b[0m \u001b[0mfunc\u001b[0m\u001b[0;34m(\u001b[0m\u001b[0;34m*\u001b[0m\u001b[0margs\u001b[0m\u001b[0;34m,\u001b[0m \u001b[0;34m**\u001b[0m\u001b[0mkwargs\u001b[0m\u001b[0;34m)\u001b[0m\u001b[0;34m\u001b[0m\u001b[0;34m\u001b[0m\u001b[0m\n\u001b[0m\u001b[1;32m    892\u001b[0m         \u001b[0mcheck_return_type\u001b[0m\u001b[0;34m(\u001b[0m\u001b[0mretval\u001b[0m\u001b[0;34m,\u001b[0m \u001b[0mmemo\u001b[0m\u001b[0;34m)\u001b[0m\u001b[0;34m\u001b[0m\u001b[0;34m\u001b[0m\u001b[0m\n\u001b[1;32m    893\u001b[0m \u001b[0;34m\u001b[0m\u001b[0m\n",
      "\u001b[0;32m~/code/om/PySyft/src/syft/core/io/virtual.py\u001b[0m in \u001b[0;36mrecv_immediate_msg_with_reply\u001b[0;34m(self, msg)\u001b[0m\n\u001b[1;32m     36\u001b[0m         \u001b[0mself\u001b[0m\u001b[0;34m,\u001b[0m \u001b[0mmsg\u001b[0m\u001b[0;34m:\u001b[0m \u001b[0mSignedImmediateSyftMessageWithReply\u001b[0m\u001b[0;34m\u001b[0m\u001b[0;34m\u001b[0m\u001b[0m\n\u001b[1;32m     37\u001b[0m     ) -> SignedImmediateSyftMessageWithoutReply:\n\u001b[0;32m---> 38\u001b[0;31m         \u001b[0;32mreturn\u001b[0m \u001b[0mself\u001b[0m\u001b[0;34m.\u001b[0m\u001b[0mnode\u001b[0m\u001b[0;34m.\u001b[0m\u001b[0mrecv_immediate_msg_with_reply\u001b[0m\u001b[0;34m(\u001b[0m\u001b[0mmsg\u001b[0m\u001b[0;34m=\u001b[0m\u001b[0mmsg\u001b[0m\u001b[0;34m)\u001b[0m\u001b[0;34m\u001b[0m\u001b[0;34m\u001b[0m\u001b[0m\n\u001b[0m\u001b[1;32m     39\u001b[0m \u001b[0;34m\u001b[0m\u001b[0m\n\u001b[1;32m     40\u001b[0m     \u001b[0;34m@\u001b[0m\u001b[0msyft_decorator\u001b[0m\u001b[0;34m(\u001b[0m\u001b[0mtypechecking\u001b[0m\u001b[0;34m=\u001b[0m\u001b[0;32mTrue\u001b[0m\u001b[0;34m)\u001b[0m\u001b[0;34m\u001b[0m\u001b[0;34m\u001b[0m\u001b[0m\n",
      "\u001b[0;32m~/code/om/PySyft/src/syft/decorators/syft_decorator_impl.py\u001b[0m in \u001b[0;36mwrapper\u001b[0;34m(*args, **kwargs)\u001b[0m\n\u001b[1;32m     29\u001b[0m         \u001b[0;32mdef\u001b[0m \u001b[0mwrapper\u001b[0m\u001b[0;34m(\u001b[0m\u001b[0;34m*\u001b[0m\u001b[0margs\u001b[0m\u001b[0;34m:\u001b[0m \u001b[0mTuple\u001b[0m\u001b[0;34m[\u001b[0m\u001b[0mAny\u001b[0m\u001b[0;34m]\u001b[0m\u001b[0;34m,\u001b[0m \u001b[0;34m**\u001b[0m\u001b[0mkwargs\u001b[0m\u001b[0;34m:\u001b[0m \u001b[0mDict\u001b[0m\u001b[0;34m[\u001b[0m\u001b[0mAny\u001b[0m\u001b[0;34m,\u001b[0m \u001b[0mAny\u001b[0m\u001b[0;34m]\u001b[0m\u001b[0;34m)\u001b[0m \u001b[0;34m->\u001b[0m \u001b[0mCallable\u001b[0m\u001b[0;34m:\u001b[0m\u001b[0;34m\u001b[0m\u001b[0;34m\u001b[0m\u001b[0m\n\u001b[1;32m     30\u001b[0m \u001b[0;34m\u001b[0m\u001b[0m\n\u001b[0;32m---> 31\u001b[0;31m             \u001b[0;32mreturn\u001b[0m \u001b[0mfunction\u001b[0m\u001b[0;34m(\u001b[0m\u001b[0;34m*\u001b[0m\u001b[0margs\u001b[0m\u001b[0;34m,\u001b[0m \u001b[0;34m**\u001b[0m\u001b[0mkwargs\u001b[0m\u001b[0;34m)\u001b[0m\u001b[0;34m\u001b[0m\u001b[0;34m\u001b[0m\u001b[0m\n\u001b[0m\u001b[1;32m     32\u001b[0m             \u001b[0;31m# try:\u001b[0m\u001b[0;34m\u001b[0m\u001b[0;34m\u001b[0m\u001b[0;34m\u001b[0m\u001b[0m\n\u001b[1;32m     33\u001b[0m             \u001b[0;31m#     return function(*args, **kwargs)\u001b[0m\u001b[0;34m\u001b[0m\u001b[0;34m\u001b[0m\u001b[0;34m\u001b[0m\u001b[0m\n",
      "\u001b[0;32m~/code/om/PySyft/src/syft/decorators/typecheck.py\u001b[0m in \u001b[0;36mdecorator\u001b[0;34m(*args, **kwargs)\u001b[0m\n\u001b[1;32m    108\u001b[0m         \u001b[0;32mif\u001b[0m \u001b[0mprohibit_args\u001b[0m\u001b[0;34m:\u001b[0m\u001b[0;34m\u001b[0m\u001b[0;34m\u001b[0m\u001b[0m\n\u001b[1;32m    109\u001b[0m             \u001b[0mcheck_args\u001b[0m\u001b[0;34m(\u001b[0m\u001b[0;34m*\u001b[0m\u001b[0margs\u001b[0m\u001b[0;34m,\u001b[0m \u001b[0;34m**\u001b[0m\u001b[0mkwargs\u001b[0m\u001b[0;34m)\u001b[0m\u001b[0;34m\u001b[0m\u001b[0;34m\u001b[0m\u001b[0m\n\u001b[0;32m--> 110\u001b[0;31m         \u001b[0;32mreturn\u001b[0m \u001b[0mtypechecked\u001b[0m\u001b[0;34m(\u001b[0m\u001b[0mdecorated\u001b[0m\u001b[0;34m)\u001b[0m\u001b[0;34m(\u001b[0m\u001b[0;34m*\u001b[0m\u001b[0margs\u001b[0m\u001b[0;34m,\u001b[0m \u001b[0;34m**\u001b[0m\u001b[0mkwargs\u001b[0m\u001b[0;34m)\u001b[0m\u001b[0;34m\u001b[0m\u001b[0;34m\u001b[0m\u001b[0m\n\u001b[0m\u001b[1;32m    111\u001b[0m \u001b[0;34m\u001b[0m\u001b[0m\n\u001b[1;32m    112\u001b[0m     \u001b[0mdecorator\u001b[0m\u001b[0;34m.\u001b[0m\u001b[0m__annotations__\u001b[0m \u001b[0;34m=\u001b[0m \u001b[0mdecorated\u001b[0m\u001b[0;34m.\u001b[0m\u001b[0m__annotations__\u001b[0m\u001b[0;34m\u001b[0m\u001b[0;34m\u001b[0m\u001b[0m\n",
      "\u001b[0;32m~/.virtualenvs/PySyft-oY_gpCbr/lib/python3.8/site-packages/typeguard/__init__.py\u001b[0m in \u001b[0;36mwrapper\u001b[0;34m(*args, **kwargs)\u001b[0m\n\u001b[1;32m    889\u001b[0m         \u001b[0mmemo\u001b[0m \u001b[0;34m=\u001b[0m \u001b[0m_CallMemo\u001b[0m\u001b[0;34m(\u001b[0m\u001b[0mpython_func\u001b[0m\u001b[0;34m,\u001b[0m \u001b[0m_localns\u001b[0m\u001b[0;34m,\u001b[0m \u001b[0margs\u001b[0m\u001b[0;34m=\u001b[0m\u001b[0margs\u001b[0m\u001b[0;34m,\u001b[0m \u001b[0mkwargs\u001b[0m\u001b[0;34m=\u001b[0m\u001b[0mkwargs\u001b[0m\u001b[0;34m)\u001b[0m\u001b[0;34m\u001b[0m\u001b[0;34m\u001b[0m\u001b[0m\n\u001b[1;32m    890\u001b[0m         \u001b[0mcheck_argument_types\u001b[0m\u001b[0;34m(\u001b[0m\u001b[0mmemo\u001b[0m\u001b[0;34m)\u001b[0m\u001b[0;34m\u001b[0m\u001b[0;34m\u001b[0m\u001b[0m\n\u001b[0;32m--> 891\u001b[0;31m         \u001b[0mretval\u001b[0m \u001b[0;34m=\u001b[0m \u001b[0mfunc\u001b[0m\u001b[0;34m(\u001b[0m\u001b[0;34m*\u001b[0m\u001b[0margs\u001b[0m\u001b[0;34m,\u001b[0m \u001b[0;34m**\u001b[0m\u001b[0mkwargs\u001b[0m\u001b[0;34m)\u001b[0m\u001b[0;34m\u001b[0m\u001b[0;34m\u001b[0m\u001b[0m\n\u001b[0m\u001b[1;32m    892\u001b[0m         \u001b[0mcheck_return_type\u001b[0m\u001b[0;34m(\u001b[0m\u001b[0mretval\u001b[0m\u001b[0;34m,\u001b[0m \u001b[0mmemo\u001b[0m\u001b[0;34m)\u001b[0m\u001b[0;34m\u001b[0m\u001b[0;34m\u001b[0m\u001b[0m\n\u001b[1;32m    893\u001b[0m \u001b[0;34m\u001b[0m\u001b[0m\n",
      "\u001b[0;32m~/code/om/PySyft/src/syft/core/node/common/node.py\u001b[0m in \u001b[0;36mrecv_immediate_msg_with_reply\u001b[0;34m(self, msg)\u001b[0m\n\u001b[1;32m    380\u001b[0m         \u001b[0;31m# maybe I shouldn't have created process_message because it screws up\u001b[0m\u001b[0;34m\u001b[0m\u001b[0;34m\u001b[0m\u001b[0;34m\u001b[0m\u001b[0m\n\u001b[1;32m    381\u001b[0m         \u001b[0;31m# all the type inference.\u001b[0m\u001b[0;34m\u001b[0m\u001b[0;34m\u001b[0m\u001b[0;34m\u001b[0m\u001b[0m\n\u001b[0;32m--> 382\u001b[0;31m         \u001b[0mres_msg\u001b[0m \u001b[0;34m=\u001b[0m \u001b[0mresponse\u001b[0m\u001b[0;34m.\u001b[0m\u001b[0msign\u001b[0m\u001b[0;34m(\u001b[0m\u001b[0msigning_key\u001b[0m\u001b[0;34m=\u001b[0m\u001b[0mself\u001b[0m\u001b[0;34m.\u001b[0m\u001b[0msigning_key\u001b[0m\u001b[0;34m)\u001b[0m  \u001b[0;31m# type: ignore\u001b[0m\u001b[0;34m\u001b[0m\u001b[0;34m\u001b[0m\u001b[0m\n\u001b[0m\u001b[1;32m    383\u001b[0m         output = (\n\u001b[1;32m    384\u001b[0m             \u001b[0;34mf\"> {self.pprint} Signing {res_msg.pprint} with \"\u001b[0m\u001b[0;34m\u001b[0m\u001b[0;34m\u001b[0m\u001b[0m\n",
      "\u001b[0;32m~/code/om/PySyft/src/syft/core/common/message.py\u001b[0m in \u001b[0;36msign\u001b[0;34m(self, signing_key)\u001b[0m\n\u001b[1;32m     88\u001b[0m             \u001b[0;34mf\"> Signing with {self.address.key_emoji(key=signing_key.verify_key)}\"\u001b[0m\u001b[0;34m\u001b[0m\u001b[0;34m\u001b[0m\u001b[0m\n\u001b[1;32m     89\u001b[0m         )\n\u001b[0;32m---> 90\u001b[0;31m         \u001b[0msigned_message\u001b[0m \u001b[0;34m=\u001b[0m \u001b[0msigning_key\u001b[0m\u001b[0;34m.\u001b[0m\u001b[0msign\u001b[0m\u001b[0;34m(\u001b[0m\u001b[0mself\u001b[0m\u001b[0;34m.\u001b[0m\u001b[0mserialize\u001b[0m\u001b[0;34m(\u001b[0m\u001b[0mto_bytes\u001b[0m\u001b[0;34m=\u001b[0m\u001b[0;32mTrue\u001b[0m\u001b[0;34m)\u001b[0m\u001b[0;34m)\u001b[0m\u001b[0;34m\u001b[0m\u001b[0;34m\u001b[0m\u001b[0m\n\u001b[0m\u001b[1;32m     91\u001b[0m \u001b[0;34m\u001b[0m\u001b[0m\n\u001b[1;32m     92\u001b[0m         \u001b[0;31m# signed_type will be the final subclass callee's closest parent signed_type\u001b[0m\u001b[0;34m\u001b[0m\u001b[0;34m\u001b[0m\u001b[0;34m\u001b[0m\u001b[0m\n",
      "\u001b[0;32m~/code/om/PySyft/src/syft/decorators/syft_decorator_impl.py\u001b[0m in \u001b[0;36mwrapper\u001b[0;34m(*args, **kwargs)\u001b[0m\n\u001b[1;32m     29\u001b[0m         \u001b[0;32mdef\u001b[0m \u001b[0mwrapper\u001b[0m\u001b[0;34m(\u001b[0m\u001b[0;34m*\u001b[0m\u001b[0margs\u001b[0m\u001b[0;34m:\u001b[0m \u001b[0mTuple\u001b[0m\u001b[0;34m[\u001b[0m\u001b[0mAny\u001b[0m\u001b[0;34m]\u001b[0m\u001b[0;34m,\u001b[0m \u001b[0;34m**\u001b[0m\u001b[0mkwargs\u001b[0m\u001b[0;34m:\u001b[0m \u001b[0mDict\u001b[0m\u001b[0;34m[\u001b[0m\u001b[0mAny\u001b[0m\u001b[0;34m,\u001b[0m \u001b[0mAny\u001b[0m\u001b[0;34m]\u001b[0m\u001b[0;34m)\u001b[0m \u001b[0;34m->\u001b[0m \u001b[0mCallable\u001b[0m\u001b[0;34m:\u001b[0m\u001b[0;34m\u001b[0m\u001b[0;34m\u001b[0m\u001b[0m\n\u001b[1;32m     30\u001b[0m \u001b[0;34m\u001b[0m\u001b[0m\n\u001b[0;32m---> 31\u001b[0;31m             \u001b[0;32mreturn\u001b[0m \u001b[0mfunction\u001b[0m\u001b[0;34m(\u001b[0m\u001b[0;34m*\u001b[0m\u001b[0margs\u001b[0m\u001b[0;34m,\u001b[0m \u001b[0;34m**\u001b[0m\u001b[0mkwargs\u001b[0m\u001b[0;34m)\u001b[0m\u001b[0;34m\u001b[0m\u001b[0;34m\u001b[0m\u001b[0m\n\u001b[0m\u001b[1;32m     32\u001b[0m             \u001b[0;31m# try:\u001b[0m\u001b[0;34m\u001b[0m\u001b[0;34m\u001b[0m\u001b[0;34m\u001b[0m\u001b[0m\n\u001b[1;32m     33\u001b[0m             \u001b[0;31m#     return function(*args, **kwargs)\u001b[0m\u001b[0;34m\u001b[0m\u001b[0;34m\u001b[0m\u001b[0;34m\u001b[0m\u001b[0m\n",
      "\u001b[0;32m~/code/om/PySyft/src/syft/decorators/typecheck.py\u001b[0m in \u001b[0;36mdecorator\u001b[0;34m(*args, **kwargs)\u001b[0m\n\u001b[1;32m    108\u001b[0m         \u001b[0;32mif\u001b[0m \u001b[0mprohibit_args\u001b[0m\u001b[0;34m:\u001b[0m\u001b[0;34m\u001b[0m\u001b[0;34m\u001b[0m\u001b[0m\n\u001b[1;32m    109\u001b[0m             \u001b[0mcheck_args\u001b[0m\u001b[0;34m(\u001b[0m\u001b[0;34m*\u001b[0m\u001b[0margs\u001b[0m\u001b[0;34m,\u001b[0m \u001b[0;34m**\u001b[0m\u001b[0mkwargs\u001b[0m\u001b[0;34m)\u001b[0m\u001b[0;34m\u001b[0m\u001b[0;34m\u001b[0m\u001b[0m\n\u001b[0;32m--> 110\u001b[0;31m         \u001b[0;32mreturn\u001b[0m \u001b[0mtypechecked\u001b[0m\u001b[0;34m(\u001b[0m\u001b[0mdecorated\u001b[0m\u001b[0;34m)\u001b[0m\u001b[0;34m(\u001b[0m\u001b[0;34m*\u001b[0m\u001b[0margs\u001b[0m\u001b[0;34m,\u001b[0m \u001b[0;34m**\u001b[0m\u001b[0mkwargs\u001b[0m\u001b[0;34m)\u001b[0m\u001b[0;34m\u001b[0m\u001b[0;34m\u001b[0m\u001b[0m\n\u001b[0m\u001b[1;32m    111\u001b[0m \u001b[0;34m\u001b[0m\u001b[0m\n\u001b[1;32m    112\u001b[0m     \u001b[0mdecorator\u001b[0m\u001b[0;34m.\u001b[0m\u001b[0m__annotations__\u001b[0m \u001b[0;34m=\u001b[0m \u001b[0mdecorated\u001b[0m\u001b[0;34m.\u001b[0m\u001b[0m__annotations__\u001b[0m\u001b[0;34m\u001b[0m\u001b[0;34m\u001b[0m\u001b[0m\n",
      "\u001b[0;32m~/.virtualenvs/PySyft-oY_gpCbr/lib/python3.8/site-packages/typeguard/__init__.py\u001b[0m in \u001b[0;36mwrapper\u001b[0;34m(*args, **kwargs)\u001b[0m\n\u001b[1;32m    889\u001b[0m         \u001b[0mmemo\u001b[0m \u001b[0;34m=\u001b[0m \u001b[0m_CallMemo\u001b[0m\u001b[0;34m(\u001b[0m\u001b[0mpython_func\u001b[0m\u001b[0;34m,\u001b[0m \u001b[0m_localns\u001b[0m\u001b[0;34m,\u001b[0m \u001b[0margs\u001b[0m\u001b[0;34m=\u001b[0m\u001b[0margs\u001b[0m\u001b[0;34m,\u001b[0m \u001b[0mkwargs\u001b[0m\u001b[0;34m=\u001b[0m\u001b[0mkwargs\u001b[0m\u001b[0;34m)\u001b[0m\u001b[0;34m\u001b[0m\u001b[0;34m\u001b[0m\u001b[0m\n\u001b[1;32m    890\u001b[0m         \u001b[0mcheck_argument_types\u001b[0m\u001b[0;34m(\u001b[0m\u001b[0mmemo\u001b[0m\u001b[0;34m)\u001b[0m\u001b[0;34m\u001b[0m\u001b[0;34m\u001b[0m\u001b[0m\n\u001b[0;32m--> 891\u001b[0;31m         \u001b[0mretval\u001b[0m \u001b[0;34m=\u001b[0m \u001b[0mfunc\u001b[0m\u001b[0;34m(\u001b[0m\u001b[0;34m*\u001b[0m\u001b[0margs\u001b[0m\u001b[0;34m,\u001b[0m \u001b[0;34m**\u001b[0m\u001b[0mkwargs\u001b[0m\u001b[0;34m)\u001b[0m\u001b[0;34m\u001b[0m\u001b[0;34m\u001b[0m\u001b[0m\n\u001b[0m\u001b[1;32m    892\u001b[0m         \u001b[0mcheck_return_type\u001b[0m\u001b[0;34m(\u001b[0m\u001b[0mretval\u001b[0m\u001b[0;34m,\u001b[0m \u001b[0mmemo\u001b[0m\u001b[0;34m)\u001b[0m\u001b[0;34m\u001b[0m\u001b[0;34m\u001b[0m\u001b[0m\n\u001b[1;32m    893\u001b[0m \u001b[0;34m\u001b[0m\u001b[0m\n",
      "\u001b[0;32m~/code/om/PySyft/src/syft/core/common/serde/serializable.py\u001b[0m in \u001b[0;36mserialize\u001b[0;34m(self, to_proto, to_bytes)\u001b[0m\n\u001b[1;32m    262\u001b[0m             \u001b[0;31m# indent=None means no white space or \\n in the serialized version\u001b[0m\u001b[0;34m\u001b[0m\u001b[0;34m\u001b[0m\u001b[0;34m\u001b[0m\u001b[0m\n\u001b[1;32m    263\u001b[0m             \u001b[0;31m# this is compatible with json.dumps(x, indent=None)\u001b[0m\u001b[0;34m\u001b[0m\u001b[0;34m\u001b[0m\u001b[0;34m\u001b[0m\u001b[0m\n\u001b[0;32m--> 264\u001b[0;31m             \u001b[0mblob\u001b[0m \u001b[0;34m=\u001b[0m \u001b[0mself\u001b[0m\u001b[0;34m.\u001b[0m\u001b[0m_object2proto\u001b[0m\u001b[0;34m(\u001b[0m\u001b[0;34m)\u001b[0m\u001b[0;34m.\u001b[0m\u001b[0mSerializeToString\u001b[0m\u001b[0;34m(\u001b[0m\u001b[0;34m)\u001b[0m\u001b[0;34m\u001b[0m\u001b[0;34m\u001b[0m\u001b[0m\n\u001b[0m\u001b[1;32m    265\u001b[0m             blob = DataMessage(\n\u001b[1;32m    266\u001b[0m                 \u001b[0mobj_type\u001b[0m\u001b[0;34m=\u001b[0m\u001b[0mget_fully_qualified_name\u001b[0m\u001b[0;34m(\u001b[0m\u001b[0mobj\u001b[0m\u001b[0;34m=\u001b[0m\u001b[0mself\u001b[0m\u001b[0;34m)\u001b[0m\u001b[0;34m,\u001b[0m \u001b[0mcontent\u001b[0m\u001b[0;34m=\u001b[0m\u001b[0mblob\u001b[0m\u001b[0;34m\u001b[0m\u001b[0;34m\u001b[0m\u001b[0m\n",
      "\u001b[0;32m~/code/om/PySyft/src/syft/decorators/syft_decorator_impl.py\u001b[0m in \u001b[0;36mwrapper\u001b[0;34m(*args, **kwargs)\u001b[0m\n\u001b[1;32m     29\u001b[0m         \u001b[0;32mdef\u001b[0m \u001b[0mwrapper\u001b[0m\u001b[0;34m(\u001b[0m\u001b[0;34m*\u001b[0m\u001b[0margs\u001b[0m\u001b[0;34m:\u001b[0m \u001b[0mTuple\u001b[0m\u001b[0;34m[\u001b[0m\u001b[0mAny\u001b[0m\u001b[0;34m]\u001b[0m\u001b[0;34m,\u001b[0m \u001b[0;34m**\u001b[0m\u001b[0mkwargs\u001b[0m\u001b[0;34m:\u001b[0m \u001b[0mDict\u001b[0m\u001b[0;34m[\u001b[0m\u001b[0mAny\u001b[0m\u001b[0;34m,\u001b[0m \u001b[0mAny\u001b[0m\u001b[0;34m]\u001b[0m\u001b[0;34m)\u001b[0m \u001b[0;34m->\u001b[0m \u001b[0mCallable\u001b[0m\u001b[0;34m:\u001b[0m\u001b[0;34m\u001b[0m\u001b[0;34m\u001b[0m\u001b[0m\n\u001b[1;32m     30\u001b[0m \u001b[0;34m\u001b[0m\u001b[0m\n\u001b[0;32m---> 31\u001b[0;31m             \u001b[0;32mreturn\u001b[0m \u001b[0mfunction\u001b[0m\u001b[0;34m(\u001b[0m\u001b[0;34m*\u001b[0m\u001b[0margs\u001b[0m\u001b[0;34m,\u001b[0m \u001b[0;34m**\u001b[0m\u001b[0mkwargs\u001b[0m\u001b[0;34m)\u001b[0m\u001b[0;34m\u001b[0m\u001b[0;34m\u001b[0m\u001b[0m\n\u001b[0m\u001b[1;32m     32\u001b[0m             \u001b[0;31m# try:\u001b[0m\u001b[0;34m\u001b[0m\u001b[0;34m\u001b[0m\u001b[0;34m\u001b[0m\u001b[0m\n\u001b[1;32m     33\u001b[0m             \u001b[0;31m#     return function(*args, **kwargs)\u001b[0m\u001b[0;34m\u001b[0m\u001b[0;34m\u001b[0m\u001b[0;34m\u001b[0m\u001b[0m\n",
      "\u001b[0;32m~/code/om/PySyft/src/syft/decorators/typecheck.py\u001b[0m in \u001b[0;36mdecorator\u001b[0;34m(*args, **kwargs)\u001b[0m\n\u001b[1;32m    108\u001b[0m         \u001b[0;32mif\u001b[0m \u001b[0mprohibit_args\u001b[0m\u001b[0;34m:\u001b[0m\u001b[0;34m\u001b[0m\u001b[0;34m\u001b[0m\u001b[0m\n\u001b[1;32m    109\u001b[0m             \u001b[0mcheck_args\u001b[0m\u001b[0;34m(\u001b[0m\u001b[0;34m*\u001b[0m\u001b[0margs\u001b[0m\u001b[0;34m,\u001b[0m \u001b[0;34m**\u001b[0m\u001b[0mkwargs\u001b[0m\u001b[0;34m)\u001b[0m\u001b[0;34m\u001b[0m\u001b[0;34m\u001b[0m\u001b[0m\n\u001b[0;32m--> 110\u001b[0;31m         \u001b[0;32mreturn\u001b[0m \u001b[0mtypechecked\u001b[0m\u001b[0;34m(\u001b[0m\u001b[0mdecorated\u001b[0m\u001b[0;34m)\u001b[0m\u001b[0;34m(\u001b[0m\u001b[0;34m*\u001b[0m\u001b[0margs\u001b[0m\u001b[0;34m,\u001b[0m \u001b[0;34m**\u001b[0m\u001b[0mkwargs\u001b[0m\u001b[0;34m)\u001b[0m\u001b[0;34m\u001b[0m\u001b[0;34m\u001b[0m\u001b[0m\n\u001b[0m\u001b[1;32m    111\u001b[0m \u001b[0;34m\u001b[0m\u001b[0m\n\u001b[1;32m    112\u001b[0m     \u001b[0mdecorator\u001b[0m\u001b[0;34m.\u001b[0m\u001b[0m__annotations__\u001b[0m \u001b[0;34m=\u001b[0m \u001b[0mdecorated\u001b[0m\u001b[0;34m.\u001b[0m\u001b[0m__annotations__\u001b[0m\u001b[0;34m\u001b[0m\u001b[0;34m\u001b[0m\u001b[0m\n",
      "\u001b[0;32m~/.virtualenvs/PySyft-oY_gpCbr/lib/python3.8/site-packages/typeguard/__init__.py\u001b[0m in \u001b[0;36mwrapper\u001b[0;34m(*args, **kwargs)\u001b[0m\n\u001b[1;32m    889\u001b[0m         \u001b[0mmemo\u001b[0m \u001b[0;34m=\u001b[0m \u001b[0m_CallMemo\u001b[0m\u001b[0;34m(\u001b[0m\u001b[0mpython_func\u001b[0m\u001b[0;34m,\u001b[0m \u001b[0m_localns\u001b[0m\u001b[0;34m,\u001b[0m \u001b[0margs\u001b[0m\u001b[0;34m=\u001b[0m\u001b[0margs\u001b[0m\u001b[0;34m,\u001b[0m \u001b[0mkwargs\u001b[0m\u001b[0;34m=\u001b[0m\u001b[0mkwargs\u001b[0m\u001b[0;34m)\u001b[0m\u001b[0;34m\u001b[0m\u001b[0;34m\u001b[0m\u001b[0m\n\u001b[1;32m    890\u001b[0m         \u001b[0mcheck_argument_types\u001b[0m\u001b[0;34m(\u001b[0m\u001b[0mmemo\u001b[0m\u001b[0;34m)\u001b[0m\u001b[0;34m\u001b[0m\u001b[0;34m\u001b[0m\u001b[0m\n\u001b[0;32m--> 891\u001b[0;31m         \u001b[0mretval\u001b[0m \u001b[0;34m=\u001b[0m \u001b[0mfunc\u001b[0m\u001b[0;34m(\u001b[0m\u001b[0;34m*\u001b[0m\u001b[0margs\u001b[0m\u001b[0;34m,\u001b[0m \u001b[0;34m**\u001b[0m\u001b[0mkwargs\u001b[0m\u001b[0;34m)\u001b[0m\u001b[0;34m\u001b[0m\u001b[0;34m\u001b[0m\u001b[0m\n\u001b[0m\u001b[1;32m    892\u001b[0m         \u001b[0mcheck_return_type\u001b[0m\u001b[0;34m(\u001b[0m\u001b[0mretval\u001b[0m\u001b[0;34m,\u001b[0m \u001b[0mmemo\u001b[0m\u001b[0;34m)\u001b[0m\u001b[0;34m\u001b[0m\u001b[0;34m\u001b[0m\u001b[0m\n\u001b[1;32m    893\u001b[0m \u001b[0;34m\u001b[0m\u001b[0m\n",
      "\u001b[0;32m~/code/om/PySyft/src/syft/core/node/common/action/get_object_action.py\u001b[0m in \u001b[0;36m_object2proto\u001b[0;34m(self)\u001b[0m\n\u001b[1;32m     58\u001b[0m         \"\"\"\n\u001b[1;32m     59\u001b[0m \u001b[0;34m\u001b[0m\u001b[0m\n\u001b[0;32m---> 60\u001b[0;31m         \u001b[0mser\u001b[0m \u001b[0;34m=\u001b[0m \u001b[0mself\u001b[0m\u001b[0;34m.\u001b[0m\u001b[0mobj\u001b[0m\u001b[0;34m.\u001b[0m\u001b[0mserialize\u001b[0m\u001b[0;34m(\u001b[0m\u001b[0;34m)\u001b[0m\u001b[0;34m\u001b[0m\u001b[0;34m\u001b[0m\u001b[0m\n\u001b[0m\u001b[1;32m     61\u001b[0m \u001b[0;34m\u001b[0m\u001b[0m\n\u001b[1;32m     62\u001b[0m         \u001b[0;31m# TODO: Fix this hack\u001b[0m\u001b[0;34m\u001b[0m\u001b[0;34m\u001b[0m\u001b[0;34m\u001b[0m\u001b[0m\n",
      "\u001b[0;31mAttributeError\u001b[0m: 'numpy.ndarray' object has no attribute 'serialize'"
     ]
    }
   ],
   "source": [
    "a.get()"
   ]
  }
 ],
 "metadata": {
  "kernelspec": {
   "display_name": "Python 3",
   "language": "python",
   "name": "python3"
  },
  "language_info": {
   "codemirror_mode": {
    "name": "ipython",
    "version": 3
   },
   "file_extension": ".py",
   "mimetype": "text/x-python",
   "name": "python",
   "nbconvert_exporter": "python",
   "pygments_lexer": "ipython3",
   "version": "3.8.5"
  }
 },
 "nbformat": 4,
 "nbformat_minor": 4
}

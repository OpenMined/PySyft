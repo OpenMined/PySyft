{
 "cells": [
  {
   "cell_type": "code",
   "execution_count": 1,
   "metadata": {},
   "outputs": [],
   "source": [
    "import sys\n",
    "import json\n",
    "import torch\n",
    "import inspect\n",
    "# torch.set_printoptions(profile=\"full\")"
   ]
  },
  {
   "cell_type": "code",
   "execution_count": 2,
   "metadata": {},
   "outputs": [],
   "source": [
    "fq_init_params = {\n",
    "    \"torch.device\": {\"args\": (), \"kwargs\": {\"type\": \"cpu\"}},\n",
    "    \"torch.Tensor\": {\"args\": ([[1., 2., 3.]]), \"kwargs\": {}}\n",
    "}"
   ]
  },
  {
   "cell_type": "code",
   "execution_count": 3,
   "metadata": {},
   "outputs": [],
   "source": [
    "def full_name_with_qualname(klass: type) -> str:\n",
    "    return f'{klass.__module__}.{klass.__qualname__}'"
   ]
  },
  {
   "cell_type": "code",
   "execution_count": 4,
   "metadata": {},
   "outputs": [],
   "source": [
    "def detect_attrs(obj) -> dict:\n",
    "    attr_dict = {\"method\":[], \"function\":[], \"property\":[], \"builtin\": []}\n",
    "    for key in dir(obj):\n",
    "        try:\n",
    "            attr = getattr(obj, key)\n",
    "            meth = inspect.ismethod(attr)\n",
    "            if meth:\n",
    "                # def(self) / @classmethod\n",
    "                prop_type = \"method\"\n",
    "            else:\n",
    "                if inspect.isfunction(attr):\n",
    "                    # @staticmethod / def / lambda\n",
    "                    prop_type = \"function\"\n",
    "                elif inspect.isbuiltin(attr):\n",
    "                    # built-in\n",
    "                    prop_type = \"builtin\"\n",
    "                else:\n",
    "                    prop_type = \"property\"\n",
    "        except:\n",
    "            # errors accessing an attr usually indicate a property executing\n",
    "            prop_type = \"property\"\n",
    "\n",
    "        attr_type = type(attr)\n",
    "\n",
    "        type_name = full_name_with_qualname(attr_type)\n",
    "\n",
    "        meth_dict = {\"key\": key, \"type\": type_name}\n",
    "        if not type_name.startswith(\"builtins\"):\n",
    "            module_parts = type_name.split(\".\")\n",
    "            klass = module_parts.pop()\n",
    "            obj_type = getattr(sys.modules[\".\".join(module_parts)], klass)\n",
    "            if type_name not in fq_init_params:\n",
    "                print(f\"Unknown init params for: {obj_type}\")\n",
    "                init_args = inspect.getfullargspec(obj_type.__init__)\n",
    "                print(init_args)\n",
    "            else:\n",
    "                params = fq_init_params[type_name]\n",
    "                o = obj_type(*params[\"args\"], **params[\"kwargs\"])\n",
    "                meth_dict[\"children\"] = o\n",
    "\n",
    "        attr_dict[prop_type].append(meth_dict)\n",
    "        \n",
    "    return attr_dict"
   ]
  },
  {
   "cell_type": "code",
   "execution_count": 5,
   "metadata": {},
   "outputs": [],
   "source": [
    "def print_attr(obj, obj_dict=None, level=0):\n",
    "    padding = \"\".join([\"\\t\"] * level)\n",
    "    if obj_dict is None:\n",
    "        obj_dict = detect_attrs(obj)\n",
    "\n",
    "    print(f\"{padding}{type(obj)} has:\")\n",
    "    for k, l in obj_dict.items():\n",
    "        if len(l) > 0:\n",
    "            print(f\"\\n{padding}{k}:\")\n",
    "            for d in l:\n",
    "                k = d[\"key\"]\n",
    "                t = d[\"type\"]\n",
    "                if k.startswith(\"__\"):\n",
    "                    continue\n",
    "                print(f\"{padding}  -  {k} : {t}\")\n",
    "                if \"children\" in d:\n",
    "                    print_attr(d[\"children\"], level=level+1)"
   ]
  },
  {
   "cell_type": "code",
   "execution_count": 6,
   "metadata": {},
   "outputs": [],
   "source": [
    "def compare_class_w_instance(klass, inst):\n",
    "    a = set(list(dir(klass)))\n",
    "    b = set(list(dir(inst)))\n",
    "\n",
    "    print(a.difference(b))"
   ]
  },
  {
   "cell_type": "code",
   "execution_count": null,
   "metadata": {},
   "outputs": [],
   "source": []
  },
  {
   "cell_type": "code",
   "execution_count": 7,
   "metadata": {},
   "outputs": [],
   "source": [
    "# the thing we want to inspect\n",
    "thing = torch.Generator\n",
    "# thing = torch.Tensor"
   ]
  },
  {
   "cell_type": "code",
   "execution_count": 8,
   "metadata": {},
   "outputs": [
    {
     "name": "stdout",
     "output_type": "stream",
     "text": [
      "<class 'torch._C.Generator'>\n",
      "/Users/madhavajay/.local/share/virtualenvs/PySyft-lHlz_cKe/lib/python3.6/site-packages/torch/_C.cpython-36m-darwin.so\n"
     ]
    }
   ],
   "source": [
    "print(thing)\n",
    "print(inspect.getfile(thing))"
   ]
  },
  {
   "cell_type": "code",
   "execution_count": 9,
   "metadata": {},
   "outputs": [
    {
     "data": {
      "text/plain": [
       "<torch._C.Generator at 0x12b106a20>"
      ]
     },
     "execution_count": 9,
     "metadata": {},
     "output_type": "execute_result"
    }
   ],
   "source": [
    "inst = thing()\n",
    "inst"
   ]
  },
  {
   "cell_type": "code",
   "execution_count": 10,
   "metadata": {},
   "outputs": [
    {
     "name": "stdout",
     "output_type": "stream",
     "text": [
      "<class 'torch._C.Generator'> has:\n",
      "\n",
      "property:\n",
      "  -  _cdata : builtins.int\n",
      "  -  device : torch.device\n",
      "\t<class 'torch.device'> has:\n",
      "\n",
      "\tproperty:\n",
      "\t  -  index : builtins.NoneType\n",
      "\t  -  type : builtins.str\n",
      "\n",
      "\tbuiltin:\n",
      "\n",
      "builtin:\n",
      "  -  get_state : builtins.builtin_function_or_method\n",
      "  -  initial_seed : builtins.builtin_function_or_method\n",
      "  -  manual_seed : builtins.builtin_function_or_method\n",
      "  -  seed : builtins.builtin_function_or_method\n",
      "  -  set_state : builtins.builtin_function_or_method\n"
     ]
    }
   ],
   "source": [
    "print_attr(inst)"
   ]
  },
  {
   "cell_type": "code",
   "execution_count": 11,
   "metadata": {},
   "outputs": [
    {
     "name": "stdout",
     "output_type": "stream",
     "text": [
      "set()\n"
     ]
    }
   ],
   "source": [
    "compare_class_w_instance(thing, inst)"
   ]
  },
  {
   "cell_type": "code",
   "execution_count": 12,
   "metadata": {},
   "outputs": [
    {
     "data": {
      "text/plain": [
       "FullArgSpec(args=['self'], varargs='args', varkw='kwargs', defaults=None, kwonlyargs=[], kwonlydefaults=None, annotations={})"
      ]
     },
     "execution_count": 12,
     "metadata": {},
     "output_type": "execute_result"
    }
   ],
   "source": [
    "inspect.getfullargspec(torch.device.__init__)"
   ]
  },
  {
   "cell_type": "code",
   "execution_count": 13,
   "metadata": {},
   "outputs": [
    {
     "data": {
      "text/plain": [
       "[(torch._C._TensorBase, (object,)),\n",
       " [(torch.Tensor, (torch._C._TensorBase,)),\n",
       "  [(torch.nn.parameter.Parameter, (torch.Tensor,))]]]"
      ]
     },
     "execution_count": 13,
     "metadata": {},
     "output_type": "execute_result"
    }
   ],
   "source": [
    "inspect.getclasstree([torch.Tensor, torch.nn.Parameter])"
   ]
  },
  {
   "cell_type": "code",
   "execution_count": null,
   "metadata": {},
   "outputs": [],
   "source": []
  }
 ],
 "metadata": {
  "kernelspec": {
   "display_name": "Python 3",
   "language": "python",
   "name": "python3"
  },
  "language_info": {
   "codemirror_mode": {
    "name": "ipython",
    "version": 3
   },
   "file_extension": ".py",
   "mimetype": "text/x-python",
   "name": "python",
   "nbconvert_exporter": "python",
   "pygments_lexer": "ipython3",
   "version": "3.6.11"
  }
 },
 "nbformat": 4,
 "nbformat_minor": 4
}

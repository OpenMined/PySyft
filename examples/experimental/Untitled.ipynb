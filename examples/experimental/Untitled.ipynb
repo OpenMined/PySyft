{
 "cells": [
  {
   "cell_type": "code",
   "execution_count": 1,
   "metadata": {},
   "outputs": [],
   "source": [
    "import torch\n",
    "import syft"
   ]
  },
  {
   "cell_type": "code",
   "execution_count": 2,
   "metadata": {},
   "outputs": [],
   "source": [
    "hook = syft.TorchHook(torch)"
   ]
  },
  {
   "cell_type": "code",
   "execution_count": 3,
   "metadata": {},
   "outputs": [],
   "source": [
    "alice = syft.VirtualWorker(hook,id=\"alice\")\n",
    "bob = syft.VirtualWorker(hook,id=\"bob\")"
   ]
  },
  {
   "cell_type": "code",
   "execution_count": 4,
   "metadata": {},
   "outputs": [],
   "source": [
    "Q_BITS = 7\n",
    "field = 2**Q_BITS -1\n",
    "def decompose(shares):\n",
    "   \"\"\"decompose a tensor into its binary representation.\"\"\"\n",
    "   powers = torch.arange(Q_BITS)\n",
    "   locations = list(shares.keys())\n",
    "   shares_shape = shares[locations[0]].shape\n",
    "\n",
    "   for i in range(len(shares_shape)):\n",
    "       powers = powers.unsqueeze(0)\n",
    "   moduli = 2 ** powers\n",
    "\n",
    "   decomposition = {}\n",
    "   for location in locations:\n",
    "       share = shares[location].unsqueeze(-1)\n",
    "       moduli_ptr = moduli.send(location)\n",
    "\n",
    "       decomposition[location] = torch.remainder(\n",
    "           ((share + 2 ** (Q_BITS)) / moduli_ptr.type_as(share))\n",
    "           , 2\n",
    "       )\n",
    "   return decomposition"
   ]
  },
  {
   "cell_type": "code",
   "execution_count": 5,
   "metadata": {},
   "outputs": [],
   "source": [
    "t = torch.tensor([1, 2, 3, 4.0])\n",
    "x = t.fix_prec(field=field).share(bob, alice,field=field)"
   ]
  },
  {
   "cell_type": "code",
   "execution_count": 6,
   "metadata": {},
   "outputs": [
    {
     "data": {
      "text/plain": [
       "(Wrapper)>FixedPrecisionTensor>(Wrapper)>[AdditiveSharingTensor]\n",
       "\t-> (Wrapper)>[PointerTensor | me:35115250218 -> bob:78790786047]\n",
       "\t-> (Wrapper)>[PointerTensor | me:904814793 -> alice:1357788618]"
      ]
     },
     "execution_count": 6,
     "metadata": {},
     "output_type": "execute_result"
    }
   ],
   "source": [
    "x"
   ]
  },
  {
   "cell_type": "code",
   "execution_count": 22,
   "metadata": {},
   "outputs": [
    {
     "name": "stdout",
     "output_type": "stream",
     "text": [
      "{1357788618: tensor([-133,  -75,  -89,  -52])}\n"
     ]
    }
   ],
   "source": [
    "print(alice._objects)"
   ]
  },
  {
   "cell_type": "code",
   "execution_count": 21,
   "metadata": {},
   "outputs": [
    {
     "name": "stdout",
     "output_type": "stream",
     "text": [
      "{78790786047: tensor([117,  43,  41, 115])}\n"
     ]
    }
   ],
   "source": [
    "print(bob._objects)"
   ]
  },
  {
   "cell_type": "code",
   "execution_count": 7,
   "metadata": {},
   "outputs": [],
   "source": [
    "decomposed = decompose(x.child.child.child.child)"
   ]
  },
  {
   "cell_type": "code",
   "execution_count": 8,
   "metadata": {},
   "outputs": [
    {
     "data": {
      "text/plain": [
       "{'bob': (Wrapper)>[PointerTensor | me:32723485222 -> bob:32723485222],\n",
       " 'alice': (Wrapper)>[PointerTensor | me:97169878507 -> alice:97169878507]}"
      ]
     },
     "execution_count": 8,
     "metadata": {},
     "output_type": "execute_result"
    }
   ],
   "source": [
    "decomposed"
   ]
  },
  {
   "cell_type": "code",
   "execution_count": 9,
   "metadata": {},
   "outputs": [],
   "source": [
    "a= decomposed[\"alice\"].get()"
   ]
  },
  {
   "cell_type": "code",
   "execution_count": 10,
   "metadata": {},
   "outputs": [
    {
     "data": {
      "text/plain": [
       "tensor([[1, 0, 1, 0, 0, 0, 0],\n",
       "        [1, 0, 1, 0, 1, 1, 0],\n",
       "        [1, 1, 1, 0, 0, 1, 0],\n",
       "        [0, 0, 1, 1, 0, 0, 1]])"
      ]
     },
     "execution_count": 10,
     "metadata": {},
     "output_type": "execute_result"
    }
   ],
   "source": [
    "a"
   ]
  },
  {
   "cell_type": "code",
   "execution_count": 11,
   "metadata": {},
   "outputs": [],
   "source": [
    "b= decomposed[\"bob\"].get()"
   ]
  },
  {
   "cell_type": "code",
   "execution_count": 12,
   "metadata": {},
   "outputs": [
    {
     "data": {
      "text/plain": [
       "tensor([[1, 0, 1, 0, 1, 1, 1],\n",
       "        [1, 1, 0, 1, 0, 1, 0],\n",
       "        [1, 0, 0, 1, 0, 1, 0],\n",
       "        [1, 1, 0, 0, 1, 1, 1]])"
      ]
     },
     "execution_count": 12,
     "metadata": {},
     "output_type": "execute_result"
    }
   ],
   "source": [
    "b"
   ]
  },
  {
   "cell_type": "code",
   "execution_count": 13,
   "metadata": {},
   "outputs": [],
   "source": [
    "def convert_to_int(bits):\n",
    "    total = 0\n",
    "    for i, bit in enumerate(bits):\n",
    "        total += bit * 2**i\n",
    "    return total"
   ]
  },
  {
   "cell_type": "code",
   "execution_count": 18,
   "metadata": {},
   "outputs": [
    {
     "data": {
      "text/plain": [
       "5"
      ]
     },
     "execution_count": 18,
     "metadata": {},
     "output_type": "execute_result"
    }
   ],
   "source": [
    "convert_to_int([1, 0, 1, 0, 0, 0, 0])"
   ]
  },
  {
   "cell_type": "code",
   "execution_count": 19,
   "metadata": {},
   "outputs": [
    {
     "data": {
      "text/plain": [
       "117"
      ]
     },
     "execution_count": 19,
     "metadata": {},
     "output_type": "execute_result"
    }
   ],
   "source": [
    "convert_to_int([1, 0, 1, 0, 1, 1, 1])"
   ]
  },
  {
   "cell_type": "code",
   "execution_count": 20,
   "metadata": {},
   "outputs": [
    {
     "data": {
      "text/plain": [
       "127"
      ]
     },
     "execution_count": 20,
     "metadata": {},
     "output_type": "execute_result"
    }
   ],
   "source": [
    "field"
   ]
  },
  {
   "cell_type": "code",
   "execution_count": 26,
   "metadata": {},
   "outputs": [
    {
     "name": "stdout",
     "output_type": "stream",
     "text": [
      "<class '__main__.test_base'>\n"
     ]
    },
    {
     "data": {
      "text/plain": [
       "<__main__.test_base at 0x7f3c9efbba90>"
      ]
     },
     "execution_count": 26,
     "metadata": {},
     "output_type": "execute_result"
    }
   ],
   "source": [
    "class test_base():\n",
    "    def __init__(self):\n",
    "        print(type(self))\n",
    "class not_base(test_base):\n",
    "    def __init__(self):\n",
    "        print(\"testing\")\n",
    "        super().__init__()\n",
    "\n",
    "test_base()"
   ]
  },
  {
   "cell_type": "code",
   "execution_count": null,
   "metadata": {},
   "outputs": [],
   "source": []
  }
 ],
 "metadata": {
  "kernelspec": {
   "display_name": "pysyft",
   "language": "python",
   "name": "pysyft"
  },
  "language_info": {
   "codemirror_mode": {
    "name": "ipython",
    "version": 3
   },
   "file_extension": ".py",
   "mimetype": "text/x-python",
   "name": "python",
   "nbconvert_exporter": "python",
   "pygments_lexer": "ipython3",
   "version": "3.6.8"
  }
 },
 "nbformat": 4,
 "nbformat_minor": 2
}

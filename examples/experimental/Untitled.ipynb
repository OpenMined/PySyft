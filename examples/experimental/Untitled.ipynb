{
 "cells": [
  {
   "cell_type": "code",
   "execution_count": 1,
   "metadata": {},
   "outputs": [
    {
     "name": "stdout",
     "output_type": "stream",
     "text": [
      "Setting up Sandbox...\n",
      "Done!\n"
     ]
    }
   ],
   "source": [
    "import torch as th\n",
    "import syft as sy\n",
    "sy.create_sandbox(globals(), download_data=False, verbose=False)"
   ]
  },
  {
   "cell_type": "code",
   "execution_count": 2,
   "metadata": {},
   "outputs": [],
   "source": [
    "@sy.func2plan(verbose=False)\n",
    "def plan_double_abs(x):\n",
    "    x = x + x\n",
    "    x = th.abs(x)\n",
    "    return x"
   ]
  },
  {
   "cell_type": "code",
   "execution_count": 3,
   "metadata": {},
   "outputs": [
    {
     "data": {
      "text/plain": [
       "(Wrapper)>[PointerTensor | me:29321755071 -> bob:37001315592]"
      ]
     },
     "execution_count": 3,
     "metadata": {},
     "output_type": "execute_result"
    }
   ],
   "source": [
    "x = th.tensor([1,2,3]).send(bob)\n",
    "x"
   ]
  },
  {
   "cell_type": "code",
   "execution_count": 4,
   "metadata": {},
   "outputs": [
    {
     "data": {
      "text/plain": [
       "(19, (29321755071, 37001315592, 'bob', None, (13, (3,)), True))"
      ]
     },
     "execution_count": 4,
     "metadata": {},
     "output_type": "execute_result"
    }
   ],
   "source": [
    "sy.serde._simplify(x.child)"
   ]
  },
  {
   "cell_type": "code",
   "execution_count": 5,
   "metadata": {},
   "outputs": [],
   "source": [
    "sy.local_worker.verbose=False"
   ]
  },
  {
   "cell_type": "code",
   "execution_count": 6,
   "metadata": {},
   "outputs": [],
   "source": [
    "plan_double_abs.build(th.tensor([1., -2.]))"
   ]
  },
  {
   "cell_type": "code",
   "execution_count": 7,
   "metadata": {},
   "outputs": [
    {
     "data": {
      "text/plain": [
       "((6,\n",
       "  (1,\n",
       "   (6,\n",
       "    ((6,\n",
       "      ((5, (b'__add__',)),\n",
       "       (19, (44392075249, 72774680361, 66508108408, None, (13, (2,)), False)),\n",
       "       (6,\n",
       "        ((19,\n",
       "          (44392075249, 72774680361, 66508108408, None, (13, (2,)), False)),)),\n",
       "       (0, ()))),\n",
       "     (6, (50752341715,)))))),\n",
       " (6,\n",
       "  (1,\n",
       "   (6,\n",
       "    ((6,\n",
       "      ((5, (b'torch.abs',)),\n",
       "       None,\n",
       "       (6, ((19, (38894008563, 50752341715, 66508108408, None, None, True)),)),\n",
       "       (0, ()))),\n",
       "     (6, (30465432800,)))))),\n",
       " (6, (9, 50752341715)))"
      ]
     },
     "execution_count": 7,
     "metadata": {},
     "output_type": "execute_result"
    }
   ],
   "source": [
    "plan_double_abs.readable_plan"
   ]
  },
  {
   "cell_type": "code",
   "execution_count": 8,
   "metadata": {},
   "outputs": [
    {
     "data": {
      "text/plain": [
       "(18,\n",
       " (((6,\n",
       "    (1,\n",
       "     (6,\n",
       "      ((6,\n",
       "        ((5, (b'__add__',)),\n",
       "         (19,\n",
       "          (44392075249, 72774680361, 66508108408, None, (13, (2,)), False)),\n",
       "         (6,\n",
       "          ((19,\n",
       "            (44392075249,\n",
       "             72774680361,\n",
       "             66508108408,\n",
       "             None,\n",
       "             (13, (2,)),\n",
       "             False)),)),\n",
       "         (0, ()))),\n",
       "       (6, (50752341715,)))))),\n",
       "   (6,\n",
       "    (1,\n",
       "     (6,\n",
       "      ((6,\n",
       "        ((5, (b'torch.abs',)),\n",
       "         None,\n",
       "         (6,\n",
       "          ((19, (38894008563, 50752341715, 66508108408, None, None, True)),)),\n",
       "         (0, ()))),\n",
       "       (6, (30465432800,)))))),\n",
       "   (6, (9, 50752341715))),\n",
       "  66508108408,\n",
       "  (1, (72774680361,)),\n",
       "  (6, (30465432800,)),\n",
       "  (5, (b'plan_double_abs',)),\n",
       "  None,\n",
       "  None,\n",
       "  True))"
      ]
     },
     "execution_count": 8,
     "metadata": {},
     "output_type": "execute_result"
    }
   ],
   "source": [
    "out = sy.serde._simplify(plan_double_abs)\n",
    "out"
   ]
  },
  {
   "cell_type": "code",
   "execution_count": null,
   "metadata": {},
   "outputs": [],
   "source": []
  }
 ],
 "metadata": {
  "kernelspec": {
   "display_name": "Python 3",
   "language": "python",
   "name": "python3"
  },
  "language_info": {
   "codemirror_mode": {
    "name": "ipython",
    "version": 3
   },
   "file_extension": ".py",
   "mimetype": "text/x-python",
   "name": "python",
   "nbconvert_exporter": "python",
   "pygments_lexer": "ipython3",
   "version": "3.6.1"
  }
 },
 "nbformat": 4,
 "nbformat_minor": 2
}

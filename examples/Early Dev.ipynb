{
 "cells": [
  {
   "cell_type": "code",
   "execution_count": 2,
   "metadata": {},
   "outputs": [],
   "source": [
    "import syft as sy"
   ]
  },
  {
   "cell_type": "markdown",
   "metadata": {},
   "source": [
    "### Test 1: Send a Message from a VM Client to a VM"
   ]
  },
  {
   "cell_type": "code",
   "execution_count": 3,
   "metadata": {},
   "outputs": [],
   "source": [
    "bob_vm = sy.VirtualMachine(name=\"Bob\")\n",
    "bob_vm_client = bob_vm.get_client()"
   ]
  },
  {
   "cell_type": "code",
   "execution_count": 5,
   "metadata": {},
   "outputs": [
    {
     "name": "stdout",
     "output_type": "stream",
     "text": [
      "the message is for me!!!\n",
      "VirtualMachine:Bob:<UID:dc74d41a-175d-477f-a3bd-b4b91ead6f40>\n"
     ]
    }
   ],
   "source": [
    "bob_vm_client.send_immediate_msg_without_reply(msg=sy.ReprMessage(address=bob_vm_client.address))"
   ]
  },
  {
   "cell_type": "markdown",
   "metadata": {},
   "source": [
    "### Test 2: Send a message from a Device Client to a Device"
   ]
  },
  {
   "cell_type": "code",
   "execution_count": 6,
   "metadata": {},
   "outputs": [],
   "source": [
    "bob_phone = sy.Device(name=\"Bob's iPhone\")\n",
    "bob_phone_client = bob_phone.get_client()"
   ]
  },
  {
   "cell_type": "code",
   "execution_count": 7,
   "metadata": {},
   "outputs": [],
   "source": [
    "msg = sy.ReprMessage(address=bob_phone_client.address)"
   ]
  },
  {
   "cell_type": "code",
   "execution_count": 8,
   "metadata": {},
   "outputs": [
    {
     "name": "stdout",
     "output_type": "stream",
     "text": [
      "the message is for me!!!\n",
      "Device:Bob's iPhone:<UID:a545399e-3c51-4b02-8c5a-03bb99c3bd31>\n"
     ]
    }
   ],
   "source": [
    "bob_phone_client.send_immediate_msg_without_reply(msg=sy.ReprMessage(address=bob_phone_client.address))"
   ]
  },
  {
   "cell_type": "markdown",
   "metadata": {},
   "source": [
    "### Test 2.1: Register a VM on a Device"
   ]
  },
  {
   "cell_type": "code",
   "execution_count": 9,
   "metadata": {},
   "outputs": [
    {
     "name": "stdout",
     "output_type": "stream",
     "text": [
      "the message is for me!!!\n",
      "the message is for me!!!\n",
      "Updating to Public(Network:None, Domain:None)  Private(Device:<UID:a545399e-3c51-4b02-8c5a-03bb99c3bd31>, VM:None) on note VirtualMachine:Bob:<UID:dc74d41a-175d-477f-a3bd-b4b91ead6f40>\n"
     ]
    }
   ],
   "source": [
    "bob_phone_client.register(client=bob_vm_client)"
   ]
  },
  {
   "cell_type": "code",
   "execution_count": 10,
   "metadata": {},
   "outputs": [
    {
     "data": {
      "text/plain": [
       "ObjectStore:{<UID:dc74d41a-175d-477f-a3bd-b4b91ead6f40>: <VirtualMachineClient id:Bob>}"
      ]
     },
     "execution_count": 10,
     "metadata": {},
     "output_type": "execute_result"
    }
   ],
   "source": [
    "bob_phone.store"
   ]
  },
  {
   "cell_type": "markdown",
   "metadata": {},
   "source": [
    "### Test 2.2 Test that registration updated \"address\" variable of VM"
   ]
  },
  {
   "cell_type": "code",
   "execution_count": 11,
   "metadata": {},
   "outputs": [],
   "source": [
    "assert bob_vm_client.address.pri_address.device is not None"
   ]
  },
  {
   "cell_type": "markdown",
   "metadata": {},
   "source": [
    "### Test 3: Send a message from a Device Client to a VM"
   ]
  },
  {
   "cell_type": "code",
   "execution_count": 12,
   "metadata": {},
   "outputs": [
    {
     "name": "stdout",
     "output_type": "stream",
     "text": [
      "the message is not for me...\n",
      "the message is for me!!!\n",
      "VirtualMachine:Bob:<UID:dc74d41a-175d-477f-a3bd-b4b91ead6f40>\n"
     ]
    }
   ],
   "source": [
    "bob_phone_client.send_immediate_msg_without_reply(msg=sy.ReprMessage(address=bob_vm_client.address))"
   ]
  },
  {
   "cell_type": "markdown",
   "metadata": {},
   "source": [
    "### Test 4: Send a message from a Domain Client to a VM"
   ]
  },
  {
   "cell_type": "code",
   "execution_count": 13,
   "metadata": {},
   "outputs": [],
   "source": [
    "import syft as sy"
   ]
  },
  {
   "cell_type": "code",
   "execution_count": 14,
   "metadata": {},
   "outputs": [],
   "source": [
    "bob_domain = sy.Domain(name=\"Bob's Domain\")\n",
    "bob_domain_client = bob_domain.get_client()"
   ]
  },
  {
   "cell_type": "code",
   "execution_count": 15,
   "metadata": {},
   "outputs": [
    {
     "name": "stdout",
     "output_type": "stream",
     "text": [
      "the message is for me!!!\n",
      "the message is for me!!!\n",
      "Updating to Public(Network:None, Domain:<UID:24d30fbc-bb31-44c0-a903-3ca109cff8fc>)  Private(Device:None, VM:None) on note Device:Bob's iPhone:<UID:a545399e-3c51-4b02-8c5a-03bb99c3bd31>\n",
      "the message is for me!!!\n",
      "Updating to Public(Network:None, Domain:<UID:24d30fbc-bb31-44c0-a903-3ca109cff8fc>)  Private(Device:None, VM:None) on note VirtualMachine:Bob:<UID:dc74d41a-175d-477f-a3bd-b4b91ead6f40>\n"
     ]
    }
   ],
   "source": [
    "bob_domain_client.register(client=bob_phone_client)"
   ]
  },
  {
   "cell_type": "code",
   "execution_count": 16,
   "metadata": {},
   "outputs": [
    {
     "name": "stdout",
     "output_type": "stream",
     "text": [
      "the message is not for me...\n",
      "the message is not for me...\n",
      "the message is for me!!!\n",
      "VirtualMachine:Bob:<UID:dc74d41a-175d-477f-a3bd-b4b91ead6f40>\n"
     ]
    }
   ],
   "source": [
    "bob_domain_client.send_immediate_msg_without_reply(msg=sy.ReprMessage(address=bob_vm_client.address))"
   ]
  },
  {
   "cell_type": "markdown",
   "metadata": {},
   "source": [
    "### Test 5: Send a message from Network Client to a VM"
   ]
  },
  {
   "cell_type": "code",
   "execution_count": 17,
   "metadata": {},
   "outputs": [],
   "source": [
    "bob_network = sy.Network(name=\"Bob's Network\")\n",
    "bob_network_client = bob_network.get_client()"
   ]
  },
  {
   "cell_type": "code",
   "execution_count": 18,
   "metadata": {},
   "outputs": [
    {
     "name": "stdout",
     "output_type": "stream",
     "text": [
      "the message is for me!!!\n",
      "the message is for me!!!\n",
      "Updating to Public(Network:<UID:87085cc7-7850-49db-90db-b862edff7973>, Domain:None)  Private(Device:None, VM:None) on note Domain:Bob's Domain:<UID:24d30fbc-bb31-44c0-a903-3ca109cff8fc>\n",
      "the message is for me!!!\n",
      "Updating to Public(Network:<UID:87085cc7-7850-49db-90db-b862edff7973>, Domain:None)  Private(Device:None, VM:None) on note Device:Bob's iPhone:<UID:a545399e-3c51-4b02-8c5a-03bb99c3bd31>\n",
      "the message is for me!!!\n",
      "Updating to Public(Network:<UID:87085cc7-7850-49db-90db-b862edff7973>, Domain:None)  Private(Device:None, VM:None) on note VirtualMachine:Bob:<UID:dc74d41a-175d-477f-a3bd-b4b91ead6f40>\n"
     ]
    }
   ],
   "source": [
    "bob_network_client.register(client=bob_domain_client)"
   ]
  },
  {
   "cell_type": "code",
   "execution_count": 20,
   "metadata": {},
   "outputs": [
    {
     "name": "stdout",
     "output_type": "stream",
     "text": [
      "the message is not for me...\n",
      "the message is not for me...\n",
      "the message is not for me...\n",
      "the message is for me!!!\n",
      "VirtualMachine:Bob:<UID:dc74d41a-175d-477f-a3bd-b4b91ead6f40>\n"
     ]
    }
   ],
   "source": [
    "bob_network_client.send_immediate_msg_without_reply(msg=sy.ReprMessage(address=bob_vm_client.address))"
   ]
  },
  {
   "cell_type": "markdown",
   "metadata": {},
   "source": [
    "### Test 5: Use VM Client wtih Torch Tensor"
   ]
  },
  {
   "cell_type": "code",
   "execution_count": 1,
   "metadata": {},
   "outputs": [],
   "source": [
    "import syft as sy\n",
    "alice = sy.VirtualMachine(name=\"alice\")\n",
    "alice_client = alice.get_client()"
   ]
  },
  {
   "cell_type": "code",
   "execution_count": 2,
   "metadata": {},
   "outputs": [],
   "source": [
    "import torch as th"
   ]
  },
  {
   "cell_type": "code",
   "execution_count": 3,
   "metadata": {},
   "outputs": [],
   "source": [
    "x = th.tensor([1,2,3,4])"
   ]
  },
  {
   "cell_type": "code",
   "execution_count": 4,
   "metadata": {},
   "outputs": [
    {
     "name": "stdout",
     "output_type": "stream",
     "text": [
      "the message is for me!!!\n"
     ]
    }
   ],
   "source": [
    "xp = x.send(alice_client)"
   ]
  },
  {
   "cell_type": "code",
   "execution_count": 5,
   "metadata": {},
   "outputs": [
    {
     "name": "stdout",
     "output_type": "stream",
     "text": [
      "the message is for me!!!\n"
     ]
    }
   ],
   "source": [
    "y = xp + xp"
   ]
  },
  {
   "cell_type": "code",
   "execution_count": 6,
   "metadata": {},
   "outputs": [
    {
     "name": "stdout",
     "output_type": "stream",
     "text": [
      "the old_message is for me!!!\n"
     ]
    },
    {
     "data": {
      "text/plain": [
       "tensor([2, 4, 6, 8])"
      ]
     },
     "execution_count": 6,
     "metadata": {},
     "output_type": "execute_result"
    }
   ],
   "source": [
    "y.get()"
   ]
  },
  {
   "cell_type": "code",
   "execution_count": 7,
   "metadata": {},
   "outputs": [
    {
     "data": {
      "text/plain": [
       "ObjectStore:{500: tensor([1, 2, 3, 4])}"
      ]
     },
     "execution_count": 7,
     "metadata": {},
     "output_type": "execute_result"
    }
   ],
   "source": [
    "alice.store"
   ]
  },
  {
   "cell_type": "code",
   "execution_count": 8,
   "metadata": {},
   "outputs": [
    {
     "name": "stdout",
     "output_type": "stream",
     "text": [
      "Deleted:<syft.ast.klass.torch.TensorPointer object at 0x7fa6c041b430>\n",
      "the old_message is for me!!!\n"
     ]
    }
   ],
   "source": [
    "del xp"
   ]
  },
  {
   "cell_type": "code",
   "execution_count": 9,
   "metadata": {},
   "outputs": [
    {
     "data": {
      "text/plain": [
       "ObjectStore:{}"
      ]
     },
     "execution_count": 9,
     "metadata": {},
     "output_type": "execute_result"
    }
   ],
   "source": [
    "alice.store"
   ]
  },
  {
   "cell_type": "code",
   "execution_count": null,
   "metadata": {},
   "outputs": [],
   "source": [
    "ptr = alice_client.torch.zeros(10,10)"
   ]
  },
  {
   "cell_type": "code",
   "execution_count": 1,
   "metadata": {},
   "outputs": [
    {
     "data": {
      "text/plain": [
       "{syft.core.nodes.common.service.repr_service.ReprMessage: <syft.core.nodes.common.service.repr_service.ReprService at 0x7fc8707dc7f0>,\n",
       " syft.core.nodes.common.service.heritage_update_service.HeritageUpdateMessage: <syft.core.nodes.common.service.heritage_update_service.HeritageUpdateService at 0x7fc8707dc910>,\n",
       " syft.core.nodes.common.service.child_node_lifecycle_service.RegisterChildNodeMessage: <syft.core.nodes.common.service.child_node_lifecycle_service.ChildNodeLifecycleService at 0x7fc8707dc820>,\n",
       " syft.core.nodes.common.action.common.ImmediateActionWithoutReply: <syft.core.nodes.common.service.obj_action_service.ImmediateObjectActionServiceWithoutReply at 0x7fc8707dc880>,\n",
       " syft.core.nodes.common.action.save_object_action.SaveObjectAction: <syft.core.nodes.common.service.obj_action_service.ImmediateObjectActionServiceWithoutReply at 0x7fc8707dc880>,\n",
       " syft.core.nodes.common.action.run_class_method_action.RunClassMethodAction: <syft.core.nodes.common.service.obj_action_service.ImmediateObjectActionServiceWithoutReply at 0x7fc8707dc880>,\n",
       " syft.core.nodes.common.action.function_or_constructor_action.RunFunctionOrConstructorAction: <syft.core.nodes.common.service.obj_action_service.ImmediateObjectActionServiceWithoutReply at 0x7fc8707dc880>}"
      ]
     },
     "execution_count": 1,
     "metadata": {},
     "output_type": "execute_result"
    }
   ],
   "source": [
    "\n",
    "\n",
    "# import torch as th\n",
    "\n",
    "# sy.LONG_TYPECHECK_STACK_TRACES(True)\n",
    "\n",
    "# x = th.tensor([1,2,3,4])\n",
    "# xp = x.send(alice_client)\n",
    "\n",
    "\n",
    "# y = xp + xp\n",
    "\n",
    "# y.get()\n",
    "\n",
    "# del xp"
   ]
  },
  {
   "cell_type": "code",
   "execution_count": 2,
   "metadata": {},
   "outputs": [],
   "source": [
    "from syft.core.nodes.common.action.function_or_constructor_action import RunFunctionOrConstructorAction"
   ]
  },
  {
   "cell_type": "code",
   "execution_count": 3,
   "metadata": {},
   "outputs": [],
   "source": [
    "def constructor(path, client, args):\n",
    "    return_type_name = sy.lib_ast(path, return_callable=True).return_type_name\n",
    "    c = sy.lib_ast(return_type_name, return_callable=True)\n",
    "    pointer_type = getattr(c, c.pointer_name)\n",
    "    pointer_to_result = pointer_type(location=client)\n",
    "    action = RunFunctionOrConstructorAction(path=path, args=args, kwargs={}, address=alice.address, id_at_location=pointer_to_result.id_at_location)\n",
    "    client.send_immediate_msg_without_reply(msg=action)\n",
    "    return pointer_to_result"
   ]
  },
  {
   "cell_type": "code",
   "execution_count": 4,
   "metadata": {},
   "outputs": [
    {
     "name": "stdout",
     "output_type": "stream",
     "text": [
      "the message is for me!!!\n"
     ]
    }
   ],
   "source": [
    "ptr = constructor(path='torch.Tensor', client=alice_client, args=(3,3))"
   ]
  },
  {
   "cell_type": "code",
   "execution_count": 5,
   "metadata": {},
   "outputs": [
    {
     "name": "stdout",
     "output_type": "stream",
     "text": [
      "the old_message is for me!!!\n"
     ]
    },
    {
     "data": {
      "text/plain": [
       "tensor([[9.8091e-45, 0.0000e+00, 0.0000e+00],\n",
       "        [0.0000e+00, 0.0000e+00, 0.0000e+00],\n",
       "        [0.0000e+00, 0.0000e+00, 0.0000e+00]])"
      ]
     },
     "execution_count": 5,
     "metadata": {},
     "output_type": "execute_result"
    }
   ],
   "source": [
    "ptr.get()"
   ]
  },
  {
   "cell_type": "code",
   "execution_count": 6,
   "metadata": {},
   "outputs": [],
   "source": [
    "from syft import lib_ast"
   ]
  },
  {
   "cell_type": "code",
   "execution_count": 8,
   "metadata": {},
   "outputs": [
    {
     "ename": "TypeError",
     "evalue": "__call__() missing 2 required positional arguments: 'path' and 'index'",
     "output_type": "error",
     "traceback": [
      "\u001b[0;31m---------------------------------------------------------------------------\u001b[0m",
      "\u001b[0;31mTypeError\u001b[0m                                 Traceback (most recent call last)",
      "\u001b[0;32m<ipython-input-8-01823cf67422>\u001b[0m in \u001b[0;36m<module>\u001b[0;34m\u001b[0m\n\u001b[0;32m----> 1\u001b[0;31m \u001b[0mlib_ast\u001b[0m\u001b[0;34m.\u001b[0m\u001b[0mtorch\u001b[0m\u001b[0;34m.\u001b[0m\u001b[0mTensor\u001b[0m\u001b[0;34m(\u001b[0m\u001b[0;34m)\u001b[0m\u001b[0;34m\u001b[0m\u001b[0;34m\u001b[0m\u001b[0m\n\u001b[0m",
      "\u001b[0;31mTypeError\u001b[0m: __call__() missing 2 required positional arguments: 'path' and 'index'"
     ]
    }
   ],
   "source": [
    "lib_ast.torch.Tensor()"
   ]
  },
  {
   "cell_type": "code",
   "execution_count": 11,
   "metadata": {},
   "outputs": [],
   "source": []
  },
  {
   "cell_type": "code",
   "execution_count": 12,
   "metadata": {},
   "outputs": [
    {
     "name": "stdout",
     "output_type": "stream",
     "text": [
      "the message is for me!!!\n"
     ]
    }
   ],
   "source": []
  },
  {
   "cell_type": "code",
   "execution_count": 13,
   "metadata": {},
   "outputs": [
    {
     "name": "stdout",
     "output_type": "stream",
     "text": [
      "the old_message is for me!!!\n"
     ]
    },
    {
     "data": {
      "text/plain": [
       "tensor([3., 3.])"
      ]
     },
     "execution_count": 13,
     "metadata": {},
     "output_type": "execute_result"
    }
   ],
   "source": []
  },
  {
   "cell_type": "code",
   "execution_count": null,
   "metadata": {},
   "outputs": [],
   "source": []
  },
  {
   "cell_type": "code",
   "execution_count": null,
   "metadata": {},
   "outputs": [],
   "source": []
  },
  {
   "cell_type": "code",
   "execution_count": null,
   "metadata": {},
   "outputs": [],
   "source": []
  },
  {
   "cell_type": "code",
   "execution_count": null,
   "metadata": {},
   "outputs": [],
   "source": [
    "from sqlalchemy import create_engine\n",
    "\n",
    "engine = create_engine('sqlite:///:memory:', echo=True)"
   ]
  },
  {
   "cell_type": "code",
   "execution_count": null,
   "metadata": {},
   "outputs": [],
   "source": [
    "from sqlalchemy.orm import sessionmaker\n",
    "\n",
    "Session = sessionmaker(bind=engine)\n",
    "session = Session()"
   ]
  },
  {
   "cell_type": "code",
   "execution_count": null,
   "metadata": {},
   "outputs": [],
   "source": [
    "from sqlalchemy.ext.declarative import declarative_base\n",
    "\n",
    "Base = declarative_base()"
   ]
  },
  {
   "cell_type": "code",
   "execution_count": null,
   "metadata": {},
   "outputs": [],
   "source": [
    "from sqlalchemy import Column, Integer, String\n",
    "\n",
    "class User(Base):\n",
    "    __tablename__ = 'users'\n",
    "\n",
    "    id = Column(Integer, primary_key=True)\n",
    "    name = Column(String)\n",
    "    password = Column(String)\n",
    "\n",
    "    def __repr__(self):\n",
    "        return f'User {self.name}'"
   ]
  },
  {
   "cell_type": "code",
   "execution_count": null,
   "metadata": {},
   "outputs": [],
   "source": [
    "Base.metadata.create_all(engine)"
   ]
  },
  {
   "cell_type": "code",
   "execution_count": null,
   "metadata": {},
   "outputs": [],
   "source": [
    "user = User(name='John Snow', password='johnspassword')\n",
    "session.add(user)\n",
    "\n",
    "print(user.id)  # None"
   ]
  },
  {
   "cell_type": "code",
   "execution_count": null,
   "metadata": {},
   "outputs": [],
   "source": [
    "session.commit()"
   ]
  },
  {
   "cell_type": "code",
   "execution_count": null,
   "metadata": {},
   "outputs": [],
   "source": [
    "query = session.query(User).filter_by(name='John Snow')"
   ]
  },
  {
   "cell_type": "code",
   "execution_count": null,
   "metadata": {},
   "outputs": [],
   "source": [
    "query.count()"
   ]
  },
  {
   "cell_type": "code",
   "execution_count": null,
   "metadata": {},
   "outputs": [],
   "source": []
  }
 ],
 "metadata": {
  "kernelspec": {
   "display_name": "Python 3",
   "language": "python",
   "name": "python3"
  },
  "language_info": {
   "codemirror_mode": {
    "name": "ipython",
    "version": 3
   },
   "file_extension": ".py",
   "mimetype": "text/x-python",
   "name": "python",
   "nbconvert_exporter": "python",
   "pygments_lexer": "ipython3",
   "version": "3.8.1"
  }
 },
 "nbformat": 4,
 "nbformat_minor": 4
}

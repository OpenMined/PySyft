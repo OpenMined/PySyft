{
 "cells": [
  {
   "cell_type": "markdown",
   "metadata": {},
   "source": [
    "# Training the Boston Housing Dataset using PySyft and SocketWorker\n",
    "\n",
    "This tutorial is a 3 notebook tutorial. The partners notebooks are the notebooks entitled `SocketWorker Boston Housing Client.ipynb` and `SocketWorker Server Alice.ipynb`. They are in the same folder as this notebook. You should execute this notebook **BEFORE** `SocketWorker Boston Housing Client.ipynb`.\n"
   ]
  },
  {
   "cell_type": "markdown",
   "metadata": {},
   "source": [
    "# Step 1: Hook PyTorch\n",
    "\n",
    "Just like previous tutorials, the first step is to override PyTorch commands using the TorchHook object."
   ]
  },
  {
   "cell_type": "code",
   "execution_count": 1,
   "metadata": {},
   "outputs": [],
   "source": [
    "import syft as sy\n",
    "\n",
    "hook = sy.TorchHook(verbose=False)\n",
    "me = hook.local_worker\n",
    "me.is_client_worker = False"
   ]
  },
  {
   "cell_type": "markdown",
   "metadata": {},
   "source": [
    "# Step 2: Launch Server\n",
    "\n",
    "The next step is to launch the server. We set is_pointer=False to tell the worker that this worker object is not merely a connection to a foreign worker but is in fact responsible for computation itself. We set is_client_worker=False to tell the worker to store tensors locally (as opposed to letting a client manage tensor lifecycles)."
   ]
  },
  {
   "cell_type": "code",
   "execution_count": 2,
   "metadata": {},
   "outputs": [
    {
     "name": "stdout",
     "output_type": "stream",
     "text": [
      "Starting Socket Worker...\n",
      "Ready to receive commands...\n"
     ]
    }
   ],
   "source": [
    "local_worker = sy.SocketWorker(hook=hook,\n",
    "                            id='bob',\n",
    "                            port=2005,\n",
    "                            is_client_worker=False)"
   ]
  },
  {
   "cell_type": "code",
   "execution_count": 3,
   "metadata": {},
   "outputs": [
    {
     "name": "stderr",
     "output_type": "stream",
     "text": [
      "WARNING:root:Registering a pointer on non-owned syftTensor.\n",
      "WARNING:root:Registering a pointer on non-owned syftTensor.\n",
      "WARNING:root:Registering a pointer on non-owned syftTensor.\n",
      "WARNING:root:Registering a pointer on non-owned syftTensor.\n",
      "WARNING:root:Registering a pointer on non-owned syftTensor.\n",
      "WARNING:root:Registering a pointer on non-owned syftTensor.\n",
      "WARNING:root:Registering a pointer on non-owned syftTensor.\n",
      "WARNING:root:Registering a pointer on non-owned syftTensor.\n",
      "WARNING:root:Registering a pointer on non-owned syftTensor.\n",
      "WARNING:root:Registering a pointer on non-owned syftTensor.\n",
      "WARNING:root:Registering a pointer on non-owned syftTensor.\n",
      "WARNING:root:Registering a pointer on non-owned syftTensor.\n",
      "WARNING:root:Registering a pointer on non-owned syftTensor.\n",
      "WARNING:root:Registering a pointer on non-owned syftTensor.\n",
      "WARNING:root:Registering a pointer on non-owned syftTensor.\n",
      "WARNING:root:Registering a pointer on non-owned syftTensor.\n",
      "WARNING:root:Registering a pointer on non-owned syftTensor.\n",
      "WARNING:root:Registering a pointer on non-owned syftTensor.\n",
      "WARNING:root:Registering a pointer on non-owned syftTensor.\n",
      "WARNING:root:Registering a pointer on non-owned syftTensor.\n"
     ]
    },
    {
     "name": "stdout",
     "output_type": "stream",
     "text": [
      "Received Command From: ('127.0.0.1', 51869)\n",
      "Received Command From: ('127.0.0.1', 51869)\n",
      "Received Command From: ('127.0.0.1', 51869)\n",
      "Received Command From: ('127.0.0.1', 51869)\n",
      "Received Command From: ('127.0.0.1', 51869)\n"
     ]
    },
    {
     "name": "stderr",
     "output_type": "stream",
     "text": [
      "WARNING:root:Registering a pointer on non-owned syftTensor.\n",
      "WARNING:root:Registering a pointer on non-owned syftTensor.\n",
      "WARNING:root:Registering a pointer on non-owned syftTensor.\n",
      "WARNING:root:Registering a pointer on non-owned syftTensor.\n",
      "WARNING:root:Registering a pointer on non-owned syftTensor.\n",
      "WARNING:root:Registering a pointer on non-owned syftTensor.\n",
      "WARNING:root:Registering a pointer on non-owned syftTensor.\n",
      "WARNING:root:Registering a pointer on non-owned syftTensor.\n",
      "WARNING:root:Registering a pointer on non-owned syftTensor.\n",
      "WARNING:root:Registering a pointer on non-owned syftTensor.\n",
      "WARNING:root:Registering a pointer on non-owned syftTensor.\n",
      "WARNING:root:Registering a pointer on non-owned syftTensor.\n",
      "WARNING:root:Registering a pointer on non-owned syftTensor.\n",
      "WARNING:root:Registering a pointer on non-owned syftTensor.\n",
      "WARNING:root:Registering a pointer on non-owned syftTensor.\n",
      "WARNING:root:Registering a pointer on non-owned syftTensor.\n",
      "WARNING:root:Registering a pointer on non-owned syftTensor.\n",
      "WARNING:root:Registering a pointer on non-owned syftTensor.\n",
      "WARNING:root:Registering a pointer on non-owned syftTensor.\n",
      "WARNING:root:Registering a pointer on non-owned syftTensor.\n"
     ]
    },
    {
     "name": "stdout",
     "output_type": "stream",
     "text": [
      "Received Command From: ('127.0.0.1', 51869)\n",
      "Received Command From: ('127.0.0.1', 51869)\n",
      "Received Command From: ('127.0.0.1', 51869)\n",
      "Received Command From: ('127.0.0.1', 51869)\n",
      "Received Command From: ('127.0.0.1', 51869)\n"
     ]
    },
    {
     "name": "stderr",
     "output_type": "stream",
     "text": [
      "WARNING:root:Registering a pointer on non-owned syftTensor.\n",
      "WARNING:root:Registering a pointer on non-owned syftTensor.\n",
      "WARNING:root:Registering a pointer on non-owned syftTensor.\n",
      "WARNING:root:Registering a pointer on non-owned syftTensor.\n",
      "WARNING:root:Registering a pointer on non-owned syftTensor.\n",
      "WARNING:root:Registering a pointer on non-owned syftTensor.\n",
      "WARNING:root:Registering a pointer on non-owned syftTensor.\n",
      "WARNING:root:Registering a pointer on non-owned syftTensor.\n",
      "WARNING:root:Registering a pointer on non-owned syftTensor.\n",
      "WARNING:root:Registering a pointer on non-owned syftTensor.\n",
      "WARNING:root:Registering a pointer on non-owned syftTensor.\n",
      "WARNING:root:Registering a pointer on non-owned syftTensor.\n",
      "WARNING:root:Registering a pointer on non-owned syftTensor.\n",
      "WARNING:root:Registering a pointer on non-owned syftTensor.\n",
      "WARNING:root:Registering a pointer on non-owned syftTensor.\n",
      "WARNING:root:Registering a pointer on non-owned syftTensor.\n",
      "WARNING:root:Registering a pointer on non-owned syftTensor.\n",
      "WARNING:root:Registering a pointer on non-owned syftTensor.\n",
      "WARNING:root:Registering a pointer on non-owned syftTensor.\n",
      "WARNING:root:Registering a pointer on non-owned syftTensor.\n",
      "WARNING:root:Registering a pointer on non-owned syftTensor.\n",
      "WARNING:root:Registering a pointer on non-owned syftTensor.\n",
      "WARNING:root:Registering a pointer on non-owned syftTensor.\n",
      "WARNING:root:Registering a pointer on non-owned syftTensor.\n"
     ]
    },
    {
     "name": "stdout",
     "output_type": "stream",
     "text": [
      "Received Command From: ('127.0.0.1', 51869)\n",
      "Received Command From: ('127.0.0.1', 51869)\n",
      "Received Command From: ('127.0.0.1', 51869)\n",
      "Received Command From: ('127.0.0.1', 51869)\n",
      "Received Command From: ('127.0.0.1', 51869)\n",
      "Received Command From: ('127.0.0.1', 51869)\n"
     ]
    },
    {
     "name": "stderr",
     "output_type": "stream",
     "text": [
      "WARNING:root:Registering a pointer on non-owned syftTensor.\n",
      "WARNING:root:Registering a pointer on non-owned syftTensor.\n",
      "WARNING:root:Registering a pointer on non-owned syftTensor.\n",
      "WARNING:root:Registering a pointer on non-owned syftTensor.\n",
      "WARNING:root:Registering a pointer on non-owned syftTensor.\n",
      "WARNING:root:Registering a pointer on non-owned syftTensor.\n",
      "WARNING:root:Registering a pointer on non-owned syftTensor.\n",
      "WARNING:root:Registering a pointer on non-owned syftTensor.\n",
      "WARNING:root:Registering a pointer on non-owned syftTensor.\n",
      "WARNING:root:Registering a pointer on non-owned syftTensor.\n",
      "WARNING:root:Registering a pointer on non-owned syftTensor.\n",
      "WARNING:root:Registering a pointer on non-owned syftTensor.\n",
      "WARNING:root:Registering a pointer on non-owned syftTensor.\n",
      "WARNING:root:Registering a pointer on non-owned syftTensor.\n",
      "WARNING:root:Registering a pointer on non-owned syftTensor.\n",
      "WARNING:root:Registering a pointer on non-owned syftTensor.\n"
     ]
    },
    {
     "name": "stdout",
     "output_type": "stream",
     "text": [
      "Received Command From: ('127.0.0.1', 51869)\n",
      "Received Command From: ('127.0.0.1', 51869)\n",
      "Received Command From: ('127.0.0.1', 51869)\n",
      "Received Command From: ('127.0.0.1', 51869)\n"
     ]
    },
    {
     "name": "stderr",
     "output_type": "stream",
     "text": [
      "WARNING:root:Registering a pointer on non-owned syftTensor.\n",
      "WARNING:root:Registering a pointer on non-owned syftTensor.\n",
      "WARNING:root:Registering a pointer on non-owned syftTensor.\n",
      "WARNING:root:Registering a pointer on non-owned syftTensor.\n",
      "WARNING:root:Registering a pointer on non-owned syftTensor.\n",
      "WARNING:root:Registering a pointer on non-owned syftTensor.\n",
      "WARNING:root:Registering a pointer on non-owned syftTensor.\n",
      "WARNING:root:Registering a pointer on non-owned syftTensor.\n",
      "WARNING:root:Registering a pointer on non-owned syftTensor.\n",
      "WARNING:root:Registering a pointer on non-owned syftTensor.\n",
      "WARNING:root:Registering a pointer on non-owned syftTensor.\n",
      "WARNING:root:Registering a pointer on non-owned syftTensor.\n",
      "WARNING:root:Registering a pointer on non-owned syftTensor.\n",
      "WARNING:root:Registering a pointer on non-owned syftTensor.\n",
      "WARNING:root:Registering a pointer on non-owned syftTensor.\n",
      "WARNING:root:Registering a pointer on non-owned syftTensor.\n",
      "WARNING:root:Registering a pointer on non-owned syftTensor.\n",
      "WARNING:root:Registering a pointer on non-owned syftTensor.\n",
      "WARNING:root:Registering a pointer on non-owned syftTensor.\n",
      "WARNING:root:Registering a pointer on non-owned syftTensor.\n",
      "WARNING:root:Registering a pointer on non-owned syftTensor.\n",
      "WARNING:root:Registering a pointer on non-owned syftTensor.\n",
      "WARNING:root:Registering a pointer on non-owned syftTensor.\n",
      "WARNING:root:Registering a pointer on non-owned syftTensor.\n",
      "WARNING:root:Registering a pointer on non-owned syftTensor.\n",
      "WARNING:root:Registering a pointer on non-owned syftTensor.\n",
      "WARNING:root:Registering a pointer on non-owned syftTensor.\n",
      "WARNING:root:Registering a pointer on non-owned syftTensor.\n",
      "WARNING:root:Registering a pointer on non-owned syftTensor.\n",
      "WARNING:root:Registering a pointer on non-owned syftTensor.\n",
      "WARNING:root:Registering a pointer on non-owned syftTensor.\n",
      "WARNING:root:Registering a pointer on non-owned syftTensor.\n",
      "WARNING:root:Registering a pointer on non-owned syftTensor.\n",
      "WARNING:root:Registering a pointer on non-owned syftTensor.\n",
      "WARNING:root:Registering a pointer on non-owned syftTensor.\n",
      "WARNING:root:Registering a pointer on non-owned syftTensor.\n",
      "WARNING:root:Registering a pointer on non-owned syftTensor.\n"
     ]
    },
    {
     "name": "stdout",
     "output_type": "stream",
     "text": [
      "Received Command From: ('127.0.0.1', 51869)\n",
      "Received Command From: ('127.0.0.1', 51869)\n",
      "Received Command From: ('127.0.0.1', 51869)\n",
      "Received Command From: ('127.0.0.1', 51869)\n",
      "Received Command From: ('127.0.0.1', 51869)\n",
      "Received Command From: ('127.0.0.1', 51869)\n",
      "Received Command From: ('127.0.0.1', 51869)\n",
      "Received Command From: ('127.0.0.1', 51869)\n",
      "Received Command From: ('127.0.0.1', 51869)\n"
     ]
    },
    {
     "name": "stderr",
     "output_type": "stream",
     "text": [
      "WARNING:root:Registering a pointer on non-owned syftTensor.\n",
      "WARNING:root:Registering a pointer on non-owned syftTensor.\n",
      "WARNING:root:Registering a pointer on non-owned syftTensor.\n",
      "WARNING:root:Registering a pointer on non-owned syftTensor.\n",
      "WARNING:root:Registering a pointer on non-owned syftTensor.\n",
      "WARNING:root:Registering a pointer on non-owned syftTensor.\n",
      "WARNING:root:Registering a pointer on non-owned syftTensor.\n",
      "WARNING:root:Registering a pointer on non-owned syftTensor.\n",
      "WARNING:root:Registering a pointer on non-owned syftTensor.\n",
      "WARNING:root:Registering a pointer on non-owned syftTensor.\n",
      "WARNING:root:Registering a pointer on non-owned syftTensor.\n",
      "WARNING:root:Registering a pointer on non-owned syftTensor.\n",
      "WARNING:root:Registering a pointer on non-owned syftTensor.\n",
      "WARNING:root:Registering a pointer on non-owned syftTensor.\n",
      "WARNING:root:Registering a pointer on non-owned syftTensor.\n",
      "WARNING:root:Registering a pointer on non-owned syftTensor.\n",
      "WARNING:root:Registering a pointer on non-owned syftTensor.\n",
      "WARNING:root:Registering a pointer on non-owned syftTensor.\n",
      "WARNING:root:Registering a pointer on non-owned syftTensor.\n",
      "WARNING:root:Registering a pointer on non-owned syftTensor.\n",
      "WARNING:root:Registering a pointer on non-owned syftTensor.\n",
      "WARNING:root:Registering a pointer on non-owned syftTensor.\n",
      "WARNING:root:Registering a pointer on non-owned syftTensor.\n",
      "WARNING:root:Registering a pointer on non-owned syftTensor.\n",
      "WARNING:root:Registering a pointer on non-owned syftTensor.\n",
      "WARNING:root:Registering a pointer on non-owned syftTensor.\n",
      "WARNING:root:Registering a pointer on non-owned syftTensor.\n"
     ]
    },
    {
     "name": "stdout",
     "output_type": "stream",
     "text": [
      "Received Command From: ('127.0.0.1', 51869)\n",
      "Received Command From: ('127.0.0.1', 51869)\n",
      "Received Command From: ('127.0.0.1', 51869)\n",
      "Received Command From: ('127.0.0.1', 51869)\n",
      "Received Command From: ('127.0.0.1', 51869)\n",
      "Received Command From: ('127.0.0.1', 51869)\n",
      "Received Command From: ('127.0.0.1', 51869)\n"
     ]
    },
    {
     "name": "stderr",
     "output_type": "stream",
     "text": [
      "WARNING:root:Registering a pointer on non-owned syftTensor.\n",
      "WARNING:root:Registering a pointer on non-owned syftTensor.\n",
      "WARNING:root:Registering a pointer on non-owned syftTensor.\n",
      "WARNING:root:Registering a pointer on non-owned syftTensor.\n",
      "WARNING:root:Registering a pointer on non-owned syftTensor.\n",
      "WARNING:root:Registering a pointer on non-owned syftTensor.\n",
      "WARNING:root:Registering a pointer on non-owned syftTensor.\n",
      "WARNING:root:Registering a pointer on non-owned syftTensor.\n",
      "WARNING:root:Registering a pointer on non-owned syftTensor.\n",
      "WARNING:root:Registering a pointer on non-owned syftTensor.\n",
      "WARNING:root:Registering a pointer on non-owned syftTensor.\n",
      "WARNING:root:Registering a pointer on non-owned syftTensor.\n",
      "WARNING:root:Registering a pointer on non-owned syftTensor.\n",
      "WARNING:root:Registering a pointer on non-owned syftTensor.\n",
      "WARNING:root:Registering a pointer on non-owned syftTensor.\n",
      "WARNING:root:Registering a pointer on non-owned syftTensor.\n",
      "WARNING:root:Registering a pointer on non-owned syftTensor.\n",
      "WARNING:root:Registering a pointer on non-owned syftTensor.\n",
      "WARNING:root:Registering a pointer on non-owned syftTensor.\n",
      "WARNING:root:Registering a pointer on non-owned syftTensor.\n",
      "WARNING:root:Registering a pointer on non-owned syftTensor.\n",
      "WARNING:root:Registering a pointer on non-owned syftTensor.\n",
      "WARNING:root:Registering a pointer on non-owned syftTensor.\n",
      "WARNING:root:Registering a pointer on non-owned syftTensor.\n",
      "WARNING:root:Registering a pointer on non-owned syftTensor.\n",
      "WARNING:root:Registering a pointer on non-owned syftTensor.\n",
      "WARNING:root:Registering a pointer on non-owned syftTensor.\n",
      "WARNING:root:Registering a pointer on non-owned syftTensor.\n",
      "WARNING:root:Registering a pointer on non-owned syftTensor.\n",
      "WARNING:root:Registering a pointer on non-owned syftTensor.\n",
      "WARNING:root:Registering a pointer on non-owned syftTensor.\n",
      "WARNING:root:Registering a pointer on non-owned syftTensor.\n"
     ]
    },
    {
     "name": "stdout",
     "output_type": "stream",
     "text": [
      "Received Command From: ('127.0.0.1', 51869)\n",
      "Received Command From: ('127.0.0.1', 51869)\n",
      "Received Command From: ('127.0.0.1', 51869)\n",
      "Received Command From: ('127.0.0.1', 51869)\n",
      "Received Command From: ('127.0.0.1', 51869)\n",
      "Received Command From: ('127.0.0.1', 51869)\n",
      "Received Command From: ('127.0.0.1', 51869)\n",
      "Received Command From: ('127.0.0.1', 51869)\n"
     ]
    },
    {
     "name": "stderr",
     "output_type": "stream",
     "text": [
      "WARNING:root:Registering a pointer on non-owned syftTensor.\n",
      "WARNING:root:Registering a pointer on non-owned syftTensor.\n",
      "WARNING:root:Registering a pointer on non-owned syftTensor.\n",
      "WARNING:root:Registering a pointer on non-owned syftTensor.\n",
      "WARNING:root:Registering a pointer on non-owned syftTensor.\n",
      "WARNING:root:Registering a pointer on non-owned syftTensor.\n",
      "WARNING:root:Registering a pointer on non-owned syftTensor.\n",
      "WARNING:root:Registering a pointer on non-owned syftTensor.\n",
      "WARNING:root:Registering a pointer on non-owned syftTensor.\n",
      "WARNING:root:Registering a pointer on non-owned syftTensor.\n",
      "WARNING:root:Registering a pointer on non-owned syftTensor.\n",
      "WARNING:root:Registering a pointer on non-owned syftTensor.\n",
      "WARNING:root:Registering a pointer on non-owned syftTensor.\n",
      "WARNING:root:Registering a pointer on non-owned syftTensor.\n",
      "WARNING:root:Registering a pointer on non-owned syftTensor.\n",
      "WARNING:root:Registering a pointer on non-owned syftTensor.\n",
      "WARNING:root:Registering a pointer on non-owned syftTensor.\n",
      "WARNING:root:Registering a pointer on non-owned syftTensor.\n",
      "WARNING:root:Registering a pointer on non-owned syftTensor.\n",
      "WARNING:root:Registering a pointer on non-owned syftTensor.\n",
      "WARNING:root:Registering a pointer on non-owned syftTensor.\n",
      "WARNING:root:Registering a pointer on non-owned syftTensor.\n",
      "WARNING:root:Registering a pointer on non-owned syftTensor.\n",
      "WARNING:root:Registering a pointer on non-owned syftTensor.\n",
      "WARNING:root:Registering a pointer on non-owned syftTensor.\n",
      "WARNING:root:Registering a pointer on non-owned syftTensor.\n",
      "WARNING:root:Registering a pointer on non-owned syftTensor.\n",
      "WARNING:root:Registering a pointer on non-owned syftTensor.\n",
      "WARNING:root:Registering a pointer on non-owned syftTensor.\n",
      "WARNING:root:Registering a pointer on non-owned syftTensor.\n",
      "WARNING:root:Registering a pointer on non-owned syftTensor.\n",
      "WARNING:root:Registering a pointer on non-owned syftTensor.\n"
     ]
    },
    {
     "name": "stdout",
     "output_type": "stream",
     "text": [
      "Received Command From: ('127.0.0.1', 51869)\n",
      "Received Command From: ('127.0.0.1', 51869)\n",
      "Received Command From: ('127.0.0.1', 51869)\n",
      "Received Command From: ('127.0.0.1', 51869)\n",
      "Received Command From: ('127.0.0.1', 51869)\n",
      "Received Command From: ('127.0.0.1', 51869)\n",
      "Received Command From: ('127.0.0.1', 51869)\n",
      "Received Command From: ('127.0.0.1', 51869)\n"
     ]
    },
    {
     "name": "stderr",
     "output_type": "stream",
     "text": [
      "WARNING:root:Registering a pointer on non-owned syftTensor.\n",
      "WARNING:root:Registering a pointer on non-owned syftTensor.\n",
      "WARNING:root:Registering a pointer on non-owned syftTensor.\n",
      "WARNING:root:Registering a pointer on non-owned syftTensor.\n",
      "WARNING:root:Registering a pointer on non-owned syftTensor.\n",
      "WARNING:root:Registering a pointer on non-owned syftTensor.\n",
      "WARNING:root:Registering a pointer on non-owned syftTensor.\n",
      "WARNING:root:Registering a pointer on non-owned syftTensor.\n",
      "WARNING:root:Registering a pointer on non-owned syftTensor.\n",
      "WARNING:root:Registering a pointer on non-owned syftTensor.\n",
      "WARNING:root:Registering a pointer on non-owned syftTensor.\n",
      "WARNING:root:Registering a pointer on non-owned syftTensor.\n",
      "WARNING:root:Registering a pointer on non-owned syftTensor.\n",
      "WARNING:root:Registering a pointer on non-owned syftTensor.\n",
      "WARNING:root:Registering a pointer on non-owned syftTensor.\n",
      "WARNING:root:Registering a pointer on non-owned syftTensor.\n",
      "WARNING:root:Registering a pointer on non-owned syftTensor.\n",
      "WARNING:root:Registering a pointer on non-owned syftTensor.\n",
      "WARNING:root:Registering a pointer on non-owned syftTensor.\n",
      "WARNING:root:Registering a pointer on non-owned syftTensor.\n",
      "WARNING:root:Registering a pointer on non-owned syftTensor.\n",
      "WARNING:root:Registering a pointer on non-owned syftTensor.\n",
      "WARNING:root:Registering a pointer on non-owned syftTensor.\n",
      "WARNING:root:Registering a pointer on non-owned syftTensor.\n"
     ]
    },
    {
     "name": "stdout",
     "output_type": "stream",
     "text": [
      "Received Command From: ('127.0.0.1', 51869)\n",
      "Received Command From: ('127.0.0.1', 51869)\n",
      "Received Command From: ('127.0.0.1', 51869)\n",
      "Received Command From: ('127.0.0.1', 51869)\n",
      "Received Command From: ('127.0.0.1', 51869)\n",
      "Received Command From: ('127.0.0.1', 51869)\n"
     ]
    },
    {
     "ename": "KeyError",
     "evalue": "59336079646",
     "output_type": "error",
     "traceback": [
      "\u001b[0;31m---------------------------------------------------------------------------\u001b[0m",
      "\u001b[0;31mKeyError\u001b[0m                                  Traceback (most recent call last)",
      "\u001b[0;32m<ipython-input-3-f9ed790532a7>\u001b[0m in \u001b[0;36m<module>\u001b[0;34m()\u001b[0m\n\u001b[0;32m----> 1\u001b[0;31m \u001b[0mlocal_worker\u001b[0m\u001b[0;34m.\u001b[0m\u001b[0mlisten\u001b[0m\u001b[0;34m(\u001b[0m\u001b[0;34m)\u001b[0m\u001b[0;34m\u001b[0m\u001b[0m\n\u001b[0m",
      "\u001b[0;32m~/Documents/Code/PySyft/syft/core/workers/socket.py\u001b[0m in \u001b[0;36mlisten\u001b[0;34m(self, num_messages)\u001b[0m\n\u001b[1;32m    151\u001b[0m \u001b[0;34m\u001b[0m\u001b[0m\n\u001b[1;32m    152\u001b[0m                     \u001b[0;31m# process message and generate response\u001b[0m\u001b[0;34m\u001b[0m\u001b[0;34m\u001b[0m\u001b[0m\n\u001b[0;32m--> 153\u001b[0;31m                     \u001b[0mresponse\u001b[0m \u001b[0;34m=\u001b[0m \u001b[0mself\u001b[0m\u001b[0;34m.\u001b[0m\u001b[0mreceive_msg\u001b[0m\u001b[0;34m(\u001b[0m\u001b[0mmessage\u001b[0m\u001b[0;34m)\u001b[0m\u001b[0;31m#.decode()\u001b[0m\u001b[0;34m\u001b[0m\u001b[0m\n\u001b[0m\u001b[1;32m    154\u001b[0m \u001b[0;34m\u001b[0m\u001b[0m\n\u001b[1;32m    155\u001b[0m                     \u001b[0;31m#if(response[-1] != b\"\\n\"):\u001b[0m\u001b[0;34m\u001b[0m\u001b[0;34m\u001b[0m\u001b[0m\n",
      "\u001b[0;32m~/Documents/Code/PySyft/syft/core/workers/base.py\u001b[0m in \u001b[0;36mreceive_msg\u001b[0;34m(self, message_wrapper_json)\u001b[0m\n\u001b[1;32m    291\u001b[0m \u001b[0;34m\u001b[0m\u001b[0m\n\u001b[1;32m    292\u001b[0m         \u001b[0;31m# load json into a dictionary where all objects have been deserialized\u001b[0m\u001b[0;34m\u001b[0m\u001b[0;34m\u001b[0m\u001b[0m\n\u001b[0;32m--> 293\u001b[0;31m         \u001b[0mmessage_wrapper\u001b[0m \u001b[0;34m=\u001b[0m \u001b[0mencode\u001b[0m\u001b[0;34m.\u001b[0m\u001b[0mdecode\u001b[0m\u001b[0;34m(\u001b[0m\u001b[0mmessage_wrapper_json\u001b[0m\u001b[0;34m,\u001b[0m \u001b[0mworker\u001b[0m\u001b[0;34m=\u001b[0m\u001b[0mself\u001b[0m\u001b[0;34m)\u001b[0m\u001b[0;34m\u001b[0m\u001b[0m\n\u001b[0m\u001b[1;32m    294\u001b[0m \u001b[0;34m\u001b[0m\u001b[0m\n\u001b[1;32m    295\u001b[0m         \u001b[0;31m# route message to appropriate logic and execute the command, returning\u001b[0m\u001b[0;34m\u001b[0m\u001b[0;34m\u001b[0m\u001b[0m\n",
      "\u001b[0;32m~/Documents/Code/PySyft/syft/core/frameworks/encode.py\u001b[0m in \u001b[0;36mdecode\u001b[0;34m(message, worker, acquire, message_is_dict)\u001b[0m\n\u001b[1;32m    201\u001b[0m     \u001b[0;32mif\u001b[0m \u001b[0misinstance\u001b[0m\u001b[0;34m(\u001b[0m\u001b[0mmessage\u001b[0m\u001b[0;34m,\u001b[0m \u001b[0mdict\u001b[0m\u001b[0;34m)\u001b[0m \u001b[0;32mand\u001b[0m \u001b[0;34m'mode'\u001b[0m \u001b[0;32min\u001b[0m \u001b[0mmessage\u001b[0m\u001b[0;34m:\u001b[0m\u001b[0;34m\u001b[0m\u001b[0m\n\u001b[1;32m    202\u001b[0m         \u001b[0mdecoder\u001b[0m\u001b[0;34m.\u001b[0m\u001b[0macquire\u001b[0m \u001b[0;34m=\u001b[0m \u001b[0;32mTrue\u001b[0m \u001b[0;32mif\u001b[0m \u001b[0mmessage\u001b[0m\u001b[0;34m[\u001b[0m\u001b[0;34m'mode'\u001b[0m\u001b[0;34m]\u001b[0m \u001b[0;34m==\u001b[0m \u001b[0;34m'acquire'\u001b[0m \u001b[0;32melse\u001b[0m \u001b[0;32mFalse\u001b[0m\u001b[0;34m\u001b[0m\u001b[0m\n\u001b[0;32m--> 203\u001b[0;31m         \u001b[0mmessage\u001b[0m \u001b[0;34m=\u001b[0m \u001b[0mdecoder\u001b[0m\u001b[0;34m.\u001b[0m\u001b[0mpython_decode\u001b[0m\u001b[0;34m(\u001b[0m\u001b[0mmessage\u001b[0m\u001b[0;34m[\u001b[0m\u001b[0;34m'obj'\u001b[0m\u001b[0;34m]\u001b[0m\u001b[0;34m)\u001b[0m\u001b[0;34m\u001b[0m\u001b[0m\n\u001b[0m\u001b[1;32m    204\u001b[0m \u001b[0;34m\u001b[0m\u001b[0m\n\u001b[1;32m    205\u001b[0m     \u001b[0;32mif\u001b[0m \u001b[0;34m'message'\u001b[0m \u001b[0;32min\u001b[0m \u001b[0mdict_message\u001b[0m\u001b[0;34m:\u001b[0m\u001b[0;34m\u001b[0m\u001b[0m\n",
      "\u001b[0;32m~/Documents/Code/PySyft/syft/core/frameworks/encode.py\u001b[0m in \u001b[0;36mpython_decode\u001b[0;34m(self, dct)\u001b[0m\n\u001b[1;32m    310\u001b[0m                     \u001b[0;32mraise\u001b[0m \u001b[0mTypeError\u001b[0m\u001b[0;34m(\u001b[0m\u001b[0;34m'The special object type'\u001b[0m\u001b[0;34m,\u001b[0m \u001b[0mobj_type\u001b[0m\u001b[0;34m,\u001b[0m \u001b[0;34m'is not supported'\u001b[0m\u001b[0;34m)\u001b[0m\u001b[0;34m\u001b[0m\u001b[0m\n\u001b[1;32m    311\u001b[0m             \u001b[0;32melse\u001b[0m\u001b[0;34m:\u001b[0m\u001b[0;34m\u001b[0m\u001b[0m\n\u001b[0;32m--> 312\u001b[0;31m                 \u001b[0mdct\u001b[0m\u001b[0;34m[\u001b[0m\u001b[0mkey\u001b[0m\u001b[0;34m]\u001b[0m \u001b[0;34m=\u001b[0m \u001b[0mself\u001b[0m\u001b[0;34m.\u001b[0m\u001b[0mpython_decode\u001b[0m\u001b[0;34m(\u001b[0m\u001b[0mobj\u001b[0m\u001b[0;34m)\u001b[0m\u001b[0;34m\u001b[0m\u001b[0m\n\u001b[0m\u001b[1;32m    313\u001b[0m         \u001b[0;32mreturn\u001b[0m \u001b[0mdct\u001b[0m\u001b[0;34m\u001b[0m\u001b[0m\n",
      "\u001b[0;32m~/Documents/Code/PySyft/syft/core/frameworks/encode.py\u001b[0m in \u001b[0;36mpython_decode\u001b[0;34m(self, dct)\u001b[0m\n\u001b[1;32m    291\u001b[0m                 \u001b[0;31m# Case of a tensor\u001b[0m\u001b[0;34m\u001b[0m\u001b[0;34m\u001b[0m\u001b[0m\n\u001b[1;32m    292\u001b[0m                 \u001b[0;32mif\u001b[0m \u001b[0mtype_code\u001b[0m \u001b[0;32min\u001b[0m \u001b[0mtorch\u001b[0m\u001b[0;34m.\u001b[0m\u001b[0mtensor_codes\u001b[0m\u001b[0;34m:\u001b[0m\u001b[0;34m\u001b[0m\u001b[0m\n\u001b[0;32m--> 293\u001b[0;31m                     \u001b[0;32mreturn\u001b[0m \u001b[0mtorch\u001b[0m\u001b[0;34m.\u001b[0m\u001b[0mguard\u001b[0m\u001b[0;34m[\u001b[0m\u001b[0mobj_type\u001b[0m\u001b[0;34m]\u001b[0m\u001b[0;34m.\u001b[0m\u001b[0mdeser\u001b[0m\u001b[0;34m(\u001b[0m\u001b[0mobj_type\u001b[0m\u001b[0;34m,\u001b[0m \u001b[0mobj\u001b[0m\u001b[0;34m,\u001b[0m \u001b[0mself\u001b[0m\u001b[0;34m.\u001b[0m\u001b[0mworker\u001b[0m\u001b[0;34m,\u001b[0m \u001b[0mself\u001b[0m\u001b[0;34m.\u001b[0m\u001b[0macquire\u001b[0m\u001b[0;34m)\u001b[0m\u001b[0;34m\u001b[0m\u001b[0m\n\u001b[0m\u001b[1;32m    294\u001b[0m                 \u001b[0;31m# Case of a Variable\u001b[0m\u001b[0;34m\u001b[0m\u001b[0;34m\u001b[0m\u001b[0m\n\u001b[1;32m    295\u001b[0m                 \u001b[0;32melif\u001b[0m \u001b[0mtype_code\u001b[0m \u001b[0;32min\u001b[0m \u001b[0mtorch\u001b[0m\u001b[0;34m.\u001b[0m\u001b[0mvar_codes\u001b[0m\u001b[0;34m:\u001b[0m\u001b[0;34m\u001b[0m\u001b[0m\n",
      "\u001b[0;32m~/Documents/Code/PySyft/syft/core/frameworks/torch/tensor.py\u001b[0m in \u001b[0;36mdeser\u001b[0;34m(obj_type, msg_obj, worker, acquire)\u001b[0m\n\u001b[1;32m   2194\u001b[0m     \u001b[0;32mdef\u001b[0m \u001b[0mdeser\u001b[0m\u001b[0;34m(\u001b[0m\u001b[0mobj_type\u001b[0m\u001b[0;34m,\u001b[0m \u001b[0mmsg_obj\u001b[0m\u001b[0;34m,\u001b[0m \u001b[0mworker\u001b[0m\u001b[0;34m,\u001b[0m \u001b[0macquire\u001b[0m\u001b[0;34m)\u001b[0m\u001b[0;34m:\u001b[0m\u001b[0;34m\u001b[0m\u001b[0m\n\u001b[1;32m   2195\u001b[0m         \u001b[0mchild_type\u001b[0m\u001b[0;34m,\u001b[0m \u001b[0mchild_obj\u001b[0m \u001b[0;34m=\u001b[0m \u001b[0mtorch_utils\u001b[0m\u001b[0;34m.\u001b[0m\u001b[0mextract_type_and_obj\u001b[0m\u001b[0;34m(\u001b[0m\u001b[0mmsg_obj\u001b[0m\u001b[0;34m[\u001b[0m\u001b[0;34m'child'\u001b[0m\u001b[0;34m]\u001b[0m\u001b[0;34m)\u001b[0m\u001b[0;34m\u001b[0m\u001b[0m\n\u001b[0;32m-> 2196\u001b[0;31m         \u001b[0msyft_obj\u001b[0m \u001b[0;34m=\u001b[0m \u001b[0msy\u001b[0m\u001b[0;34m.\u001b[0m\u001b[0m_SyftTensor\u001b[0m\u001b[0;34m.\u001b[0m\u001b[0mdeser_routing\u001b[0m\u001b[0;34m(\u001b[0m\u001b[0mchild_type\u001b[0m\u001b[0;34m,\u001b[0m \u001b[0mchild_obj\u001b[0m\u001b[0;34m,\u001b[0m \u001b[0mworker\u001b[0m\u001b[0;34m,\u001b[0m \u001b[0macquire\u001b[0m\u001b[0;34m)\u001b[0m\u001b[0;34m\u001b[0m\u001b[0m\n\u001b[0m\u001b[1;32m   2197\u001b[0m \u001b[0;34m\u001b[0m\u001b[0m\n\u001b[1;32m   2198\u001b[0m         \u001b[0;31m# If we have retrieved an already existing object (TODO: add checks) then return it\u001b[0m\u001b[0;34m\u001b[0m\u001b[0;34m\u001b[0m\u001b[0m\n",
      "\u001b[0;32m~/Documents/Code/PySyft/syft/core/frameworks/torch/tensor.py\u001b[0m in \u001b[0;36mdeser_routing\u001b[0;34m(cls, obj_type, obj, worker, acquire)\u001b[0m\n\u001b[1;32m    235\u001b[0m             \u001b[0;32mreturn\u001b[0m \u001b[0msy\u001b[0m\u001b[0;34m.\u001b[0m\u001b[0m_LocalTensor\u001b[0m\u001b[0;34m.\u001b[0m\u001b[0mdeser\u001b[0m\u001b[0;34m(\u001b[0m\u001b[0mobj\u001b[0m\u001b[0;34m,\u001b[0m \u001b[0mworker\u001b[0m\u001b[0;34m,\u001b[0m \u001b[0macquire\u001b[0m\u001b[0;34m)\u001b[0m\u001b[0;34m\u001b[0m\u001b[0m\n\u001b[1;32m    236\u001b[0m         \u001b[0;32melif\u001b[0m \u001b[0msyft_code\u001b[0m \u001b[0;34m==\u001b[0m \u001b[0mtorch\u001b[0m\u001b[0;34m.\u001b[0m\u001b[0mtype_codes\u001b[0m\u001b[0;34m.\u001b[0m\u001b[0m_PointerTensor\u001b[0m\u001b[0;34m:\u001b[0m\u001b[0;34m\u001b[0m\u001b[0m\n\u001b[0;32m--> 237\u001b[0;31m             \u001b[0;32mreturn\u001b[0m \u001b[0msy\u001b[0m\u001b[0;34m.\u001b[0m\u001b[0m_PointerTensor\u001b[0m\u001b[0;34m.\u001b[0m\u001b[0mdeser\u001b[0m\u001b[0;34m(\u001b[0m\u001b[0mobj\u001b[0m\u001b[0;34m,\u001b[0m \u001b[0mworker\u001b[0m\u001b[0;34m,\u001b[0m \u001b[0macquire\u001b[0m\u001b[0;34m)\u001b[0m\u001b[0;34m\u001b[0m\u001b[0m\n\u001b[0m\u001b[1;32m    238\u001b[0m         \u001b[0;32melse\u001b[0m\u001b[0;34m:\u001b[0m\u001b[0;34m\u001b[0m\u001b[0m\n\u001b[1;32m    239\u001b[0m             \u001b[0msyft_type\u001b[0m \u001b[0;34m=\u001b[0m \u001b[0mtorch\u001b[0m\u001b[0;34m.\u001b[0m\u001b[0mguard\u001b[0m\u001b[0;34m[\u001b[0m\u001b[0mobj_type\u001b[0m\u001b[0;34m]\u001b[0m\u001b[0;34m\u001b[0m\u001b[0m\n",
      "\u001b[0;32m~/Documents/Code/PySyft/syft/core/frameworks/torch/tensor.py\u001b[0m in \u001b[0;36mdeser\u001b[0;34m(cls, msg_obj, worker, acquire)\u001b[0m\n\u001b[1;32m    937\u001b[0m         \u001b[0;31m# If local, we render the object or syft object\u001b[0m\u001b[0;34m\u001b[0m\u001b[0;34m\u001b[0m\u001b[0m\n\u001b[1;32m    938\u001b[0m         \u001b[0;32mif\u001b[0m \u001b[0mmsg_obj\u001b[0m\u001b[0;34m[\u001b[0m\u001b[0;34m'location'\u001b[0m\u001b[0;34m]\u001b[0m \u001b[0;34m==\u001b[0m \u001b[0mworker\u001b[0m\u001b[0;34m.\u001b[0m\u001b[0mid\u001b[0m\u001b[0;34m:\u001b[0m\u001b[0;34m\u001b[0m\u001b[0m\n\u001b[0;32m--> 939\u001b[0;31m             \u001b[0msyft_obj\u001b[0m \u001b[0;34m=\u001b[0m \u001b[0mworker\u001b[0m\u001b[0;34m.\u001b[0m\u001b[0mget_obj\u001b[0m\u001b[0;34m(\u001b[0m\u001b[0mmsg_obj\u001b[0m\u001b[0;34m[\u001b[0m\u001b[0;34m'id_at_location'\u001b[0m\u001b[0;34m]\u001b[0m\u001b[0;34m)\u001b[0m\u001b[0;34m\u001b[0m\u001b[0m\n\u001b[0m\u001b[1;32m    940\u001b[0m         \u001b[0;32melse\u001b[0m\u001b[0;34m:\u001b[0m\u001b[0;34m\u001b[0m\u001b[0m\n\u001b[1;32m    941\u001b[0m             \u001b[0;32mif\u001b[0m \u001b[0macquire\u001b[0m\u001b[0;34m:\u001b[0m  \u001b[0;31m# If there is data transmission, data being here Pointer\u001b[0m\u001b[0;34m\u001b[0m\u001b[0m\n",
      "\u001b[0;32m~/Documents/Code/PySyft/syft/core/workers/base.py\u001b[0m in \u001b[0;36mget_obj\u001b[0;34m(self, remote_key)\u001b[0m\n\u001b[1;32m    613\u001b[0m         \"\"\"\n\u001b[1;32m    614\u001b[0m \u001b[0;34m\u001b[0m\u001b[0m\n\u001b[0;32m--> 615\u001b[0;31m         \u001b[0mobj\u001b[0m \u001b[0;34m=\u001b[0m \u001b[0mself\u001b[0m\u001b[0;34m.\u001b[0m\u001b[0m_objects\u001b[0m\u001b[0;34m[\u001b[0m\u001b[0mremote_key\u001b[0m\u001b[0;34m]\u001b[0m\u001b[0;34m\u001b[0m\u001b[0m\n\u001b[0m\u001b[1;32m    616\u001b[0m         \u001b[0;31m# Fix ownership if the obj has been modified out of control (like with backward())\u001b[0m\u001b[0;34m\u001b[0m\u001b[0;34m\u001b[0m\u001b[0m\n\u001b[1;32m    617\u001b[0m         \u001b[0mtorch_utils\u001b[0m\u001b[0;34m.\u001b[0m\u001b[0menforce_owner\u001b[0m\u001b[0;34m(\u001b[0m\u001b[0mobj\u001b[0m\u001b[0;34m,\u001b[0m \u001b[0mself\u001b[0m\u001b[0;34m)\u001b[0m\u001b[0;34m\u001b[0m\u001b[0m\n",
      "\u001b[0;31mKeyError\u001b[0m: 59336079646"
     ]
    }
   ],
   "source": [
    "local_worker.listen()"
   ]
  },
  {
   "cell_type": "code",
   "execution_count": null,
   "metadata": {},
   "outputs": [],
   "source": []
  },
  {
   "cell_type": "code",
   "execution_count": null,
   "metadata": {},
   "outputs": [],
   "source": []
  },
  {
   "cell_type": "code",
   "execution_count": null,
   "metadata": {},
   "outputs": [],
   "source": []
  },
  {
   "cell_type": "code",
   "execution_count": null,
   "metadata": {},
   "outputs": [],
   "source": []
  }
 ],
 "metadata": {
  "kernelspec": {
   "display_name": "Python 3",
   "language": "python",
   "name": "python3"
  },
  "language_info": {
   "codemirror_mode": {
    "name": "ipython",
    "version": 3
   },
   "file_extension": ".py",
   "mimetype": "text/x-python",
   "name": "python",
   "nbconvert_exporter": "python",
   "pygments_lexer": "ipython3",
   "version": "3.6.4"
  }
 },
 "nbformat": 4,
 "nbformat_minor": 2
}

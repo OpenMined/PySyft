{
 "cells": [
  {
   "cell_type": "markdown",
   "metadata": {},
   "source": [
    "# Training the Boston Housing Dataset using PySyft and SocketWorker\n",
    "\n",
    "This tutorial is a 3 notebook tutorial. The partners notebooks are the notebooks entitled `SocketWorker Boston Housing Client.ipynb` and `SocketWorker Server Bob.ipynb`. They are in the same folder as this notebook. You should execute this notebook **BEFORE** `SocketWorker Boston Housing Client.ipynb`.\n"
   ]
  },
  {
   "cell_type": "markdown",
   "metadata": {},
   "source": [
    "# Step 1: Hook PyTorch\n",
    "\n",
    "Just like previous tutorials, the first step is to override PyTorch commands using the TorchHook object."
   ]
  },
  {
   "cell_type": "code",
   "execution_count": 1,
   "metadata": {},
   "outputs": [],
   "source": [
    "import syft as sy\n",
    "\n",
    "hook = sy.TorchHook(verbose=False)\n",
    "me = hook.local_worker\n",
    "me.is_client_worker = False"
   ]
  },
  {
   "cell_type": "markdown",
   "metadata": {},
   "source": [
    "# Step 2: Launch Server\n",
    "\n",
    "The next step is to launch the server. We set is_pointer=False to tell the worker that this worker object is not merely a connection to a foreign worker but is in fact responsible for computation itself. We set is_client_worker=False to tell the worker to store tensors locally (as opposed to letting a client manage tensor lifecycles)."
   ]
  },
  {
   "cell_type": "code",
   "execution_count": 2,
   "metadata": {},
   "outputs": [
    {
     "name": "stdout",
     "output_type": "stream",
     "text": [
      "Starting Socket Worker...\n",
      "Ready to receive commands...\n"
     ]
    }
   ],
   "source": [
    "local_worker = sy.SocketWorker(hook=hook,\n",
    "                            id='alice',\n",
    "                            port=2006,\n",
    "                            is_client_worker=False)"
   ]
  },
  {
   "cell_type": "code",
   "execution_count": null,
   "metadata": {},
   "outputs": [
    {
     "name": "stderr",
     "output_type": "stream",
     "text": [
      "WARNING:root:Registering a pointer on non-owned syftTensor.\n",
      "WARNING:root:Registering a pointer on non-owned syftTensor.\n",
      "WARNING:root:Registering a pointer on non-owned syftTensor.\n",
      "WARNING:root:Registering a pointer on non-owned syftTensor.\n",
      "WARNING:root:Registering a pointer on non-owned syftTensor.\n",
      "WARNING:root:Registering a pointer on non-owned syftTensor.\n",
      "WARNING:root:Registering a pointer on non-owned syftTensor.\n",
      "WARNING:root:Registering a pointer on non-owned syftTensor.\n",
      "WARNING:root:Registering a pointer on non-owned syftTensor.\n",
      "WARNING:root:Registering a pointer on non-owned syftTensor.\n",
      "WARNING:root:Registering a pointer on non-owned syftTensor.\n",
      "WARNING:root:Registering a pointer on non-owned syftTensor.\n",
      "WARNING:root:Registering a pointer on non-owned syftTensor.\n",
      "WARNING:root:Registering a pointer on non-owned syftTensor.\n",
      "WARNING:root:Registering a pointer on non-owned syftTensor.\n",
      "WARNING:root:Registering a pointer on non-owned syftTensor.\n",
      "WARNING:root:Registering a pointer on non-owned syftTensor.\n",
      "WARNING:root:Registering a pointer on non-owned syftTensor.\n",
      "WARNING:root:Registering a pointer on non-owned syftTensor.\n",
      "WARNING:root:Registering a pointer on non-owned syftTensor.\n"
     ]
    },
    {
     "name": "stdout",
     "output_type": "stream",
     "text": [
      "Received Command From: ('127.0.0.1', 51870)\n",
      "Received Command From: ('127.0.0.1', 51870)\n",
      "Received Command From: ('127.0.0.1', 51870)\n",
      "Received Command From: ('127.0.0.1', 51870)\n",
      "Received Command From: ('127.0.0.1', 51870)\n"
     ]
    },
    {
     "name": "stderr",
     "output_type": "stream",
     "text": [
      "WARNING:root:Registering a pointer on non-owned syftTensor.\n",
      "WARNING:root:Registering a pointer on non-owned syftTensor.\n",
      "WARNING:root:Registering a pointer on non-owned syftTensor.\n",
      "WARNING:root:Registering a pointer on non-owned syftTensor.\n",
      "WARNING:root:Registering a pointer on non-owned syftTensor.\n",
      "WARNING:root:Registering a pointer on non-owned syftTensor.\n",
      "WARNING:root:Registering a pointer on non-owned syftTensor.\n",
      "WARNING:root:Registering a pointer on non-owned syftTensor.\n",
      "WARNING:root:Registering a pointer on non-owned syftTensor.\n",
      "WARNING:root:Registering a pointer on non-owned syftTensor.\n",
      "WARNING:root:Registering a pointer on non-owned syftTensor.\n",
      "WARNING:root:Registering a pointer on non-owned syftTensor.\n",
      "WARNING:root:Registering a pointer on non-owned syftTensor.\n",
      "WARNING:root:Registering a pointer on non-owned syftTensor.\n",
      "WARNING:root:Registering a pointer on non-owned syftTensor.\n",
      "WARNING:root:Registering a pointer on non-owned syftTensor.\n",
      "WARNING:root:Registering a pointer on non-owned syftTensor.\n",
      "WARNING:root:Registering a pointer on non-owned syftTensor.\n",
      "WARNING:root:Registering a pointer on non-owned syftTensor.\n",
      "WARNING:root:Registering a pointer on non-owned syftTensor.\n"
     ]
    },
    {
     "name": "stdout",
     "output_type": "stream",
     "text": [
      "Received Command From: ('127.0.0.1', 51870)\n",
      "Received Command From: ('127.0.0.1', 51870)\n",
      "Received Command From: ('127.0.0.1', 51870)\n",
      "Received Command From: ('127.0.0.1', 51870)\n",
      "Received Command From: ('127.0.0.1', 51870)\n"
     ]
    },
    {
     "name": "stderr",
     "output_type": "stream",
     "text": [
      "WARNING:root:Registering a pointer on non-owned syftTensor.\n",
      "WARNING:root:Registering a pointer on non-owned syftTensor.\n",
      "WARNING:root:Registering a pointer on non-owned syftTensor.\n",
      "WARNING:root:Registering a pointer on non-owned syftTensor.\n",
      "WARNING:root:Registering a pointer on non-owned syftTensor.\n",
      "WARNING:root:Registering a pointer on non-owned syftTensor.\n",
      "WARNING:root:Registering a pointer on non-owned syftTensor.\n",
      "WARNING:root:Registering a pointer on non-owned syftTensor.\n",
      "WARNING:root:Registering a pointer on non-owned syftTensor.\n",
      "WARNING:root:Registering a pointer on non-owned syftTensor.\n",
      "WARNING:root:Registering a pointer on non-owned syftTensor.\n",
      "WARNING:root:Registering a pointer on non-owned syftTensor.\n",
      "WARNING:root:Registering a pointer on non-owned syftTensor.\n",
      "WARNING:root:Registering a pointer on non-owned syftTensor.\n",
      "WARNING:root:Registering a pointer on non-owned syftTensor.\n",
      "WARNING:root:Registering a pointer on non-owned syftTensor.\n",
      "WARNING:root:Registering a pointer on non-owned syftTensor.\n",
      "WARNING:root:Registering a pointer on non-owned syftTensor.\n",
      "WARNING:root:Registering a pointer on non-owned syftTensor.\n",
      "WARNING:root:Registering a pointer on non-owned syftTensor.\n",
      "WARNING:root:Registering a pointer on non-owned syftTensor.\n",
      "WARNING:root:Registering a pointer on non-owned syftTensor.\n",
      "WARNING:root:Registering a pointer on non-owned syftTensor.\n"
     ]
    },
    {
     "name": "stdout",
     "output_type": "stream",
     "text": [
      "Received Command From: ('127.0.0.1', 51870)\n",
      "Received Command From: ('127.0.0.1', 51870)\n",
      "Received Command From: ('127.0.0.1', 51870)\n",
      "Received Command From: ('127.0.0.1', 51870)\n",
      "Received Command From: ('127.0.0.1', 51870)\n"
     ]
    },
    {
     "name": "stderr",
     "output_type": "stream",
     "text": [
      "WARNING:root:Registering a pointer on non-owned syftTensor.\n",
      "WARNING:root:Registering a pointer on non-owned syftTensor.\n",
      "WARNING:root:Registering a pointer on non-owned syftTensor.\n",
      "WARNING:root:Registering a pointer on non-owned syftTensor.\n",
      "WARNING:root:Registering a pointer on non-owned syftTensor.\n",
      "WARNING:root:Registering a pointer on non-owned syftTensor.\n",
      "WARNING:root:Registering a pointer on non-owned syftTensor.\n",
      "WARNING:root:Registering a pointer on non-owned syftTensor.\n",
      "WARNING:root:Registering a pointer on non-owned syftTensor.\n",
      "WARNING:root:Registering a pointer on non-owned syftTensor.\n",
      "WARNING:root:Registering a pointer on non-owned syftTensor.\n",
      "WARNING:root:Registering a pointer on non-owned syftTensor.\n",
      "WARNING:root:Registering a pointer on non-owned syftTensor.\n",
      "WARNING:root:Registering a pointer on non-owned syftTensor.\n",
      "WARNING:root:Registering a pointer on non-owned syftTensor.\n",
      "WARNING:root:Registering a pointer on non-owned syftTensor.\n",
      "WARNING:root:Registering a pointer on non-owned syftTensor.\n"
     ]
    },
    {
     "name": "stdout",
     "output_type": "stream",
     "text": [
      "Received Command From: ('127.0.0.1', 51870)\n",
      "Received Command From: ('127.0.0.1', 51870)\n",
      "Received Command From: ('127.0.0.1', 51870)\n",
      "Received Command From: ('127.0.0.1', 51870)\n",
      "Received Command From: ('127.0.0.1', 51870)\n"
     ]
    },
    {
     "name": "stderr",
     "output_type": "stream",
     "text": [
      "WARNING:root:Registering a pointer on non-owned syftTensor.\n",
      "WARNING:root:Registering a pointer on non-owned syftTensor.\n",
      "WARNING:root:Registering a pointer on non-owned syftTensor.\n",
      "WARNING:root:Registering a pointer on non-owned syftTensor.\n",
      "WARNING:root:Registering a pointer on non-owned syftTensor.\n",
      "WARNING:root:Registering a pointer on non-owned syftTensor.\n",
      "WARNING:root:Registering a pointer on non-owned syftTensor.\n",
      "WARNING:root:Registering a pointer on non-owned syftTensor.\n",
      "WARNING:root:Registering a pointer on non-owned syftTensor.\n",
      "WARNING:root:Registering a pointer on non-owned syftTensor.\n",
      "WARNING:root:Registering a pointer on non-owned syftTensor.\n",
      "WARNING:root:Registering a pointer on non-owned syftTensor.\n",
      "WARNING:root:Registering a pointer on non-owned syftTensor.\n",
      "WARNING:root:Registering a pointer on non-owned syftTensor.\n",
      "WARNING:root:Registering a pointer on non-owned syftTensor.\n",
      "WARNING:root:Registering a pointer on non-owned syftTensor.\n",
      "WARNING:root:Registering a pointer on non-owned syftTensor.\n",
      "WARNING:root:Registering a pointer on non-owned syftTensor.\n",
      "WARNING:root:Registering a pointer on non-owned syftTensor.\n",
      "WARNING:root:Registering a pointer on non-owned syftTensor.\n",
      "WARNING:root:Registering a pointer on non-owned syftTensor.\n",
      "WARNING:root:Registering a pointer on non-owned syftTensor.\n",
      "WARNING:root:Registering a pointer on non-owned syftTensor.\n",
      "WARNING:root:Registering a pointer on non-owned syftTensor.\n",
      "WARNING:root:Registering a pointer on non-owned syftTensor.\n",
      "WARNING:root:Registering a pointer on non-owned syftTensor.\n",
      "WARNING:root:Registering a pointer on non-owned syftTensor.\n",
      "WARNING:root:Registering a pointer on non-owned syftTensor.\n",
      "WARNING:root:Registering a pointer on non-owned syftTensor.\n",
      "WARNING:root:Registering a pointer on non-owned syftTensor.\n",
      "WARNING:root:Registering a pointer on non-owned syftTensor.\n",
      "WARNING:root:Registering a pointer on non-owned syftTensor.\n",
      "WARNING:root:Registering a pointer on non-owned syftTensor.\n",
      "WARNING:root:Registering a pointer on non-owned syftTensor.\n",
      "WARNING:root:Registering a pointer on non-owned syftTensor.\n",
      "WARNING:root:Registering a pointer on non-owned syftTensor.\n"
     ]
    },
    {
     "name": "stdout",
     "output_type": "stream",
     "text": [
      "Received Command From: ('127.0.0.1', 51870)\n",
      "Received Command From: ('127.0.0.1', 51870)\n",
      "Received Command From: ('127.0.0.1', 51870)\n",
      "Received Command From: ('127.0.0.1', 51870)\n",
      "Received Command From: ('127.0.0.1', 51870)\n",
      "Received Command From: ('127.0.0.1', 51870)\n",
      "Received Command From: ('127.0.0.1', 51870)\n",
      "Received Command From: ('127.0.0.1', 51870)\n"
     ]
    },
    {
     "name": "stderr",
     "output_type": "stream",
     "text": [
      "WARNING:root:Registering a pointer on non-owned syftTensor.\n",
      "WARNING:root:Registering a pointer on non-owned syftTensor.\n",
      "WARNING:root:Registering a pointer on non-owned syftTensor.\n",
      "WARNING:root:Registering a pointer on non-owned syftTensor.\n",
      "WARNING:root:Registering a pointer on non-owned syftTensor.\n",
      "WARNING:root:Registering a pointer on non-owned syftTensor.\n",
      "WARNING:root:Registering a pointer on non-owned syftTensor.\n",
      "WARNING:root:Registering a pointer on non-owned syftTensor.\n",
      "WARNING:root:Registering a pointer on non-owned syftTensor.\n",
      "WARNING:root:Registering a pointer on non-owned syftTensor.\n",
      "WARNING:root:Registering a pointer on non-owned syftTensor.\n",
      "WARNING:root:Registering a pointer on non-owned syftTensor.\n",
      "WARNING:root:Registering a pointer on non-owned syftTensor.\n",
      "WARNING:root:Registering a pointer on non-owned syftTensor.\n",
      "WARNING:root:Registering a pointer on non-owned syftTensor.\n",
      "WARNING:root:Registering a pointer on non-owned syftTensor.\n",
      "WARNING:root:Registering a pointer on non-owned syftTensor.\n",
      "WARNING:root:Registering a pointer on non-owned syftTensor.\n",
      "WARNING:root:Registering a pointer on non-owned syftTensor.\n",
      "WARNING:root:Registering a pointer on non-owned syftTensor.\n",
      "WARNING:root:Registering a pointer on non-owned syftTensor.\n",
      "WARNING:root:Registering a pointer on non-owned syftTensor.\n",
      "WARNING:root:Registering a pointer on non-owned syftTensor.\n",
      "WARNING:root:Registering a pointer on non-owned syftTensor.\n",
      "WARNING:root:Registering a pointer on non-owned syftTensor.\n",
      "WARNING:root:Registering a pointer on non-owned syftTensor.\n",
      "WARNING:root:Registering a pointer on non-owned syftTensor.\n",
      "WARNING:root:Registering a pointer on non-owned syftTensor.\n"
     ]
    },
    {
     "name": "stdout",
     "output_type": "stream",
     "text": [
      "Received Command From: ('127.0.0.1', 51870)\n",
      "Received Command From: ('127.0.0.1', 51870)\n",
      "Received Command From: ('127.0.0.1', 51870)\n",
      "Received Command From: ('127.0.0.1', 51870)\n",
      "Received Command From: ('127.0.0.1', 51870)\n",
      "Received Command From: ('127.0.0.1', 51870)\n",
      "Received Command From: ('127.0.0.1', 51870)\n",
      "Received Command From: ('127.0.0.1', 51870)\n"
     ]
    },
    {
     "name": "stderr",
     "output_type": "stream",
     "text": [
      "WARNING:root:Registering a pointer on non-owned syftTensor.\n",
      "WARNING:root:Registering a pointer on non-owned syftTensor.\n",
      "WARNING:root:Registering a pointer on non-owned syftTensor.\n",
      "WARNING:root:Registering a pointer on non-owned syftTensor.\n",
      "WARNING:root:Registering a pointer on non-owned syftTensor.\n",
      "WARNING:root:Registering a pointer on non-owned syftTensor.\n",
      "WARNING:root:Registering a pointer on non-owned syftTensor.\n",
      "WARNING:root:Registering a pointer on non-owned syftTensor.\n",
      "WARNING:root:Registering a pointer on non-owned syftTensor.\n",
      "WARNING:root:Registering a pointer on non-owned syftTensor.\n",
      "WARNING:root:Registering a pointer on non-owned syftTensor.\n",
      "WARNING:root:Registering a pointer on non-owned syftTensor.\n",
      "WARNING:root:Registering a pointer on non-owned syftTensor.\n",
      "WARNING:root:Registering a pointer on non-owned syftTensor.\n",
      "WARNING:root:Registering a pointer on non-owned syftTensor.\n",
      "WARNING:root:Registering a pointer on non-owned syftTensor.\n",
      "WARNING:root:Registering a pointer on non-owned syftTensor.\n",
      "WARNING:root:Registering a pointer on non-owned syftTensor.\n",
      "WARNING:root:Registering a pointer on non-owned syftTensor.\n",
      "WARNING:root:Registering a pointer on non-owned syftTensor.\n",
      "WARNING:root:Registering a pointer on non-owned syftTensor.\n",
      "WARNING:root:Registering a pointer on non-owned syftTensor.\n",
      "WARNING:root:Registering a pointer on non-owned syftTensor.\n",
      "WARNING:root:Registering a pointer on non-owned syftTensor.\n",
      "WARNING:root:Registering a pointer on non-owned syftTensor.\n",
      "WARNING:root:Registering a pointer on non-owned syftTensor.\n",
      "WARNING:root:Registering a pointer on non-owned syftTensor.\n",
      "WARNING:root:Registering a pointer on non-owned syftTensor.\n",
      "WARNING:root:Registering a pointer on non-owned syftTensor.\n",
      "WARNING:root:Registering a pointer on non-owned syftTensor.\n",
      "WARNING:root:Registering a pointer on non-owned syftTensor.\n",
      "WARNING:root:Registering a pointer on non-owned syftTensor.\n"
     ]
    },
    {
     "name": "stdout",
     "output_type": "stream",
     "text": [
      "Received Command From: ('127.0.0.1', 51870)\n",
      "Received Command From: ('127.0.0.1', 51870)\n",
      "Received Command From: ('127.0.0.1', 51870)\n",
      "Received Command From: ('127.0.0.1', 51870)\n",
      "Received Command From: ('127.0.0.1', 51870)\n",
      "Received Command From: ('127.0.0.1', 51870)\n",
      "Received Command From: ('127.0.0.1', 51870)\n",
      "Received Command From: ('127.0.0.1', 51870)\n"
     ]
    },
    {
     "name": "stderr",
     "output_type": "stream",
     "text": [
      "WARNING:root:Registering a pointer on non-owned syftTensor.\n",
      "WARNING:root:Registering a pointer on non-owned syftTensor.\n",
      "WARNING:root:Registering a pointer on non-owned syftTensor.\n",
      "WARNING:root:Registering a pointer on non-owned syftTensor.\n",
      "WARNING:root:Registering a pointer on non-owned syftTensor.\n",
      "WARNING:root:Registering a pointer on non-owned syftTensor.\n",
      "WARNING:root:Registering a pointer on non-owned syftTensor.\n",
      "WARNING:root:Registering a pointer on non-owned syftTensor.\n",
      "WARNING:root:Registering a pointer on non-owned syftTensor.\n",
      "WARNING:root:Registering a pointer on non-owned syftTensor.\n",
      "WARNING:root:Registering a pointer on non-owned syftTensor.\n",
      "WARNING:root:Registering a pointer on non-owned syftTensor.\n",
      "WARNING:root:Registering a pointer on non-owned syftTensor.\n",
      "WARNING:root:Registering a pointer on non-owned syftTensor.\n",
      "WARNING:root:Registering a pointer on non-owned syftTensor.\n",
      "WARNING:root:Registering a pointer on non-owned syftTensor.\n",
      "WARNING:root:Registering a pointer on non-owned syftTensor.\n",
      "WARNING:root:Registering a pointer on non-owned syftTensor.\n",
      "WARNING:root:Registering a pointer on non-owned syftTensor.\n",
      "WARNING:root:Registering a pointer on non-owned syftTensor.\n",
      "WARNING:root:Registering a pointer on non-owned syftTensor.\n",
      "WARNING:root:Registering a pointer on non-owned syftTensor.\n",
      "WARNING:root:Registering a pointer on non-owned syftTensor.\n",
      "WARNING:root:Registering a pointer on non-owned syftTensor.\n"
     ]
    },
    {
     "name": "stdout",
     "output_type": "stream",
     "text": [
      "Received Command From: ('127.0.0.1', 51870)\n",
      "Received Command From: ('127.0.0.1', 51870)\n",
      "Received Command From: ('127.0.0.1', 51870)\n",
      "Received Command From: ('127.0.0.1', 51870)\n",
      "Received Command From: ('127.0.0.1', 51870)\n",
      "Received Command From: ('127.0.0.1', 51870)\n"
     ]
    }
   ],
   "source": [
    "local_worker.listen()"
   ]
  },
  {
   "cell_type": "code",
   "execution_count": null,
   "metadata": {},
   "outputs": [],
   "source": []
  },
  {
   "cell_type": "code",
   "execution_count": null,
   "metadata": {},
   "outputs": [],
   "source": []
  },
  {
   "cell_type": "code",
   "execution_count": null,
   "metadata": {},
   "outputs": [],
   "source": []
  },
  {
   "cell_type": "code",
   "execution_count": null,
   "metadata": {},
   "outputs": [],
   "source": []
  }
 ],
 "metadata": {
  "kernelspec": {
   "display_name": "Python 3",
   "language": "python",
   "name": "python3"
  },
  "language_info": {
   "codemirror_mode": {
    "name": "ipython",
    "version": 3
   },
   "file_extension": ".py",
   "mimetype": "text/x-python",
   "name": "python",
   "nbconvert_exporter": "python",
   "pygments_lexer": "ipython3",
   "version": "3.6.4"
  }
 },
 "nbformat": 4,
 "nbformat_minor": 2
}

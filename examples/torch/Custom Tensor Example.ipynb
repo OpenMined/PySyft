{
 "cells": [
  {
   "cell_type": "markdown",
   "metadata": {},
   "source": [
    "# Custom Tensor Example\n",
    "\n",
    "In this example, we see how to create a custom tensor type called PlusIsMinusTensor, which chnages the addition operation and makes it actually do subtraction. Note that any function not directly addressed in the PlusIsMinusTensor class simply falls back to the default behavior in the Torch type"
   ]
  },
  {
   "cell_type": "code",
   "execution_count": 1,
   "metadata": {},
   "outputs": [],
   "source": [
    "import syft as sy\n",
    "from syft.core.frameworks.torch import utils\n",
    "\n",
    "hook = sy.TorchHook(verbose=True)\n",
    "\n",
    "me = hook.local_worker\n",
    "me.is_client_worker = False\n",
    "\n",
    "bob = sy.VirtualWorker(id=\"bob\", hook=hook, is_client_worker=False)\n",
    "alice = sy.VirtualWorker(id=\"alice\", hook=hook, is_client_worker=False)\n",
    "james = sy.VirtualWorker(id=\"james\", hook=hook, is_client_worker=False)\n",
    "\n",
    "me.add_workers([bob, alice, james])\n",
    "bob.add_workers([me, alice, james])\n",
    "alice.add_workers([me, bob, james])\n",
    "james.add_workers([me, bob, alice])"
   ]
  },
  {
   "cell_type": "code",
   "execution_count": 2,
   "metadata": {},
   "outputs": [],
   "source": [
    "x = sy.FloatTensor([5, 6])\n",
    "y = sy.FloatTensor([3, 4])"
   ]
  },
  {
   "cell_type": "code",
   "execution_count": 3,
   "metadata": {},
   "outputs": [
    {
     "name": "stdout",
     "output_type": "stream",
     "text": [
      "FloatTensor > _LocalTensor\n"
     ]
    }
   ],
   "source": [
    "utils.chain_print(x)"
   ]
  },
  {
   "cell_type": "code",
   "execution_count": 4,
   "metadata": {},
   "outputs": [],
   "source": [
    "class _PlusIsMinusTensor(sy._SyftTensor):\n",
    "    \"\"\"\n",
    "    Example of a custom overloaded _SyftTensor\n",
    "\n",
    "    Role:\n",
    "    Converts all add operations into sub/minus ones.\n",
    "    \"\"\"\n",
    "\n",
    "    def __init__(self, *args, **kwargs):\n",
    "        super().__init__(*args, **kwargs)\n",
    "\n",
    "    # The table of command you want to replace\n",
    "    substitution_table = {\n",
    "        'torch.add': 'torch.add'\n",
    "    }\n",
    "\n",
    "    class overload_functions:\n",
    "        \"\"\"\n",
    "        Put here the functions you want to overload\n",
    "        Beware of recursion errors.\n",
    "        \"\"\"\n",
    "        @staticmethod\n",
    "        def add(x, y):\n",
    "            return x.add(y)\n",
    "\n",
    "        @staticmethod\n",
    "        def get(attr):\n",
    "            attr = attr.split('.')[-1]\n",
    "            return getattr(sy._PlusIsMinusTensor.overload_functions, attr)\n",
    "\n",
    "    # Put here all the methods you want to overload\n",
    "    def add(self, arg):\n",
    "        \"\"\"\n",
    "        Overload the add method and execute another function or method with the provided args\n",
    "        \"\"\"\n",
    "        _response = self.sub(arg)\n",
    "\n",
    "        return _response\n",
    "\n",
    "    def abs(self):\n",
    "        \"\"\"\n",
    "        Overload the abs() method and execute another function\n",
    "        \"\"\"\n",
    "        return torch.abs(self)"
   ]
  },
  {
   "cell_type": "code",
   "execution_count": 5,
   "metadata": {},
   "outputs": [],
   "source": [
    "x = _PlusIsMinusTensor().on(x)\n",
    "y = _PlusIsMinusTensor().on(y)"
   ]
  },
  {
   "cell_type": "code",
   "execution_count": 6,
   "metadata": {},
   "outputs": [
    {
     "name": "stdout",
     "output_type": "stream",
     "text": [
      "FloatTensor > _PlusIsMinusTensor > _LocalTensor\n"
     ]
    }
   ],
   "source": [
    "utils.chain_print(x)"
   ]
  },
  {
   "cell_type": "code",
   "execution_count": 7,
   "metadata": {},
   "outputs": [
    {
     "data": {
      "text/plain": [
       "[Head of chain]\n",
       "\n",
       " 5\n",
       " 6\n",
       "[syft.core.frameworks.torch.tensor.FloatTensor of size 2]"
      ]
     },
     "execution_count": 7,
     "metadata": {},
     "output_type": "execute_result"
    }
   ],
   "source": [
    "x"
   ]
  },
  {
   "cell_type": "code",
   "execution_count": null,
   "metadata": {},
   "outputs": [],
   "source": []
  }
 ],
 "metadata": {
  "kernelspec": {
   "display_name": "Python 3",
   "language": "python",
   "name": "python3"
  },
  "language_info": {
   "codemirror_mode": {
    "name": "ipython",
    "version": 3
   },
   "file_extension": ".py",
   "mimetype": "text/x-python",
   "name": "python",
   "nbconvert_exporter": "python",
   "pygments_lexer": "ipython3",
   "version": "3.6.1"
  }
 },
 "nbformat": 4,
 "nbformat_minor": 2
}

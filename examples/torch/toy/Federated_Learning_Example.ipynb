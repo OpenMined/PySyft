{
 "cells": [
  {
   "cell_type": "markdown",
   "metadata": {},
   "source": [
    "# Basic Federated Learning Example\n",
    "\n",
    "In this notebook, we show how PySyft can be used to train a model using Federated Learning. We train a simple linear model using stochastic gradient descent across a toy dataset with two different owners, Alice and Bob.\n",
    "\n",
    "This notebook is also available on Colab: https://colab.research.google.com/drive/1F3ALlA3ogfeeVXuwQwVoX4PimzTDJhPy\n",
    "\n",
    "This notebook was created in the following video (at the end): https://www.twitch.tv/videos/275910219\n"
   ]
  },
  {
   "cell_type": "markdown",
   "metadata": {},
   "source": [
    "# Step 1: Hook PyTorch and Create Workers"
   ]
  },
  {
   "cell_type": "code",
   "execution_count": 1,
   "metadata": {},
   "outputs": [],
   "source": [
    "import syft as sy\n",
    "from syft import Variable as Var\n",
    "from syft import nn\n",
    "from syft import optim\n",
    "\n",
    "# this is our hook\n",
    "hook = sy.TorchHook()\n",
    "me = hook.local_worker\n",
    "\n",
    "bob = sy.VirtualWorker(id=\"bob\",hook=hook)\n",
    "alice = sy.VirtualWorker(id=\"alice\",hook=hook)\n",
    "\n",
    "me.add_worker(bob)\n",
    "me.add_worker(alice)"
   ]
  },
  {
   "cell_type": "markdown",
   "metadata": {},
   "source": [
    "# Step 2: Initialize Dataset and Move to Alice and Bob"
   ]
  },
  {
   "cell_type": "code",
   "execution_count": 2,
   "metadata": {},
   "outputs": [],
   "source": [
    "# create our dataset\n",
    "data = Var(sy.FloatTensor([[0,0],[0,1],[1,0],[1,1]]))\n",
    "target = Var(sy.FloatTensor([[0],[0],[1],[1]]))\n",
    "\n",
    "data_bob = data[0:2].send(bob)\n",
    "target_bob = target[0:2].send(bob)\n",
    "\n",
    "data_alice = data[2:].send(alice)\n",
    "target_alice = target[2:].send(alice)"
   ]
  },
  {
   "cell_type": "markdown",
   "metadata": {},
   "source": [
    "# Step 3: Create our Model"
   ]
  },
  {
   "cell_type": "code",
   "execution_count": 3,
   "metadata": {},
   "outputs": [],
   "source": [
    "# create our model\n",
    "model = nn.Linear(2,1)"
   ]
  },
  {
   "cell_type": "code",
   "execution_count": 4,
   "metadata": {},
   "outputs": [],
   "source": [
    "opt = optim.SGD(params=model.parameters(),lr=0.1)"
   ]
  },
  {
   "cell_type": "markdown",
   "metadata": {},
   "source": [
    "# Step 4: Train over Distributed Dataset\n",
    "\n",
    "(this is the Federated Learning part)"
   ]
  },
  {
   "cell_type": "code",
   "execution_count": 5,
   "metadata": {},
   "outputs": [],
   "source": [
    "datasets = [(data_bob,target_bob),(data_alice,target_alice)]"
   ]
  },
  {
   "cell_type": "code",
   "execution_count": 6,
   "metadata": {},
   "outputs": [
    {
     "name": "stdout",
     "output_type": "stream",
     "text": [
      "1.6867214441299438\n",
      "5.170070171356201\n",
      "0.3087354898452759\n",
      "0.24715974926948547\n",
      "0.2646021544933319\n",
      "0.09975367039442062\n",
      "0.16370245814323425\n",
      "0.057370081543922424\n",
      "0.09991589188575745\n",
      "0.03417927771806717\n",
      "0.06139484792947769\n",
      "0.02060863748192787\n",
      "0.03806630149483681\n",
      "0.012580597773194313\n",
      "0.023840248584747314\n",
      "0.007791425101459026\n",
      "0.015094665810465813\n",
      "0.004905462730675936\n",
      "0.009669410064816475\n",
      "0.0031449540983885527\n",
      "0.006270182318985462\n",
      "0.0020553572103381157\n",
      "0.004117220640182495\n",
      "0.0013697484973818064\n",
      "0.002737795002758503\n",
      "0.0009303892147727311\n",
      "0.0018432490760460496\n",
      "0.0006433306261897087\n",
      "0.0012559160823002458\n",
      "0.0004520445363596082\n",
      "0.0008654575794935226\n",
      "0.0003221090300939977\n",
      "0.0006026809569448233\n",
      "0.000232243663049303\n",
      "0.00042372927418909967\n",
      "0.0001690747303655371\n",
      "0.0003004876198247075\n",
      "0.00012404433800838888\n",
      "0.00021472539810929447\n",
      "9.15599666768685e-05\n"
     ]
    }
   ],
   "source": [
    "for iter in range(20):\n",
    "\n",
    "    for data,target in datasets:\n",
    "        model.send(data.location)\n",
    "\n",
    "        # update the model\n",
    "        opt.zero_grad()\n",
    "        pred = model(data)\n",
    "        loss = ((pred - target)**2).sum()\n",
    "        loss.backward()\n",
    "        model.get()\n",
    "        opt.step()\n",
    "\n",
    "        print(loss.get().data[0])"
   ]
  },
  {
   "cell_type": "code",
   "execution_count": null,
   "metadata": {},
   "outputs": [],
   "source": []
  }
 ],
 "metadata": {
  "kernelspec": {
   "display_name": "Python 3",
   "language": "python",
   "name": "python3"
  },
  "language_info": {
   "codemirror_mode": {
    "name": "ipython",
    "version": 3
   },
   "file_extension": ".py",
   "mimetype": "text/x-python",
   "name": "python",
   "nbconvert_exporter": "python",
   "pygments_lexer": "ipython3",
   "version": "3.6.1"
  }
 },
 "nbformat": 4,
 "nbformat_minor": 2
}

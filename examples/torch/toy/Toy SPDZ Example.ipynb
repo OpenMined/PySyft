{
 "cells": [
  {
   "cell_type": "code",
   "execution_count": 1,
   "metadata": {
    "collapsed": true
   },
   "outputs": [],
   "source": [
    "import random\n",
    "import syft as sy\n",
    "from syft.core import utils\n",
    "from syft.core.frameworks.torch import utils as torch_utils\n",
    "from syft.core.frameworks import encode\n",
    "\n",
    "from syft.core.frameworks.torch.tensor import _GeneralizedPointerTensor\n",
    "from syft.spdz import spdz\n",
    "from syft.core.frameworks.torch.tensor import _SPDZTensor\n",
    "import torch\n",
    "import torch.nn.functional as F\n",
    "from torch.autograd import Variable as Var\n",
    "import json\n",
    "\n",
    "hook = sy.TorchHook(verbose=True)\n",
    "\n",
    "me = hook.local_worker\n",
    "me.is_client_worker = False\n",
    "\n",
    "bob = sy.VirtualWorker(id=\"bob\", hook=hook, is_client_worker=False)\n",
    "alice = sy.VirtualWorker(id=\"alice\", hook=hook, is_client_worker=False)\n",
    "james = sy.VirtualWorker(id=\"james\", hook=hook, is_client_worker=False)"
   ]
  },
  {
   "cell_type": "code",
   "execution_count": 2,
   "metadata": {
    "collapsed": true
   },
   "outputs": [],
   "source": [
    "x = torch.LongTensor([[1,-2],[-3,-4]])\n",
    "x = x.share(bob, alice, james)\n",
    "\n",
    "y = torch.LongTensor([[5,6],[7,8]])\n",
    "y = y.share(bob, alice, james)\n",
    "\n",
    "x.mm(y).get()"
   ]
  },
  {
   "cell_type": "code",
   "execution_count": 4,
   "metadata": {},
   "outputs": [
    {
     "data": {
      "text/plain": [
       "\n",
       " -9 -10\n",
       "-43 -50\n",
       "[syft.core.frameworks.torch.tensor.LongTensor of size 2x2]"
      ]
     },
     "execution_count": 4,
     "metadata": {},
     "output_type": "execute_result"
    }
   ],
   "source": [
    "x.mm(y).get()"
   ]
  },
  {
   "cell_type": "code",
   "execution_count": 3,
   "metadata": {
    "collapsed": true
   },
   "outputs": [],
   "source": [
    "x = torch.LongTensor([[1, -2], [3, -4]])\n",
    "y = torch.LongTensor([[5, 6], [7, 8]])\n",
    "\n",
    "target = x.mm(y)\n",
    "\n",
    "x = x.share(bob, alice)\n",
    "y = y.share(bob, alice)\n",
    "\n",
    "result = x.mm(y)\n",
    "assert (result.get() - target).abs().sum() < 5"
   ]
  },
  {
   "cell_type": "code",
   "execution_count": 7,
   "metadata": {},
   "outputs": [
    {
     "data": {
      "text/plain": [
       "\n",
       "-1  2\n",
       " 3  4\n",
       "[syft.core.frameworks.torch.tensor.LongTensor of size 2x2]"
      ]
     },
     "execution_count": 7,
     "metadata": {},
     "output_type": "execute_result"
    }
   ],
   "source": [
    "x = torch.LongTensor([[1, -2], [-3, -4]])\n",
    "\n",
    "x = x.share(bob, alice)\n",
    "\n",
    "z = -x\n",
    "# assert (z.get() == torch.LongTensor([[-1, -2], [3, 4]])).all()\n",
    "\n",
    "z.get()"
   ]
  },
  {
   "cell_type": "code",
   "execution_count": null,
   "metadata": {
    "collapsed": true
   },
   "outputs": [],
   "source": []
  },
  {
   "cell_type": "code",
   "execution_count": null,
   "metadata": {
    "collapsed": true
   },
   "outputs": [],
   "source": []
  }
 ],
 "metadata": {
  "kernelspec": {
   "display_name": "Python 3",
   "language": "python",
   "name": "python3"
  },
  "language_info": {
   "codemirror_mode": {
    "name": "ipython",
    "version": 3
   },
   "file_extension": ".py",
   "mimetype": "text/x-python",
   "name": "python",
   "nbconvert_exporter": "python",
   "pygments_lexer": "ipython3",
   "version": "3.6.1"
  }
 },
 "nbformat": 4,
 "nbformat_minor": 2
}

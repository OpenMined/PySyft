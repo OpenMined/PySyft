{
 "cells": [
  {
   "cell_type": "markdown",
   "metadata": {},
   "source": [
    "# Socket Worker Server Tutorial\n",
    "\n",
    "This tutorial is a 2 notebook tutorial. The partner notebook is the notebook entitled SocketWorker Client.ipynb and is in the same folder as this notebook. You should execute this notebook BEFORE the other.\n",
    "\n",
    "In this tutorial, we'll demonstrate how to launch a SocketWorker server which will listen for PyTorch commands over a socket connection. This tutorial is a followup to the VirtualWorker tutorial (https://github.com/OpenMined/PySyft/blob/master/examples/Remote%20PyTorch%20using%20Virtual%20Worker.ipynb) where the only difference is that in this tutorial the two workers are connected via a socket connection on the localhost network.\n",
    "\n",
    "If you'd like to circumvent the need to install dependencies, this notebook is also available as as Colab notebook\n",
    "\n",
    "*Colab:* https://colab.research.google.com/drive/1-Jb_E_nDuBGHIJ_psI95k-ukh-P_aly-"
   ]
  },
  {
   "cell_type": "markdown",
   "metadata": {},
   "source": [
    "# Step 1: Hook PyTorch\n",
    "\n",
    "Just like previous tutorials, the first step is to override PyTorch commands using the TorchHook object."
   ]
  },
  {
   "cell_type": "code",
   "execution_count": 1,
   "metadata": {},
   "outputs": [],
   "source": [
    "import syft as sy\n",
    "\n",
    "hook = sy.TorchHook()"
   ]
  },
  {
   "cell_type": "markdown",
   "metadata": {},
   "source": [
    "# Step 2: Create Server Object\n",
    "\n",
    "The next step is to create the server. We set is_pointer=False to tell the worker that this worker object is not merely a connection to a foreign worker but is in fact responsible for computation itself. We set is_client_worker=False to tell the worker to store tensors locally (as opposed to letting a client manage tensor lifecycles)."
   ]
  },
  {
   "cell_type": "code",
   "execution_count": 2,
   "metadata": {},
   "outputs": [
    {
     "name": "stdout",
     "output_type": "stream",
     "text": [
      "Starting Socket Worker...\n",
      "Ready to receive commands...\n"
     ]
    }
   ],
   "source": [
    "hook.local_worker = sy.SocketWorker(hook=hook,\n",
    "                            id=2,\n",
    "                            port=1133,\n",
    "                            is_pointer=False,\n",
    "                            is_client_worker=False,\n",
    "                            verbose=True)\n",
    "sy.local_worker = hook.local_worker"
   ]
  },
  {
   "cell_type": "markdown",
   "metadata": {},
   "source": [
    "# Step 3: Create Some Tensors\n",
    "\n",
    "I this section, we can create a few named tensors which can be queried for by other machines. "
   ]
  },
  {
   "cell_type": "code",
   "execution_count": 3,
   "metadata": {},
   "outputs": [],
   "source": [
    "x = sy.Var(sy.FloatTensor([-2,-1,0,1,2,3])).set_id('#boston_housing #target #dataset')\n",
    "y = sy.Var(sy.FloatTensor([-2,-1,0,1,2,3])).set_id('#boston_housing #input #dataset')\n",
    "x = sy.Var(sy.FloatTensor([-2,-1,0,1,2,3])).set_id('#nashville_housing #target #dataset')\n",
    "y = sy.Var(sy.FloatTensor([-2,-1,0,1,2,3])).set_id('#nashville_housing #input #dataset')"
   ]
  },
  {
   "cell_type": "code",
   "execution_count": 6,
   "metadata": {},
   "outputs": [
    {
     "data": {
      "text/plain": [
       "{5608075288: [_LocalTensor - id:5608075288 owner:2],\n",
       " 9681855203: [_LocalTensor - id:#boston_housing #target #dataset owner:2],\n",
       " '#boston_housing #target #dataset': [_LocalTensor - id:#boston_housing #target #dataset owner:2],\n",
       " 5716092176: [_LocalTensor - id:5716092176 owner:2],\n",
       " 9871185879: [_LocalTensor - id:#boston_housing #input #dataset owner:2],\n",
       " '#boston_housing #input #dataset': [_LocalTensor - id:#boston_housing #input #dataset owner:2],\n",
       " 4065199011: [_LocalTensor - id:4065199011 owner:2],\n",
       " 3795690907: [_LocalTensor - id:#nashville_housing #target #dataset owner:2],\n",
       " '#nashville_housing #target #dataset': [_LocalTensor - id:#nashville_housing #target #dataset owner:2],\n",
       " 9968562364: [_LocalTensor - id:9968562364 owner:2],\n",
       " 1520450802: [_LocalTensor - id:#nashville_housing #input #dataset owner:2],\n",
       " '#nashville_housing #input #dataset': [_LocalTensor - id:#nashville_housing #input #dataset owner:2]}"
      ]
     },
     "execution_count": 6,
     "metadata": {},
     "output_type": "execute_result"
    }
   ],
   "source": [
    "sy.local_worker._objects"
   ]
  },
  {
   "cell_type": "markdown",
   "metadata": {},
   "source": [
    "# Step 4: Start Server"
   ]
  },
  {
   "cell_type": "code",
   "execution_count": null,
   "metadata": {},
   "outputs": [
    {
     "name": "stdout",
     "output_type": "stream",
     "text": [
      "Received Command From: ('127.0.0.1', 52684)\n",
      "Received Command From: ('127.0.0.1', 52684)\n",
      "Received Command From: ('127.0.0.1', 52684)\n",
      "Received Command From: ('127.0.0.1', 52684)\n",
      "Received Command From: ('127.0.0.1', 52684)\n",
      "Received Command From: ('127.0.0.1', 52684)\n",
      "Received Command From: ('127.0.0.1', 52684)\n",
      "Received Command From: ('127.0.0.1', 52684)\n",
      "Received Command From: ('127.0.0.1', 52684)\n",
      "Received Command From: ('127.0.0.1', 52684)\n",
      "Received Command From: ('127.0.0.1', 52684)\n"
     ]
    }
   ],
   "source": [
    "hook.local_worker.listen()"
   ]
  },
  {
   "cell_type": "code",
   "execution_count": null,
   "metadata": {},
   "outputs": [],
   "source": []
  },
  {
   "cell_type": "code",
   "execution_count": null,
   "metadata": {},
   "outputs": [],
   "source": []
  }
 ],
 "metadata": {
  "kernelspec": {
   "display_name": "Python 3",
   "language": "python",
   "name": "python3"
  },
  "language_info": {
   "codemirror_mode": {
    "name": "ipython",
    "version": 3
   },
   "file_extension": ".py",
   "mimetype": "text/x-python",
   "name": "python",
   "nbconvert_exporter": "python",
   "pygments_lexer": "ipython3",
   "version": "3.6.1"
  }
 },
 "nbformat": 4,
 "nbformat_minor": 2
}

{
 "cells": [
  {
   "cell_type": "markdown",
   "metadata": {},
   "source": [
    "# Opacus - Syft Duet - Data Owner 🎸"
   ]
  },
  {
   "cell_type": "markdown",
   "metadata": {},
   "source": [
    "## PART 1: Launch a Duet Server and Connect\n",
    "\n",
    "As a Data Owner, you want to allow someone else to perform data science on data that you own and likely want to protect.\n",
    "\n",
    "In order to do this, we must load our data into a locally running server within this notebook. We call this server a \"Duet\".\n",
    "\n",
    "To begin, you must launch Duet and help your Duet \"partner\" (a Data Scientist) connect to this server.\n",
    "\n",
    "You do this by running the code below and sending the code snippit containing your unqiue Server ID to your partner and following the instructions it gives!"
   ]
  },
  {
   "cell_type": "code",
   "execution_count": null,
   "metadata": {},
   "outputs": [],
   "source": [
    "import syft as sy\n",
    "sy.load_lib(\"opacus\")\n",
    "duet = sy.launch_duet(loopback=True)\n",
    "sy.logger.add(sink=\"./syft_do.log\")"
   ]
  },
  {
   "cell_type": "markdown",
   "metadata": {},
   "source": [
    "If you are in Jupyter Notebook (not Colab) the ☝🏾DUET LIVE STATUS above will animate "
   ]
  },
  {
   "cell_type": "code",
   "execution_count": null,
   "metadata": {},
   "outputs": [],
   "source": [
    "duet.requests.add_handler(\n",
    "    action=\"accept\"\n",
    ")"
   ]
  },
  {
   "cell_type": "code",
   "execution_count": null,
   "metadata": {},
   "outputs": [],
   "source": [
    "duet.requests.handlers"
   ]
  },
  {
   "cell_type": "code",
   "execution_count": null,
   "metadata": {},
   "outputs": [],
   "source": [
    "# duet.requests[0].accept()"
   ]
  },
  {
   "cell_type": "code",
   "execution_count": null,
   "metadata": {},
   "outputs": [],
   "source": [
    "# duet.requests.add_handler(\n",
    "#     name=\"cuda_is_available\",\n",
    "#     action=\"accept\"\n",
    "# )\n",
    "\n",
    "# duet.requests.add_handler(\n",
    "#     name=\"loss\",\n",
    "#     action=\"deny\",\n",
    "#     timeout_secs=-1,  # no timeout\n",
    "#     print_local=True  # print the result in your notebook\n",
    "# )\n",
    "\n",
    "# duet.requests.add_handler(\n",
    "#     name=\"train_size\",\n",
    "#     action=\"accept\"\n",
    "# )\n",
    "\n",
    "# duet.requests.add_handler(\n",
    "#     name=\"inference\",\n",
    "#     action=\"accept\"\n",
    "# )\n",
    "\n",
    "# duet.requests.add_handler(\n",
    "#     name=\"model_download\",\n",
    "#     action=\"accept\"\n",
    "# )"
   ]
  },
  {
   "cell_type": "code",
   "execution_count": null,
   "metadata": {},
   "outputs": [],
   "source": [
    "# duet.requests.handlers"
   ]
  },
  {
   "cell_type": "code",
   "execution_count": null,
   "metadata": {},
   "outputs": [],
   "source": [
    "# duet.requests.clear_handlers()"
   ]
  }
 ],
 "metadata": {
  "kernelspec": {
   "display_name": "Python 3",
   "language": "python",
   "name": "python3"
  },
  "language_info": {
   "codemirror_mode": {
    "name": "ipython",
    "version": 3
   },
   "file_extension": ".py",
   "mimetype": "text/x-python",
   "name": "python",
   "nbconvert_exporter": "python",
   "pygments_lexer": "ipython3",
   "version": "3.6.9"
  }
 },
 "nbformat": 4,
 "nbformat_minor": 4
}

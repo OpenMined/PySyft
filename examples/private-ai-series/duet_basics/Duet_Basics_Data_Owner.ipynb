{
 "cells": [
  {
   "cell_type": "code",
   "execution_count": null,
   "id": "proprietary-rotation",
   "metadata": {},
   "outputs": [],
   "source": [
    "import syft as sy"
   ]
  },
  {
   "cell_type": "markdown",
   "id": "worth-teach",
   "metadata": {},
   "source": [
    "# Part 1: Launch a Duet Server"
   ]
  },
  {
   "cell_type": "code",
   "execution_count": null,
   "id": "packed-german",
   "metadata": {
    "scrolled": true
   },
   "outputs": [],
   "source": [
    "duet = sy.launch_duet(loopback=True)"
   ]
  },
  {
   "cell_type": "markdown",
   "id": "saved-dressing",
   "metadata": {},
   "source": [
    "# Part 2: Upload data to Duet Server"
   ]
  },
  {
   "cell_type": "code",
   "execution_count": null,
   "id": "complicated-lafayette",
   "metadata": {},
   "outputs": [],
   "source": [
    "import torch as th\n",
    "\n",
    "# Data owner has age data of 6 people\n",
    "age_data = th.tensor([25, 32, 49, 65, 88, 22])\n",
    "\n",
    "# Data owner names the data with tag \"ages\"\n",
    "age_data = age_data.tag(\"ages\")\n",
    "\n",
    "# Data owner adds a description to the tensor where age data is located\n",
    "age_data = age_data.describe(\"This is a list of ages of 6 people.\")\n",
    "\n",
    "# Finally the data owner UPLOADS THE DATA to the Duet server and makes it pointable\n",
    "# by data scientists. NOTE: The data is still on the Data Owners machine and cannot be\n",
    "# viewed or retrieved by any Data Scientists without permission.\n",
    "age_data_pointer = age_data.send(duet, pointable=True)"
   ]
  },
  {
   "cell_type": "code",
   "execution_count": null,
   "id": "approximate-tracy",
   "metadata": {},
   "outputs": [],
   "source": [
    "# Once uploaded, the data owner can see the object stored in the tensor\n",
    "duet.store"
   ]
  },
  {
   "cell_type": "code",
   "execution_count": null,
   "id": "continuing-jordan",
   "metadata": {
    "scrolled": true
   },
   "outputs": [],
   "source": [
    "# To see it in a human-readable format, data owner can also pretty-print the tensor information\n",
    "duet.store.pandas"
   ]
  },
  {
   "cell_type": "markdown",
   "id": "white-inflation",
   "metadata": {},
   "source": [
    "### <img src=\"https://github.com/OpenMined/design-assets/raw/master/logos/OM/mark-primary-light.png\" alt=\"he-black-box\" width=\"100\"/> Checkpoint 1 : Now STOP and run the Data Scientist notebook until the same checkpoint."
   ]
  },
  {
   "cell_type": "markdown",
   "id": "scheduled-slope",
   "metadata": {},
   "source": [
    "# Part 3: Response to requests coming from Data Scientist"
   ]
  },
  {
   "cell_type": "code",
   "execution_count": null,
   "id": "amazing-father",
   "metadata": {},
   "outputs": [],
   "source": [
    "# To check if there is a request from the Data Scientist, run this command occasionally\n",
    "# or when there is a notification of new request in the DUET LIVE STATUS\n",
    "duet.requests.pandas"
   ]
  },
  {
   "cell_type": "code",
   "execution_count": null,
   "id": "operational-photograph",
   "metadata": {},
   "outputs": [],
   "source": [
    "# There's a new request! Let's check what it says.\n",
    "duet.requests[0].request_description"
   ]
  },
  {
   "cell_type": "code",
   "execution_count": null,
   "id": "viral-fancy",
   "metadata": {},
   "outputs": [],
   "source": [
    "# Doesn't look like a convincing request :( Have to deny it sorry!\n",
    "duet.requests[0].deny()"
   ]
  },
  {
   "cell_type": "code",
   "execution_count": null,
   "id": "running-league",
   "metadata": {},
   "outputs": [],
   "source": [
    "# No more request\n",
    "duet.requests.pandas"
   ]
  },
  {
   "cell_type": "markdown",
   "id": "clinical-analyst",
   "metadata": {},
   "source": [
    "### <img src=\"https://github.com/OpenMined/design-assets/raw/master/logos/OM/mark-primary-light.png\" alt=\"he-black-box\" width=\"100\"/> Checkpoint 2 : Now STOP and run the Data Scientist notebook until the same checkpoint."
   ]
  },
  {
   "cell_type": "code",
   "execution_count": null,
   "id": "magnetic-vinyl",
   "metadata": {},
   "outputs": [],
   "source": [
    "# Oh there's a new request!\n",
    "duet.requests.pandas"
   ]
  },
  {
   "cell_type": "code",
   "execution_count": null,
   "id": "periodic-seating",
   "metadata": {},
   "outputs": [],
   "source": [
    "# Let's check what it says.\n",
    "assert (\n",
    "    duet.requests[0].request_description\n",
    "    == \"I am data scientist and I need to know the average age for my analysis.\"\n",
    ")\n",
    "duet.requests[0].request_description"
   ]
  },
  {
   "cell_type": "code",
   "execution_count": null,
   "id": "australian-lease",
   "metadata": {
    "scrolled": true
   },
   "outputs": [],
   "source": [
    "# The request looks reasonable. Should be accepted :)\n",
    "duet.requests[0].accept()"
   ]
  },
  {
   "cell_type": "markdown",
   "id": "confident-poker",
   "metadata": {},
   "source": [
    "### Add request handlers"
   ]
  },
  {
   "cell_type": "code",
   "execution_count": null,
   "id": "loose-fifth",
   "metadata": {},
   "outputs": [],
   "source": [
    "# You can automatically accept or deny requests, which is great for testing.\n",
    "# We have more advanced handlers coming soon.\n",
    "duet.requests.add_handler(action=\"accept\")"
   ]
  },
  {
   "cell_type": "markdown",
   "id": "attractive-modem",
   "metadata": {},
   "source": [
    "### <img src=\"https://github.com/OpenMined/design-assets/raw/master/logos/OM/mark-primary-light.png\" alt=\"he-black-box\" width=\"100\"/> Checkpoint 3 : Well done!"
   ]
  }
 ],
 "metadata": {
  "kernelspec": {
   "display_name": "Python 3",
   "language": "python",
   "name": "python3"
  },
  "language_info": {
   "codemirror_mode": {
    "name": "ipython",
    "version": 3
   },
   "file_extension": ".py",
   "mimetype": "text/x-python",
   "name": "python",
   "nbconvert_exporter": "python",
   "pygments_lexer": "ipython3",
   "version": "3.6.9"
  }
 },
 "nbformat": 4,
 "nbformat_minor": 5
}

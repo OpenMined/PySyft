{
 "cells": [
  {
   "cell_type": "code",
   "execution_count": null,
   "id": "manual-curve",
   "metadata": {},
   "outputs": [],
   "source": [
    "import syft as sy"
   ]
  },
  {
   "cell_type": "markdown",
   "id": "short-proposition",
   "metadata": {},
   "source": [
    "# Part 1: Launch a Duet Server"
   ]
  },
  {
   "cell_type": "code",
   "execution_count": null,
   "id": "mighty-stephen",
   "metadata": {
    "scrolled": true
   },
   "outputs": [],
   "source": [
    "duet = sy.launch_duet(loopback=True)"
   ]
  },
  {
   "cell_type": "markdown",
   "id": "german-salmon",
   "metadata": {},
   "source": [
    "# Part 2: Upload data to Duet Server"
   ]
  },
  {
   "cell_type": "code",
   "execution_count": null,
   "id": "according-marker",
   "metadata": {},
   "outputs": [],
   "source": [
    "import torch as th\n",
    "\n",
    "# Data owner has HEIGHTS (cm) data of 6 people - GROUP A\n",
    "height_data = th.tensor([157.48, 147.32, 149.86, 177.8, 170.18, 182.88])\n",
    "\n",
    "# Data owner names the data with tag \"HEIGHTS\"\n",
    "height_data = height_data.tag(\"HEIGHTS of GROUP A\")\n",
    "\n",
    "# Data owner adds a description to the tensor where height data is located\n",
    "height_data = height_data.describe(\n",
    "    \"This is a list of heights (cm) of GROUP A - 6 people.\"\n",
    ")\n",
    "\n",
    "# Finally the data owner UPLOADS THE DATA to the Duet server and makes it pointable\n",
    "# by data scientists.\n",
    "height_data_pointer = height_data.send(duet, pointable=True)"
   ]
  },
  {
   "cell_type": "code",
   "execution_count": null,
   "id": "representative-kernel",
   "metadata": {},
   "outputs": [],
   "source": [
    "# Data owner also has WEIGHTS (kg) data of 6 people - GROUP A\n",
    "weight_data = th.tensor([57, 61, 74, 76, 78, 67])\n",
    "\n",
    "# Data owner names the data with tag \"WEIGHTS\"\n",
    "weight_data = weight_data.tag(\"WEIGHTS of GROUP A\")\n",
    "\n",
    "# Data owner adds a description to the tensor where weights data is located\n",
    "weight_data = weight_data.describe(\n",
    "    \"This is a list of body weights (kg) of GROUP A - 6 people.\"\n",
    ")\n",
    "\n",
    "# Finally the data owner UPLOADS THE DATA to the Duet server and makes it pointable\n",
    "# by data scientists.\n",
    "weight_data_pointer = weight_data.send(duet, pointable=True)"
   ]
  },
  {
   "cell_type": "code",
   "execution_count": null,
   "id": "improving-portrait",
   "metadata": {},
   "outputs": [],
   "source": [
    "duet.store.pandas"
   ]
  },
  {
   "cell_type": "code",
   "execution_count": null,
   "id": "challenging-determination",
   "metadata": {},
   "outputs": [],
   "source": [
    "assert len(duet.store) == 2"
   ]
  },
  {
   "cell_type": "markdown",
   "id": "orange-worcester",
   "metadata": {},
   "source": [
    "# Part 3: Response to requests coming from Data Scientist"
   ]
  },
  {
   "cell_type": "code",
   "execution_count": null,
   "id": "liberal-label",
   "metadata": {
    "scrolled": true
   },
   "outputs": [],
   "source": [
    "duet.requests.add_handler(action=\"accept\")"
   ]
  },
  {
   "cell_type": "markdown",
   "id": "understood-chosen",
   "metadata": {},
   "source": [
    "### <img src=\"https://github.com/OpenMined/design-assets/raw/master/logos/OM/mark-primary-light.png\" alt=\"he-black-box\" width=\"100\"/> Checkpoint 1 : Well done!"
   ]
  }
 ],
 "metadata": {
  "kernelspec": {
   "display_name": "Python 3",
   "language": "python",
   "name": "python3"
  },
  "language_info": {
   "codemirror_mode": {
    "name": "ipython",
    "version": 3
   },
   "file_extension": ".py",
   "mimetype": "text/x-python",
   "name": "python",
   "nbconvert_exporter": "python",
   "pygments_lexer": "ipython3",
   "version": "3.6.9"
  }
 },
 "nbformat": 4,
 "nbformat_minor": 5
}

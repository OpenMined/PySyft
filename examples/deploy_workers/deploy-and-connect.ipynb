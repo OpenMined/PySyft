{
 "cells": [
  {
   "cell_type": "markdown",
   "metadata": {},
   "source": [
    "### Deploy PySyft Workers using Docker\n",
    "\n",
    "We will begin by starting our three workers using that docker-compose file"
   ]
  },
  {
   "cell_type": "code",
   "execution_count": null,
   "metadata": {},
   "outputs": [],
   "source": [
    "!docker-compose up"
   ]
  },
  {
   "cell_type": "markdown",
   "metadata": {},
   "source": [
    "Then import syft and hook pytorch"
   ]
  },
  {
   "cell_type": "code",
   "execution_count": null,
   "metadata": {},
   "outputs": [],
   "source": [
    "import syft\n",
    "import torch\n",
    "from syft.workers import WebsocketClientWorker\n",
    "\n",
    "hook = syft.TorchHook(torch)"
   ]
  },
  {
   "cell_type": "markdown",
   "metadata": {},
   "source": [
    "Here we connect to our three worker using their ids and ports"
   ]
  },
  {
   "cell_type": "code",
   "execution_count": null,
   "metadata": {},
   "outputs": [],
   "source": [
    "alice = WebsocketClientWorker(hook=hook, id=\"alice\", host='127.0.0.1', port=8777)\n",
    "bob = WebsocketClientWorker(hook=hook, id=\"bob\", host='127.0.0.1', port=8778)\n",
    "charlie = WebsocketClientWorker(hook=hook, id=\"charlie\", host='127.0.0.1', port=8779)"
   ]
  },
  {
   "cell_type": "markdown",
   "metadata": {},
   "source": [
    "Now we can interact with those workers, here we send and get some tensors to make sure that it's working"
   ]
  },
  {
   "cell_type": "code",
   "execution_count": null,
   "metadata": {},
   "outputs": [],
   "source": [
    "t = torch.tensor([73, 74, 75])\n",
    "ta = t.send(alice)\n",
    "tb = t.send(bob)\n",
    "tc = t.send(charlie)\n",
    "print(ta.get())\n",
    "print(tb.get())\n",
    "print(tc.get())"
   ]
  },
  {
   "cell_type": "markdown",
   "metadata": {},
   "source": [
    "Here we deployed and interacted with 3 different workers in just some line of code."
   ]
  }
 ],
 "metadata": {
  "kernelspec": {
   "display_name": "Python 3",
   "language": "python",
   "name": "python3"
  },
  "language_info": {
   "codemirror_mode": {
    "name": "ipython",
    "version": 3
   },
   "file_extension": ".py",
   "mimetype": "text/x-python",
   "name": "python",
   "nbconvert_exporter": "python",
   "pygments_lexer": "ipython3",
   "version": "3.7.3"
  }
 },
 "nbformat": 4,
 "nbformat_minor": 2
}

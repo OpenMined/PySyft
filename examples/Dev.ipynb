{
 "cells": [
  {
   "cell_type": "code",
   "execution_count": 1,
   "metadata": {},
   "outputs": [],
   "source": [
    "import syft as sy"
   ]
  },
  {
   "cell_type": "markdown",
   "metadata": {},
   "source": [
    "### Test 1: Send a Message from a VM Client to a VM"
   ]
  },
  {
   "cell_type": "code",
   "execution_count": 2,
   "metadata": {},
   "outputs": [],
   "source": [
    "bob_vm = sy.VirtualMachine(name=\"Bob\")\n",
    "bob_vm_client = bob_vm.get_client()"
   ]
  },
  {
   "cell_type": "code",
   "execution_count": 3,
   "metadata": {},
   "outputs": [],
   "source": [
    "# from syft.core.io.virtual import create_virtual_connection\n",
    "# from syft.core.io.route import "
   ]
  },
  {
   "cell_type": "code",
   "execution_count": 4,
   "metadata": {},
   "outputs": [],
   "source": [
    "# conn_client = create_virtual_connection(node=bob_vm)"
   ]
  },
  {
   "cell_type": "code",
   "execution_count": 5,
   "metadata": {},
   "outputs": [
    {
     "name": "stdout",
     "output_type": "stream",
     "text": [
      "the message is for me!!!\n",
      "VirtualMachine:Bob:<UID:2e94c85a-582d-4878-a9cc-d8de684c5c7d>\n"
     ]
    }
   ],
   "source": [
    "bob_vm_client.send_msg_without_reply(msg=sy.ReprMessage(address=bob_vm_client.address))"
   ]
  },
  {
   "cell_type": "markdown",
   "metadata": {},
   "source": [
    "### Test 2: Send a message from a Device Client to a Device"
   ]
  },
  {
   "cell_type": "code",
   "execution_count": 6,
   "metadata": {},
   "outputs": [],
   "source": [
    "bob_phone = sy.Device(name=\"Bob's iPhone\")\n",
    "bob_phone_client = bob_phone.get_client()"
   ]
  },
  {
   "cell_type": "code",
   "execution_count": 7,
   "metadata": {},
   "outputs": [],
   "source": [
    "msg = sy.ReprMessage(address=bob_phone_client.address)"
   ]
  },
  {
   "cell_type": "code",
   "execution_count": 8,
   "metadata": {},
   "outputs": [
    {
     "name": "stdout",
     "output_type": "stream",
     "text": [
      "the message is for me!!!\n",
      "Device:Bob's iPhone:<UID:7d6a69c3-6f8a-4fc8-a275-e99a5307af7d>\n"
     ]
    }
   ],
   "source": [
    "bob_phone_client.send_msg_without_reply(msg=sy.ReprMessage(address=bob_phone_client.address))"
   ]
  },
  {
   "cell_type": "markdown",
   "metadata": {},
   "source": [
    "### Test 2.1: Register a VM on a Device"
   ]
  },
  {
   "cell_type": "code",
   "execution_count": 9,
   "metadata": {},
   "outputs": [
    {
     "name": "stdout",
     "output_type": "stream",
     "text": [
      "the message is for me!!!\n",
      "the message is for me!!!\n",
      "Updating to Public(Network:None, Domain:None)  Private(Device:<UID:7d6a69c3-6f8a-4fc8-a275-e99a5307af7d>, VM:None) on note VirtualMachine:Bob:<UID:2e94c85a-582d-4878-a9cc-d8de684c5c7d>\n"
     ]
    }
   ],
   "source": [
    "bob_phone_client.register(client=bob_vm_client)"
   ]
  },
  {
   "cell_type": "code",
   "execution_count": 10,
   "metadata": {},
   "outputs": [
    {
     "data": {
      "text/plain": [
       "ObjectStore:{<UID:2e94c85a-582d-4878-a9cc-d8de684c5c7d>: <VirtualMachineClient id:Bob>}"
      ]
     },
     "execution_count": 10,
     "metadata": {},
     "output_type": "execute_result"
    }
   ],
   "source": [
    "bob_phone.store"
   ]
  },
  {
   "cell_type": "markdown",
   "metadata": {},
   "source": [
    "### Test 2.2 Test that registration updated \"address\" variable of VM"
   ]
  },
  {
   "cell_type": "code",
   "execution_count": 11,
   "metadata": {},
   "outputs": [],
   "source": [
    "assert bob_vm_client.address.pri_address.device is not None"
   ]
  },
  {
   "cell_type": "markdown",
   "metadata": {},
   "source": [
    "### Test 3: Send a message from a Device Client to a VM"
   ]
  },
  {
   "cell_type": "code",
   "execution_count": 12,
   "metadata": {},
   "outputs": [
    {
     "name": "stdout",
     "output_type": "stream",
     "text": [
      "the message is not for me...\n",
      "the message is for me!!!\n",
      "VirtualMachine:Bob:<UID:2e94c85a-582d-4878-a9cc-d8de684c5c7d>\n"
     ]
    }
   ],
   "source": [
    "bob_phone_client.send_msg_without_reply(msg=sy.ReprMessage(address=bob_vm_client.address))"
   ]
  },
  {
   "cell_type": "markdown",
   "metadata": {},
   "source": [
    "### Test 4: Send a message from a Domain Client to a VM"
   ]
  },
  {
   "cell_type": "code",
   "execution_count": 13,
   "metadata": {},
   "outputs": [],
   "source": [
    "import syft as sy"
   ]
  },
  {
   "cell_type": "code",
   "execution_count": 14,
   "metadata": {},
   "outputs": [],
   "source": [
    "bob_domain = sy.Domain(name=\"Bob's Domain\")\n",
    "bob_domain_client = bob_domain.get_client()"
   ]
  },
  {
   "cell_type": "code",
   "execution_count": 15,
   "metadata": {},
   "outputs": [
    {
     "name": "stdout",
     "output_type": "stream",
     "text": [
      "the message is for me!!!\n",
      "the message is for me!!!\n",
      "Updating to Public(Network:None, Domain:<UID:e804b838-9bde-4ceb-b13d-5a891227b6f3>)  Private(Device:None, VM:None) on note Device:Bob's iPhone:<UID:7d6a69c3-6f8a-4fc8-a275-e99a5307af7d>\n",
      "the message is for me!!!\n",
      "Updating to Public(Network:None, Domain:<UID:e804b838-9bde-4ceb-b13d-5a891227b6f3>)  Private(Device:None, VM:None) on note VirtualMachine:Bob:<UID:2e94c85a-582d-4878-a9cc-d8de684c5c7d>\n"
     ]
    }
   ],
   "source": [
    "bob_domain_client.register(client=bob_phone_client)"
   ]
  },
  {
   "cell_type": "code",
   "execution_count": 16,
   "metadata": {},
   "outputs": [
    {
     "name": "stdout",
     "output_type": "stream",
     "text": [
      "the message is not for me...\n",
      "the message is not for me...\n",
      "the message is for me!!!\n",
      "VirtualMachine:Bob:<UID:2e94c85a-582d-4878-a9cc-d8de684c5c7d>\n"
     ]
    }
   ],
   "source": [
    "bob_domain_client.send_msg_without_reply(msg=sy.ReprMessage(address=bob_vm_client.address))"
   ]
  },
  {
   "cell_type": "markdown",
   "metadata": {},
   "source": [
    "### Test 5: Send a message from Network Client to a VM"
   ]
  },
  {
   "cell_type": "code",
   "execution_count": 17,
   "metadata": {},
   "outputs": [],
   "source": [
    "bob_network = sy.Network(name=\"Bob's Network\")\n",
    "bob_network_client = bob_network.get_client()"
   ]
  },
  {
   "cell_type": "code",
   "execution_count": 18,
   "metadata": {},
   "outputs": [
    {
     "name": "stdout",
     "output_type": "stream",
     "text": [
      "the message is for me!!!\n",
      "the message is for me!!!\n",
      "Updating to Public(Network:<UID:1dc6b61b-7322-44f7-9a8a-6f164d48ad09>, Domain:None)  Private(Device:None, VM:None) on note Domain:Bob's Domain:<UID:e804b838-9bde-4ceb-b13d-5a891227b6f3>\n",
      "the message is for me!!!\n",
      "Updating to Public(Network:<UID:1dc6b61b-7322-44f7-9a8a-6f164d48ad09>, Domain:None)  Private(Device:None, VM:None) on note Device:Bob's iPhone:<UID:7d6a69c3-6f8a-4fc8-a275-e99a5307af7d>\n",
      "the message is for me!!!\n",
      "Updating to Public(Network:<UID:1dc6b61b-7322-44f7-9a8a-6f164d48ad09>, Domain:None)  Private(Device:None, VM:None) on note VirtualMachine:Bob:<UID:2e94c85a-582d-4878-a9cc-d8de684c5c7d>\n"
     ]
    }
   ],
   "source": [
    "bob_network_client.register(client=bob_domain_client)"
   ]
  },
  {
   "cell_type": "code",
   "execution_count": 19,
   "metadata": {},
   "outputs": [
    {
     "name": "stdout",
     "output_type": "stream",
     "text": [
      "the message is not for me...\n",
      "the message is not for me...\n",
      "the message is not for me...\n",
      "the message is for me!!!\n",
      "VirtualMachine:Bob:<UID:2e94c85a-582d-4878-a9cc-d8de684c5c7d>\n"
     ]
    }
   ],
   "source": [
    "bob_network_client.send_msg_without_reply(msg=sy.ReprMessage(address=bob_vm_client.address))"
   ]
  },
  {
   "cell_type": "markdown",
   "metadata": {},
   "source": [
    "### Test 5: Use VM Client wtih Torch Tensor"
   ]
  },
  {
   "cell_type": "code",
   "execution_count": 1,
   "metadata": {},
   "outputs": [],
   "source": [
    "import syft as sy\n",
    "alice = sy.VirtualMachine(name=\"alice\")\n",
    "alice_client = alice.get_client()"
   ]
  },
  {
   "cell_type": "code",
   "execution_count": 2,
   "metadata": {},
   "outputs": [],
   "source": [
    "import torch as th"
   ]
  },
  {
   "cell_type": "code",
   "execution_count": 3,
   "metadata": {},
   "outputs": [],
   "source": [
    "x = th.tensor([1,2,3,4])"
   ]
  },
  {
   "cell_type": "code",
   "execution_count": 4,
   "metadata": {},
   "outputs": [
    {
     "name": "stdout",
     "output_type": "stream",
     "text": [
      "the message is for me!!!\n"
     ]
    }
   ],
   "source": [
    "xp = x.send(alice_client)"
   ]
  },
  {
   "cell_type": "code",
   "execution_count": 5,
   "metadata": {},
   "outputs": [
    {
     "name": "stdout",
     "output_type": "stream",
     "text": [
      "the message is for me!!!\n"
     ]
    }
   ],
   "source": [
    "y = xp + xp"
   ]
  },
  {
   "cell_type": "code",
   "execution_count": 6,
   "metadata": {},
   "outputs": [
    {
     "name": "stdout",
     "output_type": "stream",
     "text": [
      "the message is for me!!!\n"
     ]
    }
   ],
   "source": [
    "z = y + y"
   ]
  },
  {
   "cell_type": "code",
   "execution_count": 7,
   "metadata": {},
   "outputs": [
    {
     "name": "stdout",
     "output_type": "stream",
     "text": [
      "the old_message is for me!!!\n"
     ]
    },
    {
     "data": {
      "text/plain": [
       "tensor([ 4,  8, 12, 16])"
      ]
     },
     "execution_count": 7,
     "metadata": {},
     "output_type": "execute_result"
    }
   ],
   "source": [
    "z.get()"
   ]
  },
  {
   "cell_type": "code",
   "execution_count": 8,
   "metadata": {},
   "outputs": [
    {
     "data": {
      "text/plain": [
       "ObjectStore:{172: tensor([1, 2, 3, 4]), 958: tensor([2, 4, 6, 8])}"
      ]
     },
     "execution_count": 8,
     "metadata": {},
     "output_type": "execute_result"
    }
   ],
   "source": [
    "alice.store"
   ]
  },
  {
   "cell_type": "code",
   "execution_count": 9,
   "metadata": {},
   "outputs": [
    {
     "name": "stdout",
     "output_type": "stream",
     "text": [
      "the old_message is for me!!!\n"
     ]
    },
    {
     "data": {
      "text/plain": [
       "tensor([2, 4, 6, 8])"
      ]
     },
     "execution_count": 9,
     "metadata": {},
     "output_type": "execute_result"
    }
   ],
   "source": [
    "y.get()"
   ]
  },
  {
   "cell_type": "code",
   "execution_count": 10,
   "metadata": {},
   "outputs": [
    {
     "name": "stderr",
     "output_type": "stream",
     "text": [
      "Exception ignored in: <function Pointer.__del__ at 0x7fd408895430>\n",
      "Traceback (most recent call last):\n",
      "  File \"/Users/atrask/Dropbox/Laboratory/openmined/PySyft/PySyft/src/syft/core/pointer/pointer.py\", line 27, in __del__\n",
      "    self.location.send_eventual_msg_without_reply(msg=obj_msg)\n",
      "  File \"/Users/atrask/Dropbox/Laboratory/openmined/PySyft/PySyft/src/syft/decorators/syft_decorator.py\", line 18, in wrapper\n",
      "    return function(*args, **kwargs)\n",
      "  File \"/Users/atrask/Dropbox/Laboratory/openmined/PySyft/PySyft/src/syft/decorators/typecheck.py\", line 78, in decorator\n",
      "    return typechecked(decorated)(*args, **kwargs)\n",
      "  File \"/Users/atrask/opt/anaconda3/envs/syft/lib/python3.8/site-packages/typeguard/__init__.py\", line 840, in wrapper\n",
      "    retval = func(*args, **kwargs)\n",
      "  File \"/Users/atrask/Dropbox/Laboratory/openmined/PySyft/PySyft/src/syft/core/nodes/common/client.py\", line 57, in send_eventual_msg_without_reply\n",
      "    return self.routes[0].send_eventual_msg_without_reply(msg=msg)\n",
      "  File \"/Users/atrask/Dropbox/Laboratory/openmined/PySyft/PySyft/src/syft/core/io/route.py\", line 136, in send_eventual_msg_without_reply\n",
      "    self.connection.send_msg_without_reply(msg=msg)\n",
      "  File \"/Users/atrask/Dropbox/Laboratory/openmined/PySyft/PySyft/src/syft/core/io/virtual.py\", line 41, in send_msg_without_reply\n",
      "    self.server.recv_msg_without_reply(msg=msg)\n",
      "  File \"/Users/atrask/Dropbox/Laboratory/openmined/PySyft/PySyft/src/syft/decorators/syft_decorator.py\", line 18, in wrapper\n",
      "    return function(*args, **kwargs)\n",
      "  File \"/Users/atrask/Dropbox/Laboratory/openmined/PySyft/PySyft/src/syft/decorators/typecheck.py\", line 78, in decorator\n",
      "    return typechecked(decorated)(*args, **kwargs)\n",
      "  File \"/Users/atrask/opt/anaconda3/envs/syft/lib/python3.8/site-packages/typeguard/__init__.py\", line 840, in wrapper\n",
      "    retval = func(*args, **kwargs)\n",
      "  File \"/Users/atrask/Dropbox/Laboratory/openmined/PySyft/PySyft/src/syft/core/io/virtual.py\", line 31, in recv_msg_without_reply\n",
      "    self.node.recv_msg_without_reply(msg=msg)\n",
      "  File \"/Users/atrask/Dropbox/Laboratory/openmined/PySyft/PySyft/src/syft/decorators/syft_decorator.py\", line 18, in wrapper\n",
      "    return function(*args, **kwargs)\n",
      "  File \"/Users/atrask/Dropbox/Laboratory/openmined/PySyft/PySyft/src/syft/decorators/typecheck.py\", line 78, in decorator\n",
      "    return typechecked(decorated)(*args, **kwargs)\n",
      "  File \"/Users/atrask/opt/anaconda3/envs/syft/lib/python3.8/site-packages/typeguard/__init__.py\", line 839, in wrapper\n",
      "    check_argument_types(memo)\n",
      "  File \"/Users/atrask/opt/anaconda3/envs/syft/lib/python3.8/site-packages/typeguard/__init__.py\", line 700, in check_argument_types\n",
      "    raise exc from None\n",
      "  File \"/Users/atrask/opt/anaconda3/envs/syft/lib/python3.8/site-packages/typeguard/__init__.py\", line 698, in check_argument_types\n",
      "    check_type(description, value, expected_type, memo)\n",
      "  File \"/Users/atrask/opt/anaconda3/envs/syft/lib/python3.8/site-packages/typeguard/__init__.py\", line 620, in check_type\n",
      "    raise TypeError(\n",
      "TypeError: type of argument \"msg\" must be syft.core.message.ImmediateSyftMessageWithoutReply; got syft.core.nodes.common.action.garbage_collect_object_action.GarbageCollectObjectAction instead\n"
     ]
    },
    {
     "name": "stdout",
     "output_type": "stream",
     "text": [
      "Deleted:<syft.ast.klass.torch.TensorPointer object at 0x7fd41858a460>\n"
     ]
    }
   ],
   "source": [
    "del xp"
   ]
  },
  {
   "cell_type": "code",
   "execution_count": 11,
   "metadata": {},
   "outputs": [
    {
     "data": {
      "text/plain": [
       "ObjectStore:{669: tensor([1, 2, 3, 4])}"
      ]
     },
     "execution_count": 11,
     "metadata": {},
     "output_type": "execute_result"
    }
   ],
   "source": [
    "alice.store"
   ]
  },
  {
   "cell_type": "code",
   "execution_count": null,
   "metadata": {},
   "outputs": [],
   "source": [
    "from sqlalchemy import create_engine\n",
    "\n",
    "engine = create_engine('sqlite:///:memory:', echo=True)"
   ]
  },
  {
   "cell_type": "code",
   "execution_count": null,
   "metadata": {},
   "outputs": [],
   "source": [
    "from sqlalchemy.orm import sessionmaker\n",
    "\n",
    "Session = sessionmaker(bind=engine)\n",
    "session = Session()"
   ]
  },
  {
   "cell_type": "code",
   "execution_count": null,
   "metadata": {},
   "outputs": [],
   "source": [
    "from sqlalchemy.ext.declarative import declarative_base\n",
    "\n",
    "Base = declarative_base()"
   ]
  },
  {
   "cell_type": "code",
   "execution_count": null,
   "metadata": {},
   "outputs": [],
   "source": [
    "from sqlalchemy import Column, Integer, String\n",
    "\n",
    "class User(Base):\n",
    "    __tablename__ = 'users'\n",
    "\n",
    "    id = Column(Integer, primary_key=True)\n",
    "    name = Column(String)\n",
    "    password = Column(String)\n",
    "\n",
    "    def __repr__(self):\n",
    "        return f'User {self.name}'"
   ]
  },
  {
   "cell_type": "code",
   "execution_count": null,
   "metadata": {},
   "outputs": [],
   "source": [
    "Base.metadata.create_all(engine)"
   ]
  },
  {
   "cell_type": "code",
   "execution_count": null,
   "metadata": {},
   "outputs": [],
   "source": [
    "user = User(name='John Snow', password='johnspassword')\n",
    "session.add(user)\n",
    "\n",
    "print(user.id)  # None"
   ]
  },
  {
   "cell_type": "code",
   "execution_count": null,
   "metadata": {},
   "outputs": [],
   "source": [
    "session.commit()"
   ]
  },
  {
   "cell_type": "code",
   "execution_count": null,
   "metadata": {},
   "outputs": [],
   "source": [
    "query = session.query(User).filter_by(name='John Snow')"
   ]
  },
  {
   "cell_type": "code",
   "execution_count": null,
   "metadata": {},
   "outputs": [],
   "source": [
    "query.count()"
   ]
  },
  {
   "cell_type": "code",
   "execution_count": null,
   "metadata": {},
   "outputs": [],
   "source": []
  }
 ],
 "metadata": {
  "kernelspec": {
   "display_name": "Python 3",
   "language": "python",
   "name": "python3"
  },
  "language_info": {
   "codemirror_mode": {
    "name": "ipython",
    "version": 3
   },
   "file_extension": ".py",
   "mimetype": "text/x-python",
   "name": "python",
   "nbconvert_exporter": "python",
   "pygments_lexer": "ipython3",
   "version": "3.8.1"
  }
 },
 "nbformat": 4,
 "nbformat_minor": 4
}

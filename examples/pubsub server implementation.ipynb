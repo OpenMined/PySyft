{
 "cells": [
  {
   "cell_type": "markdown",
   "metadata": {},
   "source": [
    "I am a data scientist, who knows how to communicate with the network operator of Toronto cars. so I'd like to perform the following operations:\n",
    "\n",
    "Use Case 1. Connect with the Toronto cars network, and send a message to all cars on that network. \n",
    "\n",
    "Use Case 2. Connect with the Toronto cars network, and send a query to all cars asking them about a certain dataset availability, and request an open channel with the cars that confirm having my dataset request and their interest in interacting with my session.\n",
    "\n",
    "Some basic concepts to understand:\n",
    "\n",
    "1. An address is spinned dynamically to represent the final destination of my message. Hops in between are going to forward my message to the relevant servers. \n",
    "2. The first point of contact that I'm aware of is going to be the Location that I will send my message to. eg. in this case I send my message to the Toronto Network, but I inform the network through the address field that I'm interested in contacting all cars under the Toronto Network. The address in this case, represents this desire and the final destination.\n",
    "3. In this case, the Toronto Network is a \"known location\" to me, because I know how to contact it.\n",
    "4. The method by which I contact the Toronto network is called \"Route\", a route embeds a connection to the location I'm trying to contact.\n",
    "\n",
    "In order for this notebook to work we need to play a few roles: \n",
    "1. The data scientist who knows \"Toronto Network\"\n",
    "2. The Toronto Network itself, which knows how to contact Cars in its known locations.\n",
    "3. A car that's subscribed to the Toronto Network that will receive the message and reply back.\n"
   ]
  },
  {
   "cell_type": "markdown",
   "metadata": {},
   "source": [
    "First step, let's setup some broadcasting utility functions."
   ]
  },
  {
   "cell_type": "code",
   "execution_count": 1,
   "metadata": {},
   "outputs": [],
   "source": [
    "import paho.mqtt.client as paho\n",
    "import syft as sy\n"
   ]
  },
  {
   "cell_type": "code",
   "execution_count": 2,
   "metadata": {},
   "outputs": [],
   "source": [
    "class PahoClient():\n",
    "\n",
    "    def __init__(self, host=\"localhost\", port=1883):\n",
    "        self.host = host\n",
    "        self.port = port\n",
    "        self.client = paho.Client()\n",
    "        self.client.on_subscribe = self.on_subscribe\n",
    "        self.client.on_message = self.on_message\n",
    "        self.client.on_publish = self.on_publish\n",
    "        self.client.on_log = self.on_log\n",
    "\n",
    "    def on_log(self, client, obj, level, string):\n",
    "        print(string)\n",
    "\n",
    "    def on_publish(self, client, userdata, mid):\n",
    "        pass\n",
    "    \n",
    "    def on_subscribe(self, client, userdata, mid, granted_qos):\n",
    "        print(\"Subscribed: \"+str(mid)+\" \"+str(granted_qos))\n",
    "\n",
    "    def on_message(self, client, userdata, msg):\n",
    "        print(msg.topic+\" \"+str(msg.qos)+\" \"+str(len(msg.payload)))        \n",
    "        \n",
    "        # TODO automatically resolve message type.\n",
    "        return self.recv_msg_without_reply(msg = msg.payload)\n",
    "\n",
    "    def send(self, topic, msg):\n",
    "        (rc, mid) = self.client.publish(topic, str(msg), qos=1, retain=False)\n",
    "\n",
    "    def connect(self):\n",
    "        self.client.connect(self.host, self.port)\n",
    "\n",
    "    def listen(self, topic, background = True):\n",
    "        if not self.client.is_connected():\n",
    "            self.connect()\n",
    "        self.client.subscribe(topic, qos=1)\n",
    "        if not background:\n",
    "            self.client.loop_forever()\n",
    "        else:\n",
    "            self.client.loop_start()\n",
    "            \n",
    "    def disconnect(self):\n",
    "        self.client.loop_stop() "
   ]
  },
  {
   "cell_type": "code",
   "execution_count": 3,
   "metadata": {},
   "outputs": [],
   "source": [
    "class BroadcastClientConnection(PahoClient, sy.core.io.connection.ClientConnection): \n",
    "    def send_msg_with_reply(self, msg): \n",
    "        if not self.client.is_connected(): \n",
    "            self.connect() \n",
    "        self.send(self.topic, msg) \n",
    "    def send_msg_without_reply(self, msg): \n",
    "        if not self.client.is_connected(): \n",
    "            self.connect() \n",
    "        self.send(self.topic, msg) "
   ]
  },
  {
   "cell_type": "code",
   "execution_count": 4,
   "metadata": {},
   "outputs": [],
   "source": [
    "class BroadcastServerConnection(PahoClient, sy.core.io.connection.ServerConnection):\n",
    "    def __init__(self, node):\n",
    "        self.node = node\n",
    "        super().__init__()\n",
    "\n",
    "    def recv_msg_with_reply(self, msg):\n",
    "        return self.node.recv_msg_with_reply(msg=msg)\n",
    "\n",
    "    def recv_msg_without_reply(self, msg):\n",
    "        self.node.recv_msg_without_reply(msg=msg)\n"
   ]
  },
  {
   "cell_type": "code",
   "execution_count": 5,
   "metadata": {},
   "outputs": [],
   "source": [
    "# Help the address tell that we have no preference in who picks up the call.\n",
    "class Unspecified(object):\n",
    "    def __repr__(self):\n",
    "        return \"unspecified\"\n",
    "\n",
    "# Help the address tell that we're interested in all nodes.\n",
    "class All(object):\n",
    "    def __repr__(self):\n",
    "        return \"all\"\n"
   ]
  },
  {
   "cell_type": "markdown",
   "metadata": {},
   "source": [
    "## Step 1: as a data scientist who knows the network, let's send the network a message."
   ]
  },
  {
   "cell_type": "code",
   "execution_count": 6,
   "metadata": {},
   "outputs": [],
   "source": [
    "# I know the location of this network through this topic.\n",
    "_ = sy.core.io.location.Location()\n",
    "toronto_cars_network = sy.core.io.location.SubscriptionBackedLocationGroup(topic = 'toronto-cars', known_group_members = [_])"
   ]
  },
  {
   "cell_type": "code",
   "execution_count": 7,
   "metadata": {},
   "outputs": [
    {
     "ename": "AttributeError",
     "evalue": "'ObjectStore' object has no attribute 'protobuf_type'",
     "output_type": "error",
     "traceback": [
      "\u001b[0;31m---------------------------------------------------------------------------\u001b[0m",
      "\u001b[0;31mAttributeError\u001b[0m                            Traceback (most recent call last)",
      "\u001b[0;32m<ipython-input-7-5eaf461b127e>\u001b[0m in \u001b[0;36m<module>\u001b[0;34m\u001b[0m\n\u001b[1;32m      6\u001b[0m \u001b[0;34m\u001b[0m\u001b[0m\n\u001b[1;32m      7\u001b[0m \u001b[0;31m# cotact toronto cars network.\u001b[0m\u001b[0;34m\u001b[0m\u001b[0;34m\u001b[0m\u001b[0;34m\u001b[0m\u001b[0m\n\u001b[0;32m----> 8\u001b[0;31m \u001b[0mnetwork_client\u001b[0m \u001b[0;34m=\u001b[0m \u001b[0msy\u001b[0m\u001b[0;34m.\u001b[0m\u001b[0mNetwork\u001b[0m\u001b[0;34m(\u001b[0m\u001b[0mname\u001b[0m \u001b[0;34m=\u001b[0m \u001b[0;34m\"toronto-cars\"\u001b[0m\u001b[0;34m)\u001b[0m\u001b[0;34m.\u001b[0m\u001b[0mget_client\u001b[0m\u001b[0;34m(\u001b[0m\u001b[0mroutes\u001b[0m \u001b[0;34m=\u001b[0m \u001b[0;34m[\u001b[0m\u001b[0mroute\u001b[0m\u001b[0;34m]\u001b[0m\u001b[0;34m)\u001b[0m\u001b[0;34m\u001b[0m\u001b[0;34m\u001b[0m\u001b[0m\n\u001b[0m\u001b[1;32m      9\u001b[0m \u001b[0;34m\u001b[0m\u001b[0m\n\u001b[1;32m     10\u001b[0m \u001b[0;31m# now let's create a message that has an address\u001b[0m\u001b[0;34m\u001b[0m\u001b[0;34m\u001b[0m\u001b[0;34m\u001b[0m\u001b[0m\n",
      "\u001b[0;32m~/Codes/genbu/syft-rima/PySyft/src/syft/core/node/network/network.py\u001b[0m in \u001b[0;36m__init__\u001b[0;34m(self, name)\u001b[0m\n\u001b[1;32m     15\u001b[0m \u001b[0;34m\u001b[0m\u001b[0m\n\u001b[1;32m     16\u001b[0m     \u001b[0;32mdef\u001b[0m \u001b[0m__init__\u001b[0m\u001b[0;34m(\u001b[0m\u001b[0mself\u001b[0m\u001b[0;34m,\u001b[0m \u001b[0mname\u001b[0m\u001b[0;34m:\u001b[0m \u001b[0mstr\u001b[0m\u001b[0;34m)\u001b[0m\u001b[0;34m:\u001b[0m\u001b[0;34m\u001b[0m\u001b[0;34m\u001b[0m\u001b[0m\n\u001b[0;32m---> 17\u001b[0;31m         \u001b[0msuper\u001b[0m\u001b[0;34m(\u001b[0m\u001b[0;34m)\u001b[0m\u001b[0;34m.\u001b[0m\u001b[0m__init__\u001b[0m\u001b[0;34m(\u001b[0m\u001b[0mname\u001b[0m\u001b[0;34m=\u001b[0m\u001b[0mname\u001b[0m\u001b[0;34m)\u001b[0m\u001b[0;34m\u001b[0m\u001b[0;34m\u001b[0m\u001b[0m\n\u001b[0m\u001b[1;32m     18\u001b[0m \u001b[0;34m\u001b[0m\u001b[0m\n\u001b[1;32m     19\u001b[0m         \u001b[0mself\u001b[0m\u001b[0;34m.\u001b[0m\u001b[0m_register_services\u001b[0m\u001b[0;34m(\u001b[0m\u001b[0;34m)\u001b[0m\u001b[0;34m\u001b[0m\u001b[0;34m\u001b[0m\u001b[0m\n",
      "\u001b[0;32m~/Codes/genbu/syft-rima/PySyft/src/syft/decorators/syft_decorator_impl.py\u001b[0m in \u001b[0;36mwrapper\u001b[0;34m(*args, **kwargs)\u001b[0m\n\u001b[1;32m     22\u001b[0m         \u001b[0;32mdef\u001b[0m \u001b[0mwrapper\u001b[0m\u001b[0;34m(\u001b[0m\u001b[0;34m*\u001b[0m\u001b[0margs\u001b[0m\u001b[0;34m,\u001b[0m \u001b[0;34m**\u001b[0m\u001b[0mkwargs\u001b[0m\u001b[0;34m)\u001b[0m\u001b[0;34m:\u001b[0m\u001b[0;34m\u001b[0m\u001b[0;34m\u001b[0m\u001b[0m\n\u001b[1;32m     23\u001b[0m \u001b[0;34m\u001b[0m\u001b[0m\n\u001b[0;32m---> 24\u001b[0;31m             \u001b[0;32mreturn\u001b[0m \u001b[0mfunction\u001b[0m\u001b[0;34m(\u001b[0m\u001b[0;34m*\u001b[0m\u001b[0margs\u001b[0m\u001b[0;34m,\u001b[0m \u001b[0;34m**\u001b[0m\u001b[0mkwargs\u001b[0m\u001b[0;34m)\u001b[0m\u001b[0;34m\u001b[0m\u001b[0;34m\u001b[0m\u001b[0m\n\u001b[0m\u001b[1;32m     25\u001b[0m             \u001b[0;31m# try:\u001b[0m\u001b[0;34m\u001b[0m\u001b[0;34m\u001b[0m\u001b[0;34m\u001b[0m\u001b[0m\n\u001b[1;32m     26\u001b[0m             \u001b[0;31m#     return function(*args, **kwargs)\u001b[0m\u001b[0;34m\u001b[0m\u001b[0;34m\u001b[0m\u001b[0;34m\u001b[0m\u001b[0m\n",
      "\u001b[0;32m~/Codes/genbu/syft-rima/PySyft/src/syft/decorators/typecheck.py\u001b[0m in \u001b[0;36mdecorator\u001b[0;34m(*args, **kwargs)\u001b[0m\n\u001b[1;32m     77\u001b[0m         \u001b[0;32mif\u001b[0m \u001b[0mprohibit_args\u001b[0m\u001b[0;34m:\u001b[0m\u001b[0;34m\u001b[0m\u001b[0;34m\u001b[0m\u001b[0m\n\u001b[1;32m     78\u001b[0m             \u001b[0mcheck_args\u001b[0m\u001b[0;34m(\u001b[0m\u001b[0;34m*\u001b[0m\u001b[0margs\u001b[0m\u001b[0;34m,\u001b[0m \u001b[0;34m**\u001b[0m\u001b[0mkwargs\u001b[0m\u001b[0;34m)\u001b[0m\u001b[0;34m\u001b[0m\u001b[0;34m\u001b[0m\u001b[0m\n\u001b[0;32m---> 79\u001b[0;31m         \u001b[0;32mreturn\u001b[0m \u001b[0mtypechecked\u001b[0m\u001b[0;34m(\u001b[0m\u001b[0mdecorated\u001b[0m\u001b[0;34m)\u001b[0m\u001b[0;34m(\u001b[0m\u001b[0;34m*\u001b[0m\u001b[0margs\u001b[0m\u001b[0;34m,\u001b[0m \u001b[0;34m**\u001b[0m\u001b[0mkwargs\u001b[0m\u001b[0;34m)\u001b[0m\u001b[0;34m\u001b[0m\u001b[0;34m\u001b[0m\u001b[0m\n\u001b[0m\u001b[1;32m     80\u001b[0m \u001b[0;34m\u001b[0m\u001b[0m\n\u001b[1;32m     81\u001b[0m     \u001b[0mdecorator\u001b[0m\u001b[0;34m.\u001b[0m\u001b[0m__annotations__\u001b[0m \u001b[0;34m=\u001b[0m \u001b[0mdecorated\u001b[0m\u001b[0;34m.\u001b[0m\u001b[0m__annotations__\u001b[0m\u001b[0;34m\u001b[0m\u001b[0;34m\u001b[0m\u001b[0m\n",
      "\u001b[0;32m~/.conda/envs/py38/lib/python3.8/site-packages/typeguard/__init__.py\u001b[0m in \u001b[0;36mwrapper\u001b[0;34m(*args, **kwargs)\u001b[0m\n\u001b[1;32m    838\u001b[0m         \u001b[0mmemo\u001b[0m \u001b[0;34m=\u001b[0m \u001b[0m_CallMemo\u001b[0m\u001b[0;34m(\u001b[0m\u001b[0mpython_func\u001b[0m\u001b[0;34m,\u001b[0m \u001b[0m_localns\u001b[0m\u001b[0;34m,\u001b[0m \u001b[0margs\u001b[0m\u001b[0;34m=\u001b[0m\u001b[0margs\u001b[0m\u001b[0;34m,\u001b[0m \u001b[0mkwargs\u001b[0m\u001b[0;34m=\u001b[0m\u001b[0mkwargs\u001b[0m\u001b[0;34m)\u001b[0m\u001b[0;34m\u001b[0m\u001b[0;34m\u001b[0m\u001b[0m\n\u001b[1;32m    839\u001b[0m         \u001b[0mcheck_argument_types\u001b[0m\u001b[0;34m(\u001b[0m\u001b[0mmemo\u001b[0m\u001b[0;34m)\u001b[0m\u001b[0;34m\u001b[0m\u001b[0;34m\u001b[0m\u001b[0m\n\u001b[0;32m--> 840\u001b[0;31m         \u001b[0mretval\u001b[0m \u001b[0;34m=\u001b[0m \u001b[0mfunc\u001b[0m\u001b[0;34m(\u001b[0m\u001b[0;34m*\u001b[0m\u001b[0margs\u001b[0m\u001b[0;34m,\u001b[0m \u001b[0;34m**\u001b[0m\u001b[0mkwargs\u001b[0m\u001b[0;34m)\u001b[0m\u001b[0;34m\u001b[0m\u001b[0;34m\u001b[0m\u001b[0m\n\u001b[0m\u001b[1;32m    841\u001b[0m         \u001b[0mcheck_return_type\u001b[0m\u001b[0;34m(\u001b[0m\u001b[0mretval\u001b[0m\u001b[0;34m,\u001b[0m \u001b[0mmemo\u001b[0m\u001b[0;34m)\u001b[0m\u001b[0;34m\u001b[0m\u001b[0;34m\u001b[0m\u001b[0m\n\u001b[1;32m    842\u001b[0m \u001b[0;34m\u001b[0m\u001b[0m\n",
      "\u001b[0;32m~/Codes/genbu/syft-rima/PySyft/src/syft/core/node/common/node.py\u001b[0m in \u001b[0;36m__init__\u001b[0;34m(self, name, address)\u001b[0m\n\u001b[1;32m     75\u001b[0m         \u001b[0;31m# become quite numerous (or otherwise fill up RAM).\u001b[0m\u001b[0;34m\u001b[0m\u001b[0;34m\u001b[0m\u001b[0;34m\u001b[0m\u001b[0m\n\u001b[1;32m     76\u001b[0m         \u001b[0;31m# self.store is the elastic memory.\u001b[0m\u001b[0;34m\u001b[0m\u001b[0;34m\u001b[0m\u001b[0;34m\u001b[0m\u001b[0m\n\u001b[0;32m---> 77\u001b[0;31m         \u001b[0mself\u001b[0m\u001b[0;34m.\u001b[0m\u001b[0mstore\u001b[0m \u001b[0;34m=\u001b[0m \u001b[0mObjectStore\u001b[0m\u001b[0;34m(\u001b[0m\u001b[0;34m)\u001b[0m\u001b[0;34m\u001b[0m\u001b[0;34m\u001b[0m\u001b[0m\n\u001b[0m\u001b[1;32m     78\u001b[0m \u001b[0;34m\u001b[0m\u001b[0m\n\u001b[1;32m     79\u001b[0m         \u001b[0;31m# We need to register all the services once a node is created\u001b[0m\u001b[0;34m\u001b[0m\u001b[0;34m\u001b[0m\u001b[0;34m\u001b[0m\u001b[0m\n",
      "\u001b[0;32m~/Codes/genbu/syft-rima/PySyft/src/syft/core/common/serde/serializable.py\u001b[0m in \u001b[0;36m__init__\u001b[0;34m(self, as_wrapper)\u001b[0m\n\u001b[1;32m     36\u001b[0m \u001b[0;34m\u001b[0m\u001b[0m\n\u001b[1;32m     37\u001b[0m         \u001b[0;31m# check to make sure protobuf_type has been set on the class\u001b[0m\u001b[0;34m\u001b[0m\u001b[0;34m\u001b[0m\u001b[0;34m\u001b[0m\u001b[0m\n\u001b[0;32m---> 38\u001b[0;31m         \u001b[0;32massert\u001b[0m \u001b[0mself\u001b[0m\u001b[0;34m.\u001b[0m\u001b[0mprotobuf_type\u001b[0m \u001b[0;32mis\u001b[0m \u001b[0;32mnot\u001b[0m \u001b[0;32mNone\u001b[0m\u001b[0;34m\u001b[0m\u001b[0;34m\u001b[0m\u001b[0m\n\u001b[0m\u001b[1;32m     39\u001b[0m \u001b[0;34m\u001b[0m\u001b[0m\n\u001b[1;32m     40\u001b[0m         \u001b[0;31m# set the as_wrapper flag\u001b[0m\u001b[0;34m\u001b[0m\u001b[0;34m\u001b[0m\u001b[0;34m\u001b[0m\u001b[0m\n",
      "\u001b[0;31mAttributeError\u001b[0m: 'ObjectStore' object has no attribute 'protobuf_type'"
     ]
    }
   ],
   "source": [
    "# let's self identify (future: this will be done through auth)\n",
    "iam = sy.common.object.ObjectWithID()\n",
    "\n",
    "# setup a route to this known location\n",
    "route = sy.core.io.route.BroadcastRoute(source = iam.id, destination = toronto_cars_network, connection = BroadcastClientConnection())\n",
    "\n",
    "# cotact toronto cars network.\n",
    "network_client = sy.Network(name = \"toronto-cars\").get_client(routes = [route])\n",
    "\n",
    "# now let's create a message that has an address\n",
    "address = sy.core.io.address.address(network = network_client.name, domain = All(), device = Unspecified(), vm = Unspecified())\n",
    "\n",
    "# now let's send them a message\n",
    "network_client.send_msg_without_reply(msg = sy.ReprMessage(address = address))"
   ]
  },
  {
   "cell_type": "markdown",
   "metadata": {},
   "source": [
    "### Great! now that we know we can send a message to the network, let's pretend to be the network and see what happens on the network's end.\n",
    "\n",
    "first we have to start a network server that can listen on messages."
   ]
  },
  {
   "cell_type": "code",
   "execution_count": null,
   "metadata": {},
   "outputs": [],
   "source": [
    "# start a network server to listen on messages.\n",
    "network_node = sy.Network(name = \"toronto-cars\")\n",
    "network_operator_server = BroadcastServerConnection(network_node)"
   ]
  },
  {
   "cell_type": "code",
   "execution_count": null,
   "metadata": {},
   "outputs": [],
   "source": [
    "network_operator_server.listen(topic = 'toronto-cars')"
   ]
  },
  {
   "cell_type": "markdown",
   "metadata": {},
   "source": [
    "now that someone is listening, let's send the message again."
   ]
  },
  {
   "cell_type": "code",
   "execution_count": null,
   "metadata": {},
   "outputs": [],
   "source": [
    "network_client.send_msg_without_reply(msg = sy.ReprMessage(address = address))"
   ]
  },
  {
   "cell_type": "code",
   "execution_count": null,
   "metadata": {},
   "outputs": [],
   "source": [
    "network_operator_server.disconnect()"
   ]
  },
  {
   "cell_type": "markdown",
   "metadata": {},
   "source": [
    "Awesome! now we know the network got the message. The exception you see above is because of trying to send a python object over the wire\n",
    "we have to introduce serialization to make this problem disappear."
   ]
  },
  {
   "cell_type": "markdown",
   "metadata": {},
   "source": [
    "### STEP 2: Now let's pretend to be a domain in the Toronto Cars network and see if the network is going to forward me the message.\n"
   ]
  },
  {
   "cell_type": "code",
   "execution_count": null,
   "metadata": {},
   "outputs": [],
   "source": [
    "domain_node = sy.Domain(name = 'mama-johns-car')"
   ]
  },
  {
   "cell_type": "code",
   "execution_count": null,
   "metadata": {},
   "outputs": [],
   "source": [
    "domain_operator_server = BroadcastServerConnection(domain_node)"
   ]
  },
  {
   "cell_type": "markdown",
   "metadata": {},
   "source": [
    "now let's assume that the network and its cars communicate on their own private channel, let's call it: \"toronto-internal-car-channel\"\n",
    "\n",
    "before we listen to this channel, we have to make sure the network operator knows about it."
   ]
  },
  {
   "cell_type": "code",
   "execution_count": null,
   "metadata": {},
   "outputs": [],
   "source": [
    "network_operator_server."
   ]
  },
  {
   "cell_type": "code",
   "execution_count": null,
   "metadata": {},
   "outputs": [],
   "source": [
    "#domain_operator_server.listen(\"toronto-internal-car-channel\")"
   ]
  },
  {
   "cell_type": "code",
   "execution_count": null,
   "metadata": {},
   "outputs": [],
   "source": []
  }
 ],
 "metadata": {
  "kernelspec": {
   "display_name": "Python 3",
   "language": "python",
   "name": "python3"
  },
  "language_info": {
   "codemirror_mode": {
    "name": "ipython",
    "version": 3
   },
   "file_extension": ".py",
   "mimetype": "text/x-python",
   "name": "python",
   "nbconvert_exporter": "python",
   "pygments_lexer": "ipython3",
   "version": "3.8.3"
  }
 },
 "nbformat": 4,
 "nbformat_minor": 4
}

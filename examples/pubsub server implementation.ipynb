{
 "cells": [
  {
   "cell_type": "markdown",
   "metadata": {},
   "source": [
    "I am a data scientist, who knows how to communicate with the network operator of Toronto cars. so I'd like to perform the following operations:\n",
    "\n",
    "Use Case 1. Connect with the Toronto cars network, and send a message to all cars on that network. \n",
    "\n",
    "Use Case 2. Connect with the Toronto cars network, and send a query to all cars asking them about a certain dataset availability, and request an open channel with the cars that confirm having my dataset request and their interest in interacting with my session.\n",
    "\n",
    "Some basic concepts to understand:\n",
    "\n",
    "1. An address is spinned dynamically to represent the final destination of my message. Hops in between are going to forward my message to the relevant servers. \n",
    "2. The first point of contact that I'm aware of is going to be the Location that I will send my message to. eg. in this case I send my message to the Toronto Network, but I inform the network through the address field that I'm interested in contacting all cars under the Toronto Network. The address in this case, represents this desire and the final destination.\n",
    "3. In this case, the Toronto Network is a \"known location\" to me, because I know how to contact it.\n",
    "4. The method by which I contact the Toronto network is called \"Route\", a route embeds a connection to the location I'm trying to contact.\n",
    "\n",
    "In order for this notebook to work we need to play a few roles: \n",
    "1. The data scientist who knows \"Toronto Network\"\n",
    "2. The Toronto Network itself, which knows how to contact Cars in its known locations.\n",
    "3. A car that's subscribed to the Toronto Network that will receive the message and reply back.\n"
   ]
  },
  {
   "cell_type": "markdown",
   "metadata": {},
   "source": [
    "First step, let's setup some broadcasting utility functions."
   ]
  },
  {
   "cell_type": "code",
   "execution_count": 1,
   "metadata": {},
   "outputs": [],
   "source": [
    "import paho.mqtt.client as paho\n",
    "import syft as sy\n"
   ]
  },
  {
   "cell_type": "code",
   "execution_count": 2,
   "metadata": {},
   "outputs": [],
   "source": [
    "class PahoClient():\n",
    "\n",
    "    def __init__(self, host=\"localhost\", port=1883):\n",
    "        self.host = host\n",
    "        self.port = port\n",
    "        self.client = paho.Client()\n",
    "        self.client.on_subscribe = self.on_subscribe\n",
    "        self.client.on_message = self.on_message\n",
    "        self.client.on_publish = self.on_publish\n",
    "        self.client.on_log = self.on_log\n",
    "\n",
    "    def on_log(self, client, obj, level, string):\n",
    "        print(string)\n",
    "\n",
    "    def on_publish(self, client, userdata, mid):\n",
    "        pass\n",
    "    \n",
    "    def on_subscribe(self, client, userdata, mid, granted_qos):\n",
    "        print(\"Subscribed: \"+str(mid)+\" \"+str(granted_qos))\n",
    "\n",
    "    def on_message(self, client, userdata, msg):\n",
    "        print(msg.topic+\" \"+str(msg.qos)+\" \"+str(len(msg.payload)))        \n",
    "        \n",
    "        # TODO automatically resolve message type.\n",
    "        return self.recv_msg_without_reply(msg = msg.payload)\n",
    "\n",
    "    def send(self, topic, msg):\n",
    "        (rc, mid) = self.client.publish(topic, str(msg), qos=1, retain=False)\n",
    "\n",
    "    def connect(self):\n",
    "        self.client.connect(self.host, self.port)\n",
    "\n",
    "    def listen(self, topic, background = True):\n",
    "        if not self.client.is_connected():\n",
    "            self.connect()\n",
    "        self.client.subscribe(topic, qos=1)\n",
    "        if not background:\n",
    "            self.client.loop_forever()\n",
    "        else:\n",
    "            self.client.loop_start()\n",
    "            \n",
    "    def disconnect(self):\n",
    "        self.client.loop_stop() "
   ]
  },
  {
   "cell_type": "code",
   "execution_count": 3,
   "metadata": {},
   "outputs": [],
   "source": [
    "class BroadcastClientConnection(PahoClient, sy.core.io.connection.ClientConnection): \n",
    "    def send_immediate_msg_with_reply(self, msg): \n",
    "        if not self.client.is_connected(): \n",
    "            self.connect() \n",
    "        self.send(self.topic, msg) \n",
    "    def send_immediate_msg_without_reply(self, msg): \n",
    "        if not self.client.is_connected(): \n",
    "            self.connect() \n",
    "        self.send(self.topic, msg) "
   ]
  },
  {
   "cell_type": "code",
   "execution_count": 4,
   "metadata": {},
   "outputs": [],
   "source": [
    "class BroadcastServerConnection(PahoClient, sy.core.io.connection.ServerConnection):\n",
    "    def __init__(self, node):\n",
    "        self.node = node\n",
    "        super().__init__()\n",
    "\n",
    "    def recv_immediate_msg_with_reply(self, msg):\n",
    "        return self.node.recv_msg_with_reply(msg=msg)\n",
    "\n",
    "    def recv_immediate_msg_without_reply(self, msg):\n",
    "        self.node.recv_msg_without_reply(msg=msg)\n"
   ]
  },
  {
   "cell_type": "markdown",
   "metadata": {},
   "source": [
    "## Step 1: as a data scientist who knows the network, let's send the network a message."
   ]
  },
  {
   "cell_type": "code",
   "execution_count": 5,
   "metadata": {},
   "outputs": [],
   "source": [
    "# I know the location of this network through this topic.\n",
    "_ = sy.core.io.location.Location()\n",
    "toronto_cars_network = sy.core.io.location.SubscriptionBackedLocationGroup(topic = 'toronto-cars', known_group_members = [_])"
   ]
  },
  {
   "cell_type": "code",
   "execution_count": 6,
   "metadata": {},
   "outputs": [
    {
     "name": "stdout",
     "output_type": "stream",
     "text": [
      "Sending CONNECT (u0, p0, wr0, wq0, wf0, c1, k60) client_id=b''\n",
      "Sending PUBLISH (d0, q1, r0, m1), 'b'toronto-cars'', ... (81 bytes)\n"
     ]
    }
   ],
   "source": [
    "# let's self identify (future: this will be done through auth)\n",
    "iam = sy.common.object.ObjectWithID()\n",
    "\n",
    "# setup a route to this known location\n",
    "route = sy.core.io.route.BroadcastRoute(source = iam.id, destination = toronto_cars_network, connection = BroadcastClientConnection())\n",
    "\n",
    "# cotact toronto cars network.\n",
    "network_client = sy.Network(name = \"toronto-cars\").get_client(routes = [route])\n",
    "\n",
    "# now let's create a message that has an address\n",
    "unspecified = sy.core.io.address.Unspecified()\n",
    "all_ = sy.core.io.address.All()\n",
    "address = sy.core.io.address.address(network = network_client.name, domain = all_, device = unspecified, vm = unspecified)\n",
    "\n",
    "# now let's send them a message\n",
    "network_client.send_immediate_msg_without_reply(msg = sy.ReprMessage(address = address))"
   ]
  },
  {
   "cell_type": "markdown",
   "metadata": {},
   "source": [
    "### Great! now that we know we can send a message to the network, let's pretend to be the network and see what happens on the network's end.\n",
    "\n",
    "first we have to start a network server that can listen on messages."
   ]
  },
  {
   "cell_type": "code",
   "execution_count": 7,
   "metadata": {},
   "outputs": [],
   "source": [
    "# start a network server to listen on messages.\n",
    "network_node = sy.Network(name = \"toronto-cars\")\n",
    "network_operator_server = BroadcastServerConnection(network_node)"
   ]
  },
  {
   "cell_type": "code",
   "execution_count": 8,
   "metadata": {},
   "outputs": [
    {
     "name": "stdout",
     "output_type": "stream",
     "text": [
      "Sending CONNECT (u0, p0, wr0, wq0, wf0, c1, k60) client_id=b''\n",
      "Sending SUBSCRIBE (d0, m1) [(b'toronto-cars', 1)]\n",
      "Received CONNACK (0, 0)\n",
      "Received SUBACK\n",
      "Subscribed: 1 (1,)\n"
     ]
    }
   ],
   "source": [
    "network_operator_server.listen(topic = 'toronto-cars')"
   ]
  },
  {
   "cell_type": "markdown",
   "metadata": {},
   "source": [
    "now that someone is listening, let's send the message again."
   ]
  },
  {
   "cell_type": "code",
   "execution_count": 9,
   "metadata": {},
   "outputs": [
    {
     "name": "stdout",
     "output_type": "stream",
     "text": [
      "Sending CONNECT (u0, p0, wr0, wq0, wf0, c1, k60) client_id=b''\n",
      "Sending PUBLISH (d0, q1, r0, m2), 'b'toronto-cars'', ... (81 bytes)\n",
      "Received PUBLISH (d0, q1, r0, m1), 'toronto-cars', ...  (81 bytes)\n",
      "Sending PUBACK (Mid: 1)\n",
      "toronto-cars 1 81\n",
      "Caught exception in on_message: 'BroadcastServerConnection' object has no attribute 'recv_msg_without_reply'\n"
     ]
    }
   ],
   "source": [
    "network_client.send_immediate_msg_without_reply(msg = sy.ReprMessage(address = address))"
   ]
  },
  {
   "cell_type": "code",
   "execution_count": 10,
   "metadata": {},
   "outputs": [],
   "source": [
    "network_operator_server.disconnect()"
   ]
  },
  {
   "cell_type": "markdown",
   "metadata": {},
   "source": [
    "Awesome! now we know the network got the message. The exception you see above is because of trying to send a python object over the wire\n",
    "we have to introduce serialization to make this problem disappear."
   ]
  },
  {
   "cell_type": "markdown",
   "metadata": {},
   "source": [
    "### STEP 2: Now let's pretend to be a domain in the Toronto Cars network and see if the network is going to forward me the message.\n"
   ]
  },
  {
   "cell_type": "code",
   "execution_count": 11,
   "metadata": {},
   "outputs": [],
   "source": [
    "domain_node = sy.Domain(name = 'mama-johns-car')"
   ]
  },
  {
   "cell_type": "code",
   "execution_count": 12,
   "metadata": {},
   "outputs": [],
   "source": [
    "domain_operator_server = BroadcastServerConnection(domain_node)"
   ]
  },
  {
   "cell_type": "markdown",
   "metadata": {},
   "source": [
    "now let's assume that the network and its cars communicate on their own private channel, let's call it: \"toronto-internal-car-channel\"\n",
    "\n",
    "before we listen to this channel, we have to make sure the network operator knows about it."
   ]
  },
  {
   "cell_type": "code",
   "execution_count": 13,
   "metadata": {},
   "outputs": [],
   "source": [
    "#domain_operator_server.listen(\"toronto-internal-car-channel\")"
   ]
  },
  {
   "cell_type": "code",
   "execution_count": null,
   "metadata": {},
   "outputs": [],
   "source": []
  }
 ],
 "metadata": {
  "kernelspec": {
   "display_name": "Python 3",
   "language": "python",
   "name": "python3"
  },
  "language_info": {
   "codemirror_mode": {
    "name": "ipython",
    "version": 3
   },
   "file_extension": ".py",
   "mimetype": "text/x-python",
   "name": "python",
   "nbconvert_exporter": "python",
   "pygments_lexer": "ipython3",
   "version": "3.7.6"
  }
 },
 "nbformat": 4,
 "nbformat_minor": 4
}

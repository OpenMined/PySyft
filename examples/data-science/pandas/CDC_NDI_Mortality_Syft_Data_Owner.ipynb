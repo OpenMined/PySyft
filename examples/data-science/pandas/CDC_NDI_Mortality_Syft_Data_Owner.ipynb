{
 "cells": [
  {
   "cell_type": "markdown",
   "id": "empty-wound",
   "metadata": {},
   "source": [
    "# CDC NDI Mortality - Syft Duet - Data Owner 🎸"
   ]
  },
  {
   "cell_type": "markdown",
   "id": "adaptive-symphony",
   "metadata": {},
   "source": [
    "This worksheet is intended to illustrate functionality of a shared statistical platform, using a partially synthetic public-use dataset that mirrors the restricted-use dataset. Ultimately, these processes would apply to the restricted-use data.\n",
    "\n",
    "Sample data compiled from the public-use linked mortality files share at https://www.cdc.gov/nchs/data-linkage/mortality.htm provided by the National Center for Health Statistics (NCHS)."
   ]
  },
  {
   "cell_type": "markdown",
   "id": "established-guidance",
   "metadata": {},
   "source": [
    "## PART 1: Launch a Duet Server and Connect\n",
    "\n",
    "As a Data Owner, you want to allow someone else to perform data science on data that you own and likely want to protect.\n",
    "\n",
    "In order to do this, we must load our data into a locally running server within this notebook. We call this server a \"Duet\".\n",
    "\n",
    "To begin, you must launch Duet and help your Duet \"partner\" (a Data Scientist) connect to this server.\n",
    "\n",
    "You do this by running the code below and sending the code snippet containing your unique Server ID to your partner and following the instructions it gives!"
   ]
  },
  {
   "cell_type": "code",
   "execution_count": null,
   "id": "sorted-breach",
   "metadata": {},
   "outputs": [],
   "source": [
    "import syft as sy\n",
    "\n",
    "duet = sy.launch_duet(loopback=True)"
   ]
  },
  {
   "cell_type": "code",
   "execution_count": null,
   "id": "fuzzy-abortion",
   "metadata": {},
   "outputs": [],
   "source": [
    "sy.load(\"pandas\")"
   ]
  },
  {
   "cell_type": "code",
   "execution_count": null,
   "id": "committed-stable",
   "metadata": {},
   "outputs": [],
   "source": [
    "duet.requests.add_handler(action=\"accept\")"
   ]
  },
  {
   "cell_type": "code",
   "execution_count": null,
   "id": "protected-motivation",
   "metadata": {},
   "outputs": [],
   "source": [
    "# download data\n",
    "from syft.util import get_root_data_path\n",
    "import urllib.request\n",
    "import shutil\n",
    "import os\n",
    "\n",
    "csv_file = \"mort_match_nhis_all_years.csv\"\n",
    "zip_file = f\"{csv_file}.zip\"\n",
    "url = f\"https://datahub.io/madhava/mort_match_nhis_all_years/r/{zip_file}\"\n",
    "data_path = f\"{get_root_data_path()}/CDC\"\n",
    "zip_path = f\"{data_path}/{zip_file}\"\n",
    "csv_path = f\"{data_path}/{csv_file.upper()}\"\n",
    "if not os.path.exists(zip_path):\n",
    "    os.makedirs(data_path, exist_ok=True)\n",
    "    urllib.request.urlretrieve(url, zip_path)\n",
    "if not os.path.exists(csv_path):\n",
    "    shutil.unpack_archive(zip_path, data_path)\n",
    "assert os.path.exists(csv_path)\n",
    "csv_path"
   ]
  },
  {
   "cell_type": "code",
   "execution_count": null,
   "id": "tough-tension",
   "metadata": {},
   "outputs": [],
   "source": [
    "import pandas as pd\n",
    "\n",
    "df = pd.read_csv(csv_path)\n",
    "df[df.MORTSTAT == 0].head()"
   ]
  },
  {
   "cell_type": "code",
   "execution_count": null,
   "id": "placed-satin",
   "metadata": {},
   "outputs": [],
   "source": [
    "# TODO: fix size issues / serde performance\n",
    "df = df.head(10000)  # make smaller\n",
    "len(df)"
   ]
  },
  {
   "cell_type": "code",
   "execution_count": null,
   "id": "religious-aviation",
   "metadata": {},
   "outputs": [],
   "source": [
    "df_ptr = df.send(duet, tags=[\"df\"])"
   ]
  },
  {
   "cell_type": "code",
   "execution_count": null,
   "id": "protected-calculation",
   "metadata": {},
   "outputs": [],
   "source": [
    "df"
   ]
  },
  {
   "cell_type": "code",
   "execution_count": null,
   "id": "accomplished-builder",
   "metadata": {},
   "outputs": [],
   "source": [
    "# local stats\n",
    "\n",
    "# Select the records that died by cancer that were eligible for linkage\n",
    "# 002-Malignant neoplasms (C00-C97)\n",
    "cancer = df[(df.UCOD_LEADING == 2) & (df.ELIGSTAT == 1)]\n",
    "\n",
    "# Select the records that died due to heart disease and were eligible for linkage\n",
    "# 001-Diseases of heart (I00-I09, I11, I13, I20-I51)\n",
    "heart = df[(df.UCOD_LEADING == 1) & (df.ELIGSTAT == 1)]"
   ]
  },
  {
   "cell_type": "code",
   "execution_count": null,
   "id": "going-macro",
   "metadata": {},
   "outputs": [],
   "source": [
    "# Compute simple means and for the cancer and heart subgroups that had diabetes\n",
    "# listed as a multiple cause of death\n",
    "cancer[\"DIABETES\"].mean()"
   ]
  },
  {
   "cell_type": "code",
   "execution_count": null,
   "id": "global-wages",
   "metadata": {},
   "outputs": [],
   "source": [
    "# Compute simple means and standard deviations for the cancer and heart subgroups\n",
    "# that had diabetes as a multiple cause of death\n",
    "heart[\"DIABETES\"].mean()"
   ]
  },
  {
   "cell_type": "code",
   "execution_count": null,
   "id": "clean-affairs",
   "metadata": {},
   "outputs": [],
   "source": [
    "# Sample means data should account for weights. Write a custom function that uses the weights.\n",
    "\n",
    "\n",
    "def weighted_mean(dx, key, weight_key=\"WGT_NEW\"):\n",
    "    w = dx[weight_key]\n",
    "    v = dx[key]\n",
    "    return (w * v).sum() / w.sum()\n",
    "\n",
    "\n",
    "weighted_mean(cancer, \"DIABETES\"), weighted_mean(heart, \"DIABETES\")"
   ]
  },
  {
   "cell_type": "code",
   "execution_count": null,
   "id": "planned-endorsement",
   "metadata": {},
   "outputs": [],
   "source": [
    "# Example of a small subgroup (sample size = 6)\n",
    "# Cancer-deaths from males aged 47 who died in 2015\n",
    "# We should check for small cell sizes here\n",
    "# subgroup = cancer[(cancer.SEX==1) & (cancer.AGE_P==47) & (cancer.DODYEAR==2001)]\n",
    "\n",
    "# run different query that matches in the first 10k records from above\n",
    "# df = df.head(10000)  # make smaller\n",
    "subgroup = cancer[(cancer.SEX == 1) & (cancer.AGE_P == 51) & (cancer.DODYEAR == 2013)]\n",
    "print(subgroup[\"DIABETES\"].mean())\n",
    "print(weighted_mean(subgroup, \"DIABETES\"))\n",
    "print(len(subgroup))\n",
    "\n",
    "# These stats are problematic, as the subgroup is too small to report (n=6)\n",
    "subgroup"
   ]
  },
  {
   "cell_type": "code",
   "execution_count": null,
   "id": "accomplished-assembly",
   "metadata": {},
   "outputs": [],
   "source": [
    "# import statsmodels.api as sm\n",
    "# from statsmodels.genmod.generalized_linear_model import GLM\n",
    "# from statsmodels.genmod.families import Binomial\n",
    "\n",
    "# Drop any missing values in the dataset (those under 18)\n",
    "df = df.dropna(subset=[\"MORTSTAT\"])\n",
    "# Keep only the eligible portion\n",
    "df = df[df.ELIGSTAT == 1]\n",
    "\n",
    "# Ignore people > 80\n",
    "df = df[df.AGE_P <= 80]\n",
    "\n",
    "# A person is alive if MORTSTAT==0\n",
    "df[\"is_alive\"] = df.MORTSTAT == 0\n",
    "\n",
    "# Assign a helpful column for sex (0==male, 1==female)\n",
    "df[\"sex\"] = \"male\"\n",
    "df.loc[df.SEX == 2, \"sex\"] = \"female\"\n",
    "\n",
    "x = df[\"AGE_P\"]\n",
    "# _x = sm.add_constant(x)\n",
    "_y = df[\"is_alive\"]\n",
    "\n",
    "# results = GLM(_y, _x, family=Binomial()).fit()\n",
    "# print(results.summary())"
   ]
  },
  {
   "cell_type": "code",
   "execution_count": null,
   "id": "composed-constitution",
   "metadata": {},
   "outputs": [],
   "source": [
    "df"
   ]
  },
  {
   "cell_type": "code",
   "execution_count": null,
   "id": "interested-nightmare",
   "metadata": {},
   "outputs": [],
   "source": [
    "x, _y"
   ]
  },
  {
   "cell_type": "code",
   "execution_count": null,
   "id": "surface-sitting",
   "metadata": {},
   "outputs": [],
   "source": [
    "# import pylab as plt\n",
    "# # import seaborn as sns\n",
    "\n",
    "# plt.figure(figsize=(12,5))\n",
    "# predict_x = range(x.min(), x.max()+1, 1)\n",
    "# plt.plot(predict_x, results.predict(sm.add_constant(predict_x)), 'k', lw=3,\n",
    "#          label='Best Fit for all data')\n",
    "# sns.lineplot(\n",
    "#     data=df, x='AGE_P', y='is_alive', hue='sex',\n",
    "#     err_style=\"bars\")\n",
    "# sns.despine()"
   ]
  },
  {
   "cell_type": "code",
   "execution_count": null,
   "id": "charming-february",
   "metadata": {},
   "outputs": [],
   "source": []
  }
 ],
 "metadata": {
  "kernelspec": {
   "display_name": "Python 3",
   "language": "python",
   "name": "python3"
  },
  "language_info": {
   "codemirror_mode": {
    "name": "ipython",
    "version": 3
   },
   "file_extension": ".py",
   "mimetype": "text/x-python",
   "name": "python",
   "nbconvert_exporter": "python",
   "pygments_lexer": "ipython3",
   "version": "3.9.2"
  }
 },
 "nbformat": 4,
 "nbformat_minor": 5
}

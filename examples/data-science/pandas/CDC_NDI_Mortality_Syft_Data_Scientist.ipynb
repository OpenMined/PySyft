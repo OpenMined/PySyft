{
 "cells": [
  {
   "cell_type": "markdown",
   "id": "finnish-catholic",
   "metadata": {},
   "source": [
    "# CDC NDI Mortality - Syft Duet - Data Scientist 🥁"
   ]
  },
  {
   "cell_type": "markdown",
   "id": "colored-rebecca",
   "metadata": {},
   "source": [
    "This worksheet is intended to illustrate functionality of a shared statistical platform, using a partially synthetic public-use dataset that mirrors the restricted-use dataset. Ultimately, these processes would apply to the restricted-use data.\n",
    "\n",
    "Sample data compiled from the public-use linked mortality files share at https://www.cdc.gov/nchs/data-linkage/mortality.htm provided by the National Center for Health Statistics (NCHS)."
   ]
  },
  {
   "cell_type": "markdown",
   "id": "virgin-cache",
   "metadata": {},
   "source": [
    "## PART 1: Connect to a Remote Duet Server\n",
    "\n",
    "As the Data Scientist, you want to perform data science on data that is sitting in the Data Owner's Duet server in their Notebook.\n",
    "\n",
    "In order to do this, we must run the code that the Data Owner sends us, which importantly includes their Duet Session ID. The code will look like this, importantly with their real Server ID.\n",
    "\n",
    "```\n",
    "import syft as sy\n",
    "duet = sy.duet('xxxxxxxxxxxxxxxxxxxxxxxxxxxxxxxx')\n",
    "```\n",
    "\n",
    "This will create a direct connection from my notebook to the remote Duet server. Once the connection is established all traffic is sent directly between the two nodes.\n",
    "\n",
    "Paste the code or Server ID that the Data Owner gives you and run it in the cell below. It will return your Client ID which you must send to the Data Owner to enter into Duet so it can pair your notebooks."
   ]
  },
  {
   "cell_type": "code",
   "execution_count": 1,
   "id": "requested-aircraft",
   "metadata": {},
   "outputs": [
    {
     "data": {
      "image/png": "[encoded data removed]",
      "text/plain": [
       "<IPython.core.display.Image object>"
      ]
     },
     "metadata": {
      "image/png": {
       "unconfined": true,
       "width": 400
      }
     },
     "output_type": "display_data"
    },
    {
     "name": "stdout",
     "output_type": "stream",
     "text": [
      "🎤  🎸  ♪♪♪ Joining Duet ♫♫♫  🎻  🎹\n",
      "\n",
      "♫♫♫ >\u001b[93m DISCLAIMER\u001b[0m: \u001b[1mDuet is an experimental feature currently in beta.\n",
      "♫♫♫ > Use at your own risk.\n",
      "\u001b[0m\n",
      "\u001b[1m\n",
      "    > ❤️ \u001b[91mLove\u001b[0m \u001b[92mDuet\u001b[0m? \u001b[93mPlease\u001b[0m \u001b[94mconsider\u001b[0m \u001b[95msupporting\u001b[0m \u001b[91mour\u001b[0m \u001b[93mcommunity!\u001b[0m\n",
      "    > https://github.com/sponsors/OpenMined\u001b[1m\n",
      "\n",
      "♫♫♫ > Punching through firewall to OpenGrid Network Node at:\n",
      "♫♫♫ > http://ec2-18-216-8-163.us-east-2.compute.amazonaws.com:5000\n",
      "♫♫♫ >\n",
      "♫♫♫ > ...waiting for response from OpenGrid Network... \n",
      "♫♫♫ > \u001b[92mDONE!\u001b[0m\n",
      "\n",
      "♫♫♫ > \u001b[92mCONNECTED!\u001b[0m\n"
     ]
    }
   ],
   "source": [
    "import syft as sy\n",
    "\n",
    "duet = sy.join_duet(loopback=True)"
   ]
  },
  {
   "cell_type": "markdown",
   "id": "covered-synthesis",
   "metadata": {},
   "source": [
    "### <img src=\"https://github.com/OpenMined/design-assets/raw/master/logos/OM/mark-primary-light.png\" alt=\"he-black-box\" width=\"100\"/> Checkpoint 0 : Now STOP and run the Data Owner notebook until the next checkpoint."
   ]
  },
  {
   "cell_type": "code",
   "execution_count": 2,
   "id": "intellectual-supply",
   "metadata": {},
   "outputs": [],
   "source": [
    "sy.load(\"pandas\")\n",
    "sy.load(\"statsmodels\")\n",
    "sy.load(\"numpy\")"
   ]
  },
  {
   "cell_type": "code",
   "execution_count": 3,
   "id": "ultimate-witch",
   "metadata": {},
   "outputs": [
    {
     "data": {
      "text/html": [
       "<div>\n",
       "<style scoped>\n",
       "    .dataframe tbody tr th:only-of-type {\n",
       "        vertical-align: middle;\n",
       "    }\n",
       "\n",
       "    .dataframe tbody tr th {\n",
       "        vertical-align: top;\n",
       "    }\n",
       "\n",
       "    .dataframe thead th {\n",
       "        text-align: right;\n",
       "    }\n",
       "</style>\n",
       "<table border=\"1\" class=\"dataframe\">\n",
       "  <thead>\n",
       "    <tr style=\"text-align: right;\">\n",
       "      <th></th>\n",
       "      <th>ID</th>\n",
       "      <th>Tags</th>\n",
       "      <th>Description</th>\n",
       "      <th>object_type</th>\n",
       "    </tr>\n",
       "  </thead>\n",
       "  <tbody>\n",
       "    <tr>\n",
       "      <th>0</th>\n",
       "      <td>&lt;UID: 366f228c348e4ad9894ee0380d7a86a2&gt;</td>\n",
       "      <td>[df]</td>\n",
       "      <td></td>\n",
       "      <td>&lt;class 'pandas.core.frame.DataFrame'&gt;</td>\n",
       "    </tr>\n",
       "    <tr>\n",
       "      <th>1</th>\n",
       "      <td>&lt;UID: 1e315cab07d9410cabfc64afa48c9437&gt;</td>\n",
       "      <td>[preds]</td>\n",
       "      <td></td>\n",
       "      <td>&lt;class 'numpy.ndarray'&gt;</td>\n",
       "    </tr>\n",
       "  </tbody>\n",
       "</table>\n",
       "</div>"
      ],
      "text/plain": [
       "                                        ID     Tags Description  \\\n",
       "0  <UID: 366f228c348e4ad9894ee0380d7a86a2>     [df]               \n",
       "1  <UID: 1e315cab07d9410cabfc64afa48c9437>  [preds]               \n",
       "\n",
       "                             object_type  \n",
       "0  <class 'pandas.core.frame.DataFrame'>  \n",
       "1                <class 'numpy.ndarray'>  "
      ]
     },
     "execution_count": 3,
     "metadata": {},
     "output_type": "execute_result"
    }
   ],
   "source": [
    "duet.store.pandas"
   ]
  },
  {
   "cell_type": "code",
   "execution_count": 4,
   "id": "incorrect-night",
   "metadata": {},
   "outputs": [],
   "source": [
    "df_ptr = duet.store[\"df\"]"
   ]
  },
  {
   "cell_type": "code",
   "execution_count": 5,
   "id": "quality-journalism",
   "metadata": {},
   "outputs": [],
   "source": [
    "cancer_ptr = df_ptr[(df_ptr[\"UCOD_LEADING\"] == 2) & (df_ptr[\"ELIGSTAT\"] == 1)]"
   ]
  },
  {
   "cell_type": "code",
   "execution_count": 6,
   "id": "seeing-chance",
   "metadata": {},
   "outputs": [],
   "source": [
    "heart_ptr = df_ptr[(df_ptr[\"UCOD_LEADING\"] == 1) & (df_ptr[\"ELIGSTAT\"] == 1)]"
   ]
  },
  {
   "cell_type": "code",
   "execution_count": 7,
   "id": "absolute-veteran",
   "metadata": {},
   "outputs": [],
   "source": [
    "# Compute simple means and for the cancer and heart subgroups that had diabetes\n",
    "# listed as a multiple cause of death\n",
    "cancer_mean_ptr = cancer_ptr[\"DIABETES\"].mean()"
   ]
  },
  {
   "cell_type": "code",
   "execution_count": 8,
   "id": "interpreted-papua",
   "metadata": {},
   "outputs": [],
   "source": [
    "# Compute simple means and standard deviations for the cancer and heart subgroups\n",
    "# that had diabetes as a multiple cause of death\n",
    "heart_mean_ptr = heart_ptr[\"DIABETES\"].mean()"
   ]
  },
  {
   "cell_type": "code",
   "execution_count": 9,
   "id": "cardiac-morgan",
   "metadata": {},
   "outputs": [
    {
     "data": {
      "text/plain": [
       "0.054508406668901443"
      ]
     },
     "execution_count": 9,
     "metadata": {},
     "output_type": "execute_result"
    }
   ],
   "source": [
    "cancer_mean = cancer_mean_ptr.get(request_block=True, delete_obj=False)\n",
    "cancer_mean"
   ]
  },
  {
   "cell_type": "code",
   "execution_count": 10,
   "id": "senior-grammar",
   "metadata": {},
   "outputs": [
    {
     "data": {
      "text/plain": [
       "0.12796705961227417"
      ]
     },
     "execution_count": 10,
     "metadata": {},
     "output_type": "execute_result"
    }
   ],
   "source": [
    "heart_mean = heart_mean_ptr.get(request_block=True, delete_obj=False)\n",
    "heart_mean"
   ]
  },
  {
   "cell_type": "code",
   "execution_count": 11,
   "id": "composed-adobe",
   "metadata": {},
   "outputs": [],
   "source": [
    "# Sample means data should account for weights. Write a custom function that uses the weights.\n",
    "\n",
    "\n",
    "def weighted_mean(dx, key, weight_key=\"WGT_NEW\"):\n",
    "    w = dx[weight_key]\n",
    "    v = dx[key]\n",
    "    return (w * v).sum() / w.sum()\n",
    "\n",
    "\n",
    "cancer_wm_ptr = weighted_mean(cancer_ptr, \"DIABETES\")\n",
    "heart_wm_ptr = weighted_mean(heart_ptr, \"DIABETES\")"
   ]
  },
  {
   "cell_type": "code",
   "execution_count": 12,
   "id": "thermal-vulnerability",
   "metadata": {},
   "outputs": [
    {
     "name": "stdout",
     "output_type": "stream",
     "text": [
      "0.1666666716337204\n",
      "0.1967846006155014\n",
      "6\n"
     ]
    },
    {
     "data": {
      "text/html": [
       "<div>\n",
       "<style scoped>\n",
       "    .dataframe tbody tr th:only-of-type {\n",
       "        vertical-align: middle;\n",
       "    }\n",
       "\n",
       "    .dataframe tbody tr th {\n",
       "        vertical-align: top;\n",
       "    }\n",
       "\n",
       "    .dataframe thead th {\n",
       "        text-align: right;\n",
       "    }\n",
       "</style>\n",
       "<table border=\"1\" class=\"dataframe\">\n",
       "  <thead>\n",
       "    <tr style=\"text-align: right;\">\n",
       "      <th></th>\n",
       "      <th>data_year</th>\n",
       "      <th>ID_PERSON</th>\n",
       "      <th>SEX</th>\n",
       "      <th>AGE_P</th>\n",
       "      <th>STRATUM</th>\n",
       "      <th>PSU</th>\n",
       "      <th>ELIGSTAT</th>\n",
       "      <th>MORTSTAT</th>\n",
       "      <th>UCOD_LEADING</th>\n",
       "      <th>DIABETES</th>\n",
       "      <th>HYPERTEN</th>\n",
       "      <th>DODQTR</th>\n",
       "      <th>DODYEAR</th>\n",
       "      <th>WGT_NEW</th>\n",
       "      <th>SA_WGT_NEW</th>\n",
       "    </tr>\n",
       "  </thead>\n",
       "  <tbody>\n",
       "    <tr>\n",
       "      <th>43063</th>\n",
       "      <td>1998</td>\n",
       "      <td>19980303850101</td>\n",
       "      <td>1</td>\n",
       "      <td>47</td>\n",
       "      <td>84</td>\n",
       "      <td>2</td>\n",
       "      <td>1</td>\n",
       "      <td>1.0</td>\n",
       "      <td>2.0</td>\n",
       "      <td>0.0</td>\n",
       "      <td>0.0</td>\n",
       "      <td>2.0</td>\n",
       "      <td>2015.0</td>\n",
       "      <td>3666.0</td>\n",
       "      <td>4214.0</td>\n",
       "    </tr>\n",
       "    <tr>\n",
       "      <th>93051</th>\n",
       "      <td>1999</td>\n",
       "      <td>19990600490101</td>\n",
       "      <td>1</td>\n",
       "      <td>47</td>\n",
       "      <td>298</td>\n",
       "      <td>2</td>\n",
       "      <td>1</td>\n",
       "      <td>1.0</td>\n",
       "      <td>2.0</td>\n",
       "      <td>1.0</td>\n",
       "      <td>1.0</td>\n",
       "      <td>2.0</td>\n",
       "      <td>2015.0</td>\n",
       "      <td>4333.0</td>\n",
       "      <td>21608.0</td>\n",
       "    </tr>\n",
       "    <tr>\n",
       "      <th>111480</th>\n",
       "      <td>2000</td>\n",
       "      <td>20000260900102</td>\n",
       "      <td>1</td>\n",
       "      <td>47</td>\n",
       "      <td>336</td>\n",
       "      <td>1</td>\n",
       "      <td>1</td>\n",
       "      <td>1.0</td>\n",
       "      <td>2.0</td>\n",
       "      <td>0.0</td>\n",
       "      <td>0.0</td>\n",
       "      <td>1.0</td>\n",
       "      <td>2015.0</td>\n",
       "      <td>4034.0</td>\n",
       "      <td>15016.0</td>\n",
       "    </tr>\n",
       "    <tr>\n",
       "      <th>262634</th>\n",
       "      <td>2005</td>\n",
       "      <td>20050103300101</td>\n",
       "      <td>1</td>\n",
       "      <td>47</td>\n",
       "      <td>314</td>\n",
       "      <td>1</td>\n",
       "      <td>1</td>\n",
       "      <td>1.0</td>\n",
       "      <td>2.0</td>\n",
       "      <td>0.0</td>\n",
       "      <td>0.0</td>\n",
       "      <td>4.0</td>\n",
       "      <td>2015.0</td>\n",
       "      <td>5676.0</td>\n",
       "      <td>12845.0</td>\n",
       "    </tr>\n",
       "    <tr>\n",
       "      <th>308083</th>\n",
       "      <td>2006</td>\n",
       "      <td>20060401920101</td>\n",
       "      <td>1</td>\n",
       "      <td>47</td>\n",
       "      <td>265</td>\n",
       "      <td>1</td>\n",
       "      <td>1</td>\n",
       "      <td>1.0</td>\n",
       "      <td>2.0</td>\n",
       "      <td>0.0</td>\n",
       "      <td>0.0</td>\n",
       "      <td>3.0</td>\n",
       "      <td>2015.0</td>\n",
       "      <td>2637.0</td>\n",
       "      <td>3258.0</td>\n",
       "    </tr>\n",
       "    <tr>\n",
       "      <th>438672</th>\n",
       "      <td>2011</td>\n",
       "      <td>20110521610101</td>\n",
       "      <td>1</td>\n",
       "      <td>47</td>\n",
       "      <td>13</td>\n",
       "      <td>1</td>\n",
       "      <td>1</td>\n",
       "      <td>1.0</td>\n",
       "      <td>2.0</td>\n",
       "      <td>0.0</td>\n",
       "      <td>0.0</td>\n",
       "      <td>4.0</td>\n",
       "      <td>2015.0</td>\n",
       "      <td>1673.0</td>\n",
       "      <td>7003.0</td>\n",
       "    </tr>\n",
       "  </tbody>\n",
       "</table>\n",
       "</div>"
      ],
      "text/plain": [
       "        data_year       ID_PERSON  SEX  AGE_P  STRATUM  PSU  ELIGSTAT  \\\n",
       "43063        1998  19980303850101    1     47       84    2         1   \n",
       "93051        1999  19990600490101    1     47      298    2         1   \n",
       "111480       2000  20000260900102    1     47      336    1         1   \n",
       "262634       2005  20050103300101    1     47      314    1         1   \n",
       "308083       2006  20060401920101    1     47      265    1         1   \n",
       "438672       2011  20110521610101    1     47       13    1         1   \n",
       "\n",
       "        MORTSTAT  UCOD_LEADING  DIABETES  HYPERTEN  DODQTR  DODYEAR  WGT_NEW  \\\n",
       "43063        1.0           2.0       0.0       0.0     2.0   2015.0   3666.0   \n",
       "93051        1.0           2.0       1.0       1.0     2.0   2015.0   4333.0   \n",
       "111480       1.0           2.0       0.0       0.0     1.0   2015.0   4034.0   \n",
       "262634       1.0           2.0       0.0       0.0     4.0   2015.0   5676.0   \n",
       "308083       1.0           2.0       0.0       0.0     3.0   2015.0   2637.0   \n",
       "438672       1.0           2.0       0.0       0.0     4.0   2015.0   1673.0   \n",
       "\n",
       "        SA_WGT_NEW  \n",
       "43063       4214.0  \n",
       "93051      21608.0  \n",
       "111480     15016.0  \n",
       "262634     12845.0  \n",
       "308083      3258.0  \n",
       "438672      7003.0  "
      ]
     },
     "execution_count": 12,
     "metadata": {},
     "output_type": "execute_result"
    }
   ],
   "source": [
    "# Example of a small subgroup (sample size = 6)\n",
    "# Cancer-deaths from males aged 47 who died in 2015\n",
    "# We should check for small cell sizes here\n",
    "subgroup = cancer_ptr[\n",
    "    (cancer_ptr[\"SEX\"] == 1)\n",
    "    & (cancer_ptr[\"AGE_P\"] == 47)\n",
    "    & (cancer_ptr[\"DODYEAR\"] == 2015)\n",
    "]\n",
    "print(subgroup[\"DIABETES\"].mean().get(request_block=True, delete_obj=False))\n",
    "print(weighted_mean(subgroup, \"DIABETES\").get(request_block=True, delete_obj=False))\n",
    "print(len(subgroup))\n",
    "\n",
    "# These stats are problematic, as the subgroup is too small to report (n=6)\n",
    "subgroup.get(request_block=True, delete_obj=False)"
   ]
  },
  {
   "cell_type": "code",
   "execution_count": 13,
   "id": "portuguese-revolution",
   "metadata": {},
   "outputs": [],
   "source": [
    "# import statsmodels.api as sm\n",
    "# from statsmodels.genmod.generalized_linear_model import GLM\n",
    "# from statsmodels.genmod.families import Binomial\n",
    "\n",
    "# # Drop any missing values in the dataset (those under 18)\n",
    "# df = df.dropna(subset=[\"MORTSTAT\"])\n",
    "# # Keep only the eligible portion\n",
    "# df = df[df.ELIGSTAT == 1]\n",
    "\n",
    "# # Ignore people > 80\n",
    "# df = df[df.AGE_P <= 80]\n",
    "\n",
    "# # A person is alive if MORTSTAT==0\n",
    "# df[\"is_alive\"] = df.MORTSTAT == 0\n",
    "\n",
    "# # Assign a helpful column for sex (0==male, 1==female)\n",
    "# df[\"sex\"] = \"male\"\n",
    "# df.loc[df.SEX == 2, \"sex\"] = \"female\"\n",
    "\n",
    "# x = df[\"AGE_P\"]\n",
    "# _x = sm.add_constant(x)\n",
    "# _y = df[\"is_alive\"]\n",
    "\n",
    "# results = GLM(_y, _x, family=Binomial()).fit()\n",
    "# print(results.summary())"
   ]
  },
  {
   "cell_type": "code",
   "execution_count": 14,
   "id": "imperial-fiction",
   "metadata": {},
   "outputs": [
    {
     "data": {
      "text/plain": [
       "Module:\n",
       "\t.api -> Module:\n",
       "\t\t.add_constant -> <syft.ast.callable.Callable object at 0x0000017CEFB61E20>\n",
       "\n",
       "\t.genmod -> Module:\n",
       "\t\t.generalized_linear_model -> Module:\n",
       "\t\t\t.GLM -> <syft.ast.klass.Class object at 0x0000017CEFB619A0>\n",
       "\t\t\t.GLMResults -> <syft.ast.klass.Class object at 0x0000017CEFB61A00>\n",
       "\t\t\t.GLMResultsWrapper -> <syft.ast.klass.Class object at 0x0000017CEFB61A60>\n",
       "\n",
       "\t\t.families -> Module:\n",
       "\t\t\t.Binomial -> <syft.ast.klass.Class object at 0x0000017CEFB61B20>\n",
       "\t\t\t.Gamma -> <syft.ast.klass.Class object at 0x0000017CEFB61B80>\n",
       "\t\t\t.Gaussian -> <syft.ast.klass.Class object at 0x0000017CEFB61BE0>\n",
       "\t\t\t.InverseGaussian -> <syft.ast.klass.Class object at 0x0000017CEFB61C40>\n",
       "\t\t\t.NegativeBinomial -> <syft.ast.klass.Class object at 0x0000017CEFB61CA0>\n",
       "\t\t\t.Poisson -> <syft.ast.klass.Class object at 0x0000017CEFB61D00>\n",
       "\t\t\t.Tweedie -> <syft.ast.klass.Class object at 0x0000017CEFB61D60>\n",
       "\n",
       "\n",
       "\t.iolib -> Module:\n",
       "\t\t.summary -> Module:\n",
       "\t\t\t.Summary -> <syft.ast.klass.Class object at 0x0000017CEFB61AC0>\n",
       "\n"
      ]
     },
     "execution_count": 14,
     "metadata": {},
     "output_type": "execute_result"
    }
   ],
   "source": [
    "# see available remote statsmodel API\n",
    "duet.statsmodels"
   ]
  },
  {
   "cell_type": "code",
   "execution_count": 15,
   "id": "sapphire-lafayette",
   "metadata": {},
   "outputs": [],
   "source": [
    "# Drop any missing values in the dataset (those under 18)\n",
    "df = df_ptr.dropna(subset=[\"MORTSTAT\"])\n",
    "# Keep only the eligible portion\n",
    "df = df[df[\"ELIGSTAT\"] == 1]\n",
    "\n",
    "# Ignore people > 80\n",
    "df = df[df[\"AGE_P\"] <= 80]\n",
    "\n",
    "# A person is alive if MORTSTAT==0\n",
    "df[\"is_alive\"] = df[\"MORTSTAT\"] == 0\n",
    "\n",
    "# Assign a helpful column for sex (0==male, 1==female)\n",
    "df[\"sex\"] = \"male\"\n",
    "df.loc[df[\"SEX\"] == 2, \"sex\"] = \"female\"\n",
    "\n",
    "x_ptr = df[\"AGE_P\"]\n",
    "_x_ptr = duet.statsmodels.api.add_constant(x_ptr)\n",
    "_y_ptr = df[\"is_alive\"]\n",
    "\n",
    "model = duet.statsmodels.genmod.generalized_linear_model.GLM(\n",
    "    _y_ptr, _x_ptr, family=duet.statsmodels.genmod.families.Binomial()\n",
    ")\n",
    "results = model.fit()"
   ]
  },
  {
   "cell_type": "code",
   "execution_count": 16,
   "id": "progressive-specialist",
   "metadata": {},
   "outputs": [
    {
     "name": "stdout",
     "output_type": "stream",
     "text": [
      "            Generalized Linear Model Regression Results            \n",
      "Dep. Variable:  ,is_alive        ,  No. Observations:  ,504237     \n",
      "Model:          ,GLM             ,  Df Residuals:      ,504235     \n",
      "Model Family:   ,Binomial        ,  Df Model:          ,     1     \n",
      "Link Function:  ,logit           ,  Scale:             ,  1.0000   \n",
      "Method:         ,IRLS            ,  Log-Likelihood:    ,-1.3460e+05\n",
      "Date:           ,Tue, 04 May 2021,  Deviance:          ,2.6919e+05 \n",
      "Time:           ,18:25:33        ,  Pearson chi2:      ,5.53e+05   \n",
      "No. Iterations: ,7               ,                     ,           \n",
      "Covariance Type:,nonrobust       ,                     ,           \n",
      "     ,   coef   , std err ,    z    ,P>|z| ,  [0.025 ,  0.975] \n",
      "const,    6.3214,    0.022,  281.723, 0.000,    6.277,    6.365\n",
      "AGE_P,   -0.0773,    0.000, -212.030, 0.000,   -0.078,   -0.077\n"
     ]
    }
   ],
   "source": [
    "remote_summary = results.get(request_block=True, delete_obj=False)\n",
    "print(remote_summary)"
   ]
  },
  {
   "cell_type": "code",
   "execution_count": 17,
   "id": "finished-interface",
   "metadata": {},
   "outputs": [
    {
     "data": {
      "text/html": [
       "<div>\n",
       "<style scoped>\n",
       "    .dataframe tbody tr th:only-of-type {\n",
       "        vertical-align: middle;\n",
       "    }\n",
       "\n",
       "    .dataframe tbody tr th {\n",
       "        vertical-align: top;\n",
       "    }\n",
       "\n",
       "    .dataframe thead th {\n",
       "        text-align: right;\n",
       "    }\n",
       "</style>\n",
       "<table border=\"1\" class=\"dataframe\">\n",
       "  <thead>\n",
       "    <tr style=\"text-align: right;\">\n",
       "      <th></th>\n",
       "      <th>1</th>\n",
       "      <th>2</th>\n",
       "      <th>3</th>\n",
       "      <th>4</th>\n",
       "      <th>5</th>\n",
       "      <th>6</th>\n",
       "      <th>7</th>\n",
       "    </tr>\n",
       "  </thead>\n",
       "  <tbody>\n",
       "    <tr>\n",
       "      <th>0</th>\n",
       "      <td>Generalized Linear Model Regressio...</td>\n",
       "      <td>NaN</td>\n",
       "      <td>NaN</td>\n",
       "      <td>NaN</td>\n",
       "      <td>NaN</td>\n",
       "      <td>NaN</td>\n",
       "      <td>NaN</td>\n",
       "    </tr>\n",
       "    <tr>\n",
       "      <th>1</th>\n",
       "      <td>Dep. Variable:</td>\n",
       "      <td>is_alive</td>\n",
       "      <td>No. Observations:</td>\n",
       "      <td>504237</td>\n",
       "      <td>NaN</td>\n",
       "      <td>NaN</td>\n",
       "      <td>NaN</td>\n",
       "    </tr>\n",
       "    <tr>\n",
       "      <th>2</th>\n",
       "      <td>Model:</td>\n",
       "      <td>GLM</td>\n",
       "      <td>Df Residuals:</td>\n",
       "      <td>504235</td>\n",
       "      <td>NaN</td>\n",
       "      <td>NaN</td>\n",
       "      <td>NaN</td>\n",
       "    </tr>\n",
       "    <tr>\n",
       "      <th>3</th>\n",
       "      <td>Model Family:</td>\n",
       "      <td>Binomial</td>\n",
       "      <td>Df Model:</td>\n",
       "      <td>1</td>\n",
       "      <td>NaN</td>\n",
       "      <td>NaN</td>\n",
       "      <td>NaN</td>\n",
       "    </tr>\n",
       "    <tr>\n",
       "      <th>4</th>\n",
       "      <td>Link Function:</td>\n",
       "      <td>logit</td>\n",
       "      <td>Scale:</td>\n",
       "      <td>1.0000</td>\n",
       "      <td>NaN</td>\n",
       "      <td>NaN</td>\n",
       "      <td>NaN</td>\n",
       "    </tr>\n",
       "    <tr>\n",
       "      <th>5</th>\n",
       "      <td>Method:</td>\n",
       "      <td>IRLS</td>\n",
       "      <td>Log-Likelihood:</td>\n",
       "      <td>-1.3460e+05</td>\n",
       "      <td>NaN</td>\n",
       "      <td>NaN</td>\n",
       "      <td>NaN</td>\n",
       "    </tr>\n",
       "    <tr>\n",
       "      <th>6</th>\n",
       "      <td>Date:</td>\n",
       "      <td>Tue</td>\n",
       "      <td>04 May 2021</td>\n",
       "      <td>Deviance:</td>\n",
       "      <td>2.6919e+05</td>\n",
       "      <td>NaN</td>\n",
       "      <td>NaN</td>\n",
       "    </tr>\n",
       "    <tr>\n",
       "      <th>7</th>\n",
       "      <td>Time:</td>\n",
       "      <td>18:25:33</td>\n",
       "      <td>Pearson chi2:</td>\n",
       "      <td>5.53e+05</td>\n",
       "      <td>NaN</td>\n",
       "      <td>NaN</td>\n",
       "      <td>NaN</td>\n",
       "    </tr>\n",
       "    <tr>\n",
       "      <th>8</th>\n",
       "      <td>No. Iterations:</td>\n",
       "      <td>7</td>\n",
       "      <td></td>\n",
       "      <td></td>\n",
       "      <td>NaN</td>\n",
       "      <td>NaN</td>\n",
       "      <td>NaN</td>\n",
       "    </tr>\n",
       "    <tr>\n",
       "      <th>9</th>\n",
       "      <td>Covariance Type:</td>\n",
       "      <td>nonrobust</td>\n",
       "      <td></td>\n",
       "      <td></td>\n",
       "      <td>NaN</td>\n",
       "      <td>NaN</td>\n",
       "      <td>NaN</td>\n",
       "    </tr>\n",
       "    <tr>\n",
       "      <th>10</th>\n",
       "      <td></td>\n",
       "      <td>coef</td>\n",
       "      <td>std err</td>\n",
       "      <td>z</td>\n",
       "      <td>P&gt;|z|</td>\n",
       "      <td>[0.025</td>\n",
       "      <td>0.975]</td>\n",
       "    </tr>\n",
       "    <tr>\n",
       "      <th>11</th>\n",
       "      <td>const</td>\n",
       "      <td>6.3214</td>\n",
       "      <td>0.022</td>\n",
       "      <td>281.723</td>\n",
       "      <td>0.000</td>\n",
       "      <td>6.277</td>\n",
       "      <td>6.365</td>\n",
       "    </tr>\n",
       "    <tr>\n",
       "      <th>12</th>\n",
       "      <td>AGE_P</td>\n",
       "      <td>-0.0773</td>\n",
       "      <td>0.000</td>\n",
       "      <td>-212.030</td>\n",
       "      <td>0.000</td>\n",
       "      <td>-0.078</td>\n",
       "      <td>-0.077</td>\n",
       "    </tr>\n",
       "  </tbody>\n",
       "</table>\n",
       "</div>"
      ],
      "text/plain": [
       "                                                    1                 2  \\\n",
       "0               Generalized Linear Model Regressio...               NaN   \n",
       "1                                    Dep. Variable:    is_alive           \n",
       "2                                    Model:            GLM                \n",
       "3                                    Model Family:     Binomial           \n",
       "4                                    Link Function:    logit              \n",
       "5                                    Method:           IRLS               \n",
       "6                                    Date:                          Tue   \n",
       "7                                    Time:             18:25:33           \n",
       "8                                    No. Iterations:   7                  \n",
       "9                                    Covariance Type:  nonrobust          \n",
       "10                                                              coef      \n",
       "11                                              const            6.3214   \n",
       "12                                              AGE_P           -0.0773   \n",
       "\n",
       "                        3                      4            5          6  \\\n",
       "0                     NaN                    NaN          NaN        NaN   \n",
       "1     No. Observations:              504237               NaN        NaN   \n",
       "2     Df Residuals:                  504235               NaN        NaN   \n",
       "3     Df Model:                           1               NaN        NaN   \n",
       "4     Scale:                           1.0000             NaN        NaN   \n",
       "5     Log-Likelihood:                -1.3460e+05          NaN        NaN   \n",
       "6             04 May 2021    Deviance:            2.6919e+05         NaN   \n",
       "7     Pearson chi2:                  5.53e+05             NaN        NaN   \n",
       "8                                                         NaN        NaN   \n",
       "9                                                         NaN        NaN   \n",
       "10               std err                   z           P>|z|     [0.025    \n",
       "11                  0.022                281.723        0.000      6.277   \n",
       "12                  0.000               -212.030        0.000     -0.078   \n",
       "\n",
       "            7  \n",
       "0         NaN  \n",
       "1         NaN  \n",
       "2         NaN  \n",
       "3         NaN  \n",
       "4         NaN  \n",
       "5         NaN  \n",
       "6         NaN  \n",
       "7         NaN  \n",
       "8         NaN  \n",
       "9         NaN  \n",
       "10    0.975]   \n",
       "11      6.365  \n",
       "12     -0.077  "
      ]
     },
     "execution_count": 17,
     "metadata": {},
     "output_type": "execute_result"
    }
   ],
   "source": [
    "import pandas as pd\n",
    "import io\n",
    "\n",
    "summary_df = pd.read_csv(io.StringIO(remote_summary), names=[1, 2, 3, 4, 5, 6, 7])\n",
    "summary_df"
   ]
  },
  {
   "cell_type": "code",
   "execution_count": 18,
   "id": "south-berlin",
   "metadata": {},
   "outputs": [],
   "source": [
    "x = x_ptr.get(request_block=True, delete_obj=False)"
   ]
  },
  {
   "cell_type": "code",
   "execution_count": 19,
   "id": "ancient-state",
   "metadata": {},
   "outputs": [],
   "source": [
    "_y = _y_ptr.get(request_block=True, delete_obj=False)"
   ]
  },
  {
   "cell_type": "code",
   "execution_count": 20,
   "id": "attractive-yukon",
   "metadata": {},
   "outputs": [],
   "source": [
    "sex = df[\"sex\"].get(request_block=True, delete_obj=False)"
   ]
  },
  {
   "cell_type": "code",
   "execution_count": 21,
   "id": "colonial-retail",
   "metadata": {},
   "outputs": [],
   "source": [
    "# TODO finish adding range and dynamic object attributes for remote invocation\n",
    "predict_x = range(x.min(), x.max() + 1, 1)\n",
    "# preds = results.predict(sm.add_constant(predict_x))"
   ]
  },
  {
   "cell_type": "code",
   "execution_count": 22,
   "id": "incredible-minutes",
   "metadata": {},
   "outputs": [],
   "source": [
    "# request the results.predict calculation and retrieve the results"
   ]
  },
  {
   "cell_type": "code",
   "execution_count": 23,
   "id": "colonial-screening",
   "metadata": {},
   "outputs": [],
   "source": [
    "preds = duet.store[\"preds\"].get(request_block=True, delete_obj=False)"
   ]
  },
  {
   "cell_type": "code",
   "execution_count": 24,
   "id": "wired-voltage",
   "metadata": {},
   "outputs": [],
   "source": [
    "plot_df = pd.DataFrame()"
   ]
  },
  {
   "cell_type": "code",
   "execution_count": 25,
   "id": "technical-lounge",
   "metadata": {},
   "outputs": [],
   "source": [
    "plot_df[\"AGE_P\"] = x\n",
    "plot_df[\"is_alive\"] = _y\n",
    "plot_df[\"sex\"] = sex"
   ]
  },
  {
   "cell_type": "code",
   "execution_count": 26,
   "id": "racial-riding",
   "metadata": {},
   "outputs": [
    {
     "data": {
      "image/png": "[encoded data removed]",
      "text/plain": [
       "<Figure size 864x360 with 1 Axes>"
      ]
     },
     "metadata": {
      "needs_background": "light"
     },
     "output_type": "display_data"
    }
   ],
   "source": [
    "try:\n",
    "    import pylab as plt\n",
    "    import seaborn as sns\n",
    "\n",
    "    plt.figure(figsize=(12, 5))\n",
    "    plt.plot(predict_x, preds, \"k\", lw=3, label=\"Best Fit for all data\")\n",
    "    sns.lineplot(data=plot_df, x=\"AGE_P\", y=\"is_alive\", hue=\"sex\", err_style=\"bars\")\n",
    "    sns.despine()\n",
    "except ImportError:\n",
    "    print(\"Cant import seaborn try:\\n!pip install seaborn\")"
   ]
  },
  {
   "cell_type": "code",
   "execution_count": null,
   "id": "ultimate-shame",
   "metadata": {},
   "outputs": [],
   "source": []
  }
 ],
 "metadata": {
  "kernelspec": {
   "display_name": "Python 3",
   "language": "python",
   "name": "python3"
  },
  "language_info": {
   "codemirror_mode": {
    "name": "ipython",
    "version": 3
   },
   "file_extension": ".py",
   "mimetype": "text/x-python",
   "name": "python",
   "nbconvert_exporter": "python",
   "pygments_lexer": "ipython3",
   "version": "3.9.1"
  }
 },
 "nbformat": 4,
 "nbformat_minor": 5
}

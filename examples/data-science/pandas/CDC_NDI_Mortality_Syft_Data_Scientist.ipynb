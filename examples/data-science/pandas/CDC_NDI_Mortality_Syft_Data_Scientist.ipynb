{
 "cells": [
  {
   "cell_type": "markdown",
   "id": "civil-corpus",
   "metadata": {},
   "source": [
    "# CDC NDI Mortality - Syft Duet - Data Scientist 🥁"
   ]
  },
  {
   "cell_type": "markdown",
   "id": "competitive-litigation",
   "metadata": {},
   "source": [
    "This worksheet is intended to illustrate functionality of a shared statistical platform, using a partially synthetic public-use dataset that mirrors the restricted-use dataset. Ultimately, these processes would apply to the restricted-use data.\n",
    "\n",
    "Sample data compiled from the public-use linked mortality files share at https://www.cdc.gov/nchs/data-linkage/mortality.htm provided by the National Center for Health Statistics (NCHS)."
   ]
  },
  {
   "cell_type": "markdown",
   "id": "architectural-heather",
   "metadata": {},
   "source": [
    "## PART 1: Connect to a Remote Duet Server\n",
    "\n",
    "As the Data Scientist, you want to perform data science on data that is sitting in the Data Owner's Duet server in their Notebook.\n",
    "\n",
    "In order to do this, we must run the code that the Data Owner sends us, which importantly includes their Duet Session ID. The code will look like this, importantly with their real Server ID.\n",
    "\n",
    "```\n",
    "import syft as sy\n",
    "duet = sy.duet('xxxxxxxxxxxxxxxxxxxxxxxxxxxxxxxx')\n",
    "```\n",
    "\n",
    "This will create a direct connection from my notebook to the remote Duet server. Once the connection is established all traffic is sent directly between the two nodes.\n",
    "\n",
    "Paste the code or Server ID that the Data Owner gives you and run it in the cell below. It will return your Client ID which you must send to the Data Owner to enter into Duet so it can pair your notebooks."
   ]
  },
  {
   "cell_type": "code",
   "execution_count": null,
   "id": "verified-contact",
   "metadata": {},
   "outputs": [],
   "source": [
    "import syft as sy\n",
    "\n",
    "duet = sy.join_duet(loopback=True)"
   ]
  },
  {
   "cell_type": "code",
   "execution_count": null,
   "id": "spread-gasoline",
   "metadata": {},
   "outputs": [],
   "source": [
    "sy.load(\"pandas\")"
   ]
  },
  {
   "cell_type": "code",
   "execution_count": null,
   "id": "introductory-swift",
   "metadata": {},
   "outputs": [],
   "source": [
    "duet.store.pandas"
   ]
  },
  {
   "cell_type": "code",
   "execution_count": null,
   "id": "mobile-ready",
   "metadata": {},
   "outputs": [],
   "source": [
    "df_ptr = duet.store[\"df\"]"
   ]
  },
  {
   "cell_type": "code",
   "execution_count": null,
   "id": "foreign-minute",
   "metadata": {},
   "outputs": [],
   "source": [
    "# df_ptr.get(request_block=True, delete_obj=False) # for testing"
   ]
  },
  {
   "cell_type": "code",
   "execution_count": null,
   "id": "fitted-winter",
   "metadata": {},
   "outputs": [],
   "source": [
    "cancer_ptr = df_ptr[(df_ptr[\"UCOD_LEADING\"] == 2) & (df_ptr[\"ELIGSTAT\"] == 1)]"
   ]
  },
  {
   "cell_type": "code",
   "execution_count": null,
   "id": "meaningful-restriction",
   "metadata": {},
   "outputs": [],
   "source": [
    "heart_ptr = df_ptr[(df_ptr[\"UCOD_LEADING\"] == 1) & (df_ptr[\"ELIGSTAT\"] == 1)]"
   ]
  },
  {
   "cell_type": "code",
   "execution_count": null,
   "id": "differential-chance",
   "metadata": {},
   "outputs": [],
   "source": [
    "# Compute simple means and for the cancer and heart subgroups that had diabetes\n",
    "# listed as a multiple cause of death\n",
    "cancer_mean_ptr = cancer_ptr[\"DIABETES\"].mean()"
   ]
  },
  {
   "cell_type": "code",
   "execution_count": null,
   "id": "pediatric-librarian",
   "metadata": {},
   "outputs": [],
   "source": [
    "# Compute simple means and standard deviations for the cancer and heart subgroups\n",
    "# that had diabetes as a multiple cause of death\n",
    "heart_mean_ptr = heart_ptr[\"DIABETES\"].mean()"
   ]
  },
  {
   "cell_type": "code",
   "execution_count": null,
   "id": "dimensional-partition",
   "metadata": {},
   "outputs": [],
   "source": [
    "cancer_mean = cancer_mean_ptr.get(request_block=True, delete_obj=False)\n",
    "cancer_mean"
   ]
  },
  {
   "cell_type": "code",
   "execution_count": null,
   "id": "generous-balance",
   "metadata": {},
   "outputs": [],
   "source": [
    "heart_mean = heart_mean_ptr.get(request_block=True, delete_obj=False)\n",
    "heart_mean"
   ]
  },
  {
   "cell_type": "code",
   "execution_count": null,
   "id": "intimate-slide",
   "metadata": {},
   "outputs": [],
   "source": [
    "# Sample means data should account for weights. Write a custom function that uses the weights.\n",
    "\n",
    "\n",
    "def weighted_mean(dx, key, weight_key=\"WGT_NEW\"):\n",
    "    w = dx[weight_key]\n",
    "    v = dx[key]\n",
    "    return (w * v).sum() / w.sum()\n",
    "\n",
    "\n",
    "cancer_wm_ptr = weighted_mean(cancer_ptr, \"DIABETES\")\n",
    "heart_wm_ptr = weighted_mean(heart_ptr, \"DIABETES\")"
   ]
  },
  {
   "cell_type": "code",
   "execution_count": null,
   "id": "global-seeker",
   "metadata": {},
   "outputs": [],
   "source": [
    "# Example of a small subgroup (sample size = 6)\n",
    "# Cancer-deaths from males aged 47 who died in 2015\n",
    "# We should check for small cell sizes here\n",
    "# subgroup = cancer_ptr[(cancer_ptr[\"SEX\"]==1) & (cancer_ptr[\"AGE_P\"]==47) & (cancer_ptr[\"DODYEAR\"]==2015)]\n",
    "subgroup = cancer_ptr[\n",
    "    (cancer_ptr[\"SEX\"] == 1)\n",
    "    & (cancer_ptr[\"AGE_P\"] == 51)\n",
    "    & (cancer_ptr[\"DODYEAR\"] == 2013)\n",
    "]\n",
    "print(subgroup[\"DIABETES\"].mean().get(request_block=True, delete_obj=False))\n",
    "print(weighted_mean(subgroup, \"DIABETES\").get(request_block=True, delete_obj=False))\n",
    "print(len(subgroup))\n",
    "\n",
    "# These stats are problematic, as the subgroup is too small to report (n=6)\n",
    "subgroup.get(request_block=True, delete_obj=False)"
   ]
  },
  {
   "cell_type": "code",
   "execution_count": null,
   "id": "stupid-uganda",
   "metadata": {},
   "outputs": [],
   "source": [
    "# TODO: Add statsmodels\n",
    "# import statsmodels.api as sm\n",
    "# from statsmodels.genmod.generalized_linear_model import GLM\n",
    "# from statsmodels.genmod.families import Binomial\n",
    "\n",
    "# Drop any missing values in the dataset (those under 18)\n",
    "df = df_ptr.dropna(subset=[\"MORTSTAT\"])\n",
    "# Keep only the eligible portion\n",
    "df = df[df[\"ELIGSTAT\"] == 1]\n",
    "\n",
    "# Ignore people > 80\n",
    "df = df[df[\"AGE_P\"] <= 80]\n",
    "\n",
    "# A person is alive if MORTSTAT==0\n",
    "df[\"is_alive\"] = df[\"MORTSTAT\"] == 0\n",
    "\n",
    "# Assign a helpful column for sex (0==male, 1==female)\n",
    "df[\"sex\"] = \"male\"\n",
    "df.loc[df[\"SEX\"] == 2, \"sex\"] = \"female\"\n",
    "\n",
    "x_ptr = df[\"AGE_P\"]\n",
    "# _x = sm.add_constant(x)\n",
    "_y_ptr = df[\"is_alive\"]\n",
    "\n",
    "# results = GLM(_y, _x, family=Binomial()).fit()\n",
    "# print(results.summary())"
   ]
  },
  {
   "cell_type": "code",
   "execution_count": null,
   "id": "closing-regular",
   "metadata": {},
   "outputs": [],
   "source": [
    "df.get(request_block=True, delete_obj=False)  # for testing"
   ]
  },
  {
   "cell_type": "code",
   "execution_count": null,
   "id": "rubber-meter",
   "metadata": {},
   "outputs": [],
   "source": [
    "x_ptr.get(request_block=True, delete_obj=False)"
   ]
  },
  {
   "cell_type": "code",
   "execution_count": null,
   "id": "therapeutic-senegal",
   "metadata": {},
   "outputs": [],
   "source": [
    "_y_ptr.get(request_block=True, delete_obj=False)"
   ]
  },
  {
   "cell_type": "code",
   "execution_count": null,
   "id": "charitable-diversity",
   "metadata": {},
   "outputs": [],
   "source": []
  }
 ],
 "metadata": {
  "kernelspec": {
   "display_name": "Python 3",
   "language": "python",
   "name": "python3"
  },
  "language_info": {
   "codemirror_mode": {
    "name": "ipython",
    "version": 3
   },
   "file_extension": ".py",
   "mimetype": "text/x-python",
   "name": "python",
   "nbconvert_exporter": "python",
   "pygments_lexer": "ipython3",
   "version": "3.9.2"
  }
 },
 "nbformat": 4,
 "nbformat_minor": 5
}

{
 "cells": [
  {
   "cell_type": "code",
   "execution_count": 1,
   "id": "82f0238e-eadc-4275-921b-269e6dc721bb",
   "metadata": {},
   "outputs": [],
   "source": [
    "# syft absolute\n",
    "import syft as sy\n",
    "from syft import UID"
   ]
  },
  {
   "cell_type": "code",
   "execution_count": 2,
   "id": "a7e29800-4758-458f-9d5f-73c472c7721e",
   "metadata": {},
   "outputs": [],
   "source": [
    "# we can generate a thin wrapper like action object but without the bloat\n",
    "# we synthesize a custom type so that it acts like the real type for 99.9999% of cases"
   ]
  },
  {
   "cell_type": "code",
   "execution_count": 3,
   "id": "d054eccb-069f-4446-9d16-d861f2fc8a5d",
   "metadata": {},
   "outputs": [],
   "source": [
    "# stdlib\n",
    "from typing import Any\n",
    "from typing import Generic\n",
    "from typing import TypeVar\n",
    "\n",
    "T = TypeVar(\"T\")\n",
    "\n",
    "\n",
    "class SyftAutoboxMeta(type):\n",
    "    def __call__(cls, value: T):\n",
    "        wrapped_type = type(value)\n",
    "        dynamic_class_name = f\"SyftAutobox[{wrapped_type.__name__}]\"\n",
    "\n",
    "        # Dynamically create a new class that inherits from the wrapped type only\n",
    "        DynamicWrapper = type(\n",
    "            f\"SyftAutobox{wrapped_type.__name__.capitalize()}\", (wrapped_type,), {}\n",
    "        )\n",
    "\n",
    "        class Wrapped(DynamicWrapper):\n",
    "            def __init__(self, value: Any, uid: UID | None = None):\n",
    "                self._syft_value = value\n",
    "                self._syft_uid = uid if uid is not None else UID()\n",
    "                super(DynamicWrapper, self).__init__()\n",
    "\n",
    "            def __getattribute__(self, name: str) -> Any:\n",
    "                # Bypass certain attrs to prevent recursion issues\n",
    "                if name.startswith(\"_syft\"):\n",
    "                    return object.__getattribute__(self, name)\n",
    "\n",
    "                return getattr(self._syft_value, name)\n",
    "\n",
    "            # these empty dunders are required\n",
    "            def __repr__(self):\n",
    "                return self.__repr__()\n",
    "\n",
    "            def __str__(self):\n",
    "                return self.__str__()\n",
    "\n",
    "            def __dir__(self):\n",
    "                return self.__dir__()\n",
    "\n",
    "        Wrapped.__name__ = dynamic_class_name\n",
    "        Wrapped.__qualname__ = dynamic_class_name\n",
    "        return Wrapped(value)\n",
    "\n",
    "\n",
    "class SyftAutobox(Generic[T], metaclass=SyftAutoboxMeta):\n",
    "    pass"
   ]
  },
  {
   "cell_type": "code",
   "execution_count": 4,
   "id": "7a1bab5e-9c5e-469a-9491-3015a14f217e",
   "metadata": {},
   "outputs": [],
   "source": [
    "# a vanilla string\n",
    "b = \"test\""
   ]
  },
  {
   "cell_type": "code",
   "execution_count": 5,
   "id": "8df3c4b7-e126-4190-8792-965688420bf6",
   "metadata": {},
   "outputs": [],
   "source": [
    "# a syft autoboxed string\n",
    "a = SyftAutobox(value=b)"
   ]
  },
  {
   "cell_type": "code",
   "execution_count": 6,
   "id": "bfa0a201-a78f-4a5a-ba42-bc4e29df3b3c",
   "metadata": {},
   "outputs": [
    {
     "data": {
      "text/plain": [
       "'test'"
      ]
     },
     "execution_count": 6,
     "metadata": {},
     "output_type": "execute_result"
    }
   ],
   "source": [
    "a"
   ]
  },
  {
   "cell_type": "code",
   "execution_count": 7,
   "id": "4fa8042e-2194-4335-a03e-d02a76897d44",
   "metadata": {},
   "outputs": [
    {
     "data": {
      "text/plain": [
       "(__main__.SyftAutobox[str], str)"
      ]
     },
     "execution_count": 7,
     "metadata": {},
     "output_type": "execute_result"
    }
   ],
   "source": [
    "# type is nice and clean\n",
    "type(a), type(b)"
   ]
  },
  {
   "cell_type": "code",
   "execution_count": 8,
   "id": "19c1b8f6-7f92-4324-a6f4-823bc274e507",
   "metadata": {},
   "outputs": [],
   "source": [
    "# passes isinstance check\n",
    "assert isinstance(a, str) and isinstance(b, str)"
   ]
  },
  {
   "cell_type": "code",
   "execution_count": 9,
   "id": "8f363c73-c5e9-4798-914d-01f4fb3db292",
   "metadata": {},
   "outputs": [],
   "source": [
    "# passes is subclass check\n",
    "assert issubclass(type(a), str) and issubclass(type(b), str)"
   ]
  },
  {
   "cell_type": "code",
   "execution_count": 10,
   "id": "6ac872db-ac50-4065-8104-924160aced88",
   "metadata": {},
   "outputs": [
    {
     "data": {
      "text/plain": [
       "[__main__.SyftAutobox[str], __main__.SyftAutoboxStr, str, object]"
      ]
     },
     "execution_count": 10,
     "metadata": {},
     "output_type": "execute_result"
    }
   ],
   "source": [
    "# we renamed one class so it looks nested\n",
    "type(a).mro()"
   ]
  },
  {
   "cell_type": "code",
   "execution_count": 11,
   "id": "84bd9200-bbea-4d7d-8286-99711521d432",
   "metadata": {},
   "outputs": [
    {
     "data": {
      "text/plain": [
       "[str, object]"
      ]
     },
     "execution_count": 11,
     "metadata": {},
     "output_type": "execute_result"
    }
   ],
   "source": [
    "type(b).mro()"
   ]
  },
  {
   "cell_type": "code",
   "execution_count": 12,
   "id": "88d405fb-fc42-4a97-aab5-126eb96d3bf0",
   "metadata": {},
   "outputs": [],
   "source": [
    "# lets try numpy"
   ]
  },
  {
   "cell_type": "code",
   "execution_count": 13,
   "id": "6567194d-995c-4f36-858f-0dd64915fe79",
   "metadata": {},
   "outputs": [
    {
     "name": "stdout",
     "output_type": "stream",
     "text": [
      "15\n"
     ]
    }
   ],
   "source": [
    "# third party\n",
    "import numpy as np\n",
    "\n",
    "# Create a numpy array\n",
    "arr = np.array([1, 2, 3, 4, 5])\n",
    "\n",
    "# Define a function that expects a numpy array\n",
    "\n",
    "\n",
    "def sum_array(arr: np.ndarray) -> int:\n",
    "    return np.sum(arr)\n",
    "\n",
    "\n",
    "# Test with a regular numpy array\n",
    "print(sum_array(arr))  # Should print 15"
   ]
  },
  {
   "cell_type": "code",
   "execution_count": 14,
   "id": "85fe179c-f64f-485a-9c0d-0216cd7b9d0b",
   "metadata": {},
   "outputs": [
    {
     "data": {
      "text/plain": [
       "array([1, 2, 3, 4, 5])"
      ]
     },
     "execution_count": 14,
     "metadata": {},
     "output_type": "execute_result"
    }
   ],
   "source": [
    "arr"
   ]
  },
  {
   "cell_type": "code",
   "execution_count": 15,
   "id": "0169ab0c-64fb-47c9-baf5-ab026b3f15d4",
   "metadata": {},
   "outputs": [],
   "source": [
    "# Wrap the numpy array\n",
    "wrapped_arr = SyftAutobox(arr)"
   ]
  },
  {
   "cell_type": "code",
   "execution_count": 16,
   "id": "0fe69d2d-7739-4de2-b91d-e20db776edc3",
   "metadata": {},
   "outputs": [
    {
     "data": {
      "text/plain": [
       "array([1, 2, 3, 4, 5])"
      ]
     },
     "execution_count": 16,
     "metadata": {},
     "output_type": "execute_result"
    }
   ],
   "source": [
    "wrapped_arr"
   ]
  },
  {
   "cell_type": "code",
   "execution_count": 17,
   "id": "da6ca13f-4243-4cb8-bdb8-b769839edd81",
   "metadata": {},
   "outputs": [
    {
     "data": {
      "text/plain": [
       "15"
      ]
     },
     "execution_count": 17,
     "metadata": {},
     "output_type": "execute_result"
    }
   ],
   "source": [
    "sum_array(wrapped_arr)"
   ]
  },
  {
   "cell_type": "code",
   "execution_count": 18,
   "id": "da64aec8-bb5e-4317-bb2a-d9685063cff8",
   "metadata": {},
   "outputs": [
    {
     "data": {
      "text/plain": [
       "<UID: 4b60b54ef7d544679257194980660b6d>"
      ]
     },
     "execution_count": 18,
     "metadata": {},
     "output_type": "execute_result"
    }
   ],
   "source": [
    "# nice\n",
    "wrapped_arr._syft_uid"
   ]
  },
  {
   "cell_type": "code",
   "execution_count": 19,
   "id": "4d50467d-dd7e-468e-a1ef-e7b03df7e0d0",
   "metadata": {},
   "outputs": [],
   "source": [
    "# third party\n",
    "# lets try some stuff which might break with ActionObject\n",
    "import numpy.ctypeslib as npct\n",
    "\n",
    "\n",
    "def to_ctypes(arr: np.ndarray):\n",
    "    return npct.as_ctypes(arr)"
   ]
  },
  {
   "cell_type": "code",
   "execution_count": 20,
   "id": "09da3f6f-1b89-4931-b972-9841f69a778c",
   "metadata": {},
   "outputs": [
    {
     "data": {
      "text/markdown": [
       "\n",
       "**Pointer**\n",
       "\n",
       "array([1, 2, 3, 4, 5])\n"
      ],
      "text/plain": [
       "Pointer:\n",
       "array([1, 2, 3, 4, 5])"
      ]
     },
     "execution_count": 20,
     "metadata": {},
     "output_type": "execute_result"
    }
   ],
   "source": [
    "action_arr = sy.ActionObject.from_obj(arr)\n",
    "action_arr"
   ]
  },
  {
   "cell_type": "code",
   "execution_count": 21,
   "id": "a890ec93-a6cb-49c3-997c-cf3b9c87dd8a",
   "metadata": {},
   "outputs": [
    {
     "name": "stdout",
     "output_type": "stream",
     "text": [
      "TypeError: Cannot interpret 'Pointer:\n",
      "'<i8'' as a data type\n"
     ]
    }
   ],
   "source": [
    "try:\n",
    "    print(to_ctypes(action_arr))  # This will raise an exception\n",
    "except TypeError as e:\n",
    "    print(f\"TypeError: {e}\")"
   ]
  },
  {
   "cell_type": "code",
   "execution_count": 22,
   "id": "b5c0c318-3f55-4094-8fde-6147569ad0a8",
   "metadata": {},
   "outputs": [
    {
     "name": "stdout",
     "output_type": "stream",
     "text": [
      "<c_long_Array_5 object at 0x15a705b50>\n"
     ]
    }
   ],
   "source": [
    "# works for raw numpy\n",
    "try:\n",
    "    print(to_ctypes(arr))  # This will raise an exception\n",
    "except TypeError as e:\n",
    "    print(f\"TypeError: {e}\")"
   ]
  },
  {
   "cell_type": "code",
   "execution_count": 23,
   "id": "32c9f3ac-4c56-43d7-a51e-ea4bb58710a0",
   "metadata": {},
   "outputs": [
    {
     "name": "stdout",
     "output_type": "stream",
     "text": [
      "<c_long_Array_5 object at 0x15a7059d0>\n"
     ]
    }
   ],
   "source": [
    "# works for autobox\n",
    "try:\n",
    "    print(to_ctypes(wrapped_arr))  # This will raise an exception\n",
    "except TypeError as e:\n",
    "    print(f\"TypeError: {e}\")"
   ]
  },
  {
   "cell_type": "code",
   "execution_count": null,
   "id": "c499de76-9422-46d3-abd4-cd1ad840e553",
   "metadata": {},
   "outputs": [],
   "source": []
  },
  {
   "cell_type": "code",
   "execution_count": 24,
   "id": "76011078-90df-4fb7-8bcd-202df682e6db",
   "metadata": {},
   "outputs": [],
   "source": [
    "# okay now what if we made this wrapper type capable of intelligently handling Results?"
   ]
  },
  {
   "cell_type": "code",
   "execution_count": 25,
   "id": "e887d864-fbaf-472e-bee6-007c324726a2",
   "metadata": {},
   "outputs": [],
   "source": [
    "# stdlib\n",
    "from typing import Generic\n",
    "from typing import TypeVar\n",
    "from typing import Union\n",
    "\n",
    "T = TypeVar(\"T\")\n",
    "E = TypeVar(\"E\")\n",
    "\n",
    "\n",
    "class Ok(Generic[T]):\n",
    "    def __init__(self, value: T):\n",
    "        self.value = value\n",
    "\n",
    "\n",
    "class Err(Generic[E]):\n",
    "    def __init__(self, error: E):\n",
    "        self.error = error\n",
    "\n",
    "\n",
    "Result = Union[Ok[T], Err[E]]\n",
    "\n",
    "error_allowed_attrs = [\"__class__\"]\n",
    "\n",
    "\n",
    "class SyftAutoboxMeta(type):\n",
    "    def __call__(cls, value: Result[T, E] | T):\n",
    "        if isinstance(value, Ok):\n",
    "            wrapped_value = value.value\n",
    "            is_error = False\n",
    "        elif isinstance(value, Err):\n",
    "            wrapped_value = value.error\n",
    "            is_error = True\n",
    "        else:\n",
    "            wrapped_value = value\n",
    "            is_error = False\n",
    "\n",
    "        wrapped_type = type(wrapped_value)\n",
    "        dynamic_class_name = f\"SyftAutobox[{wrapped_type.__name__}]\"\n",
    "\n",
    "        # Dynamically create a new class that inherits from the wrapped type only\n",
    "        DynamicWrapper = type(\n",
    "            f\"SyftAutobox{wrapped_type.__name__.capitalize()}\", (wrapped_type,), {}\n",
    "        )\n",
    "\n",
    "        class Wrapped(DynamicWrapper):\n",
    "            def __init__(self, value: Any, uid: UID | None = None):\n",
    "                self._syft_value = value\n",
    "                self._syft_uid = uid if uid is not None else UID()\n",
    "                self._syft_is_error = is_error\n",
    "                super(DynamicWrapper, self).__init__()\n",
    "\n",
    "            def __getattribute__(self, name: str) -> Any:\n",
    "                # Bypass certain attrs to prevent recursion issues\n",
    "                if name.startswith(\"_syft\"):\n",
    "                    return object.__getattribute__(self, name)\n",
    "\n",
    "                if self._syft_is_error and name not in error_allowed_attrs:\n",
    "                    raise Exception(\n",
    "                        f\"Cannot access attribute '{name}' on an Err result: {self._syft_value}\"\n",
    "                    )\n",
    "\n",
    "                return getattr(self._syft_value, name)\n",
    "\n",
    "            # these empty dunders are required\n",
    "            def __repr__(self):\n",
    "                return self._syft_value.__repr__()\n",
    "\n",
    "            def __str__(self):\n",
    "                return self._syft_value.__str__()\n",
    "\n",
    "            def __dir__(self):\n",
    "                return self._syft_value.__dir__()\n",
    "\n",
    "        Wrapped.__name__ = dynamic_class_name\n",
    "        Wrapped.__qualname__ = dynamic_class_name\n",
    "        return Wrapped(wrapped_value)\n",
    "\n",
    "\n",
    "class SyftAutobox(Generic[T], metaclass=SyftAutoboxMeta):\n",
    "    pass"
   ]
  },
  {
   "cell_type": "code",
   "execution_count": 26,
   "id": "bbc142d4-2c34-4166-a975-adf6cee3a16d",
   "metadata": {},
   "outputs": [
    {
     "name": "stdout",
     "output_type": "stream",
     "text": [
      "42\n"
     ]
    }
   ],
   "source": [
    "# now we can freely return T or Result[T] and its the same\n",
    "ok_value = SyftAutobox(Ok(42))\n",
    "print(ok_value)  # Should print 42"
   ]
  },
  {
   "cell_type": "code",
   "execution_count": 27,
   "id": "31b73648-c5d2-46d3-8dbf-69d52b32c9da",
   "metadata": {},
   "outputs": [
    {
     "data": {
      "text/plain": [
       "__main__.SyftAutobox[int]"
      ]
     },
     "execution_count": 27,
     "metadata": {},
     "output_type": "execute_result"
    }
   ],
   "source": [
    "type(ok_value)"
   ]
  },
  {
   "cell_type": "code",
   "execution_count": 28,
   "id": "013aad67-0485-4168-803d-b6b43433d01f",
   "metadata": {},
   "outputs": [
    {
     "data": {
      "text/plain": [
       "True"
      ]
     },
     "execution_count": 28,
     "metadata": {},
     "output_type": "execute_result"
    }
   ],
   "source": [
    "isinstance(ok_value, int)"
   ]
  },
  {
   "cell_type": "code",
   "execution_count": null,
   "id": "257692d5-700c-45b7-adfd-664bfbf00114",
   "metadata": {},
   "outputs": [],
   "source": []
  },
  {
   "cell_type": "code",
   "execution_count": 29,
   "id": "5e8f56a9-55f5-48bd-a278-ed908d8b08fc",
   "metadata": {},
   "outputs": [
    {
     "data": {
      "text/plain": [
       "int"
      ]
     },
     "execution_count": 29,
     "metadata": {},
     "output_type": "execute_result"
    }
   ],
   "source": [
    "# can perform addition, and can probably autowrap if we go and implement the __ like in actionobj\n",
    "b = ok_value + 1\n",
    "type(b)"
   ]
  },
  {
   "cell_type": "code",
   "execution_count": 30,
   "id": "f5249b61-3e28-4823-b0cf-30bc1a547b8a",
   "metadata": {},
   "outputs": [],
   "source": [
    "# what about an error"
   ]
  },
  {
   "cell_type": "code",
   "execution_count": 31,
   "id": "520f2c51-e099-4ce3-8ccd-33e9748bd8b1",
   "metadata": {},
   "outputs": [],
   "source": [
    "# s = sy.SyftError(message=\"Some Error\")"
   ]
  },
  {
   "cell_type": "code",
   "execution_count": 32,
   "id": "7377c908-ab10-48c2-887d-a71da26deb78",
   "metadata": {},
   "outputs": [
    {
     "name": "stdout",
     "output_type": "stream",
     "text": [
      "Cannot access attribute 'upper' on an Err result: Some Error\n"
     ]
    }
   ],
   "source": [
    "try:\n",
    "    err_value = SyftAutobox(Err(\"Some Error\"))\n",
    "    print(err_value.upper())  # This should raise an exception\n",
    "except Exception as e:\n",
    "    print(e)  # Should raise an exception with the error message"
   ]
  },
  {
   "cell_type": "code",
   "execution_count": 33,
   "id": "2b79e0f9-78d1-4101-bee2-96b176dadb93",
   "metadata": {},
   "outputs": [
    {
     "ename": "Exception",
     "evalue": "Cannot access attribute 'upper' on an Err result: Some Error",
     "output_type": "error",
     "traceback": [
      "\u001b[0;31m--------------------------------------------------------------------------\u001b[0m",
      "\u001b[0;31mException\u001b[0m                                Traceback (most recent call last)",
      "Cell \u001b[0;32mIn[33], line 2\u001b[0m\n\u001b[1;32m      1\u001b[0m \u001b[38;5;66;03m# even though its got a string inside it should raise exceptions\u001b[39;00m\n\u001b[0;32m----> 2\u001b[0m \u001b[43merr_value\u001b[49m\u001b[38;5;241;43m.\u001b[39;49m\u001b[43mupper\u001b[49m()\n",
      "Cell \u001b[0;32mIn[25], line 49\u001b[0m, in \u001b[0;36mSyftAutoboxMeta.__call__.<locals>.Wrapped.__getattribute__\u001b[0;34m(self, name)\u001b[0m\n\u001b[1;32m     46\u001b[0m     \u001b[38;5;28;01mreturn\u001b[39;00m \u001b[38;5;28mobject\u001b[39m\u001b[38;5;241m.\u001b[39m\u001b[38;5;21m__getattribute__\u001b[39m(\u001b[38;5;28mself\u001b[39m, name)\n\u001b[1;32m     48\u001b[0m \u001b[38;5;28;01mif\u001b[39;00m \u001b[38;5;28mself\u001b[39m\u001b[38;5;241m.\u001b[39m_syft_is_error \u001b[38;5;129;01mand\u001b[39;00m name \u001b[38;5;129;01mnot\u001b[39;00m \u001b[38;5;129;01min\u001b[39;00m error_allowed_attrs:\n\u001b[0;32m---> 49\u001b[0m     \u001b[38;5;28;01mraise\u001b[39;00m \u001b[38;5;167;01mException\u001b[39;00m(\u001b[38;5;124mf\u001b[39m\u001b[38;5;124m\"\u001b[39m\u001b[38;5;124mCannot access attribute \u001b[39m\u001b[38;5;124m'\u001b[39m\u001b[38;5;132;01m{\u001b[39;00mname\u001b[38;5;132;01m}\u001b[39;00m\u001b[38;5;124m'\u001b[39m\u001b[38;5;124m on an Err result: \u001b[39m\u001b[38;5;132;01m{\u001b[39;00m\u001b[38;5;28mself\u001b[39m\u001b[38;5;241m.\u001b[39m_syft_value\u001b[38;5;132;01m}\u001b[39;00m\u001b[38;5;124m\"\u001b[39m)\n\u001b[1;32m     51\u001b[0m \u001b[38;5;28;01mreturn\u001b[39;00m \u001b[38;5;28mgetattr\u001b[39m(\u001b[38;5;28mself\u001b[39m\u001b[38;5;241m.\u001b[39m_syft_value, name)\n",
      "\u001b[0;31mException\u001b[0m: Cannot access attribute 'upper' on an Err result: Some Error"
     ]
    }
   ],
   "source": [
    "# even though its got a string inside it should raise exceptions\n",
    "err_value.upper()"
   ]
  },
  {
   "cell_type": "code",
   "execution_count": 34,
   "id": "2af2e46a-4891-4490-b230-8132ea30813e",
   "metadata": {},
   "outputs": [],
   "source": [
    "# we can choose to raise exceptions when accessing error types however we like"
   ]
  },
  {
   "cell_type": "code",
   "execution_count": 35,
   "id": "90c06f4a-d91c-4efb-bd8f-1aff40511b53",
   "metadata": {},
   "outputs": [
    {
     "name": "stdout",
     "output_type": "stream",
     "text": [
      "Cannot access attribute 'dtype' on an Err result: [1 2 3 4 5]\n"
     ]
    }
   ],
   "source": [
    "try:\n",
    "    err_value = SyftAutobox(Err(arr))\n",
    "    print(err_value.dtype)  # This should raise an exception\n",
    "except Exception as e:\n",
    "    print(e)  # Should raise an exception with the error message"
   ]
  },
  {
   "cell_type": "code",
   "execution_count": null,
   "id": "36d5edae-6531-43f5-8f90-5aee6bc6e2fd",
   "metadata": {},
   "outputs": [],
   "source": []
  },
  {
   "cell_type": "code",
   "execution_count": 36,
   "id": "00f7f50c-66b6-4f0d-9f60-86b04ae22917",
   "metadata": {},
   "outputs": [],
   "source": [
    "# rationale\n",
    "# better than ActionObject already, as it passes more C code checks etc\n",
    "# allows us to add some Result / Future functionality ONTOP of this type as desired\n",
    "# allows a UID for linkage at all times\n",
    "# solves issue of returning a Result[T, E] vs T raises Exception theres no difference when you autobox\n",
    "# raises exceptions if we want it to"
   ]
  },
  {
   "cell_type": "code",
   "execution_count": null,
   "id": "17b8e88e-dbe2-496e-9cd5-9ee4e87881cc",
   "metadata": {},
   "outputs": [],
   "source": []
  },
  {
   "cell_type": "code",
   "execution_count": 37,
   "id": "d15cccd9-244b-4401-b13f-b7bf1454bfc1",
   "metadata": {},
   "outputs": [],
   "source": [
    "# TODO:\n",
    "# autowrap results of infix operators\n",
    "# raise exceptions on infix operators if its an Exception type\n",
    "# make exception raising optional\n",
    "# add is_ok, is_err, type methods to the Autobox\n",
    "# add ._syft_ready, .is_ready\n",
    "# Future\n",
    "# __getattr__ -> self._syft_value\n",
    "# check if its been longer than 1 second\n",
    "# if name of getattr not in special ._syft_ready, .is_ready\n",
    "# call server for update and then replace self._syft_value with real value\n",
    "\n",
    "# obj.sum() <---"
   ]
  },
  {
   "cell_type": "code",
   "execution_count": null,
   "id": "a579dbc1-959c-4dad-b7ea-bcdbeb2fba41",
   "metadata": {},
   "outputs": [],
   "source": []
  },
  {
   "cell_type": "code",
   "execution_count": 38,
   "id": "c2a0c124-373f-4dfa-b8e1-db0b684dfd8c",
   "metadata": {},
   "outputs": [],
   "source": [
    "# method -> T, Exception\n",
    "# method_async -> Result[T, Error]"
   ]
  },
  {
   "cell_type": "code",
   "execution_count": 39,
   "id": "efc86834-a085-4074-934b-52288a6c22bf",
   "metadata": {},
   "outputs": [],
   "source": [
    "# method -> Autobox[T, SyftErr[Message, Exception]]\n",
    "\n",
    "# TBD\n",
    "# method_async -> Autobox[Future[T, Exception], SyftErr[Message, Exception]]"
   ]
  },
  {
   "cell_type": "code",
   "execution_count": null,
   "id": "4e6a9d31-bb6a-4806-aa4a-33be8c747a91",
   "metadata": {},
   "outputs": [],
   "source": []
  },
  {
   "cell_type": "code",
   "execution_count": null,
   "id": "5ec5ea19-9c73-4a6e-9554-3682915aab1f",
   "metadata": {},
   "outputs": [],
   "source": []
  },
  {
   "cell_type": "code",
   "execution_count": null,
   "id": "c9db06ed-d037-48d8-a752-a0f0d305c44b",
   "metadata": {},
   "outputs": [],
   "source": []
  }
 ],
 "metadata": {
  "kernelspec": {
   "display_name": "Python 3 (ipykernel)",
   "language": "python",
   "name": "python3"
  },
  "language_info": {
   "codemirror_mode": {
    "name": "ipython",
    "version": 3
   },
   "file_extension": ".py",
   "mimetype": "text/x-python",
   "name": "python",
   "nbconvert_exporter": "python",
   "pygments_lexer": "ipython3",
   "version": "3.12.2"
  }
 },
 "nbformat": 4,
 "nbformat_minor": 5
}

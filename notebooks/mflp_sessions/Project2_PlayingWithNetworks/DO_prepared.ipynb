{
 "cells": [
  {
   "cell_type": "code",
   "execution_count": 9,
   "id": "6c4b9a4d-26ce-4fb9-b4d5-414fbe9e63a9",
   "metadata": {},
   "outputs": [],
   "source": [
    "import syft as sy\n",
    "import numpy as np"
   ]
  },
  {
   "cell_type": "code",
   "execution_count": 10,
   "id": "235ea16f-c77f-4ea8-b213-05e993630570",
   "metadata": {},
   "outputs": [
    {
     "data": {
      "text/plain": [
       "'0.7.0-beta.39'"
      ]
     },
     "execution_count": 10,
     "metadata": {},
     "output_type": "execute_result"
    }
   ],
   "source": [
    "sy.__version__"
   ]
  },
  {
   "cell_type": "code",
   "execution_count": 11,
   "id": "4c585fc0-a7df-412b-847a-ae0f2b632246",
   "metadata": {},
   "outputs": [
    {
     "name": "stdout",
     "output_type": "stream",
     "text": [
      "Connecting to 20.245.107.41... done! \t Logging into inspiring_hotz... as GUEST...done!\n"
     ]
    }
   ],
   "source": [
    "network_client=sy.login(url=\"20.245.107.41\", port=80)"
   ]
  },
  {
   "cell_type": "code",
   "execution_count": 12,
   "id": "21838533-6296-4cb5-9eb7-fafb43aef3b2",
   "metadata": {},
   "outputs": [
    {
     "data": {
      "text/html": [
       "<div>\n",
       "<style scoped>\n",
       "    .dataframe tbody tr th:only-of-type {\n",
       "        vertical-align: middle;\n",
       "    }\n",
       "\n",
       "    .dataframe tbody tr th {\n",
       "        vertical-align: top;\n",
       "    }\n",
       "\n",
       "    .dataframe thead th {\n",
       "        text-align: right;\n",
       "    }\n",
       "</style>\n",
       "<table border=\"1\" class=\"dataframe\">\n",
       "  <thead>\n",
       "    <tr style=\"text-align: right;\">\n",
       "      <th></th>\n",
       "      <th>host_or_ip</th>\n",
       "      <th>id</th>\n",
       "      <th>is_vpn</th>\n",
       "      <th>name</th>\n",
       "      <th>port</th>\n",
       "      <th>private</th>\n",
       "      <th>protocol</th>\n",
       "    </tr>\n",
       "  </thead>\n",
       "  <tbody>\n",
       "    <tr>\n",
       "      <th>0</th>\n",
       "      <td>100.64.0.2</td>\n",
       "      <td>2b94de6199dd40e985b936ce6006fdd3</td>\n",
       "      <td>1</td>\n",
       "      <td>node_3</td>\n",
       "      <td>80</td>\n",
       "      <td>0</td>\n",
       "      <td>http</td>\n",
       "    </tr>\n",
       "    <tr>\n",
       "      <th>1</th>\n",
       "      <td>100.64.0.3</td>\n",
       "      <td>bcc7aa093f174c719d17fdef89117cc8</td>\n",
       "      <td>1</td>\n",
       "      <td>node_4</td>\n",
       "      <td>80</td>\n",
       "      <td>0</td>\n",
       "      <td>http</td>\n",
       "    </tr>\n",
       "  </tbody>\n",
       "</table>\n",
       "</div>"
      ],
      "text/plain": [
       "<syft.core.node.common.client_manager.domain_api.DomainRequestAPI at 0x7f19c30aabb0>"
      ]
     },
     "execution_count": 12,
     "metadata": {},
     "output_type": "execute_result"
    }
   ],
   "source": [
    "network_client.domains"
   ]
  },
  {
   "cell_type": "code",
   "execution_count": 13,
   "id": "fedd2bab-72b3-4d77-8b5b-ea060502a364",
   "metadata": {},
   "outputs": [
    {
     "name": "stdout",
     "output_type": "stream",
     "text": [
      "Logged in to node_3 as sheldon.cooper@openmined.org\n",
      "Logged in to node_4 as sheldon.cooper@openmined.org\n"
     ]
    }
   ],
   "source": [
    "domain_proxy_1 = network_client.domains[-2].login(email=\"sheldon.cooper@openmined.org\", password=\"bazinga\")\n",
    "domain_proxy_2 = network_client.domains[-1].login(email=\"sheldon.cooper@openmined.org\", password=\"bazinga\")"
   ]
  },
  {
   "cell_type": "code",
   "execution_count": 14,
   "id": "cc94916d-a488-420f-acae-5f371164d590",
   "metadata": {},
   "outputs": [
    {
     "data": {
      "text/html": [
       "<style>\n",
       "                #myInput {\n",
       "                  background-position: 10px 12px; /* Position the search icon */\n",
       "                  background-repeat: no-repeat; /* Do not repeat the icon image */\n",
       "                  background-color: #bbb;\n",
       "                  width: 98%; /* Full-width */\n",
       "                  font-size: 14px; /* Increase font-size */\n",
       "                  padding: 12px 20px 12px 40px; /* Add some padding */\n",
       "                  border: 1px solid #ddd; /* Add a grey border */\n",
       "                  margin-bottom: 12px; /* Add some space below the input */\n",
       "                }\n",
       "\n",
       "                #myTable {\n",
       "                  border-collapse: collapse; /* Collapse borders */\n",
       "                  width: 100%; /* Full-width */\n",
       "                  border: 1px solid #ddd; /* Add a grey border */\n",
       "                  font-size: 14px; /* Increase font-size */\n",
       "                }\n",
       "\n",
       "                #myTable th, #myTable td {\n",
       "                  text-align: left; /* Left-align text */\n",
       "                  padding: 10px; /* Add padding */\n",
       "                }\n",
       "\n",
       "                #myTable tr {\n",
       "                  /* Add a bottom border to all table rows */\n",
       "                  border-bottom: 1px solid #ddd;\n",
       "                }\n",
       "\n",
       "                #myTable tr.header, #myTable tr:hover {\n",
       "                  /* Add a grey background color to the table header and on hover */\n",
       "                  background-color: #777;\n",
       "                }\n",
       "                </style>\n",
       "\n",
       "                <table id=\"myTable\" style=\"width:1000px\">\n",
       "                  <tr class=\"header\">\n",
       "                    <th style=\"width:30px\">Idx</th>\n",
       "                    <th style=\"width:20%;\">Name</th>\n",
       "                    <th style=\"width:35%;\">Description</th>\n",
       "                    <th style=\"width:20%;\">Assets</th>\n",
       "                    <th style=\"width:300px;\">Id</th>\n",
       "                  </tr>\n",
       "                \n",
       "\n",
       "          <tr>\n",
       "            <td>[0]</td>\n",
       "            <td>Dummy dataset final</td>\n",
       "            <td>the dummy dataset this is</td>\n",
       "            <td>[\"data\"] -> <class 'syft.core.tensor.tensor.Tensor'><br /><br /></td>\n",
       "            <td>a7a4531f-9057-4842-b1c9-b1d39bb9ab87</td>\n",
       "          </tr>\n",
       "\n",
       "          <tr>\n",
       "            <td>[1]</td>\n",
       "            <td>Dummy dataset final</td>\n",
       "            <td>the dummy dataset this is</td>\n",
       "            <td>[\"data\"] -> <class 'syft.core.tensor.tensor.Tensor'><br /><br /></td>\n",
       "            <td>82cddcae-084d-4769-b414-6fddfbb7d791</td>\n",
       "          </tr>\n",
       "\n",
       "          <tr>\n",
       "            <td>[2]</td>\n",
       "            <td>Dummy dataset final2</td>\n",
       "            <td>the dummy dataset this is</td>\n",
       "            <td>[\"data\"] -> <class 'syft.core.tensor.tensor.Tensor'><br /><br /></td>\n",
       "            <td>9830526a-72d7-4c00-8c0c-7fc3ed959045</td>\n",
       "          </tr>\n",
       "\n",
       "          <tr>\n",
       "            <td>[3]</td>\n",
       "            <td>Dummy dataset final3</td>\n",
       "            <td>the dummy dataset this is</td>\n",
       "            <td>[\"data\"] -> <class 'syft.core.tensor.tensor.Tensor'><br /><br /></td>\n",
       "            <td>3a75096c-01fc-4493-a631-113484e35fa4</td>\n",
       "          </tr>\n",
       "\n",
       "          <tr>\n",
       "            <td>[4]</td>\n",
       "            <td>Dummy dataset with one datasubject</td>\n",
       "            <td>the dummy dataset this is</td>\n",
       "            <td>[\"data\"] -> <class 'syft.core.tensor.tensor.Tensor'><br /><br /></td>\n",
       "            <td>8319d238-1144-4cbf-a2e2-9cfae5cf0dfc</td>\n",
       "          </tr>\n",
       "        </table>\n",
       "\n",
       "        <script>\n",
       "        function myFunction() {\n",
       "          // Declare variables\n",
       "          var input, filter, table, tr, td, i, txtValue;\n",
       "          input = document.getElementById(\"myInput\");\n",
       "          filter = input.value.toUpperCase();\n",
       "          table = document.getElementById(\"myTable\");\n",
       "          tr = table.getElementsByTagName(\"tr\");\n",
       "\n",
       "          // Loop through all table rows, and hide those who don't match the search query\n",
       "          for (i = 0; i < tr.length; i++) {\n",
       "            name_td = tr[i].getElementsByTagName(\"td\")[1];\n",
       "            desc_td = tr[i].getElementsByTagName(\"td\")[2];\n",
       "            asset_td = tr[i].getElementsByTagName(\"td\")[3];\n",
       "            id_td = tr[i].getElementsByTagName(\"td\")[4];\n",
       "            if (name_td || desc_td || asset_td || id_td) {\n",
       "              name_txtValue = name_td.textContent || name_td.innerText;\n",
       "              desc_txtValue = desc_td.textContent || name_td.innerText;\n",
       "              asset_txtValue = asset_td.textContent || name_td.innerText;\n",
       "              id_txtValue = id_td.textContent || name_td.innerText;\n",
       "              name_bool = name_txtValue.toUpperCase().indexOf(filter) > -1;\n",
       "              desc_bool = desc_txtValue.toUpperCase().indexOf(filter) > -1;\n",
       "              asset_bool = asset_txtValue.toUpperCase().indexOf(filter) > -1;\n",
       "              id_bool = id_txtValue.toUpperCase().indexOf(filter) > -1;\n",
       "              if (name_bool || desc_bool || asset_bool || id_bool) {\n",
       "                tr[i].style.display = \"\";\n",
       "              } else {\n",
       "                tr[i].style.display = \"none\";\n",
       "              }\n",
       "            }\n",
       "          }\n",
       "        }\n",
       "        </script>"
      ],
      "text/plain": [
       "<syft.core.node.common.client_manager.dataset_api.DatasetRequestAPI at 0x7f19c2c24cd0>"
      ]
     },
     "execution_count": 14,
     "metadata": {},
     "output_type": "execute_result"
    }
   ],
   "source": [
    "domain_proxy_1.datasets"
   ]
  },
  {
   "cell_type": "code",
   "execution_count": 15,
   "id": "87ff7e21-8fdd-4f9d-953c-16d961d5eedd",
   "metadata": {},
   "outputs": [],
   "source": [
    "pointer_2 = domain_proxy_2.datasets[-2][\"data\"]\n",
    "pointer_1 = domain_proxy_1.datasets[-2][\"data\"]\n"
   ]
  },
  {
   "cell_type": "code",
   "execution_count": 16,
   "id": "c9e9a1db-8edb-4fb6-a0d6-93503c9b6f77",
   "metadata": {},
   "outputs": [
    {
     "ename": "TypeError",
     "evalue": "__init__() got an unexpected keyword argument 'min_val'",
     "output_type": "error",
     "traceback": [
      "\u001b[0;31m---------------------------------------------------------------------------\u001b[0m",
      "\u001b[0;31mTypeError\u001b[0m                                 Traceback (most recent call last)",
      "Input \u001b[0;32mIn [16]\u001b[0m, in \u001b[0;36m<cell line: 1>\u001b[0;34m()\u001b[0m\n\u001b[0;32m----> 1\u001b[0m total_sum \u001b[38;5;241m=\u001b[39m \u001b[43mpointer_1\u001b[49m\u001b[43m \u001b[49m\u001b[38;5;241;43m+\u001b[39;49m\u001b[43m \u001b[49m\u001b[43mpointer_2\u001b[49m\n",
      "File \u001b[0;32m~/.hagrid/quickstart/.venv/lib/python3.8/site-packages/syft/core/tensor/autodp/phi_tensor.py:316\u001b[0m, in \u001b[0;36mTensorWrappedPhiTensorPointer.__add__\u001b[0;34m(self, other)\u001b[0m\n\u001b[1;32m    304\u001b[0m \u001b[38;5;28;01mdef\u001b[39;00m \u001b[38;5;21m__add__\u001b[39m(\n\u001b[1;32m    305\u001b[0m     \u001b[38;5;28mself\u001b[39m,\n\u001b[1;32m    306\u001b[0m     other: Union[TensorWrappedPhiTensorPointer, MPCTensor, \u001b[38;5;28mint\u001b[39m, \u001b[38;5;28mfloat\u001b[39m, np\u001b[38;5;241m.\u001b[39mndarray],\n\u001b[1;32m    307\u001b[0m ) \u001b[38;5;241m-\u001b[39m\u001b[38;5;241m>\u001b[39m Union[TensorWrappedPhiTensorPointer, MPCTensor]:\n\u001b[1;32m    308\u001b[0m     \u001b[38;5;124;03m\"\"\"Apply the \"add\" operation between \"self\" and \"other\"\u001b[39;00m\n\u001b[1;32m    309\u001b[0m \n\u001b[1;32m    310\u001b[0m \u001b[38;5;124;03m    Args:\u001b[39;00m\n\u001b[0;32m   (...)\u001b[0m\n\u001b[1;32m    314\u001b[0m \u001b[38;5;124;03m        Union[TensorWrappedPhiTensorPointer,MPCTensor] : Result of the operation.\u001b[39;00m\n\u001b[1;32m    315\u001b[0m \u001b[38;5;124;03m    \"\"\"\u001b[39;00m\n\u001b[0;32m--> 316\u001b[0m     \u001b[38;5;28;01mreturn\u001b[39;00m \u001b[43mTensorWrappedPhiTensorPointer\u001b[49m\u001b[38;5;241;43m.\u001b[39;49m\u001b[43m_apply_op\u001b[49m\u001b[43m(\u001b[49m\u001b[38;5;28;43mself\u001b[39;49m\u001b[43m,\u001b[49m\u001b[43m \u001b[49m\u001b[43mother\u001b[49m\u001b[43m,\u001b[49m\u001b[43m \u001b[49m\u001b[38;5;124;43m\"\u001b[39;49m\u001b[38;5;124;43m__add__\u001b[39;49m\u001b[38;5;124;43m\"\u001b[39;49m\u001b[43m)\u001b[49m\n",
      "File \u001b[0;32m~/.hagrid/quickstart/.venv/lib/python3.8/site-packages/syft/core/tensor/autodp/phi_tensor.py:275\u001b[0m, in \u001b[0;36mTensorWrappedPhiTensorPointer._apply_op\u001b[0;34m(self, other, op_str)\u001b[0m\n\u001b[1;32m    273\u001b[0m \u001b[38;5;28;01mif\u001b[39;00m \u001b[38;5;28misinstance\u001b[39m(other, TensorWrappedPhiTensorPointer):\n\u001b[1;32m    274\u001b[0m     \u001b[38;5;28;01mif\u001b[39;00m (\u001b[38;5;28mself\u001b[39m\u001b[38;5;241m.\u001b[39mdata_subjects \u001b[38;5;241m!=\u001b[39m other\u001b[38;5;241m.\u001b[39mdata_subjects)\u001b[38;5;241m.\u001b[39mall():  \u001b[38;5;66;03m# type: ignore\u001b[39;00m\n\u001b[0;32m--> 275\u001b[0m         \u001b[38;5;28;01mreturn\u001b[39;00m \u001b[38;5;28;43mgetattr\u001b[39;49m\u001b[43m(\u001b[49m\u001b[38;5;28;43mself\u001b[39;49m\u001b[38;5;241;43m.\u001b[39;49m\u001b[43mgamma\u001b[49m\u001b[43m,\u001b[49m\u001b[43m \u001b[49m\u001b[43mop_str\u001b[49m\u001b[43m)\u001b[49m\u001b[43m(\u001b[49m\u001b[43mother\u001b[49m\u001b[38;5;241;43m.\u001b[39;49m\u001b[43mgamma\u001b[49m\u001b[43m)\u001b[49m\n\u001b[1;32m    276\u001b[0m \u001b[38;5;28;01melif\u001b[39;00m \u001b[38;5;28misinstance\u001b[39m(other, TensorWrappedGammaTensorPointer):\n\u001b[1;32m    277\u001b[0m     \u001b[38;5;28;01mreturn\u001b[39;00m \u001b[38;5;28mgetattr\u001b[39m(\u001b[38;5;28mself\u001b[39m\u001b[38;5;241m.\u001b[39mgamma, op_str)(other)\n",
      "File \u001b[0;32m~/.hagrid/quickstart/.venv/lib/python3.8/site-packages/syft/core/tensor/autodp/gamma_tensor.py:302\u001b[0m, in \u001b[0;36mTensorWrappedGammaTensorPointer.__add__\u001b[0;34m(self, other)\u001b[0m\n\u001b[1;32m    288\u001b[0m \u001b[38;5;28;01mdef\u001b[39;00m \u001b[38;5;21m__add__\u001b[39m(\n\u001b[1;32m    289\u001b[0m     \u001b[38;5;28mself\u001b[39m,\n\u001b[1;32m    290\u001b[0m     other: Union[\n\u001b[1;32m    291\u001b[0m         TensorWrappedGammaTensorPointer, MPCTensor, \u001b[38;5;28mint\u001b[39m, \u001b[38;5;28mfloat\u001b[39m, np\u001b[38;5;241m.\u001b[39mndarray\n\u001b[1;32m    292\u001b[0m     ],\n\u001b[1;32m    293\u001b[0m ) \u001b[38;5;241m-\u001b[39m\u001b[38;5;241m>\u001b[39m Union[TensorWrappedGammaTensorPointer, MPCTensor]:\n\u001b[1;32m    294\u001b[0m     \u001b[38;5;124;03m\"\"\"Apply the \"add\" operation between \"self\" and \"other\"\u001b[39;00m\n\u001b[1;32m    295\u001b[0m \n\u001b[1;32m    296\u001b[0m \u001b[38;5;124;03m    Args:\u001b[39;00m\n\u001b[0;32m   (...)\u001b[0m\n\u001b[1;32m    300\u001b[0m \u001b[38;5;124;03m        Union[TensorWrappedGammaTensorPointer,MPCTensor] : Result of the operation.\u001b[39;00m\n\u001b[1;32m    301\u001b[0m \u001b[38;5;124;03m    \"\"\"\u001b[39;00m\n\u001b[0;32m--> 302\u001b[0m     \u001b[38;5;28;01mreturn\u001b[39;00m \u001b[43mTensorWrappedGammaTensorPointer\u001b[49m\u001b[38;5;241;43m.\u001b[39;49m\u001b[43m_apply_op\u001b[49m\u001b[43m(\u001b[49m\u001b[38;5;28;43mself\u001b[39;49m\u001b[43m,\u001b[49m\u001b[43m \u001b[49m\u001b[43mother\u001b[49m\u001b[43m,\u001b[49m\u001b[43m \u001b[49m\u001b[38;5;124;43m\"\u001b[39;49m\u001b[38;5;124;43m__add__\u001b[39;49m\u001b[38;5;124;43m\"\u001b[39;49m\u001b[43m)\u001b[49m\n",
      "File \u001b[0;32m~/.hagrid/quickstart/.venv/lib/python3.8/site-packages/syft/core/tensor/autodp/gamma_tensor.py:275\u001b[0m, in \u001b[0;36mTensorWrappedGammaTensorPointer._apply_op\u001b[0;34m(self, other, op_str)\u001b[0m\n\u001b[1;32m    268\u001b[0m \u001b[38;5;28;01mif\u001b[39;00m (\n\u001b[1;32m    269\u001b[0m     \u001b[38;5;28misinstance\u001b[39m(other, TensorWrappedGammaTensorPointer)\n\u001b[1;32m    270\u001b[0m     \u001b[38;5;129;01mand\u001b[39;00m \u001b[38;5;28mself\u001b[39m\u001b[38;5;241m.\u001b[39mclient \u001b[38;5;241m!=\u001b[39m other\u001b[38;5;241m.\u001b[39mclient\n\u001b[1;32m    271\u001b[0m ):\n\u001b[1;32m    273\u001b[0m     parties \u001b[38;5;241m=\u001b[39m [\u001b[38;5;28mself\u001b[39m\u001b[38;5;241m.\u001b[39mclient, other\u001b[38;5;241m.\u001b[39mclient]\n\u001b[0;32m--> 275\u001b[0m     self_mpc \u001b[38;5;241m=\u001b[39m \u001b[43mMPCTensor\u001b[49m\u001b[43m(\u001b[49m\u001b[43msecret\u001b[49m\u001b[38;5;241;43m=\u001b[39;49m\u001b[38;5;28;43mself\u001b[39;49m\u001b[43m,\u001b[49m\u001b[43m \u001b[49m\u001b[43mshape\u001b[49m\u001b[38;5;241;43m=\u001b[39;49m\u001b[38;5;28;43mself\u001b[39;49m\u001b[38;5;241;43m.\u001b[39;49m\u001b[43mpublic_shape\u001b[49m\u001b[43m,\u001b[49m\u001b[43m \u001b[49m\u001b[43mparties\u001b[49m\u001b[38;5;241;43m=\u001b[39;49m\u001b[43mparties\u001b[49m\u001b[43m)\u001b[49m\n\u001b[1;32m    276\u001b[0m     other_mpc \u001b[38;5;241m=\u001b[39m MPCTensor(\n\u001b[1;32m    277\u001b[0m         secret\u001b[38;5;241m=\u001b[39mother, shape\u001b[38;5;241m=\u001b[39mother\u001b[38;5;241m.\u001b[39mpublic_shape, parties\u001b[38;5;241m=\u001b[39mparties\n\u001b[1;32m    278\u001b[0m     )\n\u001b[1;32m    280\u001b[0m     \u001b[38;5;28;01mreturn\u001b[39;00m \u001b[38;5;28mgetattr\u001b[39m(self_mpc, op_str)(other_mpc)\n",
      "File \u001b[0;32m~/.hagrid/quickstart/.venv/lib/python3.8/site-packages/syft/core/tensor/smpc/mpc_tensor.py:118\u001b[0m, in \u001b[0;36mMPCTensor.__init__\u001b[0;34m(self, parties, secret, shares, shape, seed_przs, ring_size)\u001b[0m\n\u001b[1;32m    115\u001b[0m     \u001b[38;5;28;01mraise\u001b[39;00m \u001b[38;5;167;01mValueError\u001b[39;00m(\u001b[38;5;124m\"\u001b[39m\u001b[38;5;124mShape of the secret should be known\u001b[39m\u001b[38;5;124m\"\u001b[39m)\n\u001b[1;32m    117\u001b[0m \u001b[38;5;28;01mif\u001b[39;00m secret \u001b[38;5;129;01mis\u001b[39;00m \u001b[38;5;129;01mnot\u001b[39;00m \u001b[38;5;28;01mNone\u001b[39;00m:\n\u001b[0;32m--> 118\u001b[0m     shares \u001b[38;5;241m=\u001b[39m \u001b[43mMPCTensor\u001b[49m\u001b[38;5;241;43m.\u001b[39;49m\u001b[43m_get_shares_from_secret\u001b[49m\u001b[43m(\u001b[49m\n\u001b[1;32m    119\u001b[0m \u001b[43m        \u001b[49m\u001b[43msecret\u001b[49m\u001b[38;5;241;43m=\u001b[39;49m\u001b[43msecret\u001b[49m\u001b[43m,\u001b[49m\n\u001b[1;32m    120\u001b[0m \u001b[43m        \u001b[49m\u001b[43mparties\u001b[49m\u001b[38;5;241;43m=\u001b[39;49m\u001b[43mparties\u001b[49m\u001b[43m,\u001b[49m\n\u001b[1;32m    121\u001b[0m \u001b[43m        \u001b[49m\u001b[43mparties_info\u001b[49m\u001b[38;5;241;43m=\u001b[39;49m\u001b[38;5;28;43mself\u001b[39;49m\u001b[38;5;241;43m.\u001b[39;49m\u001b[43mparties_info\u001b[49m\u001b[43m,\u001b[49m\n\u001b[1;32m    122\u001b[0m \u001b[43m        \u001b[49m\u001b[43mshape\u001b[49m\u001b[38;5;241;43m=\u001b[39;49m\u001b[43mshape\u001b[49m\u001b[43m,\u001b[49m\n\u001b[1;32m    123\u001b[0m \u001b[43m        \u001b[49m\u001b[43mseed_przs\u001b[49m\u001b[38;5;241;43m=\u001b[39;49m\u001b[43mseed_przs\u001b[49m\u001b[43m,\u001b[49m\n\u001b[1;32m    124\u001b[0m \u001b[43m        \u001b[49m\u001b[43mring_size\u001b[49m\u001b[38;5;241;43m=\u001b[39;49m\u001b[38;5;28;43mself\u001b[39;49m\u001b[38;5;241;43m.\u001b[39;49m\u001b[43mring_size\u001b[49m\u001b[43m,\u001b[49m\n\u001b[1;32m    125\u001b[0m \u001b[43m    \u001b[49m\u001b[43m)\u001b[49m\n\u001b[1;32m    127\u001b[0m \u001b[38;5;28;01mif\u001b[39;00m shares \u001b[38;5;129;01mis\u001b[39;00m \u001b[38;5;28;01mNone\u001b[39;00m:\n\u001b[1;32m    128\u001b[0m     \u001b[38;5;28;01mraise\u001b[39;00m \u001b[38;5;167;01mValueError\u001b[39;00m(\u001b[38;5;124m\"\u001b[39m\u001b[38;5;124mShares should not be None at this step\u001b[39m\u001b[38;5;124m\"\u001b[39m)\n",
      "File \u001b[0;32m~/.hagrid/quickstart/.venv/lib/python3.8/site-packages/syft/core/tensor/smpc/mpc_tensor.py:271\u001b[0m, in \u001b[0;36mMPCTensor._get_shares_from_secret\u001b[0;34m(secret, parties, shape, seed_przs, parties_info, ring_size)\u001b[0m\n\u001b[1;32m    269\u001b[0m     \u001b[38;5;28;01mif\u001b[39;00m shape \u001b[38;5;129;01mis\u001b[39;00m \u001b[38;5;28;01mNone\u001b[39;00m:\n\u001b[1;32m    270\u001b[0m         \u001b[38;5;28;01mraise\u001b[39;00m \u001b[38;5;167;01mValueError\u001b[39;00m(\u001b[38;5;124m\"\u001b[39m\u001b[38;5;124mShape must be specified when the secret is remote\u001b[39m\u001b[38;5;124m\"\u001b[39m)\n\u001b[0;32m--> 271\u001b[0m     \u001b[38;5;28;01mreturn\u001b[39;00m \u001b[43mMPCTensor\u001b[49m\u001b[38;5;241;43m.\u001b[39;49m\u001b[43m_get_shares_from_remote_secret\u001b[49m\u001b[43m(\u001b[49m\n\u001b[1;32m    272\u001b[0m \u001b[43m        \u001b[49m\u001b[43msecret\u001b[49m\u001b[38;5;241;43m=\u001b[39;49m\u001b[43msecret\u001b[49m\u001b[43m,\u001b[49m\n\u001b[1;32m    273\u001b[0m \u001b[43m        \u001b[49m\u001b[43mshape\u001b[49m\u001b[38;5;241;43m=\u001b[39;49m\u001b[43mshape\u001b[49m\u001b[43m,\u001b[49m\n\u001b[1;32m    274\u001b[0m \u001b[43m        \u001b[49m\u001b[43mparties\u001b[49m\u001b[38;5;241;43m=\u001b[39;49m\u001b[43mparties\u001b[49m\u001b[43m,\u001b[49m\n\u001b[1;32m    275\u001b[0m \u001b[43m        \u001b[49m\u001b[43mseed_przs\u001b[49m\u001b[38;5;241;43m=\u001b[39;49m\u001b[43mseed_przs\u001b[49m\u001b[43m,\u001b[49m\n\u001b[1;32m    276\u001b[0m \u001b[43m        \u001b[49m\u001b[43mparties_info\u001b[49m\u001b[38;5;241;43m=\u001b[39;49m\u001b[43mparties_info\u001b[49m\u001b[43m,\u001b[49m\n\u001b[1;32m    277\u001b[0m \u001b[43m        \u001b[49m\u001b[43mring_size\u001b[49m\u001b[38;5;241;43m=\u001b[39;49m\u001b[43mring_size\u001b[49m\u001b[43m,\u001b[49m\n\u001b[1;32m    278\u001b[0m \u001b[43m    \u001b[49m\u001b[43m)\u001b[49m\n\u001b[1;32m    280\u001b[0m \u001b[38;5;28;01mreturn\u001b[39;00m MPCTensor\u001b[38;5;241m.\u001b[39m_get_shares_from_local_secret(\n\u001b[1;32m    281\u001b[0m     secret\u001b[38;5;241m=\u001b[39msecret,\n\u001b[1;32m    282\u001b[0m     seed_przs\u001b[38;5;241m=\u001b[39mseed_przs,\n\u001b[0;32m   (...)\u001b[0m\n\u001b[1;32m    285\u001b[0m     parties_info\u001b[38;5;241m=\u001b[39mparties_info,\n\u001b[1;32m    286\u001b[0m )\n",
      "File \u001b[0;32m~/.hagrid/quickstart/.venv/lib/python3.8/site-packages/syft/core/tensor/smpc/mpc_tensor.py:313\u001b[0m, in \u001b[0;36mMPCTensor._get_shares_from_remote_secret\u001b[0;34m(secret, shape, parties, seed_przs, parties_info, ring_size)\u001b[0m\n\u001b[1;32m    308\u001b[0m is_dp_tensor \u001b[38;5;241m=\u001b[39m \u001b[38;5;28;01mFalse\u001b[39;00m\n\u001b[1;32m    309\u001b[0m \u001b[38;5;28;01mif\u001b[39;00m \u001b[38;5;28misinstance\u001b[39m(\n\u001b[1;32m    310\u001b[0m     secret, (TensorWrappedPhiTensorPointer, TensorWrappedGammaTensorPointer)\n\u001b[1;32m    311\u001b[0m ):\n\u001b[0;32m--> 313\u001b[0m     share_wrapper \u001b[38;5;241m=\u001b[39m \u001b[43msecret\u001b[49m\u001b[38;5;241;43m.\u001b[39;49m\u001b[43mto_local_object_without_private_data_child\u001b[49m\u001b[43m(\u001b[49m\u001b[43m)\u001b[49m\n\u001b[1;32m    315\u001b[0m     kwargs \u001b[38;5;241m=\u001b[39m {\n\u001b[1;32m    316\u001b[0m         \u001b[38;5;124m\"\u001b[39m\u001b[38;5;124mrank\u001b[39m\u001b[38;5;124m\"\u001b[39m: i,\n\u001b[1;32m    317\u001b[0m         \u001b[38;5;124m\"\u001b[39m\u001b[38;5;124mparties_info\u001b[39m\u001b[38;5;124m\"\u001b[39m: parties_info,\n\u001b[0;32m   (...)\u001b[0m\n\u001b[1;32m    322\u001b[0m         \u001b[38;5;124m\"\u001b[39m\u001b[38;5;124mring_size\u001b[39m\u001b[38;5;124m\"\u001b[39m: \u001b[38;5;28mstr\u001b[39m(ring_size),\n\u001b[1;32m    323\u001b[0m     }\n\u001b[1;32m    324\u001b[0m     is_dp_tensor \u001b[38;5;241m=\u001b[39m \u001b[38;5;28;01mTrue\u001b[39;00m\n",
      "File \u001b[0;32m~/.hagrid/quickstart/.venv/lib/python3.8/site-packages/syft/core/tensor/autodp/gamma_tensor.py:1044\u001b[0m, in \u001b[0;36mTensorWrappedGammaTensorPointer.to_local_object_without_private_data_child\u001b[0;34m(self)\u001b[0m\n\u001b[1;32m   1041\u001b[0m public_shape \u001b[38;5;241m=\u001b[39m \u001b[38;5;28mgetattr\u001b[39m(\u001b[38;5;28mself\u001b[39m, \u001b[38;5;124m\"\u001b[39m\u001b[38;5;124mpublic_shape\u001b[39m\u001b[38;5;124m\"\u001b[39m, \u001b[38;5;28;01mNone\u001b[39;00m)\n\u001b[1;32m   1042\u001b[0m public_dtype \u001b[38;5;241m=\u001b[39m \u001b[38;5;28mgetattr\u001b[39m(\u001b[38;5;28mself\u001b[39m, \u001b[38;5;124m\"\u001b[39m\u001b[38;5;124mpublic_dtype\u001b[39m\u001b[38;5;124m\"\u001b[39m, \u001b[38;5;28;01mNone\u001b[39;00m)\n\u001b[1;32m   1043\u001b[0m \u001b[38;5;28;01mreturn\u001b[39;00m Tensor(\n\u001b[0;32m-> 1044\u001b[0m     child\u001b[38;5;241m=\u001b[39m\u001b[43mGammaTensor\u001b[49m\u001b[43m(\u001b[49m\n\u001b[1;32m   1045\u001b[0m \u001b[43m        \u001b[49m\u001b[43mchild\u001b[49m\u001b[38;5;241;43m=\u001b[39;49m\u001b[43mFixedPrecisionTensor\u001b[49m\u001b[43m(\u001b[49m\u001b[43mvalue\u001b[49m\u001b[38;5;241;43m=\u001b[39;49m\u001b[38;5;28;43;01mNone\u001b[39;49;00m\u001b[43m)\u001b[49m\u001b[43m,\u001b[49m\n\u001b[1;32m   1046\u001b[0m \u001b[43m        \u001b[49m\u001b[43mdata_subjects\u001b[49m\u001b[38;5;241;43m=\u001b[39;49m\u001b[38;5;28;43mself\u001b[39;49m\u001b[38;5;241;43m.\u001b[39;49m\u001b[43mdata_subjects\u001b[49m\u001b[43m,\u001b[49m\n\u001b[1;32m   1047\u001b[0m \u001b[43m        \u001b[49m\u001b[43mmin_val\u001b[49m\u001b[38;5;241;43m=\u001b[39;49m\u001b[38;5;28;43mself\u001b[39;49m\u001b[38;5;241;43m.\u001b[39;49m\u001b[43mmin_vals\u001b[49m\u001b[43m,\u001b[49m\u001b[43m  \u001b[49m\u001b[38;5;66;43;03m# type: ignore\u001b[39;49;00m\n\u001b[1;32m   1048\u001b[0m \u001b[43m        \u001b[49m\u001b[43mmax_val\u001b[49m\u001b[38;5;241;43m=\u001b[39;49m\u001b[38;5;28;43mself\u001b[39;49m\u001b[38;5;241;43m.\u001b[39;49m\u001b[43mmax_vals\u001b[49m\u001b[43m,\u001b[49m\u001b[43m  \u001b[49m\u001b[38;5;66;43;03m# type: ignore\u001b[39;49;00m\n\u001b[1;32m   1049\u001b[0m \u001b[43m    \u001b[49m\u001b[43m)\u001b[49m,\n\u001b[1;32m   1050\u001b[0m     public_shape\u001b[38;5;241m=\u001b[39mpublic_shape,\n\u001b[1;32m   1051\u001b[0m     public_dtype\u001b[38;5;241m=\u001b[39mpublic_dtype,\n\u001b[1;32m   1052\u001b[0m )\n",
      "\u001b[0;31mTypeError\u001b[0m: __init__() got an unexpected keyword argument 'min_val'"
     ]
    }
   ],
   "source": [
    "total_sum = pointer_1 + pointer_2"
   ]
  },
  {
   "cell_type": "code",
   "execution_count": null,
   "id": "a32dcdfb-2130-4312-8e55-067295dbc83a",
   "metadata": {},
   "outputs": [],
   "source": [
    "result=total_sum.publish(sigma=0.1)"
   ]
  },
  {
   "cell_type": "code",
   "execution_count": null,
   "id": "c7f20336-464f-4ba1-9139-989fcf3a2557",
   "metadata": {},
   "outputs": [],
   "source": [
    "array = result.get(delete_obj=False)\n"
   ]
  },
  {
   "cell_type": "code",
   "execution_count": null,
   "id": "c252eb61-5971-4c6c-aff9-d80c9d640517",
   "metadata": {},
   "outputs": [],
   "source": [
    "int(array)"
   ]
  },
  {
   "cell_type": "code",
   "execution_count": 42,
   "id": "708d22f2-88d0-4550-a3ec-f62cb7c9dbe4",
   "metadata": {},
   "outputs": [
    {
     "data": {
      "text/plain": [
       "46478681.981483005"
      ]
     },
     "execution_count": 42,
     "metadata": {},
     "output_type": "execute_result"
    }
   ],
   "source": [
    "domain_proxy_1.privacy_budget\n"
   ]
  },
  {
   "cell_type": "code",
   "execution_count": null,
   "id": "a15e1df7-826a-4ac9-9547-7dc99249579b",
   "metadata": {},
   "outputs": [],
   "source": []
  }
 ],
 "metadata": {
  "kernelspec": {
   "display_name": "Python 3 (ipykernel)",
   "language": "python",
   "name": "python3"
  },
  "language_info": {
   "codemirror_mode": {
    "name": "ipython",
    "version": 3
   },
   "file_extension": ".py",
   "mimetype": "text/x-python",
   "name": "python",
   "nbconvert_exporter": "python",
   "pygments_lexer": "ipython3",
   "version": "3.8.10"
  }
 },
 "nbformat": 4,
 "nbformat_minor": 5
}

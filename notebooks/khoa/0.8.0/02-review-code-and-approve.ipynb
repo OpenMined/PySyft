{
 "cells": [
  {
   "cell_type": "code",
   "execution_count": 1,
   "metadata": {
    "tags": []
   },
   "outputs": [],
   "source": [
    "import syft as sy"
   ]
  },
  {
   "cell_type": "code",
   "execution_count": 2,
   "metadata": {
    "tags": []
   },
   "outputs": [
    {
     "name": "stdout",
     "output_type": "stream",
     "text": [
      "SQLite Store Path:\n",
      "!open file:///tmp/7bca415d13ed1ec841f0d0aede098dbb.sqlite\n",
      "\n",
      "> Starting Worker: test-domain-1 - 7bca415d13ed1ec841f0d0aede098dbb - NodeType.DOMAIN - [<class 'syft.core.node.new.user_service.UserService'>, <class 'syft.core.node.new.metadata_service.MetadataService'>, <class 'syft.core.node.new.action_service.ActionService'>, <class 'syft.core.node.new.test_service.TestService'>, <class 'syft.core.node.new.dataset_service.DatasetService'>, <class 'syft.core.node.new.user_code_service.UserCodeService'>, <class 'syft.core.node.new.request_service.RequestService'>, <class 'syft.core.node.new.data_subject_service.DataSubjectService'>, <class 'syft.core.node.new.network_service.NetworkService'>, <class 'syft.core.node.new.message_service.MessageService'>, <class 'syft.core.node.new.project_service.ProjectService'>, <class 'syft.core.node.new.data_subject_member_service.DataSubjectMemberService'>]\n"
     ]
    }
   ],
   "source": [
    "worker = sy.Worker.named(\"test-domain-1\", processes=1)\n",
    "domain_client = worker.root_client"
   ]
  },
  {
   "cell_type": "code",
   "execution_count": 3,
   "metadata": {
    "tags": []
   },
   "outputs": [
    {
     "data": {
      "text/html": [
       "List - Size: 2\n",
       "<div>\n",
       "<style scoped>\n",
       "    .dataframe tbody tr th:only-of-type {\n",
       "        vertical-align: middle;\n",
       "    }\n",
       "\n",
       "    .dataframe tbody tr th {\n",
       "        vertical-align: top;\n",
       "    }\n",
       "\n",
       "    .dataframe thead th {\n",
       "        text-align: right;\n",
       "    }\n",
       "</style>\n",
       "<table border=\"1\" class=\"dataframe\">\n",
       "  <thead>\n",
       "    <tr style=\"text-align: right;\">\n",
       "      <th></th>\n",
       "      <th>type</th>\n",
       "      <th>id</th>\n",
       "      <th>subject</th>\n",
       "      <th>status</th>\n",
       "      <th>created_at</th>\n",
       "      <th>linked_obj</th>\n",
       "    </tr>\n",
       "  </thead>\n",
       "  <tbody>\n",
       "    <tr>\n",
       "      <th>0</th>\n",
       "      <td>syft.core.node.new.messages.Message</td>\n",
       "      <td>ba1a9cfb78cb47ab965fce477429646b</td>\n",
       "      <td>Approval Request</td>\n",
       "      <td>MessageStatus.UNDELIVERED</td>\n",
       "      <td>2023-03-14 01:45:23</td>\n",
       "      <td>&lt;&lt;class 'syft.core.node.new.request.Request'&gt;:...</td>\n",
       "    </tr>\n",
       "    <tr>\n",
       "      <th>1</th>\n",
       "      <td>syft.core.node.new.messages.Message</td>\n",
       "      <td>bfc2be59b6744d3bbe73753580a5b45a</td>\n",
       "      <td>Project Approval</td>\n",
       "      <td>MessageStatus.UNDELIVERED</td>\n",
       "      <td>2023-03-14 01:48:58</td>\n",
       "      <td>&lt;&lt;class 'syft.core.node.new.project.Project'&gt;:...</td>\n",
       "    </tr>\n",
       "  </tbody>\n",
       "</table>\n",
       "</div>"
      ],
      "text/plain": [
       "<syft.core.node.new.api.APIModule at 0x7fcd9e939450>"
      ]
     },
     "execution_count": 3,
     "metadata": {},
     "output_type": "execute_result"
    }
   ],
   "source": [
    "domain_client.notifications"
   ]
  },
  {
   "cell_type": "code",
   "execution_count": 4,
   "metadata": {
    "tags": []
   },
   "outputs": [
    {
     "data": {
      "text/html": [
       "List - Size: 2\n",
       "<div>\n",
       "<style scoped>\n",
       "    .dataframe tbody tr th:only-of-type {\n",
       "        vertical-align: middle;\n",
       "    }\n",
       "\n",
       "    .dataframe tbody tr th {\n",
       "        vertical-align: top;\n",
       "    }\n",
       "\n",
       "    .dataframe thead th {\n",
       "        text-align: right;\n",
       "    }\n",
       "</style>\n",
       "<table border=\"1\" class=\"dataframe\">\n",
       "  <thead>\n",
       "    <tr style=\"text-align: right;\">\n",
       "      <th></th>\n",
       "      <th>type</th>\n",
       "      <th>id</th>\n",
       "      <th>subject</th>\n",
       "      <th>status</th>\n",
       "      <th>created_at</th>\n",
       "      <th>linked_obj</th>\n",
       "    </tr>\n",
       "  </thead>\n",
       "  <tbody>\n",
       "    <tr>\n",
       "      <th>0</th>\n",
       "      <td>syft.core.node.new.messages.Message</td>\n",
       "      <td>ba1a9cfb78cb47ab965fce477429646b</td>\n",
       "      <td>Approval Request</td>\n",
       "      <td>MessageStatus.UNDELIVERED</td>\n",
       "      <td>2023-03-14 01:45:23</td>\n",
       "      <td>&lt;&lt;class 'syft.core.node.new.request.Request'&gt;:...</td>\n",
       "    </tr>\n",
       "    <tr>\n",
       "      <th>1</th>\n",
       "      <td>syft.core.node.new.messages.Message</td>\n",
       "      <td>bfc2be59b6744d3bbe73753580a5b45a</td>\n",
       "      <td>Project Approval</td>\n",
       "      <td>MessageStatus.UNDELIVERED</td>\n",
       "      <td>2023-03-14 01:48:58</td>\n",
       "      <td>&lt;&lt;class 'syft.core.node.new.project.Project'&gt;:...</td>\n",
       "    </tr>\n",
       "  </tbody>\n",
       "</table>\n",
       "</div>"
      ],
      "text/plain": [
       "[syft.core.node.new.messages.Message, syft.core.node.new.messages.Message]"
      ]
     },
     "execution_count": 4,
     "metadata": {},
     "output_type": "execute_result"
    }
   ],
   "source": [
    "messages = domain_client.api.services.messages.get_all()\n",
    "messages"
   ]
  },
  {
   "cell_type": "code",
   "execution_count": 5,
   "metadata": {
    "tags": []
   },
   "outputs": [],
   "source": [
    "assert len(messages) == 2"
   ]
  },
  {
   "cell_type": "code",
   "execution_count": 6,
   "metadata": {
    "tags": []
   },
   "outputs": [],
   "source": [
    "project_message = None\n",
    "for message in messages:\n",
    "    if issubclass(message.linked_obj.object_type, sy.core.node.new.project.Project):\n",
    "        project_message = message"
   ]
  },
  {
   "cell_type": "code",
   "execution_count": 7,
   "metadata": {
    "tags": []
   },
   "outputs": [],
   "source": [
    "assert project_message is not None"
   ]
  },
  {
   "cell_type": "code",
   "execution_count": 8,
   "metadata": {
    "tags": []
   },
   "outputs": [
    {
     "data": {
      "text/markdown": [
       "```python\n",
       "class Message:\n",
       "  id: str = bfc2be59b6744d3bbe73753580a5b45a\n",
       "  subject: str = \"Project Approval\"\n",
       "  node_uid: str = 7bca415d13ed1ec841f0d0aede098dbb\n",
       "  from_user_verify_key: str = 8ba9bf578676d73d35631aef51481e7892bb95ebbb6c1f08ec6268b4e60328ee\n",
       "  to_user_verify_key: str = aec6ea4dfc049ceacaeeebc493167a88a200ddc367b1fa32da652444b635d21f\n",
       "  created_at: str = 2023-03-14 01:48:58\n",
       "  status: str = MessageStatus.UNDELIVERED\n",
       "  linked_obj: str = <<class 'syft.core.node.new.project.Project'>: 10bdaf1cad1047ffa5cd1ffe5b6af70b@<Node: 7bca415d13ed1ec841f0d0aede098dbb>\n",
       "\n",
       "```"
      ],
      "text/plain": [
       "syft.core.node.new.messages.Message"
      ]
     },
     "execution_count": 8,
     "metadata": {},
     "output_type": "execute_result"
    }
   ],
   "source": [
    "project_message"
   ]
  },
  {
   "cell_type": "code",
   "execution_count": 9,
   "metadata": {
    "tags": []
   },
   "outputs": [
    {
     "data": {
      "text/markdown": [
       "```python\n",
       "class Project:\n",
       "  id: str = 10bdaf1cad1047ffa5cd1ffe5b6af70b\n",
       "  name: str = \"My Cool UN Project\"\n",
       "  description: str = \"Hi, I want to calculate the trade volume in million's with my cool code.\"\n",
       "  user_verify_key: str = 8ba9bf578676d73d35631aef51481e7892bb95ebbb6c1f08ec6268b4e60328ee\n",
       "  requests: str = [syft.core.node.new.request.Request]\n",
       "\n",
       "```"
      ],
      "text/plain": [
       "syft.core.node.new.project.Project"
      ]
     },
     "execution_count": 9,
     "metadata": {},
     "output_type": "execute_result"
    }
   ],
   "source": [
    "project = project_message.link\n",
    "project"
   ]
  },
  {
   "cell_type": "code",
   "execution_count": 10,
   "metadata": {
    "tags": []
   },
   "outputs": [],
   "source": [
    "assert len(project.requests) == 1"
   ]
  },
  {
   "cell_type": "code",
   "execution_count": 11,
   "metadata": {
    "tags": []
   },
   "outputs": [
    {
     "data": {
      "text/markdown": [
       "```python\n",
       "class Request:\n",
       "  id: str = 2b289c7c21264f7091f8c928e741c435\n",
       "  requesting_user_verify_key: str = 8ba9bf578676d73d35631aef51481e7892bb95ebbb6c1f08ec6268b4e60328ee\n",
       "  approving_user_verify_key: str = None\n",
       "  request_time: str = 2023-03-14 01:48:58\n",
       "  approval_time: str = None\n",
       "  status: str = RequestStatus.PENDING\n",
       "  node_uid: str = 7bca415d13ed1ec841f0d0aede098dbb\n",
       "  request_hash: str = \"aaf743ea96b7d8b94e8f64f2330098fae385262e03a506cfe0f45f484067b439\"\n",
       "  changes: str = [syft.core.node.new.request.UserCodeStatusChange]\n",
       "\n",
       "```"
      ],
      "text/plain": [
       "syft.core.node.new.request.Request"
      ]
     },
     "execution_count": 11,
     "metadata": {},
     "output_type": "execute_result"
    }
   ],
   "source": [
    "request = project.requests[0]\n",
    "request"
   ]
  },
  {
   "cell_type": "code",
   "execution_count": 12,
   "metadata": {
    "tags": []
   },
   "outputs": [
    {
     "data": {
      "text/markdown": [
       "```python\n",
       "class UserCode:\n",
       "  id: str = 161cf7c383024becbcdcb0e5e7a225fc\n",
       "  user_verify_key: str = 8ba9bf578676d73d35631aef51481e7892bb95ebbb6c1f08ec6268b4e60328ee\n",
       "  raw_code: str = \"@sy.syft_function(input_policy=sy.ExactMatch(trade_data=mock),\n",
       "                  output_policy=sy.SingleExecutionExactOutput())\n",
       "def sum_trade_value_mil(trade_data):\n",
       "    import pandas as pd\n",
       "    from opendp.mod import enable_features\n",
       "    enable_features('contrib')\n",
       "    from opendp.measurements import make_base_laplace\n",
       "    aggregate = 0.\n",
       "    base_lap = make_base_laplace(scale=5.)\n",
       "    noise = base_lap(aggregate)\n",
       "\n",
       "    df = trade_data\n",
       "    total = df[\"Trade Value (US$)\"].sum()\n",
       "    return (float(total / 1_000_000), float(noise))\n",
       "\"\n",
       "  input_policy: str = id=<UID: afae9d5ed99c402d863d7c201e3eb341> inputs={NodeView(node_name='test-domain-1', verify_key=aec6ea4dfc049ceacaeeebc493167a88a200ddc367b1fa32da652444b635d21f): {'trade_data': <UID: 7a772a44717b4c4bb149cdfd377689d8>}} node_uid=<UID: 7bca415d13ed1ec841f0d0aede098dbb>\n",
       "  output_policy: str = id=<UID: 2800e6e8a01c45caa9cafbd0ec9c1de9> outputs=[] state_type=<class 'syft.core.node.new.user_code.OutputPolicyStateExecuteOnce'>\n",
       "  output_policy_state: str = id=<UID: 0ca52d22a1904f2c912750b03606fa11> output_history=[] count=0 limit=1\n",
       "  parsed_code: str = \"\n",
       "\n",
       "def user_func_sum_trade_value_mil_8ba9bf578676d73d35631aef51481e7892bb95ebbb6c1f08ec6268b4e60328ee_5cd11d8bc44ba9ca10a6a7f1ce43e49dfbe8f969c6370ef5d062a6390d12a4a0(trade_data):\n",
       "\n",
       "    def sum_trade_value_mil(trade_data):\n",
       "        import pandas as pd\n",
       "        from opendp.mod import enable_features\n",
       "        enable_features('contrib')\n",
       "        from opendp.measurements import make_base_laplace\n",
       "        aggregate = 0.0\n",
       "        base_lap = make_base_laplace(scale=5.0)\n",
       "        noise = base_lap(aggregate)\n",
       "        df = trade_data\n",
       "        total = df['Trade Value (US$)'].sum()\n",
       "        return (float((total / 1000000)), float(noise))\n",
       "    result = sum_trade_value_mil(trade_data=trade_data)\n",
       "    return result\n",
       "\"\n",
       "  service_func_name: str = \"sum_trade_value_mil\"\n",
       "  unique_func_name: str = \"user_func_sum_trade_value_mil_8ba9bf578676d73d35631aef51481e7892bb95ebbb6c1f08ec6268b4e60328ee_5cd11d8bc44ba9ca10a6a7f1ce43e49dfbe8f969c6370ef5d062a6390d12a4a0\"\n",
       "  user_unique_func_name: str = \"user_func_sum_trade_value_mil_8ba9bf578676d73d35631aef51481e7892bb95ebbb6c1f08ec6268b4e60328ee\"\n",
       "  code_hash: str = \"5cd11d8bc44ba9ca10a6a7f1ce43e49dfbe8f969c6370ef5d062a6390d12a4a0\"\n",
       "  signature: str = (trade_data) -> Dict[str, Any]\n",
       "  status: str = {NodeView(node_name='test-domain-1', verify_key=aec6ea4dfc049ceacaeeebc493167a88a200ddc367b1fa32da652444b635d21f): <UserCodeStatus.SUBMITTED: 'submitted'>}\n",
       "  enclave_metadata: str = None\n",
       "\n",
       "```"
      ],
      "text/plain": [
       "syft.core.node.new.user_code.UserCode"
      ]
     },
     "execution_count": 12,
     "metadata": {},
     "output_type": "execute_result"
    }
   ],
   "source": [
    "func = request.changes[0].link\n",
    "func"
   ]
  },
  {
   "cell_type": "code",
   "execution_count": 21,
   "metadata": {
    "tags": []
   },
   "outputs": [
    {
     "name": "stdout",
     "output_type": "stream",
     "text": [
      "@sy.syft_function(input_policy=sy.ExactMatch(trade_data=mock),\n",
      "                  output_policy=sy.SingleExecutionExactOutput())\n",
      "def sum_trade_value_mil(trade_data):\n",
      "    import pandas as pd\n",
      "    from opendp.mod import enable_features\n",
      "    enable_features('contrib')\n",
      "    from opendp.measurements import make_base_laplace\n",
      "    aggregate = 0.\n",
      "    base_lap = make_base_laplace(scale=5.)\n",
      "    noise = base_lap(aggregate)\n",
      "\n",
      "    df = trade_data\n",
      "    total = df[\"Trade Value (US$)\"].sum()\n",
      "    return (float(total / 1_000_000), float(noise))\n",
      "\n"
     ]
    }
   ],
   "source": [
    "print(func.code)"
   ]
  },
  {
   "cell_type": "code",
   "execution_count": 22,
   "metadata": {
    "tags": []
   },
   "outputs": [
    {
     "data": {
      "text/markdown": [
       "```python\n",
       "class ExactMatch:\n",
       "  id: str = afae9d5ed99c402d863d7c201e3eb341\n",
       "  inputs: str = {NodeView(node_name='test-domain-1', verify_key=aec6ea4dfc049ceacaeeebc493167a88a200ddc367b1fa32da652444b635d21f): {'trade_data': <UID: 7a772a44717b4c4bb149cdfd377689d8>}}\n",
       "  node_uid: str = 7bca415d13ed1ec841f0d0aede098dbb\n",
       "\n",
       "```"
      ],
      "text/plain": [
       "syft.core.node.new.user_code.ExactMatch"
      ]
     },
     "execution_count": 22,
     "metadata": {},
     "output_type": "execute_result"
    }
   ],
   "source": [
    "ip = func.input_policy\n",
    "ip"
   ]
  },
  {
   "cell_type": "code",
   "execution_count": 24,
   "metadata": {
    "tags": []
   },
   "outputs": [
    {
     "data": {
      "text/html": [
       "List - Size: 1\n",
       "<div>\n",
       "<style scoped>\n",
       "    .dataframe tbody tr th:only-of-type {\n",
       "        vertical-align: middle;\n",
       "    }\n",
       "\n",
       "    .dataframe tbody tr th {\n",
       "        vertical-align: top;\n",
       "    }\n",
       "\n",
       "    .dataframe thead th {\n",
       "        text-align: right;\n",
       "    }\n",
       "</style>\n",
       "<table border=\"1\" class=\"dataframe\">\n",
       "  <thead>\n",
       "    <tr style=\"text-align: right;\">\n",
       "      <th></th>\n",
       "      <th>type</th>\n",
       "      <th>id</th>\n",
       "    </tr>\n",
       "  </thead>\n",
       "  <tbody>\n",
       "    <tr>\n",
       "      <th>0</th>\n",
       "      <td>syft.core.node.new.dataset.Asset</td>\n",
       "      <td>a654a5fce0264483837832bc171bc933</td>\n",
       "    </tr>\n",
       "  </tbody>\n",
       "</table>\n",
       "</div>"
      ],
      "text/plain": [
       "[syft.core.node.new.dataset.Asset]"
      ]
     },
     "execution_count": 24,
     "metadata": {},
     "output_type": "execute_result"
    }
   ],
   "source": [
    "ip.assets"
   ]
  },
  {
   "cell_type": "code",
   "execution_count": 25,
   "metadata": {
    "tags": []
   },
   "outputs": [
    {
     "data": {
      "text/markdown": [
       "```python\n",
       "Asset: canada_trade_flow\n",
       "Pointer Id: 7a772a44717b4c4bb149cdfd377689d8\n",
       "Description: all the datas\n",
       "Total Data Subjects: 1\n",
       "Shape: (10, 22)\n",
       "Contributors: 1\n",
       "\tAndrew Trask: andrew@openmined.org\n",
       "\n",
       "```"
      ],
      "text/plain": [
       "syft.core.node.new.dataset.Asset"
      ]
     },
     "execution_count": 25,
     "metadata": {},
     "output_type": "execute_result"
    }
   ],
   "source": [
    "asset = ip.assets[0]\n",
    "asset"
   ]
  },
  {
   "cell_type": "code",
   "execution_count": 26,
   "metadata": {
    "tags": []
   },
   "outputs": [],
   "source": [
    "assert len(asset.data_subjects) == 1"
   ]
  },
  {
   "cell_type": "code",
   "execution_count": 27,
   "metadata": {
    "tags": []
   },
   "outputs": [
    {
     "data": {
      "text/html": [
       "<div>\n",
       "<style scoped>\n",
       "    .dataframe tbody tr th:only-of-type {\n",
       "        vertical-align: middle;\n",
       "    }\n",
       "\n",
       "    .dataframe tbody tr th {\n",
       "        vertical-align: top;\n",
       "    }\n",
       "\n",
       "    .dataframe thead th {\n",
       "        text-align: right;\n",
       "    }\n",
       "</style>\n",
       "<table border=\"1\" class=\"dataframe\">\n",
       "  <thead>\n",
       "    <tr style=\"text-align: right;\">\n",
       "      <th></th>\n",
       "      <th>Classification</th>\n",
       "      <th>Year</th>\n",
       "      <th>Period</th>\n",
       "      <th>Period Desc.</th>\n",
       "      <th>Aggregate Level</th>\n",
       "      <th>Is Leaf Code</th>\n",
       "      <th>Trade Flow Code</th>\n",
       "      <th>Trade Flow</th>\n",
       "      <th>Reporter Code</th>\n",
       "      <th>Reporter</th>\n",
       "      <th>...</th>\n",
       "      <th>Partner</th>\n",
       "      <th>Partner ISO</th>\n",
       "      <th>Commodity Code</th>\n",
       "      <th>Commodity</th>\n",
       "      <th>Qty Unit Code</th>\n",
       "      <th>Qty Unit</th>\n",
       "      <th>Qty</th>\n",
       "      <th>Netweight (kg)</th>\n",
       "      <th>Trade Value (US$)</th>\n",
       "      <th>Flag</th>\n",
       "    </tr>\n",
       "  </thead>\n",
       "  <tbody>\n",
       "    <tr>\n",
       "      <th>10</th>\n",
       "      <td>HS</td>\n",
       "      <td>2021</td>\n",
       "      <td>202102</td>\n",
       "      <td>February 2021</td>\n",
       "      <td>2</td>\n",
       "      <td>0</td>\n",
       "      <td>1</td>\n",
       "      <td>Imports</td>\n",
       "      <td>124</td>\n",
       "      <td>Canada</td>\n",
       "      <td>...</td>\n",
       "      <td>Bangladesh</td>\n",
       "      <td>NaN</td>\n",
       "      <td>19</td>\n",
       "      <td>Preparations of cereals, flour, starch or milk...</td>\n",
       "      <td>0</td>\n",
       "      <td>NaN</td>\n",
       "      <td>NaN</td>\n",
       "      <td>0.0</td>\n",
       "      <td>227222</td>\n",
       "      <td>0</td>\n",
       "    </tr>\n",
       "    <tr>\n",
       "      <th>11</th>\n",
       "      <td>HS</td>\n",
       "      <td>2021</td>\n",
       "      <td>202102</td>\n",
       "      <td>February 2021</td>\n",
       "      <td>2</td>\n",
       "      <td>0</td>\n",
       "      <td>1</td>\n",
       "      <td>Imports</td>\n",
       "      <td>124</td>\n",
       "      <td>Canada</td>\n",
       "      <td>...</td>\n",
       "      <td>Haiti</td>\n",
       "      <td>NaN</td>\n",
       "      <td>19</td>\n",
       "      <td>Preparations of cereals, flour, starch or milk...</td>\n",
       "      <td>0</td>\n",
       "      <td>NaN</td>\n",
       "      <td>NaN</td>\n",
       "      <td>0.0</td>\n",
       "      <td>14748</td>\n",
       "      <td>0</td>\n",
       "    </tr>\n",
       "    <tr>\n",
       "      <th>12</th>\n",
       "      <td>HS</td>\n",
       "      <td>2021</td>\n",
       "      <td>202102</td>\n",
       "      <td>February 2021</td>\n",
       "      <td>2</td>\n",
       "      <td>0</td>\n",
       "      <td>1</td>\n",
       "      <td>Imports</td>\n",
       "      <td>124</td>\n",
       "      <td>Canada</td>\n",
       "      <td>...</td>\n",
       "      <td>Guatemala</td>\n",
       "      <td>NaN</td>\n",
       "      <td>19</td>\n",
       "      <td>Preparations of cereals, flour, starch or milk...</td>\n",
       "      <td>0</td>\n",
       "      <td>NaN</td>\n",
       "      <td>NaN</td>\n",
       "      <td>0.0</td>\n",
       "      <td>1314</td>\n",
       "      <td>0</td>\n",
       "    </tr>\n",
       "    <tr>\n",
       "      <th>13</th>\n",
       "      <td>HS</td>\n",
       "      <td>2021</td>\n",
       "      <td>202102</td>\n",
       "      <td>February 2021</td>\n",
       "      <td>2</td>\n",
       "      <td>0</td>\n",
       "      <td>1</td>\n",
       "      <td>Imports</td>\n",
       "      <td>124</td>\n",
       "      <td>Canada</td>\n",
       "      <td>...</td>\n",
       "      <td>Iraq</td>\n",
       "      <td>NaN</td>\n",
       "      <td>19</td>\n",
       "      <td>Preparations of cereals, flour, starch or milk...</td>\n",
       "      <td>0</td>\n",
       "      <td>NaN</td>\n",
       "      <td>NaN</td>\n",
       "      <td>0.0</td>\n",
       "      <td>1825</td>\n",
       "      <td>0</td>\n",
       "    </tr>\n",
       "    <tr>\n",
       "      <th>14</th>\n",
       "      <td>HS</td>\n",
       "      <td>2021</td>\n",
       "      <td>202102</td>\n",
       "      <td>February 2021</td>\n",
       "      <td>2</td>\n",
       "      <td>0</td>\n",
       "      <td>1</td>\n",
       "      <td>Imports</td>\n",
       "      <td>124</td>\n",
       "      <td>Canada</td>\n",
       "      <td>...</td>\n",
       "      <td>Israel</td>\n",
       "      <td>NaN</td>\n",
       "      <td>19</td>\n",
       "      <td>Preparations of cereals, flour, starch or milk...</td>\n",
       "      <td>0</td>\n",
       "      <td>NaN</td>\n",
       "      <td>NaN</td>\n",
       "      <td>0.0</td>\n",
       "      <td>1063627</td>\n",
       "      <td>0</td>\n",
       "    </tr>\n",
       "    <tr>\n",
       "      <th>15</th>\n",
       "      <td>HS</td>\n",
       "      <td>2021</td>\n",
       "      <td>202102</td>\n",
       "      <td>February 2021</td>\n",
       "      <td>2</td>\n",
       "      <td>0</td>\n",
       "      <td>1</td>\n",
       "      <td>Imports</td>\n",
       "      <td>124</td>\n",
       "      <td>Canada</td>\n",
       "      <td>...</td>\n",
       "      <td>Italy</td>\n",
       "      <td>NaN</td>\n",
       "      <td>19</td>\n",
       "      <td>Preparations of cereals, flour, starch or milk...</td>\n",
       "      <td>0</td>\n",
       "      <td>NaN</td>\n",
       "      <td>NaN</td>\n",
       "      <td>0.0</td>\n",
       "      <td>8359327</td>\n",
       "      <td>0</td>\n",
       "    </tr>\n",
       "    <tr>\n",
       "      <th>16</th>\n",
       "      <td>HS</td>\n",
       "      <td>2021</td>\n",
       "      <td>202102</td>\n",
       "      <td>February 2021</td>\n",
       "      <td>2</td>\n",
       "      <td>0</td>\n",
       "      <td>1</td>\n",
       "      <td>Imports</td>\n",
       "      <td>124</td>\n",
       "      <td>Canada</td>\n",
       "      <td>...</td>\n",
       "      <td>Jordan</td>\n",
       "      <td>NaN</td>\n",
       "      <td>19</td>\n",
       "      <td>Preparations of cereals, flour, starch or milk...</td>\n",
       "      <td>0</td>\n",
       "      <td>NaN</td>\n",
       "      <td>NaN</td>\n",
       "      <td>0.0</td>\n",
       "      <td>16858</td>\n",
       "      <td>0</td>\n",
       "    </tr>\n",
       "    <tr>\n",
       "      <th>17</th>\n",
       "      <td>HS</td>\n",
       "      <td>2021</td>\n",
       "      <td>202102</td>\n",
       "      <td>February 2021</td>\n",
       "      <td>2</td>\n",
       "      <td>0</td>\n",
       "      <td>1</td>\n",
       "      <td>Imports</td>\n",
       "      <td>124</td>\n",
       "      <td>Canada</td>\n",
       "      <td>...</td>\n",
       "      <td>Rep. of Moldova</td>\n",
       "      <td>NaN</td>\n",
       "      <td>19</td>\n",
       "      <td>Preparations of cereals, flour, starch or milk...</td>\n",
       "      <td>0</td>\n",
       "      <td>NaN</td>\n",
       "      <td>NaN</td>\n",
       "      <td>0.0</td>\n",
       "      <td>29897</td>\n",
       "      <td>0</td>\n",
       "    </tr>\n",
       "    <tr>\n",
       "      <th>18</th>\n",
       "      <td>HS</td>\n",
       "      <td>2021</td>\n",
       "      <td>202102</td>\n",
       "      <td>February 2021</td>\n",
       "      <td>2</td>\n",
       "      <td>0</td>\n",
       "      <td>1</td>\n",
       "      <td>Imports</td>\n",
       "      <td>124</td>\n",
       "      <td>Canada</td>\n",
       "      <td>...</td>\n",
       "      <td>Nigeria</td>\n",
       "      <td>NaN</td>\n",
       "      <td>19</td>\n",
       "      <td>Preparations of cereals, flour, starch or milk...</td>\n",
       "      <td>0</td>\n",
       "      <td>NaN</td>\n",
       "      <td>NaN</td>\n",
       "      <td>0.0</td>\n",
       "      <td>22235</td>\n",
       "      <td>0</td>\n",
       "    </tr>\n",
       "    <tr>\n",
       "      <th>19</th>\n",
       "      <td>HS</td>\n",
       "      <td>2021</td>\n",
       "      <td>202102</td>\n",
       "      <td>February 2021</td>\n",
       "      <td>2</td>\n",
       "      <td>0</td>\n",
       "      <td>1</td>\n",
       "      <td>Imports</td>\n",
       "      <td>124</td>\n",
       "      <td>Canada</td>\n",
       "      <td>...</td>\n",
       "      <td>Slovenia</td>\n",
       "      <td>NaN</td>\n",
       "      <td>19</td>\n",
       "      <td>Preparations of cereals, flour, starch or milk...</td>\n",
       "      <td>0</td>\n",
       "      <td>NaN</td>\n",
       "      <td>NaN</td>\n",
       "      <td>0.0</td>\n",
       "      <td>1328</td>\n",
       "      <td>0</td>\n",
       "    </tr>\n",
       "  </tbody>\n",
       "</table>\n",
       "<p>10 rows × 22 columns</p>\n",
       "</div>"
      ],
      "text/plain": [
       "   Classification  Year  Period   Period Desc.  Aggregate Level  Is Leaf Code  \\\n",
       "10             HS  2021  202102  February 2021                2             0   \n",
       "11             HS  2021  202102  February 2021                2             0   \n",
       "12             HS  2021  202102  February 2021                2             0   \n",
       "13             HS  2021  202102  February 2021                2             0   \n",
       "14             HS  2021  202102  February 2021                2             0   \n",
       "15             HS  2021  202102  February 2021                2             0   \n",
       "16             HS  2021  202102  February 2021                2             0   \n",
       "17             HS  2021  202102  February 2021                2             0   \n",
       "18             HS  2021  202102  February 2021                2             0   \n",
       "19             HS  2021  202102  February 2021                2             0   \n",
       "\n",
       "    Trade Flow Code Trade Flow  Reporter Code Reporter  ...          Partner  \\\n",
       "10                1    Imports            124   Canada  ...       Bangladesh   \n",
       "11                1    Imports            124   Canada  ...            Haiti   \n",
       "12                1    Imports            124   Canada  ...        Guatemala   \n",
       "13                1    Imports            124   Canada  ...             Iraq   \n",
       "14                1    Imports            124   Canada  ...           Israel   \n",
       "15                1    Imports            124   Canada  ...            Italy   \n",
       "16                1    Imports            124   Canada  ...           Jordan   \n",
       "17                1    Imports            124   Canada  ...  Rep. of Moldova   \n",
       "18                1    Imports            124   Canada  ...          Nigeria   \n",
       "19                1    Imports            124   Canada  ...         Slovenia   \n",
       "\n",
       "    Partner ISO Commodity Code  \\\n",
       "10          NaN             19   \n",
       "11          NaN             19   \n",
       "12          NaN             19   \n",
       "13          NaN             19   \n",
       "14          NaN             19   \n",
       "15          NaN             19   \n",
       "16          NaN             19   \n",
       "17          NaN             19   \n",
       "18          NaN             19   \n",
       "19          NaN             19   \n",
       "\n",
       "                                            Commodity Qty Unit Code Qty Unit  \\\n",
       "10  Preparations of cereals, flour, starch or milk...             0      NaN   \n",
       "11  Preparations of cereals, flour, starch or milk...             0      NaN   \n",
       "12  Preparations of cereals, flour, starch or milk...             0      NaN   \n",
       "13  Preparations of cereals, flour, starch or milk...             0      NaN   \n",
       "14  Preparations of cereals, flour, starch or milk...             0      NaN   \n",
       "15  Preparations of cereals, flour, starch or milk...             0      NaN   \n",
       "16  Preparations of cereals, flour, starch or milk...             0      NaN   \n",
       "17  Preparations of cereals, flour, starch or milk...             0      NaN   \n",
       "18  Preparations of cereals, flour, starch or milk...             0      NaN   \n",
       "19  Preparations of cereals, flour, starch or milk...             0      NaN   \n",
       "\n",
       "    Qty  Netweight (kg)  Trade Value (US$)  Flag  \n",
       "10  NaN             0.0             227222     0  \n",
       "11  NaN             0.0              14748     0  \n",
       "12  NaN             0.0               1314     0  \n",
       "13  NaN             0.0               1825     0  \n",
       "14  NaN             0.0            1063627     0  \n",
       "15  NaN             0.0            8359327     0  \n",
       "16  NaN             0.0              16858     0  \n",
       "17  NaN             0.0              29897     0  \n",
       "18  NaN             0.0              22235     0  \n",
       "19  NaN             0.0               1328     0  \n",
       "\n",
       "[10 rows x 22 columns]"
      ]
     },
     "execution_count": 27,
     "metadata": {},
     "output_type": "execute_result"
    }
   ],
   "source": [
    "mock = asset.mock\n",
    "mock"
   ]
  },
  {
   "cell_type": "code",
   "execution_count": 28,
   "metadata": {
    "tags": []
   },
   "outputs": [],
   "source": [
    "assert mock.shape == (10, 22)"
   ]
  },
  {
   "cell_type": "code",
   "execution_count": 29,
   "metadata": {
    "tags": []
   },
   "outputs": [
    {
     "data": {
      "text/html": [
       "<div>\n",
       "<style scoped>\n",
       "    .dataframe tbody tr th:only-of-type {\n",
       "        vertical-align: middle;\n",
       "    }\n",
       "\n",
       "    .dataframe tbody tr th {\n",
       "        vertical-align: top;\n",
       "    }\n",
       "\n",
       "    .dataframe thead th {\n",
       "        text-align: right;\n",
       "    }\n",
       "</style>\n",
       "<table border=\"1\" class=\"dataframe\">\n",
       "  <thead>\n",
       "    <tr style=\"text-align: right;\">\n",
       "      <th></th>\n",
       "      <th>Classification</th>\n",
       "      <th>Year</th>\n",
       "      <th>Period</th>\n",
       "      <th>Period Desc.</th>\n",
       "      <th>Aggregate Level</th>\n",
       "      <th>Is Leaf Code</th>\n",
       "      <th>Trade Flow Code</th>\n",
       "      <th>Trade Flow</th>\n",
       "      <th>Reporter Code</th>\n",
       "      <th>Reporter</th>\n",
       "      <th>...</th>\n",
       "      <th>Partner</th>\n",
       "      <th>Partner ISO</th>\n",
       "      <th>Commodity Code</th>\n",
       "      <th>Commodity</th>\n",
       "      <th>Qty Unit Code</th>\n",
       "      <th>Qty Unit</th>\n",
       "      <th>Qty</th>\n",
       "      <th>Netweight (kg)</th>\n",
       "      <th>Trade Value (US$)</th>\n",
       "      <th>Flag</th>\n",
       "    </tr>\n",
       "  </thead>\n",
       "  <tbody>\n",
       "    <tr>\n",
       "      <th>0</th>\n",
       "      <td>HS</td>\n",
       "      <td>2021</td>\n",
       "      <td>202102</td>\n",
       "      <td>February 2021</td>\n",
       "      <td>4</td>\n",
       "      <td>0</td>\n",
       "      <td>1</td>\n",
       "      <td>Imports</td>\n",
       "      <td>124</td>\n",
       "      <td>Canada</td>\n",
       "      <td>...</td>\n",
       "      <td>Other Asia, nes</td>\n",
       "      <td>NaN</td>\n",
       "      <td>6117</td>\n",
       "      <td>Clothing accessories; made up, knitted or croc...</td>\n",
       "      <td>0</td>\n",
       "      <td>NaN</td>\n",
       "      <td>NaN</td>\n",
       "      <td>NaN</td>\n",
       "      <td>9285</td>\n",
       "      <td>0</td>\n",
       "    </tr>\n",
       "    <tr>\n",
       "      <th>1</th>\n",
       "      <td>HS</td>\n",
       "      <td>2021</td>\n",
       "      <td>202102</td>\n",
       "      <td>February 2021</td>\n",
       "      <td>2</td>\n",
       "      <td>0</td>\n",
       "      <td>1</td>\n",
       "      <td>Imports</td>\n",
       "      <td>124</td>\n",
       "      <td>Canada</td>\n",
       "      <td>...</td>\n",
       "      <td>Egypt</td>\n",
       "      <td>NaN</td>\n",
       "      <td>18</td>\n",
       "      <td>Cocoa and cocoa preparations</td>\n",
       "      <td>0</td>\n",
       "      <td>NaN</td>\n",
       "      <td>NaN</td>\n",
       "      <td>0.0</td>\n",
       "      <td>116604</td>\n",
       "      <td>0</td>\n",
       "    </tr>\n",
       "    <tr>\n",
       "      <th>2</th>\n",
       "      <td>HS</td>\n",
       "      <td>2021</td>\n",
       "      <td>202102</td>\n",
       "      <td>February 2021</td>\n",
       "      <td>2</td>\n",
       "      <td>0</td>\n",
       "      <td>1</td>\n",
       "      <td>Imports</td>\n",
       "      <td>124</td>\n",
       "      <td>Canada</td>\n",
       "      <td>...</td>\n",
       "      <td>United Kingdom</td>\n",
       "      <td>NaN</td>\n",
       "      <td>18</td>\n",
       "      <td>Cocoa and cocoa preparations</td>\n",
       "      <td>0</td>\n",
       "      <td>NaN</td>\n",
       "      <td>NaN</td>\n",
       "      <td>0.0</td>\n",
       "      <td>1495175</td>\n",
       "      <td>0</td>\n",
       "    </tr>\n",
       "    <tr>\n",
       "      <th>3</th>\n",
       "      <td>HS</td>\n",
       "      <td>2021</td>\n",
       "      <td>202102</td>\n",
       "      <td>February 2021</td>\n",
       "      <td>2</td>\n",
       "      <td>0</td>\n",
       "      <td>1</td>\n",
       "      <td>Imports</td>\n",
       "      <td>124</td>\n",
       "      <td>Canada</td>\n",
       "      <td>...</td>\n",
       "      <td>United Rep. of Tanzania</td>\n",
       "      <td>NaN</td>\n",
       "      <td>18</td>\n",
       "      <td>Cocoa and cocoa preparations</td>\n",
       "      <td>0</td>\n",
       "      <td>NaN</td>\n",
       "      <td>NaN</td>\n",
       "      <td>0.0</td>\n",
       "      <td>2248</td>\n",
       "      <td>0</td>\n",
       "    </tr>\n",
       "    <tr>\n",
       "      <th>4</th>\n",
       "      <td>HS</td>\n",
       "      <td>2021</td>\n",
       "      <td>202102</td>\n",
       "      <td>February 2021</td>\n",
       "      <td>2</td>\n",
       "      <td>0</td>\n",
       "      <td>1</td>\n",
       "      <td>Imports</td>\n",
       "      <td>124</td>\n",
       "      <td>Canada</td>\n",
       "      <td>...</td>\n",
       "      <td>Singapore</td>\n",
       "      <td>NaN</td>\n",
       "      <td>18</td>\n",
       "      <td>Cocoa and cocoa preparations</td>\n",
       "      <td>0</td>\n",
       "      <td>NaN</td>\n",
       "      <td>NaN</td>\n",
       "      <td>0.0</td>\n",
       "      <td>47840</td>\n",
       "      <td>0</td>\n",
       "    </tr>\n",
       "    <tr>\n",
       "      <th>5</th>\n",
       "      <td>HS</td>\n",
       "      <td>2021</td>\n",
       "      <td>202102</td>\n",
       "      <td>February 2021</td>\n",
       "      <td>2</td>\n",
       "      <td>0</td>\n",
       "      <td>1</td>\n",
       "      <td>Imports</td>\n",
       "      <td>124</td>\n",
       "      <td>Canada</td>\n",
       "      <td>...</td>\n",
       "      <td>Viet Nam</td>\n",
       "      <td>NaN</td>\n",
       "      <td>18</td>\n",
       "      <td>Cocoa and cocoa preparations</td>\n",
       "      <td>0</td>\n",
       "      <td>NaN</td>\n",
       "      <td>NaN</td>\n",
       "      <td>0.0</td>\n",
       "      <td>3526</td>\n",
       "      <td>0</td>\n",
       "    </tr>\n",
       "    <tr>\n",
       "      <th>6</th>\n",
       "      <td>HS</td>\n",
       "      <td>2021</td>\n",
       "      <td>202102</td>\n",
       "      <td>February 2021</td>\n",
       "      <td>2</td>\n",
       "      <td>0</td>\n",
       "      <td>1</td>\n",
       "      <td>Imports</td>\n",
       "      <td>124</td>\n",
       "      <td>Canada</td>\n",
       "      <td>...</td>\n",
       "      <td>South Africa</td>\n",
       "      <td>NaN</td>\n",
       "      <td>18</td>\n",
       "      <td>Cocoa and cocoa preparations</td>\n",
       "      <td>0</td>\n",
       "      <td>NaN</td>\n",
       "      <td>NaN</td>\n",
       "      <td>0.0</td>\n",
       "      <td>5462</td>\n",
       "      <td>0</td>\n",
       "    </tr>\n",
       "    <tr>\n",
       "      <th>7</th>\n",
       "      <td>HS</td>\n",
       "      <td>2021</td>\n",
       "      <td>202102</td>\n",
       "      <td>February 2021</td>\n",
       "      <td>2</td>\n",
       "      <td>0</td>\n",
       "      <td>1</td>\n",
       "      <td>Imports</td>\n",
       "      <td>124</td>\n",
       "      <td>Canada</td>\n",
       "      <td>...</td>\n",
       "      <td>Spain</td>\n",
       "      <td>NaN</td>\n",
       "      <td>18</td>\n",
       "      <td>Cocoa and cocoa preparations</td>\n",
       "      <td>0</td>\n",
       "      <td>NaN</td>\n",
       "      <td>NaN</td>\n",
       "      <td>0.0</td>\n",
       "      <td>311425</td>\n",
       "      <td>0</td>\n",
       "    </tr>\n",
       "    <tr>\n",
       "      <th>8</th>\n",
       "      <td>HS</td>\n",
       "      <td>2021</td>\n",
       "      <td>202102</td>\n",
       "      <td>February 2021</td>\n",
       "      <td>2</td>\n",
       "      <td>0</td>\n",
       "      <td>1</td>\n",
       "      <td>Imports</td>\n",
       "      <td>124</td>\n",
       "      <td>Canada</td>\n",
       "      <td>...</td>\n",
       "      <td>Sweden</td>\n",
       "      <td>NaN</td>\n",
       "      <td>18</td>\n",
       "      <td>Cocoa and cocoa preparations</td>\n",
       "      <td>0</td>\n",
       "      <td>NaN</td>\n",
       "      <td>NaN</td>\n",
       "      <td>0.0</td>\n",
       "      <td>11786</td>\n",
       "      <td>0</td>\n",
       "    </tr>\n",
       "    <tr>\n",
       "      <th>9</th>\n",
       "      <td>HS</td>\n",
       "      <td>2021</td>\n",
       "      <td>202102</td>\n",
       "      <td>February 2021</td>\n",
       "      <td>2</td>\n",
       "      <td>0</td>\n",
       "      <td>1</td>\n",
       "      <td>Imports</td>\n",
       "      <td>124</td>\n",
       "      <td>Canada</td>\n",
       "      <td>...</td>\n",
       "      <td>Venezuela</td>\n",
       "      <td>NaN</td>\n",
       "      <td>18</td>\n",
       "      <td>Cocoa and cocoa preparations</td>\n",
       "      <td>0</td>\n",
       "      <td>NaN</td>\n",
       "      <td>NaN</td>\n",
       "      <td>0.0</td>\n",
       "      <td>33715</td>\n",
       "      <td>0</td>\n",
       "    </tr>\n",
       "  </tbody>\n",
       "</table>\n",
       "<p>10 rows × 22 columns</p>\n",
       "</div>"
      ],
      "text/plain": [
       "  Classification  Year  Period   Period Desc.  Aggregate Level  Is Leaf Code  \\\n",
       "0             HS  2021  202102  February 2021                4             0   \n",
       "1             HS  2021  202102  February 2021                2             0   \n",
       "2             HS  2021  202102  February 2021                2             0   \n",
       "3             HS  2021  202102  February 2021                2             0   \n",
       "4             HS  2021  202102  February 2021                2             0   \n",
       "5             HS  2021  202102  February 2021                2             0   \n",
       "6             HS  2021  202102  February 2021                2             0   \n",
       "7             HS  2021  202102  February 2021                2             0   \n",
       "8             HS  2021  202102  February 2021                2             0   \n",
       "9             HS  2021  202102  February 2021                2             0   \n",
       "\n",
       "   Trade Flow Code Trade Flow  Reporter Code Reporter  ...  \\\n",
       "0                1    Imports            124   Canada  ...   \n",
       "1                1    Imports            124   Canada  ...   \n",
       "2                1    Imports            124   Canada  ...   \n",
       "3                1    Imports            124   Canada  ...   \n",
       "4                1    Imports            124   Canada  ...   \n",
       "5                1    Imports            124   Canada  ...   \n",
       "6                1    Imports            124   Canada  ...   \n",
       "7                1    Imports            124   Canada  ...   \n",
       "8                1    Imports            124   Canada  ...   \n",
       "9                1    Imports            124   Canada  ...   \n",
       "\n",
       "                   Partner  Partner ISO Commodity Code  \\\n",
       "0          Other Asia, nes          NaN           6117   \n",
       "1                    Egypt          NaN             18   \n",
       "2           United Kingdom          NaN             18   \n",
       "3  United Rep. of Tanzania          NaN             18   \n",
       "4                Singapore          NaN             18   \n",
       "5                 Viet Nam          NaN             18   \n",
       "6             South Africa          NaN             18   \n",
       "7                    Spain          NaN             18   \n",
       "8                   Sweden          NaN             18   \n",
       "9                Venezuela          NaN             18   \n",
       "\n",
       "                                           Commodity Qty Unit Code Qty Unit  \\\n",
       "0  Clothing accessories; made up, knitted or croc...             0      NaN   \n",
       "1                       Cocoa and cocoa preparations             0      NaN   \n",
       "2                       Cocoa and cocoa preparations             0      NaN   \n",
       "3                       Cocoa and cocoa preparations             0      NaN   \n",
       "4                       Cocoa and cocoa preparations             0      NaN   \n",
       "5                       Cocoa and cocoa preparations             0      NaN   \n",
       "6                       Cocoa and cocoa preparations             0      NaN   \n",
       "7                       Cocoa and cocoa preparations             0      NaN   \n",
       "8                       Cocoa and cocoa preparations             0      NaN   \n",
       "9                       Cocoa and cocoa preparations             0      NaN   \n",
       "\n",
       "   Qty  Netweight (kg)  Trade Value (US$)  Flag  \n",
       "0  NaN             NaN               9285     0  \n",
       "1  NaN             0.0             116604     0  \n",
       "2  NaN             0.0            1495175     0  \n",
       "3  NaN             0.0               2248     0  \n",
       "4  NaN             0.0              47840     0  \n",
       "5  NaN             0.0               3526     0  \n",
       "6  NaN             0.0               5462     0  \n",
       "7  NaN             0.0             311425     0  \n",
       "8  NaN             0.0              11786     0  \n",
       "9  NaN             0.0              33715     0  \n",
       "\n",
       "[10 rows x 22 columns]"
      ]
     },
     "execution_count": 29,
     "metadata": {},
     "output_type": "execute_result"
    }
   ],
   "source": [
    "data = asset.data\n",
    "data"
   ]
  },
  {
   "cell_type": "code",
   "execution_count": 30,
   "metadata": {
    "tags": []
   },
   "outputs": [],
   "source": [
    "assert data.shape == (10, 22)"
   ]
  },
  {
   "cell_type": "code",
   "execution_count": 31,
   "metadata": {
    "tags": []
   },
   "outputs": [
    {
     "data": {
      "text/markdown": [
       "```python\n",
       "class SingleExecutionExactOutput:\n",
       "  id: str = 2800e6e8a01c45caa9cafbd0ec9c1de9\n",
       "  outputs: str = []\n",
       "  state_type: str = <class 'syft.core.node.new.user_code.OutputPolicyStateExecuteOnce'>\n",
       "\n",
       "```"
      ],
      "text/plain": [
       "syft.core.node.new.user_code.SingleExecutionExactOutput"
      ]
     },
     "execution_count": 31,
     "metadata": {},
     "output_type": "execute_result"
    }
   ],
   "source": [
    "op = func.output_policy\n",
    "op"
   ]
  },
  {
   "cell_type": "code",
   "execution_count": 32,
   "metadata": {
    "tags": []
   },
   "outputs": [
    {
     "name": "stdout",
     "output_type": "stream",
     "text": [
      "@serializable(recursive_serde=True)\n",
      "class SingleExecutionExactOutput(OutputPolicy):\n",
      "    # version\n",
      "    __canonical_name__ = \"SingleExecutionExactOutput\"\n",
      "    __version__ = SYFT_OBJECT_VERSION_1\n",
      "\n",
      "    state_type: Type[OutputPolicyState] = OutputPolicyStateExecuteOnce\n",
      "\n",
      "@serializable(recursive_serde=True)\n",
      "class OutputPolicyStateExecuteOnce(OutputPolicyStateExecuteCount):\n",
      "    __canonical_name__ = \"OutputPolicyStateExecuteOnce\"\n",
      "    __version__ = SYFT_OBJECT_VERSION_1\n",
      "\n",
      "    limit: int = 1\n",
      "\n"
     ]
    }
   ],
   "source": [
    "print(op.policy_code)"
   ]
  },
  {
   "cell_type": "code",
   "execution_count": 33,
   "metadata": {
    "tags": []
   },
   "outputs": [
    {
     "name": "stdout",
     "output_type": "stream",
     "text": [
      "@sy.syft_function(input_policy=sy.ExactMatch(trade_data=mock),\n",
      "                  output_policy=sy.SingleExecutionExactOutput())\n",
      "def sum_trade_value_mil(trade_data):\n",
      "    import pandas as pd\n",
      "    from opendp.mod import enable_features\n",
      "    enable_features('contrib')\n",
      "    from opendp.measurements import make_base_laplace\n",
      "    aggregate = 0.\n",
      "    base_lap = make_base_laplace(scale=5.)\n",
      "    noise = base_lap(aggregate)\n",
      "\n",
      "    df = trade_data\n",
      "    total = df[\"Trade Value (US$)\"].sum()\n",
      "    return (float(total / 1_000_000), float(noise))\n",
      "\n"
     ]
    }
   ],
   "source": [
    "print(func.raw_code)"
   ]
  },
  {
   "cell_type": "code",
   "execution_count": 34,
   "metadata": {
    "tags": []
   },
   "outputs": [
    {
     "name": "stdout",
     "output_type": "stream",
     "text": [
      "WARNING: This code was submitted by a User and could be UNSAFE.\n"
     ]
    }
   ],
   "source": [
    "users_function = func.unsafe_function"
   ]
  },
  {
   "cell_type": "code",
   "execution_count": 35,
   "metadata": {
    "tags": []
   },
   "outputs": [
    {
     "data": {
      "text/plain": [
       "(2.037066, -2.9000505589812495)"
      ]
     },
     "execution_count": 35,
     "metadata": {},
     "output_type": "execute_result"
    }
   ],
   "source": [
    "real_result = users_function(trade_data=data)\n",
    "real_result"
   ]
  },
  {
   "cell_type": "code",
   "execution_count": 36,
   "metadata": {
    "tags": []
   },
   "outputs": [
    {
     "data": {
      "text/html": [
       "<div class=\"alert-success\" style=\"padding:5px;\"><strong>SyftSuccess</strong>: Request 2b289c7c21264f7091f8c928e741c435 changes applied</div><br />"
      ],
      "text/plain": [
       "<class 'syft.core.node.new.response.SyftSuccess'>: Request 2b289c7c21264f7091f8c928e741c435 changes applied"
      ]
     },
     "execution_count": 36,
     "metadata": {},
     "output_type": "execute_result"
    }
   ],
   "source": [
    "result = request.accept_by_depositing_result(real_result)\n",
    "result"
   ]
  },
  {
   "cell_type": "code",
   "execution_count": 37,
   "metadata": {
    "tags": []
   },
   "outputs": [],
   "source": [
    "assert isinstance(result, sy.SyftSuccess)"
   ]
  },
  {
   "cell_type": "code",
   "execution_count": null,
   "metadata": {},
   "outputs": [],
   "source": []
  },
  {
   "cell_type": "code",
   "execution_count": null,
   "metadata": {},
   "outputs": [],
   "source": []
  }
 ],
 "metadata": {
  "kernelspec": {
   "display_name": "Python 3 (ipykernel)",
   "language": "python",
   "name": "python3"
  },
  "language_info": {
   "codemirror_mode": {
    "name": "ipython",
    "version": 3
   },
   "file_extension": ".py",
   "mimetype": "text/x-python",
   "name": "python",
   "nbconvert_exporter": "python",
   "pygments_lexer": "ipython3",
   "version": "3.10.8"
  }
 },
 "nbformat": 4,
 "nbformat_minor": 4
}

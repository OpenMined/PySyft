{
 "cells": [
  {
   "cell_type": "markdown",
   "id": "0b117fb9-194d-4f64-8bc7-e17866ef70d4",
   "metadata": {},
   "source": [
    "## 00-load-data"
   ]
  },
  {
   "cell_type": "code",
   "execution_count": null,
   "id": "b9c589cd-cb89-4f9e-be16-4efee09a032a",
   "metadata": {},
   "outputs": [],
   "source": []
  }
 ],
 "metadata": {
  "kernelspec": {
   "display_name": "Python 3 (ipykernel)",
   "language": "python",
   "name": "python3"
  },
  "language_info": {
   "codemirror_mode": {
    "name": "ipython",
    "version": 3
   },
   "file_extension": ".py",
   "mimetype": "text/x-python",
   "name": "python",
   "nbconvert_exporter": "python",
   "pygments_lexer": "ipython3",
   "version": "3.10.8"
  }
 },
 "nbformat": 4,
 "nbformat_minor": 5
}

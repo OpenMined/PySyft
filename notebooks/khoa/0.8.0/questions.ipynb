{
 "cells": [
  {
   "cell_type": "markdown",
   "id": "0b117fb9-194d-4f64-8bc7-e17866ef70d4",
   "metadata": {},
   "source": [
    "## 00-load-data"
   ]
  },
  {
   "attachments": {},
   "cell_type": "markdown",
   "id": "fffb6e8b",
   "metadata": {},
   "source": [
    "1. What's the difference between an `Asset` and a `Dataset`. They look to be very similar to each other"
   ]
  },
  {
   "attachments": {},
   "cell_type": "markdown",
   "id": "9cd89c6c",
   "metadata": {},
   "source": [
    "2. We have classes like `Asset` and `CreateAsset`, `Dataset` and `CreateDataset`, then we have a transform function with a `@transform` decorator like below\n",
    "```python\n",
    "@transform(CreateAsset, Asset)\n",
    "def createasset_to_asset() -> List[Callable]:\n",
    "    print(f\"{__file__} -- dk: converting createasset to asset\")\n",
    "    return [generate_id, infer_shape, create_and_store_twin, set_data_subjects]\n",
    "```\n",
    "what are the purpose of these?"
   ]
  },
  {
   "attachments": {},
   "cell_type": "markdown",
   "id": "7c6141c8-e54c-4e21-b431-454be699ec3b",
   "metadata": {},
   "source": [
    "3. The logic behind what happened after we call `domain_client.upload_dataset(dataset)` (file `PySyft/packages/syft/src/syft/core/node/new/client.py`)? \n",
    "\n",
    "Essentially, the `upload_dataset` function tries to create a `TwinObject` and do `self.api.services.action.set(twin)`, return a `response` if the `set(twin)` is successful or a `SyftError` if it is not, then validate the `dataset` and add the dataset with `self.api.services.dataset.add(dataset=dataset)`. Need to know more about `self.api.services...`"
   ]
  },
  {
   "attachments": {},
   "cell_type": "markdown",
   "id": "39221102-c92f-428a-ab5b-fc500578ebde",
   "metadata": {},
   "source": [
    "4. What's the use of `NodeView`?"
   ]
  },
  {
   "cell_type": "markdown",
   "id": "515e31f4",
   "metadata": {},
   "source": []
  }
 ],
 "metadata": {
  "kernelspec": {
   "display_name": "Python 3 (ipykernel)",
   "language": "python",
   "name": "python3"
  },
  "language_info": {
   "codemirror_mode": {
    "name": "ipython",
    "version": 3
   },
   "file_extension": ".py",
   "mimetype": "text/x-python",
   "name": "python",
   "nbconvert_exporter": "python",
   "pygments_lexer": "ipython3",
   "version": "3.10.8"
  }
 },
 "nbformat": 4,
 "nbformat_minor": 5
}

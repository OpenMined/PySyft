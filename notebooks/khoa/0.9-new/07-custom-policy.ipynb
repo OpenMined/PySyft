{
 "cells": [
  {
   "cell_type": "code",
   "execution_count": 10,
   "id": "c292b468-55d7-4ab4-b0b3-5856b252e27e",
   "metadata": {
    "tags": []
   },
   "outputs": [
    {
     "name": "stdout",
     "output_type": "stream",
     "text": [
      "✅ The installed version of syft==0.8.1b2 matches the requirement >=0.8 and the requirement <0.8.1\n"
     ]
    }
   ],
   "source": [
    "import syft as sy\n",
    "sy.requires(\">=0.8,<0.8.1\")"
   ]
  },
  {
   "cell_type": "code",
   "execution_count": 11,
   "id": "13da7417-5721-44f6-8bbb-bee0c5aba30f",
   "metadata": {
    "tags": []
   },
   "outputs": [
    {
     "name": "stdout",
     "output_type": "stream",
     "text": [
      "Starting test-domain-1 server on 0.0.0.0:8080\n",
      "\n",
      "WARNING: private key is based on node name: test-domain-1 in dev_mode. Don't run this in production.\n",
      "SQLite Store Path:\n",
      "!open file:///tmp/7bca415d13ed1ec841f0d0aede098dbb.sqlite\n",
      "\n",
      "Stopping process on port: 8080\n",
      "Process 125585 terminated.\n"
     ]
    },
    {
     "name": "stderr",
     "output_type": "stream",
     "text": [
      "INFO:     Started server process [125800]\n",
      "INFO:     Waiting for application startup.\n",
      "INFO:     Application startup complete.\n",
      "INFO:     Uvicorn running on http://0.0.0.0:8080 (Press CTRL+C to quit)\n"
     ]
    },
    {
     "name": "stdout",
     "output_type": "stream",
     "text": [
      "INFO:     127.0.0.1:57062 - \"GET /api/v1/new/metadata HTTP/1.1\" 200 OK\n",
      "INFO:     127.0.0.1:57062 - \"POST /api/v1/new/login HTTP/1.1\" 200 OK\n",
      "INFO:     127.0.0.1:57062 - \"GET /api/v1/new/api?verify_key=aec6ea4dfc049ceacaeeebc493167a88a200ddc367b1fa32da652444b635d21f HTTP/1.1\" 200 OK\n",
      "INFO:     127.0.0.1:45010 - \"POST /api/v1/new/api_call HTTP/1.1\" 200 OK\n",
      "INFO:     127.0.0.1:55152 - \"POST /api/v1/new/api_call HTTP/1.1\" 200 OK\n",
      "INFO:     127.0.0.1:55164 - \"GET /api/v1/new/metadata HTTP/1.1\" 200 OK\n",
      "INFO:     127.0.0.1:32928 - \"POST /api/v1/new/api_call HTTP/1.1\" 200 OK\n",
      "INFO:     127.0.0.1:32930 - \"GET /api/v1/new/metadata HTTP/1.1\" 200 OK\n",
      "INFO:     127.0.0.1:55792 - \"POST /api/v1/new/api_call HTTP/1.1\" 200 OK\n",
      "INFO:     127.0.0.1:55808 - \"GET /api/v1/new/api?verify_key=aec6ea4dfc049ceacaeeebc493167a88a200ddc367b1fa32da652444b635d21f HTTP/1.1\" 200 OK\n",
      "INFO:     127.0.0.1:43946 - \"POST /api/v1/new/api_call HTTP/1.1\" 200 OK\n",
      "INFO:     127.0.0.1:39728 - \"POST /api/v1/new/api_call HTTP/1.1\" 200 OK\n",
      "INFO:     127.0.0.1:39734 - \"POST /api/v1/new/api_call HTTP/1.1\" 200 OK\n",
      "INFO:     127.0.0.1:49178 - \"POST /api/v1/new/api_call HTTP/1.1\" 200 OK\n",
      "INFO:     127.0.0.1:40500 - \"POST /api/v1/new/api_call HTTP/1.1\" 200 OK\n",
      "INFO:     127.0.0.1:40504 - \"POST /api/v1/new/api_call HTTP/1.1\" 200 OK\n",
      "INFO:     127.0.0.1:39538 - \"POST /api/v1/new/api_call HTTP/1.1\" 200 OK\n",
      "INFO:     127.0.0.1:39542 - \"POST /api/v1/new/api_call HTTP/1.1\" 200 OK\n",
      "INFO:     127.0.0.1:39544 - \"POST /api/v1/new/api_call HTTP/1.1\" 200 OK\n",
      "INFO:     127.0.0.1:39548 - \"POST /api/v1/new/api_call HTTP/1.1\" 200 OK\n",
      "INFO:     127.0.0.1:39554 - \"POST /api/v1/new/api_call HTTP/1.1\" 200 OK\n",
      "INFO:     127.0.0.1:39564 - \"POST /api/v1/new/api_call HTTP/1.1\" 200 OK\n",
      "INFO:     127.0.0.1:56124 - \"POST /api/v1/new/api_call HTTP/1.1\" 200 OK\n",
      "INFO:     127.0.0.1:52584 - \"POST /api/v1/new/api_call HTTP/1.1\" 200 OK\n",
      "INFO:     127.0.0.1:52586 - \"POST /api/v1/new/api_call HTTP/1.1\" 200 OK\n",
      "INFO:     127.0.0.1:52592 - \"POST /api/v1/new/api_call HTTP/1.1\" 200 OK\n",
      "INFO:     127.0.0.1:44786 - \"GET /api/v1/new/metadata HTTP/1.1\" 200 OK\n",
      "INFO:     127.0.0.1:44786 - \"POST /api/v1/new/login HTTP/1.1\" 200 OK\n",
      "INFO:     127.0.0.1:44786 - \"GET /api/v1/new/api?verify_key=aec6ea4dfc049ceacaeeebc493167a88a200ddc367b1fa32da652444b635d21f HTTP/1.1\" 200 OK\n",
      "INFO:     127.0.0.1:44802 - \"GET /api/v1/new/metadata HTTP/1.1\" 200 OK\n",
      "INFO:     127.0.0.1:47864 - \"GET /api/v1/new/api?verify_key=7510942d230ec829959dfe97c2749b7d5faecf9a50c22c0f8b085d4fac5feafc HTTP/1.1\" 200 OK\n",
      "INFO:     127.0.0.1:47870 - \"POST /api/v1/new/api_call HTTP/1.1\" 200 OK\n",
      "INFO:     127.0.0.1:47876 - \"POST /api/v1/new/api_call HTTP/1.1\" 200 OK\n",
      "INFO:     127.0.0.1:47882 - \"POST /api/v1/new/api_call HTTP/1.1\" 200 OK\n",
      "INFO:     127.0.0.1:59262 - \"POST /api/v1/new/api_call HTTP/1.1\" 200 OK\n",
      "INFO:     127.0.0.1:59276 - \"POST /api/v1/new/api_call HTTP/1.1\" 200 OK\n",
      "INFO:     127.0.0.1:59284 - \"POST /api/v1/new/api_call HTTP/1.1\" 200 OK\n",
      "INFO:     127.0.0.1:59286 - \"POST /api/v1/new/api_call HTTP/1.1\" 200 OK\n",
      "INFO:     127.0.0.1:56384 - \"POST /api/v1/new/api_call HTTP/1.1\" 200 OK\n",
      "INFO:     127.0.0.1:46444 - \"POST /api/v1/new/api_call HTTP/1.1\" 200 OK\n",
      "INFO:     127.0.0.1:57646 - \"POST /api/v1/new/api_call HTTP/1.1\" 200 OK\n",
      "INFO:     127.0.0.1:54938 - \"POST /api/v1/new/api_call HTTP/1.1\" 200 OK\n",
      "INFO:     127.0.0.1:54940 - \"POST /api/v1/new/api_call HTTP/1.1\" 200 OK\n",
      "INFO:     127.0.0.1:54944 - \"POST /api/v1/new/api_call HTTP/1.1\" 200 OK\n",
      "INFO:     127.0.0.1:37382 - \"POST /api/v1/new/api_call HTTP/1.1\" 200 OK\n"
     ]
    }
   ],
   "source": [
    "node = sy.orchestra.launch(name=\"test-domain-1\", port=8080, dev_mode=True, reset=True)"
   ]
  },
  {
   "cell_type": "code",
   "execution_count": 12,
   "id": "29d14422-61f7-4a89-a1ae-a11c0e1b3a02",
   "metadata": {
    "tags": []
   },
   "outputs": [],
   "source": [
    "domain_client = node.login(email=\"info@openmined.org\", password=\"changethis\")"
   ]
  },
  {
   "cell_type": "code",
   "execution_count": 13,
   "id": "b0f4bc80-5a94-467f-8018-7b27f4c64bd1",
   "metadata": {
    "tags": []
   },
   "outputs": [],
   "source": [
    "from typing import List, Dict, Any, Optional"
   ]
  },
  {
   "cell_type": "code",
   "execution_count": 14,
   "id": "95bd8bf3-ec6f-49a7-86c3-ba81ecaffda1",
   "metadata": {
    "tags": []
   },
   "outputs": [],
   "source": [
    "class RepeatedCallPolicy(sy.CustomOutputPolicy):\n",
    "    n_calls: int = 0\n",
    "    downloadable_output_args: List[str] = []\n",
    "    state: Dict[Any, Any] = {}\n",
    "\n",
    "    def __init__(self, n_calls=1, downloadable_output_args: List[str] = None):\n",
    "        self.downloadable_output_args = downloadable_output_args if downloadable_output_args is not None else []\n",
    "        self.n_calls = n_calls + 1\n",
    "        self.state = {\"counts\": 0}\n",
    "\n",
    "    def public_state(self):\n",
    "        return self.state[\"counts\"]\n",
    "        \n",
    "    def apply_output(self, context, outputs):\n",
    "        output_dict = {}\n",
    "        if self.state[\"counts\"] < self.n_calls:\n",
    "            for output_arg in self.downloadable_output_args:\n",
    "                output_dict[output_arg] = outputs[output_arg]\n",
    "\n",
    "            self.state[\"counts\"] += 1\n",
    "        else:\n",
    "            return None\n",
    "\n",
    "        return output_dict"
   ]
  },
  {
   "cell_type": "code",
   "execution_count": 15,
   "id": "6db068f3-8d1c-4116-89f0-8e729d41f5e0",
   "metadata": {
    "tags": []
   },
   "outputs": [],
   "source": [
    "policy = RepeatedCallPolicy(n_calls=1, downloadable_output_args=['y'])"
   ]
  },
  {
   "cell_type": "code",
   "execution_count": 16,
   "id": "24df4ac8-aaab-4846-b7e1-2dbc5309dc36",
   "metadata": {
    "tags": []
   },
   "outputs": [
    {
     "data": {
      "text/plain": [
       "2"
      ]
     },
     "execution_count": 16,
     "metadata": {},
     "output_type": "execute_result"
    }
   ],
   "source": [
    "policy.n_calls"
   ]
  },
  {
   "cell_type": "code",
   "execution_count": 17,
   "id": "357d1c44-afc0-489c-a169-adbd1391d243",
   "metadata": {
    "tags": []
   },
   "outputs": [
    {
     "data": {
      "text/html": [
       "[&#x27;y&#x27;]"
      ],
      "text/plain": [
       "['y']"
      ]
     },
     "execution_count": 17,
     "metadata": {},
     "output_type": "execute_result"
    }
   ],
   "source": [
    "policy.downloadable_output_args"
   ]
  },
  {
   "cell_type": "code",
   "execution_count": 18,
   "id": "e5e96736-933d-42b6-b375-d15cc5752b99",
   "metadata": {
    "tags": []
   },
   "outputs": [
    {
     "data": {
      "text/html": [
       "{&#x27;n_calls&#x27;: 1, &#x27;downloadable_output_args&#x27;: [&#x27;y&#x27;]}"
      ],
      "text/plain": [
       "{'n_calls': 1, 'downloadable_output_args': ['y']}"
      ]
     },
     "execution_count": 18,
     "metadata": {},
     "output_type": "execute_result"
    }
   ],
   "source": [
    "policy.init_kwargs"
   ]
  },
  {
   "cell_type": "code",
   "execution_count": 19,
   "id": "adb2a383-0855-4df1-b3bb-97ca237cab19",
   "metadata": {
    "tags": []
   },
   "outputs": [
    {
     "name": "stdout",
     "output_type": "stream",
     "text": [
      "{'n_calls': 1, 'downloadable_output_args': ['y']}\n"
     ]
    },
    {
     "data": {
      "text/html": [
       "Dict - Size: 1\n",
       "<div>\n",
       "<style scoped>\n",
       "    .dataframe tbody tr th:only-of-type {\n",
       "        vertical-align: middle;\n",
       "    }\n",
       "\n",
       "    .dataframe tbody tr th {\n",
       "        vertical-align: top;\n",
       "    }\n",
       "\n",
       "    .dataframe thead th {\n",
       "        text-align: right;\n",
       "    }\n",
       "</style>\n",
       "<table border=\"1\" class=\"dataframe\">\n",
       "  <thead>\n",
       "    <tr style=\"text-align: right;\">\n",
       "      <th></th>\n",
       "      <th>key</th>\n",
       "      <th>type</th>\n",
       "      <th>id</th>\n",
       "    </tr>\n",
       "  </thead>\n",
       "  <tbody>\n",
       "    <tr>\n",
       "      <th>0</th>\n",
       "      <td>y</td>\n",
       "      <td>Pointer:\\n[1, 2, 3]</td>\n",
       "      <td>56586fba9e104dd58db6fac6c18da1e3</td>\n",
       "    </tr>\n",
       "  </tbody>\n",
       "</table>\n",
       "</div>"
      ],
      "text/plain": [
       "{'y': Pointer:\n",
       " [1, 2, 3]}"
      ]
     },
     "execution_count": 19,
     "metadata": {},
     "output_type": "execute_result"
    }
   ],
   "source": [
    "print(policy.init_kwargs)\n",
    "a_obj = sy.ActionObject.from_obj({'y': [1,2,3]})\n",
    "x = policy.apply_output(context=None, outputs=a_obj)\n",
    "x"
   ]
  },
  {
   "cell_type": "code",
   "execution_count": 20,
   "id": "d7630f27-b686-4d5b-b200-f48c101944b5",
   "metadata": {
    "tags": []
   },
   "outputs": [
    {
     "data": {
      "text/plain": [
       "2"
      ]
     },
     "execution_count": 20,
     "metadata": {},
     "output_type": "execute_result"
    }
   ],
   "source": [
    "policy.n_calls"
   ]
  },
  {
   "cell_type": "code",
   "execution_count": 22,
   "id": "96bef6cf-3a76-4b4b-8767-929c42d44a90",
   "metadata": {
    "tags": []
   },
   "outputs": [
    {
     "data": {
      "text/markdown": [
       "```python\n",
       "Pointer\n",
       "```\n",
       "array([1, 2, 3])"
      ],
      "text/plain": [
       "Pointer:\n",
       "[1 2 3]"
      ]
     },
     "execution_count": 22,
     "metadata": {},
     "output_type": "execute_result"
    }
   ],
   "source": [
    "import numpy as np\n",
    "x = np.array([1,2,3])\n",
    "x_pointer = sy.ActionObject.from_obj(x)\n",
    "x_pointer"
   ]
  },
  {
   "cell_type": "code",
   "execution_count": 23,
   "id": "634b1a44",
   "metadata": {},
   "outputs": [
    {
     "data": {
      "text/html": [
       "<div class=\"alert-success\" style=\"padding:5px;\"><strong>SyftSuccess</strong>: <class 'syft.service.action.numpy.NumpyArrayObject'> saved</div><br />"
      ],
      "text/plain": [
       "<class 'syft.service.response.SyftSuccess'>: <class 'syft.service.action.numpy.NumpyArrayObject'> saved"
      ]
     },
     "execution_count": 23,
     "metadata": {},
     "output_type": "execute_result"
    }
   ],
   "source": [
    "domain_client.api.services.action.save(x_pointer)"
   ]
  },
  {
   "cell_type": "code",
   "execution_count": 25,
   "id": "71f8e954",
   "metadata": {},
   "outputs": [
    {
     "data": {
      "text/plain": [
       "<UID: fdeb2ca43e38462a9e40538f6e91629a>"
      ]
     },
     "execution_count": 25,
     "metadata": {},
     "output_type": "execute_result"
    }
   ],
   "source": [
    "x_pointer.id"
   ]
  },
  {
   "cell_type": "code",
   "execution_count": 26,
   "id": "5da4428a-0fed-41e3-b770-02fbaca20bfc",
   "metadata": {
    "tags": []
   },
   "outputs": [],
   "source": [
    "@sy.syft_function(\n",
    "    input_policy=sy.ExactMatch(x=x_pointer),\n",
    "    output_policy=RepeatedCallPolicy(n_calls=10, downloadable_output_args=['y']),\n",
    ")\n",
    "def func(x):\n",
    "    return {\"y\": x+1}"
   ]
  },
  {
   "cell_type": "code",
   "execution_count": 27,
   "id": "44565122-4ff4-4169-8e0a-db3b86bf53e1",
   "metadata": {
    "tags": []
   },
   "outputs": [],
   "source": [
    "@sy.syft_function(input_policy=sy.ExactMatch(x=x_pointer),\n",
    "                  output_policy=sy.SingleExecutionExactOutput())\n",
    "def train_mlp(x):\n",
    "    return x"
   ]
  },
  {
   "cell_type": "code",
   "execution_count": 28,
   "id": "a9b7be1d-cff1-49d7-a6f9-25cf107eb9af",
   "metadata": {
    "tags": []
   },
   "outputs": [
    {
     "data": {
      "text/markdown": [
       "```python\n",
       "class Request:\n",
       "  id: str = bc4a0a5b30f3447abb3e71ab2cea56ad\n",
       "  requesting_user_verify_key: str = aec6ea4dfc049ceacaeeebc493167a88a200ddc367b1fa32da652444b635d21f\n",
       "  approving_user_verify_key: str = None\n",
       "  request_time: str = 2023-05-16 02:33:48\n",
       "  approval_time: str = None\n",
       "  status: str = RequestStatus.PENDING\n",
       "  node_uid: str = 7bca415d13ed1ec841f0d0aede098dbb\n",
       "  request_hash: str = \"f7d8a968812ec5cdc5b664215138feb3ccd85897a267c108d9f6c64e83b25688\"\n",
       "  changes: str = [syft.service.request.request.UserCodeStatusChange]\n",
       "\n",
       "```"
      ],
      "text/plain": [
       "syft.service.request.request.Request"
      ]
     },
     "execution_count": 28,
     "metadata": {},
     "output_type": "execute_result"
    }
   ],
   "source": [
    "domain_client.api.services.code.request_code_execution(func)"
   ]
  },
  {
   "cell_type": "code",
   "execution_count": 29,
   "id": "cbce3b7f-8c93-4a3d-8c9e-be8cba7c911e",
   "metadata": {
    "tags": []
   },
   "outputs": [
    {
     "data": {
      "text/html": [
       "List - Size: 1\n",
       "<div>\n",
       "<style scoped>\n",
       "    .dataframe tbody tr th:only-of-type {\n",
       "        vertical-align: middle;\n",
       "    }\n",
       "\n",
       "    .dataframe tbody tr th {\n",
       "        vertical-align: top;\n",
       "    }\n",
       "\n",
       "    .dataframe thead th {\n",
       "        text-align: right;\n",
       "    }\n",
       "</style>\n",
       "<table border=\"1\" class=\"dataframe\">\n",
       "  <thead>\n",
       "    <tr style=\"text-align: right;\">\n",
       "      <th></th>\n",
       "      <th>type</th>\n",
       "      <th>id</th>\n",
       "      <th>subject</th>\n",
       "      <th>status</th>\n",
       "      <th>created_at</th>\n",
       "      <th>linked_obj</th>\n",
       "    </tr>\n",
       "  </thead>\n",
       "  <tbody>\n",
       "    <tr>\n",
       "      <th>0</th>\n",
       "      <td>syft.service.message.messages.Message</td>\n",
       "      <td>06d139fd743b43e9a562f12d72e523f0</td>\n",
       "      <td>Approval Request</td>\n",
       "      <td>MessageStatus.UNDELIVERED</td>\n",
       "      <td>2023-05-16 02:33:48</td>\n",
       "      <td>&lt;&lt;class 'syft.service.request.request.Request'...</td>\n",
       "    </tr>\n",
       "  </tbody>\n",
       "</table>\n",
       "</div>"
      ],
      "text/plain": [
       "[syft.service.message.messages.Message]"
      ]
     },
     "execution_count": 29,
     "metadata": {},
     "output_type": "execute_result"
    }
   ],
   "source": [
    "from syft import MessageStatus\n",
    "messages = domain_client.api.services.messages.get_all_for_status(MessageStatus.UNDELIVERED)\n",
    "messages"
   ]
  },
  {
   "cell_type": "code",
   "execution_count": 30,
   "id": "6f0678bd-3266-46ca-92dc-9a6a926c7845",
   "metadata": {
    "tags": []
   },
   "outputs": [],
   "source": [
    "from syft.service.request.request import ObjectMutation, UserCodeStatusChange, Request\n",
    "func = None\n",
    "request = None\n",
    "for message in messages:\n",
    "    req = message.linked_obj.resolve\n",
    "    if isinstance(req, Request):\n",
    "        for change in req.changes:\n",
    "            if isinstance(change, UserCodeStatusChange):\n",
    "                user_code = change.linked_obj.resolve\n",
    "                if \"func\" in user_code.service_func_name:\n",
    "                    func = user_code\n",
    "                    request = req"
   ]
  },
  {
   "cell_type": "code",
   "execution_count": 31,
   "id": "07efbb1d-8ef7-49b5-a95c-2bf36a19fad2",
   "metadata": {
    "tags": []
   },
   "outputs": [
    {
     "data": {
      "text/markdown": [
       "```python\n",
       "class UserCode:\n",
       "  id: str = 55587187baaa4ea696cc84160d7cdff0\n",
       "  node_uid: str = 7bca415d13ed1ec841f0d0aede098dbb\n",
       "  user_verify_key: str = aec6ea4dfc049ceacaeeebc493167a88a200ddc367b1fa32da652444b635d21f\n",
       "  raw_code: str = \"@sy.syft_function(\n",
       "    input_policy=sy.ExactMatch(x=x_pointer),\n",
       "    output_policy=RepeatedCallPolicy(n_calls=10, downloadable_output_args=['y']),\n",
       ")\n",
       "def func(x):\n",
       "    return {\"y\": x+1}\n",
       "\"\n",
       "  input_policy_type: str = <class 'syft.service.policy.policy.ExactMatch'>\n",
       "  input_policy_init_kwargs: str = {NodeView(node_name='test-domain-1', verify_key=aec6ea4dfc049ceacaeeebc493167a88a200ddc367b1fa32da652444b635d21f): {'x': <UID: fdeb2ca43e38462a9e40538f6e91629a>}}\n",
       "  input_policy_state: str = b''\n",
       "  output_policy_type: str = syft.service.policy.policy.UserPolicy\n",
       "  output_policy_init_kwargs: str = {'n_calls': 10, 'downloadable_output_args': ['y']}\n",
       "  output_policy_state: str = b''\n",
       "  parsed_code: str = \"def user_func_func_aec6ea4dfc049ceacaeeebc493167a88a200ddc367b1fa32da652444b635d21f_d7f8db0378b044d89c2d33a89c7eeba45f24ae57f515a61a0dd3027bbf674862(x):\n",
       "\n",
       "    def func(x):\n",
       "        return {'y': x + 1}\n",
       "    result = func(x=x)\n",
       "    return result\"\n",
       "  service_func_name: str = \"func\"\n",
       "  unique_func_name: str = \"user_func_func_aec6ea4dfc049ceacaeeebc493167a88a200ddc367b1fa32da652444b635d21f_d7f8db0378b044d89c2d33a89c7eeba45f24ae57f515a61a0dd3027bbf674862\"\n",
       "  user_unique_func_name: str = \"user_func_func_aec6ea4dfc049ceacaeeebc493167a88a200ddc367b1fa32da652444b635d21f\"\n",
       "  code_hash: str = \"d7f8db0378b044d89c2d33a89c7eeba45f24ae57f515a61a0dd3027bbf674862\"\n",
       "  signature: str = (x)\n",
       "  status: str = {NodeView(node_name='test-domain-1', verify_key=aec6ea4dfc049ceacaeeebc493167a88a200ddc367b1fa32da652444b635d21f): <UserCodeStatus.SUBMITTED: 'submitted'>}\n",
       "  input_kwargs: str = ['x']\n",
       "  enclave_metadata: str = None\n",
       "\n",
       "```"
      ],
      "text/plain": [
       "syft.service.code.user_code.UserCode"
      ]
     },
     "execution_count": 31,
     "metadata": {},
     "output_type": "execute_result"
    }
   ],
   "source": [
    "func"
   ]
  },
  {
   "cell_type": "code",
   "execution_count": 32,
   "id": "e99ba994",
   "metadata": {},
   "outputs": [
    {
     "data": {
      "text/html": [
       "List - Size: 1\n",
       "<div>\n",
       "<style scoped>\n",
       "    .dataframe tbody tr th:only-of-type {\n",
       "        vertical-align: middle;\n",
       "    }\n",
       "\n",
       "    .dataframe tbody tr th {\n",
       "        vertical-align: top;\n",
       "    }\n",
       "\n",
       "    .dataframe thead th {\n",
       "        text-align: right;\n",
       "    }\n",
       "</style>\n",
       "<table border=\"1\" class=\"dataframe\">\n",
       "  <thead>\n",
       "    <tr style=\"text-align: right;\">\n",
       "      <th></th>\n",
       "      <th>type</th>\n",
       "      <th>id</th>\n",
       "      <th>subject</th>\n",
       "      <th>status</th>\n",
       "      <th>created_at</th>\n",
       "      <th>linked_obj</th>\n",
       "    </tr>\n",
       "  </thead>\n",
       "  <tbody>\n",
       "    <tr>\n",
       "      <th>0</th>\n",
       "      <td>syft.service.message.messages.Message</td>\n",
       "      <td>06d139fd743b43e9a562f12d72e523f0</td>\n",
       "      <td>Approval Request</td>\n",
       "      <td>MessageStatus.UNDELIVERED</td>\n",
       "      <td>2023-05-16 02:33:48</td>\n",
       "      <td>&lt;&lt;class 'syft.service.request.request.Request'...</td>\n",
       "    </tr>\n",
       "  </tbody>\n",
       "</table>\n",
       "</div>"
      ],
      "text/plain": [
       "<syft.client.api.APIModule at 0x7fb532764e50>"
      ]
     },
     "execution_count": 32,
     "metadata": {},
     "output_type": "execute_result"
    }
   ],
   "source": [
    "domain_client.api.services.messages"
   ]
  },
  {
   "cell_type": "code",
   "execution_count": 33,
   "id": "48465dbe-ecd7-4a2f-939c-58965bcf755e",
   "metadata": {
    "tags": []
   },
   "outputs": [],
   "source": [
    "for message in messages:\n",
    "    domain_client.api.services.messages.mark_as_delivered(message.id)"
   ]
  },
  {
   "cell_type": "code",
   "execution_count": 34,
   "id": "984c1e1e",
   "metadata": {},
   "outputs": [
    {
     "data": {
      "text/html": [
       "List - Size: 1\n",
       "<div>\n",
       "<style scoped>\n",
       "    .dataframe tbody tr th:only-of-type {\n",
       "        vertical-align: middle;\n",
       "    }\n",
       "\n",
       "    .dataframe tbody tr th {\n",
       "        vertical-align: top;\n",
       "    }\n",
       "\n",
       "    .dataframe thead th {\n",
       "        text-align: right;\n",
       "    }\n",
       "</style>\n",
       "<table border=\"1\" class=\"dataframe\">\n",
       "  <thead>\n",
       "    <tr style=\"text-align: right;\">\n",
       "      <th></th>\n",
       "      <th>type</th>\n",
       "      <th>id</th>\n",
       "      <th>subject</th>\n",
       "      <th>status</th>\n",
       "      <th>created_at</th>\n",
       "      <th>linked_obj</th>\n",
       "    </tr>\n",
       "  </thead>\n",
       "  <tbody>\n",
       "    <tr>\n",
       "      <th>0</th>\n",
       "      <td>syft.service.message.messages.Message</td>\n",
       "      <td>06d139fd743b43e9a562f12d72e523f0</td>\n",
       "      <td>Approval Request</td>\n",
       "      <td>MessageStatus.DELIVERED</td>\n",
       "      <td>2023-05-16 02:33:48</td>\n",
       "      <td>&lt;&lt;class 'syft.service.request.request.Request'...</td>\n",
       "    </tr>\n",
       "  </tbody>\n",
       "</table>\n",
       "</div>"
      ],
      "text/plain": [
       "<syft.client.api.APIModule at 0x7fb532764e50>"
      ]
     },
     "execution_count": 34,
     "metadata": {},
     "output_type": "execute_result"
    }
   ],
   "source": [
    "domain_client.api.services.messages"
   ]
  },
  {
   "cell_type": "code",
   "execution_count": 35,
   "id": "6cd10973",
   "metadata": {},
   "outputs": [
    {
     "data": {
      "text/markdown": [
       "```python\n",
       "class Request:\n",
       "  id: str = bc4a0a5b30f3447abb3e71ab2cea56ad\n",
       "  requesting_user_verify_key: str = aec6ea4dfc049ceacaeeebc493167a88a200ddc367b1fa32da652444b635d21f\n",
       "  approving_user_verify_key: str = None\n",
       "  request_time: str = 2023-05-16 02:33:48\n",
       "  approval_time: str = None\n",
       "  status: str = RequestStatus.PENDING\n",
       "  node_uid: str = 7bca415d13ed1ec841f0d0aede098dbb\n",
       "  request_hash: str = \"f7d8a968812ec5cdc5b664215138feb3ccd85897a267c108d9f6c64e83b25688\"\n",
       "  changes: str = [syft.service.request.request.UserCodeStatusChange]\n",
       "\n",
       "```"
      ],
      "text/plain": [
       "syft.service.request.request.Request"
      ]
     },
     "execution_count": 35,
     "metadata": {},
     "output_type": "execute_result"
    }
   ],
   "source": [
    "request"
   ]
  },
  {
   "cell_type": "code",
   "execution_count": 22,
   "id": "bcca56c9-0d10-4a37-9c1a-aa3c3205a54c",
   "metadata": {
    "tags": []
   },
   "outputs": [
    {
     "data": {
      "text/html": [
       "<div class=\"alert-success\" style=\"padding:5px;\"><strong>SyftSuccess</strong>: Request 283518a713ae4328bfae78874a858719 changes applied</div><br />"
      ],
      "text/plain": [
       "<class 'syft.service.response.SyftSuccess'>: Request 283518a713ae4328bfae78874a858719 changes applied"
      ]
     },
     "execution_count": 22,
     "metadata": {},
     "output_type": "execute_result"
    }
   ],
   "source": [
    "request.approve()"
   ]
  },
  {
   "cell_type": "code",
   "execution_count": 37,
   "id": "7edf4fc6-302e-4bfd-94e5-33cc911f6db0",
   "metadata": {
    "tags": []
   },
   "outputs": [
    {
     "data": {
      "text/html": [
       "List - Size: 1\n",
       "<div>\n",
       "<style scoped>\n",
       "    .dataframe tbody tr th:only-of-type {\n",
       "        vertical-align: middle;\n",
       "    }\n",
       "\n",
       "    .dataframe tbody tr th {\n",
       "        vertical-align: top;\n",
       "    }\n",
       "\n",
       "    .dataframe thead th {\n",
       "        text-align: right;\n",
       "    }\n",
       "</style>\n",
       "<table border=\"1\" class=\"dataframe\">\n",
       "  <thead>\n",
       "    <tr style=\"text-align: right;\">\n",
       "      <th></th>\n",
       "      <th>type</th>\n",
       "      <th>id</th>\n",
       "    </tr>\n",
       "  </thead>\n",
       "  <tbody>\n",
       "    <tr>\n",
       "      <th>0</th>\n",
       "      <td>syft.service.request.request.UserCodeStatusChange</td>\n",
       "      <td>9893dfb47bc3467ea357d3b56b0b9cdc</td>\n",
       "    </tr>\n",
       "  </tbody>\n",
       "</table>\n",
       "</div>"
      ],
      "text/plain": [
       "[syft.service.request.request.UserCodeStatusChange]"
      ]
     },
     "execution_count": 37,
     "metadata": {},
     "output_type": "execute_result"
    }
   ],
   "source": [
    "request.changes"
   ]
  },
  {
   "cell_type": "code",
   "execution_count": 38,
   "id": "b10fec3c-ad4e-412b-a83e-c2166b296825",
   "metadata": {
    "tags": []
   },
   "outputs": [
    {
     "data": {
      "text/markdown": [
       "```python\n",
       "class UserCodeStatusChange:\n",
       "  id: str = 9893dfb47bc3467ea357d3b56b0b9cdc\n",
       "  linked_obj: str = <<class 'syft.service.code.user_code.UserCode'>: 55587187baaa4ea696cc84160d7cdff0@<Node: 7bca415d13ed1ec841f0d0aede098dbb>\n",
       "  value: str = UserCodeStatus.EXECUTE\n",
       "  match_type: str = True\n",
       "\n",
       "```"
      ],
      "text/plain": [
       "syft.service.request.request.UserCodeStatusChange"
      ]
     },
     "execution_count": 38,
     "metadata": {},
     "output_type": "execute_result"
    }
   ],
   "source": [
    "request.changes[0]"
   ]
  },
  {
   "cell_type": "code",
   "execution_count": 39,
   "id": "ea4c3f91-dde3-4bd5-99a7-7fba0f12015a",
   "metadata": {
    "tags": []
   },
   "outputs": [
    {
     "name": "stdout",
     "output_type": "stream",
     "text": [
      "x_pointer = Pointer:\n",
      "[1 2 3]\n",
      "WARNING: This code was submitted by a User and could be UNSAFE.\n"
     ]
    },
    {
     "data": {
      "text/html": [
       "{&#x27;y&#x27;: array([2, 3, 4])}"
      ],
      "text/plain": [
       "{'y': array([2, 3, 4])}"
      ]
     },
     "execution_count": 39,
     "metadata": {},
     "output_type": "execute_result"
    }
   ],
   "source": [
    "print(f\"{x_pointer = }\")\n",
    "result = func.unsafe_function(x=x_pointer)\n",
    "result"
   ]
  },
  {
   "cell_type": "code",
   "execution_count": 40,
   "id": "3b7a2f1c-dada-4195-8bd9-8f52c4c76bca",
   "metadata": {
    "tags": []
   },
   "outputs": [
    {
     "data": {
      "text/html": [
       "<div class=\"alert-success\" style=\"padding:5px;\"><strong>SyftSuccess</strong>: Request bc4a0a5b30f3447abb3e71ab2cea56ad changes applied</div><br />"
      ],
      "text/plain": [
       "<class 'syft.service.response.SyftSuccess'>: Request bc4a0a5b30f3447abb3e71ab2cea56ad changes applied"
      ]
     },
     "execution_count": 40,
     "metadata": {},
     "output_type": "execute_result"
    }
   ],
   "source": [
    "final_result = request.accept_by_depositing_result(result) \n",
    "final_result"
   ]
  },
  {
   "cell_type": "code",
   "execution_count": 41,
   "id": "cdbcc474-9976-4c76-a508-fe3edf5bc18c",
   "metadata": {
    "tags": []
   },
   "outputs": [
    {
     "data": {
      "text/html": [
       "{&#x27;y&#x27;: array([2, 3, 4])}"
      ],
      "text/markdown": [
       "```python\n",
       "Pointer\n",
       "```\n",
       "{'y': array([2, 3, 4])}"
      ],
      "text/plain": [
       "Pointer:\n",
       "{'y': array([2, 3, 4])}"
      ]
     },
     "execution_count": 41,
     "metadata": {},
     "output_type": "execute_result"
    }
   ],
   "source": [
    "res = domain_client.api.services.code.func(x=x_pointer)\n",
    "res"
   ]
  },
  {
   "cell_type": "code",
   "execution_count": 42,
   "id": "538d14fa-1c7a-4f7c-bd27-4d97b5311b4c",
   "metadata": {
    "tags": []
   },
   "outputs": [],
   "source": [
    "assert (res[\"y\"] == np.array([2, 3, 4])).all()"
   ]
  },
  {
   "cell_type": "code",
   "execution_count": 43,
   "id": "65b2ca60-6605-4dc3-a5d4-17fb368b808e",
   "metadata": {
    "tags": []
   },
   "outputs": [],
   "source": [
    "assert set(res.syft_action_data.keys()) == set(list(\"y\"))"
   ]
  },
  {
   "cell_type": "code",
   "execution_count": 44,
   "id": "4592fee8-5d23-4881-ad84-73c734b7e9d9",
   "metadata": {
    "tags": []
   },
   "outputs": [
    {
     "data": {
      "text/markdown": [
       "```python\n",
       "class RepeatedCallPolicy_aec6ea4dfc049ceacaeeebc493167a88a200ddc367b1fa32da652444b635d21f_ba90eef16c2b39292a2ee07f1aefc157216b84487b26c32a1512d114c8ee7c69:\n",
       "  id: str = da752724b0fa48fca22c740f66341efa\n",
       "  init_kwargs: str = {}\n",
       "  output_history: str = []\n",
       "  output_kwargs: str = []\n",
       "  node_uid: str = None\n",
       "  n_calls: str = 11\n",
       "  downloadable_output_args: str = ['y']\n",
       "  state: str = {'counts': 2}\n",
       "\n",
       "```"
      ],
      "text/plain": [
       "syft.user.RepeatedCallPolicy_aec6ea4dfc049ceacaeeebc493167a88a200ddc367b1fa32da652444b635d21f_ba90eef16c2b39292a2ee07f1aefc157216b84487b26c32a1512d114c8ee7c69"
      ]
     },
     "execution_count": 44,
     "metadata": {},
     "output_type": "execute_result"
    }
   ],
   "source": [
    "domain_client.api.services.code.get_all()[0].output_policy"
   ]
  },
  {
   "cell_type": "code",
   "execution_count": 45,
   "id": "d17c7e2a-93fa-4f45-abd3-c19fbded5989",
   "metadata": {
    "tags": []
   },
   "outputs": [
    {
     "data": {
      "text/html": [
       "[]"
      ],
      "text/plain": [
       "[]"
      ]
     },
     "execution_count": 45,
     "metadata": {},
     "output_type": "execute_result"
    }
   ],
   "source": [
    "domain_client.api.services.policy.get_all()"
   ]
  },
  {
   "cell_type": "code",
   "execution_count": 46,
   "id": "fab5b15c-6df3-4fe1-97b7-a2971f4ca6cc",
   "metadata": {
    "tags": []
   },
   "outputs": [
    {
     "data": {
      "text/html": [
       "[]"
      ],
      "text/plain": [
       "[]"
      ]
     },
     "execution_count": 46,
     "metadata": {},
     "output_type": "execute_result"
    }
   ],
   "source": [
    "output_policy = domain_client.api.services.policy.get_all()\n",
    "output_policy"
   ]
  },
  {
   "cell_type": "code",
   "execution_count": 33,
   "id": "93e0a108-ba20-4b29-b86a-02b87b0595a0",
   "metadata": {},
   "outputs": [
    {
     "name": "stdout",
     "output_type": "stream",
     "text": [
      "Stopping test-domain-1\n"
     ]
    }
   ],
   "source": [
    "node.land()"
   ]
  },
  {
   "cell_type": "code",
   "execution_count": null,
   "id": "1d4482f4",
   "metadata": {},
   "outputs": [],
   "source": []
  }
 ],
 "metadata": {
  "kernelspec": {
   "display_name": "Python 3 (ipykernel)",
   "language": "python",
   "name": "python3"
  },
  "language_info": {
   "codemirror_mode": {
    "name": "ipython",
    "version": 3
   },
   "file_extension": ".py",
   "mimetype": "text/x-python",
   "name": "python",
   "nbconvert_exporter": "python",
   "pygments_lexer": "ipython3",
   "version": "3.10.8"
  }
 },
 "nbformat": 4,
 "nbformat_minor": 5
}

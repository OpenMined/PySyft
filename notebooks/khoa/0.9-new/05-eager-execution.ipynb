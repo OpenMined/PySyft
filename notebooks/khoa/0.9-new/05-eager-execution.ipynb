{
 "cells": [
  {
   "cell_type": "markdown",
   "id": "8d458c39-2876-4216-a221-b7cc9e5a89d1",
   "metadata": {},
   "source": [
    "# Eager Execution"
   ]
  },
  {
   "cell_type": "code",
   "execution_count": 1,
   "id": "0f297eeb-09bd-42bb-847c-baf3e31878b1",
   "metadata": {
    "tags": []
   },
   "outputs": [
    {
     "name": "stderr",
     "output_type": "stream",
     "text": [
      "kj/filesystem-disk-unix.c++:1703: warning: PWD environment variable doesn't match current directory; pwd = /home/dk/Desktop/projects/PySyft\n"
     ]
    },
    {
     "name": "stdout",
     "output_type": "stream",
     "text": [
      "✅ The installed version of syft==0.8.1b2 matches the requirement >=0.8.1b0\n"
     ]
    }
   ],
   "source": [
    "import syft as sy\n",
    "sy.requires(\">=0.8.1-beta\")"
   ]
  },
  {
   "cell_type": "code",
   "execution_count": 2,
   "id": "38b79c06-998b-4f13-b484-64ecb847097f",
   "metadata": {
    "tags": []
   },
   "outputs": [
    {
     "name": "stdout",
     "output_type": "stream",
     "text": [
      "Starting test-domain-1 server on 0.0.0.0:8080\n",
      "\n",
      "WARNING: private key is based on node name: test-domain-1 in dev_mode. Don't run this in production.\n",
      "SQLite Store Path:\n",
      "!open file:///tmp/7bca415d13ed1ec841f0d0aede098dbb.sqlite\n",
      "\n"
     ]
    },
    {
     "name": "stderr",
     "output_type": "stream",
     "text": [
      "INFO:     Started server process [130717]\n",
      "INFO:     Waiting for application startup.\n",
      "INFO:     Application startup complete.\n",
      "ERROR:    [Errno 98] error while attempting to bind on address ('0.0.0.0', 8080): address already in use\n",
      "INFO:     Waiting for application shutdown.\n",
      "INFO:     Application shutdown complete.\n"
     ]
    }
   ],
   "source": [
    "node = sy.orchestra.launch(name=\"test-domain-1\", port=8080, dev_mode=True)"
   ]
  },
  {
   "cell_type": "code",
   "execution_count": 3,
   "id": "c2b4170f-92e1-4b1f-adcc-79d63794a358",
   "metadata": {
    "tags": []
   },
   "outputs": [
    {
     "data": {
      "text/plain": [
       "<SyftClient - test-domain-1 <7bca415d13ed1ec841f0d0aede098dbb>: HTTPConnection: http://localhost:8080>"
      ]
     },
     "execution_count": 3,
     "metadata": {},
     "output_type": "execute_result"
    }
   ],
   "source": [
    "client = node.login(email=\"info@openmined.org\", password=\"changethis\")\n",
    "client"
   ]
  },
  {
   "cell_type": "code",
   "execution_count": 4,
   "id": "64c13da6-e2b9-4171-8c69-4bed5adaf0f8",
   "metadata": {
    "tags": []
   },
   "outputs": [
    {
     "data": {
      "text/plain": [
       "<SyftClient - test-domain-1 <7bca415d13ed1ec841f0d0aede098dbb>: HTTPConnection: http://localhost:8080>"
      ]
     },
     "execution_count": 4,
     "metadata": {},
     "output_type": "execute_result"
    }
   ],
   "source": [
    "guest_client = node.client.guest()\n",
    "guest_client"
   ]
  },
  {
   "cell_type": "code",
   "execution_count": 5,
   "id": "28c1bf00-4f59-4aec-bf3f-28e4adcfa688",
   "metadata": {
    "tags": []
   },
   "outputs": [],
   "source": [
    "assert client.credentials != guest_client.credentials"
   ]
  },
  {
   "cell_type": "markdown",
   "id": "8076f279",
   "metadata": {},
   "source": [
    "# Simple permissions"
   ]
  },
  {
   "cell_type": "code",
   "execution_count": 8,
   "id": "5c89fab3-3756-4a6f-b2b0-d3f6c697459b",
   "metadata": {
    "tags": []
   },
   "outputs": [],
   "source": [
    "import numpy as np"
   ]
  },
  {
   "cell_type": "code",
   "execution_count": 7,
   "id": "9d3f11ce",
   "metadata": {
    "tags": []
   },
   "outputs": [],
   "source": [
    "input_obj = sy.TwinObject(\n",
    "    private_obj=np.array([[3,3,3], [3,3,3]]),\n",
    "    mock_obj=np.array([[1,1,1], [1,1,1]])\n",
    ")"
   ]
  },
  {
   "cell_type": "code",
   "execution_count": 8,
   "id": "81d46594",
   "metadata": {
    "tags": []
   },
   "outputs": [
    {
     "data": {
      "text/plain": [
       "<UID: 9fd6d3787e9e4b34914f362821d50478>"
      ]
     },
     "execution_count": 8,
     "metadata": {},
     "output_type": "execute_result"
    }
   ],
   "source": [
    "# user creates\n",
    "input_ptr = client.api.services.action.set(input_obj)\n",
    "\n",
    "# guest gets pointer\n",
    "pointer = guest_client.api.services.action.get_pointer(input_ptr.id)\n",
    "pointer.id"
   ]
  },
  {
   "cell_type": "code",
   "execution_count": 9,
   "id": "f952b5b3-32ba-4e8d-978c-46e79496e48b",
   "metadata": {
    "tags": []
   },
   "outputs": [
    {
     "data": {
      "text/markdown": [
       "```python\n",
       "TwinPointer(Mock)\n",
       "```\n",
       "array([1, 1, 1, 1, 1, 1])"
      ],
      "text/plain": [
       "TwinPointer(Mock):\n",
       "[1 1 1 1 1 1]"
      ]
     },
     "execution_count": 9,
     "metadata": {},
     "output_type": "execute_result"
    }
   ],
   "source": [
    "flat_ptr = pointer.flatten()\n",
    "flat_ptr"
   ]
  },
  {
   "cell_type": "code",
   "execution_count": 10,
   "id": "fb3ea126-ea90-4ff2-aa0e-3eabab631535",
   "metadata": {
    "tags": []
   },
   "outputs": [
    {
     "name": "stdout",
     "output_type": "stream",
     "text": [
      "Permission: <READ: e68e0f4f6cc0449cb2135421c130723a as b222cb892bfdda7f48581db464ebc7e3fcd59bc04df0b65fb144f822179021e5> denied\n"
     ]
    }
   ],
   "source": [
    "# read permission error\n",
    "res_guest = guest_client.api.services.action.get(flat_ptr.id)\n",
    "print(res_guest)\n",
    "assert not isinstance(res_guest, sy.ActionObject)"
   ]
  },
  {
   "cell_type": "code",
   "execution_count": 11,
   "id": "8a7f1626-211a-4fd4-9007-93767f38a651",
   "metadata": {
    "tags": []
   },
   "outputs": [],
   "source": [
    "# get as user with permission\n",
    "res_root = flat_ptr.get_from(client)\n",
    "assert all(res_root == [3,3,3,3,3,3])"
   ]
  },
  {
   "cell_type": "markdown",
   "id": "ba4c2379",
   "metadata": {},
   "source": [
    "# Plans"
   ]
  },
  {
   "cell_type": "markdown",
   "id": "c954c815",
   "metadata": {},
   "source": [
    "## Plans with object instantiations"
   ]
  },
  {
   "cell_type": "code",
   "execution_count": 12,
   "id": "18245625",
   "metadata": {
    "tags": []
   },
   "outputs": [],
   "source": [
    "@sy.planify\n",
    "def my_plan(x=np.array([1,2,3,4,5,6])):\n",
    "    return x+1"
   ]
  },
  {
   "cell_type": "code",
   "execution_count": 13,
   "id": "efae1223",
   "metadata": {
    "tags": []
   },
   "outputs": [],
   "source": [
    "plan_ptr = my_plan.send(guest_client)"
   ]
  },
  {
   "cell_type": "code",
   "execution_count": 14,
   "id": "519069b3",
   "metadata": {
    "tags": []
   },
   "outputs": [],
   "source": [
    "input_obj = sy.TwinObject(\n",
    "    private_obj=np.array([1,2,3,4,5,6]),\n",
    "    mock_obj=np.array([1,1,1,1,1,1])\n",
    ")"
   ]
  },
  {
   "cell_type": "code",
   "execution_count": 15,
   "id": "74804e55",
   "metadata": {
    "tags": []
   },
   "outputs": [],
   "source": [
    "_id = client.api.services.action.set(input_obj).id\n",
    "pointer = guest_client.api.services.action.get_pointer(_id) "
   ]
  },
  {
   "cell_type": "code",
   "execution_count": 16,
   "id": "7a5c6d5d",
   "metadata": {
    "tags": []
   },
   "outputs": [],
   "source": [
    "res_ptr = plan_ptr(x=pointer)"
   ]
  },
  {
   "cell_type": "code",
   "execution_count": 17,
   "id": "35102161",
   "metadata": {
    "tags": []
   },
   "outputs": [
    {
     "data": {
      "text/plain": [
       "array([2, 3, 4, 5, 6, 7])"
      ]
     },
     "execution_count": 17,
     "metadata": {},
     "output_type": "execute_result"
    }
   ],
   "source": [
    "res_ptr.get_from(client)"
   ]
  },
  {
   "cell_type": "markdown",
   "id": "0c209b5b",
   "metadata": {},
   "source": [
    "## Complex plans"
   ]
  },
  {
   "cell_type": "code",
   "execution_count": 18,
   "id": "6f099554",
   "metadata": {
    "tags": []
   },
   "outputs": [],
   "source": [
    "@sy.planify\n",
    "def my_plan(x=np.array([1,2,3,4,5,6])):\n",
    "    y = x.flatten() # method -> [1,2,3,4,5,6]\n",
    "    min_val = x.min() # method -> 1\n",
    "    s = x.shape # getattribute -> 6    \n",
    "    w = x[min_val] # __getitem__ -> 2\n",
    "    y[min_val] = min_val # __setitem__ y = [1,1,3,4,5,6]\n",
    "    res = client.api.lib.numpy.sum(y) + w + s # client function and __add__ 20 + 2 + 6 = 28\n",
    "    return res #28"
   ]
  },
  {
   "cell_type": "code",
   "execution_count": 19,
   "id": "34fd698e",
   "metadata": {
    "tags": []
   },
   "outputs": [
    {
     "data": {
      "text/markdown": [
       "```python\n",
       "Pointer\n",
       "```\n",
       "```python\n",
       "class Plan:\n",
       "  id: str = e870208895c64d7ba64cabf6421d1b56\n",
       "  inputs: str = {'x': Pointer:\n",
       "[1 2 3 4 5 6]}\n",
       "  outputs: str = [Pointer:\n",
       "[28]]\n",
       "  actions: str = [ActionObject NumpyArrayObject[f58..8].flatten(,), ActionObject NumpyArrayObject[f58..8].min(,), ActionObject NumpyArrayObject[f58..8].shape(,), ActionObject NumpyArrayObject[f58..8].__getitem__(104..a,), ActionObject NumpyArrayObject[083..9].__setitem__(104..a, 104..a,), ActionObject numpy.sum(083..9,), ActionObject NumpyScalarObject[48f..f].__add__(6a3..4,), ActionObject NumpyScalarObject[473..e].__add__(c91..8,)]\n",
       "  code: str = \"@sy.planify\n",
       "def my_plan(x=np.array([1,2,3,4,5,6])):\n",
       "    y = x.flatten() # method -> [1,2,3,4,5,6]\n",
       "    min_val = x.min() # method -> 1\n",
       "    s = x.shape # getattribute -> 6    \n",
       "    w = x[min_val] # __getitem__ -> 2\n",
       "    y[min_val] = min_val # __setitem__ y = [1,1,3,4,5,6]\n",
       "    res = client.api.lib.numpy.sum(y) + w + s # client function and __add__ 20 + 2 + 6 = 28\n",
       "    return res #28\n",
       "\"\n",
       "  client: str = None\n",
       "  syft_passthrough_attrs: str = ['inputs', 'outputs', 'code', 'actions', 'client']\n",
       "\n",
       "```"
      ],
      "text/plain": [
       "Pointer:\n",
       "Plan\n",
       "Inputs:\n",
       "\t\tx: NumpyArrayObject\n",
       "Actions:\n",
       "\t\t8 Actions\n",
       "Outputs:\n",
       "\t\tNumpyArrayObject\n",
       "\n",
       "Plan code:\n",
       "\"\"\"\n",
       "@sy.planify\n",
       "def my_plan(x=np.array([1,2,3,4,5,6])):\n",
       "    y = x.flatten() # method -> [1,2,3,4,5,6]\n",
       "    min_val = x.min() # method -> 1\n",
       "    s = x.shape # getattribute -> 6    \n",
       "    w = x[min_val] # __getitem__ -> 2\n",
       "    y[min_val] = min_val # __setitem__ y = [1,1,3,4,5,6]\n",
       "    res = client.api.lib.numpy.sum(y) + w + s # client function and __add__ 20 + 2 + 6 = 28\n",
       "    return res #28\n",
       "\n",
       "\"\"\""
      ]
     },
     "execution_count": 19,
     "metadata": {},
     "output_type": "execute_result"
    }
   ],
   "source": [
    "my_plan"
   ]
  },
  {
   "cell_type": "code",
   "execution_count": 20,
   "id": "a22554d7",
   "metadata": {},
   "outputs": [],
   "source": [
    "plan_ptr = my_plan.send(guest_client)"
   ]
  },
  {
   "cell_type": "code",
   "execution_count": 21,
   "id": "db6d9330",
   "metadata": {},
   "outputs": [],
   "source": [
    "input_obj = sy.TwinObject(\n",
    "    private_obj=np.array([1,2,3,4,5,6]),\n",
    "    mock_obj=np.array([1,1,1, 1,1,1])\n",
    ")\n",
    "\n",
    "_id = client.api.services.action.set(input_obj).id\n",
    "pointer = guest_client.api.services.action.get_pointer(_id) "
   ]
  },
  {
   "cell_type": "code",
   "execution_count": 22,
   "id": "2e445ade",
   "metadata": {},
   "outputs": [],
   "source": [
    "res_ptr = plan_ptr(x=pointer)"
   ]
  },
  {
   "cell_type": "code",
   "execution_count": 23,
   "id": "989117ec",
   "metadata": {},
   "outputs": [
    {
     "data": {
      "text/plain": [
       "array([29])"
      ]
     },
     "execution_count": 23,
     "metadata": {},
     "output_type": "execute_result"
    }
   ],
   "source": [
    "res_ptr.get_from(client)"
   ]
  },
  {
   "cell_type": "markdown",
   "id": "cee1d9c1",
   "metadata": {},
   "source": [
    "## Plans with function calls"
   ]
  },
  {
   "cell_type": "code",
   "execution_count": 24,
   "id": "9bc2633d",
   "metadata": {},
   "outputs": [
    {
     "data": {
      "text/plain": [
       "<function syft.client.api.generate_remote_lib_function.<locals>.wrapper(*args, **kwargs)>"
      ]
     },
     "execution_count": 24,
     "metadata": {},
     "output_type": "execute_result"
    }
   ],
   "source": [
    "client.api.lib.numpy.sum"
   ]
  },
  {
   "cell_type": "code",
   "execution_count": 25,
   "id": "a0b36b2e",
   "metadata": {},
   "outputs": [],
   "source": [
    "@sy.planify\n",
    "def my_plan(x=np.array([[2,2,2], [2,2,2]])):\n",
    "    y = x.flatten()\n",
    "    w = client.api.lib.numpy.sum(y)\n",
    "    return w"
   ]
  },
  {
   "cell_type": "code",
   "execution_count": 26,
   "id": "7acd9453",
   "metadata": {},
   "outputs": [],
   "source": [
    "plan_ptr = my_plan.send(guest_client)\n",
    "\n",
    "input_obj = sy.TwinObject(\n",
    "    private_obj=np.array([[3,3,3], [3,3,3]]),\n",
    "    mock_obj=np.array([[1,1,1], [1,1,1]])\n",
    ")\n",
    "\n",
    "input_ptr = client.api.services.action.set(input_obj)\n",
    "pointer = guest_client.api.services.action.get_pointer(input_ptr.id) \n"
   ]
  },
  {
   "cell_type": "code",
   "execution_count": 27,
   "id": "b5303464",
   "metadata": {},
   "outputs": [],
   "source": [
    "res_ptr = plan_ptr(x=pointer)"
   ]
  },
  {
   "cell_type": "code",
   "execution_count": 28,
   "id": "2bcf9a15",
   "metadata": {},
   "outputs": [],
   "source": [
    "assert res_ptr.get_from(client) == 18"
   ]
  },
  {
   "cell_type": "markdown",
   "id": "d3f89fc8",
   "metadata": {},
   "source": [
    "## simple execution (root downloads)"
   ]
  },
  {
   "cell_type": "code",
   "execution_count": 9,
   "id": "d80d1424",
   "metadata": {},
   "outputs": [],
   "source": [
    "@sy.planify\n",
    "def my_plan(x=np.array([[2,2,2], [2,2,2]])):\n",
    "    y = x.flatten()\n",
    "    z = y.prod()\n",
    "    return z"
   ]
  },
  {
   "cell_type": "code",
   "execution_count": 10,
   "id": "d654b6ae",
   "metadata": {},
   "outputs": [],
   "source": [
    "plan_ptr = my_plan.send(guest_client)"
   ]
  },
  {
   "cell_type": "code",
   "execution_count": 11,
   "id": "5150eb4b",
   "metadata": {},
   "outputs": [],
   "source": [
    "input_obj = sy.TwinObject(\n",
    "    private_obj=np.array([[3,3,3], [3,3,3]]),\n",
    "    mock_obj=np.array([[1,1,1], [1,1,1]])\n",
    ")"
   ]
  },
  {
   "cell_type": "code",
   "execution_count": 12,
   "id": "e9d135b7",
   "metadata": {},
   "outputs": [],
   "source": [
    "input_ptr = client.api.services.action.set(input_obj)"
   ]
  },
  {
   "cell_type": "code",
   "execution_count": 13,
   "id": "25c4506c",
   "metadata": {},
   "outputs": [],
   "source": [
    "pointer = guest_client.api.services.action.get_pointer(input_ptr.id) "
   ]
  },
  {
   "cell_type": "code",
   "execution_count": 14,
   "id": "ea4635a6",
   "metadata": {},
   "outputs": [],
   "source": [
    "res_ptr = plan_ptr(x=pointer)"
   ]
  },
  {
   "cell_type": "code",
   "execution_count": 15,
   "id": "4734147a",
   "metadata": {},
   "outputs": [
    {
     "data": {
      "text/markdown": [
       "```python\n",
       "Pointer\n",
       "```\n",
       "64"
      ],
      "text/plain": [
       "Pointer:\n",
       "64"
      ]
     },
     "execution_count": 15,
     "metadata": {},
     "output_type": "execute_result"
    }
   ],
   "source": [
    "# TODO: should be 1\n",
    "res_ptr"
   ]
  },
  {
   "cell_type": "code",
   "execution_count": 16,
   "id": "0de6394d",
   "metadata": {},
   "outputs": [],
   "source": [
    "assert not isinstance(guest_client.api.services.action.get(res_ptr.id), sy.ActionObject)"
   ]
  },
  {
   "cell_type": "code",
   "execution_count": 17,
   "id": "0c9e090c",
   "metadata": {},
   "outputs": [],
   "source": [
    "assert res_ptr.get_from(client) == np.array([[3,3,3], [3,3,3]]).flatten().prod()"
   ]
  },
  {
   "cell_type": "markdown",
   "id": "2c38b395",
   "metadata": {},
   "source": [
    "## Downloading the result"
   ]
  },
  {
   "cell_type": "code",
   "execution_count": 18,
   "id": "349ec6e9",
   "metadata": {},
   "outputs": [
    {
     "data": {
      "text/markdown": [
       "```python\n",
       "class Request:\n",
       "  id: str = a875bb35883f48e6beb2bd7e90046434\n",
       "  requesting_user_verify_key: str = 7510942d230ec829959dfe97c2749b7d5faecf9a50c22c0f8b085d4fac5feafc\n",
       "  approving_user_verify_key: str = None\n",
       "  request_time: str = 2023-05-16 02:51:17\n",
       "  approval_time: str = None\n",
       "  status: str = RequestStatus.PENDING\n",
       "  node_uid: str = 7bca415d13ed1ec841f0d0aede098dbb\n",
       "  request_hash: str = \"dab0850dfae86b447783e47a25642a1cf3438da0178edbbe2f6c60be3daee695\"\n",
       "  changes: str = [syft.service.request.request.ActionStoreChange]\n",
       "\n",
       "```"
      ],
      "text/plain": [
       "syft.service.request.request.Request"
      ]
     },
     "execution_count": 18,
     "metadata": {},
     "output_type": "execute_result"
    }
   ],
   "source": [
    "res_ptr.request(guest_client)"
   ]
  },
  {
   "cell_type": "code",
   "execution_count": 26,
   "id": "4c0cfabf-3315-44a2-9058-b617acc6204f",
   "metadata": {
    "tags": []
   },
   "outputs": [
    {
     "data": {
      "text/markdown": [
       "```python\n",
       "class LinkedObject:\n",
       "  id: str = aed10d0bc56444dda9293533c8dd845d\n",
       "  node_uid: str = 7bca415d13ed1ec841f0d0aede098dbb\n",
       "  service_type: str = <class 'syft.service.request.request_service.RequestService'>\n",
       "  object_type: str = <class 'syft.service.request.request.Request'>\n",
       "  object_uid: str = bc4a0a5b30f3447abb3e71ab2cea56ad\n",
       "\n",
       "```"
      ],
      "text/plain": [
       "syft.store.linked_obj.LinkedObject"
      ]
     },
     "execution_count": 26,
     "metadata": {},
     "output_type": "execute_result"
    }
   ],
   "source": [
    "# TODO: fix this issue with custom \n",
    "client.api.services.messages[2].linked_obj"
   ]
  },
  {
   "cell_type": "code",
   "execution_count": 20,
   "id": "333cc61e",
   "metadata": {},
   "outputs": [
    {
     "ename": "Exception",
     "evalue": "syft.user.RepeatedCallPolicy_aec6ea4dfc049ceacaeeebc493167a88a200ddc367b1fa32da652444b635d21f_ba90eef16c2b39292a2ee07f1aefc157216b84487b26c32a1512d114c8ee7c69 not in TYPE_BANK",
     "output_type": "error",
     "traceback": [
      "\u001b[0;31m---------------------------------------------------------------------------\u001b[0m",
      "\u001b[0;31mException\u001b[0m                                 Traceback (most recent call last)",
      "Cell \u001b[0;32mIn[20], line 1\u001b[0m\n\u001b[0;32m----> 1\u001b[0m \u001b[43mclient\u001b[49m\u001b[38;5;241;43m.\u001b[39;49m\u001b[43mapi\u001b[49m\u001b[38;5;241;43m.\u001b[39;49m\u001b[43mservices\u001b[49m\u001b[38;5;241;43m.\u001b[39;49m\u001b[43mrequest\u001b[49m\u001b[43m[\u001b[49m\u001b[38;5;241;43m0\u001b[39;49m\u001b[43m]\u001b[49m\u001b[38;5;241m.\u001b[39mapprove_with_client(client)\n",
      "File \u001b[0;32m~/Desktop/projects/PySyft/packages/syft/src/syft/client/api.py:319\u001b[0m, in \u001b[0;36mAPIModule.__getitem__\u001b[0;34m(self, key)\u001b[0m\n\u001b[1;32m    317\u001b[0m \u001b[38;5;28;01mdef\u001b[39;00m \u001b[38;5;21m__getitem__\u001b[39m(\u001b[38;5;28mself\u001b[39m, key: Union[\u001b[38;5;28mstr\u001b[39m, \u001b[38;5;28mint\u001b[39m]) \u001b[38;5;241m-\u001b[39m\u001b[38;5;241m>\u001b[39m Any:\n\u001b[1;32m    318\u001b[0m     \u001b[38;5;28;01mif\u001b[39;00m \u001b[38;5;28misinstance\u001b[39m(key, \u001b[38;5;28mint\u001b[39m) \u001b[38;5;129;01mand\u001b[39;00m \u001b[38;5;28mhasattr\u001b[39m(\u001b[38;5;28mself\u001b[39m, \u001b[38;5;124m\"\u001b[39m\u001b[38;5;124mget_all\u001b[39m\u001b[38;5;124m\"\u001b[39m):\n\u001b[0;32m--> 319\u001b[0m         \u001b[38;5;28;01mreturn\u001b[39;00m \u001b[38;5;28;43mself\u001b[39;49m\u001b[38;5;241;43m.\u001b[39;49m\u001b[43mget_all\u001b[49m\u001b[43m(\u001b[49m\u001b[43m)\u001b[49m[key]\n\u001b[1;32m    320\u001b[0m     \u001b[38;5;28;01mraise\u001b[39;00m \u001b[38;5;167;01mNotImplementedError\u001b[39;00m\n",
      "File \u001b[0;32m~/Desktop/projects/PySyft/packages/syft/src/syft/client/api.py:207\u001b[0m, in \u001b[0;36mgenerate_remote_function.<locals>.wrapper\u001b[0;34m(*args, **kwargs)\u001b[0m\n\u001b[1;32m    198\u001b[0m     _valid_kwargs\u001b[38;5;241m.\u001b[39mupdate(pre_kwargs)\n\u001b[1;32m    200\u001b[0m api_call \u001b[38;5;241m=\u001b[39m SyftAPICall(\n\u001b[1;32m    201\u001b[0m     node_uid\u001b[38;5;241m=\u001b[39mnode_uid,\n\u001b[1;32m    202\u001b[0m     path\u001b[38;5;241m=\u001b[39mpath,\n\u001b[0;32m   (...)\u001b[0m\n\u001b[1;32m    205\u001b[0m     blocking\u001b[38;5;241m=\u001b[39mblocking,\n\u001b[1;32m    206\u001b[0m )\n\u001b[0;32m--> 207\u001b[0m result \u001b[38;5;241m=\u001b[39m \u001b[43mmake_call\u001b[49m\u001b[43m(\u001b[49m\u001b[43mapi_call\u001b[49m\u001b[38;5;241;43m=\u001b[39;49m\u001b[43mapi_call\u001b[49m\u001b[43m)\u001b[49m\n\u001b[1;32m    208\u001b[0m \u001b[38;5;28;01mreturn\u001b[39;00m result\n",
      "File \u001b[0;32m~/Desktop/projects/PySyft/packages/syft/src/syft/client/api.py:435\u001b[0m, in \u001b[0;36mSyftAPI.make_call\u001b[0;34m(self, api_call)\u001b[0m\n\u001b[1;32m    432\u001b[0m \u001b[38;5;28;01mif\u001b[39;00m \u001b[38;5;129;01mnot\u001b[39;00m signed_result\u001b[38;5;241m.\u001b[39mis_valid:\n\u001b[1;32m    433\u001b[0m     \u001b[38;5;28;01mreturn\u001b[39;00m SyftError(message\u001b[38;5;241m=\u001b[39m\u001b[38;5;124m\"\u001b[39m\u001b[38;5;124mThe result signature is invalid\u001b[39m\u001b[38;5;124m\"\u001b[39m)  \u001b[38;5;66;03m# type: ignore\u001b[39;00m\n\u001b[0;32m--> 435\u001b[0m result \u001b[38;5;241m=\u001b[39m \u001b[43msigned_result\u001b[49m\u001b[38;5;241;43m.\u001b[39;49m\u001b[43mmessage\u001b[49m\u001b[38;5;241m.\u001b[39mdata\n\u001b[1;32m    437\u001b[0m \u001b[38;5;28;01mif\u001b[39;00m \u001b[38;5;28misinstance\u001b[39m(result, OkErr):\n\u001b[1;32m    438\u001b[0m     \u001b[38;5;28;01mif\u001b[39;00m result\u001b[38;5;241m.\u001b[39mis_ok():\n",
      "File \u001b[0;32m~/Desktop/projects/PySyft/packages/syft/src/syft/client/api.py:111\u001b[0m, in \u001b[0;36mSignedSyftAPICall.message\u001b[0;34m(self)\u001b[0m\n\u001b[1;32m    108\u001b[0m     \u001b[38;5;28mself\u001b[39m\u001b[38;5;241m.\u001b[39mcached_deseralized_message \u001b[38;5;241m=\u001b[39m \u001b[38;5;28;01mNone\u001b[39;00m\n\u001b[1;32m    110\u001b[0m \u001b[38;5;28;01mif\u001b[39;00m \u001b[38;5;28mself\u001b[39m\u001b[38;5;241m.\u001b[39mcached_deseralized_message \u001b[38;5;129;01mis\u001b[39;00m \u001b[38;5;28;01mNone\u001b[39;00m:\n\u001b[0;32m--> 111\u001b[0m     \u001b[38;5;28mself\u001b[39m\u001b[38;5;241m.\u001b[39mcached_deseralized_message \u001b[38;5;241m=\u001b[39m \u001b[43m_deserialize\u001b[49m\u001b[43m(\u001b[49m\n\u001b[1;32m    112\u001b[0m \u001b[43m        \u001b[49m\u001b[43mblob\u001b[49m\u001b[38;5;241;43m=\u001b[39;49m\u001b[38;5;28;43mself\u001b[39;49m\u001b[38;5;241;43m.\u001b[39;49m\u001b[43mserialized_message\u001b[49m\u001b[43m,\u001b[49m\u001b[43m \u001b[49m\u001b[43mfrom_bytes\u001b[49m\u001b[38;5;241;43m=\u001b[39;49m\u001b[38;5;28;43;01mTrue\u001b[39;49;00m\n\u001b[1;32m    113\u001b[0m \u001b[43m    \u001b[49m\u001b[43m)\u001b[49m\n\u001b[1;32m    115\u001b[0m \u001b[38;5;28;01mreturn\u001b[39;00m \u001b[38;5;28mself\u001b[39m\u001b[38;5;241m.\u001b[39mcached_deseralized_message\n",
      "File \u001b[0;32m~/Desktop/projects/PySyft/packages/syft/src/syft/serde/deserialize.py:29\u001b[0m, in \u001b[0;36m_deserialize\u001b[0;34m(blob, from_proto, from_bytes)\u001b[0m\n\u001b[1;32m     26\u001b[0m     \u001b[38;5;28;01mraise\u001b[39;00m \u001b[38;5;167;01mTypeError\u001b[39;00m(\u001b[38;5;124m\"\u001b[39m\u001b[38;5;124mWrong deserialization format.\u001b[39m\u001b[38;5;124m\"\u001b[39m)\n\u001b[1;32m     28\u001b[0m \u001b[38;5;28;01mif\u001b[39;00m from_bytes:\n\u001b[0;32m---> 29\u001b[0m     \u001b[38;5;28;01mreturn\u001b[39;00m \u001b[43mrs_bytes2object\u001b[49m\u001b[43m(\u001b[49m\u001b[43mblob\u001b[49m\u001b[43m)\u001b[49m\n\u001b[1;32m     31\u001b[0m \u001b[38;5;28;01mif\u001b[39;00m from_proto:\n\u001b[1;32m     32\u001b[0m     \u001b[38;5;28;01mreturn\u001b[39;00m rs_proto2object(blob)\n",
      "File \u001b[0;32m~/Desktop/projects/PySyft/packages/syft/src/syft/serde/recursive.py:189\u001b[0m, in \u001b[0;36mrs_bytes2object\u001b[0;34m(blob)\u001b[0m\n\u001b[1;32m    184\u001b[0m MAX_TRAVERSAL_LIMIT \u001b[38;5;241m=\u001b[39m \u001b[38;5;241m2\u001b[39m\u001b[38;5;241m*\u001b[39m\u001b[38;5;241m*\u001b[39m\u001b[38;5;241m64\u001b[39m \u001b[38;5;241m-\u001b[39m \u001b[38;5;241m1\u001b[39m\n\u001b[1;32m    186\u001b[0m \u001b[38;5;28;01mwith\u001b[39;00m recursive_scheme\u001b[38;5;241m.\u001b[39mfrom_bytes(  \u001b[38;5;66;03m# type: ignore\u001b[39;00m\n\u001b[1;32m    187\u001b[0m     blob, traversal_limit_in_words\u001b[38;5;241m=\u001b[39mMAX_TRAVERSAL_LIMIT\n\u001b[1;32m    188\u001b[0m ) \u001b[38;5;28;01mas\u001b[39;00m msg:\n\u001b[0;32m--> 189\u001b[0m     \u001b[38;5;28;01mreturn\u001b[39;00m \u001b[43mrs_proto2object\u001b[49m\u001b[43m(\u001b[49m\u001b[43mmsg\u001b[49m\u001b[43m)\u001b[49m\n",
      "File \u001b[0;32m~/Desktop/projects/PySyft/packages/syft/src/syft/serde/recursive.py:253\u001b[0m, in \u001b[0;36mrs_proto2object\u001b[0;34m(proto)\u001b[0m\n\u001b[1;32m    251\u001b[0m \u001b[38;5;28;01mfor\u001b[39;00m attr_name, attr_bytes_list \u001b[38;5;129;01min\u001b[39;00m \u001b[38;5;28mzip\u001b[39m(proto\u001b[38;5;241m.\u001b[39mfieldsName, proto\u001b[38;5;241m.\u001b[39mfieldsData):\n\u001b[1;32m    252\u001b[0m     attr_bytes \u001b[38;5;241m=\u001b[39m combine_bytes(attr_bytes_list)\n\u001b[0;32m--> 253\u001b[0m     attr_value \u001b[38;5;241m=\u001b[39m \u001b[43m_deserialize\u001b[49m\u001b[43m(\u001b[49m\u001b[43mattr_bytes\u001b[49m\u001b[43m,\u001b[49m\u001b[43m \u001b[49m\u001b[43mfrom_bytes\u001b[49m\u001b[38;5;241;43m=\u001b[39;49m\u001b[38;5;28;43;01mTrue\u001b[39;49;00m\u001b[43m)\u001b[49m\n\u001b[1;32m    254\u001b[0m     transforms \u001b[38;5;241m=\u001b[39m serde_overrides\u001b[38;5;241m.\u001b[39mget(attr_name, \u001b[38;5;28;01mNone\u001b[39;00m)\n\u001b[1;32m    256\u001b[0m     \u001b[38;5;28;01mif\u001b[39;00m transforms \u001b[38;5;129;01mis\u001b[39;00m \u001b[38;5;129;01mnot\u001b[39;00m \u001b[38;5;28;01mNone\u001b[39;00m:\n",
      "File \u001b[0;32m~/Desktop/projects/PySyft/packages/syft/src/syft/serde/deserialize.py:29\u001b[0m, in \u001b[0;36m_deserialize\u001b[0;34m(blob, from_proto, from_bytes)\u001b[0m\n\u001b[1;32m     26\u001b[0m     \u001b[38;5;28;01mraise\u001b[39;00m \u001b[38;5;167;01mTypeError\u001b[39;00m(\u001b[38;5;124m\"\u001b[39m\u001b[38;5;124mWrong deserialization format.\u001b[39m\u001b[38;5;124m\"\u001b[39m)\n\u001b[1;32m     28\u001b[0m \u001b[38;5;28;01mif\u001b[39;00m from_bytes:\n\u001b[0;32m---> 29\u001b[0m     \u001b[38;5;28;01mreturn\u001b[39;00m \u001b[43mrs_bytes2object\u001b[49m\u001b[43m(\u001b[49m\u001b[43mblob\u001b[49m\u001b[43m)\u001b[49m\n\u001b[1;32m     31\u001b[0m \u001b[38;5;28;01mif\u001b[39;00m from_proto:\n\u001b[1;32m     32\u001b[0m     \u001b[38;5;28;01mreturn\u001b[39;00m rs_proto2object(blob)\n",
      "File \u001b[0;32m~/Desktop/projects/PySyft/packages/syft/src/syft/serde/recursive.py:189\u001b[0m, in \u001b[0;36mrs_bytes2object\u001b[0;34m(blob)\u001b[0m\n\u001b[1;32m    184\u001b[0m MAX_TRAVERSAL_LIMIT \u001b[38;5;241m=\u001b[39m \u001b[38;5;241m2\u001b[39m\u001b[38;5;241m*\u001b[39m\u001b[38;5;241m*\u001b[39m\u001b[38;5;241m64\u001b[39m \u001b[38;5;241m-\u001b[39m \u001b[38;5;241m1\u001b[39m\n\u001b[1;32m    186\u001b[0m \u001b[38;5;28;01mwith\u001b[39;00m recursive_scheme\u001b[38;5;241m.\u001b[39mfrom_bytes(  \u001b[38;5;66;03m# type: ignore\u001b[39;00m\n\u001b[1;32m    187\u001b[0m     blob, traversal_limit_in_words\u001b[38;5;241m=\u001b[39mMAX_TRAVERSAL_LIMIT\n\u001b[1;32m    188\u001b[0m ) \u001b[38;5;28;01mas\u001b[39;00m msg:\n\u001b[0;32m--> 189\u001b[0m     \u001b[38;5;28;01mreturn\u001b[39;00m \u001b[43mrs_proto2object\u001b[49m\u001b[43m(\u001b[49m\u001b[43mmsg\u001b[49m\u001b[43m)\u001b[49m\n",
      "File \u001b[0;32m~/Desktop/projects/PySyft/packages/syft/src/syft/serde/recursive.py:247\u001b[0m, in \u001b[0;36mrs_proto2object\u001b[0;34m(proto)\u001b[0m\n\u001b[1;32m    242\u001b[0m     \u001b[38;5;28;01mif\u001b[39;00m deserialize \u001b[38;5;129;01mis\u001b[39;00m \u001b[38;5;28;01mNone\u001b[39;00m:\n\u001b[1;32m    243\u001b[0m         \u001b[38;5;28;01mraise\u001b[39;00m \u001b[38;5;167;01mException\u001b[39;00m(\n\u001b[1;32m    244\u001b[0m             \u001b[38;5;124mf\u001b[39m\u001b[38;5;124m\"\u001b[39m\u001b[38;5;124mCant serialize \u001b[39m\u001b[38;5;132;01m{\u001b[39;00m\u001b[38;5;28mtype\u001b[39m(proto)\u001b[38;5;132;01m}\u001b[39;00m\u001b[38;5;124m nonrecursive without serialize.\u001b[39m\u001b[38;5;124m\"\u001b[39m\n\u001b[1;32m    245\u001b[0m         )\n\u001b[0;32m--> 247\u001b[0m     \u001b[38;5;28;01mreturn\u001b[39;00m \u001b[43mdeserialize\u001b[49m\u001b[43m(\u001b[49m\u001b[43mcombine_bytes\u001b[49m\u001b[43m(\u001b[49m\u001b[43mproto\u001b[49m\u001b[38;5;241;43m.\u001b[39;49m\u001b[43mnonrecursiveBlob\u001b[49m\u001b[43m)\u001b[49m\u001b[43m)\u001b[49m\n\u001b[1;32m    249\u001b[0m kwargs \u001b[38;5;241m=\u001b[39m {}\n\u001b[1;32m    251\u001b[0m \u001b[38;5;28;01mfor\u001b[39;00m attr_name, attr_bytes_list \u001b[38;5;129;01min\u001b[39;00m \u001b[38;5;28mzip\u001b[39m(proto\u001b[38;5;241m.\u001b[39mfieldsName, proto\u001b[38;5;241m.\u001b[39mfieldsData):\n",
      "File \u001b[0;32m~/Desktop/projects/PySyft/packages/syft/src/syft/serde/recursive_primitives.py:65\u001b[0m, in \u001b[0;36mdeserialize_iterable\u001b[0;34m(iterable_type, blob)\u001b[0m\n\u001b[1;32m     61\u001b[0m \u001b[38;5;28;01mwith\u001b[39;00m iterable_schema\u001b[38;5;241m.\u001b[39mfrom_bytes(  \u001b[38;5;66;03m# type: ignore\u001b[39;00m\n\u001b[1;32m     62\u001b[0m     blob, traversal_limit_in_words\u001b[38;5;241m=\u001b[39mMAX_TRAVERSAL_LIMIT\n\u001b[1;32m     63\u001b[0m ) \u001b[38;5;28;01mas\u001b[39;00m msg:\n\u001b[1;32m     64\u001b[0m     \u001b[38;5;28;01mfor\u001b[39;00m element \u001b[38;5;129;01min\u001b[39;00m msg\u001b[38;5;241m.\u001b[39mvalues:\n\u001b[0;32m---> 65\u001b[0m         values\u001b[38;5;241m.\u001b[39mappend(\u001b[43m_deserialize\u001b[49m\u001b[43m(\u001b[49m\u001b[43mcombine_bytes\u001b[49m\u001b[43m(\u001b[49m\u001b[43melement\u001b[49m\u001b[43m)\u001b[49m\u001b[43m,\u001b[49m\u001b[43m \u001b[49m\u001b[43mfrom_bytes\u001b[49m\u001b[38;5;241;43m=\u001b[39;49m\u001b[38;5;28;43;01mTrue\u001b[39;49;00m\u001b[43m)\u001b[49m)\n\u001b[1;32m     67\u001b[0m \u001b[38;5;28;01mreturn\u001b[39;00m iterable_type(values)\n",
      "File \u001b[0;32m~/Desktop/projects/PySyft/packages/syft/src/syft/serde/deserialize.py:29\u001b[0m, in \u001b[0;36m_deserialize\u001b[0;34m(blob, from_proto, from_bytes)\u001b[0m\n\u001b[1;32m     26\u001b[0m     \u001b[38;5;28;01mraise\u001b[39;00m \u001b[38;5;167;01mTypeError\u001b[39;00m(\u001b[38;5;124m\"\u001b[39m\u001b[38;5;124mWrong deserialization format.\u001b[39m\u001b[38;5;124m\"\u001b[39m)\n\u001b[1;32m     28\u001b[0m \u001b[38;5;28;01mif\u001b[39;00m from_bytes:\n\u001b[0;32m---> 29\u001b[0m     \u001b[38;5;28;01mreturn\u001b[39;00m \u001b[43mrs_bytes2object\u001b[49m\u001b[43m(\u001b[49m\u001b[43mblob\u001b[49m\u001b[43m)\u001b[49m\n\u001b[1;32m     31\u001b[0m \u001b[38;5;28;01mif\u001b[39;00m from_proto:\n\u001b[1;32m     32\u001b[0m     \u001b[38;5;28;01mreturn\u001b[39;00m rs_proto2object(blob)\n",
      "File \u001b[0;32m~/Desktop/projects/PySyft/packages/syft/src/syft/serde/recursive.py:189\u001b[0m, in \u001b[0;36mrs_bytes2object\u001b[0;34m(blob)\u001b[0m\n\u001b[1;32m    184\u001b[0m MAX_TRAVERSAL_LIMIT \u001b[38;5;241m=\u001b[39m \u001b[38;5;241m2\u001b[39m\u001b[38;5;241m*\u001b[39m\u001b[38;5;241m*\u001b[39m\u001b[38;5;241m64\u001b[39m \u001b[38;5;241m-\u001b[39m \u001b[38;5;241m1\u001b[39m\n\u001b[1;32m    186\u001b[0m \u001b[38;5;28;01mwith\u001b[39;00m recursive_scheme\u001b[38;5;241m.\u001b[39mfrom_bytes(  \u001b[38;5;66;03m# type: ignore\u001b[39;00m\n\u001b[1;32m    187\u001b[0m     blob, traversal_limit_in_words\u001b[38;5;241m=\u001b[39mMAX_TRAVERSAL_LIMIT\n\u001b[1;32m    188\u001b[0m ) \u001b[38;5;28;01mas\u001b[39;00m msg:\n\u001b[0;32m--> 189\u001b[0m     \u001b[38;5;28;01mreturn\u001b[39;00m \u001b[43mrs_proto2object\u001b[49m\u001b[43m(\u001b[49m\u001b[43mmsg\u001b[49m\u001b[43m)\u001b[49m\n",
      "File \u001b[0;32m~/Desktop/projects/PySyft/packages/syft/src/syft/serde/recursive.py:253\u001b[0m, in \u001b[0;36mrs_proto2object\u001b[0;34m(proto)\u001b[0m\n\u001b[1;32m    251\u001b[0m \u001b[38;5;28;01mfor\u001b[39;00m attr_name, attr_bytes_list \u001b[38;5;129;01min\u001b[39;00m \u001b[38;5;28mzip\u001b[39m(proto\u001b[38;5;241m.\u001b[39mfieldsName, proto\u001b[38;5;241m.\u001b[39mfieldsData):\n\u001b[1;32m    252\u001b[0m     attr_bytes \u001b[38;5;241m=\u001b[39m combine_bytes(attr_bytes_list)\n\u001b[0;32m--> 253\u001b[0m     attr_value \u001b[38;5;241m=\u001b[39m \u001b[43m_deserialize\u001b[49m\u001b[43m(\u001b[49m\u001b[43mattr_bytes\u001b[49m\u001b[43m,\u001b[49m\u001b[43m \u001b[49m\u001b[43mfrom_bytes\u001b[49m\u001b[38;5;241;43m=\u001b[39;49m\u001b[38;5;28;43;01mTrue\u001b[39;49;00m\u001b[43m)\u001b[49m\n\u001b[1;32m    254\u001b[0m     transforms \u001b[38;5;241m=\u001b[39m serde_overrides\u001b[38;5;241m.\u001b[39mget(attr_name, \u001b[38;5;28;01mNone\u001b[39;00m)\n\u001b[1;32m    256\u001b[0m     \u001b[38;5;28;01mif\u001b[39;00m transforms \u001b[38;5;129;01mis\u001b[39;00m \u001b[38;5;129;01mnot\u001b[39;00m \u001b[38;5;28;01mNone\u001b[39;00m:\n",
      "File \u001b[0;32m~/Desktop/projects/PySyft/packages/syft/src/syft/serde/deserialize.py:29\u001b[0m, in \u001b[0;36m_deserialize\u001b[0;34m(blob, from_proto, from_bytes)\u001b[0m\n\u001b[1;32m     26\u001b[0m     \u001b[38;5;28;01mraise\u001b[39;00m \u001b[38;5;167;01mTypeError\u001b[39;00m(\u001b[38;5;124m\"\u001b[39m\u001b[38;5;124mWrong deserialization format.\u001b[39m\u001b[38;5;124m\"\u001b[39m)\n\u001b[1;32m     28\u001b[0m \u001b[38;5;28;01mif\u001b[39;00m from_bytes:\n\u001b[0;32m---> 29\u001b[0m     \u001b[38;5;28;01mreturn\u001b[39;00m \u001b[43mrs_bytes2object\u001b[49m\u001b[43m(\u001b[49m\u001b[43mblob\u001b[49m\u001b[43m)\u001b[49m\n\u001b[1;32m     31\u001b[0m \u001b[38;5;28;01mif\u001b[39;00m from_proto:\n\u001b[1;32m     32\u001b[0m     \u001b[38;5;28;01mreturn\u001b[39;00m rs_proto2object(blob)\n",
      "File \u001b[0;32m~/Desktop/projects/PySyft/packages/syft/src/syft/serde/recursive.py:189\u001b[0m, in \u001b[0;36mrs_bytes2object\u001b[0;34m(blob)\u001b[0m\n\u001b[1;32m    184\u001b[0m MAX_TRAVERSAL_LIMIT \u001b[38;5;241m=\u001b[39m \u001b[38;5;241m2\u001b[39m\u001b[38;5;241m*\u001b[39m\u001b[38;5;241m*\u001b[39m\u001b[38;5;241m64\u001b[39m \u001b[38;5;241m-\u001b[39m \u001b[38;5;241m1\u001b[39m\n\u001b[1;32m    186\u001b[0m \u001b[38;5;28;01mwith\u001b[39;00m recursive_scheme\u001b[38;5;241m.\u001b[39mfrom_bytes(  \u001b[38;5;66;03m# type: ignore\u001b[39;00m\n\u001b[1;32m    187\u001b[0m     blob, traversal_limit_in_words\u001b[38;5;241m=\u001b[39mMAX_TRAVERSAL_LIMIT\n\u001b[1;32m    188\u001b[0m ) \u001b[38;5;28;01mas\u001b[39;00m msg:\n\u001b[0;32m--> 189\u001b[0m     \u001b[38;5;28;01mreturn\u001b[39;00m \u001b[43mrs_proto2object\u001b[49m\u001b[43m(\u001b[49m\u001b[43mmsg\u001b[49m\u001b[43m)\u001b[49m\n",
      "File \u001b[0;32m~/Desktop/projects/PySyft/packages/syft/src/syft/serde/recursive.py:247\u001b[0m, in \u001b[0;36mrs_proto2object\u001b[0;34m(proto)\u001b[0m\n\u001b[1;32m    242\u001b[0m     \u001b[38;5;28;01mif\u001b[39;00m deserialize \u001b[38;5;129;01mis\u001b[39;00m \u001b[38;5;28;01mNone\u001b[39;00m:\n\u001b[1;32m    243\u001b[0m         \u001b[38;5;28;01mraise\u001b[39;00m \u001b[38;5;167;01mException\u001b[39;00m(\n\u001b[1;32m    244\u001b[0m             \u001b[38;5;124mf\u001b[39m\u001b[38;5;124m\"\u001b[39m\u001b[38;5;124mCant serialize \u001b[39m\u001b[38;5;132;01m{\u001b[39;00m\u001b[38;5;28mtype\u001b[39m(proto)\u001b[38;5;132;01m}\u001b[39;00m\u001b[38;5;124m nonrecursive without serialize.\u001b[39m\u001b[38;5;124m\"\u001b[39m\n\u001b[1;32m    245\u001b[0m         )\n\u001b[0;32m--> 247\u001b[0m     \u001b[38;5;28;01mreturn\u001b[39;00m \u001b[43mdeserialize\u001b[49m\u001b[43m(\u001b[49m\u001b[43mcombine_bytes\u001b[49m\u001b[43m(\u001b[49m\u001b[43mproto\u001b[49m\u001b[38;5;241;43m.\u001b[39;49m\u001b[43mnonrecursiveBlob\u001b[49m\u001b[43m)\u001b[49m\u001b[43m)\u001b[49m\n\u001b[1;32m    249\u001b[0m kwargs \u001b[38;5;241m=\u001b[39m {}\n\u001b[1;32m    251\u001b[0m \u001b[38;5;28;01mfor\u001b[39;00m attr_name, attr_bytes_list \u001b[38;5;129;01min\u001b[39;00m \u001b[38;5;28mzip\u001b[39m(proto\u001b[38;5;241m.\u001b[39mfieldsName, proto\u001b[38;5;241m.\u001b[39mfieldsData):\n",
      "File \u001b[0;32m~/Desktop/projects/PySyft/packages/syft/src/syft/serde/recursive_primitives.py:65\u001b[0m, in \u001b[0;36mdeserialize_iterable\u001b[0;34m(iterable_type, blob)\u001b[0m\n\u001b[1;32m     61\u001b[0m \u001b[38;5;28;01mwith\u001b[39;00m iterable_schema\u001b[38;5;241m.\u001b[39mfrom_bytes(  \u001b[38;5;66;03m# type: ignore\u001b[39;00m\n\u001b[1;32m     62\u001b[0m     blob, traversal_limit_in_words\u001b[38;5;241m=\u001b[39mMAX_TRAVERSAL_LIMIT\n\u001b[1;32m     63\u001b[0m ) \u001b[38;5;28;01mas\u001b[39;00m msg:\n\u001b[1;32m     64\u001b[0m     \u001b[38;5;28;01mfor\u001b[39;00m element \u001b[38;5;129;01min\u001b[39;00m msg\u001b[38;5;241m.\u001b[39mvalues:\n\u001b[0;32m---> 65\u001b[0m         values\u001b[38;5;241m.\u001b[39mappend(\u001b[43m_deserialize\u001b[49m\u001b[43m(\u001b[49m\u001b[43mcombine_bytes\u001b[49m\u001b[43m(\u001b[49m\u001b[43melement\u001b[49m\u001b[43m)\u001b[49m\u001b[43m,\u001b[49m\u001b[43m \u001b[49m\u001b[43mfrom_bytes\u001b[49m\u001b[38;5;241;43m=\u001b[39;49m\u001b[38;5;28;43;01mTrue\u001b[39;49;00m\u001b[43m)\u001b[49m)\n\u001b[1;32m     67\u001b[0m \u001b[38;5;28;01mreturn\u001b[39;00m iterable_type(values)\n",
      "File \u001b[0;32m~/Desktop/projects/PySyft/packages/syft/src/syft/serde/deserialize.py:29\u001b[0m, in \u001b[0;36m_deserialize\u001b[0;34m(blob, from_proto, from_bytes)\u001b[0m\n\u001b[1;32m     26\u001b[0m     \u001b[38;5;28;01mraise\u001b[39;00m \u001b[38;5;167;01mTypeError\u001b[39;00m(\u001b[38;5;124m\"\u001b[39m\u001b[38;5;124mWrong deserialization format.\u001b[39m\u001b[38;5;124m\"\u001b[39m)\n\u001b[1;32m     28\u001b[0m \u001b[38;5;28;01mif\u001b[39;00m from_bytes:\n\u001b[0;32m---> 29\u001b[0m     \u001b[38;5;28;01mreturn\u001b[39;00m \u001b[43mrs_bytes2object\u001b[49m\u001b[43m(\u001b[49m\u001b[43mblob\u001b[49m\u001b[43m)\u001b[49m\n\u001b[1;32m     31\u001b[0m \u001b[38;5;28;01mif\u001b[39;00m from_proto:\n\u001b[1;32m     32\u001b[0m     \u001b[38;5;28;01mreturn\u001b[39;00m rs_proto2object(blob)\n",
      "File \u001b[0;32m~/Desktop/projects/PySyft/packages/syft/src/syft/serde/recursive.py:189\u001b[0m, in \u001b[0;36mrs_bytes2object\u001b[0;34m(blob)\u001b[0m\n\u001b[1;32m    184\u001b[0m MAX_TRAVERSAL_LIMIT \u001b[38;5;241m=\u001b[39m \u001b[38;5;241m2\u001b[39m\u001b[38;5;241m*\u001b[39m\u001b[38;5;241m*\u001b[39m\u001b[38;5;241m64\u001b[39m \u001b[38;5;241m-\u001b[39m \u001b[38;5;241m1\u001b[39m\n\u001b[1;32m    186\u001b[0m \u001b[38;5;28;01mwith\u001b[39;00m recursive_scheme\u001b[38;5;241m.\u001b[39mfrom_bytes(  \u001b[38;5;66;03m# type: ignore\u001b[39;00m\n\u001b[1;32m    187\u001b[0m     blob, traversal_limit_in_words\u001b[38;5;241m=\u001b[39mMAX_TRAVERSAL_LIMIT\n\u001b[1;32m    188\u001b[0m ) \u001b[38;5;28;01mas\u001b[39;00m msg:\n\u001b[0;32m--> 189\u001b[0m     \u001b[38;5;28;01mreturn\u001b[39;00m \u001b[43mrs_proto2object\u001b[49m\u001b[43m(\u001b[49m\u001b[43mmsg\u001b[49m\u001b[43m)\u001b[49m\n",
      "File \u001b[0;32m~/Desktop/projects/PySyft/packages/syft/src/syft/serde/recursive.py:253\u001b[0m, in \u001b[0;36mrs_proto2object\u001b[0;34m(proto)\u001b[0m\n\u001b[1;32m    251\u001b[0m \u001b[38;5;28;01mfor\u001b[39;00m attr_name, attr_bytes_list \u001b[38;5;129;01min\u001b[39;00m \u001b[38;5;28mzip\u001b[39m(proto\u001b[38;5;241m.\u001b[39mfieldsName, proto\u001b[38;5;241m.\u001b[39mfieldsData):\n\u001b[1;32m    252\u001b[0m     attr_bytes \u001b[38;5;241m=\u001b[39m combine_bytes(attr_bytes_list)\n\u001b[0;32m--> 253\u001b[0m     attr_value \u001b[38;5;241m=\u001b[39m \u001b[43m_deserialize\u001b[49m\u001b[43m(\u001b[49m\u001b[43mattr_bytes\u001b[49m\u001b[43m,\u001b[49m\u001b[43m \u001b[49m\u001b[43mfrom_bytes\u001b[49m\u001b[38;5;241;43m=\u001b[39;49m\u001b[38;5;28;43;01mTrue\u001b[39;49;00m\u001b[43m)\u001b[49m\n\u001b[1;32m    254\u001b[0m     transforms \u001b[38;5;241m=\u001b[39m serde_overrides\u001b[38;5;241m.\u001b[39mget(attr_name, \u001b[38;5;28;01mNone\u001b[39;00m)\n\u001b[1;32m    256\u001b[0m     \u001b[38;5;28;01mif\u001b[39;00m transforms \u001b[38;5;129;01mis\u001b[39;00m \u001b[38;5;129;01mnot\u001b[39;00m \u001b[38;5;28;01mNone\u001b[39;00m:\n",
      "File \u001b[0;32m~/Desktop/projects/PySyft/packages/syft/src/syft/serde/deserialize.py:29\u001b[0m, in \u001b[0;36m_deserialize\u001b[0;34m(blob, from_proto, from_bytes)\u001b[0m\n\u001b[1;32m     26\u001b[0m     \u001b[38;5;28;01mraise\u001b[39;00m \u001b[38;5;167;01mTypeError\u001b[39;00m(\u001b[38;5;124m\"\u001b[39m\u001b[38;5;124mWrong deserialization format.\u001b[39m\u001b[38;5;124m\"\u001b[39m)\n\u001b[1;32m     28\u001b[0m \u001b[38;5;28;01mif\u001b[39;00m from_bytes:\n\u001b[0;32m---> 29\u001b[0m     \u001b[38;5;28;01mreturn\u001b[39;00m \u001b[43mrs_bytes2object\u001b[49m\u001b[43m(\u001b[49m\u001b[43mblob\u001b[49m\u001b[43m)\u001b[49m\n\u001b[1;32m     31\u001b[0m \u001b[38;5;28;01mif\u001b[39;00m from_proto:\n\u001b[1;32m     32\u001b[0m     \u001b[38;5;28;01mreturn\u001b[39;00m rs_proto2object(blob)\n",
      "File \u001b[0;32m~/Desktop/projects/PySyft/packages/syft/src/syft/serde/recursive.py:189\u001b[0m, in \u001b[0;36mrs_bytes2object\u001b[0;34m(blob)\u001b[0m\n\u001b[1;32m    184\u001b[0m MAX_TRAVERSAL_LIMIT \u001b[38;5;241m=\u001b[39m \u001b[38;5;241m2\u001b[39m\u001b[38;5;241m*\u001b[39m\u001b[38;5;241m*\u001b[39m\u001b[38;5;241m64\u001b[39m \u001b[38;5;241m-\u001b[39m \u001b[38;5;241m1\u001b[39m\n\u001b[1;32m    186\u001b[0m \u001b[38;5;28;01mwith\u001b[39;00m recursive_scheme\u001b[38;5;241m.\u001b[39mfrom_bytes(  \u001b[38;5;66;03m# type: ignore\u001b[39;00m\n\u001b[1;32m    187\u001b[0m     blob, traversal_limit_in_words\u001b[38;5;241m=\u001b[39mMAX_TRAVERSAL_LIMIT\n\u001b[1;32m    188\u001b[0m ) \u001b[38;5;28;01mas\u001b[39;00m msg:\n\u001b[0;32m--> 189\u001b[0m     \u001b[38;5;28;01mreturn\u001b[39;00m \u001b[43mrs_proto2object\u001b[49m\u001b[43m(\u001b[49m\u001b[43mmsg\u001b[49m\u001b[43m)\u001b[49m\n",
      "File \u001b[0;32m~/Desktop/projects/PySyft/packages/syft/src/syft/serde/recursive.py:220\u001b[0m, in \u001b[0;36mrs_proto2object\u001b[0;34m(proto)\u001b[0m\n\u001b[1;32m    217\u001b[0m                 \u001b[38;5;28;01mpass\u001b[39;00m\n\u001b[1;32m    219\u001b[0m \u001b[38;5;28;01mif\u001b[39;00m proto\u001b[38;5;241m.\u001b[39mfullyQualifiedName \u001b[38;5;129;01mnot\u001b[39;00m \u001b[38;5;129;01min\u001b[39;00m TYPE_BANK:\n\u001b[0;32m--> 220\u001b[0m     \u001b[38;5;28;01mraise\u001b[39;00m \u001b[38;5;167;01mException\u001b[39;00m(\u001b[38;5;124mf\u001b[39m\u001b[38;5;124m\"\u001b[39m\u001b[38;5;132;01m{\u001b[39;00mproto\u001b[38;5;241m.\u001b[39mfullyQualifiedName\u001b[38;5;132;01m}\u001b[39;00m\u001b[38;5;124m not in TYPE_BANK\u001b[39m\u001b[38;5;124m\"\u001b[39m)\n\u001b[1;32m    222\u001b[0m \u001b[38;5;66;03m# TODO: 🐉 sort this out, basically sometimes the syft.user classes are not in the\u001b[39;00m\n\u001b[1;32m    223\u001b[0m \u001b[38;5;66;03m# module name space in sub-processes or threads even though they are loaded on start\u001b[39;00m\n\u001b[1;32m    224\u001b[0m \u001b[38;5;66;03m# its possible that the uvicorn awsgi server is preloading a bunch of threads\u001b[39;00m\n\u001b[1;32m    225\u001b[0m \u001b[38;5;66;03m# however simply getting the class from the TYPE_BANK doesn't always work and\u001b[39;00m\n\u001b[1;32m    226\u001b[0m \u001b[38;5;66;03m# causes some errors so it seems like we want to get the local one where possible\u001b[39;00m\n\u001b[1;32m    227\u001b[0m (\n\u001b[1;32m    228\u001b[0m     nonrecursive,\n\u001b[1;32m    229\u001b[0m     serialize,\n\u001b[0;32m   (...)\u001b[0m\n\u001b[1;32m    234\u001b[0m     \u001b[38;5;28mcls\u001b[39m,\n\u001b[1;32m    235\u001b[0m ) \u001b[38;5;241m=\u001b[39m TYPE_BANK[proto\u001b[38;5;241m.\u001b[39mfullyQualifiedName]\n",
      "\u001b[0;31mException\u001b[0m: syft.user.RepeatedCallPolicy_aec6ea4dfc049ceacaeeebc493167a88a200ddc367b1fa32da652444b635d21f_ba90eef16c2b39292a2ee07f1aefc157216b84487b26c32a1512d114c8ee7c69 not in TYPE_BANK"
     ]
    }
   ],
   "source": [
    "client.api.services.request[0].approve_with_client(client)"
   ]
  },
  {
   "cell_type": "code",
   "execution_count": 69,
   "id": "0c23f9be",
   "metadata": {},
   "outputs": [
    {
     "data": {
      "text/plain": [
       "Err('Could not find item with uid 97dd6d99029e43fea0473685e1f72c1a, \"97dd6d99029e43fea0473685e1f72c1a not in <class \\'syft.store.sqlite_document_store.SQLiteBackingStore\\'>\"')"
      ]
     },
     "execution_count": 69,
     "metadata": {},
     "output_type": "execute_result"
    }
   ],
   "source": [
    "res_ptr.get_from(guest_client)"
   ]
  },
  {
   "cell_type": "markdown",
   "id": "a5142d07",
   "metadata": {},
   "source": [
    "# Pointers (Twins)"
   ]
  },
  {
   "cell_type": "markdown",
   "id": "afd997c4",
   "metadata": {},
   "source": [
    "## setattribute"
   ]
  },
  {
   "cell_type": "code",
   "execution_count": 41,
   "id": "705408d5",
   "metadata": {
    "tags": []
   },
   "outputs": [],
   "source": [
    "private_data, mock_data = np.array(\n",
    "    [[1.0,2.0,3.0], [4.0,5.0,6.0]]), np.array([[1.0,1.0,1.0], [1.0,1.0,1.0]]\n",
    ")"
   ]
  },
  {
   "cell_type": "code",
   "execution_count": 42,
   "id": "d9ae4d4d",
   "metadata": {},
   "outputs": [],
   "source": [
    "obj = sy.TwinObject(\n",
    "    private_obj=private_data,\n",
    "    mock_obj=mock_data\n",
    ")"
   ]
  },
  {
   "cell_type": "code",
   "execution_count": 43,
   "id": "9eeb2308",
   "metadata": {},
   "outputs": [],
   "source": [
    "obj_pointer = client.api.services.action.set(obj)\n",
    "obj_pointer = guest_client.api.services.action.get_pointer(obj_pointer.id)"
   ]
  },
  {
   "cell_type": "code",
   "execution_count": 44,
   "id": "48a68b0f",
   "metadata": {},
   "outputs": [],
   "source": [
    "original_id = obj_pointer.id"
   ]
  },
  {
   "cell_type": "code",
   "execution_count": 45,
   "id": "9c3fa760",
   "metadata": {},
   "outputs": [
    {
     "data": {
      "text/markdown": [
       "```python\n",
       "TwinPointer(Mock)\n",
       "```\n",
       "array([[1., 1., 1.],\n",
       "       [1., 1., 1.]])"
      ],
      "text/plain": [
       "TwinPointer(Mock):\n",
       "[[1. 1. 1.]\n",
       " [1. 1. 1.]]"
      ]
     },
     "execution_count": 45,
     "metadata": {},
     "output_type": "execute_result"
    }
   ],
   "source": [
    "obj_pointer"
   ]
  },
  {
   "cell_type": "code",
   "execution_count": 46,
   "id": "2181c597",
   "metadata": {},
   "outputs": [],
   "source": [
    "# note that this messes up the data and the shape of the array\n",
    "obj_pointer.dtype = np.int32  "
   ]
  },
  {
   "cell_type": "code",
   "execution_count": 47,
   "id": "2b138409",
   "metadata": {},
   "outputs": [],
   "source": [
    "res = obj_pointer.get_from(client)"
   ]
  },
  {
   "cell_type": "code",
   "execution_count": 48,
   "id": "dc1b79d4",
   "metadata": {},
   "outputs": [],
   "source": [
    "assert res.dtype == np.int32"
   ]
  },
  {
   "cell_type": "code",
   "execution_count": 49,
   "id": "7f4b14b2",
   "metadata": {},
   "outputs": [],
   "source": [
    "private_data.dtype= np.int32\n",
    "mock_data.dtype= np.int32"
   ]
  },
  {
   "cell_type": "code",
   "execution_count": 50,
   "id": "860bfe10",
   "metadata": {},
   "outputs": [],
   "source": [
    "assert (res == private_data).all()\n",
    "assert (obj_pointer.syft_action_data == mock_data).all()\n",
    "assert not (obj_pointer.syft_action_data == private_data).all()"
   ]
  },
  {
   "cell_type": "markdown",
   "id": "b3ddc0ea",
   "metadata": {},
   "source": [
    "## getattribute"
   ]
  },
  {
   "cell_type": "code",
   "execution_count": 51,
   "id": "e246ac40",
   "metadata": {},
   "outputs": [],
   "source": [
    "obj = sy.TwinObject(\n",
    "    private_obj=np.array([[1,2,3], [4,5,6]]),\n",
    "    mock_obj=np.array([[1,1,1], [1,1,1]])\n",
    ")"
   ]
  },
  {
   "cell_type": "code",
   "execution_count": 52,
   "id": "a390aeab",
   "metadata": {},
   "outputs": [],
   "source": [
    "obj_pointer = client.api.services.action.set(obj)\n",
    "obj_pointer = guest_client.api.services.action.get_pointer(obj_pointer.id)"
   ]
  },
  {
   "cell_type": "code",
   "execution_count": 53,
   "id": "2b51e227",
   "metadata": {},
   "outputs": [],
   "source": [
    "size_pointer = obj_pointer.size   "
   ]
  },
  {
   "cell_type": "code",
   "execution_count": 54,
   "id": "98afdfba",
   "metadata": {},
   "outputs": [],
   "source": [
    "assert size_pointer.get_from(client) == 6"
   ]
  },
  {
   "cell_type": "markdown",
   "id": "1a87389c",
   "metadata": {},
   "source": [
    "## methods"
   ]
  },
  {
   "cell_type": "code",
   "execution_count": 55,
   "id": "416edd74",
   "metadata": {},
   "outputs": [],
   "source": [
    "obj = sy.TwinObject(\n",
    "    private_obj=np.array([[1,2,3], [4,5,6]]),\n",
    "    mock_obj=np.array([[1,1,1], [1,1,1]])\n",
    ")"
   ]
  },
  {
   "cell_type": "code",
   "execution_count": 56,
   "id": "c60d6863",
   "metadata": {},
   "outputs": [],
   "source": [
    "obj_pointer = client.api.services.action.set(obj)\n",
    "obj_pointer = guest_client.api.services.action.get_pointer(obj_pointer.id)"
   ]
  },
  {
   "cell_type": "code",
   "execution_count": 57,
   "id": "c5564a23",
   "metadata": {},
   "outputs": [],
   "source": [
    "flat_pointer = obj_pointer.flatten()   "
   ]
  },
  {
   "cell_type": "code",
   "execution_count": 58,
   "id": "f6a61302",
   "metadata": {},
   "outputs": [],
   "source": [
    "assert all(flat_pointer.get_from(client) == np.array([1,2,3,4,5,6]))"
   ]
  },
  {
   "cell_type": "markdown",
   "id": "d04b10fb",
   "metadata": {},
   "source": [
    "## Indexing"
   ]
  },
  {
   "cell_type": "code",
   "execution_count": 59,
   "id": "3cffeb93",
   "metadata": {},
   "outputs": [],
   "source": [
    "obj = sy.TwinObject(\n",
    "    private_obj=np.array([[1,2,3], [4,5,6]]),\n",
    "    mock_obj=np.array([[1,1,1], [1,1,1]])\n",
    ")"
   ]
  },
  {
   "cell_type": "code",
   "execution_count": 60,
   "id": "02accc40",
   "metadata": {},
   "outputs": [],
   "source": [
    "obj_pointer = client.api.services.action.set(obj)\n",
    "obj_pointer = guest_client.api.services.action.get_pointer(obj_pointer.id)"
   ]
  },
  {
   "cell_type": "code",
   "execution_count": 61,
   "id": "d7a65c33",
   "metadata": {},
   "outputs": [],
   "source": [
    "indexed_pointer = obj_pointer[0, 0:2]   "
   ]
  },
  {
   "cell_type": "code",
   "execution_count": 62,
   "id": "e2516c58",
   "metadata": {},
   "outputs": [],
   "source": [
    "assert all(indexed_pointer.get_from(client) == np.array([1,2]))"
   ]
  },
  {
   "cell_type": "code",
   "execution_count": 63,
   "id": "176b44b3-39c7-49bf-a024-455b9b48b48f",
   "metadata": {
    "tags": []
   },
   "outputs": [
    {
     "name": "stdout",
     "output_type": "stream",
     "text": [
      "Stopping test-domain-1\n"
     ]
    }
   ],
   "source": [
    "# if node.node_type.value == \"python\":\n",
    "node.land()"
   ]
  },
  {
   "cell_type": "code",
   "execution_count": null,
   "id": "0859aac0-aea6-4047-b4c8-cf58e509336b",
   "metadata": {},
   "outputs": [],
   "source": []
  },
  {
   "cell_type": "code",
   "execution_count": null,
   "id": "03d932d1",
   "metadata": {},
   "outputs": [],
   "source": []
  }
 ],
 "metadata": {
  "kernelspec": {
   "display_name": "Python 3 (ipykernel)",
   "language": "python",
   "name": "python3"
  },
  "language_info": {
   "codemirror_mode": {
    "name": "ipython",
    "version": 3
   },
   "file_extension": ".py",
   "mimetype": "text/x-python",
   "name": "python",
   "nbconvert_exporter": "python",
   "pygments_lexer": "ipython3",
   "version": "3.10.8"
  },
  "toc": {
   "base_numbering": 1,
   "nav_menu": {},
   "number_sections": true,
   "sideBar": true,
   "skip_h1_title": false,
   "title_cell": "Table of Contents",
   "title_sidebar": "Contents",
   "toc_cell": false,
   "toc_position": {},
   "toc_section_display": true,
   "toc_window_display": true
  }
 },
 "nbformat": 4,
 "nbformat_minor": 5
}

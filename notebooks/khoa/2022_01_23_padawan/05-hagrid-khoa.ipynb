{
 "cells": [
  {
   "cell_type": "markdown",
   "metadata": {},
   "source": [
    "# Hagrid, Provisioning and Deployment"
   ]
  },
  {
   "attachments": {},
   "cell_type": "markdown",
   "metadata": {},
   "source": [
    "## Materials"
   ]
  },
  {
   "attachments": {},
   "cell_type": "markdown",
   "metadata": {},
   "source": [
    "The goal for `hagrid` is to be a friendly helper in navigating the world of deployment and provisioning the `syft` stack and to take a multitude of complex steps and turn them into a handful of uniform and consistent commands.\n",
    "\n",
    "`HAGrid` can deploy to a large variety of targets and by leveraging other tools and formats this can be extended. More specifically, `hagrid` can deploy to:\n",
    "- `docker`\n",
    "- any ip (`x.x.x.x`)\n",
    "- `localhost`\n",
    "- `azure`\n",
    "- `gcp`\n",
    "- `aws` (todo)\n",
    "- `kubernetes` (coming soon)"
   ]
  },
  {
   "attachments": {},
   "cell_type": "markdown",
   "metadata": {},
   "source": [
    "### Launch to `Docker`"
   ]
  },
  {
   "attachments": {},
   "cell_type": "markdown",
   "metadata": {},
   "source": [
    "`hagrid` takes a small number of options and inputs from the user and translates them into lots of terminal commands and network calls as needed to setup and provision a node. In this case, they are `docker` and `docker compose` commands"
   ]
  },
  {
   "attachments": {},
   "cell_type": "markdown",
   "metadata": {},
   "source": [
    "```docker\n",
    "docker compose\n",
    "-p test_domain\n",
    "--profile vpn\n",
    "--profile blob-storage\n",
    "--profile frontend\n",
    "--env-file /Users/madhavajay/dev/PySyft/packages/grid/.envfile\n",
    "--file docker-compose.yml\n",
    "--file docker-compose.build.yml\n",
    "--file docker-compose.dev.yml\n",
    "up -d --build\n",
    "```"
   ]
  },
  {
   "cell_type": "code",
   "execution_count": null,
   "metadata": {},
   "outputs": [],
   "source": [
    "!hagrid launch test_domain domain to docker:8081 --tag=0.7.0 --dev --cmd"
   ]
  },
  {
   "attachments": {},
   "cell_type": "markdown",
   "metadata": {},
   "source": [
    "### Launch to any IP (`x.x.x.x`)"
   ]
  },
  {
   "attachments": {},
   "cell_type": "markdown",
   "metadata": {},
   "source": [
    "If we want to deploy `hagrid` to an existing `linux` server somewhere running `ssh`, we can ask `hagrid` to connect to it over `ssh` and do all the setup for us."
   ]
  },
  {
   "attachments": {},
   "cell_type": "markdown",
   "metadata": {},
   "source": [
    "The way this works is by leveraging a tool called `ansible` which allows us to define the state in which we want a system to be in, and have it run commands called a `playbook` against that machine until it gets into the desired state."
   ]
  },
  {
   "attachments": {},
   "cell_type": "markdown",
   "metadata": {},
   "source": [
    "```bash\n",
    "!HAGRID_ART=false hagrid launch test_domain domain to 100.0.0.1 \\\n",
    "  --username=ubuntu --auth-type=key \\\n",
    "  --key-path=/Users/madhavajay/.ssh/azureuser.pem \\\n",
    "  --repo=OpenMined/PySyft --branch=0.7.0 --cmd\n",
    "```"
   ]
  },
  {
   "attachments": {},
   "cell_type": "markdown",
   "metadata": {},
   "source": [
    "### Launch to `localhost`"
   ]
  },
  {
   "attachments": {},
   "cell_type": "markdown",
   "metadata": {},
   "source": [
    "All this does is use the same code path as the above `launch to x.x.x.x` except it passes in `--connection=local` which has the effect of telling `ansible` you won't need a username, password or ssh-key, just run locally and use `sudo` as necessary."
   ]
  },
  {
   "attachments": {},
   "cell_type": "markdown",
   "metadata": {},
   "source": [
    "```bash\n",
    "hagrid launch ${7} ${6} to localhost \\\n",
    "    --repo=${2} --branch=${3} \\\n",
    "    --release=${RELEASE} --tag=${DOCKER_TAG}\n",
    "```"
   ]
  },
  {
   "attachments": {},
   "cell_type": "markdown",
   "metadata": {},
   "source": [
    "### Launch to Azure"
   ]
  },
  {
   "attachments": {},
   "cell_type": "markdown",
   "metadata": {},
   "source": [
    "Now that we know how `hagrid` can setup a linux machine for us, let's look at how we might use this to deploy a `cloud vm` onto `azure`.\n",
    "\n",
    "First, you need to have the `azure-cli` tools which have many python packages "
   ]
  },
  {
   "attachments": {},
   "cell_type": "markdown",
   "metadata": {},
   "source": [
    "```bash\n",
    "hagrid launch test_domain domain to azure\n",
    "```"
   ]
  },
  {
   "attachments": {},
   "cell_type": "markdown",
   "metadata": {},
   "source": [
    "### Launch to GCP"
   ]
  },
  {
   "attachments": {},
   "cell_type": "markdown",
   "metadata": {},
   "source": [
    "```bash\n",
    "hagrid launch test_domain domain to gcp \n",
    "```"
   ]
  },
  {
   "attachments": {},
   "cell_type": "markdown",
   "metadata": {},
   "source": [
    "## Trial of the Flesh"
   ]
  },
  {
   "attachments": {},
   "cell_type": "markdown",
   "metadata": {},
   "source": [
    "#### 1. Deploy the `network` node either on `docker` or another `vm` somewhere on on-prem infrastructure or the `cloud`\n"
   ]
  },
  {
   "attachments": {},
   "cell_type": "markdown",
   "metadata": {},
   "source": [
    "Launching the `network` to `docker`\n",
    "\n",
    "```bash\n",
    "hagrid launch test_network network to docker:8082 --tag=0.7.0 --tail --dev\n",
    "```"
   ]
  },
  {
   "attachments": {},
   "cell_type": "markdown",
   "metadata": {},
   "source": [
    "Check the `network` health"
   ]
  },
  {
   "cell_type": "code",
   "execution_count": 8,
   "metadata": {},
   "outputs": [
    {
     "data": {
      "text/html": [
       "<pre style=\"white-space:pre;overflow-x:auto;line-height:normal;font-family:Menlo,'DejaVu Sans Mono',consolas,'Courier New',monospace\">┏━━━━━━━━━━━┳━━━━━━━━━━━━━━━━━━━━━━━━━━━━━━━━━━━━━━━━━━━┳━━━━┓\n",
       "┃<span style=\"font-weight: bold\"> PyGrid    </span>┃<span style=\"font-weight: bold\"> Info                                      </span>┃<span style=\"font-weight: bold\">    </span>┃\n",
       "┡━━━━━━━━━━━╇━━━━━━━━━━━━━━━━━━━━━━━━━━━━━━━━━━━━━━━━━━━╇━━━━┩\n",
       "│<span style=\"color: #800080; text-decoration-color: #800080\"> UI (βeta) </span>│ http://localhost:8082/login               │ ✅ │\n",
       "│<span style=\"color: #800080; text-decoration-color: #800080\"> api       </span>│ http://localhost:8082/api/v1/openapi.json │ ✅ │\n",
       "└───────────┴───────────────────────────────────────────┴────┘\n",
       "</pre>\n"
      ],
      "text/plain": [
       "┏━━━━━━━━━━━┳━━━━━━━━━━━━━━━━━━━━━━━━━━━━━━━━━━━━━━━━━━━┳━━━━┓\n",
       "┃\u001b[1m \u001b[0m\u001b[1mPyGrid   \u001b[0m\u001b[1m \u001b[0m┃\u001b[1m \u001b[0m\u001b[1mInfo                                     \u001b[0m\u001b[1m \u001b[0m┃\u001b[1m \u001b[0m\u001b[1m  \u001b[0m\u001b[1m \u001b[0m┃\n",
       "┡━━━━━━━━━━━╇━━━━━━━━━━━━━━━━━━━━━━━━━━━━━━━━━━━━━━━━━━━╇━━━━┩\n",
       "│\u001b[35m \u001b[0m\u001b[35mUI (βeta)\u001b[0m\u001b[35m \u001b[0m│ http://localhost:8082/login               │ ✅ │\n",
       "│\u001b[35m \u001b[0m\u001b[35mapi      \u001b[0m\u001b[35m \u001b[0m│ http://localhost:8082/api/v1/openapi.json │ ✅ │\n",
       "└───────────┴───────────────────────────────────────────┴────┘\n"
      ]
     },
     "metadata": {},
     "output_type": "display_data"
    }
   ],
   "source": [
    "import syft as sy\n",
    "import hagrid\n",
    "\n",
    "hagrid.check('localhost:8082')"
   ]
  },
  {
   "attachments": {},
   "cell_type": "markdown",
   "metadata": {},
   "source": [
    "Log in to the `network` and check its initial `domains`"
   ]
  },
  {
   "cell_type": "code",
   "execution_count": 9,
   "metadata": {},
   "outputs": [
    {
     "name": "stdout",
     "output_type": "stream",
     "text": [
      "Connecting to localhost... done! \t Logging into test_network... as GUEST...done!\n"
     ]
    },
    {
     "data": {
      "text/html": [
       "<div>\n",
       "<style scoped>\n",
       "    .dataframe tbody tr th:only-of-type {\n",
       "        vertical-align: middle;\n",
       "    }\n",
       "\n",
       "    .dataframe tbody tr th {\n",
       "        vertical-align: top;\n",
       "    }\n",
       "\n",
       "    .dataframe thead th {\n",
       "        text-align: right;\n",
       "    }\n",
       "</style>\n",
       "<table border=\"1\" class=\"dataframe\">\n",
       "  <thead>\n",
       "    <tr style=\"text-align: right;\">\n",
       "      <th></th>\n",
       "    </tr>\n",
       "  </thead>\n",
       "  <tbody>\n",
       "  </tbody>\n",
       "</table>\n",
       "</div>"
      ],
      "text/plain": [
       "<syft.core.node.common.client_manager.domain_api.DomainRequestAPI at 0x7fb3b82a24a0>"
      ]
     },
     "execution_count": 9,
     "metadata": {},
     "output_type": "execute_result"
    }
   ],
   "source": [
    "network = sy.login('localhost', 8082)\n",
    "network.domains"
   ]
  },
  {
   "attachments": {},
   "cell_type": "markdown",
   "metadata": {},
   "source": [
    "We can see that there is no connected `domain` yet"
   ]
  },
  {
   "attachments": {},
   "cell_type": "markdown",
   "metadata": {},
   "source": [
    "#### 2. Launch 2 `domain` nodes on other systems\n"
   ]
  },
  {
   "attachments": {},
   "cell_type": "markdown",
   "metadata": {},
   "source": [
    "##### Launch the first `domain` to a remote machine:\n",
    "1. Connect to the `narvi` machine with `ssh -i narvi_key nguyen29@narvi.tut.fi`\n",
    "2. Find out the `ip` address of the narvi node with `ip route`. Let's say we found out that the `ip address` is `130.230.56.40`\n",
    "3. Launch the `domain` to the `narvi` node with\n",
    "```bash\n",
    "HAGRID_ART=false hagrid launch test_domain domain to 130.230.56.40 \\\n",
    "  --username=nguyen29 --auth-type=key \\\n",
    "  --key-path=/home/dk/Desktop/projects/ssh_keys/narvi_key \\\n",
    "  --repo=OpenMined/PySyft --branch=0.7.0\n",
    "```\n",
    "we will see something like below running:\n",
    "![](./assets/5-hagrid-launch_to_ip.png)"
   ]
  },
  {
   "attachments": {},
   "cell_type": "markdown",
   "metadata": {},
   "source": [
    "Check the `domain` health"
   ]
  },
  {
   "cell_type": "code",
   "execution_count": 15,
   "metadata": {},
   "outputs": [
    {
     "data": {
      "application/vnd.jupyter.widget-view+json": {
       "model_id": "aa7e8204c9e84b1b86df5e66a1d185dc",
       "version_major": 2,
       "version_minor": 0
      },
      "text/plain": [
       "Output()"
      ]
     },
     "metadata": {},
     "output_type": "display_data"
    },
    {
     "data": {
      "text/html": [
       "<pre style=\"white-space:pre;overflow-x:auto;line-height:normal;font-family:Menlo,'DejaVu Sans Mono',consolas,'Courier New',monospace\">✅ test_network Network Containers Created\n",
       "</pre>\n"
      ],
      "text/plain": [
       "✅ test_network Network Containers Created\n"
      ]
     },
     "metadata": {},
     "output_type": "display_data"
    },
    {
     "data": {
      "text/html": [
       "<pre style=\"white-space:pre;overflow-x:auto;line-height:normal;font-family:Menlo,'DejaVu Sans Mono',consolas,'Courier New',monospace\">✅ Backend\n",
       "</pre>\n"
      ],
      "text/plain": [
       "✅ Backend\n"
      ]
     },
     "metadata": {},
     "output_type": "display_data"
    },
    {
     "data": {
      "text/html": [
       "<pre style=\"white-space:pre;overflow-x:auto;line-height:normal;font-family:Menlo,'DejaVu Sans Mono',consolas,'Courier New',monospace\">✅ Startup Complete\n",
       "</pre>\n"
      ],
      "text/plain": [
       "✅ Startup Complete\n"
      ]
     },
     "metadata": {},
     "output_type": "display_data"
    },
    {
     "data": {
      "text/html": [
       "<pre style=\"white-space:pre;overflow-x:auto;line-height:normal;font-family:Menlo,'DejaVu Sans Mono',consolas,'Courier New',monospace\"></pre>\n"
      ],
      "text/plain": []
     },
     "metadata": {},
     "output_type": "display_data"
    },
    {
     "data": {
      "text/html": [
       "<pre style=\"white-space:pre;overflow-x:auto;line-height:normal;font-family:Menlo,'DejaVu Sans Mono',consolas,'Courier New',monospace\">┏━━━━━━━━━━━┳━━━━━━━━━━━━━━━━━━━━━━━━━━━━━━━━━━━━━━━━━━━━━┳━━━━━┓\n",
       "┃<span style=\"font-weight: bold\"> PyGrid    </span>┃<span style=\"font-weight: bold\"> Info                                        </span>┃<span style=\"font-weight: bold\"> 600 </span>┃\n",
       "┡━━━━━━━━━━━╇━━━━━━━━━━━━━━━━━━━━━━━━━━━━━━━━━━━━━━━━━━━━━╇━━━━━┩\n",
       "│<span style=\"color: #800080; text-decoration-color: #800080\"> host      </span>│ 130.230.56.40:80                            │ ❌  │\n",
       "│<span style=\"color: #800080; text-decoration-color: #800080\"> UI (βeta) </span>│ http://130.230.56.40:80/login               │ ❌  │\n",
       "│<span style=\"color: #800080; text-decoration-color: #800080\"> api       </span>│ http://130.230.56.40:80/api/v1/openapi.json │ ❌  │\n",
       "│<span style=\"color: #800080; text-decoration-color: #800080\"> ssh       </span>│ hagrid ssh 130.230.56.40:80                 │ ❌  │\n",
       "│<span style=\"color: #800080; text-decoration-color: #800080\"> jupyter   </span>│ http://130.230.56.40:80:8888                │ ❌  │\n",
       "└───────────┴─────────────────────────────────────────────┴─────┘\n",
       "</pre>\n"
      ],
      "text/plain": [
       "┏━━━━━━━━━━━┳━━━━━━━━━━━━━━━━━━━━━━━━━━━━━━━━━━━━━━━━━━━━━┳━━━━━┓\n",
       "┃\u001b[1m \u001b[0m\u001b[1mPyGrid   \u001b[0m\u001b[1m \u001b[0m┃\u001b[1m \u001b[0m\u001b[1mInfo                                       \u001b[0m\u001b[1m \u001b[0m┃\u001b[1m \u001b[0m\u001b[1m600\u001b[0m\u001b[1m \u001b[0m┃\n",
       "┡━━━━━━━━━━━╇━━━━━━━━━━━━━━━━━━━━━━━━━━━━━━━━━━━━━━━━━━━━━╇━━━━━┩\n",
       "│\u001b[35m \u001b[0m\u001b[35mhost     \u001b[0m\u001b[35m \u001b[0m│ 130.230.56.40:80                            │ ❌  │\n",
       "│\u001b[35m \u001b[0m\u001b[35mUI (βeta)\u001b[0m\u001b[35m \u001b[0m│ http://130.230.56.40:80/login               │ ❌  │\n",
       "│\u001b[35m \u001b[0m\u001b[35mapi      \u001b[0m\u001b[35m \u001b[0m│ http://130.230.56.40:80/api/v1/openapi.json │ ❌  │\n",
       "│\u001b[35m \u001b[0m\u001b[35mssh      \u001b[0m\u001b[35m \u001b[0m│ hagrid ssh 130.230.56.40:80                 │ ❌  │\n",
       "│\u001b[35m \u001b[0m\u001b[35mjupyter  \u001b[0m\u001b[35m \u001b[0m│ http://130.230.56.40:80:8888                │ ❌  │\n",
       "└───────────┴─────────────────────────────────────────────┴─────┘\n"
      ]
     },
     "metadata": {},
     "output_type": "display_data"
    }
   ],
   "source": [
    "hagrid.check('130.230.56.40:80')"
   ]
  },
  {
   "cell_type": "code",
   "execution_count": null,
   "metadata": {},
   "outputs": [],
   "source": [
    "domain_client_1 = sy.login(\n",
    "    url=\"130.230.56.40\",\n",
    "    port=80,\n",
    "    email=\"info@openmined.org\",\n",
    "    password=\"changethis\"\n",
    ")"
   ]
  },
  {
   "attachments": {},
   "cell_type": "markdown",
   "metadata": {},
   "source": [
    "##### Launch the second `domain` to"
   ]
  },
  {
   "cell_type": "code",
   "execution_count": null,
   "metadata": {},
   "outputs": [],
   "source": [
    "domain_client_2"
   ]
  },
  {
   "attachments": {},
   "cell_type": "markdown",
   "metadata": {},
   "source": [
    "#### 3. Connect each `domain` to the `network` and verify that they can see each other. They are connected via `tailscale`"
   ]
  },
  {
   "cell_type": "code",
   "execution_count": null,
   "metadata": {},
   "outputs": [],
   "source": [
    "domain_client_1.apply_to_network(network)"
   ]
  },
  {
   "cell_type": "code",
   "execution_count": null,
   "metadata": {},
   "outputs": [],
   "source": [
    "domain_client_2.apply_to_network(network)"
   ]
  },
  {
   "cell_type": "code",
   "execution_count": 13,
   "metadata": {},
   "outputs": [
    {
     "data": {
      "text/html": [
       "<div>\n",
       "<style scoped>\n",
       "    .dataframe tbody tr th:only-of-type {\n",
       "        vertical-align: middle;\n",
       "    }\n",
       "\n",
       "    .dataframe tbody tr th {\n",
       "        vertical-align: top;\n",
       "    }\n",
       "\n",
       "    .dataframe thead th {\n",
       "        text-align: right;\n",
       "    }\n",
       "</style>\n",
       "<table border=\"1\" class=\"dataframe\">\n",
       "  <thead>\n",
       "    <tr style=\"text-align: right;\">\n",
       "      <th></th>\n",
       "    </tr>\n",
       "  </thead>\n",
       "  <tbody>\n",
       "  </tbody>\n",
       "</table>\n",
       "</div>"
      ],
      "text/plain": [
       "<syft.core.node.common.client_manager.domain_api.DomainRequestAPI at 0x7fb3b82a24a0>"
      ]
     },
     "execution_count": 13,
     "metadata": {},
     "output_type": "execute_result"
    }
   ],
   "source": [
    "network.domains"
   ]
  }
 ],
 "metadata": {
  "kernelspec": {
   "display_name": ".venv",
   "language": "python",
   "name": "python3"
  },
  "language_info": {
   "codemirror_mode": {
    "name": "ipython",
    "version": 3
   },
   "file_extension": ".py",
   "mimetype": "text/x-python",
   "name": "python",
   "nbconvert_exporter": "python",
   "pygments_lexer": "ipython3",
   "version": "3.10.8"
  },
  "orig_nbformat": 4,
  "vscode": {
   "interpreter": {
    "hash": "e3cdefe258cda4e75bc94a4ed12119270300bb9272a62755cc47309386dfe3d9"
   }
  }
 },
 "nbformat": 4,
 "nbformat_minor": 2
}

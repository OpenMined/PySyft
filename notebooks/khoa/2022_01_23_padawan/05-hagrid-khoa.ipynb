{
 "cells": [
  {
   "cell_type": "markdown",
   "metadata": {},
   "source": [
    "# Hagrid, Provisioning and Deployment"
   ]
  },
  {
   "attachments": {},
   "cell_type": "markdown",
   "metadata": {},
   "source": [
    "The goal for `hagrid` is to be a friendly helper in navigating the world of deployment and provisioning the `syft` stack and to take a multitude of complex steps and turn them into a handful of uniform and consistent commands.\n",
    "\n",
    "`HAGrid` can deploy to a large variety of targets and by leveraging other tools and formats this can be extended. More specifically, `hagrid` can deploy to:\n",
    "- `docker`\n",
    "- any ip (`x.x.x.x`)\n",
    "- `localhost`\n",
    "- `azure`\n",
    "- `gcp`\n",
    "- `aws` (todo)\n",
    "- `kubernetes` (coming soon)"
   ]
  },
  {
   "cell_type": "markdown",
   "metadata": {},
   "source": [
    "## Launch to `Docker`"
   ]
  },
  {
   "attachments": {},
   "cell_type": "markdown",
   "metadata": {},
   "source": [
    "For some commands we can pass `--cmd=true` and `hagrid` will print a dry run of what it was going to do. This is a handy way to understand what `hagrid` is really doing."
   ]
  },
  {
   "cell_type": "code",
   "execution_count": 1,
   "metadata": {},
   "outputs": [
    {
     "name": "stdout",
     "output_type": "stream",
     "text": [
      "\u001b[2K✅ Updated HAGrid from branch: \u001b[1;36m0.7\u001b[0m.\u001b[1;36m0\u001b[0mm\n",
      "\u001b[2K\u001b[32m⠋\u001b[0m \u001b[1;34mUpdating HAGrid from branch: 0.7.0\u001b[0m\n",
      "\u001b[2K\u001b[32m⠇\u001b[0m \u001b[1;34mChecking for Docker Service\u001b[0m   ice\u001b[0m   \n",
      "\u001b[1A\u001b[2K✅ Docker service is running\n",
      "✅ Git 2.34.1\n",
      "✅ Docker 23.0.0\n",
      "✅ Docker Compose 2.15.1\n",
      "\n",
      "\n",
      " _   _       _     _                 _   _                       _\n",
      "| | | |     | |   | |               | | | |                     | |\n",
      "| |_| | ___ | | __| |   ___  _ __   | |_| | __ _ _ __ _ __ _   _| |\n",
      "|  _  |/ _ \\| |/ _` |  / _ \\| '_ \\  |  _  |/ _` | '__| '__| | | | |\n",
      "| | | | (_) | | (_| | | (_) | | | | | | | | (_| | |  | |  | |_| |_|\n",
      "\\_| |_/\\___/|_|\\__,_|  \\___/|_| |_| \\_| |_/\\__,_|_|  |_|   \\__, (_)\n",
      "                                                            __/ |\n",
      "                                                           |___/\n",
      "        \n",
      "Launching a PyGrid Domain node on port 8081!\n",
      "\n",
      "  - NAME: test_domain\n",
      "  - RELEASE: development\n",
      "  - ARCH: linux/amd64\n",
      "  - TYPE: domain\n",
      "  - DOCKER_TAG: 0.7.0-dev\n",
      "  - GIT_HASH: 503940bb16bc18585864355a0ab3b90e0cb3a15d\n",
      "  - HAGRID_VERSION: 0.2.126\n",
      "  - PORT: 8081\n",
      "  - DOCKER COMPOSE: v2.15.1\n",
      "\n",
      "\n",
      "\u001b[1;32m⠋\u001b[0m\u001b[1;34m Launching Containers \u001b[0m\u001b[1;32m \u001b[0m\n",
      "\u001b[2KRunning: m \u001b[1;32mPulling Images\u001b[0m \u001b[90m━━━━━━━━━━━━━━━━━━━━━━━━━━━━━━━━━━━━━━━━\u001b[0m \u001b[35m0.00%   \u001b[0m\n",
      "\u001b[2K RELEASE=development COMPOSE_DOCKER_CLI_BUILD=1 DOCKER_BUILDKIT=1 HTTP_PORT=80810m \u001b[35m0.00%   \u001b[0m\n",
      "HTTPS_PORT=444 \n",
      "TRAEFIK_TAG=51eb25e41d7a4b5351017dcb2feeafcfdde2a743d2407e5b7990b7407e2ea83a \n",
      "DOMAIN_NAME=test_domain NODE_TYPE=domain \n",
      "TRAEFIK_PUBLIC_NETWORK_IS_EXTERNAL=False VERSION=0.7.0-dev \n",
      "VERSION_HASH=503940bb16bc18585864355a0ab3b90e0cb3a15d USE_BLOB_STORAGE=True \n",
      "FRONTEND_TARGET=grid-ui-development \n",
      "STACK_API_KEY=qs1ymW4H9sjpjDcjZJ3jURyDMDCU0P7vgVaa3DrIwVfwfcmt TRACE=True \n",
      "JAEGER_HOST=docker-host JAEGER_PORT=14268 RABBITMQ_MANAGEMENT=-management docker\n",
      "compose -p test_domain --profile vpn --profile blob-storage --profile frontend \n",
      "--profile telemetry --env-file /home/dk/.hagrid/PySyft/packages/grid/.envfile \n",
      "--file docker-compose.pull.yml pull --ignore-pull-failures\n",
      "\u001b[2K\u001b[32m⠋\u001b[0m \u001b[1;32mPulling Images\u001b[0m \u001b[90m━━━━━━━━━━━━━━━━━━━━━━━━━━━━━━━━━━━━━━━━\u001b[0m \u001b[35m0.00%   \u001b[0m\n",
      "\u001b[2KRunning: m \u001b[1;32mBuilding Images\u001b[0m \u001b[90m━━━━━━━━━━━━━━━━━━━━━━━━━━━━━━━━━━━━━━━━\u001b[0m \u001b[35m0.00%   \u001b[0m\n",
      "\u001b[2K RELEASE=development COMPOSE_DOCKER_CLI_BUILD=1 DOCKER_BUILDKIT=1 HTTP_PORT=8081[0m \u001b[35m0.00%   \u001b[0m\n",
      "HTTPS_PORT=444 \n",
      "TRAEFIK_TAG=51eb25e41d7a4b5351017dcb2feeafcfdde2a743d2407e5b7990b7407e2ea83a \n",
      "DOMAIN_NAME=test_domain NODE_TYPE=domain \n",
      "TRAEFIK_PUBLIC_NETWORK_IS_EXTERNAL=False VERSION=0.7.0-dev \n",
      "VERSION_HASH=503940bb16bc18585864355a0ab3b90e0cb3a15d USE_BLOB_STORAGE=True \n",
      "FRONTEND_TARGET=grid-ui-development \n",
      "STACK_API_KEY=qs1ymW4H9sjpjDcjZJ3jURyDMDCU0P7vgVaa3DrIwVfwfcmt TRACE=True \n",
      "JAEGER_HOST=docker-host JAEGER_PORT=14268 RABBITMQ_MANAGEMENT=-management docker\n",
      "compose -p test_domain --profile vpn --profile blob-storage --profile frontend \n",
      "--profile telemetry --env-file /home/dk/.hagrid/PySyft/packages/grid/.envfile \n",
      "--file docker-compose.yml --file docker-compose.build.yml build\n",
      "\u001b[2K\u001b[32m⠋\u001b[0m \u001b[1;32mBuilding Images\u001b[0m \u001b[90m━━━━━━━━━━━━━━━━━━━━━━━━━━━━━━━━━━━━━━━━\u001b[0m \u001b[35m0.00%   \u001b[0m\n",
      "\u001b[2KRunning: m \u001b[1;32mLaunching Images\u001b[0m \u001b[90m━━━━━━━━━━━━━━━━━━━━━━━━━━━━━━━━━━━━━━━━\u001b[0m \u001b[35m0.00%   \u001b[0m\n",
      "\u001b[2K RELEASE=development COMPOSE_DOCKER_CLI_BUILD=1 DOCKER_BUILDKIT=1 HTTP_PORT=8081\u001b[0m \u001b[35m0.00%   \u001b[0m\n",
      "HTTPS_PORT=444 \n",
      "TRAEFIK_TAG=51eb25e41d7a4b5351017dcb2feeafcfdde2a743d2407e5b7990b7407e2ea83a \n",
      "DOMAIN_NAME=test_domain NODE_TYPE=domain \n",
      "TRAEFIK_PUBLIC_NETWORK_IS_EXTERNAL=False VERSION=0.7.0-dev \n",
      "VERSION_HASH=503940bb16bc18585864355a0ab3b90e0cb3a15d USE_BLOB_STORAGE=True \n",
      "FRONTEND_TARGET=grid-ui-development \n",
      "STACK_API_KEY=qs1ymW4H9sjpjDcjZJ3jURyDMDCU0P7vgVaa3DrIwVfwfcmt TRACE=True \n",
      "JAEGER_HOST=docker-host JAEGER_PORT=14268 RABBITMQ_MANAGEMENT=-management docker\n",
      "compose -p test_domain --profile vpn --profile blob-storage --profile frontend \n",
      "--profile telemetry --env-file /home/dk/.hagrid/PySyft/packages/grid/.envfile \n",
      "--file docker-compose.yml --file docker-compose.dev.yml up -d\n",
      "\u001b[2K\u001b[32m⠋\u001b[0m \u001b[1;32mLaunching Images\u001b[0m \u001b[90m━━━━━━━━━━━━━━━━━━━━━━━━━━━━━━━━━━━━━━━━\u001b[0m \u001b[35m0.00%   \u001b[0m\n",
      "\u001b[?25h"
     ]
    }
   ],
   "source": [
    "!hagrid launch test_domain domain to docker:8081 --tag=0.7.0 --dev --cmd"
   ]
  }
 ],
 "metadata": {
  "kernelspec": {
   "display_name": ".venv",
   "language": "python",
   "name": "python3"
  },
  "language_info": {
   "codemirror_mode": {
    "name": "ipython",
    "version": 3
   },
   "file_extension": ".py",
   "mimetype": "text/x-python",
   "name": "python",
   "nbconvert_exporter": "python",
   "pygments_lexer": "ipython3",
   "version": "3.10.8"
  },
  "orig_nbformat": 4,
  "vscode": {
   "interpreter": {
    "hash": "e3cdefe258cda4e75bc94a4ed12119270300bb9272a62755cc47309386dfe3d9"
   }
  }
 },
 "nbformat": 4,
 "nbformat_minor": 2
}

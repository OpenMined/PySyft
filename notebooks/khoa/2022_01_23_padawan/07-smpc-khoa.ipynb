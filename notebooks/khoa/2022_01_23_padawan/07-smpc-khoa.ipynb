{
 "cells": [
  {
   "attachments": {},
   "cell_type": "markdown",
   "metadata": {},
   "source": [
    "# 07 - SMPC"
   ]
  },
  {
   "attachments": {},
   "cell_type": "markdown",
   "metadata": {},
   "source": [
    "## Materials"
   ]
  },
  {
   "attachments": {},
   "cell_type": "markdown",
   "metadata": {},
   "source": [
    "### `Gevent`"
   ]
  },
  {
   "attachments": {},
   "cell_type": "markdown",
   "metadata": {},
   "source": [
    "Two SMPC actions which require results from another machine on the network that takes half a second to arrive."
   ]
  },
  {
   "cell_type": "code",
   "execution_count": 1,
   "metadata": {},
   "outputs": [
    {
     "name": "stdout",
     "output_type": "stream",
     "text": [
      "Starting SMPC Action 1\n",
      "Finished SMPC Action 1\n",
      "Starting SMPC Action 2\n",
      "Finished SMPC Action 2\n",
      "\n",
      "Time to finish SMPC Action 2: 0.5\n"
     ]
    }
   ],
   "source": [
    "import gevent\n",
    "import time\n",
    "start = time.time()\n",
    "end = None\n",
    "def smpc_action_1():\n",
    "    print('Starting SMPC Action 1')\n",
    "    # waiting for some network result will block\n",
    "    time.sleep(0.5)\n",
    "    print('Finished SMPC Action 1')\n",
    "\n",
    "def smpc_action_2():\n",
    "    global end\n",
    "    print('Starting SMPC Action 2')\n",
    "    # data here no need to wait\n",
    "    time.sleep(0)\n",
    "    print('Finished SMPC Action 2')\n",
    "    end = time.time()\n",
    "\n",
    "_ = gevent.joinall([\n",
    "    gevent.spawn(smpc_action_1),\n",
    "    gevent.spawn(smpc_action_2),\n",
    "])\n",
    "print(f\"\\nTime to finish SMPC Action 2:\", round(end - start, 2))"
   ]
  },
  {
   "attachments": {},
   "cell_type": "markdown",
   "metadata": {},
   "source": [
    "We had to wait 0.5s for the `smpc_action_1` to complete. Instead if we use `gevent` we can run both actions in parallel."
   ]
  },
  {
   "cell_type": "code",
   "execution_count": 2,
   "metadata": {},
   "outputs": [
    {
     "name": "stdout",
     "output_type": "stream",
     "text": [
      "Starting SMPC Action 1\n",
      "Starting SMPC Action 2\n",
      "Finished SMPC Action 2\n",
      "Finished SMPC Action 1\n",
      "\n",
      "Time to finish SMPC Action 2: 0.0\n"
     ]
    }
   ],
   "source": [
    "import gevent\n",
    "start = time.time()\n",
    "end = None\n",
    "def smpc_action_1():\n",
    "    print('Starting SMPC Action 1')\n",
    "    # waiting for a network result doesn't matter\n",
    "    gevent.sleep(0.5)\n",
    "    print('Finished SMPC Action 1')\n",
    "\n",
    "def smpc_action_2():\n",
    "    global end\n",
    "    print('Starting SMPC Action 2')\n",
    "    # waiting for a network result doesn't matter\n",
    "    gevent.sleep(0)\n",
    "    print('Finished SMPC Action 2')\n",
    "    end = time.time()\n",
    "\n",
    "_ = gevent.joinall([\n",
    "    gevent.spawn(smpc_action_1),\n",
    "    gevent.spawn(smpc_action_2),\n",
    "])\n",
    "print(f\"\\nTime to finish SMPC Action 2:\", round(end - start, 2))"
   ]
  },
  {
   "attachments": {},
   "cell_type": "markdown",
   "metadata": {},
   "source": [
    "Since `SMPC Action 2` was ready to go, we can see that it was able to start nearly immediately and complete all while the first one was waiting on the network. This is because the `SMPC Action 1` is telling `gevent`, i'm waiting so I `yield` my CPU time to someone else."
   ]
  },
  {
   "attachments": {},
   "cell_type": "markdown",
   "metadata": {},
   "source": [
    "### SMPC in action"
   ]
  },
  {
   "cell_type": "code",
   "execution_count": 3,
   "metadata": {},
   "outputs": [
    {
     "name": "stdout",
     "output_type": "stream",
     "text": [
      "✅ The installed version of syft==0.7.0 matches the requirement ==0.7\n"
     ]
    }
   ],
   "source": [
    "import syft as sy\n",
    "sy.requires(\"==0.7\")\n",
    "import numpy as np\n",
    "\n",
    "a = sy.Tensor(np.array([1, 2, 3])) # Alice's data  \n",
    "b = sy.Tensor(np.array([4, 5, 6])) # Bob's data\n",
    "c = a + b\n",
    "d = a * b\n",
    "local_c = c\n",
    "local_d = d"
   ]
  },
  {
   "cell_type": "code",
   "execution_count": 3,
   "metadata": {},
   "outputs": [
    {
     "name": "stdout",
     "output_type": "stream",
     "text": [
      "<class 'syft.core.tensor.tensor.Tensor'>\n"
     ]
    },
    {
     "data": {
      "text/plain": [
       "Tensor(child=[5 7 9])"
      ]
     },
     "execution_count": 3,
     "metadata": {},
     "output_type": "execute_result"
    }
   ],
   "source": [
    "print(type(local_c))\n",
    "local_c"
   ]
  },
  {
   "attachments": {},
   "cell_type": "markdown",
   "metadata": {},
   "source": [
    "### 2 domains"
   ]
  },
  {
   "attachments": {},
   "cell_type": "markdown",
   "metadata": {},
   "source": [
    "Start the first `domain` named `alice`"
   ]
  },
  {
   "cell_type": "code",
   "execution_count": null,
   "metadata": {},
   "outputs": [],
   "source": [
    "!hagrid launch alice domain to docker:8081 --tag=0.7.0 --tail"
   ]
  },
  {
   "cell_type": "code",
   "execution_count": 23,
   "metadata": {},
   "outputs": [
    {
     "data": {
      "text/html": [
       "<pre style=\"white-space:pre;overflow-x:auto;line-height:normal;font-family:Menlo,'DejaVu Sans Mono',consolas,'Courier New',monospace\">┏━━━━━━━━━━━┳━━━━━━━━━━━━━━━━━━━━━━━━━━━━━━━━━━━━━━━━━━━┳━━━━┓\n",
       "┃<span style=\"font-weight: bold\"> PyGrid    </span>┃<span style=\"font-weight: bold\"> Info                                      </span>┃<span style=\"font-weight: bold\">    </span>┃\n",
       "┡━━━━━━━━━━━╇━━━━━━━━━━━━━━━━━━━━━━━━━━━━━━━━━━━━━━━━━━━╇━━━━┩\n",
       "│<span style=\"color: #800080; text-decoration-color: #800080\"> UI (βeta) </span>│ http://localhost:8083/login               │ ✅ │\n",
       "│<span style=\"color: #800080; text-decoration-color: #800080\"> api       </span>│ http://localhost:8083/api/v1/openapi.json │ ✅ │\n",
       "└───────────┴───────────────────────────────────────────┴────┘\n",
       "</pre>\n"
      ],
      "text/plain": [
       "┏━━━━━━━━━━━┳━━━━━━━━━━━━━━━━━━━━━━━━━━━━━━━━━━━━━━━━━━━┳━━━━┓\n",
       "┃\u001b[1m \u001b[0m\u001b[1mPyGrid   \u001b[0m\u001b[1m \u001b[0m┃\u001b[1m \u001b[0m\u001b[1mInfo                                     \u001b[0m\u001b[1m \u001b[0m┃\u001b[1m \u001b[0m\u001b[1m  \u001b[0m\u001b[1m \u001b[0m┃\n",
       "┡━━━━━━━━━━━╇━━━━━━━━━━━━━━━━━━━━━━━━━━━━━━━━━━━━━━━━━━━╇━━━━┩\n",
       "│\u001b[35m \u001b[0m\u001b[35mUI (βeta)\u001b[0m\u001b[35m \u001b[0m│ http://localhost:8083/login               │ ✅ │\n",
       "│\u001b[35m \u001b[0m\u001b[35mapi      \u001b[0m\u001b[35m \u001b[0m│ http://localhost:8083/api/v1/openapi.json │ ✅ │\n",
       "└───────────┴───────────────────────────────────────────┴────┘\n"
      ]
     },
     "metadata": {},
     "output_type": "display_data"
    }
   ],
   "source": [
    "import hagrid\n",
    "hagrid.check(\"localhost:8083\")"
   ]
  },
  {
   "attachments": {},
   "cell_type": "markdown",
   "metadata": {},
   "source": [
    "Start the second `domain` named `bob`"
   ]
  },
  {
   "cell_type": "code",
   "execution_count": null,
   "metadata": {},
   "outputs": [],
   "source": [
    "!hagrid launch bob domain to docker:8084 --tag=0.7.0 --tail"
   ]
  },
  {
   "cell_type": "code",
   "execution_count": 24,
   "metadata": {},
   "outputs": [
    {
     "data": {
      "text/html": [
       "<pre style=\"white-space:pre;overflow-x:auto;line-height:normal;font-family:Menlo,'DejaVu Sans Mono',consolas,'Courier New',monospace\">┏━━━━━━━━━━━┳━━━━━━━━━━━━━━━━━━━━━━━━━━━━━━━━━━━━━━━━━━━┳━━━━┓\n",
       "┃<span style=\"font-weight: bold\"> PyGrid    </span>┃<span style=\"font-weight: bold\"> Info                                      </span>┃<span style=\"font-weight: bold\">    </span>┃\n",
       "┡━━━━━━━━━━━╇━━━━━━━━━━━━━━━━━━━━━━━━━━━━━━━━━━━━━━━━━━━╇━━━━┩\n",
       "│<span style=\"color: #800080; text-decoration-color: #800080\"> UI (βeta) </span>│ http://localhost:8084/login               │ ✅ │\n",
       "│<span style=\"color: #800080; text-decoration-color: #800080\"> api       </span>│ http://localhost:8084/api/v1/openapi.json │ ✅ │\n",
       "└───────────┴───────────────────────────────────────────┴────┘\n",
       "</pre>\n"
      ],
      "text/plain": [
       "┏━━━━━━━━━━━┳━━━━━━━━━━━━━━━━━━━━━━━━━━━━━━━━━━━━━━━━━━━┳━━━━┓\n",
       "┃\u001b[1m \u001b[0m\u001b[1mPyGrid   \u001b[0m\u001b[1m \u001b[0m┃\u001b[1m \u001b[0m\u001b[1mInfo                                     \u001b[0m\u001b[1m \u001b[0m┃\u001b[1m \u001b[0m\u001b[1m  \u001b[0m\u001b[1m \u001b[0m┃\n",
       "┡━━━━━━━━━━━╇━━━━━━━━━━━━━━━━━━━━━━━━━━━━━━━━━━━━━━━━━━━╇━━━━┩\n",
       "│\u001b[35m \u001b[0m\u001b[35mUI (βeta)\u001b[0m\u001b[35m \u001b[0m│ http://localhost:8084/login               │ ✅ │\n",
       "│\u001b[35m \u001b[0m\u001b[35mapi      \u001b[0m\u001b[35m \u001b[0m│ http://localhost:8084/api/v1/openapi.json │ ✅ │\n",
       "└───────────┴───────────────────────────────────────────┴────┘\n"
      ]
     },
     "metadata": {},
     "output_type": "display_data"
    }
   ],
   "source": [
    "hagrid.check(\"localhost:8084\")"
   ]
  },
  {
   "attachments": {},
   "cell_type": "markdown",
   "metadata": {},
   "source": [
    "Login to the `domains`"
   ]
  },
  {
   "cell_type": "code",
   "execution_count": 25,
   "metadata": {},
   "outputs": [
    {
     "name": "stdout",
     "output_type": "stream",
     "text": [
      "\u001b[93mWARNING:\u001b[0m CHANGE YOUR USERNAME AND PASSWORD!!! \n",
      "\n",
      "Anyone can login as an admin to your node right now because your password is still the default PySyft username and password!!!\n",
      "\n",
      "Connecting to localhost... done! \t Logging into alice... done!\n"
     ]
    }
   ],
   "source": [
    "alice_domain = sy.login(email=\"info@openmined.org\", \n",
    "                        password=\"changethis\", \n",
    "                        port=8083)"
   ]
  },
  {
   "cell_type": "code",
   "execution_count": 26,
   "metadata": {},
   "outputs": [
    {
     "name": "stdout",
     "output_type": "stream",
     "text": [
      "\u001b[93mWARNING:\u001b[0m CHANGE YOUR USERNAME AND PASSWORD!!! \n",
      "\n",
      "Anyone can login as an admin to your node right now because your password is still the default PySyft username and password!!!\n",
      "\n",
      "Connecting to localhost... done! \t Logging into bob... done!\n"
     ]
    }
   ],
   "source": [
    "bob_domain = sy.login(email=\"info@openmined.org\", \n",
    "                      password=\"changethis\", \n",
    "                      port=8084)"
   ]
  },
  {
   "attachments": {},
   "cell_type": "markdown",
   "metadata": {},
   "source": [
    "Upload some data to the `domains`"
   ]
  },
  {
   "cell_type": "code",
   "execution_count": 27,
   "metadata": {},
   "outputs": [
    {
     "data": {
      "text/plain": [
       "(Tensor(child=[1 2 3]), Tensor(child=[4 5 6]))"
      ]
     },
     "execution_count": 27,
     "metadata": {},
     "output_type": "execute_result"
    }
   ],
   "source": [
    "a, b"
   ]
  },
  {
   "cell_type": "code",
   "execution_count": 28,
   "metadata": {},
   "outputs": [
    {
     "name": "stdout",
     "output_type": "stream",
     "text": [
      "Loading dataset... uploading...🚀                                                                                                                                             "
     ]
    },
    {
     "name": "stderr",
     "output_type": "stream",
     "text": [
      "kj/filesystem-disk-unix.c++:1690: warning: PWD environment variable doesn't match current directory; pwd = /home/dk\n",
      "Uploading `data`: 100%|\u001b[32m███████████████████████████████████████████████\u001b[0m| 1/1 [00:00<00:00,  4.36it/s]\u001b[0m"
     ]
    },
    {
     "name": "stdout",
     "output_type": "stream",
     "text": [
      "Dataset is uploaded successfully !!! 🎉\n",
      "\n",
      "Run `<your client variable>.datasets` to see your new dataset loaded into your machine!\n"
     ]
    },
    {
     "name": "stderr",
     "output_type": "stream",
     "text": [
      "\n"
     ]
    }
   ],
   "source": [
    "alice_domain.load_dataset(\n",
    "    assets={\"data\": a},\n",
    "    name=\"alice_dataset\",\n",
    "    description=\"Alice's Private Data\",\n",
    "    skip_checks=True\n",
    ")"
   ]
  },
  {
   "cell_type": "code",
   "execution_count": 32,
   "metadata": {},
   "outputs": [
    {
     "data": {
      "text/html": [
       "<style>\n",
       "                #myInput {\n",
       "                  background-position: 10px 12px; /* Position the search icon */\n",
       "                  background-repeat: no-repeat; /* Do not repeat the icon image */\n",
       "                  background-color: #bbb;\n",
       "                  width: 98%; /* Full-width */\n",
       "                  font-size: 14px; /* Increase font-size */\n",
       "                  padding: 12px 20px 12px 40px; /* Add some padding */\n",
       "                  border: 1px solid #ddd; /* Add a grey border */\n",
       "                  margin-bottom: 12px; /* Add some space below the input */\n",
       "                }\n",
       "\n",
       "                #myTable {\n",
       "                  border-collapse: collapse; /* Collapse borders */\n",
       "                  width: 100%; /* Full-width */\n",
       "                  border: 1px solid #ddd; /* Add a grey border */\n",
       "                  font-size: 14px; /* Increase font-size */\n",
       "                }\n",
       "\n",
       "                #myTable th, #myTable td {\n",
       "                  text-align: left; /* Left-align text */\n",
       "                  padding: 10px; /* Add padding */\n",
       "                }\n",
       "\n",
       "                #myTable tr {\n",
       "                  /* Add a bottom border to all table rows */\n",
       "                  border-bottom: 1px solid #ddd;\n",
       "                }\n",
       "\n",
       "                #myTable tr.header, #myTable tr:hover {\n",
       "                  /* Add a grey background color to the table header and on hover */\n",
       "                  background-color: #777;\n",
       "                }\n",
       "                </style>\n",
       "\n",
       "                <table id=\"myTable\" style=\"width:1000px\">\n",
       "                  <tr class=\"header\">\n",
       "                    <th style=\"width:30px\">Idx</th>\n",
       "                    <th style=\"width:20%;\">Name</th>\n",
       "                    <th style=\"width:35%;\">Description</th>\n",
       "                    <th style=\"width:20%;\">Assets</th>\n",
       "                    <th style=\"width:300px;\">Id</th>\n",
       "                  </tr>\n",
       "                \n",
       "\n",
       "          <tr>\n",
       "            <td>[0]</td>\n",
       "            <td>alice_dataset</td>\n",
       "            <td>Alice's Private Data</td>\n",
       "            <td>[\"data\"] -> Tensor<br /><br /></td>\n",
       "            <td>91c7ccbd-3b8c-4a91-9e9c-77f39091f5ff</td>\n",
       "          </tr>\n",
       "        </table>\n",
       "\n",
       "        <script>\n",
       "        function myFunction() {\n",
       "          // Declare variables\n",
       "          var input, filter, table, tr, td, i, txtValue;\n",
       "          input = document.getElementById(\"myInput\");\n",
       "          filter = input.value.toUpperCase();\n",
       "          table = document.getElementById(\"myTable\");\n",
       "          tr = table.getElementsByTagName(\"tr\");\n",
       "\n",
       "          // Loop through all table rows, and hide those who don't match the search query\n",
       "          for (i = 0; i < tr.length; i++) {\n",
       "            name_td = tr[i].getElementsByTagName(\"td\")[1];\n",
       "            desc_td = tr[i].getElementsByTagName(\"td\")[2];\n",
       "            asset_td = tr[i].getElementsByTagName(\"td\")[3];\n",
       "            id_td = tr[i].getElementsByTagName(\"td\")[4];\n",
       "            if (name_td || desc_td || asset_td || id_td) {\n",
       "              name_txtValue = name_td.textContent || name_td.innerText;\n",
       "              desc_txtValue = desc_td.textContent || name_td.innerText;\n",
       "              asset_txtValue = asset_td.textContent || name_td.innerText;\n",
       "              id_txtValue = id_td.textContent || name_td.innerText;\n",
       "              name_bool = name_txtValue.toUpperCase().indexOf(filter) > -1;\n",
       "              desc_bool = desc_txtValue.toUpperCase().indexOf(filter) > -1;\n",
       "              asset_bool = asset_txtValue.toUpperCase().indexOf(filter) > -1;\n",
       "              id_bool = id_txtValue.toUpperCase().indexOf(filter) > -1;\n",
       "              if (name_bool || desc_bool || asset_bool || id_bool) {\n",
       "                tr[i].style.display = \"\";\n",
       "              } else {\n",
       "                tr[i].style.display = \"none\";\n",
       "              }\n",
       "            }\n",
       "          }\n",
       "        }\n",
       "        </script>"
      ],
      "text/plain": [
       "<syft.core.node.common.client_manager.dataset_api.DatasetRequestAPI at 0x7f9dc48e3460>"
      ]
     },
     "execution_count": 32,
     "metadata": {},
     "output_type": "execute_result"
    }
   ],
   "source": [
    "alice_domain.datasets"
   ]
  },
  {
   "cell_type": "code",
   "execution_count": null,
   "metadata": {},
   "outputs": [],
   "source": [
    "bob_domain.load_dataset(\n",
    "    assets={\"data\": b},\n",
    "    name=\"bob_dataset\",\n",
    "    description=\"Bob's Private Data\",\n",
    "    skip_checks=True\n",
    ")"
   ]
  },
  {
   "attachments": {},
   "cell_type": "markdown",
   "metadata": {},
   "source": [
    "Create `Data Scientist` Account"
   ]
  },
  {
   "cell_type": "code",
   "execution_count": 14,
   "metadata": {},
   "outputs": [
    {
     "name": "stdout",
     "output_type": "stream",
     "text": [
      "User created successfully!\n"
     ]
    },
    {
     "data": {
      "text/plain": [
       "{'name': 'Alice Amidala',\n",
       " 'email': 'alice@naboo.net',\n",
       " 'password': 'gungan',\n",
       " 'url': 'localhost'}"
      ]
     },
     "execution_count": 14,
     "metadata": {},
     "output_type": "execute_result"
    }
   ],
   "source": [
    "starting_budget = starting_budget = 999999\n",
    "alice_domain.create_user(\n",
    "    name = \"Alice Amidala\",\n",
    "    email = \"alice@naboo.net\",\n",
    "    password = \"gungan\",\n",
    "    budget = starting_budget,\n",
    ")"
   ]
  },
  {
   "cell_type": "code",
   "execution_count": 15,
   "metadata": {},
   "outputs": [
    {
     "name": "stdout",
     "output_type": "stream",
     "text": [
      "User created successfully!\n"
     ]
    },
    {
     "data": {
      "text/plain": [
       "{'name': 'Bob Afett',\n",
       " 'email': 'bob@hutt.pizza',\n",
       " 'password': 'hansolo',\n",
       " 'url': 'localhost'}"
      ]
     },
     "execution_count": 15,
     "metadata": {},
     "output_type": "execute_result"
    }
   ],
   "source": [
    "bob_domain.create_user(\n",
    "    name = \"Bob Afett\",\n",
    "    email = \"bob@hutt.pizza\",\n",
    "    password = \"hansolo\",\n",
    "    budget = starting_budget,\n",
    ")"
   ]
  },
  {
   "attachments": {},
   "cell_type": "markdown",
   "metadata": {},
   "source": [
    "Login into the `Data Scientist` accounts to get a different `domain` handles with names `alice_ds` and `bob_ds`"
   ]
  },
  {
   "cell_type": "code",
   "execution_count": 16,
   "metadata": {},
   "outputs": [
    {
     "name": "stdout",
     "output_type": "stream",
     "text": [
      "Connecting to localhost... done! \t Logging into alice... done!\n"
     ]
    }
   ],
   "source": [
    "alice_ds = sy.login(port=8081, \n",
    "                    email=\"alice@naboo.net\", \n",
    "                    password=\"gungan\")"
   ]
  },
  {
   "cell_type": "code",
   "execution_count": 17,
   "metadata": {},
   "outputs": [
    {
     "name": "stdout",
     "output_type": "stream",
     "text": [
      "Connecting to localhost... done! \t Logging into bob... done!\n"
     ]
    }
   ],
   "source": [
    "bob_ds = sy.login(port=8082, \n",
    "                  email=\"bob@hutt.pizza\", \n",
    "                  password=\"hansolo\")"
   ]
  },
  {
   "attachments": {},
   "cell_type": "markdown",
   "metadata": {},
   "source": [
    "Get the pointers to the private data uploaded by `Alice` and `Bob`"
   ]
  },
  {
   "cell_type": "code",
   "execution_count": 20,
   "metadata": {},
   "outputs": [
    {
     "name": "stdout",
     "output_type": "stream",
     "text": [
      "Dataset: alice_dataset\n",
      "Description: Alice's Private Data\n",
      "\n"
     ]
    },
    {
     "data": {
      "text/html": [
       "<style>\n",
       "        #myInput {\n",
       "          background-position: 10px 12px; /* Position the search icon */\n",
       "          background-repeat: no-repeat; /* Do not repeat the icon image */\n",
       "          background-color: #bbb;\n",
       "          width: 98%; /* Full-width */\n",
       "          font-size: 14px; /* Increase font-size */\n",
       "          padding: 12px 20px 12px 40px; /* Add some padding */\n",
       "          border: 1px solid #ddd; /* Add a grey border */\n",
       "          margin-bottom: 12px; /* Add some space below the input */\n",
       "        }\n",
       "\n",
       "        #myTable {\n",
       "          border-collapse: collapse; /* Collapse borders */\n",
       "          width: 50%; /* Full-width */\n",
       "          border: 1px solid #ddd; /* Add a grey border */\n",
       "          font-size: 14px; /* Increase font-size */\n",
       "        }\n",
       "\n",
       "        #myTable th, #myTable td {\n",
       "          text-align: left; /* Left-align text */\n",
       "          padding: 10px; /* Add padding */\n",
       "        }\n",
       "\n",
       "        #myTable tr {\n",
       "          /* Add a bottom border to all table rows */\n",
       "          border-bottom: 1px solid #ddd;\n",
       "        }\n",
       "\n",
       "        #myTable tr.header, #myTable tr:hover {\n",
       "          /* Add a grey background color to the table header and on hover */\n",
       "          background-color: #777;\n",
       "        }\n",
       "        </style>\n",
       "\n",
       "        <table id=\"myTable\">\n",
       "          <tr class=\"header\">\n",
       "            <th style=\"width:15%;\">Asset Key</th>\n",
       "            <th style=\"width:20%;\">Type</th>\n",
       "            <th style=\"width:10%;\">Shape</th>\n",
       "          </tr>\n",
       "        \n",
       "\n",
       "              <tr>\n",
       "            <td>[\"data\"]</td>\n",
       "            <td>Tensor</td>\n",
       "            <td>(3,)</td>\n",
       "          </tr>\n",
       "        </table>\n",
       "\n",
       "        "
      ],
      "text/plain": [
       "<syft.core.node.common.client_manager.dataset_api.Dataset at 0x7f229bfa9540>"
      ]
     },
     "execution_count": 20,
     "metadata": {},
     "output_type": "execute_result"
    }
   ],
   "source": [
    "alice_dataset_ptr = alice_ds.datasets[-1]\n",
    "alice_dataset_ptr"
   ]
  },
  {
   "cell_type": "code",
   "execution_count": 21,
   "metadata": {},
   "outputs": [
    {
     "data": {
      "text/plain": [
       "<TensorPointer -> alice:c0bfd3f19a974bbdb73db6ec0296f5e6, status=\u001b[92mReady\u001b[0m>"
      ]
     },
     "execution_count": 21,
     "metadata": {},
     "output_type": "execute_result"
    }
   ],
   "source": [
    "alice_ptr = alice_dataset_ptr[\"data\"]\n",
    "alice_ptr"
   ]
  },
  {
   "cell_type": "code",
   "execution_count": 23,
   "metadata": {},
   "outputs": [
    {
     "name": "stdout",
     "output_type": "stream",
     "text": [
      "Dataset: bob_dataset\n",
      "Description: Bob's Private Data\n",
      "\n"
     ]
    },
    {
     "data": {
      "text/html": [
       "<style>\n",
       "        #myInput {\n",
       "          background-position: 10px 12px; /* Position the search icon */\n",
       "          background-repeat: no-repeat; /* Do not repeat the icon image */\n",
       "          background-color: #bbb;\n",
       "          width: 98%; /* Full-width */\n",
       "          font-size: 14px; /* Increase font-size */\n",
       "          padding: 12px 20px 12px 40px; /* Add some padding */\n",
       "          border: 1px solid #ddd; /* Add a grey border */\n",
       "          margin-bottom: 12px; /* Add some space below the input */\n",
       "        }\n",
       "\n",
       "        #myTable {\n",
       "          border-collapse: collapse; /* Collapse borders */\n",
       "          width: 50%; /* Full-width */\n",
       "          border: 1px solid #ddd; /* Add a grey border */\n",
       "          font-size: 14px; /* Increase font-size */\n",
       "        }\n",
       "\n",
       "        #myTable th, #myTable td {\n",
       "          text-align: left; /* Left-align text */\n",
       "          padding: 10px; /* Add padding */\n",
       "        }\n",
       "\n",
       "        #myTable tr {\n",
       "          /* Add a bottom border to all table rows */\n",
       "          border-bottom: 1px solid #ddd;\n",
       "        }\n",
       "\n",
       "        #myTable tr.header, #myTable tr:hover {\n",
       "          /* Add a grey background color to the table header and on hover */\n",
       "          background-color: #777;\n",
       "        }\n",
       "        </style>\n",
       "\n",
       "        <table id=\"myTable\">\n",
       "          <tr class=\"header\">\n",
       "            <th style=\"width:15%;\">Asset Key</th>\n",
       "            <th style=\"width:20%;\">Type</th>\n",
       "            <th style=\"width:10%;\">Shape</th>\n",
       "          </tr>\n",
       "        \n",
       "\n",
       "              <tr>\n",
       "            <td>[\"data\"]</td>\n",
       "            <td>Tensor</td>\n",
       "            <td>(3,)</td>\n",
       "          </tr>\n",
       "        </table>\n",
       "\n",
       "        "
      ],
      "text/plain": [
       "<syft.core.node.common.client_manager.dataset_api.Dataset at 0x7f229b60e200>"
      ]
     },
     "execution_count": 23,
     "metadata": {},
     "output_type": "execute_result"
    }
   ],
   "source": [
    "bob_dataset_ptr = bob_ds.datasets[-1]\n",
    "bob_dataset_ptr"
   ]
  },
  {
   "cell_type": "code",
   "execution_count": 27,
   "metadata": {},
   "outputs": [
    {
     "data": {
      "text/plain": [
       "<TensorPointer -> bob:b05cbdf090c7462f8f646b136938131d, status=\u001b[92mReady\u001b[0m>"
      ]
     },
     "execution_count": 27,
     "metadata": {},
     "output_type": "execute_result"
    }
   ],
   "source": [
    "bob_ptr = bob_dataset_ptr[\"data\"]\n",
    "bob_ptr"
   ]
  },
  {
   "cell_type": "code",
   "execution_count": 28,
   "metadata": {},
   "outputs": [],
   "source": [
    "a = alice_ptr\n",
    "b = bob_ptr\n",
    "c = a + b\n",
    "d = a * b"
   ]
  },
  {
   "attachments": {},
   "cell_type": "markdown",
   "metadata": {},
   "source": [
    "As `a` and `b` are on different domains, `syft` automatically creates `SMPC Tensors` and handles all the logic to do `secret-sharing` transparently for us because it knows the `Pointers` are on different `domains`."
   ]
  },
  {
   "cell_type": "code",
   "execution_count": 37,
   "metadata": {},
   "outputs": [
    {
     "data": {
      "text/plain": [
       "\n",
       "\n",
       "MPCTensor.shape=(3,)\n",
       "\t .child[0] = <TensorPointer -> alice:dbe5fdaa9f9cf050ef770e5e21049e85, status=\u001b[93mProcessing\u001b[0m>\n",
       "\t .child[1] = <TensorPointer -> bob:dbe5fdaa9f9cf050ef770e5e21049e85, status=\u001b[93mProcessing\u001b[0m>"
      ]
     },
     "execution_count": 37,
     "metadata": {},
     "output_type": "execute_result"
    }
   ],
   "source": [
    "c"
   ]
  },
  {
   "cell_type": "code",
   "execution_count": 38,
   "metadata": {},
   "outputs": [
    {
     "data": {
      "text/plain": [
       "\n",
       "\n",
       "MPCTensor.shape=(3,)\n",
       "\t .child[0] = <TensorPointer -> alice:d710de2f1c0386078cc04a5464f275dc, status=\u001b[93mProcessing\u001b[0m>\n",
       "\t .child[1] = <TensorPointer -> bob:d710de2f1c0386078cc04a5464f275dc, status=\u001b[93mProcessing\u001b[0m>"
      ]
     },
     "execution_count": 38,
     "metadata": {},
     "output_type": "execute_result"
    }
   ],
   "source": [
    "d"
   ]
  },
  {
   "attachments": {},
   "cell_type": "markdown",
   "metadata": {},
   "source": [
    "Let's try to get the value of `c` and see what happens"
   ]
  },
  {
   "cell_type": "code",
   "execution_count": 55,
   "metadata": {},
   "outputs": [
    {
     "name": "stdout",
     "output_type": "stream",
     "text": [
      "Unable to json decode message. Expecting value: line 1 column 1 (char 0)\n",
      "You do not have permission to .get() Object on the node. Please submit a request.\n"
     ]
    }
   ],
   "source": [
    "# ⚔️ Runnable Code\n",
    "try:\n",
    "    c.get(delete_obj=False)\n",
    "except Exception:\n",
    "    print(\"You do not have permission to .get() Object on the node. Please submit a request.\")"
   ]
  },
  {
   "attachments": {},
   "cell_type": "markdown",
   "metadata": {},
   "source": [
    "### Requests"
   ]
  },
  {
   "attachments": {},
   "cell_type": "markdown",
   "metadata": {},
   "source": [
    "#### Data requests"
   ]
  },
  {
   "cell_type": "code",
   "execution_count": 76,
   "metadata": {},
   "outputs": [],
   "source": [
    "c.request(reason=\"These are the Droids youre looking for! 👋\")"
   ]
  },
  {
   "cell_type": "code",
   "execution_count": 77,
   "metadata": {},
   "outputs": [
    {
     "data": {
      "text/html": [
       "<div>\n",
       "<style scoped>\n",
       "    .dataframe tbody tr th:only-of-type {\n",
       "        vertical-align: middle;\n",
       "    }\n",
       "\n",
       "    .dataframe tbody tr th {\n",
       "        vertical-align: top;\n",
       "    }\n",
       "\n",
       "    .dataframe thead th {\n",
       "        text-align: right;\n",
       "    }\n",
       "</style>\n",
       "<table border=\"1\" class=\"dataframe\">\n",
       "  <thead>\n",
       "    <tr style=\"text-align: right;\">\n",
       "      <th></th>\n",
       "      <th>Name</th>\n",
       "      <th>Email</th>\n",
       "      <th>Role</th>\n",
       "      <th>Request Type</th>\n",
       "      <th>Status</th>\n",
       "      <th>Reason</th>\n",
       "      <th>Request ID</th>\n",
       "      <th>Requested Object's ID</th>\n",
       "      <th>Requested Object's tags</th>\n",
       "      <th>Requested Budget</th>\n",
       "      <th>Current Budget</th>\n",
       "    </tr>\n",
       "  </thead>\n",
       "  <tbody>\n",
       "    <tr>\n",
       "      <th>0</th>\n",
       "      <td>Alice Amidala</td>\n",
       "      <td>alice@naboo.net</td>\n",
       "      <td>Data Scientist</td>\n",
       "      <td>BUDGET</td>\n",
       "      <td>pending</td>\n",
       "      <td>I would like additional privacy budget to perf...</td>\n",
       "      <td>&lt;UID: 140374721730480dba492ceed19dfbe7&gt;</td>\n",
       "      <td>None</td>\n",
       "      <td>[]</td>\n",
       "      <td>11.0</td>\n",
       "      <td>999999.0</td>\n",
       "    </tr>\n",
       "  </tbody>\n",
       "</table>\n",
       "</div>"
      ],
      "text/plain": [
       "[<RequestMessage: 140374721730480dba492ceed19dfbe7>]"
      ]
     },
     "execution_count": 77,
     "metadata": {},
     "output_type": "execute_result"
    }
   ],
   "source": [
    "alice_domain.requests"
   ]
  },
  {
   "cell_type": "code",
   "execution_count": 69,
   "metadata": {},
   "outputs": [
    {
     "data": {
      "text/html": [
       "<div>\n",
       "<style scoped>\n",
       "    .dataframe tbody tr th:only-of-type {\n",
       "        vertical-align: middle;\n",
       "    }\n",
       "\n",
       "    .dataframe tbody tr th {\n",
       "        vertical-align: top;\n",
       "    }\n",
       "\n",
       "    .dataframe thead th {\n",
       "        text-align: right;\n",
       "    }\n",
       "</style>\n",
       "<table border=\"1\" class=\"dataframe\">\n",
       "  <thead>\n",
       "    <tr style=\"text-align: right;\">\n",
       "      <th></th>\n",
       "    </tr>\n",
       "  </thead>\n",
       "  <tbody>\n",
       "  </tbody>\n",
       "</table>\n",
       "</div>"
      ],
      "text/plain": [
       "[]"
      ]
     },
     "execution_count": 69,
     "metadata": {},
     "output_type": "execute_result"
    }
   ],
   "source": [
    "bob_domain.requests"
   ]
  },
  {
   "attachments": {},
   "cell_type": "markdown",
   "metadata": {},
   "source": [
    "#### Privacy Budget Request"
   ]
  },
  {
   "cell_type": "code",
   "execution_count": 70,
   "metadata": {},
   "outputs": [
    {
     "data": {
      "text/plain": [
       "999999.0"
      ]
     },
     "execution_count": 70,
     "metadata": {},
     "output_type": "execute_result"
    }
   ],
   "source": [
    "alice_ds.privacy_budget"
   ]
  },
  {
   "cell_type": "code",
   "execution_count": 71,
   "metadata": {},
   "outputs": [
    {
     "name": "stdout",
     "output_type": "stream",
     "text": [
      "Requested 11 epsilon of budget. Call .privacy_budget to see if your budget has arrived!\n"
     ]
    }
   ],
   "source": [
    "alice_ds.request_budget(eps=11, \n",
    "                        reason=\"I would like additional privacy budget to perfom computation\")"
   ]
  },
  {
   "attachments": {},
   "cell_type": "markdown",
   "metadata": {},
   "source": [
    "### Response"
   ]
  },
  {
   "cell_type": "code",
   "execution_count": 75,
   "metadata": {},
   "outputs": [
    {
     "data": {
      "text/html": [
       "<div>\n",
       "<style scoped>\n",
       "    .dataframe tbody tr th:only-of-type {\n",
       "        vertical-align: middle;\n",
       "    }\n",
       "\n",
       "    .dataframe tbody tr th {\n",
       "        vertical-align: top;\n",
       "    }\n",
       "\n",
       "    .dataframe thead th {\n",
       "        text-align: right;\n",
       "    }\n",
       "</style>\n",
       "<table border=\"1\" class=\"dataframe\">\n",
       "  <thead>\n",
       "    <tr style=\"text-align: right;\">\n",
       "      <th></th>\n",
       "      <th>Name</th>\n",
       "      <th>Email</th>\n",
       "      <th>Role</th>\n",
       "      <th>Request Type</th>\n",
       "      <th>Status</th>\n",
       "      <th>Reason</th>\n",
       "      <th>Request ID</th>\n",
       "      <th>Requested Object's ID</th>\n",
       "      <th>Requested Object's tags</th>\n",
       "      <th>Requested Budget</th>\n",
       "      <th>Current Budget</th>\n",
       "    </tr>\n",
       "  </thead>\n",
       "  <tbody>\n",
       "    <tr>\n",
       "      <th>0</th>\n",
       "      <td>Alice Amidala</td>\n",
       "      <td>alice@naboo.net</td>\n",
       "      <td>Data Scientist</td>\n",
       "      <td>BUDGET</td>\n",
       "      <td>pending</td>\n",
       "      <td>I would like additional privacy budget to perf...</td>\n",
       "      <td>&lt;UID: 140374721730480dba492ceed19dfbe7&gt;</td>\n",
       "      <td>None</td>\n",
       "      <td>[]</td>\n",
       "      <td>11.0</td>\n",
       "      <td>999999.0</td>\n",
       "    </tr>\n",
       "  </tbody>\n",
       "</table>\n",
       "</div>"
      ],
      "text/plain": [
       "[<RequestMessage: 140374721730480dba492ceed19dfbe7>]"
      ]
     },
     "execution_count": 75,
     "metadata": {},
     "output_type": "execute_result"
    }
   ],
   "source": [
    "alice_domain.requests"
   ]
  },
  {
   "cell_type": "code",
   "execution_count": 78,
   "metadata": {},
   "outputs": [],
   "source": [
    "alice_domain.requests[0].accept()"
   ]
  },
  {
   "cell_type": "code",
   "execution_count": 79,
   "metadata": {},
   "outputs": [
    {
     "data": {
      "text/html": [
       "<div>\n",
       "<style scoped>\n",
       "    .dataframe tbody tr th:only-of-type {\n",
       "        vertical-align: middle;\n",
       "    }\n",
       "\n",
       "    .dataframe tbody tr th {\n",
       "        vertical-align: top;\n",
       "    }\n",
       "\n",
       "    .dataframe thead th {\n",
       "        text-align: right;\n",
       "    }\n",
       "</style>\n",
       "<table border=\"1\" class=\"dataframe\">\n",
       "  <thead>\n",
       "    <tr style=\"text-align: right;\">\n",
       "      <th></th>\n",
       "      <th>Name</th>\n",
       "      <th>Email</th>\n",
       "      <th>Role</th>\n",
       "      <th>Request Type</th>\n",
       "      <th>Status</th>\n",
       "      <th>Reason</th>\n",
       "      <th>Request ID</th>\n",
       "      <th>Requested Object's ID</th>\n",
       "      <th>Requested Object's tags</th>\n",
       "      <th>Requested Budget</th>\n",
       "      <th>Current Budget</th>\n",
       "    </tr>\n",
       "  </thead>\n",
       "  <tbody>\n",
       "    <tr>\n",
       "      <th>0</th>\n",
       "      <td>Alice Amidala</td>\n",
       "      <td>alice@naboo.net</td>\n",
       "      <td>Data Scientist</td>\n",
       "      <td>BUDGET</td>\n",
       "      <td>accepted</td>\n",
       "      <td>I would like additional privacy budget to perf...</td>\n",
       "      <td>&lt;UID: 140374721730480dba492ceed19dfbe7&gt;</td>\n",
       "      <td>None</td>\n",
       "      <td>[]</td>\n",
       "      <td>11.0</td>\n",
       "      <td>999999.0</td>\n",
       "    </tr>\n",
       "  </tbody>\n",
       "</table>\n",
       "</div>"
      ],
      "text/plain": [
       "[<RequestMessage: 140374721730480dba492ceed19dfbe7>]"
      ]
     },
     "execution_count": 79,
     "metadata": {},
     "output_type": "execute_result"
    }
   ],
   "source": [
    "alice_domain.requests"
   ]
  },
  {
   "cell_type": "code",
   "execution_count": 80,
   "metadata": {},
   "outputs": [
    {
     "data": {
      "text/plain": [
       "1000010.0"
      ]
     },
     "execution_count": 80,
     "metadata": {},
     "output_type": "execute_result"
    }
   ],
   "source": [
    "alice_ds.privacy_budget"
   ]
  },
  {
   "cell_type": "code",
   "execution_count": 81,
   "metadata": {},
   "outputs": [
    {
     "data": {
      "text/html": [
       "<div>\n",
       "<style scoped>\n",
       "    .dataframe tbody tr th:only-of-type {\n",
       "        vertical-align: middle;\n",
       "    }\n",
       "\n",
       "    .dataframe tbody tr th {\n",
       "        vertical-align: top;\n",
       "    }\n",
       "\n",
       "    .dataframe thead th {\n",
       "        text-align: right;\n",
       "    }\n",
       "</style>\n",
       "<table border=\"1\" class=\"dataframe\">\n",
       "  <thead>\n",
       "    <tr style=\"text-align: right;\">\n",
       "      <th></th>\n",
       "      <th>Name</th>\n",
       "      <th>Email</th>\n",
       "      <th>Role</th>\n",
       "      <th>Request Type</th>\n",
       "      <th>Status</th>\n",
       "      <th>Reason</th>\n",
       "      <th>Request ID</th>\n",
       "      <th>Requested Object's ID</th>\n",
       "      <th>Requested Object's tags</th>\n",
       "      <th>Requested Budget</th>\n",
       "      <th>Current Budget</th>\n",
       "    </tr>\n",
       "  </thead>\n",
       "  <tbody>\n",
       "    <tr>\n",
       "      <th>0</th>\n",
       "      <td>Alice Amidala</td>\n",
       "      <td>alice@naboo.net</td>\n",
       "      <td>Data Scientist</td>\n",
       "      <td>BUDGET</td>\n",
       "      <td>accepted</td>\n",
       "      <td>I would like additional privacy budget to perf...</td>\n",
       "      <td>&lt;UID: 140374721730480dba492ceed19dfbe7&gt;</td>\n",
       "      <td>None</td>\n",
       "      <td>[]</td>\n",
       "      <td>11.0</td>\n",
       "      <td>999999.0</td>\n",
       "    </tr>\n",
       "  </tbody>\n",
       "</table>\n",
       "</div>"
      ],
      "text/plain": [
       "[<RequestMessage: 140374721730480dba492ceed19dfbe7>]"
      ]
     },
     "execution_count": 81,
     "metadata": {},
     "output_type": "execute_result"
    }
   ],
   "source": [
    "alice_domain.requests"
   ]
  },
  {
   "cell_type": "code",
   "execution_count": null,
   "metadata": {},
   "outputs": [],
   "source": [
    "smpc_c = c.get(delete_obj=False)"
   ]
  },
  {
   "cell_type": "code",
   "execution_count": 83,
   "metadata": {},
   "outputs": [
    {
     "data": {
      "text/html": [
       "<div>\n",
       "<style scoped>\n",
       "    .dataframe tbody tr th:only-of-type {\n",
       "        vertical-align: middle;\n",
       "    }\n",
       "\n",
       "    .dataframe tbody tr th {\n",
       "        vertical-align: top;\n",
       "    }\n",
       "\n",
       "    .dataframe thead th {\n",
       "        text-align: right;\n",
       "    }\n",
       "</style>\n",
       "<table border=\"1\" class=\"dataframe\">\n",
       "  <thead>\n",
       "    <tr style=\"text-align: right;\">\n",
       "      <th></th>\n",
       "    </tr>\n",
       "  </thead>\n",
       "  <tbody>\n",
       "  </tbody>\n",
       "</table>\n",
       "</div>"
      ],
      "text/plain": [
       "[]"
      ]
     },
     "execution_count": 83,
     "metadata": {},
     "output_type": "execute_result"
    }
   ],
   "source": [
    "bob_domain.requests"
   ]
  },
  {
   "attachments": {},
   "cell_type": "markdown",
   "metadata": {},
   "source": [
    "### Under the hood"
   ]
  },
  {
   "attachments": {},
   "cell_type": "markdown",
   "metadata": {},
   "source": [
    "#### `MPCTensor`"
   ]
  },
  {
   "attachments": {},
   "cell_type": "markdown",
   "metadata": {},
   "source": [
    "#### `ShareTensor`"
   ]
  },
  {
   "attachments": {},
   "cell_type": "markdown",
   "metadata": {},
   "source": [
    "### Pseudo Random Generators (PRGs)"
   ]
  },
  {
   "cell_type": "code",
   "execution_count": 17,
   "metadata": {},
   "outputs": [],
   "source": [
    "import numpy as np\n",
    "import secrets"
   ]
  },
  {
   "cell_type": "code",
   "execution_count": 18,
   "metadata": {},
   "outputs": [
    {
     "data": {
      "text/plain": [
       "14234843447959937177"
      ]
     },
     "execution_count": 18,
     "metadata": {},
     "output_type": "execute_result"
    }
   ],
   "source": [
    "seed = secrets.randbits(64)\n",
    "seed"
   ]
  },
  {
   "cell_type": "code",
   "execution_count": 19,
   "metadata": {},
   "outputs": [
    {
     "data": {
      "text/plain": [
       "array([[2, 1, 4],\n",
       "       [0, 3, 0],\n",
       "       [1, 5, 0]])"
      ]
     },
     "execution_count": 19,
     "metadata": {},
     "output_type": "execute_result"
    }
   ],
   "source": [
    "generator = np.random.default_rng(seed)\n",
    "rand_val_1 = generator.integers(\n",
    "    low=0,\n",
    "    high=5,\n",
    "    size=(3,3),\n",
    "    endpoint=True,\n",
    "    dtype=np.int64,\n",
    ")\n",
    "rand_val_1"
   ]
  },
  {
   "cell_type": "code",
   "execution_count": 20,
   "metadata": {},
   "outputs": [
    {
     "data": {
      "text/plain": [
       "array([[4, 3, 3],\n",
       "       [5, 1, 5],\n",
       "       [1, 2, 0]])"
      ]
     },
     "execution_count": 20,
     "metadata": {},
     "output_type": "execute_result"
    }
   ],
   "source": [
    "rand_val_2 = generator.integers(\n",
    "    low=0,\n",
    "    high=5,\n",
    "    size=(3, 3),\n",
    "    endpoint=True,\n",
    "    dtype=np.int64,\n",
    ")\n",
    "rand_val_2"
   ]
  },
  {
   "cell_type": "code",
   "execution_count": 22,
   "metadata": {},
   "outputs": [
    {
     "data": {
      "text/plain": [
       "array([[2, 1, 4],\n",
       "       [0, 3, 0],\n",
       "       [1, 5, 0]])"
      ]
     },
     "execution_count": 22,
     "metadata": {},
     "output_type": "execute_result"
    }
   ],
   "source": [
    "# ⚔️ Runnable Code\n",
    "generator_new = np.random.default_rng(seed)\n",
    "rand_val_3 = generator_new.integers(\n",
    "    low=0,\n",
    "    high=5,\n",
    "    size=(3, 3),\n",
    "    endpoint=True,\n",
    "    dtype=np.int64,\n",
    ")\n",
    "rand_val_3"
   ]
  },
  {
   "cell_type": "code",
   "execution_count": 39,
   "metadata": {},
   "outputs": [],
   "source": [
    "assert (rand_val_1 == rand_val_3).all()"
   ]
  },
  {
   "attachments": {},
   "cell_type": "markdown",
   "metadata": {},
   "source": [
    "### Pseudo Random Zero Sharing (PRZS)"
   ]
  },
  {
   "cell_type": "code",
   "execution_count": 40,
   "metadata": {},
   "outputs": [
    {
     "name": "stdout",
     "output_type": "stream",
     "text": [
      "PRG(S1, S2, S3): 1 4 0\n"
     ]
    }
   ],
   "source": [
    "prg_s1 = generator.integers(0, 10)\n",
    "prg_s2 = generator.integers(0, 10)\n",
    "prg_s3 = generator.integers(0, 10)\n",
    "print(\"PRG(S1, S2, S3):\", prg_s1, prg_s2, prg_s3)\n"
   ]
  },
  {
   "cell_type": "code",
   "execution_count": 46,
   "metadata": {},
   "outputs": [
    {
     "name": "stdout",
     "output_type": "stream",
     "text": [
      "przs_p1 = 1, przs_p2 = 3, przs_p3 = -4\n",
      "przs_p1 + przs_p2 + przs_p3 = 0\n"
     ]
    }
   ],
   "source": [
    "przs_p1 = prg_s1 - prg_s3\n",
    "przs_p2 = prg_s2 - prg_s1\n",
    "przs_p3 = prg_s3 - prg_s2\n",
    "print(f\"przs_p1 = {przs_p1}, przs_p2 = {przs_p2}, przs_p3 = {przs_p3}\")\n",
    "print(f\"{przs_p1 + przs_p2 + przs_p3 = }\")\n",
    "assert (przs_p1 + przs_p2 + przs_p3) == 0"
   ]
  },
  {
   "attachments": {},
   "cell_type": "markdown",
   "metadata": {},
   "source": [
    "### `DP` and `SMPC`"
   ]
  },
  {
   "cell_type": "code",
   "execution_count": 1,
   "metadata": {},
   "outputs": [
    {
     "name": "stdout",
     "output_type": "stream",
     "text": [
      "0.7.0\n"
     ]
    }
   ],
   "source": [
    "import hagrid\n",
    "import syft as sy\n",
    "print(sy.__version__)"
   ]
  },
  {
   "cell_type": "code",
   "execution_count": 2,
   "metadata": {},
   "outputs": [
    {
     "data": {
      "text/html": [
       "<pre style=\"white-space:pre;overflow-x:auto;line-height:normal;font-family:Menlo,'DejaVu Sans Mono',consolas,'Courier New',monospace\">┏━━━━━━━━━━━┳━━━━━━━━━━━━━━━━━━━━━━━━━━━━━━━━━━━━━━━━━━━┳━━━━┓\n",
       "┃<span style=\"font-weight: bold\"> PyGrid    </span>┃<span style=\"font-weight: bold\"> Info                                      </span>┃<span style=\"font-weight: bold\">    </span>┃\n",
       "┡━━━━━━━━━━━╇━━━━━━━━━━━━━━━━━━━━━━━━━━━━━━━━━━━━━━━━━━━╇━━━━┩\n",
       "│<span style=\"color: #800080; text-decoration-color: #800080\"> UI (βeta) </span>│ http://localhost:8081/login               │ ✅ │\n",
       "│<span style=\"color: #800080; text-decoration-color: #800080\"> api       </span>│ http://localhost:8081/api/v1/openapi.json │ ✅ │\n",
       "└───────────┴───────────────────────────────────────────┴────┘\n",
       "</pre>\n"
      ],
      "text/plain": [
       "┏━━━━━━━━━━━┳━━━━━━━━━━━━━━━━━━━━━━━━━━━━━━━━━━━━━━━━━━━┳━━━━┓\n",
       "┃\u001b[1m \u001b[0m\u001b[1mPyGrid   \u001b[0m\u001b[1m \u001b[0m┃\u001b[1m \u001b[0m\u001b[1mInfo                                     \u001b[0m\u001b[1m \u001b[0m┃\u001b[1m \u001b[0m\u001b[1m  \u001b[0m\u001b[1m \u001b[0m┃\n",
       "┡━━━━━━━━━━━╇━━━━━━━━━━━━━━━━━━━━━━━━━━━━━━━━━━━━━━━━━━━╇━━━━┩\n",
       "│\u001b[35m \u001b[0m\u001b[35mUI (βeta)\u001b[0m\u001b[35m \u001b[0m│ http://localhost:8081/login               │ ✅ │\n",
       "│\u001b[35m \u001b[0m\u001b[35mapi      \u001b[0m\u001b[35m \u001b[0m│ http://localhost:8081/api/v1/openapi.json │ ✅ │\n",
       "└───────────┴───────────────────────────────────────────┴────┘\n"
      ]
     },
     "metadata": {},
     "output_type": "display_data"
    }
   ],
   "source": [
    "hagrid.check(\"localhost:8081\")"
   ]
  },
  {
   "cell_type": "code",
   "execution_count": 5,
   "metadata": {},
   "outputs": [
    {
     "data": {
      "text/html": [
       "<pre style=\"white-space:pre;overflow-x:auto;line-height:normal;font-family:Menlo,'DejaVu Sans Mono',consolas,'Courier New',monospace\">┏━━━━━━━━━━━┳━━━━━━━━━━━━━━━━━━━━━━━━━━━━━━━━━━━━━━━━━━━┳━━━━┓\n",
       "┃<span style=\"font-weight: bold\"> PyGrid    </span>┃<span style=\"font-weight: bold\"> Info                                      </span>┃<span style=\"font-weight: bold\">    </span>┃\n",
       "┡━━━━━━━━━━━╇━━━━━━━━━━━━━━━━━━━━━━━━━━━━━━━━━━━━━━━━━━━╇━━━━┩\n",
       "│<span style=\"color: #800080; text-decoration-color: #800080\"> UI (βeta) </span>│ http://localhost:8082/login               │ ✅ │\n",
       "│<span style=\"color: #800080; text-decoration-color: #800080\"> api       </span>│ http://localhost:8082/api/v1/openapi.json │ ✅ │\n",
       "└───────────┴───────────────────────────────────────────┴────┘\n",
       "</pre>\n"
      ],
      "text/plain": [
       "┏━━━━━━━━━━━┳━━━━━━━━━━━━━━━━━━━━━━━━━━━━━━━━━━━━━━━━━━━┳━━━━┓\n",
       "┃\u001b[1m \u001b[0m\u001b[1mPyGrid   \u001b[0m\u001b[1m \u001b[0m┃\u001b[1m \u001b[0m\u001b[1mInfo                                     \u001b[0m\u001b[1m \u001b[0m┃\u001b[1m \u001b[0m\u001b[1m  \u001b[0m\u001b[1m \u001b[0m┃\n",
       "┡━━━━━━━━━━━╇━━━━━━━━━━━━━━━━━━━━━━━━━━━━━━━━━━━━━━━━━━━╇━━━━┩\n",
       "│\u001b[35m \u001b[0m\u001b[35mUI (βeta)\u001b[0m\u001b[35m \u001b[0m│ http://localhost:8082/login               │ ✅ │\n",
       "│\u001b[35m \u001b[0m\u001b[35mapi      \u001b[0m\u001b[35m \u001b[0m│ http://localhost:8082/api/v1/openapi.json │ ✅ │\n",
       "└───────────┴───────────────────────────────────────────┴────┘\n"
      ]
     },
     "metadata": {},
     "output_type": "display_data"
    }
   ],
   "source": [
    "hagrid.check(\"localhost:8082\")"
   ]
  },
  {
   "cell_type": "code",
   "execution_count": 6,
   "metadata": {},
   "outputs": [
    {
     "name": "stdout",
     "output_type": "stream",
     "text": [
      "\u001b[93mWARNING:\u001b[0m CHANGE YOUR USERNAME AND PASSWORD!!! \n",
      "\n",
      "Anyone can login as an admin to your node right now because your password is still the default PySyft username and password!!!\n",
      "\n",
      "Connecting to localhost... done! \t Logging into alice... done!\n"
     ]
    }
   ],
   "source": [
    "alice_domain = sy.login(email=\"info@openmined.org\", \n",
    "                        password=\"changethis\", \n",
    "                        port=8081)\n"
   ]
  },
  {
   "cell_type": "code",
   "execution_count": 7,
   "metadata": {},
   "outputs": [
    {
     "name": "stdout",
     "output_type": "stream",
     "text": [
      "\u001b[93mWARNING:\u001b[0m CHANGE YOUR USERNAME AND PASSWORD!!! \n",
      "\n",
      "Anyone can login as an admin to your node right now because your password is still the default PySyft username and password!!!\n",
      "\n",
      "Connecting to localhost... done! \t Logging into bob... done!\n"
     ]
    }
   ],
   "source": [
    "bob_domain = sy.login(email=\"info@openmined.org\", \n",
    "                      password=\"changethis\", \n",
    "                      port=8082)"
   ]
  },
  {
   "cell_type": "code",
   "execution_count": 4,
   "metadata": {},
   "outputs": [
    {
     "name": "stdout",
     "output_type": "stream",
     "text": [
      "Tensor annotated with DP Metadata!\n",
      "You can upload this Tensor to a domain node by calling `<domain_client>.load_dataset` and passing in this tensor as an asset.\n",
      "Tensor annotated with DP Metadata!\n",
      "You can upload this Tensor to a domain node by calling `<domain_client>.load_dataset` and passing in this tensor as an asset.\n",
      "Tensor(child=PhiTensor(child=[1 2 3], min_vals=<lazyrepeatarray data: [0] -> shape: (3,)>, max_vals=<lazyrepeatarray data: [4] -> shape: (3,)>))\n",
      "Tensor(child=PhiTensor(child=[3 2 1], min_vals=<lazyrepeatarray data: [0] -> shape: (3,)>, max_vals=<lazyrepeatarray data: [4] -> shape: (3,)>))\n"
     ]
    },
    {
     "name": "stderr",
     "output_type": "stream",
     "text": [
      "/tmp/ipykernel_8099/1078298048.py:5: DeprecationWarning: This method is deprecated in v0.7.0 and will be removed in future version updates. It is replaced with `annotate_with_dp_metadata` to provide a user-friendly experience. One can call `help(syft.Tensor.annotate_with_dp_metadata)` to learn more about its use.\n",
      "  a = sy.Tensor(real_a).private(min_val=0, max_val=4, data_subject=DataSubject(\"alice\")) # Alice's data\n",
      "/tmp/ipykernel_8099/1078298048.py:6: DeprecationWarning: This method is deprecated in v0.7.0 and will be removed in future version updates. It is replaced with `annotate_with_dp_metadata` to provide a user-friendly experience. One can call `help(syft.Tensor.annotate_with_dp_metadata)` to learn more about its use.\n",
      "  b = sy.Tensor(real_b).private(min_val=0, max_val=4, data_subject=DataSubject(\"bob\")) # Bob's data\n"
     ]
    }
   ],
   "source": [
    "from syft.core.adp.data_subject import DataSubject\n",
    "import numpy as np\n",
    "real_a = np.array([1, 2, 3])\n",
    "real_b = np.array([3, 2, 1])\n",
    "a = sy.Tensor(real_a).private(min_val=0, max_val=4, data_subject=DataSubject(\"alice\")) # Alice's data  \n",
    "b = sy.Tensor(real_b).private(min_val=0, max_val=4, data_subject=DataSubject(\"bob\")) # Bob's data\n",
    "print(a)\n",
    "print(b)"
   ]
  },
  {
   "cell_type": "code",
   "execution_count": 8,
   "metadata": {},
   "outputs": [
    {
     "name": "stderr",
     "output_type": "stream",
     "text": [
      "kj/filesystem-disk-unix.c++:1690: warning: PWD environment variable doesn't match current directory; pwd = /home/dk\n"
     ]
    },
    {
     "name": "stdout",
     "output_type": "stream",
     "text": [
      "Loading dataset... uploading...🚀                                                                                                                                             "
     ]
    },
    {
     "name": "stderr",
     "output_type": "stream",
     "text": [
      "Uploading `alice_data`: 100%|\u001b[32m█████████████████████████████████████████\u001b[0m| 1/1 [00:00<00:00,  4.40it/s]\u001b[0m\n"
     ]
    },
    {
     "name": "stdout",
     "output_type": "stream",
     "text": [
      "Dataset is uploaded successfully !!! 🎉\n",
      "\n",
      "Run `<your client variable>.datasets` to see your new dataset loaded into your machine!\n",
      "Loading dataset... uploading...🚀                                                                                                                                             "
     ]
    },
    {
     "name": "stderr",
     "output_type": "stream",
     "text": [
      "Uploading `bob_data`: 100%|\u001b[32m███████████████████████████████████████████\u001b[0m| 1/1 [00:00<00:00,  4.12it/s]\u001b[0m"
     ]
    },
    {
     "name": "stdout",
     "output_type": "stream",
     "text": [
      "Dataset is uploaded successfully !!! 🎉\n",
      "\n",
      "Run `<your client variable>.datasets` to see your new dataset loaded into your machine!\n"
     ]
    },
    {
     "name": "stderr",
     "output_type": "stream",
     "text": [
      "\n"
     ]
    }
   ],
   "source": [
    "alice_domain.load_dataset(\n",
    "    assets={\"alice_data\": a},\n",
    "    name=\"alice_dataset\",\n",
    "    description=\"Alice's Private Data\",\n",
    ")\n",
    "\n",
    "bob_domain.load_dataset(\n",
    "    assets={\"bob_data\": b},\n",
    "    name=\"bob_dataset\",\n",
    "    description=\"Bob's Private Data\", \n",
    ")"
   ]
  },
  {
   "cell_type": "code",
   "execution_count": 10,
   "metadata": {},
   "outputs": [
    {
     "name": "stdout",
     "output_type": "stream",
     "text": [
      "User created successfully!\n"
     ]
    },
    {
     "data": {
      "text/plain": [
       "{'name': 'Alice Amidala',\n",
       " 'email': 'alice@naboo.net',\n",
       " 'password': 'gungan',\n",
       " 'url': 'localhost'}"
      ]
     },
     "execution_count": 10,
     "metadata": {},
     "output_type": "execute_result"
    }
   ],
   "source": [
    "starting_budget = starting_budget = 999999\n",
    "alice_domain.create_user(\n",
    "    name = \"Alice Amidala\",\n",
    "    email = \"alice@naboo.net\",\n",
    "    password = \"gungan\",\n",
    "    budget = starting_budget,\n",
    ")"
   ]
  },
  {
   "cell_type": "code",
   "execution_count": 12,
   "metadata": {},
   "outputs": [
    {
     "name": "stdout",
     "output_type": "stream",
     "text": [
      "User created successfully!\n"
     ]
    },
    {
     "data": {
      "text/plain": [
       "{'name': 'Bob Afett',\n",
       " 'email': 'bob@hutt.pizza',\n",
       " 'password': 'hansolo',\n",
       " 'url': 'localhost'}"
      ]
     },
     "execution_count": 12,
     "metadata": {},
     "output_type": "execute_result"
    }
   ],
   "source": [
    "bob_domain.create_user(\n",
    "    name = \"Bob Afett\",\n",
    "    email = \"bob@hutt.pizza\",\n",
    "    password = \"hansolo\",\n",
    "    budget = starting_budget,\n",
    ")"
   ]
  },
  {
   "cell_type": "code",
   "execution_count": 13,
   "metadata": {},
   "outputs": [
    {
     "name": "stdout",
     "output_type": "stream",
     "text": [
      "Connecting to localhost... done! \t Logging into alice... done!\n"
     ]
    }
   ],
   "source": [
    "alice_ds = sy.login(port=8081, \n",
    "                    email=\"alice@naboo.net\", \n",
    "                    password=\"gungan\")"
   ]
  },
  {
   "cell_type": "code",
   "execution_count": 14,
   "metadata": {},
   "outputs": [
    {
     "name": "stdout",
     "output_type": "stream",
     "text": [
      "Connecting to localhost... done! \t Logging into bob... done!\n"
     ]
    }
   ],
   "source": [
    "bob_ds = sy.login(port=8082, \n",
    "                  email=\"bob@hutt.pizza\", \n",
    "                  password=\"hansolo\")"
   ]
  },
  {
   "cell_type": "code",
   "execution_count": 27,
   "metadata": {},
   "outputs": [
    {
     "data": {
      "text/plain": [
       "PointerId: 7bbd11b8c2254345bcef7db9d38ad94f\n",
       "Status: \u001b[92mReady\u001b[0m\n",
       "Representation: array([3, 1, 3])\n",
       "\n",
       "(The data printed above is synthetic - it's an imitation of the real data.)"
      ]
     },
     "execution_count": 27,
     "metadata": {},
     "output_type": "execute_result"
    }
   ],
   "source": [
    "alice_ds.datasets[-1][\"alice_data\"]"
   ]
  },
  {
   "cell_type": "code",
   "execution_count": 28,
   "metadata": {},
   "outputs": [
    {
     "data": {
      "text/plain": [
       "PointerId: b49ea99f3ca44b45b4ed65d3a5aea42b\n",
       "Status: \u001b[92mReady\u001b[0m\n",
       "Representation: array([1, 0, 0])\n",
       "\n",
       "(The data printed above is synthetic - it's an imitation of the real data.)"
      ]
     },
     "execution_count": 28,
     "metadata": {},
     "output_type": "execute_result"
    }
   ],
   "source": [
    "bob_ds.datasets[-1][\"bob_data\"]"
   ]
  },
  {
   "cell_type": "code",
   "execution_count": 19,
   "metadata": {},
   "outputs": [],
   "source": [
    "res = alice_ds.datasets[-1][\"alice_data\"] * bob_ds.datasets[-1][\"bob_data\"]"
   ]
  },
  {
   "cell_type": "code",
   "execution_count": 25,
   "metadata": {},
   "outputs": [
    {
     "data": {
      "text/plain": [
       "\n",
       "\n",
       "MPCTensor.shape=(3,)\n",
       "\t .child[0] = <TensorPointer -> alice:8ba981fa2a7cb361ddc49eaf9105c3f0, status=\u001b[93mProcessing\u001b[0m>\n",
       "\t .child[1] = <TensorPointer -> bob:8ba981fa2a7cb361ddc49eaf9105c3f0, status=\u001b[93mProcessing\u001b[0m>"
      ]
     },
     "execution_count": 25,
     "metadata": {},
     "output_type": "execute_result"
    }
   ],
   "source": [
    "res"
   ]
  },
  {
   "cell_type": "code",
   "execution_count": 29,
   "metadata": {},
   "outputs": [],
   "source": [
    "res.request(\"I want it!\")"
   ]
  },
  {
   "cell_type": "code",
   "execution_count": 34,
   "metadata": {},
   "outputs": [
    {
     "data": {
      "text/html": [
       "<div>\n",
       "<style scoped>\n",
       "    .dataframe tbody tr th:only-of-type {\n",
       "        vertical-align: middle;\n",
       "    }\n",
       "\n",
       "    .dataframe tbody tr th {\n",
       "        vertical-align: top;\n",
       "    }\n",
       "\n",
       "    .dataframe thead th {\n",
       "        text-align: right;\n",
       "    }\n",
       "</style>\n",
       "<table border=\"1\" class=\"dataframe\">\n",
       "  <thead>\n",
       "    <tr style=\"text-align: right;\">\n",
       "      <th></th>\n",
       "    </tr>\n",
       "  </thead>\n",
       "  <tbody>\n",
       "  </tbody>\n",
       "</table>\n",
       "</div>"
      ],
      "text/plain": [
       "[]"
      ]
     },
     "execution_count": 34,
     "metadata": {},
     "output_type": "execute_result"
    }
   ],
   "source": [
    "bob_domain.requests"
   ]
  },
  {
   "cell_type": "code",
   "execution_count": 32,
   "metadata": {},
   "outputs": [
    {
     "name": "stdout",
     "output_type": "stream",
     "text": [
      "Requested 11 epsilon of budget. Call .privacy_budget to see if your budget has arrived!\n"
     ]
    },
    {
     "data": {
      "text/html": [
       "<div>\n",
       "<style scoped>\n",
       "    .dataframe tbody tr th:only-of-type {\n",
       "        vertical-align: middle;\n",
       "    }\n",
       "\n",
       "    .dataframe tbody tr th {\n",
       "        vertical-align: top;\n",
       "    }\n",
       "\n",
       "    .dataframe thead th {\n",
       "        text-align: right;\n",
       "    }\n",
       "</style>\n",
       "<table border=\"1\" class=\"dataframe\">\n",
       "  <thead>\n",
       "    <tr style=\"text-align: right;\">\n",
       "      <th></th>\n",
       "      <th>Name</th>\n",
       "      <th>Email</th>\n",
       "      <th>Role</th>\n",
       "      <th>Request Type</th>\n",
       "      <th>Status</th>\n",
       "      <th>Reason</th>\n",
       "      <th>Request ID</th>\n",
       "      <th>Requested Object's ID</th>\n",
       "      <th>Requested Object's tags</th>\n",
       "      <th>Requested Budget</th>\n",
       "      <th>Current Budget</th>\n",
       "    </tr>\n",
       "  </thead>\n",
       "  <tbody>\n",
       "    <tr>\n",
       "      <th>0</th>\n",
       "      <td>Alice Amidala</td>\n",
       "      <td>alice@naboo.net</td>\n",
       "      <td>Data Scientist</td>\n",
       "      <td>BUDGET</td>\n",
       "      <td>pending</td>\n",
       "      <td>I would like additional privacy budget to perf...</td>\n",
       "      <td>&lt;UID: 0fb85f5567984420bab8a2db79f3f176&gt;</td>\n",
       "      <td>None</td>\n",
       "      <td>[]</td>\n",
       "      <td>11.0</td>\n",
       "      <td>999999.0</td>\n",
       "    </tr>\n",
       "  </tbody>\n",
       "</table>\n",
       "</div>"
      ],
      "text/plain": [
       "[]"
      ]
     },
     "execution_count": 32,
     "metadata": {},
     "output_type": "execute_result"
    }
   ],
   "source": [
    "alice_ds.request_budget(eps=11, reason=\"I would like additional privacy budget to perfom computation\")\n",
    "alice_domain.requests"
   ]
  },
  {
   "cell_type": "code",
   "execution_count": 26,
   "metadata": {},
   "outputs": [
    {
     "name": "stdout",
     "output_type": "stream",
     "text": [
      "Unable to json decode message. Expecting value: line 1 column 1 (char 0)\n"
     ]
    },
    {
     "ename": "JSONDecodeError",
     "evalue": "Expecting value: line 1 column 1 (char 0)",
     "output_type": "error",
     "traceback": [
      "\u001b[0;31m---------------------------------------------------------------------------\u001b[0m",
      "\u001b[0;31mJSONDecodeError\u001b[0m                           Traceback (most recent call last)",
      "Cell \u001b[0;32mIn[26], line 1\u001b[0m\n\u001b[0;32m----> 1\u001b[0m pub_res \u001b[39m=\u001b[39m res\u001b[39m.\u001b[39;49mpublish(sigma\u001b[39m=\u001b[39;49m\u001b[39m0.1\u001b[39;49m)\n",
      "File \u001b[0;32m~/.hagrid/quickstart/.venv/lib/python3.10/site-packages/syft/core/tensor/smpc/mpc_tensor.py:210\u001b[0m, in \u001b[0;36mMPCTensor.publish\u001b[0;34m(self, sigma, private)\u001b[0m\n\u001b[1;32m    207\u001b[0m new_shares \u001b[39m=\u001b[39m []\n\u001b[1;32m    209\u001b[0m \u001b[39mfor\u001b[39;00m share \u001b[39min\u001b[39;00m \u001b[39mself\u001b[39m\u001b[39m.\u001b[39mchild:\n\u001b[0;32m--> 210\u001b[0m     share\u001b[39m.\u001b[39;49mblock\n\u001b[1;32m    212\u001b[0m \u001b[39mfor\u001b[39;00m share \u001b[39min\u001b[39;00m \u001b[39mself\u001b[39m\u001b[39m.\u001b[39mchild:\n\u001b[1;32m    213\u001b[0m     new_share \u001b[39m=\u001b[39m share\u001b[39m.\u001b[39mpublish(sigma\u001b[39m=\u001b[39msigma, private\u001b[39m=\u001b[39mprivate)\n",
      "File \u001b[0;32m~/.hagrid/quickstart/.venv/lib/python3.10/site-packages/syft/core/pointer/pointer.py:166\u001b[0m, in \u001b[0;36mPointer.block\u001b[0;34m(self)\u001b[0m\n\u001b[1;32m    164\u001b[0m \u001b[39m@property\u001b[39m\n\u001b[1;32m    165\u001b[0m \u001b[39mdef\u001b[39;00m \u001b[39mblock\u001b[39m(\u001b[39mself\u001b[39m) \u001b[39m-\u001b[39m\u001b[39m>\u001b[39m AbstractPointer:\n\u001b[0;32m--> 166\u001b[0m     \u001b[39mwhile\u001b[39;00m \u001b[39mnot\u001b[39;00m \u001b[39mself\u001b[39;49m\u001b[39m.\u001b[39;49mexists:\n\u001b[1;32m    167\u001b[0m         time\u001b[39m.\u001b[39msleep(\u001b[39m0.1\u001b[39m)\n\u001b[1;32m    168\u001b[0m     \u001b[39mreturn\u001b[39;00m \u001b[39mself\u001b[39m\n",
      "File \u001b[0;32m~/.hagrid/quickstart/.venv/lib/python3.10/site-packages/syft/core/pointer/pointer.py:191\u001b[0m, in \u001b[0;36mPointer.exists\u001b[0;34m(self)\u001b[0m\n\u001b[1;32m    185\u001b[0m \u001b[39m@property\u001b[39m\n\u001b[1;32m    186\u001b[0m \u001b[39mdef\u001b[39;00m \u001b[39mexists\u001b[39m(\u001b[39mself\u001b[39m) \u001b[39m-\u001b[39m\u001b[39m>\u001b[39m \u001b[39mbool\u001b[39m:\n\u001b[1;32m    187\u001b[0m \u001b[39m    \u001b[39m\u001b[39m\"\"\"Sometimes pointers can point to objects which either have not yet\u001b[39;00m\n\u001b[1;32m    188\u001b[0m \u001b[39m    been created or were created but have now been destroyed. This method\u001b[39;00m\n\u001b[1;32m    189\u001b[0m \u001b[39m    asks a remote node whether the object this pointer is pointing to can be\u001b[39;00m\n\u001b[1;32m    190\u001b[0m \u001b[39m    found in the database.\"\"\"\u001b[39;00m\n\u001b[0;32m--> 191\u001b[0m     \u001b[39mreturn\u001b[39;00m \u001b[39mself\u001b[39;49m\u001b[39m.\u001b[39;49mclient\u001b[39m.\u001b[39;49mobj_exists(obj_id\u001b[39m=\u001b[39;49m\u001b[39mself\u001b[39;49m\u001b[39m.\u001b[39;49mid_at_location)\n",
      "File \u001b[0;32m~/.hagrid/quickstart/.venv/lib/python3.10/site-packages/syft/core/node/domain_client.py:337\u001b[0m, in \u001b[0;36mDomainClient.obj_exists\u001b[0;34m(self, obj_id)\u001b[0m\n\u001b[1;32m    335\u001b[0m \u001b[39mdef\u001b[39;00m \u001b[39mobj_exists\u001b[39m(\u001b[39mself\u001b[39m, obj_id: UID) \u001b[39m-\u001b[39m\u001b[39m>\u001b[39m \u001b[39mbool\u001b[39m:\n\u001b[1;32m    336\u001b[0m     msg \u001b[39m=\u001b[39m DoesObjectExistMessage(obj_id\u001b[39m=\u001b[39mobj_id)\n\u001b[0;32m--> 337\u001b[0m     \u001b[39mreturn\u001b[39;00m \u001b[39mself\u001b[39;49m\u001b[39m.\u001b[39;49msend_immediate_msg_with_reply(msg\u001b[39m=\u001b[39;49mmsg)\u001b[39m.\u001b[39mpayload\n",
      "File \u001b[0;32m~/.hagrid/quickstart/.venv/lib/python3.10/site-packages/syft/core/node/common/client.py:250\u001b[0m, in \u001b[0;36mClient.send_immediate_msg_with_reply\u001b[0;34m(self, msg, timeout, return_signed, route_index, verbose)\u001b[0m\n\u001b[1;32m    247\u001b[0m     debug(output)\n\u001b[1;32m    248\u001b[0m     msg \u001b[39m=\u001b[39m msg\u001b[39m.\u001b[39msign(signing_key\u001b[39m=\u001b[39m\u001b[39mself\u001b[39m\u001b[39m.\u001b[39msigning_key)\n\u001b[0;32m--> 250\u001b[0m response \u001b[39m=\u001b[39m \u001b[39mself\u001b[39;49m\u001b[39m.\u001b[39;49mroutes[route_index]\u001b[39m.\u001b[39;49msend_immediate_msg_with_reply(\n\u001b[1;32m    251\u001b[0m     msg\u001b[39m=\u001b[39;49mmsg, timeout\u001b[39m=\u001b[39;49mtimeout\n\u001b[1;32m    252\u001b[0m )\n\u001b[1;32m    253\u001b[0m \u001b[39mif\u001b[39;00m response\u001b[39m.\u001b[39mis_valid:\n\u001b[1;32m    254\u001b[0m     \u001b[39m# check if we have an ExceptionMessage to trigger a local exception\u001b[39;00m\n\u001b[1;32m    255\u001b[0m     \u001b[39m# from a remote exception that we caused\u001b[39;00m\n\u001b[1;32m    256\u001b[0m     \u001b[39mif\u001b[39;00m \u001b[39misinstance\u001b[39m(response\u001b[39m.\u001b[39mmessage, ExceptionMessage):\n",
      "File \u001b[0;32m~/.hagrid/quickstart/.venv/lib/python3.10/site-packages/syft/core/io/route.py:195\u001b[0m, in \u001b[0;36mSoloRoute.send_immediate_msg_with_reply\u001b[0;34m(self, msg, timeout, return_signed)\u001b[0m\n\u001b[1;32m    189\u001b[0m \u001b[39mdef\u001b[39;00m \u001b[39msend_immediate_msg_with_reply\u001b[39m(\n\u001b[1;32m    190\u001b[0m     \u001b[39mself\u001b[39m,\n\u001b[1;32m    191\u001b[0m     msg: SignedImmediateSyftMessageWithReply,\n\u001b[1;32m    192\u001b[0m     timeout: Optional[\u001b[39mfloat\u001b[39m] \u001b[39m=\u001b[39m \u001b[39mNone\u001b[39;00m,\n\u001b[1;32m    193\u001b[0m     return_signed: \u001b[39mbool\u001b[39m \u001b[39m=\u001b[39m \u001b[39mFalse\u001b[39;00m,\n\u001b[1;32m    194\u001b[0m ) \u001b[39m-\u001b[39m\u001b[39m>\u001b[39m SignedImmediateSyftMessageWithoutReply:\n\u001b[0;32m--> 195\u001b[0m     \u001b[39mreturn\u001b[39;00m \u001b[39mself\u001b[39;49m\u001b[39m.\u001b[39;49mconnection\u001b[39m.\u001b[39;49msend_immediate_msg_with_reply(msg\u001b[39m=\u001b[39;49mmsg, timeout\u001b[39m=\u001b[39;49mtimeout)\n",
      "File \u001b[0;32m~/.hagrid/quickstart/.venv/lib/python3.10/site-packages/syft/grid/connections/http_connection.py:64\u001b[0m, in \u001b[0;36mHTTPConnection.send_immediate_msg_with_reply\u001b[0;34m(self, msg, timeout, return_signed)\u001b[0m\n\u001b[1;32m     62\u001b[0m \u001b[39mexcept\u001b[39;00m \u001b[39mException\u001b[39;00m \u001b[39mas\u001b[39;00m e:\n\u001b[1;32m     63\u001b[0m     \u001b[39mprint\u001b[39m(\u001b[39mf\u001b[39m\u001b[39m\"\u001b[39m\u001b[39mUnable to json decode message. \u001b[39m\u001b[39m{\u001b[39;00me\u001b[39m}\u001b[39;00m\u001b[39m\"\u001b[39m)\n\u001b[0;32m---> 64\u001b[0m     \u001b[39mraise\u001b[39;00m e\n",
      "File \u001b[0;32m~/.hagrid/quickstart/.venv/lib/python3.10/site-packages/syft/grid/connections/http_connection.py:60\u001b[0m, in \u001b[0;36mHTTPConnection.send_immediate_msg_with_reply\u001b[0;34m(self, msg, timeout, return_signed)\u001b[0m\n\u001b[1;32m     57\u001b[0m     \u001b[39mreturn\u001b[39;00m _deserialize(blob\u001b[39m=\u001b[39mresponse\u001b[39m.\u001b[39mcontent, from_bytes\u001b[39m=\u001b[39m\u001b[39mTrue\u001b[39;00m)\n\u001b[1;32m     59\u001b[0m \u001b[39mtry\u001b[39;00m:\n\u001b[0;32m---> 60\u001b[0m     response_json \u001b[39m=\u001b[39m json\u001b[39m.\u001b[39;49mloads(response\u001b[39m.\u001b[39;49mcontent)\n\u001b[1;32m     61\u001b[0m     \u001b[39mraise\u001b[39;00m RequestAPIException(response_json[RequestAPIFields\u001b[39m.\u001b[39mERROR])\n\u001b[1;32m     62\u001b[0m \u001b[39mexcept\u001b[39;00m \u001b[39mException\u001b[39;00m \u001b[39mas\u001b[39;00m e:\n",
      "File \u001b[0;32m~/miniconda3/envs/syft/lib/python3.10/json/__init__.py:346\u001b[0m, in \u001b[0;36mloads\u001b[0;34m(s, cls, object_hook, parse_float, parse_int, parse_constant, object_pairs_hook, **kw)\u001b[0m\n\u001b[1;32m    341\u001b[0m     s \u001b[39m=\u001b[39m s\u001b[39m.\u001b[39mdecode(detect_encoding(s), \u001b[39m'\u001b[39m\u001b[39msurrogatepass\u001b[39m\u001b[39m'\u001b[39m)\n\u001b[1;32m    343\u001b[0m \u001b[39mif\u001b[39;00m (\u001b[39mcls\u001b[39m \u001b[39mis\u001b[39;00m \u001b[39mNone\u001b[39;00m \u001b[39mand\u001b[39;00m object_hook \u001b[39mis\u001b[39;00m \u001b[39mNone\u001b[39;00m \u001b[39mand\u001b[39;00m\n\u001b[1;32m    344\u001b[0m         parse_int \u001b[39mis\u001b[39;00m \u001b[39mNone\u001b[39;00m \u001b[39mand\u001b[39;00m parse_float \u001b[39mis\u001b[39;00m \u001b[39mNone\u001b[39;00m \u001b[39mand\u001b[39;00m\n\u001b[1;32m    345\u001b[0m         parse_constant \u001b[39mis\u001b[39;00m \u001b[39mNone\u001b[39;00m \u001b[39mand\u001b[39;00m object_pairs_hook \u001b[39mis\u001b[39;00m \u001b[39mNone\u001b[39;00m \u001b[39mand\u001b[39;00m \u001b[39mnot\u001b[39;00m kw):\n\u001b[0;32m--> 346\u001b[0m     \u001b[39mreturn\u001b[39;00m _default_decoder\u001b[39m.\u001b[39;49mdecode(s)\n\u001b[1;32m    347\u001b[0m \u001b[39mif\u001b[39;00m \u001b[39mcls\u001b[39m \u001b[39mis\u001b[39;00m \u001b[39mNone\u001b[39;00m:\n\u001b[1;32m    348\u001b[0m     \u001b[39mcls\u001b[39m \u001b[39m=\u001b[39m JSONDecoder\n",
      "File \u001b[0;32m~/miniconda3/envs/syft/lib/python3.10/json/decoder.py:337\u001b[0m, in \u001b[0;36mJSONDecoder.decode\u001b[0;34m(self, s, _w)\u001b[0m\n\u001b[1;32m    332\u001b[0m \u001b[39mdef\u001b[39;00m \u001b[39mdecode\u001b[39m(\u001b[39mself\u001b[39m, s, _w\u001b[39m=\u001b[39mWHITESPACE\u001b[39m.\u001b[39mmatch):\n\u001b[1;32m    333\u001b[0m \u001b[39m    \u001b[39m\u001b[39m\"\"\"Return the Python representation of ``s`` (a ``str`` instance\u001b[39;00m\n\u001b[1;32m    334\u001b[0m \u001b[39m    containing a JSON document).\u001b[39;00m\n\u001b[1;32m    335\u001b[0m \n\u001b[1;32m    336\u001b[0m \u001b[39m    \"\"\"\u001b[39;00m\n\u001b[0;32m--> 337\u001b[0m     obj, end \u001b[39m=\u001b[39m \u001b[39mself\u001b[39;49m\u001b[39m.\u001b[39;49mraw_decode(s, idx\u001b[39m=\u001b[39;49m_w(s, \u001b[39m0\u001b[39;49m)\u001b[39m.\u001b[39;49mend())\n\u001b[1;32m    338\u001b[0m     end \u001b[39m=\u001b[39m _w(s, end)\u001b[39m.\u001b[39mend()\n\u001b[1;32m    339\u001b[0m     \u001b[39mif\u001b[39;00m end \u001b[39m!=\u001b[39m \u001b[39mlen\u001b[39m(s):\n",
      "File \u001b[0;32m~/miniconda3/envs/syft/lib/python3.10/json/decoder.py:355\u001b[0m, in \u001b[0;36mJSONDecoder.raw_decode\u001b[0;34m(self, s, idx)\u001b[0m\n\u001b[1;32m    353\u001b[0m     obj, end \u001b[39m=\u001b[39m \u001b[39mself\u001b[39m\u001b[39m.\u001b[39mscan_once(s, idx)\n\u001b[1;32m    354\u001b[0m \u001b[39mexcept\u001b[39;00m \u001b[39mStopIteration\u001b[39;00m \u001b[39mas\u001b[39;00m err:\n\u001b[0;32m--> 355\u001b[0m     \u001b[39mraise\u001b[39;00m JSONDecodeError(\u001b[39m\"\u001b[39m\u001b[39mExpecting value\u001b[39m\u001b[39m\"\u001b[39m, s, err\u001b[39m.\u001b[39mvalue) \u001b[39mfrom\u001b[39;00m \u001b[39mNone\u001b[39m\n\u001b[1;32m    356\u001b[0m \u001b[39mreturn\u001b[39;00m obj, end\n",
      "\u001b[0;31mJSONDecodeError\u001b[0m: Expecting value: line 1 column 1 (char 0)"
     ]
    }
   ],
   "source": [
    "pub_res = res.publish(sigma=0.1)"
   ]
  },
  {
   "cell_type": "code",
   "execution_count": null,
   "metadata": {},
   "outputs": [],
   "source": [
    "print(pub_res.child[0].exists)\n",
    "print(pub_res.child[1].exists)"
   ]
  },
  {
   "cell_type": "code",
   "execution_count": null,
   "metadata": {},
   "outputs": [],
   "source": [
    "smpc_dp_res = pub_res.get(delete_obj=False)\n",
    "smpc_dp_res"
   ]
  },
  {
   "cell_type": "code",
   "execution_count": null,
   "metadata": {},
   "outputs": [],
   "source": [
    "print(\"Real Result:      = \", real_a * real_b)\n",
    "print(\"SMPC + DP Result: = \", smpc_dp_res)\n",
    "print(\"Difference:       = \", abs(real_a * real_b - smpc_dp_res) / (real_a * real_b) * 100, \"%\")"
   ]
  },
  {
   "attachments": {},
   "cell_type": "markdown",
   "metadata": {},
   "source": [
    "## Trial of Alliance"
   ]
  },
  {
   "attachments": {},
   "cell_type": "markdown",
   "metadata": {},
   "source": [
    "Instructions\n",
    "\n",
    "- Your mentor will give you either an `Alpha`, `Beta`, or `Gamma` share of the secret data\n",
    "- Go to `#dagobah` and seek an Alliance with two other members that have complimentary shares\n",
    "- Start a local `domain` with your `alias` with `blob-storage` disabled\n",
    "- Connect to the Rebel Base VPN like Session 3\n",
    "- Upload your `secret-share` to your domain without DP enabled\n",
    "- Work with your counterpart to perform a `sum` on all of your shares and divide the final output by `100`\n",
    "- Take the final output and paste it into `google maps` and switch to terrain view"
   ]
  },
  {
   "cell_type": "code",
   "execution_count": null,
   "metadata": {},
   "outputs": [],
   "source": [
    "import hagrid\n",
    "import syft as sy\n",
    "sy.requires(\"==0.7\")"
   ]
  },
  {
   "attachments": {},
   "cell_type": "markdown",
   "metadata": {},
   "source": [
    "Start a local `domain` with `blob-storage` disabled"
   ]
  },
  {
   "cell_type": "code",
   "execution_count": null,
   "metadata": {},
   "outputs": [],
   "source": [
    "!hagrid launch dk domain to docker:8081 --tag=0.7.0 --tail --no-blob-storage"
   ]
  },
  {
   "cell_type": "code",
   "execution_count": null,
   "metadata": {},
   "outputs": [],
   "source": [
    "hagrid.check(\"localhost:8081\")"
   ]
  },
  {
   "cell_type": "code",
   "execution_count": null,
   "metadata": {},
   "outputs": [],
   "source": [
    "domain_client = sy.login(\n",
    "    port=8081,\n",
    "    email=\"info@openmined.org\",\n",
    "    password=\"changethis\"\n",
    ")"
   ]
  },
  {
   "attachments": {},
   "cell_type": "markdown",
   "metadata": {},
   "source": [
    "Connect to the Rebel Base VPN"
   ]
  },
  {
   "cell_type": "code",
   "execution_count": null,
   "metadata": {},
   "outputs": [],
   "source": [
    "network_client = sy.login(url=\"20.253.234.47\", port=80)"
   ]
  },
  {
   "cell_type": "code",
   "execution_count": null,
   "metadata": {},
   "outputs": [],
   "source": [
    "domain_client.apply_to_network(network_client)"
   ]
  },
  {
   "attachments": {},
   "cell_type": "markdown",
   "metadata": {},
   "source": [
    "Upload your `secret-share` to your domain without DP enabled"
   ]
  },
  {
   "cell_type": "code",
   "execution_count": null,
   "metadata": {},
   "outputs": [],
   "source": []
  },
  {
   "attachments": {},
   "cell_type": "markdown",
   "metadata": {},
   "source": [
    "Work with your alliance to perform a `sum` on all of your shares and divide the final output by `100`"
   ]
  },
  {
   "cell_type": "code",
   "execution_count": null,
   "metadata": {},
   "outputs": [],
   "source": []
  },
  {
   "attachments": {},
   "cell_type": "markdown",
   "metadata": {},
   "source": [
    "Take the final output and paste it into `google maps` and switch to terrain view"
   ]
  }
 ],
 "metadata": {
  "kernelspec": {
   "display_name": ".venv",
   "language": "python",
   "name": "python3"
  },
  "language_info": {
   "codemirror_mode": {
    "name": "ipython",
    "version": 3
   },
   "file_extension": ".py",
   "mimetype": "text/x-python",
   "name": "python",
   "nbconvert_exporter": "python",
   "pygments_lexer": "ipython3",
   "version": "3.10.9"
  },
  "orig_nbformat": 4,
  "vscode": {
   "interpreter": {
    "hash": "e3cdefe258cda4e75bc94a4ed12119270300bb9272a62755cc47309386dfe3d9"
   }
  }
 },
 "nbformat": 4,
 "nbformat_minor": 2
}

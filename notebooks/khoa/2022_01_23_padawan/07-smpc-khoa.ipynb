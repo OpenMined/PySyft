{
 "cells": [
  {
   "attachments": {},
   "cell_type": "markdown",
   "metadata": {},
   "source": [
    "# 07 - SMPC"
   ]
  },
  {
   "attachments": {},
   "cell_type": "markdown",
   "metadata": {},
   "source": [
    "## Materials"
   ]
  },
  {
   "attachments": {},
   "cell_type": "markdown",
   "metadata": {},
   "source": [
    "### `Gevent`"
   ]
  },
  {
   "attachments": {},
   "cell_type": "markdown",
   "metadata": {},
   "source": [
    "Two SMPC actions which require results from another machine on the network that takes half a second to arrive."
   ]
  },
  {
   "cell_type": "code",
   "execution_count": 1,
   "metadata": {},
   "outputs": [
    {
     "name": "stdout",
     "output_type": "stream",
     "text": [
      "Starting SMPC Action 1\n",
      "Finished SMPC Action 1\n",
      "Starting SMPC Action 2\n",
      "Finished SMPC Action 2\n",
      "\n",
      "Time to finish SMPC Action 2: 0.5\n"
     ]
    }
   ],
   "source": [
    "import gevent\n",
    "import time\n",
    "start = time.time()\n",
    "end = None\n",
    "def smpc_action_1():\n",
    "    print('Starting SMPC Action 1')\n",
    "    # waiting for some network result will block\n",
    "    time.sleep(0.5)\n",
    "    print('Finished SMPC Action 1')\n",
    "\n",
    "def smpc_action_2():\n",
    "    global end\n",
    "    print('Starting SMPC Action 2')\n",
    "    # data here no need to wait\n",
    "    time.sleep(0)\n",
    "    print('Finished SMPC Action 2')\n",
    "    end = time.time()\n",
    "\n",
    "_ = gevent.joinall([\n",
    "    gevent.spawn(smpc_action_1),\n",
    "    gevent.spawn(smpc_action_2),\n",
    "])\n",
    "print(f\"\\nTime to finish SMPC Action 2:\", round(end - start, 2))"
   ]
  },
  {
   "attachments": {},
   "cell_type": "markdown",
   "metadata": {},
   "source": [
    "We had to wait 0.5s for the `smpc_action_1` to complete. Instead if we use `gevent` we can run both actions in parallel."
   ]
  },
  {
   "cell_type": "code",
   "execution_count": 2,
   "metadata": {},
   "outputs": [
    {
     "name": "stdout",
     "output_type": "stream",
     "text": [
      "Starting SMPC Action 1\n",
      "Starting SMPC Action 2\n",
      "Finished SMPC Action 2\n",
      "Finished SMPC Action 1\n",
      "\n",
      "Time to finish SMPC Action 2: 0.0\n"
     ]
    }
   ],
   "source": [
    "import gevent\n",
    "start = time.time()\n",
    "end = None\n",
    "def smpc_action_1():\n",
    "    print('Starting SMPC Action 1')\n",
    "    # waiting for a network result doesn't matter\n",
    "    gevent.sleep(0.5)\n",
    "    print('Finished SMPC Action 1')\n",
    "\n",
    "def smpc_action_2():\n",
    "    global end\n",
    "    print('Starting SMPC Action 2')\n",
    "    # waiting for a network result doesn't matter\n",
    "    gevent.sleep(0)\n",
    "    print('Finished SMPC Action 2')\n",
    "    end = time.time()\n",
    "\n",
    "_ = gevent.joinall([\n",
    "    gevent.spawn(smpc_action_1),\n",
    "    gevent.spawn(smpc_action_2),\n",
    "])\n",
    "print(f\"\\nTime to finish SMPC Action 2:\", round(end - start, 2))"
   ]
  },
  {
   "attachments": {},
   "cell_type": "markdown",
   "metadata": {},
   "source": [
    "Since `SMPC Action 2` was ready to go, we can see that it was able to start nearly immediately and complete all while the first one was waiting on the network. This is because the `SMPC Action 1` is telling `gevent`, i'm waiting so I `yield` my CPU time to someone else."
   ]
  },
  {
   "attachments": {},
   "cell_type": "markdown",
   "metadata": {},
   "source": [
    "### SMPC in action"
   ]
  },
  {
   "cell_type": "code",
   "execution_count": 1,
   "metadata": {},
   "outputs": [
    {
     "name": "stdout",
     "output_type": "stream",
     "text": [
      "✅ The installed version of syft==0.7.0 matches the requirement ==0.7\n"
     ]
    }
   ],
   "source": [
    "import syft as sy\n",
    "sy.requires(\"==0.7\")\n",
    "import numpy as np\n",
    "\n",
    "a = sy.Tensor(np.array([1, 2, 3])) # Alice's data  \n",
    "b = sy.Tensor(np.array([4, 5, 6])) # Bob's data\n",
    "c = a + b\n",
    "d = a * b\n",
    "local_c = c\n",
    "local_d = d"
   ]
  },
  {
   "cell_type": "code",
   "execution_count": 3,
   "metadata": {},
   "outputs": [
    {
     "name": "stdout",
     "output_type": "stream",
     "text": [
      "<class 'syft.core.tensor.tensor.Tensor'>\n"
     ]
    },
    {
     "data": {
      "text/plain": [
       "Tensor(child=[5 7 9])"
      ]
     },
     "execution_count": 3,
     "metadata": {},
     "output_type": "execute_result"
    }
   ],
   "source": [
    "print(type(local_c))\n",
    "local_c"
   ]
  },
  {
   "attachments": {},
   "cell_type": "markdown",
   "metadata": {},
   "source": [
    "### 2 domains"
   ]
  },
  {
   "attachments": {},
   "cell_type": "markdown",
   "metadata": {},
   "source": [
    "Start the first `domain` named `alice`"
   ]
  },
  {
   "cell_type": "code",
   "execution_count": null,
   "metadata": {},
   "outputs": [],
   "source": [
    "!hagrid launch alice domain to docker:8081 --tag=0.7.0 --tail"
   ]
  },
  {
   "cell_type": "code",
   "execution_count": 67,
   "metadata": {},
   "outputs": [
    {
     "data": {
      "text/html": [
       "<pre style=\"white-space:pre;overflow-x:auto;line-height:normal;font-family:Menlo,'DejaVu Sans Mono',consolas,'Courier New',monospace\">┏━━━━━━━━━━━┳━━━━━━━━━━━━━━━━━━━━━━━━━━━━━━━━━━━━━━━━━━━┳━━━━┓\n",
       "┃<span style=\"font-weight: bold\"> PyGrid    </span>┃<span style=\"font-weight: bold\"> Info                                      </span>┃<span style=\"font-weight: bold\">    </span>┃\n",
       "┡━━━━━━━━━━━╇━━━━━━━━━━━━━━━━━━━━━━━━━━━━━━━━━━━━━━━━━━━╇━━━━┩\n",
       "│<span style=\"color: #800080; text-decoration-color: #800080\"> UI (βeta) </span>│ http://localhost:8081/login               │ ✅ │\n",
       "│<span style=\"color: #800080; text-decoration-color: #800080\"> api       </span>│ http://localhost:8081/api/v1/openapi.json │ ✅ │\n",
       "└───────────┴───────────────────────────────────────────┴────┘\n",
       "</pre>\n"
      ],
      "text/plain": [
       "┏━━━━━━━━━━━┳━━━━━━━━━━━━━━━━━━━━━━━━━━━━━━━━━━━━━━━━━━━┳━━━━┓\n",
       "┃\u001b[1m \u001b[0m\u001b[1mPyGrid   \u001b[0m\u001b[1m \u001b[0m┃\u001b[1m \u001b[0m\u001b[1mInfo                                     \u001b[0m\u001b[1m \u001b[0m┃\u001b[1m \u001b[0m\u001b[1m  \u001b[0m\u001b[1m \u001b[0m┃\n",
       "┡━━━━━━━━━━━╇━━━━━━━━━━━━━━━━━━━━━━━━━━━━━━━━━━━━━━━━━━━╇━━━━┩\n",
       "│\u001b[35m \u001b[0m\u001b[35mUI (βeta)\u001b[0m\u001b[35m \u001b[0m│ http://localhost:8081/login               │ ✅ │\n",
       "│\u001b[35m \u001b[0m\u001b[35mapi      \u001b[0m\u001b[35m \u001b[0m│ http://localhost:8081/api/v1/openapi.json │ ✅ │\n",
       "└───────────┴───────────────────────────────────────────┴────┘\n"
      ]
     },
     "metadata": {},
     "output_type": "display_data"
    }
   ],
   "source": [
    "import hagrid\n",
    "hagrid.check(\"localhost:8081\")"
   ]
  },
  {
   "attachments": {},
   "cell_type": "markdown",
   "metadata": {},
   "source": [
    "Start the second `domain` named `bob`"
   ]
  },
  {
   "cell_type": "code",
   "execution_count": null,
   "metadata": {},
   "outputs": [],
   "source": [
    "!hagrid launch bob domain to docker:8082 --tag=0.7.0 --tail"
   ]
  },
  {
   "cell_type": "code",
   "execution_count": 66,
   "metadata": {},
   "outputs": [
    {
     "data": {
      "text/html": [
       "<pre style=\"white-space:pre;overflow-x:auto;line-height:normal;font-family:Menlo,'DejaVu Sans Mono',consolas,'Courier New',monospace\">┏━━━━━━━━━━━┳━━━━━━━━━━━━━━━━━━━━━━━━━━━━━━━━━━━━━━━━━━━┳━━━━┓\n",
       "┃<span style=\"font-weight: bold\"> PyGrid    </span>┃<span style=\"font-weight: bold\"> Info                                      </span>┃<span style=\"font-weight: bold\">    </span>┃\n",
       "┡━━━━━━━━━━━╇━━━━━━━━━━━━━━━━━━━━━━━━━━━━━━━━━━━━━━━━━━━╇━━━━┩\n",
       "│<span style=\"color: #800080; text-decoration-color: #800080\"> UI (βeta) </span>│ http://localhost:8082/login               │ ✅ │\n",
       "│<span style=\"color: #800080; text-decoration-color: #800080\"> api       </span>│ http://localhost:8082/api/v1/openapi.json │ ✅ │\n",
       "└───────────┴───────────────────────────────────────────┴────┘\n",
       "</pre>\n"
      ],
      "text/plain": [
       "┏━━━━━━━━━━━┳━━━━━━━━━━━━━━━━━━━━━━━━━━━━━━━━━━━━━━━━━━━┳━━━━┓\n",
       "┃\u001b[1m \u001b[0m\u001b[1mPyGrid   \u001b[0m\u001b[1m \u001b[0m┃\u001b[1m \u001b[0m\u001b[1mInfo                                     \u001b[0m\u001b[1m \u001b[0m┃\u001b[1m \u001b[0m\u001b[1m  \u001b[0m\u001b[1m \u001b[0m┃\n",
       "┡━━━━━━━━━━━╇━━━━━━━━━━━━━━━━━━━━━━━━━━━━━━━━━━━━━━━━━━━╇━━━━┩\n",
       "│\u001b[35m \u001b[0m\u001b[35mUI (βeta)\u001b[0m\u001b[35m \u001b[0m│ http://localhost:8082/login               │ ✅ │\n",
       "│\u001b[35m \u001b[0m\u001b[35mapi      \u001b[0m\u001b[35m \u001b[0m│ http://localhost:8082/api/v1/openapi.json │ ✅ │\n",
       "└───────────┴───────────────────────────────────────────┴────┘\n"
      ]
     },
     "metadata": {},
     "output_type": "display_data"
    }
   ],
   "source": [
    "hagrid.check(\"localhost:8082\")"
   ]
  },
  {
   "attachments": {},
   "cell_type": "markdown",
   "metadata": {},
   "source": [
    "Login to the `domains`"
   ]
  },
  {
   "cell_type": "code",
   "execution_count": 8,
   "metadata": {},
   "outputs": [
    {
     "name": "stdout",
     "output_type": "stream",
     "text": [
      "\u001b[93mWARNING:\u001b[0m CHANGE YOUR USERNAME AND PASSWORD!!! \n",
      "\n",
      "Anyone can login as an admin to your node right now because your password is still the default PySyft username and password!!!\n",
      "\n",
      "Connecting to localhost... done! \t Logging into alice... done!\n"
     ]
    }
   ],
   "source": [
    "alice_domain = sy.login(email=\"info@openmined.org\", \n",
    "                        password=\"changethis\", \n",
    "                        port=8081)"
   ]
  },
  {
   "cell_type": "code",
   "execution_count": 10,
   "metadata": {},
   "outputs": [
    {
     "name": "stdout",
     "output_type": "stream",
     "text": [
      "\u001b[93mWARNING:\u001b[0m CHANGE YOUR USERNAME AND PASSWORD!!! \n",
      "\n",
      "Anyone can login as an admin to your node right now because your password is still the default PySyft username and password!!!\n",
      "\n",
      "Connecting to localhost... done! \t Logging into bob... done!\n"
     ]
    }
   ],
   "source": [
    "bob_domain = sy.login(email=\"info@openmined.org\", \n",
    "                      password=\"changethis\", \n",
    "                      port=8082)"
   ]
  },
  {
   "attachments": {},
   "cell_type": "markdown",
   "metadata": {},
   "source": [
    "Upload some data to the `domains`"
   ]
  },
  {
   "cell_type": "code",
   "execution_count": 6,
   "metadata": {},
   "outputs": [
    {
     "data": {
      "text/plain": [
       "(Tensor(child=[1 2 3]), Tensor(child=[4 5 6]))"
      ]
     },
     "execution_count": 6,
     "metadata": {},
     "output_type": "execute_result"
    }
   ],
   "source": [
    "a, b"
   ]
  },
  {
   "cell_type": "code",
   "execution_count": 11,
   "metadata": {},
   "outputs": [
    {
     "name": "stdout",
     "output_type": "stream",
     "text": [
      "Loading dataset... checking asset types...                                                                                                                                    "
     ]
    },
    {
     "name": "stderr",
     "output_type": "stream",
     "text": [
      "kj/filesystem-disk-unix.c++:1690: warning: PWD environment variable doesn't match current directory; pwd = /home/dk\n"
     ]
    },
    {
     "name": "stdout",
     "output_type": "stream",
     "text": [
      "Loading dataset... uploading...🚀                        "
     ]
    },
    {
     "name": "stderr",
     "output_type": "stream",
     "text": [
      "Uploading `data`: 100%|\u001b[32m███████████████████████████████████████████████\u001b[0m| 1/1 [00:00<00:00,  4.43it/s]\u001b[0m"
     ]
    },
    {
     "name": "stdout",
     "output_type": "stream",
     "text": [
      "Dataset is uploaded successfully !!! 🎉\n",
      "\n",
      "Run `<your client variable>.datasets` to see your new dataset loaded into your machine!\n"
     ]
    },
    {
     "name": "stderr",
     "output_type": "stream",
     "text": [
      "\n"
     ]
    }
   ],
   "source": [
    "alice_domain.load_dataset(\n",
    "    assets={\"data\": a},\n",
    "    name=\"alice_dataset\",\n",
    "    description=\"Alice's Private Data\",\n",
    "    skip_checks=True\n",
    ")"
   ]
  },
  {
   "cell_type": "code",
   "execution_count": 12,
   "metadata": {},
   "outputs": [
    {
     "name": "stdout",
     "output_type": "stream",
     "text": [
      "Loading dataset... uploading...🚀                                                                                                                                             "
     ]
    },
    {
     "name": "stderr",
     "output_type": "stream",
     "text": [
      "Uploading `data`: 100%|\u001b[32m███████████████████████████████████████████████\u001b[0m| 1/1 [00:00<00:00,  4.17it/s]\u001b[0m"
     ]
    },
    {
     "name": "stdout",
     "output_type": "stream",
     "text": [
      "Dataset is uploaded successfully !!! 🎉\n",
      "\n",
      "Run `<your client variable>.datasets` to see your new dataset loaded into your machine!\n"
     ]
    },
    {
     "name": "stderr",
     "output_type": "stream",
     "text": [
      "\n"
     ]
    }
   ],
   "source": [
    "bob_domain.load_dataset(\n",
    "    assets={\"data\": b},\n",
    "    name=\"bob_dataset\",\n",
    "    description=\"Bob's Private Data\",\n",
    "    skip_checks=True\n",
    ")"
   ]
  },
  {
   "attachments": {},
   "cell_type": "markdown",
   "metadata": {},
   "source": [
    "Create `Data Scientist` Account"
   ]
  },
  {
   "cell_type": "code",
   "execution_count": 14,
   "metadata": {},
   "outputs": [
    {
     "name": "stdout",
     "output_type": "stream",
     "text": [
      "User created successfully!\n"
     ]
    },
    {
     "data": {
      "text/plain": [
       "{'name': 'Alice Amidala',\n",
       " 'email': 'alice@naboo.net',\n",
       " 'password': 'gungan',\n",
       " 'url': 'localhost'}"
      ]
     },
     "execution_count": 14,
     "metadata": {},
     "output_type": "execute_result"
    }
   ],
   "source": [
    "starting_budget = starting_budget = 999999\n",
    "alice_domain.create_user(\n",
    "    name = \"Alice Amidala\",\n",
    "    email = \"alice@naboo.net\",\n",
    "    password = \"gungan\",\n",
    "    budget = starting_budget,\n",
    ")"
   ]
  },
  {
   "cell_type": "code",
   "execution_count": 15,
   "metadata": {},
   "outputs": [
    {
     "name": "stdout",
     "output_type": "stream",
     "text": [
      "User created successfully!\n"
     ]
    },
    {
     "data": {
      "text/plain": [
       "{'name': 'Bob Afett',\n",
       " 'email': 'bob@hutt.pizza',\n",
       " 'password': 'hansolo',\n",
       " 'url': 'localhost'}"
      ]
     },
     "execution_count": 15,
     "metadata": {},
     "output_type": "execute_result"
    }
   ],
   "source": [
    "bob_domain.create_user(\n",
    "    name = \"Bob Afett\",\n",
    "    email = \"bob@hutt.pizza\",\n",
    "    password = \"hansolo\",\n",
    "    budget = starting_budget,\n",
    ")"
   ]
  },
  {
   "attachments": {},
   "cell_type": "markdown",
   "metadata": {},
   "source": [
    "Login into the `Data Scientist` accounts to get a different `domain` handles with names `alice_ds` and `bob_ds`"
   ]
  },
  {
   "cell_type": "code",
   "execution_count": 16,
   "metadata": {},
   "outputs": [
    {
     "name": "stdout",
     "output_type": "stream",
     "text": [
      "Connecting to localhost... done! \t Logging into alice... done!\n"
     ]
    }
   ],
   "source": [
    "alice_ds = sy.login(port=8081, \n",
    "                    email=\"alice@naboo.net\", \n",
    "                    password=\"gungan\")"
   ]
  },
  {
   "cell_type": "code",
   "execution_count": 17,
   "metadata": {},
   "outputs": [
    {
     "name": "stdout",
     "output_type": "stream",
     "text": [
      "Connecting to localhost... done! \t Logging into bob... done!\n"
     ]
    }
   ],
   "source": [
    "bob_ds = sy.login(port=8082, \n",
    "                  email=\"bob@hutt.pizza\", \n",
    "                  password=\"hansolo\")"
   ]
  },
  {
   "attachments": {},
   "cell_type": "markdown",
   "metadata": {},
   "source": [
    "Get the pointers to the private data uploaded by `Alice` and `Bob`"
   ]
  },
  {
   "cell_type": "code",
   "execution_count": 20,
   "metadata": {},
   "outputs": [
    {
     "name": "stdout",
     "output_type": "stream",
     "text": [
      "Dataset: alice_dataset\n",
      "Description: Alice's Private Data\n",
      "\n"
     ]
    },
    {
     "data": {
      "text/html": [
       "<style>\n",
       "        #myInput {\n",
       "          background-position: 10px 12px; /* Position the search icon */\n",
       "          background-repeat: no-repeat; /* Do not repeat the icon image */\n",
       "          background-color: #bbb;\n",
       "          width: 98%; /* Full-width */\n",
       "          font-size: 14px; /* Increase font-size */\n",
       "          padding: 12px 20px 12px 40px; /* Add some padding */\n",
       "          border: 1px solid #ddd; /* Add a grey border */\n",
       "          margin-bottom: 12px; /* Add some space below the input */\n",
       "        }\n",
       "\n",
       "        #myTable {\n",
       "          border-collapse: collapse; /* Collapse borders */\n",
       "          width: 50%; /* Full-width */\n",
       "          border: 1px solid #ddd; /* Add a grey border */\n",
       "          font-size: 14px; /* Increase font-size */\n",
       "        }\n",
       "\n",
       "        #myTable th, #myTable td {\n",
       "          text-align: left; /* Left-align text */\n",
       "          padding: 10px; /* Add padding */\n",
       "        }\n",
       "\n",
       "        #myTable tr {\n",
       "          /* Add a bottom border to all table rows */\n",
       "          border-bottom: 1px solid #ddd;\n",
       "        }\n",
       "\n",
       "        #myTable tr.header, #myTable tr:hover {\n",
       "          /* Add a grey background color to the table header and on hover */\n",
       "          background-color: #777;\n",
       "        }\n",
       "        </style>\n",
       "\n",
       "        <table id=\"myTable\">\n",
       "          <tr class=\"header\">\n",
       "            <th style=\"width:15%;\">Asset Key</th>\n",
       "            <th style=\"width:20%;\">Type</th>\n",
       "            <th style=\"width:10%;\">Shape</th>\n",
       "          </tr>\n",
       "        \n",
       "\n",
       "              <tr>\n",
       "            <td>[\"data\"]</td>\n",
       "            <td>Tensor</td>\n",
       "            <td>(3,)</td>\n",
       "          </tr>\n",
       "        </table>\n",
       "\n",
       "        "
      ],
      "text/plain": [
       "<syft.core.node.common.client_manager.dataset_api.Dataset at 0x7f229bfa9540>"
      ]
     },
     "execution_count": 20,
     "metadata": {},
     "output_type": "execute_result"
    }
   ],
   "source": [
    "alice_dataset_ptr = alice_ds.datasets[-1]\n",
    "alice_dataset_ptr"
   ]
  },
  {
   "cell_type": "code",
   "execution_count": 21,
   "metadata": {},
   "outputs": [
    {
     "data": {
      "text/plain": [
       "<TensorPointer -> alice:c0bfd3f19a974bbdb73db6ec0296f5e6, status=\u001b[92mReady\u001b[0m>"
      ]
     },
     "execution_count": 21,
     "metadata": {},
     "output_type": "execute_result"
    }
   ],
   "source": [
    "alice_ptr = alice_dataset_ptr[\"data\"]\n",
    "alice_ptr"
   ]
  },
  {
   "cell_type": "code",
   "execution_count": 23,
   "metadata": {},
   "outputs": [
    {
     "name": "stdout",
     "output_type": "stream",
     "text": [
      "Dataset: bob_dataset\n",
      "Description: Bob's Private Data\n",
      "\n"
     ]
    },
    {
     "data": {
      "text/html": [
       "<style>\n",
       "        #myInput {\n",
       "          background-position: 10px 12px; /* Position the search icon */\n",
       "          background-repeat: no-repeat; /* Do not repeat the icon image */\n",
       "          background-color: #bbb;\n",
       "          width: 98%; /* Full-width */\n",
       "          font-size: 14px; /* Increase font-size */\n",
       "          padding: 12px 20px 12px 40px; /* Add some padding */\n",
       "          border: 1px solid #ddd; /* Add a grey border */\n",
       "          margin-bottom: 12px; /* Add some space below the input */\n",
       "        }\n",
       "\n",
       "        #myTable {\n",
       "          border-collapse: collapse; /* Collapse borders */\n",
       "          width: 50%; /* Full-width */\n",
       "          border: 1px solid #ddd; /* Add a grey border */\n",
       "          font-size: 14px; /* Increase font-size */\n",
       "        }\n",
       "\n",
       "        #myTable th, #myTable td {\n",
       "          text-align: left; /* Left-align text */\n",
       "          padding: 10px; /* Add padding */\n",
       "        }\n",
       "\n",
       "        #myTable tr {\n",
       "          /* Add a bottom border to all table rows */\n",
       "          border-bottom: 1px solid #ddd;\n",
       "        }\n",
       "\n",
       "        #myTable tr.header, #myTable tr:hover {\n",
       "          /* Add a grey background color to the table header and on hover */\n",
       "          background-color: #777;\n",
       "        }\n",
       "        </style>\n",
       "\n",
       "        <table id=\"myTable\">\n",
       "          <tr class=\"header\">\n",
       "            <th style=\"width:15%;\">Asset Key</th>\n",
       "            <th style=\"width:20%;\">Type</th>\n",
       "            <th style=\"width:10%;\">Shape</th>\n",
       "          </tr>\n",
       "        \n",
       "\n",
       "              <tr>\n",
       "            <td>[\"data\"]</td>\n",
       "            <td>Tensor</td>\n",
       "            <td>(3,)</td>\n",
       "          </tr>\n",
       "        </table>\n",
       "\n",
       "        "
      ],
      "text/plain": [
       "<syft.core.node.common.client_manager.dataset_api.Dataset at 0x7f229b60e200>"
      ]
     },
     "execution_count": 23,
     "metadata": {},
     "output_type": "execute_result"
    }
   ],
   "source": [
    "bob_dataset_ptr = bob_ds.datasets[-1]\n",
    "bob_dataset_ptr"
   ]
  },
  {
   "cell_type": "code",
   "execution_count": 27,
   "metadata": {},
   "outputs": [
    {
     "data": {
      "text/plain": [
       "<TensorPointer -> bob:b05cbdf090c7462f8f646b136938131d, status=\u001b[92mReady\u001b[0m>"
      ]
     },
     "execution_count": 27,
     "metadata": {},
     "output_type": "execute_result"
    }
   ],
   "source": [
    "bob_ptr = bob_dataset_ptr[\"data\"]\n",
    "bob_ptr"
   ]
  },
  {
   "cell_type": "code",
   "execution_count": 28,
   "metadata": {},
   "outputs": [],
   "source": [
    "a = alice_ptr\n",
    "b = bob_ptr\n",
    "c = a + b\n",
    "d = a * b"
   ]
  },
  {
   "attachments": {},
   "cell_type": "markdown",
   "metadata": {},
   "source": [
    "As `a` and `b` are on different domains, `syft` automatically creates `SMPC Tensors` and handles all the logic to do `secret-sharing` transparently for us because it knows the `Pointers` are on different `domains`."
   ]
  },
  {
   "cell_type": "code",
   "execution_count": 37,
   "metadata": {},
   "outputs": [
    {
     "data": {
      "text/plain": [
       "\n",
       "\n",
       "MPCTensor.shape=(3,)\n",
       "\t .child[0] = <TensorPointer -> alice:dbe5fdaa9f9cf050ef770e5e21049e85, status=\u001b[93mProcessing\u001b[0m>\n",
       "\t .child[1] = <TensorPointer -> bob:dbe5fdaa9f9cf050ef770e5e21049e85, status=\u001b[93mProcessing\u001b[0m>"
      ]
     },
     "execution_count": 37,
     "metadata": {},
     "output_type": "execute_result"
    }
   ],
   "source": [
    "c"
   ]
  },
  {
   "cell_type": "code",
   "execution_count": 38,
   "metadata": {},
   "outputs": [
    {
     "data": {
      "text/plain": [
       "\n",
       "\n",
       "MPCTensor.shape=(3,)\n",
       "\t .child[0] = <TensorPointer -> alice:d710de2f1c0386078cc04a5464f275dc, status=\u001b[93mProcessing\u001b[0m>\n",
       "\t .child[1] = <TensorPointer -> bob:d710de2f1c0386078cc04a5464f275dc, status=\u001b[93mProcessing\u001b[0m>"
      ]
     },
     "execution_count": 38,
     "metadata": {},
     "output_type": "execute_result"
    }
   ],
   "source": [
    "d"
   ]
  },
  {
   "attachments": {},
   "cell_type": "markdown",
   "metadata": {},
   "source": [
    "Let's try to get the value of `c` and see what happens"
   ]
  },
  {
   "cell_type": "code",
   "execution_count": 55,
   "metadata": {},
   "outputs": [
    {
     "name": "stdout",
     "output_type": "stream",
     "text": [
      "Unable to json decode message. Expecting value: line 1 column 1 (char 0)\n",
      "You do not have permission to .get() Object on the node. Please submit a request.\n"
     ]
    }
   ],
   "source": [
    "# ⚔️ Runnable Code\n",
    "try:\n",
    "    c.get(delete_obj=False)\n",
    "except Exception:\n",
    "    print(\"You do not have permission to .get() Object on the node. Please submit a request.\")"
   ]
  },
  {
   "attachments": {},
   "cell_type": "markdown",
   "metadata": {},
   "source": [
    "### Requests"
   ]
  },
  {
   "attachments": {},
   "cell_type": "markdown",
   "metadata": {},
   "source": [
    "#### Data requests"
   ]
  },
  {
   "cell_type": "code",
   "execution_count": 76,
   "metadata": {},
   "outputs": [],
   "source": [
    "c.request(reason=\"These are the Droids youre looking for! 👋\")"
   ]
  },
  {
   "cell_type": "code",
   "execution_count": 77,
   "metadata": {},
   "outputs": [
    {
     "data": {
      "text/html": [
       "<div>\n",
       "<style scoped>\n",
       "    .dataframe tbody tr th:only-of-type {\n",
       "        vertical-align: middle;\n",
       "    }\n",
       "\n",
       "    .dataframe tbody tr th {\n",
       "        vertical-align: top;\n",
       "    }\n",
       "\n",
       "    .dataframe thead th {\n",
       "        text-align: right;\n",
       "    }\n",
       "</style>\n",
       "<table border=\"1\" class=\"dataframe\">\n",
       "  <thead>\n",
       "    <tr style=\"text-align: right;\">\n",
       "      <th></th>\n",
       "      <th>Name</th>\n",
       "      <th>Email</th>\n",
       "      <th>Role</th>\n",
       "      <th>Request Type</th>\n",
       "      <th>Status</th>\n",
       "      <th>Reason</th>\n",
       "      <th>Request ID</th>\n",
       "      <th>Requested Object's ID</th>\n",
       "      <th>Requested Object's tags</th>\n",
       "      <th>Requested Budget</th>\n",
       "      <th>Current Budget</th>\n",
       "    </tr>\n",
       "  </thead>\n",
       "  <tbody>\n",
       "    <tr>\n",
       "      <th>0</th>\n",
       "      <td>Alice Amidala</td>\n",
       "      <td>alice@naboo.net</td>\n",
       "      <td>Data Scientist</td>\n",
       "      <td>BUDGET</td>\n",
       "      <td>pending</td>\n",
       "      <td>I would like additional privacy budget to perf...</td>\n",
       "      <td>&lt;UID: 140374721730480dba492ceed19dfbe7&gt;</td>\n",
       "      <td>None</td>\n",
       "      <td>[]</td>\n",
       "      <td>11.0</td>\n",
       "      <td>999999.0</td>\n",
       "    </tr>\n",
       "  </tbody>\n",
       "</table>\n",
       "</div>"
      ],
      "text/plain": [
       "[<RequestMessage: 140374721730480dba492ceed19dfbe7>]"
      ]
     },
     "execution_count": 77,
     "metadata": {},
     "output_type": "execute_result"
    }
   ],
   "source": [
    "alice_domain.requests"
   ]
  },
  {
   "cell_type": "code",
   "execution_count": 69,
   "metadata": {},
   "outputs": [
    {
     "data": {
      "text/html": [
       "<div>\n",
       "<style scoped>\n",
       "    .dataframe tbody tr th:only-of-type {\n",
       "        vertical-align: middle;\n",
       "    }\n",
       "\n",
       "    .dataframe tbody tr th {\n",
       "        vertical-align: top;\n",
       "    }\n",
       "\n",
       "    .dataframe thead th {\n",
       "        text-align: right;\n",
       "    }\n",
       "</style>\n",
       "<table border=\"1\" class=\"dataframe\">\n",
       "  <thead>\n",
       "    <tr style=\"text-align: right;\">\n",
       "      <th></th>\n",
       "    </tr>\n",
       "  </thead>\n",
       "  <tbody>\n",
       "  </tbody>\n",
       "</table>\n",
       "</div>"
      ],
      "text/plain": [
       "[]"
      ]
     },
     "execution_count": 69,
     "metadata": {},
     "output_type": "execute_result"
    }
   ],
   "source": [
    "bob_domain.requests"
   ]
  },
  {
   "attachments": {},
   "cell_type": "markdown",
   "metadata": {},
   "source": [
    "#### Privacy Budget Request"
   ]
  },
  {
   "cell_type": "code",
   "execution_count": 70,
   "metadata": {},
   "outputs": [
    {
     "data": {
      "text/plain": [
       "999999.0"
      ]
     },
     "execution_count": 70,
     "metadata": {},
     "output_type": "execute_result"
    }
   ],
   "source": [
    "alice_ds.privacy_budget"
   ]
  },
  {
   "cell_type": "code",
   "execution_count": 71,
   "metadata": {},
   "outputs": [
    {
     "name": "stdout",
     "output_type": "stream",
     "text": [
      "Requested 11 epsilon of budget. Call .privacy_budget to see if your budget has arrived!\n"
     ]
    }
   ],
   "source": [
    "alice_ds.request_budget(eps=11, \n",
    "                        reason=\"I would like additional privacy budget to perfom computation\")"
   ]
  },
  {
   "attachments": {},
   "cell_type": "markdown",
   "metadata": {},
   "source": [
    "### Response"
   ]
  },
  {
   "cell_type": "code",
   "execution_count": 75,
   "metadata": {},
   "outputs": [
    {
     "data": {
      "text/html": [
       "<div>\n",
       "<style scoped>\n",
       "    .dataframe tbody tr th:only-of-type {\n",
       "        vertical-align: middle;\n",
       "    }\n",
       "\n",
       "    .dataframe tbody tr th {\n",
       "        vertical-align: top;\n",
       "    }\n",
       "\n",
       "    .dataframe thead th {\n",
       "        text-align: right;\n",
       "    }\n",
       "</style>\n",
       "<table border=\"1\" class=\"dataframe\">\n",
       "  <thead>\n",
       "    <tr style=\"text-align: right;\">\n",
       "      <th></th>\n",
       "      <th>Name</th>\n",
       "      <th>Email</th>\n",
       "      <th>Role</th>\n",
       "      <th>Request Type</th>\n",
       "      <th>Status</th>\n",
       "      <th>Reason</th>\n",
       "      <th>Request ID</th>\n",
       "      <th>Requested Object's ID</th>\n",
       "      <th>Requested Object's tags</th>\n",
       "      <th>Requested Budget</th>\n",
       "      <th>Current Budget</th>\n",
       "    </tr>\n",
       "  </thead>\n",
       "  <tbody>\n",
       "    <tr>\n",
       "      <th>0</th>\n",
       "      <td>Alice Amidala</td>\n",
       "      <td>alice@naboo.net</td>\n",
       "      <td>Data Scientist</td>\n",
       "      <td>BUDGET</td>\n",
       "      <td>pending</td>\n",
       "      <td>I would like additional privacy budget to perf...</td>\n",
       "      <td>&lt;UID: 140374721730480dba492ceed19dfbe7&gt;</td>\n",
       "      <td>None</td>\n",
       "      <td>[]</td>\n",
       "      <td>11.0</td>\n",
       "      <td>999999.0</td>\n",
       "    </tr>\n",
       "  </tbody>\n",
       "</table>\n",
       "</div>"
      ],
      "text/plain": [
       "[<RequestMessage: 140374721730480dba492ceed19dfbe7>]"
      ]
     },
     "execution_count": 75,
     "metadata": {},
     "output_type": "execute_result"
    }
   ],
   "source": [
    "alice_domain.requests"
   ]
  },
  {
   "cell_type": "code",
   "execution_count": 78,
   "metadata": {},
   "outputs": [],
   "source": [
    "alice_domain.requests[0].accept()"
   ]
  },
  {
   "cell_type": "code",
   "execution_count": 79,
   "metadata": {},
   "outputs": [
    {
     "data": {
      "text/html": [
       "<div>\n",
       "<style scoped>\n",
       "    .dataframe tbody tr th:only-of-type {\n",
       "        vertical-align: middle;\n",
       "    }\n",
       "\n",
       "    .dataframe tbody tr th {\n",
       "        vertical-align: top;\n",
       "    }\n",
       "\n",
       "    .dataframe thead th {\n",
       "        text-align: right;\n",
       "    }\n",
       "</style>\n",
       "<table border=\"1\" class=\"dataframe\">\n",
       "  <thead>\n",
       "    <tr style=\"text-align: right;\">\n",
       "      <th></th>\n",
       "      <th>Name</th>\n",
       "      <th>Email</th>\n",
       "      <th>Role</th>\n",
       "      <th>Request Type</th>\n",
       "      <th>Status</th>\n",
       "      <th>Reason</th>\n",
       "      <th>Request ID</th>\n",
       "      <th>Requested Object's ID</th>\n",
       "      <th>Requested Object's tags</th>\n",
       "      <th>Requested Budget</th>\n",
       "      <th>Current Budget</th>\n",
       "    </tr>\n",
       "  </thead>\n",
       "  <tbody>\n",
       "    <tr>\n",
       "      <th>0</th>\n",
       "      <td>Alice Amidala</td>\n",
       "      <td>alice@naboo.net</td>\n",
       "      <td>Data Scientist</td>\n",
       "      <td>BUDGET</td>\n",
       "      <td>accepted</td>\n",
       "      <td>I would like additional privacy budget to perf...</td>\n",
       "      <td>&lt;UID: 140374721730480dba492ceed19dfbe7&gt;</td>\n",
       "      <td>None</td>\n",
       "      <td>[]</td>\n",
       "      <td>11.0</td>\n",
       "      <td>999999.0</td>\n",
       "    </tr>\n",
       "  </tbody>\n",
       "</table>\n",
       "</div>"
      ],
      "text/plain": [
       "[<RequestMessage: 140374721730480dba492ceed19dfbe7>]"
      ]
     },
     "execution_count": 79,
     "metadata": {},
     "output_type": "execute_result"
    }
   ],
   "source": [
    "alice_domain.requests"
   ]
  },
  {
   "cell_type": "code",
   "execution_count": 80,
   "metadata": {},
   "outputs": [
    {
     "data": {
      "text/plain": [
       "1000010.0"
      ]
     },
     "execution_count": 80,
     "metadata": {},
     "output_type": "execute_result"
    }
   ],
   "source": [
    "alice_ds.privacy_budget"
   ]
  },
  {
   "cell_type": "code",
   "execution_count": 81,
   "metadata": {},
   "outputs": [
    {
     "data": {
      "text/html": [
       "<div>\n",
       "<style scoped>\n",
       "    .dataframe tbody tr th:only-of-type {\n",
       "        vertical-align: middle;\n",
       "    }\n",
       "\n",
       "    .dataframe tbody tr th {\n",
       "        vertical-align: top;\n",
       "    }\n",
       "\n",
       "    .dataframe thead th {\n",
       "        text-align: right;\n",
       "    }\n",
       "</style>\n",
       "<table border=\"1\" class=\"dataframe\">\n",
       "  <thead>\n",
       "    <tr style=\"text-align: right;\">\n",
       "      <th></th>\n",
       "      <th>Name</th>\n",
       "      <th>Email</th>\n",
       "      <th>Role</th>\n",
       "      <th>Request Type</th>\n",
       "      <th>Status</th>\n",
       "      <th>Reason</th>\n",
       "      <th>Request ID</th>\n",
       "      <th>Requested Object's ID</th>\n",
       "      <th>Requested Object's tags</th>\n",
       "      <th>Requested Budget</th>\n",
       "      <th>Current Budget</th>\n",
       "    </tr>\n",
       "  </thead>\n",
       "  <tbody>\n",
       "    <tr>\n",
       "      <th>0</th>\n",
       "      <td>Alice Amidala</td>\n",
       "      <td>alice@naboo.net</td>\n",
       "      <td>Data Scientist</td>\n",
       "      <td>BUDGET</td>\n",
       "      <td>accepted</td>\n",
       "      <td>I would like additional privacy budget to perf...</td>\n",
       "      <td>&lt;UID: 140374721730480dba492ceed19dfbe7&gt;</td>\n",
       "      <td>None</td>\n",
       "      <td>[]</td>\n",
       "      <td>11.0</td>\n",
       "      <td>999999.0</td>\n",
       "    </tr>\n",
       "  </tbody>\n",
       "</table>\n",
       "</div>"
      ],
      "text/plain": [
       "[<RequestMessage: 140374721730480dba492ceed19dfbe7>]"
      ]
     },
     "execution_count": 81,
     "metadata": {},
     "output_type": "execute_result"
    }
   ],
   "source": [
    "alice_domain.requests"
   ]
  },
  {
   "cell_type": "code",
   "execution_count": null,
   "metadata": {},
   "outputs": [],
   "source": [
    "smpc_c = c.get(delete_obj=False)"
   ]
  },
  {
   "cell_type": "code",
   "execution_count": 83,
   "metadata": {},
   "outputs": [
    {
     "data": {
      "text/html": [
       "<div>\n",
       "<style scoped>\n",
       "    .dataframe tbody tr th:only-of-type {\n",
       "        vertical-align: middle;\n",
       "    }\n",
       "\n",
       "    .dataframe tbody tr th {\n",
       "        vertical-align: top;\n",
       "    }\n",
       "\n",
       "    .dataframe thead th {\n",
       "        text-align: right;\n",
       "    }\n",
       "</style>\n",
       "<table border=\"1\" class=\"dataframe\">\n",
       "  <thead>\n",
       "    <tr style=\"text-align: right;\">\n",
       "      <th></th>\n",
       "    </tr>\n",
       "  </thead>\n",
       "  <tbody>\n",
       "  </tbody>\n",
       "</table>\n",
       "</div>"
      ],
      "text/plain": [
       "[]"
      ]
     },
     "execution_count": 83,
     "metadata": {},
     "output_type": "execute_result"
    }
   ],
   "source": [
    "bob_domain.requests"
   ]
  },
  {
   "cell_type": "code",
   "execution_count": null,
   "metadata": {},
   "outputs": [],
   "source": []
  }
 ],
 "metadata": {
  "kernelspec": {
   "display_name": ".venv",
   "language": "python",
   "name": "python3"
  },
  "language_info": {
   "codemirror_mode": {
    "name": "ipython",
    "version": 3
   },
   "file_extension": ".py",
   "mimetype": "text/x-python",
   "name": "python",
   "nbconvert_exporter": "python",
   "pygments_lexer": "ipython3",
   "version": "3.10.9"
  },
  "orig_nbformat": 4,
  "vscode": {
   "interpreter": {
    "hash": "e3cdefe258cda4e75bc94a4ed12119270300bb9272a62755cc47309386dfe3d9"
   }
  }
 },
 "nbformat": 4,
 "nbformat_minor": 2
}

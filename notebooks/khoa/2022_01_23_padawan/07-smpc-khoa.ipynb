{
 "cells": [
  {
   "attachments": {},
   "cell_type": "markdown",
   "metadata": {},
   "source": [
    "# 07 - SMPC"
   ]
  },
  {
   "cell_type": "code",
   "execution_count": null,
   "metadata": {},
   "outputs": [],
   "source": []
  }
 ],
 "metadata": {
  "kernelspec": {
   "display_name": "padawan.trials",
   "language": "python",
   "name": "python3"
  },
  "language_info": {
   "name": "python",
   "version": "3.10.8"
  },
  "orig_nbformat": 4,
  "vscode": {
   "interpreter": {
    "hash": "a38a47e5ac00c21d84bfff10f5827190860ccb1ba6dcc7671d28eb6fbbd7a9a2"
   }
  }
 },
 "nbformat": 4,
 "nbformat_minor": 2
}

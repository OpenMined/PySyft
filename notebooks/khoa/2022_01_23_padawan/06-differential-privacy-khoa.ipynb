{
 "cells": [
  {
   "attachments": {},
   "cell_type": "markdown",
   "metadata": {},
   "source": [
    "# 06 - Differential Privacy"
   ]
  },
  {
   "cell_type": "code",
   "execution_count": 1,
   "metadata": {},
   "outputs": [
    {
     "name": "stdout",
     "output_type": "stream",
     "text": [
      "0.7.0-beta.57\n"
     ]
    }
   ],
   "source": [
    "import syft as sy\n",
    "print(sy.__version__)\n",
    "assert sy.__version__ == '0.7.0-beta.57'"
   ]
  },
  {
   "attachments": {},
   "cell_type": "markdown",
   "metadata": {},
   "source": [
    "## `DP Tensors` in `Syft`"
   ]
  },
  {
   "attachments": {},
   "cell_type": "markdown",
   "metadata": {},
   "source": [
    "### `Syft` Tensor"
   ]
  },
  {
   "attachments": {},
   "cell_type": "markdown",
   "metadata": {},
   "source": [
    "Normal `torch` tensor"
   ]
  },
  {
   "cell_type": "code",
   "execution_count": 2,
   "metadata": {},
   "outputs": [
    {
     "data": {
      "text/plain": [
       "tensor([1, 2, 3, 4])"
      ]
     },
     "execution_count": 2,
     "metadata": {},
     "output_type": "execute_result"
    }
   ],
   "source": [
    "import torch\n",
    "torch.tensor([1, 2, 3, 4])"
   ]
  },
  {
   "attachments": {},
   "cell_type": "markdown",
   "metadata": {},
   "source": [
    "A normal `numpy` array"
   ]
  },
  {
   "cell_type": "code",
   "execution_count": 3,
   "metadata": {},
   "outputs": [
    {
     "data": {
      "text/plain": [
       "array([3, 4, 5, 6])"
      ]
     },
     "execution_count": 3,
     "metadata": {},
     "output_type": "execute_result"
    }
   ],
   "source": [
    "import numpy as np\n",
    "np.array([1, 2, 3, 4]) + 2"
   ]
  },
  {
   "attachments": {},
   "cell_type": "markdown",
   "metadata": {},
   "source": [
    "The `tensors` in `syft` are similar to `torch` and `numpy` "
   ]
  },
  {
   "cell_type": "code",
   "execution_count": 4,
   "metadata": {},
   "outputs": [
    {
     "name": "stdout",
     "output_type": "stream",
     "text": [
      "Tensor(child=[1 2 3 4])\n",
      "Tensor(child=[3 4 5 6])\n"
     ]
    }
   ],
   "source": [
    "import syft as sy\n",
    "print(sy.Tensor([1, 2, 3, 4]))\n",
    "print(sy.Tensor([1, 2, 3, 4]) + 2)\n"
   ]
  },
  {
   "attachments": {},
   "cell_type": "markdown",
   "metadata": {},
   "source": [
    "However, they have the metadata which helps us figure out how much noise we should add to protect privacy"
   ]
  },
  {
   "cell_type": "code",
   "execution_count": 5,
   "metadata": {},
   "outputs": [
    {
     "data": {
      "text/plain": [
       "Tensor(child=PhiTensor(child=[1 2 3 4], min_vals=<lazyrepeatarray data: [0] -> shape: (4,)>, max_vals=<lazyrepeatarray data: [5] -> shape: (4,)>))"
      ]
     },
     "execution_count": 5,
     "metadata": {},
     "output_type": "execute_result"
    }
   ],
   "source": [
    "sy.Tensor([1, 2, 3, 4]).private(min_val=0, \n",
    "                                max_val=5, \n",
    "                                data_subjects=[\"Ishan\"])"
   ]
  },
  {
   "attachments": {},
   "cell_type": "markdown",
   "metadata": {},
   "source": [
    "`min_val` and `max_val` are theoretical lower and upper bound of the data (to help with calculating the right amount of `noise` to add during `publish`). The `data_subjects` are the people whose data is stored in the tensor."
   ]
  },
  {
   "attachments": {},
   "cell_type": "markdown",
   "metadata": {},
   "source": [
    "Too much noise will skew the result so that the real result is mostly lost:"
   ]
  },
  {
   "cell_type": "code",
   "execution_count": 6,
   "metadata": {},
   "outputs": [
    {
     "name": "stdout",
     "output_type": "stream",
     "text": [
      "Signal:                = 33\n",
      "Noise:                 = 300\n",
      "Final result after DP: = 333\n"
     ]
    }
   ],
   "source": [
    "signal = sum([1, 2, 3, 4, 5, 3, 4, 2, 1, 8])\n",
    "noise = 300\n",
    "result = signal + noise\n",
    "\n",
    "print(\"Signal:                =\", signal)\n",
    "print(\"Noise:                 =\", noise)\n",
    "print(\"Final result after DP: =\", result)"
   ]
  },
  {
   "attachments": {},
   "cell_type": "markdown",
   "metadata": {},
   "source": [
    "However, if the noise is too small, then it is not enough to protect privacy"
   ]
  },
  {
   "cell_type": "code",
   "execution_count": 7,
   "metadata": {},
   "outputs": [
    {
     "name": "stdout",
     "output_type": "stream",
     "text": [
      "Signal:                = 33000000.0\n",
      "Noise:                 = 50\n",
      "Final result after DP: = 33000050.0\n"
     ]
    }
   ],
   "source": [
    "signal = sum([1e6, 2e6, 3e6, 4e6, 5e6, 3e6, 4e6, 2e6, 1e6, 8e6])\n",
    "noise = 50\n",
    "result = signal + noise\n",
    "\n",
    "print(\"Signal:                =\", signal)\n",
    "print(\"Noise:                 =\", noise)\n",
    "print(\"Final result after DP: =\", result)"
   ]
  },
  {
   "attachments": {},
   "cell_type": "markdown",
   "metadata": {},
   "source": [
    "Constructing the `syft` tensor with `numpy ndarray` as its child"
   ]
  },
  {
   "cell_type": "code",
   "execution_count": 8,
   "metadata": {},
   "outputs": [
    {
     "name": "stdout",
     "output_type": "stream",
     "text": [
      "numpy array: \n",
      "[[5 2 1 3 3]\n",
      " [6 6 6 2 5]\n",
      " [3 1 5 6 1]\n",
      " [2 3 3 6 5]\n",
      " [4 4 5 2 6]]\n",
      "syft tensor: \n",
      "Tensor(child=[[5 2 1 3 3]\n",
      " [6 6 6 2 5]\n",
      " [3 1 5 6 1]\n",
      " [2 3 3 6 5]\n",
      " [4 4 5 2 6]])\n"
     ]
    }
   ],
   "source": [
    "import numpy as np\n",
    "# first make the numpy array\n",
    "data = np.random.randint(low=1, high=7, size=(5,5))\n",
    "print(f\"numpy array: \\n{data}\")\n",
    "# convert it into a syft tensor\n",
    "tensor = sy.Tensor(data)\n",
    "print(f\"syft tensor: \\n{tensor}\")"
   ]
  },
  {
   "attachments": {},
   "cell_type": "markdown",
   "metadata": {},
   "source": [
    "### `Phi Tensor`"
   ]
  },
  {
   "attachments": {},
   "cell_type": "markdown",
   "metadata": {},
   "source": [
    "With `Phi Tensor`, there is only one `data subject` per data point in the Tensor"
   ]
  },
  {
   "cell_type": "code",
   "execution_count": 9,
   "metadata": {},
   "outputs": [
    {
     "data": {
      "text/plain": [
       "Tensor(child=PhiTensor(child=[[5 2 1 3 3]\n",
       " [6 6 6 2 5]\n",
       " [3 1 5 6 1]\n",
       " [2 3 3 6 5]\n",
       " [4 4 5 2 6]], min_vals=<lazyrepeatarray data: [0] -> shape: (5, 5)>, max_vals=<lazyrepeatarray data: [10] -> shape: (5, 5)>))"
      ]
     },
     "execution_count": 9,
     "metadata": {},
     "output_type": "execute_result"
    }
   ],
   "source": [
    "private_tensor = tensor.private(min_val=0,\n",
    "                                max_val=10,\n",
    "                                data_subjects=[\"Ishan\"])\n",
    "private_tensor"
   ]
  },
  {
   "attachments": {},
   "cell_type": "markdown",
   "metadata": {},
   "source": [
    "Chain of `child` in Tensor, where `nparray` is the bottom object "
   ]
  },
  {
   "cell_type": "code",
   "execution_count": 10,
   "metadata": {},
   "outputs": [
    {
     "name": "stdout",
     "output_type": "stream",
     "text": [
      "<class 'syft.core.tensor.tensor.Tensor'>\n",
      "<class 'syft.core.tensor.autodp.phi_tensor.PhiTensor'>\n",
      "<class 'numpy.ndarray'>\n"
     ]
    }
   ],
   "source": [
    "print(type(private_tensor))\n",
    "print(type(private_tensor.child))\n",
    "print(type(private_tensor.child.child))"
   ]
  },
  {
   "attachments": {},
   "cell_type": "markdown",
   "metadata": {},
   "source": [
    "`min_val` and `max_val` attributes"
   ]
  },
  {
   "cell_type": "code",
   "execution_count": 11,
   "metadata": {},
   "outputs": [
    {
     "data": {
      "text/plain": [
       "<lazyrepeatarray data: [0] -> shape: (5, 5)>"
      ]
     },
     "execution_count": 11,
     "metadata": {},
     "output_type": "execute_result"
    }
   ],
   "source": [
    "private_tensor.child.min_vals"
   ]
  },
  {
   "cell_type": "code",
   "execution_count": 12,
   "metadata": {},
   "outputs": [
    {
     "data": {
      "text/plain": [
       "<lazyrepeatarray data: [10] -> shape: (5, 5)>"
      ]
     },
     "execution_count": 12,
     "metadata": {},
     "output_type": "execute_result"
    }
   ],
   "source": [
    "private_tensor.child.max_vals"
   ]
  },
  {
   "cell_type": "code",
   "execution_count": 13,
   "metadata": {},
   "outputs": [
    {
     "data": {
      "text/plain": [
       "array([[0, 0, 0, 0, 0],\n",
       "       [0, 0, 0, 0, 0],\n",
       "       [0, 0, 0, 0, 0],\n",
       "       [0, 0, 0, 0, 0],\n",
       "       [0, 0, 0, 0, 0]])"
      ]
     },
     "execution_count": 13,
     "metadata": {},
     "output_type": "execute_result"
    }
   ],
   "source": [
    "private_tensor.child.min_vals.to_numpy()"
   ]
  },
  {
   "cell_type": "code",
   "execution_count": 14,
   "metadata": {},
   "outputs": [
    {
     "data": {
      "text/plain": [
       "array([[10, 10, 10, 10, 10],\n",
       "       [10, 10, 10, 10, 10],\n",
       "       [10, 10, 10, 10, 10],\n",
       "       [10, 10, 10, 10, 10],\n",
       "       [10, 10, 10, 10, 10]])"
      ]
     },
     "execution_count": 14,
     "metadata": {},
     "output_type": "execute_result"
    }
   ],
   "source": [
    "private_tensor.child.max_vals.to_numpy()"
   ]
  },
  {
   "cell_type": "code",
   "execution_count": 15,
   "metadata": {},
   "outputs": [],
   "source": [
    "assert private_tensor.child.min_vals.shape == private_tensor.child.shape"
   ]
  },
  {
   "cell_type": "code",
   "execution_count": 16,
   "metadata": {},
   "outputs": [
    {
     "name": "stdout",
     "output_type": "stream",
     "text": [
      "[[DataSubjectArray: {'Ishan'} DataSubjectArray: {'Ishan'}\n",
      "  DataSubjectArray: {'Ishan'} DataSubjectArray: {'Ishan'}\n",
      "  DataSubjectArray: {'Ishan'}]\n",
      " [DataSubjectArray: {'Ishan'} DataSubjectArray: {'Ishan'}\n",
      "  DataSubjectArray: {'Ishan'} DataSubjectArray: {'Ishan'}\n",
      "  DataSubjectArray: {'Ishan'}]\n",
      " [DataSubjectArray: {'Ishan'} DataSubjectArray: {'Ishan'}\n",
      "  DataSubjectArray: {'Ishan'} DataSubjectArray: {'Ishan'}\n",
      "  DataSubjectArray: {'Ishan'}]\n",
      " [DataSubjectArray: {'Ishan'} DataSubjectArray: {'Ishan'}\n",
      "  DataSubjectArray: {'Ishan'} DataSubjectArray: {'Ishan'}\n",
      "  DataSubjectArray: {'Ishan'}]\n",
      " [DataSubjectArray: {'Ishan'} DataSubjectArray: {'Ishan'}\n",
      "  DataSubjectArray: {'Ishan'} DataSubjectArray: {'Ishan'}\n",
      "  DataSubjectArray: {'Ishan'}]]\n"
     ]
    }
   ],
   "source": [
    "print(private_tensor.child.data_subjects)"
   ]
  },
  {
   "cell_type": "code",
   "execution_count": 17,
   "metadata": {},
   "outputs": [
    {
     "data": {
      "text/plain": [
       "(5, 5)"
      ]
     },
     "execution_count": 17,
     "metadata": {},
     "output_type": "execute_result"
    }
   ],
   "source": [
    "private_tensor.child.data_subjects.shape"
   ]
  },
  {
   "cell_type": "code",
   "execution_count": 18,
   "metadata": {},
   "outputs": [],
   "source": [
    "assert private_tensor.child.data_subjects.shape == private_tensor.child.child.shape"
   ]
  },
  {
   "attachments": {},
   "cell_type": "markdown",
   "metadata": {},
   "source": [
    "### `Gamma Tensor`"
   ]
  },
  {
   "cell_type": "code",
   "execution_count": 19,
   "metadata": {},
   "outputs": [
    {
     "data": {
      "text/plain": [
       "Tensor(child=PhiTensor(child=[[5 2 1 3 3]\n",
       " [6 6 6 2 5]\n",
       " [3 1 5 6 1]\n",
       " [2 3 3 6 5]\n",
       " [4 4 5 2 6]], min_vals=<lazyrepeatarray data: [0] -> shape: (5, 5)>, max_vals=<lazyrepeatarray data: [10] -> shape: (5, 5)>))"
      ]
     },
     "execution_count": 19,
     "metadata": {},
     "output_type": "execute_result"
    }
   ],
   "source": [
    "second_tensor = tensor.private(min_val=0,\n",
    "                               max_val=10,\n",
    "                               data_subjects=\"Ivy\")\n",
    "second_tensor"
   ]
  },
  {
   "cell_type": "code",
   "execution_count": 20,
   "metadata": {},
   "outputs": [
    {
     "name": "stdout",
     "output_type": "stream",
     "text": [
      "<class 'syft.core.tensor.autodp.gamma_tensor.GammaTensor'>\n",
      "<class 'numpy.ndarray'>\n"
     ]
    }
   ],
   "source": [
    "gamma_tensor = private_tensor + second_tensor\n",
    "print(type(gamma_tensor.child))\n",
    "print(type(gamma_tensor.child.child))"
   ]
  },
  {
   "cell_type": "code",
   "execution_count": 21,
   "metadata": {},
   "outputs": [
    {
     "name": "stdout",
     "output_type": "stream",
     "text": [
      "[[DataSubjectArray: {'Ivy', 'Ishan'} DataSubjectArray: {'Ivy', 'Ishan'}\n",
      "  DataSubjectArray: {'Ivy', 'Ishan'} DataSubjectArray: {'Ivy', 'Ishan'}\n",
      "  DataSubjectArray: {'Ivy', 'Ishan'}]\n",
      " [DataSubjectArray: {'Ivy', 'Ishan'} DataSubjectArray: {'Ivy', 'Ishan'}\n",
      "  DataSubjectArray: {'Ivy', 'Ishan'} DataSubjectArray: {'Ivy', 'Ishan'}\n",
      "  DataSubjectArray: {'Ivy', 'Ishan'}]\n",
      " [DataSubjectArray: {'Ivy', 'Ishan'} DataSubjectArray: {'Ivy', 'Ishan'}\n",
      "  DataSubjectArray: {'Ivy', 'Ishan'} DataSubjectArray: {'Ivy', 'Ishan'}\n",
      "  DataSubjectArray: {'Ivy', 'Ishan'}]\n",
      " [DataSubjectArray: {'Ivy', 'Ishan'} DataSubjectArray: {'Ivy', 'Ishan'}\n",
      "  DataSubjectArray: {'Ivy', 'Ishan'} DataSubjectArray: {'Ivy', 'Ishan'}\n",
      "  DataSubjectArray: {'Ivy', 'Ishan'}]\n",
      " [DataSubjectArray: {'Ivy', 'Ishan'} DataSubjectArray: {'Ivy', 'Ishan'}\n",
      "  DataSubjectArray: {'Ivy', 'Ishan'} DataSubjectArray: {'Ivy', 'Ishan'}\n",
      "  DataSubjectArray: {'Ivy', 'Ishan'}]]\n"
     ]
    }
   ],
   "source": [
    "print(gamma_tensor.child.data_subjects)"
   ]
  },
  {
   "cell_type": "code",
   "execution_count": 22,
   "metadata": {},
   "outputs": [
    {
     "name": "stdout",
     "output_type": "stream",
     "text": [
      "<lazyrepeatarray data: [0] -> shape: (5, 5)>\n"
     ]
    }
   ],
   "source": [
    "new_lower = 0 + 0\n",
    "assert (gamma_tensor.child.min_vals.to_numpy() == new_lower).all()\n",
    "print(gamma_tensor.child.min_vals)"
   ]
  },
  {
   "cell_type": "code",
   "execution_count": 23,
   "metadata": {},
   "outputs": [
    {
     "name": "stdout",
     "output_type": "stream",
     "text": [
      "<lazyrepeatarray data: [20] -> shape: (5, 5)>\n"
     ]
    }
   ],
   "source": [
    "new_upper = 10 + 10\n",
    "assert (gamma_tensor.child.max_vals.to_numpy() == new_upper).all()\n",
    "print(gamma_tensor.child.max_vals)"
   ]
  },
  {
   "cell_type": "code",
   "execution_count": 24,
   "metadata": {},
   "outputs": [
    {
     "name": "stdout",
     "output_type": "stream",
     "text": [
      "{'Ishan'} <class 'set'>\n",
      "{'Ivy'} <class 'set'>\n",
      "{'Ivy', 'Ishan'} <class 'set'>\n"
     ]
    }
   ],
   "source": [
    "first_private_tensor_ds = private_tensor.child.data_subjects[0][0].data_subjects\n",
    "print(first_private_tensor_ds, type(first_private_tensor_ds))\n",
    "\n",
    "first_second_tensor_ds = second_tensor.child.data_subjects[0][0].data_subjects\n",
    "print(first_second_tensor_ds, type(first_second_tensor_ds))\n",
    "combined = first_private_tensor_ds.union(first_second_tensor_ds)\n",
    "print(combined, type(combined))\n",
    "\n",
    "assert gamma_tensor.child.data_subjects[0][0].data_subjects == combined"
   ]
  },
  {
   "attachments": {},
   "cell_type": "markdown",
   "metadata": {},
   "source": [
    "#### Provenance"
   ]
  },
  {
   "attachments": {},
   "cell_type": "markdown",
   "metadata": {},
   "source": [
    "We need to keep track of every subsequent operation that occurs with a `GammaTensor` in a dictionary called `source`. The `key` in the `source` dictionary is an integer which maps to the corresponding Tensor which was used as input."
   ]
  },
  {
   "cell_type": "code",
   "execution_count": 25,
   "metadata": {},
   "outputs": [
    {
     "data": {
      "text/plain": [
       "dict_keys(['493397408', '355316939'])"
      ]
     },
     "execution_count": 25,
     "metadata": {},
     "output_type": "execute_result"
    }
   ],
   "source": [
    "gamma_tensor.child.sources.keys()"
   ]
  },
  {
   "cell_type": "code",
   "execution_count": 26,
   "metadata": {},
   "outputs": [
    {
     "data": {
      "text/plain": [
       "{'493397408': GammaTensor(child=array([[5, 2, 1, 3, 3],\n",
       "        [6, 6, 6, 2, 5],\n",
       "        [3, 1, 5, 6, 1],\n",
       "        [2, 3, 3, 6, 5],\n",
       "        [4, 4, 5, 2, 6]]), data_subjects=array([[DataSubjectArray: {'Ishan'}, DataSubjectArray: {'Ishan'},\n",
       "         DataSubjectArray: {'Ishan'}, DataSubjectArray: {'Ishan'},\n",
       "         DataSubjectArray: {'Ishan'}],\n",
       "        [DataSubjectArray: {'Ishan'}, DataSubjectArray: {'Ishan'},\n",
       "         DataSubjectArray: {'Ishan'}, DataSubjectArray: {'Ishan'},\n",
       "         DataSubjectArray: {'Ishan'}],\n",
       "        [DataSubjectArray: {'Ishan'}, DataSubjectArray: {'Ishan'},\n",
       "         DataSubjectArray: {'Ishan'}, DataSubjectArray: {'Ishan'},\n",
       "         DataSubjectArray: {'Ishan'}],\n",
       "        [DataSubjectArray: {'Ishan'}, DataSubjectArray: {'Ishan'},\n",
       "         DataSubjectArray: {'Ishan'}, DataSubjectArray: {'Ishan'},\n",
       "         DataSubjectArray: {'Ishan'}],\n",
       "        [DataSubjectArray: {'Ishan'}, DataSubjectArray: {'Ishan'},\n",
       "         DataSubjectArray: {'Ishan'}, DataSubjectArray: {'Ishan'},\n",
       "         DataSubjectArray: {'Ishan'}]], dtype=object), min_vals=<lazyrepeatarray data: [0] -> shape: (5, 5)>, max_vals=<lazyrepeatarray data: [10] -> shape: (5, 5)>, is_linear=True, func_str='noop', id='493397408', sources={}),\n",
       " '355316939': GammaTensor(child=array([[5, 2, 1, 3, 3],\n",
       "        [6, 6, 6, 2, 5],\n",
       "        [3, 1, 5, 6, 1],\n",
       "        [2, 3, 3, 6, 5],\n",
       "        [4, 4, 5, 2, 6]]), data_subjects=array([[DataSubjectArray: {'Ivy'}, DataSubjectArray: {'Ivy'},\n",
       "         DataSubjectArray: {'Ivy'}, DataSubjectArray: {'Ivy'},\n",
       "         DataSubjectArray: {'Ivy'}],\n",
       "        [DataSubjectArray: {'Ivy'}, DataSubjectArray: {'Ivy'},\n",
       "         DataSubjectArray: {'Ivy'}, DataSubjectArray: {'Ivy'},\n",
       "         DataSubjectArray: {'Ivy'}],\n",
       "        [DataSubjectArray: {'Ivy'}, DataSubjectArray: {'Ivy'},\n",
       "         DataSubjectArray: {'Ivy'}, DataSubjectArray: {'Ivy'},\n",
       "         DataSubjectArray: {'Ivy'}],\n",
       "        [DataSubjectArray: {'Ivy'}, DataSubjectArray: {'Ivy'},\n",
       "         DataSubjectArray: {'Ivy'}, DataSubjectArray: {'Ivy'},\n",
       "         DataSubjectArray: {'Ivy'}],\n",
       "        [DataSubjectArray: {'Ivy'}, DataSubjectArray: {'Ivy'},\n",
       "         DataSubjectArray: {'Ivy'}, DataSubjectArray: {'Ivy'},\n",
       "         DataSubjectArray: {'Ivy'}]], dtype=object), min_vals=<lazyrepeatarray data: [0] -> shape: (5, 5)>, max_vals=<lazyrepeatarray data: [10] -> shape: (5, 5)>, is_linear=True, func_str='noop', id='355316939', sources={})}"
      ]
     },
     "execution_count": 26,
     "metadata": {},
     "output_type": "execute_result"
    }
   ],
   "source": [
    "gamma_tensor.child.sources"
   ]
  },
  {
   "cell_type": "code",
   "execution_count": 27,
   "metadata": {},
   "outputs": [
    {
     "data": {
      "text/plain": [
       "'add'"
      ]
     },
     "execution_count": 27,
     "metadata": {},
     "output_type": "execute_result"
    }
   ],
   "source": [
    "gamma_tensor.child.func_str"
   ]
  },
  {
   "attachments": {},
   "cell_type": "markdown",
   "metadata": {},
   "source": [
    "## Publishing"
   ]
  },
  {
   "attachments": {},
   "cell_type": "markdown",
   "metadata": {},
   "source": [
    "#### Launch a `domain`"
   ]
  },
  {
   "cell_type": "code",
   "execution_count": 28,
   "metadata": {},
   "outputs": [
    {
     "name": "stdout",
     "output_type": "stream",
     "text": [
      "\u001b[2K✅ Updated HAGrid from branch: padawan_trial_dp padawan_trial_dp\u001b[0m0m\n",
      "\u001b[2K\u001b[32m⠦\u001b[0m \u001b[1;34mUpdating HAGrid from branch: padawan_trial_dp\u001b[0m\n",
      "\u001b[2K\u001b[32m⠇\u001b[0m \u001b[1;34mChecking for Docker Service\u001b[0m   ice\u001b[0m   \n",
      "\u001b[1A\u001b[2K✅ Docker service is running\n",
      "✅ Git 2.34.1\n",
      "✅ Docker 23.0.1\n",
      "✅ Docker Compose 2.15.1\n",
      "\n",
      "\n",
      " _   _       _     _                 _   _                       _\n",
      "| | | |     | |   | |               | | | |                     | |\n",
      "| |_| | ___ | | __| |   ___  _ __   | |_| | __ _ _ __ _ __ _   _| |\n",
      "|  _  |/ _ \\| |/ _` |  / _ \\| '_ \\  |  _  |/ _` | '__| '__| | | | |\n",
      "| | | | (_) | | (_| | | (_) | | | | | | | | (_| | |  | |  | |_| |_|\n",
      "\\_| |_/\\___/|_|\\__,_|  \\___/|_| |_| \\_| |_/\\__,_|_|  |_|   \\__, (_)\n",
      "                                                            __/ |\n",
      "                                                           |___/\n",
      "        \n",
      "Launching a PyGrid Domain node on port 8081!\n",
      "\n",
      "  - NAME: test_domain\n",
      "  - RELEASE: production\n",
      "  - ARCH: linux/amd64\n",
      "  - TYPE: domain\n",
      "  - DOCKER_TAG: latest\n",
      "  - HAGRID_VERSION: 0.2.130\n",
      "  - PORT: 8081\n",
      "  - DOCKER COMPOSE: v2.15.1\n",
      "  - OBLV_CLI:  False\n",
      "\n",
      "\n",
      "\u001b[1;32m⠋\u001b[0m\u001b[1;34m Launching Containers \u001b[0m\u001b[1;32m \u001b[0m\n",
      "\u001b[2K  ✅ \u001b[1;32mPulling [9 / 9]\u001b[0m \u001b[90m━━━━━━━━━━━━━━━━━━━━━━━━━━━━━━━━━━━━━━━━\u001b[0m \u001b[35m100.00%   \u001b[0m0m \u001b[35m88.89%   \u001b[0m\n",
      "\u001b[2K\u001b[32m⠋\u001b[0m \u001b[1mBuilding [5 / 6]\u001b[0m \u001b[91m━━━━━━━━━━━━━━━━━━━━━━━━━━━━━━━━━\u001b[0m\u001b[90m╺\u001b[0m\u001b[90m━━━━━━\u001b[0m \u001b[35m83.33%   \u001b[0m\n",
      "\u001b[2K  ✅ \u001b[1;32mLaunching [11 / 11]\u001b[0m \u001b[90m━━━━━━━━━━━━━━━━━━━━━━━━━━━━━━━━━━━━━━━━\u001b[0m \u001b[35m100.00%   \u001b[0m[0m \u001b[35m90.91%   \u001b[0m\n",
      "\u001b[?25h\n",
      "\u001b[1;32m⠋\u001b[0m\u001b[1;34m Checking node API \u001b[0m\u001b[1;32m \u001b[0m   \n",
      "\u001b[2K✅ test_domain Domain Containers Created Creation\u001b[0m0m\n",
      "\u001b[2K✅ Backendm \u001b[1;91mStarting Backend\u001b[0meation\u001b[0m\n",
      "\u001b[2K✅ Startup Completeting Backend\u001b[0m\n",
      "\u001b[2K\u001b[32m⠹\u001b[0m \u001b[1;91mStarting Backend\u001b[0m\n",
      "\u001b[1A\u001b[2K┏━━━━━━━━━━━┳━━━━━━━━━━━━━━━━━━━━━━━━━━━━━━━━━━━━━━━━━━━┳━━━━━┓\n",
      "┃\u001b[1m \u001b[0m\u001b[1mPyGrid   \u001b[0m\u001b[1m \u001b[0m┃\u001b[1m \u001b[0m\u001b[1mInfo                                     \u001b[0m\u001b[1m \u001b[0m┃\u001b[1m \u001b[0m\u001b[1m600\u001b[0m\u001b[1m \u001b[0m┃\n",
      "┡━━━━━━━━━━━╇━━━━━━━━━━━━━━━━━━━━━━━━━━━━━━━━━━━━━━━━━━━╇━━━━━┩\n",
      "│\u001b[35m \u001b[0m\u001b[35mUI (βeta)\u001b[0m\u001b[35m \u001b[0m│ http://localhost:8081/login               │ ✅  │\n",
      "│\u001b[35m \u001b[0m\u001b[35mapi      \u001b[0m\u001b[35m \u001b[0m│ http://localhost:8081/api/v1/openapi.json │ ✅  │\n",
      "└───────────┴───────────────────────────────────────────┴─────┘\n",
      "╭───────────────────────────────────────────────────────╮\n",
      "│ ✨ To view container logs run \u001b[1;32mhagrid logs test_domain\u001b[0m │\n",
      "╰───────────────────────────────────────────────────────╯\n"
     ]
    }
   ],
   "source": [
    "!hagrid launch test_domain domain to docker:8081 --build-src=padawan_trial_dp --build"
   ]
  },
  {
   "cell_type": "code",
   "execution_count": 29,
   "metadata": {},
   "outputs": [
    {
     "data": {
      "text/html": [
       "<pre style=\"white-space:pre;overflow-x:auto;line-height:normal;font-family:Menlo,'DejaVu Sans Mono',consolas,'Courier New',monospace\">┏━━━━━━━━━━━┳━━━━━━━━━━━━━━━━━━━━━━━━━━━━━━━━━━━━━━━━━━━┳━━━━┓\n",
       "┃<span style=\"font-weight: bold\"> PyGrid    </span>┃<span style=\"font-weight: bold\"> Info                                      </span>┃<span style=\"font-weight: bold\">    </span>┃\n",
       "┡━━━━━━━━━━━╇━━━━━━━━━━━━━━━━━━━━━━━━━━━━━━━━━━━━━━━━━━━╇━━━━┩\n",
       "│<span style=\"color: #800080; text-decoration-color: #800080\"> UI (βeta) </span>│ http://localhost:8081/login               │ ✅ │\n",
       "│<span style=\"color: #800080; text-decoration-color: #800080\"> api       </span>│ http://localhost:8081/api/v1/openapi.json │ ✅ │\n",
       "└───────────┴───────────────────────────────────────────┴────┘\n",
       "</pre>\n"
      ],
      "text/plain": [
       "┏━━━━━━━━━━━┳━━━━━━━━━━━━━━━━━━━━━━━━━━━━━━━━━━━━━━━━━━━┳━━━━┓\n",
       "┃\u001b[1m \u001b[0m\u001b[1mPyGrid   \u001b[0m\u001b[1m \u001b[0m┃\u001b[1m \u001b[0m\u001b[1mInfo                                     \u001b[0m\u001b[1m \u001b[0m┃\u001b[1m \u001b[0m\u001b[1m  \u001b[0m\u001b[1m \u001b[0m┃\n",
       "┡━━━━━━━━━━━╇━━━━━━━━━━━━━━━━━━━━━━━━━━━━━━━━━━━━━━━━━━━╇━━━━┩\n",
       "│\u001b[35m \u001b[0m\u001b[35mUI (βeta)\u001b[0m\u001b[35m \u001b[0m│ http://localhost:8081/login               │ ✅ │\n",
       "│\u001b[35m \u001b[0m\u001b[35mapi      \u001b[0m\u001b[35m \u001b[0m│ http://localhost:8081/api/v1/openapi.json │ ✅ │\n",
       "└───────────┴───────────────────────────────────────────┴────┘\n"
      ]
     },
     "metadata": {},
     "output_type": "display_data"
    }
   ],
   "source": [
    "import hagrid\n",
    "hagrid.check(\"localhost:8081\")"
   ]
  },
  {
   "attachments": {},
   "cell_type": "markdown",
   "metadata": {},
   "source": [
    "#### Private Data"
   ]
  },
  {
   "cell_type": "code",
   "execution_count": 30,
   "metadata": {},
   "outputs": [],
   "source": [
    "import numpy as np\n",
    "ages = np.array([25, 35, 21, 19, 40, 55, 31, 18, 27, 33])\n",
    "names = [\"A\", \"B\", \"C\", \"D\", \"E\", \"F\", \"G\", \"H\", \"I\", \"J\"]\n",
    "assert len(ages) == len(names)"
   ]
  },
  {
   "cell_type": "code",
   "execution_count": 31,
   "metadata": {},
   "outputs": [
    {
     "data": {
      "text/plain": [
       "Tensor(child=GammaTensor(child=array([25, 35, 21, 19, 40, 55, 31, 18, 27, 33]), data_subjects=array([DataSubjectArray: {'A'}, DataSubjectArray: {'B'},\n",
       "       DataSubjectArray: {'C'}, DataSubjectArray: {'D'},\n",
       "       DataSubjectArray: {'E'}, DataSubjectArray: {'F'},\n",
       "       DataSubjectArray: {'G'}, DataSubjectArray: {'H'},\n",
       "       DataSubjectArray: {'I'}, DataSubjectArray: {'J'}], dtype=object), min_vals=<lazyrepeatarray data: [0] -> shape: (10,)>, max_vals=<lazyrepeatarray data: [122] -> shape: (10,)>, is_linear=True, func_str='noop', id='1976055677', sources={}))"
      ]
     },
     "execution_count": 31,
     "metadata": {},
     "output_type": "execute_result"
    }
   ],
   "source": [
    "phi_tensor = sy.Tensor(ages).private(min_val=0, \n",
    "                                    max_val=122, \n",
    "                                    data_subjects=names)\n",
    "phi_tensor"
   ]
  },
  {
   "attachments": {},
   "cell_type": "markdown",
   "metadata": {},
   "source": [
    "#### Upload the `private data` to the `domain`"
   ]
  },
  {
   "cell_type": "code",
   "execution_count": 32,
   "metadata": {},
   "outputs": [
    {
     "name": "stdout",
     "output_type": "stream",
     "text": [
      "\u001b[93mWARNING:\u001b[0m CHANGE YOUR USERNAME AND PASSWORD!!! \n",
      "\n",
      "Anyone can login as an admin to your node right now because your password is still the default PySyft username and password!!!\n",
      "\n",
      "Connecting to localhost... done! \t Logging into test_domain... done!\n"
     ]
    }
   ],
   "source": [
    "domain = sy.login(port=8081, \n",
    "                  email=\"info@openmined.org\", \n",
    "                  password=\"changethis\")"
   ]
  },
  {
   "cell_type": "code",
   "execution_count": 33,
   "metadata": {},
   "outputs": [
    {
     "name": "stderr",
     "output_type": "stream",
     "text": [
      "kj/filesystem-disk-unix.c++:1690: warning: PWD environment variable doesn't match current directory; pwd = /home/dk\n"
     ]
    },
    {
     "name": "stdout",
     "output_type": "stream",
     "text": [
      "Loading dataset... uploading...🚀                                                                                                                                             "
     ]
    },
    {
     "name": "stderr",
     "output_type": "stream",
     "text": [
      "Uploading `ages_tensor`: 100%|\u001b[32m████████████████████████████████████████\u001b[0m| 1/1 [00:00<00:00,  4.50it/s]\u001b[0m"
     ]
    },
    {
     "name": "stdout",
     "output_type": "stream",
     "text": [
      "Dataset is uploaded successfully !!! 🎉\n",
      "\n",
      "Run `<your client variable>.datasets` to see your new dataset loaded into your machine!\n"
     ]
    },
    {
     "name": "stderr",
     "output_type": "stream",
     "text": [
      "\n"
     ]
    }
   ],
   "source": [
    "domain.load_dataset(\n",
    "    assets={\"ages_tensor\": phi_tensor},\n",
    "    name=\"ages_dataset\",\n",
    "    description=\"Ages of a group of people\"\n",
    ")"
   ]
  },
  {
   "attachments": {},
   "cell_type": "markdown",
   "metadata": {},
   "source": [
    "#### Create Data Scientist Account"
   ]
  },
  {
   "cell_type": "code",
   "execution_count": 34,
   "metadata": {},
   "outputs": [
    {
     "name": "stdout",
     "output_type": "stream",
     "text": [
      "User created successfully!\n"
     ]
    }
   ],
   "source": [
    "starting_budget = 999999\n",
    "ds_details = {\n",
    "    \"name\": \"Rey Skywalker\",\n",
    "    \"email\": \"rey@skywalker.net\",\n",
    "    \"password\": \"jakku\",\n",
    "    \"budget\": starting_budget,\n",
    "}\n",
    "domain.users.create(**ds_details)"
   ]
  },
  {
   "cell_type": "code",
   "execution_count": 35,
   "metadata": {},
   "outputs": [
    {
     "name": "stdout",
     "output_type": "stream",
     "text": [
      "Connecting to localhost... done! \t Logging into test_domain... done!\n"
     ]
    }
   ],
   "source": [
    "skywalker = sy.login(port=8081, \n",
    "                     email=ds_details[\"email\"], \n",
    "                     password=ds_details[\"password\"])"
   ]
  },
  {
   "attachments": {},
   "cell_type": "markdown",
   "metadata": {},
   "source": [
    "`test_domain` UI will look like this\n",
    "\n",
    "![](./assets/6-test_domain_with_ds.png)"
   ]
  },
  {
   "cell_type": "code",
   "execution_count": 36,
   "metadata": {},
   "outputs": [
    {
     "name": "stdout",
     "output_type": "stream",
     "text": [
      "Dataset: ages_dataset\n",
      "Description: Ages of a group of people\n",
      "\n"
     ]
    },
    {
     "data": {
      "text/html": [
       "<style>\n",
       "        #myInput {\n",
       "          background-position: 10px 12px; /* Position the search icon */\n",
       "          background-repeat: no-repeat; /* Do not repeat the icon image */\n",
       "          background-color: #bbb;\n",
       "          width: 98%; /* Full-width */\n",
       "          font-size: 14px; /* Increase font-size */\n",
       "          padding: 12px 20px 12px 40px; /* Add some padding */\n",
       "          border: 1px solid #ddd; /* Add a grey border */\n",
       "          margin-bottom: 12px; /* Add some space below the input */\n",
       "        }\n",
       "\n",
       "        #myTable {\n",
       "          border-collapse: collapse; /* Collapse borders */\n",
       "          width: 50%; /* Full-width */\n",
       "          border: 1px solid #ddd; /* Add a grey border */\n",
       "          font-size: 14px; /* Increase font-size */\n",
       "        }\n",
       "\n",
       "        #myTable th, #myTable td {\n",
       "          text-align: left; /* Left-align text */\n",
       "          padding: 10px; /* Add padding */\n",
       "        }\n",
       "\n",
       "        #myTable tr {\n",
       "          /* Add a bottom border to all table rows */\n",
       "          border-bottom: 1px solid #ddd;\n",
       "        }\n",
       "\n",
       "        #myTable tr.header, #myTable tr:hover {\n",
       "          /* Add a grey background color to the table header and on hover */\n",
       "          background-color: #777;\n",
       "        }\n",
       "        </style>\n",
       "\n",
       "        <table id=\"myTable\">\n",
       "          <tr class=\"header\">\n",
       "            <th style=\"width:15%;\">Asset Key</th>\n",
       "            <th style=\"width:20%;\">Type</th>\n",
       "            <th style=\"width:10%;\">Shape</th>\n",
       "          </tr>\n",
       "        \n",
       "\n",
       "              <tr>\n",
       "            <td>[\"ages_tensor\"]</td>\n",
       "            <td>Tensor</td>\n",
       "            <td>(10,)</td>\n",
       "          </tr>\n",
       "        </table>\n",
       "\n",
       "        "
      ],
      "text/plain": [
       "<syft.core.node.common.client_manager.dataset_api.Dataset at 0x7f4a4a719810>"
      ]
     },
     "execution_count": 36,
     "metadata": {},
     "output_type": "execute_result"
    }
   ],
   "source": [
    "age_dataset_prt = skywalker.datasets[-1]\n",
    "age_dataset_prt"
   ]
  },
  {
   "attachments": {},
   "cell_type": "markdown",
   "metadata": {},
   "source": [
    "Get the `pointer` to the private data in the domain"
   ]
  },
  {
   "cell_type": "code",
   "execution_count": 37,
   "metadata": {},
   "outputs": [
    {
     "data": {
      "text/plain": [
       "array([ 89,  14,  68,  34,  61,  36,  23, 118,   4,  98])\n",
       "\n",
       " (The data printed above is synthetic - it's an imitation of the real data.)"
      ]
     },
     "execution_count": 37,
     "metadata": {},
     "output_type": "execute_result"
    }
   ],
   "source": [
    "phi_ptr = age_dataset_prt[\"ages_tensor\"]\n",
    "phi_ptr"
   ]
  },
  {
   "attachments": {},
   "cell_type": "markdown",
   "metadata": {},
   "source": [
    "We can see that `phi_ptr` is synthetic and does not contain the real data. Real data we created was `ages = np.array([25, 35, 21, 19, 40, 55, 31, 18, 27, 33])`"
   ]
  },
  {
   "attachments": {},
   "cell_type": "markdown",
   "metadata": {},
   "source": [
    "#### Private Mean"
   ]
  },
  {
   "cell_type": "code",
   "execution_count": 38,
   "metadata": {},
   "outputs": [
    {
     "data": {
      "text/plain": [
       "array([57.01814779])\n",
       "\n",
       " (The data printed above is synthetic - it's an imitation of the real data.)"
      ]
     },
     "execution_count": 38,
     "metadata": {},
     "output_type": "execute_result"
    }
   ],
   "source": [
    "mean_ptr = phi_ptr.mean()\n",
    "mean_ptr"
   ]
  },
  {
   "attachments": {},
   "cell_type": "markdown",
   "metadata": {},
   "source": [
    "#### Publish"
   ]
  },
  {
   "cell_type": "code",
   "execution_count": 40,
   "metadata": {},
   "outputs": [],
   "source": [
    "result_ptr = mean_ptr.publish(sigma=1.5)"
   ]
  },
  {
   "attachments": {},
   "cell_type": "markdown",
   "metadata": {},
   "source": [
    "If we manage to `publish`, the resulting pointer `result_ptr` will point to the result that is available for download with `.get()`"
   ]
  },
  {
   "cell_type": "code",
   "execution_count": 42,
   "metadata": {},
   "outputs": [
    {
     "data": {
      "text/plain": [
       "27.58036544861064"
      ]
     },
     "execution_count": 42,
     "metadata": {},
     "output_type": "execute_result"
    }
   ],
   "source": [
    "remote_mean = result_ptr.get(delete_obj=False)\n",
    "remote_mean"
   ]
  },
  {
   "attachments": {},
   "cell_type": "markdown",
   "metadata": {},
   "source": [
    "#### Compare"
   ]
  },
  {
   "cell_type": "code",
   "execution_count": 43,
   "metadata": {},
   "outputs": [
    {
     "name": "stdout",
     "output_type": "stream",
     "text": [
      "Real Mean:      = 30.4\n",
      "Published Mean: = 27.58036544861064\n",
      "Difference:     = 9.28 %\n"
     ]
    }
   ],
   "source": [
    "local_mean = ages.mean()\n",
    "print(\"Real Mean:      =\", local_mean)\n",
    "print(\"Published Mean: =\", remote_mean)\n",
    "print(\"Difference:     =\", round(abs(local_mean - remote_mean) / local_mean * 100, 2), \"%\")"
   ]
  },
  {
   "attachments": {},
   "cell_type": "markdown",
   "metadata": {},
   "source": [
    "#### `Epsilon` Spent"
   ]
  },
  {
   "cell_type": "code",
   "execution_count": 44,
   "metadata": {},
   "outputs": [
    {
     "name": "stdout",
     "output_type": "stream",
     "text": [
      "Starting Budget: 999999\n",
      "Current Budget:  999690.0357041412\n",
      "Cost:            308.9642958587501\n"
     ]
    }
   ],
   "source": [
    "current_budget = skywalker.privacy_budget\n",
    "print(\"Starting Budget:\", starting_budget)\n",
    "print(\"Current Budget: \", current_budget)\n",
    "print(\"Cost:           \", starting_budget - current_budget)"
   ]
  },
  {
   "attachments": {},
   "cell_type": "markdown",
   "metadata": {},
   "source": [
    "#### RDP (Renyi Differential Privacy) Parameters"
   ]
  },
  {
   "cell_type": "code",
   "execution_count": 45,
   "metadata": {},
   "outputs": [
    {
     "name": "stderr",
     "output_type": "stream",
     "text": [
      "WARNING:absl:No GPU/TPU found, falling back to CPU. (Set TF_CPP_MIN_LOG_LEVEL=0 and rerun for more info.)\n"
     ]
    },
    {
     "data": {
      "text/plain": [
       "(DeviceArray([30.4], dtype=float64),\n",
       " DeviceArray([122.], dtype=float64),\n",
       " DeviceArray([1.5], dtype=float64),\n",
       " DeviceArray([1.], dtype=float64))"
      ]
     },
     "execution_count": 45,
     "metadata": {},
     "output_type": "execute_result"
    }
   ],
   "source": [
    "from syft.core.adp.vectorized_publish import calculate_bounds_for_mechanism\n",
    "l2_norms, l2_norm_bounds, sigmas, coeffs = calculate_bounds_for_mechanism(\n",
    "    value_array=ages.mean(),\n",
    "    min_val_array=0,\n",
    "    max_val_array=122,\n",
    "    sigma=1.5,\n",
    ")\n",
    "l2_norms, l2_norm_bounds, sigmas, coeffs"
   ]
  },
  {
   "attachments": {},
   "cell_type": "markdown",
   "metadata": {},
   "source": [
    "#### Calculate `epsilon`"
   ]
  },
  {
   "attachments": {},
   "cell_type": "markdown",
   "metadata": {},
   "source": [
    "epsilon = alpha * rdp_constant, where\n",
    "\n",
    "rdp_constant = l2_norm(q(X_i)) ^ 2 / (2 * sigma ^2)"
   ]
  },
  {
   "attachments": {},
   "cell_type": "markdown",
   "metadata": {},
   "source": [
    "##### rdp constant"
   ]
  },
  {
   "cell_type": "code",
   "execution_count": 46,
   "metadata": {},
   "outputs": [
    {
     "data": {
      "text/plain": [
       "RDPParams:\n",
       " sigmas:[1.5]\n",
       " l2_norms:[30.4]\n",
       " l2_norm_bounds:[122.]\n",
       " Ls:[1.]\n",
       " coeffs:[1.]"
      ]
     },
     "execution_count": 46,
     "metadata": {},
     "output_type": "execute_result"
    }
   ],
   "source": [
    "from syft.core.adp.data_subject_ledger import RDPParams\n",
    "rdp_params = RDPParams(\n",
    "    sigmas=sigmas,\n",
    "    l2_norms=l2_norms,\n",
    "    l2_norm_bounds=l2_norm_bounds,\n",
    "    Ls=coeffs.copy(), # is_linear == True so we can cheat here\n",
    "    coeffs=coeffs\n",
    ")\n",
    "rdp_params"
   ]
  },
  {
   "cell_type": "code",
   "execution_count": 47,
   "metadata": {},
   "outputs": [
    {
     "data": {
      "text/plain": [
       "DeviceArray([205.36888889], dtype=float64)"
      ]
     },
     "execution_count": 47,
     "metadata": {},
     "output_type": "execute_result"
    }
   ],
   "source": [
    "from syft.core.adp.vectorized_publish import compute_rdp_constant\n",
    "rdp_constants = compute_rdp_constant(rdp_params, private=True)\n",
    "rdp_constants"
   ]
  },
  {
   "attachments": {},
   "cell_type": "markdown",
   "metadata": {},
   "source": [
    "##### calculate `epsilon`"
   ]
  },
  {
   "cell_type": "code",
   "execution_count": 48,
   "metadata": {},
   "outputs": [],
   "source": [
    "rdp_constant = 205.36888889"
   ]
  },
  {
   "cell_type": "code",
   "execution_count": 49,
   "metadata": {},
   "outputs": [],
   "source": [
    "from scipy.optimize import minimize_scalar\n",
    "\n",
    "DELTA = 1e-6\n",
    "log_delta = np.log(DELTA)\n",
    "\n",
    "def partial_alpha(constant: int):\n",
    "    return lambda alpha: alpha * constant\n",
    "\n",
    "def search_alpha(partial):\n",
    "    def fun(alpha: float) -> float:  # the input is the RDP's \\alpha\n",
    "        if alpha <= 1:\n",
    "            return np.inf\n",
    "        else:\n",
    "            alpha_minus_1 = alpha - 1\n",
    "            return np.maximum(\n",
    "                partial(alpha)\n",
    "                + np.log(alpha_minus_1 / alpha)\n",
    "                - (log_delta + np.log(alpha)) / alpha_minus_1,\n",
    "                0,\n",
    "            )\n",
    "    return fun\n",
    "\n",
    "\n",
    "def find_alpha_and_eps(\n",
    "    constant: int = 3\n",
    "):\n",
    "    search_func = search_alpha(partial_alpha(constant))\n",
    "    results = minimize_scalar(\n",
    "        search_func, method=\"Brent\", bracket=(1, 2)\n",
    "    )\n",
    "\n",
    "    return results.x, results.fun"
   ]
  },
  {
   "cell_type": "code",
   "execution_count": 50,
   "metadata": {},
   "outputs": [
    {
     "name": "stdout",
     "output_type": "stream",
     "text": [
      "The solution for RDP Constant=205.36888889 is alpha=1.2572102721433043, epsilon=309.4281090883548\n"
     ]
    }
   ],
   "source": [
    "# ⚔️ Runnable Code\n",
    "alpha, eps = find_alpha_and_eps(\n",
    "    constant=rdp_constant\n",
    ")\n",
    "print(f\"The solution for RDP Constant={rdp_constant} is alpha={alpha}, epsilon={eps}\")"
   ]
  },
  {
   "attachments": {},
   "cell_type": "markdown",
   "metadata": {},
   "source": [
    "##### RDP Cache"
   ]
  },
  {
   "cell_type": "code",
   "execution_count": 51,
   "metadata": {},
   "outputs": [],
   "source": [
    "from syft.core.adp.data_subject_ledger import load_cache\n",
    "cache = load_cache(\"constant2epsilon_1200k.npy\")"
   ]
  },
  {
   "cell_type": "code",
   "execution_count": 52,
   "metadata": {},
   "outputs": [
    {
     "data": {
      "text/plain": [
       "array([5.37271206e-02, 7.77359737e-02, 9.64575076e-02, ...,\n",
       "       7.06261395e+05, 7.06262399e+05, 7.06263404e+05])"
      ]
     },
     "execution_count": 52,
     "metadata": {},
     "output_type": "execute_result"
    }
   ],
   "source": [
    "cache"
   ]
  },
  {
   "cell_type": "code",
   "execution_count": 53,
   "metadata": {},
   "outputs": [
    {
     "data": {
      "text/plain": [
       "1200000"
      ]
     },
     "execution_count": 53,
     "metadata": {},
     "output_type": "execute_result"
    }
   ],
   "source": [
    "len(cache)"
   ]
  },
  {
   "cell_type": "code",
   "execution_count": 54,
   "metadata": {},
   "outputs": [
    {
     "data": {
      "text/plain": [
       "DeviceArray([500154], dtype=int64)"
      ]
     },
     "execution_count": 54,
     "metadata": {},
     "output_type": "execute_result"
    }
   ],
   "source": [
    "from syft.core.adp.data_subject_ledger import convert_constants_to_indices\n",
    "cache_indexes = convert_constants_to_indices(rdp_constants)\n",
    "cache_indexes"
   ]
  },
  {
   "cell_type": "code",
   "execution_count": 55,
   "metadata": {},
   "outputs": [
    {
     "data": {
      "text/plain": [
       "308.9642958587137"
      ]
     },
     "execution_count": 55,
     "metadata": {},
     "output_type": "execute_result"
    }
   ],
   "source": [
    "cached_epsilon = cache[cache_indexes[0]]\n",
    "cached_epsilon"
   ]
  },
  {
   "cell_type": "code",
   "execution_count": 56,
   "metadata": {},
   "outputs": [
    {
     "name": "stdout",
     "output_type": "stream",
     "text": [
      "Calculated Epsilon:  309.4281090883548\n",
      "Cached Epsilon:      308.9642958587137\n",
      "Difference:          0.15 %\n",
      "Previous Spend:      308.9642958587501\n"
     ]
    }
   ],
   "source": [
    "print(\"Calculated Epsilon: \", eps)\n",
    "print(\"Cached Epsilon:     \", cached_epsilon)\n",
    "print(\"Difference:         \", round(abs(eps - cached_epsilon) * 100 / eps, 2), \"%\")\n",
    "print(\"Previous Spend:     \", starting_budget - current_budget)"
   ]
  },
  {
   "cell_type": "code",
   "execution_count": null,
   "metadata": {},
   "outputs": [],
   "source": []
  }
 ],
 "metadata": {
  "kernelspec": {
   "display_name": "syft_padawan_trial_dp",
   "language": "python",
   "name": "python3"
  },
  "language_info": {
   "codemirror_mode": {
    "name": "ipython",
    "version": 3
   },
   "file_extension": ".py",
   "mimetype": "text/x-python",
   "name": "python",
   "nbconvert_exporter": "python",
   "pygments_lexer": "ipython3",
   "version": "3.10.9"
  },
  "orig_nbformat": 4,
  "vscode": {
   "interpreter": {
    "hash": "f255d826b251e3a59da8c005ea7616ffb25b09e8689796d29a9edc9e2ca06f6f"
   }
  }
 },
 "nbformat": 4,
 "nbformat_minor": 2
}

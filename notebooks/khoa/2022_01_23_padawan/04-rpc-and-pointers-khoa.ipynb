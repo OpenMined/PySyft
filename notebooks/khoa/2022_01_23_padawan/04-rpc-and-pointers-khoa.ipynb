{
 "cells": [
  {
   "attachments": {},
   "cell_type": "markdown",
   "metadata": {},
   "source": [
    "# RPC & Pointers"
   ]
  },
  {
   "attachments": {},
   "cell_type": "markdown",
   "metadata": {},
   "source": [
    "## Launching the domain"
   ]
  },
  {
   "attachments": {},
   "cell_type": "markdown",
   "metadata": {},
   "source": [
    "Run the below line of code in the terminal"
   ]
  },
  {
   "cell_type": "code",
   "execution_count": null,
   "metadata": {},
   "outputs": [],
   "source": [
    "!hagrid launch test_domain domain to docker:8081 --tag=0.7.0 --dev --tail"
   ]
  },
  {
   "cell_type": "code",
   "execution_count": 2,
   "metadata": {},
   "outputs": [
    {
     "data": {
      "application/vnd.jupyter.widget-view+json": {
       "model_id": "cc337092acac4c9a99b67fdcc5c47ede",
       "version_major": 2,
       "version_minor": 0
      },
      "text/plain": [
       "Output()"
      ]
     },
     "metadata": {},
     "output_type": "display_data"
    },
    {
     "data": {
      "text/html": [
       "<pre style=\"white-space:pre;overflow-x:auto;line-height:normal;font-family:Menlo,'DejaVu Sans Mono',consolas,'Courier New',monospace\">✅ test_domain Domain Containers Created\n",
       "</pre>\n"
      ],
      "text/plain": [
       "✅ test_domain Domain Containers Created\n"
      ]
     },
     "metadata": {},
     "output_type": "display_data"
    },
    {
     "data": {
      "text/html": [
       "<pre style=\"white-space:pre;overflow-x:auto;line-height:normal;font-family:Menlo,'DejaVu Sans Mono',consolas,'Courier New',monospace\">✅ Backend\n",
       "</pre>\n"
      ],
      "text/plain": [
       "✅ Backend\n"
      ]
     },
     "metadata": {},
     "output_type": "display_data"
    },
    {
     "data": {
      "text/html": [
       "<pre style=\"white-space:pre;overflow-x:auto;line-height:normal;font-family:Menlo,'DejaVu Sans Mono',consolas,'Courier New',monospace\">✅ Startup Complete\n",
       "</pre>\n"
      ],
      "text/plain": [
       "✅ Startup Complete\n"
      ]
     },
     "metadata": {},
     "output_type": "display_data"
    },
    {
     "data": {
      "text/html": [
       "<pre style=\"white-space:pre;overflow-x:auto;line-height:normal;font-family:Menlo,'DejaVu Sans Mono',consolas,'Courier New',monospace\"></pre>\n"
      ],
      "text/plain": []
     },
     "metadata": {},
     "output_type": "display_data"
    },
    {
     "data": {
      "text/html": [
       "<pre style=\"white-space:pre;overflow-x:auto;line-height:normal;font-family:Menlo,'DejaVu Sans Mono',consolas,'Courier New',monospace\">┏━━━━━━━━━━━┳━━━━━━━━━━━━━━━━━━━━━━━━━━━━━━━━━━━━━━━━━━━┳━━━━━┓\n",
       "┃<span style=\"font-weight: bold\"> PyGrid    </span>┃<span style=\"font-weight: bold\"> Info                                      </span>┃<span style=\"font-weight: bold\"> 600 </span>┃\n",
       "┡━━━━━━━━━━━╇━━━━━━━━━━━━━━━━━━━━━━━━━━━━━━━━━━━━━━━━━━━╇━━━━━┩\n",
       "│<span style=\"color: #800080; text-decoration-color: #800080\"> UI (βeta) </span>│ http://localhost:8081/login               │ ❌  │\n",
       "│<span style=\"color: #800080; text-decoration-color: #800080\"> api       </span>│ http://localhost:8081/api/v1/openapi.json │ ✅  │\n",
       "└───────────┴───────────────────────────────────────────┴─────┘\n",
       "</pre>\n"
      ],
      "text/plain": [
       "┏━━━━━━━━━━━┳━━━━━━━━━━━━━━━━━━━━━━━━━━━━━━━━━━━━━━━━━━━┳━━━━━┓\n",
       "┃\u001b[1m \u001b[0m\u001b[1mPyGrid   \u001b[0m\u001b[1m \u001b[0m┃\u001b[1m \u001b[0m\u001b[1mInfo                                     \u001b[0m\u001b[1m \u001b[0m┃\u001b[1m \u001b[0m\u001b[1m600\u001b[0m\u001b[1m \u001b[0m┃\n",
       "┡━━━━━━━━━━━╇━━━━━━━━━━━━━━━━━━━━━━━━━━━━━━━━━━━━━━━━━━━╇━━━━━┩\n",
       "│\u001b[35m \u001b[0m\u001b[35mUI (βeta)\u001b[0m\u001b[35m \u001b[0m│ http://localhost:8081/login               │ ❌  │\n",
       "│\u001b[35m \u001b[0m\u001b[35mapi      \u001b[0m\u001b[35m \u001b[0m│ http://localhost:8081/api/v1/openapi.json │ ✅  │\n",
       "└───────────┴───────────────────────────────────────────┴─────┘\n"
      ]
     },
     "metadata": {},
     "output_type": "display_data"
    }
   ],
   "source": [
    "import hagrid\n",
    "hagrid.check(\"localhost:8081\")"
   ]
  },
  {
   "cell_type": "code",
   "execution_count": 3,
   "metadata": {},
   "outputs": [
    {
     "name": "stdout",
     "output_type": "stream",
     "text": [
      "✅ The installed version of syft==0.7.0 matches the requirement ==0.7\n",
      "\u001b[93mWARNING:\u001b[0m CHANGE YOUR USERNAME AND PASSWORD!!! \n",
      "\n",
      "Anyone can login as an admin to your node right now because your password is still the default PySyft username and password!!!\n",
      "\n",
      "Connecting to localhost... done! \t Logging into test_domain... done!\n"
     ]
    }
   ],
   "source": [
    "import syft as sy\n",
    "sy.requires(\"==0.7\")\n",
    "domain_client = sy.login(\n",
    "    port=8081,\n",
    "    email=\"info@openmined.org\",\n",
    "    password=\"changethis\"\n",
    ")"
   ]
  },
  {
   "cell_type": "code",
   "execution_count": 4,
   "metadata": {},
   "outputs": [
    {
     "data": {
      "text/plain": [
       "<Address - Domain:<SpecificLocation:..b4b6f>>"
      ]
     },
     "execution_count": 4,
     "metadata": {},
     "output_type": "execute_result"
    }
   ],
   "source": [
    "domain_client.address"
   ]
  },
  {
   "attachments": {},
   "cell_type": "markdown",
   "metadata": {},
   "source": [
    "Initial store"
   ]
  },
  {
   "cell_type": "code",
   "execution_count": 5,
   "metadata": {},
   "outputs": [
    {
     "data": {
      "text/html": [
       "<div>\n",
       "<style scoped>\n",
       "    .dataframe tbody tr th:only-of-type {\n",
       "        vertical-align: middle;\n",
       "    }\n",
       "\n",
       "    .dataframe tbody tr th {\n",
       "        vertical-align: top;\n",
       "    }\n",
       "\n",
       "    .dataframe thead th {\n",
       "        text-align: right;\n",
       "    }\n",
       "</style>\n",
       "<table border=\"1\" class=\"dataframe\">\n",
       "  <thead>\n",
       "    <tr style=\"text-align: right;\">\n",
       "      <th></th>\n",
       "      <th>ID</th>\n",
       "      <th>Tags</th>\n",
       "      <th>Description</th>\n",
       "      <th>object_type</th>\n",
       "    </tr>\n",
       "  </thead>\n",
       "  <tbody>\n",
       "    <tr>\n",
       "      <th>0</th>\n",
       "      <td>&lt;UID: 10d92d1a8d6548e8ad84c73e713cca2f&gt;</td>\n",
       "      <td>[]</td>\n",
       "      <td></td>\n",
       "      <td>&lt;class 'syft.lib.python.Float'&gt;</td>\n",
       "    </tr>\n",
       "    <tr>\n",
       "      <th>1</th>\n",
       "      <td>&lt;UID: b695c3e0a99d478bb744e345ed1cd9e8&gt;</td>\n",
       "      <td>[]</td>\n",
       "      <td></td>\n",
       "      <td>&lt;class 'syft.lib.python.Int'&gt;</td>\n",
       "    </tr>\n",
       "    <tr>\n",
       "      <th>2</th>\n",
       "      <td>&lt;UID: af8c755a1a914f9da092e1f731ff42e0&gt;</td>\n",
       "      <td>[]</td>\n",
       "      <td></td>\n",
       "      <td>&lt;class 'syft.lib.python.Int'&gt;</td>\n",
       "    </tr>\n",
       "    <tr>\n",
       "      <th>3</th>\n",
       "      <td>&lt;UID: 29f7c0ca0cd9402e83a6c89f069a7fb6&gt;</td>\n",
       "      <td>[]</td>\n",
       "      <td></td>\n",
       "      <td>&lt;class 'syft.lib.python.Int'&gt;</td>\n",
       "    </tr>\n",
       "    <tr>\n",
       "      <th>4</th>\n",
       "      <td>&lt;UID: da2118bb04024ccf8fa4f1530130d3d3&gt;</td>\n",
       "      <td>[]</td>\n",
       "      <td></td>\n",
       "      <td>&lt;class 'syft.lib.python.Int'&gt;</td>\n",
       "    </tr>\n",
       "    <tr>\n",
       "      <th>5</th>\n",
       "      <td>&lt;UID: 85c420b0c65e4a4c90a2e71e837dd53d&gt;</td>\n",
       "      <td>[]</td>\n",
       "      <td></td>\n",
       "      <td>&lt;class 'syft.lib.python.Int'&gt;</td>\n",
       "    </tr>\n",
       "    <tr>\n",
       "      <th>6</th>\n",
       "      <td>&lt;UID: ba4780925cf8440aa4c09ff7ef1f373f&gt;</td>\n",
       "      <td>[]</td>\n",
       "      <td></td>\n",
       "      <td>&lt;class 'syft.lib.python.Int'&gt;</td>\n",
       "    </tr>\n",
       "    <tr>\n",
       "      <th>7</th>\n",
       "      <td>&lt;UID: c22a048cb7bc432390977e42a3c777f4&gt;</td>\n",
       "      <td>[#example_dataset]</td>\n",
       "      <td></td>\n",
       "      <td>&lt;class 'syft.core.tensor.tensor.Tensor'&gt;</td>\n",
       "    </tr>\n",
       "    <tr>\n",
       "      <th>8</th>\n",
       "      <td>&lt;UID: ec900f7c95c1444186e343010922b2d0&gt;</td>\n",
       "      <td>[]</td>\n",
       "      <td></td>\n",
       "      <td>&lt;class 'syft.lib.python.Int'&gt;</td>\n",
       "    </tr>\n",
       "    <tr>\n",
       "      <th>9</th>\n",
       "      <td>&lt;UID: 865007bb7b9c42dab0c3a5bae2c37ace&gt;</td>\n",
       "      <td>[]</td>\n",
       "      <td></td>\n",
       "      <td>&lt;class 'syft.lib.python.Int'&gt;</td>\n",
       "    </tr>\n",
       "    <tr>\n",
       "      <th>10</th>\n",
       "      <td>&lt;UID: 4a96ebf186e343f0b3c1c6fb442eb0dc&gt;</td>\n",
       "      <td>[]</td>\n",
       "      <td></td>\n",
       "      <td>&lt;class 'syft.lib.python.Float'&gt;</td>\n",
       "    </tr>\n",
       "  </tbody>\n",
       "</table>\n",
       "</div>"
      ],
      "text/plain": [
       "[<FloatPointer -> test_domain:10d92d1a8d6548e8ad84c73e713cca2f, status=\u001b[92mReady\u001b[0m>, <IntPointer -> test_domain:b695c3e0a99d478bb744e345ed1cd9e8, status=\u001b[92mReady\u001b[0m>, <IntPointer -> test_domain:af8c755a1a914f9da092e1f731ff42e0, status=\u001b[92mReady\u001b[0m>, <IntPointer -> test_domain:29f7c0ca0cd9402e83a6c89f069a7fb6, status=\u001b[92mReady\u001b[0m>, <IntPointer -> test_domain:da2118bb04024ccf8fa4f1530130d3d3, status=\u001b[92mReady\u001b[0m>, <IntPointer -> test_domain:85c420b0c65e4a4c90a2e71e837dd53d, status=\u001b[92mReady\u001b[0m>, <IntPointer -> test_domain:ba4780925cf8440aa4c09ff7ef1f373f, status=\u001b[92mReady\u001b[0m>, PointerId: c22a048cb7bc432390977e42a3c777f4\n",
       "Status: \u001b[92mReady\u001b[0m\n",
       "Representation: array([1, 1, 2])\n",
       "\n",
       "(The data printed above is synthetic - it's an imitation of the real data.), <IntPointer -> test_domain:ec900f7c95c1444186e343010922b2d0, status=\u001b[92mReady\u001b[0m>, <IntPointer -> test_domain:865007bb7b9c42dab0c3a5bae2c37ace, status=\u001b[92mReady\u001b[0m>, <FloatPointer -> test_domain:4a96ebf186e343f0b3c1c6fb442eb0dc, status=\u001b[92mReady\u001b[0m>]"
      ]
     },
     "execution_count": 5,
     "metadata": {},
     "output_type": "execute_result"
    }
   ],
   "source": [
    "domain_client.store"
   ]
  },
  {
   "attachments": {},
   "cell_type": "markdown",
   "metadata": {},
   "source": [
    "## Making 2 pointers to 2 integers"
   ]
  },
  {
   "cell_type": "code",
   "execution_count": null,
   "metadata": {},
   "outputs": [],
   "source": [
    "# ⚔️ Runnable Code\n",
    "one = sy.lib.python.Int(1)\n",
    "one_ptr = one.send(domain_client)\n",
    "one_ptr"
   ]
  },
  {
   "cell_type": "code",
   "execution_count": null,
   "metadata": {},
   "outputs": [],
   "source": [
    "two_ptr = domain_client.syft.lib.python.Int(2)\n",
    "two_ptr"
   ]
  },
  {
   "cell_type": "code",
   "execution_count": 12,
   "metadata": {},
   "outputs": [
    {
     "data": {
      "text/html": [
       "<div>\n",
       "<style scoped>\n",
       "    .dataframe tbody tr th:only-of-type {\n",
       "        vertical-align: middle;\n",
       "    }\n",
       "\n",
       "    .dataframe tbody tr th {\n",
       "        vertical-align: top;\n",
       "    }\n",
       "\n",
       "    .dataframe thead th {\n",
       "        text-align: right;\n",
       "    }\n",
       "</style>\n",
       "<table border=\"1\" class=\"dataframe\">\n",
       "  <thead>\n",
       "    <tr style=\"text-align: right;\">\n",
       "      <th></th>\n",
       "      <th>ID</th>\n",
       "      <th>Tags</th>\n",
       "      <th>Description</th>\n",
       "      <th>object_type</th>\n",
       "    </tr>\n",
       "  </thead>\n",
       "  <tbody>\n",
       "    <tr>\n",
       "      <th>0</th>\n",
       "      <td>&lt;UID: ec900f7c95c1444186e343010922b2d0&gt;</td>\n",
       "      <td>[]</td>\n",
       "      <td></td>\n",
       "      <td>&lt;class 'syft.lib.python.Int'&gt;</td>\n",
       "    </tr>\n",
       "    <tr>\n",
       "      <th>1</th>\n",
       "      <td>&lt;UID: da2118bb04024ccf8fa4f1530130d3d3&gt;</td>\n",
       "      <td>[]</td>\n",
       "      <td></td>\n",
       "      <td>&lt;class 'syft.lib.python.Int'&gt;</td>\n",
       "    </tr>\n",
       "    <tr>\n",
       "      <th>2</th>\n",
       "      <td>&lt;UID: b695c3e0a99d478bb744e345ed1cd9e8&gt;</td>\n",
       "      <td>[]</td>\n",
       "      <td></td>\n",
       "      <td>&lt;class 'syft.lib.python.Int'&gt;</td>\n",
       "    </tr>\n",
       "  </tbody>\n",
       "</table>\n",
       "</div>"
      ],
      "text/plain": [
       "[<IntPointer -> test_domain:ec900f7c95c1444186e343010922b2d0, status=\u001b[92mReady\u001b[0m>, <IntPointer -> test_domain:da2118bb04024ccf8fa4f1530130d3d3, status=\u001b[92mReady\u001b[0m>, <IntPointer -> test_domain:b695c3e0a99d478bb744e345ed1cd9e8, status=\u001b[92mReady\u001b[0m>]"
      ]
     },
     "execution_count": 12,
     "metadata": {},
     "output_type": "execute_result"
    }
   ],
   "source": [
    "domain_client.store"
   ]
  },
  {
   "cell_type": "code",
   "execution_count": 23,
   "metadata": {},
   "outputs": [],
   "source": [
    "one_ptr = domain_client.store['da2118bb04024ccf8fa4f1530130d3d3']\n",
    "two_ptr = domain_client.store['b695c3e0a99d478bb744e345ed1cd9e8']"
   ]
  },
  {
   "cell_type": "code",
   "execution_count": 24,
   "metadata": {},
   "outputs": [
    {
     "data": {
      "text/plain": [
       "<IntPointer -> test_domain:da2118bb04024ccf8fa4f1530130d3d3, status=\u001b[92mReady\u001b[0m>"
      ]
     },
     "execution_count": 24,
     "metadata": {},
     "output_type": "execute_result"
    }
   ],
   "source": [
    "one_ptr"
   ]
  },
  {
   "cell_type": "code",
   "execution_count": 25,
   "metadata": {},
   "outputs": [
    {
     "data": {
      "text/plain": [
       "<IntPointer -> test_domain:b695c3e0a99d478bb744e345ed1cd9e8, status=\u001b[92mReady\u001b[0m>"
      ]
     },
     "execution_count": 25,
     "metadata": {},
     "output_type": "execute_result"
    }
   ],
   "source": [
    "two_ptr"
   ]
  },
  {
   "cell_type": "code",
   "execution_count": 26,
   "metadata": {},
   "outputs": [
    {
     "data": {
      "text/plain": [
       "1"
      ]
     },
     "execution_count": 26,
     "metadata": {},
     "output_type": "execute_result"
    }
   ],
   "source": [
    "one_ptr.get(delete_obj=False)"
   ]
  },
  {
   "cell_type": "code",
   "execution_count": 27,
   "metadata": {},
   "outputs": [
    {
     "data": {
      "text/plain": [
       "2"
      ]
     },
     "execution_count": 27,
     "metadata": {},
     "output_type": "execute_result"
    }
   ],
   "source": [
    "two_ptr.get(delete_obj=False)"
   ]
  },
  {
   "attachments": {},
   "cell_type": "markdown",
   "metadata": {},
   "source": [
    "## AST"
   ]
  },
  {
   "attachments": {},
   "cell_type": "markdown",
   "metadata": {},
   "source": [
    "The `domain client` exposes a series of APIs called `ast` which match a list of `allowed` methods and functions on supported data types"
   ]
  },
  {
   "cell_type": "code",
   "execution_count": 6,
   "metadata": {},
   "outputs": [
    {
     "data": {
      "text/plain": [
       "Module:\n",
       "\t.syft -> Module:\n",
       "\t\t.lib -> Module:\n",
       "\t\t\t.python -> Module:\n",
       "\t\t\t\t.collections -> Module:\n",
       "\t\t\t\t\t.OrderedDict -> <syft.ast.klass.Class object at 0x7f32254e45e0>\n",
       "\n",
       "\t\t\t\t.Bytes -> <syft.ast.klass.Class object at 0x7f322568ffa0>\n",
       "\t\t\t\t.Bool -> <syft.ast.klass.Class object at 0x7f32254e4040>\n",
       "\t\t\t\t.Complex -> <syft.ast.klass.Class object at 0x7f32254e40a0>\n",
       "\t\t\t\t.Dict -> <syft.ast.klass.Class object at 0x7f32254e4100>\n",
       "\t\t\t\t.Float -> <syft.ast.klass.Class object at 0x7f32254e4160>\n",
       "\t\t\t\t.Int -> <syft.ast.klass.Class object at 0x7f32254e41c0>\n",
       "\t\t\t\t.List -> <syft.ast.klass.Class object at 0x7f32254e4220>\n",
       "\t\t\t\t.Slice -> <syft.ast.klass.Class object at 0x7f32254e4280>\n",
       "\t\t\t\t.Range -> <syft.ast.klass.Class object at 0x7f32254e42e0>\n",
       "\t\t\t\t.String -> <syft.ast.klass.Class object at 0x7f32254e4340>\n",
       "\t\t\t\t._SyNone -> <syft.ast.klass.Class object at 0x7f32254e43a0>\n",
       "\t\t\t\t.PyPrimitive -> <syft.ast.klass.Class object at 0x7f32254e4400>\n",
       "\t\t\t\t.Any -> <syft.ast.klass.Class object at 0x7f32254e4460>\n",
       "\t\t\t\t.Tuple -> <syft.ast.klass.Class object at 0x7f32254e44c0>\n",
       "\t\t\t\t.Iterator -> <syft.ast.klass.Class object at 0x7f32254e4520>\n",
       "\t\t\t\t.Set -> <syft.ast.klass.Class object at 0x7f32254e4580>\n",
       "\n",
       "\t\t\t.misc -> Module:\n",
       "\t\t\t\t.union -> Module:\n",
       "\t\t\t\t\t.BoolFloatIntUnion -> <syft.ast.klass.Class object at 0x7f322522b5e0>\n",
       "\t\t\t\t\t.BoolFloatIntmaxUnion -> <syft.ast.klass.Class object at 0x7f322522b340>\n",
       "\t\t\t\t\t.BoolFloatIntmedianUnion -> <syft.ast.klass.Class object at 0x7f322522b3a0>\n",
       "\t\t\t\t\t.BoolFloatIntminUnion -> <syft.ast.klass.Class object at 0x7f322522b400>\n",
       "\t\t\t\t\t.IntListUnion -> <syft.ast.klass.Class object at 0x7f322522b460>\n",
       "\t\t\t\t\t.IntSizeUnion -> <syft.ast.klass.Class object at 0x7f322522b4c0>\n",
       "\t\t\t\t\t.Int_SyNoneUnion -> <syft.ast.klass.Class object at 0x7f322522b580>\n",
       "\t\t\t\t\t.FloatIntStringTensorParameterUnion -> <syft.ast.klass.Class object at 0x7f322522b700>\n",
       "\n",
       "\n",
       "\n",
       "\t\t.core -> Module:\n",
       "\t\t\t.tensor -> Module:\n",
       "\t\t\t\t.tensor -> Module:\n",
       "\t\t\t\t\t.Tensor -> <syft.ast.klass.Class object at 0x7f322546e560>\n",
       "\n",
       "\t\t\t\t.smpc -> Module:\n",
       "\t\t\t\t\t.share_tensor -> Module:\n",
       "\t\t\t\t\t\t.ShareTensor -> <syft.ast.klass.Class object at 0x7f322546e680>\n",
       "\t\t\t\t\t\t.populate_store -> <syft.ast.callable.Callable object at 0x7f3225366f80>\n",
       "\n",
       "\n",
       "\t\t\t\t.fixed_precision_tensor -> Module:\n",
       "\t\t\t\t\t.FixedPrecisionTensor -> <syft.ast.klass.Class object at 0x7f322546e6e0>\n",
       "\n",
       "\t\t\t\t.autodp -> Module:\n",
       "\t\t\t\t\t.phi_tensor -> Module:\n",
       "\t\t\t\t\t\t.PhiTensor -> <syft.ast.klass.Class object at 0x7f322546e5c0>\n",
       "\n",
       "\t\t\t\t\t.gamma_tensor -> Module:\n",
       "\t\t\t\t\t\t.GammaTensor -> <syft.ast.klass.Class object at 0x7f322546e620>\n",
       "\n",
       "\n",
       "\n",
       "\t\t\t.node -> Module:\n",
       "\t\t\t\t.common -> Module:\n",
       "\t\t\t\t\t.client -> Module:\n",
       "\t\t\t\t\t\t.Client -> <syft.ast.klass.Class object at 0x7f322546df60>\n",
       "\n",
       "\n",
       "\n",
       "\t\t\t.common -> Module:\n",
       "\t\t\t\t.uid -> Module:\n",
       "\t\t\t\t\t.UID -> <syft.ast.klass.Class object at 0x7f322546dfc0>\n",
       "\n",
       "\n",
       "\t\t\t.smpc -> Module:\n",
       "\t\t\t\t.store -> Module:\n",
       "\t\t\t\t\t.CryptoStore -> <syft.ast.klass.Class object at 0x7f3225367340>\n",
       "\n",
       "\t\t\t\t.protocol -> Module:\n",
       "\t\t\t\t\t.spdz -> Module:\n",
       "\t\t\t\t\t\t.spdz -> Module:\n",
       "\n",
       "\n",
       "\n",
       "\n",
       "\n",
       "\n",
       "\t.torch -> Module:\n",
       "\t\t.Tensor -> <syft.ast.klass.Class object at 0x7f32255032e0>\n",
       "\t\t.BFloat16Tensor -> <syft.ast.klass.Class object at 0x7f3225503340>\n",
       "\t\t.BoolTensor -> <syft.ast.klass.Class object at 0x7f32255033a0>\n",
       "\t\t.ByteTensor -> <syft.ast.klass.Class object at 0x7f3225503400>\n",
       "\t\t.CharTensor -> <syft.ast.klass.Class object at 0x7f3225503460>\n",
       "\t\t.DoubleTensor -> <syft.ast.klass.Class object at 0x7f32255034c0>\n",
       "\t\t.FloatTensor -> <syft.ast.klass.Class object at 0x7f3225503520>\n",
       "\t\t.HalfTensor -> <syft.ast.klass.Class object at 0x7f3225503580>\n",
       "\t\t.IntTensor -> <syft.ast.klass.Class object at 0x7f32255035e0>\n",
       "\t\t.LongTensor -> <syft.ast.klass.Class object at 0x7f3225503640>\n",
       "\t\t.ShortTensor -> <syft.ast.klass.Class object at 0x7f32255036a0>\n",
       "\t\t.nn -> Module:\n",
       "\t\t\t.Parameter -> <syft.ast.klass.Class object at 0x7f32255037c0>\n",
       "\t\t\t.Module -> <syft.ast.klass.Class object at 0x7f32255bf1c0>\n",
       "\t\t\t.Conv2d -> <syft.ast.klass.Class object at 0x7f32255bf6a0>\n",
       "\t\t\t.Dropout2d -> <syft.ast.klass.Class object at 0x7f32255bfac0>\n",
       "\t\t\t.Linear -> <syft.ast.klass.Class object at 0x7f32255bfe20>\n",
       "\t\t\t.functional -> Module:\n",
       "\t\t\t\t.relu -> <syft.ast.callable.Callable object at 0x7f32255c87c0>\n",
       "\t\t\t\t.leaky_relu -> <syft.ast.callable.Callable object at 0x7f32255c8820>\n",
       "\t\t\t\t.gelu -> <syft.ast.callable.Callable object at 0x7f32255c8880>\n",
       "\t\t\t\t.max_pool2d -> <syft.ast.callable.Callable object at 0x7f32255c88e0>\n",
       "\t\t\t\t.log_softmax -> <syft.ast.callable.Callable object at 0x7f32255c8940>\n",
       "\t\t\t\t.cosine_embedding_loss -> <syft.ast.callable.Callable object at 0x7f32255ca5c0>\n",
       "\t\t\t\t.ctc_loss -> <syft.ast.callable.Callable object at 0x7f32255ca6e0>\n",
       "\t\t\t\t.hinge_embedding_loss -> <syft.ast.callable.Callable object at 0x7f32255ca680>\n",
       "\t\t\t\t.l1_loss -> <syft.ast.callable.Callable object at 0x7f32255ca800>\n",
       "\t\t\t\t.margin_ranking_loss -> <syft.ast.callable.Callable object at 0x7f32255ca7a0>\n",
       "\t\t\t\t.mse_loss -> <syft.ast.callable.Callable object at 0x7f32255ca920>\n",
       "\t\t\t\t.multi_margin_loss -> <syft.ast.callable.Callable object at 0x7f32255ca8c0>\n",
       "\t\t\t\t.multilabel_margin_loss -> <syft.ast.callable.Callable object at 0x7f32255ca9e0>\n",
       "\t\t\t\t.multilabel_soft_margin_loss -> <syft.ast.callable.Callable object at 0x7f32255caaa0>\n",
       "\t\t\t\t.nll_loss -> <syft.ast.callable.Callable object at 0x7f32255cabc0>\n",
       "\t\t\t\t.cross_entropy -> <syft.ast.callable.Callable object at 0x7f32255cab60>\n",
       "\t\t\t\t.poisson_nll_loss -> <syft.ast.callable.Callable object at 0x7f32255cac80>\n",
       "\t\t\t\t.smooth_l1_loss -> <syft.ast.callable.Callable object at 0x7f32255cad40>\n",
       "\t\t\t\t.soft_margin_loss -> <syft.ast.callable.Callable object at 0x7f32255cae00>\n",
       "\t\t\t\t.triplet_margin_loss -> <syft.ast.callable.Callable object at 0x7f32255caec0>\n",
       "\n",
       "\t\t\t.Sequential -> <syft.ast.klass.Class object at 0x7f32255ca260>\n",
       "\t\t\t.AdaptiveLogSoftmaxWithLoss -> <syft.ast.klass.Class object at 0x7f32255cafe0>\n",
       "\t\t\t.BCELoss -> <syft.ast.klass.Class object at 0x7f32255cb160>\n",
       "\t\t\t.BCEWithLogitsLoss -> <syft.ast.klass.Class object at 0x7f32255cb220>\n",
       "\t\t\t.CTCLoss -> <syft.ast.klass.Class object at 0x7f32255cb340>\n",
       "\t\t\t.CrossEntropyLoss -> <syft.ast.klass.Class object at 0x7f32255cb400>\n",
       "\t\t\t.CosineEmbeddingLoss -> <syft.ast.klass.Class object at 0x7f32255cb520>\n",
       "\t\t\t.HingeEmbeddingLoss -> <syft.ast.klass.Class object at 0x7f32255cb640>\n",
       "\t\t\t.KLDivLoss -> <syft.ast.klass.Class object at 0x7f32255cb760>\n",
       "\t\t\t.L1Loss -> <syft.ast.klass.Class object at 0x7f32255cb820>\n",
       "\t\t\t.MSELoss -> <syft.ast.klass.Class object at 0x7f32255cb8e0>\n",
       "\t\t\t.MarginRankingLoss -> <syft.ast.klass.Class object at 0x7f32255cb9a0>\n",
       "\t\t\t.MultiLabelMarginLoss -> <syft.ast.klass.Class object at 0x7f32255cbac0>\n",
       "\t\t\t.MultiLabelSoftMarginLoss -> <syft.ast.klass.Class object at 0x7f32255cbc40>\n",
       "\t\t\t.MultiMarginLoss -> <syft.ast.klass.Class object at 0x7f32255cbd60>\n",
       "\t\t\t.NLLLoss -> <syft.ast.klass.Class object at 0x7f32255cbe80>\n",
       "\t\t\t.NLLLoss2d -> <syft.ast.klass.Class object at 0x7f32255cbf40>\n",
       "\t\t\t.PoissonNLLLoss -> <syft.ast.klass.Class object at 0x7f32253e4040>\n",
       "\t\t\t.SmoothL1Loss -> <syft.ast.klass.Class object at 0x7f32253e4160>\n",
       "\t\t\t.SoftMarginLoss -> <syft.ast.klass.Class object at 0x7f32253e4220>\n",
       "\t\t\t.TripletMarginLoss -> <syft.ast.klass.Class object at 0x7f32253e4340>\n",
       "\t\t\t.AdaptiveAvgPool1d -> <syft.ast.klass.Class object at 0x7f32253e4460>\n",
       "\t\t\t.AdaptiveAvgPool2d -> <syft.ast.klass.Class object at 0x7f32253e4ac0>\n",
       "\t\t\t.AdaptiveAvgPool3d -> <syft.ast.klass.Class object at 0x7f32253e5120>\n",
       "\t\t\t.AdaptiveMaxPool1d -> <syft.ast.klass.Class object at 0x7f32253e5780>\n",
       "\t\t\t.AdaptiveMaxPool2d -> <syft.ast.klass.Class object at 0x7f32253e5de0>\n",
       "\t\t\t.AdaptiveMaxPool3d -> <syft.ast.klass.Class object at 0x7f32253e6440>\n",
       "\t\t\t.AlphaDropout -> <syft.ast.klass.Class object at 0x7f32253e6aa0>\n",
       "\t\t\t.AvgPool1d -> <syft.ast.klass.Class object at 0x7f32253e7040>\n",
       "\t\t\t.AvgPool2d -> <syft.ast.klass.Class object at 0x7f32253e74c0>\n",
       "\t\t\t.AvgPool3d -> <syft.ast.klass.Class object at 0x7f32253e7940>\n",
       "\t\t\t.BatchNorm1d -> <syft.ast.klass.Class object at 0x7f32253e7dc0>\n",
       "\t\t\t.BatchNorm2d -> <syft.ast.klass.Class object at 0x7f32253ec280>\n",
       "\t\t\t.BatchNorm3d -> <syft.ast.klass.Class object at 0x7f32253ec700>\n",
       "\t\t\t.Bilinear -> <syft.ast.klass.Class object at 0x7f32253ecb80>\n",
       "\t\t\t.CELU -> <syft.ast.klass.Class object at 0x7f32253ed000>\n",
       "\t\t\t.ConstantPad1d -> <syft.ast.klass.Class object at 0x7f32253ed420>\n",
       "\t\t\t.ConstantPad2d -> <syft.ast.klass.Class object at 0x7f32253ed9c0>\n",
       "\t\t\t.ConstantPad3d -> <syft.ast.klass.Class object at 0x7f32253edf60>\n",
       "\t\t\t.Container -> <syft.ast.klass.Class object at 0x7f32253ee500>\n",
       "\t\t\t.Conv1d -> <syft.ast.klass.Class object at 0x7f32253ee980>\n",
       "\t\t\t.Conv3d -> <syft.ast.klass.Class object at 0x7f32253eeda0>\n",
       "\t\t\t.ConvTranspose1d -> <syft.ast.klass.Class object at 0x7f32253ef1c0>\n",
       "\t\t\t.ConvTranspose2d -> <syft.ast.klass.Class object at 0x7f32253ef7c0>\n",
       "\t\t\t.ConvTranspose3d -> <syft.ast.klass.Class object at 0x7f32253efdc0>\n",
       "\t\t\t.CosineSimilarity -> <syft.ast.klass.Class object at 0x7f32253f83a0>\n",
       "\t\t\t.CrossMapLRN2d -> <syft.ast.klass.Class object at 0x7f32253f89a0>\n",
       "\t\t\t.DataParallel -> <syft.ast.klass.Class object at 0x7f32253f8f40>\n",
       "\t\t\t.Dropout -> <syft.ast.klass.Class object at 0x7f32253f94e0>\n",
       "\t\t\t.Dropout3d -> <syft.ast.klass.Class object at 0x7f32253f9a80>\n",
       "\t\t\t.ELU -> <syft.ast.klass.Class object at 0x7f32253f9f00>\n",
       "\t\t\t.Embedding -> <syft.ast.klass.Class object at 0x7f32253fa2c0>\n",
       "\t\t\t.EmbeddingBag -> <syft.ast.klass.Class object at 0x7f32253fa740>\n",
       "\t\t\t.FeatureAlphaDropout -> <syft.ast.klass.Class object at 0x7f32253face0>\n",
       "\t\t\t.Flatten -> <syft.ast.klass.Class object at 0x7f32253fb400>\n",
       "\t\t\t.Fold -> <syft.ast.klass.Class object at 0x7f32253fb880>\n",
       "\t\t\t.FractionalMaxPool2d -> <syft.ast.klass.Class object at 0x7f32253fbca0>\n",
       "\t\t\t.FractionalMaxPool3d -> <syft.ast.klass.Class object at 0x7f3225410400>\n",
       "\t\t\t.GELU -> <syft.ast.klass.Class object at 0x7f3225410b20>\n",
       "\t\t\t.GLU -> <syft.ast.klass.Class object at 0x7f3225410f40>\n",
       "\t\t\t.GRU -> <syft.ast.klass.Class object at 0x7f3225411300>\n",
       "\t\t\t.GRUCell -> <syft.ast.klass.Class object at 0x7f32254116c0>\n",
       "\t\t\t.GroupNorm -> <syft.ast.klass.Class object at 0x7f3225411b40>\n",
       "\t\t\t.Hardshrink -> <syft.ast.klass.Class object at 0x7f3225411fc0>\n",
       "\t\t\t.Hardsigmoid -> <syft.ast.klass.Class object at 0x7f3225412440>\n",
       "\t\t\t.Hardswish -> <syft.ast.klass.Class object at 0x7f3225412800>\n",
       "\t\t\t.Hardtanh -> <syft.ast.klass.Class object at 0x7f3225412bc0>\n",
       "\t\t\t.Identity -> <syft.ast.klass.Class object at 0x7f3225413040>\n",
       "\t\t\t.InstanceNorm1d -> <syft.ast.klass.Class object at 0x7f3225413460>\n",
       "\t\t\t.InstanceNorm2d -> <syft.ast.klass.Class object at 0x7f3225413a60>\n",
       "\t\t\t.InstanceNorm3d -> <syft.ast.klass.Class object at 0x7f32254200a0>\n",
       "\t\t\t.LPPool1d -> <syft.ast.klass.Class object at 0x7f32254206a0>\n",
       "\t\t\t.LPPool2d -> <syft.ast.klass.Class object at 0x7f3225420b20>\n",
       "\t\t\t.LSTM -> <syft.ast.klass.Class object at 0x7f3225420fa0>\n",
       "\t\t\t.LSTMCell -> <syft.ast.klass.Class object at 0x7f32254213c0>\n",
       "\t\t\t.LayerNorm -> <syft.ast.klass.Class object at 0x7f3225421840>\n",
       "\t\t\t.LeakyReLU -> <syft.ast.klass.Class object at 0x7f3225421cc0>\n",
       "\t\t\t.LocalResponseNorm -> <syft.ast.klass.Class object at 0x7f3225422140>\n",
       "\t\t\t.LogSigmoid -> <syft.ast.klass.Class object at 0x7f32254227a0>\n",
       "\t\t\t.LogSoftmax -> <syft.ast.klass.Class object at 0x7f3225422c20>\n",
       "\t\t\t.MaxPool1d -> <syft.ast.klass.Class object at 0x7f32254230a0>\n",
       "\t\t\t.MaxPool2d -> <syft.ast.klass.Class object at 0x7f3225423520>\n",
       "\t\t\t.MaxPool3d -> <syft.ast.klass.Class object at 0x7f32254239a0>\n",
       "\t\t\t.MaxUnpool1d -> <syft.ast.klass.Class object at 0x7f3225423e20>\n",
       "\t\t\t.MaxUnpool2d -> <syft.ast.klass.Class object at 0x7f322542c2e0>\n",
       "\t\t\t.MaxUnpool3d -> <syft.ast.klass.Class object at 0x7f322542c760>\n",
       "\t\t\t.ModuleDict -> <syft.ast.klass.Class object at 0x7f322542cbe0>\n",
       "\t\t\t.ModuleList -> <syft.ast.klass.Class object at 0x7f322542d060>\n",
       "\t\t\t.MultiheadAttention -> <syft.ast.klass.Class object at 0x7f322542d5a0>\n",
       "\t\t\t.PReLU -> <syft.ast.klass.Class object at 0x7f322542dc60>\n",
       "\t\t\t.PairwiseDistance -> <syft.ast.klass.Class object at 0x7f322542e080>\n",
       "\t\t\t.PixelShuffle -> <syft.ast.klass.Class object at 0x7f322542e680>\n",
       "\t\t\t.RNN -> <syft.ast.klass.Class object at 0x7f322542ebc0>\n",
       "\t\t\t.RNNBase -> <syft.ast.klass.Class object at 0x7f322542ef80>\n",
       "\t\t\t.RNNCell -> <syft.ast.klass.Class object at 0x7f322542f400>\n",
       "\t\t\t.RNNCellBase -> <syft.ast.klass.Class object at 0x7f322542f880>\n",
       "\t\t\t.RReLU -> <syft.ast.klass.Class object at 0x7f322542fd00>\n",
       "\t\t\t.ReLU -> <syft.ast.klass.Class object at 0x7f322543c160>\n",
       "\t\t\t.ReLU6 -> <syft.ast.klass.Class object at 0x7f322543c580>\n",
       "\t\t\t.ReflectionPad1d -> <syft.ast.klass.Class object at 0x7f322543c9a0>\n",
       "\t\t\t.ReflectionPad2d -> <syft.ast.klass.Class object at 0x7f322543cfa0>\n",
       "\t\t\t.ReplicationPad1d -> <syft.ast.klass.Class object at 0x7f322543d5a0>\n",
       "\t\t\t.ReplicationPad2d -> <syft.ast.klass.Class object at 0x7f322543dba0>\n",
       "\t\t\t.ReplicationPad3d -> <syft.ast.klass.Class object at 0x7f322543e1a0>\n",
       "\t\t\t.SELU -> <syft.ast.klass.Class object at 0x7f322543e7a0>\n",
       "\t\t\t.Sigmoid -> <syft.ast.klass.Class object at 0x7f322543ed40>\n",
       "\t\t\t.Softmax -> <syft.ast.klass.Class object at 0x7f322543f1c0>\n",
       "\t\t\t.Softmax2d -> <syft.ast.klass.Class object at 0x7f322543f640>\n",
       "\t\t\t.Softmin -> <syft.ast.klass.Class object at 0x7f322543fac0>\n",
       "\t\t\t.Softplus -> <syft.ast.klass.Class object at 0x7f322543ff40>\n",
       "\t\t\t.Softshrink -> <syft.ast.klass.Class object at 0x7f322544c400>\n",
       "\t\t\t.Softsign -> <syft.ast.klass.Class object at 0x7f322544c880>\n",
       "\t\t\t.SyncBatchNorm -> <syft.ast.klass.Class object at 0x7f322544cd00>\n",
       "\t\t\t.Tanh -> <syft.ast.klass.Class object at 0x7f322544d2a0>\n",
       "\t\t\t.Tanhshrink -> <syft.ast.klass.Class object at 0x7f322544d6c0>\n",
       "\t\t\t.Threshold -> <syft.ast.klass.Class object at 0x7f322544db40>\n",
       "\t\t\t.Transformer -> <syft.ast.klass.Class object at 0x7f322544dfc0>\n",
       "\t\t\t.TransformerDecoder -> <syft.ast.klass.Class object at 0x7f322544e440>\n",
       "\t\t\t.TransformerDecoderLayer -> <syft.ast.klass.Class object at 0x7f322544eb60>\n",
       "\t\t\t.TransformerEncoder -> <syft.ast.klass.Class object at 0x7f322544f1c0>\n",
       "\t\t\t.TransformerEncoderLayer -> <syft.ast.klass.Class object at 0x7f322544f8e0>\n",
       "\t\t\t.Unfold -> <syft.ast.klass.Class object at 0x7f322544ff40>\n",
       "\t\t\t.Upsample -> <syft.ast.klass.Class object at 0x7f32254583a0>\n",
       "\t\t\t.UpsamplingBilinear2d -> <syft.ast.klass.Class object at 0x7f3225458820>\n",
       "\t\t\t.UpsamplingNearest2d -> <syft.ast.klass.Class object at 0x7f3225458ee0>\n",
       "\t\t\t.ZeroPad2d -> <syft.ast.klass.Class object at 0x7f3225459600>\n",
       "\n",
       "\t\t.return_types -> Module:\n",
       "\t\t\t.cummax -> <syft.ast.klass.Class object at 0x7f3225549060>\n",
       "\t\t\t.cummin -> <syft.ast.klass.Class object at 0x7f32255490c0>\n",
       "\t\t\t.kthvalue -> <syft.ast.klass.Class object at 0x7f3225549120>\n",
       "\t\t\t.slogdet -> <syft.ast.klass.Class object at 0x7f3225549180>\n",
       "\t\t\t.mode -> <syft.ast.klass.Class object at 0x7f32255491e0>\n",
       "\t\t\t.sort -> <syft.ast.klass.Class object at 0x7f3225549240>\n",
       "\t\t\t.topk -> <syft.ast.klass.Class object at 0x7f32255492a0>\n",
       "\t\t\t.svd -> <syft.ast.klass.Class object at 0x7f3225549300>\n",
       "\t\t\t.geqrf -> <syft.ast.klass.Class object at 0x7f3225549360>\n",
       "\t\t\t.median -> <syft.ast.klass.Class object at 0x7f32255493c0>\n",
       "\t\t\t.max -> <syft.ast.klass.Class object at 0x7f3225549420>\n",
       "\t\t\t.min -> <syft.ast.klass.Class object at 0x7f3225549480>\n",
       "\n",
       "\t\t.Size -> <syft.ast.klass.Class object at 0x7f32255976a0>\n",
       "\t\t.set_grad_enabled -> <syft.ast.klass.Class object at 0x7f32255979a0>\n",
       "\t\t.zeros -> <syft.ast.callable.Callable object at 0x7f3225597a60>\n",
       "\t\t.randn -> <syft.ast.callable.Callable object at 0x7f3225597ac0>\n",
       "\t\t.ones_like -> <syft.ast.callable.Callable object at 0x7f3225597b20>\n",
       "\t\t.arange -> <syft.ast.callable.Callable object at 0x7f3225597c40>\n",
       "\t\t.abs_ -> <syft.ast.callable.Callable object at 0x7f3225597ca0>\n",
       "\t\t.abs -> <syft.ast.callable.Callable object at 0x7f3225597d00>\n",
       "\t\t.acos_ -> <syft.ast.callable.Callable object at 0x7f3225597d60>\n",
       "\t\t.acos -> <syft.ast.callable.Callable object at 0x7f3225597dc0>\n",
       "\t\t.add -> <syft.ast.callable.Callable object at 0x7f3225597e20>\n",
       "\t\t.addbmm -> <syft.ast.callable.Callable object at 0x7f3225597e80>\n",
       "\t\t.addcdiv -> <syft.ast.callable.Callable object at 0x7f3225597ee0>\n",
       "\t\t.addcmul -> <syft.ast.callable.Callable object at 0x7f3225597f40>\n",
       "\t\t.addmm -> <syft.ast.callable.Callable object at 0x7f3225597fa0>\n",
       "\t\t.addmv_ -> <syft.ast.callable.Callable object at 0x7f3225597be0>\n",
       "\t\t.addmv -> <syft.ast.callable.Callable object at 0x7f32255a80a0>\n",
       "\t\t.addr -> <syft.ast.callable.Callable object at 0x7f32255a8100>\n",
       "\t\t.all -> <syft.ast.callable.Callable object at 0x7f32255a8160>\n",
       "\t\t.allclose -> <syft.ast.callable.Callable object at 0x7f32255a81c0>\n",
       "\t\t.angle -> <syft.ast.callable.Callable object at 0x7f32255a8220>\n",
       "\t\t.any -> <syft.ast.callable.Callable object at 0x7f32255a8280>\n",
       "\t\t.argmax -> <syft.ast.callable.Callable object at 0x7f32255a82e0>\n",
       "\t\t.argmin -> <syft.ast.callable.Callable object at 0x7f32255a8340>\n",
       "\t\t.argsort -> <syft.ast.callable.Callable object at 0x7f32255a83a0>\n",
       "\t\t.as_strided_ -> <syft.ast.callable.Callable object at 0x7f32255a8400>\n",
       "\t\t.as_strided -> <syft.ast.callable.Callable object at 0x7f32255a8460>\n",
       "\t\t.asin_ -> <syft.ast.callable.Callable object at 0x7f32255a84c0>\n",
       "\t\t.asin -> <syft.ast.callable.Callable object at 0x7f32255a8520>\n",
       "\t\t.atan_ -> <syft.ast.callable.Callable object at 0x7f32255a8580>\n",
       "\t\t.atan -> <syft.ast.callable.Callable object at 0x7f32255a85e0>\n",
       "\t\t.atan2 -> <syft.ast.callable.Callable object at 0x7f32255a8640>\n",
       "\t\t.baddbmm -> <syft.ast.callable.Callable object at 0x7f32255a86a0>\n",
       "\t\t.bernoulli -> <syft.ast.callable.Callable object at 0x7f32255a8700>\n",
       "\t\t.bitwise_and -> <syft.ast.callable.Callable object at 0x7f32255a8760>\n",
       "\t\t.bitwise_not -> <syft.ast.callable.Callable object at 0x7f32255a87c0>\n",
       "\t\t.bitwise_or -> <syft.ast.callable.Callable object at 0x7f32255a8820>\n",
       "\t\t.bitwise_xor -> <syft.ast.callable.Callable object at 0x7f32255a8880>\n",
       "\t\t.bmm -> <syft.ast.callable.Callable object at 0x7f32255a88e0>\n",
       "\t\t.cat -> <syft.ast.callable.Callable object at 0x7f32255a8940>\n",
       "\t\t.ceil_ -> <syft.ast.callable.Callable object at 0x7f32255a89a0>\n",
       "\t\t.ceil -> <syft.ast.callable.Callable object at 0x7f32255a8a00>\n",
       "\t\t.cholesky_inverse -> <syft.ast.callable.Callable object at 0x7f32255a8a60>\n",
       "\t\t.cholesky_solve -> <syft.ast.callable.Callable object at 0x7f32255a8ac0>\n",
       "\t\t.cholesky -> <syft.ast.callable.Callable object at 0x7f32255a8b20>\n",
       "\t\t.chunk -> <syft.ast.callable.Callable object at 0x7f32255a8b80>\n",
       "\t\t.clamp_ -> <syft.ast.callable.Callable object at 0x7f32255a8be0>\n",
       "\t\t.clamp_max_ -> <syft.ast.callable.Callable object at 0x7f32255a8c40>\n",
       "\t\t.clamp_max -> <syft.ast.callable.Callable object at 0x7f32255a8ca0>\n",
       "\t\t.clamp_min_ -> <syft.ast.callable.Callable object at 0x7f32255a8d00>\n",
       "\t\t.clamp_min -> <syft.ast.callable.Callable object at 0x7f32255a8d60>\n",
       "\t\t.clamp -> <syft.ast.callable.Callable object at 0x7f32255a8dc0>\n",
       "\t\t.clone -> <syft.ast.callable.Callable object at 0x7f32255a8e20>\n",
       "\t\t.conj -> <syft.ast.callable.Callable object at 0x7f32255a8e80>\n",
       "\t\t.cos_ -> <syft.ast.callable.Callable object at 0x7f32255a8ee0>\n",
       "\t\t.cos -> <syft.ast.callable.Callable object at 0x7f32255a8f40>\n",
       "\t\t.cosh_ -> <syft.ast.callable.Callable object at 0x7f32255a8fa0>\n",
       "\t\t.cosh -> <syft.ast.callable.Callable object at 0x7f32255a9000>\n",
       "\t\t.cross -> <syft.ast.callable.Callable object at 0x7f32255a9060>\n",
       "\t\t.cummax -> <syft.ast.callable.Callable object at 0x7f32255a90c0>\n",
       "\t\t.cummin -> <syft.ast.callable.Callable object at 0x7f32255a9120>\n",
       "\t\t.cumprod -> <syft.ast.callable.Callable object at 0x7f32255a9180>\n",
       "\t\t.cumsum -> <syft.ast.callable.Callable object at 0x7f32255a91e0>\n",
       "\t\t.dequantize -> <syft.ast.callable.Callable object at 0x7f32255a9240>\n",
       "\t\t.det -> <syft.ast.callable.Callable object at 0x7f32255a92a0>\n",
       "\t\t.detach -> <syft.ast.callable.Callable object at 0x7f32255a9300>\n",
       "\t\t.diag_embed -> <syft.ast.callable.Callable object at 0x7f32255a9360>\n",
       "\t\t.diag -> <syft.ast.callable.Callable object at 0x7f32255a93c0>\n",
       "\t\t.diagflat -> <syft.ast.callable.Callable object at 0x7f32255a9420>\n",
       "\t\t.diagonal -> <syft.ast.callable.Callable object at 0x7f32255a9480>\n",
       "\t\t.digamma -> <syft.ast.callable.Callable object at 0x7f32255a94e0>\n",
       "\t\t.dist -> <syft.ast.callable.Callable object at 0x7f32255a9540>\n",
       "\t\t.div -> <syft.ast.callable.Callable object at 0x7f32255a95a0>\n",
       "\t\t.dot -> <syft.ast.callable.Callable object at 0x7f32255a9600>\n",
       "\t\t.eq -> <syft.ast.callable.Callable object at 0x7f32255a9660>\n",
       "\t\t.equal -> <syft.ast.callable.Callable object at 0x7f32255a96c0>\n",
       "\t\t.erf_ -> <syft.ast.callable.Callable object at 0x7f32255a9720>\n",
       "\t\t.erf -> <syft.ast.callable.Callable object at 0x7f32255a9780>\n",
       "\t\t.erfc_ -> <syft.ast.callable.Callable object at 0x7f32255a97e0>\n",
       "\t\t.erfc -> <syft.ast.callable.Callable object at 0x7f32255a9840>\n",
       "\t\t.erfinv -> <syft.ast.callable.Callable object at 0x7f32255a98a0>\n",
       "\t\t.exp_ -> <syft.ast.callable.Callable object at 0x7f32255a9900>\n",
       "\t\t.exp -> <syft.ast.callable.Callable object at 0x7f32255a9960>\n",
       "\t\t.expm1_ -> <syft.ast.callable.Callable object at 0x7f32255a99c0>\n",
       "\t\t.expm1 -> <syft.ast.callable.Callable object at 0x7f32255a9a20>\n",
       "\t\t.fft -> Module:\n",
       "\n",
       "\t\t.fill_ -> <syft.ast.callable.Callable object at 0x7f32255a9ae0>\n",
       "\t\t.flatten -> <syft.ast.callable.Callable object at 0x7f32255a9b40>\n",
       "\t\t.flip -> <syft.ast.callable.Callable object at 0x7f32255a9ba0>\n",
       "\t\t.floor_ -> <syft.ast.callable.Callable object at 0x7f32255a9c00>\n",
       "\t\t.floor_divide -> <syft.ast.callable.Callable object at 0x7f32255a9c60>\n",
       "\t\t.floor -> <syft.ast.callable.Callable object at 0x7f32255a9cc0>\n",
       "\t\t.fmod -> <syft.ast.callable.Callable object at 0x7f32255a9d20>\n",
       "\t\t.frac_ -> <syft.ast.callable.Callable object at 0x7f32255a9d80>\n",
       "\t\t.frac -> <syft.ast.callable.Callable object at 0x7f32255a9de0>\n",
       "\t\t.from_numpy -> <syft.ast.callable.Callable object at 0x7f32255a9e40>\n",
       "\t\t.gather -> <syft.ast.callable.Callable object at 0x7f32255a9ea0>\n",
       "\t\t.ge -> <syft.ast.callable.Callable object at 0x7f32255a9f00>\n",
       "\t\t.geqrf -> <syft.ast.callable.Callable object at 0x7f32255a9f60>\n",
       "\t\t.ger -> <syft.ast.callable.Callable object at 0x7f32255a9fc0>\n",
       "\t\t.get_device -> <syft.ast.callable.Callable object at 0x7f32255aa020>\n",
       "\t\t.gt -> <syft.ast.callable.Callable object at 0x7f32255aa080>\n",
       "\t\t.hardshrink -> <syft.ast.callable.Callable object at 0x7f32255aa0e0>\n",
       "\t\t.histc -> <syft.ast.callable.Callable object at 0x7f32255aa140>\n",
       "\t\t.index_add -> <syft.ast.callable.Callable object at 0x7f32255aa1a0>\n",
       "\t\t.index_copy -> <syft.ast.callable.Callable object at 0x7f32255aa200>\n",
       "\t\t.index_fill -> <syft.ast.callable.Callable object at 0x7f32255aa260>\n",
       "\t\t.index_put_ -> <syft.ast.callable.Callable object at 0x7f32255aa2c0>\n",
       "\t\t.index_put -> <syft.ast.callable.Callable object at 0x7f32255aa320>\n",
       "\t\t.index_select -> <syft.ast.callable.Callable object at 0x7f32255aa380>\n",
       "\t\t.int_repr -> <syft.ast.callable.Callable object at 0x7f32255aa3e0>\n",
       "\t\t.inverse -> <syft.ast.callable.Callable object at 0x7f32255aa440>\n",
       "\t\t.is_complex -> <syft.ast.callable.Callable object at 0x7f32255aa4a0>\n",
       "\t\t.is_distributed -> <syft.ast.callable.Callable object at 0x7f32255aa500>\n",
       "\t\t.is_floating_point -> <syft.ast.callable.Callable object at 0x7f32255aa560>\n",
       "\t\t.is_nonzero -> <syft.ast.callable.Callable object at 0x7f32255aa5c0>\n",
       "\t\t.is_same_size -> <syft.ast.callable.Callable object at 0x7f32255aa620>\n",
       "\t\t.is_signed -> <syft.ast.callable.Callable object at 0x7f32255aa680>\n",
       "\t\t.isclose -> <syft.ast.callable.Callable object at 0x7f32255aa6e0>\n",
       "\t\t.kthvalue -> <syft.ast.callable.Callable object at 0x7f32255aa740>\n",
       "\t\t.le -> <syft.ast.callable.Callable object at 0x7f32255aa7a0>\n",
       "\t\t.lerp -> <syft.ast.callable.Callable object at 0x7f32255aa800>\n",
       "\t\t.lgamma -> <syft.ast.callable.Callable object at 0x7f32255aa860>\n",
       "\t\t.log_ -> <syft.ast.callable.Callable object at 0x7f32255aa8c0>\n",
       "\t\t.log_softmax -> <syft.ast.callable.Callable object at 0x7f32255aa920>\n",
       "\t\t.log -> <syft.ast.callable.Callable object at 0x7f32255aa980>\n",
       "\t\t.log10_ -> <syft.ast.callable.Callable object at 0x7f32255aa9e0>\n",
       "\t\t.log10 -> <syft.ast.callable.Callable object at 0x7f32255aaa40>\n",
       "\t\t.log1p_ -> <syft.ast.callable.Callable object at 0x7f32255aaaa0>\n",
       "\t\t.log1p -> <syft.ast.callable.Callable object at 0x7f32255aab00>\n",
       "\t\t.log2_ -> <syft.ast.callable.Callable object at 0x7f32255aab60>\n",
       "\t\t.log2 -> <syft.ast.callable.Callable object at 0x7f32255aabc0>\n",
       "\t\t.logdet -> <syft.ast.callable.Callable object at 0x7f32255aac20>\n",
       "\t\t.logical_and -> <syft.ast.callable.Callable object at 0x7f32255aac80>\n",
       "\t\t.logical_not -> <syft.ast.callable.Callable object at 0x7f32255aace0>\n",
       "\t\t.logical_or -> <syft.ast.callable.Callable object at 0x7f32255aad40>\n",
       "\t\t.logical_xor -> <syft.ast.callable.Callable object at 0x7f32255aada0>\n",
       "\t\t.logsumexp -> <syft.ast.callable.Callable object at 0x7f32255aae00>\n",
       "\t\t.lt -> <syft.ast.callable.Callable object at 0x7f32255aae60>\n",
       "\t\t.lu_solve -> <syft.ast.callable.Callable object at 0x7f32255aaec0>\n",
       "\t\t.lu -> <syft.ast.callable.Callable object at 0x7f32255aaf20>\n",
       "\t\t.masked_fill -> <syft.ast.callable.Callable object at 0x7f32255aaf80>\n",
       "\t\t.masked_scatter -> <syft.ast.callable.Callable object at 0x7f32255aafe0>\n",
       "\t\t.masked_select -> <syft.ast.callable.Callable object at 0x7f32255ab040>\n",
       "\t\t.matmul -> <syft.ast.callable.Callable object at 0x7f32255ab0a0>\n",
       "\t\t.matrix_power -> <syft.ast.callable.Callable object at 0x7f32255ab100>\n",
       "\t\t.mean -> <syft.ast.callable.Callable object at 0x7f32255ab160>\n",
       "\t\t.mm -> <syft.ast.callable.Callable object at 0x7f32255ab1c0>\n",
       "\t\t.mode -> <syft.ast.callable.Callable object at 0x7f32255ab220>\n",
       "\t\t.mul -> <syft.ast.callable.Callable object at 0x7f32255ab280>\n",
       "\t\t.multinomial -> <syft.ast.callable.Callable object at 0x7f32255ab2e0>\n",
       "\t\t.mv -> <syft.ast.callable.Callable object at 0x7f32255ab340>\n",
       "\t\t.mvlgamma -> <syft.ast.callable.Callable object at 0x7f32255ab3a0>\n",
       "\t\t.narrow -> <syft.ast.callable.Callable object at 0x7f32255ab400>\n",
       "\t\t.ne -> <syft.ast.callable.Callable object at 0x7f32255ab460>\n",
       "\t\t.neg_ -> <syft.ast.callable.Callable object at 0x7f32255ab4c0>\n",
       "\t\t.neg -> <syft.ast.callable.Callable object at 0x7f32255ab520>\n",
       "\t\t.nonzero -> <syft.ast.callable.Callable object at 0x7f32255ab580>\n",
       "\t\t.norm -> <syft.ast.callable.Callable object at 0x7f32255ab5e0>\n",
       "\t\t.pinverse -> <syft.ast.callable.Callable object at 0x7f32255ab640>\n",
       "\t\t.polygamma -> <syft.ast.callable.Callable object at 0x7f32255ab6a0>\n",
       "\t\t.pow -> <syft.ast.callable.Callable object at 0x7f32255ab700>\n",
       "\t\t.prelu -> <syft.ast.callable.Callable object at 0x7f32255ab760>\n",
       "\t\t.q_per_channel_axis -> <syft.ast.callable.Callable object at 0x7f32255ab7c0>\n",
       "\t\t.q_per_channel_scales -> <syft.ast.callable.Callable object at 0x7f32255ab820>\n",
       "\t\t.q_per_channel_zero_points -> <syft.ast.callable.Callable object at 0x7f32255ab880>\n",
       "\t\t.q_scale -> <syft.ast.callable.Callable object at 0x7f32255ab8e0>\n",
       "\t\t.q_zero_point -> <syft.ast.callable.Callable object at 0x7f32255ab940>\n",
       "\t\t.reciprocal_ -> <syft.ast.callable.Callable object at 0x7f32255ab9a0>\n",
       "\t\t.reciprocal -> <syft.ast.callable.Callable object at 0x7f32255aba00>\n",
       "\t\t.relu_ -> <syft.ast.callable.Callable object at 0x7f32255aba60>\n",
       "\t\t.relu -> <syft.ast.callable.Callable object at 0x7f32255abac0>\n",
       "\t\t.remainder -> <syft.ast.callable.Callable object at 0x7f32255abb20>\n",
       "\t\t.renorm -> <syft.ast.callable.Callable object at 0x7f32255abb80>\n",
       "\t\t.repeat_interleave -> <syft.ast.callable.Callable object at 0x7f32255abbe0>\n",
       "\t\t.reshape -> <syft.ast.callable.Callable object at 0x7f32255abc40>\n",
       "\t\t.resize_as_ -> <syft.ast.callable.Callable object at 0x7f32255abca0>\n",
       "\t\t.roll -> <syft.ast.callable.Callable object at 0x7f32255abd00>\n",
       "\t\t.rot90 -> <syft.ast.callable.Callable object at 0x7f32255abd60>\n",
       "\t\t.round_ -> <syft.ast.callable.Callable object at 0x7f32255abdc0>\n",
       "\t\t.round -> <syft.ast.callable.Callable object at 0x7f32255abe20>\n",
       "\t\t.rsqrt_ -> <syft.ast.callable.Callable object at 0x7f32255abe80>\n",
       "\t\t.rsqrt -> <syft.ast.callable.Callable object at 0x7f32255abee0>\n",
       "\t\t.scatter_add -> <syft.ast.callable.Callable object at 0x7f32255abf40>\n",
       "\t\t.scatter -> <syft.ast.callable.Callable object at 0x7f32255abfa0>\n",
       "\t\t.select -> <syft.ast.callable.Callable object at 0x7f32255a9a80>\n",
       "\t\t.sigmoid_ -> <syft.ast.callable.Callable object at 0x7f32255bc0a0>\n",
       "\t\t.sigmoid -> <syft.ast.callable.Callable object at 0x7f32255bc100>\n",
       "\t\t.sign -> <syft.ast.callable.Callable object at 0x7f32255bc160>\n",
       "\t\t.sin_ -> <syft.ast.callable.Callable object at 0x7f32255bc1c0>\n",
       "\t\t.sin -> <syft.ast.callable.Callable object at 0x7f32255bc220>\n",
       "\t\t.sinh_ -> <syft.ast.callable.Callable object at 0x7f32255bc280>\n",
       "\t\t.sinh -> <syft.ast.callable.Callable object at 0x7f32255bc2e0>\n",
       "\t\t.slogdet -> <syft.ast.callable.Callable object at 0x7f32255bc340>\n",
       "\t\t.softmax -> <syft.ast.callable.Callable object at 0x7f32255bc3a0>\n",
       "\t\t.sort -> <syft.ast.callable.Callable object at 0x7f32255bc400>\n",
       "\t\t.split_with_sizes -> <syft.ast.callable.Callable object at 0x7f32255bc460>\n",
       "\t\t.split -> <syft.ast.callable.Callable object at 0x7f32255bc4c0>\n",
       "\t\t.sqrt_ -> <syft.ast.callable.Callable object at 0x7f32255bc520>\n",
       "\t\t.sqrt -> <syft.ast.callable.Callable object at 0x7f32255bc580>\n",
       "\t\t.square_ -> <syft.ast.callable.Callable object at 0x7f32255bc5e0>\n",
       "\t\t.square -> <syft.ast.callable.Callable object at 0x7f32255bc640>\n",
       "\t\t.squeeze -> <syft.ast.callable.Callable object at 0x7f32255bc6a0>\n",
       "\t\t.stack -> <syft.ast.callable.Callable object at 0x7f32255bc700>\n",
       "\t\t.std -> <syft.ast.callable.Callable object at 0x7f32255bc760>\n",
       "\t\t.stft -> <syft.ast.callable.Callable object at 0x7f32255bc7c0>\n",
       "\t\t.sub -> <syft.ast.callable.Callable object at 0x7f32255bc820>\n",
       "\t\t.sum -> <syft.ast.callable.Callable object at 0x7f32255bc880>\n",
       "\t\t.svd -> <syft.ast.callable.Callable object at 0x7f32255bc8e0>\n",
       "\t\t.t -> <syft.ast.callable.Callable object at 0x7f32255bc940>\n",
       "\t\t.take -> <syft.ast.callable.Callable object at 0x7f32255bc9a0>\n",
       "\t\t.tan_ -> <syft.ast.callable.Callable object at 0x7f32255bca00>\n",
       "\t\t.tan -> <syft.ast.callable.Callable object at 0x7f32255bca60>\n",
       "\t\t.tanh_ -> <syft.ast.callable.Callable object at 0x7f32255bcac0>\n",
       "\t\t.tanh -> <syft.ast.callable.Callable object at 0x7f32255bcb20>\n",
       "\t\t.topk -> <syft.ast.callable.Callable object at 0x7f32255bcb80>\n",
       "\t\t.trace -> <syft.ast.callable.Callable object at 0x7f32255bcbe0>\n",
       "\t\t.transpose -> <syft.ast.callable.Callable object at 0x7f32255bcc40>\n",
       "\t\t.tril -> <syft.ast.callable.Callable object at 0x7f32255bcca0>\n",
       "\t\t.triu -> <syft.ast.callable.Callable object at 0x7f32255bcd00>\n",
       "\t\t.true_divide -> <syft.ast.callable.Callable object at 0x7f32255bcd60>\n",
       "\t\t.trunc_ -> <syft.ast.callable.Callable object at 0x7f32255bcdc0>\n",
       "\t\t.trunc -> <syft.ast.callable.Callable object at 0x7f32255bce20>\n",
       "\t\t.unique_consecutive -> <syft.ast.callable.Callable object at 0x7f32255bce80>\n",
       "\t\t.unique -> <syft.ast.callable.Callable object at 0x7f32255bcee0>\n",
       "\t\t.unsqueeze -> <syft.ast.callable.Callable object at 0x7f32255bcf40>\n",
       "\t\t.var -> <syft.ast.callable.Callable object at 0x7f32255bcfa0>\n",
       "\t\t.unsafe_chunk -> <syft.ast.callable.Callable object at 0x7f32255bd000>\n",
       "\t\t.absolute -> <syft.ast.callable.Callable object at 0x7f32255bd060>\n",
       "\t\t.acosh_ -> <syft.ast.callable.Callable object at 0x7f32255bd0c0>\n",
       "\t\t.acosh -> <syft.ast.callable.Callable object at 0x7f32255bd120>\n",
       "\t\t.asinh_ -> <syft.ast.callable.Callable object at 0x7f32255bd180>\n",
       "\t\t.asinh -> <syft.ast.callable.Callable object at 0x7f32255bd1e0>\n",
       "\t\t.atanh_ -> <syft.ast.callable.Callable object at 0x7f32255bd240>\n",
       "\t\t.atanh -> <syft.ast.callable.Callable object at 0x7f32255bd2a0>\n",
       "\t\t.deg2rad_ -> <syft.ast.callable.Callable object at 0x7f32255bd300>\n",
       "\t\t.deg2rad -> <syft.ast.callable.Callable object at 0x7f32255bd360>\n",
       "\t\t.fliplr -> <syft.ast.callable.Callable object at 0x7f32255bd3c0>\n",
       "\t\t.flipud -> <syft.ast.callable.Callable object at 0x7f32255bd420>\n",
       "\t\t.isfinite -> <syft.ast.callable.Callable object at 0x7f32255bd480>\n",
       "\t\t.isinf -> <syft.ast.callable.Callable object at 0x7f32255bd4e0>\n",
       "\t\t.isnan -> <syft.ast.callable.Callable object at 0x7f32255bd540>\n",
       "\t\t.logaddexp -> <syft.ast.callable.Callable object at 0x7f32255bd5a0>\n",
       "\t\t.logaddexp2 -> <syft.ast.callable.Callable object at 0x7f32255bd600>\n",
       "\t\t.logcumsumexp -> <syft.ast.callable.Callable object at 0x7f32255bd660>\n",
       "\t\t.rad2deg_ -> <syft.ast.callable.Callable object at 0x7f32255bd6c0>\n",
       "\t\t.rad2deg -> <syft.ast.callable.Callable object at 0x7f32255bd720>\n",
       "\t\t.istft -> <syft.ast.callable.Callable object at 0x7f32255bd780>\n",
       "\t\t.amax -> <syft.ast.callable.Callable object at 0x7f32255bd7e0>\n",
       "\t\t.amin -> <syft.ast.callable.Callable object at 0x7f32255bd840>\n",
       "\t\t.arccos -> <syft.ast.callable.Callable object at 0x7f32255bd8a0>\n",
       "\t\t.arccos_ -> <syft.ast.callable.Callable object at 0x7f32255bd900>\n",
       "\t\t.arccosh -> <syft.ast.callable.Callable object at 0x7f32255bd960>\n",
       "\t\t.arccosh_ -> <syft.ast.callable.Callable object at 0x7f32255bd9c0>\n",
       "\t\t.arcsin -> <syft.ast.callable.Callable object at 0x7f32255bda20>\n",
       "\t\t.arcsin_ -> <syft.ast.callable.Callable object at 0x7f32255bda80>\n",
       "\t\t.arcsinh -> <syft.ast.callable.Callable object at 0x7f32255bdae0>\n",
       "\t\t.arcsinh_ -> <syft.ast.callable.Callable object at 0x7f32255bdb40>\n",
       "\t\t.arctan -> <syft.ast.callable.Callable object at 0x7f32255bdba0>\n",
       "\t\t.arctan_ -> <syft.ast.callable.Callable object at 0x7f32255bdc00>\n",
       "\t\t.arctanh -> <syft.ast.callable.Callable object at 0x7f32255bdc60>\n",
       "\t\t.arctanh_ -> <syft.ast.callable.Callable object at 0x7f32255bdcc0>\n",
       "\t\t.clip -> <syft.ast.callable.Callable object at 0x7f32255bdd20>\n",
       "\t\t.clip_ -> <syft.ast.callable.Callable object at 0x7f32255bdd80>\n",
       "\t\t.count_nonzero -> <syft.ast.callable.Callable object at 0x7f32255bdde0>\n",
       "\t\t.divide -> <syft.ast.callable.Callable object at 0x7f32255bde40>\n",
       "\t\t.exp2 -> <syft.ast.callable.Callable object at 0x7f32255bdea0>\n",
       "\t\t.exp2_ -> <syft.ast.callable.Callable object at 0x7f32255bdf00>\n",
       "\t\t.fix -> <syft.ast.callable.Callable object at 0x7f32255bdf60>\n",
       "\t\t.fix_ -> <syft.ast.callable.Callable object at 0x7f32255bdfc0>\n",
       "\t\t.gcd -> <syft.ast.callable.Callable object at 0x7f32255be020>\n",
       "\t\t.gcd_ -> <syft.ast.callable.Callable object at 0x7f32255be080>\n",
       "\t\t.greater -> <syft.ast.callable.Callable object at 0x7f32255be0e0>\n",
       "\t\t.greater_equal -> <syft.ast.callable.Callable object at 0x7f32255be140>\n",
       "\t\t.heaviside -> <syft.ast.callable.Callable object at 0x7f32255be1a0>\n",
       "\t\t.hypot -> <syft.ast.callable.Callable object at 0x7f32255be200>\n",
       "\t\t.i0 -> <syft.ast.callable.Callable object at 0x7f32255be260>\n",
       "\t\t.i0_ -> <syft.ast.callable.Callable object at 0x7f32255be2c0>\n",
       "\t\t.isneginf -> <syft.ast.callable.Callable object at 0x7f32255be320>\n",
       "\t\t.isposinf -> <syft.ast.callable.Callable object at 0x7f32255be380>\n",
       "\t\t.isreal -> <syft.ast.callable.Callable object at 0x7f32255be3e0>\n",
       "\t\t.lcm -> <syft.ast.callable.Callable object at 0x7f32255be440>\n",
       "\t\t.lcm_ -> <syft.ast.callable.Callable object at 0x7f32255be4a0>\n",
       "\t\t.less -> <syft.ast.callable.Callable object at 0x7f32255be500>\n",
       "\t\t.less_equal -> <syft.ast.callable.Callable object at 0x7f32255be560>\n",
       "\t\t.logit -> <syft.ast.callable.Callable object at 0x7f32255be5c0>\n",
       "\t\t.logit_ -> <syft.ast.callable.Callable object at 0x7f32255be620>\n",
       "\t\t.maximum -> <syft.ast.callable.Callable object at 0x7f32255be680>\n",
       "\t\t.minimum -> <syft.ast.callable.Callable object at 0x7f32255be6e0>\n",
       "\t\t.matrix_exp -> <syft.ast.callable.Callable object at 0x7f32255be740>\n",
       "\t\t.multiply -> <syft.ast.callable.Callable object at 0x7f32255be7a0>\n",
       "\t\t.nanquantile -> <syft.ast.callable.Callable object at 0x7f32255be800>\n",
       "\t\t.nansum -> <syft.ast.callable.Callable object at 0x7f32255be860>\n",
       "\t\t.negative -> <syft.ast.callable.Callable object at 0x7f32255be8c0>\n",
       "\t\t.negative_ -> <syft.ast.callable.Callable object at 0x7f32255be920>\n",
       "\t\t.nextafter -> <syft.ast.callable.Callable object at 0x7f32255be980>\n",
       "\t\t.outer -> <syft.ast.callable.Callable object at 0x7f32255be9e0>\n",
       "\t\t.quantile -> <syft.ast.callable.Callable object at 0x7f32255bea40>\n",
       "\t\t.sgn -> <syft.ast.callable.Callable object at 0x7f32255beaa0>\n",
       "\t\t.signbit -> <syft.ast.callable.Callable object at 0x7f32255beb00>\n",
       "\t\t.subtract -> <syft.ast.callable.Callable object at 0x7f32255beb60>\n",
       "\t\t.unsafe_split -> <syft.ast.callable.Callable object at 0x7f32255bebc0>\n",
       "\t\t.vdot -> <syft.ast.callable.Callable object at 0x7f32255bec20>\n",
       "\t\t.movedim -> <syft.ast.callable.Callable object at 0x7f32255bec80>\n",
       "\t\t.unsafe_split_with_sizes -> <syft.ast.callable.Callable object at 0x7f32255bece0>\n",
       "\t\t.cuda -> Module:\n",
       "\t\t\t.is_available -> <syft.ast.callable.Callable object at 0x7f32255beda0>\n",
       "\n",
       "\t\t.device -> <syft.ast.klass.Class object at 0x7f32255bed40>\n",
       "\t\t.random -> Module:\n",
       "\t\t\t.initial_seed -> <syft.ast.callable.Callable object at 0x7f32255bef80>\n",
       "\n",
       "\t\t.zeros_like -> <syft.ast.callable.Callable object at 0x7f32255befe0>\n",
       "\t\t.manual_seed -> <syft.ast.callable.Callable object at 0x7f32255bf040>\n",
       "\t\t.Generator -> <syft.ast.klass.Class object at 0x7f32255bef20>\n",
       "\t\t.utils -> Module:\n",
       "\t\t\t.data -> Module:\n",
       "\t\t\t\t.DataLoader -> <syft.ast.klass.Class object at 0x7f32255c8340>\n",
       "\t\t\t\t.dataloader -> Module:\n",
       "\t\t\t\t\t._SingleProcessDataLoaderIter -> <syft.ast.klass.Class object at 0x7f32255c8580>\n",
       "\n",
       "\n",
       "\n",
       "\t\t.optim -> Module:\n",
       "\t\t\t.ASGD -> <syft.ast.klass.Class object at 0x7f32255c89a0>\n",
       "\t\t\t.Adadelta -> <syft.ast.klass.Class object at 0x7f32255c8b20>\n",
       "\t\t\t.Adagrad -> <syft.ast.klass.Class object at 0x7f32255c8ca0>\n",
       "\t\t\t.Adam -> <syft.ast.klass.Class object at 0x7f32255c8e20>\n",
       "\t\t\t.AdamW -> <syft.ast.klass.Class object at 0x7f32255c8fa0>\n",
       "\t\t\t.Adamax -> <syft.ast.klass.Class object at 0x7f32255c9120>\n",
       "\t\t\t.LBFGS -> <syft.ast.klass.Class object at 0x7f32255c92a0>\n",
       "\t\t\t.Optimizer -> <syft.ast.klass.Class object at 0x7f32255c9420>\n",
       "\t\t\t.RMSprop -> <syft.ast.klass.Class object at 0x7f32255c9600>\n",
       "\t\t\t.Rprop -> <syft.ast.klass.Class object at 0x7f32255c9780>\n",
       "\t\t\t.SGD -> <syft.ast.klass.Class object at 0x7f32255c9900>\n",
       "\t\t\t.SparseAdam -> <syft.ast.klass.Class object at 0x7f32255c9a80>\n",
       "\t\t\t.lr_scheduler -> Module:\n",
       "\t\t\t\t.StepLR -> <syft.ast.klass.Class object at 0x7f32255c9d20>\n",
       "\n",
       "\n",
       "\t\t.no_grad -> <syft.ast.klass.Class object at 0x7f32255c9f00>\n",
       "\t\t.autograd -> Module:\n",
       "\t\t\t.grad_mode -> Module:\n",
       "\t\t\t\t.no_grad -> <syft.ast.klass.Class object at 0x7f32255ca080>\n",
       "\n",
       "\n",
       "\t\t.distributions -> Module:\n",
       "\t\t\t.Categorical -> <syft.ast.klass.Class object at 0x7f3225459ae0>\n",
       "\n",
       "\t\t.kron -> <syft.ast.callable.Callable object at 0x7f322545a0e0>\n",
       "\t\t.msort -> <syft.ast.callable.Callable object at 0x7f322545a200>\n",
       "\t\t.row_stack -> <syft.ast.callable.Callable object at 0x7f322545a260>\n",
       "\t\t.moveaxis -> <syft.ast.callable.Callable object at 0x7f322545a560>\n",
       "\t\t.tensor_split -> <syft.ast.callable.Callable object at 0x7f322545a680>\n",
       "\t\t.tile -> <syft.ast.callable.Callable object at 0x7f322545a7a0>\n",
       "\t\t.fmin -> <syft.ast.callable.Callable object at 0x7f322545a980>\n",
       "\t\t.ldexp -> <syft.ast.callable.Callable object at 0x7f322545a9e0>\n",
       "\t\t.igamma -> <syft.ast.callable.Callable object at 0x7f322545ab00>\n",
       "\t\t.float_power -> <syft.ast.callable.Callable object at 0x7f322545af80>\n",
       "\t\t.xlogy -> <syft.ast.callable.Callable object at 0x7f322545b0a0>\n",
       "\t\t.copysign -> <syft.ast.callable.Callable object at 0x7f322545b100>\n",
       "\t\t.nanmedian -> <syft.ast.callable.Callable object at 0x7f322545b160>\n",
       "\t\t.igammac -> <syft.ast.callable.Callable object at 0x7f322545b1c0>\n",
       "\t\t.diff -> <syft.ast.callable.Callable object at 0x7f322545b2e0>\n",
       "\t\t.sinc -> <syft.ast.callable.Callable object at 0x7f322545b400>\n",
       "\t\t.column_stack -> <syft.ast.callable.Callable object at 0x7f322545b5e0>\n",
       "\t\t.pixel_unshuffle -> <syft.ast.callable.Callable object at 0x7f322545b700>\n",
       "\t\t.swapaxes -> <syft.ast.callable.Callable object at 0x7f322545b9a0>\n",
       "\t\t.nan_to_num -> <syft.ast.callable.Callable object at 0x7f322545ba00>\n",
       "\t\t.inner -> <syft.ast.callable.Callable object at 0x7f322545ba60>\n",
       "\t\t.fmax -> <syft.ast.callable.Callable object at 0x7f322545bac0>\n",
       "\t\t.ravel -> <syft.ast.callable.Callable object at 0x7f322545be20>\n",
       "\t\t.broadcast_to -> <syft.ast.callable.Callable object at 0x7f322545be80>\n",
       "\t\t.swapdims -> <syft.ast.callable.Callable object at 0x7f322546c0a0>\n",
       "\n",
       "\t.numpy -> Module:\n",
       "\t\t.ndarray -> <syft.ast.klass.Class object at 0x7f322546d720>\n"
      ]
     },
     "execution_count": 6,
     "metadata": {},
     "output_type": "execute_result"
    }
   ],
   "source": [
    "domain_client.lib_ast"
   ]
  },
  {
   "cell_type": "code",
   "execution_count": null,
   "metadata": {},
   "outputs": [],
   "source": [
    "type(one_ptr)"
   ]
  },
  {
   "cell_type": "code",
   "execution_count": 17,
   "metadata": {},
   "outputs": [
    {
     "data": {
      "text/plain": [
       "['__abs__',\n",
       " '__add__',\n",
       " '__and__',\n",
       " '__annotations__',\n",
       " '__bool__',\n",
       " '__ceil__',\n",
       " '__class__',\n",
       " '__del__',\n",
       " '__delattr__',\n",
       " '__dict__',\n",
       " '__dir__',\n",
       " '__divmod__',\n",
       " '__doc__',\n",
       " '__eq__',\n",
       " '__float__',\n",
       " '__floor__',\n",
       " '__floordiv__',\n",
       " '__format__',\n",
       " '__ge__',\n",
       " '__getattribute__',\n",
       " '__gt__',\n",
       " '__hash__',\n",
       " '__iadd__',\n",
       " '__ifloordiv__',\n",
       " '__imod__',\n",
       " '__imul__',\n",
       " '__init__',\n",
       " '__init_subclass__',\n",
       " '__invert__',\n",
       " '__ipow__',\n",
       " '__isub__',\n",
       " '__itruediv__',\n",
       " '__le__',\n",
       " '__lshift__',\n",
       " '__lt__',\n",
       " '__mod__',\n",
       " '__module__',\n",
       " '__mul__',\n",
       " '__name__',\n",
       " '__ne__',\n",
       " '__neg__',\n",
       " '__new__',\n",
       " '__or__',\n",
       " '__pos__',\n",
       " '__pow__',\n",
       " '__radd__',\n",
       " '__rand__',\n",
       " '__rdivmod__',\n",
       " '__reduce__',\n",
       " '__reduce_ex__',\n",
       " '__repr__',\n",
       " '__rfloordiv__',\n",
       " '__rlshift__',\n",
       " '__rmod__',\n",
       " '__rmul__',\n",
       " '__ror__',\n",
       " '__round__',\n",
       " '__rpow__',\n",
       " '__rrshift__',\n",
       " '__rshift__',\n",
       " '__rsub__',\n",
       " '__rtruediv__',\n",
       " '__rxor__',\n",
       " '__setattr__',\n",
       " '__sizeof__',\n",
       " '__str__',\n",
       " '__sub__',\n",
       " '__subclasshook__',\n",
       " '__truediv__',\n",
       " '__trunc__',\n",
       " '__weakref__',\n",
       " '__xor__',\n",
       " '_exhausted',\n",
       " '_get',\n",
       " '_object2proto',\n",
       " '_pointable',\n",
       " '_proto2object',\n",
       " 'as_integer_ratio',\n",
       " 'bit_length',\n",
       " 'block',\n",
       " 'block_with_timeout',\n",
       " 'check_access',\n",
       " 'client',\n",
       " 'conjugate',\n",
       " 'denominator',\n",
       " 'description',\n",
       " 'exists',\n",
       " 'from_bytes',\n",
       " 'gc_enabled',\n",
       " 'get',\n",
       " 'get_copy',\n",
       " 'get_protobuf_schema',\n",
       " 'get_request_config',\n",
       " 'id_at_location',\n",
       " 'imag',\n",
       " 'is_enum',\n",
       " 'numerator',\n",
       " 'object_type',\n",
       " 'path_and_name',\n",
       " 'pointable',\n",
       " 'print',\n",
       " 'public_shape',\n",
       " 'publish',\n",
       " 'real',\n",
       " 'request',\n",
       " 'resolve_pointer_type',\n",
       " 'searchable',\n",
       " 'set_request_config',\n",
       " 'tags',\n",
       " 'update_searchability']"
      ]
     },
     "execution_count": 17,
     "metadata": {},
     "output_type": "execute_result"
    }
   ],
   "source": [
    "dir(one_ptr)"
   ]
  },
  {
   "cell_type": "code",
   "execution_count": 28,
   "metadata": {},
   "outputs": [],
   "source": [
    "a = one_ptr\n",
    "b = two_ptr\n",
    "c = a + b"
   ]
  },
  {
   "cell_type": "code",
   "execution_count": 29,
   "metadata": {},
   "outputs": [
    {
     "data": {
      "text/plain": [
       "<IntPointer -> test_domain:85c420b0c65e4a4c90a2e71e837dd53d, status=\u001b[92mReady\u001b[0m>"
      ]
     },
     "execution_count": 29,
     "metadata": {},
     "output_type": "execute_result"
    }
   ],
   "source": [
    "c"
   ]
  },
  {
   "cell_type": "code",
   "execution_count": 31,
   "metadata": {},
   "outputs": [
    {
     "data": {
      "text/html": [
       "<div>\n",
       "<style scoped>\n",
       "    .dataframe tbody tr th:only-of-type {\n",
       "        vertical-align: middle;\n",
       "    }\n",
       "\n",
       "    .dataframe tbody tr th {\n",
       "        vertical-align: top;\n",
       "    }\n",
       "\n",
       "    .dataframe thead th {\n",
       "        text-align: right;\n",
       "    }\n",
       "</style>\n",
       "<table border=\"1\" class=\"dataframe\">\n",
       "  <thead>\n",
       "    <tr style=\"text-align: right;\">\n",
       "      <th></th>\n",
       "      <th>ID</th>\n",
       "      <th>Tags</th>\n",
       "      <th>Description</th>\n",
       "      <th>object_type</th>\n",
       "    </tr>\n",
       "  </thead>\n",
       "  <tbody>\n",
       "    <tr>\n",
       "      <th>0</th>\n",
       "      <td>&lt;UID: ec900f7c95c1444186e343010922b2d0&gt;</td>\n",
       "      <td>[]</td>\n",
       "      <td></td>\n",
       "      <td>&lt;class 'syft.lib.python.Int'&gt;</td>\n",
       "    </tr>\n",
       "    <tr>\n",
       "      <th>1</th>\n",
       "      <td>&lt;UID: 85c420b0c65e4a4c90a2e71e837dd53d&gt;</td>\n",
       "      <td>[]</td>\n",
       "      <td></td>\n",
       "      <td>&lt;class 'syft.lib.python.Int'&gt;</td>\n",
       "    </tr>\n",
       "    <tr>\n",
       "      <th>2</th>\n",
       "      <td>&lt;UID: da2118bb04024ccf8fa4f1530130d3d3&gt;</td>\n",
       "      <td>[]</td>\n",
       "      <td></td>\n",
       "      <td>&lt;class 'syft.lib.python.Int'&gt;</td>\n",
       "    </tr>\n",
       "    <tr>\n",
       "      <th>3</th>\n",
       "      <td>&lt;UID: b695c3e0a99d478bb744e345ed1cd9e8&gt;</td>\n",
       "      <td>[]</td>\n",
       "      <td></td>\n",
       "      <td>&lt;class 'syft.lib.python.Int'&gt;</td>\n",
       "    </tr>\n",
       "  </tbody>\n",
       "</table>\n",
       "</div>"
      ],
      "text/plain": [
       "[<IntPointer -> test_domain:ec900f7c95c1444186e343010922b2d0, status=\u001b[92mReady\u001b[0m>, <IntPointer -> test_domain:85c420b0c65e4a4c90a2e71e837dd53d, status=\u001b[92mReady\u001b[0m>, <IntPointer -> test_domain:da2118bb04024ccf8fa4f1530130d3d3, status=\u001b[92mReady\u001b[0m>, <IntPointer -> test_domain:b695c3e0a99d478bb744e345ed1cd9e8, status=\u001b[92mReady\u001b[0m>]"
      ]
     },
     "execution_count": 31,
     "metadata": {},
     "output_type": "execute_result"
    }
   ],
   "source": [
    "domain_client.store"
   ]
  },
  {
   "cell_type": "code",
   "execution_count": 32,
   "metadata": {},
   "outputs": [
    {
     "data": {
      "text/plain": [
       "3"
      ]
     },
     "execution_count": 32,
     "metadata": {},
     "output_type": "execute_result"
    }
   ],
   "source": [
    "c.get(delete_obj=False)"
   ]
  },
  {
   "cell_type": "code",
   "execution_count": 35,
   "metadata": {},
   "outputs": [],
   "source": [
    "d = c * b"
   ]
  },
  {
   "cell_type": "code",
   "execution_count": 38,
   "metadata": {},
   "outputs": [
    {
     "data": {
      "text/plain": [
       "6"
      ]
     },
     "execution_count": 38,
     "metadata": {},
     "output_type": "execute_result"
    }
   ],
   "source": [
    "d.get(delete_obj=False)"
   ]
  },
  {
   "cell_type": "code",
   "execution_count": 39,
   "metadata": {},
   "outputs": [
    {
     "data": {
      "text/plain": [
       "<FloatPointer -> test_domain:4a96ebf186e343f0b3c1c6fb442eb0dc, status=\u001b[93mProcessing\u001b[0m>"
      ]
     },
     "execution_count": 39,
     "metadata": {},
     "output_type": "execute_result"
    }
   ],
   "source": [
    "e = d / 2\n",
    "e"
   ]
  },
  {
   "cell_type": "code",
   "execution_count": 40,
   "metadata": {},
   "outputs": [
    {
     "data": {
      "text/plain": [
       "3.0"
      ]
     },
     "execution_count": 40,
     "metadata": {},
     "output_type": "execute_result"
    }
   ],
   "source": [
    "e.get(delete_obj=False)"
   ]
  },
  {
   "attachments": {},
   "cell_type": "markdown",
   "metadata": {},
   "source": [
    "## Under the hood of pointers division"
   ]
  },
  {
   "attachments": {},
   "cell_type": "markdown",
   "metadata": {},
   "source": [
    "Let's manually construct an action message to divide the pointer `d` by 2"
   ]
  },
  {
   "attachments": {},
   "cell_type": "markdown",
   "metadata": {},
   "source": [
    "Create a `UID` for the key to store our result under"
   ]
  },
  {
   "cell_type": "code",
   "execution_count": 8,
   "metadata": {},
   "outputs": [
    {
     "data": {
      "text/plain": [
       "<UID: 5c65b7c8b4e0493b9847b4823be76f19>"
      ]
     },
     "execution_count": 8,
     "metadata": {},
     "output_type": "execute_result"
    }
   ],
   "source": [
    "uid = sy.common.UID()\n",
    "uid"
   ]
  },
  {
   "attachments": {},
   "cell_type": "markdown",
   "metadata": {},
   "source": [
    "Let's construct the `action` we want which requires\n",
    "- `path`: The location of the real `function` which we bind to a set of module paths nested inside the `syft` module\n",
    "- `_self`: what would be bound to `self` if the function is a method\n",
    "- `args` and `kwars`: Allows us to pass in anything that would normally be passed into the function as `*args` or `*kwargs`\n",
    "- `id_at_location`: The result of any computation will be boxed back up as a `serializable` object and set `value` of the key supplied as `id_at_location`\n",
    "- `address`: The message has the `address` of the `domain` we are messaging"
   ]
  },
  {
   "cell_type": "code",
   "execution_count": 45,
   "metadata": {},
   "outputs": [
    {
     "data": {
      "text/plain": [
       "RunClassMethodAction IntPointer.__truediv__(IntPointer, )"
      ]
     },
     "execution_count": 45,
     "metadata": {},
     "output_type": "execute_result"
    }
   ],
   "source": [
    "from syft.core.node.common.action.run_class_method_action import RunClassMethodAction\n",
    "\n",
    "cmd = RunClassMethodAction(\n",
    "    path=\"syft.lib.python.Int.__truediv__\",  # our desired function\n",
    "    _self=d,  # the self for the method\n",
    "    args=[two_ptr],  # the first arg for the method\n",
    "    kwargs={},\n",
    "    id_at_location=uid,  # the uid to store the result under\n",
    "    address=domain_client.address,  # the node to process the work on\n",
    ")\n",
    "cmd"
   ]
  },
  {
   "attachments": {},
   "cell_type": "markdown",
   "metadata": {},
   "source": [
    "Send the `message` to the `domain`"
   ]
  },
  {
   "cell_type": "code",
   "execution_count": 46,
   "metadata": {},
   "outputs": [],
   "source": [
    "domain_client.send_eventual_msg_without_reply(msg=cmd)"
   ]
  },
  {
   "attachments": {},
   "cell_type": "markdown",
   "metadata": {},
   "source": [
    "The `message` is not responsible for `pointer` creation. Pointers are usually synthesized by the code which creates the `action` so we will need to make our own by hand"
   ]
  },
  {
   "cell_type": "code",
   "execution_count": 47,
   "metadata": {},
   "outputs": [
    {
     "data": {
      "text/plain": [
       "<FloatPointer -> test_domain:10d92d1a8d6548e8ad84c73e713cca2f, status=\u001b[92mReady\u001b[0m>"
      ]
     },
     "execution_count": 47,
     "metadata": {},
     "output_type": "execute_result"
    }
   ],
   "source": [
    "e_ptr = domain_client.lib_ast.query(\"syft.lib.python.Float\").pointer_type(\n",
    "    client=domain_client,\n",
    "    id_at_location=uid,\n",
    ")\n",
    "e_ptr"
   ]
  },
  {
   "attachments": {},
   "cell_type": "markdown",
   "metadata": {},
   "source": [
    "We can see that the `pointers` are bound to a particular `client`"
   ]
  },
  {
   "cell_type": "code",
   "execution_count": 48,
   "metadata": {},
   "outputs": [
    {
     "data": {
      "text/plain": [
       "3.0"
      ]
     },
     "execution_count": 48,
     "metadata": {},
     "output_type": "execute_result"
    }
   ],
   "source": [
    "e_ptr.get(delete_obj=False)"
   ]
  },
  {
   "attachments": {},
   "cell_type": "markdown",
   "metadata": {},
   "source": [
    "In `syft`, `execution`'s result by a client on non-readable `data` is always stored remotely out of reach of the `client` => `data` derived from `private` data will automatically be `private` and will not be `read`able by the client who created it"
   ]
  },
  {
   "cell_type": "code",
   "execution_count": 49,
   "metadata": {},
   "outputs": [
    {
     "name": "stdout",
     "output_type": "stream",
     "text": [
      "Connecting to localhost... done! \t Logging into test_domain... as GUEST...done!\n"
     ]
    }
   ],
   "source": [
    "guest_client = sy.login(\n",
    "    port=8081,\n",
    ")"
   ]
  },
  {
   "attachments": {},
   "cell_type": "markdown",
   "metadata": {},
   "source": [
    "Use `UID` to get a new pointer to the same object but with different client permissions"
   ]
  },
  {
   "cell_type": "code",
   "execution_count": 54,
   "metadata": {},
   "outputs": [
    {
     "data": {
      "text/plain": [
       "'da2118bb04024ccf8fa4f1530130d3d3'"
      ]
     },
     "execution_count": 54,
     "metadata": {},
     "output_type": "execute_result"
    }
   ],
   "source": [
    "a_uid = a.id_at_location.no_dash\n",
    "a_uid"
   ]
  },
  {
   "cell_type": "code",
   "execution_count": 55,
   "metadata": {},
   "outputs": [
    {
     "data": {
      "text/plain": [
       "<IntPointer -> test_domain:da2118bb04024ccf8fa4f1530130d3d3, status=\u001b[92mReady\u001b[0m>"
      ]
     },
     "execution_count": 55,
     "metadata": {},
     "output_type": "execute_result"
    }
   ],
   "source": [
    "guest_a = guest_client.store[a_uid]\n",
    "guest_a"
   ]
  },
  {
   "attachments": {},
   "cell_type": "markdown",
   "metadata": {},
   "source": [
    "Try some addition"
   ]
  },
  {
   "cell_type": "code",
   "execution_count": 56,
   "metadata": {},
   "outputs": [],
   "source": [
    "x_ptr = guest_a + guest_a"
   ]
  },
  {
   "attachments": {},
   "cell_type": "markdown",
   "metadata": {},
   "source": [
    "That worked. But can we get the result?"
   ]
  },
  {
   "cell_type": "code",
   "execution_count": 58,
   "metadata": {},
   "outputs": [
    {
     "name": "stdout",
     "output_type": "stream",
     "text": [
      "guest client cannot get the result\n",
      "<class 'Exception'>\n"
     ]
    }
   ],
   "source": [
    "try:\n",
    "    x_ptr.get(delete_obj=True)\n",
    "except Exception:\n",
    "    print(\"guest client cannot get the result\")\n",
    "    pass"
   ]
  },
  {
   "attachments": {},
   "cell_type": "markdown",
   "metadata": {},
   "source": [
    "## Datasets"
   ]
  },
  {
   "cell_type": "code",
   "execution_count": 62,
   "metadata": {},
   "outputs": [
    {
     "name": "stdout",
     "output_type": "stream",
     "text": [
      "Tensor annotated with DP Metadata!\n",
      "You can upload this Tensor to a domain node by calling `<domain_client>.load_dataset` and passing in this tensor as an asset.\n"
     ]
    }
   ],
   "source": [
    "import numpy as np\n",
    "from syft.core.adp.data_subject import DataSubject\n",
    "\n",
    "example_data = np.array([1, 2, 3])\n",
    "example_dataset = sy.Tensor(example_data)\n",
    "example_dataset.public_shape = example_data.shape\n",
    "example_dataset = example_dataset.annotate_with_dp_metadata(\n",
    "    lower_bound=0,\n",
    "    upper_bound=3,\n",
    "    data_subject=DataSubject(\"Alice\")\n",
    ").tag(\"example_data\")"
   ]
  },
  {
   "cell_type": "code",
   "execution_count": 63,
   "metadata": {},
   "outputs": [
    {
     "name": "stderr",
     "output_type": "stream",
     "text": [
      "kj/filesystem-disk-unix.c++:1690: warning: PWD environment variable doesn't match current directory; pwd = /home/dk\n"
     ]
    },
    {
     "name": "stdout",
     "output_type": "stream",
     "text": [
      "Loading dataset... uploading...🚀                                                                                                                                             "
     ]
    },
    {
     "name": "stderr",
     "output_type": "stream",
     "text": [
      "Uploading `example_dataset`: 100%|\u001b[32m████████████████████████████████████\u001b[0m| 1/1 [00:00<00:00,  4.52it/s]\u001b[0m"
     ]
    },
    {
     "name": "stdout",
     "output_type": "stream",
     "text": [
      "Dataset is uploaded successfully !!! 🎉\n",
      "\n",
      "Run `<your client variable>.datasets` to see your new dataset loaded into your machine!\n"
     ]
    },
    {
     "name": "stderr",
     "output_type": "stream",
     "text": [
      "\n"
     ]
    }
   ],
   "source": [
    "domain_client.load_dataset(\n",
    "    assets={\"example_dataset\": example_dataset},\n",
    "    name=\"An example dataset\",\n",
    "    description=(\n",
    "        \"A collection of numbers about people\"\n",
    "    )\n",
    ")"
   ]
  },
  {
   "cell_type": "code",
   "execution_count": 64,
   "metadata": {},
   "outputs": [
    {
     "data": {
      "text/html": [
       "<style>\n",
       "                #myInput {\n",
       "                  background-position: 10px 12px; /* Position the search icon */\n",
       "                  background-repeat: no-repeat; /* Do not repeat the icon image */\n",
       "                  background-color: #bbb;\n",
       "                  width: 98%; /* Full-width */\n",
       "                  font-size: 14px; /* Increase font-size */\n",
       "                  padding: 12px 20px 12px 40px; /* Add some padding */\n",
       "                  border: 1px solid #ddd; /* Add a grey border */\n",
       "                  margin-bottom: 12px; /* Add some space below the input */\n",
       "                }\n",
       "\n",
       "                #myTable {\n",
       "                  border-collapse: collapse; /* Collapse borders */\n",
       "                  width: 100%; /* Full-width */\n",
       "                  border: 1px solid #ddd; /* Add a grey border */\n",
       "                  font-size: 14px; /* Increase font-size */\n",
       "                }\n",
       "\n",
       "                #myTable th, #myTable td {\n",
       "                  text-align: left; /* Left-align text */\n",
       "                  padding: 10px; /* Add padding */\n",
       "                }\n",
       "\n",
       "                #myTable tr {\n",
       "                  /* Add a bottom border to all table rows */\n",
       "                  border-bottom: 1px solid #ddd;\n",
       "                }\n",
       "\n",
       "                #myTable tr.header, #myTable tr:hover {\n",
       "                  /* Add a grey background color to the table header and on hover */\n",
       "                  background-color: #777;\n",
       "                }\n",
       "                </style>\n",
       "\n",
       "                <table id=\"myTable\" style=\"width:1000px\">\n",
       "                  <tr class=\"header\">\n",
       "                    <th style=\"width:30px\">Idx</th>\n",
       "                    <th style=\"width:20%;\">Name</th>\n",
       "                    <th style=\"width:35%;\">Description</th>\n",
       "                    <th style=\"width:20%;\">Assets</th>\n",
       "                    <th style=\"width:300px;\">Id</th>\n",
       "                  </tr>\n",
       "                \n",
       "\n",
       "          <tr>\n",
       "            <td>[0]</td>\n",
       "            <td>An example dataset</td>\n",
       "            <td>A collection of numbers about people</td>\n",
       "            <td>[\"example_dataset\"] -> Tensor<br /><br /></td>\n",
       "            <td>ac0062f9-1770-476c-bf3c-37f87c7ef515</td>\n",
       "          </tr>\n",
       "        </table>\n",
       "\n",
       "        <script>\n",
       "        function myFunction() {\n",
       "          // Declare variables\n",
       "          var input, filter, table, tr, td, i, txtValue;\n",
       "          input = document.getElementById(\"myInput\");\n",
       "          filter = input.value.toUpperCase();\n",
       "          table = document.getElementById(\"myTable\");\n",
       "          tr = table.getElementsByTagName(\"tr\");\n",
       "\n",
       "          // Loop through all table rows, and hide those who don't match the search query\n",
       "          for (i = 0; i < tr.length; i++) {\n",
       "            name_td = tr[i].getElementsByTagName(\"td\")[1];\n",
       "            desc_td = tr[i].getElementsByTagName(\"td\")[2];\n",
       "            asset_td = tr[i].getElementsByTagName(\"td\")[3];\n",
       "            id_td = tr[i].getElementsByTagName(\"td\")[4];\n",
       "            if (name_td || desc_td || asset_td || id_td) {\n",
       "              name_txtValue = name_td.textContent || name_td.innerText;\n",
       "              desc_txtValue = desc_td.textContent || name_td.innerText;\n",
       "              asset_txtValue = asset_td.textContent || name_td.innerText;\n",
       "              id_txtValue = id_td.textContent || name_td.innerText;\n",
       "              name_bool = name_txtValue.toUpperCase().indexOf(filter) > -1;\n",
       "              desc_bool = desc_txtValue.toUpperCase().indexOf(filter) > -1;\n",
       "              asset_bool = asset_txtValue.toUpperCase().indexOf(filter) > -1;\n",
       "              id_bool = id_txtValue.toUpperCase().indexOf(filter) > -1;\n",
       "              if (name_bool || desc_bool || asset_bool || id_bool) {\n",
       "                tr[i].style.display = \"\";\n",
       "              } else {\n",
       "                tr[i].style.display = \"none\";\n",
       "              }\n",
       "            }\n",
       "          }\n",
       "        }\n",
       "        </script>"
      ],
      "text/plain": [
       "<syft.core.node.common.client_manager.dataset_api.DatasetRequestAPI at 0x7f87df16de70>"
      ]
     },
     "execution_count": 64,
     "metadata": {},
     "output_type": "execute_result"
    }
   ],
   "source": [
    "domain_client.datasets"
   ]
  },
  {
   "attachments": {},
   "cell_type": "markdown",
   "metadata": {},
   "source": [
    "## Data vs Code"
   ]
  },
  {
   "attachments": {},
   "cell_type": "markdown",
   "metadata": {},
   "source": [
    "If we have a code \n",
    "```\n",
    "a = 1  \n",
    "b = 2  \n",
    "c = a + b\n",
    "d = a * b\n",
    "``` \n",
    "then we can send data like `1` and `2` with serde formats like `protobuf`, but how do we send over operations (code) like `+` and `*`?\n",
    "\n",
    "That's where the `action` system comes into play, by `de-composing` execution into a series of operations which can be sent as messages we are able to reconstruct that same execution on the other side."
   ]
  },
  {
   "attachments": {},
   "cell_type": "markdown",
   "metadata": {},
   "source": [
    "Let's look at an example of how the `UID` object is serialized with `protobuf`"
   ]
  },
  {
   "cell_type": "code",
   "execution_count": 11,
   "metadata": {},
   "outputs": [
    {
     "data": {
      "text/plain": [
       "<UID: 5c65b7c8b4e0493b9847b4823be76f19>"
      ]
     },
     "execution_count": 11,
     "metadata": {},
     "output_type": "execute_result"
    }
   ],
   "source": [
    "uid"
   ]
  },
  {
   "cell_type": "code",
   "execution_count": 9,
   "metadata": {},
   "outputs": [
    {
     "data": {
      "text/plain": [
       "b'\\n\\tprotobuf:\\x12\\x18syft.core.common.uid.UID\\x1a\\x12\\n\\x10\\\\e\\xb7\\xc8\\xb4\\xe0I;\\x98G\\xb4\\x82;\\xe7o\\x19'"
      ]
     },
     "execution_count": 9,
     "metadata": {},
     "output_type": "execute_result"
    }
   ],
   "source": [
    "uid_bytes = sy.serialize(uid, to_bytes=True)\n",
    "uid_bytes"
   ]
  },
  {
   "attachments": {},
   "cell_type": "markdown",
   "metadata": {},
   "source": [
    "and then `deserialized`"
   ]
  },
  {
   "cell_type": "code",
   "execution_count": 10,
   "metadata": {},
   "outputs": [
    {
     "data": {
      "text/plain": [
       "<UID: 5c65b7c8b4e0493b9847b4823be76f19>"
      ]
     },
     "execution_count": 10,
     "metadata": {},
     "output_type": "execute_result"
    }
   ],
   "source": [
    "uid_de = sy.deserialize(uid_bytes, from_bytes=True)\n",
    "assert uid_de == uid\n",
    "uid_de"
   ]
  },
  {
   "attachments": {},
   "cell_type": "markdown",
   "metadata": {},
   "source": [
    "## Recursive Serde"
   ]
  },
  {
   "cell_type": "code",
   "execution_count": 12,
   "metadata": {},
   "outputs": [
    {
     "data": {
      "text/plain": [
       "<GridURL http://openmined.org:80/>"
      ]
     },
     "execution_count": 12,
     "metadata": {},
     "output_type": "execute_result"
    }
   ],
   "source": [
    "url = sy.grid.GridURL.from_url(\"http://openmined.org/\")\n",
    "url"
   ]
  },
  {
   "cell_type": "code",
   "execution_count": 13,
   "metadata": {},
   "outputs": [
    {
     "data": {
      "text/plain": [
       "b\"\\n\\tprotobuf:\\x12\\x1asyft.grid.grid_url.GridURL\\x1a\\xa7\\x02\\n\\x08protocol\\n\\nhost_or_ip\\n\\x04port\\n\\x04path\\n\\x05query\\x12-\\n\\tprotobuf:\\x12\\x16syft.lib.python.String\\x1a\\x08\\n\\x04http\\x10\\x01\\x126\\n\\tprotobuf:\\x12\\x16syft.lib.python.String\\x1a\\x11\\n\\ropenmined.org\\x10\\x01\\x12$\\n\\tprotobuf:\\x12\\x13syft.lib.python.Int\\x1a\\x02\\x08P\\x12*\\n\\tprotobuf:\\x12\\x16syft.lib.python.String\\x1a\\x05\\n\\x01/\\x10\\x01\\x12'\\n\\tprotobuf:\\x12\\x16syft.lib.python.String\\x1a\\x02\\x10\\x01\\x1a\\x1asyft.grid.grid_url.GridURL\""
      ]
     },
     "execution_count": 13,
     "metadata": {},
     "output_type": "execute_result"
    }
   ],
   "source": [
    "url_bytes = sy.serialize(url, to_bytes=True)\n",
    "url_bytes"
   ]
  },
  {
   "cell_type": "code",
   "execution_count": 14,
   "metadata": {},
   "outputs": [
    {
     "data": {
      "text/plain": [
       "<GridURL http://openmined.org:80/>"
      ]
     },
     "execution_count": 14,
     "metadata": {},
     "output_type": "execute_result"
    }
   ],
   "source": [
    "url_de = sy.deserialize(url_bytes, from_bytes=True)\n",
    "\n",
    "# only the keys we asked for will match\n",
    "assert url_de.protocol == url.protocol\n",
    "assert url_de.host_or_ip == url.host_or_ip\n",
    "assert url_de.port == url.port\n",
    "assert url_de.path == url.path\n",
    "assert url_de.query == url.query\n",
    "\n",
    "assert url_de != url\n",
    "url_de"
   ]
  },
  {
   "cell_type": "code",
   "execution_count": null,
   "metadata": {},
   "outputs": [],
   "source": []
  }
 ],
 "metadata": {
  "kernelspec": {
   "display_name": ".venv",
   "language": "python",
   "name": "python3"
  },
  "language_info": {
   "codemirror_mode": {
    "name": "ipython",
    "version": 3
   },
   "file_extension": ".py",
   "mimetype": "text/x-python",
   "name": "python",
   "nbconvert_exporter": "python",
   "pygments_lexer": "ipython3",
   "version": "3.10.8"
  },
  "orig_nbformat": 4,
  "vscode": {
   "interpreter": {
    "hash": "e3cdefe258cda4e75bc94a4ed12119270300bb9272a62755cc47309386dfe3d9"
   }
  }
 },
 "nbformat": 4,
 "nbformat_minor": 2
}

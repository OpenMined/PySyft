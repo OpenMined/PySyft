{
 "cells": [
  {
   "cell_type": "code",
   "execution_count": 1,
   "id": "c292b468-55d7-4ab4-b0b3-5856b252e27e",
   "metadata": {
    "tags": []
   },
   "outputs": [],
   "source": [
    "import syft as sy"
   ]
  },
  {
   "cell_type": "code",
   "execution_count": 2,
   "id": "85462eb0-dc0c-4f32-9c52-b2ac27a1cf0a",
   "metadata": {
    "tags": []
   },
   "outputs": [
    {
     "name": "stdout",
     "output_type": "stream",
     "text": [
      "> Starting Worker: test-domain-1 - 7bca415d13ed1ec841f0d0aede098dbb - NodeType.DOMAIN - [<class 'syft.core.node.new.user_service.UserService'>, <class 'syft.core.node.new.metadata_service.MetadataService'>, <class 'syft.core.node.new.action_service.ActionService'>, <class 'syft.core.node.new.test_service.TestService'>, <class 'syft.core.node.new.dataset_service.DatasetService'>, <class 'syft.core.node.new.user_code_service.UserCodeService'>, <class 'syft.core.node.new.request_service.RequestService'>, <class 'syft.core.node.new.data_subject_service.DataSubjectService'>, <class 'syft.core.node.new.network_service.NetworkService'>, <class 'syft.core.node.new.message_service.MessageService'>, <class 'syft.core.node.new.project_service.ProjectService'>, <class 'syft.core.node.new.data_subject_member_service.DataSubjectMemberService'>]\n"
     ]
    }
   ],
   "source": [
    "worker = sy.Worker.named(\"test-domain-1\", reset=True)\n",
    "domain_client = worker.root_client"
   ]
  },
  {
   "cell_type": "code",
   "execution_count": 3,
   "id": "c4d2328d-6229-4a20-8999-eec9553c2c24",
   "metadata": {
    "tags": []
   },
   "outputs": [
    {
     "name": "stderr",
     "output_type": "stream",
     "text": [
      "WARNING:absl:No GPU/TPU found, falling back to CPU. (Set TF_CPP_MIN_LOG_LEVEL=0 and rerun for more info.)\n"
     ]
    }
   ],
   "source": [
    "from jax import random\n",
    "from flax import linen as nn\n",
    "key = random.PRNGKey(42)"
   ]
  },
  {
   "cell_type": "code",
   "execution_count": 4,
   "id": "cfe5ba6e-21f7-4781-9c67-94b716e8f593",
   "metadata": {
    "tags": []
   },
   "outputs": [],
   "source": [
    "train_data = random.uniform(key, shape=(4, 28, 28, 1))"
   ]
  },
  {
   "cell_type": "code",
   "execution_count": 5,
   "id": "4c4def70-6c1a-4eda-80d2-ebf0261ca332",
   "metadata": {
    "tags": []
   },
   "outputs": [],
   "source": [
    "assert round(train_data.sum()) == 1602"
   ]
  },
  {
   "cell_type": "code",
   "execution_count": 6,
   "id": "24c082c6-5438-4065-bd4d-481fa2cc2475",
   "metadata": {
    "tags": []
   },
   "outputs": [],
   "source": [
    "train = sy.ActionObject.from_obj(train_data)"
   ]
  },
  {
   "cell_type": "code",
   "execution_count": 7,
   "id": "5d52f2d9-5aff-4edb-b964-c7502c1f9028",
   "metadata": {
    "tags": []
   },
   "outputs": [
    {
     "data": {
      "text/plain": [
       "syft.core.node.new.action_object.AnyActionObject"
      ]
     },
     "execution_count": 7,
     "metadata": {},
     "output_type": "execute_result"
    }
   ],
   "source": [
    "type(train)"
   ]
  },
  {
   "cell_type": "code",
   "execution_count": 33,
   "id": "f3bddb6a-9e9e-4098-a9f7-e556d1b71a5e",
   "metadata": {
    "tags": []
   },
   "outputs": [
    {
     "data": {
      "text/plain": [
       "jaxlib.xla_extension.DeviceArray"
      ]
     },
     "execution_count": 33,
     "metadata": {},
     "output_type": "execute_result"
    }
   ],
   "source": [
    "type(train_data)"
   ]
  },
  {
   "cell_type": "code",
   "execution_count": 8,
   "id": "29eb62fb-fc00-4222-9ccc-7657550aac56",
   "metadata": {
    "tags": []
   },
   "outputs": [
    {
     "data": {
      "text/plain": [
       "(jaxlib.xla_extension.DeviceArray,\n",
       " <UID: d7d7c9c7a9d94b589fae1275de67c96c>,\n",
       " (4, 28, 28, 1))"
      ]
     },
     "execution_count": 8,
     "metadata": {},
     "output_type": "execute_result"
    }
   ],
   "source": [
    "type(train.syft_action_data), train.id, train.shape"
   ]
  },
  {
   "cell_type": "code",
   "execution_count": 9,
   "id": "38bac5b4-5d46-4f89-93c9-3ee3f5d7456a",
   "metadata": {
    "tags": []
   },
   "outputs": [],
   "source": [
    "train_domain_obj = domain_client.api.services.action.set(train)"
   ]
  },
  {
   "cell_type": "code",
   "execution_count": 10,
   "id": "6722247f-90af-4ff1-8b98-64444b2d4c7c",
   "metadata": {
    "tags": []
   },
   "outputs": [],
   "source": [
    "class MLP(nn.Module):\n",
    "    out_dims: int\n",
    "\n",
    "    @nn.compact\n",
    "    def __call__(self, x):\n",
    "        x = x.reshape((x.shape[0], -1))\n",
    "        x = nn.Dense(128)(x)\n",
    "        x = nn.relu(x)\n",
    "        x = nn.Dense(self.out_dims)(x)\n",
    "        return x\n",
    "\n",
    "model = MLP(out_dims=10)"
   ]
  },
  {
   "cell_type": "code",
   "execution_count": 38,
   "id": "dd0077de-1b15-4b7c-93d3-820155e2993a",
   "metadata": {
    "tags": []
   },
   "outputs": [],
   "source": [
    "weights = model.init(key, train_data)"
   ]
  },
  {
   "cell_type": "code",
   "execution_count": 13,
   "id": "98d1dff5-54a0-407a-a376-fb31dea6ede6",
   "metadata": {
    "tags": []
   },
   "outputs": [],
   "source": [
    "w = sy.ActionObject.from_obj(weights)"
   ]
  },
  {
   "cell_type": "code",
   "execution_count": 14,
   "id": "33c0cc41-19d7-4fac-9e0d-121ca7f20839",
   "metadata": {
    "tags": []
   },
   "outputs": [
    {
     "data": {
      "text/plain": [
       "syft.core.node.new.action_object.AnyActionObject"
      ]
     },
     "execution_count": 14,
     "metadata": {},
     "output_type": "execute_result"
    }
   ],
   "source": [
    "type(w)"
   ]
  },
  {
   "cell_type": "code",
   "execution_count": 15,
   "id": "163a27fd-94e2-455d-9e94-9ff7000eace3",
   "metadata": {
    "tags": []
   },
   "outputs": [
    {
     "data": {
      "text/plain": [
       "(flax.core.frozen_dict.FrozenDict, <UID: 4c9291c106244b84abc635f8809217fd>)"
      ]
     },
     "execution_count": 15,
     "metadata": {},
     "output_type": "execute_result"
    }
   ],
   "source": [
    "type(w.syft_action_data), w.id"
   ]
  },
  {
   "cell_type": "code",
   "execution_count": 16,
   "id": "e22cec3a-115a-4e2b-bdc2-bfca34e0ded3",
   "metadata": {
    "tags": []
   },
   "outputs": [],
   "source": [
    "weight_domain_obj = domain_client.api.services.action.set(w)"
   ]
  },
  {
   "cell_type": "code",
   "execution_count": 17,
   "id": "2153d838-fb86-4fe4-8747-dcb2a9336d03",
   "metadata": {
    "tags": []
   },
   "outputs": [],
   "source": [
    "@sy.syft_function(input_policy=sy.ExactMatch(weights=weight_domain_obj.id, data=train_domain_obj.id),\n",
    "                  output_policy=sy.SingleExecutionExactOutput())\n",
    "def train_mlp(weights, data):\n",
    "    from flax import linen as nn\n",
    "\n",
    "    class MLP(nn.Module):\n",
    "        out_dims: int\n",
    "\n",
    "        @nn.compact\n",
    "        def __call__(self, x):\n",
    "            x = x.reshape((x.shape[0], -1))\n",
    "            x = nn.Dense(128)(x)\n",
    "            x = nn.relu(x)\n",
    "            x = nn.Dense(self.out_dims)(x)\n",
    "            return x\n",
    "\n",
    "    model = MLP(out_dims=10)\n",
    "    output = model.apply(weights, data)\n",
    "    return output"
   ]
  },
  {
   "cell_type": "markdown",
   "id": "09978209-ca38-41cb-a549-910373f48261",
   "metadata": {
    "tags": []
   },
   "source": [
    "Train locally"
   ]
  },
  {
   "cell_type": "code",
   "execution_count": 39,
   "id": "1772f30b-952f-462c-9c05-638822fad7c5",
   "metadata": {
    "tags": []
   },
   "outputs": [],
   "source": [
    "output = train_mlp(weights=weights, data=train_data)"
   ]
  },
  {
   "cell_type": "code",
   "execution_count": 40,
   "id": "45ad42d4-ceae-4aff-9b77-69b0a4df8bf6",
   "metadata": {
    "tags": []
   },
   "outputs": [],
   "source": [
    "assert round(output.sum(), 2) == -3.24"
   ]
  },
  {
   "cell_type": "code",
   "execution_count": 41,
   "id": "65e51574-0458-4535-8302-51ec21909822",
   "metadata": {
    "tags": []
   },
   "outputs": [
    {
     "data": {
      "text/plain": [
       "DeviceArray([[ 0.14943041, -0.36854096, -0.64575584, -0.38621526,\n",
       "              -0.28981561,  0.14723957,  0.35607396,  0.898455  ,\n",
       "              -0.46983801,  0.21583178],\n",
       "             [-0.36093625, -0.0785419 , -0.41703793, -0.82913101,\n",
       "               0.06887782,  0.079618  ,  0.22278813,  0.55593109,\n",
       "              -0.53083418, -0.0054186 ],\n",
       "             [-0.31463861,  0.0295174 , -0.62358003, -0.08584507,\n",
       "              -0.24341324, -0.17701984,  0.3985397 ,  0.67374497,\n",
       "              -0.14091304,  0.0577738 ],\n",
       "             [-0.3278211 , -0.35691213, -0.77101191, -0.52124855,\n",
       "               0.10943515, -0.01648953,  0.27638874,  0.55057775,\n",
       "              -0.11716184,  0.05130892]], dtype=float64)"
      ]
     },
     "execution_count": 41,
     "metadata": {},
     "output_type": "execute_result"
    }
   ],
   "source": [
    "output"
   ]
  },
  {
   "cell_type": "markdown",
   "id": "18047f7b-6e42-4c52-88a9-0f8931b7fdc2",
   "metadata": {},
   "source": [
    "Remote training"
   ]
  },
  {
   "cell_type": "code",
   "execution_count": 21,
   "id": "18eefbd5-07bf-4d06-9b11-a48ed8e02a16",
   "metadata": {
    "tags": []
   },
   "outputs": [
    {
     "data": {
      "text/markdown": [
       "```python\n",
       "class Request:\n",
       "  id: str = 7ea0885963f345e6858c52c5bad1838c\n",
       "  requesting_user_verify_key: str = aec6ea4dfc049ceacaeeebc493167a88a200ddc367b1fa32da652444b635d21f\n",
       "  approving_user_verify_key: str = None\n",
       "  request_time: str = 2023-03-15 01:34:19\n",
       "  approval_time: str = None\n",
       "  status: str = RequestStatus.PENDING\n",
       "  node_uid: str = 7bca415d13ed1ec841f0d0aede098dbb\n",
       "  request_hash: str = \"0596f097d5277da75a5c8d6d9b22f80c1e71f107b441c1b61da5fddfe2c0c83a\"\n",
       "  changes: str = [syft.core.node.new.request.UserCodeStatusChange]\n",
       "\n",
       "```"
      ],
      "text/plain": [
       "syft.core.node.new.request.Request"
      ]
     },
     "execution_count": 21,
     "metadata": {},
     "output_type": "execute_result"
    }
   ],
   "source": [
    "request = domain_client.api.services.code.request_code_execution(train_mlp)\n",
    "request"
   ]
  },
  {
   "cell_type": "code",
   "execution_count": 22,
   "id": "40aff3e8-f9d6-4a84-bcd2-67d13000cead",
   "metadata": {
    "tags": []
   },
   "outputs": [
    {
     "data": {
      "text/html": [
       "<div class=\"alert-success\" style=\"padding:5px;\"><strong>SyftSuccess</strong>: Request 7ea0885963f345e6858c52c5bad1838c changes applied</div><br />"
      ],
      "text/plain": [
       "<class 'syft.core.node.new.response.SyftSuccess'>: Request 7ea0885963f345e6858c52c5bad1838c changes applied"
      ]
     },
     "execution_count": 22,
     "metadata": {},
     "output_type": "execute_result"
    }
   ],
   "source": [
    "request.approve()"
   ]
  },
  {
   "cell_type": "code",
   "execution_count": 23,
   "id": "21f2ba58-4d99-4a40-ac5e-62bc928a9d29",
   "metadata": {
    "tags": []
   },
   "outputs": [],
   "source": [
    "domain_client._api = None\n",
    "_ = domain_client.api"
   ]
  },
  {
   "cell_type": "code",
   "execution_count": 24,
   "id": "bf3eecee-cfdb-45ab-b769-cb11cc7ae667",
   "metadata": {
    "tags": []
   },
   "outputs": [],
   "source": [
    "result = domain_client.api.services.code.train_mlp(weights=w.id, data=train.id)"
   ]
  },
  {
   "cell_type": "code",
   "execution_count": 25,
   "id": "dd007dcc-6f5d-48b4-b957-23abc03abfe7",
   "metadata": {
    "tags": []
   },
   "outputs": [
    {
     "data": {
      "text/plain": [
       "DeviceArray([[ 0.14943041, -0.36854096, -0.64575584, -0.38621526,\n",
       "              -0.28981561,  0.14723957,  0.35607396,  0.898455  ,\n",
       "              -0.46983801,  0.21583178],\n",
       "             [-0.36093625, -0.0785419 , -0.41703793, -0.82913101,\n",
       "               0.06887782,  0.079618  ,  0.22278813,  0.55593109,\n",
       "              -0.53083418, -0.0054186 ],\n",
       "             [-0.31463861,  0.0295174 , -0.62358003, -0.08584507,\n",
       "              -0.24341324, -0.17701984,  0.3985397 ,  0.67374497,\n",
       "              -0.14091304,  0.0577738 ],\n",
       "             [-0.3278211 , -0.35691213, -0.77101191, -0.52124855,\n",
       "               0.10943515, -0.01648953,  0.27638874,  0.55057775,\n",
       "              -0.11716184,  0.05130892]], dtype=float64)"
      ]
     },
     "execution_count": 25,
     "metadata": {},
     "output_type": "execute_result"
    }
   ],
   "source": [
    "result"
   ]
  },
  {
   "cell_type": "code",
   "execution_count": 26,
   "id": "b33bf847-69e7-4c4a-87d9-3cd6ee4e0aa6",
   "metadata": {
    "tags": []
   },
   "outputs": [
    {
     "name": "stdout",
     "output_type": "stream",
     "text": [
      "IGNORING: got action result id=<UID: 11c806acf70f4af385fee0738dcdd09e> syft_parent_id=None syft_action_data=DeviceArray(-3.23658824, dtype=float64) syft_node_uid=<UID: 7bca415d13ed1ec841f0d0aede098dbb> syft_internal_type=typing.Any syft_passthrough_attrs=[] syft_dont_wrap_attrs=[]\n",
      "result doesnt have a syft_node_uid attr\n"
     ]
    }
   ],
   "source": [
    "assert round(float(result.sum()), 2) == -3.24"
   ]
  },
  {
   "cell_type": "code",
   "execution_count": 27,
   "id": "0f88fdf9-069c-4282-baee-41f04b8bbe06",
   "metadata": {},
   "outputs": [
    {
     "data": {
      "text/plain": [
       "flax.core.frozen_dict.FrozenDict"
      ]
     },
     "execution_count": 27,
     "metadata": {},
     "output_type": "execute_result"
    }
   ],
   "source": [
    "type(weights)"
   ]
  },
  {
   "cell_type": "code",
   "execution_count": 28,
   "id": "e668ff92-cb43-4aa6-93d3-757389a65b4a",
   "metadata": {
    "tags": []
   },
   "outputs": [
    {
     "data": {
      "text/plain": [
       "syft.core.node.new.action_object.AnyActionObject"
      ]
     },
     "execution_count": 28,
     "metadata": {},
     "output_type": "execute_result"
    }
   ],
   "source": [
    "type(w)"
   ]
  },
  {
   "cell_type": "code",
   "execution_count": 29,
   "id": "747f3c15-378e-4fb0-866a-0dbd39158399",
   "metadata": {
    "tags": []
   },
   "outputs": [
    {
     "data": {
      "text/plain": [
       "<UID: d7d7c9c7a9d94b589fae1275de67c96c>"
      ]
     },
     "execution_count": 29,
     "metadata": {},
     "output_type": "execute_result"
    }
   ],
   "source": [
    "train.id"
   ]
  },
  {
   "cell_type": "code",
   "execution_count": null,
   "id": "26331da6-7762-4771-8c78-681c5833c7fd",
   "metadata": {},
   "outputs": [],
   "source": []
  }
 ],
 "metadata": {
  "kernelspec": {
   "display_name": "Python 3 (ipykernel)",
   "language": "python",
   "name": "python3"
  },
  "language_info": {
   "codemirror_mode": {
    "name": "ipython",
    "version": 3
   },
   "file_extension": ".py",
   "mimetype": "text/x-python",
   "name": "python",
   "nbconvert_exporter": "python",
   "pygments_lexer": "ipython3",
   "version": "3.10.8"
  }
 },
 "nbformat": 4,
 "nbformat_minor": 5
}

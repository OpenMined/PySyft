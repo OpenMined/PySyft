{
 "cells": [
  {
   "cell_type": "markdown",
   "id": "cc9ba20b",
   "metadata": {},
   "source": [
    "# Reproducing and trying to solve the bug in [this ticket](https://github.com/orgs/OpenMined/projects/81/views/1?pane=issue&itemId=28179093) - second notebook"
   ]
  },
  {
   "cell_type": "code",
   "execution_count": 1,
   "id": "fb1b5b73",
   "metadata": {},
   "outputs": [
    {
     "name": "stderr",
     "output_type": "stream",
     "text": [
      "kj/filesystem-disk-unix.c++:1703: warning: PWD environment variable doesn't match current directory; pwd = /home/dk/Desktop/projects/PySyft\n"
     ]
    },
    {
     "name": "stdout",
     "output_type": "stream",
     "text": [
      "✅ The installed version of syft==0.8.1b2 matches the requirement >=0.8.1b0\n"
     ]
    }
   ],
   "source": [
    "import syft as sy\n",
    "sy.requires(\">=0.8.1-beta\")\n",
    "import numpy as np"
   ]
  },
  {
   "cell_type": "code",
   "execution_count": 2,
   "id": "269d8540",
   "metadata": {},
   "outputs": [
    {
     "name": "stdout",
     "output_type": "stream",
     "text": [
      "/tmp/7bca415d13ed1ec841f0d0aede098dbb.sqlite\r\n"
     ]
    }
   ],
   "source": [
    "!ls /tmp/*.sqlite"
   ]
  },
  {
   "cell_type": "markdown",
   "id": "2e57695c",
   "metadata": {},
   "source": [
    "Test: access the launched node with python worker for debugging"
   ]
  },
  {
   "cell_type": "code",
   "execution_count": 7,
   "id": "25246241",
   "metadata": {},
   "outputs": [
    {
     "name": "stdout",
     "output_type": "stream",
     "text": [
      "SQLite Store Path:\n",
      "!open file:///tmp/7bca415d13ed1ec841f0d0aede098dbb.sqlite\n",
      "\n"
     ]
    }
   ],
   "source": [
    "node = sy.orchestra.launch(name=\"test-domain-1\", dev_mode=True)\n",
    "pn = node.python_node"
   ]
  },
  {
   "cell_type": "code",
   "execution_count": 8,
   "id": "e139ea71",
   "metadata": {},
   "outputs": [
    {
     "data": {
      "text/plain": [
       "<syft.store.sqlite_document_store.SQLiteStorePartition at 0x7f92ad1a1ae0>"
      ]
     },
     "execution_count": 8,
     "metadata": {},
     "output_type": "execute_result"
    }
   ],
   "source": [
    "pn.document_store.partitions[\"User\"]"
   ]
  },
  {
   "cell_type": "markdown",
   "id": "c94dea65",
   "metadata": {},
   "source": [
    "If `node` is not launched with `reset=True`, we will get the error in the ticket. Not using `reset=True`, we will use the existing `sqlite` database (`/tmp/7bca415d13ed1ec841f0d0aede098dbb.sqlite`)"
   ]
  },
  {
   "cell_type": "code",
   "execution_count": 2,
   "id": "cfb5754d",
   "metadata": {},
   "outputs": [
    {
     "name": "stdout",
     "output_type": "stream",
     "text": [
      "Starting test-domain-1 server on 0.0.0.0:8080\n",
      "\n",
      "WARNING: private key is based on node name: test-domain-1 in dev_mode. Don't run this in production.\n",
      "SQLite Store Path:\n",
      "!open file:///tmp/7bca415d13ed1ec841f0d0aede098dbb.sqlite\n",
      "\n"
     ]
    },
    {
     "name": "stderr",
     "output_type": "stream",
     "text": [
      "INFO:     Started server process [109905]\n",
      "INFO:     Waiting for application startup.\n",
      "INFO:     Application startup complete.\n",
      "ERROR:    [Errno 98] error while attempting to bind on address ('0.0.0.0', 8080): address already in use\n",
      "INFO:     Waiting for application shutdown.\n",
      "INFO:     Application shutdown complete.\n"
     ]
    }
   ],
   "source": [
    "node = sy.orchestra.launch(name=\"test-domain-1\",\n",
    "                           port=8080, dev_mode=True)\n",
    "domain_client = node.login(email=\"info@openmined.org\",\n",
    "                           password=\"changethis\")\n",
    "guest_client = node.client.guest()\n",
    "guest_client\n",
    "\n",
    "assert domain_client.credentials != guest_client.credentials"
   ]
  },
  {
   "cell_type": "markdown",
   "id": "f0240229",
   "metadata": {},
   "source": [
    "Check that we are still getting back the messages from the first notebook"
   ]
  },
  {
   "cell_type": "code",
   "execution_count": 3,
   "id": "9cf92ca2",
   "metadata": {},
   "outputs": [
    {
     "data": {
      "text/html": [
       "List - Size: 2\n",
       "<div>\n",
       "<style scoped>\n",
       "    .dataframe tbody tr th:only-of-type {\n",
       "        vertical-align: middle;\n",
       "    }\n",
       "\n",
       "    .dataframe tbody tr th {\n",
       "        vertical-align: top;\n",
       "    }\n",
       "\n",
       "    .dataframe thead th {\n",
       "        text-align: right;\n",
       "    }\n",
       "</style>\n",
       "<table border=\"1\" class=\"dataframe\">\n",
       "  <thead>\n",
       "    <tr style=\"text-align: right;\">\n",
       "      <th></th>\n",
       "      <th>type</th>\n",
       "      <th>id</th>\n",
       "      <th>subject</th>\n",
       "      <th>status</th>\n",
       "      <th>created_at</th>\n",
       "      <th>linked_obj</th>\n",
       "    </tr>\n",
       "  </thead>\n",
       "  <tbody>\n",
       "    <tr>\n",
       "      <th>0</th>\n",
       "      <td>syft.service.message.messages.Message</td>\n",
       "      <td>502f12d170604417a770cf8af718a16b</td>\n",
       "      <td>Approval Request</td>\n",
       "      <td>MessageStatus.UNDELIVERED</td>\n",
       "      <td>2023-05-17 23:13:13</td>\n",
       "      <td>&lt;&lt;class 'syft.service.request.request.Request'...</td>\n",
       "    </tr>\n",
       "    <tr>\n",
       "      <th>1</th>\n",
       "      <td>syft.service.message.messages.Message</td>\n",
       "      <td>76f74b53bd02493c99f528e342c69184</td>\n",
       "      <td>Approval Request</td>\n",
       "      <td>MessageStatus.UNDELIVERED</td>\n",
       "      <td>2023-05-17 23:13:19</td>\n",
       "      <td>&lt;&lt;class 'syft.service.request.request.Request'...</td>\n",
       "    </tr>\n",
       "  </tbody>\n",
       "</table>\n",
       "</div>"
      ],
      "text/plain": [
       "<syft.client.api.APIModule at 0x7fc2e916d930>"
      ]
     },
     "execution_count": 3,
     "metadata": {},
     "output_type": "execute_result"
    }
   ],
   "source": [
    "domain_client.api.services.messages"
   ]
  },
  {
   "cell_type": "markdown",
   "id": "59097695",
   "metadata": {},
   "source": [
    "Let's reproduce the bug"
   ]
  },
  {
   "cell_type": "code",
   "execution_count": 4,
   "id": "851ef2b2",
   "metadata": {},
   "outputs": [
    {
     "ename": "Exception",
     "evalue": "syft.user.RepeatedCallPolicy_aec6ea4dfc049ceacaeeebc493167a88a200ddc367b1fa32da652444b635d21f_ba90eef16c2b39292a2ee07f1aefc157216b84487b26c32a1512d114c8ee7c69 not in TYPE_BANK",
     "output_type": "error",
     "traceback": [
      "\u001b[0;31m---------------------------------------------------------------------------\u001b[0m",
      "\u001b[0;31mException\u001b[0m                                 Traceback (most recent call last)",
      "File \u001b[0;32m~/Desktop/projects/PySyft/.tox/syft.jupyter/lib/python3.10/site-packages/IPython/core/formatters.py:342\u001b[0m, in \u001b[0;36mBaseFormatter.__call__\u001b[0;34m(self, obj)\u001b[0m\n\u001b[1;32m    340\u001b[0m     method \u001b[38;5;241m=\u001b[39m get_real_method(obj, \u001b[38;5;28mself\u001b[39m\u001b[38;5;241m.\u001b[39mprint_method)\n\u001b[1;32m    341\u001b[0m     \u001b[38;5;28;01mif\u001b[39;00m method \u001b[38;5;129;01mis\u001b[39;00m \u001b[38;5;129;01mnot\u001b[39;00m \u001b[38;5;28;01mNone\u001b[39;00m:\n\u001b[0;32m--> 342\u001b[0m         \u001b[38;5;28;01mreturn\u001b[39;00m \u001b[43mmethod\u001b[49m\u001b[43m(\u001b[49m\u001b[43m)\u001b[49m\n\u001b[1;32m    343\u001b[0m     \u001b[38;5;28;01mreturn\u001b[39;00m \u001b[38;5;28;01mNone\u001b[39;00m\n\u001b[1;32m    344\u001b[0m \u001b[38;5;28;01melse\u001b[39;00m:\n",
      "File \u001b[0;32m~/Desktop/projects/PySyft/packages/syft/src/syft/client/api.py:325\u001b[0m, in \u001b[0;36mAPIModule._repr_html_\u001b[0;34m(self)\u001b[0m\n\u001b[1;32m    323\u001b[0m \u001b[38;5;28;01mif\u001b[39;00m \u001b[38;5;129;01mnot\u001b[39;00m \u001b[38;5;28mhasattr\u001b[39m(\u001b[38;5;28mself\u001b[39m, \u001b[38;5;124m\"\u001b[39m\u001b[38;5;124mget_all\u001b[39m\u001b[38;5;124m\"\u001b[39m):\n\u001b[1;32m    324\u001b[0m     \u001b[38;5;28;01mreturn\u001b[39;00m \u001b[38;5;167;01mNotImplementedError\u001b[39;00m\n\u001b[0;32m--> 325\u001b[0m results \u001b[38;5;241m=\u001b[39m \u001b[38;5;28;43mself\u001b[39;49m\u001b[38;5;241;43m.\u001b[39;49m\u001b[43mget_all\u001b[49m\u001b[43m(\u001b[49m\u001b[43m)\u001b[49m\n\u001b[1;32m    326\u001b[0m \u001b[38;5;28;01mreturn\u001b[39;00m results\u001b[38;5;241m.\u001b[39m_repr_html_()\n",
      "File \u001b[0;32m~/Desktop/projects/PySyft/packages/syft/src/syft/client/api.py:207\u001b[0m, in \u001b[0;36mgenerate_remote_function.<locals>.wrapper\u001b[0;34m(*args, **kwargs)\u001b[0m\n\u001b[1;32m    198\u001b[0m     _valid_kwargs\u001b[38;5;241m.\u001b[39mupdate(pre_kwargs)\n\u001b[1;32m    200\u001b[0m api_call \u001b[38;5;241m=\u001b[39m SyftAPICall(\n\u001b[1;32m    201\u001b[0m     node_uid\u001b[38;5;241m=\u001b[39mnode_uid,\n\u001b[1;32m    202\u001b[0m     path\u001b[38;5;241m=\u001b[39mpath,\n\u001b[0;32m   (...)\u001b[0m\n\u001b[1;32m    205\u001b[0m     blocking\u001b[38;5;241m=\u001b[39mblocking,\n\u001b[1;32m    206\u001b[0m )\n\u001b[0;32m--> 207\u001b[0m result \u001b[38;5;241m=\u001b[39m \u001b[43mmake_call\u001b[49m\u001b[43m(\u001b[49m\u001b[43mapi_call\u001b[49m\u001b[38;5;241;43m=\u001b[39;49m\u001b[43mapi_call\u001b[49m\u001b[43m)\u001b[49m\n\u001b[1;32m    208\u001b[0m \u001b[38;5;28;01mreturn\u001b[39;00m result\n",
      "File \u001b[0;32m~/Desktop/projects/PySyft/packages/syft/src/syft/client/api.py:435\u001b[0m, in \u001b[0;36mSyftAPI.make_call\u001b[0;34m(self, api_call)\u001b[0m\n\u001b[1;32m    432\u001b[0m \u001b[38;5;28;01mif\u001b[39;00m \u001b[38;5;129;01mnot\u001b[39;00m signed_result\u001b[38;5;241m.\u001b[39mis_valid:\n\u001b[1;32m    433\u001b[0m     \u001b[38;5;28;01mreturn\u001b[39;00m SyftError(message\u001b[38;5;241m=\u001b[39m\u001b[38;5;124m\"\u001b[39m\u001b[38;5;124mThe result signature is invalid\u001b[39m\u001b[38;5;124m\"\u001b[39m)  \u001b[38;5;66;03m# type: ignore\u001b[39;00m\n\u001b[0;32m--> 435\u001b[0m result \u001b[38;5;241m=\u001b[39m \u001b[43msigned_result\u001b[49m\u001b[38;5;241;43m.\u001b[39;49m\u001b[43mmessage\u001b[49m\u001b[38;5;241m.\u001b[39mdata\n\u001b[1;32m    437\u001b[0m \u001b[38;5;28;01mif\u001b[39;00m \u001b[38;5;28misinstance\u001b[39m(result, OkErr):\n\u001b[1;32m    438\u001b[0m     \u001b[38;5;28;01mif\u001b[39;00m result\u001b[38;5;241m.\u001b[39mis_ok():\n",
      "File \u001b[0;32m~/Desktop/projects/PySyft/packages/syft/src/syft/client/api.py:111\u001b[0m, in \u001b[0;36mSignedSyftAPICall.message\u001b[0;34m(self)\u001b[0m\n\u001b[1;32m    108\u001b[0m     \u001b[38;5;28mself\u001b[39m\u001b[38;5;241m.\u001b[39mcached_deseralized_message \u001b[38;5;241m=\u001b[39m \u001b[38;5;28;01mNone\u001b[39;00m\n\u001b[1;32m    110\u001b[0m \u001b[38;5;28;01mif\u001b[39;00m \u001b[38;5;28mself\u001b[39m\u001b[38;5;241m.\u001b[39mcached_deseralized_message \u001b[38;5;129;01mis\u001b[39;00m \u001b[38;5;28;01mNone\u001b[39;00m:\n\u001b[0;32m--> 111\u001b[0m     \u001b[38;5;28mself\u001b[39m\u001b[38;5;241m.\u001b[39mcached_deseralized_message \u001b[38;5;241m=\u001b[39m \u001b[43m_deserialize\u001b[49m\u001b[43m(\u001b[49m\n\u001b[1;32m    112\u001b[0m \u001b[43m        \u001b[49m\u001b[43mblob\u001b[49m\u001b[38;5;241;43m=\u001b[39;49m\u001b[38;5;28;43mself\u001b[39;49m\u001b[38;5;241;43m.\u001b[39;49m\u001b[43mserialized_message\u001b[49m\u001b[43m,\u001b[49m\u001b[43m \u001b[49m\u001b[43mfrom_bytes\u001b[49m\u001b[38;5;241;43m=\u001b[39;49m\u001b[38;5;28;43;01mTrue\u001b[39;49;00m\n\u001b[1;32m    113\u001b[0m \u001b[43m    \u001b[49m\u001b[43m)\u001b[49m\n\u001b[1;32m    115\u001b[0m \u001b[38;5;28;01mreturn\u001b[39;00m \u001b[38;5;28mself\u001b[39m\u001b[38;5;241m.\u001b[39mcached_deseralized_message\n",
      "File \u001b[0;32m~/Desktop/projects/PySyft/packages/syft/src/syft/serde/deserialize.py:29\u001b[0m, in \u001b[0;36m_deserialize\u001b[0;34m(blob, from_proto, from_bytes)\u001b[0m\n\u001b[1;32m     26\u001b[0m     \u001b[38;5;28;01mraise\u001b[39;00m \u001b[38;5;167;01mTypeError\u001b[39;00m(\u001b[38;5;124m\"\u001b[39m\u001b[38;5;124mWrong deserialization format.\u001b[39m\u001b[38;5;124m\"\u001b[39m)\n\u001b[1;32m     28\u001b[0m \u001b[38;5;28;01mif\u001b[39;00m from_bytes:\n\u001b[0;32m---> 29\u001b[0m     \u001b[38;5;28;01mreturn\u001b[39;00m \u001b[43mrs_bytes2object\u001b[49m\u001b[43m(\u001b[49m\u001b[43mblob\u001b[49m\u001b[43m)\u001b[49m\n\u001b[1;32m     31\u001b[0m \u001b[38;5;28;01mif\u001b[39;00m from_proto:\n\u001b[1;32m     32\u001b[0m     \u001b[38;5;28;01mreturn\u001b[39;00m rs_proto2object(blob)\n",
      "File \u001b[0;32m~/Desktop/projects/PySyft/packages/syft/src/syft/serde/recursive.py:189\u001b[0m, in \u001b[0;36mrs_bytes2object\u001b[0;34m(blob)\u001b[0m\n\u001b[1;32m    184\u001b[0m MAX_TRAVERSAL_LIMIT \u001b[38;5;241m=\u001b[39m \u001b[38;5;241m2\u001b[39m\u001b[38;5;241m*\u001b[39m\u001b[38;5;241m*\u001b[39m\u001b[38;5;241m64\u001b[39m \u001b[38;5;241m-\u001b[39m \u001b[38;5;241m1\u001b[39m\n\u001b[1;32m    186\u001b[0m \u001b[38;5;28;01mwith\u001b[39;00m recursive_scheme\u001b[38;5;241m.\u001b[39mfrom_bytes(  \u001b[38;5;66;03m# type: ignore\u001b[39;00m\n\u001b[1;32m    187\u001b[0m     blob, traversal_limit_in_words\u001b[38;5;241m=\u001b[39mMAX_TRAVERSAL_LIMIT\n\u001b[1;32m    188\u001b[0m ) \u001b[38;5;28;01mas\u001b[39;00m msg:\n\u001b[0;32m--> 189\u001b[0m     \u001b[38;5;28;01mreturn\u001b[39;00m \u001b[43mrs_proto2object\u001b[49m\u001b[43m(\u001b[49m\u001b[43mmsg\u001b[49m\u001b[43m)\u001b[49m\n",
      "File \u001b[0;32m~/Desktop/projects/PySyft/packages/syft/src/syft/serde/recursive.py:254\u001b[0m, in \u001b[0;36mrs_proto2object\u001b[0;34m(proto)\u001b[0m\n\u001b[1;32m    252\u001b[0m \u001b[38;5;28;01mif\u001b[39;00m attr_name \u001b[38;5;241m!=\u001b[39m \u001b[38;5;124m\"\u001b[39m\u001b[38;5;124m\"\u001b[39m:\n\u001b[1;32m    253\u001b[0m     attr_bytes \u001b[38;5;241m=\u001b[39m combine_bytes(attr_bytes_list)\n\u001b[0;32m--> 254\u001b[0m     attr_value \u001b[38;5;241m=\u001b[39m \u001b[43m_deserialize\u001b[49m\u001b[43m(\u001b[49m\u001b[43mattr_bytes\u001b[49m\u001b[43m,\u001b[49m\u001b[43m \u001b[49m\u001b[43mfrom_bytes\u001b[49m\u001b[38;5;241;43m=\u001b[39;49m\u001b[38;5;28;43;01mTrue\u001b[39;49;00m\u001b[43m)\u001b[49m\n\u001b[1;32m    255\u001b[0m     transforms \u001b[38;5;241m=\u001b[39m serde_overrides\u001b[38;5;241m.\u001b[39mget(attr_name, \u001b[38;5;28;01mNone\u001b[39;00m)\n\u001b[1;32m    257\u001b[0m     \u001b[38;5;28;01mif\u001b[39;00m transforms \u001b[38;5;129;01mis\u001b[39;00m \u001b[38;5;129;01mnot\u001b[39;00m \u001b[38;5;28;01mNone\u001b[39;00m:\n",
      "File \u001b[0;32m~/Desktop/projects/PySyft/packages/syft/src/syft/serde/deserialize.py:29\u001b[0m, in \u001b[0;36m_deserialize\u001b[0;34m(blob, from_proto, from_bytes)\u001b[0m\n\u001b[1;32m     26\u001b[0m     \u001b[38;5;28;01mraise\u001b[39;00m \u001b[38;5;167;01mTypeError\u001b[39;00m(\u001b[38;5;124m\"\u001b[39m\u001b[38;5;124mWrong deserialization format.\u001b[39m\u001b[38;5;124m\"\u001b[39m)\n\u001b[1;32m     28\u001b[0m \u001b[38;5;28;01mif\u001b[39;00m from_bytes:\n\u001b[0;32m---> 29\u001b[0m     \u001b[38;5;28;01mreturn\u001b[39;00m \u001b[43mrs_bytes2object\u001b[49m\u001b[43m(\u001b[49m\u001b[43mblob\u001b[49m\u001b[43m)\u001b[49m\n\u001b[1;32m     31\u001b[0m \u001b[38;5;28;01mif\u001b[39;00m from_proto:\n\u001b[1;32m     32\u001b[0m     \u001b[38;5;28;01mreturn\u001b[39;00m rs_proto2object(blob)\n",
      "File \u001b[0;32m~/Desktop/projects/PySyft/packages/syft/src/syft/serde/recursive.py:189\u001b[0m, in \u001b[0;36mrs_bytes2object\u001b[0;34m(blob)\u001b[0m\n\u001b[1;32m    184\u001b[0m MAX_TRAVERSAL_LIMIT \u001b[38;5;241m=\u001b[39m \u001b[38;5;241m2\u001b[39m\u001b[38;5;241m*\u001b[39m\u001b[38;5;241m*\u001b[39m\u001b[38;5;241m64\u001b[39m \u001b[38;5;241m-\u001b[39m \u001b[38;5;241m1\u001b[39m\n\u001b[1;32m    186\u001b[0m \u001b[38;5;28;01mwith\u001b[39;00m recursive_scheme\u001b[38;5;241m.\u001b[39mfrom_bytes(  \u001b[38;5;66;03m# type: ignore\u001b[39;00m\n\u001b[1;32m    187\u001b[0m     blob, traversal_limit_in_words\u001b[38;5;241m=\u001b[39mMAX_TRAVERSAL_LIMIT\n\u001b[1;32m    188\u001b[0m ) \u001b[38;5;28;01mas\u001b[39;00m msg:\n\u001b[0;32m--> 189\u001b[0m     \u001b[38;5;28;01mreturn\u001b[39;00m \u001b[43mrs_proto2object\u001b[49m\u001b[43m(\u001b[49m\u001b[43mmsg\u001b[49m\u001b[43m)\u001b[49m\n",
      "File \u001b[0;32m~/Desktop/projects/PySyft/packages/syft/src/syft/serde/recursive.py:247\u001b[0m, in \u001b[0;36mrs_proto2object\u001b[0;34m(proto)\u001b[0m\n\u001b[1;32m    242\u001b[0m     \u001b[38;5;28;01mif\u001b[39;00m deserialize \u001b[38;5;129;01mis\u001b[39;00m \u001b[38;5;28;01mNone\u001b[39;00m:\n\u001b[1;32m    243\u001b[0m         \u001b[38;5;28;01mraise\u001b[39;00m \u001b[38;5;167;01mException\u001b[39;00m(\n\u001b[1;32m    244\u001b[0m             \u001b[38;5;124mf\u001b[39m\u001b[38;5;124m\"\u001b[39m\u001b[38;5;124mCant serialize \u001b[39m\u001b[38;5;132;01m{\u001b[39;00m\u001b[38;5;28mtype\u001b[39m(proto)\u001b[38;5;132;01m}\u001b[39;00m\u001b[38;5;124m nonrecursive without serialize.\u001b[39m\u001b[38;5;124m\"\u001b[39m\n\u001b[1;32m    245\u001b[0m         )\n\u001b[0;32m--> 247\u001b[0m     \u001b[38;5;28;01mreturn\u001b[39;00m \u001b[43mdeserialize\u001b[49m\u001b[43m(\u001b[49m\u001b[43mcombine_bytes\u001b[49m\u001b[43m(\u001b[49m\u001b[43mproto\u001b[49m\u001b[38;5;241;43m.\u001b[39;49m\u001b[43mnonrecursiveBlob\u001b[49m\u001b[43m)\u001b[49m\u001b[43m)\u001b[49m\n\u001b[1;32m    249\u001b[0m kwargs \u001b[38;5;241m=\u001b[39m {}\n\u001b[1;32m    251\u001b[0m \u001b[38;5;28;01mfor\u001b[39;00m attr_name, attr_bytes_list \u001b[38;5;129;01min\u001b[39;00m \u001b[38;5;28mzip\u001b[39m(proto\u001b[38;5;241m.\u001b[39mfieldsName, proto\u001b[38;5;241m.\u001b[39mfieldsData):\n",
      "File \u001b[0;32m~/Desktop/projects/PySyft/packages/syft/src/syft/serde/recursive_primitives.py:65\u001b[0m, in \u001b[0;36mdeserialize_iterable\u001b[0;34m(iterable_type, blob)\u001b[0m\n\u001b[1;32m     61\u001b[0m \u001b[38;5;28;01mwith\u001b[39;00m iterable_schema\u001b[38;5;241m.\u001b[39mfrom_bytes(  \u001b[38;5;66;03m# type: ignore\u001b[39;00m\n\u001b[1;32m     62\u001b[0m     blob, traversal_limit_in_words\u001b[38;5;241m=\u001b[39mMAX_TRAVERSAL_LIMIT\n\u001b[1;32m     63\u001b[0m ) \u001b[38;5;28;01mas\u001b[39;00m msg:\n\u001b[1;32m     64\u001b[0m     \u001b[38;5;28;01mfor\u001b[39;00m element \u001b[38;5;129;01min\u001b[39;00m msg\u001b[38;5;241m.\u001b[39mvalues:\n\u001b[0;32m---> 65\u001b[0m         values\u001b[38;5;241m.\u001b[39mappend(\u001b[43m_deserialize\u001b[49m\u001b[43m(\u001b[49m\u001b[43mcombine_bytes\u001b[49m\u001b[43m(\u001b[49m\u001b[43melement\u001b[49m\u001b[43m)\u001b[49m\u001b[43m,\u001b[49m\u001b[43m \u001b[49m\u001b[43mfrom_bytes\u001b[49m\u001b[38;5;241;43m=\u001b[39;49m\u001b[38;5;28;43;01mTrue\u001b[39;49;00m\u001b[43m)\u001b[49m)\n\u001b[1;32m     67\u001b[0m \u001b[38;5;28;01mreturn\u001b[39;00m iterable_type(values)\n",
      "File \u001b[0;32m~/Desktop/projects/PySyft/packages/syft/src/syft/serde/deserialize.py:29\u001b[0m, in \u001b[0;36m_deserialize\u001b[0;34m(blob, from_proto, from_bytes)\u001b[0m\n\u001b[1;32m     26\u001b[0m     \u001b[38;5;28;01mraise\u001b[39;00m \u001b[38;5;167;01mTypeError\u001b[39;00m(\u001b[38;5;124m\"\u001b[39m\u001b[38;5;124mWrong deserialization format.\u001b[39m\u001b[38;5;124m\"\u001b[39m)\n\u001b[1;32m     28\u001b[0m \u001b[38;5;28;01mif\u001b[39;00m from_bytes:\n\u001b[0;32m---> 29\u001b[0m     \u001b[38;5;28;01mreturn\u001b[39;00m \u001b[43mrs_bytes2object\u001b[49m\u001b[43m(\u001b[49m\u001b[43mblob\u001b[49m\u001b[43m)\u001b[49m\n\u001b[1;32m     31\u001b[0m \u001b[38;5;28;01mif\u001b[39;00m from_proto:\n\u001b[1;32m     32\u001b[0m     \u001b[38;5;28;01mreturn\u001b[39;00m rs_proto2object(blob)\n",
      "File \u001b[0;32m~/Desktop/projects/PySyft/packages/syft/src/syft/serde/recursive.py:189\u001b[0m, in \u001b[0;36mrs_bytes2object\u001b[0;34m(blob)\u001b[0m\n\u001b[1;32m    184\u001b[0m MAX_TRAVERSAL_LIMIT \u001b[38;5;241m=\u001b[39m \u001b[38;5;241m2\u001b[39m\u001b[38;5;241m*\u001b[39m\u001b[38;5;241m*\u001b[39m\u001b[38;5;241m64\u001b[39m \u001b[38;5;241m-\u001b[39m \u001b[38;5;241m1\u001b[39m\n\u001b[1;32m    186\u001b[0m \u001b[38;5;28;01mwith\u001b[39;00m recursive_scheme\u001b[38;5;241m.\u001b[39mfrom_bytes(  \u001b[38;5;66;03m# type: ignore\u001b[39;00m\n\u001b[1;32m    187\u001b[0m     blob, traversal_limit_in_words\u001b[38;5;241m=\u001b[39mMAX_TRAVERSAL_LIMIT\n\u001b[1;32m    188\u001b[0m ) \u001b[38;5;28;01mas\u001b[39;00m msg:\n\u001b[0;32m--> 189\u001b[0m     \u001b[38;5;28;01mreturn\u001b[39;00m \u001b[43mrs_proto2object\u001b[49m\u001b[43m(\u001b[49m\u001b[43mmsg\u001b[49m\u001b[43m)\u001b[49m\n",
      "File \u001b[0;32m~/Desktop/projects/PySyft/packages/syft/src/syft/serde/recursive.py:254\u001b[0m, in \u001b[0;36mrs_proto2object\u001b[0;34m(proto)\u001b[0m\n\u001b[1;32m    252\u001b[0m \u001b[38;5;28;01mif\u001b[39;00m attr_name \u001b[38;5;241m!=\u001b[39m \u001b[38;5;124m\"\u001b[39m\u001b[38;5;124m\"\u001b[39m:\n\u001b[1;32m    253\u001b[0m     attr_bytes \u001b[38;5;241m=\u001b[39m combine_bytes(attr_bytes_list)\n\u001b[0;32m--> 254\u001b[0m     attr_value \u001b[38;5;241m=\u001b[39m \u001b[43m_deserialize\u001b[49m\u001b[43m(\u001b[49m\u001b[43mattr_bytes\u001b[49m\u001b[43m,\u001b[49m\u001b[43m \u001b[49m\u001b[43mfrom_bytes\u001b[49m\u001b[38;5;241;43m=\u001b[39;49m\u001b[38;5;28;43;01mTrue\u001b[39;49;00m\u001b[43m)\u001b[49m\n\u001b[1;32m    255\u001b[0m     transforms \u001b[38;5;241m=\u001b[39m serde_overrides\u001b[38;5;241m.\u001b[39mget(attr_name, \u001b[38;5;28;01mNone\u001b[39;00m)\n\u001b[1;32m    257\u001b[0m     \u001b[38;5;28;01mif\u001b[39;00m transforms \u001b[38;5;129;01mis\u001b[39;00m \u001b[38;5;129;01mnot\u001b[39;00m \u001b[38;5;28;01mNone\u001b[39;00m:\n",
      "File \u001b[0;32m~/Desktop/projects/PySyft/packages/syft/src/syft/serde/deserialize.py:29\u001b[0m, in \u001b[0;36m_deserialize\u001b[0;34m(blob, from_proto, from_bytes)\u001b[0m\n\u001b[1;32m     26\u001b[0m     \u001b[38;5;28;01mraise\u001b[39;00m \u001b[38;5;167;01mTypeError\u001b[39;00m(\u001b[38;5;124m\"\u001b[39m\u001b[38;5;124mWrong deserialization format.\u001b[39m\u001b[38;5;124m\"\u001b[39m)\n\u001b[1;32m     28\u001b[0m \u001b[38;5;28;01mif\u001b[39;00m from_bytes:\n\u001b[0;32m---> 29\u001b[0m     \u001b[38;5;28;01mreturn\u001b[39;00m \u001b[43mrs_bytes2object\u001b[49m\u001b[43m(\u001b[49m\u001b[43mblob\u001b[49m\u001b[43m)\u001b[49m\n\u001b[1;32m     31\u001b[0m \u001b[38;5;28;01mif\u001b[39;00m from_proto:\n\u001b[1;32m     32\u001b[0m     \u001b[38;5;28;01mreturn\u001b[39;00m rs_proto2object(blob)\n",
      "File \u001b[0;32m~/Desktop/projects/PySyft/packages/syft/src/syft/serde/recursive.py:189\u001b[0m, in \u001b[0;36mrs_bytes2object\u001b[0;34m(blob)\u001b[0m\n\u001b[1;32m    184\u001b[0m MAX_TRAVERSAL_LIMIT \u001b[38;5;241m=\u001b[39m \u001b[38;5;241m2\u001b[39m\u001b[38;5;241m*\u001b[39m\u001b[38;5;241m*\u001b[39m\u001b[38;5;241m64\u001b[39m \u001b[38;5;241m-\u001b[39m \u001b[38;5;241m1\u001b[39m\n\u001b[1;32m    186\u001b[0m \u001b[38;5;28;01mwith\u001b[39;00m recursive_scheme\u001b[38;5;241m.\u001b[39mfrom_bytes(  \u001b[38;5;66;03m# type: ignore\u001b[39;00m\n\u001b[1;32m    187\u001b[0m     blob, traversal_limit_in_words\u001b[38;5;241m=\u001b[39mMAX_TRAVERSAL_LIMIT\n\u001b[1;32m    188\u001b[0m ) \u001b[38;5;28;01mas\u001b[39;00m msg:\n\u001b[0;32m--> 189\u001b[0m     \u001b[38;5;28;01mreturn\u001b[39;00m \u001b[43mrs_proto2object\u001b[49m\u001b[43m(\u001b[49m\u001b[43mmsg\u001b[49m\u001b[43m)\u001b[49m\n",
      "File \u001b[0;32m~/Desktop/projects/PySyft/packages/syft/src/syft/serde/recursive.py:247\u001b[0m, in \u001b[0;36mrs_proto2object\u001b[0;34m(proto)\u001b[0m\n\u001b[1;32m    242\u001b[0m     \u001b[38;5;28;01mif\u001b[39;00m deserialize \u001b[38;5;129;01mis\u001b[39;00m \u001b[38;5;28;01mNone\u001b[39;00m:\n\u001b[1;32m    243\u001b[0m         \u001b[38;5;28;01mraise\u001b[39;00m \u001b[38;5;167;01mException\u001b[39;00m(\n\u001b[1;32m    244\u001b[0m             \u001b[38;5;124mf\u001b[39m\u001b[38;5;124m\"\u001b[39m\u001b[38;5;124mCant serialize \u001b[39m\u001b[38;5;132;01m{\u001b[39;00m\u001b[38;5;28mtype\u001b[39m(proto)\u001b[38;5;132;01m}\u001b[39;00m\u001b[38;5;124m nonrecursive without serialize.\u001b[39m\u001b[38;5;124m\"\u001b[39m\n\u001b[1;32m    245\u001b[0m         )\n\u001b[0;32m--> 247\u001b[0m     \u001b[38;5;28;01mreturn\u001b[39;00m \u001b[43mdeserialize\u001b[49m\u001b[43m(\u001b[49m\u001b[43mcombine_bytes\u001b[49m\u001b[43m(\u001b[49m\u001b[43mproto\u001b[49m\u001b[38;5;241;43m.\u001b[39;49m\u001b[43mnonrecursiveBlob\u001b[49m\u001b[43m)\u001b[49m\u001b[43m)\u001b[49m\n\u001b[1;32m    249\u001b[0m kwargs \u001b[38;5;241m=\u001b[39m {}\n\u001b[1;32m    251\u001b[0m \u001b[38;5;28;01mfor\u001b[39;00m attr_name, attr_bytes_list \u001b[38;5;129;01min\u001b[39;00m \u001b[38;5;28mzip\u001b[39m(proto\u001b[38;5;241m.\u001b[39mfieldsName, proto\u001b[38;5;241m.\u001b[39mfieldsData):\n",
      "File \u001b[0;32m~/Desktop/projects/PySyft/packages/syft/src/syft/serde/recursive_primitives.py:65\u001b[0m, in \u001b[0;36mdeserialize_iterable\u001b[0;34m(iterable_type, blob)\u001b[0m\n\u001b[1;32m     61\u001b[0m \u001b[38;5;28;01mwith\u001b[39;00m iterable_schema\u001b[38;5;241m.\u001b[39mfrom_bytes(  \u001b[38;5;66;03m# type: ignore\u001b[39;00m\n\u001b[1;32m     62\u001b[0m     blob, traversal_limit_in_words\u001b[38;5;241m=\u001b[39mMAX_TRAVERSAL_LIMIT\n\u001b[1;32m     63\u001b[0m ) \u001b[38;5;28;01mas\u001b[39;00m msg:\n\u001b[1;32m     64\u001b[0m     \u001b[38;5;28;01mfor\u001b[39;00m element \u001b[38;5;129;01min\u001b[39;00m msg\u001b[38;5;241m.\u001b[39mvalues:\n\u001b[0;32m---> 65\u001b[0m         values\u001b[38;5;241m.\u001b[39mappend(\u001b[43m_deserialize\u001b[49m\u001b[43m(\u001b[49m\u001b[43mcombine_bytes\u001b[49m\u001b[43m(\u001b[49m\u001b[43melement\u001b[49m\u001b[43m)\u001b[49m\u001b[43m,\u001b[49m\u001b[43m \u001b[49m\u001b[43mfrom_bytes\u001b[49m\u001b[38;5;241;43m=\u001b[39;49m\u001b[38;5;28;43;01mTrue\u001b[39;49;00m\u001b[43m)\u001b[49m)\n\u001b[1;32m     67\u001b[0m \u001b[38;5;28;01mreturn\u001b[39;00m iterable_type(values)\n",
      "File \u001b[0;32m~/Desktop/projects/PySyft/packages/syft/src/syft/serde/deserialize.py:29\u001b[0m, in \u001b[0;36m_deserialize\u001b[0;34m(blob, from_proto, from_bytes)\u001b[0m\n\u001b[1;32m     26\u001b[0m     \u001b[38;5;28;01mraise\u001b[39;00m \u001b[38;5;167;01mTypeError\u001b[39;00m(\u001b[38;5;124m\"\u001b[39m\u001b[38;5;124mWrong deserialization format.\u001b[39m\u001b[38;5;124m\"\u001b[39m)\n\u001b[1;32m     28\u001b[0m \u001b[38;5;28;01mif\u001b[39;00m from_bytes:\n\u001b[0;32m---> 29\u001b[0m     \u001b[38;5;28;01mreturn\u001b[39;00m \u001b[43mrs_bytes2object\u001b[49m\u001b[43m(\u001b[49m\u001b[43mblob\u001b[49m\u001b[43m)\u001b[49m\n\u001b[1;32m     31\u001b[0m \u001b[38;5;28;01mif\u001b[39;00m from_proto:\n\u001b[1;32m     32\u001b[0m     \u001b[38;5;28;01mreturn\u001b[39;00m rs_proto2object(blob)\n",
      "File \u001b[0;32m~/Desktop/projects/PySyft/packages/syft/src/syft/serde/recursive.py:189\u001b[0m, in \u001b[0;36mrs_bytes2object\u001b[0;34m(blob)\u001b[0m\n\u001b[1;32m    184\u001b[0m MAX_TRAVERSAL_LIMIT \u001b[38;5;241m=\u001b[39m \u001b[38;5;241m2\u001b[39m\u001b[38;5;241m*\u001b[39m\u001b[38;5;241m*\u001b[39m\u001b[38;5;241m64\u001b[39m \u001b[38;5;241m-\u001b[39m \u001b[38;5;241m1\u001b[39m\n\u001b[1;32m    186\u001b[0m \u001b[38;5;28;01mwith\u001b[39;00m recursive_scheme\u001b[38;5;241m.\u001b[39mfrom_bytes(  \u001b[38;5;66;03m# type: ignore\u001b[39;00m\n\u001b[1;32m    187\u001b[0m     blob, traversal_limit_in_words\u001b[38;5;241m=\u001b[39mMAX_TRAVERSAL_LIMIT\n\u001b[1;32m    188\u001b[0m ) \u001b[38;5;28;01mas\u001b[39;00m msg:\n\u001b[0;32m--> 189\u001b[0m     \u001b[38;5;28;01mreturn\u001b[39;00m \u001b[43mrs_proto2object\u001b[49m\u001b[43m(\u001b[49m\u001b[43mmsg\u001b[49m\u001b[43m)\u001b[49m\n",
      "File \u001b[0;32m~/Desktop/projects/PySyft/packages/syft/src/syft/serde/recursive.py:254\u001b[0m, in \u001b[0;36mrs_proto2object\u001b[0;34m(proto)\u001b[0m\n\u001b[1;32m    252\u001b[0m \u001b[38;5;28;01mif\u001b[39;00m attr_name \u001b[38;5;241m!=\u001b[39m \u001b[38;5;124m\"\u001b[39m\u001b[38;5;124m\"\u001b[39m:\n\u001b[1;32m    253\u001b[0m     attr_bytes \u001b[38;5;241m=\u001b[39m combine_bytes(attr_bytes_list)\n\u001b[0;32m--> 254\u001b[0m     attr_value \u001b[38;5;241m=\u001b[39m \u001b[43m_deserialize\u001b[49m\u001b[43m(\u001b[49m\u001b[43mattr_bytes\u001b[49m\u001b[43m,\u001b[49m\u001b[43m \u001b[49m\u001b[43mfrom_bytes\u001b[49m\u001b[38;5;241;43m=\u001b[39;49m\u001b[38;5;28;43;01mTrue\u001b[39;49;00m\u001b[43m)\u001b[49m\n\u001b[1;32m    255\u001b[0m     transforms \u001b[38;5;241m=\u001b[39m serde_overrides\u001b[38;5;241m.\u001b[39mget(attr_name, \u001b[38;5;28;01mNone\u001b[39;00m)\n\u001b[1;32m    257\u001b[0m     \u001b[38;5;28;01mif\u001b[39;00m transforms \u001b[38;5;129;01mis\u001b[39;00m \u001b[38;5;129;01mnot\u001b[39;00m \u001b[38;5;28;01mNone\u001b[39;00m:\n",
      "File \u001b[0;32m~/Desktop/projects/PySyft/packages/syft/src/syft/serde/deserialize.py:29\u001b[0m, in \u001b[0;36m_deserialize\u001b[0;34m(blob, from_proto, from_bytes)\u001b[0m\n\u001b[1;32m     26\u001b[0m     \u001b[38;5;28;01mraise\u001b[39;00m \u001b[38;5;167;01mTypeError\u001b[39;00m(\u001b[38;5;124m\"\u001b[39m\u001b[38;5;124mWrong deserialization format.\u001b[39m\u001b[38;5;124m\"\u001b[39m)\n\u001b[1;32m     28\u001b[0m \u001b[38;5;28;01mif\u001b[39;00m from_bytes:\n\u001b[0;32m---> 29\u001b[0m     \u001b[38;5;28;01mreturn\u001b[39;00m \u001b[43mrs_bytes2object\u001b[49m\u001b[43m(\u001b[49m\u001b[43mblob\u001b[49m\u001b[43m)\u001b[49m\n\u001b[1;32m     31\u001b[0m \u001b[38;5;28;01mif\u001b[39;00m from_proto:\n\u001b[1;32m     32\u001b[0m     \u001b[38;5;28;01mreturn\u001b[39;00m rs_proto2object(blob)\n",
      "File \u001b[0;32m~/Desktop/projects/PySyft/packages/syft/src/syft/serde/recursive.py:189\u001b[0m, in \u001b[0;36mrs_bytes2object\u001b[0;34m(blob)\u001b[0m\n\u001b[1;32m    184\u001b[0m MAX_TRAVERSAL_LIMIT \u001b[38;5;241m=\u001b[39m \u001b[38;5;241m2\u001b[39m\u001b[38;5;241m*\u001b[39m\u001b[38;5;241m*\u001b[39m\u001b[38;5;241m64\u001b[39m \u001b[38;5;241m-\u001b[39m \u001b[38;5;241m1\u001b[39m\n\u001b[1;32m    186\u001b[0m \u001b[38;5;28;01mwith\u001b[39;00m recursive_scheme\u001b[38;5;241m.\u001b[39mfrom_bytes(  \u001b[38;5;66;03m# type: ignore\u001b[39;00m\n\u001b[1;32m    187\u001b[0m     blob, traversal_limit_in_words\u001b[38;5;241m=\u001b[39mMAX_TRAVERSAL_LIMIT\n\u001b[1;32m    188\u001b[0m ) \u001b[38;5;28;01mas\u001b[39;00m msg:\n\u001b[0;32m--> 189\u001b[0m     \u001b[38;5;28;01mreturn\u001b[39;00m \u001b[43mrs_proto2object\u001b[49m\u001b[43m(\u001b[49m\u001b[43mmsg\u001b[49m\u001b[43m)\u001b[49m\n",
      "File \u001b[0;32m~/Desktop/projects/PySyft/packages/syft/src/syft/serde/recursive.py:220\u001b[0m, in \u001b[0;36mrs_proto2object\u001b[0;34m(proto)\u001b[0m\n\u001b[1;32m    217\u001b[0m                 \u001b[38;5;28;01mpass\u001b[39;00m\n\u001b[1;32m    219\u001b[0m \u001b[38;5;28;01mif\u001b[39;00m proto\u001b[38;5;241m.\u001b[39mfullyQualifiedName \u001b[38;5;129;01mnot\u001b[39;00m \u001b[38;5;129;01min\u001b[39;00m TYPE_BANK:\n\u001b[0;32m--> 220\u001b[0m     \u001b[38;5;28;01mraise\u001b[39;00m \u001b[38;5;167;01mException\u001b[39;00m(\u001b[38;5;124mf\u001b[39m\u001b[38;5;124m\"\u001b[39m\u001b[38;5;132;01m{\u001b[39;00mproto\u001b[38;5;241m.\u001b[39mfullyQualifiedName\u001b[38;5;132;01m}\u001b[39;00m\u001b[38;5;124m not in TYPE_BANK\u001b[39m\u001b[38;5;124m\"\u001b[39m)\n\u001b[1;32m    222\u001b[0m \u001b[38;5;66;03m# TODO: 🐉 sort this out, basically sometimes the syft.user classes are not in the\u001b[39;00m\n\u001b[1;32m    223\u001b[0m \u001b[38;5;66;03m# module name space in sub-processes or threads even though they are loaded on start\u001b[39;00m\n\u001b[1;32m    224\u001b[0m \u001b[38;5;66;03m# its possible that the uvicorn awsgi server is preloading a bunch of threads\u001b[39;00m\n\u001b[1;32m    225\u001b[0m \u001b[38;5;66;03m# however simply getting the class from the TYPE_BANK doesn't always work and\u001b[39;00m\n\u001b[1;32m    226\u001b[0m \u001b[38;5;66;03m# causes some errors so it seems like we want to get the local one where possible\u001b[39;00m\n\u001b[1;32m    227\u001b[0m (\n\u001b[1;32m    228\u001b[0m     nonrecursive,\n\u001b[1;32m    229\u001b[0m     serialize,\n\u001b[0;32m   (...)\u001b[0m\n\u001b[1;32m    234\u001b[0m     \u001b[38;5;28mcls\u001b[39m,\n\u001b[1;32m    235\u001b[0m ) \u001b[38;5;241m=\u001b[39m TYPE_BANK[proto\u001b[38;5;241m.\u001b[39mfullyQualifiedName]\n",
      "\u001b[0;31mException\u001b[0m: syft.user.RepeatedCallPolicy_aec6ea4dfc049ceacaeeebc493167a88a200ddc367b1fa32da652444b635d21f_ba90eef16c2b39292a2ee07f1aefc157216b84487b26c32a1512d114c8ee7c69 not in TYPE_BANK"
     ]
    },
    {
     "data": {
      "text/plain": [
       "<syft.client.api.APIModule at 0x7fc2e916e290>"
      ]
     },
     "execution_count": 4,
     "metadata": {},
     "output_type": "execute_result"
    }
   ],
   "source": [
    "domain_client.api.services.request"
   ]
  },
  {
   "cell_type": "code",
   "execution_count": null,
   "id": "5bad85d2",
   "metadata": {},
   "outputs": [],
   "source": []
  },
  {
   "cell_type": "code",
   "execution_count": null,
   "id": "47a59033",
   "metadata": {},
   "outputs": [],
   "source": []
  },
  {
   "cell_type": "code",
   "execution_count": 4,
   "id": "8ab897ef",
   "metadata": {},
   "outputs": [],
   "source": []
  },
  {
   "cell_type": "code",
   "execution_count": null,
   "id": "e34db684",
   "metadata": {},
   "outputs": [],
   "source": []
  }
 ],
 "metadata": {
  "kernelspec": {
   "display_name": "Python 3 (ipykernel)",
   "language": "python",
   "name": "python3"
  },
  "language_info": {
   "codemirror_mode": {
    "name": "ipython",
    "version": 3
   },
   "file_extension": ".py",
   "mimetype": "text/x-python",
   "name": "python",
   "nbconvert_exporter": "python",
   "pygments_lexer": "ipython3",
   "version": "3.10.8"
  }
 },
 "nbformat": 4,
 "nbformat_minor": 5
}

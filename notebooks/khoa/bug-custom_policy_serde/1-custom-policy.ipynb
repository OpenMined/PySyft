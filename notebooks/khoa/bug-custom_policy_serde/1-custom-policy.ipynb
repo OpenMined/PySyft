{
 "cells": [
  {
   "cell_type": "markdown",
   "id": "98727157",
   "metadata": {},
   "source": [
    "# Reproducing and trying to solve the bug in [this ticket](https://github.com/orgs/OpenMined/projects/81/views/1?pane=issue&itemId=28179093) - first notebook"
   ]
  },
  {
   "cell_type": "code",
   "execution_count": 1,
   "id": "3f8ef717",
   "metadata": {},
   "outputs": [
    {
     "name": "stderr",
     "output_type": "stream",
     "text": [
      "kj/filesystem-disk-unix.c++:1703: warning: PWD environment variable doesn't match current directory; pwd = /home/dk/Desktop/projects/PySyft\n"
     ]
    },
    {
     "name": "stdout",
     "output_type": "stream",
     "text": [
      "✅ The installed version of syft==0.8.1b2 matches the requirement >=0.8 and the requirement <0.8.1\n"
     ]
    }
   ],
   "source": [
    "import syft as sy\n",
    "sy.requires(\">=0.8,<0.8.1\")"
   ]
  },
  {
   "cell_type": "code",
   "execution_count": 2,
   "id": "f8f3cbde",
   "metadata": {},
   "outputs": [
    {
     "name": "stdout",
     "output_type": "stream",
     "text": [
      "Starting test-domain-1 server on 0.0.0.0:8080\n",
      "\n",
      "WARNING: private key is based on node name: test-domain-1 in dev_mode. Don't run this in production.\n",
      "SQLite Store Path:\n",
      "!open file:///tmp/7bca415d13ed1ec841f0d0aede098dbb.sqlite\n",
      "\n"
     ]
    },
    {
     "name": "stderr",
     "output_type": "stream",
     "text": [
      "INFO:     Started server process [106408]\n",
      "INFO:     Waiting for application startup.\n",
      "INFO:     Application startup complete.\n",
      "INFO:     Uvicorn running on http://0.0.0.0:8080 (Press CTRL+C to quit)\n"
     ]
    },
    {
     "name": "stdout",
     "output_type": "stream",
     "text": [
      "INFO:     127.0.0.1:42844 - \"GET /api/v1/new/metadata HTTP/1.1\" 200 OK\n",
      "INFO:     127.0.0.1:42844 - \"POST /api/v1/new/login HTTP/1.1\" 200 OK\n",
      "INFO:     127.0.0.1:42844 - \"GET /api/v1/new/api?verify_key=aec6ea4dfc049ceacaeeebc493167a88a200ddc367b1fa32da652444b635d21f HTTP/1.1\" 200 OK\n",
      "INFO:     127.0.0.1:56726 - \"POST /api/v1/new/api_call HTTP/1.1\" 200 OK\n",
      "INFO:     127.0.0.1:56736 - \"POST /api/v1/new/api_call HTTP/1.1\" 200 OK\n",
      "INFO:     127.0.0.1:56738 - \"GET /api/v1/new/metadata HTTP/1.1\" 200 OK\n",
      "INFO:     127.0.0.1:56746 - \"POST /api/v1/new/api_call HTTP/1.1\" 200 OK\n",
      "INFO:     127.0.0.1:56738 - \"GET /api/v1/new/api?verify_key=aec6ea4dfc049ceacaeeebc493167a88a200ddc367b1fa32da652444b635d21f HTTP/1.1\" 200 OK\n",
      "INFO:     127.0.0.1:60620 - \"POST /api/v1/new/api_call HTTP/1.1\" 200 OK\n",
      "INFO:     127.0.0.1:60628 - \"POST /api/v1/new/api_call HTTP/1.1\" 200 OK\n",
      "INFO:     127.0.0.1:60632 - \"POST /api/v1/new/api_call HTTP/1.1\" 200 OK\n",
      "INFO:     127.0.0.1:60634 - \"POST /api/v1/new/api_call HTTP/1.1\" 200 OK\n",
      "INFO:     127.0.0.1:60636 - \"POST /api/v1/new/api_call HTTP/1.1\" 200 OK\n",
      "INFO:     127.0.0.1:60646 - \"POST /api/v1/new/api_call HTTP/1.1\" 200 OK\n",
      "INFO:     127.0.0.1:60658 - \"POST /api/v1/new/api_call HTTP/1.1\" 200 OK\n",
      "INFO:     127.0.0.1:60662 - \"POST /api/v1/new/api_call HTTP/1.1\" 200 OK\n",
      "INFO:     127.0.0.1:60672 - \"POST /api/v1/new/api_call HTTP/1.1\" 200 OK\n",
      "INFO:     127.0.0.1:60674 - \"POST /api/v1/new/api_call HTTP/1.1\" 200 OK\n",
      "INFO:     127.0.0.1:60690 - \"POST /api/v1/new/api_call HTTP/1.1\" 200 OK\n",
      "INFO:     127.0.0.1:60700 - \"POST /api/v1/new/api_call HTTP/1.1\" 200 OK\n",
      "INFO:     127.0.0.1:52296 - \"GET /api/v1/new/metadata HTTP/1.1\" 200 OK\n",
      "INFO:     127.0.0.1:52296 - \"POST /api/v1/new/login HTTP/1.1\" 200 OK\n",
      "INFO:     127.0.0.1:52296 - \"GET /api/v1/new/api?verify_key=aec6ea4dfc049ceacaeeebc493167a88a200ddc367b1fa32da652444b635d21f HTTP/1.1\" 200 OK\n",
      "INFO:     127.0.0.1:52298 - \"GET /api/v1/new/metadata HTTP/1.1\" 200 OK\n",
      "INFO:     127.0.0.1:52300 - \"POST /api/v1/new/api_call HTTP/1.1\" 200 OK\n",
      "INFO:     127.0.0.1:52314 - \"POST /api/v1/new/api_call HTTP/1.1\" 200 OK\n",
      "INFO:     127.0.0.1:51720 - \"GET /api/v1/new/metadata HTTP/1.1\" 200 OK\n",
      "INFO:     127.0.0.1:51720 - \"POST /api/v1/new/login HTTP/1.1\" 200 OK\n",
      "INFO:     127.0.0.1:51720 - \"GET /api/v1/new/api?verify_key=aec6ea4dfc049ceacaeeebc493167a88a200ddc367b1fa32da652444b635d21f HTTP/1.1\" 200 OK\n",
      "INFO:     127.0.0.1:51728 - \"GET /api/v1/new/metadata HTTP/1.1\" 200 OK\n",
      "INFO:     127.0.0.1:51740 - \"POST /api/v1/new/api_call HTTP/1.1\" 200 OK\n",
      "INFO:     127.0.0.1:51748 - \"POST /api/v1/new/api_call HTTP/1.1\" 200 OK\n",
      "INFO:     127.0.0.1:47744 - \"POST /api/v1/new/api_call HTTP/1.1\" 200 OK\n",
      "INFO:     127.0.0.1:47750 - \"POST /api/v1/new/api_call HTTP/1.1\" 200 OK\n",
      "INFO:     127.0.0.1:36682 - \"GET /api/v1/new/metadata HTTP/1.1\" 200 OK\n",
      "INFO:     127.0.0.1:36682 - \"POST /api/v1/new/login HTTP/1.1\" 200 OK\n",
      "INFO:     127.0.0.1:36682 - \"GET /api/v1/new/api?verify_key=aec6ea4dfc049ceacaeeebc493167a88a200ddc367b1fa32da652444b635d21f HTTP/1.1\" 200 OK\n",
      "INFO:     127.0.0.1:36698 - \"GET /api/v1/new/metadata HTTP/1.1\" 200 OK\n",
      "INFO:     127.0.0.1:36708 - \"POST /api/v1/new/api_call HTTP/1.1\" 200 OK\n",
      "INFO:     127.0.0.1:36712 - \"POST /api/v1/new/api_call HTTP/1.1\" 200 OK\n"
     ]
    }
   ],
   "source": [
    "node = sy.orchestra.launch(name=\"test-domain-1\", port=8080, \n",
    "                           dev_mode=True, reset=True)"
   ]
  },
  {
   "cell_type": "code",
   "execution_count": 3,
   "id": "0f06e988",
   "metadata": {},
   "outputs": [],
   "source": [
    "domain_client = node.login(email=\"info@openmined.org\", \n",
    "                           password=\"changethis\")"
   ]
  },
  {
   "cell_type": "markdown",
   "id": "80d16221",
   "metadata": {},
   "source": [
    "#### Construct a `custom policy`"
   ]
  },
  {
   "cell_type": "code",
   "execution_count": 4,
   "id": "5e8baf5b",
   "metadata": {},
   "outputs": [],
   "source": [
    "from typing import List, Dict, Any, Optional\n",
    "\n",
    "@sy.serializable()\n",
    "class RepeatedCallPolicy(sy.CustomOutputPolicy):\n",
    "    n_calls: int = 0\n",
    "    downloadable_output_args: List[str] = []\n",
    "    state: Dict[Any, Any] = {}\n",
    "\n",
    "    def __init__(self, n_calls=1, downloadable_output_args: List[str] = None):\n",
    "        self.downloadable_output_args = downloadable_output_args if downloadable_output_args is not None else []\n",
    "        self.n_calls = n_calls + 1\n",
    "        self.state = {\"counts\": 0}\n",
    "\n",
    "    def public_state(self):\n",
    "        return self.state[\"counts\"]\n",
    "        \n",
    "    def apply_output(self, context, outputs):\n",
    "        output_dict = {}\n",
    "        if self.state[\"counts\"] < self.n_calls:\n",
    "            for output_arg in self.downloadable_output_args:\n",
    "                output_dict[output_arg] = outputs[output_arg]\n",
    "\n",
    "            self.state[\"counts\"] += 1\n",
    "        else:\n",
    "            return None\n",
    "\n",
    "        return output_dict"
   ]
  },
  {
   "cell_type": "code",
   "execution_count": 5,
   "id": "0410cf33",
   "metadata": {},
   "outputs": [],
   "source": [
    "sy.CustomOutputPolicy??"
   ]
  },
  {
   "cell_type": "code",
   "execution_count": 5,
   "id": "d343eaf9",
   "metadata": {},
   "outputs": [],
   "source": [
    "policy = RepeatedCallPolicy(n_calls=1, downloadable_output_args=['y'])"
   ]
  },
  {
   "cell_type": "code",
   "execution_count": 6,
   "id": "e271f938",
   "metadata": {},
   "outputs": [
    {
     "name": "stdout",
     "output_type": "stream",
     "text": [
      "policy.n_calls = 2\n",
      "policy.downloadable_output_args = ['y']\n"
     ]
    }
   ],
   "source": [
    "print(f\"{policy.n_calls = }\")\n",
    "print(f\"{policy.downloadable_output_args = }\")"
   ]
  },
  {
   "cell_type": "code",
   "execution_count": 7,
   "id": "2dcdda7f",
   "metadata": {},
   "outputs": [
    {
     "data": {
      "text/html": [
       "{&#x27;n_calls&#x27;: 1, &#x27;downloadable_output_args&#x27;: [&#x27;y&#x27;]}"
      ],
      "text/plain": [
       "{'n_calls': 1, 'downloadable_output_args': ['y']}"
      ]
     },
     "execution_count": 7,
     "metadata": {},
     "output_type": "execute_result"
    }
   ],
   "source": [
    "policy.init_kwargs"
   ]
  },
  {
   "cell_type": "markdown",
   "id": "9bc1a042",
   "metadata": {},
   "source": [
    "#### Make a pointer"
   ]
  },
  {
   "cell_type": "code",
   "execution_count": 8,
   "id": "38d452a2",
   "metadata": {},
   "outputs": [
    {
     "data": {
      "text/markdown": [
       "```python\n",
       "Pointer\n",
       "```\n",
       "array([1, 2, 3])"
      ],
      "text/plain": [
       "Pointer:\n",
       "[1 2 3]"
      ]
     },
     "execution_count": 8,
     "metadata": {},
     "output_type": "execute_result"
    }
   ],
   "source": [
    "import numpy as np\n",
    "x = np.array([1,2,3])\n",
    "x_pointer = sy.ActionObject.from_obj(x)\n",
    "x_pointer"
   ]
  },
  {
   "cell_type": "code",
   "execution_count": 9,
   "id": "40db2e46",
   "metadata": {},
   "outputs": [
    {
     "data": {
      "text/html": [
       "<div class=\"alert-success\" style=\"padding:5px;\"><strong>SyftSuccess</strong>: <class 'syft.service.action.numpy.NumpyArrayObject'> saved</div><br />"
      ],
      "text/plain": [
       "<class 'syft.service.response.SyftSuccess'>: <class 'syft.service.action.numpy.NumpyArrayObject'> saved"
      ]
     },
     "execution_count": 9,
     "metadata": {},
     "output_type": "execute_result"
    }
   ],
   "source": [
    "domain_client.api.services.action.save(x_pointer)"
   ]
  },
  {
   "cell_type": "code",
   "execution_count": 10,
   "id": "782a9271",
   "metadata": {},
   "outputs": [
    {
     "data": {
      "text/plain": [
       "<UID: 6a27a89e3fe043af84610328acbbe4a6>"
      ]
     },
     "execution_count": 10,
     "metadata": {},
     "output_type": "execute_result"
    }
   ],
   "source": [
    "x_pointer.id"
   ]
  },
  {
   "cell_type": "markdown",
   "id": "e45918fc",
   "metadata": {},
   "source": [
    "#### Make a function with the `RepeatedCallPolicy`"
   ]
  },
  {
   "cell_type": "code",
   "execution_count": 11,
   "id": "1e109c43",
   "metadata": {},
   "outputs": [],
   "source": [
    "@sy.syft_function(\n",
    "    input_policy=sy.ExactMatch(x=x_pointer),\n",
    "    output_policy=RepeatedCallPolicy(n_calls=10, \n",
    "                                     downloadable_output_args=['y']),\n",
    ")\n",
    "def func(x):\n",
    "    return {\"y\": x+1}"
   ]
  },
  {
   "cell_type": "code",
   "execution_count": 45,
   "id": "3b054118",
   "metadata": {},
   "outputs": [
    {
     "data": {
      "text/markdown": [
       "```python\n",
       "class UserCode:\n",
       "  id: str = ece7407f26ab4583bd2483ad2b05077b\n",
       "  node_uid: str = 7bca415d13ed1ec841f0d0aede098dbb\n",
       "  user_verify_key: str = aec6ea4dfc049ceacaeeebc493167a88a200ddc367b1fa32da652444b635d21f\n",
       "  raw_code: str = \"@sy.syft_function(\n",
       "    input_policy=sy.ExactMatch(x=x_pointer),\n",
       "    output_policy=RepeatedCallPolicy(n_calls=10, \n",
       "                                     downloadable_output_args=['y']),\n",
       ")\n",
       "def func(x):\n",
       "    return {\"y\": x+1}\n",
       "\"\n",
       "  input_policy_type: str = <class 'syft.service.policy.policy.ExactMatch'>\n",
       "  input_policy_init_kwargs: str = {NodeView(node_name='test-domain-1', verify_key=aec6ea4dfc049ceacaeeebc493167a88a200ddc367b1fa32da652444b635d21f): {'x': <UID: 6a27a89e3fe043af84610328acbbe4a6>}}\n",
       "  input_policy_state: str = b''\n",
       "  output_policy_type: str = syft.service.policy.policy.UserPolicy\n",
       "  output_policy_init_kwargs: str = {'n_calls': 10, 'downloadable_output_args': ['y']}\n",
       "  output_policy_state: str = b''\n",
       "  parsed_code: str = \"def user_func_func_aec6ea4dfc049ceacaeeebc493167a88a200ddc367b1fa32da652444b635d21f_086ff1660a3fb90e99e47c9b3acf176ae21fe115cbf7fe524892403e48338f11(x):\n",
       "\n",
       "    def func(x):\n",
       "        return {'y': x + 1}\n",
       "    result = func(x=x)\n",
       "    return result\"\n",
       "  service_func_name: str = \"func\"\n",
       "  unique_func_name: str = \"user_func_func_aec6ea4dfc049ceacaeeebc493167a88a200ddc367b1fa32da652444b635d21f_086ff1660a3fb90e99e47c9b3acf176ae21fe115cbf7fe524892403e48338f11\"\n",
       "  user_unique_func_name: str = \"user_func_func_aec6ea4dfc049ceacaeeebc493167a88a200ddc367b1fa32da652444b635d21f\"\n",
       "  code_hash: str = \"086ff1660a3fb90e99e47c9b3acf176ae21fe115cbf7fe524892403e48338f11\"\n",
       "  signature: str = (x)\n",
       "  status: str = {NodeView(node_name='test-domain-1', verify_key=aec6ea4dfc049ceacaeeebc493167a88a200ddc367b1fa32da652444b635d21f): <UserCodeStatus.SUBMITTED: 'submitted'>}\n",
       "  input_kwargs: str = ['x']\n",
       "  enclave_metadata: str = None\n",
       "\n",
       "```"
      ],
      "text/plain": [
       "syft.service.code.user_code.UserCode"
      ]
     },
     "execution_count": 45,
     "metadata": {},
     "output_type": "execute_result"
    }
   ],
   "source": [
    "sy.deserialize(sy.serialize(func, to_bytes=True), from_bytes=True)"
   ]
  },
  {
   "cell_type": "markdown",
   "id": "af7f0d8a",
   "metadata": {},
   "source": [
    "#### Request code execution"
   ]
  },
  {
   "cell_type": "code",
   "execution_count": 12,
   "id": "e20dbbc8",
   "metadata": {},
   "outputs": [
    {
     "data": {
      "text/markdown": [
       "```python\n",
       "class Request:\n",
       "  id: str = 875a51e6a5294b318584600ac06741bd\n",
       "  requesting_user_verify_key: str = aec6ea4dfc049ceacaeeebc493167a88a200ddc367b1fa32da652444b635d21f\n",
       "  approving_user_verify_key: str = None\n",
       "  request_time: str = 2023-05-17 23:13:13\n",
       "  approval_time: str = None\n",
       "  status: str = RequestStatus.PENDING\n",
       "  node_uid: str = 7bca415d13ed1ec841f0d0aede098dbb\n",
       "  request_hash: str = \"112d9ee67171cb80aeaa2ba95972f424428e110623aea89c81d9fb314c570c0f\"\n",
       "  changes: str = [syft.service.request.request.UserCodeStatusChange]\n",
       "\n",
       "```"
      ],
      "text/plain": [
       "syft.service.request.request.Request"
      ]
     },
     "execution_count": 12,
     "metadata": {},
     "output_type": "execute_result"
    }
   ],
   "source": [
    "domain_client.api.services.code.request_code_execution(func)"
   ]
  },
  {
   "cell_type": "code",
   "execution_count": 13,
   "id": "0b788f7e",
   "metadata": {},
   "outputs": [
    {
     "data": {
      "text/html": [
       "List - Size: 1\n",
       "<div>\n",
       "<style scoped>\n",
       "    .dataframe tbody tr th:only-of-type {\n",
       "        vertical-align: middle;\n",
       "    }\n",
       "\n",
       "    .dataframe tbody tr th {\n",
       "        vertical-align: top;\n",
       "    }\n",
       "\n",
       "    .dataframe thead th {\n",
       "        text-align: right;\n",
       "    }\n",
       "</style>\n",
       "<table border=\"1\" class=\"dataframe\">\n",
       "  <thead>\n",
       "    <tr style=\"text-align: right;\">\n",
       "      <th></th>\n",
       "      <th>type</th>\n",
       "      <th>id</th>\n",
       "      <th>subject</th>\n",
       "      <th>status</th>\n",
       "      <th>created_at</th>\n",
       "      <th>linked_obj</th>\n",
       "    </tr>\n",
       "  </thead>\n",
       "  <tbody>\n",
       "    <tr>\n",
       "      <th>0</th>\n",
       "      <td>syft.service.message.messages.Message</td>\n",
       "      <td>502f12d170604417a770cf8af718a16b</td>\n",
       "      <td>Approval Request</td>\n",
       "      <td>MessageStatus.UNDELIVERED</td>\n",
       "      <td>2023-05-17 23:13:13</td>\n",
       "      <td>&lt;&lt;class 'syft.service.request.request.Request'...</td>\n",
       "    </tr>\n",
       "  </tbody>\n",
       "</table>\n",
       "</div>"
      ],
      "text/plain": [
       "[syft.service.message.messages.Message]"
      ]
     },
     "execution_count": 13,
     "metadata": {},
     "output_type": "execute_result"
    }
   ],
   "source": [
    "from syft import MessageStatus\n",
    "messages = domain_client.api.services.messages.get_all_for_status(MessageStatus.UNDELIVERED)\n",
    "messages"
   ]
  },
  {
   "cell_type": "code",
   "execution_count": 14,
   "id": "7b3a9f57",
   "metadata": {},
   "outputs": [],
   "source": [
    "from syft.service.request.request import ObjectMutation, UserCodeStatusChange, Request\n",
    "func = None\n",
    "request = None\n",
    "for message in messages:\n",
    "    req = message.linked_obj.resolve\n",
    "    if isinstance(req, Request):\n",
    "        for change in req.changes:\n",
    "            if isinstance(change, UserCodeStatusChange):\n",
    "                user_code = change.linked_obj.resolve\n",
    "                if \"func\" in user_code.service_func_name:\n",
    "                    func = user_code\n",
    "                    request = req"
   ]
  },
  {
   "cell_type": "code",
   "execution_count": 15,
   "id": "832a2a65",
   "metadata": {},
   "outputs": [
    {
     "data": {
      "text/html": [
       "List - Size: 1\n",
       "<div>\n",
       "<style scoped>\n",
       "    .dataframe tbody tr th:only-of-type {\n",
       "        vertical-align: middle;\n",
       "    }\n",
       "\n",
       "    .dataframe tbody tr th {\n",
       "        vertical-align: top;\n",
       "    }\n",
       "\n",
       "    .dataframe thead th {\n",
       "        text-align: right;\n",
       "    }\n",
       "</style>\n",
       "<table border=\"1\" class=\"dataframe\">\n",
       "  <thead>\n",
       "    <tr style=\"text-align: right;\">\n",
       "      <th></th>\n",
       "      <th>type</th>\n",
       "      <th>id</th>\n",
       "    </tr>\n",
       "  </thead>\n",
       "  <tbody>\n",
       "    <tr>\n",
       "      <th>0</th>\n",
       "      <td>syft.service.request.request.UserCodeStatusChange</td>\n",
       "      <td>95242c3be6114cee86835506cffc78e1</td>\n",
       "    </tr>\n",
       "  </tbody>\n",
       "</table>\n",
       "</div>"
      ],
      "text/plain": [
       "[syft.service.request.request.UserCodeStatusChange]"
      ]
     },
     "execution_count": 15,
     "metadata": {},
     "output_type": "execute_result"
    }
   ],
   "source": [
    "request.changes"
   ]
  },
  {
   "cell_type": "code",
   "execution_count": 16,
   "id": "34e55876",
   "metadata": {},
   "outputs": [
    {
     "name": "stdout",
     "output_type": "stream",
     "text": [
      "x_pointer = Pointer:\n",
      "[1 2 3]\n",
      "WARNING: This code was submitted by a User and could be UNSAFE.\n"
     ]
    },
    {
     "data": {
      "text/html": [
       "{&#x27;y&#x27;: array([2, 3, 4])}"
      ],
      "text/plain": [
       "{'y': array([2, 3, 4])}"
      ]
     },
     "execution_count": 16,
     "metadata": {},
     "output_type": "execute_result"
    }
   ],
   "source": [
    "print(f\"{x_pointer = }\")\n",
    "result = func.unsafe_function(x=x_pointer)\n",
    "result"
   ]
  },
  {
   "cell_type": "code",
   "execution_count": 17,
   "id": "e9843371",
   "metadata": {},
   "outputs": [
    {
     "data": {
      "text/html": [
       "<div class=\"alert-success\" style=\"padding:5px;\"><strong>SyftSuccess</strong>: Request 875a51e6a5294b318584600ac06741bd changes applied</div><br />"
      ],
      "text/plain": [
       "<class 'syft.service.response.SyftSuccess'>: Request 875a51e6a5294b318584600ac06741bd changes applied"
      ]
     },
     "execution_count": 17,
     "metadata": {},
     "output_type": "execute_result"
    }
   ],
   "source": [
    "final_result = request.accept_by_depositing_result(result) \n",
    "final_result"
   ]
  },
  {
   "cell_type": "code",
   "execution_count": 18,
   "id": "f2a244d1",
   "metadata": {},
   "outputs": [
    {
     "data": {
      "text/html": [
       "{&#x27;y&#x27;: array([2, 3, 4])}"
      ],
      "text/markdown": [
       "```python\n",
       "Pointer\n",
       "```\n",
       "{'y': array([2, 3, 4])}"
      ],
      "text/plain": [
       "Pointer:\n",
       "{'y': array([2, 3, 4])}"
      ]
     },
     "execution_count": 18,
     "metadata": {},
     "output_type": "execute_result"
    }
   ],
   "source": [
    "res = domain_client.api.services.code.func(x=x_pointer)\n",
    "res"
   ]
  },
  {
   "cell_type": "code",
   "execution_count": 19,
   "id": "8b1e16fb",
   "metadata": {},
   "outputs": [
    {
     "data": {
      "text/html": [
       "List - Size: 2\n",
       "<div>\n",
       "<style scoped>\n",
       "    .dataframe tbody tr th:only-of-type {\n",
       "        vertical-align: middle;\n",
       "    }\n",
       "\n",
       "    .dataframe tbody tr th {\n",
       "        vertical-align: top;\n",
       "    }\n",
       "\n",
       "    .dataframe thead th {\n",
       "        text-align: right;\n",
       "    }\n",
       "</style>\n",
       "<table border=\"1\" class=\"dataframe\">\n",
       "  <thead>\n",
       "    <tr style=\"text-align: right;\">\n",
       "      <th></th>\n",
       "      <th>type</th>\n",
       "      <th>id</th>\n",
       "      <th>request_time</th>\n",
       "      <th>status</th>\n",
       "      <th>changes</th>\n",
       "    </tr>\n",
       "  </thead>\n",
       "  <tbody>\n",
       "    <tr>\n",
       "      <th>0</th>\n",
       "      <td>syft.service.request.request.Request</td>\n",
       "      <td>875a51e6a5294b318584600ac06741bd</td>\n",
       "      <td>2023-05-17 23:13:13</td>\n",
       "      <td>RequestStatus.PENDING</td>\n",
       "      <td>[syft.service.request.request.UserCodeStatusCh...</td>\n",
       "    </tr>\n",
       "    <tr>\n",
       "      <th>1</th>\n",
       "      <td>syft.service.request.request.Request</td>\n",
       "      <td>a41d378761514624a3d5073e04324fb7</td>\n",
       "      <td>2023-05-17 23:13:19</td>\n",
       "      <td>RequestStatus.PENDING</td>\n",
       "      <td>[syft.service.request.request.ObjectMutation, ...</td>\n",
       "    </tr>\n",
       "  </tbody>\n",
       "</table>\n",
       "</div>"
      ],
      "text/plain": [
       "<syft.client.api.APIModule at 0x7f4f7a4854e0>"
      ]
     },
     "execution_count": 19,
     "metadata": {},
     "output_type": "execute_result"
    }
   ],
   "source": [
    "domain_client.api.services.request"
   ]
  },
  {
   "cell_type": "code",
   "execution_count": 20,
   "id": "ca712f3f",
   "metadata": {},
   "outputs": [
    {
     "data": {
      "text/html": [
       "List - Size: 2\n",
       "<div>\n",
       "<style scoped>\n",
       "    .dataframe tbody tr th:only-of-type {\n",
       "        vertical-align: middle;\n",
       "    }\n",
       "\n",
       "    .dataframe tbody tr th {\n",
       "        vertical-align: top;\n",
       "    }\n",
       "\n",
       "    .dataframe thead th {\n",
       "        text-align: right;\n",
       "    }\n",
       "</style>\n",
       "<table border=\"1\" class=\"dataframe\">\n",
       "  <thead>\n",
       "    <tr style=\"text-align: right;\">\n",
       "      <th></th>\n",
       "      <th>type</th>\n",
       "      <th>id</th>\n",
       "      <th>subject</th>\n",
       "      <th>status</th>\n",
       "      <th>created_at</th>\n",
       "      <th>linked_obj</th>\n",
       "    </tr>\n",
       "  </thead>\n",
       "  <tbody>\n",
       "    <tr>\n",
       "      <th>0</th>\n",
       "      <td>syft.service.message.messages.Message</td>\n",
       "      <td>502f12d170604417a770cf8af718a16b</td>\n",
       "      <td>Approval Request</td>\n",
       "      <td>MessageStatus.UNDELIVERED</td>\n",
       "      <td>2023-05-17 23:13:13</td>\n",
       "      <td>&lt;&lt;class 'syft.service.request.request.Request'...</td>\n",
       "    </tr>\n",
       "    <tr>\n",
       "      <th>1</th>\n",
       "      <td>syft.service.message.messages.Message</td>\n",
       "      <td>76f74b53bd02493c99f528e342c69184</td>\n",
       "      <td>Approval Request</td>\n",
       "      <td>MessageStatus.UNDELIVERED</td>\n",
       "      <td>2023-05-17 23:13:19</td>\n",
       "      <td>&lt;&lt;class 'syft.service.request.request.Request'...</td>\n",
       "    </tr>\n",
       "  </tbody>\n",
       "</table>\n",
       "</div>"
      ],
      "text/plain": [
       "<syft.client.api.APIModule at 0x7f4f7a484b80>"
      ]
     },
     "execution_count": 20,
     "metadata": {},
     "output_type": "execute_result"
    }
   ],
   "source": [
    "domain_client.api.services.messages"
   ]
  },
  {
   "cell_type": "code",
   "execution_count": 21,
   "id": "ed6a4aad",
   "metadata": {},
   "outputs": [
    {
     "data": {
      "text/plain": [
       "__main__.RepeatedCallPolicy"
      ]
     },
     "execution_count": 21,
     "metadata": {},
     "output_type": "execute_result"
    }
   ],
   "source": [
    "type(policy)"
   ]
  },
  {
   "cell_type": "code",
   "execution_count": 40,
   "id": "0b868f54",
   "metadata": {},
   "outputs": [
    {
     "data": {
      "text/plain": [
       "'__main__'"
      ]
     },
     "execution_count": 40,
     "metadata": {},
     "output_type": "execute_result"
    }
   ],
   "source": [
    "policy.__class__.__module__"
   ]
  },
  {
   "cell_type": "code",
   "execution_count": 43,
   "id": "d5c2e987",
   "metadata": {},
   "outputs": [
    {
     "data": {
      "text/plain": [
       "'syft.service.policy.policy'"
      ]
     },
     "execution_count": 43,
     "metadata": {},
     "output_type": "execute_result"
    }
   ],
   "source": [
    "RepeatedCallPolicy.__class__.__module__"
   ]
  },
  {
   "cell_type": "markdown",
   "id": "d1892f6a",
   "metadata": {},
   "source": [
    "get_fully_qualified_name() in `util.py` should return `syft.service.policy.policy.RepeatedCallPolicy`"
   ]
  },
  {
   "cell_type": "code",
   "execution_count": null,
   "id": "f2538f2d",
   "metadata": {},
   "outputs": [],
   "source": []
  },
  {
   "cell_type": "code",
   "execution_count": null,
   "id": "bcf898ed",
   "metadata": {},
   "outputs": [],
   "source": []
  },
  {
   "cell_type": "code",
   "execution_count": null,
   "id": "01e8ed11",
   "metadata": {},
   "outputs": [],
   "source": []
  },
  {
   "cell_type": "markdown",
   "id": "06573f5f",
   "metadata": {},
   "source": [
    "#### Let's try serializing a `CustomOutputPolicy`"
   ]
  },
  {
   "cell_type": "code",
   "execution_count": 23,
   "id": "0078e6ff",
   "metadata": {},
   "outputs": [],
   "source": [
    "import syft as sy\n",
    "from syft.service.policy.policy import CustomPolicy\n",
    "from syft.service.policy.policy import CustomOutputPolicy"
   ]
  },
  {
   "cell_type": "markdown",
   "id": "f2bb652b",
   "metadata": {},
   "source": [
    "We can `serialize` and `deserialize` the `CustomPolicy`"
   ]
  },
  {
   "cell_type": "code",
   "execution_count": 39,
   "id": "cb69ad7c",
   "metadata": {},
   "outputs": [
    {
     "data": {
      "text/plain": [
       "True"
      ]
     },
     "execution_count": 39,
     "metadata": {},
     "output_type": "execute_result"
    }
   ],
   "source": [
    "byte = sy.serialize(CustomPolicy, to_bytes=True)\n",
    "back = sy.deserialize(byte, from_bytes=True)\n",
    "back == CustomPolicy"
   ]
  },
  {
   "cell_type": "code",
   "execution_count": 37,
   "id": "b85aeb0a",
   "metadata": {},
   "outputs": [
    {
     "data": {
      "text/plain": [
       "syft.service.policy.policy.CustomOutputPolicy"
      ]
     },
     "execution_count": 37,
     "metadata": {},
     "output_type": "execute_result"
    }
   ],
   "source": [
    "byte = sy.serialize(CustomOutputPolicy, to_bytes=True)\n",
    "back = sy.deserialize(byte, from_bytes=True)\n",
    "back"
   ]
  },
  {
   "cell_type": "code",
   "execution_count": 26,
   "id": "4cb9e827",
   "metadata": {},
   "outputs": [
    {
     "data": {
      "text/plain": [
       "syft.service.policy.policy.CustomPolicy"
      ]
     },
     "execution_count": 26,
     "metadata": {},
     "output_type": "execute_result"
    }
   ],
   "source": [
    "CustomPolicy"
   ]
  },
  {
   "cell_type": "code",
   "execution_count": null,
   "id": "f1153826",
   "metadata": {},
   "outputs": [],
   "source": []
  },
  {
   "cell_type": "code",
   "execution_count": null,
   "id": "7bde9163",
   "metadata": {},
   "outputs": [],
   "source": []
  },
  {
   "cell_type": "code",
   "execution_count": 24,
   "id": "5ca340e8",
   "metadata": {},
   "outputs": [
    {
     "data": {
      "text/plain": [
       "<__main__.RepeatedCallPolicy at 0x7f4f7a3811b0>"
      ]
     },
     "execution_count": 24,
     "metadata": {},
     "output_type": "execute_result"
    }
   ],
   "source": [
    "sy.deserialize(sy.serialize(policy, to_bytes=True), \n",
    "               from_bytes=True)"
   ]
  },
  {
   "cell_type": "code",
   "execution_count": 36,
   "id": "92eddd54",
   "metadata": {},
   "outputs": [
    {
     "data": {
      "text/plain": [
       "syft.service.policy.policy.CustomPolicy"
      ]
     },
     "execution_count": 36,
     "metadata": {},
     "output_type": "execute_result"
    }
   ],
   "source": [
    "RepeatedCallPolicy.__class__.__module__"
   ]
  },
  {
   "cell_type": "code",
   "execution_count": null,
   "id": "6ec08a9b",
   "metadata": {},
   "outputs": [],
   "source": []
  },
  {
   "cell_type": "code",
   "execution_count": null,
   "id": "204eb59e",
   "metadata": {},
   "outputs": [],
   "source": []
  },
  {
   "cell_type": "code",
   "execution_count": null,
   "id": "b25326d2",
   "metadata": {},
   "outputs": [],
   "source": []
  },
  {
   "cell_type": "code",
   "execution_count": 24,
   "id": "16293e1b",
   "metadata": {},
   "outputs": [
    {
     "name": "stdout",
     "output_type": "stream",
     "text": [
      "a\n",
      "b\n"
     ]
    },
    {
     "ename": "Exception",
     "evalue": "__main__.a not in TYPE_BANK",
     "output_type": "error",
     "traceback": [
      "\u001b[0;31m---------------------------------------------------------------------------\u001b[0m",
      "\u001b[0;31mException\u001b[0m                                 Traceback (most recent call last)",
      "Cell \u001b[0;32mIn[24], line 11\u001b[0m\n\u001b[1;32m      7\u001b[0m     \u001b[38;5;28mprint\u001b[39m(\u001b[38;5;124m'\u001b[39m\u001b[38;5;124mb\u001b[39m\u001b[38;5;124m'\u001b[39m)\n\u001b[1;32m      9\u001b[0m \u001b[38;5;66;03m# a == sy.deserialize(sy.serialize(a, to_bytes=True), \u001b[39;00m\n\u001b[1;32m     10\u001b[0m \u001b[38;5;66;03m#                from_bytes=True)\u001b[39;00m\n\u001b[0;32m---> 11\u001b[0m b \u001b[38;5;241m==\u001b[39m sy\u001b[38;5;241m.\u001b[39mdeserialize(\u001b[43msy\u001b[49m\u001b[38;5;241;43m.\u001b[39;49m\u001b[43mserialize\u001b[49m\u001b[43m(\u001b[49m\u001b[43mb\u001b[49m\u001b[43m,\u001b[49m\u001b[43m \u001b[49m\u001b[43mto_bytes\u001b[49m\u001b[38;5;241;43m=\u001b[39;49m\u001b[38;5;28;43;01mTrue\u001b[39;49;00m\u001b[43m)\u001b[49m, \n\u001b[1;32m     12\u001b[0m                from_bytes\u001b[38;5;241m=\u001b[39m\u001b[38;5;28;01mTrue\u001b[39;00m)\n",
      "File \u001b[0;32m~/Desktop/projects/PySyft/packages/syft/src/syft/serde/serialize.py:13\u001b[0m, in \u001b[0;36m_serialize\u001b[0;34m(obj, to_proto, to_bytes)\u001b[0m\n\u001b[1;32m      5\u001b[0m \u001b[38;5;28;01mdef\u001b[39;00m \u001b[38;5;21m_serialize\u001b[39m(\n\u001b[1;32m      6\u001b[0m     obj: \u001b[38;5;28mobject\u001b[39m,\n\u001b[1;32m      7\u001b[0m     to_proto: \u001b[38;5;28mbool\u001b[39m \u001b[38;5;241m=\u001b[39m \u001b[38;5;28;01mTrue\u001b[39;00m,\n\u001b[1;32m      8\u001b[0m     to_bytes: \u001b[38;5;28mbool\u001b[39m \u001b[38;5;241m=\u001b[39m \u001b[38;5;28;01mFalse\u001b[39;00m,\n\u001b[1;32m      9\u001b[0m ) \u001b[38;5;241m-\u001b[39m\u001b[38;5;241m>\u001b[39m Any:\n\u001b[1;32m     10\u001b[0m     \u001b[38;5;66;03m# relative\u001b[39;00m\n\u001b[1;32m     11\u001b[0m     \u001b[38;5;28;01mfrom\u001b[39;00m \u001b[38;5;21;01m.\u001b[39;00m\u001b[38;5;21;01mrecursive\u001b[39;00m \u001b[38;5;28;01mimport\u001b[39;00m rs_object2proto\n\u001b[0;32m---> 13\u001b[0m     proto \u001b[38;5;241m=\u001b[39m \u001b[43mrs_object2proto\u001b[49m\u001b[43m(\u001b[49m\u001b[43mobj\u001b[49m\u001b[43m)\u001b[49m\n\u001b[1;32m     15\u001b[0m     \u001b[38;5;28;01mif\u001b[39;00m to_bytes:\n\u001b[1;32m     16\u001b[0m         \u001b[38;5;28;01mreturn\u001b[39;00m proto\u001b[38;5;241m.\u001b[39mto_bytes()\n",
      "File \u001b[0;32m~/Desktop/projects/PySyft/packages/syft/src/syft/serde/recursive.py:132\u001b[0m, in \u001b[0;36mrs_object2proto\u001b[0;34m(self)\u001b[0m\n\u001b[1;32m    129\u001b[0m fqn \u001b[38;5;241m=\u001b[39m get_fully_qualified_name(\u001b[38;5;28mself\u001b[39m)\n\u001b[1;32m    130\u001b[0m \u001b[38;5;28;01mif\u001b[39;00m fqn \u001b[38;5;129;01mnot\u001b[39;00m \u001b[38;5;129;01min\u001b[39;00m TYPE_BANK:\n\u001b[1;32m    131\u001b[0m     \u001b[38;5;66;03m# third party\u001b[39;00m\n\u001b[0;32m--> 132\u001b[0m     \u001b[38;5;28;01mraise\u001b[39;00m \u001b[38;5;167;01mException\u001b[39;00m(\u001b[38;5;124mf\u001b[39m\u001b[38;5;124m\"\u001b[39m\u001b[38;5;132;01m{\u001b[39;00mfqn\u001b[38;5;132;01m}\u001b[39;00m\u001b[38;5;124m not in TYPE_BANK\u001b[39m\u001b[38;5;124m\"\u001b[39m)\n\u001b[1;32m    134\u001b[0m msg\u001b[38;5;241m.\u001b[39mfullyQualifiedName \u001b[38;5;241m=\u001b[39m fqn\n\u001b[1;32m    135\u001b[0m (\n\u001b[1;32m    136\u001b[0m     nonrecursive,\n\u001b[1;32m    137\u001b[0m     serialize,\n\u001b[0;32m   (...)\u001b[0m\n\u001b[1;32m    142\u001b[0m     \u001b[38;5;28mcls\u001b[39m,\n\u001b[1;32m    143\u001b[0m ) \u001b[38;5;241m=\u001b[39m TYPE_BANK[fqn]\n",
      "\u001b[0;31mException\u001b[0m: __main__.a not in TYPE_BANK"
     ]
    }
   ],
   "source": [
    "import syft as sy\n",
    "\n",
    "class a(type):\n",
    "    print('a')\n",
    "    \n",
    "class b(metaclass=a):\n",
    "    print('b')\n",
    "    \n",
    "# a == sy.deserialize(sy.serialize(a, to_bytes=True), \n",
    "#                from_bytes=True)\n",
    "b == sy.deserialize(sy.serialize(b, to_bytes=True), \n",
    "               from_bytes=True)"
   ]
  },
  {
   "cell_type": "code",
   "execution_count": null,
   "id": "22c5bd76",
   "metadata": {},
   "outputs": [],
   "source": []
  }
 ],
 "metadata": {
  "kernelspec": {
   "display_name": "Python 3 (ipykernel)",
   "language": "python",
   "name": "python3"
  },
  "language_info": {
   "codemirror_mode": {
    "name": "ipython",
    "version": 3
   },
   "file_extension": ".py",
   "mimetype": "text/x-python",
   "name": "python",
   "nbconvert_exporter": "python",
   "pygments_lexer": "ipython3",
   "version": "3.10.8"
  }
 },
 "nbformat": 4,
 "nbformat_minor": 5
}

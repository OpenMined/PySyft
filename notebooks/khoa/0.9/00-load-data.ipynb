{
 "cells": [
  {
   "cell_type": "code",
   "execution_count": 1,
   "metadata": {
    "tags": []
   },
   "outputs": [
    {
     "name": "stderr",
     "output_type": "stream",
     "text": [
      "kj/filesystem-disk-unix.c++:1703: warning: PWD environment variable doesn't match current directory; pwd = /home/dk/Desktop/projects/PySyft\n"
     ]
    },
    {
     "name": "stdout",
     "output_type": "stream",
     "text": [
      "✅ The installed version of syft==0.8.1b2 matches the requirement >=0.8 and the requirement <0.8.1\n"
     ]
    }
   ],
   "source": [
    "import syft as sy\n",
    "sy.requires(\">=0.8,<0.8.1\")\n",
    "from syft import autocache"
   ]
  },
  {
   "cell_type": "code",
   "execution_count": 2,
   "metadata": {
    "tags": []
   },
   "outputs": [
    {
     "name": "stdout",
     "output_type": "stream",
     "text": [
      "Starting test-domain-1 server on 0.0.0.0:8080\n",
      "\n",
      "WARNING: private key is based on node name: test-domain-1 in dev_mode. Don't run this in production.\n",
      "\n",
      "SQLite Store Path:\n",
      "!open file:///tmp/7bca415d13ed1ec841f0d0aede098dbb.sqlite\n"
     ]
    },
    {
     "name": "stderr",
     "output_type": "stream",
     "text": [
      "INFO:     Started server process [64330]\n",
      "INFO:     Waiting for application startup.\n",
      "INFO:     Application startup complete.\n",
      "INFO:     Uvicorn running on http://0.0.0.0:8080 (Press CTRL+C to quit)\n"
     ]
    },
    {
     "name": "stdout",
     "output_type": "stream",
     "text": [
      "INFO:     127.0.0.1:34170 - \"GET /api/v1/new/metadata HTTP/1.1\" 200 OK\n",
      "INFO:     127.0.0.1:34170 - \"POST /api/v1/new/login HTTP/1.1\" 200 OK\n",
      "INFO:     127.0.0.1:34170 - \"GET /api/v1/new/api?verify_key=aec6ea4dfc049ceacaeeebc493167a88a200ddc367b1fa32da652444b635d21f HTTP/1.1\" 200 OK\n",
      "INFO:     127.0.0.1:34172 - \"POST /api/v1/new/api_call HTTP/1.1\" 200 OK\n",
      "INFO:     127.0.0.1:34188 - \"POST /api/v1/new/api_call HTTP/1.1\" 200 OK\n",
      "INFO:     127.0.0.1:34198 - \"POST /api/v1/new/api_call HTTP/1.1\" 200 OK\n",
      "INFO:     127.0.0.1:34212 - \"POST /api/v1/new/api_call HTTP/1.1\" 200 OK\n",
      "INFO:     127.0.0.1:34222 - \"POST /api/v1/new/api_call HTTP/1.1\" 200 OK\n",
      "INFO:     127.0.0.1:34230 - \"POST /api/v1/new/api_call HTTP/1.1\" 200 OK\n",
      "INFO:     127.0.0.1:34246 - \"POST /api/v1/new/api_call HTTP/1.1\" 200 OK\n",
      "INFO:     127.0.0.1:34254 - \"POST /api/v1/new/api_call HTTP/1.1\" 200 OK\n",
      "INFO:     127.0.0.1:34270 - \"POST /api/v1/new/api_call HTTP/1.1\" 200 OK\n",
      "INFO:     127.0.0.1:34284 - \"POST /api/v1/new/api_call HTTP/1.1\" 200 OK\n",
      "INFO:     127.0.0.1:34294 - \"POST /api/v1/new/api_call HTTP/1.1\" 200 OK\n"
     ]
    },
    {
     "name": "stderr",
     "output_type": "stream",
     "text": [
      "INFO:     Shutting down\n",
      "INFO:     Waiting for application shutdown.\n",
      "INFO:     Application shutdown complete.\n",
      "INFO:     Finished server process [64330]\n"
     ]
    }
   ],
   "source": [
    "node = sy.orchestra.launch(name=\"test-domain-1\", port=8080, dev_mode=True, reset=True)"
   ]
  },
  {
   "cell_type": "code",
   "execution_count": 3,
   "metadata": {
    "tags": []
   },
   "outputs": [],
   "source": [
    "domain_client = node.login(email=\"info@openmined.org\", password=\"changethis\")"
   ]
  },
  {
   "cell_type": "code",
   "execution_count": 4,
   "metadata": {
    "tags": []
   },
   "outputs": [
    {
     "data": {
      "text/markdown": [
       "```python\n",
       "class SyftAPI:\n",
       "  id: str = 31c53d8b2bdb49799928e4d77bc9f457\n",
       "  connection: str = HTTPConnection: http://localhost:8080\n",
       "  node_uid: str = 7bca415d13ed1ec841f0d0aede098dbb\n",
       "  node_name: str = \"test-domain-1\"\n",
       "  endpoints: str = {'data_subject.add': APIEndpoint(service_path='data_subject.add', module_path='data_subject.add', name='add_data_subject', description='', doc_string='Register a data subject.', signature=<Signature (data_subject: syft.service.data_subject.data_subject.DataSubjectCreate) -> Union[syft.service.response.SyftSuccess, syft.service.response.SyftError]>, has_self=False, pre_kwargs=None), 'data_subject.get_all': APIEndpoint(service_path='data_subject.get_all', module_path='data_subject.get_all', name='get_all', description='', doc_string='Get all Data subjects', signature=<Signature () -> Union[List[syft.service.data_subject.data_subject.DataSubject], syft.service.response.SyftError]>, has_self=False, pre_kwargs=None), 'data_subject.get_members': APIEndpoint(service_path='data_subject.get_members', module_path='data_subject.get_members', name='members_for', description='', doc_string=None, signature=<Signature (data_subject_name: str) -> Union[List[syft.service.data_subject.data_subject.DataSubject], syft.service.response.SyftError]>, has_self=False, pre_kwargs=None), 'data_subject.get_by_name': APIEndpoint(service_path='data_subject.get_by_name', module_path='data_subject.get_by_name', name='get_by_name', description='', doc_string='Get a Data Subject by its name.', signature=<Signature (name: str) -> Union[syft.service.response.SyftSuccess, syft.service.response.SyftError]>, has_self=False, pre_kwargs=None), 'user.create': APIEndpoint(service_path='user.create', module_path='user.create', name='create', description='', doc_string='Create a new user', signature=<Signature (user_create: syft.service.user.user.UserCreate) -> Union[syft.service.user.user.UserView, syft.service.response.SyftError]>, has_self=False, pre_kwargs=None), 'user.view': APIEndpoint(service_path='user.view', module_path='user.view', name='view', description='', doc_string='Get user for given uid', signature=<Signature (uid: syft.types.uid.UID) -> Union[syft.service.user.user.UserView, None, syft.service.response.SyftError]>, has_self=False, pre_kwargs=None), 'user.get_all': APIEndpoint(service_path='user.get_all', module_path='user.get_all', name='get_all', description='', doc_string=None, signature=<Signature () -> Union[syft.service.user.user.UserView, None, syft.service.response.SyftError]>, has_self=False, pre_kwargs=None), 'user.search': APIEndpoint(service_path='user.search', module_path='user.search', name='search', description='', doc_string=None, signature=<Signature (args: Any, id: syft.types.uid.UID, email: pydantic.networks.EmailStr, verify_key: syft.node.credentials.SyftVerifyKey, name: str) -> Union[List[syft.service.user.user.UserView], syft.service.response.SyftError]>, has_self=False, pre_kwargs=None), 'user.update': APIEndpoint(service_path='user.update', module_path='user.update', name='update', description='', doc_string=None, signature=<Signature (uid: syft.types.uid.UID, user_update: syft.service.user.user.UserUpdate) -> Union[syft.service.user.user.UserView, syft.service.response.SyftError]>, has_self=False, pre_kwargs=None), 'user.delete': APIEndpoint(service_path='user.delete', module_path='user.delete', name='delete', description='', doc_string=None, signature=<Signature (uid: syft.types.uid.UID) -> Union[bool, syft.service.response.SyftError]>, has_self=False, pre_kwargs=None), 'network.exchange_credentials_with': APIEndpoint(service_path='network.exchange_credentials_with', module_path='network.exchange_credentials_with', name='exchange_credentials_with', description='', doc_string='Exchange Credentials With Another Node', signature=<Signature (peer: Optional[syft.service.network.network_service.NodePeer, None] = None, client: Optional[syft.client.client.SyftClient, None] = None) -> Union[syft.service.response.SyftSuccess, syft.service.response.SyftError]>, has_self=False, pre_kwargs=None), 'network.add_peer': APIEndpoint(service_path='network.add_peer', module_path='network.add_peer', name='add_peer', description='', doc_string='Add a Network Node Peer', signature=<Signature (peer: syft.service.network.network_service.NodePeer) -> Union[syft.service.metadata.node_metadata.NodeMetadata, syft.service.response.SyftError]>, has_self=False, pre_kwargs=None), 'network.add_route_for': APIEndpoint(service_path='network.add_route_for', module_path='network.add_route_for', name='add_route_for', description='', doc_string='Add Route for this Node to another Node', signature=<Signature (route: syft.service.network.network_service.NodeRoute, peer: Optional[syft.service.network.network_service.NodePeer, None] = None, client: Optional[syft.client.client.SyftClient, None] = None) -> Union[syft.service.response.SyftSuccess, syft.service.response.SyftError]>, has_self=False, pre_kwargs=None), 'network.verify_route': APIEndpoint(service_path='network.verify_route', module_path='network.verify_route', name='verify_route', description='', doc_string='Add a Network Node Route', signature=<Signature (route: syft.service.network.network_service.NodeRoute) -> Union[syft.service.response.SyftSuccess, syft.service.response.SyftError]>, has_self=False, pre_kwargs=None), 'network.get_all_peers': APIEndpoint(service_path='network.get_all_peers', module_path='network.get_all_peers', name='get_all_peers', description='', doc_string='Get all Peers', signature=<Signature () -> Union[List[syft.service.network.network_service.NodePeer], syft.service.response.SyftError]>, has_self=False, pre_kwargs=None), 'network.join_vpn': APIEndpoint(service_path='network.join_vpn', module_path='network.join_vpn', name='join_vpn', description='', doc_string='Join a VPN Service', signature=<Signature (peer: Optional[syft.service.network.network_service.NodePeer, None] = None, client: Optional[syft.client.client.SyftClient, None] = None) -> Union[syft.service.response.SyftSuccess, syft.service.response.SyftError]>, has_self=False, pre_kwargs=None), 'network.vpn_status': APIEndpoint(service_path='network.vpn_status', module_path='network.vpn_status', name='vpn_status', description='', doc_string='Join a VPN Service', signature=<Signature () -> Union[syft.service.vpn.tailscale_client.TailscaleStatus, syft.service.response.SyftError]>, has_self=False, pre_kwargs=None), 'network.register_to_vpn': APIEndpoint(service_path='network.register_to_vpn', module_path='network.register_to_vpn', name='register_to_vpn', description='', doc_string='Register node to the VPN.', signature=<Signature () -> Union[syft.service.vpn.headscale_client.HeadscaleAuthToken, syft.service.response.SyftError]>, has_self=False, pre_kwargs=None), 'policy.get_all': APIEndpoint(service_path='policy.get_all', module_path='policy.get_all', name='get_all', description='', doc_string=None, signature=<Signature () -> Union[List[syft.service.policy.policy.UserPolicy], syft.service.response.SyftError]>, has_self=False, pre_kwargs=None), 'policy.add': APIEndpoint(service_path='policy.add', module_path='policy.add', name='add', description='', doc_string=None, signature=<Signature (policy_code: Union[syft.service.policy.policy.SubmitUserPolicy, syft.service.policy.policy.UserPolicy]) -> Union[syft.service.response.SyftSuccess, syft.service.response.SyftError]>, has_self=False, pre_kwargs=None), 'policy.get_by_uid': APIEndpoint(service_path='policy.get_by_uid', module_path='policy.get_by_uid', name='get_by_uid', description='', doc_string=None, signature=<Signature (uid: syft.types.uid.UID) -> Union[syft.service.response.SyftSuccess, syft.service.response.SyftError]>, has_self=False, pre_kwargs=None), 'action.np_array': APIEndpoint(service_path='action.np_array', module_path='action.np_array', name='np_array', description='', doc_string=None, signature=<Signature (data: Any) -> Any>, has_self=False, pre_kwargs=None), 'action.set': APIEndpoint(service_path='action.set', module_path='action.set', name='set', description='', doc_string='Save an object to the action store', signature=<Signature (action_object: Union[syft.service.action.action_object.ActionObject, syft.types.twin_object.TwinObject]) -> Union[result.result.Ok[syft.service.action.action_object.ActionObject], result.result.Err[str]]>, has_self=False, pre_kwargs=None), 'action.save': APIEndpoint(service_path='action.save', module_path='action.save', name='save', description='', doc_string='Save an object to the action store', signature=<Signature (action_object: Union[syft.service.action.action_object.ActionObject, syft.types.twin_object.TwinObject]) -> Union[result.result.Ok[syft.service.response.SyftSuccess], result.result.Err[str]]>, has_self=False, pre_kwargs=None), 'action.get': APIEndpoint(service_path='action.get', module_path='action.get', name='get', description='', doc_string='Get an object from the action store', signature=<Signature (uid: syft.types.uid.UID, twin_mode: syft.service.action.action_object.TwinMode = <TwinMode.PRIVATE: 1>) -> Union[result.result.Ok[result.result.Ok[syft.service.action.action_object.ActionObject]], result.result.Err[result.result.Err[str]]]>, has_self=False, pre_kwargs=None), 'action.get_pointer': APIEndpoint(service_path='action.get_pointer', module_path='action.get_pointer', name='get_pointer', description='', doc_string='Get a pointer from the action store', signature=<Signature (uid: syft.types.uid.UID) -> Union[result.result.Ok[syft.service.action.action_object.ActionObjectPointer], result.result.Err[str]]>, has_self=False, pre_kwargs=None), 'action.execute': APIEndpoint(service_path='action.execute', module_path='action.execute', name='execute', description='', doc_string='Execute an operation on objects in the action store', signature=<Signature (action: syft.service.action.action_object.Action) -> Union[result.result.Ok[syft.service.action.action_object.ActionObject], result.result.Err[result.result.Err]]>, has_self=False, pre_kwargs=None), 'action.exists': APIEndpoint(service_path='action.exists', module_path='action.exists', name='exists', description='', doc_string='Checks if the given object id exists in the Action Store', signature=<Signature (obj_id: syft.types.uid.UID) -> Union[result.result.Ok[syft.service.response.SyftSuccess], result.result.Err[syft.service.response.SyftError]]>, has_self=False, pre_kwargs=None), 'messages.send': APIEndpoint(service_path='messages.send', module_path='messages.send', name='send', description='', doc_string='Send a new message', signature=<Signature (message: syft.service.message.messages.CreateMessage) -> Union[syft.service.message.messages.Message, syft.service.response.SyftError]>, has_self=False, pre_kwargs=None), 'messages.get_all': APIEndpoint(service_path='messages.get_all', module_path='messages.get_all', name='get_all', description='', doc_string=None, signature=<Signature () -> Union[List[syft.service.message.messages.Message], syft.service.response.SyftError]>, has_self=False, pre_kwargs=None), 'messages.get_all_sent': APIEndpoint(service_path='messages.get_all_sent', module_path='messages.get_all_sent', name='outbox', description='', doc_string=None, signature=<Signature () -> Union[List[syft.service.message.messages.Message], syft.service.response.SyftError]>, has_self=False, pre_kwargs=None), 'messages.get_all_for_status': APIEndpoint(service_path='messages.get_all_for_status', module_path='messages.get_all_for_status', name='get_all_for_status', description='', doc_string=None, signature=<Signature (status: syft.service.message.messages.MessageStatus) -> Union[List[syft.service.message.messages.Message], syft.service.response.SyftError]>, has_self=False, pre_kwargs=None), 'messages.mark_as_delivered': APIEndpoint(service_path='messages.mark_as_delivered', module_path='messages.mark_as_delivered', name='mark_as_delivered', description='', doc_string=None, signature=<Signature (uid: syft.types.uid.UID) -> Union[syft.service.message.messages.Message, syft.service.response.SyftError]>, has_self=False, pre_kwargs=None), 'messages.resolve_object': APIEndpoint(service_path='messages.resolve_object', module_path='messages.resolve_object', name='resolve_object', description='', doc_string=None, signature=<Signature (linked_obj: syft.store.linked_obj.LinkedObject) -> Union[syft.service.message.messages.Message, syft.service.response.SyftError]>, has_self=False, pre_kwargs=None), 'messages.clear': APIEndpoint(service_path='messages.clear', module_path='messages.clear', name='clear', description='', doc_string=None, signature=<Signature () -> Union[syft.service.response.SyftError, syft.service.response.SyftSuccess]>, has_self=False, pre_kwargs=None), 'request.submit': APIEndpoint(service_path='request.submit', module_path='request.submit', name='submit', description='', doc_string='Submit a Request', signature=<Signature (request: syft.service.request.request.SubmitRequest, send_message: bool = True) -> Union[syft.service.request.request.Request, syft.service.response.SyftError]>, has_self=False, pre_kwargs=None), 'request.get_all': APIEndpoint(service_path='request.get_all', module_path='request.get_all', name='get_all', description='', doc_string=None, signature=<Signature () -> Union[List[syft.service.request.request.Request], syft.service.response.SyftError]>, has_self=False, pre_kwargs=None), 'request.get_all_for_status': APIEndpoint(service_path='request.get_all_for_status', module_path='request.get_all_for_status', name='get_all_for_status', description='', doc_string=None, signature=<Signature (status: syft.service.request.request.RequestStatus) -> Union[List[syft.service.request.request.Request], syft.service.response.SyftError]>, has_self=False, pre_kwargs=None), 'request.apply': APIEndpoint(service_path='request.apply', module_path='request.apply', name='apply', description='', doc_string=None, signature=<Signature (uid: syft.types.uid.UID) -> Union[syft.service.response.SyftSuccess, syft.service.response.SyftError]>, has_self=False, pre_kwargs=None), 'request.revert': APIEndpoint(service_path='request.revert', module_path='request.revert', name='revert', description='', doc_string=None, signature=<Signature (uid: syft.types.uid.UID) -> Union[syft.service.response.SyftSuccess, syft.service.response.SyftError]>, has_self=False, pre_kwargs=None), 'code.submit': APIEndpoint(service_path='code.submit', module_path='code.submit', name='submit', description='', doc_string='Add User Code', signature=<Signature (code: syft.service.code.user_code.SubmitUserCode) -> Union[syft.service.code.user_code.UserCode, syft.service.response.SyftError]>, has_self=False, pre_kwargs=None), 'code.request_code_execution': APIEndpoint(service_path='code.request_code_execution', module_path='code.request_code_execution', name='request_code_execution', description='', doc_string='Request Code execution on user code', signature=<Signature (code: syft.service.code.user_code.SubmitUserCode) -> Union[syft.service.response.SyftSuccess, syft.service.response.SyftError]>, has_self=False, pre_kwargs=None), 'code.get_all': APIEndpoint(service_path='code.get_all', module_path='code.get_all', name='get_all', description='', doc_string='Get a Dataset', signature=<Signature () -> Union[List[syft.service.code.user_code.UserCode], syft.service.response.SyftError]>, has_self=False, pre_kwargs=None), 'code.get_by_id': APIEndpoint(service_path='code.get_by_id', module_path='code.get_by_id', name='get_by_id', description='', doc_string='Get a User Code Item', signature=<Signature (uid: syft.types.uid.UID) -> Union[syft.service.response.SyftSuccess, syft.service.response.SyftError]>, has_self=False, pre_kwargs=None), 'code.get_all_for_user': APIEndpoint(service_path='code.get_all_for_user', module_path='code.get_all_for_user', name='get_all_for_user', description='', doc_string=\"Get All User Code Items for User's VerifyKey\", signature=<Signature () -> Union[syft.service.response.SyftSuccess, syft.service.response.SyftError]>, has_self=False, pre_kwargs=None), 'code.call': APIEndpoint(service_path='code.call', module_path='code.call', name='call', description='', doc_string='Call a User Code Function', signature=<Signature (uid: syft.types.uid.UID, **kwargs: Any) -> Union[syft.service.response.SyftSuccess, syft.service.response.SyftError]>, has_self=False, pre_kwargs=None), 'dataset.add': APIEndpoint(service_path='dataset.add', module_path='dataset.add', name='add', description='', doc_string='Add a Dataset', signature=<Signature (dataset: syft.service.dataset.dataset.CreateDataset) -> Union[syft.service.response.SyftSuccess, syft.service.response.SyftError]>, has_self=False, pre_kwargs=None), 'dataset.get_all': APIEndpoint(service_path='dataset.get_all', module_path='dataset.get_all', name='get_all', description='', doc_string='Get a Dataset', signature=<Signature () -> Union[List[syft.service.dataset.dataset.Dataset], syft.service.response.SyftError]>, has_self=False, pre_kwargs=None), 'dataset.search': APIEndpoint(service_path='dataset.search', module_path='dataset.search', name='search', description='', doc_string='Search a Dataset by name', signature=<Signature (name: str) -> Union[List[syft.service.dataset.dataset.Dataset], syft.service.response.SyftError]>, has_self=False, pre_kwargs=None), 'dataset.get_by_id': APIEndpoint(service_path='dataset.get_by_id', module_path='dataset.get_by_id', name='get_by_id', description='', doc_string='Get a Dataset', signature=<Signature (uid: syft.types.uid.UID) -> Union[syft.service.response.SyftSuccess, syft.service.response.SyftError]>, has_self=False, pre_kwargs=None), 'dataset.get_by_action_id': APIEndpoint(service_path='dataset.get_by_action_id', module_path='dataset.get_by_action_id', name='get_by_action_id', description='', doc_string='Get Datasets by an Action ID', signature=<Signature (uid: syft.types.uid.UID) -> Union[List[syft.service.dataset.dataset.Dataset], syft.service.response.SyftError]>, has_self=False, pre_kwargs=None), 'dataset.get_assets_by_action_id': APIEndpoint(service_path='dataset.get_assets_by_action_id', module_path='dataset.get_assets_by_action_id', name='get_assets_by_action_id', description='', doc_string='Get Assets by an Action ID', signature=<Signature (uid: syft.types.uid.UID) -> Union[List[syft.service.dataset.dataset.Asset], syft.service.response.SyftError]>, has_self=False, pre_kwargs=None), 'dataset.delete_by_id': APIEndpoint(service_path='dataset.delete_by_id', module_path='dataset.delete_by_id', name='dataset_delete_by_id', description='', doc_string=None, signature=<Signature (uid: syft.types.uid.UID)>, has_self=False, pre_kwargs=None), 'metadata.get': APIEndpoint(service_path='metadata.get', module_path='metadata.get', name='get', description='', doc_string='Get Metadata', signature=<Signature () -> Union[result.result.Ok[result.result.Ok], result.result.Err[result.result.Err]]>, has_self=False, pre_kwargs=None), 'metadata.set': APIEndpoint(service_path='metadata.set', module_path='metadata.set', name='set', description='', doc_string='Set a new the Node Metadata', signature=<Signature (metadata: syft.service.metadata.node_metadata.NodeMetadata) -> Union[result.result.Ok[result.result.Ok], result.result.Err[result.result.Err]]>, has_self=False, pre_kwargs=None), 'metadata.update': APIEndpoint(service_path='metadata.update', module_path='metadata.update', name='update', description='', doc_string=None, signature=<Signature (metadata: syft.service.metadata.node_metadata.NodeMetadataUpdate) -> Union[result.result.Ok[result.result.Ok], result.result.Err[result.result.Err]]>, has_self=False, pre_kwargs=None), 'project.submit': APIEndpoint(service_path='project.submit', module_path='project.submit', name='submit', description='', doc_string='Submit a Project', signature=<Signature (project: syft.service.project.project.ProjectSubmit) -> Union[syft.service.response.SyftSuccess, syft.service.response.SyftError]>, has_self=False, pre_kwargs=None), 'project.get_all': APIEndpoint(service_path='project.get_all', module_path='project.get_all', name='get_all', description='', doc_string=None, signature=<Signature () -> Union[List[syft.service.project.project.Project], syft.service.response.SyftError]>, has_self=False, pre_kwargs=None), 'newproject.create_project': APIEndpoint(service_path='newproject.create_project', module_path='newproject.create_project', name='create_project', description='', doc_string='Start a Project', signature=<Signature (project: syft.service.project.project.NewProjectSubmit, project_id: syft.types.uid.UID) -> Union[syft.service.response.SyftSuccess, syft.service.response.SyftError]>, has_self=False, pre_kwargs=None), 'newproject.add_event': APIEndpoint(service_path='newproject.add_event', module_path='newproject.add_event', name='add_event', description='', doc_string='To add events to a projects', signature=<Signature (project_event: syft.service.project.project.ProjectEvent) -> Union[syft.service.response.SyftSuccess, syft.service.response.SyftError]>, has_self=False, pre_kwargs=None), 'newproject.broadcast_event': APIEndpoint(service_path='newproject.broadcast_event', module_path='newproject.broadcast_event', name='broadcast_event', description='', doc_string='To add events to a projects', signature=<Signature (project_event: syft.service.project.project.ProjectEvent) -> Union[syft.service.response.SyftSuccess, syft.service.response.SyftError]>, has_self=False, pre_kwargs=None), 'newproject.get_all': APIEndpoint(service_path='newproject.get_all', module_path='newproject.get_all', name='get_all', description='', doc_string=None, signature=<Signature () -> Union[List[syft.service.project.project.NewProject], syft.service.response.SyftError]>, has_self=False, pre_kwargs=None)}\n",
       "  lib_endpoints: str = {'numpy.concatenate': LibEndpoint(service_path='action.execute', module_path='numpy.concatenate', name='concatenate', description='', doc_string='None', signature=<Signature (a1, a2, *args, axis=0, out=None, dtype=None, casting='same_kind')>, has_self=False, pre_kwargs=None), 'numpy.set_numeric_ops': LibEndpoint(service_path='action.execute', module_path='numpy.set_numeric_ops', name='set_numeric_ops', description='', doc_string='None', signature=<Signature (op1, op2, *args)>, has_self=False, pre_kwargs=None), 'numpy.ModuleDeprecationWarning': LibEndpoint(service_path='action.execute', module_path='numpy.ModuleDeprecationWarning', name='ModuleDeprecationWarning', description='', doc_string='None', signature=<Signature (self, /, *args, **kwargs)>, has_self=False, pre_kwargs=None), 'numpy.VisibleDeprecationWarning': LibEndpoint(service_path='action.execute', module_path='numpy.VisibleDeprecationWarning', name='VisibleDeprecationWarning', description='', doc_string='None', signature=<Signature (self, /, *args, **kwargs)>, has_self=False, pre_kwargs=None), 'numpy._CopyMode': LibEndpoint(service_path='action.execute', module_path='numpy._CopyMode', name='_CopyMode', description='', doc_string='None', signature=<Signature (value, names=None, *, module=None, qualname=None, type=None, start=1)>, has_self=False, pre_kwargs=None), 'numpy.core._ufunc_reconstruct': LibEndpoint(service_path='action.execute', module_path='numpy.core._ufunc_reconstruct', name='_ufunc_reconstruct', description='', doc_string='None', signature=<Signature (module, name)>, has_self=False, pre_kwargs=None), 'numpy.core._DType_reconstruct': LibEndpoint(service_path='action.execute', module_path='numpy.core._DType_reconstruct', name='_DType_reconstruct', description='', doc_string='None', signature=<Signature (scalar_type)>, has_self=False, pre_kwargs=None), 'numpy.core.__getattr__': LibEndpoint(service_path='action.execute', module_path='numpy.core.__getattr__', name='__getattr__', description='', doc_string='None', signature=<Signature (name)>, has_self=False, pre_kwargs=None), 'numpy.char._use_unicode': LibEndpoint(service_path='action.execute', module_path='numpy.char._use_unicode', name='_use_unicode', description='', doc_string='None', signature=<Signature (*args)>, has_self=False, pre_kwargs=None), 'numpy.char._to_string_or_unicode_array': LibEndpoint(service_path='action.execute', module_path='numpy.char._to_string_or_unicode_array', name='_to_string_or_unicode_array', description='', doc_string='None', signature=<Signature (result)>, has_self=False, pre_kwargs=None), 'numpy.char._clean_args': LibEndpoint(service_path='action.execute', module_path='numpy.char._clean_args', name='_clean_args', description='', doc_string='None', signature=<Signature (*args)>, has_self=False, pre_kwargs=None), 'numpy.char._get_num_chars': LibEndpoint(service_path='action.execute', module_path='numpy.char._get_num_chars', name='_get_num_chars', description='', doc_string='None', signature=<Signature (a)>, has_self=False, pre_kwargs=None), 'numpy.char._binary_op_dispatcher': LibEndpoint(service_path='action.execute', module_path='numpy.char._binary_op_dispatcher', name='_binary_op_dispatcher', description='', doc_string='None', signature=<Signature (x1, x2)>, has_self=False, pre_kwargs=None), 'numpy.char._unary_op_dispatcher': LibEndpoint(service_path='action.execute', module_path='numpy.char._unary_op_dispatcher', name='_unary_op_dispatcher', description='', doc_string='None', signature=<Signature (a)>, has_self=False, pre_kwargs=None), 'numpy.char._multiply_dispatcher': LibEndpoint(service_path='action.execute', module_path='numpy.char._multiply_dispatcher', name='_multiply_dispatcher', description='', doc_string='None', signature=<Signature (a, i)>, has_self=False, pre_kwargs=None), 'numpy.char._mod_dispatcher': LibEndpoint(service_path='action.execute', module_path='numpy.char._mod_dispatcher', name='_mod_dispatcher', description='', doc_string='None', signature=<Signature (a, values)>, has_self=False, pre_kwargs=None), 'numpy.char._center_dispatcher': LibEndpoint(service_path='action.execute', module_path='numpy.char._center_dispatcher', name='_center_dispatcher', description='', doc_string='None', signature=<Signature (a, width, fillchar=None)>, has_self=False, pre_kwargs=None), 'numpy.char._count_dispatcher': LibEndpoint(service_path='action.execute', module_path='numpy.char._count_dispatcher', name='_count_dispatcher', description='', doc_string='None', signature=<Signature (a, sub, start=None, end=None)>, has_self=False, pre_kwargs=None), 'numpy.char._code_dispatcher': LibEndpoint(service_path='action.execute', module_path='numpy.char._code_dispatcher', name='_code_dispatcher', description='', doc_string='None', signature=<Signature (a, encoding=None, errors=None)>, has_self=False, pre_kwargs=None), 'numpy.char._endswith_dispatcher': LibEndpoint(service_path='action.execute', module_path='numpy.char._endswith_dispatcher', name='_endswith_dispatcher', description='', doc_string='None', signature=<Signature (a, suffix, start=None, end=None)>, has_self=False, pre_kwargs=None), 'numpy.char._expandtabs_dispatcher': LibEndpoint(service_path='action.execute', module_path='numpy.char._expandtabs_dispatcher', name='_expandtabs_dispatcher', description='', doc_string='None', signature=<Signature (a, tabsize=None)>, has_self=False, pre_kwargs=None), 'numpy.char._join_dispatcher': LibEndpoint(service_path='action.execute', module_path='numpy.char._join_dispatcher', name='_join_dispatcher', description='', doc_string='None', signature=<Signature (sep, seq)>, has_self=False, pre_kwargs=None), 'numpy.char._just_dispatcher': LibEndpoint(service_path='action.execute', module_path='numpy.char._just_dispatcher', name='_just_dispatcher', description='', doc_string='None', signature=<Signature (a, width, fillchar=None)>, has_self=False, pre_kwargs=None), 'numpy.char._strip_dispatcher': LibEndpoint(service_path='action.execute', module_path='numpy.char._strip_dispatcher', name='_strip_dispatcher', description='', doc_string='None', signature=<Signature (a, chars=None)>, has_self=False, pre_kwargs=None), 'numpy.char._partition_dispatcher': LibEndpoint(service_path='action.execute', module_path='numpy.char._partition_dispatcher', name='_partition_dispatcher', description='', doc_string='None', signature=<Signature (a, sep)>, has_self=False, pre_kwargs=None), 'numpy.char._replace_dispatcher': LibEndpoint(service_path='action.execute', module_path='numpy.char._replace_dispatcher', name='_replace_dispatcher', description='', doc_string='None', signature=<Signature (a, old, new, count=None)>, has_self=False, pre_kwargs=None), 'numpy.char._split_dispatcher': LibEndpoint(service_path='action.execute', module_path='numpy.char._split_dispatcher', name='_split_dispatcher', description='', doc_string='None', signature=<Signature (a, sep=None, maxsplit=None)>, has_self=False, pre_kwargs=None), 'numpy.char._splitlines_dispatcher': LibEndpoint(service_path='action.execute', module_path='numpy.char._splitlines_dispatcher', name='_splitlines_dispatcher', description='', doc_string='None', signature=<Signature (a, keepends=None)>, has_self=False, pre_kwargs=None), 'numpy.char._startswith_dispatcher': LibEndpoint(service_path='action.execute', module_path='numpy.char._startswith_dispatcher', name='_startswith_dispatcher', description='', doc_string='None', signature=<Signature (a, prefix, start=None, end=None)>, has_self=False, pre_kwargs=None), 'numpy.char._translate_dispatcher': LibEndpoint(service_path='action.execute', module_path='numpy.char._translate_dispatcher', name='_translate_dispatcher', description='', doc_string='None', signature=<Signature (a, table, deletechars=None)>, has_self=False, pre_kwargs=None), 'numpy.char._zfill_dispatcher': LibEndpoint(service_path='action.execute', module_path='numpy.char._zfill_dispatcher', name='_zfill_dispatcher', description='', doc_string='None', signature=<Signature (a, width)>, has_self=False, pre_kwargs=None), 'numpy.rec.find_duplicate': LibEndpoint(service_path='action.execute', module_path='numpy.rec.find_duplicate', name='find_duplicate', description='', doc_string='None', signature=<Signature (list)>, has_self=False, pre_kwargs=None), 'numpy.rec._deprecate_shape_0_as_None': LibEndpoint(service_path='action.execute', module_path='numpy.rec._deprecate_shape_0_as_None', name='_deprecate_shape_0_as_None', description='', doc_string='None', signature=<Signature (shape)>, has_self=False, pre_kwargs=None), 'numpy.rec.get_remaining_size': LibEndpoint(service_path='action.execute', module_path='numpy.rec.get_remaining_size', name='get_remaining_size', description='', doc_string='None', signature=<Signature (fd)>, has_self=False, pre_kwargs=None), 'numpy.memmap': LibEndpoint(service_path='action.execute', module_path='numpy.memmap', name='memmap', description='', doc_string='None', signature=<Signature (filename, dtype=<class 'numpy.uint8'>, mode='r+', offset=0, shape=None, order='C')>, has_self=False, pre_kwargs=None), 'numpy.ndarray': LibEndpoint(service_path='action.execute', module_path='numpy.ndarray', name='ndarray', description='', doc_string='None', signature=<Signature (shape, dtype=None, buffer=None, offset=0, strides=None, order=None)>, has_self=False, pre_kwargs=None), 'numpy.flatiter': LibEndpoint(service_path='action.execute', module_path='numpy.flatiter', name='flatiter', description='', doc_string='None', signature=<Signature ()>, has_self=False, pre_kwargs=None), 'numpy.nditer': LibEndpoint(service_path='action.execute', module_path='numpy.nditer', name='nditer', description='', doc_string='None', signature=<Signature (op, flags=None, op_flags=None, op_dtypes=None, order='K', casting='safe', op_axes=None, itershape=None, buffersize=0)>, has_self=False, pre_kwargs=None), 'numpy.nested_iters': LibEndpoint(service_path='action.execute', module_path='numpy.nested_iters', name='nested_iters', description='', doc_string='None', signature=<Signature (op, axes, flags=None, op_flags=None, op_dtypes=None, order='K', casting='safe', buffersize=0)>, has_self=False, pre_kwargs=None), 'numpy.ufunc': LibEndpoint(service_path='action.execute', module_path='numpy.ufunc', name='ufunc', description='', doc_string='None', signature=<Signature ()>, has_self=False, pre_kwargs=None), 'numpy.arange': LibEndpoint(service_path='action.execute', module_path='numpy.arange', name='arange', description='', doc_string='None', signature=<Signature (start, stop, step, dtype=None, like=None)>, has_self=False, pre_kwargs=None), 'numpy.array': LibEndpoint(service_path='action.execute', module_path='numpy.array', name='array', description='', doc_string='None', signature=<Signature (object, dtype=None, copy=True, order='K', subok=False, ndmin=0, like=None)>, has_self=False, pre_kwargs=None), 'numpy.asarray': LibEndpoint(service_path='action.execute', module_path='numpy.asarray', name='asarray', description='', doc_string='None', signature=<Signature (a, dtype=None, order=None, like=None)>, has_self=False, pre_kwargs=None), 'numpy.asanyarray': LibEndpoint(service_path='action.execute', module_path='numpy.asanyarray', name='asanyarray', description='', doc_string='None', signature=<Signature (a, dtype=None, order=None, like=None)>, has_self=False, pre_kwargs=None), 'numpy.ascontiguousarray': LibEndpoint(service_path='action.execute', module_path='numpy.ascontiguousarray', name='ascontiguousarray', description='', doc_string='None', signature=<Signature (a, dtype=None, like=None)>, has_self=False, pre_kwargs=None), 'numpy.asfortranarray': LibEndpoint(service_path='action.execute', module_path='numpy.asfortranarray', name='asfortranarray', description='', doc_string='None', signature=<Signature (a, dtype=None, like=None)>, has_self=False, pre_kwargs=None), 'numpy.zeros': LibEndpoint(service_path='action.execute', module_path='numpy.zeros', name='zeros', description='', doc_string='None', signature=<Signature (shape, dtype=None, order='C', like=None)>, has_self=False, pre_kwargs=None), 'numpy.count_nonzero': LibEndpoint(service_path='action.execute', module_path='numpy.count_nonzero', name='count_nonzero', description='', doc_string='None', signature=<Signature (a, axis=None, *, keepdims=False)>, has_self=False, pre_kwargs=None), 'numpy.empty': LibEndpoint(service_path='action.execute', module_path='numpy.empty', name='empty', description='', doc_string='None', signature=<Signature (shape, dtype=None, order='C', like=None)>, has_self=False, pre_kwargs=None), 'numpy.broadcast': LibEndpoint(service_path='action.execute', module_path='numpy.broadcast', name='broadcast', description='', doc_string='None', signature=<Signature (self, /, *args, **kwargs)>, has_self=False, pre_kwargs=None), 'numpy.dtype': LibEndpoint(service_path='action.execute', module_path='numpy.dtype', name='dtype', description='', doc_string='None', signature=<Signature (dtype, align=False, copy=False)>, has_self=False, pre_kwargs=None), 'numpy.frombuffer': LibEndpoint(service_path='action.execute', module_path='numpy.frombuffer', name='frombuffer', description='', doc_string='None', signature=<Signature (buffer, dtype=None, count=-1, offset=0, like=None)>, has_self=False, pre_kwargs=None), 'numpy.from_dlpack': LibEndpoint(service_path='action.execute', module_path='numpy.from_dlpack', name='from_dlpack', description='', doc_string='None', signature=<Signature (x)>, has_self=False, pre_kwargs=None), 'numpy.where': LibEndpoint(service_path='action.execute', module_path='numpy.where', name='where', description='', doc_string='None', signature=<Signature (condition, x, /, y)>, has_self=False, pre_kwargs=None), 'numpy.argwhere': LibEndpoint(service_path='action.execute', module_path='numpy.argwhere', name='argwhere', description='', doc_string='None', signature=<Signature (a)>, has_self=False, pre_kwargs=None), 'numpy.copyto': LibEndpoint(service_path='action.execute', module_path='numpy.copyto', name='copyto', description='', doc_string='None', signature=<Signature (dst, src, casting='same_kind', where=True)>, has_self=False, pre_kwargs=None), 'numpy.lexsort': LibEndpoint(service_path='action.execute', module_path='numpy.lexsort', name='lexsort', description='', doc_string='None', signature=<Signature (keys, axis=-1)>, has_self=False, pre_kwargs=None), 'numpy.can_cast': LibEndpoint(service_path='action.execute', module_path='numpy.can_cast', name='can_cast', description='', doc_string='None', signature=<Signature (from_, to, casting='safe')>, has_self=False, pre_kwargs=None), 'numpy.promote_types': LibEndpoint(service_path='action.execute', module_path='numpy.promote_types', name='promote_types', description='', doc_string='None', signature=<Signature (type1, type2)>, has_self=False, pre_kwargs=None), 'numpy.min_scalar_type': LibEndpoint(service_path='action.execute', module_path='numpy.min_scalar_type', name='min_scalar_type', description='', doc_string='None', signature=<Signature (a)>, has_self=False, pre_kwargs=None), 'numpy.result_type': LibEndpoint(service_path='action.execute', module_path='numpy.result_type', name='result_type', description='', doc_string='None', signature=<Signature (*arrays_and_dtypes)>, has_self=False, pre_kwargs=None), 'numpy.isfortran': LibEndpoint(service_path='action.execute', module_path='numpy.isfortran', name='isfortran', description='', doc_string='None', signature=<Signature (a)>, has_self=False, pre_kwargs=None), 'numpy.empty_like': LibEndpoint(service_path='action.execute', module_path='numpy.empty_like', name='empty_like', description='', doc_string='None', signature=<Signature (prototype, dtype=None, order='K', subok=True, shape=None)>, has_self=False, pre_kwargs=None), 'numpy.zeros_like': LibEndpoint(service_path='action.execute', module_path='numpy.zeros_like', name='zeros_like', description='', doc_string='None', signature=<Signature (a, dtype=None, order='K', subok=True, shape=None)>, has_self=False, pre_kwargs=None), 'numpy.ones_like': LibEndpoint(service_path='action.execute', module_path='numpy.ones_like', name='ones_like', description='', doc_string='None', signature=<Signature (a, dtype=None, order='K', subok=True, shape=None)>, has_self=False, pre_kwargs=None), 'numpy.correlate': LibEndpoint(service_path='action.execute', module_path='numpy.correlate', name='correlate', description='', doc_string='None', signature=<Signature (a, v, mode='valid')>, has_self=False, pre_kwargs=None), 'numpy.convolve': LibEndpoint(service_path='action.execute', module_path='numpy.convolve', name='convolve', description='', doc_string='None', signature=<Signature (a, v, mode='full')>, has_self=False, pre_kwargs=None), 'numpy.inner': LibEndpoint(service_path='action.execute', module_path='numpy.inner', name='inner', description='', doc_string='None', signature=<Signature (a, b)>, has_self=False, pre_kwargs=None), 'numpy.dot': LibEndpoint(service_path='action.execute', module_path='numpy.dot', name='dot', description='', doc_string='None', signature=<Signature (a, b, out=None)>, has_self=False, pre_kwargs=None), 'numpy.outer': LibEndpoint(service_path='action.execute', module_path='numpy.outer', name='outer', description='', doc_string='None', signature=<Signature (a, b, out=None)>, has_self=False, pre_kwargs=None), 'numpy.vdot': LibEndpoint(service_path='action.execute', module_path='numpy.vdot', name='vdot', description='', doc_string='None', signature=<Signature (a, b)>, has_self=False, pre_kwargs=None), 'numpy.roll': LibEndpoint(service_path='action.execute', module_path='numpy.roll', name='roll', description='', doc_string='None', signature=<Signature (a, shift, axis=None)>, has_self=False, pre_kwargs=None), 'numpy.rollaxis': LibEndpoint(service_path='action.execute', module_path='numpy.rollaxis', name='rollaxis', description='', doc_string='None', signature=<Signature (a, axis, start=0)>, has_self=False, pre_kwargs=None), 'numpy.moveaxis': LibEndpoint(service_path='action.execute', module_path='numpy.moveaxis', name='moveaxis', description='', doc_string='None', signature=<Signature (a, source, destination)>, has_self=False, pre_kwargs=None), 'numpy.cross': LibEndpoint(service_path='action.execute', module_path='numpy.cross', name='cross', description='', doc_string='None', signature=<Signature (a, b, axisa=-1, axisb=-1, axisc=-1, axis=None)>, has_self=False, pre_kwargs=None), 'numpy.tensordot': LibEndpoint(service_path='action.execute', module_path='numpy.tensordot', name='tensordot', description='', doc_string='None', signature=<Signature (a, b, axes=2)>, has_self=False, pre_kwargs=None), 'numpy.fromiter': LibEndpoint(service_path='action.execute', module_path='numpy.fromiter', name='fromiter', description='', doc_string='None', signature=<Signature (iter, dtype, count=-1, like=None)>, has_self=False, pre_kwargs=None), 'numpy.array_equal': LibEndpoint(service_path='action.execute', module_path='numpy.array_equal', name='array_equal', description='', doc_string='None', signature=<Signature (a1, a2, equal_nan=False)>, has_self=False, pre_kwargs=None), 'numpy.array_equiv': LibEndpoint(service_path='action.execute', module_path='numpy.array_equiv', name='array_equiv', description='', doc_string='None', signature=<Signature (a1, a2)>, has_self=False, pre_kwargs=None), 'numpy.indices': LibEndpoint(service_path='action.execute', module_path='numpy.indices', name='indices', description='', doc_string='None', signature=<Signature (dimensions, dtype=<class 'int'>, sparse=False)>, has_self=False, pre_kwargs=None), 'numpy.fromfunction': LibEndpoint(service_path='action.execute', module_path='numpy.fromfunction', name='fromfunction', description='', doc_string='None', signature=<Signature (function, shape, *, dtype=<class 'float'>, like=None, **kwargs)>, has_self=False, pre_kwargs=None), 'numpy.isclose': LibEndpoint(service_path='action.execute', module_path='numpy.isclose', name='isclose', description='', doc_string='None', signature=<Signature (a, b, rtol=1e-05, atol=1e-08, equal_nan=False)>, has_self=False, pre_kwargs=None), 'numpy.isscalar': LibEndpoint(service_path='action.execute', module_path='numpy.isscalar', name='isscalar', description='', doc_string='None', signature=<Signature (element)>, has_self=False, pre_kwargs=None), 'numpy.binary_repr': LibEndpoint(service_path='action.execute', module_path='numpy.binary_repr', name='binary_repr', description='', doc_string='None', signature=<Signature (num, width=None)>, has_self=False, pre_kwargs=None), 'numpy.base_repr': LibEndpoint(service_path='action.execute', module_path='numpy.base_repr', name='base_repr', description='', doc_string='None', signature=<Signature (number, base=2, padding=0)>, has_self=False, pre_kwargs=None), 'numpy.ones': LibEndpoint(service_path='action.execute', module_path='numpy.ones', name='ones', description='', doc_string='None', signature=<Signature (shape, dtype=None, order='C', *, like=None)>, has_self=False, pre_kwargs=None), 'numpy.identity': LibEndpoint(service_path='action.execute', module_path='numpy.identity', name='identity', description='', doc_string='None', signature=<Signature (n, dtype=None, *, like=None)>, has_self=False, pre_kwargs=None), 'numpy.allclose': LibEndpoint(service_path='action.execute', module_path='numpy.allclose', name='allclose', description='', doc_string='None', signature=<Signature (a, b, rtol=1e-05, atol=1e-08, equal_nan=False)>, has_self=False, pre_kwargs=None), 'numpy.putmask': LibEndpoint(service_path='action.execute', module_path='numpy.putmask', name='putmask', description='', doc_string='None', signature=<Signature (a, mask, values)>, has_self=False, pre_kwargs=None), 'numpy.flatnonzero': LibEndpoint(service_path='action.execute', module_path='numpy.flatnonzero', name='flatnonzero', description='', doc_string='None', signature=<Signature (a)>, has_self=False, pre_kwargs=None), 'numpy.bitwise_not': LibEndpoint(service_path='action.execute', module_path='numpy.bitwise_not', name='invert', description='', doc_string='None', signature=<Signature (x, out=None, where=True, casting='same_kind', order='K', dtype=None, subok=True, signature=None, extobj=None)>, has_self=False, pre_kwargs=None), 'numpy.ComplexWarning': LibEndpoint(service_path='action.execute', module_path='numpy.ComplexWarning', name='ComplexWarning', description='', doc_string='None', signature=<Signature (self, /, *args, **kwargs)>, has_self=False, pre_kwargs=None), 'numpy.full': LibEndpoint(service_path='action.execute', module_path='numpy.full', name='full', description='', doc_string='None', signature=<Signature (shape, fill_value, dtype=None, order='C', *, like=None)>, has_self=False, pre_kwargs=None), 'numpy.full_like': LibEndpoint(service_path='action.execute', module_path='numpy.full_like', name='full_like', description='', doc_string='None', signature=<Signature (a, fill_value, dtype=None, order='K', subok=True, shape=None)>, has_self=False, pre_kwargs=None), 'numpy.matmul': LibEndpoint(service_path='action.execute', module_path='numpy.matmul', name='matmul', description='', doc_string='None', signature=<Signature (x1, x2, out=None, casting='same_kind', order='K', dtype=None, subok=True, signature=None, extobj=None, axes=None, axis=None)>, has_self=False, pre_kwargs=None), 'numpy.shares_memory': LibEndpoint(service_path='action.execute', module_path='numpy.shares_memory', name='shares_memory', description='', doc_string='None', signature=<Signature (a, b, max_work=None)>, has_self=False, pre_kwargs=None), 'numpy.may_share_memory': LibEndpoint(service_path='action.execute', module_path='numpy.may_share_memory', name='may_share_memory', description='', doc_string='None', signature=<Signature (a, b, max_work=None)>, has_self=False, pre_kwargs=None), 'numpy.TooHardError': LibEndpoint(service_path='action.execute', module_path='numpy.TooHardError', name='TooHardError', description='', doc_string='None', signature=<Signature (self, /, *args, **kwargs)>, has_self=False, pre_kwargs=None), 'numpy.AxisError': LibEndpoint(service_path='action.execute', module_path='numpy.AxisError', name='AxisError', description='', doc_string='None', signature=<Signature (axis, ndim=None, msg_prefix=None)>, has_self=False, pre_kwargs=None), 'numpy.all': LibEndpoint(service_path='action.execute', module_path='numpy.all', name='all', description='', doc_string='None', signature=<Signature (a, axis=None, out=None, keepdims=<no value>, *, where=<no value>)>, has_self=False, pre_kwargs=None), 'numpy.alltrue': LibEndpoint(service_path='action.execute', module_path='numpy.alltrue', name='alltrue', description='', doc_string='None', signature=<Signature (*args, **kwargs)>, has_self=False, pre_kwargs=None), 'numpy.amax': LibEndpoint(service_path='action.execute', module_path='numpy.amax', name='amax', description='', doc_string='None', signature=<Signature (a, axis=None, out=None, keepdims=<no value>, initial=<no value>, where=<no value>)>, has_self=False, pre_kwargs=None), 'numpy.amin': LibEndpoint(service_path='action.execute', module_path='numpy.amin', name='amin', description='', doc_string='None', signature=<Signature (a, axis=None, out=None, keepdims=<no value>, initial=<no value>, where=<no value>)>, has_self=False, pre_kwargs=None), 'numpy.any': LibEndpoint(service_path='action.execute', module_path='numpy.any', name='any', description='', doc_string='None', signature=<Signature (a, axis=None, out=None, keepdims=<no value>, *, where=<no value>)>, has_self=False, pre_kwargs=None), 'numpy.argmax': LibEndpoint(service_path='action.execute', module_path='numpy.argmax', name='argmax', description='', doc_string='None', signature=<Signature (a, axis=None, out=None, *, keepdims=<no value>)>, has_self=False, pre_kwargs=None), 'numpy.argmin': LibEndpoint(service_path='action.execute', module_path='numpy.argmin', name='argmin', description='', doc_string='None', signature=<Signature (a, axis=None, out=None, *, keepdims=<no value>)>, has_self=False, pre_kwargs=None), 'numpy.argpartition': LibEndpoint(service_path='action.execute', module_path='numpy.argpartition', name='argpartition', description='', doc_string='None', signature=<Signature (a, kth, axis=-1, kind='introselect', order=None)>, has_self=False, pre_kwargs=None), 'numpy.argsort': LibEndpoint(service_path='action.execute', module_path='numpy.argsort', name='argsort', description='', doc_string='None', signature=<Signature (a, axis=-1, kind=None, order=None)>, has_self=False, pre_kwargs=None), 'numpy.around': LibEndpoint(service_path='action.execute', module_path='numpy.around', name='around', description='', doc_string='None', signature=<Signature (a, decimals=0, out=None)>, has_self=False, pre_kwargs=None), 'numpy.choose': LibEndpoint(service_path='action.execute', module_path='numpy.choose', name='choose', description='', doc_string='None', signature=<Signature (a, choices, out=None, mode='raise')>, has_self=False, pre_kwargs=None), 'numpy.clip': LibEndpoint(service_path='action.execute', module_path='numpy.clip', name='clip', description='', doc_string='None', signature=<Signature (a, a_min, a_max, out=None, **kwargs)>, has_self=False, pre_kwargs=None), 'numpy.compress': LibEndpoint(service_path='action.execute', module_path='numpy.compress', name='compress', description='', doc_string='None', signature=<Signature (condition, a, axis=None, out=None)>, has_self=False, pre_kwargs=None), 'numpy.cumprod': LibEndpoint(service_path='action.execute', module_path='numpy.cumprod', name='cumprod', description='', doc_string='None', signature=<Signature (a, axis=None, dtype=None, out=None)>, has_self=False, pre_kwargs=None), 'numpy.cumproduct': LibEndpoint(service_path='action.execute', module_path='numpy.cumproduct', name='cumproduct', description='', doc_string='None', signature=<Signature (*args, **kwargs)>, has_self=False, pre_kwargs=None), 'numpy.cumsum': LibEndpoint(service_path='action.execute', module_path='numpy.cumsum', name='cumsum', description='', doc_string='None', signature=<Signature (a, axis=None, dtype=None, out=None)>, has_self=False, pre_kwargs=None), 'numpy.diagonal': LibEndpoint(service_path='action.execute', module_path='numpy.diagonal', name='diagonal', description='', doc_string='None', signature=<Signature (a, offset=0, axis1=0, axis2=1)>, has_self=False, pre_kwargs=None), 'numpy.mean': LibEndpoint(service_path='action.execute', module_path='numpy.mean', name='mean', description='', doc_string='None', signature=<Signature (a, axis=None, dtype=None, out=None, keepdims=<no value>, *, where=<no value>)>, has_self=False, pre_kwargs=None), 'numpy.ndim': LibEndpoint(service_path='action.execute', module_path='numpy.ndim', name='ndim', description='', doc_string='None', signature=<Signature (a)>, has_self=False, pre_kwargs=None), 'numpy.nonzero': LibEndpoint(service_path='action.execute', module_path='numpy.nonzero', name='nonzero', description='', doc_string='None', signature=<Signature (a)>, has_self=False, pre_kwargs=None), 'numpy.partition': LibEndpoint(service_path='action.execute', module_path='numpy.partition', name='partition', description='', doc_string='None', signature=<Signature (a, kth, axis=-1, kind='introselect', order=None)>, has_self=False, pre_kwargs=None), 'numpy.prod': LibEndpoint(service_path='action.execute', module_path='numpy.prod', name='prod', description='', doc_string='None', signature=<Signature (a, axis=None, dtype=None, out=None, keepdims=<no value>, initial=<no value>, where=<no value>)>, has_self=False, pre_kwargs=None), 'numpy.product': LibEndpoint(service_path='action.execute', module_path='numpy.product', name='product', description='', doc_string='None', signature=<Signature (*args, **kwargs)>, has_self=False, pre_kwargs=None), 'numpy.ptp': LibEndpoint(service_path='action.execute', module_path='numpy.ptp', name='ptp', description='', doc_string='None', signature=<Signature (a, axis=None, out=None, keepdims=<no value>)>, has_self=False, pre_kwargs=None), 'numpy.put': LibEndpoint(service_path='action.execute', module_path='numpy.put', name='put', description='', doc_string='None', signature=<Signature (a, ind, v, mode='raise')>, has_self=False, pre_kwargs=None), 'numpy.ravel': LibEndpoint(service_path='action.execute', module_path='numpy.ravel', name='ravel', description='', doc_string='None', signature=<Signature (a, order='C')>, has_self=False, pre_kwargs=None), 'numpy.repeat': LibEndpoint(service_path='action.execute', module_path='numpy.repeat', name='repeat', description='', doc_string='None', signature=<Signature (a, repeats, axis=None)>, has_self=False, pre_kwargs=None), 'numpy.reshape': LibEndpoint(service_path='action.execute', module_path='numpy.reshape', name='reshape', description='', doc_string='None', signature=<Signature (a, newshape, order='C')>, has_self=False, pre_kwargs=None), 'numpy.resize': LibEndpoint(service_path='action.execute', module_path='numpy.resize', name='resize', description='', doc_string='None', signature=<Signature (a, new_shape)>, has_self=False, pre_kwargs=None), 'numpy.round_': LibEndpoint(service_path='action.execute', module_path='numpy.round_', name='round_', description='', doc_string='None', signature=<Signature (a, decimals=0, out=None)>, has_self=False, pre_kwargs=None), 'numpy.searchsorted': LibEndpoint(service_path='action.execute', module_path='numpy.searchsorted', name='searchsorted', description='', doc_string='None', signature=<Signature (a, v, side='left', sorter=None)>, has_self=False, pre_kwargs=None), 'numpy.shape': LibEndpoint(service_path='action.execute', module_path='numpy.shape', name='shape', description='', doc_string='None', signature=<Signature (a)>, has_self=False, pre_kwargs=None), 'numpy.size': LibEndpoint(service_path='action.execute', module_path='numpy.size', name='size', description='', doc_string='None', signature=<Signature (a, axis=None)>, has_self=False, pre_kwargs=None), 'numpy.sometrue': LibEndpoint(service_path='action.execute', module_path='numpy.sometrue', name='sometrue', description='', doc_string='None', signature=<Signature (*args, **kwargs)>, has_self=False, pre_kwargs=None), 'numpy.sort': LibEndpoint(service_path='action.execute', module_path='numpy.sort', name='sort', description='', doc_string='None', signature=<Signature (a, axis=-1, kind=None, order=None)>, has_self=False, pre_kwargs=None), 'numpy.squeeze': LibEndpoint(service_path='action.execute', module_path='numpy.squeeze', name='squeeze', description='', doc_string='None', signature=<Signature (a, axis=None)>, has_self=False, pre_kwargs=None), 'numpy.std': LibEndpoint(service_path='action.execute', module_path='numpy.std', name='std', description='', doc_string='None', signature=<Signature (a, axis=None, dtype=None, out=None, ddof=0, keepdims=<no value>, *, where=<no value>)>, has_self=False, pre_kwargs=None), 'numpy.sum': LibEndpoint(service_path='action.execute', module_path='numpy.sum', name='sum', description='', doc_string='None', signature=<Signature (a, axis=None, dtype=None, out=None, keepdims=<no value>, initial=<no value>, where=<no value>)>, has_self=False, pre_kwargs=None), 'numpy.swapaxes': LibEndpoint(service_path='action.execute', module_path='numpy.swapaxes', name='swapaxes', description='', doc_string='None', signature=<Signature (a, axis1, axis2)>, has_self=False, pre_kwargs=None), 'numpy.take': LibEndpoint(service_path='action.execute', module_path='numpy.take', name='take', description='', doc_string='None', signature=<Signature (a, indices, axis=None, out=None, mode='raise')>, has_self=False, pre_kwargs=None), 'numpy.trace': LibEndpoint(service_path='action.execute', module_path='numpy.trace', name='trace', description='', doc_string='None', signature=<Signature (a, offset=0, axis1=0, axis2=1, dtype=None, out=None)>, has_self=False, pre_kwargs=None), 'numpy.transpose': LibEndpoint(service_path='action.execute', module_path='numpy.transpose', name='transpose', description='', doc_string='None', signature=<Signature (a, axes=None)>, has_self=False, pre_kwargs=None), 'numpy.var': LibEndpoint(service_path='action.execute', module_path='numpy.var', name='var', description='', doc_string='None', signature=<Signature (a, axis=None, dtype=None, out=None, ddof=0, keepdims=<no value>, *, where=<no value>)>, has_self=False, pre_kwargs=None), 'numpy.absolute': LibEndpoint(service_path='action.execute', module_path='numpy.absolute', name='absolute', description='', doc_string='None', signature=<Signature (x, out=None, where=True, casting='same_kind', order='K', dtype=None, subok=True, signature=None, extobj=None)>, has_self=False, pre_kwargs=None), 'numpy.add': LibEndpoint(service_path='action.execute', module_path='numpy.add', name='add', description='', doc_string='None', signature=<Signature (x1, x2, out=None, where=True, casting='same_kind', order='K', dtype=None, subok=True, signature=None, extobj=None)>, has_self=False, pre_kwargs=None), 'numpy.arccos': LibEndpoint(service_path='action.execute', module_path='numpy.arccos', name='arccos', description='', doc_string='None', signature=<Signature (x, out=None, where=True, casting='same_kind', order='K', dtype=None, subok=True, signature=None, extobj=None)>, has_self=False, pre_kwargs=None), 'numpy.arccosh': LibEndpoint(service_path='action.execute', module_path='numpy.arccosh', name='arccosh', description='', doc_string='None', signature=<Signature (x, out=None, where=True, casting='same_kind', order='K', dtype=None, subok=True, signature=None, extobj=None)>, has_self=False, pre_kwargs=None), 'numpy.arcsin': LibEndpoint(service_path='action.execute', module_path='numpy.arcsin', name='arcsin', description='', doc_string='None', signature=<Signature (x, out=None, where=True, casting='same_kind', order='K', dtype=None, subok=True, signature=None, extobj=None)>, has_self=False, pre_kwargs=None), 'numpy.arcsinh': LibEndpoint(service_path='action.execute', module_path='numpy.arcsinh', name='arcsinh', description='', doc_string='None', signature=<Signature (x, out=None, where=True, casting='same_kind', order='K', dtype=None, subok=True, signature=None, extobj=None)>, has_self=False, pre_kwargs=None), 'numpy.arctan': LibEndpoint(service_path='action.execute', module_path='numpy.arctan', name='arctan', description='', doc_string='None', signature=<Signature (x, out=None, where=True, casting='same_kind', order='K', dtype=None, subok=True, signature=None, extobj=None)>, has_self=False, pre_kwargs=None), 'numpy.arctan2': LibEndpoint(service_path='action.execute', module_path='numpy.arctan2', name='arctan2', description='', doc_string='None', signature=<Signature (x1, x2, out=None, where=True, casting='same_kind', order='K', dtype=None, subok=True, signature=None, extobj=None)>, has_self=False, pre_kwargs=None), 'numpy.arctanh': LibEndpoint(service_path='action.execute', module_path='numpy.arctanh', name='arctanh', description='', doc_string='None', signature=<Signature (x, out=None, where=True, casting='same_kind', order='K', dtype=None, subok=True, signature=None, extobj=None)>, has_self=False, pre_kwargs=None), 'numpy.bitwise_and': LibEndpoint(service_path='action.execute', module_path='numpy.bitwise_and', name='bitwise_and', description='', doc_string='None', signature=<Signature (x1, x2, out=None, where=True, casting='same_kind', order='K', dtype=None, subok=True, signature=None, extobj=None)>, has_self=False, pre_kwargs=None), 'numpy.bitwise_or': LibEndpoint(service_path='action.execute', module_path='numpy.bitwise_or', name='bitwise_or', description='', doc_string='None', signature=<Signature (x1, x2, out=None, where=True, casting='same_kind', order='K', dtype=None, subok=True, signature=None, extobj=None)>, has_self=False, pre_kwargs=None), 'numpy.bitwise_xor': LibEndpoint(service_path='action.execute', module_path='numpy.bitwise_xor', name='bitwise_xor', description='', doc_string='None', signature=<Signature (x1, x2, out=None, where=True, casting='same_kind', order='K', dtype=None, subok=True, signature=None, extobj=None)>, has_self=False, pre_kwargs=None), 'numpy.cbrt': LibEndpoint(service_path='action.execute', module_path='numpy.cbrt', name='cbrt', description='', doc_string='None', signature=<Signature (x, out=None, where=True, casting='same_kind', order='K', dtype=None, subok=True, signature=None, extobj=None)>, has_self=False, pre_kwargs=None), 'numpy.ceil': LibEndpoint(service_path='action.execute', module_path='numpy.ceil', name='ceil', description='', doc_string='None', signature=<Signature (x, out=None, where=True, casting='same_kind', order='K', dtype=None, subok=True, signature=None, extobj=None)>, has_self=False, pre_kwargs=None), 'numpy.conj': LibEndpoint(service_path='action.execute', module_path='numpy.conj', name='conjugate', description='', doc_string='None', signature=<Signature (x, out=None, where=True, casting='same_kind', order='K', dtype=None, subok=True, signature=None, extobj=None)>, has_self=False, pre_kwargs=None), 'numpy.conjugate': LibEndpoint(service_path='action.execute', module_path='numpy.conjugate', name='conjugate', description='', doc_string='None', signature=<Signature (x, out=None, where=True, casting='same_kind', order='K', dtype=None, subok=True, signature=None, extobj=None)>, has_self=False, pre_kwargs=None), 'numpy.copysign': LibEndpoint(service_path='action.execute', module_path='numpy.copysign', name='copysign', description='', doc_string='None', signature=<Signature (x1, x2, out=None, where=True, casting='same_kind', order='K', dtype=None, subok=True, signature=None, extobj=None)>, has_self=False, pre_kwargs=None), 'numpy.cos': LibEndpoint(service_path='action.execute', module_path='numpy.cos', name='cos', description='', doc_string='None', signature=<Signature (x, out=None, where=True, casting='same_kind', order='K', dtype=None, subok=True, signature=None, extobj=None)>, has_self=False, pre_kwargs=None), 'numpy.cosh': LibEndpoint(service_path='action.execute', module_path='numpy.cosh', name='cosh', description='', doc_string='None', signature=<Signature (x, out=None, where=True, casting='same_kind', order='K', dtype=None, subok=True, signature=None, extobj=None)>, has_self=False, pre_kwargs=None), 'numpy.deg2rad': LibEndpoint(service_path='action.execute', module_path='numpy.deg2rad', name='deg2rad', description='', doc_string='None', signature=<Signature (x, out=None, where=True, casting='same_kind', order='K', dtype=None, subok=True, signature=None, extobj=None)>, has_self=False, pre_kwargs=None), 'numpy.degrees': LibEndpoint(service_path='action.execute', module_path='numpy.degrees', name='degrees', description='', doc_string='None', signature=<Signature (x, out=None, where=True, casting='same_kind', order='K', dtype=None, subok=True, signature=None, extobj=None)>, has_self=False, pre_kwargs=None), 'numpy.divide': LibEndpoint(service_path='action.execute', module_path='numpy.divide', name='divide', description='', doc_string='None', signature=<Signature (x1, x2, out=None, where=True, casting='same_kind', order='K', dtype=None, subok=True, signature=None, extobj=None)>, has_self=False, pre_kwargs=None), 'numpy.divmod': LibEndpoint(service_path='action.execute', module_path='numpy.divmod', name='divmod', description='', doc_string='None', signature=<Signature (x1, x2, out1, out2, out=(None, None), where=True, casting='same_kind', order='K', dtype=None, subok=True, signature=None, extobj=None)>, has_self=False, pre_kwargs=None), 'numpy.equal': LibEndpoint(service_path='action.execute', module_path='numpy.equal', name='equal', description='', doc_string='None', signature=<Signature (x1, x2, out=None, where=True, casting='same_kind', order='K', dtype=None, subok=True, signature=None, extobj=None)>, has_self=False, pre_kwargs=None), 'numpy.exp': LibEndpoint(service_path='action.execute', module_path='numpy.exp', name='exp', description='', doc_string='None', signature=<Signature (x, out=None, where=True, casting='same_kind', order='K', dtype=None, subok=True, signature=None, extobj=None)>, has_self=False, pre_kwargs=None), 'numpy.exp2': LibEndpoint(service_path='action.execute', module_path='numpy.exp2', name='exp2', description='', doc_string='None', signature=<Signature (x, out=None, where=True, casting='same_kind', order='K', dtype=None, subok=True, signature=None, extobj=None)>, has_self=False, pre_kwargs=None), 'numpy.expm1': LibEndpoint(service_path='action.execute', module_path='numpy.expm1', name='expm1', description='', doc_string='None', signature=<Signature (x, out=None, where=True, casting='same_kind', order='K', dtype=None, subok=True, signature=None, extobj=None)>, has_self=False, pre_kwargs=None), 'numpy.fabs': LibEndpoint(service_path='action.execute', module_path='numpy.fabs', name='fabs', description='', doc_string='None', signature=<Signature (x, out=None, where=True, casting='same_kind', order='K', dtype=None, subok=True, signature=None, extobj=None)>, has_self=False, pre_kwargs=None), 'numpy.floor': LibEndpoint(service_path='action.execute', module_path='numpy.floor', name='floor', description='', doc_string='None', signature=<Signature (x, out=None, where=True, casting='same_kind', order='K', dtype=None, subok=True, signature=None, extobj=None)>, has_self=False, pre_kwargs=None), 'numpy.floor_divide': LibEndpoint(service_path='action.execute', module_path='numpy.floor_divide', name='floor_divide', description='', doc_string='None', signature=<Signature (x1, x2, out=None, where=True, casting='same_kind', order='K', dtype=None, subok=True, signature=None, extobj=None)>, has_self=False, pre_kwargs=None), 'numpy.float_power': LibEndpoint(service_path='action.execute', module_path='numpy.float_power', name='float_power', description='', doc_string='None', signature=<Signature (x1, x2, out=None, where=True, casting='same_kind', order='K', dtype=None, subok=True, signature=None, extobj=None)>, has_self=False, pre_kwargs=None), 'numpy.fmax': LibEndpoint(service_path='action.execute', module_path='numpy.fmax', name='fmax', description='', doc_string='None', signature=<Signature (x1, x2, out=None, where=True, casting='same_kind', order='K', dtype=None, subok=True, signature=None, extobj=None)>, has_self=False, pre_kwargs=None), 'numpy.fmin': LibEndpoint(service_path='action.execute', module_path='numpy.fmin', name='fmin', description='', doc_string='None', signature=<Signature (x1, x2, out=None, where=True, casting='same_kind', order='K', dtype=None, subok=True, signature=None, extobj=None)>, has_self=False, pre_kwargs=None), 'numpy.fmod': LibEndpoint(service_path='action.execute', module_path='numpy.fmod', name='fmod', description='', doc_string='None', signature=<Signature (x1, x2, out=None, where=True, casting='same_kind', order='K', dtype=None, subok=True, signature=None, extobj=None)>, has_self=False, pre_kwargs=None), 'numpy.frexp': LibEndpoint(service_path='action.execute', module_path='numpy.frexp', name='frexp', description='', doc_string='None', signature=<Signature (x, out1, out2, out=(None, None), where=True, casting='same_kind', order='K', dtype=None, subok=True, signature=None, extobj=None)>, has_self=False, pre_kwargs=None), 'numpy.frompyfunc': LibEndpoint(service_path='action.execute', module_path='numpy.frompyfunc', name='frompyfunc', description='', doc_string='None', signature=<Signature (func, nin, nout, identity=None)>, has_self=False, pre_kwargs=None), 'numpy.gcd': LibEndpoint(service_path='action.execute', module_path='numpy.gcd', name='gcd', description='', doc_string='None', signature=<Signature (x1, x2, out=None, where=True, casting='same_kind', order='K', dtype=None, subok=True, signature=None, extobj=None)>, has_self=False, pre_kwargs=None), 'numpy.greater': LibEndpoint(service_path='action.execute', module_path='numpy.greater', name='greater', description='', doc_string='None', signature=<Signature (x1, x2, out=None, where=True, casting='same_kind', order='K', dtype=None, subok=True, signature=None, extobj=None)>, has_self=False, pre_kwargs=None), 'numpy.greater_equal': LibEndpoint(service_path='action.execute', module_path='numpy.greater_equal', name='greater_equal', description='', doc_string='None', signature=<Signature (x1, x2, out=None, where=True, casting='same_kind', order='K', dtype=None, subok=True, signature=None, extobj=None)>, has_self=False, pre_kwargs=None), 'numpy.heaviside': LibEndpoint(service_path='action.execute', module_path='numpy.heaviside', name='heaviside', description='', doc_string='None', signature=<Signature (x1, x2, out=None, where=True, casting='same_kind', order='K', dtype=None, subok=True, signature=None, extobj=None)>, has_self=False, pre_kwargs=None), 'numpy.hypot': LibEndpoint(service_path='action.execute', module_path='numpy.hypot', name='hypot', description='', doc_string='None', signature=<Signature (x1, x2, out=None, where=True, casting='same_kind', order='K', dtype=None, subok=True, signature=None, extobj=None)>, has_self=False, pre_kwargs=None), 'numpy.invert': LibEndpoint(service_path='action.execute', module_path='numpy.invert', name='invert', description='', doc_string='None', signature=<Signature (x, out=None, where=True, casting='same_kind', order='K', dtype=None, subok=True, signature=None, extobj=None)>, has_self=False, pre_kwargs=None), 'numpy.isfinite': LibEndpoint(service_path='action.execute', module_path='numpy.isfinite', name='isfinite', description='', doc_string='None', signature=<Signature (x, out=None, where=True, casting='same_kind', order='K', dtype=None, subok=True, signature=None, extobj=None)>, has_self=False, pre_kwargs=None), 'numpy.isinf': LibEndpoint(service_path='action.execute', module_path='numpy.isinf', name='isinf', description='', doc_string='None', signature=<Signature (x, out=None, where=True, casting='same_kind', order='K', dtype=None, subok=True, signature=None, extobj=None)>, has_self=False, pre_kwargs=None), 'numpy.isnan': LibEndpoint(service_path='action.execute', module_path='numpy.isnan', name='isnan', description='', doc_string='None', signature=<Signature (x, out=None, where=True, casting='same_kind', order='K', dtype=None, subok=True, signature=None, extobj=None)>, has_self=False, pre_kwargs=None), 'numpy.isnat': LibEndpoint(service_path='action.execute', module_path='numpy.isnat', name='isnat', description='', doc_string='None', signature=<Signature (x, out=None, where=True, casting='same_kind', order='K', dtype=None, subok=True, signature=None, extobj=None)>, has_self=False, pre_kwargs=None), 'numpy.lcm': LibEndpoint(service_path='action.execute', module_path='numpy.lcm', name='lcm', description='', doc_string='None', signature=<Signature (x1, x2, out=None, where=True, casting='same_kind', order='K', dtype=None, subok=True, signature=None, extobj=None)>, has_self=False, pre_kwargs=None), 'numpy.ldexp': LibEndpoint(service_path='action.execute', module_path='numpy.ldexp', name='ldexp', description='', doc_string='None', signature=<Signature (x1, x2, out=None, where=True, casting='same_kind', order='K', dtype=None, subok=True, signature=None, extobj=None)>, has_self=False, pre_kwargs=None), 'numpy.left_shift': LibEndpoint(service_path='action.execute', module_path='numpy.left_shift', name='left_shift', description='', doc_string='None', signature=<Signature (x1, x2, out=None, where=True, casting='same_kind', order='K', dtype=None, subok=True, signature=None, extobj=None)>, has_self=False, pre_kwargs=None), 'numpy.less': LibEndpoint(service_path='action.execute', module_path='numpy.less', name='less', description='', doc_string='None', signature=<Signature (x1, x2, out=None, where=True, casting='same_kind', order='K', dtype=None, subok=True, signature=None, extobj=None)>, has_self=False, pre_kwargs=None), 'numpy.less_equal': LibEndpoint(service_path='action.execute', module_path='numpy.less_equal', name='less_equal', description='', doc_string='None', signature=<Signature (x1, x2, out=None, where=True, casting='same_kind', order='K', dtype=None, subok=True, signature=None, extobj=None)>, has_self=False, pre_kwargs=None), 'numpy.log': LibEndpoint(service_path='action.execute', module_path='numpy.log', name='log', description='', doc_string='None', signature=<Signature (x, out=None, where=True, casting='same_kind', order='K', dtype=None, subok=True, signature=None, extobj=None)>, has_self=False, pre_kwargs=None), 'numpy.log10': LibEndpoint(service_path='action.execute', module_path='numpy.log10', name='log10', description='', doc_string='None', signature=<Signature (x, out=None, where=True, casting='same_kind', order='K', dtype=None, subok=True, signature=None, extobj=None)>, has_self=False, pre_kwargs=None), 'numpy.log1p': LibEndpoint(service_path='action.execute', module_path='numpy.log1p', name='log1p', description='', doc_string='None', signature=<Signature (x, out=None, where=True, casting='same_kind', order='K', dtype=None, subok=True, signature=None, extobj=None)>, has_self=False, pre_kwargs=None), 'numpy.log2': LibEndpoint(service_path='action.execute', module_path='numpy.log2', name='log2', description='', doc_string='None', signature=<Signature (x, out=None, where=True, casting='same_kind', order='K', dtype=None, subok=True, signature=None, extobj=None)>, has_self=False, pre_kwargs=None), 'numpy.logaddexp': LibEndpoint(service_path='action.execute', module_path='numpy.logaddexp', name='logaddexp', description='', doc_string='None', signature=<Signature (x1, x2, out=None, where=True, casting='same_kind', order='K', dtype=None, subok=True, signature=None, extobj=None)>, has_self=False, pre_kwargs=None), 'numpy.logaddexp2': LibEndpoint(service_path='action.execute', module_path='numpy.logaddexp2', name='logaddexp2', description='', doc_string='None', signature=<Signature (x1, x2, out=None, where=True, casting='same_kind', order='K', dtype=None, subok=True, signature=None, extobj=None)>, has_self=False, pre_kwargs=None), 'numpy.logical_and': LibEndpoint(service_path='action.execute', module_path='numpy.logical_and', name='logical_and', description='', doc_string='None', signature=<Signature (x1, x2, out=None, where=True, casting='same_kind', order='K', dtype=None, subok=True, signature=None, extobj=None)>, has_self=False, pre_kwargs=None), 'numpy.logical_not': LibEndpoint(service_path='action.execute', module_path='numpy.logical_not', name='logical_not', description='', doc_string='None', signature=<Signature (x, out=None, where=True, casting='same_kind', order='K', dtype=None, subok=True, signature=None, extobj=None)>, has_self=False, pre_kwargs=None), 'numpy.logical_or': LibEndpoint(service_path='action.execute', module_path='numpy.logical_or', name='logical_or', description='', doc_string='None', signature=<Signature (x1, x2, out=None, where=True, casting='same_kind', order='K', dtype=None, subok=True, signature=None, extobj=None)>, has_self=False, pre_kwargs=None), 'numpy.logical_xor': LibEndpoint(service_path='action.execute', module_path='numpy.logical_xor', name='logical_xor', description='', doc_string='None', signature=<Signature (x1, x2, out=None, where=True, casting='same_kind', order='K', dtype=None, subok=True, signature=None, extobj=None)>, has_self=False, pre_kwargs=None), 'numpy.maximum': LibEndpoint(service_path='action.execute', module_path='numpy.maximum', name='maximum', description='', doc_string='None', signature=<Signature (x1, x2, out=None, where=True, casting='same_kind', order='K', dtype=None, subok=True, signature=None, extobj=None)>, has_self=False, pre_kwargs=None), 'numpy.minimum': LibEndpoint(service_path='action.execute', module_path='numpy.minimum', name='minimum', description='', doc_string='None', signature=<Signature (x1, x2, out=None, where=True, casting='same_kind', order='K', dtype=None, subok=True, signature=None, extobj=None)>, has_self=False, pre_kwargs=None), 'numpy.mod': LibEndpoint(service_path='action.execute', module_path='numpy.mod', name='remainder', description='', doc_string='None', signature=<Signature (x1, x2, out=None, where=True, casting='same_kind', order='K', dtype=None, subok=True, signature=None, extobj=None)>, has_self=False, pre_kwargs=None), 'numpy.modf': LibEndpoint(service_path='action.execute', module_path='numpy.modf', name='modf', description='', doc_string='None', signature=<Signature (x, out1, out2, out=(None, None), where=True, casting='same_kind', order='K', dtype=None, subok=True, signature=None, extobj=None)>, has_self=False, pre_kwargs=None), 'numpy.multiply': LibEndpoint(service_path='action.execute', module_path='numpy.multiply', name='multiply', description='', doc_string='None', signature=<Signature (x1, x2, out=None, where=True, casting='same_kind', order='K', dtype=None, subok=True, signature=None, extobj=None)>, has_self=False, pre_kwargs=None), 'numpy.negative': LibEndpoint(service_path='action.execute', module_path='numpy.negative', name='negative', description='', doc_string='None', signature=<Signature (x, out=None, where=True, casting='same_kind', order='K', dtype=None, subok=True, signature=None, extobj=None)>, has_self=False, pre_kwargs=None), 'numpy.nextafter': LibEndpoint(service_path='action.execute', module_path='numpy.nextafter', name='nextafter', description='', doc_string='None', signature=<Signature (x1, x2, out=None, where=True, casting='same_kind', order='K', dtype=None, subok=True, signature=None, extobj=None)>, has_self=False, pre_kwargs=None), 'numpy.not_equal': LibEndpoint(service_path='action.execute', module_path='numpy.not_equal', name='not_equal', description='', doc_string='None', signature=<Signature (x1, x2, out=None, where=True, casting='same_kind', order='K', dtype=None, subok=True, signature=None, extobj=None)>, has_self=False, pre_kwargs=None), 'numpy.positive': LibEndpoint(service_path='action.execute', module_path='numpy.positive', name='positive', description='', doc_string='None', signature=<Signature (x, out=None, where=True, casting='same_kind', order='K', dtype=None, subok=True, signature=None, extobj=None)>, has_self=False, pre_kwargs=None), 'numpy.power': LibEndpoint(service_path='action.execute', module_path='numpy.power', name='power', description='', doc_string='None', signature=<Signature (x1, x2, out=None, where=True, casting='same_kind', order='K', dtype=None, subok=True, signature=None, extobj=None)>, has_self=False, pre_kwargs=None), 'numpy.rad2deg': LibEndpoint(service_path='action.execute', module_path='numpy.rad2deg', name='rad2deg', description='', doc_string='None', signature=<Signature (x, out=None, where=True, casting='same_kind', order='K', dtype=None, subok=True, signature=None, extobj=None)>, has_self=False, pre_kwargs=None), 'numpy.radians': LibEndpoint(service_path='action.execute', module_path='numpy.radians', name='radians', description='', doc_string='None', signature=<Signature (x, out=None, where=True, casting='same_kind', order='K', dtype=None, subok=True, signature=None, extobj=None)>, has_self=False, pre_kwargs=None), 'numpy.reciprocal': LibEndpoint(service_path='action.execute', module_path='numpy.reciprocal', name='reciprocal', description='', doc_string='None', signature=<Signature (x, out=None, where=True, casting='same_kind', order='K', dtype=None, subok=True, signature=None, extobj=None)>, has_self=False, pre_kwargs=None), 'numpy.remainder': LibEndpoint(service_path='action.execute', module_path='numpy.remainder', name='remainder', description='', doc_string='None', signature=<Signature (x1, x2, out=None, where=True, casting='same_kind', order='K', dtype=None, subok=True, signature=None, extobj=None)>, has_self=False, pre_kwargs=None), 'numpy.right_shift': LibEndpoint(service_path='action.execute', module_path='numpy.right_shift', name='right_shift', description='', doc_string='None', signature=<Signature (x1, x2, out=None, where=True, casting='same_kind', order='K', dtype=None, subok=True, signature=None, extobj=None)>, has_self=False, pre_kwargs=None), 'numpy.rint': LibEndpoint(service_path='action.execute', module_path='numpy.rint', name='rint', description='', doc_string='None', signature=<Signature (x, out=None, where=True, casting='same_kind', order='K', dtype=None, subok=True, signature=None, extobj=None)>, has_self=False, pre_kwargs=None), 'numpy.seterrobj': LibEndpoint(service_path='action.execute', module_path='numpy.seterrobj', name='seterrobj', description='', doc_string='None', signature=<Signature (errobj)>, has_self=False, pre_kwargs=None), 'numpy.sign': LibEndpoint(service_path='action.execute', module_path='numpy.sign', name='sign', description='', doc_string='None', signature=<Signature (x, out=None, where=True, casting='same_kind', order='K', dtype=None, subok=True, signature=None, extobj=None)>, has_self=False, pre_kwargs=None), 'numpy.signbit': LibEndpoint(service_path='action.execute', module_path='numpy.signbit', name='signbit', description='', doc_string='None', signature=<Signature (x, out=None, where=True, casting='same_kind', order='K', dtype=None, subok=True, signature=None, extobj=None)>, has_self=False, pre_kwargs=None), 'numpy.sin': LibEndpoint(service_path='action.execute', module_path='numpy.sin', name='sin', description='', doc_string='None', signature=<Signature (x, out=None, where=True, casting='same_kind', order='K', dtype=None, subok=True, signature=None, extobj=None)>, has_self=False, pre_kwargs=None), 'numpy.sinh': LibEndpoint(service_path='action.execute', module_path='numpy.sinh', name='sinh', description='', doc_string='None', signature=<Signature (x, out=None, where=True, casting='same_kind', order='K', dtype=None, subok=True, signature=None, extobj=None)>, has_self=False, pre_kwargs=None), 'numpy.spacing': LibEndpoint(service_path='action.execute', module_path='numpy.spacing', name='spacing', description='', doc_string='None', signature=<Signature (x, out=None, where=True, casting='same_kind', order='K', dtype=None, subok=True, signature=None, extobj=None)>, has_self=False, pre_kwargs=None), 'numpy.sqrt': LibEndpoint(service_path='action.execute', module_path='numpy.sqrt', name='sqrt', description='', doc_string='None', signature=<Signature (x, out=None, where=True, casting='same_kind', order='K', dtype=None, subok=True, signature=None, extobj=None)>, has_self=False, pre_kwargs=None), 'numpy.square': LibEndpoint(service_path='action.execute', module_path='numpy.square', name='square', description='', doc_string='None', signature=<Signature (x, out=None, where=True, casting='same_kind', order='K', dtype=None, subok=True, signature=None, extobj=None)>, has_self=False, pre_kwargs=None), 'numpy.subtract': LibEndpoint(service_path='action.execute', module_path='numpy.subtract', name='subtract', description='', doc_string='None', signature=<Signature (x1, x2, out=None, where=True, casting='same_kind', order='K', dtype=None, subok=True, signature=None, extobj=None)>, has_self=False, pre_kwargs=None), 'numpy.tan': LibEndpoint(service_path='action.execute', module_path='numpy.tan', name='tan', description='', doc_string='None', signature=<Signature (x, out=None, where=True, casting='same_kind', order='K', dtype=None, subok=True, signature=None, extobj=None)>, has_self=False, pre_kwargs=None), 'numpy.tanh': LibEndpoint(service_path='action.execute', module_path='numpy.tanh', name='tanh', description='', doc_string='None', signature=<Signature (x, out=None, where=True, casting='same_kind', order='K', dtype=None, subok=True, signature=None, extobj=None)>, has_self=False, pre_kwargs=None), 'numpy.true_divide': LibEndpoint(service_path='action.execute', module_path='numpy.true_divide', name='divide', description='', doc_string='None', signature=<Signature (x1, x2, out=None, where=True, casting='same_kind', order='K', dtype=None, subok=True, signature=None, extobj=None)>, has_self=False, pre_kwargs=None), 'numpy.trunc': LibEndpoint(service_path='action.execute', module_path='numpy.trunc', name='trunc', description='', doc_string='None', signature=<Signature (x, out=None, where=True, casting='same_kind', order='K', dtype=None, subok=True, signature=None, extobj=None)>, has_self=False, pre_kwargs=None), 'numpy.obj2sctype': LibEndpoint(service_path='action.execute', module_path='numpy.obj2sctype', name='obj2sctype', description='', doc_string='None', signature=<Signature (rep, default=None)>, has_self=False, pre_kwargs=None), 'numpy.sctype2char': LibEndpoint(service_path='action.execute', module_path='numpy.sctype2char', name='sctype2char', description='', doc_string='None', signature=<Signature (sctype)>, has_self=False, pre_kwargs=None), 'numpy.maximum_sctype': LibEndpoint(service_path='action.execute', module_path='numpy.maximum_sctype', name='maximum_sctype', description='', doc_string='None', signature=<Signature (t)>, has_self=False, pre_kwargs=None), 'numpy.issctype': LibEndpoint(service_path='action.execute', module_path='numpy.issctype', name='issctype', description='', doc_string='None', signature=<Signature (rep)>, has_self=False, pre_kwargs=None), 'numpy.find_common_type': LibEndpoint(service_path='action.execute', module_path='numpy.find_common_type', name='find_common_type', description='', doc_string='None', signature=<Signature (array_types, scalar_types)>, has_self=False, pre_kwargs=None), 'numpy.issubdtype': LibEndpoint(service_path='action.execute', module_path='numpy.issubdtype', name='issubdtype', description='', doc_string='None', signature=<Signature (arg1, arg2)>, has_self=False, pre_kwargs=None), 'numpy.datetime_data': LibEndpoint(service_path='action.execute', module_path='numpy.datetime_data', name='datetime_data', description='', doc_string='None', signature=<Signature (dtype)>, has_self=False, pre_kwargs=None), 'numpy.datetime_as_string': LibEndpoint(service_path='action.execute', module_path='numpy.datetime_as_string', name='datetime_as_string', description='', doc_string='None', signature=<Signature (arr, unit=None, timezone='naive', casting='same_kind')>, has_self=False, pre_kwargs=None), 'numpy.busday_offset': LibEndpoint(service_path='action.execute', module_path='numpy.busday_offset', name='busday_offset', description='', doc_string='None', signature=<Signature (dates, offsets, roll='raise', weekmask='1111100', holidays=None, busdaycal=None, out=None)>, has_self=False, pre_kwargs=None), 'numpy.busday_count': LibEndpoint(service_path='action.execute', module_path='numpy.busday_count', name='busday_count', description='', doc_string='None', signature=<Signature (begindates, enddates, weekmask='1111100', holidays=[], busdaycal=None, out=None)>, has_self=False, pre_kwargs=None), 'numpy.is_busday': LibEndpoint(service_path='action.execute', module_path='numpy.is_busday', name='is_busday', description='', doc_string='None', signature=<Signature (dates, weekmask='1111100', holidays=None, busdaycal=None, out=None)>, has_self=False, pre_kwargs=None), 'numpy.busdaycalendar': LibEndpoint(service_path='action.execute', module_path='numpy.busdaycalendar', name='busdaycalendar', description='', doc_string='None', signature=<Signature (weekmask='1111100', holidays=None)>, has_self=False, pre_kwargs=None), 'numpy.byte': LibEndpoint(service_path='action.execute', module_path='numpy.byte', name='int8', description='', doc_string='None', signature=<Signature (self, /, *args, **kwargs)>, has_self=False, pre_kwargs=None), 'numpy.ubyte': LibEndpoint(service_path='action.execute', module_path='numpy.ubyte', name='uint8', description='', doc_string='None', signature=<Signature (self, /, *args, **kwargs)>, has_self=False, pre_kwargs=None), 'numpy.short': LibEndpoint(service_path='action.execute', module_path='numpy.short', name='int16', description='', doc_string='None', signature=<Signature (self, /, *args, **kwargs)>, has_self=False, pre_kwargs=None), 'numpy.ushort': LibEndpoint(service_path='action.execute', module_path='numpy.ushort', name='uint16', description='', doc_string='None', signature=<Signature (self, /, *args, **kwargs)>, has_self=False, pre_kwargs=None), 'numpy.uint': LibEndpoint(service_path='action.execute', module_path='numpy.uint', name='uint64', description='', doc_string='None', signature=<Signature (self, /, *args, **kwargs)>, has_self=False, pre_kwargs=None), 'numpy.intp': LibEndpoint(service_path='action.execute', module_path='numpy.intp', name='int64', description='', doc_string='None', signature=<Signature (self, /, *args, **kwargs)>, has_self=False, pre_kwargs=None), 'numpy.uintp': LibEndpoint(service_path='action.execute', module_path='numpy.uintp', name='uint64', description='', doc_string='None', signature=<Signature (self, /, *args, **kwargs)>, has_self=False, pre_kwargs=None), 'numpy.longlong': LibEndpoint(service_path='action.execute', module_path='numpy.longlong', name='longlong', description='', doc_string='None', signature=<Signature (self, /, *args, **kwargs)>, has_self=False, pre_kwargs=None), 'numpy.ulonglong': LibEndpoint(service_path='action.execute', module_path='numpy.ulonglong', name='ulonglong', description='', doc_string='None', signature=<Signature (self, /, *args, **kwargs)>, has_self=False, pre_kwargs=None), 'numpy.half': LibEndpoint(service_path='action.execute', module_path='numpy.half', name='float16', description='', doc_string='None', signature=<Signature (self, /, *args, **kwargs)>, has_self=False, pre_kwargs=None), 'numpy.double': LibEndpoint(service_path='action.execute', module_path='numpy.double', name='float64', description='', doc_string='None', signature=<Signature (x=0, /)>, has_self=False, pre_kwargs=None), 'numpy.longdouble': LibEndpoint(service_path='action.execute', module_path='numpy.longdouble', name='float128', description='', doc_string='None', signature=<Signature (self, /, *args, **kwargs)>, has_self=False, pre_kwargs=None), 'numpy.cfloat': LibEndpoint(service_path='action.execute', module_path='numpy.cfloat', name='complex128', description='', doc_string='None', signature=<Signature (real=0, imag=0)>, has_self=False, pre_kwargs=None), 'numpy.cdouble': LibEndpoint(service_path='action.execute', module_path='numpy.cdouble', name='complex128', description='', doc_string='None', signature=<Signature (real=0, imag=0)>, has_self=False, pre_kwargs=None), 'numpy.clongdouble': LibEndpoint(service_path='action.execute', module_path='numpy.clongdouble', name='complex256', description='', doc_string='None', signature=<Signature (self, /, *args, **kwargs)>, has_self=False, pre_kwargs=None), 'numpy.void': LibEndpoint(service_path='action.execute', module_path='numpy.void', name='void', description='', doc_string='None', signature=<Signature (length_or_data, dtype=None)>, has_self=False, pre_kwargs=None), 'numpy.generic': LibEndpoint(service_path='action.execute', module_path='numpy.generic', name='generic', description='', doc_string='None', signature=<Signature ()>, has_self=False, pre_kwargs=None), 'numpy.number': LibEndpoint(service_path='action.execute', module_path='numpy.number', name='number', description='', doc_string='None', signature=<Signature ()>, has_self=False, pre_kwargs=None), 'numpy.integer': LibEndpoint(service_path='action.execute', module_path='numpy.integer', name='integer', description='', doc_string='None', signature=<Signature ()>, has_self=False, pre_kwargs=None), 'numpy.inexact': LibEndpoint(service_path='action.execute', module_path='numpy.inexact', name='inexact', description='', doc_string='None', signature=<Signature ()>, has_self=False, pre_kwargs=None), 'numpy.signedinteger': LibEndpoint(service_path='action.execute', module_path='numpy.signedinteger', name='signedinteger', description='', doc_string='None', signature=<Signature ()>, has_self=False, pre_kwargs=None), 'numpy.unsignedinteger': LibEndpoint(service_path='action.execute', module_path='numpy.unsignedinteger', name='unsignedinteger', description='', doc_string='None', signature=<Signature ()>, has_self=False, pre_kwargs=None), 'numpy.floating': LibEndpoint(service_path='action.execute', module_path='numpy.floating', name='floating', description='', doc_string='None', signature=<Signature ()>, has_self=False, pre_kwargs=None), 'numpy.complexfloating': LibEndpoint(service_path='action.execute', module_path='numpy.complexfloating', name='complexfloating', description='', doc_string='None', signature=<Signature ()>, has_self=False, pre_kwargs=None), 'numpy.flexible': LibEndpoint(service_path='action.execute', module_path='numpy.flexible', name='flexible', description='', doc_string='None', signature=<Signature ()>, has_self=False, pre_kwargs=None), 'numpy.character': LibEndpoint(service_path='action.execute', module_path='numpy.character', name='character', description='', doc_string='None', signature=<Signature ()>, has_self=False, pre_kwargs=None), 'numpy.int64': LibEndpoint(service_path='action.execute', module_path='numpy.int64', name='int64', description='', doc_string='None', signature=<Signature (self, /, *args, **kwargs)>, has_self=False, pre_kwargs=None), 'numpy.uint64': LibEndpoint(service_path='action.execute', module_path='numpy.uint64', name='uint64', description='', doc_string='None', signature=<Signature (self, /, *args, **kwargs)>, has_self=False, pre_kwargs=None), 'numpy.float16': LibEndpoint(service_path='action.execute', module_path='numpy.float16', name='float16', description='', doc_string='None', signature=<Signature (self, /, *args, **kwargs)>, has_self=False, pre_kwargs=None), 'numpy.float32': LibEndpoint(service_path='action.execute', module_path='numpy.float32', name='float32', description='', doc_string='None', signature=<Signature (self, /, *args, **kwargs)>, has_self=False, pre_kwargs=None), 'numpy.float64': LibEndpoint(service_path='action.execute', module_path='numpy.float64', name='float64', description='', doc_string='None', signature=<Signature (x=0, /)>, has_self=False, pre_kwargs=None), 'numpy.float128': LibEndpoint(service_path='action.execute', module_path='numpy.float128', name='float128', description='', doc_string='None', signature=<Signature (self, /, *args, **kwargs)>, has_self=False, pre_kwargs=None), 'numpy.complex64': LibEndpoint(service_path='action.execute', module_path='numpy.complex64', name='complex64', description='', doc_string='None', signature=<Signature (self, /, *args, **kwargs)>, has_self=False, pre_kwargs=None), 'numpy.complex128': LibEndpoint(service_path='action.execute', module_path='numpy.complex128', name='complex128', description='', doc_string='None', signature=<Signature (real=0, imag=0)>, has_self=False, pre_kwargs=None), 'numpy.complex256': LibEndpoint(service_path='action.execute', module_path='numpy.complex256', name='complex256', description='', doc_string='None', signature=<Signature (self, /, *args, **kwargs)>, has_self=False, pre_kwargs=None), 'numpy.datetime64': LibEndpoint(service_path='action.execute', module_path='numpy.datetime64', name='datetime64', description='', doc_string='None', signature=<Signature (self, /, *args, **kwargs)>, has_self=False, pre_kwargs=None), 'numpy.timedelta64': LibEndpoint(service_path='action.execute', module_path='numpy.timedelta64', name='timedelta64', description='', doc_string='None', signature=<Signature (self, /, *args, **kwargs)>, has_self=False, pre_kwargs=None), 'numpy.int32': LibEndpoint(service_path='action.execute', module_path='numpy.int32', name='int32', description='', doc_string='None', signature=<Signature (self, /, *args, **kwargs)>, has_self=False, pre_kwargs=None), 'numpy.uint32': LibEndpoint(service_path='action.execute', module_path='numpy.uint32', name='uint32', description='', doc_string='None', signature=<Signature (self, /, *args, **kwargs)>, has_self=False, pre_kwargs=None), 'numpy.int16': LibEndpoint(service_path='action.execute', module_path='numpy.int16', name='int16', description='', doc_string='None', signature=<Signature (self, /, *args, **kwargs)>, has_self=False, pre_kwargs=None), 'numpy.uint16': LibEndpoint(service_path='action.execute', module_path='numpy.uint16', name='uint16', description='', doc_string='None', signature=<Signature (self, /, *args, **kwargs)>, has_self=False, pre_kwargs=None), 'numpy.int8': LibEndpoint(service_path='action.execute', module_path='numpy.int8', name='int8', description='', doc_string='None', signature=<Signature (self, /, *args, **kwargs)>, has_self=False, pre_kwargs=None), 'numpy.uint8': LibEndpoint(service_path='action.execute', module_path='numpy.uint8', name='uint8', description='', doc_string='None', signature=<Signature (self, /, *args, **kwargs)>, has_self=False, pre_kwargs=None), 'numpy.complex_': LibEndpoint(service_path='action.execute', module_path='numpy.complex_', name='complex128', description='', doc_string='None', signature=<Signature (real=0, imag=0)>, has_self=False, pre_kwargs=None), 'numpy.single': LibEndpoint(service_path='action.execute', module_path='numpy.single', name='float32', description='', doc_string='None', signature=<Signature (self, /, *args, **kwargs)>, has_self=False, pre_kwargs=None), 'numpy.csingle': LibEndpoint(service_path='action.execute', module_path='numpy.csingle', name='complex64', description='', doc_string='None', signature=<Signature (self, /, *args, **kwargs)>, has_self=False, pre_kwargs=None), 'numpy.singlecomplex': LibEndpoint(service_path='action.execute', module_path='numpy.singlecomplex', name='complex64', description='', doc_string='None', signature=<Signature (self, /, *args, **kwargs)>, has_self=False, pre_kwargs=None), 'numpy.float_': LibEndpoint(service_path='action.execute', module_path='numpy.float_', name='float64', description='', doc_string='None', signature=<Signature (x=0, /)>, has_self=False, pre_kwargs=None), 'numpy.intc': LibEndpoint(service_path='action.execute', module_path='numpy.intc', name='int32', description='', doc_string='None', signature=<Signature (self, /, *args, **kwargs)>, has_self=False, pre_kwargs=None), 'numpy.uintc': LibEndpoint(service_path='action.execute', module_path='numpy.uintc', name='uint32', description='', doc_string='None', signature=<Signature (self, /, *args, **kwargs)>, has_self=False, pre_kwargs=None), 'numpy.int_': LibEndpoint(service_path='action.execute', module_path='numpy.int_', name='int64', description='', doc_string='None', signature=<Signature (self, /, *args, **kwargs)>, has_self=False, pre_kwargs=None), 'numpy.longfloat': LibEndpoint(service_path='action.execute', module_path='numpy.longfloat', name='float128', description='', doc_string='None', signature=<Signature (self, /, *args, **kwargs)>, has_self=False, pre_kwargs=None), 'numpy.clongfloat': LibEndpoint(service_path='action.execute', module_path='numpy.clongfloat', name='complex256', description='', doc_string='None', signature=<Signature (self, /, *args, **kwargs)>, has_self=False, pre_kwargs=None), 'numpy.longcomplex': LibEndpoint(service_path='action.execute', module_path='numpy.longcomplex', name='complex256', description='', doc_string='None', signature=<Signature (self, /, *args, **kwargs)>, has_self=False, pre_kwargs=None), 'numpy.bool_': LibEndpoint(service_path='action.execute', module_path='numpy.bool_', name='bool_', description='', doc_string='None', signature=<Signature (self, /, *args, **kwargs)>, has_self=False, pre_kwargs=None), 'numpy.bytes_': LibEndpoint(service_path='action.execute', module_path='numpy.bytes_', name='bytes_', description='', doc_string='None', signature=<Signature (self, /, *args, **kwargs)>, has_self=False, pre_kwargs=None), 'numpy.string_': LibEndpoint(service_path='action.execute', module_path='numpy.string_', name='bytes_', description='', doc_string='None', signature=<Signature (self, /, *args, **kwargs)>, has_self=False, pre_kwargs=None), 'numpy.str_': LibEndpoint(service_path='action.execute', module_path='numpy.str_', name='str_', description='', doc_string='None', signature=<Signature (self, /, *args, **kwargs)>, has_self=False, pre_kwargs=None), 'numpy.unicode_': LibEndpoint(service_path='action.execute', module_path='numpy.unicode_', name='str_', description='', doc_string='None', signature=<Signature (self, /, *args, **kwargs)>, has_self=False, pre_kwargs=None), 'numpy.object_': LibEndpoint(service_path='action.execute', module_path='numpy.object_', name='object_', description='', doc_string='None', signature=<Signature (self, /, *args, **kwargs)>, has_self=False, pre_kwargs=None), 'numpy.array2string': LibEndpoint(service_path='action.execute', module_path='numpy.array2string', name='array2string', description='', doc_string='None', signature=<Signature (a, max_line_width=None, precision=None, suppress_small=None, separator=' ', prefix='', style=<no value>, formatter=None, threshold=None, edgeitems=None, sign=None, floatmode=None, suffix='', *, legacy=None)>, has_self=False, pre_kwargs=None), 'numpy.array_str': LibEndpoint(service_path='action.execute', module_path='numpy.array_str', name='array_str', description='', doc_string='None', signature=<Signature (a, max_line_width=None, precision=None, suppress_small=None)>, has_self=False, pre_kwargs=None), 'numpy.array_repr': LibEndpoint(service_path='action.execute', module_path='numpy.array_repr', name='array_repr', description='', doc_string='None', signature=<Signature (arr, max_line_width=None, precision=None, suppress_small=None)>, has_self=False, pre_kwargs=None), 'numpy.set_printoptions': LibEndpoint(service_path='action.execute', module_path='numpy.set_printoptions', name='set_printoptions', description='', doc_string='None', signature=<Signature (precision=None, threshold=None, edgeitems=None, linewidth=None, suppress=None, nanstr=None, infstr=None, formatter=None, sign=None, floatmode=None, *, legacy=None)>, has_self=False, pre_kwargs=None), 'numpy.get_printoptions': LibEndpoint(service_path='action.execute', module_path='numpy.get_printoptions', name='get_printoptions', description='', doc_string='None', signature=<Signature ()>, has_self=False, pre_kwargs=None), 'numpy.printoptions': LibEndpoint(service_path='action.execute', module_path='numpy.printoptions', name='printoptions', description='', doc_string='None', signature=<Signature (*args, **kwargs)>, has_self=False, pre_kwargs=None), 'numpy.format_float_positional': LibEndpoint(service_path='action.execute', module_path='numpy.format_float_positional', name='format_float_positional', description='', doc_string='None', signature=<Signature (x, precision=None, unique=True, fractional=True, trim='k', sign=False, pad_left=None, pad_right=None, min_digits=None)>, has_self=False, pre_kwargs=None), 'numpy.format_float_scientific': LibEndpoint(service_path='action.execute', module_path='numpy.format_float_scientific', name='format_float_scientific', description='', doc_string='None', signature=<Signature (x, precision=None, unique=True, trim='k', sign=False, pad_left=None, exp_digits=None, min_digits=None)>, has_self=False, pre_kwargs=None), 'numpy.require': LibEndpoint(service_path='action.execute', module_path='numpy.require', name='require', description='', doc_string='None', signature=<Signature (a, dtype=None, requirements=None, *, like=None)>, has_self=False, pre_kwargs=None), 'numpy.seterr': LibEndpoint(service_path='action.execute', module_path='numpy.seterr', name='seterr', description='', doc_string='None', signature=<Signature (all=None, divide=None, over=None, under=None, invalid=None)>, has_self=False, pre_kwargs=None), 'numpy.geterr': LibEndpoint(service_path='action.execute', module_path='numpy.geterr', name='geterr', description='', doc_string='None', signature=<Signature ()>, has_self=False, pre_kwargs=None), 'numpy.setbufsize': LibEndpoint(service_path='action.execute', module_path='numpy.setbufsize', name='setbufsize', description='', doc_string='None', signature=<Signature (size)>, has_self=False, pre_kwargs=None), 'numpy.getbufsize': LibEndpoint(service_path='action.execute', module_path='numpy.getbufsize', name='getbufsize', description='', doc_string='None', signature=<Signature ()>, has_self=False, pre_kwargs=None), 'numpy.seterrcall': LibEndpoint(service_path='action.execute', module_path='numpy.seterrcall', name='seterrcall', description='', doc_string='None', signature=<Signature (func)>, has_self=False, pre_kwargs=None), 'numpy.geterrcall': LibEndpoint(service_path='action.execute', module_path='numpy.geterrcall', name='geterrcall', description='', doc_string='None', signature=<Signature ()>, has_self=False, pre_kwargs=None), 'numpy.errstate': LibEndpoint(service_path='action.execute', module_path='numpy.errstate', name='errstate', description='', doc_string='None', signature=<Signature (*, call=<numpy.core._ufunc_config._unspecified object at 0x7f0c16dce5f0>, **kwargs)>, has_self=False, pre_kwargs=None), 'numpy._no_nep50_warning': LibEndpoint(service_path='action.execute', module_path='numpy._no_nep50_warning', name='_no_nep50_warning', description='', doc_string='None', signature=<Signature ()>, has_self=False, pre_kwargs=None), 'numpy.record': LibEndpoint(service_path='action.execute', module_path='numpy.record', name='record', description='', doc_string='None', signature=<Signature (self, /, *args, **kwargs)>, has_self=False, pre_kwargs=None), 'numpy.recarray': LibEndpoint(service_path='action.execute', module_path='numpy.recarray', name='recarray', description='', doc_string='None', signature=<Signature (shape, dtype=None, buf=None, offset=0, strides=None, formats=None, names=None, titles=None, byteorder=None, aligned=False, order='C')>, has_self=False, pre_kwargs=None), 'numpy.format_parser': LibEndpoint(service_path='action.execute', module_path='numpy.format_parser', name='format_parser', description='', doc_string='None', signature=<Signature (formats, names, titles, aligned=False, byteorder=None)>, has_self=False, pre_kwargs=None), 'numpy.chararray': LibEndpoint(service_path='action.execute', module_path='numpy.chararray', name='chararray', description='', doc_string='None', signature=<Signature (shape, itemsize=1, unicode=False, buffer=None, offset=0, strides=None, order='C')>, has_self=False, pre_kwargs=None), 'numpy.logspace': LibEndpoint(service_path='action.execute', module_path='numpy.logspace', name='logspace', description='', doc_string='None', signature=<Signature (start, stop, num=50, endpoint=True, base=10.0, dtype=None, axis=0)>, has_self=False, pre_kwargs=None), 'numpy.linspace': LibEndpoint(service_path='action.execute', module_path='numpy.linspace', name='linspace', description='', doc_string='None', signature=<Signature (start, stop, num=50, endpoint=True, retstep=False, dtype=None, axis=0)>, has_self=False, pre_kwargs=None), 'numpy.geomspace': LibEndpoint(service_path='action.execute', module_path='numpy.geomspace', name='geomspace', description='', doc_string='None', signature=<Signature (start, stop, num=50, endpoint=True, dtype=None, axis=0)>, has_self=False, pre_kwargs=None), 'numpy.finfo': LibEndpoint(service_path='action.execute', module_path='numpy.finfo', name='finfo', description='', doc_string='None', signature=<Signature (dtype)>, has_self=False, pre_kwargs=None), 'numpy.iinfo': LibEndpoint(service_path='action.execute', module_path='numpy.iinfo', name='iinfo', description='', doc_string='None', signature=<Signature (int_type)>, has_self=False, pre_kwargs=None), 'numpy.atleast_1d': LibEndpoint(service_path='action.execute', module_path='numpy.atleast_1d', name='atleast_1d', description='', doc_string='None', signature=<Signature (*arys)>, has_self=False, pre_kwargs=None), 'numpy.atleast_2d': LibEndpoint(service_path='action.execute', module_path='numpy.atleast_2d', name='atleast_2d', description='', doc_string='None', signature=<Signature (*arys)>, has_self=False, pre_kwargs=None), 'numpy.atleast_3d': LibEndpoint(service_path='action.execute', module_path='numpy.atleast_3d', name='atleast_3d', description='', doc_string='None', signature=<Signature (*arys)>, has_self=False, pre_kwargs=None), 'numpy.block': LibEndpoint(service_path='action.execute', module_path='numpy.block', name='block', description='', doc_string='None', signature=<Signature (arrays)>, has_self=False, pre_kwargs=None), 'numpy.hstack': LibEndpoint(service_path='action.execute', module_path='numpy.hstack', name='hstack', description='', doc_string='None', signature=<Signature (tup, *, dtype=None, casting='same_kind')>, has_self=False, pre_kwargs=None), 'numpy.stack': LibEndpoint(service_path='action.execute', module_path='numpy.stack', name='stack', description='', doc_string='None', signature=<Signature (arrays, axis=0, out=None, *, dtype=None, casting='same_kind')>, has_self=False, pre_kwargs=None), 'numpy.vstack': LibEndpoint(service_path='action.execute', module_path='numpy.vstack', name='vstack', description='', doc_string='None', signature=<Signature (tup, *, dtype=None, casting='same_kind')>, has_self=False, pre_kwargs=None), 'numpy.einsum': LibEndpoint(service_path='action.execute', module_path='numpy.einsum', name='einsum', description='', doc_string='None', signature=<Signature (*operands, out=None, optimize=False, **kwargs)>, has_self=False, pre_kwargs=None), 'numpy.einsum_path': LibEndpoint(service_path='action.execute', module_path='numpy.einsum_path', name='einsum_path', description='', doc_string='None', signature=<Signature (*operands, optimize='greedy', einsum_call=False)>, has_self=False, pre_kwargs=None), 'numpy.linalg.matrix_power': LibEndpoint(service_path='action.execute', module_path='numpy.linalg.matrix_power', name='matrix_power', description='', doc_string='None', signature=<Signature (a, n)>, has_self=False, pre_kwargs=None), 'numpy.linalg.solve': LibEndpoint(service_path='action.execute', module_path='numpy.linalg.solve', name='solve', description='', doc_string='None', signature=<Signature (a, b)>, has_self=False, pre_kwargs=None), 'numpy.linalg.tensorsolve': LibEndpoint(service_path='action.execute', module_path='numpy.linalg.tensorsolve', name='tensorsolve', description='', doc_string='None', signature=<Signature (a, b, axes=None)>, has_self=False, pre_kwargs=None), 'numpy.linalg.tensorinv': LibEndpoint(service_path='action.execute', module_path='numpy.linalg.tensorinv', name='tensorinv', description='', doc_string='None', signature=<Signature (a, ind=2)>, has_self=False, pre_kwargs=None), 'numpy.linalg.inv': LibEndpoint(service_path='action.execute', module_path='numpy.linalg.inv', name='inv', description='', doc_string='None', signature=<Signature (a)>, has_self=False, pre_kwargs=None), 'numpy.linalg.cholesky': LibEndpoint(service_path='action.execute', module_path='numpy.linalg.cholesky', name='cholesky', description='', doc_string='None', signature=<Signature (a)>, has_self=False, pre_kwargs=None), 'numpy.linalg.eigvals': LibEndpoint(service_path='action.execute', module_path='numpy.linalg.eigvals', name='eigvals', description='', doc_string='None', signature=<Signature (a)>, has_self=False, pre_kwargs=None), 'numpy.linalg.eigvalsh': LibEndpoint(service_path='action.execute', module_path='numpy.linalg.eigvalsh', name='eigvalsh', description='', doc_string='None', signature=<Signature (a, UPLO='L')>, has_self=False, pre_kwargs=None), 'numpy.linalg.pinv': LibEndpoint(service_path='action.execute', module_path='numpy.linalg.pinv', name='pinv', description='', doc_string='None', signature=<Signature (a, rcond=1e-15, hermitian=False)>, has_self=False, pre_kwargs=None), 'numpy.linalg.slogdet': LibEndpoint(service_path='action.execute', module_path='numpy.linalg.slogdet', name='slogdet', description='', doc_string='None', signature=<Signature (a)>, has_self=False, pre_kwargs=None), 'numpy.linalg.det': LibEndpoint(service_path='action.execute', module_path='numpy.linalg.det', name='det', description='', doc_string='None', signature=<Signature (a)>, has_self=False, pre_kwargs=None), 'numpy.linalg.svd': LibEndpoint(service_path='action.execute', module_path='numpy.linalg.svd', name='svd', description='', doc_string='None', signature=<Signature (a, full_matrices=True, compute_uv=True, hermitian=False)>, has_self=False, pre_kwargs=None), 'numpy.linalg.eig': LibEndpoint(service_path='action.execute', module_path='numpy.linalg.eig', name='eig', description='', doc_string='None', signature=<Signature (a)>, has_self=False, pre_kwargs=None), 'numpy.linalg.eigh': LibEndpoint(service_path='action.execute', module_path='numpy.linalg.eigh', name='eigh', description='', doc_string='None', signature=<Signature (a, UPLO='L')>, has_self=False, pre_kwargs=None), 'numpy.linalg.lstsq': LibEndpoint(service_path='action.execute', module_path='numpy.linalg.lstsq', name='lstsq', description='', doc_string='None', signature=<Signature (a, b, rcond='warn')>, has_self=False, pre_kwargs=None), 'numpy.linalg.norm': LibEndpoint(service_path='action.execute', module_path='numpy.linalg.norm', name='norm', description='', doc_string='None', signature=<Signature (x, ord=None, axis=None, keepdims=False)>, has_self=False, pre_kwargs=None), 'numpy.linalg.qr': LibEndpoint(service_path='action.execute', module_path='numpy.linalg.qr', name='qr', description='', doc_string='None', signature=<Signature (a, mode='reduced')>, has_self=False, pre_kwargs=None), 'numpy.linalg.cond': LibEndpoint(service_path='action.execute', module_path='numpy.linalg.cond', name='cond', description='', doc_string='None', signature=<Signature (x, p=None)>, has_self=False, pre_kwargs=None), 'numpy.linalg.matrix_rank': LibEndpoint(service_path='action.execute', module_path='numpy.linalg.matrix_rank', name='matrix_rank', description='', doc_string='None', signature=<Signature (A, tol=None, hermitian=False)>, has_self=False, pre_kwargs=None), 'numpy.linalg.LinAlgError': LibEndpoint(service_path='action.execute', module_path='numpy.linalg.LinAlgError', name='LinAlgError', description='', doc_string='None', signature=<Signature (self, /, *args, **kwargs)>, has_self=False, pre_kwargs=None), 'numpy.linalg.multi_dot': LibEndpoint(service_path='action.execute', module_path='numpy.linalg.multi_dot', name='multi_dot', description='', doc_string='None', signature=<Signature (arrays, *, out=None)>, has_self=False, pre_kwargs=None), 'numpy.emath._tocomplex': LibEndpoint(service_path='action.execute', module_path='numpy.emath._tocomplex', name='_tocomplex', description='', doc_string='None', signature=<Signature (arr)>, has_self=False, pre_kwargs=None), 'numpy.emath._fix_real_lt_zero': LibEndpoint(service_path='action.execute', module_path='numpy.emath._fix_real_lt_zero', name='_fix_real_lt_zero', description='', doc_string='None', signature=<Signature (x)>, has_self=False, pre_kwargs=None), 'numpy.emath._fix_int_lt_zero': LibEndpoint(service_path='action.execute', module_path='numpy.emath._fix_int_lt_zero', name='_fix_int_lt_zero', description='', doc_string='None', signature=<Signature (x)>, has_self=False, pre_kwargs=None), 'numpy.emath._fix_real_abs_gt_1': LibEndpoint(service_path='action.execute', module_path='numpy.emath._fix_real_abs_gt_1', name='_fix_real_abs_gt_1', description='', doc_string='None', signature=<Signature (x)>, has_self=False, pre_kwargs=None), 'numpy.emath._unary_dispatcher': LibEndpoint(service_path='action.execute', module_path='numpy.emath._unary_dispatcher', name='_unary_dispatcher', description='', doc_string='None', signature=<Signature (x)>, has_self=False, pre_kwargs=None), 'numpy.emath.sqrt': LibEndpoint(service_path='action.execute', module_path='numpy.emath.sqrt', name='sqrt', description='', doc_string='None', signature=<Signature (x)>, has_self=False, pre_kwargs=None), 'numpy.emath.log': LibEndpoint(service_path='action.execute', module_path='numpy.emath.log', name='log', description='', doc_string='None', signature=<Signature (x)>, has_self=False, pre_kwargs=None), 'numpy.emath.log10': LibEndpoint(service_path='action.execute', module_path='numpy.emath.log10', name='log10', description='', doc_string='None', signature=<Signature (x)>, has_self=False, pre_kwargs=None), 'numpy.emath._logn_dispatcher': LibEndpoint(service_path='action.execute', module_path='numpy.emath._logn_dispatcher', name='_logn_dispatcher', description='', doc_string='None', signature=<Signature (n, x)>, has_self=False, pre_kwargs=None), 'numpy.emath.logn': LibEndpoint(service_path='action.execute', module_path='numpy.emath.logn', name='logn', description='', doc_string='None', signature=<Signature (n, x)>, has_self=False, pre_kwargs=None), 'numpy.emath.log2': LibEndpoint(service_path='action.execute', module_path='numpy.emath.log2', name='log2', description='', doc_string='None', signature=<Signature (x)>, has_self=False, pre_kwargs=None), 'numpy.emath._power_dispatcher': LibEndpoint(service_path='action.execute', module_path='numpy.emath._power_dispatcher', name='_power_dispatcher', description='', doc_string='None', signature=<Signature (x, p)>, has_self=False, pre_kwargs=None), 'numpy.emath.power': LibEndpoint(service_path='action.execute', module_path='numpy.emath.power', name='power', description='', doc_string='None', signature=<Signature (x, p)>, has_self=False, pre_kwargs=None), 'numpy.emath.arccos': LibEndpoint(service_path='action.execute', module_path='numpy.emath.arccos', name='arccos', description='', doc_string='None', signature=<Signature (x)>, has_self=False, pre_kwargs=None), 'numpy.emath.arcsin': LibEndpoint(service_path='action.execute', module_path='numpy.emath.arcsin', name='arcsin', description='', doc_string='None', signature=<Signature (x)>, has_self=False, pre_kwargs=None), 'numpy.emath.arctanh': LibEndpoint(service_path='action.execute', module_path='numpy.emath.arctanh', name='arctanh', description='', doc_string='None', signature=<Signature (x)>, has_self=False, pre_kwargs=None), 'numpy.iscomplexobj': LibEndpoint(service_path='action.execute', module_path='numpy.iscomplexobj', name='iscomplexobj', description='', doc_string='None', signature=<Signature (x)>, has_self=False, pre_kwargs=None), 'numpy.isrealobj': LibEndpoint(service_path='action.execute', module_path='numpy.isrealobj', name='isrealobj', description='', doc_string='None', signature=<Signature (x)>, has_self=False, pre_kwargs=None), 'numpy.imag': LibEndpoint(service_path='action.execute', module_path='numpy.imag', name='imag', description='', doc_string='None', signature=<Signature (val)>, has_self=False, pre_kwargs=None), 'numpy.iscomplex': LibEndpoint(service_path='action.execute', module_path='numpy.iscomplex', name='iscomplex', description='', doc_string='None', signature=<Signature (x)>, has_self=False, pre_kwargs=None), 'numpy.isreal': LibEndpoint(service_path='action.execute', module_path='numpy.isreal', name='isreal', description='', doc_string='None', signature=<Signature (x)>, has_self=False, pre_kwargs=None), 'numpy.nan_to_num': LibEndpoint(service_path='action.execute', module_path='numpy.nan_to_num', name='nan_to_num', description='', doc_string='None', signature=<Signature (x, copy=True, nan=0.0, posinf=None, neginf=None)>, has_self=False, pre_kwargs=None), 'numpy.real': LibEndpoint(service_path='action.execute', module_path='numpy.real', name='real', description='', doc_string='None', signature=<Signature (val)>, has_self=False, pre_kwargs=None), 'numpy.real_if_close': LibEndpoint(service_path='action.execute', module_path='numpy.real_if_close', name='real_if_close', description='', doc_string='None', signature=<Signature (a, tol=100)>, has_self=False, pre_kwargs=None), 'numpy.typename': LibEndpoint(service_path='action.execute', module_path='numpy.typename', name='typename', description='', doc_string='None', signature=<Signature (char)>, has_self=False, pre_kwargs=None), 'numpy.asfarray': LibEndpoint(service_path='action.execute', module_path='numpy.asfarray', name='asfarray', description='', doc_string='None', signature=<Signature (a, dtype=<class 'numpy.float64'>)>, has_self=False, pre_kwargs=None), 'numpy.mintypecode': LibEndpoint(service_path='action.execute', module_path='numpy.mintypecode', name='mintypecode', description='', doc_string='None', signature=<Signature (typechars, typeset='GDFgdf', default='d')>, has_self=False, pre_kwargs=None), 'numpy.common_type': LibEndpoint(service_path='action.execute', module_path='numpy.common_type', name='common_type', description='', doc_string='None', signature=<Signature (*arrays)>, has_self=False, pre_kwargs=None), 'numpy.ravel_multi_index': LibEndpoint(service_path='action.execute', module_path='numpy.ravel_multi_index', name='ravel_multi_index', description='', doc_string='None', signature=<Signature (multi_index, dims, mode='raise', order='C')>, has_self=False, pre_kwargs=None), 'numpy.unravel_index': LibEndpoint(service_path='action.execute', module_path='numpy.unravel_index', name='unravel_index', description='', doc_string='None', signature=<Signature (indices, shape, order='C')>, has_self=False, pre_kwargs=None), 'numpy.ix_': LibEndpoint(service_path='action.execute', module_path='numpy.ix_', name='ix_', description='', doc_string='None', signature=<Signature (*args)>, has_self=False, pre_kwargs=None), 'numpy.ndenumerate': LibEndpoint(service_path='action.execute', module_path='numpy.ndenumerate', name='ndenumerate', description='', doc_string='None', signature=<Signature (arr)>, has_self=False, pre_kwargs=None), 'numpy.ndindex': LibEndpoint(service_path='action.execute', module_path='numpy.ndindex', name='ndindex', description='', doc_string='None', signature=<Signature (*shape)>, has_self=False, pre_kwargs=None), 'numpy.fill_diagonal': LibEndpoint(service_path='action.execute', module_path='numpy.fill_diagonal', name='fill_diagonal', description='', doc_string='None', signature=<Signature (a, val, wrap=False)>, has_self=False, pre_kwargs=None), 'numpy.diag_indices': LibEndpoint(service_path='action.execute', module_path='numpy.diag_indices', name='diag_indices', description='', doc_string='None', signature=<Signature (n, ndim=2)>, has_self=False, pre_kwargs=None), 'numpy.diag_indices_from': LibEndpoint(service_path='action.execute', module_path='numpy.diag_indices_from', name='diag_indices_from', description='', doc_string='None', signature=<Signature (arr)>, has_self=False, pre_kwargs=None), 'numpy.select': LibEndpoint(service_path='action.execute', module_path='numpy.select', name='select', description='', doc_string='None', signature=<Signature (condlist, choicelist, default=0)>, has_self=False, pre_kwargs=None), 'numpy.piecewise': LibEndpoint(service_path='action.execute', module_path='numpy.piecewise', name='piecewise', description='', doc_string='None', signature=<Signature (x, condlist, funclist, *args, **kw)>, has_self=False, pre_kwargs=None), 'numpy.trim_zeros': LibEndpoint(service_path='action.execute', module_path='numpy.trim_zeros', name='trim_zeros', description='', doc_string='None', signature=<Signature (filt, trim='fb')>, has_self=False, pre_kwargs=None), 'numpy.copy': LibEndpoint(service_path='action.execute', module_path='numpy.copy', name='copy', description='', doc_string='None', signature=<Signature (a, order='K', subok=False)>, has_self=False, pre_kwargs=None), 'numpy.iterable': LibEndpoint(service_path='action.execute', module_path='numpy.iterable', name='iterable', description='', doc_string='None', signature=<Signature (y)>, has_self=False, pre_kwargs=None), 'numpy.percentile': LibEndpoint(service_path='action.execute', module_path='numpy.percentile', name='percentile', description='', doc_string='None', signature=<Signature (a, q, axis=None, out=None, overwrite_input=False, method='linear', keepdims=False, *, interpolation=None)>, has_self=False, pre_kwargs=None), 'numpy.diff': LibEndpoint(service_path='action.execute', module_path='numpy.diff', name='diff', description='', doc_string='None', signature=<Signature (a, n=1, axis=-1, prepend=<no value>, append=<no value>)>, has_self=False, pre_kwargs=None), 'numpy.gradient': LibEndpoint(service_path='action.execute', module_path='numpy.gradient', name='gradient', description='', doc_string='None', signature=<Signature (f, *varargs, axis=None, edge_order=1)>, has_self=False, pre_kwargs=None), 'numpy.angle': LibEndpoint(service_path='action.execute', module_path='numpy.angle', name='angle', description='', doc_string='None', signature=<Signature (z, deg=False)>, has_self=False, pre_kwargs=None), 'numpy.unwrap': LibEndpoint(service_path='action.execute', module_path='numpy.unwrap', name='unwrap', description='', doc_string='None', signature=<Signature (p, discont=None, axis=-1, *, period=6.283185307179586)>, has_self=False, pre_kwargs=None), 'numpy.sort_complex': LibEndpoint(service_path='action.execute', module_path='numpy.sort_complex', name='sort_complex', description='', doc_string='None', signature=<Signature (a)>, has_self=False, pre_kwargs=None), 'numpy.flip': LibEndpoint(service_path='action.execute', module_path='numpy.flip', name='flip', description='', doc_string='None', signature=<Signature (m, axis=None)>, has_self=False, pre_kwargs=None), 'numpy.rot90': LibEndpoint(service_path='action.execute', module_path='numpy.rot90', name='rot90', description='', doc_string='None', signature=<Signature (m, k=1, axes=(0, 1))>, has_self=False, pre_kwargs=None), 'numpy.extract': LibEndpoint(service_path='action.execute', module_path='numpy.extract', name='extract', description='', doc_string='None', signature=<Signature (condition, arr)>, has_self=False, pre_kwargs=None), 'numpy.place': LibEndpoint(service_path='action.execute', module_path='numpy.place', name='place', description='', doc_string='None', signature=<Signature (arr, mask, vals)>, has_self=False, pre_kwargs=None), 'numpy.vectorize': LibEndpoint(service_path='action.execute', module_path='numpy.vectorize', name='vectorize', description='', doc_string='None', signature=<Signature (pyfunc, otypes=None, doc=None, excluded=None, cache=False, signature=None)>, has_self=False, pre_kwargs=None), 'numpy.asarray_chkfinite': LibEndpoint(service_path='action.execute', module_path='numpy.asarray_chkfinite', name='asarray_chkfinite', description='', doc_string='None', signature=<Signature (a, dtype=None, order=None)>, has_self=False, pre_kwargs=None), 'numpy.average': LibEndpoint(service_path='action.execute', module_path='numpy.average', name='average', description='', doc_string='None', signature=<Signature (a, axis=None, weights=None, returned=False, *, keepdims=<no value>)>, has_self=False, pre_kwargs=None), 'numpy.bincount': LibEndpoint(service_path='action.execute', module_path='numpy.bincount', name='bincount', description='', doc_string='None', signature=<Signature (x, weights=None, minlength=0)>, has_self=False, pre_kwargs=None), 'numpy.digitize': LibEndpoint(service_path='action.execute', module_path='numpy.digitize', name='digitize', description='', doc_string='None', signature=<Signature (x, bins, right=False)>, has_self=False, pre_kwargs=None), 'numpy.cov': LibEndpoint(service_path='action.execute', module_path='numpy.cov', name='cov', description='', doc_string='None', signature=<Signature (m, y=None, rowvar=True, bias=False, ddof=None, fweights=None, aweights=None, *, dtype=None)>, has_self=False, pre_kwargs=None), 'numpy.corrcoef': LibEndpoint(service_path='action.execute', module_path='numpy.corrcoef', name='corrcoef', description='', doc_string='None', signature=<Signature (x, y=None, rowvar=True, bias=<no value>, ddof=<no value>, *, dtype=None)>, has_self=False, pre_kwargs=None), 'numpy.msort': LibEndpoint(service_path='action.execute', module_path='numpy.msort', name='msort', description='', doc_string='None', signature=<Signature (a)>, has_self=False, pre_kwargs=None), 'numpy.median': LibEndpoint(service_path='action.execute', module_path='numpy.median', name='median', description='', doc_string='None', signature=<Signature (a, axis=None, out=None, overwrite_input=False, keepdims=False)>, has_self=False, pre_kwargs=None), 'numpy.sinc': LibEndpoint(service_path='action.execute', module_path='numpy.sinc', name='sinc', description='', doc_string='None', signature=<Signature (x)>, has_self=False, pre_kwargs=None), 'numpy.hamming': LibEndpoint(service_path='action.execute', module_path='numpy.hamming', name='hamming', description='', doc_string='None', signature=<Signature (M)>, has_self=False, pre_kwargs=None), 'numpy.hanning': LibEndpoint(service_path='action.execute', module_path='numpy.hanning', name='hanning', description='', doc_string='None', signature=<Signature (M)>, has_self=False, pre_kwargs=None), 'numpy.bartlett': LibEndpoint(service_path='action.execute', module_path='numpy.bartlett', name='bartlett', description='', doc_string='None', signature=<Signature (M)>, has_self=False, pre_kwargs=None), 'numpy.blackman': LibEndpoint(service_path='action.execute', module_path='numpy.blackman', name='blackman', description='', doc_string='None', signature=<Signature (M)>, has_self=False, pre_kwargs=None), 'numpy.kaiser': LibEndpoint(service_path='action.execute', module_path='numpy.kaiser', name='kaiser', description='', doc_string='None', signature=<Signature (M, beta)>, has_self=False, pre_kwargs=None), 'numpy.trapz': LibEndpoint(service_path='action.execute', module_path='numpy.trapz', name='trapz', description='', doc_string='None', signature=<Signature (y, x=None, dx=1.0, axis=-1)>, has_self=False, pre_kwargs=None), 'numpy.i0': LibEndpoint(service_path='action.execute', module_path='numpy.i0', name='i0', description='', doc_string='None', signature=<Signature (x)>, has_self=False, pre_kwargs=None), 'numpy.meshgrid': LibEndpoint(service_path='action.execute', module_path='numpy.meshgrid', name='meshgrid', description='', doc_string='None', signature=<Signature (*xi, copy=True, sparse=False, indexing='xy')>, has_self=False, pre_kwargs=None), 'numpy.delete': LibEndpoint(service_path='action.execute', module_path='numpy.delete', name='delete', description='', doc_string='None', signature=<Signature (arr, obj, axis=None)>, has_self=False, pre_kwargs=None), 'numpy.insert': LibEndpoint(service_path='action.execute', module_path='numpy.insert', name='insert', description='', doc_string='None', signature=<Signature (arr, obj, values, axis=None)>, has_self=False, pre_kwargs=None), 'numpy.append': LibEndpoint(service_path='action.execute', module_path='numpy.append', name='append', description='', doc_string='None', signature=<Signature (arr, values, axis=None)>, has_self=False, pre_kwargs=None), 'numpy.interp': LibEndpoint(service_path='action.execute', module_path='numpy.interp', name='interp', description='', doc_string='None', signature=<Signature (x, xp, fp, left=None, right=None, period=None)>, has_self=False, pre_kwargs=None), 'numpy.quantile': LibEndpoint(service_path='action.execute', module_path='numpy.quantile', name='quantile', description='', doc_string='None', signature=<Signature (a, q, axis=None, out=None, overwrite_input=False, method='linear', keepdims=False, *, interpolation=None)>, has_self=False, pre_kwargs=None), 'numpy.column_stack': LibEndpoint(service_path='action.execute', module_path='numpy.column_stack', name='column_stack', description='', doc_string='None', signature=<Signature (tup)>, has_self=False, pre_kwargs=None), 'numpy.row_stack': LibEndpoint(service_path='action.execute', module_path='numpy.row_stack', name='vstack', description='', doc_string='None', signature=<Signature (tup, *, dtype=None, casting='same_kind')>, has_self=False, pre_kwargs=None), 'numpy.dstack': LibEndpoint(service_path='action.execute', module_path='numpy.dstack', name='dstack', description='', doc_string='None', signature=<Signature (tup)>, has_self=False, pre_kwargs=None), 'numpy.array_split': LibEndpoint(service_path='action.execute', module_path='numpy.array_split', name='array_split', description='', doc_string='None', signature=<Signature (ary, indices_or_sections, axis=0)>, has_self=False, pre_kwargs=None), 'numpy.split': LibEndpoint(service_path='action.execute', module_path='numpy.split', name='split', description='', doc_string='None', signature=<Signature (ary, indices_or_sections, axis=0)>, has_self=False, pre_kwargs=None), 'numpy.hsplit': LibEndpoint(service_path='action.execute', module_path='numpy.hsplit', name='hsplit', description='', doc_string='None', signature=<Signature (ary, indices_or_sections)>, has_self=False, pre_kwargs=None), 'numpy.vsplit': LibEndpoint(service_path='action.execute', module_path='numpy.vsplit', name='vsplit', description='', doc_string='None', signature=<Signature (ary, indices_or_sections)>, has_self=False, pre_kwargs=None), 'numpy.dsplit': LibEndpoint(service_path='action.execute', module_path='numpy.dsplit', name='dsplit', description='', doc_string='None', signature=<Signature (ary, indices_or_sections)>, has_self=False, pre_kwargs=None), 'numpy.apply_over_axes': LibEndpoint(service_path='action.execute', module_path='numpy.apply_over_axes', name='apply_over_axes', description='', doc_string='None', signature=<Signature (func, a, axes)>, has_self=False, pre_kwargs=None), 'numpy.expand_dims': LibEndpoint(service_path='action.execute', module_path='numpy.expand_dims', name='expand_dims', description='', doc_string='None', signature=<Signature (a, axis)>, has_self=False, pre_kwargs=None), 'numpy.apply_along_axis': LibEndpoint(service_path='action.execute', module_path='numpy.apply_along_axis', name='apply_along_axis', description='', doc_string='None', signature=<Signature (func1d, axis, arr, *args, **kwargs)>, has_self=False, pre_kwargs=None), 'numpy.kron': LibEndpoint(service_path='action.execute', module_path='numpy.kron', name='kron', description='', doc_string='None', signature=<Signature (a, b)>, has_self=False, pre_kwargs=None), 'numpy.tile': LibEndpoint(service_path='action.execute', module_path='numpy.tile', name='tile', description='', doc_string='None', signature=<Signature (A, reps)>, has_self=False, pre_kwargs=None), 'numpy.take_along_axis': LibEndpoint(service_path='action.execute', module_path='numpy.take_along_axis', name='take_along_axis', description='', doc_string='None', signature=<Signature (arr, indices, axis)>, has_self=False, pre_kwargs=None), 'numpy.put_along_axis': LibEndpoint(service_path='action.execute', module_path='numpy.put_along_axis', name='put_along_axis', description='', doc_string='None', signature=<Signature (arr, indices, values, axis)>, has_self=False, pre_kwargs=None), 'numpy.broadcast_to': LibEndpoint(service_path='action.execute', module_path='numpy.broadcast_to', name='broadcast_to', description='', doc_string='None', signature=<Signature (array, shape, subok=False)>, has_self=False, pre_kwargs=None), 'numpy.broadcast_arrays': LibEndpoint(service_path='action.execute', module_path='numpy.broadcast_arrays', name='broadcast_arrays', description='', doc_string='None', signature=<Signature (*args, subok=False)>, has_self=False, pre_kwargs=None), 'numpy.broadcast_shapes': LibEndpoint(service_path='action.execute', module_path='numpy.broadcast_shapes', name='broadcast_shapes', description='', doc_string='None', signature=<Signature (*args)>, has_self=False, pre_kwargs=None), 'numpy.diag': LibEndpoint(service_path='action.execute', module_path='numpy.diag', name='diag', description='', doc_string='None', signature=<Signature (v, k=0)>, has_self=False, pre_kwargs=None), 'numpy.diagflat': LibEndpoint(service_path='action.execute', module_path='numpy.diagflat', name='diagflat', description='', doc_string='None', signature=<Signature (v, k=0)>, has_self=False, pre_kwargs=None), 'numpy.eye': LibEndpoint(service_path='action.execute', module_path='numpy.eye', name='eye', description='', doc_string='None', signature=<Signature (N, M=None, k=0, dtype=<class 'float'>, order='C', *, like=None)>, has_self=False, pre_kwargs=None), 'numpy.fliplr': LibEndpoint(service_path='action.execute', module_path='numpy.fliplr', name='fliplr', description='', doc_string='None', signature=<Signature (m)>, has_self=False, pre_kwargs=None), 'numpy.flipud': LibEndpoint(service_path='action.execute', module_path='numpy.flipud', name='flipud', description='', doc_string='None', signature=<Signature (m)>, has_self=False, pre_kwargs=None), 'numpy.tri': LibEndpoint(service_path='action.execute', module_path='numpy.tri', name='tri', description='', doc_string='None', signature=<Signature (N, M=None, k=0, dtype=<class 'float'>, *, like=None)>, has_self=False, pre_kwargs=None), 'numpy.triu': LibEndpoint(service_path='action.execute', module_path='numpy.triu', name='triu', description='', doc_string='None', signature=<Signature (m, k=0)>, has_self=False, pre_kwargs=None), 'numpy.tril': LibEndpoint(service_path='action.execute', module_path='numpy.tril', name='tril', description='', doc_string='None', signature=<Signature (m, k=0)>, has_self=False, pre_kwargs=None), 'numpy.vander': LibEndpoint(service_path='action.execute', module_path='numpy.vander', name='vander', description='', doc_string='None', signature=<Signature (x, N=None, increasing=False)>, has_self=False, pre_kwargs=None), 'numpy.histogram2d': LibEndpoint(service_path='action.execute', module_path='numpy.histogram2d', name='histogram2d', description='', doc_string='None', signature=<Signature (x, y, bins=10, range=None, density=None, weights=None)>, has_self=False, pre_kwargs=None), 'numpy.mask_indices': LibEndpoint(service_path='action.execute', module_path='numpy.mask_indices', name='mask_indices', description='', doc_string='None', signature=<Signature (n, mask_func, k=0)>, has_self=False, pre_kwargs=None), 'numpy.tril_indices': LibEndpoint(service_path='action.execute', module_path='numpy.tril_indices', name='tril_indices', description='', doc_string='None', signature=<Signature (n, k=0, m=None)>, has_self=False, pre_kwargs=None), 'numpy.tril_indices_from': LibEndpoint(service_path='action.execute', module_path='numpy.tril_indices_from', name='tril_indices_from', description='', doc_string='None', signature=<Signature (arr, k=0)>, has_self=False, pre_kwargs=None), 'numpy.triu_indices': LibEndpoint(service_path='action.execute', module_path='numpy.triu_indices', name='triu_indices', description='', doc_string='None', signature=<Signature (n, k=0, m=None)>, has_self=False, pre_kwargs=None), 'numpy.triu_indices_from': LibEndpoint(service_path='action.execute', module_path='numpy.triu_indices_from', name='triu_indices_from', description='', doc_string='None', signature=<Signature (arr, k=0)>, has_self=False, pre_kwargs=None), 'numpy.fix': LibEndpoint(service_path='action.execute', module_path='numpy.fix', name='fix', description='', doc_string='None', signature=<Signature (x, out=None)>, has_self=False, pre_kwargs=None), 'numpy.isneginf': LibEndpoint(service_path='action.execute', module_path='numpy.isneginf', name='isneginf', description='', doc_string='None', signature=<Signature (x, out=None)>, has_self=False, pre_kwargs=None), 'numpy.isposinf': LibEndpoint(service_path='action.execute', module_path='numpy.isposinf', name='isposinf', description='', doc_string='None', signature=<Signature (x, out=None)>, has_self=False, pre_kwargs=None), 'numpy.pad': LibEndpoint(service_path='action.execute', module_path='numpy.pad', name='pad', description='', doc_string='None', signature=<Signature (array, pad_width, mode='constant', **kwargs)>, has_self=False, pre_kwargs=None), 'numpy.poly': LibEndpoint(service_path='action.execute', module_path='numpy.poly', name='poly', description='', doc_string='None', signature=<Signature (seq_of_zeros)>, has_self=False, pre_kwargs=None), 'numpy.roots': LibEndpoint(service_path='action.execute', module_path='numpy.roots', name='roots', description='', doc_string='None', signature=<Signature (p)>, has_self=False, pre_kwargs=None), 'numpy.polyint': LibEndpoint(service_path='action.execute', module_path='numpy.polyint', name='polyint', description='', doc_string='None', signature=<Signature (p, m=1, k=None)>, has_self=False, pre_kwargs=None), 'numpy.polyder': LibEndpoint(service_path='action.execute', module_path='numpy.polyder', name='polyder', description='', doc_string='None', signature=<Signature (p, m=1)>, has_self=False, pre_kwargs=None), 'numpy.polyadd': LibEndpoint(service_path='action.execute', module_path='numpy.polyadd', name='polyadd', description='', doc_string='None', signature=<Signature (a1, a2)>, has_self=False, pre_kwargs=None), 'numpy.polysub': LibEndpoint(service_path='action.execute', module_path='numpy.polysub', name='polysub', description='', doc_string='None', signature=<Signature (a1, a2)>, has_self=False, pre_kwargs=None), 'numpy.polymul': LibEndpoint(service_path='action.execute', module_path='numpy.polymul', name='polymul', description='', doc_string='None', signature=<Signature (a1, a2)>, has_self=False, pre_kwargs=None), 'numpy.polydiv': LibEndpoint(service_path='action.execute', module_path='numpy.polydiv', name='polydiv', description='', doc_string='None', signature=<Signature (u, v)>, has_self=False, pre_kwargs=None), 'numpy.polyval': LibEndpoint(service_path='action.execute', module_path='numpy.polyval', name='polyval', description='', doc_string='None', signature=<Signature (p, x)>, has_self=False, pre_kwargs=None), 'numpy.poly1d': LibEndpoint(service_path='action.execute', module_path='numpy.poly1d', name='poly1d', description='', doc_string='None', signature=<Signature (c_or_r, r=False, variable=None)>, has_self=False, pre_kwargs=None), 'numpy.polyfit': LibEndpoint(service_path='action.execute', module_path='numpy.polyfit', name='polyfit', description='', doc_string='None', signature=<Signature (x, y, deg, rcond=None, full=False, w=None, cov=False)>, has_self=False, pre_kwargs=None), 'numpy.RankWarning': LibEndpoint(service_path='action.execute', module_path='numpy.RankWarning', name='RankWarning', description='', doc_string='None', signature=<Signature (self, /, *args, **kwargs)>, has_self=False, pre_kwargs=None), 'numpy.issubclass_': LibEndpoint(service_path='action.execute', module_path='numpy.issubclass_', name='issubclass_', description='', doc_string='None', signature=<Signature (arg1, arg2)>, has_self=False, pre_kwargs=None), 'numpy.issubsctype': LibEndpoint(service_path='action.execute', module_path='numpy.issubsctype', name='issubsctype', description='', doc_string='None', signature=<Signature (arg1, arg2)>, has_self=False, pre_kwargs=None), 'numpy.info': LibEndpoint(service_path='action.execute', module_path='numpy.info', name='info', description='', doc_string='None', signature=<Signature (object=None, maxwidth=76, output=None, toplevel='numpy')>, has_self=False, pre_kwargs=None), 'numpy.lookfor': LibEndpoint(service_path='action.execute', module_path='numpy.lookfor', name='lookfor', description='', doc_string='None', signature=<Signature (what, module=None, import_modules=True, regenerate=False, output=None)>, has_self=False, pre_kwargs=None), 'numpy.ediff1d': LibEndpoint(service_path='action.execute', module_path='numpy.ediff1d', name='ediff1d', description='', doc_string='None', signature=<Signature (ary, to_end=None, to_begin=None)>, has_self=False, pre_kwargs=None), 'numpy.intersect1d': LibEndpoint(service_path='action.execute', module_path='numpy.intersect1d', name='intersect1d', description='', doc_string='None', signature=<Signature (ar1, ar2, assume_unique=False, return_indices=False)>, has_self=False, pre_kwargs=None), 'numpy.setxor1d': LibEndpoint(service_path='action.execute', module_path='numpy.setxor1d', name='setxor1d', description='', doc_string='None', signature=<Signature (ar1, ar2, assume_unique=False)>, has_self=False, pre_kwargs=None), 'numpy.union1d': LibEndpoint(service_path='action.execute', module_path='numpy.union1d', name='union1d', description='', doc_string='None', signature=<Signature (ar1, ar2)>, has_self=False, pre_kwargs=None), 'numpy.setdiff1d': LibEndpoint(service_path='action.execute', module_path='numpy.setdiff1d', name='setdiff1d', description='', doc_string='None', signature=<Signature (ar1, ar2, assume_unique=False)>, has_self=False, pre_kwargs=None), 'numpy.unique': LibEndpoint(service_path='action.execute', module_path='numpy.unique', name='unique', description='', doc_string='None', signature=<Signature (ar, return_index=False, return_inverse=False, return_counts=False, axis=None, *, equal_nan=True)>, has_self=False, pre_kwargs=None), 'numpy.in1d': LibEndpoint(service_path='action.execute', module_path='numpy.in1d', name='in1d', description='', doc_string='None', signature=<Signature (ar1, ar2, assume_unique=False, invert=False, *, kind=None)>, has_self=False, pre_kwargs=None), 'numpy.isin': LibEndpoint(service_path='action.execute', module_path='numpy.isin', name='isin', description='', doc_string='None', signature=<Signature (element, test_elements, assume_unique=False, invert=False, *, kind=None)>, has_self=False, pre_kwargs=None), 'numpy.savetxt': LibEndpoint(service_path='action.execute', module_path='numpy.savetxt', name='savetxt', description='', doc_string='None', signature=<Signature (fname, X, fmt='%.18e', delimiter=' ', newline='\\n', header='', footer='', comments='# ', encoding=None)>, has_self=False, pre_kwargs=None), 'numpy.loadtxt': LibEndpoint(service_path='action.execute', module_path='numpy.loadtxt', name='loadtxt', description='', doc_string='None', signature=<Signature (fname, dtype=<class 'float'>, comments='#', delimiter=None, converters=None, skiprows=0, usecols=None, unpack=False, ndmin=0, encoding='bytes', max_rows=None, *, quotechar=None, like=None)>, has_self=False, pre_kwargs=None), 'numpy.genfromtxt': LibEndpoint(service_path='action.execute', module_path='numpy.genfromtxt', name='genfromtxt', description='', doc_string='None', signature=<Signature (fname, dtype=<class 'float'>, comments='#', delimiter=None, skip_header=0, skip_footer=0, converters=None, missing_values=None, filling_values=None, usecols=None, names=None, excludelist=None, deletechars=\" !#$%&'()*+,-./:;<=>?@[\\\\]^{|}~\", replace_space='_', autostrip=False, case_sensitive=True, defaultfmt='f%i', unpack=None, usemask=False, loose=True, invalid_raise=True, max_rows=None, encoding='bytes', *, ndmin=0, like=None)>, has_self=False, pre_kwargs=None), 'numpy.load': LibEndpoint(service_path='action.execute', module_path='numpy.load', name='load', description='', doc_string='None', signature=<Signature (file, mmap_mode=None, allow_pickle=False, fix_imports=True, encoding='ASCII', *, max_header_size=10000)>, has_self=False, pre_kwargs=None), 'numpy.save': LibEndpoint(service_path='action.execute', module_path='numpy.save', name='save', description='', doc_string='None', signature=<Signature (file, arr, allow_pickle=True, fix_imports=True)>, has_self=False, pre_kwargs=None), 'numpy.savez': LibEndpoint(service_path='action.execute', module_path='numpy.savez', name='savez', description='', doc_string='None', signature=<Signature (file, *args, **kwds)>, has_self=False, pre_kwargs=None), 'numpy.savez_compressed': LibEndpoint(service_path='action.execute', module_path='numpy.savez_compressed', name='savez_compressed', description='', doc_string='None', signature=<Signature (file, *args, **kwds)>, has_self=False, pre_kwargs=None), 'numpy.packbits': LibEndpoint(service_path='action.execute', module_path='numpy.packbits', name='packbits', description='', doc_string='None', signature=<Signature (a, axis=None, bitorder='big')>, has_self=False, pre_kwargs=None), 'numpy.unpackbits': LibEndpoint(service_path='action.execute', module_path='numpy.unpackbits', name='unpackbits', description='', doc_string='None', signature=<Signature (a, axis=None, count=None, bitorder='big')>, has_self=False, pre_kwargs=None), 'numpy.fromregex': LibEndpoint(service_path='action.execute', module_path='numpy.fromregex', name='fromregex', description='', doc_string='None', signature=<Signature (file, regexp, dtype, encoding=None)>, has_self=False, pre_kwargs=None), 'numpy.DataSource': LibEndpoint(service_path='action.execute', module_path='numpy.DataSource', name='DataSource', description='', doc_string='None', signature=<Signature (destpath='.')>, has_self=False, pre_kwargs=None), 'numpy.nansum': LibEndpoint(service_path='action.execute', module_path='numpy.nansum', name='nansum', description='', doc_string='None', signature=<Signature (a, axis=None, dtype=None, out=None, keepdims=<no value>, initial=<no value>, where=<no value>)>, has_self=False, pre_kwargs=None), 'numpy.nanmax': LibEndpoint(service_path='action.execute', module_path='numpy.nanmax', name='nanmax', description='', doc_string='None', signature=<Signature (a, axis=None, out=None, keepdims=<no value>, initial=<no value>, where=<no value>)>, has_self=False, pre_kwargs=None), 'numpy.nanmin': LibEndpoint(service_path='action.execute', module_path='numpy.nanmin', name='nanmin', description='', doc_string='None', signature=<Signature (a, axis=None, out=None, keepdims=<no value>, initial=<no value>, where=<no value>)>, has_self=False, pre_kwargs=None), 'numpy.nanargmax': LibEndpoint(service_path='action.execute', module_path='numpy.nanargmax', name='nanargmax', description='', doc_string='None', signature=<Signature (a, axis=None, out=None, *, keepdims=<no value>)>, has_self=False, pre_kwargs=None), 'numpy.nanargmin': LibEndpoint(service_path='action.execute', module_path='numpy.nanargmin', name='nanargmin', description='', doc_string='None', signature=<Signature (a, axis=None, out=None, *, keepdims=<no value>)>, has_self=False, pre_kwargs=None), 'numpy.nanmean': LibEndpoint(service_path='action.execute', module_path='numpy.nanmean', name='nanmean', description='', doc_string='None', signature=<Signature (a, axis=None, dtype=None, out=None, keepdims=<no value>, *, where=<no value>)>, has_self=False, pre_kwargs=None), 'numpy.nanmedian': LibEndpoint(service_path='action.execute', module_path='numpy.nanmedian', name='nanmedian', description='', doc_string='None', signature=<Signature (a, axis=None, out=None, overwrite_input=False, keepdims=<no value>)>, has_self=False, pre_kwargs=None), 'numpy.nanpercentile': LibEndpoint(service_path='action.execute', module_path='numpy.nanpercentile', name='nanpercentile', description='', doc_string='None', signature=<Signature (a, q, axis=None, out=None, overwrite_input=False, method='linear', keepdims=<no value>, *, interpolation=None)>, has_self=False, pre_kwargs=None), 'numpy.nanvar': LibEndpoint(service_path='action.execute', module_path='numpy.nanvar', name='nanvar', description='', doc_string='None', signature=<Signature (a, axis=None, dtype=None, out=None, ddof=0, keepdims=<no value>, *, where=<no value>)>, has_self=False, pre_kwargs=None), 'numpy.nanstd': LibEndpoint(service_path='action.execute', module_path='numpy.nanstd', name='nanstd', description='', doc_string='None', signature=<Signature (a, axis=None, dtype=None, out=None, ddof=0, keepdims=<no value>, *, where=<no value>)>, has_self=False, pre_kwargs=None), 'numpy.nanprod': LibEndpoint(service_path='action.execute', module_path='numpy.nanprod', name='nanprod', description='', doc_string='None', signature=<Signature (a, axis=None, dtype=None, out=None, keepdims=<no value>, initial=<no value>, where=<no value>)>, has_self=False, pre_kwargs=None), 'numpy.nancumsum': LibEndpoint(service_path='action.execute', module_path='numpy.nancumsum', name='nancumsum', description='', doc_string='None', signature=<Signature (a, axis=None, dtype=None, out=None)>, has_self=False, pre_kwargs=None), 'numpy.nancumprod': LibEndpoint(service_path='action.execute', module_path='numpy.nancumprod', name='nancumprod', description='', doc_string='None', signature=<Signature (a, axis=None, dtype=None, out=None)>, has_self=False, pre_kwargs=None), 'numpy.nanquantile': LibEndpoint(service_path='action.execute', module_path='numpy.nanquantile', name='nanquantile', description='', doc_string='None', signature=<Signature (a, q, axis=None, out=None, overwrite_input=False, method='linear', keepdims=<no value>, *, interpolation=None)>, has_self=False, pre_kwargs=None), 'numpy.histogram': LibEndpoint(service_path='action.execute', module_path='numpy.histogram', name='histogram', description='', doc_string='None', signature=<Signature (a, bins=10, range=None, density=None, weights=None)>, has_self=False, pre_kwargs=None), 'numpy.histogramdd': LibEndpoint(service_path='action.execute', module_path='numpy.histogramdd', name='histogramdd', description='', doc_string='None', signature=<Signature (sample, bins=10, range=None, density=None, weights=None)>, has_self=False, pre_kwargs=None), 'numpy.histogram_bin_edges': LibEndpoint(service_path='action.execute', module_path='numpy.histogram_bin_edges', name='histogram_bin_edges', description='', doc_string='None', signature=<Signature (a, bins=10, range=None, weights=None)>, has_self=False, pre_kwargs=None), 'numpy.fft.fft': LibEndpoint(service_path='action.execute', module_path='numpy.fft.fft', name='fft', description='', doc_string='None', signature=<Signature (a, n=None, axis=-1, norm=None)>, has_self=False, pre_kwargs=None), 'numpy.fft.ifft': LibEndpoint(service_path='action.execute', module_path='numpy.fft.ifft', name='ifft', description='', doc_string='None', signature=<Signature (a, n=None, axis=-1, norm=None)>, has_self=False, pre_kwargs=None), 'numpy.fft.rfft': LibEndpoint(service_path='action.execute', module_path='numpy.fft.rfft', name='rfft', description='', doc_string='None', signature=<Signature (a, n=None, axis=-1, norm=None)>, has_self=False, pre_kwargs=None), 'numpy.fft.irfft': LibEndpoint(service_path='action.execute', module_path='numpy.fft.irfft', name='irfft', description='', doc_string='None', signature=<Signature (a, n=None, axis=-1, norm=None)>, has_self=False, pre_kwargs=None), 'numpy.fft.hfft': LibEndpoint(service_path='action.execute', module_path='numpy.fft.hfft', name='hfft', description='', doc_string='None', signature=<Signature (a, n=None, axis=-1, norm=None)>, has_self=False, pre_kwargs=None), 'numpy.fft.ihfft': LibEndpoint(service_path='action.execute', module_path='numpy.fft.ihfft', name='ihfft', description='', doc_string='None', signature=<Signature (a, n=None, axis=-1, norm=None)>, has_self=False, pre_kwargs=None), 'numpy.fft.rfftn': LibEndpoint(service_path='action.execute', module_path='numpy.fft.rfftn', name='rfftn', description='', doc_string='None', signature=<Signature (a, s=None, axes=None, norm=None)>, has_self=False, pre_kwargs=None), 'numpy.fft.irfftn': LibEndpoint(service_path='action.execute', module_path='numpy.fft.irfftn', name='irfftn', description='', doc_string='None', signature=<Signature (a, s=None, axes=None, norm=None)>, has_self=False, pre_kwargs=None), 'numpy.fft.rfft2': LibEndpoint(service_path='action.execute', module_path='numpy.fft.rfft2', name='rfft2', description='', doc_string='None', signature=<Signature (a, s=None, axes=(-2, -1), norm=None)>, has_self=False, pre_kwargs=None), 'numpy.fft.irfft2': LibEndpoint(service_path='action.execute', module_path='numpy.fft.irfft2', name='irfft2', description='', doc_string='None', signature=<Signature (a, s=None, axes=(-2, -1), norm=None)>, has_self=False, pre_kwargs=None), 'numpy.fft.fft2': LibEndpoint(service_path='action.execute', module_path='numpy.fft.fft2', name='fft2', description='', doc_string='None', signature=<Signature (a, s=None, axes=(-2, -1), norm=None)>, has_self=False, pre_kwargs=None), 'numpy.fft.ifft2': LibEndpoint(service_path='action.execute', module_path='numpy.fft.ifft2', name='ifft2', description='', doc_string='None', signature=<Signature (a, s=None, axes=(-2, -1), norm=None)>, has_self=False, pre_kwargs=None), 'numpy.fft.fftn': LibEndpoint(service_path='action.execute', module_path='numpy.fft.fftn', name='fftn', description='', doc_string='None', signature=<Signature (a, s=None, axes=None, norm=None)>, has_self=False, pre_kwargs=None), 'numpy.fft.ifftn': LibEndpoint(service_path='action.execute', module_path='numpy.fft.ifftn', name='ifftn', description='', doc_string='None', signature=<Signature (a, s=None, axes=None, norm=None)>, has_self=False, pre_kwargs=None), 'numpy.fft.fftshift': LibEndpoint(service_path='action.execute', module_path='numpy.fft.fftshift', name='fftshift', description='', doc_string='None', signature=<Signature (x, axes=None)>, has_self=False, pre_kwargs=None), 'numpy.fft.ifftshift': LibEndpoint(service_path='action.execute', module_path='numpy.fft.ifftshift', name='ifftshift', description='', doc_string='None', signature=<Signature (x, axes=None)>, has_self=False, pre_kwargs=None), 'numpy.fft.fftfreq': LibEndpoint(service_path='action.execute', module_path='numpy.fft.fftfreq', name='fftfreq', description='', doc_string='None', signature=<Signature (n, d=1.0)>, has_self=False, pre_kwargs=None), 'numpy.fft.rfftfreq': LibEndpoint(service_path='action.execute', module_path='numpy.fft.rfftfreq', name='rfftfreq', description='', doc_string='None', signature=<Signature (n, d=1.0)>, has_self=False, pre_kwargs=None), 'numpy.polynomial.set_default_printstyle': LibEndpoint(service_path='action.execute', module_path='numpy.polynomial.set_default_printstyle', name='set_default_printstyle', description='', doc_string='None', signature=<Signature (style)>, has_self=False, pre_kwargs=None), 'numpy.random.__RandomState_ctor': LibEndpoint(service_path='action.execute', module_path='numpy.random.__RandomState_ctor', name='__RandomState_ctor', description='', doc_string='None', signature=<Signature ()>, has_self=False, pre_kwargs=None), 'numpy.matrix': LibEndpoint(service_path='action.execute', module_path='numpy.matrix', name='matrix', description='', doc_string='None', signature=<Signature (data, dtype=None, copy=True)>, has_self=False, pre_kwargs=None), 'numpy.bmat': LibEndpoint(service_path='action.execute', module_path='numpy.bmat', name='bmat', description='', doc_string='None', signature=<Signature (obj, ldict=None, gdict=None)>, has_self=False, pre_kwargs=None), 'numpy.mat': LibEndpoint(service_path='action.execute', module_path='numpy.mat', name='asmatrix', description='', doc_string='None', signature=<Signature (data, dtype=None)>, has_self=False, pre_kwargs=None), 'numpy.asmatrix': LibEndpoint(service_path='action.execute', module_path='numpy.asmatrix', name='asmatrix', description='', doc_string='None', signature=<Signature (data, dtype=None)>, has_self=False, pre_kwargs=None), 'numpy.round': LibEndpoint(service_path='action.execute', module_path='numpy.round', name='round_', description='', doc_string='None', signature=<Signature (a, decimals=0, out=None)>, has_self=False, pre_kwargs=None), 'numpy.abs': LibEndpoint(service_path='action.execute', module_path='numpy.abs', name='absolute', description='', doc_string='None', signature=<Signature (x, out=None, where=True, casting='same_kind', order='K', dtype=None, subok=True, signature=None, extobj=None)>, has_self=False, pre_kwargs=None), 'numpy.max': LibEndpoint(service_path='action.execute', module_path='numpy.max', name='amax', description='', doc_string='None', signature=<Signature (a, axis=None, out=None, keepdims=<no value>, initial=<no value>, where=<no value>)>, has_self=False, pre_kwargs=None), 'numpy.min': LibEndpoint(service_path='action.execute', module_path='numpy.min', name='amin', description='', doc_string='None', signature=<Signature (a, axis=None, out=None, keepdims=<no value>, initial=<no value>, where=<no value>)>, has_self=False, pre_kwargs=None), 'numpy.__getattr__': LibEndpoint(service_path='action.execute', module_path='numpy.__getattr__', name='__getattr__', description='', doc_string='None', signature=<Signature (attr)>, has_self=False, pre_kwargs=None), 'numpy.__dir__': LibEndpoint(service_path='action.execute', module_path='numpy.__dir__', name='__dir__', description='', doc_string='None', signature=<Signature ()>, has_self=False, pre_kwargs=None), 'numpy._pyinstaller_hooks_dir': LibEndpoint(service_path='action.execute', module_path='numpy._pyinstaller_hooks_dir', name='_pyinstaller_hooks_dir', description='', doc_string='None', signature=<Signature ()>, has_self=False, pre_kwargs=None)}\n",
       "  api_module: str = <syft.client.api.APIModule object at 0x7f0c14b35ae0>\n",
       "  libs: str = <syft.client.api.APIModule object at 0x7f0c16c15450>\n",
       "  signing_key: str = 7bca415d13ed1ec841f0d0aede098dbba7ddf23ba8d94400a7dc095091b87053\n",
       "  refresh_api_callback: str = <function SyftClient._fetch_api.<locals>.refresh_callback at 0x7f0c4012f250>\n",
       "\n",
       "```"
      ],
      "text/plain": [
       "client.api.services\n",
       "\n",
       "client.api.services.data_subject\n",
       "\n",
       "client.api.services.data_subject.add_data_subject(data_subject: syft.service.data_subject.data_subject.DataSubjectCreate) -> Union[syft.service.response.SyftSuccess, syft.service.response.SyftError]\n",
       "\n",
       "client.api.services.data_subject.get_all() -> Union[List[syft.service.data_subject.data_subject.DataSubject], syft.service.response.SyftError]\n",
       "\n",
       "client.api.services.data_subject.members_for(data_subject_name: str) -> Union[List[syft.service.data_subject.data_subject.DataSubject], syft.service.response.SyftError]\n",
       "\n",
       "client.api.services.data_subject.get_by_name(name: str) -> Union[syft.service.response.SyftSuccess, syft.service.response.SyftError]\n",
       "\n",
       "\n",
       "client.api.services.user\n",
       "\n",
       "client.api.services.user.create(user_create: syft.service.user.user.UserCreate) -> Union[syft.service.user.user.UserView, syft.service.response.SyftError]\n",
       "\n",
       "client.api.services.user.view(uid: syft.types.uid.UID) -> Union[syft.service.user.user.UserView, None, syft.service.response.SyftError]\n",
       "\n",
       "client.api.services.user.get_all() -> Union[syft.service.user.user.UserView, None, syft.service.response.SyftError]\n",
       "\n",
       "client.api.services.user.search(args: Any, id: syft.types.uid.UID, email: pydantic.networks.EmailStr, verify_key: syft.node.credentials.SyftVerifyKey, name: str) -> Union[List[syft.service.user.user.UserView], syft.service.response.SyftError]\n",
       "\n",
       "client.api.services.user.update(uid: syft.types.uid.UID, user_update: syft.service.user.user.UserUpdate) -> Union[syft.service.user.user.UserView, syft.service.response.SyftError]\n",
       "\n",
       "client.api.services.user.delete(uid: syft.types.uid.UID) -> Union[bool, syft.service.response.SyftError]\n",
       "\n",
       "\n",
       "client.api.services.network\n",
       "\n",
       "client.api.services.network.exchange_credentials_with(peer: Optional[syft.service.network.network_service.NodePeer, None] = None, client: Optional[syft.client.client.SyftClient, None] = None) -> Union[syft.service.response.SyftSuccess, syft.service.response.SyftError]\n",
       "\n",
       "client.api.services.network.add_peer(peer: syft.service.network.network_service.NodePeer) -> Union[syft.service.metadata.node_metadata.NodeMetadata, syft.service.response.SyftError]\n",
       "\n",
       "client.api.services.network.add_route_for(route: syft.service.network.network_service.NodeRoute, peer: Optional[syft.service.network.network_service.NodePeer, None] = None, client: Optional[syft.client.client.SyftClient, None] = None) -> Union[syft.service.response.SyftSuccess, syft.service.response.SyftError]\n",
       "\n",
       "client.api.services.network.verify_route(route: syft.service.network.network_service.NodeRoute) -> Union[syft.service.response.SyftSuccess, syft.service.response.SyftError]\n",
       "\n",
       "client.api.services.network.get_all_peers() -> Union[List[syft.service.network.network_service.NodePeer], syft.service.response.SyftError]\n",
       "\n",
       "client.api.services.network.join_vpn(peer: Optional[syft.service.network.network_service.NodePeer, None] = None, client: Optional[syft.client.client.SyftClient, None] = None) -> Union[syft.service.response.SyftSuccess, syft.service.response.SyftError]\n",
       "\n",
       "client.api.services.network.vpn_status() -> Union[syft.service.vpn.tailscale_client.TailscaleStatus, syft.service.response.SyftError]\n",
       "\n",
       "client.api.services.network.register_to_vpn() -> Union[syft.service.vpn.headscale_client.HeadscaleAuthToken, syft.service.response.SyftError]\n",
       "\n",
       "\n",
       "client.api.services.policy\n",
       "\n",
       "client.api.services.policy.get_all() -> Union[List[syft.service.policy.policy.UserPolicy], syft.service.response.SyftError]\n",
       "\n",
       "client.api.services.policy.add(policy_code: Union[syft.service.policy.policy.SubmitUserPolicy, syft.service.policy.policy.UserPolicy]) -> Union[syft.service.response.SyftSuccess, syft.service.response.SyftError]\n",
       "\n",
       "client.api.services.policy.get_by_uid(uid: syft.types.uid.UID) -> Union[syft.service.response.SyftSuccess, syft.service.response.SyftError]\n",
       "\n",
       "\n",
       "client.api.services.action\n",
       "\n",
       "client.api.services.action.np_array(data: Any) -> Any\n",
       "\n",
       "client.api.services.action.set(action_object: Union[syft.service.action.action_object.ActionObject, syft.types.twin_object.TwinObject]) -> Union[result.result.Ok[syft.service.action.action_object.ActionObject], result.result.Err[str]]\n",
       "\n",
       "client.api.services.action.save(action_object: Union[syft.service.action.action_object.ActionObject, syft.types.twin_object.TwinObject]) -> Union[result.result.Ok[syft.service.response.SyftSuccess], result.result.Err[str]]\n",
       "\n",
       "client.api.services.action.get(uid: syft.types.uid.UID, twin_mode: syft.service.action.action_object.TwinMode = <TwinMode.PRIVATE: 1>) -> Union[result.result.Ok[result.result.Ok[syft.service.action.action_object.ActionObject]], result.result.Err[result.result.Err[str]]]\n",
       "\n",
       "client.api.services.action.get_pointer(uid: syft.types.uid.UID) -> Union[result.result.Ok[syft.service.action.action_object.ActionObjectPointer], result.result.Err[str]]\n",
       "\n",
       "client.api.services.action.execute(action: syft.service.action.action_object.Action) -> Union[result.result.Ok[syft.service.action.action_object.ActionObject], result.result.Err[result.result.Err]]\n",
       "\n",
       "client.api.services.action.exists(obj_id: syft.types.uid.UID) -> Union[result.result.Ok[syft.service.response.SyftSuccess], result.result.Err[syft.service.response.SyftError]]\n",
       "\n",
       "\n",
       "client.api.services.messages\n",
       "\n",
       "client.api.services.messages.send(message: syft.service.message.messages.CreateMessage) -> Union[syft.service.message.messages.Message, syft.service.response.SyftError]\n",
       "\n",
       "client.api.services.messages.get_all() -> Union[List[syft.service.message.messages.Message], syft.service.response.SyftError]\n",
       "\n",
       "client.api.services.messages.outbox() -> Union[List[syft.service.message.messages.Message], syft.service.response.SyftError]\n",
       "\n",
       "client.api.services.messages.get_all_for_status(status: syft.service.message.messages.MessageStatus) -> Union[List[syft.service.message.messages.Message], syft.service.response.SyftError]\n",
       "\n",
       "client.api.services.messages.mark_as_delivered(uid: syft.types.uid.UID) -> Union[syft.service.message.messages.Message, syft.service.response.SyftError]\n",
       "\n",
       "client.api.services.messages.resolve_object(linked_obj: syft.store.linked_obj.LinkedObject) -> Union[syft.service.message.messages.Message, syft.service.response.SyftError]\n",
       "\n",
       "client.api.services.messages.clear() -> Union[syft.service.response.SyftError, syft.service.response.SyftSuccess]\n",
       "\n",
       "\n",
       "client.api.services.request\n",
       "\n",
       "client.api.services.request.submit(request: syft.service.request.request.SubmitRequest, send_message: bool = True) -> Union[syft.service.request.request.Request, syft.service.response.SyftError]\n",
       "\n",
       "client.api.services.request.get_all() -> Union[List[syft.service.request.request.Request], syft.service.response.SyftError]\n",
       "\n",
       "client.api.services.request.get_all_for_status(status: syft.service.request.request.RequestStatus) -> Union[List[syft.service.request.request.Request], syft.service.response.SyftError]\n",
       "\n",
       "client.api.services.request.apply(uid: syft.types.uid.UID) -> Union[syft.service.response.SyftSuccess, syft.service.response.SyftError]\n",
       "\n",
       "client.api.services.request.revert(uid: syft.types.uid.UID) -> Union[syft.service.response.SyftSuccess, syft.service.response.SyftError]\n",
       "\n",
       "\n",
       "client.api.services.code\n",
       "\n",
       "client.api.services.code.submit(code: syft.service.code.user_code.SubmitUserCode) -> Union[syft.service.code.user_code.UserCode, syft.service.response.SyftError]\n",
       "\n",
       "client.api.services.code.request_code_execution(code: syft.service.code.user_code.SubmitUserCode) -> Union[syft.service.response.SyftSuccess, syft.service.response.SyftError]\n",
       "\n",
       "client.api.services.code.get_all() -> Union[List[syft.service.code.user_code.UserCode], syft.service.response.SyftError]\n",
       "\n",
       "client.api.services.code.get_by_id(uid: syft.types.uid.UID) -> Union[syft.service.response.SyftSuccess, syft.service.response.SyftError]\n",
       "\n",
       "client.api.services.code.get_all_for_user() -> Union[syft.service.response.SyftSuccess, syft.service.response.SyftError]\n",
       "\n",
       "client.api.services.code.call(uid: syft.types.uid.UID, **kwargs: Any) -> Union[syft.service.response.SyftSuccess, syft.service.response.SyftError]\n",
       "\n",
       "\n",
       "client.api.services.dataset\n",
       "\n",
       "client.api.services.dataset.add(dataset: syft.service.dataset.dataset.CreateDataset) -> Union[syft.service.response.SyftSuccess, syft.service.response.SyftError]\n",
       "\n",
       "client.api.services.dataset.get_all() -> Union[List[syft.service.dataset.dataset.Dataset], syft.service.response.SyftError]\n",
       "\n",
       "client.api.services.dataset.search(name: str) -> Union[List[syft.service.dataset.dataset.Dataset], syft.service.response.SyftError]\n",
       "\n",
       "client.api.services.dataset.get_by_id(uid: syft.types.uid.UID) -> Union[syft.service.response.SyftSuccess, syft.service.response.SyftError]\n",
       "\n",
       "client.api.services.dataset.get_by_action_id(uid: syft.types.uid.UID) -> Union[List[syft.service.dataset.dataset.Dataset], syft.service.response.SyftError]\n",
       "\n",
       "client.api.services.dataset.get_assets_by_action_id(uid: syft.types.uid.UID) -> Union[List[syft.service.dataset.dataset.Asset], syft.service.response.SyftError]\n",
       "\n",
       "client.api.services.dataset.dataset_delete_by_id(uid: syft.types.uid.UID)\n",
       "\n",
       "\n",
       "client.api.services.metadata\n",
       "\n",
       "client.api.services.metadata.get() -> Union[result.result.Ok[result.result.Ok], result.result.Err[result.result.Err]]\n",
       "\n",
       "client.api.services.metadata.set(metadata: syft.service.metadata.node_metadata.NodeMetadata) -> Union[result.result.Ok[result.result.Ok], result.result.Err[result.result.Err]]\n",
       "\n",
       "client.api.services.metadata.update(metadata: syft.service.metadata.node_metadata.NodeMetadataUpdate) -> Union[result.result.Ok[result.result.Ok], result.result.Err[result.result.Err]]\n",
       "\n",
       "\n",
       "client.api.services.project\n",
       "\n",
       "client.api.services.project.submit(project: syft.service.project.project.ProjectSubmit) -> Union[syft.service.response.SyftSuccess, syft.service.response.SyftError]\n",
       "\n",
       "client.api.services.project.get_all() -> Union[List[syft.service.project.project.Project], syft.service.response.SyftError]\n",
       "\n",
       "\n",
       "client.api.services.newproject\n",
       "\n",
       "client.api.services.newproject.create_project(project: syft.service.project.project.NewProjectSubmit, project_id: syft.types.uid.UID) -> Union[syft.service.response.SyftSuccess, syft.service.response.SyftError]\n",
       "\n",
       "client.api.services.newproject.add_event(project_event: syft.service.project.project.ProjectEvent) -> Union[syft.service.response.SyftSuccess, syft.service.response.SyftError]\n",
       "\n",
       "client.api.services.newproject.broadcast_event(project_event: syft.service.project.project.ProjectEvent) -> Union[syft.service.response.SyftSuccess, syft.service.response.SyftError]\n",
       "\n",
       "client.api.services.newproject.get_all() -> Union[List[syft.service.project.project.NewProject], syft.service.response.SyftError]\n"
      ]
     },
     "execution_count": 4,
     "metadata": {},
     "output_type": "execute_result"
    }
   ],
   "source": [
    "domain_client.api"
   ]
  },
  {
   "cell_type": "code",
   "execution_count": 5,
   "metadata": {
    "tags": []
   },
   "outputs": [],
   "source": [
    "data_subjects = domain_client.api.services.data_subject.get_all()"
   ]
  },
  {
   "cell_type": "code",
   "execution_count": 6,
   "metadata": {
    "tags": []
   },
   "outputs": [
    {
     "data": {
      "text/html": [
       "[]"
      ],
      "text/plain": [
       "[]"
      ]
     },
     "execution_count": 6,
     "metadata": {},
     "output_type": "execute_result"
    }
   ],
   "source": [
    "data_subjects"
   ]
  },
  {
   "cell_type": "code",
   "execution_count": 7,
   "metadata": {
    "tags": []
   },
   "outputs": [],
   "source": [
    "assert len(data_subjects) == 0"
   ]
  },
  {
   "cell_type": "code",
   "execution_count": 8,
   "metadata": {
    "tags": []
   },
   "outputs": [],
   "source": [
    "country = sy.DataSubject(name=\"Country\", aliases=[\"country_code\"])"
   ]
  },
  {
   "cell_type": "code",
   "execution_count": 9,
   "metadata": {
    "tags": []
   },
   "outputs": [],
   "source": [
    "canada = sy.DataSubject(name=\"Canada\", aliases=[\"country_code:ca\"])\n",
    "germany = sy.DataSubject(name=\"Germany\", aliases=[\"country_code:de\"])\n",
    "spain = sy.DataSubject(name=\"Spain\", aliases=[\"country_code:es\"])\n",
    "france = sy.DataSubject(name=\"France\", aliases=[\"country_code:fr\"])\n",
    "japan = sy.DataSubject(name=\"Japan\", aliases=[\"country_code:jp\"])\n",
    "uk = sy.DataSubject(name=\"United Kingdom\", aliases=[\"country_code:uk\"])\n",
    "usa = sy.DataSubject(name=\"United States of America\", aliases=[\"country_code:us\"])\n",
    "australia = sy.DataSubject(name=\"Australia\", aliases=[\"country_code:au\"])\n",
    "india = sy.DataSubject(name=\"India\", aliases=[\"country_code:in\"])"
   ]
  },
  {
   "cell_type": "code",
   "execution_count": 10,
   "metadata": {
    "tags": []
   },
   "outputs": [
    {
     "data": {
      "text/html": [
       "Dict - Size: 9\n",
       "<div>\n",
       "<style scoped>\n",
       "    .dataframe tbody tr th:only-of-type {\n",
       "        vertical-align: middle;\n",
       "    }\n",
       "\n",
       "    .dataframe tbody tr th {\n",
       "        vertical-align: top;\n",
       "    }\n",
       "\n",
       "    .dataframe thead th {\n",
       "        text-align: right;\n",
       "    }\n",
       "</style>\n",
       "<table border=\"1\" class=\"dataframe\">\n",
       "  <thead>\n",
       "    <tr style=\"text-align: right;\">\n",
       "      <th></th>\n",
       "      <th>key</th>\n",
       "      <th>type</th>\n",
       "      <th>id</th>\n",
       "    </tr>\n",
       "  </thead>\n",
       "  <tbody>\n",
       "    <tr>\n",
       "      <th>0</th>\n",
       "      <td>Canada</td>\n",
       "      <td>&lt;DataSubject: Canada&gt;</td>\n",
       "      <td>None</td>\n",
       "    </tr>\n",
       "    <tr>\n",
       "      <th>1</th>\n",
       "      <td>Germany</td>\n",
       "      <td>&lt;DataSubject: Germany&gt;</td>\n",
       "      <td>None</td>\n",
       "    </tr>\n",
       "    <tr>\n",
       "      <th>2</th>\n",
       "      <td>Spain</td>\n",
       "      <td>&lt;DataSubject: Spain&gt;</td>\n",
       "      <td>None</td>\n",
       "    </tr>\n",
       "    <tr>\n",
       "      <th>3</th>\n",
       "      <td>France</td>\n",
       "      <td>&lt;DataSubject: France&gt;</td>\n",
       "      <td>None</td>\n",
       "    </tr>\n",
       "    <tr>\n",
       "      <th>4</th>\n",
       "      <td>Japan</td>\n",
       "      <td>&lt;DataSubject: Japan&gt;</td>\n",
       "      <td>None</td>\n",
       "    </tr>\n",
       "  </tbody>\n",
       "</table>\n",
       "</div>"
      ],
      "text/plain": [
       "{'Canada': <DataSubject: Canada>,\n",
       " 'Germany': <DataSubject: Germany>,\n",
       " 'Spain': <DataSubject: Spain>,\n",
       " 'France': <DataSubject: France>,\n",
       " 'Japan': <DataSubject: Japan>,\n",
       " 'United Kingdom': <DataSubject: United Kingdom>,\n",
       " 'United States of America': <DataSubject: United States of America>,\n",
       " 'Australia': <DataSubject: Australia>,\n",
       " 'India': <DataSubject: India>}"
      ]
     },
     "execution_count": 10,
     "metadata": {},
     "output_type": "execute_result"
    }
   ],
   "source": [
    "country.add_member(canada)\n",
    "country.add_member(germany)\n",
    "country.add_member(spain)\n",
    "country.add_member(france)\n",
    "country.add_member(japan)\n",
    "country.add_member(uk)\n",
    "country.add_member(usa)\n",
    "country.add_member(australia)\n",
    "country.add_member(india)\n",
    "\n",
    "country.members"
   ]
  },
  {
   "cell_type": "code",
   "execution_count": 11,
   "metadata": {
    "tags": []
   },
   "outputs": [],
   "source": [
    "registry = domain_client.data_subject_registry"
   ]
  },
  {
   "cell_type": "code",
   "execution_count": 12,
   "metadata": {
    "tags": []
   },
   "outputs": [],
   "source": [
    "response = registry.add_data_subject(country)"
   ]
  },
  {
   "cell_type": "code",
   "execution_count": 13,
   "metadata": {
    "tags": []
   },
   "outputs": [
    {
     "data": {
      "text/html": [
       "<div class=\"alert-success\" style=\"padding:5px;\"><strong>SyftSuccess</strong>: 10 Data Subjects Registered</div><br />"
      ],
      "text/plain": [
       "<class 'syft.service.response.SyftSuccess'>: 10 Data Subjects Registered"
      ]
     },
     "execution_count": 13,
     "metadata": {},
     "output_type": "execute_result"
    }
   ],
   "source": [
    "response"
   ]
  },
  {
   "cell_type": "code",
   "execution_count": 14,
   "metadata": {
    "tags": []
   },
   "outputs": [],
   "source": [
    "assert response"
   ]
  },
  {
   "cell_type": "code",
   "execution_count": 15,
   "metadata": {
    "tags": []
   },
   "outputs": [
    {
     "data": {
      "text/html": [
       "List - Size: 10\n",
       "<div>\n",
       "<style scoped>\n",
       "    .dataframe tbody tr th:only-of-type {\n",
       "        vertical-align: middle;\n",
       "    }\n",
       "\n",
       "    .dataframe tbody tr th {\n",
       "        vertical-align: top;\n",
       "    }\n",
       "\n",
       "    .dataframe thead th {\n",
       "        text-align: right;\n",
       "    }\n",
       "</style>\n",
       "<table border=\"1\" class=\"dataframe\">\n",
       "  <thead>\n",
       "    <tr style=\"text-align: right;\">\n",
       "      <th></th>\n",
       "      <th>type</th>\n",
       "      <th>id</th>\n",
       "    </tr>\n",
       "  </thead>\n",
       "  <tbody>\n",
       "    <tr>\n",
       "      <th>0</th>\n",
       "      <td>&lt;DataSubject: Spain&gt;</td>\n",
       "      <td>0630810655b345609a313cd202e2dced</td>\n",
       "    </tr>\n",
       "    <tr>\n",
       "      <th>1</th>\n",
       "      <td>&lt;DataSubject: Canada&gt;</td>\n",
       "      <td>4345c4fdb41048f08a32573329df8bed</td>\n",
       "    </tr>\n",
       "    <tr>\n",
       "      <th>2</th>\n",
       "      <td>&lt;DataSubject: Country&gt;</td>\n",
       "      <td>689e95d15c674b6e80cfb583b6d8e098</td>\n",
       "    </tr>\n",
       "    <tr>\n",
       "      <th>3</th>\n",
       "      <td>&lt;DataSubject: United States of America&gt;</td>\n",
       "      <td>817d9c9c55524469ba29a56b07ec3f1e</td>\n",
       "    </tr>\n",
       "    <tr>\n",
       "      <th>4</th>\n",
       "      <td>&lt;DataSubject: Japan&gt;</td>\n",
       "      <td>b8b26cb4a7b84ee18ffcceadd9b30d6f</td>\n",
       "    </tr>\n",
       "  </tbody>\n",
       "</table>\n",
       "</div>"
      ],
      "text/plain": [
       "<syft.client.api.APIModule at 0x7f0c14b35c60>"
      ]
     },
     "execution_count": 15,
     "metadata": {},
     "output_type": "execute_result"
    }
   ],
   "source": [
    "domain_client.data_subject_registry"
   ]
  },
  {
   "cell_type": "code",
   "execution_count": 16,
   "metadata": {
    "tags": []
   },
   "outputs": [],
   "source": [
    "data_subjects = domain_client.api.services.data_subject.get_all()"
   ]
  },
  {
   "cell_type": "code",
   "execution_count": 17,
   "metadata": {
    "tags": []
   },
   "outputs": [],
   "source": [
    "assert len(data_subjects) == 10"
   ]
  },
  {
   "cell_type": "code",
   "execution_count": 18,
   "metadata": {
    "tags": []
   },
   "outputs": [],
   "source": [
    "canada_dataset_url = \"https://github.com/OpenMined/datasets/blob/main/trade_flow/ca%20-%20feb%202021.csv?raw=True\""
   ]
  },
  {
   "cell_type": "code",
   "execution_count": 19,
   "metadata": {
    "tags": []
   },
   "outputs": [],
   "source": [
    "import pandas as pd"
   ]
  },
  {
   "cell_type": "code",
   "execution_count": 20,
   "metadata": {
    "tags": []
   },
   "outputs": [
    {
     "name": "stderr",
     "output_type": "stream",
     "text": [
      "/tmp/ipykernel_64169/754433127.py:1: DtypeWarning: Columns (14) have mixed types. Specify dtype option on import or set low_memory=False.\n",
      "  df = pd.read_csv(autocache(canada_dataset_url))\n"
     ]
    }
   ],
   "source": [
    "df = pd.read_csv(autocache(canada_dataset_url))"
   ]
  },
  {
   "cell_type": "code",
   "execution_count": 21,
   "metadata": {
    "tags": []
   },
   "outputs": [
    {
     "data": {
      "text/html": [
       "<div>\n",
       "<style scoped>\n",
       "    .dataframe tbody tr th:only-of-type {\n",
       "        vertical-align: middle;\n",
       "    }\n",
       "\n",
       "    .dataframe tbody tr th {\n",
       "        vertical-align: top;\n",
       "    }\n",
       "\n",
       "    .dataframe thead th {\n",
       "        text-align: right;\n",
       "    }\n",
       "</style>\n",
       "<table border=\"1\" class=\"dataframe\">\n",
       "  <thead>\n",
       "    <tr style=\"text-align: right;\">\n",
       "      <th></th>\n",
       "      <th>Classification</th>\n",
       "      <th>Year</th>\n",
       "      <th>Period</th>\n",
       "      <th>Period Desc.</th>\n",
       "      <th>Aggregate Level</th>\n",
       "      <th>Is Leaf Code</th>\n",
       "      <th>Trade Flow Code</th>\n",
       "      <th>Trade Flow</th>\n",
       "      <th>Reporter Code</th>\n",
       "      <th>Reporter</th>\n",
       "      <th>...</th>\n",
       "      <th>Partner</th>\n",
       "      <th>Partner ISO</th>\n",
       "      <th>Commodity Code</th>\n",
       "      <th>Commodity</th>\n",
       "      <th>Qty Unit Code</th>\n",
       "      <th>Qty Unit</th>\n",
       "      <th>Qty</th>\n",
       "      <th>Netweight (kg)</th>\n",
       "      <th>Trade Value (US$)</th>\n",
       "      <th>Flag</th>\n",
       "    </tr>\n",
       "  </thead>\n",
       "  <tbody>\n",
       "    <tr>\n",
       "      <th>0</th>\n",
       "      <td>HS</td>\n",
       "      <td>2021</td>\n",
       "      <td>202102</td>\n",
       "      <td>February 2021</td>\n",
       "      <td>4</td>\n",
       "      <td>0</td>\n",
       "      <td>1</td>\n",
       "      <td>Imports</td>\n",
       "      <td>124</td>\n",
       "      <td>Canada</td>\n",
       "      <td>...</td>\n",
       "      <td>Other Asia, nes</td>\n",
       "      <td>NaN</td>\n",
       "      <td>6117</td>\n",
       "      <td>Clothing accessories; made up, knitted or croc...</td>\n",
       "      <td>0</td>\n",
       "      <td>NaN</td>\n",
       "      <td>NaN</td>\n",
       "      <td>NaN</td>\n",
       "      <td>9285</td>\n",
       "      <td>0</td>\n",
       "    </tr>\n",
       "    <tr>\n",
       "      <th>1</th>\n",
       "      <td>HS</td>\n",
       "      <td>2021</td>\n",
       "      <td>202102</td>\n",
       "      <td>February 2021</td>\n",
       "      <td>2</td>\n",
       "      <td>0</td>\n",
       "      <td>1</td>\n",
       "      <td>Imports</td>\n",
       "      <td>124</td>\n",
       "      <td>Canada</td>\n",
       "      <td>...</td>\n",
       "      <td>Egypt</td>\n",
       "      <td>NaN</td>\n",
       "      <td>18</td>\n",
       "      <td>Cocoa and cocoa preparations</td>\n",
       "      <td>0</td>\n",
       "      <td>NaN</td>\n",
       "      <td>NaN</td>\n",
       "      <td>0.0</td>\n",
       "      <td>116604</td>\n",
       "      <td>0</td>\n",
       "    </tr>\n",
       "    <tr>\n",
       "      <th>2</th>\n",
       "      <td>HS</td>\n",
       "      <td>2021</td>\n",
       "      <td>202102</td>\n",
       "      <td>February 2021</td>\n",
       "      <td>2</td>\n",
       "      <td>0</td>\n",
       "      <td>1</td>\n",
       "      <td>Imports</td>\n",
       "      <td>124</td>\n",
       "      <td>Canada</td>\n",
       "      <td>...</td>\n",
       "      <td>United Kingdom</td>\n",
       "      <td>NaN</td>\n",
       "      <td>18</td>\n",
       "      <td>Cocoa and cocoa preparations</td>\n",
       "      <td>0</td>\n",
       "      <td>NaN</td>\n",
       "      <td>NaN</td>\n",
       "      <td>0.0</td>\n",
       "      <td>1495175</td>\n",
       "      <td>0</td>\n",
       "    </tr>\n",
       "    <tr>\n",
       "      <th>3</th>\n",
       "      <td>HS</td>\n",
       "      <td>2021</td>\n",
       "      <td>202102</td>\n",
       "      <td>February 2021</td>\n",
       "      <td>2</td>\n",
       "      <td>0</td>\n",
       "      <td>1</td>\n",
       "      <td>Imports</td>\n",
       "      <td>124</td>\n",
       "      <td>Canada</td>\n",
       "      <td>...</td>\n",
       "      <td>United Rep. of Tanzania</td>\n",
       "      <td>NaN</td>\n",
       "      <td>18</td>\n",
       "      <td>Cocoa and cocoa preparations</td>\n",
       "      <td>0</td>\n",
       "      <td>NaN</td>\n",
       "      <td>NaN</td>\n",
       "      <td>0.0</td>\n",
       "      <td>2248</td>\n",
       "      <td>0</td>\n",
       "    </tr>\n",
       "    <tr>\n",
       "      <th>4</th>\n",
       "      <td>HS</td>\n",
       "      <td>2021</td>\n",
       "      <td>202102</td>\n",
       "      <td>February 2021</td>\n",
       "      <td>2</td>\n",
       "      <td>0</td>\n",
       "      <td>1</td>\n",
       "      <td>Imports</td>\n",
       "      <td>124</td>\n",
       "      <td>Canada</td>\n",
       "      <td>...</td>\n",
       "      <td>Singapore</td>\n",
       "      <td>NaN</td>\n",
       "      <td>18</td>\n",
       "      <td>Cocoa and cocoa preparations</td>\n",
       "      <td>0</td>\n",
       "      <td>NaN</td>\n",
       "      <td>NaN</td>\n",
       "      <td>0.0</td>\n",
       "      <td>47840</td>\n",
       "      <td>0</td>\n",
       "    </tr>\n",
       "    <tr>\n",
       "      <th>...</th>\n",
       "      <td>...</td>\n",
       "      <td>...</td>\n",
       "      <td>...</td>\n",
       "      <td>...</td>\n",
       "      <td>...</td>\n",
       "      <td>...</td>\n",
       "      <td>...</td>\n",
       "      <td>...</td>\n",
       "      <td>...</td>\n",
       "      <td>...</td>\n",
       "      <td>...</td>\n",
       "      <td>...</td>\n",
       "      <td>...</td>\n",
       "      <td>...</td>\n",
       "      <td>...</td>\n",
       "      <td>...</td>\n",
       "      <td>...</td>\n",
       "      <td>...</td>\n",
       "      <td>...</td>\n",
       "      <td>...</td>\n",
       "      <td>...</td>\n",
       "    </tr>\n",
       "    <tr>\n",
       "      <th>227449</th>\n",
       "      <td>HS</td>\n",
       "      <td>2021</td>\n",
       "      <td>202102</td>\n",
       "      <td>February 2021</td>\n",
       "      <td>6</td>\n",
       "      <td>1</td>\n",
       "      <td>2</td>\n",
       "      <td>Exports</td>\n",
       "      <td>124</td>\n",
       "      <td>Canada</td>\n",
       "      <td>...</td>\n",
       "      <td>World</td>\n",
       "      <td>NaN</td>\n",
       "      <td>550952</td>\n",
       "      <td>Yarn; (not sewing thread), of polyester staple...</td>\n",
       "      <td>0</td>\n",
       "      <td>NaN</td>\n",
       "      <td>NaN</td>\n",
       "      <td>5406.0</td>\n",
       "      <td>34272</td>\n",
       "      <td>0</td>\n",
       "    </tr>\n",
       "    <tr>\n",
       "      <th>227450</th>\n",
       "      <td>HS</td>\n",
       "      <td>2021</td>\n",
       "      <td>202102</td>\n",
       "      <td>February 2021</td>\n",
       "      <td>6</td>\n",
       "      <td>1</td>\n",
       "      <td>2</td>\n",
       "      <td>Exports</td>\n",
       "      <td>124</td>\n",
       "      <td>Canada</td>\n",
       "      <td>...</td>\n",
       "      <td>World</td>\n",
       "      <td>NaN</td>\n",
       "      <td>550999</td>\n",
       "      <td>Yarn; (not sewing thread), of synthetic staple...</td>\n",
       "      <td>0</td>\n",
       "      <td>NaN</td>\n",
       "      <td>NaN</td>\n",
       "      <td>7345.0</td>\n",
       "      <td>228182</td>\n",
       "      <td>0</td>\n",
       "    </tr>\n",
       "    <tr>\n",
       "      <th>227451</th>\n",
       "      <td>HS</td>\n",
       "      <td>2021</td>\n",
       "      <td>202102</td>\n",
       "      <td>February 2021</td>\n",
       "      <td>6</td>\n",
       "      <td>1</td>\n",
       "      <td>2</td>\n",
       "      <td>Exports</td>\n",
       "      <td>124</td>\n",
       "      <td>Canada</td>\n",
       "      <td>...</td>\n",
       "      <td>World</td>\n",
       "      <td>NaN</td>\n",
       "      <td>550969</td>\n",
       "      <td>Yarn; (not sewing thread), of acrylic or modac...</td>\n",
       "      <td>0</td>\n",
       "      <td>NaN</td>\n",
       "      <td>NaN</td>\n",
       "      <td>1839.0</td>\n",
       "      <td>18812</td>\n",
       "      <td>0</td>\n",
       "    </tr>\n",
       "    <tr>\n",
       "      <th>227452</th>\n",
       "      <td>HS</td>\n",
       "      <td>2021</td>\n",
       "      <td>202102</td>\n",
       "      <td>February 2021</td>\n",
       "      <td>6</td>\n",
       "      <td>1</td>\n",
       "      <td>2</td>\n",
       "      <td>Exports</td>\n",
       "      <td>124</td>\n",
       "      <td>Canada</td>\n",
       "      <td>...</td>\n",
       "      <td>World</td>\n",
       "      <td>NaN</td>\n",
       "      <td>550962</td>\n",
       "      <td>Yarn; (not sewing thread), of acrylic or modac...</td>\n",
       "      <td>0</td>\n",
       "      <td>NaN</td>\n",
       "      <td>NaN</td>\n",
       "      <td>1437.0</td>\n",
       "      <td>23140</td>\n",
       "      <td>0</td>\n",
       "    </tr>\n",
       "    <tr>\n",
       "      <th>227453</th>\n",
       "      <td>HS</td>\n",
       "      <td>2021</td>\n",
       "      <td>202102</td>\n",
       "      <td>February 2021</td>\n",
       "      <td>6</td>\n",
       "      <td>1</td>\n",
       "      <td>2</td>\n",
       "      <td>Exports</td>\n",
       "      <td>124</td>\n",
       "      <td>Canada</td>\n",
       "      <td>...</td>\n",
       "      <td>World</td>\n",
       "      <td>NaN</td>\n",
       "      <td>550959</td>\n",
       "      <td>Yarn; (not sewing thread), of polyester staple...</td>\n",
       "      <td>0</td>\n",
       "      <td>NaN</td>\n",
       "      <td>NaN</td>\n",
       "      <td>5660.0</td>\n",
       "      <td>73652</td>\n",
       "      <td>0</td>\n",
       "    </tr>\n",
       "  </tbody>\n",
       "</table>\n",
       "<p>227454 rows × 22 columns</p>\n",
       "</div>"
      ],
      "text/plain": [
       "       Classification  Year  Period   Period Desc.  Aggregate Level  \\\n",
       "0                  HS  2021  202102  February 2021                4   \n",
       "1                  HS  2021  202102  February 2021                2   \n",
       "2                  HS  2021  202102  February 2021                2   \n",
       "3                  HS  2021  202102  February 2021                2   \n",
       "4                  HS  2021  202102  February 2021                2   \n",
       "...               ...   ...     ...            ...              ...   \n",
       "227449             HS  2021  202102  February 2021                6   \n",
       "227450             HS  2021  202102  February 2021                6   \n",
       "227451             HS  2021  202102  February 2021                6   \n",
       "227452             HS  2021  202102  February 2021                6   \n",
       "227453             HS  2021  202102  February 2021                6   \n",
       "\n",
       "        Is Leaf Code  Trade Flow Code Trade Flow  Reporter Code Reporter  ...  \\\n",
       "0                  0                1    Imports            124   Canada  ...   \n",
       "1                  0                1    Imports            124   Canada  ...   \n",
       "2                  0                1    Imports            124   Canada  ...   \n",
       "3                  0                1    Imports            124   Canada  ...   \n",
       "4                  0                1    Imports            124   Canada  ...   \n",
       "...              ...              ...        ...            ...      ...  ...   \n",
       "227449             1                2    Exports            124   Canada  ...   \n",
       "227450             1                2    Exports            124   Canada  ...   \n",
       "227451             1                2    Exports            124   Canada  ...   \n",
       "227452             1                2    Exports            124   Canada  ...   \n",
       "227453             1                2    Exports            124   Canada  ...   \n",
       "\n",
       "                        Partner  Partner ISO Commodity Code  \\\n",
       "0               Other Asia, nes          NaN           6117   \n",
       "1                         Egypt          NaN             18   \n",
       "2                United Kingdom          NaN             18   \n",
       "3       United Rep. of Tanzania          NaN             18   \n",
       "4                     Singapore          NaN             18   \n",
       "...                         ...          ...            ...   \n",
       "227449                    World          NaN         550952   \n",
       "227450                    World          NaN         550999   \n",
       "227451                    World          NaN         550969   \n",
       "227452                    World          NaN         550962   \n",
       "227453                    World          NaN         550959   \n",
       "\n",
       "                                                Commodity Qty Unit Code  \\\n",
       "0       Clothing accessories; made up, knitted or croc...             0   \n",
       "1                            Cocoa and cocoa preparations             0   \n",
       "2                            Cocoa and cocoa preparations             0   \n",
       "3                            Cocoa and cocoa preparations             0   \n",
       "4                            Cocoa and cocoa preparations             0   \n",
       "...                                                   ...           ...   \n",
       "227449  Yarn; (not sewing thread), of polyester staple...             0   \n",
       "227450  Yarn; (not sewing thread), of synthetic staple...             0   \n",
       "227451  Yarn; (not sewing thread), of acrylic or modac...             0   \n",
       "227452  Yarn; (not sewing thread), of acrylic or modac...             0   \n",
       "227453  Yarn; (not sewing thread), of polyester staple...             0   \n",
       "\n",
       "       Qty Unit  Qty  Netweight (kg)  Trade Value (US$)  Flag  \n",
       "0           NaN  NaN             NaN               9285     0  \n",
       "1           NaN  NaN             0.0             116604     0  \n",
       "2           NaN  NaN             0.0            1495175     0  \n",
       "3           NaN  NaN             0.0               2248     0  \n",
       "4           NaN  NaN             0.0              47840     0  \n",
       "...         ...  ...             ...                ...   ...  \n",
       "227449      NaN  NaN          5406.0              34272     0  \n",
       "227450      NaN  NaN          7345.0             228182     0  \n",
       "227451      NaN  NaN          1839.0              18812     0  \n",
       "227452      NaN  NaN          1437.0              23140     0  \n",
       "227453      NaN  NaN          5660.0              73652     0  \n",
       "\n",
       "[227454 rows x 22 columns]"
      ]
     },
     "execution_count": 21,
     "metadata": {},
     "output_type": "execute_result"
    }
   ],
   "source": [
    "df"
   ]
  },
  {
   "cell_type": "code",
   "execution_count": 22,
   "metadata": {
    "tags": []
   },
   "outputs": [],
   "source": [
    "ca_data = df[0:10]"
   ]
  },
  {
   "cell_type": "code",
   "execution_count": 23,
   "metadata": {
    "tags": []
   },
   "outputs": [],
   "source": [
    "mock_ca_data = df[10:20]"
   ]
  },
  {
   "cell_type": "code",
   "execution_count": 24,
   "metadata": {
    "tags": []
   },
   "outputs": [
    {
     "data": {
      "text/html": [
       "<div>\n",
       "<style scoped>\n",
       "    .dataframe tbody tr th:only-of-type {\n",
       "        vertical-align: middle;\n",
       "    }\n",
       "\n",
       "    .dataframe tbody tr th {\n",
       "        vertical-align: top;\n",
       "    }\n",
       "\n",
       "    .dataframe thead th {\n",
       "        text-align: right;\n",
       "    }\n",
       "</style>\n",
       "<table border=\"1\" class=\"dataframe\">\n",
       "  <thead>\n",
       "    <tr style=\"text-align: right;\">\n",
       "      <th></th>\n",
       "      <th>Classification</th>\n",
       "      <th>Year</th>\n",
       "      <th>Period</th>\n",
       "      <th>Period Desc.</th>\n",
       "      <th>Aggregate Level</th>\n",
       "      <th>Is Leaf Code</th>\n",
       "      <th>Trade Flow Code</th>\n",
       "      <th>Trade Flow</th>\n",
       "      <th>Reporter Code</th>\n",
       "      <th>Reporter</th>\n",
       "      <th>...</th>\n",
       "      <th>Partner</th>\n",
       "      <th>Partner ISO</th>\n",
       "      <th>Commodity Code</th>\n",
       "      <th>Commodity</th>\n",
       "      <th>Qty Unit Code</th>\n",
       "      <th>Qty Unit</th>\n",
       "      <th>Qty</th>\n",
       "      <th>Netweight (kg)</th>\n",
       "      <th>Trade Value (US$)</th>\n",
       "      <th>Flag</th>\n",
       "    </tr>\n",
       "  </thead>\n",
       "  <tbody>\n",
       "    <tr>\n",
       "      <th>0</th>\n",
       "      <td>HS</td>\n",
       "      <td>2021</td>\n",
       "      <td>202102</td>\n",
       "      <td>February 2021</td>\n",
       "      <td>4</td>\n",
       "      <td>0</td>\n",
       "      <td>1</td>\n",
       "      <td>Imports</td>\n",
       "      <td>124</td>\n",
       "      <td>Canada</td>\n",
       "      <td>...</td>\n",
       "      <td>Other Asia, nes</td>\n",
       "      <td>NaN</td>\n",
       "      <td>6117</td>\n",
       "      <td>Clothing accessories; made up, knitted or croc...</td>\n",
       "      <td>0</td>\n",
       "      <td>NaN</td>\n",
       "      <td>NaN</td>\n",
       "      <td>NaN</td>\n",
       "      <td>9285</td>\n",
       "      <td>0</td>\n",
       "    </tr>\n",
       "    <tr>\n",
       "      <th>1</th>\n",
       "      <td>HS</td>\n",
       "      <td>2021</td>\n",
       "      <td>202102</td>\n",
       "      <td>February 2021</td>\n",
       "      <td>2</td>\n",
       "      <td>0</td>\n",
       "      <td>1</td>\n",
       "      <td>Imports</td>\n",
       "      <td>124</td>\n",
       "      <td>Canada</td>\n",
       "      <td>...</td>\n",
       "      <td>Egypt</td>\n",
       "      <td>NaN</td>\n",
       "      <td>18</td>\n",
       "      <td>Cocoa and cocoa preparations</td>\n",
       "      <td>0</td>\n",
       "      <td>NaN</td>\n",
       "      <td>NaN</td>\n",
       "      <td>0.0</td>\n",
       "      <td>116604</td>\n",
       "      <td>0</td>\n",
       "    </tr>\n",
       "    <tr>\n",
       "      <th>2</th>\n",
       "      <td>HS</td>\n",
       "      <td>2021</td>\n",
       "      <td>202102</td>\n",
       "      <td>February 2021</td>\n",
       "      <td>2</td>\n",
       "      <td>0</td>\n",
       "      <td>1</td>\n",
       "      <td>Imports</td>\n",
       "      <td>124</td>\n",
       "      <td>Canada</td>\n",
       "      <td>...</td>\n",
       "      <td>United Kingdom</td>\n",
       "      <td>NaN</td>\n",
       "      <td>18</td>\n",
       "      <td>Cocoa and cocoa preparations</td>\n",
       "      <td>0</td>\n",
       "      <td>NaN</td>\n",
       "      <td>NaN</td>\n",
       "      <td>0.0</td>\n",
       "      <td>1495175</td>\n",
       "      <td>0</td>\n",
       "    </tr>\n",
       "    <tr>\n",
       "      <th>3</th>\n",
       "      <td>HS</td>\n",
       "      <td>2021</td>\n",
       "      <td>202102</td>\n",
       "      <td>February 2021</td>\n",
       "      <td>2</td>\n",
       "      <td>0</td>\n",
       "      <td>1</td>\n",
       "      <td>Imports</td>\n",
       "      <td>124</td>\n",
       "      <td>Canada</td>\n",
       "      <td>...</td>\n",
       "      <td>United Rep. of Tanzania</td>\n",
       "      <td>NaN</td>\n",
       "      <td>18</td>\n",
       "      <td>Cocoa and cocoa preparations</td>\n",
       "      <td>0</td>\n",
       "      <td>NaN</td>\n",
       "      <td>NaN</td>\n",
       "      <td>0.0</td>\n",
       "      <td>2248</td>\n",
       "      <td>0</td>\n",
       "    </tr>\n",
       "    <tr>\n",
       "      <th>4</th>\n",
       "      <td>HS</td>\n",
       "      <td>2021</td>\n",
       "      <td>202102</td>\n",
       "      <td>February 2021</td>\n",
       "      <td>2</td>\n",
       "      <td>0</td>\n",
       "      <td>1</td>\n",
       "      <td>Imports</td>\n",
       "      <td>124</td>\n",
       "      <td>Canada</td>\n",
       "      <td>...</td>\n",
       "      <td>Singapore</td>\n",
       "      <td>NaN</td>\n",
       "      <td>18</td>\n",
       "      <td>Cocoa and cocoa preparations</td>\n",
       "      <td>0</td>\n",
       "      <td>NaN</td>\n",
       "      <td>NaN</td>\n",
       "      <td>0.0</td>\n",
       "      <td>47840</td>\n",
       "      <td>0</td>\n",
       "    </tr>\n",
       "    <tr>\n",
       "      <th>5</th>\n",
       "      <td>HS</td>\n",
       "      <td>2021</td>\n",
       "      <td>202102</td>\n",
       "      <td>February 2021</td>\n",
       "      <td>2</td>\n",
       "      <td>0</td>\n",
       "      <td>1</td>\n",
       "      <td>Imports</td>\n",
       "      <td>124</td>\n",
       "      <td>Canada</td>\n",
       "      <td>...</td>\n",
       "      <td>Viet Nam</td>\n",
       "      <td>NaN</td>\n",
       "      <td>18</td>\n",
       "      <td>Cocoa and cocoa preparations</td>\n",
       "      <td>0</td>\n",
       "      <td>NaN</td>\n",
       "      <td>NaN</td>\n",
       "      <td>0.0</td>\n",
       "      <td>3526</td>\n",
       "      <td>0</td>\n",
       "    </tr>\n",
       "    <tr>\n",
       "      <th>6</th>\n",
       "      <td>HS</td>\n",
       "      <td>2021</td>\n",
       "      <td>202102</td>\n",
       "      <td>February 2021</td>\n",
       "      <td>2</td>\n",
       "      <td>0</td>\n",
       "      <td>1</td>\n",
       "      <td>Imports</td>\n",
       "      <td>124</td>\n",
       "      <td>Canada</td>\n",
       "      <td>...</td>\n",
       "      <td>South Africa</td>\n",
       "      <td>NaN</td>\n",
       "      <td>18</td>\n",
       "      <td>Cocoa and cocoa preparations</td>\n",
       "      <td>0</td>\n",
       "      <td>NaN</td>\n",
       "      <td>NaN</td>\n",
       "      <td>0.0</td>\n",
       "      <td>5462</td>\n",
       "      <td>0</td>\n",
       "    </tr>\n",
       "    <tr>\n",
       "      <th>7</th>\n",
       "      <td>HS</td>\n",
       "      <td>2021</td>\n",
       "      <td>202102</td>\n",
       "      <td>February 2021</td>\n",
       "      <td>2</td>\n",
       "      <td>0</td>\n",
       "      <td>1</td>\n",
       "      <td>Imports</td>\n",
       "      <td>124</td>\n",
       "      <td>Canada</td>\n",
       "      <td>...</td>\n",
       "      <td>Spain</td>\n",
       "      <td>NaN</td>\n",
       "      <td>18</td>\n",
       "      <td>Cocoa and cocoa preparations</td>\n",
       "      <td>0</td>\n",
       "      <td>NaN</td>\n",
       "      <td>NaN</td>\n",
       "      <td>0.0</td>\n",
       "      <td>311425</td>\n",
       "      <td>0</td>\n",
       "    </tr>\n",
       "    <tr>\n",
       "      <th>8</th>\n",
       "      <td>HS</td>\n",
       "      <td>2021</td>\n",
       "      <td>202102</td>\n",
       "      <td>February 2021</td>\n",
       "      <td>2</td>\n",
       "      <td>0</td>\n",
       "      <td>1</td>\n",
       "      <td>Imports</td>\n",
       "      <td>124</td>\n",
       "      <td>Canada</td>\n",
       "      <td>...</td>\n",
       "      <td>Sweden</td>\n",
       "      <td>NaN</td>\n",
       "      <td>18</td>\n",
       "      <td>Cocoa and cocoa preparations</td>\n",
       "      <td>0</td>\n",
       "      <td>NaN</td>\n",
       "      <td>NaN</td>\n",
       "      <td>0.0</td>\n",
       "      <td>11786</td>\n",
       "      <td>0</td>\n",
       "    </tr>\n",
       "    <tr>\n",
       "      <th>9</th>\n",
       "      <td>HS</td>\n",
       "      <td>2021</td>\n",
       "      <td>202102</td>\n",
       "      <td>February 2021</td>\n",
       "      <td>2</td>\n",
       "      <td>0</td>\n",
       "      <td>1</td>\n",
       "      <td>Imports</td>\n",
       "      <td>124</td>\n",
       "      <td>Canada</td>\n",
       "      <td>...</td>\n",
       "      <td>Venezuela</td>\n",
       "      <td>NaN</td>\n",
       "      <td>18</td>\n",
       "      <td>Cocoa and cocoa preparations</td>\n",
       "      <td>0</td>\n",
       "      <td>NaN</td>\n",
       "      <td>NaN</td>\n",
       "      <td>0.0</td>\n",
       "      <td>33715</td>\n",
       "      <td>0</td>\n",
       "    </tr>\n",
       "  </tbody>\n",
       "</table>\n",
       "<p>10 rows × 22 columns</p>\n",
       "</div>"
      ],
      "text/plain": [
       "  Classification  Year  Period   Period Desc.  Aggregate Level  Is Leaf Code  \\\n",
       "0             HS  2021  202102  February 2021                4             0   \n",
       "1             HS  2021  202102  February 2021                2             0   \n",
       "2             HS  2021  202102  February 2021                2             0   \n",
       "3             HS  2021  202102  February 2021                2             0   \n",
       "4             HS  2021  202102  February 2021                2             0   \n",
       "5             HS  2021  202102  February 2021                2             0   \n",
       "6             HS  2021  202102  February 2021                2             0   \n",
       "7             HS  2021  202102  February 2021                2             0   \n",
       "8             HS  2021  202102  February 2021                2             0   \n",
       "9             HS  2021  202102  February 2021                2             0   \n",
       "\n",
       "   Trade Flow Code Trade Flow  Reporter Code Reporter  ...  \\\n",
       "0                1    Imports            124   Canada  ...   \n",
       "1                1    Imports            124   Canada  ...   \n",
       "2                1    Imports            124   Canada  ...   \n",
       "3                1    Imports            124   Canada  ...   \n",
       "4                1    Imports            124   Canada  ...   \n",
       "5                1    Imports            124   Canada  ...   \n",
       "6                1    Imports            124   Canada  ...   \n",
       "7                1    Imports            124   Canada  ...   \n",
       "8                1    Imports            124   Canada  ...   \n",
       "9                1    Imports            124   Canada  ...   \n",
       "\n",
       "                   Partner  Partner ISO Commodity Code  \\\n",
       "0          Other Asia, nes          NaN           6117   \n",
       "1                    Egypt          NaN             18   \n",
       "2           United Kingdom          NaN             18   \n",
       "3  United Rep. of Tanzania          NaN             18   \n",
       "4                Singapore          NaN             18   \n",
       "5                 Viet Nam          NaN             18   \n",
       "6             South Africa          NaN             18   \n",
       "7                    Spain          NaN             18   \n",
       "8                   Sweden          NaN             18   \n",
       "9                Venezuela          NaN             18   \n",
       "\n",
       "                                           Commodity Qty Unit Code Qty Unit  \\\n",
       "0  Clothing accessories; made up, knitted or croc...             0      NaN   \n",
       "1                       Cocoa and cocoa preparations             0      NaN   \n",
       "2                       Cocoa and cocoa preparations             0      NaN   \n",
       "3                       Cocoa and cocoa preparations             0      NaN   \n",
       "4                       Cocoa and cocoa preparations             0      NaN   \n",
       "5                       Cocoa and cocoa preparations             0      NaN   \n",
       "6                       Cocoa and cocoa preparations             0      NaN   \n",
       "7                       Cocoa and cocoa preparations             0      NaN   \n",
       "8                       Cocoa and cocoa preparations             0      NaN   \n",
       "9                       Cocoa and cocoa preparations             0      NaN   \n",
       "\n",
       "   Qty  Netweight (kg)  Trade Value (US$)  Flag  \n",
       "0  NaN             NaN               9285     0  \n",
       "1  NaN             0.0             116604     0  \n",
       "2  NaN             0.0            1495175     0  \n",
       "3  NaN             0.0               2248     0  \n",
       "4  NaN             0.0              47840     0  \n",
       "5  NaN             0.0               3526     0  \n",
       "6  NaN             0.0               5462     0  \n",
       "7  NaN             0.0             311425     0  \n",
       "8  NaN             0.0              11786     0  \n",
       "9  NaN             0.0              33715     0  \n",
       "\n",
       "[10 rows x 22 columns]"
      ]
     },
     "execution_count": 24,
     "metadata": {},
     "output_type": "execute_result"
    }
   ],
   "source": [
    "ca_data"
   ]
  },
  {
   "cell_type": "code",
   "execution_count": 25,
   "metadata": {
    "tags": []
   },
   "outputs": [],
   "source": [
    "dataset = sy.Dataset(name=\"Canada Trade Value\")"
   ]
  },
  {
   "cell_type": "code",
   "execution_count": 26,
   "metadata": {
    "tags": []
   },
   "outputs": [],
   "source": [
    "dataset.set_description(\"\"\"Canada Trade Data\"\"\")"
   ]
  },
  {
   "cell_type": "code",
   "execution_count": 27,
   "metadata": {
    "tags": []
   },
   "outputs": [],
   "source": [
    "dataset.add_citation(\"Person, place or thing\")\n",
    "dataset.add_url(\"https://github.com/OpenMined/datasets/tree/main/trade_flow\")"
   ]
  },
  {
   "cell_type": "code",
   "execution_count": 28,
   "metadata": {
    "tags": []
   },
   "outputs": [],
   "source": [
    "dataset.add_contributor(role=sy.roles.UPLOADER, \n",
    "                                name=\"Andrew Trask\", \n",
    "                                email=\"andrew@openmined.org\",\n",
    "                                note=\"Andrew runs this domain and prepared the dataset metadata.\")\n",
    "\n",
    "dataset.add_contributor(role=sy.roles.EDITOR, \n",
    "                                name=\"Madhava Jay\", \n",
    "                                email=\"madhava@openmined.org\",\n",
    "                                note=\"Madhava tweaked the description to add the URL because Andrew forgot.\")"
   ]
  },
  {
   "cell_type": "code",
   "execution_count": 29,
   "metadata": {
    "tags": []
   },
   "outputs": [
    {
     "data": {
      "text/html": [
       "List - Size: 2\n",
       "<div>\n",
       "<style scoped>\n",
       "    .dataframe tbody tr th:only-of-type {\n",
       "        vertical-align: middle;\n",
       "    }\n",
       "\n",
       "    .dataframe tbody tr th {\n",
       "        vertical-align: top;\n",
       "    }\n",
       "\n",
       "    .dataframe thead th {\n",
       "        text-align: right;\n",
       "    }\n",
       "</style>\n",
       "<table border=\"1\" class=\"dataframe\">\n",
       "  <thead>\n",
       "    <tr style=\"text-align: right;\">\n",
       "      <th></th>\n",
       "      <th>type</th>\n",
       "      <th>id</th>\n",
       "      <th>name</th>\n",
       "      <th>role</th>\n",
       "      <th>email</th>\n",
       "    </tr>\n",
       "  </thead>\n",
       "  <tbody>\n",
       "    <tr>\n",
       "      <th>0</th>\n",
       "      <td>syft.service.dataset.dataset.Contributor</td>\n",
       "      <td>22180341e7ba421bac2c3536d9a87723</td>\n",
       "      <td>Andrew Trask</td>\n",
       "      <td>Uploader</td>\n",
       "      <td>andrew@openmined.org</td>\n",
       "    </tr>\n",
       "    <tr>\n",
       "      <th>1</th>\n",
       "      <td>syft.service.dataset.dataset.Contributor</td>\n",
       "      <td>2454a37e943c45ca94393a4fc8eea9bf</td>\n",
       "      <td>Madhava Jay</td>\n",
       "      <td>Editor</td>\n",
       "      <td>madhava@openmined.org</td>\n",
       "    </tr>\n",
       "  </tbody>\n",
       "</table>\n",
       "</div>"
      ],
      "text/plain": [
       "[syft.service.dataset.dataset.Contributor,\n",
       " syft.service.dataset.dataset.Contributor]"
      ]
     },
     "execution_count": 29,
     "metadata": {},
     "output_type": "execute_result"
    }
   ],
   "source": [
    "dataset.contributors"
   ]
  },
  {
   "cell_type": "code",
   "execution_count": 30,
   "metadata": {
    "tags": []
   },
   "outputs": [],
   "source": [
    "assert len(dataset.contributors) == 2"
   ]
  },
  {
   "cell_type": "code",
   "execution_count": 31,
   "metadata": {
    "tags": []
   },
   "outputs": [],
   "source": [
    "ctf = sy.Asset(name=\"canada_trade_flow\")\n",
    "ctf.set_description(\"\"\"all the datas\"\"\")"
   ]
  },
  {
   "cell_type": "code",
   "execution_count": 32,
   "metadata": {
    "tags": []
   },
   "outputs": [],
   "source": [
    "ctf.add_contributor(role=sy.roles.UPLOADER, \n",
    "                      name=\"Andrew Trask\", \n",
    "                      email=\"andrew@openmined.org\",\n",
    "                      note=\"Andrew runs this domain and prepared the asset.\")"
   ]
  },
  {
   "cell_type": "code",
   "execution_count": 33,
   "metadata": {
    "tags": []
   },
   "outputs": [],
   "source": [
    "ctf.set_obj(ca_data)"
   ]
  },
  {
   "cell_type": "code",
   "execution_count": 34,
   "metadata": {
    "tags": []
   },
   "outputs": [],
   "source": [
    "ctf.set_shape((10, 22))"
   ]
  },
  {
   "cell_type": "code",
   "execution_count": 35,
   "metadata": {
    "tags": []
   },
   "outputs": [],
   "source": [
    "ctf.add_data_subject(canada)"
   ]
  },
  {
   "cell_type": "code",
   "execution_count": 36,
   "metadata": {
    "tags": []
   },
   "outputs": [],
   "source": [
    "dataset.add_asset(ctf)"
   ]
  },
  {
   "cell_type": "code",
   "execution_count": 37,
   "metadata": {
    "tags": []
   },
   "outputs": [],
   "source": [
    "dataset.remove_asset(name=ctf.name)"
   ]
  },
  {
   "cell_type": "code",
   "execution_count": 38,
   "metadata": {
    "tags": []
   },
   "outputs": [],
   "source": [
    "ctf.set_mock(mock_ca_data, mock_is_real=False)"
   ]
  },
  {
   "cell_type": "code",
   "execution_count": 39,
   "metadata": {
    "tags": []
   },
   "outputs": [],
   "source": [
    "dataset.add_asset(ctf)"
   ]
  },
  {
   "cell_type": "code",
   "execution_count": 40,
   "metadata": {
    "tags": []
   },
   "outputs": [
    {
     "name": "stderr",
     "output_type": "stream",
     "text": [
      "100%|████████████████████████████████████████████████████████████████████████████████████████████████████████████████████| 1/1 [00:00<00:00,  9.37it/s]"
     ]
    },
    {
     "name": "stdout",
     "output_type": "stream",
     "text": [
      "Uploading: canada_trade_flow\n"
     ]
    },
    {
     "name": "stderr",
     "output_type": "stream",
     "text": [
      "\n"
     ]
    },
    {
     "data": {
      "text/html": [
       "<div class=\"alert-success\" style=\"padding:5px;\"><strong>SyftSuccess</strong>: Dataset Added</div><br />"
      ],
      "text/plain": [
       "<class 'syft.service.response.SyftSuccess'>: Dataset Added"
      ]
     },
     "execution_count": 40,
     "metadata": {},
     "output_type": "execute_result"
    }
   ],
   "source": [
    "domain_client.upload_dataset(dataset)"
   ]
  },
  {
   "cell_type": "code",
   "execution_count": 41,
   "metadata": {
    "tags": []
   },
   "outputs": [],
   "source": [
    "datasets = domain_client.api.services.dataset.get_all()"
   ]
  },
  {
   "cell_type": "code",
   "execution_count": 42,
   "metadata": {
    "tags": []
   },
   "outputs": [],
   "source": [
    "assert len(datasets) == 1"
   ]
  },
  {
   "cell_type": "code",
   "execution_count": 43,
   "metadata": {
    "tags": []
   },
   "outputs": [
    {
     "data": {
      "text/html": [
       "List - Size: 1\n",
       "<div>\n",
       "<style scoped>\n",
       "    .dataframe tbody tr th:only-of-type {\n",
       "        vertical-align: middle;\n",
       "    }\n",
       "\n",
       "    .dataframe tbody tr th {\n",
       "        vertical-align: top;\n",
       "    }\n",
       "\n",
       "    .dataframe thead th {\n",
       "        text-align: right;\n",
       "    }\n",
       "</style>\n",
       "<table border=\"1\" class=\"dataframe\">\n",
       "  <thead>\n",
       "    <tr style=\"text-align: right;\">\n",
       "      <th></th>\n",
       "      <th>type</th>\n",
       "      <th>id</th>\n",
       "      <th>name</th>\n",
       "      <th>url</th>\n",
       "    </tr>\n",
       "  </thead>\n",
       "  <tbody>\n",
       "    <tr>\n",
       "      <th>0</th>\n",
       "      <td>syft.service.dataset.dataset.Dataset</td>\n",
       "      <td>629657af30cc454193e5075954517a36</td>\n",
       "      <td>Canada Trade Value</td>\n",
       "      <td>https://github.com/OpenMined/datasets/tree/mai...</td>\n",
       "    </tr>\n",
       "  </tbody>\n",
       "</table>\n",
       "</div>"
      ],
      "text/plain": [
       "[syft.service.dataset.dataset.Dataset]"
      ]
     },
     "execution_count": 43,
     "metadata": {},
     "output_type": "execute_result"
    }
   ],
   "source": [
    "datasets"
   ]
  },
  {
   "cell_type": "code",
   "execution_count": 44,
   "metadata": {
    "tags": []
   },
   "outputs": [],
   "source": [
    "mock = domain_client.datasets[0].assets[0].mock"
   ]
  },
  {
   "cell_type": "code",
   "execution_count": 45,
   "metadata": {
    "tags": []
   },
   "outputs": [],
   "source": [
    "assert mock_ca_data.equals(mock.syft_action_data)"
   ]
  },
  {
   "cell_type": "code",
   "execution_count": 46,
   "metadata": {
    "tags": []
   },
   "outputs": [],
   "source": [
    "real = domain_client.datasets[0].assets[0].data"
   ]
  },
  {
   "cell_type": "code",
   "execution_count": 47,
   "metadata": {
    "tags": []
   },
   "outputs": [],
   "source": [
    "assert ca_data.equals(real.syft_action_data)"
   ]
  },
  {
   "cell_type": "code",
   "execution_count": 48,
   "metadata": {
    "tags": []
   },
   "outputs": [
    {
     "name": "stdout",
     "output_type": "stream",
     "text": [
      "Stopping test-domain-1\n"
     ]
    }
   ],
   "source": [
    "if node.node_type.value == \"python\":\n",
    "    node.land()"
   ]
  }
 ],
 "metadata": {
  "kernelspec": {
   "display_name": "Python 3 (ipykernel)",
   "language": "python",
   "name": "python3"
  },
  "language_info": {
   "codemirror_mode": {
    "name": "ipython",
    "version": 3
   },
   "file_extension": ".py",
   "mimetype": "text/x-python",
   "name": "python",
   "nbconvert_exporter": "python",
   "pygments_lexer": "ipython3",
   "version": "3.10.8"
  }
 },
 "nbformat": 4,
 "nbformat_minor": 4
}

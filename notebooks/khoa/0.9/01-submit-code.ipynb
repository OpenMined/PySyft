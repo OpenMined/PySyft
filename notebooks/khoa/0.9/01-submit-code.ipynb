{
 "cells": [
  {
   "cell_type": "code",
   "execution_count": 1,
   "metadata": {
    "tags": []
   },
   "outputs": [
    {
     "name": "stderr",
     "output_type": "stream",
     "text": [
      "kj/filesystem-disk-unix.c++:1703: warning: PWD environment variable doesn't match current directory; pwd = /home/dk/Desktop/projects/PySyft\n"
     ]
    },
    {
     "name": "stdout",
     "output_type": "stream",
     "text": [
      "✅ The installed version of syft==0.8.1b2 matches the requirement >=0.8 and the requirement <0.8.1\n"
     ]
    }
   ],
   "source": [
    "import syft as sy\n",
    "sy.requires(\">=0.8,<0.8.1\")\n",
    "from syft.client.api import NodeView"
   ]
  },
  {
   "cell_type": "code",
   "execution_count": 2,
   "metadata": {
    "tags": []
   },
   "outputs": [
    {
     "name": "stdout",
     "output_type": "stream",
     "text": [
      "Starting test-domain-1 server on 0.0.0.0:8080\n",
      "\n",
      "WARNING: private key is based on node name: test-domain-1 in dev_mode. Don't run this in production.\n",
      "SQLite Store Path:\n",
      "!open file:///tmp/7bca415d13ed1ec841f0d0aede098dbb.sqlite\n",
      "\n"
     ]
    },
    {
     "name": "stderr",
     "output_type": "stream",
     "text": [
      "INFO:     Started server process [64703]\n",
      "INFO:     Waiting for application startup.\n",
      "INFO:     Application startup complete.\n",
      "INFO:     Uvicorn running on http://0.0.0.0:8080 (Press CTRL+C to quit)\n"
     ]
    },
    {
     "name": "stdout",
     "output_type": "stream",
     "text": [
      "INFO:     127.0.0.1:49112 - \"GET /api/v1/new/metadata HTTP/1.1\" 200 OK\n",
      "INFO:     127.0.0.1:49112 - \"POST /api/v1/new/register HTTP/1.1\" 200 OK\n",
      "INFO:     127.0.0.1:49112 - \"GET /api/v1/new/api?verify_key=d10d13f61c17f0281a32db4b4cc4a44769073f75166527e7cb38dfdb01c650c5 HTTP/1.1\" 200 OK\n",
      "INFO:     127.0.0.1:49112 - \"POST /api/v1/new/login HTTP/1.1\" 200 OK\n",
      "INFO:     127.0.0.1:49112 - \"GET /api/v1/new/api?verify_key=d10d13f61c17f0281a32db4b4cc4a44769073f75166527e7cb38dfdb01c650c5 HTTP/1.1\" 200 OK\n",
      "INFO:     127.0.0.1:37132 - \"POST /api/v1/new/api_call HTTP/1.1\" 200 OK\n",
      "INFO:     127.0.0.1:37148 - \"POST /api/v1/new/api_call HTTP/1.1\" 200 OK\n",
      "INFO:     127.0.0.1:37150 - \"POST /api/v1/new/api_call HTTP/1.1\" 200 OK\n",
      "INFO:     127.0.0.1:37160 - \"POST /api/v1/new/api_call HTTP/1.1\" 200 OK\n",
      "INFO:     127.0.0.1:37174 - \"POST /api/v1/new/api_call HTTP/1.1\" 200 OK\n",
      "INFO:     127.0.0.1:37182 - \"POST /api/v1/new/api_call HTTP/1.1\" 200 OK\n",
      "INFO:     127.0.0.1:37196 - \"GET /api/v1/new/metadata HTTP/1.1\" 200 OK\n",
      "INFO:     127.0.0.1:37196 - \"GET /api/v1/new/metadata HTTP/1.1\" 200 OK\n",
      "INFO:     127.0.0.1:57596 - \"POST /api/v1/new/api_call HTTP/1.1\" 200 OK\n",
      "INFO:     127.0.0.1:37196 - \"GET /api/v1/new/api?verify_key=d10d13f61c17f0281a32db4b4cc4a44769073f75166527e7cb38dfdb01c650c5 HTTP/1.1\" 200 OK\n",
      "INFO:     127.0.0.1:57606 - \"POST /api/v1/new/api_call HTTP/1.1\" 200 OK\n",
      "INFO:     127.0.0.1:57612 - \"POST /api/v1/new/api_call HTTP/1.1\" 200 OK\n",
      "INFO:     127.0.0.1:57622 - \"POST /api/v1/new/api_call HTTP/1.1\" 200 OK\n",
      "INFO:     127.0.0.1:57630 - \"POST /api/v1/new/api_call HTTP/1.1\" 200 OK\n",
      "INFO:     127.0.0.1:57632 - \"GET /api/v1/new/api?verify_key=d10d13f61c17f0281a32db4b4cc4a44769073f75166527e7cb38dfdb01c650c5 HTTP/1.1\" 200 OK\n",
      "INFO:     127.0.0.1:41046 - \"POST /api/v1/new/api_call HTTP/1.1\" 200 OK\n"
     ]
    },
    {
     "name": "stderr",
     "output_type": "stream",
     "text": [
      "INFO:     Shutting down\n",
      "INFO:     Waiting for application shutdown.\n",
      "INFO:     Application shutdown complete.\n",
      "INFO:     Finished server process [64703]\n"
     ]
    }
   ],
   "source": [
    "node = sy.orchestra.launch(name=\"test-domain-1\", port=8080, dev_mode=True)"
   ]
  },
  {
   "cell_type": "code",
   "execution_count": 3,
   "metadata": {
    "tags": []
   },
   "outputs": [],
   "source": [
    "guest_domain_client = node.client"
   ]
  },
  {
   "cell_type": "code",
   "execution_count": 4,
   "metadata": {
    "tags": []
   },
   "outputs": [],
   "source": [
    "guest_credentials = guest_domain_client.credentials\n",
    "guest_credentials"
   ]
  },
  {
   "cell_type": "code",
   "execution_count": 5,
   "metadata": {
    "tags": []
   },
   "outputs": [
    {
     "data": {
      "text/html": [
       "<div class=\"alert-success\" style=\"padding:5px;\"><strong>SyftSuccess</strong>: jane@caltech.edu User successfully registered !!!</div><br />"
      ],
      "text/plain": [
       "<class 'syft.service.response.SyftSuccess'>: jane@caltech.edu User successfully registered !!!"
      ]
     },
     "execution_count": 5,
     "metadata": {},
     "output_type": "execute_result"
    }
   ],
   "source": [
    "guest_domain_client.register(name=\"Jane Doe\", email=\"jane@caltech.edu\", password=\"abc123\", institution=\"Caltech\", website=\"https://www.caltech.edu/\")"
   ]
  },
  {
   "cell_type": "code",
   "execution_count": 6,
   "metadata": {
    "tags": []
   },
   "outputs": [
    {
     "data": {
      "text/plain": [
       "<SyftClient - test-domain-1 <7bca415d13ed1ec841f0d0aede098dbb>: HTTPConnection: http://localhost:8080>"
      ]
     },
     "execution_count": 6,
     "metadata": {},
     "output_type": "execute_result"
    }
   ],
   "source": [
    "guest_domain_client.login(email=\"jane@caltech.edu\", password=\"abc123\")"
   ]
  },
  {
   "cell_type": "code",
   "execution_count": 7,
   "metadata": {
    "tags": []
   },
   "outputs": [],
   "source": [
    "assert guest_domain_client.credentials != guest_credentials"
   ]
  },
  {
   "cell_type": "code",
   "execution_count": 8,
   "metadata": {
    "tags": []
   },
   "outputs": [
    {
     "data": {
      "text/html": [
       "List - Size: 1\n",
       "<div>\n",
       "<style scoped>\n",
       "    .dataframe tbody tr th:only-of-type {\n",
       "        vertical-align: middle;\n",
       "    }\n",
       "\n",
       "    .dataframe tbody tr th {\n",
       "        vertical-align: top;\n",
       "    }\n",
       "\n",
       "    .dataframe thead th {\n",
       "        text-align: right;\n",
       "    }\n",
       "</style>\n",
       "<table border=\"1\" class=\"dataframe\">\n",
       "  <thead>\n",
       "    <tr style=\"text-align: right;\">\n",
       "      <th></th>\n",
       "      <th>type</th>\n",
       "      <th>id</th>\n",
       "      <th>name</th>\n",
       "      <th>url</th>\n",
       "    </tr>\n",
       "  </thead>\n",
       "  <tbody>\n",
       "    <tr>\n",
       "      <th>0</th>\n",
       "      <td>syft.service.dataset.dataset.Dataset</td>\n",
       "      <td>629657af30cc454193e5075954517a36</td>\n",
       "      <td>Canada Trade Value</td>\n",
       "      <td>https://github.com/OpenMined/datasets/tree/mai...</td>\n",
       "    </tr>\n",
       "  </tbody>\n",
       "</table>\n",
       "</div>"
      ],
      "text/plain": [
       "[syft.service.dataset.dataset.Dataset]"
      ]
     },
     "execution_count": 8,
     "metadata": {},
     "output_type": "execute_result"
    }
   ],
   "source": [
    "results = guest_domain_client.api.services.dataset.get_all()\n",
    "results"
   ]
  },
  {
   "cell_type": "code",
   "execution_count": 9,
   "metadata": {
    "tags": []
   },
   "outputs": [],
   "source": [
    "assert len(results) == 1"
   ]
  },
  {
   "cell_type": "code",
   "execution_count": 10,
   "metadata": {
    "tags": []
   },
   "outputs": [],
   "source": [
    "dataset = results[-1]"
   ]
  },
  {
   "cell_type": "code",
   "execution_count": 11,
   "metadata": {
    "tags": []
   },
   "outputs": [
    {
     "data": {
      "text/markdown": [
       "```python\n",
       "Syft Dataset: Canada Trade Value\n",
       "Assets:\n",
       "\tcanada_trade_flow: all the datas\n",
       "Citation: Person, place or thing\n",
       "URL: https://github.com/OpenMined/datasets/tree/main/trade_flow\n",
       "Description: Canada Trade Data\n",
       "\n",
       "```"
      ],
      "text/plain": [
       "syft.service.dataset.dataset.Dataset"
      ]
     },
     "execution_count": 11,
     "metadata": {},
     "output_type": "execute_result"
    }
   ],
   "source": [
    "dataset"
   ]
  },
  {
   "cell_type": "code",
   "execution_count": 12,
   "metadata": {
    "tags": []
   },
   "outputs": [
    {
     "data": {
      "text/html": [
       "<div>\n",
       "<style scoped>\n",
       "    .dataframe tbody tr th:only-of-type {\n",
       "        vertical-align: middle;\n",
       "    }\n",
       "\n",
       "    .dataframe tbody tr th {\n",
       "        vertical-align: top;\n",
       "    }\n",
       "\n",
       "    .dataframe thead th {\n",
       "        text-align: right;\n",
       "    }\n",
       "</style>\n",
       "<table border=\"1\" class=\"dataframe\">\n",
       "  <thead>\n",
       "    <tr style=\"text-align: right;\">\n",
       "      <th></th>\n",
       "      <th>Classification</th>\n",
       "      <th>Year</th>\n",
       "      <th>Period</th>\n",
       "      <th>Period Desc.</th>\n",
       "      <th>Aggregate Level</th>\n",
       "      <th>Is Leaf Code</th>\n",
       "      <th>Trade Flow Code</th>\n",
       "      <th>Trade Flow</th>\n",
       "      <th>Reporter Code</th>\n",
       "      <th>Reporter</th>\n",
       "      <th>...</th>\n",
       "      <th>Partner</th>\n",
       "      <th>Partner ISO</th>\n",
       "      <th>Commodity Code</th>\n",
       "      <th>Commodity</th>\n",
       "      <th>Qty Unit Code</th>\n",
       "      <th>Qty Unit</th>\n",
       "      <th>Qty</th>\n",
       "      <th>Netweight (kg)</th>\n",
       "      <th>Trade Value (US$)</th>\n",
       "      <th>Flag</th>\n",
       "    </tr>\n",
       "  </thead>\n",
       "  <tbody>\n",
       "    <tr>\n",
       "      <th>10</th>\n",
       "      <td>HS</td>\n",
       "      <td>2021</td>\n",
       "      <td>202102</td>\n",
       "      <td>February 2021</td>\n",
       "      <td>2</td>\n",
       "      <td>0</td>\n",
       "      <td>1</td>\n",
       "      <td>Imports</td>\n",
       "      <td>124</td>\n",
       "      <td>Canada</td>\n",
       "      <td>...</td>\n",
       "      <td>Bangladesh</td>\n",
       "      <td>NaN</td>\n",
       "      <td>19</td>\n",
       "      <td>Preparations of cereals, flour, starch or milk...</td>\n",
       "      <td>0</td>\n",
       "      <td>NaN</td>\n",
       "      <td>NaN</td>\n",
       "      <td>0.0</td>\n",
       "      <td>227222</td>\n",
       "      <td>0</td>\n",
       "    </tr>\n",
       "    <tr>\n",
       "      <th>11</th>\n",
       "      <td>HS</td>\n",
       "      <td>2021</td>\n",
       "      <td>202102</td>\n",
       "      <td>February 2021</td>\n",
       "      <td>2</td>\n",
       "      <td>0</td>\n",
       "      <td>1</td>\n",
       "      <td>Imports</td>\n",
       "      <td>124</td>\n",
       "      <td>Canada</td>\n",
       "      <td>...</td>\n",
       "      <td>Haiti</td>\n",
       "      <td>NaN</td>\n",
       "      <td>19</td>\n",
       "      <td>Preparations of cereals, flour, starch or milk...</td>\n",
       "      <td>0</td>\n",
       "      <td>NaN</td>\n",
       "      <td>NaN</td>\n",
       "      <td>0.0</td>\n",
       "      <td>14748</td>\n",
       "      <td>0</td>\n",
       "    </tr>\n",
       "    <tr>\n",
       "      <th>12</th>\n",
       "      <td>HS</td>\n",
       "      <td>2021</td>\n",
       "      <td>202102</td>\n",
       "      <td>February 2021</td>\n",
       "      <td>2</td>\n",
       "      <td>0</td>\n",
       "      <td>1</td>\n",
       "      <td>Imports</td>\n",
       "      <td>124</td>\n",
       "      <td>Canada</td>\n",
       "      <td>...</td>\n",
       "      <td>Guatemala</td>\n",
       "      <td>NaN</td>\n",
       "      <td>19</td>\n",
       "      <td>Preparations of cereals, flour, starch or milk...</td>\n",
       "      <td>0</td>\n",
       "      <td>NaN</td>\n",
       "      <td>NaN</td>\n",
       "      <td>0.0</td>\n",
       "      <td>1314</td>\n",
       "      <td>0</td>\n",
       "    </tr>\n",
       "    <tr>\n",
       "      <th>13</th>\n",
       "      <td>HS</td>\n",
       "      <td>2021</td>\n",
       "      <td>202102</td>\n",
       "      <td>February 2021</td>\n",
       "      <td>2</td>\n",
       "      <td>0</td>\n",
       "      <td>1</td>\n",
       "      <td>Imports</td>\n",
       "      <td>124</td>\n",
       "      <td>Canada</td>\n",
       "      <td>...</td>\n",
       "      <td>Iraq</td>\n",
       "      <td>NaN</td>\n",
       "      <td>19</td>\n",
       "      <td>Preparations of cereals, flour, starch or milk...</td>\n",
       "      <td>0</td>\n",
       "      <td>NaN</td>\n",
       "      <td>NaN</td>\n",
       "      <td>0.0</td>\n",
       "      <td>1825</td>\n",
       "      <td>0</td>\n",
       "    </tr>\n",
       "    <tr>\n",
       "      <th>14</th>\n",
       "      <td>HS</td>\n",
       "      <td>2021</td>\n",
       "      <td>202102</td>\n",
       "      <td>February 2021</td>\n",
       "      <td>2</td>\n",
       "      <td>0</td>\n",
       "      <td>1</td>\n",
       "      <td>Imports</td>\n",
       "      <td>124</td>\n",
       "      <td>Canada</td>\n",
       "      <td>...</td>\n",
       "      <td>Israel</td>\n",
       "      <td>NaN</td>\n",
       "      <td>19</td>\n",
       "      <td>Preparations of cereals, flour, starch or milk...</td>\n",
       "      <td>0</td>\n",
       "      <td>NaN</td>\n",
       "      <td>NaN</td>\n",
       "      <td>0.0</td>\n",
       "      <td>1063627</td>\n",
       "      <td>0</td>\n",
       "    </tr>\n",
       "    <tr>\n",
       "      <th>15</th>\n",
       "      <td>HS</td>\n",
       "      <td>2021</td>\n",
       "      <td>202102</td>\n",
       "      <td>February 2021</td>\n",
       "      <td>2</td>\n",
       "      <td>0</td>\n",
       "      <td>1</td>\n",
       "      <td>Imports</td>\n",
       "      <td>124</td>\n",
       "      <td>Canada</td>\n",
       "      <td>...</td>\n",
       "      <td>Italy</td>\n",
       "      <td>NaN</td>\n",
       "      <td>19</td>\n",
       "      <td>Preparations of cereals, flour, starch or milk...</td>\n",
       "      <td>0</td>\n",
       "      <td>NaN</td>\n",
       "      <td>NaN</td>\n",
       "      <td>0.0</td>\n",
       "      <td>8359327</td>\n",
       "      <td>0</td>\n",
       "    </tr>\n",
       "    <tr>\n",
       "      <th>16</th>\n",
       "      <td>HS</td>\n",
       "      <td>2021</td>\n",
       "      <td>202102</td>\n",
       "      <td>February 2021</td>\n",
       "      <td>2</td>\n",
       "      <td>0</td>\n",
       "      <td>1</td>\n",
       "      <td>Imports</td>\n",
       "      <td>124</td>\n",
       "      <td>Canada</td>\n",
       "      <td>...</td>\n",
       "      <td>Jordan</td>\n",
       "      <td>NaN</td>\n",
       "      <td>19</td>\n",
       "      <td>Preparations of cereals, flour, starch or milk...</td>\n",
       "      <td>0</td>\n",
       "      <td>NaN</td>\n",
       "      <td>NaN</td>\n",
       "      <td>0.0</td>\n",
       "      <td>16858</td>\n",
       "      <td>0</td>\n",
       "    </tr>\n",
       "    <tr>\n",
       "      <th>17</th>\n",
       "      <td>HS</td>\n",
       "      <td>2021</td>\n",
       "      <td>202102</td>\n",
       "      <td>February 2021</td>\n",
       "      <td>2</td>\n",
       "      <td>0</td>\n",
       "      <td>1</td>\n",
       "      <td>Imports</td>\n",
       "      <td>124</td>\n",
       "      <td>Canada</td>\n",
       "      <td>...</td>\n",
       "      <td>Rep. of Moldova</td>\n",
       "      <td>NaN</td>\n",
       "      <td>19</td>\n",
       "      <td>Preparations of cereals, flour, starch or milk...</td>\n",
       "      <td>0</td>\n",
       "      <td>NaN</td>\n",
       "      <td>NaN</td>\n",
       "      <td>0.0</td>\n",
       "      <td>29897</td>\n",
       "      <td>0</td>\n",
       "    </tr>\n",
       "    <tr>\n",
       "      <th>18</th>\n",
       "      <td>HS</td>\n",
       "      <td>2021</td>\n",
       "      <td>202102</td>\n",
       "      <td>February 2021</td>\n",
       "      <td>2</td>\n",
       "      <td>0</td>\n",
       "      <td>1</td>\n",
       "      <td>Imports</td>\n",
       "      <td>124</td>\n",
       "      <td>Canada</td>\n",
       "      <td>...</td>\n",
       "      <td>Nigeria</td>\n",
       "      <td>NaN</td>\n",
       "      <td>19</td>\n",
       "      <td>Preparations of cereals, flour, starch or milk...</td>\n",
       "      <td>0</td>\n",
       "      <td>NaN</td>\n",
       "      <td>NaN</td>\n",
       "      <td>0.0</td>\n",
       "      <td>22235</td>\n",
       "      <td>0</td>\n",
       "    </tr>\n",
       "    <tr>\n",
       "      <th>19</th>\n",
       "      <td>HS</td>\n",
       "      <td>2021</td>\n",
       "      <td>202102</td>\n",
       "      <td>February 2021</td>\n",
       "      <td>2</td>\n",
       "      <td>0</td>\n",
       "      <td>1</td>\n",
       "      <td>Imports</td>\n",
       "      <td>124</td>\n",
       "      <td>Canada</td>\n",
       "      <td>...</td>\n",
       "      <td>Slovenia</td>\n",
       "      <td>NaN</td>\n",
       "      <td>19</td>\n",
       "      <td>Preparations of cereals, flour, starch or milk...</td>\n",
       "      <td>0</td>\n",
       "      <td>NaN</td>\n",
       "      <td>NaN</td>\n",
       "      <td>0.0</td>\n",
       "      <td>1328</td>\n",
       "      <td>0</td>\n",
       "    </tr>\n",
       "  </tbody>\n",
       "</table>\n",
       "<p>10 rows × 22 columns</p>\n",
       "</div>"
      ],
      "text/markdown": [
       "```python\n",
       "TwinPointer(Mock)\n",
       "```\n",
       "   Classification  Year  Period   Period Desc.  Aggregate Level  Is Leaf Code  \\\n",
       "10             HS  2021  202102  February 2021                2             0   \n",
       "11             HS  2021  202102  February 2021                2             0   \n",
       "12             HS  2021  202102  February 2021                2             0   \n",
       "13             HS  2021  202102  February 2021                2             0   \n",
       "14             HS  2021  202102  February 2021                2             0   \n",
       "15             HS  2021  202102  February 2021                2             0   \n",
       "16             HS  2021  202102  February 2021                2             0   \n",
       "17             HS  2021  202102  February 2021                2             0   \n",
       "18             HS  2021  202102  February 2021                2             0   \n",
       "19             HS  2021  202102  February 2021                2             0   \n",
       "\n",
       "    Trade Flow Code Trade Flow  Reporter Code Reporter  ...          Partner  \\\n",
       "10                1    Imports            124   Canada  ...       Bangladesh   \n",
       "11                1    Imports            124   Canada  ...            Haiti   \n",
       "12                1    Imports            124   Canada  ...        Guatemala   \n",
       "13                1    Imports            124   Canada  ...             Iraq   \n",
       "14                1    Imports            124   Canada  ...           Israel   \n",
       "15                1    Imports            124   Canada  ...            Italy   \n",
       "16                1    Imports            124   Canada  ...           Jordan   \n",
       "17                1    Imports            124   Canada  ...  Rep. of Moldova   \n",
       "18                1    Imports            124   Canada  ...          Nigeria   \n",
       "19                1    Imports            124   Canada  ...         Slovenia   \n",
       "\n",
       "    Partner ISO Commodity Code  \\\n",
       "10          NaN             19   \n",
       "11          NaN             19   \n",
       "12          NaN             19   \n",
       "13          NaN             19   \n",
       "14          NaN             19   \n",
       "15          NaN             19   \n",
       "16          NaN             19   \n",
       "17          NaN             19   \n",
       "18          NaN             19   \n",
       "19          NaN             19   \n",
       "\n",
       "                                            Commodity Qty Unit Code Qty Unit  \\\n",
       "10  Preparations of cereals, flour, starch or milk...             0      NaN   \n",
       "11  Preparations of cereals, flour, starch or milk...             0      NaN   \n",
       "12  Preparations of cereals, flour, starch or milk...             0      NaN   \n",
       "13  Preparations of cereals, flour, starch or milk...             0      NaN   \n",
       "14  Preparations of cereals, flour, starch or milk...             0      NaN   \n",
       "15  Preparations of cereals, flour, starch or milk...             0      NaN   \n",
       "16  Preparations of cereals, flour, starch or milk...             0      NaN   \n",
       "17  Preparations of cereals, flour, starch or milk...             0      NaN   \n",
       "18  Preparations of cereals, flour, starch or milk...             0      NaN   \n",
       "19  Preparations of cereals, flour, starch or milk...             0      NaN   \n",
       "\n",
       "    Qty  Netweight (kg)  Trade Value (US$)  Flag  \n",
       "10  NaN             0.0             227222     0  \n",
       "11  NaN             0.0              14748     0  \n",
       "12  NaN             0.0               1314     0  \n",
       "13  NaN             0.0               1825     0  \n",
       "14  NaN             0.0            1063627     0  \n",
       "15  NaN             0.0            8359327     0  \n",
       "16  NaN             0.0              16858     0  \n",
       "17  NaN             0.0              29897     0  \n",
       "18  NaN             0.0              22235     0  \n",
       "19  NaN             0.0               1328     0  \n",
       "\n",
       "[10 rows x 22 columns]"
      ],
      "text/plain": [
       "TwinPointer(Mock):\n",
       "   Classification  Year  Period   Period Desc.  Aggregate Level  Is Leaf Code  \\\n",
       "10             HS  2021  202102  February 2021                2             0   \n",
       "11             HS  2021  202102  February 2021                2             0   \n",
       "12             HS  2021  202102  February 2021                2             0   \n",
       "13             HS  2021  202102  February 2021                2             0   \n",
       "14             HS  2021  202102  February 2021                2             0   \n",
       "15             HS  2021  202102  February 2021                2             0   \n",
       "16             HS  2021  202102  February 2021                2             0   \n",
       "17             HS  2021  202102  February 2021                2             0   \n",
       "18             HS  2021  202102  February 2021                2             0   \n",
       "19             HS  2021  202102  February 2021                2             0   \n",
       "\n",
       "    Trade Flow Code Trade Flow  Reporter Code Reporter  ...          Partner  \\\n",
       "10                1    Imports            124   Canada  ...       Bangladesh   \n",
       "11                1    Imports            124   Canada  ...            Haiti   \n",
       "12                1    Imports            124   Canada  ...        Guatemala   \n",
       "13                1    Imports            124   Canada  ...             Iraq   \n",
       "14                1    Imports            124   Canada  ...           Israel   \n",
       "15                1    Imports            124   Canada  ...            Italy   \n",
       "16                1    Imports            124   Canada  ...           Jordan   \n",
       "17                1    Imports            124   Canada  ...  Rep. of Moldova   \n",
       "18                1    Imports            124   Canada  ...          Nigeria   \n",
       "19                1    Imports            124   Canada  ...         Slovenia   \n",
       "\n",
       "    Partner ISO Commodity Code  \\\n",
       "10          NaN             19   \n",
       "11          NaN             19   \n",
       "12          NaN             19   \n",
       "13          NaN             19   \n",
       "14          NaN             19   \n",
       "15          NaN             19   \n",
       "16          NaN             19   \n",
       "17          NaN             19   \n",
       "18          NaN             19   \n",
       "19          NaN             19   \n",
       "\n",
       "                                            Commodity Qty Unit Code Qty Unit  \\\n",
       "10  Preparations of cereals, flour, starch or milk...             0      NaN   \n",
       "11  Preparations of cereals, flour, starch or milk...             0      NaN   \n",
       "12  Preparations of cereals, flour, starch or milk...             0      NaN   \n",
       "13  Preparations of cereals, flour, starch or milk...             0      NaN   \n",
       "14  Preparations of cereals, flour, starch or milk...             0      NaN   \n",
       "15  Preparations of cereals, flour, starch or milk...             0      NaN   \n",
       "16  Preparations of cereals, flour, starch or milk...             0      NaN   \n",
       "17  Preparations of cereals, flour, starch or milk...             0      NaN   \n",
       "18  Preparations of cereals, flour, starch or milk...             0      NaN   \n",
       "19  Preparations of cereals, flour, starch or milk...             0      NaN   \n",
       "\n",
       "    Qty  Netweight (kg)  Trade Value (US$)  Flag  \n",
       "10  NaN             0.0             227222     0  \n",
       "11  NaN             0.0              14748     0  \n",
       "12  NaN             0.0               1314     0  \n",
       "13  NaN             0.0               1825     0  \n",
       "14  NaN             0.0            1063627     0  \n",
       "15  NaN             0.0            8359327     0  \n",
       "16  NaN             0.0              16858     0  \n",
       "17  NaN             0.0              29897     0  \n",
       "18  NaN             0.0              22235     0  \n",
       "19  NaN             0.0               1328     0  \n",
       "\n",
       "[10 rows x 22 columns]"
      ]
     },
     "execution_count": 12,
     "metadata": {},
     "output_type": "execute_result"
    }
   ],
   "source": [
    "mock = dataset.assets[0].mock\n",
    "mock"
   ]
  },
  {
   "cell_type": "code",
   "execution_count": 13,
   "metadata": {
    "tags": []
   },
   "outputs": [
    {
     "data": {
      "text/markdown": [
       "```python\n",
       "TwinPointer(Mock)\n",
       "```\n",
       "9738381"
      ],
      "text/plain": [
       "TwinPointer(Mock):\n",
       "9738381"
      ]
     },
     "execution_count": 13,
     "metadata": {},
     "output_type": "execute_result"
    }
   ],
   "source": [
    "mock[\"Trade Value (US$)\"].sum()"
   ]
  },
  {
   "cell_type": "code",
   "execution_count": 14,
   "metadata": {
    "tags": []
   },
   "outputs": [],
   "source": [
    "@sy.syft_function(input_policy=sy.ExactMatch(trade_data=mock),\n",
    "                  output_policy=sy.SingleExecutionExactOutput())\n",
    "def sum_trade_value_mil(trade_data):\n",
    "    import pandas as pd\n",
    "    from opendp.mod import enable_features\n",
    "    enable_features('contrib')\n",
    "    from opendp.measurements import make_base_laplace\n",
    "    aggregate = 0.\n",
    "    base_lap = make_base_laplace(scale=5.)\n",
    "    noise = base_lap(aggregate)\n",
    "\n",
    "    df = trade_data\n",
    "    total = df[\"Trade Value (US$)\"].sum()\n",
    "    return (float(total / 1_000_000), float(noise))"
   ]
  },
  {
   "cell_type": "code",
   "execution_count": 15,
   "metadata": {
    "tags": []
   },
   "outputs": [
    {
     "data": {
      "text/plain": [
       "(9.738381, 4.2281251554154995)"
      ]
     },
     "execution_count": 15,
     "metadata": {},
     "output_type": "execute_result"
    }
   ],
   "source": [
    "result = sum_trade_value_mil(trade_data=mock)\n",
    "result"
   ]
  },
  {
   "cell_type": "code",
   "execution_count": 16,
   "metadata": {
    "tags": []
   },
   "outputs": [],
   "source": [
    "assert result[0] == 9.738381"
   ]
  },
  {
   "cell_type": "code",
   "execution_count": 17,
   "metadata": {
    "tags": []
   },
   "outputs": [],
   "source": [
    "assert isinstance(result[1], float)"
   ]
  },
  {
   "cell_type": "code",
   "execution_count": 18,
   "metadata": {
    "tags": []
   },
   "outputs": [],
   "source": [
    "assert len(sum_trade_value_mil.kwargs) == 1"
   ]
  },
  {
   "cell_type": "code",
   "execution_count": 19,
   "metadata": {
    "tags": []
   },
   "outputs": [],
   "source": [
    "node_view = NodeView.from_api(guest_domain_client.api)\n",
    "assert node_view in sum_trade_value_mil.kwargs"
   ]
  },
  {
   "cell_type": "code",
   "execution_count": 20,
   "metadata": {
    "tags": []
   },
   "outputs": [],
   "source": [
    "assert \"trade_data\" in sum_trade_value_mil.kwargs[node_view]"
   ]
  },
  {
   "cell_type": "code",
   "execution_count": 21,
   "metadata": {
    "tags": []
   },
   "outputs": [],
   "source": [
    "assert sum_trade_value_mil.input_policy_init_kwargs[node_view][\"trade_data\"] == mock.id"
   ]
  },
  {
   "cell_type": "code",
   "execution_count": 22,
   "metadata": {
    "tags": []
   },
   "outputs": [
    {
     "data": {
      "text/plain": [
       "'@sy.syft_function(input_policy=sy.ExactMatch(trade_data=mock),\\n                  output_policy=sy.SingleExecutionExactOutput())\\ndef sum_trade_value_mil(trade_data):\\n    import pandas as pd\\n    from opendp.mod import enable_features\\n    enable_features(\\'contrib\\')\\n    from opendp.measurements import make_base_laplace\\n    aggregate = 0.\\n    base_lap = make_base_laplace(scale=5.)\\n    noise = base_lap(aggregate)\\n\\n    df = trade_data\\n    total = df[\"Trade Value (US$)\"].sum()\\n    return (float(total / 1_000_000), float(noise))\\n'"
      ]
     },
     "execution_count": 22,
     "metadata": {},
     "output_type": "execute_result"
    }
   ],
   "source": [
    "sum_trade_value_mil.code"
   ]
  },
  {
   "cell_type": "code",
   "execution_count": 23,
   "metadata": {
    "tags": []
   },
   "outputs": [
    {
     "data": {
      "text/markdown": [
       "```python\n",
       "class Request:\n",
       "  id: str = ee9538d102b94345a7ccb33d1a0a03d4\n",
       "  requesting_user_verify_key: str = d10d13f61c17f0281a32db4b4cc4a44769073f75166527e7cb38dfdb01c650c5\n",
       "  approving_user_verify_key: str = None\n",
       "  request_time: str = 2023-05-15 20:11:33\n",
       "  approval_time: str = None\n",
       "  status: str = RequestStatus.PENDING\n",
       "  node_uid: str = 7bca415d13ed1ec841f0d0aede098dbb\n",
       "  request_hash: str = \"47d1719649145ca64f94256810335e1edbc3f28ae686f57dd67775a51ad47b89\"\n",
       "  changes: str = [syft.service.request.request.UserCodeStatusChange]\n",
       "\n",
       "```"
      ],
      "text/plain": [
       "syft.service.request.request.Request"
      ]
     },
     "execution_count": 23,
     "metadata": {},
     "output_type": "execute_result"
    }
   ],
   "source": [
    "guest_domain_client.api.services.code.request_code_execution(sum_trade_value_mil)"
   ]
  },
  {
   "cell_type": "code",
   "execution_count": 24,
   "metadata": {
    "tags": []
   },
   "outputs": [
    {
     "data": {
      "text/html": [
       "List - Size: 1\n",
       "<div>\n",
       "<style scoped>\n",
       "    .dataframe tbody tr th:only-of-type {\n",
       "        vertical-align: middle;\n",
       "    }\n",
       "\n",
       "    .dataframe tbody tr th {\n",
       "        vertical-align: top;\n",
       "    }\n",
       "\n",
       "    .dataframe thead th {\n",
       "        text-align: right;\n",
       "    }\n",
       "</style>\n",
       "<table border=\"1\" class=\"dataframe\">\n",
       "  <thead>\n",
       "    <tr style=\"text-align: right;\">\n",
       "      <th></th>\n",
       "      <th>type</th>\n",
       "      <th>id</th>\n",
       "      <th>status</th>\n",
       "      <th>service_func_name</th>\n",
       "    </tr>\n",
       "  </thead>\n",
       "  <tbody>\n",
       "    <tr>\n",
       "      <th>0</th>\n",
       "      <td>syft.service.code.user_code.UserCode</td>\n",
       "      <td>6ee7241246f746c09d803cfddd1ae58d</td>\n",
       "      <td>{NodeView(node_name='test-domain-1', verify_ke...</td>\n",
       "      <td>sum_trade_value_mil</td>\n",
       "    </tr>\n",
       "  </tbody>\n",
       "</table>\n",
       "</div>"
      ],
      "text/plain": [
       "<syft.client.api.APIModule at 0x7efeb6d83af0>"
      ]
     },
     "execution_count": 24,
     "metadata": {},
     "output_type": "execute_result"
    }
   ],
   "source": [
    "guest_domain_client.code"
   ]
  },
  {
   "cell_type": "code",
   "execution_count": 25,
   "metadata": {
    "tags": []
   },
   "outputs": [],
   "source": [
    "assert len(guest_domain_client.api.services.code.get_all()) == 1"
   ]
  },
  {
   "cell_type": "code",
   "execution_count": 26,
   "metadata": {
    "tags": []
   },
   "outputs": [],
   "source": [
    "new_project = sy.Project(name=\"My Cool UN Project\")"
   ]
  },
  {
   "cell_type": "code",
   "execution_count": 27,
   "metadata": {
    "tags": []
   },
   "outputs": [],
   "source": [
    "proj_desc = \"\"\"Hi, I want to calculate the trade volume in million's with my cool code.\"\"\"\n",
    "new_project.set_description(proj_desc)"
   ]
  },
  {
   "cell_type": "code",
   "execution_count": 28,
   "metadata": {
    "tags": []
   },
   "outputs": [],
   "source": [
    "submitted_code = guest_domain_client.code[0]"
   ]
  },
  {
   "cell_type": "code",
   "execution_count": 29,
   "metadata": {
    "tags": []
   },
   "outputs": [
    {
     "data": {
      "text/markdown": [
       "```python\n",
       "class UserCode:\n",
       "  id: str = 6ee7241246f746c09d803cfddd1ae58d\n",
       "  node_uid: str = None\n",
       "  user_verify_key: str = d10d13f61c17f0281a32db4b4cc4a44769073f75166527e7cb38dfdb01c650c5\n",
       "  raw_code: str = \"@sy.syft_function(input_policy=sy.ExactMatch(trade_data=mock),\n",
       "                  output_policy=sy.SingleExecutionExactOutput())\n",
       "def sum_trade_value_mil(trade_data):\n",
       "    import pandas as pd\n",
       "    from opendp.mod import enable_features\n",
       "    enable_features('contrib')\n",
       "    from opendp.measurements import make_base_laplace\n",
       "    aggregate = 0.\n",
       "    base_lap = make_base_laplace(scale=5.)\n",
       "    noise = base_lap(aggregate)\n",
       "\n",
       "    df = trade_data\n",
       "    total = df[\"Trade Value (US$)\"].sum()\n",
       "    return (float(total / 1_000_000), float(noise))\n",
       "\"\n",
       "  input_policy_type: str = <class 'syft.service.policy.policy.ExactMatch'>\n",
       "  input_policy_init_kwargs: str = {NodeView(node_name='test-domain-1', verify_key=aec6ea4dfc049ceacaeeebc493167a88a200ddc367b1fa32da652444b635d21f): {'trade_data': <UID: 5b7b1bcdeadd4b0eb6feb882aa34fd13>}}\n",
       "  input_policy_state: str = b''\n",
       "  output_policy_type: str = <class 'syft.service.policy.policy.OutputPolicyExecuteOnce'>\n",
       "  output_policy_init_kwargs: str = {}\n",
       "  output_policy_state: str = b''\n",
       "  parsed_code: str = \"def user_func_sum_trade_value_mil_d10d13f61c17f0281a32db4b4cc4a44769073f75166527e7cb38dfdb01c650c5_5cd11d8bc44ba9ca10a6a7f1ce43e49dfbe8f969c6370ef5d062a6390d12a4a0(trade_data):\n",
       "\n",
       "    def sum_trade_value_mil(trade_data):\n",
       "        import pandas as pd\n",
       "        from opendp.mod import enable_features\n",
       "        enable_features('contrib')\n",
       "        from opendp.measurements import make_base_laplace\n",
       "        aggregate = 0.0\n",
       "        base_lap = make_base_laplace(scale=5.0)\n",
       "        noise = base_lap(aggregate)\n",
       "        df = trade_data\n",
       "        total = df['Trade Value (US$)'].sum()\n",
       "        return (float(total / 1000000), float(noise))\n",
       "    result = sum_trade_value_mil(trade_data=trade_data)\n",
       "    return result\"\n",
       "  service_func_name: str = \"sum_trade_value_mil\"\n",
       "  unique_func_name: str = \"user_func_sum_trade_value_mil_d10d13f61c17f0281a32db4b4cc4a44769073f75166527e7cb38dfdb01c650c5_5cd11d8bc44ba9ca10a6a7f1ce43e49dfbe8f969c6370ef5d062a6390d12a4a0\"\n",
       "  user_unique_func_name: str = \"user_func_sum_trade_value_mil_d10d13f61c17f0281a32db4b4cc4a44769073f75166527e7cb38dfdb01c650c5\"\n",
       "  code_hash: str = \"5cd11d8bc44ba9ca10a6a7f1ce43e49dfbe8f969c6370ef5d062a6390d12a4a0\"\n",
       "  signature: str = (trade_data)\n",
       "  status: str = {NodeView(node_name='test-domain-1', verify_key=aec6ea4dfc049ceacaeeebc493167a88a200ddc367b1fa32da652444b635d21f): <UserCodeStatus.SUBMITTED: 'submitted'>}\n",
       "  input_kwargs: str = ['trade_data']\n",
       "  enclave_metadata: str = None\n",
       "\n",
       "```"
      ],
      "text/plain": [
       "syft.service.code.user_code.UserCode"
      ]
     },
     "execution_count": 29,
     "metadata": {},
     "output_type": "execute_result"
    }
   ],
   "source": [
    "submitted_code"
   ]
  },
  {
   "cell_type": "code",
   "execution_count": 30,
   "metadata": {
    "tags": []
   },
   "outputs": [],
   "source": [
    "new_project.add_request(obj=submitted_code, permission=sy.UserCodeStatus.EXECUTE)"
   ]
  },
  {
   "cell_type": "code",
   "execution_count": 31,
   "metadata": {
    "tags": []
   },
   "outputs": [
    {
     "data": {
      "text/html": [
       "List - Size: 1\n",
       "<div>\n",
       "<style scoped>\n",
       "    .dataframe tbody tr th:only-of-type {\n",
       "        vertical-align: middle;\n",
       "    }\n",
       "\n",
       "    .dataframe tbody tr th {\n",
       "        vertical-align: top;\n",
       "    }\n",
       "\n",
       "    .dataframe thead th {\n",
       "        text-align: right;\n",
       "    }\n",
       "</style>\n",
       "<table border=\"1\" class=\"dataframe\">\n",
       "  <thead>\n",
       "    <tr style=\"text-align: right;\">\n",
       "      <th></th>\n",
       "      <th>type</th>\n",
       "      <th>id</th>\n",
       "    </tr>\n",
       "  </thead>\n",
       "  <tbody>\n",
       "    <tr>\n",
       "      <th>0</th>\n",
       "      <td>syft.service.project.project.ObjectPermissionC...</td>\n",
       "      <td>14b42072f8474596a03f32c85e8c9557</td>\n",
       "    </tr>\n",
       "  </tbody>\n",
       "</table>\n",
       "</div>"
      ],
      "text/plain": [
       "[syft.service.project.project.ObjectPermissionChange]"
      ]
     },
     "execution_count": 31,
     "metadata": {},
     "output_type": "execute_result"
    }
   ],
   "source": [
    "new_project.changes"
   ]
  },
  {
   "cell_type": "code",
   "execution_count": 32,
   "metadata": {
    "tags": []
   },
   "outputs": [
    {
     "data": {
      "text/markdown": [
       "```python\n",
       "class ProjectSubmit:\n",
       "  id: str = None\n",
       "  name: str = \"My Cool UN Project\"\n",
       "  description: str = \"Hi, I want to calculate the trade volume in million's with my cool code.\"\n",
       "  changes: str = [syft.service.project.project.ObjectPermissionChange]\n",
       "\n",
       "```"
      ],
      "text/plain": [
       "syft.service.project.project.ProjectSubmit"
      ]
     },
     "execution_count": 32,
     "metadata": {},
     "output_type": "execute_result"
    }
   ],
   "source": [
    "new_project"
   ]
  },
  {
   "cell_type": "code",
   "execution_count": 33,
   "metadata": {
    "tags": []
   },
   "outputs": [
    {
     "data": {
      "text/html": [
       "<div class=\"alert-success\" style=\"padding:5px;\"><strong>SyftSuccess</strong>: Project Submitted</div><br />"
      ],
      "text/plain": [
       "<class 'syft.service.response.SyftSuccess'>: Project Submitted"
      ]
     },
     "execution_count": 33,
     "metadata": {},
     "output_type": "execute_result"
    }
   ],
   "source": [
    "guest_domain_client.submit_project(new_project)"
   ]
  },
  {
   "cell_type": "code",
   "execution_count": 34,
   "metadata": {
    "tags": []
   },
   "outputs": [],
   "source": [
    "guest_domain_client._api = None\n",
    "_ = guest_domain_client.api"
   ]
  },
  {
   "cell_type": "code",
   "execution_count": 35,
   "metadata": {
    "tags": []
   },
   "outputs": [
    {
     "data": {
      "text/html": [
       "<div class=\"alert-info\" style=\"padding:5px;\"><strong>SyftNotReady</strong>: <class 'syft.service.code.user_code.UserCode'> Your code is waiting for approval: {NodeView(node_name='test-domain-1', verify_key=aec6ea4dfc049ceacaeeebc493167a88a200ddc367b1fa32da652444b635d21f): <UserCodeStatus.SUBMITTED: 'submitted'>}</div><br />"
      ],
      "text/plain": [
       "<class 'syft.service.response.SyftNotReady'>: <class 'syft.service.code.user_code.UserCode'> Your code is waiting for approval: {NodeView(node_name='test-domain-1', verify_key=aec6ea4dfc049ceacaeeebc493167a88a200ddc367b1fa32da652444b635d21f): <UserCodeStatus.SUBMITTED: 'submitted'>}"
      ]
     },
     "execution_count": 35,
     "metadata": {},
     "output_type": "execute_result"
    }
   ],
   "source": [
    "result = guest_domain_client.api.services.code.sum_trade_value_mil(trade_data=mock.id)\n",
    "result"
   ]
  },
  {
   "cell_type": "code",
   "execution_count": 36,
   "metadata": {
    "tags": []
   },
   "outputs": [],
   "source": [
    "assert isinstance(result, sy.SyftNotReady)"
   ]
  },
  {
   "cell_type": "code",
   "execution_count": 37,
   "metadata": {
    "tags": []
   },
   "outputs": [
    {
     "name": "stdout",
     "output_type": "stream",
     "text": [
      "Stopping test-domain-1\n"
     ]
    }
   ],
   "source": [
    "if node.node_type.value == \"python\":\n",
    "    node.land()"
   ]
  },
  {
   "cell_type": "code",
   "execution_count": null,
   "metadata": {},
   "outputs": [],
   "source": []
  }
 ],
 "metadata": {
  "kernelspec": {
   "display_name": "Python 3 (ipykernel)",
   "language": "python",
   "name": "python3"
  },
  "language_info": {
   "codemirror_mode": {
    "name": "ipython",
    "version": 3
   },
   "file_extension": ".py",
   "mimetype": "text/x-python",
   "name": "python",
   "nbconvert_exporter": "python",
   "pygments_lexer": "ipython3",
   "version": "3.10.8"
  },
  "toc": {
   "base_numbering": 1,
   "nav_menu": {},
   "number_sections": true,
   "sideBar": true,
   "skip_h1_title": false,
   "title_cell": "Table of Contents",
   "title_sidebar": "Contents",
   "toc_cell": false,
   "toc_position": {},
   "toc_section_display": true,
   "toc_window_display": true
  }
 },
 "nbformat": 4,
 "nbformat_minor": 4
}

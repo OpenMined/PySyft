{
 "cells": [
  {
   "cell_type": "code",
   "execution_count": 1,
   "metadata": {
    "tags": []
   },
   "outputs": [
    {
     "name": "stderr",
     "output_type": "stream",
     "text": [
      "kj/filesystem-disk-unix.c++:1703: warning: PWD environment variable doesn't match current directory; pwd = /home/dk/Desktop/projects/PySyft\n"
     ]
    },
    {
     "name": "stdout",
     "output_type": "stream",
     "text": [
      "✅ The installed version of syft==0.8.1b2 matches the requirement >=0.8 and the requirement <0.8.1\n"
     ]
    }
   ],
   "source": [
    "import syft as sy\n",
    "sy.requires(\">=0.8,<0.8.1\")"
   ]
  },
  {
   "cell_type": "code",
   "execution_count": 2,
   "metadata": {
    "tags": []
   },
   "outputs": [
    {
     "name": "stdout",
     "output_type": "stream",
     "text": [
      "Starting test-domain-1 server on 0.0.0.0:8080\n",
      "\n",
      "WARNING: private key is based on node name: test-domain-1 in dev_mode. Don't run this in production.\n",
      "SQLite Store Path:\n",
      "!open file:///tmp/7bca415d13ed1ec841f0d0aede098dbb.sqlite\n",
      "\n"
     ]
    },
    {
     "name": "stderr",
     "output_type": "stream",
     "text": [
      "INFO:     Started server process [65292]\n",
      "INFO:     Waiting for application startup.\n",
      "INFO:     Application startup complete.\n",
      "INFO:     Uvicorn running on http://0.0.0.0:8080 (Press CTRL+C to quit)\n"
     ]
    },
    {
     "name": "stdout",
     "output_type": "stream",
     "text": [
      "INFO:     127.0.0.1:45162 - \"GET /api/v1/new/metadata HTTP/1.1\" 200 OK\n",
      "INFO:     127.0.0.1:45162 - \"POST /api/v1/new/login HTTP/1.1\" 200 OK\n",
      "INFO:     127.0.0.1:45162 - \"GET /api/v1/new/api?verify_key=aec6ea4dfc049ceacaeeebc493167a88a200ddc367b1fa32da652444b635d21f HTTP/1.1\" 200 OK\n",
      "INFO:     127.0.0.1:45176 - \"POST /api/v1/new/api_call HTTP/1.1\" 200 OK\n",
      "INFO:     127.0.0.1:42308 - \"POST /api/v1/new/api_call HTTP/1.1\" 200 OK\n",
      "INFO:     127.0.0.1:57302 - \"POST /api/v1/new/api_call HTTP/1.1\" 200 OK\n",
      "INFO:     127.0.0.1:39156 - \"POST /api/v1/new/api_call HTTP/1.1\" 200 OK\n",
      "INFO:     127.0.0.1:59248 - \"POST /api/v1/new/api_call HTTP/1.1\" 200 OK\n",
      "INFO:     127.0.0.1:45308 - \"POST /api/v1/new/api_call HTTP/1.1\" 200 OK\n",
      "INFO:     127.0.0.1:49776 - \"POST /api/v1/new/api_call HTTP/1.1\" 200 OK\n",
      "INFO:     127.0.0.1:42694 - \"POST /api/v1/new/api_call HTTP/1.1\" 200 OK\n",
      "INFO:     127.0.0.1:47838 - \"POST /api/v1/new/api_call HTTP/1.1\" 200 OK\n",
      "INFO:     127.0.0.1:43882 - \"POST /api/v1/new/api_call HTTP/1.1\" 200 OK\n",
      "INFO:     127.0.0.1:43898 - \"POST /api/v1/new/api_call HTTP/1.1\" 200 OK\n",
      "INFO:     127.0.0.1:43904 - \"POST /api/v1/new/api_call HTTP/1.1\" 200 OK\n",
      "INFO:     127.0.0.1:43920 - \"POST /api/v1/new/api_call HTTP/1.1\" 200 OK\n",
      "INFO:     127.0.0.1:43930 - \"POST /api/v1/new/api_call HTTP/1.1\" 200 OK\n",
      "INFO:     127.0.0.1:43932 - \"POST /api/v1/new/api_call HTTP/1.1\" 200 OK\n",
      "INFO:     127.0.0.1:43936 - \"POST /api/v1/new/api_call HTTP/1.1\" 200 OK\n",
      "INFO:     127.0.0.1:43946 - \"POST /api/v1/new/api_call HTTP/1.1\" 200 OK\n",
      "INFO:     127.0.0.1:43950 - \"POST /api/v1/new/api_call HTTP/1.1\" 200 OK\n",
      "INFO:     127.0.0.1:42000 - \"POST /api/v1/new/api_call HTTP/1.1\" 200 OK\n",
      "INFO:     127.0.0.1:42010 - \"POST /api/v1/new/api_call HTTP/1.1\" 200 OK\n",
      "INFO:     127.0.0.1:42020 - \"POST /api/v1/new/api_call HTTP/1.1\" 200 OK\n",
      "INFO:     127.0.0.1:42032 - \"POST /api/v1/new/api_call HTTP/1.1\" 200 OK\n",
      "INFO:     127.0.0.1:42042 - \"POST /api/v1/new/api_call HTTP/1.1\" 200 OK\n",
      "INFO:     127.0.0.1:42054 - \"POST /api/v1/new/api_call HTTP/1.1\" 200 OK\n",
      "INFO:     127.0.0.1:49498 - \"GET /api/v1/new/metadata HTTP/1.1\" 200 OK\n",
      "INFO:     127.0.0.1:49498 - \"POST /api/v1/new/login HTTP/1.1\" 200 OK\n",
      "INFO:     127.0.0.1:49498 - \"GET /api/v1/new/api?verify_key=d10d13f61c17f0281a32db4b4cc4a44769073f75166527e7cb38dfdb01c650c5 HTTP/1.1\" 200 OK\n",
      "INFO:     127.0.0.1:49512 - \"POST /api/v1/new/api_call HTTP/1.1\" 200 OK\n",
      "INFO:     127.0.0.1:44748 - \"POST /api/v1/new/api_call HTTP/1.1\" 200 OK\n",
      "INFO:     127.0.0.1:42898 - \"POST /api/v1/new/api_call HTTP/1.1\" 200 OK\n",
      "INFO:     127.0.0.1:46084 - \"POST /api/v1/new/api_call HTTP/1.1\" 200 OK\n",
      "INFO:     127.0.0.1:46086 - \"POST /api/v1/new/api_call HTTP/1.1\" 200 OK\n",
      "INFO:     127.0.0.1:57244 - \"POST /api/v1/new/api_call HTTP/1.1\" 200 OK\n"
     ]
    }
   ],
   "source": [
    "node = sy.orchestra.launch(name=\"test-domain-1\", port=8080, dev_mode=True)"
   ]
  },
  {
   "cell_type": "code",
   "execution_count": 3,
   "metadata": {
    "tags": []
   },
   "outputs": [],
   "source": [
    "domain_client = node.login(email=\"info@openmined.org\", password=\"changethis\")"
   ]
  },
  {
   "cell_type": "code",
   "execution_count": 7,
   "metadata": {
    "tags": []
   },
   "outputs": [
    {
     "data": {
      "text/html": [
       "List - Size: 2\n",
       "<div>\n",
       "<style scoped>\n",
       "    .dataframe tbody tr th:only-of-type {\n",
       "        vertical-align: middle;\n",
       "    }\n",
       "\n",
       "    .dataframe tbody tr th {\n",
       "        vertical-align: top;\n",
       "    }\n",
       "\n",
       "    .dataframe thead th {\n",
       "        text-align: right;\n",
       "    }\n",
       "</style>\n",
       "<table border=\"1\" class=\"dataframe\">\n",
       "  <thead>\n",
       "    <tr style=\"text-align: right;\">\n",
       "      <th></th>\n",
       "      <th>type</th>\n",
       "      <th>id</th>\n",
       "      <th>subject</th>\n",
       "      <th>status</th>\n",
       "      <th>created_at</th>\n",
       "      <th>linked_obj</th>\n",
       "    </tr>\n",
       "  </thead>\n",
       "  <tbody>\n",
       "    <tr>\n",
       "      <th>0</th>\n",
       "      <td>syft.service.message.messages.Message</td>\n",
       "      <td>ce0bb3be33964fd8ab1687423bb4cf47</td>\n",
       "      <td>Project Approval</td>\n",
       "      <td>MessageStatus.UNDELIVERED</td>\n",
       "      <td>2023-05-15 20:11:39</td>\n",
       "      <td>&lt;&lt;class 'syft.service.project.project.Project'...</td>\n",
       "    </tr>\n",
       "    <tr>\n",
       "      <th>1</th>\n",
       "      <td>syft.service.message.messages.Message</td>\n",
       "      <td>d6a251aa8b5f4e9191ec3e50fb2de90d</td>\n",
       "      <td>Approval Request</td>\n",
       "      <td>MessageStatus.UNDELIVERED</td>\n",
       "      <td>2023-05-15 20:11:33</td>\n",
       "      <td>&lt;&lt;class 'syft.service.request.request.Request'...</td>\n",
       "    </tr>\n",
       "  </tbody>\n",
       "</table>\n",
       "</div>"
      ],
      "text/plain": [
       "<syft.client.api.APIModule at 0x7f7638b3b400>"
      ]
     },
     "execution_count": 7,
     "metadata": {},
     "output_type": "execute_result"
    }
   ],
   "source": [
    "domain_client.notifications"
   ]
  },
  {
   "cell_type": "code",
   "execution_count": 5,
   "metadata": {
    "tags": []
   },
   "outputs": [
    {
     "data": {
      "text/html": [
       "List - Size: 2\n",
       "<div>\n",
       "<style scoped>\n",
       "    .dataframe tbody tr th:only-of-type {\n",
       "        vertical-align: middle;\n",
       "    }\n",
       "\n",
       "    .dataframe tbody tr th {\n",
       "        vertical-align: top;\n",
       "    }\n",
       "\n",
       "    .dataframe thead th {\n",
       "        text-align: right;\n",
       "    }\n",
       "</style>\n",
       "<table border=\"1\" class=\"dataframe\">\n",
       "  <thead>\n",
       "    <tr style=\"text-align: right;\">\n",
       "      <th></th>\n",
       "      <th>type</th>\n",
       "      <th>id</th>\n",
       "      <th>subject</th>\n",
       "      <th>status</th>\n",
       "      <th>created_at</th>\n",
       "      <th>linked_obj</th>\n",
       "    </tr>\n",
       "  </thead>\n",
       "  <tbody>\n",
       "    <tr>\n",
       "      <th>0</th>\n",
       "      <td>syft.service.message.messages.Message</td>\n",
       "      <td>d6a251aa8b5f4e9191ec3e50fb2de90d</td>\n",
       "      <td>Approval Request</td>\n",
       "      <td>MessageStatus.UNDELIVERED</td>\n",
       "      <td>2023-05-15 20:11:33</td>\n",
       "      <td>&lt;&lt;class 'syft.service.request.request.Request'...</td>\n",
       "    </tr>\n",
       "    <tr>\n",
       "      <th>1</th>\n",
       "      <td>syft.service.message.messages.Message</td>\n",
       "      <td>ce0bb3be33964fd8ab1687423bb4cf47</td>\n",
       "      <td>Project Approval</td>\n",
       "      <td>MessageStatus.UNDELIVERED</td>\n",
       "      <td>2023-05-15 20:11:39</td>\n",
       "      <td>&lt;&lt;class 'syft.service.project.project.Project'...</td>\n",
       "    </tr>\n",
       "  </tbody>\n",
       "</table>\n",
       "</div>"
      ],
      "text/plain": [
       "[syft.service.message.messages.Message, syft.service.message.messages.Message]"
      ]
     },
     "execution_count": 5,
     "metadata": {},
     "output_type": "execute_result"
    }
   ],
   "source": [
    "from syft import MessageStatus\n",
    "messages = domain_client.api.services.messages.get_all_for_status(MessageStatus.UNDELIVERED)\n",
    "messages"
   ]
  },
  {
   "cell_type": "code",
   "execution_count": 6,
   "metadata": {
    "tags": []
   },
   "outputs": [],
   "source": [
    "assert len(messages) == 2"
   ]
  },
  {
   "cell_type": "code",
   "execution_count": 10,
   "metadata": {},
   "outputs": [
    {
     "data": {
      "text/html": [
       "[]"
      ],
      "text/plain": [
       "[]"
      ]
     },
     "execution_count": 10,
     "metadata": {},
     "output_type": "execute_result"
    }
   ],
   "source": [
    "delivered_messages = domain_client.api.services.messages.get_all_for_status(status=sy.MessageStatus.DELIVERED)\n",
    "delivered_messages"
   ]
  },
  {
   "cell_type": "code",
   "execution_count": 9,
   "metadata": {},
   "outputs": [],
   "source": [
    "assert len(delivered_messages) == 0"
   ]
  },
  {
   "cell_type": "code",
   "execution_count": 11,
   "metadata": {},
   "outputs": [
    {
     "data": {
      "text/html": [
       "List - Size: 2\n",
       "<div>\n",
       "<style scoped>\n",
       "    .dataframe tbody tr th:only-of-type {\n",
       "        vertical-align: middle;\n",
       "    }\n",
       "\n",
       "    .dataframe tbody tr th {\n",
       "        vertical-align: top;\n",
       "    }\n",
       "\n",
       "    .dataframe thead th {\n",
       "        text-align: right;\n",
       "    }\n",
       "</style>\n",
       "<table border=\"1\" class=\"dataframe\">\n",
       "  <thead>\n",
       "    <tr style=\"text-align: right;\">\n",
       "      <th></th>\n",
       "      <th>type</th>\n",
       "      <th>id</th>\n",
       "      <th>subject</th>\n",
       "      <th>status</th>\n",
       "      <th>created_at</th>\n",
       "      <th>linked_obj</th>\n",
       "    </tr>\n",
       "  </thead>\n",
       "  <tbody>\n",
       "    <tr>\n",
       "      <th>0</th>\n",
       "      <td>syft.service.message.messages.Message</td>\n",
       "      <td>d6a251aa8b5f4e9191ec3e50fb2de90d</td>\n",
       "      <td>Approval Request</td>\n",
       "      <td>MessageStatus.UNDELIVERED</td>\n",
       "      <td>2023-05-15 20:11:33</td>\n",
       "      <td>&lt;&lt;class 'syft.service.request.request.Request'...</td>\n",
       "    </tr>\n",
       "    <tr>\n",
       "      <th>1</th>\n",
       "      <td>syft.service.message.messages.Message</td>\n",
       "      <td>ce0bb3be33964fd8ab1687423bb4cf47</td>\n",
       "      <td>Project Approval</td>\n",
       "      <td>MessageStatus.UNDELIVERED</td>\n",
       "      <td>2023-05-15 20:11:39</td>\n",
       "      <td>&lt;&lt;class 'syft.service.project.project.Project'...</td>\n",
       "    </tr>\n",
       "  </tbody>\n",
       "</table>\n",
       "</div>"
      ],
      "text/plain": [
       "[syft.service.message.messages.Message, syft.service.message.messages.Message]"
      ]
     },
     "execution_count": 11,
     "metadata": {},
     "output_type": "execute_result"
    }
   ],
   "source": [
    "undelivered_messages = domain_client.api.services.messages.get_all_for_status(status=sy.MessageStatus.UNDELIVERED)\n",
    "undelivered_messages"
   ]
  },
  {
   "cell_type": "code",
   "execution_count": 12,
   "metadata": {},
   "outputs": [],
   "source": [
    "assert len(undelivered_messages) == 2"
   ]
  },
  {
   "cell_type": "code",
   "execution_count": 13,
   "metadata": {
    "tags": []
   },
   "outputs": [],
   "source": [
    "project_message = None\n",
    "for message in messages:\n",
    "    if issubclass(message.linked_obj.object_type, sy.service.project.project.Project):\n",
    "        project_message = message"
   ]
  },
  {
   "cell_type": "code",
   "execution_count": 14,
   "metadata": {
    "tags": []
   },
   "outputs": [],
   "source": [
    "assert project_message is not None"
   ]
  },
  {
   "cell_type": "code",
   "execution_count": 15,
   "metadata": {
    "tags": []
   },
   "outputs": [
    {
     "data": {
      "text/markdown": [
       "```python\n",
       "class Project:\n",
       "  id: str = c92f070069944077a074a47ccccbb143\n",
       "  name: str = \"My Cool UN Project\"\n",
       "  description: str = \"Hi, I want to calculate the trade volume in million's with my cool code.\"\n",
       "  user_verify_key: str = d10d13f61c17f0281a32db4b4cc4a44769073f75166527e7cb38dfdb01c650c5\n",
       "  requests: str = [syft.service.request.request.Request]\n",
       "\n",
       "```"
      ],
      "text/plain": [
       "syft.service.project.project.Project"
      ]
     },
     "execution_count": 15,
     "metadata": {},
     "output_type": "execute_result"
    }
   ],
   "source": [
    "project = project_message.link\n",
    "project"
   ]
  },
  {
   "cell_type": "code",
   "execution_count": 16,
   "metadata": {
    "tags": []
   },
   "outputs": [],
   "source": [
    "assert len(project.requests) == 1"
   ]
  },
  {
   "cell_type": "code",
   "execution_count": 17,
   "metadata": {
    "tags": []
   },
   "outputs": [
    {
     "data": {
      "text/markdown": [
       "```python\n",
       "class Request:\n",
       "  id: str = 47912d858f704d7db4f7781684e13ff3\n",
       "  requesting_user_verify_key: str = d10d13f61c17f0281a32db4b4cc4a44769073f75166527e7cb38dfdb01c650c5\n",
       "  approving_user_verify_key: str = None\n",
       "  request_time: str = 2023-05-15 20:11:39\n",
       "  approval_time: str = None\n",
       "  status: str = RequestStatus.PENDING\n",
       "  node_uid: str = 7bca415d13ed1ec841f0d0aede098dbb\n",
       "  request_hash: str = \"98569b521907eaa3e8b3a70a8e708eac603fe0dbb42f0266a183d151d1134d18\"\n",
       "  changes: str = [syft.service.request.request.UserCodeStatusChange]\n",
       "\n",
       "```"
      ],
      "text/plain": [
       "syft.service.request.request.Request"
      ]
     },
     "execution_count": 17,
     "metadata": {},
     "output_type": "execute_result"
    }
   ],
   "source": [
    "request = project.requests[0]\n",
    "request"
   ]
  },
  {
   "cell_type": "code",
   "execution_count": 18,
   "metadata": {
    "tags": []
   },
   "outputs": [
    {
     "data": {
      "text/markdown": [
       "```python\n",
       "class UserCode:\n",
       "  id: str = 6ee7241246f746c09d803cfddd1ae58d\n",
       "  node_uid: str = 7bca415d13ed1ec841f0d0aede098dbb\n",
       "  user_verify_key: str = d10d13f61c17f0281a32db4b4cc4a44769073f75166527e7cb38dfdb01c650c5\n",
       "  raw_code: str = \"@sy.syft_function(input_policy=sy.ExactMatch(trade_data=mock),\n",
       "                  output_policy=sy.SingleExecutionExactOutput())\n",
       "def sum_trade_value_mil(trade_data):\n",
       "    import pandas as pd\n",
       "    from opendp.mod import enable_features\n",
       "    enable_features('contrib')\n",
       "    from opendp.measurements import make_base_laplace\n",
       "    aggregate = 0.\n",
       "    base_lap = make_base_laplace(scale=5.)\n",
       "    noise = base_lap(aggregate)\n",
       "\n",
       "    df = trade_data\n",
       "    total = df[\"Trade Value (US$)\"].sum()\n",
       "    return (float(total / 1_000_000), float(noise))\n",
       "\"\n",
       "  input_policy_type: str = <class 'syft.service.policy.policy.ExactMatch'>\n",
       "  input_policy_init_kwargs: str = {NodeView(node_name='test-domain-1', verify_key=aec6ea4dfc049ceacaeeebc493167a88a200ddc367b1fa32da652444b635d21f): {'trade_data': <UID: 5b7b1bcdeadd4b0eb6feb882aa34fd13>}}\n",
       "  input_policy_state: str = b''\n",
       "  output_policy_type: str = <class 'syft.service.policy.policy.OutputPolicyExecuteOnce'>\n",
       "  output_policy_init_kwargs: str = {}\n",
       "  output_policy_state: str = b''\n",
       "  parsed_code: str = \"def user_func_sum_trade_value_mil_d10d13f61c17f0281a32db4b4cc4a44769073f75166527e7cb38dfdb01c650c5_5cd11d8bc44ba9ca10a6a7f1ce43e49dfbe8f969c6370ef5d062a6390d12a4a0(trade_data):\n",
       "\n",
       "    def sum_trade_value_mil(trade_data):\n",
       "        import pandas as pd\n",
       "        from opendp.mod import enable_features\n",
       "        enable_features('contrib')\n",
       "        from opendp.measurements import make_base_laplace\n",
       "        aggregate = 0.0\n",
       "        base_lap = make_base_laplace(scale=5.0)\n",
       "        noise = base_lap(aggregate)\n",
       "        df = trade_data\n",
       "        total = df['Trade Value (US$)'].sum()\n",
       "        return (float(total / 1000000), float(noise))\n",
       "    result = sum_trade_value_mil(trade_data=trade_data)\n",
       "    return result\"\n",
       "  service_func_name: str = \"sum_trade_value_mil\"\n",
       "  unique_func_name: str = \"user_func_sum_trade_value_mil_d10d13f61c17f0281a32db4b4cc4a44769073f75166527e7cb38dfdb01c650c5_5cd11d8bc44ba9ca10a6a7f1ce43e49dfbe8f969c6370ef5d062a6390d12a4a0\"\n",
       "  user_unique_func_name: str = \"user_func_sum_trade_value_mil_d10d13f61c17f0281a32db4b4cc4a44769073f75166527e7cb38dfdb01c650c5\"\n",
       "  code_hash: str = \"5cd11d8bc44ba9ca10a6a7f1ce43e49dfbe8f969c6370ef5d062a6390d12a4a0\"\n",
       "  signature: str = (trade_data)\n",
       "  status: str = {NodeView(node_name='test-domain-1', verify_key=aec6ea4dfc049ceacaeeebc493167a88a200ddc367b1fa32da652444b635d21f): <UserCodeStatus.SUBMITTED: 'submitted'>}\n",
       "  input_kwargs: str = ['trade_data']\n",
       "  enclave_metadata: str = None\n",
       "\n",
       "```"
      ],
      "text/plain": [
       "syft.service.code.user_code.UserCode"
      ]
     },
     "execution_count": 18,
     "metadata": {},
     "output_type": "execute_result"
    }
   ],
   "source": [
    "func = request.changes[0].link\n",
    "func"
   ]
  },
  {
   "cell_type": "code",
   "execution_count": 19,
   "metadata": {
    "tags": []
   },
   "outputs": [
    {
     "name": "stdout",
     "output_type": "stream",
     "text": [
      "@sy.syft_function(input_policy=sy.ExactMatch(trade_data=mock),\n",
      "                  output_policy=sy.SingleExecutionExactOutput())\n",
      "def sum_trade_value_mil(trade_data):\n",
      "    import pandas as pd\n",
      "    from opendp.mod import enable_features\n",
      "    enable_features('contrib')\n",
      "    from opendp.measurements import make_base_laplace\n",
      "    aggregate = 0.\n",
      "    base_lap = make_base_laplace(scale=5.)\n",
      "    noise = base_lap(aggregate)\n",
      "\n",
      "    df = trade_data\n",
      "    total = df[\"Trade Value (US$)\"].sum()\n",
      "    return (float(total / 1_000_000), float(noise))\n",
      "\n"
     ]
    }
   ],
   "source": [
    "print(func.code)"
   ]
  },
  {
   "cell_type": "code",
   "execution_count": 20,
   "metadata": {
    "tags": []
   },
   "outputs": [
    {
     "data": {
      "text/plain": [
       "<UID: 7bca415d13ed1ec841f0d0aede098dbb>"
      ]
     },
     "execution_count": 20,
     "metadata": {},
     "output_type": "execute_result"
    }
   ],
   "source": [
    "func.node_uid"
   ]
  },
  {
   "cell_type": "code",
   "execution_count": 21,
   "metadata": {
    "tags": []
   },
   "outputs": [
    {
     "data": {
      "text/html": [
       "List - Size: 1\n",
       "<div>\n",
       "<style scoped>\n",
       "    .dataframe tbody tr th:only-of-type {\n",
       "        vertical-align: middle;\n",
       "    }\n",
       "\n",
       "    .dataframe tbody tr th {\n",
       "        vertical-align: top;\n",
       "    }\n",
       "\n",
       "    .dataframe thead th {\n",
       "        text-align: right;\n",
       "    }\n",
       "</style>\n",
       "<table border=\"1\" class=\"dataframe\">\n",
       "  <thead>\n",
       "    <tr style=\"text-align: right;\">\n",
       "      <th></th>\n",
       "      <th>type</th>\n",
       "      <th>id</th>\n",
       "    </tr>\n",
       "  </thead>\n",
       "  <tbody>\n",
       "    <tr>\n",
       "      <th>0</th>\n",
       "      <td>syft.service.dataset.dataset.Asset</td>\n",
       "      <td>38200d0695c74c23afdeecc362d3e715</td>\n",
       "    </tr>\n",
       "  </tbody>\n",
       "</table>\n",
       "</div>"
      ],
      "text/plain": [
       "[syft.service.dataset.dataset.Asset]"
      ]
     },
     "execution_count": 21,
     "metadata": {},
     "output_type": "execute_result"
    }
   ],
   "source": [
    "func.assets"
   ]
  },
  {
   "cell_type": "code",
   "execution_count": 22,
   "metadata": {
    "tags": []
   },
   "outputs": [
    {
     "data": {
      "text/markdown": [
       "```python\n",
       "Asset: canada_trade_flow\n",
       "Pointer Id: 5b7b1bcdeadd4b0eb6feb882aa34fd13\n",
       "Description: all the datas\n",
       "Total Data Subjects: 1\n",
       "Shape: (10, 22)\n",
       "Contributors: 1\n",
       "\tAndrew Trask: andrew@openmined.org\n",
       "\n",
       "```"
      ],
      "text/plain": [
       "syft.service.dataset.dataset.Asset"
      ]
     },
     "execution_count": 22,
     "metadata": {},
     "output_type": "execute_result"
    }
   ],
   "source": [
    "asset = func.assets[0]\n",
    "asset"
   ]
  },
  {
   "cell_type": "code",
   "execution_count": 23,
   "metadata": {
    "tags": []
   },
   "outputs": [],
   "source": [
    "assert len(asset.data_subjects) == 1"
   ]
  },
  {
   "cell_type": "code",
   "execution_count": 24,
   "metadata": {
    "tags": []
   },
   "outputs": [
    {
     "data": {
      "text/html": [
       "<div>\n",
       "<style scoped>\n",
       "    .dataframe tbody tr th:only-of-type {\n",
       "        vertical-align: middle;\n",
       "    }\n",
       "\n",
       "    .dataframe tbody tr th {\n",
       "        vertical-align: top;\n",
       "    }\n",
       "\n",
       "    .dataframe thead th {\n",
       "        text-align: right;\n",
       "    }\n",
       "</style>\n",
       "<table border=\"1\" class=\"dataframe\">\n",
       "  <thead>\n",
       "    <tr style=\"text-align: right;\">\n",
       "      <th></th>\n",
       "      <th>Classification</th>\n",
       "      <th>Year</th>\n",
       "      <th>Period</th>\n",
       "      <th>Period Desc.</th>\n",
       "      <th>Aggregate Level</th>\n",
       "      <th>Is Leaf Code</th>\n",
       "      <th>Trade Flow Code</th>\n",
       "      <th>Trade Flow</th>\n",
       "      <th>Reporter Code</th>\n",
       "      <th>Reporter</th>\n",
       "      <th>...</th>\n",
       "      <th>Partner</th>\n",
       "      <th>Partner ISO</th>\n",
       "      <th>Commodity Code</th>\n",
       "      <th>Commodity</th>\n",
       "      <th>Qty Unit Code</th>\n",
       "      <th>Qty Unit</th>\n",
       "      <th>Qty</th>\n",
       "      <th>Netweight (kg)</th>\n",
       "      <th>Trade Value (US$)</th>\n",
       "      <th>Flag</th>\n",
       "    </tr>\n",
       "  </thead>\n",
       "  <tbody>\n",
       "    <tr>\n",
       "      <th>10</th>\n",
       "      <td>HS</td>\n",
       "      <td>2021</td>\n",
       "      <td>202102</td>\n",
       "      <td>February 2021</td>\n",
       "      <td>2</td>\n",
       "      <td>0</td>\n",
       "      <td>1</td>\n",
       "      <td>Imports</td>\n",
       "      <td>124</td>\n",
       "      <td>Canada</td>\n",
       "      <td>...</td>\n",
       "      <td>Bangladesh</td>\n",
       "      <td>NaN</td>\n",
       "      <td>19</td>\n",
       "      <td>Preparations of cereals, flour, starch or milk...</td>\n",
       "      <td>0</td>\n",
       "      <td>NaN</td>\n",
       "      <td>NaN</td>\n",
       "      <td>0.0</td>\n",
       "      <td>227222</td>\n",
       "      <td>0</td>\n",
       "    </tr>\n",
       "    <tr>\n",
       "      <th>11</th>\n",
       "      <td>HS</td>\n",
       "      <td>2021</td>\n",
       "      <td>202102</td>\n",
       "      <td>February 2021</td>\n",
       "      <td>2</td>\n",
       "      <td>0</td>\n",
       "      <td>1</td>\n",
       "      <td>Imports</td>\n",
       "      <td>124</td>\n",
       "      <td>Canada</td>\n",
       "      <td>...</td>\n",
       "      <td>Haiti</td>\n",
       "      <td>NaN</td>\n",
       "      <td>19</td>\n",
       "      <td>Preparations of cereals, flour, starch or milk...</td>\n",
       "      <td>0</td>\n",
       "      <td>NaN</td>\n",
       "      <td>NaN</td>\n",
       "      <td>0.0</td>\n",
       "      <td>14748</td>\n",
       "      <td>0</td>\n",
       "    </tr>\n",
       "    <tr>\n",
       "      <th>12</th>\n",
       "      <td>HS</td>\n",
       "      <td>2021</td>\n",
       "      <td>202102</td>\n",
       "      <td>February 2021</td>\n",
       "      <td>2</td>\n",
       "      <td>0</td>\n",
       "      <td>1</td>\n",
       "      <td>Imports</td>\n",
       "      <td>124</td>\n",
       "      <td>Canada</td>\n",
       "      <td>...</td>\n",
       "      <td>Guatemala</td>\n",
       "      <td>NaN</td>\n",
       "      <td>19</td>\n",
       "      <td>Preparations of cereals, flour, starch or milk...</td>\n",
       "      <td>0</td>\n",
       "      <td>NaN</td>\n",
       "      <td>NaN</td>\n",
       "      <td>0.0</td>\n",
       "      <td>1314</td>\n",
       "      <td>0</td>\n",
       "    </tr>\n",
       "    <tr>\n",
       "      <th>13</th>\n",
       "      <td>HS</td>\n",
       "      <td>2021</td>\n",
       "      <td>202102</td>\n",
       "      <td>February 2021</td>\n",
       "      <td>2</td>\n",
       "      <td>0</td>\n",
       "      <td>1</td>\n",
       "      <td>Imports</td>\n",
       "      <td>124</td>\n",
       "      <td>Canada</td>\n",
       "      <td>...</td>\n",
       "      <td>Iraq</td>\n",
       "      <td>NaN</td>\n",
       "      <td>19</td>\n",
       "      <td>Preparations of cereals, flour, starch or milk...</td>\n",
       "      <td>0</td>\n",
       "      <td>NaN</td>\n",
       "      <td>NaN</td>\n",
       "      <td>0.0</td>\n",
       "      <td>1825</td>\n",
       "      <td>0</td>\n",
       "    </tr>\n",
       "    <tr>\n",
       "      <th>14</th>\n",
       "      <td>HS</td>\n",
       "      <td>2021</td>\n",
       "      <td>202102</td>\n",
       "      <td>February 2021</td>\n",
       "      <td>2</td>\n",
       "      <td>0</td>\n",
       "      <td>1</td>\n",
       "      <td>Imports</td>\n",
       "      <td>124</td>\n",
       "      <td>Canada</td>\n",
       "      <td>...</td>\n",
       "      <td>Israel</td>\n",
       "      <td>NaN</td>\n",
       "      <td>19</td>\n",
       "      <td>Preparations of cereals, flour, starch or milk...</td>\n",
       "      <td>0</td>\n",
       "      <td>NaN</td>\n",
       "      <td>NaN</td>\n",
       "      <td>0.0</td>\n",
       "      <td>1063627</td>\n",
       "      <td>0</td>\n",
       "    </tr>\n",
       "    <tr>\n",
       "      <th>15</th>\n",
       "      <td>HS</td>\n",
       "      <td>2021</td>\n",
       "      <td>202102</td>\n",
       "      <td>February 2021</td>\n",
       "      <td>2</td>\n",
       "      <td>0</td>\n",
       "      <td>1</td>\n",
       "      <td>Imports</td>\n",
       "      <td>124</td>\n",
       "      <td>Canada</td>\n",
       "      <td>...</td>\n",
       "      <td>Italy</td>\n",
       "      <td>NaN</td>\n",
       "      <td>19</td>\n",
       "      <td>Preparations of cereals, flour, starch or milk...</td>\n",
       "      <td>0</td>\n",
       "      <td>NaN</td>\n",
       "      <td>NaN</td>\n",
       "      <td>0.0</td>\n",
       "      <td>8359327</td>\n",
       "      <td>0</td>\n",
       "    </tr>\n",
       "    <tr>\n",
       "      <th>16</th>\n",
       "      <td>HS</td>\n",
       "      <td>2021</td>\n",
       "      <td>202102</td>\n",
       "      <td>February 2021</td>\n",
       "      <td>2</td>\n",
       "      <td>0</td>\n",
       "      <td>1</td>\n",
       "      <td>Imports</td>\n",
       "      <td>124</td>\n",
       "      <td>Canada</td>\n",
       "      <td>...</td>\n",
       "      <td>Jordan</td>\n",
       "      <td>NaN</td>\n",
       "      <td>19</td>\n",
       "      <td>Preparations of cereals, flour, starch or milk...</td>\n",
       "      <td>0</td>\n",
       "      <td>NaN</td>\n",
       "      <td>NaN</td>\n",
       "      <td>0.0</td>\n",
       "      <td>16858</td>\n",
       "      <td>0</td>\n",
       "    </tr>\n",
       "    <tr>\n",
       "      <th>17</th>\n",
       "      <td>HS</td>\n",
       "      <td>2021</td>\n",
       "      <td>202102</td>\n",
       "      <td>February 2021</td>\n",
       "      <td>2</td>\n",
       "      <td>0</td>\n",
       "      <td>1</td>\n",
       "      <td>Imports</td>\n",
       "      <td>124</td>\n",
       "      <td>Canada</td>\n",
       "      <td>...</td>\n",
       "      <td>Rep. of Moldova</td>\n",
       "      <td>NaN</td>\n",
       "      <td>19</td>\n",
       "      <td>Preparations of cereals, flour, starch or milk...</td>\n",
       "      <td>0</td>\n",
       "      <td>NaN</td>\n",
       "      <td>NaN</td>\n",
       "      <td>0.0</td>\n",
       "      <td>29897</td>\n",
       "      <td>0</td>\n",
       "    </tr>\n",
       "    <tr>\n",
       "      <th>18</th>\n",
       "      <td>HS</td>\n",
       "      <td>2021</td>\n",
       "      <td>202102</td>\n",
       "      <td>February 2021</td>\n",
       "      <td>2</td>\n",
       "      <td>0</td>\n",
       "      <td>1</td>\n",
       "      <td>Imports</td>\n",
       "      <td>124</td>\n",
       "      <td>Canada</td>\n",
       "      <td>...</td>\n",
       "      <td>Nigeria</td>\n",
       "      <td>NaN</td>\n",
       "      <td>19</td>\n",
       "      <td>Preparations of cereals, flour, starch or milk...</td>\n",
       "      <td>0</td>\n",
       "      <td>NaN</td>\n",
       "      <td>NaN</td>\n",
       "      <td>0.0</td>\n",
       "      <td>22235</td>\n",
       "      <td>0</td>\n",
       "    </tr>\n",
       "    <tr>\n",
       "      <th>19</th>\n",
       "      <td>HS</td>\n",
       "      <td>2021</td>\n",
       "      <td>202102</td>\n",
       "      <td>February 2021</td>\n",
       "      <td>2</td>\n",
       "      <td>0</td>\n",
       "      <td>1</td>\n",
       "      <td>Imports</td>\n",
       "      <td>124</td>\n",
       "      <td>Canada</td>\n",
       "      <td>...</td>\n",
       "      <td>Slovenia</td>\n",
       "      <td>NaN</td>\n",
       "      <td>19</td>\n",
       "      <td>Preparations of cereals, flour, starch or milk...</td>\n",
       "      <td>0</td>\n",
       "      <td>NaN</td>\n",
       "      <td>NaN</td>\n",
       "      <td>0.0</td>\n",
       "      <td>1328</td>\n",
       "      <td>0</td>\n",
       "    </tr>\n",
       "  </tbody>\n",
       "</table>\n",
       "<p>10 rows × 22 columns</p>\n",
       "</div>"
      ],
      "text/markdown": [
       "```python\n",
       "TwinPointer(Mock)\n",
       "```\n",
       "   Classification  Year  Period   Period Desc.  Aggregate Level  Is Leaf Code  \\\n",
       "10             HS  2021  202102  February 2021                2             0   \n",
       "11             HS  2021  202102  February 2021                2             0   \n",
       "12             HS  2021  202102  February 2021                2             0   \n",
       "13             HS  2021  202102  February 2021                2             0   \n",
       "14             HS  2021  202102  February 2021                2             0   \n",
       "15             HS  2021  202102  February 2021                2             0   \n",
       "16             HS  2021  202102  February 2021                2             0   \n",
       "17             HS  2021  202102  February 2021                2             0   \n",
       "18             HS  2021  202102  February 2021                2             0   \n",
       "19             HS  2021  202102  February 2021                2             0   \n",
       "\n",
       "    Trade Flow Code Trade Flow  Reporter Code Reporter  ...          Partner  \\\n",
       "10                1    Imports            124   Canada  ...       Bangladesh   \n",
       "11                1    Imports            124   Canada  ...            Haiti   \n",
       "12                1    Imports            124   Canada  ...        Guatemala   \n",
       "13                1    Imports            124   Canada  ...             Iraq   \n",
       "14                1    Imports            124   Canada  ...           Israel   \n",
       "15                1    Imports            124   Canada  ...            Italy   \n",
       "16                1    Imports            124   Canada  ...           Jordan   \n",
       "17                1    Imports            124   Canada  ...  Rep. of Moldova   \n",
       "18                1    Imports            124   Canada  ...          Nigeria   \n",
       "19                1    Imports            124   Canada  ...         Slovenia   \n",
       "\n",
       "    Partner ISO Commodity Code  \\\n",
       "10          NaN             19   \n",
       "11          NaN             19   \n",
       "12          NaN             19   \n",
       "13          NaN             19   \n",
       "14          NaN             19   \n",
       "15          NaN             19   \n",
       "16          NaN             19   \n",
       "17          NaN             19   \n",
       "18          NaN             19   \n",
       "19          NaN             19   \n",
       "\n",
       "                                            Commodity Qty Unit Code Qty Unit  \\\n",
       "10  Preparations of cereals, flour, starch or milk...             0      NaN   \n",
       "11  Preparations of cereals, flour, starch or milk...             0      NaN   \n",
       "12  Preparations of cereals, flour, starch or milk...             0      NaN   \n",
       "13  Preparations of cereals, flour, starch or milk...             0      NaN   \n",
       "14  Preparations of cereals, flour, starch or milk...             0      NaN   \n",
       "15  Preparations of cereals, flour, starch or milk...             0      NaN   \n",
       "16  Preparations of cereals, flour, starch or milk...             0      NaN   \n",
       "17  Preparations of cereals, flour, starch or milk...             0      NaN   \n",
       "18  Preparations of cereals, flour, starch or milk...             0      NaN   \n",
       "19  Preparations of cereals, flour, starch or milk...             0      NaN   \n",
       "\n",
       "    Qty  Netweight (kg)  Trade Value (US$)  Flag  \n",
       "10  NaN             0.0             227222     0  \n",
       "11  NaN             0.0              14748     0  \n",
       "12  NaN             0.0               1314     0  \n",
       "13  NaN             0.0               1825     0  \n",
       "14  NaN             0.0            1063627     0  \n",
       "15  NaN             0.0            8359327     0  \n",
       "16  NaN             0.0              16858     0  \n",
       "17  NaN             0.0              29897     0  \n",
       "18  NaN             0.0              22235     0  \n",
       "19  NaN             0.0               1328     0  \n",
       "\n",
       "[10 rows x 22 columns]"
      ],
      "text/plain": [
       "TwinPointer(Mock):\n",
       "   Classification  Year  Period   Period Desc.  Aggregate Level  Is Leaf Code  \\\n",
       "10             HS  2021  202102  February 2021                2             0   \n",
       "11             HS  2021  202102  February 2021                2             0   \n",
       "12             HS  2021  202102  February 2021                2             0   \n",
       "13             HS  2021  202102  February 2021                2             0   \n",
       "14             HS  2021  202102  February 2021                2             0   \n",
       "15             HS  2021  202102  February 2021                2             0   \n",
       "16             HS  2021  202102  February 2021                2             0   \n",
       "17             HS  2021  202102  February 2021                2             0   \n",
       "18             HS  2021  202102  February 2021                2             0   \n",
       "19             HS  2021  202102  February 2021                2             0   \n",
       "\n",
       "    Trade Flow Code Trade Flow  Reporter Code Reporter  ...          Partner  \\\n",
       "10                1    Imports            124   Canada  ...       Bangladesh   \n",
       "11                1    Imports            124   Canada  ...            Haiti   \n",
       "12                1    Imports            124   Canada  ...        Guatemala   \n",
       "13                1    Imports            124   Canada  ...             Iraq   \n",
       "14                1    Imports            124   Canada  ...           Israel   \n",
       "15                1    Imports            124   Canada  ...            Italy   \n",
       "16                1    Imports            124   Canada  ...           Jordan   \n",
       "17                1    Imports            124   Canada  ...  Rep. of Moldova   \n",
       "18                1    Imports            124   Canada  ...          Nigeria   \n",
       "19                1    Imports            124   Canada  ...         Slovenia   \n",
       "\n",
       "    Partner ISO Commodity Code  \\\n",
       "10          NaN             19   \n",
       "11          NaN             19   \n",
       "12          NaN             19   \n",
       "13          NaN             19   \n",
       "14          NaN             19   \n",
       "15          NaN             19   \n",
       "16          NaN             19   \n",
       "17          NaN             19   \n",
       "18          NaN             19   \n",
       "19          NaN             19   \n",
       "\n",
       "                                            Commodity Qty Unit Code Qty Unit  \\\n",
       "10  Preparations of cereals, flour, starch or milk...             0      NaN   \n",
       "11  Preparations of cereals, flour, starch or milk...             0      NaN   \n",
       "12  Preparations of cereals, flour, starch or milk...             0      NaN   \n",
       "13  Preparations of cereals, flour, starch or milk...             0      NaN   \n",
       "14  Preparations of cereals, flour, starch or milk...             0      NaN   \n",
       "15  Preparations of cereals, flour, starch or milk...             0      NaN   \n",
       "16  Preparations of cereals, flour, starch or milk...             0      NaN   \n",
       "17  Preparations of cereals, flour, starch or milk...             0      NaN   \n",
       "18  Preparations of cereals, flour, starch or milk...             0      NaN   \n",
       "19  Preparations of cereals, flour, starch or milk...             0      NaN   \n",
       "\n",
       "    Qty  Netweight (kg)  Trade Value (US$)  Flag  \n",
       "10  NaN             0.0             227222     0  \n",
       "11  NaN             0.0              14748     0  \n",
       "12  NaN             0.0               1314     0  \n",
       "13  NaN             0.0               1825     0  \n",
       "14  NaN             0.0            1063627     0  \n",
       "15  NaN             0.0            8359327     0  \n",
       "16  NaN             0.0              16858     0  \n",
       "17  NaN             0.0              29897     0  \n",
       "18  NaN             0.0              22235     0  \n",
       "19  NaN             0.0               1328     0  \n",
       "\n",
       "[10 rows x 22 columns]"
      ]
     },
     "execution_count": 24,
     "metadata": {},
     "output_type": "execute_result"
    }
   ],
   "source": [
    "mock = asset.mock\n",
    "mock"
   ]
  },
  {
   "cell_type": "code",
   "execution_count": 25,
   "metadata": {
    "tags": []
   },
   "outputs": [],
   "source": [
    "assert mock.shape == (10, 22)"
   ]
  },
  {
   "cell_type": "code",
   "execution_count": 26,
   "metadata": {
    "tags": []
   },
   "outputs": [
    {
     "data": {
      "text/html": [
       "<div>\n",
       "<style scoped>\n",
       "    .dataframe tbody tr th:only-of-type {\n",
       "        vertical-align: middle;\n",
       "    }\n",
       "\n",
       "    .dataframe tbody tr th {\n",
       "        vertical-align: top;\n",
       "    }\n",
       "\n",
       "    .dataframe thead th {\n",
       "        text-align: right;\n",
       "    }\n",
       "</style>\n",
       "<table border=\"1\" class=\"dataframe\">\n",
       "  <thead>\n",
       "    <tr style=\"text-align: right;\">\n",
       "      <th></th>\n",
       "      <th>Classification</th>\n",
       "      <th>Year</th>\n",
       "      <th>Period</th>\n",
       "      <th>Period Desc.</th>\n",
       "      <th>Aggregate Level</th>\n",
       "      <th>Is Leaf Code</th>\n",
       "      <th>Trade Flow Code</th>\n",
       "      <th>Trade Flow</th>\n",
       "      <th>Reporter Code</th>\n",
       "      <th>Reporter</th>\n",
       "      <th>...</th>\n",
       "      <th>Partner</th>\n",
       "      <th>Partner ISO</th>\n",
       "      <th>Commodity Code</th>\n",
       "      <th>Commodity</th>\n",
       "      <th>Qty Unit Code</th>\n",
       "      <th>Qty Unit</th>\n",
       "      <th>Qty</th>\n",
       "      <th>Netweight (kg)</th>\n",
       "      <th>Trade Value (US$)</th>\n",
       "      <th>Flag</th>\n",
       "    </tr>\n",
       "  </thead>\n",
       "  <tbody>\n",
       "    <tr>\n",
       "      <th>0</th>\n",
       "      <td>HS</td>\n",
       "      <td>2021</td>\n",
       "      <td>202102</td>\n",
       "      <td>February 2021</td>\n",
       "      <td>4</td>\n",
       "      <td>0</td>\n",
       "      <td>1</td>\n",
       "      <td>Imports</td>\n",
       "      <td>124</td>\n",
       "      <td>Canada</td>\n",
       "      <td>...</td>\n",
       "      <td>Other Asia, nes</td>\n",
       "      <td>NaN</td>\n",
       "      <td>6117</td>\n",
       "      <td>Clothing accessories; made up, knitted or croc...</td>\n",
       "      <td>0</td>\n",
       "      <td>NaN</td>\n",
       "      <td>NaN</td>\n",
       "      <td>NaN</td>\n",
       "      <td>9285</td>\n",
       "      <td>0</td>\n",
       "    </tr>\n",
       "    <tr>\n",
       "      <th>1</th>\n",
       "      <td>HS</td>\n",
       "      <td>2021</td>\n",
       "      <td>202102</td>\n",
       "      <td>February 2021</td>\n",
       "      <td>2</td>\n",
       "      <td>0</td>\n",
       "      <td>1</td>\n",
       "      <td>Imports</td>\n",
       "      <td>124</td>\n",
       "      <td>Canada</td>\n",
       "      <td>...</td>\n",
       "      <td>Egypt</td>\n",
       "      <td>NaN</td>\n",
       "      <td>18</td>\n",
       "      <td>Cocoa and cocoa preparations</td>\n",
       "      <td>0</td>\n",
       "      <td>NaN</td>\n",
       "      <td>NaN</td>\n",
       "      <td>0.0</td>\n",
       "      <td>116604</td>\n",
       "      <td>0</td>\n",
       "    </tr>\n",
       "    <tr>\n",
       "      <th>2</th>\n",
       "      <td>HS</td>\n",
       "      <td>2021</td>\n",
       "      <td>202102</td>\n",
       "      <td>February 2021</td>\n",
       "      <td>2</td>\n",
       "      <td>0</td>\n",
       "      <td>1</td>\n",
       "      <td>Imports</td>\n",
       "      <td>124</td>\n",
       "      <td>Canada</td>\n",
       "      <td>...</td>\n",
       "      <td>United Kingdom</td>\n",
       "      <td>NaN</td>\n",
       "      <td>18</td>\n",
       "      <td>Cocoa and cocoa preparations</td>\n",
       "      <td>0</td>\n",
       "      <td>NaN</td>\n",
       "      <td>NaN</td>\n",
       "      <td>0.0</td>\n",
       "      <td>1495175</td>\n",
       "      <td>0</td>\n",
       "    </tr>\n",
       "    <tr>\n",
       "      <th>3</th>\n",
       "      <td>HS</td>\n",
       "      <td>2021</td>\n",
       "      <td>202102</td>\n",
       "      <td>February 2021</td>\n",
       "      <td>2</td>\n",
       "      <td>0</td>\n",
       "      <td>1</td>\n",
       "      <td>Imports</td>\n",
       "      <td>124</td>\n",
       "      <td>Canada</td>\n",
       "      <td>...</td>\n",
       "      <td>United Rep. of Tanzania</td>\n",
       "      <td>NaN</td>\n",
       "      <td>18</td>\n",
       "      <td>Cocoa and cocoa preparations</td>\n",
       "      <td>0</td>\n",
       "      <td>NaN</td>\n",
       "      <td>NaN</td>\n",
       "      <td>0.0</td>\n",
       "      <td>2248</td>\n",
       "      <td>0</td>\n",
       "    </tr>\n",
       "    <tr>\n",
       "      <th>4</th>\n",
       "      <td>HS</td>\n",
       "      <td>2021</td>\n",
       "      <td>202102</td>\n",
       "      <td>February 2021</td>\n",
       "      <td>2</td>\n",
       "      <td>0</td>\n",
       "      <td>1</td>\n",
       "      <td>Imports</td>\n",
       "      <td>124</td>\n",
       "      <td>Canada</td>\n",
       "      <td>...</td>\n",
       "      <td>Singapore</td>\n",
       "      <td>NaN</td>\n",
       "      <td>18</td>\n",
       "      <td>Cocoa and cocoa preparations</td>\n",
       "      <td>0</td>\n",
       "      <td>NaN</td>\n",
       "      <td>NaN</td>\n",
       "      <td>0.0</td>\n",
       "      <td>47840</td>\n",
       "      <td>0</td>\n",
       "    </tr>\n",
       "    <tr>\n",
       "      <th>5</th>\n",
       "      <td>HS</td>\n",
       "      <td>2021</td>\n",
       "      <td>202102</td>\n",
       "      <td>February 2021</td>\n",
       "      <td>2</td>\n",
       "      <td>0</td>\n",
       "      <td>1</td>\n",
       "      <td>Imports</td>\n",
       "      <td>124</td>\n",
       "      <td>Canada</td>\n",
       "      <td>...</td>\n",
       "      <td>Viet Nam</td>\n",
       "      <td>NaN</td>\n",
       "      <td>18</td>\n",
       "      <td>Cocoa and cocoa preparations</td>\n",
       "      <td>0</td>\n",
       "      <td>NaN</td>\n",
       "      <td>NaN</td>\n",
       "      <td>0.0</td>\n",
       "      <td>3526</td>\n",
       "      <td>0</td>\n",
       "    </tr>\n",
       "    <tr>\n",
       "      <th>6</th>\n",
       "      <td>HS</td>\n",
       "      <td>2021</td>\n",
       "      <td>202102</td>\n",
       "      <td>February 2021</td>\n",
       "      <td>2</td>\n",
       "      <td>0</td>\n",
       "      <td>1</td>\n",
       "      <td>Imports</td>\n",
       "      <td>124</td>\n",
       "      <td>Canada</td>\n",
       "      <td>...</td>\n",
       "      <td>South Africa</td>\n",
       "      <td>NaN</td>\n",
       "      <td>18</td>\n",
       "      <td>Cocoa and cocoa preparations</td>\n",
       "      <td>0</td>\n",
       "      <td>NaN</td>\n",
       "      <td>NaN</td>\n",
       "      <td>0.0</td>\n",
       "      <td>5462</td>\n",
       "      <td>0</td>\n",
       "    </tr>\n",
       "    <tr>\n",
       "      <th>7</th>\n",
       "      <td>HS</td>\n",
       "      <td>2021</td>\n",
       "      <td>202102</td>\n",
       "      <td>February 2021</td>\n",
       "      <td>2</td>\n",
       "      <td>0</td>\n",
       "      <td>1</td>\n",
       "      <td>Imports</td>\n",
       "      <td>124</td>\n",
       "      <td>Canada</td>\n",
       "      <td>...</td>\n",
       "      <td>Spain</td>\n",
       "      <td>NaN</td>\n",
       "      <td>18</td>\n",
       "      <td>Cocoa and cocoa preparations</td>\n",
       "      <td>0</td>\n",
       "      <td>NaN</td>\n",
       "      <td>NaN</td>\n",
       "      <td>0.0</td>\n",
       "      <td>311425</td>\n",
       "      <td>0</td>\n",
       "    </tr>\n",
       "    <tr>\n",
       "      <th>8</th>\n",
       "      <td>HS</td>\n",
       "      <td>2021</td>\n",
       "      <td>202102</td>\n",
       "      <td>February 2021</td>\n",
       "      <td>2</td>\n",
       "      <td>0</td>\n",
       "      <td>1</td>\n",
       "      <td>Imports</td>\n",
       "      <td>124</td>\n",
       "      <td>Canada</td>\n",
       "      <td>...</td>\n",
       "      <td>Sweden</td>\n",
       "      <td>NaN</td>\n",
       "      <td>18</td>\n",
       "      <td>Cocoa and cocoa preparations</td>\n",
       "      <td>0</td>\n",
       "      <td>NaN</td>\n",
       "      <td>NaN</td>\n",
       "      <td>0.0</td>\n",
       "      <td>11786</td>\n",
       "      <td>0</td>\n",
       "    </tr>\n",
       "    <tr>\n",
       "      <th>9</th>\n",
       "      <td>HS</td>\n",
       "      <td>2021</td>\n",
       "      <td>202102</td>\n",
       "      <td>February 2021</td>\n",
       "      <td>2</td>\n",
       "      <td>0</td>\n",
       "      <td>1</td>\n",
       "      <td>Imports</td>\n",
       "      <td>124</td>\n",
       "      <td>Canada</td>\n",
       "      <td>...</td>\n",
       "      <td>Venezuela</td>\n",
       "      <td>NaN</td>\n",
       "      <td>18</td>\n",
       "      <td>Cocoa and cocoa preparations</td>\n",
       "      <td>0</td>\n",
       "      <td>NaN</td>\n",
       "      <td>NaN</td>\n",
       "      <td>0.0</td>\n",
       "      <td>33715</td>\n",
       "      <td>0</td>\n",
       "    </tr>\n",
       "  </tbody>\n",
       "</table>\n",
       "<p>10 rows × 22 columns</p>\n",
       "</div>"
      ],
      "text/markdown": [
       "```python\n",
       "TwinPointer(Real)\n",
       "```\n",
       "  Classification  Year  Period   Period Desc.  Aggregate Level  Is Leaf Code  \\\n",
       "0             HS  2021  202102  February 2021                4             0   \n",
       "1             HS  2021  202102  February 2021                2             0   \n",
       "2             HS  2021  202102  February 2021                2             0   \n",
       "3             HS  2021  202102  February 2021                2             0   \n",
       "4             HS  2021  202102  February 2021                2             0   \n",
       "5             HS  2021  202102  February 2021                2             0   \n",
       "6             HS  2021  202102  February 2021                2             0   \n",
       "7             HS  2021  202102  February 2021                2             0   \n",
       "8             HS  2021  202102  February 2021                2             0   \n",
       "9             HS  2021  202102  February 2021                2             0   \n",
       "\n",
       "   Trade Flow Code Trade Flow  Reporter Code Reporter  ...  \\\n",
       "0                1    Imports            124   Canada  ...   \n",
       "1                1    Imports            124   Canada  ...   \n",
       "2                1    Imports            124   Canada  ...   \n",
       "3                1    Imports            124   Canada  ...   \n",
       "4                1    Imports            124   Canada  ...   \n",
       "5                1    Imports            124   Canada  ...   \n",
       "6                1    Imports            124   Canada  ...   \n",
       "7                1    Imports            124   Canada  ...   \n",
       "8                1    Imports            124   Canada  ...   \n",
       "9                1    Imports            124   Canada  ...   \n",
       "\n",
       "                   Partner  Partner ISO Commodity Code  \\\n",
       "0          Other Asia, nes          NaN           6117   \n",
       "1                    Egypt          NaN             18   \n",
       "2           United Kingdom          NaN             18   \n",
       "3  United Rep. of Tanzania          NaN             18   \n",
       "4                Singapore          NaN             18   \n",
       "5                 Viet Nam          NaN             18   \n",
       "6             South Africa          NaN             18   \n",
       "7                    Spain          NaN             18   \n",
       "8                   Sweden          NaN             18   \n",
       "9                Venezuela          NaN             18   \n",
       "\n",
       "                                           Commodity Qty Unit Code Qty Unit  \\\n",
       "0  Clothing accessories; made up, knitted or croc...             0      NaN   \n",
       "1                       Cocoa and cocoa preparations             0      NaN   \n",
       "2                       Cocoa and cocoa preparations             0      NaN   \n",
       "3                       Cocoa and cocoa preparations             0      NaN   \n",
       "4                       Cocoa and cocoa preparations             0      NaN   \n",
       "5                       Cocoa and cocoa preparations             0      NaN   \n",
       "6                       Cocoa and cocoa preparations             0      NaN   \n",
       "7                       Cocoa and cocoa preparations             0      NaN   \n",
       "8                       Cocoa and cocoa preparations             0      NaN   \n",
       "9                       Cocoa and cocoa preparations             0      NaN   \n",
       "\n",
       "   Qty  Netweight (kg)  Trade Value (US$)  Flag  \n",
       "0  NaN             NaN               9285     0  \n",
       "1  NaN             0.0             116604     0  \n",
       "2  NaN             0.0            1495175     0  \n",
       "3  NaN             0.0               2248     0  \n",
       "4  NaN             0.0              47840     0  \n",
       "5  NaN             0.0               3526     0  \n",
       "6  NaN             0.0               5462     0  \n",
       "7  NaN             0.0             311425     0  \n",
       "8  NaN             0.0              11786     0  \n",
       "9  NaN             0.0              33715     0  \n",
       "\n",
       "[10 rows x 22 columns]"
      ],
      "text/plain": [
       "TwinPointer(Real):\n",
       "  Classification  Year  Period   Period Desc.  Aggregate Level  Is Leaf Code  \\\n",
       "0             HS  2021  202102  February 2021                4             0   \n",
       "1             HS  2021  202102  February 2021                2             0   \n",
       "2             HS  2021  202102  February 2021                2             0   \n",
       "3             HS  2021  202102  February 2021                2             0   \n",
       "4             HS  2021  202102  February 2021                2             0   \n",
       "5             HS  2021  202102  February 2021                2             0   \n",
       "6             HS  2021  202102  February 2021                2             0   \n",
       "7             HS  2021  202102  February 2021                2             0   \n",
       "8             HS  2021  202102  February 2021                2             0   \n",
       "9             HS  2021  202102  February 2021                2             0   \n",
       "\n",
       "   Trade Flow Code Trade Flow  Reporter Code Reporter  ...  \\\n",
       "0                1    Imports            124   Canada  ...   \n",
       "1                1    Imports            124   Canada  ...   \n",
       "2                1    Imports            124   Canada  ...   \n",
       "3                1    Imports            124   Canada  ...   \n",
       "4                1    Imports            124   Canada  ...   \n",
       "5                1    Imports            124   Canada  ...   \n",
       "6                1    Imports            124   Canada  ...   \n",
       "7                1    Imports            124   Canada  ...   \n",
       "8                1    Imports            124   Canada  ...   \n",
       "9                1    Imports            124   Canada  ...   \n",
       "\n",
       "                   Partner  Partner ISO Commodity Code  \\\n",
       "0          Other Asia, nes          NaN           6117   \n",
       "1                    Egypt          NaN             18   \n",
       "2           United Kingdom          NaN             18   \n",
       "3  United Rep. of Tanzania          NaN             18   \n",
       "4                Singapore          NaN             18   \n",
       "5                 Viet Nam          NaN             18   \n",
       "6             South Africa          NaN             18   \n",
       "7                    Spain          NaN             18   \n",
       "8                   Sweden          NaN             18   \n",
       "9                Venezuela          NaN             18   \n",
       "\n",
       "                                           Commodity Qty Unit Code Qty Unit  \\\n",
       "0  Clothing accessories; made up, knitted or croc...             0      NaN   \n",
       "1                       Cocoa and cocoa preparations             0      NaN   \n",
       "2                       Cocoa and cocoa preparations             0      NaN   \n",
       "3                       Cocoa and cocoa preparations             0      NaN   \n",
       "4                       Cocoa and cocoa preparations             0      NaN   \n",
       "5                       Cocoa and cocoa preparations             0      NaN   \n",
       "6                       Cocoa and cocoa preparations             0      NaN   \n",
       "7                       Cocoa and cocoa preparations             0      NaN   \n",
       "8                       Cocoa and cocoa preparations             0      NaN   \n",
       "9                       Cocoa and cocoa preparations             0      NaN   \n",
       "\n",
       "   Qty  Netweight (kg)  Trade Value (US$)  Flag  \n",
       "0  NaN             NaN               9285     0  \n",
       "1  NaN             0.0             116604     0  \n",
       "2  NaN             0.0            1495175     0  \n",
       "3  NaN             0.0               2248     0  \n",
       "4  NaN             0.0              47840     0  \n",
       "5  NaN             0.0               3526     0  \n",
       "6  NaN             0.0               5462     0  \n",
       "7  NaN             0.0             311425     0  \n",
       "8  NaN             0.0              11786     0  \n",
       "9  NaN             0.0              33715     0  \n",
       "\n",
       "[10 rows x 22 columns]"
      ]
     },
     "execution_count": 26,
     "metadata": {},
     "output_type": "execute_result"
    }
   ],
   "source": [
    "data = asset.data\n",
    "data"
   ]
  },
  {
   "cell_type": "code",
   "execution_count": 27,
   "metadata": {
    "tags": []
   },
   "outputs": [],
   "source": [
    "assert data.shape == (10, 22)"
   ]
  },
  {
   "cell_type": "code",
   "execution_count": 28,
   "metadata": {
    "tags": []
   },
   "outputs": [
    {
     "data": {
      "text/plain": [
       "syft.service.policy.policy.OutputPolicyExecuteOnce"
      ]
     },
     "execution_count": 28,
     "metadata": {},
     "output_type": "execute_result"
    }
   ],
   "source": [
    "op = func.output_policy_type\n",
    "op"
   ]
  },
  {
   "cell_type": "code",
   "execution_count": 29,
   "metadata": {
    "tags": []
   },
   "outputs": [
    {
     "name": "stdout",
     "output_type": "stream",
     "text": [
      "class Policy(SyftObject):\n",
      "    # version\n",
      "    __canonical_name__ = \"Policy\"\n",
      "    __version__ = SYFT_OBJECT_VERSION_1\n",
      "\n",
      "    id: UID\n",
      "    init_kwargs: Dict[Any, Any] = {}\n",
      "\n",
      "    def __init__(self, *args, **kwargs) -> None:\n",
      "        if \"init_kwargs\" in kwargs:\n",
      "            init_kwargs = kwargs[\"init_kwargs\"]\n",
      "            del kwargs[\"init_kwargs\"]\n",
      "        else:\n",
      "            init_kwargs = deepcopy(kwargs)\n",
      "            if \"id\" in init_kwargs:\n",
      "                del init_kwargs[\"id\"]\n",
      "        super().__init__(init_kwargs=init_kwargs, *args, **kwargs)\n",
      "\n",
      "    @classmethod\n",
      "    @property\n",
      "    def policy_code(cls) -> str:\n",
      "        mro = reversed(cls.mro())\n",
      "        op_code = \"\"\n",
      "        for klass in mro:\n",
      "            if \"Policy\" in klass.__name__:\n",
      "                op_code += inspect.getsource(klass)\n",
      "                op_code += \"\\n\"\n",
      "        return op_code\n",
      "\n",
      "    def public_state() -> None:\n",
      "        raise NotImplementedError\n",
      "\n",
      "    @property\n",
      "    def valid(self) -> Union[SyftSuccess, SyftError]:\n",
      "        return SyftSuccess(message=\"Policy is valid.\")\n",
      "\n",
      "class OutputPolicy(Policy):\n",
      "    # version\n",
      "    __canonical_name__ = \"OutputPolicy\"\n",
      "    __version__ = SYFT_OBJECT_VERSION_1\n",
      "\n",
      "    output_history: List[OutputHistory] = []\n",
      "    output_kwargs: List[str] = []\n",
      "    node_uid: Optional[UID]\n",
      "\n",
      "    def apply_output(\n",
      "        self,\n",
      "        context: NodeServiceContext,\n",
      "        outputs: Any,\n",
      "    ) -> Any:\n",
      "        output_uids = filter_only_uids(outputs)\n",
      "        if isinstance(output_uids, UID):\n",
      "            output_uids = [output_uids]\n",
      "        history = OutputHistory(\n",
      "            output_time=DateTime.now(),\n",
      "            outputs=output_uids,\n",
      "            executing_user_verify_key=context.credentials,\n",
      "        )\n",
      "        self.output_history.append(history)\n",
      "        return outputs\n",
      "\n",
      "    @property\n",
      "    def outputs(self) -> List[str]:\n",
      "        return self.output_kwargs\n",
      "\n",
      "@serializable()\n",
      "class OutputPolicyExecuteCount(OutputPolicy):\n",
      "    __canonical_name__ = \"OutputPolicyExecuteCount\"\n",
      "    __version__ = SYFT_OBJECT_VERSION_1\n",
      "\n",
      "    count: int = 0\n",
      "    limit: int\n",
      "\n",
      "    def apply_output(\n",
      "        self,\n",
      "        context: NodeServiceContext,\n",
      "        outputs: Any,\n",
      "    ) -> Optional[Any]:\n",
      "        if self.count < self.limit:\n",
      "            super().apply_output(context, outputs)\n",
      "            self.count += 1\n",
      "            return outputs\n",
      "        return None\n",
      "\n",
      "    @property\n",
      "    def valid(self) -> Union[SyftSuccess, SyftError]:\n",
      "        is_valid = self.count < self.limit\n",
      "        if is_valid:\n",
      "            return SyftSuccess(\n",
      "                message=f\"Policy is still valid. count: {self.count} < limit: {self.limit}\"\n",
      "            )\n",
      "        return SyftError(\n",
      "            message=f\"Policy is no longer valid. count: {self.count} >= limit: {self.limit}\"\n",
      "        )\n",
      "\n",
      "    def public_state(self) -> None:\n",
      "        return {\"limit\": self.limit, \"count\": self.count}\n",
      "\n",
      "@serializable()\n",
      "class OutputPolicyExecuteOnce(OutputPolicyExecuteCount):\n",
      "    __canonical_name__ = \"OutputPolicyExecuteOnce\"\n",
      "    __version__ = SYFT_OBJECT_VERSION_1\n",
      "\n",
      "    limit: int = 1\n",
      "\n",
      "\n"
     ]
    }
   ],
   "source": [
    "print(op.policy_code)"
   ]
  },
  {
   "cell_type": "code",
   "execution_count": 30,
   "metadata": {
    "tags": []
   },
   "outputs": [
    {
     "name": "stdout",
     "output_type": "stream",
     "text": [
      "@sy.syft_function(input_policy=sy.ExactMatch(trade_data=mock),\n",
      "                  output_policy=sy.SingleExecutionExactOutput())\n",
      "def sum_trade_value_mil(trade_data):\n",
      "    import pandas as pd\n",
      "    from opendp.mod import enable_features\n",
      "    enable_features('contrib')\n",
      "    from opendp.measurements import make_base_laplace\n",
      "    aggregate = 0.\n",
      "    base_lap = make_base_laplace(scale=5.)\n",
      "    noise = base_lap(aggregate)\n",
      "\n",
      "    df = trade_data\n",
      "    total = df[\"Trade Value (US$)\"].sum()\n",
      "    return (float(total / 1_000_000), float(noise))\n",
      "\n"
     ]
    }
   ],
   "source": [
    "print(func.raw_code)"
   ]
  },
  {
   "cell_type": "code",
   "execution_count": 36,
   "metadata": {
    "tags": []
   },
   "outputs": [
    {
     "name": "stdout",
     "output_type": "stream",
     "text": [
      "WARNING: This code was submitted by a User and could be UNSAFE.\n"
     ]
    },
    {
     "data": {
      "text/plain": [
       "<function syft.service.code.user_code.UserCode.unsafe_function.<locals>.wrapper(*args: 'Any', **kwargs: 'Any') -> 'Callable'>"
      ]
     },
     "execution_count": 36,
     "metadata": {},
     "output_type": "execute_result"
    }
   ],
   "source": [
    "users_function = func.unsafe_function\n",
    "users_function"
   ]
  },
  {
   "cell_type": "code",
   "execution_count": 37,
   "metadata": {},
   "outputs": [
    {
     "data": {
      "text/plain": [
       "(9.738381, -7.856983054636732)"
      ]
     },
     "execution_count": 37,
     "metadata": {},
     "output_type": "execute_result"
    }
   ],
   "source": [
    "mock_result = users_function(trade_data=mock)\n",
    "mock_result"
   ]
  },
  {
   "cell_type": "code",
   "execution_count": 32,
   "metadata": {
    "tags": []
   },
   "outputs": [
    {
     "data": {
      "text/plain": [
       "(2.037066, -2.018815533795275)"
      ]
     },
     "execution_count": 32,
     "metadata": {},
     "output_type": "execute_result"
    }
   ],
   "source": [
    "real_result = users_function(trade_data=data)\n",
    "real_result"
   ]
  },
  {
   "cell_type": "code",
   "execution_count": null,
   "metadata": {},
   "outputs": [],
   "source": []
  },
  {
   "cell_type": "code",
   "execution_count": 33,
   "metadata": {
    "tags": []
   },
   "outputs": [
    {
     "data": {
      "text/html": [
       "<div class=\"alert-success\" style=\"padding:5px;\"><strong>SyftSuccess</strong>: Request 47912d858f704d7db4f7781684e13ff3 changes applied</div><br />"
      ],
      "text/plain": [
       "<class 'syft.service.response.SyftSuccess'>: Request 47912d858f704d7db4f7781684e13ff3 changes applied"
      ]
     },
     "execution_count": 33,
     "metadata": {},
     "output_type": "execute_result"
    }
   ],
   "source": [
    "result = request.accept_by_depositing_result(real_result)\n",
    "result"
   ]
  },
  {
   "cell_type": "code",
   "execution_count": 34,
   "metadata": {
    "tags": []
   },
   "outputs": [],
   "source": [
    "assert isinstance(result, sy.SyftSuccess)"
   ]
  },
  {
   "cell_type": "code",
   "execution_count": null,
   "metadata": {
    "tags": []
   },
   "outputs": [],
   "source": [
    "if node.node_type.value == \"python\":\n",
    "    node.land()"
   ]
  }
 ],
 "metadata": {
  "kernelspec": {
   "display_name": "Python 3 (ipykernel)",
   "language": "python",
   "name": "python3"
  },
  "language_info": {
   "codemirror_mode": {
    "name": "ipython",
    "version": 3
   },
   "file_extension": ".py",
   "mimetype": "text/x-python",
   "name": "python",
   "nbconvert_exporter": "python",
   "pygments_lexer": "ipython3",
   "version": "3.10.8"
  }
 },
 "nbformat": 4,
 "nbformat_minor": 4
}

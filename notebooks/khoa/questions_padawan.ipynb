{
 "cells": [
  {
   "attachments": {},
   "cell_type": "markdown",
   "metadata": {},
   "source": [
    "# Padawan Questions"
   ]
  },
  {
   "cell_type": "markdown",
   "metadata": {},
   "source": [
    "## 01-pets-and-syft"
   ]
  },
  {
   "cell_type": "markdown",
   "metadata": {},
   "source": [
    "1. In the architecture (`Syft and Grid`), the data owners upload the data to the domain server. Are their data secured by SMPC?\n",
    "\n",
    "2. The scientist upload the project to the organization's domain server. Does the data scientist's intellectual property protected, and do we need to have fully trust in the domain server? Is it that the output the data scientists get are injected with DP?  \n",
    "\n",
    "3. Is a node in `Grid` similar to a VM on a computing cluster, like AWS, or a university cluster? What is it exactly? How it is related to a `Docker` image or container?"
   ]
  },
  {
   "cell_type": "markdown",
   "metadata": {},
   "source": [
    "## 02-dev-setup"
   ]
  },
  {
   "attachments": {},
   "cell_type": "markdown",
   "metadata": {},
   "source": [
    "## 05-hagrid"
   ]
  },
  {
   "attachments": {},
   "cell_type": "markdown",
   "metadata": {},
   "source": [
    "1. When deploying to `x.x.x.x`, is it that `Ansible` installs `hagrid` and launch the `domain` to docker there? If so, how could we see,the docker images and container running on the remote machine, as at first the machine does not have `docker` installed? "
   ]
  },
  {
   "cell_type": "markdown",
   "metadata": {},
   "source": [
    "## 07 - SMPC"
   ]
  },
  {
   "cell_type": "markdown",
   "metadata": {},
   "source": [
    "In the reconstructing part of the `AND` gate\n",
    "\n",
    "=> γ ⊕ δ <br>\n",
    "=> (εα' ⊕ ηα ⊕ z<sub>a</sub> ⊕ εη) ⊕  (εβ'  ⊕ ηβ ⊕ z<sub>b</sub>) <br>\n",
    "Using Associativity of XOR grouping common terms <br>\n",
    "=> ε(y<sub>a</sub> ⊕ y<sub>b</sub>) ⊕ η(x<sub>a</sub> ⊕ x<sub>b</sub>) ⊕ (z<sub>a</sub> ⊕ z<sub>b</sub>) ⊕ εη (**WHY THIS LINE IS LIKE THIS?**)   <br>\n",
    "=> εy ⊕ ηx ⊕ z ⊕ εη   (Expading constant terms) <br>\n",
    "=> (x ⊕ a)y ⊕ (y ⊕ b)x ⊕ z ⊕ (x⊕a)(y⊕b)  <br>\n",
    "=> xy ⊕ ay ⊕ xy ⊕ bx ⊕ z ⊕ xy ⊕ bx ⊕ ay ⊕ ab (Grouping Common terms) <br> \n",
    "=> (xy ⊕ xy) ⊕ (bx ⊕ bx) ⊕ (z ⊕ xy)⊕ (ay ⊕ ay)  ⊕ ab <br>\n",
    "=> ab ⊕ (z ⊕ xy) (since z= xy) <br>\n",
    "=> ab ⊕ (xy ⊕ xy) <br>\n",
    "=> ab <br>"
   ]
  },
  {
   "cell_type": "code",
   "execution_count": null,
   "metadata": {},
   "outputs": [],
   "source": []
  }
 ],
 "metadata": {
  "kernelspec": {
   "display_name": "Python 3.9.13 ('pysyft')",
   "language": "python",
   "name": "python3"
  },
  "language_info": {
   "codemirror_mode": {
    "name": "ipython",
    "version": 3
   },
   "file_extension": ".py",
   "mimetype": "text/x-python",
   "name": "python",
   "nbconvert_exporter": "python",
   "pygments_lexer": "ipython3",
   "version": "3.10.8"
  },
  "orig_nbformat": 4,
  "vscode": {
   "interpreter": {
    "hash": "6baf2290e646fa349531dea7d363f7612e3e0444fa537273a9c404e90bc27255"
   }
  }
 },
 "nbformat": 4,
 "nbformat_minor": 2
}

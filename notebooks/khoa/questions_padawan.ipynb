{
 "cells": [
  {
   "cell_type": "markdown",
   "metadata": {},
   "source": [
    "## 01-pets-and-syft"
   ]
  },
  {
   "cell_type": "markdown",
   "metadata": {},
   "source": [
    "1. In the architecture (`Syft and Grid`), the data owners upload the data to the domain server. Are their data secured by SMPC?\n",
    "\n",
    "2. The scientist upload the project to the organization's domain server. Does the data scientist's intellectual property protected, and do we need to have fully trust in the domain server? Is it that the output the data scientists get are injected with DP?  \n",
    "\n",
    "3. Is a node in `Grid` similar to a VM on a computing cluster, like AWS, or a university cluster? What is it exactly? How it is related to a `Docker` image or container?"
   ]
  },
  {
   "cell_type": "markdown",
   "metadata": {},
   "source": [
    "## 02-dev-setup"
   ]
  },
  {
   "cell_type": "markdown",
   "metadata": {},
   "source": [
    "1. What is the difference between `grid` and `hagrid`"
   ]
  },
  {
   "cell_type": "markdown",
   "metadata": {},
   "source": [
    "## 03-architecture"
   ]
  },
  {
   "cell_type": "markdown",
   "metadata": {},
   "source": [
    "1. In figure 1: What is the horse in `backend` and `backendstream`"
   ]
  },
  {
   "cell_type": "markdown",
   "metadata": {},
   "source": [
    "## Others"
   ]
  }
 ],
 "metadata": {
  "kernelspec": {
   "display_name": "Python 3.9.13 ('pysyft')",
   "language": "python",
   "name": "python3"
  },
  "language_info": {
   "codemirror_mode": {
    "name": "ipython",
    "version": 3
   },
   "file_extension": ".py",
   "mimetype": "text/x-python",
   "name": "python",
   "nbconvert_exporter": "python",
   "pygments_lexer": "ipython3",
   "version": "3.9.13"
  },
  "orig_nbformat": 4,
  "vscode": {
   "interpreter": {
    "hash": "6baf2290e646fa349531dea7d363f7612e3e0444fa537273a9c404e90bc27255"
   }
  }
 },
 "nbformat": 4,
 "nbformat_minor": 2
}

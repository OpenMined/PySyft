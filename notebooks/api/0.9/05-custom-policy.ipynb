{
 "cells": [
  {
   "cell_type": "code",
   "execution_count": null,
   "id": "c292b468-55d7-4ab4-b0b3-5856b252e27e",
   "metadata": {
    "tags": []
   },
   "outputs": [],
   "source": [
    "SYFT_VERSION = \">=0.8.1b0,<0.9\"\n",
    "package_string = f'\"syft{SYFT_VERSION}\"'\n",
    "%pip install {package_string} -f https://whls.blob.core.windows.net/unstable/index.html -q"
   ]
  },
  {
   "cell_type": "code",
   "execution_count": null,
   "id": "113d327c",
   "metadata": {},
   "outputs": [],
   "source": [
    "import syft as sy\n",
    "sy.requires(SYFT_VERSION)"
   ]
  },
  {
   "cell_type": "code",
   "execution_count": null,
   "id": "13da7417-5721-44f6-8bbb-bee0c5aba30f",
   "metadata": {
    "tags": []
   },
   "outputs": [],
   "source": [
    "node = sy.orchestra.launch(name=\"test-domain-1\", port=8080, dev_mode=True, reset=True)"
   ]
  },
  {
   "cell_type": "code",
   "execution_count": null,
   "id": "29d14422-61f7-4a89-a1ae-a11c0e1b3a02",
   "metadata": {
    "tags": []
   },
   "outputs": [],
   "source": [
    "domain_client = node.login(email=\"info@openmined.org\", password=\"changethis\")\n",
    "domain_client"
   ]
  },
  {
   "cell_type": "code",
   "execution_count": null,
   "id": "b0f4bc80-5a94-467f-8018-7b27f4c64bd1",
   "metadata": {
    "tags": []
   },
   "outputs": [],
   "source": [
    "from typing import List, Dict, Any, Optional"
   ]
  },
  {
   "cell_type": "code",
   "execution_count": null,
   "id": "95bd8bf3-ec6f-49a7-86c3-ba81ecaffda1",
   "metadata": {
    "tags": []
   },
   "outputs": [],
   "source": [
    "class RepeatedCallPolicy(sy.CustomOutputPolicy):\n",
    "    n_calls: int = 0\n",
    "    downloadable_output_args: List[str] = []\n",
    "    state: Dict[Any, Any] = {}\n",
    "\n",
    "    def __init__(self, n_calls=1, downloadable_output_args: List[str] = None):\n",
    "        self.downloadable_output_args = downloadable_output_args if downloadable_output_args is not None else []\n",
    "        self.n_calls = n_calls + 1\n",
    "        self.state = {\"counts\": 0}\n",
    "\n",
    "    def public_state(self):\n",
    "        return self.state[\"counts\"]\n",
    "        \n",
    "    def apply_output(self, context, outputs):\n",
    "        output_dict = {}\n",
    "        if self.state[\"counts\"] < self.n_calls:\n",
    "            for output_arg in self.downloadable_output_args:\n",
    "                output_dict[output_arg] = outputs[output_arg]\n",
    "\n",
    "            self.state[\"counts\"] += 1\n",
    "        else:\n",
    "            return None\n",
    "\n",
    "        return output_dict"
   ]
  },
  {
   "cell_type": "code",
   "execution_count": null,
   "id": "6db068f3-8d1c-4116-89f0-8e729d41f5e0",
   "metadata": {
    "tags": []
   },
   "outputs": [],
   "source": [
    "policy = RepeatedCallPolicy(n_calls=1, downloadable_output_args=['y'])"
   ]
  },
  {
   "cell_type": "code",
   "execution_count": null,
   "id": "24df4ac8-aaab-4846-b7e1-2dbc5309dc36",
   "metadata": {
    "tags": []
   },
   "outputs": [],
   "source": [
    "policy.n_calls"
   ]
  },
  {
   "cell_type": "code",
   "execution_count": null,
   "id": "357d1c44-afc0-489c-a169-adbd1391d243",
   "metadata": {
    "tags": []
   },
   "outputs": [],
   "source": [
    "policy.downloadable_output_args"
   ]
  },
  {
   "cell_type": "code",
   "execution_count": null,
   "id": "e5e96736-933d-42b6-b375-d15cc5752b99",
   "metadata": {
    "tags": []
   },
   "outputs": [],
   "source": [
    "policy.init_kwargs"
   ]
  },
  {
   "cell_type": "code",
   "execution_count": null,
   "id": "adb2a383-0855-4df1-b3bb-97ca237cab19",
   "metadata": {
    "tags": []
   },
   "outputs": [],
   "source": [
    "print(policy.init_kwargs)\n",
    "a_obj = sy.ActionObject.from_obj({'y': [1,2,3]})\n",
    "x = policy.apply_output(None, a_obj)\n",
    "x"
   ]
  },
  {
   "cell_type": "code",
   "execution_count": null,
   "id": "d7630f27-b686-4d5b-b200-f48c101944b5",
   "metadata": {
    "tags": []
   },
   "outputs": [],
   "source": [
    "policy.n_calls"
   ]
  },
  {
   "cell_type": "code",
   "execution_count": null,
   "id": "96bef6cf-3a76-4b4b-8767-929c42d44a90",
   "metadata": {
    "tags": []
   },
   "outputs": [],
   "source": [
    "import numpy as np\n",
    "x = np.array([1,2,3])\n",
    "x_pointer = sy.ActionObject.from_obj(x)\n",
    "domain_client.api.services.action.save(x_pointer)"
   ]
  },
  {
   "cell_type": "code",
   "execution_count": null,
   "id": "5da4428a-0fed-41e3-b770-02fbaca20bfc",
   "metadata": {
    "tags": []
   },
   "outputs": [],
   "source": [
    "@sy.syft_function(\n",
    "    input_policy=sy.ExactMatch(x=x_pointer),\n",
    "    output_policy=RepeatedCallPolicy(n_calls=10, downloadable_output_args=['y']),\n",
    ")\n",
    "def func(x):\n",
    "    return {\"y\": x+1}"
   ]
  },
  {
   "cell_type": "code",
   "execution_count": null,
   "id": "44565122-4ff4-4169-8e0a-db3b86bf53e1",
   "metadata": {
    "tags": []
   },
   "outputs": [],
   "source": [
    "@sy.syft_function(input_policy=sy.ExactMatch(x=x_pointer),\n",
    "                  output_policy=sy.SingleExecutionExactOutput())\n",
    "def train_mlp(x):\n",
    "    return x"
   ]
  },
  {
   "cell_type": "code",
   "execution_count": null,
   "id": "a9b7be1d-cff1-49d7-a6f9-25cf107eb9af",
   "metadata": {
    "tags": []
   },
   "outputs": [],
   "source": [
    "domain_client.code.request_code_execution(func)"
   ]
  },
  {
   "cell_type": "code",
   "execution_count": null,
   "id": "cbce3b7f-8c93-4a3d-8c9e-be8cba7c911e",
   "metadata": {
    "tags": []
   },
   "outputs": [],
   "source": [
    "messages = domain_client.notifications.get_all_unread()\n",
    "messages"
   ]
  },
  {
   "cell_type": "code",
   "execution_count": null,
   "id": "6862f2c5",
   "metadata": {},
   "outputs": [],
   "source": [
    "domain_client.requests"
   ]
  },
  {
   "cell_type": "code",
   "execution_count": null,
   "id": "4bb8c053",
   "metadata": {},
   "outputs": [],
   "source": [
    "request = domain_client.requests[0]\n",
    "request"
   ]
  },
  {
   "cell_type": "code",
   "execution_count": null,
   "id": "527c1a51",
   "metadata": {},
   "outputs": [],
   "source": [
    "request.changes"
   ]
  },
  {
   "cell_type": "code",
   "execution_count": null,
   "id": "e124228c",
   "metadata": {},
   "outputs": [],
   "source": [
    "func = request.changes[0].link\n",
    "func"
   ]
  },
  {
   "cell_type": "code",
   "execution_count": null,
   "id": "ea4c3f91-dde3-4bd5-99a7-7fba0f12015a",
   "metadata": {
    "tags": []
   },
   "outputs": [],
   "source": [
    "result = func.unsafe_function(x=x_pointer)\n",
    "result"
   ]
  },
  {
   "cell_type": "code",
   "execution_count": null,
   "id": "3b7a2f1c-dada-4195-8bd9-8f52c4c76bca",
   "metadata": {
    "tags": []
   },
   "outputs": [],
   "source": [
    "final_result = request.accept_by_depositing_result(result)\n",
    "final_result"
   ]
  },
  {
   "cell_type": "code",
   "execution_count": null,
   "id": "c3f69151",
   "metadata": {},
   "outputs": [],
   "source": [
    "request.changes"
   ]
  },
  {
   "cell_type": "code",
   "execution_count": null,
   "id": "9fa55801",
   "metadata": {},
   "outputs": [],
   "source": [
    "assert request.changes[0].approved"
   ]
  },
  {
   "cell_type": "code",
   "execution_count": null,
   "id": "cdbcc474-9976-4c76-a508-fe3edf5bc18c",
   "metadata": {
    "tags": []
   },
   "outputs": [],
   "source": [
    "res = domain_client.code.func(x=x_pointer)\n",
    "res"
   ]
  },
  {
   "cell_type": "code",
   "execution_count": null,
   "id": "a7fa8ffa",
   "metadata": {},
   "outputs": [],
   "source": [
    "res = res.get()\n",
    "res"
   ]
  },
  {
   "cell_type": "code",
   "execution_count": null,
   "id": "538d14fa-1c7a-4f7c-bd27-4d97b5311b4c",
   "metadata": {
    "tags": []
   },
   "outputs": [],
   "source": [
    "assert (res[\"y\"] == np.array([2, 3, 4])).all()"
   ]
  },
  {
   "cell_type": "code",
   "execution_count": null,
   "id": "65b2ca60-6605-4dc3-a5d4-17fb368b808e",
   "metadata": {
    "tags": []
   },
   "outputs": [],
   "source": [
    "assert set(res.keys()) == set(list(\"y\"))"
   ]
  },
  {
   "cell_type": "code",
   "execution_count": null,
   "id": "4592fee8-5d23-4881-ad84-73c734b7e9d9",
   "metadata": {
    "tags": []
   },
   "outputs": [],
   "source": [
    "output_policy = domain_client.code.get_all()[0].output_policy\n",
    "output_policy"
   ]
  },
  {
   "cell_type": "code",
   "execution_count": null,
   "id": "d17c7e2a-93fa-4f45-abd3-c19fbded5989",
   "metadata": {
    "tags": []
   },
   "outputs": [],
   "source": [
    "domain_client.api.services.policy.get_all()"
   ]
  },
  {
   "cell_type": "code",
   "execution_count": null,
   "id": "fab5b15c-6df3-4fe1-97b7-a2971f4ca6cc",
   "metadata": {
    "tags": []
   },
   "outputs": [],
   "source": [
    "output_policy = domain_client.api.services.policy.get_all()\n",
    "output_policy"
   ]
  },
  {
   "cell_type": "code",
   "execution_count": null,
   "id": "93e0a108-ba20-4b29-b86a-02b87b0595a0",
   "metadata": {},
   "outputs": [],
   "source": [
    "node.land()"
   ]
  },
  {
   "cell_type": "code",
   "execution_count": null,
   "id": "d9656a8f",
   "metadata": {},
   "outputs": [],
   "source": []
  },
  {
   "cell_type": "markdown",
   "id": "34a475df",
   "metadata": {},
   "source": [
    "#### Verify policy is correctly loaded once code is approved"
   ]
  },
  {
   "cell_type": "code",
   "execution_count": null,
   "id": "42821a59",
   "metadata": {},
   "outputs": [],
   "source": [
    "from syft.node.node import CODE_RELOADER\n",
    "from syft.serde.recursive import TYPE_BANK\n",
    "# clear any cached code reloader instances\n",
    "CODE_RELOADER.clear()\n",
    "assert len(CODE_RELOADER) == 0"
   ]
  },
  {
   "cell_type": "code",
   "execution_count": null,
   "id": "b21148f0",
   "metadata": {},
   "outputs": [],
   "source": [
    "node = sy.orchestra.launch(name=\"test-domain-1\", port=8080, dev_mode=True)"
   ]
  },
  {
   "cell_type": "code",
   "execution_count": null,
   "id": "0c7411b1",
   "metadata": {},
   "outputs": [],
   "source": [
    "client = node.login(email=\"info@openmined.org\", password=\"changethis\")"
   ]
  },
  {
   "cell_type": "code",
   "execution_count": null,
   "id": "16728025",
   "metadata": {},
   "outputs": [],
   "source": [
    "assert bool(CODE_RELOADER)"
   ]
  },
  {
   "cell_type": "code",
   "execution_count": null,
   "id": "136c017b",
   "metadata": {},
   "outputs": [],
   "source": [
    "output_policy = client.code.get_all()[0].output_policy\n",
    "assert 'syft.user.' + str(output_policy.__class__.__name__) in TYPE_BANK"
   ]
  },
  {
   "cell_type": "code",
   "execution_count": null,
   "id": "837ab043",
   "metadata": {},
   "outputs": [],
   "source": [
    "client.notifications"
   ]
  },
  {
   "cell_type": "code",
   "execution_count": null,
   "id": "262ccff7",
   "metadata": {},
   "outputs": [],
   "source": [
    "assert client.notifications"
   ]
  },
  {
   "cell_type": "code",
   "execution_count": null,
   "id": "62d539cc",
   "metadata": {},
   "outputs": [],
   "source": [
    "client.api.services.request"
   ]
  },
  {
   "cell_type": "code",
   "execution_count": null,
   "id": "0b2cd653",
   "metadata": {},
   "outputs": [],
   "source": [
    "node.land()"
   ]
  },
  {
   "cell_type": "code",
   "execution_count": null,
   "id": "358ed62a",
   "metadata": {},
   "outputs": [],
   "source": []
  }
 ],
 "metadata": {
  "kernelspec": {
   "display_name": "Python 3 (ipykernel)",
   "language": "python",
   "name": "python3"
  },
  "language_info": {
   "codemirror_mode": {
    "name": "ipython",
    "version": 3
   },
   "file_extension": ".py",
   "mimetype": "text/x-python",
   "name": "python",
   "nbconvert_exporter": "python",
   "pygments_lexer": "ipython3",
   "version": "3.10.8"
  }
 },
 "nbformat": 4,
 "nbformat_minor": 5
}

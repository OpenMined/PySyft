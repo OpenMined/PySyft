{
 "cells": [
  {
   "cell_type": "markdown",
   "id": "8d458c39-2876-4216-a221-b7cc9e5a89d1",
   "metadata": {},
   "source": [
    "# Eager Execution"
   ]
  },
  {
   "cell_type": "code",
   "execution_count": null,
   "id": "0f297eeb-09bd-42bb-847c-baf3e31878b1",
   "metadata": {
    "tags": []
   },
   "outputs": [],
   "source": [
    "import syft as sy\n",
    "sy.requires(\">=0.8.1-beta\")"
   ]
  },
  {
   "cell_type": "code",
   "execution_count": null,
   "id": "38b79c06-998b-4f13-b484-64ecb847097f",
   "metadata": {
    "tags": []
   },
   "outputs": [],
   "source": [
    "node = sy.orchestra.launch(name=\"test-domain-1\", port=8080, dev_mode=True)"
   ]
  },
  {
   "cell_type": "code",
   "execution_count": null,
   "id": "c2b4170f-92e1-4b1f-adcc-79d63794a358",
   "metadata": {
    "tags": []
   },
   "outputs": [],
   "source": [
    "client = node.login(email=\"info@openmined.org\", password=\"changethis\")\n",
    "client"
   ]
  },
  {
   "cell_type": "code",
   "execution_count": null,
   "id": "64c13da6-e2b9-4171-8c69-4bed5adaf0f8",
   "metadata": {
    "tags": []
   },
   "outputs": [],
   "source": [
    "guest_client = node.client.guest()\n",
    "guest_client"
   ]
  },
  {
   "cell_type": "code",
   "execution_count": null,
   "id": "28c1bf00-4f59-4aec-bf3f-28e4adcfa688",
   "metadata": {
    "tags": []
   },
   "outputs": [],
   "source": [
    "assert client.credentials != guest_client.credentials"
   ]
  },
  {
   "cell_type": "markdown",
   "id": "8076f279",
   "metadata": {},
   "source": [
    "# Simple permissions"
   ]
  },
  {
   "cell_type": "code",
   "execution_count": null,
   "id": "5c89fab3-3756-4a6f-b2b0-d3f6c697459b",
   "metadata": {
    "tags": []
   },
   "outputs": [],
   "source": [
    "import numpy as np"
   ]
  },
  {
   "cell_type": "code",
   "execution_count": null,
   "id": "9d3f11ce",
   "metadata": {
    "tags": []
   },
   "outputs": [],
   "source": [
    "input_obj = sy.TwinObject(\n",
    "    private_obj=np.array([[3,3,3], [3,3,3]]),\n",
    "    mock_obj=np.array([[1,1,1], [1,1,1]])\n",
    ")"
   ]
  },
  {
   "cell_type": "code",
   "execution_count": null,
   "id": "81d46594",
   "metadata": {
    "tags": []
   },
   "outputs": [],
   "source": [
    "# user creates\n",
    "input_ptr = client.api.services.action.set(input_obj)\n",
    "\n",
    "# guest gets pointer\n",
    "pointer = guest_client.api.services.action.get_pointer(input_ptr.id)\n",
    "pointer.id"
   ]
  },
  {
   "cell_type": "code",
   "execution_count": null,
   "id": "f952b5b3-32ba-4e8d-978c-46e79496e48b",
   "metadata": {
    "tags": []
   },
   "outputs": [],
   "source": [
    "flat_ptr = pointer.flatten()\n",
    "flat_ptr"
   ]
  },
  {
   "cell_type": "code",
   "execution_count": null,
   "id": "fb3ea126-ea90-4ff2-aa0e-3eabab631535",
   "metadata": {
    "tags": []
   },
   "outputs": [],
   "source": [
    "# read permission error\n",
    "res_guest = guest_client.api.services.action.get(flat_ptr.id)\n",
    "print(res_guest)\n",
    "assert not isinstance(res_guest, sy.ActionObject)"
   ]
  },
  {
   "cell_type": "code",
   "execution_count": null,
   "id": "8a7f1626-211a-4fd4-9007-93767f38a651",
   "metadata": {
    "tags": []
   },
   "outputs": [],
   "source": [
    "# get as user with permission\n",
    "res_root = flat_ptr.get_from(client)\n",
    "assert all(res_root == [3,3,3,3,3,3])"
   ]
  },
  {
   "cell_type": "markdown",
   "id": "ba4c2379",
   "metadata": {},
   "source": [
    "# Plans"
   ]
  },
  {
   "cell_type": "markdown",
   "id": "c954c815",
   "metadata": {},
   "source": [
    "## Plans with object instantiations"
   ]
  },
  {
   "cell_type": "code",
   "execution_count": null,
   "id": "18245625",
   "metadata": {
    "tags": []
   },
   "outputs": [],
   "source": [
    "@sy.planify\n",
    "def my_plan(x=np.array([1,2,3,4,5,6])):\n",
    "    return x+1"
   ]
  },
  {
   "cell_type": "code",
   "execution_count": null,
   "id": "efae1223",
   "metadata": {
    "tags": []
   },
   "outputs": [],
   "source": [
    "plan_ptr = my_plan.send(guest_client)"
   ]
  },
  {
   "cell_type": "code",
   "execution_count": null,
   "id": "519069b3",
   "metadata": {
    "tags": []
   },
   "outputs": [],
   "source": [
    "input_obj = sy.TwinObject(\n",
    "    private_obj=np.array([1,2,3,4,5,6]),\n",
    "    mock_obj=np.array([1,1,1,1,1,1])\n",
    ")"
   ]
  },
  {
   "cell_type": "code",
   "execution_count": null,
   "id": "74804e55",
   "metadata": {
    "tags": []
   },
   "outputs": [],
   "source": [
    "_id = client.api.services.action.set(input_obj).id\n",
    "pointer = guest_client.api.services.action.get_pointer(_id) "
   ]
  },
  {
   "cell_type": "code",
   "execution_count": null,
   "id": "7a5c6d5d",
   "metadata": {
    "tags": []
   },
   "outputs": [],
   "source": [
    "res_ptr = plan_ptr(x=pointer)"
   ]
  },
  {
   "cell_type": "code",
   "execution_count": null,
   "id": "35102161",
   "metadata": {
    "tags": []
   },
   "outputs": [],
   "source": [
    "res_ptr.get_from(client)"
   ]
  },
  {
   "cell_type": "markdown",
   "id": "0c209b5b",
   "metadata": {},
   "source": [
    "## Complex plans"
   ]
  },
  {
   "cell_type": "code",
   "execution_count": null,
   "id": "6f099554",
   "metadata": {
    "tags": []
   },
   "outputs": [],
   "source": [
    "@sy.planify\n",
    "def my_plan(x=np.array([1,2,3,4,5,6])):\n",
    "    y = x.flatten() # method -> [1,2,3,4,5,6]\n",
    "    min_val = x.min() # method -> 1\n",
    "    s = x.shape # getattribute -> 6    \n",
    "    w = x[min_val] # __getitem__ -> 2\n",
    "    y[min_val] = min_val # __setitem__ y = [1,1,3,4,5,6]\n",
    "    res = client.api.lib.numpy.sum(y) + w + s # client function and __add__ 20 + 2 + 6 = 28\n",
    "    return res #28"
   ]
  },
  {
   "cell_type": "code",
   "execution_count": null,
   "id": "34fd698e",
   "metadata": {
    "tags": []
   },
   "outputs": [],
   "source": [
    "my_plan"
   ]
  },
  {
   "cell_type": "code",
   "execution_count": null,
   "id": "a22554d7",
   "metadata": {},
   "outputs": [],
   "source": [
    "plan_ptr = my_plan.send(guest_client)"
   ]
  },
  {
   "cell_type": "code",
   "execution_count": null,
   "id": "db6d9330",
   "metadata": {},
   "outputs": [],
   "source": [
    "input_obj = sy.TwinObject(\n",
    "    private_obj=np.array([1,2,3,4,5,6]),\n",
    "    mock_obj=np.array([1,1,1, 1,1,1])\n",
    ")\n",
    "\n",
    "_id = client.api.services.action.set(input_obj).id\n",
    "pointer = guest_client.api.services.action.get_pointer(_id) "
   ]
  },
  {
   "cell_type": "code",
   "execution_count": null,
   "id": "2e445ade",
   "metadata": {},
   "outputs": [],
   "source": [
    "res_ptr = plan_ptr(x=pointer)"
   ]
  },
  {
   "cell_type": "code",
   "execution_count": null,
   "id": "989117ec",
   "metadata": {},
   "outputs": [],
   "source": [
    "res_ptr.get_from(client)"
   ]
  },
  {
   "cell_type": "markdown",
   "id": "cee1d9c1",
   "metadata": {},
   "source": [
    "## Plans with function calls"
   ]
  },
  {
   "cell_type": "code",
   "execution_count": null,
   "id": "9bc2633d",
   "metadata": {},
   "outputs": [],
   "source": [
    "client.api.lib.numpy.sum"
   ]
  },
  {
   "cell_type": "code",
   "execution_count": null,
   "id": "a0b36b2e",
   "metadata": {},
   "outputs": [],
   "source": [
    "@sy.planify\n",
    "def my_plan(x=np.array([[2,2,2], [2,2,2]])):\n",
    "    y = x.flatten()\n",
    "    w = client.api.lib.numpy.sum(y)\n",
    "    return w"
   ]
  },
  {
   "cell_type": "code",
   "execution_count": null,
   "id": "7acd9453",
   "metadata": {},
   "outputs": [],
   "source": [
    "plan_ptr = my_plan.send(guest_client)\n",
    "\n",
    "input_obj = sy.TwinObject(\n",
    "    private_obj=np.array([[3,3,3], [3,3,3]]),\n",
    "    mock_obj=np.array([[1,1,1], [1,1,1]])\n",
    ")\n",
    "\n",
    "input_ptr = client.api.services.action.set(input_obj)\n",
    "pointer = guest_client.api.services.action.get_pointer(input_ptr.id) \n"
   ]
  },
  {
   "cell_type": "code",
   "execution_count": null,
   "id": "b5303464",
   "metadata": {},
   "outputs": [],
   "source": [
    "res_ptr = plan_ptr(x=pointer)"
   ]
  },
  {
   "cell_type": "code",
   "execution_count": null,
   "id": "2bcf9a15",
   "metadata": {},
   "outputs": [],
   "source": [
    "assert res_ptr.get_from(client) == 18"
   ]
  },
  {
   "cell_type": "markdown",
   "id": "d3f89fc8",
   "metadata": {},
   "source": [
    "## simple execution (root downloads)"
   ]
  },
  {
   "cell_type": "code",
   "execution_count": null,
   "id": "d80d1424",
   "metadata": {},
   "outputs": [],
   "source": [
    "@sy.planify\n",
    "def my_plan(x=np.array([[2,2,2], [2,2,2]])):\n",
    "    y = x.flatten()\n",
    "    z = y.prod()\n",
    "    return z"
   ]
  },
  {
   "cell_type": "code",
   "execution_count": null,
   "id": "d654b6ae",
   "metadata": {},
   "outputs": [],
   "source": [
    "plan_ptr = my_plan.send(guest_client)"
   ]
  },
  {
   "cell_type": "code",
   "execution_count": null,
   "id": "5150eb4b",
   "metadata": {},
   "outputs": [],
   "source": [
    "input_obj = sy.TwinObject(\n",
    "    private_obj=np.array([[3,3,3], [3,3,3]]),\n",
    "    mock_obj=np.array([[1,1,1], [1,1,1]])\n",
    ")"
   ]
  },
  {
   "cell_type": "code",
   "execution_count": null,
   "id": "e9d135b7",
   "metadata": {},
   "outputs": [],
   "source": [
    "input_ptr = client.api.services.action.set(input_obj)"
   ]
  },
  {
   "cell_type": "code",
   "execution_count": null,
   "id": "25c4506c",
   "metadata": {},
   "outputs": [],
   "source": [
    "pointer = guest_client.api.services.action.get_pointer(input_ptr.id) "
   ]
  },
  {
   "cell_type": "code",
   "execution_count": null,
   "id": "ea4635a6",
   "metadata": {},
   "outputs": [],
   "source": [
    "res_ptr = plan_ptr(x=pointer)"
   ]
  },
  {
   "cell_type": "code",
   "execution_count": null,
   "id": "4734147a",
   "metadata": {},
   "outputs": [],
   "source": [
    "# TODO: should be 1\n",
    "res_ptr"
   ]
  },
  {
   "cell_type": "code",
   "execution_count": null,
   "id": "0de6394d",
   "metadata": {},
   "outputs": [],
   "source": [
    "assert not isinstance(guest_client.api.services.action.get(res_ptr.id), sy.ActionObject)"
   ]
  },
  {
   "cell_type": "code",
   "execution_count": null,
   "id": "0c9e090c",
   "metadata": {},
   "outputs": [],
   "source": [
    "assert res_ptr.get_from(client) == np.array([[3,3,3], [3,3,3]]).flatten().prod()"
   ]
  },
  {
   "cell_type": "markdown",
   "id": "2c38b395",
   "metadata": {},
   "source": [
    "## Downloading the result"
   ]
  },
  {
   "cell_type": "code",
   "execution_count": null,
   "id": "349ec6e9",
   "metadata": {},
   "outputs": [],
   "source": [
    "res_ptr.request(guest_client)"
   ]
  },
  {
   "cell_type": "code",
   "execution_count": null,
   "id": "4c0cfabf-3315-44a2-9058-b617acc6204f",
   "metadata": {
    "tags": []
   },
   "outputs": [],
   "source": [
    "# TODO: fix this issue with custom "
   ]
  },
  {
   "cell_type": "code",
   "execution_count": null,
   "id": "333cc61e",
   "metadata": {},
   "outputs": [],
   "source": [
    "client.api.services.request[0].approve_with_client(client)"
   ]
  },
  {
   "cell_type": "code",
   "execution_count": null,
   "id": "0c23f9be",
   "metadata": {},
   "outputs": [],
   "source": [
    "res_ptr.get_from(guest_client)"
   ]
  },
  {
   "cell_type": "markdown",
   "id": "a5142d07",
   "metadata": {},
   "source": [
    "# Pointers (Twins)"
   ]
  },
  {
   "cell_type": "markdown",
   "id": "afd997c4",
   "metadata": {},
   "source": [
    "## setattribute"
   ]
  },
  {
   "cell_type": "code",
   "execution_count": null,
   "id": "705408d5",
   "metadata": {
    "tags": []
   },
   "outputs": [],
   "source": [
    "private_data, mock_data = np.array(\n",
    "    [[1.0,2.0,3.0], [4.0,5.0,6.0]]), np.array([[1.0,1.0,1.0], [1.0,1.0,1.0]]\n",
    ")"
   ]
  },
  {
   "cell_type": "code",
   "execution_count": null,
   "id": "d9ae4d4d",
   "metadata": {},
   "outputs": [],
   "source": [
    "obj = sy.TwinObject(\n",
    "    private_obj=private_data,\n",
    "    mock_obj=mock_data\n",
    ")"
   ]
  },
  {
   "cell_type": "code",
   "execution_count": null,
   "id": "9eeb2308",
   "metadata": {},
   "outputs": [],
   "source": [
    "obj_pointer = client.api.services.action.set(obj)\n",
    "obj_pointer = guest_client.api.services.action.get_pointer(obj_pointer.id)"
   ]
  },
  {
   "cell_type": "code",
   "execution_count": null,
   "id": "48a68b0f",
   "metadata": {},
   "outputs": [],
   "source": [
    "original_id = obj_pointer.id"
   ]
  },
  {
   "cell_type": "code",
   "execution_count": null,
   "id": "9c3fa760",
   "metadata": {},
   "outputs": [],
   "source": [
    "obj_pointer"
   ]
  },
  {
   "cell_type": "code",
   "execution_count": null,
   "id": "2181c597",
   "metadata": {},
   "outputs": [],
   "source": [
    "# note that this messes up the data and the shape of the array\n",
    "obj_pointer.dtype = np.int32  "
   ]
  },
  {
   "cell_type": "code",
   "execution_count": null,
   "id": "2b138409",
   "metadata": {},
   "outputs": [],
   "source": [
    "res = obj_pointer.get_from(client)"
   ]
  },
  {
   "cell_type": "code",
   "execution_count": null,
   "id": "dc1b79d4",
   "metadata": {},
   "outputs": [],
   "source": [
    "assert res.dtype == np.int32"
   ]
  },
  {
   "cell_type": "code",
   "execution_count": null,
   "id": "7f4b14b2",
   "metadata": {},
   "outputs": [],
   "source": [
    "private_data.dtype= np.int32\n",
    "mock_data.dtype= np.int32"
   ]
  },
  {
   "cell_type": "code",
   "execution_count": null,
   "id": "860bfe10",
   "metadata": {},
   "outputs": [],
   "source": [
    "assert (res == private_data).all()\n",
    "assert (obj_pointer.syft_action_data == mock_data).all()\n",
    "assert not (obj_pointer.syft_action_data == private_data).all()"
   ]
  },
  {
   "cell_type": "markdown",
   "id": "b3ddc0ea",
   "metadata": {},
   "source": [
    "## getattribute"
   ]
  },
  {
   "cell_type": "code",
   "execution_count": null,
   "id": "e246ac40",
   "metadata": {},
   "outputs": [],
   "source": [
    "obj = sy.TwinObject(\n",
    "    private_obj=np.array([[1,2,3], [4,5,6]]),\n",
    "    mock_obj=np.array([[1,1,1], [1,1,1]])\n",
    ")"
   ]
  },
  {
   "cell_type": "code",
   "execution_count": null,
   "id": "a390aeab",
   "metadata": {},
   "outputs": [],
   "source": [
    "obj_pointer = client.api.services.action.set(obj)\n",
    "obj_pointer = guest_client.api.services.action.get_pointer(obj_pointer.id)"
   ]
  },
  {
   "cell_type": "code",
   "execution_count": null,
   "id": "2b51e227",
   "metadata": {},
   "outputs": [],
   "source": [
    "size_pointer = obj_pointer.size   "
   ]
  },
  {
   "cell_type": "code",
   "execution_count": null,
   "id": "98afdfba",
   "metadata": {},
   "outputs": [],
   "source": [
    "assert size_pointer.get_from(client) == 6"
   ]
  },
  {
   "cell_type": "markdown",
   "id": "1a87389c",
   "metadata": {},
   "source": [
    "## methods"
   ]
  },
  {
   "cell_type": "code",
   "execution_count": null,
   "id": "416edd74",
   "metadata": {},
   "outputs": [],
   "source": [
    "obj = sy.TwinObject(\n",
    "    private_obj=np.array([[1,2,3], [4,5,6]]),\n",
    "    mock_obj=np.array([[1,1,1], [1,1,1]])\n",
    ")"
   ]
  },
  {
   "cell_type": "code",
   "execution_count": null,
   "id": "c60d6863",
   "metadata": {},
   "outputs": [],
   "source": [
    "obj_pointer = client.api.services.action.set(obj)\n",
    "obj_pointer = guest_client.api.services.action.get_pointer(obj_pointer.id)"
   ]
  },
  {
   "cell_type": "code",
   "execution_count": null,
   "id": "c5564a23",
   "metadata": {},
   "outputs": [],
   "source": [
    "flat_pointer = obj_pointer.flatten()   "
   ]
  },
  {
   "cell_type": "code",
   "execution_count": null,
   "id": "f6a61302",
   "metadata": {},
   "outputs": [],
   "source": [
    "assert all(flat_pointer.get_from(client) == np.array([1,2,3,4,5,6]))"
   ]
  },
  {
   "cell_type": "markdown",
   "id": "d04b10fb",
   "metadata": {},
   "source": [
    "## Indexing"
   ]
  },
  {
   "cell_type": "code",
   "execution_count": null,
   "id": "3cffeb93",
   "metadata": {},
   "outputs": [],
   "source": [
    "obj = sy.TwinObject(\n",
    "    private_obj=np.array([[1,2,3], [4,5,6]]),\n",
    "    mock_obj=np.array([[1,1,1], [1,1,1]])\n",
    ")"
   ]
  },
  {
   "cell_type": "code",
   "execution_count": null,
   "id": "02accc40",
   "metadata": {},
   "outputs": [],
   "source": [
    "obj_pointer = client.api.services.action.set(obj)\n",
    "obj_pointer = guest_client.api.services.action.get_pointer(obj_pointer.id)"
   ]
  },
  {
   "cell_type": "code",
   "execution_count": null,
   "id": "d7a65c33",
   "metadata": {},
   "outputs": [],
   "source": [
    "indexed_pointer = obj_pointer[0, 0:2]   "
   ]
  },
  {
   "cell_type": "code",
   "execution_count": null,
   "id": "e2516c58",
   "metadata": {},
   "outputs": [],
   "source": [
    "assert all(indexed_pointer.get_from(client) == np.array([1,2]))"
   ]
  },
  {
   "cell_type": "code",
   "execution_count": null,
   "id": "176b44b3-39c7-49bf-a024-455b9b48b48f",
   "metadata": {
    "tags": []
   },
   "outputs": [],
   "source": [
    "# if node.node_type.value == \"python\":\n",
    "node.land()"
   ]
  },
  {
   "cell_type": "code",
   "execution_count": null,
   "id": "0859aac0-aea6-4047-b4c8-cf58e509336b",
   "metadata": {},
   "outputs": [],
   "source": []
  }
 ],
 "metadata": {
  "kernelspec": {
   "display_name": "Python 3 (ipykernel)",
   "language": "python",
   "name": "python3"
  },
  "language_info": {
   "codemirror_mode": {
    "name": "ipython",
    "version": 3
   },
   "file_extension": ".py",
   "mimetype": "text/x-python",
   "name": "python",
   "nbconvert_exporter": "python",
   "pygments_lexer": "ipython3",
   "version": "3.10.9"
  },
  "toc": {
   "base_numbering": 1,
   "nav_menu": {},
   "number_sections": true,
   "sideBar": true,
   "skip_h1_title": false,
   "title_cell": "Table of Contents",
   "title_sidebar": "Contents",
   "toc_cell": false,
   "toc_position": {},
   "toc_section_display": true,
   "toc_window_display": true
  }
 },
 "nbformat": 4,
 "nbformat_minor": 5
}

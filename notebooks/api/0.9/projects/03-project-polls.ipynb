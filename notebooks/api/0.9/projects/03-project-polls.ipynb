{
 "cells": [
  {
   "cell_type": "markdown",
   "id": "5c44d76a-e869-4ef2-a623-90717a011969",
   "metadata": {},
   "source": [
    "## Project Polling Feature"
   ]
  },
  {
   "cell_type": "code",
   "execution_count": null,
   "id": "62fea8bf-5c0f-4c28-99e5-a2136c111080",
   "metadata": {
    "tags": []
   },
   "outputs": [],
   "source": [
    "import syft as sy\n",
    "sy.requires(\">=0.8.1-beta\")\n",
    "sy.enable_autoreload()\n",
    "\n",
    "from syft.service.project.project import ProjectMultipleChoicePoll, AnswerProjectPoll"
   ]
  },
  {
   "cell_type": "code",
   "execution_count": null,
   "id": "dac85613-b97c-4200-b0d5-e725857d2e0d",
   "metadata": {
    "tags": []
   },
   "outputs": [],
   "source": [
    "alice_domain = sy.orchestra.launch(name=\"Alice\", dev_mode=True)\n",
    "alice_domain_client = alice_domain.login(email=\"info@openmined.org\", password=\"changethis\")"
   ]
  },
  {
   "cell_type": "code",
   "execution_count": null,
   "id": "c9048301-942e-421b-ac83-78eb7657a4f5",
   "metadata": {
    "tags": []
   },
   "outputs": [],
   "source": [
    "bob_domain = sy.orchestra.launch(name=\"Bob\", dev_mode=True)\n",
    "bob_domain_client = bob_domain.login(email=\"info@openmined.org\", password=\"changethis\")"
   ]
  },
  {
   "cell_type": "markdown",
   "id": "15ebafba-8e13-4d46-a379-0a15c21fe1c8",
   "metadata": {},
   "source": [
    "## Retrieving existing projects"
   ]
  },
  {
   "cell_type": "code",
   "execution_count": null,
   "id": "65f9ef69-a92e-42b5-a6b9-47cb08b22ca1",
   "metadata": {
    "tags": []
   },
   "outputs": [],
   "source": [
    "alice_projects = alice_domain_client.api.services.project.get_all()\n",
    "alice_project = alice_projects[0]\n",
    "assert len(alice_projects)==1\n",
    "alice_projects"
   ]
  },
  {
   "cell_type": "code",
   "execution_count": null,
   "id": "9bcde056-27ed-4daa-97a8-65545d1865ab",
   "metadata": {
    "tags": []
   },
   "outputs": [],
   "source": [
    "bob_projects = bob_domain_client.api.services.project.get_all()\n",
    "bob_project = bob_projects[0]\n",
    "assert len(bob_projects)==1\n",
    "bob_projects"
   ]
  },
  {
   "cell_type": "code",
   "execution_count": null,
   "id": "42b9e068-3d45-412a-ab93-33face77e3d4",
   "metadata": {
    "tags": []
   },
   "outputs": [],
   "source": [
    "assert alice_project.user_signing_key == alice_domain_client.api.signing_key"
   ]
  },
  {
   "cell_type": "code",
   "execution_count": null,
   "id": "58908a92-dbe1-4580-ba3c-75193d7a4fbd",
   "metadata": {
    "tags": []
   },
   "outputs": [],
   "source": [
    "assert bob_project.user_signing_key == bob_domain_client.api.signing_key"
   ]
  },
  {
   "cell_type": "markdown",
   "id": "3cfb321b-aa81-465d-92b7-b6851e5ade0c",
   "metadata": {},
   "source": [
    "### 1. Initial Creation Poll by Alice"
   ]
  },
  {
   "cell_type": "code",
   "execution_count": null,
   "id": "544606de-b3ce-4a52-b615-b245251a90a9",
   "metadata": {
    "tags": []
   },
   "outputs": [],
   "source": [
    "question = \"Do you like StarWars ⚔️ or StarTrek 🛫 \"\n",
    "choices = [\"StarWars\",\"StarTrek\"]\n",
    "alice_project.create_poll(question=question, choices= choices)"
   ]
  },
  {
   "cell_type": "code",
   "execution_count": null,
   "id": "cfd4b947-0d86-493c-b406-6454d1c153c8",
   "metadata": {
    "tags": []
   },
   "outputs": [],
   "source": [
    "poll = alice_project.events[5]\n",
    "assert isinstance(poll, ProjectMultipleChoicePoll)"
   ]
  },
  {
   "cell_type": "code",
   "execution_count": null,
   "id": "a6d6e9dd-4b5e-4afe-89c9-a79be9e275cf",
   "metadata": {
    "tags": []
   },
   "outputs": [],
   "source": [
    "assert poll.question ==question\n",
    "assert poll.choices == choices"
   ]
  },
  {
   "cell_type": "markdown",
   "id": "9fe5d0e3-b260-4dcd-afe4-42d11be264de",
   "metadata": {},
   "source": [
    "### 2. Alice answering the Poll"
   ]
  },
  {
   "cell_type": "code",
   "execution_count": null,
   "id": "2f273ecb-b4ac-4057-8081-710f5b05b54f",
   "metadata": {
    "tags": []
   },
   "outputs": [],
   "source": [
    "alice_poll_answer = 1\n",
    "alice_project.answer_poll(answer=alice_poll_answer, poll=alice_project.events[5].id)"
   ]
  },
  {
   "cell_type": "code",
   "execution_count": null,
   "id": "f7248012-e023-4245-94e0-1e3aee3f2442",
   "metadata": {
    "tags": []
   },
   "outputs": [],
   "source": [
    "alice_poll = alice_project.events[6]\n",
    "assert isinstance(alice_poll, AnswerProjectPoll)"
   ]
  },
  {
   "cell_type": "code",
   "execution_count": null,
   "id": "86c5747d-69fe-4d92-9e46-692e94188f5b",
   "metadata": {
    "tags": []
   },
   "outputs": [],
   "source": [
    "assert alice_poll.answer == alice_poll_answer"
   ]
  },
  {
   "cell_type": "markdown",
   "id": "8f2333e6-6078-4f0c-b2c0-b47a0c30a024",
   "metadata": {},
   "source": [
    "### 3. Bob answering the Poll"
   ]
  },
  {
   "cell_type": "code",
   "execution_count": null,
   "id": "aab4db28-89f4-4320-959e-c646925f20e8",
   "metadata": {
    "tags": []
   },
   "outputs": [],
   "source": [
    "bob_project.sync()"
   ]
  },
  {
   "cell_type": "code",
   "execution_count": null,
   "id": "481b5d28-6dc0-4f79-b529-3fac51b0c4e1",
   "metadata": {
    "tags": []
   },
   "outputs": [],
   "source": [
    "bob_poll_answer = 2\n",
    "bob_project.answer_poll(answer= bob_poll_answer, poll=bob_project.events[5])"
   ]
  },
  {
   "cell_type": "code",
   "execution_count": null,
   "id": "76822430-3061-4ae9-9de0-09b1222297bd",
   "metadata": {
    "tags": []
   },
   "outputs": [],
   "source": [
    "bob_poll = bob_project.events[7]\n",
    "assert isinstance(bob_poll, AnswerProjectPoll)"
   ]
  },
  {
   "cell_type": "code",
   "execution_count": null,
   "id": "dc915324-7a89-4235-b6ce-36773b911305",
   "metadata": {
    "tags": []
   },
   "outputs": [],
   "source": [
    "assert bob_poll.answer == bob_poll_answer"
   ]
  },
  {
   "cell_type": "markdown",
   "id": "0a2ff817-9599-4a32-b90a-ed4a0d7bc934",
   "metadata": {},
   "source": [
    "### 4. Poll Results"
   ]
  },
  {
   "cell_type": "code",
   "execution_count": null,
   "id": "ff609cc7-bc90-4f5f-8e57-397ee9e7fa40",
   "metadata": {
    "tags": []
   },
   "outputs": [],
   "source": [
    "alice_project.sync()"
   ]
  },
  {
   "cell_type": "code",
   "execution_count": null,
   "id": "f7268c44-86b0-4c80-9ada-f2ac73df6316",
   "metadata": {
    "tags": []
   },
   "outputs": [],
   "source": [
    "poll_results = alice_project.events[5].status(alice_project, pretty_print=False)"
   ]
  },
  {
   "cell_type": "code",
   "execution_count": null,
   "id": "a2fe935d-b9b4-406c-8ff4-0734f0c0f9ea",
   "metadata": {
    "tags": []
   },
   "outputs": [],
   "source": [
    "shareholders = alice_project.members\n",
    "alice_identity = alice_project.get_identity_from_key(verify_key = alice_domain_client.credentials.verify_key)"
   ]
  },
  {
   "cell_type": "code",
   "execution_count": null,
   "id": "5f900c59-f098-4f45-8cfa-07e7fa679faf",
   "metadata": {
    "tags": []
   },
   "outputs": [],
   "source": [
    "assert alice_identity in poll_results\n",
    "assert poll_results[alice_identity] == alice_poll_answer"
   ]
  },
  {
   "cell_type": "code",
   "execution_count": null,
   "id": "1093f3ea-49b7-4961-9c57-3ec500956c09",
   "metadata": {
    "tags": []
   },
   "outputs": [],
   "source": [
    "bob_identity = bob_project.get_identity_from_key(verify_key = bob_domain_client.credentials.verify_key)"
   ]
  },
  {
   "cell_type": "code",
   "execution_count": null,
   "id": "dc283eb9-94da-4b77-9f97-a6e23af96b30",
   "metadata": {
    "tags": []
   },
   "outputs": [],
   "source": [
    "assert bob_identity in poll_results\n",
    "assert poll_results[bob_identity] == bob_poll_answer"
   ]
  },
  {
   "cell_type": "markdown",
   "id": "1d449dfa-5bde-47bf-8849-50a8424225a5",
   "metadata": {},
   "source": [
    "### 5. Change of Poll Answers"
   ]
  },
  {
   "cell_type": "markdown",
   "id": "98c47ed6-8a60-4374-9f97-e21912b62be3",
   "metadata": {},
   "source": [
    "If Alice and Bob change their mind on the casted vote, and they would like to modify the answers"
   ]
  },
  {
   "cell_type": "code",
   "execution_count": null,
   "id": "f9e83637-1738-4cf1-bd45-622cc95dcade",
   "metadata": {
    "tags": []
   },
   "outputs": [],
   "source": [
    "alice_new_poll_answer = 2\n",
    "alice_project.answer_poll(answer=alice_new_poll_answer, poll=alice_project.events[5])"
   ]
  },
  {
   "cell_type": "code",
   "execution_count": null,
   "id": "b46b5f8a-7948-4be9-a0b9-e62e3c85b018",
   "metadata": {
    "tags": []
   },
   "outputs": [],
   "source": [
    "bob_new_poll_answer = 1\n",
    "bob_project.answer_poll(answer= bob_new_poll_answer, poll=bob_project.events[5].id)"
   ]
  },
  {
   "cell_type": "markdown",
   "id": "3a8cd5ff-b061-42ae-bc89-2a4b9192d682",
   "metadata": {},
   "source": [
    "### 6. New Poll Results"
   ]
  },
  {
   "cell_type": "markdown",
   "id": "4739204b-0854-4916-9fe9-bd55ee8efa13",
   "metadata": {},
   "source": [
    "In a poll, only the latest casted vote is taken into consideration"
   ]
  },
  {
   "cell_type": "code",
   "execution_count": null,
   "id": "ddcd44f9-8787-485c-902c-985227df7c31",
   "metadata": {
    "tags": []
   },
   "outputs": [],
   "source": [
    "alice_project.sync()"
   ]
  },
  {
   "cell_type": "code",
   "execution_count": null,
   "id": "94b9018b-fc9a-4684-8bdb-cb00c90b8b8c",
   "metadata": {
    "tags": []
   },
   "outputs": [],
   "source": [
    "new_poll_results = alice_project.events[5].status(alice_project, pretty_print=False)"
   ]
  },
  {
   "cell_type": "code",
   "execution_count": null,
   "id": "35b7ae61-55e2-4382-83ab-5fa259b1c295",
   "metadata": {
    "tags": []
   },
   "outputs": [],
   "source": [
    "assert alice_identity in new_poll_results\n",
    "assert new_poll_results[alice_identity] == alice_new_poll_answer"
   ]
  },
  {
   "cell_type": "code",
   "execution_count": null,
   "id": "14c3df70-12a3-4fab-b95d-d2e1c827e118",
   "metadata": {
    "tags": []
   },
   "outputs": [],
   "source": [
    "assert bob_identity in new_poll_results\n",
    "assert new_poll_results[bob_identity] == bob_new_poll_answer"
   ]
  },
  {
   "cell_type": "code",
   "execution_count": null,
   "id": "cc8307ea-0ded-4ddd-a696-f33a0e98f8e2",
   "metadata": {
    "tags": []
   },
   "outputs": [],
   "source": [
    "res =  alice_project.validate_events(debug=True)\n",
    "res"
   ]
  },
  {
   "cell_type": "code",
   "execution_count": null,
   "id": "1d689922-67a0-490e-98d2-e92aa4707d4b",
   "metadata": {
    "tags": []
   },
   "outputs": [],
   "source": [
    "assert isinstance(res, sy.SyftSuccess)"
   ]
  },
  {
   "cell_type": "code",
   "execution_count": null,
   "id": "9b55e4ab-e44d-42ad-8e31-c4de2c01b761",
   "metadata": {
    "tags": []
   },
   "outputs": [],
   "source": [
    "res =  bob_project.validate_events(debug=True)\n",
    "res"
   ]
  },
  {
   "cell_type": "code",
   "execution_count": null,
   "id": "1f677697-8484-48d9-8304-1e897a1ad53c",
   "metadata": {
    "tags": []
   },
   "outputs": [],
   "source": [
    "assert isinstance(res, sy.SyftSuccess)"
   ]
  },
  {
   "cell_type": "code",
   "execution_count": null,
   "id": "fe96f0cc-b4a2-4050-95e0-ae4094a9c675",
   "metadata": {
    "tags": []
   },
   "outputs": [],
   "source": [
    "for node in [alice_domain, bob_domain]:\n",
    "    if node.node_type.value == \"python\":\n",
    "        node.land()"
   ]
  },
  {
   "cell_type": "code",
   "execution_count": null,
   "id": "5af12abb-16e6-441f-b208-14020c08395a",
   "metadata": {},
   "outputs": [],
   "source": []
  }
 ],
 "metadata": {
  "kernelspec": {
   "display_name": "Python 3 (ipykernel)",
   "language": "python",
   "name": "python3"
  },
  "language_info": {
   "codemirror_mode": {
    "name": "ipython",
    "version": 3
   },
   "file_extension": ".py",
   "mimetype": "text/x-python",
   "name": "python",
   "nbconvert_exporter": "python",
   "pygments_lexer": "ipython3",
   "version": "3.10.8"
  }
 },
 "nbformat": 4,
 "nbformat_minor": 5
}

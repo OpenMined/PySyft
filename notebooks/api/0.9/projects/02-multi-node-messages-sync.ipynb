{
 "cells": [
  {
   "cell_type": "markdown",
   "id": "c6b0b59a",
   "metadata": {},
   "source": [
    "# Project Messaging"
   ]
  },
  {
   "cell_type": "code",
   "execution_count": null,
   "id": "ce58069d",
   "metadata": {},
   "outputs": [],
   "source": [
    "import syft as sy\n",
    "sy.requires(\">=0.8.1-beta\")\n",
    "sy.enable_autoreload()\n",
    "from syft.service.project.project import ProjectMessage, ProjectThreadMessage"
   ]
  },
  {
   "cell_type": "code",
   "execution_count": null,
   "id": "bb78a225",
   "metadata": {},
   "outputs": [],
   "source": [
    "alice_domain = sy.orchestra.launch(name=\"Alice\", dev_mode=True)\n",
    "alice_domain_client = alice_domain.login(email=\"info@openmined.org\", password=\"changethis\")"
   ]
  },
  {
   "cell_type": "code",
   "execution_count": null,
   "id": "c29a01cc",
   "metadata": {},
   "outputs": [],
   "source": [
    "bob_domain = sy.orchestra.launch(name=\"Bob\", dev_mode=True)\n",
    "bob_domain_client = bob_domain.login(email=\"info@openmined.org\", password=\"changethis\")"
   ]
  },
  {
   "cell_type": "markdown",
   "id": "9f140bdf",
   "metadata": {},
   "source": [
    "## Retrieving existing projects"
   ]
  },
  {
   "cell_type": "code",
   "execution_count": null,
   "id": "69e43cd7",
   "metadata": {},
   "outputs": [],
   "source": [
    "alice_projects = alice_domain_client.api.services.project.get_all()\n",
    "alice_project = alice_projects[0]\n",
    "assert len(alice_projects)==1\n",
    "alice_projects"
   ]
  },
  {
   "cell_type": "code",
   "execution_count": null,
   "id": "0c397753",
   "metadata": {},
   "outputs": [],
   "source": [
    "bob_projects = bob_domain_client.api.services.project.get_all()\n",
    "bob_project = bob_projects[0]\n",
    "assert len(bob_projects)==1\n",
    "bob_projects"
   ]
  },
  {
   "cell_type": "code",
   "execution_count": null,
   "id": "413ed8e6",
   "metadata": {},
   "outputs": [],
   "source": [
    "assert alice_project.user_signing_key == alice_domain_client.api.signing_key"
   ]
  },
  {
   "cell_type": "code",
   "execution_count": null,
   "id": "f71a30b0",
   "metadata": {},
   "outputs": [],
   "source": [
    "assert bob_project.user_signing_key == bob_domain_client.api.signing_key"
   ]
  },
  {
   "cell_type": "code",
   "execution_count": null,
   "id": "f713f765",
   "metadata": {},
   "outputs": [],
   "source": [
    "assert len(alice_project.get_messages()) == 0\n",
    "alice_project.messages"
   ]
  },
  {
   "cell_type": "code",
   "execution_count": null,
   "id": "86e061e0",
   "metadata": {},
   "outputs": [],
   "source": [
    "assert len(bob_project.get_messages()) == 0\n",
    "bob_project.messages"
   ]
  },
  {
   "cell_type": "markdown",
   "id": "d147d2f2",
   "metadata": {},
   "source": [
    "## 1. Initial message by Alice"
   ]
  },
  {
   "cell_type": "code",
   "execution_count": null,
   "id": "44ec6efe",
   "metadata": {},
   "outputs": [],
   "source": [
    "alice_project.send_message(message=\"Hello Everyone 👋, I am Alice\")"
   ]
  },
  {
   "cell_type": "code",
   "execution_count": null,
   "id": "5939e0e2",
   "metadata": {},
   "outputs": [],
   "source": [
    "assert len(alice_project.get_messages()) == 1\n",
    "print(alice_project.messages)"
   ]
  },
  {
   "cell_type": "code",
   "execution_count": null,
   "id": "29cacd66",
   "metadata": {},
   "outputs": [],
   "source": [
    "assert len(bob_project.get_messages()) == 0\n",
    "bob_project.messages"
   ]
  },
  {
   "cell_type": "markdown",
   "id": "439db271",
   "metadata": {},
   "source": [
    "## 2. Project Sync Functionality"
   ]
  },
  {
   "cell_type": "code",
   "execution_count": null,
   "id": "c779efbf",
   "metadata": {},
   "outputs": [],
   "source": [
    "bob_project.sync()"
   ]
  },
  {
   "cell_type": "code",
   "execution_count": null,
   "id": "be337bab",
   "metadata": {},
   "outputs": [],
   "source": [
    "assert len(bob_project.get_messages()) == 1\n",
    "print(bob_project.messages)"
   ]
  },
  {
   "cell_type": "code",
   "execution_count": null,
   "id": "5dcb95b2",
   "metadata": {},
   "outputs": [],
   "source": [
    "bob_project.send_message(message=\"Hello Everyone 👋, I am Bob\")"
   ]
  },
  {
   "cell_type": "code",
   "execution_count": null,
   "id": "d541d75a",
   "metadata": {},
   "outputs": [],
   "source": [
    "assert len(bob_project.get_messages()) == 2\n",
    "print(bob_project.messages)"
   ]
  },
  {
   "cell_type": "code",
   "execution_count": null,
   "id": "227beaa3",
   "metadata": {},
   "outputs": [],
   "source": [
    "assert len(alice_project.get_messages()) == 1\n",
    "print(alice_project.messages)"
   ]
  },
  {
   "cell_type": "markdown",
   "id": "c955aa5e",
   "metadata": {},
   "source": [
    "## 3. Project Auto Sync Functionality"
   ]
  },
  {
   "cell_type": "code",
   "execution_count": null,
   "id": "ccc2c87e",
   "metadata": {},
   "outputs": [],
   "source": [
    "#alice sending message without sync, which inturn does auto sync at backend\n",
    "alice_project.send_message(message=\"Glad to working on this project with you all\")"
   ]
  },
  {
   "cell_type": "code",
   "execution_count": null,
   "id": "420ae6ed",
   "metadata": {},
   "outputs": [],
   "source": [
    "assert len(alice_project.get_messages()) == 3\n",
    "print(alice_project.messages)"
   ]
  },
  {
   "cell_type": "markdown",
   "id": "13d99945",
   "metadata": {},
   "source": [
    "## 4. Project MessageThread Reply"
   ]
  },
  {
   "cell_type": "code",
   "execution_count": null,
   "id": "645bc56d",
   "metadata": {},
   "outputs": [],
   "source": [
    "# to check sub thread reply by bob\n",
    "bob_project.sync()\n",
    "assert len(bob_project.get_messages()) == 3\n",
    "print(bob_project.messages)"
   ]
  },
  {
   "cell_type": "code",
   "execution_count": null,
   "id": "c58c87a1",
   "metadata": {},
   "outputs": [],
   "source": [
    "bob_project.reply_message(reply = \"Likewise 🤘\", message=bob_project.events[2])"
   ]
  },
  {
   "cell_type": "code",
   "execution_count": null,
   "id": "7317ee3c",
   "metadata": {},
   "outputs": [],
   "source": [
    "assert len(bob_project.get_messages()) == 4\n",
    "print(bob_project.messages)"
   ]
  },
  {
   "cell_type": "code",
   "execution_count": null,
   "id": "54aa425d",
   "metadata": {},
   "outputs": [],
   "source": [
    "assert bob_project.events[3].parent_event_id == bob_project.events[2].id"
   ]
  },
  {
   "cell_type": "markdown",
   "id": "0426a2aa",
   "metadata": {},
   "source": [
    "## 5. Adding messages to existing sub threads"
   ]
  },
  {
   "cell_type": "code",
   "execution_count": null,
   "id": "80a6e756",
   "metadata": {},
   "outputs": [],
   "source": [
    "#sub threaded reply to existing thread\n",
    "alice_project.sync()\n",
    "alice_project.reply_message(reply = \"Go Team ❤️!\", message=alice_project.events[3].id)"
   ]
  },
  {
   "cell_type": "code",
   "execution_count": null,
   "id": "a7ea6e97",
   "metadata": {},
   "outputs": [],
   "source": [
    "assert len(alice_project.get_messages()) == 5\n",
    "print(alice_project.messages)"
   ]
  },
  {
   "cell_type": "code",
   "execution_count": null,
   "id": "35952b87",
   "metadata": {},
   "outputs": [],
   "source": [
    "assert alice_project.events[4].parent_event_id == bob_project.events[2].id"
   ]
  },
  {
   "cell_type": "code",
   "execution_count": null,
   "id": "7c513e62",
   "metadata": {},
   "outputs": [],
   "source": [
    "assert len(alice_project.events)==5"
   ]
  },
  {
   "cell_type": "code",
   "execution_count": null,
   "id": "e8fa53dd",
   "metadata": {},
   "outputs": [],
   "source": [
    "assert len(alice_project.event_id_hashmap)==5"
   ]
  },
  {
   "cell_type": "code",
   "execution_count": null,
   "id": "60b0da7b",
   "metadata": {},
   "outputs": [],
   "source": [
    "res =  alice_project.validate_events(debug=True)\n",
    "res"
   ]
  },
  {
   "cell_type": "code",
   "execution_count": null,
   "id": "31df84e4",
   "metadata": {},
   "outputs": [],
   "source": [
    "assert isinstance(res, sy.SyftSuccess)"
   ]
  },
  {
   "cell_type": "code",
   "execution_count": null,
   "id": "8d2807a1",
   "metadata": {},
   "outputs": [],
   "source": [
    "res =  bob_project.validate_events(debug=True)\n",
    "res"
   ]
  },
  {
   "cell_type": "code",
   "execution_count": null,
   "id": "e7f2d489",
   "metadata": {},
   "outputs": [],
   "source": [
    "assert isinstance(res, sy.SyftSuccess)"
   ]
  },
  {
   "cell_type": "code",
   "execution_count": null,
   "id": "b6d46f18",
   "metadata": {},
   "outputs": [],
   "source": [
    "for node in [alice_domain, bob_domain]:\n",
    "    if node.node_type.value == \"python\":\n",
    "        node.land()"
   ]
  },
  {
   "cell_type": "code",
   "execution_count": null,
   "id": "217ad1f7",
   "metadata": {},
   "outputs": [],
   "source": []
  }
 ],
 "metadata": {
  "kernelspec": {
   "display_name": "Python 3 (ipykernel)",
   "language": "python",
   "name": "python3"
  },
  "language_info": {
   "codemirror_mode": {
    "name": "ipython",
    "version": 3
   },
   "file_extension": ".py",
   "mimetype": "text/x-python",
   "name": "python",
   "nbconvert_exporter": "python",
   "pygments_lexer": "ipython3",
   "version": "3.10.8"
  }
 },
 "nbformat": 4,
 "nbformat_minor": 5
}

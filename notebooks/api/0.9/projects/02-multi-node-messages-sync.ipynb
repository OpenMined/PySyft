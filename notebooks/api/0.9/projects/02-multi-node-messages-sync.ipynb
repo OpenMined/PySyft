{
 "cells": [
  {
   "cell_type": "markdown",
   "id": "3e8e48af-2672-4abc-bff2-bb4d07a24818",
   "metadata": {},
   "source": [
    "## Project Messaging"
   ]
  },
  {
   "cell_type": "code",
   "execution_count": null,
   "id": "15767c2c-e9cb-46e4-b48a-29c4b7a8fe02",
   "metadata": {
    "tags": []
   },
   "outputs": [],
   "source": [
    "import syft as sy\n",
    "sy.requires(\">=0.8.1-beta\")\n",
    "sy.enable_autoreload()\n",
    "from syft.service.project.project import ProjectMessage, ProjectThreadMessage"
   ]
  },
  {
   "cell_type": "code",
   "execution_count": null,
   "id": "d4cf1f7c-b227-4f26-b0c0-d4b35c021025",
   "metadata": {
    "tags": []
   },
   "outputs": [],
   "source": [
    "alice_domain = sy.orchestra.launch(name=\"Alice\", dev_mode=True)\n",
    "alice_domain_client = alice_domain.login(email=\"info@openmined.org\", password=\"changethis\")"
   ]
  },
  {
   "cell_type": "code",
   "execution_count": null,
   "id": "a0abc6db-c9c5-4555-896e-5a222195b3d5",
   "metadata": {
    "tags": []
   },
   "outputs": [],
   "source": [
    "bob_domain = sy.orchestra.launch(name=\"Bob\", dev_mode=True)\n",
    "bob_domain_client = bob_domain.login(email=\"info@openmined.org\", password=\"changethis\")"
   ]
  },
  {
   "cell_type": "markdown",
   "id": "2194652d-116d-4f03-a977-e05983cc0b2f",
   "metadata": {},
   "source": [
    "## Retrieving existing projects"
   ]
  },
  {
   "cell_type": "code",
   "execution_count": null,
   "id": "8d501650-2941-43c2-a768-807b5583524d",
   "metadata": {
    "tags": []
   },
   "outputs": [],
   "source": [
    "alice_projects = alice_domain_client.api.services.project.get_all()\n",
    "alice_project = alice_projects[0]\n",
    "assert len(alice_projects)==1\n",
    "alice_projects"
   ]
  },
  {
   "cell_type": "code",
   "execution_count": null,
   "id": "33e22c57-7e09-4d0e-bf1f-e93441468b94",
   "metadata": {
    "tags": []
   },
   "outputs": [],
   "source": [
    "bob_projects = bob_domain_client.api.services.project.get_all()\n",
    "bob_project = bob_projects[0]\n",
    "assert len(bob_projects)==1\n",
    "bob_projects"
   ]
  },
  {
   "cell_type": "code",
   "execution_count": null,
   "id": "6d4964a6-726f-41c5-8d15-7548508abe52",
   "metadata": {
    "tags": []
   },
   "outputs": [],
   "source": [
    "assert alice_project.user_signing_key == alice_domain_client.api.signing_key"
   ]
  },
  {
   "cell_type": "code",
   "execution_count": null,
   "id": "10ec0e67-42bb-4a2b-9cf2-f1d1b052cf06",
   "metadata": {
    "tags": []
   },
   "outputs": [],
   "source": [
    "assert bob_project.user_signing_key == bob_domain_client.api.signing_key"
   ]
  },
  {
   "cell_type": "code",
   "execution_count": null,
   "id": "ef40965c-67c5-4d90-86b4-86b67dc43d35",
   "metadata": {
    "tags": []
   },
   "outputs": [],
   "source": [
    "assert len(alice_project.get_messages()) == 0\n",
    "alice_project.messages"
   ]
  },
  {
   "cell_type": "code",
   "execution_count": null,
   "id": "fb593d8c-0d94-4529-aab1-0f4d2f0ae8c8",
   "metadata": {
    "tags": []
   },
   "outputs": [],
   "source": [
    "assert len(bob_project.get_messages()) == 0\n",
    "bob_project.messages"
   ]
  },
  {
   "cell_type": "markdown",
   "id": "83cd1a3e-3167-410e-82bc-7f67521a35be",
   "metadata": {},
   "source": [
    "### 1. Initial message by Alice"
   ]
  },
  {
   "cell_type": "code",
   "execution_count": null,
   "id": "72ba4143-7740-412b-9c6e-7eb8b124c2d3",
   "metadata": {
    "tags": []
   },
   "outputs": [],
   "source": [
    "alice_project.send_message(message=\"Hello Everyone 👋, I am Alice\")"
   ]
  },
  {
   "cell_type": "code",
   "execution_count": null,
   "id": "4c22fc14-4d76-410e-8363-ce2cbf416be9",
   "metadata": {
    "tags": []
   },
   "outputs": [],
   "source": [
    "assert len(alice_project.get_messages()) == 1\n",
    "print(alice_project.messages)"
   ]
  },
  {
   "cell_type": "code",
   "execution_count": null,
   "id": "e560b9fe-309e-4f5c-9631-7f63fae1d1bf",
   "metadata": {
    "tags": []
   },
   "outputs": [],
   "source": [
    "assert len(bob_project.get_messages()) == 0\n",
    "bob_project.messages"
   ]
  },
  {
   "cell_type": "markdown",
   "id": "4ddadc6b-d29b-4cf6-8b56-e0d93d96bd7c",
   "metadata": {},
   "source": [
    "### 2. Project Sync Functionality"
   ]
  },
  {
   "cell_type": "code",
   "execution_count": null,
   "id": "54f7c434-76e3-4dee-82ef-99867bf8413b",
   "metadata": {
    "tags": []
   },
   "outputs": [],
   "source": [
    "bob_project.sync()"
   ]
  },
  {
   "cell_type": "code",
   "execution_count": null,
   "id": "4c0530f6-2d62-473f-8b78-cad61122d7f2",
   "metadata": {
    "tags": []
   },
   "outputs": [],
   "source": [
    "assert len(bob_project.get_messages()) == 1\n",
    "print(bob_project.messages)"
   ]
  },
  {
   "cell_type": "code",
   "execution_count": null,
   "id": "cb887b4d-0b31-49cf-b44b-37eca81315cb",
   "metadata": {
    "tags": []
   },
   "outputs": [],
   "source": [
    "bob_project.send_message(message=\"Hello Everyone 👋, I am Bob\")"
   ]
  },
  {
   "cell_type": "code",
   "execution_count": null,
   "id": "8fb86b78-535c-421d-bdc0-b9c3d1252676",
   "metadata": {
    "tags": []
   },
   "outputs": [],
   "source": [
    "assert len(bob_project.get_messages()) == 2\n",
    "print(bob_project.messages)"
   ]
  },
  {
   "cell_type": "code",
   "execution_count": null,
   "id": "4388a271-9591-43cc-aecf-3bd41adc5d87",
   "metadata": {
    "tags": []
   },
   "outputs": [],
   "source": [
    "assert len(alice_project.get_messages()) == 1\n",
    "print(alice_project.messages)"
   ]
  },
  {
   "cell_type": "markdown",
   "id": "63329b2b-59ea-4238-8af4-720bf0f774bb",
   "metadata": {},
   "source": [
    "### 3. Project Auto Sync Functionality"
   ]
  },
  {
   "cell_type": "code",
   "execution_count": null,
   "id": "b6d8d746-45ad-4bfd-8409-d30384f33c05",
   "metadata": {
    "tags": []
   },
   "outputs": [],
   "source": [
    "#alice sending message without sync, which inturn does auto sync at backend\n",
    "alice_project.send_message(message=\"Glad to working on this project with you all\")"
   ]
  },
  {
   "cell_type": "code",
   "execution_count": null,
   "id": "a90868b2-4044-4753-8c57-d613dd67f917",
   "metadata": {
    "tags": []
   },
   "outputs": [],
   "source": [
    "assert len(alice_project.get_messages()) == 3\n",
    "print(alice_project.messages)"
   ]
  },
  {
   "cell_type": "markdown",
   "id": "a5b5cc33-0604-418c-b459-928ef291307e",
   "metadata": {},
   "source": [
    "### 4. Project MessageThread Reply"
   ]
  },
  {
   "cell_type": "code",
   "execution_count": null,
   "id": "c9bc7243-f845-4d89-b215-a501887e76a8",
   "metadata": {
    "tags": []
   },
   "outputs": [],
   "source": [
    "# to check sub thread reply by bob\n",
    "bob_project.sync()\n",
    "assert len(bob_project.get_messages()) == 3\n",
    "print(bob_project.messages)"
   ]
  },
  {
   "cell_type": "code",
   "execution_count": null,
   "id": "daea7607-c0e0-4741-8982-ad4ec43b14d9",
   "metadata": {
    "tags": []
   },
   "outputs": [],
   "source": [
    "bob_project.reply_message(reply = \"Likewise 🤘\", message=bob_project.events[2])"
   ]
  },
  {
   "cell_type": "code",
   "execution_count": null,
   "id": "d5c9cf06-7727-41f5-b6a1-3e2969d74800",
   "metadata": {
    "tags": []
   },
   "outputs": [],
   "source": [
    "assert len(bob_project.get_messages()) == 4\n",
    "print(bob_project.messages)"
   ]
  },
  {
   "cell_type": "code",
   "execution_count": null,
   "id": "c9d48c20-42f7-40a5-ab72-7235124faba6",
   "metadata": {
    "tags": []
   },
   "outputs": [],
   "source": [
    "assert bob_project.events[3].parent_event_id == bob_project.events[2].id"
   ]
  },
  {
   "cell_type": "markdown",
   "id": "cdba44a2-f341-4a4a-9a36-4a67e2233534",
   "metadata": {},
   "source": [
    "### 5. Adding messages to existing sub threads"
   ]
  },
  {
   "cell_type": "code",
   "execution_count": null,
   "id": "74640ee3-cb77-4668-b5c6-f0eb1927f5a8",
   "metadata": {
    "tags": []
   },
   "outputs": [],
   "source": [
    "#sub threaded reply to existing thread\n",
    "alice_project.sync()\n",
    "alice_project.reply_message(reply = \"Go Team ❤️!\", message=alice_project.events[3].id)"
   ]
  },
  {
   "cell_type": "code",
   "execution_count": null,
   "id": "fd28a8c4-6703-45e9-9f97-f8b975616037",
   "metadata": {
    "tags": []
   },
   "outputs": [],
   "source": [
    "assert len(alice_project.get_messages()) == 5\n",
    "print(alice_project.messages)"
   ]
  },
  {
   "cell_type": "code",
   "execution_count": null,
   "id": "e0afbe71-4803-4a38-94e4-d0c158022ed4",
   "metadata": {
    "tags": []
   },
   "outputs": [],
   "source": [
    "assert alice_project.events[4].parent_event_id == bob_project.events[2].id"
   ]
  },
  {
   "cell_type": "code",
   "execution_count": null,
   "id": "83ecf355-3c64-4ad9-8b5d-f76b60e1c34c",
   "metadata": {
    "tags": []
   },
   "outputs": [],
   "source": [
    "assert len(alice_project.events)==5"
   ]
  },
  {
   "cell_type": "code",
   "execution_count": null,
   "id": "97197967-5fce-4074-9720-505d96b2d652",
   "metadata": {
    "tags": []
   },
   "outputs": [],
   "source": [
    "assert len(alice_project.event_id_hashmap)==5"
   ]
  },
  {
   "cell_type": "code",
   "execution_count": null,
   "id": "6c87722e-91d4-47c7-ae8b-d988e969276d",
   "metadata": {
    "tags": []
   },
   "outputs": [],
   "source": [
    "res =  alice_project.validate_events(debug=True)\n",
    "res"
   ]
  },
  {
   "cell_type": "code",
   "execution_count": null,
   "id": "a6f01a8d-1013-4cc0-8648-f3e6a167cca5",
   "metadata": {
    "tags": []
   },
   "outputs": [],
   "source": [
    "assert isinstance(res, sy.SyftSuccess)"
   ]
  },
  {
   "cell_type": "code",
   "execution_count": null,
   "id": "de60b6a4-dd0f-424f-a17b-316e1379f366",
   "metadata": {
    "tags": []
   },
   "outputs": [],
   "source": [
    "res =  bob_project.validate_events(debug=True)\n",
    "res"
   ]
  },
  {
   "cell_type": "code",
   "execution_count": null,
   "id": "9e8988da-7945-40ad-93fe-d69a526f6e56",
   "metadata": {
    "tags": []
   },
   "outputs": [],
   "source": [
    "assert isinstance(res, sy.SyftSuccess)"
   ]
  },
  {
   "cell_type": "code",
   "execution_count": null,
   "id": "31a5fbe4-11b4-470c-8ed2-47fd7cae9a4f",
   "metadata": {
    "tags": []
   },
   "outputs": [],
   "source": [
    "for node in [alice_domain, bob_domain]:\n",
    "    if node.node_type.value == \"python\":\n",
    "        node.land()"
   ]
  },
  {
   "cell_type": "code",
   "execution_count": null,
   "id": "66f4a35e-0edb-4e65-9fc5-a634e211ce84",
   "metadata": {},
   "outputs": [],
   "source": []
  }
 ],
 "metadata": {
  "kernelspec": {
   "display_name": "Python 3 (ipykernel)",
   "language": "python",
   "name": "python3"
  },
  "language_info": {
   "codemirror_mode": {
    "name": "ipython",
    "version": 3
   },
   "file_extension": ".py",
   "mimetype": "text/x-python",
   "name": "python",
   "nbconvert_exporter": "python",
   "pygments_lexer": "ipython3",
   "version": "3.11.2"
  }
 },
 "nbformat": 4,
 "nbformat_minor": 5
}

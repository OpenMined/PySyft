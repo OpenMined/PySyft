{
 "cells": [
  {
   "attachments": {},
   "cell_type": "markdown",
   "id": "85cdf16b-cbc9-4c15-9d1d-4c345d676d81",
   "metadata": {},
   "source": [
    "# Multi Node Projects Creation"
   ]
  },
  {
   "cell_type": "code",
   "execution_count": null,
   "id": "4a0f1d5e-6d8c-485c-90ba-0b9c72dec8d7",
   "metadata": {
    "tags": []
   },
   "outputs": [],
   "source": [
    "import syft as sy\n",
    "sy.requires(\">=0.8.1-beta\")\n",
    "sy.enable_autoreload()\n",
    "from syft.service.project.project import ProjectSubmit\n",
    "from syft.service.project.project import Project"
   ]
  },
  {
   "cell_type": "code",
   "execution_count": null,
   "id": "a3d2fbe5-e762-48d3-9e77-50cdc96bf856",
   "metadata": {
    "tags": []
   },
   "outputs": [],
   "source": [
    "alice_domain = sy.orchestra.launch(name=\"Alice\", dev_mode=True, reset=True)\n",
    "bob_domain = sy.orchestra.launch(name=\"Bob\", dev_mode=True, reset=True)"
   ]
  },
  {
   "cell_type": "code",
   "execution_count": null,
   "id": "f76dc303-3f31-4169-baae-79bd816e0239",
   "metadata": {
    "tags": []
   },
   "outputs": [],
   "source": [
    "alice_domain_client = alice_domain.login(email=\"info@openmined.org\", password=\"changethis\")\n",
    "bob_domain_client = bob_domain.login(email=\"info@openmined.org\", password=\"changethis\")"
   ]
  },
  {
   "cell_type": "code",
   "execution_count": null,
   "id": "afde940b-6dd3-40e0-b1a4-b10c55e3d7a7",
   "metadata": {
    "tags": []
   },
   "outputs": [],
   "source": [
    "alice_domain_client.register(email=\"sheldon@caltech.edu\", password=\"changethis\", name=\"Sheldon Cooper\")"
   ]
  },
  {
   "cell_type": "code",
   "execution_count": null,
   "id": "16004e4a-5235-49ee-9150-124a97df7b4c",
   "metadata": {
    "tags": []
   },
   "outputs": [],
   "source": [
    "bob_domain_client.register(email=\"sheldon@caltech.edu\", password=\"changethis\", name=\"Sheldon Cooper\")"
   ]
  },
  {
   "cell_type": "code",
   "execution_count": null,
   "id": "1f3d349f-da09-406f-b122-9f9e0c9800b8",
   "metadata": {
    "tags": []
   },
   "outputs": [],
   "source": [
    "alice_ds = alice_domain.login(email=\"sheldon@caltech.edu\", password=\"changethis\")\n",
    "bob_ds = bob_domain.login(email=\"sheldon@caltech.edu\", password=\"changethis\")"
   ]
  },
  {
   "cell_type": "code",
   "execution_count": null,
   "id": "10be52fa-8ab5-469b-adbf-5debb25d8111",
   "metadata": {
    "tags": []
   },
   "outputs": [],
   "source": [
    "new_project = sy.Project(\n",
    "    name=\"test project\",\n",
    "    description=\"my test project\",\n",
    "    members=[alice_ds, bob_ds],\n",
    ")\n"
   ]
  },
  {
   "cell_type": "code",
   "execution_count": null,
   "id": "9074d519-891f-47c4-a074-50b2a7433fe8",
   "metadata": {
    "tags": []
   },
   "outputs": [],
   "source": [
    "new_project"
   ]
  },
  {
   "cell_type": "code",
   "execution_count": null,
   "id": "ef17ae70-13bc-4191-bb87-595f149495f9",
   "metadata": {
    "tags": []
   },
   "outputs": [],
   "source": [
    "projects = new_project.start(return_all_projects=True)\n",
    "projects"
   ]
  },
  {
   "cell_type": "code",
   "execution_count": null,
   "id": "4131e8f3-6427-495a-b559-149ecfd37510",
   "metadata": {
    "tags": []
   },
   "outputs": [],
   "source": [
    "alice_domain_client.domains"
   ]
  },
  {
   "cell_type": "code",
   "execution_count": null,
   "id": "ef231f17-588b-4071-887f-f816e94aef73",
   "metadata": {
    "tags": []
   },
   "outputs": [],
   "source": [
    "assert len(alice_domain_client.domains) ==1"
   ]
  },
  {
   "cell_type": "code",
   "execution_count": null,
   "id": "1e274aba-bdba-41a6-934e-2c0698c19b50",
   "metadata": {
    "tags": []
   },
   "outputs": [],
   "source": [
    "bob_domain_client.domains"
   ]
  },
  {
   "cell_type": "code",
   "execution_count": null,
   "id": "6f40cc1d-62be-42d6-81cc-274fc5c08a16",
   "metadata": {
    "tags": []
   },
   "outputs": [],
   "source": [
    "assert len(bob_domain_client.domains) == 1"
   ]
  },
  {
   "cell_type": "code",
   "execution_count": null,
   "id": "c18a6004-7a64-4ac7-a4b2-3976bcba551b",
   "metadata": {
    "tags": []
   },
   "outputs": [],
   "source": [
    "# Or when working on a project that already exists\n",
    "project_by_name = bob_domain_client.get_project(name=\"test project\")\n",
    "assert isinstance(project_by_name,sy.service.project.project.Project)"
   ]
  },
  {
   "cell_type": "code",
   "execution_count": null,
   "id": "a1a19b47-7f82-405a-8dd8-a6909e908540",
   "metadata": {
    "tags": []
   },
   "outputs": [],
   "source": [
    "assert projects[0].start_hash == projects[1].start_hash"
   ]
  },
  {
   "cell_type": "code",
   "execution_count": null,
   "id": "fbea2a9a-efb1-4dea-a86d-8f4beb030664",
   "metadata": {
    "tags": []
   },
   "outputs": [],
   "source": [
    "project = projects[0]"
   ]
  },
  {
   "cell_type": "code",
   "execution_count": null,
   "id": "5a1d44e7-2ad9-4c8b-b8f3-1c21e16e0b28",
   "metadata": {
    "tags": []
   },
   "outputs": [],
   "source": [
    "project.members"
   ]
  },
  {
   "cell_type": "code",
   "execution_count": null,
   "id": "a5ed3c07-de40-475b-bdc3-d08eef577a41",
   "metadata": {
    "tags": []
   },
   "outputs": [],
   "source": [
    "assert isinstance(project, Project)"
   ]
  },
  {
   "cell_type": "code",
   "execution_count": null,
   "id": "df6dc761-fac5-426a-a14c-44d78fb8ce61",
   "metadata": {
    "tags": []
   },
   "outputs": [],
   "source": [
    "assert len(alice_domain_client.api.services.project.get_all()) == 1"
   ]
  },
  {
   "cell_type": "code",
   "execution_count": null,
   "id": "f9b50932-9d26-475a-95b7-0a82e05c9684",
   "metadata": {
    "tags": []
   },
   "outputs": [],
   "source": [
    "assert len(bob_domain_client.api.services.project.get_all()) == 1"
   ]
  },
  {
   "cell_type": "code",
   "execution_count": null,
   "id": "21187ed1-7153-4a7e-b51a-4521223fe58e",
   "metadata": {
    "tags": []
   },
   "outputs": [],
   "source": [
    "for node in [alice_domain, bob_domain]:\n",
    "    if node.node_type.value == \"python\":\n",
    "        node.land()"
   ]
  },
  {
   "cell_type": "code",
   "execution_count": null,
   "id": "c416e091-e9ce-4298-b345-aa9c7242eff6",
   "metadata": {},
   "outputs": [],
   "source": []
  }
 ],
 "metadata": {
  "kernelspec": {
   "display_name": "Python 3 (ipykernel)",
   "language": "python",
   "name": "python3"
  },
  "language_info": {
   "codemirror_mode": {
    "name": "ipython",
    "version": 3
   },
   "file_extension": ".py",
   "mimetype": "text/x-python",
   "name": "python",
   "nbconvert_exporter": "python",
   "pygments_lexer": "ipython3",
   "version": "3.11.2"
  }
 },
 "nbformat": 4,
 "nbformat_minor": 5
}

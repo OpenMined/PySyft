{
 "cells": [
  {
   "cell_type": "markdown",
   "id": "25d92034",
   "metadata": {},
   "source": [
    "# Multi Node Projects Creation"
   ]
  },
  {
   "cell_type": "code",
   "execution_count": null,
   "id": "410a43c3",
   "metadata": {},
   "outputs": [],
   "source": [
    "import syft as sy\n",
    "sy.requires(\">=0.8.1-beta\")\n",
    "sy.enable_autoreload()\n",
    "from syft.service.project.project import ProjectSubmit\n",
    "from syft.service.project.project import Project"
   ]
  },
  {
   "cell_type": "code",
   "execution_count": null,
   "id": "182b66c0",
   "metadata": {},
   "outputs": [],
   "source": [
    "alice_domain = sy.orchestra.launch(name=\"Alice\", dev_mode=True, reset=True)\n",
    "bob_domain = sy.orchestra.launch(name=\"Bob\", dev_mode=True, reset=True)"
   ]
  },
  {
   "cell_type": "code",
   "execution_count": null,
   "id": "5d3d6931",
   "metadata": {},
   "outputs": [],
   "source": [
    "alice_domain_client = alice_domain.login(email=\"info@openmined.org\", password=\"changethis\")\n",
    "bob_domain_client = bob_domain.login(email=\"info@openmined.org\", password=\"changethis\")"
   ]
  },
  {
   "cell_type": "code",
   "execution_count": null,
   "id": "2bdcff64",
   "metadata": {},
   "outputs": [],
   "source": [
    "alice_domain_client.register(email=\"sheldon@caltech.edu\", password=\"changethis\", name=\"Sheldon Cooper\")"
   ]
  },
  {
   "cell_type": "code",
   "execution_count": null,
   "id": "6d08c5dd",
   "metadata": {},
   "outputs": [],
   "source": [
    "bob_domain_client.register(email=\"sheldon@caltech.edu\", password=\"changethis\", name=\"Sheldon Cooper\")"
   ]
  },
  {
   "cell_type": "code",
   "execution_count": null,
   "id": "560590f4",
   "metadata": {},
   "outputs": [],
   "source": [
    "alice_ds = alice_domain.login(email=\"sheldon@caltech.edu\", password=\"changethis\")\n",
    "bob_ds = bob_domain.login(email=\"sheldon@caltech.edu\", password=\"changethis\")"
   ]
  },
  {
   "cell_type": "code",
   "execution_count": null,
   "id": "865f3a97",
   "metadata": {},
   "outputs": [],
   "source": [
    "new_project = sy.Project(\n",
    "    name=\"test project\",\n",
    "    description=\"my test project\",\n",
    "    members=[alice_ds, bob_ds],\n",
    ")"
   ]
  },
  {
   "cell_type": "code",
   "execution_count": null,
   "id": "b44b739c",
   "metadata": {},
   "outputs": [],
   "source": [
    "new_project"
   ]
  },
  {
   "cell_type": "code",
   "execution_count": null,
   "id": "4fc71648",
   "metadata": {},
   "outputs": [],
   "source": [
    "projects = new_project.start(return_all_projects=True)\n",
    "projects"
   ]
  },
  {
   "cell_type": "code",
   "execution_count": null,
   "id": "0d699f17",
   "metadata": {},
   "outputs": [],
   "source": [
    "alice_domain_client.domains"
   ]
  },
  {
   "cell_type": "code",
   "execution_count": null,
   "id": "931a4ae3",
   "metadata": {},
   "outputs": [],
   "source": [
    "assert len(alice_domain_client.domains) ==1"
   ]
  },
  {
   "cell_type": "code",
   "execution_count": null,
   "id": "c2f7d5b6",
   "metadata": {},
   "outputs": [],
   "source": [
    "bob_domain_client.domains"
   ]
  },
  {
   "cell_type": "code",
   "execution_count": null,
   "id": "3fc7bd46",
   "metadata": {},
   "outputs": [],
   "source": [
    "assert len(bob_domain_client.domains) == 1"
   ]
  },
  {
   "cell_type": "code",
   "execution_count": null,
   "id": "e1849f2f",
   "metadata": {},
   "outputs": [],
   "source": [
    "project_by_name = bob_domain_client.get_project(name=\"test project\")\n",
    "assert isinstance(project_by_name,sy.service.project.project.Project)"
   ]
  },
  {
   "cell_type": "code",
   "execution_count": null,
   "id": "d07d2d76",
   "metadata": {},
   "outputs": [],
   "source": [
    "assert projects[0].start_hash == projects[1].start_hash"
   ]
  },
  {
   "cell_type": "code",
   "execution_count": null,
   "id": "46818398",
   "metadata": {},
   "outputs": [],
   "source": [
    "project = projects[0]"
   ]
  },
  {
   "cell_type": "code",
   "execution_count": null,
   "id": "1525ac06",
   "metadata": {},
   "outputs": [],
   "source": [
    "project.members"
   ]
  },
  {
   "cell_type": "code",
   "execution_count": null,
   "id": "7bc45d13",
   "metadata": {},
   "outputs": [],
   "source": [
    "assert isinstance(project, Project)"
   ]
  },
  {
   "cell_type": "code",
   "execution_count": null,
   "id": "68b01dd0",
   "metadata": {},
   "outputs": [],
   "source": [
    "assert len(alice_domain_client.api.services.project.get_all()) == 1"
   ]
  },
  {
   "cell_type": "code",
   "execution_count": null,
   "id": "54eccd2d",
   "metadata": {},
   "outputs": [],
   "source": [
    "assert len(bob_domain_client.api.services.project.get_all()) == 1"
   ]
  },
  {
   "cell_type": "code",
   "execution_count": null,
   "id": "a361b7ea",
   "metadata": {},
   "outputs": [],
   "source": [
    "for node in [alice_domain, bob_domain]:\n",
    "    if node.node_type.value == \"python\":\n",
    "        node.land()"
   ]
  },
  {
   "cell_type": "code",
   "execution_count": null,
   "id": "6ca7de4d",
   "metadata": {},
   "outputs": [],
   "source": []
  }
 ],
 "metadata": {
  "kernelspec": {
   "display_name": "Python 3 (ipykernel)",
   "language": "python",
   "name": "python3"
  },
  "language_info": {
   "codemirror_mode": {
    "name": "ipython",
    "version": 3
   },
   "file_extension": ".py",
   "mimetype": "text/x-python",
   "name": "python",
   "nbconvert_exporter": "python",
   "pygments_lexer": "ipython3",
   "version": "3.10.8"
  }
 },
 "nbformat": 4,
 "nbformat_minor": 5
}

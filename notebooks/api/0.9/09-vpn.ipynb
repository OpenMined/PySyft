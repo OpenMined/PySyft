{
 "cells": [
  {
   "cell_type": "code",
   "execution_count": null,
   "id": "cd83a369-b928-40d0-8ccd-79085d00da44",
   "metadata": {
    "tags": []
   },
   "outputs": [],
   "source": [
    "# import os\n",
    "# node_type = os.environ.get(\"ORCHESTRA_NODE_TYPE\", \"enclave\")\n",
    "# node_type\n",
    "# # TODO: change this to NODE_HOST or something similar"
   ]
  },
  {
   "cell_type": "code",
   "execution_count": null,
   "id": "c6857927-5a33-4618-b240-4a0d5f8254b1",
   "metadata": {
    "tags": []
   },
   "outputs": [],
   "source": [
    "import syft as sy\n",
    "sy.requires(\">=0.8.1-beta\")"
   ]
  },
  {
   "cell_type": "code",
   "execution_count": null,
   "id": "9746eec8-4b8a-48d6-910c-0d865c200526",
   "metadata": {
    "tags": []
   },
   "outputs": [],
   "source": [
    "gateway_node_type = \"gateway\"\n",
    "gateway_node = sy.orchestra.launch(name=\"test-gateway-1\", node_type=gateway_node_type, \n",
    "                                   port=8080, dev_mode=True, reset=True)"
   ]
  },
  {
   "cell_type": "code",
   "execution_count": null,
   "id": "c9d94504-3ff9-4ab8-b61d-b33a8b309332",
   "metadata": {},
   "outputs": [],
   "source": [
    "gateway_client = gateway_node.login(email=\"info@openmined.org\", password=\"changethis\")\n",
    "gateway_client"
   ]
  },
  {
   "cell_type": "code",
   "execution_count": null,
   "id": "a8001034-3f04-49dd-8d25-d33680367d51",
   "metadata": {
    "tags": []
   },
   "outputs": [],
   "source": [
    "# gateway_client = sy.login(port=9081, email=\"info@openmined.org\", password=\"changethis\")"
   ]
  },
  {
   "cell_type": "code",
   "execution_count": null,
   "id": "1c588300-97e8-45a1-8249-5f243adaf663",
   "metadata": {
    "tags": []
   },
   "outputs": [],
   "source": [
    "domain_node_type = \"domain\"\n",
    "domain_node = sy.orchestra.launch(name=\"test-domain-1\", node_type=gateway_node_type, port=8081, dev_mode=True, reset=True)"
   ]
  },
  {
   "cell_type": "code",
   "execution_count": null,
   "id": "e9717668-4510-4c29-be20-28f7c06314b1",
   "metadata": {
    "tags": []
   },
   "outputs": [],
   "source": [
    "domain_client = domain_node.login(email=\"info@openmined.org\", password=\"changethis\")"
   ]
  },
  {
   "cell_type": "code",
   "execution_count": null,
   "id": "5f4eb978-5a95-4060-9fd6-2d08e88ecc1d",
   "metadata": {
    "tags": []
   },
   "outputs": [],
   "source": [
    "# domain_client = sy.login(port=9082, email=\"info@openmined.org\", password=\"changethis\")"
   ]
  },
  {
   "cell_type": "code",
   "execution_count": null,
   "id": "c485e714-7372-4c26-b23c-9a9df9390dd0",
   "metadata": {
    "tags": []
   },
   "outputs": [],
   "source": [
    "domain_client"
   ]
  },
  {
   "cell_type": "code",
   "execution_count": null,
   "id": "4dded5c9-6e2b-4098-999b-f9062676ea87",
   "metadata": {
    "tags": []
   },
   "outputs": [],
   "source": [
    "domain_client.apply_to_gateway(gateway_client)"
   ]
  },
  {
   "cell_type": "code",
   "execution_count": null,
   "id": "a891e60a-f255-4b27-8ee3-397990d6a21c",
   "metadata": {
    "tags": []
   },
   "outputs": [],
   "source": [
    "domain_client.domains"
   ]
  },
  {
   "cell_type": "code",
   "execution_count": null,
   "id": "6940500e-93df-4577-882a-5a545256a731",
   "metadata": {
    "tags": []
   },
   "outputs": [],
   "source": [
    "gateway_client.domains"
   ]
  },
  {
   "cell_type": "code",
   "execution_count": null,
   "id": "669083ca-a16b-48cf-a70e-c2e3a585fab4",
   "metadata": {
    "tags": []
   },
   "outputs": [],
   "source": [
    "result = domain_client.api.services.network.join_vpn(client=gateway_client)"
   ]
  },
  {
   "cell_type": "code",
   "execution_count": null,
   "id": "705f1abb-c491-4ec1-8a0e-6225348fae37",
   "metadata": {
    "tags": []
   },
   "outputs": [],
   "source": [
    "gateway_client.domains"
   ]
  },
  {
   "cell_type": "code",
   "execution_count": null,
   "id": "14507c8a-1c83-4a0b-90e8-2f8cc27c18f9",
   "metadata": {},
   "outputs": [],
   "source": [
    "domain_node.land()"
   ]
  },
  {
   "cell_type": "code",
   "execution_count": null,
   "id": "fd3dab97",
   "metadata": {},
   "outputs": [],
   "source": [
    "gateway_node.land()"
   ]
  },
  {
   "cell_type": "code",
   "execution_count": null,
   "id": "47667a40",
   "metadata": {},
   "outputs": [],
   "source": []
  }
 ],
 "metadata": {
  "kernelspec": {
   "display_name": "Python 3 (ipykernel)",
   "language": "python",
   "name": "python3"
  },
  "language_info": {
   "codemirror_mode": {
    "name": "ipython",
    "version": 3
   },
   "file_extension": ".py",
   "mimetype": "text/x-python",
   "name": "python",
   "nbconvert_exporter": "python",
   "pygments_lexer": "ipython3",
   "version": "3.10.8"
  }
 },
 "nbformat": 4,
 "nbformat_minor": 5
}

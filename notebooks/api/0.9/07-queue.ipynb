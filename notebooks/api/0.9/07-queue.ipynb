{
 "cells": [
  {
   "cell_type": "code",
   "execution_count": null,
   "id": "1b047535",
   "metadata": {},
   "outputs": [],
   "source": [
    "import syft as sy\n",
    "from syft.service.queue.queue_stash import QueueItem\n",
    "from syft.service.queue.zmq_queue import ZMQProducer\n",
    "from syft.client.api import SyftAPICall\n",
    "from syft.service.response import SyftNotReady\n",
    "import time"
   ]
  },
  {
   "cell_type": "code",
   "execution_count": null,
   "id": "1f39a2ad",
   "metadata": {},
   "outputs": [],
   "source": [
    "domain = sy.Worker.named(name='Domain', processes=1, reset=True)\n",
    "domain"
   ]
  },
  {
   "cell_type": "code",
   "execution_count": null,
   "id": "a0c8f00b",
   "metadata": {},
   "outputs": [],
   "source": [
    "client = domain.root_client\n",
    "client"
   ]
  },
  {
   "cell_type": "code",
   "execution_count": null,
   "id": "35073718",
   "metadata": {},
   "outputs": [],
   "source": [
    "client.api"
   ]
  },
  {
   "cell_type": "code",
   "execution_count": null,
   "id": "50da4e28",
   "metadata": {},
   "outputs": [],
   "source": [
    "assert domain.queue_manager is not None"
   ]
  },
  {
   "cell_type": "code",
   "execution_count": null,
   "id": "d0ad48ea",
   "metadata": {},
   "outputs": [],
   "source": [
    "assert len(domain.queue_manager.producers) > 0"
   ]
  },
  {
   "cell_type": "code",
   "execution_count": null,
   "id": "b57d0cd2",
   "metadata": {},
   "outputs": [],
   "source": [
    "assert len(domain.queue_manager.consumers) > 0"
   ]
  },
  {
   "cell_type": "code",
   "execution_count": null,
   "id": "e068a60d",
   "metadata": {},
   "outputs": [],
   "source": [
    "call = SyftAPICall(\n",
    "    node_uid=domain.id, path=\"data_subject.get_all\", args=(), blocking=False, kwargs={}\n",
    ")\n",
    "call"
   ]
  },
  {
   "cell_type": "code",
   "execution_count": null,
   "id": "ad97ba50",
   "metadata": {},
   "outputs": [],
   "source": [
    "signed_api_call = call.sign(client.credentials)\n",
    "signed_api_call"
   ]
  },
  {
   "cell_type": "code",
   "execution_count": null,
   "id": "265501a9",
   "metadata": {},
   "outputs": [],
   "source": [
    "assert signed_api_call.credentials == client.credentials.verify_key"
   ]
  },
  {
   "cell_type": "code",
   "execution_count": null,
   "id": "5fc5f10a",
   "metadata": {},
   "outputs": [],
   "source": [
    "signed_result = domain.handle_api_call(signed_api_call)\n",
    "signed_result"
   ]
  },
  {
   "cell_type": "code",
   "execution_count": null,
   "id": "92be0c37",
   "metadata": {},
   "outputs": [],
   "source": [
    "assert signed_result.credentials == client.credentials.verify_key"
   ]
  },
  {
   "cell_type": "code",
   "execution_count": null,
   "id": "a95bbb2d",
   "metadata": {},
   "outputs": [],
   "source": [
    "queue_item = signed_result.message.data\n",
    "queue_item"
   ]
  },
  {
   "cell_type": "code",
   "execution_count": null,
   "id": "bec51e62",
   "metadata": {},
   "outputs": [],
   "source": [
    "assert queue_item is not None\n",
    "assert isinstance(queue_item, QueueItem)"
   ]
  },
  {
   "cell_type": "code",
   "execution_count": null,
   "id": "8cc4edca",
   "metadata": {},
   "outputs": [],
   "source": [
    "queue_item.syft_client_verify_key"
   ]
  },
  {
   "cell_type": "code",
   "execution_count": null,
   "id": "3cf47079",
   "metadata": {},
   "outputs": [],
   "source": [
    "MAX_RETRIES = 5\n",
    "count = 0\n",
    "while(not signed_result.message.data.resolved):\n",
    "    # poll database\n",
    "    queue_item.resolve\n",
    "    count += 1\n",
    "    time.sleep(1)\n",
    "    if count == MAX_RETRIES:\n",
    "        break"
   ]
  },
  {
   "cell_type": "code",
   "execution_count": null,
   "id": "a85ecf68",
   "metadata": {},
   "outputs": [],
   "source": [
    "queue_item"
   ]
  },
  {
   "cell_type": "code",
   "execution_count": null,
   "id": "4ab76144",
   "metadata": {},
   "outputs": [],
   "source": [
    "queue_item.resolve"
   ]
  },
  {
   "cell_type": "code",
   "execution_count": null,
   "id": "991c5c04",
   "metadata": {},
   "outputs": [],
   "source": [
    "queue_item"
   ]
  },
  {
   "cell_type": "code",
   "execution_count": null,
   "id": "7ba64aad",
   "metadata": {},
   "outputs": [],
   "source": [
    "list(domain.document_store.partitions[\"QueueItem\"].data.values())"
   ]
  },
  {
   "cell_type": "code",
   "execution_count": null,
   "id": "0c7452ba",
   "metadata": {},
   "outputs": [],
   "source": [
    "assert len(domain.document_store.partitions[\"QueueItem\"].data) == 0"
   ]
  },
  {
   "cell_type": "code",
   "execution_count": null,
   "id": "ac0dbc53",
   "metadata": {},
   "outputs": [],
   "source": [
    "assert queue_item.resolved is True"
   ]
  },
  {
   "cell_type": "code",
   "execution_count": null,
   "id": "79be23e0",
   "metadata": {},
   "outputs": [],
   "source": [
    "queue_item.result"
   ]
  },
  {
   "cell_type": "code",
   "execution_count": null,
   "id": "dff43b5c",
   "metadata": {},
   "outputs": [],
   "source": [
    "assert queue_item.result is not None"
   ]
  },
  {
   "cell_type": "code",
   "execution_count": null,
   "id": "26537f0b",
   "metadata": {},
   "outputs": [],
   "source": [
    "assert queue_item.resolve.data == []"
   ]
  },
  {
   "cell_type": "code",
   "execution_count": null,
   "id": "98ac4762",
   "metadata": {},
   "outputs": [],
   "source": [
    "domain.queue_manager._client.purge_all()"
   ]
  },
  {
   "cell_type": "code",
   "execution_count": null,
   "id": "44443b3d",
   "metadata": {},
   "outputs": [],
   "source": [
    "assert domain.queue_manager._client.producers['api_call'].alive\n",
    "assert domain.queue_manager._client.consumers['api_call'][0].alive"
   ]
  },
  {
   "cell_type": "code",
   "execution_count": null,
   "id": "6b456ac0",
   "metadata": {},
   "outputs": [],
   "source": [
    "domain.queue_manager.close()"
   ]
  },
  {
   "cell_type": "code",
   "execution_count": null,
   "id": "79c702d2",
   "metadata": {},
   "outputs": [],
   "source": []
  }
 ],
 "metadata": {
  "kernelspec": {
   "display_name": "Python 3 (ipykernel)",
   "language": "python",
   "name": "python3"
  },
  "language_info": {
   "codemirror_mode": {
    "name": "ipython",
    "version": 3
   },
   "file_extension": ".py",
   "mimetype": "text/x-python",
   "name": "python",
   "nbconvert_exporter": "python",
   "pygments_lexer": "ipython3",
   "version": "3.10.8"
  }
 },
 "nbformat": 4,
 "nbformat_minor": 5
}

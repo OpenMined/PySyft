{
 "cells": [
  {
   "cell_type": "code",
   "execution_count": null,
   "id": "4a0f1d5e-6d8c-485c-90ba-0b9c72dec8d7",
   "metadata": {
    "tags": []
   },
   "outputs": [],
   "source": [
    "import syft as sy\n",
    "sy.requires(\">=0.8.1-beta\")\n",
    "sy.enable_autoreload()"
   ]
  },
  {
   "cell_type": "code",
   "execution_count": null,
   "id": "6fb9ae0b-745e-41db-8fa7-8bd6340731c5",
   "metadata": {
    "tags": []
   },
   "outputs": [],
   "source": [
    "domain_1 = sy.orchestra.launch(name=\"test-domain-1\", dev_mode=True, reset=True)"
   ]
  },
  {
   "cell_type": "code",
   "execution_count": null,
   "id": "cd7c6d52-03b9-4ef1-9bff-18b50a2530a0",
   "metadata": {
    "tags": []
   },
   "outputs": [],
   "source": [
    "domain_1_client = domain_1.login(email=\"info@openmined.org\", password=\"changethis\")"
   ]
  },
  {
   "cell_type": "code",
   "execution_count": null,
   "id": "5c029c8b-6e42-43b3-84e7-244e8b6a4f1f",
   "metadata": {
    "tags": []
   },
   "outputs": [],
   "source": [
    "domain_2 = sy.orchestra.launch(name=\"test-domain-2\", dev_mode=True, reset=True)"
   ]
  },
  {
   "cell_type": "code",
   "execution_count": null,
   "id": "b94f4af3-33dc-4f16-ba3b-34c7d52d7c55",
   "metadata": {
    "tags": []
   },
   "outputs": [],
   "source": [
    "domain_2_client = domain_2.login(email=\"info@openmined.org\", password=\"changethis\")"
   ]
  },
  {
   "cell_type": "code",
   "execution_count": null,
   "id": "bc8f2ca5-2db5-4508-af49-b0cdfe1499ff",
   "metadata": {
    "tags": []
   },
   "outputs": [],
   "source": [
    "domain_1_client.exchange_route(domain_2_client)"
   ]
  },
  {
   "cell_type": "code",
   "execution_count": null,
   "id": "3e04a5d8-74b7-4a5f-b3e4-c5e96570b496",
   "metadata": {
    "tags": []
   },
   "outputs": [],
   "source": [
    "domain_1_client.domains"
   ]
  },
  {
   "cell_type": "code",
   "execution_count": null,
   "id": "5078d92f-e3b0-4c47-95b3-e5dfbec0e543",
   "metadata": {
    "tags": []
   },
   "outputs": [],
   "source": [
    "assert len(domain_1_client.domains) == 1"
   ]
  },
  {
   "cell_type": "code",
   "execution_count": null,
   "id": "72557d95-d1ca-4542-adbb-efcd97672124",
   "metadata": {
    "tags": []
   },
   "outputs": [],
   "source": [
    "domain_2_client.domains"
   ]
  },
  {
   "cell_type": "code",
   "execution_count": null,
   "id": "bf35ed5f-e039-495d-804c-413e2d2c959d",
   "metadata": {
    "tags": []
   },
   "outputs": [],
   "source": [
    "assert len(domain_2_client.domains) == 1"
   ]
  },
  {
   "cell_type": "code",
   "execution_count": null,
   "id": "06ec20dc-11f5-4df2-8727-a4c06b2e14c5",
   "metadata": {
    "tags": []
   },
   "outputs": [],
   "source": [
    "from syft.service.project.project import NewProjectSubmit\n",
    "from syft.service.project.project import NewProject\n",
    "from syft.service.project.project import DemocraticConsensusModel\n",
    "from syft.service.metadata.node_metadata import NodeMetadata"
   ]
  },
  {
   "cell_type": "code",
   "execution_count": null,
   "id": "10be52fa-8ab5-469b-adbf-5debb25d8111",
   "metadata": {
    "tags": []
   },
   "outputs": [],
   "source": [
    "project = NewProjectSubmit(\n",
    "    name=\"test project\",\n",
    "    description=\"my test project\",\n",
    "    shareholders=[domain_1_client, domain_2_client],\n",
    "    consensus_model=DemocraticConsensusModel(),\n",
    ")\n",
    "project"
   ]
  },
  {
   "cell_type": "code",
   "execution_count": null,
   "id": "ef17ae70-13bc-4191-bb87-595f149495f9",
   "metadata": {
    "tags": []
   },
   "outputs": [],
   "source": [
    "results = project.start()\n",
    "results"
   ]
  },
  {
   "cell_type": "code",
   "execution_count": null,
   "id": "3f1aa2c5-b0ef-4ecb-9dc9-0206c1a2d601",
   "metadata": {
    "tags": []
   },
   "outputs": [],
   "source": [
    "results[0].start_hash"
   ]
  },
  {
   "cell_type": "code",
   "execution_count": null,
   "id": "a1a19b47-7f82-405a-8dd8-a6909e908540",
   "metadata": {
    "tags": []
   },
   "outputs": [],
   "source": [
    "assert results[0].start_hash == results[1].start_hash"
   ]
  },
  {
   "cell_type": "code",
   "execution_count": null,
   "id": "fbea2a9a-efb1-4dea-a86d-8f4beb030664",
   "metadata": {
    "tags": []
   },
   "outputs": [],
   "source": [
    "project = results[0]"
   ]
  },
  {
   "cell_type": "code",
   "execution_count": null,
   "id": "5a1d44e7-2ad9-4c8b-b8f3-1c21e16e0b28",
   "metadata": {
    "tags": []
   },
   "outputs": [],
   "source": [
    "project.shareholders"
   ]
  },
  {
   "cell_type": "code",
   "execution_count": null,
   "id": "a5ed3c07-de40-475b-bdc3-d08eef577a41",
   "metadata": {
    "tags": []
   },
   "outputs": [],
   "source": [
    "assert isinstance(project, NewProject)"
   ]
  },
  {
   "cell_type": "code",
   "execution_count": null,
   "id": "df6dc761-fac5-426a-a14c-44d78fb8ce61",
   "metadata": {
    "tags": []
   },
   "outputs": [],
   "source": [
    "assert len(domain_1_client.api.services.newproject.get_all()) == 1"
   ]
  },
  {
   "cell_type": "markdown",
   "id": "f033eaf2-9ddd-41eb-ab08-17670525d7f7",
   "metadata": {},
   "source": [
    "## Project Messaging"
   ]
  },
  {
   "cell_type": "code",
   "execution_count": null,
   "id": "49455ea2-104b-4ec9-ba39-4ec7df7f6776",
   "metadata": {
    "tags": []
   },
   "outputs": [],
   "source": [
    "project = domain_1_client.api.services.newproject.get_all()[0]"
   ]
  },
  {
   "cell_type": "code",
   "execution_count": null,
   "id": "db23918f-3605-44cd-94e0-10742134b944",
   "metadata": {
    "tags": []
   },
   "outputs": [],
   "source": [
    "from syft.service.project.project import ProjectMessage"
   ]
  },
  {
   "cell_type": "code",
   "execution_count": null,
   "id": "9af41960-1769-47f6-89f9-a6390e416bab",
   "metadata": {
    "tags": []
   },
   "outputs": [],
   "source": [
    "project.events"
   ]
  },
  {
   "cell_type": "code",
   "execution_count": null,
   "id": "721495a5-6375-4a10-a63f-fbfdaf186e4e",
   "metadata": {
    "tags": []
   },
   "outputs": [],
   "source": [
    "message = \"My cool message\"\n",
    "\n",
    "message_event = ProjectMessage(\n",
    "    message=message\n",
    ")"
   ]
  },
  {
   "cell_type": "code",
   "execution_count": null,
   "id": "8a72421c-204e-45ad-b891-d6290b541dff",
   "metadata": {
    "tags": []
   },
   "outputs": [],
   "source": [
    "result = message_event.publish(project, domain_1_client.credentials)\n",
    "result"
   ]
  },
  {
   "cell_type": "code",
   "execution_count": null,
   "id": "548842c6-0c1e-4a01-8144-2b6b4b2a9e7d",
   "metadata": {
    "tags": []
   },
   "outputs": [],
   "source": [
    "# duplicates are not an error when using .publish\n",
    "result = message_event.publish(project, domain_1_client.credentials)\n",
    "assert isinstance(result, sy.SyftSuccess)\n",
    "result"
   ]
  },
  {
   "cell_type": "code",
   "execution_count": null,
   "id": "16204ec4-df9c-4934-88b7-d5d6b39da9d9",
   "metadata": {
    "tags": []
   },
   "outputs": [],
   "source": [
    "# or another way to do it\n",
    "try:\n",
    "    result = project.add_event(message_event, domain_1_client)\n",
    "except Exception as e:\n",
    "    print(e)"
   ]
  },
  {
   "cell_type": "code",
   "execution_count": null,
   "id": "70d1ec9d-78cc-48c8-a375-dc598a2ebb9d",
   "metadata": {
    "tags": []
   },
   "outputs": [],
   "source": [
    "assert len(project.events) == 1"
   ]
  },
  {
   "cell_type": "code",
   "execution_count": null,
   "id": "e447147e-1619-477d-ad18-5b0395cff2ed",
   "metadata": {
    "tags": []
   },
   "outputs": [],
   "source": [
    "project.events[0]"
   ]
  },
  {
   "cell_type": "code",
   "execution_count": null,
   "id": "e086a861-68ec-4380-88c9-aa52811ca0d0",
   "metadata": {
    "tags": []
   },
   "outputs": [],
   "source": [
    "assert project.events[0].project_id == project.id\n",
    "assert project.events[0].prev_event_uid == project.id\n",
    "assert project.events[0].prev_signed_event_hash == project.start_hash"
   ]
  },
  {
   "cell_type": "code",
   "execution_count": null,
   "id": "065aee45-4624-4a6c-a1d3-a741132208a8",
   "metadata": {
    "tags": []
   },
   "outputs": [],
   "source": [
    "message_event.id"
   ]
  },
  {
   "cell_type": "code",
   "execution_count": null,
   "id": "e67b3fd0-a816-4506-99ed-b36f0eec1c46",
   "metadata": {
    "tags": []
   },
   "outputs": [],
   "source": [
    "reply_event = message_event.reply(message=\"Lol, cool reply bro\")"
   ]
  },
  {
   "cell_type": "code",
   "execution_count": null,
   "id": "c31bc7b4-3544-420d-a7e7-6d2a74ca1105",
   "metadata": {
    "tags": []
   },
   "outputs": [],
   "source": [
    "reply_event.id"
   ]
  },
  {
   "cell_type": "code",
   "execution_count": null,
   "id": "fc4465bc-b15d-4edd-a294-b3ccd1f98cba",
   "metadata": {
    "tags": []
   },
   "outputs": [],
   "source": [
    "reply_event.publish(project, domain_1_client)"
   ]
  },
  {
   "cell_type": "code",
   "execution_count": null,
   "id": "b1f1a1d4-d966-415c-9694-104e939060c3",
   "metadata": {
    "tags": []
   },
   "outputs": [],
   "source": [
    "project.events"
   ]
  },
  {
   "cell_type": "code",
   "execution_count": null,
   "id": "8236684a-b7e9-4f56-8df8-f0336574188e",
   "metadata": {
    "tags": []
   },
   "outputs": [],
   "source": [
    "top_events = project.get_events()"
   ]
  },
  {
   "cell_type": "code",
   "execution_count": null,
   "id": "d3294e59-5f33-4fbf-9341-9da3bca68909",
   "metadata": {
    "tags": []
   },
   "outputs": [],
   "source": [
    "message = top_events[0]\n",
    "message"
   ]
  },
  {
   "cell_type": "code",
   "execution_count": null,
   "id": "25074d88-562f-4579-90ba-dfab2b8202ec",
   "metadata": {
    "tags": []
   },
   "outputs": [],
   "source": [
    "project.get_children(message)"
   ]
  },
  {
   "cell_type": "code",
   "execution_count": null,
   "id": "8f99d441-e595-4641-b8db-3efa2e002571",
   "metadata": {
    "tags": []
   },
   "outputs": [],
   "source": [
    "sub_events = project.get_events(parent_uids=message.id)\n",
    "sub_events"
   ]
  },
  {
   "cell_type": "code",
   "execution_count": null,
   "id": "6d61a136-f7f0-48fe-a4d8-a44a45b98f33",
   "metadata": {
    "tags": []
   },
   "outputs": [],
   "source": [
    "print(project.print_messages())"
   ]
  },
  {
   "cell_type": "code",
   "execution_count": null,
   "id": "a0303744-ba4b-4f5c-a39d-ca0886df760c",
   "metadata": {
    "tags": []
   },
   "outputs": [],
   "source": [
    "domain_1_client.api.services.newproject.get_all()[0]"
   ]
  },
  {
   "cell_type": "code",
   "execution_count": null,
   "id": "cdb943cd-4b43-4055-8abd-509879d2ae83",
   "metadata": {
    "tags": []
   },
   "outputs": [],
   "source": [
    "domain_2_client.api.services.newproject.get_all()[0]"
   ]
  },
  {
   "cell_type": "code",
   "execution_count": null,
   "id": "845c4a60-fb27-45a0-9848-0f2e4775df38",
   "metadata": {
    "tags": []
   },
   "outputs": [],
   "source": [
    "assert project.validate_events(debug=True)"
   ]
  },
  {
   "cell_type": "markdown",
   "id": "5b92bfca-0e92-4a1e-a440-a7aafefcf89a",
   "metadata": {},
   "source": [
    "## Project Poll"
   ]
  },
  {
   "cell_type": "code",
   "execution_count": null,
   "id": "3ac313b0-1982-4524-bddf-d3b2428fff89",
   "metadata": {
    "tags": []
   },
   "outputs": [],
   "source": [
    "from syft.service.project.project import ProjectPoll"
   ]
  },
  {
   "cell_type": "code",
   "execution_count": null,
   "id": "4e666259-8b3c-4a5e-94e0-b9b5bc0da467",
   "metadata": {
    "tags": []
   },
   "outputs": [],
   "source": [
    "poll = ProjectPoll(question=\"Do you love pizza 🍕?\")\n",
    "poll"
   ]
  },
  {
   "cell_type": "code",
   "execution_count": null,
   "id": "4741bdca-3f6f-4102-a86b-fa2ba8d1b6bb",
   "metadata": {
    "tags": []
   },
   "outputs": [],
   "source": [
    "poll.publish(project, domain_1_client)"
   ]
  },
  {
   "cell_type": "code",
   "execution_count": null,
   "id": "ec24dcad-ef3c-4091-8313-c80e40ad9b8d",
   "metadata": {
    "tags": []
   },
   "outputs": [],
   "source": [
    "polls = project.get_events(types=ProjectPoll)\n",
    "polls"
   ]
  },
  {
   "cell_type": "code",
   "execution_count": null,
   "id": "153bf979-6187-47f8-acd0-10ed6c06779e",
   "metadata": {
    "tags": []
   },
   "outputs": [],
   "source": [
    "poll = polls[0]"
   ]
  },
  {
   "cell_type": "code",
   "execution_count": null,
   "id": "b6d097b9-e913-4985-8f1a-1f42f6f76cc1",
   "metadata": {
    "tags": []
   },
   "outputs": [],
   "source": [
    "answer = poll.answer(answer=True)\n",
    "answer.publish(project, domain_1_client)"
   ]
  },
  {
   "cell_type": "code",
   "execution_count": null,
   "id": "a5a74d41-6332-40fd-b4f2-d68c21ed2767",
   "metadata": {
    "tags": []
   },
   "outputs": [],
   "source": [
    "polls = project.get_events(types=ProjectPoll)\n",
    "polls"
   ]
  },
  {
   "cell_type": "code",
   "execution_count": null,
   "id": "9fa25f14-942b-4646-8f7a-aef2fdf3cfd5",
   "metadata": {
    "tags": []
   },
   "outputs": [],
   "source": [
    "poll = polls[0]"
   ]
  },
  {
   "cell_type": "code",
   "execution_count": null,
   "id": "744e8149-8c8c-4d13-9670-4aa6abf781eb",
   "metadata": {
    "tags": []
   },
   "outputs": [],
   "source": [
    "poll.status()"
   ]
  },
  {
   "cell_type": "code",
   "execution_count": null,
   "id": "6cf1f1fb-113d-43a6-99aa-76a4c481c12a",
   "metadata": {
    "tags": []
   },
   "outputs": [],
   "source": [
    "assert project.validate_events(debug=True)"
   ]
  },
  {
   "cell_type": "markdown",
   "id": "568179b2-de7c-41ff-9357-cf67017c0d23",
   "metadata": {},
   "source": [
    "## Dataset Upload"
   ]
  },
  {
   "cell_type": "code",
   "execution_count": null,
   "id": "a64483c0-7325-4d89-98de-ed04f2239e17",
   "metadata": {
    "tags": []
   },
   "outputs": [],
   "source": [
    "# import numpy as np\n",
    "# dataset = sy.Dataset(name=\"Domains's... Private Data\")\n",
    "# asset = sy.Asset(name=\"Secret data\")\n",
    "\n",
    "# # Real Data\n",
    "# x = np.array([1, 2, 3])\n",
    "# asset.set_obj(x)\n",
    "\n",
    "# # Mock Data\n",
    "# y = np.array([1, 1, 1])\n",
    "# asset.set_mock(y, mock_is_real=False)\n",
    "# dataset.add_asset(asset)"
   ]
  },
  {
   "cell_type": "code",
   "execution_count": null,
   "id": "1b9adc35-431e-4556-b68c-caf5523f8439",
   "metadata": {
    "tags": []
   },
   "outputs": [],
   "source": [
    "# domain_1_client.upload_dataset(dataset)"
   ]
  },
  {
   "cell_type": "code",
   "execution_count": null,
   "id": "9a521da4-d9f7-4e41-9855-c5aa3e4354e4",
   "metadata": {
    "tags": []
   },
   "outputs": [],
   "source": [
    "# domain_1_client.datasets"
   ]
  },
  {
   "cell_type": "code",
   "execution_count": null,
   "id": "60a27736-a707-4c56-bde6-5963972e2d77",
   "metadata": {
    "tags": []
   },
   "outputs": [],
   "source": [
    "# domain_1_dataset = domain_1_client.datasets[-1]\n",
    "# @sy.syft_function(\n",
    "#     input_policy=sy.ExactMatch(\n",
    "#         input_data=domain_1_dataset.assets[0]\n",
    "#     ),\n",
    "#     output_policy=sy.SingleExecutionExactOutput(),\n",
    "# )\n",
    "# def simple_function(input_data):\n",
    "\n",
    "#     return input_data+input_data"
   ]
  },
  {
   "cell_type": "code",
   "execution_count": null,
   "id": "a032a2d8-776f-475b-b912-23ec0e3bbcdf",
   "metadata": {
    "tags": []
   },
   "outputs": [],
   "source": [
    "# simple_function"
   ]
  },
  {
   "cell_type": "code",
   "execution_count": null,
   "id": "c3742c2b-661d-4a72-9785-e7aba6f4012d",
   "metadata": {
    "tags": []
   },
   "outputs": [],
   "source": [
    "# req = domain_1_client.api.services.code.request_code_execution(simple_function)"
   ]
  },
  {
   "cell_type": "code",
   "execution_count": null,
   "id": "3971621c-08dd-4bb7-a76a-6f3d8f82fb53",
   "metadata": {
    "tags": []
   },
   "outputs": [],
   "source": [
    "# updated_proj = project.add_event(message_event)"
   ]
  },
  {
   "cell_type": "code",
   "execution_count": null,
   "id": "2814e794-eb6e-487b-947c-0d4ab2cac777",
   "metadata": {
    "tags": []
   },
   "outputs": [],
   "source": [
    "# updated_proj"
   ]
  },
  {
   "cell_type": "code",
   "execution_count": null,
   "id": "563a38af-de49-483f-99d1-0c980b5ede91",
   "metadata": {
    "tags": []
   },
   "outputs": [],
   "source": [
    "# domain_1_client.api.services.newproject.get_all()[0]"
   ]
  },
  {
   "cell_type": "code",
   "execution_count": null,
   "id": "6bf87625-a99d-482d-8297-490a9b5a0d61",
   "metadata": {
    "tags": []
   },
   "outputs": [],
   "source": [
    "# domain_2_client.api.services.newproject.get_all()[0]"
   ]
  },
  {
   "cell_type": "code",
   "execution_count": null,
   "id": "08e0f7dc-45d9-46ed-b235-cbdbba1e9360",
   "metadata": {},
   "outputs": [],
   "source": []
  },
  {
   "cell_type": "code",
   "execution_count": null,
   "id": "21187ed1-7153-4a7e-b51a-4521223fe58e",
   "metadata": {
    "tags": []
   },
   "outputs": [],
   "source": [
    "for node in [domain_1, domain_2]:\n",
    "    if node.node_type.value == \"python\":\n",
    "        node.land()"
   ]
  }
 ],
 "metadata": {
  "kernelspec": {
   "display_name": "Python 3 (ipykernel)",
   "language": "python",
   "name": "python3"
  },
  "language_info": {
   "codemirror_mode": {
    "name": "ipython",
    "version": 3
   },
   "file_extension": ".py",
   "mimetype": "text/x-python",
   "name": "python",
   "nbconvert_exporter": "python",
   "pygments_lexer": "ipython3",
   "version": "3.10.9"
  }
 },
 "nbformat": 4,
 "nbformat_minor": 5
}

{
 "cells": [
  {
   "cell_type": "markdown",
   "id": "9ebc795e",
   "metadata": {},
   "source": [
    "# Intergrating action graph into the overall `Syft` workflow"
   ]
  },
  {
   "cell_type": "code",
   "execution_count": null,
   "id": "fcfbe709",
   "metadata": {},
   "outputs": [],
   "source": [
    "import syft as sy\n",
    "from syft.service.action.action_graph_service import ActionGraphService\n",
    "from syft.service.action.action_graph import InMemoryActionGraphStore\n",
    "from syft.service.action.action_graph import InMemoryGraphConfig, InMemoryStoreClientConfig\n",
    "from syft.service.context import AuthedServiceContext\n",
    "from syft.node.credentials import SyftSigningKey\n",
    "from syft.service.action.action_graph import Action\n",
    "from syft.service.action.numpy import NumpyArrayObject, ActionObject\n",
    "from syft.service.response import SyftError\n",
    "from syft.types.syft_object import SyftObjectRegistry\n",
    "\n",
    "import numpy as np\n",
    "import matplotlib.pyplot as plt\n",
    "import networkx as nx\n",
    "import pandas as pd\n",
    "from pprint import pprint\n",
    "\n",
    "print(sy.__version__)"
   ]
  },
  {
   "cell_type": "markdown",
   "id": "dd1a4a94",
   "metadata": {},
   "source": [
    "## Non-mutation operations"
   ]
  },
  {
   "cell_type": "markdown",
   "id": "93e33b08",
   "metadata": {},
   "source": [
    "Scenario for performing some computation\n",
    "\n",
    "\n",
    "```python\n",
    "import syft as sy\n",
    "\n",
    "domain_client = sy.login(\"....\")\n",
    "\n",
    "a = domain_client.api.lib.numpy.array([1,2,3])\n",
    "\n",
    "b = domain_client.api.lib.numpy.array([2,3,4])\n",
    "\n",
    "c = a + b\n",
    "\n",
    "d = domain_client.api.lib.numpy.array([1, 2, 3])\n",
    "\n",
    "e = c * d\n",
    "```"
   ]
  },
  {
   "cell_type": "code",
   "execution_count": null,
   "id": "844d0f90",
   "metadata": {},
   "outputs": [],
   "source": [
    "node = sy.orchestra.launch(name=\"test-domain-1\", dev_mode=True, reset=True)\n",
    "domain_client = node.login(email=\"info@openmined.org\", password=\"changethis\")"
   ]
  },
  {
   "cell_type": "code",
   "execution_count": null,
   "id": "14d83c0b",
   "metadata": {},
   "outputs": [],
   "source": [
    "type(domain_client)"
   ]
  },
  {
   "cell_type": "code",
   "execution_count": null,
   "id": "bfeb6e15",
   "metadata": {},
   "outputs": [],
   "source": [
    "a = domain_client.api.lib.numpy.array([1,2,3])\n",
    "b = domain_client.api.lib.numpy.array([2,3,4])"
   ]
  },
  {
   "cell_type": "code",
   "execution_count": null,
   "id": "2691c728",
   "metadata": {},
   "outputs": [],
   "source": [
    "nodes = node.python_node.action_graph_store.nodes(domain_client.credentials).ok()"
   ]
  },
  {
   "cell_type": "code",
   "execution_count": null,
   "id": "6750da24",
   "metadata": {},
   "outputs": [],
   "source": [
    "edges = node.python_node.action_graph_store.edges(domain_client.credentials).ok()"
   ]
  },
  {
   "cell_type": "code",
   "execution_count": null,
   "id": "9f597061",
   "metadata": {},
   "outputs": [],
   "source": [
    "assert sy.deserialize(sy.serialize(nodes, to_bytes=True), from_bytes=True) == nodes"
   ]
  },
  {
   "cell_type": "code",
   "execution_count": null,
   "id": "1eaf3f41",
   "metadata": {},
   "outputs": [],
   "source": [
    "assert sy.deserialize(sy.serialize(edges, to_bytes=True), from_bytes=True) == edges"
   ]
  },
  {
   "cell_type": "code",
   "execution_count": null,
   "id": "ecfde5ff",
   "metadata": {},
   "outputs": [],
   "source": [
    "domain_client.api.services.graph.edges()"
   ]
  },
  {
   "cell_type": "code",
   "execution_count": null,
   "id": "819bdc22",
   "metadata": {},
   "outputs": [],
   "source": [
    "domain_client.api.services.graph.visualize()"
   ]
  },
  {
   "cell_type": "code",
   "execution_count": null,
   "id": "bab1e628",
   "metadata": {},
   "outputs": [],
   "source": [
    "domain_client.api.services.graph.nodes()"
   ]
  },
  {
   "cell_type": "code",
   "execution_count": null,
   "id": "f80e2bd3",
   "metadata": {},
   "outputs": [],
   "source": [
    "c = a + b"
   ]
  },
  {
   "cell_type": "code",
   "execution_count": null,
   "id": "24ac9130",
   "metadata": {},
   "outputs": [],
   "source": [
    "domain_client.api.services.graph.visualize()"
   ]
  },
  {
   "cell_type": "code",
   "execution_count": null,
   "id": "9d10957c",
   "metadata": {},
   "outputs": [],
   "source": [
    "domain_client.api.services.graph.nodes()"
   ]
  },
  {
   "cell_type": "code",
   "execution_count": null,
   "id": "2823ecc8",
   "metadata": {},
   "outputs": [],
   "source": [
    "d = domain_client.api.lib.numpy.array([3,4,5])"
   ]
  },
  {
   "cell_type": "code",
   "execution_count": null,
   "id": "790358f8",
   "metadata": {},
   "outputs": [],
   "source": [
    "domain_client.api.services.graph.visualize()"
   ]
  },
  {
   "cell_type": "code",
   "execution_count": null,
   "id": "90f16ff5",
   "metadata": {},
   "outputs": [],
   "source": [
    "e = c * d"
   ]
  },
  {
   "cell_type": "code",
   "execution_count": null,
   "id": "fa2cef2d",
   "metadata": {},
   "outputs": [],
   "source": [
    "domain_client.api.services.graph.visualize()"
   ]
  },
  {
   "cell_type": "code",
   "execution_count": null,
   "id": "189d4d73",
   "metadata": {},
   "outputs": [],
   "source": [
    "e.id.id, c.id.id, d.id.id"
   ]
  },
  {
   "cell_type": "markdown",
   "id": "96b3873a",
   "metadata": {},
   "source": [
    "## Mutation happens here (things are not correct for now)"
   ]
  },
  {
   "cell_type": "code",
   "execution_count": null,
   "id": "a5684304",
   "metadata": {},
   "outputs": [],
   "source": [
    "d[2] = 5"
   ]
  },
  {
   "cell_type": "code",
   "execution_count": null,
   "id": "3039d31d",
   "metadata": {},
   "outputs": [],
   "source": [
    "domain_client.api.services.graph.visualize()"
   ]
  },
  {
   "cell_type": "code",
   "execution_count": null,
   "id": "64764af2",
   "metadata": {},
   "outputs": [],
   "source": [
    "d.id"
   ]
  },
  {
   "cell_type": "code",
   "execution_count": null,
   "id": "e03666f8",
   "metadata": {},
   "outputs": [],
   "source": [
    "domain_client.api.services.graph.nodes()"
   ]
  },
  {
   "cell_type": "code",
   "execution_count": null,
   "id": "c4ffa87f",
   "metadata": {},
   "outputs": [],
   "source": [
    "node.python_node.action_store.data"
   ]
  },
  {
   "cell_type": "code",
   "execution_count": null,
   "id": "4e8e3110",
   "metadata": {},
   "outputs": [],
   "source": [
    "f = d + 48"
   ]
  },
  {
   "cell_type": "code",
   "execution_count": null,
   "id": "2a29e454",
   "metadata": {},
   "outputs": [],
   "source": [
    "domain_client.api.services.graph.visualize()"
   ]
  },
  {
   "cell_type": "code",
   "execution_count": null,
   "id": "2b6ad838",
   "metadata": {},
   "outputs": [],
   "source": [
    "f.id"
   ]
  },
  {
   "cell_type": "code",
   "execution_count": null,
   "id": "b0b13f4a",
   "metadata": {},
   "outputs": [],
   "source": [
    "domain_client.api.services.graph.nodes()"
   ]
  },
  {
   "cell_type": "code",
   "execution_count": null,
   "id": "9e753222",
   "metadata": {},
   "outputs": [],
   "source": [
    "node.python_node.action_store.data"
   ]
  },
  {
   "cell_type": "code",
   "execution_count": null,
   "id": "07ef1415",
   "metadata": {},
   "outputs": [],
   "source": []
  }
 ],
 "metadata": {
  "kernelspec": {
   "display_name": "Python 3 (ipykernel)",
   "language": "python",
   "name": "python3"
  },
  "language_info": {
   "codemirror_mode": {
    "name": "ipython",
    "version": 3
   },
   "file_extension": ".py",
   "mimetype": "text/x-python",
   "name": "python",
   "nbconvert_exporter": "python",
   "pygments_lexer": "ipython3",
   "version": "3.10.8"
  }
 },
 "nbformat": 4,
 "nbformat_minor": 5
}

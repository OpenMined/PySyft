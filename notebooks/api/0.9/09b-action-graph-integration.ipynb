{
 "cells": [
  {
   "cell_type": "code",
   "execution_count": null,
   "id": "d7c335d3",
   "metadata": {},
   "outputs": [],
   "source": [
    "import syft as sy\n",
    "from syft.service.action.action_graph_service import ActionGraphService\n",
    "from syft.service.action.action_graph import InMemoryActionGraphStore\n",
    "from syft.service.action.action_graph import InMemoryGraphConfig, InMemoryStoreClientConfig\n",
    "from syft.service.context import AuthedServiceContext\n",
    "from syft.node.credentials import SyftSigningKey\n",
    "from syft.service.action.action_graph import Action\n",
    "from syft.service.action.numpy import NumpyArrayObject, ActionObject\n",
    "from syft.service.response import SyftError\n",
    "from syft.types.syft_object import SyftObjectRegistry\n",
    "\n",
    "import numpy as np\n",
    "import matplotlib.pyplot as plt\n",
    "import networkx as nx\n",
    "import pandas as pd\n",
    "from pprint import pprint\n",
    "\n",
    "print(sy.__version__)"
   ]
  },
  {
   "cell_type": "code",
   "execution_count": null,
   "id": "8272b5d2",
   "metadata": {},
   "outputs": [],
   "source": [
    "node = sy.orchestra.launch(name=\"test-domain-1\", dev_mode=True, reset=True)\n",
    "domain_client = node.login(email=\"info@openmined.org\", password=\"changethis\")"
   ]
  },
  {
   "cell_type": "code",
   "execution_count": null,
   "id": "3f651ed9",
   "metadata": {},
   "outputs": [],
   "source": [
    "a = domain_client.api.lib.numpy.array([1,2,3])\n",
    "b = domain_client.api.lib.numpy.array([2,3,4])"
   ]
  },
  {
   "cell_type": "code",
   "execution_count": null,
   "id": "c1d0dbb5",
   "metadata": {},
   "outputs": [],
   "source": [
    "nodes = node.python_node.action_graph_store.nodes(domain_client.credentials).ok()"
   ]
  },
  {
   "cell_type": "code",
   "execution_count": null,
   "id": "2b46df2a",
   "metadata": {},
   "outputs": [],
   "source": [
    "edges = node.python_node.action_graph_store.edges(domain_client.credentials).ok()"
   ]
  },
  {
   "cell_type": "code",
   "execution_count": null,
   "id": "29987d6b",
   "metadata": {},
   "outputs": [],
   "source": [
    "assert sy.deserialize(sy.serialize(nodes, to_bytes=True), from_bytes=True) == nodes"
   ]
  },
  {
   "cell_type": "code",
   "execution_count": null,
   "id": "44b03508",
   "metadata": {},
   "outputs": [],
   "source": [
    "assert sy.deserialize(sy.serialize(edges, to_bytes=True), from_bytes=True) == edges"
   ]
  },
  {
   "cell_type": "code",
   "execution_count": null,
   "id": "56cb6bae",
   "metadata": {},
   "outputs": [],
   "source": [
    "domain_client.api.services.graph.visualize()"
   ]
  },
  {
   "cell_type": "code",
   "execution_count": null,
   "id": "85cd91f0",
   "metadata": {},
   "outputs": [],
   "source": [
    "domain_client.api.services.graph.nodes()"
   ]
  },
  {
   "cell_type": "code",
   "execution_count": null,
   "id": "5504bc5e",
   "metadata": {},
   "outputs": [],
   "source": [
    "c = a + b"
   ]
  },
  {
   "cell_type": "code",
   "execution_count": null,
   "id": "88cd507d",
   "metadata": {},
   "outputs": [],
   "source": [
    "domain_client.api.services.graph.visualize()"
   ]
  },
  {
   "cell_type": "code",
   "execution_count": null,
   "id": "8b1fd363",
   "metadata": {},
   "outputs": [],
   "source": [
    "domain_client.api.services.graph.nodes()"
   ]
  },
  {
   "cell_type": "code",
   "execution_count": null,
   "id": "63810f7c",
   "metadata": {},
   "outputs": [],
   "source": [
    "d = domain_client.api.lib.numpy.array([3,4,5])"
   ]
  },
  {
   "cell_type": "code",
   "execution_count": null,
   "id": "ee23adee",
   "metadata": {},
   "outputs": [],
   "source": [
    "domain_client.api.services.graph.visualize()"
   ]
  },
  {
   "cell_type": "code",
   "execution_count": null,
   "id": "b476ce7c",
   "metadata": {},
   "outputs": [],
   "source": [
    "e = c * d"
   ]
  },
  {
   "cell_type": "code",
   "execution_count": null,
   "id": "ce9e08b8",
   "metadata": {},
   "outputs": [],
   "source": [
    "domain_client.api.services.graph.visualize()"
   ]
  },
  {
   "cell_type": "code",
   "execution_count": null,
   "id": "23ad7119",
   "metadata": {},
   "outputs": [],
   "source": [
    "e.id.id, c.id.id, d.id.id"
   ]
  },
  {
   "cell_type": "markdown",
   "id": "01680f05",
   "metadata": {},
   "source": [
    "Mutation happens here\n",
    "\n"
   ]
  },
  {
   "cell_type": "code",
   "execution_count": null,
   "id": "f469512c",
   "metadata": {},
   "outputs": [],
   "source": [
    "d[2] = 5"
   ]
  },
  {
   "cell_type": "code",
   "execution_count": null,
   "id": "767ab320",
   "metadata": {},
   "outputs": [],
   "source": [
    "domain_client.api.services.graph.visualize()"
   ]
  },
  {
   "cell_type": "code",
   "execution_count": null,
   "id": "6fbd1920",
   "metadata": {},
   "outputs": [],
   "source": [
    "d.id"
   ]
  },
  {
   "cell_type": "code",
   "execution_count": null,
   "id": "c374d910",
   "metadata": {},
   "outputs": [],
   "source": [
    "domain_client.api.services.graph.nodes()"
   ]
  },
  {
   "cell_type": "code",
   "execution_count": null,
   "id": "5bbf77bf",
   "metadata": {},
   "outputs": [],
   "source": [
    "node.python_node.action_store.data"
   ]
  },
  {
   "cell_type": "code",
   "execution_count": null,
   "id": "85905ad7",
   "metadata": {},
   "outputs": [],
   "source": [
    "f = d + 48"
   ]
  },
  {
   "cell_type": "code",
   "execution_count": null,
   "id": "15981a05",
   "metadata": {},
   "outputs": [],
   "source": [
    "domain_client.api.services.graph.visualize()"
   ]
  },
  {
   "cell_type": "code",
   "execution_count": null,
   "id": "0b841c42",
   "metadata": {},
   "outputs": [],
   "source": [
    "f.id"
   ]
  },
  {
   "cell_type": "code",
   "execution_count": null,
   "id": "9536b8d7",
   "metadata": {},
   "outputs": [],
   "source": [
    "domain_client.api.services.graph.nodes()"
   ]
  },
  {
   "cell_type": "code",
   "execution_count": null,
   "id": "13328c55",
   "metadata": {},
   "outputs": [],
   "source": [
    "node.python_node.action_store.data"
   ]
  },
  {
   "cell_type": "code",
   "execution_count": null,
   "id": "7e23e83e",
   "metadata": {},
   "outputs": [],
   "source": []
  }
 ],
 "metadata": {
  "kernelspec": {
   "display_name": "Python 3 (ipykernel)",
   "language": "python",
   "name": "python3"
  },
  "language_info": {
   "codemirror_mode": {
    "name": "ipython",
    "version": 3
   },
   "file_extension": ".py",
   "mimetype": "text/x-python",
   "name": "python",
   "nbconvert_exporter": "python",
   "pygments_lexer": "ipython3",
   "version": "3.10.8"
  }
 },
 "nbformat": 4,
 "nbformat_minor": 5
}

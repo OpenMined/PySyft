{
 "cells": [
  {
   "cell_type": "code",
   "execution_count": null,
   "metadata": {},
   "outputs": [],
   "source": [
    "SYFT_VERSION = \">=0.8.2.b0,<0.9\"\n",
    "package_string = f'\"syft{SYFT_VERSION}\"'\n",
    "# %pip install {package_string} -f https://whls.blob.core.windows.net/unstable/index.html -q"
   ]
  },
  {
   "cell_type": "code",
   "execution_count": null,
   "metadata": {},
   "outputs": [],
   "source": [
    "import syft as sy\n",
    "sy.requires(SYFT_VERSION)\n",
    "from syft import autocache"
   ]
  },
  {
   "cell_type": "code",
   "execution_count": null,
   "metadata": {},
   "outputs": [],
   "source": [
    "node = sy.orchestra.launch(name=\"test-domain-1\", port=\"auto\", dev_mode=True)"
   ]
  },
  {
   "cell_type": "code",
   "execution_count": null,
   "metadata": {},
   "outputs": [],
   "source": [
    "domain_client = node.login(email=\"info@openmined.org\", password=\"changethis\")"
   ]
  },
  {
   "cell_type": "code",
   "execution_count": null,
   "metadata": {},
   "outputs": [],
   "source": [
    "from syft.client.client import SyftClient\n",
    "from syft.store.blob_storage import BlobDeposit\n",
    "from syft.types.blob_storage import CreateBlobStorageEntry\n",
    "from syft.types.syft_object import SyftObject"
   ]
  },
  {
   "cell_type": "code",
   "execution_count": null,
   "metadata": {},
   "outputs": [],
   "source": [
    "def allocate_object(client: SyftClient, obj: SyftObject) -> BlobDeposit:\n",
    "    create_blob_storage_entry = CreateBlobStorageEntry.from_obj(obj)\n",
    "    return client.api.services.blob_storage.allocate(create_blob_storage_entry)"
   ]
  },
  {
   "cell_type": "code",
   "execution_count": null,
   "metadata": {},
   "outputs": [],
   "source": [
    "user_object = domain_client.users[0]\n",
    "user_object"
   ]
  },
  {
   "cell_type": "code",
   "execution_count": null,
   "metadata": {},
   "outputs": [],
   "source": [
    "# write/deposit object\n",
    "blob_deposit = allocate_object(domain_client, user_object)\n",
    "write_result = blob_deposit.write(sy.serialize(user_object, to_bytes=True))\n",
    "write_result"
   ]
  },
  {
   "cell_type": "code",
   "execution_count": null,
   "metadata": {},
   "outputs": [],
   "source": [
    "# read/retrieve object\n",
    "blob_retrieval = domain_client.api.services.blob_storage.read(blob_deposit.blob_storage_entry.id)\n",
    "user_object_read = blob_retrieval.read()\n",
    "user_object_read"
   ]
  }
 ],
 "metadata": {
  "kernelspec": {
   "display_name": "syft08",
   "language": "python",
   "name": "python3"
  },
  "language_info": {
   "codemirror_mode": {
    "name": "ipython",
    "version": 3
   },
   "file_extension": ".py",
   "mimetype": "text/x-python",
   "name": "python",
   "nbconvert_exporter": "python",
   "pygments_lexer": "ipython3",
   "version": "3.11.3"
  }
 },
 "nbformat": 4,
 "nbformat_minor": 2
}

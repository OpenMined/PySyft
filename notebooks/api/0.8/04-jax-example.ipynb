{
 "cells": [
  {
   "cell_type": "code",
   "execution_count": null,
   "id": "c292b468-55d7-4ab4-b0b3-5856b252e27e",
   "metadata": {
    "tags": []
   },
   "outputs": [],
   "source": [
    "import syft as sy"
   ]
  },
  {
   "cell_type": "code",
   "execution_count": null,
   "id": "85462eb0-dc0c-4f32-9c52-b2ac27a1cf0a",
   "metadata": {
    "tags": []
   },
   "outputs": [],
   "source": [
    "worker = sy.Worker.named(\"test-domain-1\", reset=True)\n",
    "domain_client = worker.root_client"
   ]
  },
  {
   "cell_type": "code",
   "execution_count": null,
   "id": "c4d2328d-6229-4a20-8999-eec9553c2c24",
   "metadata": {
    "tags": []
   },
   "outputs": [],
   "source": [
    "from jax import random\n",
    "from flax import linen as nn\n",
    "key = random.PRNGKey(42)"
   ]
  },
  {
   "cell_type": "code",
   "execution_count": null,
   "id": "cfe5ba6e-21f7-4781-9c67-94b716e8f593",
   "metadata": {
    "tags": []
   },
   "outputs": [],
   "source": [
    "train_data = random.uniform(key, shape=(4, 28, 28, 1))"
   ]
  },
  {
   "cell_type": "code",
   "execution_count": null,
   "id": "de077f0b-4189-44ad-8ce8-055bb0e304b4",
   "metadata": {
    "tags": []
   },
   "outputs": [],
   "source": [
    "print(\"round(train_data.sum())\", round(train_data.sum()))"
   ]
  },
  {
   "cell_type": "code",
   "execution_count": null,
   "id": "4c4def70-6c1a-4eda-80d2-ebf0261ca332",
   "metadata": {
    "tags": []
   },
   "outputs": [],
   "source": [
    "assert round(train_data.sum()) == 1602"
   ]
  },
  {
   "cell_type": "code",
   "execution_count": null,
   "id": "24c082c6-5438-4065-bd4d-481fa2cc2475",
   "metadata": {
    "tags": []
   },
   "outputs": [],
   "source": [
    "train = sy.ActionObject.from_obj(train_data)"
   ]
  },
  {
   "cell_type": "code",
   "execution_count": null,
   "id": "29eb62fb-fc00-4222-9ccc-7657550aac56",
   "metadata": {
    "tags": []
   },
   "outputs": [],
   "source": [
    "type(train.syft_action_data), train.id, train.shape"
   ]
  },
  {
   "cell_type": "code",
   "execution_count": null,
   "id": "38bac5b4-5d46-4f89-93c9-3ee3f5d7456a",
   "metadata": {
    "tags": []
   },
   "outputs": [],
   "source": [
    "_ = domain_client.api.services.action.set(train)"
   ]
  },
  {
   "cell_type": "code",
   "execution_count": null,
   "id": "6722247f-90af-4ff1-8b98-64444b2d4c7c",
   "metadata": {
    "tags": []
   },
   "outputs": [],
   "source": [
    "class MLP(nn.Module):\n",
    "    out_dims: int\n",
    "\n",
    "    @nn.compact\n",
    "    def __call__(self, x):\n",
    "        x = x.reshape((x.shape[0], -1))\n",
    "        x = nn.Dense(128)(x)\n",
    "        x = nn.relu(x)\n",
    "        x = nn.Dense(self.out_dims)(x)\n",
    "        return x\n",
    "\n",
    "model = MLP(out_dims=10)"
   ]
  },
  {
   "cell_type": "code",
   "execution_count": null,
   "id": "dd0077de-1b15-4b7c-93d3-820155e2993a",
   "metadata": {
    "tags": []
   },
   "outputs": [],
   "source": [
    "weights = model.init(key, train.syft_action_data)"
   ]
  },
  {
   "cell_type": "code",
   "execution_count": null,
   "id": "98d1dff5-54a0-407a-a376-fb31dea6ede6",
   "metadata": {
    "tags": []
   },
   "outputs": [],
   "source": [
    "w = sy.ActionObject.from_obj(weights)"
   ]
  },
  {
   "cell_type": "code",
   "execution_count": null,
   "id": "163a27fd-94e2-455d-9e94-9ff7000eace3",
   "metadata": {
    "tags": []
   },
   "outputs": [],
   "source": [
    "type(w.syft_action_data), w.id"
   ]
  },
  {
   "cell_type": "code",
   "execution_count": null,
   "id": "e22cec3a-115a-4e2b-bdc2-bfca34e0ded3",
   "metadata": {
    "tags": []
   },
   "outputs": [],
   "source": [
    "_ = domain_client.api.services.action.set(w)"
   ]
  },
  {
   "cell_type": "code",
   "execution_count": null,
   "id": "2153d838-fb86-4fe4-8747-dcb2a9336d03",
   "metadata": {
    "tags": []
   },
   "outputs": [],
   "source": [
    "@sy.syft_function(input_policy=sy.ExactMatch(weights=w.id, data=train.id),\n",
    "                  output_policy=sy.SingleExecutionExactOutput())\n",
    "def train_mlp(weights, data):\n",
    "    from flax import linen as nn\n",
    "\n",
    "    class MLP(nn.Module):\n",
    "        out_dims: int\n",
    "\n",
    "        @nn.compact\n",
    "        def __call__(self, x):\n",
    "            x = x.reshape((x.shape[0], -1))\n",
    "            x = nn.Dense(128)(x)\n",
    "            x = nn.relu(x)\n",
    "            x = nn.Dense(self.out_dims)(x)\n",
    "            return x\n",
    "\n",
    "    model = MLP(out_dims=10)\n",
    "    output = model.apply(weights, data)\n",
    "    return output"
   ]
  },
  {
   "cell_type": "code",
   "execution_count": null,
   "id": "1772f30b-952f-462c-9c05-638822fad7c5",
   "metadata": {
    "tags": []
   },
   "outputs": [],
   "source": [
    "output = train_mlp(weights=weights, data=train_data)"
   ]
  },
  {
   "cell_type": "code",
   "execution_count": null,
   "id": "bbfe3380-2102-4d1a-b2b5-a52bfc3570b2",
   "metadata": {
    "tags": []
   },
   "outputs": [],
   "source": [
    "print(\"round(output.sum(), 2)\", round(output.sum(), 2))"
   ]
  },
  {
   "cell_type": "code",
   "execution_count": null,
   "id": "45ad42d4-ceae-4aff-9b77-69b0a4df8bf6",
   "metadata": {
    "tags": []
   },
   "outputs": [],
   "source": [
    "assert round(output.sum(), 2) == -3.24"
   ]
  },
  {
   "cell_type": "code",
   "execution_count": null,
   "id": "18eefbd5-07bf-4d06-9b11-a48ed8e02a16",
   "metadata": {
    "tags": []
   },
   "outputs": [],
   "source": [
    "request = domain_client.api.services.code.request_code_execution(train_mlp)\n",
    "request"
   ]
  },
  {
   "cell_type": "code",
   "execution_count": null,
   "id": "40aff3e8-f9d6-4a84-bcd2-67d13000cead",
   "metadata": {
    "tags": []
   },
   "outputs": [],
   "source": [
    "request.approve()"
   ]
  },
  {
   "cell_type": "code",
   "execution_count": null,
   "id": "21f2ba58-4d99-4a40-ac5e-62bc928a9d29",
   "metadata": {
    "tags": []
   },
   "outputs": [],
   "source": [
    "domain_client._api = None\n",
    "_ = domain_client.api"
   ]
  },
  {
   "cell_type": "code",
   "execution_count": null,
   "id": "bf3eecee-cfdb-45ab-b769-cb11cc7ae667",
   "metadata": {
    "tags": []
   },
   "outputs": [],
   "source": [
    "result = domain_client.api.services.code.train_mlp(weights=w.id, data=train.id)"
   ]
  },
  {
   "cell_type": "code",
   "execution_count": null,
   "id": "dd007dcc-6f5d-48b4-b957-23abc03abfe7",
   "metadata": {
    "tags": []
   },
   "outputs": [],
   "source": [
    "result"
   ]
  },
  {
   "cell_type": "code",
   "execution_count": null,
   "id": "e45bd192-4b30-4602-8b66-92df799ad3e7",
   "metadata": {
    "tags": []
   },
   "outputs": [],
   "source": [
    "print(\"round(float(result.sum()), 2)\", round(float(result.sum()), 2))"
   ]
  },
  {
   "cell_type": "code",
   "execution_count": null,
   "id": "b33bf847-69e7-4c4a-87d9-3cd6ee4e0aa6",
   "metadata": {
    "tags": []
   },
   "outputs": [],
   "source": [
    "assert round(float(result.sum()), 2) == -3.24"
   ]
  },
  {
   "cell_type": "code",
   "execution_count": null,
   "id": "0f88fdf9-069c-4282-baee-41f04b8bbe06",
   "metadata": {},
   "outputs": [],
   "source": []
  }
 ],
 "metadata": {
  "kernelspec": {
   "display_name": "Python 3 (ipykernel)",
   "language": "python",
   "name": "python3"
  },
  "language_info": {
   "codemirror_mode": {
    "name": "ipython",
    "version": 3
   },
   "file_extension": ".py",
   "mimetype": "text/x-python",
   "name": "python",
   "nbconvert_exporter": "python",
   "pygments_lexer": "ipython3",
   "version": "3.10.9"
  }
 },
 "nbformat": 4,
 "nbformat_minor": 5
}

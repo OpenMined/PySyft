{
 "cells": [
  {
   "cell_type": "code",
   "execution_count": null,
   "id": "ab8aca22-8bd7-4764-8f2d-27dd5f33d8c6",
   "metadata": {},
   "outputs": [],
   "source": [
    "SYFT_VERSION = \">=0.8.2.b0,<0.9\"\n",
    "package_string = f'\"syft{SYFT_VERSION}\"'"
   ]
  },
  {
   "cell_type": "code",
   "execution_count": null,
   "id": "2cb8c995-c806-4b8e-a892-9bc461c61935",
   "metadata": {},
   "outputs": [],
   "source": [
    "# stdlib\n",
    "import os\n",
    "\n",
    "# third party\n",
    "import numpy as np\n",
    "import requests\n",
    "\n",
    "# syft absolute\n",
    "import syft as sy\n",
    "\n",
    "from getpass import getpass  # noqa\n",
    "\n",
    "\n",
    "sy.requires(SYFT_VERSION)\n",
    "\n",
    "# syft absolute\n",
    "from syft.service.worker.image_registry import SyftImageRegistry\n",
    "from syft.service.worker.worker_image import SyftWorkerImage"
   ]
  },
  {
   "cell_type": "code",
   "execution_count": null,
   "id": "e4079d39-b88f-4709-87da-95f79f1d47ee",
   "metadata": {},
   "outputs": [],
   "source": [
    "os.environ[\"ORCHESTRA_DEPLOYMENT_TYPE\"] = \"k8s\"\n",
    "os.environ[\"DEV_MODE\"] = \"True\"\n",
    "\n",
    "# Uncomment this to add custom values\n",
    "# os.environ[\"NODE_URL\"] = \"http://localhost\"\n",
    "# os.environ[\"NODE_PORT\"] = \"8080\""
   ]
  },
  {
   "cell_type": "code",
   "execution_count": null,
   "id": "0bc7b5dc-1565-4261-ac98-db2602c5877b",
   "metadata": {},
   "outputs": [],
   "source": [
    "domain = sy.orchestra.launch(\n",
    "    name=\"test-domain-1\",\n",
    "    dev_mode=True,\n",
    ")"
   ]
  },
  {
   "cell_type": "code",
   "execution_count": null,
   "id": "91f1988a-daa3-42f0-9bfe-f9fdd9597fdc",
   "metadata": {},
   "outputs": [],
   "source": [
    "domain_client = domain.login(email=\"info@openmined.org\", password=\"changethis\")\n",
    "domain_client"
   ]
  },
  {
   "cell_type": "markdown",
   "id": "fe3d0aa7",
   "metadata": {},
   "source": [
    "### Scaling Default Worker Pool"
   ]
  },
  {
   "cell_type": "markdown",
   "id": "55439eb5-1e92-46a6-a45a-471917a86265",
   "metadata": {},
   "source": [
    "We should see a default worker pool"
   ]
  },
  {
   "cell_type": "code",
   "execution_count": null,
   "id": "c5c841af-c423-4d8f-9d16-c7b982f27128",
   "metadata": {},
   "outputs": [],
   "source": [
    "domain_client.worker_pools"
   ]
  },
  {
   "cell_type": "markdown",
   "id": "0ff8e268",
   "metadata": {},
   "source": [
    "Scale up to 3 workers"
   ]
  },
  {
   "cell_type": "code",
   "execution_count": null,
   "id": "de9872be",
   "metadata": {},
   "outputs": [],
   "source": [
    "result = domain_client.api.services.worker_pool.scale(\n",
    "    number=3, pool_name=\"default-pool\"\n",
    ")\n",
    "assert not isinstance(result, sy.SyftError), str(result)\n",
    "result"
   ]
  },
  {
   "cell_type": "code",
   "execution_count": null,
   "id": "da6a499b",
   "metadata": {},
   "outputs": [],
   "source": [
    "result = domain_client.api.services.worker_pool.get_by_name(pool_name=\"default-pool\")\n",
    "assert len(result.workers) == 3, str(result.to_dict())\n",
    "result"
   ]
  },
  {
   "cell_type": "code",
   "execution_count": null,
   "id": "27761f0c",
   "metadata": {},
   "outputs": [],
   "source": [
    "# stdlib\n",
    "# wait for some time for scale up to be ready\n",
    "from time import sleep\n",
    "\n",
    "sleep(5)"
   ]
  },
  {
   "cell_type": "markdown",
   "id": "c1276b5c",
   "metadata": {},
   "source": [
    "Scale down to 1 worker"
   ]
  },
  {
   "cell_type": "code",
   "execution_count": null,
   "id": "7f0aa94c",
   "metadata": {},
   "outputs": [],
   "source": [
    "default_pool_scale_res = domain_client.api.services.worker_pool.scale(\n",
    "    number=1, pool_name=\"default-pool\"\n",
    ")\n",
    "assert not isinstance(default_pool_scale_res, sy.SyftError), str(default_pool_scale_res)\n",
    "default_pool_scale_res"
   ]
  },
  {
   "cell_type": "code",
   "execution_count": null,
   "id": "52acc6f6",
   "metadata": {},
   "outputs": [],
   "source": [
    "result = domain_client.api.services.worker_pool.get_by_name(pool_name=\"default-pool\")\n",
    "assert len(result.workers) == 1, str(result.to_dict())\n",
    "result"
   ]
  },
  {
   "cell_type": "code",
   "execution_count": null,
   "id": "9a7b40a3",
   "metadata": {},
   "outputs": [],
   "source": [
    "default_worker_pool = domain_client.api.services.worker_pool.get_by_name(\n",
    "    pool_name=\"default-pool\"\n",
    ")\n",
    "default_worker_pool"
   ]
  },
  {
   "cell_type": "markdown",
   "id": "3c7a124a",
   "metadata": {},
   "source": [
    "#### Submit Dockerfile"
   ]
  },
  {
   "cell_type": "code",
   "execution_count": null,
   "id": "8ca6bd49",
   "metadata": {},
   "outputs": [],
   "source": [
    "registry = os.getenv(\"SYFT_BASE_IMAGE_REGISTRY\", \"docker.io\")\n",
    "repo = \"openmined/grid-backend\"\n",
    "\n",
    "if \"k3d\" in registry:\n",
    "    res = requests.get(url=f\"http://{registry}/v2/{repo}/tags/list\")\n",
    "    tag = res.json()[\"tags\"][0]\n",
    "else:\n",
    "    tag = sy.__version__"
   ]
  },
  {
   "cell_type": "code",
   "execution_count": null,
   "id": "75193f9f-3622-4071-9aba-d42a5dc5b301",
   "metadata": {},
   "outputs": [],
   "source": [
    "custom_dockerfile_str = f\"\"\"\n",
    "FROM {registry}/{repo}:{tag}\n",
    "\n",
    "RUN pip install pydicom\n",
    "\n",
    "\"\"\".strip()"
   ]
  },
  {
   "cell_type": "code",
   "execution_count": null,
   "id": "b6bfe92a-e873-4dc3-b3a0-6715f8843785",
   "metadata": {},
   "outputs": [],
   "source": [
    "docker_config = sy.DockerWorkerConfig(dockerfile=custom_dockerfile_str)"
   ]
  },
  {
   "cell_type": "code",
   "execution_count": null,
   "id": "941cf5e2-4ba8-488f-880b-de908d23a4c3",
   "metadata": {},
   "outputs": [],
   "source": [
    "assert docker_config.dockerfile == custom_dockerfile_str"
   ]
  },
  {
   "cell_type": "code",
   "execution_count": null,
   "id": "d4a60bf8-22d3-4052-b9cc-f6dcf68b2dd8",
   "metadata": {},
   "outputs": [],
   "source": [
    "submit_result = domain_client.api.services.worker_image.submit_dockerfile(\n",
    "    docker_config=docker_config\n",
    ")\n",
    "submit_result"
   ]
  },
  {
   "cell_type": "code",
   "execution_count": null,
   "id": "ebb3b7e9-c7a4-4c99-866b-13c6a75d04e8",
   "metadata": {},
   "outputs": [],
   "source": [
    "assert isinstance(submit_result, sy.SyftSuccess), str(submit_result)"
   ]
  },
  {
   "cell_type": "code",
   "execution_count": null,
   "id": "d9cc2eb9-9f28-454f-96bc-fbb722f78bb5",
   "metadata": {},
   "outputs": [],
   "source": [
    "dockerfile_list = domain_client.images.get_all()\n",
    "dockerfile_list"
   ]
  },
  {
   "cell_type": "code",
   "execution_count": null,
   "id": "8e56f9e8-5cf3-418b-9774-75a47c8ef276",
   "metadata": {},
   "outputs": [],
   "source": [
    "assert not isinstance(dockerfile_list, sy.SyftError), str(dockerfile_list)\n",
    "assert len(dockerfile_list) == 2"
   ]
  },
  {
   "cell_type": "code",
   "execution_count": null,
   "id": "133dacbe-4d2e-458e-830b-2c18bce018e4",
   "metadata": {},
   "outputs": [],
   "source": [
    "workerimage = next(\n",
    "    (\n",
    "        image\n",
    "        for image in dockerfile_list\n",
    "        if not image.is_prebuilt and image.config.dockerfile == custom_dockerfile_str\n",
    "    ),\n",
    "    None,\n",
    ")\n",
    "\n",
    "assert isinstance(workerimage, SyftWorkerImage), str(workerimage)\n",
    "workerimage"
   ]
  },
  {
   "cell_type": "markdown",
   "id": "91a66871",
   "metadata": {},
   "source": [
    "#### Add External Registry in Syft"
   ]
  },
  {
   "cell_type": "code",
   "execution_count": null,
   "id": "32a323ca-8293-408a-a878-a954df55d787",
   "metadata": {},
   "outputs": [],
   "source": [
    "external_registry = os.getenv(\"EXTERNAL_REGISTRY\", registry)\n",
    "external_registry_username = os.getenv(\"EXTERNAL_REGISTRY_USERNAME\", None)\n",
    "external_registry_password = os.getenv(\"EXTERNAL_REGISTRY_PASSWORD\", None)\n",
    "\n",
    "# external_registry = input()\n",
    "# external_registry_username = getpass(\"Enter Registry Username\")\n",
    "# external_registry_password = getpass(\"Enter Registry Password\")"
   ]
  },
  {
   "cell_type": "code",
   "execution_count": null,
   "id": "cde8bfff",
   "metadata": {},
   "outputs": [],
   "source": [
    "registry_add_result = domain_client.api.services.image_registry.add(external_registry)\n",
    "registry_add_result"
   ]
  },
  {
   "cell_type": "code",
   "execution_count": null,
   "id": "82321b35",
   "metadata": {},
   "outputs": [],
   "source": [
    "assert isinstance(registry_add_result, sy.SyftSuccess), str(registry_add_result)"
   ]
  },
  {
   "cell_type": "code",
   "execution_count": null,
   "id": "3d4a4c33",
   "metadata": {},
   "outputs": [],
   "source": [
    "image_registry_list = domain_client.api.services.image_registry.get_all()\n",
    "image_registry_list"
   ]
  },
  {
   "cell_type": "code",
   "execution_count": null,
   "id": "3c045549",
   "metadata": {},
   "outputs": [],
   "source": [
    "assert not isinstance(image_registry_list, sy.SyftError), str(image_registry_list)\n",
    "assert len(image_registry_list) == 1"
   ]
  },
  {
   "cell_type": "code",
   "execution_count": null,
   "id": "22f6e2f6",
   "metadata": {},
   "outputs": [],
   "source": [
    "local_registry = image_registry_list[0]\n",
    "local_registry"
   ]
  },
  {
   "cell_type": "code",
   "execution_count": null,
   "id": "cb9664ca",
   "metadata": {},
   "outputs": [],
   "source": [
    "assert isinstance(local_registry, SyftImageRegistry), str(local_registry)"
   ]
  },
  {
   "cell_type": "code",
   "execution_count": null,
   "id": "78f89b88",
   "metadata": {},
   "outputs": [],
   "source": [
    "registry_uid = local_registry.id"
   ]
  },
  {
   "cell_type": "markdown",
   "id": "637a9596",
   "metadata": {},
   "source": [
    "#### Build Image"
   ]
  },
  {
   "cell_type": "code",
   "execution_count": null,
   "id": "aa6573e1-ea18-4049-b6bf-1615521d8ced",
   "metadata": {},
   "outputs": [],
   "source": [
    "docker_tag = \"openmined/custom-worker:0.7.8\"\n",
    "\n",
    "\n",
    "docker_build_result = domain_client.api.services.worker_image.build(\n",
    "    image_uid=workerimage.id,\n",
    "    tag=docker_tag,\n",
    "    registry_uid=registry_uid,\n",
    ")\n",
    "docker_build_result"
   ]
  },
  {
   "cell_type": "code",
   "execution_count": null,
   "id": "21e3679d-ef71-44af-a2ab-91bed47472c1",
   "metadata": {},
   "outputs": [],
   "source": [
    "assert not isinstance(docker_build_result, sy.SyftError), str(docker_build_result)"
   ]
  },
  {
   "cell_type": "code",
   "execution_count": null,
   "id": "c540043d-4485-4213-b93c-358e4c507f5a",
   "metadata": {},
   "outputs": [],
   "source": [
    "image_list = domain_client.images.get_all()\n",
    "image_list"
   ]
  },
  {
   "cell_type": "code",
   "execution_count": null,
   "id": "7af0a33d-e1a9-4f2b-9113-d17a3730397c",
   "metadata": {},
   "outputs": [],
   "source": [
    "# we can also index with string using the repo_with_tag format\n",
    "workerimage = next((image for image in image_list if image.id == workerimage.id), None)\n",
    "workerimage"
   ]
  },
  {
   "cell_type": "code",
   "execution_count": null,
   "id": "c4242f66",
   "metadata": {},
   "outputs": [],
   "source": [
    "assert workerimage is not None, str([image.__dict__ for image in image_list])\n",
    "assert workerimage.is_built is not None, str(workerimage)\n",
    "assert workerimage.built_at is not None, str(workerimage)\n",
    "assert workerimage.image_hash is not None, str(workerimage)\n",
    "assert image_list[workerimage.built_image_tag] == workerimage"
   ]
  },
  {
   "cell_type": "markdown",
   "id": "e726428e",
   "metadata": {},
   "source": [
    "#### Push Image to Local Registry"
   ]
  },
  {
   "cell_type": "code",
   "execution_count": null,
   "id": "8468ce02",
   "metadata": {},
   "outputs": [],
   "source": [
    "push_result = None\n",
    "push_result = domain_client.api.services.worker_image.push(\n",
    "    workerimage.id,\n",
    "    username=external_registry_username,\n",
    "    password=external_registry_password,\n",
    ")\n",
    "push_result"
   ]
  },
  {
   "cell_type": "code",
   "execution_count": null,
   "id": "c5ca573b",
   "metadata": {},
   "outputs": [],
   "source": [
    "assert isinstance(push_result, sy.SyftSuccess), str(push_result)"
   ]
  },
  {
   "cell_type": "code",
   "execution_count": null,
   "id": "18941fce",
   "metadata": {},
   "outputs": [],
   "source": [
    "base_url = f\"http://{workerimage.image_identifier.registry_host}\"\n",
    "expected_tag = workerimage.image_identifier.tag\n",
    "\n",
    "repos = requests.get(f\"{base_url}/v2/_catalog\").json()[\"repositories\"]\n",
    "tags = requests.get(f\"{base_url}/v2/openmined/custom-worker/tags/list\").json()\n",
    "tags = tags[\"tags\"]\n",
    "\n",
    "assert (\n",
    "    \"openmined/custom-worker\" in repos\n",
    "), f\"'openmined/custom-worker' not uploaded to local registry | {repos}\"\n",
    "assert (\n",
    "    expected_tag in tags\n",
    "), f\"'openmined/custom-worker' with tag {expected_tag} not available | {tags}\""
   ]
  },
  {
   "cell_type": "markdown",
   "id": "f5007073",
   "metadata": {},
   "source": [
    "#### Create Worker Pool From Image"
   ]
  },
  {
   "cell_type": "code",
   "execution_count": null,
   "id": "f57b5443-8519-4464-89a2-37deb25f6923",
   "metadata": {},
   "outputs": [],
   "source": [
    "worker_pool_name = \"custom-pool\"\n",
    "worker_pool_res = domain_client.api.services.worker_pool.launch(\n",
    "    name=worker_pool_name,\n",
    "    image_uid=workerimage.id,\n",
    "    num_workers=3,\n",
    "    reg_username=external_registry_username,\n",
    "    reg_password=external_registry_password,\n",
    ")"
   ]
  },
  {
   "cell_type": "code",
   "execution_count": null,
   "id": "f418fb83-4111-412c-ab11-8d4587239dc6",
   "metadata": {},
   "outputs": [],
   "source": [
    "assert not isinstance(worker_pool_res, sy.SyftError), str(worker_pool_res)\n",
    "assert len(worker_pool_res) == 3"
   ]
  },
  {
   "cell_type": "code",
   "execution_count": null,
   "id": "64b5d651-3dd6-45e6-b189-c7e278a7ddd1",
   "metadata": {},
   "outputs": [],
   "source": [
    "for status in worker_pool_res:\n",
    "    assert status.error is None"
   ]
  },
  {
   "cell_type": "code",
   "execution_count": null,
   "id": "977ff49b-0975-4e75-bd36-7ed124be52b8",
   "metadata": {},
   "outputs": [],
   "source": [
    "worker_pool_list = domain_client.worker_pools.get_all()\n",
    "worker_pool_list"
   ]
  },
  {
   "cell_type": "code",
   "execution_count": null,
   "id": "62f20239",
   "metadata": {},
   "outputs": [],
   "source": [
    "assert not isinstance(worker_pool_list, sy.SyftError), str(worker_pool_res)\n",
    "assert len(worker_pool_list) == 2"
   ]
  },
  {
   "cell_type": "code",
   "execution_count": null,
   "id": "ce6bd8c3-bc0a-4cdd-b594-4fccdd2097d4",
   "metadata": {},
   "outputs": [],
   "source": [
    "worker_pool = next(\n",
    "    (pool for pool in worker_pool_list if pool.name == worker_pool_name),\n",
    "    None,\n",
    ")\n",
    "\n",
    "assert worker_pool is not None, str(\n",
    "    [worker_pool.__dict__ for worker_pool in worker_pool_list]\n",
    ")\n",
    "assert len(worker_pool.workers) == 3"
   ]
  },
  {
   "cell_type": "code",
   "execution_count": null,
   "id": "14aeb0f5-673b-44f7-974c-203e18fa1c79",
   "metadata": {},
   "outputs": [],
   "source": [
    "# We can filter pools based on the image id upon which the pools were built\n",
    "filtered_result = domain_client.api.services.worker_pool.filter_by_image_id(\n",
    "    image_uid=workerimage.id\n",
    ")\n",
    "filtered_result"
   ]
  },
  {
   "cell_type": "code",
   "execution_count": null,
   "id": "87d1f356",
   "metadata": {},
   "outputs": [],
   "source": [
    "assert not isinstance(filtered_result, sy.SyftError), str(filtered_result)"
   ]
  },
  {
   "cell_type": "code",
   "execution_count": null,
   "id": "fe5900fe-057e-4be2-b3c6-c69ec07bacb4",
   "metadata": {},
   "outputs": [],
   "source": [
    "second_worker = worker_pool.workers[1]\n",
    "second_worker"
   ]
  },
  {
   "cell_type": "markdown",
   "id": "1c3166b0",
   "metadata": {},
   "source": [
    "#### Get Worker Logs"
   ]
  },
  {
   "cell_type": "code",
   "execution_count": null,
   "id": "187cb1ee",
   "metadata": {},
   "outputs": [],
   "source": [
    "worker_logs = domain_client.api.services.worker.logs(\n",
    "    uid=second_worker.id,\n",
    ")\n",
    "worker_logs"
   ]
  },
  {
   "cell_type": "code",
   "execution_count": null,
   "id": "f08fc155",
   "metadata": {},
   "outputs": [],
   "source": [
    "assert isinstance(worker_logs, str)"
   ]
  },
  {
   "cell_type": "code",
   "execution_count": null,
   "id": "400d545a-a912-423f-aeb8-aadfba7a3848",
   "metadata": {},
   "outputs": [],
   "source": [
    "worker_pool"
   ]
  },
  {
   "cell_type": "markdown",
   "id": "88971463-6991-448e-9c6d-51beb0c1b553",
   "metadata": {},
   "source": [
    "### Syft function"
   ]
  },
  {
   "cell_type": "code",
   "execution_count": null,
   "id": "5561d74b-4610-4279-bb09-abf287732aa0",
   "metadata": {},
   "outputs": [],
   "source": [
    "data = np.array([1, 2, 3])\n",
    "data_action_obj = sy.ActionObject.from_obj(data)\n",
    "\n",
    "data_pointer = domain_client.api.services.action.set(data_action_obj)\n",
    "data_pointer"
   ]
  },
  {
   "cell_type": "code",
   "execution_count": null,
   "id": "dc174d96-b4b1-4d65-aa76-921439507ba7",
   "metadata": {},
   "outputs": [],
   "source": [
    "@sy.syft_function(\n",
    "    input_policy=sy.ExactMatch(x=data_pointer),\n",
    "    output_policy=sy.SingleExecutionExactOutput(),\n",
    "    worker_pool_name=worker_pool_name,\n",
    ")\n",
    "def custom_worker_func(x):\n",
    "    return {\"y\": x + 1}"
   ]
  },
  {
   "cell_type": "code",
   "execution_count": null,
   "id": "4ce5de72-4e50-46ff-8a7c-9f9eb7e0f018",
   "metadata": {},
   "outputs": [],
   "source": [
    "custom_worker_func"
   ]
  },
  {
   "cell_type": "code",
   "execution_count": null,
   "id": "771b0ec6-267a-439e-9eff-34ea80a81137",
   "metadata": {},
   "outputs": [],
   "source": [
    "assert custom_worker_func.worker_pool_name == worker_pool.name"
   ]
  },
  {
   "cell_type": "code",
   "execution_count": null,
   "id": "c0f3c93e-1610-406e-b93d-1ba5421017a2",
   "metadata": {},
   "outputs": [],
   "source": [
    "request = domain_client.code.request_code_execution(custom_worker_func)\n",
    "request"
   ]
  },
  {
   "cell_type": "code",
   "execution_count": null,
   "id": "db820de6-f6b2-446d-a6d5-f07f217de97b",
   "metadata": {},
   "outputs": [],
   "source": [
    "domain_client.requests[-1].approve(approve_nested=True)"
   ]
  },
  {
   "cell_type": "code",
   "execution_count": null,
   "id": "fd8a8734-4c22-4dd5-9835-f48dc6ebade9",
   "metadata": {},
   "outputs": [],
   "source": [
    "job = domain_client.code.custom_worker_func(x=data_pointer, blocking=False)\n",
    "job"
   ]
  },
  {
   "cell_type": "code",
   "execution_count": null,
   "id": "01bff2ed-d4f4-4607-b750-3f935eb85d17",
   "metadata": {},
   "outputs": [],
   "source": [
    "worker_pool = domain_client.worker_pools[worker_pool_name]\n",
    "worker_pool"
   ]
  },
  {
   "cell_type": "code",
   "execution_count": null,
   "id": "2cd24b35-94f5-4f39-aae8-92046136137b",
   "metadata": {},
   "outputs": [],
   "source": [
    "job.wait()"
   ]
  },
  {
   "cell_type": "code",
   "execution_count": null,
   "id": "0daeddfd-731a-49f5-90f5-a974af49bb02",
   "metadata": {},
   "outputs": [],
   "source": [
    "assert job.status.value == \"completed\""
   ]
  },
  {
   "cell_type": "code",
   "execution_count": null,
   "id": "e9be648a-ead9-4cd5-b857-a10a9410c937",
   "metadata": {},
   "outputs": [],
   "source": [
    "job_list = domain_client.jobs.get_by_user_code_id(job.user_code_id)"
   ]
  },
  {
   "cell_type": "code",
   "execution_count": null,
   "id": "3d828222-68d6-4010-9e62-141ea59c47b6",
   "metadata": {},
   "outputs": [],
   "source": [
    "assert not isinstance(job_list, sy.SyftError), job_list"
   ]
  },
  {
   "cell_type": "code",
   "execution_count": null,
   "id": "c6b9d5a8-9e91-451a-91b5-e0455e2c2246",
   "metadata": {},
   "outputs": [],
   "source": [
    "job_refresh = job_list[0]\n",
    "assert job_refresh.job_worker_id is not None, str([job.to_dict() for job in job_list])"
   ]
  },
  {
   "cell_type": "code",
   "execution_count": null,
   "id": "8c8da391-50c2-44c5-9f24-2853b0f5852f",
   "metadata": {},
   "outputs": [],
   "source": [
    "# Validate the result received from the syft function\n",
    "result = job.wait().get()\n",
    "result_matches = result[\"y\"] == data + 1\n",
    "assert result_matches.all()"
   ]
  },
  {
   "cell_type": "code",
   "execution_count": null,
   "id": "6b5f63c2-028a-4b48-a5f9-392ac89440ed",
   "metadata": {},
   "outputs": [],
   "source": [
    "# Scale Down the workers\n",
    "custom_pool_scale_res = domain_client.api.services.worker_pool.scale(\n",
    "    number=1, pool_name=worker_pool_name\n",
    ")\n",
    "assert not isinstance(custom_pool_scale_res, sy.SyftError), str(custom_pool_scale_res)\n",
    "custom_pool_scale_res"
   ]
  },
  {
   "cell_type": "code",
   "execution_count": null,
   "id": "3325165b-525f-4ffd-add5-e0c93d235723",
   "metadata": {},
   "outputs": [],
   "source": [
    "assert len(domain_client.worker_pools[worker_pool_name].worker_list) == 1"
   ]
  },
  {
   "cell_type": "markdown",
   "id": "f20a29df-2e63-484f-8b67-d6a397722e66",
   "metadata": {},
   "source": [
    "#### Worker Pool and Image Creation Request/Approval"
   ]
  },
  {
   "cell_type": "code",
   "execution_count": null,
   "id": "2b8cd7a0-ba17-4ad0-b3de-5af1282a6dc6",
   "metadata": {},
   "outputs": [],
   "source": [
    "dockerfile_opendp = f\"\"\"\n",
    "FROM {registry}/{repo}:{tag}\n",
    "\n",
    "RUN pip install opendp\n",
    "\"\"\".strip()\n",
    "\n",
    "docker_config_opendp = sy.DockerWorkerConfig(dockerfile=dockerfile_opendp)"
   ]
  },
  {
   "cell_type": "code",
   "execution_count": null,
   "id": "48a7a9b5-266d-4f22-9b99-061dbb3c83ab",
   "metadata": {},
   "outputs": [],
   "source": [
    "submit_result = None\n",
    "submit_result = domain_client.api.services.worker_image.submit_dockerfile(\n",
    "    docker_config=docker_config_opendp\n",
    ")\n",
    "submit_result"
   ]
  },
  {
   "cell_type": "code",
   "execution_count": null,
   "id": "6dc3afe6",
   "metadata": {},
   "outputs": [],
   "source": [
    "assert isinstance(submit_result, sy.SyftSuccess), str(submit_result)"
   ]
  },
  {
   "cell_type": "code",
   "execution_count": null,
   "id": "8b91474e",
   "metadata": {},
   "outputs": [],
   "source": [
    "_images = domain_client.images\n",
    "assert not isinstance(_images, sy.SyftError), str(_images)"
   ]
  },
  {
   "cell_type": "code",
   "execution_count": null,
   "id": "b62871bc-6c32-4fac-95af-5b062bc65992",
   "metadata": {},
   "outputs": [],
   "source": [
    "workerimage_opendp = next(\n",
    "    (im for im in _images if im.config == docker_config_opendp),\n",
    "    None,\n",
    ")\n",
    "assert workerimage_opendp is not None, str([im.__dict__ for im in _images])"
   ]
  },
  {
   "cell_type": "markdown",
   "id": "35f8e35f-91f3-4d2b-8e70-386021e9a692",
   "metadata": {},
   "source": [
    "##### Build image first then create pool"
   ]
  },
  {
   "cell_type": "code",
   "execution_count": null,
   "id": "f5a773e7-4dc1-4325-bc26-eb3c7d88969a",
   "metadata": {},
   "outputs": [],
   "source": [
    "docker_tag_opendp = \"openmined/custom-worker-opendp:latest\"\n",
    "\n",
    "docker_build_result = domain_client.api.services.worker_image.build(\n",
    "    image_uid=workerimage_opendp.id,\n",
    "    tag=docker_tag_opendp,\n",
    "    registry_uid=registry_uid,\n",
    ")\n",
    "\n",
    "docker_build_result"
   ]
  },
  {
   "cell_type": "code",
   "execution_count": null,
   "id": "cb59b64c",
   "metadata": {},
   "outputs": [],
   "source": [
    "assert isinstance(docker_build_result, sy.SyftSuccess), str(docker_build_result)"
   ]
  },
  {
   "cell_type": "code",
   "execution_count": null,
   "id": "a39ab3e0",
   "metadata": {},
   "outputs": [],
   "source": [
    "_images = domain_client.images\n",
    "assert not isinstance(_images, sy.SyftError), str(_images)"
   ]
  },
  {
   "cell_type": "code",
   "execution_count": null,
   "id": "30f77d3f",
   "metadata": {},
   "outputs": [],
   "source": [
    "workerimage_opendp = next(\n",
    "    (image for image in _images if image.id == workerimage_opendp.id),\n",
    "    None,\n",
    ")\n",
    "assert workerimage_opendp is not None, str([image.__dict__ for image in _images])\n",
    "assert workerimage_opendp.is_built is not None, str(workerimage_opendp.__dict__)\n",
    "assert workerimage_opendp.built_at is not None, str(workerimage_opendp.__dict__)\n",
    "assert workerimage_opendp.image_hash is not None, str(workerimage_opendp.__dict__)\n",
    "\n",
    "assert _images[workerimage_opendp.built_image_tag] == workerimage_opendp, str(\n",
    "    workerimage_opendp\n",
    ")\n",
    "\n",
    "workerimage_opendp"
   ]
  },
  {
   "cell_type": "code",
   "execution_count": null,
   "id": "79211b85",
   "metadata": {},
   "outputs": [],
   "source": [
    "# Push OpenDP Image to registry\n",
    "push_result = None\n",
    "push_result = domain_client.api.services.worker_image.push(\n",
    "    workerimage_opendp.id,\n",
    "    username=external_registry_username,\n",
    "    password=external_registry_password,\n",
    ")\n",
    "assert isinstance(push_result, sy.SyftSuccess), str(push_result)"
   ]
  },
  {
   "cell_type": "code",
   "execution_count": null,
   "id": "7b0b2bb2-5612-463f-af88-f74e4f31719a",
   "metadata": {},
   "outputs": [],
   "source": [
    "pool_name_opendp = \"opendp-pool\"\n",
    "pool_create_request = domain_client.api.services.worker_pool.pool_creation_request(\n",
    "    pool_name=pool_name_opendp, num_workers=3, image_uid=workerimage_opendp.id\n",
    ")\n",
    "pool_create_request"
   ]
  },
  {
   "cell_type": "code",
   "execution_count": null,
   "id": "2b337373-9486-426a-a282-b0b179139ba7",
   "metadata": {},
   "outputs": [],
   "source": [
    "assert not isinstance(pool_create_request, sy.SyftError), str(pool_create_request)\n",
    "assert len(pool_create_request.changes) == 1"
   ]
  },
  {
   "cell_type": "code",
   "execution_count": null,
   "id": "0b59e175-76ba-46b8-a7cd-796a872969e4",
   "metadata": {},
   "outputs": [],
   "source": [
    "# get the pending request and approve it\n",
    "req_result = pool_create_request.approve(\n",
    "    reg_username=external_registry_username, reg_password=external_registry_password\n",
    ")\n",
    "req_result"
   ]
  },
  {
   "cell_type": "code",
   "execution_count": null,
   "id": "4ce90111-11bd-4ebd-bb4a-4217a57c7d8d",
   "metadata": {},
   "outputs": [],
   "source": [
    "assert isinstance(req_result, sy.SyftSuccess), str(req_result)"
   ]
  },
  {
   "cell_type": "code",
   "execution_count": null,
   "id": "2ea69b17-eb3c-4f01-9a47-4895dd286e5e",
   "metadata": {},
   "outputs": [],
   "source": [
    "pool_opendp = domain_client.worker_pools[pool_name_opendp]\n",
    "assert not isinstance(pool_opendp, sy.SyftError), str(pool_opendp)\n",
    "assert len(pool_opendp.worker_list) == 3"
   ]
  },
  {
   "cell_type": "code",
   "execution_count": null,
   "id": "b0f8e4cb-6ccf-4c9f-866e-6e63fa67427c",
   "metadata": {},
   "outputs": [],
   "source": [
    "worker_pool_list = domain_client.worker_pools.get_all()\n",
    "\n",
    "assert not isinstance(worker_pool_list, sy.SyftError), str(worker_pool_list)\n",
    "assert len(worker_pool_list) == 3"
   ]
  },
  {
   "cell_type": "code",
   "execution_count": null,
   "id": "18ddb1e7-8d8b-480c-b6a4-e4c79d27bcf1",
   "metadata": {},
   "outputs": [],
   "source": [
    "# Scale Down the workers\n",
    "opendp_pool_scale_res = domain_client.api.services.worker_pool.scale(\n",
    "    number=1, pool_name=pool_name_opendp\n",
    ")\n",
    "assert not isinstance(opendp_pool_scale_res, sy.SyftError), str(opendp_pool_scale_res)\n",
    "opendp_pool_scale_res"
   ]
  },
  {
   "cell_type": "code",
   "execution_count": null,
   "id": "83b3ec7b-3fbe-429d-bd1e-5e9afa223c3c",
   "metadata": {},
   "outputs": [],
   "source": [
    "assert len(domain_client.worker_pools[pool_name_opendp].worker_list) == 1"
   ]
  },
  {
   "cell_type": "markdown",
   "id": "6e671e1e",
   "metadata": {},
   "source": [
    "Request to build the image and create the pool at the same time"
   ]
  },
  {
   "cell_type": "code",
   "execution_count": null,
   "id": "7c69e8bf",
   "metadata": {},
   "outputs": [],
   "source": [
    "dockerfile_recordlinkage = f\"\"\"\n",
    "FROM {registry}/{repo}:{tag}\n",
    "\n",
    "RUN pip install recordlinkage\n",
    "\"\"\".strip()\n",
    "\n",
    "docker_config_recordlinkage = sy.DockerWorkerConfig(dockerfile=dockerfile_recordlinkage)\n",
    "\n",
    "docker_tag_recordlinkage = \"openmined/custom-worker-recordlinkage:latest\""
   ]
  },
  {
   "cell_type": "code",
   "execution_count": null,
   "id": "81689b96",
   "metadata": {},
   "outputs": [],
   "source": [
    "pool_name_recordlinkage = \"recordlinkage-pool\"\n",
    "\n",
    "pool_image_create_request = (\n",
    "    domain_client.api.services.worker_pool.create_image_and_pool_request(\n",
    "        pool_name=pool_name_recordlinkage,\n",
    "        num_workers=2,\n",
    "        tag=docker_tag_recordlinkage,\n",
    "        config=docker_config_recordlinkage,\n",
    "        registry_uid=registry_uid,\n",
    "        reason=\"I want to do some more cool data science with PySyft and OpenDP\",\n",
    "    )\n",
    ")\n",
    "pool_image_create_request"
   ]
  },
  {
   "cell_type": "code",
   "execution_count": null,
   "id": "6efd9eaa",
   "metadata": {},
   "outputs": [],
   "source": [
    "assert not isinstance(pool_image_create_request, sy.SyftError), str(\n",
    "    pool_image_create_request\n",
    ")"
   ]
  },
  {
   "cell_type": "code",
   "execution_count": null,
   "id": "ea55e617",
   "metadata": {},
   "outputs": [],
   "source": [
    "assert len(pool_image_create_request.changes) == 2\n",
    "assert pool_image_create_request.changes[0].config == docker_config_recordlinkage\n",
    "assert pool_image_create_request.changes[1].num_workers == 2\n",
    "assert pool_image_create_request.changes[1].pool_name == pool_name_recordlinkage"
   ]
  },
  {
   "cell_type": "code",
   "execution_count": null,
   "id": "1cc6f12a",
   "metadata": {},
   "outputs": [],
   "source": [
    "req_result = pool_image_create_request.approve(\n",
    "    reg_username=external_registry_username, reg_password=external_registry_password\n",
    ")\n",
    "req_result"
   ]
  },
  {
   "cell_type": "code",
   "execution_count": null,
   "id": "76b52e2c",
   "metadata": {},
   "outputs": [],
   "source": [
    "assert isinstance(req_result, sy.SyftSuccess), str(req_result)"
   ]
  },
  {
   "cell_type": "code",
   "execution_count": null,
   "id": "ca4ab4f1",
   "metadata": {},
   "outputs": [],
   "source": [
    "_requests = domain_client.requests\n",
    "assert not isinstance(_requests, sy.SyftError), str(_requests)"
   ]
  },
  {
   "cell_type": "code",
   "execution_count": null,
   "id": "e79ef5cd",
   "metadata": {},
   "outputs": [],
   "source": [
    "pool_image_create_request = next(\n",
    "    (req for req in _requests if req.id == pool_image_create_request.id),\n",
    "    None,\n",
    ")\n",
    "assert pool_image_create_request is not None, str([req.__dict__ for req in _requests])\n",
    "assert pool_image_create_request.status.value == 2, str(pool_image_create_request)"
   ]
  },
  {
   "cell_type": "code",
   "execution_count": null,
   "id": "5518a574",
   "metadata": {},
   "outputs": [],
   "source": [
    "domain_client.images"
   ]
  },
  {
   "cell_type": "code",
   "execution_count": null,
   "id": "bb6b48b1",
   "metadata": {},
   "outputs": [],
   "source": [
    "image_exists = False\n",
    "for im in domain_client.images.get_all():\n",
    "    if (\n",
    "        im.image_identifier\n",
    "        and im.image_identifier.repo_with_tag == docker_tag_recordlinkage\n",
    "    ):\n",
    "        image_exists = True\n",
    "\n",
    "assert image_exists, str([im.__dict__ for im in _images])"
   ]
  },
  {
   "cell_type": "code",
   "execution_count": null,
   "id": "a47b8580",
   "metadata": {},
   "outputs": [],
   "source": [
    "assert domain_client.worker_pools[pool_name_recordlinkage]\n",
    "assert len(domain_client.worker_pools[pool_name_recordlinkage].worker_list) == 2"
   ]
  },
  {
   "cell_type": "code",
   "execution_count": null,
   "id": "0cec28e8-784e-4a8d-91f9-f2481a967008",
   "metadata": {},
   "outputs": [],
   "source": [
    "# Scale down the workers\n",
    "recordlinkage_pool_scale_res = domain_client.api.services.worker_pool.scale(\n",
    "    number=1, pool_name=pool_name_recordlinkage\n",
    ")\n",
    "assert not isinstance(recordlinkage_pool_scale_res, sy.SyftError), str(\n",
    "    recordlinkage_pool_scale_res\n",
    ")\n",
    "recordlinkage_pool_scale_res"
   ]
  },
  {
   "cell_type": "code",
   "execution_count": null,
   "id": "a43cf8cf-b8ca-4df4-aec9-6651d0a2fcda",
   "metadata": {},
   "outputs": [],
   "source": [
    "assert len(domain_client.worker_pools[pool_name_recordlinkage].worker_list) == 1"
   ]
  }
 ],
 "metadata": {
  "kernelspec": {
   "display_name": "Python 3 (ipykernel)",
   "language": "python",
   "name": "python3"
  },
  "language_info": {
   "codemirror_mode": {
    "name": "ipython",
    "version": 3
   },
   "file_extension": ".py",
   "mimetype": "text/x-python",
   "name": "python",
   "nbconvert_exporter": "python",
   "pygments_lexer": "ipython3",
   "version": "3.11.5"
  }
 },
 "nbformat": 4,
 "nbformat_minor": 5
}

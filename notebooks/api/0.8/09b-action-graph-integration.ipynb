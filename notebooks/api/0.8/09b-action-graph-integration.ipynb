{
 "cells": [
  {
   "cell_type": "markdown",
   "id": "9ebc795e",
   "metadata": {},
   "source": [
    "# Intergrating action graph into the overall `Syft` workflow"
   ]
  },
  {
   "cell_type": "code",
   "execution_count": null,
   "id": "fcfbe709",
   "metadata": {},
   "outputs": [],
   "source": [
    "import syft as sy\n",
    "from syft.service.action.action_graph_service import ActionGraphService\n",
    "from syft.service.action.action_graph import InMemoryActionGraphStore\n",
    "from syft.service.action.action_graph import InMemoryGraphConfig, InMemoryStoreClientConfig\n",
    "from syft.service.context import AuthedServiceContext\n",
    "from syft.node.credentials import SyftSigningKey\n",
    "from syft.service.action.action_graph import Action\n",
    "from syft.service.action.numpy import NumpyArrayObject, ActionObject\n",
    "from syft.service.response import SyftError\n",
    "from syft.types.syft_object import SyftObjectRegistry\n",
    "\n",
    "import numpy as np\n",
    "import matplotlib.pyplot as plt\n",
    "import networkx as nx\n",
    "import pandas as pd\n",
    "from pprint import pprint\n",
    "\n",
    "print(sy.__version__)"
   ]
  },
  {
   "cell_type": "markdown",
   "id": "dd1a4a94",
   "metadata": {},
   "source": [
    "## Non-mutation operations"
   ]
  },
  {
   "cell_type": "markdown",
   "id": "93e33b08",
   "metadata": {},
   "source": [
    "Scenario for performing some computation\n",
    "\n",
    "\n",
    "```python\n",
    "import syft as sy\n",
    "\n",
    "domain_client = sy.login(\"....\")\n",
    "\n",
    "a = domain_client.api.lib.numpy.array([1,2,3])\n",
    "\n",
    "b = domain_client.api.lib.numpy.array([2,3,4])\n",
    "\n",
    "c = a + b\n",
    "\n",
    "d = domain_client.api.lib.numpy.array([1, 2, 3])\n",
    "\n",
    "e = c * d\n",
    "```"
   ]
  },
  {
   "cell_type": "code",
   "execution_count": null,
   "id": "844d0f90",
   "metadata": {},
   "outputs": [],
   "source": [
    "node = sy.orchestra.launch(name=\"test-domain-1\", dev_mode=True, reset=True)\n",
    "domain_client = node.login(email=\"info@openmined.org\", password=\"changethis\")"
   ]
  },
  {
   "cell_type": "markdown",
   "id": "81dd9e9e",
   "metadata": {},
   "source": [
    "#### The client upload `a` and `b`"
   ]
  },
  {
   "cell_type": "code",
   "execution_count": null,
   "id": "bfeb6e15",
   "metadata": {},
   "outputs": [],
   "source": [
    "a = domain_client.api.lib.numpy.array([1,2,3])\n",
    "b = domain_client.api.lib.numpy.array([2,3,4])"
   ]
  },
  {
   "cell_type": "code",
   "execution_count": null,
   "id": "167dbee1",
   "metadata": {},
   "outputs": [],
   "source": [
    "domain_client.api.services.graph.visualize()"
   ]
  },
  {
   "cell_type": "code",
   "execution_count": null,
   "id": "2691c728",
   "metadata": {},
   "outputs": [],
   "source": [
    "assert len(domain_client.api.services.graph.nodes()) == 6\n",
    "assert len(domain_client.api.services.graph.edges()) == 4"
   ]
  },
  {
   "cell_type": "markdown",
   "id": "0c440ae1",
   "metadata": {},
   "source": [
    "#### The client adds `a` and `b`"
   ]
  },
  {
   "cell_type": "code",
   "execution_count": null,
   "id": "f80e2bd3",
   "metadata": {},
   "outputs": [],
   "source": [
    "c = a + b"
   ]
  },
  {
   "cell_type": "code",
   "execution_count": null,
   "id": "24ac9130",
   "metadata": {},
   "outputs": [],
   "source": [
    "domain_client.api.services.graph.visualize()"
   ]
  },
  {
   "cell_type": "code",
   "execution_count": null,
   "id": "9d10957c",
   "metadata": {},
   "outputs": [],
   "source": [
    "assert len(domain_client.api.services.graph.nodes()) == 8\n",
    "assert len(domain_client.api.services.graph.edges()) == 7"
   ]
  },
  {
   "cell_type": "markdown",
   "id": "73607505",
   "metadata": {},
   "source": [
    "#### The client uploads `d`"
   ]
  },
  {
   "cell_type": "code",
   "execution_count": null,
   "id": "2823ecc8",
   "metadata": {},
   "outputs": [],
   "source": [
    "d = domain_client.api.lib.numpy.array([3,4,5])"
   ]
  },
  {
   "cell_type": "code",
   "execution_count": null,
   "id": "790358f8",
   "metadata": {},
   "outputs": [],
   "source": [
    "domain_client.api.services.graph.visualize()"
   ]
  },
  {
   "cell_type": "code",
   "execution_count": null,
   "id": "40b6d2f1",
   "metadata": {},
   "outputs": [],
   "source": [
    "assert len(domain_client.api.services.graph.nodes()) == 11\n",
    "assert len(domain_client.api.services.graph.edges()) == 9"
   ]
  },
  {
   "cell_type": "markdown",
   "id": "80475635",
   "metadata": {},
   "source": [
    "#### `e = c * d`"
   ]
  },
  {
   "cell_type": "code",
   "execution_count": null,
   "id": "90f16ff5",
   "metadata": {},
   "outputs": [],
   "source": [
    "e = c * d"
   ]
  },
  {
   "cell_type": "code",
   "execution_count": null,
   "id": "fa2cef2d",
   "metadata": {},
   "outputs": [],
   "source": [
    "domain_client.api.services.graph.visualize()"
   ]
  },
  {
   "cell_type": "code",
   "execution_count": null,
   "id": "189d4d73",
   "metadata": {},
   "outputs": [],
   "source": [
    "assert len(domain_client.api.services.graph.nodes()) == 13\n",
    "assert len(domain_client.api.services.graph.edges()) == 12"
   ]
  },
  {
   "cell_type": "markdown",
   "id": "96b3873a",
   "metadata": {},
   "source": [
    "## Mutation operations (things are not working correctly for now)"
   ]
  },
  {
   "cell_type": "markdown",
   "id": "09a32c52",
   "metadata": {},
   "source": [
    "```python\n",
    "d[2] = 5 (mutation)\n",
    "f = d + 48 (operating on the mutated object)\n",
    "```"
   ]
  },
  {
   "cell_type": "code",
   "execution_count": null,
   "id": "a5684304",
   "metadata": {},
   "outputs": [],
   "source": [
    "# d[2] = 5\n",
    "# domain_client.api.services.graph.visualize()\n",
    "# print(domain_client.api.services.graph.nodes())\n",
    "# f = d + 48\n",
    "# domain_client.api.services.graph.visualize()"
   ]
  },
  {
   "cell_type": "markdown",
   "id": "57611065",
   "metadata": {},
   "source": [
    "## Creating and uploading dataset"
   ]
  },
  {
   "cell_type": "code",
   "execution_count": null,
   "id": "62182703",
   "metadata": {},
   "outputs": [],
   "source": [
    "node = sy.orchestra.launch(name=\"test-domain-2\", dev_mode=True, reset=True)\n",
    "domain_client = node.login(email=\"info@openmined.org\", password=\"changethis\")"
   ]
  },
  {
   "cell_type": "code",
   "execution_count": null,
   "id": "3b6838e1",
   "metadata": {},
   "outputs": [],
   "source": [
    "num_assets = 2\n",
    "\n",
    "dataset = sy.Dataset(name=\"Test Dataset\")\n",
    "dataset.set_description(\"\"\"Test Dataset\"\"\")\n",
    "dataset.add_citation(\"Person, place or thing\")\n",
    "\n",
    "country = sy.DataSubject(name=\"Country\", aliases=[\"country_code\"])\n",
    "canada = sy.DataSubject(name=\"Canada\", aliases=[\"country_code:ca\"])\n",
    "country.add_member(canada)\n",
    "registry = domain_client.data_subject_registry\n",
    "response = registry.add_data_subject(country)\n",
    "\n",
    "for i in range(num_assets):\n",
    "    data = pd.DataFrame(np.random.randint(0, 100, size=(10, 4)), \n",
    "                      columns=list('ABCD'))\n",
    "    mock = pd.DataFrame(np.random.randint(0, 100, size=(10, 4)), \n",
    "                      columns=list('ABCD'))\n",
    "\n",
    "    ctf = sy.Asset(name=f\"test_dataset_{i}\")\n",
    "    ctf.set_description(\"\"\"all the datas\"\"\")\n",
    "    ctf.set_obj(data)\n",
    "    ctf.set_shape((10, 4))\n",
    "    ctf.add_data_subject(canada)\n",
    "    ctf.set_mock(mock, mock_is_real=False)\n",
    "    dataset.add_asset(ctf)"
   ]
  },
  {
   "cell_type": "code",
   "execution_count": null,
   "id": "bd3f8592",
   "metadata": {},
   "outputs": [],
   "source": [
    "domain_client.upload_dataset(dataset)"
   ]
  },
  {
   "cell_type": "code",
   "execution_count": null,
   "id": "8388fceb",
   "metadata": {},
   "outputs": [],
   "source": [
    "domain_client.api.services.graph.visualize()"
   ]
  },
  {
   "cell_type": "code",
   "execution_count": null,
   "id": "f058263f",
   "metadata": {},
   "outputs": [],
   "source": [
    "assert len(domain_client.api.services.graph.nodes()) == num_assets\n",
    "assert len(domain_client.api.services.graph.edges()) == 0"
   ]
  },
  {
   "cell_type": "markdown",
   "id": "12ed679a",
   "metadata": {},
   "source": [
    "## Send an action object"
   ]
  },
  {
   "cell_type": "code",
   "execution_count": null,
   "id": "7c2217e1",
   "metadata": {},
   "outputs": [],
   "source": [
    "node = sy.orchestra.launch(name=\"test-domain-3\", dev_mode=True, reset=True)\n",
    "domain_client = node.login(email=\"info@openmined.org\", password=\"changethis\")"
   ]
  },
  {
   "cell_type": "code",
   "execution_count": null,
   "id": "d62ad964",
   "metadata": {},
   "outputs": [],
   "source": [
    "action_obj_a = ActionObject.from_obj([2, 4, 6])\n",
    "action_obj_a.send(domain_client)"
   ]
  },
  {
   "cell_type": "code",
   "execution_count": null,
   "id": "d883de47",
   "metadata": {},
   "outputs": [],
   "source": [
    "action_obj_b = ActionObject.from_obj([1, 2, 3])\n",
    "action_obj_b.send(domain_client)"
   ]
  },
  {
   "cell_type": "code",
   "execution_count": null,
   "id": "da216dd5",
   "metadata": {},
   "outputs": [],
   "source": [
    "domain_client.api.services.graph.visualize()"
   ]
  },
  {
   "cell_type": "code",
   "execution_count": null,
   "id": "e189c1d6",
   "metadata": {},
   "outputs": [],
   "source": [
    "assert len(domain_client.api.services.graph.nodes()) == 2\n",
    "assert len(domain_client.api.services.graph.edges()) == 0"
   ]
  },
  {
   "cell_type": "markdown",
   "id": "c41ae874",
   "metadata": {},
   "source": [
    "## Calling `generate_remote_lib`"
   ]
  },
  {
   "cell_type": "code",
   "execution_count": null,
   "id": "a01a5e53",
   "metadata": {},
   "outputs": [],
   "source": [
    "node = sy.orchestra.launch(name=\"test-domain-4\", dev_mode=True, reset=True)\n",
    "domain_client = node.login(email=\"info@openmined.org\", password=\"changethis\")"
   ]
  },
  {
   "cell_type": "code",
   "execution_count": null,
   "id": "97fcf7d7",
   "metadata": {},
   "outputs": [],
   "source": [
    "a = domain_client.api.lib.numpy.array([1,2,3])\n",
    "b = domain_client.api.lib.numpy.array([2,3,4])"
   ]
  },
  {
   "cell_type": "code",
   "execution_count": null,
   "id": "33388d56",
   "metadata": {},
   "outputs": [],
   "source": [
    "domain_client.api.services.graph.visualize()"
   ]
  },
  {
   "cell_type": "code",
   "execution_count": null,
   "id": "b870bf0c",
   "metadata": {},
   "outputs": [],
   "source": [
    "c = domain_client.api.lib.numpy.add(a, b)"
   ]
  },
  {
   "cell_type": "code",
   "execution_count": null,
   "id": "6a114fab",
   "metadata": {},
   "outputs": [],
   "source": [
    "domain_client.api.services.graph.visualize()"
   ]
  },
  {
   "cell_type": "code",
   "execution_count": null,
   "id": "9df994aa",
   "metadata": {},
   "outputs": [],
   "source": [
    "d = domain_client.api.lib.numpy.array([3,4,5])\n",
    "e = domain_client.api.lib.numpy.multiply(c, d)"
   ]
  },
  {
   "cell_type": "code",
   "execution_count": null,
   "id": "e7c7d14f",
   "metadata": {},
   "outputs": [],
   "source": [
    "domain_client.api.services.graph.visualize()"
   ]
  },
  {
   "cell_type": "code",
   "execution_count": null,
   "id": "52399ba2",
   "metadata": {},
   "outputs": [],
   "source": [
    "assert len(domain_client.api.services.graph.nodes()) == 13\n",
    "assert len(domain_client.api.services.graph.edges()) == 12"
   ]
  },
  {
   "cell_type": "markdown",
   "id": "cf215868",
   "metadata": {},
   "source": [
    "## Calling `syft_make_action`"
   ]
  },
  {
   "cell_type": "code",
   "execution_count": null,
   "id": "cd7a3940",
   "metadata": {},
   "outputs": [],
   "source": [
    "def helper_make_action_obj(orig_obj):\n",
    "    obj_id = Action.make_id(None)\n",
    "    lin_obj_id = Action.make_result_id(obj_id)\n",
    "\n",
    "    return ActionObject.from_obj(orig_obj, id=obj_id, syft_lineage_id=lin_obj_id)\n",
    "\n",
    "\n",
    "def helper_make_action_pointers(domain_client, obj, *args, **kwargs):\n",
    "    obj_pointer = obj.send(domain_client)\n",
    "    # The args and kwargs should automatically be pointerized by obj_pointer\n",
    "    return obj_pointer, args, kwargs"
   ]
  },
  {
   "cell_type": "code",
   "execution_count": null,
   "id": "4c8c35a8",
   "metadata": {},
   "outputs": [],
   "source": [
    "node = sy.orchestra.launch(name=\"test-domain-8\", dev_mode=True, reset=True)\n",
    "domain_client = node.login(email=\"info@openmined.org\", password=\"changethis\")"
   ]
  },
  {
   "cell_type": "code",
   "execution_count": null,
   "id": "4adbcdf5",
   "metadata": {},
   "outputs": [],
   "source": [
    "orig_obj, op, args, kwargs = (\"abc\", \"find\", [\"b\"], {})\n",
    "# orig_obj, op, args, kwargs = (\"abc\", \"capitalize\", [], {})\n",
    "# orig_obj, op, args, kwargs = (int(1), \"__add__\", [1], {})\n",
    "# orig_obj, op, args, kwargs = ((1, 1, 3), \"count\", [1], {})\n",
    "\n",
    "\n",
    "obj = helper_make_action_obj(orig_obj)\n",
    "obj_pointer, args_pointers, kwargs_pointers = helper_make_action_pointers(\n",
    "        domain_client, obj, *args, **kwargs\n",
    ")\n",
    "path = str(type(orig_obj))"
   ]
  },
  {
   "cell_type": "code",
   "execution_count": null,
   "id": "25161959",
   "metadata": {},
   "outputs": [],
   "source": [
    "# action = obj.syft_make_action(path, op, remote_self= args=args_pointers, kwargs=kwargs_pointers)"
   ]
  },
  {
   "cell_type": "code",
   "execution_count": null,
   "id": "e6cd4118",
   "metadata": {},
   "outputs": [],
   "source": [
    "action = obj_pointer.syft_make_action(path, op, remote_self=obj_pointer.id, args=args_pointers, kwargs=kwargs_pointers)"
   ]
  },
  {
   "cell_type": "code",
   "execution_count": null,
   "id": "37efc50c",
   "metadata": {},
   "outputs": [],
   "source": [
    "domain_client.api.services.graph.visualize()\n",
    "print(domain_client.api.services.graph.nodes())"
   ]
  },
  {
   "cell_type": "code",
   "execution_count": null,
   "id": "9c5f546c",
   "metadata": {},
   "outputs": [],
   "source": [
    "assert len(domain_client.api.services.graph.nodes()) == 5\n",
    "assert len(domain_client.api.services.graph.edges()) == 4"
   ]
  },
  {
   "cell_type": "code",
   "execution_count": null,
   "id": "6bb37ba1",
   "metadata": {},
   "outputs": [],
   "source": []
  }
 ],
 "metadata": {
  "kernelspec": {
   "display_name": "Python 3 (ipykernel)",
   "language": "python",
   "name": "python3"
  },
  "language_info": {
   "codemirror_mode": {
    "name": "ipython",
    "version": 3
   },
   "file_extension": ".py",
   "mimetype": "text/x-python",
   "name": "python",
   "nbconvert_exporter": "python",
   "pygments_lexer": "ipython3",
   "version": "3.10.8"
  }
 },
 "nbformat": 4,
 "nbformat_minor": 5
}

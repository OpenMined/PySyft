{
 "cells": [
  {
   "cell_type": "markdown",
   "id": "0",
   "metadata": {},
   "source": [
    "# Registering Users in Syft Datasite Server\n",
    "\n",
    "By default users are not allowed to create a new account on the Syft Datasite Server. This notebook is a tutorial for Data Owners to enable guest signups on their deployments."
   ]
  },
  {
   "cell_type": "markdown",
   "id": "1",
   "metadata": {},
   "source": [
    "### Import packages"
   ]
  },
  {
   "cell_type": "code",
   "execution_count": null,
   "id": "2",
   "metadata": {},
   "outputs": [],
   "source": [
    "SYFT_VERSION = \">=0.9,<1.0.0\"\n",
    "package_string = f'\"syft{SYFT_VERSION}\"'\n",
    "# %pip install {package_string} -q"
   ]
  },
  {
   "cell_type": "code",
   "execution_count": null,
   "id": "3",
   "metadata": {},
   "outputs": [],
   "source": [
    "# syft absolute\n",
    "import syft as sy\n",
    "\n",
    "sy.requires(SYFT_VERSION)"
   ]
  },
  {
   "cell_type": "markdown",
   "id": "4",
   "metadata": {},
   "source": [
    "### Launch a Syft Datasite Server"
   ]
  },
  {
   "cell_type": "code",
   "execution_count": null,
   "id": "5",
   "metadata": {},
   "outputs": [],
   "source": [
    "server = sy.orchestra.launch(\n",
    "    name=\"test-datasite-1\", port=\"auto\", dev_mode=True, reset=True,\n",
    ")"
   ]
  },
  {
   "cell_type": "code",
   "execution_count": null,
   "id": "6",
   "metadata": {},
   "outputs": [],
   "source": [
    "# log into the server with default root credentials\n",
    "root_client = server.login(email=\"info@openmined.org\", password=\"changethis\")"
   ]
  },
  {
   "cell_type": "markdown",
   "id": "7",
   "metadata": {},
   "source": [
    "#### By default registration is disabled. Only `root_client` can register"
   ]
  },
  {
   "cell_type": "code",
   "execution_count": null,
   "id": "8",
   "metadata": {},
   "outputs": [],
   "source": [
    "# The assumed state of this test is a server with signup set to False\n",
    "# however if the tox task has set it to True you need to overwrite the setting\n",
    "# before running the tests\n",
    "# root_client.settings.allow_guest_signup(enable=False)"
   ]
  },
  {
   "cell_type": "code",
   "execution_count": null,
   "id": "9",
   "metadata": {},
   "outputs": [],
   "source": [
    "# Register a new user using root credentials\n",
    "response_1 = root_client.register(\n",
    "    email=\"joker@gotham.com\",\n",
    "    password=\"joker123\",\n",
    "    password_verify=\"joker123\",\n",
    "    name=\"Joker\",\n",
    ")\n",
    "response_1"
   ]
  },
  {
   "cell_type": "code",
   "execution_count": null,
   "id": "10",
   "metadata": {},
   "outputs": [],
   "source": [
    "# Register a new user as a GUEST\n",
    "response_2 = server.register(\n",
    "    email=\"batman@gotham.com\",\n",
    "    password=\"1rIzHAx6uQaP\",\n",
    "    password_verify=\"1rIzHAx6uQaP\",\n",
    "    name=\"Batman\",\n",
    ")\n",
    "response_2"
   ]
  },
  {
   "cell_type": "code",
   "execution_count": null,
   "id": "11",
   "metadata": {},
   "outputs": [],
   "source": [
    "# Register a new user as a GUEST\n",
    "response_3 = server.register(\n",
    "    email=\"robin@gotham.com\",\n",
    "    password=\"5v1ei4OM2N4m\",\n",
    "    password_verify=\"5v1ei4OM2N4m\",\n",
    "    name=\"Robin\",\n",
    ")\n",
    "response_3"
   ]
  },
  {
   "cell_type": "code",
   "execution_count": null,
   "id": "12",
   "metadata": {},
   "outputs": [],
   "source": [
    "assert root_client.settings.get().signup_enabled is False\n",
    "assert isinstance(response_1, sy.SyftSuccess)\n",
    "assert isinstance(response_2, sy.SyftError)\n",
    "assert isinstance(response_3, sy.SyftError)"
   ]
  },
  {
   "cell_type": "markdown",
   "id": "13",
   "metadata": {},
   "source": [
    "#### Now, if root user enable registration, then the guest clients can also register"
   ]
  },
  {
   "cell_type": "code",
   "execution_count": null,
   "id": "14",
   "metadata": {},
   "outputs": [],
   "source": [
    "# Get the current settings of the server\n",
    "root_client.settings.get()"
   ]
  },
  {
   "cell_type": "code",
   "execution_count": null,
   "id": "15",
   "metadata": {},
   "outputs": [],
   "source": [
    "# Enable guest signups\n",
    "root_client.settings.allow_guest_signup(enable=True)"
   ]
  },
  {
   "cell_type": "code",
   "execution_count": null,
   "id": "16",
   "metadata": {},
   "outputs": [],
   "source": [
    "# Refresh the root client to fetch the updated settings\n",
    "root_client = server.login(email=\"info@openmined.org\", password=\"changethis\")"
   ]
  },
  {
   "cell_type": "code",
   "execution_count": null,
   "id": "17",
   "metadata": {},
   "outputs": [],
   "source": [
    "# Register a new user as a GUEST\n",
    "response_2 = server.register(\n",
    "    email=\"batman@gotham.com\",\n",
    "    password=\"1rIzHAx6uQaP\",\n",
    "    password_verify=\"1rIzHAx6uQaP\",\n",
    "    name=\"Batman\",\n",
    ")\n",
    "response_2"
   ]
  },
  {
   "cell_type": "code",
   "execution_count": null,
   "id": "18",
   "metadata": {},
   "outputs": [],
   "source": [
    "# Register a new user as a GUEST\n",
    "response_3 = server.register(\n",
    "    email=\"robin@gotham.com\",\n",
    "    password=\"5v1ei4OM2N4m\",\n",
    "    password_verify=\"5v1ei4OM2N4m\",\n",
    "    name=\"Robin\",\n",
    ")\n",
    "response_3"
   ]
  },
  {
   "cell_type": "code",
   "execution_count": null,
   "id": "19",
   "metadata": {},
   "outputs": [],
   "source": [
    "assert root_client.settings.get().signup_enabled is True\n",
    "assert isinstance(response_1, sy.SyftSuccess)\n",
    "assert isinstance(response_2, sy.SyftSuccess)\n",
    "assert isinstance(response_3, sy.SyftSuccess)"
   ]
  },
  {
   "cell_type": "markdown",
   "id": "20",
   "metadata": {},
   "source": [
    "### Toggle signup again"
   ]
  },
  {
   "cell_type": "code",
   "execution_count": null,
   "id": "21",
   "metadata": {},
   "outputs": [],
   "source": [
    "# Refresh the root client\n",
    "root_client.settings.allow_guest_signup(enable=False)"
   ]
  },
  {
   "cell_type": "code",
   "execution_count": null,
   "id": "22",
   "metadata": {},
   "outputs": [],
   "source": [
    "# Refresh the root client to fetch the updated settings\n",
    "root_client = server.login(email=\"info@openmined.org\", password=\"changethis\")"
   ]
  },
  {
   "cell_type": "code",
   "execution_count": null,
   "id": "23",
   "metadata": {},
   "outputs": [],
   "source": [
    "# Register a new user as a GUEST\n",
    "response_2 = server.register(\n",
    "    email=\"bane@gotham.com\",\n",
    "    password=\"SKY5cC2zQPRP\",\n",
    "    password_verify=\"SKY5cC2zQPRP\",\n",
    "    name=\"Bane\",\n",
    ")\n",
    "response_2"
   ]
  },
  {
   "cell_type": "code",
   "execution_count": null,
   "id": "24",
   "metadata": {},
   "outputs": [],
   "source": [
    "# Register a new user as a GUEST\n",
    "response_3 = server.register(\n",
    "    email=\"riddler@gotham.com\",\n",
    "    password=\"7eVGUuNDyH8P\",\n",
    "    password_verify=\"7eVGUuNDyH8P\",\n",
    "    name=\"Riddler\",\n",
    ")\n",
    "response_3"
   ]
  },
  {
   "cell_type": "code",
   "execution_count": null,
   "id": "25",
   "metadata": {},
   "outputs": [],
   "source": [
    "assert root_client.settings.get().signup_enabled is False\n",
    "assert isinstance(response_1, sy.SyftSuccess)\n",
    "assert isinstance(response_2, sy.SyftError)\n",
    "assert isinstance(response_3, sy.SyftError)"
   ]
  },
  {
   "cell_type": "code",
   "execution_count": null,
   "id": "26",
   "metadata": {},
   "outputs": [],
   "source": [
    "# Cleanup local datasite server\n",
    "\n",
    "if server.server_type.value == \"python\":\n",
    "    server.land()"
   ]
  },
  {
   "cell_type": "code",
   "execution_count": null,
   "id": "27",
   "metadata": {},
   "outputs": [],
   "source": []
  }
 ],
 "metadata": {
  "kernelspec": {
   "display_name": "Python 3 (ipykernel)",
   "language": "python",
   "name": "python3"
  },
  "language_info": {
   "codemirror_mode": {
    "name": "ipython",
    "version": 3
   },
   "file_extension": ".py",
   "mimetype": "text/x-python",
   "name": "python",
   "nbconvert_exporter": "python",
   "pygments_lexer": "ipython3",
   "version": "3.9.16"
  },
  "toc": {
   "base_numbering": 1,
   "nav_menu": {},
   "number_sections": true,
   "sideBar": true,
   "skip_h1_title": false,
   "title_cell": "Table of Contents",
   "title_sidebar": "Contents",
   "toc_cell": false,
   "toc_position": {},
   "toc_section_display": true,
   "toc_window_display": false
  }
 },
 "nbformat": 4,
 "nbformat_minor": 5
}

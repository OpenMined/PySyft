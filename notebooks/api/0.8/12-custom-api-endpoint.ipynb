{
 "cells": [
  {
   "cell_type": "markdown",
   "metadata": {},
   "source": [
    "## Custom API Notebook"
   ]
  },
  {
   "cell_type": "markdown",
   "metadata": {},
   "source": [
    "### Initialize the Server"
   ]
  },
  {
   "cell_type": "code",
   "execution_count": null,
   "metadata": {},
   "outputs": [],
   "source": [
    "# stdlib\n",
    "from typing import Any\n",
    "\n",
    "# syft absolute\n",
    "import syft as sy\n",
    "from syft import SyftError\n",
    "from syft import SyftSuccess\n",
    "\n",
    "server = sy.orchestra.launch(\n",
    "    name=\"test-datasite-1\",\n",
    "    dev_mode=True,\n",
    "    create_producer=True,\n",
    "    n_consumers=3,\n",
    "    reset=True,\n",
    ")\n",
    "\n",
    "datasite_client = server.login(email=\"info@openmined.org\", password=\"changethis\")\n",
    "datasite_client.register(\n",
    "    email=\"user@openmined.org\",\n",
    "    password=\"verysecurepassword\",\n",
    "    password_verify=\"verysecurepassword\",\n",
    "    name=\"New User\",\n",
    ")\n",
    "datasite_guest = server.login(email=\"user@openmined.org\", password=\"verysecurepassword\")"
   ]
  },
  {
   "cell_type": "markdown",
   "metadata": {},
   "source": [
    "### Create a public custom API Endpoint by using the decorator\n",
    "\n",
    "This allows server admin to create a new public endpoint by using only the decorator."
   ]
  },
  {
   "cell_type": "code",
   "execution_count": null,
   "metadata": {},
   "outputs": [],
   "source": [
    "@sy.api_endpoint(\n",
    "    path=\"first.query\",\n",
    "    settings={\"key\": \"value\"},\n",
    ")\n",
    "def public_endpoint_method(\n",
    "    context,\n",
    "    query: str,\n",
    ") -> Any:\n",
    "    return context.settings[\"key\"] == \"value\"\n",
    "\n",
    "\n",
    "# Add it to the server.\n",
    "response = datasite_client.api.services.api.add(endpoint=public_endpoint_method)\n",
    "response"
   ]
  },
  {
   "cell_type": "code",
   "execution_count": null,
   "metadata": {},
   "outputs": [],
   "source": [
    "assert isinstance(response, SyftSuccess)"
   ]
  },
  {
   "cell_type": "code",
   "execution_count": null,
   "metadata": {},
   "outputs": [],
   "source": [
    "datasite_client.api.services.api.api_endpoints()"
   ]
  },
  {
   "cell_type": "code",
   "execution_count": null,
   "metadata": {},
   "outputs": [],
   "source": [
    "assert len(datasite_client.api.services.api.api_endpoints()) == 1"
   ]
  },
  {
   "cell_type": "code",
   "execution_count": null,
   "metadata": {},
   "outputs": [],
   "source": [
    "# Once api refresh is done, remove this cell\n",
    "datasite_client = server.login(email=\"info@openmined.org\", password=\"changethis\")\n",
    "datasite_guest = server.login(email=\"user@openmined.org\", password=\"verysecurepassword\")"
   ]
  },
  {
   "cell_type": "code",
   "execution_count": null,
   "metadata": {},
   "outputs": [],
   "source": [
    "assert datasite_client.api.services.first.query(query=\"SELECT *\")"
   ]
  },
  {
   "cell_type": "code",
   "execution_count": null,
   "metadata": {},
   "outputs": [],
   "source": [
    "result = datasite_guest.api.services.first.query(query=\"SELECT *\")\n",
    "result"
   ]
  },
  {
   "cell_type": "markdown",
   "metadata": {},
   "source": [
    "### Create public/private Custom API Endpoint using TwinAPIEndpoint\n",
    "\n",
    "This allows the admin to create a public/private endpoint interface where the users can iteract with."
   ]
  },
  {
   "cell_type": "code",
   "execution_count": null,
   "metadata": {},
   "outputs": [],
   "source": [
    "@sy.api_endpoint_method(settings={\"Hello\": \"Public\"})\n",
    "def public_function(\n",
    "    context,\n",
    ") -> str:\n",
    "    return \"Public Function Execution\"\n",
    "\n",
    "\n",
    "@sy.api_endpoint_method(settings={\"Hello\": \"Private\"})\n",
    "def private_function(\n",
    "    context,\n",
    ") -> str:\n",
    "    return \"Private Function Execution\"\n",
    "\n",
    "\n",
    "new_endpoint = sy.TwinAPIEndpoint(\n",
    "    path=\"third.query\",\n",
    "    mock_function=public_function,\n",
    "    private_function=private_function,\n",
    "    description=\"Lore ipsulum ...\",\n",
    ")\n",
    "\n",
    "# # Add it to the server.\n",
    "response = datasite_client.api.services.api.add(endpoint=new_endpoint)"
   ]
  },
  {
   "cell_type": "code",
   "execution_count": null,
   "metadata": {},
   "outputs": [],
   "source": [
    "datasite_client.api.services.api.api_endpoints()"
   ]
  },
  {
   "cell_type": "code",
   "execution_count": null,
   "metadata": {},
   "outputs": [],
   "source": [
    "assert isinstance(response, SyftSuccess)\n",
    "assert len(datasite_client.api.services.api.api_endpoints()) == 2"
   ]
  },
  {
   "cell_type": "code",
   "execution_count": null,
   "metadata": {},
   "outputs": [],
   "source": [
    "# Once api refresh is done, remove this cell\n",
    "datasite_client.refresh()\n",
    "datasite_guest.refresh()"
   ]
  },
  {
   "cell_type": "code",
   "execution_count": null,
   "metadata": {},
   "outputs": [],
   "source": [
    "datasite_client.api.services.third.query()"
   ]
  },
  {
   "cell_type": "code",
   "execution_count": null,
   "metadata": {},
   "outputs": [],
   "source": [
    "assert datasite_client.api.services.third.query() == \"Private Function Execution\""
   ]
  },
  {
   "cell_type": "code",
   "execution_count": null,
   "metadata": {},
   "outputs": [],
   "source": [
    "assert datasite_guest.api.services.third.query() == \"Public Function Execution\""
   ]
  },
  {
   "cell_type": "code",
   "execution_count": null,
   "metadata": {},
   "outputs": [],
   "source": [
    "datasite_guest.api.services.third.query()"
   ]
  },
  {
   "cell_type": "code",
   "execution_count": null,
   "metadata": {},
   "outputs": [],
   "source": [
    "@sy.syft_function_single_use(\n",
    "    endpoint=datasite_guest.api.services.third.query,\n",
    ")\n",
    "def job_function(endpoint):\n",
    "    return endpoint()\n",
    "\n",
    "\n",
    "# Create a new project\n",
    "new_project = sy.Project(\n",
    "    name=\"My Cool UN Project\",\n",
    "    description=\"Hi, I want to calculate the trade volume in million's with my cool code.\",\n",
    "    members=[datasite_guest],\n",
    ")\n",
    "\n",
    "result = new_project.create_code_request(job_function, datasite_guest)\n",
    "assert isinstance(result, SyftSuccess)"
   ]
  },
  {
   "cell_type": "code",
   "execution_count": null,
   "metadata": {},
   "outputs": [],
   "source": [
    "res = None\n",
    "for r in datasite_client.requests.get_all():\n",
    "    if r.requesting_user_email == \"user@openmined.org\":\n",
    "        res = r.approve()\n",
    "\n",
    "assert res is not None, res\n",
    "res"
   ]
  },
  {
   "cell_type": "code",
   "execution_count": null,
   "metadata": {},
   "outputs": [],
   "source": [
    "result = datasite_guest.code.job_function(\n",
    "    endpoint=datasite_client.api.services.third.query\n",
    ")\n",
    "result"
   ]
  },
  {
   "cell_type": "code",
   "execution_count": null,
   "metadata": {},
   "outputs": [],
   "source": [
    "assert not isinstance(result, SyftError), result"
   ]
  },
  {
   "cell_type": "code",
   "execution_count": null,
   "metadata": {},
   "outputs": [],
   "source": [
    "assert result.get() == \"Private Function Execution\""
   ]
  },
  {
   "cell_type": "code",
   "execution_count": null,
   "metadata": {},
   "outputs": [],
   "source": [
    "with sy.raises(sy.SyftException, show=True):\n",
    "    datasite_guest.api.services.third.query.private()"
   ]
  },
  {
   "cell_type": "code",
   "execution_count": null,
   "metadata": {},
   "outputs": [],
   "source": [
    "result = datasite_client.api.services.api.delete(endpoint_path=\"third.query\")\n",
    "assert isinstance(result, SyftSuccess)\n",
    "result"
   ]
  },
  {
   "cell_type": "code",
   "execution_count": null,
   "metadata": {},
   "outputs": [],
   "source": [
    "assert len(datasite_client.api.services.api.api_endpoints()) == 1"
   ]
  },
  {
   "cell_type": "markdown",
   "metadata": {},
   "source": [
    "## Updating Endpoints"
   ]
  },
  {
   "cell_type": "markdown",
   "metadata": {},
   "source": [
    "First we'll create a new endpoint"
   ]
  },
  {
   "cell_type": "code",
   "execution_count": null,
   "metadata": {},
   "outputs": [],
   "source": [
    "@sy.api_endpoint(\n",
    "    path=\"test.update\",\n",
    "    settings={\"key\": \"value\"},\n",
    ")\n",
    "def new_public_function(\n",
    "    context,\n",
    "    query: str,\n",
    ") -> Any:\n",
    "    return context.settings[\"key\"] == \"value\"\n",
    "\n",
    "\n",
    "# Add it to the server.\n",
    "response = datasite_client.api.services.api.add(endpoint=new_public_function)\n",
    "\n",
    "assert isinstance(response, SyftSuccess), response\n",
    "response"
   ]
  },
  {
   "cell_type": "markdown",
   "metadata": {},
   "source": [
    "#### Update the public function"
   ]
  },
  {
   "cell_type": "code",
   "execution_count": null,
   "metadata": {},
   "outputs": [],
   "source": [
    "@sy.api_endpoint_method(settings={\"Hello\": \"Public\"})\n",
    "def updated_public_function(\n",
    "    context,\n",
    ") -> str:\n",
    "    return \"Updated Public Function Execution\"\n",
    "\n",
    "\n",
    "response = datasite_client.api.services.api.update(\n",
    "    endpoint_path=\"test.update\", mock_function=updated_public_function\n",
    ")\n",
    "assert isinstance(response, SyftSuccess), response\n",
    "response"
   ]
  },
  {
   "cell_type": "markdown",
   "metadata": {},
   "source": [
    "#### Update the private function"
   ]
  },
  {
   "cell_type": "code",
   "execution_count": null,
   "metadata": {},
   "outputs": [],
   "source": [
    "@sy.api_endpoint_method(settings={\"Hello\": \"Private\"})\n",
    "def updated_private_function(\n",
    "    context,\n",
    ") -> str:\n",
    "    return \"Updated Private Function Execution\"\n",
    "\n",
    "\n",
    "response = datasite_client.api.services.api.update(\n",
    "    endpoint_path=\"test.update\", private_function=updated_private_function\n",
    ")\n",
    "assert isinstance(response, SyftSuccess), response\n",
    "response"
   ]
  },
  {
   "cell_type": "markdown",
   "metadata": {},
   "source": [
    "#### Update both functions with a pair that has a new signature"
   ]
  },
  {
   "cell_type": "code",
   "execution_count": null,
   "metadata": {},
   "outputs": [],
   "source": [
    "@sy.api_endpoint_method(settings={\"Hello\": \"Public\"})\n",
    "def new_sig_public_function(context, new_parameter) -> str:\n",
    "    return \"Updated Public Function Execution\"\n",
    "\n",
    "\n",
    "@sy.api_endpoint_method(settings={\"Hello\": \"Private\"})\n",
    "def new_sig_private_function(context, new_parameter) -> str:\n",
    "    return \"Updated Private Function Execution\"\n",
    "\n",
    "\n",
    "response = datasite_client.api.services.api.update(\n",
    "    endpoint_path=\"test.update\",\n",
    "    mock_function=new_sig_public_function,\n",
    "    private_function=new_sig_private_function,\n",
    ")\n",
    "assert isinstance(response, SyftSuccess), response\n",
    "response"
   ]
  },
  {
   "cell_type": "markdown",
   "metadata": {},
   "source": [
    "### Invalid update attempts\n",
    "- Both functions empty\n",
    "- Signature mismatch\n",
    "- Non existing endpoint"
   ]
  },
  {
   "cell_type": "markdown",
   "metadata": {},
   "source": [
    "#### Both functions are empty"
   ]
  },
  {
   "cell_type": "code",
   "execution_count": null,
   "metadata": {},
   "outputs": [],
   "source": [
    "with sy.raises(sy.SyftException, show=True):\n",
    "    response = datasite_client.api.services.api.update(endpoint_path=\"test.update\")"
   ]
  },
  {
   "cell_type": "markdown",
   "metadata": {},
   "source": [
    "#### Signature mismatch"
   ]
  },
  {
   "cell_type": "code",
   "execution_count": null,
   "metadata": {},
   "outputs": [],
   "source": [
    "@sy.api_endpoint_method(settings={\"Hello\": \"Public\"})\n",
    "def bad_public_function(context, foo) -> str:\n",
    "    return \"Updated Public Function Execution\"\n",
    "\n",
    "\n",
    "with sy.raises(sy.SyftException, show=True):\n",
    "    response = datasite_client.api.services.api.update(\n",
    "        endpoint_path=\"test.update\", mock_function=bad_public_function\n",
    "    )"
   ]
  },
  {
   "cell_type": "markdown",
   "metadata": {},
   "source": [
    "Non Existing endpoint"
   ]
  },
  {
   "cell_type": "code",
   "execution_count": null,
   "metadata": {},
   "outputs": [],
   "source": [
    "with sy.raises(sy.SyftException, show=True):\n",
    "    response = datasite_client.api.services.api.update(\n",
    "        endpoint_path=\"nonexistent\", mock_function=bad_public_function\n",
    "    )"
   ]
  },
  {
   "cell_type": "markdown",
   "metadata": {},
   "source": [
    "# Syft Function/API Logs"
   ]
  },
  {
   "cell_type": "code",
   "execution_count": null,
   "metadata": {},
   "outputs": [],
   "source": [
    "@sy.api_endpoint_method()\n",
    "def public_log_function(\n",
    "    context,\n",
    ") -> str:\n",
    "    print(\"Logging Public Function Call\")\n",
    "    return \"Public Function Execution\"\n",
    "\n",
    "\n",
    "@sy.api_endpoint_method()\n",
    "def private_log_function(\n",
    "    context,\n",
    ") -> str:\n",
    "    print(\"Logging Private Function Call\")\n",
    "    return \"Private Function Execution\"\n",
    "\n",
    "\n",
    "new_endpoint = sy.TwinAPIEndpoint(\n",
    "    path=\"test.log\",\n",
    "    mock_function=public_log_function,\n",
    "    private_function=private_log_function,\n",
    "    description=\"Lore ipsulum ...\",\n",
    ")\n",
    "\n",
    "# # Add it to the server.\n",
    "response = datasite_client.api.services.api.add(endpoint=new_endpoint)"
   ]
  },
  {
   "cell_type": "code",
   "execution_count": null,
   "metadata": {},
   "outputs": [],
   "source": [
    "@sy.syft_function_single_use(endpoint=datasite_client.api.services.test.log)\n",
    "def test_log_call(endpoint):  # noqa: F811\n",
    "    print(\"In Syft Function Context\")\n",
    "    endpoint()\n",
    "    print(\"After API endpoint call\")\n",
    "    return True\n",
    "\n",
    "\n",
    "@sy.syft_function_single_use(endpoint=datasite_client.api.services.test.log)\n",
    "def test_log_call_mock(endpoint):  # noqa: F811\n",
    "    print(\"In Syft Function Context\")\n",
    "    endpoint.mock()\n",
    "    print(\"After API endpoint call\")\n",
    "    return True\n",
    "\n",
    "\n",
    "@sy.syft_function_single_use(endpoint=datasite_client.api.services.test.log)\n",
    "def test_log_call_private(endpoint):  # noqa: F811\n",
    "    print(\"In Syft Function Context\")\n",
    "    endpoint.private()\n",
    "    print(\"After API endpoint call\")\n",
    "    return True\n",
    "\n",
    "\n",
    "# Create a project\n",
    "project = sy.Project(\n",
    "    name=\"My Cool Project\",\n",
    "    description=\"\"\"Hi, I want to calculate the mean of your private data,\\\n",
    "                    pretty please!\"\"\",\n",
    "    members=[datasite_client],\n",
    ")\n",
    "project.create_code_request(test_log_call, datasite_client)\n",
    "project.create_code_request(test_log_call_mock, datasite_client)\n",
    "project.create_code_request(test_log_call_private, datasite_client)"
   ]
  },
  {
   "cell_type": "code",
   "execution_count": null,
   "metadata": {},
   "outputs": [],
   "source": [
    "log_call_job = datasite_client.code.test_log_call(\n",
    "    endpoint=datasite_client.api.services.test.log, blocking=False\n",
    ")"
   ]
  },
  {
   "cell_type": "code",
   "execution_count": null,
   "metadata": {},
   "outputs": [],
   "source": [
    "log_call_mock_job = datasite_client.code.test_log_call_mock(\n",
    "    endpoint=datasite_client.api.services.test.log, blocking=False\n",
    ")"
   ]
  },
  {
   "cell_type": "code",
   "execution_count": null,
   "metadata": {},
   "outputs": [],
   "source": [
    "log_call_private_job = datasite_client.code.test_log_call_private(\n",
    "    endpoint=datasite_client.api.services.test.log, blocking=False\n",
    ")"
   ]
  },
  {
   "cell_type": "code",
   "execution_count": null,
   "metadata": {},
   "outputs": [],
   "source": [
    "# stdlib\n",
    "import time\n",
    "\n",
    "# Iterate over the Jobs waiting them to finish their pipelines.\n",
    "job_pool = [\n",
    "    (log_call_job, \"Logging Private Function Call\"),\n",
    "    (log_call_mock_job, \"Logging Public Function Call\"),\n",
    "    (log_call_private_job, \"Logging Private Function Call\"),\n",
    "]\n",
    "for job, expected_log in job_pool:\n",
    "    updated_job = datasite_client.api.services.job.get(job.id)\n",
    "    while updated_job.status.value != \"completed\":\n",
    "        updated_job = datasite_client.api.services.job.get(job.id)\n",
    "        time.sleep(1)\n",
    "    # If they're completed. Then, check if the TwinAPI print appears in the job logs.\n",
    "    assert expected_log in datasite_client.api.services.job.get(job.id).logs(\n",
    "        _print=False\n",
    "    )"
   ]
  }
 ],
 "metadata": {
  "kernelspec": {
   "display_name": "Python 3 (ipykernel)",
   "language": "python",
   "name": "python3"
  },
  "language_info": {
   "codemirror_mode": {
    "name": "ipython",
    "version": 3
   },
   "file_extension": ".py",
   "mimetype": "text/x-python",
   "name": "python",
   "nbconvert_exporter": "python",
   "pygments_lexer": "ipython3",
   "version": "3.12.4"
  }
 },
 "nbformat": 4,
 "nbformat_minor": 4
}

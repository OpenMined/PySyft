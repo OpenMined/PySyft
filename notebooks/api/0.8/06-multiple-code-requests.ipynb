{
 "cells": [
  {
   "cell_type": "code",
   "execution_count": null,
   "id": "0",
   "metadata": {
    "tags": []
   },
   "outputs": [],
   "source": [
    "SYFT_VERSION = \">=0.8.2.b0,<0.9\"\n",
    "package_string = f'\"syft{SYFT_VERSION}\"'\n",
    "# %pip install {package_string} -q"
   ]
  },
  {
   "cell_type": "code",
   "execution_count": null,
   "id": "1",
   "metadata": {
    "tags": []
   },
   "outputs": [],
   "source": [
    "# third party\n",
    "import numpy as np\n",
    "\n",
    "# syft absolute\n",
    "import syft as sy\n",
    "\n",
    "sy.requires(SYFT_VERSION)"
   ]
  },
  {
   "cell_type": "code",
   "execution_count": null,
   "id": "2",
   "metadata": {
    "tags": []
   },
   "outputs": [],
   "source": [
    "node = sy.orchestra.launch(name=\"test-domain-1\", port=\"auto\", reset=True, dev_mode=True)"
   ]
  },
  {
   "cell_type": "code",
   "execution_count": null,
   "id": "3",
   "metadata": {
    "tags": []
   },
   "outputs": [],
   "source": [
    "root_client = node.login(email=\"info@openmined.org\", password=\"changethis\")"
   ]
  },
  {
   "cell_type": "code",
   "execution_count": null,
   "id": "4",
   "metadata": {
    "tags": []
   },
   "outputs": [],
   "source": [
    "sample_data = np.array([6.0, 34, 78, 91.3, 21.5])\n",
    "mock_sample_data = np.array([7.0, 54, 88, 11, 28.3])"
   ]
  },
  {
   "cell_type": "code",
   "execution_count": null,
   "id": "5",
   "metadata": {
    "tags": []
   },
   "outputs": [],
   "source": [
    "dataset = sy.Dataset(name=\"My Sample Dataset\")\n",
    "asset = sy.Asset(name=\"Sample Data\")\n",
    "asset.set_obj(sample_data)\n",
    "asset.set_mock(mock_sample_data, mock_is_real=False)\n",
    "asset.set_shape(sample_data.shape)\n",
    "dataset.add_asset(asset)"
   ]
  },
  {
   "cell_type": "code",
   "execution_count": null,
   "id": "6",
   "metadata": {},
   "outputs": [],
   "source": [
    "dataset2 = sy.Dataset(name=\"Age Dataset\")\n",
    "asset2 = sy.Asset(name=\"Sample Data - II\")\n",
    "asset2.set_obj(sample_data * 10)\n",
    "asset2.set_mock(mock_sample_data * 10, mock_is_real=False)\n",
    "asset2.set_shape(sample_data.shape)\n",
    "dataset2.add_asset(asset2)"
   ]
  },
  {
   "cell_type": "code",
   "execution_count": null,
   "id": "7",
   "metadata": {
    "tags": []
   },
   "outputs": [],
   "source": [
    "for dset in [dataset, dataset2]:\n",
    "    root_client.upload_dataset(dset)"
   ]
  },
  {
   "cell_type": "code",
   "execution_count": null,
   "id": "8",
   "metadata": {
    "tags": []
   },
   "outputs": [],
   "source": [
    "root_client.register(\n",
    "    name=\"Sheldon Cooper\",\n",
    "    email=\"sheldon@caltech.edu\",\n",
    "    password=\"abc123\",\n",
    "    password_verify=\"abc123\",\n",
    "    institution=\"Caltech\",\n",
    "    website=\"https://www.caltech.edu/\",\n",
    ")"
   ]
  },
  {
   "cell_type": "code",
   "execution_count": null,
   "id": "9",
   "metadata": {
    "tags": []
   },
   "outputs": [],
   "source": [
    "ds_client = node.login(email=\"sheldon@caltech.edu\", password=\"abc123\")"
   ]
  },
  {
   "cell_type": "code",
   "execution_count": null,
   "id": "10",
   "metadata": {
    "tags": []
   },
   "outputs": [],
   "source": [
    "ds_client.datasets"
   ]
  },
  {
   "cell_type": "code",
   "execution_count": null,
   "id": "11",
   "metadata": {},
   "outputs": [],
   "source": [
    "datasets = ds_client.datasets.search(name=\"My Sample Dataset\")"
   ]
  },
  {
   "cell_type": "code",
   "execution_count": null,
   "id": "12",
   "metadata": {},
   "outputs": [],
   "source": [
    "assert len(datasets) == 1\n",
    "dataset_ptr = datasets[0]\n",
    "dataset_ptr"
   ]
  },
  {
   "cell_type": "code",
   "execution_count": null,
   "id": "13",
   "metadata": {
    "tags": []
   },
   "outputs": [],
   "source": [
    "# The Data Scientist does some basic statistics function on the object\n",
    "\n",
    "\n",
    "@sy.syft_function(\n",
    "    input_policy=sy.ExactMatch(data=dataset_ptr.assets[0]),\n",
    "    output_policy=sy.SingleExecutionExactOutput(),\n",
    ")\n",
    "def calculate_sum(data):\n",
    "    # third party\n",
    "    import opendp.prelude as dp\n",
    "\n",
    "    dp.enable_features(\"contrib\")\n",
    "\n",
    "    # compute sum\n",
    "    res = data.sum()\n",
    "    base_lap = dp.m.make_base_laplace(\n",
    "        dp.atom_domain(T=float),\n",
    "        dp.absolute_distance(T=float),\n",
    "        scale=10.0,\n",
    "    )\n",
    "    noise_result = base_lap(res)\n",
    "    return noise_result"
   ]
  },
  {
   "cell_type": "code",
   "execution_count": null,
   "id": "14",
   "metadata": {
    "tags": []
   },
   "outputs": [],
   "source": [
    "new_project = sy.Project(\n",
    "    name=\"My Cool  Project\",\n",
    "    description=\"\"\"Hi, I want to do statistics operations(like sum, mean) on your private data.\"\"\",\n",
    "    members=[ds_client],\n",
    ")\n",
    "new_project"
   ]
  },
  {
   "cell_type": "code",
   "execution_count": null,
   "id": "15",
   "metadata": {
    "tags": []
   },
   "outputs": [],
   "source": [
    "new_project.create_code_request(calculate_sum, ds_client)"
   ]
  },
  {
   "cell_type": "code",
   "execution_count": null,
   "id": "16",
   "metadata": {
    "tags": []
   },
   "outputs": [],
   "source": [
    "project = new_project.send()\n",
    "\n",
    "project"
   ]
  },
  {
   "cell_type": "code",
   "execution_count": null,
   "id": "17",
   "metadata": {
    "tags": []
   },
   "outputs": [],
   "source": [
    "assert isinstance(project, sy.service.project.project.Project)"
   ]
  },
  {
   "cell_type": "code",
   "execution_count": null,
   "id": "18",
   "metadata": {
    "tags": []
   },
   "outputs": [],
   "source": [
    "assert len(project.events) == 1\n",
    "assert isinstance(project.events[0], sy.service.project.project.ProjectRequest)"
   ]
  },
  {
   "cell_type": "code",
   "execution_count": null,
   "id": "19",
   "metadata": {
    "tags": []
   },
   "outputs": [],
   "source": [
    "# The Data Scientist would like to submit another code request after the start of the project\n",
    "\n",
    "\n",
    "@sy.syft_function(\n",
    "    input_policy=sy.ExactMatch(data=dataset_ptr.assets[0]),\n",
    "    output_policy=sy.SingleExecutionExactOutput(),\n",
    ")\n",
    "def calculate_mean(data):\n",
    "    # third party\n",
    "    import opendp.prelude as dp\n",
    "\n",
    "    dp.enable_features(\"contrib\")\n",
    "\n",
    "    # compute mean\n",
    "    mean = data.mean()\n",
    "    base_lap = dp.m.make_base_laplace(\n",
    "        dp.atom_domain(T=float),\n",
    "        dp.absolute_distance(T=float),\n",
    "        scale=10.0,\n",
    "    )\n",
    "    noise_result = base_lap(mean)\n",
    "    return noise_result"
   ]
  },
  {
   "cell_type": "code",
   "execution_count": null,
   "id": "20",
   "metadata": {
    "tags": []
   },
   "outputs": [],
   "source": [
    "res = project.create_code_request(calculate_mean, ds_client)\n",
    "res"
   ]
  },
  {
   "cell_type": "code",
   "execution_count": null,
   "id": "21",
   "metadata": {
    "tags": []
   },
   "outputs": [],
   "source": [
    "assert isinstance(res, sy.SyftSuccess)"
   ]
  },
  {
   "cell_type": "code",
   "execution_count": null,
   "id": "22",
   "metadata": {
    "tags": []
   },
   "outputs": [],
   "source": [
    "assert len(project.events) == 2\n",
    "assert isinstance(project.events[1], sy.service.project.project.ProjectRequest)"
   ]
  },
  {
   "cell_type": "code",
   "execution_count": null,
   "id": "23",
   "metadata": {},
   "outputs": [],
   "source": [
    "# The Domain Owner retrieves by name or uid for approval\n",
    "root_client_project = root_client.projects.get_by_uid(project.id)\n",
    "assert isinstance(root_client_project, sy.service.project.project.Project)"
   ]
  },
  {
   "cell_type": "code",
   "execution_count": null,
   "id": "24",
   "metadata": {},
   "outputs": [],
   "source": [
    "assert len(root_client_project.requests) == 2"
   ]
  },
  {
   "cell_type": "code",
   "execution_count": null,
   "id": "25",
   "metadata": {
    "tags": []
   },
   "outputs": [],
   "source": [
    "# The Data Owner approves both requests\n",
    "request_1 = root_client_project.requests[0].approve()\n",
    "request_1"
   ]
  },
  {
   "cell_type": "code",
   "execution_count": null,
   "id": "26",
   "metadata": {
    "tags": []
   },
   "outputs": [],
   "source": [
    "assert isinstance(request_1, sy.SyftSuccess)"
   ]
  },
  {
   "cell_type": "code",
   "execution_count": null,
   "id": "27",
   "metadata": {
    "tags": []
   },
   "outputs": [],
   "source": [
    "request_2 = root_client_project.requests[1].approve()\n",
    "request_2"
   ]
  },
  {
   "cell_type": "code",
   "execution_count": null,
   "id": "28",
   "metadata": {
    "tags": []
   },
   "outputs": [],
   "source": [
    "assert isinstance(request_2, sy.SyftSuccess)"
   ]
  },
  {
   "cell_type": "code",
   "execution_count": null,
   "id": "29",
   "metadata": {
    "tags": []
   },
   "outputs": [],
   "source": [
    "sum_ptr = ds_client.code.calculate_sum(data=dataset_ptr.assets[0])"
   ]
  },
  {
   "cell_type": "code",
   "execution_count": null,
   "id": "30",
   "metadata": {},
   "outputs": [],
   "source": [
    "sum_ptr"
   ]
  },
  {
   "cell_type": "code",
   "execution_count": null,
   "id": "31",
   "metadata": {
    "tags": []
   },
   "outputs": [],
   "source": [
    "sum_result = sum_ptr.get()"
   ]
  },
  {
   "cell_type": "code",
   "execution_count": null,
   "id": "32",
   "metadata": {
    "tags": []
   },
   "outputs": [],
   "source": [
    "assert isinstance(sum_result, float)"
   ]
  },
  {
   "cell_type": "code",
   "execution_count": null,
   "id": "33",
   "metadata": {},
   "outputs": [],
   "source": [
    "datasets = ds_client.datasets.search(name=\"Age Dataset\")\n",
    "dataset_ptr2 = datasets[0]\n",
    "dataset_ptr2"
   ]
  },
  {
   "cell_type": "code",
   "execution_count": null,
   "id": "34",
   "metadata": {},
   "outputs": [],
   "source": [
    "# Validate if input policy is violated\n",
    "sum_ptr = ds_client.code.calculate_sum(data=dataset_ptr2.assets[0])\n",
    "sum_ptr"
   ]
  },
  {
   "cell_type": "code",
   "execution_count": null,
   "id": "35",
   "metadata": {},
   "outputs": [],
   "source": [
    "assert isinstance(sum_ptr, sy.SyftError), (sum_ptr, str(dataset_ptr2.assets[0]))"
   ]
  },
  {
   "cell_type": "code",
   "execution_count": null,
   "id": "36",
   "metadata": {
    "tags": []
   },
   "outputs": [],
   "source": [
    "mean_ptr = ds_client.code.calculate_mean(data=dataset_ptr.assets[0])"
   ]
  },
  {
   "cell_type": "code",
   "execution_count": null,
   "id": "37",
   "metadata": {
    "tags": []
   },
   "outputs": [],
   "source": [
    "mean_result = mean_ptr.get()"
   ]
  },
  {
   "cell_type": "code",
   "execution_count": null,
   "id": "38",
   "metadata": {
    "tags": []
   },
   "outputs": [],
   "source": [
    "assert isinstance(mean_result, float)"
   ]
  },
  {
   "cell_type": "code",
   "execution_count": null,
   "id": "39",
   "metadata": {
    "tags": []
   },
   "outputs": [],
   "source": [
    "if node.deployment_type.value in [\"python\", \"single_container\"]:\n",
    "    node.land()"
   ]
  },
  {
   "cell_type": "code",
   "execution_count": null,
   "id": "40",
   "metadata": {},
   "outputs": [],
   "source": []
  }
 ],
 "metadata": {
  "kernelspec": {
   "display_name": "Python 3 (ipykernel)",
   "language": "python",
   "name": "python3"
  },
  "language_info": {
   "codemirror_mode": {
    "name": "ipython",
    "version": 3
   },
   "file_extension": ".py",
   "mimetype": "text/x-python",
   "name": "python",
   "nbconvert_exporter": "python",
   "pygments_lexer": "ipython3",
   "version": "3.10.13"
  },
  "toc": {
   "base_numbering": 1,
   "nav_menu": {},
   "number_sections": true,
   "sideBar": true,
   "skip_h1_title": false,
   "title_cell": "Table of Contents",
   "title_sidebar": "Contents",
   "toc_cell": false,
   "toc_position": {},
   "toc_section_display": true,
   "toc_window_display": false
  }
 },
 "nbformat": 4,
 "nbformat_minor": 5
}

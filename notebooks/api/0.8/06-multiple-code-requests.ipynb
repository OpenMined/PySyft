{
 "cells": [
  {
   "cell_type": "code",
   "execution_count": null,
   "id": "c29df127-8a94-4206-b07b-e19d345e69e9",
   "metadata": {
    "tags": []
   },
   "outputs": [],
   "source": [
    "SYFT_VERSION = \">=0.8.1b0,<0.9\"\n",
    "package_string = f'\"syft{SYFT_VERSION}\"'\n",
    "%pip install {package_string} -f https://whls.blob.core.windows.net/unstable/index.html -q"
   ]
  },
  {
   "cell_type": "code",
   "execution_count": null,
   "id": "bb9f97f1-e947-49d4-8f3e-eb52dbf8366f",
   "metadata": {
    "tags": []
   },
   "outputs": [],
   "source": [
    "import syft as sy\n",
    "import numpy as np\n",
    "sy.requires(SYFT_VERSION)"
   ]
  },
  {
   "cell_type": "code",
   "execution_count": null,
   "id": "447a820c-05a8-40e2-9e7a-8b5213a03754",
   "metadata": {
    "tags": []
   },
   "outputs": [],
   "source": [
    "node = sy.orchestra.launch(name=\"test-domain-1\", port=\"auto\", dev_mode=True)"
   ]
  },
  {
   "cell_type": "code",
   "execution_count": null,
   "id": "79c7f0f6-7850-42c3-97bd-9d23e356b050",
   "metadata": {
    "tags": []
   },
   "outputs": [],
   "source": [
    "root_client = node.login(email=\"info@openmined.org\", password=\"changethis\")"
   ]
  },
  {
   "cell_type": "code",
   "execution_count": null,
   "id": "80d36c6d-87a4-4b36-af49-ab5c5f4950d0",
   "metadata": {
    "tags": []
   },
   "outputs": [],
   "source": [
    "sample_data = np.array([6., 34, 78, 91.3, 21.5])\n",
    "mock_sample_data = np.array([7., 54, 88, 11, 28.3])"
   ]
  },
  {
   "cell_type": "code",
   "execution_count": null,
   "id": "cb533afc-99a5-4596-acea-a7821c8fdeea",
   "metadata": {
    "tags": []
   },
   "outputs": [],
   "source": [
    "dataset = sy.Dataset(name=\"My Sample Dataset\")\n",
    "asset = sy.Asset(name=\"Sample Data\")\n",
    "asset.set_obj(sample_data)\n",
    "asset.set_mock(mock_sample_data, mock_is_real=False)\n",
    "asset.set_shape(sample_data.shape)\n",
    "dataset.add_asset(asset)"
   ]
  },
  {
   "cell_type": "code",
   "execution_count": null,
   "id": "02ed595d-9b7e-4641-81d2-0f8364c77fcc",
   "metadata": {
    "tags": []
   },
   "outputs": [],
   "source": [
    "root_client.upload_dataset(dataset)"
   ]
  },
  {
   "cell_type": "code",
   "execution_count": null,
   "id": "7ae6fb0a-b1d6-476e-aeed-db5f7a842fd8",
   "metadata": {
    "tags": []
   },
   "outputs": [],
   "source": [
    "root_client.register(name=\"Jane Doe\",\n",
    "                             email=\"jane@caltech.edu\",\n",
    "                             password=\"abc123\",\n",
    "                             institution=\"Caltech\",\n",
    "                             website=\"https://www.caltech.edu/\")"
   ]
  },
  {
   "cell_type": "code",
   "execution_count": null,
   "id": "5e794c2e-05f6-4f2f-9e37-20624478dd8c",
   "metadata": {
    "tags": []
   },
   "outputs": [],
   "source": [
    "ds_client = node.login(email=\"jane@caltech.edu\", password=\"abc123\")"
   ]
  },
  {
   "cell_type": "code",
   "execution_count": null,
   "id": "36f1a645-bfd1-4b35-98a6-97c99d3f52c2",
   "metadata": {
    "tags": []
   },
   "outputs": [],
   "source": [
    "ds_client.datasets"
   ]
  },
  {
   "cell_type": "code",
   "execution_count": null,
   "id": "071f6a02-4e1a-4bdc-a440-fab472548e49",
   "metadata": {
    "tags": []
   },
   "outputs": [],
   "source": [
    "# The Data Scientist does some basic statistics function on the object\n",
    "@sy.syft_function(input_policy=sy.ExactMatch(data=ds_client.datasets[0].assets[0]),\n",
    "                  output_policy=sy.SingleExecutionExactOutput())\n",
    "def calculate_sum(data):\n",
    "\n",
    "    \n",
    "    from opendp.mod import enable_features\n",
    "    enable_features('contrib')\n",
    "    from opendp.measurements import make_base_laplace\n",
    "    \n",
    "    \n",
    "    #compute sum\n",
    "    res = data.sum()\n",
    "    base_lap = make_base_laplace(scale=10.)\n",
    "    noise_result = base_lap(res)\n",
    "    return noise_result"
   ]
  },
  {
   "cell_type": "code",
   "execution_count": null,
   "id": "00d272d5-fd35-422d-af3b-4d5c62597d9e",
   "metadata": {
    "tags": []
   },
   "outputs": [],
   "source": [
    "new_project = sy.Project(\n",
    "    name=\"My Cool  Project\",\n",
    "    description=\"\"\"Hi, I want to do statistics operations(like sum, mean) on your private data.\"\"\",\n",
    "    members=[ds_client],\n",
    ")\n",
    "new_project"
   ]
  },
  {
   "cell_type": "code",
   "execution_count": null,
   "id": "44a5cb76-281a-4f4b-a6bb-6f6401b8f654",
   "metadata": {
    "tags": []
   },
   "outputs": [],
   "source": [
    "new_project.create_code_request(calculate_sum, ds_client)"
   ]
  },
  {
   "cell_type": "code",
   "execution_count": null,
   "id": "edba3649-3b04-4c27-a34d-7b01efddffff",
   "metadata": {
    "tags": []
   },
   "outputs": [],
   "source": [
    "project = new_project.start()\n",
    "\n",
    "project "
   ]
  },
  {
   "cell_type": "code",
   "execution_count": null,
   "id": "cd91bb32-26f2-45c5-9f16-03519315b1a2",
   "metadata": {
    "tags": []
   },
   "outputs": [],
   "source": [
    "assert isinstance(project, sy.service.project.project.Project)"
   ]
  },
  {
   "cell_type": "code",
   "execution_count": null,
   "id": "a973b1f9-901b-4245-b21a-d258d132be91",
   "metadata": {
    "tags": []
   },
   "outputs": [],
   "source": [
    "assert len(project.events) ==1\n",
    "assert isinstance(project.events[0], sy.service.project.project.ProjectRequest)"
   ]
  },
  {
   "cell_type": "code",
   "execution_count": null,
   "id": "928a1c1e-abfa-4e86-ba38-81c15026a991",
   "metadata": {
    "tags": []
   },
   "outputs": [],
   "source": [
    "# The Data Scientist would like to submit another code request after the start of the project\n",
    "@sy.syft_function(input_policy=sy.ExactMatch(data=ds_client.datasets[0].assets[0]),\n",
    "                  output_policy=sy.SingleExecutionExactOutput())\n",
    "def calculate_mean(data):\n",
    "    from opendp.mod import enable_features\n",
    "    enable_features('contrib')\n",
    "    from opendp.measurements import make_base_laplace\n",
    "    \n",
    "    \n",
    "    #compute mean\n",
    "    mean = data.mean()\n",
    "    base_lap = make_base_laplace(scale=10.)\n",
    "    noise_result = base_lap(mean)\n",
    "    return noise_result"
   ]
  },
  {
   "cell_type": "code",
   "execution_count": null,
   "id": "bb5b53e7-114a-4455-898f-8ceb8071e8d0",
   "metadata": {
    "tags": []
   },
   "outputs": [],
   "source": [
    "res = project.create_code_request(calculate_mean ,ds_client)\n",
    "res"
   ]
  },
  {
   "cell_type": "code",
   "execution_count": null,
   "id": "4033255f-71db-48b4-b530-70e9fd914dee",
   "metadata": {
    "tags": []
   },
   "outputs": [],
   "source": [
    "assert isinstance(res, sy.SyftSuccess)"
   ]
  },
  {
   "cell_type": "code",
   "execution_count": null,
   "id": "76119ef1-2276-4133-9501-fcfec0f041c8",
   "metadata": {
    "tags": []
   },
   "outputs": [],
   "source": [
    "assert len(project.events) ==2\n",
    "assert isinstance(project.events[1], sy.service.project.project.ProjectRequest)"
   ]
  },
  {
   "cell_type": "code",
   "execution_count": null,
   "id": "e72750e1-0450-40b1-85aa-64ef2188ec3c",
   "metadata": {
    "tags": []
   },
   "outputs": [],
   "source": [
    "# The Data Owner approves both requests\n",
    "request_1 = root_client.requests[0].approve()\n",
    "request_1"
   ]
  },
  {
   "cell_type": "code",
   "execution_count": null,
   "id": "d2c187dd-351a-45aa-be17-2097547deeeb",
   "metadata": {
    "tags": []
   },
   "outputs": [],
   "source": [
    "assert isinstance(request_1, sy.SyftSuccess)"
   ]
  },
  {
   "cell_type": "code",
   "execution_count": null,
   "id": "70c9dd3b-fbab-4db1-8179-833220e945ed",
   "metadata": {
    "tags": []
   },
   "outputs": [],
   "source": [
    "request_2 = root_client.requests[1].approve()\n",
    "request_2"
   ]
  },
  {
   "cell_type": "code",
   "execution_count": null,
   "id": "e21b57a1-cbe4-4dfa-9e04-7e26208ea8e2",
   "metadata": {
    "tags": []
   },
   "outputs": [],
   "source": [
    "assert isinstance(request_2, sy.SyftSuccess)"
   ]
  },
  {
   "cell_type": "code",
   "execution_count": null,
   "id": "ecf9fc6c-8cc9-4875-9684-4ebd2af18172",
   "metadata": {
    "tags": []
   },
   "outputs": [],
   "source": [
    "sum_ptr = ds_client.code.calculate_sum(data=ds_client.datasets[0].assets[0])"
   ]
  },
  {
   "cell_type": "code",
   "execution_count": null,
   "id": "805f9406-ff27-4842-9248-cbbf5be90c9f",
   "metadata": {
    "tags": []
   },
   "outputs": [],
   "source": [
    "sum_ptr"
   ]
  },
  {
   "cell_type": "code",
   "execution_count": null,
   "id": "4f953ae4-ec2d-41cf-b21e-70862fbc17f6",
   "metadata": {
    "tags": []
   },
   "outputs": [],
   "source": [
    "assert isinstance(sum_ptr.syft_action_data,float)"
   ]
  },
  {
   "cell_type": "code",
   "execution_count": null,
   "id": "f6f246d3-5d04-4d82-9a9d-863b38828bfe",
   "metadata": {
    "tags": []
   },
   "outputs": [],
   "source": [
    "mean_ptr = ds_client.code.calculate_mean(data=ds_client.datasets[0].assets[0])"
   ]
  },
  {
   "cell_type": "code",
   "execution_count": null,
   "id": "8a00f447-59b2-48c8-9ef3-97c929ca96b7",
   "metadata": {
    "tags": []
   },
   "outputs": [],
   "source": [
    "mean_ptr"
   ]
  },
  {
   "cell_type": "code",
   "execution_count": null,
   "id": "7b0038e3-e003-4259-a6a4-7328dbc9ed0d",
   "metadata": {
    "tags": []
   },
   "outputs": [],
   "source": [
    "assert isinstance(mean_ptr.syft_action_data,float)"
   ]
  },
  {
   "cell_type": "code",
   "execution_count": null,
   "id": "8281a0bf-be76-4e21-9437-072e9b4ea3c3",
   "metadata": {
    "tags": []
   },
   "outputs": [],
   "source": [
    "if node.node_type.value == \"python\":\n",
    "    node.land()"
   ]
  }
 ],
 "metadata": {
  "kernelspec": {
   "display_name": "Python 3 (ipykernel)",
   "language": "python",
   "name": "python3"
  },
  "language_info": {
   "codemirror_mode": {
    "name": "ipython",
    "version": 3
   },
   "file_extension": ".py",
   "mimetype": "text/x-python",
   "name": "python",
   "nbconvert_exporter": "python",
   "pygments_lexer": "ipython3",
   "version": "3.11.2"
  }
 },
 "nbformat": 4,
 "nbformat_minor": 5
}

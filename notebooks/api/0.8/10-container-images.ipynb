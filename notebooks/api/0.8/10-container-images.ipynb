{
 "cells": [
  {
   "cell_type": "code",
   "execution_count": null,
   "id": "ab8aca22-8bd7-4764-8f2d-27dd5f33d8c6",
   "metadata": {},
   "outputs": [],
   "source": [
    "SYFT_VERSION = \">=0.8.2.b0,<0.9\"\n",
    "package_string = f'\"syft{SYFT_VERSION}\"'"
   ]
  },
  {
   "cell_type": "code",
   "execution_count": null,
   "id": "2cb8c995-c806-4b8e-a892-9bc461c61935",
   "metadata": {},
   "outputs": [],
   "source": [
    "# stdlib\n",
    "import os\n",
    "import time\n",
    "\n",
    "# third party\n",
    "import docker\n",
    "import numpy as np\n",
    "\n",
    "# syft absolute\n",
    "import syft as sy\n",
    "\n",
    "sy.requires(SYFT_VERSION)\n",
    "\n",
    "# syft absolute\n",
    "from syft.service.worker.image_registry import SyftImageRegistry\n",
    "from syft.service.worker.worker_image import SyftWorkerImage"
   ]
  },
  {
   "cell_type": "code",
   "execution_count": null,
   "id": "e4079d39-b88f-4709-87da-95f79f1d47ee",
   "metadata": {},
   "outputs": [],
   "source": [
    "# Uncomment this to run the whole docker based custom workers\n",
    "# os.environ[\"ORCHESTRA_DEPLOYMENT_TYPE\"] = \"container_stack\"\n",
    "# os.environ[\"DEV_MODE\"] = \"True\"\n",
    "\n",
    "\n",
    "# Disable inmemory worker for container stack\n",
    "running_as_container = os.environ.get(\"ORCHESTRA_DEPLOYMENT_TYPE\") in (\n",
    "    \"container_stack\",\n",
    ")\n",
    "in_memory_workers = not running_as_container"
   ]
  },
  {
   "cell_type": "code",
   "execution_count": null,
   "id": "0bc7b5dc-1565-4261-ac98-db2602c5877b",
   "metadata": {},
   "outputs": [],
   "source": [
    "domain = sy.orchestra.launch(\n",
    "    name=\"test-domain-1\",\n",
    "    dev_mode=True,\n",
    "    create_producer=True,\n",
    "    in_memory_workers=in_memory_workers,\n",
    "    reset=True,\n",
    "    port=8081,\n",
    ")"
   ]
  },
  {
   "cell_type": "code",
   "execution_count": null,
   "id": "91f1988a-daa3-42f0-9bfe-f9fdd9597fdc",
   "metadata": {},
   "outputs": [],
   "source": [
    "domain_client = domain.login(email=\"info@openmined.org\", password=\"changethis\")"
   ]
  },
  {
   "cell_type": "markdown",
   "id": "55439eb5-1e92-46a6-a45a-471917a86265",
   "metadata": {},
   "source": [
    "We should see a default worker pool"
   ]
  },
  {
   "cell_type": "code",
   "execution_count": null,
   "id": "c5c841af-c423-4d8f-9d16-c7b982f27128",
   "metadata": {},
   "outputs": [],
   "source": [
    "domain_client.worker_pools"
   ]
  },
  {
   "cell_type": "markdown",
   "id": "3c7a124a",
   "metadata": {},
   "source": [
    "#### Submit Dockerfile"
   ]
  },
  {
   "cell_type": "code",
   "execution_count": null,
   "id": "75193f9f-3622-4071-9aba-d42a5dc5b301",
   "metadata": {},
   "outputs": [],
   "source": [
    "custom_dockerfile_str = \"\"\"\n",
    "FROM openmined/grid-backend:0.8.4-beta.12\n",
    "\n",
    "RUN pip install pydicom\n",
    "\n",
    "\"\"\".strip()"
   ]
  },
  {
   "cell_type": "code",
   "execution_count": null,
   "id": "b6bfe92a-e873-4dc3-b3a0-6715f8843785",
   "metadata": {},
   "outputs": [],
   "source": [
    "docker_config = sy.DockerWorkerConfig(dockerfile=custom_dockerfile_str)"
   ]
  },
  {
   "cell_type": "code",
   "execution_count": null,
   "id": "941cf5e2-4ba8-488f-880b-de908d23a4c3",
   "metadata": {},
   "outputs": [],
   "source": [
    "assert docker_config.dockerfile == custom_dockerfile_str"
   ]
  },
  {
   "cell_type": "code",
   "execution_count": null,
   "id": "d4a60bf8-22d3-4052-b9cc-f6dcf68b2dd8",
   "metadata": {},
   "outputs": [],
   "source": [
    "submit_result = domain_client.api.services.worker_image.submit_dockerfile(\n",
    "    docker_config=docker_config\n",
    ")"
   ]
  },
  {
   "cell_type": "code",
   "execution_count": null,
   "id": "730df31b-7c23-4068-a275-419526c3ee6f",
   "metadata": {},
   "outputs": [],
   "source": [
    "submit_result"
   ]
  },
  {
   "cell_type": "code",
   "execution_count": null,
   "id": "ebb3b7e9-c7a4-4c99-866b-13c6a75d04e8",
   "metadata": {},
   "outputs": [],
   "source": [
    "assert isinstance(submit_result, sy.SyftSuccess), str(submit_result)"
   ]
  },
  {
   "cell_type": "code",
   "execution_count": null,
   "id": "d9cc2eb9-9f28-454f-96bc-fbb722f78bb5",
   "metadata": {},
   "outputs": [],
   "source": [
    "dockerfile_list = domain_client.images.get_all()\n",
    "dockerfile_list"
   ]
  },
  {
   "cell_type": "code",
   "execution_count": null,
   "id": "8e56f9e8-5cf3-418b-9774-75a47c8ef276",
   "metadata": {},
   "outputs": [],
   "source": [
    "assert len(domain_client.images.get_all()) == 2"
   ]
  },
  {
   "cell_type": "code",
   "execution_count": null,
   "id": "133dacbe-4d2e-458e-830b-2c18bce018e4",
   "metadata": {},
   "outputs": [],
   "source": [
    "workerimage: SyftWorkerImage = None\n",
    "for image in dockerfile_list:\n",
    "    if not image.is_prebuilt and image.config.dockerfile == custom_dockerfile_str:\n",
    "        workerimage = image\n",
    "        break\n",
    "\n",
    "assert isinstance(workerimage, SyftWorkerImage), str(workerimage)"
   ]
  },
  {
   "cell_type": "code",
   "execution_count": null,
   "id": "e8cf1efb",
   "metadata": {},
   "outputs": [],
   "source": [
    "workerimage"
   ]
  },
  {
   "cell_type": "markdown",
   "id": "35190951",
   "metadata": {},
   "source": [
    "#### Setup Local Registry"
   ]
  },
  {
   "cell_type": "code",
   "execution_count": null,
   "id": "48bdd908",
   "metadata": {},
   "outputs": [],
   "source": [
    "# third party\n",
    "\n",
    "\n",
    "class LocalRegistryContainer:\n",
    "    def __init__(self):\n",
    "        self.name = \"local_registry\"\n",
    "        self.client = docker.from_env()\n",
    "\n",
    "    def start(self, host_port=5678):\n",
    "        existing = self.get()\n",
    "        if existing:\n",
    "            return existing\n",
    "\n",
    "        result = self.client.containers.run(\n",
    "            \"registry:2\",\n",
    "            name=self.name,\n",
    "            detach=True,\n",
    "            ports={\"5000/tcp\": host_port},\n",
    "            labels={\"orgs.openmined.syft\": \"local-registry\"},\n",
    "        )\n",
    "\n",
    "        return result\n",
    "\n",
    "    def teardown(self):\n",
    "        existing = self.get()\n",
    "        if existing:\n",
    "            existing.stop()\n",
    "            existing.remove()\n",
    "\n",
    "    def get(self):\n",
    "        try:\n",
    "            result = self.client.containers.get(self.name)\n",
    "            if result.status == \"running\":\n",
    "                return result\n",
    "        except docker.errors.NotFound:\n",
    "            return None\n",
    "\n",
    "\n",
    "local_registry_container = LocalRegistryContainer()"
   ]
  },
  {
   "cell_type": "markdown",
   "id": "91a66871",
   "metadata": {},
   "source": [
    "#### Add Local Registry in Syft"
   ]
  },
  {
   "cell_type": "code",
   "execution_count": null,
   "id": "cde8bfff",
   "metadata": {},
   "outputs": [],
   "source": [
    "registry_add_result = domain_client.api.services.image_registry.add(\"localhost:5678\")\n",
    "registry_add_result"
   ]
  },
  {
   "cell_type": "code",
   "execution_count": null,
   "id": "82321b35",
   "metadata": {},
   "outputs": [],
   "source": [
    "assert isinstance(registry_add_result, sy.SyftSuccess), str(registry_add_result)"
   ]
  },
  {
   "cell_type": "code",
   "execution_count": null,
   "id": "3d4a4c33",
   "metadata": {},
   "outputs": [],
   "source": [
    "images = domain_client.api.services.image_registry.get_all()\n",
    "assert len(images) == 1\n",
    "images"
   ]
  },
  {
   "cell_type": "code",
   "execution_count": null,
   "id": "22f6e2f6",
   "metadata": {},
   "outputs": [],
   "source": [
    "local_registry = images[0]\n",
    "local_registry"
   ]
  },
  {
   "cell_type": "code",
   "execution_count": null,
   "id": "cb9664ca",
   "metadata": {},
   "outputs": [],
   "source": [
    "assert isinstance(local_registry, SyftImageRegistry), str(local_registry)"
   ]
  },
  {
   "cell_type": "markdown",
   "id": "637a9596",
   "metadata": {},
   "source": [
    "#### Build Image"
   ]
  },
  {
   "cell_type": "code",
   "execution_count": null,
   "id": "aa6573e1-ea18-4049-b6bf-1615521d8ced",
   "metadata": {},
   "outputs": [],
   "source": [
    "docker_tag = \"openmined/custom-worker:0.7.8\"\n",
    "\n",
    "registry_uid = local_registry.id if running_as_container else local_registry.id\n",
    "\n",
    "docker_build_result = domain_client.api.services.worker_image.build(\n",
    "    image_uid=workerimage.id,\n",
    "    tag=docker_tag,\n",
    "    registry_uid=registry_uid,\n",
    ")\n",
    "docker_build_result"
   ]
  },
  {
   "cell_type": "code",
   "execution_count": null,
   "id": "21e3679d-ef71-44af-a2ab-91bed47472c1",
   "metadata": {},
   "outputs": [],
   "source": [
    "assert isinstance(docker_build_result, sy.SyftSuccess), str(docker_build_result)"
   ]
  },
  {
   "cell_type": "code",
   "execution_count": null,
   "id": "c540043d-4485-4213-b93c-358e4c507f5a",
   "metadata": {},
   "outputs": [],
   "source": [
    "image_list = domain_client.images.get_all()\n",
    "image_list"
   ]
  },
  {
   "cell_type": "code",
   "execution_count": null,
   "id": "7af0a33d-e1a9-4f2b-9113-d17a3730397c",
   "metadata": {},
   "outputs": [],
   "source": [
    "for image in image_list:\n",
    "    if image.id == workerimage.id:\n",
    "        workerimage = (\n",
    "            image  # we can also index with string using the repo_with_tag format\n",
    "        )\n",
    "\n",
    "if running_as_container:\n",
    "    image_list[workerimage.built_image_tag]\n",
    "    assert image_list[workerimage.built_image_tag] == workerimage\n",
    "\n",
    "workerimage"
   ]
  },
  {
   "cell_type": "code",
   "execution_count": null,
   "id": "990d2cf3-2148-4a67-b17f-486efc5ccb02",
   "metadata": {},
   "outputs": [],
   "source": [
    "def get_image_hash(tag) -> str:\n",
    "    client = docker.from_env()\n",
    "    try:\n",
    "        image = client.images.get(tag)\n",
    "        return image.id\n",
    "    except docker.errors.ImageNotFound:\n",
    "        return None"
   ]
  },
  {
   "cell_type": "code",
   "execution_count": null,
   "id": "b2829070-f156-4dbd-b1ee-1e3f654f5b7b",
   "metadata": {},
   "outputs": [],
   "source": [
    "if running_as_container:\n",
    "    assert workerimage.image_hash == get_image_hash(\n",
    "        workerimage.built_image_tag\n",
    "    ), \"Worker Image image_hash does not match with built image hash\""
   ]
  },
  {
   "cell_type": "markdown",
   "id": "e726428e",
   "metadata": {},
   "source": [
    "#### Push Image to Local Registry"
   ]
  },
  {
   "cell_type": "code",
   "execution_count": null,
   "id": "8468ce02",
   "metadata": {},
   "outputs": [],
   "source": [
    "push_result = None\n",
    "if running_as_container:\n",
    "    # stdlib\n",
    "    from time import sleep\n",
    "\n",
    "    local_registry_container.start()\n",
    "    sleep(5)\n",
    "\n",
    "    push_result = domain_client.api.services.worker_image.push(workerimage.id)\n",
    "    assert isinstance(push_result, sy.SyftSuccess), str(push_result)"
   ]
  },
  {
   "cell_type": "code",
   "execution_count": null,
   "id": "c5ca573b",
   "metadata": {},
   "outputs": [],
   "source": [
    "push_result"
   ]
  },
  {
   "cell_type": "code",
   "execution_count": null,
   "id": "18941fce",
   "metadata": {},
   "outputs": [],
   "source": [
    "if running_as_container:\n",
    "    # third party\n",
    "    import requests\n",
    "\n",
    "    base_url = f\"http://{workerimage.image_identifier.registry_host}\"\n",
    "    expected_tag = workerimage.image_identifier.tag\n",
    "\n",
    "    repos = requests.get(f\"{base_url}/v2/_catalog\").json()[\"repositories\"]\n",
    "    tags = requests.get(f\"{base_url}/v2/openmined/custom-worker/tags/list\").json()\n",
    "    tags = tags[\"tags\"]\n",
    "\n",
    "    assert (\n",
    "        \"openmined/custom-worker\" in repos\n",
    "    ), f\"'openmined/custom-worker' not uploaded to local registry | {repos}\"\n",
    "    assert (\n",
    "        expected_tag in tags\n",
    "    ), f\"'openmined/custom-worker' with tag {expected_tag} not available | {tags}\""
   ]
  },
  {
   "cell_type": "markdown",
   "id": "08ff08c5",
   "metadata": {},
   "source": [
    "#### Delete locally built image to force pull from local registry"
   ]
  },
  {
   "cell_type": "markdown",
   "id": "ddd04da3",
   "metadata": {},
   "source": [
    "This should make the subsequent `worker_pool.launch` pull from registry at 'localhost:5678`"
   ]
  },
  {
   "cell_type": "code",
   "execution_count": null,
   "id": "edbc0907",
   "metadata": {},
   "outputs": [],
   "source": [
    "# stdlib\n",
    "from time import sleep\n",
    "\n",
    "\n",
    "def remove_local_image(tag):\n",
    "    client = docker.from_env()\n",
    "    try:\n",
    "        client.images.remove(tag)\n",
    "    except docker.errors.ImageNotFound:\n",
    "        pass\n",
    "\n",
    "\n",
    "if running_as_container:\n",
    "    remove_local_image(workerimage.built_image_tag)\n",
    "    sleep(5)"
   ]
  },
  {
   "cell_type": "markdown",
   "id": "f5007073",
   "metadata": {},
   "source": [
    "#### Create Worker Pool From Image"
   ]
  },
  {
   "cell_type": "code",
   "execution_count": null,
   "id": "f57b5443-8519-4464-89a2-37deb25f6923",
   "metadata": {},
   "outputs": [],
   "source": [
    "worker_pool_name = \"my_first_worker_pool\"\n",
    "worker_pool_res = domain_client.api.services.worker_pool.launch(\n",
    "    name=worker_pool_name,\n",
    "    image_uid=workerimage.id,\n",
    "    num_workers=3,\n",
    ")"
   ]
  },
  {
   "cell_type": "code",
   "execution_count": null,
   "id": "f418fb83-4111-412c-ab11-8d4587239dc6",
   "metadata": {},
   "outputs": [],
   "source": [
    "assert len(worker_pool_res) == 3"
   ]
  },
  {
   "cell_type": "code",
   "execution_count": null,
   "id": "64b5d651-3dd6-45e6-b189-c7e278a7ddd1",
   "metadata": {},
   "outputs": [],
   "source": [
    "for status in worker_pool_res:\n",
    "    assert status.error is None\n",
    "    if running_as_container:\n",
    "        assert status.worker.image.image_hash == get_image_hash(\n",
    "            workerimage.built_image_tag\n",
    "        ), \"Worker Pool Image image_hash does not match with built image hash\""
   ]
  },
  {
   "cell_type": "code",
   "execution_count": null,
   "id": "977ff49b-0975-4e75-bd36-7ed124be52b8",
   "metadata": {},
   "outputs": [],
   "source": [
    "worker_pool_list = domain_client.worker_pools\n",
    "worker_pool_list"
   ]
  },
  {
   "cell_type": "code",
   "execution_count": null,
   "id": "ce6bd8c3-bc0a-4cdd-b594-4fccdd2097d4",
   "metadata": {},
   "outputs": [],
   "source": [
    "assert len(domain_client.worker_pools.get_all()) == 2\n",
    "worker_pool = None\n",
    "for pool in worker_pool_list:\n",
    "    if pool.name == worker_pool_name:\n",
    "        worker_pool = pool\n",
    "        break\n",
    "assert worker_pool is not None\n",
    "assert len(worker_pool.workers) == 3"
   ]
  },
  {
   "cell_type": "code",
   "execution_count": null,
   "id": "14aeb0f5-673b-44f7-974c-203e18fa1c79",
   "metadata": {},
   "outputs": [],
   "source": [
    "# We can filter pools based on the image id upon which the pools were built\n",
    "domain_client.api.services.worker_pool.filter_by_image_id(image_uid=workerimage.id)"
   ]
  },
  {
   "cell_type": "code",
   "execution_count": null,
   "id": "fe5900fe-057e-4be2-b3c6-c69ec07bacb4",
   "metadata": {},
   "outputs": [],
   "source": [
    "# Delete the second worker\n",
    "second_worker = worker_pool.workers[1]"
   ]
  },
  {
   "cell_type": "code",
   "execution_count": null,
   "id": "3e4f4496-edf6-45ad-8900-b004a59d1e0e",
   "metadata": {},
   "outputs": [],
   "source": [
    "second_worker"
   ]
  },
  {
   "cell_type": "markdown",
   "id": "1c3166b0",
   "metadata": {},
   "source": [
    "#### Get Worker Logs"
   ]
  },
  {
   "cell_type": "code",
   "execution_count": null,
   "id": "fda29eca",
   "metadata": {},
   "outputs": [],
   "source": [
    "raw_worker_logs = domain_client.api.services.worker.logs(\n",
    "    uid=second_worker.id,\n",
    "    raw=True,\n",
    ")\n",
    "raw_worker_logs"
   ]
  },
  {
   "cell_type": "code",
   "execution_count": null,
   "id": "1386d881",
   "metadata": {},
   "outputs": [],
   "source": [
    "assert isinstance(raw_worker_logs, bytes)"
   ]
  },
  {
   "cell_type": "code",
   "execution_count": null,
   "id": "187cb1ee",
   "metadata": {},
   "outputs": [],
   "source": [
    "worker_logs = domain_client.api.services.worker.logs(\n",
    "    uid=second_worker.id,\n",
    ")\n",
    "worker_logs"
   ]
  },
  {
   "cell_type": "code",
   "execution_count": null,
   "id": "f08fc155",
   "metadata": {},
   "outputs": [],
   "source": [
    "assert isinstance(worker_logs, str)"
   ]
  },
  {
   "cell_type": "markdown",
   "id": "d339fd7f",
   "metadata": {},
   "source": [
    "#### Delete Worker from Pool"
   ]
  },
  {
   "cell_type": "code",
   "execution_count": null,
   "id": "c23a5008-0fa6-4d38-9102-71696b3eea41",
   "metadata": {},
   "outputs": [],
   "source": [
    "worker_delete_res = domain_client.api.services.worker.delete(\n",
    "    uid=second_worker.id,\n",
    ")"
   ]
  },
  {
   "cell_type": "code",
   "execution_count": null,
   "id": "2acf59e7-d5d6-45e7-9357-c0ab1c2752ec",
   "metadata": {},
   "outputs": [],
   "source": [
    "worker_delete_res"
   ]
  },
  {
   "cell_type": "code",
   "execution_count": null,
   "id": "66251446-6d61-451c-a6cb-5e5e4414f92a",
   "metadata": {},
   "outputs": [],
   "source": [
    "assert isinstance(worker_delete_res, sy.SyftSuccess), str(worker_delete_res)"
   ]
  },
  {
   "cell_type": "code",
   "execution_count": null,
   "id": "61dc575e-d5d8-47e1-a23a-ccfa3fd1cad6",
   "metadata": {},
   "outputs": [],
   "source": [
    "# Refetch the worker pool\n",
    "# Ensure that the deleted worker's id is not present\n",
    "for pool in domain_client.api.services.worker_pool.get_all():\n",
    "    if pool.name == worker_pool_name:\n",
    "        worker_pool = pool\n",
    "assert len(worker_pool.workers) == 2\n",
    "for worker in worker_pool.workers:\n",
    "    assert second_worker.id != worker.id"
   ]
  },
  {
   "cell_type": "code",
   "execution_count": null,
   "id": "400d545a-a912-423f-aeb8-aadfba7a3848",
   "metadata": {},
   "outputs": [],
   "source": [
    "worker_pool"
   ]
  },
  {
   "cell_type": "markdown",
   "id": "88971463-6991-448e-9c6d-51beb0c1b553",
   "metadata": {},
   "source": [
    "### Syft function"
   ]
  },
  {
   "cell_type": "code",
   "execution_count": null,
   "id": "5561d74b-4610-4279-bb09-abf287732aa0",
   "metadata": {},
   "outputs": [],
   "source": [
    "data = np.array([1, 2, 3])\n",
    "data_action_obj = sy.ActionObject.from_obj(data)\n",
    "\n",
    "data_pointer = domain_client.api.services.action.set(data_action_obj)\n",
    "data_pointer"
   ]
  },
  {
   "cell_type": "code",
   "execution_count": null,
   "id": "dc174d96-b4b1-4d65-aa76-921439507ba7",
   "metadata": {},
   "outputs": [],
   "source": [
    "@sy.syft_function(\n",
    "    input_policy=sy.ExactMatch(x=data_pointer),\n",
    "    output_policy=sy.SingleExecutionExactOutput(),\n",
    "    worker_pool_name=worker_pool_name,\n",
    ")\n",
    "def custom_worker_func(x):\n",
    "    return {\"y\": x + 1}"
   ]
  },
  {
   "cell_type": "code",
   "execution_count": null,
   "id": "4ce5de72-4e50-46ff-8a7c-9f9eb7e0f018",
   "metadata": {},
   "outputs": [],
   "source": [
    "custom_worker_func"
   ]
  },
  {
   "cell_type": "code",
   "execution_count": null,
   "id": "771b0ec6-267a-439e-9eff-34ea80a81137",
   "metadata": {},
   "outputs": [],
   "source": [
    "assert custom_worker_func.worker_pool_name == worker_pool.name"
   ]
  },
  {
   "cell_type": "code",
   "execution_count": null,
   "id": "c0f3c93e-1610-406e-b93d-1ba5421017a2",
   "metadata": {},
   "outputs": [],
   "source": [
    "request = domain_client.code.request_code_execution(custom_worker_func)\n",
    "request"
   ]
  },
  {
   "cell_type": "code",
   "execution_count": null,
   "id": "db820de6-f6b2-446d-a6d5-f07f217de97b",
   "metadata": {},
   "outputs": [],
   "source": [
    "domain_client.requests[-1].approve(approve_nested=True)"
   ]
  },
  {
   "cell_type": "code",
   "execution_count": null,
   "id": "fd8a8734-4c22-4dd5-9835-f48dc6ebade9",
   "metadata": {},
   "outputs": [],
   "source": [
    "job = domain_client.code.custom_worker_func(x=data_pointer, blocking=False)\n",
    "job"
   ]
  },
  {
   "cell_type": "code",
   "execution_count": null,
   "id": "01bff2ed-d4f4-4607-b750-3f935eb85d17",
   "metadata": {},
   "outputs": [],
   "source": [
    "worker_pool = domain_client.worker_pools[worker_pool_name]\n",
    "worker_pool"
   ]
  },
  {
   "cell_type": "code",
   "execution_count": null,
   "id": "2cd24b35-94f5-4f39-aae8-92046136137b",
   "metadata": {},
   "outputs": [],
   "source": [
    "job.wait()"
   ]
  },
  {
   "cell_type": "code",
   "execution_count": null,
   "id": "0daeddfd-731a-49f5-90f5-a974af49bb02",
   "metadata": {},
   "outputs": [],
   "source": [
    "assert job.status.value == \"completed\""
   ]
  },
  {
   "cell_type": "code",
   "execution_count": null,
   "id": "b1286ad8-96e6-458f-b9e6-718dd3f16509",
   "metadata": {},
   "outputs": [],
   "source": [
    "job = domain_client.jobs[-1]\n",
    "job"
   ]
  },
  {
   "cell_type": "code",
   "execution_count": null,
   "id": "3d828222-68d6-4010-9e62-141ea59c47b6",
   "metadata": {},
   "outputs": [],
   "source": [
    "job.job_worker_id"
   ]
  },
  {
   "cell_type": "code",
   "execution_count": null,
   "id": "c6b9d5a8-9e91-451a-91b5-e0455e2c2246",
   "metadata": {},
   "outputs": [],
   "source": [
    "assert job.job_worker_id is not None"
   ]
  },
  {
   "cell_type": "code",
   "execution_count": null,
   "id": "7d87db04-c356-448e-a711-215d83252f5a",
   "metadata": {},
   "outputs": [],
   "source": [
    "# Sleeping so that consumer state is updated\n",
    "time.sleep(5)"
   ]
  },
  {
   "cell_type": "code",
   "execution_count": null,
   "id": "f5da4edb-657d-4431-a7f8-ba443033d542",
   "metadata": {},
   "outputs": [],
   "source": [
    "# Once the work is done by the worker, its state is returned to idle again.\n",
    "consuming_worker_is_now_idle = False\n",
    "for worker in domain_client.worker_pools[worker_pool_name].workers:\n",
    "    if worker.id == job.job_worker_id:\n",
    "        consuming_worker_is_now_idle = worker.consumer_state.value.lower() == \"idle\"\n",
    "\n",
    "assert consuming_worker_is_now_idle is True"
   ]
  },
  {
   "cell_type": "code",
   "execution_count": null,
   "id": "8c8da391-50c2-44c5-9f24-2853b0f5852f",
   "metadata": {},
   "outputs": [],
   "source": [
    "# Validate the result received from the syft function\n",
    "result = job.wait().get()\n",
    "result_matches = result[\"y\"] == data + 1\n",
    "assert result_matches.all()"
   ]
  },
  {
   "cell_type": "markdown",
   "id": "2db7ea37",
   "metadata": {},
   "source": [
    "#### Worker Image"
   ]
  },
  {
   "cell_type": "code",
   "execution_count": null,
   "id": "56fb74bb-a409-481a-93de-3a52d049c41a",
   "metadata": {},
   "outputs": [],
   "source": [
    "# delete the remaining workers\n",
    "for worker in worker_pool.workers:\n",
    "    res = domain_client.api.services.worker.delete(\n",
    "        uid=worker.id,\n",
    "    )\n",
    "    assert isinstance(res, sy.SyftSuccess), str(res)\n",
    "\n",
    "# Adding some sleep to allow containers to be fully removed,\n",
    "# before removing the image\n",
    "time.sleep(10)"
   ]
  },
  {
   "cell_type": "code",
   "execution_count": null,
   "id": "6713e807-8f41-4892-959f-e908e7b736a6",
   "metadata": {},
   "outputs": [],
   "source": [
    "delete_res = domain_client.api.services.worker_image.remove(workerimage.id)"
   ]
  },
  {
   "cell_type": "code",
   "execution_count": null,
   "id": "e27a4b2b-03c3-452b-b764-13792029822d",
   "metadata": {},
   "outputs": [],
   "source": [
    "delete_res"
   ]
  },
  {
   "cell_type": "code",
   "execution_count": null,
   "id": "9167743c-36af-4c83-b051-0ecdf13e3601",
   "metadata": {},
   "outputs": [],
   "source": [
    "# Since the containers are delete, we should be able to delete the image\n",
    "assert isinstance(delete_res, sy.SyftSuccess), str(delete_res)\n",
    "delete_res"
   ]
  },
  {
   "cell_type": "code",
   "execution_count": null,
   "id": "94e16583-87ca-4c81-ade0-52bfbf4a5ec0",
   "metadata": {},
   "outputs": [],
   "source": [
    "if running_as_container:\n",
    "    local_registry_container.teardown()"
   ]
  },
  {
   "cell_type": "markdown",
   "id": "f20a29df-2e63-484f-8b67-d6a397722e66",
   "metadata": {},
   "source": [
    "#### Worker Pool and Image Creation Request/Approval"
   ]
  },
  {
   "cell_type": "code",
   "execution_count": null,
   "id": "2b8cd7a0-ba17-4ad0-b3de-5af1282a6dc6",
   "metadata": {},
   "outputs": [],
   "source": [
    "custom_dockerfile_str_2 = \"\"\"\n",
    "FROM openmined/grid-backend:0.8.4-beta.12\n",
    "\n",
    "RUN pip install opendp\n",
    "\"\"\".strip()\n",
    "\n",
    "docker_config_2 = sy.DockerWorkerConfig(dockerfile=custom_dockerfile_str_2)"
   ]
  },
  {
   "cell_type": "code",
   "execution_count": null,
   "id": "48a7a9b5-266d-4f22-9b99-061dbb3c83ab",
   "metadata": {},
   "outputs": [],
   "source": [
    "submit_result = domain_client.api.services.worker_image.submit_dockerfile(\n",
    "    docker_config=docker_config_2\n",
    ")\n",
    "submit_result"
   ]
  },
  {
   "cell_type": "code",
   "execution_count": null,
   "id": "4b3880fe-d682-471d-a52b-364711bf8511",
   "metadata": {},
   "outputs": [],
   "source": [
    "domain_client.images"
   ]
  },
  {
   "cell_type": "code",
   "execution_count": null,
   "id": "b62871bc-6c32-4fac-95af-5b062bc65992",
   "metadata": {},
   "outputs": [],
   "source": [
    "# get the image that's not built\n",
    "workerimage_2 = None\n",
    "for im in domain_client.images:\n",
    "    if im.config == docker_config_2:\n",
    "        workerimage_2 = im"
   ]
  },
  {
   "cell_type": "markdown",
   "id": "35f8e35f-91f3-4d2b-8e70-386021e9a692",
   "metadata": {},
   "source": [
    "##### Build image first then create pool"
   ]
  },
  {
   "cell_type": "code",
   "execution_count": null,
   "id": "f5a773e7-4dc1-4325-bc26-eb3c7d88969a",
   "metadata": {},
   "outputs": [],
   "source": [
    "docker_tag_2 = \"openmined/custom-worker-opendp:latest\"\n",
    "\n",
    "docker_build_result = domain_client.api.services.worker_image.build(\n",
    "    image_uid=workerimage_2.id,\n",
    "    tag=docker_tag_2,\n",
    ")\n",
    "docker_build_result"
   ]
  },
  {
   "cell_type": "code",
   "execution_count": null,
   "id": "7b0b2bb2-5612-463f-af88-f74e4f31719a",
   "metadata": {},
   "outputs": [],
   "source": [
    "pool_create_request = domain_client.api.services.worker_pool.pool_creation_request(\n",
    "    pool_name=\"first-opendp-pool\", num_workers=3, image_uid=workerimage_2.id\n",
    ")\n",
    "pool_create_request"
   ]
  },
  {
   "cell_type": "code",
   "execution_count": null,
   "id": "2b337373-9486-426a-a282-b0b179139ba7",
   "metadata": {},
   "outputs": [],
   "source": [
    "assert len(pool_create_request.changes) == 1"
   ]
  },
  {
   "cell_type": "code",
   "execution_count": null,
   "id": "0b59e175-76ba-46b8-a7cd-796a872969e4",
   "metadata": {},
   "outputs": [],
   "source": [
    "# get the pending request and approve it\n",
    "req_result = pool_create_request.approve()\n",
    "req_result"
   ]
  },
  {
   "cell_type": "code",
   "execution_count": null,
   "id": "4ce90111-11bd-4ebd-bb4a-4217a57c7d8d",
   "metadata": {},
   "outputs": [],
   "source": [
    "assert isinstance(req_result, sy.SyftSuccess), str(req_result)"
   ]
  },
  {
   "cell_type": "code",
   "execution_count": null,
   "id": "2ea69b17-eb3c-4f01-9a47-4895dd286e5e",
   "metadata": {},
   "outputs": [],
   "source": [
    "assert domain_client.worker_pools[\"first-opendp-pool\"]\n",
    "assert len(domain_client.worker_pools[\"first-opendp-pool\"].worker_list) == 3"
   ]
  },
  {
   "cell_type": "code",
   "execution_count": null,
   "id": "b0f8e4cb-6ccf-4c9f-866e-6e63fa67427c",
   "metadata": {},
   "outputs": [],
   "source": [
    "assert len(domain_client.worker_pools.get_all()) == 3"
   ]
  },
  {
   "cell_type": "markdown",
   "id": "1340b532-f3bb-4afb-b777-9fb2ba4bd02c",
   "metadata": {},
   "source": [
    "##### Request to build the image and create the pool at the same time"
   ]
  },
  {
   "cell_type": "code",
   "execution_count": null,
   "id": "8ead0843-d250-409f-a546-8049d9103646",
   "metadata": {},
   "outputs": [],
   "source": [
    "custom_dockerfile_str_3 = \"\"\"\n",
    "FROM openmined/grid-backend:0.8.4-beta.12\n",
    "\n",
    "RUN pip install recordlinkage\n",
    "\"\"\".strip()\n",
    "\n",
    "docker_config_3 = sy.DockerWorkerConfig(dockerfile=custom_dockerfile_str_3)\n",
    "\n",
    "docker_tag_3 = \"openmined/custom-worker-recordlinkage:latest\""
   ]
  },
  {
   "cell_type": "code",
   "execution_count": null,
   "id": "6732056f",
   "metadata": {},
   "outputs": [],
   "source": [
    "# syft absolute\n",
    "from syft.custom_worker.builder import CustomWorkerBuilder\n",
    "from syft.service.response import SyftError\n",
    "from syft.service.response import SyftSuccess\n",
    "\n",
    "\n",
    "def test_image_build(config: str, tag: str, **kwargs):\n",
    "    builder = CustomWorkerBuilder()\n",
    "    try:\n",
    "        result = builder.build_image(\n",
    "            config=config, tag=tag, pull=True, rm=True, forcerm=True, **kwargs\n",
    "        )\n",
    "        return SyftSuccess(message=result.logs)\n",
    "    except Exception as e:\n",
    "        return SyftError(message=f\"Failed to build image !! Error: {str(e)}.\")\n",
    "\n",
    "\n",
    "test_build_res = test_image_build(config=docker_config_3, tag=docker_tag_3)\n",
    "assert isinstance(test_build_res, sy.SyftSuccess), str(test_build_res)"
   ]
  },
  {
   "cell_type": "code",
   "execution_count": null,
   "id": "441ff01a-6f0c-48db-a14d-deecb4518e18",
   "metadata": {},
   "outputs": [],
   "source": [
    "pool_image_create_request = (\n",
    "    domain_client.api.services.worker_pool.create_image_and_pool_request(\n",
    "        pool_name=\"recordlinkage-pool\",\n",
    "        num_workers=2,\n",
    "        tag=docker_tag_3,\n",
    "        config=docker_config_3,\n",
    "        reason=\"I want to do some more cool data science with PySyft and OpenDP\",\n",
    "    )\n",
    ")\n",
    "pool_image_create_request"
   ]
  },
  {
   "cell_type": "code",
   "execution_count": null,
   "id": "3c1a1cf0-a31f-4dcc-bc34-8a232fb23b62",
   "metadata": {},
   "outputs": [],
   "source": [
    "assert len(pool_image_create_request.changes) == 2\n",
    "assert pool_image_create_request.changes[0].config == docker_config_3\n",
    "assert pool_image_create_request.changes[1].num_workers == 2\n",
    "assert pool_image_create_request.changes[1].pool_name == \"recordlinkage-pool\""
   ]
  },
  {
   "cell_type": "code",
   "execution_count": null,
   "id": "f456f727-ca38-4872-9789-e457f211ce6d",
   "metadata": {},
   "outputs": [],
   "source": [
    "# get the pending request and approve it\n",
    "req_result = pool_image_create_request.approve()\n",
    "req_result"
   ]
  },
  {
   "cell_type": "code",
   "execution_count": null,
   "id": "6d358265-a2eb-4791-84c4-0e2d0cc88f8a",
   "metadata": {},
   "outputs": [],
   "source": [
    "assert isinstance(req_result, sy.SyftSuccess), str(req_result)"
   ]
  },
  {
   "cell_type": "code",
   "execution_count": null,
   "id": "83188182-1e58-4d6b-a361-b9ab4fcea356",
   "metadata": {},
   "outputs": [],
   "source": [
    "# Get updated request object and status\n",
    "for req in domain_client.requests:\n",
    "    if req.id == pool_image_create_request.id:\n",
    "        pool_image_create_request = req\n",
    "\n",
    "assert pool_image_create_request.status.value == 2"
   ]
  },
  {
   "cell_type": "code",
   "execution_count": null,
   "id": "6c6760aa-f26b-49b6-9346-416b8e1cca1a",
   "metadata": {},
   "outputs": [],
   "source": [
    "domain_client.images"
   ]
  },
  {
   "cell_type": "code",
   "execution_count": null,
   "id": "e3c26241-028b-4f6d-a9dc-c16250f3ac6c",
   "metadata": {},
   "outputs": [],
   "source": [
    "image_exists = False\n",
    "for im in domain_client.images.get_all():\n",
    "    if im.image_identifier and im.image_identifier.repo_with_tag == docker_tag_3:\n",
    "        image_exists = True\n",
    "assert image_exists"
   ]
  },
  {
   "cell_type": "code",
   "execution_count": null,
   "id": "7016eccb-8830-4d9f-b1f6-da3dbafeb0f8",
   "metadata": {},
   "outputs": [],
   "source": [
    "assert domain_client.worker_pools[\"recordlinkage-pool\"]\n",
    "assert len(domain_client.worker_pools[\"recordlinkage-pool\"].worker_list) == 2"
   ]
  },
  {
   "cell_type": "markdown",
   "id": "ca0febe0-ab67-441a-92c2-f3de243bf940",
   "metadata": {},
   "source": [
    "#### Clean up workers"
   ]
  },
  {
   "cell_type": "code",
   "execution_count": null,
   "id": "c0317e06-fd94-43d4-88d5-af39033aafe0",
   "metadata": {},
   "outputs": [],
   "source": [
    "# delete the remaining workers\n",
    "for worker_pool in domain_client.worker_pools:\n",
    "    for worker in worker_pool.workers:\n",
    "        res = domain_client.api.services.worker.delete(uid=worker.id, force=True)\n",
    "        print(res)\n",
    "        assert isinstance(res, sy.SyftSuccess), str(res)\n",
    "\n",
    "# Adding some sleep to allow containers to be fully removed,\n",
    "# before removing the image\n",
    "time.sleep(10)"
   ]
  },
  {
   "cell_type": "code",
   "execution_count": null,
   "id": "2c809521-cb0d-432f-b75a-7da6d635e85d",
   "metadata": {},
   "outputs": [],
   "source": [
    "for worker_pool in domain_client.worker_pools:\n",
    "    assert len(worker_pool.worker_list) == 0"
   ]
  },
  {
   "cell_type": "code",
   "execution_count": null,
   "id": "6391a086-604a-47a9-959d-d4a626ac57f2",
   "metadata": {},
   "outputs": [],
   "source": [
    "domain.land()"
   ]
  }
 ],
 "metadata": {
  "kernelspec": {
   "display_name": "Python 3 (ipykernel)",
   "language": "python",
   "name": "python3"
  },
  "language_info": {
   "codemirror_mode": {
    "name": "ipython",
    "version": 3
   },
   "file_extension": ".py",
   "mimetype": "text/x-python",
   "name": "python",
   "nbconvert_exporter": "python",
   "pygments_lexer": "ipython3",
   "version": "3.11.7"
  }
 },
 "nbformat": 4,
 "nbformat_minor": 5
}

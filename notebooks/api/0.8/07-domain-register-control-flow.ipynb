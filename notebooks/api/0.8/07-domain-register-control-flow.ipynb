{
 "cells": [
  {
   "cell_type": "code",
   "execution_count": null,
   "id": "40b28fe7",
   "metadata": {},
   "outputs": [],
   "source": [
    "import syft as sy\n",
    "from syft import SyftError, SyftSuccess\n",
    "\n",
    "sy.requires(\">=0.8.1b0,<0.9\")"
   ]
  },
  {
   "cell_type": "code",
   "execution_count": null,
   "id": "df3108c1",
   "metadata": {},
   "outputs": [],
   "source": [
    "# node = sy.orchestra.launch(name=\"test-domain-1\", dev_mode=True, reset=True)\n",
    "node = sy.orchestra.launch(name=\"test-domain-1\", dev_mode=True, reset=True, port='auto')"
   ]
  },
  {
   "cell_type": "code",
   "execution_count": null,
   "id": "6fe4a9bf",
   "metadata": {},
   "outputs": [],
   "source": [
    "root_client = node.login(email=\"info@openmined.org\", password=\"changethis\")"
   ]
  },
  {
   "cell_type": "code",
   "execution_count": null,
   "id": "c86c1765",
   "metadata": {},
   "outputs": [],
   "source": [
    "root_client.connection"
   ]
  },
  {
   "cell_type": "code",
   "execution_count": null,
   "id": "a97c7646",
   "metadata": {},
   "outputs": [],
   "source": [
    "guest_client = node.client\n",
    "guest_client_2 = node.client"
   ]
  },
  {
   "cell_type": "code",
   "execution_count": null,
   "id": "a82b356e",
   "metadata": {},
   "outputs": [],
   "source": [
    "root_client.api.endpoints"
   ]
  },
  {
   "cell_type": "code",
   "execution_count": null,
   "id": "d871bfd5-bf77-4dee-a1af-58fbab7d57bd",
   "metadata": {},
   "outputs": [],
   "source": [
    "# race condition?\n",
    "import time\n",
    "time.sleep(5)"
   ]
  },
  {
   "cell_type": "code",
   "execution_count": null,
   "id": "2f01ebc6",
   "metadata": {},
   "outputs": [],
   "source": [
    "root_client.metadata"
   ]
  },
  {
   "cell_type": "code",
   "execution_count": null,
   "id": "8f281814",
   "metadata": {},
   "outputs": [],
   "source": [
    "guest_client.metadata"
   ]
  },
  {
   "attachments": {},
   "cell_type": "markdown",
   "id": "a218fc23",
   "metadata": {},
   "source": [
    "#### By default registration is disabled. Only `root_client` can register"
   ]
  },
  {
   "cell_type": "code",
   "execution_count": null,
   "id": "904d5b87",
   "metadata": {},
   "outputs": [],
   "source": [
    "assert root_client.metadata.signup_enabled == False"
   ]
  },
  {
   "cell_type": "code",
   "execution_count": null,
   "id": "09fbc45c",
   "metadata": {},
   "outputs": [],
   "source": [
    "response_1 = root_client.register(email=\"joker@test.com\", password=\"joker123\", name=\"Joker\")\n",
    "response_1"
   ]
  },
  {
   "cell_type": "code",
   "execution_count": null,
   "id": "efd412ab",
   "metadata": {},
   "outputs": [],
   "source": [
    "response_2 = guest_client.register(email=\"batman@test.com\", password=\"batman123\", name=\"Batman\")\n",
    "response_2"
   ]
  },
  {
   "cell_type": "code",
   "execution_count": null,
   "id": "dbe84e8d",
   "metadata": {},
   "outputs": [],
   "source": [
    "response_3 = guest_client_2.register(email=\"robin@test.com\", password=\"robin123\", name=\"Robin\")\n",
    "response_3"
   ]
  },
  {
   "cell_type": "code",
   "execution_count": null,
   "id": "d713569c",
   "metadata": {},
   "outputs": [],
   "source": [
    "assert isinstance(response_1, SyftSuccess)\n",
    "assert isinstance(response_2, SyftError)\n",
    "assert isinstance(response_3, SyftError)"
   ]
  },
  {
   "attachments": {},
   "cell_type": "markdown",
   "id": "dd367a3d",
   "metadata": {},
   "source": [
    "#### Now, if root user enable registration, then the guest clients can also register"
   ]
  },
  {
   "cell_type": "code",
   "execution_count": null,
   "id": "e63fbdbe",
   "metadata": {},
   "outputs": [],
   "source": [
    "root_client.api.services.settings.get()"
   ]
  },
  {
   "cell_type": "code",
   "execution_count": null,
   "id": "eb306f0a",
   "metadata": {},
   "outputs": [],
   "source": [
    "root_client.settings.allow_guest_signup(enable=True)"
   ]
  },
  {
   "cell_type": "code",
   "execution_count": null,
   "id": "27855776",
   "metadata": {},
   "outputs": [],
   "source": [
    "root_client.api.services.settings.get()"
   ]
  },
  {
   "cell_type": "code",
   "execution_count": null,
   "id": "6a2987c7",
   "metadata": {},
   "outputs": [],
   "source": [
    "root_client = node.login(email=\"info@openmined.org\", password=\"changethis\")"
   ]
  },
  {
   "cell_type": "code",
   "execution_count": null,
   "id": "0a7f929e",
   "metadata": {},
   "outputs": [],
   "source": [
    "root_client.metadata.signup_enabled"
   ]
  },
  {
   "cell_type": "code",
   "execution_count": null,
   "id": "dbb9e96e",
   "metadata": {},
   "outputs": [],
   "source": [
    "response_1 = root_client.register(email=\"joker1@test.com\", password=\"joker123\", name=\"Joker\")\n",
    "response_1"
   ]
  },
  {
   "cell_type": "code",
   "execution_count": null,
   "id": "f593dcf2",
   "metadata": {},
   "outputs": [],
   "source": [
    "response_2 = guest_client.register(email=\"batman@test.com\", password=\"batman123\", name=\"Batman\")\n",
    "response_2"
   ]
  },
  {
   "cell_type": "code",
   "execution_count": null,
   "id": "b9f278a2",
   "metadata": {},
   "outputs": [],
   "source": [
    "response_3 = guest_client_2.register(email=\"robin@test.com\", password=\"robin123\", name=\"Robin\")\n",
    "response_3"
   ]
  },
  {
   "cell_type": "code",
   "execution_count": null,
   "id": "1d801bc8",
   "metadata": {},
   "outputs": [],
   "source": [
    "assert isinstance(response_1, SyftSuccess)\n",
    "assert isinstance(response_2, SyftSuccess)\n",
    "assert isinstance(response_3, SyftSuccess)"
   ]
  },
  {
   "attachments": {},
   "cell_type": "markdown",
   "id": "ba07d1ea",
   "metadata": {},
   "source": [
    "### Toggle signup again"
   ]
  },
  {
   "cell_type": "code",
   "execution_count": null,
   "id": "37425535",
   "metadata": {},
   "outputs": [],
   "source": [
    "root_client.settings.allow_guest_signup(enable=False)"
   ]
  },
  {
   "cell_type": "code",
   "execution_count": null,
   "id": "94e84cd3",
   "metadata": {},
   "outputs": [],
   "source": [
    "root_client = node.login(email=\"info@openmined.org\", password=\"changethis\")"
   ]
  },
  {
   "cell_type": "code",
   "execution_count": null,
   "id": "ea3370f4",
   "metadata": {},
   "outputs": [],
   "source": [
    "assert root_client.metadata.signup_enabled == False"
   ]
  },
  {
   "cell_type": "code",
   "execution_count": null,
   "id": "a35a5374",
   "metadata": {},
   "outputs": [],
   "source": [
    "response_2 = guest_client.register(email=\"batman2@test.com\", password=\"batman123\", name=\"Batman\")\n",
    "response_2"
   ]
  },
  {
   "cell_type": "code",
   "execution_count": null,
   "id": "03cef878",
   "metadata": {},
   "outputs": [],
   "source": [
    "response_3 = guest_client_2.register(email=\"robin2@test.com\", password=\"robin123\", name=\"Robin\")\n",
    "response_3"
   ]
  },
  {
   "cell_type": "code",
   "execution_count": null,
   "id": "48a0e8a4",
   "metadata": {},
   "outputs": [],
   "source": [
    "assert isinstance(response_1, SyftSuccess)\n",
    "assert isinstance(response_2, SyftError)\n",
    "assert isinstance(response_3, SyftError)"
   ]
  },
  {
   "cell_type": "code",
   "execution_count": null,
   "id": "316dad3a",
   "metadata": {},
   "outputs": [],
   "source": []
  }
 ],
 "metadata": {
  "kernelspec": {
   "display_name": "Python 3 (ipykernel)",
   "language": "python",
   "name": "python3"
  },
  "language_info": {
   "codemirror_mode": {
    "name": "ipython",
    "version": 3
   },
   "file_extension": ".py",
   "mimetype": "text/x-python",
   "name": "python",
   "nbconvert_exporter": "python",
   "pygments_lexer": "ipython3",
   "version": "3.10.8"
  }
 },
 "nbformat": 4,
 "nbformat_minor": 5
}

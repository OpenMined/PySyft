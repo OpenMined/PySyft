{
 "cells": [
  {
   "cell_type": "code",
   "execution_count": null,
   "metadata": {},
   "outputs": [],
   "source": [
    "SYFT_VERSION = \">=0.8.2.b0,<0.9\"\n",
    "package_string = f'\"syft{SYFT_VERSION}\"'\n",
    "# %pip install {package_string} -q"
   ]
  },
  {
   "cell_type": "code",
   "execution_count": null,
   "metadata": {},
   "outputs": [],
   "source": [
    "import syft as sy\n",
    "import io\n",
    "sy.requires(SYFT_VERSION)\n",
    "from syft import autocache"
   ]
  },
  {
   "cell_type": "code",
   "execution_count": null,
   "metadata": {},
   "outputs": [],
   "source": [
    "node = sy.orchestra.launch(name=\"test-domain-1\", port=\"auto\", dev_mode=True)"
   ]
  },
  {
   "cell_type": "code",
   "execution_count": null,
   "metadata": {},
   "outputs": [],
   "source": [
    "domain_client = node.login(email=\"info@openmined.org\", password=\"changethis\")"
   ]
  },
  {
   "cell_type": "markdown",
   "metadata": {},
   "source": [
    "## Upload and retrieve SyftObject with blob storage (low level API)"
   ]
  },
  {
   "cell_type": "code",
   "execution_count": null,
   "metadata": {},
   "outputs": [],
   "source": [
    "from syft.client.client import SyftClient\n",
    "from syft.store.blob_storage import BlobDeposit\n",
    "from syft.types.blob_storage import CreateBlobStorageEntry\n",
    "from syft.types.syft_object import SyftObject"
   ]
  },
  {
   "cell_type": "code",
   "execution_count": null,
   "metadata": {},
   "outputs": [],
   "source": [
    "def allocate_object(client: SyftClient, obj: SyftObject) -> BlobDeposit:\n",
    "    create_blob_storage_entry = CreateBlobStorageEntry.from_obj(obj)\n",
    "    return client.api.services.blob_storage.allocate(create_blob_storage_entry)"
   ]
  },
  {
   "cell_type": "code",
   "execution_count": null,
   "metadata": {},
   "outputs": [],
   "source": [
    "user_object = domain_client.users[0]\n",
    "user_object"
   ]
  },
  {
   "cell_type": "code",
   "execution_count": null,
   "metadata": {},
   "outputs": [],
   "source": [
    "# write/deposit object\n",
    "blob_deposit = allocate_object(domain_client, user_object)"
   ]
  },
  {
   "cell_type": "code",
   "execution_count": null,
   "metadata": {},
   "outputs": [],
   "source": [
    "data = io.BytesIO(sy.serialize(user_object, to_bytes=True))\n",
    "write_result = blob_deposit.write(data)\n",
    "write_result"
   ]
  },
  {
   "cell_type": "code",
   "execution_count": null,
   "metadata": {},
   "outputs": [],
   "source": [
    "# read/retrieve object\n",
    "blob_retrieval = domain_client.api.services.blob_storage.read(blob_deposit.blob_storage_entry_id)\n",
    "user_object_read = blob_retrieval.read()\n",
    "user_object_read"
   ]
  },
  {
   "cell_type": "code",
   "execution_count": null,
   "metadata": {},
   "outputs": [],
   "source": [
    "# delete object in blob storage\n",
    "domain_client.api.services.blob_storage.delete(blob_deposit.blob_storage_entry_id)"
   ]
  },
  {
   "cell_type": "markdown",
   "metadata": {},
   "source": [
    "## Upload and retrieve files with blob storage (low level API)"
   ]
  },
  {
   "cell_type": "code",
   "execution_count": null,
   "metadata": {},
   "outputs": [],
   "source": [
    "from pathlib import Path"
   ]
  },
  {
   "cell_type": "code",
   "execution_count": null,
   "metadata": {},
   "outputs": [],
   "source": [
    "def allocate_file(client: SyftClient, path: Path) -> BlobDeposit:\n",
    "    create_blob_storage_entry = CreateBlobStorageEntry.from_path(path)\n",
    "    return client.api.services.blob_storage.allocate(create_blob_storage_entry)\n",
    "\n",
    "\n",
    "def upload_file(client: SyftClient, path: Path) -> sy.UID:\n",
    "    blob_deposit = allocate_file(client, path)\n",
    "    with open(path, \"rb\") as f:\n",
    "        blob_deposit.write(f)\n",
    "    return blob_deposit.blob_storage_entry_id\n",
    "\n",
    "\n",
    "def retrieve_file(client, blob_storage_entry_id: sy.UID) -> Path:\n",
    "    blob_retrieval = client.api.services.blob_storage.read(blob_storage_entry_id)\n",
    "    file = blob_retrieval.read()\n",
    "    return Path(file.file_name)"
   ]
  },
  {
   "cell_type": "code",
   "execution_count": null,
   "metadata": {},
   "outputs": [],
   "source": [
    "canada_dataset_url = \"https://github.com/OpenMined/datasets/blob/main/trade_flow/ca%20-%20feb%202021.csv?raw=True\"\n",
    "data_file = autocache(canada_dataset_url, \"csv\")\n",
    "data_file"
   ]
  },
  {
   "cell_type": "code",
   "execution_count": null,
   "metadata": {},
   "outputs": [],
   "source": [
    "uploaded_file_storage_id = upload_file(domain_client, data_file)"
   ]
  },
  {
   "cell_type": "code",
   "execution_count": null,
   "metadata": {},
   "outputs": [],
   "source": [
    "retrieved_file = retrieve_file(domain_client, uploaded_file_storage_id)"
   ]
  },
  {
   "cell_type": "code",
   "execution_count": null,
   "metadata": {},
   "outputs": [],
   "source": [
    "import pandas as pd"
   ]
  },
  {
   "cell_type": "markdown",
   "metadata": {},
   "source": [
    "Original file"
   ]
  },
  {
   "cell_type": "code",
   "execution_count": null,
   "metadata": {},
   "outputs": [],
   "source": [
    "pd.read_csv(data_file, nrows=5)"
   ]
  },
  {
   "cell_type": "markdown",
   "metadata": {},
   "source": [
    "Retrieved file"
   ]
  },
  {
   "cell_type": "code",
   "execution_count": null,
   "metadata": {},
   "outputs": [],
   "source": [
    "pd.read_csv(retrieved_file, nrows=5)"
   ]
  },
  {
   "cell_type": "code",
   "execution_count": null,
   "metadata": {},
   "outputs": [],
   "source": [
    "retrieved_file.unlink()"
   ]
  },
  {
   "cell_type": "code",
   "execution_count": null,
   "metadata": {},
   "outputs": [],
   "source": [
    "# delete file from blob storage\n",
    "domain_client.api.services.blob_storage.delete(uploaded_file_storage_id)"
   ]
  },
  {
   "cell_type": "markdown",
   "metadata": {},
   "source": [
    "## From file using Action Object (Partial Functional)"
   ]
  },
  {
   "cell_type": "code",
   "execution_count": null,
   "metadata": {},
   "outputs": [],
   "source": [
    "canada_dataset_url = \"https://github.com/OpenMined/datasets/blob/main/trade_flow/ca%20-%20feb%202021.csv?raw=True\"\n",
    "data_file = autocache(canada_dataset_url, \"csv\")\n",
    "data_file"
   ]
  },
  {
   "cell_type": "code",
   "execution_count": null,
   "metadata": {},
   "outputs": [],
   "source": [
    "# creating an action object from file\n",
    "action_object = sy.ActionObject.from_path(path=data_file)"
   ]
  },
  {
   "cell_type": "code",
   "execution_count": null,
   "metadata": {},
   "outputs": [],
   "source": [
    "data_ptr = action_object.send(domain_client)"
   ]
  },
  {
   "cell_type": "code",
   "execution_count": null,
   "metadata": {},
   "outputs": [],
   "source": [
    "@sy.syft_function_single_use(trade_data=data_ptr)\n",
    "def sum_trade_value_mil(trade_data):\n",
    "    import pandas as pd\n",
    "    import opendp.prelude as dp\n",
    "    dp.enable_features(\"contrib\")\n",
    "    from opendp.measurements import make_laplace\n",
    "    aggregate = 0.\n",
    "    base_lap = dp.m.make_base_laplace(\n",
    "        dp.atom_domain(T=float),\n",
    "        dp.absolute_distance(T=float),\n",
    "        scale=10.\n",
    "    )\n",
    "    \n",
    "    noise = base_lap(aggregate)\n",
    "\n",
    "    df = pd.read_csv(data_ptr.syft_action_data.file_name, low_memory=False)\n",
    "    total = df[\"Trade Value (US$)\"].sum()\n",
    "    return (float(total / 1_000_000), float(noise))"
   ]
  },
  {
   "cell_type": "code",
   "execution_count": null,
   "metadata": {},
   "outputs": [],
   "source": [
    "sum_trade_value_mil(trade_data=data_ptr)"
   ]
  },
  {
   "cell_type": "code",
   "execution_count": null,
   "metadata": {},
   "outputs": [],
   "source": [
    "## clean up\n",
    "## delete downloaded file\n",
    "import os\n",
    "os.unlink(data_ptr.syft_action_data.file_name)\n",
    "\n",
    "## delete file from blob storage\n",
    "domain_client.api.services.blob_storage.delete(action_object.syft_blob_storage_entry_id)"
   ]
  },
  {
   "cell_type": "code",
   "execution_count": null,
   "metadata": {},
   "outputs": [],
   "source": [
    "# Cleanup local domain server\n",
    "if node.node_type.value == \"python\":\n",
    "    node.land()"
   ]
  }
 ],
 "metadata": {
  "kernelspec": {
   "display_name": "Python 3 (ipykernel)",
   "language": "python",
   "name": "python3"
  },
  "language_info": {
   "codemirror_mode": {
    "name": "ipython",
    "version": 3
   },
   "file_extension": ".py",
   "mimetype": "text/x-python",
   "name": "python",
   "nbconvert_exporter": "python",
   "pygments_lexer": "ipython3",
   "version": "3.9.7"
  },
  "toc": {
   "base_numbering": 1,
   "nav_menu": {},
   "number_sections": true,
   "sideBar": true,
   "skip_h1_title": false,
   "title_cell": "Table of Contents",
   "title_sidebar": "Contents",
   "toc_cell": false,
   "toc_position": {},
   "toc_section_display": true,
   "toc_window_display": false
  }
 },
 "nbformat": 4,
 "nbformat_minor": 2
}

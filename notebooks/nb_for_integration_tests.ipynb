{
 "cells": [
  {
   "cell_type": "code",
   "execution_count": 11,
   "metadata": {
    "collapsed": true,
    "pycharm": {
     "name": "#%%\n"
    }
   },
   "outputs": [],
   "source": [
    "#Syft import\n",
    "\n",
    "import syft as sy\n"
   ]
  },
  {
   "cell_type": "markdown",
   "source": [
    "### This cell is used to test that the data owner can log in to the node they created.\n",
    "\n",
    "**Test Method** : A domain node  called {test_node} will be created during CI run on port 9081,\n",
    "The test checks the name of the domain against an expected value\n",
    "\n",
    "**Acceptance Criteria** : The object do_domain_node.name == test_node is True"
   ],
   "metadata": {
    "collapsed": false,
    "pycharm": {
     "name": "#%% md\n"
    }
   }
  },
  {
   "cell_type": "code",
   "execution_count": 15,
   "outputs": [
    {
     "name": "stdout",
     "output_type": "stream",
     "text": [
      "Connecting to http://localhost:9081... done! \t Logging into test_node... done!\n"
     ]
    }
   ],
   "source": [
    "#Data Owner logging in with the default admin credentials\n",
    "do_domain_node = sy.login(email=\"info@openmined.org\", password=\"changethis\", port=9081)"
   ],
   "metadata": {
    "collapsed": false,
    "pycharm": {
     "name": "#%%\n"
    }
   }
  },
  {
   "cell_type": "markdown",
   "source": [
    "#### This cell is used in testing that the *data owner can create a data scientist as a user\n",
    "\n",
    "**Test Method**: A data owner creates a user specifying the credentials, a data scientist then tries to login\n",
    "with this credential\n",
    "\n",
    "**Acceptance Criteria**: The data scientist (user) should be able to log in the domain node, where\n",
    "ds_domain_node.name == do_domain_node.name"
   ],
   "metadata": {
    "collapsed": false,
    "pycharm": {
     "name": "#%% md\n"
    }
   }
  },
  {
   "cell_type": "code",
   "source": [
    "# #Data owner creates a data scientist user using specified credentials\n",
    "#\n",
    "# do_domain_node.users.create(\n",
    "#     name=\"Sheldon Cooper\",\n",
    "#     email=\"sheldon@caltech.edu\",\n",
    "#     password=\"bazinga\"\n",
    "# )"
   ],
   "metadata": {
    "collapsed": false,
    "pycharm": {
     "name": "#%%\n"
    }
   },
   "execution_count": 18,
   "outputs": []
  },
  {
   "cell_type": "code",
   "execution_count": 10,
   "outputs": [
    {
     "name": "stdout",
     "output_type": "stream",
     "text": [
      "Connecting to http://localhost:9081... done! \t Logging into test_node... done!\n"
     ]
    }
   ],
   "source": [
    "# Data scientist logs in with the credentials given by the data owner\n",
    "# ds_domain_node = sy.login(email='sheldon@caltech.edu', password=\"bazinga\", port=9081)\n"
   ],
   "metadata": {
    "collapsed": false,
    "pycharm": {
     "name": "#%%\n"
    }
   }
  }
 ],
 "metadata": {
  "kernelspec": {
   "display_name": "Python 3",
   "language": "python",
   "name": "python3"
  },
  "language_info": {
   "codemirror_mode": {
    "name": "ipython",
    "version": 2
   },
   "file_extension": ".py",
   "mimetype": "text/x-python",
   "name": "python",
   "nbconvert_exporter": "python",
   "pygments_lexer": "ipython2",
   "version": "2.7.6"
  }
 },
 "nbformat": 4,
 "nbformat_minor": 0
}
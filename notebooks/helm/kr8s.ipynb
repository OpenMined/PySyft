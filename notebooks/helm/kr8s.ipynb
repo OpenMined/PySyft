{
 "cells": [
  {
   "cell_type": "code",
   "execution_count": null,
   "id": "69b4c5f2-2c6f-4779-bf72-23876ede3cbb",
   "metadata": {
    "editable": true,
    "slideshow": {
     "slide_type": ""
    },
    "tags": []
   },
   "outputs": [],
   "source": []
  },
  {
   "cell_type": "code",
   "execution_count": null,
   "id": "b77b9ecf-6420-42a3-aefc-23819427eb9e",
   "metadata": {},
   "outputs": [],
   "source": [
    "# !pip install kr8s"
   ]
  },
  {
   "cell_type": "code",
   "execution_count": null,
   "id": "89aaeca0-f1da-4904-8e85-2b19c4b561d4",
   "metadata": {},
   "outputs": [],
   "source": [
    "!pip list | grep kr8s"
   ]
  },
  {
   "cell_type": "code",
   "execution_count": 1,
   "id": "95168eb1-4e2d-4d8e-bf8a-0a5c42a9323d",
   "metadata": {},
   "outputs": [],
   "source": [
    "import kr8s\n",
    "\n",
    "# for node in kr8s.get(\"nodes\"):\n",
    "#     print(node.name)"
   ]
  },
  {
   "cell_type": "code",
   "execution_count": 2,
   "id": "26875e6c-ad22-4e09-81e2-408002e86c27",
   "metadata": {},
   "outputs": [],
   "source": [
    "# !mkdir serviceaccount\n",
    "# kubectl get secret worker-manager-token -o jsonpath=\"{.data.token}\" | base64 --decode > serviceaccount/token\n",
    "# kubectl get secret worker-manager-token -o jsonpath='{.data.ca\\.crt}' | base64 --decode > serviceaccount/ca.crt"
   ]
  },
  {
   "cell_type": "code",
   "execution_count": 6,
   "id": "87644462-65be-4724-89f7-bf5f427af41f",
   "metadata": {},
   "outputs": [],
   "source": [
    "import kr8s\n",
    "\n",
    "client = kr8s.api(\n",
    "    serviceaccount=\"./serviceaccount\"\n",
    ")"
   ]
  },
  {
   "cell_type": "code",
   "execution_count": 7,
   "id": "ebb70730-9735-4dae-8c53-93fd70c81753",
   "metadata": {},
   "outputs": [
    {
     "data": {
      "text/plain": [
       "[<Node k3d-syft-dev-server-0>]"
      ]
     },
     "execution_count": 7,
     "metadata": {},
     "output_type": "execute_result"
    }
   ],
   "source": [
    "client.get(\"nodes\")"
   ]
  },
  {
   "cell_type": "code",
   "execution_count": 8,
   "id": "789093a1-7e61-400c-a6b4-d576ea82c204",
   "metadata": {},
   "outputs": [],
   "source": [
    "from kr8s.objects import Pod\n",
    "\n",
    "backend_pod = Pod.get(\"backend-0\")"
   ]
  },
  {
   "cell_type": "code",
   "execution_count": 9,
   "id": "ef17437d-af57-43c2-9f4b-be0897ea069b",
   "metadata": {},
   "outputs": [
    {
     "data": {
      "text/plain": [
       "<Pod backend-0>"
      ]
     },
     "execution_count": 9,
     "metadata": {},
     "output_type": "execute_result"
    }
   ],
   "source": [
    "backend_pod"
   ]
  },
  {
   "cell_type": "code",
   "execution_count": 12,
   "id": "7b017fe8-6f36-4c2b-b362-ee2c61099237",
   "metadata": {},
   "outputs": [
    {
     "data": {
      "text/plain": [
       "'backend-0'"
      ]
     },
     "execution_count": 12,
     "metadata": {},
     "output_type": "execute_result"
    }
   ],
   "source": [
    "backend_pod.name"
   ]
  },
  {
   "cell_type": "code",
   "execution_count": 13,
   "id": "c66a7a44-ba03-4876-8810-2b6668cede32",
   "metadata": {},
   "outputs": [
    {
     "data": {
      "text/plain": [
       "'syft'"
      ]
     },
     "execution_count": 13,
     "metadata": {},
     "output_type": "execute_result"
    }
   ],
   "source": [
    "backend_pod.namespace"
   ]
  },
  {
   "cell_type": "code",
   "execution_count": 14,
   "id": "d56a6247-f803-41ea-b7ef-83ba0a76881b",
   "metadata": {},
   "outputs": [],
   "source": [
    "s = backend_pod.spec"
   ]
  },
  {
   "cell_type": "code",
   "execution_count": 15,
   "id": "80ee40cb-d263-4098-8fb7-975d48523915",
   "metadata": {},
   "outputs": [],
   "source": [
    "m = backend_pod.metadata"
   ]
  },
  {
   "cell_type": "code",
   "execution_count": 17,
   "id": "c4987763-8b7c-4c88-bc24-9f821cbecb01",
   "metadata": {},
   "outputs": [
    {
     "data": {
      "text/plain": [
       "{'app.kubernetes.io/component': 'backend',\n",
       " 'app.kubernetes.io/managed-by': 'Helm',\n",
       " 'app.kubernetes.io/name': 'devspace-app',\n",
       " 'controller-revision-hash': 'backend-b9d4458f8',\n",
       " 'statefulset.kubernetes.io/pod-name': 'backend-0'}"
      ]
     },
     "execution_count": 17,
     "metadata": {},
     "output_type": "execute_result"
    }
   ],
   "source": [
    "m.to_dict()[\"labels\"]"
   ]
  },
  {
   "cell_type": "code",
   "execution_count": 20,
   "id": "414f9492-48a8-4f1b-b78a-948b9212f3b3",
   "metadata": {},
   "outputs": [],
   "source": [
    "# backend_pod.metadata"
   ]
  },
  {
   "cell_type": "code",
   "execution_count": 21,
   "id": "6d620783-c6bd-4900-bb6b-ec5c69bad34a",
   "metadata": {},
   "outputs": [
    {
     "data": {
      "text/plain": [
       "'k3d-registry.localhost:12345/openmined/grid-backend:dev-1703048319'"
      ]
     },
     "execution_count": 21,
     "metadata": {},
     "output_type": "execute_result"
    }
   ],
   "source": [
    "image = s.containers[0].image\n",
    "image"
   ]
  },
  {
   "cell_type": "code",
   "execution_count": 30,
   "id": "3b825ca6-b75a-4de2-9778-fbf8353e13b7",
   "metadata": {},
   "outputs": [
    {
     "data": {
      "text/plain": [
       "BoxList([{'name': 'PODNAME', 'valueFrom': {'fieldRef': {'apiVersion': 'v1', 'fieldPath': 'metadata.name'}}}, {'name': 'MONGO_PORT', 'value': '27017'}, {'name': 'MONGO_HOST', 'value': 'mongo'}, {'name': 'MONGO_USERNAME', 'value': 'root'}, {'name': 'MONGO_PASSWORD', 'valueFrom': {'secretKeyRef': {'name': 'mongosecret', 'key': 'mongo-password-secret'}}}, {'name': 'SERVICE_NAME', 'value': 'backend'}, {'name': 'RELEASE', 'value': 'production'}, {'name': 'VERSION', 'value': 'dev-1703048319'}, {'name': 'VERSION_HASH', 'value': 'abc'}, {'name': 'NODE_TYPE', 'value': 'domain'}, {'name': 'NODE_NAME', 'value': 'mynode'}, {'name': 'NODE_SIDE_TYPE', 'value': 'high'}, {'name': 'STACK_API_KEY', 'valueFrom': {'secretKeyRef': {'name': 'syftsecret', 'key': 'stackApiKey'}}}, {'name': 'PORT', 'value': '80'}, {'name': 'IGNORE_TLS_ERRORS', 'value': 'False'}, {'name': 'HTTP_PORT', 'value': '80'}, {'name': 'HTTPS_PORT', 'value': '443'}, {'name': 'QUEUE_PORT', 'value': '5556'}, {'name': 'CREATE_PRODUCER', 'value': 'true'}, {'name': 'N_CONSUMERS', 'value': '0'}, {'name': 'CONTAINER_HOST', 'value': 'k8s'}, {'name': 'TRACE', 'value': 'False'}, {'name': 'JAEGER_HOST', 'value': 'localhost'}, {'name': 'JAEGER_PORT', 'value': '14268'}, {'name': 'DEV_MODE', 'value': 'False'}, {'name': 'LOG_LEVEL', 'value': 'debug'}, {'name': 'DOMAIN_CONNECTION_PORT', 'value': '3030'}, {'name': 'ENABLE_OBLV', 'value': 'false'}, {'name': 'DEFAULT_ROOT_EMAIL', 'value': 'info@openmined.org'}, {'name': 'DEFAULT_ROOT_PASSWORD', 'valueFrom': {'secretKeyRef': {'name': 'syftsecret', 'key': 'defaultRootPassword'}}}, {'name': 'S3_ROOT_USER', 'value': 'admin'}, {'name': 'S3_ROOT_PWD', 'valueFrom': {'secretKeyRef': {'name': 'seaweedfsecret', 'key': 'S3_ROOT_PWD_SECRET'}}}, {'name': 'S3_PORT', 'value': '8333'}, {'name': 'SEAWEED_MOUNT_PORT', 'value': '4001'}])"
      ]
     },
     "execution_count": 30,
     "metadata": {},
     "output_type": "execute_result"
    }
   ],
   "source": [
    "env = s.containers[0].env\n",
    "env"
   ]
  },
  {
   "cell_type": "code",
   "execution_count": 27,
   "id": "a955b613-87e3-4c68-916c-797e02322bc3",
   "metadata": {},
   "outputs": [],
   "source": [
    "import copy"
   ]
  },
  {
   "cell_type": "code",
   "execution_count": 31,
   "id": "e98f789c-0e6b-4bc6-8b4d-55b9583d4b62",
   "metadata": {},
   "outputs": [],
   "source": [
    "new_env = copy.deepcopy(env)"
   ]
  },
  {
   "cell_type": "code",
   "execution_count": 32,
   "id": "01768822-7ba6-4daf-9b1d-0eef4b6a09f4",
   "metadata": {},
   "outputs": [],
   "source": [
    "for item in new_env:\n",
    "    if item[\"name\"] == \"N_CONSUMERS\":\n",
    "        item[\"value\"] = \"1\"\n",
    "    if item[\"name\"] == \"CREATE_PRODUCER\":\n",
    "        item[\"value\"] = \"False\""
   ]
  },
  {
   "cell_type": "code",
   "execution_count": 33,
   "id": "ade8a885-3792-47be-a02c-c17633fbd832",
   "metadata": {},
   "outputs": [
    {
     "data": {
      "text/plain": [
       "BoxList([{'name': 'PODNAME', 'valueFrom': {'fieldRef': {'apiVersion': 'v1', 'fieldPath': 'metadata.name'}}}, {'name': 'MONGO_PORT', 'value': '27017'}, {'name': 'MONGO_HOST', 'value': 'mongo'}, {'name': 'MONGO_USERNAME', 'value': 'root'}, {'name': 'MONGO_PASSWORD', 'valueFrom': {'secretKeyRef': {'name': 'mongosecret', 'key': 'mongo-password-secret'}}}, {'name': 'SERVICE_NAME', 'value': 'backend'}, {'name': 'RELEASE', 'value': 'production'}, {'name': 'VERSION', 'value': 'dev-1703048319'}, {'name': 'VERSION_HASH', 'value': 'abc'}, {'name': 'NODE_TYPE', 'value': 'domain'}, {'name': 'NODE_NAME', 'value': 'mynode'}, {'name': 'NODE_SIDE_TYPE', 'value': 'high'}, {'name': 'STACK_API_KEY', 'valueFrom': {'secretKeyRef': {'name': 'syftsecret', 'key': 'stackApiKey'}}}, {'name': 'PORT', 'value': '80'}, {'name': 'IGNORE_TLS_ERRORS', 'value': 'False'}, {'name': 'HTTP_PORT', 'value': '80'}, {'name': 'HTTPS_PORT', 'value': '443'}, {'name': 'QUEUE_PORT', 'value': '5556'}, {'name': 'CREATE_PRODUCER', 'value': 'False'}, {'name': 'N_CONSUMERS', 'value': '1'}, {'name': 'CONTAINER_HOST', 'value': 'k8s'}, {'name': 'TRACE', 'value': 'False'}, {'name': 'JAEGER_HOST', 'value': 'localhost'}, {'name': 'JAEGER_PORT', 'value': '14268'}, {'name': 'DEV_MODE', 'value': 'False'}, {'name': 'LOG_LEVEL', 'value': 'debug'}, {'name': 'DOMAIN_CONNECTION_PORT', 'value': '3030'}, {'name': 'ENABLE_OBLV', 'value': 'false'}, {'name': 'DEFAULT_ROOT_EMAIL', 'value': 'info@openmined.org'}, {'name': 'DEFAULT_ROOT_PASSWORD', 'valueFrom': {'secretKeyRef': {'name': 'syftsecret', 'key': 'defaultRootPassword'}}}, {'name': 'S3_ROOT_USER', 'value': 'admin'}, {'name': 'S3_ROOT_PWD', 'valueFrom': {'secretKeyRef': {'name': 'seaweedfsecret', 'key': 'S3_ROOT_PWD_SECRET'}}}, {'name': 'S3_PORT', 'value': '8333'}, {'name': 'SEAWEED_MOUNT_PORT', 'value': '4001'}])"
      ]
     },
     "execution_count": 33,
     "metadata": {},
     "output_type": "execute_result"
    }
   ],
   "source": [
    "new_env"
   ]
  },
  {
   "cell_type": "code",
   "execution_count": null,
   "id": "248b069a-3082-4533-92b8-a58329a7d10c",
   "metadata": {},
   "outputs": [],
   "source": [
    "# pod = Pod.gen(name=\"worker\", image=image, env=new_env)"
   ]
  },
  {
   "cell_type": "code",
   "execution_count": 34,
   "id": "6d124233-d8d8-47d7-9567-d44d242eeb8f",
   "metadata": {
    "editable": true,
    "slideshow": {
     "slide_type": ""
    },
    "tags": []
   },
   "outputs": [
    {
     "data": {
      "text/plain": [
       "{'name': 'credentials-data',\n",
       " 'mountPath': '/root/data/creds/',\n",
       " 'subPath': 'credentials-data'}"
      ]
     },
     "execution_count": 34,
     "metadata": {},
     "output_type": "execute_result"
    }
   ],
   "source": [
    "volume_mount = backend_pod.spec.containers[0][\"volumeMounts\"][0].to_dict()\n",
    "volume_mount"
   ]
  },
  {
   "cell_type": "code",
   "execution_count": 35,
   "id": "f409dcf3-0c41-45e3-9cef-c189a70ecc78",
   "metadata": {},
   "outputs": [
    {
     "data": {
      "text/plain": [
       "{'name': 'credentials-data',\n",
       " 'persistentVolumeClaim': {'claimName': 'credentials-data-backend-0'}}"
      ]
     },
     "execution_count": 35,
     "metadata": {},
     "output_type": "execute_result"
    }
   ],
   "source": [
    "volume = backend_pod.spec.volumes[0].to_dict()\n",
    "volume"
   ]
  },
  {
   "cell_type": "code",
   "execution_count": 65,
   "id": "c714c2be-c729-41e8-9dae-2eeaedcc7ce3",
   "metadata": {},
   "outputs": [],
   "source": [
    "name = \"worker\"\n",
    "pod_dict = {\n",
    "    \"apiVersion\":\"v1\",\n",
    "    \"kind\":\"Pod\",\n",
    "    \"metadata\":{\n",
    "        \"name\":name,\n",
    "    },\n",
    "    \"spec\":{\n",
    "        \"volumes\": [\n",
    "            volume\n",
    "        ],\n",
    "        \"containers\":[\n",
    "            {\n",
    "                \"name\":name,\n",
    "                \"image\":image,\n",
    "                \"env\":new_env.to_list(),\n",
    "                \"volumeMounts\": [\n",
    "                    volume_mount\n",
    "                ]\n",
    "            }\n",
    "        ],\n",
    "        \"restartPolicy\":\"Always\",\n",
    "    }\n",
    "}"
   ]
  },
  {
   "cell_type": "code",
   "execution_count": 66,
   "id": "98870c0d-6673-42f9-963c-8866490f7811",
   "metadata": {},
   "outputs": [],
   "source": [
    "# worker_name = \"worker\"\n",
    "# pod_dict = {\n",
    "#     \"apiVersion\":\"v1\",\n",
    "#     \"kind\":\"Pod\",\n",
    "#     \"metadata\":{\n",
    "#         \"name\":worker_name,\n",
    "#     },\n",
    "#     \"spec\":{\n",
    "#         \"containers\":[\n",
    "#             {\n",
    "#                 \"name\":worker_name,\n",
    "#                 \"image\":image,\n",
    "#                 \"env\":new_env.to_list(),\n",
    "#             }\n",
    "#         ],\n",
    "#         \"restartPolicy\":\"Always\",\n",
    "#     }\n",
    "# }"
   ]
  },
  {
   "cell_type": "code",
   "execution_count": null,
   "id": "088c207e-05c4-4e74-be9c-a68c1dd45602",
   "metadata": {},
   "outputs": [],
   "source": []
  },
  {
   "cell_type": "code",
   "execution_count": 69,
   "id": "cc2330d9-a96e-4098-9e9a-22258f614321",
   "metadata": {},
   "outputs": [],
   "source": [
    "pod = Pod(pod_dict)"
   ]
  },
  {
   "cell_type": "code",
   "execution_count": 70,
   "id": "639efb5d-5da4-4020-b035-a70c0460696d",
   "metadata": {},
   "outputs": [],
   "source": [
    "# pod = Pod.gen(name=worker_name, image=image, env=new_env)"
   ]
  },
  {
   "cell_type": "code",
   "execution_count": 71,
   "id": "703f1469-672c-448a-a7d1-234851328f93",
   "metadata": {},
   "outputs": [
    {
     "data": {
      "text/plain": [
       "'{\"apiVersion\": \"v1\", \"kind\": \"Pod\", \"metadata\": {\"name\": \"worker\"}, \"spec\": {\"volumes\": [{\"name\": \"credentials-data\", \"persistentVolumeClaim\": {\"claimName\": \"credentials-data-backend-0\"}}], \"containers\": [{\"name\": \"worker\", \"image\": \"k3d-registry.localhost:12345/openmined/grid-backend:dev-1703048319\", \"env\": [{\"name\": \"PODNAME\", \"valueFrom\": {\"fieldRef\": {\"apiVersion\": \"v1\", \"fieldPath\": \"metadata.name\"}}}, {\"name\": \"MONGO_PORT\", \"value\": \"27017\"}, {\"name\": \"MONGO_HOST\", \"value\": \"mongo\"}, {\"name\": \"MONGO_USERNAME\", \"value\": \"root\"}, {\"name\": \"MONGO_PASSWORD\", \"valueFrom\": {\"secretKeyRef\": {\"name\": \"mongosecret\", \"key\": \"mongo-password-secret\"}}}, {\"name\": \"SERVICE_NAME\", \"value\": \"backend\"}, {\"name\": \"RELEASE\", \"value\": \"production\"}, {\"name\": \"VERSION\", \"value\": \"dev-1703048319\"}, {\"name\": \"VERSION_HASH\", \"value\": \"abc\"}, {\"name\": \"NODE_TYPE\", \"value\": \"domain\"}, {\"name\": \"NODE_NAME\", \"value\": \"mynode\"}, {\"name\": \"NODE_SIDE_TYPE\", \"value\": \"high\"}, {\"name\": \"STACK_API_KEY\", \"valueFrom\": {\"secretKeyRef\": {\"name\": \"syftsecret\", \"key\": \"stackApiKey\"}}}, {\"name\": \"PORT\", \"value\": \"80\"}, {\"name\": \"IGNORE_TLS_ERRORS\", \"value\": \"False\"}, {\"name\": \"HTTP_PORT\", \"value\": \"80\"}, {\"name\": \"HTTPS_PORT\", \"value\": \"443\"}, {\"name\": \"QUEUE_PORT\", \"value\": \"5556\"}, {\"name\": \"CREATE_PRODUCER\", \"value\": \"False\"}, {\"name\": \"N_CONSUMERS\", \"value\": \"1\"}, {\"name\": \"CONTAINER_HOST\", \"value\": \"k8s\"}, {\"name\": \"TRACE\", \"value\": \"False\"}, {\"name\": \"JAEGER_HOST\", \"value\": \"localhost\"}, {\"name\": \"JAEGER_PORT\", \"value\": \"14268\"}, {\"name\": \"DEV_MODE\", \"value\": \"False\"}, {\"name\": \"LOG_LEVEL\", \"value\": \"debug\"}, {\"name\": \"DOMAIN_CONNECTION_PORT\", \"value\": \"3030\"}, {\"name\": \"ENABLE_OBLV\", \"value\": \"false\"}, {\"name\": \"DEFAULT_ROOT_EMAIL\", \"value\": \"info@openmined.org\"}, {\"name\": \"DEFAULT_ROOT_PASSWORD\", \"valueFrom\": {\"secretKeyRef\": {\"name\": \"syftsecret\", \"key\": \"defaultRootPassword\"}}}, {\"name\": \"S3_ROOT_USER\", \"value\": \"admin\"}, {\"name\": \"S3_ROOT_PWD\", \"valueFrom\": {\"secretKeyRef\": {\"name\": \"seaweedfsecret\", \"key\": \"S3_ROOT_PWD_SECRET\"}}}, {\"name\": \"S3_PORT\", \"value\": \"8333\"}, {\"name\": \"SEAWEED_MOUNT_PORT\", \"value\": \"4001\"}], \"volumeMounts\": [{\"name\": \"credentials-data\", \"mountPath\": \"/root/data/creds/\", \"subPath\": \"credentials-data\"}]}], \"restartPolicy\": \"Always\"}}'"
      ]
     },
     "execution_count": 71,
     "metadata": {},
     "output_type": "execute_result"
    }
   ],
   "source": [
    "json.dumps(pod.raw)"
   ]
  },
  {
   "cell_type": "code",
   "execution_count": null,
   "id": "67026cf7-9ea5-4c7f-bfe6-3d9059d68aa4",
   "metadata": {},
   "outputs": [],
   "source": []
  },
  {
   "cell_type": "code",
   "execution_count": null,
   "id": "21939399-c75b-445e-9936-e79100008041",
   "metadata": {},
   "outputs": [],
   "source": []
  },
  {
   "cell_type": "code",
   "execution_count": 72,
   "id": "93dcf815-559b-4477-af0d-bd56151cf22c",
   "metadata": {},
   "outputs": [],
   "source": [
    "pod.create()"
   ]
  },
  {
   "cell_type": "code",
   "execution_count": null,
   "id": "ed0976b6-04df-4afe-b1d8-040e8cb83805",
   "metadata": {},
   "outputs": [],
   "source": []
  },
  {
   "cell_type": "code",
   "execution_count": null,
   "id": "801fa20b-5e15-4a59-b7fe-17bc9e2916f5",
   "metadata": {},
   "outputs": [],
   "source": []
  },
  {
   "cell_type": "code",
   "execution_count": null,
   "id": "a4e5b88d-8b46-4678-a827-9f58653ed022",
   "metadata": {},
   "outputs": [],
   "source": []
  },
  {
   "cell_type": "code",
   "execution_count": null,
   "id": "96b50db5-720b-4cb2-8735-58ef1049f5a2",
   "metadata": {},
   "outputs": [],
   "source": [
    "type(pod)"
   ]
  },
  {
   "cell_type": "code",
   "execution_count": null,
   "id": "a115d12b-6d37-46cf-99f9-c939f1af063e",
   "metadata": {},
   "outputs": [],
   "source": [
    "dir(pod)"
   ]
  },
  {
   "cell_type": "code",
   "execution_count": null,
   "id": "b7a05fe8-9ff5-48f1-9c6c-9c101a506802",
   "metadata": {},
   "outputs": [],
   "source": [
    "search_uid = pod.metadata.uid"
   ]
  },
  {
   "cell_type": "code",
   "execution_count": null,
   "id": "32e7415e-f65b-42c7-89a3-dc1cc6a55725",
   "metadata": {},
   "outputs": [],
   "source": [
    "pods = kr8s.get(\"pods\", namespace=kr8s.ALL)"
   ]
  },
  {
   "cell_type": "code",
   "execution_count": null,
   "id": "f8e9a595-8140-4f7f-bdfc-37a000185b18",
   "metadata": {},
   "outputs": [],
   "source": [
    "pods"
   ]
  },
  {
   "cell_type": "code",
   "execution_count": null,
   "id": "065c488c-796e-407b-b267-e767fa0a960a",
   "metadata": {},
   "outputs": [],
   "source": [
    "found_pod = None\n",
    "for pod in pods:\n",
    "    if pod.metadata.uid == search_uid:\n",
    "        print(\"found\", pod)\n",
    "        found_pod = pod"
   ]
  },
  {
   "cell_type": "code",
   "execution_count": null,
   "id": "73633a47-c29d-46d6-9919-cdee1e829bac",
   "metadata": {},
   "outputs": [],
   "source": [
    "found_pod.delete()"
   ]
  },
  {
   "cell_type": "code",
   "execution_count": null,
   "id": "17323ac8-790f-417a-b60f-7585678fb6ba",
   "metadata": {},
   "outputs": [],
   "source": [
    "dir(found_pod)"
   ]
  },
  {
   "cell_type": "code",
   "execution_count": null,
   "id": "4d4d972a-7264-417e-97dd-03957df6ceba",
   "metadata": {},
   "outputs": [],
   "source": [
    "# Filter pods by UID\n",
    "matching_pod = next((pod for pod in all_pods if pod['metadata']['uid'] == search_uid), None)\n",
    "\n",
    "if matching_pod:\n",
    "    print(\"Found Pod:\", matching_pod['metadata']['name'], \"in Namespace:\", matching_pod['metadata']['namespace'])\n",
    "else:\n",
    "    print(\"No pod found with UID\", search_uid)"
   ]
  }
 ],
 "metadata": {
  "kernelspec": {
   "display_name": "Python 3 (ipykernel)",
   "language": "python",
   "name": "python3"
  },
  "language_info": {
   "codemirror_mode": {
    "name": "ipython",
    "version": 3
   },
   "file_extension": ".py",
   "mimetype": "text/x-python",
   "name": "python",
   "nbconvert_exporter": "python",
   "pygments_lexer": "ipython3",
   "version": "3.10.13"
  },
  "toc": {
   "base_numbering": 1
  }
 },
 "nbformat": 4,
 "nbformat_minor": 5
}

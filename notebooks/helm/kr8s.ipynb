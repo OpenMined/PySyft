{
 "cells": [
  {
   "cell_type": "code",
   "execution_count": null,
   "id": "69b4c5f2-2c6f-4779-bf72-23876ede3cbb",
   "metadata": {},
   "outputs": [],
   "source": []
  },
  {
   "cell_type": "code",
   "execution_count": 2,
   "id": "b77b9ecf-6420-42a3-aefc-23819427eb9e",
   "metadata": {},
   "outputs": [],
   "source": [
    "# !pip install kr8s"
   ]
  },
  {
   "cell_type": "code",
   "execution_count": 3,
   "id": "89aaeca0-f1da-4904-8e85-2b19c4b561d4",
   "metadata": {},
   "outputs": [
    {
     "name": "stdout",
     "output_type": "stream",
     "text": [
      "kr8s                                     0.12.10\n"
     ]
    }
   ],
   "source": [
    "!pip list | grep kr8s"
   ]
  },
  {
   "cell_type": "code",
   "execution_count": 4,
   "id": "95168eb1-4e2d-4d8e-bf8a-0a5c42a9323d",
   "metadata": {},
   "outputs": [
    {
     "name": "stdout",
     "output_type": "stream",
     "text": [
      "k3d-syft-dev-server-0\n"
     ]
    }
   ],
   "source": [
    "import kr8s\n",
    "\n",
    "# for node in kr8s.get(\"nodes\"):\n",
    "#     print(node.name)"
   ]
  },
  {
   "cell_type": "code",
   "execution_count": null,
   "id": "26875e6c-ad22-4e09-81e2-408002e86c27",
   "metadata": {},
   "outputs": [],
   "source": [
    "# !mkdir serviceaccount\n",
    "# kubectl get secret worker-manager-token -o jsonpath=\"{.data.token}\" | base64 --decode > serviceaccount/token\n",
    "# kubectl get secret worker-manager-token -o jsonpath='{.data.ca\\.crt}' | base64 --decode > serviceaccount/ca.crt"
   ]
  },
  {
   "cell_type": "code",
   "execution_count": 105,
   "id": "084d69dd-74e3-485a-8fe0-0e559b8e33ea",
   "metadata": {},
   "outputs": [
    {
     "data": {
      "text/plain": [
       "kr8s.objects.Pod"
      ]
     },
     "execution_count": 105,
     "metadata": {},
     "output_type": "execute_result"
    }
   ],
   "source": [
    "type(pod)"
   ]
  },
  {
   "cell_type": "code",
   "execution_count": 7,
   "id": "87644462-65be-4724-89f7-bf5f427af41f",
   "metadata": {},
   "outputs": [],
   "source": [
    "import kr8s\n",
    "\n",
    "client = kr8s.api(\n",
    "    serviceaccount=\"./serviceaccount\"\n",
    ")"
   ]
  },
  {
   "cell_type": "code",
   "execution_count": 8,
   "id": "ebb70730-9735-4dae-8c53-93fd70c81753",
   "metadata": {},
   "outputs": [
    {
     "data": {
      "text/plain": [
       "[<Node k3d-syft-dev-server-0>]"
      ]
     },
     "execution_count": 8,
     "metadata": {},
     "output_type": "execute_result"
    }
   ],
   "source": [
    "client.get(\"nodes\")"
   ]
  },
  {
   "cell_type": "code",
   "execution_count": 22,
   "id": "789093a1-7e61-400c-a6b4-d576ea82c204",
   "metadata": {},
   "outputs": [],
   "source": [
    "from kr8s.objects import Pod\n",
    "\n",
    "backend_pod = Pod.get(\"backend-0\")"
   ]
  },
  {
   "cell_type": "code",
   "execution_count": 23,
   "id": "ef17437d-af57-43c2-9f4b-be0897ea069b",
   "metadata": {},
   "outputs": [
    {
     "data": {
      "text/plain": [
       "<Pod backend-0>"
      ]
     },
     "execution_count": 23,
     "metadata": {},
     "output_type": "execute_result"
    }
   ],
   "source": [
    "backend_pod"
   ]
  },
  {
   "cell_type": "code",
   "execution_count": null,
   "id": "1460350c-a140-4d08-a76a-77fbcea58cf2",
   "metadata": {},
   "outputs": [],
   "source": []
  },
  {
   "cell_type": "code",
   "execution_count": null,
   "id": "30beac05-4656-4e26-b951-1a9abd10716f",
   "metadata": {},
   "outputs": [],
   "source": [
    "# new_pod = backend_pod.copy()\n",
    "# new_pod['metadata']['name'] = \"worker\"\n",
    "# new_pod['metadata'].pop('resourceVersion', None)  # Remove the resourceVersion\n",
    "# new_pod['metadata'].pop('uid', None)  # Remove the UID\n",
    "# new_pod['metadata'].pop('creationTimestamp', None)  # Remove the creationTimestamp\n",
    "# new_pod['metadata'].pop('selfLink', None)  # Remove the selfLink\n",
    "# new_pod['metadata'].pop('ownerReferences', None)  # Remove owner references if any"
   ]
  },
  {
   "cell_type": "code",
   "execution_count": null,
   "id": "c67f2a96-5178-4d1d-9581-a763a5d43e02",
   "metadata": {},
   "outputs": [],
   "source": [
    "# # Create the new pod\n",
    "# client.create(body=new_pod, namespace=\"syft\")"
   ]
  },
  {
   "cell_type": "code",
   "execution_count": null,
   "id": "d935f021-15c9-4cc2-9991-2b3583cc0802",
   "metadata": {},
   "outputs": [],
   "source": []
  },
  {
   "cell_type": "code",
   "execution_count": 27,
   "id": "7b017fe8-6f36-4c2b-b362-ee2c61099237",
   "metadata": {},
   "outputs": [
    {
     "data": {
      "text/plain": [
       "'backend-0'"
      ]
     },
     "execution_count": 27,
     "metadata": {},
     "output_type": "execute_result"
    }
   ],
   "source": [
    "backend_pod.name"
   ]
  },
  {
   "cell_type": "code",
   "execution_count": 29,
   "id": "c66a7a44-ba03-4876-8810-2b6668cede32",
   "metadata": {},
   "outputs": [
    {
     "data": {
      "text/plain": [
       "'syft'"
      ]
     },
     "execution_count": 29,
     "metadata": {},
     "output_type": "execute_result"
    }
   ],
   "source": [
    "backend_pod.namespace"
   ]
  },
  {
   "cell_type": "code",
   "execution_count": 44,
   "id": "d56a6247-f803-41ea-b7ef-83ba0a76881b",
   "metadata": {},
   "outputs": [],
   "source": [
    "s = backend_pod.spec"
   ]
  },
  {
   "cell_type": "code",
   "execution_count": 54,
   "id": "c1256569-8b2c-40fe-b2ee-74471abd2044",
   "metadata": {},
   "outputs": [],
   "source": []
  },
  {
   "cell_type": "code",
   "execution_count": 34,
   "id": "80ee40cb-d263-4098-8fb7-975d48523915",
   "metadata": {},
   "outputs": [],
   "source": [
    "m = backend_pod.metadata"
   ]
  },
  {
   "cell_type": "code",
   "execution_count": null,
   "id": "641a7167-27e0-48f1-8468-d7ec5979237e",
   "metadata": {},
   "outputs": [],
   "source": [
    "backend_pod"
   ]
  },
  {
   "cell_type": "code",
   "execution_count": 39,
   "id": "12b64a05-2a13-4a98-b302-c28bb56f4f9a",
   "metadata": {},
   "outputs": [
    {
     "data": {
      "text/plain": [
       "'backend-68bd474464'"
      ]
     },
     "execution_count": 39,
     "metadata": {},
     "output_type": "execute_result"
    }
   ],
   "source": []
  },
  {
   "cell_type": "code",
   "execution_count": 37,
   "id": "c4987763-8b7c-4c88-bc24-9f821cbecb01",
   "metadata": {},
   "outputs": [
    {
     "data": {
      "text/plain": [
       "{'app.kubernetes.io/component': 'backend',\n",
       " 'app.kubernetes.io/managed-by': 'Helm',\n",
       " 'app.kubernetes.io/name': 'devspace-app',\n",
       " 'controller-revision-hash': 'backend-68bd474464',\n",
       " 'statefulset.kubernetes.io/pod-name': 'backend-0'}"
      ]
     },
     "execution_count": 37,
     "metadata": {},
     "output_type": "execute_result"
    }
   ],
   "source": [
    "m.to_dict()[\"labels\"]"
   ]
  },
  {
   "cell_type": "code",
   "execution_count": 28,
   "id": "414f9492-48a8-4f1b-b78a-948b9212f3b3",
   "metadata": {},
   "outputs": [
    {
     "data": {
      "text/plain": [
       "Box({'name': 'backend-0', 'generateName': 'backend-', 'namespace': 'syft', 'uid': '396905bb-865a-48e7-8998-473eccd819c4', 'resourceVersion': '1562', 'creationTimestamp': '2023-12-19T04:59:04Z', 'labels': {'app.kubernetes.io/component': 'backend', 'app.kubernetes.io/managed-by': 'Helm', 'app.kubernetes.io/name': 'devspace-app', 'controller-revision-hash': 'backend-68bd474464', 'statefulset.kubernetes.io/pod-name': 'backend-0'}, 'ownerReferences': [{'apiVersion': 'apps/v1', 'kind': 'StatefulSet', 'name': 'backend', 'uid': 'c613f592-967d-4997-bfb4-8e21654a2a8f', 'controller': True, 'blockOwnerDeletion': True}], 'managedFields': [{'manager': 'k3s', 'operation': 'Update', 'apiVersion': 'v1', 'time': '2023-12-19T04:59:04Z', 'fieldsType': 'FieldsV1', 'fieldsV1': {'f:metadata': {'f:generateName': {}, 'f:labels': {'.': {}, 'f:app.kubernetes.io/component': {}, 'f:app.kubernetes.io/managed-by': {}, 'f:app.kubernetes.io/name': {}, 'f:controller-revision-hash': {}, 'f:statefulset.kubernetes.io/pod-name': {}}, 'f:ownerReferences': {'.': {}, 'k:{\"uid\":\"c613f592-967d-4997-bfb4-8e21654a2a8f\"}': {}}}, 'f:spec': {'f:containers': {'k:{\"name\":\"container-0\"}': {'.': {}, 'f:env': {'.': {}, 'k:{\"name\":\"CONTAINER_HOST\"}': {'.': {}, 'f:name': {}, 'f:value': {}}, 'k:{\"name\":\"CREATE_PRODUCER\"}': {'.': {}, 'f:name': {}, 'f:value': {}}, 'k:{\"name\":\"DEFAULT_ROOT_EMAIL\"}': {'.': {}, 'f:name': {}, 'f:value': {}}, 'k:{\"name\":\"DEFAULT_ROOT_PASSWORD\"}': {'.': {}, 'f:name': {}, 'f:valueFrom': {'.': {}, 'f:secretKeyRef': {}}}, 'k:{\"name\":\"DEV_MODE\"}': {'.': {}, 'f:name': {}, 'f:value': {}}, 'k:{\"name\":\"DOMAIN_CONNECTION_PORT\"}': {'.': {}, 'f:name': {}, 'f:value': {}}, 'k:{\"name\":\"ENABLE_OBLV\"}': {'.': {}, 'f:name': {}, 'f:value': {}}, 'k:{\"name\":\"HTTPS_PORT\"}': {'.': {}, 'f:name': {}, 'f:value': {}}, 'k:{\"name\":\"HTTP_PORT\"}': {'.': {}, 'f:name': {}, 'f:value': {}}, 'k:{\"name\":\"IGNORE_TLS_ERRORS\"}': {'.': {}, 'f:name': {}, 'f:value': {}}, 'k:{\"name\":\"JAEGER_HOST\"}': {'.': {}, 'f:name': {}, 'f:value': {}}, 'k:{\"name\":\"JAEGER_PORT\"}': {'.': {}, 'f:name': {}, 'f:value': {}}, 'k:{\"name\":\"MONGO_HOST\"}': {'.': {}, 'f:name': {}, 'f:value': {}}, 'k:{\"name\":\"MONGO_PASSWORD\"}': {'.': {}, 'f:name': {}, 'f:valueFrom': {'.': {}, 'f:secretKeyRef': {}}}, 'k:{\"name\":\"MONGO_PORT\"}': {'.': {}, 'f:name': {}, 'f:value': {}}, 'k:{\"name\":\"MONGO_USERNAME\"}': {'.': {}, 'f:name': {}, 'f:value': {}}, 'k:{\"name\":\"NODE_NAME\"}': {'.': {}, 'f:name': {}, 'f:value': {}}, 'k:{\"name\":\"NODE_SIDE_TYPE\"}': {'.': {}, 'f:name': {}, 'f:value': {}}, 'k:{\"name\":\"NODE_TYPE\"}': {'.': {}, 'f:name': {}, 'f:value': {}}, 'k:{\"name\":\"N_CONSUMERS\"}': {'.': {}, 'f:name': {}, 'f:value': {}}, 'k:{\"name\":\"PORT\"}': {'.': {}, 'f:name': {}, 'f:value': {}}, 'k:{\"name\":\"QUEUE_PORT\"}': {'.': {}, 'f:name': {}, 'f:value': {}}, 'k:{\"name\":\"RELEASE\"}': {'.': {}, 'f:name': {}, 'f:value': {}}, 'k:{\"name\":\"S3_PORT\"}': {'.': {}, 'f:name': {}, 'f:value': {}}, 'k:{\"name\":\"S3_ROOT_PWD\"}': {'.': {}, 'f:name': {}, 'f:valueFrom': {'.': {}, 'f:secretKeyRef': {}}}, 'k:{\"name\":\"S3_ROOT_USER\"}': {'.': {}, 'f:name': {}, 'f:value': {}}, 'k:{\"name\":\"SEAWEED_MOUNT_PORT\"}': {'.': {}, 'f:name': {}, 'f:value': {}}, 'k:{\"name\":\"SERVICE_NAME\"}': {'.': {}, 'f:name': {}, 'f:value': {}}, 'k:{\"name\":\"STACK_API_KEY\"}': {'.': {}, 'f:name': {}, 'f:valueFrom': {'.': {}, 'f:secretKeyRef': {}}}, 'k:{\"name\":\"TRACE\"}': {'.': {}, 'f:name': {}, 'f:value': {}}, 'k:{\"name\":\"VERSION\"}': {'.': {}, 'f:name': {}, 'f:value': {}}, 'k:{\"name\":\"VERSION_HASH\"}': {'.': {}, 'f:name': {}, 'f:value': {}}}, 'f:image': {}, 'f:imagePullPolicy': {}, 'f:name': {}, 'f:resources': {}, 'f:terminationMessagePath': {}, 'f:terminationMessagePolicy': {}, 'f:volumeMounts': {'.': {}, 'k:{\"mountPath\":\"/root/data/creds/\"}': {'.': {}, 'f:mountPath': {}, 'f:name': {}, 'f:subPath': {}}}}}, 'f:dnsPolicy': {}, 'f:enableServiceLinks': {}, 'f:hostname': {}, 'f:restartPolicy': {}, 'f:schedulerName': {}, 'f:securityContext': {}, 'f:subdomain': {}, 'f:terminationGracePeriodSeconds': {}, 'f:volumes': {'.': {}, 'k:{\"name\":\"credentials-data\"}': {'.': {}, 'f:name': {}, 'f:persistentVolumeClaim': {'.': {}, 'f:claimName': {}}}}}}}, {'manager': 'k3s', 'operation': 'Update', 'apiVersion': 'v1', 'time': '2023-12-19T04:59:09Z', 'fieldsType': 'FieldsV1', 'fieldsV1': {'f:status': {'f:conditions': {'k:{\"type\":\"ContainersReady\"}': {'.': {}, 'f:lastProbeTime': {}, 'f:lastTransitionTime': {}, 'f:status': {}, 'f:type': {}}, 'k:{\"type\":\"Initialized\"}': {'.': {}, 'f:lastProbeTime': {}, 'f:lastTransitionTime': {}, 'f:status': {}, 'f:type': {}}, 'k:{\"type\":\"Ready\"}': {'.': {}, 'f:lastProbeTime': {}, 'f:lastTransitionTime': {}, 'f:status': {}, 'f:type': {}}}, 'f:containerStatuses': {}, 'f:hostIP': {}, 'f:phase': {}, 'f:podIP': {}, 'f:podIPs': {'.': {}, 'k:{\"ip\":\"10.42.0.26\"}': {'.': {}, 'f:ip': {}}}, 'f:startTime': {}}}, 'subresource': 'status'}]})"
      ]
     },
     "execution_count": 28,
     "metadata": {},
     "output_type": "execute_result"
    }
   ],
   "source": [
    "backend_pod.metadata"
   ]
  },
  {
   "cell_type": "code",
   "execution_count": 55,
   "id": "6d620783-c6bd-4900-bb6b-ec5c69bad34a",
   "metadata": {},
   "outputs": [
    {
     "data": {
      "text/plain": [
       "'k3d-registry.localhost:12345/openmined/grid-backend:dev-latest'"
      ]
     },
     "execution_count": 55,
     "metadata": {},
     "output_type": "execute_result"
    }
   ],
   "source": [
    "image = s.containers[0].image\n",
    "image"
   ]
  },
  {
   "cell_type": "code",
   "execution_count": 56,
   "id": "fd30a17f-8451-45d1-9243-3d4505d780a4",
   "metadata": {},
   "outputs": [
    {
     "data": {
      "text/plain": [
       "BoxList([{'name': 'MONGO_PORT', 'value': '27017'}, {'name': 'MONGO_HOST', 'value': 'mongo'}, {'name': 'MONGO_USERNAME', 'value': 'root'}, {'name': 'MONGO_PASSWORD', 'valueFrom': {'secretKeyRef': {'name': 'mongosecret', 'key': 'mongo-password-secret'}}}, {'name': 'SERVICE_NAME', 'value': 'backend'}, {'name': 'RELEASE', 'value': 'production'}, {'name': 'VERSION', 'value': 'dev-latest'}, {'name': 'VERSION_HASH', 'value': 'abc'}, {'name': 'NODE_TYPE', 'value': 'domain'}, {'name': 'NODE_NAME', 'value': 'mynode'}, {'name': 'NODE_SIDE_TYPE', 'value': 'high'}, {'name': 'STACK_API_KEY', 'valueFrom': {'secretKeyRef': {'name': 'syftsecret', 'key': 'stackApiKey'}}}, {'name': 'PORT', 'value': '80'}, {'name': 'IGNORE_TLS_ERRORS', 'value': 'False'}, {'name': 'HTTP_PORT', 'value': '80'}, {'name': 'HTTPS_PORT', 'value': '443'}, {'name': 'QUEUE_PORT', 'value': '5556'}, {'name': 'CREATE_PRODUCER', 'value': 'true'}, {'name': 'N_CONSUMERS', 'value': '0'}, {'name': 'CONTAINER_HOST', 'value': 'k8s'}, {'name': 'TRACE', 'value': 'False'}, {'name': 'JAEGER_HOST', 'value': 'localhost'}, {'name': 'JAEGER_PORT', 'value': '14268'}, {'name': 'DEV_MODE', 'value': 'False'}, {'name': 'DOMAIN_CONNECTION_PORT', 'value': '3030'}, {'name': 'ENABLE_OBLV', 'value': 'false'}, {'name': 'DEFAULT_ROOT_EMAIL', 'value': 'info@openmined.org'}, {'name': 'DEFAULT_ROOT_PASSWORD', 'valueFrom': {'secretKeyRef': {'name': 'syftsecret', 'key': 'defaultRootPassword'}}}, {'name': 'S3_ROOT_USER', 'value': 'admin'}, {'name': 'S3_ROOT_PWD', 'valueFrom': {'secretKeyRef': {'name': 'seaweedfsecret', 'key': 'S3_ROOT_PWD_SECRET'}}}, {'name': 'S3_PORT', 'value': '8333'}, {'name': 'SEAWEED_MOUNT_PORT', 'value': '4001'}])"
      ]
     },
     "execution_count": 56,
     "metadata": {},
     "output_type": "execute_result"
    }
   ],
   "source": [
    "env = s.containers[0].env\n",
    "env"
   ]
  },
  {
   "cell_type": "code",
   "execution_count": 70,
   "id": "57c2bc83-2528-439e-87f9-9722a5c7fdcf",
   "metadata": {},
   "outputs": [
    {
     "name": "stdout",
     "output_type": "stream",
     "text": [
      "{'name': 'MONGO_PORT', 'value': '27017'}\n",
      "{'name': 'MONGO_HOST', 'value': 'mongo'}\n",
      "{'name': 'MONGO_USERNAME', 'value': 'root'}\n",
      "{'name': 'MONGO_PASSWORD', 'valueFrom': {'secretKeyRef': {'name': 'mongosecret', 'key': 'mongo-password-secret'}}}\n",
      "{'name': 'SERVICE_NAME', 'value': 'backend'}\n",
      "{'name': 'RELEASE', 'value': 'production'}\n",
      "{'name': 'VERSION', 'value': 'dev-latest'}\n",
      "{'name': 'VERSION_HASH', 'value': 'abc'}\n",
      "{'name': 'NODE_TYPE', 'value': 'domain'}\n",
      "{'name': 'NODE_NAME', 'value': 'mynode'}\n",
      "{'name': 'NODE_SIDE_TYPE', 'value': 'high'}\n",
      "{'name': 'STACK_API_KEY', 'valueFrom': {'secretKeyRef': {'name': 'syftsecret', 'key': 'stackApiKey'}}}\n",
      "{'name': 'PORT', 'value': '80'}\n",
      "{'name': 'IGNORE_TLS_ERRORS', 'value': 'False'}\n",
      "{'name': 'HTTP_PORT', 'value': '80'}\n",
      "{'name': 'HTTPS_PORT', 'value': '443'}\n",
      "{'name': 'QUEUE_PORT', 'value': '5556'}\n",
      "{'name': 'CREATE_PRODUCER', 'value': 'true'}\n",
      "{'name': 'N_CONSUMERS', 'value': '0'}\n",
      "{'name': 'CONTAINER_HOST', 'value': 'k8s'}\n",
      "{'name': 'TRACE', 'value': 'False'}\n",
      "{'name': 'JAEGER_HOST', 'value': 'localhost'}\n",
      "{'name': 'JAEGER_PORT', 'value': '14268'}\n",
      "{'name': 'DEV_MODE', 'value': 'False'}\n",
      "{'name': 'DOMAIN_CONNECTION_PORT', 'value': '3030'}\n",
      "{'name': 'ENABLE_OBLV', 'value': 'false'}\n",
      "{'name': 'DEFAULT_ROOT_EMAIL', 'value': 'info@openmined.org'}\n",
      "{'name': 'DEFAULT_ROOT_PASSWORD', 'valueFrom': {'secretKeyRef': {'name': 'syftsecret', 'key': 'defaultRootPassword'}}}\n",
      "{'name': 'S3_ROOT_USER', 'value': 'admin'}\n",
      "{'name': 'S3_ROOT_PWD', 'valueFrom': {'secretKeyRef': {'name': 'seaweedfsecret', 'key': 'S3_ROOT_PWD_SECRET'}}}\n",
      "{'name': 'S3_PORT', 'value': '8333'}\n",
      "{'name': 'SEAWEED_MOUNT_PORT', 'value': '4001'}\n"
     ]
    }
   ],
   "source": [
    "new_env = {}\n",
    "for item in env:\n",
    "    d = item.to_dict()\n",
    "    print(d)\n",
    "    if \"value\" in d:\n",
    "        new_env[d[\"name\"]] = d[\"value\"]\n",
    "    else:\n",
    "        new_env[d[\"name\"]] = \"missing\""
   ]
  },
  {
   "cell_type": "code",
   "execution_count": 78,
   "id": "11ecf7b0-e8a3-4ffe-a743-911effaf871a",
   "metadata": {},
   "outputs": [],
   "source": [
    "new_env[\"N_CONSUMERS\"] = \"1\"\n",
    "new_env[\"CREATE_PRODUCER\"] = \"False\""
   ]
  },
  {
   "cell_type": "code",
   "execution_count": 84,
   "id": "365a1354-fc05-4390-b68c-1673f86baf5c",
   "metadata": {},
   "outputs": [],
   "source": [
    "new_env[\"MONGO_PASSWORD\"] = \"mongosecret\"\n",
    "new_env[\"STACK_API_KEY\"] = \"syftsecret\"\n",
    "new_env[\"DEFAULT_ROOT_PASSWORD\"] = \"syftsecret\"\n",
    "new_env[\"S3_ROOT_PWD\"] = \"seaweedfsecret\""
   ]
  },
  {
   "cell_type": "code",
   "execution_count": 85,
   "id": "3b825ca6-b75a-4de2-9778-fbf8353e13b7",
   "metadata": {},
   "outputs": [
    {
     "data": {
      "text/plain": [
       "{'MONGO_PORT': '27017',\n",
       " 'MONGO_HOST': 'mongo',\n",
       " 'MONGO_USERNAME': 'root',\n",
       " 'MONGO_PASSWORD': 'mongosecret',\n",
       " 'SERVICE_NAME': 'backend',\n",
       " 'RELEASE': 'production',\n",
       " 'VERSION': 'dev-latest',\n",
       " 'VERSION_HASH': 'abc',\n",
       " 'NODE_TYPE': 'domain',\n",
       " 'NODE_NAME': 'mynode',\n",
       " 'NODE_SIDE_TYPE': 'high',\n",
       " 'STACK_API_KEY': 'syftsecret',\n",
       " 'PORT': '80',\n",
       " 'IGNORE_TLS_ERRORS': 'False',\n",
       " 'HTTP_PORT': '80',\n",
       " 'HTTPS_PORT': '443',\n",
       " 'QUEUE_PORT': '5556',\n",
       " 'CREATE_PRODUCER': 'False',\n",
       " 'N_CONSUMERS': '1',\n",
       " 'CONTAINER_HOST': 'k8s',\n",
       " 'TRACE': 'False',\n",
       " 'JAEGER_HOST': 'localhost',\n",
       " 'JAEGER_PORT': '14268',\n",
       " 'DEV_MODE': 'False',\n",
       " 'DOMAIN_CONNECTION_PORT': '3030',\n",
       " 'ENABLE_OBLV': 'false',\n",
       " 'DEFAULT_ROOT_EMAIL': 'info@openmined.org',\n",
       " 'DEFAULT_ROOT_PASSWORD': 'syftsecret',\n",
       " 'S3_ROOT_USER': 'admin',\n",
       " 'S3_ROOT_PWD': 'seaweedfsecret',\n",
       " 'S3_PORT': '8333',\n",
       " 'SEAWEED_MOUNT_PORT': '4001'}"
      ]
     },
     "execution_count": 85,
     "metadata": {},
     "output_type": "execute_result"
    }
   ],
   "source": [
    "new_env"
   ]
  },
  {
   "cell_type": "code",
   "execution_count": 89,
   "id": "bc322aa0-04d0-424b-823c-d848bb6167f1",
   "metadata": {},
   "outputs": [],
   "source": [
    "# for k, v in new_env.items():\n",
    "#     print(\"k\", k, v, type(k), type(v))\n",
    "#     assert isinstance(k, str), isinstance(v, str)"
   ]
  },
  {
   "cell_type": "code",
   "execution_count": 93,
   "id": "a955b613-87e3-4c68-916c-797e02322bc3",
   "metadata": {},
   "outputs": [],
   "source": [
    "import copy"
   ]
  },
  {
   "cell_type": "code",
   "execution_count": 94,
   "id": "e98f789c-0e6b-4bc6-8b4d-55b9583d4b62",
   "metadata": {},
   "outputs": [],
   "source": [
    "new_env = copy.deepcopy(env)"
   ]
  },
  {
   "cell_type": "code",
   "execution_count": 100,
   "id": "01768822-7ba6-4daf-9b1d-0eef4b6a09f4",
   "metadata": {},
   "outputs": [],
   "source": [
    "for item in new_env:\n",
    "    if item[\"name\"] == \"N_CONSUMERS\":\n",
    "        item[\"value\"] = \"1\"\n",
    "    if item[\"name\"] == \"CREATE_PRODUCER\":\n",
    "        item[\"value\"] = \"False\""
   ]
  },
  {
   "cell_type": "code",
   "execution_count": 101,
   "id": "ade8a885-3792-47be-a02c-c17633fbd832",
   "metadata": {},
   "outputs": [
    {
     "data": {
      "text/plain": [
       "BoxList([{'name': 'MONGO_PORT', 'value': '27017'}, {'name': 'MONGO_HOST', 'value': 'mongo'}, {'name': 'MONGO_USERNAME', 'value': 'root'}, {'name': 'MONGO_PASSWORD', 'valueFrom': {'secretKeyRef': {'name': 'mongosecret', 'key': 'mongo-password-secret'}}}, {'name': 'SERVICE_NAME', 'value': 'backend'}, {'name': 'RELEASE', 'value': 'production'}, {'name': 'VERSION', 'value': 'dev-latest'}, {'name': 'VERSION_HASH', 'value': 'abc'}, {'name': 'NODE_TYPE', 'value': 'domain'}, {'name': 'NODE_NAME', 'value': 'mynode'}, {'name': 'NODE_SIDE_TYPE', 'value': 'high'}, {'name': 'STACK_API_KEY', 'valueFrom': {'secretKeyRef': {'name': 'syftsecret', 'key': 'stackApiKey'}}}, {'name': 'PORT', 'value': '80'}, {'name': 'IGNORE_TLS_ERRORS', 'value': 'False'}, {'name': 'HTTP_PORT', 'value': '80'}, {'name': 'HTTPS_PORT', 'value': '443'}, {'name': 'QUEUE_PORT', 'value': '5556'}, {'name': 'CREATE_PRODUCER', 'value': 'False'}, {'name': 'N_CONSUMERS', 'value': '1'}, {'name': 'CONTAINER_HOST', 'value': 'k8s'}, {'name': 'TRACE', 'value': 'False'}, {'name': 'JAEGER_HOST', 'value': 'localhost'}, {'name': 'JAEGER_PORT', 'value': '14268'}, {'name': 'DEV_MODE', 'value': 'False'}, {'name': 'DOMAIN_CONNECTION_PORT', 'value': '3030'}, {'name': 'ENABLE_OBLV', 'value': 'false'}, {'name': 'DEFAULT_ROOT_EMAIL', 'value': 'info@openmined.org'}, {'name': 'DEFAULT_ROOT_PASSWORD', 'valueFrom': {'secretKeyRef': {'name': 'syftsecret', 'key': 'defaultRootPassword'}}}, {'name': 'S3_ROOT_USER', 'value': 'admin'}, {'name': 'S3_ROOT_PWD', 'valueFrom': {'secretKeyRef': {'name': 'seaweedfsecret', 'key': 'S3_ROOT_PWD_SECRET'}}}, {'name': 'S3_PORT', 'value': '8333'}, {'name': 'SEAWEED_MOUNT_PORT', 'value': '4001'}])"
      ]
     },
     "execution_count": 101,
     "metadata": {},
     "output_type": "execute_result"
    }
   ],
   "source": [
    "new_env"
   ]
  },
  {
   "cell_type": "code",
   "execution_count": 102,
   "id": "fbc46aab-85cd-4e54-afdd-fb0be07e9097",
   "metadata": {},
   "outputs": [],
   "source": [
    "pod = Pod.gen(name=\"worker\", image=image, env=new_env)"
   ]
  },
  {
   "cell_type": "code",
   "execution_count": 103,
   "id": "93dcf815-559b-4477-af0d-bd56151cf22c",
   "metadata": {},
   "outputs": [],
   "source": [
    "pod.create()"
   ]
  },
  {
   "cell_type": "code",
   "execution_count": 106,
   "id": "96b50db5-720b-4cb2-8735-58ef1049f5a2",
   "metadata": {},
   "outputs": [
    {
     "data": {
      "text/plain": [
       "kr8s.objects.Pod"
      ]
     },
     "execution_count": 106,
     "metadata": {},
     "output_type": "execute_result"
    }
   ],
   "source": [
    "type(pod)"
   ]
  },
  {
   "cell_type": "code",
   "execution_count": 109,
   "id": "a115d12b-6d37-46cf-99f9-c939f1af063e",
   "metadata": {},
   "outputs": [
    {
     "data": {
      "text/plain": [
       "['__await__',\n",
       " '__class__',\n",
       " '__delattr__',\n",
       " '__dict__',\n",
       " '__dir__',\n",
       " '__doc__',\n",
       " '__eq__',\n",
       " '__format__',\n",
       " '__ge__',\n",
       " '__getattribute__',\n",
       " '__getitem__',\n",
       " '__gt__',\n",
       " '__hash__',\n",
       " '__init__',\n",
       " '__init_subclass__',\n",
       " '__le__',\n",
       " '__lt__',\n",
       " '__module__',\n",
       " '__ne__',\n",
       " '__new__',\n",
       " '__reduce__',\n",
       " '__reduce_ex__',\n",
       " '__repr__',\n",
       " '__setattr__',\n",
       " '__sizeof__',\n",
       " '__str__',\n",
       " '__subclasshook__',\n",
       " '__weakref__',\n",
       " '_asyncio',\n",
       " '_exec',\n",
       " '_exists',\n",
       " '_patch',\n",
       " '_raw',\n",
       " '_refresh',\n",
       " '_set_owner',\n",
       " '_test_conditions',\n",
       " '_watch',\n",
       " 'adopt',\n",
       " 'annotate',\n",
       " 'annotations',\n",
       " 'api',\n",
       " 'create',\n",
       " 'delete',\n",
       " 'endpoint',\n",
       " 'exec',\n",
       " 'exists',\n",
       " 'gen',\n",
       " 'get',\n",
       " 'keys',\n",
       " 'kind',\n",
       " 'label',\n",
       " 'labels',\n",
       " 'list',\n",
       " 'logs',\n",
       " 'metadata',\n",
       " 'name',\n",
       " 'namespace',\n",
       " 'namespaced',\n",
       " 'patch',\n",
       " 'plural',\n",
       " 'portforward',\n",
       " 'raw',\n",
       " 'ready',\n",
       " 'refresh',\n",
       " 'replicas',\n",
       " 'scalable',\n",
       " 'scalable_spec',\n",
       " 'scale',\n",
       " 'set_owner',\n",
       " 'singular',\n",
       " 'spec',\n",
       " 'status',\n",
       " 'to_dict',\n",
       " 'to_lightkube',\n",
       " 'to_pykube',\n",
       " 'version',\n",
       " 'wait',\n",
       " 'watch']"
      ]
     },
     "execution_count": 109,
     "metadata": {},
     "output_type": "execute_result"
    }
   ],
   "source": [
    "dir(pod)"
   ]
  },
  {
   "cell_type": "code",
   "execution_count": 115,
   "id": "b7a05fe8-9ff5-48f1-9c6c-9c101a506802",
   "metadata": {},
   "outputs": [],
   "source": [
    "search_uid = pod.metadata.uid"
   ]
  },
  {
   "cell_type": "code",
   "execution_count": 124,
   "id": "32e7415e-f65b-42c7-89a3-dc1cc6a55725",
   "metadata": {},
   "outputs": [],
   "source": [
    "pods = kr8s.get(\"pods\", namespace=kr8s.ALL)"
   ]
  },
  {
   "cell_type": "code",
   "execution_count": 125,
   "id": "f8e9a595-8140-4f7f-bdfc-37a000185b18",
   "metadata": {},
   "outputs": [
    {
     "data": {
      "text/plain": [
       "[<Pod coredns-77ccd57875-rpqvz>,\n",
       " <Pod local-path-provisioner-957fdf8bc-wvl4d>,\n",
       " <Pod helm-install-traefik-crd-hxb2z>,\n",
       " <Pod helm-install-traefik-48b7g>,\n",
       " <Pod svclb-traefik-1524c6db-pbm8k>,\n",
       " <Pod metrics-server-648b5df564-zmm9v>,\n",
       " <Pod traefik-64f55bb67d-9zrzx>,\n",
       " <Pod proxy-569ffd4765-fczzc>,\n",
       " <Pod frontend-7cb7885db7-b799x>,\n",
       " <Pod backend-0>,\n",
       " <Pod seaweedfs-0>,\n",
       " <Pod mongo-0>,\n",
       " <Pod worker>]"
      ]
     },
     "execution_count": 125,
     "metadata": {},
     "output_type": "execute_result"
    }
   ],
   "source": [
    "pods"
   ]
  },
  {
   "cell_type": "code",
   "execution_count": 126,
   "id": "065c488c-796e-407b-b267-e767fa0a960a",
   "metadata": {},
   "outputs": [
    {
     "name": "stdout",
     "output_type": "stream",
     "text": [
      "found worker\n"
     ]
    }
   ],
   "source": [
    "found_pod = None\n",
    "for pod in pods:\n",
    "    if pod.metadata.uid == search_uid:\n",
    "        print(\"found\", pod)\n",
    "        found_pod = pod"
   ]
  },
  {
   "cell_type": "code",
   "execution_count": 129,
   "id": "73633a47-c29d-46d6-9919-cdee1e829bac",
   "metadata": {},
   "outputs": [],
   "source": [
    "found_pod.delete()"
   ]
  },
  {
   "cell_type": "code",
   "execution_count": 128,
   "id": "17323ac8-790f-417a-b60f-7585678fb6ba",
   "metadata": {},
   "outputs": [
    {
     "data": {
      "text/plain": [
       "['__await__',\n",
       " '__class__',\n",
       " '__delattr__',\n",
       " '__dict__',\n",
       " '__dir__',\n",
       " '__doc__',\n",
       " '__eq__',\n",
       " '__format__',\n",
       " '__ge__',\n",
       " '__getattribute__',\n",
       " '__getitem__',\n",
       " '__gt__',\n",
       " '__hash__',\n",
       " '__init__',\n",
       " '__init_subclass__',\n",
       " '__le__',\n",
       " '__lt__',\n",
       " '__module__',\n",
       " '__ne__',\n",
       " '__new__',\n",
       " '__reduce__',\n",
       " '__reduce_ex__',\n",
       " '__repr__',\n",
       " '__setattr__',\n",
       " '__sizeof__',\n",
       " '__str__',\n",
       " '__subclasshook__',\n",
       " '__weakref__',\n",
       " '_asyncio',\n",
       " '_exec',\n",
       " '_exists',\n",
       " '_patch',\n",
       " '_raw',\n",
       " '_refresh',\n",
       " '_set_owner',\n",
       " '_test_conditions',\n",
       " '_watch',\n",
       " 'adopt',\n",
       " 'annotate',\n",
       " 'annotations',\n",
       " 'api',\n",
       " 'create',\n",
       " 'delete',\n",
       " 'endpoint',\n",
       " 'exec',\n",
       " 'exists',\n",
       " 'gen',\n",
       " 'get',\n",
       " 'keys',\n",
       " 'kind',\n",
       " 'label',\n",
       " 'labels',\n",
       " 'list',\n",
       " 'logs',\n",
       " 'metadata',\n",
       " 'name',\n",
       " 'namespace',\n",
       " 'namespaced',\n",
       " 'patch',\n",
       " 'plural',\n",
       " 'portforward',\n",
       " 'raw',\n",
       " 'ready',\n",
       " 'refresh',\n",
       " 'replicas',\n",
       " 'scalable',\n",
       " 'scalable_spec',\n",
       " 'scale',\n",
       " 'set_owner',\n",
       " 'singular',\n",
       " 'spec',\n",
       " 'status',\n",
       " 'to_dict',\n",
       " 'to_lightkube',\n",
       " 'to_pykube',\n",
       " 'version',\n",
       " 'wait',\n",
       " 'watch']"
      ]
     },
     "execution_count": 128,
     "metadata": {},
     "output_type": "execute_result"
    }
   ],
   "source": [
    "dir(found_pod)"
   ]
  },
  {
   "cell_type": "code",
   "execution_count": null,
   "id": "4d4d972a-7264-417e-97dd-03957df6ceba",
   "metadata": {},
   "outputs": [],
   "source": [
    "# Filter pods by UID\n",
    "matching_pod = next((pod for pod in all_pods if pod['metadata']['uid'] == search_uid), None)\n",
    "\n",
    "if matching_pod:\n",
    "    print(\"Found Pod:\", matching_pod['metadata']['name'], \"in Namespace:\", matching_pod['metadata']['namespace'])\n",
    "else:\n",
    "    print(\"No pod found with UID\", search_uid)"
   ]
  }
 ],
 "metadata": {
  "kernelspec": {
   "display_name": "Python 3 (ipykernel)",
   "language": "python",
   "name": "python3"
  },
  "language_info": {
   "codemirror_mode": {
    "name": "ipython",
    "version": 3
   },
   "file_extension": ".py",
   "mimetype": "text/x-python",
   "name": "python",
   "nbconvert_exporter": "python",
   "pygments_lexer": "ipython3",
   "version": "3.10.13"
  }
 },
 "nbformat": 4,
 "nbformat_minor": 5
}

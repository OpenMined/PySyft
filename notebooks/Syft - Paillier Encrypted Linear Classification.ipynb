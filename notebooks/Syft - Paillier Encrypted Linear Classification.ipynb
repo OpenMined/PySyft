{
 "cells": [
  {
   "cell_type": "markdown",
   "metadata": {},
   "source": [
    "# Paillier Encrypted Linear Classification Example\n",
    "\n",
    "DISCLAIMER: This is a proof-of-concept implementation. It does not represent a remotely product ready implementation or follow proper conventions for security, convenience, or scalability. It is part of a broader proof-of-concept demonstrating the vision of the OpenMined project, its major moving parts, and how they might work together.\n"
   ]
  },
  {
   "cell_type": "code",
   "execution_count": 11,
   "metadata": {
    "collapsed": true
   },
   "outputs": [],
   "source": [
    "from syft.he.paillier import KeyPair\n",
    "from syft.nn.linear import LinearClassifier\n",
    "import numpy as np"
   ]
  },
  {
   "cell_type": "code",
   "execution_count": 12,
   "metadata": {
    "collapsed": true
   },
   "outputs": [],
   "source": [
    "pubkey,prikey = KeyPair().generate(n_length=1024)"
   ]
  },
  {
   "cell_type": "code",
   "execution_count": 13,
   "metadata": {
    "collapsed": true
   },
   "outputs": [],
   "source": [
    "model = LinearClassifier(n_inputs=4,n_labels=2).encrypt(pubkey)"
   ]
  },
  {
   "cell_type": "code",
   "execution_count": 14,
   "metadata": {
    "collapsed": true
   },
   "outputs": [],
   "source": [
    "input = np.array([[0,0,1,1],[0,0,1,0],[1,0,1,1],[0,0,1,0]])\n",
    "target = np.array([[0,1],[0,0],[1,1],[0,0]])"
   ]
  },
  {
   "cell_type": "code",
   "execution_count": 15,
   "metadata": {},
   "outputs": [
    {
     "name": "stdout",
     "output_type": "stream",
     "text": [
      "Grads:[[e e]\n",
      " [e e]\n",
      " [e e]\n",
      " [e e]]\n",
      "Grads:[[e e]\n",
      " [e e]\n",
      " [e e]\n",
      " [e e]]\n",
      "Grads:[[e e]\n",
      " [e e]\n",
      " [e e]\n",
      " [e e]]\n",
      "Grads:[[e e]\n",
      " [e e]\n",
      " [e e]\n",
      " [e e]]\n",
      "Grads:[[e e]\n",
      " [e e]\n",
      " [e e]\n",
      " [e e]]\n",
      "Grads:[[e e]\n",
      " [e e]\n",
      " [e e]\n",
      " [e e]]\n",
      "Grads:[[e e]\n",
      " [e e]\n",
      " [e e]\n",
      " [e e]]\n",
      "Grads:[[e e]\n",
      " [e e]\n",
      " [e e]\n",
      " [e e]]\n",
      "Grads:[[e e]\n",
      " [e e]\n",
      " [e e]\n",
      " [e e]]\n",
      "Grads:[[e e]\n",
      " [e e]\n",
      " [e e]\n",
      " [e e]]\n",
      "Grads:[[e e]\n",
      " [e e]\n",
      " [e e]\n",
      " [e e]]\n",
      "Grads:[[e e]\n",
      " [e e]\n",
      " [e e]\n",
      " [e e]]\n"
     ]
    }
   ],
   "source": [
    "for iter in range(3):\n",
    "    for i in range(len(input)):\n",
    "        print(\"Grads:\" + str((model.learn(input=input[i],target=target[i],alpha=0.5))))"
   ]
  },
  {
   "cell_type": "code",
   "execution_count": 16,
   "metadata": {
    "collapsed": true
   },
   "outputs": [],
   "source": [
    "model = model.decrypt(prikey)"
   ]
  },
  {
   "cell_type": "code",
   "execution_count": 17,
   "metadata": {},
   "outputs": [
    {
     "name": "stdout",
     "output_type": "stream",
     "text": [
      "[ 0.26074219  0.26074219]\n",
      "[ 0.02050781  0.02050781]\n",
      "[ 1.08691406  1.08691406]\n",
      "[ 0.02050781  0.02050781]\n"
     ]
    }
   ],
   "source": [
    "for i in range(len(input)):\n",
    "    print(model.forward(input[i]))"
   ]
  },
  {
   "cell_type": "code",
   "execution_count": null,
   "metadata": {
    "collapsed": true
   },
   "outputs": [],
   "source": []
  },
  {
   "cell_type": "code",
   "execution_count": null,
   "metadata": {
    "collapsed": true
   },
   "outputs": [],
   "source": []
  }
 ],
 "metadata": {
  "kernelspec": {
   "display_name": "Python 3",
   "language": "python",
   "name": "python3"
  },
  "language_info": {
   "codemirror_mode": {
    "name": "ipython",
    "version": 3
   },
   "file_extension": ".py",
   "mimetype": "text/x-python",
   "name": "python",
   "nbconvert_exporter": "python",
   "pygments_lexer": "ipython3",
   "version": "3.6.1"
  }
 },
 "nbformat": 4,
 "nbformat_minor": 2
}

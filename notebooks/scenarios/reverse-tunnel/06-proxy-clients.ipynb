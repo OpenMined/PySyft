{
 "cells": [
  {
   "cell_type": "code",
   "execution_count": null,
   "id": "1c3868bb-a140-451a-ac51-a4fd17bf2ab8",
   "metadata": {},
   "outputs": [],
   "source": [
    "# -- how to list datasites on gateway\n",
    "# -- getting a proxy client"
   ]
  },
  {
   "cell_type": "code",
   "execution_count": null,
   "id": "b3096182-7a24-460c-a242-0cd5fd706f5d",
   "metadata": {},
   "outputs": [],
   "source": [
    "# syft absolute\n",
    "import syft as sy"
   ]
  },
  {
   "cell_type": "code",
   "execution_count": null,
   "id": "b22b805b-7342-4711-a8cb-e78475777a00",
   "metadata": {},
   "outputs": [],
   "source": [
    "gateway_client = sy.login(url=\"http://localhost\", port=9081)"
   ]
  },
  {
   "cell_type": "code",
   "execution_count": null,
   "id": "f97fa87f-e62c-4fcf-b1f4-2777441edfba",
   "metadata": {},
   "outputs": [],
   "source": [
    "# List peers on the gateway\n",
    "gateway_peers = gateway_client.api.services.network.get_all_peers()\n",
    "gateway_peers"
   ]
  },
  {
   "cell_type": "code",
   "execution_count": null,
   "id": "82e8db5b-7450-4d6b-abe4-04e9c00d8c1c",
   "metadata": {},
   "outputs": [],
   "source": [
    "# List available datasites on gateway\n",
    "gateway_client.domains"
   ]
  },
  {
   "cell_type": "code",
   "execution_count": null,
   "id": "ae686385-f69f-46a0-a591-7bdf7b106d16",
   "metadata": {},
   "outputs": [],
   "source": [
    "# Get a proxy client to datasite\n",
    "proxy_datasite_client = gateway_client.peers[0]\n",
    "proxy_datasite_client"
   ]
  },
  {
   "cell_type": "code",
   "execution_count": null,
   "id": "3fb52cca-521f-452e-bb13-1df6fe1fd053",
   "metadata": {},
   "outputs": [],
   "source": [
    "# List datasets via the proxy client\n",
    "proxy_datasite_client.datasets"
   ]
  }
 ],
 "metadata": {
  "kernelspec": {
   "display_name": "Python 3 (ipykernel)",
   "language": "python",
   "name": "python3"
  },
  "language_info": {
   "codemirror_mode": {
    "name": "ipython",
    "version": 3
   },
   "file_extension": ".py",
   "mimetype": "text/x-python",
   "name": "python",
   "nbconvert_exporter": "python",
   "pygments_lexer": "ipython3",
   "version": "3.11.5"
  }
 },
 "nbformat": 4,
 "nbformat_minor": 5
}

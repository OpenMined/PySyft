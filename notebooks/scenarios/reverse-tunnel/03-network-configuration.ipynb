{
 "cells": [
  {
   "cell_type": "code",
   "execution_count": null,
   "id": "6296126b-2575-44b4-9f09-2d73f444ca96",
   "metadata": {},
   "outputs": [],
   "source": [
    "# -- ingress\n",
    "# -- open port for rathole server\n",
    "# -- nodeport vs websockets"
   ]
  }
 ],
 "metadata": {
  "kernelspec": {
   "display_name": "Python 3 (ipykernel)",
   "language": "python",
   "name": "python3"
  },
  "language_info": {
   "codemirror_mode": {
    "name": "ipython",
    "version": 3
   },
   "file_extension": ".py",
   "mimetype": "text/x-python",
   "name": "python",
   "nbconvert_exporter": "python",
   "pygments_lexer": "ipython3",
   "version": "3.12.2"
  }
 },
 "nbformat": 4,
 "nbformat_minor": 5
}

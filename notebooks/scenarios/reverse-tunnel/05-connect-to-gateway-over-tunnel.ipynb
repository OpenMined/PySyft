{
 "cells": [
  {
   "cell_type": "code",
   "execution_count": null,
   "id": "ad6b54cd-2898-4b67-af54-ddc7a13173e2",
   "metadata": {},
   "outputs": [],
   "source": [
    "# -- run connection request\n",
    "# -- approve request"
   ]
  },
  {
   "cell_type": "code",
   "execution_count": null,
   "id": "586d2fec-e5be-4a4b-aab3-0b9222d18867",
   "metadata": {},
   "outputs": [],
   "source": [
    "# stdlib\n",
    "import time\n",
    "\n",
    "# syft absolute\n",
    "import syft as sy"
   ]
  },
  {
   "cell_type": "code",
   "execution_count": null,
   "id": "347c3d30-824e-443e-96aa-ed599e8c415e",
   "metadata": {},
   "outputs": [],
   "source": [
    "gateway_client = sy.login(url=\"http://localhost\", port=9081)"
   ]
  },
  {
   "cell_type": "code",
   "execution_count": null,
   "id": "c92ea051-f767-45d9-828d-e0b50329d4c6",
   "metadata": {},
   "outputs": [],
   "source": [
    "# List domains\n",
    "gateway_client.domains"
   ]
  },
  {
   "cell_type": "code",
   "execution_count": null,
   "id": "d8b0d40f-de47-4beb-bc4e-3edd9d5d49e9",
   "metadata": {},
   "outputs": [],
   "source": [
    "datasite_client = sy.login(\n",
    "    url=\"http://localhost\", port=9082, email=\"info@openmined.org\", password=\"changethis\"\n",
    ")"
   ]
  },
  {
   "cell_type": "code",
   "execution_count": null,
   "id": "a2d4ec6d-c09f-4f79-9695-7165b8b1fe14",
   "metadata": {},
   "outputs": [],
   "source": [
    "datasite_client.datasets"
   ]
  },
  {
   "cell_type": "code",
   "execution_count": null,
   "id": "a78a72b1-294b-4b3e-ad6a-ac8721c28f13",
   "metadata": {},
   "outputs": [],
   "source": [
    "# connect to the gateway\n",
    "datasite_client.connect_to_gateway(gateway_client, reverse_tunnel=True)"
   ]
  },
  {
   "cell_type": "code",
   "execution_count": null,
   "id": "cfe605b7-b55a-44e8-a4fd-5a2c8262c8a9",
   "metadata": {},
   "outputs": [],
   "source": [
    "# We can see gateway as one of the peers to the datasite\n",
    "datasite_client.peers"
   ]
  },
  {
   "cell_type": "code",
   "execution_count": null,
   "id": "747aae99-e473-4de1-9530-6279d86619d1",
   "metadata": {},
   "outputs": [],
   "source": [
    "# Approve requests\n",
    "root_gateway_client = sy.login(\n",
    "    url=\"http://localhost\", port=9081, email=\"info@openmined.org\", password=\"changethis\"\n",
    ")"
   ]
  },
  {
   "cell_type": "code",
   "execution_count": null,
   "id": "93df8dd2-da6a-4069-bf4e-ef02d2570e1e",
   "metadata": {},
   "outputs": [],
   "source": [
    "# Grab association request\n",
    "root_gateway_client.requests"
   ]
  },
  {
   "cell_type": "code",
   "execution_count": null,
   "id": "e3438f45-1ed1-47e9-9f0b-aa18b7215618",
   "metadata": {},
   "outputs": [],
   "source": [
    "association_request = root_gateway_client.requests[0]\n",
    "association_request"
   ]
  },
  {
   "cell_type": "code",
   "execution_count": null,
   "id": "6ddfb054-bae3-4763-90be-717b8b90e474",
   "metadata": {},
   "outputs": [],
   "source": [
    "# Approve Request to allow datasite to become one of the peers of Gateway\n",
    "association_request.approve()"
   ]
  },
  {
   "cell_type": "code",
   "execution_count": null,
   "id": "9e704e88-63fb-420e-a67d-e3a19a1030f7",
   "metadata": {},
   "outputs": [],
   "source": [
    "# It takes a few seconds to setup a connection via reverse tunnel b/w gateway and datasite\n",
    "time.sleep(90)"
   ]
  },
  {
   "cell_type": "code",
   "execution_count": null,
   "id": "9098c617-2350-4a1c-afd0-19048c50953b",
   "metadata": {},
   "outputs": [],
   "source": [
    "# Check if datasite is present as one of its peers\n",
    "gateway_peers = gateway_client.api.services.network.get_all_peers()\n",
    "gateway_peers"
   ]
  },
  {
   "cell_type": "code",
   "execution_count": null,
   "id": "3455bf88-1729-4a26-a0c2-aaa26440c2de",
   "metadata": {},
   "outputs": [],
   "source": [
    "# Get a proxy client to the datasite\n",
    "proxy_datasite_client = gateway_client.peers[0]"
   ]
  },
  {
   "cell_type": "code",
   "execution_count": null,
   "id": "9d13c260-ce05-4943-96e2-a9cf1e46bc9b",
   "metadata": {},
   "outputs": [],
   "source": [
    "# List datasets via the proxy client\n",
    "proxy_datasite_client.datasets"
   ]
  }
 ],
 "metadata": {
  "kernelspec": {
   "display_name": "Python 3 (ipykernel)",
   "language": "python",
   "name": "python3"
  },
  "language_info": {
   "codemirror_mode": {
    "name": "ipython",
    "version": 3
   },
   "file_extension": ".py",
   "mimetype": "text/x-python",
   "name": "python",
   "nbconvert_exporter": "python",
   "pygments_lexer": "ipython3",
   "version": "3.11.5"
  }
 },
 "nbformat": 4,
 "nbformat_minor": 5
}

{
 "cells": [
  {
   "cell_type": "code",
   "execution_count": null,
   "id": "0",
   "metadata": {},
   "outputs": [],
   "source": [
    "# stdlib\n",
    "import time\n",
    "\n",
    "# syft absolute\n",
    "import syft as sy"
   ]
  },
  {
   "cell_type": "code",
   "execution_count": null,
   "id": "1",
   "metadata": {},
   "outputs": [],
   "source": [
    "# gateway_client = sy.login(url=\"http://localhost\", port=9081)\n",
    "gateway_client = sy.login_as_guest(url=\"http://20.197.23.137\", port=80)\n",
    "gateway_client"
   ]
  },
  {
   "cell_type": "code",
   "execution_count": null,
   "id": "2",
   "metadata": {},
   "outputs": [],
   "source": [
    "# List domains\n",
    "gateway_client.datasites"
   ]
  },
  {
   "cell_type": "code",
   "execution_count": null,
   "id": "3",
   "metadata": {},
   "outputs": [],
   "source": [
    "datasite_client = sy.login(\n",
    "    url=\"http://localhost\", port=9082, email=\"info@openmined.org\", password=\"changethis\"\n",
    ")\n",
    "datasite_client"
   ]
  },
  {
   "cell_type": "code",
   "execution_count": null,
   "id": "4",
   "metadata": {},
   "outputs": [],
   "source": [
    "datasite_client.datasets"
   ]
  },
  {
   "cell_type": "code",
   "execution_count": null,
   "id": "5",
   "metadata": {},
   "outputs": [],
   "source": [
    "# connect to the gateway\n",
    "datasite_client.connect_to_gateway(gateway_client, reverse_tunnel=True)"
   ]
  },
  {
   "cell_type": "code",
   "execution_count": null,
   "id": "6",
   "metadata": {},
   "outputs": [],
   "source": [
    "# We can see gateway as one of the peers to the datasite\n",
    "datasite_client.peers"
   ]
  },
  {
   "cell_type": "code",
   "execution_count": null,
   "id": "7",
   "metadata": {},
   "outputs": [],
   "source": [
    "# Approve requests\n",
    "# root_gateway_client = sy.login(\n",
    "#     url=\"http://localhost\", port=9081, email=\"info@openmined.org\", password=\"changethis\"\n",
    "# )\n",
    "root_gateway_client = sy.login(\n",
    "    url=\"http://20.197.23.137\",\n",
    "    port=80,\n",
    "    email=\"info@openmined.org\",\n",
    "    password=\"changethis\",\n",
    ")"
   ]
  },
  {
   "cell_type": "code",
   "execution_count": null,
   "id": "8",
   "metadata": {},
   "outputs": [],
   "source": [
    "# Grab association request\n",
    "root_gateway_client.api.request.get_all()"
   ]
  },
  {
   "cell_type": "code",
   "execution_count": null,
   "id": "9",
   "metadata": {},
   "outputs": [],
   "source": [
    "# association_request = root_gateway_client.requests[0]\n",
    "# association_request"
   ]
  },
  {
   "cell_type": "code",
   "execution_count": null,
   "id": "10",
   "metadata": {},
   "outputs": [],
   "source": [
    "# # Approve Request to allow datasite to become one of the peers of Gateway\n",
    "# association_request.approve()"
   ]
  },
  {
   "cell_type": "code",
   "execution_count": null,
   "id": "11",
   "metadata": {},
   "outputs": [],
   "source": [
    "# It takes a few seconds to setup a connection via reverse tunnel b/w gateway and datasite\n",
    "time.sleep(90)"
   ]
  },
  {
   "cell_type": "code",
   "execution_count": null,
   "id": "12",
   "metadata": {},
   "outputs": [],
   "source": [
    "# Check if datasite is present as one of its peers\n",
    "gateway_peers = gateway_client.api.services.network.get_all_peers()\n",
    "gateway_peers"
   ]
  },
  {
   "cell_type": "code",
   "execution_count": null,
   "id": "13",
   "metadata": {},
   "outputs": [],
   "source": []
  }
 ],
 "metadata": {
  "kernelspec": {
   "display_name": "Python 3 (ipykernel)",
   "language": "python",
   "name": "python3"
  },
  "language_info": {
   "codemirror_mode": {
    "name": "ipython",
    "version": 3
   },
   "file_extension": ".py",
   "mimetype": "text/x-python",
   "name": "python",
   "nbconvert_exporter": "python",
   "pygments_lexer": "ipython3",
   "version": "3.11.5"
  }
 },
 "nbformat": 4,
 "nbformat_minor": 5
}

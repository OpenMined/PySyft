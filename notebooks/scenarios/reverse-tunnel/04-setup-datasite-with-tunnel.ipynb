{
 "cells": [
  {
   "cell_type": "code",
   "execution_count": null,
   "id": "a2746b76-cc79-4853-8ef5-98c63b516eab",
   "metadata": {},
   "outputs": [],
   "source": [
    "# -- deploy local docker k3d\n",
    "# -- enable rathole reverse tunnel"
   ]
  },
  {
   "cell_type": "markdown",
   "id": "f56657ed-bb3f-465b-9eb3-50859d1fc2b5",
   "metadata": {},
   "source": [
    "### Deploying a Datasite with reverse-tunnel\n",
    "\n",
    "```bash\n",
    "export CLUSTER_NAME=datasite-test-1 CLUSTER_HTTP_PORT=9082 DEVSPACE_PROFILE=datasite-tunnel && tox -e dev.k8s.start && tox -e dev.k8s.deploy\n",
    "```"
   ]
  }
 ],
 "metadata": {
  "kernelspec": {
   "display_name": "Python 3 (ipykernel)",
   "language": "python",
   "name": "python3"
  },
  "language_info": {
   "codemirror_mode": {
    "name": "ipython",
    "version": 3
   },
   "file_extension": ".py",
   "mimetype": "text/x-python",
   "name": "python",
   "nbconvert_exporter": "python",
   "pygments_lexer": "ipython3",
   "version": "3.11.5"
  }
 },
 "nbformat": 4,
 "nbformat_minor": 5
}

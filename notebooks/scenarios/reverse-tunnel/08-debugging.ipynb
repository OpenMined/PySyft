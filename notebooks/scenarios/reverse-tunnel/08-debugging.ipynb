{
 "cells": [
  {
   "cell_type": "code",
   "execution_count": null,
   "id": "c3692642-b407-4471-9467-bcc9ca9bb7a9",
   "metadata": {},
   "outputs": [],
   "source": [
    "# -- include cleaned up diagram?\n",
    "# -- tunnel config file and config maps\n",
    "# -- determining ip addresses and testing ports are available\n",
    "# -- running curl from inside the containers\n",
    "# -- the internal host / header on the gateway\n",
    "# -- checking logs"
   ]
  }
 ],
 "metadata": {
  "kernelspec": {
   "display_name": "Python 3 (ipykernel)",
   "language": "python",
   "name": "python3"
  },
  "language_info": {
   "codemirror_mode": {
    "name": "ipython",
    "version": 3
   },
   "file_extension": ".py",
   "mimetype": "text/x-python",
   "name": "python",
   "nbconvert_exporter": "python",
   "pygments_lexer": "ipython3",
   "version": "3.11.5"
  }
 },
 "nbformat": 4,
 "nbformat_minor": 5
}

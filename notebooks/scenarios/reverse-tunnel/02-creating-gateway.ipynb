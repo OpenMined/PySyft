{
 "cells": [
  {
   "cell_type": "code",
   "execution_count": null,
   "id": "66b4e68c-73a9-4064-802a-4fd96887b3f6",
   "metadata": {},
   "outputs": [],
   "source": [
    "# -- helm install\n",
    "# -- deploy gateway k8s to azure"
   ]
  },
  {
   "cell_type": "markdown",
   "id": "dd0b0608-ef67-410b-8fb0-52c0af290716",
   "metadata": {},
   "source": [
    "### Deploying Gateway with Reverse Tunnel"
   ]
  },
  {
   "cell_type": "markdown",
   "id": "45573b5d-8e7c-4889-aa10-8c853e46cc1c",
   "metadata": {},
   "source": [
    "```bash\n",
    "\n",
    "export CLUSTER_PORT=80 CLUSTER_NAME='gateway' tox -e dev.k8s.launch.gateway\n",
    "```"
   ]
  }
 ],
 "metadata": {
  "kernelspec": {
   "display_name": "Python 3 (ipykernel)",
   "language": "python",
   "name": "python3"
  },
  "language_info": {
   "codemirror_mode": {
    "name": "ipython",
    "version": 3
   },
   "file_extension": ".py",
   "mimetype": "text/x-python",
   "name": "python",
   "nbconvert_exporter": "python",
   "pygments_lexer": "ipython3",
   "version": "3.11.5"
  }
 },
 "nbformat": 4,
 "nbformat_minor": 5
}

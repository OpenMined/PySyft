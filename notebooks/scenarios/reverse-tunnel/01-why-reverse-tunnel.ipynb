{
 "cells": [
  {
   "cell_type": "code",
   "execution_count": null,
   "id": "9a9dbce4-7d8d-4bad-a758-25d4696f0bb8",
   "metadata": {},
   "outputs": [],
   "source": [
    "# -- include cleaned up diagram?\n",
    "# -- NAT Firewall problem\n",
    "# -- Solution: rathole"
   ]
  }
 ],
 "metadata": {
  "kernelspec": {
   "display_name": "Python 3 (ipykernel)",
   "language": "python",
   "name": "python3"
  },
  "language_info": {
   "codemirror_mode": {
    "name": "ipython",
    "version": 3
   },
   "file_extension": ".py",
   "mimetype": "text/x-python",
   "name": "python",
   "nbconvert_exporter": "python",
   "pygments_lexer": "ipython3",
   "version": "3.11.5"
  }
 },
 "nbformat": 4,
 "nbformat_minor": 5
}

{
 "cells": [
  {
   "cell_type": "code",
   "execution_count": null,
   "id": "2927dc60-0a36-4a47-8dac-98c8aca71cfe",
   "metadata": {},
   "outputs": [],
   "source": [
    "# -- checking upload and download to blob storage work"
   ]
  },
  {
   "cell_type": "code",
   "execution_count": 1,
   "id": "59c3d33d-de16-410c-8aa4-e2c34fbc7804",
   "metadata": {},
   "outputs": [],
   "source": [
    "# third party\n",
    "import pandas as pd\n",
    "\n",
    "# syft absolute\n",
    "import syft as sy"
   ]
  },
  {
   "cell_type": "code",
   "execution_count": null,
   "id": "c0951fc1-9141-4473-be55-659e0856b46e",
   "metadata": {},
   "outputs": [],
   "source": [
    "gateway_client = sy.login(url=\"http://localhost\", port=9081)"
   ]
  },
  {
   "cell_type": "code",
   "execution_count": null,
   "id": "16b23ad5-a875-47e4-813f-9666e684b327",
   "metadata": {},
   "outputs": [],
   "source": [
    "# List available datasites on gateway\n",
    "gateway_client.domains"
   ]
  },
  {
   "cell_type": "code",
   "execution_count": null,
   "id": "14c978e1-d4f3-4a1e-98fb-5ace97f460ff",
   "metadata": {},
   "outputs": [],
   "source": [
    "# Get a proxy client to datasite\n",
    "proxy_datasite_client = gateway_client.peers[0]\n",
    "proxy_datasite_client"
   ]
  },
  {
   "cell_type": "code",
   "execution_count": null,
   "id": "71591a62-751c-404f-9f7d-35745710b380",
   "metadata": {},
   "outputs": [],
   "source": [
    "# Get a proxy client to datasite\n",
    "datasite_client = proxy_datasite_client.login(\n",
    "    email=\"info@openmined.org\", password=\"changethis\"\n",
    ")"
   ]
  },
  {
   "cell_type": "code",
   "execution_count": null,
   "id": "b74b3763-cee7-4ed7-89fb-1ddb75cfcf34",
   "metadata": {},
   "outputs": [],
   "source": [
    "# Create a dataset\n",
    "canada_dataset_url = \"https://github.com/OpenMined/datasets/blob/main/trade_flow/ca%20-%20feb%202021.csv?raw=True\"\n",
    "df = pd.read_csv(canada_dataset_url)"
   ]
  },
  {
   "cell_type": "code",
   "execution_count": null,
   "id": "1ee2b430-6a55-4bdf-8eb6-bf9d72c9964a",
   "metadata": {},
   "outputs": [],
   "source": [
    "# private data samples\n",
    "ca_data = df[0:1000]\n",
    "ca_data"
   ]
  },
  {
   "cell_type": "code",
   "execution_count": null,
   "id": "d77eb813-fce1-41bf-a3f1-a39dac5c1776",
   "metadata": {},
   "outputs": [],
   "source": [
    "# Mock data samples\n",
    "mock_ca_data = df[1000:2000]\n",
    "mock_ca_data"
   ]
  },
  {
   "cell_type": "code",
   "execution_count": null,
   "id": "b607886e-2f9d-44d8-a3a5-79b187c6be27",
   "metadata": {},
   "outputs": [],
   "source": [
    "contributor = sy.Contributor(\n",
    "    name=\"Andrew Trask\",\n",
    "    email=\"andrew@openmined.org\",\n",
    "    note=\"Andrew runs this datasite and prepared the dataset metadata.\",\n",
    ")"
   ]
  },
  {
   "cell_type": "code",
   "execution_count": null,
   "id": "41fb8da6-c1f9-491d-b2c3-6b8a1c6f895e",
   "metadata": {},
   "outputs": [],
   "source": [
    "ctf = sy.Asset(\n",
    "    name=\"canada_trade_flow\",\n",
    "    description=\"Canada trade flow represents export & import of different commodities to other countries\",\n",
    "    contributor=contributor,\n",
    "    data=ca_data,\n",
    "    mock=mock_ca_data,\n",
    ")"
   ]
  },
  {
   "cell_type": "code",
   "execution_count": null,
   "id": "6af19a1c-ae9b-4d12-b525-de1a34ce7cc4",
   "metadata": {},
   "outputs": [],
   "source": [
    "dataset = sy.Dataset(\n",
    "    name=\"Canada Trade Value\",\n",
    "    description=\"Canada Trade Data Markdown Description\",\n",
    "    contributor=contributor,\n",
    "    asset_list=[ctf],\n",
    ")"
   ]
  },
  {
   "cell_type": "code",
   "execution_count": null,
   "id": "4367a4a2-bd02-4de9-a9d1-ff198222faa5",
   "metadata": {},
   "outputs": [],
   "source": [
    "# Upload the dataset\n",
    "datasite_client.upload_dataset(dataset)"
   ]
  },
  {
   "cell_type": "code",
   "execution_count": null,
   "id": "eb376be4-4df5-473f-b2b6-2d741d4ffecb",
   "metadata": {},
   "outputs": [],
   "source": [
    "# List the dataset\n",
    "datasite_client.datasets"
   ]
  },
  {
   "cell_type": "code",
   "execution_count": null,
   "id": "882cfe52-d2d8-43d3-8fa0-28024abe2b63",
   "metadata": {},
   "outputs": [],
   "source": [
    "datasite_client.datasets[0]"
   ]
  },
  {
   "cell_type": "code",
   "execution_count": null,
   "id": "9d8e140e-f3ef-4536-9a80-3d55ed6427d4",
   "metadata": {},
   "outputs": [],
   "source": [
    "datasite_client.datasets[0].assets"
   ]
  },
  {
   "cell_type": "code",
   "execution_count": null,
   "id": "597bc118-08a6-4c9f-b6e6-535dfaf053ea",
   "metadata": {},
   "outputs": [],
   "source": [
    "trade_data = datasite_client.datasets[0].assets[0]"
   ]
  },
  {
   "cell_type": "code",
   "execution_count": null,
   "id": "dd20b7ac-8d8c-4a6b-925e-de98ef4505b7",
   "metadata": {},
   "outputs": [],
   "source": [
    "trade_data.mock"
   ]
  },
  {
   "cell_type": "code",
   "execution_count": null,
   "id": "03b9e6fb-a707-44d1-9f19-2d5dc7c42b61",
   "metadata": {},
   "outputs": [],
   "source": [
    "trade_data.data"
   ]
  }
 ],
 "metadata": {
  "kernelspec": {
   "display_name": "Python 3 (ipykernel)",
   "language": "python",
   "name": "python3"
  },
  "language_info": {
   "codemirror_mode": {
    "name": "ipython",
    "version": 3
   },
   "file_extension": ".py",
   "mimetype": "text/x-python",
   "name": "python",
   "nbconvert_exporter": "python",
   "pygments_lexer": "ipython3",
   "version": "3.11.5"
  }
 },
 "nbformat": 4,
 "nbformat_minor": 5
}

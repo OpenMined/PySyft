{
 "cells": [
  {
   "cell_type": "code",
   "execution_count": null,
   "id": "0",
   "metadata": {},
   "outputs": [],
   "source": [
    "# syft absolute\n",
    "import syft as sy\n",
    "\n",
    "SYFT_VERSION = \">=0.9.0,<0.9.1\"\n",
    "sy.requires(SYFT_VERSION)\n",
    "\n",
    "DATA_SITE_NAME = \"cancer-research-centre\"\n",
    "DATA_SITE_PORT = 8083\n",
    "\n",
    "data_site = sy.orchestra.launch(port=DATA_SITE_PORT, name=DATA_SITE_NAME, reset=True)"
   ]
  },
  {
   "cell_type": "code",
   "execution_count": null,
   "id": "1",
   "metadata": {
    "tags": [
     "hide-output",
     "hide_output"
    ]
   },
   "outputs": [],
   "source": [
    "# logging in as root client with default credentials\n",
    "root_client = sy.login(\n",
    "    email=\"info@openmined.org\", password=\"changethis\", port=DATA_SITE_PORT\n",
    ")"
   ]
  },
  {
   "cell_type": "code",
   "execution_count": null,
   "id": "2",
   "metadata": {},
   "outputs": [],
   "source": [
    "# @leriomaggio this should be autosplatted"
   ]
  },
  {
   "cell_type": "code",
   "execution_count": null,
   "id": "3",
   "metadata": {
    "tags": []
   },
   "outputs": [],
   "source": [
    "# from syft.service.user.user import UserCreate\n",
    "\n",
    "# # creating a new user\n",
    "# root_client.users.create(UserCreate(email=\"rachel_ds@openmined.org\", name=\"Rachel DS\", password=\"syft_rocks\"))"
   ]
  },
  {
   "cell_type": "code",
   "execution_count": null,
   "id": "4",
   "metadata": {},
   "outputs": [],
   "source": [
    "root_client.users.create(\n",
    "    email=\"rachel_ds@openmined.org\", name=\"Rachel DS\", password=\"syft_rocks\"\n",
    ")"
   ]
  },
  {
   "cell_type": "code",
   "execution_count": null,
   "id": "5",
   "metadata": {
    "tags": []
   },
   "outputs": [],
   "source": [
    "# Returns a list of all the existing users in the domain\n",
    "users = root_client.users\n",
    "users"
   ]
  },
  {
   "cell_type": "code",
   "execution_count": null,
   "id": "6",
   "metadata": {
    "tags": []
   },
   "outputs": [],
   "source": [
    "# Selecting an user by index\n",
    "users[1].name"
   ]
  },
  {
   "cell_type": "code",
   "execution_count": null,
   "id": "7",
   "metadata": {
    "tags": []
   },
   "outputs": [],
   "source": [
    "# # Selecting an user by filtering\n",
    "# new_user = [u for u in users if u.email == \"rachel_ds@openmined.org\"][0]\n",
    "# new_user.name"
   ]
  },
  {
   "cell_type": "code",
   "execution_count": null,
   "id": "8",
   "metadata": {},
   "outputs": [],
   "source": [
    "# @leriomaggio we have a search feature on users by email\n",
    "new_user = root_client.api.services.user.search(email=\"rachel_ds@openmined.org\")[0]\n",
    "new_user.name"
   ]
  },
  {
   "cell_type": "code",
   "execution_count": null,
   "id": "9",
   "metadata": {
    "tags": []
   },
   "outputs": [],
   "source": [
    "# from syft.service.user.user import UserUpdate, ServiceRole\n",
    "\n",
    "# root_client.users.update(new_user.id, UserUpdate(name=\"Updated Rachel as a Guest\",\n",
    "#                                                  role=ServiceRole.GUEST,\n",
    "#                                                  password=\"syft_rocks\"))"
   ]
  },
  {
   "cell_type": "code",
   "execution_count": null,
   "id": "10",
   "metadata": {},
   "outputs": [],
   "source": [
    "# @leriomaggio Update objects are meant to be invisible to the user by enabling `autosplat` on the service method\n",
    "root_client.users.update(\n",
    "    uid=new_user.id,\n",
    "    name=\"Updated Rachel as a Guest\",\n",
    "    role=sy.ServiceRole.GUEST,\n",
    "    password=\"syft_rocks\",\n",
    ")"
   ]
  },
  {
   "cell_type": "code",
   "execution_count": null,
   "id": "11",
   "metadata": {
    "tags": []
   },
   "outputs": [],
   "source": [
    "root_client.users.delete(new_user.id)"
   ]
  },
  {
   "cell_type": "code",
   "execution_count": null,
   "id": "12",
   "metadata": {},
   "outputs": [],
   "source": [
    "root_client.settings.allow_guest_signup(enable=True)"
   ]
  },
  {
   "cell_type": "code",
   "execution_count": null,
   "id": "13",
   "metadata": {},
   "outputs": [],
   "source": [
    "# @leriomaggio, the user was just deleted above, this needs to get a guest client\n",
    "# discoverable_domain = sy.login(email=\"rachel_ds@openmined.org\", password=\"syft_rocks\", port=DATA_SITE_PORT)\n",
    "discoverable_domain = sy.login_as_guest(port=DATA_SITE_PORT)"
   ]
  },
  {
   "cell_type": "code",
   "execution_count": null,
   "id": "14",
   "metadata": {},
   "outputs": [],
   "source": [
    "# register the account\n",
    "discoverable_domain.register(\n",
    "    email=\"scientist@test.com\",\n",
    "    password=\"123\",\n",
    "    password_verify=\"123\",\n",
    "    name=\"Curious Scientist\",\n",
    ")"
   ]
  },
  {
   "cell_type": "code",
   "execution_count": null,
   "id": "15",
   "metadata": {},
   "outputs": [],
   "source": []
  }
 ],
 "metadata": {
  "kernelspec": {
   "display_name": "Python 3 (ipykernel)",
   "language": "python",
   "name": "python3"
  },
  "language_info": {
   "codemirror_mode": {
    "name": "ipython",
    "version": 3
   },
   "file_extension": ".py",
   "mimetype": "text/x-python",
   "name": "python",
   "nbconvert_exporter": "python",
   "pygments_lexer": "ipython3",
   "version": "3.12.2"
  }
 },
 "nbformat": 4,
 "nbformat_minor": 5
}

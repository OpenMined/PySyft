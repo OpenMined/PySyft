{
 "cells": [
  {
   "cell_type": "code",
   "execution_count": 22,
   "id": "5ac9669d-4c1f-4b29-b6fb-abec508649e7",
   "metadata": {},
   "outputs": [],
   "source": [
    "# -- configuration options for demo / dev mode etc\n",
    "# -- how to see the web server is running on port x\n",
    "# -- how to make a server accessible to other users (brief explanation of networking)\n",
    "# -- Optional: for testing purposes you can use bore: https://github.com/ekzhang/bore for free\n",
    "# -- Note: production mode is recommended to use kubernetes"
   ]
  },
  {
   "cell_type": "markdown",
   "id": "1060d546",
   "metadata": {},
   "source": [
    "## Create a local temporary development server\n",
    "There are two alternatives to set the server port:\n",
    "- Manually specify the port number.\n",
    "- Automatically select an available port number using the \"auto\" value."
   ]
  },
  {
   "cell_type": "code",
   "execution_count": 23,
   "id": "c514ec4c",
   "metadata": {},
   "outputs": [
    {
     "name": "stdout",
     "output_type": "stream",
     "text": [
      "Starting sample_server server on 0.0.0.0:46671\n",
      "Waiting for server to start..."
     ]
    },
    {
     "name": "stderr",
     "output_type": "stream",
     "text": [
      "INFO:     Started server process [56424]\n",
      "INFO:     Waiting for application startup.\n",
      "INFO:     Application startup complete.\n",
      "INFO:     Uvicorn running on http://0.0.0.0:46671 (Press CTRL+C to quit)\n"
     ]
    },
    {
     "name": "stdout",
     "output_type": "stream",
     "text": [
      "INFO:     127.0.0.1:44806 - \"GET /api/v2/metadata HTTP/1.1\" 200 OK\n",
      ". Done.\n"
     ]
    },
    {
     "data": {
      "text/html": [
       "<div class=\"alert-info\" style=\"padding:5px;\"><strong>SyftInfo</strong>: <pre class=\"alert-info\" style=\"display:inline; font-family:inherit;\">You have launched a development node at http://0.0.0.0:46671.It is intended only for local use.</pre></div><br/>"
      ],
      "text/plain": [
       "SyftInfo: You have launched a development node at http://0.0.0.0:46671.It is intended only for local use."
      ]
     },
     "metadata": {},
     "output_type": "display_data"
    }
   ],
   "source": [
    "# syft absolute\n",
    "import syft as sy\n",
    "\n",
    "server = sy.orchestra.launch(name=\"sample_server\", port=\"auto\")"
   ]
  },
  {
   "cell_type": "markdown",
   "id": "c5e03411",
   "metadata": {},
   "source": [
    "## Connect to the server using default credentials"
   ]
  },
  {
   "cell_type": "code",
   "execution_count": 24,
   "id": "20c1d3eb",
   "metadata": {},
   "outputs": [
    {
     "name": "stdout",
     "output_type": "stream",
     "text": [
      "INFO:     127.0.0.1:44810 - \"GET /api/v2/metadata HTTP/1.1\" 200 OK\n",
      "INFO:     127.0.0.1:44810 - \"POST /api/v2/login HTTP/1.1\" 200 OK\n",
      "INFO:     127.0.0.1:44810 - \"GET /api/v2/api?verify_key=4e5c73b776df0f94258a45f13d008cb1d9f344ac1b5b713b12b2055074fda673&communication_protocol=dev HTTP/1.1\" 200 OK\n",
      "INFO:     127.0.0.1:44816 - \"POST /api/v2/api_call HTTP/1.1\" 200 OK\n",
      "INFO:     127.0.0.1:44792 - \"GET /api/v2/metadata HTTP/1.1\" 200 OK\n",
      "INFO:     127.0.0.1:44792 - \"POST /api/v2/login HTTP/1.1\" 200 OK\n",
      "INFO:     127.0.0.1:44792 - \"GET /api/v2/api?verify_key=4e5c73b776df0f94258a45f13d008cb1d9f344ac1b5b713b12b2055074fda673&communication_protocol=dev HTTP/1.1\" 200 OK\n",
      "INFO:     127.0.0.1:44800 - \"POST /api/v2/api_call HTTP/1.1\" 200 OK\n"
     ]
    },
    {
     "name": "stdout",
     "output_type": "stream",
     "text": [
      "Logged into <sample_server: High-side Domain> as GUEST\n",
      "Logged into <sample_server: High side Domain> as <info@openmined.org>\n"
     ]
    },
    {
     "data": {
      "text/html": [
       "<div class=\"alert-warning\" style=\"padding:5px;\"><strong>SyftWarning</strong>: <pre class=\"alert-warning\" style=\"display:inline; font-family:inherit;\">You are using a default password. Please change the password using `[your_client].me.set_password([new_password])`.</pre></div><br/>"
      ],
      "text/plain": [
       "SyftWarning: You are using a default password. Please change the password using `[your_client].me.set_password([new_password])`."
      ]
     },
     "metadata": {},
     "output_type": "display_data"
    }
   ],
   "source": [
    "client = server.login(email=\"info@openmined.org\", password=\"changethis\")"
   ]
  },
  {
   "cell_type": "markdown",
   "id": "3681b7cc",
   "metadata": {},
   "source": [
    "## Non-local access to the development server\n",
    "NOTE: This is a temporary server for local development. It is not intended for production use.\n",
    "- To access the development server from a different machine, users need to specify the IP address or hostname of the machine where the server is running.\n",
    "- This is usually possible when the server is running on the local network, but it won't be possible when the client is on a different network.\n",
    "- Allowing connections from remote networks requires complex configuration which is outside the scope of this tutorial."
   ]
  },
  {
   "cell_type": "markdown",
   "id": "6d3c2b40",
   "metadata": {},
   "source": [
    "### Connecting from other computers in the local network\n",
    "We need to provide the address of the machine where the server is running. \n",
    "\n",
    "The simplest way is providing the hostname and port (the IP address can also be used but is error-prone for multiple reasons)"
   ]
  },
  {
   "cell_type": "markdown",
   "id": "2df12389",
   "metadata": {},
   "source": [
    "#### Get the URL of the server"
   ]
  },
  {
   "cell_type": "code",
   "execution_count": 25,
   "id": "bbe47c63",
   "metadata": {},
   "outputs": [
    {
     "data": {
      "text/plain": [
       "'AsusTUF:46671'"
      ]
     },
     "execution_count": 25,
     "metadata": {},
     "output_type": "execute_result"
    }
   ],
   "source": [
    "# stdlib\n",
    "# Get the hostname of the machine\n",
    "import socket\n",
    "\n",
    "hostname = socket.gethostname()\n",
    "server_address = f\"{hostname}:{server.port}\"\n",
    "server_address"
   ]
  },
  {
   "cell_type": "markdown",
   "id": "f8d662db",
   "metadata": {},
   "source": [
    "#### Connecting to the server as if it were a remote machine\n",
    "Using the hostname and port, we can connect to the server from another machine in the local network."
   ]
  },
  {
   "cell_type": "code",
   "execution_count": 26,
   "id": "10cfbe69",
   "metadata": {},
   "outputs": [
    {
     "name": "stdout",
     "output_type": "stream",
     "text": [
      "Logged into <sample_server: High side Domain> as <info@openmined.org>\n"
     ]
    },
    {
     "data": {
      "text/html": [
       "<div class=\"alert-warning\" style=\"padding:5px;\"><strong>SyftWarning</strong>: <pre class=\"alert-warning\" style=\"display:inline; font-family:inherit;\">You are using a default password. Please change the password using `[your_client].me.set_password([new_password])`.</pre></div><br/>"
      ],
      "text/plain": [
       "SyftWarning: You are using a default password. Please change the password using `[your_client].me.set_password([new_password])`."
      ]
     },
     "metadata": {},
     "output_type": "display_data"
    }
   ],
   "source": [
    "client = sy.login(url=server_address, email=\"info@openmined.org\", password=\"changethis\")"
   ]
  },
  {
   "cell_type": "markdown",
   "id": "6de4109c",
   "metadata": {},
   "source": [
    "## Stopping a local server"
   ]
  },
  {
   "cell_type": "code",
   "execution_count": 27,
   "id": "c204ff56-a6c6-4031-9ce2-f6b7a875af20",
   "metadata": {},
   "outputs": [
    {
     "name": "stderr",
     "output_type": "stream",
     "text": [
      "INFO:     Shutting down\n",
      "INFO:     Waiting for application shutdown.\n",
      "INFO:     Application shutdown complete.\n",
      "INFO:     Finished server process [56424]\n"
     ]
    },
    {
     "name": "stdout",
     "output_type": "stream",
     "text": [
      "Stopping sample_server\n"
     ]
    }
   ],
   "source": [
    "server.land()"
   ]
  }
 ],
 "metadata": {
  "kernelspec": {
   "display_name": "Python 3 (ipykernel)",
   "language": "python",
   "name": "python3"
  },
  "language_info": {
   "codemirror_mode": {
    "name": "ipython",
    "version": 3
   },
   "file_extension": ".py",
   "mimetype": "text/x-python",
   "name": "python",
   "nbconvert_exporter": "python",
   "pygments_lexer": "ipython3",
   "version": "3.12.4"
  }
 },
 "nbformat": 4,
 "nbformat_minor": 5
}

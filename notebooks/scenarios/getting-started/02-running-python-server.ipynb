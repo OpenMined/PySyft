{
 "cells": [
  {
   "cell_type": "code",
   "execution_count": 1,
   "id": "5ac9669d-4c1f-4b29-b6fb-abec508649e7",
   "metadata": {},
   "outputs": [],
   "source": [
    "# -- configuration options for demo / dev mode etc\n",
    "# -- how to see the web server is running on port x\n",
    "# -- how to make a server accessible to other users (brief explanation of networking)\n",
    "# -- Optional: for testing purposes you can use bore: https://github.com/ekzhang/bore for free\n",
    "# -- Note: production mode is recommended to use kubernetes"
   ]
  },
  {
   "cell_type": "code",
   "execution_count": null,
   "id": "c204ff56-a6c6-4031-9ce2-f6b7a875af20",
   "metadata": {},
   "outputs": [],
   "source": []
  }
 ],
 "metadata": {
  "kernelspec": {
   "display_name": "Python 3 (ipykernel)",
   "language": "python",
   "name": "python3"
  },
  "language_info": {
   "codemirror_mode": {
    "name": "ipython",
    "version": 3
   },
   "file_extension": ".py",
   "mimetype": "text/x-python",
   "name": "python",
   "nbconvert_exporter": "python",
   "pygments_lexer": "ipython3",
   "version": "3.12.2"
  }
 },
 "nbformat": 4,
 "nbformat_minor": 5
}

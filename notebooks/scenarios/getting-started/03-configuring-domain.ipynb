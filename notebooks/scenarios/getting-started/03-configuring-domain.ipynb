{
 "cells": [
  {
   "cell_type": "code",
   "execution_count": null,
   "id": "9278cdde-2ddc-493f-ab1a-7a224f2c2338",
   "metadata": {},
   "outputs": [],
   "source": [
    "# -- all the configuration and node settings options\n",
    "# -- optional: adding email settings (smtp with sendgrid free account)\n",
    "# -- changing passwords (importance of root account)"
   ]
  }
 ],
 "metadata": {
  "kernelspec": {
   "display_name": "Python 3 (ipykernel)",
   "language": "python",
   "name": "python3"
  },
  "language_info": {
   "codemirror_mode": {
    "name": "ipython",
    "version": 3
   },
   "file_extension": ".py",
   "mimetype": "text/x-python",
   "name": "python",
   "nbconvert_exporter": "python",
   "pygments_lexer": "ipython3",
   "version": "3.12.2"
  }
 },
 "nbformat": 4,
 "nbformat_minor": 5
}

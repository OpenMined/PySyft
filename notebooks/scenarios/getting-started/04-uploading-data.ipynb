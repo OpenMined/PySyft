{
 "cells": [
  {
   "cell_type": "code",
   "execution_count": 1,
   "id": "c4db03f1-f663-42e3-b033-09aa817acbbb",
   "metadata": {},
   "outputs": [],
   "source": [
    "# -- what kinds of data are supported\n",
    "# -- how to structure your data\n",
    "# -- mock data and how to create some\n",
    "# -- how much data you can store (Note: k8s requires blob storage configuration)\n",
    "# -- adding metadata and uploading\n",
    "# -- how to change the data later"
   ]
  },
  {
   "cell_type": "code",
   "execution_count": null,
   "id": "150862d6-0395-4fbb-ad19-9bdae91e33fa",
   "metadata": {},
   "outputs": [],
   "source": []
  }
 ],
 "metadata": {
  "kernelspec": {
   "display_name": "Python 3 (ipykernel)",
   "language": "python",
   "name": "python3"
  },
  "language_info": {
   "codemirror_mode": {
    "name": "ipython",
    "version": 3
   },
   "file_extension": ".py",
   "mimetype": "text/x-python",
   "name": "python",
   "nbconvert_exporter": "python",
   "pygments_lexer": "ipython3",
   "version": "3.12.2"
  }
 },
 "nbformat": 4,
 "nbformat_minor": 5
}

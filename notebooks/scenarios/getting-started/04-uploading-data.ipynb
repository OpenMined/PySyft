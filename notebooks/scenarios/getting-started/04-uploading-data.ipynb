{
 "cells": [
  {
   "cell_type": "markdown",
   "id": "0",
   "metadata": {},
   "source": [
    "## Datasets & assets"
   ]
  },
  {
   "cell_type": "markdown",
   "id": "1",
   "metadata": {},
   "source": [
    "Datasets in PySyft empower researchers to conduct studies in a remote manner, on private data that otherwise would not be accessible to them. The whole dataset (namely, data, access to it and the result computed from it) is fully guarded, managed and mentained by the data owner.\n",
    "\n",
    "Datasets are hosted on a PySyft server.\n",
    "\n",
    "Datasets (`sy.Dataset`) are Syft objects which hold data assets. Assets (`sy.Asset`) are Syft objects which directly hold the data you want to upload and work with. "
   ]
  },
  {
   "cell_type": "markdown",
   "id": "2",
   "metadata": {},
   "source": [
    "<div class=\"admonition alert alert-info\">\n",
    "    <p class=\"admonition-title\" style=\"font-weight:bold\">Info</p>\n",
    "    A `<code>Syft Dataset</code> can contain one or more <code>Syft Assets</code>. An asset must belong to a dataset, and cannot be uploaded on its own. Throughout the documentation, dataset refers to <code>Syft Dataset</code>, and asset refers to <code>Syft Asset</code>.\n",
    "</div>    \n"
   ]
  },
  {
   "cell_type": "code",
   "execution_count": null,
   "id": "3",
   "metadata": {},
   "outputs": [],
   "source": [
    "# syft absolute\n",
    "import syft as sy"
   ]
  },
  {
   "cell_type": "code",
   "execution_count": null,
   "id": "4",
   "metadata": {},
   "outputs": [],
   "source": [
    "# launching a test node\n",
    "node = sy.orchestra.launch(name=\"test_domain\", port=8080, dev_mode=False, reset=True)\n",
    "\n",
    "# logging in with default credentials (just for the example)\n",
    "domain = sy.login(email=\"info@openmined.org\", password=\"changethis\", port=8080)"
   ]
  },
  {
   "cell_type": "markdown",
   "id": "5",
   "metadata": {},
   "source": [
    "### Structuring your Data"
   ]
  },
  {
   "cell_type": "markdown",
   "id": "6",
   "metadata": {},
   "source": [
    "For this demonstration, we are going to use `The Age Dataset 2023` from Kaggle. This extensive dataset provides a rich collection of demographic and life events records for million individuals across multiple countries. It covers a wide range of indicators and attributes related to personal information, birth and death events, gender, occupation, and associated countries. The dataset offers valuable insights into population dynamics and various aspects of human life, enabling comprehensive analyses and cross-country comparisons.\n",
    "<br>\n",
    "\n",
    "Source: [The Age Dataset 2023](https://www.kaggle.com/datasets/lasaljaywardena/age-dataset-2023)"
   ]
  },
  {
   "cell_type": "code",
   "execution_count": null,
   "id": "7",
   "metadata": {},
   "outputs": [],
   "source": [
    "# stdlib\n",
    "import ast\n",
    "from random import randint\n",
    "\n",
    "# third party\n",
    "import pandas as pd\n",
    "\n",
    "pd.set_option(\"display.max_rows\", None)\n",
    "pd.set_option(\"display.max_columns\", None)\n",
    "pd.set_option(\"display.max_colwidth\", None)\n",
    "\n",
    "# third party\n",
    "import numpy as np"
   ]
  },
  {
   "cell_type": "code",
   "execution_count": null,
   "id": "8",
   "metadata": {},
   "outputs": [],
   "source": [
    "!curl -O https://openminedblob.blob.core.windows.net/csvs/ages_dataset.csv"
   ]
  },
  {
   "cell_type": "code",
   "execution_count": null,
   "id": "9",
   "metadata": {},
   "outputs": [],
   "source": [
    "data_path = \"ages_dataset.csv\"\n",
    "age_df = pd.read_csv(data_path)\n",
    "age_df = age_df.dropna(how=\"any\")\n",
    "print(age_df.shape)\n",
    "age_df.head()"
   ]
  },
  {
   "cell_type": "code",
   "execution_count": null,
   "id": "10",
   "metadata": {},
   "outputs": [],
   "source": [
    "age_df.info()"
   ]
  },
  {
   "cell_type": "code",
   "execution_count": null,
   "id": "11",
   "metadata": {},
   "outputs": [],
   "source": [
    "age_df.describe()"
   ]
  },
  {
   "cell_type": "code",
   "execution_count": null,
   "id": "12",
   "metadata": {},
   "outputs": [],
   "source": [
    "print(age_df[\"Id\"].nunique())\n",
    "print(age_df[\"Name\"].nunique())"
   ]
  },
  {
   "cell_type": "code",
   "execution_count": null,
   "id": "13",
   "metadata": {},
   "outputs": [],
   "source": [
    "age_df[\"Gender\"].value_counts()"
   ]
  },
  {
   "cell_type": "code",
   "execution_count": null,
   "id": "14",
   "metadata": {},
   "outputs": [],
   "source": [
    "print(\"No. of unique Occupations:\", age_df[\"Occupation\"].nunique())\n",
    "age_df[\"Occupation\"].value_counts()[:10]"
   ]
  },
  {
   "cell_type": "code",
   "execution_count": null,
   "id": "15",
   "metadata": {},
   "outputs": [],
   "source": [
    "print(\n",
    "    \"No. of unique combinations of Countries:\", age_df[\"Associated Countries\"].nunique()\n",
    ")\n",
    "age_df[\"Associated Countries\"].value_counts()[:10]"
   ]
  },
  {
   "cell_type": "markdown",
   "id": "16",
   "metadata": {},
   "source": [
    "### Creating Mock data\n",
    "As mentioned in previous tutorials, data scientists don't get to interact with the real private data, but only to a synthetic dataset, which mimics the real one, which make up the concept of _mock data_. Given that mock data does not contain any private information, it can be easily opened up for access to researchers who would like to learn about the private assets, without getting any access to the real data.\n",
    "\n",
    "In this example, we are going to use the `Faker` library for generating mock data. You can install this Python library by running the following cell. \n",
    "\n",
    "```bash\n",
    "pip install Faker\n",
    "```"
   ]
  },
  {
   "cell_type": "code",
   "execution_count": null,
   "id": "17",
   "metadata": {},
   "outputs": [],
   "source": [
    "!pip install Faker\n",
    "\n",
    "# third party\n",
    "from faker import Faker"
   ]
  },
  {
   "cell_type": "markdown",
   "id": "18",
   "metadata": {},
   "source": [
    "**Mock Data Generation Steps:**\n",
    "\n",
    "- Generate Fake `Id` and `Name`\n",
    "- Generate Fake `Short Description`\n",
    "- Encode each unique `Gender` with a standard naming convention (i.e. `Gender 1`, `Gender 2` etc.) \\\n",
    "to protect the under represented genders and generate Fake transformed `Gender` value\n",
    "- Generate Fake `Occupation`, including cases with multiple occupation\n",
    "- Generate Fake `Associated Countries`, including cases with multiple countries\n",
    "- Generate Fake `Age of death` by adding standard deviation of += `threshold` to the original age data\n",
    "- Adjust the `Birth year` and `Death year` according to the Fake `Age of death`\n",
    "- Generate Fake `Life Expentency` but make sure to map the fake `Life Expentency` to the corresponding \\\n",
    "fake `Associated Country` in order to maintain consistency\n",
    "- After generating fake values for all the above columns, it is safe to keep the original values for `Manner of death`, keeping the distribution present in the real data\n",
    "- For this exercise, we will discard the rest two columns - `Country` and `Associated Country Coordinates (Lat/Lon)`"
   ]
  },
  {
   "cell_type": "markdown",
   "id": "19",
   "metadata": {},
   "source": [
    "#### Step 1: Maintain relationships in the mock data [optional]"
   ]
  },
  {
   "cell_type": "code",
   "execution_count": null,
   "id": "20",
   "metadata": {},
   "outputs": [],
   "source": [
    "# Convert <string> type list of strings to python <list> type\n",
    "age_df[\"Associated Countries\"] = age_df[\"Associated Countries\"].apply(ast.literal_eval)\n",
    "\n",
    "age_df[\"Associated Country Coordinates (Lat/Lon)\"] = age_df[\n",
    "    \"Associated Country Coordinates (Lat/Lon)\"\n",
    "].apply(ast.literal_eval)\n",
    "\n",
    "age_df[\"Associated Country Life Expectancy\"] = age_df[\n",
    "    \"Associated Country Life Expectancy\"\n",
    "].apply(ast.literal_eval)"
   ]
  },
  {
   "cell_type": "code",
   "execution_count": null,
   "id": "21",
   "metadata": {},
   "outputs": [],
   "source": [
    "# Separate countries from lists and calculate their individual value_counts() which will be\n",
    "# used by random.choice function later as distributions\n",
    "\n",
    "\n",
    "def value_counts_of_lists(series_with_lists):\n",
    "    # Concatenate all the lists in the Series into a single list\n",
    "    unpacked_list = [item for sublist in series_with_lists for item in sublist]\n",
    "\n",
    "    # Create a new Series from the unpacked list\n",
    "    unpacked_series = pd.Series(unpacked_list)\n",
    "\n",
    "    # Use value_counts to get the count of unique values\n",
    "    value_counts = unpacked_series.value_counts()\n",
    "\n",
    "    return unpacked_list, value_counts\n",
    "\n",
    "\n",
    "# Create a dictionary where each unique country from all the lists in Associated Countries\n",
    "# are keys and the corresponding (Lat,Long) tuples are the values\n",
    "\n",
    "unpacked_cnt_list, cnt_value_counts = value_counts_of_lists(\n",
    "    age_df[\"Associated Countries\"].values\n",
    ")\n",
    "\n",
    "unpacked_exp_list, exp_value_counts = value_counts_of_lists(\n",
    "    age_df[\"Associated Country Life Expectancy\"].values\n",
    ")\n",
    "\n",
    "print(len(unpacked_cnt_list))\n",
    "print(len(unpacked_exp_list))\n",
    "\n",
    "cnt_dict = dict.fromkeys(unpacked_cnt_list, None)\n",
    "\n",
    "for i in range(len(unpacked_exp_list)):\n",
    "    if cnt_dict[unpacked_cnt_list[i]] is None:\n",
    "        cnt_dict[unpacked_cnt_list[i]] = unpacked_exp_list[i]"
   ]
  },
  {
   "cell_type": "markdown",
   "id": "22",
   "metadata": {},
   "source": [
    "#### Step 2: Generate Mock Data"
   ]
  },
  {
   "cell_type": "code",
   "execution_count": null,
   "id": "23",
   "metadata": {},
   "outputs": [],
   "source": [
    "NUM_OF_ROWS = age_df.shape[0]  # 10000\n",
    "\n",
    "Faker.seed(0)\n",
    "faker = Faker()"
   ]
  },
  {
   "cell_type": "code",
   "execution_count": null,
   "id": "24",
   "metadata": {},
   "outputs": [],
   "source": [
    "gender_encode_dict = {\n",
    "    \"Male\": \"Gender 1\",\n",
    "    \"Female\": \"Gender 2\",\n",
    "    \"Transgender Female\": \"Gender 3\",\n",
    "    \"Transgender Male\": \"Gender 4\",\n",
    "    \"Intersex\": \"Gender 5\",\n",
    "    \"Eunuch; Male\": \"Gender 6; Gender 1\",\n",
    "    \"Transgender Female; Female\": \"Gender 3; Gender 2\",\n",
    "}\n",
    "\n",
    "\n",
    "def generate_random_choice_columns(age_df, num):\n",
    "    # Generate Id\n",
    "    id_list = np.arange(1, num + 2000)\n",
    "    fake_id = np.random.choice(id_list, size=num, replace=False)\n",
    "    fake_id = pd.Series(fake_id).apply(lambda x: \"Q\" + str(x))\n",
    "\n",
    "    # Generate Gender\n",
    "    gender_dist = age_df[\"Gender\"].value_counts(normalize=True)\n",
    "    gender = np.random.choice(\n",
    "        age_df[\"Gender\"].unique().tolist(),\n",
    "        size=num,\n",
    "        replace=True,\n",
    "        p=gender_dist,  # probability\n",
    "    )\n",
    "    gender = pd.Series(gender).replace(gender_encode_dict)\n",
    "\n",
    "    # Generate Age of death, add noise by adding random int between(-5,5) to fake age\n",
    "    age_of_death_dist = age_df[\"Age of death\"].value_counts(normalize=True)\n",
    "    age_of_death = np.random.choice(\n",
    "        age_df[\"Age of death\"].unique().tolist(),\n",
    "        size=num,\n",
    "        replace=True,\n",
    "        p=age_of_death_dist,  # probability\n",
    "    )\n",
    "    age_of_death = (\n",
    "        pd.Series(age_of_death).apply(lambda x: x + randint(-5, 5)).astype(\"float64\")\n",
    "    )\n",
    "\n",
    "    # Generate Associated Countries\n",
    "    assc_cnt_dist = age_df[\"Associated Countries\"].value_counts(normalize=True)\n",
    "    assc_cnt = np.random.choice(\n",
    "        age_df[\"Associated Countries\"].astype(str).value_counts().keys().tolist(),\n",
    "        size=num,\n",
    "        replace=True,\n",
    "        p=assc_cnt_dist,  # probability\n",
    "    )\n",
    "    assc_cnt = pd.Series(assc_cnt).apply(ast.literal_eval)\n",
    "\n",
    "    # Generate Life Expectency using the dictionary created above\n",
    "    assc_life_exp = pd.Series(assc_cnt).apply(lambda x: [cnt_dict[i] for i in x])\n",
    "\n",
    "    # Generate Manner of death\n",
    "    manner_of_death_dist = age_df[\"Manner of death\"].value_counts(normalize=True)\n",
    "    manner_of_death = np.random.choice(\n",
    "        age_df[\"Manner of death\"].unique().tolist(),\n",
    "        size=num,\n",
    "        replace=True,\n",
    "        p=manner_of_death_dist,  # probability\n",
    "    )\n",
    "    manner_of_death = pd.Series(manner_of_death)\n",
    "\n",
    "    return fake_id, gender, age_of_death, assc_cnt, assc_life_exp, manner_of_death\n",
    "\n",
    "\n",
    "def make_faker_data(num):\n",
    "    fake_data = [\n",
    "        {\n",
    "            \"Name\": faker.name(),\n",
    "            \"Short description\": faker.paragraph(nb_sentences=2),\n",
    "            \"Occupation\": faker.job(),\n",
    "            \"Death year\": float(faker.year()),\n",
    "        }\n",
    "        for x in range(num)\n",
    "    ]\n",
    "\n",
    "    return fake_data"
   ]
  },
  {
   "cell_type": "code",
   "execution_count": null,
   "id": "25",
   "metadata": {},
   "outputs": [],
   "source": [
    "age_mock_df = pd.DataFrame()\n",
    "(\n",
    "    age_mock_df[\"Id\"],\n",
    "    age_mock_df[\"Gender\"],\n",
    "    age_mock_df[\"Age of death\"],\n",
    "    age_mock_df[\"Associated Countries\"],\n",
    "    age_mock_df[\"Associated Country Life Expectancy\"],\n",
    "    age_mock_df[\"Manner of death\"],\n",
    ") = generate_random_choice_columns(age_df, num=NUM_OF_ROWS)\n",
    "\n",
    "fake_data = pd.DataFrame(make_faker_data(num=NUM_OF_ROWS))\n",
    "\n",
    "for col in fake_data.columns.to_list():\n",
    "    age_mock_df[col] = fake_data[col]\n",
    "\n",
    "# Generate Birth year by subtracting Age of death from Death year\n",
    "age_mock_df[\"Birth year\"] = age_mock_df[\"Death year\"].astype(int) - age_mock_df[\n",
    "    \"Age of death\"\n",
    "].astype(int)\n",
    "\n",
    "print(age_mock_df.shape)\n",
    "age_mock_df.head()"
   ]
  },
  {
   "cell_type": "markdown",
   "id": "26",
   "metadata": {},
   "source": [
    "#### Step 3: Match Shapes between Real and Mock data"
   ]
  },
  {
   "cell_type": "code",
   "execution_count": null,
   "id": "27",
   "metadata": {},
   "outputs": [],
   "source": [
    "age_mock_df[\"Country\"] = [\"Not Available\"] * age_mock_df.shape[0]\n",
    "age_mock_df[\"Associated Country Coordinates (Lat/Lon)\"] = [\n",
    "    \"Not Available\"\n",
    "] * age_mock_df.shape[0]"
   ]
  },
  {
   "cell_type": "code",
   "execution_count": null,
   "id": "28",
   "metadata": {},
   "outputs": [],
   "source": [
    "print(age_mock_df.shape)\n",
    "age_mock_df.head()"
   ]
  },
  {
   "cell_type": "code",
   "execution_count": null,
   "id": "29",
   "metadata": {},
   "outputs": [],
   "source": [
    "cols = age_mock_df.columns\n",
    "age_df[cols].info()"
   ]
  },
  {
   "cell_type": "code",
   "execution_count": null,
   "id": "30",
   "metadata": {},
   "outputs": [],
   "source": [
    "age_mock_df[cols].info()"
   ]
  },
  {
   "cell_type": "code",
   "execution_count": null,
   "id": "31",
   "metadata": {},
   "outputs": [],
   "source": [
    "age_df[cols].describe()"
   ]
  },
  {
   "cell_type": "code",
   "execution_count": null,
   "id": "32",
   "metadata": {},
   "outputs": [],
   "source": [
    "age_mock_df[cols].describe()"
   ]
  },
  {
   "cell_type": "code",
   "execution_count": null,
   "id": "33",
   "metadata": {},
   "outputs": [],
   "source": [
    "age_df[\"Manner of death\"].value_counts()[:5]"
   ]
  },
  {
   "cell_type": "code",
   "execution_count": null,
   "id": "34",
   "metadata": {},
   "outputs": [],
   "source": [
    "age_mock_df[\"Manner of death\"].value_counts()[:5]"
   ]
  },
  {
   "cell_type": "markdown",
   "id": "35",
   "metadata": {},
   "source": [
    "### Creating a sy.Dataset"
   ]
  },
  {
   "cell_type": "code",
   "execution_count": null,
   "id": "36",
   "metadata": {},
   "outputs": [],
   "source": [
    "# How an asset would be defined:\n",
    "main_contributor = sy.Contributor(\n",
    "    name=\"Jeffrey Salazar\", role=\"Dataset Creator\", email=\"jsala@ailab.com\"\n",
    ")\n",
    "\n",
    "asset = sy.Asset(\n",
    "    name=\"asset_name\",\n",
    "    data=age_df,  # real dataframe\n",
    "    mock=age_mock_df,  # mock dataframe\n",
    "    contributors=[main_contributor],\n",
    ")"
   ]
  },
  {
   "cell_type": "code",
   "execution_count": null,
   "id": "37",
   "metadata": {},
   "outputs": [],
   "source": [
    "description_template = \"\"\"### About the dataset\n",
    "This extensive dataset provides a rich collection of demographic and life events records for individuals across multiple countries. It covers a wide range of indicators and attributes related to personal information, birth and death events, gender, occupation, and associated countries. The dataset offers valuable insights into population dynamics and various aspects of human life, enabling comprehensive analyses and cross-country comparisons. The dataset is the largest one on notable deceased people and includes individ- uals from a variety of social groups, including but not limited to 107k females, 90k researchers, and 124 non-binary indi- viduals, spread across more than 300 contemporary or histor- ical regions.\n",
    "\n",
    "### Dataset usage policy\n",
    "This dataset is subject to compliance with internal data use and mis-use policies at our organisation. The following rules apply:\n",
    "- only aggregate statistics can be released from data computation\n",
    "- data subjects should never be identifiable through the data computation outcomes\n",
    "- a fixed privacy budget of eps=5 must be preserved by each researcher\n",
    "\n",
    "### Data collection and pre-processing\n",
    "The dataset is based on open data hosted by Wikimedia Foundation.\n",
    "\n",
    "**Age**\n",
    "Whenever possible, age was calculated based on the birth and death year mentioned in the description of the individual.\n",
    "\n",
    "**Gender**\n",
    "Gender was available in the original dataset for 50% of participants. For the remaining, it was added from predictions based on name, country and century in which they lived. (97.51% accuracy and 98.89% F1-score)\n",
    "\n",
    "**Occupation**\n",
    "The occupation was available in the original dataset for 66% of the individuals. For the remaining, it was added from predictions from a multiclass text classificator model. (93.4% accuracy for 84% of the dataset)\n",
    "\n",
    "More details about the features can be found by reading the paper.\n",
    "\n",
    "### Key features\n",
    "1. **Id**: Unique identifier for each individual.\n",
    "2. **Name**: Name of the person.\n",
    "3. **Short description**: Brief description or summary of the individual.\n",
    "4. **Gender**: Gender/s of the individual.\n",
    "5. **Country**: Countries/Kingdoms of residence and/or origin.\n",
    "6. **Occupation**: Occupation or profession of the individual.\n",
    "7. **Birth year**: Year of birth for the individual.\n",
    "8. **Death year**: Year of death for the individual.\n",
    "9. **Manner of death**: Details about the circumstances or manner of death.\n",
    "10. **Age of death**: Age at the time of death for the individual.\n",
    "11. **Associated Countries**: Modern Day Countries associated with the individual.\n",
    "12. **Associated Country Coordinates (Lat/Lon)**: Modern Day Latitude and longitude coordinates of the associated countries.\n",
    "13. **Associated Country Life Expectancy**: Life expectancy of the associated countries.\n",
    "\n",
    "### Use cases\n",
    "- Analyze demographic trends and birth rates in different countries.\n",
    "- Investigate factors affecting life expectancy and mortality rates.\n",
    "- Study the relationship between gender and occupation across regions.\n",
    "- Explore correlations between age of death and associated country attributes.\n",
    "- Examine patterns of migration and associated countries' life expectancy.\n",
    "\n",
    "\n",
    "### Getting started\n",
    "\n",
    "```\n",
    "!curl -O https://openminedblob.blob.core.windows.net/csvs/ages_dataset.csv\n",
    "\n",
    "age_df = pd.read_csv(\"ages_dataset.csv\")\n",
    "```\n",
    "\n",
    "### Execution environment\n",
    "The data is hosted in a remote compute environment with the following specifications:\n",
    "- X CPU cores\n",
    "- 1 GPU of type Y\n",
    "- Z RAM\n",
    "- A additional available storage\n",
    "\n",
    "### Citation\n",
    "Annamoradnejad, Issa; Annamoradnejad, Rahimberdi (2022), “Age dataset: A structured general-purpose dataset on life, work, and death of 1.22 million distinguished people”, In Workshop Proceedings of the 16th International AAAI Conference on Web and Social Media (ICWSM), doi: 10.36190/2022.82\n",
    "\"\"\""
   ]
  },
  {
   "cell_type": "code",
   "execution_count": null,
   "id": "38",
   "metadata": {},
   "outputs": [],
   "source": [
    "age_dataset = sy.Dataset(\n",
    "    name=\"Dataset name\",\n",
    "    description=description_template,\n",
    "    asset_list=[asset],\n",
    "    contributors=[main_contributor],\n",
    ")"
   ]
  },
  {
   "cell_type": "markdown",
   "id": "39",
   "metadata": {},
   "source": [
    "### Uploading Dataset\n",
    "\n",
    "To upload a dataset on a domain, use the `upload_dataset` function. You need to be logged in into the domain (low side or high side).\n",
    "\n",
    "<div class=\"admonition info\">\n",
    "    <p class=\"admonition-title\" style=\"font-weight:bold\">Info</p>\n",
    "Assets can be only uploading as part of a dataset.\n",
    "</div>    \n"
   ]
  },
  {
   "cell_type": "code",
   "execution_count": null,
   "id": "40",
   "metadata": {},
   "outputs": [],
   "source": [
    "domain.upload_dataset(age_dataset)"
   ]
  },
  {
   "cell_type": "markdown",
   "id": "41",
   "metadata": {},
   "source": [
    "### Working with datasets and assets: access"
   ]
  },
  {
   "cell_type": "code",
   "execution_count": null,
   "id": "42",
   "metadata": {},
   "outputs": [],
   "source": [
    "# returns a list of all the available datasets for that domain (or empty list if none)\n",
    "domain.datasets"
   ]
  },
  {
   "cell_type": "code",
   "execution_count": null,
   "id": "43",
   "metadata": {},
   "outputs": [],
   "source": [
    "# access a particular asset by its index, or by its unique key (name)\n",
    "asset = domain.datasets[0].assets[0]  # or domain.datasets[0].assets[\"Age Data 2023\"]"
   ]
  },
  {
   "cell_type": "code",
   "execution_count": null,
   "id": "44",
   "metadata": {},
   "outputs": [],
   "source": [
    "# Access the mock or the real data within an asset\n",
    "dataset = domain.datasets[0]\n",
    "\n",
    "mock_data = dataset.assets[0].mock  # or dataset.assets[0].data, for the real data"
   ]
  },
  {
   "cell_type": "code",
   "execution_count": null,
   "id": "45",
   "metadata": {},
   "outputs": [],
   "source": [
    "# Stop domain\n",
    "node.land()"
   ]
  }
 ],
 "metadata": {
  "kernelspec": {
   "display_name": "Python 3 (ipykernel)",
   "language": "python",
   "name": "python3"
  },
  "language_info": {
   "codemirror_mode": {
    "name": "ipython",
    "version": 3
   },
   "file_extension": ".py",
   "mimetype": "text/x-python",
   "name": "python",
   "nbconvert_exporter": "python",
   "pygments_lexer": "ipython3",
   "version": "3.11.5"
  }
 },
 "nbformat": 4,
 "nbformat_minor": 5
}

{
 "cells": [
  {
   "cell_type": "code",
   "execution_count": null,
   "id": "0",
   "metadata": {},
   "outputs": [],
   "source": [
    "# -- what kinds of data are supported\n",
    "# -- how to structure your data\n",
    "# -- mock data and how to create some\n",
    "# -- how much data you can store (Note: k8s requires blob storage configuration)\n",
    "# -- adding metadata and uploading\n",
    "# -- how to change the data later"
   ]
  },
  {
   "cell_type": "code",
   "execution_count": null,
   "id": "1",
   "metadata": {},
   "outputs": [],
   "source": [
    "SYFT_VERSION = \">=0.9,<0.9.2\"\n",
    "package_string = f'\"syft{SYFT_VERSION}\"'"
   ]
  },
  {
   "cell_type": "code",
   "execution_count": null,
   "id": "2",
   "metadata": {},
   "outputs": [],
   "source": [
    "# syft absolute\n",
    "import syft as sy\n",
    "\n",
    "sy.requires(SYFT_VERSION)"
   ]
  },
  {
   "cell_type": "code",
   "execution_count": null,
   "id": "3",
   "metadata": {},
   "outputs": [],
   "source": [
    "# run a local webserver\n",
    "server = sy.orchestra.launch(name=\"test-datasite-1\", port=8081)"
   ]
  },
  {
   "cell_type": "code",
   "execution_count": null,
   "id": "4",
   "metadata": {},
   "outputs": [],
   "source": [
    "client = server.login(email=\"info@openmined.org\", password=\"changethis\")"
   ]
  },
  {
   "cell_type": "code",
   "execution_count": null,
   "id": "5",
   "metadata": {},
   "outputs": [],
   "source": [
    "# stdlib\n",
    "import os\n",
    "\n",
    "if not os.path.exists(\"ages_dataset.csv\"):\n",
    "    !curl -O https://openminedblob.blob.core.windows.net/csvs/ages_dataset.csv"
   ]
  },
  {
   "cell_type": "code",
   "execution_count": null,
   "id": "6",
   "metadata": {},
   "outputs": [],
   "source": [
    "# third party\n",
    "import pandas as pd\n",
    "\n",
    "# syft absolute\n",
    "import syft as sy\n",
    "\n",
    "age_df = pd.read_csv(\"ages_dataset.csv\")\n",
    "age_df = age_df.dropna(how=\"any\")\n",
    "age_df.head()"
   ]
  },
  {
   "cell_type": "code",
   "execution_count": null,
   "id": "7",
   "metadata": {},
   "outputs": [],
   "source": [
    "# stdlib\n",
    "# TODO: also move to dataset repo\n",
    "import os\n",
    "\n",
    "if not os.path.exists(\"ages_mock_dataset.csv\"):\n",
    "    !curl -O https://openminedblob.blob.core.windows.net/csvs/ages_mock_dataset.csv"
   ]
  },
  {
   "cell_type": "code",
   "execution_count": null,
   "id": "8",
   "metadata": {},
   "outputs": [],
   "source": [
    "age_mock_df = pd.read_csv(\"ages_mock_dataset.csv\")\n",
    "age_mock_df = age_mock_df.dropna(how=\"any\")\n",
    "age_mock_df.head()"
   ]
  },
  {
   "cell_type": "code",
   "execution_count": null,
   "id": "9",
   "metadata": {},
   "outputs": [],
   "source": [
    "# How an asset for low side and high-side would be defined:\n",
    "main_contributor = sy.Contributor(\n",
    "    name=\"Jeffrey Salazar\", role=\"Dataset Creator\", email=\"jsala@ailab.com\"\n",
    ")\n",
    "\n",
    "asset = sy.Asset(\n",
    "    name=\"asset_name\",\n",
    "    data=age_df,  # real dataframe\n",
    "    mock=age_mock_df,  # mock dataframe\n",
    "    contributors=[main_contributor],\n",
    ")"
   ]
  },
  {
   "cell_type": "code",
   "execution_count": null,
   "id": "10",
   "metadata": {},
   "outputs": [],
   "source": [
    "description_template = \"\"\"### About the dataset\n",
    "This extensive dataset provides a rich collection of demographic and life events records for individuals across multiple countries. It covers a wide range of indicators and attributes related to personal information, birth and death events, gender, occupation, and associated countries. The dataset offers valuable insights into population dynamics and various aspects of human life, enabling comprehensive analyses and cross-country comparisons. The dataset is the largest one on notable deceased people and includes individ- uals from a variety of social groups, including but not limited to 107k females, 90k researchers, and 124 non-binary indi- viduals, spread across more than 300 contemporary or histor- ical regions.\n",
    "\n",
    "### Dataset usage policy\n",
    "This dataset is subject to compliance with internal data use and mis-use policies at our organisation. The following rules apply:\n",
    "- only aggregate statistics can be released from data computation\n",
    "- data subjects should never be identifiable through the data computation outcomes\n",
    "- a fixed privacy budget of eps=5 must be preserved by each researcher\n",
    "\n",
    "### Data collection and pre-processing\n",
    "The dataset is based on open data hosted by Wikimedia Foundation.\n",
    "\n",
    "**Age**\n",
    "Whenever possible, age was calculated based on the birth and death year mentioned in the description of the individual.\n",
    "\n",
    "**Gender**\n",
    "Gender was available in the original dataset for 50% of participants. For the remaining, it was added from predictions based on name, country and century in which they lived. (97.51% accuracy and 98.89% F1-score)\n",
    "\n",
    "**Occupation**\n",
    "The occupation was available in the original dataset for 66% of the individuals. For the remaining, it was added from predictions from a multiclass text classificator model. (93.4% accuracy for 84% of the dataset)\n",
    "\n",
    "More details about the features can be found by reading the paper.\n",
    "\n",
    "### Key features\n",
    "1. **Id**: Unique identifier for each individual.\n",
    "2. **Name**: Name of the person.\n",
    "3. **Short description**: Brief description or summary of the individual.\n",
    "4. **Gender**: Gender/s of the individual.\n",
    "5. **Country**: Countries/Kingdoms of residence and/or origin.\n",
    "6. **Occupation**: Occupation or profession of the individual.\n",
    "7. **Birth year**: Year of birth for the individual.\n",
    "8. **Death year**: Year of death for the individual.\n",
    "9. **Manner of death**: Details about the circumstances or manner of death.\n",
    "10. **Age of death**: Age at the time of death for the individual.\n",
    "11. **Associated Countries**: Modern Day Countries associated with the individual.\n",
    "12. **Associated Country Coordinates (Lat/Lon)**: Modern Day Latitude and longitude coordinates of the associated countries.\n",
    "13. **Associated Country Life Expectancy**: Life expectancy of the associated countries.\n",
    "\n",
    "### Use cases\n",
    "- Analyze demographic trends and birth rates in different countries.\n",
    "- Investigate factors affecting life expectancy and mortality rates.\n",
    "- Study the relationship between gender and occupation across regions.\n",
    "- Explore correlations between age of death and associated country attributes.\n",
    "- Examine patterns of migration and associated countries' life expectancy.\n",
    "\n",
    "\n",
    "### Getting started\n",
    "\n",
    "```\n",
    "!curl -O https://openminedblob.blob.core.windows.net/csvs/ages_dataset.csv\n",
    "\n",
    "age_df = pd.read_csv(\"ages_dataset.csv\")\n",
    "```\n",
    "\n",
    "### Execution environment\n",
    "The data is hosted in a remote compute environment with the following specifications:\n",
    "- X CPU cores\n",
    "- 1 GPU of type Y\n",
    "- Z RAM\n",
    "- A additional available storage\n",
    "\n",
    "### Citation\n",
    "Annamoradnejad, Issa; Annamoradnejad, Rahimberdi (2022), “Age dataset: A structured general-purpose dataset on life, work, and death of 1.22 million distinguished people”, In Workshop Proceedings of the 16th International AAAI Conference on Web and Social Media (ICWSM), doi: 10.36190/2022.82\n",
    "\"\"\""
   ]
  },
  {
   "cell_type": "code",
   "execution_count": null,
   "id": "11",
   "metadata": {},
   "outputs": [],
   "source": [
    "dataset = sy.Dataset(\n",
    "    name=\"Dataset name\",\n",
    "    description=description_template,\n",
    "    asset_list=[asset],\n",
    "    contributors=[main_contributor],\n",
    ")"
   ]
  },
  {
   "cell_type": "code",
   "execution_count": null,
   "id": "12",
   "metadata": {},
   "outputs": [],
   "source": [
    "# Uploading the dataset\n",
    "client.upload_dataset(dataset)"
   ]
  },
  {
   "cell_type": "code",
   "execution_count": null,
   "id": "13",
   "metadata": {},
   "outputs": [],
   "source": [
    "client.datasets"
   ]
  },
  {
   "cell_type": "code",
   "execution_count": null,
   "id": "14",
   "metadata": {},
   "outputs": [],
   "source": [
    "d = client.datasets[0]\n",
    "d"
   ]
  },
  {
   "cell_type": "code",
   "execution_count": null,
   "id": "15",
   "metadata": {},
   "outputs": [],
   "source": [
    "a = d.assets[0]\n",
    "a"
   ]
  },
  {
   "cell_type": "code",
   "execution_count": null,
   "id": "16",
   "metadata": {},
   "outputs": [],
   "source": [
    "a.mock"
   ]
  },
  {
   "cell_type": "code",
   "execution_count": null,
   "id": "17",
   "metadata": {},
   "outputs": [],
   "source": [
    "a.data"
   ]
  },
  {
   "cell_type": "code",
   "execution_count": null,
   "id": "18",
   "metadata": {},
   "outputs": [],
   "source": []
  }
 ],
 "metadata": {
  "kernelspec": {
   "display_name": "Python 3 (ipykernel)",
   "language": "python",
   "name": "python3"
  },
  "language_info": {
   "codemirror_mode": {
    "name": "ipython",
    "version": 3
   },
   "file_extension": ".py",
   "mimetype": "text/x-python",
   "name": "python",
   "nbconvert_exporter": "python",
   "pygments_lexer": "ipython3",
   "version": "3.12.3"
  }
 },
 "nbformat": 4,
 "nbformat_minor": 5
}

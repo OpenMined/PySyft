{
 "cells": [
  {
   "cell_type": "code",
   "execution_count": null,
   "id": "f9535594-f1a2-48a6-87b1-a608f1fa7520",
   "metadata": {},
   "outputs": [],
   "source": [
    "# -- notifications of code requests\n",
    "# -- requests queue\n",
    "# -- reviewing code\n",
    "# -- carefully testing code\n",
    "# -- approve / deny code\n",
    "# -- substituting a result"
   ]
  },
  {
   "cell_type": "code",
   "execution_count": null,
   "id": "fa2e6a39-1c10-4eec-bbce-452afde0f10b",
   "metadata": {},
   "outputs": [],
   "source": []
  }
 ],
 "metadata": {
  "kernelspec": {
   "display_name": "Python 3 (ipykernel)",
   "language": "python",
   "name": "python3"
  },
  "language_info": {
   "codemirror_mode": {
    "name": "ipython",
    "version": 3
   },
   "file_extension": ".py",
   "mimetype": "text/x-python",
   "name": "python",
   "nbconvert_exporter": "python",
   "pygments_lexer": "ipython3",
   "version": "3.12.2"
  }
 },
 "nbformat": 4,
 "nbformat_minor": 5
}

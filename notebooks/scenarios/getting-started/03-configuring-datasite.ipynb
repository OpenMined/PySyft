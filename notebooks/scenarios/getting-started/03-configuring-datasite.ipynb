{
 "cells": [
  {
   "cell_type": "code",
   "execution_count": 1,
   "id": "9278cdde-2ddc-493f-ab1a-7a224f2c2338",
   "metadata": {},
   "outputs": [],
   "source": [
    "# -- all the configuration and server settings options\n",
    "# -- optional: adding email settings (smtp with sendgrid free account)\n",
    "# -- changing passwords (importance of root account)"
   ]
  },
  {
   "cell_type": "code",
   "execution_count": 2,
   "id": "f9cac3bb-9310-4c6e-bf02-08752e9d70df",
   "metadata": {},
   "outputs": [],
   "source": [
    "SYFT_VERSION = \">=0.8.7.b0,<0.9\"\n",
    "package_string = f'\"syft{SYFT_VERSION}\"'"
   ]
  },
  {
   "cell_type": "code",
   "execution_count": 3,
   "id": "d01b99d1-999f-4e85-abf3-c74484df8bef",
   "metadata": {},
   "outputs": [
    {
     "name": "stdout",
     "output_type": "stream",
     "text": [
      "✅ The installed version of syft==0.8.7b14 matches the requirement >=0.8.7b0 and the requirement <0.9\n"
     ]
    }
   ],
   "source": [
    "# syft absolute\n",
    "import syft as sy\n",
    "\n",
    "sy.requires(SYFT_VERSION)"
   ]
  },
  {
   "cell_type": "code",
   "execution_count": 4,
   "id": "2045933d-bc99-4483-9ca1-89c6ab166a0f",
   "metadata": {},
   "outputs": [
    {
     "name": "stdout",
     "output_type": "stream",
     "text": [
      "Starting test-datasite-1 server on 0.0.0.0:8081\n",
      " Done.\n"
     ]
    },
    {
     "data": {
      "text/html": [
       "<div class=\"alert-info\" style=\"padding:5px;\"><strong>SyftInfo</strong>: <pre class=\"alert-info\" style=\"display:inline; font-family:inherit;\">You have launched a development server at http://0.0.0.0:8081.It is intended only for local use.</pre></div><br/>"
      ],
      "text/plain": [
       "SyftInfo: You have launched a development server at http://0.0.0.0:8081.It is intended only for local use."
      ]
     },
     "metadata": {},
     "output_type": "display_data"
    }
   ],
   "source": [
    "# run a local webserver\n",
    "server = sy.orchestra.launch(name=\"test-datasite-1\", port=8081)"
   ]
  },
  {
   "cell_type": "code",
   "execution_count": 7,
   "id": "15470a8b-8760-49b5-8ab9-2947a4518075",
   "metadata": {},
   "outputs": [
    {
     "name": "stdout",
     "output_type": "stream",
     "text": [
      "Logged into <test-datasite-1: High-side Datasite> as GUEST\n",
      "Logged into <test-datasite-1: High side Datasite> as <info@openmined.org>\n"
     ]
    },
    {
     "data": {
      "text/html": [
       "<div class=\"alert-warning\" style=\"padding:5px;\"><strong>SyftWarning</strong>: <pre class=\"alert-warning\" style=\"display:inline; font-family:inherit;\">You are using a default password. Please change the password using `[your_client].me.set_password([new_password])`.</pre></div><br/>"
      ],
      "text/plain": [
       "SyftWarning: You are using a default password. Please change the password using `[your_client].me.set_password([new_password])`."
      ]
     },
     "metadata": {},
     "output_type": "display_data"
    }
   ],
   "source": [
    "client = server.login(email=\"info@openmined.org\", password=\"changethis\")"
   ]
  },
  {
   "cell_type": "code",
   "execution_count": 5,
   "id": "84cdb3e3-a165-4f7b-9390-56ebb3cf02a4",
   "metadata": {},
   "outputs": [],
   "source": [
    "# email"
   ]
  },
  {
   "cell_type": "code",
   "execution_count": 6,
   "id": "1a0738a4-7acd-4e00-b659-651bf0af8a4e",
   "metadata": {},
   "outputs": [],
   "source": [
    "secrets = sy.get_nb_secrets(defaults={\"smtp_token\": \"ADD_POSTMARK_TOKEN\"})"
   ]
  },
  {
   "cell_type": "code",
   "execution_count": 10,
   "id": "488d9fd4-6de9-46e0-9565-3f479af534e2",
   "metadata": {},
   "outputs": [
    {
     "data": {
      "text/html": [
       "<div class=\"alert-danger\" style=\"padding:5px;\"><strong>SyftError</strong>: <pre class=\"alert-danger\" style=\"display:inline; font-family:inherit;\">Invalid SMTP credentials. Please check your username and password.</pre></div><br/>"
      ],
      "text/plain": [
       "SyftError: Invalid SMTP credentials. Please check your username and password."
      ]
     },
     "execution_count": 10,
     "metadata": {},
     "output_type": "execute_result"
    }
   ],
   "source": [
    "smtp_username, smtp_password, smtp_server, smtp_port = (\n",
    "    secrets[\"smtp_token\"],\n",
    "    secrets[\"smtp_token\"],\n",
    "    \"smtp.postmarkapp.com\",\n",
    "    \"25\",\n",
    ")\n",
    "# configure email settings\n",
    "client.api.services.settings.enable_notifications(\n",
    "    email_username=smtp_username,\n",
    "    email_password=smtp_password,\n",
    "    email_sender=\"madhava@openmined.org\",\n",
    "    email_server=smtp_server,\n",
    "    email_port=smtp_port,\n",
    ")"
   ]
  },
  {
   "cell_type": "code",
   "execution_count": 13,
   "id": "e0cbb4dc-3400-418e-ae06-fd3033e042a1",
   "metadata": {},
   "outputs": [],
   "source": [
    "ns = client.api.services.notifications.settings()"
   ]
  },
  {
   "cell_type": "code",
   "execution_count": 14,
   "id": "1ec5f362-ecc1-44f6-99ac-ea8771ceb040",
   "metadata": {},
   "outputs": [
    {
     "data": {
      "text/plain": [
       "True"
      ]
     },
     "execution_count": 14,
     "metadata": {},
     "output_type": "execute_result"
    }
   ],
   "source": [
    "ns.email_enabled"
   ]
  },
  {
   "cell_type": "code",
   "execution_count": 15,
   "id": "0731f6fb-82bc-4ee3-bce1-9988e38b842a",
   "metadata": {},
   "outputs": [
    {
     "data": {
      "text/plain": [
       "{<NOTIFIERS.EMAIL: 1>: syft.service.notifier.notifier.EmailNotifier}"
      ]
     },
     "execution_count": 15,
     "metadata": {},
     "output_type": "execute_result"
    }
   ],
   "source": [
    "ns.notifiers"
   ]
  },
  {
   "cell_type": "code",
   "execution_count": 17,
   "id": "ace1e4a6-f1db-4506-8b5a-47d2940b510e",
   "metadata": {},
   "outputs": [],
   "source": [
    "s = client.api.services.settings.get()"
   ]
  },
  {
   "cell_type": "code",
   "execution_count": 18,
   "id": "c5556eee-1f9e-4eb0-b82a-ec4f523a3260",
   "metadata": {},
   "outputs": [
    {
     "data": {
      "text/html": [
       "\n",
       "<style>/* cyrillic-ext */\n",
       "@font-face {\n",
       "  font-family: \"Open Sans\";\n",
       "  font-style: normal;\n",
       "  font-weight: 300 800;\n",
       "  font-stretch: 100%;\n",
       "  src: url(https://fonts.gstatic.com/s/opensans/v35/memvYaGs126MiZpBA-UvWbX2vVnXBbObj2OVTSKmu0SC55K5gw.woff2)\n",
       "    format(\"woff2\");\n",
       "  unicode-range: U+0460-052F, U+1C80-1C88, U+20B4, U+2DE0-2DFF, U+A640-A69F,\n",
       "    U+FE2E-FE2F;\n",
       "}\n",
       "\n",
       "/* cyrillic */\n",
       "@font-face {\n",
       "  font-family: \"Open Sans\";\n",
       "  font-style: normal;\n",
       "  font-weight: 300 800;\n",
       "  font-stretch: 100%;\n",
       "  src: url(https://fonts.gstatic.com/s/opensans/v35/memvYaGs126MiZpBA-UvWbX2vVnXBbObj2OVTSumu0SC55K5gw.woff2)\n",
       "    format(\"woff2\");\n",
       "  unicode-range: U+0301, U+0400-045F, U+0490-0491, U+04B0-04B1, U+2116;\n",
       "}\n",
       "\n",
       "/* greek-ext */\n",
       "@font-face {\n",
       "  font-family: \"Open Sans\";\n",
       "  font-style: normal;\n",
       "  font-weight: 300 800;\n",
       "  font-stretch: 100%;\n",
       "  src: url(https://fonts.gstatic.com/s/opensans/v35/memvYaGs126MiZpBA-UvWbX2vVnXBbObj2OVTSOmu0SC55K5gw.woff2)\n",
       "    format(\"woff2\");\n",
       "  unicode-range: U+1F00-1FFF;\n",
       "}\n",
       "\n",
       "/* greek */\n",
       "@font-face {\n",
       "  font-family: \"Open Sans\";\n",
       "  font-style: normal;\n",
       "  font-weight: 300 800;\n",
       "  font-stretch: 100%;\n",
       "  src: url(https://fonts.gstatic.com/s/opensans/v35/memvYaGs126MiZpBA-UvWbX2vVnXBbObj2OVTSymu0SC55K5gw.woff2)\n",
       "    format(\"woff2\");\n",
       "  unicode-range: U+0370-03FF;\n",
       "}\n",
       "\n",
       "/* hebrew */\n",
       "@font-face {\n",
       "  font-family: \"Open Sans\";\n",
       "  font-style: normal;\n",
       "  font-weight: 300 800;\n",
       "  font-stretch: 100%;\n",
       "  src: url(https://fonts.gstatic.com/s/opensans/v35/memvYaGs126MiZpBA-UvWbX2vVnXBbObj2OVTS2mu0SC55K5gw.woff2)\n",
       "    format(\"woff2\");\n",
       "  unicode-range: U+0590-05FF, U+200C-2010, U+20AA, U+25CC, U+FB1D-FB4F;\n",
       "}\n",
       "\n",
       "/* vietnamese */\n",
       "@font-face {\n",
       "  font-family: \"Open Sans\";\n",
       "  font-style: normal;\n",
       "  font-weight: 300 800;\n",
       "  font-stretch: 100%;\n",
       "  src: url(https://fonts.gstatic.com/s/opensans/v35/memvYaGs126MiZpBA-UvWbX2vVnXBbObj2OVTSCmu0SC55K5gw.woff2)\n",
       "    format(\"woff2\");\n",
       "  unicode-range: U+0102-0103, U+0110-0111, U+0128-0129, U+0168-0169, U+01A0-01A1,\n",
       "    U+01AF-01B0, U+0300-0301, U+0303-0304, U+0308-0309, U+0323, U+0329,\n",
       "    U+1EA0-1EF9, U+20AB;\n",
       "}\n",
       "\n",
       "/* latin-ext */\n",
       "@font-face {\n",
       "  font-family: \"Open Sans\";\n",
       "  font-style: normal;\n",
       "  font-weight: 300 800;\n",
       "  font-stretch: 100%;\n",
       "  src: url(https://fonts.gstatic.com/s/opensans/v35/memvYaGs126MiZpBA-UvWbX2vVnXBbObj2OVTSGmu0SC55K5gw.woff2)\n",
       "    format(\"woff2\");\n",
       "  unicode-range: U+0100-02AF, U+0304, U+0308, U+0329, U+1E00-1E9F, U+1EF2-1EFF,\n",
       "    U+2020, U+20A0-20AB, U+20AD-20CF, U+2113, U+2C60-2C7F, U+A720-A7FF;\n",
       "}\n",
       "\n",
       "/* latin */\n",
       "@font-face {\n",
       "  font-family: \"Open Sans\";\n",
       "  font-style: normal;\n",
       "  font-weight: 300 800;\n",
       "  font-stretch: 100%;\n",
       "  src: url(https://fonts.gstatic.com/s/opensans/v35/memvYaGs126MiZpBA-UvWbX2vVnXBbObj2OVTS-mu0SC55I.woff2)\n",
       "    format(\"woff2\");\n",
       "  unicode-range: U+0000-00FF, U+0131, U+0152-0153, U+02BB-02BC, U+02C6, U+02DA,\n",
       "    U+02DC, U+0304, U+0308, U+0329, U+2000-206F, U+2074, U+20AC, U+2122, U+2191,\n",
       "    U+2193, U+2212, U+2215, U+FEFF, U+FFFD;\n",
       "}\n",
       "</style>\n",
       "<style>.itables {\n",
       "  font-family: \"Consolas\", monospace, sans-serif;\n",
       "}\n",
       "</style>\n",
       "\n",
       "<script>\n",
       "function addStyleSheet(fileName) {\n",
       "  var head = document.head;\n",
       "  var link = document.createElement(\"link\");\n",
       "\n",
       "  link.type = \"text/css\";\n",
       "  link.rel = \"stylesheet\";\n",
       "  link.href = fileName;\n",
       "\n",
       "  head.appendChild(link);\n",
       "}\n",
       "\n",
       "addStyleSheet(\"https://fonts.googleapis.com/css2?family=Karla:ital,wght@0,200;0,300;0,400;0,500;0,600;0,700;0,800;1,200;1,300;1,400;1,500;1,600;1,700;1,800&family=Open+Sans:ital,wght@0,300..800;1,300..800&display=swap\")\n",
       "addStyleSheet(\"https://fonts.cdnfonts.com/css/dejavu-sans-mono\")\n",
       "</script>\n",
       "\n",
       "\n",
       "<style>\n",
       "  body[data-jp-theme-light=\"false\"],\n",
       "body.vscode-dark {\n",
       "  --primary-color: #111111;\n",
       "  --secondary-color: #212121;\n",
       "  --tertiary-color: #cfcdd6;\n",
       "  --button-color: #111111;\n",
       "  --colors-black: #ffffff;\n",
       "  --surface-color: #fff;\n",
       "  --text-color: #ffffff;\n",
       "}\n",
       "\n",
       "body {\n",
       "  --primary-color: #ffffff;\n",
       "  --secondary-color: #f5f5f5;\n",
       "  --tertiary-color: #000000de;\n",
       "  --button-color: #d1d5db;\n",
       "  --colors-black: #17161d;\n",
       "  --surface-color: #464158;\n",
       "  --text-color: #2e2b3b;\n",
       "}\n",
       "\n",
       ".header-1 {\n",
       "  font-style: normal;\n",
       "  font-weight: 600;\n",
       "  font-size: 2.0736em;\n",
       "  line-height: 100%;\n",
       "  leading-trim: both;\n",
       "  text-edge: cap;\n",
       "  color: var(--colors-black);\n",
       "}\n",
       "\n",
       ".header-2 {\n",
       "  font-style: normal;\n",
       "  font-weight: 600;\n",
       "  font-size: 1.728em;\n",
       "  line-height: 100%;\n",
       "  leading-trim: both;\n",
       "  text-edge: cap;\n",
       "  color: var(--colors-black);\n",
       "}\n",
       "\n",
       ".header-3 {\n",
       "  font-style: normal;\n",
       "  font-weight: 600;\n",
       "  font-size: 1.44em;\n",
       "  line-height: 100%;\n",
       "  leading-trim: both;\n",
       "  text-edge: cap;\n",
       "  color: var(--tertiary-color);\n",
       "}\n",
       "\n",
       ".header-4 {\n",
       "  font-style: normal;\n",
       "  font-weight: 600;\n",
       "  font-size: 1.2em;\n",
       "  line-height: 100%;\n",
       "  leading-trim: both;\n",
       "  text-edge: cap;\n",
       "  color: var(--colors-black);\n",
       "}\n",
       "\n",
       ".paragraph {\n",
       "  font-style: normal;\n",
       "  font-weight: 400;\n",
       "  font-size: 14px;\n",
       "  line-height: 100%;\n",
       "  leading-trim: both;\n",
       "  text-edge: cap;\n",
       "  color: var(--text-color);\n",
       "}\n",
       "\n",
       ".paragraph-sm {\n",
       "  font-family: \"Roboto\";\n",
       "  font-style: normal;\n",
       "  font-weight: 400;\n",
       "  font-size: 11.62px;\n",
       "  line-height: 100%;\n",
       "  leading-trim: both;\n",
       "  text-edge: cap;\n",
       "  color: var(--text-color);\n",
       "}\n",
       "\n",
       ".code-text {\n",
       "  font-family: \"Consolas\";\n",
       "  font-style: normal;\n",
       "  font-weight: 400;\n",
       "  font-size: 13px;\n",
       "  line-height: 130%;\n",
       "  leading-trim: both;\n",
       "  text-edge: cap;\n",
       "  color: var(--text-color);\n",
       "}\n",
       "\n",
       ".numbering-entry {\n",
       "  display: none;\n",
       "}\n",
       "\n",
       "/* Tooltip container */\n",
       ".tooltip {\n",
       "  position: relative;\n",
       "  display: inline-block;\n",
       "  border-bottom: 1px dotted black;\n",
       "  /* If you want dots under the hoverable text */\n",
       "}\n",
       "\n",
       "/* Tooltip text */\n",
       ".tooltip .tooltiptext {\n",
       "  visibility: hidden;\n",
       "  width: 120px;\n",
       "  background-color: black;\n",
       "  color: #fff;\n",
       "  text-align: center;\n",
       "  padding: 5px 0;\n",
       "  border-radius: 6px;\n",
       "\n",
       "  /* Position the tooltip text - see examples below! */\n",
       "  position: absolute;\n",
       "  z-index: 1;\n",
       "}\n",
       "\n",
       ".repr-cell {\n",
       "  padding-top: 20px;\n",
       "}\n",
       "\n",
       ".text-bold {\n",
       "  font-weight: bold;\n",
       "}\n",
       "\n",
       ".pr-8 {\n",
       "  padding-right: 8px;\n",
       "}\n",
       "\n",
       ".pt-8 {\n",
       "  padding-top: 8px;\n",
       "}\n",
       "\n",
       ".pl-8 {\n",
       "  padding-left: 8px;\n",
       "}\n",
       "\n",
       ".pb-8 {\n",
       "  padding-bottom: 8px;\n",
       "}\n",
       "\n",
       ".py-25 {\n",
       "  padding-top: 25px;\n",
       "  padding-bottom: 25px;\n",
       "}\n",
       "\n",
       ".flex {\n",
       "  display: flex;\n",
       "}\n",
       "\n",
       ".gap-10 {\n",
       "  gap: 10px;\n",
       "}\n",
       "\n",
       ".items-center {\n",
       "  align-items: center;\n",
       "}\n",
       "\n",
       ".folder-icon {\n",
       "  color: var(--tertiary-color);\n",
       "}\n",
       "\n",
       ".search-input {\n",
       "  display: flex;\n",
       "  flex-direction: row;\n",
       "  align-items: center;\n",
       "  padding: 8px 12px;\n",
       "  width: 343px;\n",
       "  height: 24px;\n",
       "  /* Lt On Surface/Low */\n",
       "  background-color: var(--secondary-color);\n",
       "  border-radius: 30px;\n",
       "\n",
       "  /* Lt On Surface/Highest */\n",
       "  color: var(--tertiary-color);\n",
       "  border: none;\n",
       "  /* Inside auto layout */\n",
       "  flex: none;\n",
       "  order: 0;\n",
       "  flex-grow: 0;\n",
       "}\n",
       "\n",
       ".search-input:focus {\n",
       "  outline: none;\n",
       "}\n",
       "\n",
       ".search-input:focus::placeholder,\n",
       ".search-input::placeholder {\n",
       "  /* Chrome, Firefox, Opera, Safari 10.1+ */\n",
       "  color: var(--tertiary-color);\n",
       "  opacity: 1;\n",
       "  /* Firefox */\n",
       "}\n",
       "\n",
       ".search-button {\n",
       "  /* Search */\n",
       "  leading-trim: both;\n",
       "  text-edge: cap;\n",
       "  display: flex;\n",
       "  align-items: center;\n",
       "  text-align: center;\n",
       "\n",
       "  /* Primary/On Light */\n",
       "  background-color: var(--button-color);\n",
       "  color: var(--tertiary-color);\n",
       "\n",
       "  border-radius: 30px;\n",
       "  border-color: var(--secondary-color);\n",
       "  border-style: solid;\n",
       "  box-shadow:\n",
       "    rgba(60, 64, 67, 0.3) 0px 1px 2px 0px,\n",
       "    rgba(60, 64, 67, 0.15) 0px 1px 3px 1px;\n",
       "  cursor: pointer;\n",
       "  /* Inside auto layout */\n",
       "  flex: none;\n",
       "  order: 1;\n",
       "  flex-grow: 0;\n",
       "}\n",
       "\n",
       ".grid-index-cells {\n",
       "  grid-column: span 1;\n",
       "  /* tmp fix to make left col stand out (fix with font-family) */\n",
       "  font-weight: 600;\n",
       "  background-color: var(--secondary-color) !important;\n",
       "  color: var(--tertiary-color);\n",
       "}\n",
       "\n",
       ".center-content-cell {\n",
       "  margin: auto;\n",
       "}\n",
       "\n",
       ".grid-header {\n",
       "  /* Auto layout */\n",
       "  display: flex;\n",
       "  flex-direction: column;\n",
       "  align-items: center;\n",
       "  padding: 6px 4px;\n",
       "\n",
       "  resize: horizontal;\n",
       "  /* Lt On Surface/Surface */\n",
       "  /* Lt On Surface/High */\n",
       "  border: 1px solid #cfcdd6;\n",
       "  /* tmp fix to make header stand out (fix with font-family) */\n",
       "  font-weight: 600;\n",
       "  background-color: var(--secondary-color);\n",
       "  color: var(--tertiary-color);\n",
       "}\n",
       "\n",
       ".grid-row {\n",
       "  display: flex;\n",
       "  flex-direction: column;\n",
       "  align-items: flex-start;\n",
       "  padding: 6px 4px;\n",
       "  overflow: hidden;\n",
       "  border: 1px solid #cfcdd6;\n",
       "  background-color: var(--primary-color);\n",
       "  color: var(--tertiary-color);\n",
       "}\n",
       "\n",
       ".syncstate-col-footer {\n",
       "  font-family: \"DejaVu Sans Mono\", \"Open Sans\";\n",
       "  font-size: 12px;\n",
       "  font-weight: 400;\n",
       "  line-height: 16.8px;\n",
       "  text-align: left;\n",
       "  color: #5e5a72;\n",
       "}\n",
       "\n",
       ".syncstate-description {\n",
       "  font-family: Open Sans;\n",
       "  font-size: 14px;\n",
       "  font-weight: 600;\n",
       "  line-height: 19.6px;\n",
       "  text-align: left;\n",
       "  white-space: nowrap;\n",
       "  flex-grow: 1;\n",
       "}\n",
       "\n",
       ".widget-header2 {\n",
       "  display: flex;\n",
       "  gap: 8px;\n",
       "  justify-content: start;\n",
       "  width: 100%;\n",
       "  overflow: hidden;\n",
       "  align-items: center;\n",
       "}\n",
       "\n",
       ".widget-header2-2 {\n",
       "  display: flex;\n",
       "  gap: 8px;\n",
       "  justify-content: start;\n",
       "  align-items: center;\n",
       "}\n",
       "\n",
       ".jobs-title {\n",
       "  font-family:\n",
       "    Open Sans,\n",
       "    sans-serif;\n",
       "  font-size: 18px;\n",
       "  font-weight: 600;\n",
       "  line-height: 25.2px;\n",
       "  text-align: left;\n",
       "  color: #1f567a;\n",
       "}\n",
       "\n",
       ".diff-state-orange-text {\n",
       "  color: #b8520a;\n",
       "}\n",
       "\n",
       ".diff-state-no-obj {\n",
       "  font-family: \"DejaVu Sans Mono\", \"Open Sans\";\n",
       "  font-size: 12px;\n",
       "  font-weight: 400;\n",
       "  line-height: 16.8px;\n",
       "  text-align: left;\n",
       "  color: #5e5a72;\n",
       "}\n",
       "\n",
       ".diff-state-intro {\n",
       "  font-family: Open Sans;\n",
       "  font-size: 14px;\n",
       "  font-weight: 400;\n",
       "  line-height: 19.6px;\n",
       "  text-align: left;\n",
       "  color: #b4b0bf;\n",
       "}\n",
       "\n",
       ".diff-state-header {\n",
       "  font-family: Open Sans;\n",
       "  font-size: 22px;\n",
       "  font-weight: 600;\n",
       "  line-height: 30.8px;\n",
       "  text-align: left;\n",
       "  color: #353243;\n",
       "  display: flex;\n",
       "  gap: 8px;\n",
       "}\n",
       "\n",
       ".diff-state-sub-header {\n",
       "  font-family: Open Sans;\n",
       "  font-size: 14px;\n",
       "  font-weight: 400;\n",
       "  line-height: 19.6px;\n",
       "  text-align: left;\n",
       "  color: #5e5a72;\n",
       "}\n",
       "\n",
       ".badge {\n",
       "  /* code-text; */\n",
       "  border-radius: 30px;\n",
       "  padding: 6px;\n",
       "  white-space: nowrap;\n",
       "  overflow: hidden;\n",
       "  line-height: 1.2;\n",
       "  font-family: monospace;\n",
       "}\n",
       "\n",
       ".label {\n",
       "  /* code-text; */\n",
       "  border-radius: 4px;\n",
       "  padding: 6px 4px;\n",
       "  white-space: nowrap;\n",
       "  overflow: hidden;\n",
       "  line-height: 1.2;\n",
       "  font-family: monospace;\n",
       "}\n",
       "\n",
       ".label-light-purple {\n",
       "  /* label; */\n",
       "  background-color: #c9cfe8;\n",
       "  color: #373b7b;\n",
       "}\n",
       "\n",
       ".label-light-blue {\n",
       "  /* label; */\n",
       "  background-color: #c2def0;\n",
       "  color: #1f567a;\n",
       "}\n",
       "\n",
       ".label-orange {\n",
       "  /* badge; */\n",
       "  background-color: #fee9cd;\n",
       "  color: #b8520a;\n",
       "}\n",
       "\n",
       ".label-gray {\n",
       "  /* badge; */\n",
       "  background-color: #ecebef;\n",
       "  color: #353243;\n",
       "}\n",
       "\n",
       ".label-green {\n",
       "  /* badge; */\n",
       "  background-color: #d5f1d5;\n",
       "  color: #256b24;\n",
       "}\n",
       "\n",
       ".label-red {\n",
       "  /* label; */\n",
       "  background-color: #f2d9de;\n",
       "  color: #9b2737;\n",
       "}\n",
       "\n",
       ".badge-blue {\n",
       "  /* badge; */\n",
       "  background-color: #c2def0;\n",
       "  color: #1f567a;\n",
       "}\n",
       "\n",
       ".badge-purple {\n",
       "  /* badge; */\n",
       "  background-color: #c9cfe8;\n",
       "  color: #373b7b;\n",
       "}\n",
       "\n",
       ".badge-green {\n",
       "  background-color: #d5f1d5;\n",
       "  color: #256b24;\n",
       "}\n",
       "\n",
       ".badge-red {\n",
       "  /* badge; */\n",
       "  background-color: #f2d9de;\n",
       "  color: #9b2737;\n",
       "}\n",
       "\n",
       ".badge-gray {\n",
       "  /* badge; */\n",
       "  background-color: #ecebef;\n",
       "  color: #2e2b3b;\n",
       "}\n",
       "\n",
       ".paginationContainer {\n",
       "  width: 100%;\n",
       "  /*height: 30px;*/\n",
       "  display: flex;\n",
       "  justify-content: center;\n",
       "  gap: 8px;\n",
       "  padding: 5px;\n",
       "  color: var(--tertiary-color);\n",
       "}\n",
       "\n",
       ".widget-label-basic {\n",
       "  display: flex;\n",
       "}\n",
       "\n",
       ".widget-label-basic input[type=\"checkbox\"][disabled] {\n",
       "  filter: sepia(0.3) hue-rotate(67deg) saturate(3);\n",
       "}\n",
       "\n",
       ".page {\n",
       "  color: black;\n",
       "  font-weight: bold;\n",
       "  color: var(--tertiary-color);\n",
       "}\n",
       "\n",
       ".page:hover {\n",
       "  color: #38bdf8;\n",
       "  cursor: pointer;\n",
       "}\n",
       "\n",
       ".clipboard:hover {\n",
       "  cursor: pointer;\n",
       "  color: var(--tertiary-color);\n",
       "}\n",
       "\n",
       ".rendered_html tbody tr:nth-child(odd) {\n",
       "  background: transparent;\n",
       "}\n",
       "\n",
       ".search-field {\n",
       "  display: flex;\n",
       "  align-items: center;\n",
       "  border-radius: 30px;\n",
       "  background-color: var(--secondary-color);\n",
       "}\n",
       "\n",
       ".syft-dropdown {\n",
       "  margin: 5px;\n",
       "  margin-left: 5px;\n",
       "  position: relative;\n",
       "  display: inline-block;\n",
       "  text-align: center;\n",
       "  background-color: var(--button-color);\n",
       "  min-width: 100px;\n",
       "  padding: 2px;\n",
       "  border-radius: 30px;\n",
       "}\n",
       "\n",
       ".syft-dropdown:hover {\n",
       "  cursor: pointer;\n",
       "}\n",
       "\n",
       ".syft-dropdown-content {\n",
       "  margin-top: 26px;\n",
       "  display: none;\n",
       "  position: absolute;\n",
       "  min-width: 100px;\n",
       "  box-shadow: 0px 8px 16px 0px rgba(0, 0, 0, 0.2);\n",
       "  padding: 12px 6px;\n",
       "  z-index: 1;\n",
       "  background-color: var(--primary-color);\n",
       "  color: var(--tertiary-color);\n",
       "}\n",
       "\n",
       ".dd-options {\n",
       "  padding-top: 4px;\n",
       "}\n",
       "\n",
       ".dd-options:first-of-type {\n",
       "  padding-top: 0px;\n",
       "}\n",
       "\n",
       ".dd-options:hover {\n",
       "  cursor: pointer;\n",
       "  background: #d1d5db;\n",
       "}\n",
       "\n",
       ".arrow {\n",
       "  border: solid black;\n",
       "  border-width: 0 3px 3px 0;\n",
       "  display: inline-block;\n",
       "  padding: 3px;\n",
       "}\n",
       "\n",
       ".down {\n",
       "  transform: rotate(45deg);\n",
       "  -webkit-transform: rotate(45deg);\n",
       "}\n",
       "\n",
       ".syft-widget ul {\n",
       "  list-style-type: none;\n",
       "  margin: 0;\n",
       "  padding: 0;\n",
       "  overflow: hidden;\n",
       "}\n",
       "\n",
       ".syft-widget li {\n",
       "  float: left;\n",
       "  border-bottom: solid;\n",
       "  border-bottom-color: #cfcdd6;\n",
       "}\n",
       "\n",
       ".syft-widget li a {\n",
       "  display: block;\n",
       "  text-align: center;\n",
       "  padding: 14px 16px;\n",
       "  color: #cfcdd6;\n",
       "}\n",
       "\n",
       ".log-tab-header {\n",
       "  border-bottom: solid 2px #ecebef;\n",
       "  padding: 4px 16px;\n",
       "}\n",
       "\n",
       ".active-border {\n",
       "  border-bottom: solid 2px #1f567a;\n",
       "  font-weight: 700;\n",
       "}\n",
       "\n",
       ".active {\n",
       "  color: #1f567a;\n",
       "}\n",
       "\n",
       ".syft-widget li a:hover {\n",
       "  background-color: #c2def0;\n",
       "}\n",
       "\n",
       ".syft-user_code,\n",
       ".syft-project,\n",
       ".syft-project-create,\n",
       ".syft-settings,\n",
       ".syft-dataset,\n",
       ".syft-asset,\n",
       ".syft-contributor,\n",
       ".syft-request,\n",
       ".syft-syncstate,\n",
       ".job-info {\n",
       "  color: var(--surface-color);\n",
       "}\n",
       "\n",
       ".syft-dataset h1,\n",
       ".syft-dataset h2,\n",
       ".syft-dataset h3,\n",
       ".syft-dataset p,\n",
       ".syft-asset h3,\n",
       ".syft-asset p,\n",
       ".syft-syncstate h3,\n",
       ".syft-syncstate p {\n",
       "  font-family: \"Open Sans\";\n",
       "}\n",
       "\n",
       ".diff-container {\n",
       "  border: 0.5px solid #b4b0bf;\n",
       "}\n",
       "\n",
       ".syft-container {\n",
       "  padding: 5px;\n",
       "  font-family: \"Open Sans\";\n",
       "}\n",
       "\n",
       ".syft-alert-info {\n",
       "  color: #1f567a;\n",
       "  background-color: #c2def0;\n",
       "  border-radius: 4px;\n",
       "  padding: 5px;\n",
       "  padding: 13px 10px;\n",
       "}\n",
       "\n",
       ".syft-code-block {\n",
       "  background-color: #f7f7f7;\n",
       "  border: 1px solid #cfcfcf;\n",
       "  padding: 0px 2px;\n",
       "}\n",
       "\n",
       ".syft-space {\n",
       "  margin-top: 1em;\n",
       "}\n",
       "\n",
       "</style>\n",
       "\n",
       "<style>\n",
       ".syft-alert-container {\n",
       "    padding: 4px;\n",
       "    display: flex;\n",
       "    justify-content: center;\n",
       "}\n",
       "\n",
       ".syft-alert-info {\n",
       "    display: flex;\n",
       "    align-items: center;\n",
       "    width: 100%;\n",
       "    padding: 8px 10px;\n",
       "    gap: 8px;\n",
       "    border-radius: 4px;\n",
       "    background: #C2DEF0;\n",
       "    color: #1F567A;\n",
       "    line-height: 1.4;\n",
       "    font-size: 12px;\n",
       "    font-family: 'Open Sans';\n",
       "}\n",
       "</style>\n",
       "<style>\n",
       ".copy-container {\n",
       "  cursor: pointer;\n",
       "  border-radius: 3px;\n",
       "  padding: 0px 3px;\n",
       "  display: inline-block;\n",
       "  transition: background-color 0.3s;\n",
       "  user-select: none;\n",
       "  color: #B4B0BF;\n",
       "  overflow: hidden;\n",
       "  white-space: nowrap;\n",
       "  vertical-align: middle;\n",
       "}\n",
       "\n",
       ".copy-container:hover {\n",
       "  background-color: #f5f5f5;\n",
       "}\n",
       "\n",
       ".copy-container:active {\n",
       "  background-color: #ebebeb;\n",
       "}\n",
       "\n",
       ".copy-text-display {\n",
       "  display: inline-block;\n",
       "  max-width: 50px;\n",
       "  white-space: nowrap;\n",
       "  overflow: hidden;\n",
       "  text-overflow: ellipsis;\n",
       "  vertical-align: bottom;\n",
       "}\n",
       "</style>\n",
       " \n",
       "            \n",
       "            <div class=\"syft-settings\">\n",
       "                <h3>Settings</h3>\n",
       "                <p><strong>Id: </strong>2baa8fe9deb94b6ead87ea7be4cb230e</p>\n",
       "                <p><strong>Name: </strong>test-datasite-1</p>\n",
       "                <p><strong>Organization: </strong>OpenMined</p>\n",
       "                <p><strong>Description: </strong>This is the default description for a Datasite Server.</p>\n",
       "                <p><strong>Deployed on: </strong>07/15/2024</p>\n",
       "                <p><strong>Signup enabled: </strong>False</p>\n",
       "                <p><strong>Notifications enabled: </strong>True via email</p>\n",
       "                <p><strong>Admin email: </strong>info@openmined.org</p>\n",
       "            </div>\n",
       "\n",
       "             "
      ],
      "text/markdown": [
       "```python\n",
       "class ServerSettings:\n",
       "  id: str = 2baa8fe9deb94b6ead87ea7be4cb230e\n",
       "  name: str = \"test-datasite-1\"\n",
       "  organization: str = \"OpenMined\"\n",
       "  description: str = \"This is the default description for a Datasite Server.\"\n",
       "  deployed_on: str = \"07/15/2024\"\n",
       "  signup_enabled: str = False\n",
       "  admin_email: str = \"info@openmined.org\"\n",
       "\n",
       "```"
      ],
      "text/plain": [
       "syft.service.settings.settings.ServerSettings"
      ]
     },
     "execution_count": 18,
     "metadata": {},
     "output_type": "execute_result"
    }
   ],
   "source": [
    "s"
   ]
  },
  {
   "cell_type": "code",
   "execution_count": 20,
   "id": "f81fd6f7-6e61-48d6-bf0c-e22718a109fb",
   "metadata": {},
   "outputs": [
    {
     "data": {
      "text/html": [
       "<div class=\"alert-danger\" style=\"padding:5px;\"><strong>SyftError</strong>: <pre class=\"alert-danger\" style=\"display:inline; font-family:inherit;\">Arg is `SyftError: Duplication Key Error for syft.service.settings.settings.ServerSettings.\n",
       "The fields that should be unique are `id`.`. \n",
       "It must be of type `ServerSettings`, not `SyftError`</pre></div><br/>"
      ],
      "text/plain": [
       "SyftError: Arg is `SyftError: Duplication Key Error for syft.service.settings.settings.ServerSettings.\n",
       "The fields that should be unique are `id`.`. \n",
       "It must be of type `ServerSettings`, not `SyftError`"
      ]
     },
     "execution_count": 20,
     "metadata": {},
     "output_type": "execute_result"
    }
   ],
   "source": [
    "client.api.services.settings.set(s)"
   ]
  },
  {
   "cell_type": "code",
   "execution_count": 42,
   "id": "0ad33f86-3576-4dd7-9cac-5ccf7fefb943",
   "metadata": {},
   "outputs": [
    {
     "data": {
      "text/html": [
       "<div class=\"alert-success\" style=\"padding:5px;\"><strong>SyftSuccess</strong>: <pre class=\"alert-success\" style=\"display:inline; font-family:inherit;\">Settings updated successfully. You must call .refresh() to sync your client with the changes.</pre></div><br/>"
      ],
      "text/plain": [
       "SyftSuccess: Settings updated successfully. You must call <client>.refresh() to sync your client with the changes."
      ]
     },
     "execution_count": 42,
     "metadata": {},
     "output_type": "execute_result"
    }
   ],
   "source": [
    "client.api.services.settings.update(\n",
    "    name=\"a\",\n",
    "    organization=\"b\",\n",
    "    description=\"c\",\n",
    "    admin_email=\"info2@openmined.org\",\n",
    "    association_request_auto_approval=True,\n",
    "    eager_execution_enabled=False,\n",
    ")"
   ]
  },
  {
   "cell_type": "code",
   "execution_count": 46,
   "id": "82eac269-4f51-45a8-8480-8a2e3a382862",
   "metadata": {},
   "outputs": [],
   "source": [
    "md = \"\"\"\n",
    "    An h1 header\n",
    "============\n",
    "\n",
    "Paragraphs are separated by a blank line.\n",
    "\n",
    "2nd paragraph. *Italic*, **bold**, and `monospace`. Itemized lists\n",
    "look like:\n",
    "\n",
    "  * this one\n",
    "  * that one\n",
    "  * the other one\n",
    "\n",
    "Note that --- not considering the asterisk --- the actual text\n",
    "content starts at 4-columns in.\n",
    "\n",
    "> Block quotes are\n",
    "> written like so.\n",
    ">\n",
    "> They can span multiple paragraphs,\n",
    "> if you like.\n",
    "\n",
    "Use 3 dashes for an em-dash. Use 2 dashes for ranges (ex., \"it's all\n",
    "in chapters 12--14\"). Three dots ... will be converted to an ellipsis.\n",
    "Unicode is supported. ☺\n",
    "\"\"\""
   ]
  },
  {
   "cell_type": "code",
   "execution_count": 49,
   "id": "8389d1a4-027e-4282-ad91-274c34e0011c",
   "metadata": {},
   "outputs": [
    {
     "data": {
      "text/html": [
       "\n",
       "        <style>\n",
       "            .jp-RenderedHTMLCommon pre {\n",
       "                background-color: #282c34 !important;\n",
       "                padding: 10px 10px 10px;\n",
       "            }\n",
       "            .jp-RenderedHTMLCommon pre code {\n",
       "                background-color: #282c34 !important;  /* Set the background color for the text in the code block */\n",
       "                color: #abb2bf !important;  /* Set text color */\n",
       "            }\n",
       "        </style>\n",
       "        "
      ],
      "text/plain": [
       "<IPython.core.display.HTML object>"
      ]
     },
     "metadata": {},
     "output_type": "display_data"
    },
    {
     "data": {
      "text/markdown": [
       "\n",
       "    An h1 header\n",
       "============\n",
       "\n",
       "Paragraphs are separated by a blank line.\n",
       "\n",
       "2nd paragraph. *Italic*, **bold**, and `monospace`. Itemized lists\n",
       "look like:\n",
       "\n",
       "  * this one\n",
       "  * that one\n",
       "  * the other one\n",
       "\n",
       "Note that --- not considering the asterisk --- the actual text\n",
       "content starts at 4-columns in.\n",
       "\n",
       "&gt; Block quotes are\n",
       "&gt; written like so.\n",
       "&gt;\n",
       "&gt; They can span multiple paragraphs,\n",
       "&gt; if you like.\n",
       "\n",
       "Use 3 dashes for an em-dash. Use 2 dashes for ranges (ex., \"it's all\n",
       "in chapters 12--14\"). Three dots ... will be converted to an ellipsis.\n",
       "Unicode is supported. ☺\n"
      ],
      "text/plain": [
       "syft.util.misc_objs.MarkdownDescription"
      ]
     },
     "execution_count": 49,
     "metadata": {},
     "output_type": "execute_result"
    }
   ],
   "source": [
    "client.api.services.settings.welcome_preview(markdown=md)"
   ]
  },
  {
   "cell_type": "code",
   "execution_count": 53,
   "id": "53d16bdf-bcfa-4ca5-8b98-5124f480e81b",
   "metadata": {},
   "outputs": [
    {
     "data": {
      "text/html": [
       "<div class=\"alert-success\" style=\"padding:5px;\"><strong>SyftSuccess</strong>: <pre class=\"alert-success\" style=\"display:inline; font-family:inherit;\">Welcome Markdown was successfully updated!</pre></div><br/>"
      ],
      "text/plain": [
       "SyftSuccess: Welcome Markdown was successfully updated!"
      ]
     },
     "execution_count": 53,
     "metadata": {},
     "output_type": "execute_result"
    }
   ],
   "source": [
    "client.api.services.settings.welcome_customize(markdown=md)"
   ]
  },
  {
   "cell_type": "code",
   "execution_count": 54,
   "id": "d267ccf1-9cb0-4b02-80fe-2608d6c55549",
   "metadata": {},
   "outputs": [
    {
     "data": {
      "text/html": [
       "\n",
       "        <style>\n",
       "            .jp-RenderedHTMLCommon pre {\n",
       "                background-color: #282c34 !important;\n",
       "                padding: 10px 10px 10px;\n",
       "            }\n",
       "            .jp-RenderedHTMLCommon pre code {\n",
       "                background-color: #282c34 !important;  /* Set the background color for the text in the code block */\n",
       "                color: #abb2bf !important;  /* Set text color */\n",
       "            }\n",
       "        </style>\n",
       "        "
      ],
      "text/plain": [
       "<IPython.core.display.HTML object>"
      ]
     },
     "metadata": {},
     "output_type": "display_data"
    },
    {
     "data": {
      "text/markdown": [
       "\n",
       "    An h1 header\n",
       "============\n",
       "\n",
       "Paragraphs are separated by a blank line.\n",
       "\n",
       "2nd paragraph. *Italic*, **bold**, and `monospace`. Itemized lists\n",
       "look like:\n",
       "\n",
       "  * this one\n",
       "  * that one\n",
       "  * the other one\n",
       "\n",
       "Note that --- not considering the asterisk --- the actual text\n",
       "content starts at 4-columns in.\n",
       "\n",
       "&gt; Block quotes are\n",
       "&gt; written like so.\n",
       "&gt;\n",
       "&gt; They can span multiple paragraphs,\n",
       "&gt; if you like.\n",
       "\n",
       "Use 3 dashes for an em-dash. Use 2 dashes for ranges (ex., \"it's all\n",
       "in chapters 12--14\"). Three dots ... will be converted to an ellipsis.\n",
       "Unicode is supported. ☺\n"
      ],
      "text/plain": [
       "syft.util.misc_objs.MarkdownDescription"
      ]
     },
     "execution_count": 54,
     "metadata": {},
     "output_type": "execute_result"
    }
   ],
   "source": [
    "client.api.services.settings.welcome_show()"
   ]
  },
  {
   "cell_type": "code",
   "execution_count": 55,
   "id": "bf5318ef-0aa5-4bb5-b366-3f5fc06f00b6",
   "metadata": {},
   "outputs": [
    {
     "name": "stdout",
     "output_type": "stream",
     "text": [
      "Logged into <test-datasite-1: High-side Datasite> as GUEST\n"
     ]
    },
    {
     "data": {
      "text/html": [
       "<pre><code>An h1 header\n",
       "</code></pre>\n",
       "<p>============</p>\n",
       "<p>Paragraphs are separated by a blank line.</p>\n",
       "<p>2nd paragraph. <em>Italic</em>, <strong>bold</strong>, and <code>monospace</code>. Itemized lists\n",
       "look like:</p>\n",
       "<ul>\n",
       "<li>this one</li>\n",
       "<li>that one</li>\n",
       "<li>the other one</li>\n",
       "</ul>\n",
       "<p>Note that --- not considering the asterisk --- the actual text\n",
       "content starts at 4-columns in.</p>\n",
       "<blockquote>\n",
       "<p>Block quotes are\n",
       "written like so.</p>\n",
       "<p>They can span multiple paragraphs,\n",
       "if you like.</p>\n",
       "</blockquote>\n",
       "<p>Use 3 dashes for an em-dash. Use 2 dashes for ranges (ex., \"it's all\n",
       "in chapters 12--14\"). Three dots ... will be converted to an ellipsis.\n",
       "Unicode is supported. ☺</p>"
      ],
      "text/plain": [
       "<DatasiteClient: test-datasite-1>"
      ]
     },
     "execution_count": 55,
     "metadata": {},
     "output_type": "execute_result"
    }
   ],
   "source": [
    "guest_client = client.login_as_guest()\n",
    "guest_client"
   ]
  },
  {
   "cell_type": "code",
   "execution_count": 56,
   "id": "1abfe0af-9566-4f78-892e-0b7397ec081c",
   "metadata": {},
   "outputs": [
    {
     "data": {
      "text/html": [
       "<div class=\"alert-danger\" style=\"padding:5px;\"><strong>SyftError</strong>: <pre class=\"alert-danger\" style=\"display:inline; font-family:inherit;\">You don't have permission to create an account on the datasite: a. Please contact the Datasite Owner.</pre></div><br/>"
      ],
      "text/plain": [
       "SyftError: You don't have permission to create an account on the datasite: a. Please contact the Datasite Owner."
      ]
     },
     "execution_count": 56,
     "metadata": {},
     "output_type": "execute_result"
    }
   ],
   "source": [
    "guest_client.register(name=\"a\", email=\"a@b.com\", password=\"c\", password_verify=\"c\")"
   ]
  },
  {
   "cell_type": "code",
   "execution_count": 58,
   "id": "a19d34bd-0033-4c90-9ef7-c88fe4d87dad",
   "metadata": {},
   "outputs": [
    {
     "data": {
      "text/html": [
       "<div class=\"alert-success\" style=\"padding:5px;\"><strong>SyftSuccess</strong>: <pre class=\"alert-success\" style=\"display:inline; font-family:inherit;\">Registration feature successfully enabled</pre></div><br/>"
      ],
      "text/plain": [
       "SyftSuccess: Registration feature successfully enabled"
      ]
     },
     "execution_count": 58,
     "metadata": {},
     "output_type": "execute_result"
    }
   ],
   "source": [
    "client.api.services.settings.allow_guest_signup(enable=True)"
   ]
  },
  {
   "cell_type": "code",
   "execution_count": 59,
   "id": "bd7e84e7-8bd5-42cc-b5d0-86efbd6a56eb",
   "metadata": {},
   "outputs": [
    {
     "data": {
      "text/html": [
       "<div class=\"alert-success\" style=\"padding:5px;\"><strong>SyftSuccess</strong>: <pre class=\"alert-success\" style=\"display:inline; font-family:inherit;\">User 'a' successfully registered!</pre></div><br/>"
      ],
      "text/plain": [
       "SyftSuccess: User 'a' successfully registered!"
      ]
     },
     "execution_count": 59,
     "metadata": {},
     "output_type": "execute_result"
    }
   ],
   "source": [
    "guest_client.register(name=\"a\", email=\"a@b.com\", password=\"c\", password_verify=\"c\")"
   ]
  },
  {
   "cell_type": "code",
   "execution_count": 60,
   "id": "1270cfa4-c771-4e79-8744-6a8276db153d",
   "metadata": {},
   "outputs": [
    {
     "name": "stdout",
     "output_type": "stream",
     "text": [
      "Logged into <a: High side Datasite> as <a@b.com>\n"
     ]
    },
    {
     "data": {
      "text/html": [
       "<pre><code>An h1 header\n",
       "</code></pre>\n",
       "<p>============</p>\n",
       "<p>Paragraphs are separated by a blank line.</p>\n",
       "<p>2nd paragraph. <em>Italic</em>, <strong>bold</strong>, and <code>monospace</code>. Itemized lists\n",
       "look like:</p>\n",
       "<ul>\n",
       "<li>this one</li>\n",
       "<li>that one</li>\n",
       "<li>the other one</li>\n",
       "</ul>\n",
       "<p>Note that --- not considering the asterisk --- the actual text\n",
       "content starts at 4-columns in.</p>\n",
       "<blockquote>\n",
       "<p>Block quotes are\n",
       "written like so.</p>\n",
       "<p>They can span multiple paragraphs,\n",
       "if you like.</p>\n",
       "</blockquote>\n",
       "<p>Use 3 dashes for an em-dash. Use 2 dashes for ranges (ex., \"it's all\n",
       "in chapters 12--14\"). Three dots ... will be converted to an ellipsis.\n",
       "Unicode is supported. ☺</p>"
      ],
      "text/plain": [
       "<DatasiteClient: a>"
      ]
     },
     "execution_count": 60,
     "metadata": {},
     "output_type": "execute_result"
    }
   ],
   "source": [
    "guest_client.login(email=\"a@b.com\", password=\"c\")"
   ]
  },
  {
   "cell_type": "code",
   "execution_count": 61,
   "id": "d8453c72-6095-44c5-82aa-6f11bb71599e",
   "metadata": {},
   "outputs": [
    {
     "name": "stdout",
     "output_type": "stream",
     "text": [
      "Stopping test-datasite-1\n"
     ]
    }
   ],
   "source": [
    "server.land()"
   ]
  },
  {
   "cell_type": "code",
   "execution_count": null,
   "id": "b3571ba3-709a-4d5b-8e8e-346bf840a19e",
   "metadata": {},
   "outputs": [],
   "source": []
  }
 ],
 "metadata": {
  "kernelspec": {
   "display_name": "Python 3 (ipykernel)",
   "language": "python",
   "name": "python3"
  },
  "language_info": {
   "codemirror_mode": {
    "name": "ipython",
    "version": 3
   },
   "file_extension": ".py",
   "mimetype": "text/x-python",
   "name": "python",
   "nbconvert_exporter": "python",
   "pygments_lexer": "ipython3",
   "version": "3.11.5"
  }
 },
 "nbformat": 4,
 "nbformat_minor": 5
}

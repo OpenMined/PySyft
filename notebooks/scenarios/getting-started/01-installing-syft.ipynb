{
 "cells": [
  {
   "cell_type": "markdown",
   "id": "0",
   "metadata": {},
   "source": [
    "# Quick Install Guide"
   ]
  },
  {
   "cell_type": "markdown",
   "id": "1",
   "metadata": {},
   "source": [
    "Before you can use PySyft, you will need to get it installed. The documentation features a **full** [installation guide](XXX_LINK_XXX) that covers all the possibilites to install and deploy PySyft on serves, and in production environments. \n",
    "\n",
    "This section will guide you to a minima installation _that will work_ while you walk through the introduction, and the [Getting Started](XX_LINK_XX) tutorial."
   ]
  },
  {
   "cell_type": "markdown",
   "id": "2",
   "metadata": {},
   "source": [
    "## Install PySyft"
   ]
  },
  {
   "cell_type": "markdown",
   "id": "3",
   "metadata": {},
   "source": [
    "The PySyft package has a lots of dependencies, in order to provide a software that would immediately work, and to lower the barriers of installation and deployment to get started. \n",
    "\n",
    "For this reason, before installing PySyft, it is highly recommended to create a Python virtual environment. in order to isolate the PySyft installation from any other libraries, or data science environments you may already have."
   ]
  },
  {
   "cell_type": "markdown",
   "id": "4",
   "metadata": {},
   "source": [
    "### Create a Virtual Environment"
   ]
  },
  {
   "cell_type": "markdown",
   "id": "5",
   "metadata": {},
   "source": [
    "There are many ways in which you can create a virtual environment in Python, and any way you may be already using to manage your virtual environments is equally valid and appropriate.\n",
    "\n",
    "In this guide, we will show how to quickly create a new Python virtual environment using the [`venv`](https://docs.python.org/3/library/venv.html) module included in the Python Standard library. Each virtual environment will have their own independent set of Python packages installed in their site directories."
   ]
  },
  {
   "cell_type": "markdown",
   "id": "6",
   "metadata": {},
   "source": [
    "> **Note**: The module supports creating lightweight “virtual environments”, that is a virtual environment created on top of an existing Python installation. In other words, you need to have version of Python already installed on your computer in order to create this virtual environment."
   ]
  },
  {
   "cell_type": "markdown",
   "id": "7",
   "metadata": {},
   "source": [
    "To create a new environment, it is necessary to execute the command `venv`:\n",
    "\n",
    "```bash\n",
    "$ python -m venv /path/to/new/virtual/environment\n",
    "```\n",
    "\n",
    "> The `$` symbol in the command is just a placeholder to represent a generic Terminal prompt in Linux/Unix operating systems.\n",
    "> \n",
    "> **Windows users**: If you are using Windows, the above command will not work. The equivalent version of the same command in Windows PowerShell would be:\n",
    ">\n",
    "> ```powershell\n",
    "> PS > python -m venv \\path\\to\\new\\virtual\\environment\\\n",
    "> ```"
   ]
  },
  {
   "cell_type": "markdown",
   "id": "8",
   "metadata": {},
   "source": [
    "This will create a new folder, where the virtual environment resides. \n",
    "To start using the new virtual environment it is necessary to **activate** it. We can activate the new environment by executing a shell script that comes with the installation.\n",
    "\n",
    "```bash\n",
    "$ source /path/to/new/virtual/environment/bin/activate\n",
    "```\n",
    "\n",
    "Once activated, the prompt in your current shell should change by including the name of your environment. \n",
    "\n",
    "> **Windows users**:\n",
    ">\n",
    "> ```powershell\n",
    "> PS > \\path\\to\\new\\virtual\\environment\\Scripts\\activate\n",
    "> ```"
   ]
  },
  {
   "cell_type": "markdown",
   "id": "9",
   "metadata": {},
   "source": [
    "Once activate, we are good to go and to proceed with the installation of PySyft."
   ]
  },
  {
   "cell_type": "markdown",
   "id": "10",
   "metadata": {},
   "source": [
    "## Installing PySyft"
   ]
  },
  {
   "cell_type": "markdown",
   "id": "11",
   "metadata": {},
   "source": [
    "Installing PySyft is very simple, and it can be installed using `pip`: \n",
    "\n",
    "```bash\n",
    "$ pip install syft\n",
    "```"
   ]
  },
  {
   "cell_type": "markdown",
   "id": "12",
   "metadata": {},
   "source": [
    "This will download the `syft` package, along with all its dependencies."
   ]
  },
  {
   "cell_type": "markdown",
   "id": "13",
   "metadata": {},
   "source": [
    "To verify that PySyft has been correctly installed, and that it can be found in the path of Python packages, type **python** from your shell. \n",
    "\n",
    "> Please make sure that you are still using the previously activate virtual environment, where PySyft has been installed.\n",
    "\n",
    "Then, at the Python prompt, try to import PySyft: "
   ]
  },
  {
   "cell_type": "code",
   "execution_count": null,
   "id": "14",
   "metadata": {},
   "outputs": [],
   "source": [
    "# syft absolute\n",
    "import syft as sy\n",
    "\n",
    "print(sy.__version__)"
   ]
  },
  {
   "cell_type": "code",
   "execution_count": null,
   "id": "15",
   "metadata": {},
   "outputs": [],
   "source": []
  }
 ],
 "metadata": {
  "kernelspec": {
   "display_name": "Python 3 (ipykernel)",
   "language": "python",
   "name": "python3"
  },
  "language_info": {
   "codemirror_mode": {
    "name": "ipython",
    "version": 3
   },
   "file_extension": ".py",
   "mimetype": "text/x-python",
   "name": "python",
   "nbconvert_exporter": "python",
   "pygments_lexer": "ipython3",
   "version": "3.11.5"
  }
 },
 "nbformat": 4,
 "nbformat_minor": 5
}

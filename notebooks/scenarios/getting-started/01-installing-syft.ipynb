{
 "cells": [
  {
   "cell_type": "code",
   "execution_count": null,
   "id": "ccc8257a",
   "metadata": {},
   "outputs": [],
   "source": [
    "# -- pip install syft [done]\n",
    "# -- conda? (pycapnp lib bug??) [fixed?]\n",
    "# -- accessing betas ? ask Irina\n",
    "#  -- checking the version you have installed\n",
    "#  -- using the same version as the server"
   ]
  },
  {
   "cell_type": "markdown",
   "id": "0",
   "metadata": {
    "tags": []
   },
   "source": [
    "# Installing Syft Python Client\n",
    "\n",
    "Syft requires Python 3.10 - 3.12"
   ]
  },
  {
   "cell_type": "markdown",
   "id": "1",
   "metadata": {},
   "source": [
    "### Latest version\n",
    "\n",
    "`pip install syft`"
   ]
  },
  {
   "cell_type": "code",
   "execution_count": null,
   "id": "2",
   "metadata": {},
   "outputs": [],
   "source": [
    "# %pip install syft"
   ]
  },
  {
   "cell_type": "markdown",
   "id": "3",
   "metadata": {},
   "source": [
    "\n",
    "### Specific version\n",
    "\n",
    "`pip install syft==<version>`"
   ]
  },
  {
   "cell_type": "code",
   "execution_count": null,
   "id": "4",
   "metadata": {},
   "outputs": [],
   "source": [
    "# %pip install syft==0.8.5"
   ]
  },
  {
   "cell_type": "markdown",
   "id": "5",
   "metadata": {},
   "source": [
    "## Versions\n",
    "\n",
    "- 0.8.6 (Latest)\n",
    "- 0.8.7-beta.13 (Beta) - dev branch"
   ]
  },
  {
   "cell_type": "markdown",
   "id": "6",
   "metadata": {},
   "source": [
    "## Platforms\n",
    "\n"
   ]
  },
  {
   "attachments": {},
   "cell_type": "markdown",
   "id": "7",
   "metadata": {},
   "source": [
    "`Linux`, `macOS` and `Windows` are supported."
   ]
  },
  {
   "cell_type": "markdown",
   "id": "8",
   "metadata": {},
   "source": [
    "## Checking Version"
   ]
  },
  {
   "cell_type": "markdown",
   "id": "9",
   "metadata": {},
   "source": [
    "You can check the installed version of syft by calling `sy.__version__`."
   ]
  },
  {
   "cell_type": "code",
   "execution_count": null,
   "id": "10",
   "metadata": {},
   "outputs": [],
   "source": [
    "# syft absolute\n",
    "import syft as sy\n",
    "\n",
    "sy.__version__"
   ]
  },
  {
   "cell_type": "markdown",
   "id": "11",
   "metadata": {},
   "source": [
    "## Checking compatibility between client and server versions"
   ]
  },
  {
   "cell_type": "markdown",
   "id": "2dccbf4a",
   "metadata": {},
   "source": [
    "### Get the version of the client"
   ]
  },
  {
   "cell_type": "code",
   "execution_count": null,
   "id": "fe43501b",
   "metadata": {},
   "outputs": [],
   "source": [
    "client_version = sy.__version__\n",
    "client_version"
   ]
  },
  {
   "cell_type": "markdown",
   "id": "6e5d96d2",
   "metadata": {},
   "source": [
    "The common use case for checking version compatibility is for interacting with an existing server."
   ]
  },
  {
   "cell_type": "markdown",
   "id": "d470c266",
   "metadata": {},
   "source": [
    "### Connect to an existing server\n",
    "We'll need to use two pieces of information (provided by the server administrator)\n",
    "- Server's URL.\n",
    "- User credentials (email and password).\n",
    "\n",
    "\n",
    "\n"
   ]
  },
  {
   "cell_type": "code",
   "execution_count": null,
   "id": "0aafcfc4",
   "metadata": {},
   "outputs": [],
   "source": [
    "# Set the variables below to the appropriate values for your organization\n",
    "\n",
    "server_address = None  # For example: http://pysyft.myorganization.org:8888\n",
    "email = None  #\n",
    "password = None  #\n",
    "\n",
    "client = sy.login(\n",
    "    url=server_address, email=email, password=password\n",
    ")  # Create a connection to the server"
   ]
  },
  {
   "cell_type": "markdown",
   "id": "144891f7",
   "metadata": {},
   "source": [
    " ### Check if the client and server versions are compatible"
   ]
  },
  {
   "cell_type": "code",
   "execution_count": null,
   "id": "c2056de0",
   "metadata": {},
   "outputs": [],
   "source": [
    "if client.metadata.check_version(client_version):\n",
    "    print(\n",
    "        f\"Client ({client_version}) and server ({client.metadata.syft_version}) are compatible\"\n",
    "    )\n",
    "else:\n",
    "    print(\n",
    "        f\"Client ({client_version}) and server ({client.metadata.syft_version}) versions are not compatible\"\n",
    "    )"
   ]
  }
 ],
 "metadata": {
  "kernelspec": {
   "display_name": "Python 3 (ipykernel)",
   "language": "python",
   "name": "python3"
  },
  "language_info": {
   "codemirror_mode": {
    "name": "ipython",
    "version": 3
   },
   "file_extension": ".py",
   "mimetype": "text/x-python",
   "name": "python",
   "nbconvert_exporter": "python",
   "pygments_lexer": "ipython3",
   "version": "3.12.4"
  },
  "toc": {
   "base_numbering": 1,
   "nav_menu": {},
   "number_sections": true,
   "sideBar": true,
   "skip_h1_title": false,
   "title_cell": "Table of Contents",
   "title_sidebar": "Contents",
   "toc_cell": false,
   "toc_position": {},
   "toc_section_display": true,
   "toc_window_display": true
  }
 },
 "nbformat": 4,
 "nbformat_minor": 5
}

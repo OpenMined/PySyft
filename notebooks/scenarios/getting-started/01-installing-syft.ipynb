{
 "cells": [
  {
   "cell_type": "code",
   "execution_count": 2,
   "id": "1340105f-d81f-453a-8ef7-6d51453dd3ad",
   "metadata": {},
   "outputs": [],
   "source": [
    "# -- pip install syft\n",
    "# -- conda? (pycapnp lib bug??)\n",
    "# -- accessing betas\n",
    "# -- checking the version you have installed\n",
    "# -- using the same version as the server"
   ]
  },
  {
   "cell_type": "code",
   "execution_count": null,
   "id": "5ddb5738-99a2-4d93-9f14-cfa3ac06d3c9",
   "metadata": {},
   "outputs": [],
   "source": []
  }
 ],
 "metadata": {
  "kernelspec": {
   "display_name": "Python 3 (ipykernel)",
   "language": "python",
   "name": "python3"
  },
  "language_info": {
   "codemirror_mode": {
    "name": "ipython",
    "version": 3
   },
   "file_extension": ".py",
   "mimetype": "text/x-python",
   "name": "python",
   "nbconvert_exporter": "python",
   "pygments_lexer": "ipython3",
   "version": "3.12.2"
  }
 },
 "nbformat": 4,
 "nbformat_minor": 5
}

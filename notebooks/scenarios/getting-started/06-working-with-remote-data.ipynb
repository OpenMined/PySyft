{
 "cells": [
  {
   "cell_type": "code",
   "execution_count": null,
   "id": "bc1a03b7-05d5-41bb-bc9e-0361769d5c7e",
   "metadata": {},
   "outputs": [],
   "source": [
    "# -- browsing datasets\n",
    "# -- getting a pointer\n",
    "# -- mock vs private\n",
    "# -- Pointer UIDs\n",
    "# -- choosing an input policy\n",
    "# -- choosing an output policy\n",
    "# -- using the syft function decorator\n",
    "# -- testing code locally\n",
    "# -- submitting code for approval\n",
    "# -- code is denied\n",
    "# -- changing code and re-uploading a new version"
   ]
  },
  {
   "cell_type": "code",
   "execution_count": null,
   "id": "37adcb64-bf59-4a3f-9eab-31814fd1c675",
   "metadata": {},
   "outputs": [],
   "source": []
  }
 ],
 "metadata": {
  "kernelspec": {
   "display_name": "Python 3 (ipykernel)",
   "language": "python",
   "name": "python3"
  },
  "language_info": {
   "codemirror_mode": {
    "name": "ipython",
    "version": 3
   },
   "file_extension": ".py",
   "mimetype": "text/x-python",
   "name": "python",
   "nbconvert_exporter": "python",
   "pygments_lexer": "ipython3",
   "version": "3.12.2"
  }
 },
 "nbformat": 4,
 "nbformat_minor": 5
}

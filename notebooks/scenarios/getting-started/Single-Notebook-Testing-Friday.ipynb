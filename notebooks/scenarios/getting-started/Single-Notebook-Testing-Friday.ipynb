{
 "cells": [
  {
   "cell_type": "markdown",
   "id": "0",
   "metadata": {
    "jp-MarkdownHeadingCollapsed": true
   },
   "source": [
    "## 1. Install Syft"
   ]
  },
  {
   "cell_type": "code",
   "execution_count": null,
   "id": "1",
   "metadata": {
    "jupyter": {
     "source_hidden": true
    }
   },
   "outputs": [],
   "source": [
    "# !pip install -U syft"
   ]
  },
  {
   "cell_type": "code",
   "execution_count": null,
   "id": "2",
   "metadata": {
    "jupyter": {
     "source_hidden": true
    }
   },
   "outputs": [],
   "source": [
    "SYFT_VERSION = \">=0.9,<0.9.2\"\n",
    "package_string = f'\"syft{SYFT_VERSION}\"'"
   ]
  },
  {
   "cell_type": "code",
   "execution_count": null,
   "id": "3",
   "metadata": {
    "jupyter": {
     "source_hidden": true
    }
   },
   "outputs": [],
   "source": [
    "# syft absolute\n",
    "import syft as sy\n",
    "\n",
    "sy.requires(SYFT_VERSION)\n",
    "print(sy.__version__)"
   ]
  },
  {
   "cell_type": "markdown",
   "id": "4",
   "metadata": {
    "jp-MarkdownHeadingCollapsed": true
   },
   "source": [
    "## 2. Running python server"
   ]
  },
  {
   "cell_type": "code",
   "execution_count": null,
   "id": "5",
   "metadata": {
    "jupyter": {
     "source_hidden": true
    }
   },
   "outputs": [],
   "source": [
    "server = sy.orchestra.launch(name=\"test-datasite-1\", port=8081, reset=True)"
   ]
  },
  {
   "cell_type": "code",
   "execution_count": null,
   "id": "6",
   "metadata": {
    "jupyter": {
     "source_hidden": true
    }
   },
   "outputs": [],
   "source": [
    "admin_client = server.login(email=\"info@openmined.org\", password=\"changethis\")"
   ]
  },
  {
   "cell_type": "code",
   "execution_count": null,
   "id": "7",
   "metadata": {
    "jupyter": {
     "source_hidden": true
    }
   },
   "outputs": [],
   "source": [
    "admin_client"
   ]
  },
  {
   "cell_type": "markdown",
   "id": "8",
   "metadata": {
    "jp-MarkdownHeadingCollapsed": true
   },
   "source": [
    "## 3. Uploading Data"
   ]
  },
  {
   "cell_type": "code",
   "execution_count": null,
   "id": "9",
   "metadata": {
    "jupyter": {
     "source_hidden": true
    }
   },
   "outputs": [],
   "source": [
    "# stdlib\n",
    "import os\n",
    "\n",
    "if not os.path.exists(\"ages_dataset.csv\"):\n",
    "    !curl -O https://openminedblob.blob.core.windows.net/csvs/ages_dataset.csv"
   ]
  },
  {
   "cell_type": "code",
   "execution_count": null,
   "id": "10",
   "metadata": {
    "jupyter": {
     "source_hidden": true
    }
   },
   "outputs": [],
   "source": [
    "# third party\n",
    "import pandas as pd\n",
    "\n",
    "# syft absolute\n",
    "import syft as sy\n",
    "\n",
    "age_df = pd.read_csv(\"ages_dataset.csv\")\n",
    "age_df = age_df.dropna(how=\"any\")\n",
    "age_df.head()"
   ]
  },
  {
   "cell_type": "code",
   "execution_count": null,
   "id": "11",
   "metadata": {
    "jupyter": {
     "source_hidden": true
    }
   },
   "outputs": [],
   "source": [
    "# stdlib\n",
    "# TODO: also move to dataset repo\n",
    "import os\n",
    "\n",
    "if not os.path.exists(\"ages_mock_dataset.csv\"):\n",
    "    !curl -O https://openminedblob.blob.core.windows.net/csvs/ages_mock_dataset.csv"
   ]
  },
  {
   "cell_type": "code",
   "execution_count": null,
   "id": "12",
   "metadata": {
    "jupyter": {
     "source_hidden": true
    }
   },
   "outputs": [],
   "source": [
    "age_mock_df = pd.read_csv(\"ages_mock_dataset.csv\")\n",
    "age_mock_df = age_mock_df.dropna(how=\"any\")\n",
    "age_mock_df.head()"
   ]
  },
  {
   "cell_type": "code",
   "execution_count": null,
   "id": "13",
   "metadata": {
    "jupyter": {
     "source_hidden": true
    }
   },
   "outputs": [],
   "source": [
    "# How an asset for low side and high-side would be defined:\n",
    "main_contributor = sy.Contributor(\n",
    "    name=\"Jeffrey Salazar\", role=\"Dataset Creator\", email=\"jsala@ailab.com\"\n",
    ")\n",
    "\n",
    "asset = sy.Asset(\n",
    "    name=\"asset_name\",\n",
    "    data=age_df,  # real dataframe\n",
    "    mock=age_mock_df,  # mock dataframe\n",
    "    contributors=[main_contributor],\n",
    ")"
   ]
  },
  {
   "cell_type": "code",
   "execution_count": null,
   "id": "14",
   "metadata": {
    "jupyter": {
     "source_hidden": true
    }
   },
   "outputs": [],
   "source": [
    "description_template = \"\"\"### About the dataset\n",
    "This extensive dataset provides a rich collection of demographic and life events records for individuals across multiple countries. It covers a wide range of indicators and attributes related to personal information, birth and death events, gender, occupation, and associated countries. The dataset offers valuable insights into population dynamics and various aspects of human life, enabling comprehensive analyses and cross-country comparisons. The dataset is the largest one on notable deceased people and includes individ- uals from a variety of social groups, including but not limited to 107k females, 90k researchers, and 124 non-binary indi- viduals, spread across more than 300 contemporary or histor- ical regions.\n",
    "\n",
    "### Dataset usage policy\n",
    "This dataset is subject to compliance with internal data use and mis-use policies at our organisation. The following rules apply:\n",
    "- only aggregate statistics can be released from data computation\n",
    "- data subjects should never be identifiable through the data computation outcomes\n",
    "- a fixed privacy budget of eps=5 must be preserved by each researcher\n",
    "\n",
    "### Data collection and pre-processing\n",
    "The dataset is based on open data hosted by Wikimedia Foundation.\n",
    "\n",
    "**Age**\n",
    "Whenever possible, age was calculated based on the birth and death year mentioned in the description of the individual.\n",
    "\n",
    "**Gender**\n",
    "Gender was available in the original dataset for 50% of participants. For the remaining, it was added from predictions based on name, country and century in which they lived. (97.51% accuracy and 98.89% F1-score)\n",
    "\n",
    "**Occupation**\n",
    "The occupation was available in the original dataset for 66% of the individuals. For the remaining, it was added from predictions from a multiclass text classificator model. (93.4% accuracy for 84% of the dataset)\n",
    "\n",
    "More details about the features can be found by reading the paper.\n",
    "\n",
    "### Key features\n",
    "1. **Id**: Unique identifier for each individual.\n",
    "2. **Name**: Name of the person.\n",
    "3. **Short description**: Brief description or summary of the individual.\n",
    "4. **Gender**: Gender/s of the individual.\n",
    "5. **Country**: Countries/Kingdoms of residence and/or origin.\n",
    "6. **Occupation**: Occupation or profession of the individual.\n",
    "7. **Birth year**: Year of birth for the individual.\n",
    "8. **Death year**: Year of death for the individual.\n",
    "9. **Manner of death**: Details about the circumstances or manner of death.\n",
    "10. **Age of death**: Age at the time of death for the individual.\n",
    "11. **Associated Countries**: Modern Day Countries associated with the individual.\n",
    "12. **Associated Country Coordinates (Lat/Lon)**: Modern Day Latitude and longitude coordinates of the associated countries.\n",
    "13. **Associated Country Life Expectancy**: Life expectancy of the associated countries.\n",
    "\n",
    "### Use cases\n",
    "- Analyze demographic trends and birth rates in different countries.\n",
    "- Investigate factors affecting life expectancy and mortality rates.\n",
    "- Study the relationship between gender and occupation across regions.\n",
    "- Explore correlations between age of death and associated country attributes.\n",
    "- Examine patterns of migration and associated countries' life expectancy.\n",
    "\n",
    "\n",
    "### Getting started\n",
    "\n",
    "```\n",
    "!curl -O https://openminedblob.blob.core.windows.net/csvs/ages_dataset.csv\n",
    "\n",
    "age_df = pd.read_csv(\"ages_dataset.csv\")\n",
    "```\n",
    "\n",
    "### Execution environment\n",
    "The data is hosted in a remote compute environment with the following specifications:\n",
    "- X CPU cores\n",
    "- 1 GPU of type Y\n",
    "- Z RAM\n",
    "- A additional available storage\n",
    "\n",
    "### Citation\n",
    "Annamoradnejad, Issa; Annamoradnejad, Rahimberdi (2022), “Age dataset: A structured general-purpose dataset on life, work, and death of 1.22 million distinguished people”, In Workshop Proceedings of the 16th International AAAI Conference on Web and Social Media (ICWSM), doi: 10.36190/2022.82\n",
    "\"\"\""
   ]
  },
  {
   "cell_type": "code",
   "execution_count": null,
   "id": "15",
   "metadata": {
    "jupyter": {
     "source_hidden": true
    }
   },
   "outputs": [],
   "source": [
    "dataset = sy.Dataset(\n",
    "    name=\"Age Dataset\",\n",
    "    description=description_template,\n",
    "    asset_list=[asset],\n",
    "    contributors=[main_contributor],\n",
    ")"
   ]
  },
  {
   "cell_type": "code",
   "execution_count": null,
   "id": "16",
   "metadata": {
    "jupyter": {
     "source_hidden": true
    }
   },
   "outputs": [],
   "source": [
    "# Uploading the dataset\n",
    "admin_client.upload_dataset(dataset)"
   ]
  },
  {
   "cell_type": "code",
   "execution_count": null,
   "id": "17",
   "metadata": {
    "jupyter": {
     "source_hidden": true
    }
   },
   "outputs": [],
   "source": [
    "admin_client.datasets"
   ]
  },
  {
   "cell_type": "markdown",
   "id": "18",
   "metadata": {
    "jp-MarkdownHeadingCollapsed": true
   },
   "source": [
    "## 4. Register a DS"
   ]
  },
  {
   "cell_type": "code",
   "execution_count": null,
   "id": "19",
   "metadata": {
    "jupyter": {
     "source_hidden": true
    }
   },
   "outputs": [],
   "source": [
    "# register a new user\n",
    "admin_client.register(\n",
    "    name=\"John Doe\", email=\"john@email.com\", password=\"pass\", password_verify=\"pass\"\n",
    ")"
   ]
  },
  {
   "cell_type": "markdown",
   "id": "20",
   "metadata": {},
   "source": [
    "## 5. Working With Remote Data (This is where you start ... )\n",
    "\n",
    "Try running different scenarios for user code submission trying out different::\n",
    "- Try running different query sizes, result type, result size,\n",
    "- raising intentional error in the code\n",
    "- play with output/input policies\n",
    "- Accessing private/mock data\n",
    "- Nested codes"
   ]
  },
  {
   "cell_type": "code",
   "execution_count": null,
   "id": "21",
   "metadata": {
    "jupyter": {
     "source_hidden": true
    }
   },
   "outputs": [],
   "source": [
    "ds_client = server.login(email=\"john@email.com\", password=\"pass\")"
   ]
  },
  {
   "cell_type": "code",
   "execution_count": null,
   "id": "22",
   "metadata": {
    "jupyter": {
     "source_hidden": true
    }
   },
   "outputs": [],
   "source": [
    "ds_client.datasets"
   ]
  },
  {
   "cell_type": "code",
   "execution_count": null,
   "id": "23",
   "metadata": {},
   "outputs": [],
   "source": [
    "mock_data = ds_client.datasets[0].assets[0].mock\n",
    "mock_data"
   ]
  },
  {
   "cell_type": "code",
   "execution_count": null,
   "id": "24",
   "metadata": {
    "jupyter": {
     "source_hidden": true
    }
   },
   "outputs": [],
   "source": [
    "private_data = ds_client.datasets[0].assets[0].data\n",
    "private_data"
   ]
  },
  {
   "cell_type": "markdown",
   "id": "25",
   "metadata": {},
   "source": [
    "### 5.1 Standard and custom Input/Output Policies and syft function decorator"
   ]
  },
  {
   "cell_type": "code",
   "execution_count": null,
   "id": "26",
   "metadata": {
    "jupyter": {
     "source_hidden": true
    }
   },
   "outputs": [],
   "source": [
    "asset = ds_client.datasets[0].assets[0]"
   ]
  },
  {
   "cell_type": "code",
   "execution_count": null,
   "id": "27",
   "metadata": {
    "jupyter": {
     "source_hidden": true
    }
   },
   "outputs": [],
   "source": [
    "@sy.syft_function_single_use(ages_data=asset)\n",
    "def how_are_people_dying_statistics(ages_data):\n",
    "    df = ages_data\n",
    "    avg_age_death_gender = (\n",
    "        df.groupby(\"Gender\")[\"Age of death\"].mean().reset_index(name=\"Avg_Age_of_Death\")\n",
    "    )\n",
    "    manner_of_death_count = (\n",
    "        df.groupby(\"Manner of death\")\n",
    "        .size()\n",
    "        .reset_index(name=\"Count\")\n",
    "        .sort_values(by=\"Count\", ascending=False)\n",
    "    )\n",
    "\n",
    "    return (manner_of_death_count, avg_age_death_gender)"
   ]
  },
  {
   "cell_type": "code",
   "execution_count": null,
   "id": "28",
   "metadata": {
    "jupyter": {
     "source_hidden": true
    }
   },
   "outputs": [],
   "source": [
    "# stdlib\n",
    "from typing import Any\n",
    "\n",
    "# third party\n",
    "from result import Err\n",
    "from result import Ok\n",
    "\n",
    "# syft absolute\n",
    "from syft.client.api import AuthedServiceContext\n",
    "from syft.client.api import ServerIdentity\n",
    "\n",
    "\n",
    "class CustomExactMatch(sy.CustomInputPolicy):\n",
    "    def __init__(self, *args: Any, **kwargs: Any) -> None:\n",
    "        pass\n",
    "\n",
    "    def filter_kwargs(self, kwargs, context, code_item_id):\n",
    "        # stdlib\n",
    "\n",
    "        try:\n",
    "            allowed_inputs = self.allowed_ids_only(\n",
    "                allowed_inputs=self.inputs, kwargs=kwargs, context=context\n",
    "            )\n",
    "            results = self.retrieve_from_db(\n",
    "                code_item_id=code_item_id,\n",
    "                allowed_inputs=allowed_inputs,\n",
    "                context=context,\n",
    "            )\n",
    "        except Exception as e:\n",
    "            return Err(str(e))\n",
    "        return results\n",
    "\n",
    "    def retrieve_from_db(self, code_item_id, allowed_inputs, context):\n",
    "        # syft absolute\n",
    "        from syft import ServerType\n",
    "        from syft.service.action.action_object import TwinMode\n",
    "\n",
    "        action_service = context.server.get_service(\"actionservice\")\n",
    "        code_inputs = {}\n",
    "\n",
    "        # When we are retrieving the code from the database, we need to use the server's\n",
    "        # verify key as the credentials. This is because when we approve the code, we\n",
    "        # we allow the private data to be used only for this specific code.\n",
    "        # but we are not modifying the permissions of the private data\n",
    "\n",
    "        root_context = AuthedServiceContext(\n",
    "            server=context.server, credentials=context.server.verify_key\n",
    "        )\n",
    "        if context.server.server_type == ServerType.DATASITE:\n",
    "            for var_name, arg_id in allowed_inputs.items():\n",
    "                kwarg_value = action_service._get(\n",
    "                    context=root_context,\n",
    "                    uid=arg_id,\n",
    "                    twin_mode=TwinMode.NONE,\n",
    "                    has_permission=True,\n",
    "                )\n",
    "                if kwarg_value.is_err():\n",
    "                    return Err(kwarg_value.err())\n",
    "                code_inputs[var_name] = kwarg_value.ok()\n",
    "        else:\n",
    "            raise Exception(\n",
    "                f\"Invalid Server Type for Code Submission:{context.server.server_type}\"\n",
    "            )\n",
    "        return Ok(code_inputs)\n",
    "\n",
    "    def allowed_ids_only(\n",
    "        self,\n",
    "        allowed_inputs,\n",
    "        kwargs,\n",
    "        context,\n",
    "    ):\n",
    "        # syft absolute\n",
    "        from syft import ServerType\n",
    "        from syft import UID\n",
    "\n",
    "        if context.server.server_type == ServerType.DATASITE:\n",
    "            server_identity = ServerIdentity(\n",
    "                server_name=context.server.name,\n",
    "                server_id=context.server.id,\n",
    "                verify_key=context.server.signing_key.verify_key,\n",
    "            )\n",
    "            allowed_inputs = allowed_inputs.get(server_identity, {})\n",
    "        else:\n",
    "            raise Exception(\n",
    "                f\"Invalid Server Type for Code Submission:{context.server.server_type}\"\n",
    "            )\n",
    "        filtered_kwargs = {}\n",
    "        for key in allowed_inputs.keys():\n",
    "            if key in kwargs:\n",
    "                value = kwargs[key]\n",
    "                uid = value\n",
    "                if not isinstance(uid, UID):\n",
    "                    uid = getattr(value, \"id\", None)\n",
    "\n",
    "                if uid != allowed_inputs[key]:\n",
    "                    raise Exception(\n",
    "                        f\"Input with uid: {uid} for `{key}` not in allowed inputs: {allowed_inputs}\"\n",
    "                    )\n",
    "                filtered_kwargs[key] = value\n",
    "        return filtered_kwargs\n",
    "\n",
    "    def _is_valid(\n",
    "        self,\n",
    "        context,\n",
    "        usr_input_kwargs,\n",
    "        code_item_id,\n",
    "    ):\n",
    "        filtered_input_kwargs = self.filter_kwargs(\n",
    "            kwargs=usr_input_kwargs,\n",
    "            context=context,\n",
    "            code_item_id=code_item_id,\n",
    "        )\n",
    "\n",
    "        if filtered_input_kwargs.is_err():\n",
    "            return filtered_input_kwargs\n",
    "\n",
    "        filtered_input_kwargs = filtered_input_kwargs.ok()\n",
    "\n",
    "        expected_input_kwargs = set()\n",
    "        for _inp_kwargs in self.inputs.values():\n",
    "            for k in _inp_kwargs.keys():\n",
    "                if k not in usr_input_kwargs:\n",
    "                    return Err(f\"Function missing required keyword argument: '{k}'\")\n",
    "            expected_input_kwargs.update(_inp_kwargs.keys())\n",
    "\n",
    "        permitted_input_kwargs = list(filtered_input_kwargs.keys())\n",
    "        not_approved_kwargs = set(expected_input_kwargs) - set(permitted_input_kwargs)\n",
    "        if len(not_approved_kwargs) > 0:\n",
    "            return Err(\n",
    "                f\"Input arguments: {not_approved_kwargs} to the function are not approved yet.\"\n",
    "            )\n",
    "        return Ok(True)\n",
    "\n",
    "\n",
    "def allowed_ids_only(\n",
    "    self,\n",
    "    allowed_inputs,\n",
    "    kwargs,\n",
    "    context,\n",
    "):\n",
    "    # syft absolute\n",
    "    from syft import ServerType\n",
    "    from syft import UID\n",
    "    from syft.client.api import ServerIdentity\n",
    "\n",
    "    if context.server.server_type == ServerType.DATASITE:\n",
    "        server_identity = ServerIdentity(\n",
    "            server_name=context.server.name,\n",
    "            server_id=context.server.id,\n",
    "            verify_key=context.server.signing_key.verify_key,\n",
    "        )\n",
    "        allowed_inputs = allowed_inputs.get(server_identity, {})\n",
    "    else:\n",
    "        raise Exception(\n",
    "            f\"Invalid Server Type for Code Submission:{context.server.server_type}\"\n",
    "        )\n",
    "    filtered_kwargs = {}\n",
    "    for key in allowed_inputs.keys():\n",
    "        if key in kwargs:\n",
    "            value = kwargs[key]\n",
    "            uid = value\n",
    "            if not isinstance(uid, UID):\n",
    "                uid = getattr(value, \"id\", None)\n",
    "\n",
    "            if uid != allowed_inputs[key]:\n",
    "                raise Exception(\n",
    "                    f\"Input with uid: {uid} for `{key}` not in allowed inputs: {allowed_inputs}\"\n",
    "                )\n",
    "            filtered_kwargs[key] = value\n",
    "    return filtered_kwargs"
   ]
  },
  {
   "cell_type": "code",
   "execution_count": null,
   "id": "29",
   "metadata": {
    "jupyter": {
     "source_hidden": true
    }
   },
   "outputs": [],
   "source": [
    "class RepeatedCallPolicy(sy.CustomOutputPolicy):\n",
    "    n_calls: int = 0\n",
    "    downloadable_output_args: list[str] = []\n",
    "    state: dict[Any, Any] = {}\n",
    "\n",
    "    def __init__(self, n_calls=1, downloadable_output_args: list[str] = None):\n",
    "        self.downloadable_output_args = (\n",
    "            downloadable_output_args if downloadable_output_args is not None else []\n",
    "        )\n",
    "        self.n_calls = n_calls\n",
    "        self.state = {\"counts\": 0}\n",
    "\n",
    "    def public_state(self):\n",
    "        return self.state[\"counts\"]\n",
    "\n",
    "    def update_policy(self, context, outputs):\n",
    "        self.state[\"counts\"] += 1\n",
    "\n",
    "    def apply_to_output(self, context, outputs, update_policy=True):\n",
    "        if hasattr(outputs, \"syft_action_data\"):\n",
    "            outputs = outputs.syft_action_data\n",
    "        output_dict = {}\n",
    "        if self.state[\"counts\"] < self.n_calls:\n",
    "            for output_arg in self.downloadable_output_args:\n",
    "                output_dict[output_arg] = outputs[output_arg]\n",
    "            if update_policy:\n",
    "                self.update_policy(context, outputs)\n",
    "        else:\n",
    "            return None\n",
    "        return output_dict\n",
    "\n",
    "    def _is_valid(self, context):\n",
    "        return self.state[\"counts\"] < self.n_calls"
   ]
  },
  {
   "cell_type": "markdown",
   "id": "30",
   "metadata": {},
   "source": [
    "### 5.2 Creating Query Function"
   ]
  },
  {
   "cell_type": "code",
   "execution_count": null,
   "id": "31",
   "metadata": {
    "jupyter": {
     "source_hidden": true
    }
   },
   "outputs": [],
   "source": [
    "@sy.syft_function(\n",
    "    input_policy=CustomExactMatch(ages_data=asset),\n",
    "    output_policy=RepeatedCallPolicy(n_calls=10, downloadable_output_args=[\"y\"]),\n",
    ")\n",
    "def how_are_people_dying_statistics_custom(ages_data):\n",
    "    df = ages_data\n",
    "    avg_age_death_gender = (\n",
    "        df.groupby(\"Gender\")[\"Age of death\"].mean().reset_index(name=\"Avg_Age_of_Death\")\n",
    "    )\n",
    "    manner_of_death_count = (\n",
    "        df.groupby(\"Manner of death\")\n",
    "        .size()\n",
    "        .reset_index(name=\"Count\")\n",
    "        .sort_values(by=\"Count\", ascending=False)\n",
    "    )\n",
    "\n",
    "    return (manner_of_death_count, avg_age_death_gender)"
   ]
  },
  {
   "cell_type": "markdown",
   "id": "32",
   "metadata": {},
   "source": [
    "### 5.3 Test on Mock Data"
   ]
  },
  {
   "cell_type": "code",
   "execution_count": null,
   "id": "33",
   "metadata": {
    "jupyter": {
     "source_hidden": true
    }
   },
   "outputs": [],
   "source": [
    "pointer = how_are_people_dying_statistics(ages_data=asset)\n",
    "result = pointer.get()"
   ]
  },
  {
   "cell_type": "code",
   "execution_count": null,
   "id": "34",
   "metadata": {
    "jupyter": {
     "source_hidden": true
    }
   },
   "outputs": [],
   "source": [
    "result[0]"
   ]
  },
  {
   "cell_type": "code",
   "execution_count": null,
   "id": "35",
   "metadata": {
    "jupyter": {
     "source_hidden": true
    }
   },
   "outputs": [],
   "source": [
    "result[1]"
   ]
  },
  {
   "cell_type": "markdown",
   "id": "36",
   "metadata": {},
   "source": [
    "### 5.4 Submit Code"
   ]
  },
  {
   "cell_type": "code",
   "execution_count": null,
   "id": "37",
   "metadata": {
    "jupyter": {
     "source_hidden": true
    }
   },
   "outputs": [],
   "source": [
    "# Create a new project\n",
    "new_project = sy.Project(\n",
    "    name=\"The project about death\",\n",
    "    description=\"Hi, I want to calculate some statistics on how folks are dying\",\n",
    "    members=[ds_client],\n",
    ")\n",
    "new_project"
   ]
  },
  {
   "cell_type": "code",
   "execution_count": null,
   "id": "38",
   "metadata": {
    "jupyter": {
     "source_hidden": true
    }
   },
   "outputs": [],
   "source": [
    "result = new_project.create_code_request(how_are_people_dying_statistics, ds_client)"
   ]
  },
  {
   "cell_type": "code",
   "execution_count": null,
   "id": "39",
   "metadata": {
    "jupyter": {
     "source_hidden": true
    }
   },
   "outputs": [],
   "source": [
    "project = new_project.send()\n",
    "project"
   ]
  },
  {
   "cell_type": "markdown",
   "id": "40",
   "metadata": {},
   "source": [
    "## 6. Approve Requests (As Admin)\n",
    "\n",
    "We will approve all the incoming requests for now as the focus of this exercise is to test different scenarios for user code submission."
   ]
  },
  {
   "cell_type": "code",
   "execution_count": null,
   "id": "41",
   "metadata": {
    "jupyter": {
     "source_hidden": true
    }
   },
   "outputs": [],
   "source": [
    "admin_client.projects[0]"
   ]
  },
  {
   "cell_type": "code",
   "execution_count": null,
   "id": "42",
   "metadata": {
    "jupyter": {
     "source_hidden": true
    }
   },
   "outputs": [],
   "source": [
    "project = admin_client.projects[0]\n",
    "project.requests"
   ]
  },
  {
   "cell_type": "code",
   "execution_count": null,
   "id": "43",
   "metadata": {
    "jupyter": {
     "source_hidden": true
    }
   },
   "outputs": [],
   "source": [
    "request = project.requests[0]\n",
    "request"
   ]
  },
  {
   "cell_type": "code",
   "execution_count": null,
   "id": "44",
   "metadata": {
    "jupyter": {
     "source_hidden": true
    }
   },
   "outputs": [],
   "source": [
    "result = request.approve()"
   ]
  },
  {
   "cell_type": "markdown",
   "id": "45",
   "metadata": {},
   "source": [
    "## 7. Running Code (Data Scientist)"
   ]
  },
  {
   "cell_type": "code",
   "execution_count": null,
   "id": "46",
   "metadata": {
    "jupyter": {
     "source_hidden": true
    }
   },
   "outputs": [],
   "source": [
    "ds_client.code"
   ]
  },
  {
   "cell_type": "code",
   "execution_count": null,
   "id": "47",
   "metadata": {
    "jupyter": {
     "source_hidden": true
    }
   },
   "outputs": [],
   "source": [
    "ds_client.requests"
   ]
  },
  {
   "cell_type": "code",
   "execution_count": null,
   "id": "48",
   "metadata": {
    "jupyter": {
     "source_hidden": true
    }
   },
   "outputs": [],
   "source": [
    "result = ds_client.code.how_are_people_dying_statistics(ages_data=asset)"
   ]
  },
  {
   "cell_type": "code",
   "execution_count": null,
   "id": "49",
   "metadata": {
    "jupyter": {
     "source_hidden": true
    }
   },
   "outputs": [],
   "source": [
    "result[0]"
   ]
  },
  {
   "cell_type": "code",
   "execution_count": null,
   "id": "50",
   "metadata": {
    "jupyter": {
     "source_hidden": true
    }
   },
   "outputs": [],
   "source": [
    "result[1]"
   ]
  },
  {
   "cell_type": "code",
   "execution_count": null,
   "id": "51",
   "metadata": {
    "jupyter": {
     "source_hidden": true
    }
   },
   "outputs": [],
   "source": []
  }
 ],
 "metadata": {
  "kernelspec": {
   "display_name": "Python 3 (ipykernel)",
   "language": "python",
   "name": "python3"
  },
  "language_info": {
   "codemirror_mode": {
    "name": "ipython",
    "version": 3
   },
   "file_extension": ".py",
   "mimetype": "text/x-python",
   "name": "python",
   "nbconvert_exporter": "python",
   "pygments_lexer": "ipython3",
   "version": "3.11.5"
  }
 },
 "nbformat": 4,
 "nbformat_minor": 5
}

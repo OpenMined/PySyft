{
 "cells": [
  {
   "cell_type": "code",
   "execution_count": 1,
   "id": "e5d3de5f-afee-4743-89c8-8298b12edfe7",
   "metadata": {},
   "outputs": [],
   "source": [
    "# -- how to enable / disable user registration\n",
    "# -- how to create users\n",
    "# -- how to reset user passwords"
   ]
  },
  {
   "cell_type": "code",
   "execution_count": null,
   "id": "3ac0c932-601f-4424-ad80-f02da291b2a3",
   "metadata": {},
   "outputs": [],
   "source": []
  }
 ],
 "metadata": {
  "kernelspec": {
   "display_name": "Python 3 (ipykernel)",
   "language": "python",
   "name": "python3"
  },
  "language_info": {
   "codemirror_mode": {
    "name": "ipython",
    "version": 3
   },
   "file_extension": ".py",
   "mimetype": "text/x-python",
   "name": "python",
   "nbconvert_exporter": "python",
   "pygments_lexer": "ipython3",
   "version": "3.12.2"
  }
 },
 "nbformat": 4,
 "nbformat_minor": 5
}

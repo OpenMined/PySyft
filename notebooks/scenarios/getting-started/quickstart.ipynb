{
 "cells": [
  {
   "cell_type": "code",
   "execution_count": null,
   "id": "0",
   "metadata": {},
   "outputs": [],
   "source": [
    "# third party\n",
    "import numpy as np\n",
    "import pandas as pd\n",
    "\n",
    "years = np.random.randint(1, 10, (10,))\n",
    "\n",
    "private_data = pd.DataFrame(\n",
    "    {\"Salary ($USD)\": years * 25_000, \"Experience (Years)\": years}\n",
    ")\n",
    "private_data"
   ]
  },
  {
   "cell_type": "code",
   "execution_count": null,
   "id": "1",
   "metadata": {},
   "outputs": [],
   "source": [
    "mock_data = pd.DataFrame({\"Salary ($USD)\": [100_000] * 10, \"Experience (Years)\": 999})\n",
    "mock_data"
   ]
  },
  {
   "cell_type": "code",
   "execution_count": null,
   "id": "2",
   "metadata": {},
   "outputs": [],
   "source": [
    "# syft absolute\n",
    "import syft as sy\n",
    "\n",
    "SYFT_VERSION = \">=0.9.0,<0.9.1\"\n",
    "sy.requires(SYFT_VERSION)"
   ]
  },
  {
   "cell_type": "code",
   "execution_count": null,
   "id": "3",
   "metadata": {
    "tags": [
     "hide-output"
    ]
   },
   "outputs": [],
   "source": [
    "high_domain = sy.orchestra.launch(\n",
    "    port=\"8089\", name=\"domain-high\", node_side_type=\"high\", reset=True\n",
    ")"
   ]
  },
  {
   "cell_type": "code",
   "execution_count": null,
   "id": "4",
   "metadata": {
    "tags": [
     "hide-output"
    ]
   },
   "outputs": [],
   "source": [
    "high_client = sy.login(port=\"8089\", email=\"info@openmined.org\", password=\"changethis\")"
   ]
  },
  {
   "cell_type": "code",
   "execution_count": null,
   "id": "5",
   "metadata": {
    "tags": [
     "hide-output"
    ]
   },
   "outputs": [],
   "source": [
    "low_domain = sy.orchestra.launch(\n",
    "    port=\"8088\", name=\"domain-low\", node_side_type=\"low\", reset=True\n",
    ")"
   ]
  },
  {
   "cell_type": "code",
   "execution_count": null,
   "id": "6",
   "metadata": {
    "tags": [
     "hide-output"
    ]
   },
   "outputs": [],
   "source": [
    "low_client = sy.login(port=\"8088\", email=\"info@openmined.org\", password=\"changethis\")"
   ]
  },
  {
   "cell_type": "code",
   "execution_count": null,
   "id": "7",
   "metadata": {},
   "outputs": [],
   "source": [
    "high_client"
   ]
  },
  {
   "cell_type": "code",
   "execution_count": null,
   "id": "8",
   "metadata": {},
   "outputs": [],
   "source": [
    "dataset = sy.Dataset(\n",
    "    name=\"Population Income [2023-24]\",\n",
    "    description=\"This was the annual income of the residents of this country. Generated for educational purposes.\",\n",
    "    citation=\"Smith, J., Johnson, A., & Williams, E. (2023). Imaginary People Salary Dataset [Data set].\",\n",
    "    url=\"https://example.com/fake-salary-dataset\",\n",
    ")"
   ]
  },
  {
   "cell_type": "code",
   "execution_count": null,
   "id": "9",
   "metadata": {},
   "outputs": [],
   "source": [
    "private_data_asset = sy.Asset(\n",
    "    name=\"Income dataset\", data=private_data, mock=sy.ActionObject.empty()\n",
    ")"
   ]
  },
  {
   "cell_type": "code",
   "execution_count": null,
   "id": "10",
   "metadata": {},
   "outputs": [],
   "source": [
    "dataset.add_asset(private_data_asset)"
   ]
  },
  {
   "cell_type": "code",
   "execution_count": null,
   "id": "11",
   "metadata": {
    "tags": [
     "hide-output"
    ]
   },
   "outputs": [],
   "source": [
    "high_client.upload_dataset(dataset)"
   ]
  },
  {
   "cell_type": "code",
   "execution_count": null,
   "id": "12",
   "metadata": {},
   "outputs": [],
   "source": [
    "high_client.datasets"
   ]
  },
  {
   "cell_type": "code",
   "execution_count": null,
   "id": "13",
   "metadata": {},
   "outputs": [],
   "source": [
    "mock_dataset = sy.Dataset(\n",
    "    name=\"Population Income [2023-24]\",\n",
    "    description=\"This was the annual income of the residents of this country. Generated for educational purposes.\",\n",
    "    citation=\"Smith, J., Johnson, A., & Williams, E. (2023). Imaginary People Salary Dataset [Data set].\",\n",
    "    url=\"https://example.com/fake-salary-dataset\",\n",
    ")"
   ]
  },
  {
   "cell_type": "code",
   "execution_count": null,
   "id": "14",
   "metadata": {},
   "outputs": [],
   "source": [
    "mock_data_asset = sy.Asset(\n",
    "    name=\"Income dataset\",\n",
    "    mock=mock_data,  # mock data\n",
    "    data=mock_data,  # also mock data\n",
    ")"
   ]
  },
  {
   "cell_type": "code",
   "execution_count": null,
   "id": "15",
   "metadata": {},
   "outputs": [],
   "source": [
    "mock_dataset.add_asset(mock_data_asset)"
   ]
  },
  {
   "cell_type": "code",
   "execution_count": null,
   "id": "16",
   "metadata": {
    "tags": [
     "hide-output"
    ]
   },
   "outputs": [],
   "source": [
    "low_client.upload_dataset(mock_dataset)"
   ]
  },
  {
   "cell_type": "code",
   "execution_count": null,
   "id": "17",
   "metadata": {},
   "outputs": [],
   "source": [
    "low_client.datasets"
   ]
  },
  {
   "cell_type": "code",
   "execution_count": null,
   "id": "18",
   "metadata": {},
   "outputs": [],
   "source": [
    "# syft absolute\n",
    "\n",
    "user = low_client.register(\n",
    "    email=\"bob@caltech.edu\",\n",
    "    name=\"Scientist Bob\",\n",
    "    password=\"abc123\",\n",
    "    password_verify=\"abc123\",\n",
    "    institution=\"Caltech\",\n",
    "    website=\"caltech.edu\",\n",
    ")\n",
    "\n",
    "low_client.users"
   ]
  },
  {
   "cell_type": "code",
   "execution_count": null,
   "id": "19",
   "metadata": {
    "tags": [
     "hide-output"
    ]
   },
   "outputs": [],
   "source": [
    "scientist_domain = sy.login(email=\"bob@caltech.edu\", password=\"abc123\", port=8088)"
   ]
  },
  {
   "cell_type": "code",
   "execution_count": null,
   "id": "20",
   "metadata": {},
   "outputs": [],
   "source": [
    "scientist_domain.datasets"
   ]
  },
  {
   "cell_type": "code",
   "execution_count": null,
   "id": "21",
   "metadata": {},
   "outputs": [],
   "source": [
    "scientist_domain.datasets[0]"
   ]
  },
  {
   "cell_type": "code",
   "execution_count": null,
   "id": "22",
   "metadata": {},
   "outputs": [],
   "source": [
    "assets = scientist_domain.datasets[0].assets\n",
    "assets"
   ]
  },
  {
   "cell_type": "code",
   "execution_count": null,
   "id": "23",
   "metadata": {},
   "outputs": [],
   "source": [
    "mock = assets[0].mock\n",
    "mock"
   ]
  },
  {
   "cell_type": "code",
   "execution_count": null,
   "id": "24",
   "metadata": {},
   "outputs": [],
   "source": [
    "assets[0].data"
   ]
  },
  {
   "cell_type": "code",
   "execution_count": null,
   "id": "25",
   "metadata": {},
   "outputs": [],
   "source": [
    "# third party\n",
    "from sklearn.linear_model import LinearRegression\n",
    "from sklearn.model_selection import train_test_split\n",
    "\n",
    "data = mock\n",
    "\n",
    "# Split the data into features (X) and target (y)\n",
    "X = data[[\"Experience (Years)\"]]\n",
    "y = data[\"Salary ($USD)\"]\n",
    "\n",
    "# Split the data into training and testing sets\n",
    "X_train, X_test, y_train, y_test = train_test_split(\n",
    "    X, y, test_size=0.2, random_state=42\n",
    ")\n",
    "\n",
    "# Initialize and train the linear regression model\n",
    "model = LinearRegression()\n",
    "model.fit(X_train, y_train)\n",
    "\n",
    "# Make predictions on the test data\n",
    "predictions = model.predict(X_test)\n",
    "\n",
    "# Print the predicted salaries and actual salaries\n",
    "for i in range(len(predictions)):\n",
    "    print(f\"Experience: {X_test.iloc[i]['Experience (Years)']} years, \\\n",
    "    Predicted Salary: {predictions[i]}, Actual Salary: {y_test.iloc[i]}\")"
   ]
  },
  {
   "cell_type": "code",
   "execution_count": null,
   "id": "26",
   "metadata": {},
   "outputs": [],
   "source": [
    "@sy.syft_function_single_use(data=assets[0])\n",
    "def linear_regression(data):\n",
    "    # third party\n",
    "    from sklearn.linear_model import LinearRegression\n",
    "    from sklearn.model_selection import train_test_split\n",
    "\n",
    "    # Split the data into features (X) and target (y)\n",
    "    X = data[[\"Experience (Years)\"]]\n",
    "    y = data[\"Salary ($USD)\"]\n",
    "\n",
    "    # Split the data into training and testing sets\n",
    "    X_train, X_test, y_train, y_test = train_test_split(\n",
    "        X, y, test_size=0.2, random_state=42\n",
    "    )\n",
    "\n",
    "    # Initialize and train the linear regression model\n",
    "    model = LinearRegression()\n",
    "    model.fit(X_train, y_train)\n",
    "\n",
    "    # Make predictions on the test data\n",
    "    predictions = model.predict(X_test)\n",
    "\n",
    "    return predictions"
   ]
  },
  {
   "cell_type": "code",
   "execution_count": null,
   "id": "27",
   "metadata": {},
   "outputs": [],
   "source": [
    "pred = linear_regression(data=assets[0].mock)\n",
    "pred"
   ]
  },
  {
   "cell_type": "code",
   "execution_count": null,
   "id": "28",
   "metadata": {},
   "outputs": [],
   "source": [
    "pred.get()"
   ]
  },
  {
   "cell_type": "markdown",
   "id": "29",
   "metadata": {},
   "source": [
    "Afterwards, they can submit their code to the data owner by creating a Syft project, in which they will embed the code:"
   ]
  },
  {
   "cell_type": "code",
   "execution_count": null,
   "id": "30",
   "metadata": {},
   "outputs": [],
   "source": [
    "new_project = sy.Project(\n",
    "    name=\"Experience-Based Salary Prediction\",\n",
    "    description=\"Using a Linear Regression model to predict salaries based on years of experience.\",\n",
    "    members=[scientist_domain],\n",
    ")\n",
    "new_project"
   ]
  },
  {
   "cell_type": "code",
   "execution_count": null,
   "id": "31",
   "metadata": {},
   "outputs": [],
   "source": [
    "new_project.create_code_request(linear_regression, scientist_domain)"
   ]
  },
  {
   "cell_type": "code",
   "execution_count": null,
   "id": "32",
   "metadata": {},
   "outputs": [],
   "source": [
    "# @leriomaggio\n",
    "# new_project.start()\n",
    "new_project.send()"
   ]
  },
  {
   "cell_type": "code",
   "execution_count": null,
   "id": "33",
   "metadata": {},
   "outputs": [],
   "source": [
    "low_client.projects"
   ]
  },
  {
   "cell_type": "code",
   "execution_count": null,
   "id": "34",
   "metadata": {},
   "outputs": [],
   "source": [
    "submitted_project = low_client.projects[0]"
   ]
  },
  {
   "cell_type": "code",
   "execution_count": null,
   "id": "35",
   "metadata": {},
   "outputs": [],
   "source": [
    "code = submitted_project.requests[0].code\n",
    "code"
   ]
  },
  {
   "cell_type": "code",
   "execution_count": null,
   "id": "36",
   "metadata": {},
   "outputs": [],
   "source": [
    "code.run"
   ]
  },
  {
   "cell_type": "markdown",
   "id": "37",
   "metadata": {},
   "source": [
    "<div class=\"alert alert-block alert-info\">\n",
    "While Syft makes sure that the function is not tampered with, it does not perform any validation on the implementation itself. It is the data owner's responsibility to review the code & verify if it's safe to execute.\n",
    "</div>\n"
   ]
  },
  {
   "cell_type": "code",
   "execution_count": null,
   "id": "38",
   "metadata": {},
   "outputs": [],
   "source": [
    "# Example on how to run the function on the mock data\n",
    "code.run(data=mock_data)"
   ]
  },
  {
   "cell_type": "code",
   "execution_count": null,
   "id": "39",
   "metadata": {},
   "outputs": [],
   "source": [
    "# Example on how to run the function on the private data\n",
    "result = code.run(data=private_data)\n",
    "result"
   ]
  },
  {
   "cell_type": "code",
   "execution_count": null,
   "id": "40",
   "metadata": {},
   "outputs": [],
   "source": [
    "submitted_project.requests[0]"
   ]
  },
  {
   "cell_type": "code",
   "execution_count": null,
   "id": "41",
   "metadata": {},
   "outputs": [],
   "source": [
    "# # @leriomaggio\n",
    "# cant run\n",
    "# # submitted_project.requests[0].accept_by_depositing_result(result)\n",
    "\n",
    "# cant accept low request\n",
    "# # submitted_project.requests[0].approve_with_client(low_client)\n",
    "\n",
    "# cant substitute a numpy needs to be boxed as an action object\n",
    "# # temp workaround???\n",
    "# result_ao = sy.ActionObject.from_obj(result)\n",
    "# result_ao\n",
    "# submitted_project.requests[0].deposit_result(result_ao)"
   ]
  },
  {
   "cell_type": "code",
   "execution_count": null,
   "id": "42",
   "metadata": {},
   "outputs": [],
   "source": [
    "# syncing works but\n",
    "widget = sy.sync(from_client=low_client, to_client=high_client)\n",
    "widget"
   ]
  },
  {
   "cell_type": "code",
   "execution_count": null,
   "id": "43",
   "metadata": {},
   "outputs": [],
   "source": [
    "# high side says its still a low side request?\n",
    "# SyftError: This request is a low-side request. Please sync your results to approve.\n",
    "high_client.requests[-1].approve()"
   ]
  },
  {
   "cell_type": "code",
   "execution_count": null,
   "id": "44",
   "metadata": {},
   "outputs": [],
   "source": [
    "# select the asset\n",
    "asset = scientist_domain.datasets[0].assets[0]\n",
    "asset"
   ]
  },
  {
   "cell_type": "code",
   "execution_count": null,
   "id": "45",
   "metadata": {},
   "outputs": [],
   "source": [
    "# cant run this yet as theres no approval\n",
    "result = scientist_domain.code.linear_regression(data=asset)\n",
    "result.get()"
   ]
  }
 ],
 "metadata": {
  "kernelspec": {
   "display_name": "Python 3 (ipykernel)",
   "language": "python",
   "name": "python3"
  },
  "language_info": {
   "codemirror_mode": {
    "name": "ipython",
    "version": 3
   },
   "file_extension": ".py",
   "mimetype": "text/x-python",
   "name": "python",
   "nbconvert_exporter": "python",
   "pygments_lexer": "ipython3",
   "version": "3.12.2"
  }
 },
 "nbformat": 4,
 "nbformat_minor": 5
}

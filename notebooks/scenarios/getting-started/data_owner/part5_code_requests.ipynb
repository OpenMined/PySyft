{
 "cells": [
  {
   "cell_type": "markdown",
   "id": "0",
   "metadata": {},
   "source": [
    "### Preparing the test domain"
   ]
  },
  {
   "cell_type": "code",
   "execution_count": null,
   "id": "1",
   "metadata": {
    "tags": [
     "hide_output",
     "hide-output"
    ]
   },
   "outputs": [],
   "source": [
    "# TODO: also move to dataset repo\n",
    "# stdlib\n",
    "import os\n",
    "\n",
    "if not os.path.exists(\"ages_dataset.csv\"):\n",
    "    !curl -O https://openminedblob.blob.core.windows.net/csvs/ages_dataset.csv\n",
    "\n",
    "if not os.path.exists(\"ages_mock_dataset.csv\"):\n",
    "    !curl -O https://openminedblob.blob.core.windows.net/csvs/ages_mock_dataset.csv"
   ]
  },
  {
   "cell_type": "code",
   "execution_count": null,
   "id": "2",
   "metadata": {
    "tags": [
     "tags",
     "hide-output",
     "hide_output",
     "hide_input",
     "hide-input"
    ]
   },
   "outputs": [],
   "source": [
    "# syft absolute\n",
    "import syft as sy\n",
    "\n",
    "SYFT_VERSION = \">=0.9.0,<0.9.1\"\n",
    "sy.requires(SYFT_VERSION)\n",
    "\n",
    "# third party\n",
    "import pandas as pd\n",
    "\n",
    "# launching a test node\n",
    "node = sy.orchestra.launch(name=\"low_domain\", port=8088, dev_mode=False, reset=True)\n",
    "node = sy.orchestra.launch(name=\"high_domain\", port=8089, dev_mode=False, reset=True)\n",
    "\n",
    "age_df = pd.read_csv(\"ages_dataset.csv\")\n",
    "age_df = age_df.dropna(how=\"any\")\n",
    "\n",
    "age_mock_df = pd.read_csv(\"ages_mock_dataset.csv\")\n",
    "age_mock_df = age_mock_df.dropna(how=\"any\")\n",
    "\n",
    "# logging in with default credentials (just for the example)\n",
    "domain_low = sy.login(email=\"info@openmined.org\", password=\"changethis\", port=8088)\n",
    "domain_high = sy.login(email=\"info@openmined.org\", password=\"changethis\", port=8089)\n",
    "\n",
    "main_contributor = sy.Contributor(\n",
    "    name=\"Jeffrey Salazar\", role=\"Uploader\", email=\"jsala@ailab.com\"\n",
    ")\n",
    "\n",
    "low_side_asset = sy.Asset(\n",
    "    name=\"asset_name\",\n",
    "    data=age_mock_df,  # real dataframe\n",
    "    mock=age_mock_df,  # mock dataframe\n",
    "    contributors=[main_contributor],\n",
    ")\n",
    "\n",
    "high_side_asset = sy.Asset(\n",
    "    name=\"Age Data 2023\",\n",
    "    data=age_df,\n",
    "    mock=age_df,\n",
    "    contributors=[main_contributor],\n",
    ")\n",
    "\n",
    "low_side_dataset = sy.Dataset(\n",
    "    name=\"Dataset name\",\n",
    "    description=\"**Dataset description**\",\n",
    "    asset_list=[low_side_asset],\n",
    "    contributors=[main_contributor],\n",
    ")\n",
    "\n",
    "high_side_dataset = sy.Dataset(\n",
    "    name=\"Dataset name\",\n",
    "    description=\"**Dataset description**\",\n",
    "    asset_list=[high_side_asset],\n",
    "    contributors=[main_contributor],\n",
    ")\n",
    "\n",
    "domain_low.upload_dataset(low_side_dataset)\n",
    "domain_high.upload_dataset(high_side_dataset)\n",
    "\n",
    "domain_low.settings.allow_guest_signup(enable=True)"
   ]
  },
  {
   "cell_type": "code",
   "execution_count": null,
   "id": "3",
   "metadata": {
    "tags": [
     "hide_output",
     "hide-output"
    ]
   },
   "outputs": [],
   "source": [
    "# stdlib\n",
    "\n",
    "# User register onto the discoverable low-side node\n",
    "domain = sy.login_as_guest(port=8088).register(\n",
    "    email=\"scientist@test.com\",\n",
    "    password=\"123\",\n",
    "    name=\"Curious Scientist\",\n",
    "    password_verify=\"123\",\n",
    "    institution=\"\",\n",
    ")\n",
    "\n",
    "domain = sy.login(port=8088, email=\"scientist@test.com\", password=\"123\")\n",
    "# User inspects the data\n",
    "\n",
    "# User proposes a research project\n",
    "project = sy.Project(\n",
    "    name=\"Old Age Analysis\",\n",
    "    description=\"A data science project investigating if the dataset is skewed or biased towards older people.\",\n",
    "    members=[domain],\n",
    ")\n",
    "\n",
    "# User proposes the research code that implements the project\n",
    "\n",
    "\n",
    "@sy.syft_function_single_use(data=domain.datasets[0].assets[0])\n",
    "def count_over50(data):\n",
    "    return data[\"Age of death\"] > 50\n",
    "\n",
    "\n",
    "@sy.syft_function(\n",
    "    input_policy=sy.ExactMatch(data=domain.datasets[0].assets[0]),\n",
    "    output_policy=sy.SingleExecutionExactOutput(),\n",
    ")\n",
    "def between_60_and_70(data):\n",
    "    return data[data[\"Age of death\"] >= 60 & data[\"Age of death\"] <= 70]\n",
    "\n",
    "\n",
    "# User submits the code requests alongside the project and awaits approval\n",
    "project.create_code_request(count_over50, domain)\n",
    "project.create_code_request(between_60_and_70, domain)"
   ]
  },
  {
   "cell_type": "code",
   "execution_count": null,
   "id": "4",
   "metadata": {
    "tags": [
     "hide_output",
     "hide-output"
    ]
   },
   "outputs": [],
   "source": [
    "# @leriomaggio I think this was changed to .send\n",
    "# project.start() # deprecated\n",
    "project.send()"
   ]
  },
  {
   "cell_type": "code",
   "execution_count": null,
   "id": "5",
   "metadata": {},
   "outputs": [],
   "source": [
    "low_side_domain = sy.login(port=8088, email=\"info@openmined.org\", password=\"changethis\")\n",
    "low_side_domain"
   ]
  },
  {
   "cell_type": "code",
   "execution_count": null,
   "id": "6",
   "metadata": {},
   "outputs": [],
   "source": [
    "low_side_domain.projects"
   ]
  },
  {
   "cell_type": "code",
   "execution_count": null,
   "id": "7",
   "metadata": {},
   "outputs": [],
   "source": [
    "project = low_side_domain.projects[0]\n",
    "\n",
    "project.requests"
   ]
  },
  {
   "cell_type": "code",
   "execution_count": null,
   "id": "8",
   "metadata": {},
   "outputs": [],
   "source": [
    "request = project.requests[0]\n",
    "request"
   ]
  },
  {
   "cell_type": "code",
   "execution_count": null,
   "id": "9",
   "metadata": {},
   "outputs": [],
   "source": [
    "request.code"
   ]
  },
  {
   "cell_type": "code",
   "execution_count": null,
   "id": "10",
   "metadata": {},
   "outputs": [],
   "source": [
    "# @leriomaggio renamed to run()\n",
    "# request.code.unsafe_function(data=low_side_domain.datasets[0].assets[0].mock)"
   ]
  },
  {
   "cell_type": "code",
   "execution_count": null,
   "id": "11",
   "metadata": {},
   "outputs": [],
   "source": [
    "request.code.run(data=low_side_domain.datasets[0].assets[0].mock)"
   ]
  },
  {
   "cell_type": "code",
   "execution_count": null,
   "id": "12",
   "metadata": {},
   "outputs": [],
   "source": [
    "high_side_domain = sy.login(\n",
    "    port=8089, email=\"info@openmined.org\", password=\"changethis\"\n",
    ")"
   ]
  },
  {
   "cell_type": "code",
   "execution_count": null,
   "id": "13",
   "metadata": {},
   "outputs": [],
   "source": [
    "# renamed to run"
   ]
  },
  {
   "cell_type": "code",
   "execution_count": null,
   "id": "14",
   "metadata": {},
   "outputs": [],
   "source": [
    "# result = request.code.unsafe_function(data=high_side_domain.datasets[0].assets[0].data)\n",
    "# result"
   ]
  },
  {
   "cell_type": "code",
   "execution_count": null,
   "id": "15",
   "metadata": {},
   "outputs": [],
   "source": [
    "result = request.code.run(data=high_side_domain.datasets[0].assets[0].data)\n",
    "result"
   ]
  },
  {
   "cell_type": "code",
   "execution_count": null,
   "id": "16",
   "metadata": {},
   "outputs": [],
   "source": [
    "# request.accept_by_depositing_result(result)"
   ]
  },
  {
   "cell_type": "code",
   "execution_count": null,
   "id": "17",
   "metadata": {},
   "outputs": [],
   "source": [
    "# # @leriomaggio\n",
    "# cant run\n",
    "# # submitted_project.requests[0].accept_by_depositing_result(result)\n",
    "\n",
    "# cant accept low request\n",
    "# # submitted_project.requests[0].approve_with_client(low_client)"
   ]
  },
  {
   "cell_type": "code",
   "execution_count": null,
   "id": "18",
   "metadata": {},
   "outputs": [],
   "source": [
    "project.requests"
   ]
  },
  {
   "cell_type": "code",
   "execution_count": null,
   "id": "19",
   "metadata": {},
   "outputs": [],
   "source": [
    "request.deny(\n",
    "    reason=\"The release of aggregate statistics for column X is not permitted according to our data release policies\"\n",
    ")"
   ]
  },
  {
   "cell_type": "code",
   "execution_count": null,
   "id": "20",
   "metadata": {},
   "outputs": [],
   "source": [
    "project.requests"
   ]
  }
 ],
 "metadata": {
  "kernelspec": {
   "display_name": "Python 3 (ipykernel)",
   "language": "python",
   "name": "python3"
  },
  "language_info": {
   "codemirror_mode": {
    "name": "ipython",
    "version": 3
   },
   "file_extension": ".py",
   "mimetype": "text/x-python",
   "name": "python",
   "nbconvert_exporter": "python",
   "pygments_lexer": "ipython3",
   "version": "3.12.2"
  }
 },
 "nbformat": 4,
 "nbformat_minor": 5
}

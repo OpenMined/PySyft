{
 "cells": [
  {
   "cell_type": "code",
   "execution_count": null,
   "id": "0",
   "metadata": {
    "tags": []
   },
   "outputs": [],
   "source": [
    "# syft absolute\n",
    "import syft as sy\n",
    "\n",
    "SYFT_VERSION = \">=0.9.0,<0.9.1\"\n",
    "sy.requires(SYFT_VERSION)"
   ]
  },
  {
   "cell_type": "code",
   "execution_count": null,
   "id": "1",
   "metadata": {
    "tags": [
     "hide_output",
     "hide-output"
    ]
   },
   "outputs": [],
   "source": [
    "# launching a test node\n",
    "node = sy.orchestra.launch(name=\"test_domain\", port=8080, dev_mode=False, reset=True)\n",
    "\n",
    "# logging in with default credentials (just for the example)\n",
    "domain = sy.login(email=\"info@openmined.org\", password=\"changethis\", port=8080)"
   ]
  },
  {
   "cell_type": "code",
   "execution_count": null,
   "id": "2",
   "metadata": {},
   "outputs": [],
   "source": [
    "# stdlib\n",
    "import os\n",
    "\n",
    "if not os.path.exists(\"ages_dataset.csv\"):\n",
    "    !curl -O https://openminedblob.blob.core.windows.net/csvs/ages_dataset.csv"
   ]
  },
  {
   "cell_type": "code",
   "execution_count": null,
   "id": "3",
   "metadata": {
    "tags": []
   },
   "outputs": [],
   "source": [
    "# third party\n",
    "import pandas as pd\n",
    "\n",
    "# syft absolute\n",
    "import syft as sy\n",
    "\n",
    "age_df = pd.read_csv(\"ages_dataset.csv\")\n",
    "age_df = age_df.dropna(how=\"any\")\n",
    "age_df.head()"
   ]
  },
  {
   "cell_type": "code",
   "execution_count": null,
   "id": "4",
   "metadata": {
    "tags": [
     "hide_output",
     "hide-output"
    ]
   },
   "outputs": [],
   "source": [
    "# stdlib\n",
    "# TODO: also move to dataset repo\n",
    "import os\n",
    "\n",
    "if not os.path.exists(\"ages_mock_dataset.csv\"):\n",
    "    !curl -O https://openminedblob.blob.core.windows.net/csvs/ages_mock_dataset.csv"
   ]
  },
  {
   "cell_type": "code",
   "execution_count": null,
   "id": "5",
   "metadata": {},
   "outputs": [],
   "source": [
    "age_mock_df = pd.read_csv(\"ages_mock_dataset.csv\")\n",
    "age_mock_df = age_mock_df.dropna(how=\"any\")\n",
    "age_mock_df.head()"
   ]
  },
  {
   "cell_type": "markdown",
   "id": "6",
   "metadata": {},
   "source": [
    "### Creating a sy.Asset\n",
    "\n",
    "To create an asset (sy.Asset), the available parameters are:\n",
    "- `name (type: string)`: name of the asset, acts as a key among the assets in the same dataset and it must be unique\n",
    "- `data (type: Pandas DataFrame)`: contains the private data; if you are preparing the assets for the low-side domain (as in Level 0), this can also use the mock data.\n",
    "- `mock (type: Pandas Dataframe)`: contains the fake data; this data should have the same schema as the private data, but does not contain any sensitive information\n",
    "<div class=\"admonition info\">\n",
    "    <p class=\"admonition-title\" style=\"font-weight:bold\">Info</p>\n",
    "    If you are uploading data to the high-side and there is no mock available or it is not considered necessary, you can pass <code>mock=sy.ActionObject.empty()</code> to signal this.\n",
    "</div>    "
   ]
  },
  {
   "cell_type": "code",
   "execution_count": null,
   "id": "7",
   "metadata": {
    "tags": []
   },
   "outputs": [],
   "source": [
    "# How an asset for low side and high-side would be defined:\n",
    "main_contributor = sy.Contributor(\n",
    "    name=\"Jeffrey Salazar\", role=\"Dataset Creator\", email=\"jsala@ailab.com\"\n",
    ")\n",
    "\n",
    "low_side_asset = sy.Asset(\n",
    "    name=\"asset_name\",\n",
    "    data=age_df,  # real dataframe\n",
    "    mock=age_mock_df,  # mock dataframe\n",
    "    contributors=[main_contributor],\n",
    ")\n",
    "\n",
    "high_side_asset = sy.Asset(\n",
    "    name=\"Age Data 2023\",\n",
    "    data=age_df,\n",
    "    mock=sy.ActionObject.empty(),\n",
    "    contributors=[main_contributor],\n",
    ")"
   ]
  },
  {
   "cell_type": "code",
   "execution_count": null,
   "id": "8",
   "metadata": {
    "tags": []
   },
   "outputs": [],
   "source": [
    "# Example creating the dataset for a low-side domain\n",
    "\n",
    "low_side_dataset = sy.Dataset(\n",
    "    name=\"Dataset name\",\n",
    "    description=\"**Dataset description**\",\n",
    "    asset_list=[low_side_asset],\n",
    "    contributors=[main_contributor],\n",
    ")\n",
    "\n",
    "\n",
    "high_side_dataset = sy.Dataset(\n",
    "    name=\"Dataset name\",\n",
    "    description=\"**Dataset description**\",\n",
    "    asset_list=[high_side_asset],\n",
    "    contributors=[main_contributor],\n",
    ")"
   ]
  },
  {
   "cell_type": "code",
   "execution_count": null,
   "id": "9",
   "metadata": {
    "tags": []
   },
   "outputs": [],
   "source": [
    "description_template = \"\"\"### About the dataset\n",
    "This extensive dataset provides a rich collection of demographic and life events records for individuals across multiple countries. It covers a wide range of indicators and attributes related to personal information, birth and death events, gender, occupation, and associated countries. The dataset offers valuable insights into population dynamics and various aspects of human life, enabling comprehensive analyses and cross-country comparisons. The dataset is the largest one on notable deceased people and includes individ- uals from a variety of social groups, including but not limited to 107k females, 90k researchers, and 124 non-binary indi- viduals, spread across more than 300 contemporary or histor- ical regions.\n",
    "\n",
    "### Dataset usage policy\n",
    "This dataset is subject to compliance with internal data use and mis-use policies at our organisation. The following rules apply:\n",
    "- only aggregate statistics can be released from data computation\n",
    "- data subjects should never be identifiable through the data computation outcomes\n",
    "- a fixed privacy budget of eps=5 must be preserved by each researcher\n",
    "\n",
    "### Data collection and pre-processing\n",
    "The dataset is based on open data hosted by Wikimedia Foundation.\n",
    "\n",
    "**Age**\n",
    "Whenever possible, age was calculated based on the birth and death year mentioned in the description of the individual.\n",
    "\n",
    "**Gender**\n",
    "Gender was available in the original dataset for 50% of participants. For the remaining, it was added from predictions based on name, country and century in which they lived. (97.51% accuracy and 98.89% F1-score)\n",
    "\n",
    "**Occupation**\n",
    "The occupation was available in the original dataset for 66% of the individuals. For the remaining, it was added from predictions from a multiclass text classificator model. (93.4% accuracy for 84% of the dataset)\n",
    "\n",
    "More details about the features can be found by reading the paper.\n",
    "\n",
    "### Key features\n",
    "1. **Id**: Unique identifier for each individual.\n",
    "2. **Name**: Name of the person.\n",
    "3. **Short description**: Brief description or summary of the individual.\n",
    "4. **Gender**: Gender/s of the individual.\n",
    "5. **Country**: Countries/Kingdoms of residence and/or origin.\n",
    "6. **Occupation**: Occupation or profession of the individual.\n",
    "7. **Birth year**: Year of birth for the individual.\n",
    "8. **Death year**: Year of death for the individual.\n",
    "9. **Manner of death**: Details about the circumstances or manner of death.\n",
    "10. **Age of death**: Age at the time of death for the individual.\n",
    "11. **Associated Countries**: Modern Day Countries associated with the individual.\n",
    "12. **Associated Country Coordinates (Lat/Lon)**: Modern Day Latitude and longitude coordinates of the associated countries.\n",
    "13. **Associated Country Life Expectancy**: Life expectancy of the associated countries.\n",
    "\n",
    "### Use cases\n",
    "- Analyze demographic trends and birth rates in different countries.\n",
    "- Investigate factors affecting life expectancy and mortality rates.\n",
    "- Study the relationship between gender and occupation across regions.\n",
    "- Explore correlations between age of death and associated country attributes.\n",
    "- Examine patterns of migration and associated countries' life expectancy.\n",
    "\n",
    "\n",
    "### Getting started\n",
    "\n",
    "```\n",
    "!curl -O https://openminedblob.blob.core.windows.net/csvs/ages_dataset.csv\n",
    "\n",
    "age_df = pd.read_csv(\"ages_dataset.csv\")\n",
    "```\n",
    "\n",
    "### Execution environment\n",
    "The data is hosted in a remote compute environment with the following specifications:\n",
    "- X CPU cores\n",
    "- 1 GPU of type Y\n",
    "- Z RAM\n",
    "- A additional available storage\n",
    "\n",
    "### Citation\n",
    "Annamoradnejad, Issa; Annamoradnejad, Rahimberdi (2022), “Age dataset: A structured general-purpose dataset on life, work, and death of 1.22 million distinguished people”, In Workshop Proceedings of the 16th International AAAI Conference on Web and Social Media (ICWSM), doi: 10.36190/2022.82\n",
    "\"\"\""
   ]
  },
  {
   "cell_type": "code",
   "execution_count": null,
   "id": "10",
   "metadata": {
    "tags": []
   },
   "outputs": [],
   "source": [
    "# Complete example: creating a dataset with one asset\n",
    "\n",
    "low_side_dataset = sy.Dataset(\n",
    "    name=\"Dataset name\",\n",
    "    description=description_template,\n",
    "    asset_list=[sy.Asset(name=\"Age Data 2023\", data=age_df, mock=age_mock_df)],\n",
    "    contributors=[main_contributor],\n",
    ")"
   ]
  },
  {
   "cell_type": "code",
   "execution_count": null,
   "id": "11",
   "metadata": {
    "tags": []
   },
   "outputs": [],
   "source": [
    "# Uploading the dataset\n",
    "domain.upload_dataset(low_side_dataset)"
   ]
  },
  {
   "cell_type": "code",
   "execution_count": null,
   "id": "12",
   "metadata": {
    "tags": []
   },
   "outputs": [],
   "source": [
    "# returns a list of all the available datasets for that domain (or empty list if none)\n",
    "domain.datasets"
   ]
  },
  {
   "cell_type": "code",
   "execution_count": null,
   "id": "13",
   "metadata": {
    "tags": []
   },
   "outputs": [],
   "source": [
    "# access a particular dataset by its index, or by its unique key (name)\n",
    "# domain.datasets[0] # or domain.datasets[\"Dataset name\"]"
   ]
  },
  {
   "cell_type": "code",
   "execution_count": null,
   "id": "14",
   "metadata": {
    "tags": []
   },
   "outputs": [],
   "source": [
    "# access a particular asset by its index, or by its unique key (name)\n",
    "asset = domain.datasets[0].assets[0]  # or domain.datasets[0].assets[\"Age Data 2023\"]"
   ]
  },
  {
   "cell_type": "code",
   "execution_count": null,
   "id": "15",
   "metadata": {
    "tags": []
   },
   "outputs": [],
   "source": [
    "# Access the mock or the real data within an asset\n",
    "dataset = domain.datasets[0]\n",
    "\n",
    "mock_data = dataset.assets[0].mock  # or dataset.assets[0].data, for the real data"
   ]
  },
  {
   "cell_type": "code",
   "execution_count": null,
   "id": "16",
   "metadata": {},
   "outputs": [],
   "source": [
    "# access the markdown description of the dataset\n",
    "domain.datasets[0].description"
   ]
  },
  {
   "cell_type": "code",
   "execution_count": null,
   "id": "17",
   "metadata": {},
   "outputs": [],
   "source": []
  }
 ],
 "metadata": {
  "kernelspec": {
   "display_name": "Python 3 (ipykernel)",
   "language": "python",
   "name": "python3"
  },
  "language_info": {
   "codemirror_mode": {
    "name": "ipython",
    "version": 3
   },
   "file_extension": ".py",
   "mimetype": "text/x-python",
   "name": "python",
   "nbconvert_exporter": "python",
   "pygments_lexer": "ipython3",
   "version": "3.12.2"
  }
 },
 "nbformat": 4,
 "nbformat_minor": 5
}

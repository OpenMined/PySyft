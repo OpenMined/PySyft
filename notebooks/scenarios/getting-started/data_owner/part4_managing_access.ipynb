{
 "cells": [
  {
   "cell_type": "code",
   "execution_count": null,
   "id": "0",
   "metadata": {
    "tags": [
     "hide-output",
     "hide_output"
    ]
   },
   "outputs": [],
   "source": [
    "# syft absolute\n",
    "import syft as sy\n",
    "\n",
    "SYFT_VERSION = \">=0.9.0,<0.9.1\"\n",
    "sy.requires(SYFT_VERSION)"
   ]
  },
  {
   "cell_type": "code",
   "execution_count": null,
   "id": "1",
   "metadata": {
    "tags": [
     "hide-output",
     "hide_output"
    ]
   },
   "outputs": [],
   "source": [
    "node = sy.orchestra.launch(name=\"test_domain\", port=8080, dev_mode=False, reset=True)\n",
    "\n",
    "# logging in as root client with default credentials\n",
    "root_client = sy.login(email=\"info@openmined.org\", password=\"changethis\", port=8080)"
   ]
  },
  {
   "cell_type": "code",
   "execution_count": null,
   "id": "2",
   "metadata": {},
   "outputs": [],
   "source": [
    "# @leriomaggio this user.create should be autosplat"
   ]
  },
  {
   "cell_type": "code",
   "execution_count": null,
   "id": "3",
   "metadata": {
    "tags": []
   },
   "outputs": [],
   "source": [
    "# from syft.service.user.user import UserCreate\n",
    "\n",
    "# # creating a new user\n",
    "# root_client.users.create(UserCreate(email=\"newuser@openmined.org\", name=\"John Doe\", password=\"pw\"))"
   ]
  },
  {
   "cell_type": "code",
   "execution_count": null,
   "id": "4",
   "metadata": {},
   "outputs": [],
   "source": [
    "root_client.users.create(email=\"newuser@openmined.org\", name=\"John Doe\", password=\"pw\")"
   ]
  },
  {
   "cell_type": "code",
   "execution_count": null,
   "id": "5",
   "metadata": {
    "tags": []
   },
   "outputs": [],
   "source": [
    "# Returns a list of all the existing users in the domain\n",
    "users = root_client.users\n",
    "users"
   ]
  },
  {
   "cell_type": "code",
   "execution_count": null,
   "id": "6",
   "metadata": {
    "tags": []
   },
   "outputs": [],
   "source": [
    "# Selecting an user by index\n",
    "users[1].name"
   ]
  },
  {
   "cell_type": "code",
   "execution_count": null,
   "id": "7",
   "metadata": {},
   "outputs": [],
   "source": [
    "# @leriomaggio use user.search"
   ]
  },
  {
   "cell_type": "code",
   "execution_count": null,
   "id": "8",
   "metadata": {
    "tags": []
   },
   "outputs": [],
   "source": [
    "# # Selecting an user by filtering\n",
    "# new_user = [u for u in users if u.email == \"newuser@openmined.org\"][0]\n",
    "# new_user.name"
   ]
  },
  {
   "cell_type": "code",
   "execution_count": null,
   "id": "9",
   "metadata": {},
   "outputs": [],
   "source": [
    "root_client.refresh()"
   ]
  },
  {
   "cell_type": "code",
   "execution_count": null,
   "id": "10",
   "metadata": {},
   "outputs": [],
   "source": [
    "new_user = root_client.api.services.user.search(email=\"newuser@openmined.org\")[0]\n",
    "new_user.name"
   ]
  },
  {
   "cell_type": "code",
   "execution_count": null,
   "id": "11",
   "metadata": {},
   "outputs": [],
   "source": [
    "# @leriomaggio use user.update with autosplat, also we try to never allow args, only kwargs to avoid arg confusion so use uid=new_user.id"
   ]
  },
  {
   "cell_type": "code",
   "execution_count": null,
   "id": "12",
   "metadata": {
    "tags": []
   },
   "outputs": [],
   "source": [
    "# from syft.service.user.user import UserUpdate, ServiceRole\n",
    "\n",
    "# root_client.users.update(new_user.id, UserUpdate(name=\"Updated John Doe\", role=ServiceRole.GUEST, password=\"123\"))"
   ]
  },
  {
   "cell_type": "code",
   "execution_count": null,
   "id": "13",
   "metadata": {},
   "outputs": [],
   "source": [
    "root_client.users.update(\n",
    "    uid=new_user.id, name=\"Updated John Doe\", role=sy.ServiceRole.GUEST, password=\"123\"\n",
    ")"
   ]
  },
  {
   "cell_type": "markdown",
   "id": "14",
   "metadata": {},
   "source": [
    "### User deletion"
   ]
  },
  {
   "cell_type": "markdown",
   "id": "15",
   "metadata": {},
   "source": [
    "A root client can delete users using the `user.delete()` function, which takes:\n",
    "- uid (type: str): mandatory, the id of the user to be deleted"
   ]
  },
  {
   "cell_type": "code",
   "execution_count": null,
   "id": "16",
   "metadata": {
    "tags": []
   },
   "outputs": [],
   "source": [
    "root_client.users.delete(new_user.id)"
   ]
  },
  {
   "cell_type": "code",
   "execution_count": null,
   "id": "17",
   "metadata": {},
   "outputs": [],
   "source": [
    "root_client.settings.allow_guest_signup(enable=True)"
   ]
  },
  {
   "cell_type": "code",
   "execution_count": null,
   "id": "18",
   "metadata": {},
   "outputs": [],
   "source": [
    "# @leriomaggio should this be login_as_guest?"
   ]
  },
  {
   "cell_type": "code",
   "execution_count": null,
   "id": "19",
   "metadata": {},
   "outputs": [],
   "source": [
    "# # connect to the discoverable domain\n",
    "# discoverable_domain = sy.orchestra.launch(name=\"test_domain\", port=8080, dev_mode=False, reset=True)"
   ]
  },
  {
   "cell_type": "code",
   "execution_count": null,
   "id": "20",
   "metadata": {},
   "outputs": [],
   "source": [
    "discoverable_domain = sy.login_as_guest(port=8080)"
   ]
  },
  {
   "cell_type": "code",
   "execution_count": null,
   "id": "21",
   "metadata": {},
   "outputs": [],
   "source": [
    "# register the account\n",
    "discoverable_domain.register(\n",
    "    email=\"scientist@test.com\",\n",
    "    password=\"123\",\n",
    "    password_verify=\"123\",\n",
    "    name=\"Curious Scientist\",\n",
    ");"
   ]
  }
 ],
 "metadata": {
  "kernelspec": {
   "display_name": "Python 3 (ipykernel)",
   "language": "python",
   "name": "python3"
  },
  "language_info": {
   "codemirror_mode": {
    "name": "ipython",
    "version": 3
   },
   "file_extension": ".py",
   "mimetype": "text/x-python",
   "name": "python",
   "nbconvert_exporter": "python",
   "pygments_lexer": "ipython3",
   "version": "3.12.2"
  }
 },
 "nbformat": 4,
 "nbformat_minor": 5
}

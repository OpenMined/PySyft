{
 "cells": [
  {
   "cell_type": "code",
   "execution_count": null,
   "id": "0",
   "metadata": {
    "tags": [
     "hide-output",
     "hide_output"
    ]
   },
   "outputs": [],
   "source": [
    "# TODO: also move to dataset repo\n",
    "# stdlib\n",
    "import os\n",
    "\n",
    "if not os.path.exists(\"ages_dataset.csv\"):\n",
    "    !curl -O https://openminedblob.blob.core.windows.net/csvs/ages_dataset.csv\n",
    "\n",
    "if not os.path.exists(\"ages_mock_dataset.csv\"):\n",
    "    !curl -O https://openminedblob.blob.core.windows.net/csvs/ages_mock_dataset.csv"
   ]
  },
  {
   "cell_type": "code",
   "execution_count": null,
   "id": "1",
   "metadata": {
    "tags": [
     "hide-output",
     "hide-input"
    ]
   },
   "outputs": [],
   "source": [
    "def helper_function():\n",
    "    # third party\n",
    "    import pandas as pd\n",
    "\n",
    "    # syft absolute\n",
    "    import syft as sy\n",
    "\n",
    "    # launching a test node\n",
    "    _ = sy.orchestra.launch(name=\"test_domain\", port=8085, dev_mode=False, reset=True)\n",
    "\n",
    "    # logging in with default credentials (only for example)\n",
    "    domain = sy.login(email=\"info@openmined.org\", password=\"changethis\", port=8085)\n",
    "\n",
    "    age_df = pd.read_csv(\"ages_dataset.csv\")\n",
    "    age_df = age_df.dropna(how=\"any\")\n",
    "\n",
    "    age_mock_df = pd.read_csv(\"ages_mock_dataset.csv\")\n",
    "    age_mock_df = age_mock_df.dropna(how=\"any\")\n",
    "\n",
    "    dataset = sy.Dataset(\n",
    "        name=\"Age Dataset\",\n",
    "        description=\"some description\",\n",
    "        asset_list=[\n",
    "            sy.Asset(\n",
    "                name=\"Age Data 2023\",\n",
    "                data=age_df,\n",
    "                mock=age_mock_df,\n",
    "            )\n",
    "        ],\n",
    "    )\n",
    "\n",
    "    dataset.add_contributor(name=\"Markus\", role=\"Uploader\", email=\"markus@gmail.com\")\n",
    "    dataset.assets[0].add_contributor(\n",
    "        name=\"Markus\", role=\"Uploader\", email=\"markus@gmail.com\"\n",
    "    )\n",
    "\n",
    "    # Uploading the dataset\n",
    "    domain.upload_dataset(dataset)\n",
    "\n",
    "    # Register a new user as a GUEST\n",
    "    domain.register(\n",
    "        name=\"Jane Doe\",\n",
    "        email=\"jane@caltech.edu\",\n",
    "        password=\"abc123\",\n",
    "        password_verify=\"abc123\",\n",
    "        institution=\"California Institute of Technology\",\n",
    "    )\n",
    "\n",
    "\n",
    "def helper_function_approval():\n",
    "    # syft absolute\n",
    "    import syft as sy\n",
    "\n",
    "    domain = sy.login(email=\"info@openmined.org\", password=\"changethis\", port=8085)\n",
    "    requests = domain.requests\n",
    "    requests[0].approve()\n",
    "\n",
    "\n",
    "def helper_function_denial():\n",
    "    # syft absolute\n",
    "    import syft as sy\n",
    "\n",
    "    domain = sy.login(email=\"info@openmined.org\", password=\"changethis\", port=8085)\n",
    "    requests = domain.requests\n",
    "    requests[0].deny(reason=\"Please add appropriate noise level.\")\n",
    "\n",
    "\n",
    "helper_function()"
   ]
  },
  {
   "cell_type": "code",
   "execution_count": null,
   "id": "2",
   "metadata": {},
   "outputs": [],
   "source": [
    "# syft absolute\n",
    "# Login as guest / data scientist\n",
    "import syft as sy\n",
    "\n",
    "client = sy.login(port=\"8085\", email=\"jane@caltech.edu\", password=\"abc123\")"
   ]
  },
  {
   "cell_type": "code",
   "execution_count": null,
   "id": "3",
   "metadata": {
    "tags": []
   },
   "outputs": [],
   "source": [
    "# Select mock data\n",
    "\n",
    "mock_df = client.datasets[0].assets[0].mock"
   ]
  },
  {
   "cell_type": "code",
   "execution_count": null,
   "id": "4",
   "metadata": {
    "tags": []
   },
   "outputs": [],
   "source": [
    "mock_df.head()"
   ]
  },
  {
   "cell_type": "code",
   "execution_count": null,
   "id": "5",
   "metadata": {
    "tags": []
   },
   "outputs": [],
   "source": [
    "mock_df[mock_df[\"Manner of death\"] == \"natural causes\"][\"Age of death\"].mean()"
   ]
  },
  {
   "cell_type": "code",
   "execution_count": null,
   "id": "6",
   "metadata": {
    "tags": []
   },
   "outputs": [],
   "source": [
    "# first, extract the desired asset -- will be passed to input_policy\n",
    "\n",
    "mock = client.datasets[0].assets[0]"
   ]
  },
  {
   "cell_type": "code",
   "execution_count": null,
   "id": "7",
   "metadata": {
    "tags": []
   },
   "outputs": [],
   "source": [
    "# basic template for the query function\n",
    "\n",
    "\n",
    "@sy.syft_function(\n",
    "    input_policy=sy.ExactMatch(private_dataset=mock),\n",
    "    output_policy=sy.SingleExecutionExactOutput(),\n",
    ")\n",
    "def example_function(private_dataset):\n",
    "    # customize your query here\n",
    "    pass"
   ]
  },
  {
   "cell_type": "code",
   "execution_count": null,
   "id": "8",
   "metadata": {
    "tags": []
   },
   "outputs": [],
   "source": [
    "@sy.syft_function_single_use(private_dataset=mock)\n",
    "def example_function_shorter_annotation(private_dataset):\n",
    "    # customize your query here\n",
    "    pass"
   ]
  },
  {
   "cell_type": "code",
   "execution_count": null,
   "id": "9",
   "metadata": {
    "tags": []
   },
   "outputs": [],
   "source": [
    "# the parameter name needs to match the argument name specified in the input policy (e.g. `bubble_tea_data`)\n",
    "\n",
    "\n",
    "mock = client.datasets[0].assets[0]\n",
    "\n",
    "\n",
    "@sy.syft_function_single_use(private_dataset=mock)\n",
    "def average_age_of_death_for_natural_causes_v0(private_dataset):\n",
    "    # customize your query here\n",
    "\n",
    "    df = private_dataset\n",
    "    result = df[df[\"Manner of death\"] == \"natural causes\"][\"Age of death\"].mean()\n",
    "\n",
    "    return float(result)"
   ]
  },
  {
   "cell_type": "code",
   "execution_count": null,
   "id": "10",
   "metadata": {
    "tags": []
   },
   "outputs": [],
   "source": [
    "result = average_age_of_death_for_natural_causes_v0(private_dataset=mock)\n",
    "print(f\"Result from function call: {result}\")"
   ]
  },
  {
   "cell_type": "code",
   "execution_count": null,
   "id": "11",
   "metadata": {
    "tags": []
   },
   "outputs": [],
   "source": [
    "# The result above should be equal to the same code run locally\n",
    "\n",
    "result_local_computation = mock_df[mock_df[\"Manner of death\"] == \"natural causes\"][\n",
    "    \"Age of death\"\n",
    "].mean()\n",
    "print(f\"Result from local computation: {result_local_computation}\")"
   ]
  },
  {
   "cell_type": "code",
   "execution_count": null,
   "id": "12",
   "metadata": {
    "tags": []
   },
   "outputs": [],
   "source": [
    "average_age_of_death_for_natural_causes_v0.input_policy_type"
   ]
  },
  {
   "cell_type": "code",
   "execution_count": null,
   "id": "13",
   "metadata": {
    "tags": []
   },
   "outputs": [],
   "source": [
    "average_age_of_death_for_natural_causes_v0.output_policy_type"
   ]
  },
  {
   "cell_type": "code",
   "execution_count": null,
   "id": "14",
   "metadata": {
    "tags": []
   },
   "outputs": [],
   "source": [
    "print(average_age_of_death_for_natural_causes_v0.code)"
   ]
  },
  {
   "cell_type": "code",
   "execution_count": null,
   "id": "15",
   "metadata": {
    "tags": []
   },
   "outputs": [],
   "source": [
    "# OpenDP documentation for mean:\n",
    "# https://docs.opendp.org/en/stable/user/transformations/aggregation-mean.html\n",
    "# The code below is taken from the link above, and only the data and bounds are updated\n",
    "\n",
    "\n",
    "@sy.syft_function_single_use(private_dataset=mock)\n",
    "def noisy_average_age_of_death_for_natural_causes_v0(private_dataset):\n",
    "    # third party\n",
    "    from opendp.mod import enable_features\n",
    "    import opendp.prelude as dp\n",
    "\n",
    "    enable_features(\"contrib\")\n",
    "\n",
    "    bounds = (0.0, 100.0)  # setting age bound\n",
    "    df = private_dataset\n",
    "    data = list(\n",
    "        df[df[\"Manner of death\"] == \"natural causes\"][\"Age of death\"].astype(float)\n",
    "    )\n",
    "\n",
    "    input_space = dp.vector_domain(dp.atom_domain(T=float)), dp.symmetric_distance()\n",
    "    count_meas = input_space >> dp.t.then_count() >> dp.m.then_laplace(1.0)\n",
    "    dp_count = count_meas(data)\n",
    "\n",
    "    mean_meas = (\n",
    "        input_space\n",
    "        >> dp.t.then_clamp(bounds)\n",
    "        >> dp.t.then_resize(dp_count, constant=5.0)\n",
    "        >> dp.t.then_mean()\n",
    "        >> dp.m.then_laplace(1.0)\n",
    "    )\n",
    "\n",
    "    return mean_meas(data)"
   ]
  },
  {
   "cell_type": "code",
   "execution_count": null,
   "id": "16",
   "metadata": {
    "tags": []
   },
   "outputs": [],
   "source": [
    "# The noisy result should be slightly different from the real one\n",
    "\n",
    "\n",
    "noisy_result = noisy_average_age_of_death_for_natural_causes_v0(private_dataset=mock)\n",
    "noisy_result"
   ]
  },
  {
   "cell_type": "code",
   "execution_count": null,
   "id": "17",
   "metadata": {},
   "outputs": [],
   "source": [
    "# Create a project\n",
    "\n",
    "new_project = sy.Project(\n",
    "    name=\"Age of death audit\",\n",
    "    description=\"I am working on linking X with Y, and first, I will explore the age of death for various causes worldwide...\",\n",
    "    members=[client],\n",
    ")\n",
    "new_project"
   ]
  },
  {
   "cell_type": "code",
   "execution_count": null,
   "id": "18",
   "metadata": {},
   "outputs": [],
   "source": [
    "# Sent the code to the quest domain. Use the function name to specify which function you want to send.\n",
    "# Note: this is not the proper code submission, that will happen when you submit the project. At this stage,\n",
    "# the data manager will not be able to see your code request, not until you submit the project.\n",
    "\n",
    "new_project.create_code_request(\n",
    "    noisy_average_age_of_death_for_natural_causes_v0, client\n",
    ")"
   ]
  },
  {
   "cell_type": "code",
   "execution_count": null,
   "id": "19",
   "metadata": {
    "tags": []
   },
   "outputs": [],
   "source": [
    "# Add another code request\n",
    "\n",
    "new_project.create_code_request(average_age_of_death_for_natural_causes_v0, client)"
   ]
  },
  {
   "cell_type": "code",
   "execution_count": null,
   "id": "20",
   "metadata": {},
   "outputs": [],
   "source": [
    "# Let's check the code added to the domain\n",
    "\n",
    "client.code"
   ]
  },
  {
   "cell_type": "code",
   "execution_count": null,
   "id": "21",
   "metadata": {
    "tags": []
   },
   "outputs": [],
   "source": [
    "# new_project.start()\n",
    "new_project.send()"
   ]
  },
  {
   "cell_type": "code",
   "execution_count": null,
   "id": "22",
   "metadata": {},
   "outputs": [],
   "source": [
    "# To check your result, you will need the asset again. This is because the code can be run on one or multiple\n",
    "# assets, as specified in the input policy. Our examples will only accept one input, but it might be that some queries\n",
    "# are supported on multiple inputs. For this, specify which result you are looking for.\n",
    "\n",
    "asset = client.datasets[0].assets[0]\n",
    "result = client.code.noisy_average_age_of_death_for_natural_causes_v0(\n",
    "    private_dataset=asset\n",
    ")\n",
    "result"
   ]
  },
  {
   "cell_type": "code",
   "execution_count": null,
   "id": "23",
   "metadata": {},
   "outputs": [],
   "source": [
    "helper_function_approval()"
   ]
  },
  {
   "cell_type": "code",
   "execution_count": null,
   "id": "24",
   "metadata": {
    "tags": []
   },
   "outputs": [],
   "source": [
    "# Now it should be approved:\n",
    "\n",
    "asset = client.datasets[0].assets[0]\n",
    "result = client.code.noisy_average_age_of_death_for_natural_causes_v0(\n",
    "    private_dataset=asset\n",
    ")\n",
    "result"
   ]
  },
  {
   "cell_type": "markdown",
   "id": "25",
   "metadata": {},
   "source": [
    "<div class=\"alert alert-block alert-info\">\n",
    "<b>Info:</b> &#128070; Now this result is coming from the real data! </div>"
   ]
  },
  {
   "cell_type": "code",
   "execution_count": null,
   "id": "26",
   "metadata": {},
   "outputs": [],
   "source": [
    "# I needed to get result twice?\n",
    "result"
   ]
  },
  {
   "cell_type": "code",
   "execution_count": null,
   "id": "27",
   "metadata": {
    "tags": []
   },
   "outputs": [],
   "source": [
    "helper_function_denial()"
   ]
  },
  {
   "cell_type": "code",
   "execution_count": null,
   "id": "28",
   "metadata": {
    "tags": []
   },
   "outputs": [],
   "source": [
    "# Let's check the other request\n",
    "\n",
    "asset = client.datasets[0].assets[0]\n",
    "result = client.code.average_age_of_death_for_natural_causes_v0(private_dataset=asset)\n",
    "result"
   ]
  },
  {
   "cell_type": "code",
   "execution_count": null,
   "id": "29",
   "metadata": {},
   "outputs": [],
   "source": []
  }
 ],
 "metadata": {
  "kernelspec": {
   "display_name": "Python 3 (ipykernel)",
   "language": "python",
   "name": "python3"
  },
  "language_info": {
   "codemirror_mode": {
    "name": "ipython",
    "version": 3
   },
   "file_extension": ".py",
   "mimetype": "text/x-python",
   "name": "python",
   "nbconvert_exporter": "python",
   "pygments_lexer": "ipython3",
   "version": "3.12.2"
  }
 },
 "nbformat": 4,
 "nbformat_minor": 5
}

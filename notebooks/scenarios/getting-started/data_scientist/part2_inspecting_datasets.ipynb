{
 "cells": [
  {
   "cell_type": "code",
   "execution_count": null,
   "id": "0",
   "metadata": {},
   "outputs": [],
   "source": [
    "# TODO: also move to dataset repo\n",
    "# stdlib\n",
    "import os\n",
    "\n",
    "if not os.path.exists(\"ages_dataset.csv\"):\n",
    "    !curl -O https://openminedblob.blob.core.windows.net/csvs/ages_dataset.csv\n",
    "\n",
    "if not os.path.exists(\"ages_mock_dataset.csv\"):\n",
    "    !curl -O https://openminedblob.blob.core.windows.net/csvs/ages_mock_dataset.csv"
   ]
  },
  {
   "cell_type": "code",
   "execution_count": null,
   "id": "1",
   "metadata": {
    "tags": [
     "hide-output",
     "hide-input"
    ]
   },
   "outputs": [],
   "source": [
    "# syft absolute\n",
    "import syft as sy\n",
    "\n",
    "\n",
    "def helper_function():\n",
    "    # third party\n",
    "    import pandas as pd\n",
    "\n",
    "    description_template = \"\"\"### About the dataset\n",
    "This extensive dataset provides a rich collection of demographic and life events records for individuals across multiple countries. It covers a wide range of indicators and attributes related to personal information, birth and death events, gender, occupation, and associated countries. The dataset offers valuable insights into population dynamics and various aspects of human life, enabling comprehensive analyses and cross-country comparisons. The dataset is the largest one on notable deceased people and includes individ- uals from a variety of social groups, including but not limited to 107k females, 90k researchers, and 124 non-binary indi- viduals, spread across more than 300 contemporary or histor- ical regions.\n",
    "\n",
    "### Dataset usage policy\n",
    "This dataset is subject to compliance with internal data use and mis-use policies at our organisation. The following rules apply:\n",
    "- only aggregate statistics can be released from data computation\n",
    "- data subjects should never be identifiable through the data computation outcomes\n",
    "- a fixed privacy budget of eps=5 must be preserved by each researcher\n",
    "\n",
    "### Data collection and pre-processing\n",
    "The dataset is based on open data hosted by Wikimedia Foundation.\n",
    "\n",
    "**Age**\n",
    "Whenever possible, age was calculated based on the birth and death year mentioned in the description of the individual.\n",
    "\n",
    "**Gender**\n",
    "Gender was available in the original dataset for 50% of participants. For the remaining, it was added from predictions based on name, country and century in which they lived. (97.51% accuracy and 98.89% F1-score)\n",
    "\n",
    "**Occupation**\n",
    "The occupation was available in the original dataset for 66% of the individuals. For the remaining, it was added from predictions from a multiclass text classificator model. (93.4% accuracy for 84% of the dataset)\n",
    "\n",
    "More details about the features can be found by reading the paper.\n",
    "\n",
    "### Key features\n",
    "1. **Id**: Unique identifier for each individual.\n",
    "2. **Name**: Name of the person.\n",
    "3. **Short description**: Brief description or summary of the individual.\n",
    "4. **Gender**: Gender/s of the individual.\n",
    "5. **Country**: Countries/Kingdoms of residence and/or origin.\n",
    "6. **Occupation**: Occupation or profession of the individual.\n",
    "7. **Birth year**: Year of birth for the individual.\n",
    "8. **Death year**: Year of death for the individual.\n",
    "9. **Manner of death**: Details about the circumstances or manner of death.\n",
    "10. **Age of death**: Age at the time of death for the individual.\n",
    "11. **Associated Countries**: Modern Day Countries associated with the individual.\n",
    "12. **Associated Country Coordinates (Lat/Lon)**: Modern Day Latitude and longitude coordinates of the associated countries.\n",
    "13. **Associated Country Life Expectancy**: Life expectancy of the associated countries.\n",
    "\n",
    "### Use cases\n",
    "- Analyze demographic trends and birth rates in different countries.\n",
    "- Investigate factors affecting life expectancy and mortality rates.\n",
    "- Study the relationship between gender and occupation across regions.\n",
    "- Explore correlations between age of death and associated country attributes.\n",
    "- Examine patterns of migration and associated countries' life expectancy.\n",
    "\n",
    "\n",
    "### Getting started\n",
    "\n",
    "```\n",
    "!curl -O https://openminedblob.blob.core.windows.net/csvs/ages_dataset.csv\n",
    "!curl -O https://openminedblob.blob.core.windows.net/csvs/ages_mock_dataset.csv\n",
    "\n",
    "age_df = pd.read_csv(\"ages_dataset.csv\")\n",
    "```\n",
    "\n",
    "### Execution environment\n",
    "The data is hosted in a remote compute environment with the following specifications:\n",
    "- X CPU cores\n",
    "- 1 GPU of type Y\n",
    "- Z RAM\n",
    "- A additional available storage\n",
    "\n",
    "### Citation\n",
    "Annamoradnejad, Issa; Annamoradnejad, Rahimberdi (2022), “Age dataset: A structured general-purpose dataset on life, work, and death of 1.22 million distinguished people”, In Workshop Proceedings of the 16th International AAAI Conference on Web and Social Media (ICWSM), doi: 10.36190/2022.82\n",
    "\"\"\"\n",
    "\n",
    "    # launching a test node\n",
    "    node = sy.orchestra.launch(\n",
    "        name=\"test_domain\", port=8085, dev_mode=False, reset=True\n",
    "    )\n",
    "\n",
    "    # logging in with default credentials (only for example)\n",
    "    domain = node.login(email=\"info@openmined.org\", password=\"changethis\", port=8085)\n",
    "\n",
    "    age_df = pd.read_csv(\"ages_dataset.csv\")\n",
    "    age_df = age_df.dropna(how=\"any\")\n",
    "\n",
    "    age_mock_df = pd.read_csv(\"ages_mock_dataset.csv\")\n",
    "    age_mock_df = age_mock_df.dropna(how=\"any\")\n",
    "\n",
    "    level_0_dataset = sy.Dataset(\n",
    "        name=\"Age Dataset\",\n",
    "        description=description_template,\n",
    "        asset_list=[sy.Asset(name=\"Age Data 2023\", data=age_df, mock=age_mock_df)],\n",
    "    )\n",
    "    level_0_dataset.add_contributor(\n",
    "        name=\"Markus\", role=\"Uploader\", email=\"markus@gmail.com\"\n",
    "    )\n",
    "    level_0_dataset.assets[0].add_contributor(\n",
    "        name=\"Markus\", role=\"Uploader\", email=\"markus@gmail.com\"\n",
    "    )\n",
    "\n",
    "    # Uploading the dataset\n",
    "    domain.upload_dataset(level_0_dataset)\n",
    "\n",
    "    # Register a new user as a GUEST\n",
    "    domain.register(\n",
    "        name=\"Jane Doe\",\n",
    "        email=\"jane@caltech.edu\",\n",
    "        password=\"abc123\",\n",
    "        password_verify=\"abc123\",\n",
    "        institution=\"California Institute of Technology\",\n",
    "    )\n",
    "\n",
    "    domain.settings.allow_guest_signup(enable=True)\n",
    "\n",
    "\n",
    "def helper_function_approval():\n",
    "    domain = sy.login(email=\"info@openmined.org\", password=\"changethis\", port=8085)\n",
    "    requests = domain.requests\n",
    "    requests[0].approve()\n",
    "\n",
    "\n",
    "helper_function()"
   ]
  },
  {
   "cell_type": "code",
   "execution_count": null,
   "id": "2",
   "metadata": {},
   "outputs": [],
   "source": [
    "# syft absolute\n",
    "\n",
    "# Join as a GUEST\n",
    "domain = sy.login_as_guest(url=\"localhost\", port=8085)\n",
    "\n",
    "# Create your own account\n",
    "domain.register(\n",
    "    email=\"holmes@bakerstreet.com\",\n",
    "    password=\"SKY5cC2zQPRP\",\n",
    "    password_verify=\"SKY5cC2zQPRP\",\n",
    "    name=\"Holmes\",\n",
    ")\n",
    "\n",
    "# Register and login into the domain with your own set of credentials\n",
    "client = sy.login(\n",
    "    url=\"localhost\", port=8085, email=\"holmes@bakerstreet.com\", password=\"SKY5cC2zQPRP\"\n",
    ")\n",
    "\n",
    "client"
   ]
  },
  {
   "cell_type": "code",
   "execution_count": null,
   "id": "3",
   "metadata": {},
   "outputs": [],
   "source": [
    "# Access a list of all available datasets in the domain\n",
    "client.datasets"
   ]
  },
  {
   "cell_type": "code",
   "execution_count": null,
   "id": "4",
   "metadata": {
    "tags": [
     "hide-output"
    ]
   },
   "outputs": [],
   "source": [
    "# Access one of the datasets in the list by index and store it in a variable for later use\n",
    "\n",
    "dataset = client.datasets[0]\n",
    "dataset"
   ]
  },
  {
   "cell_type": "code",
   "execution_count": null,
   "id": "5",
   "metadata": {},
   "outputs": [],
   "source": [
    "# Access specific properties of a dataset\n",
    "dataset.description"
   ]
  },
  {
   "cell_type": "code",
   "execution_count": null,
   "id": "6",
   "metadata": {},
   "outputs": [],
   "source": [
    "# Access the list of assets attached to a dataset. In this dataset, there is just one asset\n",
    "dataset.assets"
   ]
  },
  {
   "cell_type": "code",
   "execution_count": null,
   "id": "7",
   "metadata": {
    "tags": []
   },
   "outputs": [],
   "source": [
    "asset = dataset.assets[0]"
   ]
  },
  {
   "cell_type": "code",
   "execution_count": null,
   "id": "8",
   "metadata": {},
   "outputs": [],
   "source": [
    "# Access data (mock data) from an asset (Approach 1)\n",
    "\n",
    "mock_df = dataset.assets[0].mock\n",
    "mock_df"
   ]
  },
  {
   "cell_type": "code",
   "execution_count": null,
   "id": "9",
   "metadata": {},
   "outputs": [],
   "source": [
    "print(mock_df.shape)\n",
    "mock_df.head()"
   ]
  },
  {
   "cell_type": "code",
   "execution_count": null,
   "id": "10",
   "metadata": {},
   "outputs": [],
   "source": [
    "mock_df.describe()"
   ]
  },
  {
   "cell_type": "code",
   "execution_count": null,
   "id": "11",
   "metadata": {},
   "outputs": [],
   "source": [
    "real_df = dataset.assets[0].data\n",
    "real_df"
   ]
  },
  {
   "cell_type": "code",
   "execution_count": null,
   "id": "12",
   "metadata": {},
   "outputs": [],
   "source": [
    "print(type(real_df))"
   ]
  },
  {
   "cell_type": "markdown",
   "id": "13",
   "metadata": {},
   "source": []
  }
 ],
 "metadata": {
  "kernelspec": {
   "display_name": "Python 3 (ipykernel)",
   "language": "python",
   "name": "python3"
  },
  "language_info": {
   "codemirror_mode": {
    "name": "ipython",
    "version": 3
   },
   "file_extension": ".py",
   "mimetype": "text/x-python",
   "name": "python",
   "nbconvert_exporter": "python",
   "pygments_lexer": "ipython3",
   "version": "3.12.2"
  }
 },
 "nbformat": 4,
 "nbformat_minor": 5
}

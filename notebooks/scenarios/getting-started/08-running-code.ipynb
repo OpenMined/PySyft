{
 "cells": [
  {
   "cell_type": "code",
   "execution_count": 1,
   "id": "6f674a77-fcb7-4e99-87a1-daf12094d3aa",
   "metadata": {},
   "outputs": [],
   "source": [
    "# -- executing approved code\n",
    "# -- working with jobs\n",
    "# -- refreshing\n",
    "# -- viewing logs\n",
    "# -- getting final result\n",
    "# -- success"
   ]
  },
  {
   "cell_type": "code",
   "execution_count": null,
   "id": "363c56db-4c7c-458d-9a63-108eda0fcef7",
   "metadata": {},
   "outputs": [],
   "source": []
  }
 ],
 "metadata": {
  "kernelspec": {
   "display_name": "Python 3 (ipykernel)",
   "language": "python",
   "name": "python3"
  },
  "language_info": {
   "codemirror_mode": {
    "name": "ipython",
    "version": 3
   },
   "file_extension": ".py",
   "mimetype": "text/x-python",
   "name": "python",
   "nbconvert_exporter": "python",
   "pygments_lexer": "ipython3",
   "version": "3.12.2"
  }
 },
 "nbformat": 4,
 "nbformat_minor": 5
}

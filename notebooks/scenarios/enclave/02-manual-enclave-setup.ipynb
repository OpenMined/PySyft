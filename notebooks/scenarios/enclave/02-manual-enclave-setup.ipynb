{
 "cells": [
  {
   "cell_type": "code",
   "execution_count": 1,
   "metadata": {},
   "outputs": [],
   "source": [
    "# syft absolute\n",
    "import syft as sy"
   ]
  },
  {
   "cell_type": "code",
   "execution_count": 2,
   "metadata": {},
   "outputs": [],
   "source": [
    "# create enclave server on Azure\n",
    "# skip the need for custom worker pools and images by using transformers package already included"
   ]
  },
  {
   "cell_type": "code",
   "execution_count": 4,
   "metadata": {},
   "outputs": [
    {
     "name": "stdout",
     "output_type": "stream",
     "text": [
      "Autoreload enabled\n",
      "Starting azure-h100-enclave server on 0.0.0.0:8083\n"
     ]
    },
    {
     "name": "stderr",
     "output_type": "stream",
     "text": [
      "INFO:     Will watch for changes in these directories: ['/Users/rasswanth/PySyft/packages/syft/src/syft']\n",
      "INFO:     Uvicorn running on http://0.0.0.0:8083 (Press CTRL+C to quit)\n",
      "INFO:     Started reloader process [22316] using WatchFiles\n",
      "INFO:     Started server process [22317]\n",
      "INFO:     Waiting for application startup.\n",
      "INFO:     Application startup complete.\n"
     ]
    },
    {
     "name": "stdout",
     "output_type": "stream",
     "text": [
      "WARN: private key is based on server name: azure-h100-enclave in dev_mode. Don't run this in production.\n",
      "Document Store's SQLite DB path: /var/folders/sv/hpz5f1k97652j6dlvn98v8s40000gn/T/syft/3ea33ab41d1349d29d94545fde3b6721/db/3ea33ab41d1349d29d94545fde3b6721.sqlite\n",
      "Action Store's SQLite DB path: /var/folders/sv/hpz5f1k97652j6dlvn98v8s40000gn/T/syft/3ea33ab41d1349d29d94545fde3b6721/db/3ea33ab41d1349d29d94545fde3b6721.sqlite\n",
      "INFO:     127.0.0.1:59546 - \"GET /api/v2/metadata HTTP/1.1\" 200 OK\n",
      " Done.\n"
     ]
    },
    {
     "data": {
      "text/html": [
       "<div class=\"alert-info\" style=\"padding:5px;\"><strong>SyftInfo</strong>: <span class=\"alert-info\" style=\"display:inline; font-family:inherit;\">You have launched a development server at http://0.0.0.0:8083.It is intended only for local use.</span></div><br/>"
      ],
      "text/plain": [
       "SyftInfo: You have launched a development server at http://0.0.0.0:8083.It is intended only for local use."
      ]
     },
     "metadata": {},
     "output_type": "display_data"
    }
   ],
   "source": [
    "# syft absolute\n",
    "from syft.abstract_server import ServerType\n",
    "\n",
    "azure_h100_enclave = sy.orchestra.launch(\n",
    "    name=\"azure-h100-enclave\",\n",
    "    server_type=ServerType.ENCLAVE,\n",
    "    port=8083,\n",
    "    create_producer=True,\n",
    "    n_consumers=3,\n",
    "    dev_mode=True,\n",
    ")"
   ]
  },
  {
   "cell_type": "code",
   "execution_count": null,
   "metadata": {},
   "outputs": [],
   "source": [
    "# attach to primary domain"
   ]
  },
  {
   "cell_type": "code",
   "execution_count": 5,
   "metadata": {},
   "outputs": [
    {
     "name": "stdout",
     "output_type": "stream",
     "text": [
      "Logged into <model-owner: High side Datasite> as <info@openmined.org>\n"
     ]
    },
    {
     "data": {
      "text/html": [
       "<div class=\"alert-warning\" style=\"padding:5px;\"><strong>SyftWarning</strong>: <span class=\"alert-warning\" style=\"display:inline; font-family:inherit;\">You are using a default password. Please change the password using `[your_client].account.set_password([new_password])`.</span></div><br/>"
      ],
      "text/plain": [
       "SyftWarning: You are using a default password. Please change the password using `[your_client].account.set_password([new_password])`."
      ]
     },
     "metadata": {},
     "output_type": "display_data"
    }
   ],
   "source": [
    "# model_owner_datasite = sy.orchestra.launch(\n",
    "#     name=\"model-owner\", port=8081, dev_mode=True\n",
    "# )\n",
    "model_owner_client = sy.login(\n",
    "    url=\"http://localhost:8081\", email=\"info@openmined.org\", password=\"changethis\"\n",
    ")\n",
    "\n",
    "\n",
    "# model_owner_datasite.land()"
   ]
  },
  {
   "cell_type": "code",
   "execution_count": 6,
   "metadata": {},
   "outputs": [
    {
     "name": "stdout",
     "output_type": "stream",
     "text": [
      "INFO:     127.0.0.1:59570 - \"GET /api/v2/metadata HTTP/1.1\" 200 OK\n"
     ]
    },
    {
     "data": {
      "text/html": [
       "<div class=\"alert-success\" style=\"padding:5px;\"><strong>SyftSuccess</strong>: <span class=\"alert-success\" style=\"display:inline; font-family:inherit;\">Enclave 'azure-h100-enclave' added to 'model-owner' on 'http://localhost:8083'.</span></div><br/>"
      ],
      "text/plain": [
       "SyftSuccess: Enclave 'azure-h100-enclave' added to 'model-owner' on 'http://localhost:8083'."
      ]
     },
     "execution_count": 6,
     "metadata": {},
     "output_type": "execute_result"
    }
   ],
   "source": [
    "model_owner_client.enclaves.add(url=f\"http://localhost:8083\")"
   ]
  },
  {
   "cell_type": "code",
   "execution_count": 8,
   "metadata": {},
   "outputs": [],
   "source": [
    "enclaves = model_owner_client.enclaves.get_all()"
   ]
  },
  {
   "cell_type": "code",
   "execution_count": 9,
   "metadata": {},
   "outputs": [
    {
     "data": {
      "text/markdown": [
       "```python\n",
       "class EnclaveInstance:\n",
       "  id = 3ea33ab41d1349d29d94545fde3b6721\n",
       "  name = azure-h100-enclave\n",
       "  route = http://localhost:8083\n",
       "  status = EnclaveStatus.IDLE\n",
       "  verify_key = c7c66e51d8c0ba34b0e3d1129f84957bc2e6b781cf05009429be08d2d9396d09\n",
       "  syft_version = 0.8.8-beta.2\n",
       "  server_type = enclave\n",
       "  organization = OpenMined\n",
       "  admin_email = \"\"\n",
       "  server_side_type = high\n",
       "\n",
       "```"
      ],
      "text/plain": [
       "<Enclave: azure-h100-enclave>"
      ]
     },
     "execution_count": 9,
     "metadata": {},
     "output_type": "execute_result"
    },
    {
     "name": "stdout",
     "output_type": "stream",
     "text": [
      "INFO:     127.0.0.1:60310 - \"GET /api/v2/metadata HTTP/1.1\" 200 OK\n",
      "INFO:     127.0.0.1:60310 - \"GET /api/v2/api?verify_key=df178bc7b81deeb27d3344962a6df64c80792b9e46ed25eb3f862a0d8ffbca57&communication_protocol=dev HTTP/1.1\" 200 OK\n",
      "INFO:     127.0.0.1:60312 - \"POST /api/v2/api_call HTTP/1.1\" 200 OK\n",
      "INFO:     127.0.0.1:60407 - \"GET /api/v2/metadata HTTP/1.1\" 200 OK\n",
      "INFO:     127.0.0.1:60407 - \"GET /api/v2/api?verify_key=df178bc7b81deeb27d3344962a6df64c80792b9e46ed25eb3f862a0d8ffbca57&communication_protocol=dev HTTP/1.1\" 200 OK\n",
      "INFO:     127.0.0.1:60409 - \"POST /api/v2/api_call HTTP/1.1\" 200 OK\n",
      "INFO:     127.0.0.1:60413 - \"GET /api/v2/metadata HTTP/1.1\" 200 OK\n",
      "INFO:     127.0.0.1:60413 - \"GET /api/v2/api?verify_key=df178bc7b81deeb27d3344962a6df64c80792b9e46ed25eb3f862a0d8ffbca57&communication_protocol=dev HTTP/1.1\" 200 OK\n",
      "INFO:     127.0.0.1:60415 - \"POST /api/v2/api_call HTTP/1.1\" 200 OK\n",
      "INFO:     127.0.0.1:60423 - \"POST /api/v2/api_call HTTP/1.1\" 200 OK\n",
      "INFO:     127.0.0.1:60427 - \"POST /api/v2/api_call HTTP/1.1\" 200 OK\n",
      "INFO:     127.0.0.1:60434 - \"GET /api/v2/metadata HTTP/1.1\" 200 OK\n",
      "INFO:     127.0.0.1:60434 - \"GET /api/v2/api?verify_key=df178bc7b81deeb27d3344962a6df64c80792b9e46ed25eb3f862a0d8ffbca57&communication_protocol=dev HTTP/1.1\" 200 OK\n",
      "INFO:     127.0.0.1:60436 - \"POST /api/v2/api_call HTTP/1.1\" 200 OK\n",
      "INFO:     127.0.0.1:60444 - \"POST /api/v2/api_call HTTP/1.1\" 200 OK\n",
      "INFO:     127.0.0.1:60446 - \"POST /api/v2/api_call HTTP/1.1\" 200 OK\n",
      "✅Asset with id '82bec6bce07d4e6e8d4be4ff00834123' has the correct hash: d6886b04c20f196aae2fc0f090b2af3f1aa699b5e69ed55fa1837f444f50633e\n",
      "INFO:     127.0.0.1:60454 - \"POST /api/v2/api_call HTTP/1.1\" 200 OK\n",
      "INFO:     127.0.0.1:60458 - \"GET /api/v2/metadata HTTP/1.1\" 200 OK\n",
      "INFO:     127.0.0.1:60460 - \"GET /api/v2/api?verify_key=bb7c474855be928d40c2c85acc20ee3e08eef88356bb009963a51ec8c8d905a2&communication_protocol=dev HTTP/1.1\" 200 OK\n",
      "INFO:     127.0.0.1:60462 - \"POST /api/v2/api_call HTTP/1.1\" 200 OK\n",
      "INFO:     127.0.0.1:60464 - \"POST /api/v2/api_call HTTP/1.1\" 200 OK\n",
      "INFO:     127.0.0.1:60466 - \"POST /api/v2/api_call HTTP/1.1\" 200 OK\n",
      "INFO:     127.0.0.1:60468 - \"POST /api/v2/api_call HTTP/1.1\" 200 OK\n",
      "INFO:     127.0.0.1:60476 - \"POST /api/v2/api_call HTTP/1.1\" 200 OK\n",
      "INFO:     127.0.0.1:60478 - \"POST /api/v2/api_call HTTP/1.1\" 200 OK\n",
      "✅Asset with id '300ab6a35b2c40bf89a9e917e2f06cc2' has the correct hash: 33d2c5ef048ae35209a43b1c113fa077178ed66beb2e93b59516944ef443e760\n",
      "INFO:     127.0.0.1:60486 - \"POST /api/v2/api_call HTTP/1.1\" 200 OK\n",
      "INFO:     127.0.0.1:60489 - \"GET /api/v2/metadata HTTP/1.1\" 200 OK\n",
      "INFO:     127.0.0.1:60489 - \"GET /api/v2/api?verify_key=268286d9ff14a2d9bacb17d9d47d2a408b31234b112e6b314744b87be975b9c4&communication_protocol=dev HTTP/1.1\" 200 OK\n",
      "INFO:     127.0.0.1:60491 - \"POST /api/v2/api_call HTTP/1.1\" 200 OK\n",
      "INFO:     127.0.0.1:60502 - \"GET /api/v2/metadata HTTP/1.1\" 200 OK\n",
      "INFO:     127.0.0.1:60502 - \"GET /api/v2/api?verify_key=df178bc7b81deeb27d3344962a6df64c80792b9e46ed25eb3f862a0d8ffbca57&communication_protocol=dev HTTP/1.1\" 200 OK\n",
      "INFO:     127.0.0.1:60504 - \"POST /api/v2/api_call HTTP/1.1\" 200 OK\n",
      "INFO:     127.0.0.1:60528 - \"GET /api/v2/metadata HTTP/1.1\" 200 OK\n",
      "INFO:     127.0.0.1:60528 - \"GET /api/v2/api?verify_key=bb7c474855be928d40c2c85acc20ee3e08eef88356bb009963a51ec8c8d905a2&communication_protocol=dev HTTP/1.1\" 200 OK\n",
      "INFO:     127.0.0.1:60530 - \"POST /api/v2/api_call HTTP/1.1\" 200 OK\n",
      "INFO:     127.0.0.1:60538 - \"GET /api/v2/metadata HTTP/1.1\" 200 OK\n",
      "INFO:     127.0.0.1:60538 - \"GET /api/v2/api?verify_key=7208660cf76b90759b7e313187cb933c35e87373d930e0443c83eabea3c41cf8&communication_protocol=dev HTTP/1.1\" 200 OK\n",
      "INFO:     127.0.0.1:60540 - \"POST /api/v2/api_call HTTP/1.1\" 200 OK\n",
      "INFO:     127.0.0.1:60543 - \"GET /api/v2/metadata HTTP/1.1\" 200 OK\n",
      "INFO:     127.0.0.1:60543 - \"GET /api/v2/api?verify_key=b64b7dd60895fb6e36c88550672f456f306fc1141a781ddab3301e9ca2976763&communication_protocol=dev HTTP/1.1\" 200 OK\n",
      "INFO:     127.0.0.1:60545 - \"POST /api/v2/api_call HTTP/1.1\" 200 OK\n",
      "INFO:     127.0.0.1:60550 - \"GET /api/v2/metadata HTTP/1.1\" 200 OK\n",
      "INFO:     127.0.0.1:60550 - \"GET /api/v2/api?verify_key=df178bc7b81deeb27d3344962a6df64c80792b9e46ed25eb3f862a0d8ffbca57&communication_protocol=dev HTTP/1.1\" 200 OK\n",
      "INFO:     127.0.0.1:60552 - \"POST /api/v2/api_call HTTP/1.1\" 200 OK\n",
      "INFO:     127.0.0.1:60556 - \"GET /api/v2/metadata HTTP/1.1\" 200 OK\n",
      "INFO:     127.0.0.1:60556 - \"GET /api/v2/api?verify_key=bb7c474855be928d40c2c85acc20ee3e08eef88356bb009963a51ec8c8d905a2&communication_protocol=dev HTTP/1.1\" 200 OK\n",
      "INFO:     127.0.0.1:60558 - \"POST /api/v2/api_call HTTP/1.1\" 200 OK\n"
     ]
    }
   ],
   "source": [
    "enclaves[0]"
   ]
  },
  {
   "cell_type": "code",
   "execution_count": null,
   "metadata": {},
   "outputs": [],
   "source": [
    "# request attestations?"
   ]
  }
 ],
 "metadata": {
  "kernelspec": {
   "display_name": "python311-leJXwuFJ",
   "language": "python",
   "name": "python311-lejxwufj"
  },
  "language_info": {
   "codemirror_mode": {
    "name": "ipython",
    "version": 3
   },
   "file_extension": ".py",
   "mimetype": "text/x-python",
   "name": "python",
   "nbconvert_exporter": "python",
   "pygments_lexer": "ipython3",
   "version": "3.11.8"
  },
  "nbformat": 4,
  "nbformat_minor": 5
 },
 "nbformat": 4,
 "nbformat_minor": 4
}

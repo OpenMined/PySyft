{
 "cells": [
  {
   "cell_type": "code",
   "execution_count": null,
   "id": "fac336b0-c1a6-46a0-8133-3a2b0704a2b3",
   "metadata": {},
   "outputs": [],
   "source": [
    "# -- create enclave node\n",
    "# -- attach to primary domain\n",
    "# -- phase 2 launch python enclave dynamically instead\n",
    "# -- phase 3 run on cloud enclave with k3d (dynamically after)"
   ]
  }
 ],
 "metadata": {
  "kernelspec": {
   "display_name": "Python 3 (ipykernel)",
   "language": "python",
   "name": "python3"
  },
  "language_info": {
   "codemirror_mode": {
    "name": "ipython",
    "version": 3
   },
   "file_extension": ".py",
   "mimetype": "text/x-python",
   "name": "python",
   "nbconvert_exporter": "python",
   "pygments_lexer": "ipython3",
   "version": "3.12.2"
  }
 },
 "nbformat": 4,
 "nbformat_minor": 5
}

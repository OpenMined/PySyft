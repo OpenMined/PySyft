{
 "cells": [
  {
   "cell_type": "code",
   "execution_count": 1,
   "id": "c5ff4a25-bef7-41d1-8641-2fd8c347efc8",
   "metadata": {},
   "outputs": [],
   "source": [
    "# syft absolute\n",
    "import syft as sy"
   ]
  },
  {
   "cell_type": "code",
   "execution_count": 2,
   "id": "fac336b0-c1a6-46a0-8133-3a2b0704a2b3",
   "metadata": {},
   "outputs": [],
   "source": [
    "# create enclave server on Azure\n",
    "# skip the need for custom worker pools and images by using transformers package already included"
   ]
  },
  {
   "cell_type": "code",
   "execution_count": 4,
   "id": "e03b5a59-709a-4271-a612-29bb630c5c2e",
   "metadata": {},
   "outputs": [
    {
     "name": "stdout",
     "output_type": "stream",
     "text": [
      "The autoreload extension is already loaded. To reload it, use:\n",
      "  %reload_ext autoreload\n",
      "Autoreload enabled\n",
      "Starting azure-h100-enclave server on 0.0.0.0:8083\n",
      "INFO:     127.0.0.1:58583 - \"GET /api/v2/metadata HTTP/1.1\" 200 OK\n",
      " Done.\n"
     ]
    },
    {
     "name": "stderr",
     "output_type": "stream",
     "text": [
      "INFO:     Will watch for changes in these directories: ['/Users/madhavajay/dev/PySyft/packages/syft/src/syft']\n",
      "ERROR:    [Errno 48] Address already in use\n"
     ]
    },
    {
     "data": {
      "text/html": [
       "<div class=\"alert-info\" style=\"padding:5px;\"><strong>SyftInfo</strong>: <pre class=\"alert-info\" style=\"display:inline; font-family:inherit;\">You have launched a development node at http://0.0.0.0:8083.It is intended only for local use.</pre></div><br/>"
      ],
      "text/plain": [
       "SyftInfo: You have launched a development node at http://0.0.0.0:8083.It is intended only for local use."
      ]
     },
     "metadata": {},
     "output_type": "display_data"
    }
   ],
   "source": [
    "# syft absolute\n",
    "from syft.abstract_server import NodeType\n",
    "\n",
    "azure_h100_enclave = sy.orchestra.launch(\n",
    "    name=\"azure-h100-enclave\",\n",
    "    server_type=NodeType.ENCLAVE,\n",
    "    port=8083,\n",
    "    create_producer=True,\n",
    "    n_consumers=3,\n",
    "    dev_mode=True,\n",
    ")"
   ]
  },
  {
   "cell_type": "code",
   "execution_count": null,
   "id": "3801fee7-bc80-4d7e-9e4a-0d5c2bd9f241",
   "metadata": {},
   "outputs": [],
   "source": [
    "# attach to primary domain"
   ]
  },
  {
   "cell_type": "code",
   "execution_count": 5,
   "id": "fc548376-0df4-43a1-ad93-b98d37d0681d",
   "metadata": {},
   "outputs": [
    {
     "name": "stdout",
     "output_type": "stream",
     "text": [
      "Logged into <model-owner: High side Domain> as <info@openmined.org>\n"
     ]
    },
    {
     "data": {
      "text/html": [
       "<div class=\"alert-warning\" style=\"padding:5px;\"><strong>SyftWarning</strong>: <pre class=\"alert-warning\" style=\"display:inline; font-family:inherit;\">You are using a default password. Please change the password using `[your_client].me.set_password([new_password])`.</pre></div><br/>"
      ],
      "text/plain": [
       "SyftWarning: You are using a default password. Please change the password using `[your_client].me.set_password([new_password])`."
      ]
     },
     "metadata": {},
     "output_type": "display_data"
    },
    {
     "name": "stdout",
     "output_type": "stream",
     "text": [
      "INFO:     127.0.0.1:58592 - \"GET /api/v2/metadata HTTP/1.1\" 200 OK\n"
     ]
    },
    {
     "data": {
      "text/html": [
       "<div class=\"alert-success\" style=\"padding:5px;\"><strong>SyftSuccess</strong>: <pre class=\"alert-success\" style=\"display:inline; font-family:inherit;\">Enclave 'azure-h100-enclave' added to 'model-owner' on 'http://localhost:8083'.</pre></div><br/>"
      ],
      "text/plain": [
       "SyftSuccess: Enclave 'azure-h100-enclave' added to 'model-owner' on 'http://localhost:8083'."
      ]
     },
     "execution_count": 5,
     "metadata": {},
     "output_type": "execute_result"
    }
   ],
   "source": [
    "# model_owner_datasite = sy.orchestra.launch(\n",
    "#     name=\"model-owner\", port=8081, dev_mode=True\n",
    "# )\n",
    "model_owner_client = sy.login(\n",
    "    url=\"http://localhost:8081\", email=\"info@openmined.org\", password=\"changethis\"\n",
    ")\n",
    "\n",
    "# syft absolute\n",
    "from syft.service.network.routes import HTTPNodeRoute\n",
    "\n",
    "route = HTTPNodeRoute(host_or_ip=\"localhost\", port=8083)\n",
    "\n",
    "# change to allow an api where you can pass in a string url and it validates with GridURL and creates a HTTPNodeRoute\n",
    "# model_owner_client.enclaves.add(route=\"http://localhost:8083\")\n",
    "model_owner_client.enclaves.add(route=route)\n",
    "# model_owner_datasite.land()"
   ]
  },
  {
   "cell_type": "code",
   "execution_count": 1,
   "id": "50d923c1-4d66-4b0b-b580-a138ba9aee2c",
   "metadata": {},
   "outputs": [],
   "source": [
    "# request attestations?"
   ]
  }
 ],
 "metadata": {
  "kernelspec": {
   "display_name": "python311-leJXwuFJ",
   "language": "python",
   "name": "python311-lejxwufj"
  },
  "language_info": {
   "codemirror_mode": {
    "name": "ipython",
    "version": 3
   },
   "file_extension": ".py",
   "mimetype": "text/x-python",
   "name": "python",
   "nbconvert_exporter": "python",
   "pygments_lexer": "ipython3",
   "version": "3.11.8"
  },
  "nbformat": 4,
  "nbformat_minor": 5
 },
 "nbformat": 4,
 "nbformat_minor": 2
}

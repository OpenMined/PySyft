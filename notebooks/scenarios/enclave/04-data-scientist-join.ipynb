{
 "cells": [
  {
   "cell_type": "code",
   "execution_count": null,
   "id": "52c96d72-c333-4b5b-8631-caaf3c48e4d0",
   "metadata": {},
   "outputs": [],
   "source": [
    "# -- connect to domains\n",
    "# -- associate domains?\n",
    "# -- list enclaves\n",
    "# -- find datasets\n",
    "# -- execution policies\n",
    "# -- phase 2 - add a hf model and custom worker image to execution policy\n",
    "# -- phase 3 eager data scientist inference inputs in InputPolicy\n",
    "# -- create usercode sum(a, b)\n",
    "# -- submit project"
   ]
  },
  {
   "cell_type": "code",
   "execution_count": null,
   "id": "0ebf6dc1-6b71-4c6b-826b-c35018a041e7",
   "metadata": {},
   "outputs": [],
   "source": []
  }
 ],
 "metadata": {
  "kernelspec": {
   "display_name": "Python 3 (ipykernel)",
   "language": "python",
   "name": "python3"
  },
  "language_info": {
   "codemirror_mode": {
    "name": "ipython",
    "version": 3
   },
   "file_extension": ".py",
   "mimetype": "text/x-python",
   "name": "python",
   "nbconvert_exporter": "python",
   "pygments_lexer": "ipython3",
   "version": "3.12.2"
  }
 },
 "nbformat": 4,
 "nbformat_minor": 5
}

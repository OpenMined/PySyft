{
 "cells": [
  {
   "cell_type": "code",
   "execution_count": 1,
   "id": "099cf5ab-f0c1-4283-bd3e-5ab1f60bd241",
   "metadata": {},
   "outputs": [],
   "source": [
    "# syft absolute\n",
    "import syft as sy"
   ]
  },
  {
   "cell_type": "code",
   "execution_count": 2,
   "id": "a729b697-bb61-4e79-8d20-cd70019a1308",
   "metadata": {},
   "outputs": [
    {
     "name": "stdout",
     "output_type": "stream",
     "text": [
      "Autoreload enabled\n",
      "Starting model-owner server on 0.0.0.0:8081\n"
     ]
    },
    {
     "name": "stderr",
     "output_type": "stream",
     "text": [
      "INFO:     Will watch for changes in these directories: ['/Users/madhavajay/dev/PySyft/packages/syft/src/syft']\n",
      "INFO:     Uvicorn running on http://0.0.0.0:8081 (Press CTRL+C to quit)\n",
      "INFO:     Started reloader process [7091] using WatchFiles\n",
      "INFO:     Started server process [7114]\n",
      "INFO:     Waiting for application startup.\n",
      "INFO:     Application startup complete.\n"
     ]
    },
    {
     "name": "stdout",
     "output_type": "stream",
     "text": [
      "\n",
      "WARNING: private key is based on server name: model-owner in dev_mode. Don't run this in production.\n",
      "Document Store's SQLite DB path: /var/folders/6_/7xx0tpq16h9cn40mq4w5gjk80000gn/T/syft/ea6fe92e4be5471da3d1a423d39773d0/db/ea6fe92e4be5471da3d1a423d39773d0.sqlite\n",
      "Action Store's SQLite DB path: /var/folders/6_/7xx0tpq16h9cn40mq4w5gjk80000gn/T/syft/ea6fe92e4be5471da3d1a423d39773d0/db/ea6fe92e4be5471da3d1a423d39773d0.sqlite\n",
      "INFO:     127.0.0.1:58346 - \"GET /api/v2/metadata HTTP/1.1\" 200 OK\n",
      " Done.\n"
     ]
    },
    {
     "data": {
      "text/html": [
       "<div class=\"alert-info\" style=\"padding:5px;\"><strong>SyftInfo</strong>: <pre class=\"alert-info\" style=\"display:inline; font-family:inherit;\">You have launched a development server at http://0.0.0.0:8081.It is intended only for local use.</pre></div><br/>"
      ],
      "text/plain": [
       "SyftInfo: You have launched a development server at http://0.0.0.0:8081.It is intended only for local use."
      ]
     },
     "metadata": {},
     "output_type": "display_data"
    },
    {
     "name": "stdout",
     "output_type": "stream",
     "text": [
      "Stopping model-owner\n"
     ]
    },
    {
     "name": "stderr",
     "output_type": "stream",
     "text": [
      "INFO:     Shutting down\n",
      "INFO:     Waiting for application shutdown.\n",
      "INFO:     Application shutdown complete.\n",
      "INFO:     Finished server process [7114]\n",
      "INFO:     Stopping reloader process [7091]\n"
     ]
    }
   ],
   "source": [
    "# # use to reset db\n",
    "model_owner_datasite = sy.orchestra.launch(\n",
    "    name=\"model-owner\", port=8081, dev_mode=True, reset=True\n",
    ")\n",
    "model_owner_datasite.land()"
   ]
  },
  {
   "cell_type": "code",
   "execution_count": 3,
   "id": "f78af200-8e65-416c-a831-9f1649bd7f16",
   "metadata": {},
   "outputs": [
    {
     "name": "stdout",
     "output_type": "stream",
     "text": [
      "The autoreload extension is already loaded. To reload it, use:\n",
      "  %reload_ext autoreload\n",
      "Autoreload enabled\n",
      "Starting azure-h100-enclave server on 0.0.0.0:8083\n"
     ]
    },
    {
     "name": "stderr",
     "output_type": "stream",
     "text": [
      "INFO:     Will watch for changes in these directories: ['/Users/madhavajay/dev/PySyft/packages/syft/src/syft']\n",
      "INFO:     Uvicorn running on http://0.0.0.0:8083 (Press CTRL+C to quit)\n",
      "INFO:     Started reloader process [7138] using WatchFiles\n"
     ]
    },
    {
     "name": "stdout",
     "output_type": "stream",
     "text": [
      "Waiting for server to start"
     ]
    },
    {
     "name": "stderr",
     "output_type": "stream",
     "text": [
      "INFO:     Started server process [7151]\n",
      "INFO:     Waiting for application startup.\n",
      "INFO:     Application startup complete.\n"
     ]
    },
    {
     "name": "stdout",
     "output_type": "stream",
     "text": [
      "\n",
      "WARNING: private key is based on server name: azure-h100-enclave in dev_mode. Don't run this in production.\n",
      "Document Store's SQLite DB path: /var/folders/6_/7xx0tpq16h9cn40mq4w5gjk80000gn/T/syft/3ea33ab41d1349d29d94545fde3b6721/db/3ea33ab41d1349d29d94545fde3b6721.sqlite\n",
      "Action Store's SQLite DB path: /var/folders/6_/7xx0tpq16h9cn40mq4w5gjk80000gn/T/syft/3ea33ab41d1349d29d94545fde3b6721/db/3ea33ab41d1349d29d94545fde3b6721.sqlite\n",
      "INFO:     127.0.0.1:58354 - \"GET /api/v2/metadata HTTP/1.1\" 200 OK\n",
      " Done.\n"
     ]
    },
    {
     "data": {
      "text/html": [
       "<div class=\"alert-info\" style=\"padding:5px;\"><strong>SyftInfo</strong>: <pre class=\"alert-info\" style=\"display:inline; font-family:inherit;\">You have launched a development server at http://0.0.0.0:8083.It is intended only for local use.</pre></div><br/>"
      ],
      "text/plain": [
       "SyftInfo: You have launched a development server at http://0.0.0.0:8083.It is intended only for local use."
      ]
     },
     "metadata": {},
     "output_type": "display_data"
    },
    {
     "name": "stdout",
     "output_type": "stream",
     "text": [
      "Stopping azure-h100-enclave\n"
     ]
    },
    {
     "name": "stderr",
     "output_type": "stream",
     "text": [
      "INFO:     Shutting down\n",
      "INFO:     Waiting for application shutdown.\n",
      "INFO:     Application shutdown complete.\n",
      "INFO:     Finished server process [7151]\n",
      "INFO:     Stopping reloader process [7138]\n"
     ]
    }
   ],
   "source": [
    "# syft absolute\n",
    "# use to reset\n",
    "from syft.abstract_server import NodeType\n",
    "\n",
    "azure_h100_enclave = sy.orchestra.launch(\n",
    "    name=\"azure-h100-enclave\",\n",
    "    server_type=NodeType.ENCLAVE,\n",
    "    port=8083,\n",
    "    create_producer=True,\n",
    "    n_consumers=3,\n",
    "    dev_mode=True,\n",
    "    reset=True,\n",
    ")\n",
    "azure_h100_enclave.land()"
   ]
  },
  {
   "cell_type": "code",
   "execution_count": 4,
   "id": "2349b180-5e67-4add-a13d-fe4b8ae5110c",
   "metadata": {},
   "outputs": [
    {
     "name": "stdout",
     "output_type": "stream",
     "text": [
      "The autoreload extension is already loaded. To reload it, use:\n",
      "  %reload_ext autoreload\n",
      "Autoreload enabled\n",
      "Starting model-auditor server on 0.0.0.0:8082\n"
     ]
    },
    {
     "name": "stderr",
     "output_type": "stream",
     "text": [
      "INFO:     Will watch for changes in these directories: ['/Users/madhavajay/dev/PySyft/packages/syft/src/syft']\n",
      "INFO:     Uvicorn running on http://0.0.0.0:8082 (Press CTRL+C to quit)\n",
      "INFO:     Started reloader process [7172] using WatchFiles\n"
     ]
    },
    {
     "name": "stdout",
     "output_type": "stream",
     "text": [
      "Waiting for server to start"
     ]
    },
    {
     "name": "stderr",
     "output_type": "stream",
     "text": [
      "INFO:     Started server process [7186]\n",
      "INFO:     Waiting for application startup.\n",
      "INFO:     Application startup complete.\n"
     ]
    },
    {
     "name": "stdout",
     "output_type": "stream",
     "text": [
      "\n",
      "WARNING: private key is based on server name: model-auditor in dev_mode. Don't run this in production.\n",
      "Document Store's SQLite DB path: /var/folders/6_/7xx0tpq16h9cn40mq4w5gjk80000gn/T/syft/d7ffd135e5914ab0b2138fc7d4f72ec0/db/d7ffd135e5914ab0b2138fc7d4f72ec0.sqlite\n",
      "Action Store's SQLite DB path: /var/folders/6_/7xx0tpq16h9cn40mq4w5gjk80000gn/T/syft/d7ffd135e5914ab0b2138fc7d4f72ec0/db/d7ffd135e5914ab0b2138fc7d4f72ec0.sqlite\n",
      "INFO:     127.0.0.1:58368 - \"GET /api/v2/metadata HTTP/1.1\" 200 OK\n",
      " Done.\n"
     ]
    },
    {
     "data": {
      "text/html": [
       "<div class=\"alert-info\" style=\"padding:5px;\"><strong>SyftInfo</strong>: <pre class=\"alert-info\" style=\"display:inline; font-family:inherit;\">You have launched a development server at http://0.0.0.0:8082.It is intended only for local use.</pre></div><br/>"
      ],
      "text/plain": [
       "SyftInfo: You have launched a development server at http://0.0.0.0:8082.It is intended only for local use."
      ]
     },
     "metadata": {},
     "output_type": "display_data"
    },
    {
     "name": "stdout",
     "output_type": "stream",
     "text": [
      "Stopping model-auditor\n"
     ]
    },
    {
     "name": "stderr",
     "output_type": "stream",
     "text": [
      "INFO:     Shutting down\n",
      "INFO:     Waiting for application shutdown.\n",
      "INFO:     Application shutdown complete.\n",
      "INFO:     Finished server process [7186]\n",
      "INFO:     Stopping reloader process [7172]\n"
     ]
    }
   ],
   "source": [
    "# use to reset\n",
    "model_auditor_datasite = sy.orchestra.launch(\n",
    "    name=\"model-auditor\", port=8082, dev_mode=True, reset=True\n",
    ")\n",
    "model_auditor_datasite.land()"
   ]
  },
  {
   "cell_type": "code",
   "execution_count": null,
   "id": "6c1c827e-8986-484f-be4c-c3a8820f9f13",
   "metadata": {},
   "outputs": [],
   "source": []
  }
 ],
 "metadata": {
  "kernelspec": {
   "display_name": "Python 3 (ipykernel)",
   "language": "python",
   "name": "python3"
  },
  "language_info": {
   "codemirror_mode": {
    "name": "ipython",
    "version": 3
   },
   "file_extension": ".py",
   "mimetype": "text/x-python",
   "name": "python",
   "nbconvert_exporter": "python",
   "pygments_lexer": "ipython3",
   "version": "3.12.2"
  }
 },
 "nbformat": 4,
 "nbformat_minor": 5
}

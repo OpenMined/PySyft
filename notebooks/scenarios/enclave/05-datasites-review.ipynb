{
 "cells": [
  {
   "cell_type": "code",
   "execution_count": null,
   "id": "0",
   "metadata": {},
   "outputs": [],
   "source": [
    "# -- review project\n",
    "# -- inspect code\n",
    "# -- step through execution policy\n",
    "# -- query enclave attestation\n",
    "# -- approve execution\n",
    "# -- phase 2 - once approved everywhere, setup custom image on enclave\n",
    "# -- phase 3 - once approved deploy with terraform etc"
   ]
  }
 ],
 "metadata": {
  "kernelspec": {
   "display_name": "Python 3 (ipykernel)",
   "language": "python",
   "name": "python3"
  },
  "language_info": {
   "codemirror_mode": {
    "name": "ipython",
    "version": 3
   },
   "file_extension": ".py",
   "mimetype": "text/x-python",
   "name": "python",
   "nbconvert_exporter": "python",
   "pygments_lexer": "ipython3",
   "version": "3.12.2"
  }
 },
 "nbformat": 4,
 "nbformat_minor": 5
}

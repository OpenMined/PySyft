{
 "cells": [
  {
   "cell_type": "code",
   "execution_count": 1,
   "id": "6a7cf74a-a267-4e4d-a167-aa02364ca860",
   "metadata": {},
   "outputs": [],
   "source": [
    "# -- get project\n",
    "# -- check project status\n",
    "# -- run code\n",
    "# -- get result"
   ]
  },
  {
   "cell_type": "code",
   "execution_count": null,
   "id": "611f94c5-a6fd-4cb6-a581-d878bc11bcdc",
   "metadata": {},
   "outputs": [],
   "source": []
  }
 ],
 "metadata": {
  "kernelspec": {
   "display_name": "Python 3 (ipykernel)",
   "language": "python",
   "name": "python3"
  },
  "language_info": {
   "codemirror_mode": {
    "name": "ipython",
    "version": 3
   },
   "file_extension": ".py",
   "mimetype": "text/x-python",
   "name": "python",
   "nbconvert_exporter": "python",
   "pygments_lexer": "ipython3",
   "version": "3.12.2"
  }
 },
 "nbformat": 4,
 "nbformat_minor": 5
}

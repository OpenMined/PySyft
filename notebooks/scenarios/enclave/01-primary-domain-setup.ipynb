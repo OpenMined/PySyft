{
 "cells": [
  {
   "cell_type": "code",
   "execution_count": null,
   "id": "f9f7fba1-43f8-48bc-a45d-46530574d010",
   "metadata": {},
   "outputs": [],
   "source": [
    "# -- upload model tensor\n",
    "# -- create user account\n",
    "# -- phase 2 add model hosting\n",
    "# -- phase 3 run on kubernetes"
   ]
  }
 ],
 "metadata": {
  "kernelspec": {
   "display_name": "Python 3 (ipykernel)",
   "language": "python",
   "name": "python3"
  },
  "language_info": {
   "codemirror_mode": {
    "name": "ipython",
    "version": 3
   },
   "file_extension": ".py",
   "mimetype": "text/x-python",
   "name": "python",
   "nbconvert_exporter": "python",
   "pygments_lexer": "ipython3",
   "version": "3.12.2"
  }
 },
 "nbformat": 4,
 "nbformat_minor": 5
}

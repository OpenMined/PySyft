{
 "cells": [
  {
   "cell_type": "code",
   "execution_count": null,
   "metadata": {},
   "outputs": [],
   "source": [
    "# import os\n",
    "# os.environ[\"ORCHESTRA_DEPLOYMENT_TYPE\"] = \"remote\"\n",
    "# os.environ[\"DEV_MODE\"] = \"True\"\n",
    "# os.environ[\"TEST_EXTERNAL_REGISTRY\"] = \"k3d-registry.localhost:5800\""
   ]
  },
  {
   "cell_type": "code",
   "execution_count": null,
   "metadata": {},
   "outputs": [],
   "source": [
    "# stdlib\n",
    "from collections import Counter\n",
    "import random\n",
    "\n",
    "# syft absolute\n",
    "import syft as sy\n",
    "from syft.service.job.job_stash import Job\n",
    "from syft.util.test_helpers.email_helpers import get_email_server\n",
    "from syft.util.test_helpers.job_helpers import approve_by_running\n",
    "from syft.util.test_helpers.job_helpers import get_job_emails\n",
    "from syft.util.test_helpers.job_helpers import get_request_for_job_info"
   ]
  },
  {
   "cell_type": "code",
   "execution_count": null,
   "metadata": {},
   "outputs": [],
   "source": [
    "ADMIN_EMAIL, ADMIN_PW = \"admin2@bigquery.org\", \"bqpw2\""
   ]
  },
  {
   "cell_type": "markdown",
   "metadata": {},
   "source": [
    "# Start server & login"
   ]
  },
  {
   "cell_type": "code",
   "execution_count": null,
   "metadata": {},
   "outputs": [],
   "source": [
    "server = sy.orchestra.launch(\n",
    "    name=\"bigquery-high\",\n",
    "    dev_mode=True,\n",
    "    server_side_type=\"high\",\n",
    "    port=\"8080\",\n",
    "    n_consumers=1,  # How many workers to be spawned\n",
    "    create_producer=True,  # Can produce more workers\n",
    ")"
   ]
  },
  {
   "cell_type": "code",
   "execution_count": null,
   "metadata": {},
   "outputs": [],
   "source": [
    "high_client = sy.login(\n",
    "    url=\"http://localhost:8080\", email=ADMIN_EMAIL, password=ADMIN_PW\n",
    ")"
   ]
  },
  {
   "cell_type": "code",
   "execution_count": null,
   "metadata": {},
   "outputs": [],
   "source": [
    "email_server, smtp_server = get_email_server()"
   ]
  },
  {
   "cell_type": "markdown",
   "metadata": {},
   "source": [
    "# Review requests"
   ]
  },
  {
   "cell_type": "code",
   "execution_count": null,
   "metadata": {},
   "outputs": [],
   "source": [
    "# syft absolute\n",
    "from syft.util.test_helpers.email_helpers import load_users\n",
    "from syft.util.test_helpers.job_helpers import load_jobs\n",
    "from syft.util.test_helpers.job_helpers import save_jobs"
   ]
  },
  {
   "cell_type": "code",
   "execution_count": null,
   "metadata": {},
   "outputs": [],
   "source": [
    "high_client.requests.get_all_pending()"
   ]
  },
  {
   "cell_type": "code",
   "execution_count": null,
   "metadata": {},
   "outputs": [],
   "source": [
    "users = load_users(high_client)\n",
    "jobs_data = load_jobs(users, high_client)\n",
    "all_requests = high_client.requests\n",
    "submitted_jobs_data = [job for job in jobs_data if job.is_submitted]\n",
    "n_emails_per_job_user = {\n",
    "    k: len(v)\n",
    "    for k, v in get_job_emails(submitted_jobs_data, high_client, email_server).items()\n",
    "}"
   ]
  },
  {
   "cell_type": "code",
   "execution_count": null,
   "metadata": {},
   "outputs": [],
   "source": [
    "# TODO we should record whether it was approved or deposited\n",
    "# and test doing both in either order as there might be a bug when\n",
    "# force overwriting\n",
    "# also changing deny to approve and back again"
   ]
  },
  {
   "cell_type": "markdown",
   "metadata": {},
   "source": [
    "# Run or deny"
   ]
  },
  {
   "cell_type": "code",
   "execution_count": null,
   "metadata": {},
   "outputs": [],
   "source": [
    "submitted_jobs_data_should_succeed = [\n",
    "    j for j in submitted_jobs_data if j.should_succeed\n",
    "]\n",
    "submitted_jobs_data_should_fail = [\n",
    "    j for j in submitted_jobs_data if not j.should_succeed\n",
    "]"
   ]
  },
  {
   "cell_type": "code",
   "execution_count": null,
   "metadata": {},
   "outputs": [],
   "source": [
    "for job in submitted_jobs_data_should_succeed:\n",
    "    request = get_request_for_job_info(all_requests, job)\n",
    "    if random.randrange(2):\n",
    "        choice = \"approved with deposit_result\"\n",
    "        response = approve_by_running(request)\n",
    "        assert isinstance(response, Job)\n",
    "    else:\n",
    "        choice = \"approved\"\n",
    "        response = request.approve()\n",
    "        assert isinstance(response, sy.SyftSuccess)\n",
    "    print(f\"Job {job.func_name} should succeed: {job.should_succeed} and was {choice}\")\n",
    "    job.admin_reviewed = True"
   ]
  },
  {
   "cell_type": "code",
   "execution_count": null,
   "metadata": {},
   "outputs": [],
   "source": [
    "for job in submitted_jobs_data_should_fail:\n",
    "    request = get_request_for_job_info(all_requests, job)\n",
    "    response = request.deny(\n",
    "        reason=f\"Your request {job.func_name} looks wrong, try again.\"\n",
    "    )\n",
    "    assert isinstance(response, sy.SyftSuccess)\n",
    "    assert not job.should_succeed\n",
    "    job.admin_reviewed = True"
   ]
  },
  {
   "cell_type": "markdown",
   "metadata": {},
   "source": [
    "# Verify that users have new emails"
   ]
  },
  {
   "cell_type": "code",
   "execution_count": null,
   "metadata": {},
   "outputs": [],
   "source": [
    "new_n_emails_per_job_user = {\n",
    "    k: len(v)\n",
    "    for k, v in get_job_emails(submitted_jobs_data, high_client, email_server).items()\n",
    "}"
   ]
  },
  {
   "cell_type": "code",
   "execution_count": null,
   "metadata": {},
   "outputs": [],
   "source": [
    "job_emails = get_job_emails(submitted_jobs_data, high_client, email_server)\n",
    "rejected_email_counts = {\n",
    "    k: sum(\"rejected\" in email[\"email_content\"].lower() for email in v)\n",
    "    for k, v in job_emails.items()\n",
    "}\n",
    "approved_email_counts = {\n",
    "    k: sum(\"approved\" in email[\"email_content\"].lower() for email in v)\n",
    "    for k, v in job_emails.items()\n",
    "}\n",
    "expected_rejected_email_counts = Counter(\n",
    "    job.user_email for job in submitted_jobs_data_should_fail\n",
    ")\n",
    "\n",
    "expected_approved_email_counts = Counter(\n",
    "    job.user_email for job in submitted_jobs_data_should_succeed\n",
    ")"
   ]
  },
  {
   "cell_type": "code",
   "execution_count": null,
   "metadata": {},
   "outputs": [],
   "source": [
    "# if user's email notifications are enabled,\n",
    "# should have received either approved or rejected email\n",
    "for user_email, new_count in new_n_emails_per_job_user.items():\n",
    "    user = [u for u in users if u.email == user_email][0]\n",
    "    old_count = n_emails_per_job_user[user_email]\n",
    "    if not user.email_disabled:\n",
    "        # greater than or equal to since duplicates can happen\n",
    "        assert new_count > old_count\n",
    "        assert rejected_email_counts.get(\n",
    "            user_email, 0\n",
    "        ) >= expected_rejected_email_counts.get(user_email, 0)\n",
    "        assert approved_email_counts.get(\n",
    "            user_email, 0\n",
    "        ) >= expected_approved_email_counts.get(user_email, 0)\n",
    "    else:\n",
    "        assert new_count == old_count"
   ]
  },
  {
   "cell_type": "markdown",
   "metadata": {},
   "source": [
    "# Save state"
   ]
  },
  {
   "cell_type": "code",
   "execution_count": null,
   "metadata": {},
   "outputs": [],
   "source": [
    "save_jobs(jobs_data)"
   ]
  },
  {
   "cell_type": "code",
   "execution_count": null,
   "metadata": {},
   "outputs": [],
   "source": [
    "high_client.requests.get_all_approved()"
   ]
  },
  {
   "cell_type": "code",
   "execution_count": null,
   "metadata": {},
   "outputs": [],
   "source": [
    "high_client.requests.get_all_rejected()"
   ]
  },
  {
   "cell_type": "markdown",
   "metadata": {},
   "source": [
    "# Cleanup"
   ]
  },
  {
   "cell_type": "code",
   "execution_count": null,
   "metadata": {},
   "outputs": [],
   "source": [
    "smtp_server.stop()"
   ]
  },
  {
   "cell_type": "code",
   "execution_count": null,
   "metadata": {},
   "outputs": [],
   "source": [
    "server.land()"
   ]
  },
  {
   "cell_type": "code",
   "execution_count": null,
   "metadata": {},
   "outputs": [],
   "source": []
  }
 ],
 "metadata": {
  "kernelspec": {
   "display_name": "syft",
   "language": "python",
   "name": "python3"
  },
  "language_info": {
   "codemirror_mode": {
    "name": "ipython",
    "version": 3
   },
   "file_extension": ".py",
   "mimetype": "text/x-python",
   "name": "python",
   "nbconvert_exporter": "python",
   "pygments_lexer": "ipython3",
   "version": "3.12.4"
  }
 },
 "nbformat": 4,
 "nbformat_minor": 4
}

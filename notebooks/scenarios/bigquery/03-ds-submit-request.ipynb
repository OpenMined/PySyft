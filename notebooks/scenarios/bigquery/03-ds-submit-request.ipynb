{
 "cells": [
  {
   "cell_type": "code",
   "execution_count": null,
   "metadata": {},
   "outputs": [],
   "source": [
    "# syft absolute\n",
    "import syft as sy"
   ]
  },
  {
   "cell_type": "code",
   "execution_count": null,
   "metadata": {},
   "outputs": [],
   "source": [
    "high_client = sy.login(\n",
    "    url=\"http://localhost:8080\",\n",
    "    email=\"data_scientist@openmined.org\",\n",
    "    password=\"verysecurepassword\",\n",
    ")"
   ]
  },
  {
   "cell_type": "code",
   "execution_count": null,
   "metadata": {},
   "outputs": [],
   "source": [
    "# add your values to secrets.json in this folder\n",
    "secrets = sy.get_nb_secrets(\n",
    "    {\n",
    "        \"dataset_2\": \"dataset2\",\n",
    "        \"table_1\": \"table1\",\n",
    "        \"table_2\": \"table2\",\n",
    "        \"table_2_col_id\": \"id\",\n",
    "        \"table_2_col_score\": \"score\",\n",
    "    }\n",
    ")"
   ]
  },
  {
   "cell_type": "code",
   "execution_count": null,
   "metadata": {},
   "outputs": [],
   "source": [
    "high_client.custom_api.api_endpoints()"
   ]
  },
  {
   "cell_type": "code",
   "execution_count": null,
   "metadata": {},
   "outputs": [],
   "source": [
    "high_client.api.services.bigquery.test_query"
   ]
  },
  {
   "cell_type": "code",
   "execution_count": null,
   "metadata": {},
   "outputs": [],
   "source": [
    "FUNC_NAME = \"popular\"\n",
    "QUERY = f\"SELECT {secrets['table_2_col_id']}, AVG({secrets['table_2_col_score']}) AS average_score \\\n",
    "    FROM {secrets['dataset_2']}.{secrets['table_2']} \\\n",
    "    GROUP BY {secrets['table_2_col_id']} \\\n",
    "    LIMIT 10000\"\n",
    "\n",
    "high_client.api.services.bigquery.test_query(sql_query=QUERY)"
   ]
  },
  {
   "cell_type": "code",
   "execution_count": null,
   "metadata": {},
   "outputs": [],
   "source": [
    "res1 = high_client.api.services.bigquery.submit_query(func_name=FUNC_NAME, query=QUERY)\n",
    "res1"
   ]
  },
  {
   "cell_type": "code",
   "execution_count": null,
   "metadata": {},
   "outputs": [],
   "source": [
    "def extract_code_path(response):\n",
    "    # stdlib\n",
    "    import re\n",
    "\n",
    "    pattern = r\"client\\.code\\.(\\w+)\\(\\)\"\n",
    "    match = re.search(pattern, str(response))\n",
    "    if match:\n",
    "        extracted_code = match.group(1)\n",
    "        return extracted_code\n",
    "    return None"
   ]
  },
  {
   "cell_type": "code",
   "execution_count": null,
   "metadata": {},
   "outputs": [],
   "source": [
    "func_name = extract_code_path(res1)\n",
    "print(func_name)\n",
    "api_method = getattr(high_client.code, func_name, None)\n",
    "api_method"
   ]
  },
  {
   "cell_type": "code",
   "execution_count": null,
   "metadata": {},
   "outputs": [],
   "source": [
    "api_method()"
   ]
  },
  {
   "cell_type": "code",
   "execution_count": null,
   "metadata": {},
   "outputs": [],
   "source": [
    "FUNC_NAME = \"large_sample\"\n",
    "LARGE_SAMPLE_QUERY = (\n",
    "    f\"SELECT * FROM {secrets['dataset_2']}.{secrets['table_2']} LIMIT 1000000\"\n",
    ")"
   ]
  },
  {
   "cell_type": "code",
   "execution_count": null,
   "metadata": {},
   "outputs": [],
   "source": [
    "res2 = high_client.api.services.bigquery.submit_query(\n",
    "    func_name=FUNC_NAME, query=LARGE_SAMPLE_QUERY\n",
    ")"
   ]
  },
  {
   "cell_type": "code",
   "execution_count": null,
   "metadata": {},
   "outputs": [],
   "source": [
    "func_name = extract_code_path(res2)\n",
    "print(func_name)\n",
    "api_method_2 = getattr(high_client.code, func_name, None)\n",
    "api_method_2"
   ]
  },
  {
   "cell_type": "code",
   "execution_count": null,
   "metadata": {},
   "outputs": [],
   "source": [
    "api_method_2()"
   ]
  },
  {
   "cell_type": "code",
   "execution_count": null,
   "metadata": {},
   "outputs": [],
   "source": []
  }
 ],
 "metadata": {
  "kernelspec": {
   "display_name": "Python 3 (ipykernel)",
   "language": "python",
   "name": "python3"
  },
  "language_info": {
   "codemirror_mode": {
    "name": "ipython",
    "version": 3
   },
   "file_extension": ".py",
   "mimetype": "text/x-python",
   "name": "python",
   "nbconvert_exporter": "python",
   "pygments_lexer": "ipython3",
   "version": "3.12.2"
  }
 },
 "nbformat": 4,
 "nbformat_minor": 4
}

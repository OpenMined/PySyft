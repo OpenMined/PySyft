{
 "cells": [
  {
   "cell_type": "code",
   "execution_count": null,
   "id": "3ba045e3-68be-4a0e-8e99-7721c66d1999",
   "metadata": {},
   "outputs": [],
   "source": [
    "# -- how to enable user registration\n",
    "# -- how to create users\n",
    "# -- how to reset user passwords"
   ]
  },
  {
   "cell_type": "markdown",
   "id": "88c7265c-06d0-4e24-ae20-aef13162e8ca",
   "metadata": {},
   "source": [
    "# Adding Users"
   ]
  },
  {
   "cell_type": "markdown",
   "id": "03b7bcf8-a98f-4256-b74a-96db56ea1c94",
   "metadata": {},
   "source": [
    "### Notebook Values"
   ]
  },
  {
   "cell_type": "code",
   "execution_count": null,
   "id": "539d1569-8d2e-4d3b-8611-034ffef935e6",
   "metadata": {},
   "outputs": [],
   "source": [
    "NODE_URL = \"http://<node-url>\n",
    "ADMIN_EMAIL = \"info@openmined.org\"\n",
    "ADMIN_PASSWORD = \"changethis\""
   ]
  },
  {
   "cell_type": "markdown",
   "id": "0be57457-31a7-401f-a05c-0c6d9976b0ad",
   "metadata": {},
   "source": [
    "## 1 - Login as ADMIN"
   ]
  },
  {
   "cell_type": "code",
   "execution_count": null,
   "id": "0280f68b-7ba2-4e76-bf7c-a9a055d6274d",
   "metadata": {},
   "outputs": [],
   "source": [
    "client = sy.login(url=NODE_URL, email=ADMIN_EMAIL, password=ADMIN_PASSWORD)"
   ]
  },
  {
   "cell_type": "markdown",
   "id": "0fb872ff-a902-4446-b6ca-c3091428351c",
   "metadata": {},
   "source": [
    "## 2 - Register User by using Root Account"
   ]
  },
  {
   "cell_type": "code",
   "execution_count": null,
   "id": "456cc6e8-5f9a-4784-8ea2-2444971e4792",
   "metadata": {},
   "outputs": [],
   "source": [
    "response_3 = client.register(\n",
    "    email=\"person@organization.com\",\n",
    "    password=\"5v1ei4OM2N4m\",\n",
    "    password_verify=\"5v1ei4OM2N4m\",\n",
    "    name=\"John Doe\",\n",
    ")\n",
    "response_3"
   ]
  },
  {
   "cell_type": "markdown",
   "id": "fcaf1978-8af6-4897-9580-f704ab3d8439",
   "metadata": {},
   "source": [
    "## 3 - Enable users to register themselves"
   ]
  },
  {
   "cell_type": "code",
   "execution_count": null,
   "id": "34d508d3-435d-4319-b9c7-9cded7831d14",
   "metadata": {},
   "outputs": [],
   "source": [
    "client.settings.allow_guest_signup(enable=False)"
   ]
  },
  {
   "cell_type": "markdown",
   "id": "550abde6-ab50-4e8e-b977-fdc83a9c86f8",
   "metadata": {},
   "source": [
    "## 4 - Reset User Password"
   ]
  },
  {
   "cell_type": "code",
   "execution_count": null,
   "id": "69393a8d-de61-4ae5-b862-06f8b7451f24",
   "metadata": {},
   "outputs": [],
   "source": [
    "from syft.service.user.user import UserUpdate\n",
    "\n",
    "password_update = UserUpdate(\n",
    "    password=\"new_password\",\n",
    "    password_verify=\"new_password\",\n",
    ")\n",
    "\n",
    "user_id = client.users.search(email=\"person@organization.com\").id\n",
    "\n",
    "client.users.update(uid=user_id, user_update=password_update)"
   ]
  }
 ],
 "metadata": {
  "kernelspec": {
   "display_name": "Python 3 (ipykernel)",
   "language": "python",
   "name": "python3"
  },
  "language_info": {
   "codemirror_mode": {
    "name": "ipython",
    "version": 3
   },
   "file_extension": ".py",
   "mimetype": "text/x-python",
   "name": "python",
   "nbconvert_exporter": "python",
   "pygments_lexer": "ipython3",
   "version": "3.12.3"
  }
 },
 "nbformat": 4,
 "nbformat_minor": 5
}

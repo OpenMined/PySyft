{
 "cells": [
  {
   "cell_type": "code",
   "execution_count": null,
   "metadata": {},
   "outputs": [],
   "source": [
    "# stdlib\n",
    "import os\n",
    "import sys\n",
    "\n",
    "# Get the current script's directory\n",
    "current_dir = os.path.dirname(os.path.abspath(\".\"))\n",
    "\n",
    "# Get the parent directory (one level up)\n",
    "parent_dir = os.path.abspath(os.path.join(current_dir, os.pardir))\n",
    "\n",
    "# Add the parent directory to the system path\n",
    "sys.path.insert(0, current_dir)\n",
    "\n",
    "# set to use the live APIs\n",
    "# import os\n",
    "# os.environ[\"TEST_BIGQUERY_APIS_LIVE\"] = \"True\"\n",
    "# third party\n",
    "from apis import make_schema\n",
    "from apis import make_submit_query\n",
    "from apis import make_test_query"
   ]
  },
  {
   "cell_type": "code",
   "execution_count": null,
   "metadata": {},
   "outputs": [],
   "source": [
    "# syft absolute\n",
    "import syft as sy\n",
    "from syft import test_settings"
   ]
  },
  {
   "cell_type": "code",
   "execution_count": null,
   "metadata": {},
   "outputs": [],
   "source": [
    "server_low = sy.orchestra.launch(\n",
    "    name=\"bigquery-low\",\n",
    "    server_side_type=\"low\",\n",
    "    dev_mode=True,\n",
    "    n_consumers=1,\n",
    "    create_producer=True,\n",
    "    port=\"auto\",\n",
    ")\n",
    "\n",
    "server_high = sy.orchestra.launch(\n",
    "    name=\"bigquery-high\",\n",
    "    server_side_type=\"high\",\n",
    "    dev_mode=True,\n",
    "    n_consumers=1,\n",
    "    create_producer=True,\n",
    "    port=\"auto\",\n",
    ")"
   ]
  },
  {
   "cell_type": "code",
   "execution_count": null,
   "metadata": {},
   "outputs": [],
   "source": [
    "low_client = server_low.login(email=\"info@openmined.org\", password=\"changethis\")\n",
    "high_client = server_high.login(email=\"info@openmined.org\", password=\"changethis\")"
   ]
  },
  {
   "cell_type": "code",
   "execution_count": null,
   "metadata": {},
   "outputs": [],
   "source": [
    "assert len(high_client.worker_pools.get_all()) == 2\n",
    "assert len(low_client.worker_pools.get_all()) == 2"
   ]
  },
  {
   "cell_type": "code",
   "execution_count": null,
   "metadata": {},
   "outputs": [],
   "source": [
    "this_worker_pool_name = \"bigquery-pool\""
   ]
  },
  {
   "cell_type": "code",
   "execution_count": null,
   "metadata": {},
   "outputs": [],
   "source": [
    "# !pip list | grep bigquery"
   ]
  },
  {
   "cell_type": "code",
   "execution_count": null,
   "metadata": {},
   "outputs": [],
   "source": [
    "# !pip install db-dtypes google-cloud-bigquery"
   ]
  },
  {
   "cell_type": "markdown",
   "metadata": {},
   "source": [
    "# Twin endpoints"
   ]
  },
  {
   "cell_type": "code",
   "execution_count": null,
   "metadata": {},
   "outputs": [],
   "source": [
    "mock_func = make_test_query(\n",
    "    settings={\n",
    "        \"rate_limiter_enabled\": True,\n",
    "        \"calls_per_min\": 10,\n",
    "    }\n",
    ")"
   ]
  },
  {
   "cell_type": "code",
   "execution_count": null,
   "metadata": {},
   "outputs": [],
   "source": [
    "private_func = make_test_query(\n",
    "    settings={\n",
    "        \"rate_limiter_enabled\": False,\n",
    "    }\n",
    ")"
   ]
  },
  {
   "cell_type": "code",
   "execution_count": null,
   "metadata": {},
   "outputs": [],
   "source": [
    "new_endpoint = sy.TwinAPIEndpoint(\n",
    "    path=\"bigquery.test_query\",\n",
    "    description=\"This endpoint allows to query Bigquery storage via SQL queries.\",\n",
    "    private_function=private_func,\n",
    "    mock_function=mock_func,\n",
    "    worker_pool=this_worker_pool_name,\n",
    ")\n",
    "\n",
    "high_client.custom_api.add(endpoint=new_endpoint)"
   ]
  },
  {
   "cell_type": "code",
   "execution_count": null,
   "metadata": {},
   "outputs": [],
   "source": [
    "# Here, we update the endpoint to timeout after 100s (rather the default of 60s)\n",
    "high_client.api.services.api.update(\n",
    "    endpoint_path=\"bigquery.test_query\", endpoint_timeout=120\n",
    ")"
   ]
  },
  {
   "cell_type": "code",
   "execution_count": null,
   "metadata": {},
   "outputs": [],
   "source": [
    "high_client.api.services.api.update(\n",
    "    endpoint_path=\"bigquery.test_query\", hide_mock_definition=True\n",
    ")"
   ]
  },
  {
   "cell_type": "code",
   "execution_count": null,
   "metadata": {},
   "outputs": [],
   "source": [
    "schema_function = make_schema(\n",
    "    settings={\n",
    "        \"calls_per_min\": 5,\n",
    "    },\n",
    "    worker_pool=this_worker_pool_name,\n",
    ")"
   ]
  },
  {
   "cell_type": "code",
   "execution_count": null,
   "metadata": {},
   "outputs": [],
   "source": [
    "high_client.custom_api.add(endpoint=schema_function)\n",
    "high_client.refresh()"
   ]
  },
  {
   "cell_type": "code",
   "execution_count": null,
   "metadata": {},
   "outputs": [],
   "source": [
    "dataset_1 = test_settings.get(\"dataset_1\", default=\"dataset_1\")\n",
    "dataset_2 = test_settings.get(\"dataset_2\", default=\"dataset_2\")\n",
    "table_1 = test_settings.get(\"table_1\", default=\"table_1\")\n",
    "table_2 = test_settings.get(\"table_2\", default=\"table_2\")\n",
    "table_2_col_id = test_settings.get(\"table_2_col_id\", default=\"table_id\")\n",
    "table_2_col_score = test_settings.get(\"table_2_col_score\", default=\"colname\")"
   ]
  },
  {
   "cell_type": "code",
   "execution_count": null,
   "metadata": {},
   "outputs": [],
   "source": [
    "# Test mock version\n",
    "result = high_client.api.services.bigquery.test_query.mock(\n",
    "    sql_query=f\"SELECT * FROM {dataset_1}.{table_1} LIMIT 10\"\n",
    ")\n",
    "result"
   ]
  },
  {
   "cell_type": "code",
   "execution_count": null,
   "metadata": {},
   "outputs": [],
   "source": [
    "high_client.api.services.bigquery.schema()"
   ]
  },
  {
   "cell_type": "code",
   "execution_count": null,
   "metadata": {},
   "outputs": [],
   "source": [
    "submit_query_function = make_submit_query(\n",
    "    settings={}, worker_pool=this_worker_pool_name\n",
    ")"
   ]
  },
  {
   "cell_type": "code",
   "execution_count": null,
   "metadata": {},
   "outputs": [],
   "source": [
    "high_client.custom_api.add(endpoint=submit_query_function)"
   ]
  },
  {
   "cell_type": "code",
   "execution_count": null,
   "metadata": {},
   "outputs": [],
   "source": [
    "high_client.api.services.api.update(\n",
    "    endpoint_path=\"bigquery.submit_query\", hide_mock_definition=True\n",
    ")"
   ]
  },
  {
   "cell_type": "code",
   "execution_count": null,
   "metadata": {},
   "outputs": [],
   "source": [
    "high_client.custom_api.api_endpoints()"
   ]
  },
  {
   "cell_type": "code",
   "execution_count": null,
   "metadata": {},
   "outputs": [],
   "source": [
    "assert len(high_client.custom_api.api_endpoints()) == 3"
   ]
  },
  {
   "cell_type": "code",
   "execution_count": null,
   "metadata": {},
   "outputs": [],
   "source": [
    "assert (\n",
    "    high_client.api.services.bigquery.test_query\n",
    "    and high_client.api.services.bigquery.submit_query\n",
    ")"
   ]
  },
  {
   "cell_type": "code",
   "execution_count": null,
   "metadata": {},
   "outputs": [],
   "source": [
    "# Test mock version\n",
    "result = high_client.api.services.bigquery.test_query.mock(\n",
    "    sql_query=f\"SELECT * FROM {dataset_1}.{table_1} LIMIT 10\"\n",
    ")\n",
    "result"
   ]
  },
  {
   "cell_type": "code",
   "execution_count": null,
   "metadata": {},
   "outputs": [],
   "source": [
    "# Bug with the new Error PR: message printed multiple times. TODO clean up the duplicate exception messages.\n",
    "\n",
    "# Test mock version for wrong queries\n",
    "with sy.raises(\n",
    "    sy.SyftException(public_message=\"*must be qualified with a dataset*\"), show=True\n",
    "):\n",
    "    high_client.api.services.bigquery.test_query.mock(\n",
    "        sql_query=\"SELECT * FROM invalid_table LIMIT 1\"\n",
    "    )"
   ]
  },
  {
   "cell_type": "code",
   "execution_count": null,
   "metadata": {},
   "outputs": [],
   "source": [
    "# Test private version\n",
    "result = high_client.api.services.bigquery.test_query.private(\n",
    "    sql_query=f\"SELECT * FROM {dataset_1}.{table_1} LIMIT 10\"\n",
    ")\n",
    "result"
   ]
  },
  {
   "cell_type": "code",
   "execution_count": null,
   "metadata": {},
   "outputs": [],
   "source": [
    "# Testing submit query\n",
    "result = high_client.api.services.bigquery.submit_query(\n",
    "    func_name=\"my_func\",\n",
    "    query=f\"SELECT * FROM {dataset_1}.{table_1} LIMIT 1\",\n",
    ")"
   ]
  },
  {
   "cell_type": "code",
   "execution_count": null,
   "metadata": {},
   "outputs": [],
   "source": [
    "assert \"Query submitted\" in result\n",
    "result"
   ]
  },
  {
   "cell_type": "code",
   "execution_count": null,
   "metadata": {},
   "outputs": [],
   "source": [
    "job = high_client.code.my_func_d6d975(blocking=False)"
   ]
  },
  {
   "cell_type": "code",
   "execution_count": null,
   "metadata": {},
   "outputs": [],
   "source": [
    "job.result"
   ]
  },
  {
   "cell_type": "code",
   "execution_count": null,
   "metadata": {},
   "outputs": [],
   "source": [
    "job.wait()"
   ]
  },
  {
   "cell_type": "code",
   "execution_count": null,
   "metadata": {},
   "outputs": [],
   "source": [
    "# syft absolute\n",
    "from syft.client.syncing import compare_clients\n",
    "from syft.service.job.job_stash import Job\n",
    "from syft.service.job.job_stash import JobStatus"
   ]
  },
  {
   "cell_type": "code",
   "execution_count": null,
   "metadata": {},
   "outputs": [],
   "source": [
    "def is_job_to_sync(batch):\n",
    "    if batch.status != \"NEW\":\n",
    "        return False\n",
    "    if not isinstance(batch.root.high_obj, Job):\n",
    "        return False\n",
    "    job = batch.root.high_obj\n",
    "    return job.status in (JobStatus.ERRORED, JobStatus.COMPLETED)"
   ]
  },
  {
   "cell_type": "code",
   "execution_count": null,
   "metadata": {},
   "outputs": [],
   "source": [
    "def sync_new_objects(\n",
    "    from_client, to_client, dry_run: bool = True, private_data: bool = False\n",
    "):\n",
    "    sim = \"Simulating \" if dry_run else \"\"\n",
    "    priv = \"WITH PRIVATE DATA\" if private_data else \"\"\n",
    "    print(f\"{sim}Syncing from {from_client.name} to {to_client.name} {priv}\")\n",
    "    changes = []\n",
    "    diff = compare_clients(\n",
    "        from_client=from_client, to_client=to_client, hide_usercode=False\n",
    "    )\n",
    "    if isinstance(diff, sy.SyftError):\n",
    "        return diff\n",
    "\n",
    "    for batch in diff.batches:\n",
    "        try:\n",
    "            if is_job_to_sync(batch) or batch.status == \"NEW\":\n",
    "                w = batch.resolve(build_state=False)\n",
    "                if private_data:\n",
    "                    w.click_share_all_private_data()\n",
    "                if not dry_run:\n",
    "                    w.click_sync()\n",
    "                change_text = f\"Synced {batch.status} {batch.root_type.__name__}\"\n",
    "                if not dry_run:\n",
    "                    changes.append(change_text)\n",
    "                else:\n",
    "                    print(f\"Would have run: {change_text}\")\n",
    "        except Exception as e:\n",
    "            print(\"sync_new_objects\", e)\n",
    "            raise e\n",
    "    return changes"
   ]
  },
  {
   "cell_type": "code",
   "execution_count": null,
   "metadata": {},
   "outputs": [],
   "source": [
    "result = sync_new_objects(high_client, low_client)\n",
    "result"
   ]
  },
  {
   "cell_type": "code",
   "execution_count": null,
   "metadata": {},
   "outputs": [],
   "source": [
    "result = sync_new_objects(high_client, low_client, dry_run=False)\n",
    "result"
   ]
  },
  {
   "cell_type": "code",
   "execution_count": null,
   "metadata": {},
   "outputs": [],
   "source": [
    "assert [\n",
    "    \"Synced NEW UserCode\",\n",
    "    \"Synced NEW Request\",\n",
    "    \"Synced NEW Job\",\n",
    "    \"Synced NEW TwinAPIEndpoint\",\n",
    "    \"Synced NEW TwinAPIEndpoint\",\n",
    "    \"Synced NEW TwinAPIEndpoint\",\n",
    "] == result"
   ]
  },
  {
   "cell_type": "code",
   "execution_count": null,
   "metadata": {},
   "outputs": [],
   "source": [
    "# widget = sy.sync(from_client=high_client, to_client=low_client, hide_usercode=False)"
   ]
  },
  {
   "cell_type": "code",
   "execution_count": null,
   "metadata": {},
   "outputs": [],
   "source": [
    "# # TODO: ignore private function from high side in diff\n",
    "# widget"
   ]
  },
  {
   "cell_type": "code",
   "execution_count": null,
   "metadata": {},
   "outputs": [],
   "source": [
    "# widget.click_sync(0)\n",
    "# widget.click_sync(1)\n",
    "# widget.click_sync(2)"
   ]
  },
  {
   "cell_type": "code",
   "execution_count": null,
   "metadata": {},
   "outputs": [],
   "source": [
    "# Some internal helper methods\n",
    "\n",
    "# widget._share_all()\n",
    "# widget._sync_all()"
   ]
  },
  {
   "cell_type": "code",
   "execution_count": null,
   "metadata": {},
   "outputs": [],
   "source": [
    "server_high.land()\n",
    "server_low.land()"
   ]
  },
  {
   "cell_type": "code",
   "execution_count": null,
   "metadata": {},
   "outputs": [],
   "source": []
  }
 ],
 "metadata": {
  "kernelspec": {
   "display_name": "Python 3 (ipykernel)",
   "language": "python",
   "name": "python3"
  },
  "language_info": {
   "codemirror_mode": {
    "name": "ipython",
    "version": 3
   },
   "file_extension": ".py",
   "mimetype": "text/x-python",
   "name": "python",
   "nbconvert_exporter": "python",
   "pygments_lexer": "ipython3",
   "version": "3.12.2"
  }
 },
 "nbformat": 4,
 "nbformat_minor": 4
}

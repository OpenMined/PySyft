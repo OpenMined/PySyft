{
 "cells": [
  {
   "cell_type": "code",
   "execution_count": null,
   "metadata": {},
   "outputs": [],
   "source": [
    "# stdlib\n",
    "import os\n",
    "\n",
    "# third party\n",
    "import pandas as pd\n",
    "\n",
    "# syft absolute\n",
    "import syft as sy\n",
    "from syft.client.syncing import compare_clients\n",
    "from syft.util.test_helpers.email_helpers import get_email_server\n",
    "from syft.util.test_helpers.email_helpers import load_users\n",
    "from syft.util.test_helpers.job_helpers import get_job_emails\n",
    "from syft.util.test_helpers.job_helpers import get_request_for_job_info\n",
    "from syft.util.test_helpers.job_helpers import load_jobs"
   ]
  },
  {
   "cell_type": "code",
   "execution_count": null,
   "metadata": {},
   "outputs": [],
   "source": [
    "# stdlib\n",
    "ADMIN_EMAIL, ADMIN_PW = \"admin2@bigquery.org\", \"bqpw2\"\n",
    "ROOT_EMAIL, ROOT_PASSWORD = \"admin@bigquery.org\", \"bqpw\"\n",
    "environment = os.environ.get(\"ORCHESTRA_DEPLOYMENT_TYPE\", \"python\")\n",
    "high_port = os.environ.get(\"CLUSTER_HTTP_PORT_HIGH\", \"9081\")\n",
    "low_port = os.environ.get(\"CLUSTER_HTTP_PORT_LOW\", \"9083\")\n",
    "num_jobs = int(os.environ.get(\"NUM_TEST_JOBS\", 10))\n",
    "print(environment, low_port)"
   ]
  },
  {
   "cell_type": "markdown",
   "metadata": {},
   "source": [
    "# Launch server and login"
   ]
  },
  {
   "cell_type": "code",
   "execution_count": null,
   "metadata": {},
   "outputs": [],
   "source": [
    "server_low = sy.orchestra.launch(\n",
    "    name=\"bigquery-low\",\n",
    "    server_side_type=\"low\",\n",
    "    dev_mode=True,\n",
    "    n_consumers=1,\n",
    "    create_producer=True,\n",
    "    port=low_port,\n",
    ")\n",
    "\n",
    "server_high = sy.orchestra.launch(\n",
    "    name=\"bigquery-high\",\n",
    "    server_side_type=\"high\",\n",
    "    dev_mode=True,\n",
    "    n_consumers=1,\n",
    "    create_producer=True,\n",
    "    port=high_port,\n",
    ")"
   ]
  },
  {
   "cell_type": "code",
   "execution_count": null,
   "metadata": {},
   "outputs": [],
   "source": [
    "email_server, smtp_server = get_email_server()"
   ]
  },
  {
   "cell_type": "code",
   "execution_count": null,
   "metadata": {},
   "outputs": [],
   "source": [
    "low_client = sy.login(\n",
    "    url=f\"http://localhost:{low_port}\", email=ADMIN_EMAIL, password=ADMIN_PW\n",
    ")\n",
    "high_client = sy.login(\n",
    "    url=f\"http://localhost:{high_port}\", email=ADMIN_EMAIL, password=ADMIN_PW\n",
    ")"
   ]
  },
  {
   "cell_type": "markdown",
   "metadata": {},
   "source": [
    "# Sync UserCode and Requests to High Side"
   ]
  },
  {
   "cell_type": "code",
   "execution_count": null,
   "metadata": {},
   "outputs": [],
   "source": [
    "diffs = compare_clients(\n",
    "    from_client=low_client, to_client=high_client, hide_usercode=False\n",
    ")"
   ]
  },
  {
   "cell_type": "code",
   "execution_count": null,
   "metadata": {},
   "outputs": [],
   "source": [
    "# check that only requests and usercode are in the diff\n",
    "assert {diff.root_diff.obj_type.__qualname__ for diff in diffs.batches} == {\n",
    "    \"Request\",\n",
    "    \"UserCode\",\n",
    "}"
   ]
  },
  {
   "cell_type": "code",
   "execution_count": null,
   "metadata": {},
   "outputs": [],
   "source": [
    "widget = diffs.resolve()\n",
    "\n",
    "widget._share_all()"
   ]
  },
  {
   "cell_type": "code",
   "execution_count": null,
   "metadata": {},
   "outputs": [],
   "source": [
    "widget._sync_all()"
   ]
  },
  {
   "cell_type": "markdown",
   "metadata": {},
   "source": [
    "# Check that request synced over to high side"
   ]
  },
  {
   "cell_type": "code",
   "execution_count": null,
   "metadata": {},
   "outputs": [],
   "source": [
    "len(high_client.code.get_all())"
   ]
  },
  {
   "cell_type": "code",
   "execution_count": null,
   "metadata": {},
   "outputs": [],
   "source": [
    "assert len(high_client.code.get_all()) == num_jobs"
   ]
  },
  {
   "cell_type": "code",
   "execution_count": null,
   "metadata": {},
   "outputs": [],
   "source": [
    "requests = high_client.requests.get_all_pending()\n",
    "requests"
   ]
  },
  {
   "cell_type": "code",
   "execution_count": null,
   "metadata": {},
   "outputs": [],
   "source": [
    "users = load_users(low_client)\n",
    "jobs_data = load_jobs(users, low_client)\n",
    "all_requests = high_client.requests\n",
    "submitted_jobs_data = [job for job in jobs_data if job.is_submitted]\n",
    "n_emails_per_job_user = {\n",
    "    k: len(v)\n",
    "    for k, v in get_job_emails(submitted_jobs_data, high_client, email_server).items()\n",
    "}"
   ]
  },
  {
   "cell_type": "markdown",
   "metadata": {},
   "source": [
    "# Run or Deny"
   ]
  },
  {
   "cell_type": "code",
   "execution_count": null,
   "metadata": {},
   "outputs": [],
   "source": [
    "submitted_jobs_data_should_succeed = [\n",
    "    j for j in submitted_jobs_data if j.should_succeed\n",
    "]\n",
    "submitted_jobs_data_should_fail = [\n",
    "    j for j in submitted_jobs_data if not j.should_succeed\n",
    "]"
   ]
  },
  {
   "cell_type": "code",
   "execution_count": null,
   "metadata": {},
   "outputs": [],
   "source": [
    "for job in submitted_jobs_data_should_succeed:\n",
    "    request = get_request_for_job_info(all_requests, job)\n",
    "    j = request.code(blocking=False)\n",
    "    result = j.wait().get()\n",
    "    assert isinstance(result, pd.DataFrame)\n",
    "    job.admin_reviewed = True"
   ]
  },
  {
   "cell_type": "code",
   "execution_count": null,
   "metadata": {},
   "outputs": [],
   "source": [
    "for job in submitted_jobs_data_should_fail:\n",
    "    request = get_request_for_job_info(all_requests, job)\n",
    "    response = request.deny(\n",
    "        reason=f\"Your request {job.func_name} looks wrong, try again.\"\n",
    "    )\n",
    "    assert isinstance(response, sy.SyftSuccess)\n",
    "    assert not job.should_succeed\n",
    "    job.admin_reviwed = True"
   ]
  },
  {
   "cell_type": "markdown",
   "metadata": {},
   "source": [
    "# Sync job result to low side"
   ]
  },
  {
   "cell_type": "code",
   "execution_count": null,
   "metadata": {},
   "outputs": [],
   "source": [
    "diffs = compare_clients(\n",
    "    from_client=high_client, to_client=low_client, hide_usercode=False\n",
    ")"
   ]
  },
  {
   "cell_type": "code",
   "execution_count": null,
   "metadata": {},
   "outputs": [],
   "source": [
    "diffs.batches"
   ]
  },
  {
   "cell_type": "code",
   "execution_count": null,
   "metadata": {},
   "outputs": [],
   "source": [
    "batch_root_strs = [x.root_diff.obj_type.__qualname__ for x in diffs.batches]\n",
    "# for successful jobs, should be job, request, and usercode.\n",
    "# For failed jobs, should be usercode, request only since job not run\n",
    "expected_n_batches = 2 * len(submitted_jobs_data_should_fail) + 3 * len(\n",
    "    submitted_jobs_data_should_succeed\n",
    ")\n",
    "assert len(diffs.batches) == expected_n_batches\n",
    "assert \"Job\" in batch_root_strs"
   ]
  },
  {
   "cell_type": "code",
   "execution_count": null,
   "metadata": {},
   "outputs": [],
   "source": [
    "widget = diffs.resolve()\n",
    "\n",
    "widget._share_all()\n",
    "widget._sync_all()"
   ]
  },
  {
   "cell_type": "markdown",
   "metadata": {},
   "source": [
    "# Shutdown"
   ]
  },
  {
   "cell_type": "code",
   "execution_count": null,
   "metadata": {},
   "outputs": [],
   "source": [
    "if environment != \"remote\":\n",
    "    server_high.land()\n",
    "    server_low.land()\n",
    "smtp_server.stop()"
   ]
  },
  {
   "cell_type": "code",
   "execution_count": null,
   "metadata": {},
   "outputs": [],
   "source": []
  }
 ],
 "metadata": {
  "kernelspec": {
   "display_name": "syft",
   "language": "python",
   "name": "python3"
  },
  "language_info": {
   "codemirror_mode": {
    "name": "ipython",
    "version": 3
   },
   "file_extension": ".py",
   "mimetype": "text/x-python",
   "name": "python",
   "nbconvert_exporter": "python",
   "pygments_lexer": "ipython3",
   "version": "3.12.4"
  }
 },
 "nbformat": 4,
 "nbformat_minor": 4
}

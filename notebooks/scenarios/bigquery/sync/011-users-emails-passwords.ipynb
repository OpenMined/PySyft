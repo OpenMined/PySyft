{
 "cells": [
  {
   "cell_type": "code",
   "execution_count": null,
   "id": "0",
   "metadata": {},
   "outputs": [],
   "source": [
    "# stdlib\n",
    "import os\n",
    "\n",
    "# syft absolute\n",
    "import syft as sy\n",
    "from syft.util.test_helpers.email_helpers import SENDER\n",
    "from syft.util.test_helpers.email_helpers import create_user\n",
    "from syft.util.test_helpers.email_helpers import get_email_server\n",
    "from syft.util.test_helpers.email_helpers import make_user\n",
    "from syft.util.test_helpers.email_helpers import save_users"
   ]
  },
  {
   "cell_type": "code",
   "execution_count": null,
   "id": "1",
   "metadata": {},
   "outputs": [],
   "source": [
    "ADMIN_EMAIL, ADMIN_PW = \"admin2@bigquery.org\", \"bqpw2\"\n",
    "environment = os.environ.get(\"ORCHESTRA_DEPLOYMENT_TYPE\", \"python\")\n",
    "high_port = os.environ.get(\"CLUSTER_HTTP_PORT_HIGH\", \"9081\")\n",
    "low_port = os.environ.get(\"CLUSTER_HTTP_PORT_LOW\", \"9083\")\n",
    "print(environment, high_port, low_port)"
   ]
  },
  {
   "cell_type": "markdown",
   "id": "2",
   "metadata": {},
   "source": [
    "# Launch server & login"
   ]
  },
  {
   "cell_type": "code",
   "execution_count": null,
   "id": "3",
   "metadata": {},
   "outputs": [],
   "source": [
    "server_low = sy.orchestra.launch(\n",
    "    name=\"bigquery-low\",\n",
    "    server_side_type=\"low\",\n",
    "    dev_mode=True,\n",
    "    n_consumers=1,\n",
    "    create_producer=True,\n",
    "    port=low_port,\n",
    ")\n",
    "\n",
    "server_high = sy.orchestra.launch(\n",
    "    name=\"bigquery-high\",\n",
    "    server_side_type=\"high\",\n",
    "    dev_mode=True,\n",
    "    n_consumers=1,\n",
    "    create_producer=True,\n",
    "    port=high_port,\n",
    ")"
   ]
  },
  {
   "cell_type": "markdown",
   "id": "4",
   "metadata": {},
   "source": [
    "### Email Server"
   ]
  },
  {
   "cell_type": "code",
   "execution_count": null,
   "id": "5",
   "metadata": {},
   "outputs": [],
   "source": [
    "email_server, smtp_server = get_email_server()"
   ]
  },
  {
   "cell_type": "code",
   "execution_count": null,
   "id": "6",
   "metadata": {},
   "outputs": [],
   "source": [
    "low_client = sy.login(\n",
    "    url=f\"http://localhost:{low_port}\", email=ADMIN_EMAIL, password=ADMIN_PW\n",
    ")\n",
    "high_client = sy.login(\n",
    "    url=f\"http://localhost:{high_port}\", email=ADMIN_EMAIL, password=ADMIN_PW\n",
    ")"
   ]
  },
  {
   "cell_type": "code",
   "execution_count": null,
   "id": "7",
   "metadata": {},
   "outputs": [],
   "source": [
    "low_client.api.services.settings.enable_notifications(\n",
    "    email_sender=SENDER,\n",
    "    email_server=\"localhost\",\n",
    "    email_port=\"9025\",\n",
    ")\n",
    "\n",
    "high_client.api.services.settings.enable_notifications(\n",
    "    email_sender=SENDER,\n",
    "    email_server=\"localhost\",\n",
    "    email_port=\"9025\",\n",
    ")"
   ]
  },
  {
   "cell_type": "markdown",
   "id": "8",
   "metadata": {},
   "source": [
    "# Register users"
   ]
  },
  {
   "cell_type": "code",
   "execution_count": null,
   "id": "9",
   "metadata": {},
   "outputs": [],
   "source": [
    "num_users = int(os.environ.get(\"NUM_TEST_USERS\", 5))\n",
    "print(f\"registering {num_users} users\")"
   ]
  },
  {
   "cell_type": "code",
   "execution_count": null,
   "id": "10",
   "metadata": {},
   "outputs": [],
   "source": [
    "users = []\n",
    "email_disable_index = 0\n",
    "reset_password_index = 1\n",
    "for i in range(num_users):\n",
    "    user = make_user()\n",
    "    user._email_server = email_server\n",
    "    create_user(low_client, user)\n",
    "    user.client = low_client\n",
    "    if email_disable_index == i:\n",
    "        user.email_disabled = True\n",
    "    if reset_password_index == i:\n",
    "        user.reset_password = True\n",
    "    users.append(user)"
   ]
  },
  {
   "cell_type": "code",
   "execution_count": null,
   "id": "11",
   "metadata": {},
   "outputs": [],
   "source": [
    "save_users(users)"
   ]
  },
  {
   "cell_type": "code",
   "execution_count": null,
   "id": "12",
   "metadata": {},
   "outputs": [],
   "source": [
    "# stdlib\n",
    "import asyncio\n",
    "\n",
    "await asyncio.sleep(5)"
   ]
  },
  {
   "cell_type": "markdown",
   "id": "13",
   "metadata": {},
   "source": [
    "## Verify Emails are sent"
   ]
  },
  {
   "cell_type": "code",
   "execution_count": null,
   "id": "14",
   "metadata": {},
   "outputs": [],
   "source": [
    "# everyone gets a welcome email\n",
    "server_name = low_client.name\n",
    "for user in users:\n",
    "    emails = user.emails\n",
    "    assert len(emails) == 1\n",
    "    welcome_email = user.emails[0]\n",
    "    assert welcome_email.email_from == SENDER\n",
    "    assert len(welcome_email.email_to) == 1\n",
    "    assert welcome_email.email_to[0] == user.email\n",
    "    assert f\"Welcome to {server_name}\" in welcome_email.email_content"
   ]
  },
  {
   "cell_type": "code",
   "execution_count": null,
   "id": "15",
   "metadata": {},
   "outputs": [],
   "source": [
    "# one user disables notifications\n",
    "# one user requests a password reset\n",
    "no_email_user = None\n",
    "reset_password_user = None\n",
    "for user in users:\n",
    "    user.client = low_client  # get user client\n",
    "    if user.email_disabled:\n",
    "        no_email_user = user\n",
    "        # disable for this user only\n",
    "        user.client.api.notifications.deactivate()\n",
    "\n",
    "    if user.reset_password:\n",
    "        # ask admin for forgot password flow\n",
    "        user.client.guest().forgot_password(email=user.email)\n",
    "        assert \"Password Reset Requested\" in user.emails[1].email_content\n",
    "        reset_password_user = user"
   ]
  },
  {
   "cell_type": "code",
   "execution_count": null,
   "id": "16",
   "metadata": {},
   "outputs": [],
   "source": [
    "ds0 = users[0]"
   ]
  },
  {
   "cell_type": "code",
   "execution_count": null,
   "id": "17",
   "metadata": {},
   "outputs": [],
   "source": [
    "ds0_user = ds0.client.account\n",
    "ds0_user"
   ]
  },
  {
   "cell_type": "code",
   "execution_count": null,
   "id": "18",
   "metadata": {},
   "outputs": [],
   "source": [
    "# with sy.raises(\n",
    "# sy.SyftException(public_message=\"*tried to update user*\"\n",
    "# ), show=True): this is different on k8s no idea why\n",
    "with sy.raises(sy.SyftException, show=True):\n",
    "    ds0.client.users.update(uid=ds0_user.id, role=\"admin\")"
   ]
  },
  {
   "cell_type": "code",
   "execution_count": null,
   "id": "19",
   "metadata": {},
   "outputs": [],
   "source": [
    "# with sy.raises(sy.SyftException(public_message=\"*tried to update user*\"), show=True):\n",
    "with sy.raises(sy.SyftException, show=True):\n",
    "    ds0_user.update(role=\"admin\")"
   ]
  },
  {
   "cell_type": "code",
   "execution_count": null,
   "id": "20",
   "metadata": {},
   "outputs": [],
   "source": [
    "# TODO: test disabling and re-enabling all notifications"
   ]
  },
  {
   "cell_type": "markdown",
   "id": "21",
   "metadata": {},
   "source": [
    "## Test reset password"
   ]
  },
  {
   "cell_type": "code",
   "execution_count": null,
   "id": "22",
   "metadata": {},
   "outputs": [],
   "source": [
    "# This is necessary as it sets the new token value in user.reset_token\n",
    "token = reset_password_user.get_token()\n",
    "token"
   ]
  },
  {
   "cell_type": "code",
   "execution_count": null,
   "id": "23",
   "metadata": {},
   "outputs": [],
   "source": [
    "# This is necessary as it sets the new password value in user.new_password\n",
    "passw = reset_password_user.make_new_password()\n",
    "passw"
   ]
  },
  {
   "cell_type": "code",
   "execution_count": null,
   "id": "24",
   "metadata": {},
   "outputs": [],
   "source": [
    "assert token\n",
    "assert passw"
   ]
  },
  {
   "cell_type": "code",
   "execution_count": null,
   "id": "25",
   "metadata": {},
   "outputs": [],
   "source": [
    "output = reset_password_user.client.guest().reset_password(\n",
    "    token=reset_password_user.reset_token, new_password=reset_password_user.new_password\n",
    ")\n",
    "output"
   ]
  },
  {
   "cell_type": "code",
   "execution_count": null,
   "id": "26",
   "metadata": {},
   "outputs": [],
   "source": [
    "assert isinstance(output, sy.SyftSuccess)"
   ]
  },
  {
   "cell_type": "code",
   "execution_count": null,
   "id": "27",
   "metadata": {},
   "outputs": [],
   "source": [
    "# relogin\n",
    "reset_password_user.relogin()"
   ]
  },
  {
   "cell_type": "markdown",
   "id": "28",
   "metadata": {},
   "source": [
    "## Reset password second time"
   ]
  },
  {
   "cell_type": "code",
   "execution_count": null,
   "id": "29",
   "metadata": {},
   "outputs": [],
   "source": [
    "reset_password_user.client.guest().forgot_password(email=reset_password_user.email)"
   ]
  },
  {
   "cell_type": "code",
   "execution_count": null,
   "id": "30",
   "metadata": {},
   "outputs": [],
   "source": [
    "output = reset_password_user.client.guest().reset_password(\n",
    "    token=reset_password_user.get_token(),\n",
    "    new_password=reset_password_user.make_new_password(),\n",
    ")\n",
    "output"
   ]
  },
  {
   "cell_type": "code",
   "execution_count": null,
   "id": "31",
   "metadata": {},
   "outputs": [],
   "source": [
    "assert isinstance(output, sy.SyftSuccess)"
   ]
  },
  {
   "cell_type": "code",
   "execution_count": null,
   "id": "32",
   "metadata": {},
   "outputs": [],
   "source": [
    "reset_password_user.update_password()"
   ]
  },
  {
   "cell_type": "code",
   "execution_count": null,
   "id": "33",
   "metadata": {},
   "outputs": [],
   "source": [
    "# relogin\n",
    "reset_password_user.relogin()"
   ]
  },
  {
   "cell_type": "code",
   "execution_count": null,
   "id": "34",
   "metadata": {},
   "outputs": [],
   "source": [
    "save_users(users)"
   ]
  },
  {
   "cell_type": "code",
   "execution_count": null,
   "id": "35",
   "metadata": {},
   "outputs": [],
   "source": [
    "reset_password_user"
   ]
  },
  {
   "cell_type": "markdown",
   "id": "36",
   "metadata": {},
   "source": [
    "## Reduce token expiration and try resetting"
   ]
  },
  {
   "cell_type": "code",
   "execution_count": null,
   "id": "37",
   "metadata": {},
   "outputs": [],
   "source": [
    "# Variable is poorly named, token expiration time is in seconds and not minutes\n",
    "low_client.api.services.settings.update(pwd_token_config={\"token_exp_min\": 3})\n",
    "low_client.refresh()"
   ]
  },
  {
   "cell_type": "code",
   "execution_count": null,
   "id": "38",
   "metadata": {},
   "outputs": [],
   "source": [
    "reset_password_user.client.guest().forgot_password(email=reset_password_user.email)"
   ]
  },
  {
   "cell_type": "code",
   "execution_count": null,
   "id": "39",
   "metadata": {},
   "outputs": [],
   "source": [
    "# Wait 3 seconds to ensure token expires\n",
    "await asyncio.sleep(3)"
   ]
  },
  {
   "cell_type": "code",
   "execution_count": null,
   "id": "40",
   "metadata": {},
   "outputs": [],
   "source": [
    "# This should throw a SyftError because we waited too long\n",
    "output = reset_password_user.client.guest().reset_password(\n",
    "    token=reset_password_user.get_token(),\n",
    "    new_password=reset_password_user.make_new_password(),\n",
    ")\n",
    "output"
   ]
  },
  {
   "cell_type": "code",
   "execution_count": null,
   "id": "41",
   "metadata": {},
   "outputs": [],
   "source": [
    "assert isinstance(output, sy.SyftError)"
   ]
  },
  {
   "cell_type": "code",
   "execution_count": null,
   "id": "42",
   "metadata": {},
   "outputs": [],
   "source": [
    "# relogin\n",
    "with sy.raises(sy.SyftException, show=True):\n",
    "    reset_password_user.relogin()"
   ]
  },
  {
   "cell_type": "code",
   "execution_count": null,
   "id": "43",
   "metadata": {},
   "outputs": [],
   "source": [
    "# Set things back to the the default settings\n",
    "low_client.api.services.settings.update(pwd_token_config={\"token_exp_min\": 1800})\n",
    "low_client.refresh()"
   ]
  },
  {
   "cell_type": "markdown",
   "id": "44",
   "metadata": {},
   "source": [
    "# Cleanup"
   ]
  },
  {
   "cell_type": "code",
   "execution_count": null,
   "id": "45",
   "metadata": {},
   "outputs": [],
   "source": [
    "if environment != \"remote\":\n",
    "    server_high.land()\n",
    "    server_low.land()\n",
    "smtp_server.stop()"
   ]
  },
  {
   "cell_type": "code",
   "execution_count": null,
   "id": "46",
   "metadata": {},
   "outputs": [],
   "source": []
  },
  {
   "cell_type": "code",
   "execution_count": null,
   "id": "47",
   "metadata": {},
   "outputs": [],
   "source": []
  }
 ],
 "metadata": {
  "kernelspec": {
   "display_name": "Python 3 (ipykernel)",
   "language": "python",
   "name": "python3"
  },
  "language_info": {
   "codemirror_mode": {
    "name": "ipython",
    "version": 3
   },
   "file_extension": ".py",
   "mimetype": "text/x-python",
   "name": "python",
   "nbconvert_exporter": "python",
   "pygments_lexer": "ipython3",
   "version": "3.12.5"
  }
 },
 "nbformat": 4,
 "nbformat_minor": 5
}

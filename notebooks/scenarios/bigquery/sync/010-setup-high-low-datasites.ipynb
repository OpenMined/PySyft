{
 "cells": [
  {
   "cell_type": "code",
   "execution_count": null,
   "metadata": {},
   "outputs": [],
   "source": [
    "# stdlib\n",
    "import os\n",
    "\n",
    "# Testing works over 4 possibilities\n",
    "# 1. (python/in-memory workers and using tox commands)\n",
    "# 2. (python/in-memory workers and manually running notebooks)\n",
    "# 3. (using k8s and using tox commands)\n",
    "# 4. (using k8s and manually running notebooks)\n",
    "# Uncomment the lines below if in the 4th possibility\n",
    "\n",
    "# os.environ[\"ORCHESTRA_DEPLOYMENT_TYPE\"] = \"remote\"\n",
    "# os.environ[\"DEV_MODE\"] = \"True\"\n",
    "# os.environ[\"TEST_EXTERNAL_REGISTRY\"] = \"k3d-registry.localhost:5800\"\n",
    "# os.environ[\"CLUSTER_HTTP_PORT_HIGH\"] = \"9081\"\n",
    "# os.environ[\"CLUSTER_HTTP_PORT_LOW\"] = \"9083\""
   ]
  },
  {
   "cell_type": "code",
   "execution_count": null,
   "metadata": {},
   "outputs": [],
   "source": [
    "# stdlib\n",
    "environment = os.environ.get(\"ORCHESTRA_DEPLOYMENT_TYPE\", \"python\")\n",
    "high_port = os.environ.get(\"CLUSTER_HTTP_PORT_HIGH\", \"auto\")\n",
    "low_port = os.environ.get(\"CLUSTER_HTTP_PORT_LOW\", \"auto\")\n",
    "print(environment, high_port, low_port)"
   ]
  },
  {
   "cell_type": "code",
   "execution_count": null,
   "metadata": {},
   "outputs": [],
   "source": [
    "# isort: off\n",
    "# syft absolute\n",
    "import syft as sy\n",
    "from syft import test_helpers  # noqa: F401\n",
    "from syft import test_settings\n",
    "\n",
    "from email_helpers import get_email_server\n",
    "from worker_helpers import build_and_launch_worker_pool_from_docker_str\n",
    "from worker_helpers import launch_worker_pool_from_docker_tag_and_registry\n",
    "# isort: on"
   ]
  },
  {
   "cell_type": "markdown",
   "metadata": {},
   "source": [
    "# Launch server & login"
   ]
  },
  {
   "cell_type": "code",
   "execution_count": null,
   "metadata": {},
   "outputs": [],
   "source": [
    "server_low = sy.orchestra.launch(\n",
    "    name=\"bigquery-low\",\n",
    "    server_side_type=\"low\",\n",
    "    dev_mode=True,\n",
    "    reset=True,\n",
    "    n_consumers=1,\n",
    "    create_producer=True,\n",
    "    port=low_port,\n",
    ")\n",
    "\n",
    "server_high = sy.orchestra.launch(\n",
    "    name=\"bigquery-high\",\n",
    "    server_side_type=\"high\",\n",
    "    dev_mode=True,\n",
    "    reset=True,\n",
    "    n_consumers=1,\n",
    "    create_producer=True,\n",
    "    port=high_port,\n",
    ")"
   ]
  },
  {
   "cell_type": "markdown",
   "metadata": {},
   "source": [
    "### Email Server"
   ]
  },
  {
   "cell_type": "code",
   "execution_count": null,
   "metadata": {},
   "outputs": [],
   "source": [
    "email_server_low, smtp_server_low = get_email_server(reset=True, server_side_type=\"low\")\n",
    "email_server_high, smtp_server_high = get_email_server(\n",
    "    reset=True, server_side_type=\"high\"\n",
    ")"
   ]
  },
  {
   "cell_type": "code",
   "execution_count": null,
   "metadata": {},
   "outputs": [],
   "source": [
    "low_client = server_low.login(email=\"info@openmined.org\", password=\"changethis\")\n",
    "high_client = server_high.login(email=\"info@openmined.org\", password=\"changethis\")"
   ]
  },
  {
   "cell_type": "code",
   "execution_count": null,
   "metadata": {},
   "outputs": [],
   "source": [
    "assert len(high_client.worker_pools.get_all()) == 1\n",
    "assert len(low_client.worker_pools.get_all()) == 1"
   ]
  },
  {
   "cell_type": "markdown",
   "metadata": {},
   "source": [
    "# Setup High First\n",
    "\n",
    "- If using an external registery, we want to get this from the test_settings.\n",
    "- We build the docker image over the base docker image in Syft\n",
    "- We give a tag called worker-bigquery to our custom pool image"
   ]
  },
  {
   "cell_type": "code",
   "execution_count": null,
   "metadata": {},
   "outputs": [],
   "source": [
    "external_registry = test_settings.get(\"external_registry\", default=\"docker.io\")\n",
    "\n",
    "base_worker_image = high_client.images.get_all()[0]\n",
    "\n",
    "worker_dockerfile = f\"\"\"\n",
    "FROM {str(base_worker_image.image_identifier)}\n",
    "\n",
    "RUN uv pip install db-dtypes google-cloud-bigquery \n",
    "\n",
    "\"\"\".strip()\n",
    "\n",
    "docker_tag = str(base_worker_image.image_identifier).replace(\n",
    "    \"backend\", \"worker-bigquery\"\n",
    ")"
   ]
  },
  {
   "cell_type": "code",
   "execution_count": null,
   "metadata": {},
   "outputs": [],
   "source": [
    "worker_pool_name = \"bigquery-pool\"\n",
    "custom_pool_pod_annotations = {\"bigquery-custom-pool\": \"Pod annotation for bigquery\"}\n",
    "custom_pool_pod_labels = {\"bigquery-custom-pool\": \"Pod_label_for_bigquery\"}"
   ]
  },
  {
   "cell_type": "code",
   "execution_count": null,
   "metadata": {},
   "outputs": [],
   "source": [
    "build_and_launch_worker_pool_from_docker_str(\n",
    "    environment=environment,\n",
    "    client=high_client,\n",
    "    worker_pool_name=worker_pool_name,\n",
    "    custom_pool_pod_annotations=custom_pool_pod_annotations,\n",
    "    custom_pool_pod_labels=custom_pool_pod_labels,\n",
    "    worker_dockerfile=worker_dockerfile,\n",
    "    external_registry=external_registry,\n",
    "    docker_tag=docker_tag,\n",
    "    scale_to=2,\n",
    ")"
   ]
  },
  {
   "cell_type": "code",
   "execution_count": null,
   "metadata": {},
   "outputs": [],
   "source": [
    "assert len(high_client.worker_pools.get_all()) == 2"
   ]
  },
  {
   "cell_type": "code",
   "execution_count": null,
   "metadata": {},
   "outputs": [],
   "source": [
    "high_client.settings.allow_guest_signup(enable=False)"
   ]
  },
  {
   "cell_type": "markdown",
   "metadata": {},
   "source": [
    "# Setup Low"
   ]
  },
  {
   "cell_type": "code",
   "execution_count": null,
   "metadata": {},
   "outputs": [],
   "source": [
    "launch_result = launch_worker_pool_from_docker_tag_and_registry(\n",
    "    environment=environment,\n",
    "    client=low_client,\n",
    "    worker_pool_name=worker_pool_name,\n",
    "    custom_pool_pod_annotations=custom_pool_pod_annotations,\n",
    "    custom_pool_pod_labels=custom_pool_pod_labels,\n",
    "    docker_tag=docker_tag,\n",
    "    external_registry=external_registry,\n",
    "    scale_to=1,\n",
    ")"
   ]
  },
  {
   "cell_type": "code",
   "execution_count": null,
   "metadata": {},
   "outputs": [],
   "source": [
    "assert len(low_client.worker_pools.get_all()) == 2"
   ]
  },
  {
   "cell_type": "markdown",
   "metadata": {},
   "source": [
    "# Register a DS only on the low side"
   ]
  },
  {
   "cell_type": "code",
   "execution_count": null,
   "metadata": {},
   "outputs": [],
   "source": [
    "low_client.register(\n",
    "    email=\"data_scientist@openmined.org\",\n",
    "    password=\"verysecurepassword\",\n",
    "    password_verify=\"verysecurepassword\",\n",
    "    name=\"John Doe\",\n",
    ")"
   ]
  },
  {
   "cell_type": "code",
   "execution_count": null,
   "metadata": {},
   "outputs": [],
   "source": [
    "low_client.settings.allow_guest_signup(enable=False)"
   ]
  },
  {
   "cell_type": "code",
   "execution_count": null,
   "metadata": {},
   "outputs": [],
   "source": [
    "assert (\n",
    "    len(low_client.api.services.user.get_all()) == 2\n",
    "), \"Only DS and Admin should be at low side\"\n",
    "assert (\n",
    "    len(high_client.api.services.user.get_all()) == 1\n",
    "), \"Only Admin should be at high side\""
   ]
  },
  {
   "cell_type": "markdown",
   "metadata": {},
   "source": [
    "# Close"
   ]
  },
  {
   "cell_type": "code",
   "execution_count": null,
   "metadata": {},
   "outputs": [],
   "source": [
    "if environment != \"remote\":\n",
    "    server_high.land()\n",
    "    server_low.land()\n",
    "    smtp_server_low.stop()\n",
    "    smtp_server_high.stop()"
   ]
  }
 ],
 "metadata": {
  "kernelspec": {
   "display_name": "Python 3 (ipykernel)",
   "language": "python",
   "name": "python3"
  },
  "language_info": {
   "codemirror_mode": {
    "name": "ipython",
    "version": 3
   },
   "file_extension": ".py",
   "mimetype": "text/x-python",
   "name": "python",
   "nbconvert_exporter": "python",
   "pygments_lexer": "ipython3",
   "version": "3.12.3"
  }
 },
 "nbformat": 4,
 "nbformat_minor": 4
}

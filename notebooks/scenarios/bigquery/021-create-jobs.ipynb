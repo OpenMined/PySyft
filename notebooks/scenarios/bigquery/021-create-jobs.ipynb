{
 "cells": [
  {
   "cell_type": "code",
   "execution_count": null,
   "id": "0",
   "metadata": {},
   "outputs": [],
   "source": [
    "# stdlib\n",
    "# import os\n",
    "\n",
    "# os.environ[\"ORCHESTRA_DEPLOYMENT_TYPE\"] = \"remote\"\n",
    "# os.environ[\"DEV_MODE\"] = \"True\"\n",
    "# os.environ[\"TEST_EXTERNAL_REGISTRY\"] = \"k3d-registry.localhost:5800\""
   ]
  },
  {
   "cell_type": "code",
   "execution_count": null,
   "id": "1",
   "metadata": {},
   "outputs": [],
   "source": [
    "# use_live_bigquery = False\n",
    "# os.environ[\"TEST_BIGQUERY_APIS_LIVE\"] = str(use_live_bigquery)"
   ]
  },
  {
   "cell_type": "code",
   "execution_count": null,
   "id": "2",
   "metadata": {},
   "outputs": [],
   "source": [
    "# stdlib\n",
    "import os\n",
    "\n",
    "environment = os.environ.get(\"ORCHESTRA_DEPLOYMENT_TYPE\", \"python\")\n",
    "environment"
   ]
  },
  {
   "cell_type": "code",
   "execution_count": null,
   "id": "3",
   "metadata": {},
   "outputs": [],
   "source": [
    "# third party\n",
    "\n",
    "# syft absolute\n",
    "import syft as sy"
   ]
  },
  {
   "cell_type": "code",
   "execution_count": null,
   "id": "4",
   "metadata": {},
   "outputs": [],
   "source": [
    "# third party\n",
    "# run email server\n",
    "from helpers import EmailServer\n",
    "from helpers import SMTPTestServer\n",
    "\n",
    "email_server = EmailServer()\n",
    "email_server.reset_emails()\n",
    "smtp_server = SMTPTestServer(email_server)\n",
    "smtp_server.start()"
   ]
  },
  {
   "cell_type": "code",
   "execution_count": null,
   "id": "5",
   "metadata": {},
   "outputs": [],
   "source": [
    "SERVER_PORT = \"8080\"\n",
    "SERVER_URL = f\"http://localhost:{SERVER_PORT}\""
   ]
  },
  {
   "cell_type": "code",
   "execution_count": null,
   "id": "6",
   "metadata": {},
   "outputs": [],
   "source": [
    "server = sy.orchestra.launch(\n",
    "    name=\"bigquery-high\",\n",
    "    dev_mode=True,\n",
    "    server_side_type=\"high\",\n",
    "    port=SERVER_PORT,\n",
    "    n_consumers=4,  # How many workers to be spawned\n",
    "    create_producer=True,  # Can produce more workers\n",
    ")"
   ]
  },
  {
   "cell_type": "code",
   "execution_count": null,
   "id": "7",
   "metadata": {},
   "outputs": [],
   "source": [
    "ADMIN_EMAIL, ADMIN_PW = \"admin2@bigquery.org\", \"bqpw2\"\n",
    "high_client = sy.login(\n",
    "    url=\"http://localhost:8080\", email=ADMIN_EMAIL, password=ADMIN_PW\n",
    ")"
   ]
  },
  {
   "cell_type": "code",
   "execution_count": null,
   "id": "8",
   "metadata": {},
   "outputs": [],
   "source": [
    "# third party\n",
    "from helpers import load_users"
   ]
  },
  {
   "cell_type": "code",
   "execution_count": null,
   "id": "9",
   "metadata": {},
   "outputs": [],
   "source": [
    "users = load_users(high_client)"
   ]
  },
  {
   "cell_type": "markdown",
   "id": "10",
   "metadata": {},
   "source": [
    "# Create jobs"
   ]
  },
  {
   "cell_type": "code",
   "execution_count": null,
   "id": "11",
   "metadata": {},
   "outputs": [],
   "source": [
    "# third party\n",
    "from job_helpers import TestJob\n",
    "from job_helpers import create_jobs\n",
    "from job_helpers import extract_code_path"
   ]
  },
  {
   "cell_type": "markdown",
   "id": "12",
   "metadata": {},
   "source": [
    "# Test queries"
   ]
  },
  {
   "cell_type": "code",
   "execution_count": null,
   "id": "13",
   "metadata": {},
   "outputs": [],
   "source": [
    "# maybe we should assign one of each first, and then randomly generate the rest\n",
    "n_per_user = 2\n",
    "\n",
    "jobs = create_jobs(users, n_per_user=n_per_user)"
   ]
  },
  {
   "cell_type": "code",
   "execution_count": null,
   "id": "14",
   "metadata": {},
   "outputs": [],
   "source": [
    "jobs"
   ]
  },
  {
   "cell_type": "code",
   "execution_count": null,
   "id": "15",
   "metadata": {},
   "outputs": [],
   "source": [
    "# third party\n",
    "from job_helpers import save_jobs"
   ]
  },
  {
   "cell_type": "code",
   "execution_count": null,
   "id": "16",
   "metadata": {},
   "outputs": [],
   "source": [
    "print(f\"num jobs: {len(jobs)}\")\n",
    "num_should_submit = 0\n",
    "for job in jobs:\n",
    "    print(\n",
    "        f\"Job type: {job.job_type}, should succeed: {job.should_succeed}, should submit: {job.should_submit}\"\n",
    "    )\n",
    "    if job.should_submit:\n",
    "        num_should_submit += 1"
   ]
  },
  {
   "cell_type": "code",
   "execution_count": null,
   "id": "17",
   "metadata": {},
   "outputs": [],
   "source": [
    "assert len(jobs) == len(users) * n_per_user\n",
    "assert all(isinstance(j, TestJob) for j in jobs)\n",
    "assert all(job.client is not None for job in jobs)"
   ]
  },
  {
   "cell_type": "code",
   "execution_count": null,
   "id": "18",
   "metadata": {},
   "outputs": [],
   "source": [
    "save_jobs(jobs)"
   ]
  },
  {
   "cell_type": "markdown",
   "id": "19",
   "metadata": {},
   "source": [
    "# Submit jobs\n"
   ]
  },
  {
   "cell_type": "code",
   "execution_count": null,
   "id": "20",
   "metadata": {},
   "outputs": [],
   "source": [
    "admin_emails_before = len(email_server.get_emails_for_user(\"admin@bigquery.org\"))\n",
    "print(\"admin emails before\", admin_emails_before)\n",
    "admin_emails_before"
   ]
  },
  {
   "cell_type": "code",
   "execution_count": null,
   "id": "21",
   "metadata": {},
   "outputs": [],
   "source": [
    "# stdlib\n",
    "\n",
    "responses = []\n",
    "\n",
    "for job in jobs:\n",
    "    client = job.client\n",
    "\n",
    "    if not job.should_submit:\n",
    "        # Submitting should throw error (eg func_name invalid syntax)\n",
    "        with sy.raises(sy.SyftException):\n",
    "            response = client.api.services.bigquery.submit_query(\n",
    "                func_name=job.func_name, query=job.query\n",
    "            )\n",
    "        responses.append(None)\n",
    "    else:\n",
    "        response = client.api.services.bigquery.submit_query(\n",
    "            func_name=job.func_name, query=job.query\n",
    "        )\n",
    "        job.code_path = extract_code_path(response)\n",
    "        responses.append(response)\n",
    "\n",
    "    # time.sleep(1)"
   ]
  },
  {
   "cell_type": "code",
   "execution_count": null,
   "id": "22",
   "metadata": {},
   "outputs": [],
   "source": [
    "for job in jobs:\n",
    "    print(\n",
    "        f\"Job {job.func_name:.20} is submitted, {job.should_submit}, should be submitted {job.is_submitted}\"\n",
    "    )\n",
    "\n",
    "assert all(job.is_submitted == job.should_submit for job in jobs)"
   ]
  },
  {
   "cell_type": "code",
   "execution_count": null,
   "id": "23",
   "metadata": {},
   "outputs": [],
   "source": [
    "save_jobs(jobs)"
   ]
  },
  {
   "cell_type": "markdown",
   "id": "24",
   "metadata": {},
   "source": [
    "## Test: cannot execute"
   ]
  },
  {
   "cell_type": "code",
   "execution_count": null,
   "id": "25",
   "metadata": {},
   "outputs": [],
   "source": [
    "submitted_jobs = [job for job in jobs if job.should_submit]\n",
    "\n",
    "assert len(submitted_jobs)  # failsafe for next tests"
   ]
  },
  {
   "cell_type": "code",
   "execution_count": null,
   "id": "26",
   "metadata": {},
   "outputs": [],
   "source": [
    "# Blocking\n",
    "\n",
    "for job in submitted_jobs:\n",
    "    execute_code_fn = getattr(job.client.code, job.code_path)\n",
    "    with sy.raises(\n",
    "        sy.SyftException(public_message=\"*Your code is waiting for approval*\")\n",
    "    ):\n",
    "        result = execute_code_fn()"
   ]
  },
  {
   "cell_type": "code",
   "execution_count": null,
   "id": "27",
   "metadata": {},
   "outputs": [],
   "source": [
    "# Nonblocking\n",
    "\n",
    "# syft absolute\n",
    "from syft.service.job.job_stash import JobStatus\n",
    "\n",
    "for job in submitted_jobs:\n",
    "    execute_code_fn = getattr(job.client.code, job.code_path)\n",
    "    result_job = execute_code_fn(blocking=False)\n",
    "    result_job.wait()\n",
    "    assert isinstance(result_job.result, sy.SyftError)\n",
    "    assert result_job.status == JobStatus.ERRORED\n",
    "    # time.sleep(1)"
   ]
  },
  {
   "cell_type": "code",
   "execution_count": null,
   "id": "28",
   "metadata": {},
   "outputs": [],
   "source": [
    "admin_emails_after = len(email_server.get_emails_for_user(\"admin@bigquery.org\"))\n",
    "print(\"admin emails after\", admin_emails_after)\n",
    "assert admin_emails_after >= admin_emails_before + num_should_submit\n",
    "# assert len(users_emails) > after_number_of_emails\n",
    "# assert len(users_emails) == after_number_of_emails + 1"
   ]
  },
  {
   "cell_type": "code",
   "execution_count": null,
   "id": "29",
   "metadata": {},
   "outputs": [],
   "source": [
    "smtp_server.stop()"
   ]
  },
  {
   "cell_type": "code",
   "execution_count": null,
   "id": "30",
   "metadata": {},
   "outputs": [],
   "source": [
    "server.land()"
   ]
  },
  {
   "cell_type": "code",
   "execution_count": null,
   "id": "31",
   "metadata": {},
   "outputs": [],
   "source": []
  }
 ],
 "metadata": {
  "kernelspec": {
   "display_name": "Python 3 (ipykernel)",
   "language": "python",
   "name": "python3"
  },
  "language_info": {
   "codemirror_mode": {
    "name": "ipython",
    "version": 3
   },
   "file_extension": ".py",
   "mimetype": "text/x-python",
   "name": "python",
   "nbconvert_exporter": "python",
   "pygments_lexer": "ipython3",
   "version": "3.12.2"
  }
 },
 "nbformat": 4,
 "nbformat_minor": 5
}

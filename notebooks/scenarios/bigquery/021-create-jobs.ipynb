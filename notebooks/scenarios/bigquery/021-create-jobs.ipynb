{
 "cells": [
  {
   "cell_type": "code",
   "execution_count": null,
   "id": "0",
   "metadata": {},
   "outputs": [],
   "source": [
    "# stdlib\n",
    "# import os\n",
    "\n",
    "# os.environ[\"ORCHESTRA_DEPLOYMENT_TYPE\"] = \"remote\"\n",
    "# os.environ[\"DEV_MODE\"] = \"True\"\n",
    "# os.environ[\"TEST_EXTERNAL_REGISTRY\"] = \"k3d-registry.localhost:5800\""
   ]
  },
  {
   "cell_type": "code",
   "execution_count": null,
   "id": "1",
   "metadata": {},
   "outputs": [],
   "source": [
    "# use_live_bigquery = False\n",
    "# os.environ[\"TEST_BIGQUERY_APIS_LIVE\"] = str(use_live_bigquery)"
   ]
  },
  {
   "cell_type": "code",
   "execution_count": null,
   "id": "2",
   "metadata": {},
   "outputs": [],
   "source": [
    "# stdlib\n",
    "from collections import Counter\n",
    "import os\n",
    "\n",
    "# third party\n",
    "from helpers import get_email_server\n",
    "\n",
    "# syft absolute\n",
    "import syft as sy\n",
    "from syft.service.job.job_stash import JobStatus"
   ]
  },
  {
   "cell_type": "code",
   "execution_count": null,
   "id": "3",
   "metadata": {},
   "outputs": [],
   "source": [
    "environment = os.environ.get(\"ORCHESTRA_DEPLOYMENT_TYPE\", \"python\")\n",
    "environment"
   ]
  },
  {
   "cell_type": "code",
   "execution_count": null,
   "id": "4",
   "metadata": {},
   "outputs": [],
   "source": [
    "SERVER_PORT = \"8080\"\n",
    "SERVER_URL = f\"http://localhost:{SERVER_PORT}\"\n",
    "ADMIN_EMAIL, ADMIN_PW = \"admin2@bigquery.org\", \"bqpw2\""
   ]
  },
  {
   "cell_type": "markdown",
   "id": "5",
   "metadata": {},
   "source": [
    "# Launch server & login"
   ]
  },
  {
   "cell_type": "code",
   "execution_count": null,
   "id": "6",
   "metadata": {},
   "outputs": [],
   "source": [
    "server = sy.orchestra.launch(\n",
    "    name=\"bigquery-high\",\n",
    "    dev_mode=True,\n",
    "    server_side_type=\"high\",\n",
    "    port=SERVER_PORT,\n",
    "    n_consumers=4,  # How many workers to be spawned\n",
    "    create_producer=True,  # Can produce more workers\n",
    ")"
   ]
  },
  {
   "cell_type": "code",
   "execution_count": null,
   "id": "7",
   "metadata": {},
   "outputs": [],
   "source": [
    "email_server, smtp_server = get_email_server(reset=True)"
   ]
  },
  {
   "cell_type": "code",
   "execution_count": null,
   "id": "8",
   "metadata": {},
   "outputs": [],
   "source": [
    "high_client = sy.login(\n",
    "    url=\"http://localhost:8080\", email=ADMIN_EMAIL, password=ADMIN_PW\n",
    ")"
   ]
  },
  {
   "cell_type": "code",
   "execution_count": null,
   "id": "9",
   "metadata": {},
   "outputs": [],
   "source": [
    "# third party\n",
    "from helpers import load_users"
   ]
  },
  {
   "cell_type": "code",
   "execution_count": null,
   "id": "10",
   "metadata": {},
   "outputs": [],
   "source": [
    "users = load_users(high_client)"
   ]
  },
  {
   "cell_type": "markdown",
   "id": "11",
   "metadata": {},
   "source": [
    "# Create jobs"
   ]
  },
  {
   "cell_type": "code",
   "execution_count": null,
   "id": "12",
   "metadata": {},
   "outputs": [],
   "source": [
    "# third party\n",
    "from job_helpers import TestJob\n",
    "from job_helpers import create_jobs\n",
    "from job_helpers import extract_code_path"
   ]
  },
  {
   "cell_type": "markdown",
   "id": "13",
   "metadata": {},
   "source": [
    "# Inspect job data (requests for these jobs to be created)"
   ]
  },
  {
   "cell_type": "code",
   "execution_count": null,
   "id": "14",
   "metadata": {},
   "outputs": [],
   "source": [
    "num_jobs = int(os.environ.get(\"NUM_TEST_JOBS\", 10))\n",
    "\n",
    "jobs_data = create_jobs(users, total_jobs=num_jobs)"
   ]
  },
  {
   "cell_type": "code",
   "execution_count": null,
   "id": "15",
   "metadata": {},
   "outputs": [],
   "source": [
    "counts = Counter([j.job_type for j in jobs_data])\n",
    "for k, v in counts.most_common():\n",
    "    print(f\"{k}: #{v}\")"
   ]
  },
  {
   "cell_type": "code",
   "execution_count": null,
   "id": "16",
   "metadata": {},
   "outputs": [],
   "source": [
    "# third party\n",
    "from job_helpers import save_jobs"
   ]
  },
  {
   "cell_type": "code",
   "execution_count": null,
   "id": "17",
   "metadata": {},
   "outputs": [],
   "source": [
    "print(f\"{len(jobs_data)=}\")\n",
    "\n",
    "for job in jobs_data:\n",
    "    print(f\"{job.job_type=}, {job.should_succeed=}, {job.should_submit=}\")"
   ]
  },
  {
   "cell_type": "code",
   "execution_count": null,
   "id": "18",
   "metadata": {},
   "outputs": [],
   "source": [
    "assert len(jobs_data) == num_jobs\n",
    "assert all(isinstance(j, TestJob) for j in jobs_data)\n",
    "assert all(job.client is not None for job in jobs_data)"
   ]
  },
  {
   "cell_type": "code",
   "execution_count": null,
   "id": "19",
   "metadata": {},
   "outputs": [],
   "source": [
    "save_jobs(jobs_data)"
   ]
  },
  {
   "cell_type": "markdown",
   "id": "20",
   "metadata": {},
   "source": [
    "# Submit jobs\n"
   ]
  },
  {
   "cell_type": "code",
   "execution_count": null,
   "id": "21",
   "metadata": {},
   "outputs": [],
   "source": [
    "admin_emails_before = len(email_server.get_emails_for_user(\"admin@bigquery.org\"))\n",
    "print(f\"{admin_emails_before=}\")"
   ]
  },
  {
   "cell_type": "markdown",
   "id": "22",
   "metadata": {},
   "source": [
    "## Test Succesful jobs"
   ]
  },
  {
   "cell_type": "code",
   "execution_count": null,
   "id": "23",
   "metadata": {},
   "outputs": [],
   "source": [
    "jobs_submit_should_succeed = [j for j in jobs_data if j.should_submit]"
   ]
  },
  {
   "cell_type": "code",
   "execution_count": null,
   "id": "24",
   "metadata": {},
   "outputs": [],
   "source": [
    "for job in jobs_submit_should_succeed:\n",
    "    client = job.client\n",
    "    response = client.api.services.bigquery.submit_query(\n",
    "        func_name=job.func_name, query=job.query\n",
    "    )\n",
    "    job.code_path = extract_code_path(response)"
   ]
  },
  {
   "cell_type": "markdown",
   "id": "25",
   "metadata": {},
   "source": [
    "## Test failures"
   ]
  },
  {
   "cell_type": "code",
   "execution_count": null,
   "id": "26",
   "metadata": {},
   "outputs": [],
   "source": [
    "jobs_submit_should_fail = [j for j in jobs_data if not j.should_submit]"
   ]
  },
  {
   "cell_type": "code",
   "execution_count": null,
   "id": "27",
   "metadata": {},
   "outputs": [],
   "source": [
    "for job in jobs_submit_should_fail:\n",
    "    client = job.client\n",
    "\n",
    "    with sy.raises(sy.SyftException):\n",
    "        client.api.services.bigquery.submit_query(\n",
    "            func_name=job.func_name, query=job.query\n",
    "        )"
   ]
  },
  {
   "cell_type": "code",
   "execution_count": null,
   "id": "28",
   "metadata": {},
   "outputs": [],
   "source": [
    "for job in jobs_data:\n",
    "    print(f\"Job {job.func_name:.20} {job.should_submit=}, {job.is_submitted=}\")\n",
    "\n",
    "assert all(job.is_submitted == job.should_submit for job in jobs_data)"
   ]
  },
  {
   "cell_type": "code",
   "execution_count": null,
   "id": "29",
   "metadata": {},
   "outputs": [],
   "source": [
    "save_jobs(jobs_data)"
   ]
  },
  {
   "cell_type": "markdown",
   "id": "30",
   "metadata": {},
   "source": [
    "## Test: cannot execute submitted jobs yet"
   ]
  },
  {
   "cell_type": "code",
   "execution_count": null,
   "id": "31",
   "metadata": {},
   "outputs": [],
   "source": [
    "submitted_jobs = [job for job in jobs_data if job.should_submit]\n",
    "job_execution_fns = [getattr(job.client.code, job.code_path) for job in submitted_jobs]\n",
    "assert len(submitted_jobs)  # failsafe for next tests"
   ]
  },
  {
   "cell_type": "code",
   "execution_count": null,
   "id": "32",
   "metadata": {},
   "outputs": [],
   "source": [
    "for fn in job_execution_fns:\n",
    "    # blocking\n",
    "    with sy.raises(\n",
    "        sy.SyftException(public_message=\"*Your code is waiting for approval*\")\n",
    "    ):\n",
    "        result = fn()"
   ]
  },
  {
   "cell_type": "code",
   "execution_count": null,
   "id": "33",
   "metadata": {},
   "outputs": [],
   "source": [
    "for fn in job_execution_fns:\n",
    "    # nonblocking\n",
    "    result_job = fn(blocking=False)\n",
    "    result_job.wait()\n",
    "    assert isinstance(result_job.result, sy.SyftError)\n",
    "    assert result_job.status == JobStatus.ERRORED"
   ]
  },
  {
   "cell_type": "markdown",
   "id": "34",
   "metadata": {},
   "source": [
    "# Verify that admin has emails for submitted requests"
   ]
  },
  {
   "cell_type": "code",
   "execution_count": null,
   "id": "35",
   "metadata": {},
   "outputs": [],
   "source": [
    "num_should_submit = sum(j.should_submit for j in jobs_data)\n",
    "admin_emails_after = len(email_server.get_emails_for_user(\"admin@bigquery.org\"))\n",
    "print(\"admin emails after\", admin_emails_after)\n",
    "assert admin_emails_after >= admin_emails_before + num_should_submit\n",
    "# assert len(users_emails) > after_number_of_emails\n",
    "# assert len(users_emails) == after_number_of_emails + 1"
   ]
  },
  {
   "cell_type": "markdown",
   "id": "36",
   "metadata": {},
   "source": [
    "# Cleanup"
   ]
  },
  {
   "cell_type": "code",
   "execution_count": null,
   "id": "37",
   "metadata": {},
   "outputs": [],
   "source": [
    "smtp_server.stop()"
   ]
  },
  {
   "cell_type": "code",
   "execution_count": null,
   "id": "38",
   "metadata": {},
   "outputs": [],
   "source": [
    "server.land()"
   ]
  },
  {
   "cell_type": "code",
   "execution_count": null,
   "id": "39",
   "metadata": {},
   "outputs": [],
   "source": []
  }
 ],
 "metadata": {
  "language_info": {
   "codemirror_mode": {
    "name": "ipython",
    "version": 3
   },
   "file_extension": ".py",
   "mimetype": "text/x-python",
   "name": "python",
   "nbconvert_exporter": "python",
   "pygments_lexer": "ipython3",
   "version": "3.12.5"
  }
 },
 "nbformat": 4,
 "nbformat_minor": 5
}

{
 "cells": [
  {
   "cell_type": "code",
   "execution_count": null,
   "id": "0",
   "metadata": {},
   "outputs": [],
   "source": [
    "# import os\n",
    "# os.environ[\"ORCHESTRA_DEPLOYMENT_TYPE\"] = \"remote\"\n",
    "# os.environ[\"DEV_MODE\"] = \"True\"\n",
    "# os.environ[\"TEST_EXTERNAL_REGISTRY\"] = \"k3d-registry.localhost:5800\"\n",
    "# stdlib"
   ]
  },
  {
   "cell_type": "code",
   "execution_count": null,
   "id": "1",
   "metadata": {},
   "outputs": [],
   "source": [
    "# stdlib\n",
    "import os\n",
    "\n",
    "# third party\n",
    "from helpers import Timeout\n",
    "from helpers import get_email_server\n",
    "\n",
    "# syft absolute\n",
    "import syft as sy"
   ]
  },
  {
   "cell_type": "code",
   "execution_count": null,
   "id": "2",
   "metadata": {},
   "outputs": [],
   "source": [
    "environment = os.environ.get(\"ORCHESTRA_DEPLOYMENT_TYPE\", \"python\")\n",
    "\n",
    "num_workers = int(os.environ.get(\"NUM_TEST_WORKERS\", 1))\n",
    "\n",
    "ROOT_EMAIL = \"admin@bigquery.org\"\n",
    "ROOT_PASSWORD = \"bqpw\"\n",
    "environment"
   ]
  },
  {
   "cell_type": "markdown",
   "id": "3",
   "metadata": {},
   "source": [
    "### Launch server & login"
   ]
  },
  {
   "cell_type": "code",
   "execution_count": null,
   "id": "4",
   "metadata": {},
   "outputs": [],
   "source": [
    "server = sy.orchestra.launch(\n",
    "    name=\"bigquery-high\",\n",
    "    dev_mode=True,\n",
    "    server_side_type=\"high\",\n",
    "    port=\"8080\",\n",
    "    n_consumers=num_workers,  # How many workers to be spawned\n",
    "    create_producer=True,  # Can produce more workers\n",
    ")"
   ]
  },
  {
   "cell_type": "code",
   "execution_count": null,
   "id": "5",
   "metadata": {},
   "outputs": [],
   "source": [
    "email_server, smtp_server = get_email_server(reset=True)"
   ]
  },
  {
   "cell_type": "code",
   "execution_count": null,
   "id": "6",
   "metadata": {},
   "outputs": [],
   "source": [
    "high_client = sy.login(\n",
    "    url=\"http://localhost:8080\", email=ROOT_EMAIL, password=ROOT_PASSWORD\n",
    ")"
   ]
  },
  {
   "cell_type": "code",
   "execution_count": null,
   "id": "7",
   "metadata": {},
   "outputs": [],
   "source": [
    "high_client.worker_pools"
   ]
  },
  {
   "cell_type": "code",
   "execution_count": null,
   "id": "8",
   "metadata": {},
   "outputs": [],
   "source": [
    "default_worker_pool = high_client.worker_pools.get_by_name(\"default-pool\")\n",
    "default_worker_pool"
   ]
  },
  {
   "cell_type": "markdown",
   "id": "9",
   "metadata": {},
   "source": [
    "### Scale Worker pool"
   ]
  },
  {
   "cell_type": "markdown",
   "id": "10",
   "metadata": {},
   "source": [
    "##### Scale up"
   ]
  },
  {
   "cell_type": "code",
   "execution_count": null,
   "id": "11",
   "metadata": {},
   "outputs": [],
   "source": [
    "# Scale to 1\n",
    "if environment == \"remote\":\n",
    "    high_client.api.worker_pool.scale(\n",
    "        number=num_workers, pool_name=default_worker_pool.name\n",
    "    )"
   ]
  },
  {
   "cell_type": "code",
   "execution_count": null,
   "id": "12",
   "metadata": {},
   "outputs": [],
   "source": [
    "high_client.api.services.worker_pool[0]"
   ]
  },
  {
   "cell_type": "code",
   "execution_count": null,
   "id": "13",
   "metadata": {},
   "outputs": [],
   "source": [
    "# Scale up workers\n",
    "if environment == \"remote\":\n",
    "    scale_up_result = high_client.api.worker_pool.scale(\n",
    "        number=5, pool_name=default_worker_pool.name\n",
    "    )\n",
    "    if environment == \"remote\":\n",
    "        assert scale_up_result, scale_up_result\n",
    "\n",
    "        assert (\n",
    "            high_client.api.services.worker_pool[default_worker_pool.name].max_count\n",
    "            == 5\n",
    "        )"
   ]
  },
  {
   "cell_type": "markdown",
   "id": "14",
   "metadata": {},
   "source": [
    "##### Give workers some long-running jobs\n"
   ]
  },
  {
   "cell_type": "code",
   "execution_count": null,
   "id": "15",
   "metadata": {},
   "outputs": [],
   "source": [
    "@sy.syft_function_single_use(worker_pool_name=default_worker_pool.name)\n",
    "def wait_1000_seconds_1():\n",
    "    # stdlib\n",
    "    import time\n",
    "\n",
    "    time.sleep(1000)\n",
    "\n",
    "\n",
    "@sy.syft_function_single_use(worker_pool_name=default_worker_pool.name)\n",
    "def wait_1000_seconds_2():\n",
    "    # stdlib\n",
    "    import time\n",
    "\n",
    "    time.sleep(1000)\n",
    "\n",
    "\n",
    "@sy.syft_function_single_use(worker_pool_name=default_worker_pool.name)\n",
    "def wait_1000_seconds_3():\n",
    "    # stdlib\n",
    "    import time\n",
    "\n",
    "    time.sleep(1000)"
   ]
  },
  {
   "cell_type": "code",
   "execution_count": null,
   "id": "20",
   "metadata": {},
   "outputs": [],
   "source": [
    "jobs = []\n",
    "high_client.code.request_code_execution(wait_1000_seconds_1)\n",
    "high_client.code.request_code_execution(wait_1000_seconds_2)\n",
    "high_client.code.request_code_execution(wait_1000_seconds_3)\n",
    "\n",
    "assert len(list(high_client.requests)) == 3\n",
    "for request in high_client.requests:\n",
    "    request.approve()"
   ]
  },
  {
   "cell_type": "code",
   "execution_count": null,
   "id": "21",
   "metadata": {},
   "outputs": [],
   "source": [
    "jobs = []\n",
    "jobs.append(high_client.code.wait_1000_seconds_1(blocking=False))\n",
    "jobs.append(high_client.code.wait_1000_seconds_2(blocking=False))\n",
    "jobs.append(high_client.code.wait_1000_seconds_3(blocking=False))\n",
    "\n",
    "\n",
    "assert len(list(high_client.jobs)) == 3"
   ]
  },
  {
   "cell_type": "code",
   "execution_count": null,
   "id": "22",
   "metadata": {},
   "outputs": [],
   "source": [
    "# check that at least three workers have a job (since scaling down to 2)\n",
    "# try 3 times with a 1 second sleep in case it takes time for the workers to accept the jobs\n",
    "for _ in range(3):\n",
    "    worker_to_job_map = {}\n",
    "    syft_workers_ids = set()\n",
    "    for job in high_client.jobs:\n",
    "        if job.status == \"processing\":\n",
    "            syft_workers_ids.add(job.worker.id)\n",
    "            worker_to_job_map[job.worker.id] = job.id\n",
    "    if len(syft_workers_ids) < 3:\n",
    "        time.sleep(1)\n",
    "    else:\n",
    "        break\n",
    "assert len(syft_workers_ids) >= 3"
   ]
  },
  {
   "cell_type": "markdown",
   "id": "23",
   "metadata": {},
   "source": [
    "##### Scale down"
   ]
  },
  {
   "cell_type": "code",
   "execution_count": null,
   "id": "24",
   "metadata": {},
   "outputs": [],
   "source": [
    "# Scale down workers, this gracefully shutdowns the consumers\n",
    "if environment == \"remote\":\n",
    "    scale_down_result = high_client.api.worker_pool.scale(\n",
    "        number=num_workers, pool_name=default_worker_pool.name\n",
    "    )\n",
    "    assert scale_down_result, scale_down_result"
   ]
  },
  {
   "cell_type": "code",
   "execution_count": null,
   "id": "25",
   "metadata": {},
   "outputs": [],
   "source": [
    "if environment == \"remote\":\n",
    "\n",
    "    def has_worker_scaled_down():\n",
    "        worker_count_condition = (\n",
    "            high_client.api.worker_pool[default_worker_pool.name].max_count\n",
    "            == num_workers\n",
    "        )\n",
    "        current_worker_ids = {\n",
    "            worker.id\n",
    "            for worker in high_client.api.services.worker_pool[\n",
    "                default_worker_pool.name\n",
    "            ].workers\n",
    "        }\n",
    "        job_status_condition = [\n",
    "            job.status == \"interrupted\"\n",
    "            for job in high_client.jobs\n",
    "            if job.job_worker_id is not None\n",
    "            and job.job_worker_id not in current_worker_ids\n",
    "        ]\n",
    "\n",
    "        jobs_on_old_workers_are_interrupted = all(job_status_condition)\n",
    "        return worker_count_condition and jobs_on_old_workers_are_interrupted\n",
    "\n",
    "    worker_scale_timeout = Timeout(timeout_duration=60)\n",
    "    worker_scale_timeout.run_with_timeout(has_worker_scaled_down)"
   ]
  },
  {
   "cell_type": "code",
   "execution_count": null,
   "id": "26",
   "metadata": {},
   "outputs": [],
   "source": [
    "if environment == \"remote\":\n",
    "    assert (\n",
    "        high_client.api.services.worker_pool[default_worker_pool.name].max_count\n",
    "        == num_workers\n",
    "    )"
   ]
  },
  {
   "cell_type": "markdown",
   "id": "27",
   "metadata": {},
   "source": [
    "#### Delete Worker Pool"
   ]
  },
  {
   "cell_type": "code",
   "execution_count": null,
   "id": "28",
   "metadata": {},
   "outputs": [],
   "source": [
    "pool_delete_result = high_client.api.services.worker_pool.delete(\n",
    "    pool_name=default_worker_pool.name\n",
    ")\n",
    "pool_delete_result"
   ]
  },
  {
   "cell_type": "code",
   "execution_count": null,
   "id": "29",
   "metadata": {},
   "outputs": [],
   "source": [
    "with sy.raises(KeyError):\n",
    "    _ = high_client.api.services.worker_pool[default_worker_pool.name]"
   ]
  },
  {
   "cell_type": "code",
   "execution_count": null,
   "id": "30",
   "metadata": {},
   "outputs": [],
   "source": [
    "# check that all jobs are interrupted\n",
    "# should be the case since the entire pool was deleted and all jobs were previously assigned\n",
    "assert all(job.status == \"interrupted\" for job in high_client.jobs)"
   ]
  },
  {
   "cell_type": "markdown",
   "id": "31",
   "metadata": {},
   "source": [
    "#### Re-launch the default worker pool"
   ]
  },
  {
   "cell_type": "code",
   "execution_count": null,
   "id": "32",
   "metadata": {},
   "outputs": [],
   "source": [
    "default_worker_image = default_worker_pool.image"
   ]
  },
  {
   "cell_type": "code",
   "execution_count": null,
   "id": "33",
   "metadata": {},
   "outputs": [],
   "source": [
    "launch_result = high_client.api.services.worker_pool.launch(\n",
    "    pool_name=default_worker_pool.name,\n",
    "    image_uid=default_worker_image.id,\n",
    "    num_workers=num_workers,\n",
    ")"
   ]
  },
  {
   "cell_type": "code",
   "execution_count": null,
   "id": "34",
   "metadata": {},
   "outputs": [],
   "source": [
    "assert high_client.api.services.worker_pool[default_worker_pool.name]\n",
    "assert (\n",
    "    high_client.api.services.worker_pool[default_worker_pool.name].max_count\n",
    "    == num_workers\n",
    ")"
   ]
  },
  {
   "cell_type": "code",
   "execution_count": null,
   "id": "35",
   "metadata": {},
   "outputs": [],
   "source": [
    "smtp_server.stop()"
   ]
  },
  {
   "cell_type": "code",
   "execution_count": null,
   "id": "36",
   "metadata": {},
   "outputs": [],
   "source": [
    "server.land()"
   ]
  },
  {
   "cell_type": "code",
   "execution_count": null,
   "id": "37",
   "metadata": {},
   "outputs": [],
   "source": []
  }
 ],
 "metadata": {
  "kernelspec": {
   "display_name": "syft",
   "language": "python",
   "name": "python3"
  },
  "language_info": {
   "codemirror_mode": {
    "name": "ipython",
    "version": 3
   },
   "file_extension": ".py",
   "mimetype": "text/x-python",
   "name": "python",
   "nbconvert_exporter": "python",
   "pygments_lexer": "ipython3",
   "version": "3.12.4"
  }
 },
 "nbformat": 4,
 "nbformat_minor": 5
}

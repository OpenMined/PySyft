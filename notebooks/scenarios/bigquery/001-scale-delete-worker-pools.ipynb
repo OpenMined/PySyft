{
 "cells": [
  {
   "cell_type": "code",
   "execution_count": null,
   "id": "0",
   "metadata": {},
   "outputs": [],
   "source": [
    "# import os\n",
    "# os.environ[\"ORCHESTRA_DEPLOYMENT_TYPE\"] = \"remote\"\n",
    "# os.environ[\"DEV_MODE\"] = \"True\"\n",
    "# os.environ[\"TEST_EXTERNAL_REGISTRY\"] = \"k3d-registry.localhost:5800\""
   ]
  },
  {
   "cell_type": "markdown",
   "id": "1",
   "metadata": {},
   "source": [
    "#### Helpers"
   ]
  },
  {
   "cell_type": "code",
   "execution_count": null,
   "id": "2",
   "metadata": {},
   "outputs": [],
   "source": [
    "# stdlib\n",
    "import time\n",
    "\n",
    "\n",
    "class TimeoutError(Exception):\n",
    "    pass\n",
    "\n",
    "\n",
    "class Timeout:\n",
    "    def __init__(self, timeout_duration):\n",
    "        if timeout_duration > 60:\n",
    "            raise ValueError(\"Timeout duration cannot exceed 60 seconds.\")\n",
    "        self.timeout_duration = timeout_duration\n",
    "\n",
    "    def run_with_timeout(self, condition_func, *args, **kwargs):\n",
    "        start_time = time.time()\n",
    "        result = None\n",
    "\n",
    "        while True:\n",
    "            elapsed_time = time.time() - start_time\n",
    "            if elapsed_time > self.timeout_duration:\n",
    "                raise TimeoutError(\n",
    "                    f\"Function execution exceeded {self.timeout_duration} seconds.\"\n",
    "                )\n",
    "\n",
    "            # Check if the condition is met\n",
    "            try:\n",
    "                if condition_func():\n",
    "                    print(\"Condition met, exiting early.\")\n",
    "                    break\n",
    "            except Exception as e:\n",
    "                print(f\"Exception in target function: {e}\")\n",
    "                break  # Exit the loop if an exception occurs in the function\n",
    "            time.sleep(1)\n",
    "\n",
    "        return result"
   ]
  },
  {
   "cell_type": "markdown",
   "id": "3",
   "metadata": {},
   "source": [
    "### Import lib"
   ]
  },
  {
   "cell_type": "code",
   "execution_count": null,
   "id": "4",
   "metadata": {},
   "outputs": [],
   "source": [
    "# stdlib\n",
    "import os\n",
    "\n",
    "environment = os.environ.get(\"ORCHESTRA_DEPLOYMENT_TYPE\", \"python\")\n",
    "environment"
   ]
  },
  {
   "cell_type": "code",
   "execution_count": null,
   "id": "5",
   "metadata": {},
   "outputs": [],
   "source": [
    "num_workers = int(os.environ.get(\"NUM_TEST_WORKERS\", 1))"
   ]
  },
  {
   "cell_type": "code",
   "execution_count": null,
   "id": "6",
   "metadata": {},
   "outputs": [],
   "source": [
    "# stdlib\n",
    "\n",
    "# syft absolute\n",
    "import syft as sy"
   ]
  },
  {
   "cell_type": "code",
   "execution_count": null,
   "id": "7",
   "metadata": {},
   "outputs": [],
   "source": [
    "# third party\n",
    "# run email server\n",
    "from helpers import EmailServer\n",
    "from helpers import SMTPTestServer\n",
    "\n",
    "email_server = EmailServer()\n",
    "email_server.reset_emails()\n",
    "smtp_server = SMTPTestServer(email_server)\n",
    "smtp_server.start()"
   ]
  },
  {
   "cell_type": "code",
   "execution_count": null,
   "id": "8",
   "metadata": {},
   "outputs": [],
   "source": [
    "server = sy.orchestra.launch(\n",
    "    name=\"bigquery-high\",\n",
    "    dev_mode=True,\n",
    "    server_side_type=\"high\",\n",
    "    port=\"8080\",\n",
    "    n_consumers=num_workers,  # How many workers to be spawned\n",
    "    create_producer=True,  # Can produce more workers\n",
    ")"
   ]
  },
  {
   "cell_type": "code",
   "execution_count": null,
   "id": "9",
   "metadata": {},
   "outputs": [],
   "source": [
    "ROOT_EMAIL = \"admin@bigquery.org\"\n",
    "ROOT_PASSWORD = \"bqpw\""
   ]
  },
  {
   "cell_type": "code",
   "execution_count": null,
   "id": "10",
   "metadata": {},
   "outputs": [],
   "source": [
    "high_client = sy.login(\n",
    "    url=\"http://localhost:8080\", email=ROOT_EMAIL, password=ROOT_PASSWORD\n",
    ")"
   ]
  },
  {
   "cell_type": "code",
   "execution_count": null,
   "id": "11",
   "metadata": {},
   "outputs": [],
   "source": [
    "high_client.worker_pools"
   ]
  },
  {
   "cell_type": "code",
   "execution_count": null,
   "id": "12",
   "metadata": {},
   "outputs": [],
   "source": [
    "default_worker_pool = high_client.worker_pools.get_by_name(\"default-pool\")\n",
    "default_worker_pool"
   ]
  },
  {
   "cell_type": "markdown",
   "id": "13",
   "metadata": {},
   "source": [
    "### Scale Worker pool"
   ]
  },
  {
   "cell_type": "markdown",
   "id": "14",
   "metadata": {},
   "source": [
    "##### Scale up"
   ]
  },
  {
   "cell_type": "code",
   "execution_count": null,
   "id": "15",
   "metadata": {},
   "outputs": [],
   "source": [
    "# Scale to 1\n",
    "if environment == \"remote\":\n",
    "    high_client.api.worker_pool.scale(\n",
    "        number=num_workers, pool_name=default_worker_pool.name\n",
    "    )"
   ]
  },
  {
   "cell_type": "code",
   "execution_count": null,
   "id": "16",
   "metadata": {},
   "outputs": [],
   "source": [
    "high_client.api.services.worker_pool[0]"
   ]
  },
  {
   "cell_type": "code",
   "execution_count": null,
   "id": "17",
   "metadata": {},
   "outputs": [],
   "source": [
    "# Scale up workers\n",
    "if environment == \"remote\":\n",
    "    scale_up_result = high_client.api.worker_pool.scale(\n",
    "        number=5, pool_name=default_worker_pool.name\n",
    "    )\n",
    "    if environment == \"remote\":\n",
    "        assert scale_up_result, scale_up_result\n",
    "\n",
    "        assert (\n",
    "            high_client.api.services.worker_pool[default_worker_pool.name].max_count\n",
    "            == 5\n",
    "        )"
   ]
  },
  {
   "cell_type": "markdown",
   "id": "18",
   "metadata": {},
   "source": [
    "##### Scale down"
   ]
  },
  {
   "cell_type": "code",
   "execution_count": null,
   "id": "19",
   "metadata": {},
   "outputs": [],
   "source": [
    "# Scale down workers, this gracefully shutdowns the consumers\n",
    "if environment == \"remote\":\n",
    "    scale_down_result = high_client.api.worker_pool.scale(\n",
    "        number=num_workers, pool_name=default_worker_pool.name\n",
    "    )\n",
    "    assert scale_down_result, scale_down_result"
   ]
  },
  {
   "cell_type": "code",
   "execution_count": null,
   "id": "20",
   "metadata": {},
   "outputs": [],
   "source": [
    "if environment == \"remote\":\n",
    "\n",
    "    def has_worker_scaled_down():\n",
    "        return (\n",
    "            high_client.api.worker_pool[default_worker_pool.name].max_count\n",
    "            == num_workers\n",
    "        )\n",
    "\n",
    "    worker_scale_timeout = Timeout(timeout_duration=20)\n",
    "    worker_scale_timeout.run_with_timeout(has_worker_scaled_down)"
   ]
  },
  {
   "cell_type": "code",
   "execution_count": null,
   "id": "21",
   "metadata": {},
   "outputs": [],
   "source": [
    "if environment == \"remote\":\n",
    "    assert (\n",
    "        high_client.api.services.worker_pool[default_worker_pool.name].max_count\n",
    "        == num_workers\n",
    "    )"
   ]
  },
  {
   "cell_type": "markdown",
   "id": "22",
   "metadata": {},
   "source": [
    "#### Delete Worker Pool"
   ]
  },
  {
   "cell_type": "code",
   "execution_count": null,
   "id": "23",
   "metadata": {},
   "outputs": [],
   "source": [
    "pool_delete_result = high_client.api.services.worker_pool.delete(\n",
    "    pool_name=default_worker_pool.name\n",
    ")\n",
    "pool_delete_result"
   ]
  },
  {
   "cell_type": "code",
   "execution_count": null,
   "id": "24",
   "metadata": {},
   "outputs": [],
   "source": [
    "with sy.raises(KeyError):\n",
    "    _ = high_client.api.services.worker_pool[default_worker_pool.name]"
   ]
  },
  {
   "cell_type": "markdown",
   "id": "25",
   "metadata": {},
   "source": [
    "#### Re-launch the default worker pool"
   ]
  },
  {
   "cell_type": "code",
   "execution_count": null,
   "id": "26",
   "metadata": {},
   "outputs": [],
   "source": [
    "default_worker_image = default_worker_pool.image"
   ]
  },
  {
   "cell_type": "code",
   "execution_count": null,
   "id": "27",
   "metadata": {},
   "outputs": [],
   "source": [
    "launch_result = high_client.api.services.worker_pool.launch(\n",
    "    pool_name=default_worker_pool.name,\n",
    "    image_uid=default_worker_image.id,\n",
    "    num_workers=num_workers,\n",
    ")"
   ]
  },
  {
   "cell_type": "code",
   "execution_count": null,
   "id": "28",
   "metadata": {},
   "outputs": [],
   "source": [
    "assert high_client.api.services.worker_pool[default_worker_pool.name]\n",
    "assert (\n",
    "    high_client.api.services.worker_pool[default_worker_pool.name].max_count\n",
    "    == num_workers\n",
    ")"
   ]
  },
  {
   "cell_type": "code",
   "execution_count": null,
   "id": "29",
   "metadata": {},
   "outputs": [],
   "source": [
    "smtp_server.stop()"
   ]
  },
  {
   "cell_type": "code",
   "execution_count": null,
   "id": "30",
   "metadata": {},
   "outputs": [],
   "source": [
    "server.land()"
   ]
  },
  {
   "cell_type": "code",
   "execution_count": null,
   "id": "31",
   "metadata": {},
   "outputs": [],
   "source": []
  }
 ],
 "metadata": {
  "language_info": {
   "codemirror_mode": {
    "name": "ipython",
    "version": 3
   },
   "file_extension": ".py",
   "mimetype": "text/x-python",
   "name": "python",
   "nbconvert_exporter": "python",
   "pygments_lexer": "ipython3",
   "version": "3.12.5"
  }
 },
 "nbformat": 4,
 "nbformat_minor": 5
}

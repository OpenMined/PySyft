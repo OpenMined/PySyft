{
 "cells": [
  {
   "cell_type": "code",
   "execution_count": null,
   "metadata": {},
   "outputs": [],
   "source": [
    "# syft absolute\n",
    "import syft as sy\n",
    "from syft.service.code.user_code import UserCode\n",
    "from syft.service.request.request import Request"
   ]
  },
  {
   "cell_type": "code",
   "execution_count": null,
   "metadata": {},
   "outputs": [],
   "source": [
    "server_low = sy.orchestra.launch(\n",
    "    name=\"bigquery-low\",\n",
    "    server_side_type=\"low\",\n",
    "    dev_mode=True,\n",
    "    n_consumers=1,\n",
    "    create_producer=True,\n",
    "    port=\"auto\",\n",
    ")\n",
    "\n",
    "server_high = sy.orchestra.launch(\n",
    "    name=\"bigquery-high\",\n",
    "    server_side_type=\"high\",\n",
    "    dev_mode=True,\n",
    "    n_consumers=1,\n",
    "    create_producer=True,\n",
    "    port=\"auto\",\n",
    ")"
   ]
  },
  {
   "cell_type": "code",
   "execution_count": null,
   "metadata": {},
   "outputs": [],
   "source": [
    "low_client = server_low.login(email=\"info@openmined.org\", password=\"changethis\")\n",
    "high_client = server_high.login(email=\"info@openmined.org\", password=\"changethis\")"
   ]
  },
  {
   "cell_type": "code",
   "execution_count": null,
   "metadata": {},
   "outputs": [],
   "source": [
    "# # todo: this is way too noisy\n",
    "# widget = sy.sync(from_client=low_client, to_client=high_client)"
   ]
  },
  {
   "cell_type": "code",
   "execution_count": null,
   "metadata": {},
   "outputs": [],
   "source": [
    "# widget"
   ]
  },
  {
   "cell_type": "code",
   "execution_count": null,
   "metadata": {},
   "outputs": [],
   "source": [
    "# sync the users new request"
   ]
  },
  {
   "cell_type": "code",
   "execution_count": null,
   "metadata": {},
   "outputs": [],
   "source": []
  },
  {
   "cell_type": "code",
   "execution_count": null,
   "metadata": {},
   "outputs": [],
   "source": [
    "# syft absolute\n",
    "from syft.client.syncing import compare_clients"
   ]
  },
  {
   "cell_type": "code",
   "execution_count": null,
   "metadata": {},
   "outputs": [],
   "source": [
    "# syft absolute\n",
    "from syft.service.job.job_stash import Job\n",
    "from syft.service.job.job_stash import JobStatus"
   ]
  },
  {
   "cell_type": "code",
   "execution_count": null,
   "metadata": {},
   "outputs": [],
   "source": [
    "def is_job_to_sync(batch):\n",
    "    if batch.status != \"NEW\":\n",
    "        return False\n",
    "    if not isinstance(batch.root.high_obj, Job):\n",
    "        return False\n",
    "    job = batch.root.high_obj\n",
    "    return job.status in (JobStatus.ERRORED, JobStatus.COMPLETED)"
   ]
  },
  {
   "cell_type": "code",
   "execution_count": null,
   "metadata": {},
   "outputs": [],
   "source": [
    "def sync_new_objects(\n",
    "    from_client, to_client, dry_run: bool = True, private_data: bool = False\n",
    "):\n",
    "    sim = \"Simulating \" if dry_run else \"\"\n",
    "    priv = \"WITH PRIVATE DATA\" if private_data else \"\"\n",
    "    print(f\"{sim}Syncing from {from_client.name} to {to_client.name} {priv}\")\n",
    "    changes = []\n",
    "    diff = compare_clients(\n",
    "        from_client=from_client, to_client=to_client, hide_usercode=False\n",
    "    )\n",
    "    if isinstance(diff, sy.SyftError):\n",
    "        return diff\n",
    "\n",
    "    for batch in diff.batches:\n",
    "        try:\n",
    "            if is_job_to_sync(batch) or batch.status == \"NEW\":\n",
    "                w = batch.resolve(build_state=False)\n",
    "                if private_data:\n",
    "                    w.click_share_all_private_data()\n",
    "                if not dry_run:\n",
    "                    w.click_sync()\n",
    "                change_text = f\"Synced {batch.status} {batch.root_type.__name__}\"\n",
    "                if not dry_run:\n",
    "                    changes.append(change_text)\n",
    "                else:\n",
    "                    print(f\"Would have run: {change_text}\")\n",
    "        except Exception as e:\n",
    "            print(\"sync_new_objects\", e)\n",
    "            raise e\n",
    "    return changes"
   ]
  },
  {
   "cell_type": "code",
   "execution_count": null,
   "metadata": {},
   "outputs": [],
   "source": [
    "sync_new_objects(low_client, high_client)"
   ]
  },
  {
   "cell_type": "code",
   "execution_count": null,
   "metadata": {},
   "outputs": [],
   "source": [
    "result = sync_new_objects(low_client, high_client, dry_run=False, private_data=True)"
   ]
  },
  {
   "cell_type": "code",
   "execution_count": null,
   "metadata": {},
   "outputs": [],
   "source": [
    "assert \"Synced NEW UserCode\" in result\n",
    "assert \"Synced NEW Request\" in result"
   ]
  },
  {
   "cell_type": "code",
   "execution_count": null,
   "metadata": {},
   "outputs": [],
   "source": [
    "assert len(high_client.code.get_all()) == 2"
   ]
  },
  {
   "cell_type": "code",
   "execution_count": null,
   "metadata": {},
   "outputs": [],
   "source": [
    "requests = high_client.requests\n",
    "requests"
   ]
  },
  {
   "cell_type": "code",
   "execution_count": null,
   "metadata": {},
   "outputs": [],
   "source": [
    "user_request = None"
   ]
  },
  {
   "cell_type": "code",
   "execution_count": null,
   "metadata": {},
   "outputs": [],
   "source": [
    "for request in requests:\n",
    "    if \"large_sample\" in getattr(\n",
    "        getattr(request, \"code\", None), \"service_func_name\", None\n",
    "    ):\n",
    "        user_request = request"
   ]
  },
  {
   "cell_type": "code",
   "execution_count": null,
   "metadata": {},
   "outputs": [],
   "source": [
    "assert user_request"
   ]
  },
  {
   "cell_type": "code",
   "execution_count": null,
   "metadata": {},
   "outputs": [],
   "source": [
    "def execute_request(client, request) -> dict:\n",
    "    if not isinstance(request, Request):\n",
    "        return \"This is not a request\"\n",
    "\n",
    "    code = request.code\n",
    "    if not isinstance(code, UserCode):\n",
    "        return \"No usercode found\"\n",
    "\n",
    "    func_name = request.code.service_func_name\n",
    "    api_func = getattr(client.code, func_name, None)\n",
    "    if api_func is None:\n",
    "        return \"Code name was not found on the client.\"\n",
    "\n",
    "    job = api_func(blocking=False)\n",
    "    return job"
   ]
  },
  {
   "cell_type": "code",
   "execution_count": null,
   "metadata": {},
   "outputs": [],
   "source": [
    "job = execute_request(high_client, user_request)"
   ]
  },
  {
   "cell_type": "code",
   "execution_count": null,
   "metadata": {},
   "outputs": [],
   "source": [
    "job"
   ]
  },
  {
   "cell_type": "code",
   "execution_count": null,
   "metadata": {},
   "outputs": [],
   "source": [
    "job.wait()"
   ]
  },
  {
   "cell_type": "code",
   "execution_count": null,
   "metadata": {},
   "outputs": [],
   "source": [
    "# # todo: this is way too noisy\n",
    "# widget = sy.sync(from_client=high_client, to_client=low_client)"
   ]
  },
  {
   "cell_type": "code",
   "execution_count": null,
   "metadata": {},
   "outputs": [],
   "source": [
    "# widget"
   ]
  },
  {
   "cell_type": "code",
   "execution_count": null,
   "metadata": {},
   "outputs": [],
   "source": [
    "sync_new_objects(high_client, low_client)"
   ]
  },
  {
   "cell_type": "code",
   "execution_count": null,
   "metadata": {},
   "outputs": [],
   "source": [
    "result = sync_new_objects(high_client, low_client, dry_run=False, private_data=True)"
   ]
  },
  {
   "cell_type": "code",
   "execution_count": null,
   "metadata": {},
   "outputs": [],
   "source": [
    "assert \"Synced NEW Job\" in result"
   ]
  },
  {
   "cell_type": "code",
   "execution_count": null,
   "metadata": {},
   "outputs": [],
   "source": [
    "requests = low_client.requests\n",
    "requests"
   ]
  },
  {
   "cell_type": "code",
   "execution_count": null,
   "metadata": {},
   "outputs": [],
   "source": [
    "user_request = None"
   ]
  },
  {
   "cell_type": "code",
   "execution_count": null,
   "metadata": {},
   "outputs": [],
   "source": [
    "for request in requests:\n",
    "    if \"large_sample\" in getattr(\n",
    "        getattr(request, \"code\", None), \"service_func_name\", None\n",
    "    ):\n",
    "        user_request = request"
   ]
  },
  {
   "cell_type": "code",
   "execution_count": null,
   "metadata": {},
   "outputs": [],
   "source": [
    "user_request.status"
   ]
  },
  {
   "cell_type": "code",
   "execution_count": null,
   "metadata": {},
   "outputs": [],
   "source": [
    "assert \"approved\" in str(user_request.status).lower()"
   ]
  },
  {
   "cell_type": "code",
   "execution_count": null,
   "metadata": {},
   "outputs": [],
   "source": [
    "server_high.land()\n",
    "server_low.land()"
   ]
  },
  {
   "cell_type": "code",
   "execution_count": null,
   "metadata": {},
   "outputs": [],
   "source": []
  }
 ],
 "metadata": {
  "kernelspec": {
   "display_name": "Python 3 (ipykernel)",
   "language": "python",
   "name": "python3"
  },
  "language_info": {
   "codemirror_mode": {
    "name": "ipython",
    "version": 3
   },
   "file_extension": ".py",
   "mimetype": "text/x-python",
   "name": "python",
   "nbconvert_exporter": "python",
   "pygments_lexer": "ipython3",
   "version": "3.10.13"
  }
 },
 "nbformat": 4,
 "nbformat_minor": 4
}

{
 "cells": [
  {
   "cell_type": "code",
   "execution_count": null,
   "metadata": {},
   "outputs": [],
   "source": [
    "# # stdlib\n",
    "# import os\n",
    "\n",
    "# os.environ[\"ORCHESTRA_DEPLOYMENT_TYPE\"] = \"remote\"\n",
    "# os.environ[\"DEV_MODE\"] = \"True\"\n",
    "# os.environ[\"TEST_EXTERNAL_REGISTRY\"] = \"k3d-registry.localhost:5800\""
   ]
  },
  {
   "cell_type": "code",
   "execution_count": null,
   "metadata": {},
   "outputs": [],
   "source": [
    "# isort: off\n",
    "# stdlib\n",
    "from os import environ as env\n",
    "import os\n",
    "import sys\n",
    "\n",
    "# syft absolute\n",
    "import syft as sy\n",
    "\n",
    "# from syft import get_helpers  # noqa: F401\n",
    "from syft.util.util import (\n",
    "    find_base_dir_with_tox_ini,\n",
    "    get_caller_file_path,\n",
    "    is_interpreter_jupyter,\n",
    ")\n",
    "\n",
    "\n",
    "def add_helper_path_to_python_path() -> None:\n",
    "    current_path = \".\"\n",
    "\n",
    "    # jupyter uses \".\" which resolves to the notebook\n",
    "    if not is_interpreter_jupyter():\n",
    "        # python uses the file which has from syft import test_settings in it\n",
    "        import_path = get_caller_file_path()\n",
    "        if import_path:\n",
    "            current_path = import_path\n",
    "\n",
    "    base_dir = find_base_dir_with_tox_ini(current_path)\n",
    "    notebook_helper_path = os.path.join(\n",
    "        base_dir, \"notebooks/scenarios/bigquery/upgradability/0.9.1_helpers\"\n",
    "    )\n",
    "    sys.path.append(notebook_helper_path)\n",
    "\n",
    "\n",
    "add_helper_path_to_python_path()\n",
    "\n",
    "# third party\n",
    "from email_helpers import get_email_server\n",
    "# isort: on"
   ]
  },
  {
   "cell_type": "markdown",
   "metadata": {},
   "source": [
    "# Launch & login"
   ]
  },
  {
   "cell_type": "code",
   "execution_count": null,
   "metadata": {},
   "outputs": [],
   "source": [
    "# when in k8s these are the default values\n",
    "ROOT_EMAIL = \"admin@bigquery.org\"\n",
    "ROOT_PASSWORD = \"bqpw\""
   ]
  },
  {
   "cell_type": "code",
   "execution_count": null,
   "metadata": {},
   "outputs": [],
   "source": [
    "# in case we are not in k8s we set them here for orchestra to use\n",
    "env[\"DEFAULT_ROOT_EMAIL\"] = ROOT_EMAIL\n",
    "env[\"DEFAULT_ROOT_PASSWORD\"] = ROOT_PASSWORD"
   ]
  },
  {
   "cell_type": "code",
   "execution_count": null,
   "metadata": {},
   "outputs": [],
   "source": [
    "server = sy.orchestra.launch(\n",
    "    name=\"bigquery-high-migrations\",\n",
    "    dev_mode=True,\n",
    "    server_side_type=\"high\",\n",
    "    reset=True,\n",
    "    port=\"8080\",\n",
    "    n_consumers=1,  # How many workers to be spawned\n",
    "    create_producer=True,  # Can produce more workers\n",
    ")"
   ]
  },
  {
   "cell_type": "code",
   "execution_count": null,
   "metadata": {},
   "outputs": [],
   "source": [
    "email_server, smtp_server = get_email_server(reset=True)"
   ]
  },
  {
   "cell_type": "code",
   "execution_count": null,
   "metadata": {},
   "outputs": [],
   "source": [
    "root_client = sy.login(\n",
    "    url=\"http://localhost:8080\", email=ROOT_EMAIL, password=ROOT_PASSWORD\n",
    ")"
   ]
  },
  {
   "cell_type": "markdown",
   "metadata": {},
   "source": [
    "# Create new admin client"
   ]
  },
  {
   "cell_type": "code",
   "execution_count": null,
   "metadata": {},
   "outputs": [],
   "source": [
    "ADMIN_EMAIL, ADMIN_PW = \"admin2@bigquery.org\", \"bqpw2\""
   ]
  },
  {
   "cell_type": "code",
   "execution_count": null,
   "metadata": {},
   "outputs": [],
   "source": [
    "# create\n",
    "root_client.register(\n",
    "    name=\"second admin\", email=ADMIN_EMAIL, password=ADMIN_PW, password_verify=ADMIN_PW\n",
    ")\n",
    "# update role\n",
    "new_user_id = root_client.users.search(email=ADMIN_EMAIL)[0].id\n",
    "root_client.users.update(uid=new_user_id, role=\"admin\")"
   ]
  },
  {
   "cell_type": "markdown",
   "metadata": {},
   "source": [
    "# We cannot delete the root client"
   ]
  },
  {
   "cell_type": "code",
   "execution_count": null,
   "metadata": {},
   "outputs": [],
   "source": [
    "high_client = sy.login(\n",
    "    url=\"http://localhost:8080\", email=ADMIN_EMAIL, password=ADMIN_PW\n",
    ")"
   ]
  },
  {
   "cell_type": "code",
   "execution_count": null,
   "metadata": {},
   "outputs": [],
   "source": [
    "root_admin_id = root_client.users.search(email=ROOT_EMAIL)[0].id"
   ]
  },
  {
   "cell_type": "code",
   "execution_count": null,
   "metadata": {},
   "outputs": [],
   "source": [
    "with sy.raises(sy.SyftException):\n",
    "    high_client.users.delete(root_admin_id)"
   ]
  },
  {
   "cell_type": "markdown",
   "metadata": {},
   "source": [
    "# Create ephemeral admin and delete it"
   ]
  },
  {
   "cell_type": "code",
   "execution_count": null,
   "metadata": {},
   "outputs": [],
   "source": [
    "# register 2nd new admin (to delete)\n",
    "user_email, user_pw = \"admin3@bigquery.org\", \"bqpw3\"\n",
    "## create\n",
    "root_client.register(\n",
    "    name=\"x\", email=user_email, password=user_pw, password_verify=user_pw\n",
    ")\n",
    "## update role\n",
    "new_user_id2 = root_client.users.search(email=user_email)[0].id\n",
    "root_client.users.update(uid=new_user_id, role=\"admin\")"
   ]
  },
  {
   "cell_type": "code",
   "execution_count": null,
   "metadata": {},
   "outputs": [],
   "source": [
    "root_client.users.delete(new_user_id2)"
   ]
  },
  {
   "cell_type": "markdown",
   "metadata": {},
   "source": [
    "# Cleanup"
   ]
  },
  {
   "cell_type": "code",
   "execution_count": null,
   "metadata": {},
   "outputs": [],
   "source": [
    "smtp_server.stop()"
   ]
  },
  {
   "cell_type": "code",
   "execution_count": null,
   "metadata": {},
   "outputs": [],
   "source": [
    "server.land()"
   ]
  },
  {
   "cell_type": "code",
   "execution_count": null,
   "metadata": {},
   "outputs": [],
   "source": []
  }
 ],
 "metadata": {
  "kernelspec": {
   "display_name": "syft_3.12",
   "language": "python",
   "name": "python3"
  },
  "language_info": {
   "codemirror_mode": {
    "name": "ipython",
    "version": 3
   },
   "file_extension": ".py",
   "mimetype": "text/x-python",
   "name": "python",
   "nbconvert_exporter": "python",
   "pygments_lexer": "ipython3",
   "version": "3.12.4"
  }
 },
 "nbformat": 4,
 "nbformat_minor": 4
}

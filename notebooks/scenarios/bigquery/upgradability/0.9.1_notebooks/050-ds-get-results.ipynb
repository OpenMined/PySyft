{
 "cells": [
  {
   "cell_type": "code",
   "execution_count": null,
   "metadata": {},
   "outputs": [],
   "source": [
    "# import os\n",
    "# os.environ[\"ORCHESTRA_DEPLOYMENT_TYPE\"] = \"remote\"\n",
    "# os.environ[\"DEV_MODE\"] = \"True\"\n",
    "# os.environ[\"TEST_EXTERNAL_REGISTRY\"] = \"k3d-registry.localhost:5800\""
   ]
  },
  {
   "cell_type": "code",
   "execution_count": null,
   "metadata": {},
   "outputs": [],
   "source": [
    "# isort: off\n",
    "# syft absolute\n",
    "import syft as sy\n",
    "from syft.util.util import (\n",
    "    find_base_dir_with_tox_ini,\n",
    "    get_caller_file_path,\n",
    "    is_interpreter_jupyter,\n",
    ")\n",
    "\n",
    "import os\n",
    "import sys\n",
    "\n",
    "\n",
    "def add_helper_path_to_python_path() -> None:\n",
    "    current_path = \".\"\n",
    "\n",
    "    # jupyter uses \".\" which resolves to the notebook\n",
    "    if not is_interpreter_jupyter():\n",
    "        # python uses the file which has from syft import test_settings in it\n",
    "        import_path = get_caller_file_path()\n",
    "        if import_path:\n",
    "            current_path = import_path\n",
    "\n",
    "    base_dir = find_base_dir_with_tox_ini(current_path)\n",
    "    notebook_helper_path = os.path.join(\n",
    "        base_dir, \"notebooks/scenarios/bigquery/upgradability/0.9.1_helpers\"\n",
    "    )\n",
    "    sys.path.append(notebook_helper_path)\n",
    "\n",
    "\n",
    "add_helper_path_to_python_path()\n",
    "# third party\n",
    "from email_helpers import get_email_server\n",
    "from email_helpers import load_users\n",
    "from job_helpers import load_jobs\n",
    "from job_helpers import save_jobs\n",
    "# isort: on"
   ]
  },
  {
   "cell_type": "code",
   "execution_count": null,
   "metadata": {},
   "outputs": [],
   "source": [
    "ADMIN_EMAIL, ADMIN_PW = \"admin2@bigquery.org\", \"bqpw2\""
   ]
  },
  {
   "cell_type": "markdown",
   "metadata": {},
   "source": [
    "# Launch server & login"
   ]
  },
  {
   "cell_type": "code",
   "execution_count": null,
   "metadata": {},
   "outputs": [],
   "source": [
    "server = sy.orchestra.launch(\n",
    "    name=\"bigquery-high-migrations\",\n",
    "    dev_mode=True,\n",
    "    server_side_type=\"high\",\n",
    "    port=\"8080\",\n",
    "    n_consumers=1,  # How many workers to be spawned\n",
    "    create_producer=True,  # Can produce more workers\n",
    ")"
   ]
  },
  {
   "cell_type": "code",
   "execution_count": null,
   "metadata": {},
   "outputs": [],
   "source": [
    "high_client = sy.login(\n",
    "    url=\"http://localhost:8080\", email=ADMIN_EMAIL, password=ADMIN_PW\n",
    ")"
   ]
  },
  {
   "cell_type": "code",
   "execution_count": null,
   "metadata": {},
   "outputs": [],
   "source": [
    "email_server, smtp_server = get_email_server()"
   ]
  },
  {
   "cell_type": "markdown",
   "metadata": {},
   "source": [
    "# Download results"
   ]
  },
  {
   "cell_type": "code",
   "execution_count": null,
   "metadata": {},
   "outputs": [],
   "source": [
    "users = load_users(high_client)\n",
    "jobs = load_jobs(users, high_client)"
   ]
  },
  {
   "cell_type": "code",
   "execution_count": null,
   "metadata": {},
   "outputs": [],
   "source": [
    "# submitted_jobs = [job for job in jobs if job.is_submitted]\n",
    "reviewed_jobs = [job for job in jobs if job.admin_reviewed]\n",
    "reviewed_jobs_should_succeed = [j for j in reviewed_jobs if j.should_succeed]\n",
    "reviewed_jobs_should_fail = [j for j in reviewed_jobs if not j.should_succeed]\n",
    "\n",
    "print(\n",
    "    f\"{len(reviewed_jobs)=}, {len(reviewed_jobs_should_succeed)=}, {len(reviewed_jobs_should_fail)=}\"\n",
    ")"
   ]
  },
  {
   "cell_type": "code",
   "execution_count": null,
   "metadata": {},
   "outputs": [],
   "source": [
    "# TODO: test jobs that were never approved\n",
    "# they seem to give weird errors like\n",
    "# \"You uploaded an ActionObject that is not yet in the blob storage\""
   ]
  },
  {
   "cell_type": "code",
   "execution_count": null,
   "metadata": {},
   "outputs": [],
   "source": [
    "for job in reviewed_jobs_should_succeed:\n",
    "    print(f\"> Checking job: {job.job_type} {job.func_name} for user {job.user_email}\")\n",
    "    api_method = job.code_method\n",
    "    j = api_method(blocking=False)\n",
    "    res = j.wait()\n",
    "\n",
    "    if isinstance(res, sy.SyftError):\n",
    "        raise sy.SyftException(public_message=\"Expected success, got error\")\n",
    "\n",
    "    result = res.get()\n",
    "    job.result_as_expected = True"
   ]
  },
  {
   "cell_type": "code",
   "execution_count": null,
   "metadata": {},
   "outputs": [],
   "source": [
    "for job in reviewed_jobs_should_fail:\n",
    "    print(f\"> Checking job: {job.job_type} {job.func_name} for user {job.user_email}\")\n",
    "    api_method = job.code_method\n",
    "\n",
    "    j = api_method(blocking=False)\n",
    "    res = j.wait()\n",
    "    if isinstance(res, sy.SyftError):\n",
    "        job.result_as_expected = True\n",
    "    else:\n",
    "        raise sy.SyftException(public_message=f\"failed, job didnt raise {type(j)}\")"
   ]
  },
  {
   "cell_type": "code",
   "execution_count": null,
   "metadata": {},
   "outputs": [],
   "source": [
    "save_jobs(jobs)"
   ]
  },
  {
   "cell_type": "code",
   "execution_count": null,
   "metadata": {},
   "outputs": [],
   "source": [
    "# TODO fix\n",
    "expected_jobs = [job for job in jobs if job.result_as_expected]\n",
    "print(f\"got expected_jobs: {len(expected_jobs)} == reviewed_jobs: {len(reviewed_jobs)}\")\n",
    "assert len(reviewed_jobs) == len(expected_jobs)"
   ]
  },
  {
   "cell_type": "markdown",
   "metadata": {},
   "source": [
    "# Cleanup"
   ]
  },
  {
   "cell_type": "code",
   "execution_count": null,
   "metadata": {},
   "outputs": [],
   "source": [
    "smtp_server.stop()"
   ]
  },
  {
   "cell_type": "code",
   "execution_count": null,
   "metadata": {},
   "outputs": [],
   "source": [
    "server.land()"
   ]
  },
  {
   "cell_type": "code",
   "execution_count": null,
   "metadata": {},
   "outputs": [],
   "source": []
  }
 ],
 "metadata": {
  "language_info": {
   "codemirror_mode": {
    "name": "ipython",
    "version": 3
   },
   "file_extension": ".py",
   "mimetype": "text/x-python",
   "name": "python",
   "nbconvert_exporter": "python",
   "pygments_lexer": "ipython3",
   "version": "3.12.5"
  }
 },
 "nbformat": 4,
 "nbformat_minor": 4
}

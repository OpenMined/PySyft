{
 "cells": [
  {
   "cell_type": "code",
   "execution_count": null,
   "id": "0",
   "metadata": {},
   "outputs": [],
   "source": [
    "# import os\n",
    "# os.environ[\"ORCHESTRA_DEPLOYMENT_TYPE\"] = \"remote\"\n",
    "# os.environ[\"DEV_MODE\"] = \"True\"\n",
    "# os.environ[\"TEST_EXTERNAL_REGISTRY\"] = \"k3d-registry.localhost:5800\""
   ]
  },
  {
   "cell_type": "code",
   "execution_count": null,
   "id": "1",
   "metadata": {},
   "outputs": [],
   "source": [
    "# isort: off\n",
    "# stdlib\n",
    "import os\n",
    "import sys\n",
    "\n",
    "# syft absolute\n",
    "import syft as sy\n",
    "from syft.util.util import (\n",
    "    find_base_dir_with_tox_ini,\n",
    "    get_caller_file_path,\n",
    "    is_interpreter_jupyter,\n",
    ")\n",
    "\n",
    "\n",
    "def add_helper_path_to_python_path() -> None:\n",
    "    current_path = \".\"\n",
    "\n",
    "    # jupyter uses \".\" which resolves to the notebook\n",
    "    if not is_interpreter_jupyter():\n",
    "        # python uses the file which has from syft import test_settings in it\n",
    "        import_path = get_caller_file_path()\n",
    "        if import_path:\n",
    "            current_path = import_path\n",
    "\n",
    "    base_dir = find_base_dir_with_tox_ini(current_path)\n",
    "    notebook_helper_path = os.path.join(\n",
    "        base_dir, \"notebooks/scenarios/bigquery/upgradability/0.9.1_helpers\"\n",
    "    )\n",
    "    sys.path.append(notebook_helper_path)\n",
    "\n",
    "\n",
    "add_helper_path_to_python_path()\n",
    "\n",
    "# third party\n",
    "from email_helpers import Timeout\n",
    "from email_helpers import get_email_server\n",
    "# isort: on"
   ]
  },
  {
   "cell_type": "code",
   "execution_count": null,
   "id": "2",
   "metadata": {},
   "outputs": [],
   "source": []
  },
  {
   "cell_type": "code",
   "execution_count": null,
   "id": "3",
   "metadata": {},
   "outputs": [],
   "source": [
    "environment = os.environ.get(\"ORCHESTRA_DEPLOYMENT_TYPE\", \"python\")\n",
    "\n",
    "num_workers = int(os.environ.get(\"NUM_TEST_WORKERS\", 1))\n",
    "\n",
    "ROOT_EMAIL = \"admin@bigquery.org\"\n",
    "ROOT_PASSWORD = \"bqpw\"\n",
    "environment"
   ]
  },
  {
   "cell_type": "markdown",
   "id": "4",
   "metadata": {},
   "source": [
    "### Launch server & login"
   ]
  },
  {
   "cell_type": "code",
   "execution_count": null,
   "id": "5",
   "metadata": {},
   "outputs": [],
   "source": [
    "server = sy.orchestra.launch(\n",
    "    name=\"bigquery-high-migrations\",\n",
    "    dev_mode=True,\n",
    "    server_side_type=\"high\",\n",
    "    port=\"8080\",\n",
    "    n_consumers=num_workers,  # How many workers to be spawned\n",
    "    create_producer=True,  # Can produce more workers\n",
    ")"
   ]
  },
  {
   "cell_type": "code",
   "execution_count": null,
   "id": "6",
   "metadata": {},
   "outputs": [],
   "source": [
    "email_server, smtp_server = get_email_server(reset=True)"
   ]
  },
  {
   "cell_type": "code",
   "execution_count": null,
   "id": "7",
   "metadata": {},
   "outputs": [],
   "source": [
    "high_client = sy.login(\n",
    "    url=\"http://localhost:8080\", email=ROOT_EMAIL, password=ROOT_PASSWORD\n",
    ")"
   ]
  },
  {
   "cell_type": "code",
   "execution_count": null,
   "id": "8",
   "metadata": {},
   "outputs": [],
   "source": [
    "high_client.worker_pools"
   ]
  },
  {
   "cell_type": "code",
   "execution_count": null,
   "id": "9",
   "metadata": {},
   "outputs": [],
   "source": [
    "default_worker_pool = high_client.worker_pools.get_by_name(\"default-pool\")\n",
    "default_worker_pool"
   ]
  },
  {
   "cell_type": "markdown",
   "id": "10",
   "metadata": {},
   "source": [
    "### Scale Worker pool"
   ]
  },
  {
   "cell_type": "markdown",
   "id": "11",
   "metadata": {},
   "source": [
    "##### Scale up"
   ]
  },
  {
   "cell_type": "code",
   "execution_count": null,
   "id": "12",
   "metadata": {},
   "outputs": [],
   "source": [
    "# Scale to 1\n",
    "if environment == \"remote\":\n",
    "    high_client.api.worker_pool.scale(\n",
    "        number=num_workers, pool_name=default_worker_pool.name\n",
    "    )"
   ]
  },
  {
   "cell_type": "code",
   "execution_count": null,
   "id": "13",
   "metadata": {},
   "outputs": [],
   "source": [
    "high_client.api.services.worker_pool[0]"
   ]
  },
  {
   "cell_type": "code",
   "execution_count": null,
   "id": "14",
   "metadata": {},
   "outputs": [],
   "source": [
    "# Scale up workers\n",
    "if environment == \"remote\":\n",
    "    scale_up_result = high_client.api.worker_pool.scale(\n",
    "        number=5, pool_name=default_worker_pool.name\n",
    "    )\n",
    "    if environment == \"remote\":\n",
    "        assert scale_up_result, scale_up_result\n",
    "\n",
    "        assert (\n",
    "            high_client.api.services.worker_pool[default_worker_pool.name].max_count\n",
    "            == 5\n",
    "        )"
   ]
  },
  {
   "cell_type": "markdown",
   "id": "15",
   "metadata": {},
   "source": [
    "##### Scale down"
   ]
  },
  {
   "cell_type": "code",
   "execution_count": null,
   "id": "16",
   "metadata": {},
   "outputs": [],
   "source": [
    "# Scale down workers, this gracefully shutdowns the consumers\n",
    "if environment == \"remote\":\n",
    "    scale_down_result = high_client.api.worker_pool.scale(\n",
    "        number=num_workers, pool_name=default_worker_pool.name\n",
    "    )\n",
    "    assert scale_down_result, scale_down_result"
   ]
  },
  {
   "cell_type": "code",
   "execution_count": null,
   "id": "17",
   "metadata": {},
   "outputs": [],
   "source": [
    "if environment == \"remote\":\n",
    "\n",
    "    def has_worker_scaled_down():\n",
    "        return (\n",
    "            high_client.api.worker_pool[default_worker_pool.name].max_count\n",
    "            == num_workers\n",
    "        )\n",
    "\n",
    "    worker_scale_timeout = Timeout(timeout_duration=20)\n",
    "    worker_scale_timeout.run_with_timeout(has_worker_scaled_down)"
   ]
  },
  {
   "cell_type": "code",
   "execution_count": null,
   "id": "18",
   "metadata": {},
   "outputs": [],
   "source": [
    "if environment == \"remote\":\n",
    "    assert (\n",
    "        high_client.api.services.worker_pool[default_worker_pool.name].max_count\n",
    "        == num_workers\n",
    "    )"
   ]
  },
  {
   "cell_type": "markdown",
   "id": "19",
   "metadata": {},
   "source": [
    "#### Delete Worker Pool"
   ]
  },
  {
   "cell_type": "code",
   "execution_count": null,
   "id": "20",
   "metadata": {},
   "outputs": [],
   "source": [
    "pool_delete_result = high_client.api.services.worker_pool.delete(\n",
    "    pool_name=default_worker_pool.name\n",
    ")\n",
    "pool_delete_result"
   ]
  },
  {
   "cell_type": "code",
   "execution_count": null,
   "id": "21",
   "metadata": {},
   "outputs": [],
   "source": [
    "with sy.raises(KeyError):\n",
    "    _ = high_client.api.services.worker_pool[default_worker_pool.name]"
   ]
  },
  {
   "cell_type": "markdown",
   "id": "22",
   "metadata": {},
   "source": [
    "#### Re-launch the default worker pool"
   ]
  },
  {
   "cell_type": "code",
   "execution_count": null,
   "id": "23",
   "metadata": {},
   "outputs": [],
   "source": [
    "default_worker_image = default_worker_pool.image"
   ]
  },
  {
   "cell_type": "code",
   "execution_count": null,
   "id": "24",
   "metadata": {},
   "outputs": [],
   "source": [
    "launch_result = high_client.api.services.worker_pool.launch(\n",
    "    pool_name=default_worker_pool.name,\n",
    "    image_uid=default_worker_image.id,\n",
    "    num_workers=num_workers,\n",
    ")"
   ]
  },
  {
   "cell_type": "code",
   "execution_count": null,
   "id": "25",
   "metadata": {},
   "outputs": [],
   "source": [
    "assert high_client.api.services.worker_pool[default_worker_pool.name]\n",
    "assert (\n",
    "    high_client.api.services.worker_pool[default_worker_pool.name].max_count\n",
    "    == num_workers\n",
    ")"
   ]
  },
  {
   "cell_type": "code",
   "execution_count": null,
   "id": "26",
   "metadata": {},
   "outputs": [],
   "source": [
    "smtp_server.stop()"
   ]
  },
  {
   "cell_type": "code",
   "execution_count": null,
   "id": "27",
   "metadata": {},
   "outputs": [],
   "source": [
    "server.land()"
   ]
  },
  {
   "cell_type": "code",
   "execution_count": null,
   "id": "28",
   "metadata": {},
   "outputs": [],
   "source": []
  }
 ],
 "metadata": {
  "kernelspec": {
   "display_name": "syft",
   "language": "python",
   "name": "python3"
  },
  "language_info": {
   "codemirror_mode": {
    "name": "ipython",
    "version": 3
   },
   "file_extension": ".py",
   "mimetype": "text/x-python",
   "name": "python",
   "nbconvert_exporter": "python",
   "pygments_lexer": "ipython3",
   "version": "3.12.3"
  }
 },
 "nbformat": 4,
 "nbformat_minor": 5
}

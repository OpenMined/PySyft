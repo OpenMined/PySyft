{
 "cells": [
  {
   "cell_type": "code",
   "execution_count": null,
   "id": "ddc9b9f5-a236-4ab2-a99d-0a2bd4a28f5f",
   "metadata": {},
   "outputs": [],
   "source": [
    "# -- browsing api endpoints\n",
    "# -- listing worker pools\n",
    "# -- mock vs private execution\n",
    "# -- calling an endpoint directly\n",
    "# -- using an endpoint in a syft function with worker-pool\n",
    "# -- doing some small analysis on the results\n",
    "# -- testing and submitting for approval\n",
    "# -- users calling"
   ]
  }
 ],
 "metadata": {
  "kernelspec": {
   "display_name": "Python 3 (ipykernel)",
   "language": "python",
   "name": "python3"
  },
  "language_info": {
   "codemirror_mode": {
    "name": "ipython",
    "version": 3
   },
   "file_extension": ".py",
   "mimetype": "text/x-python",
   "name": "python",
   "nbconvert_exporter": "python",
   "pygments_lexer": "ipython3",
   "version": "3.12.2"
  }
 },
 "nbformat": 4,
 "nbformat_minor": 5
}

{
 "cells": [
  {
   "cell_type": "code",
   "execution_count": null,
   "id": "1f2da72c-33a1-4edc-8ab5-dc9b83ce2af8",
   "metadata": {},
   "outputs": [],
   "source": [
    "# -- requests queue\n",
    "# -- reviewing code\n",
    "# -- carefully testing code\n",
    "# -- approve / deny code"
   ]
  },
  {
   "cell_type": "code",
   "execution_count": null,
   "id": "446fefdc-50a0-4d44-9ce4-d870432857c9",
   "metadata": {},
   "outputs": [],
   "source": []
  }
 ],
 "metadata": {
  "kernelspec": {
   "display_name": "Python 3 (ipykernel)",
   "language": "python",
   "name": "python3"
  },
  "language_info": {
   "codemirror_mode": {
    "name": "ipython",
    "version": 3
   },
   "file_extension": ".py",
   "mimetype": "text/x-python",
   "name": "python",
   "nbconvert_exporter": "python",
   "pygments_lexer": "ipython3",
   "version": "3.12.2"
  }
 },
 "nbformat": 4,
 "nbformat_minor": 5
}

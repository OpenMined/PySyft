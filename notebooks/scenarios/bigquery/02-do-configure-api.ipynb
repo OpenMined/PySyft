{
 "cells": [
  {
   "cell_type": "code",
   "execution_count": null,
   "id": "0",
   "metadata": {},
   "outputs": [],
   "source": [
    "# import os\n",
    "# os.environ[\"ORCHESTRA_DEPLOYMENT_TYPE\"] = \"remote\"\n",
    "# os.environ[\"DEV_MODE\"] = \"True\"\n",
    "# os.environ[\"TEST_EXTERNAL_REGISTRY\"] = \"k3d-registry.localhost:5800\""
   ]
  },
  {
   "cell_type": "code",
   "execution_count": null,
   "id": "1",
   "metadata": {},
   "outputs": [],
   "source": [
    "# import os\n",
    "# os.environ[\"TEST_BIGQUERY_APIS_LIVE\"] = \"True\"\n",
    "# third party\n",
    "from apis import make_schema\n",
    "from apis import make_submit_query\n",
    "from apis import make_test_query"
   ]
  },
  {
   "cell_type": "code",
   "execution_count": null,
   "id": "2",
   "metadata": {},
   "outputs": [],
   "source": [
    "# syft absolute\n",
    "import syft as sy\n",
    "from syft import test_settings"
   ]
  },
  {
   "cell_type": "code",
   "execution_count": null,
   "id": "3",
   "metadata": {},
   "outputs": [],
   "source": [
    "# third party\n",
    "# run email server\n",
    "from helpers import EmailServer\n",
    "from helpers import SMTPTestServer\n",
    "\n",
    "email_server = EmailServer()\n",
    "smtp_server = SMTPTestServer(email_server)\n",
    "smtp_server.start()"
   ]
  },
  {
   "cell_type": "code",
   "execution_count": null,
   "id": "4",
   "metadata": {},
   "outputs": [],
   "source": [
    "server = sy.orchestra.launch(\n",
    "    name=\"bigquery-high\",\n",
    "    dev_mode=True,\n",
    "    server_side_type=\"high\",\n",
    "    port=\"8080\",\n",
    "    n_consumers=1,  # How many workers to be spawned\n",
    "    create_producer=True,  # Can produce more workers\n",
    ")"
   ]
  },
  {
   "cell_type": "code",
   "execution_count": null,
   "id": "5",
   "metadata": {},
   "outputs": [],
   "source": [
    "this_worker_pool_name = \"bigquery-pool\""
   ]
  },
  {
   "cell_type": "code",
   "execution_count": null,
   "id": "6",
   "metadata": {},
   "outputs": [],
   "source": [
    "ADMIN_EMAIL, ADMIN_PW = \"admin2@bigquery.org\", \"bqpw2\"\n",
    "high_client = sy.login(\n",
    "    url=\"http://localhost:8080\", email=ADMIN_EMAIL, password=ADMIN_PW\n",
    ")"
   ]
  },
  {
   "cell_type": "code",
   "execution_count": null,
   "id": "7",
   "metadata": {},
   "outputs": [],
   "source": [
    "assert len(high_client.worker_pools.get_all()) == 2"
   ]
  },
  {
   "cell_type": "code",
   "execution_count": null,
   "id": "8",
   "metadata": {},
   "outputs": [],
   "source": [
    "# !pip list | grep bigquery"
   ]
  },
  {
   "cell_type": "code",
   "execution_count": null,
   "id": "9",
   "metadata": {},
   "outputs": [],
   "source": [
    "# !uv pip install db-dtypes google-cloud-bigquery"
   ]
  },
  {
   "cell_type": "code",
   "execution_count": null,
   "id": "10",
   "metadata": {},
   "outputs": [],
   "source": [
    "# Look up the worker pools and identify the name of the one that has the required packages\n",
    "# After, bind the endpoint to that workerpool\n",
    "high_client.worker_pools"
   ]
  },
  {
   "cell_type": "code",
   "execution_count": null,
   "id": "11",
   "metadata": {},
   "outputs": [],
   "source": [
    "mock_func = make_test_query(\n",
    "    settings={\n",
    "        \"rate_limiter_enabled\": True,\n",
    "        \"calls_per_min\": 3,\n",
    "    }\n",
    ")"
   ]
  },
  {
   "cell_type": "code",
   "execution_count": null,
   "id": "12",
   "metadata": {},
   "outputs": [],
   "source": [
    "private_func = make_test_query(\n",
    "    settings={\n",
    "        \"rate_limiter_enabled\": True,\n",
    "        \"calls_per_min\": 2,\n",
    "    }\n",
    ")"
   ]
  },
  {
   "cell_type": "code",
   "execution_count": null,
   "id": "13",
   "metadata": {},
   "outputs": [],
   "source": [
    "new_endpoint = sy.TwinAPIEndpoint(\n",
    "    path=\"bigquery.test_query\",\n",
    "    description=\"This endpoint allows to query Bigquery storage via SQL queries.\",\n",
    "    private_function=private_func,\n",
    "    mock_function=mock_func,\n",
    "    worker_pool=this_worker_pool_name,\n",
    ")\n",
    "\n",
    "high_client.custom_api.add(endpoint=new_endpoint)"
   ]
  },
  {
   "cell_type": "code",
   "execution_count": null,
   "id": "14",
   "metadata": {},
   "outputs": [],
   "source": [
    "# Here, we update the endpoint to timeout after 120s (rather the default of 60s)\n",
    "high_client.api.services.api.update(\n",
    "    endpoint_path=\"bigquery.test_query\", endpoint_timeout=120\n",
    ")"
   ]
  },
  {
   "cell_type": "code",
   "execution_count": null,
   "id": "15",
   "metadata": {},
   "outputs": [],
   "source": [
    "high_client.api.services.api.update(\n",
    "    endpoint_path=\"bigquery.test_query\", hide_mock_definition=True\n",
    ")"
   ]
  },
  {
   "cell_type": "code",
   "execution_count": null,
   "id": "16",
   "metadata": {},
   "outputs": [],
   "source": [
    "dataset_1 = test_settings.get(\"dataset_1\", default=\"dataset_1\")\n",
    "dataset_2 = test_settings.get(\"dataset_2\", default=\"dataset_2\")\n",
    "table_1 = test_settings.get(\"table_1\", default=\"table_1\")\n",
    "table_2 = test_settings.get(\"table_2\", default=\"table_2\")\n",
    "table_2_col_id = test_settings.get(\"table_2_col_id\", default=\"table_id\")\n",
    "table_2_col_score = test_settings.get(\"table_2_col_score\", default=\"colname\")"
   ]
  },
  {
   "cell_type": "code",
   "execution_count": null,
   "id": "17",
   "metadata": {},
   "outputs": [],
   "source": [
    "# Test mock version\n",
    "result = high_client.api.services.bigquery.test_query.mock(\n",
    "    sql_query=f\"SELECT * FROM {dataset_1}.{table_1} LIMIT 10\"\n",
    ")\n",
    "result"
   ]
  },
  {
   "cell_type": "code",
   "execution_count": null,
   "id": "18",
   "metadata": {},
   "outputs": [],
   "source": [
    "assert len(result) == 10"
   ]
  },
  {
   "cell_type": "code",
   "execution_count": null,
   "id": "19",
   "metadata": {},
   "outputs": [],
   "source": [
    "# Test mock version for wrong queries\n",
    "with sy.raises(\n",
    "    sy.SyftException(public_message=\"*must be qualified with a dataset*\"), show=True\n",
    "):\n",
    "    _ = high_client.api.services.bigquery.test_query.mock(\n",
    "        sql_query=\"SELECT * FROM invalid_table LIMIT 1\"\n",
    "    )"
   ]
  },
  {
   "cell_type": "code",
   "execution_count": null,
   "id": "20",
   "metadata": {},
   "outputs": [],
   "source": [
    "# Test mock version: rate limit has been reached\n",
    "with sy.raises(\n",
    "    sy.SyftException(\n",
    "        public_message=\"*Rate limit of calls per minute has been reached.*\"\n",
    "    ),\n",
    "    show=True,\n",
    "):\n",
    "    _ = high_client.api.services.bigquery.test_query.mock(\n",
    "        sql_query=f\"SELECT * FROM {dataset_1}.{table_1} LIMIT 10\"\n",
    "    )"
   ]
  },
  {
   "cell_type": "code",
   "execution_count": null,
   "id": "21",
   "metadata": {},
   "outputs": [],
   "source": [
    "# Test private version\n",
    "result = high_client.api.services.bigquery.test_query.private(\n",
    "    sql_query=f\"SELECT * FROM {dataset_1}.{table_1} LIMIT 10\"\n",
    ")\n",
    "result"
   ]
  },
  {
   "cell_type": "code",
   "execution_count": null,
   "id": "22",
   "metadata": {},
   "outputs": [],
   "source": [
    "assert len(result) == 10"
   ]
  },
  {
   "cell_type": "code",
   "execution_count": null,
   "id": "23",
   "metadata": {},
   "outputs": [],
   "source": [
    "schema_function = make_schema(\n",
    "    settings={\n",
    "        \"calls_per_min\": 5,\n",
    "    },\n",
    "    worker_pool=this_worker_pool_name,\n",
    ")"
   ]
  },
  {
   "cell_type": "code",
   "execution_count": null,
   "id": "24",
   "metadata": {},
   "outputs": [],
   "source": [
    "high_client.custom_api.add(endpoint=schema_function)\n",
    "high_client.refresh()"
   ]
  },
  {
   "cell_type": "code",
   "execution_count": null,
   "id": "25",
   "metadata": {},
   "outputs": [],
   "source": [
    "submit_query_function = make_submit_query(\n",
    "    settings={}, worker_pool=this_worker_pool_name\n",
    ")"
   ]
  },
  {
   "cell_type": "code",
   "execution_count": null,
   "id": "26",
   "metadata": {},
   "outputs": [],
   "source": [
    "high_client.custom_api.add(endpoint=submit_query_function)"
   ]
  },
  {
   "cell_type": "code",
   "execution_count": null,
   "id": "27",
   "metadata": {},
   "outputs": [],
   "source": [
    "high_client.api.services.api.update(\n",
    "    endpoint_path=\"bigquery.submit_query\", hide_mock_definition=True\n",
    ")"
   ]
  },
  {
   "cell_type": "code",
   "execution_count": null,
   "id": "28",
   "metadata": {},
   "outputs": [],
   "source": [
    "high_client.custom_api.api_endpoints()"
   ]
  },
  {
   "cell_type": "code",
   "execution_count": null,
   "id": "29",
   "metadata": {},
   "outputs": [],
   "source": [
    "assert len(high_client.custom_api.api_endpoints()) == 3"
   ]
  },
  {
   "cell_type": "code",
   "execution_count": null,
   "id": "30",
   "metadata": {},
   "outputs": [],
   "source": [
    "# Inspect the context state on an endpoint\n",
    "state = high_client.api.services.bigquery.test_query.mock.context.state\n",
    "state"
   ]
  },
  {
   "cell_type": "code",
   "execution_count": null,
   "id": "31",
   "metadata": {},
   "outputs": [],
   "source": [
    "assert len(state[ADMIN_EMAIL]) >= 3"
   ]
  },
  {
   "cell_type": "code",
   "execution_count": null,
   "id": "32",
   "metadata": {},
   "outputs": [],
   "source": [
    "# Testing schema\n",
    "result = high_client.api.services.bigquery.schema()\n",
    "result"
   ]
  },
  {
   "cell_type": "code",
   "execution_count": null,
   "id": "33",
   "metadata": {},
   "outputs": [],
   "source": [
    "assert len(result) == 23"
   ]
  },
  {
   "cell_type": "code",
   "execution_count": null,
   "id": "34",
   "metadata": {},
   "outputs": [],
   "source": [
    "# Testing submit query\n",
    "result = high_client.api.services.bigquery.submit_query(\n",
    "    func_name=\"my_func\",\n",
    "    query=f\"SELECT * FROM {dataset_1}.{table_1} LIMIT 1\",\n",
    ")"
   ]
  },
  {
   "cell_type": "code",
   "execution_count": null,
   "id": "35",
   "metadata": {},
   "outputs": [],
   "source": [
    "result"
   ]
  },
  {
   "cell_type": "code",
   "execution_count": null,
   "id": "36",
   "metadata": {},
   "outputs": [],
   "source": [
    "assert \"Query submitted\" in result"
   ]
  },
  {
   "cell_type": "code",
   "execution_count": null,
   "id": "37",
   "metadata": {},
   "outputs": [],
   "source": [
    "server.land()"
   ]
  },
  {
   "cell_type": "code",
   "execution_count": null,
   "id": "38",
   "metadata": {},
   "outputs": [],
   "source": []
  }
 ],
 "metadata": {
  "kernelspec": {
   "display_name": "Python 3 (ipykernel)",
   "language": "python",
   "name": "python3"
  },
  "language_info": {
   "codemirror_mode": {
    "name": "ipython",
    "version": 3
   },
   "file_extension": ".py",
   "mimetype": "text/x-python",
   "name": "python",
   "nbconvert_exporter": "python",
   "pygments_lexer": "ipython3",
   "version": "3.12.4"
  }
 },
 "nbformat": 4,
 "nbformat_minor": 5
}

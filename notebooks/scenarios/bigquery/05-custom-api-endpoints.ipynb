{
 "cells": [
  {
   "cell_type": "code",
   "execution_count": null,
   "id": "248f62a8-94b6-481d-a32b-03d5c2b67ae0",
   "metadata": {},
   "outputs": [],
   "source": [
    "# -- adding custom endpoints that use custom pools\n",
    "# -- mock vs private\n",
    "# -- context.node\n",
    "# -- settings and state\n",
    "# -- service account via settings or k8s labels\n",
    "# -- how to clear state\n",
    "# -- how to implement a basic rate limiter using context.user\n",
    "# -- creating a big query endpoint with a try catch\n",
    "# -- how to delete / replace api endpoints\n",
    "# -- testing endpoints and their mock / private versions\n",
    "# -- executing a large query and checking blob storage"
   ]
  },
  {
   "cell_type": "code",
   "execution_count": null,
   "id": "d4bc1ae8-6943-4d63-b6dc-eb0ac2291963",
   "metadata": {},
   "outputs": [],
   "source": [
    "NODE_URL = \"http://<node-url>\n",
    "ADMIN_EMAIL = \"info@openmined.org\"\n",
    "ADMIN_PASSWORD = \"changethis\"\n",
    "BQ_CREDENTIALS = '....'"
   ]
  },
  {
   "cell_type": "code",
   "execution_count": null,
   "id": "1247f6c4-303b-43a6-856d-088b1f149b17",
   "metadata": {},
   "outputs": [],
   "source": [
    "client = sy.login(url=NODE_URL, email=ADMIN_EMAIL, password=ADMIN_PASSWORD)"
   ]
  },
  {
   "cell_type": "markdown",
   "id": "4d2d8abc-8cf5-4d34-a248-4bff7df32e2c",
   "metadata": {},
   "source": [
    "## Create a new TwinAPIEndpoint"
   ]
  },
  {
   "cell_type": "code",
   "execution_count": null,
   "id": "30c7041e-26a8-45a3-ab91-335fdc95b966",
   "metadata": {},
   "outputs": [],
   "source": [
    "# Mock API\n",
    "@sy.api_endpoint_method(\n",
    "    settings={\n",
    "         \"CREDENTIALS\": BQ_CREDENTIALS,       \n",
    "    }\n",
    ")\n",
    "def mock_query_function(\n",
    "    context,\n",
    "    sql_query: str,  \n",
    ") -> str:\n",
    "    # third party\n",
    "    import pandas as pd\n",
    "    import numpy as np\n",
    "    \n",
    "    # Set the seed for reproducibility\n",
    "    np.random.seed(42)\n",
    "    try:\n",
    "\n",
    "        # Generate mock data\n",
    "        data = {\n",
    "            \"Name\": [f\"Name_{i}\" for i in range(1, 11)],\n",
    "            \"Age\": np.random.randint(20, 50, size=10),\n",
    "            \"Email\": [f\"name_{i}@example.com\" for i in range(1, 11)],\n",
    "            \"JoinDate\": pd.date_range(start=\"2023-01-01\", periods=10, freq='M').strftime('%Y-%m-%d').tolist(),\n",
    "            \"Salary\": np.random.randint(40000, 120000, size=10)\n",
    "        }\n",
    "        \n",
    "        # Create DataFrame\n",
    "        return pd.DataFrame(data)\n",
    "    except Exception as e:\n",
    "        return SyftError(message=\"Ops! Something went wrong. please, contact your admin\")\n",
    "\n",
    "\n",
    "# Private API\n",
    "@sy.api_endpoint_method(\n",
    "    settings={\n",
    "         \"CREDENTIALS\": BQ_CREDENTIALS,       \n",
    "    }\n",
    ")\n",
    "def private_query_function(\n",
    "    context,\n",
    "    sql_query: str,  \n",
    ") -> str:\n",
    "    # third party\n",
    "    from google.cloud import bigquery\n",
    "    from syft.service.response import SyftError\n",
    "\n",
    "    # Set the seed for reproducibility\n",
    "    np.random.seed(42)\n",
    "    try:\n",
    "\n",
    "        # Client query\n",
    "        client = bigquery.Client()\n",
    "\n",
    "        # Generate mock data\n",
    "        rows = client.query_and_wait(\n",
    "            sql_query,\n",
    "            project=project,\n",
    "        )\n",
    "        \n",
    "        # Create DataFrame\n",
    "        return rows\n",
    "    except Exception as e:\n",
    "        return SyftError(message=\"Ops! Something went wrong. please, contact your admin\")\n",
    "\n",
    "\n",
    "\n",
    "# Create new Twin API using bigquery-pool as a worker pool\n",
    "new_endpoint = sy.TwinAPIEndpoint(\n",
    "    path=\"new_api.ask\",\n",
    "    description=\"Ask SQL Queries using our BQ\",\n",
    "    private_function=private_query_function,\n",
    "    mock_function=mock_query_function,\n",
    "    worker_pool=\"bigquery-pool\"\n",
    ")\n",
    "\n",
    "client.custom_api.add(endpoint=new_endpoint)"
   ]
  },
  {
   "cell_type": "markdown",
   "id": "828311a5-91c1-430f-ab0f-3259f6d056c6",
   "metadata": {},
   "source": [
    "## How to List Twin APIS"
   ]
  },
  {
   "cell_type": "code",
   "execution_count": null,
   "id": "e02add49-5db7-465b-ac0a-3374e888f3d3",
   "metadata": {},
   "outputs": [],
   "source": [
    "client.service.api.api_endpoints()"
   ]
  },
  {
   "cell_type": "markdown",
   "id": "a3aa0ff7-3c26-4cd1-9b14-dc60da5c4984",
   "metadata": {},
   "source": [
    "## How to Update Twin APIS"
   ]
  },
  {
   "cell_type": "code",
   "execution_count": null,
   "id": "54e4d1bb-014f-4253-a180-cf7d5906586f",
   "metadata": {},
   "outputs": [],
   "source": [
    "@sy.api_endpoint_method()\n",
    "def new_mock_function(\n",
    "    context,\n",
    "    sql_query: str,  \n",
    ") -> str:\n",
    "    return \"New Mock Function\"\n",
    "\n",
    "@sy.api_endpoint_method()\n",
    "def new_private_function(\n",
    "    context,\n",
    "    sql_query: str,  \n",
    ") -> str:\n",
    "    return \"New Mock Function\"\n",
    "\n",
    "\n",
    "client.services.api.update(\n",
    "        endpoint_path: \"new_api.ask\",\n",
    "        mock_function: new_mock_function, # Optional\n",
    "        private_function: new_private_function, # Optional\n",
    "        hide_mock_definition: True, # Optional\n",
    "        endpoint_timeout: 1000, # Optional\n",
    ")"
   ]
  },
  {
   "cell_type": "markdown",
   "id": "253b11ca-71df-46b1-9908-7cc9f3fc9e83",
   "metadata": {},
   "source": [
    "## How to delete API endpoints"
   ]
  },
  {
   "cell_type": "code",
   "execution_count": null,
   "id": "19179033-56a1-4e93-b87a-7d69f3f52c5c",
   "metadata": {},
   "outputs": [],
   "source": [
    "client.services.api.delete(endpoint_path=\"new_api.ask\")"
   ]
  }
 ],
 "metadata": {
  "kernelspec": {
   "display_name": "Python 3 (ipykernel)",
   "language": "python",
   "name": "python3"
  },
  "language_info": {
   "codemirror_mode": {
    "name": "ipython",
    "version": 3
   },
   "file_extension": ".py",
   "mimetype": "text/x-python",
   "name": "python",
   "nbconvert_exporter": "python",
   "pygments_lexer": "ipython3",
   "version": "3.12.3"
  }
 },
 "nbformat": 4,
 "nbformat_minor": 5
}

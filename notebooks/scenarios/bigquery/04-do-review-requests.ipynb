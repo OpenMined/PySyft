{
 "cells": [
  {
   "cell_type": "code",
   "execution_count": null,
   "metadata": {},
   "outputs": [],
   "source": [
    "# syft absolute\n",
    "import syft as sy\n",
    "from syft.service.code.user_code import UserCode\n",
    "from syft.service.job.job_stash import Job\n",
    "from syft.service.request.request import Request"
   ]
  },
  {
   "cell_type": "code",
   "execution_count": null,
   "metadata": {},
   "outputs": [],
   "source": [
    "server = sy.orchestra.launch(\n",
    "    name=\"bigquery-high\",\n",
    "    dev_mode=True,\n",
    "    server_side_type=\"high\",\n",
    "    port=\"8080\",\n",
    "    n_consumers=1,  # How many workers to be spawned\n",
    "    create_producer=True,  # Can produce more workers\n",
    ")"
   ]
  },
  {
   "cell_type": "code",
   "execution_count": null,
   "metadata": {},
   "outputs": [],
   "source": [
    "high_client = sy.login(\n",
    "    url=\"http://localhost:8080\", email=\"info@openmined.org\", password=\"changethis\"\n",
    ")"
   ]
  },
  {
   "cell_type": "code",
   "execution_count": null,
   "metadata": {},
   "outputs": [],
   "source": [
    "request = high_client.requests[0]"
   ]
  },
  {
   "cell_type": "code",
   "execution_count": null,
   "metadata": {},
   "outputs": [],
   "source": [
    "request"
   ]
  },
  {
   "cell_type": "code",
   "execution_count": null,
   "metadata": {},
   "outputs": [],
   "source": [
    "request.code"
   ]
  },
  {
   "cell_type": "code",
   "execution_count": null,
   "metadata": {},
   "outputs": [],
   "source": [
    "def execute_request(client_high, request) -> dict:\n",
    "    if not isinstance(request, Request):\n",
    "        return \"This is not a request\"\n",
    "\n",
    "    code = request.code\n",
    "    if not isinstance(code, UserCode):\n",
    "        return \"No usercode found\"\n",
    "\n",
    "    func_name = request.code.service_func_name\n",
    "    api_func = getattr(client_high.code, func_name, None)\n",
    "    if api_func is None:\n",
    "        return \"Code name was not found on the client.\"\n",
    "\n",
    "    job = api_func(blocking=False)\n",
    "    return job"
   ]
  },
  {
   "cell_type": "code",
   "execution_count": null,
   "metadata": {},
   "outputs": [],
   "source": [
    "job = execute_request(high_client, request)"
   ]
  },
  {
   "cell_type": "code",
   "execution_count": null,
   "metadata": {},
   "outputs": [],
   "source": [
    "job"
   ]
  },
  {
   "cell_type": "code",
   "execution_count": null,
   "metadata": {},
   "outputs": [],
   "source": [
    "isinstance(job, Job)"
   ]
  },
  {
   "cell_type": "code",
   "execution_count": null,
   "metadata": {},
   "outputs": [],
   "source": [
    "result = job.wait()\n",
    "result"
   ]
  },
  {
   "cell_type": "code",
   "execution_count": null,
   "metadata": {},
   "outputs": [],
   "source": [
    "assert len(result) == 10000"
   ]
  },
  {
   "cell_type": "code",
   "execution_count": null,
   "metadata": {},
   "outputs": [],
   "source": [
    "job_info = job.info(result=True)\n",
    "response = request.deposit_result(job_info, approve=True)\n",
    "response"
   ]
  },
  {
   "cell_type": "code",
   "execution_count": null,
   "metadata": {},
   "outputs": [],
   "source": [
    "isinstance(response, Job)"
   ]
  },
  {
   "cell_type": "code",
   "execution_count": null,
   "metadata": {},
   "outputs": [],
   "source": [
    "def list_pending(do_client):\n",
    "    results = []\n",
    "    for request in do_client.requests:\n",
    "        if str(request.status) == \"RequestStatus.PENDING\":\n",
    "            results.append(request)\n",
    "            print(request.id)\n",
    "            print(request.code.constants[\"query\"].val)\n",
    "            print()\n",
    "    return results"
   ]
  },
  {
   "cell_type": "code",
   "execution_count": null,
   "metadata": {},
   "outputs": [],
   "source": [
    "def approve_and_deposit(do_client, request_id_or_idx):\n",
    "    if isinstance(request_id_or_idx, int):\n",
    "        pending = list_pending(do_client)\n",
    "        request = pending[request_id_or_idx]\n",
    "    elif isinstance(request_id_or_idx, str):\n",
    "        request = do_client.requests.get_by_uid(uid=sy.UID(request_id_or_idx))\n",
    "    else:\n",
    "        raise Exception(f\"Wrong type for request_id_or_idx: {type(request_id_or_idx)}\")\n",
    "\n",
    "    if not isinstance(request, Request):\n",
    "        return \"This is not a request\"\n",
    "\n",
    "    code = request.code\n",
    "    if not isinstance(code, UserCode):\n",
    "        return \"No usercode found on request\"\n",
    "\n",
    "    func_name = request.code.service_func_name\n",
    "    api_func = getattr(do_client.code, func_name, None)\n",
    "    if api_func is None:\n",
    "        return \"Code name not found in the client's code\"\n",
    "\n",
    "    job = api_func(blocking=False)\n",
    "    job.wait()\n",
    "\n",
    "    job_info = job.info(result=True)\n",
    "    return request.deposit_result(job_info, approve=True)"
   ]
  },
  {
   "cell_type": "code",
   "execution_count": null,
   "metadata": {},
   "outputs": [],
   "source": [
    "pending = list_pending(high_client)\n",
    "pending"
   ]
  },
  {
   "cell_type": "code",
   "execution_count": null,
   "metadata": {},
   "outputs": [],
   "source": [
    "result = approve_and_deposit(high_client, 0)"
   ]
  },
  {
   "cell_type": "code",
   "execution_count": null,
   "metadata": {},
   "outputs": [],
   "source": [
    "assert isinstance(result, Job)"
   ]
  },
  {
   "cell_type": "code",
   "execution_count": null,
   "metadata": {},
   "outputs": [],
   "source": [
    "server.land()"
   ]
  },
  {
   "cell_type": "code",
   "execution_count": null,
   "metadata": {},
   "outputs": [],
   "source": []
  }
 ],
 "metadata": {
  "kernelspec": {
   "display_name": "Python 3 (ipykernel)",
   "language": "python",
   "name": "python3"
  },
  "language_info": {
   "codemirror_mode": {
    "name": "ipython",
    "version": 3
   },
   "file_extension": ".py",
   "mimetype": "text/x-python",
   "name": "python",
   "nbconvert_exporter": "python",
   "pygments_lexer": "ipython3",
   "version": "3.12.2"
  }
 },
 "nbformat": 4,
 "nbformat_minor": 4
}

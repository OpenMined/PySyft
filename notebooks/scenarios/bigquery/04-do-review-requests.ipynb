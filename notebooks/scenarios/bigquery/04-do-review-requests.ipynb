{
 "cells": [
  {
   "cell_type": "code",
   "execution_count": null,
   "metadata": {},
   "outputs": [],
   "source": [
    "# import os\n",
    "# os.environ[\"ORCHESTRA_DEPLOYMENT_TYPE\"] = \"remote\"\n",
    "# os.environ[\"DEV_MODE\"] = \"True\"\n",
    "# os.environ[\"TEST_EXTERNAL_REGISTRY\"] = \"k3d-registry.localhost:5800\""
   ]
  },
  {
   "cell_type": "code",
   "execution_count": null,
   "metadata": {},
   "outputs": [],
   "source": [
    "# third party\n",
    "# run email server\n",
    "from helpers import EmailServer\n",
    "from helpers import SMTPTestServer\n",
    "\n",
    "email_server = EmailServer()\n",
    "smtp_server = SMTPTestServer(email_server)\n",
    "smtp_server.start()"
   ]
  },
  {
   "cell_type": "code",
   "execution_count": null,
   "metadata": {},
   "outputs": [],
   "source": [
    "# stdlib\n",
    "import random\n",
    "\n",
    "# syft absolute\n",
    "import syft as sy\n",
    "from syft.service.job.job_stash import Job"
   ]
  },
  {
   "cell_type": "code",
   "execution_count": null,
   "metadata": {},
   "outputs": [],
   "source": [
    "server = sy.orchestra.launch(\n",
    "    name=\"bigquery-high\",\n",
    "    dev_mode=True,\n",
    "    server_side_type=\"high\",\n",
    "    port=\"8080\",\n",
    "    n_consumers=1,  # How many workers to be spawned\n",
    "    create_producer=True,  # Can produce more workers\n",
    ")"
   ]
  },
  {
   "cell_type": "code",
   "execution_count": null,
   "metadata": {},
   "outputs": [],
   "source": [
    "ADMIN_EMAIL, ADMIN_PW = \"admin2@bigquery.org\", \"bqpw2\"\n",
    "high_client = sy.login(\n",
    "    url=\"http://localhost:8080\", email=ADMIN_EMAIL, password=ADMIN_PW\n",
    ")"
   ]
  },
  {
   "cell_type": "code",
   "execution_count": null,
   "metadata": {},
   "outputs": [],
   "source": [
    "# third party\n",
    "from helpers import load_users\n",
    "from job_helpers import load_jobs\n",
    "from job_helpers import save_jobs"
   ]
  },
  {
   "cell_type": "code",
   "execution_count": null,
   "metadata": {},
   "outputs": [],
   "source": [
    "users = load_users(high_client)"
   ]
  },
  {
   "cell_type": "code",
   "execution_count": null,
   "metadata": {},
   "outputs": [],
   "source": [
    "jobs = load_jobs(users, high_client)"
   ]
  },
  {
   "cell_type": "code",
   "execution_count": null,
   "metadata": {},
   "outputs": [],
   "source": [
    "all_requests = high_client.requests"
   ]
  },
  {
   "cell_type": "code",
   "execution_count": null,
   "metadata": {},
   "outputs": [],
   "source": [
    "def get_request_for_job(requests, job):\n",
    "    job_requests = [\n",
    "        r for r in all_requests if r.code.service_func_name == job.func_name\n",
    "    ]\n",
    "    if len(job_requests) == 1:\n",
    "        return job_requests[0]\n",
    "    if len(job_requests) > 1:\n",
    "        raise Exception(f\"Multiple of the same job: {job} in requests: {requests}\")\n",
    "    return None"
   ]
  },
  {
   "cell_type": "code",
   "execution_count": null,
   "metadata": {},
   "outputs": [],
   "source": [
    "submitted_jobs = [job for job in jobs if job.is_submitted]"
   ]
  },
  {
   "cell_type": "code",
   "execution_count": null,
   "metadata": {},
   "outputs": [],
   "source": [
    "def approve_by_running(request):\n",
    "    job = request.code(blocking=False)\n",
    "    result = job.wait()\n",
    "    print(\"got result of type\", type(result), \"bool\", bool(result))\n",
    "    # got result of type <class 'syft.service.action.pandas.PandasDataFrameObject'> bool False\n",
    "    # assert result won't work unless we know what type is coming back\n",
    "    job_info = job.info(result=True)\n",
    "    # need force when running multiple times\n",
    "    # todo check and dont run if its already done\n",
    "    response = request.deposit_result(job_info, approve=True, force=True)\n",
    "    return response"
   ]
  },
  {
   "cell_type": "code",
   "execution_count": null,
   "metadata": {},
   "outputs": [],
   "source": [
    "# TODO we should record whether it was approved or deposited\n",
    "# and test doing both in either order as there might be a bug when\n",
    "# force overwriting\n",
    "# also changing deny to approve and back again"
   ]
  },
  {
   "cell_type": "code",
   "execution_count": null,
   "metadata": {},
   "outputs": [],
   "source": [
    "for job in submitted_jobs:\n",
    "    request = get_request_for_job(all_requests, job)\n",
    "    choice = None\n",
    "    number_of_emails = len(\n",
    "        email_server.get_emails_for_user(request.requesting_user_email)\n",
    "    )\n",
    "    if job.should_succeed:\n",
    "        if random.randrange(2):\n",
    "            choice = \"approved with deposit_result\"\n",
    "            response = approve_by_running(request)\n",
    "            assert isinstance(response, Job)\n",
    "        else:\n",
    "            choice = \"approved\"\n",
    "            response = request.approve()\n",
    "            assert isinstance(response, sy.SyftSuccess)\n",
    "    else:\n",
    "        choice = \"denied\"\n",
    "        response = request.deny(\n",
    "            reason=f\"Your request {job.func_name} looks wrong, try again.\"\n",
    "        )\n",
    "        assert isinstance(response, sy.SyftSuccess)\n",
    "\n",
    "    after_users_emails = len(\n",
    "        email_server.get_emails_for_user(request.requesting_user_email)\n",
    "    )\n",
    "    # assert after_users_emails > number_of_emails\n",
    "    job.admin_reviewed = True\n",
    "    print(f\"Job {job.func_name} should succeed: {job.should_succeed} and was {choice}\")"
   ]
  },
  {
   "cell_type": "code",
   "execution_count": null,
   "metadata": {},
   "outputs": [],
   "source": [
    "save_jobs(jobs)"
   ]
  },
  {
   "cell_type": "code",
   "execution_count": null,
   "metadata": {},
   "outputs": [],
   "source": [
    "smtp_server.stop()"
   ]
  },
  {
   "cell_type": "code",
   "execution_count": null,
   "metadata": {},
   "outputs": [],
   "source": [
    "server.land()"
   ]
  },
  {
   "cell_type": "code",
   "execution_count": null,
   "metadata": {},
   "outputs": [],
   "source": []
  }
 ],
 "metadata": {
  "kernelspec": {
   "display_name": "Python 3 (ipykernel)",
   "language": "python",
   "name": "python3"
  },
  "language_info": {
   "codemirror_mode": {
    "name": "ipython",
    "version": 3
   },
   "file_extension": ".py",
   "mimetype": "text/x-python",
   "name": "python",
   "nbconvert_exporter": "python",
   "pygments_lexer": "ipython3",
   "version": "3.10.13"
  }
 },
 "nbformat": 4,
 "nbformat_minor": 4
}

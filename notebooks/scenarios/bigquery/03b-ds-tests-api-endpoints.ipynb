{
 "cells": [
  {
   "cell_type": "code",
   "execution_count": null,
   "id": "0",
   "metadata": {},
   "outputs": [],
   "source": [
    "# syft absolute\n",
    "import syft as sy\n",
    "from syft import test_settings"
   ]
  },
  {
   "cell_type": "code",
   "execution_count": null,
   "id": "1",
   "metadata": {},
   "outputs": [],
   "source": [
    "server = sy.orchestra.launch(\n",
    "    name=\"bigquery-high\",\n",
    "    dev_mode=True,\n",
    "    server_side_type=\"high\",\n",
    "    port=\"8080\",\n",
    "    n_consumers=1,  # How many workers to be spawned\n",
    "    create_producer=True,  # Can produce more workers\n",
    ")"
   ]
  },
  {
   "cell_type": "code",
   "execution_count": null,
   "id": "2",
   "metadata": {},
   "outputs": [],
   "source": [
    "high_ds_client = sy.login(\n",
    "    url=\"http://localhost:8080\",\n",
    "    email=\"data_scientist@openmined.org\",\n",
    "    password=\"verysecurepassword\",\n",
    ")"
   ]
  },
  {
   "cell_type": "code",
   "execution_count": null,
   "id": "3",
   "metadata": {},
   "outputs": [],
   "source": [
    "high_ds_client.custom_api.api_endpoints()"
   ]
  },
  {
   "cell_type": "code",
   "execution_count": null,
   "id": "4",
   "metadata": {},
   "outputs": [],
   "source": [
    "high_ds_client.api.services.bigquery.test_query"
   ]
  },
  {
   "cell_type": "code",
   "execution_count": null,
   "id": "5",
   "metadata": {},
   "outputs": [],
   "source": [
    "dataset_1 = test_settings.get(\"dataset_1\", default=\"dataset_1\")\n",
    "dataset_2 = test_settings.get(\"dataset_2\", default=\"dataset_2\")\n",
    "table_1 = test_settings.get(\"table_1\", default=\"table_1\")\n",
    "table_2 = test_settings.get(\"table_2\", default=\"table_2\")\n",
    "table_2_col_id = test_settings.get(\"table_2_col_id\", default=\"table_id\")\n",
    "table_2_col_score = test_settings.get(\"table_2_col_score\", default=\"colname\")"
   ]
  },
  {
   "cell_type": "code",
   "execution_count": null,
   "id": "6",
   "metadata": {},
   "outputs": [],
   "source": [
    "FUNC_NAME = \"popular\"\n",
    "QUERY = f\"SELECT {table_2_col_id}, AVG({table_2_col_score}) AS average_score \\\n",
    "    FROM {dataset_2}.{table_2} \\\n",
    "    GROUP BY {table_2_col_id} \\\n",
    "    LIMIT 10000\""
   ]
  },
  {
   "cell_type": "code",
   "execution_count": null,
   "id": "7",
   "metadata": {},
   "outputs": [],
   "source": [
    "# test endpoint security: can access mock endpoint\n",
    "mock_result = high_ds_client.api.services.bigquery.test_query.mock(sql_query=QUERY)\n",
    "mock_result"
   ]
  },
  {
   "cell_type": "code",
   "execution_count": null,
   "id": "8",
   "metadata": {},
   "outputs": [],
   "source": [
    "assert len(mock_result) == 10000"
   ]
  },
  {
   "cell_type": "code",
   "execution_count": null,
   "id": "9",
   "metadata": {},
   "outputs": [],
   "source": [
    "# query again should work\n",
    "mock_result = high_ds_client.api.services.bigquery.test_query.mock(sql_query=QUERY)\n",
    "mock_result"
   ]
  },
  {
   "cell_type": "code",
   "execution_count": null,
   "id": "10",
   "metadata": {},
   "outputs": [],
   "source": [
    "# Test mock version: rate limit has been reached\n",
    "with sy.raises(sy.SyftException, show=True):\n",
    "    high_ds_client.api.services.bigquery.test_query.mock(sql_query=QUERY)"
   ]
  },
  {
   "cell_type": "code",
   "execution_count": null,
   "id": "11",
   "metadata": {},
   "outputs": [],
   "source": [
    "# test endpoint security: no access to private endpoint\n",
    "with sy.raises(\n",
    "    sy.SyftException(public_message=\"*You're not allowed to run this code.*\"), show=True\n",
    "):\n",
    "    private_result = high_ds_client.api.services.bigquery.test_query.private(\n",
    "        sql_query=QUERY\n",
    "    )"
   ]
  },
  {
   "cell_type": "code",
   "execution_count": null,
   "id": "12",
   "metadata": {},
   "outputs": [],
   "source": [
    "res1 = high_ds_client.api.services.bigquery.submit_query(\n",
    "    func_name=FUNC_NAME, query=QUERY\n",
    ")\n",
    "res1"
   ]
  },
  {
   "cell_type": "code",
   "execution_count": null,
   "id": "13",
   "metadata": {},
   "outputs": [],
   "source": [
    "def extract_code_path(response):\n",
    "    # stdlib\n",
    "    import re\n",
    "\n",
    "    pattern = r\"client\\.code\\.(\\w+)\\(\\)\"\n",
    "    match = re.search(pattern, str(response))\n",
    "    if match:\n",
    "        extracted_code = match.group(1)\n",
    "        return extracted_code\n",
    "    return None"
   ]
  },
  {
   "cell_type": "code",
   "execution_count": null,
   "id": "14",
   "metadata": {},
   "outputs": [],
   "source": [
    "func_name = extract_code_path(res1)\n",
    "print(func_name)"
   ]
  },
  {
   "cell_type": "code",
   "execution_count": null,
   "id": "15",
   "metadata": {},
   "outputs": [],
   "source": [
    "assert \"popular\" in func_name"
   ]
  },
  {
   "cell_type": "code",
   "execution_count": null,
   "id": "16",
   "metadata": {},
   "outputs": [],
   "source": [
    "api_method = getattr(high_ds_client.code, func_name, None)\n",
    "api_method"
   ]
  },
  {
   "cell_type": "code",
   "execution_count": null,
   "id": "17",
   "metadata": {},
   "outputs": [],
   "source": [
    "with sy.raises(\n",
    "    sy.SyftException(public_message=\"*Your code is waiting for approval*\"), show=True\n",
    "):\n",
    "    result = api_method()"
   ]
  },
  {
   "cell_type": "code",
   "execution_count": null,
   "id": "18",
   "metadata": {},
   "outputs": [],
   "source": [
    "FUNC_NAME = \"large_sample\"\n",
    "LARGE_SAMPLE_QUERY = f\"SELECT * FROM {dataset_2}.{table_2} LIMIT 10000\""
   ]
  },
  {
   "cell_type": "code",
   "execution_count": null,
   "id": "19",
   "metadata": {},
   "outputs": [],
   "source": [
    "res2 = high_ds_client.api.services.bigquery.submit_query(\n",
    "    func_name=FUNC_NAME, query=LARGE_SAMPLE_QUERY\n",
    ")"
   ]
  },
  {
   "cell_type": "code",
   "execution_count": null,
   "id": "20",
   "metadata": {},
   "outputs": [],
   "source": [
    "func_name = extract_code_path(res2)\n",
    "print(func_name)"
   ]
  },
  {
   "cell_type": "code",
   "execution_count": null,
   "id": "21",
   "metadata": {},
   "outputs": [],
   "source": [
    "assert \"large_sample\" in func_name"
   ]
  },
  {
   "cell_type": "code",
   "execution_count": null,
   "id": "22",
   "metadata": {},
   "outputs": [],
   "source": [
    "api_method_2 = getattr(high_ds_client.code, func_name, None)\n",
    "api_method_2"
   ]
  },
  {
   "cell_type": "code",
   "execution_count": null,
   "id": "23",
   "metadata": {},
   "outputs": [],
   "source": [
    "with sy.raises(\n",
    "    sy.SyftException(public_message=\"*Your code is waiting for approval*\"), show=True\n",
    "):\n",
    "    result = api_method_2()"
   ]
  },
  {
   "cell_type": "code",
   "execution_count": null,
   "id": "24",
   "metadata": {},
   "outputs": [],
   "source": []
  }
 ],
 "metadata": {
  "kernelspec": {
   "display_name": "Python 3 (ipykernel)",
   "language": "python",
   "name": "python3"
  },
  "language_info": {
   "codemirror_mode": {
    "name": "ipython",
    "version": 3
   },
   "file_extension": ".py",
   "mimetype": "text/x-python",
   "name": "python",
   "nbconvert_exporter": "python",
   "pygments_lexer": "ipython3",
   "version": "3.12.2"
  }
 },
 "nbformat": 4,
 "nbformat_minor": 5
}

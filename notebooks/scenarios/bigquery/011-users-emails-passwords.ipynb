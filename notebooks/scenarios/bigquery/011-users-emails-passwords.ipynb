{
 "cells": [
  {
   "cell_type": "code",
   "execution_count": null,
   "id": "0",
   "metadata": {},
   "outputs": [],
   "source": [
    "# import os\n",
    "# os.environ[\"ORCHESTRA_DEPLOYMENT_TYPE\"] = \"remote\"\n",
    "# os.environ[\"DEV_MODE\"] = \"True\"\n",
    "# os.environ[\"TEST_EXTERNAL_REGISTRY\"] = \"k3d-registry.localhost:5800\"\n",
    "# # !pip install aiosmtpd\n",
    "# # !uv pip install aiosmtpd"
   ]
  },
  {
   "cell_type": "code",
   "execution_count": null,
   "id": "1",
   "metadata": {},
   "outputs": [],
   "source": [
    "# stdlib\n",
    "import os\n",
    "\n",
    "environment = os.environ.get(\"ORCHESTRA_DEPLOYMENT_TYPE\", \"python\")\n",
    "environment"
   ]
  },
  {
   "cell_type": "code",
   "execution_count": null,
   "id": "2",
   "metadata": {},
   "outputs": [],
   "source": [
    "# third party\n",
    "from helpers import SENDER\n",
    "from helpers import create_user\n",
    "from helpers import make_user\n",
    "from helpers import save_users\n",
    "\n",
    "# syft absolute\n",
    "import syft as sy"
   ]
  },
  {
   "cell_type": "code",
   "execution_count": null,
   "id": "3",
   "metadata": {},
   "outputs": [],
   "source": [
    "# third party\n",
    "# run email server\n",
    "from helpers import EmailServer\n",
    "from helpers import SMTPTestServer\n",
    "\n",
    "email_server = EmailServer()\n",
    "smtp_server = SMTPTestServer(email_server)\n",
    "smtp_server.start()"
   ]
  },
  {
   "cell_type": "code",
   "execution_count": null,
   "id": "4",
   "metadata": {},
   "outputs": [],
   "source": [
    "server = sy.orchestra.launch(\n",
    "    name=\"bigquery-high\",\n",
    "    dev_mode=True,\n",
    "    server_side_type=\"high\",\n",
    "    port=\"8080\",\n",
    "    n_consumers=1,  # How many workers to be spawned\n",
    "    create_producer=True,  # Can produce more workers\n",
    ")"
   ]
  },
  {
   "cell_type": "code",
   "execution_count": null,
   "id": "5",
   "metadata": {},
   "outputs": [],
   "source": [
    "ADMIN_EMAIL, ADMIN_PW = \"admin2@bigquery.org\", \"bqpw2\"\n",
    "high_client = sy.login(\n",
    "    url=\"http://localhost:8080\", email=ADMIN_EMAIL, password=ADMIN_PW\n",
    ")"
   ]
  },
  {
   "cell_type": "code",
   "execution_count": null,
   "id": "6",
   "metadata": {},
   "outputs": [],
   "source": [
    "high_client.users"
   ]
  },
  {
   "cell_type": "code",
   "execution_count": null,
   "id": "7",
   "metadata": {},
   "outputs": [],
   "source": [
    "# TODO: this should show SyftSuccess?\n",
    "high_client.api.services.settings.enable_notifications(\n",
    "    email_sender=SENDER,\n",
    "    email_server=\"localhost\",\n",
    "    email_port=\"9025\",\n",
    ")"
   ]
  },
  {
   "cell_type": "code",
   "execution_count": null,
   "id": "8",
   "metadata": {},
   "outputs": [],
   "source": [
    "# # TODO: this should show SyftSuccess?\n",
    "# high_client.api.services.settings.disable_notifications()"
   ]
  },
  {
   "cell_type": "markdown",
   "id": "9",
   "metadata": {},
   "source": [
    "# Register users"
   ]
  },
  {
   "cell_type": "code",
   "execution_count": null,
   "id": "10",
   "metadata": {},
   "outputs": [],
   "source": [
    "num_users = int(os.environ.get(\"NUM_TEST_USERS\", 5))\n",
    "print(f\"registering {num_users} users\")"
   ]
  },
  {
   "cell_type": "code",
   "execution_count": null,
   "id": "11",
   "metadata": {},
   "outputs": [],
   "source": [
    "users = []\n",
    "email_disable_index = 0\n",
    "reset_password_index = 1\n",
    "for i in range(num_users):\n",
    "    user = make_user()\n",
    "    user._email_server = email_server\n",
    "    create_user(high_client, user)\n",
    "    user.client = high_client\n",
    "    if email_disable_index == i:\n",
    "        user.email_disabled = True\n",
    "    if reset_password_index == i:\n",
    "        user.reset_password = True\n",
    "    users.append(user)"
   ]
  },
  {
   "cell_type": "code",
   "execution_count": null,
   "id": "12",
   "metadata": {},
   "outputs": [],
   "source": [
    "save_users(users)"
   ]
  },
  {
   "cell_type": "code",
   "execution_count": null,
   "id": "13",
   "metadata": {},
   "outputs": [],
   "source": [
    "# stdlib\n",
    "import asyncio\n",
    "\n",
    "await asyncio.sleep(5)"
   ]
  },
  {
   "cell_type": "code",
   "execution_count": null,
   "id": "14",
   "metadata": {},
   "outputs": [],
   "source": [
    "# everyone gets a welcome email\n",
    "server_name = high_client.name\n",
    "for user in users:\n",
    "    emails = user.emails\n",
    "    assert len(emails) == 1\n",
    "    welcome_email = user.emails[0]\n",
    "    assert welcome_email.email_from == SENDER\n",
    "    assert len(welcome_email.email_to) == 1\n",
    "    assert welcome_email.email_to[0] == user.email\n",
    "    assert f\"Welcome to {server_name}\" in welcome_email.email_content"
   ]
  },
  {
   "cell_type": "code",
   "execution_count": null,
   "id": "15",
   "metadata": {},
   "outputs": [],
   "source": [
    "# one user disables notifications\n",
    "# one user requests a password reset\n",
    "no_email_user = None\n",
    "reset_password_user = None\n",
    "for user in users:\n",
    "    user.client = high_client  # get user client\n",
    "    if user.email_disabled:\n",
    "        no_email_user = user\n",
    "        # disable for this user only\n",
    "        user.client.api.notifications.deactivate()\n",
    "\n",
    "    if user.reset_password:\n",
    "        # ask admin for forgot password flow\n",
    "        user.client.guest().forgot_password(email=user.email)\n",
    "        assert \"Password Reset Requested\" in user.emails[1].email_content\n",
    "        reset_password_user = user"
   ]
  },
  {
   "cell_type": "code",
   "execution_count": null,
   "id": "16",
   "metadata": {},
   "outputs": [],
   "source": [
    "ds0 = users[0]"
   ]
  },
  {
   "cell_type": "code",
   "execution_count": null,
   "id": "17",
   "metadata": {},
   "outputs": [],
   "source": [
    "ds0_user = ds0.client.account\n",
    "ds0_user"
   ]
  },
  {
   "cell_type": "code",
   "execution_count": null,
   "id": "18",
   "metadata": {},
   "outputs": [],
   "source": [
    "# with sy.raises(\n",
    "# sy.SyftException(public_message=\"*tried to update user*\"\n",
    "# ), show=True): this is different on k8s no idea why\n",
    "with sy.raises(sy.SyftException, show=True):\n",
    "    ds0.client.users.update(uid=ds0_user.id, role=\"admin\")"
   ]
  },
  {
   "cell_type": "code",
   "execution_count": null,
   "id": "19",
   "metadata": {},
   "outputs": [],
   "source": [
    "# with sy.raises(sy.SyftException(public_message=\"*tried to update user*\"), show=True):\n",
    "with sy.raises(sy.SyftException, show=True):\n",
    "    ds0_user.update(role=\"admin\")"
   ]
  },
  {
   "cell_type": "code",
   "execution_count": null,
   "id": "20",
   "metadata": {},
   "outputs": [],
   "source": [
    "# TODO: test disabling and re-enabling all notifications"
   ]
  },
  {
   "cell_type": "code",
   "execution_count": null,
   "id": "21",
   "metadata": {},
   "outputs": [],
   "source": [
    "# high_client.api.services.settings.disable_notifications()\n",
    "# high_client.api.services.settings.enable_notifications()"
   ]
  },
  {
   "cell_type": "code",
   "execution_count": null,
   "id": "22",
   "metadata": {},
   "outputs": [],
   "source": [
    "token = reset_password_user.get_token()\n",
    "token"
   ]
  },
  {
   "cell_type": "code",
   "execution_count": null,
   "id": "23",
   "metadata": {},
   "outputs": [],
   "source": [
    "passw = reset_password_user.make_new_password()\n",
    "passw"
   ]
  },
  {
   "cell_type": "code",
   "execution_count": null,
   "id": "24",
   "metadata": {},
   "outputs": [],
   "source": [
    "assert token\n",
    "assert passw"
   ]
  },
  {
   "cell_type": "code",
   "execution_count": null,
   "id": "25",
   "metadata": {},
   "outputs": [],
   "source": [
    "output = reset_password_user.client.guest().reset_password(\n",
    "    token=reset_password_user.reset_token, new_password=reset_password_user.new_password\n",
    ")\n",
    "output"
   ]
  },
  {
   "cell_type": "code",
   "execution_count": null,
   "id": "26",
   "metadata": {},
   "outputs": [],
   "source": [
    "assert isinstance(output, sy.SyftSuccess)"
   ]
  },
  {
   "cell_type": "code",
   "execution_count": null,
   "id": "27",
   "metadata": {},
   "outputs": [],
   "source": [
    "# relogin\n",
    "reset_password_user.client = reset_password_user.client"
   ]
  },
  {
   "cell_type": "code",
   "execution_count": null,
   "id": "28",
   "metadata": {},
   "outputs": [],
   "source": [
    "save_users(users)"
   ]
  },
  {
   "cell_type": "code",
   "execution_count": null,
   "id": "29",
   "metadata": {},
   "outputs": [],
   "source": [
    "smtp_server.stop()"
   ]
  },
  {
   "cell_type": "code",
   "execution_count": null,
   "id": "30",
   "metadata": {},
   "outputs": [],
   "source": [
    "server.land()"
   ]
  },
  {
   "cell_type": "code",
   "execution_count": null,
   "id": "31",
   "metadata": {},
   "outputs": [],
   "source": []
  }
 ],
 "metadata": {
  "kernelspec": {
   "display_name": "Python 3 (ipykernel)",
   "language": "python",
   "name": "python3"
  },
  "language_info": {
   "codemirror_mode": {
    "name": "ipython",
    "version": 3
   },
   "file_extension": ".py",
   "mimetype": "text/x-python",
   "name": "python",
   "nbconvert_exporter": "python",
   "pygments_lexer": "ipython3",
   "version": "3.10.13"
  }
 },
 "nbformat": 4,
 "nbformat_minor": 5
}

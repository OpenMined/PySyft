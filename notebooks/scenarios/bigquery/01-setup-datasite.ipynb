{
 "cells": [
  {
   "cell_type": "code",
   "execution_count": null,
   "metadata": {},
   "outputs": [],
   "source": [
    "# syft absolute\n",
    "import syft as sy"
   ]
  },
  {
   "cell_type": "code",
   "execution_count": null,
   "metadata": {},
   "outputs": [],
   "source": [
    "server = sy.orchestra.launch(\n",
    "    name=\"bigquery-high\",\n",
    "    dev_mode=False,\n",
    "    server_side_type=\"high\",\n",
    "    reset=True,\n",
    "    port=\"8080\",\n",
    "    n_consumers=1,  # How many workers to be spawned\n",
    "    create_producer=True,  # Can produce more workers\n",
    ")"
   ]
  },
  {
   "cell_type": "code",
   "execution_count": null,
   "metadata": {},
   "outputs": [],
   "source": [
    "high_client = sy.login(\n",
    "    url=\"http://localhost:8080\", email=\"info@openmined.org\", password=\"changethis\"\n",
    ")"
   ]
  },
  {
   "cell_type": "code",
   "execution_count": null,
   "metadata": {},
   "outputs": [],
   "source": [
    "high_client.worker_pools"
   ]
  },
  {
   "cell_type": "code",
   "execution_count": null,
   "metadata": {},
   "outputs": [],
   "source": [
    "# add your values to secrets.json in this folder\n",
    "secrets = sy.get_nb_secrets(\n",
    "    {\n",
    "        \"external_registry\": \"docker.io\",\n",
    "    }\n",
    ")\n",
    "external_registry = secrets[\"external_registry\"]\n",
    "external_registry = \"docker.io\"\n",
    "external_registry"
   ]
  },
  {
   "cell_type": "code",
   "execution_count": null,
   "metadata": {},
   "outputs": [],
   "source": [
    "worker_docker_tag = f\"openmined/bigquery:{sy.__version__}\"\n",
    "worker_docker_tag"
   ]
  },
  {
   "cell_type": "code",
   "execution_count": null,
   "metadata": {},
   "outputs": [],
   "source": [
    "docker_config = sy.PrebuiltWorkerConfig(tag=f\"{external_registry}/{worker_docker_tag}\")\n",
    "docker_config"
   ]
  },
  {
   "cell_type": "code",
   "execution_count": null,
   "metadata": {},
   "outputs": [],
   "source": [
    "submit_result = high_client.api.services.worker_image.submit(\n",
    "    worker_config=docker_config\n",
    ")\n",
    "submit_result"
   ]
  },
  {
   "cell_type": "code",
   "execution_count": null,
   "metadata": {},
   "outputs": [],
   "source": [
    "worker_image = high_client.images.get_all()[1]\n",
    "worker_image"
   ]
  },
  {
   "cell_type": "code",
   "execution_count": null,
   "metadata": {},
   "outputs": [],
   "source": [
    "registry_add_result = high_client.api.services.image_registry.add(external_registry)\n",
    "registry_add_result"
   ]
  },
  {
   "cell_type": "code",
   "execution_count": null,
   "metadata": {},
   "outputs": [],
   "source": [
    "registries = high_client.api.services.image_registry.get_all()\n",
    "registries"
   ]
  },
  {
   "cell_type": "code",
   "execution_count": null,
   "metadata": {},
   "outputs": [],
   "source": [
    "registry_uid = next((r.id for r in registries if r.url == external_registry), None)"
   ]
  },
  {
   "cell_type": "code",
   "execution_count": null,
   "metadata": {},
   "outputs": [],
   "source": [
    "worker_pool_name = \"bigquery-pool\""
   ]
  },
  {
   "cell_type": "code",
   "execution_count": null,
   "metadata": {},
   "outputs": [],
   "source": [
    "high_client.api.services.worker_pool.launch(\n",
    "    pool_name=worker_pool_name,\n",
    "    image_uid=worker_image.id,\n",
    "    num_workers=1,\n",
    ")"
   ]
  },
  {
   "cell_type": "code",
   "execution_count": null,
   "metadata": {},
   "outputs": [],
   "source": [
    "high_client.worker_pools.scale(number=5, pool_name=worker_pool_name)\n",
    "\n",
    "high_client.worker_pools"
   ]
  },
  {
   "cell_type": "code",
   "execution_count": null,
   "metadata": {},
   "outputs": [],
   "source": [
    "base_worker_image = high_client.images.get_all()[0]\n",
    "base_worker_image"
   ]
  },
  {
   "cell_type": "code",
   "execution_count": null,
   "metadata": {},
   "outputs": [],
   "source": []
  },
  {
   "cell_type": "code",
   "execution_count": null,
   "metadata": {},
   "outputs": [],
   "source": [
    "high_client.register(\n",
    "    email=\"data_scientist@openmined.org\",\n",
    "    password=\"verysecurepassword\",\n",
    "    password_verify=\"verysecurepassword\",\n",
    "    name=\"John Doe\",\n",
    ")"
   ]
  },
  {
   "cell_type": "code",
   "execution_count": null,
   "metadata": {},
   "outputs": [],
   "source": [
    "high_client.settings.allow_guest_signup(enable=False)"
   ]
  },
  {
   "cell_type": "code",
   "execution_count": null,
   "metadata": {},
   "outputs": [],
   "source": [
    "worker_dockerfile = f\"\"\"\n",
    "FROM {str(base_worker_image.image_identifier)}\n",
    "\n",
    "RUN uv pip install db-dtypes google-cloud-bigquery\n",
    "\n",
    "\"\"\".strip()\n",
    "worker_dockerfile"
   ]
  },
  {
   "cell_type": "code",
   "execution_count": null,
   "metadata": {},
   "outputs": [],
   "source": [
    "docker_tag = str(base_worker_image.image_identifier).replace(\n",
    "    \"backend\", \"worker-bigquery\"\n",
    ")\n",
    "docker_tag"
   ]
  },
  {
   "cell_type": "code",
   "execution_count": null,
   "metadata": {},
   "outputs": [],
   "source": [
    "# # can't shutdown because in python the workers are gone in the next notebook\n",
    "# assert False"
   ]
  },
  {
   "cell_type": "code",
   "execution_count": null,
   "metadata": {},
   "outputs": [],
   "source": [
    "# server.land()"
   ]
  },
  {
   "cell_type": "code",
   "execution_count": null,
   "metadata": {},
   "outputs": [],
   "source": [
    "# !echo \"$worker_dockerfile\" | docker build -t $docker_tag -q -"
   ]
  },
  {
   "cell_type": "code",
   "execution_count": null,
   "metadata": {},
   "outputs": [],
   "source": [
    "# !docker image ls | grep bigquery"
   ]
  },
  {
   "cell_type": "code",
   "execution_count": null,
   "metadata": {},
   "outputs": [],
   "source": []
  },
  {
   "cell_type": "code",
   "execution_count": null,
   "metadata": {},
   "outputs": [],
   "source": []
  }
 ],
 "metadata": {
  "kernelspec": {
   "display_name": "Python 3 (ipykernel)",
   "language": "python",
   "name": "python3"
  },
  "language_info": {
   "codemirror_mode": {
    "name": "ipython",
    "version": 3
   },
   "file_extension": ".py",
   "mimetype": "text/x-python",
   "name": "python",
   "nbconvert_exporter": "python",
   "pygments_lexer": "ipython3",
   "version": "3.12.2"
  }
 },
 "nbformat": 4,
 "nbformat_minor": 4
}

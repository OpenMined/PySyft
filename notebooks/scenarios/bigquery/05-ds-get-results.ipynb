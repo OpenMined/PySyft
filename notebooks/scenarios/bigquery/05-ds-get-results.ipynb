{
 "cells": [
  {
   "cell_type": "code",
   "execution_count": null,
   "metadata": {},
   "outputs": [],
   "source": [
    "# import os\n",
    "# os.environ[\"ORCHESTRA_DEPLOYMENT_TYPE\"] = \"remote\"\n",
    "# os.environ[\"DEV_MODE\"] = \"True\"\n",
    "# os.environ[\"TEST_EXTERNAL_REGISTRY\"] = \"k3d-registry.localhost:5800\""
   ]
  },
  {
   "cell_type": "code",
   "execution_count": null,
   "metadata": {},
   "outputs": [],
   "source": [
    "# third party\n",
    "# run email server\n",
    "from helpers import EmailServer\n",
    "from helpers import SMTPTestServer\n",
    "\n",
    "email_server = EmailServer()\n",
    "smtp_server = SMTPTestServer(email_server)\n",
    "smtp_server.start()"
   ]
  },
  {
   "cell_type": "code",
   "execution_count": null,
   "metadata": {},
   "outputs": [],
   "source": [
    "# syft absolute\n",
    "import syft as sy"
   ]
  },
  {
   "cell_type": "code",
   "execution_count": null,
   "metadata": {},
   "outputs": [],
   "source": [
    "server = sy.orchestra.launch(\n",
    "    name=\"bigquery-high\",\n",
    "    dev_mode=True,\n",
    "    server_side_type=\"high\",\n",
    "    port=\"8080\",\n",
    "    n_consumers=1,  # How many workers to be spawned\n",
    "    create_producer=True,  # Can produce more workers\n",
    ")"
   ]
  },
  {
   "cell_type": "code",
   "execution_count": null,
   "metadata": {},
   "outputs": [],
   "source": [
    "ADMIN_EMAIL, ADMIN_PW = \"admin2@bigquery.org\", \"bqpw2\"\n",
    "high_client = sy.login(\n",
    "    url=\"http://localhost:8080\", email=ADMIN_EMAIL, password=ADMIN_PW\n",
    ")"
   ]
  },
  {
   "cell_type": "code",
   "execution_count": null,
   "metadata": {},
   "outputs": [],
   "source": [
    "# third party\n",
    "from helpers import load_users\n",
    "from job_helpers import load_jobs\n",
    "from job_helpers import save_jobs"
   ]
  },
  {
   "cell_type": "code",
   "execution_count": null,
   "metadata": {},
   "outputs": [],
   "source": [
    "users = load_users(high_client)"
   ]
  },
  {
   "cell_type": "code",
   "execution_count": null,
   "metadata": {},
   "outputs": [],
   "source": [
    "jobs = load_jobs(users, high_client)"
   ]
  },
  {
   "cell_type": "code",
   "execution_count": null,
   "metadata": {},
   "outputs": [],
   "source": [
    "# submitted_jobs = [job for job in jobs if job.is_submitted]\n",
    "reviewed_jobs = [job for job in jobs if job.admin_reviewed]\n",
    "len(reviewed_jobs)"
   ]
  },
  {
   "cell_type": "code",
   "execution_count": null,
   "metadata": {},
   "outputs": [],
   "source": [
    "# TODO: test jobs that were never approved\n",
    "# they seem to give weird errors like\n",
    "# \"You uploaded an ActionObject that is not yet in the blob storage\""
   ]
  },
  {
   "cell_type": "code",
   "execution_count": null,
   "metadata": {},
   "outputs": [],
   "source": [
    "for job in reviewed_jobs:\n",
    "    print(f\"> Checking job: {job.job_type} {job.func_name} for user {job.user_email}\")\n",
    "    api_method = job.code_method\n",
    "\n",
    "    if job.should_succeed:\n",
    "        print(\"Expecting job to succeed\")\n",
    "        j = api_method(blocking=False)\n",
    "        result = j.wait().get()\n",
    "        print(\n",
    "            \"> Got result of type\",\n",
    "            type(result),\n",
    "            \"expecting limit\",\n",
    "            job.settings[\"limit\"],\n",
    "        )\n",
    "        if hasattr(result, \"__len__\"):\n",
    "            print(\"> Result length\", len(result))\n",
    "        assert len(result) == job.settings[\"limit\"]\n",
    "        job.result_as_expected = True\n",
    "        save_jobs(jobs)\n",
    "    else:\n",
    "        print(\"Expecting job to fail\")\n",
    "        # with sy.raises(\n",
    "        #     sy.SyftException(public_message=\"*UserCodeStatus.DENIED*\"), show=True\n",
    "        # ):\n",
    "        # with sy.raises(\n",
    "        #     sy.SyftException, show=True\n",
    "        # ):\n",
    "        try:\n",
    "            j = api_method(blocking=False)\n",
    "            print(\"failed job didnt raise\", type(j))\n",
    "            job.result_as_expected = False\n",
    "        except Exception as e:\n",
    "            job.result_as_expected = True\n",
    "            print(\"failed job raised\", type(e))\n",
    "\n",
    "        save_jobs(jobs)"
   ]
  },
  {
   "cell_type": "code",
   "execution_count": null,
   "metadata": {},
   "outputs": [],
   "source": [
    "expected_jobs = [job for job in jobs if job.result_as_expected]\n",
    "len(expected_jobs)"
   ]
  },
  {
   "cell_type": "code",
   "execution_count": null,
   "metadata": {},
   "outputs": [],
   "source": [
    "# TODO fix\n",
    "print(f\"got expected_jobs: {len(expected_jobs)} == reviewed_jobs: {len(reviewed_jobs)}\")\n",
    "# assert len(reviewed_jobs) == len(expected_jobs)"
   ]
  },
  {
   "cell_type": "code",
   "execution_count": null,
   "metadata": {},
   "outputs": [],
   "source": [
    "smtp_server.stop()"
   ]
  },
  {
   "cell_type": "code",
   "execution_count": null,
   "metadata": {},
   "outputs": [],
   "source": [
    "server.land()"
   ]
  },
  {
   "cell_type": "code",
   "execution_count": null,
   "metadata": {},
   "outputs": [],
   "source": []
  }
 ],
 "metadata": {
  "kernelspec": {
   "display_name": "Python 3 (ipykernel)",
   "language": "python",
   "name": "python3"
  },
  "language_info": {
   "codemirror_mode": {
    "name": "ipython",
    "version": 3
   },
   "file_extension": ".py",
   "mimetype": "text/x-python",
   "name": "python",
   "nbconvert_exporter": "python",
   "pygments_lexer": "ipython3",
   "version": "3.12.2"
  }
 },
 "nbformat": 4,
 "nbformat_minor": 4
}

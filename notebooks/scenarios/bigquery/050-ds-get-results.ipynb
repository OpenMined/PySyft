{
 "cells": [
  {
   "cell_type": "code",
   "execution_count": null,
   "metadata": {},
   "outputs": [],
   "source": [
    "# import os\n",
    "# os.environ[\"ORCHESTRA_DEPLOYMENT_TYPE\"] = \"remote\"\n",
    "# os.environ[\"DEV_MODE\"] = \"True\"\n",
    "# os.environ[\"TEST_EXTERNAL_REGISTRY\"] = \"k3d-registry.localhost:5800\""
   ]
  },
  {
   "cell_type": "code",
   "execution_count": null,
   "metadata": {},
   "outputs": [],
   "source": [
    "import os\n",
    "\n",
    "os.environ['ORCHESTRA_DEPLOYMENT_TYPE'] = 'remote'\n",
    "os.environ['DEVSPACE_PROFILE'] = 'bigquery-scenario-tests'\n",
    "os.environ['GITHUB_CI'] = 'false'\n",
    "os.environ['SYFT_BASE_IMAGE_REGISTRY'] = 'k3d-registry.localhost:5800'\n",
    "os.environ['DATASITE_CLUSTER_NAME'] = 'test-datasite-1'\n",
    "os.environ['SERVER_URL'] = 'http://localhost'\n",
    "os.environ['SERVER_PORT'] = '9081'\n",
    "os.environ['TEST_EXTERNAL_REGISTRY'] = 'k3d-registry.localhost:5800'\n",
    "os.environ['TEST_QUERY_LIMIT_SIZE'] = '500000'\n",
    "os.environ['TRACING'] = 'False'\n",
    "os.environ['NUM_TEST_USERS'] = '5'\n",
    "os.environ['NUM_TEST_JOBS'] = '10'\n",
    "os.environ['NUM_TEST_WORKERS'] = '2'"
   ]
  },
  {
   "cell_type": "code",
   "execution_count": null,
   "metadata": {},
   "outputs": [],
   "source": [
    "# third party\n",
    "from helpers import get_email_server\n",
    "from helpers import load_users\n",
    "from job_helpers import load_jobs\n",
    "from job_helpers import save_jobs\n",
    "\n",
    "# syft absolute\n",
    "import syft as sy"
   ]
  },
  {
   "cell_type": "code",
   "execution_count": null,
   "metadata": {},
   "outputs": [],
   "source": [
    "ADMIN_EMAIL, ADMIN_PW = \"admin2@bigquery.org\", \"bqpw2\""
   ]
  },
  {
   "cell_type": "markdown",
   "metadata": {},
   "source": [
    "# Launch server & login"
   ]
  },
  {
   "cell_type": "code",
   "execution_count": null,
   "metadata": {},
   "outputs": [],
   "source": [
    "server = sy.orchestra.launch(\n",
    "    name=\"bigquery-high\",\n",
    "    dev_mode=True,\n",
    "    server_side_type=\"high\",\n",
    "    port=\"9081\",\n",
    "    n_consumers=1,  # How many workers to be spawned\n",
    "    create_producer=True,  # Can produce more workers\n",
    ")"
   ]
  },
  {
   "cell_type": "code",
   "execution_count": null,
   "metadata": {},
   "outputs": [],
   "source": [
    "high_client = sy.login(\n",
    "    url=\"http://localhost:9081\", email=ADMIN_EMAIL, password=ADMIN_PW\n",
    ")"
   ]
  },
  {
   "cell_type": "code",
   "execution_count": null,
   "metadata": {},
   "outputs": [],
   "source": [
    "email_server, smtp_server = get_email_server()"
   ]
  },
  {
   "cell_type": "markdown",
   "metadata": {},
   "source": [
    "# Download results"
   ]
  },
  {
   "cell_type": "code",
   "execution_count": null,
   "metadata": {},
   "outputs": [],
   "source": [
    "users = load_users(high_client)\n",
    "jobs = load_jobs(users, high_client)"
   ]
  },
  {
   "cell_type": "code",
   "execution_count": null,
   "metadata": {},
   "outputs": [],
   "source": [
    "# submitted_jobs = [job for job in jobs if job.is_submitted]\n",
    "reviewed_jobs = [job for job in jobs if job.admin_reviewed]\n",
    "reviewed_jobs_should_succeed = [j for j in reviewed_jobs if j.should_succeed]\n",
    "reviewed_jobs_should_fail = [j for j in reviewed_jobs if not j.should_succeed]\n",
    "\n",
    "print(\n",
    "    f\"{len(reviewed_jobs)=}, {len(reviewed_jobs_should_succeed)=}, {len(reviewed_jobs_should_fail)=}\"\n",
    ")"
   ]
  },
  {
   "cell_type": "code",
   "execution_count": null,
   "metadata": {},
   "outputs": [],
   "source": [
    "# TODO: test jobs that were never approved\n",
    "# they seem to give weird errors like\n",
    "# \"You uploaded an ActionObject that is not yet in the blob storage\""
   ]
  },
  {
   "cell_type": "code",
   "execution_count": null,
   "metadata": {},
   "outputs": [],
   "source": [
    "for job in reviewed_jobs_should_succeed:\n",
    "    print(f\"> Checking job: {job.job_type} {job.func_name} for user {job.user_email}\")\n",
    "    api_method = job.code_method\n",
    "    j = api_method(blocking=False)\n",
    "    res = j.wait()\n",
    "\n",
    "    if isinstance(res, sy.SyftError):\n",
    "        raise sy.SyftException(public_message=\"Expected success, got error\")\n",
    "\n",
    "    result = res.get()\n",
    "    job.result_as_expected = True"
   ]
  },
  {
   "cell_type": "code",
   "execution_count": null,
   "metadata": {},
   "outputs": [],
   "source": [
    "for job in reviewed_jobs_should_fail:\n",
    "    print(f\"> Checking job: {job.job_type} {job.func_name} for user {job.user_email}\")\n",
    "    api_method = job.code_method\n",
    "\n",
    "    j = api_method(blocking=False)\n",
    "    res = j.wait()\n",
    "    if isinstance(res, sy.SyftError):\n",
    "        job.result_as_expected = True\n",
    "    else:\n",
    "        raise sy.SyftException(public_message=f\"failed, job didnt raise {type(j)}\")"
   ]
  },
  {
   "cell_type": "code",
   "execution_count": null,
   "metadata": {},
   "outputs": [],
   "source": [
    "save_jobs(jobs)"
   ]
  },
  {
   "cell_type": "code",
   "execution_count": null,
   "metadata": {},
   "outputs": [],
   "source": [
    "# TODO fix\n",
    "expected_jobs = [job for job in jobs if job.result_as_expected]\n",
    "print(f\"got expected_jobs: {len(expected_jobs)} == reviewed_jobs: {len(reviewed_jobs)}\")\n",
    "assert len(reviewed_jobs) == len(expected_jobs)"
   ]
  },
  {
   "cell_type": "markdown",
   "metadata": {},
   "source": [
    "# Cleanup"
   ]
  },
  {
   "cell_type": "code",
   "execution_count": null,
   "metadata": {},
   "outputs": [],
   "source": [
    "smtp_server.stop()"
   ]
  },
  {
   "cell_type": "code",
   "execution_count": null,
   "metadata": {},
   "outputs": [],
   "source": [
    "server.land()"
   ]
  },
  {
   "cell_type": "code",
   "execution_count": null,
   "metadata": {},
   "outputs": [],
   "source": []
  }
 ],
 "metadata": {
  "language_info": {
   "codemirror_mode": {
    "name": "ipython",
    "version": 3
   },
   "file_extension": ".py",
   "mimetype": "text/x-python",
   "name": "python",
   "nbconvert_exporter": "python",
   "pygments_lexer": "ipython3",
   "version": "3.12.5"
  }
 },
 "nbformat": 4,
 "nbformat_minor": 4
}

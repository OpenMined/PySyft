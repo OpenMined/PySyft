{
 "cells": [
  {
   "cell_type": "code",
   "execution_count": 1,
   "id": "453d340a-4dac-4407-9003-3e99e8de4aca",
   "metadata": {},
   "outputs": [],
   "source": [
    "# -- creating a project\n",
    "# -- gke\n",
    "# -- artifact registry\n",
    "# -- gcs bucket\n",
    "# -- bigquery instance\n",
    "# -- service account"
   ]
  },
  {
   "cell_type": "code",
   "execution_count": null,
   "id": "78e4a96e-9981-4021-9f08-6a29342755c9",
   "metadata": {},
   "outputs": [],
   "source": []
  }
 ],
 "metadata": {
  "kernelspec": {
   "display_name": "Python 3 (ipykernel)",
   "language": "python",
   "name": "python3"
  },
  "language_info": {
   "codemirror_mode": {
    "name": "ipython",
    "version": 3
   },
   "file_extension": ".py",
   "mimetype": "text/x-python",
   "name": "python",
   "nbconvert_exporter": "python",
   "pygments_lexer": "ipython3",
   "version": "3.12.2"
  }
 },
 "nbformat": 4,
 "nbformat_minor": 5
}

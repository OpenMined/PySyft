{
 "cells": [
  {
   "cell_type": "markdown",
   "id": "9851cf92-3f98-4366-80d8-f174a44622a0",
   "metadata": {},
   "source": [
    "# Setup Nodes in GCP"
   ]
  },
  {
   "cell_type": "markdown",
   "id": "edf80756-30b2-4b08-9720-692322c355b3",
   "metadata": {},
   "source": [
    "## Overview:\n",
    "    - Creating a new Project\n",
    "    - Create a Docker Artifact Registry\n",
    "    - Create a GCS Bucket\n",
    "    - Create a BigQuery Instance\n",
    "    - Create a service Account"
   ]
  },
  {
   "cell_type": "markdown",
   "id": "9814b849-7d0e-49b6-964c-9fc7cd068b81",
   "metadata": {},
   "source": [
    "## 1 - Creating a Project"
   ]
  },
  {
   "cell_type": "markdown",
   "id": "77f65970-1ab1-4283-b0b9-1eef83754a49",
   "metadata": {},
   "source": [
    "## Requirements:\n",
    "- You must have gcloug sdk installed in your environment.\n",
    "- You must have an account in google cloud.\n",
    "- You need to have the proper permissions.\n",
    "- You need to be authenticated."
   ]
  },
  {
   "cell_type": "markdown",
   "id": "673b52c8-9f13-40f6-8fc7-7c9517c64d9d",
   "metadata": {},
   "source": [
    "## 1.1.1 Setting some env vars\n",
    "These env. variables will be used to replace arguments in the next commands."
   ]
  },
  {
   "cell_type": "code",
   "execution_count": null,
   "id": "d8564009-454d-4c79-a4a7-d7ef434286a1",
   "metadata": {},
   "outputs": [],
   "source": [
    "!export PROJECT_ID=syft-project-415005\n",
    "!export PROJECT_NUMBER=15109710916\n",
    "!export PROJECT_NAME=SyftProject\n",
    "!export BILLING_ACOUNT_ID=syft-billing-account\n",
    "!export NAMESPACE=syft"
   ]
  },
  {
   "cell_type": "markdown",
   "id": "c4dad3ef-c617-43b9-a871-158f5be29ec5",
   "metadata": {},
   "source": [
    "### 1.1 - Creating a new project using gcloud sdk"
   ]
  },
  {
   "cell_type": "code",
   "execution_count": null,
   "id": "78e4a96e-9981-4021-9f08-6a29342755c9",
   "metadata": {},
   "outputs": [],
   "source": [
    "!gcloud projects create $PROJECT_ID --name=$PROJECT_NAME"
   ]
  },
  {
   "cell_type": "markdown",
   "id": "ccfa9937-ac99-4cea-a687-8a1aa2974ad5",
   "metadata": {},
   "source": [
    "### 1.2 - Attach this project with a Billing Account"
   ]
  },
  {
   "cell_type": "code",
   "execution_count": null,
   "id": "ef18f2df-69da-4bf2-8814-3018b166c5db",
   "metadata": {},
   "outputs": [],
   "source": [
    "!gcloud beta billing projects link $PROJECT_ID --billing-account $BILLING_ACCOUNT_ID"
   ]
  },
  {
   "cell_type": "markdown",
   "id": "8a03dcc8-4ca9-466b-bb7b-94809d8ae01a",
   "metadata": {},
   "source": [
    "### 1.3 - Set the new project as a default project in your gcloud context."
   ]
  },
  {
   "cell_type": "code",
   "execution_count": null,
   "id": "44c65cdf-1c6b-411f-9b71-672ff4c18d2e",
   "metadata": {},
   "outputs": [],
   "source": [
    "!gcloud config set project $PROJECT_ID"
   ]
  },
  {
   "cell_type": "markdown",
   "id": "d762763a-e5fc-48fc-bfb7-0da850000d2d",
   "metadata": {},
   "source": [
    "## 1.4 - Install cgloud-auth plugin"
   ]
  },
  {
   "cell_type": "code",
   "execution_count": null,
   "id": "f683db48-63d9-4cdc-958b-43dc78c26c95",
   "metadata": {},
   "outputs": [],
   "source": [
    "!gcloud components install gke-gcloud-auth-plugin"
   ]
  },
  {
   "cell_type": "markdown",
   "id": "5094f982-86d5-4d08-85bd-c47eaa0d05c6",
   "metadata": {},
   "source": [
    "## 2 - Create an Artifact Regitry"
   ]
  },
  {
   "cell_type": "markdown",
   "id": "01f491ff-b31b-4c26-9ae4-623489b04f97",
   "metadata": {},
   "source": [
    "## Requirements:\n",
    "- You must meet all requirements from [Step 1](#creating-a-project).\n",
    "- You must have a project.\n",
    "- You must be using this project as your default project."
   ]
  },
  {
   "cell_type": "markdown",
   "id": "9f28751b-ffd0-4531-8cb8-d754469cc3ae",
   "metadata": {},
   "source": [
    "### 2.1 - Enable Artifact Registry in yout project."
   ]
  },
  {
   "cell_type": "code",
   "execution_count": null,
   "id": "972ca65d-a5f0-4ad0-93d2-b7e439b5a2b7",
   "metadata": {},
   "outputs": [],
   "source": [
    "!gcloud services enable artifactregistry.googleapis.com"
   ]
  },
  {
   "cell_type": "markdown",
   "id": "bc0d9fee-58b6-4f81-909c-a93b787dc423",
   "metadata": {},
   "source": [
    "### 2.2 - Create a Docker Registry"
   ]
  },
  {
   "cell_type": "code",
   "execution_count": null,
   "id": "04867abb-e185-4411-a6a1-7b26ffe35964",
   "metadata": {},
   "outputs": [],
   "source": [
    "!export LOCATION=us-central-1\n",
    "!export DESCRIPTION=\"Project Docker Image repository\"\n",
    "\n",
    "!gcloud artifacts repositories create $REPOSITORY_ID \\\n",
    "    --repository-format=docker \\\n",
    "    --location=$LOCATION \\\n",
    "    --description=$DESCRIPTION"
   ]
  },
  {
   "cell_type": "markdown",
   "id": "a678f416-0061-4a8e-a178-fbed4d372ec1",
   "metadata": {},
   "source": [
    "### 2.3 [OPTIONAL] List to check if the artifact registry was properly created "
   ]
  },
  {
   "cell_type": "code",
   "execution_count": null,
   "id": "7a0e28ed-3f1f-4ccb-9020-3b6948525c2d",
   "metadata": {},
   "outputs": [],
   "source": [
    "!gcloud artifacts repositories list"
   ]
  },
  {
   "cell_type": "markdown",
   "id": "23eba164-236f-4618-873d-6e58feed3e19",
   "metadata": {},
   "source": [
    "## 3 - Create a GCS Bucket"
   ]
  },
  {
   "cell_type": "markdown",
   "id": "eb5e67cd-58c8-43db-9e31-a4f19a47c45d",
   "metadata": {},
   "source": [
    "#### For now we're not using GCS Bucket"
   ]
  },
  {
   "cell_type": "markdown",
   "id": "6937ae97-871a-48c5-b724-5edd74ef0e54",
   "metadata": {},
   "source": [
    "## 4 - Service Account"
   ]
  },
  {
   "cell_type": "markdown",
   "id": "e5081344-a21f-4059-a760-3f9c2717ed5c",
   "metadata": {},
   "source": [
    "### 4.1 - Grant Roles"
   ]
  },
  {
   "cell_type": "raw",
   "id": "acbbb75a-ff87-4f1b-94bd-5c394711c03e",
   "metadata": {},
   "source": [
    "# Grant Push permissions for artifact registry\n",
    "!gcloud projects add-iam-policy-binding projects/$PROJECT_ID \\\n",
    "    --role=roles/artifactregistry.createOnPushWriter \\\n",
    "    --member=principal://iam.googleapis.com/projects/$PROJECT_NUMBER/locations/global/workloadIdentityPools/$PROJECT_ID.svc.id.goog/subject/ns/$NAMESPACE/sa/builder-service-account \\\n",
    "    --condition=None\n",
    "\n",
    "# Grant Admin Permissions for BigQuery\n",
    "!gcloud projects add-iam-policy-binding projects/$PROJECT_ID \\\n",
    "    --role=roles/bigquery.admin \\\n",
    "    --member=principal://iam.googleapis.com/projects/$PROJECT_NUMBER/locations/global/workloadIdentityPools/$PROJECT_ID.svc.id.goog/subject/ns/$NAMESPACE/sa/backend-service-account \\\n",
    "    --condition=None"
   ]
  }
 ],
 "metadata": {
  "kernelspec": {
   "display_name": "Python 3 (ipykernel)",
   "language": "python",
   "name": "python3"
  },
  "language_info": {
   "codemirror_mode": {
    "name": "ipython",
    "version": 3
   },
   "file_extension": ".py",
   "mimetype": "text/x-python",
   "name": "python",
   "nbconvert_exporter": "python",
   "pygments_lexer": "ipython3",
   "version": "3.12.3"
  }
 },
 "nbformat": 4,
 "nbformat_minor": 5
}

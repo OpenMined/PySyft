{
 "cells": [
  {
   "cell_type": "code",
   "execution_count": null,
   "id": "0",
   "metadata": {},
   "outputs": [],
   "source": [
    "# stdlib\n",
    "import os\n",
    "\n",
    "# os.environ[\"ORCHESTRA_DEPLOYMENT_TYPE\"] = \"remote\"\n",
    "# os.environ[\"DEV_MODE\"] = \"True\"\n",
    "# os.environ[\"TEST_EXTERNAL_REGISTRY\"] = \"k3d-registry.localhost:5800\""
   ]
  },
  {
   "cell_type": "code",
   "execution_count": null,
   "id": "1",
   "metadata": {},
   "outputs": [],
   "source": [
    "use_live_bigquery = False\n",
    "\n",
    "os.environ[\"TEST_BIGQUERY_APIS_LIVE\"] = str(use_live_bigquery)"
   ]
  },
  {
   "cell_type": "markdown",
   "id": "2",
   "metadata": {},
   "source": [
    "# Setup"
   ]
  },
  {
   "cell_type": "code",
   "execution_count": null,
   "id": "3",
   "metadata": {},
   "outputs": [],
   "source": [
    "# stdlib\n",
    "import os\n",
    "\n",
    "environment = os.environ.get(\"ORCHESTRA_DEPLOYMENT_TYPE\", \"python\")\n",
    "environment"
   ]
  },
  {
   "cell_type": "code",
   "execution_count": null,
   "id": "4",
   "metadata": {},
   "outputs": [],
   "source": [
    "# third party\n",
    "from apis import make_submit_query\n",
    "from apis import make_test_query\n",
    "from helpers import create_user\n",
    "from helpers import make_user\n",
    "\n",
    "# syft absolute\n",
    "import syft as sy\n",
    "from syft import test_settings"
   ]
  },
  {
   "cell_type": "code",
   "execution_count": null,
   "id": "5",
   "metadata": {},
   "outputs": [],
   "source": [
    "SERVER_PORT = \"8080\"\n",
    "SERVER_URL = f\"http://localhost:{SERVER_PORT}\""
   ]
  },
  {
   "cell_type": "code",
   "execution_count": null,
   "id": "6",
   "metadata": {},
   "outputs": [],
   "source": [
    "server = sy.orchestra.launch(\n",
    "    name=\"bigquery-high\",\n",
    "    dev_mode=True,\n",
    "    server_side_type=\"high\",\n",
    "    reset=True,\n",
    "    port=SERVER_PORT,\n",
    "    n_consumers=4,  # How many workers to be spawned\n",
    "    create_producer=True,  # Can produce more workers\n",
    ")"
   ]
  },
  {
   "cell_type": "code",
   "execution_count": null,
   "id": "7",
   "metadata": {},
   "outputs": [],
   "source": [
    "high_client = sy.login(\n",
    "    url=SERVER_URL, email=\"info@openmined.org\", password=\"changethis\"\n",
    ")"
   ]
  },
  {
   "cell_type": "code",
   "execution_count": null,
   "id": "8",
   "metadata": {},
   "outputs": [],
   "source": [
    "num_users = 2\n",
    "users = []\n",
    "email_disable_index = 0\n",
    "for i in range(num_users):\n",
    "    user = make_user()\n",
    "    create_user(high_client, user)\n",
    "    user.client = high_client\n",
    "    if email_disable_index == i:\n",
    "        user.email_disabled = True\n",
    "    users.append(user)"
   ]
  },
  {
   "cell_type": "code",
   "execution_count": null,
   "id": "9",
   "metadata": {},
   "outputs": [],
   "source": [
    "mock_func = make_test_query(\n",
    "    settings={\n",
    "        \"rate_limiter_enabled\": True,\n",
    "        \"calls_per_min\": 10,\n",
    "    }\n",
    ")\n",
    "\n",
    "private_func = make_test_query(\n",
    "    settings={\n",
    "        \"rate_limiter_enabled\": False,\n",
    "    }\n",
    ")\n",
    "\n",
    "new_endpoint = sy.TwinAPIEndpoint(\n",
    "    path=\"bigquery.test_query\",\n",
    "    description=\"This endpoint allows to query Bigquery storage via SQL queries.\",\n",
    "    private_function=private_func,\n",
    "    mock_function=mock_func,\n",
    "    worker_pool=\"default-pool\",\n",
    ")\n",
    "\n",
    "high_client.custom_api.add(endpoint=new_endpoint)"
   ]
  },
  {
   "cell_type": "code",
   "execution_count": null,
   "id": "10",
   "metadata": {},
   "outputs": [],
   "source": [
    "dataset_1 = test_settings.get(\"dataset_1\", default=\"dataset_1\")\n",
    "dataset_2 = test_settings.get(\"dataset_2\", default=\"dataset_2\")\n",
    "table_1 = test_settings.get(\"table_1\", default=\"table_1\")\n",
    "table_2 = test_settings.get(\"table_2\", default=\"table_2\")\n",
    "table_1_col_id = test_settings.get(\"table_1_col_id\", default=\"table_id\")\n",
    "table_1_col_score = test_settings.get(\"table_1_col_score\", default=\"colname\")\n",
    "table_2_col_id = test_settings.get(\"table_2_col_id\", default=\"table_id\")\n",
    "table_2_col_score = test_settings.get(\"table_2_col_score\", default=\"colname\")"
   ]
  },
  {
   "cell_type": "code",
   "execution_count": null,
   "id": "11",
   "metadata": {},
   "outputs": [],
   "source": [
    "submit_query_function = make_submit_query(\n",
    "    settings={},\n",
    "    worker_pool=\"default-pool\",\n",
    ")\n",
    "\n",
    "high_client.custom_api.add(endpoint=submit_query_function)"
   ]
  },
  {
   "cell_type": "markdown",
   "id": "12",
   "metadata": {},
   "source": [
    "# Create jobs"
   ]
  },
  {
   "cell_type": "code",
   "execution_count": null,
   "id": "13",
   "metadata": {},
   "outputs": [],
   "source": [
    "# third party\n",
    "from job_helpers import TestJob\n",
    "from job_helpers import create_job_functions\n",
    "from job_helpers import create_jobs\n",
    "from job_helpers import extract_code_path"
   ]
  },
  {
   "cell_type": "markdown",
   "id": "14",
   "metadata": {},
   "source": [
    "# Test queries"
   ]
  },
  {
   "cell_type": "code",
   "execution_count": null,
   "id": "15",
   "metadata": {},
   "outputs": [],
   "source": [
    "# stdlib\n",
    "from typing import Any\n",
    "\n",
    "\n",
    "def test_query(client: Any, query: str, should_succeed: bool) -> tuple:\n",
    "    if should_succeed:\n",
    "        mock_result = client.api.services.bigquery.test_query.mock(sql_query=query)\n",
    "        private_result = client.api.services.bigquery.test_query.mock(sql_query=query)\n",
    "    else:\n",
    "        try:\n",
    "            mock_result = client.api.services.bigquery.test_query.mock(sql_query=query)\n",
    "            assert False, f\"query should raise, got {mock_result}\"\n",
    "        except Exception as e:\n",
    "            mock_result = e\n",
    "\n",
    "        try:\n",
    "            private_result = client.api.services.bigquery.test_query.private(\n",
    "                sql_query=query\n",
    "            )\n",
    "            assert False, f\"query should raise, got {private_result}\"\n",
    "        except Exception as e:\n",
    "            private_result = e\n",
    "\n",
    "    return mock_result, private_result"
   ]
  },
  {
   "cell_type": "code",
   "execution_count": null,
   "id": "16",
   "metadata": {},
   "outputs": [],
   "source": [
    "# Loop through all test queries, test if they behave as expected\n",
    "\n",
    "\n",
    "results = []\n",
    "\n",
    "for fn in create_job_functions:\n",
    "    job = fn(users[0])\n",
    "\n",
    "    print(f\"Querying {job.job_type}, should succeed: {job.should_succeed}\")\n",
    "    mock_result, private_result = test_query(high_client, job.query, job.should_succeed)\n",
    "    results.append((mock_result, private_result))"
   ]
  },
  {
   "cell_type": "code",
   "execution_count": null,
   "id": "17",
   "metadata": {},
   "outputs": [],
   "source": [
    "n_per_user = 1\n",
    "\n",
    "jobs = create_jobs(users, n_per_user=n_per_user)\n",
    "\n",
    "print(f\"num jobs: {len(jobs)}\")\n",
    "for job in jobs[:2]:\n",
    "    print(f\"Job type: {job.job_type}, should succeed: {job.should_succeed}\")\n",
    "\n",
    "assert len(jobs) == len(users) * n_per_user\n",
    "assert all(isinstance(j, TestJob) for j in jobs)\n",
    "assert all(job.client is not None for job in jobs)"
   ]
  },
  {
   "cell_type": "code",
   "execution_count": null,
   "id": "18",
   "metadata": {},
   "outputs": [],
   "source": []
  },
  {
   "cell_type": "markdown",
   "id": "19",
   "metadata": {},
   "source": [
    "# Submit jobs\n"
   ]
  },
  {
   "cell_type": "code",
   "execution_count": null,
   "id": "20",
   "metadata": {},
   "outputs": [],
   "source": [
    "# stdlib\n",
    "import time\n",
    "\n",
    "responses = []\n",
    "\n",
    "for job in jobs:\n",
    "    client = job.client\n",
    "\n",
    "    if not job.should_submit:\n",
    "        # Submitting should throw error (eg func_name invalid syntax)\n",
    "        with sy.raises(sy.SyftException):\n",
    "            response = client.api.services.bigquery.submit_query(\n",
    "                func_name=job.func_name, query=job.query\n",
    "            )\n",
    "        responses.append(None)\n",
    "    else:\n",
    "        response = client.api.services.bigquery.submit_query(\n",
    "            func_name=job.func_name, query=job.query\n",
    "        )\n",
    "        job.code_path = extract_code_path(response)\n",
    "        responses.append(response)\n",
    "\n",
    "    time.sleep(1)"
   ]
  },
  {
   "cell_type": "code",
   "execution_count": null,
   "id": "21",
   "metadata": {},
   "outputs": [],
   "source": [
    "for job in jobs:\n",
    "    print(\n",
    "        f\"Job {job.func_name:.20} is submitted, {job.should_submit}, should be submitted {job.is_submitted}\"\n",
    "    )\n",
    "\n",
    "assert all(job.is_submitted == job.should_submit for job in jobs)"
   ]
  },
  {
   "cell_type": "markdown",
   "id": "22",
   "metadata": {},
   "source": [
    "## Test: cannot execute"
   ]
  },
  {
   "cell_type": "code",
   "execution_count": null,
   "id": "23",
   "metadata": {},
   "outputs": [],
   "source": [
    "submitted_jobs = [job for job in jobs if job.should_submit]\n",
    "\n",
    "assert len(submitted_jobs)  # failsafe for next tests"
   ]
  },
  {
   "cell_type": "code",
   "execution_count": null,
   "id": "24",
   "metadata": {},
   "outputs": [],
   "source": [
    "# Blocking\n",
    "\n",
    "for job in submitted_jobs:\n",
    "    execute_code_fn = getattr(job.client.code, job.code_path)\n",
    "    with sy.raises(\n",
    "        sy.SyftException(public_message=\"*Your code is waiting for approval*\")\n",
    "    ):\n",
    "        result = execute_code_fn()"
   ]
  },
  {
   "cell_type": "code",
   "execution_count": null,
   "id": "25",
   "metadata": {},
   "outputs": [],
   "source": [
    "# Nonblocking\n",
    "\n",
    "# syft absolute\n",
    "from syft.service.job.job_stash import JobStatus\n",
    "\n",
    "for job in submitted_jobs:\n",
    "    execute_code_fn = getattr(job.client.code, job.code_path)\n",
    "    result_job = execute_code_fn(blocking=False)\n",
    "    result_job.wait()\n",
    "    assert isinstance(result_job.result, sy.SyftError)\n",
    "    assert result_job.status == JobStatus.ERRORED\n",
    "    time.sleep(1)"
   ]
  },
  {
   "cell_type": "code",
   "execution_count": null,
   "id": "26",
   "metadata": {},
   "outputs": [],
   "source": []
  }
 ],
 "metadata": {
  "kernelspec": {
   "display_name": "Python 3 (ipykernel)",
   "language": "python",
   "name": "python3"
  },
  "language_info": {
   "codemirror_mode": {
    "name": "ipython",
    "version": 3
   },
   "file_extension": ".py",
   "mimetype": "text/x-python",
   "name": "python",
   "nbconvert_exporter": "python",
   "pygments_lexer": "ipython3",
   "version": "3.10.13"
  }
 },
 "nbformat": 4,
 "nbformat_minor": 5
}

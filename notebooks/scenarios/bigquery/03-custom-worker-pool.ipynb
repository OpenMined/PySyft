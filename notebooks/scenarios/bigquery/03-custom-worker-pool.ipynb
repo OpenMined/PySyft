{
 "cells": [
  {
   "cell_type": "code",
   "execution_count": null,
   "id": "0",
   "metadata": {},
   "outputs": [],
   "source": [
    "# -- configuring artifact registry\n",
    "# -- building a custom image with bigquery and pushing\n",
    "# -- adding worker pool\n",
    "# -- optional: deploying an image which is pre-built\n",
    "# -- optional: adding service account via labels\n",
    "# -- setting default worker pool to custom pool\n",
    "# -- scaling down `default-worker-pool`"
   ]
  }
 ],
 "metadata": {
  "kernelspec": {
   "display_name": "Python 3 (ipykernel)",
   "language": "python",
   "name": "python3"
  },
  "language_info": {
   "codemirror_mode": {
    "name": "ipython",
    "version": 3
   },
   "file_extension": ".py",
   "mimetype": "text/x-python",
   "name": "python",
   "nbconvert_exporter": "python",
   "pygments_lexer": "ipython3",
   "version": "3.11.5"
  }
 },
 "nbformat": 4,
 "nbformat_minor": 5
}

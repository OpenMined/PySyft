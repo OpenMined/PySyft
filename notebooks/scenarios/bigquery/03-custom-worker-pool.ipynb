{
 "cells": [
  {
   "cell_type": "markdown",
   "id": "2ec52897-5733-4b59-b199-11ea3694aa15",
   "metadata": {},
   "source": [
    "## Setting a Custom Worker Pool"
   ]
  },
  {
   "cell_type": "markdown",
   "id": "cddeaac9-7330-4709-9f82-bcd146ff41d4",
   "metadata": {},
   "source": [
    "## Config values:\n",
    "These values are provided as references; please replace them with your actual values."
   ]
  },
  {
   "cell_type": "code",
   "execution_count": null,
   "id": "c64f8207-a353-4ec3-a45e-45612541f50a",
   "metadata": {},
   "outputs": [],
   "source": [
    "NODE_URL = \"http://<node-url>\n",
    "ADMIN_EMAIL = \"info@openmined.org\"\n",
    "ADMIN_PASSWORD = \"changethis\"\n",
    "GCLOUD_PROJECT = \"syft-project-1234\"\n",
    "REGISTRY_NAME = \"syft-registry-us\"\n",
    "REGISTRY_ACCESS_NAME = \"oauth2accesstoken\"\n",
    "REGISTRY_PASSWORD = \"<registry_password>\"\n",
    "TAG = sy.__version__\n",
    "REPO = \"openmined/grid-backend\"\n",
    "\n",
    "DOCKER_TAG  = \"bigquery-worker:0.8.7\"\n",
    "WORKER_POOL_NAME = \"bigquery-pool\"\n",
    "\n",
    "\n",
    "REGISTRY_ADDRESS = f\"us-central-docker.pkg.dev/{GCLOUD_PROJECT}/{REGISTRY_NAME}\""
   ]
  },
  {
   "cell_type": "markdown",
   "id": "eef903b8-4f87-4d8e-8c3d-015a3ef1c941",
   "metadata": {},
   "source": [
    "## 1 - Node Login"
   ]
  },
  {
   "cell_type": "code",
   "execution_count": null,
   "id": "97f614ee-3b26-4ec9-9451-a73f34d95d21",
   "metadata": {},
   "outputs": [],
   "source": [
    "low_client = sy.login(url=NODE_URL, email=ADMIN_EMAIL, password=ADMIN_PASSWORD)"
   ]
  },
  {
   "cell_type": "markdown",
   "id": "6d873369-dcd8-414a-9768-2d092bf98c6a",
   "metadata": {},
   "source": [
    "## 2 - Submit Worker Dockerfile"
   ]
  },
  {
   "cell_type": "code",
   "execution_count": null,
   "id": "60db92fd-d74d-4bc6-a219-5b75e000b52f",
   "metadata": {},
   "outputs": [],
   "source": [
    "os.environ[\"ORCHESTRA_DEPLOYMENT_TYPE\"] = \"remote\"\n",
    "registry = REGISTRY_ADDRESS\n",
    "\n",
    "custom_dockerfile_str = f\"\"\"\n",
    "FROM {REGISTRY_ADDRESS}/{REPO}:{TAG}\n",
    "\n",
    "RUN uv pip install google-cloud-bigquery db-dtypes\n",
    "\n",
    "\"\"\".strip()"
   ]
  },
  {
   "cell_type": "code",
   "execution_count": null,
   "id": "26c18ba9-5f6c-474b-a494-a491cd7c370e",
   "metadata": {},
   "outputs": [],
   "source": [
    "docker_config = sy.DockerWorkerConfig(dockerfile=custom_dockerfile_str)\n",
    "submit_result = low_client.api.services.worker_image.submit(\n",
    "    worker_config=docker_config\n",
    ")\n",
    "submit_result"
   ]
  },
  {
   "cell_type": "markdown",
   "id": "58a406d0-bceb-4578-9cae-768df464eb59",
   "metadata": {},
   "source": [
    "## 3 - ADD External Artifact Registry"
   ]
  },
  {
   "cell_type": "code",
   "execution_count": null,
   "id": "ab86650e-608a-4716-bb47-a7c94f27d788",
   "metadata": {},
   "outputs": [],
   "source": [
    "dockerfile_list = low_client.images.get_all()\n",
    "\n",
    "workerimage = next(\n",
    "    (\n",
    "        image\n",
    "        for image in dockerfile_list\n",
    "        if not image.is_prebuilt and image.config.dockerfile == custom_dockerfile_str\n",
    "    ),\n",
    "    None,\n",
    ")\n",
    "\n",
    "assert isinstance(workerimage, SyftWorkerImage), str(workerimage)\n",
    "registry_add_result = low_client.api.services.image_registry.add(REGISTRY_ADDRESS)\n",
    "registry_add_result"
   ]
  },
  {
   "cell_type": "markdown",
   "id": "4271ff91-a08a-49d0-9e31-9d3d9402f952",
   "metadata": {},
   "source": [
    "## 4 - Build Worker Image using the submitted Dockerfile"
   ]
  },
  {
   "cell_type": "code",
   "execution_count": null,
   "id": "898cced2-057d-4168-880d-7e2052537af4",
   "metadata": {},
   "outputs": [],
   "source": [
    "image_registry_list = low_client.api.services.image_registry.get_all()\n",
    "image_registry_list\n",
    "\n",
    "local_registry = image_registry_list[0]\n",
    "local_registry\n",
    "\n",
    "# build with registry_uid\n",
    "docker_build_result = low_client.api.services.worker_image.build(\n",
    "    image_uid=workerimage.id,\n",
    "    tag=docker_tag,\n",
    "    registry_uid=registry_uid,\n",
    ")\n",
    "docker_build_result"
   ]
  },
  {
   "cell_type": "markdown",
   "id": "718dd1fd-4c1b-48f6-8595-5d59779ab419",
   "metadata": {},
   "source": [
    "## 5 - Push the Worker Image to the Artifact Registry"
   ]
  },
  {
   "cell_type": "code",
   "execution_count": null,
   "id": "88cd23e7-d37b-432a-973c-22eac2df5bb2",
   "metadata": {},
   "outputs": [],
   "source": [
    "image_list = low_client.images.get_all()\n",
    "workerimage = next((image for image in image_list if image.id == workerimage.id), None)\n",
    "workerimage\n",
    "\n",
    "push_result = None\n",
    "push_result = low_client.api.services.worker_image.push(\n",
    "    workerimage.id,\n",
    "    username=REGISTRY_ACCESS_NAME,\n",
    "    password=REGISTRY_PASSWORD,\n",
    ")\n",
    "push_result"
   ]
  },
  {
   "cell_type": "markdown",
   "id": "b5324354-8d83-45cf-bf16-59f2ce9f8328",
   "metadata": {},
   "source": [
    "## 6 - Create a new worker pool using the new worker image"
   ]
  },
  {
   "cell_type": "code",
   "execution_count": null,
   "id": "66e45e32-1e41-4466-8126-7dd2e062c3ec",
   "metadata": {},
   "outputs": [],
   "source": [
    "worker_pool_name = \"bigquery-pool\"\n",
    "worker_pool_res = low_client.api.services.worker_pool.launch(\n",
    "    name=worker_pool_name,\n",
    "    image_uid=workerimage.id,\n",
    "    num_workers=1,\n",
    "    reg_username=REGISTRY_ACCESS_NAME,\n",
    "    reg_password=REGISTRY_PASSWORD,\n",
    ")"
   ]
  },
  {
   "cell_type": "markdown",
   "id": "1236e759-8fde-4df8-87fe-19ee3cc61e63",
   "metadata": {},
   "source": [
    "## 7 - Set new default worker pool"
   ]
  },
  {
   "cell_type": "code",
   "execution_count": null,
   "id": "56cfbc04-92de-4b13-bfca-0bccb9802a06",
   "metadata": {},
   "outputs": [],
   "source": [
    "# Currently there's no way to set a different default worker pool"
   ]
  },
  {
   "cell_type": "markdown",
   "id": "5e01a4d0-fc16-401e-96c3-3b1b678dd45c",
   "metadata": {},
   "source": [
    "# 8 - Scale down the default-pool"
   ]
  },
  {
   "cell_type": "code",
   "execution_count": null,
   "id": "7b2d78b0-be23-498f-885c-afc0f3e3dc8d",
   "metadata": {},
   "outputs": [],
   "source": [
    "default_pool_scale_res = low_client.api.services.worker_pool.scale(\n",
    "    number=0, pool_name=\"default-pool\"\n",
    ")"
   ]
  }
 ],
 "metadata": {
  "kernelspec": {
   "display_name": "Python 3 (ipykernel)",
   "language": "python",
   "name": "python3"
  },
  "language_info": {
   "codemirror_mode": {
    "name": "ipython",
    "version": 3
   },
   "file_extension": ".py",
   "mimetype": "text/x-python",
   "name": "python",
   "nbconvert_exporter": "python",
   "pygments_lexer": "ipython3",
   "version": "3.12.3"
  }
 },
 "nbformat": 4,
 "nbformat_minor": 5
}

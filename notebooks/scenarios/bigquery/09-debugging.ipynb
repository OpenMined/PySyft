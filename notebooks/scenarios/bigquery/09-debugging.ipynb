{
 "cells": [
  {
   "cell_type": "code",
   "execution_count": 1,
   "id": "af997f01-452e-4f18-affa-d5e3f7feb87a",
   "metadata": {},
   "outputs": [],
   "source": [
    "# -- common issues and where to look\n",
    "# -- jobs, blob storage, queues, service accounts, seaweedfs, gcs\n",
    "# -- custom worker images, registry, pull permissions"
   ]
  },
  {
   "cell_type": "code",
   "execution_count": null,
   "id": "92ee79f2-07b5-4fb8-a2f4-05f006b2fabb",
   "metadata": {},
   "outputs": [],
   "source": []
  }
 ],
 "metadata": {
  "kernelspec": {
   "display_name": "Python 3 (ipykernel)",
   "language": "python",
   "name": "python3"
  },
  "language_info": {
   "codemirror_mode": {
    "name": "ipython",
    "version": 3
   },
   "file_extension": ".py",
   "mimetype": "text/x-python",
   "name": "python",
   "nbconvert_exporter": "python",
   "pygments_lexer": "ipython3",
   "version": "3.12.2"
  }
 },
 "nbformat": 4,
 "nbformat_minor": 5
}

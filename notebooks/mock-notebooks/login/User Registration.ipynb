{
 "cells": [
  {
   "cell_type": "markdown",
   "id": "26eaa82b",
   "metadata": {},
   "source": [
    "### Registering onto a domain"
   ]
  },
  {
   "cell_type": "code",
   "execution_count": 2,
   "id": "e267123c",
   "metadata": {},
   "outputs": [],
   "source": [
    "import syft as sy"
   ]
  },
  {
   "cell_type": "code",
   "execution_count": 23,
   "id": "4f989000",
   "metadata": {},
   "outputs": [
    {
     "name": "stdout",
     "output_type": "stream",
     "text": [
      "Congratulations !!! \u001b[1mShledon Cooper\u001b[0m is successfully registered to the \u001b[1mCanada Domain\u001b[0m node. Logging in....Success.\n"
     ]
    }
   ],
   "source": [
    "# Case I\n",
    "# If url to the domain is available to the end user\n",
    "# All details provided by the user are correct\n",
    "# If verbose=True\n",
    "\n",
    "domain_client = sy.register(\n",
    "    name=\"Shledon Cooper\",\n",
    "    email=\"sheldon@caltech.edu\",\n",
    "    password=\"bazinga\",\n",
    "    url=\"https://ca.openmined.org\",\n",
    "    port=8081,\n",
    "    verbose=True\n",
    ")"
   ]
  },
  {
   "cell_type": "code",
   "execution_count": 5,
   "id": "9f8ae548",
   "metadata": {},
   "outputs": [
    {
     "name": "stdout",
     "output_type": "stream",
     "text": [
      "\n",
      "\u001b[91mConnectionError:\u001b[0m    \n",
      "    Oops !!! We can't seem to find the domain you're looking for.\n",
      "    Please try the following options:\n",
      "    - Please check the `url`/`port` you entered are correct.\n",
      "    - Please contact the source where you obtained the URL.\n",
      "    - The domain node could be offline at the current moment. Please try again later.\n",
      "\n"
     ]
    }
   ],
   "source": [
    "# Case II\n",
    "# If domain URL is incorrect or \n",
    "# the domain is currently offline/unavailable\n",
    "# If verbose=True\n",
    "\n",
    "domain_client = sy.register(\n",
    "    name=\"Shledon Cooper\",\n",
    "    email=\"sheldon@caltech.edu\",\n",
    "    password=\"bazinga\",\n",
    "    url=\"https://gibberishdomainurl.com\",\n",
    "    port=80,\n",
    "    verbose=True\n",
    ")"
   ]
  },
  {
   "cell_type": "code",
   "execution_count": 24,
   "id": "1f3a2bcf",
   "metadata": {},
   "outputs": [
    {
     "name": "stdout",
     "output_type": "stream",
     "text": [
      "Please enter your full name (ex: 'Jane Doe'):Sheldon Cooper\n",
      "Please enter your email (ex: 'janedoe@openmined.com'):sheldon@caltech.edu\n",
      "Please enter your password (ex: password)········\n",
      "Please enter URL of domain (ex: 'http://localhost'):https://ca.openmined.org\n",
      "Please enter the port your domain is running on: (ex: '8081')80\n",
      "\n",
      "Congratulations !!! \u001b[1mShledon Cooper\u001b[0m is successfully registered to the \u001b[1mCanada Domain\u001b[0m node. Logging in....Success.\n"
     ]
    }
   ],
   "source": [
    "# Case III\n",
    "# If required parameters are missing from function argument or \n",
    "# `sy.register` is called with any arguments\n",
    "# If verbose=True\n",
    "\n",
    "domain_client = sy.register()"
   ]
  },
  {
   "cell_type": "code",
   "execution_count": 36,
   "id": "b7de2ceb",
   "metadata": {},
   "outputs": [
    {
     "name": "stdout",
     "output_type": "stream",
     "text": [
      "\n",
      "\u001b[91mResourceExists:\u001b[0m\n",
      "    A user with this email already exists on the \u001b[1mCanada Domain\u001b[0m node.\n",
      "    You can try logging in by:\n",
      "        \n",
      "        import syft as sy\n",
      "        sy.login(\n",
      "            url=\"https://domainurl.com\",  # Enter your domain url\n",
      "            email=\"janedoe@openmined.org\",  # Enter your email address\n",
      "            password=\"password\",  # Enter your password\n",
      "            port=8081  # Enter domain port number\n",
      "        )\n",
      "\n"
     ]
    }
   ],
   "source": [
    "# Case IV\n",
    "# User already exists with given email on the domain\n",
    "# If verbose=True\n",
    "\n",
    "domain_client = sy.register(\n",
    "    name=\"Shledon Cooper\",\n",
    "    email=\"sheldon@caltech.edu\",\n",
    "    password=\"bazinga\",\n",
    "    url=\"https://gibberishdomainurl.com\",\n",
    "    port=80,\n",
    "    verbose=True\n",
    ")"
   ]
  },
  {
   "cell_type": "code",
   "execution_count": 10,
   "id": "f7369b4d",
   "metadata": {},
   "outputs": [
    {
     "name": "stdout",
     "output_type": "stream",
     "text": [
      "\n",
      "\u001b[91mValidationError:\u001b[0m\n",
      "    Invalid email. Make sure your email is in an `name@abc.com` format\n",
      "\n"
     ]
    }
   ],
   "source": [
    "# Case V\n",
    "# User fails validation errors\n",
    "# enters an invalid email, name or password\n",
    "\n",
    "# Enters an invalid email address\n",
    "domain_client = sy.register(\n",
    "    name=\"Shledon Cooper\",\n",
    "    email=\"invalidemail.#format\",\n",
    "    password=\"bazinga\",\n",
    "    url=\"https://gibberishdomainurl.com\",\n",
    "    port=80,\n",
    "    verbose=True\n",
    ")"
   ]
  },
  {
   "cell_type": "code",
   "execution_count": 11,
   "id": "a897c925",
   "metadata": {},
   "outputs": [
    {
     "name": "stdout",
     "output_type": "stream",
     "text": [
      "\n",
      "\u001b[91mValidationError:\u001b[0m\n",
      "    Invalid name. Name cannot be an empty string.\n",
      "\n"
     ]
    }
   ],
   "source": [
    "# Set name as empty string\n",
    "domain_client = sy.register(\n",
    "    name=\"\",\n",
    "    email=\"invalidemail.#format\",\n",
    "    password=\"bazinga\",\n",
    "    url=\"https://gibberishdomainurl.com\",\n",
    "    port=80,\n",
    "    verbose=True\n",
    ")"
   ]
  },
  {
   "cell_type": "code",
   "execution_count": 13,
   "id": "90bb947b",
   "metadata": {},
   "outputs": [
    {
     "name": "stdout",
     "output_type": "stream",
     "text": [
      "\n",
      "\u001b[91mValidationError:\u001b[0m\n",
      "    Invalid password. Password cannot be an empty string.\n",
      "\n"
     ]
    }
   ],
   "source": [
    "# Set password as empty string\n",
    "domain_client = sy.register(\n",
    "    name=\"Shledon Cooper\",\n",
    "    email=\"invalidemail.#format\",\n",
    "    password=\"\",\n",
    "    url=\"https://gibberishdomainurl.com\",\n",
    "    port=80,\n",
    "    verbose=True\n",
    ")"
   ]
  },
  {
   "cell_type": "code",
   "execution_count": 25,
   "id": "c03d4eb2",
   "metadata": {},
   "outputs": [
    {
     "name": "stdout",
     "output_type": "stream",
     "text": [
      "Congratulations !!! \u001b[1mShledon Cooper\u001b[0m is successfully registered to the \u001b[1mCanada Domain\u001b[0m node. Logging in....Success.\n"
     ]
    }
   ],
   "source": [
    "# Case VI\n",
    "# If domain is part of a network (url of the domain is not known or hidden behind a vpn)\n",
    "# If verbose=True\n",
    "\n",
    "network = sy.networks[0]  # Select the network\n",
    "domain_proxy_client = network.domains[0]  # Select the domain, it returns a proxy client\n",
    "domain_client = domain_proxy_client.register(\n",
    "    name=\"Sheldon Cooper\",\n",
    "    email=\"sheldon@caltech.edu\",\n",
    "    password=\"bazinga\",\n",
    "    verbose=True\n",
    ")\n",
    "\n",
    "# NOTE: Currently, we don't support user creation at network. Once, that is in place, we can simply ask the user\n",
    "# to register to the network instead of registering them to individual domains on the network."
   ]
  },
  {
   "cell_type": "code",
   "execution_count": 26,
   "id": "cecea9a1",
   "metadata": {},
   "outputs": [
    {
     "name": "stdout",
     "output_type": "stream",
     "text": [
      "Please enter your full name (ex: 'Jane Doe'):Sheldon Cooper\n",
      "Please enter your email (ex: 'janedoe@openmined.com'):sheldon@caltech.edu\n",
      "Please enter your password (ex: password)········\n",
      "\n",
      "Congratulations !!! \u001b[1mShledon Cooper\u001b[0m is successfully registered to the \u001b[1mCanada Domain\u001b[0m node. Logging in....Success.\n"
     ]
    }
   ],
   "source": [
    "# Case VII\n",
    "# If domain is part of a network (url of the domain is not known or hidden behind a vpn)\n",
    "# No arguments are given the to `register` method\n",
    "# If verbose=True\n",
    "\n",
    "network = sy.networks[0]  # Select the network\n",
    "domain_proxy_client = network.domains[0]  # Select the domain, it returns a proxy client\n",
    "domain_client = domain_proxy_client.register()"
   ]
  },
  {
   "cell_type": "code",
   "execution_count": 33,
   "id": "5c9eec16",
   "metadata": {},
   "outputs": [
    {
     "name": "stdout",
     "output_type": "stream",
     "text": [
      "\n",
      "\u001b[91mResourceExists:\u001b[0m\n",
      "    A user with this email already exists on the \u001b[1mCanada Domain\u001b[0m node.\n",
      "    You can try logging in by:\n",
      "\n",
      "        import syft as sy\n",
      "        network = sy.networks[0]  # Select the network\n",
      "        domain_proxy_client = network.domains[0]  # Select the domain\n",
      "        domain_proxy_client.login(email=\"\", password=\"\")\n",
      "    \n"
     ]
    }
   ],
   "source": [
    "# Case VIII\n",
    "# If domain is part of a network (url of the domain is not known or hidden behind a vpn)\n",
    "# User already exists with given email on the domain\n",
    "# If verbose=True\n",
    "\n",
    "network = sy.networks[0]  # Select the network\n",
    "domain_proxy_client = network.domains[0]  # Select the domain, it returns a proxy client\n",
    "domain_client = domain_proxy_client.register(\n",
    "    name=\"Sheldon Cooper\",\n",
    "    email=\"useralreadexists@email.com\",\n",
    "    password=\"password\",\n",
    "    verbose=True\n",
    ")"
   ]
  },
  {
   "cell_type": "markdown",
   "id": "8afda35f",
   "metadata": {},
   "source": [
    "### Dummy Data"
   ]
  },
  {
   "cell_type": "code",
   "execution_count": 1,
   "id": "06d51688",
   "metadata": {},
   "outputs": [],
   "source": [
    "import pandas as pd\n",
    "from enum import Enum\n",
    "import uuid\n",
    "from getpass import getpass\n",
    "\n",
    "\n",
    "class bcolors(Enum):\n",
    "    HEADER = \"\\033[95m\"\n",
    "    OKBLUE = \"\\033[94m\"\n",
    "    OKCYAN = \"\\033[96m\"\n",
    "    OKGREEN = \"\\033[92m\"\n",
    "    WARNING = \"\\033[93m\"\n",
    "    FAIL = \"\\033[91m\"\n",
    "    ENDC = \"\\033[0m\"\n",
    "    BOLD = \"\\033[1m\"\n",
    "    UNDERLINE = \"\\033[4m\""
   ]
  },
  {
   "cell_type": "code",
   "execution_count": 2,
   "id": "1223848b",
   "metadata": {},
   "outputs": [
    {
     "name": "stdout",
     "output_type": "stream",
     "text": [
      "\u001b[91mResourceNotFound:\u001b[0m The domain url is invalid or does not exist.\n"
     ]
    }
   ],
   "source": [
    "# Successful signup message\n",
    "success_signup = f\"Congratulations !!! {bcolors.BOLD.value}Shledon Cooper{bcolors.ENDC.value} is successfully registered to the {bcolors.BOLD.value}Canada Domain{bcolors.ENDC.value} node. Logging in....Success.\"\n",
    "\n",
    "\n",
    "# Invalid domain url\n",
    "invalid_domain_url = f\"{bcolors.FAIL.value}ResourceNotFound:{bcolors.ENDC.value} The domain url is invalid or does not exist.\"\n",
    "print(invalid_domain_url)\n",
    "\n",
    "domain_is_invalid_or_offline = f\"\"\"\n",
    "{bcolors.FAIL.value}ConnectionError:{bcolors.ENDC.value}    \n",
    "    Oops !!! We can't seem to find the domain you're looking for.\n",
    "    Please try the following options:\n",
    "    - Please check the `url`/`port` you entered are correct.\n",
    "    - Please contact the source where you obtained the URL.\n",
    "    - The domain node could be offline at the current moment. Please try again later.\n",
    "\"\"\""
   ]
  },
  {
   "cell_type": "code",
   "execution_count": 4,
   "id": "3301915b",
   "metadata": {},
   "outputs": [
    {
     "name": "stdout",
     "output_type": "stream",
     "text": [
      "Please enter your full name (ex: 'Jane Doe'):\n",
      "Please enter your email (ex: 'janedoe@openmined.com'):\n",
      "Please enter your password (ex: password)········\n",
      "Please enter URL of domain (ex: 'http://localhost'):\n",
      "Please enter the port your domain is running on: (ex: '8081')1\n",
      "\n",
      "Congratulations !!! \u001b[1mShledon Cooper\u001b[0m is successfully registered to the \u001b[1mCanada Domain\u001b[0m node. Logging in....Success.\n"
     ]
    }
   ],
   "source": [
    "# If arguments are not passed to the register method\n",
    "name = input(\"Please enter your full name (ex: 'Jane Doe'):\")\n",
    "email = input(\"Please enter your email (ex: 'janedoe@openmined.com'):\")\n",
    "password = getpass(\"Please enter your password (ex: password)\")\n",
    "url = input(\"Please enter URL of domain (ex: 'http://localhost'):\")\n",
    "port = int(input(\"Please enter the port your domain is running on: (ex: '8081')\"))\n",
    "print()\n",
    "print(success_signup)"
   ]
  },
  {
   "cell_type": "code",
   "execution_count": 20,
   "id": "78596f8f",
   "metadata": {},
   "outputs": [],
   "source": [
    "user_exists = f\"\"\"\n",
    "{bcolors.FAIL.value}ResourceExists:{bcolors.ENDC.value}\n",
    "    A user with this email already exists on the {bcolors.BOLD.value}Canada Domain{bcolors.ENDC.value} node.\n",
    "    You can try logging in by: `syft.login`\"\"\""
   ]
  },
  {
   "cell_type": "code",
   "execution_count": 35,
   "id": "03198ac2",
   "metadata": {},
   "outputs": [],
   "source": [
    "user_exists = f\"\"\"\n",
    "{bcolors.FAIL.value}ResourceExists:{bcolors.ENDC.value}\n",
    "    A user with this email already exists on the {bcolors.BOLD.value}Canada Domain{bcolors.ENDC.value} node.\n",
    "    You can try logging in by:\n",
    "        \n",
    "        import syft as sy\n",
    "        sy.login(\n",
    "            url=\"https://domainurl.com\",  # Enter your domain url\n",
    "            email=\"janedoe@openmined.org\",  # Enter your email address\n",
    "            password=\"password\",  # Enter your password\n",
    "            port=8081  # Enter domain port number\n",
    "        )\n",
    "\"\"\""
   ]
  },
  {
   "cell_type": "code",
   "execution_count": 5,
   "id": "eeb0da57",
   "metadata": {},
   "outputs": [
    {
     "name": "stdout",
     "output_type": "stream",
     "text": [
      "\n",
      "\u001b[91mResourceExists:\u001b[0m\n",
      "    A user with this email already exists on the \u001b[1mCanada Domain\u001b[0m node.\n",
      "    You can try logging in by:\n",
      "\n",
      "        import syft as sy\n",
      "        network = sy.networks[0]  # Select the network\n",
      "        domain_proxy_client = network.domains[0]  # Select the domain\n",
      "        domain_proxy_client.login(email=\"\", password=\"\")\n",
      "    \n"
     ]
    }
   ],
   "source": [
    "user_exists_on_proxy = f\"\"\"\n",
    "{bcolors.FAIL.value}ResourceExists:{bcolors.ENDC.value}\n",
    "    A user with this email already exists on the {bcolors.BOLD.value}Canada Domain{bcolors.ENDC.value} node.\n",
    "    You can try logging in by:\n",
    "\n",
    "        import syft as sy\n",
    "        network = sy.networks[0]  # Select the network\n",
    "        domain_proxy_client = network.domains[0]  # Select the domain\n",
    "        domain_proxy_client.login(email=\"\", password=\"\")\n",
    "    \"\"\"\n",
    "print(user_exists_on_proxy)"
   ]
  },
  {
   "cell_type": "code",
   "execution_count": 6,
   "id": "c984513b",
   "metadata": {},
   "outputs": [],
   "source": [
    "domain_is_offline = f\"\"\"\n",
    "{bcolors.FAIL.value}ConnectionError:{bcolors.ENDC.value}\n",
    "    The {bcolors.BOLD.value}Canada Domain{bcolors.ENDC.value} node seems to be offline at the current moment.\n",
    "    Please contact {bcolors.BOLD.value}support@openmined.org{bcolors.ENDC.value} for further assistance.\n",
    "\"\"\""
   ]
  },
  {
   "cell_type": "code",
   "execution_count": 7,
   "id": "c144ab42",
   "metadata": {},
   "outputs": [
    {
     "name": "stdout",
     "output_type": "stream",
     "text": [
      "Congratulations !!! \u001b[1mShledon Cooper\u001b[0m is successfully registered to the \u001b[1mCanada Domain\u001b[0m node. Logging in....Success.\n"
     ]
    }
   ],
   "source": [
    "print(success_signup)"
   ]
  },
  {
   "cell_type": "code",
   "execution_count": 8,
   "id": "a6e54433",
   "metadata": {},
   "outputs": [],
   "source": [
    "invalid_name_error = f\"\"\"\n",
    "{bcolors.FAIL.value}ValidationError:{bcolors.ENDC.value}\n",
    "    Invalid name. Name cannot be an empty string.\n",
    "\"\"\""
   ]
  },
  {
   "cell_type": "code",
   "execution_count": 9,
   "id": "a860c090",
   "metadata": {},
   "outputs": [],
   "source": [
    "invalid_email_error = f\"\"\"\n",
    "{bcolors.FAIL.value}ValidationError:{bcolors.ENDC.value}\n",
    "    Invalid email. Make sure your email is in an `name@abc.com` format\n",
    "\"\"\""
   ]
  },
  {
   "cell_type": "code",
   "execution_count": 12,
   "id": "f7f4d1df",
   "metadata": {},
   "outputs": [],
   "source": [
    "invalid_password_error = f\"\"\"\n",
    "{bcolors.FAIL.value}ValidationError:{bcolors.ENDC.value}\n",
    "    Invalid password. Password cannot be an empty string.\n",
    "\"\"\""
   ]
  },
  {
   "cell_type": "code",
   "execution_count": null,
   "id": "0c8d378f",
   "metadata": {},
   "outputs": [],
   "source": []
  }
 ],
 "metadata": {
  "kernelspec": {
   "display_name": "Python 3 (ipykernel)",
   "language": "python",
   "name": "python3"
  },
  "language_info": {
   "codemirror_mode": {
    "name": "ipython",
    "version": 3
   },
   "file_extension": ".py",
   "mimetype": "text/x-python",
   "name": "python",
   "nbconvert_exporter": "python",
   "pygments_lexer": "ipython3",
   "version": "3.9.7"
  }
 },
 "nbformat": 4,
 "nbformat_minor": 5
}

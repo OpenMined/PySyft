{
 "cells": [
  {
   "attachments": {},
   "cell_type": "markdown",
   "metadata": {},
   "source": [
    "# Jax Level 0 Data Owner Experience - Chapter 9 - Getting started with Jax MLPs, CNNs, and RNNs\n",
    "\n",
    "Link to the original blog post by Robert Tjarko Lange: https://roberttlange.com/posts/2020/03/blog-post-10/"
   ]
  },
  {
   "attachments": {},
   "cell_type": "markdown",
   "metadata": {},
   "source": [
    "## Part 0 - Initial Setup"
   ]
  },
  {
   "cell_type": "code",
   "execution_count": 1,
   "metadata": {},
   "outputs": [
    {
     "name": "stderr",
     "output_type": "stream",
     "text": [
      "kj/filesystem-disk-unix.c++:1703: warning: PWD environment variable doesn't match current directory; pwd = /\n"
     ]
    },
    {
     "name": "stdout",
     "output_type": "stream",
     "text": [
      "✅ The installed version of syft==0.8.1b1 matches the requirement >=0.8b0\n"
     ]
    }
   ],
   "source": [
    "# Import the necessary libraries\n",
    "import syft as sy\n",
    "sy.requires(\">=0.8-beta\")\n",
    "import jax\n",
    "import jax.numpy as jnp\n",
    "import numpy as np"
   ]
  },
  {
   "cell_type": "code",
   "execution_count": 2,
   "metadata": {},
   "outputs": [
    {
     "name": "stdout",
     "output_type": "stream",
     "text": [
      "SQLite Store Path:\n",
      "!open file:///var/folders/sz/hkfsnn612hq56r7cs5rd540r0000gn/T/7bca415d13ed1ec841f0d0aede098dbb.sqlite\n",
      "\n"
     ]
    }
   ],
   "source": [
    "# Launch the domain\n",
    "node = sy.orchestra.launch(name=\"test-domain-1\", reset=True)\n",
    "domain_client = node.login(email=\"info@openmined.org\", password=\"changethis\")"
   ]
  },
  {
   "cell_type": "code",
   "execution_count": null,
   "metadata": {},
   "outputs": [],
   "source": [
    "# TODO: upload the MNIST dataset"
   ]
  },
  {
   "attachments": {},
   "cell_type": "markdown",
   "metadata": {},
   "source": [
    "### Go to the Data Scientist Notebook for Part 1!"
   ]
  },
  {
   "attachments": {},
   "cell_type": "markdown",
   "metadata": {},
   "source": [
    "## Part 2 - Reviewing and Approving requests"
   ]
  },
  {
   "cell_type": "code",
   "execution_count": 46,
   "metadata": {},
   "outputs": [
    {
     "data": {
      "text/html": [
       "List - Size: 5\n",
       "<div>\n",
       "<style scoped>\n",
       "    .dataframe tbody tr th:only-of-type {\n",
       "        vertical-align: middle;\n",
       "    }\n",
       "\n",
       "    .dataframe tbody tr th {\n",
       "        vertical-align: top;\n",
       "    }\n",
       "\n",
       "    .dataframe thead th {\n",
       "        text-align: right;\n",
       "    }\n",
       "</style>\n",
       "<table border=\"1\" class=\"dataframe\">\n",
       "  <thead>\n",
       "    <tr style=\"text-align: right;\">\n",
       "      <th></th>\n",
       "      <th>type</th>\n",
       "      <th>id</th>\n",
       "      <th>subject</th>\n",
       "      <th>status</th>\n",
       "      <th>created_at</th>\n",
       "      <th>linked_obj</th>\n",
       "    </tr>\n",
       "  </thead>\n",
       "  <tbody>\n",
       "    <tr>\n",
       "      <th>0</th>\n",
       "      <td>syft.service.message.messages.Message</td>\n",
       "      <td>011c79bc56e640e197dfdb66d4ff4404</td>\n",
       "      <td>Approval Request</td>\n",
       "      <td>MessageStatus.UNDELIVERED</td>\n",
       "      <td>2023-05-11 09:38:41</td>\n",
       "      <td>&lt;&lt;class 'syft.service.request.request.Request'...</td>\n",
       "    </tr>\n",
       "    <tr>\n",
       "      <th>1</th>\n",
       "      <td>syft.service.message.messages.Message</td>\n",
       "      <td>de442f39e3794e89bf8ac3489259825d</td>\n",
       "      <td>Approval Request</td>\n",
       "      <td>MessageStatus.UNDELIVERED</td>\n",
       "      <td>2023-05-11 09:37:43</td>\n",
       "      <td>&lt;&lt;class 'syft.service.request.request.Request'...</td>\n",
       "    </tr>\n",
       "    <tr>\n",
       "      <th>2</th>\n",
       "      <td>syft.service.message.messages.Message</td>\n",
       "      <td>7ac4215c3a5b485881dff2b18490ad43</td>\n",
       "      <td>Approval Request</td>\n",
       "      <td>MessageStatus.UNDELIVERED</td>\n",
       "      <td>2023-05-11 09:37:13</td>\n",
       "      <td>&lt;&lt;class 'syft.service.request.request.Request'...</td>\n",
       "    </tr>\n",
       "    <tr>\n",
       "      <th>3</th>\n",
       "      <td>syft.service.message.messages.Message</td>\n",
       "      <td>991252a7c7024e6fad60c9c1102962a5</td>\n",
       "      <td>Approval Request</td>\n",
       "      <td>MessageStatus.UNDELIVERED</td>\n",
       "      <td>2023-05-11 09:47:05</td>\n",
       "      <td>&lt;&lt;class 'syft.service.request.request.Request'...</td>\n",
       "    </tr>\n",
       "    <tr>\n",
       "      <th>4</th>\n",
       "      <td>syft.service.message.messages.Message</td>\n",
       "      <td>4f0edcfa7bb34eb1b54cdc234413db8c</td>\n",
       "      <td>Approval Request</td>\n",
       "      <td>MessageStatus.UNDELIVERED</td>\n",
       "      <td>2023-05-11 09:51:10</td>\n",
       "      <td>&lt;&lt;class 'syft.service.request.request.Request'...</td>\n",
       "    </tr>\n",
       "  </tbody>\n",
       "</table>\n",
       "</div>"
      ],
      "text/plain": [
       "[syft.service.message.messages.Message,\n",
       " syft.service.message.messages.Message,\n",
       " syft.service.message.messages.Message,\n",
       " syft.service.message.messages.Message,\n",
       " syft.service.message.messages.Message]"
      ]
     },
     "execution_count": 46,
     "metadata": {},
     "output_type": "execute_result"
    }
   ],
   "source": [
    "# Get messages from domain\n",
    "messages = domain_client.api.services.messages.get_all()\n",
    "messages"
   ]
  },
  {
   "attachments": {},
   "cell_type": "markdown",
   "metadata": {},
   "source": [
    "NOTE: new code exeecution requests are inserted to the list of messages instead of appending.\n",
    "As a result the indices of the old messages change which might be confusing for the user.\n",
    "Perhaps messages could be sorted by creation timestamp?"
   ]
  },
  {
   "cell_type": "code",
   "execution_count": 4,
   "metadata": {},
   "outputs": [],
   "source": [
    "def review_request(index: int):\n",
    "    request = messages[index].link\n",
    "    func = request.changes[0].link\n",
    "    func_name = func.service_func_name\n",
    "    print(func_name)\n",
    "    print(func.raw_code)\n",
    "\n",
    "def run_submitted_function(index: int):\n",
    "    request = messages[index].link\n",
    "    func = request.changes[0].link\n",
    "    user_func = func.unsafe_function\n",
    "    real_result = user_func()\n",
    "    print(real_result)\n",
    "    return real_result\n",
    "\n",
    "def accept_request(index: int, real_result: any):\n",
    "    request = messages[index].link\n",
    "    request.approve()\n",
    "    result = request.accept_by_depositing_result(real_result)\n",
    "    print(result)"
   ]
  },
  {
   "cell_type": "code",
   "execution_count": 14,
   "metadata": {},
   "outputs": [
    {
     "name": "stdout",
     "output_type": "stream",
     "text": [
      "func_grad\n",
      "@sy.syft_function(input_policy=sy.ExactMatch(dummy=ptr),\n",
      "                  output_policy=sy.SingleExecutionExactOutput())\n",
      "def func_grad(dummy):\n",
      "    # Note: using different naming conventions for numpy and jax\n",
      "    # compared to the original blog post, i.e. onp => np, np => jnp.\n",
      "    import numpy as np\n",
      "    import jax.numpy as jnp\n",
      "    from jax import random, jit, grad\n",
      "\n",
      "    # NOTE: using the same ReLU function as in the previous example\n",
      "    def ReLU(x):\n",
      "        \"\"\" Rectified Linear Unit (ReLU) activation function \"\"\"\n",
      "        return jnp.maximum(0, x)\n",
      "    \n",
      "    def FiniteDiffGrad(x):\n",
      "        \"\"\" Compute the finite difference derivative approx for the ReLU\"\"\"\n",
      "        return np.array((ReLU(x + 1e-3) - ReLU(x - 1e-3)) / (2 * 1e-3))\n",
      "    \n",
      "    # NOTE: generating the random matrix again.\n",
      "    # Any way to share code between syft.functions?\n",
      "    key = random.PRNGKey(1)\n",
      "    x = random.uniform(key, (1000, 1000))\n",
      "\n",
      "    # Compare the Jax gradient with a finite difference approximation\n",
      "    print(\"Jax Grad: \", jit(grad(jit(ReLU)))(2.))\n",
      "    print(\"FD Gradient:\", FiniteDiffGrad(2.))\n",
      "\n"
     ]
    }
   ],
   "source": [
    "review_request(0)\n"
   ]
  },
  {
   "cell_type": "code",
   "execution_count": 18,
   "metadata": {},
   "outputs": [
    {
     "name": "stdout",
     "output_type": "stream",
     "text": [
      "WARNING: This code was submitted by a User and could be UNSAFE.\n",
      "\n"
     ]
    }
   ],
   "source": [
    "result = run_submitted_function(0)\n"
   ]
  },
  {
   "cell_type": "code",
   "execution_count": 19,
   "metadata": {},
   "outputs": [
    {
     "name": "stdout",
     "output_type": "stream",
     "text": [
      "message='Request 4fa6610a7a034987b40fb0e664830e39 changes applied'\n"
     ]
    }
   ],
   "source": [
    "accept_request(0, result)"
   ]
  },
  {
   "cell_type": "code",
   "execution_count": null,
   "metadata": {},
   "outputs": [],
   "source": [
    "# Repeat for all the remaining requests\n",
    "# review_request(1)\n",
    "# result = run_submitted_function(1)\n",
    "# accept_request(1, result)"
   ]
  },
  {
   "attachments": {},
   "cell_type": "markdown",
   "metadata": {},
   "source": [
    "### Go to the Data Scientist Notebook for Part 3!"
   ]
  },
  {
   "attachments": {},
   "cell_type": "markdown",
   "metadata": {},
   "source": []
  }
 ],
 "metadata": {
  "kernelspec": {
   "display_name": "syft",
   "language": "python",
   "name": "python3"
  },
  "language_info": {
   "codemirror_mode": {
    "name": "ipython",
    "version": 3
   },
   "file_extension": ".py",
   "mimetype": "text/x-python",
   "name": "python",
   "nbconvert_exporter": "python",
   "pygments_lexer": "ipython3",
   "version": "3.10.4"
  },
  "orig_nbformat": 4
 },
 "nbformat": 4,
 "nbformat_minor": 2
}

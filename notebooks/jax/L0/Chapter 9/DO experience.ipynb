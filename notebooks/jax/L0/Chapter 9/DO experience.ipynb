{
 "cells": [
  {
   "attachments": {},
   "cell_type": "markdown",
   "metadata": {},
   "source": [
    "# Jax Level 0 Data Owner Experience - Chapter 9 - Getting started with Jax MLPs, CNNs, and RNNs\n",
    "\n",
    "Link to the original blog post by Robert Tjarko Lange: https://roberttlange.com/posts/2020/03/blog-post-10/"
   ]
  },
  {
   "attachments": {},
   "cell_type": "markdown",
   "metadata": {},
   "source": [
    "## Part 0 - Initial Setup"
   ]
  },
  {
   "cell_type": "code",
   "execution_count": 8,
   "metadata": {},
   "outputs": [
    {
     "name": "stdout",
     "output_type": "stream",
     "text": [
      "✅ The installed version of syft==0.8.1b3 matches the requirement >=0.8b0\n"
     ]
    }
   ],
   "source": [
    "# Import the necessary libraries\n",
    "import syft as sy\n",
    "sy.requires(\">=0.8-beta\")\n",
    "import jax\n",
    "import jax.numpy as jnp\n",
    "import numpy as np"
   ]
  },
  {
   "cell_type": "code",
   "execution_count": 9,
   "metadata": {},
   "outputs": [
    {
     "name": "stdout",
     "output_type": "stream",
     "text": [
      "SQLite Store Path:\n",
      "!open file:///var/folders/sz/hkfsnn612hq56r7cs5rd540r0000gn/T/7bca415d13ed4ec881f0d0aede098dbb.sqlite\n",
      "\n"
     ]
    }
   ],
   "source": [
    "# Launch the domain\n",
    "node = sy.orchestra.launch(name=\"test-domain-1\", reset=True)\n",
    "domain_client = node.login(email=\"info@openmined.org\", password=\"changethis\")"
   ]
  },
  {
   "cell_type": "code",
   "execution_count": 10,
   "metadata": {},
   "outputs": [
    {
     "name": "stdout",
     "output_type": "stream",
     "text": [
      "Requirement already satisfied: torchvision in /Users/antti/.pyenv/versions/3.10.4/envs/jax_1_chapter_9/lib/python3.10/site-packages (0.15.2)\n",
      "Requirement already satisfied: requests in /Users/antti/.pyenv/versions/3.10.4/envs/jax_1_chapter_9/lib/python3.10/site-packages (from torchvision) (2.29.0)\n",
      "Requirement already satisfied: pillow!=8.3.*,>=5.3.0 in /Users/antti/.pyenv/versions/3.10.4/envs/jax_1_chapter_9/lib/python3.10/site-packages (from torchvision) (9.5.0)\n",
      "Requirement already satisfied: numpy in /Users/antti/.pyenv/versions/3.10.4/envs/jax_1_chapter_9/lib/python3.10/site-packages (from torchvision) (1.24.3)\n",
      "Requirement already satisfied: torch==2.0.1 in /Users/antti/.pyenv/versions/3.10.4/envs/jax_1_chapter_9/lib/python3.10/site-packages (from torchvision) (2.0.1)\n",
      "Requirement already satisfied: jinja2 in /Users/antti/.pyenv/versions/3.10.4/envs/jax_1_chapter_9/lib/python3.10/site-packages (from torch==2.0.1->torchvision) (3.1.2)\n",
      "Requirement already satisfied: sympy in /Users/antti/.pyenv/versions/3.10.4/envs/jax_1_chapter_9/lib/python3.10/site-packages (from torch==2.0.1->torchvision) (1.12)\n",
      "Requirement already satisfied: typing-extensions in /Users/antti/.pyenv/versions/3.10.4/envs/jax_1_chapter_9/lib/python3.10/site-packages (from torch==2.0.1->torchvision) (4.5.0)\n",
      "Requirement already satisfied: filelock in /Users/antti/.pyenv/versions/3.10.4/envs/jax_1_chapter_9/lib/python3.10/site-packages (from torch==2.0.1->torchvision) (3.12.0)\n",
      "Requirement already satisfied: networkx in /Users/antti/.pyenv/versions/3.10.4/envs/jax_1_chapter_9/lib/python3.10/site-packages (from torch==2.0.1->torchvision) (2.8)\n",
      "Requirement already satisfied: charset-normalizer<4,>=2 in /Users/antti/.pyenv/versions/3.10.4/envs/jax_1_chapter_9/lib/python3.10/site-packages (from requests->torchvision) (3.1.0)\n",
      "Requirement already satisfied: urllib3<1.27,>=1.21.1 in /Users/antti/.pyenv/versions/3.10.4/envs/jax_1_chapter_9/lib/python3.10/site-packages (from requests->torchvision) (1.26.16)\n",
      "Requirement already satisfied: certifi>=2017.4.17 in /Users/antti/.pyenv/versions/3.10.4/envs/jax_1_chapter_9/lib/python3.10/site-packages (from requests->torchvision) (2023.5.7)\n",
      "Requirement already satisfied: idna<4,>=2.5 in /Users/antti/.pyenv/versions/3.10.4/envs/jax_1_chapter_9/lib/python3.10/site-packages (from requests->torchvision) (3.4)\n",
      "Requirement already satisfied: MarkupSafe>=2.0 in /Users/antti/.pyenv/versions/3.10.4/envs/jax_1_chapter_9/lib/python3.10/site-packages (from jinja2->torch==2.0.1->torchvision) (2.1.2)\n",
      "Requirement already satisfied: mpmath>=0.19 in /Users/antti/.pyenv/versions/3.10.4/envs/jax_1_chapter_9/lib/python3.10/site-packages (from sympy->torch==2.0.1->torchvision) (1.3.0)\n",
      "\u001b[33mWARNING: You are using pip version 22.0.4; however, version 23.1.2 is available.\n",
      "You should consider upgrading via the '/Users/antti/.pyenv/versions/3.10.4/envs/jax_1_chapter_9/bin/python3.10 -m pip install --upgrade pip' command.\u001b[0m\u001b[33m\n",
      "\u001b[0m"
     ]
    }
   ],
   "source": [
    "!pip install torchvision"
   ]
  },
  {
   "cell_type": "code",
   "execution_count": 12,
   "metadata": {},
   "outputs": [],
   "source": [
    "from torchvision import datasets, transforms\n",
    "\n",
    "mnist_transform = transforms.Compose([\n",
    "    transforms.ToTensor(),\n",
    "    transforms.Normalize((0.1307,), (0.3081,))\n",
    "])\n",
    "train_dataset = datasets.MNIST('../data', train=True, download=True, transform=mnist_transform)\n",
    "test_dataset = datasets.MNIST('../data', train=False, transform=mnist_transform)\n",
    "\n",
    "train_data = train_dataset.data.numpy()\n",
    "test_data = test_dataset.data.numpy()\n",
    "\n",
    "train_labels = train_dataset.targets.numpy()\n",
    "test_labels = test_dataset.targets.numpy()"
   ]
  },
  {
   "cell_type": "code",
   "execution_count": 13,
   "metadata": {},
   "outputs": [],
   "source": [
    "mnist_ds = sy.Dataset(name=\"mnist\")\n",
    "\n",
    "split_idx = int(len(train_data) * 0.5)\n",
    "train_images = sy.Asset(name=\"train images\", data=train_data[:split_idx], mock=train_data[split_idx:])\n",
    "train_labels = sy.Asset(name=\"train labels\", data=train_labels[:split_idx], mock=train_labels[split_idx:])\n",
    "\n",
    "split_idx = int(len(test_data) * 0.5)\n",
    "test_images = sy.Asset(name=\"test images\", data=test_data[:split_idx], mock=test_data[split_idx:])\n",
    "test_labels = sy.Asset(name=\"test labels\", data=test_labels[:split_idx], mock=test_labels[split_idx:])\n",
    "\n",
    "mnist_ds.add_asset(train_images)\n",
    "mnist_ds.add_asset(test_images)\n",
    "mnist_ds.add_asset(train_labels)\n",
    "mnist_ds.add_asset(test_labels)\n"
   ]
  },
  {
   "cell_type": "code",
   "execution_count": 14,
   "metadata": {},
   "outputs": [
    {
     "name": "stderr",
     "output_type": "stream",
     "text": [
      "  0%|          | 0/4 [00:00<?, ?it/s]"
     ]
    },
    {
     "name": "stdout",
     "output_type": "stream",
     "text": [
      "Uploading: train images\n"
     ]
    },
    {
     "name": "stderr",
     "output_type": "stream",
     "text": [
      " 25%|██▌       | 1/4 [00:01<00:05,  1.89s/it]"
     ]
    },
    {
     "name": "stdout",
     "output_type": "stream",
     "text": [
      "Uploading: test images\n"
     ]
    },
    {
     "name": "stderr",
     "output_type": "stream",
     "text": [
      "100%|██████████| 4/4 [00:02<00:00,  1.73it/s]\n"
     ]
    },
    {
     "name": "stdout",
     "output_type": "stream",
     "text": [
      "Uploading: train labels\n",
      "Uploading: test labels\n"
     ]
    },
    {
     "data": {
      "text/html": [
       "<div class=\"alert-success\" style=\"padding:5px;\"><strong>SyftSuccess</strong>: Dataset Added</div><br />"
      ],
      "text/plain": [
       "<class 'syft.service.response.SyftSuccess'>: Dataset Added"
      ]
     },
     "execution_count": 14,
     "metadata": {},
     "output_type": "execute_result"
    }
   ],
   "source": [
    "domain_client.upload_dataset(mnist_ds)"
   ]
  },
  {
   "cell_type": "code",
   "execution_count": null,
   "metadata": {},
   "outputs": [],
   "source": []
  },
  {
   "attachments": {},
   "cell_type": "markdown",
   "metadata": {},
   "source": [
    "### Go to the Data Scientist Notebook for Part 1!"
   ]
  },
  {
   "attachments": {},
   "cell_type": "markdown",
   "metadata": {},
   "source": [
    "## Part 2 - Reviewing and Approving requests"
   ]
  },
  {
   "cell_type": "code",
   "execution_count": 46,
   "metadata": {},
   "outputs": [
    {
     "data": {
      "text/html": [
       "List - Size: 5\n",
       "<div>\n",
       "<style scoped>\n",
       "    .dataframe tbody tr th:only-of-type {\n",
       "        vertical-align: middle;\n",
       "    }\n",
       "\n",
       "    .dataframe tbody tr th {\n",
       "        vertical-align: top;\n",
       "    }\n",
       "\n",
       "    .dataframe thead th {\n",
       "        text-align: right;\n",
       "    }\n",
       "</style>\n",
       "<table border=\"1\" class=\"dataframe\">\n",
       "  <thead>\n",
       "    <tr style=\"text-align: right;\">\n",
       "      <th></th>\n",
       "      <th>type</th>\n",
       "      <th>id</th>\n",
       "      <th>subject</th>\n",
       "      <th>status</th>\n",
       "      <th>created_at</th>\n",
       "      <th>linked_obj</th>\n",
       "    </tr>\n",
       "  </thead>\n",
       "  <tbody>\n",
       "    <tr>\n",
       "      <th>0</th>\n",
       "      <td>syft.service.message.messages.Message</td>\n",
       "      <td>011c79bc56e640e197dfdb66d4ff4404</td>\n",
       "      <td>Approval Request</td>\n",
       "      <td>MessageStatus.UNDELIVERED</td>\n",
       "      <td>2023-05-11 09:38:41</td>\n",
       "      <td>&lt;&lt;class 'syft.service.request.request.Request'...</td>\n",
       "    </tr>\n",
       "    <tr>\n",
       "      <th>1</th>\n",
       "      <td>syft.service.message.messages.Message</td>\n",
       "      <td>de442f39e3794e89bf8ac3489259825d</td>\n",
       "      <td>Approval Request</td>\n",
       "      <td>MessageStatus.UNDELIVERED</td>\n",
       "      <td>2023-05-11 09:37:43</td>\n",
       "      <td>&lt;&lt;class 'syft.service.request.request.Request'...</td>\n",
       "    </tr>\n",
       "    <tr>\n",
       "      <th>2</th>\n",
       "      <td>syft.service.message.messages.Message</td>\n",
       "      <td>7ac4215c3a5b485881dff2b18490ad43</td>\n",
       "      <td>Approval Request</td>\n",
       "      <td>MessageStatus.UNDELIVERED</td>\n",
       "      <td>2023-05-11 09:37:13</td>\n",
       "      <td>&lt;&lt;class 'syft.service.request.request.Request'...</td>\n",
       "    </tr>\n",
       "    <tr>\n",
       "      <th>3</th>\n",
       "      <td>syft.service.message.messages.Message</td>\n",
       "      <td>991252a7c7024e6fad60c9c1102962a5</td>\n",
       "      <td>Approval Request</td>\n",
       "      <td>MessageStatus.UNDELIVERED</td>\n",
       "      <td>2023-05-11 09:47:05</td>\n",
       "      <td>&lt;&lt;class 'syft.service.request.request.Request'...</td>\n",
       "    </tr>\n",
       "    <tr>\n",
       "      <th>4</th>\n",
       "      <td>syft.service.message.messages.Message</td>\n",
       "      <td>4f0edcfa7bb34eb1b54cdc234413db8c</td>\n",
       "      <td>Approval Request</td>\n",
       "      <td>MessageStatus.UNDELIVERED</td>\n",
       "      <td>2023-05-11 09:51:10</td>\n",
       "      <td>&lt;&lt;class 'syft.service.request.request.Request'...</td>\n",
       "    </tr>\n",
       "  </tbody>\n",
       "</table>\n",
       "</div>"
      ],
      "text/plain": [
       "[syft.service.message.messages.Message,\n",
       " syft.service.message.messages.Message,\n",
       " syft.service.message.messages.Message,\n",
       " syft.service.message.messages.Message,\n",
       " syft.service.message.messages.Message]"
      ]
     },
     "execution_count": 46,
     "metadata": {},
     "output_type": "execute_result"
    }
   ],
   "source": [
    "# Get messages from domain\n",
    "messages = domain_client.api.services.messages.get_all()\n",
    "messages"
   ]
  },
  {
   "attachments": {},
   "cell_type": "markdown",
   "metadata": {},
   "source": [
    "NOTE: new code exeecution requests are inserted to the list of messages instead of appending.\n",
    "As a result the indices of the old messages change which might be confusing for the user.\n",
    "Perhaps messages could be sorted by creation timestamp?"
   ]
  },
  {
   "cell_type": "code",
   "execution_count": 4,
   "metadata": {},
   "outputs": [],
   "source": [
    "def review_request(index: int):\n",
    "    request = messages[index].link\n",
    "    func = request.changes[0].link\n",
    "    func_name = func.service_func_name\n",
    "    print(func_name)\n",
    "    print(func.raw_code)\n",
    "\n",
    "def run_submitted_function(index: int):\n",
    "    request = messages[index].link\n",
    "    func = request.changes[0].link\n",
    "    user_func = func.unsafe_function\n",
    "    real_result = user_func()\n",
    "    print(real_result)\n",
    "    return real_result\n",
    "\n",
    "def accept_request(index: int, real_result: any):\n",
    "    request = messages[index].link\n",
    "    request.approve()\n",
    "    result = request.accept_by_depositing_result(real_result)\n",
    "    print(result)"
   ]
  },
  {
   "cell_type": "code",
   "execution_count": 14,
   "metadata": {},
   "outputs": [
    {
     "name": "stdout",
     "output_type": "stream",
     "text": [
      "func_grad\n",
      "@sy.syft_function(input_policy=sy.ExactMatch(dummy=ptr),\n",
      "                  output_policy=sy.SingleExecutionExactOutput())\n",
      "def func_grad(dummy):\n",
      "    # Note: using different naming conventions for numpy and jax\n",
      "    # compared to the original blog post, i.e. onp => np, np => jnp.\n",
      "    import numpy as np\n",
      "    import jax.numpy as jnp\n",
      "    from jax import random, jit, grad\n",
      "\n",
      "    # NOTE: using the same ReLU function as in the previous example\n",
      "    def ReLU(x):\n",
      "        \"\"\" Rectified Linear Unit (ReLU) activation function \"\"\"\n",
      "        return jnp.maximum(0, x)\n",
      "    \n",
      "    def FiniteDiffGrad(x):\n",
      "        \"\"\" Compute the finite difference derivative approx for the ReLU\"\"\"\n",
      "        return np.array((ReLU(x + 1e-3) - ReLU(x - 1e-3)) / (2 * 1e-3))\n",
      "    \n",
      "    # NOTE: generating the random matrix again.\n",
      "    # Any way to share code between syft.functions?\n",
      "    key = random.PRNGKey(1)\n",
      "    x = random.uniform(key, (1000, 1000))\n",
      "\n",
      "    # Compare the Jax gradient with a finite difference approximation\n",
      "    print(\"Jax Grad: \", jit(grad(jit(ReLU)))(2.))\n",
      "    print(\"FD Gradient:\", FiniteDiffGrad(2.))\n",
      "\n"
     ]
    }
   ],
   "source": [
    "review_request(0)\n"
   ]
  },
  {
   "cell_type": "code",
   "execution_count": 18,
   "metadata": {},
   "outputs": [
    {
     "name": "stdout",
     "output_type": "stream",
     "text": [
      "WARNING: This code was submitted by a User and could be UNSAFE.\n",
      "\n"
     ]
    }
   ],
   "source": [
    "result = run_submitted_function(0)\n"
   ]
  },
  {
   "cell_type": "code",
   "execution_count": 19,
   "metadata": {},
   "outputs": [
    {
     "name": "stdout",
     "output_type": "stream",
     "text": [
      "message='Request 4fa6610a7a034987b40fb0e664830e39 changes applied'\n"
     ]
    }
   ],
   "source": [
    "accept_request(0, result)"
   ]
  },
  {
   "cell_type": "code",
   "execution_count": null,
   "metadata": {},
   "outputs": [],
   "source": [
    "# Repeat for all the remaining requests\n",
    "# review_request(1)\n",
    "# result = run_submitted_function(1)\n",
    "# accept_request(1, result)"
   ]
  },
  {
   "attachments": {},
   "cell_type": "markdown",
   "metadata": {},
   "source": [
    "### Go to the Data Scientist Notebook for Part 3!"
   ]
  },
  {
   "attachments": {},
   "cell_type": "markdown",
   "metadata": {},
   "source": []
  }
 ],
 "metadata": {
  "kernelspec": {
   "display_name": "syft",
   "language": "python",
   "name": "python3"
  },
  "language_info": {
   "codemirror_mode": {
    "name": "ipython",
    "version": 3
   },
   "file_extension": ".py",
   "mimetype": "text/x-python",
   "name": "python",
   "nbconvert_exporter": "python",
   "pygments_lexer": "ipython3",
   "version": "3.10.4"
  },
  "orig_nbformat": 4
 },
 "nbformat": 4,
 "nbformat_minor": 2
}

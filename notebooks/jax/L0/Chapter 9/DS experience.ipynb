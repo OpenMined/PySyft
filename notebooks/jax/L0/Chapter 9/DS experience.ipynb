{
 "cells": [
  {
   "attachments": {},
   "cell_type": "markdown",
   "metadata": {},
   "source": [
    "# Jax Level 0 Data Scientist Experience - Chapter 9 - Getting started with Jax MLPs, CNNs, and RNNs\n",
    "\n",
    "Link to the original blog post by Robert Tjarko Lange: https://roberttlange.com/posts/2020/03/blog-post-10/"
   ]
  },
  {
   "cell_type": "code",
   "execution_count": 33,
   "metadata": {},
   "outputs": [
    {
     "name": "stdout",
     "output_type": "stream",
     "text": [
      "✅ The installed version of syft==0.8.1b3 matches the requirement >=0.8b0\n"
     ]
    }
   ],
   "source": [
    "# Import the necessary libraries\n",
    "import syft as sy\n",
    "sy.requires(\">=0.8-beta\")\n",
    "import jax\n",
    "import jax.numpy as jnp"
   ]
  },
  {
   "attachments": {},
   "cell_type": "markdown",
   "metadata": {},
   "source": [
    "## Part 1 - User login and code execution requests"
   ]
  },
  {
   "cell_type": "code",
   "execution_count": 34,
   "metadata": {},
   "outputs": [
    {
     "name": "stdout",
     "output_type": "stream",
     "text": [
      "SQLite Store Path:\n",
      "!open file:///var/folders/sz/hkfsnn612hq56r7cs5rd540r0000gn/T/7bca415d13ed4ec881f0d0aede098dbb.sqlite\n",
      "\n"
     ]
    },
    {
     "data": {
      "text/plain": [
       "<SyftClient - test-domain-1 <7bca415d13ed4ec881f0d0aede098dbb>: PythonConnection>"
      ]
     },
     "execution_count": 34,
     "metadata": {},
     "output_type": "execute_result"
    }
   ],
   "source": [
    "# Register a client to the domain\n",
    "node = sy.orchestra.launch(name=\"test-domain-1\")\n",
    "guest_domain_client = node.client\n",
    "guest_domain_client.register(name=\"Jane Doe\", email=\"jane@caltech.edu\", password=\"abc123\", institution=\"Caltech\", website=\"https://www.caltech.edu/\")\n",
    "guest_domain_client.login(email=\"jane@caltech.edu\", password=\"abc123\")"
   ]
  },
  {
   "attachments": {},
   "cell_type": "markdown",
   "metadata": {},
   "source": [
    "### What is this JAX thing?"
   ]
  },
  {
   "cell_type": "code",
   "execution_count": 35,
   "metadata": {},
   "outputs": [],
   "source": [
    "# Create a function for code execution\n",
    "@sy.syft_function(input_policy=sy.ExactMatch(),\n",
    "                  output_policy=sy.SingleExecutionExactOutput())\n",
    "def func_dot_time_comparison():\n",
    "    # Note: using different naming conventions for numpy and jax\n",
    "    # compared to the original blog post, i.e. onp => np, np => jnp.\n",
    "    import numpy as np\n",
    "    import jax.numpy as jnp\n",
    "    from jax import random\n",
    "\n",
    "    # Generate key which is used to generate random numbers\n",
    "    key = random.PRNGKey(1)\n",
    "\n",
    "    # Generate a random matrix\n",
    "    x = random.uniform(key, (1000, 1000))\n",
    "    # Compare running times of 3 different matrix multiplications\n",
    "    %time y = np.dot(x, x)\n",
    "    %time y = jnp.dot(x, x)\n",
    "    %time y = jnp.dot(x, x).block_until_ready()"
   ]
  },
  {
   "attachments": {},
   "cell_type": "markdown",
   "metadata": {},
   "source": []
  },
  {
   "attachments": {},
   "cell_type": "markdown",
   "metadata": {},
   "source": [
    "### A Few Basic Concepts & Conventions - jit, grad & vmap"
   ]
  },
  {
   "cell_type": "code",
   "execution_count": 36,
   "metadata": {},
   "outputs": [],
   "source": [
    "@sy.syft_function(input_policy=sy.ExactMatch(),\n",
    "                  output_policy=sy.SingleExecutionExactOutput())\n",
    "def func_jit():\n",
    "    # Note: using different naming conventions for numpy and jax\n",
    "    # compared to the original blog post, i.e. onp => np, np => jnp.\n",
    "    import numpy as np\n",
    "    import jax.numpy as jnp\n",
    "    from jax import random, jit, grad\n",
    "\n",
    "    def ReLU(x):\n",
    "        \"\"\" Rectified Linear Unit (ReLU) activation function \"\"\"\n",
    "        return jnp.maximum(0, x)\n",
    "    \n",
    "    key = random.PRNGKey(1)\n",
    "    x = random.uniform(key, (1000, 1000))\n",
    "\n",
    "    jit_ReLU = jit(ReLU)\n",
    "\n",
    "    %time out = ReLU(x).block_until_ready()\n",
    "    # Call jitted version to compile for evaluation time!\n",
    "    %time jit_ReLU(x).block_until_ready()\n",
    "    %time out = jit_ReLU(x).block_until_ready()"
   ]
  },
  {
   "cell_type": "code",
   "execution_count": 37,
   "metadata": {},
   "outputs": [],
   "source": [
    "@sy.syft_function(input_policy=sy.ExactMatch(),\n",
    "                  output_policy=sy.SingleExecutionExactOutput())\n",
    "def func_grad():\n",
    "    # Note: using different naming conventions for numpy and jax\n",
    "    # compared to the original blog post, i.e. onp => np, np => jnp.\n",
    "    import numpy as np\n",
    "    import jax.numpy as jnp\n",
    "    from jax import random, jit, grad\n",
    "\n",
    "    # NOTE: using the same ReLU function as in the previous example\n",
    "    def ReLU(x):\n",
    "        \"\"\" Rectified Linear Unit (ReLU) activation function \"\"\"\n",
    "        return jnp.maximum(0, x)\n",
    "    \n",
    "    def FiniteDiffGrad(x):\n",
    "        \"\"\" Compute the finite difference derivative approx for the ReLU\"\"\"\n",
    "        return jnp.array((ReLU(x + 1e-3) - ReLU(x - 1e-3)) / (2 * 1e-3))\n",
    "    \n",
    "    key = random.PRNGKey(1)\n",
    "    x = random.uniform(key, (1000, 1000))\n",
    "\n",
    "    # Compare the Jax gradient with a finite difference approximation\n",
    "    print(\"Jax Grad: \", jit(grad(jit(ReLU)))(2.))\n",
    "    print(\"FD Gradient:\", FiniteDiffGrad(2.))"
   ]
  },
  {
   "cell_type": "code",
   "execution_count": 38,
   "metadata": {},
   "outputs": [],
   "source": [
    "@sy.syft_function(input_policy=sy.ExactMatch(),\n",
    "                  output_policy=sy.SingleExecutionExactOutput())\n",
    "def func_vmap():\n",
    "    # Note: using different naming conventions for numpy and jax\n",
    "    # compared to the original blog post, i.e. onp => np, np => jnp.\n",
    "    import numpy as np\n",
    "    import jax.numpy as jnp\n",
    "    from jax import random, jit, vmap\n",
    "\n",
    "    batch_dim = 32\n",
    "    feature_dim = 100\n",
    "    hidden_dim = 512\n",
    "\n",
    "    # Generate a batch of vectors to process\n",
    "    key = random.PRNGKey(1)\n",
    "    X = random.normal(key, (batch_dim, feature_dim))\n",
    "\n",
    "    # Generate Gaussian weights and biases\n",
    "    params = [random.normal(key, (hidden_dim, feature_dim)),\n",
    "            random.normal(key, (hidden_dim, ))]\n",
    "    \n",
    "    # NOTE: using the same ReLU function as in the previous example\n",
    "    def ReLU(x):\n",
    "        \"\"\" Rectified Linear Unit (ReLU) activation function \"\"\"\n",
    "        return jnp.maximum(0, x)\n",
    "\n",
    "    def relu_layer(params, x):\n",
    "        \"\"\" Simple ReLu layer for single sample \"\"\"\n",
    "        return ReLU(jnp.dot(params[0], x) + params[1])\n",
    "\n",
    "    def batch_version_relu_layer(params, x):\n",
    "        \"\"\" Error prone batch version \"\"\"\n",
    "        return ReLU(jnp.dot(X, params[0].T) + params[1])\n",
    "\n",
    "    def vmap_relu_layer(params, x):\n",
    "        \"\"\" vmap version of the ReLU layer \"\"\"\n",
    "        return jit(vmap(relu_layer, in_axes=(None, 0), out_axes=0))\n",
    "\n",
    "    out = jnp.stack([relu_layer(params, X[i, :]) for i in range(X.shape[0])])\n",
    "    out = batch_version_relu_layer(params, X)\n",
    "    out = vmap_relu_layer(params, X)    "
   ]
  },
  {
   "cell_type": "code",
   "execution_count": 39,
   "metadata": {},
   "outputs": [
    {
     "name": "stdout",
     "output_type": "stream",
     "text": [
      "CPU times: user 3.18 ms, sys: 94 µs, total: 3.27 ms\n",
      "Wall time: 1.04 ms\n",
      "CPU times: user 34.3 ms, sys: 30.3 ms, total: 64.6 ms\n",
      "Wall time: 245 ms\n",
      "CPU times: user 4.27 ms, sys: 634 µs, total: 4.9 ms\n",
      "Wall time: 1.63 ms\n",
      "Jax Grad:  1.0\n",
      "FD Gradient: 0.9999999999998899\n"
     ]
    }
   ],
   "source": [
    "# Test our functions locally\n",
    "# func_dot_time_comparison()\n",
    "\"\"\"\n",
    "NOTE: running time comparison results differ from the ones on the blog post:\n",
    "CPU times: user 45.3 ms, sys: 6.12 ms, total: 51.5 ms\n",
    "Wall time: 16 ms\n",
    "CPU times: user 24.1 ms, sys: 3.28 ms, total: 27.4 ms\n",
    "Wall time: 6.85 ms\n",
    "CPU times: user 149 ms, sys: 23 ms, total: 172 ms\n",
    "Wall time: 30.4 ms\n",
    "\"\"\"\n",
    "\n",
    "func_jit()\n",
    "func_grad()\n",
    "func_vmap()"
   ]
  },
  {
   "cell_type": "code",
   "execution_count": null,
   "metadata": {},
   "outputs": [],
   "source": []
  },
  {
   "cell_type": "code",
   "execution_count": 40,
   "metadata": {},
   "outputs": [
    {
     "data": {
      "text/html": [
       "<div class=\"alert-danger\" style=\"padding:5px;\"><strong>SyftError</strong>: Duplication Key Error: syft.service.code.user_code.UserCode</div><br />"
      ],
      "text/plain": [
       "<class 'syft.service.response.SyftError'>: Duplication Key Error: syft.service.code.user_code.UserCode"
      ]
     },
     "execution_count": 40,
     "metadata": {},
     "output_type": "execute_result"
    }
   ],
   "source": [
    "# Submit the function for code execution\n",
    "guest_domain_client.api.services.code.request_code_execution(func_dot_time_comparison)\n",
    "guest_domain_client.api.services.code.request_code_execution(func_jit)\n",
    "guest_domain_client.api.services.code.request_code_execution(func_grad)\n",
    "guest_domain_client.api.services.code.request_code_execution(func_vmap)\n"
   ]
  },
  {
   "attachments": {},
   "cell_type": "markdown",
   "metadata": {},
   "source": [
    "## Part 3\n",
    "### Training a MNIST Multilayer Perceptron in JAX"
   ]
  },
  {
   "cell_type": "code",
   "execution_count": 41,
   "metadata": {},
   "outputs": [
    {
     "name": "stdout",
     "output_type": "stream",
     "text": [
      "Requirement already satisfied: seaborn in /Users/antti/.pyenv/versions/3.10.4/envs/jax_1/lib/python3.10/site-packages (0.12.2)\n",
      "Requirement already satisfied: matplotlib!=3.6.1,>=3.1 in /Users/antti/.pyenv/versions/3.10.4/envs/jax_1/lib/python3.10/site-packages (from seaborn) (3.7.1)\n",
      "Requirement already satisfied: pandas>=0.25 in /Users/antti/.pyenv/versions/3.10.4/envs/jax_1/lib/python3.10/site-packages (from seaborn) (1.5.3)\n",
      "Requirement already satisfied: numpy!=1.24.0,>=1.17 in /Users/antti/.pyenv/versions/3.10.4/envs/jax_1/lib/python3.10/site-packages (from seaborn) (1.24.2)\n",
      "Requirement already satisfied: packaging>=20.0 in /Users/antti/.pyenv/versions/3.10.4/envs/jax_1/lib/python3.10/site-packages (from matplotlib!=3.6.1,>=3.1->seaborn) (23.1)\n",
      "Requirement already satisfied: pyparsing>=2.3.1 in /Users/antti/.pyenv/versions/3.10.4/envs/jax_1/lib/python3.10/site-packages (from matplotlib!=3.6.1,>=3.1->seaborn) (3.0.9)\n",
      "Requirement already satisfied: contourpy>=1.0.1 in /Users/antti/.pyenv/versions/3.10.4/envs/jax_1/lib/python3.10/site-packages (from matplotlib!=3.6.1,>=3.1->seaborn) (1.0.7)\n",
      "Requirement already satisfied: cycler>=0.10 in /Users/antti/.pyenv/versions/3.10.4/envs/jax_1/lib/python3.10/site-packages (from matplotlib!=3.6.1,>=3.1->seaborn) (0.11.0)\n",
      "Requirement already satisfied: kiwisolver>=1.0.1 in /Users/antti/.pyenv/versions/3.10.4/envs/jax_1/lib/python3.10/site-packages (from matplotlib!=3.6.1,>=3.1->seaborn) (1.4.4)\n",
      "Requirement already satisfied: fonttools>=4.22.0 in /Users/antti/.pyenv/versions/3.10.4/envs/jax_1/lib/python3.10/site-packages (from matplotlib!=3.6.1,>=3.1->seaborn) (4.39.4)\n",
      "Requirement already satisfied: pillow>=6.2.0 in /Users/antti/.pyenv/versions/3.10.4/envs/jax_1/lib/python3.10/site-packages (from matplotlib!=3.6.1,>=3.1->seaborn) (9.5.0)\n",
      "Requirement already satisfied: python-dateutil>=2.7 in /Users/antti/.pyenv/versions/3.10.4/envs/jax_1/lib/python3.10/site-packages (from matplotlib!=3.6.1,>=3.1->seaborn) (2.8.2)\n",
      "Requirement already satisfied: pytz>=2020.1 in /Users/antti/.pyenv/versions/3.10.4/envs/jax_1/lib/python3.10/site-packages (from pandas>=0.25->seaborn) (2023.3)\n",
      "Requirement already satisfied: six>=1.5 in /Users/antti/.pyenv/versions/3.10.4/envs/jax_1/lib/python3.10/site-packages (from python-dateutil>=2.7->matplotlib!=3.6.1,>=3.1->seaborn) (1.16.0)\n",
      "\u001b[33mWARNING: You are using pip version 22.0.4; however, version 23.1.2 is available.\n",
      "You should consider upgrading via the '/Users/antti/.pyenv/versions/3.10.4/envs/jax_1/bin/python -m pip install --upgrade pip' command.\u001b[0m\u001b[33m\n",
      "\u001b[0mNote: you may need to restart the kernel to use updated packages.\n"
     ]
    }
   ],
   "source": [
    "# seaborn used by helpers.py\n",
    "%pip install seaborn"
   ]
  },
  {
   "cell_type": "code",
   "execution_count": 42,
   "metadata": {},
   "outputs": [
    {
     "data": {
      "text/html": [
       "List - Size: 1\n",
       "<div>\n",
       "<style scoped>\n",
       "    .dataframe tbody tr th:only-of-type {\n",
       "        vertical-align: middle;\n",
       "    }\n",
       "\n",
       "    .dataframe tbody tr th {\n",
       "        vertical-align: top;\n",
       "    }\n",
       "\n",
       "    .dataframe thead th {\n",
       "        text-align: right;\n",
       "    }\n",
       "</style>\n",
       "<table border=\"1\" class=\"dataframe\">\n",
       "  <thead>\n",
       "    <tr style=\"text-align: right;\">\n",
       "      <th></th>\n",
       "      <th>type</th>\n",
       "      <th>id</th>\n",
       "      <th>name</th>\n",
       "      <th>url</th>\n",
       "    </tr>\n",
       "  </thead>\n",
       "  <tbody>\n",
       "    <tr>\n",
       "      <th>0</th>\n",
       "      <td>syft.service.dataset.dataset.Dataset</td>\n",
       "      <td>3c161f87791244f3a749dc49c4530b4f</td>\n",
       "      <td>mnist</td>\n",
       "      <td>None</td>\n",
       "    </tr>\n",
       "  </tbody>\n",
       "</table>\n",
       "</div>"
      ],
      "text/plain": [
       "[syft.service.dataset.dataset.Dataset]"
      ]
     },
     "execution_count": 42,
     "metadata": {},
     "output_type": "execute_result"
    }
   ],
   "source": [
    "results = guest_domain_client.api.services.dataset.get_all()\n",
    "results"
   ]
  },
  {
   "cell_type": "code",
   "execution_count": 43,
   "metadata": {},
   "outputs": [
    {
     "data": {
      "text/markdown": [
       "```python\n",
       "Syft Dataset: mnist\n",
       "Assets:\n",
       "\ttrain images: None\n",
       "\ttest images: None\n",
       "\ttrain labels: None\n",
       "\ttest labels: None\n",
       "\n",
       "```"
      ],
      "text/plain": [
       "syft.service.dataset.dataset.Dataset"
      ]
     },
     "execution_count": 43,
     "metadata": {},
     "output_type": "execute_result"
    }
   ],
   "source": [
    "dataset = results[0]\n",
    "dataset"
   ]
  },
  {
   "cell_type": "code",
   "execution_count": 44,
   "metadata": {},
   "outputs": [],
   "source": [
    "train_images_mock = dataset.assets[0].mock_data\n",
    "test_images_mock = dataset.assets[1].mock_data\n",
    "train_labels_mock = dataset.assets[2].mock_data\n",
    "test_labels_mock = dataset.assets[3].mock_data"
   ]
  },
  {
   "cell_type": "code",
   "execution_count": 45,
   "metadata": {},
   "outputs": [],
   "source": [
    "train_images_asset = dataset.assets[0]\n",
    "test_images_asset = dataset.assets[1]\n",
    "train_labels_asset = dataset.assets[2]\n",
    "test_labels_asset = dataset.assets[3]\n"
   ]
  },
  {
   "cell_type": "code",
   "execution_count": 68,
   "metadata": {},
   "outputs": [
    {
     "data": {
      "text/plain": [
       "numpy.dtype[int64]"
      ]
     },
     "execution_count": 68,
     "metadata": {},
     "output_type": "execute_result"
    }
   ],
   "source": [
    "type(train_labels_mock.dtype)"
   ]
  },
  {
   "cell_type": "code",
   "execution_count": 46,
   "metadata": {},
   "outputs": [
    {
     "data": {
      "image/png": "[encoded data removed]",
      "text/plain": [
       "<Figure size 1000x500 with 4 Axes>"
      ]
     },
     "metadata": {},
     "output_type": "display_data"
    }
   ],
   "source": [
    "# Plot MNIST examples\n",
    "from helpers import plot_mnist_examples\n",
    "plot_mnist_examples(train_images_mock, train_labels_mock)\n",
    "\n",
    "\n"
   ]
  },
  {
   "cell_type": "code",
   "execution_count": 55,
   "metadata": {},
   "outputs": [],
   "source": [
    "@sy.syft_function(input_policy=sy.ExactMatch(\n",
    "                    train_images=train_images_asset.pointer, test_images=test_images_asset.pointer,\n",
    "                    train_labels=train_labels_asset.pointer, test_labels=test_labels_asset.pointer),\n",
    "                  output_policy=sy.SingleExecutionExactOutput())\n",
    "def func_mlp(train_images, test_images, train_labels, test_labels):\n",
    "    # Import some additional JAX\n",
    "    import time\n",
    "    import numpy as np\n",
    "    from jax.scipy.special import logsumexp\n",
    "    from jax.experimental import optimizers\n",
    "    from jax import random, jit, vmap, value_and_grad\n",
    "\n",
    "    key = random.PRNGKey(1)\n",
    "\n",
    "    # Set the batch size\n",
    "    batch_size = 100\n",
    "\n",
    "    # Shuffle the training data\n",
    "    shuffle_indices = np.random.permutation(len(train_images))\n",
    "    train_data = train_images[shuffle_indices]\n",
    "    train_labels = train_labels[shuffle_indices]\n",
    "    test_data = test_images\n",
    "\n",
    "    def ReLU(x):\n",
    "        \"\"\" Rectified Linear Unit (ReLU) activation function \"\"\"\n",
    "        return jnp.maximum(0, x)\n",
    "\n",
    "    def relu_layer(params, x):\n",
    "        \"\"\" Simple ReLu layer for single sample \"\"\"\n",
    "        return ReLU(jnp.dot(params[0], x) + params[1])\n",
    "\n",
    "    def initialize_mlp(sizes, key):\n",
    "        \"\"\" Initialize the weights of all layers of a linear layer network \"\"\"\n",
    "        keys = random.split(key, len(sizes))\n",
    "        # Initialize a single layer with Gaussian weights -  helper function\n",
    "        def initialize_layer(m, n, key, scale=1e-2):\n",
    "            w_key, b_key = random.split(key)\n",
    "            return scale * random.normal(w_key, (n, m)), scale * random.normal(b_key, (n,))\n",
    "        return [initialize_layer(m, n, k) for m, n, k in zip(sizes[:-1], sizes[1:], keys)]\n",
    "\n",
    "    layer_sizes = [784, 512, 512, 10]\n",
    "    # Return a list of tuples of layer weights\n",
    "    params = initialize_mlp(layer_sizes, key)\n",
    "\n",
    "    num_epochs = 10\n",
    "    num_classes = 10\n",
    "\n",
    "    def forward_pass(params, in_array):\n",
    "        \"\"\" Compute the forward pass for each example individually \"\"\"\n",
    "        activations = in_array\n",
    "\n",
    "        # Loop over the ReLU hidden layers\n",
    "        for w, b in params[:-1]:\n",
    "            activations = relu_layer([w, b], activations)\n",
    "\n",
    "        # Perform final trafo to logits\n",
    "        final_w, final_b = params[-1]\n",
    "        logits = jnp.dot(final_w, activations) + final_b\n",
    "        return logits - logsumexp(logits)\n",
    "\n",
    "    # Make a batched version of the `predict` function\n",
    "    batch_forward = vmap(forward_pass, in_axes=(None, 0), out_axes=0)\n",
    "\n",
    "    # For logging purposes we compute the accuracy as well\n",
    "    def one_hot(x, k, dtype=jnp.float32):\n",
    "        \"\"\"Create a one-hot encoding of x of size k \"\"\"\n",
    "        return jnp.array(x[:, None] == jnp.arange(k), dtype)\n",
    "\n",
    "    def loss(params, in_arrays, targets):\n",
    "        \"\"\" Compute the multi-class cross-entropy loss \"\"\"\n",
    "        preds = batch_forward(params, in_arrays)\n",
    "        return -jnp.sum(preds * targets)\n",
    "\n",
    "    def accuracy(params, data, labels):\n",
    "        \"\"\" Compute the accuracy for a provided dataloader \"\"\"\n",
    "        acc_total = 0\n",
    "        for i in range(0, len(data), batch_size):\n",
    "            data_batch = data[i:i+batch_size]\n",
    "            labels_batch = labels[i:i+batch_size]\n",
    "\n",
    "            images = data_batch.reshape(data_batch.shape[0], 28*28)\n",
    "            targets = one_hot(jnp.array(labels_batch), num_classes)\n",
    "\n",
    "            target_class = jnp.argmax(targets, axis=1)\n",
    "            predicted_class = jnp.argmax(batch_forward(params, images), axis=1)\n",
    "            acc_total += jnp.sum(predicted_class == target_class)\n",
    "        return acc_total/len(data)\n",
    "    \n",
    "    @jit\n",
    "    def update(params, x, y, opt_state):\n",
    "        \"\"\" Compute the gradient for a batch and update the parameters \"\"\"\n",
    "        value, grads = value_and_grad(loss)(params, x, y)\n",
    "        opt_state = opt_update(0, grads, opt_state)\n",
    "        return get_params(opt_state), opt_state, value\n",
    "\n",
    "    # Defining an optimizer in Jax\n",
    "    step_size = 1e-3\n",
    "    opt_init, opt_update, get_params = optimizers.adam(step_size)\n",
    "    opt_state = opt_init(params)\n",
    "\n",
    "    def run_mnist_training_loop(num_epochs, opt_state, net_type=\"MLP\"):\n",
    "        \"\"\" Implements a learning loop over epochs. \"\"\"\n",
    "        # Initialize placeholder for loggin\n",
    "        log_acc_train, log_acc_test, train_loss = [], [], []\n",
    "\n",
    "        # Get the initial set of parameters\n",
    "        params = get_params(opt_state)\n",
    "\n",
    "        # Get initial accuracy after random init\n",
    "        train_acc = accuracy(params, train_data, train_labels)\n",
    "        test_acc = accuracy(params, test_data, test_labels)\n",
    "        log_acc_train.append(train_acc)\n",
    "        log_acc_test.append(test_acc)\n",
    "\n",
    "        # Loop over the training epochs\n",
    "        for epoch in range(num_epochs):\n",
    "            start_time = time.time()\n",
    "            \n",
    "            for i in range(0, len(train_data), batch_size):\n",
    "                data = train_data[i:i+batch_size]\n",
    "                target = train_labels[i:i+batch_size]\n",
    "                if net_type == \"MLP\":\n",
    "                    # Flatten the image into 784 vectors for the MLP\n",
    "                    x = jnp.array(data).reshape(data.shape[0], 28*28)\n",
    "                elif net_type == \"CNN\":\n",
    "                    # No flattening of the input required for the CNN\n",
    "                    x = jnp.array(data)\n",
    "                y = one_hot(jnp.array(target), num_classes)\n",
    "                params, opt_state, loss = update(params, x, y, opt_state)\n",
    "                train_loss.append(loss)\n",
    "\n",
    "            epoch_time = time.time() - start_time\n",
    "            train_acc = accuracy(params, train_data, train_labels)\n",
    "            test_acc = accuracy(params, test_data, test_labels)\n",
    "            log_acc_train.append(train_acc)\n",
    "            log_acc_test.append(test_acc)\n",
    "            print(\"Epoch {} | T: {:0.2f} | Train A: {:0.3f} | Test A: {:0.3f}\".format(epoch+1, epoch_time,\n",
    "                                                                        train_acc, test_acc))\n",
    "\n",
    "        return train_loss, log_acc_train, log_acc_test\n",
    "\n",
    "\n",
    "    train_loss, train_log, test_log = run_mnist_training_loop(num_epochs,\n",
    "                                                            opt_state,\n",
    "                                                            net_type=\"MLP\")\n",
    "    \n",
    "\n",
    "# from helpers import plot_mnist_performance\n",
    "# plot_mnist_performance(train_loss, train_log, test_log,\n",
    "#                        \"MNIST MLP Performance\")\n"
   ]
  },
  {
   "cell_type": "code",
   "execution_count": 56,
   "metadata": {},
   "outputs": [
    {
     "name": "stdout",
     "output_type": "stream",
     "text": [
      "Epoch 1 | T: 4.59 | Train A: 0.967 | Test A: 0.969\n",
      "Epoch 2 | T: 4.32 | Train A: 0.982 | Test A: 0.979\n",
      "Epoch 3 | T: 4.26 | Train A: 0.983 | Test A: 0.978\n",
      "Epoch 4 | T: 4.30 | Train A: 0.989 | Test A: 0.980\n",
      "Epoch 5 | T: 4.31 | Train A: 0.992 | Test A: 0.978\n",
      "Epoch 6 | T: 4.33 | Train A: 0.990 | Test A: 0.974\n",
      "Epoch 7 | T: 4.30 | Train A: 0.996 | Test A: 0.983\n",
      "Epoch 8 | T: 4.30 | Train A: 0.993 | Test A: 0.981\n",
      "Epoch 9 | T: 4.24 | Train A: 0.996 | Test A: 0.983\n",
      "Epoch 10 | T: 4.26 | Train A: 0.996 | Test A: 0.981\n"
     ]
    }
   ],
   "source": [
    "# Test our function locally\n",
    "func_mlp(train_images=train_images_mock, test_images=test_images_mock,\n",
    "         train_labels=train_labels_mock, test_labels=test_labels_mock)"
   ]
  },
  {
   "attachments": {},
   "cell_type": "markdown",
   "metadata": {},
   "source": [
    "## Part 5\n",
    "### Using the stax API to build Sequential Models - Case Study: A CNN"
   ]
  },
  {
   "cell_type": "code",
   "execution_count": 87,
   "metadata": {},
   "outputs": [],
   "source": [
    "@sy.syft_function(input_policy=sy.ExactMatch(\n",
    "                    train_images=train_images_asset.pointer, test_images=test_images_asset.pointer,\n",
    "                    train_labels=train_labels_asset.pointer, test_labels=test_labels_asset.pointer),\n",
    "                  output_policy=sy.SingleExecutionExactOutput())\n",
    "def func_cnn(train_images, test_images, train_labels, test_labels):\n",
    "    import time\n",
    "    import numpy as np\n",
    "    from jax.experimental import optimizers, stax\n",
    "    from jax import random, jit, value_and_grad\n",
    "    from jax.experimental.stax import (BatchNorm, Conv, Dense, Flatten,\n",
    "                                   Relu, LogSoftmax)\n",
    "\n",
    "    key = random.PRNGKey(1)\n",
    "\n",
    "    # Set the batch size\n",
    "    batch_size = 100\n",
    "\n",
    "    # Shuffle the training data\n",
    "    shuffle_indices = np.random.permutation(len(train_images))\n",
    "    train_data = train_images[shuffle_indices]\n",
    "    train_labels = train_labels[shuffle_indices]\n",
    "\n",
    "    # reshape the data into the 4-dimensional format expected by the convolutional layer\n",
    "    train_data = jnp.expand_dims(train_data.astype('float64'), axis=1)\n",
    "    test_data = jnp.expand_dims(test_images.astype('float64'), axis=1)\n",
    "\n",
    "    num_epochs = 10\n",
    "    num_classes = 10\n",
    "    \n",
    "    def one_hot(x, k, dtype=jnp.float32):\n",
    "            \"\"\"Create a one-hot encoding of x of size k \"\"\"\n",
    "            return jnp.array(x[:, None] == jnp.arange(k), dtype)\n",
    "    \n",
    "    @jit\n",
    "    def update(params, x, y, opt_state):\n",
    "            \"\"\" Compute the gradient for a batch and update the parameters \"\"\"\n",
    "            value, grads = value_and_grad(loss)(params, x, y)\n",
    "            opt_state = opt_update(0, grads, opt_state)\n",
    "            return get_params(opt_state), opt_state, value\n",
    "    \n",
    "    def accuracy(params, data, labels):\n",
    "        \"\"\" Compute the accuracy for the CNN case (no flattening of input)\"\"\"\n",
    "        acc_total = 0\n",
    "        for i in range(0, len(data), batch_size):\n",
    "            data_batch = data[i:i+batch_size]\n",
    "            labels_batch = labels[i:i+batch_size]\n",
    "            images = jnp.array(data_batch)\n",
    "            targets = one_hot(jnp.array(labels_batch), num_classes)\n",
    "\n",
    "            target_class = jnp.argmax(targets, axis=1)\n",
    "            predicted_class = jnp.argmax(conv_net(params, images), axis=1)\n",
    "            acc_total += jnp.sum(predicted_class == target_class)\n",
    "        return acc_total/len(data)\n",
    "\n",
    "    def loss(params, images, targets):\n",
    "        preds = conv_net(params, images)\n",
    "        return -jnp.sum(preds * targets)\n",
    "    \n",
    "    def run_mnist_training_loop(num_epochs, opt_state, net_type=\"MLP\"):\n",
    "            \"\"\" Implements a learning loop over epochs. \"\"\"\n",
    "            # Initialize placeholder for loggin\n",
    "            log_acc_train, log_acc_test, train_loss = [], [], []\n",
    "\n",
    "            # Get the initial set of parameters\n",
    "            params = get_params(opt_state)\n",
    "\n",
    "            # Get initial accuracy after random init\n",
    "            train_acc = accuracy(params, train_data, train_labels)\n",
    "            test_acc = accuracy(params, test_data, test_labels)\n",
    "            log_acc_train.append(train_acc)\n",
    "            log_acc_test.append(test_acc)\n",
    "\n",
    "            # Loop over the training epochs\n",
    "            for epoch in range(num_epochs):\n",
    "                start_time = time.time()\n",
    "                \n",
    "                for i in range(0, len(train_data), batch_size):\n",
    "                    data = train_data[i:i+batch_size]\n",
    "                    target = train_labels[i:i+batch_size]\n",
    "                    if net_type == \"MLP\":\n",
    "                        # Flatten the image into 784 vectors for the MLP\n",
    "                        x = jnp.array(data).reshape(data.shape[0], 28*28)\n",
    "                    elif net_type == \"CNN\":\n",
    "                        # No flattening of the input required for the CNN\n",
    "                        x = jnp.array(data)\n",
    "                    y = one_hot(jnp.array(target), num_classes)\n",
    "                    params, opt_state, loss = update(params, x, y, opt_state)\n",
    "                    train_loss.append(loss)\n",
    "\n",
    "                epoch_time = time.time() - start_time\n",
    "                train_acc = accuracy(params, train_data, train_labels)\n",
    "                test_acc = accuracy(params, test_data, test_labels)\n",
    "                log_acc_train.append(train_acc)\n",
    "                log_acc_test.append(test_acc)\n",
    "                print(\"Epoch {} | T: {:0.2f} | Train A: {:0.3f} | Test A: {:0.3f}\".format(epoch+1, epoch_time,\n",
    "                                                                            train_acc, test_acc))\n",
    "\n",
    "            return train_loss, log_acc_train, log_acc_test\n",
    "  \n",
    "    init_fun, conv_net = stax.serial(Conv(32, (5, 5), (2, 2), padding=\"SAME\"),\n",
    "                                    BatchNorm(), Relu,\n",
    "                                    Conv(32, (5, 5), (2, 2), padding=\"SAME\"),\n",
    "                                    BatchNorm(), Relu,\n",
    "                                    Conv(10, (3, 3), (2, 2), padding=\"SAME\"),\n",
    "                                    BatchNorm(), Relu,\n",
    "                                    Conv(10, (3, 3), (2, 2), padding=\"SAME\"), Relu,\n",
    "                                    Flatten,\n",
    "                                    Dense(num_classes),\n",
    "                                    LogSoftmax)\n",
    "\n",
    "    _, params = init_fun(key, (batch_size, 1, 28, 28))\n",
    "\n",
    "    \n",
    "    step_size = 1e-3\n",
    "    opt_init, opt_update, get_params = optimizers.adam(step_size)\n",
    "    opt_state = opt_init(params)\n",
    "    num_epochs = 10\n",
    "\n",
    "    train_loss, train_log, test_log = run_mnist_training_loop(num_epochs,\n",
    "                                                                opt_state,\n",
    "                                                                net_type=\"CNN\")\n",
    "\n",
    "\n",
    "# Plot the loss curve over time\n",
    "# from helpers import plot_mnist_performance\n",
    "# plot_mnist_performance(train_loss, train_log, test_log,\n",
    "#                        \"MNIST MLP Performance\")"
   ]
  },
  {
   "cell_type": "code",
   "execution_count": 88,
   "metadata": {},
   "outputs": [
    {
     "name": "stdout",
     "output_type": "stream",
     "text": [
      "Epoch 1 | T: 6.71 | Train A: 0.958 | Test A: 0.976\n",
      "Epoch 2 | T: 3.48 | Train A: 0.974 | Test A: 0.980\n",
      "Epoch 3 | T: 3.45 | Train A: 0.981 | Test A: 0.981\n",
      "Epoch 4 | T: 3.43 | Train A: 0.985 | Test A: 0.983\n",
      "Epoch 5 | T: 3.39 | Train A: 0.987 | Test A: 0.984\n",
      "Epoch 6 | T: 3.38 | Train A: 0.990 | Test A: 0.984\n",
      "Epoch 7 | T: 3.46 | Train A: 0.991 | Test A: 0.984\n",
      "Epoch 8 | T: 3.39 | Train A: 0.992 | Test A: 0.984\n",
      "Epoch 9 | T: 3.45 | Train A: 0.993 | Test A: 0.985\n",
      "Epoch 10 | T: 3.33 | Train A: 0.994 | Test A: 0.985\n"
     ]
    }
   ],
   "source": [
    "# Test our function locally\n",
    "func_cnn(train_images=train_images_mock, test_images=test_images_mock,\n",
    "         train_labels=train_labels_mock, test_labels=test_labels_mock)"
   ]
  },
  {
   "attachments": {},
   "cell_type": "markdown",
   "metadata": {},
   "source": [
    "## Part 7\n",
    "### Training RNNs with jax.lax.scan"
   ]
  },
  {
   "cell_type": "code",
   "execution_count": 89,
   "metadata": {},
   "outputs": [
    {
     "data": {
      "image/png": "[encoded data removed]",
      "text/plain": [
       "<Figure size 800x500 with 1 Axes>"
      ]
     },
     "metadata": {},
     "output_type": "display_data"
    }
   ],
   "source": [
    "# Generate & plot a time series generated by the OU process\n",
    "from helpers import generate_ou_process, plot_ou_process\n",
    "x_0, mu, tau, sigma, dt = 0, 1, 2, 0.5, 0.1\n",
    "noise_std = 0.1\n",
    "num_dims, batch_size = 100, 50  # Number of timesteps in process\n",
    "\n",
    "x, x_tilde = generate_ou_process(batch_size, num_dims, mu, tau,\n",
    "                                 sigma, noise_std, dt)\n",
    "plot_ou_process(x[0, :], x_tilde[0, :])"
   ]
  },
  {
   "cell_type": "code",
   "execution_count": 101,
   "metadata": {},
   "outputs": [],
   "source": [
    "@sy.syft_function(input_policy=sy.ExactMatch(\n",
    "                    train_images=train_images_asset.pointer, test_images=test_images_asset.pointer,\n",
    "                    train_labels=train_labels_asset.pointer, test_labels=test_labels_asset.pointer),\n",
    "                  output_policy=sy.SingleExecutionExactOutput())\n",
    "def func_rnn(train_images, test_images, train_labels, test_labels):\n",
    "    import time\n",
    "    import numpy as np\n",
    "    from jax.experimental import optimizers, stax\n",
    "    from jax.experimental.stax import Dense, Relu\n",
    "    from jax import random, jit, value_and_grad\n",
    "    from jax.nn import sigmoid\n",
    "    from jax.nn.initializers import glorot_normal, normal\n",
    "    from functools import partial\n",
    "    from jax import lax\n",
    "\n",
    "    key = random.PRNGKey(1)\n",
    "\n",
    "    # Shuffle the training data\n",
    "    shuffle_indices = np.random.permutation(len(train_images))\n",
    "    train_data = train_images[shuffle_indices]\n",
    "    train_labels = train_labels[shuffle_indices]\n",
    "\n",
    "    # reshape the data into the 4-dimensional format expected by the convolutional layer\n",
    "    train_data = jnp.expand_dims(train_data.astype('float64'), axis=1)\n",
    "    test_data = jnp.expand_dims(test_images.astype('float64'), axis=1)\n",
    "\n",
    "\n",
    "    def generate_ou_process(batch_size, num_dims, mu, tau, sigma, noise_std, dt=0.1):\n",
    "        \"\"\"Ornstein-Uhlenbeck process sequences to train on\"\"\"\n",
    "        ou_x = np.zeros((batch_size, num_dims))\n",
    "        ou_x[:, 0] = np.random.random(batch_size)\n",
    "        for t in range(1, num_dims):\n",
    "            dx = -(ou_x[:, t - 1] - mu) / tau * dt + sigma * np.sqrt(\n",
    "                2 / tau\n",
    "            ) * np.random.normal(0, 1, batch_size) * np.sqrt(dt)\n",
    "            ou_x[:, t] = ou_x[:, t - 1] + dx\n",
    "\n",
    "        ou_x_noise = ou_x + np.random.multivariate_normal(\n",
    "            np.zeros(num_dims), noise_std * np.eye(num_dims), batch_size\n",
    "        )\n",
    "\n",
    "        return jnp.array(ou_x), jnp.array(ou_x_noise)\n",
    "   \n",
    "    def GRU(out_dim, W_init=glorot_normal(), b_init=normal()):\n",
    "      def init_fun(rng, input_shape):\n",
    "        \"\"\" Initialize the GRU layer for stax \"\"\"\n",
    "        hidden = b_init(rng, (input_shape[0], out_dim))\n",
    "\n",
    "        k1, k2, k3 = random.split(rng, num=3)\n",
    "        update_W, update_U, update_b = (\n",
    "            W_init(k1, (input_shape[2], out_dim)),\n",
    "            W_init(k2, (out_dim, out_dim)),\n",
    "            b_init(k3, (out_dim,)),)\n",
    "\n",
    "        k1, k2, k3 = random.split(rng, num=3)\n",
    "        reset_W, reset_U, reset_b = (\n",
    "            W_init(k1, (input_shape[2], out_dim)),\n",
    "            W_init(k2, (out_dim, out_dim)),\n",
    "            b_init(k3, (out_dim,)),)\n",
    "\n",
    "        k1, k2, k3 = random.split(rng, num=3)\n",
    "        out_W, out_U, out_b = (\n",
    "            W_init(k1, (input_shape[2], out_dim)),\n",
    "            W_init(k2, (out_dim, out_dim)),\n",
    "            b_init(k3, (out_dim,)),)\n",
    "        # Input dim 0 represents the batch dimension\n",
    "        # Input dim 1 represents the time dimension (before scan moveaxis)\n",
    "        output_shape = (input_shape[0], input_shape[1], out_dim)\n",
    "        return (output_shape,\n",
    "            (hidden,\n",
    "              (update_W, update_U, update_b),\n",
    "              (reset_W, reset_U, reset_b),\n",
    "              (out_W, out_U, out_b),),)\n",
    "\n",
    "      def apply_fun(params, inputs, **kwargs):\n",
    "        \"\"\" Loop over the time steps of the input sequence \"\"\"\n",
    "        h = params[0]\n",
    "\n",
    "        def apply_fun_scan(params, hidden, inp):\n",
    "            \"\"\" Perform single step update of the network \"\"\"\n",
    "            _, (update_W, update_U, update_b), (reset_W, reset_U, reset_b), (\n",
    "                out_W, out_U, out_b) = params\n",
    "\n",
    "            update_gate = sigmoid(jnp.dot(inp, update_W) +\n",
    "                                  jnp.dot(hidden, update_U) + update_b)\n",
    "            reset_gate = sigmoid(jnp.dot(inp, reset_W) +\n",
    "                                 jnp.dot(hidden, reset_U) + reset_b)\n",
    "            output_gate = jnp.tanh(jnp.dot(inp, out_W)\n",
    "                                  + jnp.dot(jnp.multiply(reset_gate, hidden), out_U)\n",
    "                                  + out_b)\n",
    "            output = jnp.multiply(update_gate, hidden) + jnp.multiply(1-update_gate, output_gate)\n",
    "            hidden = output\n",
    "            return hidden, hidden\n",
    "\n",
    "        # Move the time dimension to position 0\n",
    "        inputs = jnp.moveaxis(inputs, 1, 0)\n",
    "        f = partial(apply_fun_scan, params)\n",
    "        _, h_new = lax.scan(f, h, inputs)\n",
    "        return h_new\n",
    "\n",
    "      return init_fun, apply_fun\n",
    "      \n",
    "    num_dims = 10              # Number of OU timesteps\n",
    "    batch_size = 64            # Batchsize\n",
    "    num_hidden_units = 12      # GRU cells in the RNN layer\n",
    "\n",
    "    # Initialize the network and perform a forward pass\n",
    "    init_fun, gru_rnn = stax.serial(Dense(num_hidden_units), Relu,\n",
    "                                    GRU(num_hidden_units), Dense(1))\n",
    "    _, params = init_fun(key, (batch_size, num_dims, 1))\n",
    "\n",
    "    def mse_loss(params, inputs, targets):\n",
    "        \"\"\" Calculate the Mean Squared Error Prediction Loss. \"\"\"\n",
    "        preds = gru_rnn(params, inputs)\n",
    "        return jnp.mean((preds - targets)**2)\n",
    "\n",
    "    @jit\n",
    "    def update(params, x, y, opt_state):\n",
    "        \"\"\" Perform a forward pass, calculate the MSE & perform a SGD step. \"\"\"\n",
    "        loss, grads = value_and_grad(mse_loss)(params, x, y)\n",
    "        opt_state = opt_update(0, grads, opt_state)\n",
    "        return get_params(opt_state), opt_state, loss\n",
    "    \n",
    "    step_size = 1e-4\n",
    "    opt_init, opt_update, get_params = optimizers.adam(step_size)\n",
    "    opt_state = opt_init(params)\n",
    "\n",
    "    num_batches = 1000\n",
    "\n",
    "    train_loss_log = []\n",
    "    start_time = time.time()\n",
    "    for batch_idx in range(num_batches):\n",
    "        x, x_tilde = generate_ou_process(batch_size, num_dims, mu, tau, sigma, noise_std)\n",
    "        x_in = jnp.expand_dims(x_tilde[:, :(num_dims-1)], 2)\n",
    "        y = jnp.array(x[:, 1:])\n",
    "        params, opt_state, loss = update(params, x_in, y, opt_state)\n",
    "        batch_time = time.time() - start_time\n",
    "        train_loss_log.append(loss)\n",
    "\n",
    "        if batch_idx % 100 == 0:\n",
    "            start_time = time.time()\n",
    "            print(\"Batch {} | T: {:0.2f} | MSE: {:0.2f} |\".format(batch_idx, batch_time, loss))"
   ]
  },
  {
   "cell_type": "code",
   "execution_count": 102,
   "metadata": {},
   "outputs": [
    {
     "name": "stdout",
     "output_type": "stream",
     "text": [
      "Batch 0 | T: 1.37 | MSE: 0.79 |\n",
      "Batch 100 | T: 0.30 | MSE: 0.46 |\n",
      "Batch 200 | T: 0.30 | MSE: 0.29 |\n",
      "Batch 300 | T: 0.29 | MSE: 0.21 |\n",
      "Batch 400 | T: 0.30 | MSE: 0.20 |\n",
      "Batch 500 | T: 0.30 | MSE: 0.19 |\n",
      "Batch 600 | T: 0.29 | MSE: 0.15 |\n",
      "Batch 700 | T: 0.29 | MSE: 0.13 |\n",
      "Batch 800 | T: 0.29 | MSE: 0.12 |\n",
      "Batch 900 | T: 0.29 | MSE: 0.11 |\n"
     ]
    }
   ],
   "source": [
    "func_rnn(train_images=train_images_mock, test_images=test_images_mock,\n",
    "         train_labels=train_labels_mock, test_labels=test_labels_mock)"
   ]
  },
  {
   "cell_type": "code",
   "execution_count": null,
   "metadata": {},
   "outputs": [],
   "source": []
  }
 ],
 "metadata": {
  "kernelspec": {
   "display_name": "syft",
   "language": "python",
   "name": "python3"
  },
  "language_info": {
   "codemirror_mode": {
    "name": "ipython",
    "version": 3
   },
   "file_extension": ".py",
   "mimetype": "text/x-python",
   "name": "python",
   "nbconvert_exporter": "python",
   "pygments_lexer": "ipython3",
   "version": "3.10.4"
  },
  "orig_nbformat": 4
 },
 "nbformat": 4,
 "nbformat_minor": 2
}

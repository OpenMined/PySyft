{
 "cells": [
  {
   "attachments": {},
   "cell_type": "markdown",
   "metadata": {},
   "source": [
    "# Jax Level 0 Data Scientist Experience - Chapter 9 - Getting started with Jax MLPs, CNNs, and RNNs\n",
    "\n",
    "Link to the original blog post by Robert Tjarko Lange: https://roberttlange.com/posts/2020/03/blog-post-10/"
   ]
  },
  {
   "cell_type": "code",
   "execution_count": 1,
   "metadata": {},
   "outputs": [
    {
     "name": "stderr",
     "output_type": "stream",
     "text": [
      "kj/filesystem-disk-unix.c++:1703: warning: PWD environment variable doesn't match current directory; pwd = /\n"
     ]
    },
    {
     "name": "stdout",
     "output_type": "stream",
     "text": [
      "✅ The installed version of syft==0.8.1b1 matches the requirement >=0.8b0\n"
     ]
    }
   ],
   "source": [
    "# Import the necessary libraries\n",
    "import syft as sy\n",
    "sy.requires(\">=0.8-beta\")\n",
    "# import jax\n",
    "# import jax.numpy as jnp"
   ]
  },
  {
   "attachments": {},
   "cell_type": "markdown",
   "metadata": {},
   "source": [
    "## Part 1 - User login and code execution requests"
   ]
  },
  {
   "cell_type": "code",
   "execution_count": 2,
   "metadata": {},
   "outputs": [
    {
     "name": "stdout",
     "output_type": "stream",
     "text": [
      "SQLite Store Path:\n",
      "!open file:///var/folders/sz/hkfsnn612hq56r7cs5rd540r0000gn/T/7bca415d13ed1ec841f0d0aede098dbb.sqlite\n",
      "\n"
     ]
    },
    {
     "data": {
      "text/plain": [
       "<SyftClient - test-domain-1 <7bca415d13ed1ec841f0d0aede098dbb>: PythonConnection>"
      ]
     },
     "execution_count": 2,
     "metadata": {},
     "output_type": "execute_result"
    }
   ],
   "source": [
    "# Register a client to the domain\n",
    "node = sy.orchestra.launch(name=\"test-domain-1\")\n",
    "guest_domain_client = node.client\n",
    "guest_domain_client.register(name=\"Jane Doe\", email=\"jane@caltech.edu\", password=\"abc123\", institution=\"Caltech\", website=\"https://www.caltech.edu/\")\n",
    "guest_domain_client.login(email=\"jane@caltech.edu\", password=\"abc123\")"
   ]
  },
  {
   "attachments": {},
   "cell_type": "markdown",
   "metadata": {},
   "source": [
    "### What is this JAX thing?"
   ]
  },
  {
   "cell_type": "code",
   "execution_count": 3,
   "metadata": {},
   "outputs": [],
   "source": [
    "# TODO: remove this temporary workaround\n",
    "import numpy as np\n",
    "dummy_tensor = np.array([1,2,3])\n",
    "dummy_action = sy.ActionObject.from_obj(dummy_tensor)\n",
    "ptr = dummy_action.send(guest_domain_client)"
   ]
  },
  {
   "cell_type": "code",
   "execution_count": 4,
   "metadata": {},
   "outputs": [],
   "source": [
    "# Create a function for code execution\n",
    "@sy.syft_function(input_policy=sy.ExactMatch(dummy=ptr),\n",
    "                  output_policy=sy.SingleExecutionExactOutput())\n",
    "def func_dot_time_comparison(dummy):\n",
    "    # Note: using different naming conventions for numpy and jax\n",
    "    # compared to the original blog post, i.e. onp => np, np => jnp.\n",
    "    import numpy as np\n",
    "    import jax.numpy as jnp\n",
    "    from jax import random\n",
    "\n",
    "    # Generate key which is used to generate random numbers\n",
    "    key = random.PRNGKey(1)\n",
    "\n",
    "    # Generate a random matrix\n",
    "    x = random.uniform(key, (1000, 1000))\n",
    "    # Compare running times of 3 different matrix multiplications\n",
    "    %time y = np.dot(x, x)\n",
    "    %time y = jnp.dot(x, x)\n",
    "    %time y = jnp.dot(x, x).block_until_ready()"
   ]
  },
  {
   "attachments": {},
   "cell_type": "markdown",
   "metadata": {},
   "source": []
  },
  {
   "attachments": {},
   "cell_type": "markdown",
   "metadata": {},
   "source": [
    "### A Few Basic Concepts & Conventions - jit, grad & vmap"
   ]
  },
  {
   "cell_type": "code",
   "execution_count": 5,
   "metadata": {},
   "outputs": [],
   "source": [
    "@sy.syft_function(input_policy=sy.ExactMatch(dummy=ptr),\n",
    "                  output_policy=sy.SingleExecutionExactOutput())\n",
    "def func_jit(dummy):\n",
    "    # Note: using different naming conventions for numpy and jax\n",
    "    # compared to the original blog post, i.e. onp => np, np => jnp.\n",
    "    import numpy as np\n",
    "    import jax.numpy as jnp\n",
    "    from jax import random, jit, grad\n",
    "\n",
    "    def ReLU(x):\n",
    "        \"\"\" Rectified Linear Unit (ReLU) activation function \"\"\"\n",
    "        return jnp.maximum(0, x)\n",
    "    \n",
    "    # NOTE: generating the random matrix again.\n",
    "    # Any way to share code between syft.functions?\n",
    "    key = random.PRNGKey(1)\n",
    "    x = random.uniform(key, (1000, 1000))\n",
    "\n",
    "    jit_ReLU = jit(ReLU)\n",
    "\n",
    "    %time out = ReLU(x).block_until_ready()\n",
    "    # Call jitted version to compile for evaluation time!\n",
    "    %time jit_ReLU(x).block_until_ready()\n",
    "    %time out = jit_ReLU(x).block_until_ready()"
   ]
  },
  {
   "cell_type": "code",
   "execution_count": 6,
   "metadata": {},
   "outputs": [],
   "source": [
    "@sy.syft_function(input_policy=sy.ExactMatch(dummy=ptr),\n",
    "                  output_policy=sy.SingleExecutionExactOutput())\n",
    "def func_grad(dummy):\n",
    "    # Note: using different naming conventions for numpy and jax\n",
    "    # compared to the original blog post, i.e. onp => np, np => jnp.\n",
    "    import numpy as np\n",
    "    import jax.numpy as jnp\n",
    "    from jax import random, jit, grad\n",
    "\n",
    "    # NOTE: using the same ReLU function as in the previous example\n",
    "    def ReLU(x):\n",
    "        \"\"\" Rectified Linear Unit (ReLU) activation function \"\"\"\n",
    "        return jnp.maximum(0, x)\n",
    "    \n",
    "    def FiniteDiffGrad(x):\n",
    "        \"\"\" Compute the finite difference derivative approx for the ReLU\"\"\"\n",
    "        return np.array((ReLU(x + 1e-3) - ReLU(x - 1e-3)) / (2 * 1e-3))\n",
    "    \n",
    "    # NOTE: generating the random matrix again.\n",
    "    # Any way to share code between syft.functions?\n",
    "    key = random.PRNGKey(1)\n",
    "    x = random.uniform(key, (1000, 1000))\n",
    "\n",
    "    # Compare the Jax gradient with a finite difference approximation\n",
    "    print(\"Jax Grad: \", jit(grad(jit(ReLU)))(2.))\n",
    "    print(\"FD Gradient:\", FiniteDiffGrad(2.))"
   ]
  },
  {
   "cell_type": "code",
   "execution_count": 7,
   "metadata": {},
   "outputs": [],
   "source": [
    "@sy.syft_function(input_policy=sy.ExactMatch(dummy=ptr),\n",
    "                  output_policy=sy.SingleExecutionExactOutput())\n",
    "def func_vmap(dummy):\n",
    "    # Note: using different naming conventions for numpy and jax\n",
    "    # compared to the original blog post, i.e. onp => np, np => jnp.\n",
    "    import numpy as np\n",
    "    import jax.numpy as jnp\n",
    "    from jax import random, jit, vmap\n",
    "\n",
    "    batch_dim = 32\n",
    "    feature_dim = 100\n",
    "    hidden_dim = 512\n",
    "\n",
    "    # Generate a batch of vectors to process\n",
    "    key = random.PRNGKey(1)\n",
    "    X = random.normal(key, (batch_dim, feature_dim))\n",
    "\n",
    "    # Generate Gaussian weights and biases\n",
    "    params = [random.normal(key, (hidden_dim, feature_dim)),\n",
    "            random.normal(key, (hidden_dim, ))]\n",
    "    \n",
    "    # NOTE: using the same ReLU function as in the previous example\n",
    "    def ReLU(x):\n",
    "        \"\"\" Rectified Linear Unit (ReLU) activation function \"\"\"\n",
    "        return jnp.maximum(0, x)\n",
    "\n",
    "    def relu_layer(params, x):\n",
    "        \"\"\" Simple ReLu layer for single sample \"\"\"\n",
    "        return ReLU(np.dot(params[0], x) + params[1])\n",
    "\n",
    "    def batch_version_relu_layer(params, x):\n",
    "        \"\"\" Error prone batch version \"\"\"\n",
    "        return ReLU(np.dot(X, params[0].T) + params[1])\n",
    "\n",
    "    def vmap_relu_layer(params, x):\n",
    "        \"\"\" vmap version of the ReLU layer \"\"\"\n",
    "        return jit(vmap(relu_layer, in_axes=(None, 0), out_axes=0))\n",
    "\n",
    "    out = np.stack([relu_layer(params, X[i, :]) for i in range(X.shape[0])])\n",
    "    out = batch_version_relu_layer(params, X)\n",
    "    out = vmap_relu_layer(params, X)    "
   ]
  },
  {
   "cell_type": "code",
   "execution_count": 8,
   "metadata": {},
   "outputs": [
    {
     "data": {
      "text/plain": [
       "'\\nNOTE: running time comparison results differ from the ones on the blog post:\\nCPU times: user 45.3 ms, sys: 6.12 ms, total: 51.5 ms\\nWall time: 16 ms\\nCPU times: user 24.1 ms, sys: 3.28 ms, total: 27.4 ms\\nWall time: 6.85 ms\\nCPU times: user 149 ms, sys: 23 ms, total: 172 ms\\nWall time: 30.4 ms\\n'"
      ]
     },
     "execution_count": 8,
     "metadata": {},
     "output_type": "execute_result"
    }
   ],
   "source": [
    "# Test our functions locally\n",
    "# func_dot_time_comparison()\n",
    "\"\"\"\n",
    "NOTE: running time comparison results differ from the ones on the blog post:\n",
    "CPU times: user 45.3 ms, sys: 6.12 ms, total: 51.5 ms\n",
    "Wall time: 16 ms\n",
    "CPU times: user 24.1 ms, sys: 3.28 ms, total: 27.4 ms\n",
    "Wall time: 6.85 ms\n",
    "CPU times: user 149 ms, sys: 23 ms, total: 172 ms\n",
    "Wall time: 30.4 ms\n",
    "\"\"\"\n",
    "\n",
    "# func_jit()\n",
    "# func_grad()\n",
    "# func_vmap()"
   ]
  },
  {
   "cell_type": "code",
   "execution_count": null,
   "metadata": {},
   "outputs": [],
   "source": []
  },
  {
   "cell_type": "code",
   "execution_count": 14,
   "metadata": {},
   "outputs": [
    {
     "data": {
      "text/markdown": [
       "```python\n",
       "class Request:\n",
       "  id: str = 4fa6610a7a034987b40fb0e664830e39\n",
       "  requesting_user_verify_key: str = e63f655cceae01f1118fe0353c1a3f2898488b21677810fbc69a3b05cac4723e\n",
       "  approving_user_verify_key: str = None\n",
       "  request_time: str = 2023-05-11 09:47:05\n",
       "  approval_time: str = None\n",
       "  status: str = RequestStatus.PENDING\n",
       "  node_uid: str = 7bca415d13ed1ec841f0d0aede098dbb\n",
       "  request_hash: str = \"012f462d5b608c048b585b5bcff2f9b5545ea8bdd630529b51b6868fdc5fdc9f\"\n",
       "  changes: str = [syft.service.request.request.UserCodeStatusChange]\n",
       "\n",
       "```"
      ],
      "text/plain": [
       "syft.service.request.request.Request"
      ]
     },
     "execution_count": 14,
     "metadata": {},
     "output_type": "execute_result"
    }
   ],
   "source": [
    "# Submit the function for code execution\n",
    "# guest_domain_client.api.services.code.request_code_execution(func_dot_time_comparison)\n",
    "# guest_domain_client.api.services.code.request_code_execution(func_jit)\n",
    "# guest_domain_client.api.services.code.request_code_execution(func_grad)\n",
    "guest_domain_client.api.services.code.request_code_execution(func_vmap)\n"
   ]
  },
  {
   "attachments": {},
   "cell_type": "markdown",
   "metadata": {},
   "source": [
    "## Part 3\n",
    "### Training a MNIST Multilayer Perceptron in JAX"
   ]
  },
  {
   "cell_type": "code",
   "execution_count": 10,
   "metadata": {},
   "outputs": [
    {
     "name": "stdout",
     "output_type": "stream",
     "text": [
      "Requirement already satisfied: seaborn in /Users/antti/.pyenv/versions/3.10.4/envs/jax_1/lib/python3.10/site-packages (0.12.2)\n",
      "Requirement already satisfied: matplotlib!=3.6.1,>=3.1 in /Users/antti/.pyenv/versions/3.10.4/envs/jax_1/lib/python3.10/site-packages (from seaborn) (3.7.1)\n",
      "Requirement already satisfied: numpy!=1.24.0,>=1.17 in /Users/antti/.pyenv/versions/3.10.4/envs/jax_1/lib/python3.10/site-packages (from seaborn) (1.24.2)\n",
      "Requirement already satisfied: pandas>=0.25 in /Users/antti/.pyenv/versions/3.10.4/envs/jax_1/lib/python3.10/site-packages (from seaborn) (1.5.3)\n",
      "Requirement already satisfied: pillow>=6.2.0 in /Users/antti/.pyenv/versions/3.10.4/envs/jax_1/lib/python3.10/site-packages (from matplotlib!=3.6.1,>=3.1->seaborn) (9.5.0)\n",
      "Requirement already satisfied: cycler>=0.10 in /Users/antti/.pyenv/versions/3.10.4/envs/jax_1/lib/python3.10/site-packages (from matplotlib!=3.6.1,>=3.1->seaborn) (0.11.0)\n",
      "Requirement already satisfied: packaging>=20.0 in /Users/antti/.pyenv/versions/3.10.4/envs/jax_1/lib/python3.10/site-packages (from matplotlib!=3.6.1,>=3.1->seaborn) (23.1)\n",
      "Requirement already satisfied: kiwisolver>=1.0.1 in /Users/antti/.pyenv/versions/3.10.4/envs/jax_1/lib/python3.10/site-packages (from matplotlib!=3.6.1,>=3.1->seaborn) (1.4.4)\n",
      "Requirement already satisfied: contourpy>=1.0.1 in /Users/antti/.pyenv/versions/3.10.4/envs/jax_1/lib/python3.10/site-packages (from matplotlib!=3.6.1,>=3.1->seaborn) (1.0.7)\n",
      "Requirement already satisfied: fonttools>=4.22.0 in /Users/antti/.pyenv/versions/3.10.4/envs/jax_1/lib/python3.10/site-packages (from matplotlib!=3.6.1,>=3.1->seaborn) (4.39.4)\n",
      "Requirement already satisfied: pyparsing>=2.3.1 in /Users/antti/.pyenv/versions/3.10.4/envs/jax_1/lib/python3.10/site-packages (from matplotlib!=3.6.1,>=3.1->seaborn) (3.0.9)\n",
      "Requirement already satisfied: python-dateutil>=2.7 in /Users/antti/.pyenv/versions/3.10.4/envs/jax_1/lib/python3.10/site-packages (from matplotlib!=3.6.1,>=3.1->seaborn) (2.8.2)\n",
      "Requirement already satisfied: pytz>=2020.1 in /Users/antti/.pyenv/versions/3.10.4/envs/jax_1/lib/python3.10/site-packages (from pandas>=0.25->seaborn) (2023.3)\n",
      "Requirement already satisfied: six>=1.5 in /Users/antti/.pyenv/versions/3.10.4/envs/jax_1/lib/python3.10/site-packages (from python-dateutil>=2.7->matplotlib!=3.6.1,>=3.1->seaborn) (1.16.0)\n",
      "\u001b[33mWARNING: You are using pip version 22.0.4; however, version 23.1.2 is available.\n",
      "You should consider upgrading via the '/Users/antti/.pyenv/versions/3.10.4/envs/jax_1/bin/python -m pip install --upgrade pip' command.\u001b[0m\u001b[33m\n",
      "\u001b[0mNote: you may need to restart the kernel to use updated packages.\n"
     ]
    }
   ],
   "source": [
    "# seaborn used by helpers.py\n",
    "%pip install seaborn"
   ]
  },
  {
   "cell_type": "code",
   "execution_count": 11,
   "metadata": {},
   "outputs": [],
   "source": [
    "@sy.syft_function(input_policy=sy.ExactMatch(),\n",
    "                  output_policy=sy.SingleExecutionExactOutput())\n",
    "def func_mlp():\n",
    "    # Import some additional JAX and dataloader helpers\n",
    "    from jax.scipy.special import logsumexp\n",
    "    from jax.experimental import optimizers\n",
    "\n",
    "    # import torch\n",
    "    # from torchvision import datasets, transforms\n",
    "\n",
    "    import time\n",
    "    from helpers import plot_mnist_examples\n",
    "\n",
    "    "
   ]
  }
 ],
 "metadata": {
  "kernelspec": {
   "display_name": "syft",
   "language": "python",
   "name": "python3"
  },
  "language_info": {
   "codemirror_mode": {
    "name": "ipython",
    "version": 3
   },
   "file_extension": ".py",
   "mimetype": "text/x-python",
   "name": "python",
   "nbconvert_exporter": "python",
   "pygments_lexer": "ipython3",
   "version": "3.10.4"
  },
  "orig_nbformat": 4
 },
 "nbformat": 4,
 "nbformat_minor": 2
}

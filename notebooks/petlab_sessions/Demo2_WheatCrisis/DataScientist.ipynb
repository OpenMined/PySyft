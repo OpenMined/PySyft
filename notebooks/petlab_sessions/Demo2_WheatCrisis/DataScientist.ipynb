{
 "cells": [
  {
   "cell_type": "code",
   "execution_count": 1,
   "id": "2f5c2e21-8cdc-4c01-815f-5c458e02a9a2",
   "metadata": {},
   "outputs": [
    {
     "name": "stderr",
     "output_type": "stream",
     "text": [
      "/home/e/anaconda3/envs/Hagrid/lib/python3.9/site-packages/tqdm/auto.py:22: TqdmWarning: IProgress not found. Please update jupyter and ipywidgets. See https://ipywidgets.readthedocs.io/en/stable/user_install.html\n",
      "  from .autonotebook import tqdm as notebook_tqdm\n"
     ]
    }
   ],
   "source": [
    "import syft as sy"
   ]
  },
  {
   "cell_type": "code",
   "execution_count": 2,
   "id": "231b0a36-b56b-4f2a-97d4-c565181cad1c",
   "metadata": {},
   "outputs": [
    {
     "name": "stdout",
     "output_type": "stream",
     "text": [
      "Connecting to localhost... done! \t Logging into adp... done!\n"
     ]
    }
   ],
   "source": [
    "egypt_domain = sy.login(email=\"john@gov.us\", password=\"supplier_of_grains\", port=8081)"
   ]
  },
  {
   "cell_type": "code",
   "execution_count": 3,
   "id": "ed529a5d-8aea-497f-aab9-ccf9c480f320",
   "metadata": {},
   "outputs": [
    {
     "data": {
      "text/html": [
       "<style>\n",
       "                #myInput {\n",
       "                  background-position: 10px 12px; /* Position the search icon */\n",
       "                  background-repeat: no-repeat; /* Do not repeat the icon image */\n",
       "                  background-color: #bbb;\n",
       "                  width: 98%; /* Full-width */\n",
       "                  font-size: 14px; /* Increase font-size */\n",
       "                  padding: 12px 20px 12px 40px; /* Add some padding */\n",
       "                  border: 1px solid #ddd; /* Add a grey border */\n",
       "                  margin-bottom: 12px; /* Add some space below the input */\n",
       "                }\n",
       "\n",
       "                #myTable {\n",
       "                  border-collapse: collapse; /* Collapse borders */\n",
       "                  width: 100%; /* Full-width */\n",
       "                  border: 1px solid #ddd; /* Add a grey border */\n",
       "                  font-size: 14px; /* Increase font-size */\n",
       "                }\n",
       "\n",
       "                #myTable th, #myTable td {\n",
       "                  text-align: left; /* Left-align text */\n",
       "                  padding: 10px; /* Add padding */\n",
       "                }\n",
       "\n",
       "                #myTable tr {\n",
       "                  /* Add a bottom border to all table rows */\n",
       "                  border-bottom: 1px solid #ddd;\n",
       "                }\n",
       "\n",
       "                #myTable tr.header, #myTable tr:hover {\n",
       "                  /* Add a grey background color to the table header and on hover */\n",
       "                  background-color: #777;\n",
       "                }\n",
       "                </style>\n",
       "\n",
       "                <table id=\"myTable\" style=\"width:1000px\">\n",
       "                  <tr class=\"header\">\n",
       "                    <th style=\"width:30px\">Idx</th>\n",
       "                    <th style=\"width:20%;\">Name</th>\n",
       "                    <th style=\"width:35%;\">Description</th>\n",
       "                    <th style=\"width:20%;\">Assets</th>\n",
       "                    <th style=\"width:300px;\">Id</th>\n",
       "                  </tr>\n",
       "                \n",
       "\n",
       "          <tr>\n",
       "            <td>[0]</td>\n",
       "            <td>Egypt Wheat Imports 2020</td>\n",
       "            <td>This is a breakdown of the 5 biggest exporters of wheat to Egypt in 2020, by percentage share.</td>\n",
       "            <td>[\"Russian Federation\"] -> <class 'syft.core.tensor.tensor.Tensor'><br /><br />[\"Ukraine\"] -> <class 'syft.core.tensor.tensor.Tensor'><br /><br />[\"France\"] -> <class 'syft.core.tensor.tensor.Tensor'><br /><br />...<br /><br /></td>\n",
       "            <td>997e8e5e-dfd5-479e-a11a-db88b9ab7a1b</td>\n",
       "          </tr>\n",
       "\n",
       "          <tr>\n",
       "            <td>[1]</td>\n",
       "            <td>Egypt Annual Wheat Consumption</td>\n",
       "            <td>This is a breakdown of the annual consumption of wheat by Egyptian citizens from 2018-2022, in millions of metric tonnes.</td>\n",
       "            <td>[\"2018\"] -> <class 'syft.core.tensor.tensor.Tensor'><br /><br />[\"2019\"] -> <class 'syft.core.tensor.tensor.Tensor'><br /><br />[\"2020\"] -> <class 'syft.core.tensor.tensor.Tensor'><br /><br />...<br /><br /></td>\n",
       "            <td>8f013be7-1853-4251-9a6d-23804e633d07</td>\n",
       "          </tr>\n",
       "\n",
       "          <tr>\n",
       "            <td>[2]</td>\n",
       "            <td>Egypt Wheat Production 2020</td>\n",
       "            <td>Number of millions of metric tonnes harvested in Egypt per year from 2010 to present (2022).</td>\n",
       "            <td>[\"2010\"] -> <class 'syft.core.tensor.tensor.Tensor'><br /><br />[\"2011\"] -> <class 'syft.core.tensor.tensor.Tensor'><br /><br />[\"2012\"] -> <class 'syft.core.tensor.tensor.Tensor'><br /><br />...<br /><br /></td>\n",
       "            <td>64f5cb33-b667-4136-9681-0c2ba1dddec1</td>\n",
       "          </tr>\n",
       "        </table>\n",
       "\n",
       "        <script>\n",
       "        function myFunction() {\n",
       "          // Declare variables\n",
       "          var input, filter, table, tr, td, i, txtValue;\n",
       "          input = document.getElementById(\"myInput\");\n",
       "          filter = input.value.toUpperCase();\n",
       "          table = document.getElementById(\"myTable\");\n",
       "          tr = table.getElementsByTagName(\"tr\");\n",
       "\n",
       "          // Loop through all table rows, and hide those who don't match the search query\n",
       "          for (i = 0; i < tr.length; i++) {\n",
       "            name_td = tr[i].getElementsByTagName(\"td\")[1];\n",
       "            desc_td = tr[i].getElementsByTagName(\"td\")[2];\n",
       "            asset_td = tr[i].getElementsByTagName(\"td\")[3];\n",
       "            id_td = tr[i].getElementsByTagName(\"td\")[4];\n",
       "            if (name_td || desc_td || asset_td || id_td) {\n",
       "              name_txtValue = name_td.textContent || name_td.innerText;\n",
       "              desc_txtValue = desc_td.textContent || name_td.innerText;\n",
       "              asset_txtValue = asset_td.textContent || name_td.innerText;\n",
       "              id_txtValue = id_td.textContent || name_td.innerText;\n",
       "              name_bool = name_txtValue.toUpperCase().indexOf(filter) > -1;\n",
       "              desc_bool = desc_txtValue.toUpperCase().indexOf(filter) > -1;\n",
       "              asset_bool = asset_txtValue.toUpperCase().indexOf(filter) > -1;\n",
       "              id_bool = id_txtValue.toUpperCase().indexOf(filter) > -1;\n",
       "              if (name_bool || desc_bool || asset_bool || id_bool) {\n",
       "                tr[i].style.display = \"\";\n",
       "              } else {\n",
       "                tr[i].style.display = \"none\";\n",
       "              }\n",
       "            }\n",
       "          }\n",
       "        }\n",
       "        </script>"
      ],
      "text/plain": [
       "<syft.core.node.common.client_manager.dataset_api.DatasetRequestAPI at 0x7f31f4c23d30>"
      ]
     },
     "execution_count": 3,
     "metadata": {},
     "output_type": "execute_result"
    }
   ],
   "source": [
    "egypt_domain.datasets"
   ]
  },
  {
   "cell_type": "code",
   "execution_count": 4,
   "id": "b461612a-e28b-480e-9af8-c694c1cfda08",
   "metadata": {},
   "outputs": [
    {
     "data": {
      "text/plain": [
       "500.0"
      ]
     },
     "execution_count": 4,
     "metadata": {},
     "output_type": "execute_result"
    }
   ],
   "source": [
    "egypt_domain.privacy_budget"
   ]
  },
  {
   "cell_type": "code",
   "execution_count": 5,
   "id": "ae6748b0-7855-4197-b03a-38f3a771d127",
   "metadata": {},
   "outputs": [],
   "source": [
    "russian_imports = egypt_domain.datasets[0][\"Russian Federation\"]"
   ]
  },
  {
   "cell_type": "code",
   "execution_count": 6,
   "id": "f43bd0bd-dced-4f86-9342-de9cfeac1906",
   "metadata": {},
   "outputs": [],
   "source": [
    "ukrainian_imports = egypt_domain.datasets[0][\"Ukraine\"]"
   ]
  },
  {
   "cell_type": "code",
   "execution_count": 7,
   "id": "64231387-03b4-4a0d-9606-1224e58c1ff4",
   "metadata": {},
   "outputs": [],
   "source": [
    "total_disrupted_import_percentage = russian_imports + ukrainian_imports"
   ]
  },
  {
   "cell_type": "code",
   "execution_count": 8,
   "id": "23cb701c-d13b-48f1-bcf2-90239132797a",
   "metadata": {},
   "outputs": [
    {
     "data": {
      "text/plain": [
       "True"
      ]
     },
     "execution_count": 8,
     "metadata": {},
     "output_type": "execute_result"
    }
   ],
   "source": [
    "total_disrupted_import_percentage.exists"
   ]
  },
  {
   "cell_type": "code",
   "execution_count": 9,
   "id": "668edf62-edcf-4628-801f-903d0afb85f0",
   "metadata": {},
   "outputs": [],
   "source": [
    "result = total_disrupted_import_percentage.publish(sigma=3)"
   ]
  },
  {
   "cell_type": "code",
   "execution_count": 10,
   "id": "c69685ff-3262-47bb-b91b-920d2f48e15f",
   "metadata": {},
   "outputs": [
    {
     "data": {
      "text/plain": [
       "True"
      ]
     },
     "execution_count": 10,
     "metadata": {},
     "output_type": "execute_result"
    }
   ],
   "source": [
    "result.exists"
   ]
  },
  {
   "cell_type": "code",
   "execution_count": 11,
   "id": "ecc237d7-f4cf-422f-8a8b-bf542d3fe2df",
   "metadata": {},
   "outputs": [
    {
     "data": {
      "text/plain": [
       "array([88.10796361])"
      ]
     },
     "execution_count": 11,
     "metadata": {},
     "output_type": "execute_result"
    }
   ],
   "source": [
    "result.get()"
   ]
  },
  {
   "cell_type": "markdown",
   "id": "d54fe377-f2a7-4286-8ddd-072c5907629b",
   "metadata": {},
   "source": [
    "### Request More Privacy Budget"
   ]
  },
  {
   "cell_type": "code",
   "execution_count": 17,
   "id": "3c896897-8347-431d-affb-9739f97583fa",
   "metadata": {},
   "outputs": [
    {
     "name": "stdout",
     "output_type": "stream",
     "text": [
      "Requested 500 epsilon of budget. Call .privacy_budget to see if your budget has arrived!\n"
     ]
    }
   ],
   "source": [
    "egypt_domain.request_budget(eps=500, reason=\"Query might save millions of lives\")"
   ]
  },
  {
   "cell_type": "code",
   "execution_count": 18,
   "id": "ee7d384a-100b-438d-a13a-06984305a9b4",
   "metadata": {},
   "outputs": [
    {
     "data": {
      "text/plain": [
       "745.1269585701606"
      ]
     },
     "execution_count": 18,
     "metadata": {},
     "output_type": "execute_result"
    }
   ],
   "source": [
    "egypt_domain.privacy_budget"
   ]
  },
  {
   "cell_type": "code",
   "execution_count": 19,
   "id": "4f764e35-ca81-454c-88fb-90c4450e05cb",
   "metadata": {},
   "outputs": [],
   "source": [
    "russian_imports = egypt_domain.datasets[0][\"Russian Federation\"]"
   ]
  },
  {
   "cell_type": "code",
   "execution_count": 20,
   "id": "a798d07f-5f98-43cb-a7b3-06005e465aec",
   "metadata": {},
   "outputs": [],
   "source": [
    "ukrainian_imports = egypt_domain.datasets[0][\"Ukraine\"]"
   ]
  },
  {
   "cell_type": "code",
   "execution_count": 21,
   "id": "759bf885-2824-44b1-a82e-cd6070426e29",
   "metadata": {},
   "outputs": [],
   "source": [
    "total_disrupted_import_percentage = russian_imports + ukrainian_imports"
   ]
  },
  {
   "cell_type": "code",
   "execution_count": 22,
   "id": "51bf1307-8d68-40b6-9bb1-642b52c470ce",
   "metadata": {},
   "outputs": [
    {
     "data": {
      "text/plain": [
       "True"
      ]
     },
     "execution_count": 22,
     "metadata": {},
     "output_type": "execute_result"
    }
   ],
   "source": [
    "total_disrupted_import_percentage.exists"
   ]
  },
  {
   "cell_type": "code",
   "execution_count": 23,
   "id": "c19b126b-c4ff-4567-8bdb-8f053abb2657",
   "metadata": {},
   "outputs": [],
   "source": [
    "result = total_disrupted_import_percentage.publish(sigma=3)"
   ]
  },
  {
   "cell_type": "code",
   "execution_count": 24,
   "id": "aa41fffb-5105-4e7b-befd-30c6ac3f3869",
   "metadata": {},
   "outputs": [
    {
     "data": {
      "text/plain": [
       "True"
      ]
     },
     "execution_count": 24,
     "metadata": {},
     "output_type": "execute_result"
    }
   ],
   "source": [
    "result.exists"
   ]
  },
  {
   "cell_type": "code",
   "execution_count": 25,
   "id": "110e19e4-3935-496b-beec-803da195e2f1",
   "metadata": {},
   "outputs": [
    {
     "data": {
      "text/plain": [
       "array([80.92393901])"
      ]
     },
     "execution_count": 25,
     "metadata": {},
     "output_type": "execute_result"
    }
   ],
   "source": [
    "result.get()"
   ]
  },
  {
   "cell_type": "markdown",
   "id": "7379ba12-7c1a-49e0-85a8-2c72935412f0",
   "metadata": {},
   "source": [
    "#### Wheat Consumption"
   ]
  },
  {
   "cell_type": "code",
   "execution_count": 12,
   "id": "f2fc7c7f-1834-4052-806e-e60f1e32200c",
   "metadata": {},
   "outputs": [],
   "source": [
    "consumption_increase = egypt_domain.datasets[1][\"2021\"] - egypt_domain.datasets[1][\"2020\"]"
   ]
  },
  {
   "cell_type": "code",
   "execution_count": 15,
   "id": "07e6250d-8b16-45a8-85c3-b8410c92d5d4",
   "metadata": {},
   "outputs": [],
   "source": [
    "consumption = consumption_increase.publish(sigma=3)"
   ]
  },
  {
   "cell_type": "code",
   "execution_count": 16,
   "id": "03bd068c-0a66-4d8c-82e3-3a0df6350490",
   "metadata": {},
   "outputs": [
    {
     "data": {
      "text/plain": [
       "True"
      ]
     },
     "execution_count": 16,
     "metadata": {},
     "output_type": "execute_result"
    }
   ],
   "source": [
    "consumption.exists"
   ]
  },
  {
   "cell_type": "code",
   "execution_count": 18,
   "id": "0318e812-0554-459a-9012-e388125b6f11",
   "metadata": {},
   "outputs": [
    {
     "data": {
      "text/plain": [
       "array([1.31830666])"
      ]
     },
     "execution_count": 18,
     "metadata": {},
     "output_type": "execute_result"
    }
   ],
   "source": [
    "consumption.get()"
   ]
  },
  {
   "cell_type": "code",
   "execution_count": 19,
   "id": "8aa4fd65-7ef6-44a4-867e-27efe39c68d0",
   "metadata": {},
   "outputs": [
    {
     "data": {
      "text/plain": [
       "119.07711399325856"
      ]
     },
     "execution_count": 19,
     "metadata": {},
     "output_type": "execute_result"
    }
   ],
   "source": [
    "egypt_domain.privacy_budget"
   ]
  },
  {
   "cell_type": "code",
   "execution_count": null,
   "id": "309d673d-96ce-4151-b876-964436c7655e",
   "metadata": {},
   "outputs": [],
   "source": []
  }
 ],
 "metadata": {
  "kernelspec": {
   "display_name": "Python 3 (ipykernel)",
   "language": "python",
   "name": "python3"
  },
  "language_info": {
   "codemirror_mode": {
    "name": "ipython",
    "version": 3
   },
   "file_extension": ".py",
   "mimetype": "text/x-python",
   "name": "python",
   "nbconvert_exporter": "python",
   "pygments_lexer": "ipython3",
   "version": "3.9.7"
  }
 },
 "nbformat": 4,
 "nbformat_minor": 5
}

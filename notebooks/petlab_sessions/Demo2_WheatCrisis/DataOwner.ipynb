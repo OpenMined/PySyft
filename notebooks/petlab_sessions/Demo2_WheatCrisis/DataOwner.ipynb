{
 "cells": [
  {
   "cell_type": "code",
   "execution_count": 1,
   "id": "34ec8248-567b-48cb-a8f9-a55ecde2eedc",
   "metadata": {},
   "outputs": [
    {
     "name": "stderr",
     "output_type": "stream",
     "text": [
      "/home/e/anaconda3/envs/Hagrid/lib/python3.9/site-packages/tqdm/auto.py:22: TqdmWarning: IProgress not found. Please update jupyter and ipywidgets. See https://ipywidgets.readthedocs.io/en/stable/user_install.html\n",
      "  from .autonotebook import tqdm as notebook_tqdm\n"
     ]
    }
   ],
   "source": [
    "import syft as sy\n",
    "import numpy as np"
   ]
  },
  {
   "cell_type": "markdown",
   "id": "356b17e8-39a1-4097-9c8c-42e1297f7665",
   "metadata": {},
   "source": [
    "### Log into Domain Node"
   ]
  },
  {
   "cell_type": "code",
   "execution_count": 2,
   "id": "5355fbbe-46ec-4b4d-b284-cb63782d97f4",
   "metadata": {},
   "outputs": [
    {
     "name": "stdout",
     "output_type": "stream",
     "text": [
      "WARNING: CHANGE YOUR USERNAME AND PASSWORD!!! \n",
      "\n",
      "Anyone can login as an admin to your node right now because your password is still the default PySyft username and password!!!\n",
      "\n",
      "Connecting to localhost... done! \t Logging into adp... done!\n"
     ]
    }
   ],
   "source": [
    "domain = sy.login(email=\"info@openmined.org\", password=\"changethis\", port=8081)"
   ]
  },
  {
   "cell_type": "code",
   "execution_count": 3,
   "id": "d6f20815-06be-4c2d-bc18-03bd7c3a1c6e",
   "metadata": {},
   "outputs": [
    {
     "data": {
      "text/html": [
       "(no datasets found)"
      ],
      "text/plain": [
       "<syft.core.node.common.client_manager.dataset_api.DatasetRequestAPI at 0x7fa8c5fd9d60>"
      ]
     },
     "execution_count": 3,
     "metadata": {},
     "output_type": "execute_result"
    }
   ],
   "source": [
    "domain.datasets"
   ]
  },
  {
   "cell_type": "markdown",
   "id": "e69e5fb0-1397-4b12-8738-dac0ae4c8594",
   "metadata": {},
   "source": [
    "### Prepare Datasets for Upload"
   ]
  },
  {
   "cell_type": "code",
   "execution_count": 4,
   "id": "8ff7fa7c-6d33-455b-ab6a-016ac2f205ac",
   "metadata": {},
   "outputs": [],
   "source": [
    "import pandas as pd"
   ]
  },
  {
   "cell_type": "code",
   "execution_count": 5,
   "id": "77a0373b-0e53-43d5-8a58-5def803eb427",
   "metadata": {},
   "outputs": [
    {
     "data": {
      "text/html": [
       "<div>\n",
       "<style scoped>\n",
       "    .dataframe tbody tr th:only-of-type {\n",
       "        vertical-align: middle;\n",
       "    }\n",
       "\n",
       "    .dataframe tbody tr th {\n",
       "        vertical-align: top;\n",
       "    }\n",
       "\n",
       "    .dataframe thead th {\n",
       "        text-align: right;\n",
       "    }\n",
       "</style>\n",
       "<table border=\"1\" class=\"dataframe\">\n",
       "  <thead>\n",
       "    <tr style=\"text-align: right;\">\n",
       "      <th></th>\n",
       "      <th>country</th>\n",
       "      <th>percentage_share_wheat_import</th>\n",
       "    </tr>\n",
       "  </thead>\n",
       "  <tbody>\n",
       "    <tr>\n",
       "      <th>0</th>\n",
       "      <td>Russian Federation</td>\n",
       "      <td>61.0</td>\n",
       "    </tr>\n",
       "    <tr>\n",
       "      <th>1</th>\n",
       "      <td>Ukraine</td>\n",
       "      <td>24.0</td>\n",
       "    </tr>\n",
       "    <tr>\n",
       "      <th>2</th>\n",
       "      <td>France</td>\n",
       "      <td>6.0</td>\n",
       "    </tr>\n",
       "    <tr>\n",
       "      <th>3</th>\n",
       "      <td>Romania</td>\n",
       "      <td>4.0</td>\n",
       "    </tr>\n",
       "    <tr>\n",
       "      <th>4</th>\n",
       "      <td>Australia</td>\n",
       "      <td>1.7</td>\n",
       "    </tr>\n",
       "  </tbody>\n",
       "</table>\n",
       "</div>"
      ],
      "text/plain": [
       "              country  percentage_share_wheat_import\n",
       "0  Russian Federation                           61.0\n",
       "1             Ukraine                           24.0\n",
       "2              France                            6.0\n",
       "3             Romania                            4.0\n",
       "4           Australia                            1.7"
      ]
     },
     "execution_count": 5,
     "metadata": {},
     "output_type": "execute_result"
    }
   ],
   "source": [
    "# Just for Egypt in 2020\n",
    "import_data = pd.read_csv(\"wheat_imported.csv\")\n",
    "import_data.head()"
   ]
  },
  {
   "cell_type": "code",
   "execution_count": 6,
   "id": "52724d87-3de6-4f56-be4c-313660f85c63",
   "metadata": {},
   "outputs": [],
   "source": [
    "imports_dataset = dict()\n",
    "for country, share in zip(import_data[\"country\"], import_data[\"percentage_share_wheat_import\"]):\n",
    "    imports_dataset[country] = sy.Tensor(np.array([share], dtype=np.int64)).private(min_val=0, max_val=100, data_subjects=[country])"
   ]
  },
  {
   "cell_type": "code",
   "execution_count": 7,
   "id": "91d325fc-4464-4e7c-93ec-425a25f48697",
   "metadata": {},
   "outputs": [
    {
     "name": "stderr",
     "output_type": "stream",
     "text": [
      "kj/filesystem-disk-unix.c++:1690: warning: PWD environment variable doesn't match current directory; pwd = /home/e/PycharmProjects/PySyft/notebooks/petlab_sessions\n"
     ]
    },
    {
     "name": "stdout",
     "output_type": "stream",
     "text": [
      "Loading dataset... uploading...🚀                                                                                                                                             "
     ]
    },
    {
     "name": "stderr",
     "output_type": "stream",
     "text": [
      "Uploading `Russian Federation`: 100%|\u001b[32m█████████████████████████████████\u001b[0m| 1/1 [00:00<00:00,  4.83it/s]\u001b[0m\n",
      "Uploading `Ukraine`: 100%|\u001b[32m███████████████████████████████████████████\u001b[0m| 1/1 [00:00<00:00, 197.11it/s]\u001b[0m\n",
      "Uploading `France`: 100%|\u001b[32m████████████████████████████████████████████\u001b[0m| 1/1 [00:00<00:00, 160.39it/s]\u001b[0m\n",
      "Uploading `Romania`: 100%|\u001b[32m███████████████████████████████████████████\u001b[0m| 1/1 [00:00<00:00, 236.75it/s]\u001b[0m\n",
      "Uploading `Australia`: 100%|\u001b[32m█████████████████████████████████████████\u001b[0m| 1/1 [00:00<00:00, 182.37it/s]\u001b[0m\n"
     ]
    },
    {
     "name": "stdout",
     "output_type": "stream",
     "text": [
      "Dataset is uploaded successfully !!! 🎉\n",
      "\n",
      "Run `<your client variable>.datasets` to see your new dataset loaded into your machine!\n"
     ]
    }
   ],
   "source": [
    "domain.load_dataset(\n",
    "    assets=imports_dataset,\n",
    "    name=\"Egypt Wheat Imports 2020\",\n",
    "    description=\"This is a breakdown of the 5 biggest exporters of wheat to Egypt in 2020, by percentage share.\"\n",
    ")"
   ]
  },
  {
   "cell_type": "code",
   "execution_count": 8,
   "id": "14299603-d2a9-4c47-aaf9-8a47d1b5e2f9",
   "metadata": {},
   "outputs": [
    {
     "data": {
      "text/html": [
       "<div>\n",
       "<style scoped>\n",
       "    .dataframe tbody tr th:only-of-type {\n",
       "        vertical-align: middle;\n",
       "    }\n",
       "\n",
       "    .dataframe tbody tr th {\n",
       "        vertical-align: top;\n",
       "    }\n",
       "\n",
       "    .dataframe thead th {\n",
       "        text-align: right;\n",
       "    }\n",
       "</style>\n",
       "<table border=\"1\" class=\"dataframe\">\n",
       "  <thead>\n",
       "    <tr style=\"text-align: right;\">\n",
       "      <th></th>\n",
       "      <th>years</th>\n",
       "      <th>wheat_consumption</th>\n",
       "    </tr>\n",
       "  </thead>\n",
       "  <tbody>\n",
       "    <tr>\n",
       "      <th>0</th>\n",
       "      <td>2018</td>\n",
       "      <td>19.8</td>\n",
       "    </tr>\n",
       "    <tr>\n",
       "      <th>1</th>\n",
       "      <td>2019</td>\n",
       "      <td>20.1</td>\n",
       "    </tr>\n",
       "    <tr>\n",
       "      <th>2</th>\n",
       "      <td>2020</td>\n",
       "      <td>20.3</td>\n",
       "    </tr>\n",
       "    <tr>\n",
       "      <th>3</th>\n",
       "      <td>2021</td>\n",
       "      <td>20.6</td>\n",
       "    </tr>\n",
       "    <tr>\n",
       "      <th>4</th>\n",
       "      <td>2022</td>\n",
       "      <td>20.5</td>\n",
       "    </tr>\n",
       "  </tbody>\n",
       "</table>\n",
       "</div>"
      ],
      "text/plain": [
       "   years  wheat_consumption\n",
       "0   2018               19.8\n",
       "1   2019               20.1\n",
       "2   2020               20.3\n",
       "3   2021               20.6\n",
       "4   2022               20.5"
      ]
     },
     "execution_count": 8,
     "metadata": {},
     "output_type": "execute_result"
    }
   ],
   "source": [
    "consumption_data = pd.read_csv(\"wheat_consumed.csv\")\n",
    "consumption_data.head()"
   ]
  },
  {
   "cell_type": "code",
   "execution_count": 9,
   "id": "aa99367b-39a5-430c-8d34-d6e3dbcdaa01",
   "metadata": {},
   "outputs": [],
   "source": [
    "consumption_dataset = dict()\n",
    "for year, amount in zip(consumption_data[\"years\"], consumption_data[\"wheat_consumption\"]):\n",
    "    consumption_dataset[str(year)] = sy.Tensor(np.array([amount], dtype=np.int64)).private(min_val=0, max_val=100, data_subjects=[\"Egypt\"])"
   ]
  },
  {
   "cell_type": "code",
   "execution_count": 10,
   "id": "72b57ca0-c9d4-4024-8ec5-27baa311d47c",
   "metadata": {},
   "outputs": [
    {
     "name": "stdout",
     "output_type": "stream",
     "text": [
      "Loading dataset... uploading...🚀                                                                                                                                             "
     ]
    },
    {
     "name": "stderr",
     "output_type": "stream",
     "text": [
      "Uploading `2018`: 100%|\u001b[32m██████████████████████████████████████████████\u001b[0m| 1/1 [00:00<00:00, 197.87it/s]\u001b[0m\n",
      "Uploading `2019`: 100%|\u001b[32m██████████████████████████████████████████████\u001b[0m| 1/1 [00:00<00:00, 194.38it/s]\u001b[0m\n",
      "Uploading `2020`: 100%|\u001b[32m██████████████████████████████████████████████\u001b[0m| 1/1 [00:00<00:00, 130.44it/s]\u001b[0m\n",
      "Uploading `2021`: 100%|\u001b[32m██████████████████████████████████████████████\u001b[0m| 1/1 [00:00<00:00, 237.17it/s]\u001b[0m\n",
      "Uploading `2022`: 100%|\u001b[32m██████████████████████████████████████████████\u001b[0m| 1/1 [00:00<00:00, 229.98it/s]\u001b[0m\n"
     ]
    },
    {
     "name": "stdout",
     "output_type": "stream",
     "text": [
      "Dataset is uploaded successfully !!! 🎉\n",
      "\n",
      "Run `<your client variable>.datasets` to see your new dataset loaded into your machine!\n"
     ]
    }
   ],
   "source": [
    "domain.load_dataset(\n",
    "    assets=consumption_dataset,\n",
    "    name=\"Egypt Annual Wheat Consumption\",\n",
    "    description=\"This is a breakdown of the annual consumption of wheat by Egyptian citizens from 2018-2022, in millions of metric tonnes.\"\n",
    ")"
   ]
  },
  {
   "cell_type": "code",
   "execution_count": 11,
   "id": "03a93d72-c8bc-4765-b213-d8b3a4bb91e2",
   "metadata": {},
   "outputs": [
    {
     "data": {
      "text/html": [
       "<div>\n",
       "<style scoped>\n",
       "    .dataframe tbody tr th:only-of-type {\n",
       "        vertical-align: middle;\n",
       "    }\n",
       "\n",
       "    .dataframe tbody tr th {\n",
       "        vertical-align: top;\n",
       "    }\n",
       "\n",
       "    .dataframe thead th {\n",
       "        text-align: right;\n",
       "    }\n",
       "</style>\n",
       "<table border=\"1\" class=\"dataframe\">\n",
       "  <thead>\n",
       "    <tr style=\"text-align: right;\">\n",
       "      <th></th>\n",
       "      <th>years</th>\n",
       "      <th>wheat_production</th>\n",
       "    </tr>\n",
       "  </thead>\n",
       "  <tbody>\n",
       "    <tr>\n",
       "      <th>0</th>\n",
       "      <td>2010</td>\n",
       "      <td>7.20</td>\n",
       "    </tr>\n",
       "    <tr>\n",
       "      <th>1</th>\n",
       "      <td>2011</td>\n",
       "      <td>8.40</td>\n",
       "    </tr>\n",
       "    <tr>\n",
       "      <th>2</th>\n",
       "      <td>2012</td>\n",
       "      <td>8.50</td>\n",
       "    </tr>\n",
       "    <tr>\n",
       "      <th>3</th>\n",
       "      <td>2013</td>\n",
       "      <td>8.25</td>\n",
       "    </tr>\n",
       "    <tr>\n",
       "      <th>4</th>\n",
       "      <td>2014</td>\n",
       "      <td>8.30</td>\n",
       "    </tr>\n",
       "  </tbody>\n",
       "</table>\n",
       "</div>"
      ],
      "text/plain": [
       "   years  wheat_production\n",
       "0   2010              7.20\n",
       "1   2011              8.40\n",
       "2   2012              8.50\n",
       "3   2013              8.25\n",
       "4   2014              8.30"
      ]
     },
     "execution_count": 11,
     "metadata": {},
     "output_type": "execute_result"
    }
   ],
   "source": [
    "produced_data = pd.read_csv(\"wheat_produced.csv\")\n",
    "produced_data.head()"
   ]
  },
  {
   "cell_type": "code",
   "execution_count": 12,
   "id": "1fbb9d1a-cfb1-4d0c-b967-b3ab4790d47e",
   "metadata": {},
   "outputs": [],
   "source": [
    "production_dataset = dict()\n",
    "for year, amount in zip(produced_data[\"years\"], produced_data[\"wheat_production\"]):\n",
    "    production_dataset[str(year)] = sy.Tensor(np.array([amount], dtype=np.int64)).private(min_val=0, max_val=10, data_subjects=[\"Egypt\"])"
   ]
  },
  {
   "cell_type": "code",
   "execution_count": 13,
   "id": "6c6117a3-cb8d-4523-b754-c9fda0b8db8b",
   "metadata": {},
   "outputs": [
    {
     "name": "stdout",
     "output_type": "stream",
     "text": [
      "Loading dataset... uploading...🚀                                                                                                                                             "
     ]
    },
    {
     "name": "stderr",
     "output_type": "stream",
     "text": [
      "Uploading `2010`: 100%|\u001b[32m██████████████████████████████████████████████\u001b[0m| 1/1 [00:00<00:00, 159.40it/s]\u001b[0m\n",
      "Uploading `2011`: 100%|\u001b[32m██████████████████████████████████████████████\u001b[0m| 1/1 [00:00<00:00, 206.79it/s]\u001b[0m\n",
      "Uploading `2012`: 100%|\u001b[32m██████████████████████████████████████████████\u001b[0m| 1/1 [00:00<00:00, 223.16it/s]\u001b[0m\n",
      "Uploading `2013`: 100%|\u001b[32m██████████████████████████████████████████████\u001b[0m| 1/1 [00:00<00:00, 244.08it/s]\u001b[0m\n",
      "Uploading `2014`: 100%|\u001b[32m██████████████████████████████████████████████\u001b[0m| 1/1 [00:00<00:00, 217.02it/s]\u001b[0m\n",
      "Uploading `2015`: 100%|\u001b[32m██████████████████████████████████████████████\u001b[0m| 1/1 [00:00<00:00, 246.75it/s]\u001b[0m\n",
      "Uploading `2016`: 100%|\u001b[32m██████████████████████████████████████████████\u001b[0m| 1/1 [00:00<00:00, 220.20it/s]\u001b[0m\n",
      "Uploading `2017`: 100%|\u001b[32m██████████████████████████████████████████████\u001b[0m| 1/1 [00:00<00:00, 242.11it/s]\u001b[0m\n",
      "Uploading `2018`: 100%|\u001b[32m██████████████████████████████████████████████\u001b[0m| 1/1 [00:00<00:00, 232.99it/s]\u001b[0m\n",
      "Uploading `2019`: 100%|\u001b[32m██████████████████████████████████████████████\u001b[0m| 1/1 [00:00<00:00, 205.90it/s]\u001b[0m\n",
      "Uploading `2020`: 100%|\u001b[32m██████████████████████████████████████████████\u001b[0m| 1/1 [00:00<00:00, 216.10it/s]\u001b[0m\n",
      "Uploading `2021`: 100%|\u001b[32m██████████████████████████████████████████████\u001b[0m| 1/1 [00:00<00:00, 238.15it/s]\u001b[0m\n"
     ]
    },
    {
     "name": "stdout",
     "output_type": "stream",
     "text": [
      "Dataset is uploaded successfully !!! 🎉\n",
      "\n",
      "Run `<your client variable>.datasets` to see your new dataset loaded into your machine!\n"
     ]
    }
   ],
   "source": [
    "domain.load_dataset(\n",
    "    assets=production_dataset,\n",
    "    name=\"Egypt Wheat Production 2020\",\n",
    "    description=\"Number of millions of metric tonnes harvested in Egypt per year from 2010 to present (2022).\"\n",
    ")"
   ]
  },
  {
   "cell_type": "code",
   "execution_count": 14,
   "id": "11fe8a19-7b05-417a-b034-fadb2d635a59",
   "metadata": {},
   "outputs": [
    {
     "data": {
      "text/html": [
       "<style>\n",
       "                #myInput {\n",
       "                  background-position: 10px 12px; /* Position the search icon */\n",
       "                  background-repeat: no-repeat; /* Do not repeat the icon image */\n",
       "                  background-color: #bbb;\n",
       "                  width: 98%; /* Full-width */\n",
       "                  font-size: 14px; /* Increase font-size */\n",
       "                  padding: 12px 20px 12px 40px; /* Add some padding */\n",
       "                  border: 1px solid #ddd; /* Add a grey border */\n",
       "                  margin-bottom: 12px; /* Add some space below the input */\n",
       "                }\n",
       "\n",
       "                #myTable {\n",
       "                  border-collapse: collapse; /* Collapse borders */\n",
       "                  width: 100%; /* Full-width */\n",
       "                  border: 1px solid #ddd; /* Add a grey border */\n",
       "                  font-size: 14px; /* Increase font-size */\n",
       "                }\n",
       "\n",
       "                #myTable th, #myTable td {\n",
       "                  text-align: left; /* Left-align text */\n",
       "                  padding: 10px; /* Add padding */\n",
       "                }\n",
       "\n",
       "                #myTable tr {\n",
       "                  /* Add a bottom border to all table rows */\n",
       "                  border-bottom: 1px solid #ddd;\n",
       "                }\n",
       "\n",
       "                #myTable tr.header, #myTable tr:hover {\n",
       "                  /* Add a grey background color to the table header and on hover */\n",
       "                  background-color: #777;\n",
       "                }\n",
       "                </style>\n",
       "\n",
       "                <table id=\"myTable\" style=\"width:1000px\">\n",
       "                  <tr class=\"header\">\n",
       "                    <th style=\"width:30px\">Idx</th>\n",
       "                    <th style=\"width:20%;\">Name</th>\n",
       "                    <th style=\"width:35%;\">Description</th>\n",
       "                    <th style=\"width:20%;\">Assets</th>\n",
       "                    <th style=\"width:300px;\">Id</th>\n",
       "                  </tr>\n",
       "                \n",
       "\n",
       "          <tr>\n",
       "            <td>[0]</td>\n",
       "            <td>Egypt Wheat Imports 2020</td>\n",
       "            <td>This is a breakdown of the 5 biggest exporters of wheat to Egypt in 2020, by percentage share.</td>\n",
       "            <td>[\"Russian Federation\"] -> <class 'syft.core.tensor.tensor.Tensor'><br /><br />[\"Ukraine\"] -> <class 'syft.core.tensor.tensor.Tensor'><br /><br />[\"France\"] -> <class 'syft.core.tensor.tensor.Tensor'><br /><br />...<br /><br /></td>\n",
       "            <td>997e8e5e-dfd5-479e-a11a-db88b9ab7a1b</td>\n",
       "          </tr>\n",
       "\n",
       "          <tr>\n",
       "            <td>[1]</td>\n",
       "            <td>Egypt Annual Wheat Consumption</td>\n",
       "            <td>This is a breakdown of the annual consumption of wheat by Egyptian citizens from 2018-2022, in millions of metric tonnes.</td>\n",
       "            <td>[\"2018\"] -> <class 'syft.core.tensor.tensor.Tensor'><br /><br />[\"2019\"] -> <class 'syft.core.tensor.tensor.Tensor'><br /><br />[\"2020\"] -> <class 'syft.core.tensor.tensor.Tensor'><br /><br />...<br /><br /></td>\n",
       "            <td>8f013be7-1853-4251-9a6d-23804e633d07</td>\n",
       "          </tr>\n",
       "\n",
       "          <tr>\n",
       "            <td>[2]</td>\n",
       "            <td>Egypt Wheat Production 2020</td>\n",
       "            <td>Number of millions of metric tonnes harvested in Egypt per year from 2010 to present (2022).</td>\n",
       "            <td>[\"2010\"] -> <class 'syft.core.tensor.tensor.Tensor'><br /><br />[\"2011\"] -> <class 'syft.core.tensor.tensor.Tensor'><br /><br />[\"2012\"] -> <class 'syft.core.tensor.tensor.Tensor'><br /><br />...<br /><br /></td>\n",
       "            <td>64f5cb33-b667-4136-9681-0c2ba1dddec1</td>\n",
       "          </tr>\n",
       "        </table>\n",
       "\n",
       "        <script>\n",
       "        function myFunction() {\n",
       "          // Declare variables\n",
       "          var input, filter, table, tr, td, i, txtValue;\n",
       "          input = document.getElementById(\"myInput\");\n",
       "          filter = input.value.toUpperCase();\n",
       "          table = document.getElementById(\"myTable\");\n",
       "          tr = table.getElementsByTagName(\"tr\");\n",
       "\n",
       "          // Loop through all table rows, and hide those who don't match the search query\n",
       "          for (i = 0; i < tr.length; i++) {\n",
       "            name_td = tr[i].getElementsByTagName(\"td\")[1];\n",
       "            desc_td = tr[i].getElementsByTagName(\"td\")[2];\n",
       "            asset_td = tr[i].getElementsByTagName(\"td\")[3];\n",
       "            id_td = tr[i].getElementsByTagName(\"td\")[4];\n",
       "            if (name_td || desc_td || asset_td || id_td) {\n",
       "              name_txtValue = name_td.textContent || name_td.innerText;\n",
       "              desc_txtValue = desc_td.textContent || name_td.innerText;\n",
       "              asset_txtValue = asset_td.textContent || name_td.innerText;\n",
       "              id_txtValue = id_td.textContent || name_td.innerText;\n",
       "              name_bool = name_txtValue.toUpperCase().indexOf(filter) > -1;\n",
       "              desc_bool = desc_txtValue.toUpperCase().indexOf(filter) > -1;\n",
       "              asset_bool = asset_txtValue.toUpperCase().indexOf(filter) > -1;\n",
       "              id_bool = id_txtValue.toUpperCase().indexOf(filter) > -1;\n",
       "              if (name_bool || desc_bool || asset_bool || id_bool) {\n",
       "                tr[i].style.display = \"\";\n",
       "              } else {\n",
       "                tr[i].style.display = \"none\";\n",
       "              }\n",
       "            }\n",
       "          }\n",
       "        }\n",
       "        </script>"
      ],
      "text/plain": [
       "<syft.core.node.common.client_manager.dataset_api.DatasetRequestAPI at 0x7fa8c5fd9d60>"
      ]
     },
     "execution_count": 14,
     "metadata": {},
     "output_type": "execute_result"
    }
   ],
   "source": [
    "domain.datasets"
   ]
  },
  {
   "cell_type": "code",
   "execution_count": 15,
   "id": "ea76d971-de38-41f2-ba5d-bda11d4e6c01",
   "metadata": {},
   "outputs": [
    {
     "name": "stdout",
     "output_type": "stream",
     "text": [
      "User created successfully!\n"
     ]
    },
    {
     "data": {
      "text/plain": [
       "{'name': 'John Doe',\n",
       " 'email': 'john@gov.us',\n",
       " 'password': 'supplier_of_grains',\n",
       " 'url': 'localhost'}"
      ]
     },
     "execution_count": 15,
     "metadata": {},
     "output_type": "execute_result"
    }
   ],
   "source": [
    "domain.create_user(name=\"John Doe\", email=\"john@gov.us\", password=\"supplier_of_grains\", budget=500)"
   ]
  },
  {
   "cell_type": "code",
   "execution_count": 16,
   "id": "064bb07c-7b82-4004-bc43-5d90e2748945",
   "metadata": {},
   "outputs": [
    {
     "data": {
      "text/html": [
       "<div>\n",
       "<style scoped>\n",
       "    .dataframe tbody tr th:only-of-type {\n",
       "        vertical-align: middle;\n",
       "    }\n",
       "\n",
       "    .dataframe tbody tr th {\n",
       "        vertical-align: top;\n",
       "    }\n",
       "\n",
       "    .dataframe thead th {\n",
       "        text-align: right;\n",
       "    }\n",
       "</style>\n",
       "<table border=\"1\" class=\"dataframe\">\n",
       "  <thead>\n",
       "    <tr style=\"text-align: right;\">\n",
       "      <th></th>\n",
       "      <th>id</th>\n",
       "      <th>email</th>\n",
       "      <th>name</th>\n",
       "      <th>budget</th>\n",
       "      <th>verify_key</th>\n",
       "      <th>role</th>\n",
       "      <th>added_by</th>\n",
       "      <th>website</th>\n",
       "      <th>institution</th>\n",
       "      <th>daa_pdf</th>\n",
       "      <th>created_at</th>\n",
       "      <th>budget_spent</th>\n",
       "    </tr>\n",
       "  </thead>\n",
       "  <tbody>\n",
       "    <tr>\n",
       "      <th>0</th>\n",
       "      <td>1</td>\n",
       "      <td>info@openmined.org</td>\n",
       "      <td>Jane Doe</td>\n",
       "      <td>5.55</td>\n",
       "      <td>1c3cdc10157d949c0b4d6b643a32213b2af843a17e8c97...</td>\n",
       "      <td>Owner</td>\n",
       "      <td>None</td>\n",
       "      <td>None</td>\n",
       "      <td>None</td>\n",
       "      <td>NaN</td>\n",
       "      <td>2022-07-22 04:50:11.878688</td>\n",
       "      <td>5.55</td>\n",
       "    </tr>\n",
       "    <tr>\n",
       "      <th>1</th>\n",
       "      <td>2</td>\n",
       "      <td>john@gov.us</td>\n",
       "      <td>John Doe</td>\n",
       "      <td>500.00</td>\n",
       "      <td>bf23cb7acec1fd09dff9b8cf80e4fc04e53b082f110ed7...</td>\n",
       "      <td>Data Scientist</td>\n",
       "      <td>Jane Doe</td>\n",
       "      <td></td>\n",
       "      <td></td>\n",
       "      <td>1.0</td>\n",
       "      <td>2022-07-22 04:52:58.635601</td>\n",
       "      <td>500.00</td>\n",
       "    </tr>\n",
       "  </tbody>\n",
       "</table>\n",
       "</div>"
      ],
      "text/plain": [
       "<syft.core.node.common.client_manager.user_api.UserRequestAPI at 0x7fa8c5fd9b80>"
      ]
     },
     "execution_count": 16,
     "metadata": {},
     "output_type": "execute_result"
    }
   ],
   "source": [
    "domain.users"
   ]
  },
  {
   "cell_type": "code",
   "execution_count": 17,
   "id": "39db589d-3641-4d82-a1c1-2f6b56027e1f",
   "metadata": {},
   "outputs": [
    {
     "data": {
      "text/html": [
       "<div>\n",
       "<style scoped>\n",
       "    .dataframe tbody tr th:only-of-type {\n",
       "        vertical-align: middle;\n",
       "    }\n",
       "\n",
       "    .dataframe tbody tr th {\n",
       "        vertical-align: top;\n",
       "    }\n",
       "\n",
       "    .dataframe thead th {\n",
       "        text-align: right;\n",
       "    }\n",
       "</style>\n",
       "<table border=\"1\" class=\"dataframe\">\n",
       "  <thead>\n",
       "    <tr style=\"text-align: right;\">\n",
       "      <th></th>\n",
       "    </tr>\n",
       "  </thead>\n",
       "  <tbody>\n",
       "  </tbody>\n",
       "</table>\n",
       "</div>"
      ],
      "text/plain": [
       "[]"
      ]
     },
     "execution_count": 17,
     "metadata": {},
     "output_type": "execute_result"
    }
   ],
   "source": [
    "domain.requests"
   ]
  },
  {
   "cell_type": "code",
   "execution_count": 39,
   "id": "82346bc5-2cfd-48b7-9fdf-aa42ab2d20cb",
   "metadata": {},
   "outputs": [],
   "source": [
    "domain.requests[-1].accept()"
   ]
  },
  {
   "cell_type": "code",
   "execution_count": 40,
   "id": "4586014c-8878-4d4c-a4e7-127840647cc5",
   "metadata": {},
   "outputs": [
    {
     "data": {
      "text/html": [
       "<div>\n",
       "<style scoped>\n",
       "    .dataframe tbody tr th:only-of-type {\n",
       "        vertical-align: middle;\n",
       "    }\n",
       "\n",
       "    .dataframe tbody tr th {\n",
       "        vertical-align: top;\n",
       "    }\n",
       "\n",
       "    .dataframe thead th {\n",
       "        text-align: right;\n",
       "    }\n",
       "</style>\n",
       "<table border=\"1\" class=\"dataframe\">\n",
       "  <thead>\n",
       "    <tr style=\"text-align: right;\">\n",
       "      <th></th>\n",
       "      <th>Name</th>\n",
       "      <th>Email</th>\n",
       "      <th>Role</th>\n",
       "      <th>Request Type</th>\n",
       "      <th>Status</th>\n",
       "      <th>Reason</th>\n",
       "      <th>Request ID</th>\n",
       "      <th>Requested Object's ID</th>\n",
       "      <th>Requested Object's tags</th>\n",
       "      <th>Requested Budget</th>\n",
       "      <th>Current Budget</th>\n",
       "    </tr>\n",
       "  </thead>\n",
       "  <tbody>\n",
       "    <tr>\n",
       "      <th>0</th>\n",
       "      <td>John Doe</td>\n",
       "      <td>john@gov.us</td>\n",
       "      <td>Data Scientist</td>\n",
       "      <td>BUDGET</td>\n",
       "      <td>accepted</td>\n",
       "      <td>Query might save millions of lives</td>\n",
       "      <td>&lt;UID: 566aef27266343e4ba11ad6398f321a6&gt;</td>\n",
       "      <td>None</td>\n",
       "      <td>[]</td>\n",
       "      <td>500.0</td>\n",
       "      <td>29.298538</td>\n",
       "    </tr>\n",
       "    <tr>\n",
       "      <th>1</th>\n",
       "      <td>John Doe</td>\n",
       "      <td>john@gov.us</td>\n",
       "      <td>Data Scientist</td>\n",
       "      <td>BUDGET</td>\n",
       "      <td>accepted</td>\n",
       "      <td>Query might save millions of lives</td>\n",
       "      <td>&lt;UID: a2ab8943bb81429f8fb93a779f373ec8&gt;</td>\n",
       "      <td>None</td>\n",
       "      <td>[]</td>\n",
       "      <td>500.0</td>\n",
       "      <td>6.972731</td>\n",
       "    </tr>\n",
       "    <tr>\n",
       "      <th>2</th>\n",
       "      <td>John Doe</td>\n",
       "      <td>john@gov.us</td>\n",
       "      <td>Data Scientist</td>\n",
       "      <td>BUDGET</td>\n",
       "      <td>accepted</td>\n",
       "      <td>Query might save millions of lives</td>\n",
       "      <td>&lt;UID: 5e4a65a3cdf247de8d891b7b47dc096c&gt;</td>\n",
       "      <td>None</td>\n",
       "      <td>[]</td>\n",
       "      <td>500.0</td>\n",
       "      <td>126.049843</td>\n",
       "    </tr>\n",
       "    <tr>\n",
       "      <th>3</th>\n",
       "      <td>John Doe</td>\n",
       "      <td>john@gov.us</td>\n",
       "      <td>Data Scientist</td>\n",
       "      <td>BUDGET</td>\n",
       "      <td>accepted</td>\n",
       "      <td>Query might save millions of lives</td>\n",
       "      <td>&lt;UID: 9ab262df53ec4e9ca3ccc6fc78cf4016&gt;</td>\n",
       "      <td>None</td>\n",
       "      <td>[]</td>\n",
       "      <td>500.0</td>\n",
       "      <td>245.126953</td>\n",
       "    </tr>\n",
       "    <tr>\n",
       "      <th>4</th>\n",
       "      <td>John Doe</td>\n",
       "      <td>john@gov.us</td>\n",
       "      <td>Data Scientist</td>\n",
       "      <td>DATA</td>\n",
       "      <td>accepted</td>\n",
       "      <td>I'd like to see this number accurately</td>\n",
       "      <td>&lt;UID: d9643678070f423ab244cf2dd672e5ab&gt;</td>\n",
       "      <td>&lt;UID: a6f5bc61db27466f8e9c4f839dda6353&gt;</td>\n",
       "      <td>[#2021]</td>\n",
       "      <td>NaN</td>\n",
       "      <td>NaN</td>\n",
       "    </tr>\n",
       "  </tbody>\n",
       "</table>\n",
       "</div>"
      ],
      "text/plain": [
       "[<RequestMessage: 566aef27266343e4ba11ad6398f321a6>, <RequestMessage: a2ab8943bb81429f8fb93a779f373ec8>, <RequestMessage: 5e4a65a3cdf247de8d891b7b47dc096c>, <RequestMessage: 9ab262df53ec4e9ca3ccc6fc78cf4016>, <RequestMessage: d9643678070f423ab244cf2dd672e5ab>]"
      ]
     },
     "execution_count": 40,
     "metadata": {},
     "output_type": "execute_result"
    }
   ],
   "source": [
    "domain.requests"
   ]
  },
  {
   "cell_type": "code",
   "execution_count": 37,
   "id": "3e6b4274-6f96-4226-8801-1e5fb7d1548b",
   "metadata": {},
   "outputs": [
    {
     "data": {
      "text/html": [
       "<div>\n",
       "<style scoped>\n",
       "    .dataframe tbody tr th:only-of-type {\n",
       "        vertical-align: middle;\n",
       "    }\n",
       "\n",
       "    .dataframe tbody tr th {\n",
       "        vertical-align: top;\n",
       "    }\n",
       "\n",
       "    .dataframe thead th {\n",
       "        text-align: right;\n",
       "    }\n",
       "</style>\n",
       "<table border=\"1\" class=\"dataframe\">\n",
       "  <thead>\n",
       "    <tr style=\"text-align: right;\">\n",
       "      <th></th>\n",
       "      <th>id</th>\n",
       "      <th>email</th>\n",
       "      <th>name</th>\n",
       "      <th>budget</th>\n",
       "      <th>verify_key</th>\n",
       "      <th>role</th>\n",
       "      <th>added_by</th>\n",
       "      <th>website</th>\n",
       "      <th>institution</th>\n",
       "      <th>daa_pdf</th>\n",
       "      <th>created_at</th>\n",
       "      <th>budget_spent</th>\n",
       "    </tr>\n",
       "  </thead>\n",
       "  <tbody>\n",
       "    <tr>\n",
       "      <th>0</th>\n",
       "      <td>1</td>\n",
       "      <td>info@openmined.org</td>\n",
       "      <td>Jane Doe</td>\n",
       "      <td>5.550000</td>\n",
       "      <td>da4565c37ca4c0a639671e7da887342dd3b3d2c530418f...</td>\n",
       "      <td>Owner</td>\n",
       "      <td>None</td>\n",
       "      <td>None</td>\n",
       "      <td>None</td>\n",
       "      <td>NaN</td>\n",
       "      <td>2022-07-22 03:35:45.402416</td>\n",
       "      <td>5.550000</td>\n",
       "    </tr>\n",
       "    <tr>\n",
       "      <th>1</th>\n",
       "      <td>2</td>\n",
       "      <td>john@gov.us</td>\n",
       "      <td>John Doe</td>\n",
       "      <td>745.126959</td>\n",
       "      <td>c11aa5b6cbb2fc9efdcb96e42d8ceea2796e027f4c92ad...</td>\n",
       "      <td>Data Scientist</td>\n",
       "      <td>Jane Doe</td>\n",
       "      <td></td>\n",
       "      <td></td>\n",
       "      <td>1.0</td>\n",
       "      <td>2022-07-22 03:47:16.753977</td>\n",
       "      <td>745.126959</td>\n",
       "    </tr>\n",
       "  </tbody>\n",
       "</table>\n",
       "</div>"
      ],
      "text/plain": [
       "<syft.core.node.common.client_manager.user_api.UserRequestAPI at 0x7f4d7f18db80>"
      ]
     },
     "execution_count": 37,
     "metadata": {},
     "output_type": "execute_result"
    }
   ],
   "source": [
    "domain.users"
   ]
  }
 ],
 "metadata": {
  "kernelspec": {
   "display_name": "Python 3 (ipykernel)",
   "language": "python",
   "name": "python3"
  },
  "language_info": {
   "codemirror_mode": {
    "name": "ipython",
    "version": 3
   },
   "file_extension": ".py",
   "mimetype": "text/x-python",
   "name": "python",
   "nbconvert_exporter": "python",
   "pygments_lexer": "ipython3",
   "version": "3.9.7"
  }
 },
 "nbformat": 4,
 "nbformat_minor": 5
}

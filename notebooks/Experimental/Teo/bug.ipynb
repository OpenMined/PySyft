{
 "cells": [
  {
   "cell_type": "code",
   "execution_count": 2,
   "metadata": {},
   "outputs": [
    {
     "name": "stdout",
     "output_type": "stream",
     "text": [
      "\u001b[93mWARNING:\u001b[0m CHANGE YOUR USERNAME AND PASSWORD!!! \n",
      "\n",
      "Anyone can login as an admin to your node right now because your password is still the default PySyft username and password!!!\n",
      "\n",
      "Connecting to localhost... done! \t Logging into great_kearns... done!\n"
     ]
    }
   ],
   "source": [
    "import numpy as np\n",
    "import syft as sy\n",
    "\n",
    "client = sy.login(email=\"info@openmined.org\", password=\"changethis\", port=8082)"
   ]
  },
  {
   "cell_type": "code",
   "execution_count": 3,
   "metadata": {},
   "outputs": [
    {
     "data": {
      "text/html": [
       "(no datasets found)"
      ],
      "text/plain": [
       "<syft.core.node.common.client_manager.dataset_api.DatasetRequestAPI at 0x7f2159568d60>"
      ]
     },
     "execution_count": 3,
     "metadata": {},
     "output_type": "execute_result"
    }
   ],
   "source": [
    "client.datasets"
   ]
  },
  {
   "cell_type": "code",
   "execution_count": 4,
   "metadata": {},
   "outputs": [
    {
     "name": "stdout",
     "output_type": "stream",
     "text": [
      "Tensor annotated with DP Metadata\n"
     ]
    }
   ],
   "source": [
    "example_data = sy.Tensor(np.array([np.nan,2,3]))\n",
    "example_dataset = example_data.annotate_with_dp_metadata(min_val=np.nan, max_val=3, data_subjects=[\"Ishan\", \"Ishan\", \"Ishan\"])"
   ]
  },
  {
   "cell_type": "code",
   "execution_count": 5,
   "metadata": {},
   "outputs": [
    {
     "name": "stderr",
     "output_type": "stream",
     "text": [
      "kj/filesystem-disk-unix.c++:1690: warning: PWD environment variable doesn't match current directory; pwd = /home/teo/OpenMined/PySyft\n"
     ]
    },
    {
     "name": "stdout",
     "output_type": "stream",
     "text": [
      "Loading dataset... uploading...🚀                                                                                                                                             "
     ]
    },
    {
     "name": "stderr",
     "output_type": "stream",
     "text": [
      "Uploading `example_dataset`: 100%|\u001b[32m████████████████████████████████████\u001b[0m| 1/1 [00:00<00:00,  4.83it/s]\u001b[0m"
     ]
    },
    {
     "name": "stdout",
     "output_type": "stream",
     "text": [
      "Dataset is uploaded successfully !!! 🎉\n",
      "\n",
      "Run `<your client variable>.datasets` to see your new dataset loaded into your machine!\n"
     ]
    },
    {
     "name": "stderr",
     "output_type": "stream",
     "text": [
      "\n"
     ]
    }
   ],
   "source": [
    "client.load_dataset(\n",
    "    assets={\"example_dataset\": example_dataset},\n",
    "    name=\"An example dataset with Nan\",\n",
    "    description=(\n",
    "        \"A collection of numbers about people.\"\n",
    "    )\n",
    ")"
   ]
  },
  {
   "cell_type": "code",
   "execution_count": 6,
   "metadata": {},
   "outputs": [
    {
     "name": "stdout",
     "output_type": "stream",
     "text": [
      "User created successfully!\n"
     ]
    },
    {
     "data": {
      "text/plain": [
       "{'name': 'Mr.Scientist',\n",
       " 'email': 'science@mr.com',\n",
       " 'password': 'yeahsciencebitch',\n",
       " 'url': 'localhost'}"
      ]
     },
     "execution_count": 6,
     "metadata": {},
     "output_type": "execute_result"
    }
   ],
   "source": [
    "client.create_user(\n",
    "    name =\"Mr.Scientist\",\n",
    "    email=\"science@mr.com\",\n",
    "    password=\"yeahsciencebitch\",\n",
    "    budget=1000000\n",
    ")"
   ]
  },
  {
   "cell_type": "code",
   "execution_count": 7,
   "metadata": {},
   "outputs": [
    {
     "name": "stdout",
     "output_type": "stream",
     "text": [
      "Connecting to localhost... done! \t Logging into great_kearns... done!\n"
     ]
    }
   ],
   "source": [
    "ds_client = sy.login(email=\"science@mr.com\", password=\"yeahsciencebitch\", port=8082)"
   ]
  },
  {
   "cell_type": "code",
   "execution_count": 8,
   "metadata": {},
   "outputs": [
    {
     "data": {
      "text/plain": [
       "array([2.03655904, 1.59868151, 2.44974218])\n",
       "\n",
       " (The data printed above is synthetic - it's an imitation of the real data.)"
      ]
     },
     "execution_count": 8,
     "metadata": {},
     "output_type": "execute_result"
    }
   ],
   "source": [
    "ds_client.datasets[-1][\"example_dataset\"]"
   ]
  },
  {
   "cell_type": "code",
   "execution_count": 24,
   "metadata": {},
   "outputs": [],
   "source": [
    "client_pointer = ds_client.datasets[-1][\"example_dataset\"]"
   ]
  },
  {
   "cell_type": "code",
   "execution_count": 28,
   "metadata": {},
   "outputs": [],
   "source": [
    "res = client_pointer.publish(sigma=0.01)"
   ]
  },
  {
   "cell_type": "code",
   "execution_count": 29,
   "metadata": {},
   "outputs": [
    {
     "data": {
      "text/plain": [
       "860654.1661416525"
      ]
     },
     "execution_count": 29,
     "metadata": {},
     "output_type": "execute_result"
    }
   ],
   "source": [
    "ds_client.privacy_budget"
   ]
  },
  {
   "cell_type": "code",
   "execution_count": 30,
   "metadata": {},
   "outputs": [
    {
     "data": {
      "text/plain": [
       "array([       nan, 1.99679148, 3.0169863 ])"
      ]
     },
     "execution_count": 30,
     "metadata": {},
     "output_type": "execute_result"
    }
   ],
   "source": [
    "res.get()"
   ]
  },
  {
   "cell_type": "code",
   "execution_count": 31,
   "metadata": {},
   "outputs": [],
   "source": [
    "res = 1 / (client_pointer + 0.1)"
   ]
  },
  {
   "cell_type": "code",
   "execution_count": null,
   "metadata": {},
   "outputs": [],
   "source": []
  },
  {
   "cell_type": "code",
   "execution_count": 9,
   "metadata": {},
   "outputs": [],
   "source": [
    "one_data = sy.Tensor(np.array(1))"
   ]
  },
  {
   "cell_type": "code",
   "execution_count": 11,
   "metadata": {},
   "outputs": [
    {
     "name": "stderr",
     "output_type": "stream",
     "text": [
      "kj/filesystem-disk-unix.c++:1690: warning: PWD environment variable doesn't match current directory; pwd = /home/teo/OpenMined/PySyft\n",
      "Uploading `d7dafd22a3df4734bbb04336c70be598`: 100%|\u001b[32m██████████████████\u001b[0m| 1/1 [00:00<00:00, 224.98it/s]\u001b[0m\n"
     ]
    }
   ],
   "source": [
    "one_pointer = one_data.send(ds_client)"
   ]
  },
  {
   "cell_type": "code",
   "execution_count": 13,
   "metadata": {},
   "outputs": [
    {
     "ename": "TypeError",
     "evalue": "Parameter to MergeFrom() must be instance of same class: expected syft.core.pointer.Pointer got syft.core.common.RecursiveSerde.",
     "output_type": "error",
     "traceback": [
      "\u001b[0;31m---------------------------------------------------------------------------\u001b[0m",
      "\u001b[0;31mTypeError\u001b[0m                                 Traceback (most recent call last)",
      "\u001b[1;32m/home/teo/OpenMined/PySyft/notebooks/Experimental/Teo/bug.ipynb Cell 13\u001b[0m in \u001b[0;36m<cell line: 1>\u001b[0;34m()\u001b[0m\n\u001b[0;32m----> <a href='vscode-notebook-cell:/home/teo/OpenMined/PySyft/notebooks/Experimental/Teo/bug.ipynb#X20sZmlsZQ%3D%3D?line=0'>1</a>\u001b[0m res \u001b[39m=\u001b[39m one_pointer \u001b[39m/\u001b[39;49m client_pointer\n",
      "File \u001b[0;32m~/OpenMined/PySyft/packages/syft/src/syft/core/tensor/tensor.py:303\u001b[0m, in \u001b[0;36mTensorPointer.__truediv__\u001b[0;34m(self, other, **kwargs)\u001b[0m\n\u001b[1;32m    290\u001b[0m \u001b[39mdef\u001b[39;00m \u001b[39m__truediv__\u001b[39m(\n\u001b[1;32m    291\u001b[0m     \u001b[39mself\u001b[39m,\n\u001b[1;32m    292\u001b[0m     other: Union[TensorPointer, MPCTensor, \u001b[39mint\u001b[39m, \u001b[39mfloat\u001b[39m, np\u001b[39m.\u001b[39mndarray],\n\u001b[1;32m    293\u001b[0m     \u001b[39m*\u001b[39m\u001b[39m*\u001b[39mkwargs: Any,\n\u001b[1;32m    294\u001b[0m ) \u001b[39m-\u001b[39m\u001b[39m>\u001b[39m Union[TensorPointer, MPCTensor]:\n\u001b[1;32m    295\u001b[0m     \u001b[39m\"\"\"Apply the \"mul\" operation between \"self\" and \"other\"\u001b[39;00m\n\u001b[1;32m    296\u001b[0m \n\u001b[1;32m    297\u001b[0m \u001b[39m    Args:\u001b[39;00m\n\u001b[0;32m   (...)\u001b[0m\n\u001b[1;32m    301\u001b[0m \u001b[39m        Union[TensorPointer,MPCTensor] : Result of the operation.\u001b[39;00m\n\u001b[1;32m    302\u001b[0m \u001b[39m    \"\"\"\u001b[39;00m\n\u001b[0;32m--> 303\u001b[0m     \u001b[39mreturn\u001b[39;00m TensorPointer\u001b[39m.\u001b[39;49m_apply_op(\u001b[39mself\u001b[39;49m, other, \u001b[39m\"\u001b[39;49m\u001b[39mtruediv\u001b[39;49m\u001b[39m\"\u001b[39;49m, \u001b[39m*\u001b[39;49m\u001b[39m*\u001b[39;49mkwargs)\n",
      "File \u001b[0;32m~/OpenMined/PySyft/packages/syft/src/syft/core/tensor/tensor.py:228\u001b[0m, in \u001b[0;36mTensorPointer._apply_op\u001b[0;34m(self, other, op_str, **kwargs)\u001b[0m\n\u001b[1;32m    225\u001b[0m     func \u001b[39m=\u001b[39m \u001b[39mgetattr\u001b[39m(self_mpc, op_str)\n\u001b[1;32m    226\u001b[0m     \u001b[39mreturn\u001b[39;00m func(other_mpc)\n\u001b[0;32m--> 228\u001b[0m \u001b[39mreturn\u001b[39;00m \u001b[39mself\u001b[39;49m\u001b[39m.\u001b[39;49m_apply_tensor_op(other\u001b[39m=\u001b[39;49mother, op_str\u001b[39m=\u001b[39;49mop_str, \u001b[39m*\u001b[39;49m\u001b[39m*\u001b[39;49mkwargs)\n",
      "File \u001b[0;32m~/OpenMined/PySyft/packages/syft/src/syft/core/tensor/tensor.py:153\u001b[0m, in \u001b[0;36mTensorPointer._apply_tensor_op\u001b[0;34m(self, other, op_str, *args, **kwargs)\u001b[0m\n\u001b[1;32m    137\u001b[0m     pointer_args, pointer_kwargs \u001b[39m=\u001b[39m pointerize_args_and_kwargs(\n\u001b[1;32m    138\u001b[0m         args\u001b[39m=\u001b[39mdowncast_args,\n\u001b[1;32m    139\u001b[0m         kwargs\u001b[39m=\u001b[39mdowncast_kwargs,\n\u001b[1;32m    140\u001b[0m         client\u001b[39m=\u001b[39m\u001b[39mself\u001b[39m\u001b[39m.\u001b[39mclient,\n\u001b[1;32m    141\u001b[0m         gc_enabled\u001b[39m=\u001b[39m\u001b[39mFalse\u001b[39;00m,\n\u001b[1;32m    142\u001b[0m     )\n\u001b[1;32m    144\u001b[0m     cmd \u001b[39m=\u001b[39m RunClassMethodSMPCAction(\n\u001b[1;32m    145\u001b[0m         path\u001b[39m=\u001b[39mattr_path_and_name,\n\u001b[1;32m    146\u001b[0m         _self\u001b[39m=\u001b[39m\u001b[39mself\u001b[39m,\n\u001b[0;32m   (...)\u001b[0m\n\u001b[1;32m    151\u001b[0m         address\u001b[39m=\u001b[39m\u001b[39mself\u001b[39m\u001b[39m.\u001b[39mclient\u001b[39m.\u001b[39maddress,\n\u001b[1;32m    152\u001b[0m     )\n\u001b[0;32m--> 153\u001b[0m     \u001b[39mself\u001b[39;49m\u001b[39m.\u001b[39;49mclient\u001b[39m.\u001b[39;49msend_immediate_msg_without_reply(msg\u001b[39m=\u001b[39;49mcmd)\n\u001b[1;32m    155\u001b[0m inherit_tags(\n\u001b[1;32m    156\u001b[0m     attr_path_and_name\u001b[39m=\u001b[39mattr_path_and_name,\n\u001b[1;32m    157\u001b[0m     result\u001b[39m=\u001b[39mresult,\n\u001b[0;32m   (...)\u001b[0m\n\u001b[1;32m    160\u001b[0m     kwargs\u001b[39m=\u001b[39m{},\n\u001b[1;32m    161\u001b[0m )\n\u001b[1;32m    163\u001b[0m result_public_shape \u001b[39m=\u001b[39m \u001b[39mNone\u001b[39;00m\n",
      "File \u001b[0;32m~/OpenMined/PySyft/packages/syft/src/syft/core/node/common/client.py:285\u001b[0m, in \u001b[0;36mClient.send_immediate_msg_without_reply\u001b[0;34m(self, msg, route_index, timeout)\u001b[0m\n\u001b[1;32m    280\u001b[0m     output \u001b[39m=\u001b[39m (\n\u001b[1;32m    281\u001b[0m         \u001b[39mf\u001b[39m\u001b[39m\"\u001b[39m\u001b[39m> \u001b[39m\u001b[39m{\u001b[39;00m\u001b[39mself\u001b[39m\u001b[39m.\u001b[39mpprint\u001b[39m}\u001b[39;00m\u001b[39m Signing \u001b[39m\u001b[39m{\u001b[39;00mmsg\u001b[39m.\u001b[39mpprint\u001b[39m}\u001b[39;00m\u001b[39m with \u001b[39m\u001b[39m\"\u001b[39m\n\u001b[1;32m    282\u001b[0m         \u001b[39m+\u001b[39m \u001b[39mf\u001b[39m\u001b[39m\"\u001b[39m\u001b[39m{\u001b[39;00m\u001b[39mself\u001b[39m\u001b[39m.\u001b[39mkey_emoji(key\u001b[39m=\u001b[39m\u001b[39mself\u001b[39m\u001b[39m.\u001b[39msigning_key\u001b[39m.\u001b[39mverify_key)\u001b[39m}\u001b[39;00m\u001b[39m\"\u001b[39m\n\u001b[1;32m    283\u001b[0m     )\n\u001b[1;32m    284\u001b[0m     debug(output)\n\u001b[0;32m--> 285\u001b[0m     msg \u001b[39m=\u001b[39m msg\u001b[39m.\u001b[39;49msign(signing_key\u001b[39m=\u001b[39;49m\u001b[39mself\u001b[39;49m\u001b[39m.\u001b[39;49msigning_key)\n\u001b[1;32m    286\u001b[0m debug(\u001b[39mf\u001b[39m\u001b[39m\"\u001b[39m\u001b[39m> Sending \u001b[39m\u001b[39m{\u001b[39;00mmsg\u001b[39m.\u001b[39mpprint\u001b[39m}\u001b[39;00m\u001b[39m \u001b[39m\u001b[39m{\u001b[39;00m\u001b[39mself\u001b[39m\u001b[39m.\u001b[39mpprint\u001b[39m}\u001b[39;00m\u001b[39m ➡️  \u001b[39m\u001b[39m{\u001b[39;00mmsg\u001b[39m.\u001b[39maddress\u001b[39m.\u001b[39mpprint\u001b[39m}\u001b[39;00m\u001b[39m\"\u001b[39m)\n\u001b[1;32m    287\u001b[0m \u001b[39mself\u001b[39m\u001b[39m.\u001b[39mroutes[route_index]\u001b[39m.\u001b[39msend_immediate_msg_without_reply(\n\u001b[1;32m    288\u001b[0m     msg\u001b[39m=\u001b[39mmsg, timeout\u001b[39m=\u001b[39mtimeout\n\u001b[1;32m    289\u001b[0m )\n",
      "File \u001b[0;32m~/OpenMined/PySyft/packages/syft/src/syft/core/common/message.py:91\u001b[0m, in \u001b[0;36mSyftMessage.sign\u001b[0;34m(self, signing_key)\u001b[0m\n\u001b[1;32m     78\u001b[0m \u001b[39m\"\"\"\u001b[39;00m\n\u001b[1;32m     79\u001b[0m \u001b[39mIt's important for all messages to be able to prove who they were sent from.\u001b[39;00m\n\u001b[1;32m     80\u001b[0m \u001b[39mThis method endows every message with the ability for someone to \"sign\" (with a hash of the message)\u001b[39;00m\n\u001b[0;32m   (...)\u001b[0m\n\u001b[1;32m     88\u001b[0m \n\u001b[1;32m     89\u001b[0m \u001b[39m\"\"\"\u001b[39;00m\n\u001b[1;32m     90\u001b[0m debug(\u001b[39mf\u001b[39m\u001b[39m\"\u001b[39m\u001b[39m> Signing with \u001b[39m\u001b[39m{\u001b[39;00m\u001b[39mself\u001b[39m\u001b[39m.\u001b[39maddress\u001b[39m.\u001b[39mkey_emoji(key\u001b[39m=\u001b[39msigning_key\u001b[39m.\u001b[39mverify_key)\u001b[39m}\u001b[39;00m\u001b[39m\"\u001b[39m)\n\u001b[0;32m---> 91\u001b[0m signed_message \u001b[39m=\u001b[39m signing_key\u001b[39m.\u001b[39msign(serialize(\u001b[39mself\u001b[39;49m, to_bytes\u001b[39m=\u001b[39;49m\u001b[39mTrue\u001b[39;49;00m))\n\u001b[1;32m     93\u001b[0m \u001b[39m# signed_type will be the final subclass callee's closest parent signed_type\u001b[39;00m\n\u001b[1;32m     94\u001b[0m \u001b[39m# for example ReprMessage -> ImmediateSyftMessageWithoutReply.signed_type\u001b[39;00m\n\u001b[1;32m     95\u001b[0m \u001b[39m# == SignedImmediateSyftMessageWithoutReply\u001b[39;00m\n\u001b[1;32m     96\u001b[0m \u001b[39mreturn\u001b[39;00m \u001b[39mself\u001b[39m\u001b[39m.\u001b[39msigned_type(\n\u001b[1;32m     97\u001b[0m     msg_id\u001b[39m=\u001b[39m\u001b[39mself\u001b[39m\u001b[39m.\u001b[39mid,\n\u001b[1;32m     98\u001b[0m     address\u001b[39m=\u001b[39m\u001b[39mself\u001b[39m\u001b[39m.\u001b[39maddress,\n\u001b[0;32m   (...)\u001b[0m\n\u001b[1;32m    102\u001b[0m     message\u001b[39m=\u001b[39msigned_message\u001b[39m.\u001b[39mmessage,\n\u001b[1;32m    103\u001b[0m )\n",
      "File \u001b[0;32m~/OpenMined/PySyft/packages/syft/src/syft/core/common/serde/serialize.py:83\u001b[0m, in \u001b[0;36m_serialize\u001b[0;34m(obj, to_proto, to_bytes)\u001b[0m\n\u001b[1;32m     77\u001b[0m     \u001b[39mreturn\u001b[39;00m validate_type(is_serializable\u001b[39m.\u001b[39m_object2bytes(), \u001b[39mbytes\u001b[39m)\n\u001b[1;32m     79\u001b[0m \u001b[39mif\u001b[39;00m to_bytes:\n\u001b[1;32m     80\u001b[0m     \u001b[39m# debug(f\"Serializing {type(is_serializable)}\")\u001b[39;00m\n\u001b[1;32m     81\u001b[0m     \u001b[39m# indent=None means no white space or \\n in the serialized version\u001b[39;00m\n\u001b[1;32m     82\u001b[0m     \u001b[39m# this is compatible with json.dumps(x, indent=None)\u001b[39;00m\n\u001b[0;32m---> 83\u001b[0m     serialized_data \u001b[39m=\u001b[39m is_serializable\u001b[39m.\u001b[39;49m_object2proto()\u001b[39m.\u001b[39mSerializeToString()\n\u001b[1;32m     84\u001b[0m     obj_type \u001b[39m=\u001b[39m get_fully_qualified_name(obj\u001b[39m=\u001b[39mis_serializable)\n\u001b[1;32m     85\u001b[0m     blob: Message \u001b[39m=\u001b[39m DataMessage(\n\u001b[1;32m     86\u001b[0m         magic_header\u001b[39m=\u001b[39mcreate_protobuf_magic_header(),\n\u001b[1;32m     87\u001b[0m         obj_type\u001b[39m=\u001b[39mobj_type,\n\u001b[1;32m     88\u001b[0m         content\u001b[39m=\u001b[39mserialized_data,\n\u001b[1;32m     89\u001b[0m     )\n",
      "File \u001b[0;32m~/OpenMined/PySyft/packages/syft/src/syft/core/node/common/action/run_class_method_smpc_action.py:206\u001b[0m, in \u001b[0;36mRunClassMethodSMPCAction._object2proto\u001b[0;34m(self)\u001b[0m\n\u001b[1;32m    190\u001b[0m \u001b[39mdef\u001b[39;00m \u001b[39m_object2proto\u001b[39m(\u001b[39mself\u001b[39m) \u001b[39m-\u001b[39m\u001b[39m>\u001b[39m RunClassMethodSMPCAction_PB:\n\u001b[1;32m    191\u001b[0m     \u001b[39m\"\"\"Returns a protobuf serialization of self.\u001b[39;00m\n\u001b[1;32m    192\u001b[0m \n\u001b[1;32m    193\u001b[0m \u001b[39m    As a requirement of all objects which inherit from Serializable,\u001b[39;00m\n\u001b[0;32m   (...)\u001b[0m\n\u001b[1;32m    203\u001b[0m \u001b[39m        object.\u001b[39;00m\n\u001b[1;32m    204\u001b[0m \u001b[39m    \"\"\"\u001b[39;00m\n\u001b[0;32m--> 206\u001b[0m     \u001b[39mreturn\u001b[39;00m RunClassMethodSMPCAction_PB(\n\u001b[1;32m    207\u001b[0m         path\u001b[39m=\u001b[39;49m\u001b[39mself\u001b[39;49m\u001b[39m.\u001b[39;49mpath,\n\u001b[1;32m    208\u001b[0m         _self\u001b[39m=\u001b[39;49msy\u001b[39m.\u001b[39;49mserialize(\u001b[39mself\u001b[39;49m\u001b[39m.\u001b[39;49m_self, to_bytes\u001b[39m=\u001b[39;49m\u001b[39mTrue\u001b[39;49;00m),\n\u001b[1;32m    209\u001b[0m         args\u001b[39m=\u001b[39;49m\u001b[39mlist\u001b[39;49m(\u001b[39mmap\u001b[39;49m(\u001b[39mlambda\u001b[39;49;00m x: sy\u001b[39m.\u001b[39;49mserialize(x), \u001b[39mself\u001b[39;49m\u001b[39m.\u001b[39;49margs)),\n\u001b[1;32m    210\u001b[0m         kwargs\u001b[39m=\u001b[39;49m{k: sy\u001b[39m.\u001b[39;49mserialize(v) \u001b[39mfor\u001b[39;49;00m k, v \u001b[39min\u001b[39;49;00m \u001b[39mself\u001b[39;49m\u001b[39m.\u001b[39;49mkwargs\u001b[39m.\u001b[39;49mitems()},\n\u001b[1;32m    211\u001b[0m         id_at_location\u001b[39m=\u001b[39;49msy\u001b[39m.\u001b[39;49mserialize(\u001b[39mself\u001b[39;49m\u001b[39m.\u001b[39;49mid_at_location),\n\u001b[1;32m    212\u001b[0m         seed_id_locations\u001b[39m=\u001b[39;49m\u001b[39mstr\u001b[39;49m(\u001b[39mself\u001b[39;49m\u001b[39m.\u001b[39;49mseed_id_locations),\n\u001b[1;32m    213\u001b[0m         address\u001b[39m=\u001b[39;49msy\u001b[39m.\u001b[39;49mserialize(\u001b[39mself\u001b[39;49m\u001b[39m.\u001b[39;49maddress),\n\u001b[1;32m    214\u001b[0m         msg_id\u001b[39m=\u001b[39;49msy\u001b[39m.\u001b[39;49mserialize(\u001b[39mself\u001b[39;49m\u001b[39m.\u001b[39;49mid),\n\u001b[1;32m    215\u001b[0m     )\n",
      "\u001b[0;31mTypeError\u001b[0m: Parameter to MergeFrom() must be instance of same class: expected syft.core.pointer.Pointer got syft.core.common.RecursiveSerde."
     ]
    }
   ],
   "source": [
    "res = one_pointer / client_pointer"
   ]
  }
 ],
 "metadata": {
  "kernelspec": {
   "display_name": "Python 3.10.4 ('PySyft')",
   "language": "python",
   "name": "python3"
  },
  "language_info": {
   "codemirror_mode": {
    "name": "ipython",
    "version": 3
   },
   "file_extension": ".py",
   "mimetype": "text/x-python",
   "name": "python",
   "nbconvert_exporter": "python",
   "pygments_lexer": "ipython3",
   "version": "3.10.4"
  },
  "orig_nbformat": 4,
  "vscode": {
   "interpreter": {
    "hash": "4793a45c21657cf3d03167fad0b0286070df6dcd03825f60c6ea99cbb4eef702"
   }
  }
 },
 "nbformat": 4,
 "nbformat_minor": 2
}

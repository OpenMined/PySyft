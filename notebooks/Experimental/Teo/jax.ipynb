{
 "cells": [
  {
   "cell_type": "code",
   "execution_count": 1,
   "metadata": {},
   "outputs": [],
   "source": [
    "!pip install --quiet --upgrade tensorflow-federated\n",
    "!pip install --quiet --upgrade nest-asyncio\n",
    "import nest_asyncio\n",
    "nest_asyncio.apply()"
   ]
  },
  {
   "cell_type": "code",
   "execution_count": 20,
   "metadata": {},
   "outputs": [],
   "source": [
    "import jax\n",
    "import numpy as np\n",
    "import tensorflow_federated as tff"
   ]
  },
  {
   "cell_type": "code",
   "execution_count": 4,
   "metadata": {},
   "outputs": [
    {
     "data": {
      "text/plain": [
       "'0.39.0'"
      ]
     },
     "execution_count": 4,
     "metadata": {},
     "output_type": "execute_result"
    }
   ],
   "source": [
    "tff.__version__"
   ]
  },
  {
   "cell_type": "code",
   "execution_count": 5,
   "metadata": {},
   "outputs": [
    {
     "name": "stderr",
     "output_type": "stream",
     "text": [
      "WARNING:absl:No GPU/TPU found, falling back to CPU. (Set TF_CPP_MIN_LOG_LEVEL=0 and rerun for more info.)\n"
     ]
    }
   ],
   "source": [
    "@tff.jax_computation(np.int32, np.int32)\n",
    "def add_numbers(x, y):\n",
    "  return jax.numpy.add(x, y)"
   ]
  },
  {
   "cell_type": "code",
   "execution_count": 6,
   "metadata": {},
   "outputs": [
    {
     "data": {
      "text/plain": [
       "'xla'"
      ]
     },
     "execution_count": 6,
     "metadata": {},
     "output_type": "execute_result"
    }
   ],
   "source": [
    "comp_pb = tff.framework.serialize_computation(add_numbers)\n",
    "comp_pb.WhichOneof('computation')"
   ]
  },
  {
   "cell_type": "code",
   "execution_count": 7,
   "metadata": {},
   "outputs": [
    {
     "name": "stdout",
     "output_type": "stream",
     "text": [
      "HloModule xla_computation_add_numbers.0, entry_computation_layout={((s32[], s32[]))->(s32[])}\n",
      "\n",
      "ENTRY main.6 {\n",
      "  arg_tuple.1 = (s32[], s32[]) parameter(0)\n",
      "  get-tuple-element.2 = s32[] get-tuple-element(arg_tuple.1), index=0\n",
      "  get-tuple-element.3 = s32[] get-tuple-element(arg_tuple.1), index=1\n",
      "  add.4 = s32[] add(get-tuple-element.2, get-tuple-element.3)\n",
      "  ROOT tuple.5 = (s32[]) tuple(add.4)\n",
      "}\n",
      "\n",
      "\n"
     ]
    }
   ],
   "source": [
    "xla_code = jax.lib.xla_client.XlaComputation(comp_pb.xla.hlo_module.value)\n",
    "print(xla_code.as_hlo_text())\n"
   ]
  },
  {
   "cell_type": "code",
   "execution_count": 8,
   "metadata": {},
   "outputs": [],
   "source": [
    "tff.backends.xla.set_local_python_execution_context()\n"
   ]
  },
  {
   "cell_type": "code",
   "execution_count": 9,
   "metadata": {},
   "outputs": [
    {
     "data": {
      "text/plain": [
       "5"
      ]
     },
     "execution_count": 9,
     "metadata": {},
     "output_type": "execute_result"
    }
   ],
   "source": [
    "add_numbers(2, 3)\n"
   ]
  },
  {
   "cell_type": "code",
   "execution_count": 10,
   "metadata": {},
   "outputs": [],
   "source": [
    "import collections\n",
    "\n",
    "BATCH_TYPE = collections.OrderedDict([\n",
    "    ('pixels', tff.TensorType(np.float32, (50, 784))),\n",
    "    ('labels', tff.TensorType(np.int32, (50,)))\n",
    "])\n",
    "\n",
    "MODEL_TYPE = collections.OrderedDict([\n",
    "    ('weights', tff.TensorType(np.float32, (784, 10))),\n",
    "    ('bias', tff.TensorType(np.float32, (10,)))\n",
    "])"
   ]
  },
  {
   "cell_type": "code",
   "execution_count": 11,
   "metadata": {},
   "outputs": [],
   "source": [
    "def loss(model, batch):\n",
    "  y = jax.nn.softmax(\n",
    "      jax.numpy.add(\n",
    "          jax.numpy.matmul(batch['pixels'], model['weights']), model['bias']))\n",
    "  targets = jax.nn.one_hot(jax.numpy.reshape(batch['labels'], -1), 10)\n",
    "  return -jax.numpy.mean(jax.numpy.sum(targets * jax.numpy.log(y), axis=1))"
   ]
  },
  {
   "cell_type": "code",
   "execution_count": 32,
   "metadata": {},
   "outputs": [],
   "source": [
    "from types import ModuleType\n",
    "def recursive_dir(module):\n",
    "    current = {}\n",
    "    if not isinstance(module, ModuleType):\n",
    "        return current\n",
    "    for name in dir(module):\n",
    "        current[name] = recursive_dir(name)\n",
    "    return current"
   ]
  },
  {
   "cell_type": "code",
   "execution_count": 33,
   "metadata": {},
   "outputs": [
    {
     "data": {
      "text/plain": [
       "{'BatchOutput': {},\n",
       " 'ClientWeighting': {},\n",
       " 'MetricFinalizersType': {},\n",
       " 'Model': {},\n",
       " 'ModelWeights': {},\n",
       " '__builtins__': {},\n",
       " '__cached__': {},\n",
       " '__doc__': {},\n",
       " '__file__': {},\n",
       " '__loader__': {},\n",
       " '__name__': {},\n",
       " '__package__': {},\n",
       " '__path__': {},\n",
       " '__spec__': {},\n",
       " 'add_debug_measurements': {},\n",
       " 'add_debug_measurements_with_mixed_dtype': {},\n",
       " 'algorithms': {},\n",
       " 'build_federated_evaluation': {},\n",
       " 'build_local_evaluation': {},\n",
       " 'build_personalization_eval': {},\n",
       " 'client_weight_lib': {},\n",
       " 'compression_aggregator': {},\n",
       " 'ddp_secure_aggregator': {},\n",
       " 'debug_measurements': {},\n",
       " 'deprecation': {},\n",
       " 'dp_aggregator': {},\n",
       " 'entropy_compression_aggregator': {},\n",
       " 'federated_aggregate_keras_metric': {},\n",
       " 'federated_evaluation': {},\n",
       " 'framework': {},\n",
       " 'from_keras_model': {},\n",
       " 'keras_utils': {},\n",
       " 'metrics': {},\n",
       " 'model': {},\n",
       " 'model_update_aggregator': {},\n",
       " 'models': {},\n",
       " 'optimizers': {},\n",
       " 'personalization_eval': {},\n",
       " 'reconstruction': {},\n",
       " 'robust_aggregator': {},\n",
       " 'secure_aggregator': {},\n",
       " 'state_with_new_model_weights': {},\n",
       " 'templates': {}}"
      ]
     },
     "execution_count": 33,
     "metadata": {},
     "output_type": "execute_result"
    }
   ],
   "source": [
    "res =recursive_dir(tff.learning)"
   ]
  },
  {
   "cell_type": "code",
   "execution_count": 25,
   "metadata": {},
   "outputs": [
    {
     "name": "stdout",
     "output_type": "stream",
     "text": [
      "['BatchOutput', 'ClientWeighting', 'MetricFinalizersType', 'Model', 'ModelWeights', '__builtins__', '__cached__', '__doc__', '__file__', '__loader__', '__name__', '__package__', '__path__', '__spec__', 'add_debug_measurements', 'add_debug_measurements_with_mixed_dtype', 'algorithms', 'build_federated_evaluation', 'build_local_evaluation', 'build_personalization_eval', 'client_weight_lib', 'compression_aggregator', 'ddp_secure_aggregator', 'debug_measurements', 'deprecation', 'dp_aggregator', 'entropy_compression_aggregator', 'federated_aggregate_keras_metric', 'federated_evaluation', 'framework', 'from_keras_model', 'keras_utils', 'metrics', 'model', 'model_update_aggregator', 'models', 'optimizers', 'personalization_eval', 'reconstruction', 'robust_aggregator', 'secure_aggregator', 'state_with_new_model_weights', 'templates']\n"
     ]
    },
    {
     "ename": "AttributeError",
     "evalue": "module 'tensorflow_federated.python.learning' has no attribute 'build_jax_federated_averaging_process'",
     "output_type": "error",
     "traceback": [
      "\u001b[0;31m---------------------------------------------------------------------------\u001b[0m",
      "\u001b[0;31mAttributeError\u001b[0m                            Traceback (most recent call last)",
      "\u001b[1;32m/home/teo/OpenMined/PySyft/notebooks/Experimental/Teo/jax.ipynb Cell 11\u001b[0m in \u001b[0;36m<cell line: 6>\u001b[0;34m()\u001b[0m\n\u001b[1;32m      <a href='vscode-notebook-cell:/home/teo/OpenMined/PySyft/notebooks/Experimental/Teo/jax.ipynb#X14sZmlsZQ%3D%3D?line=2'>3</a>\u001b[0m STEP_SIZE \u001b[39m=\u001b[39m \u001b[39m0.001\u001b[39m\n\u001b[1;32m      <a href='vscode-notebook-cell:/home/teo/OpenMined/PySyft/notebooks/Experimental/Teo/jax.ipynb#X14sZmlsZQ%3D%3D?line=4'>5</a>\u001b[0m \u001b[39mprint\u001b[39m(\u001b[39mdir\u001b[39m(tff\u001b[39m.\u001b[39mlearning))\n\u001b[0;32m----> <a href='vscode-notebook-cell:/home/teo/OpenMined/PySyft/notebooks/Experimental/Teo/jax.ipynb#X14sZmlsZQ%3D%3D?line=5'>6</a>\u001b[0m trainer \u001b[39m=\u001b[39m tff\u001b[39m.\u001b[39;49mlearning\u001b[39m.\u001b[39;49mbuild_jax_federated_averaging_process(\n\u001b[1;32m      <a href='vscode-notebook-cell:/home/teo/OpenMined/PySyft/notebooks/Experimental/Teo/jax.ipynb#X14sZmlsZQ%3D%3D?line=6'>7</a>\u001b[0m     BATCH_TYPE, MODEL_TYPE, loss, STEP_SIZE)\n",
      "\u001b[0;31mAttributeError\u001b[0m: module 'tensorflow_federated.python.learning' has no attribute 'build_jax_federated_averaging_process'"
     ]
    }
   ],
   "source": [
    "# from tensorflow_federated.python.tests import jax_components\n",
    "\n",
    "STEP_SIZE = 0.001\n",
    "\n",
    "print(dir(tff.learning))\n",
    "trainer = tff.learning.build_jax_federated_averaging_process(\n",
    "    BATCH_TYPE, MODEL_TYPE, loss, STEP_SIZE)"
   ]
  }
 ],
 "metadata": {
  "kernelspec": {
   "display_name": "Python 3.10.4 ('PySyft')",
   "language": "python",
   "name": "python3"
  },
  "language_info": {
   "codemirror_mode": {
    "name": "ipython",
    "version": 3
   },
   "file_extension": ".py",
   "mimetype": "text/x-python",
   "name": "python",
   "nbconvert_exporter": "python",
   "pygments_lexer": "ipython3",
   "version": "3.10.4"
  },
  "orig_nbformat": 4,
  "vscode": {
   "interpreter": {
    "hash": "4793a45c21657cf3d03167fad0b0286070df6dcd03825f60c6ea99cbb4eef702"
   }
  }
 },
 "nbformat": 4,
 "nbformat_minor": 2
}

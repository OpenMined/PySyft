{
 "cells": [
  {
   "cell_type": "code",
   "execution_count": 1,
   "metadata": {},
   "outputs": [
    {
     "name": "stderr",
     "output_type": "stream",
     "text": [
      "kj/filesystem-disk-unix.c++:1690: warning: PWD environment variable doesn't match current directory; pwd = /home/teo/OpenMined/PySyft\n",
      "/home/teo/anaconda3/envs/PySyft/lib/python3.10/site-packages/tqdm/auto.py:22: TqdmWarning: IProgress not found. Please update jupyter and ipywidgets. See https://ipywidgets.readthedocs.io/en/stable/user_install.html\n",
      "  from .autonotebook import tqdm as notebook_tqdm\n",
      "2023-01-16 13:13:58.147233: W tensorflow/stream_executor/platform/default/dso_loader.cc:64] Could not load dynamic library 'libcudart.so.11.0'; dlerror: libcudart.so.11.0: cannot open shared object file: No such file or directory; LD_LIBRARY_PATH: /usr/local/cuda-11.5/lib64:/usr/local/cuda-11.5/lib64:\n",
      "2023-01-16 13:13:58.161261: E tensorflow/stream_executor/cuda/cuda_blas.cc:2981] Unable to register cuBLAS factory: Attempting to register factory for plugin cuBLAS when one has already been registered\n",
      "2023-01-16 13:13:58.591594: W tensorflow/stream_executor/platform/default/dso_loader.cc:64] Could not load dynamic library 'libnvinfer.so.7'; dlerror: libnvrtc.so.11.1: cannot open shared object file: No such file or directory; LD_LIBRARY_PATH: /usr/local/cuda-11.5/lib64:/usr/local/cuda-11.5/lib64:\n",
      "2023-01-16 13:13:58.591726: W tensorflow/stream_executor/platform/default/dso_loader.cc:64] Could not load dynamic library 'libnvinfer_plugin.so.7'; dlerror: libnvrtc.so.11.1: cannot open shared object file: No such file or directory; LD_LIBRARY_PATH: /usr/local/cuda-11.5/lib64:/usr/local/cuda-11.5/lib64:\n",
      "2023-01-16 13:13:58.591732: W tensorflow/compiler/tf2tensorrt/utils/py_utils.cc:38] TF-TRT Warning: Cannot dlopen some TensorRT libraries. If you would like to use Nvidia GPU with TensorRT, please make sure the missing libraries mentioned above are installed properly.\n"
     ]
    }
   ],
   "source": [
    "from syft.core.node.new.action_object import ActionObject, ActionObjectPointer\n",
    "from syft.core.node.new.action_service import NumpyArrayObject\n",
    "from syft.core.node.common.node_table.syft_object import SyftObject, transform\n",
    "from syft.core.common.uid import UID\n",
    "from syft.core.common.serde.serializable import serializable\n",
    "from typing import Optional, Tuple, Dict, List, Any\n",
    "import numpy as np\n",
    "from result import Err\n",
    "from result import Ok\n",
    "from result import Result\n",
    "\n",
    "import pydantic\n",
    "from pydantic import PrivateAttr"
   ]
  },
  {
   "cell_type": "code",
   "execution_count": 15,
   "metadata": {},
   "outputs": [],
   "source": [
    "@serializable(recursive_serde=True)\n",
    "class DatasetPointer(ActionObjectPointer):\n",
    "    __canonical_name__ = \"DatasetPointer\"\n",
    "    __version__ = 1\n",
    "    \n",
    "    __attr_state__ = [\"id\", \"node_uid\", \"items\"]\n",
    "    \n",
    "    def __post_init__(self) -> None:\n",
    "        self.setup_methods()\n",
    "        \n",
    "    def setup_methods(self) -> None:\n",
    "        return\n",
    "\n",
    "@serializable(recursive_serde=True)\n",
    "class DatasetItem(ActionObject):\n",
    "    __canonical_name__ = \"DatasetItem\"\n",
    "    __version__ = 1\n",
    "    \n",
    "    id: UID\n",
    "    name: str\n",
    "    dtype: str\n",
    "    shape: Optional[Tuple]\n",
    "    # data: Any\n",
    "    _syft_action_data: Any = (\n",
    "        PrivateAttr()\n",
    "    )\n",
    "    \n",
    "    __attr_state__ = [\n",
    "        \"id\",\n",
    "        \"name\",\n",
    "        \"dtype\",\n",
    "        \"shape\",\n",
    "    ]\n",
    "    __attr_searchable__ = [\"name\"]\n",
    "\n",
    "@serializable(recursive_serde=True)\n",
    "class Dataset:#(ActionObject):#(SyftObject):\n",
    "    __canonical_name__ = \"DatasetObject\"\n",
    "    __version__ = 1\n",
    "    \n",
    "    id: UID\n",
    "    name: str\n",
    "    description: str\n",
    "    tags: List[str] = []\n",
    "    metadata: Dict = {}# TODO: decide how to restructure this\n",
    "    items: Dict[str, DatasetItem]\n",
    "    # _syft_action_data: Any = (\n",
    "    #     PrivateAttr()\n",
    "    # )\n",
    "    \n",
    "    __attr_searchable__ = [\"name\", \"description\", \"tags\"]\n",
    "    __attr_unique__ = [\"name\"]\n",
    "\n",
    "    pointer_type = DatasetPointer\n",
    "    \n",
    "    def __init__(\n",
    "        self, \n",
    "        id: UID,\n",
    "        name: str, \n",
    "        description: str, \n",
    "        items: Dict[str, DatasetItem], \n",
    "        tags: Optional[List[str]] = [], \n",
    "        metadata: Optional[Dict] = {}\n",
    "    ):\n",
    "        self.id = id\n",
    "        self.name = name\n",
    "        self.description = description\n",
    "        self.items = items\n",
    "        self.tags = tags\n",
    "        self.metadata = metadata\n",
    "        \n",
    "    def __getitem__(self, key:str) -> Any:\n",
    "        if key in self.items:\n",
    "            return Ok(self.items[key])\n",
    "        else:\n",
    "            return Err(f'Key {key} not in store')\n",
    "\n"
   ]
  },
  {
   "cell_type": "code",
   "execution_count": 16,
   "metadata": {},
   "outputs": [],
   "source": [
    "raw_data = np.array([1, 2, 3])\n",
    "item = DatasetItem(\n",
    "        name='item 1', \n",
    "        id=UID(), \n",
    "        dtype=str(np.ndarray), \n",
    "        _syft_action_data=raw_data\n",
    "    )\n",
    "dataset = Dataset(\n",
    "            name=\"custom dataset\", \n",
    "            id=UID(), \n",
    "            items={\n",
    "                \"item 1\": item\n",
    "            }, \n",
    "            description=\"This is our custom dataset\"\n",
    "        )"
   ]
  },
  {
   "cell_type": "code",
   "execution_count": 19,
   "metadata": {},
   "outputs": [
    {
     "data": {
      "text/plain": [
       "Err('Key item 2 not in store')"
      ]
     },
     "execution_count": 19,
     "metadata": {},
     "output_type": "execute_result"
    }
   ],
   "source": [
    "dataset[\"item 2\"]"
   ]
  }
 ],
 "metadata": {
  "kernelspec": {
   "display_name": "PySyft",
   "language": "python",
   "name": "python3"
  },
  "language_info": {
   "codemirror_mode": {
    "name": "ipython",
    "version": 3
   },
   "file_extension": ".py",
   "mimetype": "text/x-python",
   "name": "python",
   "nbconvert_exporter": "python",
   "pygments_lexer": "ipython3",
   "version": "3.10.4 (main, Mar 31 2022, 08:41:55) [GCC 7.5.0]"
  },
  "orig_nbformat": 4,
  "vscode": {
   "interpreter": {
    "hash": "4793a45c21657cf3d03167fad0b0286070df6dcd03825f60c6ea99cbb4eef702"
   }
  }
 },
 "nbformat": 4,
 "nbformat_minor": 2
}

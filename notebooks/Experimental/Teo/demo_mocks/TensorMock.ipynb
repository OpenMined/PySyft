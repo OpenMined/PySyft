{
 "cells": [
  {
   "cell_type": "code",
   "execution_count": 21,
   "metadata": {},
   "outputs": [],
   "source": [
    "from unittest.mock import Mock\n",
    "SyTensor = Mock()\n",
    "Mock.__add__ = Mock()\n",
    "iDPMechanism = Mock()\n",
    "GaussianMechanism = Mock()\n",
    "syft = Mock()\n",
    "import numpy as np"
   ]
  },
  {
   "cell_type": "code",
   "execution_count": 22,
   "metadata": {},
   "outputs": [],
   "source": [
    "raw_data1 = np.array([1,2,3])\n",
    "data_subject1 = syft.DataSubject(\"Name\")\n",
    "tensor1 = SyTensor(raw_data1, data_subject=data_subject1)\n",
    "\n",
    "raw_data2 = np.array([4,5,6])\n",
    "data_subject2 = syft.DataSubject(\"Name2\")\n",
    "tensor2 = SyTensor(raw_data2, data_subject=data_subject2)\n"
   ]
  },
  {
   "cell_type": "code",
   "execution_count": 23,
   "metadata": {},
   "outputs": [],
   "source": [
    "new_tensor = tensor1 + tensor2"
   ]
  },
  {
   "cell_type": "code",
   "execution_count": 24,
   "metadata": {},
   "outputs": [],
   "source": [
    "new_tensor.side_effects = {\n",
    "    \"Computational Graph\": Mock(),\n",
    "    \"bounds\": (Mock(), Mock()),\n",
    "    }"
   ]
  },
  {
   "cell_type": "code",
   "execution_count": 25,
   "metadata": {},
   "outputs": [
    {
     "data": {
      "text/plain": [
       "<Mock name='mock.publish().delta' id='140541128518640'>"
      ]
     },
     "execution_count": 25,
     "metadata": {},
     "output_type": "execute_result"
    }
   ],
   "source": [
    "privacy_parameters = {\n",
    "    \"sigma\": 0.001,\n",
    "}\n",
    "mechanism_result = iDPMechanism.publish(new_tensor, privacy_parameters)\n",
    "mechanism_result.output # privatized_tensor = tensor + noise\n",
    "mechanism_result.epsilon # spent budget (for iDP this is an array)\n",
    "mechanism_result.delta\n",
    "mechanism_result.lipschitz_bound # for summation this is 1"
   ]
  },
  {
   "cell_type": "code",
   "execution_count": 27,
   "metadata": {},
   "outputs": [
    {
     "data": {
      "text/plain": [
       "<Mock name='mock.publish().delta' id='140541128515232'>"
      ]
     },
     "execution_count": 27,
     "metadata": {},
     "output_type": "execute_result"
    }
   ],
   "source": [
    "privacy_parameters = {\n",
    "    \"sigma\": 0.001,\n",
    "}\n",
    "mechanism_result = GaussianMechanism.publish(new_tensor, privacy_parameters)\n",
    "mechanism_result.output # privatized_tensor = tensor + noise\n",
    "mechanism_result.epsilon # spent budget (for Gaussian this is 1 value)\n",
    "mechanism_result.delta\n",
    "mechanism_result.sensitivity # depends on input domains"
   ]
  },
  {
   "cell_type": "code",
   "execution_count": 29,
   "metadata": {},
   "outputs": [
    {
     "data": {
      "text/plain": [
       "<Mock name='mock().publish()' id='140540229790560'>"
      ]
     },
     "execution_count": 29,
     "metadata": {},
     "output_type": "execute_result"
    }
   ],
   "source": [
    "domain_owner_client = Mock()\n",
    "pointer1 = domain_owner_client.send(tensor1)\n",
    "pointer2 = domain_owner_client.send(tensor2)\n"
   ]
  },
  {
   "cell_type": "code",
   "execution_count": 31,
   "metadata": {},
   "outputs": [
    {
     "data": {
      "text/plain": [
       "<Mock name='mock().publish()' id='140540229790560'>"
      ]
     },
     "execution_count": 31,
     "metadata": {},
     "output_type": "execute_result"
    }
   ],
   "source": [
    "ds_client = Mock()\n",
    "pointer1 = ds_client.store.get(Mock().tensor_id1)\n",
    "pointer2 = ds_client.store.get(Mock().tensor_id2)\n",
    "\n",
    "new_pointer = pointer1 + pointer2\n",
    "\n",
    "private_output = new_pointer.publish(privacy_parameters, mechanism=\"Gaussian\") \n",
    "private_output.result # can be Ok or Err\n",
    "private_output.noise_distribution # visualize how big is your noise\n",
    "\n",
    "new_pointer.publish(privacy_parameters, mechanism=\"iDP\") # this handles accounting and IO"
   ]
  },
  {
   "cell_type": "code",
   "execution_count": null,
   "metadata": {},
   "outputs": [],
   "source": [
    "mech = GaussianMechanism.mock(new_tensor.side_effects, privacy_parameters) # this can be used for guarantees\n",
    "mech.noise_distribution\n",
    "mech.epsilon\n",
    "mech.delta"
   ]
  }
 ],
 "metadata": {
  "kernelspec": {
   "display_name": "PySyft",
   "language": "python",
   "name": "python3"
  },
  "language_info": {
   "codemirror_mode": {
    "name": "ipython",
    "version": 3
   },
   "file_extension": ".py",
   "mimetype": "text/x-python",
   "name": "python",
   "nbconvert_exporter": "python",
   "pygments_lexer": "ipython3",
   "version": "3.10.4 (main, Mar 31 2022, 08:41:55) [GCC 7.5.0]"
  },
  "orig_nbformat": 4,
  "vscode": {
   "interpreter": {
    "hash": "4793a45c21657cf3d03167fad0b0286070df6dcd03825f60c6ea99cbb4eef702"
   }
  }
 },
 "nbformat": 4,
 "nbformat_minor": 2
}

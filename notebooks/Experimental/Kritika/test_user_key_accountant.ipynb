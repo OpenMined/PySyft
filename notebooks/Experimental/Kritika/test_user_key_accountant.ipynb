{
 "cells": [
  {
   "cell_type": "code",
   "execution_count": 1,
   "id": "128e0a96-e001-413a-9696-9d3504d05e7e",
   "metadata": {},
   "outputs": [],
   "source": [
    "import syft as sy"
   ]
  },
  {
   "cell_type": "code",
   "execution_count": 2,
   "id": "042b71be-16d6-4bfc-95b1-3be86a02d296",
   "metadata": {},
   "outputs": [],
   "source": [
    "from syft.core.node.common.node_manager.ledger_manager import LedgerManager\n",
    "from sqlalchemy import create_engine\n",
    "from syft.core.adp.idp_gaussian_mechanism import iDPGaussianMechanism\n",
    "from syft.core.node.common.node_table import Base\n",
    "from syft.core.adp.entity import Entity\n",
    "from syft.core.adp.adversarial_accountant import AdversarialAccountant\n",
    "from syft import serialize,deserialize\n",
    "from nacl.signing import SigningKey\n",
    "from nacl.signing import VerifyKey\n",
    "\n",
    "engine = create_engine(\"sqlite:///nodedatabase.db\", pool_pre_ping=True)\n",
    "Base.metadata.create_all(engine)\n",
    "\n",
    "signing_key = SigningKey.generate()\n",
    "verify_key = signing_key.verify_key\n",
    "\n",
    "mechanism1 = iDPGaussianMechanism(1.0,2.0,3.0, \"Trask\", user_key=verify_key)\n",
    "trask = Entity(name=\"Trask\")\n",
    "ad = AdversarialAccountant(db_engine=engine, max_budget=20)"
   ]
  },
  {
   "cell_type": "code",
   "execution_count": 3,
   "id": "c324c05a-3249-4e68-a797-24f1f1ab1154",
   "metadata": {},
   "outputs": [],
   "source": [
    "ad.append({trask.name : [mechanism1]})"
   ]
  },
  {
   "cell_type": "code",
   "execution_count": 4,
   "id": "eff157dc-2aeb-4d0e-980c-69fa9736442e",
   "metadata": {
    "tags": []
   },
   "outputs": [
    {
     "name": "stdout",
     "output_type": "stream",
     "text": [
      "Mechanisms before filtering:  [<syft.core.adp.idp_gaussian_mechanism.iDPGaussianMechanism object at 0x7feb3f6a00d0>]\n",
      "User key of mechanism:  b'\\x06\\xf7\\xb1\\xe7\\xa5\\x84!-oq\\x0f\\xaa\\x197\\xcb[f4\\xda\\x1f\\xd9\\xeb\\x06b\\x14\\xa3\\xcc\\xf0\\x15B\\xd7='\n",
      "Input user key:  b'\\x06\\xf7\\xb1\\xe7\\xa5\\x84!-oq\\x0f\\xaa\\x197\\xcb[f4\\xda\\x1f\\xd9\\xeb\\x06b\\x14\\xa3\\xcc\\xf0\\x15B\\xd7='\n",
      "Mechanisma after filtering:  [<syft.core.adp.idp_gaussian_mechanism.iDPGaussianMechanism object at 0x7feb3f6a00d0>]\n"
     ]
    },
    {
     "data": {
      "text/plain": [
       "48.05124774690324"
      ]
     },
     "execution_count": 4,
     "metadata": {},
     "output_type": "execute_result"
    }
   ],
   "source": [
    "ad.get_eps_for_entity(entity_name=trask.name, user_key=verify_key)"
   ]
  },
  {
   "cell_type": "code",
   "execution_count": 5,
   "id": "ec4d81ed-f762-49d7-94e2-08f1b7b08735",
   "metadata": {
    "tags": []
   },
   "outputs": [],
   "source": [
    "signing_key2 = SigningKey.generate()\n",
    "verify_key2 = signing_key2.verify_key"
   ]
  },
  {
   "cell_type": "code",
   "execution_count": 6,
   "id": "0c9ff041-f2cb-44d3-96e7-4a0ea9d053a4",
   "metadata": {
    "tags": []
   },
   "outputs": [
    {
     "name": "stdout",
     "output_type": "stream",
     "text": [
      "Mechanisms before filtering:  [<syft.core.adp.idp_gaussian_mechanism.iDPGaussianMechanism object at 0x7feb3f72b940>]\n",
      "User key of mechanism:  b'\\x06\\xf7\\xb1\\xe7\\xa5\\x84!-oq\\x0f\\xaa\\x197\\xcb[f4\\xda\\x1f\\xd9\\xeb\\x06b\\x14\\xa3\\xcc\\xf0\\x15B\\xd7='\n",
      "Input user key:  b'\\xbc\\x1c?#\\xac\\xf7\\x9a,k_\\x02]\\xe7\\x06\\xa5\\xd6\\x14\\x0b\\xe7.\\xf64\"V\\xd5\\xa6\\r*\\\\\\xe7\\x1e\\xcb'\n",
      "Mechanisma after filtering:  []\n"
     ]
    },
    {
     "ename": "ValueError",
     "evalue": "max() arg is an empty sequence",
     "output_type": "error",
     "traceback": [
      "\u001b[0;31m---------------------------------------------------------------------------\u001b[0m",
      "\u001b[0;31mValueError\u001b[0m                                Traceback (most recent call last)",
      "\u001b[0;32m/tmp/ipykernel_243621/660037142.py\u001b[0m in \u001b[0;36m<module>\u001b[0;34m\u001b[0m\n\u001b[0;32m----> 1\u001b[0;31m \u001b[0mad\u001b[0m\u001b[0;34m.\u001b[0m\u001b[0mget_eps_for_entity\u001b[0m\u001b[0;34m(\u001b[0m\u001b[0mentity_name\u001b[0m\u001b[0;34m=\u001b[0m\u001b[0mtrask\u001b[0m\u001b[0;34m.\u001b[0m\u001b[0mname\u001b[0m\u001b[0;34m,\u001b[0m \u001b[0muser_key\u001b[0m\u001b[0;34m=\u001b[0m\u001b[0mverify_key2\u001b[0m\u001b[0;34m)\u001b[0m\u001b[0;34m\u001b[0m\u001b[0;34m\u001b[0m\u001b[0m\n\u001b[0m",
      "\u001b[0;32m~/PySyft/packages/syft/src/syft/core/adp/adversarial_accountant.py\u001b[0m in \u001b[0;36mget_eps_for_entity\u001b[0;34m(self, entity_name, user_key)\u001b[0m\n\u001b[1;32m     69\u001b[0m \u001b[0;34m\u001b[0m\u001b[0m\n\u001b[1;32m     70\u001b[0m         \u001b[0;31m# map dataset\u001b[0m\u001b[0;34m\u001b[0m\u001b[0;34m\u001b[0m\u001b[0;34m\u001b[0m\u001b[0m\n\u001b[0;32m---> 71\u001b[0;31m         \u001b[0mcomposed_mech\u001b[0m \u001b[0;34m=\u001b[0m \u001b[0mcompose\u001b[0m\u001b[0;34m(\u001b[0m\u001b[0mmechanisms\u001b[0m\u001b[0;34m,\u001b[0m \u001b[0;34m[\u001b[0m\u001b[0;36m1\u001b[0m\u001b[0;34m]\u001b[0m \u001b[0;34m*\u001b[0m \u001b[0mlen\u001b[0m\u001b[0;34m(\u001b[0m\u001b[0mmechanisms\u001b[0m\u001b[0;34m)\u001b[0m\u001b[0;34m)\u001b[0m\u001b[0;34m\u001b[0m\u001b[0;34m\u001b[0m\u001b[0m\n\u001b[0m\u001b[1;32m     72\u001b[0m \u001b[0;34m\u001b[0m\u001b[0m\n\u001b[1;32m     73\u001b[0m         \u001b[0;32mreturn\u001b[0m \u001b[0mcomposed_mech\u001b[0m\u001b[0;34m.\u001b[0m\u001b[0mget_approxDP\u001b[0m\u001b[0;34m(\u001b[0m\u001b[0mself\u001b[0m\u001b[0;34m.\u001b[0m\u001b[0mdelta\u001b[0m\u001b[0;34m)\u001b[0m\u001b[0;34m\u001b[0m\u001b[0;34m\u001b[0m\u001b[0m\n",
      "\u001b[0;32m~/anaconda3/envs/syftenv/lib/python3.8/site-packages/autodp/autodp_core.py\u001b[0m in \u001b[0;36m__call__\u001b[0;34m(self, *args, **kwargs)\u001b[0m\n\u001b[1;32m    281\u001b[0m \u001b[0;34m\u001b[0m\u001b[0m\n\u001b[1;32m    282\u001b[0m     \u001b[0;32mdef\u001b[0m \u001b[0m__call__\u001b[0m\u001b[0;34m(\u001b[0m\u001b[0mself\u001b[0m\u001b[0;34m,\u001b[0m \u001b[0;34m*\u001b[0m\u001b[0margs\u001b[0m\u001b[0;34m,\u001b[0m \u001b[0;34m**\u001b[0m\u001b[0mkwargs\u001b[0m\u001b[0;34m)\u001b[0m\u001b[0;34m:\u001b[0m\u001b[0;34m\u001b[0m\u001b[0;34m\u001b[0m\u001b[0m\n\u001b[0;32m--> 283\u001b[0;31m         \u001b[0;32mreturn\u001b[0m \u001b[0mself\u001b[0m\u001b[0;34m.\u001b[0m\u001b[0mtransform\u001b[0m\u001b[0;34m(\u001b[0m\u001b[0;34m*\u001b[0m\u001b[0margs\u001b[0m\u001b[0;34m,\u001b[0m \u001b[0;34m**\u001b[0m\u001b[0mkwargs\u001b[0m\u001b[0;34m)\u001b[0m\u001b[0;34m\u001b[0m\u001b[0;34m\u001b[0m\u001b[0m\n\u001b[0m\u001b[1;32m    284\u001b[0m \u001b[0;34m\u001b[0m\u001b[0m\n\u001b[1;32m    285\u001b[0m \u001b[0;34m\u001b[0m\u001b[0m\n",
      "\u001b[0;32m~/anaconda3/envs/syftenv/lib/python3.8/site-packages/autodp/transformer_zoo.py\u001b[0m in \u001b[0;36mcompose\u001b[0;34m(self, mechanism_list, coeff_list, RDP_compose_only)\u001b[0m\n\u001b[1;32m     39\u001b[0m         newmech.eps_pureDP = sum([c * mech.eps_pureDP for (mech, c)\n\u001b[1;32m     40\u001b[0m                                   in zip(mechanism_list, coeff_list)])\n\u001b[0;32m---> 41\u001b[0;31m         newmech.delta0 = max([mech.delta0 for (mech, c)\n\u001b[0m\u001b[1;32m     42\u001b[0m                               in zip(mechanism_list, coeff_list)])\n\u001b[1;32m     43\u001b[0m \u001b[0;34m\u001b[0m\u001b[0m\n",
      "\u001b[0;31mValueError\u001b[0m: max() arg is an empty sequence"
     ]
    }
   ],
   "source": [
    "ad.get_eps_for_entity(entity_name=trask.name, user_key=verify_key2)"
   ]
  },
  {
   "cell_type": "code",
   "execution_count": null,
   "id": "4cc4e3aa-0cd8-48c8-b9ba-0bca75b9f0ca",
   "metadata": {},
   "outputs": [],
   "source": []
  }
 ],
 "metadata": {
  "kernelspec": {
   "display_name": "Python 3 (ipykernel)",
   "language": "python",
   "name": "python3"
  },
  "language_info": {
   "codemirror_mode": {
    "name": "ipython",
    "version": 3
   },
   "file_extension": ".py",
   "mimetype": "text/x-python",
   "name": "python",
   "nbconvert_exporter": "python",
   "pygments_lexer": "ipython3",
   "version": "3.8.10"
  }
 },
 "nbformat": 4,
 "nbformat_minor": 5
}

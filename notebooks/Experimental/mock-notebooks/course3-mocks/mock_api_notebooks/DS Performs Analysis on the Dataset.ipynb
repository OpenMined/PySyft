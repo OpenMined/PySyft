{
 "cells": [
  {
   "cell_type": "markdown",
   "id": "1a49837a",
   "metadata": {},
   "source": [
    "#### Perform Analysis on the Dataset\n",
    "\n",
    "- The user can perform analysis on the dataset.\n",
    "- The types of data structures supported:\n",
    "    - Tensors (With AutoDP + SMPC)\n",
    "    - Numpy Arrays (Without AutoDP and SMPC)\n",
    "- Two datasets from different domains can interact with each other (The operations are backed  by SMPC):\n",
    "- The user can perform computation on the private data and access results via ADP.\n",
    "\n",
    "List of all operations are being developed:\n",
    "https://docs.google.com/spreadsheets/d/10GOdTuOxcaTJFENWAW8MAVDZYLEyJJJvdb0iUSt6Apw/edit#gid=2082830269"
   ]
  },
  {
   "cell_type": "code",
   "execution_count": null,
   "id": "cf68123f",
   "metadata": {},
   "outputs": [],
   "source": [
    "# Let's login to a domain\n",
    "\n",
    "# Let's assume we have the url to the domain node\n",
    "# Let's login to the canada domain\n",
    "ca_domain = sy.login(\n",
    "    url=\"https://ca.openmined.org\"\n",
    "    email=\"sheldon@caltech.edu\",\n",
    "    password=\"bazinga\",\n",
    "    port=8081\n",
    ")\n",
    "\n",
    "# Let's login to the italy domain\n",
    "\n",
    "it_domain = sy.login(\n",
    "    url=\"https://it.openmined.org\",\n",
    "    email=\"sheldon@caltech.edu\",\n",
    "    password=\"bazinga\",\n",
    "    port=8082,\n",
    ")"
   ]
  },
  {
   "cell_type": "code",
   "execution_count": null,
   "id": "374f0ed2",
   "metadata": {},
   "outputs": [],
   "source": [
    "# Let's select the trade dataset from both these domain\n",
    "# Assumption: the dataset at index zero is the trade dataset and asset name is `feb-2020`\n",
    "\n",
    "# Canada trade dataset\n",
    "ca_trade_dataset = ca_domain.datasets[0][\"feb-2020\"]\n",
    "\n",
    "# Italy trade dataset\n",
    "it_trade_dataset = it_domain.datasets[0][\"it-2020\"]"
   ]
  },
  {
   "cell_type": "code",
   "execution_count": null,
   "id": "9a215542",
   "metadata": {},
   "outputs": [],
   "source": [
    "# Performing a private-private computation\n",
    "\n",
    "# Sum the values in the columns\n",
    "result = ca_trade_dataset + it_trade_dataset"
   ]
  },
  {
   "cell_type": "code",
   "execution_count": null,
   "id": "6d003870",
   "metadata": {},
   "outputs": [],
   "source": [
    "# If both ca_trade_dataset and it_trade_dataset have private Syft Tensors, then\n",
    "published_result = result.publish(sigma=10)"
   ]
  },
  {
   "cell_type": "code",
   "execution_count": 16,
   "id": "511640ef",
   "metadata": {},
   "outputs": [
    {
     "name": "stdout",
     "output_type": "stream",
     "text": [
      "\n",
      "    \u001b[91mResultNotReadyException:\u001b[0m\n",
      "        The published results are not yet ready. Please try again after some time.\n",
      "\n"
     ]
    }
   ],
   "source": [
    "# Get the results from the computation\n",
    "# If the publish operation is still in process, and user tries to get results, then throw an error\n",
    "published_result.get()"
   ]
  },
  {
   "cell_type": "code",
   "execution_count": 13,
   "id": "2b8139ba",
   "metadata": {},
   "outputs": [
    {
     "name": "stdout",
     "output_type": "stream",
     "text": [
      "\n",
      "    \u001b[91mUnknownPrivateTensorException:\u001b[0m\n",
      "        The private tensor you're trying to access does not exists.\n",
      "\n"
     ]
    }
   ],
   "source": [
    "# If the publish operation failed for some reason and user tries to get result.\n",
    "# Show the stack trace of the error in that case.\n",
    "published_result.get()"
   ]
  },
  {
   "cell_type": "code",
   "execution_count": 21,
   "id": "72ca1205",
   "metadata": {},
   "outputs": [
    {
     "data": {
      "text/plain": [
       "array([[153,  66, 102, 109],\n",
       "       [ 90,  40,  93,  31],\n",
       "       [ 49,  89,  43,  38],\n",
       "       [ 82,   9,  78, 153]], dtype=int32)"
      ]
     },
     "execution_count": 21,
     "metadata": {},
     "output_type": "execute_result"
    }
   ],
   "source": [
    "# If the publish operation is successful, then return the result.\n",
    "published_result.get()"
   ]
  },
  {
   "cell_type": "code",
   "execution_count": 28,
   "id": "cf8b77df",
   "metadata": {},
   "outputs": [
    {
     "name": "stdout",
     "output_type": "stream",
     "text": [
      "\n",
      "    \u001b[91mForbiddenOperationException:\u001b[0m\n",
      "        Publish operation cannot be performed, since AutoDP budgeting cannot be\n",
      "        applied to one of the operands. Instead you can request results using \u001b[1m`.request`\u001b[0m\n",
      "        method.\n",
      "\n"
     ]
    }
   ],
   "source": [
    "# Now, let's assume that ca_trade_dataset is a PrivateTensor while it_trade_dataset is a normal TensorPointer\n",
    "# i.e. AutoDP budgeting is applied to ca_trade_dataset but not to it_trade_dataset\n",
    "# In such a case, `.publish` cannot be performed.\n",
    "published_result = result.publish(sigma=10)"
   ]
  },
  {
   "cell_type": "code",
   "execution_count": 35,
   "id": "10aab725",
   "metadata": {},
   "outputs": [
    {
     "name": "stdout",
     "output_type": "stream",
     "text": [
      "\n",
      "    \u001b[91mPermissionDenied:\u001b[0m\n",
      "        Your request to access the data has been denied by the \u001b[1m`Italy Domain`\u001b[0m.\n",
      "        Please check \u001b[1m`.requests`\u001b[0m for more details on the request status.\n",
      "\n"
     ]
    }
   ],
   "source": [
    "# Let's assume, the user is requesting results but, one of the data owners denies the results.\n",
    "result_ptr = result.request(reason=\"Sum of the two columns\")\n",
    "\n",
    "# Let's say, Italy denied the request for result.\n",
    "result_ptr.get()"
   ]
  },
  {
   "cell_type": "code",
   "execution_count": null,
   "id": "cd420558",
   "metadata": {},
   "outputs": [],
   "source": [
    "# If user has say epsilon of 3 and they published results that require epsilon of 5, then\n",
    "# should we warn the user, or simple use burn the 3 epsilon and return the result."
   ]
  },
  {
   "cell_type": "code",
   "execution_count": null,
   "id": "7eb0d7fc",
   "metadata": {},
   "outputs": [],
   "source": [
    "# Since, currently the values are restricted to `int32`, so inorder to perform an operation\n",
    "# resulting in a float, we need to add some fix_precision to `int32` inorder to consider the fractional/decimal \n",
    "# values in our result.\n",
    "# e.g. if the input value is: 5\n",
    "# a fix_precision of 2 results in -> 500 (i.e. a float representation of the same value is 5.00)\n",
    "# Now, the operation of 500/2, results in 250 (2.5 in float), thus preserving the decimal part of the result.\n",
    "\n",
    "# Let's add the results\n",
    "result = ca_trade_dataset + it_trade_dataset\n",
    "# Perform a mean operation\n",
    "result_mean = result.fix_precision().mean()  # default = 3, number of decimal places to preserve."
   ]
  },
  {
   "cell_type": "code",
   "execution_count": 11,
   "id": "ec6cd7f0",
   "metadata": {},
   "outputs": [
    {
     "name": "stdout",
     "output_type": "stream",
     "text": [
      "\n",
      "    \u001b[93mFixPrecisionNotImplemented:\u001b[0m\n",
      "        Fix precision is not implemented for the `division` function. The fractional part \n",
      "        of the result cannot be preserved.\n",
      "\n"
     ]
    }
   ],
   "source": [
    "# If the fix precision is not implemented for any function, then throw a warning to the user\n",
    "result_mean = result.fix_precision().mean()"
   ]
  },
  {
   "cell_type": "code",
   "execution_count": 14,
   "id": "59c8c8a0",
   "metadata": {},
   "outputs": [
    {
     "name": "stdout",
     "output_type": "stream",
     "text": [
      "\n",
      "    \u001b[91mNotImplementedError:\u001b[0m\n",
      "        The function `std` is currently not supported. We apologise for the inconvenience 🙏\n",
      "        and will be adding support for more these methods very soon! \n",
      "        You can help us by creating a feature request for the desired functionality using the\n",
      "        following link: https://github.com/OpenMined/PySyft/issues\n",
      "\n"
     ]
    }
   ],
   "source": [
    "# Let's assume, the `std` functionality of the numpy array is not implemented\n",
    "# then throw an error\n",
    "\n",
    "result = ca_trade_dataset + it_trade_dataset\n",
    "stdeviation = np.std(result)"
   ]
  },
  {
   "cell_type": "code",
   "execution_count": null,
   "id": "dc378368",
   "metadata": {},
   "outputs": [],
   "source": []
  },
  {
   "cell_type": "code",
   "execution_count": null,
   "id": "15b760e7",
   "metadata": {},
   "outputs": [],
   "source": []
  },
  {
   "cell_type": "markdown",
   "id": "9ea28711",
   "metadata": {},
   "source": [
    "#### Dummy Dataset"
   ]
  },
  {
   "cell_type": "code",
   "execution_count": 1,
   "id": "62d1f11c",
   "metadata": {},
   "outputs": [],
   "source": [
    "import pandas as pd\n",
    "import numpy as np\n",
    "from enum import Enum\n",
    "import uuid\n",
    "import datetime\n",
    "import json\n",
    "\n",
    "\n",
    "class bcolors(Enum):\n",
    "    HEADER = \"\\033[95m\"\n",
    "    OKBLUE = \"\\033[94m\"\n",
    "    OKCYAN = \"\\033[96m\"\n",
    "    OKGREEN = \"\\033[92m\"\n",
    "    WARNING = \"\\033[93m\"\n",
    "    FAIL = \"\\033[91m\"\n",
    "    ENDC = \"\\033[0m\"\n",
    "    BOLD = \"\\033[1m\"\n",
    "    UNDERLINE = \"\\033[4m\""
   ]
  },
  {
   "cell_type": "code",
   "execution_count": 15,
   "id": "c9d6a86a",
   "metadata": {},
   "outputs": [
    {
     "name": "stdout",
     "output_type": "stream",
     "text": [
      "\n",
      "    \u001b[91mResultNotReadyException:\u001b[0m\n",
      "        The published results are not yet ready. Please try again after some time.\n",
      "\n"
     ]
    }
   ],
   "source": [
    "published_results_in_process=f\"\"\"\n",
    "    {bcolors.FAIL.value}ResultNotReadyException:{bcolors.ENDC.value}\n",
    "        The published results are not yet ready. Please try again after some time.\n",
    "\"\"\"\n",
    "print(published_results_in_process)"
   ]
  },
  {
   "cell_type": "code",
   "execution_count": 2,
   "id": "4ce7c280",
   "metadata": {},
   "outputs": [
    {
     "name": "stdout",
     "output_type": "stream",
     "text": [
      "\n",
      "    \u001b[91mUnknownPrivateTensorException:\u001b[0m\n",
      "        The private tensor you're trying to access does not exists.\n",
      "\n",
      "        \u001b[1mStackTrace\n",
      "        -----------\u001b[0m\n",
      "        ..\n",
      "        ..\n",
      "        ..\n",
      "\n"
     ]
    }
   ],
   "source": [
    "published_results_failed=f\"\"\"\n",
    "    {bcolors.FAIL.value}UnknownPrivateTensorException:{bcolors.ENDC.value}\n",
    "        The private tensor you're trying to access does not exists.\n",
    "\n",
    "        {bcolors.BOLD.value}StackTrace\n",
    "        -----------{bcolors.ENDC.value}\n",
    "        ..\n",
    "        ..\n",
    "        ..\n",
    "\"\"\"\n",
    "published_results_failed_v2=f\"\"\"\n",
    "    {bcolors.FAIL.value}UnknownPrivateTensorException:{bcolors.ENDC.value}\n",
    "        The private tensor you're trying to access does not exists.\n",
    "\"\"\"\n",
    "print(published_results_failed)"
   ]
  },
  {
   "cell_type": "code",
   "execution_count": 4,
   "id": "c18d307c",
   "metadata": {},
   "outputs": [],
   "source": [
    "published_result = np.random.randint(1, 256, (4, 4)).astype(np.int32)"
   ]
  },
  {
   "cell_type": "code",
   "execution_count": 5,
   "id": "51410500",
   "metadata": {},
   "outputs": [
    {
     "name": "stdout",
     "output_type": "stream",
     "text": [
      "\n",
      "    \u001b[91mForbiddenOperationException:\u001b[0m\n",
      "        Publish operation cannot be performed, since AutoDP budgeting cannot be\n",
      "        applied to one of the operands. Instead you can request results using \u001b[1m`.request`\u001b[0m\n",
      "        method.\n",
      "\n"
     ]
    }
   ],
   "source": [
    "private_budget_not_applied = f\"\"\"\n",
    "    {bcolors.FAIL.value}ForbiddenOperationException:{bcolors.ENDC.value}\n",
    "        Publish operation cannot be performed, since AutoDP budgeting cannot be\n",
    "        applied to one of the operands. Instead you can request results using {bcolors.BOLD.value}`.request`{bcolors.ENDC.value}\n",
    "        method.\n",
    "\"\"\"\n",
    "print(private_budget_not_applied)"
   ]
  },
  {
   "cell_type": "code",
   "execution_count": 6,
   "id": "f4a99bc2",
   "metadata": {},
   "outputs": [
    {
     "name": "stdout",
     "output_type": "stream",
     "text": [
      "\n",
      "    \u001b[91mPermissionDenied:\u001b[0m\n",
      "        Your request to access the data has been denied by the \u001b[1m`Italy Domain`\u001b[0m.\n",
      "        Please check \u001b[1m`.requests`\u001b[0m for more details on the request status.\n",
      "\n"
     ]
    }
   ],
   "source": [
    "request_denied_by_a_do = f\"\"\"\n",
    "    {bcolors.FAIL.value}PermissionDenied:{bcolors.ENDC.value}\n",
    "        Your request to access the data has been denied by the {bcolors.BOLD.value}`Italy Domain`{bcolors.ENDC.value}.\n",
    "        Please check {bcolors.BOLD.value}`.requests`{bcolors.ENDC.value} for more details on the request status.\n",
    "\"\"\"\n",
    "\n",
    "print(request_denied_by_a_do)"
   ]
  },
  {
   "cell_type": "code",
   "execution_count": 10,
   "id": "249ab184",
   "metadata": {},
   "outputs": [
    {
     "name": "stdout",
     "output_type": "stream",
     "text": [
      "\n",
      "    \u001b[93mFixPrecisionNotImplemented:\u001b[0m\n",
      "        Fix precision is not implemented for the `division` function. The fractional part \n",
      "        of the result cannot be preserved.\n",
      "\n"
     ]
    }
   ],
   "source": [
    "fix_precision_not_implemented = f\"\"\"\n",
    "    {bcolors.WARNING.value}FixPrecisionNotImplemented:{bcolors.ENDC.value}\n",
    "        Fix precision is not implemented for the `division` function. The fractional part \n",
    "        of the result cannot be preserved.\n",
    "\"\"\"\n",
    "print(fix_precision_not_implemented)"
   ]
  },
  {
   "cell_type": "code",
   "execution_count": 11,
   "id": "b16793b7",
   "metadata": {},
   "outputs": [],
   "source": [
    "function_not_implemented = f\"\"\"\n",
    "    {bcolors.FAIL.value}NotImplementedError:{bcolors.ENDC.value}\n",
    "        The function `std` is currently not supported. We apologise for the inconvenience 🙏\n",
    "        and will be adding support for more these methods very soon! \n",
    "        You can help us by creating a feature request for the desired functionality using the\n",
    "        following link: https://github.com/OpenMined/PySyft/issues\n",
    "\"\"\""
   ]
  },
  {
   "cell_type": "code",
   "execution_count": 12,
   "id": "2fbbe952",
   "metadata": {},
   "outputs": [
    {
     "name": "stdout",
     "output_type": "stream",
     "text": [
      "\n",
      "    \u001b[91mNotImplementedError:\u001b[0m\n",
      "        The function `std` is currently not supported. We apologise for the inconvenience 🙏\n",
      "        and will be adding support for more these methods very soon! \n",
      "        You can help us by creating a feature request for the desired functionality using the\n",
      "        following link: https://github.com/OpenMined/PySyft/issues\n",
      "\n"
     ]
    }
   ],
   "source": [
    "print(function_not_implemented)"
   ]
  },
  {
   "cell_type": "code",
   "execution_count": null,
   "id": "7bc28893",
   "metadata": {},
   "outputs": [],
   "source": []
  }
 ],
 "metadata": {
  "kernelspec": {
   "display_name": "Python 3 (ipykernel)",
   "language": "python",
   "name": "python3"
  },
  "language_info": {
   "codemirror_mode": {
    "name": "ipython",
    "version": 3
   },
   "file_extension": ".py",
   "mimetype": "text/x-python",
   "name": "python",
   "nbconvert_exporter": "python",
   "pygments_lexer": "ipython3",
   "version": "3.9.6"
  }
 },
 "nbformat": 4,
 "nbformat_minor": 5
}

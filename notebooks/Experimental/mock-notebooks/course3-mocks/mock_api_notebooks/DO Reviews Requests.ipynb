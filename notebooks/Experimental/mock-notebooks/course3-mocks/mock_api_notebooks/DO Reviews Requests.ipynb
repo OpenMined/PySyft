{
 "cells": [
  {
   "cell_type": "markdown",
   "id": "42063e39",
   "metadata": {},
   "source": [
    "#### DO views the pending requests and takes an action\n",
    "\n",
    "The Data Owner can view the requests that are submitted to the domain. Following is the information visible to the user:\n",
    "\n",
    "For Data Requests\n",
    "\n",
    "- Request Id (Unique id of the request)\n",
    "- Request Date (Datetime on which the request was submitted. The datetime/timestamp are shown in UTC)\n",
    "- Reason (The reason submitted to access the resource by requester)\n",
    "- Result Id (The unique id of the reasource being requested)\n",
    "- State (State of the request - Approved/Declined/Pending)\n",
    "- Reviewer Comments\n",
    "\n",
    "For Budget Requests\n",
    "\n",
    "- Request Id (Unique id of the request)\n",
    "- Request Date (Datetime on which the request was submitted. The datetime/timestamp are shown in UTC)\n",
    "- Reason (The reason submitted to access the resource by requester)\n",
    "- Current Budget (Current Private Budget)\n",
    "- Requested Budget (The number of epsilons requested by the user)\n",
    "- State (State of the request - Approved/Denied/Pending)\n",
    "\n",
    "A DO user can perform the following operations: **[P0]**\n",
    "- List the requests submitted to the domain\n",
    "- Select a request via `index` or `Request Id`\n",
    "- Take action on the request (Available options are: Approve/Decline)\n",
    "- Provide an optional `comment` on approval or decline by the Domain Owner.\n",
    "\n",
    "\n",
    "**Note**\n",
    "Currently, the requests are not persisitent. They are deleted, as soon as an action (approve/deny) is taken on them."
   ]
  },
  {
   "cell_type": "code",
   "execution_count": null,
   "id": "72888a9b",
   "metadata": {},
   "outputs": [],
   "source": [
    "import syft as sy"
   ]
  },
  {
   "cell_type": "code",
   "execution_count": null,
   "id": "34364e17",
   "metadata": {},
   "outputs": [],
   "source": [
    "# Let's login into my domain\n",
    "\n",
    "rnsa_domain_client = sy.login(\n",
    "    url=\"https://rsna.openmined.org\",\n",
    "    email=\"info@openmined.org\", password=\"bazinga\", \n",
    "    port=8081\n",
    ")"
   ]
  },
  {
   "cell_type": "markdown",
   "id": "fa278306",
   "metadata": {},
   "source": [
    "#### Approve/Deny Data Requests"
   ]
  },
  {
   "cell_type": "code",
   "execution_count": 3,
   "id": "d8d400cd",
   "metadata": {},
   "outputs": [
    {
     "name": "stdout",
     "output_type": "stream",
     "text": [
      "You have 1 pending data request\n"
     ]
    },
    {
     "data": {
      "text/html": [
       "<div>\n",
       "<style scoped>\n",
       "    .dataframe tbody tr th:only-of-type {\n",
       "        vertical-align: middle;\n",
       "    }\n",
       "\n",
       "    .dataframe tbody tr th {\n",
       "        vertical-align: top;\n",
       "    }\n",
       "\n",
       "    .dataframe thead th {\n",
       "        text-align: right;\n",
       "    }\n",
       "</style>\n",
       "<table border=\"1\" class=\"dataframe\">\n",
       "  <thead>\n",
       "    <tr style=\"text-align: right;\">\n",
       "      <th></th>\n",
       "      <th>Id</th>\n",
       "      <th>Request Date</th>\n",
       "      <th>Reason</th>\n",
       "      <th>Result Id</th>\n",
       "      <th>State</th>\n",
       "      <th>Reviewer Comments</th>\n",
       "    </tr>\n",
       "  </thead>\n",
       "  <tbody>\n",
       "    <tr>\n",
       "      <th>0</th>\n",
       "      <td>65cb262f68dd4316890eb6a2440a4d5a</td>\n",
       "      <td>Sep 29 2021 11:38AM</td>\n",
       "      <td>Know the number of unique labels in the dataset.</td>\n",
       "      <td>4df1108de08c4557b50fc53f49011c10</td>\n",
       "      <td>Pending</td>\n",
       "      <td>-</td>\n",
       "    </tr>\n",
       "  </tbody>\n",
       "</table>\n",
       "</div>"
      ],
      "text/plain": [
       "                                 Id         Request Date  \\\n",
       "0  65cb262f68dd4316890eb6a2440a4d5a  Sep 29 2021 11:38AM   \n",
       "\n",
       "                                             Reason  \\\n",
       "0  Know the number of unique labels in the dataset.   \n",
       "\n",
       "                          Result Id    State Reviewer Comments  \n",
       "0  4df1108de08c4557b50fc53f49011c10  Pending                 -  "
      ]
     },
     "execution_count": 3,
     "metadata": {},
     "output_type": "execute_result"
    }
   ],
   "source": [
    "# Let's have a look for an requests pending for review on the domain\n",
    "# We can call the `.requests` method to list all the pending requests\n",
    "# Note: `.requests` will only list the requests with state == `Pending`\n",
    "rsna_domain_client.requests"
   ]
  },
  {
   "cell_type": "code",
   "execution_count": 4,
   "id": "74fe4ee6",
   "metadata": {},
   "outputs": [
    {
     "data": {
      "text/html": [
       "<div>\n",
       "<style scoped>\n",
       "    .dataframe tbody tr th:only-of-type {\n",
       "        vertical-align: middle;\n",
       "    }\n",
       "\n",
       "    .dataframe tbody tr th {\n",
       "        vertical-align: top;\n",
       "    }\n",
       "\n",
       "    .dataframe thead th {\n",
       "        text-align: right;\n",
       "    }\n",
       "</style>\n",
       "<table border=\"1\" class=\"dataframe\">\n",
       "  <thead>\n",
       "    <tr style=\"text-align: right;\">\n",
       "      <th></th>\n",
       "      <th>Id</th>\n",
       "      <th>Request Date</th>\n",
       "      <th>Reason</th>\n",
       "      <th>Result Id</th>\n",
       "      <th>State</th>\n",
       "      <th>Reviewer Comments</th>\n",
       "    </tr>\n",
       "  </thead>\n",
       "  <tbody>\n",
       "    <tr>\n",
       "      <th>0</th>\n",
       "      <td>65cb262f68dd4316890eb6a2440a4d5a</td>\n",
       "      <td>Sep 29 2021 11:38AM</td>\n",
       "      <td>Know the number of unique labels in the dataset.</td>\n",
       "      <td>4df1108de08c4557b50fc53f49011c10</td>\n",
       "      <td>Pending</td>\n",
       "      <td>-</td>\n",
       "    </tr>\n",
       "    <tr>\n",
       "      <th>1</th>\n",
       "      <td>609fb84f10714d0ab93197980bea0a2c</td>\n",
       "      <td>Sep 19 2021 01:38AM</td>\n",
       "      <td>Get the labels in the dataset.</td>\n",
       "      <td>b82cc4050c9c438c9a1b1f9474b81082</td>\n",
       "      <td>Denied</td>\n",
       "      <td>Access to raw labels is not allowed</td>\n",
       "    </tr>\n",
       "    <tr>\n",
       "      <th>2</th>\n",
       "      <td>2eec3515210b4fbab58a903ddcfa7e8e</td>\n",
       "      <td>Sep 09 2021 01:38AM</td>\n",
       "      <td>Get the number of columns in the dataset.</td>\n",
       "      <td>6781046e93d9482381bf0f0d4016a4d2</td>\n",
       "      <td>Approved</td>\n",
       "      <td>-</td>\n",
       "    </tr>\n",
       "  </tbody>\n",
       "</table>\n",
       "</div>"
      ],
      "text/plain": [
       "                                 Id         Request Date  \\\n",
       "0  65cb262f68dd4316890eb6a2440a4d5a  Sep 29 2021 11:38AM   \n",
       "1  609fb84f10714d0ab93197980bea0a2c  Sep 19 2021 01:38AM   \n",
       "2  2eec3515210b4fbab58a903ddcfa7e8e  Sep 09 2021 01:38AM   \n",
       "\n",
       "                                             Reason  \\\n",
       "0  Know the number of unique labels in the dataset.   \n",
       "1                    Get the labels in the dataset.   \n",
       "2         Get the number of columns in the dataset.   \n",
       "\n",
       "                          Result Id     State  \\\n",
       "0  4df1108de08c4557b50fc53f49011c10   Pending   \n",
       "1  b82cc4050c9c438c9a1b1f9474b81082    Denied   \n",
       "2  6781046e93d9482381bf0f0d4016a4d2  Approved   \n",
       "\n",
       "                     Reviewer Comments  \n",
       "0                                    -  \n",
       "1  Access to raw labels is not allowed  \n",
       "2                                    -  "
      ]
     },
     "execution_count": 4,
     "metadata": {},
     "output_type": "execute_result"
    }
   ],
   "source": [
    "# Let's say we want to list all the requests that have been submitted to the domain\n",
    "# And not just the pending requests, we can do as:\n",
    "# `requests.all()`\n",
    "\n",
    "rnsa_domain_client.requests.all()"
   ]
  },
  {
   "cell_type": "code",
   "execution_count": 12,
   "id": "24382b4c",
   "metadata": {},
   "outputs": [],
   "source": [
    "# Let's select a pending request and take some action\n",
    "# A user can select a request object via `index` or `id`\n",
    "\n",
    "# Let's say we pick up the first request related to privacy budget\n",
    "request_obj = rsna_domain_client.requests[0]\n",
    "\n",
    "# or via \"Request Id\"\n",
    "\n",
    "request_obj = rsna_domain_client.requests[\"65cb262f68dd4316890eb6a2440a4d5a\"]"
   ]
  },
  {
   "cell_type": "code",
   "execution_count": 17,
   "id": "760ab8fc",
   "metadata": {},
   "outputs": [
    {
     "name": "stdout",
     "output_type": "stream",
     "text": [
      "You have no pending requests.\n"
     ]
    }
   ],
   "source": [
    "# The user can either `approve` or `deny` a request\n",
    "\n",
    "request_obj.approve(comment=\"Look good for now\")\n",
    "\n",
    "# Or `deny` the request \n",
    "\n",
    "request_obj.deny(comment=\"Information not allowed\")\n",
    "\n",
    "# Let's check for pending requests\n",
    "rsna_domain_client.requests"
   ]
  },
  {
   "cell_type": "code",
   "execution_count": 5,
   "id": "86642a1a",
   "metadata": {},
   "outputs": [
    {
     "data": {
      "text/html": [
       "<div>\n",
       "<style scoped>\n",
       "    .dataframe tbody tr th:only-of-type {\n",
       "        vertical-align: middle;\n",
       "    }\n",
       "\n",
       "    .dataframe tbody tr th {\n",
       "        vertical-align: top;\n",
       "    }\n",
       "\n",
       "    .dataframe thead th {\n",
       "        text-align: right;\n",
       "    }\n",
       "</style>\n",
       "<table border=\"1\" class=\"dataframe\">\n",
       "  <thead>\n",
       "    <tr style=\"text-align: right;\">\n",
       "      <th></th>\n",
       "      <th>Id</th>\n",
       "      <th>Request Date</th>\n",
       "      <th>Reason</th>\n",
       "      <th>Result Id</th>\n",
       "      <th>State</th>\n",
       "      <th>Reviewer Comments</th>\n",
       "    </tr>\n",
       "  </thead>\n",
       "  <tbody>\n",
       "    <tr>\n",
       "      <th>0</th>\n",
       "      <td>65cb262f68dd4316890eb6a2440a4d5a</td>\n",
       "      <td>Sep 29 2021 11:38AM</td>\n",
       "      <td>Know the number of unique labels in the dataset.</td>\n",
       "      <td>4df1108de08c4557b50fc53f49011c10</td>\n",
       "      <td>Approved</td>\n",
       "      <td>Look good for now</td>\n",
       "    </tr>\n",
       "    <tr>\n",
       "      <th>1</th>\n",
       "      <td>609fb84f10714d0ab93197980bea0a2c</td>\n",
       "      <td>Sep 19 2021 01:38AM</td>\n",
       "      <td>Get the labels in the dataset.</td>\n",
       "      <td>b82cc4050c9c438c9a1b1f9474b81082</td>\n",
       "      <td>Denied</td>\n",
       "      <td>Look good for now</td>\n",
       "    </tr>\n",
       "    <tr>\n",
       "      <th>2</th>\n",
       "      <td>2eec3515210b4fbab58a903ddcfa7e8e</td>\n",
       "      <td>Sep 09 2021 01:38AM</td>\n",
       "      <td>Get the number of columns in the dataset.</td>\n",
       "      <td>6781046e93d9482381bf0f0d4016a4d2</td>\n",
       "      <td>Approved</td>\n",
       "      <td>Look good for now</td>\n",
       "    </tr>\n",
       "  </tbody>\n",
       "</table>\n",
       "</div>"
      ],
      "text/plain": [
       "                                 Id         Request Date  \\\n",
       "0  65cb262f68dd4316890eb6a2440a4d5a  Sep 29 2021 11:38AM   \n",
       "1  609fb84f10714d0ab93197980bea0a2c  Sep 19 2021 01:38AM   \n",
       "2  2eec3515210b4fbab58a903ddcfa7e8e  Sep 09 2021 01:38AM   \n",
       "\n",
       "                                             Reason  \\\n",
       "0  Know the number of unique labels in the dataset.   \n",
       "1                    Get the labels in the dataset.   \n",
       "2         Get the number of columns in the dataset.   \n",
       "\n",
       "                          Result Id     State  Reviewer Comments  \n",
       "0  4df1108de08c4557b50fc53f49011c10  Approved  Look good for now  \n",
       "1  b82cc4050c9c438c9a1b1f9474b81082    Denied  Look good for now  \n",
       "2  6781046e93d9482381bf0f0d4016a4d2  Approved  Look good for now  "
      ]
     },
     "execution_count": 5,
     "metadata": {},
     "output_type": "execute_result"
    }
   ],
   "source": [
    "# Let's say the last request was approved\n",
    "# and we want to list all the requests submitted to the domain so far\n",
    "rsna_domain_client.requests.all()"
   ]
  },
  {
   "cell_type": "markdown",
   "id": "65784be4",
   "metadata": {},
   "source": [
    "#### Approve/Deny Budget requests"
   ]
  },
  {
   "cell_type": "code",
   "execution_count": 11,
   "id": "a9490466",
   "metadata": {},
   "outputs": [
    {
     "name": "stdout",
     "output_type": "stream",
     "text": [
      "You have 1 pending budget request\n"
     ]
    },
    {
     "data": {
      "text/html": [
       "<div>\n",
       "<style scoped>\n",
       "    .dataframe tbody tr th:only-of-type {\n",
       "        vertical-align: middle;\n",
       "    }\n",
       "\n",
       "    .dataframe tbody tr th {\n",
       "        vertical-align: top;\n",
       "    }\n",
       "\n",
       "    .dataframe thead th {\n",
       "        text-align: right;\n",
       "    }\n",
       "</style>\n",
       "<table border=\"1\" class=\"dataframe\">\n",
       "  <thead>\n",
       "    <tr style=\"text-align: right;\">\n",
       "      <th></th>\n",
       "      <th>Request Id</th>\n",
       "      <th>Request Date</th>\n",
       "      <th>Reason</th>\n",
       "      <th>Current Budget</th>\n",
       "      <th>Requested Budget</th>\n",
       "      <th>State</th>\n",
       "    </tr>\n",
       "  </thead>\n",
       "  <tbody>\n",
       "    <tr>\n",
       "      <th>0</th>\n",
       "      <td>89479321bb96468186eac85cde50a925</td>\n",
       "      <td>Sep 26 2021 05:53PM</td>\n",
       "      <td>Need more budget since I need to train a model.</td>\n",
       "      <td>2ε</td>\n",
       "      <td>10ε</td>\n",
       "      <td>Pending</td>\n",
       "    </tr>\n",
       "  </tbody>\n",
       "</table>\n",
       "</div>"
      ],
      "text/plain": [
       "                         Request Id         Request Date  \\\n",
       "0  89479321bb96468186eac85cde50a925  Sep 26 2021 05:53PM   \n",
       "\n",
       "                                            Reason Current Budget  \\\n",
       "0  Need more budget since I need to train a model.             2ε   \n",
       "\n",
       "  Requested Budget    State  \n",
       "0              10ε  Pending  "
      ]
     },
     "execution_count": 11,
     "metadata": {},
     "output_type": "execute_result"
    }
   ],
   "source": [
    "# Let's check if there are any pending budget requests\n",
    "# We can list all the `Pending` requests as:\n",
    "rsna_domain_client.pb_requests"
   ]
  },
  {
   "cell_type": "code",
   "execution_count": null,
   "id": "3bac6759",
   "metadata": {},
   "outputs": [],
   "source": [
    "# We can select the budget request object either via `Request Id` or `index`\n",
    "\n",
    "# via `index`\n",
    "pb_request_obj = rsna_domain_client.pb_requests[0]\n",
    "\n",
    "# Or via `Request Id`\n",
    "\n",
    "pb_request_obj = rsna_domain_client.pb_requests[\"89479321bb96468186eac85cde50a925\"]"
   ]
  },
  {
   "cell_type": "code",
   "execution_count": null,
   "id": "e671ac75",
   "metadata": {},
   "outputs": [],
   "source": [
    "# We can approve/deny the request as follows:\n",
    "\n",
    "# Approve the request\n",
    "pb_request_obj.approve()\n",
    "\n",
    "# Or deny the request\n",
    "pb_request_obj.deny()"
   ]
  },
  {
   "cell_type": "code",
   "execution_count": 22,
   "id": "f9a467e4",
   "metadata": {},
   "outputs": [
    {
     "name": "stdout",
     "output_type": "stream",
     "text": [
      "No pending requests.\n"
     ]
    }
   ],
   "source": [
    "# Let's say we declined the budget request, then if we check the for pending requests, it should be empty.\n",
    "rsna_domain_client.pb_requests"
   ]
  },
  {
   "cell_type": "code",
   "execution_count": 12,
   "id": "48671120",
   "metadata": {},
   "outputs": [
    {
     "data": {
      "text/html": [
       "<div>\n",
       "<style scoped>\n",
       "    .dataframe tbody tr th:only-of-type {\n",
       "        vertical-align: middle;\n",
       "    }\n",
       "\n",
       "    .dataframe tbody tr th {\n",
       "        vertical-align: top;\n",
       "    }\n",
       "\n",
       "    .dataframe thead th {\n",
       "        text-align: right;\n",
       "    }\n",
       "</style>\n",
       "<table border=\"1\" class=\"dataframe\">\n",
       "  <thead>\n",
       "    <tr style=\"text-align: right;\">\n",
       "      <th></th>\n",
       "      <th>Request Id</th>\n",
       "      <th>Request Date</th>\n",
       "      <th>Reason</th>\n",
       "      <th>Current Budget</th>\n",
       "      <th>Requested Budget</th>\n",
       "      <th>State</th>\n",
       "    </tr>\n",
       "  </thead>\n",
       "  <tbody>\n",
       "    <tr>\n",
       "      <th>0</th>\n",
       "      <td>89479321bb96468186eac85cde50a925</td>\n",
       "      <td>Sep 26 2021 05:53PM</td>\n",
       "      <td>Need more budget since I need to train a model.</td>\n",
       "      <td>2ε</td>\n",
       "      <td>10ε</td>\n",
       "      <td>Declined</td>\n",
       "    </tr>\n",
       "    <tr>\n",
       "      <th>1</th>\n",
       "      <td>e607061479b14451b2c56015f27125f1</td>\n",
       "      <td>Sep 11 2021 05:53PM</td>\n",
       "      <td>Need more budget. Drained out of budget.</td>\n",
       "      <td>0.5ε</td>\n",
       "      <td>2ε</td>\n",
       "      <td>Approved</td>\n",
       "    </tr>\n",
       "  </tbody>\n",
       "</table>\n",
       "</div>"
      ],
      "text/plain": [
       "                         Request Id         Request Date  \\\n",
       "0  89479321bb96468186eac85cde50a925  Sep 26 2021 05:53PM   \n",
       "1  e607061479b14451b2c56015f27125f1  Sep 11 2021 05:53PM   \n",
       "\n",
       "                                            Reason Current Budget  \\\n",
       "0  Need more budget since I need to train a model.             2ε   \n",
       "1         Need more budget. Drained out of budget.           0.5ε   \n",
       "\n",
       "  Requested Budget     State  \n",
       "0              10ε  Declined  \n",
       "1               2ε  Approved  "
      ]
     },
     "execution_count": 12,
     "metadata": {},
     "output_type": "execute_result"
    }
   ],
   "source": [
    "# But, if we list all the budget requests submitted to the domain,\n",
    "rsna_domain_client.pb_requests.all()"
   ]
  },
  {
   "cell_type": "code",
   "execution_count": null,
   "id": "25041166",
   "metadata": {},
   "outputs": [],
   "source": []
  },
  {
   "cell_type": "markdown",
   "id": "6706c899",
   "metadata": {},
   "source": [
    "#### Dummy Data"
   ]
  },
  {
   "cell_type": "code",
   "execution_count": 1,
   "id": "3ad73e1d",
   "metadata": {},
   "outputs": [],
   "source": [
    "import pandas as pd\n",
    "from enum import Enum\n",
    "import uuid\n",
    "import torch\n",
    "import datetime\n",
    "import json\n",
    "import numpy as np\n",
    "\n",
    "\n",
    "class bcolors(Enum):\n",
    "    HEADER = \"\\033[95m\"\n",
    "    OKBLUE = \"\\033[94m\"\n",
    "    OKCYAN = \"\\033[96m\"\n",
    "    OKGREEN = \"\\033[92m\"\n",
    "    WARNING = \"\\033[93m\"\n",
    "    FAIL = \"\\033[91m\"\n",
    "    ENDC = \"\\033[0m\"\n",
    "    BOLD = \"\\033[1m\"\n",
    "    UNDERLINE = \"\\033[4m\"\n",
    "\n",
    "\n",
    "request_budget_id = uuid.uuid4().hex\n",
    "\n",
    "requests_data = [\n",
    "    {\n",
    "        \"Id\": uuid.uuid4().hex,\n",
    "        \"Request Date\": datetime.datetime.now().strftime(\"%b %d %Y %I:%M%p\"),\n",
    "        \"Reason\": \"Know the number of unique labels in the dataset.\",\n",
    "        \"Result Id\": uuid.uuid4().hex,\n",
    "        \"State\": \"Pending\",\n",
    "        \"Reviewer Comments\": \"-\",\n",
    "    },\n",
    "    {\n",
    "        \"Id\": uuid.uuid4().hex,\n",
    "        \"Request Date\": datetime.datetime.now().replace(day=19, hour=1).strftime(\"%b %d %Y %I:%M%p\"),\n",
    "        \"Reason\": \"Get the labels in the dataset.\",\n",
    "        \"Result Id\": uuid.uuid4().hex,\n",
    "        \"State\": \"Denied\",\n",
    "        \"Reviewer Comments\": \"Access to raw labels is not allowed\",\n",
    "    },\n",
    "    {\n",
    "        \"Id\": uuid.uuid4().hex,\n",
    "        \"Request Date\": datetime.datetime.now().replace(day=9, hour=1).strftime(\"%b %d %Y %I:%M%p\"),\n",
    "        \"Reason\": \"Get the number of columns in the dataset.\",\n",
    "        \"Result Id\": uuid.uuid4().hex,\n",
    "        \"State\": \"Approved\",\n",
    "        \"Reviewer Comments\": \"-\",\n",
    "    }\n",
    "]\n",
    "\n",
    "requests_data_df = pd.DataFrame(requests_data)\n",
    "\n",
    "\n",
    "budget_request = [\n",
    "    {\n",
    "        \"Request Id\": request_budget_id,\n",
    "        \"Request Date\": datetime.datetime.now().strftime(\"%b %d %Y %I:%M%p\"),\n",
    "        \"Reason\": \"Need more budget since I need to train a model.\",\n",
    "        \"Current Budget\": \"2ε\",\n",
    "        \"Requested Budget\": \"10ε\",\n",
    "        \"State\": \"Pending\",\n",
    "    },\n",
    "]\n",
    "\n",
    "budget_request_df = pd.DataFrame(budget_request)\n",
    "\n",
    "\n",
    "approved_budget_request = [\n",
    "    {\n",
    "        \"Request Id\": request_budget_id,\n",
    "        \"Request Date\": datetime.datetime.now().strftime(\"%b %d %Y %I:%M%p\"),\n",
    "        \"Reason\": \"Need more budget since I need to train a model.\",\n",
    "        \"Current Budget\": \"2ε\",\n",
    "        \"Requested Budget\": \"10ε\",\n",
    "        \"State\": \"Declined\",\n",
    "    },\n",
    "    {\n",
    "        \"Request Id\": uuid.uuid4().hex,\n",
    "        \"Request Date\": datetime.datetime.now().replace(day=11).strftime(\"%b %d %Y %I:%M%p\"),\n",
    "        \"Reason\": \"Need more budget. Drained out of budget.\",\n",
    "        \"Current Budget\": \"0.5ε\",\n",
    "        \"Requested Budget\": \"2ε\",\n",
    "        \"State\": \"Approved\",\n",
    "    },\n",
    "\n",
    "]\n",
    "\n",
    "approved_budget_request_df = pd.DataFrame(approved_budget_request)"
   ]
  },
  {
   "cell_type": "code",
   "execution_count": 2,
   "id": "5f5d92e1",
   "metadata": {},
   "outputs": [],
   "source": [
    "approved_data_df = requests_data_df.copy()\n",
    "approved_data_df[\"State\"][0] = \"Approved\"\n",
    "approved_data_df[\"Reviewer Comments\"] = \"Look good for now\""
   ]
  },
  {
   "cell_type": "code",
   "execution_count": null,
   "id": "6228ad3c",
   "metadata": {},
   "outputs": [],
   "source": []
  },
  {
   "cell_type": "code",
   "execution_count": null,
   "id": "bd402f7f",
   "metadata": {},
   "outputs": [],
   "source": []
  }
 ],
 "metadata": {
  "kernelspec": {
   "display_name": "Python 3 (ipykernel)",
   "language": "python",
   "name": "python3"
  },
  "language_info": {
   "codemirror_mode": {
    "name": "ipython",
    "version": 3
   },
   "file_extension": ".py",
   "mimetype": "text/x-python",
   "name": "python",
   "nbconvert_exporter": "python",
   "pygments_lexer": "ipython3",
   "version": "3.9.6"
  }
 },
 "nbformat": 4,
 "nbformat_minor": 5
}

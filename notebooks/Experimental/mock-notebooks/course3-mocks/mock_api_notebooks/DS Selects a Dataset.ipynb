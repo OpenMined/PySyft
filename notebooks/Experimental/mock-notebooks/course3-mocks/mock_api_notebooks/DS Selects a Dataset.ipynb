{
 "cells": [
  {
   "cell_type": "markdown",
   "id": "19dc0234",
   "metadata": {},
   "source": [
    "### Select a dataset\n",
    "\n",
    "In order to access a dataset, a user needs to login into a domain to which the dataset belongs.\n",
    "As we know, we can login into a domain via two ways:\n",
    "- If we know the url of the domain\n",
    "- Select domain via Networks\n",
    "\n",
    "Overall the flow for a user to access a dataset:\n",
    "- The user logs into the domain. **[P0]**\n",
    "- The user is able to list datasets available in the domain **[P0]**\n",
    "- The user is able to filter datasets via properties like Id, tags, and title **[P1]**\n",
    "- The user selects the desired dataset via its ID. **[P0]**\n",
    "- The user can view metadata related to the dataset. **[P0]**"
   ]
  },
  {
   "cell_type": "code",
   "execution_count": null,
   "id": "388e6386",
   "metadata": {},
   "outputs": [],
   "source": [
    "import syft as sy"
   ]
  },
  {
   "cell_type": "code",
   "execution_count": 14,
   "id": "f9e82a28",
   "metadata": {},
   "outputs": [
    {
     "data": {
      "text/html": [
       "<div>\n",
       "<style scoped>\n",
       "    .dataframe tbody tr th:only-of-type {\n",
       "        vertical-align: middle;\n",
       "    }\n",
       "\n",
       "    .dataframe tbody tr th {\n",
       "        vertical-align: top;\n",
       "    }\n",
       "\n",
       "    .dataframe thead th {\n",
       "        text-align: right;\n",
       "    }\n",
       "</style>\n",
       "<table border=\"1\" class=\"dataframe\">\n",
       "  <thead>\n",
       "    <tr style=\"text-align: right;\">\n",
       "      <th></th>\n",
       "      <th>Id</th>\n",
       "      <th>Name</th>\n",
       "      <th>Tags</th>\n",
       "      <th>Assets</th>\n",
       "      <th>Description</th>\n",
       "      <th>Domain</th>\n",
       "      <th>Network</th>\n",
       "      <th>Usage</th>\n",
       "      <th>Added On</th>\n",
       "    </tr>\n",
       "  </thead>\n",
       "  <tbody>\n",
       "    <tr>\n",
       "      <th>0</th>\n",
       "      <td>766e127be473493483e6614a099e7db4</td>\n",
       "      <td>Diabetes Dataset</td>\n",
       "      <td>[Health, Classification, Dicom]</td>\n",
       "      <td>[\"Images\"] -&gt; Tensor; [\"Labels\"] -&gt; Tensor</td>\n",
       "      <td>A large set of high-resolution retina images</td>\n",
       "      <td>California Healthcare Foundation</td>\n",
       "      <td>WHO</td>\n",
       "      <td>102</td>\n",
       "      <td>09 Jan 2021, 09:33:09</td>\n",
       "    </tr>\n",
       "    <tr>\n",
       "      <th>1</th>\n",
       "      <td>28736302eb9140c886a76dbe0ab13c05</td>\n",
       "      <td>Canada Commodities Dataset</td>\n",
       "      <td>[Commodities, Canada, Trade]</td>\n",
       "      <td>[\"ca-feb2021\"] -&gt; DataFrame</td>\n",
       "      <td>Commodity Trade Dataset</td>\n",
       "      <td>Canada Domain</td>\n",
       "      <td>United Nations</td>\n",
       "      <td>40</td>\n",
       "      <td>11 Mar 2021, 09:33:09</td>\n",
       "    </tr>\n",
       "    <tr>\n",
       "      <th>2</th>\n",
       "      <td>08941436cf7f44f99fbcbea6aa221932</td>\n",
       "      <td>Italy Commodities Dataset</td>\n",
       "      <td>[Commodities, Italy, Trade]</td>\n",
       "      <td>[\"it-feb2021\"] -&gt; DataFrame</td>\n",
       "      <td>Commodity Trade Dataset</td>\n",
       "      <td>Italy Domain</td>\n",
       "      <td>United Nations</td>\n",
       "      <td>23</td>\n",
       "      <td>09 Mar 2021, 09:33:09</td>\n",
       "    </tr>\n",
       "    <tr>\n",
       "      <th>3</th>\n",
       "      <td>52f2ca8fbef241e6a415eac1a3843646</td>\n",
       "      <td>Netherlands Commodities Dataset</td>\n",
       "      <td>[Commodities, Netherlands, Trade]</td>\n",
       "      <td>[\"ne-feb2021\"] -&gt; DataFrame</td>\n",
       "      <td>Commodity Trade Dataset</td>\n",
       "      <td>Netherland Domain</td>\n",
       "      <td>United Nations</td>\n",
       "      <td>20</td>\n",
       "      <td>12 Apr 2021, 09:33:09</td>\n",
       "    </tr>\n",
       "    <tr>\n",
       "      <th>4</th>\n",
       "      <td>47a768058ab84e36ae5458dabe988b4c</td>\n",
       "      <td>Pnuemonia Dataset</td>\n",
       "      <td>[Health, Pneumonia, X-Ray]</td>\n",
       "      <td>[\"X-Ray-Images\"] -&gt; Tensor;  [\"labels\"] -&gt; Tensor</td>\n",
       "      <td>Chest X-Ray images. All provided images are in...</td>\n",
       "      <td>RSNA</td>\n",
       "      <td>WHO</td>\n",
       "      <td>334</td>\n",
       "      <td>09 Jan 2021, 09:33:09</td>\n",
       "    </tr>\n",
       "  </tbody>\n",
       "</table>\n",
       "</div>"
      ],
      "text/plain": [
       "                                 Id                             Name  \\\n",
       "0  766e127be473493483e6614a099e7db4                 Diabetes Dataset   \n",
       "1  28736302eb9140c886a76dbe0ab13c05       Canada Commodities Dataset   \n",
       "2  08941436cf7f44f99fbcbea6aa221932        Italy Commodities Dataset   \n",
       "3  52f2ca8fbef241e6a415eac1a3843646  Netherlands Commodities Dataset   \n",
       "4  47a768058ab84e36ae5458dabe988b4c                Pnuemonia Dataset   \n",
       "\n",
       "                                Tags  \\\n",
       "0    [Health, Classification, Dicom]   \n",
       "1       [Commodities, Canada, Trade]   \n",
       "2        [Commodities, Italy, Trade]   \n",
       "3  [Commodities, Netherlands, Trade]   \n",
       "4         [Health, Pneumonia, X-Ray]   \n",
       "\n",
       "                                              Assets  \\\n",
       "0         [\"Images\"] -> Tensor; [\"Labels\"] -> Tensor   \n",
       "1                        [\"ca-feb2021\"] -> DataFrame   \n",
       "2                        [\"it-feb2021\"] -> DataFrame   \n",
       "3                        [\"ne-feb2021\"] -> DataFrame   \n",
       "4  [\"X-Ray-Images\"] -> Tensor;  [\"labels\"] -> Tensor   \n",
       "\n",
       "                                         Description  \\\n",
       "0       A large set of high-resolution retina images   \n",
       "1                            Commodity Trade Dataset   \n",
       "2                            Commodity Trade Dataset   \n",
       "3                            Commodity Trade Dataset   \n",
       "4  Chest X-Ray images. All provided images are in...   \n",
       "\n",
       "                             Domain         Network  Usage  \\\n",
       "0  California Healthcare Foundation             WHO    102   \n",
       "1                     Canada Domain  United Nations     40   \n",
       "2                      Italy Domain  United Nations     23   \n",
       "3                 Netherland Domain  United Nations     20   \n",
       "4                              RSNA             WHO    334   \n",
       "\n",
       "                Added On  \n",
       "0  09 Jan 2021, 09:33:09  \n",
       "1  11 Mar 2021, 09:33:09  \n",
       "2  09 Mar 2021, 09:33:09  \n",
       "3  12 Apr 2021, 09:33:09  \n",
       "4  09 Jan 2021, 09:33:09  "
      ]
     },
     "execution_count": 14,
     "metadata": {},
     "output_type": "execute_result"
    }
   ],
   "source": [
    "# Let's quicky list the available datasets\n",
    "sy.datasets"
   ]
  },
  {
   "cell_type": "code",
   "execution_count": 12,
   "id": "588a290d",
   "metadata": {},
   "outputs": [
    {
     "data": {
      "text/html": [
       "<div>\n",
       "<style scoped>\n",
       "    .dataframe tbody tr th:only-of-type {\n",
       "        vertical-align: middle;\n",
       "    }\n",
       "\n",
       "    .dataframe tbody tr th {\n",
       "        vertical-align: top;\n",
       "    }\n",
       "\n",
       "    .dataframe thead th {\n",
       "        text-align: right;\n",
       "    }\n",
       "</style>\n",
       "<table border=\"1\" class=\"dataframe\">\n",
       "  <thead>\n",
       "    <tr style=\"text-align: right;\">\n",
       "      <th></th>\n",
       "      <th>Id</th>\n",
       "      <th>Name</th>\n",
       "      <th>Hosted Domains</th>\n",
       "      <th>Hosted Datasets</th>\n",
       "      <th>Description</th>\n",
       "      <th>Tags</th>\n",
       "      <th>Url</th>\n",
       "    </tr>\n",
       "  </thead>\n",
       "  <tbody>\n",
       "    <tr>\n",
       "      <th>0</th>\n",
       "      <td>bfd98059c7f34b4f8be9156aa7c99201</td>\n",
       "      <td>United Nations</td>\n",
       "      <td>4</td>\n",
       "      <td>6</td>\n",
       "      <td>The UN hosts data related to the commodity and...</td>\n",
       "      <td>[Commodities, Census]</td>\n",
       "      <td>https://un.openmined.org</td>\n",
       "    </tr>\n",
       "  </tbody>\n",
       "</table>\n",
       "</div>"
      ],
      "text/plain": [
       "                                 Id            Name  Hosted Domains  \\\n",
       "0  bfd98059c7f34b4f8be9156aa7c99201  United Nations               4   \n",
       "\n",
       "   Hosted Datasets                                        Description  \\\n",
       "0                6  The UN hosts data related to the commodity and...   \n",
       "\n",
       "                    Tags                       Url  \n",
       "0  [Commodities, Census]  https://un.openmined.org  "
      ]
     },
     "execution_count": 12,
     "metadata": {},
     "output_type": "execute_result"
    }
   ],
   "source": [
    "# We want to access the `Commodity Trade Dataset` from the `Canada Domain`\n",
    "\n",
    "# If we have access to the url of the domain, we can login into the domain directly\n",
    "\n",
    "ca_domain = sy.login(\n",
    "    email=\"sheldon@caltech.edu\", password=\"bazinga\", url=\"https://ca.openmined.org\"\n",
    ")\n",
    "\n",
    "# Or selecting the domain via Network if the url of the domain is unknown\n",
    "\n",
    "# Let's select the network to which the domain belongs to\n",
    "sy.networks.filter(name=\"United Nations\")"
   ]
  },
  {
   "cell_type": "code",
   "execution_count": null,
   "id": "dca0c8ee",
   "metadata": {},
   "outputs": [],
   "source": [
    "# Let's select the network\n",
    "\n",
    "un_network = sy.networks[0]\n",
    "# Or\n",
    "un_network = sy.networks.filter(name=\"United Nations\")[0]\n",
    "\n",
    "# Let's select the `Canada Domain` from the UN network\n",
    "ca_domain = un_network.domains.filter(name=\"Canada Domain\")[0]\n",
    "\n",
    "# Let's login into the canada domain\n",
    "ca_domain_client = ca_domain.login(email=\"sheldon@caltech.edu\", password=\"bazinga\")"
   ]
  },
  {
   "cell_type": "code",
   "execution_count": 15,
   "id": "51dd280d",
   "metadata": {},
   "outputs": [
    {
     "data": {
      "text/html": [
       "<div>\n",
       "<style scoped>\n",
       "    .dataframe tbody tr th:only-of-type {\n",
       "        vertical-align: middle;\n",
       "    }\n",
       "\n",
       "    .dataframe tbody tr th {\n",
       "        vertical-align: top;\n",
       "    }\n",
       "\n",
       "    .dataframe thead th {\n",
       "        text-align: right;\n",
       "    }\n",
       "</style>\n",
       "<table border=\"1\" class=\"dataframe\">\n",
       "  <thead>\n",
       "    <tr style=\"text-align: right;\">\n",
       "      <th></th>\n",
       "      <th>Id</th>\n",
       "      <th>Name</th>\n",
       "      <th>Tags</th>\n",
       "      <th>Assets</th>\n",
       "      <th>Description</th>\n",
       "      <th>Domain</th>\n",
       "      <th>Network</th>\n",
       "      <th>Usage</th>\n",
       "      <th>Added On</th>\n",
       "    </tr>\n",
       "  </thead>\n",
       "  <tbody>\n",
       "    <tr>\n",
       "      <th>1</th>\n",
       "      <td>28736302eb9140c886a76dbe0ab13c05</td>\n",
       "      <td>Canada Commodities Dataset</td>\n",
       "      <td>[Commodities, Canada, Trade]</td>\n",
       "      <td>[\"ca-feb2021\"] -&gt; DataFrame</td>\n",
       "      <td>Commodity Trade Dataset</td>\n",
       "      <td>Canada Domain</td>\n",
       "      <td>United Nations</td>\n",
       "      <td>40</td>\n",
       "      <td>11 Mar 2021, 09:33:09</td>\n",
       "    </tr>\n",
       "  </tbody>\n",
       "</table>\n",
       "</div>"
      ],
      "text/plain": [
       "                                 Id                        Name  \\\n",
       "1  28736302eb9140c886a76dbe0ab13c05  Canada Commodities Dataset   \n",
       "\n",
       "                           Tags                       Assets  \\\n",
       "1  [Commodities, Canada, Trade]  [\"ca-feb2021\"] -> DataFrame   \n",
       "\n",
       "               Description         Domain         Network  Usage  \\\n",
       "1  Commodity Trade Dataset  Canada Domain  United Nations     40   \n",
       "\n",
       "                Added On  \n",
       "1  11 Mar 2021, 09:33:09  "
      ]
     },
     "execution_count": 15,
     "metadata": {},
     "output_type": "execute_result"
    }
   ],
   "source": [
    "# Great, now that we have a client to the domain, \n",
    "# let's list the available datasets on the domain\n",
    "\n",
    "ca_domain_client.datasets"
   ]
  },
  {
   "cell_type": "code",
   "execution_count": 18,
   "id": "4ab1d0e6",
   "metadata": {},
   "outputs": [],
   "source": [
    "# Let's select the commodity dataset. \n",
    "# We select a dataset either via `index` or `Id`\n",
    "ca_commodity_data = ca_domain_client.datasets[1]\n",
    "\n",
    "# Or via `Id`\n",
    "ca_commodity_data = ca_domain_client.datasets[\"28736302eb9140c886a76dbe0ab13c05\"]"
   ]
  },
  {
   "cell_type": "code",
   "execution_count": 34,
   "id": "cb0ab70e",
   "metadata": {},
   "outputs": [
    {
     "name": "stdout",
     "output_type": "stream",
     "text": [
      "\n",
      "    \u001b[91mDatasetDoesNotExistException\u001b[0m:\n",
      "        The dataset with Id `f6fc3e2b9b4a2319dc7486a705565807` doesn't exists on the domain.\n",
      "\n"
     ]
    }
   ],
   "source": [
    "# If the user enters an invalid Id\n",
    "ca_commodity_data = ca_domain_client.datasets[\"f6fc3e2b9b4a2319dc7486a705565807\"]"
   ]
  },
  {
   "cell_type": "code",
   "execution_count": 18,
   "id": "7041c47c",
   "metadata": {},
   "outputs": [
    {
     "name": "stdout",
     "output_type": "stream",
     "text": [
      "\n",
      "    \u001b[91mIndexOutOfBoundException\u001b[0m:\n",
      "        Index `1` doesn't exists on the domain.\n",
      "\n"
     ]
    }
   ],
   "source": [
    "# If the user enters an invalid index\n",
    "ca_domain_client.datasets[1]"
   ]
  },
  {
   "cell_type": "code",
   "execution_count": 29,
   "id": "7760ddd5",
   "metadata": {},
   "outputs": [
    {
     "name": "stdout",
     "output_type": "stream",
     "text": [
      "\n",
      "Name: Canada Commodities Dataset\n",
      "Description: Commodity Trade Dataset\n",
      "\n"
     ]
    },
    {
     "data": {
      "text/html": [
       "<div>\n",
       "<style scoped>\n",
       "    .dataframe tbody tr th:only-of-type {\n",
       "        vertical-align: middle;\n",
       "    }\n",
       "\n",
       "    .dataframe tbody tr th {\n",
       "        vertical-align: top;\n",
       "    }\n",
       "\n",
       "    .dataframe thead th {\n",
       "        text-align: right;\n",
       "    }\n",
       "</style>\n",
       "<table border=\"1\" class=\"dataframe\">\n",
       "  <thead>\n",
       "    <tr style=\"text-align: right;\">\n",
       "      <th></th>\n",
       "      <th>Asset Key</th>\n",
       "      <th>Type</th>\n",
       "      <th>Shape</th>\n",
       "    </tr>\n",
       "  </thead>\n",
       "  <tbody>\n",
       "    <tr>\n",
       "      <th>0</th>\n",
       "      <td>[\"ca-feb2021\"]</td>\n",
       "      <td>DataFrame</td>\n",
       "      <td>(40000, 7)</td>\n",
       "    </tr>\n",
       "  </tbody>\n",
       "</table>\n",
       "</div>"
      ],
      "text/plain": [
       "        Asset Key       Type       Shape\n",
       "0  [\"ca-feb2021\"]  DataFrame  (40000, 7)"
      ]
     },
     "execution_count": 29,
     "metadata": {},
     "output_type": "execute_result"
    }
   ],
   "source": [
    "# Let's check the assets attached to the dataset\n",
    "ca_commodity_data"
   ]
  },
  {
   "cell_type": "code",
   "execution_count": 27,
   "id": "f53c9f53",
   "metadata": {},
   "outputs": [
    {
     "name": "stdout",
     "output_type": "stream",
     "text": [
      "Details of the dataset\n",
      "Name: Canada Commodities Dataset\n",
      "Id: 28736302eb9140c886a76dbe0ab13c05\n",
      "Tags: ['Commodities', 'Canada', 'Trade']\n",
      "Description: Commodity Trade Dataset\n"
     ]
    }
   ],
   "source": [
    "# Let's print the details of the dataset\n",
    "print(f\"Details of the dataset\")\n",
    "print(f\"Name: {ca_commodity_data.name}\")\n",
    "print(f\"Id: {ca_commodity_data.id}\")\n",
    "print(f\"Tags: {ca_commodity_data.tags}\")\n",
    "print(f\"Description: {ca_commodity_data.description}\")"
   ]
  },
  {
   "cell_type": "code",
   "execution_count": 37,
   "id": "dc4215ce",
   "metadata": {},
   "outputs": [],
   "source": [
    "# Let's access the asset in the dataset\n",
    "commodity_dataset_ptr = ca_commodity_data[\"ca-feb2021\"]"
   ]
  },
  {
   "cell_type": "code",
   "execution_count": 41,
   "id": "72b196c2",
   "metadata": {},
   "outputs": [
    {
     "name": "stdout",
     "output_type": "stream",
     "text": [
      "\n",
      "    \u001b[91mInvalidAssetKeyError\u001b[0m:\n",
      "        Asset with key `random-feb2021` does not exist.\n",
      "\n"
     ]
    }
   ],
   "source": [
    "commodity_dataset_ptr[\"random-feb2021\"]"
   ]
  },
  {
   "cell_type": "code",
   "execution_count": 28,
   "id": "4eec53f8",
   "metadata": {},
   "outputs": [
    {
     "data": {
      "text/html": [
       "<div>\n",
       "<style scoped>\n",
       "    .dataframe tbody tr th:only-of-type {\n",
       "        vertical-align: middle;\n",
       "    }\n",
       "\n",
       "    .dataframe tbody tr th {\n",
       "        vertical-align: top;\n",
       "    }\n",
       "\n",
       "    .dataframe thead th {\n",
       "        text-align: right;\n",
       "    }\n",
       "</style>\n",
       "<table border=\"1\" class=\"dataframe\">\n",
       "  <thead>\n",
       "    <tr style=\"text-align: right;\">\n",
       "      <th></th>\n",
       "      <th>name</th>\n",
       "      <th>type</th>\n",
       "    </tr>\n",
       "  </thead>\n",
       "  <tbody>\n",
       "    <tr>\n",
       "      <th>0</th>\n",
       "      <td>sample_data</td>\n",
       "      <td>DataFrame</td>\n",
       "    </tr>\n",
       "    <tr>\n",
       "      <th>1</th>\n",
       "      <td>partner_code_mapping</td>\n",
       "      <td>Dict</td>\n",
       "    </tr>\n",
       "    <tr>\n",
       "      <th>2</th>\n",
       "      <td>column_names</td>\n",
       "      <td>List</td>\n",
       "    </tr>\n",
       "  </tbody>\n",
       "</table>\n",
       "</div>"
      ],
      "text/plain": [
       "                   name       type\n",
       "0           sample_data  DataFrame\n",
       "1  partner_code_mapping       Dict\n",
       "2          column_names       List"
      ]
     },
     "execution_count": 28,
     "metadata": {},
     "output_type": "execute_result"
    }
   ],
   "source": [
    "# Let's check if there is any metadata attached to the dataset\n",
    "# Metadata is any additional public information related to the dataset\n",
    "# We can list the metadata attached to the dataset.\n",
    "ca_commodity_data_ptr.metadata"
   ]
  },
  {
   "cell_type": "code",
   "execution_count": 10,
   "id": "2693074e",
   "metadata": {},
   "outputs": [
    {
     "data": {
      "text/plain": [
       "{818: 'Egypt',\n",
       " 826: 'United Kingdom',\n",
       " 156: 'China',\n",
       " 440: 'Lithuania',\n",
       " 703: 'Slovakia'}"
      ]
     },
     "execution_count": 10,
     "metadata": {},
     "output_type": "execute_result"
    }
   ],
   "source": [
    "# Let's check the partner name mapping from the metadata\n",
    "# We can access the metadata via the `key` name.\n",
    "partner_mapping = ca_commodity_data_ptr.metadata[\"partner_code_mapping\"]\n",
    "partner_mapping"
   ]
  },
  {
   "cell_type": "code",
   "execution_count": 22,
   "id": "eb9c2f28",
   "metadata": {},
   "outputs": [
    {
     "data": {
      "text/html": [
       "<div>\n",
       "<style scoped>\n",
       "    .dataframe tbody tr th:only-of-type {\n",
       "        vertical-align: middle;\n",
       "    }\n",
       "\n",
       "    .dataframe tbody tr th {\n",
       "        vertical-align: top;\n",
       "    }\n",
       "\n",
       "    .dataframe thead th {\n",
       "        text-align: right;\n",
       "    }\n",
       "</style>\n",
       "<table border=\"1\" class=\"dataframe\">\n",
       "  <thead>\n",
       "    <tr style=\"text-align: right;\">\n",
       "      <th></th>\n",
       "      <th>Trade Flow Code</th>\n",
       "      <th>Partner Code</th>\n",
       "      <th>Trade Value (US$)</th>\n",
       "    </tr>\n",
       "  </thead>\n",
       "  <tbody>\n",
       "    <tr>\n",
       "      <th>7191</th>\n",
       "      <td>1</td>\n",
       "      <td>752</td>\n",
       "      <td>20</td>\n",
       "    </tr>\n",
       "    <tr>\n",
       "      <th>5239</th>\n",
       "      <td>1</td>\n",
       "      <td>56</td>\n",
       "      <td>3571</td>\n",
       "    </tr>\n",
       "    <tr>\n",
       "      <th>1233</th>\n",
       "      <td>1</td>\n",
       "      <td>251</td>\n",
       "      <td>201246</td>\n",
       "    </tr>\n",
       "    <tr>\n",
       "      <th>17040</th>\n",
       "      <td>1</td>\n",
       "      <td>144</td>\n",
       "      <td>28139</td>\n",
       "    </tr>\n",
       "    <tr>\n",
       "      <th>37574</th>\n",
       "      <td>1</td>\n",
       "      <td>0</td>\n",
       "      <td>43080</td>\n",
       "    </tr>\n",
       "  </tbody>\n",
       "</table>\n",
       "</div>"
      ],
      "text/plain": [
       "       Trade Flow Code  Partner Code  Trade Value (US$)\n",
       "7191                 1           752                 20\n",
       "5239                 1            56               3571\n",
       "1233                 1           251             201246\n",
       "17040                1           144              28139\n",
       "37574                1             0              43080"
      ]
     },
     "execution_count": 22,
     "metadata": {},
     "output_type": "execute_result"
    }
   ],
   "source": [
    "# Let's take a look at the sample data\n",
    "sample_data = ca_commodity_data_ptr.metadata[\"sample_data\"]\n",
    "sample_data"
   ]
  },
  {
   "cell_type": "code",
   "execution_count": null,
   "id": "c7bf6637",
   "metadata": {},
   "outputs": [],
   "source": []
  },
  {
   "cell_type": "code",
   "execution_count": null,
   "id": "cf2d1d2d",
   "metadata": {},
   "outputs": [],
   "source": []
  },
  {
   "cell_type": "markdown",
   "id": "9f67b78d",
   "metadata": {},
   "source": [
    "#### Dummy Datasets"
   ]
  },
  {
   "cell_type": "code",
   "execution_count": 1,
   "id": "7834438f",
   "metadata": {},
   "outputs": [],
   "source": [
    "import pandas as pd\n",
    "from enum import Enum\n",
    "import uuid\n",
    "import torch\n",
    "import datetime\n",
    "import json\n",
    "\n",
    "\n",
    "class bcolors(Enum):\n",
    "    HEADER = \"\\033[95m\"\n",
    "    OKBLUE = \"\\033[94m\"\n",
    "    OKCYAN = \"\\033[96m\"\n",
    "    OKGREEN = \"\\033[92m\"\n",
    "    WARNING = \"\\033[93m\"\n",
    "    FAIL = \"\\033[91m\"\n",
    "    ENDC = \"\\033[0m\"\n",
    "    BOLD = \"\\033[1m\"\n",
    "    UNDERLINE = \"\\033[4m\""
   ]
  },
  {
   "cell_type": "code",
   "execution_count": 2,
   "id": "880bb408",
   "metadata": {},
   "outputs": [],
   "source": [
    "DT_FORMAT = \"%d %b %Y, %H:%M:%S\"\n",
    "\n",
    "all_datasets = [\n",
    "    {\n",
    "        \"Id\": uuid.uuid4().hex,\n",
    "        \"Name\": \"Diabetes Dataset\",\n",
    "        \"Tags\": [\"Health\", \"Classification\", \"Dicom\"],\n",
    "        \"Assets\": '''[\"Images\"] -> Tensor; [\"Labels\"] -> Tensor''',\n",
    "        \"Description\": \"A large set of high-resolution retina images\",\n",
    "        \"Domain\": \"California Healthcare Foundation\",\n",
    "        \"Network\": \"WHO\",\n",
    "        \"Usage\": 102,\n",
    "        \"Added On\": datetime.datetime.now().replace(month=1).strftime(DT_FORMAT)\n",
    "    },\n",
    "    {\n",
    "        \"Id\": uuid.uuid4().hex,\n",
    "        \"Name\": \"Canada Commodities Dataset\",\n",
    "        \"Tags\": [\"Commodities\", \"Canada\", \"Trade\"],\n",
    "        \"Assets\": '''[\"ca-feb2021\"] -> DataFrame''',\n",
    "        \"Description\": \"Commodity Trade Dataset\",\n",
    "        \"Domain\": \"Canada Domain\",\n",
    "        \"Network\": \"United Nations\",\n",
    "        \"Usage\": 40,\n",
    "        \"Added On\": datetime.datetime.now().replace(month=3, day=11).strftime(DT_FORMAT)\n",
    "    },\n",
    "    {\n",
    "        \"Id\": uuid.uuid4().hex,\n",
    "        \"Name\": \"Italy Commodities Dataset\",\n",
    "        \"Tags\": [\"Commodities\", \"Italy\", \"Trade\"],\n",
    "        \"Assets\": '''[\"it-feb2021\"] -> DataFrame''',\n",
    "        \"Description\": \"Commodity Trade Dataset\",\n",
    "        \"Domain\": \"Italy Domain\",\n",
    "        \"Network\": \"United Nations\",\n",
    "        \"Usage\": 23,\n",
    "        \"Added On\": datetime.datetime.now().replace(month=3).strftime(DT_FORMAT)\n",
    "    },\n",
    "    {\n",
    "        \"Id\": uuid.uuid4().hex,\n",
    "        \"Name\": \"Netherlands Commodities Dataset\",\n",
    "        \"Tags\": [\"Commodities\", \"Netherlands\", \"Trade\"],\n",
    "        \"Assets\": '''[\"ne-feb2021\"] -> DataFrame''',\n",
    "        \"Description\": \"Commodity Trade Dataset\",\n",
    "        \"Domain\": \"Netherland Domain\",\n",
    "        \"Network\": \"United Nations\",\n",
    "        \"Usage\": 20,\n",
    "        \"Added On\": datetime.datetime.now().replace(month=4, day=12).strftime(DT_FORMAT)\n",
    "    },\n",
    "    {\n",
    "        \"Id\": uuid.uuid4().hex,\n",
    "        \"Name\": \"Pnuemonia Dataset\",\n",
    "        \"Tags\": [\"Health\", \"Pneumonia\", \"X-Ray\"],\n",
    "        \"Assets\": '''[\"X-Ray-Images\"] -> Tensor;  [\"labels\"] -> Tensor''',\n",
    "        \"Description\": \"Chest X-Ray images. All provided images are in DICOM format.\",\n",
    "        \"Domain\": \"RSNA\",\n",
    "        \"Network\": \"WHO\",\n",
    "        \"Usage\": 334,\n",
    "        \"Added On\": datetime.datetime.now().replace(month=1).strftime(DT_FORMAT)\n",
    "    },\n",
    "]\n",
    "\n",
    "all_datasets_df = pd.DataFrame(all_datasets)"
   ]
  },
  {
   "cell_type": "code",
   "execution_count": 3,
   "id": "aef885c4",
   "metadata": {},
   "outputs": [],
   "source": [
    "filtered_network_via_name = [\n",
    "    {\n",
    "        \"Id\": f\"{uuid.uuid4().hex}\",\n",
    "        \"Name\": \"United Nations\",\n",
    "        \"Hosted Domains\": 4,\n",
    "        \"Hosted Datasets\": 6,\n",
    "        \"Description\": \"The UN hosts data related to the commodity and Census data.\",\n",
    "        \"Tags\": [\"Commodities\", \"Census\"],\n",
    "        \"Url\": \"https://un.openmined.org\",\n",
    "    },\n",
    "]\n",
    "filtered_network_via_name = pd.DataFrame(filtered_network_via_name)"
   ]
  },
  {
   "cell_type": "code",
   "execution_count": 4,
   "id": "0b196f90",
   "metadata": {},
   "outputs": [],
   "source": [
    "canada_domain_datasets_df = all_datasets_df[all_datasets_df[\"Domain\"] ==  \"Canada Domain\"]"
   ]
  },
  {
   "cell_type": "code",
   "execution_count": 5,
   "id": "b69dc632",
   "metadata": {},
   "outputs": [
    {
     "name": "stdout",
     "output_type": "stream",
     "text": [
      "\n",
      "    \u001b[91mDatasetDoesNotExistException\u001b[0m:\n",
      "        The dataset with Id `f6fc3e2b9b4a2319dc7486a705565807` doesn't exists on the domain.\n",
      "\n"
     ]
    }
   ],
   "source": [
    "error_on_invalid_dataset = f\"\"\"\n",
    "    {bcolors.FAIL.value}DatasetDoesNotExistException{bcolors.ENDC.value}:\n",
    "        The dataset with Id `f6fc3e2b9b4a2319dc7486a705565807` doesn't exists on the domain.\n",
    "\"\"\"\n",
    "print(error_on_invalid_dataset)"
   ]
  },
  {
   "cell_type": "code",
   "execution_count": 6,
   "id": "aac06b26",
   "metadata": {},
   "outputs": [
    {
     "data": {
      "text/html": [
       "<div>\n",
       "<style scoped>\n",
       "    .dataframe tbody tr th:only-of-type {\n",
       "        vertical-align: middle;\n",
       "    }\n",
       "\n",
       "    .dataframe tbody tr th {\n",
       "        vertical-align: top;\n",
       "    }\n",
       "\n",
       "    .dataframe thead th {\n",
       "        text-align: right;\n",
       "    }\n",
       "</style>\n",
       "<table border=\"1\" class=\"dataframe\">\n",
       "  <thead>\n",
       "    <tr style=\"text-align: right;\">\n",
       "      <th></th>\n",
       "      <th>Id</th>\n",
       "      <th>Name</th>\n",
       "      <th>Tags</th>\n",
       "      <th>Assets</th>\n",
       "      <th>Description</th>\n",
       "      <th>Domain</th>\n",
       "      <th>Network</th>\n",
       "      <th>Usage</th>\n",
       "      <th>Added On</th>\n",
       "    </tr>\n",
       "  </thead>\n",
       "  <tbody>\n",
       "    <tr>\n",
       "      <th>1</th>\n",
       "      <td>28736302eb9140c886a76dbe0ab13c05</td>\n",
       "      <td>Canada Commodities Dataset</td>\n",
       "      <td>[Commodities, Canada, Trade]</td>\n",
       "      <td>[\"ca-feb2021\"] -&gt; DataFrame</td>\n",
       "      <td>Commodity Trade Dataset</td>\n",
       "      <td>Canada Domain</td>\n",
       "      <td>United Nations</td>\n",
       "      <td>40</td>\n",
       "      <td>11 Mar 2021, 09:33:09</td>\n",
       "    </tr>\n",
       "  </tbody>\n",
       "</table>\n",
       "</div>"
      ],
      "text/plain": [
       "                                 Id                        Name  \\\n",
       "1  28736302eb9140c886a76dbe0ab13c05  Canada Commodities Dataset   \n",
       "\n",
       "                           Tags                       Assets  \\\n",
       "1  [Commodities, Canada, Trade]  [\"ca-feb2021\"] -> DataFrame   \n",
       "\n",
       "               Description         Domain         Network  Usage  \\\n",
       "1  Commodity Trade Dataset  Canada Domain  United Nations     40   \n",
       "\n",
       "                Added On  \n",
       "1  11 Mar 2021, 09:33:09  "
      ]
     },
     "execution_count": 6,
     "metadata": {},
     "output_type": "execute_result"
    }
   ],
   "source": [
    "canada_domain_datasets_df"
   ]
  },
  {
   "cell_type": "code",
   "execution_count": 7,
   "id": "63cb0634",
   "metadata": {},
   "outputs": [
    {
     "name": "stdout",
     "output_type": "stream",
     "text": [
      "\n",
      "    \u001b[91mIndexOutOfBoundException\u001b[0m:\n",
      "        Index `1` doesn't exists on the domain.\n",
      "\n"
     ]
    }
   ],
   "source": [
    "error_on_invalid_index_dataset = f\"\"\"\n",
    "    {bcolors.FAIL.value}IndexOutOfBoundException{bcolors.ENDC.value}:\n",
    "        Index `1` doesn't exists on the domain.\n",
    "\"\"\"\n",
    "print(error_on_invalid_index_dataset)"
   ]
  },
  {
   "cell_type": "code",
   "execution_count": 9,
   "id": "3832e75a",
   "metadata": {},
   "outputs": [
    {
     "name": "stdout",
     "output_type": "stream",
     "text": [
      "\n",
      "Name: Canada Commodities Dataset\n",
      "Description: Commodity Trade Dataset\n",
      "\n"
     ]
    },
    {
     "data": {
      "text/html": [
       "<div>\n",
       "<style scoped>\n",
       "    .dataframe tbody tr th:only-of-type {\n",
       "        vertical-align: middle;\n",
       "    }\n",
       "\n",
       "    .dataframe tbody tr th {\n",
       "        vertical-align: top;\n",
       "    }\n",
       "\n",
       "    .dataframe thead th {\n",
       "        text-align: right;\n",
       "    }\n",
       "</style>\n",
       "<table border=\"1\" class=\"dataframe\">\n",
       "  <thead>\n",
       "    <tr style=\"text-align: right;\">\n",
       "      <th></th>\n",
       "      <th>Asset Key</th>\n",
       "      <th>Type</th>\n",
       "      <th>Shape</th>\n",
       "    </tr>\n",
       "  </thead>\n",
       "  <tbody>\n",
       "    <tr>\n",
       "      <th>0</th>\n",
       "      <td>[\"ca-feb2021\"]</td>\n",
       "      <td>DataFrame</td>\n",
       "      <td>(40000, 7)</td>\n",
       "    </tr>\n",
       "  </tbody>\n",
       "</table>\n",
       "</div>"
      ],
      "text/plain": [
       "        Asset Key       Type       Shape\n",
       "0  [\"ca-feb2021\"]  DataFrame  (40000, 7)"
      ]
     },
     "execution_count": 9,
     "metadata": {},
     "output_type": "execute_result"
    }
   ],
   "source": [
    "dataset_detail = [\n",
    "    {\n",
    "        \"Asset Key\": '[\"ca-feb2021\"]',\n",
    "        \"Type\": \"DataFrame\",\n",
    "        \"Shape\": \"(40000, 7)\"\n",
    "    },\n",
    "]\n",
    "print(\"\"\"\n",
    "Name: Canada Commodities Dataset\n",
    "Description: Commodity Trade Dataset\n",
    "\"\"\")\n",
    "dataset_detail_df = pd.DataFrame(dataset_detail)\n",
    "dataset_detail_df"
   ]
  },
  {
   "cell_type": "code",
   "execution_count": 10,
   "id": "0dfb54fd",
   "metadata": {},
   "outputs": [
    {
     "name": "stdout",
     "output_type": "stream",
     "text": [
      "\n",
      "    \u001b[91mInvalidAssetKeyError\u001b[0m:\n",
      "        Asset with key `random-feb2021` does not exist.\n",
      "\n"
     ]
    }
   ],
   "source": [
    "error_on_invalid_asset_key = f\"\"\"\n",
    "    {bcolors.FAIL.value}InvalidAssetKeyError{bcolors.ENDC.value}:\n",
    "        Asset with key `random-feb2021` does not exist.\n",
    "\"\"\"\n",
    "print(error_on_invalid_asset_key)"
   ]
  },
  {
   "cell_type": "code",
   "execution_count": 11,
   "id": "7c05ddd3",
   "metadata": {},
   "outputs": [],
   "source": [
    "metadata = [\n",
    "    {\"name\": \"sample_data\",\n",
    "    \"type\": \"DataFrame\"},\n",
    "    {\"name\": \"partner_code_mapping\",\n",
    "    \"type\": \"Dict\",},\n",
    "    {\"name\": \"column_names\",\n",
    "    \"type\": \"List\",},\n",
    "]\n",
    "metadata = pd.DataFrame(metadata)"
   ]
  },
  {
   "cell_type": "code",
   "execution_count": 12,
   "id": "72f0ae16",
   "metadata": {},
   "outputs": [],
   "source": [
    "sample_data = '{\"Trade Flow Code\":{\"7191\":1,\"5239\":1,\"1233\":1,\"17040\":1,\"37574\":1},\"Partner Code\":{\"7191\":752,\"5239\":56,\"1233\":251,\"17040\":144,\"37574\":0},\"Trade Value (US$)\":{\"7191\":20,\"5239\":3571,\"1233\":201246,\"17040\":28139,\"37574\":43080}}'\n",
    "sample_data = pd.DataFrame.from_dict(json.loads(sample_data))"
   ]
  },
  {
   "cell_type": "code",
   "execution_count": 13,
   "id": "4a3d4244",
   "metadata": {},
   "outputs": [],
   "source": [
    "column_names = ['Trade Flow Code', 'Partner Code', 'Trade Value (US$)']\n",
    "\n",
    "partner_mapping = {818: 'Egypt',\n",
    " 826: 'United Kingdom',\n",
    " 156: 'China',\n",
    " 440: 'Lithuania',\n",
    " 703: 'Slovakia'}"
   ]
  },
  {
   "cell_type": "code",
   "execution_count": null,
   "id": "df51b22e",
   "metadata": {},
   "outputs": [],
   "source": []
  },
  {
   "cell_type": "code",
   "execution_count": null,
   "id": "3920e7ff",
   "metadata": {},
   "outputs": [],
   "source": []
  }
 ],
 "metadata": {
  "kernelspec": {
   "display_name": "Python 3 (ipykernel)",
   "language": "python",
   "name": "python3"
  },
  "language_info": {
   "codemirror_mode": {
    "name": "ipython",
    "version": 3
   },
   "file_extension": ".py",
   "mimetype": "text/x-python",
   "name": "python",
   "nbconvert_exporter": "python",
   "pygments_lexer": "ipython3",
   "version": "3.9.6"
  }
 },
 "nbformat": 4,
 "nbformat_minor": 5
}

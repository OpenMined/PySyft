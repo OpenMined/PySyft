{
 "cells": [
  {
   "cell_type": "markdown",
   "id": "ace4a4f8",
   "metadata": {},
   "source": [
    "#### Accessing a logged session\n",
    "\n",
    "Once a user logs into a domain, their session is a saved for the next 24 hours.\n",
    "We will explore how a user can access a saved domain session."
   ]
  },
  {
   "cell_type": "code",
   "execution_count": null,
   "id": "51513882",
   "metadata": {},
   "outputs": [],
   "source": [
    "import syft as sy"
   ]
  },
  {
   "cell_type": "code",
   "execution_count": null,
   "id": "09114a64",
   "metadata": {},
   "outputs": [],
   "source": [
    "# Let's login into a domain via `url`\n",
    "\n",
    "ca_domain_client = sy.login(\n",
    "    url=\"https://ca.openmined.com\",\n",
    "    email=\"sheldon@caltech.edu\",\n",
    "    password=\"bazinga\",\n",
    "    save_session=True,\n",
    ")"
   ]
  },
  {
   "cell_type": "markdown",
   "id": "2bddaa63",
   "metadata": {},
   "source": [
    "    Connecting to Canada Domain...  Connected 🥰!\n",
    "    Logging in as sheldon@caltech.edu...  Logged in 🥳!\n",
    "    Saving your current session ... Saved 💾!"
   ]
  },
  {
   "cell_type": "markdown",
   "id": "a96d5291",
   "metadata": {},
   "source": [
    "When a user logs into a domain, a `session token` is generated w.r.t to that domain and user. This token can be used to authenticate a user into a domain without asking for username or password. This token has an auto-expiration time of `72 hrs (3 days)`. Once the session expires, then the user has to re-login into the domain via `username` and `password`. Since, currently we don't capture the user's timezone, therefore all datetime/timestamps are in `UTC`."
   ]
  },
  {
   "cell_type": "code",
   "execution_count": 11,
   "id": "2afa6cc6",
   "metadata": {},
   "outputs": [
    {
     "data": {
      "text/html": [
       "<div>\n",
       "<style scoped>\n",
       "    .dataframe tbody tr th:only-of-type {\n",
       "        vertical-align: middle;\n",
       "    }\n",
       "\n",
       "    .dataframe tbody tr th {\n",
       "        vertical-align: top;\n",
       "    }\n",
       "\n",
       "    .dataframe thead th {\n",
       "        text-align: right;\n",
       "    }\n",
       "</style>\n",
       "<table border=\"1\" class=\"dataframe\">\n",
       "  <thead>\n",
       "    <tr style=\"text-align: right;\">\n",
       "      <th></th>\n",
       "      <th>Session Id</th>\n",
       "      <th>Domain Name</th>\n",
       "      <th>Last Login</th>\n",
       "    </tr>\n",
       "  </thead>\n",
       "  <tbody>\n",
       "    <tr>\n",
       "      <th>0</th>\n",
       "      <td>fae257e1883e4367afb9bf2f19923a83</td>\n",
       "      <td>Canada Domain</td>\n",
       "      <td>Oct 19 2021 06:08PM</td>\n",
       "    </tr>\n",
       "    <tr>\n",
       "      <th>1</th>\n",
       "      <td>d96ad833faed4a69b28b5ebd41266cc7</td>\n",
       "      <td>Italy Domain</td>\n",
       "      <td>Oct 19 2021 12:08PM</td>\n",
       "    </tr>\n",
       "    <tr>\n",
       "      <th>2</th>\n",
       "      <td>70c30e929fac41ffa4f1f754f9245335</td>\n",
       "      <td>WHO</td>\n",
       "      <td>Oct 19 2021 09:08AM</td>\n",
       "    </tr>\n",
       "    <tr>\n",
       "      <th>3</th>\n",
       "      <td>22bf523e5f674410bade2a3e3dccc3a1</td>\n",
       "      <td>Stark Healthcare</td>\n",
       "      <td>Oct 19 2021 11:08AM</td>\n",
       "    </tr>\n",
       "  </tbody>\n",
       "</table>\n",
       "</div>"
      ],
      "text/plain": [
       "                         Session Id       Domain Name           Last Login\n",
       "0  fae257e1883e4367afb9bf2f19923a83     Canada Domain  Oct 19 2021 06:08PM\n",
       "1  d96ad833faed4a69b28b5ebd41266cc7      Italy Domain  Oct 19 2021 12:08PM\n",
       "2  70c30e929fac41ffa4f1f754f9245335               WHO  Oct 19 2021 09:08AM\n",
       "3  22bf523e5f674410bade2a3e3dccc3a1  Stark Healthcare  Oct 19 2021 11:08AM"
      ]
     },
     "execution_count": 11,
     "metadata": {},
     "output_type": "execute_result"
    }
   ],
   "source": [
    "# Let's list all the saved sessions against each of the domains\n",
    "sy.logins"
   ]
  },
  {
   "cell_type": "markdown",
   "id": "225bf99d",
   "metadata": {},
   "source": [
    "A user can select a saved session via its `Request Id`"
   ]
  },
  {
   "cell_type": "code",
   "execution_count": null,
   "id": "21e920fc",
   "metadata": {},
   "outputs": [],
   "source": [
    "# Let's a select a saved login session\n",
    "# If the session is not expired, then an authenticated domain client is returned. \n",
    "ca_domain_client = sy.logins[\"f414eb9d688348ccb907c4b6187ad43d\"]\n",
    "\n",
    "# Or selecting the session via the Domain Name\n",
    "ca_domain_client = sy.logins[\"Canada Domain\"]"
   ]
  },
  {
   "cell_type": "code",
   "execution_count": 32,
   "id": "153f9b14",
   "metadata": {},
   "outputs": [
    {
     "name": "stdout",
     "output_type": "stream",
     "text": [
      "\n",
      "    \u001b[91mSessionExpiredException\u001b[0m:\n",
      "        Hi !!! Your session with the \u001b[1m`Canada Domain`\u001b[0m has expired.\n",
      "        Please re-login into the domain via \u001b[93m`username`\u001b[0m and \u001b[93m`password`\u001b[0m.    \n",
      "\n"
     ]
    }
   ],
   "source": [
    "# If the session has expired, then the same is indicated\n",
    "sy.logins[\"f414eb9d688348ccb907c4b6187ad43d\"]"
   ]
  },
  {
   "cell_type": "code",
   "execution_count": 9,
   "id": "931daa87",
   "metadata": {},
   "outputs": [
    {
     "name": "stdout",
     "output_type": "stream",
     "text": [
      "\n",
      "    \u001b[91mMutipleSessionsException\u001b[0m:\n",
      "            Hi, mutiple sessions exists for the same Domain Name.\n",
      "            Please select the session you want to login via the `Session Id`.\n",
      "\n"
     ]
    }
   ],
   "source": [
    "# If multiple sessions are present for the same Domain Name\n",
    "# then raise an error and ask the user to select the session using the Session Id\n",
    "sy.logins[\"Canada Domain\"]"
   ]
  },
  {
   "cell_type": "code",
   "execution_count": null,
   "id": "063bb1f1",
   "metadata": {},
   "outputs": [],
   "source": []
  },
  {
   "cell_type": "markdown",
   "id": "1605a6ab",
   "metadata": {},
   "source": [
    "#### Dummy Data Creation"
   ]
  },
  {
   "cell_type": "code",
   "execution_count": 2,
   "id": "41193eec",
   "metadata": {},
   "outputs": [],
   "source": [
    "import datetime\n",
    "import pandas as pd\n",
    "from enum import Enum\n",
    "import uuid\n",
    "\n",
    "\n",
    "class bcolors(Enum):\n",
    "    HEADER = \"\\033[95m\"\n",
    "    OKBLUE = \"\\033[94m\"\n",
    "    OKCYAN = \"\\033[96m\"\n",
    "    OKGREEN = \"\\033[92m\"\n",
    "    WARNING = \"\\033[93m\"\n",
    "    FAIL = \"\\033[91m\"\n",
    "    ENDC = \"\\033[0m\"\n",
    "    BOLD = \"\\033[1m\"\n",
    "    UNDERLINE = \"\\033[4m\"\n"
   ]
  },
  {
   "cell_type": "code",
   "execution_count": 3,
   "id": "d6f2f3a8",
   "metadata": {},
   "outputs": [],
   "source": [
    "saved_logins = [\n",
    "    {\n",
    "        \"Session Id\": uuid.uuid4().hex,\n",
    "        \"Domain Name\": \"Canada Domain\",\n",
    "        \"Last Login\": datetime.datetime.now().strftime(\"%b %d %Y %I:%M%p\"),\n",
    "    },\n",
    "    {\n",
    "        \"Session Id\": uuid.uuid4().hex,\n",
    "        \"Domain Name\": \"Italy Domain\",\n",
    "        \"Last Login\": datetime.datetime.now().replace(hour=12).strftime(\"%b %d %Y %I:%M%p\"),\n",
    "    },\n",
    "    {\n",
    "        \"Session Id\": uuid.uuid4().hex,\n",
    "        \"Domain Name\": \"WHO\",\n",
    "        \"Last Login\": datetime.datetime.now().replace(hour=9).strftime(\"%b %d %Y %I:%M%p\"),\n",
    "    },\n",
    "    {\n",
    "        \"Session Id\": uuid.uuid4().hex,\n",
    "        \"Domain Name\": \"Stark Healthcare\",\n",
    "        \"Last Login\": datetime.datetime.now().replace(hour=11).strftime(\"%b %d %Y %I:%M%p\"),\n",
    "    },\n",
    "]\n",
    "\n",
    "saved_session_df = pd.DataFrame(saved_logins)"
   ]
  },
  {
   "cell_type": "code",
   "execution_count": 4,
   "id": "4b40fd92",
   "metadata": {},
   "outputs": [
    {
     "name": "stdout",
     "output_type": "stream",
     "text": [
      "\n",
      "    \u001b[91mSessionExpiredException\u001b[0m:\n",
      "        Hi !!! Your session with the \u001b[1m`Canada Domain`\u001b[0m has expired.\n",
      "        Please re-login into the domain via \u001b[93m`username`\u001b[0m and \u001b[93m`password`\u001b[0m.    \n",
      "\n"
     ]
    }
   ],
   "source": [
    "session_expiry_error = f\"\"\"\n",
    "    {bcolors.FAIL.value}SessionExpiredException{bcolors.ENDC.value}:\n",
    "        Hi !!! Your session with the {bcolors.BOLD.value}`Canada Domain`{bcolors.ENDC.value} has expired.\n",
    "        Please re-login into the domain via {bcolors.WARNING.value}`username`{bcolors.ENDC.value} and {bcolors.WARNING.value}`password`{bcolors.ENDC.value}.    \n",
    "\"\"\"\n",
    "\n",
    "print(session_expiry_error)"
   ]
  },
  {
   "cell_type": "code",
   "execution_count": 7,
   "id": "ccba550d",
   "metadata": {},
   "outputs": [],
   "source": [
    "mutiple_session_with_same_name = f\"\"\"\n",
    "    {bcolors.FAIL.value}MutipleSessionsException{bcolors.ENDC.value}:\n",
    "            Hi, mutiple sessions exists for the same Domain Name.\n",
    "            Please select the session you want to login via the `Session Id`.\n",
    "\"\"\""
   ]
  },
  {
   "cell_type": "code",
   "execution_count": 8,
   "id": "ffbb7ac0",
   "metadata": {},
   "outputs": [
    {
     "name": "stdout",
     "output_type": "stream",
     "text": [
      "\n",
      "    \u001b[91mMutipleSessionsException\u001b[0m:\n",
      "            Hi, mutiple sessions exists for the same Domain Name.\n",
      "            Please select the session you want to login via the `Session Id`.\n",
      "\n"
     ]
    }
   ],
   "source": []
  },
  {
   "cell_type": "code",
   "execution_count": null,
   "id": "7e8c7c8b",
   "metadata": {},
   "outputs": [],
   "source": []
  }
 ],
 "metadata": {
  "kernelspec": {
   "display_name": "Python 3 (ipykernel)",
   "language": "python",
   "name": "python3"
  },
  "language_info": {
   "codemirror_mode": {
    "name": "ipython",
    "version": 3
   },
   "file_extension": ".py",
   "mimetype": "text/x-python",
   "name": "python",
   "nbconvert_exporter": "python",
   "pygments_lexer": "ipython3",
   "version": "3.9.6"
  }
 },
 "nbformat": 4,
 "nbformat_minor": 5
}

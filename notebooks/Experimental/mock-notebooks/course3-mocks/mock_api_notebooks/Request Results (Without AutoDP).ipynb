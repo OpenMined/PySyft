{
 "cells": [
  {
   "cell_type": "markdown",
   "id": "8c60a9ea",
   "metadata": {},
   "source": [
    "#### DS requests results via request/response cycle\n",
    "\n",
    "A user can send a request to the domain owner to access a resource.\n",
    "\n",
    "- The user can send a request by calling the `.request` method on the pointer. \n",
    "- A `reason` needs to be passed on a parameter while requesting access to the data."
   ]
  },
  {
   "cell_type": "markdown",
   "id": "3eb0fda9",
   "metadata": {},
   "source": [
    "#### The user selects a dataset and perform some query\n",
    "\n",
    "- The user selects a network and domain\n",
    "- The logs into the domain and selects a dataset\n",
    "- The user perform a query on the selected dataset pointer"
   ]
  },
  {
   "cell_type": "code",
   "execution_count": null,
   "id": "b2e79ed9",
   "metadata": {},
   "outputs": [],
   "source": [
    "import syft as sy"
   ]
  },
  {
   "cell_type": "code",
   "execution_count": 5,
   "id": "b8a5a27c",
   "metadata": {},
   "outputs": [
    {
     "data": {
      "text/html": [
       "<div>\n",
       "<style scoped>\n",
       "    .dataframe tbody tr th:only-of-type {\n",
       "        vertical-align: middle;\n",
       "    }\n",
       "\n",
       "    .dataframe tbody tr th {\n",
       "        vertical-align: top;\n",
       "    }\n",
       "\n",
       "    .dataframe thead th {\n",
       "        text-align: right;\n",
       "    }\n",
       "</style>\n",
       "<table border=\"1\" class=\"dataframe\">\n",
       "  <thead>\n",
       "    <tr style=\"text-align: right;\">\n",
       "      <th></th>\n",
       "      <th>Id</th>\n",
       "      <th>Name</th>\n",
       "      <th>Tags</th>\n",
       "      <th>Assets</th>\n",
       "      <th>Description</th>\n",
       "      <th>Domain</th>\n",
       "      <th>Network</th>\n",
       "      <th>Usage</th>\n",
       "      <th>Added On</th>\n",
       "    </tr>\n",
       "  </thead>\n",
       "  <tbody>\n",
       "    <tr>\n",
       "      <th>0</th>\n",
       "      <td>b5b04506a0a0405f93ea0e2c0263ced6</td>\n",
       "      <td>Diabetes Dataset</td>\n",
       "      <td>[Health, Classification, Dicom]</td>\n",
       "      <td>[\"Images\"] -&gt; Tensor; [\"Labels\"] -&gt; Tensor</td>\n",
       "      <td>A large set of high-resolution retina images</td>\n",
       "      <td>California Healthcare Foundation</td>\n",
       "      <td>WHO</td>\n",
       "      <td>102</td>\n",
       "      <td>Jan 20 2021</td>\n",
       "    </tr>\n",
       "    <tr>\n",
       "      <th>1</th>\n",
       "      <td>246a5e7835324a08b2883037257612dd</td>\n",
       "      <td>Canada Commodities Dataset</td>\n",
       "      <td>[Commodities, Canada, Trade]</td>\n",
       "      <td>[\"ca-feb2021\"] -&gt; DataFrame</td>\n",
       "      <td>Commodity Trade Dataset</td>\n",
       "      <td>Canada Domain</td>\n",
       "      <td>United Nations</td>\n",
       "      <td>40</td>\n",
       "      <td>Mar 11 2021</td>\n",
       "    </tr>\n",
       "    <tr>\n",
       "      <th>2</th>\n",
       "      <td>92c0719f990d4bcf85ccd039e2e034ba</td>\n",
       "      <td>Italy Commodities Dataset</td>\n",
       "      <td>[Commodities, Italy, Trade]</td>\n",
       "      <td>[\"it-feb2021\"] -&gt; DataFrame</td>\n",
       "      <td>Commodity Trade Dataset</td>\n",
       "      <td>Italy Domain</td>\n",
       "      <td>United Nations</td>\n",
       "      <td>23</td>\n",
       "      <td>Mar 20 2021</td>\n",
       "    </tr>\n",
       "    <tr>\n",
       "      <th>3</th>\n",
       "      <td>20b93adea1504538a7d03d7c3f248c20</td>\n",
       "      <td>Netherlands Commodities Dataset</td>\n",
       "      <td>[Commodities, Netherlands, Trade]</td>\n",
       "      <td>[\"ne-feb2021\"] -&gt; DataFrame</td>\n",
       "      <td>Commodity Trade Dataset</td>\n",
       "      <td>Netherland Domain</td>\n",
       "      <td>United Nations</td>\n",
       "      <td>20</td>\n",
       "      <td>Apr 12 2021</td>\n",
       "    </tr>\n",
       "    <tr>\n",
       "      <th>4</th>\n",
       "      <td>fc650f14f6f7454b87d3ccd345c437b5</td>\n",
       "      <td>Pnuemonia Dataset</td>\n",
       "      <td>[Health, Pneumonia, X-Ray]</td>\n",
       "      <td>[\"X-Ray-Images\"] -&gt; Tensor;  [\"labels\"] -&gt; Tensor</td>\n",
       "      <td>Chest X-Ray images. All provided images are in...</td>\n",
       "      <td>RSNA</td>\n",
       "      <td>WHO</td>\n",
       "      <td>334</td>\n",
       "      <td>Jan 20 2021</td>\n",
       "    </tr>\n",
       "  </tbody>\n",
       "</table>\n",
       "</div>"
      ],
      "text/plain": [
       "                                 Id                             Name  \\\n",
       "0  b5b04506a0a0405f93ea0e2c0263ced6                 Diabetes Dataset   \n",
       "1  246a5e7835324a08b2883037257612dd       Canada Commodities Dataset   \n",
       "2  92c0719f990d4bcf85ccd039e2e034ba        Italy Commodities Dataset   \n",
       "3  20b93adea1504538a7d03d7c3f248c20  Netherlands Commodities Dataset   \n",
       "4  fc650f14f6f7454b87d3ccd345c437b5                Pnuemonia Dataset   \n",
       "\n",
       "                                Tags  \\\n",
       "0    [Health, Classification, Dicom]   \n",
       "1       [Commodities, Canada, Trade]   \n",
       "2        [Commodities, Italy, Trade]   \n",
       "3  [Commodities, Netherlands, Trade]   \n",
       "4         [Health, Pneumonia, X-Ray]   \n",
       "\n",
       "                                              Assets  \\\n",
       "0         [\"Images\"] -> Tensor; [\"Labels\"] -> Tensor   \n",
       "1                        [\"ca-feb2021\"] -> DataFrame   \n",
       "2                        [\"it-feb2021\"] -> DataFrame   \n",
       "3                        [\"ne-feb2021\"] -> DataFrame   \n",
       "4  [\"X-Ray-Images\"] -> Tensor;  [\"labels\"] -> Tensor   \n",
       "\n",
       "                                         Description  \\\n",
       "0       A large set of high-resolution retina images   \n",
       "1                            Commodity Trade Dataset   \n",
       "2                            Commodity Trade Dataset   \n",
       "3                            Commodity Trade Dataset   \n",
       "4  Chest X-Ray images. All provided images are in...   \n",
       "\n",
       "                             Domain         Network  Usage     Added On  \n",
       "0  California Healthcare Foundation             WHO    102  Jan 20 2021  \n",
       "1                     Canada Domain  United Nations     40  Mar 11 2021  \n",
       "2                      Italy Domain  United Nations     23  Mar 20 2021  \n",
       "3                 Netherland Domain  United Nations     20  Apr 12 2021  \n",
       "4                              RSNA             WHO    334  Jan 20 2021  "
      ]
     },
     "execution_count": 5,
     "metadata": {},
     "output_type": "execute_result"
    }
   ],
   "source": [
    "# Let's list the available dataset\n",
    "sy.datasets"
   ]
  },
  {
   "cell_type": "code",
   "execution_count": 7,
   "id": "5f3bda65",
   "metadata": {},
   "outputs": [
    {
     "data": {
      "text/html": [
       "<div>\n",
       "<style scoped>\n",
       "    .dataframe tbody tr th:only-of-type {\n",
       "        vertical-align: middle;\n",
       "    }\n",
       "\n",
       "    .dataframe tbody tr th {\n",
       "        vertical-align: top;\n",
       "    }\n",
       "\n",
       "    .dataframe thead th {\n",
       "        text-align: right;\n",
       "    }\n",
       "</style>\n",
       "<table border=\"1\" class=\"dataframe\">\n",
       "  <thead>\n",
       "    <tr style=\"text-align: right;\">\n",
       "      <th></th>\n",
       "      <th>Id</th>\n",
       "      <th>Name</th>\n",
       "      <th>Hosted Domains</th>\n",
       "      <th>Hosted Datasets</th>\n",
       "      <th>Description</th>\n",
       "      <th>Tags</th>\n",
       "      <th>Url</th>\n",
       "    </tr>\n",
       "  </thead>\n",
       "  <tbody>\n",
       "    <tr>\n",
       "      <th>0</th>\n",
       "      <td>33c077db2e6249b49713bf7f53708524</td>\n",
       "      <td>United Nations</td>\n",
       "      <td>4</td>\n",
       "      <td>6</td>\n",
       "      <td>The UN hosts data related to the commodity and...</td>\n",
       "      <td>[Commodities, Census, Health]</td>\n",
       "      <td>https://un.openmined.org</td>\n",
       "    </tr>\n",
       "    <tr>\n",
       "      <th>1</th>\n",
       "      <td>cc2044861d534a6c98f0a669175af9bf</td>\n",
       "      <td>World Health Organisation</td>\n",
       "      <td>3</td>\n",
       "      <td>5</td>\n",
       "      <td>WHO hosts data related to health sector of dif...</td>\n",
       "      <td>[Virology, Cancer, Health]</td>\n",
       "      <td>https://who.openmined.org</td>\n",
       "    </tr>\n",
       "    <tr>\n",
       "      <th>2</th>\n",
       "      <td>3981dfa140c445cf90e23e6ef4b8fe9c</td>\n",
       "      <td>International Space Station</td>\n",
       "      <td>2</td>\n",
       "      <td>4</td>\n",
       "      <td>ISS hosts data related to the topography of di...</td>\n",
       "      <td>[Exoplanets, Extra-Terrestrial]</td>\n",
       "      <td>https://iss.openmined.org</td>\n",
       "    </tr>\n",
       "  </tbody>\n",
       "</table>\n",
       "</div>"
      ],
      "text/plain": [
       "                                 Id                         Name  \\\n",
       "0  33c077db2e6249b49713bf7f53708524               United Nations   \n",
       "1  cc2044861d534a6c98f0a669175af9bf    World Health Organisation   \n",
       "2  3981dfa140c445cf90e23e6ef4b8fe9c  International Space Station   \n",
       "\n",
       "   Hosted Domains  Hosted Datasets  \\\n",
       "0               4                6   \n",
       "1               3                5   \n",
       "2               2                4   \n",
       "\n",
       "                                         Description  \\\n",
       "0  The UN hosts data related to the commodity and...   \n",
       "1  WHO hosts data related to health sector of dif...   \n",
       "2  ISS hosts data related to the topography of di...   \n",
       "\n",
       "                              Tags                        Url  \n",
       "0    [Commodities, Census, Health]   https://un.openmined.org  \n",
       "1       [Virology, Cancer, Health]  https://who.openmined.org  \n",
       "2  [Exoplanets, Extra-Terrestrial]  https://iss.openmined.org  "
      ]
     },
     "execution_count": 7,
     "metadata": {},
     "output_type": "execute_result"
    }
   ],
   "source": [
    "# We want to access the `Pneumonia Dataset`, let's connect to the RSNA domain\n",
    "# Let's list the RSNA available networks\n",
    "sy.networks"
   ]
  },
  {
   "cell_type": "code",
   "execution_count": 14,
   "id": "eae6797a",
   "metadata": {},
   "outputs": [
    {
     "data": {
      "text/html": [
       "<div>\n",
       "<style scoped>\n",
       "    .dataframe tbody tr th:only-of-type {\n",
       "        vertical-align: middle;\n",
       "    }\n",
       "\n",
       "    .dataframe tbody tr th {\n",
       "        vertical-align: top;\n",
       "    }\n",
       "\n",
       "    .dataframe thead th {\n",
       "        text-align: right;\n",
       "    }\n",
       "</style>\n",
       "<table border=\"1\" class=\"dataframe\">\n",
       "  <thead>\n",
       "    <tr style=\"text-align: right;\">\n",
       "      <th></th>\n",
       "      <th>Id</th>\n",
       "      <th>Name</th>\n",
       "      <th>Hosted Datasets</th>\n",
       "      <th>Description</th>\n",
       "      <th>Tags</th>\n",
       "    </tr>\n",
       "  </thead>\n",
       "  <tbody>\n",
       "    <tr>\n",
       "      <th>0</th>\n",
       "      <td>02631a42192942e08ea0ab10598f2c79</td>\n",
       "      <td>California Healthcare Foundation</td>\n",
       "      <td>1</td>\n",
       "      <td>Health care systems</td>\n",
       "      <td>[Clinical Data, Healthcare]</td>\n",
       "    </tr>\n",
       "    <tr>\n",
       "      <th>1</th>\n",
       "      <td>e1640cc4af70422da1d60300724b1ee3</td>\n",
       "      <td>RSNA</td>\n",
       "      <td>1</td>\n",
       "      <td>Radiological Image Datasets</td>\n",
       "      <td>[Dicom, Radiology, Health]</td>\n",
       "    </tr>\n",
       "  </tbody>\n",
       "</table>\n",
       "</div>"
      ],
      "text/plain": [
       "                                 Id                              Name  \\\n",
       "0  02631a42192942e08ea0ab10598f2c79  California Healthcare Foundation   \n",
       "1  e1640cc4af70422da1d60300724b1ee3                              RSNA   \n",
       "\n",
       "   Hosted Datasets                  Description                         Tags  \n",
       "0                1          Health care systems  [Clinical Data, Healthcare]  \n",
       "1                1  Radiological Image Datasets   [Dicom, Radiology, Health]  "
      ]
     },
     "execution_count": 14,
     "metadata": {},
     "output_type": "execute_result"
    }
   ],
   "source": [
    "# Let's select the `WHO` network and list the available domains on the `WHO Network`.\n",
    "who_network = sy.networks[1]\n",
    "who_network.domains"
   ]
  },
  {
   "cell_type": "code",
   "execution_count": null,
   "id": "fb8b1a30",
   "metadata": {},
   "outputs": [],
   "source": [
    "# Let's select the `RSNA domain`\n",
    "rsna_domain = who_network[\"e1640cc4af70422da1d60300724b1ee3\"]\n",
    "\n",
    "# Let's login into the rsna domain\n",
    "rsna_domain_client = rsna_domain.login(email=\"sheldon@caltech.edu\", password=\"bazinga\")\n",
    "\n",
    "# Let's select the pnuemonia dataset\n",
    "pnuemonia_dataset = rsna_domain_client[\"fc650f14f6f7454b87d3ccd345c437b5\"]"
   ]
  },
  {
   "cell_type": "code",
   "execution_count": 19,
   "id": "1c5e94fb",
   "metadata": {},
   "outputs": [
    {
     "name": "stdout",
     "output_type": "stream",
     "text": [
      "\n",
      "Name: Pnuemonia Detection and Locationzation Dataset\n",
      "Description: Chest X-Ray images. All provided images are in DICOM format.\n",
      "\n"
     ]
    },
    {
     "data": {
      "text/html": [
       "<div>\n",
       "<style scoped>\n",
       "    .dataframe tbody tr th:only-of-type {\n",
       "        vertical-align: middle;\n",
       "    }\n",
       "\n",
       "    .dataframe tbody tr th {\n",
       "        vertical-align: top;\n",
       "    }\n",
       "\n",
       "    .dataframe thead th {\n",
       "        text-align: right;\n",
       "    }\n",
       "</style>\n",
       "<table border=\"1\" class=\"dataframe\">\n",
       "  <thead>\n",
       "    <tr style=\"text-align: right;\">\n",
       "      <th></th>\n",
       "      <th>Asset Key</th>\n",
       "      <th>Type</th>\n",
       "      <th>Shape</th>\n",
       "    </tr>\n",
       "  </thead>\n",
       "  <tbody>\n",
       "    <tr>\n",
       "      <th>0</th>\n",
       "      <td>[X-Ray-Images]</td>\n",
       "      <td>Tensor</td>\n",
       "      <td>(40000, 7)</td>\n",
       "    </tr>\n",
       "    <tr>\n",
       "      <th>1</th>\n",
       "      <td>[labels]</td>\n",
       "      <td>Tensor</td>\n",
       "      <td>(40000, 5)</td>\n",
       "    </tr>\n",
       "  </tbody>\n",
       "</table>\n",
       "</div>"
      ],
      "text/plain": [
       "        Asset Key    Type       Shape\n",
       "0  [X-Ray-Images]  Tensor  (40000, 7)\n",
       "1        [labels]  Tensor  (40000, 5)"
      ]
     },
     "execution_count": 19,
     "metadata": {},
     "output_type": "execute_result"
    }
   ],
   "source": [
    "# Let's see the dataset\n",
    "pnuemonia_dataset"
   ]
  },
  {
   "cell_type": "code",
   "execution_count": null,
   "id": "cb40ca8b",
   "metadata": {},
   "outputs": [],
   "source": [
    "# Let's select the lable tensors\n",
    "label_ptr = pnuemonia_dataset[\"labels\"]\n",
    "\n",
    "# Let's calculate the unique labels in the dataset\n",
    "unique_labels = label_ptr[:,0].unique()"
   ]
  },
  {
   "cell_type": "markdown",
   "id": "7e577955",
   "metadata": {},
   "source": [
    "#### The user fetches the results of their query\n",
    "\n",
    "- The user can perform a `.get` operation to download the data of the variable locally.\n",
    "- If a user tries to access a variable without publishing its results or without requesting it, then they receive a 403.\n",
    "- If a user has requested a resource, then its denied by the DO, then the user receives a 403 on performing a get operation on the resource."
   ]
  },
  {
   "cell_type": "code",
   "execution_count": 43,
   "id": "08fb8150",
   "metadata": {},
   "outputs": [
    {
     "name": "stdout",
     "output_type": "stream",
     "text": [
      "\n",
      "    \u001b[91mPermissionDenied:\u001b[0m\n",
      "        You don't have authorization to perform the `.get` operation.\n",
      "        You need to either `request` the results or `publish` the results.\n",
      "\n"
     ]
    }
   ],
   "source": [
    "number_of_unique_labels = unique_labels.shape\n",
    "# Let's access the labels\n",
    "number_of_unique_labels.get()"
   ]
  },
  {
   "cell_type": "code",
   "execution_count": 16,
   "id": "f77643ab",
   "metadata": {},
   "outputs": [
    {
     "name": "stdout",
     "output_type": "stream",
     "text": [
      "\n",
      "    Your request has been submitted to the domain. Your request id is: \u001b[1ma825a64be418430da8869a1f4542a6c0\n",
      "    \u001b[0mYou can check the status of your requests via `.requests`.\n",
      "\n"
     ]
    }
   ],
   "source": [
    "# Let's request the results from the Domain Owner\n",
    "number_of_unique_labels.request(reason=\"Know the number of unique labels in the dataset.\")"
   ]
  },
  {
   "cell_type": "markdown",
   "id": "03e9874f",
   "metadata": {},
   "source": [
    "#### The user views the request logs\n",
    "\n",
    "- The user can list all the logs of all the requests send by them to a domain. **[P1]**\n",
    "\n",
    "    Following properties are visible to the user w.r.t to the logs (for data requests):\n",
    "\n",
    "    - Request Id (Unique id of the request)\n",
    "    - Request Date (Datetime on which the request was submitted. The datetime/timestamp are shown in UTC)\n",
    "    - Reason (The reason submitted to access the resource by requester)\n",
    "    - Result Id (The unique id of the reasource being requested)\n",
    "    - State (State of the request - Approved/Declined/Pending)\n",
    "    - Reviewer Comments (Comment provided by the reqeuest reviewer (DO) during request approval/deny)\n",
    "\n",
    "- The user can filter through the logs via ID and Status. **[P2]**"
   ]
  },
  {
   "cell_type": "code",
   "execution_count": 12,
   "id": "b3a882cc",
   "metadata": {},
   "outputs": [
    {
     "name": "stdout",
     "output_type": "stream",
     "text": [
      "You have 1 pending request\n"
     ]
    },
    {
     "data": {
      "text/html": [
       "<div>\n",
       "<style scoped>\n",
       "    .dataframe tbody tr th:only-of-type {\n",
       "        vertical-align: middle;\n",
       "    }\n",
       "\n",
       "    .dataframe tbody tr th {\n",
       "        vertical-align: top;\n",
       "    }\n",
       "\n",
       "    .dataframe thead th {\n",
       "        text-align: right;\n",
       "    }\n",
       "</style>\n",
       "<table border=\"1\" class=\"dataframe\">\n",
       "  <thead>\n",
       "    <tr style=\"text-align: right;\">\n",
       "      <th></th>\n",
       "      <th>Request Id</th>\n",
       "      <th>Request Date</th>\n",
       "      <th>Reason</th>\n",
       "      <th>Result Id</th>\n",
       "      <th>State</th>\n",
       "      <th>Reviewer Comments</th>\n",
       "    </tr>\n",
       "  </thead>\n",
       "  <tbody>\n",
       "    <tr>\n",
       "      <th>0</th>\n",
       "      <td>3ca9694c8e5d4214a1ed8025a1391c8c</td>\n",
       "      <td>Sep 29 2021 11:31AM</td>\n",
       "      <td>Know the number of unique labels in the dataset.</td>\n",
       "      <td>315411ed283042ee81c78737d2010ca5</td>\n",
       "      <td>Pending</td>\n",
       "      <td>-</td>\n",
       "    </tr>\n",
       "  </tbody>\n",
       "</table>\n",
       "</div>"
      ],
      "text/plain": [
       "                         Request Id         Request Date  \\\n",
       "0  3ca9694c8e5d4214a1ed8025a1391c8c  Sep 29 2021 11:31AM   \n",
       "\n",
       "                                             Reason  \\\n",
       "0  Know the number of unique labels in the dataset.   \n",
       "\n",
       "                          Result Id    State Reviewer Comments  \n",
       "0  315411ed283042ee81c78737d2010ca5  Pending                 -  "
      ]
     },
     "execution_count": 12,
     "metadata": {},
     "output_type": "execute_result"
    }
   ],
   "source": [
    "# Let's check the status of our request logs\n",
    "# A user can see only the request logs with state == `Pending`.\n",
    "rsna_domain.requests"
   ]
  },
  {
   "cell_type": "code",
   "execution_count": 13,
   "id": "b1136edc",
   "metadata": {},
   "outputs": [
    {
     "data": {
      "text/html": [
       "<div>\n",
       "<style scoped>\n",
       "    .dataframe tbody tr th:only-of-type {\n",
       "        vertical-align: middle;\n",
       "    }\n",
       "\n",
       "    .dataframe tbody tr th {\n",
       "        vertical-align: top;\n",
       "    }\n",
       "\n",
       "    .dataframe thead th {\n",
       "        text-align: right;\n",
       "    }\n",
       "</style>\n",
       "<table border=\"1\" class=\"dataframe\">\n",
       "  <thead>\n",
       "    <tr style=\"text-align: right;\">\n",
       "      <th></th>\n",
       "      <th>Request Id</th>\n",
       "      <th>Request Date</th>\n",
       "      <th>Reason</th>\n",
       "      <th>Result Id</th>\n",
       "      <th>State</th>\n",
       "      <th>Reviewer Comments</th>\n",
       "    </tr>\n",
       "  </thead>\n",
       "  <tbody>\n",
       "    <tr>\n",
       "      <th>0</th>\n",
       "      <td>3ca9694c8e5d4214a1ed8025a1391c8c</td>\n",
       "      <td>Sep 29 2021 11:31AM</td>\n",
       "      <td>Know the number of unique labels in the dataset.</td>\n",
       "      <td>315411ed283042ee81c78737d2010ca5</td>\n",
       "      <td>Pending</td>\n",
       "      <td>-</td>\n",
       "    </tr>\n",
       "    <tr>\n",
       "      <th>1</th>\n",
       "      <td>6ee8bbea539e4088ad4c23a7a123cfbb</td>\n",
       "      <td>Sep 19 2021 01:31AM</td>\n",
       "      <td>Get the labels in the dataset.</td>\n",
       "      <td>c1498711dd5f4a1682bfe2c8bba8830f</td>\n",
       "      <td>Denied</td>\n",
       "      <td>Access to raw labels is not allowed</td>\n",
       "    </tr>\n",
       "  </tbody>\n",
       "</table>\n",
       "</div>"
      ],
      "text/plain": [
       "                         Request Id         Request Date  \\\n",
       "0  3ca9694c8e5d4214a1ed8025a1391c8c  Sep 29 2021 11:31AM   \n",
       "1  6ee8bbea539e4088ad4c23a7a123cfbb  Sep 19 2021 01:31AM   \n",
       "\n",
       "                                             Reason  \\\n",
       "0  Know the number of unique labels in the dataset.   \n",
       "1                    Get the labels in the dataset.   \n",
       "\n",
       "                          Result Id    State  \\\n",
       "0  315411ed283042ee81c78737d2010ca5  Pending   \n",
       "1  c1498711dd5f4a1682bfe2c8bba8830f   Denied   \n",
       "\n",
       "                     Reviewer Comments  \n",
       "0                                    -  \n",
       "1  Access to raw labels is not allowed  "
      ]
     },
     "execution_count": 13,
     "metadata": {},
     "output_type": "execute_result"
    }
   ],
   "source": [
    "# If we want to see all the requests that are submitted to the domain,\n",
    "rsna_domain.requests.all()"
   ]
  },
  {
   "cell_type": "markdown",
   "id": "16d28a30",
   "metadata": {},
   "source": [
    "```\n",
    "Some time has passed, let' check if our requests are approved or not.\n",
    "```"
   ]
  },
  {
   "cell_type": "code",
   "execution_count": 18,
   "id": "2b4aa83e",
   "metadata": {},
   "outputs": [
    {
     "name": "stdout",
     "output_type": "stream",
     "text": [
      "There are no pending reqeuests.\n"
     ]
    }
   ],
   "source": [
    "# Let's check again for pending requests first....\n",
    "rsna_domain.requests"
   ]
  },
  {
   "cell_type": "code",
   "execution_count": 14,
   "id": "60bc54eb",
   "metadata": {},
   "outputs": [
    {
     "data": {
      "text/html": [
       "<div>\n",
       "<style scoped>\n",
       "    .dataframe tbody tr th:only-of-type {\n",
       "        vertical-align: middle;\n",
       "    }\n",
       "\n",
       "    .dataframe tbody tr th {\n",
       "        vertical-align: top;\n",
       "    }\n",
       "\n",
       "    .dataframe thead th {\n",
       "        text-align: right;\n",
       "    }\n",
       "</style>\n",
       "<table border=\"1\" class=\"dataframe\">\n",
       "  <thead>\n",
       "    <tr style=\"text-align: right;\">\n",
       "      <th></th>\n",
       "      <th>Request Id</th>\n",
       "      <th>Request Date</th>\n",
       "      <th>Reason</th>\n",
       "      <th>Result Id</th>\n",
       "      <th>State</th>\n",
       "      <th>Reviewer Comments</th>\n",
       "    </tr>\n",
       "  </thead>\n",
       "  <tbody>\n",
       "    <tr>\n",
       "      <th>0</th>\n",
       "      <td>3ca9694c8e5d4214a1ed8025a1391c8c</td>\n",
       "      <td>Sep 29 2021 11:31AM</td>\n",
       "      <td>Know the number of unique labels in the dataset.</td>\n",
       "      <td>315411ed283042ee81c78737d2010ca5</td>\n",
       "      <td>Approved</td>\n",
       "      <td>Looks good.</td>\n",
       "    </tr>\n",
       "    <tr>\n",
       "      <th>1</th>\n",
       "      <td>6ee8bbea539e4088ad4c23a7a123cfbb</td>\n",
       "      <td>Sep 19 2021 01:31AM</td>\n",
       "      <td>Get the labels in the dataset.</td>\n",
       "      <td>c1498711dd5f4a1682bfe2c8bba8830f</td>\n",
       "      <td>Denied</td>\n",
       "      <td>Access to raw labels is not allowed</td>\n",
       "    </tr>\n",
       "  </tbody>\n",
       "</table>\n",
       "</div>"
      ],
      "text/plain": [
       "                         Request Id         Request Date  \\\n",
       "0  3ca9694c8e5d4214a1ed8025a1391c8c  Sep 29 2021 11:31AM   \n",
       "1  6ee8bbea539e4088ad4c23a7a123cfbb  Sep 19 2021 01:31AM   \n",
       "\n",
       "                                             Reason  \\\n",
       "0  Know the number of unique labels in the dataset.   \n",
       "1                    Get the labels in the dataset.   \n",
       "\n",
       "                          Result Id     State  \\\n",
       "0  315411ed283042ee81c78737d2010ca5  Approved   \n",
       "1  c1498711dd5f4a1682bfe2c8bba8830f    Denied   \n",
       "\n",
       "                     Reviewer Comments  \n",
       "0                          Looks good.  \n",
       "1  Access to raw labels is not allowed  "
      ]
     },
     "execution_count": 14,
     "metadata": {},
     "output_type": "execute_result"
    }
   ],
   "source": [
    "# Let's check all the submitted requests\n",
    "rsna_domain.requests.all()"
   ]
  },
  {
   "cell_type": "code",
   "execution_count": 90,
   "id": "37615397",
   "metadata": {},
   "outputs": [
    {
     "name": "stdout",
     "output_type": "stream",
     "text": [
      "Unique Labels: 2\n"
     ]
    }
   ],
   "source": [
    "# Great our requests are approved, let's get the information\n",
    "unique_labels = number_of_unique_labels.get()\n",
    "print(f\"Unique Labels: {len(unique_labels)}\")"
   ]
  },
  {
   "cell_type": "code",
   "execution_count": 16,
   "id": "a1cdbc17",
   "metadata": {},
   "outputs": [
    {
     "data": {
      "text/html": [
       "<div>\n",
       "<style scoped>\n",
       "    .dataframe tbody tr th:only-of-type {\n",
       "        vertical-align: middle;\n",
       "    }\n",
       "\n",
       "    .dataframe tbody tr th {\n",
       "        vertical-align: top;\n",
       "    }\n",
       "\n",
       "    .dataframe thead th {\n",
       "        text-align: right;\n",
       "    }\n",
       "</style>\n",
       "<table border=\"1\" class=\"dataframe\">\n",
       "  <thead>\n",
       "    <tr style=\"text-align: right;\">\n",
       "      <th></th>\n",
       "      <th>Request Id</th>\n",
       "      <th>Request Date</th>\n",
       "      <th>Reason</th>\n",
       "      <th>Result Id</th>\n",
       "      <th>State</th>\n",
       "      <th>Reviewer Comments</th>\n",
       "    </tr>\n",
       "  </thead>\n",
       "  <tbody>\n",
       "    <tr>\n",
       "      <th>0</th>\n",
       "      <td>3ca9694c8e5d4214a1ed8025a1391c8c</td>\n",
       "      <td>Sep 29 2021 11:31AM</td>\n",
       "      <td>Know the number of unique labels in the dataset.</td>\n",
       "      <td>315411ed283042ee81c78737d2010ca5</td>\n",
       "      <td>Approved</td>\n",
       "      <td>Looks good.</td>\n",
       "    </tr>\n",
       "  </tbody>\n",
       "</table>\n",
       "</div>"
      ],
      "text/plain": [
       "                         Request Id         Request Date  \\\n",
       "0  3ca9694c8e5d4214a1ed8025a1391c8c  Sep 29 2021 11:31AM   \n",
       "\n",
       "                                             Reason  \\\n",
       "0  Know the number of unique labels in the dataset.   \n",
       "\n",
       "                          Result Id     State Reviewer Comments  \n",
       "0  315411ed283042ee81c78737d2010ca5  Approved       Looks good.  "
      ]
     },
     "execution_count": 16,
     "metadata": {},
     "output_type": "execute_result"
    }
   ],
   "source": [
    "# Filtering requests logs\n",
    "\n",
    "# via Id (Get the request with the given request id)\n",
    "rsna_domain.requests.filter(id=\"3ca9694c8e5d4214a1ed8025a1391c8c\")\n",
    "\n",
    "# or via Status (List all the logs with given status)\n",
    "rsna_domain.requests.filter(status=\"Approved\")"
   ]
  },
  {
   "cell_type": "code",
   "execution_count": null,
   "id": "6b607f93",
   "metadata": {},
   "outputs": [],
   "source": []
  },
  {
   "cell_type": "markdown",
   "id": "8ae17a8b",
   "metadata": {
    "heading_collapsed": true
   },
   "source": [
    "#### Dummy Data"
   ]
  },
  {
   "cell_type": "code",
   "execution_count": 1,
   "id": "b2a3da1d",
   "metadata": {
    "hidden": true
   },
   "outputs": [],
   "source": [
    "import pandas as pd\n",
    "from enum import Enum\n",
    "import uuid\n",
    "import torch\n",
    "import datetime\n",
    "import json\n",
    "import numpy as np\n",
    "\n",
    "\n",
    "class bcolors(Enum):\n",
    "    HEADER = \"\\033[95m\"\n",
    "    OKBLUE = \"\\033[94m\"\n",
    "    OKCYAN = \"\\033[96m\"\n",
    "    OKGREEN = \"\\033[92m\"\n",
    "    WARNING = \"\\033[93m\"\n",
    "    FAIL = \"\\033[91m\"\n",
    "    ENDC = \"\\033[0m\"\n",
    "    BOLD = \"\\033[1m\"\n",
    "    UNDERLINE = \"\\033[4m\""
   ]
  },
  {
   "cell_type": "code",
   "execution_count": 2,
   "id": "1e92be60",
   "metadata": {
    "hidden": true
   },
   "outputs": [],
   "source": [
    "all_datasets = [\n",
    "    {\n",
    "        \"Id\": uuid.uuid4().hex,\n",
    "        \"Name\": \"Diabetes Dataset\",\n",
    "        \"Tags\": [\"Health\", \"Classification\", \"Dicom\"],\n",
    "        \"Assets\": '''[\"Images\"] -> Tensor; [\"Labels\"] -> Tensor''',\n",
    "        \"Description\": \"A large set of high-resolution retina images\",\n",
    "        \"Domain\": \"California Healthcare Foundation\",\n",
    "        \"Network\": \"WHO\",\n",
    "        \"Usage\": 102,\n",
    "        \"Added On\": datetime.datetime.now().replace(month=1).strftime(\"%b %d %Y\")\n",
    "    },\n",
    "    {\n",
    "        \"Id\": uuid.uuid4().hex,\n",
    "        \"Name\": \"Canada Commodities Dataset\",\n",
    "        \"Tags\": [\"Commodities\", \"Canada\", \"Trade\"],\n",
    "        \"Assets\": '''[\"ca-feb2021\"] -> DataFrame''',\n",
    "        \"Description\": \"Commodity Trade Dataset\",\n",
    "        \"Domain\": \"Canada Domain\",\n",
    "        \"Network\": \"United Nations\",\n",
    "        \"Usage\": 40,\n",
    "        \"Added On\": datetime.datetime.now().replace(month=3, day=11).strftime(\"%b %d %Y\")\n",
    "    },\n",
    "    {\n",
    "        \"Id\": uuid.uuid4().hex,\n",
    "        \"Name\": \"Italy Commodities Dataset\",\n",
    "        \"Tags\": [\"Commodities\", \"Italy\", \"Trade\"],\n",
    "        \"Assets\": '''[\"it-feb2021\"] -> DataFrame''',\n",
    "        \"Description\": \"Commodity Trade Dataset\",\n",
    "        \"Domain\": \"Italy Domain\",\n",
    "        \"Network\": \"United Nations\",\n",
    "        \"Usage\": 23,\n",
    "        \"Added On\": datetime.datetime.now().replace(month=3).strftime(\"%b %d %Y\")\n",
    "    },\n",
    "    {\n",
    "        \"Id\": uuid.uuid4().hex,\n",
    "        \"Name\": \"Netherlands Commodities Dataset\",\n",
    "        \"Tags\": [\"Commodities\", \"Netherlands\", \"Trade\"],\n",
    "        \"Assets\": '''[\"ne-feb2021\"] -> DataFrame''',\n",
    "        \"Description\": \"Commodity Trade Dataset\",\n",
    "        \"Domain\": \"Netherland Domain\",\n",
    "        \"Network\": \"United Nations\",\n",
    "        \"Usage\": 20,\n",
    "        \"Added On\": datetime.datetime.now().replace(month=4, day=12).strftime(\"%b %d %Y\")\n",
    "    },\n",
    "    {\n",
    "        \"Id\": uuid.uuid4().hex,\n",
    "        \"Name\": \"Pnuemonia Dataset\",\n",
    "        \"Tags\": [\"Health\", \"Pneumonia\", \"X-Ray\"],\n",
    "        \"Assets\": '''[\"X-Ray-Images\"] -> Tensor;  [\"labels\"] -> Tensor''',\n",
    "        \"Description\": \"Chest X-Ray images. All provided images are in DICOM format.\",\n",
    "        \"Domain\": \"RSNA\",\n",
    "        \"Network\": \"WHO\",\n",
    "        \"Usage\": 334,\n",
    "        \"Added On\": datetime.datetime.now().replace(month=1).strftime(\"%b %d %Y\")\n",
    "    },\n",
    "]\n",
    "\n",
    "\n",
    "all_datasets_df = pd.DataFrame(all_datasets)"
   ]
  },
  {
   "cell_type": "code",
   "execution_count": 3,
   "id": "c14a689d",
   "metadata": {
    "hidden": true
   },
   "outputs": [],
   "source": [
    "# Print available networks\n",
    "\n",
    "available_networks = [\n",
    "    {\n",
    "        \"Id\": f\"{uuid.uuid4().hex}\",\n",
    "        \"Name\": \"United Nations\",\n",
    "        \"Hosted Domains\": 4,\n",
    "        \"Hosted Datasets\": 6,\n",
    "        \"Description\": \"The UN hosts data related to the commodity and Census data.\",\n",
    "        \"Tags\": [\"Commodities\", \"Census\", \"Health\"],\n",
    "        \"Url\": \"https://un.openmined.org\",\n",
    "    },\n",
    "    {\n",
    "        \"Id\": f\"{uuid.uuid4().hex}\",\n",
    "        \"Name\": \"World Health Organisation\",\n",
    "        \"Hosted Domains\": 3,\n",
    "        \"Hosted Datasets\": 5,\n",
    "        \"Description\": \"WHO hosts data related to health sector of different parts of the worlds.\",\n",
    "        \"Tags\": [\"Virology\", \"Cancer\", \"Health\"],\n",
    "        \"Url\": \"https://who.openmined.org\",\n",
    "    },\n",
    "    {\n",
    "        \"Id\": f\"{uuid.uuid4().hex}\",\n",
    "        \"Name\": \"International Space Station\",\n",
    "        \"Hosted Domains\": 2,\n",
    "        \"Hosted Datasets\": 4,\n",
    "        \"Description\": \"ISS hosts data related to the topography of different exoplanets.\",\n",
    "        \"Tags\": [\"Exoplanets\", \"Extra-Terrestrial\"],\n",
    "        \"Url\": \"https://iss.openmined.org\",\n",
    "    },\n",
    "]\n",
    "networks_df = pd.DataFrame(available_networks)"
   ]
  },
  {
   "cell_type": "code",
   "execution_count": 4,
   "id": "4dd3caf7",
   "metadata": {
    "hidden": true
   },
   "outputs": [],
   "source": [
    "who_domains = [\n",
    "    {\n",
    "        \"Id\": f\"{uuid.uuid4().hex}\",\n",
    "        \"Name\": \"California Healthcare Foundation\",\n",
    "        \"Hosted Datasets\": 1,\n",
    "        \"Description\": \"Health care systems\",\n",
    "        \"Tags\": [\"Clinical Data\", \"Healthcare\"],\n",
    "    },\n",
    "    {\n",
    "        \"Id\": f\"{uuid.uuid4().hex}\",\n",
    "        \"Name\": \"RSNA\",\n",
    "        \"Hosted Datasets\": 1,\n",
    "        \"Description\": \"Radiological Image Datasets\",\n",
    "        \"Tags\": [\"Dicom\", \"Radiology\", \"Health\"],\n",
    "    },\n",
    "]\n",
    "who_domains_df = pd.DataFrame(who_domains)"
   ]
  },
  {
   "cell_type": "code",
   "execution_count": 5,
   "id": "0f3ad262",
   "metadata": {
    "hidden": true
   },
   "outputs": [
    {
     "name": "stdout",
     "output_type": "stream",
     "text": [
      "\n",
      "Name: Pnuemonia Detection and Locationzation Dataset\n",
      "Description: Chest X-Ray images. All provided images are in DICOM format.\n",
      "\n"
     ]
    }
   ],
   "source": [
    "pneumonia_dataset = [\n",
    "    {\n",
    "        \"Asset Key\": \"[X-Ray-Images]\",\n",
    "        \"Type\": \"Tensor\",\n",
    "        \"Shape\": \"(40000, 7)\"\n",
    "    },\n",
    "    {\n",
    "        \"Asset Key\": '[labels]',\n",
    "        \"Type\": \"Tensor\",\n",
    "        \"Shape\": \"(40000, 5)\"\n",
    "    },\n",
    "]\n",
    "print(\"\"\"\n",
    "Name: Pnuemonia Detection and Locationzation Dataset\n",
    "Description: Chest X-Ray images. All provided images are in DICOM format.\n",
    "\"\"\")\n",
    "pneumonia_dataset_df = pd.DataFrame(pneumonia_dataset)"
   ]
  },
  {
   "cell_type": "code",
   "execution_count": 6,
   "id": "704b5ecb",
   "metadata": {
    "hidden": true
   },
   "outputs": [],
   "source": [
    "labels_data = np.random.randint(0, 2, size=(40000, 5))[:, 0]\n",
    "label_tensors = torch.Tensor(labels_data)"
   ]
  },
  {
   "cell_type": "code",
   "execution_count": 7,
   "id": "ec40fb16",
   "metadata": {
    "hidden": true
   },
   "outputs": [
    {
     "name": "stdout",
     "output_type": "stream",
     "text": [
      "\n",
      "    \u001b[91mPermissionDenied:\u001b[0m\n",
      "        You don't have authorization to perform the `.get` operation.\n",
      "        You need to either `request` the results or `publish` the results.\n",
      "\n"
     ]
    }
   ],
   "source": [
    "authorization_error = f\"\"\"\n",
    "    {bcolors.FAIL.value}PermissionDenied:{bcolors.ENDC.value}\n",
    "        You don't have authorization to perform the `.get` operation.\n",
    "        You need to either `request` the results or `publish` the results.\n",
    "\"\"\"\n",
    "\n",
    "print(authorization_error)"
   ]
  },
  {
   "cell_type": "code",
   "execution_count": 8,
   "id": "62fc38bc",
   "metadata": {
    "hidden": true
   },
   "outputs": [
    {
     "name": "stdout",
     "output_type": "stream",
     "text": [
      "\n",
      "    Your request has been submitted to the domain. Your request id is: \u001b[1m8b0f17f8ef284e09b1afb75443b1f4a7\n",
      "    \u001b[0mYou can check the status of your requests via `.requests`.\n",
      "\n"
     ]
    }
   ],
   "source": [
    "request_uuid = uuid.uuid4().hex\n",
    "request_submission = f\"\"\"\n",
    "    Your request has been submitted to the domain. Your request id is: {bcolors.BOLD.value}{request_uuid}\n",
    "    {bcolors.ENDC.value}You can check the status of your requests via `.requests`.\n",
    "\"\"\"\n",
    "print(request_submission)"
   ]
  },
  {
   "cell_type": "code",
   "execution_count": 9,
   "id": "1b8908a2",
   "metadata": {
    "hidden": true
   },
   "outputs": [],
   "source": [
    "requests_data = [\n",
    "    {\n",
    "        \"Request Id\": uuid.uuid4().hex,\n",
    "        \"Request Date\": datetime.datetime.now().strftime(\"%b %d %Y %I:%M%p\"),\n",
    "        \"Reason\": \"Know the number of unique labels in the dataset.\",\n",
    "        \"Result Id\": uuid.uuid4().hex,\n",
    "        \"State\": \"Pending\",\n",
    "        \"Reviewer Comments\": \"-\",\n",
    "    },\n",
    "    {\n",
    "        \"Request Id\": uuid.uuid4().hex,\n",
    "        \"Request Date\": datetime.datetime.now().replace(day=19, hour=1).strftime(\"%b %d %Y %I:%M%p\"),\n",
    "        \"Reason\": \"Get the labels in the dataset.\",\n",
    "        \"Result Id\": uuid.uuid4().hex,\n",
    "        \"State\": \"Denied\",\n",
    "        \"Reviewer Comments\": \"Access to raw labels is not allowed\",\n",
    "    }\n",
    "]\n",
    "\n",
    "requests_data_df = pd.DataFrame(requests_data)"
   ]
  },
  {
   "cell_type": "code",
   "execution_count": 10,
   "id": "e284764b",
   "metadata": {
    "hidden": true
   },
   "outputs": [],
   "source": [
    "approved_requests_data_df = requests_data_df.copy()\n",
    "approved_requests_data_df[\"State\"][0] = \"Approved\"\n",
    "approved_requests_data_df[\"Reviewer Comments\"][0] = \"Looks good.\""
   ]
  },
  {
   "cell_type": "code",
   "execution_count": 11,
   "id": "cf6a05fa",
   "metadata": {
    "hidden": true
   },
   "outputs": [],
   "source": [
    "filtered_request_logs = approved_requests_data_df[:1]"
   ]
  },
  {
   "cell_type": "code",
   "execution_count": null,
   "id": "e4938128",
   "metadata": {
    "hidden": true
   },
   "outputs": [],
   "source": []
  },
  {
   "cell_type": "code",
   "execution_count": null,
   "id": "aba31672",
   "metadata": {
    "hidden": true
   },
   "outputs": [],
   "source": []
  }
 ],
 "metadata": {
  "kernelspec": {
   "display_name": "Python 3 (ipykernel)",
   "language": "python",
   "name": "python3"
  },
  "language_info": {
   "codemirror_mode": {
    "name": "ipython",
    "version": 3
   },
   "file_extension": ".py",
   "mimetype": "text/x-python",
   "name": "python",
   "nbconvert_exporter": "python",
   "pygments_lexer": "ipython3",
   "version": "3.9.7"
  }
 },
 "nbformat": 4,
 "nbformat_minor": 5
}

{
 "cells": [
  {
   "cell_type": "markdown",
   "id": "944df42d",
   "metadata": {},
   "source": [
    "#### DS selects a dataset and perform some query\n",
    "\n",
    "- The user selects a network and domain\n",
    "- The logs into the domain and selects a dataset\n",
    "- The user perform a query on the selected dataset pointer"
   ]
  },
  {
   "cell_type": "code",
   "execution_count": null,
   "id": "464976b6",
   "metadata": {},
   "outputs": [],
   "source": [
    "import syft as sy"
   ]
  },
  {
   "cell_type": "code",
   "execution_count": 9,
   "id": "bc0d7fdf",
   "metadata": {},
   "outputs": [
    {
     "data": {
      "text/html": [
       "<div>\n",
       "<style scoped>\n",
       "    .dataframe tbody tr th:only-of-type {\n",
       "        vertical-align: middle;\n",
       "    }\n",
       "\n",
       "    .dataframe tbody tr th {\n",
       "        vertical-align: top;\n",
       "    }\n",
       "\n",
       "    .dataframe thead th {\n",
       "        text-align: right;\n",
       "    }\n",
       "</style>\n",
       "<table border=\"1\" class=\"dataframe\">\n",
       "  <thead>\n",
       "    <tr style=\"text-align: right;\">\n",
       "      <th></th>\n",
       "      <th>Id</th>\n",
       "      <th>Name</th>\n",
       "      <th>Tags</th>\n",
       "      <th>Assets</th>\n",
       "      <th>Description</th>\n",
       "      <th>Domain</th>\n",
       "      <th>Network</th>\n",
       "      <th>Usage</th>\n",
       "      <th>Added On</th>\n",
       "    </tr>\n",
       "  </thead>\n",
       "  <tbody>\n",
       "    <tr>\n",
       "      <th>0</th>\n",
       "      <td>142cdfe3642b42ce9ebf1fb5171ee7ce</td>\n",
       "      <td>Diabetes Dataset</td>\n",
       "      <td>[Health, Classification, Dicom]</td>\n",
       "      <td>[\"Images\"] -&gt; Tensor; [\"Labels\"] -&gt; Tensor</td>\n",
       "      <td>A large set of high-resolution retina images</td>\n",
       "      <td>California Healthcare Foundation</td>\n",
       "      <td>WHO</td>\n",
       "      <td>102</td>\n",
       "      <td>Jan 21 2021</td>\n",
       "    </tr>\n",
       "    <tr>\n",
       "      <th>1</th>\n",
       "      <td>657ab1e98136437c864f917004a9cf78</td>\n",
       "      <td>Canada Commodities Dataset</td>\n",
       "      <td>[Commodities, Canada, Trade]</td>\n",
       "      <td>[\"ca-feb2021\"] -&gt; DataFrame</td>\n",
       "      <td>Commodity Trade Dataset</td>\n",
       "      <td>Canada Domain</td>\n",
       "      <td>United Nations</td>\n",
       "      <td>40</td>\n",
       "      <td>Mar 11 2021</td>\n",
       "    </tr>\n",
       "    <tr>\n",
       "      <th>2</th>\n",
       "      <td>3930dc53aa91423c88a2afda99a53673</td>\n",
       "      <td>Italy Commodities Dataset</td>\n",
       "      <td>[Commodities, Italy, Trade]</td>\n",
       "      <td>[\"it-feb2021\"] -&gt; DataFrame</td>\n",
       "      <td>Commodity Trade Dataset</td>\n",
       "      <td>Italy Domain</td>\n",
       "      <td>United Nations</td>\n",
       "      <td>23</td>\n",
       "      <td>Mar 21 2021</td>\n",
       "    </tr>\n",
       "    <tr>\n",
       "      <th>3</th>\n",
       "      <td>03a4e468c11f477aad27ea6ef36484ef</td>\n",
       "      <td>Netherlands Commodities Dataset</td>\n",
       "      <td>[Commodities, Netherlands, Trade]</td>\n",
       "      <td>[\"ne-feb2021\"] -&gt; DataFrame</td>\n",
       "      <td>Commodity Trade Dataset</td>\n",
       "      <td>Netherland Domain</td>\n",
       "      <td>United Nations</td>\n",
       "      <td>20</td>\n",
       "      <td>Apr 12 2021</td>\n",
       "    </tr>\n",
       "    <tr>\n",
       "      <th>4</th>\n",
       "      <td>af990c6ee66244b2a95eb5b6472c2b30</td>\n",
       "      <td>Pnuemonia Dataset</td>\n",
       "      <td>[Health, Pneumonia, X-Ray]</td>\n",
       "      <td>[\"X-Ray-Images\"] -&gt; Tensor;  [\"labels\"] -&gt; Tensor</td>\n",
       "      <td>Chest X-Ray images. All provided images are in...</td>\n",
       "      <td>RSNA</td>\n",
       "      <td>WHO</td>\n",
       "      <td>334</td>\n",
       "      <td>Jan 21 2021</td>\n",
       "    </tr>\n",
       "  </tbody>\n",
       "</table>\n",
       "</div>"
      ],
      "text/plain": [
       "                                 Id                             Name  \\\n",
       "0  142cdfe3642b42ce9ebf1fb5171ee7ce                 Diabetes Dataset   \n",
       "1  657ab1e98136437c864f917004a9cf78       Canada Commodities Dataset   \n",
       "2  3930dc53aa91423c88a2afda99a53673        Italy Commodities Dataset   \n",
       "3  03a4e468c11f477aad27ea6ef36484ef  Netherlands Commodities Dataset   \n",
       "4  af990c6ee66244b2a95eb5b6472c2b30                Pnuemonia Dataset   \n",
       "\n",
       "                                Tags  \\\n",
       "0    [Health, Classification, Dicom]   \n",
       "1       [Commodities, Canada, Trade]   \n",
       "2        [Commodities, Italy, Trade]   \n",
       "3  [Commodities, Netherlands, Trade]   \n",
       "4         [Health, Pneumonia, X-Ray]   \n",
       "\n",
       "                                              Assets  \\\n",
       "0         [\"Images\"] -> Tensor; [\"Labels\"] -> Tensor   \n",
       "1                        [\"ca-feb2021\"] -> DataFrame   \n",
       "2                        [\"it-feb2021\"] -> DataFrame   \n",
       "3                        [\"ne-feb2021\"] -> DataFrame   \n",
       "4  [\"X-Ray-Images\"] -> Tensor;  [\"labels\"] -> Tensor   \n",
       "\n",
       "                                         Description  \\\n",
       "0       A large set of high-resolution retina images   \n",
       "1                            Commodity Trade Dataset   \n",
       "2                            Commodity Trade Dataset   \n",
       "3                            Commodity Trade Dataset   \n",
       "4  Chest X-Ray images. All provided images are in...   \n",
       "\n",
       "                             Domain         Network  Usage     Added On  \n",
       "0  California Healthcare Foundation             WHO    102  Jan 21 2021  \n",
       "1                     Canada Domain  United Nations     40  Mar 11 2021  \n",
       "2                      Italy Domain  United Nations     23  Mar 21 2021  \n",
       "3                 Netherland Domain  United Nations     20  Apr 12 2021  \n",
       "4                              RSNA             WHO    334  Jan 21 2021  "
      ]
     },
     "execution_count": 9,
     "metadata": {},
     "output_type": "execute_result"
    }
   ],
   "source": [
    "# Let's list the available dataset\n",
    "sy.datasets"
   ]
  },
  {
   "cell_type": "code",
   "execution_count": 12,
   "id": "9e26d348",
   "metadata": {},
   "outputs": [
    {
     "data": {
      "text/html": [
       "<div>\n",
       "<style scoped>\n",
       "    .dataframe tbody tr th:only-of-type {\n",
       "        vertical-align: middle;\n",
       "    }\n",
       "\n",
       "    .dataframe tbody tr th {\n",
       "        vertical-align: top;\n",
       "    }\n",
       "\n",
       "    .dataframe thead th {\n",
       "        text-align: right;\n",
       "    }\n",
       "</style>\n",
       "<table border=\"1\" class=\"dataframe\">\n",
       "  <thead>\n",
       "    <tr style=\"text-align: right;\">\n",
       "      <th></th>\n",
       "      <th>Id</th>\n",
       "      <th>Name</th>\n",
       "      <th>Hosted Domains</th>\n",
       "      <th>Hosted Datasets</th>\n",
       "      <th>Description</th>\n",
       "      <th>Tags</th>\n",
       "      <th>Url</th>\n",
       "    </tr>\n",
       "  </thead>\n",
       "  <tbody>\n",
       "    <tr>\n",
       "      <th>0</th>\n",
       "      <td>e0922b7f60f44469a22f6a49cb90bd1d</td>\n",
       "      <td>United Nations</td>\n",
       "      <td>4</td>\n",
       "      <td>6</td>\n",
       "      <td>The UN hosts data related to the commodity and...</td>\n",
       "      <td>[Commodities, Census, Health]</td>\n",
       "      <td>https://un.openmined.org</td>\n",
       "    </tr>\n",
       "    <tr>\n",
       "      <th>1</th>\n",
       "      <td>91573c3f71b742dca73428566c07a966</td>\n",
       "      <td>World Health Organisation</td>\n",
       "      <td>3</td>\n",
       "      <td>5</td>\n",
       "      <td>WHO hosts data related to health sector of dif...</td>\n",
       "      <td>[Virology, Cancer, Health]</td>\n",
       "      <td>https://who.openmined.org</td>\n",
       "    </tr>\n",
       "    <tr>\n",
       "      <th>2</th>\n",
       "      <td>813cdd377fdb45988af3aafb2623929e</td>\n",
       "      <td>International Space Station</td>\n",
       "      <td>2</td>\n",
       "      <td>4</td>\n",
       "      <td>ISS hosts data related to the topography of di...</td>\n",
       "      <td>[Exoplanets, Extra-Terrestrial]</td>\n",
       "      <td>https://iss.openmined.org</td>\n",
       "    </tr>\n",
       "  </tbody>\n",
       "</table>\n",
       "</div>"
      ],
      "text/plain": [
       "                                 Id                         Name  \\\n",
       "0  e0922b7f60f44469a22f6a49cb90bd1d               United Nations   \n",
       "1  91573c3f71b742dca73428566c07a966    World Health Organisation   \n",
       "2  813cdd377fdb45988af3aafb2623929e  International Space Station   \n",
       "\n",
       "   Hosted Domains  Hosted Datasets  \\\n",
       "0               4                6   \n",
       "1               3                5   \n",
       "2               2                4   \n",
       "\n",
       "                                         Description  \\\n",
       "0  The UN hosts data related to the commodity and...   \n",
       "1  WHO hosts data related to health sector of dif...   \n",
       "2  ISS hosts data related to the topography of di...   \n",
       "\n",
       "                              Tags                        Url  \n",
       "0    [Commodities, Census, Health]   https://un.openmined.org  \n",
       "1       [Virology, Cancer, Health]  https://who.openmined.org  \n",
       "2  [Exoplanets, Extra-Terrestrial]  https://iss.openmined.org  "
      ]
     },
     "execution_count": 12,
     "metadata": {},
     "output_type": "execute_result"
    }
   ],
   "source": [
    "# We want to access the `Pneumonia Dataset`, let's connect to the RSNA domain\n",
    "# Let's list the RSNA available networks\n",
    "sy.networks"
   ]
  },
  {
   "cell_type": "code",
   "execution_count": 13,
   "id": "55d6dcbf",
   "metadata": {},
   "outputs": [
    {
     "data": {
      "text/html": [
       "<div>\n",
       "<style scoped>\n",
       "    .dataframe tbody tr th:only-of-type {\n",
       "        vertical-align: middle;\n",
       "    }\n",
       "\n",
       "    .dataframe tbody tr th {\n",
       "        vertical-align: top;\n",
       "    }\n",
       "\n",
       "    .dataframe thead th {\n",
       "        text-align: right;\n",
       "    }\n",
       "</style>\n",
       "<table border=\"1\" class=\"dataframe\">\n",
       "  <thead>\n",
       "    <tr style=\"text-align: right;\">\n",
       "      <th></th>\n",
       "      <th>Id</th>\n",
       "      <th>Name</th>\n",
       "      <th>Hosted Datasets</th>\n",
       "      <th>Description</th>\n",
       "      <th>Tags</th>\n",
       "    </tr>\n",
       "  </thead>\n",
       "  <tbody>\n",
       "    <tr>\n",
       "      <th>0</th>\n",
       "      <td>beeedad1307a4ff488404cb88a326f22</td>\n",
       "      <td>California Healthcare Foundation</td>\n",
       "      <td>1</td>\n",
       "      <td>Health care systems</td>\n",
       "      <td>[Clinical Data, Healthcare]</td>\n",
       "    </tr>\n",
       "    <tr>\n",
       "      <th>1</th>\n",
       "      <td>e1f9db8479cd4899956f2d2721f7146d</td>\n",
       "      <td>RSNA</td>\n",
       "      <td>1</td>\n",
       "      <td>Radiological Image Datasets</td>\n",
       "      <td>[Dicom, Radiology, Health]</td>\n",
       "    </tr>\n",
       "  </tbody>\n",
       "</table>\n",
       "</div>"
      ],
      "text/plain": [
       "                                 Id                              Name  \\\n",
       "0  beeedad1307a4ff488404cb88a326f22  California Healthcare Foundation   \n",
       "1  e1f9db8479cd4899956f2d2721f7146d                              RSNA   \n",
       "\n",
       "   Hosted Datasets                  Description                         Tags  \n",
       "0                1          Health care systems  [Clinical Data, Healthcare]  \n",
       "1                1  Radiological Image Datasets   [Dicom, Radiology, Health]  "
      ]
     },
     "execution_count": 13,
     "metadata": {},
     "output_type": "execute_result"
    }
   ],
   "source": [
    "# Let's select the `WHO` network and list the available domains on the `WHO Network`.\n",
    "who_network = sy.networks[\"World Health Organisation\"]\n",
    "who_network.domains"
   ]
  },
  {
   "cell_type": "code",
   "execution_count": null,
   "id": "84fa2be3",
   "metadata": {},
   "outputs": [],
   "source": [
    "# Let's select the `RSNA domain`\n",
    "rsna_domain = who_network[\"RSNA\"]\n",
    "\n",
    "# Let's login into the rsna domain\n",
    "rsna_domain_client = rsna_domain.login(email=\"sheldon@caltech.edu\", password=\"bazinga\")\n",
    "\n",
    "# Let's select the pnuemonia dataset\n",
    "pnuemonia_dataset = rsna_domain_client[\"Pnuemonia Dataset\"]"
   ]
  },
  {
   "cell_type": "code",
   "execution_count": 16,
   "id": "7d708295",
   "metadata": {},
   "outputs": [
    {
     "name": "stdout",
     "output_type": "stream",
     "text": [
      "\n",
      "Name: Pnuemonia Detection and Locationzation Dataset\n",
      "Description: Chest X-Ray images. All provided images are in DICOM format.\n",
      "\n"
     ]
    },
    {
     "data": {
      "text/html": [
       "<div>\n",
       "<style scoped>\n",
       "    .dataframe tbody tr th:only-of-type {\n",
       "        vertical-align: middle;\n",
       "    }\n",
       "\n",
       "    .dataframe tbody tr th {\n",
       "        vertical-align: top;\n",
       "    }\n",
       "\n",
       "    .dataframe thead th {\n",
       "        text-align: right;\n",
       "    }\n",
       "</style>\n",
       "<table border=\"1\" class=\"dataframe\">\n",
       "  <thead>\n",
       "    <tr style=\"text-align: right;\">\n",
       "      <th></th>\n",
       "      <th>Asset Key</th>\n",
       "      <th>Type</th>\n",
       "      <th>Shape</th>\n",
       "    </tr>\n",
       "  </thead>\n",
       "  <tbody>\n",
       "    <tr>\n",
       "      <th>0</th>\n",
       "      <td>[X-Ray-Images]</td>\n",
       "      <td>Tensor</td>\n",
       "      <td>(40000, 7)</td>\n",
       "    </tr>\n",
       "    <tr>\n",
       "      <th>1</th>\n",
       "      <td>[labels]</td>\n",
       "      <td>Tensor</td>\n",
       "      <td>(40000, 5)</td>\n",
       "    </tr>\n",
       "  </tbody>\n",
       "</table>\n",
       "</div>"
      ],
      "text/plain": [
       "        Asset Key    Type       Shape\n",
       "0  [X-Ray-Images]  Tensor  (40000, 7)\n",
       "1        [labels]  Tensor  (40000, 5)"
      ]
     },
     "execution_count": 16,
     "metadata": {},
     "output_type": "execute_result"
    }
   ],
   "source": [
    "# Let's see the dataset\n",
    "pnuemonia_dataset"
   ]
  },
  {
   "cell_type": "code",
   "execution_count": null,
   "id": "1c79649c",
   "metadata": {},
   "outputs": [],
   "source": [
    "# Let's select the lable tensors\n",
    "label_ptr = pnuemonia_dataset[\"labels\"]\n",
    "\n",
    "# Let's calculate the unique labels in the dataset\n",
    "unique_labels = label_ptr[:,0].unique()"
   ]
  },
  {
   "cell_type": "markdown",
   "id": "2916edd4",
   "metadata": {},
   "source": [
    "#### DS get the published results\n",
    "\n",
    "- The user can perform a `.get` operation to download the data of the variable locally.\n",
    "- If a user tries to access a variable without publishing its results or without requesting it, then they receive a 403.\n",
    "- If a user has requested a resource, then its denied by the DO, then the user receives a 403 on performing a get operation on the resource."
   ]
  },
  {
   "cell_type": "code",
   "execution_count": 17,
   "id": "6d36ac04",
   "metadata": {},
   "outputs": [
    {
     "name": "stdout",
     "output_type": "stream",
     "text": [
      "\n",
      "    \u001b[91mPermissionDenied:\u001b[0m\n",
      "        You don't have authorization to perform the `.get` operation.\n",
      "        You need to either `request` the results or `publish` the results.\n",
      "\n"
     ]
    }
   ],
   "source": [
    "number_of_unique_labels = unique_labels.shape\n",
    "# Let's access the labels\n",
    "number_of_unique_labels.get()"
   ]
  },
  {
   "cell_type": "markdown",
   "id": "a9c920fd",
   "metadata": {},
   "source": [
    "#### DS publishes the results (using the AutoDP Budget)\n",
    "\n",
    "- The user assigns a sigma parameter. (The sigma parameter denotes how much noise needs to be added to your final result or how much privacy budget a user wants to spend to get their result).\n",
    "- The user publishes their results for a given sigma value. On publishing, the results are auto-approved with noise added to them based on the privacy budget the user wants to spend (determined by the value of sigma)."
   ]
  },
  {
   "cell_type": "code",
   "execution_count": 40,
   "id": "f9b8ae55",
   "metadata": {},
   "outputs": [
    {
     "name": "stdout",
     "output_type": "stream",
     "text": [
      "\n",
      "\u001b[91mPrivateTensorDoesNotExists:\u001b[0m\n",
      "    The resource is not a private tensor. You cannot perform the \u001b[93m`publish`\u001b[0m operation.\n",
      "    You need to perform the `request` operation to access the results.\n",
      "\n"
     ]
    }
   ],
   "source": [
    "# If the tensor on which the publish operation is performed,\n",
    "# is not a `PrivateTensor`, then throw an error\n",
    "\n",
    "# Let's assume the `label_ptr` is not a private tensor\n",
    "number_of_unique_labels.publish(sigma=10)"
   ]
  },
  {
   "cell_type": "code",
   "execution_count": 24,
   "id": "181c1d2c",
   "metadata": {},
   "outputs": [
    {
     "name": "stdout",
     "output_type": "stream",
     "text": [
      "Processing......\n",
      "Done !!!\n"
     ]
    }
   ],
   "source": [
    "# If the `label_ptr` is a `Private Tensor`\n",
    "# Let's publish the results\n",
    "\n",
    "result = number_of_unique_labels.publish(sigma=10)"
   ]
  },
  {
   "cell_type": "code",
   "execution_count": 43,
   "id": "6196162a",
   "metadata": {},
   "outputs": [
    {
     "name": "stdout",
     "output_type": "stream",
     "text": [
      "Unique labels: [0, 1]\n"
     ]
    }
   ],
   "source": [
    "# Let's get the published results\n",
    "print(\"Unique labels: \", result.get())"
   ]
  },
  {
   "cell_type": "markdown",
   "id": "0ce1ac0f",
   "metadata": {},
   "source": [
    "#### DS can view the Private Budget\n",
    "\n",
    "- The user can view the approximate private budget allocated to him\n",
    "- The user can request for more private budget\n",
    "\n",
    "Following is the data visible in the private budget requests:\n",
    "\n",
    "- Request Id (Unique id of the request)\n",
    "- Request Date (Datetime on which the request was submitted. The datetime/timestamp are shown in UTC)\n",
    "- Reason (The reason submitted to access the resource by requester)\n",
    "- Current Budget (Current Private Budget)\n",
    "- Requested Budget (The number of epsilons requested by the user)\n",
    "- State (State of the request - Approved/Denied/Pending)"
   ]
  },
  {
   "cell_type": "code",
   "execution_count": 3,
   "id": "3ef48ad5",
   "metadata": {},
   "outputs": [
    {
     "name": "stdout",
     "output_type": "stream",
     "text": [
      "Approximate Budget Remaining: \u001b[1m45.78\u001b[0m\n"
     ]
    }
   ],
   "source": [
    "# Let's check the approximate private budget\n",
    "rsna_domain_client.privacy_budget"
   ]
  },
  {
   "cell_type": "code",
   "execution_count": 14,
   "id": "afd45a01",
   "metadata": {},
   "outputs": [
    {
     "name": "stdout",
     "output_type": "stream",
     "text": [
      "\n",
      "    Your request for private budget has been successfully submitted. \n",
      "    Your request id is: \u001b[1mdbb719cb51b3483d94f58a50dc927a1e\u001b[0m.\n",
      "\n"
     ]
    }
   ],
   "source": [
    "# If we want to request more privacy budget:\n",
    "rsna_domain_client.request_budget(epsilon=10.0, reason=\"Need more budget since I need to train a model.\")"
   ]
  },
  {
   "cell_type": "code",
   "execution_count": 9,
   "id": "12a2ab4a",
   "metadata": {},
   "outputs": [
    {
     "name": "stdout",
     "output_type": "stream",
     "text": [
      "You have 1 pending request.\n"
     ]
    },
    {
     "data": {
      "text/html": [
       "<div>\n",
       "<style scoped>\n",
       "    .dataframe tbody tr th:only-of-type {\n",
       "        vertical-align: middle;\n",
       "    }\n",
       "\n",
       "    .dataframe tbody tr th {\n",
       "        vertical-align: top;\n",
       "    }\n",
       "\n",
       "    .dataframe thead th {\n",
       "        text-align: right;\n",
       "    }\n",
       "</style>\n",
       "<table border=\"1\" class=\"dataframe\">\n",
       "  <thead>\n",
       "    <tr style=\"text-align: right;\">\n",
       "      <th></th>\n",
       "      <th>Request Id</th>\n",
       "      <th>Request Date</th>\n",
       "      <th>Reason</th>\n",
       "      <th>Current Budget</th>\n",
       "      <th>Requested Budget</th>\n",
       "      <th>State</th>\n",
       "    </tr>\n",
       "  </thead>\n",
       "  <tbody>\n",
       "    <tr>\n",
       "      <th>0</th>\n",
       "      <td>dbb719cb51b3483d94f58a50dc927a1e</td>\n",
       "      <td>Sep 26 2021 06:02PM</td>\n",
       "      <td>Need more budget since I need to train a model.</td>\n",
       "      <td>2ε</td>\n",
       "      <td>10ε</td>\n",
       "      <td>Pending</td>\n",
       "    </tr>\n",
       "  </tbody>\n",
       "</table>\n",
       "</div>"
      ],
      "text/plain": [
       "                         Request Id         Request Date  \\\n",
       "0  dbb719cb51b3483d94f58a50dc927a1e  Sep 26 2021 06:02PM   \n",
       "\n",
       "                                            Reason Current Budget  \\\n",
       "0  Need more budget since I need to train a model.             2ε   \n",
       "\n",
       "  Requested Budget    State  \n",
       "0              10ε  Pending  "
      ]
     },
     "execution_count": 9,
     "metadata": {},
     "output_type": "execute_result"
    }
   ],
   "source": [
    "# DS can view the request status in the request logs\n",
    "# The `.pb_requests` method only list the requests that in `Pending` state.\n",
    "rsna_domain_client.pb_requests"
   ]
  },
  {
   "cell_type": "code",
   "execution_count": 10,
   "id": "9e8dfb00",
   "metadata": {},
   "outputs": [
    {
     "data": {
      "text/html": [
       "<div>\n",
       "<style scoped>\n",
       "    .dataframe tbody tr th:only-of-type {\n",
       "        vertical-align: middle;\n",
       "    }\n",
       "\n",
       "    .dataframe tbody tr th {\n",
       "        vertical-align: top;\n",
       "    }\n",
       "\n",
       "    .dataframe thead th {\n",
       "        text-align: right;\n",
       "    }\n",
       "</style>\n",
       "<table border=\"1\" class=\"dataframe\">\n",
       "  <thead>\n",
       "    <tr style=\"text-align: right;\">\n",
       "      <th></th>\n",
       "      <th>Request Id</th>\n",
       "      <th>Request Date</th>\n",
       "      <th>Reason</th>\n",
       "      <th>Current Budget</th>\n",
       "      <th>Requested Budget</th>\n",
       "      <th>State</th>\n",
       "    </tr>\n",
       "  </thead>\n",
       "  <tbody>\n",
       "    <tr>\n",
       "      <th>0</th>\n",
       "      <td>dbb719cb51b3483d94f58a50dc927a1e</td>\n",
       "      <td>Sep 26 2021 06:02PM</td>\n",
       "      <td>Need more budget since I need to train a model.</td>\n",
       "      <td>2ε</td>\n",
       "      <td>10ε</td>\n",
       "      <td>Pending</td>\n",
       "    </tr>\n",
       "    <tr>\n",
       "      <th>1</th>\n",
       "      <td>801edd750f5e41849c314978b19eb9e9</td>\n",
       "      <td>Sep 11 2021 06:02PM</td>\n",
       "      <td>Need more budget. Drained out of budget.</td>\n",
       "      <td>0.5ε</td>\n",
       "      <td>2ε</td>\n",
       "      <td>Approved</td>\n",
       "    </tr>\n",
       "  </tbody>\n",
       "</table>\n",
       "</div>"
      ],
      "text/plain": [
       "                         Request Id         Request Date  \\\n",
       "0  dbb719cb51b3483d94f58a50dc927a1e  Sep 26 2021 06:02PM   \n",
       "1  801edd750f5e41849c314978b19eb9e9  Sep 11 2021 06:02PM   \n",
       "\n",
       "                                            Reason Current Budget  \\\n",
       "0  Need more budget since I need to train a model.             2ε   \n",
       "1         Need more budget. Drained out of budget.           0.5ε   \n",
       "\n",
       "  Requested Budget     State  \n",
       "0              10ε   Pending  \n",
       "1               2ε  Approved  "
      ]
     },
     "execution_count": 10,
     "metadata": {},
     "output_type": "execute_result"
    }
   ],
   "source": [
    "# But if we want to list all the private budget requests, irrespective of state.\n",
    "rsna_domain_client.pb_requests.all()"
   ]
  },
  {
   "cell_type": "code",
   "execution_count": 19,
   "id": "1e008dbe",
   "metadata": {},
   "outputs": [
    {
     "name": "stdout",
     "output_type": "stream",
     "text": [
      "There are no pending requests.\n"
     ]
    }
   ],
   "source": [
    "# If an action is taken on pending requests, they are no longer visible under `.pb_requests`\n",
    "rsna_domain_client.pb_requests"
   ]
  },
  {
   "cell_type": "code",
   "execution_count": 11,
   "id": "6a00ed72",
   "metadata": {},
   "outputs": [
    {
     "data": {
      "text/html": [
       "<div>\n",
       "<style scoped>\n",
       "    .dataframe tbody tr th:only-of-type {\n",
       "        vertical-align: middle;\n",
       "    }\n",
       "\n",
       "    .dataframe tbody tr th {\n",
       "        vertical-align: top;\n",
       "    }\n",
       "\n",
       "    .dataframe thead th {\n",
       "        text-align: right;\n",
       "    }\n",
       "</style>\n",
       "<table border=\"1\" class=\"dataframe\">\n",
       "  <thead>\n",
       "    <tr style=\"text-align: right;\">\n",
       "      <th></th>\n",
       "      <th>Request Id</th>\n",
       "      <th>Request Date</th>\n",
       "      <th>Reason</th>\n",
       "      <th>Current Budget</th>\n",
       "      <th>Requested Budget</th>\n",
       "      <th>State</th>\n",
       "    </tr>\n",
       "  </thead>\n",
       "  <tbody>\n",
       "    <tr>\n",
       "      <th>0</th>\n",
       "      <td>dbb719cb51b3483d94f58a50dc927a1e</td>\n",
       "      <td>Sep 26 2021 06:02PM</td>\n",
       "      <td>Need more budget since I need to train a model.</td>\n",
       "      <td>2ε</td>\n",
       "      <td>10ε</td>\n",
       "      <td>Denied</td>\n",
       "    </tr>\n",
       "    <tr>\n",
       "      <th>1</th>\n",
       "      <td>801edd750f5e41849c314978b19eb9e9</td>\n",
       "      <td>Sep 11 2021 06:02PM</td>\n",
       "      <td>Need more budget. Drained out of budget.</td>\n",
       "      <td>0.5ε</td>\n",
       "      <td>2ε</td>\n",
       "      <td>Approved</td>\n",
       "    </tr>\n",
       "  </tbody>\n",
       "</table>\n",
       "</div>"
      ],
      "text/plain": [
       "                         Request Id         Request Date  \\\n",
       "0  dbb719cb51b3483d94f58a50dc927a1e  Sep 26 2021 06:02PM   \n",
       "1  801edd750f5e41849c314978b19eb9e9  Sep 11 2021 06:02PM   \n",
       "\n",
       "                                            Reason Current Budget  \\\n",
       "0  Need more budget since I need to train a model.             2ε   \n",
       "1         Need more budget. Drained out of budget.           0.5ε   \n",
       "\n",
       "  Requested Budget     State  \n",
       "0              10ε    Denied  \n",
       "1               2ε  Approved  "
      ]
     },
     "execution_count": 11,
     "metadata": {},
     "output_type": "execute_result"
    }
   ],
   "source": [
    "# But, we can check the status of `Approved/Denied` requests by list all the requests\n",
    "rsna_domain_client.pb_requests.all()"
   ]
  },
  {
   "cell_type": "code",
   "execution_count": null,
   "id": "1d16cb41",
   "metadata": {},
   "outputs": [],
   "source": [
    "# So, we can see that out last request to increase privacy budget was denied."
   ]
  },
  {
   "cell_type": "code",
   "execution_count": 4,
   "id": "2b2b8e68",
   "metadata": {},
   "outputs": [
    {
     "name": "stdout",
     "output_type": "stream",
     "text": [
      "Approximate Budget Remaining: \u001b[1m45.78\u001b[0m\n"
     ]
    }
   ],
   "source": [
    "# If we check the privacy budget, then there should be no change.\n",
    "ca.privacy_budget"
   ]
  },
  {
   "cell_type": "code",
   "execution_count": null,
   "id": "0247d354",
   "metadata": {},
   "outputs": [],
   "source": []
  },
  {
   "cell_type": "markdown",
   "id": "7783897c",
   "metadata": {},
   "source": [
    "#### Dummy Data"
   ]
  },
  {
   "cell_type": "code",
   "execution_count": 1,
   "id": "7d728845",
   "metadata": {},
   "outputs": [],
   "source": [
    "from enum import Enum\n",
    "\n",
    "class bcolors(Enum):\n",
    "    HEADER = \"\\033[95m\"\n",
    "    OKBLUE = \"\\033[94m\"\n",
    "    OKCYAN = \"\\033[96m\"\n",
    "    OKGREEN = \"\\033[92m\"\n",
    "    WARNING = \"\\033[93m\"\n",
    "    FAIL = \"\\033[91m\"\n",
    "    ENDC = \"\\033[0m\"\n",
    "    BOLD = \"\\033[1m\"\n",
    "    UNDERLINE = \"\\033[4m\""
   ]
  },
  {
   "cell_type": "code",
   "execution_count": 1,
   "id": "877becf8",
   "metadata": {},
   "outputs": [],
   "source": [
    "import pandas as pd\n",
    "from enum import Enum\n",
    "import uuid\n",
    "import torch\n",
    "import datetime\n",
    "import json\n",
    "import numpy as np\n",
    "\n",
    "\n",
    "class bcolors(Enum):\n",
    "    HEADER = \"\\033[95m\"\n",
    "    OKBLUE = \"\\033[94m\"\n",
    "    OKCYAN = \"\\033[96m\"\n",
    "    OKGREEN = \"\\033[92m\"\n",
    "    WARNING = \"\\033[93m\"\n",
    "    FAIL = \"\\033[91m\"\n",
    "    ENDC = \"\\033[0m\"\n",
    "    BOLD = \"\\033[1m\"\n",
    "    UNDERLINE = \"\\033[4m\"\n",
    "    \n",
    "all_datasets = [\n",
    "    {\n",
    "        \"Id\": uuid.uuid4().hex,\n",
    "        \"Name\": \"Diabetes Dataset\",\n",
    "        \"Tags\": [\"Health\", \"Classification\", \"Dicom\"],\n",
    "        \"Assets\": '''[\"Images\"] -> Tensor; [\"Labels\"] -> Tensor''',\n",
    "        \"Description\": \"A large set of high-resolution retina images\",\n",
    "        \"Domain\": \"California Healthcare Foundation\",\n",
    "        \"Network\": \"WHO\",\n",
    "        \"Usage\": 102,\n",
    "        \"Added On\": datetime.datetime.now().replace(month=1).strftime(\"%b %d %Y\")\n",
    "    },\n",
    "    {\n",
    "        \"Id\": uuid.uuid4().hex,\n",
    "        \"Name\": \"Canada Commodities Dataset\",\n",
    "        \"Tags\": [\"Commodities\", \"Canada\", \"Trade\"],\n",
    "        \"Assets\": '''[\"ca-feb2021\"] -> DataFrame''',\n",
    "        \"Description\": \"Commodity Trade Dataset\",\n",
    "        \"Domain\": \"Canada Domain\",\n",
    "        \"Network\": \"United Nations\",\n",
    "        \"Usage\": 40,\n",
    "        \"Added On\": datetime.datetime.now().replace(month=3, day=11).strftime(\"%b %d %Y\")\n",
    "    },\n",
    "    {\n",
    "        \"Id\": uuid.uuid4().hex,\n",
    "        \"Name\": \"Italy Commodities Dataset\",\n",
    "        \"Tags\": [\"Commodities\", \"Italy\", \"Trade\"],\n",
    "        \"Assets\": '''[\"it-feb2021\"] -> DataFrame''',\n",
    "        \"Description\": \"Commodity Trade Dataset\",\n",
    "        \"Domain\": \"Italy Domain\",\n",
    "        \"Network\": \"United Nations\",\n",
    "        \"Usage\": 23,\n",
    "        \"Added On\": datetime.datetime.now().replace(month=3).strftime(\"%b %d %Y\")\n",
    "    },\n",
    "    {\n",
    "        \"Id\": uuid.uuid4().hex,\n",
    "        \"Name\": \"Netherlands Commodities Dataset\",\n",
    "        \"Tags\": [\"Commodities\", \"Netherlands\", \"Trade\"],\n",
    "        \"Assets\": '''[\"ne-feb2021\"] -> DataFrame''',\n",
    "        \"Description\": \"Commodity Trade Dataset\",\n",
    "        \"Domain\": \"Netherland Domain\",\n",
    "        \"Network\": \"United Nations\",\n",
    "        \"Usage\": 20,\n",
    "        \"Added On\": datetime.datetime.now().replace(month=4, day=12).strftime(\"%b %d %Y\")\n",
    "    },\n",
    "    {\n",
    "        \"Id\": uuid.uuid4().hex,\n",
    "        \"Name\": \"Pnuemonia Dataset\",\n",
    "        \"Tags\": [\"Health\", \"Pneumonia\", \"X-Ray\"],\n",
    "        \"Assets\": '''[\"X-Ray-Images\"] -> Tensor;  [\"labels\"] -> Tensor''',\n",
    "        \"Description\": \"Chest X-Ray images. All provided images are in DICOM format.\",\n",
    "        \"Domain\": \"RSNA\",\n",
    "        \"Network\": \"WHO\",\n",
    "        \"Usage\": 334,\n",
    "        \"Added On\": datetime.datetime.now().replace(month=1).strftime(\"%b %d %Y\")\n",
    "    },\n",
    "]\n",
    "\n",
    "\n",
    "all_datasets_df = pd.DataFrame(all_datasets)"
   ]
  },
  {
   "cell_type": "code",
   "execution_count": 2,
   "id": "56ff1f29",
   "metadata": {},
   "outputs": [],
   "source": [
    "# Print available networks\n",
    "\n",
    "available_networks = [\n",
    "    {\n",
    "        \"Id\": f\"{uuid.uuid4().hex}\",\n",
    "        \"Name\": \"United Nations\",\n",
    "        \"Hosted Domains\": 4,\n",
    "        \"Hosted Datasets\": 6,\n",
    "        \"Description\": \"The UN hosts data related to the commodity and Census data.\",\n",
    "        \"Tags\": [\"Commodities\", \"Census\", \"Health\"],\n",
    "        \"Url\": \"https://un.openmined.org\",\n",
    "    },\n",
    "    {\n",
    "        \"Id\": f\"{uuid.uuid4().hex}\",\n",
    "        \"Name\": \"World Health Organisation\",\n",
    "        \"Hosted Domains\": 3,\n",
    "        \"Hosted Datasets\": 5,\n",
    "        \"Description\": \"WHO hosts data related to health sector of different parts of the worlds.\",\n",
    "        \"Tags\": [\"Virology\", \"Cancer\", \"Health\"],\n",
    "        \"Url\": \"https://who.openmined.org\",\n",
    "    },\n",
    "    {\n",
    "        \"Id\": f\"{uuid.uuid4().hex}\",\n",
    "        \"Name\": \"International Space Station\",\n",
    "        \"Hosted Domains\": 2,\n",
    "        \"Hosted Datasets\": 4,\n",
    "        \"Description\": \"ISS hosts data related to the topography of different exoplanets.\",\n",
    "        \"Tags\": [\"Exoplanets\", \"Extra-Terrestrial\"],\n",
    "        \"Url\": \"https://iss.openmined.org\",\n",
    "    },\n",
    "]\n",
    "networks_df = pd.DataFrame(available_networks)"
   ]
  },
  {
   "cell_type": "code",
   "execution_count": 3,
   "id": "e362bb0a",
   "metadata": {},
   "outputs": [
    {
     "name": "stdout",
     "output_type": "stream",
     "text": [
      "\n",
      "Name: Pnuemonia Detection and Locationzation Dataset\n",
      "Description: Chest X-Ray images. All provided images are in DICOM format.\n",
      "\n",
      "\n",
      "    \u001b[91mPermissionDenied:\u001b[0m\n",
      "        You don't have authorization to perform the `.get` operation.\n",
      "        You need to either `request` the results or `publish` the results.\n",
      "\n"
     ]
    }
   ],
   "source": [
    "who_domains = [\n",
    "    {\n",
    "        \"Id\": f\"{uuid.uuid4().hex}\",\n",
    "        \"Name\": \"California Healthcare Foundation\",\n",
    "        \"Hosted Datasets\": 1,\n",
    "        \"Description\": \"Health care systems\",\n",
    "        \"Tags\": [\"Clinical Data\", \"Healthcare\"],\n",
    "    },\n",
    "    {\n",
    "        \"Id\": f\"{uuid.uuid4().hex}\",\n",
    "        \"Name\": \"RSNA\",\n",
    "        \"Hosted Datasets\": 1,\n",
    "        \"Description\": \"Radiological Image Datasets\",\n",
    "        \"Tags\": [\"Dicom\", \"Radiology\", \"Health\"],\n",
    "    },\n",
    "]\n",
    "who_domains_df = pd.DataFrame(who_domains)\n",
    "\n",
    "pneumonia_dataset = [\n",
    "    {\n",
    "        \"Asset Key\": \"[X-Ray-Images]\",\n",
    "        \"Type\": \"Tensor\",\n",
    "        \"Shape\": \"(40000, 7)\"\n",
    "    },\n",
    "    {\n",
    "        \"Asset Key\": '[labels]',\n",
    "        \"Type\": \"Tensor\",\n",
    "        \"Shape\": \"(40000, 5)\"\n",
    "    },\n",
    "]\n",
    "print(\"\"\"\n",
    "Name: Pnuemonia Detection and Locationzation Dataset\n",
    "Description: Chest X-Ray images. All provided images are in DICOM format.\n",
    "\"\"\")\n",
    "pneumonia_dataset_df = pd.DataFrame(pneumonia_dataset)\n",
    "\n",
    "labels_data = np.random.randint(0, 2, size=(40000, 5))[:, 0]\n",
    "label_tensors = torch.Tensor(labels_data)\n",
    "\n",
    "\n",
    "authorization_error = f\"\"\"\n",
    "    {bcolors.FAIL.value}PermissionDenied:{bcolors.ENDC.value}\n",
    "        You don't have authorization to perform the `.get` operation.\n",
    "        You need to either `request` the results or `publish` the results.\n",
    "\"\"\"\n",
    "\n",
    "print(authorization_error)"
   ]
  },
  {
   "cell_type": "code",
   "execution_count": 4,
   "id": "13b2babe",
   "metadata": {},
   "outputs": [],
   "source": [
    "processing_results = \"Processing......\\nDone !!!\"\n",
    "not_a_private_tensor = f\"\"\"\n",
    "{bcolors.FAIL.value}PrivateTensorDoesNotExists:{bcolors.ENDC.value}\n",
    "    The resource is not a private tensor. You cannot perform the {bcolors.WARNING.value}`publish`{bcolors.ENDC.value} operation.\n",
    "    You need to perform the `request` operation to access the results.\n",
    "\"\"\"\n",
    "\n",
    "#print(not_a_private_tensor)"
   ]
  },
  {
   "cell_type": "code",
   "execution_count": 5,
   "id": "8b1ffa2b",
   "metadata": {},
   "outputs": [],
   "source": [
    "request_budget_id = uuid.uuid4().hex\n",
    "privacy_budget = f\"Approximate Budget: {bcolors.BOLD.value}45.78{bcolors.ENDC.value}\"\n",
    "request_budget = f\"\"\"\n",
    "    Your request for private budget has been successfully submitted. \n",
    "    Your request id is: {bcolors.BOLD.value}{request_budget_id}{bcolors.ENDC.value}.\n",
    "\"\"\"\n",
    "#print(request_budget)"
   ]
  },
  {
   "cell_type": "code",
   "execution_count": 6,
   "id": "73c2d0c2",
   "metadata": {},
   "outputs": [],
   "source": [
    "budget_request = [\n",
    "    {\n",
    "        \"Request Id\": request_budget_id,\n",
    "        \"Request Date\": datetime.datetime.now().strftime(\"%b %d %Y %I:%M%p\"),\n",
    "        \"Reason\": \"Need more budget since I need to train a model.\",\n",
    "        \"Current Budget\": \"2ε\",\n",
    "        \"Requested Budget\": \"10ε\",\n",
    "        \"State\": \"Pending\",\n",
    "    },\n",
    "    {\n",
    "        \"Request Id\": uuid.uuid4().hex,\n",
    "        \"Request Date\": datetime.datetime.now().replace(day=11).strftime(\"%b %d %Y %I:%M%p\"),\n",
    "        \"Reason\": \"Need more budget. Drained out of budget.\",\n",
    "        \"Current Budget\": \"0.5ε\",\n",
    "        \"Requested Budget\": \"2ε\",\n",
    "        \"State\": \"Approved\",\n",
    "    },\n",
    "]\n",
    "\n",
    "budget_request_df = pd.DataFrame(budget_request)\n"
   ]
  },
  {
   "cell_type": "code",
   "execution_count": 7,
   "id": "dfaba750",
   "metadata": {},
   "outputs": [],
   "source": [
    "denied_budget_request_df = budget_request_df.copy()\n",
    "denied_budget_request_df[\"State\"][0] = \"Denied\""
   ]
  },
  {
   "cell_type": "code",
   "execution_count": 2,
   "id": "fdb6a5fd",
   "metadata": {},
   "outputs": [],
   "source": [
    "updated_privacy_budget = f\"Approximate Budget Remaining: {bcolors.BOLD.value}45.78{bcolors.ENDC.value}\""
   ]
  },
  {
   "cell_type": "code",
   "execution_count": null,
   "id": "e854da57",
   "metadata": {},
   "outputs": [],
   "source": []
  }
 ],
 "metadata": {
  "kernelspec": {
   "display_name": "Python 3 (ipykernel)",
   "language": "python",
   "name": "python3"
  },
  "language_info": {
   "codemirror_mode": {
    "name": "ipython",
    "version": 3
   },
   "file_extension": ".py",
   "mimetype": "text/x-python",
   "name": "python",
   "nbconvert_exporter": "python",
   "pygments_lexer": "ipython3",
   "version": "3.9.6"
  }
 },
 "nbformat": 4,
 "nbformat_minor": 5
}

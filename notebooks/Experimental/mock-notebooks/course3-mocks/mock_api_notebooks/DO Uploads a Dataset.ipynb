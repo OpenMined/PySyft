{
 "cells": [
  {
   "cell_type": "markdown",
   "id": "62e2337c",
   "metadata": {},
   "source": [
    "#### Data Owner uploads the dataset on the domain\n",
    "\n",
    "- The user log into the domian\n",
    "- The user loads the dataset to be uploaded into memory\n",
    "- The user converts the data to tensors\n",
    "- The user converts the tensors to private tensors via the DP wizard\n",
    "- The user creates metadata (This is a dict containing any additional information to be shared.)\n",
    "- User uploads the dataset:\n",
    "    - assets: dict of private tensors to be uploaded to the domain\n",
    "    - description: description of the dataset\n",
    "    - name: name of the dataset\n",
    "    - metadata: a dictionary containing any additional public information to be shared"
   ]
  },
  {
   "cell_type": "code",
   "execution_count": null,
   "id": "6c0bc1c7",
   "metadata": {},
   "outputs": [],
   "source": [
    "import syft as sy"
   ]
  },
  {
   "cell_type": "code",
   "execution_count": null,
   "id": "ae6ec0cd",
   "metadata": {},
   "outputs": [],
   "source": [
    "# Let's login into the domain\n",
    "\n",
    "usa_domain = sy.login(\n",
    "    url=\"https://usa.openmined.org\",\n",
    "    email=\"wadewilson@canada.com\",\n",
    "    password=\"supersecretpassword\",\n",
    ")"
   ]
  },
  {
   "cell_type": "code",
   "execution_count": 15,
   "id": "b0ad1180",
   "metadata": {},
   "outputs": [],
   "source": [
    "# Let's load the dataset into memory\n",
    "\n",
    "import os\n",
    "import pydicom\n",
    "import pandas as pd\n",
    "\n",
    "\n",
    "label_mapping = {\n",
    "    \"Pneumothorax\": 1,\n",
    "    \"No Pneumothorax\": 0,\n",
    "}\n",
    "\n",
    "data = pd.read_csv(\"data/siim_small/labels.csv\")\n",
    "\n",
    "\n",
    "image_data = []\n",
    "label_data = []\n",
    "\n",
    "ROOT_PATH = \"/home/user/Documents/myfolder/pysyft/PySyft/notebooks/course3/data/siim_small/\"\n",
    "for idx in range(data.shape[0]):\n",
    "    img_path = data[\"file\"][idx]\n",
    "    label = data[\"label\"][idx]\n",
    "    label = label_mapping.get(label)\n",
    "    img_path = os.path.join(ROOT_PATH, img_path)\n",
    "    img = pydicom.dcmread(img_path)\n",
    "    image_data.append(im.pixel_array).astype(np.int32)\n",
    "    label_data.append(label)\n",
    "    \n",
    "# Let's convert the numpy array to tensors\n",
    "image_tensors = sy.Tensor(image_data)\n",
    "label_tensors = sy.Tensor(label_data)"
   ]
  },
  {
   "cell_type": "code",
   "execution_count": null,
   "id": "b02cc298",
   "metadata": {},
   "outputs": [],
   "source": [
    "# Let's make the data private\n",
    "image_tensors = image_tensors.annotate_with_dp_metadata(lower_bound=0, upper_bound=256)\n",
    "label_tensors = label_tensors.annotate_with_dp_metadata(lower_bound=0, upper_bound=1)"
   ]
  },
  {
   "cell_type": "markdown",
   "id": "66fe7aa9",
   "metadata": {},
   "source": [
    "ALERT: You didn't pass in any entities. Launching entity wizard...\n",
    "\n",
    "\t=====================================================================\n",
    "\tWelcome to the Data Subject Annotation Wizard!!!\n",
    "\t=====================================================================\n",
    "\n",
    "\tYou've arrived here because you called Tensor.annotate_with_dp_metadata() without\n",
    "\tpassing in any entities! Since the purpose of .annotate_with_dp_metadata() is to add\n",
    "\tmetadata for the support of automatic differential privacy budgeting,\n",
    "\tyou need to describe which parts of your Tensor correspond to which\n",
    "\treal-world data subjects (entities) whose privacy you want to\n",
    "\tprotect. This is the only way the system knows, for example, that it\n",
    "\tcosts twice as much privacy budget when twice as much of your data\n",
    "\t(say, 2 rows instead of 1 row) refer to the same entity.\n",
    "\n",
    "\tEntities can be people (such as a medical patient), places (such as a\n",
    "\tfamily's address), or even organizations (such as a business, state,\n",
    "\tor country). If you're not sure what kind of entity to include, just\n",
    "\task yourself the question, \"who am I trying to protect the privacy\n",
    "\tof?\". If it's an organization, make one entity per organization. If\n",
    "\tit's people, make one entity per person. If it's a group of people\n",
    "\twho are somehow similar/linked to each other (such as a family), make\n",
    "\teach entity a different group. For more information on differential\n",
    "\tprivacy, see OpenMined's course on the subject:\n",
    "\thttps://courses.openmined.org/\n",
    "\n",
    "\tSince you didn't pass in entities into .annotate_with_dp_metadata() (or you did so\n",
    "\tincorrectly), this wizard is going to guide you through the process\n",
    "\tof annotating your data with entities.\n",
    "\n",
    "\tIn this wizard, we're going to ask you for *unique identifiers* which\n",
    "\trefer to the entities in your data. While the unique identifiers need\n",
    "\tnot be personal data (they can be random strings of letters and\n",
    "\tnumbers if you like). It is ESSENTIAL that you use the same\n",
    "\tidentifier when referring to the same entity in the data that you\n",
    "\tnever accidentally refer to two entities by the same identifier.\n",
    "\tAdditionally, if you plan to do any kind of data JOIN with another\n",
    "\tdataset, it is ESSENTIAL that you are using the same unique\n",
    "\tidentifiers for entities as the data you're joining with. Since these\n",
    "\tunique identifiers may be personal information, PySyft might not be\n",
    "\table to detect if two tensors are using different identifiers for the\n",
    "\tsame person.\n",
    "\n",
    "\tSo, in this tutorial we're going to be asking you to specify Unique\n",
    "\tIdentifiers (UIDs) for each entity in your data. This could be an\n",
    "\temail, street address, or any other string that identifies someone\n",
    "\tuniquely in your data and in the data you intend to use with your\n",
    "\tdata (if any).\n",
    "\n",
    "\tDo you understand, and are you ready to proceed? (yes/no)\n",
    "\n",
    "\t yes\n",
    "\n",
    "\n",
    "\tExcellent! Let's begin!\n",
    "\n",
    "\t---------------------------------------------------------------------\n",
    "\n",
    "\tQuestion 1: Is this entire tensor referring to the same entity?\n",
    "\n",
    "\tExamples:\n",
    "\t - a single medical scan of one patient\n",
    "\t - a single spreadsheet of proprietary statistics about a business\n",
    "\t - a tensor of facts about a country\n",
    "\n",
    "\t(if the tensor is about one entity, but it also contains multiple\n",
    "\tother entities within, such as a tensor about all the customers of\n",
    "\tone business, ask yourself, are you trying to protect the people or\n",
    "\tthe business)\n",
    "\n",
    "\tIf yes, write the UID of the entity this data is about, otherwise\n",
    "\twrite 'no'  because this data is about more than one entity.\n",
    "\n",
    "\t no\n",
    "\n",
    "\n",
    "\t---------------------------------------------------------------------\n",
    "\n",
    "\tQuestion 2: Does each row correspond to an entity, perhaps with\n",
    "\toccasional repeats (yes/no)?\n",
    "\n",
    "\t no\n",
    "\n",
    "\n",
    "\t---------------------------------------------------------------------\n",
    "\n",
    "\tQuestion 3: Is your data one entity for every column (yes/no)?\n",
    "\n",
    "\t no\n",
    "\n",
    "\n",
    "\tIt sounds like your tensor is a random assortment of entities (and\n",
    "\tperhaps empty/non-entities). If you have empty values, just create\n",
    "\trandom entities for them for now. If you have various entities\n",
    "\tscattered throughout your tensor (not organized by row), then you'll\n",
    "\tneed to pass in a np.ndarray of strings which is identically shaped\n",
    "\tto your data in entities like so:\n",
    "\n",
    "\n",
    "\t_____________________________________________________________________"
   ]
  },
  {
   "cell_type": "code",
   "execution_count": null,
   "id": "29b5d09d",
   "metadata": {},
   "outputs": [],
   "source": [
    "# Let's create the metadata required \n",
    "metadata = {\n",
    "    \"label_mapping\": label_mapping,\n",
    "}"
   ]
  },
  {
   "cell_type": "code",
   "execution_count": 32,
   "id": "14d87a4f",
   "metadata": {},
   "outputs": [
    {
     "name": "stdout",
     "output_type": "stream",
     "text": [
      "\n",
      "Loading dataset... checking asset types...                                                                                                                                    \n",
      "\n",
      "WARNING - Non-DP Asset: You just passed in a asset 'More Trade' which cannot be tracked with differential privacy because it is a <class 'pandas.core.frame.DataFrame'> object.\n",
      "\n",
      "This means you'll need to manually approve any requests which leverage this data. If this is ok with you, proceed. If you'd like to use automatic differential privacy budgeting, please pass in a DP-compatible tensor type such as by calling annotate_with_dp_metadata() on a sy.Tensor with a np.int32 or np.float32 inside.\n",
      "\n",
      "Are you sure you want to proceed? (y/n) y\n",
      "\n",
      "Loading dataset... uploading... SUCCESS!                        \n",
      "\n",
      "Run <your client variable>.datasets to see your new dataset loaded into your machine!\n",
      "\n",
      "\n"
     ]
    }
   ],
   "source": [
    "# Let's load the dataset onto the domain\n",
    "\n",
    "ca.load_dataset(\n",
    "    assets={\"imageData\": image_tensors, \"labels\": label_tensors},\n",
    "    name=\"SIIM-ACR Pneumothorax Segmentation\",\n",
    "    description=\"Pneumothorax is usually diagnosed by a radiologist on a chest x-ray, and can sometimes be very difficult to confirm. An accurate AI algorithm to detect pneumothorax would be useful in a lot of clinical scenarios.\",\n",
    "    metadata=metadata,\n",
    ")"
   ]
  },
  {
   "cell_type": "code",
   "execution_count": null,
   "id": "2be72680",
   "metadata": {},
   "outputs": [],
   "source": []
  },
  {
   "cell_type": "code",
   "execution_count": null,
   "id": "999b5016",
   "metadata": {},
   "outputs": [],
   "source": []
  },
  {
   "cell_type": "markdown",
   "id": "176bb8de",
   "metadata": {
    "heading_collapsed": true
   },
   "source": [
    "#### Dummy Date"
   ]
  },
  {
   "cell_type": "code",
   "execution_count": 2,
   "id": "89cf19a2",
   "metadata": {
    "hidden": true
   },
   "outputs": [],
   "source": [
    "import pandas as pd\n",
    "from enum import Enum\n",
    "import uuid\n",
    "import torch\n",
    "import datetime\n",
    "import json\n",
    "import numpy as np\n",
    "\n",
    "\n",
    "class bcolors(Enum):\n",
    "    HEADER = \"\\033[95m\"\n",
    "    OKBLUE = \"\\033[94m\"\n",
    "    OKCYAN = \"\\033[96m\"\n",
    "    OKGREEN = \"\\033[92m\"\n",
    "    WARNING = \"\\033[93m\"\n",
    "    FAIL = \"\\033[91m\"\n",
    "    ENDC = \"\\033[0m\"\n",
    "    BOLD = \"\\033[1m\"\n",
    "    UNDERLINE = \"\\033[4m\""
   ]
  },
  {
   "cell_type": "code",
   "execution_count": 4,
   "id": "107b6c9a",
   "metadata": {
    "hidden": true
   },
   "outputs": [],
   "source": [
    "logintodomain = \"\"\"\n",
    "    Connecting to http://ca.openmined.org... done! \t Logging into Canada... done!\n",
    "\"\"\""
   ]
  },
  {
   "cell_type": "code",
   "execution_count": 31,
   "id": "239eb1ae",
   "metadata": {
    "hidden": true
   },
   "outputs": [],
   "source": [
    "loading_data = \"\"\"\n",
    "Loading dataset... checking asset types...                                                                                                                                    \n",
    "\n",
    "WARNING - Non-DP Asset: You just passed in a asset 'More Trade' which cannot be tracked with differential privacy because it is a <class 'pandas.core.frame.DataFrame'> object.\n",
    "\n",
    "This means you'll need to manually approve any requests which leverage this data. If this is ok with you, proceed. If you'd like to use automatic differential privacy budgeting, please pass in a DP-compatible tensor type such as by calling .annotate_with_dp_metadata() on a sy.Tensor with a np.int32 or np.float32 inside.\n",
    "\n",
    "Are you sure you want to proceed? (y/n) y\n",
    "\n",
    "Loading dataset... uploading... SUCCESS!                        \n",
    "\n",
    "Run <your client variable>.datasets to see your new dataset loaded into your machine!\n",
    "\n",
    "\"\"\""
   ]
  },
  {
   "cell_type": "code",
   "execution_count": null,
   "id": "37f3c393",
   "metadata": {
    "hidden": true
   },
   "outputs": [],
   "source": []
  }
 ],
 "metadata": {
  "kernelspec": {
   "display_name": "Python 3.10.6 64-bit",
   "language": "python",
   "name": "python3"
  },
  "language_info": {
   "codemirror_mode": {
    "name": "ipython",
    "version": 3
   },
   "file_extension": ".py",
   "mimetype": "text/x-python",
   "name": "python",
   "nbconvert_exporter": "python",
   "pygments_lexer": "ipython3",
   "version": "3.10.6"
  },
  "vscode": {
   "interpreter": {
    "hash": "e7370f93d1d0cde622a1f8e1c04877d8463912d04d973331ad4851f04de6915a"
   }
  }
 },
 "nbformat": 4,
 "nbformat_minor": 5
}

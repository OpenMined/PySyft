{
 "cells": [
  {
   "cell_type": "markdown",
   "id": "783bea85",
   "metadata": {},
   "source": [
    "#### Data Owner selects a dataset from their domain\n",
    "\n",
    "A Data Owner has almost the same view as the Data Scientist, when searching and viewing the datasets on a domain.\n",
    "Although, for a Data Scientist, the properties and values are read-only for any given dataset. While a Data\n",
    "Owner also has write permissions to the datasets that belong to their domain. There a Data Owner can:\n",
    "\n",
    "- Search through datasets on their domain **[P0]**\n",
    "- Select any dataset via `Id` or `index` **[P0]**\n",
    "- Delete any dataset **[P0]**\n",
    "- See meta-information related to the dataset **[P0]**\n",
    "- Update the properties of any dataset **[P1]**\n",
    "- Update meta-information of the dataset **[P1]**"
   ]
  },
  {
   "cell_type": "code",
   "execution_count": null,
   "id": "d714e34e",
   "metadata": {},
   "outputs": [],
   "source": [
    "import syft as sy"
   ]
  },
  {
   "cell_type": "code",
   "execution_count": null,
   "id": "d3282541",
   "metadata": {},
   "outputs": [],
   "source": [
    "# Let's login into the canada domain\n",
    "ca_domain = sy.login(email=\"info@openmined.org\", password=\"changethis\", port=8081)"
   ]
  },
  {
   "cell_type": "code",
   "execution_count": 8,
   "id": "87851089",
   "metadata": {},
   "outputs": [
    {
     "data": {
      "text/html": [
       "<div>\n",
       "<style scoped>\n",
       "    .dataframe tbody tr th:only-of-type {\n",
       "        vertical-align: middle;\n",
       "    }\n",
       "\n",
       "    .dataframe tbody tr th {\n",
       "        vertical-align: top;\n",
       "    }\n",
       "\n",
       "    .dataframe thead th {\n",
       "        text-align: right;\n",
       "    }\n",
       "</style>\n",
       "<table border=\"1\" class=\"dataframe\">\n",
       "  <thead>\n",
       "    <tr style=\"text-align: right;\">\n",
       "      <th></th>\n",
       "      <th>Id</th>\n",
       "      <th>Name</th>\n",
       "      <th>Tags</th>\n",
       "      <th>Assets</th>\n",
       "      <th>Description</th>\n",
       "      <th>Domain</th>\n",
       "      <th>Network</th>\n",
       "      <th>Usage</th>\n",
       "      <th>Added On</th>\n",
       "    </tr>\n",
       "  </thead>\n",
       "  <tbody>\n",
       "    <tr>\n",
       "      <th>0</th>\n",
       "      <td>078a61a4a01b4741899263241e603de0</td>\n",
       "      <td>Canada Crop Index Dataset</td>\n",
       "      <td>[Agriculture, Agri-Food Canada]</td>\n",
       "      <td>[\"crop-index-2021\"] -&gt; DataFrame</td>\n",
       "      <td>Crop index dataset indicating relative yield i...</td>\n",
       "      <td>Canada Domain</td>\n",
       "      <td>United Nations</td>\n",
       "      <td>130</td>\n",
       "      <td>Mar 11 2021</td>\n",
       "    </tr>\n",
       "    <tr>\n",
       "      <th>1</th>\n",
       "      <td>e6c42588dbf044cf882faa4ad6098af3</td>\n",
       "      <td>Canada Commodities Dataset</td>\n",
       "      <td>[Commodities, Canada, Trade]</td>\n",
       "      <td>[\"ca-feb2021\"] -&gt; DataFrame</td>\n",
       "      <td>Commodity Trade Dataset</td>\n",
       "      <td>Canada Domain</td>\n",
       "      <td>United Nations</td>\n",
       "      <td>340</td>\n",
       "      <td>Mar 11 2021</td>\n",
       "    </tr>\n",
       "    <tr>\n",
       "      <th>2</th>\n",
       "      <td>d1c1b81270c34912b565615150e65132</td>\n",
       "      <td>Forest Fire Image Dataset</td>\n",
       "      <td>[Forest, Widfire, Climate]</td>\n",
       "      <td>[\"forest-fire\"] -&gt; Tensor</td>\n",
       "      <td>Images of forest fire</td>\n",
       "      <td>Canada Domain</td>\n",
       "      <td>United Nations</td>\n",
       "      <td>440</td>\n",
       "      <td>Mar 11 2021</td>\n",
       "    </tr>\n",
       "  </tbody>\n",
       "</table>\n",
       "</div>"
      ],
      "text/plain": [
       "                                 Id                        Name  \\\n",
       "0  078a61a4a01b4741899263241e603de0   Canada Crop Index Dataset   \n",
       "1  e6c42588dbf044cf882faa4ad6098af3  Canada Commodities Dataset   \n",
       "2  d1c1b81270c34912b565615150e65132   Forest Fire Image Dataset   \n",
       "\n",
       "                              Tags                            Assets  \\\n",
       "0  [Agriculture, Agri-Food Canada]  [\"crop-index-2021\"] -> DataFrame   \n",
       "1     [Commodities, Canada, Trade]       [\"ca-feb2021\"] -> DataFrame   \n",
       "2       [Forest, Widfire, Climate]         [\"forest-fire\"] -> Tensor   \n",
       "\n",
       "                                         Description         Domain  \\\n",
       "0  Crop index dataset indicating relative yield i...  Canada Domain   \n",
       "1                            Commodity Trade Dataset  Canada Domain   \n",
       "2                              Images of forest fire  Canada Domain   \n",
       "\n",
       "          Network  Usage     Added On  \n",
       "0  United Nations    130  Mar 11 2021  \n",
       "1  United Nations    340  Mar 11 2021  \n",
       "2  United Nations    440  Mar 11 2021  "
      ]
     },
     "execution_count": 8,
     "metadata": {},
     "output_type": "execute_result"
    }
   ],
   "source": [
    "# Let's list all the datasets on the Canada domain\n",
    "ca_domain.datasets"
   ]
  },
  {
   "cell_type": "code",
   "execution_count": 11,
   "id": "368547b0",
   "metadata": {},
   "outputs": [
    {
     "name": "stdout",
     "output_type": "stream",
     "text": [
      "\n",
      "Name: Canada Commodities Dataset\n",
      "Description: Commodity Trade Dataset\n",
      "\n"
     ]
    },
    {
     "data": {
      "text/html": [
       "<div>\n",
       "<style scoped>\n",
       "    .dataframe tbody tr th:only-of-type {\n",
       "        vertical-align: middle;\n",
       "    }\n",
       "\n",
       "    .dataframe tbody tr th {\n",
       "        vertical-align: top;\n",
       "    }\n",
       "\n",
       "    .dataframe thead th {\n",
       "        text-align: right;\n",
       "    }\n",
       "</style>\n",
       "<table border=\"1\" class=\"dataframe\">\n",
       "  <thead>\n",
       "    <tr style=\"text-align: right;\">\n",
       "      <th></th>\n",
       "      <th>Asset Key</th>\n",
       "      <th>Type</th>\n",
       "      <th>Shape</th>\n",
       "    </tr>\n",
       "  </thead>\n",
       "  <tbody>\n",
       "    <tr>\n",
       "      <th>0</th>\n",
       "      <td>[\"ca-feb2021\"]</td>\n",
       "      <td>DataFrame</td>\n",
       "      <td>(40000, 7)</td>\n",
       "    </tr>\n",
       "  </tbody>\n",
       "</table>\n",
       "</div>"
      ],
      "text/plain": [
       "        Asset Key       Type       Shape\n",
       "0  [\"ca-feb2021\"]  DataFrame  (40000, 7)"
      ]
     },
     "execution_count": 11,
     "metadata": {},
     "output_type": "execute_result"
    }
   ],
   "source": [
    "# Let's select the commodity data via `index` or `Id`\n",
    "commodity_dataset = ca_domain.datasets[1]\n",
    "\n",
    "# Or\n",
    "commodity_dataset = ca_domain.datasets[\"e6c42588dbf044cf882faa4ad6098af3\"]\n",
    "\n",
    "# Or via Name\n",
    "commodity_dataset = ca_domain.datasets[\"Canada Crop Index Dataset\"]\n",
    "\n",
    "commodity_dataset"
   ]
  },
  {
   "cell_type": "code",
   "execution_count": 8,
   "id": "6cb6e8b9",
   "metadata": {},
   "outputs": [
    {
     "name": "stdout",
     "output_type": "stream",
     "text": [
      "\n",
      "    \u001b[91mMutipleDatasetsReturned\u001b[0m:\n",
      "        There are more than one datasets with the `Name`: `Crop-Index Dataset`.\n",
      "        Please select the dataset using `Id` or `index` of the dataset.\n",
      "\n"
     ]
    }
   ],
   "source": [
    "# If using selection a dataset via `Name`, the `Name` is not unique, then raise a error\n",
    "\n",
    "# Let assume, there are two dataset with the Name `Canada Crop Index Dataset`\n",
    "commodity_dataset = ca_domain.datasets[\"Canada Crop Index Dataset\"]"
   ]
  },
  {
   "cell_type": "code",
   "execution_count": 12,
   "id": "33960cce",
   "metadata": {},
   "outputs": [
    {
     "name": "stdout",
     "output_type": "stream",
     "text": [
      "Details of the dataset\n",
      "Name: Canada Commodities Dataset\n",
      "Id: e6c42588dbf044cf882faa4ad6098af3\n",
      "Tags: ['Commodities', 'Canada', 'Trade']\n",
      "Description: Commodity Trade Dataset\n"
     ]
    }
   ],
   "source": [
    "# Let's print the properties of the dataset\n",
    "print(f\"Details of the dataset\")\n",
    "print(f\"Name: {ca_commodity_data.name}\")\n",
    "print(f\"Id: {ca_commodity_data.id}\")\n",
    "print(f\"Tags: {ca_commodity_data.tags}\")\n",
    "print(f\"Description: {ca_commodity_data.description}\")"
   ]
  },
  {
   "cell_type": "code",
   "execution_count": null,
   "id": "abf1088d",
   "metadata": {},
   "outputs": [],
   "source": [
    "# Let's select the asset\n",
    "comm_dataset_ptr = commodity_dataset[\"ca-feb-2021\"]"
   ]
  },
  {
   "cell_type": "code",
   "execution_count": 14,
   "id": "66b51b37",
   "metadata": {},
   "outputs": [
    {
     "name": "stdout",
     "output_type": "stream",
     "text": [
      "\n",
      "    \u001b[91mInvalidAssetKeyError\u001b[0m:\n",
      "        Asset with key `random-feb2021` does not exist.\n",
      "\n"
     ]
    }
   ],
   "source": [
    "# If we select an invalid asset\n",
    "comm_dataset_ptr = commodity_dataset[\"feb-2021\"]"
   ]
  },
  {
   "cell_type": "code",
   "execution_count": 6,
   "id": "83d60927",
   "metadata": {},
   "outputs": [
    {
     "data": {
      "text/html": [
       "<div>\n",
       "<style scoped>\n",
       "    .dataframe tbody tr th:only-of-type {\n",
       "        vertical-align: middle;\n",
       "    }\n",
       "\n",
       "    .dataframe tbody tr th {\n",
       "        vertical-align: top;\n",
       "    }\n",
       "\n",
       "    .dataframe thead th {\n",
       "        text-align: right;\n",
       "    }\n",
       "</style>\n",
       "<table border=\"1\" class=\"dataframe\">\n",
       "  <thead>\n",
       "    <tr style=\"text-align: right;\">\n",
       "      <th></th>\n",
       "      <th>name</th>\n",
       "      <th>type</th>\n",
       "    </tr>\n",
       "  </thead>\n",
       "  <tbody>\n",
       "    <tr>\n",
       "      <th>0</th>\n",
       "      <td>sample_data</td>\n",
       "      <td>DataFrame</td>\n",
       "    </tr>\n",
       "    <tr>\n",
       "      <th>1</th>\n",
       "      <td>partner_code_mapping</td>\n",
       "      <td>Dict</td>\n",
       "    </tr>\n",
       "    <tr>\n",
       "      <th>2</th>\n",
       "      <td>column_names</td>\n",
       "      <td>List</td>\n",
       "    </tr>\n",
       "  </tbody>\n",
       "</table>\n",
       "</div>"
      ],
      "text/plain": [
       "                   name       type\n",
       "0           sample_data  DataFrame\n",
       "1  partner_code_mapping       Dict\n",
       "2          column_names       List"
      ]
     },
     "execution_count": 6,
     "metadata": {},
     "output_type": "execute_result"
    }
   ],
   "source": [
    "# Let's check if there is any metadata related to the dataset\n",
    "comm_dataset_ptr.metadata"
   ]
  },
  {
   "cell_type": "code",
   "execution_count": null,
   "id": "9e49b849",
   "metadata": {},
   "outputs": [],
   "source": [
    "# Let's check one of the metadata\n",
    "sample_data = comm_dataset_ptr.metadata[\"sample_data\"]\n",
    "partner_code_mapping = comm_dataset_ptr.metadata[\"partner_code_mapping\"]"
   ]
  },
  {
   "cell_type": "code",
   "execution_count": 7,
   "id": "66c4b81e",
   "metadata": {},
   "outputs": [
    {
     "data": {
      "text/html": [
       "<div>\n",
       "<style scoped>\n",
       "    .dataframe tbody tr th:only-of-type {\n",
       "        vertical-align: middle;\n",
       "    }\n",
       "\n",
       "    .dataframe tbody tr th {\n",
       "        vertical-align: top;\n",
       "    }\n",
       "\n",
       "    .dataframe thead th {\n",
       "        text-align: right;\n",
       "    }\n",
       "</style>\n",
       "<table border=\"1\" class=\"dataframe\">\n",
       "  <thead>\n",
       "    <tr style=\"text-align: right;\">\n",
       "      <th></th>\n",
       "      <th>Trade Flow Code</th>\n",
       "      <th>Partner Code</th>\n",
       "      <th>Trade Value (US$)</th>\n",
       "    </tr>\n",
       "  </thead>\n",
       "  <tbody>\n",
       "    <tr>\n",
       "      <th>7191</th>\n",
       "      <td>1</td>\n",
       "      <td>752</td>\n",
       "      <td>20</td>\n",
       "    </tr>\n",
       "    <tr>\n",
       "      <th>5239</th>\n",
       "      <td>1</td>\n",
       "      <td>56</td>\n",
       "      <td>3571</td>\n",
       "    </tr>\n",
       "    <tr>\n",
       "      <th>1233</th>\n",
       "      <td>1</td>\n",
       "      <td>251</td>\n",
       "      <td>201246</td>\n",
       "    </tr>\n",
       "    <tr>\n",
       "      <th>17040</th>\n",
       "      <td>1</td>\n",
       "      <td>144</td>\n",
       "      <td>28139</td>\n",
       "    </tr>\n",
       "    <tr>\n",
       "      <th>37574</th>\n",
       "      <td>1</td>\n",
       "      <td>0</td>\n",
       "      <td>43080</td>\n",
       "    </tr>\n",
       "  </tbody>\n",
       "</table>\n",
       "</div>"
      ],
      "text/plain": [
       "       Trade Flow Code  Partner Code  Trade Value (US$)\n",
       "7191                 1           752                 20\n",
       "5239                 1            56               3571\n",
       "1233                 1           251             201246\n",
       "17040                1           144              28139\n",
       "37574                1             0              43080"
      ]
     },
     "execution_count": 7,
     "metadata": {},
     "output_type": "execute_result"
    }
   ],
   "source": [
    "sample_data"
   ]
  },
  {
   "cell_type": "code",
   "execution_count": 9,
   "id": "6c985638",
   "metadata": {},
   "outputs": [
    {
     "data": {
      "text/plain": [
       "{818: 'Egypt',\n",
       " 826: 'United Kingdom',\n",
       " 156: 'China',\n",
       " 440: 'Lithuania',\n",
       " 703: 'Slovakia'}"
      ]
     },
     "execution_count": 9,
     "metadata": {},
     "output_type": "execute_result"
    }
   ],
   "source": [
    "partner_code_mapping"
   ]
  },
  {
   "cell_type": "code",
   "execution_count": 15,
   "id": "e64beaf6",
   "metadata": {},
   "outputs": [
    {
     "name": "stdout",
     "output_type": "stream",
     "text": [
      "\n",
      "    \u001b[91mKeyError:\u001b[0m\n",
      "        Metadata with name `random-metadata-name` does not exist.\n",
      "\n"
     ]
    }
   ],
   "source": [
    "# If we access a data that is not present in the metadata\n",
    "comm_dataset_ptr.metadata[\"random-metadata-name\"]"
   ]
  },
  {
   "cell_type": "code",
   "execution_count": 9,
   "id": "4cab3321",
   "metadata": {},
   "outputs": [
    {
     "name": "stdout",
     "output_type": "stream",
     "text": [
      "\n",
      "        You are about to delete the `Forest Fire Image Dataset` ? 🚨\n",
      "        All information related to this dataset will be permanantely deleted.\n",
      "        Please enter Y/N to proceed:\n",
      "    \n",
      "`Forest Fire Image Dataset` was successfully deleted.\n"
     ]
    }
   ],
   "source": [
    "# Now,let's say if the user want to delete a dataset from the domain\n",
    "# The user needs to provide the Id to the dataset, that needs to be deleted.\n",
    "\n",
    "# Let's say we're deleting the forest fire dataset\n",
    "ca_domain.datasets.delete(id=\"d1c1b81270c34912b565615150e65132\")\n",
    "\n",
    "# Or alternatively,\n",
    "del ca_domain.datasets[\"d1c1b81270c34912b565615150e65132\"]\n",
    "\n",
    "# If the user enter `Y` we will proceed with deleting the dataset and send an acknowledgment message.\n",
    "# else continue."
   ]
  },
  {
   "cell_type": "code",
   "execution_count": 4,
   "id": "5cc24cc6",
   "metadata": {},
   "outputs": [
    {
     "name": "stdout",
     "output_type": "stream",
     "text": [
      "\n",
      "    \u001b[91mPermissionDenied\u001b[0m:\n",
      "        You don't have the permissions to perform this operation.\n",
      "\n"
     ]
    }
   ],
   "source": [
    "# If a user does not have the permission to do delete the dataset, then throw an error\n",
    "del ca_domain.datasets[\"d1c1b81270c34912b565615150e65132\"]"
   ]
  },
  {
   "cell_type": "code",
   "execution_count": 27,
   "id": "50761c52",
   "metadata": {},
   "outputs": [
    {
     "data": {
      "text/html": [
       "<div>\n",
       "<style scoped>\n",
       "    .dataframe tbody tr th:only-of-type {\n",
       "        vertical-align: middle;\n",
       "    }\n",
       "\n",
       "    .dataframe tbody tr th {\n",
       "        vertical-align: top;\n",
       "    }\n",
       "\n",
       "    .dataframe thead th {\n",
       "        text-align: right;\n",
       "    }\n",
       "</style>\n",
       "<table border=\"1\" class=\"dataframe\">\n",
       "  <thead>\n",
       "    <tr style=\"text-align: right;\">\n",
       "      <th></th>\n",
       "      <th>Id</th>\n",
       "      <th>Name</th>\n",
       "      <th>Tags</th>\n",
       "      <th>Assets</th>\n",
       "      <th>Description</th>\n",
       "      <th>Domain</th>\n",
       "      <th>Network</th>\n",
       "      <th>Usage</th>\n",
       "      <th>Added On</th>\n",
       "    </tr>\n",
       "  </thead>\n",
       "  <tbody>\n",
       "    <tr>\n",
       "      <th>0</th>\n",
       "      <td>078a61a4a01b4741899263241e603de0</td>\n",
       "      <td>Canada Crop Index Dataset</td>\n",
       "      <td>[Agriculture, Agri-Food Canada]</td>\n",
       "      <td>[\"crop-index-2021\"] -&gt; DataFrame</td>\n",
       "      <td>Crop index dataset indicating relative yield i...</td>\n",
       "      <td>Canada Domain</td>\n",
       "      <td>United Nations</td>\n",
       "      <td>130</td>\n",
       "      <td>Mar 11 2021</td>\n",
       "    </tr>\n",
       "    <tr>\n",
       "      <th>1</th>\n",
       "      <td>e6c42588dbf044cf882faa4ad6098af3</td>\n",
       "      <td>Canada Commodities Dataset</td>\n",
       "      <td>[Commodities, Canada, Trade]</td>\n",
       "      <td>[\"ca-feb2021\"] -&gt; DataFrame</td>\n",
       "      <td>Commodity Trade Dataset</td>\n",
       "      <td>Canada Domain</td>\n",
       "      <td>United Nations</td>\n",
       "      <td>340</td>\n",
       "      <td>Mar 11 2021</td>\n",
       "    </tr>\n",
       "  </tbody>\n",
       "</table>\n",
       "</div>"
      ],
      "text/plain": [
       "                                 Id                        Name  \\\n",
       "0  078a61a4a01b4741899263241e603de0   Canada Crop Index Dataset   \n",
       "1  e6c42588dbf044cf882faa4ad6098af3  Canada Commodities Dataset   \n",
       "\n",
       "                              Tags                            Assets  \\\n",
       "0  [Agriculture, Agri-Food Canada]  [\"crop-index-2021\"] -> DataFrame   \n",
       "1     [Commodities, Canada, Trade]       [\"ca-feb2021\"] -> DataFrame   \n",
       "\n",
       "                                         Description         Domain  \\\n",
       "0  Crop index dataset indicating relative yield i...  Canada Domain   \n",
       "1                            Commodity Trade Dataset  Canada Domain   \n",
       "\n",
       "          Network  Usage     Added On  \n",
       "0  United Nations    130  Mar 11 2021  \n",
       "1  United Nations    340  Mar 11 2021  "
      ]
     },
     "execution_count": 27,
     "metadata": {},
     "output_type": "execute_result"
    }
   ],
   "source": [
    "# Let's verify if the `Forest Fire Dataset` was deleted\n",
    "ca_domain.datasets"
   ]
  },
  {
   "cell_type": "code",
   "execution_count": null,
   "id": "2cab7061",
   "metadata": {},
   "outputs": [],
   "source": [
    "# Now, let's say we want to update the meta-information w.r.t to a dataset\n",
    "\n",
    "ca_domain.datasets.update(id=\"078a61a4a01b4741899263241e603de0\", data={\"name\": \"Crop-Index Dataset\"})\n",
    "\n",
    "# Or if want to update multiple properties\n",
    "ca_domain.datasets.update(id=\"078a61a4a01b4741899263241e603de0\", data={\"name\": \"Crop-Index Dataset\", \"description\": \"Updated description\"})\n",
    "\n",
    "\n",
    "# Alternatively, a user can update the properties of the dataset via the property name\n",
    "ca_domain.datasets[\"078a61a4a01b4741899263241e603de0\"].name = \"Crop-Index Dataset\"\n",
    "\n",
    "ca_domain.datasets[\"078a61a4a01b4741899263241e603de0\"].description = \"Updated description\""
   ]
  },
  {
   "cell_type": "code",
   "execution_count": 33,
   "id": "92814a0b",
   "metadata": {},
   "outputs": [
    {
     "data": {
      "text/html": [
       "<div>\n",
       "<style scoped>\n",
       "    .dataframe tbody tr th:only-of-type {\n",
       "        vertical-align: middle;\n",
       "    }\n",
       "\n",
       "    .dataframe tbody tr th {\n",
       "        vertical-align: top;\n",
       "    }\n",
       "\n",
       "    .dataframe thead th {\n",
       "        text-align: right;\n",
       "    }\n",
       "</style>\n",
       "<table border=\"1\" class=\"dataframe\">\n",
       "  <thead>\n",
       "    <tr style=\"text-align: right;\">\n",
       "      <th></th>\n",
       "      <th>Id</th>\n",
       "      <th>Name</th>\n",
       "      <th>Tags</th>\n",
       "      <th>Assets</th>\n",
       "      <th>Description</th>\n",
       "      <th>Domain</th>\n",
       "      <th>Network</th>\n",
       "      <th>Usage</th>\n",
       "      <th>Added On</th>\n",
       "    </tr>\n",
       "  </thead>\n",
       "  <tbody>\n",
       "    <tr>\n",
       "      <th>0</th>\n",
       "      <td>078a61a4a01b4741899263241e603de0</td>\n",
       "      <td>Crop-Index Dataset</td>\n",
       "      <td>[Agriculture, Agri-Food Canada]</td>\n",
       "      <td>[\"crop-index-2021\"] -&gt; DataFrame</td>\n",
       "      <td>Crop index dataset indicating relative yield i...</td>\n",
       "      <td>Canada Domain</td>\n",
       "      <td>United Nations</td>\n",
       "      <td>130</td>\n",
       "      <td>Mar 11 2021</td>\n",
       "    </tr>\n",
       "    <tr>\n",
       "      <th>1</th>\n",
       "      <td>e6c42588dbf044cf882faa4ad6098af3</td>\n",
       "      <td>Canada Commodities Dataset</td>\n",
       "      <td>[Commodities, Canada, Trade]</td>\n",
       "      <td>[\"ca-feb2021\"] -&gt; DataFrame</td>\n",
       "      <td>Commodity Trade Dataset</td>\n",
       "      <td>Canada Domain</td>\n",
       "      <td>United Nations</td>\n",
       "      <td>340</td>\n",
       "      <td>Mar 11 2021</td>\n",
       "    </tr>\n",
       "  </tbody>\n",
       "</table>\n",
       "</div>"
      ],
      "text/plain": [
       "                                 Id                        Name  \\\n",
       "0  078a61a4a01b4741899263241e603de0          Crop-Index Dataset   \n",
       "1  e6c42588dbf044cf882faa4ad6098af3  Canada Commodities Dataset   \n",
       "\n",
       "                              Tags                            Assets  \\\n",
       "0  [Agriculture, Agri-Food Canada]  [\"crop-index-2021\"] -> DataFrame   \n",
       "1     [Commodities, Canada, Trade]       [\"ca-feb2021\"] -> DataFrame   \n",
       "\n",
       "                                         Description         Domain  \\\n",
       "0  Crop index dataset indicating relative yield i...  Canada Domain   \n",
       "1                            Commodity Trade Dataset  Canada Domain   \n",
       "\n",
       "          Network  Usage     Added On  \n",
       "0  United Nations    130  Mar 11 2021  \n",
       "1  United Nations    340  Mar 11 2021  "
      ]
     },
     "execution_count": 33,
     "metadata": {},
     "output_type": "execute_result"
    }
   ],
   "source": [
    "# Now, if we check the list of datasets, \n",
    "# we can see that the name of the dataset with Id: 078a61a4a01b4741899263241e603de0\n",
    "# is updated.\n",
    "ca_domain.datasets"
   ]
  },
  {
   "cell_type": "code",
   "execution_count": null,
   "id": "e860b576",
   "metadata": {},
   "outputs": [],
   "source": []
  },
  {
   "cell_type": "markdown",
   "id": "c3d1d6f0",
   "metadata": {},
   "source": [
    "#### Dummy Data"
   ]
  },
  {
   "cell_type": "code",
   "execution_count": 1,
   "id": "3b06bc4a",
   "metadata": {},
   "outputs": [],
   "source": [
    "import pandas as pd\n",
    "from enum import Enum\n",
    "import uuid\n",
    "import datetime\n",
    "\n",
    "\n",
    "class bcolors(Enum):\n",
    "    HEADER = \"\\033[95m\"\n",
    "    OKBLUE = \"\\033[94m\"\n",
    "    OKCYAN = \"\\033[96m\"\n",
    "    OKGREEN = \"\\033[92m\"\n",
    "    WARNING = \"\\033[93m\"\n",
    "    FAIL = \"\\033[91m\"\n",
    "    ENDC = \"\\033[0m\"\n",
    "    BOLD = \"\\033[1m\"\n",
    "    UNDERLINE = \"\\033[4m\""
   ]
  },
  {
   "cell_type": "code",
   "execution_count": 6,
   "id": "baa916c5",
   "metadata": {},
   "outputs": [],
   "source": [
    "datasets = [\n",
    "    {\n",
    "        \"Id\": uuid.uuid4().hex,\n",
    "        \"Name\": \"Canada Crop Index Dataset\",\n",
    "        \"Tags\": [\"Agriculture\", \"Agri-Food Canada\"],\n",
    "        \"Assets\": '''[\"crop-index-2021\"] -> DataFrame''',\n",
    "        \"Description\": \"Crop index dataset indicating relative yield in an area.\",\n",
    "        \"Domain\": \"Canada Domain\",\n",
    "        \"Network\": \"United Nations\",\n",
    "        \"Usage\": 130,\n",
    "        \"Added On\": datetime.datetime.now().replace(month=3, day=11).strftime(\"%b %d %Y\")\n",
    "    },\n",
    "    {\n",
    "        \"Id\": uuid.uuid4().hex,\n",
    "        \"Name\": \"Canada Commodities Dataset\",\n",
    "        \"Tags\": [\"Commodities\", \"Canada\", \"Trade\"],\n",
    "        \"Assets\": '''[\"ca-feb2021\"] -> DataFrame''',\n",
    "        \"Description\": \"Commodity Trade Dataset\",\n",
    "        \"Domain\": \"Canada Domain\",\n",
    "        \"Network\": \"United Nations\",\n",
    "        \"Usage\": 340,\n",
    "        \"Added On\": datetime.datetime.now().replace(month=3, day=11).strftime(\"%b %d %Y\")\n",
    "    },\n",
    "    {\n",
    "        \"Id\": uuid.uuid4().hex,\n",
    "        \"Name\": \"Forest Fire Image Dataset\",\n",
    "        \"Tags\": [\"Forest\", \"Widfire\", \"Climate\"],\n",
    "        \"Assets\": '''[\"forest-fire\"] -> Tensor''',\n",
    "        \"Description\": \"Images of forest fire\",\n",
    "        \"Domain\": \"Canada Domain\",\n",
    "        \"Network\": \"United Nations\",\n",
    "        \"Usage\": 440,\n",
    "        \"Added On\": datetime.datetime.now().replace(month=3, day=11).strftime(\"%b %d %Y\")\n",
    "    },\n",
    "\n",
    "]\n",
    "\n",
    "datasets_df = pd.DataFrame(datasets)"
   ]
  },
  {
   "cell_type": "code",
   "execution_count": 9,
   "id": "425697b0",
   "metadata": {},
   "outputs": [
    {
     "name": "stdout",
     "output_type": "stream",
     "text": [
      "\n",
      "Name: Canada Commodities Dataset\n",
      "Description: Commodity Trade Dataset\n",
      "\n"
     ]
    }
   ],
   "source": [
    "dataset_detail = [\n",
    "    {\n",
    "        \"Asset Key\": '[\"ca-feb2021\"]',\n",
    "        \"Type\": \"DataFrame\",\n",
    "        \"Shape\": \"(40000, 7)\"\n",
    "    },\n",
    "]\n",
    "print(\"\"\"\n",
    "Name: Canada Commodities Dataset\n",
    "Description: Commodity Trade Dataset\n",
    "\"\"\")\n",
    "dataset_detail_df = pd.DataFrame(dataset_detail)"
   ]
  },
  {
   "cell_type": "code",
   "execution_count": 10,
   "id": "d28bac9f",
   "metadata": {},
   "outputs": [
    {
     "name": "stdout",
     "output_type": "stream",
     "text": [
      "\n",
      "    \u001b[91mInvalidAssetKeyError\u001b[0m:\n",
      "        Asset with key `random-feb2021` does not exist.\n",
      "\n"
     ]
    }
   ],
   "source": [
    "error_on_invalid_asset_key = f\"\"\"\n",
    "    {bcolors.FAIL.value}InvalidAssetKeyError{bcolors.ENDC.value}:\n",
    "        Asset with key `random-feb2021` does not exist.\n",
    "\"\"\"\n",
    "print(error_on_invalid_asset_key)"
   ]
  },
  {
   "cell_type": "code",
   "execution_count": 24,
   "id": "03dacd1b",
   "metadata": {},
   "outputs": [],
   "source": [
    "# # Delete dataset confirmation:\n",
    "# delete_confirmation_msg = \"`Forest Fire Image Dataset` was successfully deleted.\"\n",
    "# print(delete_confirmation_msg)\n",
    "\n",
    "# try:\n",
    "#     input(\"\"\"\n",
    "#         You are about to delete the `Forest Fire Image Dataset` ? 🚨\n",
    "#         All information related to this dataset will be permanantely deleted.\n",
    "#         Please enter Y/N to proceed:\n",
    "#     \"\"\")\n",
    "# except:\n",
    "#     print(delete_confirmation_msg)"
   ]
  },
  {
   "cell_type": "code",
   "execution_count": 32,
   "id": "60a2749d",
   "metadata": {},
   "outputs": [
    {
     "name": "stderr",
     "output_type": "stream",
     "text": [
      "/tmp/ipykernel_9940/789269115.py:1: SettingWithCopyWarning: \n",
      "A value is trying to be set on a copy of a slice from a DataFrame\n",
      "\n",
      "See the caveats in the documentation: https://pandas.pydata.org/pandas-docs/stable/user_guide/indexing.html#returning-a-view-versus-a-copy\n",
      "  datasets_df[\"Name\"][0] = \"Crop-Index Dataset\"\n"
     ]
    }
   ],
   "source": [
    "datasets_df[\"Name\"][0] = \"Crop-Index Dataset\""
   ]
  },
  {
   "cell_type": "code",
   "execution_count": 8,
   "id": "aaacf42e",
   "metadata": {},
   "outputs": [],
   "source": [
    "metadata = [\n",
    "    {\"name\": \"sample_data\",\n",
    "    \"type\": \"DataFrame\"},\n",
    "    {\"name\": \"partner_code_mapping\",\n",
    "    \"type\": \"Dict\",},\n",
    "    {\"name\": \"column_names\",\n",
    "    \"type\": \"List\",},\n",
    "]\n",
    "metadata = pd.DataFrame(metadata)\n",
    "\n",
    "sample_data = '{\"Trade Flow Code\":{\"7191\":1,\"5239\":1,\"1233\":1,\"17040\":1,\"37574\":1},\"Partner Code\":{\"7191\":752,\"5239\":56,\"1233\":251,\"17040\":144,\"37574\":0},\"Trade Value (US$)\":{\"7191\":20,\"5239\":3571,\"1233\":201246,\"17040\":28139,\"37574\":43080}}'\n",
    "sample_data = pd.DataFrame.from_dict(json.loads(sample_data))\n",
    "\n",
    "column_names = ['Trade Flow Code', 'Partner Code', 'Trade Value (US$)']\n",
    "\n",
    "partner_mapping = {818: 'Egypt',\n",
    " 826: 'United Kingdom',\n",
    " 156: 'China',\n",
    " 440: 'Lithuania',\n",
    " 703: 'Slovakia'}"
   ]
  },
  {
   "cell_type": "code",
   "execution_count": 13,
   "id": "5907b1cb",
   "metadata": {},
   "outputs": [
    {
     "name": "stdout",
     "output_type": "stream",
     "text": [
      "\n",
      "    \u001b[91mKeyError:\u001b[0m\n",
      "        Metadata with name `random-metadata-name` does not exist.\n",
      "\n"
     ]
    }
   ],
   "source": [
    "error_on_invalid_metadata_key = f\"\"\"\n",
    "    {bcolors.FAIL.value}KeyError:{bcolors.ENDC.value}\n",
    "        Metadata with name `random-metadata-name` does not exist.\n",
    "\"\"\"\n",
    "print(error_on_invalid_metadata_key)"
   ]
  },
  {
   "cell_type": "code",
   "execution_count": 2,
   "id": "69538215",
   "metadata": {},
   "outputs": [],
   "source": [
    "permission_denied_error = f\"\"\"\n",
    "    {bcolors.FAIL.value}PermissionDenied{bcolors.ENDC.value}:\n",
    "        You don't have the permissions to perform this operation.\n",
    "\"\"\""
   ]
  },
  {
   "cell_type": "code",
   "execution_count": 7,
   "id": "3909dd15",
   "metadata": {},
   "outputs": [],
   "source": [
    "multiple_datasets = f\"\"\"\n",
    "    {bcolors.FAIL.value}MutipleDatasetsReturned{bcolors.ENDC.value}:\n",
    "        There are more than one datasets with the `Name`: `Crop-Index Dataset`.\n",
    "        Please select the dataset using `Id` or `index` of the dataset.\n",
    "\"\"\""
   ]
  },
  {
   "cell_type": "code",
   "execution_count": null,
   "id": "2b083eec",
   "metadata": {},
   "outputs": [],
   "source": []
  },
  {
   "cell_type": "code",
   "execution_count": null,
   "id": "78c62bb1",
   "metadata": {},
   "outputs": [],
   "source": []
  }
 ],
 "metadata": {
  "kernelspec": {
   "display_name": "Python 3 (ipykernel)",
   "language": "python",
   "name": "python3"
  },
  "language_info": {
   "codemirror_mode": {
    "name": "ipython",
    "version": 3
   },
   "file_extension": ".py",
   "mimetype": "text/x-python",
   "name": "python",
   "nbconvert_exporter": "python",
   "pygments_lexer": "ipython3",
   "version": "3.9.6"
  }
 },
 "nbformat": 4,
 "nbformat_minor": 5
}

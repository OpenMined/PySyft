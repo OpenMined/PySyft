{
 "cells": [
  {
   "cell_type": "markdown",
   "id": "76b59351",
   "metadata": {},
   "source": [
    "#### Searching Networks for Domains\n",
    "\n",
    "A Network is a collection of domains. A Network acts a bridge between between its members and subscribers.\n",
    "The members are `Domains` while subscribers are the `end users (e.g. Data Scientist)` who explore and \n",
    "perform analysis on the datasets hosted by the members.\n",
    "\n",
    "Thus in short, a Network provides secure a interface between its members and subscribers.\n",
    "\n",
    "When a user/subscriber selects a Network, they can perform the following operations on the Network:\n",
    "- List all the domains in the network. **[P0]**\n",
    "  Following properties of the domain are visible to the user on performing the list operation.\n",
    "    - ID\n",
    "    - Name of the domain\n",
    "    - Tags\n",
    "    - Description\n",
    "    - Organization/Institute **[P1]**\n",
    "- The user is able to select a domain via `ID` or `Name` of the domain. **[P0]**\n",
    "- The user is able to filter through a list of domains via `Name` and `Tags` **[P1]**\n",
    "- A User can select a domain and login into the domain using the credentials (username and password). The URL doesn't need to enter or remember the URL of the domain."
   ]
  },
  {
   "cell_type": "code",
   "execution_count": null,
   "id": "c337ae4e",
   "metadata": {},
   "outputs": [],
   "source": [
    "import syft as sy\n",
    "import pandas as pd"
   ]
  },
  {
   "cell_type": "code",
   "execution_count": 7,
   "id": "c0536f41",
   "metadata": {},
   "outputs": [
    {
     "data": {
      "text/html": [
       "<div>\n",
       "<style scoped>\n",
       "    .dataframe tbody tr th:only-of-type {\n",
       "        vertical-align: middle;\n",
       "    }\n",
       "\n",
       "    .dataframe tbody tr th {\n",
       "        vertical-align: top;\n",
       "    }\n",
       "\n",
       "    .dataframe thead th {\n",
       "        text-align: right;\n",
       "    }\n",
       "</style>\n",
       "<table border=\"1\" class=\"dataframe\">\n",
       "  <thead>\n",
       "    <tr style=\"text-align: right;\">\n",
       "      <th></th>\n",
       "      <th>Id</th>\n",
       "      <th>Name</th>\n",
       "      <th>Hosted Domains</th>\n",
       "      <th>Hosted Datasets</th>\n",
       "      <th>Description</th>\n",
       "      <th>Tags</th>\n",
       "      <th>Url</th>\n",
       "    </tr>\n",
       "  </thead>\n",
       "  <tbody>\n",
       "    <tr>\n",
       "      <th>0</th>\n",
       "      <td>eda1148d07144df4b539383d7c9bd253</td>\n",
       "      <td>United Nations</td>\n",
       "      <td>3</td>\n",
       "      <td>3</td>\n",
       "      <td>The UN hosts data related to the commodity and...</td>\n",
       "      <td>[Commodities, Census, Health]</td>\n",
       "      <td>https://un.openmined.org</td>\n",
       "    </tr>\n",
       "    <tr>\n",
       "      <th>1</th>\n",
       "      <td>99f12690acec479990fcac9072889953</td>\n",
       "      <td>World Health Organisation</td>\n",
       "      <td>3</td>\n",
       "      <td>5</td>\n",
       "      <td>WHO hosts data related to health sector of dif...</td>\n",
       "      <td>[Virology, Cancer, Health]</td>\n",
       "      <td>https://who.openmined.org</td>\n",
       "    </tr>\n",
       "    <tr>\n",
       "      <th>2</th>\n",
       "      <td>e3f7a5a109fd4927860536b92e5f835b</td>\n",
       "      <td>International Space Station</td>\n",
       "      <td>2</td>\n",
       "      <td>4</td>\n",
       "      <td>ISS hosts data related to the topography of di...</td>\n",
       "      <td>[Exoplanets, Extra-Terrestrial]</td>\n",
       "      <td>https://iss.openmined.org</td>\n",
       "    </tr>\n",
       "  </tbody>\n",
       "</table>\n",
       "</div>"
      ],
      "text/plain": [
       "                                 Id                         Name  \\\n",
       "0  eda1148d07144df4b539383d7c9bd253               United Nations   \n",
       "1  99f12690acec479990fcac9072889953    World Health Organisation   \n",
       "2  e3f7a5a109fd4927860536b92e5f835b  International Space Station   \n",
       "\n",
       "   Hosted Domains  Hosted Datasets  \\\n",
       "0               3                3   \n",
       "1               3                5   \n",
       "2               2                4   \n",
       "\n",
       "                                         Description  \\\n",
       "0  The UN hosts data related to the commodity and...   \n",
       "1  WHO hosts data related to health sector of dif...   \n",
       "2  ISS hosts data related to the topography of di...   \n",
       "\n",
       "                              Tags                        Url  \n",
       "0    [Commodities, Census, Health]   https://un.openmined.org  \n",
       "1       [Virology, Cancer, Health]  https://who.openmined.org  \n",
       "2  [Exoplanets, Extra-Terrestrial]  https://iss.openmined.org  "
      ]
     },
     "execution_count": 7,
     "metadata": {},
     "output_type": "execute_result"
    }
   ],
   "source": [
    "# Let's explore on all the available networks\n",
    "sy.networks"
   ]
  },
  {
   "cell_type": "code",
   "execution_count": 8,
   "id": "a9f3bba5",
   "metadata": {},
   "outputs": [
    {
     "data": {
      "text/html": [
       "<div>\n",
       "<style scoped>\n",
       "    .dataframe tbody tr th:only-of-type {\n",
       "        vertical-align: middle;\n",
       "    }\n",
       "\n",
       "    .dataframe tbody tr th {\n",
       "        vertical-align: top;\n",
       "    }\n",
       "\n",
       "    .dataframe thead th {\n",
       "        text-align: right;\n",
       "    }\n",
       "</style>\n",
       "<table border=\"1\" class=\"dataframe\">\n",
       "  <thead>\n",
       "    <tr style=\"text-align: right;\">\n",
       "      <th></th>\n",
       "      <th>Id</th>\n",
       "      <th>Name</th>\n",
       "      <th>Hosted Datasets</th>\n",
       "      <th>Description</th>\n",
       "      <th>Tags</th>\n",
       "    </tr>\n",
       "  </thead>\n",
       "  <tbody>\n",
       "    <tr>\n",
       "      <th>0</th>\n",
       "      <td>3016b699694f4c1fbb1fc6792f78fba2</td>\n",
       "      <td>Canada Domain</td>\n",
       "      <td>2</td>\n",
       "      <td>The domain hosted by the government of Canada</td>\n",
       "      <td>[Commodities, Trade, Canada]</td>\n",
       "    </tr>\n",
       "    <tr>\n",
       "      <th>1</th>\n",
       "      <td>6ca34439261d4f47bc386213cb52070b</td>\n",
       "      <td>Italy Domain</td>\n",
       "      <td>1</td>\n",
       "      <td>The domain hosted by the government of Italy</td>\n",
       "      <td>[Commodities, Trade, Population]</td>\n",
       "    </tr>\n",
       "    <tr>\n",
       "      <th>2</th>\n",
       "      <td>b3b13977a24c4447abe95c5800833a86</td>\n",
       "      <td>Netherlands Domain</td>\n",
       "      <td>2</td>\n",
       "      <td>The domain hosted by the government of Netherl...</td>\n",
       "      <td>[Commodities, Trade]</td>\n",
       "    </tr>\n",
       "  </tbody>\n",
       "</table>\n",
       "</div>"
      ],
      "text/plain": [
       "                                 Id                Name  Hosted Datasets  \\\n",
       "0  3016b699694f4c1fbb1fc6792f78fba2       Canada Domain                2   \n",
       "1  6ca34439261d4f47bc386213cb52070b        Italy Domain                1   \n",
       "2  b3b13977a24c4447abe95c5800833a86  Netherlands Domain                2   \n",
       "\n",
       "                                         Description  \\\n",
       "0      The domain hosted by the government of Canada   \n",
       "1       The domain hosted by the government of Italy   \n",
       "2  The domain hosted by the government of Netherl...   \n",
       "\n",
       "                               Tags  \n",
       "0      [Commodities, Trade, Canada]  \n",
       "1  [Commodities, Trade, Population]  \n",
       "2              [Commodities, Trade]  "
      ]
     },
     "execution_count": 8,
     "metadata": {},
     "output_type": "execute_result"
    }
   ],
   "source": [
    "# Let's select a network and explore all the domains hosted by the network\n",
    "\n",
    "un_network = sy.network[\"United Nations\"]  # Select network via Name\n",
    "\n",
    "# Let's explore all the domains available in the network\n",
    "un_network.domains"
   ]
  },
  {
   "cell_type": "code",
   "execution_count": null,
   "id": "b7c00bd4",
   "metadata": {},
   "outputs": [],
   "source": [
    "# Similar to networks, we can select a domain via its index or Id.\n",
    "# Let's select the first domain i.e. the Canada domain\n",
    "\n",
    "ca_domain = un_network.domains[\"3016b699694f4c1fbb1fc6792f78fba2\"]  # Select via Id\n",
    "\n",
    "# Or\n",
    "\n",
    "ca_domain = un_network.domains[0]  # Select via index\n",
    "\n",
    "# Or \n",
    "\n",
    "ca_domain = un_network.domains[\"Canada Domain\"]  # Select via Name\n",
    "\n",
    "# Currently, we just have an object to the domain, so we cannot perform\n",
    "# any requests or access datasets until we log into the domain."
   ]
  },
  {
   "cell_type": "code",
   "execution_count": 5,
   "id": "f061f148",
   "metadata": {},
   "outputs": [
    {
     "name": "stdout",
     "output_type": "stream",
     "text": [
      "\n",
      "    \u001b[91mMutipleDomainsReturned\u001b[0m:\n",
      "        Mutiple Domains with the `Name`: `Canada Domain` were found.\n",
      "        Please select the Domain using `Id` or `index` instead.\n",
      "\n"
     ]
    }
   ],
   "source": [
    "# In case, there are mutiple domains with the same Name, then an error\n",
    "# is thrown and the user is asked to either select `Id` or index.\n",
    "\n",
    "\n",
    "# Let's say there are multiple domains with the same Name as `Canada Domain`, then an error is raised.\n",
    "ca_domain = un_network.domains[\"Canada Domain\"] # Select via Name"
   ]
  },
  {
   "cell_type": "code",
   "execution_count": 57,
   "id": "8411e4cf",
   "metadata": {},
   "outputs": [
    {
     "data": {
      "text/html": [
       "<div>\n",
       "<style scoped>\n",
       "    .dataframe tbody tr th:only-of-type {\n",
       "        vertical-align: middle;\n",
       "    }\n",
       "\n",
       "    .dataframe tbody tr th {\n",
       "        vertical-align: top;\n",
       "    }\n",
       "\n",
       "    .dataframe thead th {\n",
       "        text-align: right;\n",
       "    }\n",
       "</style>\n",
       "<table border=\"1\" class=\"dataframe\">\n",
       "  <thead>\n",
       "    <tr style=\"text-align: right;\">\n",
       "      <th></th>\n",
       "      <th>Id</th>\n",
       "      <th>Name</th>\n",
       "      <th>Hosted Datasets</th>\n",
       "      <th>Description</th>\n",
       "      <th>Tags</th>\n",
       "    </tr>\n",
       "  </thead>\n",
       "  <tbody>\n",
       "    <tr>\n",
       "      <th>0</th>\n",
       "      <td>384ab3399ad6496f95893267d4f754dc</td>\n",
       "      <td>Canada Domain</td>\n",
       "      <td>2</td>\n",
       "      <td>The domain hosted by the government of Canada</td>\n",
       "      <td>[Commodities, Trade]</td>\n",
       "    </tr>\n",
       "  </tbody>\n",
       "</table>\n",
       "</div>"
      ],
      "text/plain": [
       "                                 Id           Name  Hosted Datasets  \\\n",
       "0  384ab3399ad6496f95893267d4f754dc  Canada Domain                2   \n",
       "\n",
       "                                     Description                  Tags  \n",
       "0  The domain hosted by the government of Canada  [Commodities, Trade]  "
      ]
     },
     "execution_count": 57,
     "metadata": {},
     "output_type": "execute_result"
    }
   ],
   "source": [
    "# Now let's say, if the user wants to filter across the available domains\n",
    "\n",
    "# A user can perform a filter via the `.filter` method and filter its results by the properties of the domain\n",
    "# For the current scope we will be restricting to filter via `Name` and filter via `Tags`\n",
    "\n",
    "# Now, if the user wants filter via a single `Name` or `Tag`\n",
    "\n",
    "# Filter via Name,\n",
    "# In this case, it returns all the rows where the Name == \"Canada Domain\"\n",
    "un_network.domains.filter(name=\"Canada Domain\")"
   ]
  },
  {
   "cell_type": "code",
   "execution_count": null,
   "id": "5db2fc43",
   "metadata": {},
   "outputs": [],
   "source": [
    "# Or, filter via Tags\n",
    "# In this case, it returns all the rows where the \"Canada\" is present as Tags.\n",
    "un_network.domains.filter(tags=\"Canada\")"
   ]
  },
  {
   "cell_type": "code",
   "execution_count": 9,
   "id": "ce2eb452",
   "metadata": {},
   "outputs": [
    {
     "data": {
      "text/html": [
       "<div>\n",
       "<style scoped>\n",
       "    .dataframe tbody tr th:only-of-type {\n",
       "        vertical-align: middle;\n",
       "    }\n",
       "\n",
       "    .dataframe tbody tr th {\n",
       "        vertical-align: top;\n",
       "    }\n",
       "\n",
       "    .dataframe thead th {\n",
       "        text-align: right;\n",
       "    }\n",
       "</style>\n",
       "<table border=\"1\" class=\"dataframe\">\n",
       "  <thead>\n",
       "    <tr style=\"text-align: right;\">\n",
       "      <th></th>\n",
       "      <th>Id</th>\n",
       "      <th>Name</th>\n",
       "      <th>Hosted Datasets</th>\n",
       "      <th>Description</th>\n",
       "      <th>Tags</th>\n",
       "    </tr>\n",
       "  </thead>\n",
       "  <tbody>\n",
       "    <tr>\n",
       "      <th>0</th>\n",
       "      <td>3016b699694f4c1fbb1fc6792f78fba2</td>\n",
       "      <td>Canada Domain</td>\n",
       "      <td>2</td>\n",
       "      <td>The domain hosted by the government of Canada</td>\n",
       "      <td>[Commodities, Trade, Canada]</td>\n",
       "    </tr>\n",
       "    <tr>\n",
       "      <th>1</th>\n",
       "      <td>6ca34439261d4f47bc386213cb52070b</td>\n",
       "      <td>Italy Domain</td>\n",
       "      <td>1</td>\n",
       "      <td>The domain hosted by the government of Italy</td>\n",
       "      <td>[Commodities, Trade, Population]</td>\n",
       "    </tr>\n",
       "    <tr>\n",
       "      <th>2</th>\n",
       "      <td>b3b13977a24c4447abe95c5800833a86</td>\n",
       "      <td>Netherlands Domain</td>\n",
       "      <td>2</td>\n",
       "      <td>The domain hosted by the government of Netherl...</td>\n",
       "      <td>[Commodities, Trade]</td>\n",
       "    </tr>\n",
       "  </tbody>\n",
       "</table>\n",
       "</div>"
      ],
      "text/plain": [
       "                                 Id                Name  Hosted Datasets  \\\n",
       "0  3016b699694f4c1fbb1fc6792f78fba2       Canada Domain                2   \n",
       "1  6ca34439261d4f47bc386213cb52070b        Italy Domain                1   \n",
       "2  b3b13977a24c4447abe95c5800833a86  Netherlands Domain                2   \n",
       "\n",
       "                                         Description  \\\n",
       "0      The domain hosted by the government of Canada   \n",
       "1       The domain hosted by the government of Italy   \n",
       "2  The domain hosted by the government of Netherl...   \n",
       "\n",
       "                               Tags  \n",
       "0      [Commodities, Trade, Canada]  \n",
       "1  [Commodities, Trade, Population]  \n",
       "2              [Commodities, Trade]  "
      ]
     },
     "execution_count": 9,
     "metadata": {},
     "output_type": "execute_result"
    }
   ],
   "source": [
    "# Now, let's say we want to perform more complex operations,\n",
    "# 1. return all results with given substring.\n",
    "\n",
    "\n",
    "# In order to accomplish this, we can add a '__contains' suffix at the end of the property.\n",
    "# e.g. If we want to filter out all the domains having the word \"Domain\" in its name,\n",
    "# then, we can create a filter like:\n",
    "un_network.domains.filter(name__contains=\"Domain\")\n",
    "\n",
    "# the output of such a query would be the list of all domains having \"Domain\" as substring as part of their Name"
   ]
  },
  {
   "cell_type": "code",
   "execution_count": 7,
   "id": "71ec49b3",
   "metadata": {},
   "outputs": [
    {
     "data": {
      "text/html": [
       "<div>\n",
       "<style scoped>\n",
       "    .dataframe tbody tr th:only-of-type {\n",
       "        vertical-align: middle;\n",
       "    }\n",
       "\n",
       "    .dataframe tbody tr th {\n",
       "        vertical-align: top;\n",
       "    }\n",
       "\n",
       "    .dataframe thead th {\n",
       "        text-align: right;\n",
       "    }\n",
       "</style>\n",
       "<table border=\"1\" class=\"dataframe\">\n",
       "  <thead>\n",
       "    <tr style=\"text-align: right;\">\n",
       "      <th></th>\n",
       "      <th>Id</th>\n",
       "      <th>Name</th>\n",
       "      <th>Hosted Datasets</th>\n",
       "      <th>Description</th>\n",
       "      <th>Tags</th>\n",
       "    </tr>\n",
       "  </thead>\n",
       "  <tbody>\n",
       "    <tr>\n",
       "      <th>0</th>\n",
       "      <td>3016b699694f4c1fbb1fc6792f78fba2</td>\n",
       "      <td>Canada Domain</td>\n",
       "      <td>2</td>\n",
       "      <td>The domain hosted by the government of Canada</td>\n",
       "      <td>[Commodities, Trade, Canada]</td>\n",
       "    </tr>\n",
       "    <tr>\n",
       "      <th>1</th>\n",
       "      <td>6ca34439261d4f47bc386213cb52070b</td>\n",
       "      <td>Italy Domain</td>\n",
       "      <td>1</td>\n",
       "      <td>The domain hosted by the government of Italy</td>\n",
       "      <td>[Commodities, Trade, Population]</td>\n",
       "    </tr>\n",
       "  </tbody>\n",
       "</table>\n",
       "</div>"
      ],
      "text/plain": [
       "                                 Id           Name  Hosted Datasets  \\\n",
       "0  3016b699694f4c1fbb1fc6792f78fba2  Canada Domain                2   \n",
       "1  6ca34439261d4f47bc386213cb52070b   Italy Domain                1   \n",
       "\n",
       "                                     Description  \\\n",
       "0  The domain hosted by the government of Canada   \n",
       "1   The domain hosted by the government of Italy   \n",
       "\n",
       "                               Tags  \n",
       "0      [Commodities, Trade, Canada]  \n",
       "1  [Commodities, Trade, Population]  "
      ]
     },
     "execution_count": 7,
     "metadata": {},
     "output_type": "execute_result"
    }
   ],
   "source": [
    "# Another more complex operation would be, where a user has a list of values to compare to:\n",
    "# 2. return all the rows which having the property value equal to any of the values in the list\n",
    "\n",
    "# In order to accomplish this, we can add a `__in` suffix at the end of the property.\n",
    "# e.g. If we want to filter out all the domains having tags \"Population\" or \"Canada\" as part of their tag list\n",
    "# in that case the query will return the following results\n",
    "\n",
    "un_network.domains.filter(tags__in=[\"Population\", \"Canada\"])"
   ]
  },
  {
   "cell_type": "code",
   "execution_count": 10,
   "id": "4fbfc3d7",
   "metadata": {},
   "outputs": [
    {
     "data": {
      "text/html": [
       "<div>\n",
       "<style scoped>\n",
       "    .dataframe tbody tr th:only-of-type {\n",
       "        vertical-align: middle;\n",
       "    }\n",
       "\n",
       "    .dataframe tbody tr th {\n",
       "        vertical-align: top;\n",
       "    }\n",
       "\n",
       "    .dataframe thead th {\n",
       "        text-align: right;\n",
       "    }\n",
       "</style>\n",
       "<table border=\"1\" class=\"dataframe\">\n",
       "  <thead>\n",
       "    <tr style=\"text-align: right;\">\n",
       "      <th></th>\n",
       "      <th>Id</th>\n",
       "      <th>Name</th>\n",
       "      <th>Hosted Datasets</th>\n",
       "      <th>Description</th>\n",
       "      <th>Tags</th>\n",
       "    </tr>\n",
       "  </thead>\n",
       "  <tbody>\n",
       "    <tr>\n",
       "      <th>1</th>\n",
       "      <td>6ca34439261d4f47bc386213cb52070b</td>\n",
       "      <td>Italy Domain</td>\n",
       "      <td>1</td>\n",
       "      <td>The domain hosted by the government of Italy</td>\n",
       "      <td>[Commodities, Trade, Population]</td>\n",
       "    </tr>\n",
       "    <tr>\n",
       "      <th>2</th>\n",
       "      <td>b3b13977a24c4447abe95c5800833a86</td>\n",
       "      <td>Netherlands Domain</td>\n",
       "      <td>2</td>\n",
       "      <td>The domain hosted by the government of Netherl...</td>\n",
       "      <td>[Commodities, Trade]</td>\n",
       "    </tr>\n",
       "  </tbody>\n",
       "</table>\n",
       "</div>"
      ],
      "text/plain": [
       "                                 Id                Name  Hosted Datasets  \\\n",
       "1  6ca34439261d4f47bc386213cb52070b        Italy Domain                1   \n",
       "2  b3b13977a24c4447abe95c5800833a86  Netherlands Domain                2   \n",
       "\n",
       "                                         Description  \\\n",
       "1       The domain hosted by the government of Italy   \n",
       "2  The domain hosted by the government of Netherl...   \n",
       "\n",
       "                               Tags  \n",
       "1  [Commodities, Trade, Population]  \n",
       "2              [Commodities, Trade]  "
      ]
     },
     "execution_count": 10,
     "metadata": {},
     "output_type": "execute_result"
    }
   ],
   "source": [
    "# Another example could be to list the domains with the given list of Ids.\n",
    "un_network.domans.filter(\n",
    "    id__in=[\"6ca34439261d4f47bc386213cb52070b\", \"b3b13977a24c4447abe95c5800833a86\"]\n",
    ")\n",
    "# This will list out the domains Italy and Netherlands"
   ]
  },
  {
   "cell_type": "markdown",
   "id": "a9a6fe5a",
   "metadata": {},
   "source": [
    "#### Login into the Domain\n",
    "\n",
    "Great !!! now that we are able to search domains, let's see how we can login into a domain. There are two ways a user can login into a domain:\n",
    "\n",
    "    1. If the user has access to url of the domain\n",
    "    2. If the user doesn't have the url to a domain, but that the domain is part of a network"
   ]
  },
  {
   "cell_type": "markdown",
   "id": "6c5eb906",
   "metadata": {},
   "source": [
    "##### Case I: *If the user has access to the url of the domain*"
   ]
  },
  {
   "cell_type": "code",
   "execution_count": 4,
   "id": "10e574e3",
   "metadata": {},
   "outputs": [
    {
     "name": "stdout",
     "output_type": "stream",
     "text": [
      "\n",
      "    Connecting to Canada Domain... \u001b[92m Connected\u001b[0m 🥰! \n",
      "    Logging in as \u001b[1msheldon@caltech.edu\u001b[0m... \u001b[92m Logged in 🥳\u001b[0m!\n",
      "\n"
     ]
    }
   ],
   "source": [
    "# When the user has access to the url of the domain\n",
    "ca_domain_client = sy.login(\n",
    "    url=\"https://ca.openmined.org\", email=\"sheldon@caltech.edu\", password=\"bazinga\"\n",
    ")"
   ]
  },
  {
   "cell_type": "markdown",
   "id": "e36790e4",
   "metadata": {},
   "source": [
    "##### Case II: *If the user doesn't have the url to a domain, but that the domain is part of a network*"
   ]
  },
  {
   "cell_type": "code",
   "execution_count": 51,
   "id": "d95ae95e",
   "metadata": {},
   "outputs": [
    {
     "name": "stdout",
     "output_type": "stream",
     "text": [
      "\n",
      "    Connecting to Canada Domain... \u001b[92m Connected\u001b[0m 🥰! \n",
      "    Logging in as \u001b[1msheldon@caltech.edu\u001b[0m... \u001b[92m Logged in 🥳\u001b[0m!\n",
      "\n"
     ]
    }
   ],
   "source": [
    "# Let's select a domain the user want's to login into via the Network\n",
    "ca_domain = un_network.domains[\"3016b699694f4c1fbb1fc6792f78fba2\"]\n",
    "\n",
    "# In order to login, we can call the .login method on the domain\n",
    "ca_domain_client = ca_domain.login(email=\"sheldon@caltech.edu\", password=\"bazinga\")\n",
    "\n",
    "# Once we're logged in we have a client to the domain with which we can perform requests."
   ]
  },
  {
   "cell_type": "code",
   "execution_count": 72,
   "id": "e6aab163",
   "metadata": {},
   "outputs": [
    {
     "name": "stdout",
     "output_type": "stream",
     "text": [
      "\n",
      "    \u001b[91mAuthentication Error 🚨\u001b[0m:  \n",
      "            Hi there !!! looks like you're lost.\n",
      "            Either the email or password provided by you is incorrect.\n",
      "            \n",
      "            In case you don't have an account on the domain, please signup\n",
      "            using the following link:\n",
      "                    https://ca.openmined.org/signup/\n",
      "            \n",
      "            Or, if you have forgotten your password, please follow the link\n",
      "            and click forgot password.\n",
      "                    https://ca.openmined.org/\n",
      "\n"
     ]
    }
   ],
   "source": [
    "# If the user enters the wrong credentials, or does not have an account of the\n",
    "# domain, then they will be indicated the same.\n",
    "ca_domain_client = ca_domain.login(email=\"spock@vulcan.com\", password=\"imthecaptain\")"
   ]
  },
  {
   "cell_type": "code",
   "execution_count": null,
   "id": "255b273e",
   "metadata": {},
   "outputs": [],
   "source": []
  },
  {
   "cell_type": "code",
   "execution_count": null,
   "id": "5d12fcc0",
   "metadata": {},
   "outputs": [],
   "source": []
  },
  {
   "cell_type": "markdown",
   "id": "bc5fd978",
   "metadata": {},
   "source": [
    "### Dummy Data Creation"
   ]
  },
  {
   "cell_type": "code",
   "execution_count": 1,
   "id": "c3ad3b32",
   "metadata": {},
   "outputs": [],
   "source": [
    "import pandas as pd\n",
    "from enum import Enum\n",
    "import uuid\n",
    "\n",
    "\n",
    "class bcolors(Enum):\n",
    "    HEADER = \"\\033[95m\"\n",
    "    OKBLUE = \"\\033[94m\"\n",
    "    OKCYAN = \"\\033[96m\"\n",
    "    OKGREEN = \"\\033[92m\"\n",
    "    WARNING = \"\\033[93m\"\n",
    "    FAIL = \"\\033[91m\"\n",
    "    ENDC = \"\\033[0m\"\n",
    "    BOLD = \"\\033[1m\"\n",
    "    UNDERLINE = \"\\033[4m\"\n",
    "\n"
   ]
  },
  {
   "cell_type": "code",
   "execution_count": 1,
   "id": "cf94b294",
   "metadata": {},
   "outputs": [],
   "source": [
    "# Print available networks\n",
    "\n",
    "available_networks = [\n",
    "    {\n",
    "        \"Id\": f\"{uuid.uuid4().hex}\",\n",
    "        \"Name\": \"United Nations\",\n",
    "        \"Hosted Domains\": 3,\n",
    "        \"Hosted Datasets\": 3,\n",
    "        \"Description\": \"The UN hosts data related to the commodity and Census data.\",\n",
    "        \"Tags\": [\"Commodities\", \"Census\", \"Health\"],\n",
    "        \"Url\": \"https://un.openmined.org\",\n",
    "    },\n",
    "    {\n",
    "        \"Id\": f\"{uuid.uuid4().hex}\",\n",
    "        \"Name\": \"World Health Organisation\",\n",
    "        \"Hosted Domains\": 3,\n",
    "        \"Hosted Datasets\": 5,\n",
    "        \"Description\": \"WHO hosts data related to health sector of different parts of the worlds.\",\n",
    "        \"Tags\": [\"Virology\", \"Cancer\", \"Health\"],\n",
    "        \"Url\": \"https://who.openmined.org\",\n",
    "    },\n",
    "    {\n",
    "        \"Id\": f\"{uuid.uuid4().hex}\",\n",
    "        \"Name\": \"International Space Station\",\n",
    "        \"Hosted Domains\": 2,\n",
    "        \"Hosted Datasets\": 4,\n",
    "        \"Description\": \"ISS hosts data related to the topography of different exoplanets.\",\n",
    "        \"Tags\": [\"Exoplanets\", \"Extra-Terrestrial\"],\n",
    "        \"Url\": \"https://iss.openmined.org\",\n",
    "    },\n",
    "]\n",
    "networks_df = pd.DataFrame(available_networks)\n",
    "\n",
    "not_found_error = f\"\"\"\n",
    "    {bcolors.FAIL.value}NetworkNotFoundException {bcolors.ENDC.value}: No Network found with given Id or Index.\n",
    "\"\"\""
   ]
  },
  {
   "cell_type": "code",
   "execution_count": 2,
   "id": "23a951be",
   "metadata": {},
   "outputs": [],
   "source": [
    "available_domains = [\n",
    "    {\n",
    "        \"Id\": f\"{uuid.uuid4().hex}\",\n",
    "        \"Name\": \"Canada Domain\",\n",
    "        \"Hosted Datasets\": 2,\n",
    "        \"Description\": \"The domain hosted by the government of Canada\",\n",
    "        \"Tags\": [\"Commodities\", \"Trade\", \"Canada\"],\n",
    "    },\n",
    "    {\n",
    "        \"Id\": f\"{uuid.uuid4().hex}\",\n",
    "        \"Name\": \"Italy Domain\",\n",
    "        \"Hosted Datasets\": 1,\n",
    "        \"Description\": \"The domain hosted by the government of Italy\",\n",
    "        \"Tags\": [\"Commodities\", \"Trade\", \"Population\"],\n",
    "    },\n",
    "    {\n",
    "        \"Id\": f\"{uuid.uuid4().hex}\",\n",
    "        \"Name\": \"Netherlands Domain\",\n",
    "        \"Hosted Datasets\": 2,\n",
    "        \"Description\": \"The domain hosted by the government of Netherlands\",\n",
    "        \"Tags\": [\"Commodities\", \"Trade\"],\n",
    "    },\n",
    "]\n",
    "domain_df = pd.DataFrame(available_domains)"
   ]
  },
  {
   "cell_type": "code",
   "execution_count": 3,
   "id": "2c728850",
   "metadata": {},
   "outputs": [],
   "source": [
    "# domain logging\n",
    "\n",
    "domain_login_message = f\"\"\"\n",
    "    Connecting to Canada Domain... {bcolors.OKGREEN.value} Connected{bcolors.ENDC.value} 🥰! \n",
    "    Logging in as {bcolors.BOLD.value}sheldon@caltech.edu{bcolors.ENDC.value}... {bcolors.OKGREEN.value} Logged in 🥳{bcolors.ENDC.value}!\n",
    "\"\"\""
   ]
  },
  {
   "cell_type": "code",
   "execution_count": 60,
   "id": "ad13fe0a",
   "metadata": {},
   "outputs": [
    {
     "name": "stdout",
     "output_type": "stream",
     "text": [
      "\n",
      "    Connecting to Canada Domain... \u001b[92m Connected\u001b[0m 🥰! \n",
      "    Logging in as \u001b[1msheldon@caltech.edu\u001b[0m... \u001b[92m Logged in 🥳\u001b[0m!\n",
      "\n"
     ]
    }
   ],
   "source": [
    "print(domain_login_message)"
   ]
  },
  {
   "cell_type": "code",
   "execution_count": 71,
   "id": "e249394a",
   "metadata": {},
   "outputs": [
    {
     "name": "stdout",
     "output_type": "stream",
     "text": [
      "\n",
      "    \u001b[91mAuthentication Error 🚨\u001b[0m:  \n",
      "            Hi there !!! looks like you're lost.\n",
      "            Either the email or password provided by you is incorrect.\n",
      "            \n",
      "            In case you don't have an account on the domain, please signup\n",
      "            using the following link:\n",
      "                    https://ca.openmined.org/signup/\n",
      "            \n",
      "            Or, if you have forgotten your password, please follow the link\n",
      "            and click forgot password.\n",
      "                    https://ca.openmined.org/\n",
      "\n"
     ]
    }
   ],
   "source": [
    "authentication_error = f\"\"\"\n",
    "    {bcolors.FAIL.value}Authentication Error 🚨{bcolors.ENDC.value}:  \n",
    "            Hi there !!! looks like you're lost.\n",
    "            Either the email or password provided by you is incorrect.\n",
    "            \n",
    "            In case you don't have an account on the domain, please signup\n",
    "            using the following link:\n",
    "                    https://ca.openmined.org/signup/\n",
    "            \n",
    "            Or, if you have forgotten your password, please follow the link\n",
    "            and click forgot password.\n",
    "                    https://ca.openmined.org/\n",
    "\"\"\"\n",
    "print(authentication_error)"
   ]
  },
  {
   "cell_type": "code",
   "execution_count": 4,
   "id": "8eb26343",
   "metadata": {},
   "outputs": [],
   "source": [
    "mutiple_domains_errors = f\"\"\"\n",
    "    {bcolors.FAIL.value}MutipleDomainsReturned{bcolors.ENDC.value}:\n",
    "        Mutiple Domains with the `Name`: `Canada Domain` were found.\n",
    "        Please select the Domain using `Id` or `index` instead.\n",
    "\"\"\""
   ]
  },
  {
   "cell_type": "code",
   "execution_count": null,
   "id": "cce8cfe0",
   "metadata": {},
   "outputs": [],
   "source": []
  }
 ],
 "metadata": {
  "kernelspec": {
   "display_name": "Python 3 (ipykernel)",
   "language": "python",
   "name": "python3"
  },
  "language_info": {
   "codemirror_mode": {
    "name": "ipython",
    "version": 3
   },
   "file_extension": ".py",
   "mimetype": "text/x-python",
   "name": "python",
   "nbconvert_exporter": "python",
   "pygments_lexer": "ipython3",
   "version": "3.9.6"
  }
 },
 "nbformat": 4,
 "nbformat_minor": 5
}

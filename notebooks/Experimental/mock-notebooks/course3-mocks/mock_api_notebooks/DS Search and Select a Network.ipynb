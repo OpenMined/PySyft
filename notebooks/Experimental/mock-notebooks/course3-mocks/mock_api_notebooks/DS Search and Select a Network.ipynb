{
 "cells": [
  {
   "cell_type": "markdown",
   "id": "6adaa05e",
   "metadata": {},
   "source": [
    "### Network"
   ]
  },
  {
   "cell_type": "markdown",
   "id": "92da3595",
   "metadata": {},
   "source": [
    "A network is used to provide access to a collection of domains at once i.e. if a user agrees to a Network Agreement, then they automatically agree to the conditions to the Domains enlisted in that Network.\n",
    "\n",
    "Through, networks, a user can list all the domains attached to a network. The user can select any domain and login into the domain by entering their credential for the domain.\n",
    "\n",
    "For scope of the course a Network can perform the following set of operations:\n",
    "\n",
    "- The user is able to list all the available networks.  **[P0]**\n",
    "  \n",
    "  Following are properties of the network visible to the user on performing the list operation.\n",
    "    - Id\n",
    "    - Name of the Network\n",
    "    - Network Url **[P1]**\n",
    "    - Tags\n",
    "    - Description\n",
    "    - Hosted Domains - Number of hosted domains on the Network\n",
    "    - Hosted Datasets - Number of hosted datasets on the domains in the Network\n",
    "- The user is able to select a network via `Id` or `Index` **[P0]**\n",
    "- The user is able to filter through a list of networks via `Title` or `Tags` **[P1]**"
   ]
  },
  {
   "cell_type": "code",
   "execution_count": 10,
   "id": "5e241ce3",
   "metadata": {},
   "outputs": [],
   "source": [
    "import syft as sy\n",
    "import pandas as pd"
   ]
  },
  {
   "cell_type": "code",
   "execution_count": 23,
   "id": "540c47ec",
   "metadata": {},
   "outputs": [
    {
     "data": {
      "text/html": [
       "<div>\n",
       "<style scoped>\n",
       "    .dataframe tbody tr th:only-of-type {\n",
       "        vertical-align: middle;\n",
       "    }\n",
       "\n",
       "    .dataframe tbody tr th {\n",
       "        vertical-align: top;\n",
       "    }\n",
       "\n",
       "    .dataframe thead th {\n",
       "        text-align: right;\n",
       "    }\n",
       "</style>\n",
       "<table border=\"1\" class=\"dataframe\">\n",
       "  <thead>\n",
       "    <tr style=\"text-align: right;\">\n",
       "      <th></th>\n",
       "      <th>Id</th>\n",
       "      <th>Name</th>\n",
       "      <th>Hosted Domains</th>\n",
       "      <th>Hosted Datasets</th>\n",
       "      <th>Description</th>\n",
       "      <th>Tags</th>\n",
       "      <th>Url</th>\n",
       "    </tr>\n",
       "  </thead>\n",
       "  <tbody>\n",
       "    <tr>\n",
       "      <th>0</th>\n",
       "      <td>21a68e773ba747f0a4b6169bf28e8bed</td>\n",
       "      <td>United Nations</td>\n",
       "      <td>4</td>\n",
       "      <td>6</td>\n",
       "      <td>The UN hosts data related to the commodity and...</td>\n",
       "      <td>[Commodities, Census]</td>\n",
       "      <td>https://un.openmined.org</td>\n",
       "    </tr>\n",
       "    <tr>\n",
       "      <th>1</th>\n",
       "      <td>631cadf8d789416e902b12668c7bee5a</td>\n",
       "      <td>World Health Organisation</td>\n",
       "      <td>3</td>\n",
       "      <td>5</td>\n",
       "      <td>WHO hosts data related to health sector of dif...</td>\n",
       "      <td>[Virology, Cancer, Health]</td>\n",
       "      <td>https://who.openmined.org</td>\n",
       "    </tr>\n",
       "    <tr>\n",
       "      <th>2</th>\n",
       "      <td>7f1839534dbe4065ac66ddd9e69d9d09</td>\n",
       "      <td>International Space Station</td>\n",
       "      <td>2</td>\n",
       "      <td>4</td>\n",
       "      <td>ISS hosts data related to the topography of di...</td>\n",
       "      <td>[Exoplanets, Extra-Terrestrial]</td>\n",
       "      <td>https://iss.openmined.org</td>\n",
       "    </tr>\n",
       "  </tbody>\n",
       "</table>\n",
       "</div>"
      ],
      "text/plain": [
       "                                 Id                         Name  \\\n",
       "0  21a68e773ba747f0a4b6169bf28e8bed               United Nations   \n",
       "1  631cadf8d789416e902b12668c7bee5a    World Health Organisation   \n",
       "2  7f1839534dbe4065ac66ddd9e69d9d09  International Space Station   \n",
       "\n",
       "   Hosted Domains  Hosted Datasets  \\\n",
       "0               4                6   \n",
       "1               3                5   \n",
       "2               2                4   \n",
       "\n",
       "                                         Description  \\\n",
       "0  The UN hosts data related to the commodity and...   \n",
       "1  WHO hosts data related to health sector of dif...   \n",
       "2  ISS hosts data related to the topography of di...   \n",
       "\n",
       "                              Tags                        Url  \n",
       "0            [Commodities, Census]   https://un.openmined.org  \n",
       "1       [Virology, Cancer, Health]  https://who.openmined.org  \n",
       "2  [Exoplanets, Extra-Terrestrial]  https://iss.openmined.org  "
      ]
     },
     "execution_count": 23,
     "metadata": {},
     "output_type": "execute_result"
    }
   ],
   "source": [
    "# Let's explore on all the available networks\n",
    "sy.networks"
   ]
  },
  {
   "cell_type": "code",
   "execution_count": null,
   "id": "e0b3f404",
   "metadata": {},
   "outputs": [],
   "source": [
    "# Let's select a network\n",
    "# We can select a network either via `Id`/`Name` of the Network or the index\n",
    "\n",
    "\n",
    "# Let's select the first Network in the list via Index\n",
    "un_network = sy.networks[0]\n",
    "\n",
    "# Or via `Id`\n",
    "un_network = sy.networks[\"21a68e773ba747f0a4b6169bf28e8bed\"]\n",
    "\n",
    "# Or via `Name`\n",
    "un_network = sy.networks[\"United Nations\"]"
   ]
  },
  {
   "cell_type": "code",
   "execution_count": 6,
   "id": "ccc65359",
   "metadata": {},
   "outputs": [
    {
     "name": "stdout",
     "output_type": "stream",
     "text": [
      "\n",
      "    \u001b[91mMutipleNetworksReturned\u001b[0m:\n",
      "        Mutiple Networks with the `Name`: `United Nations` were found.\n",
      "        Please select a network using `Id` or `index` instead.\n",
      "\n"
     ]
    }
   ],
   "source": [
    "# If there are multiple networks with the same `Name` then throw an error.\n",
    "\n",
    "# Let's assume if there are more than networks with the same `United Nations`\n",
    "# then\n",
    "un_network = sy.networks[\"United Nations\"]"
   ]
  },
  {
   "cell_type": "code",
   "execution_count": 3,
   "id": "f2ce90e8",
   "metadata": {},
   "outputs": [
    {
     "name": "stdout",
     "output_type": "stream",
     "text": [
      "Network Id: 21a68e773ba747f0a4b6169bf28e8bed\n",
      "Network Name: United Nations\n",
      "Number of hosted Domains: 4\n",
      "Number of hosted datasets: 6\n",
      "Description of the Network: The UN hosts data related to the commodity and Census data\n",
      "Tags: [Commodities, Census]\n"
     ]
    }
   ],
   "source": [
    "# On selecting a domain the user can access all public properties of the network\n",
    "\n",
    "print(f\"Network Id: {un_network.id}\")\n",
    "print(f\"Network Name: {un_network.name}\")\n",
    "print(f\"Number of hosted Domains: {un_network.hosted_domains}\")\n",
    "print(f\"Number of hosted datasets: {un_network.hosted_datasets}\")\n",
    "print(f\"Description of the Network: {un_network.description}\")\n",
    "print(f\"Tags: {un_network.tags}\")"
   ]
  },
  {
   "cell_type": "code",
   "execution_count": 25,
   "id": "cadea3cd",
   "metadata": {},
   "outputs": [
    {
     "data": {
      "text/html": [
       "<div>\n",
       "<style scoped>\n",
       "    .dataframe tbody tr th:only-of-type {\n",
       "        vertical-align: middle;\n",
       "    }\n",
       "\n",
       "    .dataframe tbody tr th {\n",
       "        vertical-align: top;\n",
       "    }\n",
       "\n",
       "    .dataframe thead th {\n",
       "        text-align: right;\n",
       "    }\n",
       "</style>\n",
       "<table border=\"1\" class=\"dataframe\">\n",
       "  <thead>\n",
       "    <tr style=\"text-align: right;\">\n",
       "      <th></th>\n",
       "      <th>Id</th>\n",
       "      <th>Name</th>\n",
       "      <th>Hosted Domains</th>\n",
       "      <th>Hosted Datasets</th>\n",
       "      <th>Description</th>\n",
       "      <th>Tags</th>\n",
       "      <th>Url</th>\n",
       "    </tr>\n",
       "  </thead>\n",
       "  <tbody>\n",
       "    <tr>\n",
       "      <th>0</th>\n",
       "      <td>e57f372cc9e2445b80ebbd48190eabd0</td>\n",
       "      <td>United Nations</td>\n",
       "      <td>4</td>\n",
       "      <td>6</td>\n",
       "      <td>The UN hosts data related to the commodity and...</td>\n",
       "      <td>[Commodities, Census]</td>\n",
       "      <td>https://un.openmined.org</td>\n",
       "    </tr>\n",
       "  </tbody>\n",
       "</table>\n",
       "</div>"
      ],
      "text/plain": [
       "                                 Id            Name  Hosted Domains  \\\n",
       "0  e57f372cc9e2445b80ebbd48190eabd0  United Nations               4   \n",
       "\n",
       "   Hosted Datasets                                        Description  \\\n",
       "0                6  The UN hosts data related to the commodity and...   \n",
       "\n",
       "                    Tags                       Url  \n",
       "0  [Commodities, Census]  https://un.openmined.org  "
      ]
     },
     "execution_count": 25,
     "metadata": {},
     "output_type": "execute_result"
    }
   ],
   "source": [
    "# Now let say, if the user wants to filter across the available networks\n",
    "\n",
    "# If filtering via Name\n",
    "sy.networks.filter(\n",
    "    name=\"United Nations\"\n",
    ")  # Returns the networks where Name id \"United Nations\" in their Tags list."
   ]
  },
  {
   "cell_type": "code",
   "execution_count": 28,
   "id": "09ffe2ff",
   "metadata": {},
   "outputs": [
    {
     "data": {
      "text/html": [
       "<div>\n",
       "<style scoped>\n",
       "    .dataframe tbody tr th:only-of-type {\n",
       "        vertical-align: middle;\n",
       "    }\n",
       "\n",
       "    .dataframe tbody tr th {\n",
       "        vertical-align: top;\n",
       "    }\n",
       "\n",
       "    .dataframe thead th {\n",
       "        text-align: right;\n",
       "    }\n",
       "</style>\n",
       "<table border=\"1\" class=\"dataframe\">\n",
       "  <thead>\n",
       "    <tr style=\"text-align: right;\">\n",
       "      <th></th>\n",
       "      <th>Id</th>\n",
       "      <th>Name</th>\n",
       "      <th>Hosted Domains</th>\n",
       "      <th>Hosted Datasets</th>\n",
       "      <th>Description</th>\n",
       "      <th>Tags</th>\n",
       "      <th>Url</th>\n",
       "    </tr>\n",
       "  </thead>\n",
       "  <tbody>\n",
       "    <tr>\n",
       "      <th>0</th>\n",
       "      <td>bb31f7e533214436b09ff80305546327</td>\n",
       "      <td>United Nations</td>\n",
       "      <td>4</td>\n",
       "      <td>6</td>\n",
       "      <td>The UN hosts data related to the commodity and...</td>\n",
       "      <td>[Commodities, Census, Health]</td>\n",
       "      <td>https://un.openmined.org</td>\n",
       "    </tr>\n",
       "    <tr>\n",
       "      <th>1</th>\n",
       "      <td>3810d469ebd54cd3b0073355d4d0e30c</td>\n",
       "      <td>World Health Organisation</td>\n",
       "      <td>3</td>\n",
       "      <td>5</td>\n",
       "      <td>WHO hosts data related to health sector of dif...</td>\n",
       "      <td>[Virology, Cancer, Health]</td>\n",
       "      <td>https://who.openmined.org</td>\n",
       "    </tr>\n",
       "  </tbody>\n",
       "</table>\n",
       "</div>"
      ],
      "text/plain": [
       "                                 Id                       Name  \\\n",
       "0  bb31f7e533214436b09ff80305546327             United Nations   \n",
       "1  3810d469ebd54cd3b0073355d4d0e30c  World Health Organisation   \n",
       "\n",
       "   Hosted Domains  Hosted Datasets  \\\n",
       "0               4                6   \n",
       "1               3                5   \n",
       "\n",
       "                                         Description  \\\n",
       "0  The UN hosts data related to the commodity and...   \n",
       "1  WHO hosts data related to health sector of dif...   \n",
       "\n",
       "                            Tags                        Url  \n",
       "0  [Commodities, Census, Health]   https://un.openmined.org  \n",
       "1     [Virology, Cancer, Health]  https://who.openmined.org  "
      ]
     },
     "execution_count": 28,
     "metadata": {},
     "output_type": "execute_result"
    }
   ],
   "source": [
    "# If filter via Tag\n",
    "sy.networks.filter(tags=\"Health\") # Returns the networks with tag \"Health\" in their Tags list."
   ]
  },
  {
   "cell_type": "code",
   "execution_count": 30,
   "id": "63e3cfa4",
   "metadata": {},
   "outputs": [
    {
     "data": {
      "text/html": [
       "<div>\n",
       "<style scoped>\n",
       "    .dataframe tbody tr th:only-of-type {\n",
       "        vertical-align: middle;\n",
       "    }\n",
       "\n",
       "    .dataframe tbody tr th {\n",
       "        vertical-align: top;\n",
       "    }\n",
       "\n",
       "    .dataframe thead th {\n",
       "        text-align: right;\n",
       "    }\n",
       "</style>\n",
       "<table border=\"1\" class=\"dataframe\">\n",
       "  <thead>\n",
       "    <tr style=\"text-align: right;\">\n",
       "      <th></th>\n",
       "      <th>Id</th>\n",
       "      <th>Name</th>\n",
       "      <th>Hosted Domains</th>\n",
       "      <th>Hosted Datasets</th>\n",
       "      <th>Description</th>\n",
       "      <th>Tags</th>\n",
       "      <th>Url</th>\n",
       "    </tr>\n",
       "  </thead>\n",
       "  <tbody>\n",
       "    <tr>\n",
       "      <th>0</th>\n",
       "      <td>2ec5f22db598409d9c1277c494ece837</td>\n",
       "      <td>United Nations</td>\n",
       "      <td>4</td>\n",
       "      <td>6</td>\n",
       "      <td>The UN hosts data related to the commodity and...</td>\n",
       "      <td>[Commodities, Census]</td>\n",
       "      <td>https://un.openmined.org</td>\n",
       "    </tr>\n",
       "  </tbody>\n",
       "</table>\n",
       "</div>"
      ],
      "text/plain": [
       "                                 Id            Name  Hosted Domains  \\\n",
       "0  2ec5f22db598409d9c1277c494ece837  United Nations               4   \n",
       "\n",
       "   Hosted Datasets                                        Description  \\\n",
       "0                6  The UN hosts data related to the commodity and...   \n",
       "\n",
       "                    Tags                       Url  \n",
       "0  [Commodities, Census]  https://un.openmined.org  "
      ]
     },
     "execution_count": 30,
     "metadata": {},
     "output_type": "execute_result"
    }
   ],
   "source": [
    "# Similarly, we can create a filter to filter on more than one properties of the Network\n",
    "sy.networks.filter(name=\"United Nations\", tags=\"Health\")"
   ]
  },
  {
   "cell_type": "code",
   "execution_count": null,
   "id": "d23b7e81",
   "metadata": {},
   "outputs": [],
   "source": [
    "# For a more complex operation like filtering all the networks where a property\n",
    "# of the network contains all the values specified in the list.\n",
    "\n",
    "# To achieve this we will add a `__in` suffix with the property name.\n",
    "# e.g. If a user wants to filter the networks with a list of tags then in that case the user adds\n",
    "# an additional `__in` suffix at the end of the property `tags` and pass the list as the tags.\n",
    "\n",
    "# This is equivalent to a query where the output returns\n",
    "# a list of networks which contain \"Health\" or \"Cancer\" in their tags\n",
    "sy.networks.filter(tags__in=[\"Health\", \"Cancer\"])"
   ]
  },
  {
   "cell_type": "code",
   "execution_count": 31,
   "id": "85414a50",
   "metadata": {},
   "outputs": [
    {
     "data": {
      "text/html": [
       "<div>\n",
       "<style scoped>\n",
       "    .dataframe tbody tr th:only-of-type {\n",
       "        vertical-align: middle;\n",
       "    }\n",
       "\n",
       "    .dataframe tbody tr th {\n",
       "        vertical-align: top;\n",
       "    }\n",
       "\n",
       "    .dataframe thead th {\n",
       "        text-align: right;\n",
       "    }\n",
       "</style>\n",
       "<table border=\"1\" class=\"dataframe\">\n",
       "  <thead>\n",
       "    <tr style=\"text-align: right;\">\n",
       "      <th></th>\n",
       "      <th>Id</th>\n",
       "      <th>Name</th>\n",
       "      <th>Hosted Domains</th>\n",
       "      <th>Hosted Datasets</th>\n",
       "      <th>Description</th>\n",
       "      <th>Tags</th>\n",
       "      <th>Url</th>\n",
       "    </tr>\n",
       "  </thead>\n",
       "  <tbody>\n",
       "    <tr>\n",
       "      <th>0</th>\n",
       "      <td>2ec5f22db598409d9c1277c494ece837</td>\n",
       "      <td>United Nations</td>\n",
       "      <td>4</td>\n",
       "      <td>6</td>\n",
       "      <td>The UN hosts data related to the commodity and...</td>\n",
       "      <td>[Commodities, Census]</td>\n",
       "      <td>https://un.openmined.org</td>\n",
       "    </tr>\n",
       "  </tbody>\n",
       "</table>\n",
       "</div>"
      ],
      "text/plain": [
       "                                 Id            Name  Hosted Domains  \\\n",
       "0  2ec5f22db598409d9c1277c494ece837  United Nations               4   \n",
       "\n",
       "   Hosted Datasets                                        Description  \\\n",
       "0                6  The UN hosts data related to the commodity and...   \n",
       "\n",
       "                    Tags                       Url  \n",
       "0  [Commodities, Census]  https://un.openmined.org  "
      ]
     },
     "execution_count": 31,
     "metadata": {},
     "output_type": "execute_result"
    }
   ],
   "source": [
    "# Performing a sub-string match\n",
    "# To achieve this we will add a `__contains` suffix at end of the property.\n",
    "\n",
    "sy.networks.filter(\n",
    "    name__contains=\"United\"\n",
    ")  # Returns all the networks where \"United\" is present in the name of the network"
   ]
  },
  {
   "cell_type": "code",
   "execution_count": 41,
   "id": "711e4e63",
   "metadata": {},
   "outputs": [
    {
     "name": "stdout",
     "output_type": "stream",
     "text": [
      "\n",
      "    \u001b[91mNetworkNotFoundException \u001b[0m: No Network found with given Id or Index.\n",
      "\n"
     ]
    }
   ],
   "source": [
    "# User selects a network with invalid Id or Index\n",
    "\n",
    "sy.networks[23]\n",
    "\n",
    "# Or\n",
    "\n",
    "sy.networks[\"asdafaf23r14sdfsfsdgfsdgs\"]"
   ]
  },
  {
   "cell_type": "code",
   "execution_count": null,
   "id": "2aea4892",
   "metadata": {},
   "outputs": [],
   "source": []
  },
  {
   "cell_type": "markdown",
   "id": "ddca7882",
   "metadata": {},
   "source": [
    "### Dummy Data Creation\n",
    "\n"
   ]
  },
  {
   "cell_type": "code",
   "execution_count": 1,
   "id": "027d12b8",
   "metadata": {},
   "outputs": [],
   "source": [
    "import pandas as pd\n",
    "from enum import Enum\n",
    "import uuid\n",
    "\n",
    "\n",
    "class bcolors(Enum):\n",
    "    HEADER = \"\\033[95m\"\n",
    "    OKBLUE = \"\\033[94m\"\n",
    "    OKCYAN = \"\\033[96m\"\n",
    "    OKGREEN = \"\\033[92m\"\n",
    "    WARNING = \"\\033[93m\"\n",
    "    FAIL = \"\\033[91m\"\n",
    "    ENDC = \"\\033[0m\"\n",
    "    BOLD = \"\\033[1m\"\n",
    "    UNDERLINE = \"\\033[4m\""
   ]
  },
  {
   "cell_type": "code",
   "execution_count": 40,
   "id": "d2cf1b79",
   "metadata": {
    "hide_input": false
   },
   "outputs": [],
   "source": [
    "\n",
    "# Print available networks\n",
    "\n",
    "available_networks = [\n",
    "    {\n",
    "        \"Id\": f\"{uuid.uuid4().hex}\",\n",
    "        \"Name\": \"United Nations\",\n",
    "        \"Hosted Domains\": 4,\n",
    "        \"Hosted Datasets\": 6,\n",
    "        \"Description\": \"The UN hosts data related to the commodity and Census data.\",\n",
    "        \"Tags\": [\"Commodities\", \"Census\", \"Health\"],\n",
    "        \"Url\": \"https://un.openmined.org\",\n",
    "    },\n",
    "    {\n",
    "        \"Id\": f\"{uuid.uuid4().hex}\",\n",
    "        \"Name\": \"World Health Organisation\",\n",
    "        \"Hosted Domains\": 3,\n",
    "        \"Hosted Datasets\": 5,\n",
    "        \"Description\": \"WHO hosts data related to health sector of different parts of the worlds.\",\n",
    "        \"Tags\": [\"Virology\", \"Cancer\", \"Health\"],\n",
    "        \"Url\": \"https://who.openmined.org\",\n",
    "    },\n",
    "    {\n",
    "        \"Id\": f\"{uuid.uuid4().hex}\",\n",
    "        \"Name\": \"International Space Station\",\n",
    "        \"Hosted Domains\": 2,\n",
    "        \"Hosted Datasets\": 4,\n",
    "        \"Description\": \"ISS hosts data related to the topography of different exoplanets.\",\n",
    "        \"Tags\": [\"Exoplanets\", \"Extra-Terrestrial\"],\n",
    "        \"Url\": \"https://iss.openmined.org\",\n",
    "    },\n",
    "]\n",
    "networks_df = pd.DataFrame(available_networks)\n",
    "\n",
    "filtered_network_via_name = [\n",
    "    {\n",
    "        \"Id\": f\"{uuid.uuid4().hex}\",\n",
    "        \"Name\": \"United Nations\",\n",
    "        \"Hosted Domains\": 4,\n",
    "        \"Hosted Datasets\": 6,\n",
    "        \"Description\": \"The UN hosts data related to the commodity and Census data.\",\n",
    "        \"Tags\": [\"Commodities\", \"Census\"],\n",
    "        \"Url\": \"https://un.openmined.org\",\n",
    "    },\n",
    "]\n",
    "\n",
    "filtered_df_via_name = pd.DataFrame(filtered_network_via_name)\n",
    "\n",
    "filtered_network_via_tag = [\n",
    "    {\n",
    "        \"Id\": f\"{uuid.uuid4().hex}\",\n",
    "        \"Name\": \"United Nations\",\n",
    "        \"Hosted Domains\": 4,\n",
    "        \"Hosted Datasets\": 6,\n",
    "        \"Description\": \"The UN hosts data related to the commodity and Census data.\",\n",
    "        \"Tags\": [\"Commodities\", \"Census\", \"Health\"],\n",
    "        \"Url\": \"https://un.openmined.org\",\n",
    "    },\n",
    "    {\n",
    "        \"Id\": f\"{uuid.uuid4().hex}\",\n",
    "        \"Name\": \"World Health Organisation\",\n",
    "        \"Hosted Domains\": 3,\n",
    "        \"Hosted Datasets\": 5,\n",
    "        \"Description\": \"WHO hosts data related to health sector of different parts of the worlds.\",\n",
    "        \"Tags\": [\"Virology\", \"Cancer\", \"Health\"],\n",
    "        \"Url\": \"https://who.openmined.org\",\n",
    "    },\n",
    "]\n",
    "\n",
    "filtered_df_via_tag = pd.DataFrame(filtered_network_via_tag)\n",
    "\n",
    "\n",
    "not_found_error = f'''\n",
    "    {bcolors.FAIL.value}NetworkNotFoundException {bcolors.ENDC.value}: No Network found with given Id or Index.\n",
    "'''\n",
    "\n",
    "# print(f\"Network Id: 21a68e773ba747f0a4b6169bf28e8bed\")\n",
    "# print(f\"Network Name: United Nations\")\n",
    "# print(f\"Number of hosted Domains: 4\")\n",
    "# print(f\"Number of hosted datasets: 6\")\n",
    "# print(f\"Description of the Network: The UN hosts data related to the commodity and Census data\")\n",
    "# print(f\"Tags: [Commodities, Census]\")"
   ]
  },
  {
   "cell_type": "code",
   "execution_count": 5,
   "id": "53df9788",
   "metadata": {},
   "outputs": [],
   "source": [
    "multiple_networks = f\"\"\"\n",
    "    {bcolors.FAIL.value}MutipleNetworksReturned{bcolors.ENDC.value}:\n",
    "        Mutiple Networks with the `Name`: `United Nations` were found.\n",
    "        Please select a network using `Id` or `index` instead.\n",
    "\"\"\""
   ]
  },
  {
   "cell_type": "code",
   "execution_count": null,
   "id": "f5f68ed3",
   "metadata": {},
   "outputs": [],
   "source": []
  }
 ],
 "metadata": {
  "kernelspec": {
   "display_name": "Python 3 (ipykernel)",
   "language": "python",
   "name": "python3"
  },
  "language_info": {
   "codemirror_mode": {
    "name": "ipython",
    "version": 3
   },
   "file_extension": ".py",
   "mimetype": "text/x-python",
   "name": "python",
   "nbconvert_exporter": "python",
   "pygments_lexer": "ipython3",
   "version": "3.9.7"
  }
 },
 "nbformat": 4,
 "nbformat_minor": 5
}

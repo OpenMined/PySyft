{
 "cells": [
  {
   "cell_type": "code",
   "execution_count": 2,
   "id": "d3b8ed3a",
   "metadata": {},
   "outputs": [],
   "source": [
    "import syft as sy"
   ]
  },
  {
   "cell_type": "markdown",
   "id": "8cad00b2",
   "metadata": {},
   "source": [
    "### User successfully logs into the domain"
   ]
  },
  {
   "cell_type": "code",
   "execution_count": null,
   "id": "80761a10",
   "metadata": {},
   "outputs": [],
   "source": [
    "domain = sy.login(url=\"https://ca.openmined.org\", port=80, email=\"sheldon@caltech.edu\", password=\"bazinga\")"
   ]
  },
  {
   "cell_type": "code",
   "execution_count": 3,
   "id": "179806cf",
   "metadata": {},
   "outputs": [
    {
     "name": "stdout",
     "output_type": "stream",
     "text": [
      "\n",
      "\u001b[1mProfile Details: \u001b[0m\n",
      "\u001b[1mName:\u001b[0m Sheldon Cooper\n",
      "\u001b[1mEmail:\u001b[0m sheldon@caltech.edu\n",
      "\u001b[1mInstitution:\u001b[0m California Institute of Technology\n",
      "\u001b[1mProfile Link:\u001b[0m http://linkedin.com/sheldon\n",
      "\n",
      "To update your profile information, you can call:\n",
      "\n",
      "    `<domain_client>.userprofile.update()`\n",
      "\n"
     ]
    }
   ],
   "source": [
    "# Case I\n",
    "# User wants to view their profile details\n",
    "\n",
    "domain.userprofile"
   ]
  },
  {
   "cell_type": "code",
   "execution_count": 13,
   "id": "7b8f11cd",
   "metadata": {},
   "outputs": [
    {
     "name": "stdout",
     "output_type": "stream",
     "text": [
      "Welcome to Profile Update Widget. Introduce yourself to the Domain Owner.\n",
      "Your profile information is what Domain Owners see when they are vetting your requests.\n",
      "\n",
      "Note: \n",
      "- The current value of the field is shown inside round brackets (...).\n",
      "- Please enter `s` to skip any field.\n",
      "- Please enter `q` quit the widget. If you quit changes won't be saved.\n",
      "\n",
      "Please enter the new details:\n",
      "\n",
      "Name*: (Sheldon Cooper) - Bruce Wayne\n",
      "Email*: (sheldon@caltech.edu) - darkknight@dc.com\n",
      "Institution: (California Institute of Technology) - Wayne Industries\n",
      "Profile Link: (https://www.linkedin.com/sheldon) - https://iambatman.com\n",
      "\n",
      "\u001b[1mUpdated Details: \u001b[0m\n",
      "\u001b[1mName:\u001b[0m Bruce Wayne\n",
      "\u001b[1mEmail:\u001b[0m darkknight@dc.com\n",
      "\u001b[1mInstitution:\u001b[0m Wayne Industries\n",
      "\u001b[1mProfile Link:\u001b[0m https://iambatman.com\n"
     ]
    },
    {
     "data": {
      "text/plain": [
       "168"
      ]
     },
     "execution_count": 13,
     "metadata": {},
     "output_type": "execute_result"
    }
   ],
   "source": [
    "# Case II\n",
    "# User wants to update their profile details\n",
    "# No arguments are passed to the update method\n",
    "# If no arguments are passed the profile widget pops up\n",
    "\n",
    "domain.userprofile.update()"
   ]
  },
  {
   "cell_type": "code",
   "execution_count": 34,
   "id": "01e73d1d",
   "metadata": {},
   "outputs": [
    {
     "name": "stdout",
     "output_type": "stream",
     "text": [
      "Welcome to Profile Update Widget. Introduce yourself to the Domain Owner.\n",
      "Your profile information is what Domain Owners see when they are vetting your requests.\n",
      "\n",
      "Note: \n",
      "- The current value of the field is shown inside round brackets (...).\n",
      "- Please enter `s` to skip any field.\n",
      "- Please enter `q` quit the widget. If you quit changes won't be saved.\n",
      "\n",
      "Please enter the new details:\n",
      "\n",
      "Name*: (Sheldon Cooper) - Bruce Wayne\n",
      "Email*: (sheldon@caltech.edu) - s\n",
      "Institution: (California Institute of Technology) - Wayne Industries\n",
      "Profile Link: (https://www.linkedin.com/sheldon) - s\n",
      "\n",
      "\u001b[1mUpdated Details: \u001b[0m\n",
      "\u001b[1mName:\u001b[0m Bruce Wayne\n",
      "\u001b[1mEmail:\u001b[0m sheldon@caltech.edu\n",
      "\u001b[1mInstitution:\u001b[0m Wayne Industries\n",
      "\u001b[1mProfile Link:\u001b[0m https://www.linkedin.com/sheldon\n"
     ]
    },
    {
     "data": {
      "text/plain": [
       "181"
      ]
     },
     "execution_count": 34,
     "metadata": {},
     "output_type": "execute_result"
    }
   ],
   "source": [
    "# Case III\n",
    "# User wants to update their profile details\n",
    "# User uses profile widget to update information\n",
    "# Skips some pre-filled fields\n",
    "\n",
    "# e.g. User skips to fill Email and Profile Link\n",
    "domain.userprofile.update()"
   ]
  },
  {
   "cell_type": "code",
   "execution_count": 41,
   "id": "820c6785",
   "metadata": {},
   "outputs": [
    {
     "name": "stdout",
     "output_type": "stream",
     "text": [
      "Welcome to Profile Update Widget. Introduce yourself to the Domain Owner.\n",
      "Your profile information is what Domain Owners see when they are vetting your requests.\n",
      "\n",
      "Note: \n",
      "- The current value of the field is shown inside round brackets (...).\n",
      "- Please enter `s` to skip any field.\n",
      "- Please enter `q` quit the widget. If you quit changes won't be saved.\n",
      "\n",
      "Please enter the new details:\n",
      "\n",
      "Name*: (Sheldon Cooper) - BRUCE LEE\n",
      "Email*: (sheldon@caltech.edu) - q\n",
      "\n",
      "Quitting the profile widget. Your changes are not saved.\n",
      "\n",
      "\u001b[1mProfile Details: \u001b[0m\n",
      "\u001b[1mName:\u001b[0m Sheldon Cooper\n",
      "\u001b[1mEmail:\u001b[0m sheldon@caltech.edu\n",
      "\u001b[1mInstitution:\u001b[0m California Institute of Technology\n",
      "\u001b[1mProfile Link:\u001b[0m http://linkedin.com/sheldon\n"
     ]
    },
    {
     "data": {
      "text/plain": [
       "197"
      ]
     },
     "execution_count": 41,
     "metadata": {},
     "output_type": "execute_result"
    }
   ],
   "source": [
    "# Case IV\n",
    "# User wants to update their profile details\n",
    "# User uses profile widget to update information\n",
    "# but quits the widget midway\n",
    "\n",
    "# e.g. User quits the widget in between\n",
    "domain.userprofile.update()"
   ]
  },
  {
   "cell_type": "code",
   "execution_count": 61,
   "id": "a2b92e59",
   "metadata": {},
   "outputs": [
    {
     "name": "stdout",
     "output_type": "stream",
     "text": [
      "Please enter the new Name:\n",
      "Name: (Sheldon Cooper) - Bruce Wayne\n",
      "\n",
      "Name is successfully updated !\n"
     ]
    }
   ],
   "source": [
    "# Case V\n",
    "# User wants to update only a single field, e.g. Name\n",
    "\n",
    "domain.userprofile.update(field_name=\"Name\")"
   ]
  },
  {
   "cell_type": "code",
   "execution_count": 20,
   "id": "b91e55a9",
   "metadata": {},
   "outputs": [
    {
     "name": "stdout",
     "output_type": "stream",
     "text": [
      "Please enter the new Email:\n",
      "Email: (sheldon@caltech.edu) - gibberish.com\n",
      "\n",
      "\u001b[91mValidationError:\u001b[0m\n",
      "    Invalid email. Make sure your email is in an `name@abc.com` format\n",
      "\n"
     ]
    }
   ],
   "source": [
    "# Case VI\n",
    "# User updates only a single field, but\n",
    "# Validation of value fails\n",
    "\n",
    "# Name: Valid if Name is not an empty.\n",
    "# Email: Validate if entered valid is a valid email address.\n",
    "# Profile Link: Validate if the entered value is a valid url.\n",
    "\n",
    "# e.g. Email is invalid\n",
    "domain.userprofile.update(field_name=\"Email\")"
   ]
  },
  {
   "cell_type": "code",
   "execution_count": 36,
   "id": "b631943d",
   "metadata": {},
   "outputs": [
    {
     "name": "stdout",
     "output_type": "stream",
     "text": [
      "Please enter the new Name:\n",
      "Email: (Sheldon Cooper) - \n",
      "\n",
      "\u001b[91mValidationError:\u001b[0m\n",
      "    Invalid name. Name cannot be an empty string.\n",
      "\n"
     ]
    }
   ],
   "source": [
    "# e.g. Name is empty\n",
    "domain.userprofile.update(field_name=\"Name\")"
   ]
  },
  {
   "cell_type": "code",
   "execution_count": 21,
   "id": "ac68aeb9",
   "metadata": {},
   "outputs": [
    {
     "name": "stdout",
     "output_type": "stream",
     "text": [
      "Please enter the new Email:\n",
      "Email: (sheldon@caltech.edu) - info@openmined.org\n",
      "\n",
      "\u001b[91mValidationError:\u001b[0m\n",
      "    Seems like an account with that email already exists on this domain.\n",
      "    Please try a different email address.\n",
      "\n"
     ]
    }
   ],
   "source": [
    "# Case VII\n",
    "# User tries to update Email but\n",
    "# another user with that Email already exists\n",
    "\n",
    "domain.userprofile.update(field_name=\"Email\")"
   ]
  },
  {
   "cell_type": "code",
   "execution_count": 16,
   "id": "c952cdf2",
   "metadata": {},
   "outputs": [
    {
     "name": "stdout",
     "output_type": "stream",
     "text": [
      "\n",
      "\u001b[91mInvalidFieldError:\u001b[0m\n",
      "    Field name `PhoneNumber` does not exist.\n",
      "    \n",
      "    If you're unsure of the field name please use the profile widget to\n",
      "    update your profile information.\n",
      "\n",
      "        `<domain_client>.userprofile.update()`    \n",
      "\n"
     ]
    }
   ],
   "source": [
    "# Case VIII\n",
    "# User tries to update a field that does not exist\n",
    "\n",
    "# e.g. field_name=phonenumber\n",
    "domain.userprofile.update(field_name=\"PhoneNumber\")"
   ]
  },
  {
   "cell_type": "code",
   "execution_count": 20,
   "id": "0d5e9615",
   "metadata": {},
   "outputs": [
    {
     "name": "stdout",
     "output_type": "stream",
     "text": [
      "\n",
      "\u001b[91mInvalidFieldError:\u001b[0m\n",
      "    Field name `Password` does not exist.\n",
      "    \n",
      "    To reset your password, you can call:\n",
      "    \n",
      "        `<domain_client>.userprofile.reset_password()`\n",
      "\n"
     ]
    }
   ],
   "source": [
    "# If user enter field_name=password, then show a message\n",
    "# to use `reset_password`\n",
    "\n",
    "# e.g. field_name=password\n",
    "domain.userprofile.update(field_name=\"password\")"
   ]
  },
  {
   "cell_type": "markdown",
   "id": "4cf2b224",
   "metadata": {},
   "source": [
    "### Password Reset\n",
    "\n",
    "Note:\n",
    "\n",
    "Reset password allows a user to change/update their password only after they log into the domain.\n",
    "This is different from forgot password, where a user wants to reset their password without logging into the domain. Forgot password will be implemented soon...."
   ]
  },
  {
   "cell_type": "code",
   "execution_count": 60,
   "id": "1a33fe7a",
   "metadata": {},
   "outputs": [
    {
     "name": "stdout",
     "output_type": "stream",
     "text": [
      "\n",
      "Welcome to Password Reset Widget.\n",
      "\n",
      "Password Requirements:\n",
      "The new password should contain atleast:\n",
      "- One lowercase character\n",
      "- One uppercase character\n",
      "- One number\n",
      "- One special character from (!,@,#,$,%,^,&,*)\n",
      "- Minimum 8 characters\n",
      "\n",
      "Please provide the following details:\n",
      "Current Password: ········\n",
      "New Password: ········\n",
      "Confirm New Password: ········\n",
      "\n",
      "You password has been changed sucessfully."
     ]
    },
    {
     "data": {
      "text/plain": [
       "43"
      ]
     },
     "execution_count": 60,
     "metadata": {},
     "output_type": "execute_result"
    }
   ],
   "source": [
    "# Case I\n",
    "# User wants to reset their password using \n",
    "# reset password widget\n",
    "\n",
    "domain.userprofile.reset_password()"
   ]
  },
  {
   "cell_type": "code",
   "execution_count": 61,
   "id": "bca30605",
   "metadata": {},
   "outputs": [
    {
     "name": "stdout",
     "output_type": "stream",
     "text": [
      "\n",
      "Welcome to Password Reset Widget.\n",
      "\n",
      "Password Requirements:\n",
      "The new password should contain atleast:\n",
      "- One lowercase character\n",
      "- One uppercase character\n",
      "- One number\n",
      "- One special character from (!,@,#,$,%,^,&,*)\n",
      "- Minimum 8 characters\n",
      "\n",
      "Please provide the following details:\n",
      "\n",
      "Current Password: ········\n",
      "New Password: ········\n",
      "Confirm New Password: ········\n",
      "\n",
      "    \u001b[91mAuthorizationError:\u001b[0m\n",
      "        The current password you have entered is incorrect.\n",
      "\n"
     ]
    }
   ],
   "source": [
    "# Case II\n",
    "# User wants to reset their password using \n",
    "# reset password widget\n",
    "# Current password is not correct\n",
    "\n",
    "domain.userprofile.reset_password()"
   ]
  },
  {
   "cell_type": "code",
   "execution_count": 62,
   "id": "97fcdbb5",
   "metadata": {},
   "outputs": [
    {
     "name": "stdout",
     "output_type": "stream",
     "text": [
      "\n",
      "Welcome to Password Reset Widget.\n",
      "\n",
      "Password Requirements:\n",
      "The new password should contain atleast:\n",
      "- One lowercase character\n",
      "- One uppercase character\n",
      "- One number\n",
      "- One special character from (!,@,#,$,%,^,&,*)\n",
      "- Minimum 8 characters\n",
      "\n",
      "Please provide the following details:\n",
      "\n",
      "Current Password: ········\n",
      "New Password: ········\n",
      "Confirm New Password: ········\n",
      "\n",
      "    \u001b[91mValidationError:\u001b[0m\n",
      "        New Password and Confirm New Password does not match.\n",
      "\n"
     ]
    }
   ],
   "source": [
    "# Case III\n",
    "# User wants to reset their password using \n",
    "# reset password widget\n",
    "# New Password and Confirm New Password do not match\n",
    "\n",
    "domain.userprofile.reset_password()"
   ]
  },
  {
   "cell_type": "code",
   "execution_count": 63,
   "id": "e177e2be",
   "metadata": {},
   "outputs": [
    {
     "name": "stdout",
     "output_type": "stream",
     "text": [
      "\n",
      "Welcome to Password Reset Widget.\n",
      "\n",
      "Password Requirements:\n",
      "The new password should contain atleast:\n",
      "- One lowercase character\n",
      "- One uppercase character\n",
      "- One number\n",
      "- One special character from (!,@,#,$,%,^,&,*)\n",
      "- Minimum 8 characters\n",
      "\n",
      "Please provide the following details:\n",
      "\n",
      "Current Password: ········\n",
      "New Password: ········\n",
      "Confirm New Password: ········\n",
      "\n",
      "    \u001b[91mValidationError:\u001b[0m\n",
      "        The new password you entered doesn't meet the minimum\n",
      "        security requirements.\n",
      "\n"
     ]
    }
   ],
   "source": [
    "# Case IV\n",
    "# User wants to reset their password using \n",
    "# reset password widget\n",
    "# New Password does not match security requirements\n",
    "\n",
    "domain.userprofile.reset_password()"
   ]
  },
  {
   "cell_type": "code",
   "execution_count": 64,
   "id": "7ea78269",
   "metadata": {},
   "outputs": [
    {
     "name": "stdout",
     "output_type": "stream",
     "text": [
      "\n",
      "You password has been changed sucessfully.\n"
     ]
    }
   ],
   "source": [
    "# Case V\n",
    "# Alternatively, the user can reset the password\n",
    "# by passing current and new password as arguments\n",
    "# to reset_password\n",
    "# The validation and authentication errors indicated above still apply.\n",
    "\n",
    "domain.userprofile.reset_password(curr_password=\"bazinga\", new_password=\"iambatman\")"
   ]
  },
  {
   "cell_type": "markdown",
   "id": "2400b817",
   "metadata": {},
   "source": [
    "### User successfully logs into the domain as guest user"
   ]
  },
  {
   "cell_type": "code",
   "execution_count": 55,
   "id": "fa51313f",
   "metadata": {},
   "outputs": [
    {
     "name": "stdout",
     "output_type": "stream",
     "text": [
      "\n",
      "\u001b[91mAuthorizationError:\u001b[0m\n",
      "    Profile is not accessible as a guest user.\n",
      "    Please login or register to the domain to access your profile.\n",
      "\n"
     ]
    }
   ],
   "source": [
    "domain.userprofile"
   ]
  },
  {
   "cell_type": "markdown",
   "id": "bd37bc16",
   "metadata": {},
   "source": [
    "#### Dummy Data"
   ]
  },
  {
   "cell_type": "code",
   "execution_count": 1,
   "id": "826ba51b",
   "metadata": {},
   "outputs": [],
   "source": [
    "import pandas as pd\n",
    "import sys\n",
    "from enum import Enum\n",
    "import uuid\n",
    "from getpass import getpass\n",
    "\n",
    "\n",
    "class bcolors(Enum):\n",
    "    HEADER = \"\\033[95m\"\n",
    "    OKBLUE = \"\\033[94m\"\n",
    "    OKCYAN = \"\\033[96m\"\n",
    "    OKGREEN = \"\\033[92m\"\n",
    "    WARNING = \"\\033[93m\"\n",
    "    FAIL = \"\\033[91m\"\n",
    "    ENDC = \"\\033[0m\"\n",
    "    BOLD = \"\\033[1m\"\n",
    "    UNDERLINE = \"\\033[4m\""
   ]
  },
  {
   "cell_type": "code",
   "execution_count": 2,
   "id": "b36430b7",
   "metadata": {},
   "outputs": [
    {
     "name": "stdout",
     "output_type": "stream",
     "text": [
      "\n",
      "\u001b[1mProfile Details: \u001b[0m\n",
      "\u001b[1mName:\u001b[0m Sheldon Cooper\n",
      "\u001b[1mEmail:\u001b[0m sheldon@caltech.edu\n",
      "\u001b[1mInstitution:\u001b[0m California Institute of Technology\n",
      "\u001b[1mProfile Link:\u001b[0m http://linkedin.com/sheldon\n",
      "\n",
      "To update your profile information, you can call:\n",
      "\n",
      "    `<domain_client>.userprofile.update()`\n",
      "\n"
     ]
    }
   ],
   "source": [
    "profile_details = f\"\"\"\n",
    "{bcolors.BOLD.value}Profile Details: {bcolors.ENDC.value}\n",
    "{bcolors.BOLD.value}Name:{bcolors.ENDC.value} Sheldon Cooper\n",
    "{bcolors.BOLD.value}Email:{bcolors.ENDC.value} sheldon@caltech.edu\n",
    "{bcolors.BOLD.value}Institution:{bcolors.ENDC.value} California Institute of Technology\n",
    "{bcolors.BOLD.value}Profile Link:{bcolors.ENDC.value} http://linkedin.com/sheldon\n",
    "\n",
    "To update your profile information, you can call:\n",
    "\n",
    "    `<domain_client>.userprofile.update()`\n",
    "\"\"\"\n",
    "print(profile_details)"
   ]
  },
  {
   "cell_type": "code",
   "execution_count": 3,
   "id": "d714a020",
   "metadata": {},
   "outputs": [],
   "source": [
    "updated_profile_details = f\"\"\"\n",
    "{bcolors.BOLD.value}Updated Details: {bcolors.ENDC.value}\n",
    "{bcolors.BOLD.value}Name:{bcolors.ENDC.value} Bruce Wayne\n",
    "{bcolors.BOLD.value}Email:{bcolors.ENDC.value} darkknight@dc.com\n",
    "{bcolors.BOLD.value}Institution:{bcolors.ENDC.value} Wayne Industries\n",
    "{bcolors.BOLD.value}Profile Link:{bcolors.ENDC.value} https://iambatman.com\n",
    "\"\"\"\n",
    "\n",
    "help_text = f\"\"\"Welcome to Profile Update Widget. Introduce yourself to the Domain Owner.\n",
    "Your profile information is what Domain Owners see when they are vetting your requests.\n",
    "\n",
    "Note: \n",
    "- The current value of the field is shown inside round brackets (...).\n",
    "- Please enter `s` to skip any field.\n",
    "- Please enter `q` quit the widget. If you quit changes won't be saved.\n",
    "- The fields marked with * cannot be empty.\n",
    "\n",
    "Please enter the new details:\n",
    "\n",
    "\"\"\""
   ]
  },
  {
   "cell_type": "code",
   "execution_count": 4,
   "id": "4a886ff2",
   "metadata": {},
   "outputs": [],
   "source": [
    "current_profile_details = f\"\"\"\n",
    "{bcolors.BOLD.value}Profile Details: {bcolors.ENDC.value}\n",
    "{bcolors.BOLD.value}Name:{bcolors.ENDC.value} Sheldon Cooper\n",
    "{bcolors.BOLD.value}Email:{bcolors.ENDC.value} sheldon@caltech.edu\n",
    "{bcolors.BOLD.value}Institution:{bcolors.ENDC.value} California Institute of Technology\n",
    "{bcolors.BOLD.value}Profile Link:{bcolors.ENDC.value} http://linkedin.com/sheldon\n",
    "\"\"\""
   ]
  },
  {
   "cell_type": "code",
   "execution_count": 5,
   "id": "cd8f970d",
   "metadata": {},
   "outputs": [
    {
     "name": "stdout",
     "output_type": "stream",
     "text": [
      "Welcome to Profile Update Widget. Introduce yourself to the Domain Owner.\n",
      "Your profile information is what Domain Owners see when they are vetting your requests.\n",
      "\n",
      "Note: \n",
      "- The current value of the field is shown inside round brackets (...).\n",
      "- Please enter `s` to skip any field.\n",
      "- Please enter `q` quit the widget. If you quit changes won't be saved.\n",
      "- The fields marked with * cannot be empty.\n",
      "\n",
      "Please enter the new details:\n",
      "\n",
      "Name*: (Sheldon Cooper) - \n",
      "Email*: (sheldon@caltech.edu) - \n",
      "Institution: (California Institute of Technology) - \n",
      "Profile Link: (https://www.linkedin.com/sheldon) - \n",
      "\n",
      "\u001b[1mUpdated Details: \u001b[0m\n",
      "\u001b[1mName:\u001b[0m Bruce Wayne\n",
      "\u001b[1mEmail:\u001b[0m darkknight@dc.com\n",
      "\u001b[1mInstitution:\u001b[0m Wayne Industries\n",
      "\u001b[1mProfile Link:\u001b[0m https://iambatman.com\n"
     ]
    },
    {
     "data": {
      "text/plain": [
       "168"
      ]
     },
     "execution_count": 5,
     "metadata": {},
     "output_type": "execute_result"
    }
   ],
   "source": [
    "sys.stdout.write(help_text)\n",
    "inputs= f\"\"\"\n",
    "{input(\"Name*: (Sheldon Cooper) - \")}\n",
    "{input(\"Email*: (sheldon@caltech.edu) - \")}\n",
    "{input(\"Institution: (California Institute of Technology) - \")}\n",
    "{input(\"Profile Link: (https://www.linkedin.com/sheldon) - \")}\n",
    "\"\"\"\n",
    "sys.stdout.write(updated_profile_details)"
   ]
  },
  {
   "cell_type": "code",
   "execution_count": 6,
   "id": "83ecedcc",
   "metadata": {},
   "outputs": [],
   "source": [
    "partial_update_profile_details = f\"\"\"\n",
    "{bcolors.BOLD.value}Updated Details: {bcolors.ENDC.value}\n",
    "{bcolors.BOLD.value}Name:{bcolors.ENDC.value} Bruce Wayne\n",
    "{bcolors.BOLD.value}Email:{bcolors.ENDC.value} sheldon@caltech.edu\n",
    "{bcolors.BOLD.value}Institution:{bcolors.ENDC.value} Wayne Industries\n",
    "{bcolors.BOLD.value}Profile Link:{bcolors.ENDC.value} https://www.linkedin.com/sheldon\n",
    "\"\"\""
   ]
  },
  {
   "cell_type": "code",
   "execution_count": 7,
   "id": "183911f2",
   "metadata": {},
   "outputs": [],
   "source": [
    "field_validation = f\"\"\"\n",
    "{bcolors.FAIL.value}ValidationError:{bcolors.ENDC.value}\n",
    "    Invalid email. Make sure your email is in an `name@abc.com` format\n",
    "\"\"\""
   ]
  },
  {
   "cell_type": "code",
   "execution_count": 8,
   "id": "cd9fe3c1",
   "metadata": {},
   "outputs": [],
   "source": [
    "name_validation = f\"\"\"\n",
    "{bcolors.FAIL.value}ValidationError:{bcolors.ENDC.value}\n",
    "    Invalid name. Name cannot be an empty string.\n",
    "\"\"\""
   ]
  },
  {
   "cell_type": "code",
   "execution_count": 9,
   "id": "356509f0",
   "metadata": {},
   "outputs": [],
   "source": [
    "email_invalid = f\"\"\"\n",
    "{bcolors.FAIL.value}ValidationError:{bcolors.ENDC.value}\n",
    "    Seems like an account with that email already exists on this domain.\n",
    "    Please try a different email address.\n",
    "\"\"\""
   ]
  },
  {
   "cell_type": "code",
   "execution_count": 10,
   "id": "c4e74b61",
   "metadata": {},
   "outputs": [],
   "source": [
    "authorization_error = f\"\"\"\n",
    "{bcolors.FAIL.value}AuthorizationError:{bcolors.ENDC.value}\n",
    "    Profile is not accessible as a guest user.\n",
    "    Please login or register to the domain to access your profile.\n",
    "\"\"\""
   ]
  },
  {
   "cell_type": "code",
   "execution_count": 15,
   "id": "26c827a2",
   "metadata": {},
   "outputs": [],
   "source": [
    "field_does_not_exists = f\"\"\"\n",
    "{bcolors.FAIL.value}InvalidFieldError:{bcolors.ENDC.value}\n",
    "    Field name `PhoneNumber` does not exist.\n",
    "    \n",
    "    If you're unsure of the field name please use the profile widget to\n",
    "    update your profile information.\n",
    "\n",
    "        `<domain_client>.userprofile.update()`    \n",
    "\"\"\""
   ]
  },
  {
   "cell_type": "code",
   "execution_count": 19,
   "id": "be343ab1",
   "metadata": {},
   "outputs": [],
   "source": [
    "field_pwd_not_exists = f\"\"\"\n",
    "{bcolors.FAIL.value}InvalidFieldError:{bcolors.ENDC.value}\n",
    "    Field name `Password` does not exist.\n",
    "    \n",
    "    To reset your password, you can call:\n",
    "    \n",
    "        `<domain_client>.userprofile.reset_password()`\n",
    "\"\"\""
   ]
  },
  {
   "cell_type": "code",
   "execution_count": 12,
   "id": "88b35986",
   "metadata": {},
   "outputs": [],
   "source": [
    "password_reset_message = \"\"\"\n",
    "Welcome to Password Reset Widget.\n",
    "\n",
    "Password Requirements:\n",
    "The new password should contain atleast:\n",
    "- One lowercase character\n",
    "- One uppercase character\n",
    "- One number\n",
    "- One special character from (!,@,#,$,%,^,&,*)\n",
    "- Minimum 8 characters\n",
    "\n",
    "Please provide the following details:\n",
    "\"\"\"\n",
    "password_reset_success_msg = \"\"\"\\nYou password has been changed sucessfully.\"\"\"\n",
    "curr_password_not_correct = f\"\"\"\n",
    "    {bcolors.FAIL.value}AuthorizationError:{bcolors.ENDC.value}\n",
    "        The current password you have entered is incorrect.\n",
    "\"\"\"\n",
    "\n",
    "new_password_confirm_fails = f\"\"\"\n",
    "    {bcolors.FAIL.value}ValidationError:{bcolors.ENDC.value}\n",
    "        New Password and Confirm New Password does not match.\n",
    "\"\"\"\n",
    "\n",
    "new_password_invalid = f\"\"\"\n",
    "    {bcolors.FAIL.value}ValidationError:{bcolors.ENDC.value}\n",
    "        The new password you entered doesn't meet the minimum\n",
    "        security requirements.\n",
    "\"\"\""
   ]
  },
  {
   "cell_type": "code",
   "execution_count": 13,
   "id": "c48d125e",
   "metadata": {},
   "outputs": [
    {
     "name": "stdout",
     "output_type": "stream",
     "text": [
      "\n",
      "Welcome to Password Reset Widget.\n",
      "\n",
      "Password Requirements:\n",
      "The new password should contain atleast:\n",
      "- One lowercase character\n",
      "- One uppercase character\n",
      "- One number\n",
      "- One special character from (!,@,#,$,%,^,&,*)\n",
      "- Minimum 8 characters\n",
      "\n",
      "Please provide the following details:\n",
      "Current Password: ········\n",
      "New Password: ········\n",
      "Confirm New Password: ········\n",
      "\n",
      "You password has been changed sucessfully."
     ]
    },
    {
     "data": {
      "text/plain": [
       "43"
      ]
     },
     "execution_count": 13,
     "metadata": {},
     "output_type": "execute_result"
    }
   ],
   "source": [
    "sys.stdout.write(password_reset_message)\n",
    "password_inputs= f\"\"\"\n",
    "{getpass(\"Current Password: \")}\n",
    "{getpass(\"New Password: \")}\n",
    "{getpass(\"Confirm New Password: \")}\n",
    "\"\"\"\n",
    "sys.stdout.write(password_reset_success_msg)"
   ]
  },
  {
   "cell_type": "code",
   "execution_count": null,
   "id": "96577964",
   "metadata": {},
   "outputs": [],
   "source": [
    "sys.stdout.write(password_reset_message)\n",
    "password_inputs= f\"\"\"\n",
    "{getpass(\"Current Password: \")}\n",
    "{getpass(\"New Password: \")}\n",
    "{getpass(\"Confirm New Password: \")}\n",
    "\"\"\"\n",
    "sys.stdout.write(password_reset_success_msg)"
   ]
  }
 ],
 "metadata": {
  "kernelspec": {
   "display_name": "Python 3 (ipykernel)",
   "language": "python",
   "name": "python3"
  },
  "language_info": {
   "codemirror_mode": {
    "name": "ipython",
    "version": 3
   },
   "file_extension": ".py",
   "mimetype": "text/x-python",
   "name": "python",
   "nbconvert_exporter": "python",
   "pygments_lexer": "ipython3",
   "version": "3.9.7"
  }
 },
 "nbformat": 4,
 "nbformat_minor": 5
}

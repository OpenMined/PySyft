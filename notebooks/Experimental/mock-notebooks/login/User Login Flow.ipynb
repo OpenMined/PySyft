{
 "cells": [
  {
   "cell_type": "markdown",
   "id": "5a9a57a6",
   "metadata": {},
   "source": [
    "### Login into a domain"
   ]
  },
  {
   "cell_type": "markdown",
   "id": "be0cef57",
   "metadata": {},
   "source": [
    "There are two ways a user can login into a domain:\n",
    "\n",
    "1. If the user has access to url of the domain.\n",
    "2. If the user doesn't have the url to a domain, but that the domain is part of a network."
   ]
  },
  {
   "cell_type": "markdown",
   "id": "416b580a",
   "metadata": {},
   "source": [
    "#### Case I - User has access to the url of the domain. \n",
    "----------"
   ]
  },
  {
   "cell_type": "code",
   "execution_count": null,
   "id": "08654da7",
   "metadata": {},
   "outputs": [],
   "source": [
    "import syft as sy"
   ]
  },
  {
   "cell_type": "code",
   "execution_count": null,
   "id": "94c2aefe",
   "metadata": {},
   "outputs": [],
   "source": [
    "ca_domain_client = sy.login(\n",
    "    url=\"https://ca.openmined.org\", email=\"sheldon@caltech.edu\", \n",
    "    password=\"bazinga\", port=8081, verbose=True\n",
    ")"
   ]
  },
  {
   "cell_type": "markdown",
   "id": "27d42fd0",
   "metadata": {},
   "source": [
    "#### Case II - Logging into the domain through the network\n",
    "----------"
   ]
  },
  {
   "cell_type": "code",
   "execution_count": null,
   "id": "e0db0b36",
   "metadata": {},
   "outputs": [],
   "source": [
    "network_client = sy.networks[0] # Selecting the first network node\n",
    "domain_proxy_client = network_client[0] # Select the first domain node in the network\n",
    "\n",
    "# The user doesn't need to specify the url/port to the domain.\n",
    "# They just need to enter the email and password\n",
    "domain_client = domain_proxy_client.login(\n",
    "    email=\"sheldon@caltech.edu\", password=\"bazinga\", verbose=True\n",
    ")"
   ]
  },
  {
   "cell_type": "markdown",
   "id": "37195f76",
   "metadata": {},
   "source": [
    "#### Different Logging Scenarios\n",
    "----------"
   ]
  },
  {
   "cell_type": "code",
   "execution_count": 58,
   "id": "4356a228",
   "metadata": {},
   "outputs": [
    {
     "name": "stdout",
     "output_type": "stream",
     "text": [
      "\n",
      "Connecting to\u001b[1m https://ca.openmined.com \u001b[0m\n",
      "Logging into Canada Domain... \u001b[92m Logged in 🥳\u001b[0m!! \n",
      "Logged in as \u001b[1msheldon@caltech.edu\u001b[0m\n",
      "\n"
     ]
    }
   ],
   "source": [
    "# Scenario: I\n",
    "# by default verbose flag = True\n",
    "\n",
    "ca_domain_client = sy.login(\n",
    "    url=\"https://ca.openmined.org\", email=\"sheldon@caltech.edu\", \n",
    "    password=\"bazinga\", port=8081, verbose=True\n",
    ")"
   ]
  },
  {
   "cell_type": "code",
   "execution_count": 2,
   "id": "f8b3df99",
   "metadata": {},
   "outputs": [
    {
     "name": "stdout",
     "output_type": "stream",
     "text": [
      "Logging into Canada Domain...  Logged in 🥳!!\n"
     ]
    }
   ],
   "source": [
    "# Scenario: II\n",
    "# verbose flag = False\n",
    "# The logging messages are not printed\n",
    "\n",
    "ca_domain_client = sy.login(\n",
    "    url=\"https://ca.openmined.org\", email=\"sheldon@caltech.edu\", \n",
    "    password=\"bazinga\", port=8081, verbose=True\n",
    ")"
   ]
  },
  {
   "cell_type": "code",
   "execution_count": 9,
   "id": "f4123786",
   "metadata": {},
   "outputs": [
    {
     "name": "stdout",
     "output_type": "stream",
     "text": [
      "Please enter your password: ········\n"
     ]
    }
   ],
   "source": [
    "# Scenario: III\n",
    "# verbose flag = True\n",
    "# password is missing in the agruments\n",
    "# Prompt to enter password: (we can use the `getpass` library to hide input)\n",
    "\n",
    "ca_domain_client = sy.login(\n",
    "    url=\"https://ca.openmined.org\", email=\"sheldon@caltech.edu\", \n",
    "    port=8081, verbose=True\n",
    ")"
   ]
  },
  {
   "cell_type": "code",
   "execution_count": 15,
   "id": "4d8260ce",
   "metadata": {},
   "outputs": [
    {
     "name": "stdout",
     "output_type": "stream",
     "text": [
      "Please enter your password: ········\n",
      "\n",
      "Connecting to\u001b[1m https://ca.openmined.com \u001b[0m\n",
      "Logging into Canada Domain... \u001b[92m Logged in 🥳\u001b[0m!! \n",
      "Logged in as \u001b[1msheldon@caltech.edu\u001b[0m\n",
      "\n"
     ]
    }
   ],
   "source": [
    "# verbose flag = True\n",
    "# password is missing in the login arguments,\n",
    "# Prompt to enter password: (use `getpass` to hide input)\n",
    "# If the enter password is correct, login them in.\n",
    "\n",
    "ca_domain_client = sy.login(\n",
    "    url=\"https://ca.openmined.org\", email=\"sheldon@caltech.edu\", \n",
    "    port=8081, verbose=True\n",
    ")"
   ]
  },
  {
   "cell_type": "code",
   "execution_count": 23,
   "id": "1f2fc12d",
   "metadata": {},
   "outputs": [
    {
     "name": "stdout",
     "output_type": "stream",
     "text": [
      "\n",
      "Connecting to\u001b[1m https://ca.openmined.com \u001b[0m\n",
      "Logging into Canada Domain... \u001b[92m\n",
      "\n",
      "\u001b[91mAuthentication Failed:\n",
      "\u001b[0m  Your email and password do not match. Please try again.\n",
      "\n"
     ]
    }
   ],
   "source": [
    "# Scenario: IV\n",
    "# verbose flag = True\n",
    "# password is missing in the login arguments,\n",
    "# If email or password don't match.\n",
    "# throw an Authentication failure message\n",
    "\n",
    "ca_domain_client = sy.login(\n",
    "    url=\"https://ca.openmined.org\", email=\"sheldon@caltech.edu\",\n",
    "    password=\"wrongpassword\", port=8081, verbose=True\n",
    ")"
   ]
  },
  {
   "cell_type": "code",
   "execution_count": 3,
   "id": "0d1e6cb1",
   "metadata": {},
   "outputs": [
    {
     "name": "stdout",
     "output_type": "stream",
     "text": [
      "\n",
      "Connecting to\u001b[1m https://ca.openmined.com \u001b[0m\n",
      "Logging into Canada Domain... \u001b[92m Logged in 🥳\u001b[0m!! \n",
      "Logged in as \u001b[1mGUEST USER\u001b[0m\n",
      "\n",
      "Explore! See what datasets are on this domain by using the command:\n",
      "    `data_scientist_node.datasets`.\n",
      "When you're ready to begin your data science project you can create an account by calling:\n",
      "    `syft.register()`\n",
      "\n"
     ]
    }
   ],
   "source": [
    "# Scenario: V\n",
    "# verbose flag = True\n",
    "# email is missing or is empty\n",
    "# login the user as a guest\n",
    "\n",
    "ca_domain_client = sy.login(\n",
    "    url=\"https://ca.openmined.org\", port=8081, verbose=True\n",
    ")"
   ]
  },
  {
   "cell_type": "code",
   "execution_count": 8,
   "id": "abd3ebd9",
   "metadata": {},
   "outputs": [
    {
     "name": "stdout",
     "output_type": "stream",
     "text": [
      "\n",
      "Logging into Canada Domain... \u001b[92m Logged in 🥳\u001b[0m!! \n",
      "Logged in as \u001b[1mGUEST USER\u001b[0m\n",
      "\n",
      "Explore! See what datasets are on this domain by using the command: \n",
      "    `data_scientist_node.datasets`.\n",
      "When you're ready to begin your data science project you can create an account by calling:\n",
      "    \u001b[1m`network = sy.networks[0]`\u001b[0m # Select your network\n",
      "    \u001b[1m`domain_proxy_client = network.domains[0]`\u001b[0m # Select the domain you want to register\n",
      "    \u001b[1m`domain_proxy_client.register`\u001b[0m # Call the .register method to create an account on the domain node\n",
      "\n"
     ]
    }
   ],
   "source": [
    "# verbose flag = True\n",
    "# email is missing or is empty\n",
    "# login the user as a guest\n",
    "# Entering as a guest user through the network\n",
    "\n",
    "network_client = sy.networks[0] # Selecting the first network node\n",
    "domain_proxy_client = network_client[0] # Select the first domain node in the network\n",
    "domain_client = domain_proxy_client.login(verbose=True)"
   ]
  },
  {
   "cell_type": "code",
   "execution_count": 9,
   "id": "dfae7e97",
   "metadata": {},
   "outputs": [
    {
     "name": "stdout",
     "output_type": "stream",
     "text": [
      "\n",
      "Logging into Canada Domain... \u001b[92m Logged in 🥳\u001b[0m!! \n",
      "Logged in as \u001b[1msheldon@caltech.edu\u001b[0m\n",
      "\n"
     ]
    }
   ],
   "source": [
    "# verbose flag = True\n",
    "# email is missing or is empty\n",
    "# login using email and password\n",
    "# Entering as an authenticated user through the network\n",
    "\n",
    "network_client = sy.networks[0] # Selecting the first network node\n",
    "domain_proxy_client = network_client[0] # Select the first domain node in the network\n",
    "\n",
    "# The user doesn't need to specify the url/port to the domain.\n",
    "# They just need to enter the email and password\n",
    "domain_client = domain_proxy_client.login(\n",
    "    email=\"sheldon@caltech.edu\", password=\"bazinga\", verbose=True\n",
    ")"
   ]
  },
  {
   "cell_type": "code",
   "execution_count": 16,
   "id": "5225d10d",
   "metadata": {},
   "outputs": [
    {
     "name": "stdout",
     "output_type": "stream",
     "text": [
      "\n",
      "Connecting to\u001b[1m https://ca.openmined.com \u001b[0m\n",
      "\n",
      "\u001b[91mConnectionError:\u001b[0m    \n",
      "    Oops !!! We can't seem to find the domain you're looking for.\n",
      "    Please try the following options:\n",
      "    - Please check the `url`/`port` you entered are correct.\n",
      "    - Please contact the source where you obtained the URL.\n",
      "    - The domain node could be offline at the current moment. Please try again later.\n",
      "\n"
     ]
    }
   ],
   "source": [
    "# Scenario: VI\n",
    "# If a user tries to login into a domain node and\n",
    "# the Domain is either offline or not reachable\n",
    "# The contact email in the message is of the Domain Organization.\n",
    "\n",
    "ca_domain_client = sy.login(\n",
    "    url=\"https://ca.openmined.org\", email=\"sheldon@caltech.edu\", \n",
    "    password=\"bazinga\", port=8081, verbose=True\n",
    ")"
   ]
  },
  {
   "cell_type": "code",
   "execution_count": 13,
   "id": "5b562095",
   "metadata": {},
   "outputs": [
    {
     "name": "stdout",
     "output_type": "stream",
     "text": [
      "\n",
      "\u001b[91mConnectionError\u001b[0m:\n",
      "    Oops !!! We can't seem to find the domain you're looking for.\n",
      "    Please try the following options:\n",
      "    - The domain node could be offline at the current moment. Please try again later.\n",
      "\n"
     ]
    }
   ],
   "source": [
    "# User access a network node\n",
    "# User acesses a domain node\n",
    "# But the domain node is unavailabe or offline\n",
    "\n",
    "network_client = sy.networks[0] # Selecting the first network node\n",
    "domain_proxy_client = network_client[0] # Select the first domain node in the network"
   ]
  },
  {
   "cell_type": "code",
   "execution_count": 13,
   "id": "ada4a5b7",
   "metadata": {},
   "outputs": [
    {
     "name": "stdout",
     "output_type": "stream",
     "text": [
      "\n",
      "\u001b[91mConnectionError:\u001b[0m\n",
      "    The network node seems to be offline at the current moment.\n",
      "    Please contact \u001b[1msupport@openmined.org\u001b[0m for further assistance.\n",
      "\n"
     ]
    }
   ],
   "source": [
    "# User tries access a network node\n",
    "# But the node is unavailabe or offline\n",
    "# Currently the information of the available networks is hardcoded and maintained by OpenMined.\n",
    "# Therefore raising a more generic error with support email as OpenMined.\n",
    "# TODO: Need to revisit this once we map out the details of Networks and its login flow.\n",
    "\n",
    "network_client = sy.networks[0] # Selecting the first network node"
   ]
  },
  {
   "cell_type": "markdown",
   "id": "0ba158e7",
   "metadata": {},
   "source": [
    "#### Dummy Data"
   ]
  },
  {
   "cell_type": "code",
   "execution_count": 1,
   "id": "e6042a9d",
   "metadata": {},
   "outputs": [],
   "source": [
    "import pandas as pd\n",
    "from enum import Enum\n",
    "import uuid\n",
    "from getpass import getpass\n",
    "\n",
    "\n",
    "class bcolors(Enum):\n",
    "    HEADER = \"\\033[95m\"\n",
    "    OKBLUE = \"\\033[94m\"\n",
    "    OKCYAN = \"\\033[96m\"\n",
    "    OKGREEN = \"\\033[92m\"\n",
    "    WARNING = \"\\033[93m\"\n",
    "    FAIL = \"\\033[91m\"\n",
    "    ENDC = \"\\033[0m\"\n",
    "    BOLD = \"\\033[1m\"\n",
    "    UNDERLINE = \"\\033[4m\""
   ]
  },
  {
   "cell_type": "code",
   "execution_count": 7,
   "id": "2571f810",
   "metadata": {},
   "outputs": [
    {
     "name": "stdout",
     "output_type": "stream",
     "text": [
      "Please enter your password: ········\n"
     ]
    }
   ],
   "source": [
    "# domain logging\n",
    "\n",
    "domain_login_message = f\"\"\"\n",
    "Logging into Canada Domain... {bcolors.OKGREEN.value} Logged in 🥳{bcolors.ENDC.value}!!\n",
    "\"\"\"\n",
    "\n",
    "domain_login_message_verbose = f\"\"\"\n",
    "Connecting to{bcolors.BOLD.value} https://ca.openmined.com {bcolors.ENDC.value}\n",
    "Logging into Canada Domain... {bcolors.OKGREEN.value} Logged in 🥳{bcolors.ENDC.value}!! \n",
    "Logged in as {bcolors.BOLD.value}sheldon@caltech.edu{bcolors.ENDC.value}\n",
    "\"\"\"\n",
    "\n",
    "\n",
    "password_missing = f\"\"\"{getpass(\"Please enter your password: \")}\"\"\"\n",
    "\n",
    "domain_email_pwd_is_wrong = f\"\"\"\n",
    "Connecting to{bcolors.BOLD.value} https://ca.openmined.com {bcolors.ENDC.value}\n",
    "Logging into Canada Domain... {bcolors.OKGREEN.value}\n",
    "\n",
    "{bcolors.FAIL.value}Authentication Failed:\n",
    "{bcolors.ENDC.value}  Your email and password do not match. Please try again.\n",
    "\"\"\"\n",
    "\n",
    "domain_login_message_via_network = f\"\"\"\n",
    "Logging into Canada Domain... {bcolors.OKGREEN.value} Logged in 🥳{bcolors.ENDC.value}!! \n",
    "Logged in as {bcolors.BOLD.value}sheldon@caltech.edu{bcolors.ENDC.value}\n",
    "\"\"\"\n",
    "\n",
    "domain_as_guest_user = f\"\"\"\n",
    "Connecting to{bcolors.BOLD.value} https://ca.openmined.com {bcolors.ENDC.value}\n",
    "Logging into Canada Domain... {bcolors.OKGREEN.value} Logged in 🥳{bcolors.ENDC.value}!! \n",
    "Logged in as {bcolors.BOLD.value}GUEST USER{bcolors.ENDC.value}\n",
    "\n",
    "Explore! See what datasets are on this domain by using the command:\n",
    "    `data_scientist_node.datasets`.\n",
    "When you're ready to begin your data science project you can create an account by calling:\n",
    "    `syft.register()`\n",
    "\"\"\"\n",
    "\n",
    "domain_as_guest_user_via_network = f\"\"\"\n",
    "Logging into Canada Domain... {bcolors.OKGREEN.value} Logged in 🥳{bcolors.ENDC.value}!! \n",
    "Logged in as {bcolors.BOLD.value}GUEST USER{bcolors.ENDC.value}\n",
    "\n",
    "Explore! See what datasets are on this domain by using the command: \n",
    "    `data_scientist_node.datasets`.\n",
    "When you're ready to begin your data science project you can create an account by calling:\n",
    "    {bcolors.BOLD.value}`network = sy.networks[0]`{bcolors.ENDC.value} # Select your network\n",
    "    {bcolors.BOLD.value}`domain_proxy_client = network.domains[0]`{bcolors.ENDC.value} # Select the domain you want to register\n",
    "    {bcolors.BOLD.value}`domain_proxy_client.register`{bcolors.ENDC.value} # Call the .register method to create an account on the domain node\n",
    "\"\"\""
   ]
  },
  {
   "cell_type": "code",
   "execution_count": 14,
   "id": "e05c5646",
   "metadata": {},
   "outputs": [],
   "source": [
    "domain_is_offline = f\"\"\"\n",
    "Connecting to{bcolors.BOLD.value} https://ca.openmined.com {bcolors.ENDC.value}\n",
    "\n",
    "{bcolors.FAIL.value}ConnectionError:{bcolors.ENDC.value}    \n",
    "    Oops !!! We can't seem to find the domain you're looking for.\n",
    "    Please try the following options:\n",
    "    - Please check the `url`/`port` you entered are correct.\n",
    "    - Please contact the source where you obtained the URL.\n",
    "    - The domain node could be offline at the current moment. Please try again later.\n",
    "\"\"\"\n",
    "\n",
    "network_is_offline = f\"\"\"\n",
    "{bcolors.FAIL.value}ConnectionError:{bcolors.ENDC.value}\n",
    "    Oops !!! The network node seems to be offline at the current moment.\n",
    "    Please contact {bcolors.BOLD.value}support@openmined.org{bcolors.ENDC.value} for further assistance.\n",
    "\"\"\""
   ]
  },
  {
   "cell_type": "code",
   "execution_count": 15,
   "id": "28ea41d8",
   "metadata": {},
   "outputs": [
    {
     "name": "stdout",
     "output_type": "stream",
     "text": [
      "\n",
      "Connecting to\u001b[1m https://ca.openmined.com \u001b[0m\n",
      "\n",
      "\u001b[91mConnectionError:\u001b[0m    \n",
      "    Oops !!! We can't seem to find the domain you're looking for.\n",
      "    Please try the following options:\n",
      "    - Please check the `url`/`port` you entered are correct.\n",
      "    - Please contact the source where you obtained the URL.\n",
      "    - The domain node could be offline at the current moment. Please try again later.\n",
      "\n"
     ]
    }
   ],
   "source": [
    "print(domain_is_offline)"
   ]
  },
  {
   "cell_type": "code",
   "execution_count": 12,
   "id": "c774f4f4",
   "metadata": {},
   "outputs": [],
   "source": [
    "domain_is_offline_part_of_network = f\"\"\"\n",
    "{bcolors.FAIL.value}ConnectionError{bcolors.ENDC.value}:\n",
    "    Oops !!! We can't seem to find the domain you're looking for.\n",
    "    Please try the following options:\n",
    "    - The domain node could be offline at the current moment. Please try again later.\n",
    "\"\"\""
   ]
  },
  {
   "cell_type": "code",
   "execution_count": null,
   "id": "463116f3",
   "metadata": {},
   "outputs": [],
   "source": []
  }
 ],
 "metadata": {
  "kernelspec": {
   "display_name": "Python 3 (ipykernel)",
   "language": "python",
   "name": "python3"
  },
  "language_info": {
   "codemirror_mode": {
    "name": "ipython",
    "version": 3
   },
   "file_extension": ".py",
   "mimetype": "text/x-python",
   "name": "python",
   "nbconvert_exporter": "python",
   "pygments_lexer": "ipython3",
   "version": "3.9.7"
  }
 },
 "nbformat": 4,
 "nbformat_minor": 5
}

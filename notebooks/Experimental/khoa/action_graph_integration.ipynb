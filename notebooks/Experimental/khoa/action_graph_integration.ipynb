{
 "cells": [
  {
   "cell_type": "code",
   "execution_count": 1,
   "id": "4442fb25",
   "metadata": {},
   "outputs": [
    {
     "name": "stderr",
     "output_type": "stream",
     "text": [
      "kj/filesystem-disk-unix.c++:1703: warning: PWD environment variable doesn't match current directory; pwd = /home/dk/Desktop/projects/PySyft\n"
     ]
    }
   ],
   "source": [
    "import syft as sy\n",
    "from syft.service.action.action_graph_service import ActionGraphService, NodeActionDataUpdate, ExecutionStatus\n",
    "from syft.service.action.action_graph import InMemoryActionGraphStore, InMemoryGraphConfig, InMemoryStoreClientConfig\n",
    "\n",
    "from syft.service.context import AuthedServiceContext\n",
    "from syft.node.credentials import SyftSigningKey\n",
    "from syft.service.action.action_graph import Action\n",
    "from syft.service.action.numpy import NumpyArrayObject, ActionObject\n",
    "import numpy as np\n",
    "import matplotlib.pyplot as plt\n",
    "import networkx as nx"
   ]
  },
  {
   "cell_type": "code",
   "execution_count": 2,
   "id": "3e0b88c5",
   "metadata": {},
   "outputs": [],
   "source": [
    "# Create a Config\n",
    "store_config = InMemoryGraphConfig()\n",
    "# Initialize the InMemory Store\n",
    "graph_store = InMemoryActionGraphStore(store_config=store_config, reset=True)\n",
    "# Get the networkx graph\n",
    "G = graph_store.graph.db\n",
    "# Action graph service\n",
    "action_graph_service = ActionGraphService(store=graph_store)\n",
    "signing_key = SyftSigningKey.generate()\n",
    "authed_context = AuthedServiceContext(credentials=signing_key.verify_key)"
   ]
  },
  {
   "cell_type": "code",
   "execution_count": 3,
   "id": "d218944b",
   "metadata": {},
   "outputs": [],
   "source": [
    "action_obj_a = ActionObject.from_obj([2, 4, 6])\n",
    "action_obj_b = ActionObject.from_obj([2, 3, 4])"
   ]
  },
  {
   "cell_type": "code",
   "execution_count": 7,
   "id": "aed90d3b",
   "metadata": {},
   "outputs": [
    {
     "name": "stdout",
     "output_type": "stream",
     "text": [
      "Object `authed_context.node.get_service_method` not found.\n"
     ]
    }
   ],
   "source": [
    "authed_context.node.get_service_method??"
   ]
  },
  {
   "cell_type": "code",
   "execution_count": 5,
   "id": "45ea3459",
   "metadata": {},
   "outputs": [
    {
     "ename": "AssertionError",
     "evalue": "",
     "output_type": "error",
     "traceback": [
      "\u001b[0;31m---------------------------------------------------------------------------\u001b[0m",
      "\u001b[0;31mAssertionError\u001b[0m                            Traceback (most recent call last)",
      "Cell \u001b[0;32mIn[5], line 1\u001b[0m\n\u001b[0;32m----> 1\u001b[0m \u001b[38;5;28;01massert\u001b[39;00m \u001b[38;5;28mlen\u001b[39m(action_graph_service\u001b[38;5;241m.\u001b[39mget_all_nodes(authed_context)) \u001b[38;5;241m==\u001b[39m \u001b[38;5;241m2\u001b[39m\n\u001b[1;32m      2\u001b[0m \u001b[38;5;28;01massert\u001b[39;00m \u001b[38;5;28mlen\u001b[39m(action_graph_service\u001b[38;5;241m.\u001b[39mget_all_edges(authed_context)) \u001b[38;5;241m==\u001b[39m \u001b[38;5;241m0\u001b[39m\n",
      "\u001b[0;31mAssertionError\u001b[0m: "
     ]
    }
   ],
   "source": [
    "assert len(action_graph_service.get_all_nodes(authed_context)) == 2\n",
    "assert len(action_graph_service.get_all_edges(authed_context)) == 0"
   ]
  },
  {
   "cell_type": "code",
   "execution_count": null,
   "id": "97e61fcf",
   "metadata": {},
   "outputs": [],
   "source": []
  },
  {
   "cell_type": "code",
   "execution_count": 2,
   "id": "5d7caab6",
   "metadata": {},
   "outputs": [],
   "source": [
    "worker = sy.Worker.named(name=\"test\")"
   ]
  },
  {
   "cell_type": "code",
   "execution_count": 3,
   "id": "7915394e",
   "metadata": {},
   "outputs": [],
   "source": [
    "action_service = worker.get_service(\"actionservice\")\n",
    "action_store = action_service.store\n",
    "authed_context = AuthedServiceContext(node=worker, \n",
    "                                      credentials=worker.signing_key.verify_key)\n"
   ]
  },
  {
   "cell_type": "code",
   "execution_count": 6,
   "id": "c0d1adf7",
   "metadata": {},
   "outputs": [
    {
     "ename": "KeyError",
     "evalue": "'actiongraphservice'",
     "output_type": "error",
     "traceback": [
      "\u001b[0;31m---------------------------------------------------------------------------\u001b[0m",
      "\u001b[0;31mKeyError\u001b[0m                                  Traceback (most recent call last)",
      "Cell \u001b[0;32mIn[6], line 2\u001b[0m\n\u001b[1;32m      1\u001b[0m obj \u001b[38;5;241m=\u001b[39m ActionObject\u001b[38;5;241m.\u001b[39mfrom_obj(\u001b[38;5;124m\"\u001b[39m\u001b[38;5;124mabc\u001b[39m\u001b[38;5;124m\"\u001b[39m)\n\u001b[0;32m----> 2\u001b[0m pointer \u001b[38;5;241m=\u001b[39m \u001b[43maction_service\u001b[49m\u001b[38;5;241;43m.\u001b[39;49m\u001b[43mset\u001b[49m\u001b[43m(\u001b[49m\u001b[43mauthed_context\u001b[49m\u001b[43m,\u001b[49m\u001b[43m \u001b[49m\u001b[43mobj\u001b[49m\u001b[43m)\u001b[49m\u001b[38;5;241m.\u001b[39mok()\n",
      "File \u001b[0;32m~/Desktop/projects/PySyft/packages/syft/src/syft/service/service.py:332\u001b[0m, in \u001b[0;36mservice_method.<locals>.wrapper.<locals>._decorator\u001b[0;34m(self, *args, **kwargs)\u001b[0m\n\u001b[1;32m    325\u001b[0m \u001b[38;5;28;01mif\u001b[39;00m autosplat \u001b[38;5;129;01mis\u001b[39;00m \u001b[38;5;129;01mnot\u001b[39;00m \u001b[38;5;28;01mNone\u001b[39;00m \u001b[38;5;129;01mand\u001b[39;00m \u001b[38;5;28mlen\u001b[39m(autosplat) \u001b[38;5;241m>\u001b[39m \u001b[38;5;241m0\u001b[39m:\n\u001b[1;32m    326\u001b[0m     args, kwargs \u001b[38;5;241m=\u001b[39m reconstruct_args_kwargs(\n\u001b[1;32m    327\u001b[0m         signature\u001b[38;5;241m=\u001b[39minput_signature,\n\u001b[1;32m    328\u001b[0m         autosplat\u001b[38;5;241m=\u001b[39mautosplat,\n\u001b[1;32m    329\u001b[0m         args\u001b[38;5;241m=\u001b[39margs,\n\u001b[1;32m    330\u001b[0m         kwargs\u001b[38;5;241m=\u001b[39mkwargs,\n\u001b[1;32m    331\u001b[0m     )\n\u001b[0;32m--> 332\u001b[0m \u001b[38;5;28;01mreturn\u001b[39;00m \u001b[43mfunc\u001b[49m\u001b[43m(\u001b[49m\u001b[38;5;28;43mself\u001b[39;49m\u001b[43m,\u001b[49m\u001b[43m \u001b[49m\u001b[38;5;241;43m*\u001b[39;49m\u001b[43margs\u001b[49m\u001b[43m,\u001b[49m\u001b[43m \u001b[49m\u001b[38;5;241;43m*\u001b[39;49m\u001b[38;5;241;43m*\u001b[39;49m\u001b[43mkwargs\u001b[49m\u001b[43m)\u001b[49m\n",
      "File \u001b[0;32m~/Desktop/projects/PySyft/packages/syft/src/syft/service/action/action_service.py:72\u001b[0m, in \u001b[0;36mActionService.set\u001b[0;34m(self, context, action_object)\u001b[0m\n\u001b[1;32m     66\u001b[0m \u001b[38;5;66;03m# 🟡 TODO 9: Create some kind of type checking / protocol for SyftSerializable\u001b[39;00m\n\u001b[1;32m     67\u001b[0m result \u001b[38;5;241m=\u001b[39m \u001b[38;5;28mself\u001b[39m\u001b[38;5;241m.\u001b[39mstore\u001b[38;5;241m.\u001b[39mset(\n\u001b[1;32m     68\u001b[0m     uid\u001b[38;5;241m=\u001b[39maction_object\u001b[38;5;241m.\u001b[39mid,\n\u001b[1;32m     69\u001b[0m     credentials\u001b[38;5;241m=\u001b[39mcontext\u001b[38;5;241m.\u001b[39mcredentials,\n\u001b[1;32m     70\u001b[0m     syft_object\u001b[38;5;241m=\u001b[39maction_object,\n\u001b[1;32m     71\u001b[0m )\n\u001b[0;32m---> 72\u001b[0m method \u001b[38;5;241m=\u001b[39m \u001b[43mcontext\u001b[49m\u001b[38;5;241;43m.\u001b[39;49m\u001b[43mnode\u001b[49m\u001b[38;5;241;43m.\u001b[39;49m\u001b[43mget_service_method\u001b[49m\u001b[43m(\u001b[49m\u001b[43mActionGraphService\u001b[49m\u001b[38;5;241;43m.\u001b[39;49m\u001b[43madd_action_obj\u001b[49m\u001b[43m)\u001b[49m\n\u001b[1;32m     73\u001b[0m \u001b[38;5;28mprint\u001b[39m(method)\n\u001b[1;32m     74\u001b[0m \u001b[38;5;28;01mif\u001b[39;00m result\u001b[38;5;241m.\u001b[39mis_ok():\n",
      "File \u001b[0;32m~/Desktop/projects/PySyft/packages/syft/src/syft/node/node.py:445\u001b[0m, in \u001b[0;36mNode.get_service_method\u001b[0;34m(self, path_or_func)\u001b[0m\n\u001b[1;32m    443\u001b[0m \u001b[38;5;28;01mif\u001b[39;00m callable(path_or_func):\n\u001b[1;32m    444\u001b[0m     path_or_func \u001b[38;5;241m=\u001b[39m path_or_func\u001b[38;5;241m.\u001b[39m\u001b[38;5;18m__qualname__\u001b[39m\n\u001b[0;32m--> 445\u001b[0m \u001b[38;5;28;01mreturn\u001b[39;00m \u001b[38;5;28;43mself\u001b[39;49m\u001b[38;5;241;43m.\u001b[39;49m\u001b[43m_get_service_method_from_path\u001b[49m\u001b[43m(\u001b[49m\u001b[43mpath_or_func\u001b[49m\u001b[43m)\u001b[49m\n",
      "File \u001b[0;32m~/Desktop/projects/PySyft/packages/syft/src/syft/node/node.py:462\u001b[0m, in \u001b[0;36mNode._get_service_method_from_path\u001b[0;34m(self, path)\u001b[0m\n\u001b[1;32m    460\u001b[0m path_list \u001b[38;5;241m=\u001b[39m path\u001b[38;5;241m.\u001b[39msplit(\u001b[38;5;124m\"\u001b[39m\u001b[38;5;124m.\u001b[39m\u001b[38;5;124m\"\u001b[39m)\n\u001b[1;32m    461\u001b[0m method_name \u001b[38;5;241m=\u001b[39m path_list\u001b[38;5;241m.\u001b[39mpop()\n\u001b[0;32m--> 462\u001b[0m service_obj \u001b[38;5;241m=\u001b[39m \u001b[38;5;28;43mself\u001b[39;49m\u001b[38;5;241;43m.\u001b[39;49m\u001b[43m_get_service_from_path\u001b[49m\u001b[43m(\u001b[49m\u001b[43mpath\u001b[49m\u001b[38;5;241;43m=\u001b[39;49m\u001b[43mpath\u001b[49m\u001b[43m)\u001b[49m\n\u001b[1;32m    464\u001b[0m \u001b[38;5;28;01mreturn\u001b[39;00m \u001b[38;5;28mgetattr\u001b[39m(service_obj, method_name)\n",
      "File \u001b[0;32m~/Desktop/projects/PySyft/packages/syft/src/syft/node/node.py:457\u001b[0m, in \u001b[0;36mNode._get_service_from_path\u001b[0;34m(self, path)\u001b[0m\n\u001b[1;32m    455\u001b[0m     _ \u001b[38;5;241m=\u001b[39m path_list\u001b[38;5;241m.\u001b[39mpop()\n\u001b[1;32m    456\u001b[0m service_name \u001b[38;5;241m=\u001b[39m path_list\u001b[38;5;241m.\u001b[39mpop()\n\u001b[0;32m--> 457\u001b[0m \u001b[38;5;28;01mreturn\u001b[39;00m \u001b[38;5;28;43mself\u001b[39;49m\u001b[38;5;241;43m.\u001b[39;49m\u001b[43mservice_path_map\u001b[49m\u001b[43m[\u001b[49m\u001b[43mservice_name\u001b[49m\u001b[38;5;241;43m.\u001b[39;49m\u001b[43mlower\u001b[49m\u001b[43m(\u001b[49m\u001b[43m)\u001b[49m\u001b[43m]\u001b[49m\n",
      "\u001b[0;31mKeyError\u001b[0m: 'actiongraphservice'"
     ]
    }
   ],
   "source": [
    "obj = ActionObject.from_obj(\"abc\")\n",
    "pointer = action_service.set(authed_context, obj).ok()"
   ]
  },
  {
   "cell_type": "code",
   "execution_count": 5,
   "id": "6152664e",
   "metadata": {},
   "outputs": [
    {
     "ename": "NameError",
     "evalue": "name 'pointer' is not defined",
     "output_type": "error",
     "traceback": [
      "\u001b[0;31m---------------------------------------------------------------------------\u001b[0m",
      "\u001b[0;31mNameError\u001b[0m                                 Traceback (most recent call last)",
      "Cell \u001b[0;32mIn[5], line 1\u001b[0m\n\u001b[0;32m----> 1\u001b[0m \u001b[43mpointer\u001b[49m\n",
      "\u001b[0;31mNameError\u001b[0m: name 'pointer' is not defined"
     ]
    }
   ],
   "source": [
    "pointer"
   ]
  },
  {
   "cell_type": "code",
   "execution_count": null,
   "id": "91f6edae",
   "metadata": {},
   "outputs": [],
   "source": []
  }
 ],
 "metadata": {
  "kernelspec": {
   "display_name": "Python 3 (ipykernel)",
   "language": "python",
   "name": "python3"
  },
  "language_info": {
   "codemirror_mode": {
    "name": "ipython",
    "version": 3
   },
   "file_extension": ".py",
   "mimetype": "text/x-python",
   "name": "python",
   "nbconvert_exporter": "python",
   "pygments_lexer": "ipython3",
   "version": "3.10.8"
  }
 },
 "nbformat": 4,
 "nbformat_minor": 5
}

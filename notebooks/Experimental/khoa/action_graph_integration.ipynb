{
 "cells": [
  {
   "cell_type": "markdown",
   "id": "4e18d8ba",
   "metadata": {},
   "source": [
    "# Integrating `Action Graph Service` into `Action` and `ActionObject` Creation\n",
    "\n",
    "We aim to add an action node whenever an action occurs, or when an action object is created"
   ]
  },
  {
   "cell_type": "code",
   "execution_count": 1,
   "id": "778c4dc9",
   "metadata": {},
   "outputs": [
    {
     "name": "stderr",
     "output_type": "stream",
     "text": [
      "kj/filesystem-disk-unix.c++:1703: warning: PWD environment variable doesn't match current directory; pwd = /home/dk/Desktop/projects/PySyft\n"
     ]
    }
   ],
   "source": [
    "import syft as sy\n",
    "from syft.service.action.action_graph_service import ActionGraphService\n",
    "from syft.service.action.action_graph import InMemoryActionGraphStore, InMemoryGraphConfig, InMemoryStoreClientConfig\n",
    "from syft.service.context import AuthedServiceContext\n",
    "from syft.node.credentials import SyftSigningKey\n",
    "from syft.service.action.action_graph import Action\n",
    "from syft.service.action.numpy import NumpyArrayObject, ActionObject\n",
    "from syft.service.response import SyftError\n",
    "from syft.types.syft_object import SyftObjectRegistry\n",
    "\n",
    "import numpy as np\n",
    "import matplotlib.pyplot as plt\n",
    "import networkx as nx\n",
    "import pandas as pd\n",
    "from pprint import pprint"
   ]
  },
  {
   "cell_type": "markdown",
   "id": "c2b4f9fc",
   "metadata": {},
   "source": [
    "#### Initializing a node"
   ]
  },
  {
   "cell_type": "code",
   "execution_count": 2,
   "id": "5d7caab6",
   "metadata": {},
   "outputs": [],
   "source": [
    "worker = sy.Worker.named(name=\"test\")\n",
    "authed_context = AuthedServiceContext(node=worker, \n",
    "                                      credentials=worker.signing_key.verify_key)\n",
    "\n",
    "# node = sy.orchestra.launch(name=\"test-domain-1\", port=8080, dev_mode=True, reset=True)\n",
    "# domain_client = node.login(email=\"info@openmined.org\", password=\"changethis\")"
   ]
  },
  {
   "cell_type": "code",
   "execution_count": 3,
   "id": "a4611ced",
   "metadata": {},
   "outputs": [],
   "source": [
    "root_client = worker.root_client\n",
    "guest_client = worker.guest_client\n",
    "ds = root_client.register(name=\"data scientist\", \n",
    "                          email=\"ds.openmined.org\",\n",
    "                          password=\"abc\")\n",
    "assert root_client.credentials != guest_client.credentials"
   ]
  },
  {
   "cell_type": "markdown",
   "id": "ad48ff60",
   "metadata": {},
   "source": [
    "#### Get the node's `action_service` and `action_graph_service`"
   ]
  },
  {
   "cell_type": "code",
   "execution_count": 4,
   "id": "f9ba82de",
   "metadata": {},
   "outputs": [
    {
     "name": "stdout",
     "output_type": "stream",
     "text": [
      "<syft.service.action.action_store.DictActionStore object at 0x7f9ff1bbd480>\n",
      "<syft.service.action.action_graph.InMemoryActionGraphStore object at 0x7f9ff1bbd8d0>\n"
     ]
    }
   ],
   "source": [
    "action_service = worker.get_service(\"actionservice\")\n",
    "action_graph_service = worker.get_service(\"actiongraphservice\")\n",
    "print(action_service.store)\n",
    "print(action_graph_service.store)"
   ]
  },
  {
   "cell_type": "code",
   "execution_count": 5,
   "id": "cf07f786",
   "metadata": {},
   "outputs": [],
   "source": [
    "assert isinstance(action_graph_service, ActionGraphService)\n",
    "assert isinstance(action_graph_service.store, InMemoryActionGraphStore)"
   ]
  },
  {
   "cell_type": "markdown",
   "id": "839b0697",
   "metadata": {},
   "source": [
    "#### There are 2 places where we add a new `action_object`:\n",
    "    - when we upload a new dataset\n",
    "    - when someone send a piece of data to us\n",
    "Note that we can add an `action_node` in `action_service.set`, but this may create duplications"
   ]
  },
  {
   "cell_type": "markdown",
   "id": "c0f8c99d",
   "metadata": {},
   "source": [
    "#### First scenario: Create and upload a dataset"
   ]
  },
  {
   "cell_type": "code",
   "execution_count": 6,
   "id": "e5aee5e6",
   "metadata": {},
   "outputs": [],
   "source": [
    "num_assets = 2"
   ]
  },
  {
   "cell_type": "code",
   "execution_count": 7,
   "id": "37217a4f",
   "metadata": {},
   "outputs": [],
   "source": [
    "dataset = sy.Dataset(name=\"Test Dataset\")\n",
    "dataset.set_description(\"\"\"Test Dataset\"\"\")\n",
    "dataset.add_citation(\"Person, place or thing\")\n",
    "\n",
    "country = sy.DataSubject(name=\"Country\", aliases=[\"country_code\"])\n",
    "canada = sy.DataSubject(name=\"Canada\", aliases=[\"country_code:ca\"])\n",
    "country.add_member(canada)\n",
    "registry = root_client.data_subject_registry\n",
    "response = registry.add_data_subject(country)\n",
    "\n",
    "for i in range(num_assets):\n",
    "    data = pd.DataFrame(np.random.randint(0, 100, size=(10, 4)), \n",
    "                      columns=list('ABCD'))\n",
    "    mock = pd.DataFrame(np.random.randint(0, 100, size=(10, 4)), \n",
    "                      columns=list('ABCD'))\n",
    "\n",
    "    ctf = sy.Asset(name=f\"test_dataset_{i}\")\n",
    "    ctf.set_description(\"\"\"all the datas\"\"\")\n",
    "    ctf.set_obj(data)\n",
    "    ctf.set_shape((10, 4))\n",
    "    ctf.add_data_subject(canada)\n",
    "    ctf.set_mock(mock, mock_is_real=False)\n",
    "    dataset.add_asset(ctf)"
   ]
  },
  {
   "cell_type": "code",
   "execution_count": 8,
   "id": "d025d248",
   "metadata": {},
   "outputs": [
    {
     "name": "stderr",
     "output_type": "stream",
     "text": [
      "100%|██████████████████████████████████████████████████████████████████████████████████████████████████████████| 2/2 [00:00<00:00, 39.27it/s]"
     ]
    },
    {
     "name": "stdout",
     "output_type": "stream",
     "text": [
      "Uploading: test_dataset_0\n",
      "Uploading: test_dataset_1\n"
     ]
    },
    {
     "name": "stderr",
     "output_type": "stream",
     "text": [
      "\n"
     ]
    },
    {
     "data": {
      "text/html": [
       "<div class=\"alert-success\" style=\"padding:5px;\"><strong>SyftSuccess</strong>: Dataset Added</div><br />"
      ],
      "text/plain": [
       "<class 'syft.service.response.SyftSuccess'>: Dataset Added"
      ]
     },
     "execution_count": 8,
     "metadata": {},
     "output_type": "execute_result"
    }
   ],
   "source": [
    "root_client.upload_dataset(dataset)"
   ]
  },
  {
   "cell_type": "code",
   "execution_count": 9,
   "id": "9f6f9ed2",
   "metadata": {},
   "outputs": [
    {
     "data": {
      "image/png": "[encoded data removed]",
      "text/plain": [
       "<Figure size 2000x1000 with 1 Axes>"
      ]
     },
     "metadata": {},
     "output_type": "display_data"
    }
   ],
   "source": [
    "action_graph_service.visualize(context=authed_context)"
   ]
  },
  {
   "cell_type": "code",
   "execution_count": 10,
   "id": "3ad43aa3",
   "metadata": {},
   "outputs": [],
   "source": [
    "assert len(action_graph_service.get_all_nodes(authed_context)) == num_assets"
   ]
  },
  {
   "cell_type": "markdown",
   "id": "17d62bd5",
   "metadata": {},
   "source": [
    "#### Scenario 2: when calling `action_obj.send` method"
   ]
  },
  {
   "cell_type": "code",
   "execution_count": 11,
   "id": "969ec10d",
   "metadata": {},
   "outputs": [],
   "source": [
    "action_obj_a = ActionObject.from_obj([2, 4, 6])"
   ]
  },
  {
   "cell_type": "code",
   "execution_count": 12,
   "id": "a63cab6c",
   "metadata": {},
   "outputs": [
    {
     "data": {
      "text/html": [
       "[2, 4, 6]"
      ],
      "text/markdown": [
       "```python\n",
       "Pointer\n",
       "```\n",
       "[2, 4, 6]"
      ],
      "text/plain": [
       "Pointer:\n",
       "[2, 4, 6]"
      ]
     },
     "execution_count": 12,
     "metadata": {},
     "output_type": "execute_result"
    }
   ],
   "source": [
    "action_obj_a.send(root_client)"
   ]
  },
  {
   "cell_type": "code",
   "execution_count": 13,
   "id": "24c4005c",
   "metadata": {},
   "outputs": [
    {
     "data": {
      "image/png": "[encoded data removed]",
      "text/plain": [
       "<Figure size 2000x1000 with 1 Axes>"
      ]
     },
     "metadata": {},
     "output_type": "display_data"
    }
   ],
   "source": [
    "action_graph_service.visualize(context=authed_context)"
   ]
  },
  {
   "cell_type": "code",
   "execution_count": 14,
   "id": "40233a05",
   "metadata": {},
   "outputs": [],
   "source": [
    "assert action_graph_service.get(action_obj_a.id, authed_context).id == action_obj_a.id"
   ]
  },
  {
   "cell_type": "code",
   "execution_count": 15,
   "id": "0f4f7f47",
   "metadata": {},
   "outputs": [],
   "source": [
    "assert len(action_graph_service.get_all_nodes(authed_context)) == num_assets + 1"
   ]
  },
  {
   "cell_type": "code",
   "execution_count": null,
   "id": "222759ad",
   "metadata": {},
   "outputs": [],
   "source": []
  }
 ],
 "metadata": {
  "kernelspec": {
   "display_name": "Python 3 (ipykernel)",
   "language": "python",
   "name": "python3"
  },
  "language_info": {
   "codemirror_mode": {
    "name": "ipython",
    "version": 3
   },
   "file_extension": ".py",
   "mimetype": "text/x-python",
   "name": "python",
   "nbconvert_exporter": "python",
   "pygments_lexer": "ipython3",
   "version": "3.10.8"
  }
 },
 "nbformat": 4,
 "nbformat_minor": 5
}

{
 "cells": [
  {
   "cell_type": "markdown",
   "id": "4e18d8ba",
   "metadata": {},
   "source": [
    "# Integrating `Action Graph Service` into `Action` and `ActionObject` Creation\n",
    "\n",
    "We aim to add an action node whenever an action occurs, or when an action object is created"
   ]
  },
  {
   "cell_type": "code",
   "execution_count": 1,
   "id": "778c4dc9",
   "metadata": {},
   "outputs": [
    {
     "name": "stderr",
     "output_type": "stream",
     "text": [
      "kj/filesystem-disk-unix.c++:1703: warning: PWD environment variable doesn't match current directory; pwd = /home/dk/Desktop/projects/PySyft\n"
     ]
    }
   ],
   "source": [
    "import syft as sy\n",
    "from syft.service.action.action_graph_service import ActionGraphService\n",
    "from syft.service.action.action_graph import InMemoryActionGraphStore, InMemoryGraphConfig, InMemoryStoreClientConfig\n",
    "from syft.service.context import AuthedServiceContext\n",
    "from syft.node.credentials import SyftSigningKey\n",
    "from syft.service.action.action_graph import Action\n",
    "from syft.service.action.numpy import NumpyArrayObject, ActionObject\n",
    "from syft.service.response import SyftError\n",
    "\n",
    "import numpy as np\n",
    "import matplotlib.pyplot as plt\n",
    "import networkx as nx\n",
    "import pandas as pd"
   ]
  },
  {
   "cell_type": "markdown",
   "id": "c2b4f9fc",
   "metadata": {},
   "source": [
    "#### Initializing a node"
   ]
  },
  {
   "cell_type": "code",
   "execution_count": 2,
   "id": "5d7caab6",
   "metadata": {},
   "outputs": [],
   "source": [
    "worker = sy.Worker.named(name=\"test\")\n",
    "authed_context = AuthedServiceContext(node=worker, \n",
    "                                      credentials=worker.signing_key.verify_key)\n",
    "\n",
    "# node = sy.orchestra.launch(name=\"test-domain-1\", port=8080, dev_mode=True, reset=True)\n",
    "# domain_client = node.login(email=\"info@openmined.org\", password=\"changethis\")"
   ]
  },
  {
   "cell_type": "code",
   "execution_count": 3,
   "id": "a4611ced",
   "metadata": {},
   "outputs": [],
   "source": [
    "root_client = worker.root_client\n",
    "guest_client = worker.guest_client\n",
    "assert root_client.credentials != guest_client.credentials"
   ]
  },
  {
   "cell_type": "markdown",
   "id": "ad48ff60",
   "metadata": {},
   "source": [
    "#### Get the node's `action_service` and `action_graph_service`"
   ]
  },
  {
   "cell_type": "code",
   "execution_count": 4,
   "id": "f9ba82de",
   "metadata": {},
   "outputs": [
    {
     "name": "stdout",
     "output_type": "stream",
     "text": [
      "<syft.service.action.action_store.DictActionStore object at 0x7ff3253a0d30>\n",
      "<syft.service.action.action_graph.InMemoryActionGraphStore object at 0x7ff3253a1480>\n"
     ]
    }
   ],
   "source": [
    "action_service = worker.get_service(\"actionservice\")\n",
    "action_graph_service = worker.get_service(\"actiongraphservice\")\n",
    "print(action_service.store)\n",
    "print(action_graph_service.store)"
   ]
  },
  {
   "cell_type": "code",
   "execution_count": 5,
   "id": "cf07f786",
   "metadata": {},
   "outputs": [],
   "source": [
    "assert isinstance(action_graph_service, ActionGraphService)\n",
    "assert isinstance(action_graph_service.store, InMemoryActionGraphStore)"
   ]
  },
  {
   "cell_type": "markdown",
   "id": "839b0697",
   "metadata": {},
   "source": [
    "#### There are 2 places where we add a new `action_object`:\n",
    "    - when we upload a new dataset\n",
    "    - when someone send a piece of data to us\n",
    "Note that we can add an `action_node` in `action_service.set`, but this may create duplications"
   ]
  },
  {
   "cell_type": "markdown",
   "id": "c0f8c99d",
   "metadata": {},
   "source": [
    "#### First scenario: Create aand upload a dataset"
   ]
  },
  {
   "cell_type": "code",
   "execution_count": 6,
   "id": "37217a4f",
   "metadata": {},
   "outputs": [],
   "source": [
    "dataset = sy.Dataset(name=\"Test Dataset\")\n",
    "dataset.set_description(\"\"\"Test Dataset\"\"\")\n",
    "dataset.add_citation(\"Person, place or thing\")\n",
    "\n",
    "country = sy.DataSubject(name=\"Country\", aliases=[\"country_code\"])\n",
    "canada = sy.DataSubject(name=\"Canada\", aliases=[\"country_code:ca\"])\n",
    "country.add_member(canada)\n",
    "registry = root_client.data_subject_registry\n",
    "response = registry.add_data_subject(country)\n",
    "\n",
    "data = pd.DataFrame(np.random.randint(0, 100, size=(10, 4)), \n",
    "                  columns=list('ABCD'))\n",
    "mock = pd.DataFrame(np.random.randint(0, 100, size=(10, 4)), \n",
    "                  columns=list('ABCD'))\n",
    "\n",
    "ctf = sy.Asset(name=\"test_dataset\")\n",
    "ctf.set_description(\"\"\"all the datas\"\"\")\n",
    "ctf.set_obj(data)\n",
    "ctf.set_shape((10, 4))\n",
    "ctf.add_data_subject(canada)\n",
    "ctf.set_mock(mock, mock_is_real=False)"
   ]
  },
  {
   "cell_type": "code",
   "execution_count": 7,
   "id": "d025d248",
   "metadata": {},
   "outputs": [
    {
     "name": "stderr",
     "output_type": "stream",
     "text": [
      "100%|█████████████████████████████████████████████████████████████████████████████████████████████████████████████████| 1/1 [00:00<00:00, 49.32it/s]"
     ]
    },
    {
     "name": "stdout",
     "output_type": "stream",
     "text": [
      "Uploading: test_dataset\n"
     ]
    },
    {
     "name": "stderr",
     "output_type": "stream",
     "text": [
      "\n"
     ]
    },
    {
     "data": {
      "text/html": [
       "<div class=\"alert-success\" style=\"padding:5px;\"><strong>SyftSuccess</strong>: Dataset Added</div><br />"
      ],
      "text/plain": [
       "<class 'syft.service.response.SyftSuccess'>: Dataset Added"
      ]
     },
     "execution_count": 7,
     "metadata": {},
     "output_type": "execute_result"
    }
   ],
   "source": [
    "dataset.add_asset(ctf)\n",
    "root_client.upload_dataset(dataset)"
   ]
  },
  {
   "cell_type": "code",
   "execution_count": 9,
   "id": "9f6f9ed2",
   "metadata": {},
   "outputs": [
    {
     "data": {
      "image/png": "[encoded data removed]",
      "text/plain": [
       "<Figure size 2000x1000 with 1 Axes>"
      ]
     },
     "metadata": {},
     "output_type": "display_data"
    }
   ],
   "source": [
    "action_graph_service.visualize(context=authed_context)"
   ]
  },
  {
   "cell_type": "code",
   "execution_count": 10,
   "id": "3ad43aa3",
   "metadata": {},
   "outputs": [
    {
     "data": {
      "text/plain": [
       "0"
      ]
     },
     "execution_count": 10,
     "metadata": {},
     "output_type": "execute_result"
    }
   ],
   "source": [
    "len(action_graph_service.get_all_nodes(authed_context))"
   ]
  },
  {
   "cell_type": "code",
   "execution_count": 15,
   "id": "84974810",
   "metadata": {},
   "outputs": [
    {
     "data": {
      "text/html": [
       "List - Size: 2\n",
       "<div>\n",
       "<style scoped>\n",
       "    .dataframe tbody tr th:only-of-type {\n",
       "        vertical-align: middle;\n",
       "    }\n",
       "\n",
       "    .dataframe tbody tr th {\n",
       "        vertical-align: top;\n",
       "    }\n",
       "\n",
       "    .dataframe thead th {\n",
       "        text-align: right;\n",
       "    }\n",
       "</style>\n",
       "<table border=\"1\" class=\"dataframe\">\n",
       "  <thead>\n",
       "    <tr style=\"text-align: right;\">\n",
       "      <th></th>\n",
       "      <th>type</th>\n",
       "      <th>id</th>\n",
       "    </tr>\n",
       "  </thead>\n",
       "  <tbody>\n",
       "    <tr>\n",
       "      <th>0</th>\n",
       "      <td>&lt;DataSubject: Country&gt;</td>\n",
       "      <td>dcbd977fe9da4b91a937d671e9a79f1a</td>\n",
       "    </tr>\n",
       "    <tr>\n",
       "      <th>1</th>\n",
       "      <td>&lt;DataSubject: Canada&gt;</td>\n",
       "      <td>6b9df0b338d04957a942fd3a3aa1064c</td>\n",
       "    </tr>\n",
       "  </tbody>\n",
       "</table>\n",
       "</div>"
      ],
      "text/plain": [
       "<syft.client.api.APIModule at 0x7ff3250a7e50>"
      ]
     },
     "execution_count": 15,
     "metadata": {},
     "output_type": "execute_result"
    }
   ],
   "source": [
    "root_client.api.services."
   ]
  },
  {
   "cell_type": "code",
   "execution_count": null,
   "id": "1c991877",
   "metadata": {},
   "outputs": [],
   "source": [
    "self.api.serv"
   ]
  },
  {
   "cell_type": "code",
   "execution_count": null,
   "id": "969ec10d",
   "metadata": {},
   "outputs": [],
   "source": []
  },
  {
   "cell_type": "code",
   "execution_count": null,
   "id": "f6b43963",
   "metadata": {},
   "outputs": [],
   "source": []
  },
  {
   "cell_type": "code",
   "execution_count": null,
   "id": "2a328dfd",
   "metadata": {},
   "outputs": [],
   "source": []
  },
  {
   "cell_type": "code",
   "execution_count": null,
   "id": "366a19e2",
   "metadata": {},
   "outputs": [],
   "source": []
  }
 ],
 "metadata": {
  "kernelspec": {
   "display_name": "Python 3 (ipykernel)",
   "language": "python",
   "name": "python3"
  },
  "language_info": {
   "codemirror_mode": {
    "name": "ipython",
    "version": 3
   },
   "file_extension": ".py",
   "mimetype": "text/x-python",
   "name": "python",
   "nbconvert_exporter": "python",
   "pygments_lexer": "ipython3",
   "version": "3.10.8"
  }
 },
 "nbformat": 4,
 "nbformat_minor": 5
}

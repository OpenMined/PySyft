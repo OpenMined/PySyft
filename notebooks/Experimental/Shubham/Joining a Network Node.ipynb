{
 "cells": [
  {
   "cell_type": "code",
   "execution_count": 1,
   "id": "305987bf",
   "metadata": {},
   "outputs": [
    {
     "name": "stderr",
     "output_type": "stream",
     "text": [
      "/home/shubham/anaconda3/envs/syft/lib/python3.9/site-packages/tqdm/auto.py:22: TqdmWarning: IProgress not found. Please update jupyter and ipywidgets. See https://ipywidgets.readthedocs.io/en/stable/user_install.html\n",
      "  from .autonotebook import tqdm as notebook_tqdm\n"
     ]
    },
    {
     "name": "stdout",
     "output_type": "stream",
     "text": [
      "Loaded constant2epsilon cache of size: (300000,)\n"
     ]
    }
   ],
   "source": [
    "import syft as sy\n",
    "import numpy as np"
   ]
  },
  {
   "cell_type": "code",
   "execution_count": 2,
   "id": "08fa60be",
   "metadata": {},
   "outputs": [],
   "source": [
    "NETWORK_PORT = 9081\n",
    "DOMAIN_PORT = 9082"
   ]
  },
  {
   "cell_type": "code",
   "execution_count": 3,
   "id": "7da478d2",
   "metadata": {},
   "outputs": [],
   "source": [
    "ADMIN_EMAIL=\"info@openmined.org\"\n",
    "ADMIN_PASSWORD=\"changethis\""
   ]
  },
  {
   "cell_type": "markdown",
   "id": "0cb201d9",
   "metadata": {},
   "source": [
    "### Network Owner joins their owns node\n",
    "\n",
    "This step needs to be performed once, after launching a network node."
   ]
  },
  {
   "cell_type": "code",
   "execution_count": null,
   "id": "83a93713",
   "metadata": {},
   "outputs": [],
   "source": [
    "# Log into the network as an Admin\n",
    "network_client_as_admin = sy.login(port=NETWORK_PORT, email=\"info@openmined.org\", password=\"changethis\")\n",
    "\n",
    "# Network node joins the network itself\n",
    "# This is required from the network owners end, otherwise domain cannot join the network node\n",
    "network_client_as_admin.join_network(network_client)"
   ]
  },
  {
   "cell_type": "markdown",
   "id": "cd4f925e",
   "metadata": {},
   "source": [
    "### Domain Owner"
   ]
  },
  {
   "cell_type": "code",
   "execution_count": 4,
   "id": "9d91ce45",
   "metadata": {},
   "outputs": [
    {
     "name": "stdout",
     "output_type": "stream",
     "text": [
      "Connecting to localhost... done! \t Logging into test_network_1... as GUEST...done!\n"
     ]
    }
   ],
   "source": [
    "# Log into the network as a client\n",
    "\n",
    "network_client = sy.login(port=NETWORK_PORT)"
   ]
  },
  {
   "cell_type": "code",
   "execution_count": 5,
   "id": "2d2f0eb4",
   "metadata": {},
   "outputs": [
    {
     "name": "stdout",
     "output_type": "stream",
     "text": [
      "\r",
      "                                             "
     ]
    },
    {
     "data": {
      "text/html": [
       "<div>\n",
       "<style scoped>\n",
       "    .dataframe tbody tr th:only-of-type {\n",
       "        vertical-align: middle;\n",
       "    }\n",
       "\n",
       "    .dataframe tbody tr th {\n",
       "        vertical-align: top;\n",
       "    }\n",
       "\n",
       "    .dataframe thead th {\n",
       "        text-align: right;\n",
       "    }\n",
       "</style>\n",
       "<table border=\"1\" class=\"dataframe\">\n",
       "  <thead>\n",
       "    <tr style=\"text-align: right;\">\n",
       "      <th></th>\n",
       "    </tr>\n",
       "  </thead>\n",
       "  <tbody>\n",
       "  </tbody>\n",
       "</table>\n",
       "</div>"
      ],
      "text/plain": [
       "<syft.core.node.common.client_manager.domain_api.DomainRequestAPI at 0x7f0802ac69a0>"
      ]
     },
     "execution_count": 5,
     "metadata": {},
     "output_type": "execute_result"
    }
   ],
   "source": [
    "# List available domains\n",
    "network_client.domains"
   ]
  },
  {
   "cell_type": "code",
   "execution_count": 8,
   "id": "5ecf7543",
   "metadata": {},
   "outputs": [
    {
     "name": "stdout",
     "output_type": "stream",
     "text": [
      "WARNING: CHANGE YOUR USERNAME AND PASSWORD!!! \n",
      "\n",
      "Anyone can login as an admin to your node right now because your password is still the default PySyft username and password!!!\n",
      "\n",
      "Connecting to localhost... done! \t Logging into test_domain_1... done!\n"
     ]
    }
   ],
   "source": [
    "# Log into the domain\n",
    "domain_client = sy.login(port=DOMAIN_PORT, email=ADMIN_EMAIL, password=ADMIN_PASSWORD)"
   ]
  },
  {
   "cell_type": "code",
   "execution_count": 6,
   "id": "a4afd87a",
   "metadata": {},
   "outputs": [
    {
     "data": {
      "text/plain": [
       "{'status': 'ok',\n",
       " 'connected': True,\n",
       " 'host': {'ip': '100.64.0.2',\n",
       "  'hostname': 'test_network_1',\n",
       "  'network': 'omnet',\n",
       "  'os': 'linux',\n",
       "  'connection_info': '-',\n",
       "  'connection_status': 'n/a',\n",
       "  'connection_type': 'n/a'},\n",
       " 'peers': [{'ip': '100.64.0.1',\n",
       "   'hostname': 'test_domain_1',\n",
       "   'network': 'omnet',\n",
       "   'os': 'linux',\n",
       "   'connection_info': 'active; relay \"blr\"; offline, tx 7964 rx 8968',\n",
       "   'connection_status': 'active',\n",
       "   'connection_type': 'relay'}]}"
      ]
     },
     "execution_count": 6,
     "metadata": {},
     "output_type": "execute_result"
    }
   ],
   "source": [
    "network_client.vpn_status()"
   ]
  },
  {
   "cell_type": "code",
   "execution_count": null,
   "id": "976ee674",
   "metadata": {},
   "outputs": [],
   "source": [
    "domain_client.vpn_status()"
   ]
  },
  {
   "cell_type": "code",
   "execution_count": 9,
   "id": "1de37d15",
   "metadata": {},
   "outputs": [
    {
     "name": "stdout",
     "output_type": "stream",
     "text": [
      "🔌 <DomainClient - test_domain_1: <UID: e06ddc8ed45440869baecc72dfff4328>> successfully connected to the VPN: http://docker-host:9081/api/v1\n"
     ]
    }
   ],
   "source": [
    "# Join the network\n",
    "# Joining the network only connects the domain to the network through VPN\n",
    "# We need to call `apply_to_network` for a domain node to be visible on the network.\n",
    "domain_client.join_network(network_client)"
   ]
  },
  {
   "cell_type": "code",
   "execution_count": 9,
   "id": "92219cea",
   "metadata": {},
   "outputs": [
    {
     "data": {
      "text/plain": [
       "{'status': 'ok',\n",
       " 'connected': True,\n",
       " 'host': {'ip': '100.64.0.1',\n",
       "  'hostname': 'test_domain_1',\n",
       "  'network': 'omnet',\n",
       "  'os': 'linux',\n",
       "  'connection_info': '-',\n",
       "  'connection_status': 'n/a',\n",
       "  'connection_type': 'n/a'},\n",
       " 'peers': [{'ip': '100.64.0.2',\n",
       "   'hostname': 'test_network_1',\n",
       "   'network': 'omnet',\n",
       "   'os': 'linux',\n",
       "   'connection_info': 'active; relay \"blr\"; offline, tx 9336 rx 8028',\n",
       "   'connection_status': 'active',\n",
       "   'connection_type': 'relay'}]}"
      ]
     },
     "execution_count": 9,
     "metadata": {},
     "output_type": "execute_result"
    }
   ],
   "source": [
    "domain_client.vpn_status()"
   ]
  },
  {
   "cell_type": "code",
   "execution_count": 16,
   "id": "2f5b1280",
   "metadata": {
    "scrolled": true
   },
   "outputs": [
    {
     "name": "stdout",
     "output_type": "stream",
     "text": [
      "🔌 <DomainClient - test_domain_1: <UID: e06ddc8ed45440869baecc72dfff4328>> successfully connected to the VPN: http://docker-host:9081/api/v1\n",
      "Waiting to connect to VPN.\n",
      "Connected to VPN\n",
      "Application submitted.\n"
     ]
    }
   ],
   "source": [
    "# Apply to network\n",
    "# If a user does not join network beforehand, then this method does that for the user\n",
    "domain_client.apply_to_network(network_client)"
   ]
  },
  {
   "cell_type": "code",
   "execution_count": 17,
   "id": "42fcd611",
   "metadata": {},
   "outputs": [
    {
     "name": "stdout",
     "output_type": "stream",
     "text": [
      "                                             "
     ]
    },
    {
     "data": {
      "text/html": [
       "<div>\n",
       "<style scoped>\n",
       "    .dataframe tbody tr th:only-of-type {\n",
       "        vertical-align: middle;\n",
       "    }\n",
       "\n",
       "    .dataframe tbody tr th {\n",
       "        vertical-align: top;\n",
       "    }\n",
       "\n",
       "    .dataframe thead th {\n",
       "        text-align: right;\n",
       "    }\n",
       "</style>\n",
       "<table border=\"1\" class=\"dataframe\">\n",
       "  <thead>\n",
       "    <tr style=\"text-align: right;\">\n",
       "      <th></th>\n",
       "      <th>host_or_ip</th>\n",
       "      <th>id</th>\n",
       "      <th>is_vpn</th>\n",
       "      <th>name</th>\n",
       "    </tr>\n",
       "  </thead>\n",
       "  <tbody>\n",
       "    <tr>\n",
       "      <th>0</th>\n",
       "      <td>100.64.0.1</td>\n",
       "      <td>e06ddc8ed45440869baecc72dfff4328</td>\n",
       "      <td>1</td>\n",
       "      <td>test_domain_1</td>\n",
       "    </tr>\n",
       "  </tbody>\n",
       "</table>\n",
       "</div>"
      ],
      "text/plain": [
       "<syft.core.node.common.client_manager.domain_api.DomainRequestAPI at 0x7f0801303e20>"
      ]
     },
     "execution_count": 17,
     "metadata": {},
     "output_type": "execute_result"
    }
   ],
   "source": [
    "# List available domains\n",
    "network_client.domains"
   ]
  },
  {
   "cell_type": "code",
   "execution_count": 11,
   "id": "a3150254",
   "metadata": {},
   "outputs": [
    {
     "name": "stdout",
     "output_type": "stream",
     "text": [
      "Logged in to test_domain_1 as info@openmined.org\n"
     ]
    }
   ],
   "source": [
    "domain_client2 = network_client.domains[0].login(email=\"info@openmined.org\", password=\"changethis\")"
   ]
  },
  {
   "cell_type": "code",
   "execution_count": 12,
   "id": "54e1cb11",
   "metadata": {},
   "outputs": [
    {
     "data": {
      "text/html": [
       "<div>\n",
       "<style scoped>\n",
       "    .dataframe tbody tr th:only-of-type {\n",
       "        vertical-align: middle;\n",
       "    }\n",
       "\n",
       "    .dataframe tbody tr th {\n",
       "        vertical-align: top;\n",
       "    }\n",
       "\n",
       "    .dataframe thead th {\n",
       "        text-align: right;\n",
       "    }\n",
       "</style>\n",
       "<table border=\"1\" class=\"dataframe\">\n",
       "  <thead>\n",
       "    <tr style=\"text-align: right;\">\n",
       "      <th></th>\n",
       "    </tr>\n",
       "  </thead>\n",
       "  <tbody>\n",
       "  </tbody>\n",
       "</table>\n",
       "</div>"
      ],
      "text/plain": [
       "[]"
      ]
     },
     "execution_count": 12,
     "metadata": {},
     "output_type": "execute_result"
    }
   ],
   "source": [
    "domain_client2.store"
   ]
  },
  {
   "cell_type": "code",
   "execution_count": null,
   "id": "0cc91aa9",
   "metadata": {},
   "outputs": [],
   "source": []
  }
 ],
 "metadata": {
  "kernelspec": {
   "display_name": "Python 3 (ipykernel)",
   "language": "python",
   "name": "python3"
  },
  "language_info": {
   "codemirror_mode": {
    "name": "ipython",
    "version": 3
   },
   "file_extension": ".py",
   "mimetype": "text/x-python",
   "name": "python",
   "nbconvert_exporter": "python",
   "pygments_lexer": "ipython3",
   "version": "3.9.7"
  }
 },
 "nbformat": 4,
 "nbformat_minor": 5
}

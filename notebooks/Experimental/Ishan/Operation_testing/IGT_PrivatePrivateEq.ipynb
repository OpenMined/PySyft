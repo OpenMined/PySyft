{
 "cells": [
  {
   "cell_type": "code",
   "execution_count": 1,
   "id": "bd04d5a5-3e60-4398-8a83-7ed3dfad5944",
   "metadata": {},
   "outputs": [],
   "source": [
    "import syft as sy\n",
    "import numpy as np\n",
    "from sqlalchemy import create_engine\n",
    "from syft.core.node.common.node_table import Base\n",
    "from nacl.encoding import HexEncoder\n",
    "from nacl.signing import SigningKey\n",
    "from syft.core.adp.scalar.gamma_scalar import GammaScalar\n",
    "from syft.core.tensor.autodp.initial_gamma import InitialGammaTensor\n",
    "from syft.core.tensor.autodp.intermediate_gamma import IntermediateGammaTensor\n",
    "from syft.core.adp.entity import DataSubject\n",
    "from syft.core.adp.entity import DataSubjectGroup\n",
    "from syft.core.adp.adversarial_accountant import AdversarialAccountant\n",
    "from syft.core.io.virtual import create_virtual_connection\n",
    "from syft.core.adp.vm_private_scalar_manager import VirtualMachinePrivateScalarManager"
   ]
  },
  {
   "cell_type": "code",
   "execution_count": 2,
   "id": "4c9e6441-cdd7-4480-a671-95364b1f7738",
   "metadata": {},
   "outputs": [],
   "source": [
    "# Data\n",
    "child = np.array([1,2,3,4], dtype=np.int32)"
   ]
  },
  {
   "cell_type": "code",
   "execution_count": 3,
   "id": "288d54df-d7db-443c-8b4a-767dc3d78544",
   "metadata": {},
   "outputs": [],
   "source": [
    "# Entities\n",
    "traskmaster = DataSubject(name=\"Andrew\")\n",
    "amber = DataSubject(name=\"Amber\")\n",
    "puppy = DataSubject(name=\"Their puppy whose name I forgot\")\n",
    "DSG = DataSubjectGroup([traskmaster, amber])\n",
    "\n",
    "SM = VirtualMachinePrivateScalarManager()\n",
    "\n",
    "entity_trask = np.array([traskmaster, traskmaster, traskmaster, traskmaster], dtype=object)\n",
    "entity_amber = np.array([amber, amber, amber, amber], dtype=object)\n",
    "entity_puppies = np.array([puppy, puppy, puppy, puppy])\n",
    "dsg_ent = np.array([DSG, DSG, DSG, DSG], dtype=object)"
   ]
  },
  {
   "cell_type": "code",
   "execution_count": 4,
   "id": "dbc2d5d1-3ad1-465e-8166-30012329e1df",
   "metadata": {},
   "outputs": [],
   "source": [
    "# Various InitialGammaTensors to play with\n",
    "tensor_trask = InitialGammaTensor(values=child, min_vals=np.zeros_like(child), max_vals=np.ones_like(child) * 5, entities=entity_trask, scalar_manager=SM)\n",
    "tensor_amber = InitialGammaTensor(values=child, min_vals=np.zeros_like(child), max_vals=np.ones_like(child)* 5, entities=entity_amber, scalar_manager=SM)\n",
    "tensor_dsg = InitialGammaTensor(values=child * 2, min_vals=np.zeros_like(child), max_vals=np.ones_like(child) * 10, entities=dsg_ent, scalar_manager=SM)\n",
    "tensor_puppy = InitialGammaTensor(values=child * 3, min_vals = np.zeros_like(child), max_vals=np.ones_like(child) * 15, entities=entity_puppies, scalar_manager=SM) "
   ]
  },
  {
   "cell_type": "code",
   "execution_count": 5,
   "id": "3990d8f1-4efb-4b90-a7cf-7f6d7e6e06ba",
   "metadata": {},
   "outputs": [
    {
     "name": "stdout",
     "output_type": "stream",
     "text": [
      "[DSG['<DataSubject:Andrew>', '<DataSubject:Amber>']\n",
      " DSG['<DataSubject:Andrew>', '<DataSubject:Amber>']\n",
      " DSG['<DataSubject:Andrew>', '<DataSubject:Amber>']\n",
      " DSG['<DataSubject:Andrew>', '<DataSubject:Amber>']]\n"
     ]
    }
   ],
   "source": [
    "# Create our reference tensor using Andrew's and Amber's tensors\n",
    "reference_tensor = tensor_trask + tensor_amber\n",
    "assert isinstance(reference_tensor, IntermediateGammaTensor)\n",
    "print(reference_tensor._entities())"
   ]
  },
  {
   "cell_type": "code",
   "execution_count": 6,
   "id": "1769e68b-1037-45e4-9fb0-104fb1d1663b",
   "metadata": {},
   "outputs": [],
   "source": [
    "# Test to see if this works for 2D arrays too\n",
    "child_2d = np.random.randint(low=1, high=5, size=(3, 3), dtype=np.int32)\n",
    "entities_2d = np.array([[traskmaster, traskmaster, traskmaster], [traskmaster, traskmaster, traskmaster], [traskmaster, traskmaster, traskmaster]], dtype=object)\n",
    "tensor_2d = InitialGammaTensor(values=child_2d, min_vals=np.zeros_like(child_2d), max_vals=np.ones_like(child_2d) * 5, entities=entities_2d, scalar_manager=SM)\n",
    "assert tensor_2d.shape == child_2d.shape\n",
    "\n",
    "IGT_2D = tensor_2d + tensor_2d\n",
    "assert IGT_2D.shape == IGT_2D._values().shape\n",
    "assert IGT_2D.shape == IGT_2D._entities().shape"
   ]
  },
  {
   "cell_type": "code",
   "execution_count": 7,
   "id": "f5642829-b2ea-43f9-bf8d-187f59f5907a",
   "metadata": {},
   "outputs": [],
   "source": [
    "# Use the reference tensor to check private_private equality, starting with gt\n",
    "comparison_tensor = tensor_puppy + tensor_puppy\n",
    "assert isinstance(comparison_tensor, IntermediateGammaTensor)\n",
    "assert comparison_tensor.shape == reference_tensor.shape\n",
    "\n",
    "comparison_result = reference_tensor > comparison_tensor"
   ]
  },
  {
   "cell_type": "code",
   "execution_count": 8,
   "id": "9a198eb7-d3ed-4ced-a371-847ded393526",
   "metadata": {},
   "outputs": [
    {
     "name": "stdout",
     "output_type": "stream",
     "text": [
      "[2. 4. 6. 8.]\n",
      "[ 6. 12. 18. 24.]\n"
     ]
    }
   ],
   "source": [
    "# Now let's see if we were right.\n",
    "print(reference_tensor._values())\n",
    "print(comparison_tensor._values())"
   ]
  },
  {
   "cell_type": "code",
   "execution_count": 9,
   "id": "c3a578e8-2713-4e9c-9486-df47755aaee7",
   "metadata": {},
   "outputs": [
    {
     "name": "stdout",
     "output_type": "stream",
     "text": [
      "[0. 0. 0. 0.]\n"
     ]
    }
   ],
   "source": [
    "print(comparison_result._values())"
   ]
  },
  {
   "cell_type": "code",
   "execution_count": 10,
   "id": "0978dfc2-e63b-4430-b125-8e5bb9d9b86f",
   "metadata": {},
   "outputs": [
    {
     "data": {
      "text/plain": [
       "array([DSG['<DataSubject:Andrew>', '<DataSubject:Amber>', '<DataSubject:Their puppy whose name I forgot>'],\n",
       "       DSG['<DataSubject:Andrew>', '<DataSubject:Amber>', '<DataSubject:Their puppy whose name I forgot>'],\n",
       "       DSG['<DataSubject:Andrew>', '<DataSubject:Amber>', '<DataSubject:Their puppy whose name I forgot>'],\n",
       "       DSG['<DataSubject:Andrew>', '<DataSubject:Amber>', '<DataSubject:Their puppy whose name I forgot>']],\n",
       "      dtype=object)"
      ]
     },
     "execution_count": 10,
     "metadata": {},
     "output_type": "execute_result"
    }
   ],
   "source": [
    "comparison_result._entities()"
   ]
  },
  {
   "cell_type": "code",
   "execution_count": 11,
   "id": "289cc09a-ec9a-4afd-973d-752f89754e1b",
   "metadata": {},
   "outputs": [
    {
     "name": "stdout",
     "output_type": "stream",
     "text": [
      "[1. 1. 1. 1.]\n"
     ]
    }
   ],
   "source": [
    "lt_comparison_result = reference_tensor < comparison_tensor\n",
    "print(lt_comparison_result._values())"
   ]
  },
  {
   "cell_type": "code",
   "execution_count": 12,
   "id": "71ee23fb-8c77-4654-b51c-db4bcc5ee80f",
   "metadata": {},
   "outputs": [],
   "source": [
    "eq_result = reference_tensor == comparison_tensor"
   ]
  },
  {
   "cell_type": "code",
   "execution_count": 13,
   "id": "5ce61115-ab68-4759-9f1f-205f17a7edcd",
   "metadata": {},
   "outputs": [
    {
     "data": {
      "text/plain": [
       "array([0., 0., 0., 0.])"
      ]
     },
     "execution_count": 13,
     "metadata": {},
     "output_type": "execute_result"
    }
   ],
   "source": [
    "eq_result._values()"
   ]
  },
  {
   "cell_type": "code",
   "execution_count": 21,
   "id": "09f53fc3-ff96-42f3-b879-82835f6a3821",
   "metadata": {},
   "outputs": [
    {
     "data": {
      "text/plain": [
       "array([1., 1., 1., 1.])"
      ]
     },
     "execution_count": 21,
     "metadata": {},
     "output_type": "execute_result"
    }
   ],
   "source": [
    "eq_result2 = comparison_tensor == (reference_tensor * 3)\n",
    "eq_result2._values()"
   ]
  },
  {
   "cell_type": "code",
   "execution_count": 19,
   "id": "2eb7ddd5-3c25-450d-a68b-47bf3c9973e8",
   "metadata": {},
   "outputs": [
    {
     "data": {
      "text/plain": [
       "array([18., 36., 54., 72.])"
      ]
     },
     "execution_count": 19,
     "metadata": {},
     "output_type": "execute_result"
    }
   ],
   "source": [
    "(comparison_tensor*3)._values()"
   ]
  },
  {
   "cell_type": "code",
   "execution_count": null,
   "id": "85e54756-c5b6-49a7-a991-06bdff27b80c",
   "metadata": {},
   "outputs": [],
   "source": []
  }
 ],
 "metadata": {
  "kernelspec": {
   "display_name": "Python 3 (ipykernel)",
   "language": "python",
   "name": "python3"
  },
  "language_info": {
   "codemirror_mode": {
    "name": "ipython",
    "version": 3
   },
   "file_extension": ".py",
   "mimetype": "text/x-python",
   "name": "python",
   "nbconvert_exporter": "python",
   "pygments_lexer": "ipython3",
   "version": "3.8.11"
  }
 },
 "nbformat": 4,
 "nbformat_minor": 5
}

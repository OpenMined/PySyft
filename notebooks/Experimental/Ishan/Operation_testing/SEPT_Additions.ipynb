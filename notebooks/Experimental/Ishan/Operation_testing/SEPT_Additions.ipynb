{
 "cells": [
  {
   "cell_type": "code",
   "execution_count": 1,
   "id": "36cc7874-9fe3-45d5-bd2a-7a604c839dfd",
   "metadata": {},
   "outputs": [],
   "source": [
    "import syft as sy\n",
    "import numpy as np\n",
    "from syft.core.adp.entity import DataSubject\n",
    "from syft.core.tensor.autodp.single_entity_phi import SingleEntityPhiTensor as SEPT\n",
    "from syft.core.tensor.autodp.initial_gamma import InitialGammaTensor, IntermediateGammaTensor\n",
    "from syft.core.tensor.autodp.dp_tensor_converter import convert_to_gamma_tensor"
   ]
  },
  {
   "cell_type": "code",
   "execution_count": 2,
   "id": "8943fb67-831c-46ed-bf92-d77c798fc82a",
   "metadata": {},
   "outputs": [],
   "source": [
    "# Create some entities\n",
    "ishan = DataSubject(name=\"Ishan\")\n",
    "supreme_leader = DataSubject(name=\"Andrew\")"
   ]
  },
  {
   "cell_type": "code",
   "execution_count": 3,
   "id": "9998c091-2728-4bfd-9f4c-e2b71cc29c97",
   "metadata": {},
   "outputs": [],
   "source": [
    "data = np.random.random((10, 10))\n",
    "upper = np.ones((10, 10))\n",
    "lower = np.zeros((10, 10))"
   ]
  },
  {
   "cell_type": "code",
   "execution_count": 4,
   "id": "88d37168-b2ad-41b8-adcd-f6abefbfcb39",
   "metadata": {},
   "outputs": [],
   "source": [
    "sept1 = SEPT(child=data, min_vals=lower, max_vals=upper, entity=ishan)\n",
    "sept2 = SEPT(child=data, min_vals=lower, max_vals=upper, entity=supreme_leader)"
   ]
  },
  {
   "cell_type": "code",
   "execution_count": 76,
   "id": "49bcc789-fea1-4e8b-9804-a02ac7720083",
   "metadata": {},
   "outputs": [],
   "source": [
    "igt1 = convert_to_gamma_tensor(sept1)\n",
    "igt2 = convert_to_gamma_tensor(sept2)\n",
    "assert isinstance(igt1, InitialGammaTensor)\n",
    "assert isinstance(igt2, InitialGammaTensor)"
   ]
  },
  {
   "cell_type": "code",
   "execution_count": 6,
   "id": "04a9c6c0-2ec2-423b-b99c-1481c4176b64",
   "metadata": {},
   "outputs": [
    {
     "name": "stdout",
     "output_type": "stream",
     "text": [
      "[<DataSubject:Ishan> <DataSubject:Andrew>]\n",
      "[<DataSubject:Ishan> <DataSubject:Andrew>]\n"
     ]
    }
   ],
   "source": [
    "entities = np.array([ishan, supreme_leader], dtype=object)\n",
    "print(entities)\n",
    "\n",
    "# Verify flatten works\n",
    "print(entities.flatten())"
   ]
  },
  {
   "cell_type": "code",
   "execution_count": 7,
   "id": "65228af3-199c-4ff3-8993-9826cb68a136",
   "metadata": {},
   "outputs": [
    {
     "ename": "IndexError",
     "evalue": "index 2 is out of bounds for axis 0 with size 2",
     "output_type": "error",
     "traceback": [
      "\u001b[0;31m---------------------------------------------------------------------------\u001b[0m",
      "\u001b[0;31mIndexError\u001b[0m                                Traceback (most recent call last)",
      "\u001b[0;32m/tmp/ipykernel_27926/3596215547.py\u001b[0m in \u001b[0;36m<module>\u001b[0;34m\u001b[0m\n\u001b[0;32m----> 1\u001b[0;31m \u001b[0minitial_gamma\u001b[0m \u001b[0;34m=\u001b[0m \u001b[0mInitialGammaTensor\u001b[0m\u001b[0;34m(\u001b[0m\u001b[0mvalues\u001b[0m\u001b[0;34m=\u001b[0m\u001b[0mdata\u001b[0m\u001b[0;34m,\u001b[0m \u001b[0mmin_vals\u001b[0m\u001b[0;34m=\u001b[0m\u001b[0mlower\u001b[0m\u001b[0;34m,\u001b[0m \u001b[0mmax_vals\u001b[0m\u001b[0;34m=\u001b[0m\u001b[0mupper\u001b[0m\u001b[0;34m,\u001b[0m\u001b[0mentities\u001b[0m\u001b[0;34m=\u001b[0m\u001b[0mentities\u001b[0m\u001b[0;34m)\u001b[0m\u001b[0;34m\u001b[0m\u001b[0;34m\u001b[0m\u001b[0m\n\u001b[0m",
      "\u001b[0;32m~/PySyft/packages/syft/src/syft/core/tensor/autodp/initial_gamma.py\u001b[0m in \u001b[0;36m__init__\u001b[0;34m(self, values, min_vals, max_vals, entities, scalar_manager)\u001b[0m\n\u001b[1;32m     87\u001b[0m                 \u001b[0mvalue\u001b[0m\u001b[0;34m=\u001b[0m\u001b[0mflat_values\u001b[0m\u001b[0;34m[\u001b[0m\u001b[0mi\u001b[0m\u001b[0;34m]\u001b[0m\u001b[0;34m,\u001b[0m\u001b[0;34m\u001b[0m\u001b[0;34m\u001b[0m\u001b[0m\n\u001b[1;32m     88\u001b[0m                 \u001b[0mmax_val\u001b[0m\u001b[0;34m=\u001b[0m\u001b[0mflat_max_vals\u001b[0m\u001b[0;34m[\u001b[0m\u001b[0mi\u001b[0m\u001b[0;34m]\u001b[0m\u001b[0;34m,\u001b[0m\u001b[0;34m\u001b[0m\u001b[0;34m\u001b[0m\u001b[0m\n\u001b[0;32m---> 89\u001b[0;31m                 \u001b[0mentity\u001b[0m\u001b[0;34m=\u001b[0m\u001b[0mflat_entities\u001b[0m\u001b[0;34m[\u001b[0m\u001b[0mi\u001b[0m\u001b[0;34m]\u001b[0m\u001b[0;34m,\u001b[0m\u001b[0;34m\u001b[0m\u001b[0;34m\u001b[0m\u001b[0m\n\u001b[0m\u001b[1;32m     90\u001b[0m             )\n\u001b[1;32m     91\u001b[0m             \u001b[0msome_symbols\u001b[0m\u001b[0;34m.\u001b[0m\u001b[0mappend\u001b[0m\u001b[0;34m(\u001b[0m\u001b[0mprime\u001b[0m\u001b[0;34m)\u001b[0m\u001b[0;34m\u001b[0m\u001b[0;34m\u001b[0m\u001b[0m\n",
      "\u001b[0;31mIndexError\u001b[0m: index 2 is out of bounds for axis 0 with size 2"
     ]
    }
   ],
   "source": [
    "initial_gamma = InitialGammaTensor(values=data, min_vals=lower, max_vals=upper,entities=entities)"
   ]
  },
  {
   "cell_type": "code",
   "execution_count": 8,
   "id": "0e2132ed-037d-471f-b67a-8698cf5a9be2",
   "metadata": {},
   "outputs": [
    {
     "data": {
      "text/plain": [
       "(10, 10, 10)"
      ]
     },
     "execution_count": 8,
     "metadata": {},
     "output_type": "execute_result"
    }
   ],
   "source": [
    "img = np.random.random((10, 10, 10))\n",
    "img.flatten().shape\n",
    "len(img.flatten())\n",
    "img.shape"
   ]
  },
  {
   "cell_type": "code",
   "execution_count": 9,
   "id": "efc8fe46-1dac-4beb-8b9b-98bcae3284ab",
   "metadata": {},
   "outputs": [
    {
     "name": "stdout",
     "output_type": "stream",
     "text": [
      "(10, 10) <class 'numpy.ndarray'>\n"
     ]
    }
   ],
   "source": [
    "entity_array = np.random.choice([ishan, supreme_leader], size=data.shape)\n",
    "print(entity_array.shape, type(entity_array))"
   ]
  },
  {
   "cell_type": "code",
   "execution_count": 10,
   "id": "270217e7-feaa-42db-9c5e-eb3c389b76d2",
   "metadata": {},
   "outputs": [],
   "source": [
    "initial_gamma = InitialGammaTensor(values=data+data, min_vals=lower, max_vals=upper, entities=entity_array)"
   ]
  },
  {
   "cell_type": "code",
   "execution_count": 11,
   "id": "fbdcee4f-9dba-4a7f-8eb3-430b5d2c8c4b",
   "metadata": {},
   "outputs": [
    {
     "data": {
      "text/plain": [
       "InitialGammaTensor(child=[[[  2]\n",
       "  [  3]\n",
       "  [  5]\n",
       "  [  7]\n",
       "  [ 11]\n",
       "  [ 13]\n",
       "  [ 17]\n",
       "  [ 19]\n",
       "  [ 23]\n",
       "  [ 29]]\n",
       "\n",
       " [[ 31]\n",
       "  [ 37]\n",
       "  [ 41]\n",
       "  [ 43]\n",
       "  [ 47]\n",
       "  [ 53]\n",
       "  [ 59]\n",
       "  [ 61]\n",
       "  [ 67]\n",
       "  [ 71]]\n",
       "\n",
       " [[ 73]\n",
       "  [ 79]\n",
       "  [ 83]\n",
       "  [ 89]\n",
       "  [ 97]\n",
       "  [101]\n",
       "  [103]\n",
       "  [107]\n",
       "  [109]\n",
       "  [113]]\n",
       "\n",
       " [[127]\n",
       "  [131]\n",
       "  [137]\n",
       "  [139]\n",
       "  [149]\n",
       "  [151]\n",
       "  [157]\n",
       "  [163]\n",
       "  [167]\n",
       "  [173]]\n",
       "\n",
       " [[179]\n",
       "  [181]\n",
       "  [191]\n",
       "  [193]\n",
       "  [197]\n",
       "  [199]\n",
       "  [211]\n",
       "  [223]\n",
       "  [227]\n",
       "  [229]]\n",
       "\n",
       " [[233]\n",
       "  [239]\n",
       "  [241]\n",
       "  [251]\n",
       "  [257]\n",
       "  [263]\n",
       "  [269]\n",
       "  [271]\n",
       "  [277]\n",
       "  [281]]\n",
       "\n",
       " [[283]\n",
       "  [293]\n",
       "  [307]\n",
       "  [311]\n",
       "  [313]\n",
       "  [317]\n",
       "  [331]\n",
       "  [337]\n",
       "  [347]\n",
       "  [349]]\n",
       "\n",
       " [[353]\n",
       "  [359]\n",
       "  [367]\n",
       "  [373]\n",
       "  [379]\n",
       "  [383]\n",
       "  [389]\n",
       "  [397]\n",
       "  [401]\n",
       "  [409]]\n",
       "\n",
       " [[419]\n",
       "  [421]\n",
       "  [431]\n",
       "  [433]\n",
       "  [439]\n",
       "  [443]\n",
       "  [449]\n",
       "  [457]\n",
       "  [461]\n",
       "  [463]]\n",
       "\n",
       " [[467]\n",
       "  [479]\n",
       "  [487]\n",
       "  [491]\n",
       "  [499]\n",
       "  [503]\n",
       "  [509]\n",
       "  [521]\n",
       "  [523]\n",
       "  [541]]])"
      ]
     },
     "execution_count": 11,
     "metadata": {},
     "output_type": "execute_result"
    }
   ],
   "source": [
    "initial_gamma"
   ]
  },
  {
   "cell_type": "code",
   "execution_count": 12,
   "id": "1bcec141-4a53-4ef7-8953-038536068a7a",
   "metadata": {},
   "outputs": [],
   "source": [
    "assert(initial_gamma.values == data * 2).all()"
   ]
  },
  {
   "cell_type": "code",
   "execution_count": 13,
   "id": "c0256d87-b3f2-451f-864b-103fb8e558bf",
   "metadata": {},
   "outputs": [
    {
     "data": {
      "text/plain": [
       "array([[[  2,   2],\n",
       "        [  3,   3],\n",
       "        [  5,   5],\n",
       "        [  7,   7],\n",
       "        [ 11,  11],\n",
       "        [ 13,  13],\n",
       "        [ 17,  17],\n",
       "        [ 19,  19],\n",
       "        [ 23,  23],\n",
       "        [ 29,  29]],\n",
       "\n",
       "       [[ 31,  31],\n",
       "        [ 37,  37],\n",
       "        [ 41,  41],\n",
       "        [ 43,  43],\n",
       "        [ 47,  47],\n",
       "        [ 53,  53],\n",
       "        [ 59,  59],\n",
       "        [ 61,  61],\n",
       "        [ 67,  67],\n",
       "        [ 71,  71]],\n",
       "\n",
       "       [[ 73,  73],\n",
       "        [ 79,  79],\n",
       "        [ 83,  83],\n",
       "        [ 89,  89],\n",
       "        [ 97,  97],\n",
       "        [101, 101],\n",
       "        [103, 103],\n",
       "        [107, 107],\n",
       "        [109, 109],\n",
       "        [113, 113]],\n",
       "\n",
       "       [[127, 127],\n",
       "        [131, 131],\n",
       "        [137, 137],\n",
       "        [139, 139],\n",
       "        [149, 149],\n",
       "        [151, 151],\n",
       "        [157, 157],\n",
       "        [163, 163],\n",
       "        [167, 167],\n",
       "        [173, 173]],\n",
       "\n",
       "       [[179, 179],\n",
       "        [181, 181],\n",
       "        [191, 191],\n",
       "        [193, 193],\n",
       "        [197, 197],\n",
       "        [199, 199],\n",
       "        [211, 211],\n",
       "        [223, 223],\n",
       "        [227, 227],\n",
       "        [229, 229]],\n",
       "\n",
       "       [[233, 233],\n",
       "        [239, 239],\n",
       "        [241, 241],\n",
       "        [251, 251],\n",
       "        [257, 257],\n",
       "        [263, 263],\n",
       "        [269, 269],\n",
       "        [271, 271],\n",
       "        [277, 277],\n",
       "        [281, 281]],\n",
       "\n",
       "       [[283, 283],\n",
       "        [293, 293],\n",
       "        [307, 307],\n",
       "        [311, 311],\n",
       "        [313, 313],\n",
       "        [317, 317],\n",
       "        [331, 331],\n",
       "        [337, 337],\n",
       "        [347, 347],\n",
       "        [349, 349]],\n",
       "\n",
       "       [[353, 353],\n",
       "        [359, 359],\n",
       "        [367, 367],\n",
       "        [373, 373],\n",
       "        [379, 379],\n",
       "        [383, 383],\n",
       "        [389, 389],\n",
       "        [397, 397],\n",
       "        [401, 401],\n",
       "        [409, 409]],\n",
       "\n",
       "       [[419, 419],\n",
       "        [421, 421],\n",
       "        [431, 431],\n",
       "        [433, 433],\n",
       "        [439, 439],\n",
       "        [443, 443],\n",
       "        [449, 449],\n",
       "        [457, 457],\n",
       "        [461, 461],\n",
       "        [463, 463]],\n",
       "\n",
       "       [[467, 467],\n",
       "        [479, 479],\n",
       "        [487, 487],\n",
       "        [491, 491],\n",
       "        [499, 499],\n",
       "        [503, 503],\n",
       "        [509, 509],\n",
       "        [521, 521],\n",
       "        [523, 523],\n",
       "        [541, 541]]])"
      ]
     },
     "execution_count": 13,
     "metadata": {},
     "output_type": "execute_result"
    }
   ],
   "source": [
    "second = initial_gamma + initial_gamma\n",
    "second.child"
   ]
  },
  {
   "cell_type": "code",
   "execution_count": 14,
   "id": "66a07d42-1f2a-4bfa-a4e5-277a28c4f309",
   "metadata": {},
   "outputs": [
    {
     "ename": "AssertionError",
     "evalue": "",
     "output_type": "error",
     "traceback": [
      "\u001b[0;31m---------------------------------------------------------------------------\u001b[0m",
      "\u001b[0;31mAssertionError\u001b[0m                            Traceback (most recent call last)",
      "\u001b[0;32m/tmp/ipykernel_27926/2603385159.py\u001b[0m in \u001b[0;36m<module>\u001b[0;34m\u001b[0m\n\u001b[1;32m      1\u001b[0m \u001b[0mflattened_data\u001b[0m \u001b[0;34m=\u001b[0m \u001b[0mdata\u001b[0m\u001b[0;34m.\u001b[0m\u001b[0mflatten\u001b[0m\u001b[0;34m(\u001b[0m\u001b[0;34m)\u001b[0m\u001b[0;34m\u001b[0m\u001b[0;34m\u001b[0m\u001b[0m\n\u001b[1;32m      2\u001b[0m \u001b[0;32mfor\u001b[0m \u001b[0mi\u001b[0m\u001b[0;34m,\u001b[0m \u001b[0mgamma_scalar\u001b[0m \u001b[0;32min\u001b[0m \u001b[0menumerate\u001b[0m\u001b[0;34m(\u001b[0m\u001b[0msecond\u001b[0m\u001b[0;34m.\u001b[0m\u001b[0mflat_scalars\u001b[0m\u001b[0;34m)\u001b[0m\u001b[0;34m:\u001b[0m\u001b[0;34m\u001b[0m\u001b[0;34m\u001b[0m\u001b[0m\n\u001b[0;32m----> 3\u001b[0;31m     \u001b[0;32massert\u001b[0m \u001b[0mgamma_scalar\u001b[0m\u001b[0;34m.\u001b[0m\u001b[0mvalue\u001b[0m \u001b[0;34m==\u001b[0m \u001b[0mflattened_data\u001b[0m\u001b[0;34m[\u001b[0m\u001b[0mi\u001b[0m\u001b[0;34m]\u001b[0m\u001b[0;34m*\u001b[0m\u001b[0;36m2\u001b[0m\u001b[0;34m\u001b[0m\u001b[0;34m\u001b[0m\u001b[0m\n\u001b[0m",
      "\u001b[0;31mAssertionError\u001b[0m: "
     ]
    }
   ],
   "source": [
    "flattened_data = data.flatten()\n",
    "for i, gamma_scalar in enumerate(second.flat_scalars):\n",
    "    assert gamma_scalar.value == flattened_data[i]*2"
   ]
  },
  {
   "cell_type": "code",
   "execution_count": null,
   "id": "de91bdc7-42c5-44f9-860d-c674cce69efd",
   "metadata": {},
   "outputs": [],
   "source": []
  },
  {
   "cell_type": "code",
   "execution_count": 15,
   "id": "1566e79c-c161-427e-a68d-b4071b3efa00",
   "metadata": {},
   "outputs": [
    {
     "data": {
      "text/plain": [
       "array([0.23904923, 1.54215743, 0.19478075, 0.39876454, 1.26309921,\n",
       "       1.5863726 , 1.44325573, 1.97568773, 1.47652121, 0.88585116])"
      ]
     },
     "execution_count": 15,
     "metadata": {},
     "output_type": "execute_result"
    }
   ],
   "source": [
    "data[0]*2"
   ]
  },
  {
   "cell_type": "code",
   "execution_count": 16,
   "id": "512c887f-69fa-4217-96c2-9d6996a50e90",
   "metadata": {},
   "outputs": [
    {
     "data": {
      "text/plain": [
       "array([0.64421593, 0.00874024, 0.53039103, 0.2800049 , 1.89683037,\n",
       "       0.51015169, 0.4238772 , 1.71922946, 1.0762044 , 0.14670904])"
      ]
     },
     "execution_count": 16,
     "metadata": {},
     "output_type": "execute_result"
    }
   ],
   "source": [
    "data[1]*2"
   ]
  },
  {
   "cell_type": "code",
   "execution_count": 17,
   "id": "d797ab3f-115f-4837-94dc-1d4b257db122",
   "metadata": {},
   "outputs": [
    {
     "data": {
      "text/plain": [
       "[<IntermediateGammaScalar: (0.0 < 0.47809846074360607 < 2.0)>,\n",
       " <IntermediateGammaScalar: (0.0 < 3.084314857246905 < 2.0)>,\n",
       " <IntermediateGammaScalar: (0.0 < 0.38956150514764776 < 2.0)>,\n",
       " <IntermediateGammaScalar: (0.0 < 0.7975290787776759 < 2.0)>,\n",
       " <IntermediateGammaScalar: (0.0 < 2.5261984170812566 < 2.0)>]"
      ]
     },
     "execution_count": 17,
     "metadata": {},
     "output_type": "execute_result"
    }
   ],
   "source": [
    "second.flat_scalars[:5]"
   ]
  },
  {
   "cell_type": "code",
   "execution_count": 18,
   "id": "617f5204-6edd-4066-a52c-b8eeebd3a9a8",
   "metadata": {},
   "outputs": [
    {
     "data": {
      "text/plain": [
       "array([0.23904923, 1.54215743, 0.19478075, 0.39876454, 1.26309921])"
      ]
     },
     "execution_count": 18,
     "metadata": {},
     "output_type": "execute_result"
    }
   ],
   "source": [
    "data.flatten()[:5]*2"
   ]
  },
  {
   "cell_type": "code",
   "execution_count": 19,
   "id": "0552dcf1-a460-4881-bd98-6b5c6276bafc",
   "metadata": {},
   "outputs": [],
   "source": [
    "new_entity_array = np.array([ishan, supreme_leader], dtype=object)"
   ]
  },
  {
   "cell_type": "code",
   "execution_count": 20,
   "id": "b6181f5a-bbf9-456c-8fa5-5211e8b037f6",
   "metadata": {},
   "outputs": [
    {
     "ename": "NameError",
     "evalue": "name 's' is not defined",
     "output_type": "error",
     "traceback": [
      "\u001b[0;31m---------------------------------------------------------------------------\u001b[0m",
      "\u001b[0;31mNameError\u001b[0m                                 Traceback (most recent call last)",
      "\u001b[0;32m/tmp/ipykernel_27926/3099096919.py\u001b[0m in \u001b[0;36m<module>\u001b[0;34m\u001b[0m\n\u001b[0;32m----> 1\u001b[0;31m \u001b[0mentities\u001b[0m \u001b[0;34m=\u001b[0m \u001b[0mnp\u001b[0m\u001b[0;34m.\u001b[0m\u001b[0mempty\u001b[0m\u001b[0;34m(\u001b[0m\u001b[0ms\u001b[0m\u001b[0;34m)\u001b[0m\u001b[0;34m\u001b[0m\u001b[0;34m\u001b[0m\u001b[0m\n\u001b[0m\u001b[1;32m      2\u001b[0m \u001b[0;32mfor\u001b[0m \u001b[0mi\u001b[0m \u001b[0;32min\u001b[0m \u001b[0msecond\u001b[0m\u001b[0;34m.\u001b[0m\u001b[0mflat_scalars\u001b[0m\u001b[0;34m:\u001b[0m\u001b[0;34m\u001b[0m\u001b[0;34m\u001b[0m\u001b[0m\n\u001b[1;32m      3\u001b[0m     \u001b[0mentities\u001b[0m\u001b[0;34m[\u001b[0m\u001b[0mi\u001b[0m\u001b[0;34m]\u001b[0m \u001b[0;34m=\u001b[0m \u001b[0mnew_entity_array\u001b[0m\u001b[0;34m\u001b[0m\u001b[0;34m\u001b[0m\u001b[0m\n",
      "\u001b[0;31mNameError\u001b[0m: name 's' is not defined"
     ]
    }
   ],
   "source": [
    "entities = np.empty(s)\n",
    "for i in second.flat_scalars:\n",
    "    entities[i] = new_entity_array"
   ]
  },
  {
   "cell_type": "code",
   "execution_count": 21,
   "id": "a13268b4-83e2-4243-9b5e-6260797c095e",
   "metadata": {},
   "outputs": [
    {
     "name": "stdout",
     "output_type": "stream",
     "text": [
      "[[<DataSubject:Ishan>, <DataSubject:Andrew>], [<DataSubject:Ishan>, <DataSubject:Andrew>], [<DataSubject:Ishan>, <DataSubject:Andrew>], [<DataSubject:Ishan>, <DataSubject:Andrew>], [<DataSubject:Ishan>, <DataSubject:Andrew>], [<DataSubject:Ishan>, <DataSubject:Andrew>], [<DataSubject:Ishan>, <DataSubject:Andrew>], [<DataSubject:Ishan>, <DataSubject:Andrew>], [<DataSubject:Ishan>, <DataSubject:Andrew>], [<DataSubject:Ishan>, <DataSubject:Andrew>], [<DataSubject:Ishan>, <DataSubject:Andrew>], [<DataSubject:Ishan>, <DataSubject:Andrew>], [<DataSubject:Ishan>, <DataSubject:Andrew>], [<DataSubject:Ishan>, <DataSubject:Andrew>], [<DataSubject:Ishan>, <DataSubject:Andrew>], [<DataSubject:Ishan>, <DataSubject:Andrew>], [<DataSubject:Ishan>, <DataSubject:Andrew>], [<DataSubject:Ishan>, <DataSubject:Andrew>], [<DataSubject:Ishan>, <DataSubject:Andrew>], [<DataSubject:Ishan>, <DataSubject:Andrew>], [<DataSubject:Ishan>, <DataSubject:Andrew>], [<DataSubject:Ishan>, <DataSubject:Andrew>], [<DataSubject:Ishan>, <DataSubject:Andrew>], [<DataSubject:Ishan>, <DataSubject:Andrew>], [<DataSubject:Ishan>, <DataSubject:Andrew>], [<DataSubject:Ishan>, <DataSubject:Andrew>], [<DataSubject:Ishan>, <DataSubject:Andrew>], [<DataSubject:Ishan>, <DataSubject:Andrew>], [<DataSubject:Ishan>, <DataSubject:Andrew>], [<DataSubject:Ishan>, <DataSubject:Andrew>], [<DataSubject:Ishan>, <DataSubject:Andrew>], [<DataSubject:Ishan>, <DataSubject:Andrew>], [<DataSubject:Ishan>, <DataSubject:Andrew>], [<DataSubject:Ishan>, <DataSubject:Andrew>], [<DataSubject:Ishan>, <DataSubject:Andrew>], [<DataSubject:Ishan>, <DataSubject:Andrew>], [<DataSubject:Ishan>, <DataSubject:Andrew>], [<DataSubject:Ishan>, <DataSubject:Andrew>], [<DataSubject:Ishan>, <DataSubject:Andrew>], [<DataSubject:Ishan>, <DataSubject:Andrew>], [<DataSubject:Ishan>, <DataSubject:Andrew>], [<DataSubject:Ishan>, <DataSubject:Andrew>], [<DataSubject:Ishan>, <DataSubject:Andrew>], [<DataSubject:Ishan>, <DataSubject:Andrew>], [<DataSubject:Ishan>, <DataSubject:Andrew>], [<DataSubject:Ishan>, <DataSubject:Andrew>], [<DataSubject:Ishan>, <DataSubject:Andrew>], [<DataSubject:Ishan>, <DataSubject:Andrew>], [<DataSubject:Ishan>, <DataSubject:Andrew>], [<DataSubject:Ishan>, <DataSubject:Andrew>], [<DataSubject:Ishan>, <DataSubject:Andrew>], [<DataSubject:Ishan>, <DataSubject:Andrew>], [<DataSubject:Ishan>, <DataSubject:Andrew>], [<DataSubject:Ishan>, <DataSubject:Andrew>], [<DataSubject:Ishan>, <DataSubject:Andrew>], [<DataSubject:Ishan>, <DataSubject:Andrew>], [<DataSubject:Ishan>, <DataSubject:Andrew>], [<DataSubject:Ishan>, <DataSubject:Andrew>], [<DataSubject:Ishan>, <DataSubject:Andrew>], [<DataSubject:Ishan>, <DataSubject:Andrew>], [<DataSubject:Ishan>, <DataSubject:Andrew>], [<DataSubject:Ishan>, <DataSubject:Andrew>], [<DataSubject:Ishan>, <DataSubject:Andrew>], [<DataSubject:Ishan>, <DataSubject:Andrew>], [<DataSubject:Ishan>, <DataSubject:Andrew>], [<DataSubject:Ishan>, <DataSubject:Andrew>], [<DataSubject:Ishan>, <DataSubject:Andrew>], [<DataSubject:Ishan>, <DataSubject:Andrew>], [<DataSubject:Ishan>, <DataSubject:Andrew>], [<DataSubject:Ishan>, <DataSubject:Andrew>], [<DataSubject:Ishan>, <DataSubject:Andrew>], [<DataSubject:Ishan>, <DataSubject:Andrew>], [<DataSubject:Ishan>, <DataSubject:Andrew>], [<DataSubject:Ishan>, <DataSubject:Andrew>], [<DataSubject:Ishan>, <DataSubject:Andrew>], [<DataSubject:Ishan>, <DataSubject:Andrew>], [<DataSubject:Ishan>, <DataSubject:Andrew>], [<DataSubject:Ishan>, <DataSubject:Andrew>], [<DataSubject:Ishan>, <DataSubject:Andrew>], [<DataSubject:Ishan>, <DataSubject:Andrew>], [<DataSubject:Ishan>, <DataSubject:Andrew>], [<DataSubject:Ishan>, <DataSubject:Andrew>], [<DataSubject:Ishan>, <DataSubject:Andrew>], [<DataSubject:Ishan>, <DataSubject:Andrew>], [<DataSubject:Ishan>, <DataSubject:Andrew>], [<DataSubject:Ishan>, <DataSubject:Andrew>], [<DataSubject:Ishan>, <DataSubject:Andrew>], [<DataSubject:Ishan>, <DataSubject:Andrew>], [<DataSubject:Ishan>, <DataSubject:Andrew>], [<DataSubject:Ishan>, <DataSubject:Andrew>], [<DataSubject:Ishan>, <DataSubject:Andrew>], [<DataSubject:Ishan>, <DataSubject:Andrew>], [<DataSubject:Ishan>, <DataSubject:Andrew>], [<DataSubject:Ishan>, <DataSubject:Andrew>], [<DataSubject:Ishan>, <DataSubject:Andrew>], [<DataSubject:Ishan>, <DataSubject:Andrew>], [<DataSubject:Ishan>, <DataSubject:Andrew>], [<DataSubject:Ishan>, <DataSubject:Andrew>], [<DataSubject:Ishan>, <DataSubject:Andrew>], [<DataSubject:Ishan>, <DataSubject:Andrew>]]\n"
     ]
    }
   ],
   "source": [
    "l = []\n",
    "for _ in range(len(data.flatten())):\n",
    "    l.append([ishan, supreme_leader])\n",
    "print(l)"
   ]
  },
  {
   "cell_type": "code",
   "execution_count": 22,
   "id": "7899c62e-12e7-4f34-b34c-e2070c054e0d",
   "metadata": {},
   "outputs": [],
   "source": [
    "def add_septs(x: SEPT, y: SEPT) -> InitialGammaTensor:\n",
    "    # Assume shapes are equal, entities are not equal\n",
    "    data = x.child + y.child\n",
    "    min_vals = x.min_vals + y.min_vals\n",
    "    max_vals = x.max_vals + y.max_vals\n",
    "    entities = l\n",
    "    return InitialGammaTensor(values=data, max_vals=max_vals, min_vals=min_vals, entities=entities)"
   ]
  },
  {
   "cell_type": "code",
   "execution_count": 23,
   "id": "6453797e-7e2d-4391-a0db-506dfe07c841",
   "metadata": {},
   "outputs": [
    {
     "ename": "AttributeError",
     "evalue": "'list' object has no attribute 'id'",
     "output_type": "error",
     "traceback": [
      "\u001b[0;31m---------------------------------------------------------------------------\u001b[0m",
      "\u001b[0;31mAttributeError\u001b[0m                            Traceback (most recent call last)",
      "\u001b[0;32m/tmp/ipykernel_27926/1979873741.py\u001b[0m in \u001b[0;36m<module>\u001b[0;34m\u001b[0m\n\u001b[0;32m----> 1\u001b[0;31m \u001b[0madd_septs\u001b[0m\u001b[0;34m(\u001b[0m\u001b[0msept1\u001b[0m\u001b[0;34m,\u001b[0m \u001b[0msept2\u001b[0m\u001b[0;34m)\u001b[0m\u001b[0;34m\u001b[0m\u001b[0;34m\u001b[0m\u001b[0m\n\u001b[0m",
      "\u001b[0;32m/tmp/ipykernel_27926/2664376423.py\u001b[0m in \u001b[0;36madd_septs\u001b[0;34m(x, y)\u001b[0m\n\u001b[1;32m      5\u001b[0m     \u001b[0mmax_vals\u001b[0m \u001b[0;34m=\u001b[0m \u001b[0mx\u001b[0m\u001b[0;34m.\u001b[0m\u001b[0mmax_vals\u001b[0m \u001b[0;34m+\u001b[0m \u001b[0my\u001b[0m\u001b[0;34m.\u001b[0m\u001b[0mmax_vals\u001b[0m\u001b[0;34m\u001b[0m\u001b[0;34m\u001b[0m\u001b[0m\n\u001b[1;32m      6\u001b[0m     \u001b[0mentities\u001b[0m \u001b[0;34m=\u001b[0m \u001b[0ml\u001b[0m\u001b[0;34m\u001b[0m\u001b[0;34m\u001b[0m\u001b[0m\n\u001b[0;32m----> 7\u001b[0;31m     \u001b[0;32mreturn\u001b[0m \u001b[0mInitialGammaTensor\u001b[0m\u001b[0;34m(\u001b[0m\u001b[0mvalues\u001b[0m\u001b[0;34m=\u001b[0m\u001b[0mdata\u001b[0m\u001b[0;34m,\u001b[0m \u001b[0mmax_vals\u001b[0m\u001b[0;34m=\u001b[0m\u001b[0mmax_vals\u001b[0m\u001b[0;34m,\u001b[0m \u001b[0mmin_vals\u001b[0m\u001b[0;34m=\u001b[0m\u001b[0mmin_vals\u001b[0m\u001b[0;34m,\u001b[0m \u001b[0mentities\u001b[0m\u001b[0;34m=\u001b[0m\u001b[0mentities\u001b[0m\u001b[0;34m)\u001b[0m\u001b[0;34m\u001b[0m\u001b[0;34m\u001b[0m\u001b[0m\n\u001b[0m",
      "\u001b[0;32m~/PySyft/packages/syft/src/syft/core/tensor/autodp/initial_gamma.py\u001b[0m in \u001b[0;36m__init__\u001b[0;34m(self, values, min_vals, max_vals, entities, scalar_manager)\u001b[0m\n\u001b[1;32m     83\u001b[0m         \u001b[0msome_symbols\u001b[0m \u001b[0;34m=\u001b[0m \u001b[0mlist\u001b[0m\u001b[0;34m(\u001b[0m\u001b[0;34m)\u001b[0m\u001b[0;34m\u001b[0m\u001b[0;34m\u001b[0m\u001b[0m\n\u001b[1;32m     84\u001b[0m         \u001b[0;32mfor\u001b[0m \u001b[0mi\u001b[0m \u001b[0;32min\u001b[0m \u001b[0mrange\u001b[0m\u001b[0;34m(\u001b[0m\u001b[0mflat_values\u001b[0m\u001b[0;34m.\u001b[0m\u001b[0mshape\u001b[0m\u001b[0;34m[\u001b[0m\u001b[0;36m0\u001b[0m\u001b[0;34m]\u001b[0m\u001b[0;34m)\u001b[0m\u001b[0;34m:\u001b[0m\u001b[0;34m\u001b[0m\u001b[0;34m\u001b[0m\u001b[0m\n\u001b[0;32m---> 85\u001b[0;31m             prime = self.scalar_manager.get_symbol(\n\u001b[0m\u001b[1;32m     86\u001b[0m                 \u001b[0mmin_val\u001b[0m\u001b[0;34m=\u001b[0m\u001b[0mflat_min_vals\u001b[0m\u001b[0;34m[\u001b[0m\u001b[0mi\u001b[0m\u001b[0;34m]\u001b[0m\u001b[0;34m,\u001b[0m\u001b[0;34m\u001b[0m\u001b[0;34m\u001b[0m\u001b[0m\n\u001b[1;32m     87\u001b[0m                 \u001b[0mvalue\u001b[0m\u001b[0;34m=\u001b[0m\u001b[0mflat_values\u001b[0m\u001b[0;34m[\u001b[0m\u001b[0mi\u001b[0m\u001b[0;34m]\u001b[0m\u001b[0;34m,\u001b[0m\u001b[0;34m\u001b[0m\u001b[0;34m\u001b[0m\u001b[0m\n",
      "\u001b[0;32m~/PySyft/packages/syft/src/syft/core/adp/vm_private_scalar_manager.py\u001b[0m in \u001b[0;36mget_symbol\u001b[0;34m(self, min_val, value, max_val, entity)\u001b[0m\n\u001b[1;32m     48\u001b[0m         \u001b[0mentity\u001b[0m\u001b[0;34m:\u001b[0m \u001b[0mEntity\u001b[0m\u001b[0;34m,\u001b[0m\u001b[0;34m\u001b[0m\u001b[0;34m\u001b[0m\u001b[0m\n\u001b[1;32m     49\u001b[0m     ) -> int:\n\u001b[0;32m---> 50\u001b[0;31m         gs = GammaScalar(\n\u001b[0m\u001b[1;32m     51\u001b[0m             \u001b[0mmin_val\u001b[0m\u001b[0;34m=\u001b[0m\u001b[0mmin_val\u001b[0m\u001b[0;34m,\u001b[0m\u001b[0;34m\u001b[0m\u001b[0;34m\u001b[0m\u001b[0m\n\u001b[1;32m     52\u001b[0m             \u001b[0mvalue\u001b[0m\u001b[0;34m=\u001b[0m\u001b[0mvalue\u001b[0m\u001b[0;34m,\u001b[0m\u001b[0;34m\u001b[0m\u001b[0;34m\u001b[0m\u001b[0m\n",
      "\u001b[0;32m~/PySyft/packages/syft/src/syft/core/adp/scalar.py\u001b[0m in \u001b[0;36m__init__\u001b[0;34m(self, min_val, value, max_val, prime, entity, id, ssid)\u001b[0m\n\u001b[1;32m    623\u001b[0m         \u001b[0;31m# doesn't know how to process things that aren't strings\u001b[0m\u001b[0;34m\u001b[0m\u001b[0;34m\u001b[0m\u001b[0;34m\u001b[0m\u001b[0m\n\u001b[1;32m    624\u001b[0m         \u001b[0;32mif\u001b[0m \u001b[0mssid\u001b[0m \u001b[0;32mis\u001b[0m \u001b[0;32mNone\u001b[0m\u001b[0;34m:\u001b[0m\u001b[0;34m\u001b[0m\u001b[0;34m\u001b[0m\u001b[0m\n\u001b[0;32m--> 625\u001b[0;31m             \u001b[0mssid\u001b[0m \u001b[0;34m=\u001b[0m \u001b[0;34m\"_\"\u001b[0m \u001b[0;34m+\u001b[0m \u001b[0mself\u001b[0m\u001b[0;34m.\u001b[0m\u001b[0mid\u001b[0m\u001b[0;34m.\u001b[0m\u001b[0mno_dash\u001b[0m \u001b[0;34m+\u001b[0m \u001b[0;34m\"_\"\u001b[0m \u001b[0;34m+\u001b[0m \u001b[0mself\u001b[0m\u001b[0;34m.\u001b[0m\u001b[0mentity\u001b[0m\u001b[0;34m.\u001b[0m\u001b[0mid\u001b[0m\u001b[0;34m.\u001b[0m\u001b[0mno_dash\u001b[0m\u001b[0;34m\u001b[0m\u001b[0;34m\u001b[0m\u001b[0m\n\u001b[0m\u001b[1;32m    626\u001b[0m         \u001b[0mself\u001b[0m\u001b[0;34m.\u001b[0m\u001b[0mssid\u001b[0m \u001b[0;34m=\u001b[0m \u001b[0mssid\u001b[0m\u001b[0;34m\u001b[0m\u001b[0;34m\u001b[0m\u001b[0m\n\u001b[1;32m    627\u001b[0m \u001b[0;34m\u001b[0m\u001b[0m\n",
      "\u001b[0;31mAttributeError\u001b[0m: 'list' object has no attribute 'id'"
     ]
    }
   ],
   "source": [
    "add_septs(sept1, sept2)"
   ]
  },
  {
   "cell_type": "code",
   "execution_count": 32,
   "id": "f0d46f1d-ea0e-4348-b9b7-29b0cc3f4720",
   "metadata": {},
   "outputs": [],
   "source": [
    "igt1 = InitialGammaTensor(values=sept1.child, max_vals=sept1.max_vals, min_vals=sept1.min_vals, entities=z)"
   ]
  },
  {
   "cell_type": "code",
   "execution_count": 31,
   "id": "32bc3d18-3ee7-4ec4-b85f-7b3c65dbccdf",
   "metadata": {},
   "outputs": [],
   "source": [
    "z = np.array(ishan, dtype=object).repeat(len(sept1.child.flatten()))"
   ]
  },
  {
   "cell_type": "code",
   "execution_count": 34,
   "id": "297fdc36-0f2a-4e5a-907d-00e3c7b28e51",
   "metadata": {},
   "outputs": [
    {
     "data": {
      "text/plain": [
       "IntermediateGammaTensor(child=[[[  2   2]\n",
       "  [  3   3]\n",
       "  [  5   5]\n",
       "  [  7   7]\n",
       "  [ 11  11]\n",
       "  [ 13  13]\n",
       "  [ 17  17]\n",
       "  [ 19  19]\n",
       "  [ 23  23]\n",
       "  [ 29  29]]\n",
       "\n",
       " [[ 31  31]\n",
       "  [ 37  37]\n",
       "  [ 41  41]\n",
       "  [ 43  43]\n",
       "  [ 47  47]\n",
       "  [ 53  53]\n",
       "  [ 59  59]\n",
       "  [ 61  61]\n",
       "  [ 67  67]\n",
       "  [ 71  71]]\n",
       "\n",
       " [[ 73  73]\n",
       "  [ 79  79]\n",
       "  [ 83  83]\n",
       "  [ 89  89]\n",
       "  [ 97  97]\n",
       "  [101 101]\n",
       "  [103 103]\n",
       "  [107 107]\n",
       "  [109 109]\n",
       "  [113 113]]\n",
       "\n",
       " [[127 127]\n",
       "  [131 131]\n",
       "  [137 137]\n",
       "  [139 139]\n",
       "  [149 149]\n",
       "  [151 151]\n",
       "  [157 157]\n",
       "  [163 163]\n",
       "  [167 167]\n",
       "  [173 173]]\n",
       "\n",
       " [[179 179]\n",
       "  [181 181]\n",
       "  [191 191]\n",
       "  [193 193]\n",
       "  [197 197]\n",
       "  [199 199]\n",
       "  [211 211]\n",
       "  [223 223]\n",
       "  [227 227]\n",
       "  [229 229]]\n",
       "\n",
       " [[233 233]\n",
       "  [239 239]\n",
       "  [241 241]\n",
       "  [251 251]\n",
       "  [257 257]\n",
       "  [263 263]\n",
       "  [269 269]\n",
       "  [271 271]\n",
       "  [277 277]\n",
       "  [281 281]]\n",
       "\n",
       " [[283 283]\n",
       "  [293 293]\n",
       "  [307 307]\n",
       "  [311 311]\n",
       "  [313 313]\n",
       "  [317 317]\n",
       "  [331 331]\n",
       "  [337 337]\n",
       "  [347 347]\n",
       "  [349 349]]\n",
       "\n",
       " [[353 353]\n",
       "  [359 359]\n",
       "  [367 367]\n",
       "  [373 373]\n",
       "  [379 379]\n",
       "  [383 383]\n",
       "  [389 389]\n",
       "  [397 397]\n",
       "  [401 401]\n",
       "  [409 409]]\n",
       "\n",
       " [[419 419]\n",
       "  [421 421]\n",
       "  [431 431]\n",
       "  [433 433]\n",
       "  [439 439]\n",
       "  [443 443]\n",
       "  [449 449]\n",
       "  [457 457]\n",
       "  [461 461]\n",
       "  [463 463]]\n",
       "\n",
       " [[467 467]\n",
       "  [479 479]\n",
       "  [487 487]\n",
       "  [491 491]\n",
       "  [499 499]\n",
       "  [503 503]\n",
       "  [509 509]\n",
       "  [521 521]\n",
       "  [523 523]\n",
       "  [541 541]]])"
      ]
     },
     "execution_count": 34,
     "metadata": {},
     "output_type": "execute_result"
    }
   ],
   "source": [
    "igt1 + igt1"
   ]
  },
  {
   "cell_type": "code",
   "execution_count": 36,
   "id": "6d53bdb0-0edb-4fc7-883b-ba483b33ad6d",
   "metadata": {},
   "outputs": [
    {
     "data": {
      "text/plain": [
       "array([[-0.76095077,  0.54215743, -0.80521925, -0.60123546,  0.26309921,\n",
       "         0.5863726 ,  0.44325573,  0.97568773,  0.47652121, -0.11414884],\n",
       "       [-0.35578407, -0.99125976, -0.46960897, -0.7199951 ,  0.89683037,\n",
       "        -0.48984831, -0.5761228 ,  0.71922946,  0.0762044 , -0.85329096],\n",
       "       [-0.58763359,  0.3935691 , -0.61556277,  0.70463416,  0.65232665,\n",
       "         0.06701472, -0.39861383,  0.25274734, -0.49072407,  0.04019979],\n",
       "       [ 0.7674771 ,  0.71368542, -0.49769433,  0.581523  , -0.66975117,\n",
       "         0.56509721,  0.4333961 , -0.86884424,  0.41829448,  0.57767588],\n",
       "       [-0.07752227,  0.31654766, -0.91663402, -0.92129203, -0.60063427,\n",
       "        -0.03700161,  0.05403564,  0.67397407, -0.82247887, -0.95930051],\n",
       "       [ 0.21872702, -0.41635105,  0.74651114,  0.43725873,  0.36226488,\n",
       "         0.96277505, -0.58484638,  0.57667835, -0.35715433, -0.92452242],\n",
       "       [ 0.78438072, -0.6144256 ,  0.75120631, -0.18123795, -0.87986088,\n",
       "         0.61156678, -0.75637804, -0.06048071,  0.13663758, -0.40783723],\n",
       "       [-0.35603843,  0.85415658, -0.60631258, -0.75411375,  0.23433015,\n",
       "        -0.85011369, -0.63183943,  0.51928508,  0.42062902, -0.40585117],\n",
       "       [ 0.87110355, -0.37059781,  0.81793656, -0.60008505,  0.89344068,\n",
       "        -0.58017854, -0.5566256 ,  0.12886834, -0.21299978,  0.87698337],\n",
       "       [-0.54523047,  0.01926349, -0.72849132, -0.12792905, -0.68697   ,\n",
       "         0.85118162, -0.97348607, -0.14603355, -0.72735973, -0.17503408]])"
      ]
     },
     "execution_count": 36,
     "metadata": {},
     "output_type": "execute_result"
    }
   ],
   "source": [
    "data = data * 2 - 1\n",
    "data"
   ]
  },
  {
   "cell_type": "code",
   "execution_count": 41,
   "id": "17ed8e46-ecd9-47ba-8ecd-cc62e668a618",
   "metadata": {},
   "outputs": [
    {
     "data": {
      "text/plain": [
       "array([[ True,  True,  True,  True,  True,  True,  True,  True,  True,\n",
       "         True],\n",
       "       [ True,  True,  True,  True,  True,  True,  True,  True,  True,\n",
       "         True],\n",
       "       [ True,  True,  True,  True,  True,  True,  True,  True,  True,\n",
       "         True],\n",
       "       [ True,  True,  True,  True,  True,  True,  True,  True,  True,\n",
       "         True],\n",
       "       [ True,  True,  True,  True,  True,  True,  True,  True,  True,\n",
       "         True],\n",
       "       [ True,  True,  True,  True,  True,  True,  True,  True,  True,\n",
       "         True],\n",
       "       [ True,  True,  True,  True,  True,  True,  True,  True,  True,\n",
       "         True],\n",
       "       [ True,  True,  True,  True,  True,  True,  True,  True,  True,\n",
       "         True],\n",
       "       [ True,  True,  True,  True,  True,  True,  True,  True,  True,\n",
       "         True],\n",
       "       [ True,  True,  True,  True,  True,  True,  True,  True,  True,\n",
       "         True]])"
      ]
     },
     "execution_count": 41,
     "metadata": {},
     "output_type": "execute_result"
    }
   ],
   "source": [
    "data.__pos__() == data"
   ]
  },
  {
   "cell_type": "code",
   "execution_count": 38,
   "id": "158bc443-e82c-4866-9506-7ca814f18965",
   "metadata": {},
   "outputs": [
    {
     "data": {
      "text/plain": [
       "array([[-0.76095077,  0.54215743, -0.80521925, -0.60123546,  0.26309921,\n",
       "         0.5863726 ,  0.44325573,  0.97568773,  0.47652121, -0.11414884],\n",
       "       [-0.35578407, -0.99125976, -0.46960897, -0.7199951 ,  0.89683037,\n",
       "        -0.48984831, -0.5761228 ,  0.71922946,  0.0762044 , -0.85329096],\n",
       "       [-0.58763359,  0.3935691 , -0.61556277,  0.70463416,  0.65232665,\n",
       "         0.06701472, -0.39861383,  0.25274734, -0.49072407,  0.04019979],\n",
       "       [ 0.7674771 ,  0.71368542, -0.49769433,  0.581523  , -0.66975117,\n",
       "         0.56509721,  0.4333961 , -0.86884424,  0.41829448,  0.57767588],\n",
       "       [-0.07752227,  0.31654766, -0.91663402, -0.92129203, -0.60063427,\n",
       "        -0.03700161,  0.05403564,  0.67397407, -0.82247887, -0.95930051],\n",
       "       [ 0.21872702, -0.41635105,  0.74651114,  0.43725873,  0.36226488,\n",
       "         0.96277505, -0.58484638,  0.57667835, -0.35715433, -0.92452242],\n",
       "       [ 0.78438072, -0.6144256 ,  0.75120631, -0.18123795, -0.87986088,\n",
       "         0.61156678, -0.75637804, -0.06048071,  0.13663758, -0.40783723],\n",
       "       [-0.35603843,  0.85415658, -0.60631258, -0.75411375,  0.23433015,\n",
       "        -0.85011369, -0.63183943,  0.51928508,  0.42062902, -0.40585117],\n",
       "       [ 0.87110355, -0.37059781,  0.81793656, -0.60008505,  0.89344068,\n",
       "        -0.58017854, -0.5566256 ,  0.12886834, -0.21299978,  0.87698337],\n",
       "       [-0.54523047,  0.01926349, -0.72849132, -0.12792905, -0.68697   ,\n",
       "         0.85118162, -0.97348607, -0.14603355, -0.72735973, -0.17503408]])"
      ]
     },
     "execution_count": 38,
     "metadata": {},
     "output_type": "execute_result"
    }
   ],
   "source": [
    "np.positive(data)"
   ]
  },
  {
   "cell_type": "code",
   "execution_count": 43,
   "id": "73f4259b-e813-47a7-96a8-d3ecb807b905",
   "metadata": {},
   "outputs": [
    {
     "data": {
      "text/plain": [
       "array([[[     4,      2,      2],\n",
       "        [     9,      3,      3],\n",
       "        [    25,      5,      5],\n",
       "        [    49,      7,      7],\n",
       "        [   121,     11,     11],\n",
       "        [   169,     13,     13],\n",
       "        [   289,     17,     17],\n",
       "        [   361,     19,     19],\n",
       "        [   529,     23,     23],\n",
       "        [   841,     29,     29]],\n",
       "\n",
       "       [[   961,     31,     31],\n",
       "        [  1369,     37,     37],\n",
       "        [  1681,     41,     41],\n",
       "        [  1849,     43,     43],\n",
       "        [  2209,     47,     47],\n",
       "        [  2809,     53,     53],\n",
       "        [  3481,     59,     59],\n",
       "        [  3721,     61,     61],\n",
       "        [  4489,     67,     67],\n",
       "        [  5041,     71,     71]],\n",
       "\n",
       "       [[  5329,     73,     73],\n",
       "        [  6241,     79,     79],\n",
       "        [  6889,     83,     83],\n",
       "        [  7921,     89,     89],\n",
       "        [  9409,     97,     97],\n",
       "        [ 10201,    101,    101],\n",
       "        [ 10609,    103,    103],\n",
       "        [ 11449,    107,    107],\n",
       "        [ 11881,    109,    109],\n",
       "        [ 12769,    113,    113]],\n",
       "\n",
       "       [[ 16129,    127,    127],\n",
       "        [ 17161,    131,    131],\n",
       "        [ 18769,    137,    137],\n",
       "        [ 19321,    139,    139],\n",
       "        [ 22201,    149,    149],\n",
       "        [ 22801,    151,    151],\n",
       "        [ 24649,    157,    157],\n",
       "        [ 26569,    163,    163],\n",
       "        [ 27889,    167,    167],\n",
       "        [ 29929,    173,    173]],\n",
       "\n",
       "       [[ 32041,    179,    179],\n",
       "        [ 32761,    181,    181],\n",
       "        [ 36481,    191,    191],\n",
       "        [ 37249,    193,    193],\n",
       "        [ 38809,    197,    197],\n",
       "        [ 39601,    199,    199],\n",
       "        [ 44521,    211,    211],\n",
       "        [ 49729,    223,    223],\n",
       "        [ 51529,    227,    227],\n",
       "        [ 52441,    229,    229]],\n",
       "\n",
       "       [[ 54289,    233,    233],\n",
       "        [ 57121,    239,    239],\n",
       "        [ 58081,    241,    241],\n",
       "        [ 63001,    251,    251],\n",
       "        [ 66049,    257,    257],\n",
       "        [ 69169,    263,    263],\n",
       "        [ 72361,    269,    269],\n",
       "        [ 73441,    271,    271],\n",
       "        [ 76729,    277,    277],\n",
       "        [ 78961,    281,    281]],\n",
       "\n",
       "       [[ 80089,    283,    283],\n",
       "        [ 85849,    293,    293],\n",
       "        [ 94249,    307,    307],\n",
       "        [ 96721,    311,    311],\n",
       "        [ 97969,    313,    313],\n",
       "        [100489,    317,    317],\n",
       "        [109561,    331,    331],\n",
       "        [113569,    337,    337],\n",
       "        [120409,    347,    347],\n",
       "        [121801,    349,    349]],\n",
       "\n",
       "       [[124609,    353,    353],\n",
       "        [128881,    359,    359],\n",
       "        [134689,    367,    367],\n",
       "        [139129,    373,    373],\n",
       "        [143641,    379,    379],\n",
       "        [146689,    383,    383],\n",
       "        [151321,    389,    389],\n",
       "        [157609,    397,    397],\n",
       "        [160801,    401,    401],\n",
       "        [167281,    409,    409]],\n",
       "\n",
       "       [[175561,    419,    419],\n",
       "        [177241,    421,    421],\n",
       "        [185761,    431,    431],\n",
       "        [187489,    433,    433],\n",
       "        [192721,    439,    439],\n",
       "        [196249,    443,    443],\n",
       "        [201601,    449,    449],\n",
       "        [208849,    457,    457],\n",
       "        [212521,    461,    461],\n",
       "        [214369,    463,    463]],\n",
       "\n",
       "       [[218089,    467,    467],\n",
       "        [229441,    479,    479],\n",
       "        [237169,    487,    487],\n",
       "        [241081,    491,    491],\n",
       "        [249001,    499,    499],\n",
       "        [253009,    503,    503],\n",
       "        [259081,    509,    509],\n",
       "        [271441,    521,    521],\n",
       "        [273529,    523,    523],\n",
       "        [292681,    541,    541]]])"
      ]
     },
     "execution_count": 43,
     "metadata": {},
     "output_type": "execute_result"
    }
   ],
   "source": [
    "mul_resul = igt1 * igt1\n",
    "mul_resul.term_tensor"
   ]
  },
  {
   "cell_type": "code",
   "execution_count": 46,
   "id": "43fd5d68-d1e0-457e-a3a3-808a31cca13e",
   "metadata": {},
   "outputs": [
    {
     "data": {
      "text/plain": [
       "1"
      ]
     },
     "execution_count": 46,
     "metadata": {},
     "output_type": "execute_result"
    }
   ],
   "source": [
    "+True"
   ]
  },
  {
   "cell_type": "code",
   "execution_count": 48,
   "id": "1e5157c5-4350-40bf-ad6f-03dfa972faa4",
   "metadata": {},
   "outputs": [
    {
     "data": {
      "text/plain": [
       "1"
      ]
     },
     "execution_count": 48,
     "metadata": {},
     "output_type": "execute_result"
    }
   ],
   "source": [
    "int(True)"
   ]
  },
  {
   "cell_type": "code",
   "execution_count": 50,
   "id": "beded5fb-7c90-44fa-8446-3e2b0f617182",
   "metadata": {},
   "outputs": [
    {
     "data": {
      "text/plain": [
       "True"
      ]
     },
     "execution_count": 50,
     "metadata": {},
     "output_type": "execute_result"
    }
   ],
   "source": [
    "igt1.shape == data.shape"
   ]
  },
  {
   "cell_type": "code",
   "execution_count": 53,
   "id": "d92b975d-dee9-4250-bfda-dbbae3fe4411",
   "metadata": {},
   "outputs": [
    {
     "data": {
      "text/plain": [
       "array([[ True,  True,  True,  True,  True,  True,  True,  True,  True,\n",
       "         True],\n",
       "       [ True,  True,  True,  True,  True,  True,  True,  True,  True,\n",
       "         True],\n",
       "       [ True,  True,  True,  True,  True,  True,  True,  True,  True,\n",
       "         True],\n",
       "       [ True,  True,  True,  True,  True,  True,  True,  True,  True,\n",
       "         True],\n",
       "       [ True,  True,  True,  True,  True,  True,  True,  True,  True,\n",
       "         True],\n",
       "       [ True,  True,  True,  True,  True,  True,  True,  True,  True,\n",
       "         True],\n",
       "       [ True,  True,  True,  True,  True,  True,  True,  True,  True,\n",
       "         True],\n",
       "       [ True,  True,  True,  True,  True,  True,  True,  True,  True,\n",
       "         True],\n",
       "       [ True,  True,  True,  True,  True,  True,  True,  True,  True,\n",
       "         True],\n",
       "       [ True,  True,  True,  True,  True,  True,  True,  True,  True,\n",
       "         True]])"
      ]
     },
     "execution_count": 53,
     "metadata": {},
     "output_type": "execute_result"
    }
   ],
   "source": [
    "igt1.values == sept1.child"
   ]
  },
  {
   "cell_type": "code",
   "execution_count": 55,
   "id": "aeb4a1fb-ebcc-4840-b468-5c4d9849d0c4",
   "metadata": {},
   "outputs": [],
   "source": [
    "gamma = igt1 + igt1"
   ]
  },
  {
   "cell_type": "code",
   "execution_count": 56,
   "id": "aef1dcb5-8680-40ef-88c8-01cdd164a0d8",
   "metadata": {},
   "outputs": [
    {
     "data": {
      "text/plain": [
       "True"
      ]
     },
     "execution_count": 56,
     "metadata": {},
     "output_type": "execute_result"
    }
   ],
   "source": [
    "gamma.shape == sept1.shape"
   ]
  },
  {
   "cell_type": "code",
   "execution_count": 66,
   "id": "2635bb45-208d-4379-9807-79726755826f",
   "metadata": {},
   "outputs": [
    {
     "data": {
      "text/plain": [
       "0.11952461518590152"
      ]
     },
     "execution_count": 66,
     "metadata": {},
     "output_type": "execute_result"
    }
   ],
   "source": [
    "gamma.flat_scalars[0].input_scalars[0].value"
   ]
  },
  {
   "cell_type": "code",
   "execution_count": 67,
   "id": "25b2d09a-7fa4-4249-827e-b0400fb4e67a",
   "metadata": {},
   "outputs": [],
   "source": [
    "from syft.core.tensor.autodp.dp_tensor_converter import convert_to_gamma_tensor"
   ]
  },
  {
   "cell_type": "code",
   "execution_count": 70,
   "id": "cb85492e-7418-457f-a6b4-9762f3a80a9b",
   "metadata": {},
   "outputs": [
    {
     "ename": "Exception",
     "evalue": "Cannot add two tensors with different symbol encodings",
     "output_type": "error",
     "traceback": [
      "\u001b[0;31m---------------------------------------------------------------------------\u001b[0m",
      "\u001b[0;31mException\u001b[0m                                 Traceback (most recent call last)",
      "\u001b[0;32m/tmp/ipykernel_27926/3659289801.py\u001b[0m in \u001b[0;36m<module>\u001b[0;34m\u001b[0m\n\u001b[0;32m----> 1\u001b[0;31m \u001b[0mconvert_to_gamma_tensor\u001b[0m\u001b[0;34m(\u001b[0m\u001b[0msept1\u001b[0m\u001b[0;34m)\u001b[0m \u001b[0;34m+\u001b[0m \u001b[0mconvert_to_gamma_tensor\u001b[0m\u001b[0;34m(\u001b[0m\u001b[0msept2\u001b[0m\u001b[0;34m)\u001b[0m\u001b[0;34m\u001b[0m\u001b[0;34m\u001b[0m\u001b[0m\n\u001b[0m",
      "\u001b[0;32m~/PySyft/packages/syft/src/syft/core/tensor/autodp/intermediate_gamma.py\u001b[0m in \u001b[0;36m__add__\u001b[0;34m(self, other)\u001b[0m\n\u001b[1;32m    161\u001b[0m             \u001b[0;32mif\u001b[0m \u001b[0mself\u001b[0m\u001b[0;34m.\u001b[0m\u001b[0mscalar_manager\u001b[0m \u001b[0;34m!=\u001b[0m \u001b[0mother\u001b[0m\u001b[0;34m.\u001b[0m\u001b[0mscalar_manager\u001b[0m\u001b[0;34m:\u001b[0m\u001b[0;34m\u001b[0m\u001b[0;34m\u001b[0m\u001b[0m\n\u001b[1;32m    162\u001b[0m                 \u001b[0;31m# TODO: come up with a method for combining symbol factories\u001b[0m\u001b[0;34m\u001b[0m\u001b[0;34m\u001b[0m\u001b[0;34m\u001b[0m\u001b[0m\n\u001b[0;32m--> 163\u001b[0;31m                 raise Exception(\n\u001b[0m\u001b[1;32m    164\u001b[0m                     \u001b[0;34m\"Cannot add two tensors with different symbol encodings\"\u001b[0m\u001b[0;34m\u001b[0m\u001b[0;34m\u001b[0m\u001b[0m\n\u001b[1;32m    165\u001b[0m                 )\n",
      "\u001b[0;31mException\u001b[0m: Cannot add two tensors with different symbol encodings"
     ]
    }
   ],
   "source": [
    "convert_to_gamma_tensor(sept1) + convert_to_gamma_tensor(sept2)"
   ]
  },
  {
   "cell_type": "code",
   "execution_count": 72,
   "id": "9f4d11e0-2bd5-4a70-8543-2d8896da63b9",
   "metadata": {},
   "outputs": [
    {
     "data": {
      "text/plain": [
       "syft.core.tensor.autodp.initial_gamma.InitialGammaTensor"
      ]
     },
     "execution_count": 72,
     "metadata": {},
     "output_type": "execute_result"
    }
   ],
   "source": [
    "type(igt1)"
   ]
  },
  {
   "cell_type": "code",
   "execution_count": 75,
   "id": "d8e45e95-0be4-4263-b4a1-2c66826d0fbb",
   "metadata": {},
   "outputs": [
    {
     "data": {
      "text/plain": [
       "array([[[  2,   3,   5,   7,  11,  13,  17,  19,  23,  29],\n",
       "        [ 31,  37,  41,  43,  47,  53,  59,  61,  67,  71],\n",
       "        [ 73,  79,  83,  89,  97, 101, 103, 107, 109, 113],\n",
       "        [127, 131, 137, 139, 149, 151, 157, 163, 167, 173],\n",
       "        [179, 181, 191, 193, 197, 199, 211, 223, 227, 229],\n",
       "        [233, 239, 241, 251, 257, 263, 269, 271, 277, 281],\n",
       "        [283, 293, 307, 311, 313, 317, 331, 337, 347, 349],\n",
       "        [353, 359, 367, 373, 379, 383, 389, 397, 401, 409],\n",
       "        [419, 421, 431, 433, 439, 443, 449, 457, 461, 463],\n",
       "        [467, 479, 487, 491, 499, 503, 509, 521, 523, 541]]])"
      ]
     },
     "execution_count": 75,
     "metadata": {},
     "output_type": "execute_result"
    }
   ],
   "source": [
    "igt1.child.reshape(1, 10, 10)"
   ]
  },
  {
   "cell_type": "code",
   "execution_count": null,
   "id": "b75dd3b0-20d5-471b-b14e-4acaff47589a",
   "metadata": {},
   "outputs": [],
   "source": []
  }
 ],
 "metadata": {
  "kernelspec": {
   "display_name": "Python 3 (ipykernel)",
   "language": "python",
   "name": "python3"
  },
  "language_info": {
   "codemirror_mode": {
    "name": "ipython",
    "version": 3
   },
   "file_extension": ".py",
   "mimetype": "text/x-python",
   "name": "python",
   "nbconvert_exporter": "python",
   "pygments_lexer": "ipython3",
   "version": "3.8.11"
  }
 },
 "nbformat": 4,
 "nbformat_minor": 5
}

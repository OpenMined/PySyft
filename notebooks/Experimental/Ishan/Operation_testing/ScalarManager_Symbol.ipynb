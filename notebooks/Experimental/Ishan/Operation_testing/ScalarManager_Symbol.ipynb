{
 "cells": [
  {
   "cell_type": "code",
   "execution_count": 1,
   "id": "a7a213d2-10ec-4944-a9a9-65c3cab55c23",
   "metadata": {},
   "outputs": [],
   "source": [
    "import syft as sy\n",
    "import numpy as np\n",
    "from syft.core.adp.entity import DataSubject\n",
    "from syft.core.tensor.autodp.single_entity_phi import SingleEntityPhiTensor as SEPT\n",
    "from syft.core.tensor.autodp.initial_gamma import InitialGammaTensor, IntermediateGammaTensor\n",
    "from syft.core.tensor.autodp.dp_tensor_converter import convert_to_gamma_tensor"
   ]
  },
  {
   "cell_type": "code",
   "execution_count": 2,
   "id": "7302191b-1ad8-4046-b169-bac45a22571b",
   "metadata": {},
   "outputs": [],
   "source": [
    "ishan = DataSubject(name=\"Ishan\")\n",
    "supreme_leader = DataSubject(name=\"Andrew\")"
   ]
  },
  {
   "cell_type": "code",
   "execution_count": 3,
   "id": "71d90b34-775f-46ba-9011-f83adbc6749c",
   "metadata": {},
   "outputs": [],
   "source": [
    "dims = np.random.randint(10) + 1\n",
    "\n",
    "upper_bound = np.ones(dims)\n",
    "lower_bound = np.zeros(dims)\n",
    "data = np.random.random((dims, dims))"
   ]
  },
  {
   "cell_type": "code",
   "execution_count": 4,
   "id": "90c5baa3-cf48-4ee3-a3ae-10bf91d1582d",
   "metadata": {},
   "outputs": [],
   "source": [
    "sept1 = SEPT(child=data, min_vals=lower_bound, max_vals=upper_bound, entity=ishan)\n",
    "sept2 = SEPT(child=data, min_vals=lower_bound, max_vals=upper_bound, entity=supreme_leader)"
   ]
  },
  {
   "cell_type": "code",
   "execution_count": 5,
   "id": "590a444a-a88f-46e8-8e52-cc0bb080281a",
   "metadata": {},
   "outputs": [],
   "source": [
    "#convert_to_gamma_tensor(sept1)"
   ]
  },
  {
   "cell_type": "code",
   "execution_count": 6,
   "id": "404fc56d-2009-49aa-bb3b-0872c2303314",
   "metadata": {},
   "outputs": [
    {
     "name": "stdout",
     "output_type": "stream",
     "text": [
      "(2,)\n"
     ]
    }
   ],
   "source": [
    "flat_min_vals = lower_bound.flatten()\n",
    "print(flat_min_vals.shape)"
   ]
  },
  {
   "cell_type": "code",
   "execution_count": 7,
   "id": "114bd498-4e42-4adf-b836-77188a3077ba",
   "metadata": {},
   "outputs": [
    {
     "name": "stdout",
     "output_type": "stream",
     "text": [
      "(4,)\n"
     ]
    }
   ],
   "source": [
    "print(data.flatten().shape)"
   ]
  },
  {
   "cell_type": "code",
   "execution_count": 8,
   "id": "5fc7d432-4b94-4b2d-907c-57c5b482ded6",
   "metadata": {},
   "outputs": [],
   "source": [
    "# convert_to_gamma_tensor(SEPT(child=data, min_vals=np.zeros_like(data), max_vals=np.ones_like(data), entity=ishan)) + \\\n",
    "# convert_to_gamma_tensor(SEPT(child=data, min_vals=np.zeros_like(data), max_vals=np.ones_like(data), entity=supreme_leader))"
   ]
  },
  {
   "cell_type": "code",
   "execution_count": 9,
   "id": "5df8f089-1210-4daf-a3d2-de4aba07f545",
   "metadata": {},
   "outputs": [
    {
     "name": "stdout",
     "output_type": "stream",
     "text": [
      "True\n"
     ]
    }
   ],
   "source": [
    "manager = sy.core.adp.vm_private_scalar_manager.VirtualMachinePrivateScalarManager()\n",
    "test_sept1 = SEPT(child=data, min_vals=np.zeros_like(data), max_vals=np.ones_like(data), entity=ishan, scalar_manager=manager)\n",
    "test_sept2 = SEPT(child=data, min_vals=np.zeros_like(data), max_vals=np.ones_like(data), entity=supreme_leader, scalar_manager=manager)\n",
    "\n",
    "print(test_sept1.scalar_manager == test_sept2.scalar_manager)"
   ]
  },
  {
   "cell_type": "code",
   "execution_count": 10,
   "id": "0e76e9d2-bc23-4272-8fe1-4c957d50c23e",
   "metadata": {},
   "outputs": [
    {
     "data": {
      "text/plain": [
       "IntermediateGammaTensor(child=[[[ 2 11]\n",
       "  [ 3 13]]\n",
       "\n",
       " [[ 5 17]\n",
       "  [ 7 19]]])"
      ]
     },
     "execution_count": 10,
     "metadata": {},
     "output_type": "execute_result"
    }
   ],
   "source": [
    "convert_to_gamma_tensor(test_sept1) + \\\n",
    "convert_to_gamma_tensor(test_sept2)"
   ]
  },
  {
   "cell_type": "code",
   "execution_count": 11,
   "id": "66b8357a-5e1e-4aca-9519-50fff001dbbf",
   "metadata": {},
   "outputs": [
    {
     "data": {
      "text/plain": [
       "<syft.core.adp.vm_private_scalar_manager.VirtualMachinePrivateScalarManager at 0x7f13d8bc0ac0>"
      ]
     },
     "execution_count": 11,
     "metadata": {},
     "output_type": "execute_result"
    }
   ],
   "source": [
    "SEPT(child=data, min_vals=np.zeros_like(data), max_vals=np.ones_like(data), entity=ishan, scalar_manager=manager).scalar_manager"
   ]
  },
  {
   "cell_type": "code",
   "execution_count": 12,
   "id": "20fee768-cad4-4c20-8fb3-2636d7e58a6f",
   "metadata": {},
   "outputs": [
    {
     "data": {
      "text/plain": [
       "<syft.core.adp.vm_private_scalar_manager.VirtualMachinePrivateScalarManager at 0x7f13d8bc0ac0>"
      ]
     },
     "execution_count": 12,
     "metadata": {},
     "output_type": "execute_result"
    }
   ],
   "source": [
    "SEPT(child=data, min_vals=np.zeros_like(data), max_vals=np.ones_like(data), entity=supreme_leader, scalar_manager=manager).scalar_manager"
   ]
  },
  {
   "cell_type": "code",
   "execution_count": 13,
   "id": "ecc1e35f-26fd-47d6-a5e5-45b3dbb2b79e",
   "metadata": {},
   "outputs": [
    {
     "name": "stdout",
     "output_type": "stream",
     "text": [
      "<syft.core.adp.vm_private_scalar_manager.VirtualMachinePrivateScalarManager object at 0x7f13d8ba8e50> <syft.core.adp.vm_private_scalar_manager.VirtualMachinePrivateScalarManager object at 0x7f13d8ba8190>\n"
     ]
    }
   ],
   "source": [
    "print(sept1.scalar_manager, sept2.scalar_manager)"
   ]
  },
  {
   "cell_type": "code",
   "execution_count": 14,
   "id": "d7dab4e9-a928-4767-b89d-06b9753486a6",
   "metadata": {},
   "outputs": [],
   "source": [
    "sept2.scalar_manager = sept1.scalar_manager"
   ]
  },
  {
   "cell_type": "code",
   "execution_count": 15,
   "id": "fdf28213-1b99-4d90-88ea-92f89d003f14",
   "metadata": {},
   "outputs": [
    {
     "data": {
      "text/plain": [
       "True"
      ]
     },
     "execution_count": 15,
     "metadata": {},
     "output_type": "execute_result"
    }
   ],
   "source": [
    "sept2.scalar_manager == sept1.scalar_manager"
   ]
  },
  {
   "cell_type": "code",
   "execution_count": 21,
   "id": "6019881d-7992-4194-80ff-c55bb92ddfb9",
   "metadata": {},
   "outputs": [
    {
     "ename": "IndexError",
     "evalue": "index 2 is out of bounds for axis 0 with size 2",
     "output_type": "error",
     "traceback": [
      "\u001b[0;31m---------------------------------------------------------------------------\u001b[0m",
      "\u001b[0;31mIndexError\u001b[0m                                Traceback (most recent call last)",
      "\u001b[0;32m/tmp/ipykernel_159502/3245166946.py\u001b[0m in \u001b[0;36m<module>\u001b[0;34m\u001b[0m\n\u001b[0;32m----> 1\u001b[0;31m \u001b[0mresult\u001b[0m \u001b[0;34m=\u001b[0m \u001b[0mconvert_to_gamma_tensor\u001b[0m\u001b[0;34m(\u001b[0m\u001b[0msept1\u001b[0m\u001b[0;34m)\u001b[0m \u001b[0;34m+\u001b[0m \u001b[0mconvert_to_gamma_tensor\u001b[0m\u001b[0;34m(\u001b[0m\u001b[0msept2\u001b[0m\u001b[0;34m)\u001b[0m\u001b[0;34m\u001b[0m\u001b[0;34m\u001b[0m\u001b[0m\n\u001b[0m",
      "\u001b[0;32m~/PySyft/packages/syft/src/syft/core/tensor/autodp/dp_tensor_converter.py\u001b[0m in \u001b[0;36mconvert_to_gamma_tensor\u001b[0;34m(x)\u001b[0m\n\u001b[1;32m      8\u001b[0m \u001b[0;32mdef\u001b[0m \u001b[0mconvert_to_gamma_tensor\u001b[0m\u001b[0;34m(\u001b[0m\u001b[0mx\u001b[0m\u001b[0;34m)\u001b[0m \u001b[0;34m->\u001b[0m \u001b[0mInitialGammaTensor\u001b[0m\u001b[0;34m:\u001b[0m  \u001b[0;31m# type: ignore\u001b[0m\u001b[0;34m\u001b[0m\u001b[0;34m\u001b[0m\u001b[0m\n\u001b[1;32m      9\u001b[0m     \u001b[0;34m\"\"\" Helper function to convert (x) SEPT to InitialGammaTensor, for private-private operations\"\"\"\u001b[0m\u001b[0;34m\u001b[0m\u001b[0;34m\u001b[0m\u001b[0m\n\u001b[0;32m---> 10\u001b[0;31m     return InitialGammaTensor(\n\u001b[0m\u001b[1;32m     11\u001b[0m         \u001b[0mvalues\u001b[0m\u001b[0;34m=\u001b[0m\u001b[0mx\u001b[0m\u001b[0;34m.\u001b[0m\u001b[0mchild\u001b[0m\u001b[0;34m,\u001b[0m\u001b[0;34m\u001b[0m\u001b[0;34m\u001b[0m\u001b[0m\n\u001b[1;32m     12\u001b[0m         \u001b[0mmin_vals\u001b[0m\u001b[0;34m=\u001b[0m\u001b[0mx\u001b[0m\u001b[0;34m.\u001b[0m\u001b[0mmin_vals\u001b[0m\u001b[0;34m,\u001b[0m\u001b[0;34m\u001b[0m\u001b[0;34m\u001b[0m\u001b[0m\n",
      "\u001b[0;32m~/PySyft/packages/syft/src/syft/core/tensor/autodp/initial_gamma.py\u001b[0m in \u001b[0;36m__init__\u001b[0;34m(self, values, min_vals, max_vals, entities, scalar_manager)\u001b[0m\n\u001b[1;32m     85\u001b[0m         \u001b[0;32mfor\u001b[0m \u001b[0mi\u001b[0m \u001b[0;32min\u001b[0m \u001b[0mrange\u001b[0m\u001b[0;34m(\u001b[0m\u001b[0mflat_values\u001b[0m\u001b[0;34m.\u001b[0m\u001b[0mshape\u001b[0m\u001b[0;34m[\u001b[0m\u001b[0;36m0\u001b[0m\u001b[0;34m]\u001b[0m\u001b[0;34m)\u001b[0m\u001b[0;34m:\u001b[0m\u001b[0;34m\u001b[0m\u001b[0;34m\u001b[0m\u001b[0m\n\u001b[1;32m     86\u001b[0m             prime = self.scalar_manager.get_symbol(\n\u001b[0;32m---> 87\u001b[0;31m                 \u001b[0mmin_val\u001b[0m\u001b[0;34m=\u001b[0m\u001b[0mflat_min_vals\u001b[0m\u001b[0;34m[\u001b[0m\u001b[0mi\u001b[0m\u001b[0;34m]\u001b[0m\u001b[0;34m,\u001b[0m\u001b[0;34m\u001b[0m\u001b[0;34m\u001b[0m\u001b[0m\n\u001b[0m\u001b[1;32m     88\u001b[0m                 \u001b[0mvalue\u001b[0m\u001b[0;34m=\u001b[0m\u001b[0mflat_values\u001b[0m\u001b[0;34m[\u001b[0m\u001b[0mi\u001b[0m\u001b[0;34m]\u001b[0m\u001b[0;34m,\u001b[0m\u001b[0;34m\u001b[0m\u001b[0;34m\u001b[0m\u001b[0m\n\u001b[1;32m     89\u001b[0m                 \u001b[0mmax_val\u001b[0m\u001b[0;34m=\u001b[0m\u001b[0mflat_max_vals\u001b[0m\u001b[0;34m[\u001b[0m\u001b[0mi\u001b[0m\u001b[0;34m]\u001b[0m\u001b[0;34m,\u001b[0m\u001b[0;34m\u001b[0m\u001b[0;34m\u001b[0m\u001b[0m\n",
      "\u001b[0;31mIndexError\u001b[0m: index 2 is out of bounds for axis 0 with size 2"
     ]
    }
   ],
   "source": [
    "result = convert_to_gamma_tensor(sept1) + convert_to_gamma_tensor(sept2)"
   ]
  },
  {
   "cell_type": "code",
   "execution_count": 17,
   "id": "0d0a811b-a7f6-4e81-bd52-3329e1184e97",
   "metadata": {},
   "outputs": [
    {
     "data": {
      "text/plain": [
       "SingleEntityPhiTensor(entity=Ishan, child=[[0.51664814 0.36073704]\n",
       " [0.97300772 0.25267884]])"
      ]
     },
     "execution_count": 17,
     "metadata": {},
     "output_type": "execute_result"
    }
   ],
   "source": [
    "sept1"
   ]
  },
  {
   "cell_type": "code",
   "execution_count": 18,
   "id": "5b2baf4f-42d8-44b0-9e4b-ddcbe6a2713e",
   "metadata": {},
   "outputs": [
    {
     "data": {
      "text/plain": [
       "SingleEntityPhiTensor(entity=Andrew, child=[[0.51664814 0.36073704]\n",
       " [0.97300772 0.25267884]])"
      ]
     },
     "execution_count": 18,
     "metadata": {},
     "output_type": "execute_result"
    }
   ],
   "source": [
    "sept2"
   ]
  },
  {
   "cell_type": "code",
   "execution_count": 19,
   "id": "da2115b8-a1d2-4e45-8b47-13c0769d3c6a",
   "metadata": {},
   "outputs": [
    {
     "ename": "NameError",
     "evalue": "name 'result' is not defined",
     "output_type": "error",
     "traceback": [
      "\u001b[0;31m---------------------------------------------------------------------------\u001b[0m",
      "\u001b[0;31mNameError\u001b[0m                                 Traceback (most recent call last)",
      "\u001b[0;32m/tmp/ipykernel_159502/3201066768.py\u001b[0m in \u001b[0;36m<module>\u001b[0;34m\u001b[0m\n\u001b[0;32m----> 1\u001b[0;31m \u001b[0mresult\u001b[0m\u001b[0;34m.\u001b[0m\u001b[0mflat_scalars\u001b[0m\u001b[0;34m\u001b[0m\u001b[0;34m\u001b[0m\u001b[0m\n\u001b[0m",
      "\u001b[0;31mNameError\u001b[0m: name 'result' is not defined"
     ]
    }
   ],
   "source": [
    "result.flat_scalars"
   ]
  },
  {
   "cell_type": "code",
   "execution_count": null,
   "id": "ca4d957c-a612-436e-a758-63b92968a3e0",
   "metadata": {},
   "outputs": [],
   "source": [
    "len(result.flat_scalars)"
   ]
  },
  {
   "cell_type": "code",
   "execution_count": null,
   "id": "a75fd09b-7b50-4a21-859b-50ef8d6ef8d7",
   "metadata": {},
   "outputs": [],
   "source": [
    "assert result.flat_scalars[0].input_scalars[0].value == sept1.child[0] + sept2.child[0]"
   ]
  },
  {
   "cell_type": "code",
   "execution_count": null,
   "id": "0cf9f72d-180c-49b8-98da-b313f066dacf",
   "metadata": {},
   "outputs": [],
   "source": [
    "result.flat_scalars[0].value"
   ]
  },
  {
   "cell_type": "code",
   "execution_count": 20,
   "id": "ac3a28eb-317f-420a-b73b-12a01dd40a11",
   "metadata": {},
   "outputs": [
    {
     "ename": "IndexError",
     "evalue": "index 2 is out of bounds for axis 0 with size 2",
     "output_type": "error",
     "traceback": [
      "\u001b[0;31m---------------------------------------------------------------------------\u001b[0m",
      "\u001b[0;31mIndexError\u001b[0m                                Traceback (most recent call last)",
      "\u001b[0;32m/tmp/ipykernel_159502/2065081464.py\u001b[0m in \u001b[0;36m<module>\u001b[0;34m\u001b[0m\n\u001b[0;32m----> 1\u001b[0;31m \u001b[0msub_result\u001b[0m \u001b[0;34m=\u001b[0m \u001b[0mconvert_to_gamma_tensor\u001b[0m\u001b[0;34m(\u001b[0m\u001b[0msept2\u001b[0m\u001b[0;34m)\u001b[0m \u001b[0;34m-\u001b[0m \u001b[0mconvert_to_gamma_tensor\u001b[0m\u001b[0;34m(\u001b[0m\u001b[0msept1\u001b[0m\u001b[0;34m)\u001b[0m\u001b[0;34m\u001b[0m\u001b[0;34m\u001b[0m\u001b[0m\n\u001b[0m\u001b[1;32m      2\u001b[0m \u001b[0msub_result\u001b[0m\u001b[0;34m\u001b[0m\u001b[0;34m\u001b[0m\u001b[0m\n",
      "\u001b[0;32m~/PySyft/packages/syft/src/syft/core/tensor/autodp/dp_tensor_converter.py\u001b[0m in \u001b[0;36mconvert_to_gamma_tensor\u001b[0;34m(x)\u001b[0m\n\u001b[1;32m      8\u001b[0m \u001b[0;32mdef\u001b[0m \u001b[0mconvert_to_gamma_tensor\u001b[0m\u001b[0;34m(\u001b[0m\u001b[0mx\u001b[0m\u001b[0;34m)\u001b[0m \u001b[0;34m->\u001b[0m \u001b[0mInitialGammaTensor\u001b[0m\u001b[0;34m:\u001b[0m  \u001b[0;31m# type: ignore\u001b[0m\u001b[0;34m\u001b[0m\u001b[0;34m\u001b[0m\u001b[0m\n\u001b[1;32m      9\u001b[0m     \u001b[0;34m\"\"\" Helper function to convert (x) SEPT to InitialGammaTensor, for private-private operations\"\"\"\u001b[0m\u001b[0;34m\u001b[0m\u001b[0;34m\u001b[0m\u001b[0m\n\u001b[0;32m---> 10\u001b[0;31m     return InitialGammaTensor(\n\u001b[0m\u001b[1;32m     11\u001b[0m         \u001b[0mvalues\u001b[0m\u001b[0;34m=\u001b[0m\u001b[0mx\u001b[0m\u001b[0;34m.\u001b[0m\u001b[0mchild\u001b[0m\u001b[0;34m,\u001b[0m\u001b[0;34m\u001b[0m\u001b[0;34m\u001b[0m\u001b[0m\n\u001b[1;32m     12\u001b[0m         \u001b[0mmin_vals\u001b[0m\u001b[0;34m=\u001b[0m\u001b[0mx\u001b[0m\u001b[0;34m.\u001b[0m\u001b[0mmin_vals\u001b[0m\u001b[0;34m,\u001b[0m\u001b[0;34m\u001b[0m\u001b[0;34m\u001b[0m\u001b[0m\n",
      "\u001b[0;32m~/PySyft/packages/syft/src/syft/core/tensor/autodp/initial_gamma.py\u001b[0m in \u001b[0;36m__init__\u001b[0;34m(self, values, min_vals, max_vals, entities, scalar_manager)\u001b[0m\n\u001b[1;32m     85\u001b[0m         \u001b[0;32mfor\u001b[0m \u001b[0mi\u001b[0m \u001b[0;32min\u001b[0m \u001b[0mrange\u001b[0m\u001b[0;34m(\u001b[0m\u001b[0mflat_values\u001b[0m\u001b[0;34m.\u001b[0m\u001b[0mshape\u001b[0m\u001b[0;34m[\u001b[0m\u001b[0;36m0\u001b[0m\u001b[0;34m]\u001b[0m\u001b[0;34m)\u001b[0m\u001b[0;34m:\u001b[0m\u001b[0;34m\u001b[0m\u001b[0;34m\u001b[0m\u001b[0m\n\u001b[1;32m     86\u001b[0m             prime = self.scalar_manager.get_symbol(\n\u001b[0;32m---> 87\u001b[0;31m                 \u001b[0mmin_val\u001b[0m\u001b[0;34m=\u001b[0m\u001b[0mflat_min_vals\u001b[0m\u001b[0;34m[\u001b[0m\u001b[0mi\u001b[0m\u001b[0;34m]\u001b[0m\u001b[0;34m,\u001b[0m\u001b[0;34m\u001b[0m\u001b[0;34m\u001b[0m\u001b[0m\n\u001b[0m\u001b[1;32m     88\u001b[0m                 \u001b[0mvalue\u001b[0m\u001b[0;34m=\u001b[0m\u001b[0mflat_values\u001b[0m\u001b[0;34m[\u001b[0m\u001b[0mi\u001b[0m\u001b[0;34m]\u001b[0m\u001b[0;34m,\u001b[0m\u001b[0;34m\u001b[0m\u001b[0;34m\u001b[0m\u001b[0m\n\u001b[1;32m     89\u001b[0m                 \u001b[0mmax_val\u001b[0m\u001b[0;34m=\u001b[0m\u001b[0mflat_max_vals\u001b[0m\u001b[0;34m[\u001b[0m\u001b[0mi\u001b[0m\u001b[0;34m]\u001b[0m\u001b[0;34m,\u001b[0m\u001b[0;34m\u001b[0m\u001b[0;34m\u001b[0m\u001b[0m\n",
      "\u001b[0;31mIndexError\u001b[0m: index 2 is out of bounds for axis 0 with size 2"
     ]
    }
   ],
   "source": [
    "sub_result = convert_to_gamma_tensor(sept2) - convert_to_gamma_tensor(sept1)\n",
    "sub_result"
   ]
  },
  {
   "cell_type": "code",
   "execution_count": 34,
   "id": "72814b16-03a7-41ee-9e1d-df30ba7c1d77",
   "metadata": {},
   "outputs": [
    {
     "data": {
      "text/plain": [
       "array([[0.51664814, 0.36073704],\n",
       "       [0.97300772, 0.25267884]])"
      ]
     },
     "execution_count": 34,
     "metadata": {},
     "output_type": "execute_result"
    }
   ],
   "source": [
    "data"
   ]
  },
  {
   "cell_type": "code",
   "execution_count": 30,
   "id": "2d539467-3194-4f36-8fea-b0a8c1283cd9",
   "metadata": {},
   "outputs": [
    {
     "data": {
      "text/plain": [
       "array([[0.51664814, 0.51664814, 0.51664814, 0.51664814, 0.51664814,\n",
       "        0.36073704, 0.36073704, 0.36073704, 0.36073704, 0.36073704],\n",
       "       [0.97300772, 0.97300772, 0.97300772, 0.97300772, 0.97300772,\n",
       "        0.25267884, 0.25267884, 0.25267884, 0.25267884, 0.25267884]])"
      ]
     },
     "execution_count": 30,
     "metadata": {},
     "output_type": "execute_result"
    }
   ],
   "source": [
    "data.repeat(5, axis=1)"
   ]
  },
  {
   "cell_type": "code",
   "execution_count": 31,
   "id": "094c1fd1-8f90-4cae-aa99-f68384fc6d37",
   "metadata": {},
   "outputs": [
    {
     "data": {
      "text/plain": [
       "array([0.51664814, 0.51664814, 0.51664814, 0.51664814, 0.51664814,\n",
       "       0.36073704, 0.36073704, 0.36073704, 0.36073704, 0.36073704,\n",
       "       0.97300772, 0.97300772, 0.97300772, 0.97300772, 0.97300772,\n",
       "       0.25267884, 0.25267884, 0.25267884, 0.25267884, 0.25267884])"
      ]
     },
     "execution_count": 31,
     "metadata": {},
     "output_type": "execute_result"
    }
   ],
   "source": [
    "data.repeat(5)"
   ]
  },
  {
   "cell_type": "code",
   "execution_count": 32,
   "id": "7478a601-89ae-47d7-933c-9927a2728690",
   "metadata": {},
   "outputs": [
    {
     "data": {
      "text/plain": [
       "(2, 10)"
      ]
     },
     "execution_count": 32,
     "metadata": {},
     "output_type": "execute_result"
    }
   ],
   "source": [
    "data.repeat(5, axis=1).shape"
   ]
  },
  {
   "cell_type": "code",
   "execution_count": 36,
   "id": "15281e39-2c25-4fb9-a968-e6fcbffd51f0",
   "metadata": {},
   "outputs": [
    {
     "data": {
      "text/plain": [
       "(20,)"
      ]
     },
     "execution_count": 36,
     "metadata": {},
     "output_type": "execute_result"
    }
   ],
   "source": [
    "data.repeat(5).shape"
   ]
  },
  {
   "cell_type": "code",
   "execution_count": 29,
   "id": "e1da5e0e-8369-434b-9cb1-4adce528cfa1",
   "metadata": {},
   "outputs": [
    {
     "data": {
      "text/plain": [
       "range(0, 4)"
      ]
     },
     "execution_count": 29,
     "metadata": {},
     "output_type": "execute_result"
    }
   ],
   "source": [
    "range(len(data.flatten()))"
   ]
  },
  {
   "cell_type": "code",
   "execution_count": null,
   "id": "73a68cee-1017-4733-a44c-90d08d87b849",
   "metadata": {},
   "outputs": [],
   "source": []
  }
 ],
 "metadata": {
  "kernelspec": {
   "display_name": "Python 3 (ipykernel)",
   "language": "python",
   "name": "python3"
  },
  "language_info": {
   "codemirror_mode": {
    "name": "ipython",
    "version": 3
   },
   "file_extension": ".py",
   "mimetype": "text/x-python",
   "name": "python",
   "nbconvert_exporter": "python",
   "pygments_lexer": "ipython3",
   "version": "3.8.11"
  }
 },
 "nbformat": 4,
 "nbformat_minor": 5
}

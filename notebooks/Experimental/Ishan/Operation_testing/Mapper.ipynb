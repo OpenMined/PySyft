{
 "cells": [
  {
   "cell_type": "code",
   "execution_count": 1,
   "id": "969dc83c-568e-4c1e-911f-ae1f19788232",
   "metadata": {},
   "outputs": [
    {
     "name": "stderr",
     "output_type": "stream",
     "text": [
      "/opt/anaconda3/envs/Hagrid/lib/python3.9/site-packages/tqdm/auto.py:22: TqdmWarning: IProgress not found. Please update jupyter and ipywidgets. See https://ipywidgets.readthedocs.io/en/stable/user_install.html\n",
      "  from .autonotebook import tqdm as notebook_tqdm\n"
     ]
    }
   ],
   "source": [
    "from syft import DataSubjectArray"
   ]
  },
  {
   "cell_type": "code",
   "execution_count": 2,
   "id": "93dd41c2-a097-4368-a5d2-30da257697da",
   "metadata": {},
   "outputs": [],
   "source": [
    "from syft import GammaTensor, PhiTensor"
   ]
  },
  {
   "cell_type": "code",
   "execution_count": 3,
   "id": "2dab52e1-f473-407e-9a99-dc658182018c",
   "metadata": {},
   "outputs": [],
   "source": [
    "import numpy as np"
   ]
  },
  {
   "cell_type": "code",
   "execution_count": 4,
   "id": "c0807964-ad60-4521-813f-3cf2f7744086",
   "metadata": {},
   "outputs": [],
   "source": [
    "from syft import DataSubjectArray, lazyrepeatarray"
   ]
  },
  {
   "cell_type": "code",
   "execution_count": 10,
   "id": "59b8e416-e7ae-4ae7-8227-9644fe834583",
   "metadata": {},
   "outputs": [
    {
     "name": "stdout",
     "output_type": "stream",
     "text": [
      "Creating new Ledger\n"
     ]
    }
   ],
   "source": [
    "from syft.core.adp.data_subject_ledger import DataSubjectLedger\n",
    "from syft.core.adp.ledger_store import DictLedgerStore\n",
    "from typing import Any\n",
    "\n",
    "\n",
    "ledger_store = DictLedgerStore()\n",
    "user_key = b\"1231\"\n",
    "ledger = DataSubjectLedger.get_or_create(store=ledger_store, user_key=user_key)\n",
    "\n",
    "def get_budget_for_user(*args: Any, **kwargs: Any) -> float:\n",
    "    return 8000000\n",
    "\n",
    "def deduct_epsilon_for_user(*args: Any, **kwargs: Any) -> bool:\n",
    "    return True"
   ]
  },
  {
   "cell_type": "code",
   "execution_count": 6,
   "id": "9009986c-d45a-4b67-8022-408a4a134bf5",
   "metadata": {},
   "outputs": [],
   "source": [
    "pt0 = PhiTensor(\n",
    "    child=np.random.random((5,5)),\n",
    "    data_subjects=np.zeros((5,5)),\n",
    "    min_vals=lazyrepeatarray(0, (5,5)),\n",
    "    max_vals=lazyrepeatarray(1, (5,5))\n",
    ")\n",
    "pt1 = PhiTensor(\n",
    "    child=np.random.random((5,5)) * 10000,\n",
    "    data_subjects=np.ones((5,5)),\n",
    "    min_vals=lazyrepeatarray(0, (5,5)),\n",
    "    max_vals=lazyrepeatarray(1, (5,5))\n",
    ")\n",
    "pt2 = PhiTensor(\n",
    "    child=np.random.random((5,5)) * 5,\n",
    "    data_subjects=np.ones((5,5)),\n",
    "    min_vals=lazyrepeatarray(0, (5,5)),\n",
    "    max_vals=lazyrepeatarray(1, (5,5))\n",
    ")"
   ]
  },
  {
   "cell_type": "code",
   "execution_count": 7,
   "id": "b1503e4d-08e8-42aa-acdd-06d99d8ddc46",
   "metadata": {},
   "outputs": [],
   "source": [
    "gt = pt0.gamma"
   ]
  },
  {
   "cell_type": "code",
   "execution_count": 12,
   "id": "b698e76d-32af-4547-afa9-766517211189",
   "metadata": {},
   "outputs": [
    {
     "ename": "TypeError",
     "evalue": "__init__() got an unexpected keyword argument 'func'",
     "output_type": "error",
     "traceback": [
      "\u001b[0;31m---------------------------------------------------------------------------\u001b[0m",
      "\u001b[0;31mTypeError\u001b[0m                                 Traceback (most recent call last)",
      "Input \u001b[0;32mIn [12]\u001b[0m, in \u001b[0;36m<cell line: 1>\u001b[0;34m()\u001b[0m\n\u001b[0;32m----> 1\u001b[0m gt2 \u001b[38;5;241m=\u001b[39m \u001b[43mgt\u001b[49m\u001b[43m \u001b[49m\u001b[38;5;241;43m-\u001b[39;49m\u001b[43m \u001b[49m\u001b[38;5;241;43m5\u001b[39;49m\n",
      "File \u001b[0;32m~/PycharmProjects/PySyft/packages/syft/src/syft/core/tensor/autodp/gamma_tensor.py:1300\u001b[0m, in \u001b[0;36mGammaTensor.__sub__\u001b[0;34m(self, other)\u001b[0m\n\u001b[1;32m   1297\u001b[0m     max_val \u001b[38;5;241m=\u001b[39m \u001b[38;5;28mself\u001b[39m\u001b[38;5;241m.\u001b[39mmax_vals \u001b[38;5;241m-\u001b[39m other\n\u001b[1;32m   1298\u001b[0m     output_ds \u001b[38;5;241m=\u001b[39m \u001b[38;5;28mself\u001b[39m\u001b[38;5;241m.\u001b[39mdata_subjects \u001b[38;5;241m-\u001b[39m other\n\u001b[0;32m-> 1300\u001b[0m \u001b[38;5;28;01mreturn\u001b[39;00m \u001b[43mGammaTensor\u001b[49m\u001b[43m(\u001b[49m\n\u001b[1;32m   1301\u001b[0m \u001b[43m    \u001b[49m\u001b[43mchild\u001b[49m\u001b[38;5;241;43m=\u001b[39;49m\u001b[43mchild\u001b[49m\u001b[43m,\u001b[49m\n\u001b[1;32m   1302\u001b[0m \u001b[43m    \u001b[49m\u001b[43mdata_subjects\u001b[49m\u001b[38;5;241;43m=\u001b[39;49m\u001b[43moutput_ds\u001b[49m\u001b[43m,\u001b[49m\n\u001b[1;32m   1303\u001b[0m \u001b[43m    \u001b[49m\u001b[43mmin_vals\u001b[49m\u001b[38;5;241;43m=\u001b[39;49m\u001b[43mmin_val\u001b[49m\u001b[43m,\u001b[49m\n\u001b[1;32m   1304\u001b[0m \u001b[43m    \u001b[49m\u001b[43mmax_vals\u001b[49m\u001b[38;5;241;43m=\u001b[39;49m\u001b[43mmax_val\u001b[49m\u001b[43m,\u001b[49m\n\u001b[1;32m   1305\u001b[0m \u001b[43m    \u001b[49m\u001b[43mfunc\u001b[49m\u001b[38;5;241;43m=\u001b[39;49m\u001b[43m_sub\u001b[49m\u001b[43m,\u001b[49m\n\u001b[1;32m   1306\u001b[0m \u001b[43m    \u001b[49m\u001b[43mstate\u001b[49m\u001b[38;5;241;43m=\u001b[39;49m\u001b[43moutput_state\u001b[49m\u001b[43m,\u001b[49m\n\u001b[1;32m   1307\u001b[0m \u001b[43m\u001b[49m\u001b[43m)\u001b[49m\n",
      "\u001b[0;31mTypeError\u001b[0m: __init__() got an unexpected keyword argument 'func'"
     ]
    }
   ],
   "source": [
    "gt2 = gt - 5"
   ]
  },
  {
   "cell_type": "code",
   "execution_count": 11,
   "id": "7e206df8-d242-49d3-a40e-8c1819061844",
   "metadata": {},
   "outputs": [
    {
     "name": "stdout",
     "output_type": "stream",
     "text": [
      "got user budget 8000000 epsilon_spent 1809.7114062354806\n"
     ]
    },
    {
     "data": {
      "text/plain": [
       "array([[5.31027425, 5.69310013, 5.77398791, 5.46379576, 5.86998365],\n",
       "       [6.42911786, 6.22185918, 5.67305447, 4.96618619, 6.02084608],\n",
       "       [5.72039925, 5.53797602, 4.50689052, 5.62232394, 4.72010639],\n",
       "       [4.90510613, 5.08234967, 4.46751487, 4.82973035, 5.32575028],\n",
       "       [5.35267823, 5.03373975, 5.15424199, 6.12407821, 6.38695989]])"
      ]
     },
     "execution_count": 11,
     "metadata": {},
     "output_type": "execute_result"
    }
   ],
   "source": [
    "gt2.publish(\n",
    "    get_budget_for_user=get_budget_for_user,\n",
    "    deduct_epsilon_for_user=deduct_epsilon_for_user,\n",
    "    ledger=ledger,\n",
    "    sigma=0.5\n",
    ")"
   ]
  },
  {
   "cell_type": "code",
   "execution_count": 7,
   "id": "d5eb2c2a-d849-4b45-8772-a1309a9a298c",
   "metadata": {},
   "outputs": [],
   "source": [
    "gt2 = pt0 + pt1 + pt2"
   ]
  },
  {
   "cell_type": "code",
   "execution_count": 8,
   "id": "8898b48e-54c8-4e84-adbb-d9c3153fbbdd",
   "metadata": {},
   "outputs": [
    {
     "data": {
      "text/plain": [
       "True"
      ]
     },
     "execution_count": 8,
     "metadata": {},
     "output_type": "execute_result"
    }
   ],
   "source": [
    "isinstance(gt2, GammaTensor)"
   ]
  },
  {
   "cell_type": "code",
   "execution_count": 9,
   "id": "4957a8a0-92b5-4db6-95f7-13d1410b56ea",
   "metadata": {},
   "outputs": [
    {
     "data": {
      "text/plain": [
       "array([[8425.23525682, 1213.43618532,  523.04062469, 1087.9329067 ,\n",
       "        6393.97462559],\n",
       "       [3269.04759353, 1908.68718679,  775.59318135, 5177.6831111 ,\n",
       "        3149.55291634],\n",
       "       [1966.17229829, 9047.8976046 , 9218.70254211, 1280.58049188,\n",
       "        5510.87581436],\n",
       "       [3920.48989853, 9456.36386813, 2615.11198732,  879.27143787,\n",
       "        3266.93613791],\n",
       "       [6504.84529244, 9813.82567387,  236.319373  , 8127.78008783,\n",
       "        5434.57873424]])"
      ]
     },
     "execution_count": 9,
     "metadata": {},
     "output_type": "execute_result"
    }
   ],
   "source": [
    "(pt0 + pt1 + pt2).child"
   ]
  },
  {
   "cell_type": "code",
   "execution_count": 10,
   "id": "2b4fcb97-9bdd-4f7a-b43f-5b5333c85412",
   "metadata": {},
   "outputs": [
    {
     "data": {
      "text/plain": [
       "numpy.ndarray"
      ]
     },
     "execution_count": 10,
     "metadata": {},
     "output_type": "execute_result"
    }
   ],
   "source": [
    "type(gt2.child)"
   ]
  },
  {
   "cell_type": "code",
   "execution_count": 11,
   "id": "c113cc1e-1557-45ac-9ab1-d5607bcc140f",
   "metadata": {
    "tags": []
   },
   "outputs": [
    {
     "name": "stderr",
     "output_type": "stream",
     "text": [
      "WARNING:absl:No GPU/TPU found, falling back to CPU. (Set TF_CPP_MIN_LOG_LEVEL=0 and rerun for more info.)\n"
     ]
    },
    {
     "name": "stdout",
     "output_type": "stream",
     "text": [
      "------------------------\n",
      "parent_state:  dict_keys(['1724005435', '1829724159'])\n",
      "1724005435 9812.533503381494\n",
      "We found an intermediate tensor we don't have to filter!\n",
      "------------------------\n",
      "parent_state:  dict_keys(['1724005435', '1829724159'])\n",
      "1829724159 4.843095090485608\n",
      "1829724159 511.4470113045854 800\n",
      "------------------------\n",
      "parent_state:  dict_keys(['1375476856', '2068823953'])\n",
      "1375476856 0.9867520407576819\n",
      "1375476856 37.709225942524505 800\n",
      "------------------------\n",
      "parent_state:  dict_keys(['1375476856', '2068823953'])\n",
      "2068823953 9811.798280402441\n",
      "2068823953 706263.403703397 800\n",
      "filtered_tensor [[0. 0. 0. 0. 0.]\n",
      " [0. 0. 0. 0. 0.]\n",
      " [0. 0. 0. 0. 0.]\n",
      " [0. 0. 0. 0. 0.]\n",
      " [0. 0. 0. 0. 0.]]\n",
      "tensors in parent_state before replacement:  2\n",
      "Is input tensor in parent_state?  True\n",
      "tensors in parent_state after replacement:  2\n",
      "--------------------------------------------------------\n",
      "the things inside your source tree are:\n",
      "[[8421.23071847 1212.97347254  521.25337143 1086.4672293  6392.65151188]\n",
      " [3267.52684798 1905.34589867  772.26305252 5173.31174854 3148.10678529]\n",
      " [1963.29167971 9043.44012361 9218.49738334 1277.33782169 5510.1316997 ]\n",
      " [3919.73814296 9452.75471984 2615.06629569  875.0453321  3266.35719227]\n",
      " [6503.53880265 9812.53350338  232.17165378 8126.61961405 5429.73563915]]\n",
      "[[4.00453835 0.46271278 1.78725327 1.4656774  1.32311371]\n",
      " [1.52074555 3.34128812 3.33012883 4.37136256 1.44613105]\n",
      " [2.88061858 4.457481   0.20515878 3.24267019 0.74411466]\n",
      " [0.75175557 3.60914829 0.04569163 4.22610577 0.57894564]\n",
      " [1.30648979 1.29217049 4.14771922 1.16047379 4.84309509]]\n",
      "Using self state\n",
      "build_from_state returns:  [[4.64947792 0.64686608 2.50486795 1.63996919 2.07894162]\n",
      " [1.62202202 3.59089634 4.22803866 5.12080646 1.81385217]\n",
      " [3.1526092  4.69481687 0.9700406  3.38586681 0.9846102 ]\n",
      " [0.93298717 4.59590033 0.38951848 4.33306431 1.21025067]\n",
      " [1.83190507 2.02739347 4.54362403 1.37215692 5.41957721]]\n",
      "Using provided state [array([[8421.23071847, 1212.97347254,  521.25337143, 1086.4672293 ,\n",
      "        6392.65151188],\n",
      "       [3267.52684798, 1905.34589867,  772.26305252, 5173.31174854,\n",
      "        3148.10678529],\n",
      "       [1963.29167971, 9043.44012361, 9218.49738334, 1277.33782169,\n",
      "        5510.1316997 ],\n",
      "       [3919.73814296, 9452.75471984, 2615.06629569,  875.0453321 ,\n",
      "        3266.35719227],\n",
      "       [6503.53880265, 9812.53350338,  232.17165378, 8126.61961405,\n",
      "        5429.73563915]]), array([[4.00453835, 0.46271278, 1.78725327, 1.4656774 , 1.32311371],\n",
      "       [1.52074555, 3.34128812, 3.33012883, 4.37136256, 1.44613105],\n",
      "       [2.88061858, 4.457481  , 0.20515878, 3.24267019, 0.74411466],\n",
      "       [0.75175557, 3.60914829, 0.04569163, 4.22610577, 0.57894564],\n",
      "       [1.30648979, 1.29217049, 4.14771922, 1.16047379, 4.84309509]])]\n",
      "Using self state\n",
      "Using provided state [array([[8421.23071847, 1212.97347254,  521.25337143, 1086.4672293 ,\n",
      "        6392.65151188],\n",
      "       [3267.52684798, 1905.34589867,  772.26305252, 5173.31174854,\n",
      "        3148.10678529],\n",
      "       [1963.29167971, 9043.44012361, 9218.49738334, 1277.33782169,\n",
      "        5510.1316997 ],\n",
      "       [3919.73814296, 9452.75471984, 2615.06629569,  875.0453321 ,\n",
      "        3266.35719227],\n",
      "       [6503.53880265, 9812.53350338,  232.17165378, 8126.61961405,\n",
      "        5429.73563915]]), array([[4.00453835, 0.46271278, 1.78725327, 1.4656774 , 1.32311371],\n",
      "       [1.52074555, 3.34128812, 3.33012883, 4.37136256, 1.44613105],\n",
      "       [2.88061858, 4.457481  , 0.20515878, 3.24267019, 0.74411466],\n",
      "       [0.75175557, 3.60914829, 0.04569163, 4.22610577, 0.57894564],\n",
      "       [1.30648979, 1.29217049, 4.14771922, 1.16047379, 4.84309509]])]\n",
      "Using self state\n",
      "RECONSTRUCTION:  [[4.64947792 0.64686608 2.50486795 1.63996919 2.07894162]\n",
      " [1.62202202 3.59089634 4.22803866 5.12080646 1.81385217]\n",
      " [3.1526092  4.69481687 0.9700406  3.38586681 0.9846102 ]\n",
      " [0.93298717 4.59590033 0.38951848 4.33306431 1.21025067]\n",
      " [1.83190507 2.02739347 4.54362403 1.37215692 5.41957721]]\n",
      "About to publish again with filtered source_tree!\n",
      "Filtered tensor:  [[4.64947792 0.64686608 2.50486795 1.63996919 2.07894162]\n",
      " [1.62202202 3.59089634 4.22803866 5.12080646 1.81385217]\n",
      " [3.1526092  4.69481687 0.9700406  3.38586681 0.9846102 ]\n",
      " [0.93298717 4.59590033 0.38951848 4.33306431 1.21025067]\n",
      " [1.83190507 2.02739347 4.54362403 1.37215692 5.41957721]]\n",
      "Old tensor:  [[8425.23525682 1213.43618532  523.04062469 1087.9329067  6393.97462559]\n",
      " [3269.04759353 1908.68718679  775.59318135 5177.6831111  3149.55291634]\n",
      " [1966.17229829 9047.8976046  9218.70254211 1280.58049188 5510.87581436]\n",
      " [3920.48989853 9456.36386813 2615.11198732  879.27143787 3266.93613791]\n",
      " [6504.84529244 9813.82567387  236.319373   8127.78008783 5434.57873424]]\n",
      "got user budget 800 epsilon_spent 651.6886394866333\n"
     ]
    },
    {
     "data": {
      "text/plain": [
       "DeviceArray([[4.73808141, 1.16091432, 1.97566515, 1.07500419, 1.83110291],\n",
       "             [1.19665612, 4.02855021, 4.42957911, 4.64412742, 1.46000868],\n",
       "             [3.96413835, 5.1903156 , 1.54948564, 3.00027791, 0.86567315],\n",
       "             [0.95152399, 4.73156789, 1.07607419, 4.28062704, 1.08075799],\n",
       "             [2.01035082, 2.3080347 , 4.20985162, 1.13935513, 5.30717754]],            dtype=float64)"
      ]
     },
     "execution_count": 11,
     "metadata": {},
     "output_type": "execute_result"
    }
   ],
   "source": [
    "gt2.publish(\n",
    "    get_budget_for_user=get_budget_for_user,\n",
    "    deduct_epsilon_for_user=deduct_epsilon_for_user,\n",
    "    ledger=ledger,\n",
    "    sigma=0.5\n",
    ")"
   ]
  },
  {
   "cell_type": "code",
   "execution_count": 12,
   "id": "59ae67c8-720b-477a-93f2-e1cc252bf812",
   "metadata": {},
   "outputs": [],
   "source": [
    "from copy import deepcopy\n",
    "gt3_state = deepcopy(gt2.state)"
   ]
  },
  {
   "cell_type": "code",
   "execution_count": 13,
   "id": "0794bdfd-9da0-4a89-ab5d-d8218af41989",
   "metadata": {},
   "outputs": [
    {
     "data": {
      "text/plain": [
       "dict_keys(['1724005435', '1829724159'])"
      ]
     },
     "execution_count": 13,
     "metadata": {},
     "output_type": "execute_result"
    }
   ],
   "source": [
    "gt3_state.keys()"
   ]
  },
  {
   "cell_type": "code",
   "execution_count": 14,
   "id": "3a512210-db1a-4946-b911-faaf91514665",
   "metadata": {},
   "outputs": [
    {
     "name": "stdout",
     "output_type": "stream",
     "text": [
      "<class 'syft.core.tensor.autodp.gamma_tensor.GammaTensor'>\n",
      "<class 'syft.core.tensor.autodp.gamma_tensor.GammaTensor'>\n"
     ]
    }
   ],
   "source": [
    "for i in gt3_state.values():\n",
    "    print(type(i))"
   ]
  },
  {
   "cell_type": "code",
   "execution_count": 15,
   "id": "0f8c6b66-f014-4459-bd4c-dc38c3f9e709",
   "metadata": {},
   "outputs": [
    {
     "ename": "KeyError",
     "evalue": "'1158033605'",
     "output_type": "error",
     "traceback": [
      "\u001b[0;31m---------------------------------------------------------------------------\u001b[0m",
      "\u001b[0;31mKeyError\u001b[0m                                  Traceback (most recent call last)",
      "\u001b[0;32m/tmp/ipykernel_26173/3422884341.py\u001b[0m in \u001b[0;36m<module>\u001b[0;34m\u001b[0m\n\u001b[1;32m      1\u001b[0m \u001b[0;31m#gt3_state['1158033605'] =\u001b[0m\u001b[0;34m\u001b[0m\u001b[0;34m\u001b[0m\u001b[0m\n\u001b[0;32m----> 2\u001b[0;31m \u001b[0mfiltered\u001b[0m \u001b[0;34m=\u001b[0m \u001b[0mgt3_state\u001b[0m\u001b[0;34m[\u001b[0m\u001b[0;34m'1158033605'\u001b[0m\u001b[0;34m]\u001b[0m\u001b[0;34m.\u001b[0m\u001b[0mfiltered\u001b[0m\u001b[0;34m(\u001b[0m\u001b[0;34m)\u001b[0m\u001b[0;34m\u001b[0m\u001b[0;34m\u001b[0m\u001b[0m\n\u001b[0m\u001b[1;32m      3\u001b[0m \u001b[0;32mdel\u001b[0m \u001b[0mgt3_state\u001b[0m\u001b[0;34m[\u001b[0m\u001b[0;34m'1158033605'\u001b[0m\u001b[0;34m]\u001b[0m\u001b[0;34m\u001b[0m\u001b[0;34m\u001b[0m\u001b[0m\n\u001b[1;32m      4\u001b[0m \u001b[0mgt3_state\u001b[0m\u001b[0;34m[\u001b[0m\u001b[0mfiltered\u001b[0m\u001b[0;34m.\u001b[0m\u001b[0mid\u001b[0m\u001b[0;34m]\u001b[0m \u001b[0;34m=\u001b[0m \u001b[0mfiltered\u001b[0m\u001b[0;34m\u001b[0m\u001b[0;34m\u001b[0m\u001b[0m\n",
      "\u001b[0;31mKeyError\u001b[0m: '1158033605'"
     ]
    }
   ],
   "source": [
    "#gt3_state['1158033605'] = \n",
    "filtered = gt3_state['1158033605'].filtered()\n",
    "del gt3_state['1158033605']\n",
    "gt3_state[filtered.id] = filtered"
   ]
  },
  {
   "cell_type": "code",
   "execution_count": null,
   "id": "d23d6a4a-d5ea-44e7-8f59-be2db63bcd70",
   "metadata": {},
   "outputs": [],
   "source": [
    "gt2.build_from_state(gt3_state, \"add_private\")"
   ]
  },
  {
   "cell_type": "code",
   "execution_count": null,
   "id": "027e4355-f1ab-4f6a-a5bb-869d7b95ec6e",
   "metadata": {},
   "outputs": [],
   "source": [
    "gt2.swap_state(gt2.state)"
   ]
  },
  {
   "cell_type": "code",
   "execution_count": null,
   "id": "0b33d39a-9765-40f2-8611-ace7d438f760",
   "metadata": {},
   "outputs": [],
   "source": [
    "gt = GammaTensor(\n",
    "    child=np.random.random((5,5)),\n",
    "    data_subjects=DataSubjectArray.from_objs(np.random.choice([0,1], (5,5))),\n",
    "    min_vals=lazyrepeatarray(0, (5,5)),\n",
    "    max_vals=lazyrepeatarray(1, (5,5))\n",
    ")"
   ]
  },
  {
   "cell_type": "code",
   "execution_count": null,
   "id": "f01404e1-15c8-4232-a83b-4bb07364006a",
   "metadata": {},
   "outputs": [],
   "source": [
    "gt.publish(\n",
    "    get_budget_for_user=get_budget_for_user,\n",
    "    deduct_epsilon_for_user=deduct_epsilon_for_user,\n",
    "    ledger=ledger,\n",
    "    sigma=0.5\n",
    ")"
   ]
  }
 ],
 "metadata": {
  "kernelspec": {
   "display_name": "Hagrid",
   "language": "python",
   "name": "hagrid"
  },
  "language_info": {
   "codemirror_mode": {
    "name": "ipython",
    "version": 3
   },
   "file_extension": ".py",
   "mimetype": "text/x-python",
   "name": "python",
   "nbconvert_exporter": "python",
   "pygments_lexer": "ipython3",
   "version": "3.9.12"
  }
 },
 "nbformat": 4,
 "nbformat_minor": 5
}

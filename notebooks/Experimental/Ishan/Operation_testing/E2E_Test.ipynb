{
 "cells": [
  {
   "cell_type": "code",
   "execution_count": 1,
   "id": "6e23a24a-e841-4332-8380-0f9bf7c75854",
   "metadata": {},
   "outputs": [
    {
     "name": "stderr",
     "output_type": "stream",
     "text": [
      "/home/e/anaconda3/envs/Hagrid/lib/python3.9/site-packages/tqdm/auto.py:22: TqdmWarning: IProgress not found. Please update jupyter and ipywidgets. See https://ipywidgets.readthedocs.io/en/stable/user_install.html\n",
      "  from .autonotebook import tqdm as notebook_tqdm\n"
     ]
    }
   ],
   "source": [
    "import syft as sy\n",
    "import numpy as np"
   ]
  },
  {
   "cell_type": "code",
   "execution_count": 2,
   "id": "e8b9a2c6-376f-4d79-896b-0c52dc77c9ff",
   "metadata": {},
   "outputs": [
    {
     "name": "stdout",
     "output_type": "stream",
     "text": [
      "WARNING: CHANGE YOUR USERNAME AND PASSWORD!!! \n",
      "\n",
      "Anyone can login as an admin to your node right now because your password is still the default PySyft username and password!!!\n",
      "\n",
      "Connecting to localhost... done! \t Logging into adp... done!\n"
     ]
    }
   ],
   "source": [
    "domain = sy.login(email=\"info@openmined.org\", password=\"changethis\", port=8081)"
   ]
  },
  {
   "cell_type": "code",
   "execution_count": 3,
   "id": "ff487ac5-48a1-4548-9c7a-1de4471d1a97",
   "metadata": {},
   "outputs": [],
   "source": [
    "data = np.random.random((5,5))"
   ]
  },
  {
   "cell_type": "code",
   "execution_count": 4,
   "id": "633ee626-cec6-4199-b0d0-6b06a60b55ee",
   "metadata": {},
   "outputs": [],
   "source": [
    "tensor0 = sy.Tensor(data).private(min_val=0, max_val=1, data_subjects=np.zeros((5,5)))"
   ]
  },
  {
   "cell_type": "code",
   "execution_count": 7,
   "id": "1e2cdcf7-05b5-42c5-b0d8-64ef36b5588c",
   "metadata": {},
   "outputs": [],
   "source": [
    "tensor1 = sy.Tensor(data).private(min_val=0, max_val=1, data_subjects=np.zeros((5,5)))"
   ]
  },
  {
   "cell_type": "code",
   "execution_count": 8,
   "id": "34d42c3b-1888-4513-9239-84af55dd3cf7",
   "metadata": {},
   "outputs": [
    {
     "name": "stdout",
     "output_type": "stream",
     "text": [
      "Loading dataset... uploading...🚀                                                                                                                                             "
     ]
    },
    {
     "name": "stderr",
     "output_type": "stream",
     "text": [
      "Uploading `dataset0`: 100%|\u001b[32m██████████████████████████████████████████\u001b[0m| 1/1 [00:00<00:00, 132.50it/s]\u001b[0m\n",
      "Uploading `dataset1`: 100%|\u001b[32m██████████████████████████████████████████\u001b[0m| 1/1 [00:00<00:00, 220.49it/s]\u001b[0m\n"
     ]
    },
    {
     "name": "stdout",
     "output_type": "stream",
     "text": [
      "Dataset is uploaded successfully !!! 🎉\n",
      "\n",
      "Run `<your client variable>.datasets` to see your new dataset loaded into your machine!\n"
     ]
    }
   ],
   "source": [
    "domain.load_dataset(\n",
    "    assets={\"dataset0\": tensor0,\n",
    "            \"dataset1\": tensor1},\n",
    "    name=\"addition test\",\n",
    "    description=\"Misc\"\n",
    ")"
   ]
  },
  {
   "cell_type": "code",
   "execution_count": 9,
   "id": "9e4086a3-f867-404e-b4d0-36b33b070525",
   "metadata": {},
   "outputs": [
    {
     "data": {
      "text/html": [
       "<style>\n",
       "                #myInput {\n",
       "                  background-position: 10px 12px; /* Position the search icon */\n",
       "                  background-repeat: no-repeat; /* Do not repeat the icon image */\n",
       "                  background-color: #bbb;\n",
       "                  width: 98%; /* Full-width */\n",
       "                  font-size: 14px; /* Increase font-size */\n",
       "                  padding: 12px 20px 12px 40px; /* Add some padding */\n",
       "                  border: 1px solid #ddd; /* Add a grey border */\n",
       "                  margin-bottom: 12px; /* Add some space below the input */\n",
       "                }\n",
       "\n",
       "                #myTable {\n",
       "                  border-collapse: collapse; /* Collapse borders */\n",
       "                  width: 100%; /* Full-width */\n",
       "                  border: 1px solid #ddd; /* Add a grey border */\n",
       "                  font-size: 14px; /* Increase font-size */\n",
       "                }\n",
       "\n",
       "                #myTable th, #myTable td {\n",
       "                  text-align: left; /* Left-align text */\n",
       "                  padding: 10px; /* Add padding */\n",
       "                }\n",
       "\n",
       "                #myTable tr {\n",
       "                  /* Add a bottom border to all table rows */\n",
       "                  border-bottom: 1px solid #ddd;\n",
       "                }\n",
       "\n",
       "                #myTable tr.header, #myTable tr:hover {\n",
       "                  /* Add a grey background color to the table header and on hover */\n",
       "                  background-color: #777;\n",
       "                }\n",
       "                </style>\n",
       "\n",
       "                <table id=\"myTable\" style=\"width:1000px\">\n",
       "                  <tr class=\"header\">\n",
       "                    <th style=\"width:30px\">Idx</th>\n",
       "                    <th style=\"width:20%;\">Name</th>\n",
       "                    <th style=\"width:35%;\">Description</th>\n",
       "                    <th style=\"width:20%;\">Assets</th>\n",
       "                    <th style=\"width:300px;\">Id</th>\n",
       "                  </tr>\n",
       "                \n",
       "\n",
       "          <tr>\n",
       "            <td>[0]</td>\n",
       "            <td>addition test</td>\n",
       "            <td>Misc</td>\n",
       "            <td>[\"dataset0\"] -> <class 'syft.core.tensor.tensor.Tensor'><br /><br />[\"dataset1\"] -> <class 'syft.core.tensor.tensor.Tensor'><br /><br /></td>\n",
       "            <td>1e378fe0-1deb-4120-85d0-a9f94ed59f31</td>\n",
       "          </tr>\n",
       "\n",
       "          <tr>\n",
       "            <td>[1]</td>\n",
       "            <td>addition test</td>\n",
       "            <td>Misc</td>\n",
       "            <td>[\"dataset0\"] -> <class 'syft.core.tensor.tensor.Tensor'><br /><br />[\"dataset1\"] -> <class 'syft.core.tensor.tensor.Tensor'><br /><br /></td>\n",
       "            <td>aa405c49-5247-4591-8bd4-21f6cc17563a</td>\n",
       "          </tr>\n",
       "\n",
       "          <tr>\n",
       "            <td>[2]</td>\n",
       "            <td>addition test</td>\n",
       "            <td>Misc</td>\n",
       "            <td>[\"dataset0\"] -> <class 'syft.core.tensor.tensor.Tensor'><br /><br />[\"dataset1\"] -> <class 'syft.core.tensor.tensor.Tensor'><br /><br /></td>\n",
       "            <td>d32ae2ac-b0b0-44ee-8d11-178e91d75d2b</td>\n",
       "          </tr>\n",
       "        </table>\n",
       "\n",
       "        <script>\n",
       "        function myFunction() {\n",
       "          // Declare variables\n",
       "          var input, filter, table, tr, td, i, txtValue;\n",
       "          input = document.getElementById(\"myInput\");\n",
       "          filter = input.value.toUpperCase();\n",
       "          table = document.getElementById(\"myTable\");\n",
       "          tr = table.getElementsByTagName(\"tr\");\n",
       "\n",
       "          // Loop through all table rows, and hide those who don't match the search query\n",
       "          for (i = 0; i < tr.length; i++) {\n",
       "            name_td = tr[i].getElementsByTagName(\"td\")[1];\n",
       "            desc_td = tr[i].getElementsByTagName(\"td\")[2];\n",
       "            asset_td = tr[i].getElementsByTagName(\"td\")[3];\n",
       "            id_td = tr[i].getElementsByTagName(\"td\")[4];\n",
       "            if (name_td || desc_td || asset_td || id_td) {\n",
       "              name_txtValue = name_td.textContent || name_td.innerText;\n",
       "              desc_txtValue = desc_td.textContent || name_td.innerText;\n",
       "              asset_txtValue = asset_td.textContent || name_td.innerText;\n",
       "              id_txtValue = id_td.textContent || name_td.innerText;\n",
       "              name_bool = name_txtValue.toUpperCase().indexOf(filter) > -1;\n",
       "              desc_bool = desc_txtValue.toUpperCase().indexOf(filter) > -1;\n",
       "              asset_bool = asset_txtValue.toUpperCase().indexOf(filter) > -1;\n",
       "              id_bool = id_txtValue.toUpperCase().indexOf(filter) > -1;\n",
       "              if (name_bool || desc_bool || asset_bool || id_bool) {\n",
       "                tr[i].style.display = \"\";\n",
       "              } else {\n",
       "                tr[i].style.display = \"none\";\n",
       "              }\n",
       "            }\n",
       "          }\n",
       "        }\n",
       "        </script>"
      ],
      "text/plain": [
       "<syft.core.node.common.client_manager.dataset_api.DatasetRequestAPI at 0x7fcd6d9f5700>"
      ]
     },
     "execution_count": 9,
     "metadata": {},
     "output_type": "execute_result"
    }
   ],
   "source": [
    "domain.datasets"
   ]
  },
  {
   "cell_type": "code",
   "execution_count": 10,
   "id": "e768a93a-ae0f-4882-8532-718cab96ddae",
   "metadata": {},
   "outputs": [],
   "source": [
    "d = domain.datasets[-1][\"dataset0\"] + domain.datasets[-1][\"dataset1\"]"
   ]
  },
  {
   "cell_type": "code",
   "execution_count": 11,
   "id": "55d62ace-d29e-426d-aa11-563bebbc4d6b",
   "metadata": {},
   "outputs": [],
   "source": [
    "published = d.publish(sigma=1)"
   ]
  },
  {
   "cell_type": "code",
   "execution_count": 13,
   "id": "67cb0795-2111-4734-969a-cc5383a20ebe",
   "metadata": {},
   "outputs": [
    {
     "name": "stdout",
     "output_type": "stream",
     "text": [
      "User created successfully!\n"
     ]
    },
    {
     "data": {
      "text/plain": [
       "{'name': 'Ishan',\n",
       " 'email': 'ishan@openmined.org',\n",
       " 'password': 'puns',\n",
       " 'url': 'localhost'}"
      ]
     },
     "execution_count": 13,
     "metadata": {},
     "output_type": "execute_result"
    }
   ],
   "source": [
    "domain.create_user(\n",
    "    name=\"Ishan\",\n",
    "    email=\"ishan@openmined.org\",\n",
    "    password=\"puns\",\n",
    "    budget=10000)"
   ]
  },
  {
   "cell_type": "code",
   "execution_count": 2,
   "id": "af211681-cfe7-40ff-b580-55fe5936ddbd",
   "metadata": {},
   "outputs": [
    {
     "name": "stdout",
     "output_type": "stream",
     "text": [
      "Connecting to localhost... done! \t Logging into adp... done!\n"
     ]
    }
   ],
   "source": [
    "ds_domain = sy.login(email=\"ishan@openmined.org\", password=\"puns\", port=8081)"
   ]
  },
  {
   "cell_type": "code",
   "execution_count": 3,
   "id": "2de46622-2598-4331-b3db-5fc0b7f8aac1",
   "metadata": {},
   "outputs": [
    {
     "data": {
      "text/html": [
       "<style>\n",
       "                #myInput {\n",
       "                  background-position: 10px 12px; /* Position the search icon */\n",
       "                  background-repeat: no-repeat; /* Do not repeat the icon image */\n",
       "                  background-color: #bbb;\n",
       "                  width: 98%; /* Full-width */\n",
       "                  font-size: 14px; /* Increase font-size */\n",
       "                  padding: 12px 20px 12px 40px; /* Add some padding */\n",
       "                  border: 1px solid #ddd; /* Add a grey border */\n",
       "                  margin-bottom: 12px; /* Add some space below the input */\n",
       "                }\n",
       "\n",
       "                #myTable {\n",
       "                  border-collapse: collapse; /* Collapse borders */\n",
       "                  width: 100%; /* Full-width */\n",
       "                  border: 1px solid #ddd; /* Add a grey border */\n",
       "                  font-size: 14px; /* Increase font-size */\n",
       "                }\n",
       "\n",
       "                #myTable th, #myTable td {\n",
       "                  text-align: left; /* Left-align text */\n",
       "                  padding: 10px; /* Add padding */\n",
       "                }\n",
       "\n",
       "                #myTable tr {\n",
       "                  /* Add a bottom border to all table rows */\n",
       "                  border-bottom: 1px solid #ddd;\n",
       "                }\n",
       "\n",
       "                #myTable tr.header, #myTable tr:hover {\n",
       "                  /* Add a grey background color to the table header and on hover */\n",
       "                  background-color: #777;\n",
       "                }\n",
       "                </style>\n",
       "\n",
       "                <table id=\"myTable\" style=\"width:1000px\">\n",
       "                  <tr class=\"header\">\n",
       "                    <th style=\"width:30px\">Idx</th>\n",
       "                    <th style=\"width:20%;\">Name</th>\n",
       "                    <th style=\"width:35%;\">Description</th>\n",
       "                    <th style=\"width:20%;\">Assets</th>\n",
       "                    <th style=\"width:300px;\">Id</th>\n",
       "                  </tr>\n",
       "                \n",
       "\n",
       "          <tr>\n",
       "            <td>[0]</td>\n",
       "            <td>addition test</td>\n",
       "            <td>Misc</td>\n",
       "            <td>[\"dataset0\"] -> <class 'syft.core.tensor.tensor.Tensor'><br /><br />[\"dataset1\"] -> <class 'syft.core.tensor.tensor.Tensor'><br /><br /></td>\n",
       "            <td>1e378fe0-1deb-4120-85d0-a9f94ed59f31</td>\n",
       "          </tr>\n",
       "\n",
       "          <tr>\n",
       "            <td>[1]</td>\n",
       "            <td>addition test</td>\n",
       "            <td>Misc</td>\n",
       "            <td>[\"dataset0\"] -> <class 'syft.core.tensor.tensor.Tensor'><br /><br />[\"dataset1\"] -> <class 'syft.core.tensor.tensor.Tensor'><br /><br /></td>\n",
       "            <td>aa405c49-5247-4591-8bd4-21f6cc17563a</td>\n",
       "          </tr>\n",
       "\n",
       "          <tr>\n",
       "            <td>[2]</td>\n",
       "            <td>addition test</td>\n",
       "            <td>Misc</td>\n",
       "            <td>[\"dataset0\"] -> <class 'syft.core.tensor.tensor.Tensor'><br /><br />[\"dataset1\"] -> <class 'syft.core.tensor.tensor.Tensor'><br /><br /></td>\n",
       "            <td>d32ae2ac-b0b0-44ee-8d11-178e91d75d2b</td>\n",
       "          </tr>\n",
       "        </table>\n",
       "\n",
       "        <script>\n",
       "        function myFunction() {\n",
       "          // Declare variables\n",
       "          var input, filter, table, tr, td, i, txtValue;\n",
       "          input = document.getElementById(\"myInput\");\n",
       "          filter = input.value.toUpperCase();\n",
       "          table = document.getElementById(\"myTable\");\n",
       "          tr = table.getElementsByTagName(\"tr\");\n",
       "\n",
       "          // Loop through all table rows, and hide those who don't match the search query\n",
       "          for (i = 0; i < tr.length; i++) {\n",
       "            name_td = tr[i].getElementsByTagName(\"td\")[1];\n",
       "            desc_td = tr[i].getElementsByTagName(\"td\")[2];\n",
       "            asset_td = tr[i].getElementsByTagName(\"td\")[3];\n",
       "            id_td = tr[i].getElementsByTagName(\"td\")[4];\n",
       "            if (name_td || desc_td || asset_td || id_td) {\n",
       "              name_txtValue = name_td.textContent || name_td.innerText;\n",
       "              desc_txtValue = desc_td.textContent || name_td.innerText;\n",
       "              asset_txtValue = asset_td.textContent || name_td.innerText;\n",
       "              id_txtValue = id_td.textContent || name_td.innerText;\n",
       "              name_bool = name_txtValue.toUpperCase().indexOf(filter) > -1;\n",
       "              desc_bool = desc_txtValue.toUpperCase().indexOf(filter) > -1;\n",
       "              asset_bool = asset_txtValue.toUpperCase().indexOf(filter) > -1;\n",
       "              id_bool = id_txtValue.toUpperCase().indexOf(filter) > -1;\n",
       "              if (name_bool || desc_bool || asset_bool || id_bool) {\n",
       "                tr[i].style.display = \"\";\n",
       "              } else {\n",
       "                tr[i].style.display = \"none\";\n",
       "              }\n",
       "            }\n",
       "          }\n",
       "        }\n",
       "        </script>"
      ],
      "text/plain": [
       "<syft.core.node.common.client_manager.dataset_api.DatasetRequestAPI at 0x7f7942f24760>"
      ]
     },
     "execution_count": 3,
     "metadata": {},
     "output_type": "execute_result"
    }
   ],
   "source": [
    "ds_domain.datasets"
   ]
  },
  {
   "cell_type": "code",
   "execution_count": 4,
   "id": "54b15ec3-b971-4237-863e-0523506b1d13",
   "metadata": {},
   "outputs": [],
   "source": [
    "d = ds_domain.datasets[-1][\"dataset0\"] + ds_domain.datasets[-1][\"dataset1\"]"
   ]
  },
  {
   "cell_type": "code",
   "execution_count": 5,
   "id": "17e791a4-4372-453b-8bc8-7f65642ad909",
   "metadata": {},
   "outputs": [
    {
     "data": {
      "text/plain": [
       "True"
      ]
     },
     "execution_count": 5,
     "metadata": {},
     "output_type": "execute_result"
    }
   ],
   "source": [
    "d.exists"
   ]
  },
  {
   "cell_type": "code",
   "execution_count": 6,
   "id": "a0a310d5-3c8a-497e-94d0-61b68b7ff7b7",
   "metadata": {},
   "outputs": [],
   "source": [
    "published = d.publish(sigma=1)"
   ]
  },
  {
   "cell_type": "code",
   "execution_count": 7,
   "id": "416c32c3-fad4-4b65-894f-21349e090d35",
   "metadata": {},
   "outputs": [
    {
     "data": {
      "text/plain": [
       "True"
      ]
     },
     "execution_count": 7,
     "metadata": {},
     "output_type": "execute_result"
    }
   ],
   "source": [
    "published.exists"
   ]
  },
  {
   "cell_type": "code",
   "execution_count": 8,
   "id": "21a2b6f2-5dc7-49dc-9ac1-bfa93a0009c9",
   "metadata": {},
   "outputs": [],
   "source": [
    "res = published.get()"
   ]
  },
  {
   "cell_type": "code",
   "execution_count": 9,
   "id": "3d78e2cc-27c5-4b02-a5e8-3f32ea8f5366",
   "metadata": {},
   "outputs": [
    {
     "data": {
      "text/plain": [
       "array([[-1.1603214 ,  0.05447626,  3.70959753,  1.48718791,  1.24850494],\n",
       "       [ 2.04021823,  0.88206357,  0.45393145,  1.61009964,  0.25027517],\n",
       "       [ 1.69864745, -1.28463352,  0.99459011,  0.00709901,  0.6736693 ],\n",
       "       [ 1.91715897,  0.47308403, -0.13523414,  0.06440185,  0.28845252],\n",
       "       [ 1.47725308, -0.10926341, -1.46212407, -1.01554051,  0.63301814]])"
      ]
     },
     "execution_count": 9,
     "metadata": {},
     "output_type": "execute_result"
    }
   ],
   "source": [
    "res"
   ]
  },
  {
   "cell_type": "code",
   "execution_count": 5,
   "id": "bd66f1d0-4cb7-497d-8f23-6e71323feadd",
   "metadata": {},
   "outputs": [],
   "source": [
    "from syft import PhiTensor, DataSubjectArray, lazyrepeatarray"
   ]
  },
  {
   "cell_type": "code",
   "execution_count": 6,
   "id": "8ff6d616-b742-4195-b714-b74f80ce49e2",
   "metadata": {},
   "outputs": [],
   "source": [
    "pt0 = PhiTensor(\n",
    "    child=data,\n",
    "    data_subjects=DataSubjectArray.from_objs(np.zeros_like(data)),\n",
    "    min_vals=lazyrepeatarray(data=0, shape=data.shape),\n",
    "    max_vals=lazyrepeatarray(data=1, shape=data.shape)\n",
    ")\n",
    "pt1 = PhiTensor(\n",
    "    child=data,\n",
    "    data_subjects=DataSubjectArray.from_objs(np.ones_like(data)),\n",
    "    min_vals=lazyrepeatarray(data=0, shape=data.shape),\n",
    "    max_vals=lazyrepeatarray(data=1, shape=data.shape)\n",
    ")"
   ]
  },
  {
   "cell_type": "code",
   "execution_count": 7,
   "id": "b36dafac-c9dd-40c1-a8b3-eca79483e4e8",
   "metadata": {},
   "outputs": [],
   "source": [
    "gt = pt0 + pt1"
   ]
  },
  {
   "cell_type": "code",
   "execution_count": 9,
   "id": "b24234a1-fee4-43b1-b4fa-9dbb5e5d3775",
   "metadata": {},
   "outputs": [],
   "source": [
    "blob = sy.serialize(gt)"
   ]
  },
  {
   "cell_type": "code",
   "execution_count": 11,
   "id": "d529f650-0fe7-41bc-a49a-efbedff2e80e",
   "metadata": {},
   "outputs": [],
   "source": [
    "gt_reconstructed = sy.deserialize(blob)"
   ]
  },
  {
   "cell_type": "code",
   "execution_count": 11,
   "id": "29c72609-be23-488d-a684-516277945bd9",
   "metadata": {},
   "outputs": [
    {
     "name": "stderr",
     "output_type": "stream",
     "text": [
      "[2022-08-26T18:49:33.046127-0400][CRITICAL][logger]][8203] UnknownPrivateException has been triggered.\n"
     ]
    },
    {
     "ename": "UnknownPrivateException",
     "evalue": "UnknownPrivateException has been triggered.",
     "output_type": "error",
     "traceback": [
      "\u001b[0;31m---------------------------------------------------------------------------\u001b[0m",
      "\u001b[0;31mUnknownPrivateException\u001b[0m                   Traceback (most recent call last)",
      "\u001b[0;32m/tmp/ipykernel_8203/2231103437.py\u001b[0m in \u001b[0;36m<module>\u001b[0;34m\u001b[0m\n\u001b[0;32m----> 1\u001b[0;31m \u001b[0md\u001b[0m\u001b[0;34m.\u001b[0m\u001b[0mget_copy\u001b[0m\u001b[0;34m(\u001b[0m\u001b[0;34m)\u001b[0m\u001b[0;34m\u001b[0m\u001b[0;34m\u001b[0m\u001b[0m\n\u001b[0m",
      "\u001b[0;32m~/PycharmProjects/PySyft/packages/syft/src/syft/core/pointer/pointer.py\u001b[0m in \u001b[0;36mget_copy\u001b[0;34m(self, request_block, timeout_secs, reason, verbose)\u001b[0m\n\u001b[1;32m    283\u001b[0m         \u001b[0;34m:\u001b[0m\u001b[0mrtype\u001b[0m\u001b[0;34m:\u001b[0m \u001b[0mOptional\u001b[0m\u001b[0;34m[\u001b[0m\u001b[0mStorableObject\u001b[0m\u001b[0;34m]\u001b[0m\u001b[0;34m\u001b[0m\u001b[0;34m\u001b[0m\u001b[0m\n\u001b[1;32m    284\u001b[0m         \"\"\"\n\u001b[0;32m--> 285\u001b[0;31m         return self.get(\n\u001b[0m\u001b[1;32m    286\u001b[0m             \u001b[0mrequest_block\u001b[0m\u001b[0;34m=\u001b[0m\u001b[0mrequest_block\u001b[0m\u001b[0;34m,\u001b[0m\u001b[0;34m\u001b[0m\u001b[0;34m\u001b[0m\u001b[0m\n\u001b[1;32m    287\u001b[0m             \u001b[0mtimeout_secs\u001b[0m\u001b[0;34m=\u001b[0m\u001b[0mtimeout_secs\u001b[0m\u001b[0;34m,\u001b[0m\u001b[0;34m\u001b[0m\u001b[0;34m\u001b[0m\u001b[0m\n",
      "\u001b[0;32m~/PycharmProjects/PySyft/packages/syft/src/syft/core/pointer/pointer.py\u001b[0m in \u001b[0;36mget\u001b[0;34m(self, request_block, timeout_secs, reason, delete_obj, verbose, proxy_only)\u001b[0m\n\u001b[1;32m    391\u001b[0m \u001b[0;34m\u001b[0m\u001b[0m\n\u001b[1;32m    392\u001b[0m         \u001b[0;32mif\u001b[0m \u001b[0;32mnot\u001b[0m \u001b[0mrequest_block\u001b[0m\u001b[0;34m:\u001b[0m\u001b[0;34m\u001b[0m\u001b[0;34m\u001b[0m\u001b[0m\n\u001b[0;32m--> 393\u001b[0;31m             result = self._get(\n\u001b[0m\u001b[1;32m    394\u001b[0m                 \u001b[0mdelete_obj\u001b[0m\u001b[0;34m=\u001b[0m\u001b[0mdelete_obj\u001b[0m\u001b[0;34m,\u001b[0m \u001b[0mverbose\u001b[0m\u001b[0;34m=\u001b[0m\u001b[0mverbose\u001b[0m\u001b[0;34m,\u001b[0m \u001b[0mproxy_only\u001b[0m\u001b[0;34m=\u001b[0m\u001b[0mproxy_only\u001b[0m\u001b[0;34m\u001b[0m\u001b[0;34m\u001b[0m\u001b[0m\n\u001b[1;32m    395\u001b[0m             )\n",
      "\u001b[0;32m~/PycharmProjects/PySyft/packages/syft/src/syft/core/pointer/pointer.py\u001b[0m in \u001b[0;36m_get\u001b[0;34m(self, delete_obj, verbose, proxy_only)\u001b[0m\n\u001b[1;32m    218\u001b[0m         )\n\u001b[1;32m    219\u001b[0m \u001b[0;34m\u001b[0m\u001b[0m\n\u001b[0;32m--> 220\u001b[0;31m         obj = self.client.send_immediate_msg_with_reply(\n\u001b[0m\u001b[1;32m    221\u001b[0m             \u001b[0mmsg\u001b[0m\u001b[0;34m=\u001b[0m\u001b[0mobj_msg\u001b[0m\u001b[0;34m,\u001b[0m \u001b[0mtimeout\u001b[0m\u001b[0;34m=\u001b[0m\u001b[0mGET_OBJECT_TIMEOUT\u001b[0m\u001b[0;34m\u001b[0m\u001b[0;34m\u001b[0m\u001b[0m\n\u001b[1;32m    222\u001b[0m         )\n",
      "\u001b[0;32m~/PycharmProjects/PySyft/packages/syft/src/syft/core/node/common/client.py\u001b[0m in \u001b[0;36msend_immediate_msg_with_reply\u001b[0;34m(self, msg, timeout, return_signed, route_index)\u001b[0m\n\u001b[1;32m    252\u001b[0m                 \u001b[0mexception\u001b[0m \u001b[0;34m=\u001b[0m \u001b[0mexception_msg\u001b[0m\u001b[0;34m.\u001b[0m\u001b[0mexception_type\u001b[0m\u001b[0;34m(\u001b[0m\u001b[0mexception_msg\u001b[0m\u001b[0;34m.\u001b[0m\u001b[0mexception_msg\u001b[0m\u001b[0;34m)\u001b[0m\u001b[0;34m\u001b[0m\u001b[0;34m\u001b[0m\u001b[0m\n\u001b[1;32m    253\u001b[0m                 \u001b[0merror\u001b[0m\u001b[0;34m(\u001b[0m\u001b[0mstr\u001b[0m\u001b[0;34m(\u001b[0m\u001b[0mexception\u001b[0m\u001b[0;34m)\u001b[0m\u001b[0;34m)\u001b[0m\u001b[0;34m\u001b[0m\u001b[0;34m\u001b[0m\u001b[0m\n\u001b[0;32m--> 254\u001b[0;31m                 \u001b[0mtraceback_and_raise\u001b[0m\u001b[0;34m(\u001b[0m\u001b[0mexception\u001b[0m\u001b[0;34m)\u001b[0m\u001b[0;34m\u001b[0m\u001b[0;34m\u001b[0m\u001b[0m\n\u001b[0m\u001b[1;32m    255\u001b[0m             \u001b[0;32melse\u001b[0m\u001b[0;34m:\u001b[0m\u001b[0;34m\u001b[0m\u001b[0;34m\u001b[0m\u001b[0m\n\u001b[1;32m    256\u001b[0m                 \u001b[0;32mif\u001b[0m \u001b[0mreturn_signed\u001b[0m\u001b[0;34m:\u001b[0m\u001b[0;34m\u001b[0m\u001b[0;34m\u001b[0m\u001b[0m\n",
      "\u001b[0;32m~/PycharmProjects/PySyft/packages/syft/src/syft/logger.py\u001b[0m in \u001b[0;36mtraceback_and_raise\u001b[0;34m(e, verbose)\u001b[0m\n\u001b[1;32m     68\u001b[0m     \u001b[0;32mif\u001b[0m \u001b[0;32mnot\u001b[0m \u001b[0missubclass\u001b[0m\u001b[0;34m(\u001b[0m\u001b[0mtype\u001b[0m\u001b[0;34m(\u001b[0m\u001b[0me\u001b[0m\u001b[0;34m)\u001b[0m\u001b[0;34m,\u001b[0m \u001b[0mException\u001b[0m\u001b[0;34m)\u001b[0m\u001b[0;34m:\u001b[0m\u001b[0;34m\u001b[0m\u001b[0;34m\u001b[0m\u001b[0m\n\u001b[1;32m     69\u001b[0m         \u001b[0me\u001b[0m \u001b[0;34m=\u001b[0m \u001b[0mException\u001b[0m\u001b[0;34m(\u001b[0m\u001b[0me\u001b[0m\u001b[0;34m)\u001b[0m\u001b[0;34m\u001b[0m\u001b[0;34m\u001b[0m\u001b[0m\n\u001b[0;32m---> 70\u001b[0;31m     \u001b[0;32mraise\u001b[0m \u001b[0me\u001b[0m\u001b[0;34m\u001b[0m\u001b[0;34m\u001b[0m\u001b[0m\n\u001b[0m\u001b[1;32m     71\u001b[0m \u001b[0;34m\u001b[0m\u001b[0m\n\u001b[1;32m     72\u001b[0m \u001b[0;34m\u001b[0m\u001b[0m\n",
      "\u001b[0;31mUnknownPrivateException\u001b[0m: UnknownPrivateException has been triggered."
     ]
    }
   ],
   "source": [
    "d.get_copy()"
   ]
  },
  {
   "cell_type": "code",
   "execution_count": null,
   "id": "b64d2d2f-7427-41d3-8444-53ee3e65002a",
   "metadata": {},
   "outputs": [],
   "source": []
  }
 ],
 "metadata": {
  "kernelspec": {
   "display_name": "Python 3 (ipykernel)",
   "language": "python",
   "name": "python3"
  },
  "language_info": {
   "codemirror_mode": {
    "name": "ipython",
    "version": 3
   },
   "file_extension": ".py",
   "mimetype": "text/x-python",
   "name": "python",
   "nbconvert_exporter": "python",
   "pygments_lexer": "ipython3",
   "version": "3.9.7"
  }
 },
 "nbformat": 4,
 "nbformat_minor": 5
}

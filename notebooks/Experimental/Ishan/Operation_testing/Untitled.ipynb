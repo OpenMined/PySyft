{
 "cells": [
  {
   "cell_type": "code",
   "execution_count": 1,
   "id": "a434fbac-89d1-40e3-92ac-1d44dbf3e238",
   "metadata": {},
   "outputs": [
    {
     "name": "stderr",
     "output_type": "stream",
     "text": [
      "/home/me/anaconda3/envs/Hagrid/lib/python3.10/site-packages/tqdm/auto.py:22: TqdmWarning: IProgress not found. Please update jupyter and ipywidgets. See https://ipywidgets.readthedocs.io/en/stable/user_install.html\n",
      "  from .autonotebook import tqdm as notebook_tqdm\n"
     ]
    }
   ],
   "source": [
    "from syft import DataSubjectArray, PhiTensor, GammaTensor, lazyrepeatarray"
   ]
  },
  {
   "cell_type": "code",
   "execution_count": 2,
   "id": "186bb0f7-e7a6-4296-a457-8a8006f9d93b",
   "metadata": {},
   "outputs": [],
   "source": [
    "import numpy as np"
   ]
  },
  {
   "cell_type": "code",
   "execution_count": 3,
   "id": "efd5d271-5b3a-446b-8630-7c3ebca4a633",
   "metadata": {},
   "outputs": [
    {
     "data": {
      "text/plain": [
       "(4.596063748800343, 0.001774147761166578, 0.9920997623271067)"
      ]
     },
     "execution_count": 3,
     "metadata": {},
     "output_type": "execute_result"
    }
   ],
   "source": [
    "data = np.random.random((10, 10))\n",
    "data.trace(), data.min(), data.max()"
   ]
  },
  {
   "cell_type": "code",
   "execution_count": 4,
   "id": "15216d54-7cbd-4818-a47b-a2075876e98b",
   "metadata": {},
   "outputs": [],
   "source": [
    "pt = PhiTensor(\n",
    "    child=data,\n",
    "    data_subjects=DataSubjectArray.from_objs(np.ones((10, 10))),\n",
    "    min_vals=lazyrepeatarray(data=0, shape=(10, 10)),\n",
    "    max_vals=lazyrepeatarray(data=1, shape=(10, 10))\n",
    ")"
   ]
  },
  {
   "cell_type": "code",
   "execution_count": 5,
   "id": "548e460b-ec23-4b6f-af31-e206bc61d62f",
   "metadata": {},
   "outputs": [
    {
     "data": {
      "text/plain": [
       "(4.596063748800343, 0.001774147761166578, 0.9920997623271067)"
      ]
     },
     "execution_count": 5,
     "metadata": {},
     "output_type": "execute_result"
    }
   ],
   "source": [
    "pt.trace().child, pt.min().child, pt.max().child"
   ]
  },
  {
   "cell_type": "code",
   "execution_count": 6,
   "id": "9f2adcde-e329-4b94-9f53-26584de8d9fe",
   "metadata": {},
   "outputs": [],
   "source": [
    "gt = GammaTensor(\n",
    "    child=data,\n",
    "    data_subjects=DataSubjectArray.from_objs(np.ones((10, 10))),\n",
    "    min_vals=lazyrepeatarray(data=0, shape=(10, 10)),\n",
    "    max_vals=lazyrepeatarray(data=1, shape=(10, 10))\n",
    ")"
   ]
  },
  {
   "cell_type": "code",
   "execution_count": 7,
   "id": "994365bd-7c58-4baa-b1a7-7d0e1b4ac0f1",
   "metadata": {},
   "outputs": [
    {
     "data": {
      "text/plain": [
       "(4.596063748800343, 0.001774147761166578, 0.9920997623271067)"
      ]
     },
     "execution_count": 7,
     "metadata": {},
     "output_type": "execute_result"
    }
   ],
   "source": [
    "gt.trace().child, gt.min().child, gt.max().child"
   ]
  },
  {
   "cell_type": "code",
   "execution_count": null,
   "id": "314cbd4b-ffe7-4c12-b639-4bbd9c872016",
   "metadata": {},
   "outputs": [],
   "source": []
  }
 ],
 "metadata": {
  "kernelspec": {
   "display_name": "Python 3 (ipykernel)",
   "language": "python",
   "name": "python3"
  },
  "language_info": {
   "codemirror_mode": {
    "name": "ipython",
    "version": 3
   },
   "file_extension": ".py",
   "mimetype": "text/x-python",
   "name": "python",
   "nbconvert_exporter": "python",
   "pygments_lexer": "ipython3",
   "version": "3.10.4"
  }
 },
 "nbformat": 4,
 "nbformat_minor": 5
}

{
 "cells": [
  {
   "cell_type": "code",
   "execution_count": 34,
   "id": "bd04d5a5-3e60-4398-8a83-7ed3dfad5944",
   "metadata": {},
   "outputs": [],
   "source": [
    "import syft as sy\n",
    "import numpy as np\n",
    "from sqlalchemy import create_engine\n",
    "from syft.core.node.common.node_table import Base\n",
    "from nacl.encoding import HexEncoder\n",
    "from nacl.signing import SigningKey\n",
    "from syft.core.adp.scalar.gamma_scalar import GammaScalar\n",
    "from syft.core.tensor.autodp.initial_gamma import InitialGammaTensor\n",
    "from syft.core.tensor.autodp.intermediate_gamma import IntermediateGammaTensor\n",
    "from syft.core.adp.entity import DataSubject\n",
    "from syft.core.adp.entity import DataSubjectGroup\n",
    "from syft.core.adp.adversarial_accountant import AdversarialAccountant\n",
    "from syft.core.io.virtual import create_virtual_connection\n",
    "from syft.core.adp.vm_private_scalar_manager import VirtualMachinePrivateScalarManager"
   ]
  },
  {
   "cell_type": "code",
   "execution_count": 2,
   "id": "2d0108ef-75db-47d3-bd9d-17d591bfaee5",
   "metadata": {},
   "outputs": [
    {
     "name": "stdout",
     "output_type": "stream",
     "text": [
      "Setup hasnt run yet so ignoring set_node_uid\n",
      "Performing initial setup...\n"
     ]
    }
   ],
   "source": [
    "# Initialize domain node\n",
    "alice = sy.Domain(\"alice\").initial_setup()"
   ]
  },
  {
   "cell_type": "code",
   "execution_count": 3,
   "id": "4c9e6441-cdd7-4480-a671-95364b1f7738",
   "metadata": {},
   "outputs": [],
   "source": [
    "# Data\n",
    "child = np.array([1,2,3,4], dtype=np.int32)"
   ]
  },
  {
   "cell_type": "code",
   "execution_count": 35,
   "id": "288d54df-d7db-443c-8b4a-767dc3d78544",
   "metadata": {},
   "outputs": [],
   "source": [
    "# Entities\n",
    "traskmaster = DataSubject(name=\"Andrew\")\n",
    "amber = DataSubject(name=\"Amber\")\n",
    "puppy = DataSubject(name=\"Their puppy whose name I forgot\")\n",
    "DSG = DataSubjectGroup([traskmaster, amber])\n",
    "\n",
    "SM = VirtualMachinePrivateScalarManager()\n",
    "\n",
    "ent1 = np.array([traskmaster, traskmaster, traskmaster, traskmaster], dtype=object)\n",
    "ent2 = np.array([amber, amber, amber, amber], dtype=object)"
   ]
  },
  {
   "cell_type": "code",
   "execution_count": 36,
   "id": "dbc2d5d1-3ad1-465e-8166-30012329e1df",
   "metadata": {},
   "outputs": [],
   "source": [
    "# gs = GammaScalar(min_val=0, max_val=5, value=3, prime=13, entity=traskmaster)\n",
    "tensor1 = InitialGammaTensor(values=child, min_vals=np.zeros_like(child), max_vals=np.ones_like(child) * 5, entities=ent1, scalar_manager=SM)\n",
    "tensor2 = InitialGammaTensor(values=child * 2, min_vals=np.zeros_like(child), max_vals=np.ones_like(child)* 5, entities=ent2, scalar_manager=SM)"
   ]
  },
  {
   "cell_type": "code",
   "execution_count": 6,
   "id": "fa51db77-ba1b-4d26-b5d0-973104f52ee5",
   "metadata": {},
   "outputs": [
    {
     "name": "stdout",
     "output_type": "stream",
     "text": [
      "\n",
      "\n",
      "Has Budget:True\n",
      "YOU'VE SPENT:0.8999352676606419\n",
      "USER BUDGET:5.55\n"
     ]
    },
    {
     "name": "stderr",
     "output_type": "stream",
     "text": [
      "/home/e/.local/lib/python3.8/site-packages/scipy/optimize/optimize.py:2621: RuntimeWarning: invalid value encountered in double_scalars\n",
      "  w = xb - ((xb - xc) * tmp2 - (xb - xa) * tmp1) / denom\n"
     ]
    },
    {
     "data": {
      "text/plain": [
       "array([ 13.21345022,  -3.78206434, -25.93878845,  62.11825384])"
      ]
     },
     "execution_count": 6,
     "metadata": {},
     "output_type": "execute_result"
    }
   ],
   "source": [
    "tensor1.publish(sigma=50, acc=alice.acc, user_key=alice.verify_key)"
   ]
  },
  {
   "cell_type": "code",
   "execution_count": 7,
   "id": "360e135d-a9dd-4173-b8af-eefa36e17582",
   "metadata": {},
   "outputs": [
    {
     "name": "stdout",
     "output_type": "stream",
     "text": [
      "Andrew\t0.8999352676606419\n"
     ]
    }
   ],
   "source": [
    "alice.acc.print_ledger()"
   ]
  },
  {
   "cell_type": "code",
   "execution_count": 37,
   "id": "4d45a48c-d16d-4e0d-8dcb-c7a921ce3cc9",
   "metadata": {},
   "outputs": [],
   "source": [
    "# Create a 1D IntermediateGammaTensor of just DSGs\n",
    "dsg_ent = np.array([DSG, DSG, DSG, DSG], dtype=object)\n",
    "tensor1 = InitialGammaTensor(values=child, min_vals=np.zeros_like(child), max_vals=np.ones_like(child) * 5, entities=dsg_ent, scalar_manager=SM)\n",
    "IGT = tensor1 + tensor1"
   ]
  },
  {
   "cell_type": "code",
   "execution_count": 9,
   "id": "2e0adc41-0da1-40ab-8ef4-db941c18719e",
   "metadata": {},
   "outputs": [],
   "source": [
    "assert IGT._values().shape == IGT._entities().shape"
   ]
  },
  {
   "cell_type": "code",
   "execution_count": 38,
   "id": "62764da8-bf6b-4c3f-8a4a-9ccc8e194fac",
   "metadata": {},
   "outputs": [
    {
     "name": "stdout",
     "output_type": "stream",
     "text": [
      "4\n",
      "index = 0 of type = <class 'syft.core.adp.entity.DataSubjectGroup'> with value = DSG['<DataSubject:Amber>', '<DataSubject:Andrew>']\n",
      "index = 1 of type = <class 'syft.core.adp.entity.DataSubjectGroup'> with value = DSG['<DataSubject:Amber>', '<DataSubject:Andrew>']\n",
      "index = 2 of type = <class 'syft.core.adp.entity.DataSubjectGroup'> with value = DSG['<DataSubject:Amber>', '<DataSubject:Andrew>']\n",
      "index = 3 of type = <class 'syft.core.adp.entity.DataSubjectGroup'> with value = DSG['<DataSubject:Amber>', '<DataSubject:Andrew>']\n"
     ]
    }
   ],
   "source": [
    "entities = IGT._entities()\n",
    "\n",
    "print(len(entities))\n",
    "for i, e in enumerate(entities):\n",
    "    print(f'index = {i} of type = {type(e)} with value = {e}')"
   ]
  },
  {
   "cell_type": "code",
   "execution_count": 39,
   "id": "39c3907f-1245-46da-93b1-466fc9f5ba0d",
   "metadata": {},
   "outputs": [],
   "source": [
    "ans = IGT > child"
   ]
  },
  {
   "cell_type": "code",
   "execution_count": 40,
   "id": "f8bada5b-7288-4ade-b550-986131fad4d6",
   "metadata": {},
   "outputs": [
    {
     "data": {
      "text/plain": [
       "array([1., 1., 1., 1.])"
      ]
     },
     "execution_count": 40,
     "metadata": {},
     "output_type": "execute_result"
    }
   ],
   "source": [
    "ans._values()"
   ]
  },
  {
   "cell_type": "code",
   "execution_count": 41,
   "id": "524887c8-3f82-4bfe-918c-b5aff35105c4",
   "metadata": {},
   "outputs": [
    {
     "data": {
      "text/plain": [
       "array([DSG['<DataSubject:Amber>', '<DataSubject:Their puppy whose name I forgot>', '<DataSubject:Andrew>'],\n",
       "       DSG['<DataSubject:Amber>', '<DataSubject:Their puppy whose name I forgot>', '<DataSubject:Andrew>'],\n",
       "       DSG['<DataSubject:Amber>', '<DataSubject:Their puppy whose name I forgot>', '<DataSubject:Andrew>'],\n",
       "       DSG['<DataSubject:Amber>', '<DataSubject:Their puppy whose name I forgot>', '<DataSubject:Andrew>']],\n",
       "      dtype=object)"
      ]
     },
     "execution_count": 41,
     "metadata": {},
     "output_type": "execute_result"
    }
   ],
   "source": [
    "entities + np.array([puppy, puppy, puppy, puppy])"
   ]
  },
  {
   "cell_type": "code",
   "execution_count": 46,
   "id": "b404e40f-d834-4345-8d22-41690e038fe2",
   "metadata": {},
   "outputs": [
    {
     "name": "stdout",
     "output_type": "stream",
     "text": [
      "[ 4.  8. 12. 16.]\n"
     ]
    },
    {
     "ename": "ValueError",
     "evalue": "cannot reshape array of size 8 into shape (4,)",
     "output_type": "error",
     "traceback": [
      "\u001b[0;31m---------------------------------------------------------------------------\u001b[0m",
      "\u001b[0;31mValueError\u001b[0m                                Traceback (most recent call last)",
      "\u001b[0;32m/tmp/ipykernel_326330/1449468689.py\u001b[0m in \u001b[0;36m<module>\u001b[0;34m\u001b[0m\n\u001b[1;32m      3\u001b[0m \u001b[0mIGT2\u001b[0m \u001b[0;34m=\u001b[0m \u001b[0mtensor1\u001b[0m \u001b[0;34m+\u001b[0m \u001b[0mtensor3\u001b[0m\u001b[0;34m\u001b[0m\u001b[0;34m\u001b[0m\u001b[0m\n\u001b[1;32m      4\u001b[0m \u001b[0mprint\u001b[0m\u001b[0;34m(\u001b[0m\u001b[0mIGT2\u001b[0m\u001b[0;34m.\u001b[0m\u001b[0m_values\u001b[0m\u001b[0;34m(\u001b[0m\u001b[0;34m)\u001b[0m\u001b[0;34m)\u001b[0m\u001b[0;34m\u001b[0m\u001b[0;34m\u001b[0m\u001b[0m\n\u001b[0;32m----> 5\u001b[0;31m \u001b[0mprint\u001b[0m\u001b[0;34m(\u001b[0m\u001b[0mIGT2\u001b[0m\u001b[0;34m.\u001b[0m\u001b[0m_entities\u001b[0m\u001b[0;34m(\u001b[0m\u001b[0;34m)\u001b[0m\u001b[0;34m)\u001b[0m\u001b[0;34m\u001b[0m\u001b[0;34m\u001b[0m\u001b[0m\n\u001b[0m\u001b[1;32m      6\u001b[0m \u001b[0;32massert\u001b[0m \u001b[0misinstance\u001b[0m\u001b[0;34m(\u001b[0m\u001b[0mIGT2\u001b[0m\u001b[0;34m,\u001b[0m \u001b[0mIntermediateGammaTensor\u001b[0m\u001b[0;34m)\u001b[0m\u001b[0;34m\u001b[0m\u001b[0;34m\u001b[0m\u001b[0m\n\u001b[1;32m      7\u001b[0m \u001b[0;31m# print(IGT2._entities())\u001b[0m\u001b[0;34m\u001b[0m\u001b[0;34m\u001b[0m\u001b[0;34m\u001b[0m\u001b[0m\n",
      "\u001b[0;32m~/PySyft/packages/syft/src/syft/core/tensor/autodp/intermediate_gamma.py\u001b[0m in \u001b[0;36m_entities\u001b[0;34m(self)\u001b[0m\n\u001b[1;32m    205\u001b[0m         \u001b[0;32mreturn\u001b[0m \u001b[0mnp\u001b[0m\u001b[0;34m.\u001b[0m\u001b[0marray\u001b[0m\u001b[0;34m(\u001b[0m\u001b[0moutput_entities\u001b[0m\u001b[0;34m)\u001b[0m\u001b[0;34m.\u001b[0m\u001b[0mreshape\u001b[0m\u001b[0;34m(\u001b[0m\u001b[0mself\u001b[0m\u001b[0;34m.\u001b[0m\u001b[0mshape\u001b[0m\u001b[0;34m)\u001b[0m\u001b[0;34m\u001b[0m\u001b[0;34m\u001b[0m\u001b[0m\n\u001b[1;32m    206\u001b[0m \u001b[0;34m\u001b[0m\u001b[0m\n\u001b[0;32m--> 207\u001b[0;31m     \u001b[0;34m@\u001b[0m\u001b[0mproperty\u001b[0m\u001b[0;34m\u001b[0m\u001b[0;34m\u001b[0m\u001b[0m\n\u001b[0m\u001b[1;32m    208\u001b[0m     \u001b[0;32mdef\u001b[0m \u001b[0mflat_scalars\u001b[0m\u001b[0;34m(\u001b[0m\u001b[0mself\u001b[0m\u001b[0;34m)\u001b[0m \u001b[0;34m->\u001b[0m \u001b[0mList\u001b[0m\u001b[0;34m[\u001b[0m\u001b[0mAny\u001b[0m\u001b[0;34m]\u001b[0m\u001b[0;34m:\u001b[0m\u001b[0;34m\u001b[0m\u001b[0;34m\u001b[0m\u001b[0m\n\u001b[1;32m    209\u001b[0m         \u001b[0mflattened_terms\u001b[0m \u001b[0;34m=\u001b[0m \u001b[0mself\u001b[0m\u001b[0;34m.\u001b[0m\u001b[0mterm_tensor\u001b[0m\u001b[0;34m.\u001b[0m\u001b[0mreshape\u001b[0m\u001b[0;34m(\u001b[0m\u001b[0;34m-\u001b[0m\u001b[0;36m1\u001b[0m\u001b[0;34m,\u001b[0m \u001b[0mself\u001b[0m\u001b[0;34m.\u001b[0m\u001b[0mterm_tensor\u001b[0m\u001b[0;34m.\u001b[0m\u001b[0mshape\u001b[0m\u001b[0;34m[\u001b[0m\u001b[0;34m-\u001b[0m\u001b[0;36m1\u001b[0m\u001b[0;34m]\u001b[0m\u001b[0;34m)\u001b[0m\u001b[0;34m\u001b[0m\u001b[0;34m\u001b[0m\u001b[0m\n",
      "\u001b[0;31mValueError\u001b[0m: cannot reshape array of size 8 into shape (4,)"
     ]
    }
   ],
   "source": [
    "entity_puppies = np.array([puppy, puppy, puppy, puppy])\n",
    "tensor3 = InitialGammaTensor(values=child * 3, min_vals = np.zeros_like(child), max_vals=np.ones_like(child) * 15, entities=entity_puppies, scalar_manager=SM) \n",
    "IGT2 = tensor1 + tensor3\n",
    "print(IGT2._values())\n",
    "print(IGT2._entities())\n",
    "assert isinstance(IGT2, IntermediateGammaTensor)\n",
    "# print(IGT2._entities())\n",
    "\n",
    "# ans = IGT2 > IGT\n",
    "# print(ans._values())\n",
    "# print(ans._entities())"
   ]
  },
  {
   "cell_type": "code",
   "execution_count": null,
   "id": "7509eb2a-b1dd-4d0c-8824-dec1e3f8bbb4",
   "metadata": {},
   "outputs": [],
   "source": []
  },
  {
   "cell_type": "code",
   "execution_count": 31,
   "id": "fee5695c-69a6-4591-a43f-01c78f99239d",
   "metadata": {},
   "outputs": [
    {
     "data": {
      "text/plain": [
       "array([DSG['<DataSubject:Andrew>', '<DataSubject:Amber>'],\n",
       "       DSG['<DataSubject:Andrew>', '<DataSubject:Amber>'],\n",
       "       DSG['<DataSubject:Andrew>', '<DataSubject:Amber>'],\n",
       "       DSG['<DataSubject:Andrew>', '<DataSubject:Amber>']], dtype=object)"
      ]
     },
     "execution_count": 31,
     "metadata": {},
     "output_type": "execute_result"
    }
   ],
   "source": [
    "IGT._entities()\n",
    "# IGT._entities()"
   ]
  },
  {
   "cell_type": "code",
   "execution_count": 16,
   "id": "946ff0dc-d575-468a-9e16-768eef8e3694",
   "metadata": {},
   "outputs": [
    {
     "name": "stdout",
     "output_type": "stream",
     "text": [
      "DSG['<DataSubject:Andrew>', '<DataSubject:Amber>']\n",
      "DSG['<DataSubject:Andrew>', '<DataSubject:Amber>', '<DataSubject:puppy whose name I forgot>']\n",
      "DSG['<DataSubject:Andrew>', '<DataSubject:Amber>', '<DataSubject:puppy whose name I forgot>']\n"
     ]
    }
   ],
   "source": [
    "print(traskmaster + amber)\n",
    "\n",
    "print(traskmaster + amber + puppy)\n",
    "DSG2 = traskmaster + amber\n",
    "DSG2 += puppy\n",
    "print(DSG2)"
   ]
  },
  {
   "cell_type": "code",
   "execution_count": null,
   "id": "077cfcf9-85b4-4261-b532-bd45c9f2ab1f",
   "metadata": {},
   "outputs": [],
   "source": [
    "y = set([1,2,3,4])"
   ]
  },
  {
   "cell_type": "code",
   "execution_count": null,
   "id": "6a94bc80-968f-475a-9d36-70d5376138a4",
   "metadata": {},
   "outputs": [],
   "source": [
    "x.union(y)"
   ]
  },
  {
   "cell_type": "code",
   "execution_count": null,
   "id": "c3c59825-6a9a-417d-a03f-85608fa29c86",
   "metadata": {},
   "outputs": [],
   "source": [
    "set(x)"
   ]
  },
  {
   "cell_type": "code",
   "execution_count": null,
   "id": "d14a6a5d-e8f1-4b85-8afa-059811c1a0c1",
   "metadata": {},
   "outputs": [],
   "source": [
    "np.array(IGT._entities()).reshape(IGT.shape)"
   ]
  },
  {
   "cell_type": "code",
   "execution_count": null,
   "id": "5c2aed3c-f92e-4322-98a6-445e92d46647",
   "metadata": {},
   "outputs": [],
   "source": [
    "IGT.flat_scalars[0].input_scalars[0].entity"
   ]
  },
  {
   "cell_type": "code",
   "execution_count": null,
   "id": "e50ac540-fb2a-447f-ae7c-e79d5216a83b",
   "metadata": {},
   "outputs": [],
   "source": [
    "IGT.flat_scalars"
   ]
  },
  {
   "cell_type": "code",
   "execution_count": null,
   "id": "453cdb41-5a3f-4875-a69f-3103209b4e1f",
   "metadata": {},
   "outputs": [],
   "source": [
    "tensor1.publish(sigma=50, acc=alice.acc, user_key=alice.verify_key)"
   ]
  },
  {
   "cell_type": "code",
   "execution_count": null,
   "id": "551e7e6e-7532-4a04-9744-b42db866f98f",
   "metadata": {},
   "outputs": [],
   "source": []
  },
  {
   "cell_type": "code",
   "execution_count": null,
   "id": "0df9350e-bdf7-4f43-a56a-5166a7e1fb46",
   "metadata": {},
   "outputs": [],
   "source": [
    "alice.acc.print_ledger()"
   ]
  },
  {
   "cell_type": "code",
   "execution_count": null,
   "id": "aa443b1e-4027-4e82-914b-a5332402f9ad",
   "metadata": {},
   "outputs": [],
   "source": []
  },
  {
   "cell_type": "code",
   "execution_count": null,
   "id": "ef3a9c9d-012a-4715-88b0-a35988ba8d07",
   "metadata": {},
   "outputs": [],
   "source": []
  },
  {
   "cell_type": "code",
   "execution_count": null,
   "id": "9825434f-d543-41a4-89c7-0528a27b171f",
   "metadata": {},
   "outputs": [],
   "source": [
    "alice.acc.print_ledger()"
   ]
  },
  {
   "cell_type": "code",
   "execution_count": null,
   "id": "300e6d52-2d56-42d6-b6cb-8f9336549db7",
   "metadata": {},
   "outputs": [],
   "source": [
    "alice.acc.entity2ledger.mechanism_manager.all()"
   ]
  },
  {
   "cell_type": "code",
   "execution_count": null,
   "id": "29204191-126a-4120-80b8-ef08e75e6ab7",
   "metadata": {},
   "outputs": [],
   "source": [
    "# conn = create_virtual_connection(alice)"
   ]
  },
  {
   "cell_type": "code",
   "execution_count": null,
   "id": "882bb4b3-9a0e-40f7-994e-b33a4ac3dc59",
   "metadata": {},
   "outputs": [],
   "source": []
  },
  {
   "cell_type": "code",
   "execution_count": null,
   "id": "553ef09a-e031-4e13-9fc6-8b42647175b2",
   "metadata": {},
   "outputs": [],
   "source": []
  }
 ],
 "metadata": {
  "kernelspec": {
   "display_name": "Python 3 (ipykernel)",
   "language": "python",
   "name": "python3"
  },
  "language_info": {
   "codemirror_mode": {
    "name": "ipython",
    "version": 3
   },
   "file_extension": ".py",
   "mimetype": "text/x-python",
   "name": "python",
   "nbconvert_exporter": "python",
   "pygments_lexer": "ipython3",
   "version": "3.8.11"
  }
 },
 "nbformat": 4,
 "nbformat_minor": 5
}

{
 "cells": [
  {
   "cell_type": "markdown",
   "id": "b473f8ad-f5c9-4c72-b98f-52b986410a87",
   "metadata": {},
   "source": [
    "## TODO\n",
    "\n",
    "- Incorporate entity information using DataSubjectList class into GammaTensor\n",
    "- Speedup `DataSubjectList.from_objs()`\n",
    "- Make `value` private\n",
    "- Add Lipschitz bound property (?)"
   ]
  },
  {
   "cell_type": "code",
   "execution_count": 6,
   "id": "11a6c311-6487-4147-94d5-305c71dd2fab",
   "metadata": {
    "collapsed": true,
    "jupyter": {
     "outputs_hidden": true
    },
    "tags": []
   },
   "outputs": [
    {
     "name": "stdout",
     "output_type": "stream",
     "text": [
      "Collecting flax\n",
      "  Using cached flax-0.4.0-py3-none-any.whl (176 kB)\n",
      "Collecting jax\n",
      "  Downloading jax-0.3.1.tar.gz (912 kB)\n",
      "\u001b[2K     \u001b[90m━━━━━━━━━━━━━━━━━━━━━━━━━━━━━━━━━━━━━━━\u001b[0m \u001b[32m912.1/912.1 KB\u001b[0m \u001b[31m8.5 MB/s\u001b[0m eta \u001b[36m0:00:00\u001b[0ma \u001b[36m0:00:01\u001b[0m\n",
      "\u001b[?25h  Preparing metadata (setup.py) ... \u001b[?25ldone\n",
      "\u001b[?25hRequirement already satisfied: numpy>=1.12 in /home/e/PycharmProjects/PySyft/.tox/syft.jupyter/lib/python3.8/site-packages (from flax) (1.22.3)\n",
      "Collecting optax\n",
      "  Using cached optax-0.1.1-py3-none-any.whl (136 kB)\n",
      "Requirement already satisfied: matplotlib in /home/e/PycharmProjects/PySyft/.tox/syft.jupyter/lib/python3.8/site-packages (from flax) (3.5.1)\n",
      "Collecting msgpack\n",
      "  Downloading msgpack-1.0.3-cp38-cp38-manylinux_2_17_x86_64.manylinux2014_x86_64.whl (322 kB)\n",
      "\u001b[2K     \u001b[90m━━━━━━━━━━━━━━━━━━━━━━━━━━━━━━━━━━━━━━\u001b[0m \u001b[32m322.4/322.4 KB\u001b[0m \u001b[31m21.6 MB/s\u001b[0m eta \u001b[36m0:00:00\u001b[0m\n",
      "\u001b[?25hCollecting absl-py\n",
      "  Using cached absl_py-1.0.0-py3-none-any.whl (126 kB)\n",
      "Collecting opt_einsum\n",
      "  Using cached opt_einsum-3.3.0-py3-none-any.whl (65 kB)\n",
      "Requirement already satisfied: scipy>=1.2.1 in /home/e/PycharmProjects/PySyft/.tox/syft.jupyter/lib/python3.8/site-packages (from jax) (1.8.0)\n",
      "Requirement already satisfied: typing_extensions in /home/e/PycharmProjects/PySyft/.tox/syft.jupyter/lib/python3.8/site-packages (from jax) (4.1.1)\n",
      "Requirement already satisfied: six in /home/e/PycharmProjects/PySyft/.tox/syft.jupyter/lib/python3.8/site-packages (from absl-py->jax) (1.16.0)\n",
      "Requirement already satisfied: fonttools>=4.22.0 in /home/e/PycharmProjects/PySyft/.tox/syft.jupyter/lib/python3.8/site-packages (from matplotlib->flax) (4.30.0)\n",
      "Requirement already satisfied: packaging>=20.0 in /home/e/PycharmProjects/PySyft/.tox/syft.jupyter/lib/python3.8/site-packages (from matplotlib->flax) (21.3)\n",
      "Requirement already satisfied: pillow>=6.2.0 in /home/e/PycharmProjects/PySyft/.tox/syft.jupyter/lib/python3.8/site-packages (from matplotlib->flax) (9.0.1)\n",
      "Requirement already satisfied: python-dateutil>=2.7 in /home/e/PycharmProjects/PySyft/.tox/syft.jupyter/lib/python3.8/site-packages (from matplotlib->flax) (2.8.2)\n",
      "Requirement already satisfied: kiwisolver>=1.0.1 in /home/e/PycharmProjects/PySyft/.tox/syft.jupyter/lib/python3.8/site-packages (from matplotlib->flax) (1.3.2)\n",
      "Requirement already satisfied: cycler>=0.10 in /home/e/PycharmProjects/PySyft/.tox/syft.jupyter/lib/python3.8/site-packages (from matplotlib->flax) (0.11.0)\n",
      "Requirement already satisfied: pyparsing>=2.2.1 in /home/e/PycharmProjects/PySyft/.tox/syft.jupyter/lib/python3.8/site-packages (from matplotlib->flax) (3.0.7)\n",
      "Collecting jaxlib>=0.1.37\n",
      "  Downloading jaxlib-0.3.0-cp38-none-manylinux2010_x86_64.whl (65.4 MB)\n",
      "\u001b[2K     \u001b[90m━━━━━━━━━━━━━━━━━━━━━━━━━━━━━━━━━━━━━━━━\u001b[0m \u001b[32m65.4/65.4 MB\u001b[0m \u001b[31m9.5 MB/s\u001b[0m eta \u001b[36m0:00:00\u001b[0m:00:01\u001b[0m00:01\u001b[0m\n",
      "\u001b[?25hCollecting chex>=0.0.4\n",
      "  Using cached chex-0.1.1-py3-none-any.whl (70 kB)\n",
      "Collecting toolz>=0.9.0\n",
      "  Using cached toolz-0.11.2-py3-none-any.whl (55 kB)\n",
      "Collecting dm-tree>=0.1.5\n",
      "  Downloading dm_tree-0.1.6-cp38-cp38-manylinux_2_24_x86_64.whl (94 kB)\n",
      "\u001b[2K     \u001b[90m━━━━━━━━━━━━━━━━━━━━━━━━━━━━━━━━━━━━━━━━\u001b[0m \u001b[32m94.7/94.7 KB\u001b[0m \u001b[31m13.8 MB/s\u001b[0m eta \u001b[36m0:00:00\u001b[0m\n",
      "\u001b[?25hCollecting flatbuffers<3.0,>=1.12\n",
      "  Using cached flatbuffers-2.0-py2.py3-none-any.whl (26 kB)\n",
      "Building wheels for collected packages: jax\n",
      "  Building wheel for jax (setup.py) ... \u001b[?25ldone\n",
      "\u001b[?25h  Created wheel for jax: filename=jax-0.3.1-py3-none-any.whl size=1054280 sha256=e11e9ffd7d9afebb585cba87c1255f727aa717061ffe0ef06d25edd57977579b\n",
      "  Stored in directory: /home/e/.cache/pip/wheels/98/c3/90/e1acae597e44d78506ce11b219919f4e43ef85bf4a3cb8bfc5\n",
      "Successfully built jax\n",
      "Installing collected packages: msgpack, flatbuffers, toolz, opt_einsum, dm-tree, absl-py, jaxlib, jax, chex, optax, flax\n",
      "Successfully installed absl-py-1.0.0 chex-0.1.1 dm-tree-0.1.6 flatbuffers-2.0 flax-0.4.0 jax-0.3.1 jaxlib-0.3.0 msgpack-1.0.3 opt_einsum-3.3.0 optax-0.1.1 toolz-0.11.2\n"
     ]
    }
   ],
   "source": [
    "!pip install flax jax"
   ]
  },
  {
   "cell_type": "code",
   "execution_count": 1,
   "id": "6f871115-0813-4bfc-a0e4-0d250abcf706",
   "metadata": {},
   "outputs": [],
   "source": [
    "%load_ext autoreload\n",
    "%autoreload 2\n",
    "\n",
    "import syft as sy\n",
    "import numpy as np"
   ]
  },
  {
   "cell_type": "code",
   "execution_count": 2,
   "id": "3f837850-0cc8-49d8-a07a-c00e4bb4ec8f",
   "metadata": {},
   "outputs": [],
   "source": [
    "from syft.core.adp.entity import DataSubject"
   ]
  },
  {
   "cell_type": "code",
   "execution_count": 3,
   "id": "b4af2bae-1b62-4e92-a770-912b5824df16",
   "metadata": {},
   "outputs": [],
   "source": [
    "ishan = DataSubject(name=\"Ishan\")\n",
    "rasswanth = DataSubject(name=\"Rasswanth\")"
   ]
  },
  {
   "cell_type": "code",
   "execution_count": 4,
   "id": "685052a9-bc03-4269-a285-a78287418369",
   "metadata": {},
   "outputs": [
    {
     "data": {
      "text/plain": [
       "list"
      ]
     },
     "execution_count": 4,
     "metadata": {},
     "output_type": "execute_result"
    }
   ],
   "source": [
    "type([ishan, rasswanth] * 50)"
   ]
  },
  {
   "cell_type": "code",
   "execution_count": 5,
   "id": "fb3d256f-373c-41be-9e87-569dbf291f55",
   "metadata": {},
   "outputs": [],
   "source": [
    "tensor = sy.Tensor(np.random.randint(0, 5, size=(100), dtype=np.int32)).private(min_val=0, max_val=10, entities=[ishan, rasswanth] * 50)  "
   ]
  },
  {
   "cell_type": "code",
   "execution_count": 6,
   "id": "09c54b98-4486-462b-a840-6abe40d8a032",
   "metadata": {},
   "outputs": [
    {
     "data": {
      "text/plain": [
       "PhiTensor(child=(100,), min_vals=<lazyrepeatarray data: 0 -> shape: (100,)>, max_vals=<lazyrepeatarray data: 10 -> shape: (100,)>)"
      ]
     },
     "execution_count": 6,
     "metadata": {},
     "output_type": "execute_result"
    }
   ],
   "source": [
    "tensor.child"
   ]
  },
  {
   "cell_type": "code",
   "execution_count": 7,
   "id": "260c89c0-b698-45e3-aa23-bd51f11841f9",
   "metadata": {},
   "outputs": [],
   "source": [
    "result = tensor.child.sum()"
   ]
  },
  {
   "cell_type": "code",
   "execution_count": 8,
   "id": "3ca36767-0b45-483d-930b-20316f471ce2",
   "metadata": {},
   "outputs": [],
   "source": [
    "from syft.core.tensor.autodp.gamma_tensor import GammaTensor"
   ]
  },
  {
   "cell_type": "code",
   "execution_count": 9,
   "id": "c8cc676e-48df-40a6-8cdc-4154bfe6d9b4",
   "metadata": {},
   "outputs": [
    {
     "data": {
      "text/plain": [
       "GammaTensor(value=array([1., 1., 1., 1., 1., 1., 1., 1., 1., 1.]), data_subjects=['Ishan'], min_val=0, max_val=2, func=<function no_op at 0x7f36ecc35f70>, id='1875487103', state={'1875487103': ...})"
      ]
     },
     "execution_count": 9,
     "metadata": {},
     "output_type": "execute_result"
    }
   ],
   "source": [
    "GammaTensor(value=np.ones(10), data_subjects=[\"Ishan\"], min_val=0, max_val=2)"
   ]
  },
  {
   "cell_type": "code",
   "execution_count": 10,
   "id": "503ac132-181b-4221-b8cb-400324ea4c9e",
   "metadata": {},
   "outputs": [
    {
     "data": {
      "text/plain": [
       "syft.core.tensor.autodp.gamma_tensor.GammaTensor"
      ]
     },
     "execution_count": 10,
     "metadata": {},
     "output_type": "execute_result"
    }
   ],
   "source": [
    "type(result)"
   ]
  },
  {
   "cell_type": "code",
   "execution_count": 11,
   "id": "97adac34-04c8-42d8-afb6-8f1c2431bbf4",
   "metadata": {},
   "outputs": [
    {
     "data": {
      "text/plain": [
       "205"
      ]
     },
     "execution_count": 11,
     "metadata": {},
     "output_type": "execute_result"
    }
   ],
   "source": [
    "result.value"
   ]
  },
  {
   "cell_type": "code",
   "execution_count": 12,
   "id": "8f382753-e153-4c2a-b7b8-8ea1c2d2a455",
   "metadata": {},
   "outputs": [
    {
     "data": {
      "text/plain": [
       "205"
      ]
     },
     "execution_count": 12,
     "metadata": {},
     "output_type": "execute_result"
    }
   ],
   "source": [
    "tensor.child.child.sum()"
   ]
  },
  {
   "cell_type": "code",
   "execution_count": 13,
   "id": "95aedd9d-d3bf-4f5d-96c3-1cfae8b153a7",
   "metadata": {},
   "outputs": [
    {
     "data": {
      "text/plain": [
       "1000"
      ]
     },
     "execution_count": 13,
     "metadata": {},
     "output_type": "execute_result"
    }
   ],
   "source": [
    "tensor.child.max_vals.sum()"
   ]
  },
  {
   "cell_type": "code",
   "execution_count": 14,
   "id": "bbbe0e8f-61b4-48ac-9c20-65bc3f8ce05a",
   "metadata": {},
   "outputs": [
    {
     "data": {
      "text/plain": [
       "GammaTensor(value=205, data_subjects=<syft.core.adp.entity_list.DataSubjectList object at 0x7f37b044e100>, min_val=0, max_val=1000, func=<function no_op at 0x7f36ecc35f70>, id='2125233442', state={'2125233442': ...})"
      ]
     },
     "execution_count": 14,
     "metadata": {},
     "output_type": "execute_result"
    }
   ],
   "source": [
    "result"
   ]
  },
  {
   "cell_type": "code",
   "execution_count": 15,
   "id": "fb31d80f-bad5-488c-b759-75c9a862454e",
   "metadata": {},
   "outputs": [],
   "source": [
    "size = 10\n",
    "large_array = sy.Tensor(np.ones(size, dtype=np.int32)).private(min_val=0, max_val=2, entities=list(np.random.choice([ishan, rasswanth], size=size)))"
   ]
  },
  {
   "cell_type": "code",
   "execution_count": 16,
   "id": "5c31318f-2311-4788-acb7-11fa874816d3",
   "metadata": {},
   "outputs": [],
   "source": [
    "from syft.core.tensor.autodp.ndim_entity_phi import PhiTensor as NDEPT"
   ]
  },
  {
   "cell_type": "code",
   "execution_count": 19,
   "id": "dbcf0ba0-6d48-4581-98ea-aa5cb7f0381c",
   "metadata": {},
   "outputs": [
    {
     "name": "stdout",
     "output_type": "stream",
     "text": [
      "Time to create data: 0.0004870891571044922 seconds\n",
      "Time to create entity array: 0.014275312423706055 seconds\n",
      "Time taken to initialize NDEPT: 0.0001316070556640625 seconds\n",
      "Time taken to sum 1.0 million: 0.0022726058959960938 seconds!\n",
      "Time to create data: 0.004967451095581055 seconds\n",
      "Time to create entity array: 0.12358593940734863 seconds\n",
      "Time taken to initialize NDEPT: 0.00019288063049316406 seconds\n",
      "Time taken to sum 10.0 million: 0.019536972045898438 seconds!\n",
      "Time to create data: 0.04445028305053711 seconds\n",
      "Time to create entity array: 1.0893456935882568 seconds\n",
      "Time taken to initialize NDEPT: 0.00030040740966796875 seconds\n",
      "Time taken to sum 100.0 million: 0.17731213569641113 seconds!\n",
      "Time to create data: 0.4367334842681885 seconds\n",
      "Time to create entity array: 10.805228233337402 seconds\n",
      "Time taken to initialize NDEPT: 0.0007562637329101562 seconds\n",
      "Time taken to sum 1000.0 million: 1.8253142833709717 seconds!\n"
     ]
    }
   ],
   "source": [
    "from time import time\n",
    "\n",
    "sizes = [10 ** e for e in range(6, 10)]\n",
    "\n",
    "for size in sizes:\n",
    "    # large_array = sy.Tensor(np.ones(size, dtype=np.int32)).private(min_val=0, max_val=2, entities=np.random.choice([ishan, rasswanth], size=size))\n",
    "    \n",
    "    t0 = time()\n",
    "    data = np.ones(size, dtype=np.int32)\n",
    "    tf = time() - t0\n",
    "    print(f'Time to create data: {tf} seconds')\n",
    "    t0 = time()\n",
    "    entities = np.random.choice([ishan, rasswanth], size=size)\n",
    "    tf = time() - t0\n",
    "    print(f'Time to create entity array: {tf} seconds')\n",
    "    \n",
    "    t0 = time()\n",
    "    large_array = NDEPT(child=data, entities=ishan, min_vals=0, max_vals=2)\n",
    "    tf = time() - t0\n",
    "    print(f'Time taken to initialize NDEPT: {tf} seconds')\n",
    "    \n",
    "    t0 = time()\n",
    "    result = large_array.sum()\n",
    "    tf = time() - t0\n",
    "    print(f'Time taken to sum {size/1e6} million: {tf} seconds!')\n",
    "    assert result.value/size == 1.0\n",
    "    # assert result.max_vals/size == 2.0\n",
    "    "
   ]
  },
  {
   "cell_type": "code",
   "execution_count": 22,
   "id": "ff1d0c36-f234-42b8-93db-4182afa9d906",
   "metadata": {},
   "outputs": [
    {
     "data": {
      "text/plain": [
       "syft.core.tensor.autodp.ndim_entity_phi.PhiTensor"
      ]
     },
     "execution_count": 22,
     "metadata": {},
     "output_type": "execute_result"
    }
   ],
   "source": [
    "type(large_array)"
   ]
  },
  {
   "cell_type": "code",
   "execution_count": 27,
   "id": "65ff397a-4ce5-43d6-994d-5ac4f7093420",
   "metadata": {},
   "outputs": [
    {
     "name": "stdout",
     "output_type": "stream",
     "text": [
      "782 ms ± 35.3 ms per loop (mean ± std. dev. of 7 runs, 1 loop each)\n"
     ]
    }
   ],
   "source": [
    "%%timeit\n",
    "# t0 = time()\n",
    "s = sy.serialize(large_array)\n",
    "# tf = time() - t0\n",
    "# print(f'Time for serialization: {tf} seconds')"
   ]
  },
  {
   "cell_type": "code",
   "execution_count": 31,
   "id": "fac8b02d-cd40-417a-9f7e-9291fb3e0037",
   "metadata": {},
   "outputs": [
    {
     "data": {
      "text/plain": [
       "1.0"
      ]
     },
     "execution_count": 31,
     "metadata": {},
     "output_type": "execute_result"
    }
   ],
   "source": [
    "large_array.shape[0]/1e9"
   ]
  },
  {
   "cell_type": "code",
   "execution_count": 29,
   "id": "40f4859d-3c96-4a27-9768-d51bbfc61982",
   "metadata": {},
   "outputs": [],
   "source": [
    "from syft.util import size_mb"
   ]
  },
  {
   "cell_type": "code",
   "execution_count": 30,
   "id": "3f6e5c3d-2f8b-4f60-9473-6b06ad4f3ad5",
   "metadata": {},
   "outputs": [
    {
     "data": {
      "text/plain": [
       "0.34996795654296875"
      ]
     },
     "execution_count": 30,
     "metadata": {},
     "output_type": "execute_result"
    }
   ],
   "source": [
    "size_mb(s)"
   ]
  },
  {
   "cell_type": "code",
   "execution_count": 32,
   "id": "61588d3c-609e-4282-a979-f9fb3d0e4f64",
   "metadata": {},
   "outputs": [
    {
     "name": "stdout",
     "output_type": "stream",
     "text": [
      "Time for serialization: 2.556856632232666 seconds\n"
     ]
    }
   ],
   "source": [
    "t0 = time()\n",
    "d = sy.deserialize(s)\n",
    "tf = time() - t0\n",
    "print(f'Time for serialization: {tf} seconds')"
   ]
  },
  {
   "cell_type": "code",
   "execution_count": 34,
   "id": "f652048d-f68e-4caa-8eb2-5be71d9cbb85",
   "metadata": {},
   "outputs": [
    {
     "data": {
      "text/plain": [
       "True"
      ]
     },
     "execution_count": 34,
     "metadata": {},
     "output_type": "execute_result"
    }
   ],
   "source": [
    "(d == large_array).child.all()"
   ]
  },
  {
   "cell_type": "code",
   "execution_count": 78,
   "id": "5e8631a7-82e9-4651-aa5e-038e5ad34a21",
   "metadata": {},
   "outputs": [
    {
     "data": {
      "text/plain": [
       "array([<DataSubject:Rasswanth>, <DataSubject:Rasswanth>, <DataSubject:Ishan>, ...,\n",
       "       <DataSubject:Rasswanth>, <DataSubject:Rasswanth>, <DataSubject:Rasswanth>],\n",
       "      dtype=object)"
      ]
     },
     "execution_count": 78,
     "metadata": {},
     "output_type": "execute_result"
    }
   ],
   "source": [
    "entities"
   ]
  },
  {
   "cell_type": "code",
   "execution_count": 32,
   "id": "25d51fb3-7d3e-404e-afa6-855b241c6c60",
   "metadata": {},
   "outputs": [
    {
     "data": {
      "text/plain": [
       "array([<DataSubject:Ishan>, <DataSubject:Rasswanth>], dtype=object)"
      ]
     },
     "execution_count": 32,
     "metadata": {},
     "output_type": "execute_result"
    }
   ],
   "source": [
    "large_array.entities.one_hot_lookup"
   ]
  },
  {
   "cell_type": "code",
   "execution_count": 33,
   "id": "3aad6b40-a396-4f19-9aef-345f1ec35478",
   "metadata": {},
   "outputs": [],
   "source": [
    "original_entities = large_array.entities.entities_indexed"
   ]
  },
  {
   "cell_type": "code",
   "execution_count": 34,
   "id": "288fe95d-9afd-4ea8-8b90-8fea04cac791",
   "metadata": {},
   "outputs": [
    {
     "data": {
      "text/plain": [
       "(10000000,)"
      ]
     },
     "execution_count": 34,
     "metadata": {},
     "output_type": "execute_result"
    }
   ],
   "source": [
    "original_entities.shape"
   ]
  },
  {
   "cell_type": "code",
   "execution_count": 37,
   "id": "8aa1c6f4-ec07-499e-a520-a3b07423a00c",
   "metadata": {},
   "outputs": [
    {
     "data": {
      "text/plain": [
       "array([[1, 0, 0, ..., 1, 1, 0]])"
      ]
     },
     "execution_count": 37,
     "metadata": {},
     "output_type": "execute_result"
    }
   ],
   "source": [
    "original_entities.reshape(1, len(original_entities))"
   ]
  },
  {
   "cell_type": "code",
   "execution_count": null,
   "id": "bf14cadf-4cd1-46a0-9f22-2b6f7c9cf15a",
   "metadata": {},
   "outputs": [],
   "source": []
  }
 ],
 "metadata": {
  "kernelspec": {
   "display_name": "Python 3 (ipykernel)",
   "language": "python",
   "name": "python3"
  },
  "language_info": {
   "codemirror_mode": {
    "name": "ipython",
    "version": 3
   },
   "file_extension": ".py",
   "mimetype": "text/x-python",
   "name": "python",
   "nbconvert_exporter": "python",
   "pygments_lexer": "ipython3",
   "version": "3.8.10"
  }
 },
 "nbformat": 4,
 "nbformat_minor": 5
}

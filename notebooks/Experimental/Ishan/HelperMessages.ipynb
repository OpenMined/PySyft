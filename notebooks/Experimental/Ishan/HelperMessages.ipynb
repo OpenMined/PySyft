{
 "cells": [
  {
   "cell_type": "code",
   "execution_count": 1,
   "id": "a796c05c-dbbc-4883-b6a7-6da5af6c901c",
   "metadata": {},
   "outputs": [
    {
     "name": "stderr",
     "output_type": "stream",
     "text": [
      "/Users/bitsofsteve/miniconda3/envs/syft/lib/python3.10/site-packages/tqdm/auto.py:22: TqdmWarning: IProgress not found. Please update jupyter and ipywidgets. See https://ipywidgets.readthedocs.io/en/stable/user_install.html\n",
      "  from .autonotebook import tqdm as notebook_tqdm\n"
     ]
    },
    {
     "name": "stdout",
     "output_type": "stream",
     "text": [
      "Tutorial Mode:  True\n",
      "<class 'bool'>\n"
     ]
    }
   ],
   "source": [
    "import syft as sy"
   ]
  },
  {
   "cell_type": "code",
   "execution_count": 2,
   "id": "0443ee0c-03b1-4efb-8fd7-5cec073b05d4",
   "metadata": {},
   "outputs": [],
   "source": [
    "import numpy as np"
   ]
  },
  {
   "cell_type": "code",
   "execution_count": 3,
   "id": "4ee5a936-4554-4cba-ab58-3e90985f1fa9",
   "metadata": {},
   "outputs": [
    {
     "name": "stdout",
     "output_type": "stream",
     "text": [
      "Tensor annotated with DP Metadata!\n",
      "You can upload this Tensor to a domain node by calling `<domain_client>.load_dataset` and passing in this tensor as an asset.\n"
     ]
    }
   ],
   "source": [
    "tensor = sy.Tensor(np.ones(10)).annotate_with_dp_metadata(lower_bound=0, upper_bound=2, data_subjects=\"Ishan\")"
   ]
  },
  {
   "cell_type": "code",
   "execution_count": null,
   "id": "bd8544cd-5453-4102-8ab8-7594145aea87",
   "metadata": {},
   "outputs": [],
   "source": [
    "sy.helper = True"
   ]
  },
  {
   "cell_type": "code",
   "execution_count": null,
   "id": "402bdc81-cc62-4ace-af3b-017da18ad021",
   "metadata": {},
   "outputs": [],
   "source": [
    "sy.helper"
   ]
  },
  {
   "cell_type": "code",
   "execution_count": null,
   "id": "760f1ad6-4d09-4d14-b2a7-51f2a72b380c",
   "metadata": {},
   "outputs": [],
   "source": [
    "tensor = sy.Tensor(np.ones(10)).annotate_with_dp_metadata(lower_bound=0, upper_bound=2, data_subjects=\"Ishan\")"
   ]
  },
  {
   "cell_type": "code",
   "execution_count": null,
   "id": "adf30d01-be68-4488-890a-6fbf3398fdc0",
   "metadata": {},
   "outputs": [],
   "source": [
    "sy.Tensor(1)"
   ]
  },
  {
   "cell_type": "code",
   "execution_count": null,
   "id": "d73cdf1b-5333-4fb9-9b22-c61c2181c0b2",
   "metadata": {},
   "outputs": [],
   "source": []
  }
 ],
 "metadata": {
  "kernelspec": {
   "display_name": "Python 3 (ipykernel)",
   "language": "python",
   "name": "python3"
  },
  "language_info": {
   "codemirror_mode": {
    "name": "ipython",
    "version": 3
   },
   "file_extension": ".py",
   "mimetype": "text/x-python",
   "name": "python",
   "nbconvert_exporter": "python",
   "pygments_lexer": "ipython3",
   "version": "3.9.7"
  }
 },
 "nbformat": 4,
 "nbformat_minor": 5
}

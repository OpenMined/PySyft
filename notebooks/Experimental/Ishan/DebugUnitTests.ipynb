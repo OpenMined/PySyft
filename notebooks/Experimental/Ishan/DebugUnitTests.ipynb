{
 "cells": [
  {
   "cell_type": "code",
   "execution_count": null,
   "id": "c148af3f-1a26-4758-a76e-0ec380518f0d",
   "metadata": {},
   "outputs": [],
   "source": [
    "from syft import PhiTensor as PT"
   ]
  },
  {
   "cell_type": "code",
   "execution_count": null,
   "id": "2d371ea2-23cb-4c86-9af5-0fc283157fdf",
   "metadata": {},
   "outputs": [],
   "source": [
    "from syft.core.adp.data_subject_list import DataSubject\n",
    "import numpy as np\n",
    "\n",
    "ishan = np.array([DataSubject([\"Ishan\"])])"
   ]
  },
  {
   "cell_type": "code",
   "execution_count": null,
   "id": "3a9d2ff5-9373-482d-8e53-a85fc48d77d6",
   "metadata": {},
   "outputs": [],
   "source": [
    "from syft import lazyrepeatarray as lra\n",
    "\n",
    "upper_bound = lra(data=5, shape=(3,3))\n",
    "lower_bound = lra(data=-5, shape=(3,3))\n",
    "\n",
    "reference_data = np.random.randint(-5, 5, (3,3))"
   ]
  },
  {
   "cell_type": "code",
   "execution_count": null,
   "id": "dbff0612-44aa-4dae-9d45-dd62a2de8fc9",
   "metadata": {},
   "outputs": [],
   "source": [
    "reference_tensor = PT(\n",
    "    child=np.array(reference_data),\n",
    "    data_subject=ishan,\n",
    "    max_vals=upper_bound,\n",
    "    min_vals=lower_bound,\n",
    ")\n",
    "gamma_tensor = reference_tensor.gamma\n",
    "\n",
    "aux_tensor = gamma_tensor == reference_data\n",
    "result = aux_tensor.any()\n",
    "assert result.child\n",
    "assert list(result.sources.keys()) == [reference_tensor.id]\n",
    "state = {}\n",
    "for key in result.sources:\n",
    "    state[key] = result.sources[key].child\n",
    "assert (result.func(state) == result.child).all()\n",
    "\n",
    "result = (gamma_tensor == reference_data).any(axis=0)\n",
    "assert result.shape == (reference_data.shape[0],)\n",
    "assert list(result.sources.keys()) == [reference_tensor.id]\n",
    "state = {}\n",
    "for key in result.sources:\n",
    "    state[key] = result.sources[key].child\n",
    "assert (result.func(state) == result.child).all()\n",
    "\n",
    "result = (gamma_tensor == reference_data).any(keepdims=True)\n",
    "assert result.shape == (1, 1)\n",
    "assert list(result.sources.keys()) == [reference_tensor.id]\n",
    "state = {}\n",
    "for key in result.sources:\n",
    "    state[key] = result.sources[key].child\n",
    "assert (result.func(state) == result.child).all()\n",
    "\n",
    "result = (gamma_tensor == reference_data).any(keepdims=True, axis=0)\n",
    "assert result.shape == (1, reference_tensor.shape[0])\n",
    "assert list(result.sources.keys()) == [reference_tensor.id]\n",
    "state = {}\n",
    "for key in result.sources:\n",
    "    state[key] = result.sources[key].child\n",
    "assert (result.func(state) == result.child).all()\n",
    "\n",
    "condition = list(\n",
    "    np.random.choice(a=[False, True], size=(reference_data.shape[0] - 1))\n",
    ")\n",
    "condition.append(\n",
    "    True\n",
    ")  # If condition = [False, False, False ... False], this test will fail\n",
    "result = (gamma_tensor == reference_data).any(where=condition)\n",
    "assert result.child\n",
    "assert list(result.sources.keys()) == [reference_tensor.id]\n",
    "state = {}\n",
    "for key in result.sources:\n",
    "    state[key] = result.sources[key].child\n",
    "# print(state)\n",
    "# print(result.func(state))\n",
    "\n",
    "assert result.func(state).shape == result.child.shape\n",
    "assert (result.func(state) == result.child).all()"
   ]
  },
  {
   "cell_type": "code",
   "execution_count": null,
   "id": "de799791-9ded-4b8f-8936-247db08feb1b",
   "metadata": {},
   "outputs": [],
   "source": [
    "tensor = PT(\n",
    "    child=reference_data,\n",
    "    data_subject=ishan,\n",
    "    min_vals=lower_bound,\n",
    "    max_vals=upper_bound,\n",
    ")\n",
    "gamma_tensor = tensor.gamma\n",
    "output = gamma_tensor // 5\n",
    "assert (output.child == (reference_data // 5)).all()\n",
    "assert list(output.sources.keys()) == [tensor.id]\n",
    "state = {}\n",
    "for key in output.sources:\n",
    "    state[key] = output.sources[key].child\n",
    "assert (output.func(state) == output.child).all()\n",
    "\n",
    "tensor2 = PT(\n",
    "    child=reference_data + 1,\n",
    "    data_subject=ishan,\n",
    "    min_vals=lower_bound + 1,\n",
    "    max_vals=upper_bound + 1,\n",
    ")\n",
    "\n",
    "output = gamma_tensor // tensor2\n",
    "assert (output.child == (reference_data // (reference_data + 1))).all()\n",
    "assert list(output.sources.keys()) == [tensor.id, tensor2.id]\n",
    "state = {}\n",
    "for key in output.sources:\n",
    "    state[key] = output.sources[key].child\n",
    "print(output.child)\n",
    "print(output.func(state))"
   ]
  },
  {
   "cell_type": "code",
   "execution_count": null,
   "id": "a0ed8f01-6102-4802-8fca-49d38cd711b5",
   "metadata": {},
   "outputs": [],
   "source": [
    "assert (output.func(state) == output.child).all()"
   ]
  },
  {
   "cell_type": "code",
   "execution_count": null,
   "id": "dc497374-3f06-41bf-943a-34fad0edc189",
   "metadata": {},
   "outputs": [],
   "source": []
  }
 ],
 "metadata": {
  "kernelspec": {
   "display_name": "Python 3.10.6 64-bit",
   "language": "python",
   "name": "python3"
  },
  "language_info": {
   "codemirror_mode": {
    "name": "ipython",
    "version": 3
   },
   "file_extension": ".py",
   "mimetype": "text/x-python",
   "name": "python",
   "nbconvert_exporter": "python",
   "pygments_lexer": "ipython3",
   "version": "3.10.6"
  },
  "vscode": {
   "interpreter": {
    "hash": "916dbcbb3f70747c44a77c7bcd40155683ae19c65e1c03b4aa3499c5328201f1"
   }
  }
 },
 "nbformat": 4,
 "nbformat_minor": 5
}

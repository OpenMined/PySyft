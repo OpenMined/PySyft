{
 "cells": [
  {
   "cell_type": "code",
   "execution_count": 1,
   "id": "405884d4-f9fa-4f90-9522-1ab494dc7193",
   "metadata": {},
   "outputs": [
    {
     "name": "stderr",
     "output_type": "stream",
     "text": [
      "/home/e/anaconda3/envs/Hagrid/lib/python3.9/site-packages/tqdm/auto.py:22: TqdmWarning: IProgress not found. Please update jupyter and ipywidgets. See https://ipywidgets.readthedocs.io/en/stable/user_install.html\n",
      "  from .autonotebook import tqdm as notebook_tqdm\n"
     ]
    }
   ],
   "source": [
    "import syft as sy\n",
    "import numpy as np"
   ]
  },
  {
   "cell_type": "code",
   "execution_count": 2,
   "id": "560482b0-1ca4-436a-9fc8-1945ace04fef",
   "metadata": {},
   "outputs": [],
   "source": [
    "from syft import PhiTensor, GammaTensor, DataSubjectArray, DataSubjectList"
   ]
  },
  {
   "cell_type": "code",
   "execution_count": 3,
   "id": "0cf93905-d789-45b3-b33d-968e55a4b6e1",
   "metadata": {},
   "outputs": [],
   "source": [
    "from syft import lazyrepeatarray"
   ]
  },
  {
   "cell_type": "code",
   "execution_count": 4,
   "id": "efcae3c3-b767-48ec-b4a6-d099ca955cf7",
   "metadata": {},
   "outputs": [
    {
     "data": {
      "text/plain": [
       "(array([[0, 0, 0, 0, 0],\n",
       "        [0, 0, 0, 0, 0],\n",
       "        [0, 0, 0, 0, 0],\n",
       "        [0, 0, 0, 0, 0],\n",
       "        [0, 0, 0, 0, 0]]),\n",
       " array(['Eagle'], dtype='<U5'))"
      ]
     },
     "execution_count": 4,
     "metadata": {},
     "output_type": "execute_result"
    }
   ],
   "source": [
    "ds = DataSubjectList.from_objs(np.random.choice([\"Eagle\"], size=(5,5)))\n",
    "ds.data_subjects_indexed, ds.one_hot_lookup"
   ]
  },
  {
   "cell_type": "code",
   "execution_count": 5,
   "id": "5b265095-29ff-4fb9-b26a-071f4dc0a400",
   "metadata": {},
   "outputs": [],
   "source": [
    "pt1 = PhiTensor(child=np.ones((5,5)) * 1000, min_vals=0, max_vals=1000, data_subjects=DataSubjectList.from_objs(np.random.choice([\"Eagle\"], size=(5,5))))"
   ]
  },
  {
   "cell_type": "code",
   "execution_count": 6,
   "id": "0953a75a-2f25-4731-9a4d-c9b81f1ffd8a",
   "metadata": {},
   "outputs": [],
   "source": [
    "pt2 = PhiTensor(child=np.ones((5,5)) * 0.05, min_vals=0, max_vals=0.05, data_subjects=np.random.choice([\"Potato\"], size=(5,5)))"
   ]
  },
  {
   "cell_type": "code",
   "execution_count": 8,
   "id": "89dcdf3f-56bd-4ba0-84ba-34e57e4688d9",
   "metadata": {},
   "outputs": [],
   "source": [
    "test = np.random.choice([0, 1], size=(100, 10, 10))"
   ]
  },
  {
   "cell_type": "code",
   "execution_count": 9,
   "id": "e948ef55-4c52-4f19-a8ec-f9132e29e187",
   "metadata": {},
   "outputs": [
    {
     "data": {
      "text/plain": [
       "(100, 10, 10)"
      ]
     },
     "execution_count": 9,
     "metadata": {},
     "output_type": "execute_result"
    }
   ],
   "source": [
    "test.shape"
   ]
  },
  {
   "cell_type": "code",
   "execution_count": 10,
   "id": "8d1d67b8-2eb3-45c4-9c88-2ac77ce902c9",
   "metadata": {},
   "outputs": [
    {
     "data": {
      "text/plain": [
       "(100, 10, 10)"
      ]
     },
     "execution_count": 10,
     "metadata": {},
     "output_type": "execute_result"
    }
   ],
   "source": [
    "np.unique(test, axis=0).shape"
   ]
  },
  {
   "cell_type": "code",
   "execution_count": 11,
   "id": "ec020f8c-26a8-495d-8e4f-9874ea52c296",
   "metadata": {},
   "outputs": [],
   "source": [
    "data_subjects = np.broadcast_to(\n",
    "        np.array(DataSubjectArray([\"eagle\", \"potato\"])), (10, 10)\n",
    "    )"
   ]
  },
  {
   "cell_type": "code",
   "execution_count": 12,
   "id": "e38e5696-9b62-4116-8d0e-6c42c0443066",
   "metadata": {},
   "outputs": [
    {
     "data": {
      "text/plain": [
       "(10, 10)"
      ]
     },
     "execution_count": 12,
     "metadata": {},
     "output_type": "execute_result"
    }
   ],
   "source": [
    "data_subjects.shape"
   ]
  },
  {
   "cell_type": "code",
   "execution_count": 13,
   "id": "666a30fc-7a00-4ccb-a363-916705188298",
   "metadata": {},
   "outputs": [
    {
     "data": {
      "text/plain": [
       "DataSubjectArray: {'potato', 'eagle'}"
      ]
     },
     "execution_count": 13,
     "metadata": {},
     "output_type": "execute_result"
    }
   ],
   "source": [
    "data_subjects.sum()"
   ]
  },
  {
   "cell_type": "code",
   "execution_count": 14,
   "id": "a9da2307-d577-45f7-9d0b-1b9d53e4a08b",
   "metadata": {},
   "outputs": [
    {
     "data": {
      "text/plain": [
       "array([DataSubjectArray: {'potato', 'eagle'},\n",
       "       DataSubjectArray: {'potato', 'eagle'},\n",
       "       DataSubjectArray: {'potato', 'eagle'},\n",
       "       DataSubjectArray: {'potato', 'eagle'},\n",
       "       DataSubjectArray: {'potato', 'eagle'},\n",
       "       DataSubjectArray: {'potato', 'eagle'},\n",
       "       DataSubjectArray: {'potato', 'eagle'},\n",
       "       DataSubjectArray: {'potato', 'eagle'},\n",
       "       DataSubjectArray: {'potato', 'eagle'},\n",
       "       DataSubjectArray: {'potato', 'eagle'}], dtype=object)"
      ]
     },
     "execution_count": 14,
     "metadata": {},
     "output_type": "execute_result"
    }
   ],
   "source": [
    "data_subjects.sum(axis=-1)"
   ]
  },
  {
   "cell_type": "code",
   "execution_count": 15,
   "id": "19d35af5-defe-442d-91fc-9aa23248f8b3",
   "metadata": {},
   "outputs": [
    {
     "data": {
      "text/plain": [
       "array([DataSubjectArray: {'potato', 'eagle'}], dtype=object)"
      ]
     },
     "execution_count": 15,
     "metadata": {},
     "output_type": "execute_result"
    }
   ],
   "source": [
    "np.unique(data_subjects)"
   ]
  },
  {
   "cell_type": "code",
   "execution_count": 16,
   "id": "991461ce-2e77-47a3-af43-261a2350b058",
   "metadata": {},
   "outputs": [
    {
     "data": {
      "text/plain": [
       "DataSubjectArray: {'potato', 'eagle'}"
      ]
     },
     "execution_count": 16,
     "metadata": {},
     "output_type": "execute_result"
    }
   ],
   "source": [
    "np.max(data_subjects)"
   ]
  },
  {
   "cell_type": "code",
   "execution_count": 17,
   "id": "bf0cd5b9-dbab-4ee1-b684-b4ab193b8273",
   "metadata": {},
   "outputs": [],
   "source": [
    "data_subjects = np.random.choice([ DataSubjectArray([\"eagle\", \"potato\"]), DataSubjectArray([\"french fry\", \"pizza\", \"aligators\"]) ], (10, 10))"
   ]
  },
  {
   "cell_type": "code",
   "execution_count": 18,
   "id": "c81ad158-06f2-4315-aa53-cac7896693ff",
   "metadata": {},
   "outputs": [
    {
     "data": {
      "text/plain": [
       "DataSubjectArray: {'potato', 'eagle'}"
      ]
     },
     "execution_count": 18,
     "metadata": {},
     "output_type": "execute_result"
    }
   ],
   "source": [
    "np.max(data_subjects)"
   ]
  },
  {
   "cell_type": "code",
   "execution_count": 19,
   "id": "ec41526d-c09b-4809-8b31-dde49480ef3f",
   "metadata": {},
   "outputs": [
    {
     "data": {
      "text/plain": [
       "(10, 10)"
      ]
     },
     "execution_count": 19,
     "metadata": {},
     "output_type": "execute_result"
    }
   ],
   "source": [
    "data_subjects.shape"
   ]
  },
  {
   "cell_type": "code",
   "execution_count": 20,
   "id": "65ee0765-0acf-4c9d-8a0d-02fb380835ea",
   "metadata": {},
   "outputs": [
    {
     "data": {
      "text/plain": [
       "array([DataSubjectArray: {'pizza', 'aligators', 'french fry'},\n",
       "       DataSubjectArray: {'potato', 'eagle'},\n",
       "       DataSubjectArray: {'pizza', 'aligators', 'french fry'},\n",
       "       DataSubjectArray: {'potato', 'eagle'},\n",
       "       DataSubjectArray: {'pizza', 'aligators', 'french fry'},\n",
       "       DataSubjectArray: {'potato', 'eagle'},\n",
       "       DataSubjectArray: {'pizza', 'aligators', 'french fry'},\n",
       "       DataSubjectArray: {'potato', 'eagle'},\n",
       "       DataSubjectArray: {'pizza', 'aligators', 'french fry'},\n",
       "       DataSubjectArray: {'potato', 'eagle'},\n",
       "       DataSubjectArray: {'pizza', 'aligators', 'french fry'},\n",
       "       DataSubjectArray: {'potato', 'eagle'},\n",
       "       DataSubjectArray: {'pizza', 'aligators', 'french fry'},\n",
       "       DataSubjectArray: {'potato', 'eagle'},\n",
       "       DataSubjectArray: {'pizza', 'aligators', 'french fry'},\n",
       "       DataSubjectArray: {'potato', 'eagle'}], dtype=object)"
      ]
     },
     "execution_count": 20,
     "metadata": {},
     "output_type": "execute_result"
    }
   ],
   "source": [
    "np.unique(np.unique(np.unique(np.unique(data_subjects))))"
   ]
  },
  {
   "cell_type": "code",
   "execution_count": 21,
   "id": "84abce14-7967-46ee-8237-f9a59707ec26",
   "metadata": {},
   "outputs": [
    {
     "data": {
      "text/plain": [
       "(51,)"
      ]
     },
     "execution_count": 21,
     "metadata": {},
     "output_type": "execute_result"
    }
   ],
   "source": [
    "np.unique(data_subjects.flatten()).shape"
   ]
  },
  {
   "cell_type": "code",
   "execution_count": 22,
   "id": "46ab9b48-a4af-4ca7-acee-3e919000f2b9",
   "metadata": {},
   "outputs": [
    {
     "data": {
      "text/plain": [
       "array([DataSubjectArray: {'potato', 'eagle'},\n",
       "       DataSubjectArray: {'potato', 'eagle'},\n",
       "       DataSubjectArray: {'potato', 'eagle'},\n",
       "       DataSubjectArray: {'pizza', 'aligators', 'french fry'},\n",
       "       DataSubjectArray: {'pizza', 'aligators', 'french fry'},\n",
       "       DataSubjectArray: {'pizza', 'aligators', 'french fry'},\n",
       "       DataSubjectArray: {'potato', 'eagle'},\n",
       "       DataSubjectArray: {'pizza', 'aligators', 'french fry'},\n",
       "       DataSubjectArray: {'pizza', 'aligators', 'french fry'},\n",
       "       DataSubjectArray: {'pizza', 'aligators', 'french fry'},\n",
       "       DataSubjectArray: {'potato', 'eagle'},\n",
       "       DataSubjectArray: {'pizza', 'aligators', 'french fry'},\n",
       "       DataSubjectArray: {'pizza', 'aligators', 'french fry'},\n",
       "       DataSubjectArray: {'potato', 'eagle'},\n",
       "       DataSubjectArray: {'pizza', 'aligators', 'french fry'},\n",
       "       DataSubjectArray: {'pizza', 'aligators', 'french fry'},\n",
       "       DataSubjectArray: {'pizza', 'aligators', 'french fry'},\n",
       "       DataSubjectArray: {'pizza', 'aligators', 'french fry'},\n",
       "       DataSubjectArray: {'pizza', 'aligators', 'french fry'},\n",
       "       DataSubjectArray: {'pizza', 'aligators', 'french fry'},\n",
       "       DataSubjectArray: {'pizza', 'aligators', 'french fry'},\n",
       "       DataSubjectArray: {'potato', 'eagle'},\n",
       "       DataSubjectArray: {'potato', 'eagle'},\n",
       "       DataSubjectArray: {'pizza', 'aligators', 'french fry'},\n",
       "       DataSubjectArray: {'pizza', 'aligators', 'french fry'},\n",
       "       DataSubjectArray: {'pizza', 'aligators', 'french fry'},\n",
       "       DataSubjectArray: {'potato', 'eagle'},\n",
       "       DataSubjectArray: {'pizza', 'aligators', 'french fry'},\n",
       "       DataSubjectArray: {'pizza', 'aligators', 'french fry'},\n",
       "       DataSubjectArray: {'pizza', 'aligators', 'french fry'},\n",
       "       DataSubjectArray: {'pizza', 'aligators', 'french fry'},\n",
       "       DataSubjectArray: {'pizza', 'aligators', 'french fry'},\n",
       "       DataSubjectArray: {'potato', 'eagle'},\n",
       "       DataSubjectArray: {'potato', 'eagle'},\n",
       "       DataSubjectArray: {'pizza', 'aligators', 'french fry'},\n",
       "       DataSubjectArray: {'pizza', 'aligators', 'french fry'},\n",
       "       DataSubjectArray: {'pizza', 'aligators', 'french fry'},\n",
       "       DataSubjectArray: {'pizza', 'aligators', 'french fry'},\n",
       "       DataSubjectArray: {'potato', 'eagle'},\n",
       "       DataSubjectArray: {'pizza', 'aligators', 'french fry'},\n",
       "       DataSubjectArray: {'pizza', 'aligators', 'french fry'},\n",
       "       DataSubjectArray: {'potato', 'eagle'},\n",
       "       DataSubjectArray: {'potato', 'eagle'},\n",
       "       DataSubjectArray: {'potato', 'eagle'},\n",
       "       DataSubjectArray: {'pizza', 'aligators', 'french fry'},\n",
       "       DataSubjectArray: {'potato', 'eagle'},\n",
       "       DataSubjectArray: {'pizza', 'aligators', 'french fry'},\n",
       "       DataSubjectArray: {'pizza', 'aligators', 'french fry'},\n",
       "       DataSubjectArray: {'potato', 'eagle'},\n",
       "       DataSubjectArray: {'potato', 'eagle'},\n",
       "       DataSubjectArray: {'potato', 'eagle'},\n",
       "       DataSubjectArray: {'potato', 'eagle'},\n",
       "       DataSubjectArray: {'potato', 'eagle'},\n",
       "       DataSubjectArray: {'potato', 'eagle'},\n",
       "       DataSubjectArray: {'potato', 'eagle'},\n",
       "       DataSubjectArray: {'pizza', 'aligators', 'french fry'},\n",
       "       DataSubjectArray: {'potato', 'eagle'},\n",
       "       DataSubjectArray: {'pizza', 'aligators', 'french fry'},\n",
       "       DataSubjectArray: {'pizza', 'aligators', 'french fry'},\n",
       "       DataSubjectArray: {'potato', 'eagle'},\n",
       "       DataSubjectArray: {'potato', 'eagle'},\n",
       "       DataSubjectArray: {'pizza', 'aligators', 'french fry'},\n",
       "       DataSubjectArray: {'potato', 'eagle'},\n",
       "       DataSubjectArray: {'pizza', 'aligators', 'french fry'},\n",
       "       DataSubjectArray: {'pizza', 'aligators', 'french fry'},\n",
       "       DataSubjectArray: {'pizza', 'aligators', 'french fry'},\n",
       "       DataSubjectArray: {'pizza', 'aligators', 'french fry'},\n",
       "       DataSubjectArray: {'pizza', 'aligators', 'french fry'},\n",
       "       DataSubjectArray: {'potato', 'eagle'},\n",
       "       DataSubjectArray: {'potato', 'eagle'},\n",
       "       DataSubjectArray: {'pizza', 'aligators', 'french fry'},\n",
       "       DataSubjectArray: {'potato', 'eagle'},\n",
       "       DataSubjectArray: {'potato', 'eagle'},\n",
       "       DataSubjectArray: {'potato', 'eagle'},\n",
       "       DataSubjectArray: {'potato', 'eagle'},\n",
       "       DataSubjectArray: {'potato', 'eagle'},\n",
       "       DataSubjectArray: {'potato', 'eagle'},\n",
       "       DataSubjectArray: {'pizza', 'aligators', 'french fry'},\n",
       "       DataSubjectArray: {'potato', 'eagle'},\n",
       "       DataSubjectArray: {'pizza', 'aligators', 'french fry'},\n",
       "       DataSubjectArray: {'potato', 'eagle'},\n",
       "       DataSubjectArray: {'pizza', 'aligators', 'french fry'},\n",
       "       DataSubjectArray: {'potato', 'eagle'},\n",
       "       DataSubjectArray: {'potato', 'eagle'},\n",
       "       DataSubjectArray: {'pizza', 'aligators', 'french fry'},\n",
       "       DataSubjectArray: {'potato', 'eagle'},\n",
       "       DataSubjectArray: {'pizza', 'aligators', 'french fry'},\n",
       "       DataSubjectArray: {'pizza', 'aligators', 'french fry'},\n",
       "       DataSubjectArray: {'pizza', 'aligators', 'french fry'},\n",
       "       DataSubjectArray: {'potato', 'eagle'},\n",
       "       DataSubjectArray: {'potato', 'eagle'},\n",
       "       DataSubjectArray: {'potato', 'eagle'},\n",
       "       DataSubjectArray: {'potato', 'eagle'},\n",
       "       DataSubjectArray: {'pizza', 'aligators', 'french fry'},\n",
       "       DataSubjectArray: {'pizza', 'aligators', 'french fry'},\n",
       "       DataSubjectArray: {'pizza', 'aligators', 'french fry'},\n",
       "       DataSubjectArray: {'potato', 'eagle'},\n",
       "       DataSubjectArray: {'potato', 'eagle'},\n",
       "       DataSubjectArray: {'pizza', 'aligators', 'french fry'},\n",
       "       DataSubjectArray: {'potato', 'eagle'}], dtype=object)"
      ]
     },
     "execution_count": 22,
     "metadata": {},
     "output_type": "execute_result"
    }
   ],
   "source": [
    "data_subjects.flatten()"
   ]
  },
  {
   "cell_type": "code",
   "execution_count": 23,
   "id": "7f146946-3a78-4fdb-81b1-ab15b5e9b79a",
   "metadata": {},
   "outputs": [
    {
     "data": {
      "text/plain": [
       "DataSubjectArray: {'potato', 'eagle'}"
      ]
     },
     "execution_count": 23,
     "metadata": {},
     "output_type": "execute_result"
    }
   ],
   "source": [
    "data_subjects[0, 0]"
   ]
  },
  {
   "cell_type": "code",
   "execution_count": 26,
   "id": "14eaa52e-de21-4a5a-8628-ff0c29ac7f88",
   "metadata": {},
   "outputs": [
    {
     "data": {
      "text/plain": [
       "array([DataSubjectArray: {'potato', 'eagle'},\n",
       "       DataSubjectArray: {'pizza', 'aligators', 'french fry'},\n",
       "       DataSubjectArray: {'potato', 'eagle'},\n",
       "       DataSubjectArray: {'pizza', 'aligators', 'french fry'},\n",
       "       DataSubjectArray: {'potato', 'eagle'},\n",
       "       DataSubjectArray: {'pizza', 'aligators', 'french fry'},\n",
       "       DataSubjectArray: {'potato', 'eagle'},\n",
       "       DataSubjectArray: {'pizza', 'aligators', 'french fry'},\n",
       "       DataSubjectArray: {'potato', 'eagle'},\n",
       "       DataSubjectArray: {'pizza', 'aligators', 'french fry'},\n",
       "       DataSubjectArray: {'potato', 'eagle'},\n",
       "       DataSubjectArray: {'pizza', 'aligators', 'french fry'},\n",
       "       DataSubjectArray: {'potato', 'eagle'},\n",
       "       DataSubjectArray: {'pizza', 'aligators', 'french fry'},\n",
       "       DataSubjectArray: {'potato', 'eagle'},\n",
       "       DataSubjectArray: {'pizza', 'aligators', 'french fry'},\n",
       "       DataSubjectArray: {'potato', 'eagle'},\n",
       "       DataSubjectArray: {'pizza', 'aligators', 'french fry'},\n",
       "       DataSubjectArray: {'potato', 'eagle'},\n",
       "       DataSubjectArray: {'pizza', 'aligators', 'french fry'},\n",
       "       DataSubjectArray: {'potato', 'eagle'},\n",
       "       DataSubjectArray: {'pizza', 'aligators', 'french fry'},\n",
       "       DataSubjectArray: {'potato', 'eagle'},\n",
       "       DataSubjectArray: {'pizza', 'aligators', 'french fry'},\n",
       "       DataSubjectArray: {'potato', 'eagle'},\n",
       "       DataSubjectArray: {'pizza', 'aligators', 'french fry'},\n",
       "       DataSubjectArray: {'potato', 'eagle'},\n",
       "       DataSubjectArray: {'pizza', 'aligators', 'french fry'},\n",
       "       DataSubjectArray: {'potato', 'eagle'},\n",
       "       DataSubjectArray: {'pizza', 'aligators', 'french fry'},\n",
       "       DataSubjectArray: {'potato', 'eagle'},\n",
       "       DataSubjectArray: {'pizza', 'aligators', 'french fry'},\n",
       "       DataSubjectArray: {'potato', 'eagle'},\n",
       "       DataSubjectArray: {'pizza', 'aligators', 'french fry'},\n",
       "       DataSubjectArray: {'potato', 'eagle'},\n",
       "       DataSubjectArray: {'pizza', 'aligators', 'french fry'},\n",
       "       DataSubjectArray: {'potato', 'eagle'},\n",
       "       DataSubjectArray: {'pizza', 'aligators', 'french fry'},\n",
       "       DataSubjectArray: {'potato', 'eagle'},\n",
       "       DataSubjectArray: {'pizza', 'aligators', 'french fry'},\n",
       "       DataSubjectArray: {'potato', 'eagle'},\n",
       "       DataSubjectArray: {'pizza', 'aligators', 'french fry'},\n",
       "       DataSubjectArray: {'potato', 'eagle'},\n",
       "       DataSubjectArray: {'pizza', 'aligators', 'french fry'},\n",
       "       DataSubjectArray: {'potato', 'eagle'},\n",
       "       DataSubjectArray: {'pizza', 'aligators', 'french fry'},\n",
       "       DataSubjectArray: {'potato', 'eagle'},\n",
       "       DataSubjectArray: {'pizza', 'aligators', 'french fry'},\n",
       "       DataSubjectArray: {'potato', 'eagle'},\n",
       "       DataSubjectArray: {'pizza', 'aligators', 'french fry'},\n",
       "       DataSubjectArray: {'potato', 'eagle'}], dtype=object)"
      ]
     },
     "execution_count": 26,
     "metadata": {},
     "output_type": "execute_result"
    }
   ],
   "source": [
    "np.unique(data_subjects)"
   ]
  },
  {
   "cell_type": "code",
   "execution_count": 28,
   "id": "e690c47e-2245-4871-a099-146ed7a29d8e",
   "metadata": {},
   "outputs": [
    {
     "data": {
      "text/plain": [
       "5"
      ]
     },
     "execution_count": 28,
     "metadata": {},
     "output_type": "execute_result"
    }
   ],
   "source": [
    "len(data_subjects.sum())"
   ]
  },
  {
   "cell_type": "code",
   "execution_count": 29,
   "id": "ee790aef-caa9-42c1-a3f6-6c78551b14a0",
   "metadata": {},
   "outputs": [
    {
     "ename": "AttributeError",
     "evalue": "'numpy.ndarray' object has no attribute 'at'",
     "output_type": "error",
     "traceback": [
      "\u001b[0;31m---------------------------------------------------------------------------\u001b[0m",
      "\u001b[0;31mAttributeError\u001b[0m                            Traceback (most recent call last)",
      "\u001b[0;32m/tmp/ipykernel_71630/2077786748.py\u001b[0m in \u001b[0;36m<module>\u001b[0;34m\u001b[0m\n\u001b[0;32m----> 1\u001b[0;31m \u001b[0mnp\u001b[0m\u001b[0;34m.\u001b[0m\u001b[0mones\u001b[0m\u001b[0;34m(\u001b[0m\u001b[0;36m10\u001b[0m\u001b[0;34m)\u001b[0m\u001b[0;34m.\u001b[0m\u001b[0mat\u001b[0m\u001b[0;34m(\u001b[0m\u001b[0;36m5\u001b[0m\u001b[0;34m)\u001b[0m\u001b[0;34m\u001b[0m\u001b[0;34m\u001b[0m\u001b[0m\n\u001b[0m",
      "\u001b[0;31mAttributeError\u001b[0m: 'numpy.ndarray' object has no attribute 'at'"
     ]
    }
   ],
   "source": [
    "np.ones(10).at(5)"
   ]
  },
  {
   "cell_type": "code",
   "execution_count": null,
   "id": "79487762-2c15-4b7b-b00e-4c750ab8a5db",
   "metadata": {},
   "outputs": [],
   "source": []
  }
 ],
 "metadata": {
  "kernelspec": {
   "display_name": "Python 3 (ipykernel)",
   "language": "python",
   "name": "python3"
  },
  "language_info": {
   "codemirror_mode": {
    "name": "ipython",
    "version": 3
   },
   "file_extension": ".py",
   "mimetype": "text/x-python",
   "name": "python",
   "nbconvert_exporter": "python",
   "pygments_lexer": "ipython3",
   "version": "3.9.7"
  }
 },
 "nbformat": 4,
 "nbformat_minor": 5
}

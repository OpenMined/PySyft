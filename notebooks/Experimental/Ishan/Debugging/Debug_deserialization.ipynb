{
 "cells": [
  {
   "cell_type": "code",
   "execution_count": 1,
   "id": "1b45ad77-ba20-4d16-b201-6d098e6b64fa",
   "metadata": {},
   "outputs": [],
   "source": [
    "import syft as sy\n",
    "import numpy as np\n",
    "from syft.core.adp.entity import Entity\n"
   ]
  },
  {
   "cell_type": "code",
   "execution_count": 2,
   "id": "2dc4bc7a-75aa-4ef0-a4b1-ae83a5eee1dd",
   "metadata": {},
   "outputs": [
    {
     "name": "stdout",
     "output_type": "stream",
     "text": [
      "Connecting to http://localhost:8081... done! \t Logging into adp... done!\n"
     ]
    }
   ],
   "source": [
    "# Instantiate Domain Object & Entity\n",
    "ishan = Entity(name=\"Ishan\")\n",
    "uk = sy.login(email=\"info@openmined.org\", password=\"changethis\", port=8081)"
   ]
  },
  {
   "cell_type": "code",
   "execution_count": 3,
   "id": "f0992b00-1fae-490e-b054-15c05e009232",
   "metadata": {},
   "outputs": [
    {
     "data": {
      "text/html": [
       "<div>\n",
       "<style scoped>\n",
       "    .dataframe tbody tr th:only-of-type {\n",
       "        vertical-align: middle;\n",
       "    }\n",
       "\n",
       "    .dataframe tbody tr th {\n",
       "        vertical-align: top;\n",
       "    }\n",
       "\n",
       "    .dataframe thead th {\n",
       "        text-align: right;\n",
       "    }\n",
       "</style>\n",
       "<table border=\"1\" class=\"dataframe\">\n",
       "  <thead>\n",
       "    <tr style=\"text-align: right;\">\n",
       "      <th></th>\n",
       "      <th>ID</th>\n",
       "      <th>Tags</th>\n",
       "      <th>Description</th>\n",
       "      <th>object_type</th>\n",
       "    </tr>\n",
       "  </thead>\n",
       "  <tbody>\n",
       "    <tr>\n",
       "      <th>0</th>\n",
       "      <td>&lt;UID: 747a85b4106a485fb09f6c6901a19cc0&gt;</td>\n",
       "      <td>[public_data]</td>\n",
       "      <td></td>\n",
       "      <td>&lt;class 'syft.core.tensor.tensor.Tensor'&gt;</td>\n",
       "    </tr>\n",
       "    <tr>\n",
       "      <th>1</th>\n",
       "      <td>&lt;UID: e86c4c64f64f4344850d6ae70a5dfefe&gt;</td>\n",
       "      <td>[data]</td>\n",
       "      <td></td>\n",
       "      <td>&lt;class 'syft.core.tensor.tensor.Tensor'&gt;</td>\n",
       "    </tr>\n",
       "    <tr>\n",
       "      <th>2</th>\n",
       "      <td>&lt;UID: 8dfb009ca0c649108e196657ab642fae&gt;</td>\n",
       "      <td>[target]</td>\n",
       "      <td></td>\n",
       "      <td>&lt;class 'syft.core.tensor.tensor.Tensor'&gt;</td>\n",
       "    </tr>\n",
       "    <tr>\n",
       "      <th>3</th>\n",
       "      <td>&lt;UID: 9e80b6b73bda40fcb58dee234529f320&gt;</td>\n",
       "      <td>[]</td>\n",
       "      <td></td>\n",
       "      <td>&lt;class 'syft.core.tensor.tensor.Tensor'&gt;</td>\n",
       "    </tr>\n",
       "    <tr>\n",
       "      <th>4</th>\n",
       "      <td>&lt;UID: 78d41cb834a64e1a975d89afc6e16ac6&gt;</td>\n",
       "      <td>[basic]</td>\n",
       "      <td></td>\n",
       "      <td>&lt;class 'syft.core.tensor.tensor.Tensor'&gt;</td>\n",
       "    </tr>\n",
       "    <tr>\n",
       "      <th>5</th>\n",
       "      <td>&lt;UID: f73759e3025d4682a8bbe7905b8d1e36&gt;</td>\n",
       "      <td>[basic]</td>\n",
       "      <td></td>\n",
       "      <td>&lt;class 'syft.core.tensor.tensor.Tensor'&gt;</td>\n",
       "    </tr>\n",
       "    <tr>\n",
       "      <th>6</th>\n",
       "      <td>&lt;UID: 16ac150b5c8f48b2a8c96cc43cae0b89&gt;</td>\n",
       "      <td>[basic]</td>\n",
       "      <td></td>\n",
       "      <td>&lt;class 'syft.core.tensor.tensor.Tensor'&gt;</td>\n",
       "    </tr>\n",
       "    <tr>\n",
       "      <th>7</th>\n",
       "      <td>&lt;UID: 451b4b996d29474ca14be496d381d66f&gt;</td>\n",
       "      <td>[basic]</td>\n",
       "      <td></td>\n",
       "      <td>&lt;class 'syft.core.tensor.tensor.Tensor'&gt;</td>\n",
       "    </tr>\n",
       "    <tr>\n",
       "      <th>8</th>\n",
       "      <td>&lt;UID: e173ac79fdcb4188869d4724819f68a0&gt;</td>\n",
       "      <td>[basic]</td>\n",
       "      <td></td>\n",
       "      <td>&lt;class 'syft.core.tensor.tensor.Tensor'&gt;</td>\n",
       "    </tr>\n",
       "    <tr>\n",
       "      <th>9</th>\n",
       "      <td>&lt;UID: 448b81fd80f9469e94e11a0c25a96617&gt;</td>\n",
       "      <td>[basic]</td>\n",
       "      <td></td>\n",
       "      <td>&lt;class 'syft.core.tensor.tensor.Tensor'&gt;</td>\n",
       "    </tr>\n",
       "    <tr>\n",
       "      <th>10</th>\n",
       "      <td>&lt;UID: 78925e87531c497cb5333b011e58f69b&gt;</td>\n",
       "      <td>[basic]</td>\n",
       "      <td></td>\n",
       "      <td>&lt;class 'syft.core.tensor.tensor.Tensor'&gt;</td>\n",
       "    </tr>\n",
       "    <tr>\n",
       "      <th>11</th>\n",
       "      <td>&lt;UID: efddbf455c94415d86d133d400053606&gt;</td>\n",
       "      <td>[private]</td>\n",
       "      <td></td>\n",
       "      <td>&lt;class 'syft.core.tensor.tensor.Tensor'&gt;</td>\n",
       "    </tr>\n",
       "    <tr>\n",
       "      <th>12</th>\n",
       "      <td>&lt;UID: 75fa8b1bd5484f3696ceed37374bd0cb&gt;</td>\n",
       "      <td>[autograd]</td>\n",
       "      <td></td>\n",
       "      <td>&lt;class 'syft.core.tensor.tensor.Tensor'&gt;</td>\n",
       "    </tr>\n",
       "    <tr>\n",
       "      <th>13</th>\n",
       "      <td>&lt;UID: 52c75a458c664dcbadb760a837b6b1b8&gt;</td>\n",
       "      <td>[priv_autograd]</td>\n",
       "      <td></td>\n",
       "      <td>&lt;class 'syft.core.tensor.tensor.Tensor'&gt;</td>\n",
       "    </tr>\n",
       "  </tbody>\n",
       "</table>\n",
       "</div>"
      ],
      "text/plain": [
       "                                         ID             Tags Description  \\\n",
       "0   <UID: 747a85b4106a485fb09f6c6901a19cc0>    [public_data]               \n",
       "1   <UID: e86c4c64f64f4344850d6ae70a5dfefe>           [data]               \n",
       "2   <UID: 8dfb009ca0c649108e196657ab642fae>         [target]               \n",
       "3   <UID: 9e80b6b73bda40fcb58dee234529f320>               []               \n",
       "4   <UID: 78d41cb834a64e1a975d89afc6e16ac6>          [basic]               \n",
       "5   <UID: f73759e3025d4682a8bbe7905b8d1e36>          [basic]               \n",
       "6   <UID: 16ac150b5c8f48b2a8c96cc43cae0b89>          [basic]               \n",
       "7   <UID: 451b4b996d29474ca14be496d381d66f>          [basic]               \n",
       "8   <UID: e173ac79fdcb4188869d4724819f68a0>          [basic]               \n",
       "9   <UID: 448b81fd80f9469e94e11a0c25a96617>          [basic]               \n",
       "10  <UID: 78925e87531c497cb5333b011e58f69b>          [basic]               \n",
       "11  <UID: efddbf455c94415d86d133d400053606>        [private]               \n",
       "12  <UID: 75fa8b1bd5484f3696ceed37374bd0cb>       [autograd]               \n",
       "13  <UID: 52c75a458c664dcbadb760a837b6b1b8>  [priv_autograd]               \n",
       "\n",
       "                                 object_type  \n",
       "0   <class 'syft.core.tensor.tensor.Tensor'>  \n",
       "1   <class 'syft.core.tensor.tensor.Tensor'>  \n",
       "2   <class 'syft.core.tensor.tensor.Tensor'>  \n",
       "3   <class 'syft.core.tensor.tensor.Tensor'>  \n",
       "4   <class 'syft.core.tensor.tensor.Tensor'>  \n",
       "5   <class 'syft.core.tensor.tensor.Tensor'>  \n",
       "6   <class 'syft.core.tensor.tensor.Tensor'>  \n",
       "7   <class 'syft.core.tensor.tensor.Tensor'>  \n",
       "8   <class 'syft.core.tensor.tensor.Tensor'>  \n",
       "9   <class 'syft.core.tensor.tensor.Tensor'>  \n",
       "10  <class 'syft.core.tensor.tensor.Tensor'>  \n",
       "11  <class 'syft.core.tensor.tensor.Tensor'>  \n",
       "12  <class 'syft.core.tensor.tensor.Tensor'>  \n",
       "13  <class 'syft.core.tensor.tensor.Tensor'>  "
      ]
     },
     "execution_count": 3,
     "metadata": {},
     "output_type": "execute_result"
    }
   ],
   "source": [
    "uk.store.pandas"
   ]
  },
  {
   "cell_type": "code",
   "execution_count": 4,
   "id": "a838f0ca-674d-41bf-ac0c-f7b60d5fd052",
   "metadata": {},
   "outputs": [],
   "source": [
    "data = np.random.rand(1, 3)"
   ]
  },
  {
   "cell_type": "code",
   "execution_count": 5,
   "id": "01d9f88f-389f-47c3-b590-1b064583b285",
   "metadata": {},
   "outputs": [],
   "source": [
    "# Identify the first thing that breaks the deserialization:\n",
    "basic_tensor = sy.Tensor(data).tag(\"basic\")"
   ]
  },
  {
   "cell_type": "code",
   "execution_count": 6,
   "id": "544be7d1-bb77-4f5c-97ea-2009a621704f",
   "metadata": {},
   "outputs": [
    {
     "name": "stdout",
     "output_type": "stream",
     "text": [
      "Tensor(child=[[0.11276293 0.01847803 0.55458189]])\n"
     ]
    }
   ],
   "source": [
    "print(basic_tensor)"
   ]
  },
  {
   "cell_type": "code",
   "execution_count": 7,
   "id": "b40ad805-6d4c-4248-82a7-33cae897d4b4",
   "metadata": {},
   "outputs": [
    {
     "name": "stdout",
     "output_type": "stream",
     "text": [
      "<UID: 78925e87531c497cb5333b011e58f69b>\n"
     ]
    }
   ],
   "source": [
    "basic_ptr = basic_tensor.send(uk)\n",
    "print(basic_ptr.id_at_location)"
   ]
  },
  {
   "cell_type": "code",
   "execution_count": 8,
   "id": "e6a6db80-a2eb-43a0-87cd-b71634d4fe38",
   "metadata": {},
   "outputs": [
    {
     "data": {
      "text/html": [
       "<div>\n",
       "<style scoped>\n",
       "    .dataframe tbody tr th:only-of-type {\n",
       "        vertical-align: middle;\n",
       "    }\n",
       "\n",
       "    .dataframe tbody tr th {\n",
       "        vertical-align: top;\n",
       "    }\n",
       "\n",
       "    .dataframe thead th {\n",
       "        text-align: right;\n",
       "    }\n",
       "</style>\n",
       "<table border=\"1\" class=\"dataframe\">\n",
       "  <thead>\n",
       "    <tr style=\"text-align: right;\">\n",
       "      <th></th>\n",
       "      <th>ID</th>\n",
       "      <th>Tags</th>\n",
       "      <th>Description</th>\n",
       "      <th>object_type</th>\n",
       "    </tr>\n",
       "  </thead>\n",
       "  <tbody>\n",
       "    <tr>\n",
       "      <th>0</th>\n",
       "      <td>&lt;UID: 747a85b4106a485fb09f6c6901a19cc0&gt;</td>\n",
       "      <td>[public_data]</td>\n",
       "      <td></td>\n",
       "      <td>&lt;class 'syft.core.tensor.tensor.Tensor'&gt;</td>\n",
       "    </tr>\n",
       "    <tr>\n",
       "      <th>1</th>\n",
       "      <td>&lt;UID: e86c4c64f64f4344850d6ae70a5dfefe&gt;</td>\n",
       "      <td>[data]</td>\n",
       "      <td></td>\n",
       "      <td>&lt;class 'syft.core.tensor.tensor.Tensor'&gt;</td>\n",
       "    </tr>\n",
       "    <tr>\n",
       "      <th>2</th>\n",
       "      <td>&lt;UID: 8dfb009ca0c649108e196657ab642fae&gt;</td>\n",
       "      <td>[target]</td>\n",
       "      <td></td>\n",
       "      <td>&lt;class 'syft.core.tensor.tensor.Tensor'&gt;</td>\n",
       "    </tr>\n",
       "    <tr>\n",
       "      <th>3</th>\n",
       "      <td>&lt;UID: 9e80b6b73bda40fcb58dee234529f320&gt;</td>\n",
       "      <td>[]</td>\n",
       "      <td></td>\n",
       "      <td>&lt;class 'syft.core.tensor.tensor.Tensor'&gt;</td>\n",
       "    </tr>\n",
       "    <tr>\n",
       "      <th>4</th>\n",
       "      <td>&lt;UID: 78d41cb834a64e1a975d89afc6e16ac6&gt;</td>\n",
       "      <td>[basic]</td>\n",
       "      <td></td>\n",
       "      <td>&lt;class 'syft.core.tensor.tensor.Tensor'&gt;</td>\n",
       "    </tr>\n",
       "    <tr>\n",
       "      <th>5</th>\n",
       "      <td>&lt;UID: f73759e3025d4682a8bbe7905b8d1e36&gt;</td>\n",
       "      <td>[basic]</td>\n",
       "      <td></td>\n",
       "      <td>&lt;class 'syft.core.tensor.tensor.Tensor'&gt;</td>\n",
       "    </tr>\n",
       "    <tr>\n",
       "      <th>6</th>\n",
       "      <td>&lt;UID: 16ac150b5c8f48b2a8c96cc43cae0b89&gt;</td>\n",
       "      <td>[basic]</td>\n",
       "      <td></td>\n",
       "      <td>&lt;class 'syft.core.tensor.tensor.Tensor'&gt;</td>\n",
       "    </tr>\n",
       "    <tr>\n",
       "      <th>7</th>\n",
       "      <td>&lt;UID: 451b4b996d29474ca14be496d381d66f&gt;</td>\n",
       "      <td>[basic]</td>\n",
       "      <td></td>\n",
       "      <td>&lt;class 'syft.core.tensor.tensor.Tensor'&gt;</td>\n",
       "    </tr>\n",
       "    <tr>\n",
       "      <th>8</th>\n",
       "      <td>&lt;UID: e173ac79fdcb4188869d4724819f68a0&gt;</td>\n",
       "      <td>[basic]</td>\n",
       "      <td></td>\n",
       "      <td>&lt;class 'syft.core.tensor.tensor.Tensor'&gt;</td>\n",
       "    </tr>\n",
       "    <tr>\n",
       "      <th>9</th>\n",
       "      <td>&lt;UID: 448b81fd80f9469e94e11a0c25a96617&gt;</td>\n",
       "      <td>[basic]</td>\n",
       "      <td></td>\n",
       "      <td>&lt;class 'syft.core.tensor.tensor.Tensor'&gt;</td>\n",
       "    </tr>\n",
       "  </tbody>\n",
       "</table>\n",
       "</div>"
      ],
      "text/plain": [
       "                                        ID           Tags Description  \\\n",
       "0  <UID: 747a85b4106a485fb09f6c6901a19cc0>  [public_data]               \n",
       "1  <UID: e86c4c64f64f4344850d6ae70a5dfefe>         [data]               \n",
       "2  <UID: 8dfb009ca0c649108e196657ab642fae>       [target]               \n",
       "3  <UID: 9e80b6b73bda40fcb58dee234529f320>             []               \n",
       "4  <UID: 78d41cb834a64e1a975d89afc6e16ac6>        [basic]               \n",
       "5  <UID: f73759e3025d4682a8bbe7905b8d1e36>        [basic]               \n",
       "6  <UID: 16ac150b5c8f48b2a8c96cc43cae0b89>        [basic]               \n",
       "7  <UID: 451b4b996d29474ca14be496d381d66f>        [basic]               \n",
       "8  <UID: e173ac79fdcb4188869d4724819f68a0>        [basic]               \n",
       "9  <UID: 448b81fd80f9469e94e11a0c25a96617>        [basic]               \n",
       "\n",
       "                                object_type  \n",
       "0  <class 'syft.core.tensor.tensor.Tensor'>  \n",
       "1  <class 'syft.core.tensor.tensor.Tensor'>  \n",
       "2  <class 'syft.core.tensor.tensor.Tensor'>  \n",
       "3  <class 'syft.core.tensor.tensor.Tensor'>  \n",
       "4  <class 'syft.core.tensor.tensor.Tensor'>  \n",
       "5  <class 'syft.core.tensor.tensor.Tensor'>  \n",
       "6  <class 'syft.core.tensor.tensor.Tensor'>  \n",
       "7  <class 'syft.core.tensor.tensor.Tensor'>  \n",
       "8  <class 'syft.core.tensor.tensor.Tensor'>  \n",
       "9  <class 'syft.core.tensor.tensor.Tensor'>  "
      ]
     },
     "execution_count": 8,
     "metadata": {},
     "output_type": "execute_result"
    }
   ],
   "source": [
    "uk.store.pandas"
   ]
  },
  {
   "cell_type": "code",
   "execution_count": 7,
   "id": "9f077a8a-10ec-4539-9006-bb8eebdea269",
   "metadata": {},
   "outputs": [
    {
     "name": "stdout",
     "output_type": "stream",
     "text": [
      "Tensor(child=SingleEntityPhiTensor(entity=Ishan, child=[[0.76474927 0.18728577 0.96324669]]))\n"
     ]
    }
   ],
   "source": [
    "private_tensor = sy.Tensor(data).private(0, 10, entity=ishan).tag(\"private\")\n",
    "print(private_tensor)"
   ]
  },
  {
   "cell_type": "code",
   "execution_count": 8,
   "id": "3f2ed900-5ccd-4ece-a32a-80021c28fdc6",
   "metadata": {},
   "outputs": [
    {
     "name": "stdout",
     "output_type": "stream",
     "text": [
      "<UID: efddbf455c94415d86d133d400053606>\n"
     ]
    }
   ],
   "source": [
    "private_ptr = private_tensor.send(uk)\n",
    "print(private_ptr.id_at_location)"
   ]
  },
  {
   "cell_type": "code",
   "execution_count": 11,
   "id": "9948487e-9e7a-451a-84dc-8a23ca9fb1f8",
   "metadata": {},
   "outputs": [
    {
     "data": {
      "text/plain": [
       "Tensor(child=SingleEntityPhiTensor(entity=Ishan, child=[[0.11276293 0.01847803 0.55458189]]))"
      ]
     },
     "execution_count": 11,
     "metadata": {},
     "output_type": "execute_result"
    }
   ],
   "source": [
    "ser = sy.serialize(private_tensor)\n",
    "sy.deserialize(ser)"
   ]
  },
  {
   "cell_type": "markdown",
   "id": "7eb56956-0206-475f-8b0f-be965748d243",
   "metadata": {},
   "source": [
    "['tensor', 'autodp', 'single_entity_phi', 'SingleEntityPhiTensor']\n",
    "\n",
    "\n",
    "celeryworker_1    | [2021-08-10 15:27:16,202: WARNING/ForkPoolWorker-1] \n",
    "{'__name__': 'syft.core.tensor', \n",
    "'__doc__': None, \n",
    "'__package__': 'syft.core.tensor', \n",
    "'__loader__': <_frozen_importlib_external.SourceFileLoader object at 0x7f27a9953150>, \n",
    "'__spec__': ModuleSpec(name='syft.core.tensor', \n",
    "loader=<_frozen_importlib_external.SourceFileLoader object at 0x7f27a9953150>, origin='/app/syft/src/syft/core/tensor/__init__.py', \n",
    "submodule_search_locations=['/app/syft/src/syft/core/tensor']), \n",
    "'__path__': ['/app/syft/src/syft/core/tensor'], \n",
    "'__file__': '/app/syft/src/syft/core/tensor/__init__.py', \n",
    "'__cached__': '/app/syft/src/syft/core/tensor/__pycache__/__init__.cpython-37.pyc', \n",
    "'__builtins__': {'__name__': 'builtins', \n",
    "'__doc__': \"Built-in functions, exceptions, and other objects.\\n\\nNoteworthy: None is the `nil' object; Ellipsis represents `...' in slices.\", \n",
    "'__package__': '', \n",
    "'__loader__': <class '_frozen_importlib.BuiltinImporter'>, \n",
    "'__spec__': ModuleSpec(name='builtins', loader=<class '_frozen_importlib.BuiltinImporter'>), \n",
    "'__build_class__': <built-in function __build_class__>, \n",
    "    '__import__': <built-in function __import__>, \n",
    "    'abs': <built-in function abs>, \n",
    "    'all': <built-in function all>, \n",
    "    'any': <built-in function any>, \n",
    "    'ascii': <built-in function ascii>, \n",
    "    'bin': <built-in function bin>, \n",
    "    'breakpoint': <built-in function breakpoint>, \n",
    "    'callable': <built-in function callable>, \n",
    "    'chr': <built-in function chr>, \n",
    "    'compile': <built-in function compile>, \n",
    "    'delattr': <built-in function delattr>, \n",
    "    'dir': <function dir at 0x7f280f1e7320>, \n",
    "    'divmod': <built-in function divmod>, \n",
    "    'eval': <built-in function eval>, \n",
    "    'exec': <built-in function exec>, \n",
    "    'format': <built-in function format>, \n",
    "    'getattr': <built-in function getattr>, \n",
    "    'globals': <built-in function globals>, \n",
    "    'hasattr': <built-in function hasattr>, \n",
    "    'hash': <built-in function hash>, \n",
    "    'hex': <built-in function hex>, \n",
    "    'id': <built-in function id>, \n",
    "    'input': <built-in function input>, \n",
    "    'isinstance': <built-in function isinstance>, \n",
    "    'issubclass': <built-in function issubclass>, \n",
    "    'iter': <built-in function iter>, \n",
    "    'len': <built-in function len>, \n",
    "    'locals': <built-in function locals>, \n",
    "    'max': <built-in function max>, \n",
    "    'min': <built-in function min>, \n",
    "    'next': <built-in function next>, \n",
    "    'oct': <built-in function oct>, \n",
    "    'ord': <built-in function ord>, \n",
    "    'pow': <built-in function pow>, \n",
    "    'print': <built-in function print>, \n",
    "    'repr': <built-in function repr>, \n",
    "    'round': <built-in function round>, \n",
    "    'setattr': <built-in function setattr>, \n",
    "    'sorted': <built-in function sorted>, \n",
    "    'sum': <built-in function sum>, \n",
    "    'vars': <built-in function vars>, \n",
    "    'None': None, \n",
    "    'Ellipsis': Ellipsis, \n",
    "    'NotImplemented': NotImplemented, \n",
    "    'False': False, 'True': True, 'bool': <class 'bool'>, \n",
    "    'memoryview': <class 'memoryview'>, 'bytearray': <class 'bytearray'>, 'bytes': <class 'bytes'>, 'classmethod': <class 'classmethod'>, 'complex': <class 'complex'>, 'dict': <class 'dict'>, 'enumerate': <class 'enumerate'>, 'filter': <class 'filter'>, 'float': <class 'float'>, 'frozenset': <class 'frozenset'>, 'property': <class 'property'>, 'int': <class 'int'>, 'list': <class 'list'>, 'map': <class 'map'>, 'object': <class 'object'>, 'range': <class 'range'>, 'reversed': <class 'reversed'>, 'set': <class 'set'>, 'slice': <class 'slice'>, 'staticmethod': <class 'staticmethod'>, 'str': <class 'str'>, 'super': <class 'super'>, 'tuple': <class 'tuple'>, 'type': <class 'type'>, 'zip': <class 'zip'>, '__debug__': True, 'BaseException': <class 'BaseException'>, 'Exception': <class 'Exception'>, 'TypeError': <class 'TypeError'>, 'StopAsyncIteration': <class 'StopAsyncIteration'>, 'StopIteration': <class 'StopIteration'>, 'GeneratorExit': <class 'GeneratorExit'>, 'SystemExit': <class 'SystemExit'>, 'KeyboardInterrupt': <class 'KeyboardInterrupt'>, 'ImportError': <class 'ImportError'>, 'ModuleNotFoundError': <class 'ModuleNotFoundError'>, 'OSError': <class 'OSError'>, 'EnvironmentError': <class 'OSError'>, 'IOError': <class 'OSError'>, 'EOFError': <class 'EOFError'>, 'RuntimeError': <class 'RuntimeError'>, 'RecursionError': <class 'RecursionError'>, 'NotImplementedError': <class 'NotImplementedError'>, 'NameError': <class 'NameError'>, 'UnboundLocalError': <class 'UnboundLocalError'>, 'AttributeError': <class 'AttributeError'>, 'SyntaxError': <class 'SyntaxError'>, 'IndentationError': <class 'IndentationError'>, 'TabError': <class 'TabError'>, 'LookupError': <class 'LookupError'>, 'IndexError': <class 'IndexError'>, 'KeyError': <class 'KeyError'>, 'ValueError': <class 'ValueError'>, 'UnicodeError': <class 'UnicodeError'>, 'UnicodeEncodeError': <class 'UnicodeEncodeError'>, 'UnicodeDecodeError': <class 'UnicodeDecodeError'>, 'UnicodeTranslateError': <class 'UnicodeTranslateError'>, 'AssertionError': <class 'AssertionError'>, 'ArithmeticError': <class 'ArithmeticError'>, 'FloatingPointError': <class 'FloatingPointError'>, 'OverflowError': <class 'OverflowError'>, 'ZeroDivisionError': <class 'ZeroDivisionError'>, 'SystemError': <class 'SystemError'>, 'ReferenceError': <class 'ReferenceError'>, 'MemoryError': <class 'MemoryError'>, 'BufferError': <class 'BufferError'>, 'Warning': <class 'Warning'>, 'UserWarning': <class 'UserWarning'>, 'DeprecationWarning': <class 'DeprecationWarning'>, 'PendingDeprecationWarning': <class 'PendingDeprecationWarning'>, 'SyntaxWarning': <class 'SyntaxWarning'>, 'RuntimeWarning': <class 'RuntimeWarning'>, 'FutureWarning': <class 'FutureWarning'>, 'ImportWarning': <class 'ImportWarning'>, 'UnicodeWarning': <class 'UnicodeWarning'>, 'BytesWarning': <class 'BytesWarning'>, 'ResourceWarning': <class 'ResourceWarning'>, 'ConnectionError': <class 'ConnectionError'>, 'BlockingIOError': <class 'BlockingIOError'>, 'BrokenPipeError': <class 'BrokenPipeError'>, 'ChildProcessError': <class 'ChildProcessError'>, 'ConnectionAbortedError': <class 'ConnectionAbortedError'>, 'ConnectionRefusedError': <class 'ConnectionRefusedError'>, 'ConnectionResetError': <class 'ConnectionResetError'>, 'FileExistsError': <class 'FileExistsError'>, 'FileNotFoundError': <class 'FileNotFoundError'>, 'IsADirectoryError': <class 'IsADirectoryError'>, 'NotADirectoryError': <class 'NotADirectoryError'>, 'InterruptedError': <class 'InterruptedError'>, 'PermissionError': <class 'PermissionError'>, 'ProcessLookupError': <class 'ProcessLookupError'>, 'TimeoutError': <class 'TimeoutError'>, 'open': <built-in function open>, 'quit': Use quit() or Ctrl-D (i.e. EOF) to exit, 'exit': Use exit() or Ctrl-D (i.e. EOF) to exit, 'copyright': Copyright (c) 2001-2021 Python Software Foundation."
   ]
  },
  {
   "cell_type": "code",
   "execution_count": 9,
   "id": "aa60f416-181a-4f8e-a715-2a7501e358a0",
   "metadata": {},
   "outputs": [
    {
     "data": {
      "text/html": [
       "<div>\n",
       "<style scoped>\n",
       "    .dataframe tbody tr th:only-of-type {\n",
       "        vertical-align: middle;\n",
       "    }\n",
       "\n",
       "    .dataframe tbody tr th {\n",
       "        vertical-align: top;\n",
       "    }\n",
       "\n",
       "    .dataframe thead th {\n",
       "        text-align: right;\n",
       "    }\n",
       "</style>\n",
       "<table border=\"1\" class=\"dataframe\">\n",
       "  <thead>\n",
       "    <tr style=\"text-align: right;\">\n",
       "      <th></th>\n",
       "      <th>ID</th>\n",
       "      <th>Tags</th>\n",
       "      <th>Description</th>\n",
       "      <th>object_type</th>\n",
       "    </tr>\n",
       "  </thead>\n",
       "  <tbody>\n",
       "    <tr>\n",
       "      <th>0</th>\n",
       "      <td>&lt;UID: 747a85b4106a485fb09f6c6901a19cc0&gt;</td>\n",
       "      <td>[public_data]</td>\n",
       "      <td></td>\n",
       "      <td>&lt;class 'syft.core.tensor.tensor.Tensor'&gt;</td>\n",
       "    </tr>\n",
       "    <tr>\n",
       "      <th>1</th>\n",
       "      <td>&lt;UID: e86c4c64f64f4344850d6ae70a5dfefe&gt;</td>\n",
       "      <td>[data]</td>\n",
       "      <td></td>\n",
       "      <td>&lt;class 'syft.core.tensor.tensor.Tensor'&gt;</td>\n",
       "    </tr>\n",
       "    <tr>\n",
       "      <th>2</th>\n",
       "      <td>&lt;UID: 8dfb009ca0c649108e196657ab642fae&gt;</td>\n",
       "      <td>[target]</td>\n",
       "      <td></td>\n",
       "      <td>&lt;class 'syft.core.tensor.tensor.Tensor'&gt;</td>\n",
       "    </tr>\n",
       "    <tr>\n",
       "      <th>3</th>\n",
       "      <td>&lt;UID: 9e80b6b73bda40fcb58dee234529f320&gt;</td>\n",
       "      <td>[]</td>\n",
       "      <td></td>\n",
       "      <td>&lt;class 'syft.core.tensor.tensor.Tensor'&gt;</td>\n",
       "    </tr>\n",
       "    <tr>\n",
       "      <th>4</th>\n",
       "      <td>&lt;UID: 78d41cb834a64e1a975d89afc6e16ac6&gt;</td>\n",
       "      <td>[basic]</td>\n",
       "      <td></td>\n",
       "      <td>&lt;class 'syft.core.tensor.tensor.Tensor'&gt;</td>\n",
       "    </tr>\n",
       "    <tr>\n",
       "      <th>5</th>\n",
       "      <td>&lt;UID: f73759e3025d4682a8bbe7905b8d1e36&gt;</td>\n",
       "      <td>[basic]</td>\n",
       "      <td></td>\n",
       "      <td>&lt;class 'syft.core.tensor.tensor.Tensor'&gt;</td>\n",
       "    </tr>\n",
       "    <tr>\n",
       "      <th>6</th>\n",
       "      <td>&lt;UID: 16ac150b5c8f48b2a8c96cc43cae0b89&gt;</td>\n",
       "      <td>[basic]</td>\n",
       "      <td></td>\n",
       "      <td>&lt;class 'syft.core.tensor.tensor.Tensor'&gt;</td>\n",
       "    </tr>\n",
       "    <tr>\n",
       "      <th>7</th>\n",
       "      <td>&lt;UID: 451b4b996d29474ca14be496d381d66f&gt;</td>\n",
       "      <td>[basic]</td>\n",
       "      <td></td>\n",
       "      <td>&lt;class 'syft.core.tensor.tensor.Tensor'&gt;</td>\n",
       "    </tr>\n",
       "    <tr>\n",
       "      <th>8</th>\n",
       "      <td>&lt;UID: e173ac79fdcb4188869d4724819f68a0&gt;</td>\n",
       "      <td>[basic]</td>\n",
       "      <td></td>\n",
       "      <td>&lt;class 'syft.core.tensor.tensor.Tensor'&gt;</td>\n",
       "    </tr>\n",
       "    <tr>\n",
       "      <th>9</th>\n",
       "      <td>&lt;UID: 448b81fd80f9469e94e11a0c25a96617&gt;</td>\n",
       "      <td>[basic]</td>\n",
       "      <td></td>\n",
       "      <td>&lt;class 'syft.core.tensor.tensor.Tensor'&gt;</td>\n",
       "    </tr>\n",
       "    <tr>\n",
       "      <th>10</th>\n",
       "      <td>&lt;UID: 78925e87531c497cb5333b011e58f69b&gt;</td>\n",
       "      <td>[basic]</td>\n",
       "      <td></td>\n",
       "      <td>&lt;class 'syft.core.tensor.tensor.Tensor'&gt;</td>\n",
       "    </tr>\n",
       "    <tr>\n",
       "      <th>11</th>\n",
       "      <td>&lt;UID: efddbf455c94415d86d133d400053606&gt;</td>\n",
       "      <td>[private]</td>\n",
       "      <td></td>\n",
       "      <td>&lt;class 'syft.core.tensor.tensor.Tensor'&gt;</td>\n",
       "    </tr>\n",
       "  </tbody>\n",
       "</table>\n",
       "</div>"
      ],
      "text/plain": [
       "                                         ID           Tags Description  \\\n",
       "0   <UID: 747a85b4106a485fb09f6c6901a19cc0>  [public_data]               \n",
       "1   <UID: e86c4c64f64f4344850d6ae70a5dfefe>         [data]               \n",
       "2   <UID: 8dfb009ca0c649108e196657ab642fae>       [target]               \n",
       "3   <UID: 9e80b6b73bda40fcb58dee234529f320>             []               \n",
       "4   <UID: 78d41cb834a64e1a975d89afc6e16ac6>        [basic]               \n",
       "5   <UID: f73759e3025d4682a8bbe7905b8d1e36>        [basic]               \n",
       "6   <UID: 16ac150b5c8f48b2a8c96cc43cae0b89>        [basic]               \n",
       "7   <UID: 451b4b996d29474ca14be496d381d66f>        [basic]               \n",
       "8   <UID: e173ac79fdcb4188869d4724819f68a0>        [basic]               \n",
       "9   <UID: 448b81fd80f9469e94e11a0c25a96617>        [basic]               \n",
       "10  <UID: 78925e87531c497cb5333b011e58f69b>        [basic]               \n",
       "11  <UID: efddbf455c94415d86d133d400053606>      [private]               \n",
       "\n",
       "                                 object_type  \n",
       "0   <class 'syft.core.tensor.tensor.Tensor'>  \n",
       "1   <class 'syft.core.tensor.tensor.Tensor'>  \n",
       "2   <class 'syft.core.tensor.tensor.Tensor'>  \n",
       "3   <class 'syft.core.tensor.tensor.Tensor'>  \n",
       "4   <class 'syft.core.tensor.tensor.Tensor'>  \n",
       "5   <class 'syft.core.tensor.tensor.Tensor'>  \n",
       "6   <class 'syft.core.tensor.tensor.Tensor'>  \n",
       "7   <class 'syft.core.tensor.tensor.Tensor'>  \n",
       "8   <class 'syft.core.tensor.tensor.Tensor'>  \n",
       "9   <class 'syft.core.tensor.tensor.Tensor'>  \n",
       "10  <class 'syft.core.tensor.tensor.Tensor'>  \n",
       "11  <class 'syft.core.tensor.tensor.Tensor'>  "
      ]
     },
     "execution_count": 9,
     "metadata": {},
     "output_type": "execute_result"
    }
   ],
   "source": [
    "uk.store.pandas"
   ]
  },
  {
   "cell_type": "code",
   "execution_count": 10,
   "id": "50f01cc1-8a2b-45e8-9483-9ddb64e22130",
   "metadata": {},
   "outputs": [
    {
     "name": "stdout",
     "output_type": "stream",
     "text": [
      "Tensor(child=AutogradTensor(child=[[0.76474927 0.18728577 0.96324669]]))\n"
     ]
    }
   ],
   "source": [
    "autograd_tensor = sy.Tensor(data).autograd(requires_grad=True).tag(\"autograd\")\n",
    "print(autograd_tensor)"
   ]
  },
  {
   "cell_type": "code",
   "execution_count": 11,
   "id": "ca16be91-e266-4eae-b607-67906012c3de",
   "metadata": {},
   "outputs": [
    {
     "name": "stdout",
     "output_type": "stream",
     "text": [
      "<UID: 75fa8b1bd5484f3696ceed37374bd0cb>\n"
     ]
    }
   ],
   "source": [
    "autograd_ptr = autograd_tensor.send(uk)\n",
    "print(autograd_ptr.id_at_location)"
   ]
  },
  {
   "cell_type": "code",
   "execution_count": 12,
   "id": "38a73cec-b769-4dbc-be9d-cda06ff8c11f",
   "metadata": {},
   "outputs": [
    {
     "data": {
      "text/html": [
       "<div>\n",
       "<style scoped>\n",
       "    .dataframe tbody tr th:only-of-type {\n",
       "        vertical-align: middle;\n",
       "    }\n",
       "\n",
       "    .dataframe tbody tr th {\n",
       "        vertical-align: top;\n",
       "    }\n",
       "\n",
       "    .dataframe thead th {\n",
       "        text-align: right;\n",
       "    }\n",
       "</style>\n",
       "<table border=\"1\" class=\"dataframe\">\n",
       "  <thead>\n",
       "    <tr style=\"text-align: right;\">\n",
       "      <th></th>\n",
       "      <th>ID</th>\n",
       "      <th>Tags</th>\n",
       "      <th>Description</th>\n",
       "      <th>object_type</th>\n",
       "    </tr>\n",
       "  </thead>\n",
       "  <tbody>\n",
       "    <tr>\n",
       "      <th>0</th>\n",
       "      <td>&lt;UID: 747a85b4106a485fb09f6c6901a19cc0&gt;</td>\n",
       "      <td>[public_data]</td>\n",
       "      <td></td>\n",
       "      <td>&lt;class 'syft.core.tensor.tensor.Tensor'&gt;</td>\n",
       "    </tr>\n",
       "    <tr>\n",
       "      <th>1</th>\n",
       "      <td>&lt;UID: e86c4c64f64f4344850d6ae70a5dfefe&gt;</td>\n",
       "      <td>[data]</td>\n",
       "      <td></td>\n",
       "      <td>&lt;class 'syft.core.tensor.tensor.Tensor'&gt;</td>\n",
       "    </tr>\n",
       "    <tr>\n",
       "      <th>2</th>\n",
       "      <td>&lt;UID: 8dfb009ca0c649108e196657ab642fae&gt;</td>\n",
       "      <td>[target]</td>\n",
       "      <td></td>\n",
       "      <td>&lt;class 'syft.core.tensor.tensor.Tensor'&gt;</td>\n",
       "    </tr>\n",
       "    <tr>\n",
       "      <th>3</th>\n",
       "      <td>&lt;UID: 9e80b6b73bda40fcb58dee234529f320&gt;</td>\n",
       "      <td>[]</td>\n",
       "      <td></td>\n",
       "      <td>&lt;class 'syft.core.tensor.tensor.Tensor'&gt;</td>\n",
       "    </tr>\n",
       "    <tr>\n",
       "      <th>4</th>\n",
       "      <td>&lt;UID: 78d41cb834a64e1a975d89afc6e16ac6&gt;</td>\n",
       "      <td>[basic]</td>\n",
       "      <td></td>\n",
       "      <td>&lt;class 'syft.core.tensor.tensor.Tensor'&gt;</td>\n",
       "    </tr>\n",
       "    <tr>\n",
       "      <th>5</th>\n",
       "      <td>&lt;UID: f73759e3025d4682a8bbe7905b8d1e36&gt;</td>\n",
       "      <td>[basic]</td>\n",
       "      <td></td>\n",
       "      <td>&lt;class 'syft.core.tensor.tensor.Tensor'&gt;</td>\n",
       "    </tr>\n",
       "    <tr>\n",
       "      <th>6</th>\n",
       "      <td>&lt;UID: 16ac150b5c8f48b2a8c96cc43cae0b89&gt;</td>\n",
       "      <td>[basic]</td>\n",
       "      <td></td>\n",
       "      <td>&lt;class 'syft.core.tensor.tensor.Tensor'&gt;</td>\n",
       "    </tr>\n",
       "    <tr>\n",
       "      <th>7</th>\n",
       "      <td>&lt;UID: 451b4b996d29474ca14be496d381d66f&gt;</td>\n",
       "      <td>[basic]</td>\n",
       "      <td></td>\n",
       "      <td>&lt;class 'syft.core.tensor.tensor.Tensor'&gt;</td>\n",
       "    </tr>\n",
       "    <tr>\n",
       "      <th>8</th>\n",
       "      <td>&lt;UID: e173ac79fdcb4188869d4724819f68a0&gt;</td>\n",
       "      <td>[basic]</td>\n",
       "      <td></td>\n",
       "      <td>&lt;class 'syft.core.tensor.tensor.Tensor'&gt;</td>\n",
       "    </tr>\n",
       "    <tr>\n",
       "      <th>9</th>\n",
       "      <td>&lt;UID: 448b81fd80f9469e94e11a0c25a96617&gt;</td>\n",
       "      <td>[basic]</td>\n",
       "      <td></td>\n",
       "      <td>&lt;class 'syft.core.tensor.tensor.Tensor'&gt;</td>\n",
       "    </tr>\n",
       "    <tr>\n",
       "      <th>10</th>\n",
       "      <td>&lt;UID: 78925e87531c497cb5333b011e58f69b&gt;</td>\n",
       "      <td>[basic]</td>\n",
       "      <td></td>\n",
       "      <td>&lt;class 'syft.core.tensor.tensor.Tensor'&gt;</td>\n",
       "    </tr>\n",
       "    <tr>\n",
       "      <th>11</th>\n",
       "      <td>&lt;UID: efddbf455c94415d86d133d400053606&gt;</td>\n",
       "      <td>[private]</td>\n",
       "      <td></td>\n",
       "      <td>&lt;class 'syft.core.tensor.tensor.Tensor'&gt;</td>\n",
       "    </tr>\n",
       "    <tr>\n",
       "      <th>12</th>\n",
       "      <td>&lt;UID: 75fa8b1bd5484f3696ceed37374bd0cb&gt;</td>\n",
       "      <td>[autograd]</td>\n",
       "      <td></td>\n",
       "      <td>&lt;class 'syft.core.tensor.tensor.Tensor'&gt;</td>\n",
       "    </tr>\n",
       "  </tbody>\n",
       "</table>\n",
       "</div>"
      ],
      "text/plain": [
       "                                         ID           Tags Description  \\\n",
       "0   <UID: 747a85b4106a485fb09f6c6901a19cc0>  [public_data]               \n",
       "1   <UID: e86c4c64f64f4344850d6ae70a5dfefe>         [data]               \n",
       "2   <UID: 8dfb009ca0c649108e196657ab642fae>       [target]               \n",
       "3   <UID: 9e80b6b73bda40fcb58dee234529f320>             []               \n",
       "4   <UID: 78d41cb834a64e1a975d89afc6e16ac6>        [basic]               \n",
       "5   <UID: f73759e3025d4682a8bbe7905b8d1e36>        [basic]               \n",
       "6   <UID: 16ac150b5c8f48b2a8c96cc43cae0b89>        [basic]               \n",
       "7   <UID: 451b4b996d29474ca14be496d381d66f>        [basic]               \n",
       "8   <UID: e173ac79fdcb4188869d4724819f68a0>        [basic]               \n",
       "9   <UID: 448b81fd80f9469e94e11a0c25a96617>        [basic]               \n",
       "10  <UID: 78925e87531c497cb5333b011e58f69b>        [basic]               \n",
       "11  <UID: efddbf455c94415d86d133d400053606>      [private]               \n",
       "12  <UID: 75fa8b1bd5484f3696ceed37374bd0cb>     [autograd]               \n",
       "\n",
       "                                 object_type  \n",
       "0   <class 'syft.core.tensor.tensor.Tensor'>  \n",
       "1   <class 'syft.core.tensor.tensor.Tensor'>  \n",
       "2   <class 'syft.core.tensor.tensor.Tensor'>  \n",
       "3   <class 'syft.core.tensor.tensor.Tensor'>  \n",
       "4   <class 'syft.core.tensor.tensor.Tensor'>  \n",
       "5   <class 'syft.core.tensor.tensor.Tensor'>  \n",
       "6   <class 'syft.core.tensor.tensor.Tensor'>  \n",
       "7   <class 'syft.core.tensor.tensor.Tensor'>  \n",
       "8   <class 'syft.core.tensor.tensor.Tensor'>  \n",
       "9   <class 'syft.core.tensor.tensor.Tensor'>  \n",
       "10  <class 'syft.core.tensor.tensor.Tensor'>  \n",
       "11  <class 'syft.core.tensor.tensor.Tensor'>  \n",
       "12  <class 'syft.core.tensor.tensor.Tensor'>  "
      ]
     },
     "execution_count": 12,
     "metadata": {},
     "output_type": "execute_result"
    }
   ],
   "source": [
    "uk.store.pandas"
   ]
  },
  {
   "cell_type": "code",
   "execution_count": 16,
   "id": "4cd19b28-43e8-4d20-828c-7d5e2a480690",
   "metadata": {},
   "outputs": [
    {
     "data": {
      "text/plain": [
       "Tensor(child=InitialGammaTensor(child=[[[2]\n",
       "  [3]\n",
       "  [5]]]))"
      ]
     },
     "execution_count": 16,
     "metadata": {},
     "output_type": "execute_result"
    }
   ],
   "source": [
    "private_tensor.gamma"
   ]
  },
  {
   "cell_type": "code",
   "execution_count": 17,
   "id": "1bbc2bf1-05e3-42d5-9bfa-11d8529fd232",
   "metadata": {},
   "outputs": [
    {
     "data": {
      "text/plain": [
       "<UID: 1b9ce12002a246969192d33931319b89>"
      ]
     },
     "execution_count": 17,
     "metadata": {},
     "output_type": "execute_result"
    }
   ],
   "source": [
    "basic_tensor.id"
   ]
  },
  {
   "cell_type": "code",
   "execution_count": 18,
   "id": "29cfb938-103c-47fa-b115-290acb47015b",
   "metadata": {},
   "outputs": [
    {
     "data": {
      "text/plain": [
       "<UID: 78925e87531c497cb5333b011e58f69b>"
      ]
     },
     "execution_count": 18,
     "metadata": {},
     "output_type": "execute_result"
    }
   ],
   "source": [
    "basic_ptr.id_at_location"
   ]
  },
  {
   "cell_type": "code",
   "execution_count": 19,
   "id": "2982684d-d1aa-4fc2-8223-1edcbc0fdb91",
   "metadata": {},
   "outputs": [
    {
     "data": {
      "text/plain": [
       "<UID: 5267732ee5f04a579eaf831937f81996>"
      ]
     },
     "execution_count": 19,
     "metadata": {},
     "output_type": "execute_result"
    }
   ],
   "source": [
    "autograd_ptr.id_at_location"
   ]
  },
  {
   "cell_type": "code",
   "execution_count": 20,
   "id": "27e7b32c-85f6-473e-a6f7-e6a79a53386c",
   "metadata": {},
   "outputs": [
    {
     "data": {
      "text/html": [
       "<div>\n",
       "<style scoped>\n",
       "    .dataframe tbody tr th:only-of-type {\n",
       "        vertical-align: middle;\n",
       "    }\n",
       "\n",
       "    .dataframe tbody tr th {\n",
       "        vertical-align: top;\n",
       "    }\n",
       "\n",
       "    .dataframe thead th {\n",
       "        text-align: right;\n",
       "    }\n",
       "</style>\n",
       "<table border=\"1\" class=\"dataframe\">\n",
       "  <thead>\n",
       "    <tr style=\"text-align: right;\">\n",
       "      <th></th>\n",
       "      <th>ID</th>\n",
       "      <th>Tags</th>\n",
       "      <th>Description</th>\n",
       "      <th>object_type</th>\n",
       "    </tr>\n",
       "  </thead>\n",
       "  <tbody>\n",
       "    <tr>\n",
       "      <th>0</th>\n",
       "      <td>&lt;UID: 747a85b4106a485fb09f6c6901a19cc0&gt;</td>\n",
       "      <td>[public_data]</td>\n",
       "      <td></td>\n",
       "      <td>&lt;class 'syft.core.tensor.tensor.Tensor'&gt;</td>\n",
       "    </tr>\n",
       "    <tr>\n",
       "      <th>1</th>\n",
       "      <td>&lt;UID: e86c4c64f64f4344850d6ae70a5dfefe&gt;</td>\n",
       "      <td>[data]</td>\n",
       "      <td></td>\n",
       "      <td>&lt;class 'syft.core.tensor.tensor.Tensor'&gt;</td>\n",
       "    </tr>\n",
       "    <tr>\n",
       "      <th>2</th>\n",
       "      <td>&lt;UID: 8dfb009ca0c649108e196657ab642fae&gt;</td>\n",
       "      <td>[target]</td>\n",
       "      <td></td>\n",
       "      <td>&lt;class 'syft.core.tensor.tensor.Tensor'&gt;</td>\n",
       "    </tr>\n",
       "    <tr>\n",
       "      <th>3</th>\n",
       "      <td>&lt;UID: 9e80b6b73bda40fcb58dee234529f320&gt;</td>\n",
       "      <td>[]</td>\n",
       "      <td></td>\n",
       "      <td>&lt;class 'syft.core.tensor.tensor.Tensor'&gt;</td>\n",
       "    </tr>\n",
       "    <tr>\n",
       "      <th>4</th>\n",
       "      <td>&lt;UID: 78d41cb834a64e1a975d89afc6e16ac6&gt;</td>\n",
       "      <td>[basic]</td>\n",
       "      <td></td>\n",
       "      <td>&lt;class 'syft.core.tensor.tensor.Tensor'&gt;</td>\n",
       "    </tr>\n",
       "    <tr>\n",
       "      <th>5</th>\n",
       "      <td>&lt;UID: f73759e3025d4682a8bbe7905b8d1e36&gt;</td>\n",
       "      <td>[basic]</td>\n",
       "      <td></td>\n",
       "      <td>&lt;class 'syft.core.tensor.tensor.Tensor'&gt;</td>\n",
       "    </tr>\n",
       "    <tr>\n",
       "      <th>6</th>\n",
       "      <td>&lt;UID: 16ac150b5c8f48b2a8c96cc43cae0b89&gt;</td>\n",
       "      <td>[basic]</td>\n",
       "      <td></td>\n",
       "      <td>&lt;class 'syft.core.tensor.tensor.Tensor'&gt;</td>\n",
       "    </tr>\n",
       "    <tr>\n",
       "      <th>7</th>\n",
       "      <td>&lt;UID: 451b4b996d29474ca14be496d381d66f&gt;</td>\n",
       "      <td>[basic]</td>\n",
       "      <td></td>\n",
       "      <td>&lt;class 'syft.core.tensor.tensor.Tensor'&gt;</td>\n",
       "    </tr>\n",
       "    <tr>\n",
       "      <th>8</th>\n",
       "      <td>&lt;UID: e173ac79fdcb4188869d4724819f68a0&gt;</td>\n",
       "      <td>[basic]</td>\n",
       "      <td></td>\n",
       "      <td>&lt;class 'syft.core.tensor.tensor.Tensor'&gt;</td>\n",
       "    </tr>\n",
       "    <tr>\n",
       "      <th>9</th>\n",
       "      <td>&lt;UID: 448b81fd80f9469e94e11a0c25a96617&gt;</td>\n",
       "      <td>[basic]</td>\n",
       "      <td></td>\n",
       "      <td>&lt;class 'syft.core.tensor.tensor.Tensor'&gt;</td>\n",
       "    </tr>\n",
       "    <tr>\n",
       "      <th>10</th>\n",
       "      <td>&lt;UID: 78925e87531c497cb5333b011e58f69b&gt;</td>\n",
       "      <td>[basic]</td>\n",
       "      <td></td>\n",
       "      <td>&lt;class 'syft.core.tensor.tensor.Tensor'&gt;</td>\n",
       "    </tr>\n",
       "  </tbody>\n",
       "</table>\n",
       "</div>"
      ],
      "text/plain": [
       "                                         ID           Tags Description  \\\n",
       "0   <UID: 747a85b4106a485fb09f6c6901a19cc0>  [public_data]               \n",
       "1   <UID: e86c4c64f64f4344850d6ae70a5dfefe>         [data]               \n",
       "2   <UID: 8dfb009ca0c649108e196657ab642fae>       [target]               \n",
       "3   <UID: 9e80b6b73bda40fcb58dee234529f320>             []               \n",
       "4   <UID: 78d41cb834a64e1a975d89afc6e16ac6>        [basic]               \n",
       "5   <UID: f73759e3025d4682a8bbe7905b8d1e36>        [basic]               \n",
       "6   <UID: 16ac150b5c8f48b2a8c96cc43cae0b89>        [basic]               \n",
       "7   <UID: 451b4b996d29474ca14be496d381d66f>        [basic]               \n",
       "8   <UID: e173ac79fdcb4188869d4724819f68a0>        [basic]               \n",
       "9   <UID: 448b81fd80f9469e94e11a0c25a96617>        [basic]               \n",
       "10  <UID: 78925e87531c497cb5333b011e58f69b>        [basic]               \n",
       "\n",
       "                                 object_type  \n",
       "0   <class 'syft.core.tensor.tensor.Tensor'>  \n",
       "1   <class 'syft.core.tensor.tensor.Tensor'>  \n",
       "2   <class 'syft.core.tensor.tensor.Tensor'>  \n",
       "3   <class 'syft.core.tensor.tensor.Tensor'>  \n",
       "4   <class 'syft.core.tensor.tensor.Tensor'>  \n",
       "5   <class 'syft.core.tensor.tensor.Tensor'>  \n",
       "6   <class 'syft.core.tensor.tensor.Tensor'>  \n",
       "7   <class 'syft.core.tensor.tensor.Tensor'>  \n",
       "8   <class 'syft.core.tensor.tensor.Tensor'>  \n",
       "9   <class 'syft.core.tensor.tensor.Tensor'>  \n",
       "10  <class 'syft.core.tensor.tensor.Tensor'>  "
      ]
     },
     "execution_count": 20,
     "metadata": {},
     "output_type": "execute_result"
    }
   ],
   "source": [
    "uk.store.pandas"
   ]
  },
  {
   "cell_type": "code",
   "execution_count": 21,
   "id": "58c62a1a-6ef8-4f5b-8624-d8d8c8e173f2",
   "metadata": {},
   "outputs": [
    {
     "data": {
      "text/plain": [
       "[<syft.proxy.syft.core.tensor.tensor.TensorPointer at 0x13c7f08e0>,\n",
       " <syft.proxy.syft.core.tensor.tensor.TensorPointer at 0x13c7f0640>,\n",
       " <syft.proxy.syft.core.tensor.tensor.TensorPointer at 0x13c7f0a00>,\n",
       " <syft.proxy.syft.core.tensor.tensor.TensorPointer at 0x13c801400>,\n",
       " <syft.proxy.syft.core.tensor.tensor.TensorPointer at 0x13c8010d0>,\n",
       " <syft.proxy.syft.core.tensor.tensor.TensorPointer at 0x13c801160>,\n",
       " <syft.proxy.syft.core.tensor.tensor.TensorPointer at 0x13c801640>,\n",
       " <syft.proxy.syft.core.tensor.tensor.TensorPointer at 0x13c801850>,\n",
       " <syft.proxy.syft.core.tensor.tensor.TensorPointer at 0x13c801a60>,\n",
       " <syft.proxy.syft.core.tensor.tensor.TensorPointer at 0x13c801c70>,\n",
       " <syft.proxy.syft.core.tensor.tensor.TensorPointer at 0x13c801e20>]"
      ]
     },
     "execution_count": 21,
     "metadata": {},
     "output_type": "execute_result"
    }
   ],
   "source": [
    "uk.store.store"
   ]
  },
  {
   "cell_type": "code",
   "execution_count": 22,
   "id": "ed971601-0076-4df5-a5cc-55d5f960a390",
   "metadata": {},
   "outputs": [
    {
     "data": {
      "text/plain": [
       "<UID: 5267732ee5f04a579eaf831937f81996>"
      ]
     },
     "execution_count": 22,
     "metadata": {},
     "output_type": "execute_result"
    }
   ],
   "source": [
    "autograd_ptr.id_at_location"
   ]
  },
  {
   "cell_type": "code",
   "execution_count": 5,
   "id": "dc2b216f-9f82-4e99-a8a6-9684e8a73e86",
   "metadata": {},
   "outputs": [],
   "source": [
    "private_autograd_tensor = sy.Tensor(data).private(0, 1, entity=ishan).autograd(requires_grad=True).tag(\"priv_autograd\")"
   ]
  },
  {
   "cell_type": "code",
   "execution_count": 24,
   "id": "980d9228-bea9-4204-8531-3bde76d4f4da",
   "metadata": {},
   "outputs": [
    {
     "data": {
      "text/plain": [
       "Tensor(child=AutogradTensor(child=SingleEntityPhiTensor(entity=Ishan, child=[[0.11276293 0.01847803 0.55458189]])))"
      ]
     },
     "execution_count": 24,
     "metadata": {},
     "output_type": "execute_result"
    }
   ],
   "source": [
    "private_autograd_tensor"
   ]
  },
  {
   "cell_type": "code",
   "execution_count": 25,
   "id": "fec15282-f847-4210-91b7-87029aa818ba",
   "metadata": {},
   "outputs": [
    {
     "ename": "AttributeError",
     "evalue": "'Tensor' object has no attribute 'id'",
     "output_type": "error",
     "traceback": [
      "\u001b[0;31m---------------------------------------------------------------------------\u001b[0m",
      "\u001b[0;31mAttributeError\u001b[0m                            Traceback (most recent call last)",
      "\u001b[0;32m/var/folders/cs/tql716257t32sb3kr5r9rbkc0000gn/T/ipykernel_14585/156423978.py\u001b[0m in \u001b[0;36m<module>\u001b[0;34m\u001b[0m\n\u001b[0;32m----> 1\u001b[0;31m \u001b[0mprivate_autograd_tensor\u001b[0m\u001b[0;34m.\u001b[0m\u001b[0mid\u001b[0m\u001b[0;34m\u001b[0m\u001b[0;34m\u001b[0m\u001b[0m\n\u001b[0m",
      "\u001b[0;31mAttributeError\u001b[0m: 'Tensor' object has no attribute 'id'"
     ]
    }
   ],
   "source": [
    "private_autograd_tensor.id"
   ]
  },
  {
   "cell_type": "code",
   "execution_count": 6,
   "id": "debcd53c-b057-4894-bd61-2187359c120c",
   "metadata": {},
   "outputs": [],
   "source": [
    "private_autograd_ptr = private_autograd_tensor.send(uk)"
   ]
  },
  {
   "cell_type": "code",
   "execution_count": 7,
   "id": "c56ed3f4-cf0d-40bc-947b-94993f3a0b26",
   "metadata": {},
   "outputs": [
    {
     "name": "stdout",
     "output_type": "stream",
     "text": [
      "<UID: 41a4dd5bdfef453093b34a9458caf4a8>\n"
     ]
    }
   ],
   "source": [
    "print(private_autograd_ptr.id_at_location)"
   ]
  },
  {
   "cell_type": "code",
   "execution_count": 8,
   "id": "e7c16c6a-7d03-429b-b23e-b99c2f2a1828",
   "metadata": {},
   "outputs": [
    {
     "data": {
      "text/html": [
       "<div>\n",
       "<style scoped>\n",
       "    .dataframe tbody tr th:only-of-type {\n",
       "        vertical-align: middle;\n",
       "    }\n",
       "\n",
       "    .dataframe tbody tr th {\n",
       "        vertical-align: top;\n",
       "    }\n",
       "\n",
       "    .dataframe thead th {\n",
       "        text-align: right;\n",
       "    }\n",
       "</style>\n",
       "<table border=\"1\" class=\"dataframe\">\n",
       "  <thead>\n",
       "    <tr style=\"text-align: right;\">\n",
       "      <th></th>\n",
       "      <th>ID</th>\n",
       "      <th>Tags</th>\n",
       "      <th>Description</th>\n",
       "      <th>object_type</th>\n",
       "    </tr>\n",
       "  </thead>\n",
       "  <tbody>\n",
       "    <tr>\n",
       "      <th>0</th>\n",
       "      <td>&lt;UID: 747a85b4106a485fb09f6c6901a19cc0&gt;</td>\n",
       "      <td>[public_data]</td>\n",
       "      <td></td>\n",
       "      <td>&lt;class 'syft.core.tensor.tensor.Tensor'&gt;</td>\n",
       "    </tr>\n",
       "    <tr>\n",
       "      <th>1</th>\n",
       "      <td>&lt;UID: e86c4c64f64f4344850d6ae70a5dfefe&gt;</td>\n",
       "      <td>[data]</td>\n",
       "      <td></td>\n",
       "      <td>&lt;class 'syft.core.tensor.tensor.Tensor'&gt;</td>\n",
       "    </tr>\n",
       "    <tr>\n",
       "      <th>2</th>\n",
       "      <td>&lt;UID: 8dfb009ca0c649108e196657ab642fae&gt;</td>\n",
       "      <td>[target]</td>\n",
       "      <td></td>\n",
       "      <td>&lt;class 'syft.core.tensor.tensor.Tensor'&gt;</td>\n",
       "    </tr>\n",
       "    <tr>\n",
       "      <th>3</th>\n",
       "      <td>&lt;UID: 9e80b6b73bda40fcb58dee234529f320&gt;</td>\n",
       "      <td>[]</td>\n",
       "      <td></td>\n",
       "      <td>&lt;class 'syft.core.tensor.tensor.Tensor'&gt;</td>\n",
       "    </tr>\n",
       "    <tr>\n",
       "      <th>4</th>\n",
       "      <td>&lt;UID: 78d41cb834a64e1a975d89afc6e16ac6&gt;</td>\n",
       "      <td>[basic]</td>\n",
       "      <td></td>\n",
       "      <td>&lt;class 'syft.core.tensor.tensor.Tensor'&gt;</td>\n",
       "    </tr>\n",
       "    <tr>\n",
       "      <th>5</th>\n",
       "      <td>&lt;UID: f73759e3025d4682a8bbe7905b8d1e36&gt;</td>\n",
       "      <td>[basic]</td>\n",
       "      <td></td>\n",
       "      <td>&lt;class 'syft.core.tensor.tensor.Tensor'&gt;</td>\n",
       "    </tr>\n",
       "    <tr>\n",
       "      <th>6</th>\n",
       "      <td>&lt;UID: 16ac150b5c8f48b2a8c96cc43cae0b89&gt;</td>\n",
       "      <td>[basic]</td>\n",
       "      <td></td>\n",
       "      <td>&lt;class 'syft.core.tensor.tensor.Tensor'&gt;</td>\n",
       "    </tr>\n",
       "    <tr>\n",
       "      <th>7</th>\n",
       "      <td>&lt;UID: 451b4b996d29474ca14be496d381d66f&gt;</td>\n",
       "      <td>[basic]</td>\n",
       "      <td></td>\n",
       "      <td>&lt;class 'syft.core.tensor.tensor.Tensor'&gt;</td>\n",
       "    </tr>\n",
       "    <tr>\n",
       "      <th>8</th>\n",
       "      <td>&lt;UID: e173ac79fdcb4188869d4724819f68a0&gt;</td>\n",
       "      <td>[basic]</td>\n",
       "      <td></td>\n",
       "      <td>&lt;class 'syft.core.tensor.tensor.Tensor'&gt;</td>\n",
       "    </tr>\n",
       "    <tr>\n",
       "      <th>9</th>\n",
       "      <td>&lt;UID: 448b81fd80f9469e94e11a0c25a96617&gt;</td>\n",
       "      <td>[basic]</td>\n",
       "      <td></td>\n",
       "      <td>&lt;class 'syft.core.tensor.tensor.Tensor'&gt;</td>\n",
       "    </tr>\n",
       "    <tr>\n",
       "      <th>10</th>\n",
       "      <td>&lt;UID: 78925e87531c497cb5333b011e58f69b&gt;</td>\n",
       "      <td>[basic]</td>\n",
       "      <td></td>\n",
       "      <td>&lt;class 'syft.core.tensor.tensor.Tensor'&gt;</td>\n",
       "    </tr>\n",
       "    <tr>\n",
       "      <th>11</th>\n",
       "      <td>&lt;UID: efddbf455c94415d86d133d400053606&gt;</td>\n",
       "      <td>[private]</td>\n",
       "      <td></td>\n",
       "      <td>&lt;class 'syft.core.tensor.tensor.Tensor'&gt;</td>\n",
       "    </tr>\n",
       "    <tr>\n",
       "      <th>12</th>\n",
       "      <td>&lt;UID: 75fa8b1bd5484f3696ceed37374bd0cb&gt;</td>\n",
       "      <td>[autograd]</td>\n",
       "      <td></td>\n",
       "      <td>&lt;class 'syft.core.tensor.tensor.Tensor'&gt;</td>\n",
       "    </tr>\n",
       "    <tr>\n",
       "      <th>13</th>\n",
       "      <td>&lt;UID: 52c75a458c664dcbadb760a837b6b1b8&gt;</td>\n",
       "      <td>[priv_autograd]</td>\n",
       "      <td></td>\n",
       "      <td>&lt;class 'syft.core.tensor.tensor.Tensor'&gt;</td>\n",
       "    </tr>\n",
       "    <tr>\n",
       "      <th>14</th>\n",
       "      <td>&lt;UID: 41a4dd5bdfef453093b34a9458caf4a8&gt;</td>\n",
       "      <td>[priv_autograd]</td>\n",
       "      <td></td>\n",
       "      <td>&lt;class 'syft.core.tensor.tensor.Tensor'&gt;</td>\n",
       "    </tr>\n",
       "  </tbody>\n",
       "</table>\n",
       "</div>"
      ],
      "text/plain": [
       "                                         ID             Tags Description  \\\n",
       "0   <UID: 747a85b4106a485fb09f6c6901a19cc0>    [public_data]               \n",
       "1   <UID: e86c4c64f64f4344850d6ae70a5dfefe>           [data]               \n",
       "2   <UID: 8dfb009ca0c649108e196657ab642fae>         [target]               \n",
       "3   <UID: 9e80b6b73bda40fcb58dee234529f320>               []               \n",
       "4   <UID: 78d41cb834a64e1a975d89afc6e16ac6>          [basic]               \n",
       "5   <UID: f73759e3025d4682a8bbe7905b8d1e36>          [basic]               \n",
       "6   <UID: 16ac150b5c8f48b2a8c96cc43cae0b89>          [basic]               \n",
       "7   <UID: 451b4b996d29474ca14be496d381d66f>          [basic]               \n",
       "8   <UID: e173ac79fdcb4188869d4724819f68a0>          [basic]               \n",
       "9   <UID: 448b81fd80f9469e94e11a0c25a96617>          [basic]               \n",
       "10  <UID: 78925e87531c497cb5333b011e58f69b>          [basic]               \n",
       "11  <UID: efddbf455c94415d86d133d400053606>        [private]               \n",
       "12  <UID: 75fa8b1bd5484f3696ceed37374bd0cb>       [autograd]               \n",
       "13  <UID: 52c75a458c664dcbadb760a837b6b1b8>  [priv_autograd]               \n",
       "14  <UID: 41a4dd5bdfef453093b34a9458caf4a8>  [priv_autograd]               \n",
       "\n",
       "                                 object_type  \n",
       "0   <class 'syft.core.tensor.tensor.Tensor'>  \n",
       "1   <class 'syft.core.tensor.tensor.Tensor'>  \n",
       "2   <class 'syft.core.tensor.tensor.Tensor'>  \n",
       "3   <class 'syft.core.tensor.tensor.Tensor'>  \n",
       "4   <class 'syft.core.tensor.tensor.Tensor'>  \n",
       "5   <class 'syft.core.tensor.tensor.Tensor'>  \n",
       "6   <class 'syft.core.tensor.tensor.Tensor'>  \n",
       "7   <class 'syft.core.tensor.tensor.Tensor'>  \n",
       "8   <class 'syft.core.tensor.tensor.Tensor'>  \n",
       "9   <class 'syft.core.tensor.tensor.Tensor'>  \n",
       "10  <class 'syft.core.tensor.tensor.Tensor'>  \n",
       "11  <class 'syft.core.tensor.tensor.Tensor'>  \n",
       "12  <class 'syft.core.tensor.tensor.Tensor'>  \n",
       "13  <class 'syft.core.tensor.tensor.Tensor'>  \n",
       "14  <class 'syft.core.tensor.tensor.Tensor'>  "
      ]
     },
     "execution_count": 8,
     "metadata": {},
     "output_type": "execute_result"
    }
   ],
   "source": [
    "uk.store.pandas"
   ]
  },
  {
   "cell_type": "code",
   "execution_count": 9,
   "id": "f544cfae-2ccc-4c4c-bab1-50659177c4b7",
   "metadata": {},
   "outputs": [],
   "source": [
    "y1 = private_autograd_ptr + private_autograd_ptr\n",
    "y2 = private_autograd_tensor + private_autograd_tensor"
   ]
  },
  {
   "cell_type": "code",
   "execution_count": null,
   "id": "3e961d3b-6175-4f74-9884-5a4acfe7f766",
   "metadata": {},
   "outputs": [],
   "source": []
  },
  {
   "cell_type": "code",
   "execution_count": 10,
   "id": "3e9b02c9-e004-4ce7-910a-b85c0d5a5afc",
   "metadata": {
    "tags": []
   },
   "outputs": [
    {
     "ename": "AttributeError",
     "evalue": "'DomainClient' object has no attribute 'acc'",
     "output_type": "error",
     "traceback": [
      "\u001b[0;31m---------------------------------------------------------------------------\u001b[0m",
      "\u001b[0;31mAttributeError\u001b[0m                            Traceback (most recent call last)",
      "\u001b[0;32m/var/folders/cs/tql716257t32sb3kr5r9rbkc0000gn/T/ipykernel_15646/4003109614.py\u001b[0m in \u001b[0;36m<module>\u001b[0;34m\u001b[0m\n\u001b[0;32m----> 1\u001b[0;31m \u001b[0mpublic_y2\u001b[0m \u001b[0;34m=\u001b[0m \u001b[0my2\u001b[0m\u001b[0;34m.\u001b[0m\u001b[0mpublish\u001b[0m\u001b[0;34m(\u001b[0m\u001b[0macc\u001b[0m\u001b[0;34m=\u001b[0m\u001b[0muk\u001b[0m\u001b[0;34m.\u001b[0m\u001b[0macc\u001b[0m\u001b[0;34m,\u001b[0m \u001b[0msigma\u001b[0m\u001b[0;34m=\u001b[0m\u001b[0;36m0.1\u001b[0m\u001b[0;34m)\u001b[0m\u001b[0;34m\u001b[0m\u001b[0;34m\u001b[0m\u001b[0m\n\u001b[0m",
      "\u001b[0;31mAttributeError\u001b[0m: 'DomainClient' object has no attribute 'acc'"
     ]
    }
   ],
   "source": [
    "public_y2 = y2.publish(acc=uk.acc, sigma=0.1)"
   ]
  },
  {
   "cell_type": "code",
   "execution_count": 14,
   "id": "82cb0c18-9a0e-4ab5-9de7-2bed7a44774b",
   "metadata": {},
   "outputs": [],
   "source": [
    "private_tensor_ptr = uk.store['private']\n",
    "public_tensor = private_autograd_ptr.get()"
   ]
  },
  {
   "cell_type": "code",
   "execution_count": 15,
   "id": "1223b6ee-a3cd-410b-889c-5f199f8f3903",
   "metadata": {},
   "outputs": [
    {
     "data": {
      "text/plain": [
       "Tensor(child=AutogradTensor(child=SingleEntityPhiTensor(entity=Ishan, child=[[0.25829004 0.89045486 0.91051939]])))"
      ]
     },
     "execution_count": 15,
     "metadata": {},
     "output_type": "execute_result"
    }
   ],
   "source": [
    "public_tensor"
   ]
  },
  {
   "cell_type": "code",
   "execution_count": 16,
   "id": "988da846-ef4f-44eb-a56c-d9586b9a4d31",
   "metadata": {},
   "outputs": [],
   "source": [
    "y = public_tensor + public_tensor"
   ]
  },
  {
   "cell_type": "code",
   "execution_count": 17,
   "id": "51cc3a7a-dea9-46f5-9a73-e864be30c9b6",
   "metadata": {},
   "outputs": [
    {
     "data": {
      "text/plain": [
       "Tensor(child=AutogradTensor(child=SingleEntityPhiTensor(entity=Ishan, child=[[0.51658009 1.78090972 1.82103877]])))"
      ]
     },
     "execution_count": 17,
     "metadata": {},
     "output_type": "execute_result"
    }
   ],
   "source": [
    "y"
   ]
  },
  {
   "cell_type": "code",
   "execution_count": 18,
   "id": "0b1dc0d1-c73e-42c2-a340-e35bd1ea4a48",
   "metadata": {},
   "outputs": [
    {
     "ename": "TypeError",
     "evalue": "publish() missing 1 required positional argument: 'acc'",
     "output_type": "error",
     "traceback": [
      "\u001b[0;31m---------------------------------------------------------------------------\u001b[0m",
      "\u001b[0;31mTypeError\u001b[0m                                 Traceback (most recent call last)",
      "\u001b[0;32m/var/folders/cs/tql716257t32sb3kr5r9rbkc0000gn/T/ipykernel_15646/3721021461.py\u001b[0m in \u001b[0;36m<module>\u001b[0;34m\u001b[0m\n\u001b[0;32m----> 1\u001b[0;31m \u001b[0mpublic_y\u001b[0m \u001b[0;34m=\u001b[0m \u001b[0my\u001b[0m\u001b[0;34m.\u001b[0m\u001b[0mpublish\u001b[0m\u001b[0;34m(\u001b[0m\u001b[0msigma\u001b[0m\u001b[0;34m=\u001b[0m\u001b[0;36m0.1\u001b[0m\u001b[0;34m)\u001b[0m\u001b[0;34m\u001b[0m\u001b[0;34m\u001b[0m\u001b[0m\n\u001b[0m",
      "\u001b[0;31mTypeError\u001b[0m: publish() missing 1 required positional argument: 'acc'"
     ]
    }
   ],
   "source": [
    "public_y = y.publish(acc=uk., sigma=0.1)"
   ]
  },
  {
   "cell_type": "code",
   "execution_count": 19,
   "id": "063141a7-5ff7-42f9-b580-19b2f0c41562",
   "metadata": {},
   "outputs": [
    {
     "data": {
      "text/plain": [
       "syft.core.node.domain.client.DomainClient"
      ]
     },
     "execution_count": 19,
     "metadata": {},
     "output_type": "execute_result"
    }
   ],
   "source": [
    "type(uk)"
   ]
  },
  {
   "cell_type": "code",
   "execution_count": 31,
   "id": "fe17ec33-cf96-4769-9860-5eb3c5c7e951",
   "metadata": {},
   "outputs": [],
   "source": [
    "new_acc = sy.core.adp.adversarial_accountant.AdversarialAccountant()"
   ]
  },
  {
   "cell_type": "code",
   "execution_count": 33,
   "id": "d1352e12-8abd-4e73-9496-6ad44417d020",
   "metadata": {},
   "outputs": [],
   "source": [
    "new_acc.print_ledger()"
   ]
  },
  {
   "cell_type": "code",
   "execution_count": 36,
   "id": "ccfbace5-dab1-4253-a14f-9bb321f292d4",
   "metadata": {},
   "outputs": [
    {
     "ename": "AttributeError",
     "evalue": "'SingleEntityPhiTensor' object has no attribute 'publish'",
     "output_type": "error",
     "traceback": [
      "\u001b[0;31m---------------------------------------------------------------------------\u001b[0m",
      "\u001b[0;31mAttributeError\u001b[0m                            Traceback (most recent call last)",
      "\u001b[0;32m/var/folders/cs/tql716257t32sb3kr5r9rbkc0000gn/T/ipykernel_15646/2813025347.py\u001b[0m in \u001b[0;36m<module>\u001b[0;34m\u001b[0m\n\u001b[0;32m----> 1\u001b[0;31m \u001b[0mpublic_y\u001b[0m \u001b[0;34m=\u001b[0m \u001b[0my\u001b[0m\u001b[0;34m.\u001b[0m\u001b[0mpublish\u001b[0m\u001b[0;34m(\u001b[0m\u001b[0macc\u001b[0m\u001b[0;34m=\u001b[0m\u001b[0mnew_acc\u001b[0m\u001b[0;34m,\u001b[0m \u001b[0msigma\u001b[0m\u001b[0;34m=\u001b[0m\u001b[0;36m0.1\u001b[0m\u001b[0;34m)\u001b[0m\u001b[0;34m\u001b[0m\u001b[0;34m\u001b[0m\u001b[0m\n\u001b[0m",
      "\u001b[0;32m~/PycharmProjects/PySyft/packages/syft/src/syft/core/tensor/ancestors.py\u001b[0m in \u001b[0;36mpublish\u001b[0;34m(self, acc, sigma)\u001b[0m\n\u001b[1;32m    128\u001b[0m \u001b[0;34m\u001b[0m\u001b[0m\n\u001b[1;32m    129\u001b[0m     \u001b[0;32mdef\u001b[0m \u001b[0mpublish\u001b[0m\u001b[0;34m(\u001b[0m\u001b[0mself\u001b[0m\u001b[0;34m,\u001b[0m \u001b[0macc\u001b[0m\u001b[0;34m:\u001b[0m \u001b[0mAny\u001b[0m\u001b[0;34m,\u001b[0m \u001b[0msigma\u001b[0m\u001b[0;34m:\u001b[0m \u001b[0mfloat\u001b[0m\u001b[0;34m)\u001b[0m \u001b[0;34m->\u001b[0m \u001b[0mPhiTensorAncestor\u001b[0m\u001b[0;34m:\u001b[0m\u001b[0;34m\u001b[0m\u001b[0;34m\u001b[0m\u001b[0m\n\u001b[0;32m--> 130\u001b[0;31m         \u001b[0;32mreturn\u001b[0m \u001b[0mself\u001b[0m\u001b[0;34m.\u001b[0m\u001b[0m__class__\u001b[0m\u001b[0;34m(\u001b[0m\u001b[0mself\u001b[0m\u001b[0;34m.\u001b[0m\u001b[0mchild\u001b[0m\u001b[0;34m.\u001b[0m\u001b[0mpublish\u001b[0m\u001b[0;34m(\u001b[0m\u001b[0macc\u001b[0m\u001b[0;34m=\u001b[0m\u001b[0macc\u001b[0m\u001b[0;34m,\u001b[0m \u001b[0msigma\u001b[0m\u001b[0;34m=\u001b[0m\u001b[0msigma\u001b[0m\u001b[0;34m)\u001b[0m\u001b[0;34m)\u001b[0m\u001b[0;34m\u001b[0m\u001b[0;34m\u001b[0m\u001b[0m\n\u001b[0m\u001b[1;32m    131\u001b[0m \u001b[0;34m\u001b[0m\u001b[0m\n\u001b[1;32m    132\u001b[0m     def private(\n",
      "\u001b[0;32m~/PycharmProjects/PySyft/packages/syft/src/syft/core/tensor/ancestors.py\u001b[0m in \u001b[0;36mpublish\u001b[0;34m(self, acc, sigma)\u001b[0m\n\u001b[1;32m    128\u001b[0m \u001b[0;34m\u001b[0m\u001b[0m\n\u001b[1;32m    129\u001b[0m     \u001b[0;32mdef\u001b[0m \u001b[0mpublish\u001b[0m\u001b[0;34m(\u001b[0m\u001b[0mself\u001b[0m\u001b[0;34m,\u001b[0m \u001b[0macc\u001b[0m\u001b[0;34m:\u001b[0m \u001b[0mAny\u001b[0m\u001b[0;34m,\u001b[0m \u001b[0msigma\u001b[0m\u001b[0;34m:\u001b[0m \u001b[0mfloat\u001b[0m\u001b[0;34m)\u001b[0m \u001b[0;34m->\u001b[0m \u001b[0mPhiTensorAncestor\u001b[0m\u001b[0;34m:\u001b[0m\u001b[0;34m\u001b[0m\u001b[0;34m\u001b[0m\u001b[0m\n\u001b[0;32m--> 130\u001b[0;31m         \u001b[0;32mreturn\u001b[0m \u001b[0mself\u001b[0m\u001b[0;34m.\u001b[0m\u001b[0m__class__\u001b[0m\u001b[0;34m(\u001b[0m\u001b[0mself\u001b[0m\u001b[0;34m.\u001b[0m\u001b[0mchild\u001b[0m\u001b[0;34m.\u001b[0m\u001b[0mpublish\u001b[0m\u001b[0;34m(\u001b[0m\u001b[0macc\u001b[0m\u001b[0;34m=\u001b[0m\u001b[0macc\u001b[0m\u001b[0;34m,\u001b[0m \u001b[0msigma\u001b[0m\u001b[0;34m=\u001b[0m\u001b[0msigma\u001b[0m\u001b[0;34m)\u001b[0m\u001b[0;34m)\u001b[0m\u001b[0;34m\u001b[0m\u001b[0;34m\u001b[0m\u001b[0m\n\u001b[0m\u001b[1;32m    131\u001b[0m \u001b[0;34m\u001b[0m\u001b[0m\n\u001b[1;32m    132\u001b[0m     def private(\n",
      "\u001b[0;31mAttributeError\u001b[0m: 'SingleEntityPhiTensor' object has no attribute 'publish'"
     ]
    }
   ],
   "source": [
    "public_y = y.publish(acc=new_acc, sigma=0.1)"
   ]
  },
  {
   "cell_type": "markdown",
   "id": "02c0e3d6-2ecd-49ef-a55f-ea7d0e696115",
   "metadata": {},
   "source": [
    "## Error spotted on backend_1 when trying to send Tensor to object store:\n",
    "Apparently the syft modules (autograd, autodp) aren't importing?"
   ]
  },
  {
   "cell_type": "markdown",
   "id": "6846e3b7-77f3-4743-8a8d-38d553fc2374",
   "metadata": {
    "tags": []
   },
   "source": [
    "2021-08-09T19:19:10.642462+0000][DEBUG][logger]][47] Serializing <class 'syft.core.common.group._create_VERIFYALL.<locals>.VerifyAll'>\n",
    "[2021-08-09T19:19:10.644311+0000][DEBUG][logger]][47] Serializing <class 'syft.lib.python._SyNone'>\n",
    "[2021-08-09 19:19:10,858: INFO/ForkPoolWorker-1] Task app.worker.msg_without_reply[e8dc5efb-4860-481e-ad5d-df08a64c6efb] succeeded in 0.36394500299866195s: None\n",
    "[2021-08-09 19:19:24,061: INFO/MainProcess] Received task: app.worker.msg_without_reply[40b42308-9c0a-43f8-8950-1441c6e96260]\n",
    "[2021-08-09 19:19:24,166: ERROR/ForkPoolWorker-1] Task app.worker.msg_without_reply[40b42308-9c0a-43f8-8950-1441c6e96260] raised unexpected: KeyError('autodp')\n",
    "Traceback (most recent call last):\n",
    "  File \"/usr/local/lib/python3.7/site-packages/celery/app/trace.py\", line 412, in trace_task\n",
    "    R = retval = fun(*args, **kwargs)\n",
    "  File \"/usr/local/lib/python3.7/site-packages/celery/app/trace.py\", line 704, in __protected_call__\n",
    "    return self.run(*args, **kwargs)\n",
    "  File \"/app/app/worker.py\", line 20, in msg_without_reply\n",
    "    obj_msg = deserialize(blob=msg_bytes, from_bytes=True)\n",
    "  File \"/app/syft/src/syft/core/common/serde/deserialize.py\", line 132, in _deserialize\n",
    "    res = _proto2object(proto=blob)\n",
    "  File \"/app/syft/src/syft/core/common/message.py\", line 183, in _proto2object\n",
    "    _deserialize(blob=proto.message, from_bytes=True), SyftMessage\n",
    "  File \"/app/syft/src/syft/core/common/serde/deserialize.py\", line 132, in _deserialize\n",
    "    res = _proto2object(proto=blob)\n",
    "  File \"/app/syft/src/syft/core/node/common/action/save_object_action.py\", line 59, in _proto2object\n",
    "    obj = _deserialize(blob=proto.obj)\n",
    "  File \"/app/syft/src/syft/core/common/serde/deserialize.py\", line 132, in _deserialize\n",
    "    res = _proto2object(proto=blob)\n",
    "  File \"/app/syft/src/syft/core/store/storeable_object.py\", line 185, in _proto2object\n",
    "    data = data_type._proto2object(proto=data)  # type: ignore\n",
    "  File \"/app/syft/src/syft/core/common/serde/recursive.py\", line 53, in _proto2object\n",
    "    attrs = dict(deserialize(proto.data, from_bytes=True))\n",
    "  File \"/app/syft/src/syft/core/common/serde/deserialize.py\", line 132, in _deserialize\n",
    "    res = _proto2object(proto=blob)\n",
    "  File \"/app/syft/src/syft/lib/python/dict.py\", line 239, in _proto2object\n",
    "    for element in proto.values\n",
    "  File \"/app/syft/src/syft/lib/python/dict.py\", line 239, in <listcomp>\n",
    "    for element in proto.values\n",
    "  File \"/app/syft/src/syft/core/common/serde/deserialize.py\", line 62, in _deserialize\n",
    "    obj_type = index_syft_by_module_name(fully_qualified_name=data_message.obj_type)\n",
    "  File \"/app/syft/src/syft/util.py\", line 123, in index_syft_by_module_name\n",
    "    return index_modules(a_dict=globals()[\"syft\"], keys=attr_list[1:])\n",
    "  File \"/app/syft/src/syft/util.py\", line 87, in index_modules\n",
    "    return index_modules(a_dict=a_dict.__dict__[keys[0]], keys=keys[1:])\n",
    "  File \"/app/syft/src/syft/util.py\", line 87, in index_modules\n",
    "    return index_modules(a_dict=a_dict.__dict__[keys[0]], keys=keys[1:])\n",
    "  File \"/app/syft/src/syft/util.py\", line 87, in index_modules\n",
    "    return index_modules(a_dict=a_dict.__dict__[keys[0]], keys=keys[1:])\n",
    "KeyError: 'autodp'\n",
    "[2021-08-09 19:20:11,214: INFO/MainProcess] Received task: app.worker.msg_without_reply[5e66d116-fc32-482b-b535-c2d6178a9e1c]\n",
    "[2021-08-09 19:20:11,357: ERROR/ForkPoolWorker-1] Task app.worker.msg_without_reply[5e66d116-fc32-482b-b535-c2d6178a9e1c] raised unexpected: KeyError('autograd')\n",
    "Traceback (most recent call last):\n",
    "  File \"/usr/local/lib/python3.7/site-packages/celery/app/trace.py\", line 412, in trace_task\n",
    "    R = retval = fun(*args, **kwargs)\n",
    "  File \"/usr/local/lib/python3.7/site-packages/celery/app/trace.py\", line 704, in __protected_call__\n",
    "    return self.run(*args, **kwargs)\n",
    "  File \"/app/app/worker.py\", line 20, in msg_without_reply\n",
    "    obj_msg = deserialize(blob=msg_bytes, from_bytes=True)\n",
    "  File \"/app/syft/src/syft/core/common/serde/deserialize.py\", line 132, in _deserialize\n",
    "    res = _proto2object(proto=blob)\n",
    "  File \"/app/syft/src/syft/core/common/message.py\", line 183, in _proto2object\n",
    "    _deserialize(blob=proto.message, from_bytes=True), SyftMessage\n",
    "  File \"/app/syft/src/syft/core/common/serde/deserialize.py\", line 132, in _deserialize\n",
    "    res = _proto2object(proto=blob)\n",
    "  File \"/app/syft/src/syft/core/node/common/action/save_object_action.py\", line 59, in _proto2object\n",
    "    obj = _deserialize(blob=proto.obj)\n",
    "  File \"/app/syft/src/syft/core/common/serde/deserialize.py\", line 132, in _deserialize\n",
    "    res = _proto2object(proto=blob)\n",
    "  File \"/app/syft/src/syft/core/store/storeable_object.py\", line 185, in _proto2object\n",
    "    data = data_type._proto2object(proto=data)  # type: ignore\n",
    "  File \"/app/syft/src/syft/core/common/serde/recursive.py\", line 53, in _proto2object\n",
    "    attrs = dict(deserialize(proto.data, from_bytes=True))\n",
    "  File \"/app/syft/src/syft/core/common/serde/deserialize.py\", line 132, in _deserialize\n",
    "    res = _proto2object(proto=blob)\n",
    "  File \"/app/syft/src/syft/lib/python/dict.py\", line 239, in _proto2object\n",
    "    for element in proto.values\n",
    "  File \"/app/syft/src/syft/lib/python/dict.py\", line 239, in <listcomp>\n",
    "    for element in proto.values\n",
    "  File \"/app/syft/src/syft/core/common/serde/deserialize.py\", line 62, in _deserialize\n",
    "    obj_type = index_syft_by_module_name(fully_qualified_name=data_message.obj_type)\n",
    "  File \"/app/syft/src/syft/util.py\", line 123, in index_syft_by_module_name\n",
    "    return index_modules(a_dict=globals()[\"syft\"], keys=attr_list[1:])\n",
    "  File \"/app/syft/src/syft/util.py\", line 87, in index_modules\n",
    "    return index_modules(a_dict=a_dict.__dict__[keys[0]], keys=keys[1:])\n",
    "  File \"/app/syft/src/syft/util.py\", line 87, in index_modules\n",
    "    return index_modules(a_dict=a_dict.__dict__[keys[0]], keys=keys[1:])\n",
    "  File \"/app/syft/src/syft/util.py\", line 87, in index_modules\n",
    "    return index_modules(a_dict=a_dict.__dict__[keys[0]], keys=keys[1:])\n",
    "KeyError: 'autograd'"
   ]
  },
  {
   "cell_type": "markdown",
   "id": "c27b9eef-56ae-4703-aa1b-5a50ee1dbe9f",
   "metadata": {},
   "source": [
    "## The code in question"
   ]
  },
  {
   "cell_type": "code",
   "execution_count": null,
   "id": "65b36651-9d27-4a89-92c0-36d3dadc5f65",
   "metadata": {},
   "outputs": [],
   "source": [
    "def index_modules(a_dict: object, keys: List[str]) -> object:\n",
    "    \"\"\"Recursively find a syft module from its path\n",
    "\n",
    "    This is the recursive inner function of index_syft_by_module_name.\n",
    "    See that method for a full description.\n",
    "\n",
    "    Args:\n",
    "        a_dict: a module we're traversing\n",
    "        keys: the list of string attributes we're using to traverse the module\n",
    "\n",
    "    Returns:\n",
    "        a reference to the final object\n",
    "\n",
    "    \"\"\"\n",
    "\n",
    "    if len(keys) == 0:\n",
    "        return a_dict\n",
    "    return index_modules(a_dict=a_dict.__dict__[keys[0]], keys=keys[1:])\n",
    "\n",
    "def index_syft_by_module_name(fully_qualified_name: str) -> object:\n",
    "    \"\"\"Look up a Syft class/module/function from full path and name\n",
    "\n",
    "    Sometimes we want to use the fully qualified name (such as one\n",
    "    generated from the 'get_fully_qualified_name' method below) to\n",
    "    fetch an actual reference. This is most commonly used in deserialization\n",
    "    so that we can have generic protobuf objects which just have a string\n",
    "    representation of the specific object it is meant to deserialize to.\n",
    "\n",
    "    Args:\n",
    "        fully_qualified_name: the name in str of a module, class, or function\n",
    "\n",
    "    Returns:\n",
    "        a reference to the actual object at that string path\n",
    "\n",
    "    \"\"\"\n",
    "    attr_list = fully_qualified_name.split(\".\")\n",
    "\n",
    "    # we deal with VerifyAll differently, because we don't it be imported and used by users\n",
    "    if attr_list[-1] == \"VerifyAll\":\n",
    "        return type(syft.core.common.group.VERIFYALL)\n",
    "\n",
    "    if attr_list[0] != \"syft\":\n",
    "        raise ReferenceError(f\"Reference don't match: {attr_list[0]}\")\n",
    "\n",
    "    if (\n",
    "        attr_list[1] != \"core\"\n",
    "        and attr_list[1] != \"lib\"\n",
    "        and attr_list[1] != \"grid\"\n",
    "        and attr_list[1] != \"wrappers\"\n",
    "    ):\n",
    "        raise ReferenceError(f\"Reference don't match: {attr_list[1]}\")\n",
    "\n",
    "    return index_modules(a_dict=globals()[\"syft\"], keys=attr_list[1:])"
   ]
  },
  {
   "cell_type": "code",
   "execution_count": null,
   "id": "269f4f46-38f2-42ba-835f-68cf0256d7e0",
   "metadata": {},
   "outputs": [],
   "source": [
    "import syft as sy"
   ]
  },
  {
   "cell_type": "code",
   "execution_count": null,
   "id": "19995c80-4bf4-4d13-831c-d64bc8513e7d",
   "metadata": {},
   "outputs": [],
   "source": [
    "import numpy as np\n",
    "\n",
    "ishan = sy.core.adp.entity.Entity(name='Ishan')\n",
    "data = np.random.rand(1, 3)\n",
    "private_tensor = sy.core.tensor.Tensor(data).private(0, 1, entity=ishan)"
   ]
  },
  {
   "cell_type": "code",
   "execution_count": null,
   "id": "0544a2fd-855d-47ac-aceb-79abb29f3f5b",
   "metadata": {},
   "outputs": [],
   "source": [
    "uk = sy.login(email=\"info@openmined.org\", password=\"changethis\", port=8081)"
   ]
  },
  {
   "cell_type": "code",
   "execution_count": null,
   "id": "92ffe94d-f144-412c-af89-1946946ef4b2",
   "metadata": {},
   "outputs": [],
   "source": [
    "uk.store.pandas"
   ]
  },
  {
   "cell_type": "code",
   "execution_count": null,
   "id": "d909e48b-9e35-490f-aef9-9260d6027e83",
   "metadata": {},
   "outputs": [],
   "source": [
    "private_ptr = private_tensor.send(uk)\n",
    "print(private_ptr.id_at_location)"
   ]
  },
  {
   "cell_type": "code",
   "execution_count": null,
   "id": "a1acb210-ddbc-411e-bba4-e18c453d22d8",
   "metadata": {},
   "outputs": [],
   "source": [
    "uk.store.pandas"
   ]
  },
  {
   "cell_type": "code",
   "execution_count": null,
   "id": "c5a453bc-e717-4796-9177-407233c9393e",
   "metadata": {},
   "outputs": [],
   "source": [
    "autograd_tensor = sy.Tensor(data).autograd(requires_grad=True)"
   ]
  },
  {
   "cell_type": "code",
   "execution_count": null,
   "id": "e0e855e7-8043-4e10-8c73-74c50f599541",
   "metadata": {},
   "outputs": [],
   "source": [
    "autograd_tensor"
   ]
  },
  {
   "cell_type": "code",
   "execution_count": null,
   "id": "f4084b9e-e5f6-4040-81af-4146d8c4c098",
   "metadata": {},
   "outputs": [],
   "source": [
    "autograd_ptr = autograd_tensor.send(uk)"
   ]
  },
  {
   "cell_type": "code",
   "execution_count": null,
   "id": "893ac3d8-b24c-480e-9f3f-175349a09324",
   "metadata": {},
   "outputs": [],
   "source": []
  }
 ],
 "metadata": {
  "kernelspec": {
   "display_name": "Python 3 (ipykernel)",
   "language": "python",
   "name": "python3"
  },
  "language_info": {
   "codemirror_mode": {
    "name": "ipython",
    "version": 3
   },
   "file_extension": ".py",
   "mimetype": "text/x-python",
   "name": "python",
   "nbconvert_exporter": "python",
   "pygments_lexer": "ipython3",
   "version": "3.9.1"
  }
 },
 "nbformat": 4,
 "nbformat_minor": 5
}

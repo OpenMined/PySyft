{
 "cells": [
  {
   "cell_type": "code",
   "execution_count": null,
   "id": "48df3db2-82cc-4c60-8bdf-7ebdbe9d7337",
   "metadata": {},
   "outputs": [],
   "source": []
  },
  {
   "cell_type": "code",
   "execution_count": 1,
   "id": "f60601e1-0d7c-433d-a0c9-f0b0503cb5f7",
   "metadata": {},
   "outputs": [],
   "source": [
    "import syft as sy\n",
    "import numpy as np\n",
    "from syft.core.adp.entity import Entity"
   ]
  },
  {
   "cell_type": "code",
   "execution_count": 2,
   "id": "a90c8a65-78c4-4527-8151-b14fc92251d3",
   "metadata": {},
   "outputs": [
    {
     "name": "stdout",
     "output_type": "stream",
     "text": [
      "Connecting to http://localhost:8081... done! \t Logging into adp... done!\n"
     ]
    }
   ],
   "source": [
    "# Instantiate Domain Object & Entity\n",
    "ishan = Entity(name=\"Ishan\")\n",
    "uk = sy.login(email=\"info@openmined.org\", password=\"changethis\", port=8081)"
   ]
  },
  {
   "cell_type": "code",
   "execution_count": 3,
   "id": "2cc6cb62-4d48-4d70-993c-fb2eac0d180e",
   "metadata": {},
   "outputs": [
    {
     "data": {
      "text/html": [
       "<div>\n",
       "<style scoped>\n",
       "    .dataframe tbody tr th:only-of-type {\n",
       "        vertical-align: middle;\n",
       "    }\n",
       "\n",
       "    .dataframe tbody tr th {\n",
       "        vertical-align: top;\n",
       "    }\n",
       "\n",
       "    .dataframe thead th {\n",
       "        text-align: right;\n",
       "    }\n",
       "</style>\n",
       "<table border=\"1\" class=\"dataframe\">\n",
       "  <thead>\n",
       "    <tr style=\"text-align: right;\">\n",
       "      <th></th>\n",
       "      <th>ID</th>\n",
       "      <th>Tags</th>\n",
       "      <th>Description</th>\n",
       "      <th>object_type</th>\n",
       "    </tr>\n",
       "  </thead>\n",
       "  <tbody>\n",
       "    <tr>\n",
       "      <th>0</th>\n",
       "      <td>&lt;UID: 747a85b4106a485fb09f6c6901a19cc0&gt;</td>\n",
       "      <td>[public_data]</td>\n",
       "      <td></td>\n",
       "      <td>&lt;class 'syft.core.tensor.tensor.Tensor'&gt;</td>\n",
       "    </tr>\n",
       "    <tr>\n",
       "      <th>1</th>\n",
       "      <td>&lt;UID: e86c4c64f64f4344850d6ae70a5dfefe&gt;</td>\n",
       "      <td>[data]</td>\n",
       "      <td></td>\n",
       "      <td>&lt;class 'syft.core.tensor.tensor.Tensor'&gt;</td>\n",
       "    </tr>\n",
       "    <tr>\n",
       "      <th>2</th>\n",
       "      <td>&lt;UID: 8dfb009ca0c649108e196657ab642fae&gt;</td>\n",
       "      <td>[target]</td>\n",
       "      <td></td>\n",
       "      <td>&lt;class 'syft.core.tensor.tensor.Tensor'&gt;</td>\n",
       "    </tr>\n",
       "    <tr>\n",
       "      <th>3</th>\n",
       "      <td>&lt;UID: 9e80b6b73bda40fcb58dee234529f320&gt;</td>\n",
       "      <td>[]</td>\n",
       "      <td></td>\n",
       "      <td>&lt;class 'syft.core.tensor.tensor.Tensor'&gt;</td>\n",
       "    </tr>\n",
       "    <tr>\n",
       "      <th>4</th>\n",
       "      <td>&lt;UID: 78d41cb834a64e1a975d89afc6e16ac6&gt;</td>\n",
       "      <td>[basic]</td>\n",
       "      <td></td>\n",
       "      <td>&lt;class 'syft.core.tensor.tensor.Tensor'&gt;</td>\n",
       "    </tr>\n",
       "    <tr>\n",
       "      <th>5</th>\n",
       "      <td>&lt;UID: f73759e3025d4682a8bbe7905b8d1e36&gt;</td>\n",
       "      <td>[basic]</td>\n",
       "      <td></td>\n",
       "      <td>&lt;class 'syft.core.tensor.tensor.Tensor'&gt;</td>\n",
       "    </tr>\n",
       "    <tr>\n",
       "      <th>6</th>\n",
       "      <td>&lt;UID: 16ac150b5c8f48b2a8c96cc43cae0b89&gt;</td>\n",
       "      <td>[basic]</td>\n",
       "      <td></td>\n",
       "      <td>&lt;class 'syft.core.tensor.tensor.Tensor'&gt;</td>\n",
       "    </tr>\n",
       "    <tr>\n",
       "      <th>7</th>\n",
       "      <td>&lt;UID: 451b4b996d29474ca14be496d381d66f&gt;</td>\n",
       "      <td>[basic]</td>\n",
       "      <td></td>\n",
       "      <td>&lt;class 'syft.core.tensor.tensor.Tensor'&gt;</td>\n",
       "    </tr>\n",
       "    <tr>\n",
       "      <th>8</th>\n",
       "      <td>&lt;UID: e173ac79fdcb4188869d4724819f68a0&gt;</td>\n",
       "      <td>[basic]</td>\n",
       "      <td></td>\n",
       "      <td>&lt;class 'syft.core.tensor.tensor.Tensor'&gt;</td>\n",
       "    </tr>\n",
       "    <tr>\n",
       "      <th>9</th>\n",
       "      <td>&lt;UID: 448b81fd80f9469e94e11a0c25a96617&gt;</td>\n",
       "      <td>[basic]</td>\n",
       "      <td></td>\n",
       "      <td>&lt;class 'syft.core.tensor.tensor.Tensor'&gt;</td>\n",
       "    </tr>\n",
       "    <tr>\n",
       "      <th>10</th>\n",
       "      <td>&lt;UID: 78925e87531c497cb5333b011e58f69b&gt;</td>\n",
       "      <td>[basic]</td>\n",
       "      <td></td>\n",
       "      <td>&lt;class 'syft.core.tensor.tensor.Tensor'&gt;</td>\n",
       "    </tr>\n",
       "    <tr>\n",
       "      <th>11</th>\n",
       "      <td>&lt;UID: 75fa8b1bd5484f3696ceed37374bd0cb&gt;</td>\n",
       "      <td>[autograd]</td>\n",
       "      <td></td>\n",
       "      <td>&lt;class 'syft.core.tensor.tensor.Tensor'&gt;</td>\n",
       "    </tr>\n",
       "    <tr>\n",
       "      <th>12</th>\n",
       "      <td>&lt;UID: 3a9cd0ca39e44d5a94c5c61458cbf5b8&gt;</td>\n",
       "      <td>[private]</td>\n",
       "      <td></td>\n",
       "      <td>&lt;class 'syft.core.tensor.tensor.Tensor'&gt;</td>\n",
       "    </tr>\n",
       "  </tbody>\n",
       "</table>\n",
       "</div>"
      ],
      "text/plain": [
       "                                         ID           Tags Description  \\\n",
       "0   <UID: 747a85b4106a485fb09f6c6901a19cc0>  [public_data]               \n",
       "1   <UID: e86c4c64f64f4344850d6ae70a5dfefe>         [data]               \n",
       "2   <UID: 8dfb009ca0c649108e196657ab642fae>       [target]               \n",
       "3   <UID: 9e80b6b73bda40fcb58dee234529f320>             []               \n",
       "4   <UID: 78d41cb834a64e1a975d89afc6e16ac6>        [basic]               \n",
       "5   <UID: f73759e3025d4682a8bbe7905b8d1e36>        [basic]               \n",
       "6   <UID: 16ac150b5c8f48b2a8c96cc43cae0b89>        [basic]               \n",
       "7   <UID: 451b4b996d29474ca14be496d381d66f>        [basic]               \n",
       "8   <UID: e173ac79fdcb4188869d4724819f68a0>        [basic]               \n",
       "9   <UID: 448b81fd80f9469e94e11a0c25a96617>        [basic]               \n",
       "10  <UID: 78925e87531c497cb5333b011e58f69b>        [basic]               \n",
       "11  <UID: 75fa8b1bd5484f3696ceed37374bd0cb>     [autograd]               \n",
       "12  <UID: 3a9cd0ca39e44d5a94c5c61458cbf5b8>      [private]               \n",
       "\n",
       "                                 object_type  \n",
       "0   <class 'syft.core.tensor.tensor.Tensor'>  \n",
       "1   <class 'syft.core.tensor.tensor.Tensor'>  \n",
       "2   <class 'syft.core.tensor.tensor.Tensor'>  \n",
       "3   <class 'syft.core.tensor.tensor.Tensor'>  \n",
       "4   <class 'syft.core.tensor.tensor.Tensor'>  \n",
       "5   <class 'syft.core.tensor.tensor.Tensor'>  \n",
       "6   <class 'syft.core.tensor.tensor.Tensor'>  \n",
       "7   <class 'syft.core.tensor.tensor.Tensor'>  \n",
       "8   <class 'syft.core.tensor.tensor.Tensor'>  \n",
       "9   <class 'syft.core.tensor.tensor.Tensor'>  \n",
       "10  <class 'syft.core.tensor.tensor.Tensor'>  \n",
       "11  <class 'syft.core.tensor.tensor.Tensor'>  \n",
       "12  <class 'syft.core.tensor.tensor.Tensor'>  "
      ]
     },
     "execution_count": 3,
     "metadata": {},
     "output_type": "execute_result"
    }
   ],
   "source": [
    "uk.store.pandas"
   ]
  },
  {
   "cell_type": "code",
   "execution_count": 4,
   "id": "28c6862c-0b5a-41cf-87fb-a4a29f18c3fa",
   "metadata": {},
   "outputs": [
    {
     "name": "stdout",
     "output_type": "stream",
     "text": [
      "Tensor(child=SingleEntityPhiTensor(entity=Ishan, child=[[0.21214683 0.00502626 0.15481899 0.14866826 0.90114358 0.69722401\n",
      "  0.85263013 0.3560516  0.02798424 0.23987381]]))\n"
     ]
    }
   ],
   "source": [
    "data = np.random.rand(1, 10)\n",
    "private_tensor = sy.Tensor(data).private(0, 10, entity=ishan).tag(\"private\")\n",
    "print(private_tensor)"
   ]
  },
  {
   "cell_type": "code",
   "execution_count": 5,
   "id": "781ebdaa-248c-46b3-a17a-5d7caec998cc",
   "metadata": {},
   "outputs": [],
   "source": [
    "priv_ptr = private_tensor.send(uk)"
   ]
  },
  {
   "cell_type": "code",
   "execution_count": 6,
   "id": "dc36ad21-7aee-4939-abd2-5ed73e90275f",
   "metadata": {},
   "outputs": [
    {
     "data": {
      "text/html": [
       "<div>\n",
       "<style scoped>\n",
       "    .dataframe tbody tr th:only-of-type {\n",
       "        vertical-align: middle;\n",
       "    }\n",
       "\n",
       "    .dataframe tbody tr th {\n",
       "        vertical-align: top;\n",
       "    }\n",
       "\n",
       "    .dataframe thead th {\n",
       "        text-align: right;\n",
       "    }\n",
       "</style>\n",
       "<table border=\"1\" class=\"dataframe\">\n",
       "  <thead>\n",
       "    <tr style=\"text-align: right;\">\n",
       "      <th></th>\n",
       "      <th>ID</th>\n",
       "      <th>Tags</th>\n",
       "      <th>Description</th>\n",
       "      <th>object_type</th>\n",
       "    </tr>\n",
       "  </thead>\n",
       "  <tbody>\n",
       "    <tr>\n",
       "      <th>0</th>\n",
       "      <td>&lt;UID: 747a85b4106a485fb09f6c6901a19cc0&gt;</td>\n",
       "      <td>[public_data]</td>\n",
       "      <td></td>\n",
       "      <td>&lt;class 'syft.core.tensor.tensor.Tensor'&gt;</td>\n",
       "    </tr>\n",
       "    <tr>\n",
       "      <th>1</th>\n",
       "      <td>&lt;UID: e86c4c64f64f4344850d6ae70a5dfefe&gt;</td>\n",
       "      <td>[data]</td>\n",
       "      <td></td>\n",
       "      <td>&lt;class 'syft.core.tensor.tensor.Tensor'&gt;</td>\n",
       "    </tr>\n",
       "    <tr>\n",
       "      <th>2</th>\n",
       "      <td>&lt;UID: 8dfb009ca0c649108e196657ab642fae&gt;</td>\n",
       "      <td>[target]</td>\n",
       "      <td></td>\n",
       "      <td>&lt;class 'syft.core.tensor.tensor.Tensor'&gt;</td>\n",
       "    </tr>\n",
       "    <tr>\n",
       "      <th>3</th>\n",
       "      <td>&lt;UID: 9e80b6b73bda40fcb58dee234529f320&gt;</td>\n",
       "      <td>[]</td>\n",
       "      <td></td>\n",
       "      <td>&lt;class 'syft.core.tensor.tensor.Tensor'&gt;</td>\n",
       "    </tr>\n",
       "    <tr>\n",
       "      <th>4</th>\n",
       "      <td>&lt;UID: 78d41cb834a64e1a975d89afc6e16ac6&gt;</td>\n",
       "      <td>[basic]</td>\n",
       "      <td></td>\n",
       "      <td>&lt;class 'syft.core.tensor.tensor.Tensor'&gt;</td>\n",
       "    </tr>\n",
       "    <tr>\n",
       "      <th>5</th>\n",
       "      <td>&lt;UID: f73759e3025d4682a8bbe7905b8d1e36&gt;</td>\n",
       "      <td>[basic]</td>\n",
       "      <td></td>\n",
       "      <td>&lt;class 'syft.core.tensor.tensor.Tensor'&gt;</td>\n",
       "    </tr>\n",
       "    <tr>\n",
       "      <th>6</th>\n",
       "      <td>&lt;UID: 16ac150b5c8f48b2a8c96cc43cae0b89&gt;</td>\n",
       "      <td>[basic]</td>\n",
       "      <td></td>\n",
       "      <td>&lt;class 'syft.core.tensor.tensor.Tensor'&gt;</td>\n",
       "    </tr>\n",
       "    <tr>\n",
       "      <th>7</th>\n",
       "      <td>&lt;UID: 451b4b996d29474ca14be496d381d66f&gt;</td>\n",
       "      <td>[basic]</td>\n",
       "      <td></td>\n",
       "      <td>&lt;class 'syft.core.tensor.tensor.Tensor'&gt;</td>\n",
       "    </tr>\n",
       "    <tr>\n",
       "      <th>8</th>\n",
       "      <td>&lt;UID: e173ac79fdcb4188869d4724819f68a0&gt;</td>\n",
       "      <td>[basic]</td>\n",
       "      <td></td>\n",
       "      <td>&lt;class 'syft.core.tensor.tensor.Tensor'&gt;</td>\n",
       "    </tr>\n",
       "    <tr>\n",
       "      <th>9</th>\n",
       "      <td>&lt;UID: 448b81fd80f9469e94e11a0c25a96617&gt;</td>\n",
       "      <td>[basic]</td>\n",
       "      <td></td>\n",
       "      <td>&lt;class 'syft.core.tensor.tensor.Tensor'&gt;</td>\n",
       "    </tr>\n",
       "    <tr>\n",
       "      <th>10</th>\n",
       "      <td>&lt;UID: 78925e87531c497cb5333b011e58f69b&gt;</td>\n",
       "      <td>[basic]</td>\n",
       "      <td></td>\n",
       "      <td>&lt;class 'syft.core.tensor.tensor.Tensor'&gt;</td>\n",
       "    </tr>\n",
       "    <tr>\n",
       "      <th>11</th>\n",
       "      <td>&lt;UID: 75fa8b1bd5484f3696ceed37374bd0cb&gt;</td>\n",
       "      <td>[autograd]</td>\n",
       "      <td></td>\n",
       "      <td>&lt;class 'syft.core.tensor.tensor.Tensor'&gt;</td>\n",
       "    </tr>\n",
       "    <tr>\n",
       "      <th>12</th>\n",
       "      <td>&lt;UID: 3a9cd0ca39e44d5a94c5c61458cbf5b8&gt;</td>\n",
       "      <td>[private]</td>\n",
       "      <td></td>\n",
       "      <td>&lt;class 'syft.core.tensor.tensor.Tensor'&gt;</td>\n",
       "    </tr>\n",
       "  </tbody>\n",
       "</table>\n",
       "</div>"
      ],
      "text/plain": [
       "                                         ID           Tags Description  \\\n",
       "0   <UID: 747a85b4106a485fb09f6c6901a19cc0>  [public_data]               \n",
       "1   <UID: e86c4c64f64f4344850d6ae70a5dfefe>         [data]               \n",
       "2   <UID: 8dfb009ca0c649108e196657ab642fae>       [target]               \n",
       "3   <UID: 9e80b6b73bda40fcb58dee234529f320>             []               \n",
       "4   <UID: 78d41cb834a64e1a975d89afc6e16ac6>        [basic]               \n",
       "5   <UID: f73759e3025d4682a8bbe7905b8d1e36>        [basic]               \n",
       "6   <UID: 16ac150b5c8f48b2a8c96cc43cae0b89>        [basic]               \n",
       "7   <UID: 451b4b996d29474ca14be496d381d66f>        [basic]               \n",
       "8   <UID: e173ac79fdcb4188869d4724819f68a0>        [basic]               \n",
       "9   <UID: 448b81fd80f9469e94e11a0c25a96617>        [basic]               \n",
       "10  <UID: 78925e87531c497cb5333b011e58f69b>        [basic]               \n",
       "11  <UID: 75fa8b1bd5484f3696ceed37374bd0cb>     [autograd]               \n",
       "12  <UID: 3a9cd0ca39e44d5a94c5c61458cbf5b8>      [private]               \n",
       "\n",
       "                                 object_type  \n",
       "0   <class 'syft.core.tensor.tensor.Tensor'>  \n",
       "1   <class 'syft.core.tensor.tensor.Tensor'>  \n",
       "2   <class 'syft.core.tensor.tensor.Tensor'>  \n",
       "3   <class 'syft.core.tensor.tensor.Tensor'>  \n",
       "4   <class 'syft.core.tensor.tensor.Tensor'>  \n",
       "5   <class 'syft.core.tensor.tensor.Tensor'>  \n",
       "6   <class 'syft.core.tensor.tensor.Tensor'>  \n",
       "7   <class 'syft.core.tensor.tensor.Tensor'>  \n",
       "8   <class 'syft.core.tensor.tensor.Tensor'>  \n",
       "9   <class 'syft.core.tensor.tensor.Tensor'>  \n",
       "10  <class 'syft.core.tensor.tensor.Tensor'>  \n",
       "11  <class 'syft.core.tensor.tensor.Tensor'>  \n",
       "12  <class 'syft.core.tensor.tensor.Tensor'>  "
      ]
     },
     "execution_count": 6,
     "metadata": {},
     "output_type": "execute_result"
    }
   ],
   "source": [
    "uk.store.pandas"
   ]
  },
  {
   "cell_type": "code",
   "execution_count": null,
   "id": "0addded1-6cb4-4c88-8e09-213038f0875f",
   "metadata": {},
   "outputs": [],
   "source": []
  },
  {
   "cell_type": "code",
   "execution_count": 7,
   "id": "44580039-96c6-4bb8-8646-d219c2512f9b",
   "metadata": {},
   "outputs": [
    {
     "ename": "NameError",
     "evalue": "name 'priv_autograd_ptr' is not defined",
     "output_type": "error",
     "traceback": [
      "\u001b[0;31m---------------------------------------------------------------------------\u001b[0m",
      "\u001b[0;31mNameError\u001b[0m                                 Traceback (most recent call last)",
      "\u001b[0;32m/var/folders/cs/tql716257t32sb3kr5r9rbkc0000gn/T/ipykernel_16040/767695429.py\u001b[0m in \u001b[0;36m<module>\u001b[0;34m\u001b[0m\n\u001b[0;32m----> 1\u001b[0;31m \u001b[0mprivate_autograd_tensor\u001b[0m \u001b[0;34m=\u001b[0m \u001b[0mpriv_autograd_ptr\u001b[0m\u001b[0;34m.\u001b[0m\u001b[0mget\u001b[0m\u001b[0;34m(\u001b[0m\u001b[0;34m)\u001b[0m\u001b[0;34m\u001b[0m\u001b[0;34m\u001b[0m\u001b[0m\n\u001b[0m",
      "\u001b[0;31mNameError\u001b[0m: name 'priv_autograd_ptr' is not defined"
     ]
    }
   ],
   "source": [
    "private_autograd_tensor = priv_autograd_ptr.get()"
   ]
  },
  {
   "cell_type": "code",
   "execution_count": null,
   "id": "69781b0d-ca1d-4214-b11d-7226181d3114",
   "metadata": {},
   "outputs": [],
   "source": [
    "private_autograd_tensor"
   ]
  },
  {
   "cell_type": "code",
   "execution_count": 8,
   "id": "3d4275d0-34ee-4f9a-a284-419ab8144965",
   "metadata": {},
   "outputs": [],
   "source": [
    "y = private_tensor + private_tensor"
   ]
  },
  {
   "cell_type": "code",
   "execution_count": 9,
   "id": "24913142-d9d0-4a79-b590-1cfee98f196a",
   "metadata": {},
   "outputs": [
    {
     "data": {
      "text/plain": [
       "Tensor(child=SingleEntityPhiTensor(entity=Ishan, child=[[0.42429367 0.01005253 0.30963798 0.29733652 1.80228717 1.39444802\n",
       "  1.70526026 0.7121032  0.05596849 0.47974762]]))"
      ]
     },
     "execution_count": 9,
     "metadata": {},
     "output_type": "execute_result"
    }
   ],
   "source": [
    "y"
   ]
  },
  {
   "cell_type": "code",
   "execution_count": 10,
   "id": "666153e8-621a-4041-857b-46b2515799ce",
   "metadata": {},
   "outputs": [
    {
     "ename": "RecursionError",
     "evalue": "maximum recursion depth exceeded",
     "output_type": "error",
     "traceback": [
      "\u001b[0;31m---------------------------------------------------------------------------\u001b[0m",
      "\u001b[0;31mRecursionError\u001b[0m                            Traceback (most recent call last)",
      "\u001b[0;32m/var/folders/cs/tql716257t32sb3kr5r9rbkc0000gn/T/ipykernel_16040/1956341336.py\u001b[0m in \u001b[0;36m<module>\u001b[0;34m\u001b[0m\n\u001b[1;32m      1\u001b[0m \u001b[0mnew_acc\u001b[0m \u001b[0;34m=\u001b[0m \u001b[0msy\u001b[0m\u001b[0;34m.\u001b[0m\u001b[0mcore\u001b[0m\u001b[0;34m.\u001b[0m\u001b[0madp\u001b[0m\u001b[0;34m.\u001b[0m\u001b[0madversarial_accountant\u001b[0m\u001b[0;34m.\u001b[0m\u001b[0mAdversarialAccountant\u001b[0m\u001b[0;34m(\u001b[0m\u001b[0;34m)\u001b[0m\u001b[0;34m\u001b[0m\u001b[0;34m\u001b[0m\u001b[0m\n\u001b[0;32m----> 2\u001b[0;31m \u001b[0my\u001b[0m\u001b[0;34m.\u001b[0m\u001b[0mpublish\u001b[0m\u001b[0;34m(\u001b[0m\u001b[0macc\u001b[0m\u001b[0;34m=\u001b[0m\u001b[0mnew_acc\u001b[0m\u001b[0;34m,\u001b[0m \u001b[0msigma\u001b[0m\u001b[0;34m=\u001b[0m\u001b[0;36m0.1\u001b[0m\u001b[0;34m)\u001b[0m\u001b[0;34m\u001b[0m\u001b[0;34m\u001b[0m\u001b[0m\n\u001b[0m",
      "\u001b[0;32m~/PycharmProjects/PySyft/packages/syft/src/syft/core/tensor/ancestors.py\u001b[0m in \u001b[0;36mpublish\u001b[0;34m(self, acc, sigma)\u001b[0m\n\u001b[1;32m    128\u001b[0m \u001b[0;34m\u001b[0m\u001b[0m\n\u001b[1;32m    129\u001b[0m     \u001b[0;32mdef\u001b[0m \u001b[0mpublish\u001b[0m\u001b[0;34m(\u001b[0m\u001b[0mself\u001b[0m\u001b[0;34m,\u001b[0m \u001b[0macc\u001b[0m\u001b[0;34m:\u001b[0m \u001b[0mAny\u001b[0m\u001b[0;34m,\u001b[0m \u001b[0msigma\u001b[0m\u001b[0;34m:\u001b[0m \u001b[0mfloat\u001b[0m\u001b[0;34m)\u001b[0m \u001b[0;34m->\u001b[0m \u001b[0mPhiTensorAncestor\u001b[0m\u001b[0;34m:\u001b[0m\u001b[0;34m\u001b[0m\u001b[0;34m\u001b[0m\u001b[0m\n\u001b[0;32m--> 130\u001b[0;31m         \u001b[0;32mreturn\u001b[0m \u001b[0mself\u001b[0m\u001b[0;34m.\u001b[0m\u001b[0m__class__\u001b[0m\u001b[0;34m(\u001b[0m\u001b[0mself\u001b[0m\u001b[0;34m.\u001b[0m\u001b[0mchild\u001b[0m\u001b[0;34m.\u001b[0m\u001b[0mpublish\u001b[0m\u001b[0;34m(\u001b[0m\u001b[0macc\u001b[0m\u001b[0;34m=\u001b[0m\u001b[0macc\u001b[0m\u001b[0;34m,\u001b[0m \u001b[0msigma\u001b[0m\u001b[0;34m=\u001b[0m\u001b[0msigma\u001b[0m\u001b[0;34m)\u001b[0m\u001b[0;34m)\u001b[0m\u001b[0;34m\u001b[0m\u001b[0;34m\u001b[0m\u001b[0m\n\u001b[0m\u001b[1;32m    131\u001b[0m \u001b[0;34m\u001b[0m\u001b[0m\n\u001b[1;32m    132\u001b[0m     def private(\n",
      "\u001b[0;32m~/PycharmProjects/PySyft/packages/syft/src/syft/core/tensor/autodp/single_entity_phi.py\u001b[0m in \u001b[0;36mpublish\u001b[0;34m(self, acc, sigma)\u001b[0m\n\u001b[1;32m     86\u001b[0m \u001b[0;34m\u001b[0m\u001b[0m\n\u001b[1;32m     87\u001b[0m     \u001b[0;32mdef\u001b[0m \u001b[0mpublish\u001b[0m\u001b[0;34m(\u001b[0m\u001b[0mself\u001b[0m\u001b[0;34m,\u001b[0m \u001b[0macc\u001b[0m\u001b[0;34m:\u001b[0m \u001b[0mAny\u001b[0m\u001b[0;34m,\u001b[0m \u001b[0msigma\u001b[0m\u001b[0;34m:\u001b[0m \u001b[0mfloat\u001b[0m\u001b[0;34m)\u001b[0m\u001b[0;34m:\u001b[0m  \u001b[0;31m# type: ignore\u001b[0m\u001b[0;34m\u001b[0m\u001b[0;34m\u001b[0m\u001b[0m\n\u001b[0;32m---> 88\u001b[0;31m         \u001b[0;32mreturn\u001b[0m \u001b[0mself\u001b[0m\u001b[0;34m.\u001b[0m\u001b[0m__class__\u001b[0m\u001b[0;34m(\u001b[0m\u001b[0mself\u001b[0m\u001b[0;34m.\u001b[0m\u001b[0mpublish\u001b[0m\u001b[0;34m(\u001b[0m\u001b[0macc\u001b[0m\u001b[0;34m=\u001b[0m\u001b[0macc\u001b[0m\u001b[0;34m,\u001b[0m \u001b[0msigma\u001b[0m\u001b[0;34m=\u001b[0m\u001b[0msigma\u001b[0m\u001b[0;34m)\u001b[0m\u001b[0;34m)\u001b[0m\u001b[0;34m\u001b[0m\u001b[0;34m\u001b[0m\u001b[0m\n\u001b[0m\u001b[1;32m     89\u001b[0m \u001b[0;34m\u001b[0m\u001b[0m\n\u001b[1;32m     90\u001b[0m \u001b[0;34m\u001b[0m\u001b[0m\n",
      "... last 1 frames repeated, from the frame below ...\n",
      "\u001b[0;32m~/PycharmProjects/PySyft/packages/syft/src/syft/core/tensor/autodp/single_entity_phi.py\u001b[0m in \u001b[0;36mpublish\u001b[0;34m(self, acc, sigma)\u001b[0m\n\u001b[1;32m     86\u001b[0m \u001b[0;34m\u001b[0m\u001b[0m\n\u001b[1;32m     87\u001b[0m     \u001b[0;32mdef\u001b[0m \u001b[0mpublish\u001b[0m\u001b[0;34m(\u001b[0m\u001b[0mself\u001b[0m\u001b[0;34m,\u001b[0m \u001b[0macc\u001b[0m\u001b[0;34m:\u001b[0m \u001b[0mAny\u001b[0m\u001b[0;34m,\u001b[0m \u001b[0msigma\u001b[0m\u001b[0;34m:\u001b[0m \u001b[0mfloat\u001b[0m\u001b[0;34m)\u001b[0m\u001b[0;34m:\u001b[0m  \u001b[0;31m# type: ignore\u001b[0m\u001b[0;34m\u001b[0m\u001b[0;34m\u001b[0m\u001b[0m\n\u001b[0;32m---> 88\u001b[0;31m         \u001b[0;32mreturn\u001b[0m \u001b[0mself\u001b[0m\u001b[0;34m.\u001b[0m\u001b[0m__class__\u001b[0m\u001b[0;34m(\u001b[0m\u001b[0mself\u001b[0m\u001b[0;34m.\u001b[0m\u001b[0mpublish\u001b[0m\u001b[0;34m(\u001b[0m\u001b[0macc\u001b[0m\u001b[0;34m=\u001b[0m\u001b[0macc\u001b[0m\u001b[0;34m,\u001b[0m \u001b[0msigma\u001b[0m\u001b[0;34m=\u001b[0m\u001b[0msigma\u001b[0m\u001b[0;34m)\u001b[0m\u001b[0;34m)\u001b[0m\u001b[0;34m\u001b[0m\u001b[0;34m\u001b[0m\u001b[0m\n\u001b[0m\u001b[1;32m     89\u001b[0m \u001b[0;34m\u001b[0m\u001b[0m\n\u001b[1;32m     90\u001b[0m \u001b[0;34m\u001b[0m\u001b[0m\n",
      "\u001b[0;31mRecursionError\u001b[0m: maximum recursion depth exceeded"
     ]
    }
   ],
   "source": [
    "new_acc = sy.core.adp.adversarial_accountant.AdversarialAccountant()\n",
    "y.publish(acc=new_acc, sigma=0.1)"
   ]
  },
  {
   "cell_type": "code",
   "execution_count": 11,
   "id": "1c8050cc-ece8-405f-ac95-6b511176c609",
   "metadata": {},
   "outputs": [
    {
     "data": {
      "text/html": [
       "<div>\n",
       "<style scoped>\n",
       "    .dataframe tbody tr th:only-of-type {\n",
       "        vertical-align: middle;\n",
       "    }\n",
       "\n",
       "    .dataframe tbody tr th {\n",
       "        vertical-align: top;\n",
       "    }\n",
       "\n",
       "    .dataframe thead th {\n",
       "        text-align: right;\n",
       "    }\n",
       "</style>\n",
       "<table border=\"1\" class=\"dataframe\">\n",
       "  <thead>\n",
       "    <tr style=\"text-align: right;\">\n",
       "      <th></th>\n",
       "      <th>ID</th>\n",
       "      <th>Tags</th>\n",
       "      <th>Description</th>\n",
       "      <th>object_type</th>\n",
       "    </tr>\n",
       "  </thead>\n",
       "  <tbody>\n",
       "    <tr>\n",
       "      <th>0</th>\n",
       "      <td>&lt;UID: 747a85b4106a485fb09f6c6901a19cc0&gt;</td>\n",
       "      <td>[public_data]</td>\n",
       "      <td></td>\n",
       "      <td>&lt;class 'syft.core.tensor.tensor.Tensor'&gt;</td>\n",
       "    </tr>\n",
       "    <tr>\n",
       "      <th>1</th>\n",
       "      <td>&lt;UID: e86c4c64f64f4344850d6ae70a5dfefe&gt;</td>\n",
       "      <td>[data]</td>\n",
       "      <td></td>\n",
       "      <td>&lt;class 'syft.core.tensor.tensor.Tensor'&gt;</td>\n",
       "    </tr>\n",
       "    <tr>\n",
       "      <th>2</th>\n",
       "      <td>&lt;UID: 8dfb009ca0c649108e196657ab642fae&gt;</td>\n",
       "      <td>[target]</td>\n",
       "      <td></td>\n",
       "      <td>&lt;class 'syft.core.tensor.tensor.Tensor'&gt;</td>\n",
       "    </tr>\n",
       "    <tr>\n",
       "      <th>3</th>\n",
       "      <td>&lt;UID: 9e80b6b73bda40fcb58dee234529f320&gt;</td>\n",
       "      <td>[]</td>\n",
       "      <td></td>\n",
       "      <td>&lt;class 'syft.core.tensor.tensor.Tensor'&gt;</td>\n",
       "    </tr>\n",
       "    <tr>\n",
       "      <th>4</th>\n",
       "      <td>&lt;UID: 78d41cb834a64e1a975d89afc6e16ac6&gt;</td>\n",
       "      <td>[basic]</td>\n",
       "      <td></td>\n",
       "      <td>&lt;class 'syft.core.tensor.tensor.Tensor'&gt;</td>\n",
       "    </tr>\n",
       "    <tr>\n",
       "      <th>5</th>\n",
       "      <td>&lt;UID: f73759e3025d4682a8bbe7905b8d1e36&gt;</td>\n",
       "      <td>[basic]</td>\n",
       "      <td></td>\n",
       "      <td>&lt;class 'syft.core.tensor.tensor.Tensor'&gt;</td>\n",
       "    </tr>\n",
       "    <tr>\n",
       "      <th>6</th>\n",
       "      <td>&lt;UID: 16ac150b5c8f48b2a8c96cc43cae0b89&gt;</td>\n",
       "      <td>[basic]</td>\n",
       "      <td></td>\n",
       "      <td>&lt;class 'syft.core.tensor.tensor.Tensor'&gt;</td>\n",
       "    </tr>\n",
       "    <tr>\n",
       "      <th>7</th>\n",
       "      <td>&lt;UID: 451b4b996d29474ca14be496d381d66f&gt;</td>\n",
       "      <td>[basic]</td>\n",
       "      <td></td>\n",
       "      <td>&lt;class 'syft.core.tensor.tensor.Tensor'&gt;</td>\n",
       "    </tr>\n",
       "    <tr>\n",
       "      <th>8</th>\n",
       "      <td>&lt;UID: e173ac79fdcb4188869d4724819f68a0&gt;</td>\n",
       "      <td>[basic]</td>\n",
       "      <td></td>\n",
       "      <td>&lt;class 'syft.core.tensor.tensor.Tensor'&gt;</td>\n",
       "    </tr>\n",
       "    <tr>\n",
       "      <th>9</th>\n",
       "      <td>&lt;UID: 448b81fd80f9469e94e11a0c25a96617&gt;</td>\n",
       "      <td>[basic]</td>\n",
       "      <td></td>\n",
       "      <td>&lt;class 'syft.core.tensor.tensor.Tensor'&gt;</td>\n",
       "    </tr>\n",
       "    <tr>\n",
       "      <th>10</th>\n",
       "      <td>&lt;UID: 78925e87531c497cb5333b011e58f69b&gt;</td>\n",
       "      <td>[basic]</td>\n",
       "      <td></td>\n",
       "      <td>&lt;class 'syft.core.tensor.tensor.Tensor'&gt;</td>\n",
       "    </tr>\n",
       "    <tr>\n",
       "      <th>11</th>\n",
       "      <td>&lt;UID: 75fa8b1bd5484f3696ceed37374bd0cb&gt;</td>\n",
       "      <td>[autograd]</td>\n",
       "      <td></td>\n",
       "      <td>&lt;class 'syft.core.tensor.tensor.Tensor'&gt;</td>\n",
       "    </tr>\n",
       "    <tr>\n",
       "      <th>12</th>\n",
       "      <td>&lt;UID: 3a9cd0ca39e44d5a94c5c61458cbf5b8&gt;</td>\n",
       "      <td>[private]</td>\n",
       "      <td></td>\n",
       "      <td>&lt;class 'syft.core.tensor.tensor.Tensor'&gt;</td>\n",
       "    </tr>\n",
       "    <tr>\n",
       "      <th>13</th>\n",
       "      <td>&lt;UID: 488ab7fe951041eca39497a3ff2a03f5&gt;</td>\n",
       "      <td>[private]</td>\n",
       "      <td></td>\n",
       "      <td>&lt;class 'syft.core.tensor.tensor.Tensor'&gt;</td>\n",
       "    </tr>\n",
       "  </tbody>\n",
       "</table>\n",
       "</div>"
      ],
      "text/plain": [
       "                                         ID           Tags Description  \\\n",
       "0   <UID: 747a85b4106a485fb09f6c6901a19cc0>  [public_data]               \n",
       "1   <UID: e86c4c64f64f4344850d6ae70a5dfefe>         [data]               \n",
       "2   <UID: 8dfb009ca0c649108e196657ab642fae>       [target]               \n",
       "3   <UID: 9e80b6b73bda40fcb58dee234529f320>             []               \n",
       "4   <UID: 78d41cb834a64e1a975d89afc6e16ac6>        [basic]               \n",
       "5   <UID: f73759e3025d4682a8bbe7905b8d1e36>        [basic]               \n",
       "6   <UID: 16ac150b5c8f48b2a8c96cc43cae0b89>        [basic]               \n",
       "7   <UID: 451b4b996d29474ca14be496d381d66f>        [basic]               \n",
       "8   <UID: e173ac79fdcb4188869d4724819f68a0>        [basic]               \n",
       "9   <UID: 448b81fd80f9469e94e11a0c25a96617>        [basic]               \n",
       "10  <UID: 78925e87531c497cb5333b011e58f69b>        [basic]               \n",
       "11  <UID: 75fa8b1bd5484f3696ceed37374bd0cb>     [autograd]               \n",
       "12  <UID: 3a9cd0ca39e44d5a94c5c61458cbf5b8>      [private]               \n",
       "13  <UID: 488ab7fe951041eca39497a3ff2a03f5>      [private]               \n",
       "\n",
       "                                 object_type  \n",
       "0   <class 'syft.core.tensor.tensor.Tensor'>  \n",
       "1   <class 'syft.core.tensor.tensor.Tensor'>  \n",
       "2   <class 'syft.core.tensor.tensor.Tensor'>  \n",
       "3   <class 'syft.core.tensor.tensor.Tensor'>  \n",
       "4   <class 'syft.core.tensor.tensor.Tensor'>  \n",
       "5   <class 'syft.core.tensor.tensor.Tensor'>  \n",
       "6   <class 'syft.core.tensor.tensor.Tensor'>  \n",
       "7   <class 'syft.core.tensor.tensor.Tensor'>  \n",
       "8   <class 'syft.core.tensor.tensor.Tensor'>  \n",
       "9   <class 'syft.core.tensor.tensor.Tensor'>  \n",
       "10  <class 'syft.core.tensor.tensor.Tensor'>  \n",
       "11  <class 'syft.core.tensor.tensor.Tensor'>  \n",
       "12  <class 'syft.core.tensor.tensor.Tensor'>  \n",
       "13  <class 'syft.core.tensor.tensor.Tensor'>  "
      ]
     },
     "execution_count": 11,
     "metadata": {},
     "output_type": "execute_result"
    }
   ],
   "source": [
    "uk.store.pandas"
   ]
  },
  {
   "cell_type": "code",
   "execution_count": 17,
   "id": "bc1bf36d-bb90-45d7-a23b-04390a064bee",
   "metadata": {},
   "outputs": [
    {
     "data": {
      "text/plain": [
       "Tensor(child=[[-6.33397638  1.96576873  8.9310928 ]])"
      ]
     },
     "execution_count": 17,
     "metadata": {},
     "output_type": "execute_result"
    }
   ],
   "source": [
    "public_tensor = sy.Tensor(np.random.randn(1, 3) * 10).tag(\"Fresh Public Data\")\n",
    "public_tensor"
   ]
  },
  {
   "cell_type": "code",
   "execution_count": 14,
   "id": "0029c0dc-ca03-43da-b758-2572cbab29de",
   "metadata": {},
   "outputs": [],
   "source": [
    "ag_ptr = uk.store['autograd']"
   ]
  },
  {
   "cell_type": "code",
   "execution_count": 15,
   "id": "3f41663a-e72f-4e8e-ba63-9447511f92af",
   "metadata": {},
   "outputs": [],
   "source": [
    "ag_tensor = ag_ptr.get()"
   ]
  },
  {
   "cell_type": "code",
   "execution_count": 16,
   "id": "82d1227f-0017-41ed-b413-668db3f832dd",
   "metadata": {},
   "outputs": [
    {
     "data": {
      "text/plain": [
       "Tensor(child=AutogradTensor(child=[[0.76474927 0.18728577 0.96324669]]))"
      ]
     },
     "execution_count": 16,
     "metadata": {},
     "output_type": "execute_result"
    }
   ],
   "source": [
    "ag_tensor"
   ]
  },
  {
   "cell_type": "code",
   "execution_count": 18,
   "id": "63969121-4804-4be6-a91a-692a86369427",
   "metadata": {},
   "outputs": [
    {
     "data": {
      "text/plain": [
       "Tensor(child=AutogradTensor(child=[[-5.56922711  2.15305449  9.89433949]]))"
      ]
     },
     "execution_count": 18,
     "metadata": {},
     "output_type": "execute_result"
    }
   ],
   "source": [
    "ag_tensor + public_tensor"
   ]
  },
  {
   "cell_type": "code",
   "execution_count": 19,
   "id": "90ed642d-1718-4039-ac58-c4520d638243",
   "metadata": {},
   "outputs": [
    {
     "data": {
      "text/plain": [
       "Tensor(child=AutogradTensor(child=[[-4.84390379  0.3681605   8.60284555]]))"
      ]
     },
     "execution_count": 19,
     "metadata": {},
     "output_type": "execute_result"
    }
   ],
   "source": [
    "ag_tensor * public_tensor"
   ]
  },
  {
   "cell_type": "code",
   "execution_count": 21,
   "id": "724f8444-16e0-479c-b209-9a1aad4f8d4b",
   "metadata": {},
   "outputs": [
    {
     "ename": "AttributeError",
     "evalue": "'Tensor' object has no attribute 'input_scalars'",
     "output_type": "error",
     "traceback": [
      "\u001b[0;31m---------------------------------------------------------------------------\u001b[0m",
      "\u001b[0;31mAttributeError\u001b[0m                            Traceback (most recent call last)",
      "\u001b[0;32m/var/folders/cs/tql716257t32sb3kr5r9rbkc0000gn/T/ipykernel_16040/644283613.py\u001b[0m in \u001b[0;36m<module>\u001b[0;34m\u001b[0m\n\u001b[0;32m----> 1\u001b[0;31m \u001b[0my\u001b[0m \u001b[0;34m=\u001b[0m \u001b[0msy\u001b[0m\u001b[0;34m.\u001b[0m\u001b[0mcore\u001b[0m\u001b[0;34m.\u001b[0m\u001b[0madp\u001b[0m\u001b[0;34m.\u001b[0m\u001b[0mpublish\u001b[0m\u001b[0;34m.\u001b[0m\u001b[0mpublish\u001b[0m\u001b[0;34m(\u001b[0m\u001b[0mprivate_tensor\u001b[0m \u001b[0;34m+\u001b[0m \u001b[0mprivate_tensor\u001b[0m\u001b[0;34m,\u001b[0m \u001b[0macc\u001b[0m\u001b[0;34m=\u001b[0m\u001b[0mnew_acc\u001b[0m\u001b[0;34m,\u001b[0m \u001b[0msigma\u001b[0m\u001b[0;34m=\u001b[0m\u001b[0;36m0.1\u001b[0m\u001b[0;34m)\u001b[0m\u001b[0;34m\u001b[0m\u001b[0;34m\u001b[0m\u001b[0m\n\u001b[0m",
      "\u001b[0;32m~/PycharmProjects/PySyft/packages/syft/src/syft/core/adp/publish.py\u001b[0m in \u001b[0;36mpublish\u001b[0;34m(scalars, acc, sigma)\u001b[0m\n\u001b[1;32m     24\u001b[0m     \u001b[0macc_temp\u001b[0m \u001b[0;34m=\u001b[0m \u001b[0mdeepcopy\u001b[0m\u001b[0;34m(\u001b[0m\u001b[0macc_original\u001b[0m\u001b[0;34m)\u001b[0m\u001b[0;34m\u001b[0m\u001b[0;34m\u001b[0m\u001b[0m\n\u001b[1;32m     25\u001b[0m \u001b[0;34m\u001b[0m\u001b[0m\n\u001b[0;32m---> 26\u001b[0;31m     \u001b[0mms\u001b[0m \u001b[0;34m=\u001b[0m \u001b[0mget_all_entity_mechanisms\u001b[0m\u001b[0;34m(\u001b[0m\u001b[0mscalars\u001b[0m\u001b[0;34m=\u001b[0m\u001b[0mscalars\u001b[0m\u001b[0;34m,\u001b[0m \u001b[0msigma\u001b[0m\u001b[0;34m=\u001b[0m\u001b[0msigma\u001b[0m\u001b[0;34m)\u001b[0m\u001b[0;34m\u001b[0m\u001b[0;34m\u001b[0m\u001b[0m\n\u001b[0m\u001b[1;32m     27\u001b[0m     \u001b[0macc_temp\u001b[0m\u001b[0;34m.\u001b[0m\u001b[0mappend\u001b[0m\u001b[0;34m(\u001b[0m\u001b[0mms\u001b[0m\u001b[0;34m)\u001b[0m\u001b[0;34m\u001b[0m\u001b[0;34m\u001b[0m\u001b[0m\n\u001b[1;32m     28\u001b[0m \u001b[0;34m\u001b[0m\u001b[0m\n",
      "\u001b[0;32m~/PycharmProjects/PySyft/packages/syft/src/syft/core/adp/publish.py\u001b[0m in \u001b[0;36mget_all_entity_mechanisms\u001b[0;34m(scalars, sigma)\u001b[0m\n\u001b[1;32m    102\u001b[0m     \u001b[0mentities\u001b[0m \u001b[0;34m=\u001b[0m \u001b[0mset\u001b[0m\u001b[0;34m(\u001b[0m\u001b[0;34m)\u001b[0m\u001b[0;34m\u001b[0m\u001b[0;34m\u001b[0m\u001b[0m\n\u001b[1;32m    103\u001b[0m     \u001b[0;32mfor\u001b[0m \u001b[0ms\u001b[0m \u001b[0;32min\u001b[0m \u001b[0mscalars\u001b[0m\u001b[0;34m:\u001b[0m\u001b[0;34m\u001b[0m\u001b[0;34m\u001b[0m\u001b[0m\n\u001b[0;32m--> 104\u001b[0;31m         \u001b[0;32mfor\u001b[0m \u001b[0mi_s\u001b[0m \u001b[0;32min\u001b[0m \u001b[0ms\u001b[0m\u001b[0;34m.\u001b[0m\u001b[0minput_scalars\u001b[0m\u001b[0;34m:\u001b[0m\u001b[0;34m\u001b[0m\u001b[0;34m\u001b[0m\u001b[0m\n\u001b[0m\u001b[1;32m    105\u001b[0m             \u001b[0mentities\u001b[0m\u001b[0;34m.\u001b[0m\u001b[0madd\u001b[0m\u001b[0;34m(\u001b[0m\u001b[0mi_s\u001b[0m\u001b[0;34m.\u001b[0m\u001b[0mentity\u001b[0m\u001b[0;34m)\u001b[0m\u001b[0;34m\u001b[0m\u001b[0;34m\u001b[0m\u001b[0m\n\u001b[1;32m    106\u001b[0m     return {\n",
      "\u001b[0;31mAttributeError\u001b[0m: 'Tensor' object has no attribute 'input_scalars'"
     ]
    }
   ],
   "source": [
    "y = sy.core.adp.publish.publish(private_tensor + private_tensor, acc=new_acc, sigma=0.1)"
   ]
  },
  {
   "cell_type": "code",
   "execution_count": 23,
   "id": "0cd805be-a88a-443d-af57-b4696088fccd",
   "metadata": {},
   "outputs": [
    {
     "data": {
      "text/plain": [
       "<UID: 6c677bcf587c4a6f984e9b4ca6c7ee01>"
      ]
     },
     "execution_count": 23,
     "metadata": {},
     "output_type": "execute_result"
    }
   ],
   "source": [
    "uk.domain.id"
   ]
  },
  {
   "cell_type": "code",
   "execution_count": null,
   "id": "e9cc8b13-d71a-41e6-8322-093db5c89b12",
   "metadata": {},
   "outputs": [],
   "source": []
  }
 ],
 "metadata": {
  "kernelspec": {
   "display_name": "Python 3 (ipykernel)",
   "language": "python",
   "name": "python3"
  },
  "language_info": {
   "codemirror_mode": {
    "name": "ipython",
    "version": 3
   },
   "file_extension": ".py",
   "mimetype": "text/x-python",
   "name": "python",
   "nbconvert_exporter": "python",
   "pygments_lexer": "ipython3",
   "version": "3.9.1"
  }
 },
 "nbformat": 4,
 "nbformat_minor": 5
}

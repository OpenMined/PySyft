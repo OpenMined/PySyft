{
 "cells": [
  {
   "cell_type": "code",
   "execution_count": 1,
   "id": "129d4f12-ee2f-4954-80d2-e8738b94f18b",
   "metadata": {},
   "outputs": [],
   "source": [
    "import syft as sy\n",
    "import numpy as np"
   ]
  },
  {
   "cell_type": "code",
   "execution_count": 6,
   "id": "8fb90bce-21e7-4d1c-987f-1c83967be611",
   "metadata": {},
   "outputs": [],
   "source": [
    "from scipy.optimize import minimize_scalar\n",
    "from typing import Tuple, Callable"
   ]
  },
  {
   "cell_type": "code",
   "execution_count": 22,
   "id": "0fb05bad-a318-423d-b2b0-11f707d26182",
   "metadata": {},
   "outputs": [],
   "source": []
  },
  {
   "cell_type": "code",
   "execution_count": 10,
   "id": "ba468cea-d506-4c56-9338-1e7f701824a8",
   "metadata": {},
   "outputs": [],
   "source": [
    "def _get_fake_rdp_func(constant: int) -> Callable:\n",
    "    def func(alpha: float) -> float:\n",
    "        return alpha * constant\n",
    "\n",
    "    return func"
   ]
  },
  {
   "cell_type": "code",
   "execution_count": 11,
   "id": "016a9fa5-e86c-438a-a48a-61694b4890c6",
   "metadata": {},
   "outputs": [],
   "source": [
    "def _get_alpha_search_function(rdp_compose_func: Callable) -> Callable:\n",
    "    # if len(self.deltas) > 0:\n",
    "    # delta = np.max(self.deltas)\n",
    "    # else:\n",
    "    log_delta = np.log(1e-6)\n",
    "\n",
    "    def fun(alpha: float) -> float:  # the input is the RDP's \\alpha\n",
    "        if alpha <= 1:\n",
    "            return np.inf\n",
    "        else:\n",
    "            alpha_minus_1 = alpha - 1\n",
    "            return np.maximum(\n",
    "                rdp_compose_func(alpha)\n",
    "                + np.log(alpha_minus_1 / alpha)\n",
    "                - (log_delta + np.log(alpha)) / alpha_minus_1,\n",
    "                0,\n",
    "            )\n",
    "\n",
    "    return fun"
   ]
  },
  {
   "cell_type": "code",
   "execution_count": 41,
   "id": "21358859-b5bc-4668-b386-aa7015503330",
   "metadata": {},
   "outputs": [],
   "source": [
    "from tqdm import tqdm"
   ]
  },
  {
   "cell_type": "code",
   "execution_count": 12,
   "id": "4171f562-ea13-47a6-8cc6-fb8fe5064f30",
   "metadata": {},
   "outputs": [],
   "source": [
    "def _get_optimal_alpha_for_constant(constant: int = 3\n",
    ") -> Tuple[np.ndarray, Callable]:\n",
    "    f = _get_fake_rdp_func(constant=constant)\n",
    "    f2 = _get_alpha_search_function(rdp_compose_func=f)\n",
    "    results = minimize_scalar(\n",
    "        f2, method=\"Brent\", bracket=(1, 2), bounds=[1, np.inf]\n",
    "    )\n",
    "    return results.x, results.fun"
   ]
  },
  {
   "cell_type": "code",
   "execution_count": 42,
   "id": "cbc1b6cf-6b07-4578-9c09-bed4d80a5198",
   "metadata": {},
   "outputs": [],
   "source": [
    "def _increase_max_cache(new_size: int, _cache_constant2epsilon) -> None:\n",
    "    new_entries = []\n",
    "    current_size = len(_cache_constant2epsilon)\n",
    "    new_alphas = []\n",
    "    for i in tqdm(range(new_size - current_size)):\n",
    "        alph, eps = _get_optimal_alpha_for_constant(constant=i + 1 + current_size)\n",
    "        new_entries.append(eps)\n",
    "        new_alphas.append(alph)\n",
    "    _cache_constant2epsilon = np.concatenate(\n",
    "        [_cache_constant2epsilon, np.array(new_entries)]\n",
    "    )\n",
    "    return _cache_constant2epsilon"
   ]
  },
  {
   "cell_type": "code",
   "execution_count": 43,
   "id": "83ca59c9-dcd2-436a-89dc-d8d7b57a12af",
   "metadata": {},
   "outputs": [],
   "source": [
    "cache = np.array([], dtype=np.float64)"
   ]
  },
  {
   "cell_type": "code",
   "execution_count": 44,
   "id": "8dfb592b-df9c-4820-b989-5b6504a83561",
   "metadata": {},
   "outputs": [
    {
     "name": "stderr",
     "output_type": "stream",
     "text": [
      "  0%|                                                                                                                                                              | 0/300000 [00:00<?, ?it/s]/home/ruchi/anaconda3/envs/syft_env/lib/python3.9/site-packages/scipy/optimize/_optimize.py:2782: RuntimeWarning: invalid value encountered in double_scalars\n",
      "  w = xb - ((xb - xc) * tmp2 - (xb - xa) * tmp1) / denom\n",
      "100%|███████████████████████████████████████████████████████████████████████████████████████████████████████████████████████████████████████████████| 300000/300000 [01:17<00:00, 3857.95it/s]\n"
     ]
    }
   ],
   "source": [
    "cache = _increase_max_cache(300_000, _cache_constant2epsilon=cache)"
   ]
  },
  {
   "cell_type": "code",
   "execution_count": 45,
   "id": "47406bf6-026d-4071-8335-4a89f0830846",
   "metadata": {},
   "outputs": [
    {
     "data": {
      "text/plain": [
       "(300000,)"
      ]
     },
     "execution_count": 45,
     "metadata": {},
     "output_type": "execute_result"
    }
   ],
   "source": [
    "cache.shape"
   ]
  },
  {
   "cell_type": "code",
   "execution_count": 47,
   "id": "7a4013f6-16b6-43c6-ab98-140f99e37c91",
   "metadata": {},
   "outputs": [
    {
     "data": {
      "text/plain": [
       "62.28307625241597"
      ]
     },
     "execution_count": 47,
     "metadata": {},
     "output_type": "execute_result"
    }
   ],
   "source": [
    "cache[25]"
   ]
  },
  {
   "cell_type": "code",
   "execution_count": 48,
   "id": "259271ef-7e1c-4c60-becc-c6bcfe8a6573",
   "metadata": {},
   "outputs": [
    {
     "data": {
      "text/plain": [
       "21047.678272683446"
      ]
     },
     "execution_count": 48,
     "metadata": {},
     "output_type": "execute_result"
    }
   ],
   "source": [
    "cache[20_000]"
   ]
  },
  {
   "cell_type": "code",
   "execution_count": 49,
   "id": "63b11af7-6863-4e2f-aed5-5fa0c4b565a4",
   "metadata": {},
   "outputs": [
    {
     "name": "stdout",
     "output_type": "stream",
     "text": [
      "0.45233607292175293\n"
     ]
    }
   ],
   "source": [
    "from time import time\n",
    "\n",
    "t0 = time()\n",
    "np.savetxt(\"cache300k.txt\", cache)\n",
    "tf = time() - t0\n",
    "print(tf)"
   ]
  },
  {
   "cell_type": "code",
   "execution_count": 50,
   "id": "ac5d7f17-9281-4938-8b36-36270acfeae9",
   "metadata": {},
   "outputs": [
    {
     "name": "stdout",
     "output_type": "stream",
     "text": [
      "0.34182310104370117\n"
     ]
    }
   ],
   "source": [
    "t0 = time()\n",
    "restored_cache = np.loadtxt(\"cache300k.txt\")\n",
    "tf = time() - t0\n",
    "print(tf)"
   ]
  },
  {
   "cell_type": "code",
   "execution_count": 51,
   "id": "a2fa189a-b259-468f-86eb-3dec85c7b316",
   "metadata": {},
   "outputs": [
    {
     "data": {
      "text/plain": [
       "dtype('float64')"
      ]
     },
     "execution_count": 51,
     "metadata": {},
     "output_type": "execute_result"
    }
   ],
   "source": [
    "restored_cache.dtype"
   ]
  },
  {
   "cell_type": "code",
   "execution_count": 14,
   "id": "ff47fd37-e9f2-4c9a-bf69-af08d7121add",
   "metadata": {},
   "outputs": [
    {
     "data": {
      "text/plain": [
       "(4.508496357814772, 7.766216625311721)"
      ]
     },
     "execution_count": 14,
     "metadata": {},
     "output_type": "execute_result"
    }
   ],
   "source": [
    "_get_optimal_alpha_for_constant(constant=1)"
   ]
  },
  {
   "cell_type": "code",
   "execution_count": null,
   "id": "2d178ddb-69e5-4d86-853e-40bcb6443bcd",
   "metadata": {},
   "outputs": [],
   "source": []
  },
  {
   "cell_type": "code",
   "execution_count": 37,
   "id": "5e1a63b8-8063-4ff3-9f8c-75344b8a1dd3",
   "metadata": {},
   "outputs": [],
   "source": [
    "recreated_cache = np.loadtxt(\"cache1000.txt\", dtype=float)"
   ]
  },
  {
   "cell_type": "code",
   "execution_count": 39,
   "id": "5c7f9909-a7f4-4b33-a5d3-7a221a769498",
   "metadata": {},
   "outputs": [
    {
     "data": {
      "text/plain": [
       "True"
      ]
     },
     "execution_count": 39,
     "metadata": {},
     "output_type": "execute_result"
    }
   ],
   "source": [
    "(recreated_cache == cache).all()"
   ]
  },
  {
   "cell_type": "code",
   "execution_count": 15,
   "id": "430aa682-d0ef-4c44-a220-5a8e04f9883c",
   "metadata": {},
   "outputs": [],
   "source": [
    "sigma = 1e5\n",
    "rdp_constant = np.square(25000 - 500)/(2* (sigma**2))"
   ]
  },
  {
   "cell_type": "code",
   "execution_count": 16,
   "id": "495d84be-5af4-4b72-896f-ca4948902527",
   "metadata": {},
   "outputs": [
    {
     "data": {
      "text/plain": [
       "0.0300125"
      ]
     },
     "execution_count": 16,
     "metadata": {},
     "output_type": "execute_result"
    }
   ],
   "source": [
    "rdp_constant"
   ]
  },
  {
   "cell_type": "code",
   "execution_count": 17,
   "id": "3a09499f-4350-4a98-a3fe-611ed3267d1a",
   "metadata": {},
   "outputs": [
    {
     "name": "stderr",
     "output_type": "stream",
     "text": [
      "/home/ruchi/anaconda3/envs/syft_env/lib/python3.9/site-packages/scipy/optimize/_optimize.py:2782: RuntimeWarning: invalid value encountered in double_scalars\n",
      "  w = xb - ((xb - xc) * tmp2 - (xb - xa) * tmp1) / denom\n"
     ]
    },
    {
     "data": {
      "text/plain": [
       "(19.987619840572194, 1.1184184678426403)"
      ]
     },
     "execution_count": 17,
     "metadata": {},
     "output_type": "execute_result"
    }
   ],
   "source": [
    "_get_optimal_alpha_for_constant(constant=rdp_constant)"
   ]
  },
  {
   "cell_type": "code",
   "execution_count": 21,
   "id": "092445c7-077b-43d7-aa8a-9067edbd145a",
   "metadata": {},
   "outputs": [
    {
     "data": {
      "text/plain": [
       "1.8528125e-08"
      ]
     },
     "execution_count": 21,
     "metadata": {},
     "output_type": "execute_result"
    }
   ],
   "source": [
    "# for 1B\n",
    "scale=1\n",
    "min_val=750_000/scale \n",
    "max_val=20_000_000/scale\n",
    "sigma_1b = 1e11\n",
    "\n",
    "rdp_constant_1b = np.square(max_val-min_val)/(2*(sigma_1b**2))\n",
    "rdp_constant_1b"
   ]
  },
  {
   "cell_type": "code",
   "execution_count": null,
   "id": "7169b7ba-1239-46ac-8bd8-dd4e51bda122",
   "metadata": {},
   "outputs": [],
   "source": []
  }
 ],
 "metadata": {
  "kernelspec": {
   "display_name": "Python 3 (ipykernel)",
   "language": "python",
   "name": "python3"
  },
  "language_info": {
   "codemirror_mode": {
    "name": "ipython",
    "version": 3
   },
   "file_extension": ".py",
   "mimetype": "text/x-python",
   "name": "python",
   "nbconvert_exporter": "python",
   "pygments_lexer": "ipython3",
   "version": "3.9.7"
  }
 },
 "nbformat": 4,
 "nbformat_minor": 5
}

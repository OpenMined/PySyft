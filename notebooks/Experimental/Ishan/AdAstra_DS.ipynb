{
 "cells": [
  {
   "cell_type": "markdown",
   "id": "15966b1d-f572-470f-854f-31e28614036d",
   "metadata": {},
   "source": [
    "# Medical Federated Learning Program- Data Science\n",
    "\n",
    "Welcome!\n",
    "At this point you have:\n",
    "- Deployed a domain node using a `hagrid launch` command\n",
    "- Annotated a dataset:"
   ]
  },
  {
   "cell_type": "code",
   "execution_count": 26,
   "id": "c6a2520f-683c-4622-b27d-bc2503d60342",
   "metadata": {},
   "outputs": [],
   "source": [
    "import syft as sy\n",
    "import numpy as np\n",
    "\n",
    "# Let's say this is our raw, private data:\n",
    "data = np.array([1,2,3,4])\n",
    "\n",
    "# These are the IDs of who it belongs to:\n",
    "patients = np.array([901, 902, 903, 904])\n",
    "\n",
    "# We add metadata\n",
    "dataset = sy.Tensor(data).private(\n",
    "    min_val=0, \n",
    "    max_val=5, \n",
    "    data_subjects=patients\n",
    ")"
   ]
  },
  {
   "cell_type": "markdown",
   "id": "f1bb6a4a-b330-472f-9a2d-4891d3529d73",
   "metadata": {},
   "source": [
    "- Uploaded this annotated dataset to the domain node"
   ]
  },
  {
   "cell_type": "code",
   "execution_count": null,
   "id": "ebd795b9-a765-4aad-ac8d-c090c023956e",
   "metadata": {},
   "outputs": [],
   "source": [
    "# We log on to a domain node:\n",
    "domain_node = sy.login(email=\"info@openmined.org\", password=\"changethis\", port=8081)\n",
    "\n",
    "domain_node.load_dataset(\n",
    "    assets={\"data\": x},\n",
    "    name=\"Example data\",\n",
    "    description=\"For illustrative purposes only\"\n",
    ")"
   ]
  },
  {
   "cell_type": "markdown",
   "id": "6c790a30-0168-4a61-a5c8-d9272c821ad2",
   "metadata": {},
   "source": [
    "- Connected this domain node to a Network node\n",
    "- And created a Data Scientist account!"
   ]
  },
  {
   "cell_type": "code",
   "execution_count": null,
   "id": "e31e6622-f8f4-4703-b288-34c44361dbc6",
   "metadata": {},
   "outputs": [],
   "source": [
    "domain_node.create_user(\n",
    "    name=\"Sam Carter\",\n",
    "    email=\"sam@stargate.net\",\n",
    "    password=\"changethis\",\n",
    "    budget=9999\n",
    ")"
   ]
  },
  {
   "cell_type": "markdown",
   "id": "ba65dfb0-cbbe-423e-ba34-af49f45a70b5",
   "metadata": {},
   "source": [
    "In this notebook, we'll be demonstrating the basic building blocks that enable a data scientist to use this data, while preserving the privacy, security and integrity of the data you uploaded to your domain node.\n",
    "\n",
    "Now let's walk through how a data scientist would go about using this data, and this infrastructure!"
   ]
  },
  {
   "cell_type": "markdown",
   "id": "0d8b3edd-5d0a-49da-bb38-a0edda167109",
   "metadata": {},
   "source": [
    "## Accessing data you don't have: Introducing Tensor Pointers\n",
    "\n",
    "The raw, private data that you uploaded to your domain node never leaves your domain node.\n",
    "How then do data scientists work with it? The answer is called a **Tensor Pointer.**"
   ]
  },
  {
   "cell_type": "code",
   "execution_count": null,
   "id": "e05e26df-1de5-4c18-9f4e-d55ab749cf85",
   "metadata": {},
   "outputs": [],
   "source": []
  },
  {
   "cell_type": "markdown",
   "id": "b4cb7762-fd24-4b9f-9e04-6c6a68588b3b",
   "metadata": {},
   "source": [
    "## Working with data you don't have: Remote Procedure Calls\n",
    "\n",
    "So now we know that **Tensor Pointers** let you access data on another domain node without having to make a copy of it.\n",
    "But this is only half the story; afterall, we don't just want to access data, we want to *work with it!* How do we do that?\n",
    "\n",
    "The answer is something called **Remote Procedure Calls**. Let's start with our tensor pointer:"
   ]
  },
  {
   "cell_type": "code",
   "execution_count": null,
   "id": "15971c8d-992f-43e9-af23-92c66b5b9d78",
   "metadata": {},
   "outputs": [],
   "source": []
  },
  {
   "cell_type": "markdown",
   "id": "849ecfea-7550-496e-899b-81af1c75dfa7",
   "metadata": {},
   "source": [
    "## Getting results you can see: Differential Privacy\n",
    "\n",
    "To recap: we now know that **Tensor Pointers** give a data scientist the ability to work on data (using **Remote Procedure Calls**) without physically having it on their device!\n",
    "\n",
    "Now let's say you've done your analysis. How do you actually get results? And how do we make sure the data scientist seeing the results of their analysis doesn't invade or violate anyone's privacy?\n",
    "\n",
    "The answer lies in something called **Differential Privacy**."
   ]
  },
  {
   "cell_type": "code",
   "execution_count": null,
   "id": "7c210323-eadd-428e-a2e9-b56bac9a6f83",
   "metadata": {},
   "outputs": [],
   "source": [
    "domain_node.privacy_budget"
   ]
  },
  {
   "cell_type": "code",
   "execution_count": null,
   "id": "7e1d67a3-c18c-4380-8da9-c12a555589f4",
   "metadata": {},
   "outputs": [],
   "source": [
    "# .get()"
   ]
  },
  {
   "cell_type": "code",
   "execution_count": null,
   "id": "57796128-72b7-43e9-97c6-8fb19cae53a0",
   "metadata": {},
   "outputs": [],
   "source": [
    "# .publish()"
   ]
  },
  {
   "cell_type": "markdown",
   "id": "a960cfc8-6e56-45a5-8eeb-27ae707eb934",
   "metadata": {},
   "source": [
    "## Finding data you don't have: Network Nodes\n",
    "\n"
   ]
  },
  {
   "cell_type": "code",
   "execution_count": null,
   "id": "eeca1d91-a8fa-40ed-a35d-186df97f5a44",
   "metadata": {},
   "outputs": [],
   "source": []
  },
  {
   "cell_type": "markdown",
   "id": "28fb031b-a68d-45cc-8cb3-b4fee5bd444c",
   "metadata": {},
   "source": [
    "## Combining data from many nodes: Secure Multiparty Computation\n",
    "\n",
    "Okay- so we used a Tensor Pointer, used its remote procedure calls to conduct an experiment, and got the result by spending some privacy budget.\n",
    "That sounds great- but do you have to do this, one by one, for every domain node you want to work with? Or is there any way you can use data from multiple domain nodes?\n",
    "\n",
    "The answer is something called **Secure Multiparty Computation**."
   ]
  },
  {
   "cell_type": "code",
   "execution_count": null,
   "id": "0cab6eba-4859-4ba4-bf65-73f6ba69ba38",
   "metadata": {},
   "outputs": [],
   "source": []
  },
  {
   "cell_type": "markdown",
   "id": "e5374ff9-e3cd-4d74-9ea7-2b50a396347d",
   "metadata": {},
   "source": [
    "## Everything combined: PySyft illustration\n",
    "\n"
   ]
  },
  {
   "cell_type": "code",
   "execution_count": null,
   "id": "e873411e-c464-49e7-ac63-752571578b37",
   "metadata": {},
   "outputs": [],
   "source": []
  }
 ],
 "metadata": {
  "kernelspec": {
   "display_name": "Hagrid",
   "language": "python",
   "name": "hagrid"
  },
  "language_info": {
   "codemirror_mode": {
    "name": "ipython",
    "version": 3
   },
   "file_extension": ".py",
   "mimetype": "text/x-python",
   "name": "python",
   "nbconvert_exporter": "python",
   "pygments_lexer": "ipython3",
   "version": "3.8.10"
  }
 },
 "nbformat": 4,
 "nbformat_minor": 5
}

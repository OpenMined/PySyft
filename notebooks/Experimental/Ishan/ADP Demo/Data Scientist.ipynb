{
 "cells": [
  {
   "cell_type": "markdown",
   "id": "390e57f3",
   "metadata": {},
   "source": [
    "### Trade Demo\n",
    "\n",
    "#### Goals:\n",
    "- Login to the Canada domain.\n",
    "- Select the dataset.\n",
    "- Cacluate the sum of total of good imported to Egypt.\n",
    "- Publish the result\n",
    "- Download the results"
   ]
  },
  {
   "cell_type": "markdown",
   "id": "61b3dd4a",
   "metadata": {},
   "source": [
    "### Step 1: Login into the Canada domain"
   ]
  },
  {
   "cell_type": "code",
   "execution_count": 1,
   "id": "3e32d5e0",
   "metadata": {},
   "outputs": [],
   "source": [
    "%load_ext autoreload\n",
    "%autoreload 2"
   ]
  },
  {
   "cell_type": "code",
   "execution_count": 2,
   "id": "dbcce57a",
   "metadata": {
    "scrolled": true
   },
   "outputs": [
    {
     "name": "stdout",
     "output_type": "stream",
     "text": [
      "Connecting to http://localhost:8081... done! \t Logging into adp... done!\n"
     ]
    }
   ],
   "source": [
    "# As a Data Scientist we want to perform some analysis on the trade dataset available on the Canada domain.\n",
    "# Our goal is to calculate the sum total of the goods imported (imports + re-imports) to Egypt\n",
    "\n",
    "import syft as sy\n",
    "\n",
    "# Let's login into the canada domain\n",
    "canada_domain_node = sy.login(email=\"sheldon@caltech.edu\", password=\"bazinga\", port=8081)"
   ]
  },
  {
   "cell_type": "markdown",
   "id": "72d92c1b",
   "metadata": {},
   "source": [
    "### Step 2: Select the dataset"
   ]
  },
  {
   "cell_type": "code",
   "execution_count": 3,
   "id": "66714cf0",
   "metadata": {
    "scrolled": true
   },
   "outputs": [
    {
     "data": {
      "text/plain": [
       "<bound method RequestAPI.pandas of <syft.core.node.common.client_manager.dataset_api.DatasetRequestAPI object at 0x147780850>>"
      ]
     },
     "execution_count": 3,
     "metadata": {},
     "output_type": "execute_result"
    }
   ],
   "source": [
    "# Awesome !!! We're logged into the domain node\n",
    "# Let's quickly list all the datasets available on the Canada domain\n",
    "\n",
    "canada_domain_node.datasets.pandas"
   ]
  },
  {
   "cell_type": "code",
   "execution_count": 4,
   "id": "eac1bd20-1314-4efb-8a3b-b395f909f336",
   "metadata": {},
   "outputs": [
    {
     "data": {
      "text/html": [
       "<div>\n",
       "<style scoped>\n",
       "    .dataframe tbody tr th:only-of-type {\n",
       "        vertical-align: middle;\n",
       "    }\n",
       "\n",
       "    .dataframe tbody tr th {\n",
       "        vertical-align: top;\n",
       "    }\n",
       "\n",
       "    .dataframe thead th {\n",
       "        text-align: right;\n",
       "    }\n",
       "</style>\n",
       "<table border=\"1\" class=\"dataframe\">\n",
       "  <thead>\n",
       "    <tr style=\"text-align: right;\">\n",
       "      <th></th>\n",
       "      <th>ID</th>\n",
       "      <th>Tags</th>\n",
       "      <th>Description</th>\n",
       "      <th>object_type</th>\n",
       "    </tr>\n",
       "  </thead>\n",
       "  <tbody>\n",
       "    <tr>\n",
       "      <th>0</th>\n",
       "      <td>&lt;UID: e8b9b611a06b40b9bb2e590f4dac56f1&gt;</td>\n",
       "      <td>[#feb2020]</td>\n",
       "      <td></td>\n",
       "      <td>&lt;class 'syft.core.tensor.tensor.Tensor'&gt;</td>\n",
       "    </tr>\n",
       "    <tr>\n",
       "      <th>1</th>\n",
       "      <td>&lt;UID: 2185cb8c86a34a08987792104b1cb939&gt;</td>\n",
       "      <td>[]</td>\n",
       "      <td></td>\n",
       "      <td>&lt;class 'syft.lib.python.Int'&gt;</td>\n",
       "    </tr>\n",
       "    <tr>\n",
       "      <th>2</th>\n",
       "      <td>&lt;UID: 41dc5e2a20f3410784d4562ea01c050e&gt;</td>\n",
       "      <td>[]</td>\n",
       "      <td></td>\n",
       "      <td>&lt;class 'syft.lib.python.Int'&gt;</td>\n",
       "    </tr>\n",
       "    <tr>\n",
       "      <th>3</th>\n",
       "      <td>&lt;UID: 180039236ce24f4d9abb65a837bba092&gt;</td>\n",
       "      <td>[]</td>\n",
       "      <td></td>\n",
       "      <td>&lt;class 'syft.lib.python.Int'&gt;</td>\n",
       "    </tr>\n",
       "    <tr>\n",
       "      <th>4</th>\n",
       "      <td>&lt;UID: 3c9934f1154a499e921fd76262ebd792&gt;</td>\n",
       "      <td>[]</td>\n",
       "      <td></td>\n",
       "      <td>&lt;class 'syft.lib.python.Int'&gt;</td>\n",
       "    </tr>\n",
       "    <tr>\n",
       "      <th>...</th>\n",
       "      <td>...</td>\n",
       "      <td>...</td>\n",
       "      <td>...</td>\n",
       "      <td>...</td>\n",
       "    </tr>\n",
       "    <tr>\n",
       "      <th>115</th>\n",
       "      <td>&lt;UID: 284b3d680e9e45c1893550ad314c3bfb&gt;</td>\n",
       "      <td>[]</td>\n",
       "      <td></td>\n",
       "      <td>&lt;class 'syft.lib.python.Float'&gt;</td>\n",
       "    </tr>\n",
       "    <tr>\n",
       "      <th>117</th>\n",
       "      <th>118</th>\n",
       "      <td>&lt;UID: d725354714b644deb9b1b61ac18315ee&gt;</td>\n",
       "      <td>[]</td>\n",
       "      <td></td>\n",
       "      <td>&lt;class 'syft.lib.python.Int'&gt;</td>\n",
       "    </tr>\n",
       "    <tr>\n",
       "      <th>119</th>\n",
       "<p>120 rows × 4 columns</p>\n",
       "</div>"
      ],
      "text/plain": [
       "                                          ID        Tags Description  \\\n",
       "0    <UID: e8b9b611a06b40b9bb2e590f4dac56f1>  [#feb2020]               \n",
       "1    <UID: 2185cb8c86a34a08987792104b1cb939>          []               \n",
       "2    <UID: 41dc5e2a20f3410784d4562ea01c050e>          []               \n",
       "3    <UID: 180039236ce24f4d9abb65a837bba092>          []               \n",
       "4    <UID: 3c9934f1154a499e921fd76262ebd792>          []               \n",
       "..                                       ...         ...         ...   \n",
       "151  <UID: 284b3d680e9e45c1893550ad314c3bfb>          []               \n",
       "152  <UID: e449cfdb8aaf4ff7b264388c4bb996b0>          []               \n",
       "153  <UID: df0b99fb59c741f2bb7b35707b95915e>          []               \n",
       "154  <UID: d725354714b644deb9b1b61ac18315ee>          []               \n",
       "155  <UID: bdf082f019054b1f9658c5eb7ac28350>          []               \n",
       "\n",
       "                                  object_type  \n",
       "0    <class 'syft.core.tensor.tensor.Tensor'>  \n",
       "1               <class 'syft.lib.python.Int'>  \n",
       "2               <class 'syft.lib.python.Int'>  \n",
       "3               <class 'syft.lib.python.Int'>  \n",
       "4               <class 'syft.lib.python.Int'>  \n",
       "..                                        ...  \n",
       "115           <class 'syft.lib.python.Float'>  \n",
       "116           <class 'syft.lib.python.Tuple'>  \n",
       "117           <class 'syft.lib.python.Tuple'>  \n",
       "118             <class 'syft.lib.python.Int'>  \n",
       "119             <class 'syft.lib.python.Int'>  \n",
       "\n",
       "[120 rows x 4 columns]"
      ]
     },
     "execution_count": 4,
     "metadata": {},
     "output_type": "execute_result"
    }
   ],
   "source": [
    "canada_domain_node.store.pandas"
   ]
  },
  {
   "cell_type": "code",
   "execution_count": 5,
   "id": "9725c1f6",
   "metadata": {},
   "outputs": [],
   "source": [
    "feb2020 = canada_domain_node.store[0]\n",
    "\n",
    "# Alternatively, select the from the dataset\n",
    "# feb2020 = canada_domain_node.datasets[0]\n",
    "# feb2020.tags"
   ]
  },
  {
   "cell_type": "code",
   "execution_count": 6,
   "id": "04a33945",
   "metadata": {},
   "outputs": [],
   "source": [
    "# Let's try to get the whole dataset itself.\n",
    "feb2020.request(reason=\"Access whole dataset\")"
   ]
  },
  {
   "cell_type": "markdown",
   "id": "d62b4dd0-dcb8-47ba-a50d-1f50b7972922",
   "metadata": {},
   "source": [
    "#### STOP: Return to Data Owner-Canada.ipynb - STEP 8!!\n",
    "\n",
    "### Step 3: Try to download the whole dataset"
   ]
  },
  {
   "cell_type": "code",
   "execution_count": 7,
   "id": "faa69f06",
   "metadata": {
    "scrolled": true
   },
   "outputs": [
    {
     "name": "stderr",
     "output_type": "stream",
     "text": [
      "[2021-08-12T17:01:38.942919-0400][CRITICAL][logger]][46552] You do not have permission to .get() Object with ID: <UID: e8b9b611a06b40b9bb2e590f4dac56f1>Please submit a request.\n"
     ]
    },
    {
     "ename": "AuthorizationException",
     "evalue": "You do not have permission to .get() Object with ID: <UID: e8b9b611a06b40b9bb2e590f4dac56f1>Please submit a request.",
     "output_type": "error",
     "traceback": [
      "\u001b[0;31m---------------------------------------------------------------------------\u001b[0m",
      "\u001b[0;31mAuthorizationException\u001b[0m                    Traceback (most recent call last)",
      "\u001b[0;32m/var/folders/cs/tql716257t32sb3kr5r9rbkc0000gn/T/ipykernel_46552/3296371836.py\u001b[0m in \u001b[0;36m<module>\u001b[0;34m\u001b[0m\n\u001b[1;32m      1\u001b[0m \u001b[0;31m# Let's see if our request was accepted\u001b[0m\u001b[0;34m\u001b[0m\u001b[0;34m\u001b[0m\u001b[0;34m\u001b[0m\u001b[0m\n\u001b[0;32m----> 2\u001b[0;31m \u001b[0mfeb2020\u001b[0m\u001b[0;34m.\u001b[0m\u001b[0mget\u001b[0m\u001b[0;34m(\u001b[0m\u001b[0;34m)\u001b[0m\u001b[0;34m\u001b[0m\u001b[0;34m\u001b[0m\u001b[0m\n\u001b[0m",
      "\u001b[0;32m~/PycharmProjects/PySyft/packages/syft/src/syft/core/pointer/pointer.py\u001b[0m in \u001b[0;36mget\u001b[0;34m(self, request_block, timeout_secs, reason, delete_obj, verbose)\u001b[0m\n\u001b[1;32m    306\u001b[0m \u001b[0;34m\u001b[0m\u001b[0m\n\u001b[1;32m    307\u001b[0m         \u001b[0;32mif\u001b[0m \u001b[0;32mnot\u001b[0m \u001b[0mrequest_block\u001b[0m\u001b[0;34m:\u001b[0m\u001b[0;34m\u001b[0m\u001b[0;34m\u001b[0m\u001b[0m\n\u001b[0;32m--> 308\u001b[0;31m             \u001b[0mresult\u001b[0m \u001b[0;34m=\u001b[0m \u001b[0mself\u001b[0m\u001b[0;34m.\u001b[0m\u001b[0m_get\u001b[0m\u001b[0;34m(\u001b[0m\u001b[0mdelete_obj\u001b[0m\u001b[0;34m=\u001b[0m\u001b[0mdelete_obj\u001b[0m\u001b[0;34m,\u001b[0m \u001b[0mverbose\u001b[0m\u001b[0;34m=\u001b[0m\u001b[0mverbose\u001b[0m\u001b[0;34m)\u001b[0m\u001b[0;34m\u001b[0m\u001b[0;34m\u001b[0m\u001b[0m\n\u001b[0m\u001b[1;32m    309\u001b[0m         \u001b[0;32melse\u001b[0m\u001b[0;34m:\u001b[0m\u001b[0;34m\u001b[0m\u001b[0;34m\u001b[0m\u001b[0m\n\u001b[1;32m    310\u001b[0m             response_status = self.request(\n",
      "\u001b[0;32m~/PycharmProjects/PySyft/packages/syft/src/syft/core/pointer/pointer.py\u001b[0m in \u001b[0;36m_get\u001b[0;34m(self, delete_obj, verbose)\u001b[0m\n\u001b[1;32m    178\u001b[0m         )\n\u001b[1;32m    179\u001b[0m \u001b[0;34m\u001b[0m\u001b[0m\n\u001b[0;32m--> 180\u001b[0;31m         \u001b[0mobj\u001b[0m \u001b[0;34m=\u001b[0m \u001b[0mself\u001b[0m\u001b[0;34m.\u001b[0m\u001b[0mclient\u001b[0m\u001b[0;34m.\u001b[0m\u001b[0msend_immediate_msg_with_reply\u001b[0m\u001b[0;34m(\u001b[0m\u001b[0mmsg\u001b[0m\u001b[0;34m=\u001b[0m\u001b[0mobj_msg\u001b[0m\u001b[0;34m)\u001b[0m\u001b[0;34m.\u001b[0m\u001b[0mdata\u001b[0m\u001b[0;34m\u001b[0m\u001b[0;34m\u001b[0m\u001b[0m\n\u001b[0m\u001b[1;32m    181\u001b[0m         \u001b[0;32mif\u001b[0m \u001b[0mself\u001b[0m\u001b[0;34m.\u001b[0m\u001b[0mis_enum\u001b[0m\u001b[0;34m:\u001b[0m\u001b[0;34m\u001b[0m\u001b[0;34m\u001b[0m\u001b[0m\n\u001b[1;32m    182\u001b[0m             \u001b[0menum_class\u001b[0m \u001b[0;34m=\u001b[0m \u001b[0mself\u001b[0m\u001b[0;34m.\u001b[0m\u001b[0mclient\u001b[0m\u001b[0;34m.\u001b[0m\u001b[0mlib_ast\u001b[0m\u001b[0;34m.\u001b[0m\u001b[0mquery\u001b[0m\u001b[0;34m(\u001b[0m\u001b[0mself\u001b[0m\u001b[0;34m.\u001b[0m\u001b[0mpath_and_name\u001b[0m\u001b[0;34m)\u001b[0m\u001b[0;34m.\u001b[0m\u001b[0mobject_ref\u001b[0m\u001b[0;34m\u001b[0m\u001b[0;34m\u001b[0m\u001b[0m\n",
      "\u001b[0;32m~/PycharmProjects/PySyft/packages/syft/src/syft/core/node/common/client.py\u001b[0m in \u001b[0;36msend_immediate_msg_with_reply\u001b[0;34m(self, msg, route_index)\u001b[0m\n\u001b[1;32m    241\u001b[0m                 \u001b[0mexception\u001b[0m \u001b[0;34m=\u001b[0m \u001b[0mexception_msg\u001b[0m\u001b[0;34m.\u001b[0m\u001b[0mexception_type\u001b[0m\u001b[0;34m(\u001b[0m\u001b[0mexception_msg\u001b[0m\u001b[0;34m.\u001b[0m\u001b[0mexception_msg\u001b[0m\u001b[0;34m)\u001b[0m\u001b[0;34m\u001b[0m\u001b[0;34m\u001b[0m\u001b[0m\n\u001b[1;32m    242\u001b[0m                 \u001b[0merror\u001b[0m\u001b[0;34m(\u001b[0m\u001b[0mstr\u001b[0m\u001b[0;34m(\u001b[0m\u001b[0mexception\u001b[0m\u001b[0;34m)\u001b[0m\u001b[0;34m)\u001b[0m\u001b[0;34m\u001b[0m\u001b[0;34m\u001b[0m\u001b[0m\n\u001b[0;32m--> 243\u001b[0;31m                 \u001b[0mtraceback_and_raise\u001b[0m\u001b[0;34m(\u001b[0m\u001b[0mexception\u001b[0m\u001b[0;34m)\u001b[0m\u001b[0;34m\u001b[0m\u001b[0;34m\u001b[0m\u001b[0m\n\u001b[0m\u001b[1;32m    244\u001b[0m             \u001b[0;32melse\u001b[0m\u001b[0;34m:\u001b[0m\u001b[0;34m\u001b[0m\u001b[0;34m\u001b[0m\u001b[0m\n\u001b[1;32m    245\u001b[0m                 \u001b[0;32mreturn\u001b[0m \u001b[0mresponse\u001b[0m\u001b[0;34m.\u001b[0m\u001b[0mmessage\u001b[0m\u001b[0;34m\u001b[0m\u001b[0;34m\u001b[0m\u001b[0m\n",
      "\u001b[0;32m~/PycharmProjects/PySyft/packages/syft/src/syft/logger.py\u001b[0m in \u001b[0;36mtraceback_and_raise\u001b[0;34m(e, verbose)\u001b[0m\n\u001b[1;32m     59\u001b[0m     \u001b[0;32mif\u001b[0m \u001b[0;32mnot\u001b[0m \u001b[0missubclass\u001b[0m\u001b[0;34m(\u001b[0m\u001b[0mtype\u001b[0m\u001b[0;34m(\u001b[0m\u001b[0me\u001b[0m\u001b[0;34m)\u001b[0m\u001b[0;34m,\u001b[0m \u001b[0mException\u001b[0m\u001b[0;34m)\u001b[0m\u001b[0;34m:\u001b[0m\u001b[0;34m\u001b[0m\u001b[0;34m\u001b[0m\u001b[0m\n\u001b[1;32m     60\u001b[0m         \u001b[0me\u001b[0m \u001b[0;34m=\u001b[0m \u001b[0mException\u001b[0m\u001b[0;34m(\u001b[0m\u001b[0me\u001b[0m\u001b[0;34m)\u001b[0m\u001b[0;34m\u001b[0m\u001b[0;34m\u001b[0m\u001b[0m\n\u001b[0;32m---> 61\u001b[0;31m     \u001b[0;32mraise\u001b[0m \u001b[0me\u001b[0m\u001b[0;34m\u001b[0m\u001b[0;34m\u001b[0m\u001b[0m\n\u001b[0m\u001b[1;32m     62\u001b[0m \u001b[0;34m\u001b[0m\u001b[0m\n\u001b[1;32m     63\u001b[0m \u001b[0;34m\u001b[0m\u001b[0m\n",
      "\u001b[0;31mAuthorizationException\u001b[0m: You do not have permission to .get() Object with ID: <UID: e8b9b611a06b40b9bb2e590f4dac56f1>Please submit a request."
     ]
    }
   ],
   "source": [
    "# Let's see if our request was accepted\n",
    "feb2020.get()"
   ]
  },
  {
   "cell_type": "code",
   "execution_count": null,
   "id": "62d5192b",
   "metadata": {},
   "outputs": [],
   "source": [
    "# Seems, like the request to download the whole dataset was denied by the Data Owner."
   ]
  },
  {
   "cell_type": "markdown",
   "id": "abc44443-9da4-48a0-a1e4-fa6afe01a0e6",
   "metadata": {},
   "source": [
    "### Step 4: Private - Public Mutiplication"
   ]
  },
  {
   "cell_type": "code",
   "execution_count": 8,
   "id": "c1dac5a9",
   "metadata": {},
   "outputs": [
    {
     "data": {
      "text/plain": [
       "{'Classification': 0,\n",
       " 'Year': 1,\n",
       " 'Period': 2,\n",
       " 'Period Desc.': 3,\n",
       " 'Aggregate Level': 4,\n",
       " 'Is Leaf Code': 5,\n",
       " 'Trade Flow Code': 6,\n",
       " 'Trade Flow': 7,\n",
       " 'Reporter Code': 8,\n",
       " 'Reporter': 9,\n",
       " 'Reporter ISO': 10,\n",
       " 'Partner Code': 11,\n",
       " 'Partner': 12,\n",
       " 'Partner ISO': 13,\n",
       " 'Commodity Code': 14,\n",
       " 'Commodity': 15,\n",
       " 'Qty Unit Code': 16,\n",
       " 'Qty Unit': 17,\n",
       " 'Qty': 18,\n",
       " 'Netweight (kg)': 19,\n",
       " 'Trade Value (US$)': 20,\n",
       " 'Flag': 21}"
      ]
     },
     "execution_count": 8,
     "metadata": {},
     "output_type": "execute_result"
    }
   ],
   "source": [
    "dataset_columns = [\n",
    "    \"Classification\",\n",
    "    \"Year\",\n",
    "    \"Period\",\n",
    "    \"Period Desc.\",\n",
    "    \"Aggregate Level\",\n",
    "    \"Is Leaf Code\",\n",
    "    \"Trade Flow Code\",\n",
    "    \"Trade Flow\",\n",
    "    \"Reporter Code\",\n",
    "    \"Reporter\",\n",
    "    \"Reporter ISO\",\n",
    "    \"Partner Code\",\n",
    "    \"Partner\",\n",
    "    \"Partner ISO\",\n",
    "    \"Commodity Code\",\n",
    "    \"Commodity\",\n",
    "    \"Qty Unit Code\",\n",
    "    \"Qty Unit\",\n",
    "    \"Qty\",\n",
    "    \"Netweight (kg)\",\n",
    "    \"Trade Value (US$)\",\n",
    "    \"Flag\",\n",
    "]\n",
    "\n",
    "# Since the columns are represented by indicies in the private tensor,\n",
    "# let's create a column to index map.\n",
    "column_to_index_map = {c: i for i, c in enumerate(dataset_columns)}\n",
    "column_to_index_map"
   ]
  },
  {
   "cell_type": "code",
   "execution_count": 9,
   "id": "9f5dcafe",
   "metadata": {},
   "outputs": [],
   "source": [
    "# Let's calculate the value of the goods imported from Egypt.\n",
    "# Patner Code for Egypt is : 818\n",
    "partner_code_for_egypt = 818\n",
    "trade_flow_codes_map = {\n",
    "    \"imports\": 1,\n",
    "    \"exports\": 2,\n",
    "    \"re-exports\":3,\n",
    "    \"re-imports\":4,\n",
    "}"
   ]
  },
  {
   "cell_type": "code",
   "execution_count": 10,
   "id": "1d9faf59-0341-477f-8a29-2fe3025afbc9",
   "metadata": {},
   "outputs": [],
   "source": [
    "# Breaking it down\n",
    "partner_codes = feb2020[:, column_to_index_map[\"Partner Code\"]]\n",
    "trade_flow_code = feb2020[:, column_to_index_map[\"Trade Flow Code\"]]\n",
    "\n",
    "egypt_mask = partner_codes == partner_code_for_egypt\n",
    "imports_mask = trade_flow_code == trade_flow_codes_map[\"imports\"]\n",
    "\n"
   ]
  },
  {
   "cell_type": "code",
   "execution_count": 11,
   "id": "5226f35c",
   "metadata": {
    "scrolled": true,
    "tags": []
   },
   "outputs": [],
   "source": [
    "# Let's calculate the good imported from Egypt\n",
    "value_of_goods_imported_from_egypt_mask = egypt_mask * imports_mask"
   ]
  },
  {
   "cell_type": "code",
   "execution_count": 12,
   "id": "cc351052",
   "metadata": {},
   "outputs": [
    {
     "name": "stdout",
     "output_type": "stream",
     "text": [
      "Reimports mask created\n",
      "Trade values selected\n"
     ]
    }
   ],
   "source": [
    "# Let's continue with the analysis remotely.\n",
    "# Let's calculate the value of the goods import from Egypt.\n",
    "\n",
    "value_of_goods_reimported_from_egypt_mask = (\n",
    "    feb2020[:, column_to_index_map[\"Partner Code\"]] == partner_code_for_egypt\n",
    ") * (feb2020[:, column_to_index_map[\"Trade Flow Code\"]] == trade_flow_codes_map[\"re-imports\"])\n",
    "\n",
    "# Selecting Trade values for imports and re-imports (Private - Private Multiplication)\n",
    "value_of_goods_imported_from_egypt = feb2020[:, column_to_index_map[\"Trade Value (US$)\"]] * value_of_goods_imported_from_egypt_mask\n",
    "value_of_goods_reimported_from_egypt = feb2020[:, column_to_index_map[\"Trade Value (US$)\"]] * value_of_goods_reimported_from_egypt_mask\n",
    "\n",
    "# Let's scale the trade value by 1000 - (Private - Public Multiplication)\n",
    "scaled_value_of_goods_imported_from_egypt = value_of_goods_imported_from_egypt * (0.001)\n",
    "scaled_value_of_goods_reimported_from_egypt = value_of_goods_reimported_from_egypt * (0.001)"
   ]
  },
  {
   "cell_type": "markdown",
   "id": "04e10c2d",
   "metadata": {},
   "source": [
    "### Step 5: Private - Private Addition"
   ]
  },
  {
   "cell_type": "code",
   "execution_count": 14,
   "id": "f6057957",
   "metadata": {},
   "outputs": [],
   "source": [
    "# sigma -> Amount of noise added to the response.\n",
    "# Larger the sigma, smaller the budget spent.\n",
    "\n",
    "# Calculating th total imported goods (Private - Private Addition)\n",
    "private_total_imported_goods_value = scaled_value_of_goods_imported_from_egypt + scaled_value_of_goods_reimported_from_egypt\n",
    "private_total_imported_goods_value = private_total_imported_goods_value.sum()"
   ]
  },
  {
   "cell_type": "code",
   "execution_count": 17,
   "id": "4512f0c7-c1c9-4f34-ba90-8f1279c481d5",
   "metadata": {},
   "outputs": [
    {
     "name": "stdout",
     "output_type": "stream",
     "text": [
      "a\n",
      "b\n",
      "c\n",
      "d\n"
     ]
    }
   ],
   "source": [
    "public_total_imported_goods_value = private_total_imported_goods_value.publish(client=canada_domain_node ,sigma=1.0)"
   ]
  },
  {
   "cell_type": "code",
   "execution_count": 47,
   "id": "e3225816-34c0-42c7-8585-c15b548ae73d",
   "metadata": {},
   "outputs": [
    {
     "name": "stdout",
     "output_type": "stream",
     "text": [
      "<UID: 24a84c342cd941b597e179735b4b74f6>\n",
      "<UID: d1f4dbfc126b448b8fb4fce97824b4bc>\n"
     ]
    }
   ],
   "source": [
    "print(private_total_imported_goods_value.id_at_location)\n",
    "print(public_total_imported_goods_value.id_at_location)"
   ]
  },
  {
   "cell_type": "code",
   "execution_count": 55,
   "id": "8a531906-a8a8-4999-9aba-3f25e1251bff",
   "metadata": {},
   "outputs": [
    {
     "name": "stdout",
     "output_type": "stream",
     "text": [
      "`searchable` is deprecated please use `pointable` in future\n"
     ]
    }
   ],
   "source": [
    "private_total_imported_goods_value.update_searchability(pointable=True)"
   ]
  },
  {
   "cell_type": "markdown",
   "id": "513a6e7f-9f37-459b-9369-03154e23a951",
   "metadata": {},
   "source": [
    "### Step 6: Download Results"
   ]
  },
  {
   "cell_type": "code",
   "execution_count": 56,
   "id": "f8725460",
   "metadata": {},
   "outputs": [
    {
     "data": {
      "text/html": [
       "<div>\n",
       "<style scoped>\n",
       "    .dataframe tbody tr th:only-of-type {\n",
       "        vertical-align: middle;\n",
       "    }\n",
       "\n",
       "    .dataframe tbody tr th {\n",
       "        vertical-align: top;\n",
       "    }\n",
       "\n",
       "    .dataframe thead th {\n",
       "        text-align: right;\n",
       "    }\n",
       "</style>\n",
       "<table border=\"1\" class=\"dataframe\">\n",
       "  <thead>\n",
       "    <tr style=\"text-align: right;\">\n",
       "      <th></th>\n",
       "      <th>ID</th>\n",
       "      <th>Tags</th>\n",
       "      <th>Description</th>\n",
       "      <th>object_type</th>\n",
       "    </tr>\n",
       "  </thead>\n",
       "  <tbody>\n",
       "    <tr>\n",
       "      <th>0</th>\n",
       "      <td>&lt;UID: e8b9b611a06b40b9bb2e590f4dac56f1&gt;</td>\n",
       "      <td>[#feb2020]</td>\n",
       "      <td></td>\n",
       "      <td>&lt;class 'syft.core.tensor.tensor.Tensor'&gt;</td>\n",
       "    </tr>\n",
       "    <tr>\n",
       "      <th>1</th>\n",
       "      <td>&lt;UID: 2185cb8c86a34a08987792104b1cb939&gt;</td>\n",
       "      <td>[]</td>\n",
       "      <td></td>\n",
       "      <td>&lt;class 'syft.lib.python.Int'&gt;</td>\n",
       "    </tr>\n",
       "    <tr>\n",
       "      <th>2</th>\n",
       "      <td>&lt;UID: 41dc5e2a20f3410784d4562ea01c050e&gt;</td>\n",
       "      <td>[]</td>\n",
       "      <td></td>\n",
       "      <td>&lt;class 'syft.lib.python.Int'&gt;</td>\n",
       "    </tr>\n",
       "    <tr>\n",
       "      <th>3</th>\n",
       "      <td>&lt;UID: 180039236ce24f4d9abb65a837bba092&gt;</td>\n",
       "      <td>[]</td>\n",
       "      <td></td>\n",
       "      <td>&lt;class 'syft.lib.python.Int'&gt;</td>\n",
       "    </tr>\n",
       "    <tr>\n",
       "      <th>4</th>\n",
       "      <td>&lt;UID: 3c9934f1154a499e921fd76262ebd792&gt;</td>\n",
       "      <td>[]</td>\n",
       "      <td></td>\n",
       "      <td>&lt;class 'syft.lib.python.Int'&gt;</td>\n",
       "    </tr>\n",
       "    <tr>\n",
       "      <th>...</th>\n",
       "      <td>...</td>\n",
       "      <td>...</td>\n",
       "      <td>...</td>\n",
       "      <td>...</td>\n",
       "    </tr>\n",
       "    <tr>\n",
       "      <th>143</th>\n",
       "      <td>&lt;UID: 284b3d680e9e45c1893550ad314c3bfb&gt;</td>\n",
       "      <td>[]</td>\n",
       "      <td></td>\n",
       "      <td>&lt;class 'syft.lib.python.Float'&gt;</td>\n",
       "    </tr>\n",
       "    <tr>\n",
       "      <th>144</th>\n",
       "      <td>&lt;UID: e449cfdb8aaf4ff7b264388c4bb996b0&gt;</td>\n",
       "      <td>[]</td>\n",
       "      <td></td>\n",
       "      <td>&lt;class 'syft.lib.python.Tuple'&gt;</td>\n",
       "    </tr>\n",
       "    <tr>\n",
       "      <th>145</th>\n",
       "      <td>&lt;UID: df0b99fb59c741f2bb7b35707b95915e&gt;</td>\n",
       "      <td>[]</td>\n",
       "      <td></td>\n",
       "      <td>&lt;class 'syft.lib.python.Tuple'&gt;</td>\n",
       "    </tr>\n",
       "    <tr>\n",
       "      <th>146</th>\n",
       "      <td>&lt;UID: d725354714b644deb9b1b61ac18315ee&gt;</td>\n",
       "      <td>[]</td>\n",
       "      <td></td>\n",
       "      <td>&lt;class 'syft.lib.python.Int'&gt;</td>\n",
       "    </tr>\n",
       "    <tr>\n",
       "      <th>147</th>\n",
       "      <td>&lt;UID: bdf082f019054b1f9658c5eb7ac28350&gt;</td>\n",
       "      <td>[]</td>\n",
       "      <td></td>\n",
       "      <td>&lt;class 'syft.lib.python.Int'&gt;</td>\n",
       "    </tr>\n",
       "  </tbody>\n",
       "</table>\n",
       "<p>148 rows × 4 columns</p>\n",
       "</div>"
      ],
      "text/plain": [
       "[<syft.proxy.syft.core.tensor.tensor.TensorPointer object at 0x13e960af0>, <syft.proxy.syft.lib.python.IntPointer object at 0x13e960070>, <syft.proxy.syft.lib.python.IntPointer object at 0x13e960910>, <syft.proxy.syft.lib.python.IntPointer object at 0x13e971a30>, <syft.proxy.syft.lib.python.IntPointer object at 0x13e6d5c10>, <syft.proxy.syft.lib.python.IntPointer object at 0x13e6c2880>, <syft.proxy.syft.lib.python.IntPointer object at 0x13e6c26d0>, <syft.proxy.syft.lib.python.IntPointer object at 0x13e6c2d60>, <syft.proxy.syft.lib.python.IntPointer object at 0x13e6c2e20>, <syft.proxy.syft.lib.python.TuplePointer object at 0x13ce7f9d0>, <syft.proxy.syft.lib.python.IntPointer object at 0x13ce7f4c0>, <syft.proxy.syft.lib.python.IntPointer object at 0x13dfd3550>, <syft.proxy.syft.lib.python.IntPointer object at 0x13dfd31c0>, <syft.proxy.syft.lib.python.IntPointer object at 0x13ce74280>, <syft.proxy.syft.lib.python.IntPointer object at 0x13ce54280>, <syft.proxy.syft.lib.python.IntPointer object at 0x13ce54340>, <syft.proxy.syft.lib.python.IntPointer object at 0x13ce54ac0>, <syft.proxy.syft.lib.python.IntPointer object at 0x13e4507c0>, <syft.proxy.syft.lib.python.IntPointer object at 0x13df46fa0>, <syft.proxy.syft.lib.python.IntPointer object at 0x13e1acbb0>, <syft.proxy.syft.lib.python.IntPointer object at 0x13e1ac850>, <syft.proxy.syft.lib.python.IntPointer object at 0x13e1acac0>, <syft.proxy.syft.lib.python.IntPointer object at 0x13e1acdc0>, <syft.proxy.syft.lib.python.TuplePointer object at 0x13e1b2dc0>, <syft.proxy.syft.lib.python.TuplePointer object at 0x13e1b2730>, <syft.proxy.syft.lib.python.IntPointer object at 0x13e1b2070>, <syft.proxy.syft.lib.python.IntPointer object at 0x13e695490>, <syft.proxy.syft.lib.python.IntPointer object at 0x13e6954c0>, <syft.proxy.syft.lib.python.IntPointer object at 0x13e5a6d90>, <syft.proxy.syft.lib.python.IntPointer object at 0x13e799850>, <syft.proxy.syft.lib.python.IntPointer object at 0x13e799c70>, <syft.proxy.syft.lib.python.IntPointer object at 0x13e799730>, <syft.proxy.syft.lib.python.IntPointer object at 0x13e799cd0>, <syft.proxy.syft.lib.python.TuplePointer object at 0x13e78e550>, <syft.proxy.syft.lib.python.IntPointer object at 0x13e78ebb0>, <syft.proxy.syft.lib.python.TuplePointer object at 0x13e78ed00>, <syft.proxy.syft.lib.python.IntPointer object at 0x13e78e490>, <syft.proxy.syft.lib.python.IntPointer object at 0x13e78e100>, <syft.proxy.syft.lib.python.IntPointer object at 0x13e78e8b0>, <syft.proxy.syft.lib.python.IntPointer object at 0x13e78ea60>, <syft.proxy.syft.lib.python.IntPointer object at 0x13e7a13d0>, <syft.proxy.syft.lib.python.IntPointer object at 0x13e7a11c0>, <syft.proxy.syft.lib.python.IntPointer object at 0x13e7a1730>, <syft.proxy.syft.lib.python.TuplePointer object at 0x13e7a17c0>, <syft.proxy.syft.lib.python.TuplePointer object at 0x13e7a1550>, <syft.proxy.syft.lib.python.IntPointer object at 0x13e7a19a0>, <syft.proxy.syft.lib.python.IntPointer object at 0x13e7080d0>, <syft.proxy.syft.lib.python.IntPointer object at 0x13e7083a0>, <syft.proxy.syft.lib.python.IntPointer object at 0x13e07e700>, <syft.proxy.syft.lib.python.IntPointer object at 0x13e07e1c0>, <syft.proxy.syft.lib.python.IntPointer object at 0x13e07ec10>, <syft.proxy.syft.lib.python.FloatPointer object at 0x13e07e1f0>, <syft.proxy.syft.lib.python.FloatPointer object at 0x13e07e280>, <syft.proxy.syft.lib.python.IntPointer object at 0x13e07e850>, <syft.proxy.syft.lib.python.IntPointer object at 0x13e79fbb0>, <syft.proxy.syft.lib.python.IntPointer object at 0x13e79f280>, <syft.proxy.syft.lib.python.IntPointer object at 0x13e79feb0>, <syft.proxy.syft.lib.python.IntPointer object at 0x13e79f370>, <syft.proxy.syft.lib.python.IntPointer object at 0x13e7a90d0>, <syft.proxy.syft.lib.python.TuplePointer object at 0x13e7a9a90>, <syft.proxy.syft.lib.python.IntPointer object at 0x13e7a9fa0>, <syft.proxy.syft.lib.python.TuplePointer object at 0x13e7a9cd0>, <syft.proxy.syft.lib.python.IntPointer object at 0x13e7a9b80>, <syft.proxy.syft.lib.python.IntPointer object at 0x13e7a9c70>, <syft.proxy.syft.lib.python.IntPointer object at 0x13e1bc5b0>, <syft.proxy.syft.lib.python.IntPointer object at 0x13e1bcbe0>, <syft.proxy.syft.lib.python.IntPointer object at 0x13e1bc310>, <syft.proxy.syft.lib.python.IntPointer object at 0x13e1bccd0>, <syft.proxy.syft.lib.python.IntPointer object at 0x13ce88d90>, <syft.proxy.syft.lib.python.TuplePointer object at 0x13e87dd30>, <syft.proxy.syft.lib.python.TuplePointer object at 0x13ea22040>, <syft.proxy.syft.lib.python.IntPointer object at 0x13e8e1520>, <syft.proxy.syft.lib.python.IntPointer object at 0x13e1c17f0>, <syft.proxy.syft.lib.python.IntPointer object at 0x13e1c1fd0>, <syft.proxy.syft.lib.python.IntPointer object at 0x13e1c1b50>, <syft.proxy.syft.lib.python.IntPointer object at 0x13e1c1310>, <syft.proxy.syft.lib.python.IntPointer object at 0x13e1c1b20>, <syft.proxy.syft.lib.python.FloatPointer object at 0x13e1c1340>, <syft.proxy.syft.lib.python.FloatPointer object at 0x13e96c610>, <syft.proxy.syft.lib.python.IntPointer object at 0x13e95cdf0>, <syft.proxy.syft.lib.python.IntPointer object at 0x13e95c850>, <syft.proxy.syft.lib.python.IntPointer object at 0x13e7959d0>, <syft.proxy.syft.lib.python.IntPointer object at 0x13e795220>, <syft.proxy.syft.lib.python.IntPointer object at 0x13e795df0>, <syft.proxy.syft.lib.python.IntPointer object at 0x13e795a30>, <syft.proxy.syft.lib.python.IntPointer object at 0x13e795850>, <syft.proxy.syft.lib.python.IntPointer object at 0x13e7951f0>, <syft.proxy.syft.lib.python.IntPointer object at 0x13e594b80>, <syft.proxy.syft.lib.python.IntPointer object at 0x13e594610>, <syft.proxy.syft.lib.python.IntPointer object at 0x13e594a90>, <syft.proxy.syft.lib.python.IntPointer object at 0x13e594bb0>, <syft.proxy.syft.lib.python.IntPointer object at 0x13e594910>, <syft.proxy.syft.lib.python.IntPointer object at 0x13e594df0>, <syft.proxy.syft.lib.python.IntPointer object at 0x13e8f0790>, <syft.proxy.syft.lib.python.IntPointer object at 0x13e8f0c10>, <syft.proxy.syft.lib.python.IntPointer object at 0x13e8f0f40>, <syft.proxy.syft.lib.python.IntPointer object at 0x13e8f0a30>, <syft.proxy.syft.lib.python.TuplePointer object at 0x13e8f07c0>, <syft.proxy.syft.lib.python.IntPointer object at 0x13e1c3910>, <syft.proxy.syft.lib.python.TuplePointer object at 0x13e1c3100>, <syft.proxy.syft.lib.python.IntPointer object at 0x13e1c3940>, <syft.proxy.syft.lib.python.IntPointer object at 0x13e1c3e20>, <syft.proxy.syft.lib.python.IntPointer object at 0x13e310fa0>, <syft.proxy.syft.lib.python.IntPointer object at 0x13e3102b0>, <syft.proxy.syft.lib.python.IntPointer object at 0x13e310f40>, <syft.proxy.syft.lib.python.IntPointer object at 0x13e307a90>, <syft.proxy.syft.lib.python.IntPointer object at 0x13e3077c0>, <syft.proxy.syft.lib.python.TuplePointer object at 0x13e3073a0>, <syft.proxy.syft.lib.python.TuplePointer object at 0x13e3071c0>, <syft.proxy.syft.lib.python.IntPointer object at 0x13e33b760>, <syft.proxy.syft.lib.python.IntPointer object at 0x13e33b880>, <syft.proxy.syft.lib.python.IntPointer object at 0x13e33ba60>, <syft.proxy.syft.lib.python.IntPointer object at 0x13e3181c0>, <syft.proxy.syft.lib.python.IntPointer object at 0x13e318520>, <syft.proxy.syft.lib.python.IntPointer object at 0x13e31a130>, <syft.proxy.syft.lib.python.IntPointer object at 0x13e31a6a0>, <syft.proxy.syft.lib.python.IntPointer object at 0x13e31a910>, <syft.proxy.syft.lib.python.IntPointer object at 0x13e882970>, <syft.proxy.syft.lib.python.IntPointer object at 0x13e882430>, <syft.proxy.syft.lib.python.IntPointer object at 0x13e882760>, <syft.proxy.syft.lib.python.IntPointer object at 0x13e8ecc40>, <syft.proxy.syft.lib.python.IntPointer object at 0x13e8ecf10>, <syft.proxy.syft.lib.python.FloatPointer object at 0x13e8ec040>, <syft.proxy.syft.lib.python.FloatPointer object at 0x13e8ec9d0>, <syft.proxy.syft.lib.python.IntPointer object at 0x13ea28dc0>, <syft.proxy.syft.lib.python.TuplePointer object at 0x13eb5bcd0>, <syft.proxy.syft.lib.python.IntPointer object at 0x13e880d90>, <syft.proxy.syft.lib.python.IntPointer object at 0x13e8889a0>, <syft.proxy.syft.lib.python.TuplePointer object at 0x13e888c40>, <syft.proxy.syft.lib.python.TuplePointer object at 0x13e888f40>, <syft.proxy.syft.lib.python.IntPointer object at 0x13e888910>, <syft.proxy.syft.lib.python.IntPointer object at 0x13e8884c0>, <syft.proxy.syft.core.tensor.tensor.TensorPointer object at 0x13e8cd280>, <syft.proxy.syft.lib.python.TuplePointer object at 0x13e8cd040>, <syft.proxy.syft.lib.python.TuplePointer object at 0x13e8cdfd0>, <syft.proxy.syft.lib.python.IntPointer object at 0x13e8d1610>, <syft.proxy.syft.lib.python.IntPointer object at 0x13e8d1a60>, <syft.proxy.syft.lib.python.TuplePointer object at 0x13e8d18e0>, <syft.proxy.syft.lib.python.IntPointer object at 0x13e8dc0a0>, <syft.proxy.syft.lib.python.TuplePointer object at 0x13e8dca00>, <syft.proxy.syft.lib.python.IntPointer object at 0x13e8dc6a0>, <syft.proxy.syft.lib.python.TuplePointer object at 0x13e8dc280>, <syft.proxy.syft.lib.python.TuplePointer object at 0x13e901430>, <syft.proxy.syft.lib.python.FloatPointer object at 0x13e901490>, <syft.proxy.syft.lib.python.TuplePointer object at 0x13e9010a0>, <syft.proxy.syft.lib.python.TuplePointer object at 0x13e8ea940>, <syft.proxy.syft.lib.python.IntPointer object at 0x13e8ea490>, <syft.proxy.syft.lib.python.IntPointer object at 0x13e8ea2e0>]"
      ]
     },
     "execution_count": 56,
     "metadata": {},
     "output_type": "execute_result"
    }
   ],
   "source": [
    "# Let's download the results\n",
    "canada_domain_node.store"
   ]
  },
  {
   "cell_type": "code",
   "execution_count": 16,
   "id": "545a1edd",
   "metadata": {},
   "outputs": [
    {
     "name": "stderr",
     "output_type": "stream",
     "text": [
      "[2021-08-12T17:02:29.530367-0400][CRITICAL][logger]][46552] UnknownPrivateException has been triggered.\n"
     ]
    },
    {
     "ename": "UnknownPrivateException",
     "evalue": "UnknownPrivateException has been triggered.",
     "output_type": "error",
     "traceback": [
      "\u001b[0;31m---------------------------------------------------------------------------\u001b[0m",
      "\u001b[0;31mUnknownPrivateException\u001b[0m                   Traceback (most recent call last)",
      "\u001b[0;32m/var/folders/cs/tql716257t32sb3kr5r9rbkc0000gn/T/ipykernel_46552/189517092.py\u001b[0m in \u001b[0;36m<module>\u001b[0;34m\u001b[0m\n\u001b[0;32m----> 1\u001b[0;31m \u001b[0mtotal_imported_goods_value\u001b[0m \u001b[0;34m=\u001b[0m \u001b[0mpublic_total_imported_goods_value\u001b[0m\u001b[0;34m.\u001b[0m\u001b[0mget\u001b[0m\u001b[0;34m(\u001b[0m\u001b[0;34m)\u001b[0m\u001b[0;34m\u001b[0m\u001b[0;34m\u001b[0m\u001b[0m\n\u001b[0m\u001b[1;32m      2\u001b[0m \u001b[0mprint\u001b[0m\u001b[0;34m(\u001b[0m\u001b[0;34mf\"Total trade value($) of the goods Imported from Egypt to Canada: ${total_imported_goods_value}\"\u001b[0m\u001b[0;34m)\u001b[0m\u001b[0;34m\u001b[0m\u001b[0;34m\u001b[0m\u001b[0m\n",
      "\u001b[0;32m~/PycharmProjects/PySyft/packages/syft/src/syft/core/pointer/pointer.py\u001b[0m in \u001b[0;36mget\u001b[0;34m(self, request_block, timeout_secs, reason, delete_obj, verbose)\u001b[0m\n\u001b[1;32m    306\u001b[0m \u001b[0;34m\u001b[0m\u001b[0m\n\u001b[1;32m    307\u001b[0m         \u001b[0;32mif\u001b[0m \u001b[0;32mnot\u001b[0m \u001b[0mrequest_block\u001b[0m\u001b[0;34m:\u001b[0m\u001b[0;34m\u001b[0m\u001b[0;34m\u001b[0m\u001b[0m\n\u001b[0;32m--> 308\u001b[0;31m             \u001b[0mresult\u001b[0m \u001b[0;34m=\u001b[0m \u001b[0mself\u001b[0m\u001b[0;34m.\u001b[0m\u001b[0m_get\u001b[0m\u001b[0;34m(\u001b[0m\u001b[0mdelete_obj\u001b[0m\u001b[0;34m=\u001b[0m\u001b[0mdelete_obj\u001b[0m\u001b[0;34m,\u001b[0m \u001b[0mverbose\u001b[0m\u001b[0;34m=\u001b[0m\u001b[0mverbose\u001b[0m\u001b[0;34m)\u001b[0m\u001b[0;34m\u001b[0m\u001b[0;34m\u001b[0m\u001b[0m\n\u001b[0m\u001b[1;32m    309\u001b[0m         \u001b[0;32melse\u001b[0m\u001b[0;34m:\u001b[0m\u001b[0;34m\u001b[0m\u001b[0;34m\u001b[0m\u001b[0m\n\u001b[1;32m    310\u001b[0m             response_status = self.request(\n",
      "\u001b[0;32m~/PycharmProjects/PySyft/packages/syft/src/syft/core/pointer/pointer.py\u001b[0m in \u001b[0;36m_get\u001b[0;34m(self, delete_obj, verbose)\u001b[0m\n\u001b[1;32m    178\u001b[0m         )\n\u001b[1;32m    179\u001b[0m \u001b[0;34m\u001b[0m\u001b[0m\n\u001b[0;32m--> 180\u001b[0;31m         \u001b[0mobj\u001b[0m \u001b[0;34m=\u001b[0m \u001b[0mself\u001b[0m\u001b[0;34m.\u001b[0m\u001b[0mclient\u001b[0m\u001b[0;34m.\u001b[0m\u001b[0msend_immediate_msg_with_reply\u001b[0m\u001b[0;34m(\u001b[0m\u001b[0mmsg\u001b[0m\u001b[0;34m=\u001b[0m\u001b[0mobj_msg\u001b[0m\u001b[0;34m)\u001b[0m\u001b[0;34m.\u001b[0m\u001b[0mdata\u001b[0m\u001b[0;34m\u001b[0m\u001b[0;34m\u001b[0m\u001b[0m\n\u001b[0m\u001b[1;32m    181\u001b[0m         \u001b[0;32mif\u001b[0m \u001b[0mself\u001b[0m\u001b[0;34m.\u001b[0m\u001b[0mis_enum\u001b[0m\u001b[0;34m:\u001b[0m\u001b[0;34m\u001b[0m\u001b[0;34m\u001b[0m\u001b[0m\n\u001b[1;32m    182\u001b[0m             \u001b[0menum_class\u001b[0m \u001b[0;34m=\u001b[0m \u001b[0mself\u001b[0m\u001b[0;34m.\u001b[0m\u001b[0mclient\u001b[0m\u001b[0;34m.\u001b[0m\u001b[0mlib_ast\u001b[0m\u001b[0;34m.\u001b[0m\u001b[0mquery\u001b[0m\u001b[0;34m(\u001b[0m\u001b[0mself\u001b[0m\u001b[0;34m.\u001b[0m\u001b[0mpath_and_name\u001b[0m\u001b[0;34m)\u001b[0m\u001b[0;34m.\u001b[0m\u001b[0mobject_ref\u001b[0m\u001b[0;34m\u001b[0m\u001b[0;34m\u001b[0m\u001b[0m\n",
      "\u001b[0;32m~/PycharmProjects/PySyft/packages/syft/src/syft/core/node/common/client.py\u001b[0m in \u001b[0;36msend_immediate_msg_with_reply\u001b[0;34m(self, msg, route_index)\u001b[0m\n\u001b[1;32m    241\u001b[0m                 \u001b[0mexception\u001b[0m \u001b[0;34m=\u001b[0m \u001b[0mexception_msg\u001b[0m\u001b[0;34m.\u001b[0m\u001b[0mexception_type\u001b[0m\u001b[0;34m(\u001b[0m\u001b[0mexception_msg\u001b[0m\u001b[0;34m.\u001b[0m\u001b[0mexception_msg\u001b[0m\u001b[0;34m)\u001b[0m\u001b[0;34m\u001b[0m\u001b[0;34m\u001b[0m\u001b[0m\n\u001b[1;32m    242\u001b[0m                 \u001b[0merror\u001b[0m\u001b[0;34m(\u001b[0m\u001b[0mstr\u001b[0m\u001b[0;34m(\u001b[0m\u001b[0mexception\u001b[0m\u001b[0;34m)\u001b[0m\u001b[0;34m)\u001b[0m\u001b[0;34m\u001b[0m\u001b[0;34m\u001b[0m\u001b[0m\n\u001b[0;32m--> 243\u001b[0;31m                 \u001b[0mtraceback_and_raise\u001b[0m\u001b[0;34m(\u001b[0m\u001b[0mexception\u001b[0m\u001b[0;34m)\u001b[0m\u001b[0;34m\u001b[0m\u001b[0;34m\u001b[0m\u001b[0m\n\u001b[0m\u001b[1;32m    244\u001b[0m             \u001b[0;32melse\u001b[0m\u001b[0;34m:\u001b[0m\u001b[0;34m\u001b[0m\u001b[0;34m\u001b[0m\u001b[0m\n\u001b[1;32m    245\u001b[0m                 \u001b[0;32mreturn\u001b[0m \u001b[0mresponse\u001b[0m\u001b[0;34m.\u001b[0m\u001b[0mmessage\u001b[0m\u001b[0;34m\u001b[0m\u001b[0;34m\u001b[0m\u001b[0m\n",
      "\u001b[0;32m~/PycharmProjects/PySyft/packages/syft/src/syft/logger.py\u001b[0m in \u001b[0;36mtraceback_and_raise\u001b[0;34m(e, verbose)\u001b[0m\n\u001b[1;32m     59\u001b[0m     \u001b[0;32mif\u001b[0m \u001b[0;32mnot\u001b[0m \u001b[0missubclass\u001b[0m\u001b[0;34m(\u001b[0m\u001b[0mtype\u001b[0m\u001b[0;34m(\u001b[0m\u001b[0me\u001b[0m\u001b[0;34m)\u001b[0m\u001b[0;34m,\u001b[0m \u001b[0mException\u001b[0m\u001b[0;34m)\u001b[0m\u001b[0;34m:\u001b[0m\u001b[0;34m\u001b[0m\u001b[0;34m\u001b[0m\u001b[0m\n\u001b[1;32m     60\u001b[0m         \u001b[0me\u001b[0m \u001b[0;34m=\u001b[0m \u001b[0mException\u001b[0m\u001b[0;34m(\u001b[0m\u001b[0me\u001b[0m\u001b[0;34m)\u001b[0m\u001b[0;34m\u001b[0m\u001b[0;34m\u001b[0m\u001b[0m\n\u001b[0;32m---> 61\u001b[0;31m     \u001b[0;32mraise\u001b[0m \u001b[0me\u001b[0m\u001b[0;34m\u001b[0m\u001b[0;34m\u001b[0m\u001b[0m\n\u001b[0m\u001b[1;32m     62\u001b[0m \u001b[0;34m\u001b[0m\u001b[0m\n\u001b[1;32m     63\u001b[0m \u001b[0;34m\u001b[0m\u001b[0m\n",
      "\u001b[0;31mUnknownPrivateException\u001b[0m: UnknownPrivateException has been triggered."
     ]
    }
   ],
   "source": [
    "total_imported_goods_value = public_total_imported_goods_value.get()\n",
    "print(f\"Total trade value($) of the goods Imported from Egypt to Canada: ${total_imported_goods_value}\")"
   ]
  },
  {
   "cell_type": "code",
   "execution_count": null,
   "id": "7fc3d7fe-a143-48bd-86db-131a1a405cc8",
   "metadata": {},
   "outputs": [],
   "source": [
    "# b65f0512fd814ec58520b9cf009cada1>"
   ]
  },
  {
   "cell_type": "markdown",
   "id": "6ed7a86a",
   "metadata": {},
   "source": [
    "*Great !!! We successfully, finished our analysis.*"
   ]
  },
  {
   "cell_type": "markdown",
   "id": "07e0cee6-cc7d-4f55-a79c-038e3e6fc8e2",
   "metadata": {},
   "source": [
    "# CONGRATULATIONS!!!\n",
    "\n",
    "You've finished the demo!"
   ]
  }
 ],
 "metadata": {
  "kernelspec": {
   "display_name": "Python 3 (ipykernel)",
   "language": "python",
   "name": "python3"
  },
  "language_info": {
   "codemirror_mode": {
    "name": "ipython",
    "version": 3
   },
   "file_extension": ".py",
   "mimetype": "text/x-python",
   "name": "python",
   "nbconvert_exporter": "python",
   "pygments_lexer": "ipython3",
   "version": "3.8.10"
  }
 },
 "nbformat": 4,
 "nbformat_minor": 5
}

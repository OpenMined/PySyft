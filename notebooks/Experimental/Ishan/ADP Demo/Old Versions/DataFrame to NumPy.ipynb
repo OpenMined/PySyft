{
 "cells": [
  {
   "cell_type": "code",
   "execution_count": 1,
   "id": "c9355617-9835-42b7-9576-acfaec841d36",
   "metadata": {},
   "outputs": [],
   "source": [
    "import syft as sy\n",
    "import numpy as np\n",
    "from syft.core.adp.entity import Entity"
   ]
  },
  {
   "cell_type": "markdown",
   "id": "7f6c9d81-325f-44c4-9c7e-b7e50a3c4365",
   "metadata": {},
   "source": [
    "## To Do\n",
    "\n",
    "Download a dataset from Domain\n",
    "\n",
    "Convert all string columns to unique integers ---> could use hashes\n"
   ]
  },
  {
   "cell_type": "code",
   "execution_count": 2,
   "id": "53abc499-a3c6-42cc-bcf6-9a72dfaa3cae",
   "metadata": {},
   "outputs": [
    {
     "name": "stdout",
     "output_type": "stream",
     "text": [
      "Connecting to http://localhost:8081... done! \t Logging into adp... done!\n"
     ]
    }
   ],
   "source": [
    "domain_node = sy.login(email=\"info@openmined.org\", password=\"changethis\", port=8081)"
   ]
  },
  {
   "cell_type": "code",
   "execution_count": 3,
   "id": "ac209784-7c97-4942-8039-1247490fb1c0",
   "metadata": {},
   "outputs": [
    {
     "data": {
      "text/html": [
       "<div>\n",
       "<style scoped>\n",
       "    .dataframe tbody tr th:only-of-type {\n",
       "        vertical-align: middle;\n",
       "    }\n",
       "\n",
       "    .dataframe tbody tr th {\n",
       "        vertical-align: top;\n",
       "    }\n",
       "\n",
       "    .dataframe thead th {\n",
       "        text-align: right;\n",
       "    }\n",
       "</style>\n",
       "<table border=\"1\" class=\"dataframe\">\n",
       "  <thead>\n",
       "    <tr style=\"text-align: right;\">\n",
       "      <th></th>\n",
       "      <th>ID</th>\n",
       "      <th>Tags</th>\n",
       "      <th>Description</th>\n",
       "      <th>object_type</th>\n",
       "    </tr>\n",
       "  </thead>\n",
       "  <tbody>\n",
       "    <tr>\n",
       "      <th>0</th>\n",
       "      <td>&lt;UID: 747a85b4106a485fb09f6c6901a19cc0&gt;</td>\n",
       "      <td>[public_data]</td>\n",
       "      <td></td>\n",
       "      <td>&lt;class 'syft.core.tensor.tensor.Tensor'&gt;</td>\n",
       "    </tr>\n",
       "    <tr>\n",
       "      <th>1</th>\n",
       "      <td>&lt;UID: e86c4c64f64f4344850d6ae70a5dfefe&gt;</td>\n",
       "      <td>[data]</td>\n",
       "      <td></td>\n",
       "      <td>&lt;class 'syft.core.tensor.tensor.Tensor'&gt;</td>\n",
       "    </tr>\n",
       "    <tr>\n",
       "      <th>2</th>\n",
       "      <td>&lt;UID: 8dfb009ca0c649108e196657ab642fae&gt;</td>\n",
       "      <td>[target]</td>\n",
       "      <td></td>\n",
       "      <td>&lt;class 'syft.core.tensor.tensor.Tensor'&gt;</td>\n",
       "    </tr>\n",
       "    <tr>\n",
       "      <th>3</th>\n",
       "      <td>&lt;UID: 9e80b6b73bda40fcb58dee234529f320&gt;</td>\n",
       "      <td>[]</td>\n",
       "      <td></td>\n",
       "      <td>&lt;class 'syft.core.tensor.tensor.Tensor'&gt;</td>\n",
       "    </tr>\n",
       "    <tr>\n",
       "      <th>4</th>\n",
       "      <td>&lt;UID: 78d41cb834a64e1a975d89afc6e16ac6&gt;</td>\n",
       "      <td>[basic]</td>\n",
       "      <td></td>\n",
       "      <td>&lt;class 'syft.core.tensor.tensor.Tensor'&gt;</td>\n",
       "    </tr>\n",
       "    <tr>\n",
       "      <th>5</th>\n",
       "      <td>&lt;UID: f73759e3025d4682a8bbe7905b8d1e36&gt;</td>\n",
       "      <td>[basic]</td>\n",
       "      <td></td>\n",
       "      <td>&lt;class 'syft.core.tensor.tensor.Tensor'&gt;</td>\n",
       "    </tr>\n",
       "    <tr>\n",
       "      <th>6</th>\n",
       "      <td>&lt;UID: 16ac150b5c8f48b2a8c96cc43cae0b89&gt;</td>\n",
       "      <td>[basic]</td>\n",
       "      <td></td>\n",
       "      <td>&lt;class 'syft.core.tensor.tensor.Tensor'&gt;</td>\n",
       "    </tr>\n",
       "    <tr>\n",
       "      <th>7</th>\n",
       "      <td>&lt;UID: 451b4b996d29474ca14be496d381d66f&gt;</td>\n",
       "      <td>[basic]</td>\n",
       "      <td></td>\n",
       "      <td>&lt;class 'syft.core.tensor.tensor.Tensor'&gt;</td>\n",
       "    </tr>\n",
       "    <tr>\n",
       "      <th>8</th>\n",
       "      <td>&lt;UID: e173ac79fdcb4188869d4724819f68a0&gt;</td>\n",
       "      <td>[basic]</td>\n",
       "      <td></td>\n",
       "      <td>&lt;class 'syft.core.tensor.tensor.Tensor'&gt;</td>\n",
       "    </tr>\n",
       "    <tr>\n",
       "      <th>9</th>\n",
       "      <td>&lt;UID: 448b81fd80f9469e94e11a0c25a96617&gt;</td>\n",
       "      <td>[basic]</td>\n",
       "      <td></td>\n",
       "      <td>&lt;class 'syft.core.tensor.tensor.Tensor'&gt;</td>\n",
       "    </tr>\n",
       "    <tr>\n",
       "      <th>10</th>\n",
       "      <td>&lt;UID: 78925e87531c497cb5333b011e58f69b&gt;</td>\n",
       "      <td>[basic]</td>\n",
       "      <td></td>\n",
       "      <td>&lt;class 'syft.core.tensor.tensor.Tensor'&gt;</td>\n",
       "    </tr>\n",
       "    <tr>\n",
       "      <th>11</th>\n",
       "      <td>&lt;UID: 3a9cd0ca39e44d5a94c5c61458cbf5b8&gt;</td>\n",
       "      <td>[private]</td>\n",
       "      <td></td>\n",
       "      <td>&lt;class 'syft.core.tensor.tensor.Tensor'&gt;</td>\n",
       "    </tr>\n",
       "    <tr>\n",
       "      <th>12</th>\n",
       "      <td>&lt;UID: 488ab7fe951041eca39497a3ff2a03f5&gt;</td>\n",
       "      <td>[private]</td>\n",
       "      <td></td>\n",
       "      <td>&lt;class 'syft.core.tensor.tensor.Tensor'&gt;</td>\n",
       "    </tr>\n",
       "    <tr>\n",
       "      <th>13</th>\n",
       "      <td>&lt;UID: 580a0fbfb0b9419fbf7d4609d26e8940&gt;</td>\n",
       "      <td>[data]</td>\n",
       "      <td></td>\n",
       "      <td>&lt;class 'syft.core.tensor.tensor.Tensor'&gt;</td>\n",
       "    </tr>\n",
       "    <tr>\n",
       "      <th>14</th>\n",
       "      <td>&lt;UID: cb7cd91872a04934b10298d378f0a895&gt;</td>\n",
       "      <td>[target]</td>\n",
       "      <td></td>\n",
       "      <td>&lt;class 'syft.core.tensor.tensor.Tensor'&gt;</td>\n",
       "    </tr>\n",
       "    <tr>\n",
       "      <th>15</th>\n",
       "      <td>&lt;UID: 16c87dcaec0048339c7b9541698c13db&gt;</td>\n",
       "      <td>[public_data]</td>\n",
       "      <td></td>\n",
       "      <td>&lt;class 'syft.core.tensor.tensor.Tensor'&gt;</td>\n",
       "    </tr>\n",
       "    <tr>\n",
       "      <th>16</th>\n",
       "      <td>&lt;UID: 6139f4771db44616bc14c32d292dd7bf&gt;</td>\n",
       "      <td>[target]</td>\n",
       "      <td></td>\n",
       "      <td>&lt;class 'syft.core.tensor.tensor.Tensor'&gt;</td>\n",
       "    </tr>\n",
       "    <tr>\n",
       "      <th>17</th>\n",
       "      <td>&lt;UID: dede427c419e4201b4930f87f34e7a8b&gt;</td>\n",
       "      <td>[data]</td>\n",
       "      <td></td>\n",
       "      <td>&lt;class 'syft.core.tensor.tensor.Tensor'&gt;</td>\n",
       "    </tr>\n",
       "    <tr>\n",
       "      <th>18</th>\n",
       "      <td>&lt;UID: b3736703b83e4dcc9ea19f99150d2f0c&gt;</td>\n",
       "      <td>[target]</td>\n",
       "      <td></td>\n",
       "      <td>&lt;class 'syft.core.tensor.tensor.Tensor'&gt;</td>\n",
       "    </tr>\n",
       "    <tr>\n",
       "      <th>19</th>\n",
       "      <td>&lt;UID: ce07d66fa5704d8d82e4f659c56c2a4d&gt;</td>\n",
       "      <td>[my_weights]</td>\n",
       "      <td></td>\n",
       "      <td>&lt;class 'syft.core.tensor.tensor.Tensor'&gt;</td>\n",
       "    </tr>\n",
       "    <tr>\n",
       "      <th>20</th>\n",
       "      <td>&lt;UID: fcd80266c86d4896a5e0f57d8e7247ee&gt;</td>\n",
       "      <td>[]</td>\n",
       "      <td></td>\n",
       "      <td>&lt;class 'syft.lib.python.Int'&gt;</td>\n",
       "    </tr>\n",
       "    <tr>\n",
       "      <th>21</th>\n",
       "      <td>&lt;UID: f9fef2eeca484b548dacbd90d2d4c2d5&gt;</td>\n",
       "      <td>[]</td>\n",
       "      <td></td>\n",
       "      <td>&lt;class 'syft.lib.python._SyNone'&gt;</td>\n",
       "    </tr>\n",
       "    <tr>\n",
       "      <th>22</th>\n",
       "      <td>&lt;UID: 34de4872137d4c5b895ff2defa4543a1&gt;</td>\n",
       "      <td>[]</td>\n",
       "      <td></td>\n",
       "      <td>&lt;class 'syft.lib.python._SyNone'&gt;</td>\n",
       "    </tr>\n",
       "    <tr>\n",
       "      <th>23</th>\n",
       "      <td>&lt;UID: d4ef6535c2e541039e1d479e33e88c81&gt;</td>\n",
       "      <td>[]</td>\n",
       "      <td></td>\n",
       "      <td>&lt;class 'syft.lib.python.Int'&gt;</td>\n",
       "    </tr>\n",
       "    <tr>\n",
       "      <th>24</th>\n",
       "      <td>&lt;UID: 8c26ecb6914841ebbc8198c59d92235b&gt;</td>\n",
       "      <td>[]</td>\n",
       "      <td></td>\n",
       "      <td>&lt;class 'syft.lib.python._SyNone'&gt;</td>\n",
       "    </tr>\n",
       "    <tr>\n",
       "      <th>25</th>\n",
       "      <td>&lt;UID: 9d10b47ab055486fa9a99c8933a45bdb&gt;</td>\n",
       "      <td>[]</td>\n",
       "      <td></td>\n",
       "      <td>&lt;class 'syft.lib.python._SyNone'&gt;</td>\n",
       "    </tr>\n",
       "    <tr>\n",
       "      <th>26</th>\n",
       "      <td>&lt;UID: 1af0ab086905410ab459605b2bc265a6&gt;</td>\n",
       "      <td>[]</td>\n",
       "      <td></td>\n",
       "      <td>&lt;class 'syft.lib.python.Int'&gt;</td>\n",
       "    </tr>\n",
       "    <tr>\n",
       "      <th>27</th>\n",
       "      <td>&lt;UID: 8344d22a91784f75975862852ad66d80&gt;</td>\n",
       "      <td>[]</td>\n",
       "      <td></td>\n",
       "      <td>&lt;class 'syft.lib.python._SyNone'&gt;</td>\n",
       "    </tr>\n",
       "    <tr>\n",
       "      <th>28</th>\n",
       "      <td>&lt;UID: 972a4e12c5e84440baf3a8e4b0c2fdce&gt;</td>\n",
       "      <td>[]</td>\n",
       "      <td></td>\n",
       "      <td>&lt;class 'syft.lib.python._SyNone'&gt;</td>\n",
       "    </tr>\n",
       "    <tr>\n",
       "      <th>29</th>\n",
       "      <td>&lt;UID: b4b190d0f8974066837c5d4a60bc1883&gt;</td>\n",
       "      <td>[autograd]</td>\n",
       "      <td></td>\n",
       "      <td>&lt;class 'syft.core.tensor.tensor.Tensor'&gt;</td>\n",
       "    </tr>\n",
       "    <tr>\n",
       "      <th>30</th>\n",
       "      <td>&lt;UID: 49985237e7984be5a86081215d5fa2bd&gt;</td>\n",
       "      <td>[]</td>\n",
       "      <td></td>\n",
       "      <td>&lt;class 'syft.lib.python.Int'&gt;</td>\n",
       "    </tr>\n",
       "    <tr>\n",
       "      <th>31</th>\n",
       "      <td>&lt;UID: d4ffcc61582e41098d001e05b3bdce05&gt;</td>\n",
       "      <td>[]</td>\n",
       "      <td></td>\n",
       "      <td>&lt;class 'syft.lib.python._SyNone'&gt;</td>\n",
       "    </tr>\n",
       "    <tr>\n",
       "      <th>32</th>\n",
       "      <td>&lt;UID: 596c7421fdf0453eb9ecccec042f3847&gt;</td>\n",
       "      <td>[]</td>\n",
       "      <td></td>\n",
       "      <td>&lt;class 'syft.lib.python._SyNone'&gt;</td>\n",
       "    </tr>\n",
       "  </tbody>\n",
       "</table>\n",
       "</div>"
      ],
      "text/plain": [
       "                                         ID  ...                               object_type\n",
       "0   <UID: 747a85b4106a485fb09f6c6901a19cc0>  ...  <class 'syft.core.tensor.tensor.Tensor'>\n",
       "1   <UID: e86c4c64f64f4344850d6ae70a5dfefe>  ...  <class 'syft.core.tensor.tensor.Tensor'>\n",
       "2   <UID: 8dfb009ca0c649108e196657ab642fae>  ...  <class 'syft.core.tensor.tensor.Tensor'>\n",
       "3   <UID: 9e80b6b73bda40fcb58dee234529f320>  ...  <class 'syft.core.tensor.tensor.Tensor'>\n",
       "4   <UID: 78d41cb834a64e1a975d89afc6e16ac6>  ...  <class 'syft.core.tensor.tensor.Tensor'>\n",
       "5   <UID: f73759e3025d4682a8bbe7905b8d1e36>  ...  <class 'syft.core.tensor.tensor.Tensor'>\n",
       "6   <UID: 16ac150b5c8f48b2a8c96cc43cae0b89>  ...  <class 'syft.core.tensor.tensor.Tensor'>\n",
       "7   <UID: 451b4b996d29474ca14be496d381d66f>  ...  <class 'syft.core.tensor.tensor.Tensor'>\n",
       "8   <UID: e173ac79fdcb4188869d4724819f68a0>  ...  <class 'syft.core.tensor.tensor.Tensor'>\n",
       "9   <UID: 448b81fd80f9469e94e11a0c25a96617>  ...  <class 'syft.core.tensor.tensor.Tensor'>\n",
       "10  <UID: 78925e87531c497cb5333b011e58f69b>  ...  <class 'syft.core.tensor.tensor.Tensor'>\n",
       "11  <UID: 3a9cd0ca39e44d5a94c5c61458cbf5b8>  ...  <class 'syft.core.tensor.tensor.Tensor'>\n",
       "12  <UID: 488ab7fe951041eca39497a3ff2a03f5>  ...  <class 'syft.core.tensor.tensor.Tensor'>\n",
       "13  <UID: 580a0fbfb0b9419fbf7d4609d26e8940>  ...  <class 'syft.core.tensor.tensor.Tensor'>\n",
       "14  <UID: cb7cd91872a04934b10298d378f0a895>  ...  <class 'syft.core.tensor.tensor.Tensor'>\n",
       "15  <UID: 16c87dcaec0048339c7b9541698c13db>  ...  <class 'syft.core.tensor.tensor.Tensor'>\n",
       "16  <UID: 6139f4771db44616bc14c32d292dd7bf>  ...  <class 'syft.core.tensor.tensor.Tensor'>\n",
       "17  <UID: dede427c419e4201b4930f87f34e7a8b>  ...  <class 'syft.core.tensor.tensor.Tensor'>\n",
       "18  <UID: b3736703b83e4dcc9ea19f99150d2f0c>  ...  <class 'syft.core.tensor.tensor.Tensor'>\n",
       "19  <UID: ce07d66fa5704d8d82e4f659c56c2a4d>  ...  <class 'syft.core.tensor.tensor.Tensor'>\n",
       "20  <UID: fcd80266c86d4896a5e0f57d8e7247ee>  ...             <class 'syft.lib.python.Int'>\n",
       "21  <UID: f9fef2eeca484b548dacbd90d2d4c2d5>  ...         <class 'syft.lib.python._SyNone'>\n",
       "22  <UID: 34de4872137d4c5b895ff2defa4543a1>  ...         <class 'syft.lib.python._SyNone'>\n",
       "23  <UID: d4ef6535c2e541039e1d479e33e88c81>  ...             <class 'syft.lib.python.Int'>\n",
       "24  <UID: 8c26ecb6914841ebbc8198c59d92235b>  ...         <class 'syft.lib.python._SyNone'>\n",
       "25  <UID: 9d10b47ab055486fa9a99c8933a45bdb>  ...         <class 'syft.lib.python._SyNone'>\n",
       "26  <UID: 1af0ab086905410ab459605b2bc265a6>  ...             <class 'syft.lib.python.Int'>\n",
       "27  <UID: 8344d22a91784f75975862852ad66d80>  ...         <class 'syft.lib.python._SyNone'>\n",
       "28  <UID: 972a4e12c5e84440baf3a8e4b0c2fdce>  ...         <class 'syft.lib.python._SyNone'>\n",
       "29  <UID: b4b190d0f8974066837c5d4a60bc1883>  ...  <class 'syft.core.tensor.tensor.Tensor'>\n",
       "30  <UID: 49985237e7984be5a86081215d5fa2bd>  ...             <class 'syft.lib.python.Int'>\n",
       "31  <UID: d4ffcc61582e41098d001e05b3bdce05>  ...         <class 'syft.lib.python._SyNone'>\n",
       "32  <UID: 596c7421fdf0453eb9ecccec042f3847>  ...         <class 'syft.lib.python._SyNone'>\n",
       "\n",
       "[33 rows x 4 columns]"
      ]
     },
     "execution_count": 3,
     "metadata": {},
     "output_type": "execute_result"
    }
   ],
   "source": [
    "domain_node.store.pandas"
   ]
  },
  {
   "cell_type": "code",
   "execution_count": 4,
   "id": "1aac1369-e490-404f-bf34-78854b223ed9",
   "metadata": {},
   "outputs": [],
   "source": [
    "import pandas as pd"
   ]
  },
  {
   "cell_type": "code",
   "execution_count": 5,
   "id": "994d05fa-65c9-4559-a7a6-462bb0bb6c9e",
   "metadata": {},
   "outputs": [
    {
     "name": "stderr",
     "output_type": "stream",
     "text": [
      "/Users/ishanmishra/PycharmProjects/PySyft/.tox/syft.jupyter/lib/python3.9/site-packages/IPython/core/interactiveshell.py:3441: DtypeWarning: Columns (14) have mixed types.Specify dtype option on import or set low_memory=False.\n",
      "  exec(code_obj, self.user_global_ns, self.user_ns)\n"
     ]
    }
   ],
   "source": [
    "canada = pd.read_csv(\"../../trade_demo/datasets/ca - feb 2021.csv\")"
   ]
  },
  {
   "cell_type": "code",
   "execution_count": 6,
   "id": "50844dcf-359e-4409-9677-859d495f33c5",
   "metadata": {},
   "outputs": [
    {
     "data": {
      "text/html": [
       "<div>\n",
       "<style scoped>\n",
       "    .dataframe tbody tr th:only-of-type {\n",
       "        vertical-align: middle;\n",
       "    }\n",
       "\n",
       "    .dataframe tbody tr th {\n",
       "        vertical-align: top;\n",
       "    }\n",
       "\n",
       "    .dataframe thead th {\n",
       "        text-align: right;\n",
       "    }\n",
       "</style>\n",
       "<table border=\"1\" class=\"dataframe\">\n",
       "  <thead>\n",
       "    <tr style=\"text-align: right;\">\n",
       "      <th></th>\n",
       "      <th>Classification</th>\n",
       "      <th>Year</th>\n",
       "      <th>Period</th>\n",
       "      <th>Period Desc.</th>\n",
       "      <th>Aggregate Level</th>\n",
       "      <th>Is Leaf Code</th>\n",
       "      <th>Trade Flow Code</th>\n",
       "      <th>Trade Flow</th>\n",
       "      <th>Reporter Code</th>\n",
       "      <th>Reporter</th>\n",
       "      <th>Reporter ISO</th>\n",
       "      <th>Partner Code</th>\n",
       "      <th>Partner</th>\n",
       "      <th>Partner ISO</th>\n",
       "      <th>Commodity Code</th>\n",
       "      <th>Commodity</th>\n",
       "      <th>Qty Unit Code</th>\n",
       "      <th>Qty Unit</th>\n",
       "      <th>Qty</th>\n",
       "      <th>Netweight (kg)</th>\n",
       "      <th>Trade Value (US$)</th>\n",
       "      <th>Flag</th>\n",
       "    </tr>\n",
       "  </thead>\n",
       "  <tbody>\n",
       "    <tr>\n",
       "      <th>0</th>\n",
       "      <td>HS</td>\n",
       "      <td>2021</td>\n",
       "      <td>202102</td>\n",
       "      <td>February 2021</td>\n",
       "      <td>4</td>\n",
       "      <td>0</td>\n",
       "      <td>1</td>\n",
       "      <td>Imports</td>\n",
       "      <td>124</td>\n",
       "      <td>Canada</td>\n",
       "      <td>NaN</td>\n",
       "      <td>490</td>\n",
       "      <td>Other Asia, nes</td>\n",
       "      <td>NaN</td>\n",
       "      <td>6117</td>\n",
       "      <td>Clothing accessories; made up, knitted or croc...</td>\n",
       "      <td>0</td>\n",
       "      <td>NaN</td>\n",
       "      <td>NaN</td>\n",
       "      <td>NaN</td>\n",
       "      <td>9285</td>\n",
       "      <td>0</td>\n",
       "    </tr>\n",
       "    <tr>\n",
       "      <th>1</th>\n",
       "      <td>HS</td>\n",
       "      <td>2021</td>\n",
       "      <td>202102</td>\n",
       "      <td>February 2021</td>\n",
       "      <td>2</td>\n",
       "      <td>0</td>\n",
       "      <td>1</td>\n",
       "      <td>Imports</td>\n",
       "      <td>124</td>\n",
       "      <td>Canada</td>\n",
       "      <td>NaN</td>\n",
       "      <td>818</td>\n",
       "      <td>Egypt</td>\n",
       "      <td>NaN</td>\n",
       "      <td>18</td>\n",
       "      <td>Cocoa and cocoa preparations</td>\n",
       "      <td>0</td>\n",
       "      <td>NaN</td>\n",
       "      <td>NaN</td>\n",
       "      <td>0.0</td>\n",
       "      <td>116604</td>\n",
       "      <td>0</td>\n",
       "    </tr>\n",
       "    <tr>\n",
       "      <th>2</th>\n",
       "      <td>HS</td>\n",
       "      <td>2021</td>\n",
       "      <td>202102</td>\n",
       "      <td>February 2021</td>\n",
       "      <td>2</td>\n",
       "      <td>0</td>\n",
       "      <td>1</td>\n",
       "      <td>Imports</td>\n",
       "      <td>124</td>\n",
       "      <td>Canada</td>\n",
       "      <td>NaN</td>\n",
       "      <td>826</td>\n",
       "      <td>United Kingdom</td>\n",
       "      <td>NaN</td>\n",
       "      <td>18</td>\n",
       "      <td>Cocoa and cocoa preparations</td>\n",
       "      <td>0</td>\n",
       "      <td>NaN</td>\n",
       "      <td>NaN</td>\n",
       "      <td>0.0</td>\n",
       "      <td>1495175</td>\n",
       "      <td>0</td>\n",
       "    </tr>\n",
       "    <tr>\n",
       "      <th>3</th>\n",
       "      <td>HS</td>\n",
       "      <td>2021</td>\n",
       "      <td>202102</td>\n",
       "      <td>February 2021</td>\n",
       "      <td>2</td>\n",
       "      <td>0</td>\n",
       "      <td>1</td>\n",
       "      <td>Imports</td>\n",
       "      <td>124</td>\n",
       "      <td>Canada</td>\n",
       "      <td>NaN</td>\n",
       "      <td>834</td>\n",
       "      <td>United Rep. of Tanzania</td>\n",
       "      <td>NaN</td>\n",
       "      <td>18</td>\n",
       "      <td>Cocoa and cocoa preparations</td>\n",
       "      <td>0</td>\n",
       "      <td>NaN</td>\n",
       "      <td>NaN</td>\n",
       "      <td>0.0</td>\n",
       "      <td>2248</td>\n",
       "      <td>0</td>\n",
       "    </tr>\n",
       "    <tr>\n",
       "      <th>4</th>\n",
       "      <td>HS</td>\n",
       "      <td>2021</td>\n",
       "      <td>202102</td>\n",
       "      <td>February 2021</td>\n",
       "      <td>2</td>\n",
       "      <td>0</td>\n",
       "      <td>1</td>\n",
       "      <td>Imports</td>\n",
       "      <td>124</td>\n",
       "      <td>Canada</td>\n",
       "      <td>NaN</td>\n",
       "      <td>702</td>\n",
       "      <td>Singapore</td>\n",
       "      <td>NaN</td>\n",
       "      <td>18</td>\n",
       "      <td>Cocoa and cocoa preparations</td>\n",
       "      <td>0</td>\n",
       "      <td>NaN</td>\n",
       "      <td>NaN</td>\n",
       "      <td>0.0</td>\n",
       "      <td>47840</td>\n",
       "      <td>0</td>\n",
       "    </tr>\n",
       "  </tbody>\n",
       "</table>\n",
       "</div>"
      ],
      "text/plain": [
       "  Classification  Year  Period  ... Netweight (kg)  Trade Value (US$)  Flag\n",
       "0             HS  2021  202102  ...            NaN               9285     0\n",
       "1             HS  2021  202102  ...            0.0             116604     0\n",
       "2             HS  2021  202102  ...            0.0            1495175     0\n",
       "3             HS  2021  202102  ...            0.0               2248     0\n",
       "4             HS  2021  202102  ...            0.0              47840     0\n",
       "\n",
       "[5 rows x 22 columns]"
      ]
     },
     "execution_count": 6,
     "metadata": {},
     "output_type": "execute_result"
    }
   ],
   "source": [
    "canada.head()"
   ]
  },
  {
   "cell_type": "code",
   "execution_count": 7,
   "id": "d5ca6347-bc86-4514-9b97-c320991b1338",
   "metadata": {},
   "outputs": [],
   "source": [
    "import hashlib"
   ]
  },
  {
   "cell_type": "code",
   "execution_count": 8,
   "id": "21754f0f-3920-4343-ab09-f87883f2378e",
   "metadata": {},
   "outputs": [
    {
     "data": {
      "text/plain": [
       "{'blake2b',\n",
       " 'blake2s',\n",
       " 'md4',\n",
       " 'md5',\n",
       " 'md5-sha1',\n",
       " 'mdc2',\n",
       " 'ripemd160',\n",
       " 'sha1',\n",
       " 'sha224',\n",
       " 'sha256',\n",
       " 'sha384',\n",
       " 'sha3_224',\n",
       " 'sha3_256',\n",
       " 'sha3_384',\n",
       " 'sha3_512',\n",
       " 'sha512',\n",
       " 'sha512_224',\n",
       " 'sha512_256',\n",
       " 'shake_128',\n",
       " 'shake_256',\n",
       " 'sm3',\n",
       " 'whirlpool'}"
      ]
     },
     "execution_count": 8,
     "metadata": {},
     "output_type": "execute_result"
    }
   ],
   "source": [
    "hashlib.algorithms_available"
   ]
  },
  {
   "cell_type": "code",
   "execution_count": 11,
   "id": "e8675cc2-6f1b-48de-9eb8-6e288c5c1f2c",
   "metadata": {},
   "outputs": [
    {
     "name": "stdout",
     "output_type": "stream",
     "text": [
      "<md5 _hashlib.HASH object @ 0x143f50f10>\n"
     ]
    }
   ],
   "source": [
    "test_string = \"February 2021\"\n",
    "hashlib.md5(test_string.encode(\"utf-8\"))"
   ]
  },
  {
   "cell_type": "code",
   "execution_count": 20,
   "id": "30518560-d04d-4d79-af05-991a64fd7f3b",
   "metadata": {},
   "outputs": [
    {
     "data": {
      "text/plain": [
       "4745978"
      ]
     },
     "execution_count": 20,
     "metadata": {},
     "output_type": "execute_result"
    }
   ],
   "source": [
    "int(hashlib.sha256(test_string.encode(\"utf-8\")).hexdigest(), 16) % 10**8"
   ]
  },
  {
   "cell_type": "code",
   "execution_count": 23,
   "id": "a411101a-6260-4f1c-8367-799d80d1c312",
   "metadata": {},
   "outputs": [],
   "source": [
    "def convert_string(s: str, digits: int=15):\n",
    "    \"\"\"Maps a string to a unique hash using SHA, converts it to a hash or an int\"\"\"\n",
    "    if to_int:\n",
    "        return int(hashlib.sha256(s.encode(\"utf-8\")).hexdigest(), 16) % 10**digits\n",
    "    else:\n",
    "        return hashlib.sha256(s.encode(\"utf-8\")).hexdigest()"
   ]
  },
  {
   "cell_type": "code",
   "execution_count": 25,
   "id": "4ca1873b-b37c-4c4d-b924-c177ca515b42",
   "metadata": {},
   "outputs": [
    {
     "data": {
      "text/plain": [
       "'be55ef3f4c4e6c2d9c2afe2a33ac90ad0f50d4de7f9163999877e2a9ca5a54f8'"
      ]
     },
     "execution_count": 25,
     "metadata": {},
     "output_type": "execute_result"
    }
   ],
   "source": [
    "convert_string(\"Canada\", to_int=False)"
   ]
  },
  {
   "cell_type": "code",
   "execution_count": 26,
   "id": "91d53605-4c8f-4c2f-8b6b-5f47dd096cf2",
   "metadata": {},
   "outputs": [
    {
     "data": {
      "text/plain": [
       "3986429176"
      ]
     },
     "execution_count": 26,
     "metadata": {},
     "output_type": "execute_result"
    }
   ],
   "source": [
    "convert_string(\"Canada\", to_int=True, digits=10)"
   ]
  },
  {
   "cell_type": "code",
   "execution_count": 27,
   "id": "90218b59-06d5-4bd0-8920-393ac0b842dc",
   "metadata": {},
   "outputs": [
    {
     "data": {
      "text/plain": [
       "86091274455216294775467369229742497264338784747007530312638607524003986429176"
      ]
     },
     "execution_count": 27,
     "metadata": {},
     "output_type": "execute_result"
    }
   ],
   "source": [
    "convert_string(\"Canada\", to_int=True, digits=260)"
   ]
  },
  {
   "cell_type": "code",
   "execution_count": 28,
   "id": "4e7a9c19-d9ef-487f-9d76-4385981bfdb4",
   "metadata": {},
   "outputs": [
    {
     "data": {
      "text/plain": [
       "Index(['Classification', 'Year', 'Period', 'Period Desc.', 'Aggregate Level',\n",
       "       'Is Leaf Code', 'Trade Flow Code', 'Trade Flow', 'Reporter Code',\n",
       "       'Reporter', 'Reporter ISO', 'Partner Code', 'Partner', 'Partner ISO',\n",
       "       'Commodity Code', 'Commodity', 'Qty Unit Code', 'Qty Unit', 'Qty',\n",
       "       'Netweight (kg)', 'Trade Value (US$)', 'Flag'],\n",
       "      dtype='object')"
      ]
     },
     "execution_count": 28,
     "metadata": {},
     "output_type": "execute_result"
    }
   ],
   "source": [
    "canada.columns"
   ]
  },
  {
   "cell_type": "code",
   "execution_count": 29,
   "id": "42c834ad-a385-4af6-988a-369459233ef9",
   "metadata": {},
   "outputs": [
    {
     "data": {
      "text/plain": [
       "(227454, 22)"
      ]
     },
     "execution_count": 29,
     "metadata": {},
     "output_type": "execute_result"
    }
   ],
   "source": [
    "#domain_node.load_dataset(canada)\n",
    "canada.shape"
   ]
  },
  {
   "cell_type": "code",
   "execution_count": 34,
   "id": "6ff45105-8041-4743-a7a8-a1ad139c7e4e",
   "metadata": {},
   "outputs": [
    {
     "data": {
      "text/plain": [
       "<bound method RequestAPI.pandas of <syft.core.node.common.client_manager.dataset_api.DatasetRequestAPI object at 0x142838e50>>"
      ]
     },
     "execution_count": 34,
     "metadata": {},
     "output_type": "execute_result"
    }
   ],
   "source": [
    "domain_node.datasets.pandas"
   ]
  },
  {
   "cell_type": "code",
   "execution_count": 37,
   "id": "8b5bfcb5-884c-4edb-8de8-8593f9661b9d",
   "metadata": {},
   "outputs": [
    {
     "data": {
      "text/plain": [
       "0         Imports\n",
       "1         Imports\n",
       "2         Imports\n",
       "3         Imports\n",
       "4         Imports\n",
       "           ...   \n",
       "227449    Exports\n",
       "227450    Exports\n",
       "227451    Exports\n",
       "227452    Exports\n",
       "227453    Exports\n",
       "Name: Trade Flow, Length: 227454, dtype: object"
      ]
     },
     "execution_count": 37,
     "metadata": {},
     "output_type": "execute_result"
    }
   ],
   "source": [
    "canada['Trade Flow']"
   ]
  },
  {
   "cell_type": "code",
   "execution_count": null,
   "id": "ecdd4e13-bea2-4624-b1e5-53ddb593e36d",
   "metadata": {},
   "outputs": [],
   "source": [
    "domain_node.store.pandas"
   ]
  },
  {
   "cell_type": "code",
   "execution_count": null,
   "id": "dec94fbb-78f3-48b7-bfc9-82c7df996494",
   "metadata": {},
   "outputs": [],
   "source": []
  }
 ],
 "metadata": {
  "kernelspec": {
   "display_name": "Python 3 (ipykernel)",
   "language": "python",
   "name": "python3"
  },
  "language_info": {
   "codemirror_mode": {
    "name": "ipython",
    "version": 3
   },
   "file_extension": ".py",
   "mimetype": "text/x-python",
   "name": "python",
   "nbconvert_exporter": "python",
   "pygments_lexer": "ipython3",
   "version": "3.9.1"
  }
 },
 "nbformat": 4,
 "nbformat_minor": 5
}

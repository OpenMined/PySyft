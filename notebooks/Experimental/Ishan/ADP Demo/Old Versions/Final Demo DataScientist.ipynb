{
 "cells": [
  {
   "cell_type": "code",
   "execution_count": 1,
   "id": "7996879f-5e1b-4e5c-a238-6fe6bf87c1d0",
   "metadata": {},
   "outputs": [],
   "source": [
    "import syft as sy\n",
    "import numpy as np\n",
    "from syft.core.adp.entity import DataSubject"
   ]
  },
  {
   "cell_type": "code",
   "execution_count": 4,
   "id": "2391e6ec-09d1-43de-9bfb-f2c2ad2587ec",
   "metadata": {},
   "outputs": [
    {
     "name": "stdout",
     "output_type": "stream",
     "text": [
      "Connecting to http://localhost:8081... done! \t Logging into adp... done!\n"
     ]
    }
   ],
   "source": [
    "domain_node = sy.login(email=\"testing@openmined.com\", password=\"please_work\", port=8081)"
   ]
  },
  {
   "cell_type": "code",
   "execution_count": 6,
   "id": "55a16735-0fc1-48a2-9f76-506d1c0f7576",
   "metadata": {},
   "outputs": [
    {
     "data": {
      "text/html": [
       "<div>\n",
       "<style scoped>\n",
       "    .dataframe tbody tr th:only-of-type {\n",
       "        vertical-align: middle;\n",
       "    }\n",
       "\n",
       "    .dataframe tbody tr th {\n",
       "        vertical-align: top;\n",
       "    }\n",
       "\n",
       "    .dataframe thead th {\n",
       "        text-align: right;\n",
       "    }\n",
       "</style>\n",
       "<table border=\"1\" class=\"dataframe\">\n",
       "  <thead>\n",
       "    <tr style=\"text-align: right;\">\n",
       "      <th></th>\n",
       "      <th>ID</th>\n",
       "      <th>Tags</th>\n",
       "      <th>Description</th>\n",
       "      <th>object_type</th>\n",
       "    </tr>\n",
       "  </thead>\n",
       "  <tbody>\n",
       "    <tr>\n",
       "      <th>0</th>\n",
       "      <td>&lt;UID: 84874be82cc64315b2231fc91ec7f3bf&gt;</td>\n",
       "      <td>[#feb2020_private]</td>\n",
       "      <td></td>\n",
       "      <td>&lt;class 'numpy.ndarray'&gt;</td>\n",
       "    </tr>\n",
       "    <tr>\n",
       "      <th>1</th>\n",
       "      <td>&lt;UID: f91d2cebb9c6405aafe77934cd08d19f&gt;</td>\n",
       "      <td>[#private_dataset]</td>\n",
       "      <td></td>\n",
       "      <td>&lt;class 'syft.core.tensor.tensor.Tensor'&gt;</td>\n",
       "    </tr>\n",
       "  </tbody>\n",
       "</table>\n",
       "</div>"
      ],
      "text/plain": [
       "                                        ID                Tags Description  \\\n",
       "0  <UID: 84874be82cc64315b2231fc91ec7f3bf>  [#feb2020_private]               \n",
       "1  <UID: f91d2cebb9c6405aafe77934cd08d19f>  [#private_dataset]               \n",
       "\n",
       "                                object_type  \n",
       "0                   <class 'numpy.ndarray'>  \n",
       "1  <class 'syft.core.tensor.tensor.Tensor'>  "
      ]
     },
     "execution_count": 6,
     "metadata": {},
     "output_type": "execute_result"
    }
   ],
   "source": [
    "# See what's on the Domain Node\n",
    "domain_node.store.pandas"
   ]
  },
  {
   "cell_type": "code",
   "execution_count": null,
   "id": "e7297274-e4f5-4db8-b4b7-a53dbeac2cc9",
   "metadata": {},
   "outputs": [],
   "source": []
  },
  {
   "cell_type": "code",
   "execution_count": 9,
   "id": "e67048f7-7957-4f38-836d-7843ff9d6a80",
   "metadata": {},
   "outputs": [],
   "source": [
    "# Get a pointer for the last entry, which is a dataset\n",
    "private_dataset_ptr = domain_node.store[\"db0a433c93484a9ca2a8d4f5d691f139\"]"
   ]
  },
  {
   "cell_type": "code",
   "execution_count": 10,
   "id": "05306fb2-7054-4e3e-bbb7-78b9a23825c9",
   "metadata": {},
   "outputs": [
    {
     "data": {
      "text/plain": [
       "<syft.proxy.syft.core.tensor.tensor.TensorPointer at 0x13db5faf0>"
      ]
     },
     "execution_count": 10,
     "metadata": {},
     "output_type": "execute_result"
    }
   ],
   "source": [
    "private_dataset_ptr"
   ]
  },
  {
   "cell_type": "code",
   "execution_count": 11,
   "id": "62371797-9eee-41dd-abbf-2147ab70aab5",
   "metadata": {},
   "outputs": [],
   "source": [
    "private_dataset_ptr.request(reason=\"Need to access the dataset\")"
   ]
  },
  {
   "cell_type": "markdown",
   "id": "5183d907-014f-4130-bdaf-a0c8aefbf675",
   "metadata": {},
   "source": [
    "# Working with remote analysis\n",
    "\n",
    "## Columns in remote dataset:\n",
    "Classification\n",
    "Year\n",
    "Period\n",
    "Period Desc.\n",
    "Aggregate Level\n",
    "Is Leaf Code\n",
    "\n",
    "Trade Flow Code\n",
    "Trade Flow\n",
    "Reporter Code\n",
    "Reporter\n",
    "Reporter ISO\n",
    "Partner Code\n",
    "Partner\n",
    "Partner ISO\n",
    "Commodity Code\n",
    "Commodity\n",
    "Qty Unit Code\n",
    "Qty Unit\n",
    "Qty\n",
    "Netweight (kg)\n",
    "Trade Value (US$)\n",
    "Flag\n",
    "\n"
   ]
  },
  {
   "cell_type": "code",
   "execution_count": 12,
   "id": "fceea4ba-8b9c-4364-8421-0f9a6b99d161",
   "metadata": {},
   "outputs": [
    {
     "name": "stderr",
     "output_type": "stream",
     "text": [
      "[2021-08-11T11:35:46.003018-0400][CRITICAL][logger]][26891] You do not have permission to .get() Object with ID: <UID: db0a433c93484a9ca2a8d4f5d691f139>Please submit a request.\n"
     ]
    },
    {
     "ename": "AuthorizationException",
     "evalue": "You do not have permission to .get() Object with ID: <UID: db0a433c93484a9ca2a8d4f5d691f139>Please submit a request.",
     "output_type": "error",
     "traceback": [
      "\u001b[0;31m---------------------------------------------------------------------------\u001b[0m",
      "\u001b[0;31mAuthorizationException\u001b[0m                    Traceback (most recent call last)",
      "\u001b[0;32m/var/folders/cs/tql716257t32sb3kr5r9rbkc0000gn/T/ipykernel_26891/3635442058.py\u001b[0m in \u001b[0;36m<module>\u001b[0;34m\u001b[0m\n\u001b[0;32m----> 1\u001b[0;31m \u001b[0mprivate_dataset_ptr\u001b[0m\u001b[0;34m.\u001b[0m\u001b[0mget\u001b[0m\u001b[0;34m(\u001b[0m\u001b[0;34m)\u001b[0m\u001b[0;34m\u001b[0m\u001b[0;34m\u001b[0m\u001b[0m\n\u001b[0m",
      "\u001b[0;32m~/PycharmProjects/PySyft/packages/syft/src/syft/core/pointer/pointer.py\u001b[0m in \u001b[0;36mget\u001b[0;34m(self, request_block, timeout_secs, reason, delete_obj, verbose)\u001b[0m\n\u001b[1;32m    273\u001b[0m \u001b[0;34m\u001b[0m\u001b[0m\n\u001b[1;32m    274\u001b[0m         \u001b[0;32mif\u001b[0m \u001b[0;32mnot\u001b[0m \u001b[0mrequest_block\u001b[0m\u001b[0;34m:\u001b[0m\u001b[0;34m\u001b[0m\u001b[0;34m\u001b[0m\u001b[0m\n\u001b[0;32m--> 275\u001b[0;31m             \u001b[0mresult\u001b[0m \u001b[0;34m=\u001b[0m \u001b[0mself\u001b[0m\u001b[0;34m.\u001b[0m\u001b[0m_get\u001b[0m\u001b[0;34m(\u001b[0m\u001b[0mdelete_obj\u001b[0m\u001b[0;34m=\u001b[0m\u001b[0mdelete_obj\u001b[0m\u001b[0;34m,\u001b[0m \u001b[0mverbose\u001b[0m\u001b[0;34m=\u001b[0m\u001b[0mverbose\u001b[0m\u001b[0;34m)\u001b[0m\u001b[0;34m\u001b[0m\u001b[0;34m\u001b[0m\u001b[0m\n\u001b[0m\u001b[1;32m    276\u001b[0m         \u001b[0;32melse\u001b[0m\u001b[0;34m:\u001b[0m\u001b[0;34m\u001b[0m\u001b[0;34m\u001b[0m\u001b[0m\n\u001b[1;32m    277\u001b[0m             response_status = self.request(\n",
      "\u001b[0;32m~/PycharmProjects/PySyft/packages/syft/src/syft/core/pointer/pointer.py\u001b[0m in \u001b[0;36m_get\u001b[0;34m(self, delete_obj, verbose)\u001b[0m\n\u001b[1;32m    177\u001b[0m         )\n\u001b[1;32m    178\u001b[0m \u001b[0;34m\u001b[0m\u001b[0m\n\u001b[0;32m--> 179\u001b[0;31m         \u001b[0mobj\u001b[0m \u001b[0;34m=\u001b[0m \u001b[0mself\u001b[0m\u001b[0;34m.\u001b[0m\u001b[0mclient\u001b[0m\u001b[0;34m.\u001b[0m\u001b[0msend_immediate_msg_with_reply\u001b[0m\u001b[0;34m(\u001b[0m\u001b[0mmsg\u001b[0m\u001b[0;34m=\u001b[0m\u001b[0mobj_msg\u001b[0m\u001b[0;34m)\u001b[0m\u001b[0;34m.\u001b[0m\u001b[0mdata\u001b[0m\u001b[0;34m\u001b[0m\u001b[0;34m\u001b[0m\u001b[0m\n\u001b[0m\u001b[1;32m    180\u001b[0m         \u001b[0;32mif\u001b[0m \u001b[0mself\u001b[0m\u001b[0;34m.\u001b[0m\u001b[0mis_enum\u001b[0m\u001b[0;34m:\u001b[0m\u001b[0;34m\u001b[0m\u001b[0;34m\u001b[0m\u001b[0m\n\u001b[1;32m    181\u001b[0m             \u001b[0menum_class\u001b[0m \u001b[0;34m=\u001b[0m \u001b[0mself\u001b[0m\u001b[0;34m.\u001b[0m\u001b[0mclient\u001b[0m\u001b[0;34m.\u001b[0m\u001b[0mlib_ast\u001b[0m\u001b[0;34m.\u001b[0m\u001b[0mquery\u001b[0m\u001b[0;34m(\u001b[0m\u001b[0mself\u001b[0m\u001b[0;34m.\u001b[0m\u001b[0mpath_and_name\u001b[0m\u001b[0;34m)\u001b[0m\u001b[0;34m.\u001b[0m\u001b[0mobject_ref\u001b[0m\u001b[0;34m\u001b[0m\u001b[0;34m\u001b[0m\u001b[0m\n",
      "\u001b[0;32m~/PycharmProjects/PySyft/packages/syft/src/syft/core/node/common/client.py\u001b[0m in \u001b[0;36msend_immediate_msg_with_reply\u001b[0;34m(self, msg, route_index)\u001b[0m\n\u001b[1;32m    241\u001b[0m                 \u001b[0mexception\u001b[0m \u001b[0;34m=\u001b[0m \u001b[0mexception_msg\u001b[0m\u001b[0;34m.\u001b[0m\u001b[0mexception_type\u001b[0m\u001b[0;34m(\u001b[0m\u001b[0mexception_msg\u001b[0m\u001b[0;34m.\u001b[0m\u001b[0mexception_msg\u001b[0m\u001b[0;34m)\u001b[0m\u001b[0;34m\u001b[0m\u001b[0;34m\u001b[0m\u001b[0m\n\u001b[1;32m    242\u001b[0m                 \u001b[0merror\u001b[0m\u001b[0;34m(\u001b[0m\u001b[0mstr\u001b[0m\u001b[0;34m(\u001b[0m\u001b[0mexception\u001b[0m\u001b[0;34m)\u001b[0m\u001b[0;34m)\u001b[0m\u001b[0;34m\u001b[0m\u001b[0;34m\u001b[0m\u001b[0m\n\u001b[0;32m--> 243\u001b[0;31m                 \u001b[0mtraceback_and_raise\u001b[0m\u001b[0;34m(\u001b[0m\u001b[0mexception\u001b[0m\u001b[0;34m)\u001b[0m\u001b[0;34m\u001b[0m\u001b[0;34m\u001b[0m\u001b[0m\n\u001b[0m\u001b[1;32m    244\u001b[0m             \u001b[0;32melse\u001b[0m\u001b[0;34m:\u001b[0m\u001b[0;34m\u001b[0m\u001b[0;34m\u001b[0m\u001b[0m\n\u001b[1;32m    245\u001b[0m                 \u001b[0;32mreturn\u001b[0m \u001b[0mresponse\u001b[0m\u001b[0;34m.\u001b[0m\u001b[0mmessage\u001b[0m\u001b[0;34m\u001b[0m\u001b[0;34m\u001b[0m\u001b[0m\n",
      "\u001b[0;32m~/PycharmProjects/PySyft/packages/syft/src/syft/logger.py\u001b[0m in \u001b[0;36mtraceback_and_raise\u001b[0;34m(e, verbose)\u001b[0m\n\u001b[1;32m     59\u001b[0m     \u001b[0;32mif\u001b[0m \u001b[0;32mnot\u001b[0m \u001b[0missubclass\u001b[0m\u001b[0;34m(\u001b[0m\u001b[0mtype\u001b[0m\u001b[0;34m(\u001b[0m\u001b[0me\u001b[0m\u001b[0;34m)\u001b[0m\u001b[0;34m,\u001b[0m \u001b[0mException\u001b[0m\u001b[0;34m)\u001b[0m\u001b[0;34m:\u001b[0m\u001b[0;34m\u001b[0m\u001b[0;34m\u001b[0m\u001b[0m\n\u001b[1;32m     60\u001b[0m         \u001b[0me\u001b[0m \u001b[0;34m=\u001b[0m \u001b[0mException\u001b[0m\u001b[0;34m(\u001b[0m\u001b[0me\u001b[0m\u001b[0;34m)\u001b[0m\u001b[0;34m\u001b[0m\u001b[0;34m\u001b[0m\u001b[0m\n\u001b[0;32m---> 61\u001b[0;31m     \u001b[0;32mraise\u001b[0m \u001b[0me\u001b[0m\u001b[0;34m\u001b[0m\u001b[0;34m\u001b[0m\u001b[0m\n\u001b[0m\u001b[1;32m     62\u001b[0m \u001b[0;34m\u001b[0m\u001b[0m\n\u001b[1;32m     63\u001b[0m \u001b[0;34m\u001b[0m\u001b[0m\n",
      "\u001b[0;31mAuthorizationException\u001b[0m: You do not have permission to .get() Object with ID: <UID: db0a433c93484a9ca2a8d4f5d691f139>Please submit a request."
     ]
    }
   ],
   "source": [
    "# Our request was denied, we will get an error\n",
    "private_dataset_ptr.get()"
   ]
  },
  {
   "cell_type": "code",
   "execution_count": 18,
   "id": "f117cdbd-038a-4f41-af94-6b3def314250",
   "metadata": {},
   "outputs": [
    {
     "name": "stdout",
     "output_type": "stream",
     "text": [
      "{'request_block': True, 'timeout_secs': 25, 'delete_obj': False}\n"
     ]
    },
    {
     "name": "stderr",
     "output_type": "stream",
     "text": [
      "[2021-08-11T12:06:45.554360-0400][CRITICAL][logger]][26891] Request to access data length rejected.\n"
     ]
    },
    {
     "ename": "ValueError",
     "evalue": "Request to access data length rejected.",
     "output_type": "error",
     "traceback": [
      "\u001b[0;31m---------------------------------------------------------------------------\u001b[0m",
      "\u001b[0;31mModuleNotFoundError\u001b[0m                       Traceback (most recent call last)",
      "\u001b[0;32m~/PycharmProjects/PySyft/packages/syft/src/syft/ast/klass.py\u001b[0m in \u001b[0;36m__len__\u001b[0;34m(self)\u001b[0m\n\u001b[1;32m    455\u001b[0m                 \u001b[0mprint\u001b[0m\u001b[0;34m(\u001b[0m\u001b[0mself\u001b[0m\u001b[0;34m.\u001b[0m\u001b[0mget_request_config\u001b[0m\u001b[0;34m(\u001b[0m\u001b[0;34m)\u001b[0m\u001b[0;34m)\u001b[0m\u001b[0;34m\u001b[0m\u001b[0;34m\u001b[0m\u001b[0m\n\u001b[0;32m--> 456\u001b[0;31m                 \u001b[0mdata_len\u001b[0m \u001b[0;34m=\u001b[0m \u001b[0mdata_len_ptr\u001b[0m\u001b[0;34m.\u001b[0m\u001b[0mget\u001b[0m\u001b[0;34m(\u001b[0m\u001b[0;34m**\u001b[0m\u001b[0mself\u001b[0m\u001b[0;34m.\u001b[0m\u001b[0mget_request_config\u001b[0m\u001b[0;34m(\u001b[0m\u001b[0;34m)\u001b[0m\u001b[0;34m)\u001b[0m\u001b[0;34m\u001b[0m\u001b[0;34m\u001b[0m\u001b[0m\n\u001b[0m\u001b[1;32m    457\u001b[0m \u001b[0;34m\u001b[0m\u001b[0m\n",
      "\u001b[0;32m~/PycharmProjects/PySyft/packages/syft/src/syft/core/pointer/pointer.py\u001b[0m in \u001b[0;36mget\u001b[0;34m(self, request_block, timeout_secs, reason, delete_obj, verbose)\u001b[0m\n\u001b[1;32m    276\u001b[0m         \u001b[0;32melse\u001b[0m\u001b[0;34m:\u001b[0m\u001b[0;34m\u001b[0m\u001b[0;34m\u001b[0m\u001b[0m\n\u001b[0;32m--> 277\u001b[0;31m             response_status = self.request(\n\u001b[0m\u001b[1;32m    278\u001b[0m                 \u001b[0mreason\u001b[0m\u001b[0;34m=\u001b[0m\u001b[0mreason\u001b[0m\u001b[0;34m,\u001b[0m\u001b[0;34m\u001b[0m\u001b[0;34m\u001b[0m\u001b[0m\n",
      "\u001b[0;32m~/PycharmProjects/PySyft/packages/syft/src/syft/core/pointer/pointer.py\u001b[0m in \u001b[0;36mrequest\u001b[0;34m(self, reason, block, timeout_secs, verbose)\u001b[0m\n\u001b[1;32m    446\u001b[0m             \u001b[0;31m# relative\u001b[0m\u001b[0;34m\u001b[0m\u001b[0;34m\u001b[0m\u001b[0;34m\u001b[0m\u001b[0m\n\u001b[0;32m--> 447\u001b[0;31m             \u001b[0;32mfrom\u001b[0m \u001b[0;34m.\u001b[0m\u001b[0;34m.\u001b[0m\u001b[0mnode\u001b[0m\u001b[0;34m.\u001b[0m\u001b[0mdomain\u001b[0m\u001b[0;34m.\u001b[0m\u001b[0mservice\u001b[0m \u001b[0;32mimport\u001b[0m \u001b[0mRequestAnswerMessage\u001b[0m\u001b[0;34m\u001b[0m\u001b[0;34m\u001b[0m\u001b[0m\n\u001b[0m\u001b[1;32m    448\u001b[0m             \u001b[0;32mfrom\u001b[0m \u001b[0;34m.\u001b[0m\u001b[0;34m.\u001b[0m\u001b[0mnode\u001b[0m\u001b[0;34m.\u001b[0m\u001b[0mdomain\u001b[0m\u001b[0;34m.\u001b[0m\u001b[0mservice\u001b[0m \u001b[0;32mimport\u001b[0m \u001b[0mRequestStatus\u001b[0m\u001b[0;34m\u001b[0m\u001b[0;34m\u001b[0m\u001b[0m\n",
      "\u001b[0;31mModuleNotFoundError\u001b[0m: No module named 'syft.core.node.domain.service'",
      "\nDuring handling of the above exception, another exception occurred:\n",
      "\u001b[0;31mValueError\u001b[0m                                Traceback (most recent call last)",
      "\u001b[0;32m/var/folders/cs/tql716257t32sb3kr5r9rbkc0000gn/T/ipykernel_26891/328784020.py\u001b[0m in \u001b[0;36m<module>\u001b[0;34m\u001b[0m\n\u001b[1;32m      1\u001b[0m \u001b[0mtotal_sum\u001b[0m \u001b[0;34m=\u001b[0m \u001b[0;36m0\u001b[0m\u001b[0;34m\u001b[0m\u001b[0;34m\u001b[0m\u001b[0m\n\u001b[1;32m      2\u001b[0m \u001b[0;32mfor\u001b[0m \u001b[0mrow\u001b[0m \u001b[0;32min\u001b[0m \u001b[0mprivate_dataset_ptr\u001b[0m\u001b[0;34m:\u001b[0m\u001b[0;34m\u001b[0m\u001b[0;34m\u001b[0m\u001b[0m\n\u001b[0;32m----> 3\u001b[0;31m     \u001b[0;32mif\u001b[0m \u001b[0mrow\u001b[0m\u001b[0;34m[\u001b[0m\u001b[0;36m6\u001b[0m\u001b[0;34m]\u001b[0m \u001b[0;34m==\u001b[0m \u001b[0;36m1\u001b[0m\u001b[0;34m:\u001b[0m  \u001b[0;31m# Trade Flow Code 1 == Import\u001b[0m\u001b[0;34m\u001b[0m\u001b[0;34m\u001b[0m\u001b[0m\n\u001b[0m\u001b[1;32m      4\u001b[0m         \u001b[0mprint\u001b[0m\u001b[0;34m(\u001b[0m\u001b[0;34m\"This row was imported\"\u001b[0m\u001b[0;34m)\u001b[0m\u001b[0;34m\u001b[0m\u001b[0;34m\u001b[0m\u001b[0m\n\u001b[1;32m      5\u001b[0m         \u001b[0mtotal_sum\u001b[0m \u001b[0;34m+=\u001b[0m \u001b[0mrow\u001b[0m\u001b[0;34m[\u001b[0m\u001b[0;34m-\u001b[0m\u001b[0;36m2\u001b[0m\u001b[0;34m]\u001b[0m\u001b[0;34m\u001b[0m\u001b[0;34m\u001b[0m\u001b[0m\n",
      "\u001b[0;32m~/PycharmProjects/PySyft/packages/syft/src/syft/ast/klass.py\u001b[0m in \u001b[0;36m__len__\u001b[0;34m(self)\u001b[0m\n\u001b[1;32m    461\u001b[0m                 \u001b[0;32mreturn\u001b[0m \u001b[0mdata_len\u001b[0m\u001b[0;34m\u001b[0m\u001b[0;34m\u001b[0m\u001b[0m\n\u001b[1;32m    462\u001b[0m             \u001b[0;32mexcept\u001b[0m \u001b[0mException\u001b[0m\u001b[0;34m:\u001b[0m\u001b[0;34m\u001b[0m\u001b[0;34m\u001b[0m\u001b[0m\n\u001b[0;32m--> 463\u001b[0;31m                 traceback_and_raise(\n\u001b[0m\u001b[1;32m    464\u001b[0m                     \u001b[0mValueError\u001b[0m\u001b[0;34m(\u001b[0m\u001b[0;34m\"Request to access data length rejected.\"\u001b[0m\u001b[0;34m)\u001b[0m\u001b[0;34m\u001b[0m\u001b[0;34m\u001b[0m\u001b[0m\n\u001b[1;32m    465\u001b[0m                 )\n",
      "\u001b[0;32m~/PycharmProjects/PySyft/packages/syft/src/syft/logger.py\u001b[0m in \u001b[0;36mtraceback_and_raise\u001b[0;34m(e, verbose)\u001b[0m\n\u001b[1;32m     59\u001b[0m     \u001b[0;32mif\u001b[0m \u001b[0;32mnot\u001b[0m \u001b[0missubclass\u001b[0m\u001b[0;34m(\u001b[0m\u001b[0mtype\u001b[0m\u001b[0;34m(\u001b[0m\u001b[0me\u001b[0m\u001b[0;34m)\u001b[0m\u001b[0;34m,\u001b[0m \u001b[0mException\u001b[0m\u001b[0;34m)\u001b[0m\u001b[0;34m:\u001b[0m\u001b[0;34m\u001b[0m\u001b[0;34m\u001b[0m\u001b[0m\n\u001b[1;32m     60\u001b[0m         \u001b[0me\u001b[0m \u001b[0;34m=\u001b[0m \u001b[0mException\u001b[0m\u001b[0;34m(\u001b[0m\u001b[0me\u001b[0m\u001b[0;34m)\u001b[0m\u001b[0;34m\u001b[0m\u001b[0;34m\u001b[0m\u001b[0m\n\u001b[0;32m---> 61\u001b[0;31m     \u001b[0;32mraise\u001b[0m \u001b[0me\u001b[0m\u001b[0;34m\u001b[0m\u001b[0;34m\u001b[0m\u001b[0m\n\u001b[0m\u001b[1;32m     62\u001b[0m \u001b[0;34m\u001b[0m\u001b[0m\n\u001b[1;32m     63\u001b[0m \u001b[0;34m\u001b[0m\u001b[0m\n",
      "\u001b[0;31mValueError\u001b[0m: Request to access data length rejected."
     ]
    }
   ],
   "source": [
    "total_sum = 0\n",
    "for row in private_dataset_ptr:\n",
    "    if row[6] == 1:  # Trade Flow Code 1 == Import\n",
    "        print(\"This row was imported\")\n",
    "        total_sum += row[-2]\n",
    "print(f'The total value of all Canadian Imports in this dataset amounts to USD${total_sum}')"
   ]
  },
  {
   "cell_type": "code",
   "execution_count": 17,
   "id": "a9169840-cb74-4bbb-8dca-dcda13dff1c9",
   "metadata": {},
   "outputs": [
    {
     "name": "stdout",
     "output_type": "stream",
     "text": [
      "<syft.proxy.syft.core.tensor.tensor.TensorPointer object at 0x13de11160>\n",
      "<syft.proxy.syft.core.tensor.tensor.TensorPointer object at 0x10454d5e0>\n",
      "<syft.proxy.syft.core.tensor.tensor.TensorPointer object at 0x13ddeb5b0>\n",
      "<syft.proxy.syft.core.tensor.tensor.TensorPointer object at 0x13e3ca670>\n",
      "<syft.proxy.syft.core.tensor.tensor.TensorPointer object at 0x13d7f5ee0>\n",
      "<syft.proxy.syft.core.tensor.tensor.TensorPointer object at 0x13dbc8340>\n",
      "<syft.proxy.syft.core.tensor.tensor.TensorPointer object at 0x13e3ca670>\n",
      "<syft.proxy.syft.core.tensor.tensor.TensorPointer object at 0x13ddeba00>\n",
      "<syft.proxy.syft.core.tensor.tensor.TensorPointer object at 0x13d7f84f0>\n",
      "<syft.proxy.syft.core.tensor.tensor.TensorPointer object at 0x13dbc81c0>\n",
      "<syft.proxy.syft.core.tensor.tensor.TensorPointer object at 0x13dbc8340>\n",
      "<syft.proxy.syft.core.tensor.tensor.TensorPointer object at 0x13ddeba00>\n",
      "<syft.proxy.syft.core.tensor.tensor.TensorPointer object at 0x13e3ca790>\n",
      "<syft.proxy.syft.core.tensor.tensor.TensorPointer object at 0x13ddeba00>\n",
      "<syft.proxy.syft.core.tensor.tensor.TensorPointer object at 0x10454d5e0>\n",
      "<syft.proxy.syft.core.tensor.tensor.TensorPointer object at 0x13ddeb130>\n",
      "<syft.proxy.syft.core.tensor.tensor.TensorPointer object at 0x13e3ca670>\n",
      "<syft.proxy.syft.core.tensor.tensor.TensorPointer object at 0x13d7f5cd0>\n",
      "<syft.proxy.syft.core.tensor.tensor.TensorPointer object at 0x13e3ca670>\n",
      "<syft.proxy.syft.core.tensor.tensor.TensorPointer object at 0x13e2289a0>\n",
      "<syft.proxy.syft.core.tensor.tensor.TensorPointer object at 0x13de11160>\n",
      "<syft.proxy.syft.core.tensor.tensor.TensorPointer object at 0x13dbc8340>\n",
      "<syft.proxy.syft.core.tensor.tensor.TensorPointer object at 0x13de11dc0>\n",
      "<syft.proxy.syft.core.tensor.tensor.TensorPointer object at 0x13dbc82e0>\n",
      "<syft.proxy.syft.core.tensor.tensor.TensorPointer object at 0x13de11670>\n",
      "<syft.proxy.syft.core.tensor.tensor.TensorPointer object at 0x13dbc81c0>\n",
      "<syft.proxy.syft.core.tensor.tensor.TensorPointer object at 0x10454d5e0>\n",
      "<syft.proxy.syft.core.tensor.tensor.TensorPointer object at 0x13ddeb130>\n",
      "<syft.proxy.syft.core.tensor.tensor.TensorPointer object at 0x13d7f5cd0>\n",
      "<syft.proxy.syft.core.tensor.tensor.TensorPointer object at 0x13ddebb80>\n",
      "<syft.proxy.syft.core.tensor.tensor.TensorPointer object at 0x13ddebfd0>\n",
      "<syft.proxy.syft.core.tensor.tensor.TensorPointer object at 0x13d7f84f0>\n",
      "<syft.proxy.syft.core.tensor.tensor.TensorPointer object at 0x13de112e0>\n",
      "<syft.proxy.syft.core.tensor.tensor.TensorPointer object at 0x13dbc82e0>\n",
      "<syft.proxy.syft.core.tensor.tensor.TensorPointer object at 0x13de11220>\n",
      "<syft.proxy.syft.core.tensor.tensor.TensorPointer object at 0x13ddeb5b0>\n",
      "<syft.proxy.syft.core.tensor.tensor.TensorPointer object at 0x13d7f84f0>\n",
      "<syft.proxy.syft.core.tensor.tensor.TensorPointer object at 0x10454d5e0>\n",
      "<syft.proxy.syft.core.tensor.tensor.TensorPointer object at 0x13dbc8340>\n",
      "<syft.proxy.syft.core.tensor.tensor.TensorPointer object at 0x13ddeb130>\n",
      "<syft.proxy.syft.core.tensor.tensor.TensorPointer object at 0x13ddeb5b0>\n",
      "<syft.proxy.syft.core.tensor.tensor.TensorPointer object at 0x13dbc8340>\n",
      "<syft.proxy.syft.core.tensor.tensor.TensorPointer object at 0x13dbc82e0>\n",
      "<syft.proxy.syft.core.tensor.tensor.TensorPointer object at 0x13dbc8340>\n",
      "<syft.proxy.syft.core.tensor.tensor.TensorPointer object at 0x13e3ca670>\n",
      "<syft.proxy.syft.core.tensor.tensor.TensorPointer object at 0x13e2289a0>\n",
      "<syft.proxy.syft.core.tensor.tensor.TensorPointer object at 0x13e3ca670>\n",
      "<syft.proxy.syft.core.tensor.tensor.TensorPointer object at 0x13dbc81c0>\n",
      "<syft.proxy.syft.core.tensor.tensor.TensorPointer object at 0x13d7f5ee0>\n",
      "<syft.proxy.syft.core.tensor.tensor.TensorPointer object at 0x13e2289a0>\n",
      "<syft.proxy.syft.core.tensor.tensor.TensorPointer object at 0x13dbc82e0>\n",
      "<syft.proxy.syft.core.tensor.tensor.TensorPointer object at 0x13e2289a0>\n",
      "<syft.proxy.syft.core.tensor.tensor.TensorPointer object at 0x13d7f5cd0>\n",
      "<syft.proxy.syft.core.tensor.tensor.TensorPointer object at 0x13ddeb5b0>\n",
      "<syft.proxy.syft.core.tensor.tensor.TensorPointer object at 0x13db56160>\n",
      "<syft.proxy.syft.core.tensor.tensor.TensorPointer object at 0x10454d5e0>\n",
      "<syft.proxy.syft.core.tensor.tensor.TensorPointer object at 0x13d7f5cd0>\n",
      "<syft.proxy.syft.core.tensor.tensor.TensorPointer object at 0x13ddeb130>\n",
      "<syft.proxy.syft.core.tensor.tensor.TensorPointer object at 0x13d7f5cd0>\n",
      "<syft.proxy.syft.core.tensor.tensor.TensorPointer object at 0x13ddeba00>\n",
      "<syft.proxy.syft.core.tensor.tensor.TensorPointer object at 0x13e3ca790>\n",
      "<syft.proxy.syft.core.tensor.tensor.TensorPointer object at 0x13dbc81c0>\n",
      "<syft.proxy.syft.core.tensor.tensor.TensorPointer object at 0x13ddebb80>\n",
      "<syft.proxy.syft.core.tensor.tensor.TensorPointer object at 0x13db56160>\n",
      "<syft.proxy.syft.core.tensor.tensor.TensorPointer object at 0x13d7f5ee0>\n",
      "<syft.proxy.syft.core.tensor.tensor.TensorPointer object at 0x13de11dc0>\n",
      "<syft.proxy.syft.core.tensor.tensor.TensorPointer object at 0x13dbc82e0>\n",
      "<syft.proxy.syft.core.tensor.tensor.TensorPointer object at 0x13e3ca790>\n",
      "<syft.proxy.syft.core.tensor.tensor.TensorPointer object at 0x13d7f84f0>\n",
      "<syft.proxy.syft.core.tensor.tensor.TensorPointer object at 0x13ddebfd0>\n",
      "<syft.proxy.syft.core.tensor.tensor.TensorPointer object at 0x13de11670>\n",
      "<syft.proxy.syft.core.tensor.tensor.TensorPointer object at 0x13dbc8340>\n",
      "<syft.proxy.syft.core.tensor.tensor.TensorPointer object at 0x13d7f84f0>\n",
      "<syft.proxy.syft.core.tensor.tensor.TensorPointer object at 0x13db56160>\n",
      "<syft.proxy.syft.core.tensor.tensor.TensorPointer object at 0x13e3ca670>\n",
      "<syft.proxy.syft.core.tensor.tensor.TensorPointer object at 0x13dbc81c0>\n",
      "<syft.proxy.syft.core.tensor.tensor.TensorPointer object at 0x13ddeba00>\n",
      "<syft.proxy.syft.core.tensor.tensor.TensorPointer object at 0x13e3ca670>\n",
      "<syft.proxy.syft.core.tensor.tensor.TensorPointer object at 0x10454d5e0>\n",
      "<syft.proxy.syft.core.tensor.tensor.TensorPointer object at 0x13de11310>\n",
      "<syft.proxy.syft.core.tensor.tensor.TensorPointer object at 0x13d7f84f0>\n",
      "<syft.proxy.syft.core.tensor.tensor.TensorPointer object at 0x13db56160>\n",
      "<syft.proxy.syft.core.tensor.tensor.TensorPointer object at 0x13dbc82e0>\n",
      "<syft.proxy.syft.core.tensor.tensor.TensorPointer object at 0x13dbc8340>\n",
      "<syft.proxy.syft.core.tensor.tensor.TensorPointer object at 0x13ddeba00>\n",
      "<syft.proxy.syft.core.tensor.tensor.TensorPointer object at 0x13d7f5ee0>\n",
      "<syft.proxy.syft.core.tensor.tensor.TensorPointer object at 0x13e3ca670>\n",
      "<syft.proxy.syft.core.tensor.tensor.TensorPointer object at 0x13d7f5ee0>\n",
      "<syft.proxy.syft.core.tensor.tensor.TensorPointer object at 0x13ddeb130>\n",
      "<syft.proxy.syft.core.tensor.tensor.TensorPointer object at 0x13ddebfd0>\n",
      "<syft.proxy.syft.core.tensor.tensor.TensorPointer object at 0x13e3ca790>\n",
      "<syft.proxy.syft.core.tensor.tensor.TensorPointer object at 0x13dbc82e0>\n",
      "<syft.proxy.syft.core.tensor.tensor.TensorPointer object at 0x13ddeba00>\n",
      "<syft.proxy.syft.core.tensor.tensor.TensorPointer object at 0x13dbc8340>\n",
      "<syft.proxy.syft.core.tensor.tensor.TensorPointer object at 0x13d7f5cd0>\n",
      "<syft.proxy.syft.core.tensor.tensor.TensorPointer object at 0x13d7f84f0>\n",
      "<syft.proxy.syft.core.tensor.tensor.TensorPointer object at 0x13ddeb130>\n",
      "<syft.proxy.syft.core.tensor.tensor.TensorPointer object at 0x13d7f5ee0>\n",
      "<syft.proxy.syft.core.tensor.tensor.TensorPointer object at 0x13e2289a0>\n",
      "<syft.proxy.syft.core.tensor.tensor.TensorPointer object at 0x13db56160>\n",
      "<syft.proxy.syft.core.tensor.tensor.TensorPointer object at 0x13e3ca790>\n",
      "<syft.proxy.syft.core.tensor.tensor.TensorPointer object at 0x13dbc8340>\n",
      "<syft.proxy.syft.core.tensor.tensor.TensorPointer object at 0x13d7f84f0>\n",
      "<syft.proxy.syft.core.tensor.tensor.TensorPointer object at 0x13e2289a0>\n",
      "<syft.proxy.syft.core.tensor.tensor.TensorPointer object at 0x13e3ca790>\n",
      "<syft.proxy.syft.core.tensor.tensor.TensorPointer object at 0x13ddebb80>\n",
      "<syft.proxy.syft.core.tensor.tensor.TensorPointer object at 0x13e3ca790>\n",
      "<syft.proxy.syft.core.tensor.tensor.TensorPointer object at 0x13dbc82e0>\n",
      "<syft.proxy.syft.core.tensor.tensor.TensorPointer object at 0x13dbc8340>\n",
      "<syft.proxy.syft.core.tensor.tensor.TensorPointer object at 0x13ddeb130>\n",
      "<syft.proxy.syft.core.tensor.tensor.TensorPointer object at 0x13dbc8340>\n",
      "<syft.proxy.syft.core.tensor.tensor.TensorPointer object at 0x13e3ca790>\n"
     ]
    },
    {
     "name": "stderr",
     "output_type": "stream",
     "text": [
      "Exception ignored in: <function Pointer.__del__ at 0x114757af0>\n",
      "Traceback (most recent call last):\n",
      "  File \"/Users/ishanmishra/PycharmProjects/PySyft/packages/syft/src/syft/core/pointer/pointer.py\", line 597, in __del__\n",
      "    self.client.gc.apply(self)\n",
      "  File \"/Users/ishanmishra/PycharmProjects/PySyft/packages/syft/src/syft/core/pointer/garbage_collection/garbage_collection.py\", line 49, in apply\n",
      "    self._gc_strategy.reap(pointer)\n",
      "  File \"/Users/ishanmishra/PycharmProjects/PySyft/packages/syft/src/syft/core/pointer/garbage_collection/gc_simple.py\", line 35, in reap\n",
      "    pointer.client.send_eventual_msg_without_reply(msg=msg)\n",
      "  File \"/Users/ishanmishra/PycharmProjects/PySyft/packages/syft/src/syft/core/node/common/client.py\", line 285, in send_eventual_msg_without_reply\n",
      "    self.routes[route_index].send_eventual_msg_without_reply(msg=signed_msg)\n",
      "  File \"/Users/ishanmishra/PycharmProjects/PySyft/packages/syft/src/syft/core/io/route.py\", line 175, in send_eventual_msg_without_reply\n",
      "    self.connection.send_eventual_msg_without_reply(msg=msg)\n",
      "  File \"/Users/ishanmishra/PycharmProjects/PySyft/packages/syft/src/syft/grid/connections/http_connection.py\", line 78, in send_eventual_msg_without_reply\n",
      "    self._send_msg(msg=msg)\n",
      "  File \"/Users/ishanmishra/PycharmProjects/PySyft/packages/syft/src/syft/grid/client/grid_connection.py\", line 83, in _send_msg\n",
      "    r = requests.post(\n",
      "  File \"/Users/ishanmishra/PycharmProjects/PySyft/.tox/syft.jupyter/lib/python3.9/site-packages/requests/api.py\", line 117, in post\n",
      "    return request('post', url, data=data, json=json, **kwargs)\n",
      "  File \"/Users/ishanmishra/PycharmProjects/PySyft/.tox/syft.jupyter/lib/python3.9/site-packages/requests/api.py\", line 61, in request\n",
      "    return session.request(method=method, url=url, **kwargs)\n",
      "  File \"/Users/ishanmishra/PycharmProjects/PySyft/.tox/syft.jupyter/lib/python3.9/site-packages/requests/sessions.py\", line 542, in request\n",
      "    resp = self.send(prep, **send_kwargs)\n",
      "  File \"/Users/ishanmishra/PycharmProjects/PySyft/.tox/syft.jupyter/lib/python3.9/site-packages/requests/sessions.py\", line 655, in send\n",
      "    r = adapter.send(request, **kwargs)\n",
      "  File \"/Users/ishanmishra/PycharmProjects/PySyft/.tox/syft.jupyter/lib/python3.9/site-packages/requests/adapters.py\", line 439, in send\n",
      "    resp = conn.urlopen(\n",
      "  File \"/Users/ishanmishra/PycharmProjects/PySyft/.tox/syft.jupyter/lib/python3.9/site-packages/urllib3/connectionpool.py\", line 699, in urlopen\n",
      "    httplib_response = self._make_request(\n",
      "  File \"/Users/ishanmishra/PycharmProjects/PySyft/.tox/syft.jupyter/lib/python3.9/site-packages/urllib3/connectionpool.py\", line 445, in _make_request\n",
      "    six.raise_from(e, None)\n",
      "  File \"<string>\", line 3, in raise_from\n",
      "  File \"/Users/ishanmishra/PycharmProjects/PySyft/.tox/syft.jupyter/lib/python3.9/site-packages/urllib3/connectionpool.py\", line 440, in _make_request\n",
      "    httplib_response = conn.getresponse()\n",
      "  File \"/usr/local/Cellar/python@3.9/3.9.1_6/Frameworks/Python.framework/Versions/3.9/lib/python3.9/http/client.py\", line 1347, in getresponse\n",
      "    response.begin()\n",
      "  File \"/usr/local/Cellar/python@3.9/3.9.1_6/Frameworks/Python.framework/Versions/3.9/lib/python3.9/http/client.py\", line 307, in begin\n",
      "    version, status, reason = self._read_status()\n",
      "  File \"/usr/local/Cellar/python@3.9/3.9.1_6/Frameworks/Python.framework/Versions/3.9/lib/python3.9/http/client.py\", line 268, in _read_status\n",
      "    line = str(self.fp.readline(_MAXLINE + 1), \"iso-8859-1\")\n",
      "  File \"/usr/local/Cellar/python@3.9/3.9.1_6/Frameworks/Python.framework/Versions/3.9/lib/python3.9/socket.py\", line 704, in readinto\n",
      "    return self._sock.recv_into(b)\n",
      "KeyboardInterrupt: \n"
     ]
    },
    {
     "name": "stdout",
     "output_type": "stream",
     "text": [
      "<syft.proxy.syft.core.tensor.tensor.TensorPointer object at 0x13d7f5cd0>\n"
     ]
    },
    {
     "name": "stderr",
     "output_type": "stream",
     "text": [
      "Exception ignored in: <function Pointer.__del__ at 0x114757af0>\n",
      "Traceback (most recent call last):\n",
      "  File \"/Users/ishanmishra/PycharmProjects/PySyft/packages/syft/src/syft/core/pointer/pointer.py\", line 597, in __del__\n",
      "    self.client.gc.apply(self)\n",
      "  File \"/Users/ishanmishra/PycharmProjects/PySyft/packages/syft/src/syft/core/pointer/garbage_collection/garbage_collection.py\", line 49, in apply\n",
      "    self._gc_strategy.reap(pointer)\n",
      "  File \"/Users/ishanmishra/PycharmProjects/PySyft/packages/syft/src/syft/core/pointer/garbage_collection/gc_simple.py\", line 35, in reap\n",
      "    pointer.client.send_eventual_msg_without_reply(msg=msg)\n",
      "  File \"/Users/ishanmishra/PycharmProjects/PySyft/packages/syft/src/syft/core/node/common/client.py\", line 285, in send_eventual_msg_without_reply\n",
      "    self.routes[route_index].send_eventual_msg_without_reply(msg=signed_msg)\n",
      "  File \"/Users/ishanmishra/PycharmProjects/PySyft/packages/syft/src/syft/core/io/route.py\", line 175, in send_eventual_msg_without_reply\n",
      "    self.connection.send_eventual_msg_without_reply(msg=msg)\n",
      "  File \"/Users/ishanmishra/PycharmProjects/PySyft/packages/syft/src/syft/grid/connections/http_connection.py\", line 78, in send_eventual_msg_without_reply\n",
      "    self._send_msg(msg=msg)\n",
      "  File \"/Users/ishanmishra/PycharmProjects/PySyft/packages/syft/src/syft/grid/client/grid_connection.py\", line 83, in _send_msg\n",
      "    r = requests.post(\n",
      "  File \"/Users/ishanmishra/PycharmProjects/PySyft/.tox/syft.jupyter/lib/python3.9/site-packages/requests/api.py\", line 117, in post\n",
      "    return request('post', url, data=data, json=json, **kwargs)\n",
      "  File \"/Users/ishanmishra/PycharmProjects/PySyft/.tox/syft.jupyter/lib/python3.9/site-packages/requests/api.py\", line 61, in request\n",
      "    return session.request(method=method, url=url, **kwargs)\n",
      "  File \"/Users/ishanmishra/PycharmProjects/PySyft/.tox/syft.jupyter/lib/python3.9/site-packages/requests/sessions.py\", line 542, in request\n",
      "    resp = self.send(prep, **send_kwargs)\n",
      "  File \"/Users/ishanmishra/PycharmProjects/PySyft/.tox/syft.jupyter/lib/python3.9/site-packages/requests/sessions.py\", line 655, in send\n",
      "    r = adapter.send(request, **kwargs)\n",
      "  File \"/Users/ishanmishra/PycharmProjects/PySyft/.tox/syft.jupyter/lib/python3.9/site-packages/requests/adapters.py\", line 439, in send\n",
      "    resp = conn.urlopen(\n",
      "  File \"/Users/ishanmishra/PycharmProjects/PySyft/.tox/syft.jupyter/lib/python3.9/site-packages/urllib3/connectionpool.py\", line 699, in urlopen\n",
      "    httplib_response = self._make_request(\n",
      "  File \"/Users/ishanmishra/PycharmProjects/PySyft/.tox/syft.jupyter/lib/python3.9/site-packages/urllib3/connectionpool.py\", line 445, in _make_request\n",
      "    six.raise_from(e, None)\n",
      "  File \"<string>\", line 3, in raise_from\n",
      "  File \"/Users/ishanmishra/PycharmProjects/PySyft/.tox/syft.jupyter/lib/python3.9/site-packages/urllib3/connectionpool.py\", line 440, in _make_request\n",
      "    httplib_response = conn.getresponse()\n",
      "  File \"/usr/local/Cellar/python@3.9/3.9.1_6/Frameworks/Python.framework/Versions/3.9/lib/python3.9/http/client.py\", line 1347, in getresponse\n",
      "    response.begin()\n",
      "  File \"/usr/local/Cellar/python@3.9/3.9.1_6/Frameworks/Python.framework/Versions/3.9/lib/python3.9/http/client.py\", line 307, in begin\n",
      "    version, status, reason = self._read_status()\n",
      "  File \"/usr/local/Cellar/python@3.9/3.9.1_6/Frameworks/Python.framework/Versions/3.9/lib/python3.9/http/client.py\", line 268, in _read_status\n",
      "    line = str(self.fp.readline(_MAXLINE + 1), \"iso-8859-1\")\n",
      "  File \"/usr/local/Cellar/python@3.9/3.9.1_6/Frameworks/Python.framework/Versions/3.9/lib/python3.9/socket.py\", line 704, in readinto\n",
      "    return self._sock.recv_into(b)\n",
      "KeyboardInterrupt: \n"
     ]
    },
    {
     "name": "stdout",
     "output_type": "stream",
     "text": [
      "<syft.proxy.syft.core.tensor.tensor.TensorPointer object at 0x13ddebfd0>\n"
     ]
    },
    {
     "name": "stderr",
     "output_type": "stream",
     "text": [
      "Exception ignored in: <function Pointer.__del__ at 0x114757af0>\n",
      "Traceback (most recent call last):\n",
      "  File \"/Users/ishanmishra/PycharmProjects/PySyft/packages/syft/src/syft/core/pointer/pointer.py\", line 597, in __del__\n",
      "    self.client.gc.apply(self)\n",
      "  File \"/Users/ishanmishra/PycharmProjects/PySyft/packages/syft/src/syft/core/pointer/garbage_collection/garbage_collection.py\", line 49, in apply\n",
      "    self._gc_strategy.reap(pointer)\n",
      "  File \"/Users/ishanmishra/PycharmProjects/PySyft/packages/syft/src/syft/core/pointer/garbage_collection/gc_simple.py\", line 35, in reap\n",
      "    pointer.client.send_eventual_msg_without_reply(msg=msg)\n",
      "  File \"/Users/ishanmishra/PycharmProjects/PySyft/packages/syft/src/syft/core/node/common/client.py\", line 285, in send_eventual_msg_without_reply\n",
      "    self.routes[route_index].send_eventual_msg_without_reply(msg=signed_msg)\n",
      "  File \"/Users/ishanmishra/PycharmProjects/PySyft/packages/syft/src/syft/core/io/route.py\", line 175, in send_eventual_msg_without_reply\n",
      "    self.connection.send_eventual_msg_without_reply(msg=msg)\n",
      "  File \"/Users/ishanmishra/PycharmProjects/PySyft/packages/syft/src/syft/grid/connections/http_connection.py\", line 78, in send_eventual_msg_without_reply\n",
      "    self._send_msg(msg=msg)\n",
      "  File \"/Users/ishanmishra/PycharmProjects/PySyft/packages/syft/src/syft/grid/client/grid_connection.py\", line 83, in _send_msg\n",
      "    r = requests.post(\n",
      "  File \"/Users/ishanmishra/PycharmProjects/PySyft/.tox/syft.jupyter/lib/python3.9/site-packages/requests/api.py\", line 117, in post\n",
      "    return request('post', url, data=data, json=json, **kwargs)\n",
      "  File \"/Users/ishanmishra/PycharmProjects/PySyft/.tox/syft.jupyter/lib/python3.9/site-packages/requests/api.py\", line 61, in request\n",
      "    return session.request(method=method, url=url, **kwargs)\n",
      "  File \"/Users/ishanmishra/PycharmProjects/PySyft/.tox/syft.jupyter/lib/python3.9/site-packages/requests/sessions.py\", line 542, in request\n",
      "    resp = self.send(prep, **send_kwargs)\n",
      "  File \"/Users/ishanmishra/PycharmProjects/PySyft/.tox/syft.jupyter/lib/python3.9/site-packages/requests/sessions.py\", line 655, in send\n",
      "    r = adapter.send(request, **kwargs)\n",
      "  File \"/Users/ishanmishra/PycharmProjects/PySyft/.tox/syft.jupyter/lib/python3.9/site-packages/requests/adapters.py\", line 439, in send\n",
      "    resp = conn.urlopen(\n",
      "  File \"/Users/ishanmishra/PycharmProjects/PySyft/.tox/syft.jupyter/lib/python3.9/site-packages/urllib3/connectionpool.py\", line 699, in urlopen\n",
      "    httplib_response = self._make_request(\n",
      "  File \"/Users/ishanmishra/PycharmProjects/PySyft/.tox/syft.jupyter/lib/python3.9/site-packages/urllib3/connectionpool.py\", line 445, in _make_request\n",
      "    six.raise_from(e, None)\n",
      "  File \"<string>\", line 3, in raise_from\n",
      "  File \"/Users/ishanmishra/PycharmProjects/PySyft/.tox/syft.jupyter/lib/python3.9/site-packages/urllib3/connectionpool.py\", line 440, in _make_request\n",
      "    httplib_response = conn.getresponse()\n",
      "  File \"/usr/local/Cellar/python@3.9/3.9.1_6/Frameworks/Python.framework/Versions/3.9/lib/python3.9/http/client.py\", line 1347, in getresponse\n",
      "    response.begin()\n",
      "  File \"/usr/local/Cellar/python@3.9/3.9.1_6/Frameworks/Python.framework/Versions/3.9/lib/python3.9/http/client.py\", line 307, in begin\n",
      "    version, status, reason = self._read_status()\n",
      "  File \"/usr/local/Cellar/python@3.9/3.9.1_6/Frameworks/Python.framework/Versions/3.9/lib/python3.9/http/client.py\", line 268, in _read_status\n",
      "    line = str(self.fp.readline(_MAXLINE + 1), \"iso-8859-1\")\n",
      "  File \"/usr/local/Cellar/python@3.9/3.9.1_6/Frameworks/Python.framework/Versions/3.9/lib/python3.9/socket.py\", line 704, in readinto\n",
      "    return self._sock.recv_into(b)\n",
      "KeyboardInterrupt: \n"
     ]
    },
    {
     "name": "stdout",
     "output_type": "stream",
     "text": [
      "<syft.proxy.syft.core.tensor.tensor.TensorPointer object at 0x13ddeb130>\n",
      "<syft.proxy.syft.core.tensor.tensor.TensorPointer object at 0x13d7f84f0>\n",
      "<syft.proxy.syft.core.tensor.tensor.TensorPointer object at 0x13dbc81c0>\n",
      "<syft.proxy.syft.core.tensor.tensor.TensorPointer object at 0x13ddeba00>\n",
      "<syft.proxy.syft.core.tensor.tensor.TensorPointer object at 0x13db56160>\n",
      "<syft.proxy.syft.core.tensor.tensor.TensorPointer object at 0x13d7f84f0>\n",
      "<syft.proxy.syft.core.tensor.tensor.TensorPointer object at 0x13dbc8340>\n",
      "<syft.proxy.syft.core.tensor.tensor.TensorPointer object at 0x13d7f84f0>\n",
      "<syft.proxy.syft.core.tensor.tensor.TensorPointer object at 0x13ddebfd0>\n",
      "<syft.proxy.syft.core.tensor.tensor.TensorPointer object at 0x13ddeba00>\n",
      "<syft.proxy.syft.core.tensor.tensor.TensorPointer object at 0x13dbc8340>\n",
      "<syft.proxy.syft.core.tensor.tensor.TensorPointer object at 0x13ddeb130>\n",
      "<syft.proxy.syft.core.tensor.tensor.TensorPointer object at 0x13e2289a0>\n",
      "<syft.proxy.syft.core.tensor.tensor.TensorPointer object at 0x13ddebb80>\n",
      "<syft.proxy.syft.core.tensor.tensor.TensorPointer object at 0x13e3ca670>\n",
      "<syft.proxy.syft.core.tensor.tensor.TensorPointer object at 0x13d7f5ee0>\n",
      "<syft.proxy.syft.core.tensor.tensor.TensorPointer object at 0x13ddeb130>\n",
      "<syft.proxy.syft.core.tensor.tensor.TensorPointer object at 0x13db56160>\n",
      "<syft.proxy.syft.core.tensor.tensor.TensorPointer object at 0x13dbc82e0>\n",
      "<syft.proxy.syft.core.tensor.tensor.TensorPointer object at 0x13ddeb130>\n",
      "<syft.proxy.syft.core.tensor.tensor.TensorPointer object at 0x10454d5e0>\n",
      "<syft.proxy.syft.core.tensor.tensor.TensorPointer object at 0x13d7f5cd0>\n",
      "<syft.proxy.syft.core.tensor.tensor.TensorPointer object at 0x13ddeb130>\n",
      "<syft.proxy.syft.core.tensor.tensor.TensorPointer object at 0x13e2289a0>\n",
      "<syft.proxy.syft.core.tensor.tensor.TensorPointer object at 0x13db56160>\n",
      "<syft.proxy.syft.core.tensor.tensor.TensorPointer object at 0x13ddeb130>\n",
      "<syft.proxy.syft.core.tensor.tensor.TensorPointer object at 0x13dbc82e0>\n",
      "<syft.proxy.syft.core.tensor.tensor.TensorPointer object at 0x13ddeba00>\n",
      "<syft.proxy.syft.core.tensor.tensor.TensorPointer object at 0x13d7f5ee0>\n",
      "<syft.proxy.syft.core.tensor.tensor.TensorPointer object at 0x13ddeb130>\n",
      "<syft.proxy.syft.core.tensor.tensor.TensorPointer object at 0x13dbc82e0>\n",
      "<syft.proxy.syft.core.tensor.tensor.TensorPointer object at 0x10454d5e0>\n",
      "<syft.proxy.syft.core.tensor.tensor.TensorPointer object at 0x13db56160>\n",
      "<syft.proxy.syft.core.tensor.tensor.TensorPointer object at 0x13ddebfd0>\n",
      "<syft.proxy.syft.core.tensor.tensor.TensorPointer object at 0x13dbc82e0>\n",
      "<syft.proxy.syft.core.tensor.tensor.TensorPointer object at 0x13ddeb130>\n",
      "<syft.proxy.syft.core.tensor.tensor.TensorPointer object at 0x13dbc8340>\n",
      "<syft.proxy.syft.core.tensor.tensor.TensorPointer object at 0x13dbc81c0>\n",
      "<syft.proxy.syft.core.tensor.tensor.TensorPointer object at 0x13ddeb130>\n",
      "<syft.proxy.syft.core.tensor.tensor.TensorPointer object at 0x13ddebfd0>\n",
      "<syft.proxy.syft.core.tensor.tensor.TensorPointer object at 0x13dbc8340>\n",
      "<syft.proxy.syft.core.tensor.tensor.TensorPointer object at 0x13dbc82e0>\n"
     ]
    },
    {
     "name": "stderr",
     "output_type": "stream",
     "text": [
      "ERROR:root:Internal Python error in the inspect module.\n",
      "Below is the traceback from this internal error.\n",
      "\n"
     ]
    },
    {
     "name": "stdout",
     "output_type": "stream",
     "text": [
      "Traceback (most recent call last):\n",
      "  File \"/Users/ishanmishra/PycharmProjects/PySyft/.tox/syft.jupyter/lib/python3.9/site-packages/IPython/core/interactiveshell.py\", line 3441, in run_code\n",
      "    exec(code_obj, self.user_global_ns, self.user_ns)\n",
      "  File \"/var/folders/cs/tql716257t32sb3kr5r9rbkc0000gn/T/ipykernel_26891/2879421703.py\", line 1, in <module>\n",
      "    for i in private_dataset_ptr:\n",
      "  File \"/Users/ishanmishra/PycharmProjects/PySyft/packages/syft/src/syft/ast/klass.py\", line 159, in run_class_method\n",
      "    __self.client.send_immediate_msg_without_reply(msg=cmd)\n"
     ]
    },
    {
     "name": "stderr",
     "output_type": "stream",
     "text": [
      "\n",
      "KeyboardInterrupt\n",
      "\n"
     ]
    }
   ],
   "source": [
    "for i in private_dataset_ptr:\n",
    "    print(i)"
   ]
  },
  {
   "cell_type": "code",
   "execution_count": null,
   "id": "7fc7b7f7-a07c-4b37-8099-ac34d0e387cb",
   "metadata": {},
   "outputs": [],
   "source": []
  }
 ],
 "metadata": {
  "kernelspec": {
   "display_name": "Python 3 (ipykernel)",
   "language": "python",
   "name": "python3"
  },
  "language_info": {
   "codemirror_mode": {
    "name": "ipython",
    "version": 3
   },
   "file_extension": ".py",
   "mimetype": "text/x-python",
   "name": "python",
   "nbconvert_exporter": "python",
   "pygments_lexer": "ipython3",
   "version": "3.9.1"
  }
 },
 "nbformat": 4,
 "nbformat_minor": 5
}

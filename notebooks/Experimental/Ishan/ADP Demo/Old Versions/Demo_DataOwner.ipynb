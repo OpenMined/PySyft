{
 "cells": [
  {
   "cell_type": "markdown",
   "metadata": {},
   "source": [
    "# Canada Trade Data DP Demo - Data Owner"
   ]
  },
  {
   "cell_type": "code",
   "execution_count": 13,
   "metadata": {},
   "outputs": [],
   "source": [
    "# Import libraries\n",
    "import syft as sy\n",
    "import torch\n",
    "import numpy as np\n",
    "from syft.core.adp.entity import Entity\n",
    "import pandas as pd"
   ]
  },
  {
   "cell_type": "markdown",
   "metadata": {},
   "source": [
    "# Step 1: Load Canada Trade Data"
   ]
  },
  {
   "cell_type": "code",
   "execution_count": 14,
   "metadata": {},
   "outputs": [
    {
     "name": "stderr",
     "output_type": "stream",
     "text": [
      "/Users/atrask/opt/anaconda3/envs/syft/lib/python3.7/site-packages/IPython/core/interactiveshell.py:3146: DtypeWarning: Columns (14) have mixed types.Specify dtype option on import or set low_memory=False.\n",
      "  interactivity=interactivity, compiler=compiler, result=result)\n"
     ]
    }
   ],
   "source": [
    "canada = pd.read_csv(\"../../../trade_demo/datasets/ca - feb 2021.csv\")"
   ]
  },
  {
   "cell_type": "code",
   "execution_count": 15,
   "metadata": {},
   "outputs": [
    {
     "data": {
      "text/html": [
       "<div>\n",
       "<style scoped>\n",
       "    .dataframe tbody tr th:only-of-type {\n",
       "        vertical-align: middle;\n",
       "    }\n",
       "\n",
       "    .dataframe tbody tr th {\n",
       "        vertical-align: top;\n",
       "    }\n",
       "\n",
       "    .dataframe thead th {\n",
       "        text-align: right;\n",
       "    }\n",
       "</style>\n",
       "<table border=\"1\" class=\"dataframe\">\n",
       "  <thead>\n",
       "    <tr style=\"text-align: right;\">\n",
       "      <th></th>\n",
       "      <th>Classification</th>\n",
       "      <th>Year</th>\n",
       "      <th>Period</th>\n",
       "      <th>Period Desc.</th>\n",
       "      <th>Aggregate Level</th>\n",
       "      <th>Is Leaf Code</th>\n",
       "      <th>Trade Flow Code</th>\n",
       "      <th>Trade Flow</th>\n",
       "      <th>Reporter Code</th>\n",
       "      <th>Reporter</th>\n",
       "      <th>...</th>\n",
       "      <th>Partner</th>\n",
       "      <th>Partner ISO</th>\n",
       "      <th>Commodity Code</th>\n",
       "      <th>Commodity</th>\n",
       "      <th>Qty Unit Code</th>\n",
       "      <th>Qty Unit</th>\n",
       "      <th>Qty</th>\n",
       "      <th>Netweight (kg)</th>\n",
       "      <th>Trade Value (US$)</th>\n",
       "      <th>Flag</th>\n",
       "    </tr>\n",
       "  </thead>\n",
       "  <tbody>\n",
       "    <tr>\n",
       "      <th>0</th>\n",
       "      <td>HS</td>\n",
       "      <td>2021</td>\n",
       "      <td>202102</td>\n",
       "      <td>February 2021</td>\n",
       "      <td>4</td>\n",
       "      <td>0</td>\n",
       "      <td>1</td>\n",
       "      <td>Imports</td>\n",
       "      <td>124</td>\n",
       "      <td>Canada</td>\n",
       "      <td>...</td>\n",
       "      <td>Other Asia, nes</td>\n",
       "      <td>NaN</td>\n",
       "      <td>6117</td>\n",
       "      <td>Clothing accessories; made up, knitted or croc...</td>\n",
       "      <td>0</td>\n",
       "      <td>NaN</td>\n",
       "      <td>NaN</td>\n",
       "      <td>NaN</td>\n",
       "      <td>9285</td>\n",
       "      <td>0</td>\n",
       "    </tr>\n",
       "    <tr>\n",
       "      <th>1</th>\n",
       "      <td>HS</td>\n",
       "      <td>2021</td>\n",
       "      <td>202102</td>\n",
       "      <td>February 2021</td>\n",
       "      <td>2</td>\n",
       "      <td>0</td>\n",
       "      <td>1</td>\n",
       "      <td>Imports</td>\n",
       "      <td>124</td>\n",
       "      <td>Canada</td>\n",
       "      <td>...</td>\n",
       "      <td>Egypt</td>\n",
       "      <td>NaN</td>\n",
       "      <td>18</td>\n",
       "      <td>Cocoa and cocoa preparations</td>\n",
       "      <td>0</td>\n",
       "      <td>NaN</td>\n",
       "      <td>NaN</td>\n",
       "      <td>0.0</td>\n",
       "      <td>116604</td>\n",
       "      <td>0</td>\n",
       "    </tr>\n",
       "    <tr>\n",
       "      <th>2</th>\n",
       "      <td>HS</td>\n",
       "      <td>2021</td>\n",
       "      <td>202102</td>\n",
       "      <td>February 2021</td>\n",
       "      <td>2</td>\n",
       "      <td>0</td>\n",
       "      <td>1</td>\n",
       "      <td>Imports</td>\n",
       "      <td>124</td>\n",
       "      <td>Canada</td>\n",
       "      <td>...</td>\n",
       "      <td>United Kingdom</td>\n",
       "      <td>NaN</td>\n",
       "      <td>18</td>\n",
       "      <td>Cocoa and cocoa preparations</td>\n",
       "      <td>0</td>\n",
       "      <td>NaN</td>\n",
       "      <td>NaN</td>\n",
       "      <td>0.0</td>\n",
       "      <td>1495175</td>\n",
       "      <td>0</td>\n",
       "    </tr>\n",
       "    <tr>\n",
       "      <th>3</th>\n",
       "      <td>HS</td>\n",
       "      <td>2021</td>\n",
       "      <td>202102</td>\n",
       "      <td>February 2021</td>\n",
       "      <td>2</td>\n",
       "      <td>0</td>\n",
       "      <td>1</td>\n",
       "      <td>Imports</td>\n",
       "      <td>124</td>\n",
       "      <td>Canada</td>\n",
       "      <td>...</td>\n",
       "      <td>United Rep. of Tanzania</td>\n",
       "      <td>NaN</td>\n",
       "      <td>18</td>\n",
       "      <td>Cocoa and cocoa preparations</td>\n",
       "      <td>0</td>\n",
       "      <td>NaN</td>\n",
       "      <td>NaN</td>\n",
       "      <td>0.0</td>\n",
       "      <td>2248</td>\n",
       "      <td>0</td>\n",
       "    </tr>\n",
       "    <tr>\n",
       "      <th>4</th>\n",
       "      <td>HS</td>\n",
       "      <td>2021</td>\n",
       "      <td>202102</td>\n",
       "      <td>February 2021</td>\n",
       "      <td>2</td>\n",
       "      <td>0</td>\n",
       "      <td>1</td>\n",
       "      <td>Imports</td>\n",
       "      <td>124</td>\n",
       "      <td>Canada</td>\n",
       "      <td>...</td>\n",
       "      <td>Singapore</td>\n",
       "      <td>NaN</td>\n",
       "      <td>18</td>\n",
       "      <td>Cocoa and cocoa preparations</td>\n",
       "      <td>0</td>\n",
       "      <td>NaN</td>\n",
       "      <td>NaN</td>\n",
       "      <td>0.0</td>\n",
       "      <td>47840</td>\n",
       "      <td>0</td>\n",
       "    </tr>\n",
       "  </tbody>\n",
       "</table>\n",
       "<p>5 rows × 22 columns</p>\n",
       "</div>"
      ],
      "text/plain": [
       "  Classification  Year  Period   Period Desc.  Aggregate Level  Is Leaf Code  \\\n",
       "0             HS  2021  202102  February 2021                4             0   \n",
       "1             HS  2021  202102  February 2021                2             0   \n",
       "2             HS  2021  202102  February 2021                2             0   \n",
       "3             HS  2021  202102  February 2021                2             0   \n",
       "4             HS  2021  202102  February 2021                2             0   \n",
       "\n",
       "   Trade Flow Code Trade Flow  Reporter Code Reporter  ...  \\\n",
       "0                1    Imports            124   Canada  ...   \n",
       "1                1    Imports            124   Canada  ...   \n",
       "2                1    Imports            124   Canada  ...   \n",
       "3                1    Imports            124   Canada  ...   \n",
       "4                1    Imports            124   Canada  ...   \n",
       "\n",
       "                   Partner  Partner ISO Commodity Code  \\\n",
       "0          Other Asia, nes          NaN           6117   \n",
       "1                    Egypt          NaN             18   \n",
       "2           United Kingdom          NaN             18   \n",
       "3  United Rep. of Tanzania          NaN             18   \n",
       "4                Singapore          NaN             18   \n",
       "\n",
       "                                           Commodity Qty Unit Code Qty Unit  \\\n",
       "0  Clothing accessories; made up, knitted or croc...             0      NaN   \n",
       "1                       Cocoa and cocoa preparations             0      NaN   \n",
       "2                       Cocoa and cocoa preparations             0      NaN   \n",
       "3                       Cocoa and cocoa preparations             0      NaN   \n",
       "4                       Cocoa and cocoa preparations             0      NaN   \n",
       "\n",
       "   Qty  Netweight (kg)  Trade Value (US$)  Flag  \n",
       "0  NaN             NaN               9285     0  \n",
       "1  NaN             0.0             116604     0  \n",
       "2  NaN             0.0            1495175     0  \n",
       "3  NaN             0.0               2248     0  \n",
       "4  NaN             0.0              47840     0  \n",
       "\n",
       "[5 rows x 22 columns]"
      ]
     },
     "execution_count": 15,
     "metadata": {},
     "output_type": "execute_result"
    }
   ],
   "source": [
    "canada.head()"
   ]
  },
  {
   "cell_type": "code",
   "execution_count": 16,
   "metadata": {},
   "outputs": [],
   "source": [
    "# Get canada trade data and convert into unit millions\n",
    "canada_trade = (np.array(list(canada['Trade Value (US$)'])) / 1000000)[0:100]\n",
    "trade_partners = ((list(canada['Partner'])))[0:100]"
   ]
  },
  {
   "cell_type": "code",
   "execution_count": 19,
   "metadata": {},
   "outputs": [
    {
     "data": {
      "text/plain": [
       "190.936317"
      ]
     },
     "execution_count": 19,
     "metadata": {},
     "output_type": "execute_result"
    }
   ],
   "source": [
    "# TARGET QUERY: Sum total in/out trade for Canada\n",
    "sum(canada_trade)"
   ]
  },
  {
   "cell_type": "markdown",
   "metadata": {},
   "source": [
    "# Step 2: Login to Domain as Admin User"
   ]
  },
  {
   "cell_type": "code",
   "execution_count": 20,
   "metadata": {},
   "outputs": [
    {
     "name": "stdout",
     "output_type": "stream",
     "text": [
      "Connecting to http://localhost:8081... done! \t Logging into canada... done!\n"
     ]
    }
   ],
   "source": [
    "# Login to new Domain\n",
    "\n",
    "canada = sy.login(email=\"info@openmined.org\", password=\"changethis\", port=8081)"
   ]
  },
  {
   "cell_type": "markdown",
   "metadata": {},
   "source": [
    "# Step 3: Add DP Metadata and Load Into Domain"
   ]
  },
  {
   "cell_type": "code",
   "execution_count": 21,
   "metadata": {
    "tags": []
   },
   "outputs": [],
   "source": [
    "data_batch = canada_trade\n",
    "\n",
    "entities = list()\n",
    "for i in range(len(data_batch)):\n",
    "    entities.append(Entity(name=trade_partners[i]))\n",
    "\n",
    "# Upload a private dataset to the Domain object, as the root owner\n",
    "data = sy.Tensor(data_batch).private(0, 165, entities=entities).tag(\"trade_flow\")"
   ]
  },
  {
   "cell_type": "code",
   "execution_count": 22,
   "metadata": {},
   "outputs": [],
   "source": [
    "# Send data to the domain object\n",
    "data_ptr = data.send(canada)"
   ]
  },
  {
   "cell_type": "code",
   "execution_count": 23,
   "metadata": {},
   "outputs": [
    {
     "data": {
      "text/html": [
       "<div>\n",
       "<style scoped>\n",
       "    .dataframe tbody tr th:only-of-type {\n",
       "        vertical-align: middle;\n",
       "    }\n",
       "\n",
       "    .dataframe tbody tr th {\n",
       "        vertical-align: top;\n",
       "    }\n",
       "\n",
       "    .dataframe thead th {\n",
       "        text-align: right;\n",
       "    }\n",
       "</style>\n",
       "<table border=\"1\" class=\"dataframe\">\n",
       "  <thead>\n",
       "    <tr style=\"text-align: right;\">\n",
       "      <th></th>\n",
       "      <th>ID</th>\n",
       "      <th>Tags</th>\n",
       "      <th>Description</th>\n",
       "      <th>object_type</th>\n",
       "    </tr>\n",
       "  </thead>\n",
       "  <tbody>\n",
       "    <tr>\n",
       "      <th>0</th>\n",
       "      <td>&lt;UID: 9a5ce5a770424c89bdc4fe409b459b23&gt;</td>\n",
       "      <td>[trade_flow]</td>\n",
       "      <td></td>\n",
       "      <td>&lt;class 'syft.core.tensor.tensor.Tensor'&gt;</td>\n",
       "    </tr>\n",
       "    <tr>\n",
       "      <th>1</th>\n",
       "      <td>&lt;UID: 06d8a379ebcf4a7eb1d231ec07c258ff&gt;</td>\n",
       "      <td>[]</td>\n",
       "      <td></td>\n",
       "      <td>&lt;class 'syft.lib.python.Int'&gt;</td>\n",
       "    </tr>\n",
       "    <tr>\n",
       "      <th>2</th>\n",
       "      <td>&lt;UID: 738e5b84ca6f46709a1f208281191766&gt;</td>\n",
       "      <td>[]</td>\n",
       "      <td></td>\n",
       "      <td>&lt;class 'syft.lib.python.Int'&gt;</td>\n",
       "    </tr>\n",
       "    <tr>\n",
       "      <th>3</th>\n",
       "      <td>&lt;UID: fabde6ad5889426fa7d9291c2fe30773&gt;</td>\n",
       "      <td>[]</td>\n",
       "      <td></td>\n",
       "      <td>&lt;class 'syft.lib.python.Int'&gt;</td>\n",
       "    </tr>\n",
       "    <tr>\n",
       "      <th>4</th>\n",
       "      <td>&lt;UID: e5f8daf29d5a4681b0ad35d68ac1506e&gt;</td>\n",
       "      <td>[trade_flow]</td>\n",
       "      <td></td>\n",
       "      <td>&lt;class 'syft.core.tensor.tensor.Tensor'&gt;</td>\n",
       "    </tr>\n",
       "    <tr>\n",
       "      <th>5</th>\n",
       "      <td>&lt;UID: 94b63dce236d4aa7873a9c15f336ab62&gt;</td>\n",
       "      <td>[]</td>\n",
       "      <td></td>\n",
       "      <td>&lt;class 'syft.lib.python.Int'&gt;</td>\n",
       "    </tr>\n",
       "    <tr>\n",
       "      <th>6</th>\n",
       "      <td>&lt;UID: cb705fa58702486ea463256673912816&gt;</td>\n",
       "      <td>[]</td>\n",
       "      <td></td>\n",
       "      <td>&lt;class 'syft.lib.python.Int'&gt;</td>\n",
       "    </tr>\n",
       "    <tr>\n",
       "      <th>7</th>\n",
       "      <td>&lt;UID: b7163eec4cb445e1ae45f7df95356db4&gt;</td>\n",
       "      <td>[trade_flow]</td>\n",
       "      <td></td>\n",
       "      <td>&lt;class 'syft.core.tensor.tensor.Tensor'&gt;</td>\n",
       "    </tr>\n",
       "    <tr>\n",
       "      <th>8</th>\n",
       "      <td>&lt;UID: abc6ffa1a0f24dce93fd4f6c58ddd6c1&gt;</td>\n",
       "      <td>[]</td>\n",
       "      <td></td>\n",
       "      <td>&lt;class 'syft.lib.python.Int'&gt;</td>\n",
       "    </tr>\n",
       "    <tr>\n",
       "      <th>9</th>\n",
       "      <td>&lt;UID: 2540302cdfeb48fa9b4887d9dcb2d9a2&gt;</td>\n",
       "      <td>[trade_flow]</td>\n",
       "      <td></td>\n",
       "      <td>&lt;class 'syft.core.tensor.tensor.Tensor'&gt;</td>\n",
       "    </tr>\n",
       "  </tbody>\n",
       "</table>\n",
       "</div>"
      ],
      "text/plain": [
       "[<syft.proxy.syft.core.tensor.tensor.TensorPointer object at 0x7fb99998cdd0>, <syft.proxy.syft.lib.python.IntPointer object at 0x7fb999f31250>, <syft.proxy.syft.lib.python.IntPointer object at 0x7fb9993d7410>, <syft.proxy.syft.lib.python.IntPointer object at 0x7fb9993d7550>, <syft.proxy.syft.core.tensor.tensor.TensorPointer object at 0x7fb9993d7910>, <syft.proxy.syft.lib.python.IntPointer object at 0x7fb9993d7390>, <syft.proxy.syft.lib.python.IntPointer object at 0x7fb9993d72d0>, <syft.proxy.syft.core.tensor.tensor.TensorPointer object at 0x7fb99950db50>, <syft.proxy.syft.lib.python.IntPointer object at 0x7fb99951add0>, <syft.proxy.syft.core.tensor.tensor.TensorPointer object at 0x7fb999522250>]"
      ]
     },
     "execution_count": 23,
     "metadata": {},
     "output_type": "execute_result"
    }
   ],
   "source": [
    "canada.store"
   ]
  },
  {
   "cell_type": "markdown",
   "metadata": {},
   "source": [
    "# Step 4: Use UI To Create Data Scientist User and Set Budget"
   ]
  },
  {
   "cell_type": "code",
   "execution_count": null,
   "metadata": {},
   "outputs": [],
   "source": []
  }
 ],
 "metadata": {
  "kernelspec": {
   "display_name": "Python 3",
   "language": "python",
   "name": "python3"
  },
  "language_info": {
   "codemirror_mode": {
    "name": "ipython",
    "version": 3
   },
   "file_extension": ".py",
   "mimetype": "text/x-python",
   "name": "python",
   "nbconvert_exporter": "python",
   "pygments_lexer": "ipython3",
   "version": "3.7.9"
  }
 },
 "nbformat": 4,
 "nbformat_minor": 5
}

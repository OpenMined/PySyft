{
 "cells": [
  {
   "cell_type": "markdown",
   "id": "c0c8584b-78c3-4cd3-85e9-41de773726b8",
   "metadata": {},
   "source": [
    "### DataSubjectLists\n",
    "\n",
    "Let's say we have our (10, 10) array. This array has 10 x 10 = 100 values in total. \n",
    "How do we keep track of which datapoint belongs to whom?\n",
    "\n",
    "The answer is with a class called **DataSubjectList.**"
   ]
  },
  {
   "cell_type": "code",
   "execution_count": null,
   "id": "5c13d005-ec1a-4ca9-9269-e631dc7f359e",
   "metadata": {},
   "outputs": [],
   "source": [
    "from syft import DataSubjectList\n",
    "\n",
    "# This is a 10 x 10 array of data\n",
    "data = np.random.randint(low=5, high=100, size=(10,10))\n",
    "print(\"This is your data \\n\", data, \"\\n\")\n",
    "\n",
    "# This is the DataSubject who owns each datapoint in that array\n",
    "data_subjects = np.random.choice([\"Sukanya\", \"Ishan\", \"Andrew\"], size=(10,10))\n",
    "\n",
    "\n",
    "# This is how it's represented in a DataSubjectList\n",
    "dsl = DataSubjectList.from_objs((data_subjects))\n",
    "\n",
    "print(\"Your DataSubjectList consists of two things: \")\n",
    "\n",
    "# This is a one hot encoding of all the unique data subjects \n",
    "print(\"one_hot_lookup: \\n\", dsl.one_hot_lookup)\n",
    "\n",
    "# Each value in this array is the index of the Data Subject in dsl.one_hot_lookup who owns it\n",
    "print(\"data_subjects_indexed: \\n\", dsl.data_subjects_indexed)\n",
    "\n",
    "def interpret_dsl(index=(0,0)):\n",
    "    return f\"The person who owns the datapoint at {index} with value={data[index]} is {dsl.one_hot_lookup[dsl.data_subjects_indexed[index]]}\"\n",
    "\n",
    "interpret_dsl(index=(0,0))"
   ]
  }
 ],
 "metadata": {
  "kernelspec": {
   "display_name": "Python 3 (ipykernel)",
   "language": "python",
   "name": "python3"
  },
  "language_info": {
   "codemirror_mode": {
    "name": "ipython",
    "version": 3
   },
   "file_extension": ".py",
   "mimetype": "text/x-python",
   "name": "python",
   "nbconvert_exporter": "python",
   "pygments_lexer": "ipython3",
   "version": "3.9.7"
  }
 },
 "nbformat": 4,
 "nbformat_minor": 5
}

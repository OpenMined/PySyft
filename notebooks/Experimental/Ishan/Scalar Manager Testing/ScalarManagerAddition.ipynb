{
 "cells": [
  {
   "cell_type": "markdown",
   "id": "18fe22bf-4a82-4a56-917f-1effb75f4221",
   "metadata": {},
   "source": [
    "Problem:\n",
    "- When you add two IGTs, the output scalar manager needs to have all the prime numbers from each of the IGTs that created it\n",
    "- Unfortunately the act of combining IGT scalar managers seems to affect the flat_scalars property, and thus the _values() function that we use to check values\n"
   ]
  },
  {
   "cell_type": "code",
   "execution_count": 1,
   "id": "b73a3662-4efd-4cd4-817f-dda94bb76d7a",
   "metadata": {},
   "outputs": [],
   "source": [
    "from syft.core.tensor.autodp.single_entity_phi import SingleEntityPhiTensor as SEPT\n",
    "from syft.core.tensor.autodp.dp_tensor_converter import convert_to_gamma_tensor\n",
    "import numpy as np"
   ]
  },
  {
   "cell_type": "code",
   "execution_count": 2,
   "id": "d4e60c9a-e178-4195-b5bb-b2cb5f177331",
   "metadata": {},
   "outputs": [],
   "source": [
    "raw_data = np.random.randint(low=1,high=50,size=(5, 5), dtype=np.int32)"
   ]
  },
  {
   "cell_type": "code",
   "execution_count": 3,
   "id": "71b6e8b0-3219-4c48-bc63-71617a74451a",
   "metadata": {},
   "outputs": [
    {
     "data": {
      "text/plain": [
       "array([[31, 14, 45, 14, 29],\n",
       "       [30, 15, 48,  7, 19],\n",
       "       [ 9, 25, 31, 34, 39],\n",
       "       [14, 38, 15, 20,  2],\n",
       "       [45, 47, 26, 36, 32]], dtype=int32)"
      ]
     },
     "execution_count": 3,
     "metadata": {},
     "output_type": "execute_result"
    }
   ],
   "source": [
    "raw_data"
   ]
  },
  {
   "cell_type": "code",
   "execution_count": 4,
   "id": "75eb6f26-628b-413e-a9c0-d4195870e137",
   "metadata": {},
   "outputs": [],
   "source": [
    "from syft.core.adp.entity import DataSubject"
   ]
  },
  {
   "cell_type": "code",
   "execution_count": 5,
   "id": "fa844d13-6abc-44d5-8399-4d6b5f09420e",
   "metadata": {},
   "outputs": [],
   "source": [
    "ishan = DataSubject(name=\"Ishan\")\n",
    "trask = DataSubject(name=\"Trask\")"
   ]
  },
  {
   "cell_type": "code",
   "execution_count": 6,
   "id": "4de4e046-fbad-4682-a854-9ea5a9e11a4e",
   "metadata": {},
   "outputs": [],
   "source": [
    "ishan_sept = SEPT(raw_data, ishan, np.ones_like(raw_data, dtype=np.int32), 50 * np.ones_like(raw_data, dtype=np.int32))\n",
    "trask_sept = SEPT(raw_data + 1, trask, np.ones_like(raw_data, dtype=np.int32), 50 * np.ones_like(raw_data, dtype=np.int32))\n"
   ]
  },
  {
   "cell_type": "code",
   "execution_count": 7,
   "id": "c44481a7-2092-48b5-be9f-59ae539e4050",
   "metadata": {},
   "outputs": [],
   "source": [
    "ishan_igt = convert_to_gamma_tensor(ishan_sept)\n",
    "trask_igt = convert_to_gamma_tensor(trask_sept)"
   ]
  },
  {
   "cell_type": "code",
   "execution_count": 8,
   "id": "9618d413-f6f5-44e1-a3e5-948f7611e168",
   "metadata": {},
   "outputs": [
    {
     "data": {
      "text/plain": [
       "InitialGammaTensor(child=[[[ 2]\n",
       "  [ 3]\n",
       "  [ 5]\n",
       "  [ 7]\n",
       "  [11]]\n",
       "\n",
       " [[13]\n",
       "  [17]\n",
       "  [19]\n",
       "  [23]\n",
       "  [29]]\n",
       "\n",
       " [[31]\n",
       "  [37]\n",
       "  [41]\n",
       "  [43]\n",
       "  [47]]\n",
       "\n",
       " [[53]\n",
       "  [59]\n",
       "  [61]\n",
       "  [67]\n",
       "  [71]]\n",
       "\n",
       " [[73]\n",
       "  [79]\n",
       "  [83]\n",
       "  [89]\n",
       "  [97]]])"
      ]
     },
     "execution_count": 8,
     "metadata": {},
     "output_type": "execute_result"
    }
   ],
   "source": [
    "ishan_igt"
   ]
  },
  {
   "cell_type": "code",
   "execution_count": 9,
   "id": "133c0fa5-26ae-4d0e-b1d2-814933bb0d32",
   "metadata": {},
   "outputs": [
    {
     "data": {
      "text/plain": [
       "{2: <GammaScalar: (1.0 < 31.0 < 50.0)>,\n",
       " 3: <GammaScalar: (1.0 < 14.0 < 50.0)>,\n",
       " 5: <GammaScalar: (1.0 < 45.0 < 50.0)>,\n",
       " 7: <GammaScalar: (1.0 < 14.0 < 50.0)>,\n",
       " 11: <GammaScalar: (1.0 < 29.0 < 50.0)>,\n",
       " 13: <GammaScalar: (1.0 < 30.0 < 50.0)>,\n",
       " 17: <GammaScalar: (1.0 < 15.0 < 50.0)>,\n",
       " 19: <GammaScalar: (1.0 < 48.0 < 50.0)>,\n",
       " 23: <GammaScalar: (1.0 < 7.0 < 50.0)>,\n",
       " 29: <GammaScalar: (1.0 < 19.0 < 50.0)>,\n",
       " 31: <GammaScalar: (1.0 < 9.0 < 50.0)>,\n",
       " 37: <GammaScalar: (1.0 < 25.0 < 50.0)>,\n",
       " 41: <GammaScalar: (1.0 < 31.0 < 50.0)>,\n",
       " 43: <GammaScalar: (1.0 < 34.0 < 50.0)>,\n",
       " 47: <GammaScalar: (1.0 < 39.0 < 50.0)>,\n",
       " 53: <GammaScalar: (1.0 < 14.0 < 50.0)>,\n",
       " 59: <GammaScalar: (1.0 < 38.0 < 50.0)>,\n",
       " 61: <GammaScalar: (1.0 < 15.0 < 50.0)>,\n",
       " 67: <GammaScalar: (1.0 < 20.0 < 50.0)>,\n",
       " 71: <GammaScalar: (1.0 < 2.0 < 50.0)>,\n",
       " 73: <GammaScalar: (1.0 < 45.0 < 50.0)>,\n",
       " 79: <GammaScalar: (1.0 < 47.0 < 50.0)>,\n",
       " 83: <GammaScalar: (1.0 < 26.0 < 50.0)>,\n",
       " 89: <GammaScalar: (1.0 < 36.0 < 50.0)>,\n",
       " 97: <GammaScalar: (1.0 < 32.0 < 50.0)>}"
      ]
     },
     "execution_count": 9,
     "metadata": {},
     "output_type": "execute_result"
    }
   ],
   "source": [
    "ishan_igt.scalar_manager.prime2symbol"
   ]
  },
  {
   "cell_type": "code",
   "execution_count": 10,
   "id": "6eceda3e-f9a4-4511-a5cb-94ff6e3e7da1",
   "metadata": {},
   "outputs": [
    {
     "data": {
      "text/plain": [
       "InitialGammaTensor(child=[[[ 2]\n",
       "  [ 3]\n",
       "  [ 5]\n",
       "  [ 7]\n",
       "  [11]]\n",
       "\n",
       " [[13]\n",
       "  [17]\n",
       "  [19]\n",
       "  [23]\n",
       "  [29]]\n",
       "\n",
       " [[31]\n",
       "  [37]\n",
       "  [41]\n",
       "  [43]\n",
       "  [47]]\n",
       "\n",
       " [[53]\n",
       "  [59]\n",
       "  [61]\n",
       "  [67]\n",
       "  [71]]\n",
       "\n",
       " [[73]\n",
       "  [79]\n",
       "  [83]\n",
       "  [89]\n",
       "  [97]]])"
      ]
     },
     "execution_count": 10,
     "metadata": {},
     "output_type": "execute_result"
    }
   ],
   "source": [
    "trask_igt"
   ]
  },
  {
   "cell_type": "code",
   "execution_count": 11,
   "id": "ec6766f5-e061-428d-b4cb-3ff6beb0a875",
   "metadata": {},
   "outputs": [
    {
     "data": {
      "text/plain": [
       "{2: <GammaScalar: (1.0 < 31.0 < 50.0)>,\n",
       " 3: <GammaScalar: (1.0 < 14.0 < 50.0)>,\n",
       " 5: <GammaScalar: (1.0 < 45.0 < 50.0)>,\n",
       " 7: <GammaScalar: (1.0 < 14.0 < 50.0)>,\n",
       " 11: <GammaScalar: (1.0 < 29.0 < 50.0)>,\n",
       " 13: <GammaScalar: (1.0 < 30.0 < 50.0)>,\n",
       " 17: <GammaScalar: (1.0 < 15.0 < 50.0)>,\n",
       " 19: <GammaScalar: (1.0 < 48.0 < 50.0)>,\n",
       " 23: <GammaScalar: (1.0 < 7.0 < 50.0)>,\n",
       " 29: <GammaScalar: (1.0 < 19.0 < 50.0)>,\n",
       " 31: <GammaScalar: (1.0 < 9.0 < 50.0)>,\n",
       " 37: <GammaScalar: (1.0 < 25.0 < 50.0)>,\n",
       " 41: <GammaScalar: (1.0 < 31.0 < 50.0)>,\n",
       " 43: <GammaScalar: (1.0 < 34.0 < 50.0)>,\n",
       " 47: <GammaScalar: (1.0 < 39.0 < 50.0)>,\n",
       " 53: <GammaScalar: (1.0 < 14.0 < 50.0)>,\n",
       " 59: <GammaScalar: (1.0 < 38.0 < 50.0)>,\n",
       " 61: <GammaScalar: (1.0 < 15.0 < 50.0)>,\n",
       " 67: <GammaScalar: (1.0 < 20.0 < 50.0)>,\n",
       " 71: <GammaScalar: (1.0 < 2.0 < 50.0)>,\n",
       " 73: <GammaScalar: (1.0 < 45.0 < 50.0)>,\n",
       " 79: <GammaScalar: (1.0 < 47.0 < 50.0)>,\n",
       " 83: <GammaScalar: (1.0 < 26.0 < 50.0)>,\n",
       " 89: <GammaScalar: (1.0 < 36.0 < 50.0)>,\n",
       " 97: <GammaScalar: (1.0 < 32.0 < 50.0)>}"
      ]
     },
     "execution_count": 11,
     "metadata": {},
     "output_type": "execute_result"
    }
   ],
   "source": [
    "ishan_igt.scalar_manager.prime2symbol"
   ]
  },
  {
   "cell_type": "code",
   "execution_count": 12,
   "id": "b9ab91bd-78cb-4eac-812c-340faabe2786",
   "metadata": {},
   "outputs": [
    {
     "data": {
      "text/plain": [
       "{2: <GammaScalar: (1.0 < 32.0 < 50.0)>,\n",
       " 3: <GammaScalar: (1.0 < 15.0 < 50.0)>,\n",
       " 5: <GammaScalar: (1.0 < 46.0 < 50.0)>,\n",
       " 7: <GammaScalar: (1.0 < 15.0 < 50.0)>,\n",
       " 11: <GammaScalar: (1.0 < 30.0 < 50.0)>,\n",
       " 13: <GammaScalar: (1.0 < 31.0 < 50.0)>,\n",
       " 17: <GammaScalar: (1.0 < 16.0 < 50.0)>,\n",
       " 19: <GammaScalar: (1.0 < 49.0 < 50.0)>,\n",
       " 23: <GammaScalar: (1.0 < 8.0 < 50.0)>,\n",
       " 29: <GammaScalar: (1.0 < 20.0 < 50.0)>,\n",
       " 31: <GammaScalar: (1.0 < 10.0 < 50.0)>,\n",
       " 37: <GammaScalar: (1.0 < 26.0 < 50.0)>,\n",
       " 41: <GammaScalar: (1.0 < 32.0 < 50.0)>,\n",
       " 43: <GammaScalar: (1.0 < 35.0 < 50.0)>,\n",
       " 47: <GammaScalar: (1.0 < 40.0 < 50.0)>,\n",
       " 53: <GammaScalar: (1.0 < 15.0 < 50.0)>,\n",
       " 59: <GammaScalar: (1.0 < 39.0 < 50.0)>,\n",
       " 61: <GammaScalar: (1.0 < 16.0 < 50.0)>,\n",
       " 67: <GammaScalar: (1.0 < 21.0 < 50.0)>,\n",
       " 71: <GammaScalar: (1.0 < 3.0 < 50.0)>,\n",
       " 73: <GammaScalar: (1.0 < 46.0 < 50.0)>,\n",
       " 79: <GammaScalar: (1.0 < 48.0 < 50.0)>,\n",
       " 83: <GammaScalar: (1.0 < 27.0 < 50.0)>,\n",
       " 89: <GammaScalar: (1.0 < 37.0 < 50.0)>,\n",
       " 97: <GammaScalar: (1.0 < 33.0 < 50.0)>}"
      ]
     },
     "execution_count": 12,
     "metadata": {},
     "output_type": "execute_result"
    }
   ],
   "source": [
    "trask_igt.scalar_manager.prime2symbol"
   ]
  },
  {
   "cell_type": "code",
   "execution_count": 13,
   "id": "9ed334e0-4fe1-4bc8-88f4-c71510268efb",
   "metadata": {},
   "outputs": [],
   "source": [
    "result = ishan_igt + trask_igt"
   ]
  },
  {
   "cell_type": "code",
   "execution_count": 14,
   "id": "2dfac1e8-c2fe-49aa-a199-57130bb54e82",
   "metadata": {},
   "outputs": [
    {
     "data": {
      "text/plain": [
       "{2: <GammaScalar: (1.0 < 31.0 < 50.0)>,\n",
       " 3: <GammaScalar: (1.0 < 14.0 < 50.0)>,\n",
       " 5: <GammaScalar: (1.0 < 45.0 < 50.0)>,\n",
       " 7: <GammaScalar: (1.0 < 14.0 < 50.0)>,\n",
       " 11: <GammaScalar: (1.0 < 29.0 < 50.0)>,\n",
       " 13: <GammaScalar: (1.0 < 30.0 < 50.0)>,\n",
       " 17: <GammaScalar: (1.0 < 15.0 < 50.0)>,\n",
       " 19: <GammaScalar: (1.0 < 48.0 < 50.0)>,\n",
       " 23: <GammaScalar: (1.0 < 7.0 < 50.0)>,\n",
       " 29: <GammaScalar: (1.0 < 19.0 < 50.0)>,\n",
       " 31: <GammaScalar: (1.0 < 9.0 < 50.0)>,\n",
       " 37: <GammaScalar: (1.0 < 25.0 < 50.0)>,\n",
       " 41: <GammaScalar: (1.0 < 31.0 < 50.0)>,\n",
       " 43: <GammaScalar: (1.0 < 34.0 < 50.0)>,\n",
       " 47: <GammaScalar: (1.0 < 39.0 < 50.0)>,\n",
       " 53: <GammaScalar: (1.0 < 14.0 < 50.0)>,\n",
       " 59: <GammaScalar: (1.0 < 38.0 < 50.0)>,\n",
       " 61: <GammaScalar: (1.0 < 15.0 < 50.0)>,\n",
       " 67: <GammaScalar: (1.0 < 20.0 < 50.0)>,\n",
       " 71: <GammaScalar: (1.0 < 2.0 < 50.0)>,\n",
       " 73: <GammaScalar: (1.0 < 45.0 < 50.0)>,\n",
       " 79: <GammaScalar: (1.0 < 47.0 < 50.0)>,\n",
       " 83: <GammaScalar: (1.0 < 26.0 < 50.0)>,\n",
       " 89: <GammaScalar: (1.0 < 36.0 < 50.0)>,\n",
       " 97: <GammaScalar: (1.0 < 32.0 < 50.0)>,\n",
       " 101: <GammaScalar: (1.0 < 32.0 < 50.0)>,\n",
       " 103: <GammaScalar: (1.0 < 15.0 < 50.0)>,\n",
       " 107: <GammaScalar: (1.0 < 46.0 < 50.0)>,\n",
       " 109: <GammaScalar: (1.0 < 15.0 < 50.0)>,\n",
       " 113: <GammaScalar: (1.0 < 30.0 < 50.0)>,\n",
       " 127: <GammaScalar: (1.0 < 31.0 < 50.0)>,\n",
       " 131: <GammaScalar: (1.0 < 16.0 < 50.0)>,\n",
       " 137: <GammaScalar: (1.0 < 49.0 < 50.0)>,\n",
       " 139: <GammaScalar: (1.0 < 8.0 < 50.0)>,\n",
       " 149: <GammaScalar: (1.0 < 20.0 < 50.0)>,\n",
       " 151: <GammaScalar: (1.0 < 10.0 < 50.0)>,\n",
       " 157: <GammaScalar: (1.0 < 26.0 < 50.0)>,\n",
       " 163: <GammaScalar: (1.0 < 32.0 < 50.0)>,\n",
       " 167: <GammaScalar: (1.0 < 35.0 < 50.0)>,\n",
       " 173: <GammaScalar: (1.0 < 40.0 < 50.0)>,\n",
       " 179: <GammaScalar: (1.0 < 15.0 < 50.0)>,\n",
       " 181: <GammaScalar: (1.0 < 39.0 < 50.0)>,\n",
       " 191: <GammaScalar: (1.0 < 16.0 < 50.0)>,\n",
       " 193: <GammaScalar: (1.0 < 21.0 < 50.0)>,\n",
       " 197: <GammaScalar: (1.0 < 3.0 < 50.0)>,\n",
       " 199: <GammaScalar: (1.0 < 46.0 < 50.0)>,\n",
       " 211: <GammaScalar: (1.0 < 48.0 < 50.0)>,\n",
       " 223: <GammaScalar: (1.0 < 27.0 < 50.0)>,\n",
       " 227: <GammaScalar: (1.0 < 37.0 < 50.0)>,\n",
       " 229: <GammaScalar: (1.0 < 33.0 < 50.0)>}"
      ]
     },
     "execution_count": 14,
     "metadata": {},
     "output_type": "execute_result"
    }
   ],
   "source": [
    "result.scalar_manager.prime2symbol"
   ]
  },
  {
   "cell_type": "code",
   "execution_count": 15,
   "id": "60d846e6-4fa4-4050-9cca-58db71eced7a",
   "metadata": {},
   "outputs": [
    {
     "data": {
      "text/plain": [
       "<GammaScalar: (1.0 < 32.0 < 50.0)>"
      ]
     },
     "execution_count": 15,
     "metadata": {},
     "output_type": "execute_result"
    }
   ],
   "source": [
    "result.scalar_manager.prime2symbol[101]"
   ]
  },
  {
   "cell_type": "code",
   "execution_count": 16,
   "id": "2ef2e027-d8e8-463d-a930-936baf1a86f6",
   "metadata": {},
   "outputs": [
    {
     "data": {
      "text/plain": [
       "{101: <GammaScalar: (1.0 < 32.0 < 50.0)>,\n",
       " 103: <GammaScalar: (1.0 < 15.0 < 50.0)>,\n",
       " 107: <GammaScalar: (1.0 < 46.0 < 50.0)>,\n",
       " 109: <GammaScalar: (1.0 < 15.0 < 50.0)>,\n",
       " 113: <GammaScalar: (1.0 < 30.0 < 50.0)>,\n",
       " 127: <GammaScalar: (1.0 < 31.0 < 50.0)>,\n",
       " 131: <GammaScalar: (1.0 < 16.0 < 50.0)>,\n",
       " 137: <GammaScalar: (1.0 < 49.0 < 50.0)>,\n",
       " 139: <GammaScalar: (1.0 < 8.0 < 50.0)>,\n",
       " 149: <GammaScalar: (1.0 < 20.0 < 50.0)>,\n",
       " 151: <GammaScalar: (1.0 < 10.0 < 50.0)>,\n",
       " 157: <GammaScalar: (1.0 < 26.0 < 50.0)>,\n",
       " 163: <GammaScalar: (1.0 < 32.0 < 50.0)>,\n",
       " 167: <GammaScalar: (1.0 < 35.0 < 50.0)>,\n",
       " 173: <GammaScalar: (1.0 < 40.0 < 50.0)>,\n",
       " 179: <GammaScalar: (1.0 < 15.0 < 50.0)>,\n",
       " 181: <GammaScalar: (1.0 < 39.0 < 50.0)>,\n",
       " 191: <GammaScalar: (1.0 < 16.0 < 50.0)>,\n",
       " 193: <GammaScalar: (1.0 < 21.0 < 50.0)>,\n",
       " 197: <GammaScalar: (1.0 < 3.0 < 50.0)>,\n",
       " 199: <GammaScalar: (1.0 < 46.0 < 50.0)>,\n",
       " 211: <GammaScalar: (1.0 < 48.0 < 50.0)>,\n",
       " 223: <GammaScalar: (1.0 < 27.0 < 50.0)>,\n",
       " 227: <GammaScalar: (1.0 < 37.0 < 50.0)>,\n",
       " 229: <GammaScalar: (1.0 < 33.0 < 50.0)>}"
      ]
     },
     "execution_count": 16,
     "metadata": {},
     "output_type": "execute_result"
    }
   ],
   "source": [
    "trask_igt.scalar_manager.prime2symbol"
   ]
  },
  {
   "cell_type": "code",
   "execution_count": 17,
   "id": "d098f34b-e1c4-457a-a204-ff055344479d",
   "metadata": {},
   "outputs": [
    {
     "data": {
      "text/plain": [
       "array([[[101],\n",
       "        [103],\n",
       "        [107],\n",
       "        [109],\n",
       "        [113]],\n",
       "\n",
       "       [[127],\n",
       "        [131],\n",
       "        [137],\n",
       "        [139],\n",
       "        [149]],\n",
       "\n",
       "       [[151],\n",
       "        [157],\n",
       "        [163],\n",
       "        [167],\n",
       "        [173]],\n",
       "\n",
       "       [[179],\n",
       "        [181],\n",
       "        [191],\n",
       "        [193],\n",
       "        [197]],\n",
       "\n",
       "       [[199],\n",
       "        [211],\n",
       "        [223],\n",
       "        [227],\n",
       "        [229]]], dtype=int32)"
      ]
     },
     "execution_count": 17,
     "metadata": {},
     "output_type": "execute_result"
    }
   ],
   "source": [
    "trask_igt.term_tensor"
   ]
  },
  {
   "cell_type": "code",
   "execution_count": 18,
   "id": "3842e1b4-2b75-4026-8984-a52d03c30351",
   "metadata": {},
   "outputs": [
    {
     "data": {
      "text/plain": [
       "array([101, 103, 107, 109, 113, 127, 131, 137, 139, 149, 151, 157, 163,\n",
       "       167, 173, 179, 181, 191, 193, 197, 199, 211, 223, 227, 229],\n",
       "      dtype=int32)"
      ]
     },
     "execution_count": 18,
     "metadata": {},
     "output_type": "execute_result"
    }
   ],
   "source": [
    "import numpy as np\n",
    "np.array(list(trask_igt.scalar_manager.prime2symbol.keys()), dtype=np.int32)"
   ]
  },
  {
   "cell_type": "code",
   "execution_count": 19,
   "id": "02c4f11b-bb60-4410-985d-a1a28d972478",
   "metadata": {},
   "outputs": [
    {
     "data": {
      "text/plain": [
       "[<IntermediateGammaScalar: (2.0 < 63.0 < 100.0)>,\n",
       " <IntermediateGammaScalar: (2.0 < 29.0 < 100.0)>,\n",
       " <IntermediateGammaScalar: (2.0 < 91.0 < 100.0)>,\n",
       " <IntermediateGammaScalar: (2.0 < 29.0 < 100.0)>,\n",
       " <IntermediateGammaScalar: (2.0 < 59.0 < 100.0)>,\n",
       " <IntermediateGammaScalar: (2.0 < 61.0 < 100.0)>,\n",
       " <IntermediateGammaScalar: (2.0 < 31.0 < 100.0)>,\n",
       " <IntermediateGammaScalar: (2.0 < 97.0 < 100.0)>,\n",
       " <IntermediateGammaScalar: (2.0 < 15.0 < 100.0)>,\n",
       " <IntermediateGammaScalar: (2.0 < 39.0 < 100.0)>,\n",
       " <IntermediateGammaScalar: (2.0 < 19.0 < 100.0)>,\n",
       " <IntermediateGammaScalar: (2.0 < 51.0 < 100.0)>,\n",
       " <IntermediateGammaScalar: (2.0 < 63.0 < 100.0)>,\n",
       " <IntermediateGammaScalar: (2.0 < 69.0 < 100.0)>,\n",
       " <IntermediateGammaScalar: (2.0 < 79.0 < 100.0)>,\n",
       " <IntermediateGammaScalar: (2.0 < 29.0 < 100.0)>,\n",
       " <IntermediateGammaScalar: (2.0 < 77.0 < 100.0)>,\n",
       " <IntermediateGammaScalar: (2.0 < 31.0 < 100.0)>,\n",
       " <IntermediateGammaScalar: (2.0 < 41.0 < 100.0)>,\n",
       " <IntermediateGammaScalar: (2.0 < 5.0 < 100.0)>,\n",
       " <IntermediateGammaScalar: (2.0 < 91.0 < 100.0)>,\n",
       " <IntermediateGammaScalar: (2.0 < 95.0 < 100.0)>,\n",
       " <IntermediateGammaScalar: (2.0 < 53.0 < 100.0)>,\n",
       " <IntermediateGammaScalar: (2.0 < 73.0 < 100.0)>,\n",
       " <IntermediateGammaScalar: (2.0 < 65.0 < 100.0)>]"
      ]
     },
     "execution_count": 19,
     "metadata": {},
     "output_type": "execute_result"
    }
   ],
   "source": [
    "result.flat_scalars"
   ]
  },
  {
   "cell_type": "code",
   "execution_count": 20,
   "id": "9a68ed26-b854-4ea8-b62e-2fa9cc636647",
   "metadata": {},
   "outputs": [
    {
     "data": {
      "text/plain": [
       "{2: <GammaScalar: (1.0 < 31.0 < 50.0)>,\n",
       " 3: <GammaScalar: (1.0 < 14.0 < 50.0)>,\n",
       " 5: <GammaScalar: (1.0 < 45.0 < 50.0)>,\n",
       " 7: <GammaScalar: (1.0 < 14.0 < 50.0)>,\n",
       " 11: <GammaScalar: (1.0 < 29.0 < 50.0)>,\n",
       " 13: <GammaScalar: (1.0 < 30.0 < 50.0)>,\n",
       " 17: <GammaScalar: (1.0 < 15.0 < 50.0)>,\n",
       " 19: <GammaScalar: (1.0 < 48.0 < 50.0)>,\n",
       " 23: <GammaScalar: (1.0 < 7.0 < 50.0)>,\n",
       " 29: <GammaScalar: (1.0 < 19.0 < 50.0)>,\n",
       " 31: <GammaScalar: (1.0 < 9.0 < 50.0)>,\n",
       " 37: <GammaScalar: (1.0 < 25.0 < 50.0)>,\n",
       " 41: <GammaScalar: (1.0 < 31.0 < 50.0)>,\n",
       " 43: <GammaScalar: (1.0 < 34.0 < 50.0)>,\n",
       " 47: <GammaScalar: (1.0 < 39.0 < 50.0)>,\n",
       " 53: <GammaScalar: (1.0 < 14.0 < 50.0)>,\n",
       " 59: <GammaScalar: (1.0 < 38.0 < 50.0)>,\n",
       " 61: <GammaScalar: (1.0 < 15.0 < 50.0)>,\n",
       " 67: <GammaScalar: (1.0 < 20.0 < 50.0)>,\n",
       " 71: <GammaScalar: (1.0 < 2.0 < 50.0)>,\n",
       " 73: <GammaScalar: (1.0 < 45.0 < 50.0)>,\n",
       " 79: <GammaScalar: (1.0 < 47.0 < 50.0)>,\n",
       " 83: <GammaScalar: (1.0 < 26.0 < 50.0)>,\n",
       " 89: <GammaScalar: (1.0 < 36.0 < 50.0)>,\n",
       " 97: <GammaScalar: (1.0 < 32.0 < 50.0)>}"
      ]
     },
     "execution_count": 20,
     "metadata": {},
     "output_type": "execute_result"
    }
   ],
   "source": [
    "ishan_igt.scalar_manager.prime2symbol"
   ]
  },
  {
   "cell_type": "code",
   "execution_count": 21,
   "id": "1895565c-40a7-4ca3-ac7c-5adeceec8116",
   "metadata": {},
   "outputs": [
    {
     "data": {
      "text/plain": [
       "array([[63., 29., 91., 29., 59.],\n",
       "       [61., 31., 97., 15., 39.],\n",
       "       [19., 51., 63., 69., 79.],\n",
       "       [29., 77., 31., 41.,  5.],\n",
       "       [91., 95., 53., 73., 65.]])"
      ]
     },
     "execution_count": 21,
     "metadata": {},
     "output_type": "execute_result"
    }
   ],
   "source": [
    "result._values()"
   ]
  },
  {
   "cell_type": "code",
   "execution_count": 22,
   "id": "52bab00a-ba88-4fc9-8629-7dbd1303c423",
   "metadata": {},
   "outputs": [
    {
     "data": {
      "text/plain": [
       "array([[31., 14., 45., 14., 29.],\n",
       "       [30., 15., 48.,  7., 19.],\n",
       "       [ 9., 25., 31., 34., 39.],\n",
       "       [14., 38., 15., 20.,  2.],\n",
       "       [45., 47., 26., 36., 32.]])"
      ]
     },
     "execution_count": 22,
     "metadata": {},
     "output_type": "execute_result"
    }
   ],
   "source": [
    "ishan_igt._values()"
   ]
  },
  {
   "cell_type": "code",
   "execution_count": 23,
   "id": "9cd32cf8-1e40-431c-8674-a851f5113a32",
   "metadata": {},
   "outputs": [
    {
     "data": {
      "text/plain": [
       "array([[32., 15., 46., 15., 30.],\n",
       "       [31., 16., 49.,  8., 20.],\n",
       "       [10., 26., 32., 35., 40.],\n",
       "       [15., 39., 16., 21.,  3.],\n",
       "       [46., 48., 27., 37., 33.]])"
      ]
     },
     "execution_count": 23,
     "metadata": {},
     "output_type": "execute_result"
    }
   ],
   "source": [
    "trask_igt.update()\n",
    "trask_igt._values()"
   ]
  },
  {
   "cell_type": "code",
   "execution_count": 24,
   "id": "b4d96ab5-b931-4df1-946e-274cbca59d37",
   "metadata": {},
   "outputs": [
    {
     "data": {
      "text/plain": [
       "array([[[101],\n",
       "        [103],\n",
       "        [107],\n",
       "        [109],\n",
       "        [113]],\n",
       "\n",
       "       [[127],\n",
       "        [131],\n",
       "        [137],\n",
       "        [139],\n",
       "        [149]],\n",
       "\n",
       "       [[151],\n",
       "        [157],\n",
       "        [163],\n",
       "        [167],\n",
       "        [173]],\n",
       "\n",
       "       [[179],\n",
       "        [181],\n",
       "        [191],\n",
       "        [193],\n",
       "        [197]],\n",
       "\n",
       "       [[199],\n",
       "        [211],\n",
       "        [223],\n",
       "        [227],\n",
       "        [229]]], dtype=int32)"
      ]
     },
     "execution_count": 24,
     "metadata": {},
     "output_type": "execute_result"
    }
   ],
   "source": [
    "trask_igt.term_tensor"
   ]
  },
  {
   "cell_type": "code",
   "execution_count": 25,
   "id": "183ba30b-833e-4cd7-805e-f45bf56030c5",
   "metadata": {},
   "outputs": [],
   "source": [
    "result2 = result + ishan_igt"
   ]
  },
  {
   "cell_type": "code",
   "execution_count": 26,
   "id": "e80f73d6-7492-4771-9af1-470c2b55a41a",
   "metadata": {},
   "outputs": [
    {
     "data": {
      "text/plain": [
       "array([[ 93.,  42., 135.,  42.,  87.],\n",
       "       [ 90.,  45., 144.,  21.,  57.],\n",
       "       [ 27.,  75.,  93., 102., 117.],\n",
       "       [ 42., 114.,  45.,  60.,   6.],\n",
       "       [135., 141.,  78., 108.,  96.]])"
      ]
     },
     "execution_count": 26,
     "metadata": {},
     "output_type": "execute_result"
    }
   ],
   "source": [
    "result2._values()"
   ]
  },
  {
   "cell_type": "code",
   "execution_count": 27,
   "id": "4948777d-ee5f-4c90-a55b-cff709a61080",
   "metadata": {},
   "outputs": [
    {
     "data": {
      "text/plain": [
       "(5, 5, 1)"
      ]
     },
     "execution_count": 27,
     "metadata": {},
     "output_type": "execute_result"
    }
   ],
   "source": [
    "trask_igt.term_tensor.shape"
   ]
  },
  {
   "cell_type": "code",
   "execution_count": 28,
   "id": "8dd43cd7-c8c7-4a6b-9f65-40104be3af8f",
   "metadata": {},
   "outputs": [
    {
     "data": {
      "text/plain": [
       "array([[[  2, 101],\n",
       "        [  3, 103],\n",
       "        [  5, 107],\n",
       "        [  7, 109],\n",
       "        [ 11, 113]],\n",
       "\n",
       "       [[ 13, 127],\n",
       "        [ 17, 131],\n",
       "        [ 19, 137],\n",
       "        [ 23, 139],\n",
       "        [ 29, 149]],\n",
       "\n",
       "       [[ 31, 151],\n",
       "        [ 37, 157],\n",
       "        [ 41, 163],\n",
       "        [ 43, 167],\n",
       "        [ 47, 173]],\n",
       "\n",
       "       [[ 53, 179],\n",
       "        [ 59, 181],\n",
       "        [ 61, 191],\n",
       "        [ 67, 193],\n",
       "        [ 71, 197]],\n",
       "\n",
       "       [[ 73, 199],\n",
       "        [ 79, 211],\n",
       "        [ 83, 223],\n",
       "        [ 89, 227],\n",
       "        [ 97, 229]]], dtype=int32)"
      ]
     },
     "execution_count": 28,
     "metadata": {},
     "output_type": "execute_result"
    }
   ],
   "source": [
    "result.term_tensor"
   ]
  },
  {
   "cell_type": "code",
   "execution_count": 29,
   "id": "fc122a0e-4bd2-4f8d-b4d3-c0c1e336f1ab",
   "metadata": {},
   "outputs": [
    {
     "data": {
      "text/plain": [
       "array([[63., 29., 91., 29., 59.],\n",
       "       [61., 31., 97., 15., 39.],\n",
       "       [19., 51., 63., 69., 79.],\n",
       "       [29., 77., 31., 41.,  5.],\n",
       "       [91., 95., 53., 73., 65.]])"
      ]
     },
     "execution_count": 29,
     "metadata": {},
     "output_type": "execute_result"
    }
   ],
   "source": [
    "result._values()"
   ]
  },
  {
   "cell_type": "code",
   "execution_count": 30,
   "id": "455c8061-3553-4cae-9075-4a5f09a36ed4",
   "metadata": {},
   "outputs": [
    {
     "data": {
      "text/plain": [
       "array([101, 103, 107, 109, 113, 127, 131, 137, 139, 149, 151, 157, 163,\n",
       "       167, 173, 179, 181, 191, 193, 197, 199, 211, 223, 227, 229],\n",
       "      dtype=int32)"
      ]
     },
     "execution_count": 30,
     "metadata": {},
     "output_type": "execute_result"
    }
   ],
   "source": [
    "result.term_tensor.flatten().reshape(-1, 2)[:, -1]"
   ]
  },
  {
   "cell_type": "code",
   "execution_count": 31,
   "id": "40a8df3b-a603-464a-8d59-c48ecd4cecd5",
   "metadata": {},
   "outputs": [
    {
     "data": {
      "text/plain": [
       "array([[DSG['<DataSubject:Trask>', '<DataSubject:Ishan>'],\n",
       "        DSG['<DataSubject:Trask>', '<DataSubject:Ishan>'],\n",
       "        DSG['<DataSubject:Trask>', '<DataSubject:Ishan>'],\n",
       "        DSG['<DataSubject:Trask>', '<DataSubject:Ishan>'],\n",
       "        DSG['<DataSubject:Trask>', '<DataSubject:Ishan>']],\n",
       "       [DSG['<DataSubject:Trask>', '<DataSubject:Ishan>'],\n",
       "        DSG['<DataSubject:Trask>', '<DataSubject:Ishan>'],\n",
       "        DSG['<DataSubject:Trask>', '<DataSubject:Ishan>'],\n",
       "        DSG['<DataSubject:Trask>', '<DataSubject:Ishan>'],\n",
       "        DSG['<DataSubject:Trask>', '<DataSubject:Ishan>']],\n",
       "       [DSG['<DataSubject:Trask>', '<DataSubject:Ishan>'],\n",
       "        DSG['<DataSubject:Trask>', '<DataSubject:Ishan>'],\n",
       "        DSG['<DataSubject:Trask>', '<DataSubject:Ishan>'],\n",
       "        DSG['<DataSubject:Trask>', '<DataSubject:Ishan>'],\n",
       "        DSG['<DataSubject:Trask>', '<DataSubject:Ishan>']],\n",
       "       [DSG['<DataSubject:Trask>', '<DataSubject:Ishan>'],\n",
       "        DSG['<DataSubject:Trask>', '<DataSubject:Ishan>'],\n",
       "        DSG['<DataSubject:Trask>', '<DataSubject:Ishan>'],\n",
       "        DSG['<DataSubject:Trask>', '<DataSubject:Ishan>'],\n",
       "        DSG['<DataSubject:Trask>', '<DataSubject:Ishan>']],\n",
       "       [DSG['<DataSubject:Trask>', '<DataSubject:Ishan>'],\n",
       "        DSG['<DataSubject:Trask>', '<DataSubject:Ishan>'],\n",
       "        DSG['<DataSubject:Trask>', '<DataSubject:Ishan>'],\n",
       "        DSG['<DataSubject:Trask>', '<DataSubject:Ishan>'],\n",
       "        DSG['<DataSubject:Trask>', '<DataSubject:Ishan>']]], dtype=object)"
      ]
     },
     "execution_count": 31,
     "metadata": {},
     "output_type": "execute_result"
    }
   ],
   "source": [
    "result._entities()"
   ]
  },
  {
   "cell_type": "code",
   "execution_count": 32,
   "id": "ddab2939-b85d-4fab-b906-8e6d55b351bc",
   "metadata": {},
   "outputs": [
    {
     "data": {
      "text/plain": [
       "[<DataSubject:Trask>, <DataSubject:Ishan>]"
      ]
     },
     "execution_count": 32,
     "metadata": {},
     "output_type": "execute_result"
    }
   ],
   "source": [
    "result.flat_scalars[0].input_entities"
   ]
  },
  {
   "cell_type": "code",
   "execution_count": null,
   "id": "a64d9fd7-c79b-48dd-b468-0ea79f3c271e",
   "metadata": {},
   "outputs": [],
   "source": []
  }
 ],
 "metadata": {
  "kernelspec": {
   "display_name": "Python 3 (ipykernel)",
   "language": "python",
   "name": "python3"
  },
  "language_info": {
   "codemirror_mode": {
    "name": "ipython",
    "version": 3
   },
   "file_extension": ".py",
   "mimetype": "text/x-python",
   "name": "python",
   "nbconvert_exporter": "python",
   "pygments_lexer": "ipython3",
   "version": "3.9.7"
  }
 },
 "nbformat": 4,
 "nbformat_minor": 5
}

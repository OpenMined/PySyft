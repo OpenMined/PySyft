{
 "cells": [
  {
   "cell_type": "code",
   "execution_count": 1,
   "id": "22e18a57-bf0e-4e1c-840b-8decf98c8fb9",
   "metadata": {},
   "outputs": [
    {
     "name": "stderr",
     "output_type": "stream",
     "text": [
      "/home/azureuser/anaconda3/envs/syft_dev/lib/python3.9/site-packages/numpy/core/getlimits.py:499: UserWarning: The value of the smallest subnormal for <class 'numpy.float64'> type is zero.\n",
      "  setattr(self, word, getattr(machar, word).flat[0])\n",
      "/home/azureuser/anaconda3/envs/syft_dev/lib/python3.9/site-packages/numpy/core/getlimits.py:89: UserWarning: The value of the smallest subnormal for <class 'numpy.float64'> type is zero.\n",
      "  return self._float_to_str(self.smallest_subnormal)\n",
      "/home/azureuser/anaconda3/envs/syft_dev/lib/python3.9/site-packages/numpy/core/getlimits.py:499: UserWarning: The value of the smallest subnormal for <class 'numpy.float32'> type is zero.\n",
      "  setattr(self, word, getattr(machar, word).flat[0])\n",
      "/home/azureuser/anaconda3/envs/syft_dev/lib/python3.9/site-packages/numpy/core/getlimits.py:89: UserWarning: The value of the smallest subnormal for <class 'numpy.float32'> type is zero.\n",
      "  return self._float_to_str(self.smallest_subnormal)\n"
     ]
    },
    {
     "name": "stdout",
     "output_type": "stream",
     "text": [
      "{}\n",
      "{}\n",
      "{}\n",
      "{}\n"
     ]
    }
   ],
   "source": [
    "%load_ext autoreload\n",
    "%autoreload 2\n",
    "import syft as sy"
   ]
  },
  {
   "cell_type": "code",
   "execution_count": 2,
   "id": "788e65d2-c55c-400f-a998-f41f84e1c5cc",
   "metadata": {},
   "outputs": [],
   "source": [
    "from syft.core.adp.entity import DataSubject"
   ]
  },
  {
   "cell_type": "code",
   "execution_count": 3,
   "id": "65c7ba47-2275-4629-af6d-9c069bdb523e",
   "metadata": {},
   "outputs": [],
   "source": [
    "from syft.core.tensor.autodp.single_entity_phi import SingleEntityPhiTensor as SEPT\n",
    "from syft.core.tensor.autodp.row_entity_phi import RowEntityPhiTensor as REPT\n",
    "from syft.core.tensor.autodp.dp_tensor_converter import convert_to_gamma_tensor"
   ]
  },
  {
   "cell_type": "code",
   "execution_count": 4,
   "id": "b79cb90e-f410-4891-b73c-8626180e6b76",
   "metadata": {},
   "outputs": [],
   "source": [
    "import numpy as np"
   ]
  },
  {
   "cell_type": "code",
   "execution_count": 5,
   "id": "ba182842-cfe0-4d63-8098-4f51dd6068f9",
   "metadata": {},
   "outputs": [],
   "source": [
    "data = np.array([1,2,3,4,5,6,7,8,9,10], dtype=np.int32)"
   ]
  },
  {
   "cell_type": "code",
   "execution_count": 6,
   "id": "088ec6ce-b447-4995-88c7-0fc32255833e",
   "metadata": {},
   "outputs": [],
   "source": [
    "ishan = DataSubject(name=\"Ishan\")\n",
    "rasswanth = DataSubject(name=\"the best\")\n",
    "\n",
    "rows = []\n",
    "for i in range(1_000_000):\n",
    "    new_entity = DataSubject(name=f\"DataSubject{i}\")\n",
    "    new_sept = SEPT(child=data, min_vals=np.zeros_like(data, dtype=np.int32), max_vals=np.ones_like(data, dtype=np.int32) * 5, entity=new_entity)\n",
    "    rows.append(new_sept)\n",
    "# sept2 = SEPT(child=data, min_vals=np.zeros_like(data, dtype=np.int32), max_vals=np.ones_like(data, dtype=np.int32) * 5, entity=rasswanth)\n",
    "rept = REPT(rows=rows)"
   ]
  },
  {
   "cell_type": "code",
   "execution_count": 7,
   "id": "43d9234d-52a9-44bf-88ac-650e7c8e2581",
   "metadata": {},
   "outputs": [
    {
     "name": "stdout",
     "output_type": "stream",
     "text": [
      "{}\n",
      "CPU times: user 16.9 s, sys: 23.8 ms, total: 16.9 s\n",
      "Wall time: 16.9 s\n"
     ]
    }
   ],
   "source": [
    "%%time\n",
    "result = rept.sum()"
   ]
  },
  {
   "cell_type": "code",
   "execution_count": null,
   "id": "7617fd8f-b405-4b97-899b-a323309a6c38",
   "metadata": {},
   "outputs": [],
   "source": []
  },
  {
   "cell_type": "code",
   "execution_count": 8,
   "id": "267d385c-53dc-4d96-a3b8-e5f6955d27de",
   "metadata": {},
   "outputs": [],
   "source": [
    "#%prun convert_to_gamma_tensor(sept)\n",
    "# gamma_tensor = convert_to_gamma_tensor(sept)"
   ]
  },
  {
   "cell_type": "markdown",
   "id": "2380cc7c-be7a-41c1-8d9a-33c43f44f975",
   "metadata": {},
   "source": [
    "IGT1 = [3, 5, 7, 11] (prime numbers in term tensor that we use to hide the real values)\n",
    "\n",
    "IGT1 = [GammaScalar1, GammmaScalar2, GammaScalar3] (real values)\n",
    "IGT2 = [3, 5, 7, 11, 17, 19]\n",
    "\n",
    "igt3 = IGT2 * 2 -> [6, 10, 14, 22, 34, 39]\n",
    "2 * [3, 5, 7, 11, 17, 19]\n",
    "\n",
    "prime2symboy\n",
    "3,5,\n",
    "\n",
    "\n",
    "IGT1 = [3, 5, 7, 11]  # source of truth- we won't change this\n",
    "IGT2 = [13, 17, 19]  # if any collisions happen, we wil change them HERE.\n",
    "\n",
    "\n",
    "# iterate through IGT2\n",
    "# identify any prime numbers in IGT2.term_tensor that already exist in IGT1's prime factory (collisions)\n",
    "output: list of all colliding prime numbers\n",
    "\n",
    "# for each of these collisions\n",
    "Generate a new prime number from IGT1's prime_factory\n",
    "Map this new prime number to the GammaScalar that is colliding \n",
    "\n",
    "RESULT: IGT1 scalar manager, which \n",
    "\n",
    "\n",
    "IGT1 = [3, 5, 7, 13]\n",
    "cos([0, 0, 0, 2]) = 1 -> a lot of collisions will happen\n",
    "\n",
    "dict keys([3,5,7,11,...]) -> (ssid _entity_uid)"
   ]
  },
  {
   "cell_type": "code",
   "execution_count": 9,
   "id": "043ffc57-2bc1-4ddc-ba78-29720e8e8a7a",
   "metadata": {},
   "outputs": [],
   "source": [
    "from syft.core.adp.vm_private_scalar_manager import VirtualMachinePrivateScalarManager as SM"
   ]
  },
  {
   "cell_type": "code",
   "execution_count": 10,
   "id": "5d270153-6e64-4b6e-a519-b9eb6445049d",
   "metadata": {},
   "outputs": [
    {
     "name": "stdout",
     "output_type": "stream",
     "text": [
      "{2: <GammaScalar: (0.0 < 55000000.0 < 50000000.0)>}\n"
     ]
    }
   ],
   "source": [
    "vm = SM()"
   ]
  },
  {
   "cell_type": "code",
   "execution_count": 11,
   "id": "8718a283-1867-4f28-91d7-a6a1fad9e0ef",
   "metadata": {},
   "outputs": [
    {
     "data": {
      "text/plain": [
       "{2: <GammaScalar: (0.0 < 55000000.0 < 50000000.0)>}"
      ]
     },
     "execution_count": 11,
     "metadata": {},
     "output_type": "execute_result"
    }
   ],
   "source": [
    "vm.prime2symbol"
   ]
  },
  {
   "cell_type": "code",
   "execution_count": 12,
   "id": "face7253-0549-4e9f-9736-e10a0d8242d4",
   "metadata": {},
   "outputs": [
    {
     "data": {
      "text/plain": [
       "[2]"
      ]
     },
     "execution_count": 12,
     "metadata": {},
     "output_type": "execute_result"
    }
   ],
   "source": [
    "vm.primes_allocated"
   ]
  },
  {
   "cell_type": "code",
   "execution_count": 13,
   "id": "d8d364fd-2249-472c-9053-ea354c0b5bf0",
   "metadata": {},
   "outputs": [
    {
     "data": {
      "text/plain": [
       "2"
      ]
     },
     "execution_count": 13,
     "metadata": {},
     "output_type": "execute_result"
    }
   ],
   "source": [
    "vm.prime_factory.next()"
   ]
  },
  {
   "cell_type": "code",
   "execution_count": 14,
   "id": "11ac50ab-200b-406c-8860-e531d10356a8",
   "metadata": {},
   "outputs": [
    {
     "data": {
      "text/plain": [
       "[2]"
      ]
     },
     "execution_count": 14,
     "metadata": {},
     "output_type": "execute_result"
    }
   ],
   "source": [
    "vm.primes_allocated"
   ]
  },
  {
   "cell_type": "code",
   "execution_count": 15,
   "id": "400fa6f1-ee88-4399-a9ed-c1eaf0c8559c",
   "metadata": {},
   "outputs": [
    {
     "data": {
      "text/plain": [
       "{2: <GammaScalar: (0.0 < 55000000.0 < 50000000.0)>}"
      ]
     },
     "execution_count": 15,
     "metadata": {},
     "output_type": "execute_result"
    }
   ],
   "source": [
    "vm.prime2symbol"
   ]
  },
  {
   "cell_type": "code",
   "execution_count": 16,
   "id": "0f305512-dcbf-489a-9885-486ed79dc80b",
   "metadata": {},
   "outputs": [
    {
     "ename": "AttributeError",
     "evalue": "'VirtualMachinePrivateScalarManager' object has no attribute 'items'",
     "output_type": "error",
     "traceback": [
      "\u001b[0;31m---------------------------------------------------------------------------\u001b[0m",
      "\u001b[0;31mAttributeError\u001b[0m                            Traceback (most recent call last)",
      "\u001b[0;32m/tmp/ipykernel_2570221/2912008056.py\u001b[0m in \u001b[0;36m<module>\u001b[0;34m\u001b[0m\n\u001b[0;32m----> 1\u001b[0;31m \u001b[0mvm\u001b[0m\u001b[0;34m.\u001b[0m\u001b[0mitems\u001b[0m\u001b[0;34m(\u001b[0m\u001b[0;34m)\u001b[0m\u001b[0;34m\u001b[0m\u001b[0;34m\u001b[0m\u001b[0m\n\u001b[0m",
      "\u001b[0;31mAttributeError\u001b[0m: 'VirtualMachinePrivateScalarManager' object has no attribute 'items'"
     ]
    }
   ],
   "source": [
    "vm.items()"
   ]
  },
  {
   "cell_type": "code",
   "execution_count": null,
   "id": "607d7380-a94f-4768-a946-3f43f6304378",
   "metadata": {},
   "outputs": [],
   "source": []
  }
 ],
 "metadata": {
  "kernelspec": {
   "display_name": "Python 3 (ipykernel)",
   "language": "python",
   "name": "python3"
  },
  "language_info": {
   "codemirror_mode": {
    "name": "ipython",
    "version": 3
   },
   "file_extension": ".py",
   "mimetype": "text/x-python",
   "name": "python",
   "nbconvert_exporter": "python",
   "pygments_lexer": "ipython3",
   "version": "3.9.7"
  }
 },
 "nbformat": 4,
 "nbformat_minor": 5
}

{
 "cells": [
  {
   "cell_type": "code",
   "execution_count": 4,
   "id": "91f4a36e-d92f-4b83-9c6d-627e6f78b84d",
   "metadata": {},
   "outputs": [],
   "source": [
    "from syft.core.adp.data_subject_ledger import DataSubjectLedger\n",
    "from syft.core.adp.data_subject_ledger import convert_constants_to_indices\n",
    "import numpy as np"
   ]
  },
  {
   "cell_type": "code",
   "execution_count": 5,
   "id": "e182e4e3-16a0-4eee-9fca-6b79046665a2",
   "metadata": {},
   "outputs": [],
   "source": [
    "dsl = DataSubjectLedger()"
   ]
  },
  {
   "cell_type": "code",
   "execution_count": 6,
   "id": "562c0485-3fd1-4625-ba4f-88a8db1fe516",
   "metadata": {},
   "outputs": [
    {
     "data": {
      "text/plain": [
       "array([  9999, 499999])"
      ]
     },
     "execution_count": 6,
     "metadata": {},
     "output_type": "execute_result"
    }
   ],
   "source": [
    "convert_constants_to_indices(np.array([1, 50]))"
   ]
  },
  {
   "cell_type": "code",
   "execution_count": 37,
   "id": "e3be0681-3a59-43ad-b26f-8f8b38db51e7",
   "metadata": {},
   "outputs": [
    {
     "name": "stdout",
     "output_type": "stream",
     "text": [
      "Theoretical value:  0.05372712063485988\n",
      "Value in cache:  0.05372712063485988\n",
      "epsilon from func:  0.05372712063485988\n",
      "-*-*-*-*-*-*-*-*\n",
      "Theoretical value:  100.68990516105823\n",
      "Value in cache:  100.68990516105825\n",
      "epsilon from func:  100.68990516105825\n",
      "-*-*-*-*-*-*-*-*\n",
      "Theoretical value:  102.20502965934796\n",
      "Value in cache:  102.20502965934796\n",
      "epsilon from func:  102.20502965934796\n",
      "-*-*-*-*-*-*-*-*\n",
      "Theoretical value:  172.1775514758994\n",
      "Value in cache:  172.1775514758994\n",
      "epsilon from func:  172.1775514758994\n",
      "-*-*-*-*-*-*-*-*\n"
     ]
    }
   ],
   "source": [
    "for i in [0.0001, 50, 51, 100]:\n",
    "    t = dsl._get_optimal_alpha_for_constant(i)[1]\n",
    "    cv = dsl._cache_constant2epsilon[convert_constants_to_indices(np.array([i]))][0]\n",
    "    eps = dsl._get_epsilon_spend(np.array([i]))[0]\n",
    "    print(\"Theoretical value: \", t)\n",
    "    print(\"Value in cache: \", cv)\n",
    "    print(\"epsilon from func: \", eps)\n",
    "    assert (round(t, 8) == round(cv, 8)), f\"t, v = {t}, {cv}\"\n",
    "    print(\"-*\"*8)"
   ]
  },
  {
   "cell_type": "code",
   "execution_count": 39,
   "id": "dd4492a6-6a07-47df-8b08-2b987c5fd20c",
   "metadata": {},
   "outputs": [],
   "source": [
    "assert t == cv == eps"
   ]
  },
  {
   "cell_type": "code",
   "execution_count": 22,
   "id": "2206ede7-c265-41f0-97bc-f4abb3575014",
   "metadata": {},
   "outputs": [
    {
     "data": {
      "text/plain": [
       "numpy.ndarray"
      ]
     },
     "execution_count": 22,
     "metadata": {},
     "output_type": "execute_result"
    }
   ],
   "source": [
    "type(cv)"
   ]
  },
  {
   "cell_type": "code",
   "execution_count": 24,
   "id": "9d1158d1-3c2b-4236-b702-f0e9fdb0dd79",
   "metadata": {},
   "outputs": [
    {
     "data": {
      "text/plain": [
       "numpy.float64"
      ]
     },
     "execution_count": 24,
     "metadata": {},
     "output_type": "execute_result"
    }
   ],
   "source": [
    "type(cv[0])"
   ]
  },
  {
   "cell_type": "code",
   "execution_count": 8,
   "id": "0fcf479d-9c60-4f25-a58a-5cff9cd7ac89",
   "metadata": {},
   "outputs": [
    {
     "data": {
      "text/plain": [
       "array([0.05372712])"
      ]
     },
     "execution_count": 8,
     "metadata": {},
     "output_type": "execute_result"
    }
   ],
   "source": [
    "dsl._cache_constant2epsilon[convert_constants_to_indices(np.array([0.0001]))]"
   ]
  },
  {
   "cell_type": "code",
   "execution_count": 6,
   "id": "0a1e3a45-b6cb-4ad2-bcb4-62d72b39329f",
   "metadata": {},
   "outputs": [
    {
     "data": {
      "text/plain": [
       "array([100.68990516])"
      ]
     },
     "execution_count": 6,
     "metadata": {},
     "output_type": "execute_result"
    }
   ],
   "source": [
    "dsl._cache_constant2epsilon[convert_constants_to_indices(np.array([50]))]"
   ]
  },
  {
   "cell_type": "code",
   "execution_count": 7,
   "id": "7aa8cd0b-9514-49d0-bc95-d5d9e424105a",
   "metadata": {},
   "outputs": [
    {
     "data": {
      "text/plain": [
       "(1.5176551761080876, 100.68990516105823)"
      ]
     },
     "execution_count": 7,
     "metadata": {},
     "output_type": "execute_result"
    }
   ],
   "source": [
    "dsl._get_optimal_alpha_for_constant(50)"
   ]
  },
  {
   "cell_type": "code",
   "execution_count": 4,
   "id": "12d2e345-7bd8-4fc7-a91b-d4ea71a15b6c",
   "metadata": {},
   "outputs": [
    {
     "name": "stderr",
     "output_type": "stream",
     "text": [
      "/home/e/anaconda3/envs/Hagrid/lib/python3.9/site-packages/scipy/optimize/optimize.py:2621: RuntimeWarning: invalid value encountered in double_scalars\n",
      "  w = xb - ((xb - xc) * tmp2 - (xb - xa) * tmp1) / denom\n"
     ]
    },
    {
     "data": {
      "text/plain": [
       "(4.508496357814772, 7.766216625311721)"
      ]
     },
     "execution_count": 4,
     "metadata": {},
     "output_type": "execute_result"
    }
   ],
   "source": [
    "dsl._get_optimal_alpha_for_constant(1)"
   ]
  },
  {
   "cell_type": "code",
   "execution_count": 13,
   "id": "41fae408-3bea-49dd-af9d-7aa547092e28",
   "metadata": {},
   "outputs": [
    {
     "data": {
      "text/plain": [
       "True"
      ]
     },
     "execution_count": 13,
     "metadata": {},
     "output_type": "execute_result"
    }
   ],
   "source": [
    "(convert_constants_to_indices(np.array([48, 49])) == np.array([470000, 480000])).all()"
   ]
  },
  {
   "cell_type": "code",
   "execution_count": 12,
   "id": "2798d622-bbf9-4835-95ee-1e32a33e315e",
   "metadata": {},
   "outputs": [
    {
     "data": {
      "text/plain": [
       "array([470000, 480000])"
      ]
     },
     "execution_count": 12,
     "metadata": {},
     "output_type": "execute_result"
    }
   ],
   "source": [
    "convert_constants_to_indices(np.array([48, 49]))"
   ]
  },
  {
   "cell_type": "code",
   "execution_count": 17,
   "id": "31ca7487-ebe6-45c6-865f-15f08ba448b1",
   "metadata": {},
   "outputs": [
    {
     "data": {
      "text/plain": [
       "DeviceArray([1.00074330e+08, 2.00105121e+08], dtype=float64)"
      ]
     },
     "execution_count": 17,
     "metadata": {},
     "output_type": "execute_result"
    }
   ],
   "source": [
    "dsl._get_epsilon_spend(np.array([1e8, 2e8]))"
   ]
  },
  {
   "cell_type": "code",
   "execution_count": 18,
   "id": "1c809278-4d2f-470e-8b9d-320b7a73c89a",
   "metadata": {},
   "outputs": [
    {
     "data": {
      "text/plain": [
       "706263.403703397"
      ]
     },
     "execution_count": 18,
     "metadata": {},
     "output_type": "execute_result"
    }
   ],
   "source": [
    "dsl._cache_constant2epsilon[-1]"
   ]
  },
  {
   "cell_type": "code",
   "execution_count": 25,
   "id": "023fed4a-d4fb-47a9-a612-78eabc388bc7",
   "metadata": {},
   "outputs": [
    {
     "name": "stdout",
     "output_type": "stream",
     "text": [
      "HI\n"
     ]
    }
   ],
   "source": [
    "if (np.array([dsl._get_optimal_alpha_for_constant(i)[1] for i in [1e8, 2e8]]) == dsl._get_epsilon_spend(np.array([1e8, 2e8]))).all():\n",
    "    print(\"HI\")"
   ]
  },
  {
   "cell_type": "code",
   "execution_count": null,
   "id": "752e492d-d3a8-4b2d-9a98-0b830e7c1cd5",
   "metadata": {},
   "outputs": [],
   "source": []
  }
 ],
 "metadata": {
  "kernelspec": {
   "display_name": "Python 3 (ipykernel)",
   "language": "python",
   "name": "python3"
  },
  "language_info": {
   "codemirror_mode": {
    "name": "ipython",
    "version": 3
   },
   "file_extension": ".py",
   "mimetype": "text/x-python",
   "name": "python",
   "nbconvert_exporter": "python",
   "pygments_lexer": "ipython3",
   "version": "3.9.7"
  }
 },
 "nbformat": 4,
 "nbformat_minor": 5
}

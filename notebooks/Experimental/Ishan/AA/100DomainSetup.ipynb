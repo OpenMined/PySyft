{
 "cells": [
  {
   "cell_type": "markdown",
   "id": "5e06aa1a-b9d4-4b8b-8e3c-12448b6a74ea",
   "metadata": {},
   "source": [
    "## Upload Data"
   ]
  },
  {
   "cell_type": "code",
   "execution_count": 16,
   "id": "e403ad85-3e53-465c-a630-5a2f46692f14",
   "metadata": {},
   "outputs": [],
   "source": [
    "# run this cell\n",
    "import syft as sy\n",
    "from utils import *\n",
    "from syft.core.adp.data_subject_list import DataSubjectArray\n",
    "from tqdm import tqdm"
   ]
  },
  {
   "cell_type": "code",
   "execution_count": 6,
   "id": "f8dd7ef8-347f-4736-9391-0e7f2d016ff6",
   "metadata": {},
   "outputs": [
    {
     "name": "stdout",
     "output_type": "stream",
     "text": [
      "100\n"
     ]
    }
   ],
   "source": [
    "# Get dataset splits\n",
    "\n",
    "dataset_names = []\n",
    "path = \"https://raw.githubusercontent.com/OpenMined/datasets/main/BreastCancerDataset/subsets/\"\n",
    "with open(\"dataset_names.txt\", \"r\") as f:\n",
    "    for line in f:\n",
    "        dataset_names.append(path + line.strip())\n",
    "\n",
    "print(len(dataset_names))"
   ]
  },
  {
   "cell_type": "code",
   "execution_count": 17,
   "id": "17647746-adc2-462e-b7ca-b46da56bc75b",
   "metadata": {},
   "outputs": [
    {
     "name": "stdout",
     "output_type": "stream",
     "text": [
      "100 100\n"
     ]
    }
   ],
   "source": [
    "# Get IP addresses for domains\n",
    "domain_ips = []\n",
    "pwds = []\n",
    "with open(\"IPLogin.csv\", \"r\") as f:\n",
    "    for line in f:\n",
    "        struct = line.split(\",\")\n",
    "        domain_ips.append(struct[0])\n",
    "        pwds.append(struct[-1])\n",
    "        \n",
    "\n",
    "domain_ips = domain_ips[:100]\n",
    "pwds = pwds[:100]\n",
    "print(len(domain_ips), len(domain_ips))"
   ]
  },
  {
   "cell_type": "code",
   "execution_count": null,
   "id": "fb1c4b87-b422-4768-a42a-6324c225f74f",
   "metadata": {},
   "outputs": [],
   "source": [
    "for i in tqdm(range(100)):\n",
    "    \n",
    "    # Need to run update_syft.sh on every domain\n",
    "    sshpass -p MflpTeamOne@31052022 ssh azureuser@20.253.155.189 update_syft.sh\n",
    "    \n",
    "    # Log into domain\n",
    "    domain = sy.login(email=\"info@openmined.org\", password=\"changethis\",url=domain_ips[i])\n",
    "    \n",
    "    # Preprocess dataset split\n",
    "    dataset = download_dataset(dataset_names[i])\n",
    "    train, val, test = split_and_preprocess_dataset(data=dataset)\n",
    "    \n",
    "    data_subjects_image = np.ones(train[\"images\"].shape).astype(object)\n",
    "    for i,patient in enumerate(train[\"patient_ids\"]):\n",
    "        data_subjects_image[i] = DataSubjectArray([str(patient)])\n",
    "\n",
    "    data_subjects_labels = np.ones(train[\"labels\"].shape).astype(object)\n",
    "    for i,patient in enumerate(train[\"patient_ids\"]):\n",
    "        data_subjects_labels[i] = DataSubjectArray([str(patient)])\n",
    "\n",
    "\n",
    "    train_image_data = sy.Tensor(train[\"images\"]).annotated_with_dp_metadata(\n",
    "        min_val=0, max_val=255, data_subjects=data_subjects_image\n",
    "    )\n",
    "    train_label_data = sy.Tensor(train[\"labels\"]).annotated_with_dp_metadata(\n",
    "        min_val=0, max_val=1, data_subjects=data_subjects_labels\n",
    "    )\n",
    "    \n",
    "    # Load dataset\n",
    "    domain.load_dataset(\n",
    "        name=\"BreastCancerDataset\",\n",
    "        assets={\n",
    "            \"train_images\": train_image_data[:2],\n",
    "            \"train_labels\": train_label_data[:2],\n",
    "        },\n",
    "        description=\"Invasive Ductal Carcinoma (IDC) is the most common subtype of all breast cancers. \\\n",
    "        The modified dataset consisted of 162 whole mount slide images of Breast Cancer (BCa) specimens scanned at 40x. \\\n",
    "        Patches of size 50 x 50 were extracted from the original image. The labels 0 is non-IDC and 1 is IDC.\"\n",
    "    )\n",
    "    \n",
    "    domain.create_user(\n",
    "        name=\"Sam Carter\",\n",
    "        email=\"sam@stargate.net\",\n",
    "        password=\"changethis\",\n",
    "        budget=9999\n",
    "    )\n"
   ]
  }
 ],
 "metadata": {
  "interpreter": {
   "hash": "630449982b6186a6531308cd76ed4d510e9db65154e43844c2906c6a20ad2a6d"
  },
  "kernelspec": {
   "display_name": "Python 3 (ipykernel)",
   "language": "python",
   "name": "python3"
  },
  "language_info": {
   "codemirror_mode": {
    "name": "ipython",
    "version": 3
   },
   "file_extension": ".py",
   "mimetype": "text/x-python",
   "name": "python",
   "nbconvert_exporter": "python",
   "pygments_lexer": "ipython3",
   "version": "3.9.7"
  },
  "toc-autonumbering": false
 },
 "nbformat": 4,
 "nbformat_minor": 5
}

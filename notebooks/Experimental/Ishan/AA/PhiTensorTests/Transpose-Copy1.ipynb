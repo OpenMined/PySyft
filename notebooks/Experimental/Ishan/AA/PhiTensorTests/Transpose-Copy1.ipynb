{
 "cells": [
  {
   "cell_type": "code",
   "execution_count": 1,
   "id": "7d35e4ec-fc16-496a-8219-3b549c4bc06b",
   "metadata": {},
   "outputs": [
    {
     "name": "stderr",
     "output_type": "stream",
     "text": [
      "/home/e/anaconda3/envs/Hagrid/lib/python3.9/site-packages/tqdm/auto.py:22: TqdmWarning: IProgress not found. Please update jupyter and ipywidgets. See https://ipywidgets.readthedocs.io/en/stable/user_install.html\n",
      "  from .autonotebook import tqdm as notebook_tqdm\n"
     ]
    }
   ],
   "source": [
    "import numpy as np\n",
    "from syft import PhiTensor, DataSubjectList"
   ]
  },
  {
   "cell_type": "code",
   "execution_count": 2,
   "id": "296bfc67-918c-4a94-9a9c-db08a6e1dcc9",
   "metadata": {},
   "outputs": [],
   "source": [
    "pt = PhiTensor(child=np.random.random((4,6)), data_subjects=DataSubjectList.from_objs(np.ones((4,6))*77), min_vals=0, max_vals=1)"
   ]
  },
  {
   "cell_type": "code",
   "execution_count": 3,
   "id": "3272a2f8-966e-4159-acbc-c27bc603e5ab",
   "metadata": {},
   "outputs": [
    {
     "data": {
      "text/plain": [
       "PhiTensor(child=[[0.17905318 0.38430418 0.31861859 0.32662816 0.28610458 0.09047828]\n",
       " [0.15545923 0.60311374 0.06836941 0.90529737 0.89208042 0.85412873]\n",
       " [0.48533986 0.77427397 0.94663803 0.65114248 0.64737499 0.64405835]\n",
       " [0.06473516 0.63019535 0.84722359 0.65619137 0.80257147 0.19787457]], min_vals=<lazyrepeatarray data: 0 -> shape: (4, 6)>, max_vals=<lazyrepeatarray data: 1 -> shape: (4, 6)>)"
      ]
     },
     "execution_count": 3,
     "metadata": {},
     "output_type": "execute_result"
    }
   ],
   "source": [
    "pt"
   ]
  },
  {
   "cell_type": "code",
   "execution_count": 4,
   "id": "3e582c7a-dce8-412a-b0ed-6fdb464088b0",
   "metadata": {},
   "outputs": [],
   "source": [
    "res = pt.transpose()"
   ]
  },
  {
   "cell_type": "code",
   "execution_count": 5,
   "id": "eb8cadce-b9b4-418e-b0df-06fa066b8f44",
   "metadata": {},
   "outputs": [
    {
     "data": {
      "text/plain": [
       "(6, 4)"
      ]
     },
     "execution_count": 5,
     "metadata": {},
     "output_type": "execute_result"
    }
   ],
   "source": [
    "res.data_subjects.shape"
   ]
  },
  {
   "cell_type": "code",
   "execution_count": 6,
   "id": "fb2045cf-a5c9-4bf0-873b-7575d8b03dcd",
   "metadata": {},
   "outputs": [
    {
     "name": "stdout",
     "output_type": "stream",
     "text": [
      "[2 1]\n"
     ]
    },
    {
     "data": {
      "text/plain": [
       "(3, 6, 4)"
      ]
     },
     "execution_count": 6,
     "metadata": {},
     "output_type": "execute_result"
    }
   ],
   "source": [
    "data = np.ones((3,4,6))\n",
    "\n",
    "def get_output_shape(shape):\n",
    "    return \n",
    "\n",
    "print(np.arange(len(data.shape)-1, 0, -1))\n",
    "data.transpose(0, *np.arange(len(data.shape)-1, 0, -1)).shape"
   ]
  },
  {
   "cell_type": "code",
   "execution_count": 7,
   "id": "943c8e3c-1dd7-4213-a22f-ec46d2d0d020",
   "metadata": {},
   "outputs": [
    {
     "data": {
      "text/plain": [
       "(4, 6)"
      ]
     },
     "execution_count": 7,
     "metadata": {},
     "output_type": "execute_result"
    }
   ],
   "source": [
    "gt = pt.gamma\n",
    "gt.data_subjects.shape"
   ]
  },
  {
   "cell_type": "code",
   "execution_count": 8,
   "id": "fd08287f-2067-4554-a6db-50f3be3ff654",
   "metadata": {},
   "outputs": [],
   "source": [
    "res2 = gt.transpose()"
   ]
  },
  {
   "cell_type": "code",
   "execution_count": 9,
   "id": "ceb0c14f-ae0c-42a0-9009-f676627dee46",
   "metadata": {},
   "outputs": [
    {
     "data": {
      "text/plain": [
       "(6, 4)"
      ]
     },
     "execution_count": 9,
     "metadata": {},
     "output_type": "execute_result"
    }
   ],
   "source": [
    "res2.data_subjects.shape"
   ]
  },
  {
   "cell_type": "code",
   "execution_count": 10,
   "id": "77aae5eb-98b1-4546-89bb-c6ca73682603",
   "metadata": {},
   "outputs": [
    {
     "name": "stdout",
     "output_type": "stream",
     "text": [
      "(7, 6, 5, 4, 3)\n"
     ]
    }
   ],
   "source": [
    "d2 = np.ones((3,4,5,6,7))\n",
    "print(d2.transpose().shape)"
   ]
  },
  {
   "cell_type": "code",
   "execution_count": 11,
   "id": "0382f2eb-8d3f-4915-8edb-75e345907c0d",
   "metadata": {},
   "outputs": [
    {
     "data": {
      "text/plain": [
       "(3, 7, 6, 5, 4)"
      ]
     },
     "execution_count": 11,
     "metadata": {},
     "output_type": "execute_result"
    }
   ],
   "source": [
    "d2.reshape(d2.shape[0], *d2.shape[1:][::-1]).shape"
   ]
  },
  {
   "cell_type": "code",
   "execution_count": null,
   "id": "8e724f7b-10d3-4b60-a50c-17a825ae2270",
   "metadata": {},
   "outputs": [],
   "source": []
  }
 ],
 "metadata": {
  "kernelspec": {
   "display_name": "Python 3 (ipykernel)",
   "language": "python",
   "name": "python3"
  },
  "language_info": {
   "codemirror_mode": {
    "name": "ipython",
    "version": 3
   },
   "file_extension": ".py",
   "mimetype": "text/x-python",
   "name": "python",
   "nbconvert_exporter": "python",
   "pygments_lexer": "ipython3",
   "version": "3.9.7"
  }
 },
 "nbformat": 4,
 "nbformat_minor": 5
}

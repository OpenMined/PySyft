{
 "cells": [
  {
   "cell_type": "code",
   "execution_count": 14,
   "id": "4c1c6fad-8065-43fd-a1d0-3ae4846fd1c0",
   "metadata": {},
   "outputs": [],
   "source": [
    "from syft import GammaTensor, lazyrepeatarray, DataSubjectArray, PhiTensor, nn\n",
    "from typing import Dict\n",
    "import numpy as np\n",
    "from jax.numpy import DeviceArray, add, array\n",
    "from time import time"
   ]
  },
  {
   "cell_type": "code",
   "execution_count": 2,
   "id": "01726efb-280d-4aa1-951c-73fba6dc2327",
   "metadata": {},
   "outputs": [],
   "source": [
    "def _add(state: dict) -> DeviceArray:\n",
    "    return add(self.run(state), other.run(state))\n",
    "\n",
    "def no_op(x: Dict[str, GammaTensor]) -> Dict[str, GammaTensor]:\n",
    "    \"\"\"A Private input will be initialized with this function.\n",
    "    Whenever you manipulate a private input (i.e. add it to another private tensor),\n",
    "    the result will have a different function. Thus we can check to see if the f\n",
    "    \"\"\"\n",
    "    return x"
   ]
  },
  {
   "cell_type": "code",
   "execution_count": 5,
   "id": "1bd13b35-b419-44c9-81bd-790c0348cdd9",
   "metadata": {},
   "outputs": [],
   "source": [
    "# This is a sample input for the backward pass\n",
    "bp_input = GammaTensor(\n",
    "    child=array([[0.75, 0.25],[0.75, 0.25]]), \n",
    "    data_subjects=np.array([[DataSubjectArray('22545'), DataSubjectArray('22545')],[DataSubjectArray('22545'), DataSubjectArray('22545')]],dtype=object), \n",
    "    min_vals=lazyrepeatarray(0,(2, 2)), \n",
    "    max_vals=lazyrepeatarray(1,(2, 2)), \n",
    "    is_linear=True, \n",
    "    func=_add, \n",
    "    id='611477384', \n",
    "    state={\n",
    "        '726317529': GammaTensor(\n",
    "            child=array([[0.75, 0.25],[0.75, 0.25]]),\n",
    "            data_subjects=np.array([[DataSubjectArray('22545'), DataSubjectArray('22545')],[DataSubjectArray('22545'), DataSubjectArray('22545')]],dtype=object), \n",
    "            min_vals=lazyrepeatarray(0,(2, 2)), \n",
    "            max_vals=lazyrepeatarray(1,(2, 2)), \n",
    "            is_linear=True, \n",
    "            func=no_op, \n",
    "            id='726317529', \n",
    "            state={})\n",
    "    }\n",
    ")"
   ]
  },
  {
   "cell_type": "code",
   "execution_count": 7,
   "id": "a0ae0c5d-e102-4739-90ae-ce6c8065609c",
   "metadata": {},
   "outputs": [
    {
     "name": "stdout",
     "output_type": "stream",
     "text": [
      "Model has compiled\n"
     ]
    }
   ],
   "source": [
    "model = nn.Model()\n",
    "\n",
    "# Layer 1\n",
    "model.add(nn.Convolution(nb_filter=32, filter_size=3, padding=2, input_shape=(2247, 3, 50, 50)))\n",
    "model.add(nn.BatchNorm(activation="leaky_relu"))\n",
    "model.add(nn.MaxPool(pool_size=2, stride=2))\n",
    "\n",
    "# # Layer 2\n",
    "model.add(nn.Convolution(nb_filter=64, filter_size=3, padding=2))\n",
    "model.add(nn.BatchNorm(activation="leaky_relu"))\n",
    "model.add(nn.MaxPool(pool_size=2, stride=2))\n",
    "\n",
    "# Layer 3\n",
    "model.add(nn.Convolution(nb_filter=128, filter_size=3, padding=2))\n",
    "model.add(nn.BatchNorm(activation="leaky_relu"))\n",
    "model.add(nn.MaxPool(pool_size=2, stride=2))\n",
    "\n",
    "# Layer 4\n",
    "model.add(nn.Convolution(nb_filter=256, filter_size=3, padding=2))\n",
    "model.add(nn.BatchNorm(activation="leaky_relu"))\n",
    "model.add(nn.MaxPool(pool_size=2, stride=2))\n",
    "\n",
    "# Layer 5\n",
    "# model.add(nn.Convolution(nb_filter=512, filter_size=3, padding=2))\n",
    "# model.add(nn.BatchNorm(activation="leaky_relu"))\n",
    "# model.add(nn.MaxPool(pool_size=2, stride=2))\n",
    "\n",
    "# Layer 6\n",
    "model.add(nn.AvgPool(5))\n",
    "\n",
    "# # Layer 7\n",
    "model.add(nn.Flatten())\n",
    "\n",
    "# # Layer 8\n",
    "model.add(nn.Linear(2))\n",
    "\n",
    "model.compile()\n",
    "print(\"Model has compiled\")"
   ]
  },
  {
   "cell_type": "code",
   "execution_count": 10,
   "id": "17f65e45-1365-46b0-b59b-4cd20626c301",
   "metadata": {},
   "outputs": [],
   "source": [
    "y_true = PhiTensor(\n",
    "    child=np.array([0, 0]), \n",
    "    data_subjects=np.array([DataSubjectArray('22545'), DataSubjectArray('22545')], dtype=object),\n",
    "    min_vals=lazyrepeatarray(0, (2,)),\n",
    "    max_vals=lazyrepeatarray(1, (2,))\n",
    ")"
   ]
  },
  {
   "cell_type": "code",
   "execution_count": 11,
   "id": "bc10461e-bdc3-4b38-8220-ec7927017c1f",
   "metadata": {},
   "outputs": [],
   "source": [
    "next_grad = model.loss.backward(bp_input, y_true)"
   ]
  },
  {
   "cell_type": "code",
   "execution_count": 12,
   "id": "e82e3d2c-51a8-4ba7-9f84-fcd656d56fd2",
   "metadata": {},
   "outputs": [
    {
     "data": {
      "text/plain": [
       "GammaTensor(child=DeviceArray([[4.        , 1.33333333],\n",
       "             [4.        , 1.33333333]], dtype=float64), data_subjects=array([[DataSubjectArray: {'5', '2', '4'}, DataSubjectArray: {'5', '2', '4'}],\n",
       "       [DataSubjectArray: {'5', '2', '4'}, DataSubjectArray: {'5', '2', '4'}]],\n",
       "      dtype=object), min_vals=<lazyrepeatarray data: -5.33333333328 -> shape: (2, 2)>, max_vals=<lazyrepeatarray data: 5.33333333328 -> shape: (2, 2)>, is_linear=True, func=<function GammaTensor.__mul__.<locals>._mul at 0x7f5100582e50>, id='1618270190', state={'40288861': GammaTensor(child=DeviceArray([[0.75, 0.25],\n",
       "             [0.75, 0.25]], dtype=float64), data_subjects=array([[DataSubjectArray: {'5', '2', '4'}, DataSubjectArray: {'5', '2', '4'}],\n",
       "       [DataSubjectArray: {'5', '2', '4'}, DataSubjectArray: {'5', '2', '4'}]],\n",
       "      dtype=object), min_vals=<lazyrepeatarray data: -0.99999999999 -> shape: (2, 2)>, max_vals=<lazyrepeatarray data: 0.99999999999 -> shape: (2, 2)>, is_linear=True, func=<function GammaTensor.__sub__.<locals>._sub at 0x7f5100582ee0>, id='40288861', state={'1046738441': GammaTensor(child=DeviceArray([[0.75, 0.25],\n",
       "             [0.75, 0.25]], dtype=float64), data_subjects=array([[DataSubjectArray: {'2', '5', '4'}, DataSubjectArray: {'2', '5', '4'}],\n",
       "       [DataSubjectArray: {'2', '5', '4'}, DataSubjectArray: {'2', '5', '4'}]],\n",
       "      dtype=object), min_vals=<lazyrepeatarray data: 1e-11 -> shape: (2, 2)>, max_vals=<lazyrepeatarray data: 0.99999999999 -> shape: (2, 2)>, is_linear=True, func=<function GammaTensor.clip.<locals>._clip at 0x7f5100582820>, id='1046738441', state={'726317529': GammaTensor(child=DeviceArray([[0.75, 0.25],\n",
       "             [0.75, 0.25]], dtype=float64), data_subjects=array([[DataSubjectArray: {'2', '5', '4'}, DataSubjectArray: {'2', '5', '4'}],\n",
       "       [DataSubjectArray: {'2', '5', '4'}, DataSubjectArray: {'2', '5', '4'}]],\n",
       "      dtype=object), min_vals=<lazyrepeatarray data: 0 -> shape: (2, 2)>, max_vals=<lazyrepeatarray data: 1 -> shape: (2, 2)>, is_linear=True, func=<function no_op at 0x7f5135fe2c10>, id='726317529', state={'726317529': ...})}), '1823494865': GammaTensor(child=array([0, 0]), data_subjects=array([DataSubjectArray: {'2', '5', '4'}, DataSubjectArray: {'2', '5', '4'}],\n",
       "      dtype=object), min_vals=<lazyrepeatarray data: 0 -> shape: (2,)>, max_vals=<lazyrepeatarray data: 1 -> shape: (2,)>, is_linear=True, func=<function no_op at 0x7f5136e5fdc0>, id='1823494865', state={})})})"
      ]
     },
     "execution_count": 12,
     "metadata": {},
     "output_type": "execute_result"
    }
   ],
   "source": [
    "next_grad"
   ]
  },
  {
   "cell_type": "code",
   "execution_count": 15,
   "id": "1839a320",
   "metadata": {},
   "outputs": [
    {
     "name": "stdout",
     "output_type": "stream",
     "text": [
      "Linear\n"
     ]
    },
    {
     "ename": "AttributeError",
     "evalue": "'NoneType' object has no attribute 'T'",
     "output_type": "error",
     "traceback": [
      "\u001b[0;31m---------------------------------------------------------------------------\u001b[0m",
      "\u001b[0;31mAttributeError\u001b[0m                            Traceback (most recent call last)",
      "\u001b[0;32m/tmp/ipykernel_19211/1534456009.py\u001b[0m in \u001b[0;36m<module>\u001b[0;34m\u001b[0m\n\u001b[1;32m      3\u001b[0m     \u001b[0mprint\u001b[0m\u001b[0;34m(\u001b[0m\u001b[0mlayer\u001b[0m\u001b[0;34m)\u001b[0m\u001b[0;34m\u001b[0m\u001b[0;34m\u001b[0m\u001b[0m\n\u001b[1;32m      4\u001b[0m     \u001b[0mstart\u001b[0m \u001b[0;34m=\u001b[0m \u001b[0mtime\u001b[0m\u001b[0;34m(\u001b[0m\u001b[0;34m)\u001b[0m\u001b[0;34m\u001b[0m\u001b[0;34m\u001b[0m\u001b[0m\n\u001b[0;32m----> 5\u001b[0;31m     \u001b[0mnext_grad\u001b[0m \u001b[0;34m=\u001b[0m \u001b[0mlayer\u001b[0m\u001b[0;34m.\u001b[0m\u001b[0mbackward\u001b[0m\u001b[0;34m(\u001b[0m\u001b[0mnext_grad\u001b[0m\u001b[0;34m)\u001b[0m\u001b[0;34m\u001b[0m\u001b[0;34m\u001b[0m\u001b[0m\n\u001b[0m\u001b[1;32m      6\u001b[0m     \u001b[0mend\u001b[0m \u001b[0;34m=\u001b[0m \u001b[0mtime\u001b[0m\u001b[0;34m(\u001b[0m\u001b[0;34m)\u001b[0m\u001b[0;34m\u001b[0m\u001b[0;34m\u001b[0m\u001b[0m\n\u001b[1;32m      7\u001b[0m     \u001b[0mprint\u001b[0m\u001b[0;34m(\u001b[0m\u001b[0;34mf\"Time to execute backward for {layer}: {end-start}\"\u001b[0m\u001b[0;34m)\u001b[0m\u001b[0;34m\u001b[0m\u001b[0;34m\u001b[0m\u001b[0m\n",
      "\u001b[0;32m~/PycharmProjects/PySyft/packages/syft/src/syft/core/tensor/nn/layers/linear.py\u001b[0m in \u001b[0;36mbackward\u001b[0;34m(self, pre_grad, *args, **kwargs)\u001b[0m\n\u001b[1;32m     55\u001b[0m \u001b[0;34m\u001b[0m\u001b[0m\n\u001b[1;32m     56\u001b[0m     \u001b[0;32mdef\u001b[0m \u001b[0mbackward\u001b[0m\u001b[0;34m(\u001b[0m\u001b[0mself\u001b[0m\u001b[0;34m,\u001b[0m \u001b[0mpre_grad\u001b[0m\u001b[0;34m:\u001b[0m \u001b[0mPhiTensor\u001b[0m\u001b[0;34m,\u001b[0m \u001b[0;34m*\u001b[0m\u001b[0margs\u001b[0m\u001b[0;34m,\u001b[0m \u001b[0;34m**\u001b[0m\u001b[0mkwargs\u001b[0m\u001b[0;34m)\u001b[0m\u001b[0;34m:\u001b[0m\u001b[0;34m\u001b[0m\u001b[0;34m\u001b[0m\u001b[0m\n\u001b[0;32m---> 57\u001b[0;31m         \u001b[0mself\u001b[0m\u001b[0;34m.\u001b[0m\u001b[0mdW\u001b[0m \u001b[0;34m=\u001b[0m \u001b[0mself\u001b[0m\u001b[0;34m.\u001b[0m\u001b[0mlast_input\u001b[0m\u001b[0;34m.\u001b[0m\u001b[0mT\u001b[0m\u001b[0;34m.\u001b[0m\u001b[0mdot\u001b[0m\u001b[0;34m(\u001b[0m\u001b[0mpre_grad\u001b[0m\u001b[0;34m)\u001b[0m\u001b[0;34m\u001b[0m\u001b[0;34m\u001b[0m\u001b[0m\n\u001b[0m\u001b[1;32m     58\u001b[0m         \u001b[0mself\u001b[0m\u001b[0;34m.\u001b[0m\u001b[0mdb\u001b[0m \u001b[0;34m=\u001b[0m \u001b[0mpre_grad\u001b[0m\u001b[0;34m.\u001b[0m\u001b[0mmean\u001b[0m\u001b[0;34m(\u001b[0m\u001b[0maxis\u001b[0m\u001b[0;34m=\u001b[0m\u001b[0;36m0\u001b[0m\u001b[0;34m)\u001b[0m\u001b[0;34m\u001b[0m\u001b[0;34m\u001b[0m\u001b[0m\n\u001b[1;32m     59\u001b[0m         \u001b[0;32mif\u001b[0m \u001b[0;32mnot\u001b[0m \u001b[0mself\u001b[0m\u001b[0;34m.\u001b[0m\u001b[0mfirst_layer\u001b[0m\u001b[0;34m:\u001b[0m\u001b[0;34m\u001b[0m\u001b[0;34m\u001b[0m\u001b[0m\n",
      "\u001b[0;31mAttributeError\u001b[0m: 'NoneType' object has no attribute 'T'"
     ]
    }
   ],
   "source": [
    "total_time_backward = 0.0\n",
    "for layer in model.layers[::-1]:\n",
    "    print(layer)\n",
    "    start = time()\n",
    "    next_grad = layer.backward(next_grad)\n",
    "    end = time()\n",
    "    print(f\"Time to execute backward for {layer}: {end-start}\")\n",
    "    total_time_backward += end-start"
   ]
  },
  {
   "cell_type": "markdown",
   "id": "01e4ea78-47a8-4421-bcd3-ceed18994b26",
   "metadata": {},
   "source": [
    "### Debugging"
   ]
  }
 ],
 "metadata": {
  "kernelspec": {
   "display_name": "Python 3 (ipykernel)",
   "language": "python",
   "name": "python3"
  },
  "language_info": {
   "codemirror_mode": {
    "name": "ipython",
    "version": 3
   },
   "file_extension": ".py",
   "mimetype": "text/x-python",
   "name": "python",
   "nbconvert_exporter": "python",
   "pygments_lexer": "ipython3",
   "version": "3.9.7"
  }
 },
 "nbformat": 4,
 "nbformat_minor": 5
}

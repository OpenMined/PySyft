{
 "cells": [
  {
   "cell_type": "code",
   "execution_count": 1,
   "id": "9236fe92-9e6d-4c70-ab50-9c8179bdb929",
   "metadata": {},
   "outputs": [
    {
     "name": "stderr",
     "output_type": "stream",
     "text": [
      "/home/e/anaconda3/envs/Hagrid/lib/python3.9/site-packages/tqdm/auto.py:22: TqdmWarning: IProgress not found. Please update jupyter and ipywidgets. See https://ipywidgets.readthedocs.io/en/stable/user_install.html\n",
      "  from .autonotebook import tqdm as notebook_tqdm\n"
     ]
    }
   ],
   "source": [
    "from syft.core.tensor.nn.utils import *"
   ]
  },
  {
   "cell_type": "code",
   "execution_count": 2,
   "id": "4ba84d08-8287-4147-a44b-b6866603e864",
   "metadata": {},
   "outputs": [],
   "source": [
    "from syft import PhiTensor, GammaTensor, lazyrepeatarray, DataSubjectArray"
   ]
  },
  {
   "cell_type": "code",
   "execution_count": 3,
   "id": "16a25b2c-8f2f-4847-84ac-eee6a892dd9b",
   "metadata": {},
   "outputs": [],
   "source": [
    "import numpy as np"
   ]
  },
  {
   "cell_type": "code",
   "execution_count": 4,
   "id": "e3e3c1e9-89ea-40f8-b26e-bb3a79582446",
   "metadata": {},
   "outputs": [],
   "source": [
    "tensor = GammaTensor(\n",
    "    child=np.random.random((5,5)), \n",
    "    data_subjects=DataSubjectArray.from_objs(np.random.choice(np.arange(5), (5,5))), \n",
    "    min_vals=lazyrepeatarray(0, (5,5)), \n",
    "    max_vals=lazyrepeatarray(1, (5,5))\n",
    ")"
   ]
  },
  {
   "cell_type": "code",
   "execution_count": 5,
   "id": "2ced0b8b-bd2f-403e-b484-0263416a0af6",
   "metadata": {},
   "outputs": [
    {
     "data": {
      "text/plain": [
       "array([[DataSubjectArray: {0}, DataSubjectArray: {0}, DataSubjectArray: {3},\n",
       "        DataSubjectArray: {4}, DataSubjectArray: {3}],\n",
       "       [DataSubjectArray: {3}, DataSubjectArray: {2}, DataSubjectArray: {4},\n",
       "        DataSubjectArray: {2}, DataSubjectArray: {4}],\n",
       "       [DataSubjectArray: {3}, DataSubjectArray: {2}, DataSubjectArray: {1},\n",
       "        DataSubjectArray: {2}, DataSubjectArray: {2}],\n",
       "       [DataSubjectArray: {1}, DataSubjectArray: {4}, DataSubjectArray: {1},\n",
       "        DataSubjectArray: {0}, DataSubjectArray: {4}],\n",
       "       [DataSubjectArray: {3}, DataSubjectArray: {0}, DataSubjectArray: {2},\n",
       "        DataSubjectArray: {2}, DataSubjectArray: {3}]], dtype=object)"
      ]
     },
     "execution_count": 5,
     "metadata": {},
     "output_type": "execute_result"
    }
   ],
   "source": [
    "tensor.data_subjects"
   ]
  },
  {
   "cell_type": "code",
   "execution_count": 6,
   "id": "206e93d6-6b13-49a5-8763-d2c5e8da1980",
   "metadata": {},
   "outputs": [],
   "source": [
    "ds = tensor.data_subjects.reshape((25,1))"
   ]
  },
  {
   "cell_type": "code",
   "execution_count": 7,
   "id": "cc1fc301-7c1b-4307-8cee-b0f41e98af89",
   "metadata": {},
   "outputs": [
    {
     "data": {
      "text/plain": [
       "(25, 1)"
      ]
     },
     "execution_count": 7,
     "metadata": {},
     "output_type": "execute_result"
    }
   ],
   "source": [
    "ds.shape"
   ]
  },
  {
   "cell_type": "code",
   "execution_count": 8,
   "id": "1189bad7-4b7d-4a07-9d93-770de587df80",
   "metadata": {},
   "outputs": [
    {
     "data": {
      "text/plain": [
       "array([[DataSubjectArray: {0}],\n",
       "       [DataSubjectArray: {0}],\n",
       "       [DataSubjectArray: {3}],\n",
       "       [DataSubjectArray: {4}],\n",
       "       [DataSubjectArray: {3}],\n",
       "       [DataSubjectArray: {3}],\n",
       "       [DataSubjectArray: {2}],\n",
       "       [DataSubjectArray: {4}],\n",
       "       [DataSubjectArray: {2}],\n",
       "       [DataSubjectArray: {4}],\n",
       "       [DataSubjectArray: {3}],\n",
       "       [DataSubjectArray: {2}],\n",
       "       [DataSubjectArray: {1}],\n",
       "       [DataSubjectArray: {2}],\n",
       "       [DataSubjectArray: {2}],\n",
       "       [DataSubjectArray: {1}],\n",
       "       [DataSubjectArray: {4}],\n",
       "       [DataSubjectArray: {1}],\n",
       "       [DataSubjectArray: {0}],\n",
       "       [DataSubjectArray: {4}],\n",
       "       [DataSubjectArray: {3}],\n",
       "       [DataSubjectArray: {0}],\n",
       "       [DataSubjectArray: {2}],\n",
       "       [DataSubjectArray: {2}],\n",
       "       [DataSubjectArray: {3}]], dtype=object)"
      ]
     },
     "execution_count": 8,
     "metadata": {},
     "output_type": "execute_result"
    }
   ],
   "source": [
    "ds"
   ]
  },
  {
   "cell_type": "code",
   "execution_count": 23,
   "id": "82bdc462-58e1-4c2e-8fe5-b20fac3d7f36",
   "metadata": {},
   "outputs": [
    {
     "name": "stdout",
     "output_type": "stream",
     "text": [
      "(25, 1)\n"
     ]
    },
    {
     "data": {
      "text/plain": [
       "(31, 7)"
      ]
     },
     "execution_count": 23,
     "metadata": {},
     "output_type": "execute_result"
    }
   ],
   "source": [
    "print(ds.shape)\n",
    "np.pad(ds, 3, mode='reflect').shape"
   ]
  },
  {
   "cell_type": "code",
   "execution_count": 9,
   "id": "f99cfc4f-9bed-44bc-a1d2-bb609af3290a",
   "metadata": {},
   "outputs": [
    {
     "data": {
      "text/plain": [
       "GammaTensor(child=array([[0., 0., 0., 0., 0.],\n",
       "       [0., 0., 0., 0., 0.],\n",
       "       [0., 0., 0., 0., 0.],\n",
       "       [0., 0., 0., 0., 0.],\n",
       "       [0., 0., 0., 0., 0.]]), data_subjects=array([[DataSubjectArray: {0}, DataSubjectArray: {0}, DataSubjectArray: {3},\n",
       "        DataSubjectArray: {4}, DataSubjectArray: {3}],\n",
       "       [DataSubjectArray: {3}, DataSubjectArray: {2}, DataSubjectArray: {4},\n",
       "        DataSubjectArray: {2}, DataSubjectArray: {4}],\n",
       "       [DataSubjectArray: {3}, DataSubjectArray: {2}, DataSubjectArray: {1},\n",
       "        DataSubjectArray: {2}, DataSubjectArray: {2}],\n",
       "       [DataSubjectArray: {1}, DataSubjectArray: {4}, DataSubjectArray: {1},\n",
       "        DataSubjectArray: {0}, DataSubjectArray: {4}],\n",
       "       [DataSubjectArray: {3}, DataSubjectArray: {0}, DataSubjectArray: {2},\n",
       "        DataSubjectArray: {2}, DataSubjectArray: {3}]], dtype=object), min_vals=<lazyrepeatarray data: 0 -> shape: (5, 5)>, max_vals=<lazyrepeatarray data: 1 -> shape: (5, 5)>, is_linear=True, func=<function no_op at 0x7fd73c241f70>, id='823209096', state={})"
      ]
     },
     "execution_count": 9,
     "metadata": {},
     "output_type": "execute_result"
    }
   ],
   "source": [
    "dp_zeros(tensor.shape, tensor.data_subjects)"
   ]
  },
  {
   "cell_type": "code",
   "execution_count": 10,
   "id": "37d66d0e-45d4-4f18-9ffa-095720784de9",
   "metadata": {},
   "outputs": [
    {
     "data": {
      "text/plain": [
       "GammaTensor(child=array([[1., 1., 1., 1., 1.],\n",
       "       [1., 1., 1., 1., 1.],\n",
       "       [1., 1., 1., 1., 1.],\n",
       "       [1., 1., 1., 1., 1.],\n",
       "       [1., 1., 1., 1., 1.]]), data_subjects=array([[DataSubjectArray: {0}, DataSubjectArray: {0}, DataSubjectArray: {3},\n",
       "        DataSubjectArray: {4}, DataSubjectArray: {3}],\n",
       "       [DataSubjectArray: {3}, DataSubjectArray: {2}, DataSubjectArray: {4},\n",
       "        DataSubjectArray: {2}, DataSubjectArray: {4}],\n",
       "       [DataSubjectArray: {3}, DataSubjectArray: {2}, DataSubjectArray: {1},\n",
       "        DataSubjectArray: {2}, DataSubjectArray: {2}],\n",
       "       [DataSubjectArray: {1}, DataSubjectArray: {4}, DataSubjectArray: {1},\n",
       "        DataSubjectArray: {0}, DataSubjectArray: {4}],\n",
       "       [DataSubjectArray: {3}, DataSubjectArray: {0}, DataSubjectArray: {2},\n",
       "        DataSubjectArray: {2}, DataSubjectArray: {3}]], dtype=object), min_vals=<lazyrepeatarray data: 1 -> shape: (5, 5)>, max_vals=<lazyrepeatarray data: 1 -> shape: (5, 5)>, is_linear=True, func=<function GammaTensor.ones_like.<locals>._ones_like at 0x7fd7361e6160>, id='153278403', state={'1411262251': GammaTensor(child=array([[0.88107866, 0.97475938, 0.25313788, 0.60090919, 0.42342416],\n",
       "       [0.1822769 , 0.9369872 , 0.70152014, 0.78709266, 0.06869899],\n",
       "       [0.03644739, 0.40215245, 0.0158578 , 0.46495247, 0.45920934],\n",
       "       [0.48685067, 0.32809201, 0.83378453, 0.36378485, 0.81419379],\n",
       "       [0.89604119, 0.66483402, 0.49834954, 0.13665501, 0.37089394]]), data_subjects=array([[DataSubjectArray: {0}, DataSubjectArray: {0}, DataSubjectArray: {3},\n",
       "        DataSubjectArray: {4}, DataSubjectArray: {3}],\n",
       "       [DataSubjectArray: {3}, DataSubjectArray: {2}, DataSubjectArray: {4},\n",
       "        DataSubjectArray: {2}, DataSubjectArray: {4}],\n",
       "       [DataSubjectArray: {3}, DataSubjectArray: {2}, DataSubjectArray: {1},\n",
       "        DataSubjectArray: {2}, DataSubjectArray: {2}],\n",
       "       [DataSubjectArray: {1}, DataSubjectArray: {4}, DataSubjectArray: {1},\n",
       "        DataSubjectArray: {0}, DataSubjectArray: {4}],\n",
       "       [DataSubjectArray: {3}, DataSubjectArray: {0}, DataSubjectArray: {2},\n",
       "        DataSubjectArray: {2}, DataSubjectArray: {3}]], dtype=object), min_vals=<lazyrepeatarray data: 0 -> shape: (5, 5)>, max_vals=<lazyrepeatarray data: 1 -> shape: (5, 5)>, is_linear=True, func=<function no_op at 0x7fd73c241f70>, id='1411262251', state={})})"
      ]
     },
     "execution_count": 10,
     "metadata": {},
     "output_type": "execute_result"
    }
   ],
   "source": [
    "tensor.ones_like()"
   ]
  },
  {
   "cell_type": "code",
   "execution_count": 11,
   "id": "505eef63-2e5b-4adf-bca1-d22ff7e03741",
   "metadata": {},
   "outputs": [
    {
     "data": {
      "text/plain": [
       "GammaTensor(child=array([[0., 0., 0., 0., 0.],\n",
       "       [0., 0., 0., 0., 0.],\n",
       "       [0., 0., 0., 0., 0.],\n",
       "       [0., 0., 0., 0., 0.],\n",
       "       [0., 0., 0., 0., 0.]]), data_subjects=array([[DataSubjectArray: {0}, DataSubjectArray: {0}, DataSubjectArray: {3},\n",
       "        DataSubjectArray: {4}, DataSubjectArray: {3}],\n",
       "       [DataSubjectArray: {3}, DataSubjectArray: {2}, DataSubjectArray: {4},\n",
       "        DataSubjectArray: {2}, DataSubjectArray: {4}],\n",
       "       [DataSubjectArray: {3}, DataSubjectArray: {2}, DataSubjectArray: {1},\n",
       "        DataSubjectArray: {2}, DataSubjectArray: {2}],\n",
       "       [DataSubjectArray: {1}, DataSubjectArray: {4}, DataSubjectArray: {1},\n",
       "        DataSubjectArray: {0}, DataSubjectArray: {4}],\n",
       "       [DataSubjectArray: {3}, DataSubjectArray: {0}, DataSubjectArray: {2},\n",
       "        DataSubjectArray: {2}, DataSubjectArray: {3}]], dtype=object), min_vals=<lazyrepeatarray data: 0 -> shape: (5, 5)>, max_vals=<lazyrepeatarray data: 0 -> shape: (5, 5)>, is_linear=True, func=<function GammaTensor.zeros_like.<locals>._zeros_like at 0x7fd7361e63a0>, id='1359433554', state={'1411262251': GammaTensor(child=array([[0.88107866, 0.97475938, 0.25313788, 0.60090919, 0.42342416],\n",
       "       [0.1822769 , 0.9369872 , 0.70152014, 0.78709266, 0.06869899],\n",
       "       [0.03644739, 0.40215245, 0.0158578 , 0.46495247, 0.45920934],\n",
       "       [0.48685067, 0.32809201, 0.83378453, 0.36378485, 0.81419379],\n",
       "       [0.89604119, 0.66483402, 0.49834954, 0.13665501, 0.37089394]]), data_subjects=array([[DataSubjectArray: {0}, DataSubjectArray: {0}, DataSubjectArray: {3},\n",
       "        DataSubjectArray: {4}, DataSubjectArray: {3}],\n",
       "       [DataSubjectArray: {3}, DataSubjectArray: {2}, DataSubjectArray: {4},\n",
       "        DataSubjectArray: {2}, DataSubjectArray: {4}],\n",
       "       [DataSubjectArray: {3}, DataSubjectArray: {2}, DataSubjectArray: {1},\n",
       "        DataSubjectArray: {2}, DataSubjectArray: {2}],\n",
       "       [DataSubjectArray: {1}, DataSubjectArray: {4}, DataSubjectArray: {1},\n",
       "        DataSubjectArray: {0}, DataSubjectArray: {4}],\n",
       "       [DataSubjectArray: {3}, DataSubjectArray: {0}, DataSubjectArray: {2},\n",
       "        DataSubjectArray: {2}, DataSubjectArray: {3}]], dtype=object), min_vals=<lazyrepeatarray data: 0 -> shape: (5, 5)>, max_vals=<lazyrepeatarray data: 1 -> shape: (5, 5)>, is_linear=True, func=<function no_op at 0x7fd73c241f70>, id='1411262251', state={})})"
      ]
     },
     "execution_count": 11,
     "metadata": {},
     "output_type": "execute_result"
    }
   ],
   "source": [
    "tensor.zeros_like()"
   ]
  },
  {
   "cell_type": "markdown",
   "id": "da68c3e9-27ca-4cb5-9233-9197629734df",
   "metadata": {},
   "source": [
    "\n",
    "img0, img1, img2 .... img_n\n",
    "ds0, ds1, ds2, ..... ds_n\n",
    "\n",
    "for img in list_of_images:\n",
    "    ds = img.data_subjects[0, 0, 0]\n",
    "    14x14 DS -> \n",
    "\n",
    "img_n = 2\n",
    "\n",
    "(2, 64, 14, 14)\n",
    "\n"
   ]
  },
  {
   "cell_type": "code",
   "execution_count": 12,
   "id": "6867e034-57e3-4aeb-a9fe-d827acd61b0a",
   "metadata": {},
   "outputs": [],
   "source": [
    "def col2im_indices(cols, x_shape, field_height=3, field_width=3, padding=1,\n",
    "                   stride=1):\n",
    "    \"\"\" An implementation of col2im based on fancy indexing and np.add.at \"\"\"\n",
    "    N, C, H, W = x_shape\n",
    "    H_padded, W_padded = H + 2 * padding, W + 2 * padding\n",
    "    x_padded = np.zeros((N, C, H_padded, W_padded), dtype=cols.dtype)\n",
    "    k, i, j = get_im2col_indices(x_shape, field_height, field_width, padding, stride)\n",
    "    cols_reshaped = cols.reshape(C * field_height * field_width, -1, N)\n",
    "    cols_reshaped = cols_reshaped.transpose(2, 0, 1)\n",
    "    print(x_padded.shape, cols_reshaped.shape)\n",
    "    np.add.at(x_padded, (slice(None), k, i, j), cols_reshaped)\n",
    "    if padding == 0:\n",
    "        return x_padded\n",
    "    return x_padded[:, :, padding:-padding, padding:-padding]"
   ]
  },
  {
   "cell_type": "code",
   "execution_count": 13,
   "id": "f7795902-7cdf-4588-a889-7dd0ad656107",
   "metadata": {},
   "outputs": [
    {
     "name": "stdout",
     "output_type": "stream",
     "text": [
      "(128, 1, 14, 14) (128, 25, 100)\n"
     ]
    }
   ],
   "source": [
    "dX_col = np.ones((25, 12800))\n",
    "\n",
    "v = col2im_indices(dX_col, (128, 1, 14, 14), 5, 5, padding=0, stride=1)"
   ]
  },
  {
   "cell_type": "code",
   "execution_count": 14,
   "id": "a1c96656-f815-4ac4-9445-f1ddd6634cd4",
   "metadata": {},
   "outputs": [
    {
     "data": {
      "text/plain": [
       "(128, 1, 14, 14)"
      ]
     },
     "execution_count": 14,
     "metadata": {},
     "output_type": "execute_result"
    }
   ],
   "source": [
    "v.shape"
   ]
  },
  {
   "cell_type": "code",
   "execution_count": 15,
   "id": "ec12bfc4-30f3-405b-b687-8218750c8d1a",
   "metadata": {},
   "outputs": [],
   "source": [
    "a = b = 66*6"
   ]
  },
  {
   "cell_type": "code",
   "execution_count": 16,
   "id": "1883d720-c7e1-4dfe-acb6-ba99f74f8bfd",
   "metadata": {},
   "outputs": [
    {
     "data": {
      "text/plain": [
       "396"
      ]
     },
     "execution_count": 16,
     "metadata": {},
     "output_type": "execute_result"
    }
   ],
   "source": [
    "a"
   ]
  },
  {
   "cell_type": "code",
   "execution_count": 17,
   "id": "13d79e2b-f6c0-42e1-b490-90930e1154fd",
   "metadata": {},
   "outputs": [
    {
     "data": {
      "text/plain": [
       "396"
      ]
     },
     "execution_count": 17,
     "metadata": {},
     "output_type": "execute_result"
    }
   ],
   "source": [
    "b"
   ]
  },
  {
   "cell_type": "code",
   "execution_count": 28,
   "id": "c1a6ab39-e55b-40d9-af25-9895392ee979",
   "metadata": {},
   "outputs": [
    {
     "data": {
      "text/plain": [
       "array([[[2., 2., 2., ..., 2., 2., 2.],\n",
       "        [2., 2., 2., ..., 2., 2., 2.],\n",
       "        [2., 2., 2., ..., 2., 2., 2.],\n",
       "        ...,\n",
       "        [2., 2., 2., ..., 2., 2., 2.],\n",
       "        [2., 2., 2., ..., 2., 2., 2.],\n",
       "        [2., 2., 2., ..., 2., 2., 2.]],\n",
       "\n",
       "       [[2., 2., 2., ..., 2., 2., 2.],\n",
       "        [2., 2., 2., ..., 2., 2., 2.],\n",
       "        [2., 2., 2., ..., 2., 2., 2.],\n",
       "        ...,\n",
       "        [2., 2., 2., ..., 2., 2., 2.],\n",
       "        [2., 2., 2., ..., 2., 2., 2.],\n",
       "        [2., 2., 2., ..., 2., 2., 2.]],\n",
       "\n",
       "       [[2., 2., 2., ..., 2., 2., 2.],\n",
       "        [2., 2., 2., ..., 2., 2., 2.],\n",
       "        [2., 2., 2., ..., 2., 2., 2.],\n",
       "        ...,\n",
       "        [2., 2., 2., ..., 2., 2., 2.],\n",
       "        [2., 2., 2., ..., 2., 2., 2.],\n",
       "        [2., 2., 2., ..., 2., 2., 2.]],\n",
       "\n",
       "       [[2., 2., 2., ..., 2., 2., 2.],\n",
       "        [2., 2., 2., ..., 2., 2., 2.],\n",
       "        [2., 2., 2., ..., 2., 2., 2.],\n",
       "        ...,\n",
       "        [2., 2., 2., ..., 2., 2., 2.],\n",
       "        [2., 2., 2., ..., 2., 2., 2.],\n",
       "        [2., 2., 2., ..., 2., 2., 2.]],\n",
       "\n",
       "       [[2., 2., 2., ..., 2., 2., 2.],\n",
       "        [2., 2., 2., ..., 2., 2., 2.],\n",
       "        [2., 2., 2., ..., 2., 2., 2.],\n",
       "        ...,\n",
       "        [2., 2., 2., ..., 2., 2., 2.],\n",
       "        [2., 2., 2., ..., 2., 2., 2.],\n",
       "        [2., 2., 2., ..., 2., 2., 2.]],\n",
       "\n",
       "       [[2., 2., 2., ..., 2., 2., 2.],\n",
       "        [2., 2., 2., ..., 2., 2., 2.],\n",
       "        [2., 2., 2., ..., 2., 2., 2.],\n",
       "        ...,\n",
       "        [2., 2., 2., ..., 2., 2., 2.],\n",
       "        [2., 2., 2., ..., 2., 2., 2.],\n",
       "        [2., 2., 2., ..., 2., 2., 2.]]])"
      ]
     },
     "execution_count": 28,
     "metadata": {},
     "output_type": "execute_result"
    }
   ],
   "source": [
    "a = np.ones((6, 77, 10))\n",
    "b = np.ones((6, 77, 1))\n",
    "\n",
    "a + b"
   ]
  },
  {
   "cell_type": "code",
   "execution_count": null,
   "id": "a51b0d61-84a1-49cd-901c-7af898f4f8f9",
   "metadata": {},
   "outputs": [],
   "source": []
  }
 ],
 "metadata": {
  "kernelspec": {
   "display_name": "Python 3 (ipykernel)",
   "language": "python",
   "name": "python3"
  },
  "language_info": {
   "codemirror_mode": {
    "name": "ipython",
    "version": 3
   },
   "file_extension": ".py",
   "mimetype": "text/x-python",
   "name": "python",
   "nbconvert_exporter": "python",
   "pygments_lexer": "ipython3",
   "version": "3.9.7"
  }
 },
 "nbformat": 4,
 "nbformat_minor": 5
}

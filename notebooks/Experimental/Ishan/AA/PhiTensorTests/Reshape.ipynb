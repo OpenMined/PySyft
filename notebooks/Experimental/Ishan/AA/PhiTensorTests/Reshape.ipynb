{
 "cells": [
  {
   "cell_type": "code",
   "execution_count": 1,
   "id": "7d35e4ec-fc16-496a-8219-3b549c4bc06b",
   "metadata": {},
   "outputs": [
    {
     "name": "stderr",
     "output_type": "stream",
     "text": [
      "/home/e/anaconda3/envs/Hagrid/lib/python3.9/site-packages/tqdm/auto.py:22: TqdmWarning: IProgress not found. Please update jupyter and ipywidgets. See https://ipywidgets.readthedocs.io/en/stable/user_install.html\n",
      "  from .autonotebook import tqdm as notebook_tqdm\n"
     ]
    }
   ],
   "source": [
    "import numpy as np\n",
    "from syft import PhiTensor, DataSubjectList"
   ]
  },
  {
   "cell_type": "code",
   "execution_count": 2,
   "id": "296bfc67-918c-4a94-9a9c-db08a6e1dcc9",
   "metadata": {},
   "outputs": [],
   "source": [
    "pt = PhiTensor(child=np.random.random((4,6)), data_subjects=DataSubjectList.from_objs(np.ones((4,6))*77), min_vals=0, max_vals=1)"
   ]
  },
  {
   "cell_type": "code",
   "execution_count": 3,
   "id": "3272a2f8-966e-4159-acbc-c27bc603e5ab",
   "metadata": {},
   "outputs": [
    {
     "data": {
      "text/plain": [
       "PhiTensor(child=[[0.11177644 0.89982572 0.8832394  0.7473346  0.80237381 0.30878516]\n",
       " [0.08709841 0.12796678 0.00555111 0.44322752 0.4763147  0.57068227]\n",
       " [0.34471564 0.67550589 0.00499889 0.27676457 0.68715445 0.9180109 ]\n",
       " [0.23328746 0.52897259 0.64095811 0.34914074 0.79790314 0.5061646 ]], min_vals=<lazyrepeatarray data: 0 -> shape: (4, 6)>, max_vals=<lazyrepeatarray data: 1 -> shape: (4, 6)>)"
      ]
     },
     "execution_count": 3,
     "metadata": {},
     "output_type": "execute_result"
    }
   ],
   "source": [
    "pt"
   ]
  },
  {
   "cell_type": "code",
   "execution_count": 4,
   "id": "3e582c7a-dce8-412a-b0ed-6fdb464088b0",
   "metadata": {},
   "outputs": [],
   "source": [
    "res = pt.reshape((2, 12))"
   ]
  },
  {
   "cell_type": "code",
   "execution_count": 5,
   "id": "eb8cadce-b9b4-418e-b0df-06fa066b8f44",
   "metadata": {},
   "outputs": [
    {
     "data": {
      "text/plain": [
       "(2, 12)"
      ]
     },
     "execution_count": 5,
     "metadata": {},
     "output_type": "execute_result"
    }
   ],
   "source": [
    "res.data_subjects.shape"
   ]
  },
  {
   "cell_type": "code",
   "execution_count": 6,
   "id": "fb2045cf-a5c9-4bf0-873b-7575d8b03dcd",
   "metadata": {},
   "outputs": [
    {
     "name": "stdout",
     "output_type": "stream",
     "text": [
      "[2 1]\n"
     ]
    },
    {
     "data": {
      "text/plain": [
       "(3, 6, 4)"
      ]
     },
     "execution_count": 6,
     "metadata": {},
     "output_type": "execute_result"
    }
   ],
   "source": [
    "data = np.ones((3,4,6))\n",
    "\n",
    "def get_output_shape(shape):\n",
    "    return \n",
    "\n",
    "print(np.arange(len(data.shape)-1, 0, -1))\n",
    "data.transpose(0, *np.arange(len(data.shape)-1, 0, -1)).shape"
   ]
  },
  {
   "cell_type": "code",
   "execution_count": 7,
   "id": "943c8e3c-1dd7-4213-a22f-ec46d2d0d020",
   "metadata": {},
   "outputs": [
    {
     "data": {
      "text/plain": [
       "(4, 6)"
      ]
     },
     "execution_count": 7,
     "metadata": {},
     "output_type": "execute_result"
    }
   ],
   "source": [
    "gt = pt.gamma\n",
    "gt.data_subjects.shape"
   ]
  },
  {
   "cell_type": "code",
   "execution_count": 8,
   "id": "fd08287f-2067-4554-a6db-50f3be3ff654",
   "metadata": {},
   "outputs": [],
   "source": [
    "res2 = gt.reshape((2, 12))"
   ]
  },
  {
   "cell_type": "code",
   "execution_count": 9,
   "id": "ceb0c14f-ae0c-42a0-9009-f676627dee46",
   "metadata": {},
   "outputs": [
    {
     "data": {
      "text/plain": [
       "(2, 12)"
      ]
     },
     "execution_count": 9,
     "metadata": {},
     "output_type": "execute_result"
    }
   ],
   "source": [
    "res2.data_subjects.shape"
   ]
  },
  {
   "cell_type": "code",
   "execution_count": 10,
   "id": "77aae5eb-98b1-4546-89bb-c6ca73682603",
   "metadata": {},
   "outputs": [
    {
     "name": "stdout",
     "output_type": "stream",
     "text": [
      "(7, 6, 5, 4, 3)\n"
     ]
    }
   ],
   "source": [
    "d2 = np.ones((3,4,5,6,7))\n",
    "print(d2.transpose().shape)"
   ]
  },
  {
   "cell_type": "code",
   "execution_count": 11,
   "id": "0382f2eb-8d3f-4915-8edb-75e345907c0d",
   "metadata": {},
   "outputs": [
    {
     "data": {
      "text/plain": [
       "(3, 7, 6, 5, 4)"
      ]
     },
     "execution_count": 11,
     "metadata": {},
     "output_type": "execute_result"
    }
   ],
   "source": [
    "d2.reshape(d2.shape[0], *d2.shape[1:][::-1]).shape"
   ]
  },
  {
   "cell_type": "code",
   "execution_count": 12,
   "id": "8e724f7b-10d3-4b60-a50c-17a825ae2270",
   "metadata": {},
   "outputs": [],
   "source": [
    "dsl = np.concatenate((np.ones((1, 4,6))*77, np.ones((1, 4,6))*83, np.ones((1, 4,6))*85))\n",
    "\n",
    "gt2 = PhiTensor(child=np.random.random((4,6)), data_subjects=DataSubjectList.from_objs(dsl), min_vals=0, max_vals=1)"
   ]
  },
  {
   "cell_type": "code",
   "execution_count": 13,
   "id": "c9f5f20b-22fc-4cac-96ed-7543c744b6c1",
   "metadata": {},
   "outputs": [
    {
     "data": {
      "text/plain": [
       "(4, 6)"
      ]
     },
     "execution_count": 13,
     "metadata": {},
     "output_type": "execute_result"
    }
   ],
   "source": [
    "gt2.shape"
   ]
  },
  {
   "cell_type": "code",
   "execution_count": 14,
   "id": "c56ae459-e7a5-4e74-b777-26820fe16f22",
   "metadata": {},
   "outputs": [
    {
     "data": {
      "text/plain": [
       "(3, 4, 6)"
      ]
     },
     "execution_count": 14,
     "metadata": {},
     "output_type": "execute_result"
    }
   ],
   "source": [
    "gt2.data_subjects.shape"
   ]
  },
  {
   "cell_type": "code",
   "execution_count": 15,
   "id": "8e3ae37a-7c35-48fd-9675-4bff9ada965c",
   "metadata": {},
   "outputs": [
    {
     "data": {
      "text/plain": [
       "array([[[0, 0, 0, 0, 0, 0],\n",
       "        [0, 0, 0, 0, 0, 0],\n",
       "        [0, 0, 0, 0, 0, 0],\n",
       "        [0, 0, 0, 0, 0, 0]],\n",
       "\n",
       "       [[1, 1, 1, 1, 1, 1],\n",
       "        [1, 1, 1, 1, 1, 1],\n",
       "        [1, 1, 1, 1, 1, 1],\n",
       "        [1, 1, 1, 1, 1, 1]],\n",
       "\n",
       "       [[2, 2, 2, 2, 2, 2],\n",
       "        [2, 2, 2, 2, 2, 2],\n",
       "        [2, 2, 2, 2, 2, 2],\n",
       "        [2, 2, 2, 2, 2, 2]]])"
      ]
     },
     "execution_count": 15,
     "metadata": {},
     "output_type": "execute_result"
    }
   ],
   "source": [
    "gt2.data_subjects.data_subjects_indexed"
   ]
  },
  {
   "cell_type": "code",
   "execution_count": 16,
   "id": "805cf351-7fdc-4b4e-8dad-2a73031fd46d",
   "metadata": {},
   "outputs": [
    {
     "name": "stdout",
     "output_type": "stream",
     "text": [
      "3 2 12\n"
     ]
    }
   ],
   "source": [
    "res2 = gt2.reshape((2, 12))"
   ]
  },
  {
   "cell_type": "code",
   "execution_count": 18,
   "id": "11bb1778-0c74-41f3-a219-144d3860952f",
   "metadata": {},
   "outputs": [
    {
     "data": {
      "text/plain": [
       "((3, 4, 6), (4, 6))"
      ]
     },
     "execution_count": 18,
     "metadata": {},
     "output_type": "execute_result"
    }
   ],
   "source": [
    "gt2.data_subjects.shape, gt2.shape"
   ]
  },
  {
   "cell_type": "code",
   "execution_count": 20,
   "id": "04a59831-5506-49d1-ab82-9cd15d73891e",
   "metadata": {},
   "outputs": [],
   "source": [
    "from syft import GammaTensor\n",
    "gt2 = GammaTensor(child=np.random.random((4,6)), data_subjects=DataSubjectList.from_objs(dsl), min_vals=0, max_vals=1)"
   ]
  },
  {
   "cell_type": "code",
   "execution_count": 21,
   "id": "59352ba7-7637-4890-9858-f93b53009d5d",
   "metadata": {},
   "outputs": [
    {
     "data": {
      "text/plain": [
       "((3, 4, 6), (4, 6))"
      ]
     },
     "execution_count": 21,
     "metadata": {},
     "output_type": "execute_result"
    }
   ],
   "source": [
    "gt2.data_subjects.shape, gt2.shape"
   ]
  },
  {
   "cell_type": "code",
   "execution_count": 22,
   "id": "0dcaafbc-9716-446e-9f2b-5a3595f802f4",
   "metadata": {},
   "outputs": [
    {
     "name": "stdout",
     "output_type": "stream",
     "text": [
      "3 2 12\n"
     ]
    }
   ],
   "source": [
    "res2 = gt2.reshape((2, 12))"
   ]
  },
  {
   "cell_type": "code",
   "execution_count": 23,
   "id": "8c1a74e7-6954-4dd0-ad2e-976621193e54",
   "metadata": {},
   "outputs": [
    {
     "data": {
      "text/plain": [
       "((3, 2, 12), (2, 12))"
      ]
     },
     "execution_count": 23,
     "metadata": {},
     "output_type": "execute_result"
    }
   ],
   "source": [
    "res2.data_subjects.shape, res2.shape"
   ]
  },
  {
   "cell_type": "code",
   "execution_count": null,
   "id": "113f6e7c-3fec-414e-86d5-b78eda7315f0",
   "metadata": {},
   "outputs": [],
   "source": []
  }
 ],
 "metadata": {
  "kernelspec": {
   "display_name": "Python 3 (ipykernel)",
   "language": "python",
   "name": "python3"
  },
  "language_info": {
   "codemirror_mode": {
    "name": "ipython",
    "version": 3
   },
   "file_extension": ".py",
   "mimetype": "text/x-python",
   "name": "python",
   "nbconvert_exporter": "python",
   "pygments_lexer": "ipython3",
   "version": "3.9.7"
  }
 },
 "nbformat": 4,
 "nbformat_minor": 5
}

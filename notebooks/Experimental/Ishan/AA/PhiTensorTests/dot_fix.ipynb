{
 "cells": [
  {
   "cell_type": "code",
   "execution_count": 1,
   "id": "43250c8e-b49a-44a3-be89-1acff8913504",
   "metadata": {},
   "outputs": [
    {
     "name": "stderr",
     "output_type": "stream",
     "text": [
      "/home/e/anaconda3/envs/Hagrid/lib/python3.9/site-packages/tqdm/auto.py:22: TqdmWarning: IProgress not found. Please update jupyter and ipywidgets. See https://ipywidgets.readthedocs.io/en/stable/user_install.html\n",
      "  from .autonotebook import tqdm as notebook_tqdm\n"
     ]
    }
   ],
   "source": [
    "from syft import PhiTensor, GammaTensor, DataSubjectList, lazyrepeatarray"
   ]
  },
  {
   "cell_type": "code",
   "execution_count": 2,
   "id": "608ee42d-c7ed-475a-a41a-a103a47b7184",
   "metadata": {},
   "outputs": [],
   "source": [
    "import numpy as np"
   ]
  },
  {
   "cell_type": "markdown",
   "id": "4801249b-92d6-42a7-bedc-476c8d01079f",
   "metadata": {},
   "source": [
    "child = (50, 50)\n",
    "DSL = ((50, 50))\n",
    "GT DSL = ((3, 50, 50)) -> (100, 50, 50)\n",
    "\n",
    "\n",
    "sum()\n",
    "child.sum()=1\n",
    "dsl.sum()= 7500,1 -> .unique() 3, 1\n",
    "\n",
    "mul()\n",
    "(n, 50, 50) \n",
    "(m, 50, 50) \n",
    "-> DSL.combine_dsl(): (n+m - overlap(n,m), 50, 50)\n",
    "\n",
    "\n",
    "[50 x 50]\n",
    "[50 x 50] 1-> integer, 2499-> Nans\n",
    "..\n",
    "..\n",
    "..\n",
    "\n",
    "gt2 = gamma_tensor().sum()\n",
    "pt[0,0] = gt2\n",
    "\n",
    "n = max(unique_ds for any 1 data point)\n",
    "\n",
    "\n",
    "data subjects of (0, 0) in result =  (data subjects of row 0 in A ) + (data subjects of column 0 in B)\n",
    "data subjects of (0, 1) in result =  (data subjects of row 0 in A ) + (data subjects of column 1 in B)\n",
    "data subjects of (0, 2) in result =  (data subjects of row 0 in A ) + (data subjects of column 2 in B)\n",
    "\n",
    "sum(target_shape) -> reshape\n",
    "\n",
    "\n",
    "\n",
    "\n",
    "\n",
    "\n",
    "dsl[:, 0] -> (3, 50)"
   ]
  },
  {
   "cell_type": "code",
   "execution_count": 3,
   "id": "6e281a0d-1150-44ff-97b5-ed3ae99fb71b",
   "metadata": {},
   "outputs": [],
   "source": [
    "def dot(dsl1: DataSubjectList, dsl2: DataSubjectList):\n",
    "    \"\"\"\n",
    "    a/b: \n",
    "    0D/0D -> multiplication\n",
    "    1D/1D -> multiplication\n",
    "    1D/other -> sum product over last axis \n",
    "    2D/2D -> matmul\n",
    "    higher -> sum product over axis=-1 of a, axis=-2 of b\n",
    "    \n",
    "    dot(a, b)[i,j,k,m] = sum(a[i,j,:] * b[k,:,m])\n",
    "    \"\"\"\n",
    "    \n",
    "    dsl1_target_shape = (*dsl1.shape[1:-1], 1, 1)\n",
    "    dsl2_target_shape = (1, 1, *dsl2.shape[1:-2], dsl2.shape[-1])\n",
    "    \n",
    "    print(\"Target shapes: \", dsl1_target_shape, dsl2_target_shape)\n",
    "\n",
    "    summed_dsl1 = dsl1.sum(target_shape=dsl1_target_shape)\n",
    "    summed_dsl2 = dsl2.sum(target_shape=dsl2_target_shape)\n",
    "    print(\"summed shapes: \", summed_dsl1.shape, summed_dsl2.shape)\n",
    "\n",
    "    # We need to project these data subject arrays to their entire row/column respectively\n",
    "    \n",
    "    dsl1_projection = np.ones((*summed_dsl1.shape[:-2], *summed_dsl2.shape[-2:])) \n",
    "    dsl2_projection = np.ones((summed_dsl2.shape[0], *summed_dsl1.shape[1:-2], *summed_dsl2.shape[-2:]))  #*summed_dsl2.shape[1:-2],\n",
    "    projection = np.ones((*summed_dsl1.shape[:-2], *summed_dsl2.shape[-2:]))\n",
    "    print(projection.shape)\n",
    "    print(\"Projection shape: \", dsl1_projection.shape, dsl2_projection.shape)\n",
    "    \n",
    "    summed_dsl1.data_subjects_indexed = dsl1_projection * summed_dsl1.data_subjects_indexed\n",
    "    summed_dsl2.data_subjects_indexed = dsl2_projection * summed_dsl2.data_subjects_indexed\n",
    "    \n",
    "    print(\"summed shapes after projection: \", summed_dsl1.shape, summed_dsl2.shape)\n",
    "    \n",
    "    output_ds = DataSubjectList.combine_dsi(summed_dsl1, summed_dsl2)\n",
    "    print(\"output shape: \", output_ds.shape)\n",
    "    \n",
    "    # This gets rid of redundant (repeating) DSL slices.\n",
    "    output_ds.data_subjects_indexed = np.unique(output_ds.data_subjects_indexed, axis=0)\n",
    "    print(\"output shape after np.unique: \", output_ds.shape)\n",
    "    return output_ds"
   ]
  },
  {
   "cell_type": "code",
   "execution_count": 4,
   "id": "b7f97b5c-ce89-4365-9aef-4b4ec43c03f1",
   "metadata": {},
   "outputs": [
    {
     "data": {
      "text/plain": [
       "(54,)"
      ]
     },
     "execution_count": 4,
     "metadata": {},
     "output_type": "execute_result"
    }
   ],
   "source": [
    "np.ones((46, 54)).sum(axis=0).shape"
   ]
  },
  {
   "cell_type": "code",
   "execution_count": 5,
   "id": "8515836b-6d2a-452c-ba5b-047d74a411f0",
   "metadata": {},
   "outputs": [
    {
     "data": {
      "text/plain": [
       "(3, 4, 6, 3, 10, 7)"
      ]
     },
     "execution_count": 5,
     "metadata": {},
     "output_type": "execute_result"
    }
   ],
   "source": [
    "np.dot(np.ones((3,4,6,54)), np.ones((3,10,54,7))).shape"
   ]
  },
  {
   "cell_type": "code",
   "execution_count": 6,
   "id": "cc752c00-fc19-4198-99b0-39cd9382cd29",
   "metadata": {},
   "outputs": [
    {
     "name": "stdout",
     "output_type": "stream",
     "text": [
      "dsls starting shape:  (2, 3, 4, 54) (2, 3, 54, 7)\n",
      "Target shapes:  (3, 4, 1, 1) (1, 1, 3, 7)\n",
      "summed shapes:  (108, 3, 4, 1, 1) (108, 1, 1, 3, 7)\n",
      "(108, 3, 4, 3, 7)\n",
      "Projection shape:  (108, 3, 4, 3, 7) (108, 3, 4, 3, 7)\n",
      "summed shapes after projection:  (108, 3, 4, 3, 7) (108, 3, 4, 3, 7)\n",
      "output shape:  (216, 3, 4, 3, 7)\n",
      "output shape after np.unique:  (4, 3, 4, 3, 7)\n"
     ]
    },
    {
     "data": {
      "text/plain": [
       "(4, 3, 4, 3, 7)"
      ]
     },
     "execution_count": 6,
     "metadata": {},
     "output_type": "execute_result"
    }
   ],
   "source": [
    "from syft import GammaTensor, lazyrepeatarray\n",
    "\n",
    "def test_dot():\n",
    "    \n",
    "    # (2, 3, 4, 54)\n",
    "    gt1 = GammaTensor(\n",
    "        child=np.random.random((3, 4, 54)), \n",
    "        data_subjects=DataSubjectList.from_objs(\n",
    "            np.concatenate((\n",
    "                np.random.choice([\"Ishan\"], (1, 3, 4, 54)),\n",
    "                np.random.choice([\"John Cena\"], (1, 3, 4, 54))\n",
    "            )),\n",
    "        ),\n",
    "        min_vals=lazyrepeatarray(0, (3, 4, 54)) , \n",
    "        max_vals=lazyrepeatarray(1, (3, 4, 54))\n",
    "    )\n",
    "    \n",
    "    # (2, 3, 54, 7)\n",
    "    gt2 = GammaTensor(\n",
    "        child=np.random.random((3, 54, 7)), \n",
    "        data_subjects=DataSubjectList.from_objs(\n",
    "            np.concatenate(( \n",
    "                np.random.choice([\"Hulk Hogan\"], (1, 3, 54, 7)),\n",
    "                np.random.choice([\"Potato\"], (1, 3, 54, 7))\n",
    "            )),\n",
    "        ),\n",
    "        min_vals=lazyrepeatarray(0, (3, 54, 7)) , \n",
    "        max_vals=lazyrepeatarray(1, (3, 54, 7))\n",
    "    )\n",
    "    print(\"dsls starting shape: \", gt1.data_subjects.shape, gt2.data_subjects.shape)\n",
    "    return dot(gt1.data_subjects, gt2.data_subjects)\n",
    "\n",
    "res3d = test_dot()\n",
    "res3d.shape  # ideally: (4, 3, 4, 3, 7)"
   ]
  },
  {
   "cell_type": "code",
   "execution_count": 7,
   "id": "c90c731b-f3cf-43ab-9d2b-3de0be46c43a",
   "metadata": {},
   "outputs": [
    {
     "name": "stdout",
     "output_type": "stream",
     "text": [
      "dsls starting shape:  (2, 4, 54) (2, 54, 7)\n",
      "Target shapes:  (4, 1, 1) (1, 1, 7)\n",
      "summed shapes:  (108, 4, 1, 1) (108, 1, 1, 7)\n",
      "(108, 4, 1, 7)\n",
      "Projection shape:  (108, 4, 1, 7) (108, 4, 1, 7)\n",
      "summed shapes after projection:  (108, 4, 1, 7) (108, 4, 1, 7)\n",
      "output shape:  (216, 4, 1, 7)\n",
      "output shape after np.unique:  (4, 4, 1, 7)\n"
     ]
    },
    {
     "data": {
      "text/plain": [
       "(4, 4, 1, 7)"
      ]
     },
     "execution_count": 7,
     "metadata": {},
     "output_type": "execute_result"
    }
   ],
   "source": [
    "from syft import GammaTensor, lazyrepeatarray\n",
    "\n",
    "def test_dot():\n",
    "    \n",
    "    # 2, 4, 54\n",
    "    gt1 = GammaTensor(\n",
    "        child=np.random.random((4, 54)), \n",
    "        data_subjects=DataSubjectList.from_objs(\n",
    "            np.concatenate((\n",
    "                np.random.choice([\"Ishan\"], (1, 4, 54)),\n",
    "                np.random.choice([\"John Cena\"], (1, 4, 54))\n",
    "            )),\n",
    "        ),\n",
    "        min_vals=lazyrepeatarray(0, (4, 54)) , \n",
    "        max_vals=lazyrepeatarray(1, (4, 54))\n",
    "    )\n",
    "    \n",
    "    # 2, 54, 7\n",
    "    gt2 = GammaTensor(\n",
    "        child=np.random.random(( 54, 7)), \n",
    "        data_subjects=DataSubjectList.from_objs(\n",
    "            np.concatenate(( \n",
    "                np.random.choice([\"Hulk Hogan\"], (1,  54, 7)),\n",
    "                np.random.choice([\"Potato\"], (1, 54, 7))\n",
    "            )),\n",
    "        ),\n",
    "        min_vals=lazyrepeatarray(0, (54, 7)) , \n",
    "        max_vals=lazyrepeatarray(1, (54, 7))\n",
    "    )\n",
    "    print(\"dsls starting shape: \", gt1.data_subjects.shape, gt2.data_subjects.shape)\n",
    "    return dot(gt1.data_subjects, gt2.data_subjects)\n",
    "\n",
    "res3d = test_dot()\n",
    "res3d.shape  # ideally: (4, 4, 7)"
   ]
  },
  {
   "cell_type": "markdown",
   "id": "7a54bcef-cfe0-4091-a8d4-95e63a1ea1fd",
   "metadata": {},
   "source": [
    "<hr>\n",
    "<hr>\n",
    "\n",
    "\n",
    "## Dot Examples"
   ]
  },
  {
   "cell_type": "code",
   "execution_count": 8,
   "id": "45700d52-30c6-428f-a6c9-00e08be667d3",
   "metadata": {},
   "outputs": [
    {
     "data": {
      "text/plain": [
       "()"
      ]
     },
     "execution_count": 8,
     "metadata": {},
     "output_type": "execute_result"
    }
   ],
   "source": [
    "# 1D\n",
    "a = np.ones(5)\n",
    "b = np.ones(5)\n",
    "\n",
    "a.dot(b).shape"
   ]
  },
  {
   "cell_type": "code",
   "execution_count": 9,
   "id": "ef390372-721d-4cd1-8db0-8c05b8f1482f",
   "metadata": {},
   "outputs": [
    {
     "data": {
      "text/plain": [
       "30.0"
      ]
     },
     "execution_count": 9,
     "metadata": {},
     "output_type": "execute_result"
    }
   ],
   "source": [
    "# 1D\n",
    "a = np.ones(5) * 2\n",
    "b = np.ones(5) * 3\n",
    "\n",
    "a.dot(b)"
   ]
  },
  {
   "cell_type": "code",
   "execution_count": 10,
   "id": "5207b03c-30d4-44c7-b8d1-634644e8679a",
   "metadata": {},
   "outputs": [
    {
     "data": {
      "text/plain": [
       "(5, 7)"
      ]
     },
     "execution_count": 10,
     "metadata": {},
     "output_type": "execute_result"
    }
   ],
   "source": [
    "# 2D\n",
    "a = np.ones((5, 6))\n",
    "b = np.ones((6, 7))\n",
    "\n",
    "a.dot(b).shape"
   ]
  },
  {
   "cell_type": "code",
   "execution_count": 11,
   "id": "d1bcd722-8aa9-46f8-a8cf-b337060bc3a3",
   "metadata": {},
   "outputs": [
    {
     "data": {
      "text/plain": [
       "(5,)"
      ]
     },
     "execution_count": 11,
     "metadata": {},
     "output_type": "execute_result"
    }
   ],
   "source": [
    "# 2D x 1D\n",
    "a = np.ones((5, 6))\n",
    "b = np.ones((6))\n",
    "\n",
    "a.dot(b).shape"
   ]
  },
  {
   "cell_type": "code",
   "execution_count": 12,
   "id": "59078b8b-cecc-40d2-ba82-e1c0b06efdd0",
   "metadata": {},
   "outputs": [
    {
     "data": {
      "text/plain": [
       "(2, 3, 5)"
      ]
     },
     "execution_count": 12,
     "metadata": {},
     "output_type": "execute_result"
    }
   ],
   "source": [
    "# 3D x 2D\n",
    "a = np.ones((2,3,4))\n",
    "b = np.ones((4, 5))\n",
    "\n",
    "a.dot(b).shape"
   ]
  },
  {
   "cell_type": "code",
   "execution_count": 13,
   "id": "32596f83-172e-4158-9627-356516c2a882",
   "metadata": {},
   "outputs": [
    {
     "data": {
      "text/plain": [
       "(2, 3, 6, 7)"
      ]
     },
     "execution_count": 13,
     "metadata": {},
     "output_type": "execute_result"
    }
   ],
   "source": [
    "# 3D\n",
    "a = np.ones((2,3,4))\n",
    "b = np.ones((6,4,7))\n",
    "\n",
    "a.dot(b).shape"
   ]
  },
  {
   "cell_type": "code",
   "execution_count": 14,
   "id": "12e7a75b-da5d-4f8f-b4ce-c16991fc4343",
   "metadata": {},
   "outputs": [
    {
     "data": {
      "text/plain": [
       "(3, 4, 3, 7)"
      ]
     },
     "execution_count": 14,
     "metadata": {},
     "output_type": "execute_result"
    }
   ],
   "source": [
    "# 3D\n",
    "a = np.ones((3, 4, 54))\n",
    "b = np.ones((3, 54, 7))\n",
    "\n",
    "a.dot(b).shape"
   ]
  },
  {
   "cell_type": "code",
   "execution_count": 15,
   "id": "481f7d82-774d-4136-a659-292a6c4dc5e6",
   "metadata": {},
   "outputs": [
    {
     "data": {
      "text/plain": [
       "(2, 3, 4, 5, 7, 8, 9, 10)"
      ]
     },
     "execution_count": 15,
     "metadata": {},
     "output_type": "execute_result"
    }
   ],
   "source": [
    "# 3D\n",
    "a = np.ones((2,3,4,5,6))\n",
    "b = np.ones((7,8,9,6,10))\n",
    "\n",
    "a.dot(b).shape"
   ]
  },
  {
   "cell_type": "code",
   "execution_count": 16,
   "id": "ec56ca49-853e-45e9-8541-aead302ae24c",
   "metadata": {},
   "outputs": [
    {
     "data": {
      "text/plain": [
       "(4, 7)"
      ]
     },
     "execution_count": 16,
     "metadata": {},
     "output_type": "execute_result"
    }
   ],
   "source": [
    "# 3D\n",
    "a = np.ones((4,54))\n",
    "b = np.ones((54,7))\n",
    "\n",
    "a.dot(b).shape"
   ]
  },
  {
   "cell_type": "code",
   "execution_count": 17,
   "id": "cb3b39fc-e269-4587-882a-8311db7792e4",
   "metadata": {},
   "outputs": [
    {
     "data": {
      "text/plain": [
       "array([[[[1., 1., 1., ..., 1., 1., 1.],\n",
       "         [1., 1., 1., ..., 1., 1., 1.],\n",
       "         [1., 1., 1., ..., 1., 1., 1.],\n",
       "         [1., 1., 1., ..., 1., 1., 1.]],\n",
       "\n",
       "        [[1., 1., 1., ..., 1., 1., 1.],\n",
       "         [1., 1., 1., ..., 1., 1., 1.],\n",
       "         [1., 1., 1., ..., 1., 1., 1.],\n",
       "         [1., 1., 1., ..., 1., 1., 1.]],\n",
       "\n",
       "        [[1., 1., 1., ..., 1., 1., 1.],\n",
       "         [1., 1., 1., ..., 1., 1., 1.],\n",
       "         [1., 1., 1., ..., 1., 1., 1.],\n",
       "         [1., 1., 1., ..., 1., 1., 1.]]],\n",
       "\n",
       "\n",
       "       [[[1., 1., 1., ..., 1., 1., 1.],\n",
       "         [1., 1., 1., ..., 1., 1., 1.],\n",
       "         [1., 1., 1., ..., 1., 1., 1.],\n",
       "         [1., 1., 1., ..., 1., 1., 1.]],\n",
       "\n",
       "        [[1., 1., 1., ..., 1., 1., 1.],\n",
       "         [1., 1., 1., ..., 1., 1., 1.],\n",
       "         [1., 1., 1., ..., 1., 1., 1.],\n",
       "         [1., 1., 1., ..., 1., 1., 1.]],\n",
       "\n",
       "        [[1., 1., 1., ..., 1., 1., 1.],\n",
       "         [1., 1., 1., ..., 1., 1., 1.],\n",
       "         [1., 1., 1., ..., 1., 1., 1.],\n",
       "         [1., 1., 1., ..., 1., 1., 1.]]],\n",
       "\n",
       "\n",
       "       [[[1., 1., 1., ..., 1., 1., 1.],\n",
       "         [1., 1., 1., ..., 1., 1., 1.],\n",
       "         [1., 1., 1., ..., 1., 1., 1.],\n",
       "         [1., 1., 1., ..., 1., 1., 1.]],\n",
       "\n",
       "        [[1., 1., 1., ..., 1., 1., 1.],\n",
       "         [1., 1., 1., ..., 1., 1., 1.],\n",
       "         [1., 1., 1., ..., 1., 1., 1.],\n",
       "         [1., 1., 1., ..., 1., 1., 1.]],\n",
       "\n",
       "        [[1., 1., 1., ..., 1., 1., 1.],\n",
       "         [1., 1., 1., ..., 1., 1., 1.],\n",
       "         [1., 1., 1., ..., 1., 1., 1.],\n",
       "         [1., 1., 1., ..., 1., 1., 1.]]],\n",
       "\n",
       "\n",
       "       ...,\n",
       "\n",
       "\n",
       "       [[[1., 1., 1., ..., 1., 1., 1.],\n",
       "         [1., 1., 1., ..., 1., 1., 1.],\n",
       "         [1., 1., 1., ..., 1., 1., 1.],\n",
       "         [1., 1., 1., ..., 1., 1., 1.]],\n",
       "\n",
       "        [[1., 1., 1., ..., 1., 1., 1.],\n",
       "         [1., 1., 1., ..., 1., 1., 1.],\n",
       "         [1., 1., 1., ..., 1., 1., 1.],\n",
       "         [1., 1., 1., ..., 1., 1., 1.]],\n",
       "\n",
       "        [[1., 1., 1., ..., 1., 1., 1.],\n",
       "         [1., 1., 1., ..., 1., 1., 1.],\n",
       "         [1., 1., 1., ..., 1., 1., 1.],\n",
       "         [1., 1., 1., ..., 1., 1., 1.]]],\n",
       "\n",
       "\n",
       "       [[[1., 1., 1., ..., 1., 1., 1.],\n",
       "         [1., 1., 1., ..., 1., 1., 1.],\n",
       "         [1., 1., 1., ..., 1., 1., 1.],\n",
       "         [1., 1., 1., ..., 1., 1., 1.]],\n",
       "\n",
       "        [[1., 1., 1., ..., 1., 1., 1.],\n",
       "         [1., 1., 1., ..., 1., 1., 1.],\n",
       "         [1., 1., 1., ..., 1., 1., 1.],\n",
       "         [1., 1., 1., ..., 1., 1., 1.]],\n",
       "\n",
       "        [[1., 1., 1., ..., 1., 1., 1.],\n",
       "         [1., 1., 1., ..., 1., 1., 1.],\n",
       "         [1., 1., 1., ..., 1., 1., 1.],\n",
       "         [1., 1., 1., ..., 1., 1., 1.]]],\n",
       "\n",
       "\n",
       "       [[[1., 1., 1., ..., 1., 1., 1.],\n",
       "         [1., 1., 1., ..., 1., 1., 1.],\n",
       "         [1., 1., 1., ..., 1., 1., 1.],\n",
       "         [1., 1., 1., ..., 1., 1., 1.]],\n",
       "\n",
       "        [[1., 1., 1., ..., 1., 1., 1.],\n",
       "         [1., 1., 1., ..., 1., 1., 1.],\n",
       "         [1., 1., 1., ..., 1., 1., 1.],\n",
       "         [1., 1., 1., ..., 1., 1., 1.]],\n",
       "\n",
       "        [[1., 1., 1., ..., 1., 1., 1.],\n",
       "         [1., 1., 1., ..., 1., 1., 1.],\n",
       "         [1., 1., 1., ..., 1., 1., 1.],\n",
       "         [1., 1., 1., ..., 1., 1., 1.]]]])"
      ]
     },
     "execution_count": 17,
     "metadata": {},
     "output_type": "execute_result"
    }
   ],
   "source": [
    "np.ones((108,3,4,7)) * np.ones((108,3,4,1))"
   ]
  },
  {
   "cell_type": "code",
   "execution_count": 18,
   "id": "2bb6d572-1107-4b66-9ce9-cfb2f3ba6e9f",
   "metadata": {},
   "outputs": [
    {
     "data": {
      "text/plain": [
       "array([[0.05653496, 0.05653496, 0.05653496, 0.05653496, 0.05653496,\n",
       "        0.05653496, 0.05653496],\n",
       "       [0.08073315, 0.08073315, 0.08073315, 0.08073315, 0.08073315,\n",
       "        0.08073315, 0.08073315],\n",
       "       [0.70423316, 0.70423316, 0.70423316, 0.70423316, 0.70423316,\n",
       "        0.70423316, 0.70423316],\n",
       "       [0.6794775 , 0.6794775 , 0.6794775 , 0.6794775 , 0.6794775 ,\n",
       "        0.6794775 , 0.6794775 ]])"
      ]
     },
     "execution_count": 18,
     "metadata": {},
     "output_type": "execute_result"
    }
   ],
   "source": [
    "np.random.random((4, 1)) * np.ones((4, 7))"
   ]
  },
  {
   "cell_type": "code",
   "execution_count": 19,
   "id": "dce2726e-1494-436a-8f11-79a60256b7f8",
   "metadata": {},
   "outputs": [
    {
     "name": "stdout",
     "output_type": "stream",
     "text": [
      "dsls starting shape:  (2, 4, 54) (2, 54, 7)\n"
     ]
    }
   ],
   "source": [
    "gt1 = GammaTensor(\n",
    "    child=np.random.random((4, 54)), \n",
    "    data_subjects=DataSubjectList.from_objs(\n",
    "        np.concatenate((\n",
    "            np.random.choice([\"Ishan\"], (1, 4, 54)),\n",
    "            np.random.choice([\"John Cena\"], (1, 4, 54))\n",
    "        )),\n",
    "    ),\n",
    "    min_vals=lazyrepeatarray(0, (4, 54)) , \n",
    "    max_vals=lazyrepeatarray(1, (4, 54))\n",
    ")\n",
    "    \n",
    "# 2, 54, 7\n",
    "gt2 = GammaTensor(\n",
    "    child=np.random.random(( 54, 7)), \n",
    "    data_subjects=DataSubjectList.from_objs(\n",
    "        np.concatenate(( \n",
    "            np.random.choice([\"Hulk Hogan\"], (1,  54, 7)),\n",
    "            np.random.choice([\"Potato\"], (1, 54, 7))\n",
    "        )),\n",
    "    ),\n",
    "    min_vals=lazyrepeatarray(0, (54, 7)) , \n",
    "    max_vals=lazyrepeatarray(1, (54, 7))\n",
    ")\n",
    "print(\"dsls starting shape: \", gt1.data_subjects.shape, gt2.data_subjects.shape)"
   ]
  },
  {
   "cell_type": "code",
   "execution_count": 20,
   "id": "c078be7e-b6df-464b-a17c-cb4f8ff8997e",
   "metadata": {},
   "outputs": [
    {
     "name": "stderr",
     "output_type": "stream",
     "text": [
      "WARNING:absl:No GPU/TPU found, falling back to CPU. (Set TF_CPP_MIN_LOG_LEVEL=0 and rerun for more info.)\n"
     ]
    },
    {
     "name": "stdout",
     "output_type": "stream",
     "text": [
      "target shapes:  (4, 1, 1) (1, 1, 7)\n",
      "summed shapes:  (108, 4, 1, 1) (108, 1, 1, 7)\n",
      "Projection shapes: (108, 4, 1, 7) (108, 4, 1, 7)\n",
      "summed shapes:  (108, 4, 1, 7) (108, 4, 1, 7)\n",
      "output shape: (216, 4, 1, 7)\n",
      "output shape after unique: (4, 4, 7)\n"
     ]
    },
    {
     "data": {
      "text/plain": [
       "((4, 7), (4, 4, 7))"
      ]
     },
     "execution_count": 20,
     "metadata": {},
     "output_type": "execute_result"
    }
   ],
   "source": [
    "res = gt1.dot(gt2)\n",
    "res.shape, res.data_subjects.shape"
   ]
  },
  {
   "cell_type": "code",
   "execution_count": 24,
   "id": "2226fde3-d0db-4eaa-96d6-121e7517f872",
   "metadata": {},
   "outputs": [],
   "source": [
    "res_matmul = gt1 @ gt2"
   ]
  },
  {
   "cell_type": "code",
   "execution_count": 25,
   "id": "bfcfa076-41b2-4600-aad3-ff918a1995c8",
   "metadata": {},
   "outputs": [
    {
     "data": {
      "text/plain": [
       "((4, 7), (4, 4, 7))"
      ]
     },
     "execution_count": 25,
     "metadata": {},
     "output_type": "execute_result"
    }
   ],
   "source": [
    "res_matmul.shape, res_matmul.data_subjects.shape"
   ]
  },
  {
   "cell_type": "code",
   "execution_count": 22,
   "id": "793414e2-b681-4bf2-817b-13e1b11f0ad7",
   "metadata": {},
   "outputs": [
    {
     "name": "stdout",
     "output_type": "stream",
     "text": [
      "target shapes:  (3, 4, 1, 1) (1, 1, 3, 7)\n",
      "summed shapes:  (108, 3, 4, 1, 1) (108, 1, 1, 3, 7)\n",
      "Projection shapes: (108, 3, 4, 3, 7) (108, 3, 4, 3, 7)\n",
      "summed shapes:  (108, 3, 4, 3, 7) (108, 3, 4, 3, 7)\n",
      "output shape: (216, 3, 4, 3, 7)\n",
      "output shape after unique: (4, 3, 4, 3, 7)\n"
     ]
    }
   ],
   "source": [
    "gt3 = GammaTensor(\n",
    "    child=np.random.random((3, 4, 54)), \n",
    "    data_subjects=DataSubjectList.from_objs(\n",
    "        np.concatenate((\n",
    "            np.random.choice([\"Ishan\"], (1, 3, 4, 54)),\n",
    "            np.random.choice([\"John Cena\"], (1, 3, 4, 54))\n",
    "        )),\n",
    "    ),\n",
    "    min_vals=lazyrepeatarray(0, (3, 4, 54)) , \n",
    "    max_vals=lazyrepeatarray(1, (3, 4, 54))\n",
    ")\n",
    "\n",
    "# (2, 3, 54, 7)\n",
    "gt4 = GammaTensor(\n",
    "    child=np.random.random((3, 54, 7)), \n",
    "    data_subjects=DataSubjectList.from_objs(\n",
    "        np.concatenate(( \n",
    "            np.random.choice([\"Hulk Hogan\"], (1, 3, 54, 7)),\n",
    "            np.random.choice([\"Potato\"], (1, 3, 54, 7))\n",
    "        )),\n",
    "    ),\n",
    "    min_vals=lazyrepeatarray(0, (3, 54, 7)) , \n",
    "    max_vals=lazyrepeatarray(1, (3, 54, 7))\n",
    ")\n",
    "\n",
    "res3d = gt3.dot(gt4)"
   ]
  },
  {
   "cell_type": "code",
   "execution_count": 23,
   "id": "c080b55b-a456-40b6-a110-c8ca02056f6b",
   "metadata": {},
   "outputs": [
    {
     "data": {
      "text/plain": [
       "((3, 4, 3, 7), (4, 3, 4, 3, 7))"
      ]
     },
     "execution_count": 23,
     "metadata": {},
     "output_type": "execute_result"
    }
   ],
   "source": [
    "res3d.shape, res3d.data_subjects.shape"
   ]
  },
  {
   "cell_type": "code",
   "execution_count": null,
   "id": "62a09a66-d821-406a-8626-956fff859889",
   "metadata": {},
   "outputs": [],
   "source": []
  }
 ],
 "metadata": {
  "kernelspec": {
   "display_name": "Python 3 (ipykernel)",
   "language": "python",
   "name": "python3"
  },
  "language_info": {
   "codemirror_mode": {
    "name": "ipython",
    "version": 3
   },
   "file_extension": ".py",
   "mimetype": "text/x-python",
   "name": "python",
   "nbconvert_exporter": "python",
   "pygments_lexer": "ipython3",
   "version": "3.9.7"
  }
 },
 "nbformat": 4,
 "nbformat_minor": 5
}

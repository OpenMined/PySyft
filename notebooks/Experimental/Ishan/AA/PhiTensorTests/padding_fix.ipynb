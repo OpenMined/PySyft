{
 "cells": [
  {
   "cell_type": "code",
   "execution_count": 1,
   "id": "492572e3-9678-45aa-8671-4c2863db0006",
   "metadata": {},
   "outputs": [
    {
     "name": "stderr",
     "output_type": "stream",
     "text": [
      "/home/e/anaconda3/envs/Hagrid/lib/python3.9/site-packages/tqdm/auto.py:22: TqdmWarning: IProgress not found. Please update jupyter and ipywidgets. See https://ipywidgets.readthedocs.io/en/stable/user_install.html\n",
      "  from .autonotebook import tqdm as notebook_tqdm\n"
     ]
    }
   ],
   "source": [
    "from syft import PhiTensor, DataSubjectList\n",
    "import numpy as np\n",
    "\n"
   ]
  },
  {
   "cell_type": "code",
   "execution_count": 2,
   "id": "8ad3aacb-c375-4f9a-8939-34745922a997",
   "metadata": {},
   "outputs": [],
   "source": [
    "pt = PhiTensor(child=np.ones((180, 3, 50, 50)), data_subjects=DataSubjectList.from_objs(np.ones((180, 3, 50, 50))* 85), min_vals=0, max_vals=1)\n"
   ]
  },
  {
   "cell_type": "code",
   "execution_count": 3,
   "id": "f7a33e05-9355-4d77-a8c4-da1a4e89ac7c",
   "metadata": {},
   "outputs": [],
   "source": [
    "from syft import nn"
   ]
  },
  {
   "cell_type": "code",
   "execution_count": 6,
   "id": "58c495a6-9da7-4690-966d-5da2dde2a3fd",
   "metadata": {},
   "outputs": [
    {
     "name": "stdout",
     "output_type": "stream",
     "text": [
      "data inside dp_pad is of type:  <class 'numpy.ndarray'>\n"
     ]
    }
   ],
   "source": [
    "res = nn.utils.dp_pad(pt, width=2)"
   ]
  },
  {
   "cell_type": "code",
   "execution_count": 7,
   "id": "c0e3fc57-a27a-488d-8826-42c0c5da6e2b",
   "metadata": {},
   "outputs": [
    {
     "data": {
      "text/plain": [
       "(184, 7, 54, 54)"
      ]
     },
     "execution_count": 7,
     "metadata": {},
     "output_type": "execute_result"
    }
   ],
   "source": [
    "res.shape"
   ]
  },
  {
   "cell_type": "code",
   "execution_count": 8,
   "id": "ab686556-6985-45b3-bfed-77b6dc0ebee9",
   "metadata": {},
   "outputs": [
    {
     "data": {
      "text/plain": [
       "(184, 7, 54, 54)"
      ]
     },
     "execution_count": 8,
     "metadata": {},
     "output_type": "execute_result"
    }
   ],
   "source": [
    "res.data_subjects.shape"
   ]
  },
  {
   "cell_type": "code",
   "execution_count": 9,
   "id": "8a16a188-e0b8-40b4-bda4-910bbd573476",
   "metadata": {},
   "outputs": [],
   "source": [
    "import torch"
   ]
  },
  {
   "cell_type": "code",
   "execution_count": 17,
   "id": "0a2cb162-c643-4637-99d0-3f6865d11918",
   "metadata": {},
   "outputs": [],
   "source": [
    "t = torch.Tensor(np.random.random((10,4,6,6)))"
   ]
  },
  {
   "cell_type": "code",
   "execution_count": 24,
   "id": "be772692-d824-45ff-ae4d-12f96cf352a9",
   "metadata": {},
   "outputs": [],
   "source": [
    "torch_res = torch.nn.functional.pad(t, (2,2,2,2), 'constant')"
   ]
  },
  {
   "cell_type": "code",
   "execution_count": 25,
   "id": "cb1f89c0-5386-45dc-8a99-e286d8da5432",
   "metadata": {},
   "outputs": [
    {
     "data": {
      "text/plain": [
       "torch.Size([10, 4, 10, 10])"
      ]
     },
     "execution_count": 25,
     "metadata": {},
     "output_type": "execute_result"
    }
   ],
   "source": [
    "torch_res.shape"
   ]
  },
  {
   "cell_type": "code",
   "execution_count": 26,
   "id": "832a1713-49a4-414f-b735-11bc4234e0c6",
   "metadata": {},
   "outputs": [],
   "source": [
    "data = np.ones((180, 3, 50, 50))"
   ]
  },
  {
   "cell_type": "code",
   "execution_count": 42,
   "id": "132ed573-9f6c-4ac5-baee-94154e4bdaf1",
   "metadata": {},
   "outputs": [],
   "source": [
    "n_pad = ((0, 0), (0, 0),(2, 2), (2, 2)) "
   ]
  },
  {
   "cell_type": "code",
   "execution_count": 43,
   "id": "4d428a21-7a99-4585-87ef-0253c8381ad1",
   "metadata": {},
   "outputs": [
    {
     "data": {
      "text/plain": [
       "((0, 0), (0, 0), (2, 2), (2, 2))"
      ]
     },
     "execution_count": 43,
     "metadata": {},
     "output_type": "execute_result"
    }
   ],
   "source": [
    "n_pad"
   ]
  },
  {
   "cell_type": "code",
   "execution_count": 44,
   "id": "799e28c5-57ce-411d-915c-e4019f61a7ef",
   "metadata": {},
   "outputs": [
    {
     "data": {
      "text/plain": [
       "(180, 3, 54, 54)"
      ]
     },
     "execution_count": 44,
     "metadata": {},
     "output_type": "execute_result"
    }
   ],
   "source": [
    "np_res = np.pad(data, n_pad, mode='reflect')\n",
    "np_res.shape"
   ]
  },
  {
   "cell_type": "code",
   "execution_count": 85,
   "id": "2739ba3d-e239-462e-9541-0cd62dd6a7fe",
   "metadata": {},
   "outputs": [],
   "source": [
    "def correct_dsl(input_tensor: PhiTensor):\n",
    "    \"\"\" Corrects for the new DSL shape requirements \n",
    "    e.g. (1915,) -> (1915, 3, 50, 50) \n",
    "    \"\"\"\n",
    "    output_dsi = np.ones(input_tensor.shape)  # b/c PhiTensor\n",
    "    for i in range(input_tensor.shape[0]):\n",
    "         output_dsi[i] *= input_tensor.data_subjects.data_subjects_indexed[i]\n",
    "    input_tensor.data_subjects.data_subjects_indexed = output_dsi"
   ]
  },
  {
   "cell_type": "code",
   "execution_count": 86,
   "id": "866cf4d0-f93b-4f64-8d5d-9516ee5a09c1",
   "metadata": {},
   "outputs": [],
   "source": [
    "inc_dsl = DataSubjectList.from_objs(np.ones(180)* 85)\n",
    "pt2 = PhiTensor(\n",
    "    child=np.ones((180, 3, 50, 50)), \n",
    "    data_subjects=inc_dsl, \n",
    "    min_vals=0, \n",
    "    max_vals=1\n",
    ")"
   ]
  },
  {
   "cell_type": "code",
   "execution_count": 87,
   "id": "0052c5b6-43b0-4204-a057-379338cee59d",
   "metadata": {},
   "outputs": [],
   "source": [
    "correct_dsl(pt2)"
   ]
  },
  {
   "cell_type": "code",
   "execution_count": 88,
   "id": "cd94ec7c-aa5b-4272-adad-fa04ceac958d",
   "metadata": {},
   "outputs": [
    {
     "data": {
      "text/plain": [
       "(180, 3, 50, 50)"
      ]
     },
     "execution_count": 88,
     "metadata": {},
     "output_type": "execute_result"
    }
   ],
   "source": [
    "pt2.data_subjects.shape"
   ]
  },
  {
   "cell_type": "code",
   "execution_count": null,
   "id": "b713da55-e7f2-49b1-b081-240885365751",
   "metadata": {},
   "outputs": [],
   "source": []
  }
 ],
 "metadata": {
  "kernelspec": {
   "display_name": "Python 3 (ipykernel)",
   "language": "python",
   "name": "python3"
  },
  "language_info": {
   "codemirror_mode": {
    "name": "ipython",
    "version": 3
   },
   "file_extension": ".py",
   "mimetype": "text/x-python",
   "name": "python",
   "nbconvert_exporter": "python",
   "pygments_lexer": "ipython3",
   "version": "3.9.7"
  }
 },
 "nbformat": 4,
 "nbformat_minor": 5
}

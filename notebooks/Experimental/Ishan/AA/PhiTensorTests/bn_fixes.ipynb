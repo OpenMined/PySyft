{
 "cells": [
  {
   "cell_type": "code",
   "execution_count": 1,
   "id": "2015c0b1-e77b-4ded-9096-78cab664c33f",
   "metadata": {},
   "outputs": [
    {
     "name": "stderr",
     "output_type": "stream",
     "text": [
      "/home/e/anaconda3/envs/Hagrid/lib/python3.9/site-packages/tqdm/auto.py:22: TqdmWarning: IProgress not found. Please update jupyter and ipywidgets. See https://ipywidgets.readthedocs.io/en/stable/user_install.html\n",
      "  from .autonotebook import tqdm as notebook_tqdm\n"
     ]
    }
   ],
   "source": [
    "from syft import PhiTensor, GammaTensor, DataSubjectList,lazyrepeatarray"
   ]
  },
  {
   "cell_type": "code",
   "execution_count": 2,
   "id": "d7033ac7-672c-47c8-a0a9-a09ac5a05a12",
   "metadata": {},
   "outputs": [],
   "source": [
    "import numpy as np"
   ]
  },
  {
   "cell_type": "code",
   "execution_count": 3,
   "id": "86f77ec9-1d17-4520-98d9-5a4688180cec",
   "metadata": {},
   "outputs": [],
   "source": [
    "arr = np.ones(((2, 64, 28, 28)))"
   ]
  },
  {
   "cell_type": "code",
   "execution_count": 4,
   "id": "65dda5a0-ee08-468a-bbc9-d373046ec0c1",
   "metadata": {},
   "outputs": [
    {
     "data": {
      "text/plain": [
       "(2, 64, 28, 28)"
      ]
     },
     "execution_count": 4,
     "metadata": {},
     "output_type": "execute_result"
    }
   ],
   "source": [
    "arr.shape"
   ]
  },
  {
   "cell_type": "code",
   "execution_count": 5,
   "id": "b16af371-0b29-4456-9b7a-751b0b969c1a",
   "metadata": {},
   "outputs": [
    {
     "data": {
      "text/plain": [
       "(2, 28, 28)"
      ]
     },
     "execution_count": 5,
     "metadata": {},
     "output_type": "execute_result"
    }
   ],
   "source": [
    "arr.std(axis=1).shape"
   ]
  },
  {
   "cell_type": "code",
   "execution_count": 6,
   "id": "ee40ba0d-3467-4c23-823e-0f7d6c054719",
   "metadata": {},
   "outputs": [],
   "source": [
    "import torch"
   ]
  },
  {
   "cell_type": "code",
   "execution_count": 7,
   "id": "b7252a28-2d67-40af-8a6b-d89168e01f55",
   "metadata": {},
   "outputs": [],
   "source": [
    "from torch import nn"
   ]
  },
  {
   "cell_type": "code",
   "execution_count": 8,
   "id": "ab9c7085-18b2-45bb-a56f-88b417c75c6d",
   "metadata": {},
   "outputs": [],
   "source": [
    "bn = nn.functional.batch_norm(torch.ones((10,3,50,50)), running_mean=torch.ones(3), running_var=torch.ones(3)*0.5)"
   ]
  },
  {
   "cell_type": "code",
   "execution_count": 9,
   "id": "55a9a421-5a88-48fd-9347-0260f513dfb0",
   "metadata": {},
   "outputs": [
    {
     "data": {
      "text/plain": [
       "torch.Size([10, 3, 50, 50])"
      ]
     },
     "execution_count": 9,
     "metadata": {},
     "output_type": "execute_result"
    }
   ],
   "source": [
    "bn.shape"
   ]
  },
  {
   "cell_type": "code",
   "execution_count": 11,
   "id": "df03839e-8d82-4140-876d-3a826c226086",
   "metadata": {},
   "outputs": [
    {
     "data": {
      "text/plain": [
       "(2, 1, 52, 52)"
      ]
     },
     "execution_count": 11,
     "metadata": {},
     "output_type": "execute_result"
    }
   ],
   "source": [
    "np.expand_dims(np.ones((2, 52, 52)), axis=-3).shape"
   ]
  },
  {
   "cell_type": "code",
   "execution_count": 12,
   "id": "099b7179-4003-4e44-a7ed-e8c69069cd56",
   "metadata": {},
   "outputs": [],
   "source": [
    "target_shape_dsl = list(np.ones((10, 10, 10)).shape) #.insert(-3, 1)"
   ]
  },
  {
   "cell_type": "code",
   "execution_count": 16,
   "id": "d67ab3a8-202b-431f-adf5-2c9ca66d3797",
   "metadata": {},
   "outputs": [
    {
     "data": {
      "text/plain": [
       "[1, 10, 10, 10]"
      ]
     },
     "execution_count": 16,
     "metadata": {},
     "output_type": "execute_result"
    }
   ],
   "source": [
    "target_shape_dsl"
   ]
  },
  {
   "cell_type": "code",
   "execution_count": 17,
   "id": "14c7d6fd-bc0b-47da-81f0-a73f036babe1",
   "metadata": {},
   "outputs": [],
   "source": [
    "target_shape_dsl.insert(-3, 1)"
   ]
  },
  {
   "cell_type": "code",
   "execution_count": 18,
   "id": "f94b5930-0840-42fe-9ce2-c12fd898758b",
   "metadata": {},
   "outputs": [
    {
     "data": {
      "text/plain": [
       "[1, 1, 10, 10, 10]"
      ]
     },
     "execution_count": 18,
     "metadata": {},
     "output_type": "execute_result"
    }
   ],
   "source": [
    "target_shape_dsl"
   ]
  },
  {
   "cell_type": "markdown",
   "id": "c9334cac-51ef-48dd-b335-fc41769116f2",
   "metadata": {},
   "source": [
    "dsl1 == dsl2 --> stack\n",
    "(a,m,n) & (b, m, n) ---> (a + b - overlap(a,b), m, n)\n",
    "\n",
    "dsl1 > dsl2\n",
    "    - dsl1 = dsl2 + 1:\n",
    "        - expand dims to add a 1, and then stack\n",
    "    - \n",
    "\n"
   ]
  }
 ],
 "metadata": {
  "kernelspec": {
   "display_name": "Python 3 (ipykernel)",
   "language": "python",
   "name": "python3"
  },
  "language_info": {
   "codemirror_mode": {
    "name": "ipython",
    "version": 3
   },
   "file_extension": ".py",
   "mimetype": "text/x-python",
   "name": "python",
   "nbconvert_exporter": "python",
   "pygments_lexer": "ipython3",
   "version": "3.9.7"
  }
 },
 "nbformat": 4,
 "nbformat_minor": 5
}

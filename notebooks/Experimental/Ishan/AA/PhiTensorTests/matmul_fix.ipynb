{
 "cells": [
  {
   "cell_type": "code",
   "execution_count": 1,
   "id": "492572e3-9678-45aa-8671-4c2863db0006",
   "metadata": {},
   "outputs": [
    {
     "name": "stderr",
     "output_type": "stream",
     "text": [
      "/home/e/anaconda3/envs/Hagrid/lib/python3.9/site-packages/tqdm/auto.py:22: TqdmWarning: IProgress not found. Please update jupyter and ipywidgets. See https://ipywidgets.readthedocs.io/en/stable/user_install.html\n",
      "  from .autonotebook import tqdm as notebook_tqdm\n"
     ]
    }
   ],
   "source": [
    "from syft import PhiTensor, DataSubjectList\n",
    "import numpy as np\n",
    "from syft import nn"
   ]
  },
  {
   "cell_type": "code",
   "execution_count": 2,
   "id": "8ad3aacb-c375-4f9a-8939-34745922a997",
   "metadata": {},
   "outputs": [],
   "source": [
    "pt = PhiTensor(\n",
    "    child=np.ones((50, 50)), \n",
    "    data_subjects=DataSubjectList.from_objs(np.ones((50, 50))* 75), \n",
    "    min_vals=0, \n",
    "    max_vals=1\n",
    ")"
   ]
  },
  {
   "cell_type": "code",
   "execution_count": 3,
   "id": "f7a33e05-9355-4d77-a8c4-da1a4e89ac7c",
   "metadata": {},
   "outputs": [],
   "source": [
    "pt2 = PhiTensor(\n",
    "    child=np.ones((50, 50)), \n",
    "    data_subjects=DataSubjectList.from_objs(np.ones((50, 50))* 6), \n",
    "    min_vals=0, \n",
    "    max_vals=1\n",
    ")"
   ]
  },
  {
   "cell_type": "code",
   "execution_count": 4,
   "id": "34f23c25-0f30-40ab-a2f6-9cf9754861bf",
   "metadata": {},
   "outputs": [],
   "source": [
    "res = pt - pt2"
   ]
  },
  {
   "cell_type": "code",
   "execution_count": 5,
   "id": "41e0e2bf-7108-4d63-ae00-bf25660d0e8a",
   "metadata": {},
   "outputs": [
    {
     "data": {
      "text/plain": [
       "(100, 50)"
      ]
     },
     "execution_count": 5,
     "metadata": {},
     "output_type": "execute_result"
    }
   ],
   "source": [
    "res.data_subjects.shape"
   ]
  },
  {
   "cell_type": "code",
   "execution_count": 6,
   "id": "86bb732e-5201-40e4-b339-191bb1d15ad5",
   "metadata": {},
   "outputs": [
    {
     "data": {
      "text/plain": [
       "array([75.,  6.])"
      ]
     },
     "execution_count": 6,
     "metadata": {},
     "output_type": "execute_result"
    }
   ],
   "source": [
    "res.data_subjects.one_hot_lookup"
   ]
  },
  {
   "cell_type": "code",
   "execution_count": 7,
   "id": "57726c4b-d290-43aa-a62f-f657f598b646",
   "metadata": {},
   "outputs": [
    {
     "name": "stdout",
     "output_type": "stream",
     "text": [
      "<class 'numpy.ndarray'> <class 'numpy.ndarray'>\n"
     ]
    }
   ],
   "source": [
    "res = pt @ pt2"
   ]
  },
  {
   "cell_type": "code",
   "execution_count": 8,
   "id": "df28c4b9-3e59-4f1a-96ec-3f8551cefa27",
   "metadata": {},
   "outputs": [
    {
     "data": {
      "text/plain": [
       "((50, 50), (2, 50, 50))"
      ]
     },
     "execution_count": 8,
     "metadata": {},
     "output_type": "execute_result"
    }
   ],
   "source": [
    "res.shape, res.data_subjects.shape"
   ]
  },
  {
   "cell_type": "code",
   "execution_count": 9,
   "id": "b1378529-5ef6-4fb1-957e-c6d2c5844245",
   "metadata": {},
   "outputs": [
    {
     "data": {
      "text/plain": [
       "array([[50., 50., 50., ..., 50., 50., 50.],\n",
       "       [50., 50., 50., ..., 50., 50., 50.],\n",
       "       [50., 50., 50., ..., 50., 50., 50.],\n",
       "       ...,\n",
       "       [50., 50., 50., ..., 50., 50., 50.],\n",
       "       [50., 50., 50., ..., 50., 50., 50.],\n",
       "       [50., 50., 50., ..., 50., 50., 50.]])"
      ]
     },
     "execution_count": 9,
     "metadata": {},
     "output_type": "execute_result"
    }
   ],
   "source": [
    "np.dot(pt.child, pt2.child)"
   ]
  },
  {
   "cell_type": "code",
   "execution_count": 10,
   "id": "993bb745-7953-49c4-b6cf-fa944f8562d8",
   "metadata": {},
   "outputs": [],
   "source": [
    "import numpy as np\n",
    "dsi1 = np.ones((3, 50, 50))\n",
    "dsi2 = np.ones((2, 50, 50))"
   ]
  },
  {
   "cell_type": "code",
   "execution_count": 11,
   "id": "91a16181-14d1-407e-b5cd-79fe8cff624b",
   "metadata": {},
   "outputs": [],
   "source": [
    "res = np.concatenate((dsi1, dsi2))"
   ]
  },
  {
   "cell_type": "code",
   "execution_count": 12,
   "id": "2a2c90cf-b4f5-47b5-ac73-320a336f529c",
   "metadata": {},
   "outputs": [
    {
     "data": {
      "text/plain": [
       "(5, 50, 50)"
      ]
     },
     "execution_count": 12,
     "metadata": {},
     "output_type": "execute_result"
    }
   ],
   "source": [
    "res.shape"
   ]
  },
  {
   "cell_type": "code",
   "execution_count": 13,
   "id": "a88284a5-50ca-4d5b-937a-0ad0976ad164",
   "metadata": {},
   "outputs": [
    {
     "data": {
      "text/plain": [
       "(array([6.]), array([75.]))"
      ]
     },
     "execution_count": 13,
     "metadata": {},
     "output_type": "execute_result"
    }
   ],
   "source": [
    "pt2.data_subjects.one_hot_lookup, pt.data_subjects.one_hot_lookup, "
   ]
  },
  {
   "cell_type": "code",
   "execution_count": 14,
   "id": "397f1669-3b2e-4be9-a939-3307a8386c8f",
   "metadata": {},
   "outputs": [],
   "source": [
    "def combine_dsi(dsl1: DataSubjectList, dsl2: DataSubjectList):\n",
    "    dsl1_dims = len(dsl1.shape)\n",
    "    dsl2_dims = len(dsl2.shape)\n",
    "    if dsl1_dims == dsl2_dims:\n",
    "        output_shape = (dsl1.shape[0] + dsl2.shape[0], *dsl1.shape[1:])\n",
    "    elif dsl1_dims - dsl2_dims == 1:\n",
    "        dsl2.data_subjects_indexed = np.expand_dims(dsl2.data_subjects_indexed, 0)\n",
    "        output_shape = (dsl1.shape[0] + dsl2.shape[0], *dsl1.shape[1:])\n",
    "    elif dsl2_dims - dsl1_dims == 1:\n",
    "        dsl1.data_subjects_indexed = np.expand_dims(dsl1.data_subjects_indexed, 0)\n",
    "        output_shape = (dsl1.shape[0] + dsl2.shape[0], *dsl1.shape[1:])\n",
    "    else:\n",
    "        raise Exception(f\"Shapes of DSLs incompatible- are they meant to be broadcasted: {dsl1.shape}, {dsl2.shape}\")\n",
    "    \n",
    "    output_dsl = DataSubjectList(one_hot_lookup=np.array([]),\n",
    "                                 data_subjects_indexed=np.empty(output_shape))\n",
    "    \n",
    "    output_dsl[:dsl1.shape[0]] = dsl1\n",
    "    output_dsl[dsl1.shape[0]:] = dsl2\n",
    "    return output_dsl"
   ]
  },
  {
   "cell_type": "code",
   "execution_count": 15,
   "id": "7e96dc78-4959-4064-92c9-ab811045a29b",
   "metadata": {},
   "outputs": [],
   "source": [
    "res = combine_dsi(pt.data_subjects, pt2.data_subjects[0])"
   ]
  },
  {
   "cell_type": "code",
   "execution_count": 16,
   "id": "9c24cafd-eb67-4cfc-b359-d94158f0a048",
   "metadata": {},
   "outputs": [],
   "source": [
    "res2 = DataSubjectList.combine(pt.data_subjects, pt2.data_subjects)"
   ]
  },
  {
   "cell_type": "code",
   "execution_count": 17,
   "id": "d80bda32-68e7-4818-8cb1-9103f7c2e46a",
   "metadata": {},
   "outputs": [
    {
     "data": {
      "text/plain": [
       "(2, 50, 50)"
      ]
     },
     "execution_count": 17,
     "metadata": {},
     "output_type": "execute_result"
    }
   ],
   "source": [
    "res2.shape"
   ]
  },
  {
   "cell_type": "code",
   "execution_count": 18,
   "id": "dba58d94-9cbe-449a-8143-73e6bae1f143",
   "metadata": {},
   "outputs": [
    {
     "data": {
      "text/plain": [
       "(51, 50)"
      ]
     },
     "execution_count": 18,
     "metadata": {},
     "output_type": "execute_result"
    }
   ],
   "source": [
    "res.shape"
   ]
  },
  {
   "cell_type": "code",
   "execution_count": 19,
   "id": "f072971f-5a01-4d4c-9a2d-19c67de298d5",
   "metadata": {},
   "outputs": [
    {
     "data": {
      "text/plain": [
       "array([75.,  6.])"
      ]
     },
     "execution_count": 19,
     "metadata": {},
     "output_type": "execute_result"
    }
   ],
   "source": [
    "res.one_hot_lookup"
   ]
  },
  {
   "cell_type": "code",
   "execution_count": 20,
   "id": "6e50ed15-75d8-4104-b25b-8cb80a290079",
   "metadata": {},
   "outputs": [
    {
     "data": {
      "text/plain": [
       "1"
      ]
     },
     "execution_count": 20,
     "metadata": {},
     "output_type": "execute_result"
    }
   ],
   "source": [
    "np.empty(()).size"
   ]
  },
  {
   "cell_type": "code",
   "execution_count": 21,
   "id": "58ab424c-a777-4d14-b9e6-9ef3f4f681a5",
   "metadata": {},
   "outputs": [
    {
     "data": {
      "text/plain": [
       "0"
      ]
     },
     "execution_count": 21,
     "metadata": {},
     "output_type": "execute_result"
    }
   ],
   "source": [
    "np.array([]).size"
   ]
  },
  {
   "cell_type": "code",
   "execution_count": 22,
   "id": "ca8633c3-62c6-4fca-bdd2-89442e7638d4",
   "metadata": {},
   "outputs": [
    {
     "data": {
      "text/plain": [
       "0"
      ]
     },
     "execution_count": 22,
     "metadata": {},
     "output_type": "execute_result"
    }
   ],
   "source": [
    "len(np.array([]))"
   ]
  },
  {
   "cell_type": "code",
   "execution_count": 23,
   "id": "0c980144-4965-4a74-8f92-c98522f72a08",
   "metadata": {},
   "outputs": [],
   "source": [
    "import numpy as np"
   ]
  },
  {
   "cell_type": "code",
   "execution_count": 24,
   "id": "6ea535d5-fd45-4e7c-8957-a5bb432df820",
   "metadata": {},
   "outputs": [
    {
     "data": {
      "text/plain": [
       "(1, 50, 50)"
      ]
     },
     "execution_count": 24,
     "metadata": {},
     "output_type": "execute_result"
    }
   ],
   "source": [
    "dsl = np.expand_dims(np.ones((50,50)), axis=0)\n",
    "dsl.shape"
   ]
  },
  {
   "cell_type": "code",
   "execution_count": 25,
   "id": "6682deef-7c45-46c8-8a92-ff7cbffe8747",
   "metadata": {},
   "outputs": [
    {
     "data": {
      "text/plain": [
       "(1, 50)"
      ]
     },
     "execution_count": 25,
     "metadata": {},
     "output_type": "execute_result"
    }
   ],
   "source": [
    "dsl.sum(axis=1).shape"
   ]
  },
  {
   "cell_type": "code",
   "execution_count": 26,
   "id": "cc3d7edb-34df-4b08-9aa6-e1d625d58e94",
   "metadata": {},
   "outputs": [
    {
     "data": {
      "text/plain": [
       "(3, 46, 54)"
      ]
     },
     "execution_count": 26,
     "metadata": {},
     "output_type": "execute_result"
    }
   ],
   "source": [
    "dsl = np.ones((3, 46,54))\n",
    "dsl.shape"
   ]
  },
  {
   "cell_type": "code",
   "execution_count": 27,
   "id": "74db0b32-72d9-4efd-8d10-accd8870acfb",
   "metadata": {},
   "outputs": [
    {
     "name": "stdout",
     "output_type": "stream",
     "text": [
      "[[46. 46. 46. 46. 46. 46. 46. 46. 46. 46. 46. 46. 46. 46. 46. 46. 46. 46.\n",
      "  46. 46. 46. 46. 46. 46. 46. 46. 46. 46. 46. 46. 46. 46. 46. 46. 46. 46.\n",
      "  46. 46. 46. 46. 46. 46. 46. 46. 46. 46. 46. 46. 46. 46. 46. 46. 46. 46.]\n",
      " [46. 46. 46. 46. 46. 46. 46. 46. 46. 46. 46. 46. 46. 46. 46. 46. 46. 46.\n",
      "  46. 46. 46. 46. 46. 46. 46. 46. 46. 46. 46. 46. 46. 46. 46. 46. 46. 46.\n",
      "  46. 46. 46. 46. 46. 46. 46. 46. 46. 46. 46. 46. 46. 46. 46. 46. 46. 46.]\n",
      " [46. 46. 46. 46. 46. 46. 46. 46. 46. 46. 46. 46. 46. 46. 46. 46. 46. 46.\n",
      "  46. 46. 46. 46. 46. 46. 46. 46. 46. 46. 46. 46. 46. 46. 46. 46. 46. 46.\n",
      "  46. 46. 46. 46. 46. 46. 46. 46. 46. 46. 46. 46. 46. 46. 46. 46. 46. 46.]]\n"
     ]
    },
    {
     "data": {
      "text/plain": [
       "(3, 54)"
      ]
     },
     "execution_count": 27,
     "metadata": {},
     "output_type": "execute_result"
    }
   ],
   "source": [
    "print((dsl.sum(axis=1)))\n",
    "\n",
    "dsl.sum(axis=1).shape"
   ]
  },
  {
   "cell_type": "code",
   "execution_count": 28,
   "id": "4c5b455e-4ac9-44ec-bcae-5959d5ae82b3",
   "metadata": {},
   "outputs": [
    {
     "name": "stdout",
     "output_type": "stream",
     "text": [
      "Hi\n"
     ]
    }
   ],
   "source": [
    "if not np.array([5]) == np.array([6]):\n",
    "    print(\"Hi\")"
   ]
  },
  {
   "cell_type": "code",
   "execution_count": 29,
   "id": "d16dad29-2fe9-4724-a27e-732806341873",
   "metadata": {},
   "outputs": [
    {
     "name": "stdout",
     "output_type": "stream",
     "text": [
      "[[['A' 'A' 'D' 'B' 'B']\n",
      "  ['C' 'E' 'C' 'D' 'A']\n",
      "  ['E' 'B' 'D' 'C' 'F']\n",
      "  ['C' 'F' 'A' 'D' 'F']\n",
      "  ['D' 'D' 'D' 'B' 'F']]\n",
      "\n",
      " [['F' 'E' 'C' 'A' 'F']\n",
      "  ['B' 'B' 'E' 'A' 'B']\n",
      "  ['E' 'E' 'F' 'B' 'D']\n",
      "  ['A' 'E' 'F' 'F' 'C']\n",
      "  ['B' 'B' 'D' 'B' 'B']]]\n"
     ]
    },
    {
     "data": {
      "text/plain": [
       "(10, 5)"
      ]
     },
     "execution_count": 29,
     "metadata": {},
     "output_type": "execute_result"
    }
   ],
   "source": [
    "a = np.random.choice([\"A\", \"B\", \"C\", \"D\", \"E\", \"F\"],(2, 5,5))\n",
    "print(a)\n",
    "a.reshape((-1, a.shape[1])).shape"
   ]
  },
  {
   "cell_type": "code",
   "execution_count": 30,
   "id": "6ccde633-1bc8-40af-9849-4cebf394aa98",
   "metadata": {},
   "outputs": [
    {
     "data": {
      "text/plain": [
       "array([[[0.06395722, 0.0305931 , 0.51774976, ..., 0.61673226,\n",
       "         0.21598222, 0.09323139],\n",
       "        [0.06395722, 0.0305931 , 0.51774976, ..., 0.61673226,\n",
       "         0.21598222, 0.09323139],\n",
       "        [0.06395722, 0.0305931 , 0.51774976, ..., 0.61673226,\n",
       "         0.21598222, 0.09323139],\n",
       "        ...,\n",
       "        [0.06395722, 0.0305931 , 0.51774976, ..., 0.61673226,\n",
       "         0.21598222, 0.09323139],\n",
       "        [0.06395722, 0.0305931 , 0.51774976, ..., 0.61673226,\n",
       "         0.21598222, 0.09323139],\n",
       "        [0.06395722, 0.0305931 , 0.51774976, ..., 0.61673226,\n",
       "         0.21598222, 0.09323139]],\n",
       "\n",
       "       [[0.06395722, 0.0305931 , 0.51774976, ..., 0.61673226,\n",
       "         0.21598222, 0.09323139],\n",
       "        [0.06395722, 0.0305931 , 0.51774976, ..., 0.61673226,\n",
       "         0.21598222, 0.09323139],\n",
       "        [0.06395722, 0.0305931 , 0.51774976, ..., 0.61673226,\n",
       "         0.21598222, 0.09323139],\n",
       "        ...,\n",
       "        [0.06395722, 0.0305931 , 0.51774976, ..., 0.61673226,\n",
       "         0.21598222, 0.09323139],\n",
       "        [0.06395722, 0.0305931 , 0.51774976, ..., 0.61673226,\n",
       "         0.21598222, 0.09323139],\n",
       "        [0.06395722, 0.0305931 , 0.51774976, ..., 0.61673226,\n",
       "         0.21598222, 0.09323139]],\n",
       "\n",
       "       [[0.06395722, 0.0305931 , 0.51774976, ..., 0.61673226,\n",
       "         0.21598222, 0.09323139],\n",
       "        [0.06395722, 0.0305931 , 0.51774976, ..., 0.61673226,\n",
       "         0.21598222, 0.09323139],\n",
       "        [0.06395722, 0.0305931 , 0.51774976, ..., 0.61673226,\n",
       "         0.21598222, 0.09323139],\n",
       "        ...,\n",
       "        [0.06395722, 0.0305931 , 0.51774976, ..., 0.61673226,\n",
       "         0.21598222, 0.09323139],\n",
       "        [0.06395722, 0.0305931 , 0.51774976, ..., 0.61673226,\n",
       "         0.21598222, 0.09323139],\n",
       "        [0.06395722, 0.0305931 , 0.51774976, ..., 0.61673226,\n",
       "         0.21598222, 0.09323139]]])"
      ]
     },
     "execution_count": 30,
     "metadata": {},
     "output_type": "execute_result"
    }
   ],
   "source": [
    "np.ones((3, 46, 46)) * np.random.random((46))"
   ]
  },
  {
   "cell_type": "code",
   "execution_count": 31,
   "id": "f5cc1664-b4aa-4fd3-b191-2e6bbba30c32",
   "metadata": {},
   "outputs": [],
   "source": [
    "def matmul(dsl1: DataSubjectList, dsl2: DataSubjectList):\n",
    "    dsl1_len = len(dsl1.shape)\n",
    "    dsl2_len = len(dsl2.shape)\n",
    "    print(dsl2.shape)\n",
    "    dsl1_target_shape = (*dsl1.shape[:-1], 1) if dsl1_len == 2 else (*dsl1.shape[1:-1], 1)\n",
    "    dsl2_target_shape = (1, *dsl2.shape[:-3], dsl2.shape[-1]) if dsl2_len == 2 else (*dsl2.shape[1:-2], 1, dsl2.shape[-1])\n",
    "    \n",
    "    print(\"target_shapes\", dsl1_target_shape, dsl2_target_shape)\n",
    "    \n",
    "#     if dsl1_len == 3:\n",
    "#         dsl1_target_shape = (dsl1.shape[1], 1) # *dsl1.shape[:2]\n",
    "#         dsl2_target_shape = (1, dsl2.shape[-1]) # dsl2.shape[0], \n",
    "#     elif dsl1_len == 2:\n",
    "#         dsl1_target_shape = tuple([dsl1.shape[0], 1])\n",
    "#         dsl2_target_shape = tuple([1, dsl2.shape[-1]])\n",
    "#     else:\n",
    "#         raise NotImplementedError\n",
    "\n",
    "    summed_dsl1 = dsl1.sum(target_shape=dsl1_target_shape)\n",
    "    summed_dsl2 = dsl2.sum(target_shape=dsl2_target_shape)\n",
    "    print(\"summed_ds\", summed_dsl1.shape, summed_dsl2.shape)\n",
    "    \n",
    "    # We need to project these data subject arrays to their entire row/column respectively\n",
    "    summed_dsl1.data_subjects_indexed = np.ones((*summed_dsl1.shape[:-1], summed_dsl2.shape[-1])) * summed_dsl1.data_subjects_indexed\n",
    "    summed_dsl2.data_subjects_indexed = np.ones((*summed_dsl2.shape[:-2], summed_dsl1.shape[-2], summed_dsl2.shape[-1])) * summed_dsl2.data_subjects_indexed\n",
    "    \n",
    "    output_ds = DataSubjectList.combine_dsi(summed_dsl1, summed_dsl2)\n",
    "    output_ds.data_subjects_indexed = np.unique(output_ds.data_subjects_indexed, axis=0)\n",
    "    return output_ds"
   ]
  },
  {
   "cell_type": "code",
   "execution_count": 32,
   "id": "4e6e46f7-78ef-4038-92f5-c95a95a426cf",
   "metadata": {},
   "outputs": [
    {
     "name": "stdout",
     "output_type": "stream",
     "text": [
      "(4, 54) (54, 7)\n",
      "(54, 7)\n",
      "target_shapes (4, 1) (1, 7)\n",
      "summed_ds (54, 4, 1) (54, 1, 7)\n"
     ]
    },
    {
     "data": {
      "text/plain": [
       "(2, 4, 7)"
      ]
     },
     "execution_count": 32,
     "metadata": {},
     "output_type": "execute_result"
    }
   ],
   "source": [
    "def test_matmul_2d():\n",
    "    pt1 = PhiTensor(\n",
    "        child=np.random.random((4, 54)), \n",
    "        data_subjects=DataSubjectList.from_objs(np.random.choice([\"Ishan\"], (4, 54))), \n",
    "        min_vals=0, \n",
    "        max_vals=1\n",
    "    )\n",
    "\n",
    "    pt2 = PhiTensor(\n",
    "        child=np.random.random((54, 7)), \n",
    "        data_subjects=DataSubjectList.from_objs(np.random.choice([\"John Cena\"], (54, 7))), \n",
    "        min_vals=0, \n",
    "        max_vals=1\n",
    "    )\n",
    "    print(pt1.data_subjects.shape, pt2.data_subjects.shape)\n",
    "    return matmul(pt1.data_subjects, pt2.data_subjects)\n",
    "\n",
    "test_matmul_2d().shape"
   ]
  },
  {
   "cell_type": "code",
   "execution_count": 33,
   "id": "824155b7-399a-4e35-a9a8-29d34f236adf",
   "metadata": {},
   "outputs": [
    {
     "name": "stdout",
     "output_type": "stream",
     "text": [
      "(2, 4, 54) (2, 54, 7)\n",
      "(2, 54, 7)\n",
      "target_shapes (4, 1) (1, 7)\n",
      "summed_ds (108, 4, 1) (108, 1, 7)\n"
     ]
    },
    {
     "data": {
      "text/plain": [
       "(4, 4, 7)"
      ]
     },
     "execution_count": 33,
     "metadata": {},
     "output_type": "execute_result"
    }
   ],
   "source": [
    "from syft import GammaTensor, lazyrepeatarray\n",
    "\n",
    "def test_matmul_3d():\n",
    "    \n",
    "    # (2, 4, 54)\n",
    "    gt1 = GammaTensor(\n",
    "        child=np.random.random((4, 54)), \n",
    "        data_subjects=DataSubjectList.from_objs(\n",
    "            np.concatenate((\n",
    "                np.random.choice([\"Ishan\"], (1, 4, 54)),\n",
    "                np.random.choice([\"John Cena\"], (1, 4, 54))\n",
    "            )),\n",
    "        ),\n",
    "        min_vals=lazyrepeatarray(0, (4, 54)) , \n",
    "        max_vals=lazyrepeatarray(1, (4, 54))\n",
    "    )\n",
    "\n",
    "    gt2 = GammaTensor(\n",
    "        child=np.random.random((54, 7)), \n",
    "        data_subjects=DataSubjectList.from_objs(\n",
    "            np.concatenate(( \n",
    "                np.random.choice([\"Hulk Hogan\"], (1, 54, 7)),\n",
    "                np.random.choice([\"Potato\"], (1, 54, 7))\n",
    "            )),\n",
    "        ),\n",
    "        min_vals=lazyrepeatarray(0, (54, 7)) , \n",
    "        max_vals=lazyrepeatarray(1, (54, 7))\n",
    "    )\n",
    "    print(gt1.data_subjects.shape, gt2.data_subjects.shape)\n",
    "    return matmul(gt1.data_subjects, gt2.data_subjects)\n",
    "\n",
    "res3d = test_matmul_3d()\n",
    "res3d.shape"
   ]
  },
  {
   "cell_type": "code",
   "execution_count": 34,
   "id": "b90833ec-f488-49e6-a8ff-4d6177c4cbd1",
   "metadata": {},
   "outputs": [
    {
     "data": {
      "text/plain": [
       "array([[0., 0., 0., 0., 0., 0., 0.],\n",
       "       [0., 0., 0., 0., 0., 0., 0.],\n",
       "       [0., 0., 0., 0., 0., 0., 0.],\n",
       "       [0., 0., 0., 0., 0., 0., 0.]])"
      ]
     },
     "execution_count": 34,
     "metadata": {},
     "output_type": "execute_result"
    }
   ],
   "source": [
    "res3d.data_subjects_indexed[0]"
   ]
  },
  {
   "cell_type": "code",
   "execution_count": 35,
   "id": "121fd148-9f74-44c5-9f69-4969d2049cfd",
   "metadata": {},
   "outputs": [
    {
     "data": {
      "text/plain": [
       "array([[0., 0., 0., 0., 0., 0., 0., 0., 0., 0., 0., 0., 0., 0., 0., 0.,\n",
       "        0., 0., 0., 0., 0., 0., 0., 0., 0., 0., 0., 0., 0., 0., 0., 0.,\n",
       "        0., 0., 0., 0., 0., 0., 0., 0., 0., 0., 0., 0., 0., 0., 0., 0.,\n",
       "        0., 0.],\n",
       "       [1., 1., 1., 1., 1., 1., 1., 1., 1., 1., 1., 1., 1., 1., 1., 1.,\n",
       "        1., 1., 1., 1., 1., 1., 1., 1., 1., 1., 1., 1., 1., 1., 1., 1.,\n",
       "        1., 1., 1., 1., 1., 1., 1., 1., 1., 1., 1., 1., 1., 1., 1., 1.,\n",
       "        1., 1.]])"
      ]
     },
     "execution_count": 35,
     "metadata": {},
     "output_type": "execute_result"
    }
   ],
   "source": [
    "np.unique(res.data_subjects_indexed, axis=0)"
   ]
  },
  {
   "cell_type": "code",
   "execution_count": 36,
   "id": "3d6b5f5a-0031-47f7-afb2-29f1ed6d4835",
   "metadata": {},
   "outputs": [
    {
     "data": {
      "text/plain": [
       "array([75.,  6.])"
      ]
     },
     "execution_count": 36,
     "metadata": {},
     "output_type": "execute_result"
    }
   ],
   "source": [
    "res.one_hot_lookup"
   ]
  },
  {
   "cell_type": "code",
   "execution_count": 37,
   "id": "d97344a6-ff4a-419e-875c-cfa73a47963f",
   "metadata": {},
   "outputs": [
    {
     "data": {
      "text/plain": [
       "array([0., 0., 0., 0., 0., 0., 0., 0., 0., 0., 0., 0., 0., 0., 0., 0., 0.,\n",
       "       0., 0., 0., 0., 0., 0., 0., 0., 0., 0., 0., 0., 0., 0., 0., 0., 0.,\n",
       "       0., 0., 0., 0., 0., 0., 0., 0., 0., 0., 0., 0., 0., 0., 0., 0.])"
      ]
     },
     "execution_count": 37,
     "metadata": {},
     "output_type": "execute_result"
    }
   ],
   "source": [
    "res.data_subjects_indexed[0]"
   ]
  },
  {
   "cell_type": "code",
   "execution_count": 38,
   "id": "39223083-e7d7-4a67-bce7-aff237846ab5",
   "metadata": {},
   "outputs": [],
   "source": [
    "other = np.ones((54, 5))\n",
    "\n",
    "fake_dsl = DataSubjectList(one_hot_lookup=np.array([]), data_subjects_indexed=np.empty_like(other))"
   ]
  },
  {
   "cell_type": "code",
   "execution_count": 39,
   "id": "f46b7a6d-43b9-4e1c-a548-78a302be261f",
   "metadata": {},
   "outputs": [
    {
     "name": "stdout",
     "output_type": "stream",
     "text": [
      "dsls starting shape:  (2, 3, 4, 54) (2, 3, 54, 7)\n",
      "(2, 3, 54, 7)\n",
      "target_shapes (3, 4, 1) (3, 1, 7)\n",
      "summed_ds (108, 3, 4, 1) (108, 3, 1, 7)\n"
     ]
    },
    {
     "data": {
      "text/plain": [
       "(4, 3, 4, 7)"
      ]
     },
     "execution_count": 39,
     "metadata": {},
     "output_type": "execute_result"
    }
   ],
   "source": [
    "from syft import GammaTensor, lazyrepeatarray\n",
    "\n",
    "def test_dot_matmul():\n",
    "    \n",
    "    # 2, 3, 4, 54\n",
    "    gt1 = GammaTensor(\n",
    "        child=np.random.random((3, 4, 54)), \n",
    "        data_subjects=DataSubjectList.from_objs(\n",
    "            np.concatenate((\n",
    "                np.random.choice([\"Ishan\"], (1, 3, 4, 54)),\n",
    "                np.random.choice([\"John Cena\"], (1, 3, 4, 54))\n",
    "            )),\n",
    "        ),\n",
    "        min_vals=lazyrepeatarray(0, (3, 4, 54)) , \n",
    "        max_vals=lazyrepeatarray(1, (3, 4, 54))\n",
    "    )\n",
    "    \n",
    "    # 2, 3, 54, 7\n",
    "    gt2 = GammaTensor(\n",
    "        child=np.random.random((3, 54, 7)), \n",
    "        data_subjects=DataSubjectList.from_objs(\n",
    "            np.concatenate(( \n",
    "                np.random.choice([\"Hulk Hogan\"], (1, 3, 54, 7)),\n",
    "                np.random.choice([\"Potato\"], (1, 3, 54, 7))\n",
    "            )),\n",
    "        ),\n",
    "        min_vals=lazyrepeatarray(0, (3, 54, 7)) , \n",
    "        max_vals=lazyrepeatarray(1, (3, 54, 7))\n",
    "    )\n",
    "    print(\"dsls starting shape: \", gt1.data_subjects.shape, gt2.data_subjects.shape)\n",
    "    return matmul(gt1.data_subjects, gt2.data_subjects)\n",
    "\n",
    "res3d = test_dot_matmul()\n",
    "res3d.shape  # ideally: (4, 3, 4, 3, 7)"
   ]
  },
  {
   "cell_type": "code",
   "execution_count": 40,
   "id": "5fdc15ac-db10-40fc-8c0c-608f45d45996",
   "metadata": {},
   "outputs": [],
   "source": [
    "gt1 = GammaTensor(\n",
    "    child=np.random.random((3, 4, 54)), \n",
    "    data_subjects=DataSubjectList.from_objs(\n",
    "        np.concatenate((\n",
    "            np.random.choice([\"Ishan\"], (1, 3, 4, 54)),\n",
    "            np.random.choice([\"John Cena\"], (1, 3, 4, 54))\n",
    "        )),\n",
    "    ),\n",
    "    min_vals=lazyrepeatarray(0, (3, 4, 54)) , \n",
    "    max_vals=lazyrepeatarray(1, (3, 4, 54))\n",
    ")\n",
    "\n",
    "# 2, 3, 54, 7\n",
    "gt2 = GammaTensor(\n",
    "    child=np.random.random((3, 54, 7)), \n",
    "    data_subjects=DataSubjectList.from_objs(\n",
    "        np.concatenate(( \n",
    "            np.random.choice([\"Hulk Hogan\"], (1, 3, 54, 7)),\n",
    "            np.random.choice([\"Potato\"], (1, 3, 54, 7))\n",
    "        )),\n",
    "    ),\n",
    "    min_vals=lazyrepeatarray(0, (3, 54, 7)) , \n",
    "    max_vals=lazyrepeatarray(1, (3, 54, 7))\n",
    ")"
   ]
  },
  {
   "cell_type": "code",
   "execution_count": 41,
   "id": "44bdf376-8ed2-4bf4-bfa9-c05c2740599a",
   "metadata": {},
   "outputs": [
    {
     "name": "stdout",
     "output_type": "stream",
     "text": [
      "<class 'numpy.ndarray'> <class 'numpy.ndarray'>\n"
     ]
    },
    {
     "data": {
      "text/plain": [
       "GammaTensor(child=array([[[13.645503  , 11.18802395, 10.44305169, 12.88963508,\n",
       "         12.79018112, 10.54135175, 13.93540044],\n",
       "        [16.85201855, 13.08831959, 13.64485626, 14.79196451,\n",
       "         15.29469032, 10.70523693, 15.3387941 ],\n",
       "        [16.71520654, 14.99010471, 14.81571907, 16.13523987,\n",
       "         15.32654469, 12.69996052, 18.32918139],\n",
       "        [13.33973597, 11.96921651, 12.70950763, 12.37012276,\n",
       "         12.80590858,  9.82333202, 13.11788468]],\n",
       "\n",
       "       [[14.18197808, 17.78427524, 16.08991983, 14.8612387 ,\n",
       "         15.78496692, 14.82211831, 15.80313999],\n",
       "        [10.8810428 , 14.906605  , 13.91966484, 11.06649453,\n",
       "         14.09588793, 11.87094546, 13.82195106],\n",
       "        [13.11386525, 16.89508302, 14.54458072, 14.7673369 ,\n",
       "         14.68841214, 13.21792286, 16.80650405],\n",
       "        [13.52879867, 15.30218466, 14.63995421, 11.78189624,\n",
       "         13.72311309, 14.33335032, 15.61641506]],\n",
       "\n",
       "       [[14.03427669, 13.1506784 , 13.6233473 , 12.67456226,\n",
       "         12.40862756, 12.92997812, 12.09056093],\n",
       "        [14.33371427, 14.02208872, 13.7731341 , 13.2034183 ,\n",
       "         12.73813352, 13.01150778, 13.35001373],\n",
       "        [13.00860293, 13.25871595, 13.24555344, 12.41128129,\n",
       "         11.56215407, 12.94214601, 12.27143935],\n",
       "        [12.07961287, 12.60420917, 12.02382355, 12.9167337 ,\n",
       "         11.69922424, 13.50065488, 12.53823703]]]), data_subjects=<syft.core.adp.data_subject_list.DataSubjectList object at 0x7efbbdf26a60>, min_vals=<lazyrepeatarray data: 0 -> shape: (3, 4, 7)>, max_vals=<lazyrepeatarray data: 54 -> shape: (3, 4, 7)>, is_linear=True, func=<function GammaTensor.__matmul__.<locals>._matmul at 0x7efbbdf330d0>, id='178466398', state={'1644843801': GammaTensor(child=array([[[5.94929050e-01, 1.58997480e-01, 5.34175046e-02, 3.37781546e-01,\n",
       "         4.15176002e-01, 7.43358960e-01, 3.57992075e-01, 1.58348963e-01,\n",
       "         9.87679224e-01, 6.87914288e-01, 8.68493842e-02, 2.62781384e-01,\n",
       "         6.63965588e-01, 6.91517299e-01, 2.32002096e-01, 3.35473862e-01,\n",
       "         5.09982727e-01, 7.21827866e-01, 5.41198680e-02, 3.63706200e-01,\n",
       "         8.25373975e-02, 6.46357894e-01, 9.44815842e-02, 8.34792310e-01,\n",
       "         4.56153393e-01, 6.04037613e-01, 2.29917845e-01, 4.01969297e-02,\n",
       "         6.62251493e-01, 1.28730992e-01, 5.80860603e-01, 8.08959415e-01,\n",
       "         2.60308737e-01, 8.03228307e-01, 5.29024060e-01, 9.56605686e-01,\n",
       "         5.80935124e-02, 9.93352486e-01, 4.15587340e-01, 4.12816658e-01,\n",
       "         6.95461297e-01, 2.12880130e-01, 9.05817770e-02, 6.84216134e-01,\n",
       "         2.01007167e-01, 7.83135412e-01, 5.74248514e-01, 6.07467121e-01,\n",
       "         1.73233079e-01, 9.43608885e-01, 1.43823007e-01, 7.26775723e-01,\n",
       "         1.61194552e-01, 1.34033598e-01],\n",
       "        [9.62622312e-01, 1.47583030e-01, 3.44398447e-01, 5.51574309e-01,\n",
       "         8.97512260e-01, 1.06685690e-01, 6.80783826e-01, 4.55452030e-02,\n",
       "         7.23972488e-01, 2.86701199e-01, 9.54065220e-01, 5.05918518e-01,\n",
       "         1.14564576e-01, 3.83704362e-01, 5.66445641e-01, 9.28932160e-02,\n",
       "         9.92236616e-01, 6.52806247e-01, 2.06547274e-01, 8.18084647e-01,\n",
       "         2.06687652e-01, 1.43528955e-01, 5.97092394e-01, 6.21239309e-02,\n",
       "         6.16937782e-01, 7.96951611e-01, 4.98262270e-01, 4.65400851e-01,\n",
       "         1.54314994e-01, 9.50160358e-01, 7.47028330e-01, 9.21560006e-01,\n",
       "         6.82635462e-01, 4.70390476e-01, 7.07534963e-01, 6.60230051e-01,\n",
       "         6.25613701e-01, 7.32088759e-01, 3.97741209e-01, 8.10919759e-01,\n",
       "         6.28340524e-01, 6.01016468e-01, 7.79737009e-01, 9.25972917e-01,\n",
       "         7.23106474e-01, 1.80591915e-01, 5.68175023e-02, 6.00752005e-01,\n",
       "         1.19967060e-01, 4.36203712e-02, 2.70948120e-01, 6.79776283e-01,\n",
       "         8.25670372e-01, 3.43329290e-01],\n",
       "        [9.12117144e-01, 1.09574518e-02, 1.51839175e-01, 5.93420885e-01,\n",
       "         5.87402567e-03, 5.87620481e-01, 8.51440998e-01, 6.40925408e-01,\n",
       "         6.03908671e-01, 1.06083151e-01, 3.50024663e-01, 6.30366662e-01,\n",
       "         8.82526016e-01, 9.75993971e-01, 6.42060982e-01, 9.25451725e-01,\n",
       "         4.79585458e-01, 6.82750265e-02, 1.22182624e-01, 7.31088120e-01,\n",
       "         5.90310343e-01, 3.02543864e-01, 9.95042104e-01, 5.02667998e-01,\n",
       "         8.28714018e-01, 6.34429512e-01, 5.27742148e-01, 6.75027150e-01,\n",
       "         9.12118084e-01, 1.06314869e-01, 8.44560784e-01, 9.14823664e-01,\n",
       "         7.37974476e-01, 7.31568386e-01, 4.31687206e-01, 3.50674722e-01,\n",
       "         7.74605737e-01, 5.46211529e-01, 2.60575448e-01, 9.00033944e-02,\n",
       "         7.95877251e-01, 7.88912354e-01, 2.03356972e-01, 8.03869145e-01,\n",
       "         9.56025792e-01, 6.09640600e-01, 8.38293616e-01, 9.29637826e-01,\n",
       "         6.28332491e-01, 5.79872537e-01, 4.36174301e-01, 4.49464831e-01,\n",
       "         9.80704012e-01, 5.85857814e-01],\n",
       "        [2.65388858e-02, 3.92799870e-02, 5.30343424e-01, 1.62206333e-01,\n",
       "         7.72089332e-01, 8.45460972e-01, 5.35087862e-01, 7.04837172e-01,\n",
       "         2.04768807e-01, 9.48883411e-02, 2.17555524e-01, 7.16814580e-01,\n",
       "         7.01390139e-01, 3.18255826e-01, 5.56205788e-01, 3.66697817e-02,\n",
       "         9.46811660e-02, 2.97047431e-01, 9.65381395e-01, 9.39191838e-01,\n",
       "         2.09808793e-01, 1.77618954e-01, 3.92529237e-01, 6.16923608e-01,\n",
       "         9.10793777e-03, 4.05841430e-01, 6.41433221e-01, 7.12235029e-01,\n",
       "         3.29539358e-01, 1.82861462e-01, 2.40499429e-01, 5.29652300e-01,\n",
       "         5.63690884e-01, 5.63088279e-01, 3.49771098e-01, 5.18863848e-01,\n",
       "         6.45002577e-01, 8.62299932e-01, 2.69982644e-01, 5.39081832e-01,\n",
       "         9.45703494e-02, 4.19573677e-01, 2.97308256e-01, 6.81860736e-01,\n",
       "         9.89171700e-01, 2.37267180e-01, 4.85898646e-01, 9.70333432e-01,\n",
       "         9.59031093e-01, 5.31679149e-01, 4.35584965e-01, 2.62290637e-01,\n",
       "         8.13355633e-02, 2.30516695e-01]],\n",
       "\n",
       "       [[6.39224440e-01, 6.78747759e-01, 1.48238630e-01, 2.81912181e-01,\n",
       "         9.33890281e-01, 8.06041858e-01, 4.52854874e-01, 9.11615255e-01,\n",
       "         8.94123930e-01, 7.49267691e-01, 4.80811804e-01, 6.91633781e-01,\n",
       "         4.20931221e-01, 5.13217801e-02, 8.59064286e-01, 3.95035099e-01,\n",
       "         9.64196306e-01, 6.16210356e-01, 2.19760211e-01, 2.41156174e-01,\n",
       "         2.87391899e-01, 1.13400663e-01, 6.79335952e-01, 3.35083535e-01,\n",
       "         3.94672859e-01, 6.96314337e-01, 4.98008513e-01, 1.40475254e-01,\n",
       "         5.96712343e-01, 4.84047063e-01, 9.37528913e-01, 5.82296211e-01,\n",
       "         9.17504968e-01, 5.19213499e-01, 9.46513700e-01, 6.62716829e-01,\n",
       "         9.20573933e-01, 4.93082533e-01, 2.83671384e-01, 9.41636838e-01,\n",
       "         5.38740476e-01, 3.41024366e-02, 2.61214249e-01, 9.77202340e-01,\n",
       "         3.28228830e-01, 9.17391775e-01, 3.25138411e-01, 1.51547692e-01,\n",
       "         8.62143231e-01, 5.35211451e-02, 9.29445207e-01, 4.84352265e-01,\n",
       "         6.05336833e-01, 6.07024912e-01],\n",
       "        [3.00396484e-01, 5.28725946e-01, 9.37065229e-01, 7.03669964e-01,\n",
       "         6.25854979e-01, 4.12080699e-01, 6.46104320e-01, 6.51916274e-01,\n",
       "         4.85425930e-02, 9.88839778e-01, 2.30799991e-01, 4.59094489e-01,\n",
       "         5.39464790e-01, 9.48655768e-01, 4.35877582e-02, 6.22061817e-01,\n",
       "         1.08229069e-01, 6.85790500e-01, 7.54460213e-01, 3.72129221e-01,\n",
       "         8.61337095e-02, 1.90753464e-01, 4.11813815e-01, 1.38181221e-01,\n",
       "         5.15945095e-01, 1.71859816e-01, 1.66128600e-01, 3.05238465e-01,\n",
       "         2.14368159e-01, 8.25571050e-01, 8.44365149e-01, 1.33188672e-01,\n",
       "         6.46189558e-02, 8.82154919e-01, 4.16288942e-01, 8.87690139e-01,\n",
       "         1.33002608e-01, 7.75812288e-01, 3.06067861e-01, 6.45702316e-01,\n",
       "         8.90258366e-01, 9.74567698e-01, 9.49808982e-01, 2.30874699e-01,\n",
       "         2.54203396e-01, 5.77618637e-01, 4.00251927e-01, 3.21894593e-01,\n",
       "         5.13989117e-02, 4.04633479e-01, 4.59079856e-01, 2.74619529e-01,\n",
       "         9.04428755e-01, 9.25243718e-02],\n",
       "        [2.70469842e-01, 2.24050258e-01, 1.53960489e-01, 8.14333989e-01,\n",
       "         9.11953362e-01, 3.62115779e-01, 5.05870233e-01, 7.60367099e-01,\n",
       "         5.83280846e-01, 9.82077241e-01, 2.56973861e-01, 8.80816308e-01,\n",
       "         4.31033235e-01, 2.51963211e-01, 9.95356787e-01, 9.85168707e-01,\n",
       "         4.10431241e-01, 2.29416332e-01, 3.30184921e-01, 9.68351406e-02,\n",
       "         8.96659081e-01, 4.36964359e-01, 2.54276480e-01, 7.80308899e-01,\n",
       "         2.76404872e-02, 3.50361749e-01, 9.29755404e-01, 2.11898405e-01,\n",
       "         1.54897919e-01, 5.08843740e-03, 2.23784005e-01, 3.33363107e-01,\n",
       "         2.54572608e-01, 8.06448612e-01, 9.76305810e-01, 5.04206542e-01,\n",
       "         5.14279326e-01, 7.71764250e-01, 9.72584014e-01, 6.49392646e-01,\n",
       "         4.38750966e-01, 5.16597316e-01, 3.06809918e-01, 5.09995957e-01,\n",
       "         6.71116850e-02, 8.86885661e-01, 2.80200802e-01, 8.49422991e-01,\n",
       "         7.33501325e-01, 8.25777416e-01, 9.43324047e-01, 8.22518915e-01,\n",
       "         7.48144260e-01, 1.00264009e-01],\n",
       "        [3.43053622e-01, 9.27331539e-01, 3.83955479e-01, 1.13903416e-01,\n",
       "         9.16269325e-01, 6.52820775e-01, 9.53854844e-01, 9.46065714e-01,\n",
       "         7.47243797e-01, 1.12716283e-01, 5.80158319e-01, 7.73097898e-01,\n",
       "         1.79093491e-01, 8.94784220e-01, 8.64479888e-01, 1.84514075e-01,\n",
       "         5.21588315e-01, 4.37406339e-01, 1.37767570e-01, 6.06518259e-01,\n",
       "         8.24644282e-01, 4.67490494e-01, 3.45088909e-01, 9.78376955e-01,\n",
       "         8.14171489e-01, 4.27850165e-02, 7.58509299e-01, 1.37436607e-01,\n",
       "         4.97501114e-02, 4.35820125e-01, 5.78237321e-01, 1.74792919e-01,\n",
       "         9.15235204e-01, 2.34699138e-01, 6.18569900e-01, 7.52793849e-01,\n",
       "         9.89152510e-02, 2.59065122e-01, 3.09292747e-01, 5.40448460e-01,\n",
       "         9.59021323e-01, 2.41280750e-01, 8.26004772e-01, 3.58677859e-01,\n",
       "         1.32100701e-02, 2.59085291e-01, 8.53944367e-01, 1.63942141e-01,\n",
       "         7.93561981e-01, 2.07700679e-01, 1.93996622e-01, 9.83485848e-02,\n",
       "         1.93927028e-01, 6.54759550e-01]],\n",
       "\n",
       "       [[7.66010105e-01, 3.92874327e-01, 4.44530833e-01, 1.44220047e-01,\n",
       "         9.82347217e-01, 6.32318294e-02, 4.48826083e-01, 8.19033022e-02,\n",
       "         9.82970572e-01, 2.77615023e-01, 3.22001337e-01, 8.64829883e-01,\n",
       "         6.45846513e-01, 2.85349348e-01, 5.00762936e-02, 2.49830212e-01,\n",
       "         9.91635163e-01, 5.88469546e-01, 8.14590658e-01, 1.17650136e-02,\n",
       "         7.86057029e-01, 5.18176224e-01, 5.91121080e-01, 6.27539490e-01,\n",
       "         3.14435966e-01, 5.70617182e-01, 7.63232731e-02, 1.85277981e-01,\n",
       "         1.46267849e-01, 6.38580782e-01, 5.19255009e-01, 5.06451507e-01,\n",
       "         9.30508148e-02, 3.99261892e-01, 7.43147911e-01, 3.79677577e-01,\n",
       "         3.72826373e-01, 4.08258444e-01, 4.78612991e-01, 4.85853402e-01,\n",
       "         5.00797518e-01, 3.72291914e-01, 2.15506726e-01, 6.92474459e-01,\n",
       "         6.48519421e-01, 1.57027162e-01, 1.68893583e-01, 9.56219567e-01,\n",
       "         9.76306739e-02, 2.73763005e-01, 3.24435221e-01, 1.32518055e-01,\n",
       "         9.00334477e-01, 4.71859046e-01],\n",
       "        [9.96416230e-01, 7.70886973e-01, 2.26585742e-02, 1.81149665e-01,\n",
       "         2.61957022e-01, 7.33908494e-01, 9.04270722e-01, 2.41365114e-01,\n",
       "         5.75608690e-01, 8.27349415e-01, 2.16708740e-01, 5.33334618e-01,\n",
       "         7.25865130e-01, 4.00133646e-01, 7.09331199e-01, 3.75020976e-01,\n",
       "         7.36765599e-01, 9.34797113e-01, 8.67294404e-01, 2.44287584e-01,\n",
       "         7.67239391e-01, 9.21669159e-01, 7.30030925e-01, 2.07193211e-01,\n",
       "         2.72866216e-03, 1.64948350e-01, 6.15954877e-01, 7.05146580e-01,\n",
       "         6.57047987e-02, 1.61534930e-01, 7.39317833e-01, 2.72873447e-01,\n",
       "         6.21038592e-01, 2.25483213e-01, 3.31756034e-01, 2.53696305e-01,\n",
       "         5.04218240e-01, 4.88792620e-01, 6.75257289e-01, 4.42210334e-01,\n",
       "         5.96680044e-02, 4.01296487e-01, 7.89434748e-01, 2.23137617e-01,\n",
       "         6.61118756e-02, 4.68169322e-01, 4.39174077e-01, 5.42270509e-01,\n",
       "         5.53405523e-01, 9.24573149e-03, 7.00019954e-01, 3.63697366e-01,\n",
       "         1.73001402e-02, 8.55010847e-05],\n",
       "        [2.99651795e-01, 9.57737998e-01, 9.05874700e-01, 5.16761846e-02,\n",
       "         4.40172619e-01, 2.68056851e-02, 6.43879042e-01, 7.42407511e-01,\n",
       "         1.04489982e-01, 7.42333719e-02, 2.01203142e-01, 5.55236999e-01,\n",
       "         1.14009399e-01, 5.06424699e-02, 7.38411461e-02, 7.67429032e-01,\n",
       "         7.94232386e-01, 4.76964699e-01, 6.49887263e-01, 3.64714241e-02,\n",
       "         3.32656843e-01, 1.53737578e-02, 7.22362735e-01, 3.66247490e-01,\n",
       "         1.62628791e-01, 7.23874580e-02, 3.51721816e-01, 8.85144142e-01,\n",
       "         5.88621695e-01, 7.42747704e-02, 7.07196115e-01, 2.41870356e-02,\n",
       "         9.55734902e-01, 8.90718530e-01, 3.39140830e-01, 7.19761629e-01,\n",
       "         8.25358036e-01, 9.91101507e-01, 7.48182140e-01, 1.91064921e-01,\n",
       "         3.33631248e-02, 3.05665915e-01, 4.01218142e-01, 8.32415855e-01,\n",
       "         1.90890363e-01, 8.74214973e-01, 7.18278424e-01, 3.13514645e-01,\n",
       "         4.11583654e-01, 2.67470234e-02, 6.98968542e-01, 4.62282084e-01,\n",
       "         8.68066193e-02, 6.22979293e-01],\n",
       "        [7.78375855e-02, 3.84504014e-01, 4.13157790e-01, 8.99259825e-01,\n",
       "         1.35140911e-01, 9.48181285e-02, 5.91450675e-01, 1.65369262e-01,\n",
       "         4.73989869e-02, 6.29957676e-01, 2.25964432e-01, 7.23247818e-01,\n",
       "         3.22241437e-01, 3.63597731e-01, 2.98353400e-01, 7.45410412e-01,\n",
       "         7.44208464e-01, 2.09704611e-01, 2.48754933e-02, 7.42302259e-01,\n",
       "         2.47516768e-01, 4.45388899e-01, 5.94453323e-01, 1.81389858e-01,\n",
       "         8.32147461e-01, 4.40212662e-01, 6.44904410e-01, 9.93302244e-02,\n",
       "         4.52330115e-01, 2.60451455e-01, 3.26880242e-01, 5.79994405e-01,\n",
       "         9.89730803e-01, 7.58277507e-01, 9.65690911e-01, 1.25006215e-01,\n",
       "         1.99116601e-01, 4.77294129e-01, 6.41028095e-01, 8.32071690e-01,\n",
       "         5.65890739e-02, 5.39248271e-01, 4.43183190e-01, 5.61329450e-01,\n",
       "         4.99935169e-01, 6.55923015e-01, 9.99263993e-02, 8.03200213e-01,\n",
       "         1.00107646e-01, 5.97190733e-01, 4.12500588e-02, 6.31101101e-01,\n",
       "         5.91649230e-01, 1.27109489e-01]]]), data_subjects=<syft.core.adp.data_subject_list.DataSubjectList object at 0x7efbbdf846d0>, min_vals=<lazyrepeatarray data: 0 -> shape: (3, 4, 54)>, max_vals=<lazyrepeatarray data: 1 -> shape: (3, 4, 54)>, is_linear=True, func=<function no_op at 0x7efbc406ee50>, id='1644843801', state={}), '1471416551': GammaTensor(child=array([[[0.2095516 , 0.41106568, 0.0325795 , ..., 0.85701974,\n",
       "         0.1816057 , 0.85183104],\n",
       "        [0.05433279, 0.11047613, 0.86225274, ..., 0.30831217,\n",
       "         0.37490524, 0.83638122],\n",
       "        [0.44641797, 0.77857005, 0.78708045, ..., 0.32377784,\n",
       "         0.76820088, 0.28053211],\n",
       "        ...,\n",
       "        [0.80593962, 0.56010902, 0.23576849, ..., 0.50895715,\n",
       "         0.61188603, 0.52418197],\n",
       "        [0.98443557, 0.42253966, 0.05796432, ..., 0.15729819,\n",
       "         0.39766412, 0.80608153],\n",
       "        [0.86246869, 0.62885667, 0.99912609, ..., 0.02713907,\n",
       "         0.38433404, 0.16201688]],\n",
       "\n",
       "       [[0.44708092, 0.61862587, 0.67856091, ..., 0.60383083,\n",
       "         0.87829923, 0.26614718],\n",
       "        [0.78088535, 0.45334363, 0.78459574, ..., 0.40143469,\n",
       "         0.96587416, 0.21044002],\n",
       "        [0.7408234 , 0.75983936, 0.35551876, ..., 0.75208697,\n",
       "         0.51530935, 0.64798017],\n",
       "        ...,\n",
       "        [0.25893778, 0.80209298, 0.16973928, ..., 0.79285667,\n",
       "         0.57775352, 0.50936771],\n",
       "        [0.10383382, 0.91141842, 0.39918508, ..., 0.0017407 ,\n",
       "         0.64292704, 0.23042772],\n",
       "        [0.02407464, 0.91692349, 0.66643463, ..., 0.73502805,\n",
       "         0.37512895, 0.03126329]],\n",
       "\n",
       "       [[0.909156  , 0.36155502, 0.6491811 , ..., 0.07337795,\n",
       "         0.68358791, 0.55089729],\n",
       "        [0.13497128, 0.14878423, 0.82981458, ..., 0.88739356,\n",
       "         0.72872039, 0.371202  ],\n",
       "        [0.09795972, 0.55896034, 0.95319439, ..., 0.47140301,\n",
       "         0.83826438, 0.84809037],\n",
       "        ...,\n",
       "        [0.86079953, 0.72043448, 0.22420469, ..., 0.46393657,\n",
       "         0.44908224, 0.31654361],\n",
       "        [0.95022147, 0.66974983, 0.19847689, ..., 0.10563673,\n",
       "         0.35352228, 0.21750043],\n",
       "        [0.5480626 , 0.27481179, 0.37314858, ..., 0.9521144 ,\n",
       "         0.38379039, 0.24313772]]]), data_subjects=<syft.core.adp.data_subject_list.DataSubjectList object at 0x7efbbdf2a370>, min_vals=<lazyrepeatarray data: 0 -> shape: (3, 54, 7)>, max_vals=<lazyrepeatarray data: 1 -> shape: (3, 54, 7)>, is_linear=True, func=<function no_op at 0x7efbc406ee50>, id='1471416551', state={})})"
      ]
     },
     "execution_count": 41,
     "metadata": {},
     "output_type": "execute_result"
    }
   ],
   "source": [
    "gt1 @ gt2"
   ]
  },
  {
   "cell_type": "code",
   "execution_count": 42,
   "id": "230c3635-720f-43e2-9276-ab67e5fc47ae",
   "metadata": {},
   "outputs": [
    {
     "data": {
      "text/plain": [
       "((3, 4, 54), (3, 54, 7))"
      ]
     },
     "execution_count": 42,
     "metadata": {},
     "output_type": "execute_result"
    }
   ],
   "source": [
    "gt1.shape, gt2.shape"
   ]
  },
  {
   "cell_type": "code",
   "execution_count": 43,
   "id": "03485edd-c556-47a6-bce8-3f63f297d342",
   "metadata": {},
   "outputs": [
    {
     "name": "stdout",
     "output_type": "stream",
     "text": [
      "<class 'numpy.ndarray'> <class 'numpy.ndarray'>\n"
     ]
    },
    {
     "data": {
      "text/plain": [
       "<syft.core.adp.data_subject_list.DataSubjectList at 0x7efbbdf26b20>"
      ]
     },
     "execution_count": 43,
     "metadata": {},
     "output_type": "execute_result"
    }
   ],
   "source": [
    "DataSubjectList.matmul(gt1.data_subjects, gt2.data_subjects)"
   ]
  },
  {
   "cell_type": "code",
   "execution_count": null,
   "id": "2f595eba-ebf7-4c68-ba08-3fc314cbae71",
   "metadata": {},
   "outputs": [],
   "source": []
  }
 ],
 "metadata": {
  "kernelspec": {
   "display_name": "Python 3 (ipykernel)",
   "language": "python",
   "name": "python3"
  },
  "language_info": {
   "codemirror_mode": {
    "name": "ipython",
    "version": 3
   },
   "file_extension": ".py",
   "mimetype": "text/x-python",
   "name": "python",
   "nbconvert_exporter": "python",
   "pygments_lexer": "ipython3",
   "version": "3.9.7"
  }
 },
 "nbformat": 4,
 "nbformat_minor": 5
}

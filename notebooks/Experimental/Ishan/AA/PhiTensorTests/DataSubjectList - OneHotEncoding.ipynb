{
 "cells": [
  {
   "cell_type": "code",
   "execution_count": 2,
   "id": "f6de60a4",
   "metadata": {},
   "outputs": [],
   "source": [
    "import numpy as np\n",
    "from syft import GammaTensor, DataSubjectList"
   ]
  },
  {
   "cell_type": "markdown",
   "id": "c6ac214a",
   "metadata": {},
   "source": [
    "### Operations on Data subject list\n",
    "- add\n",
    "- subtract\n",
    "- matmul\n",
    "- dot"
   ]
  },
  {
   "cell_type": "markdown",
   "id": "660c5486",
   "metadata": {},
   "source": [
    "## how to create the one hot encoding for DSL"
   ]
  },
  {
   "cell_type": "code",
   "execution_count": 16,
   "id": "ff91a4cc",
   "metadata": {},
   "outputs": [],
   "source": [
    "data_subjects = np.array([[\"A\", \"B\", \"B\",], [\"B\", \"A\", \"A\"]], dtype=object)"
   ]
  },
  {
   "cell_type": "code",
   "execution_count": 96,
   "id": "21c3d7c1",
   "metadata": {},
   "outputs": [
    {
     "data": {
      "text/plain": [
       "array([['A', 'B', 'B'],\n",
       "       ['B', 'A', 'A']], dtype=object)"
      ]
     },
     "execution_count": 96,
     "metadata": {},
     "output_type": "execute_result"
    }
   ],
   "source": [
    "data_subjects"
   ]
  },
  {
   "cell_type": "code",
   "execution_count": 166,
   "id": "19384428",
   "metadata": {},
   "outputs": [],
   "source": [
    "def convert_to_onehot(data_subjects):\n",
    "    child_shape = data_subjects.shape\n",
    "    unique_ds = np.unique(data_subjects)\n",
    "    dsl_index = np.zeros((len(unique_ds), *child_shape))\n",
    "    for k, ds in enumerate(unique_ds):\n",
    "        indexes = np.where(data_subjects==ds)\n",
    "        dsl_index[0:,][k][indexes] = 1\n",
    "    return dsl_index"
   ]
  },
  {
   "cell_type": "code",
   "execution_count": 167,
   "id": "caeacf35",
   "metadata": {},
   "outputs": [
    {
     "data": {
      "text/plain": [
       "array([['A', 'B', 'B'],\n",
       "       ['B', 'A', 'A']], dtype=object)"
      ]
     },
     "execution_count": 167,
     "metadata": {},
     "output_type": "execute_result"
    }
   ],
   "source": [
    "data_subjects"
   ]
  },
  {
   "cell_type": "code",
   "execution_count": 168,
   "id": "6f91b719",
   "metadata": {},
   "outputs": [
    {
     "data": {
      "text/plain": [
       "array([[[1., 0., 0.],\n",
       "        [0., 1., 1.]],\n",
       "\n",
       "       [[0., 1., 1.],\n",
       "        [1., 0., 0.]]])"
      ]
     },
     "execution_count": 168,
     "metadata": {},
     "output_type": "execute_result"
    }
   ],
   "source": [
    "convert_to_onehot(data_subjects)"
   ]
  },
  {
   "cell_type": "code",
   "execution_count": 169,
   "id": "1cfb2c74",
   "metadata": {},
   "outputs": [],
   "source": [
    "dsl2 = np.array([[\"A\", \"B\", \"B\", \"C\"], [\"A\", \"B\", \"A\", \"A\"], [\"C\", \"C\", \"C\", \"B\"], [\"A\", \"C\", \"A\", \"C\"]])"
   ]
  },
  {
   "cell_type": "code",
   "execution_count": 170,
   "id": "02220aad",
   "metadata": {},
   "outputs": [
    {
     "data": {
      "text/plain": [
       "array([['A', 'B', 'B', 'C'],\n",
       "       ['A', 'B', 'A', 'A'],\n",
       "       ['C', 'C', 'C', 'B'],\n",
       "       ['A', 'C', 'A', 'C']], dtype='<U1')"
      ]
     },
     "execution_count": 170,
     "metadata": {},
     "output_type": "execute_result"
    }
   ],
   "source": [
    "dsl2"
   ]
  },
  {
   "cell_type": "code",
   "execution_count": 171,
   "id": "6c483b98",
   "metadata": {},
   "outputs": [
    {
     "data": {
      "text/plain": [
       "array([[[1., 0., 0., 0.],\n",
       "        [1., 0., 1., 1.],\n",
       "        [0., 0., 0., 0.],\n",
       "        [1., 0., 1., 0.]],\n",
       "\n",
       "       [[0., 1., 1., 0.],\n",
       "        [0., 1., 0., 0.],\n",
       "        [0., 0., 0., 1.],\n",
       "        [0., 0., 0., 0.]],\n",
       "\n",
       "       [[0., 0., 0., 1.],\n",
       "        [0., 0., 0., 0.],\n",
       "        [1., 1., 1., 0.],\n",
       "        [0., 1., 0., 1.]]])"
      ]
     },
     "execution_count": 171,
     "metadata": {},
     "output_type": "execute_result"
    }
   ],
   "source": [
    "convert_to_onehot(dsl2)"
   ]
  },
  {
   "cell_type": "code",
   "execution_count": 172,
   "id": "a41678f8",
   "metadata": {},
   "outputs": [],
   "source": [
    "dsl3 = np.array([[[\"A\", \"A\", \"A\"], [\"A\", \"A\", \"A\"], [\"A\", \"A\", \"A\"]], [[\"B\", \"B\", \"B\"], [\"B\", \"B\", \"B\"], [\"B\", \"B\", \"B\"]]])"
   ]
  },
  {
   "cell_type": "code",
   "execution_count": 179,
   "id": "1aa5145f",
   "metadata": {},
   "outputs": [
    {
     "data": {
      "text/plain": [
       "array([[['A', 'A', 'A'],\n",
       "        ['A', 'A', 'A'],\n",
       "        ['A', 'A', 'A']],\n",
       "\n",
       "       [['B', 'B', 'B'],\n",
       "        ['B', 'B', 'B'],\n",
       "        ['B', 'B', 'B']]], dtype='<U1')"
      ]
     },
     "execution_count": 179,
     "metadata": {},
     "output_type": "execute_result"
    }
   ],
   "source": [
    "dsl3"
   ]
  },
  {
   "cell_type": "code",
   "execution_count": 183,
   "id": "f3772c34",
   "metadata": {},
   "outputs": [
    {
     "data": {
      "text/plain": [
       "array([[[[1., 1., 1.],\n",
       "         [1., 1., 1.],\n",
       "         [1., 1., 1.]],\n",
       "\n",
       "        [[0., 0., 0.],\n",
       "         [0., 0., 0.],\n",
       "         [0., 0., 0.]]],\n",
       "\n",
       "\n",
       "       [[[0., 0., 0.],\n",
       "         [0., 0., 0.],\n",
       "         [0., 0., 0.]],\n",
       "\n",
       "        [[1., 1., 1.],\n",
       "         [1., 1., 1.],\n",
       "         [1., 1., 1.]]]])"
      ]
     },
     "execution_count": 183,
     "metadata": {},
     "output_type": "execute_result"
    }
   ],
   "source": [
    "convert_to_onehot(dsl3)"
   ]
  },
  {
   "cell_type": "code",
   "execution_count": 182,
   "id": "3e05e896",
   "metadata": {},
   "outputs": [
    {
     "data": {
      "text/plain": [
       "(2, 2, 3, 3)"
      ]
     },
     "execution_count": 182,
     "metadata": {},
     "output_type": "execute_result"
    }
   ],
   "source": [
    "convert_to_onehot(dsl3).shape"
   ]
  },
  {
   "cell_type": "code",
   "execution_count": 201,
   "id": "a890fe43",
   "metadata": {},
   "outputs": [],
   "source": [
    "ds1 = np.array([[[\"A\", \"A\", \"A\"], [\"A\", \"A\", \"A\"], [\"A\", \"A\", \"A\"]], [[\"B\", \"B\", \"B\"], [\"B\", \"B\", \"B\"], [\"B\", \"B\", \"B\"]]])\n",
    "ds2 = np.array([[[\"B\", \"B\", \"B\"], [\"B\", \"B\", \"B\"], [\"B\", \"B\", \"B\"]], [[\"A\", \"A\", \"A\"], [\"A\", \"A\", \"A\"], [\"A\", \"A\", \"A\"]]])"
   ]
  },
  {
   "cell_type": "code",
   "execution_count": 303,
   "id": "02e45417",
   "metadata": {},
   "outputs": [
    {
     "data": {
      "text/plain": [
       "array([[['A', 'A', 'A'],\n",
       "        ['A', 'A', 'A'],\n",
       "        ['A', 'A', 'A']],\n",
       "\n",
       "       [['B', 'B', 'B'],\n",
       "        ['B', 'B', 'B'],\n",
       "        ['B', 'B', 'B']]], dtype='<U1')"
      ]
     },
     "execution_count": 303,
     "metadata": {},
     "output_type": "execute_result"
    }
   ],
   "source": [
    "ds1 # Shape of the child: (2, 3, 3)"
   ]
  },
  {
   "cell_type": "code",
   "execution_count": 304,
   "id": "b326c4be",
   "metadata": {},
   "outputs": [
    {
     "data": {
      "text/plain": [
       "array([[['B', 'B', 'B'],\n",
       "        ['B', 'B', 'B'],\n",
       "        ['B', 'B', 'B']],\n",
       "\n",
       "       [['A', 'A', 'A'],\n",
       "        ['A', 'A', 'A'],\n",
       "        ['A', 'A', 'A']]], dtype='<U1')"
      ]
     },
     "execution_count": 304,
     "metadata": {},
     "output_type": "execute_result"
    }
   ],
   "source": [
    "ds2 # Shape of the child: (2, 3, 3)"
   ]
  },
  {
   "cell_type": "code",
   "execution_count": 305,
   "id": "701f8ed0",
   "metadata": {},
   "outputs": [],
   "source": [
    "dsl1_onehot = convert_to_onehot(ds1)\n",
    "dsl2_onehot = convert_to_onehot(ds2)"
   ]
  },
  {
   "cell_type": "code",
   "execution_count": 306,
   "id": "6cb997dc",
   "metadata": {},
   "outputs": [
    {
     "data": {
      "text/plain": [
       "((2, 2, 3, 3), (2, 2, 3, 3))"
      ]
     },
     "execution_count": 306,
     "metadata": {},
     "output_type": "execute_result"
    }
   ],
   "source": [
    "dsl2_onehot.shape, dsl1_onehot.shape"
   ]
  },
  {
   "cell_type": "code",
   "execution_count": 314,
   "id": "3aa081f8",
   "metadata": {
    "scrolled": true
   },
   "outputs": [
    {
     "data": {
      "text/plain": [
       "array([[[[1, 1, 1],\n",
       "         [1, 1, 1],\n",
       "         [1, 1, 1]],\n",
       "\n",
       "        [[1, 1, 1],\n",
       "         [1, 1, 1],\n",
       "         [1, 1, 1]]],\n",
       "\n",
       "\n",
       "       [[[1, 1, 1],\n",
       "         [1, 1, 1],\n",
       "         [1, 1, 1]],\n",
       "\n",
       "        [[1, 1, 1],\n",
       "         [1, 1, 1],\n",
       "         [1, 1, 1]]]], dtype=int8)"
      ]
     },
     "execution_count": 314,
     "metadata": {},
     "output_type": "execute_result"
    }
   ],
   "source": [
    "np.logical_or(dsl1_onehot, dsl2_onehot).astype(np.int8)"
   ]
  },
  {
   "cell_type": "code",
   "execution_count": 315,
   "id": "a62f5fab",
   "metadata": {},
   "outputs": [],
   "source": [
    "ds3 = np.array([[[\"C\", \"C\", \"C\"], [\"C\", \"C\", \"C\"], [\"C\", \"C\", \"C\"]]])"
   ]
  },
  {
   "cell_type": "code",
   "execution_count": 318,
   "id": "de1a7050",
   "metadata": {},
   "outputs": [
    {
     "data": {
      "text/plain": [
       "(array([[['C', 'C', 'C'],\n",
       "         ['C', 'C', 'C'],\n",
       "         ['C', 'C', 'C']]], dtype='<U1'),\n",
       " (1, 3, 3))"
      ]
     },
     "execution_count": 318,
     "metadata": {},
     "output_type": "execute_result"
    }
   ],
   "source": [
    "ds3, ds3.shape"
   ]
  },
  {
   "cell_type": "code",
   "execution_count": 319,
   "id": "62a1fb53",
   "metadata": {},
   "outputs": [],
   "source": [
    "dsl3_onehot = convert_to_onehot(ds3)"
   ]
  },
  {
   "cell_type": "code",
   "execution_count": 320,
   "id": "a72ea633",
   "metadata": {},
   "outputs": [
    {
     "data": {
      "text/plain": [
       "array([[[[1., 1., 1.],\n",
       "         [1., 1., 1.],\n",
       "         [1., 1., 1.]]]])"
      ]
     },
     "execution_count": 320,
     "metadata": {},
     "output_type": "execute_result"
    }
   ],
   "source": [
    "dsl3_onehot"
   ]
  },
  {
   "cell_type": "code",
   "execution_count": 321,
   "id": "10887439",
   "metadata": {},
   "outputs": [
    {
     "data": {
      "text/plain": [
       "array([[['B', 'B', 'B'],\n",
       "        ['B', 'B', 'B'],\n",
       "        ['B', 'B', 'B']],\n",
       "\n",
       "       [['A', 'A', 'A'],\n",
       "        ['A', 'A', 'A'],\n",
       "        ['A', 'A', 'A']]], dtype='<U1')"
      ]
     },
     "execution_count": 321,
     "metadata": {},
     "output_type": "execute_result"
    }
   ],
   "source": [
    "ds2"
   ]
  },
  {
   "cell_type": "code",
   "execution_count": 322,
   "id": "01e7c5ff",
   "metadata": {},
   "outputs": [],
   "source": [
    "# Expand dsl3 to the output shape\n",
    "out_ds = list(set(np.unique(ds3).tolist() + np.unique(ds2).tolist()))"
   ]
  },
  {
   "cell_type": "code",
   "execution_count": 323,
   "id": "8acdc40b",
   "metadata": {},
   "outputs": [
    {
     "data": {
      "text/plain": [
       "['B', 'A', 'C']"
      ]
     },
     "execution_count": 323,
     "metadata": {},
     "output_type": "execute_result"
    }
   ],
   "source": [
    "out_ds"
   ]
  },
  {
   "cell_type": "code",
   "execution_count": 300,
   "id": "2ad26ab7",
   "metadata": {},
   "outputs": [],
   "source": [
    "def expand_ds_onehot(ds_onehot,input_ds, out_ds_list):\n",
    "    expanded_onehot = np.zeros(((len(out_ds), *ds_onehot.shape[1:])))\n",
    "    for cur_idx, ds in enumerate(input_ds):\n",
    "        idx = out_ds_list.index(ds)\n",
    "        print(ds, idx, cur_idx)\n",
    "        expanded_onehot[idx] = ds_onehot[cur_idx]\n",
    "    print(\"Expand DS Shape\", expanded_onehot.shape)\n",
    "    return expanded_onehot"
   ]
  },
  {
   "cell_type": "code",
   "execution_count": 328,
   "id": "c7891904",
   "metadata": {},
   "outputs": [
    {
     "name": "stdout",
     "output_type": "stream",
     "text": [
      "C 2 0\n",
      "Expand DS Shape (3, 1, 3, 3)\n"
     ]
    },
    {
     "data": {
      "text/plain": [
       "array([[[[0., 0., 0.],\n",
       "         [0., 0., 0.],\n",
       "         [0., 0., 0.]]],\n",
       "\n",
       "\n",
       "       [[[0., 0., 0.],\n",
       "         [0., 0., 0.],\n",
       "         [0., 0., 0.]]],\n",
       "\n",
       "\n",
       "       [[[1., 1., 1.],\n",
       "         [1., 1., 1.],\n",
       "         [1., 1., 1.]]]])"
      ]
     },
     "execution_count": 328,
     "metadata": {},
     "output_type": "execute_result"
    }
   ],
   "source": [
    "# DSL 3\n",
    "\n",
    "input_ds = np.unique(ds3).tolist()\n",
    "expanded_dsonehot_3 = expand_ds_onehot(dsl3_onehot, input_ds, out_ds)\n",
    "expanded_dsonehot_3"
   ]
  },
  {
   "cell_type": "code",
   "execution_count": 329,
   "id": "3b95c48c",
   "metadata": {},
   "outputs": [
    {
     "name": "stdout",
     "output_type": "stream",
     "text": [
      "A 1 0\n",
      "B 0 1\n",
      "Expand DS Shape (3, 2, 3, 3)\n"
     ]
    },
    {
     "data": {
      "text/plain": [
       "array([[[[1., 1., 1.],\n",
       "         [1., 1., 1.],\n",
       "         [1., 1., 1.]],\n",
       "\n",
       "        [[0., 0., 0.],\n",
       "         [0., 0., 0.],\n",
       "         [0., 0., 0.]]],\n",
       "\n",
       "\n",
       "       [[[0., 0., 0.],\n",
       "         [0., 0., 0.],\n",
       "         [0., 0., 0.]],\n",
       "\n",
       "        [[1., 1., 1.],\n",
       "         [1., 1., 1.],\n",
       "         [1., 1., 1.]]],\n",
       "\n",
       "\n",
       "       [[[0., 0., 0.],\n",
       "         [0., 0., 0.],\n",
       "         [0., 0., 0.]],\n",
       "\n",
       "        [[0., 0., 0.],\n",
       "         [0., 0., 0.],\n",
       "         [0., 0., 0.]]]])"
      ]
     },
     "execution_count": 329,
     "metadata": {},
     "output_type": "execute_result"
    }
   ],
   "source": [
    "# DSL 2\n",
    "\n",
    "input_ds = np.unique(ds2).tolist()\n",
    "expanded_dsonehot_2 = expand_ds_onehot(dsl2_onehot, input_ds, out_ds)\n",
    "expanded_dsonehot_2"
   ]
  },
  {
   "cell_type": "code",
   "execution_count": 331,
   "id": "b063dbf7",
   "metadata": {},
   "outputs": [
    {
     "data": {
      "text/plain": [
       "array([[[[1, 1, 1],\n",
       "         [1, 1, 1],\n",
       "         [1, 1, 1]],\n",
       "\n",
       "        [[0, 0, 0],\n",
       "         [0, 0, 0],\n",
       "         [0, 0, 0]]],\n",
       "\n",
       "\n",
       "       [[[0, 0, 0],\n",
       "         [0, 0, 0],\n",
       "         [0, 0, 0]],\n",
       "\n",
       "        [[1, 1, 1],\n",
       "         [1, 1, 1],\n",
       "         [1, 1, 1]]],\n",
       "\n",
       "\n",
       "       [[[1, 1, 1],\n",
       "         [1, 1, 1],\n",
       "         [1, 1, 1]],\n",
       "\n",
       "        [[1, 1, 1],\n",
       "         [1, 1, 1],\n",
       "         [1, 1, 1]]]])"
      ]
     },
     "execution_count": 331,
     "metadata": {},
     "output_type": "execute_result"
    }
   ],
   "source": [
    "np.logical_or(expanded_dsonehot_2, expanded_dsonehot_3).astype(int)"
   ]
  },
  {
   "cell_type": "code",
   "execution_count": 332,
   "id": "35d771d0",
   "metadata": {},
   "outputs": [
    {
     "data": {
      "text/plain": [
       "['B', 'A', 'C']"
      ]
     },
     "execution_count": 332,
     "metadata": {},
     "output_type": "execute_result"
    }
   ],
   "source": [
    "out_ds"
   ]
  },
  {
   "cell_type": "markdown",
   "id": "6599b648",
   "metadata": {},
   "source": [
    "### Matmul"
   ]
  },
  {
   "cell_type": "code",
   "execution_count": 341,
   "id": "d409a415",
   "metadata": {},
   "outputs": [
    {
     "data": {
      "text/plain": [
       "((3, 2, 3, 3), (3, 1, 3, 3))"
      ]
     },
     "execution_count": 341,
     "metadata": {},
     "output_type": "execute_result"
    }
   ],
   "source": [
    "expanded_dsonehot_2.shape, expanded_dsonehot_3.shape"
   ]
  },
  {
   "cell_type": "code",
   "execution_count": 339,
   "id": "847435ba",
   "metadata": {},
   "outputs": [
    {
     "data": {
      "text/plain": [
       "(3, 2, 3, 3)"
      ]
     },
     "execution_count": 339,
     "metadata": {},
     "output_type": "execute_result"
    }
   ],
   "source": []
  },
  {
   "cell_type": "code",
   "execution_count": 336,
   "id": "2deb1396",
   "metadata": {},
   "outputs": [
    {
     "data": {
      "text/plain": [
       "array([[[[1., 1., 1.],\n",
       "         [1., 1., 1.],\n",
       "         [1., 1., 1.]],\n",
       "\n",
       "        [[0., 0., 0.],\n",
       "         [0., 0., 0.],\n",
       "         [0., 0., 0.]]],\n",
       "\n",
       "\n",
       "       [[[0., 0., 0.],\n",
       "         [0., 0., 0.],\n",
       "         [0., 0., 0.]],\n",
       "\n",
       "        [[1., 1., 1.],\n",
       "         [1., 1., 1.],\n",
       "         [1., 1., 1.]]],\n",
       "\n",
       "\n",
       "       [[[0., 0., 0.],\n",
       "         [0., 0., 0.],\n",
       "         [0., 0., 0.]],\n",
       "\n",
       "        [[0., 0., 0.],\n",
       "         [0., 0., 0.],\n",
       "         [0., 0., 0.]]]])"
      ]
     },
     "execution_count": 336,
     "metadata": {},
     "output_type": "execute_result"
    }
   ],
   "source": [
    "expanded_dsonehot_2 "
   ]
  },
  {
   "cell_type": "code",
   "execution_count": 334,
   "id": "daf66655",
   "metadata": {},
   "outputs": [
    {
     "data": {
      "text/plain": [
       "array([[[[0., 0., 0.],\n",
       "         [0., 0., 0.],\n",
       "         [0., 0., 0.]]],\n",
       "\n",
       "\n",
       "       [[[0., 0., 0.],\n",
       "         [0., 0., 0.],\n",
       "         [0., 0., 0.]]],\n",
       "\n",
       "\n",
       "       [[[1., 1., 1.],\n",
       "         [1., 1., 1.],\n",
       "         [1., 1., 1.]]]])"
      ]
     },
     "execution_count": 334,
     "metadata": {},
     "output_type": "execute_result"
    }
   ],
   "source": [
    "expanded_dsonehot_3"
   ]
  },
  {
   "cell_type": "code",
   "execution_count": null,
   "id": "11f8f285",
   "metadata": {},
   "outputs": [],
   "source": []
  }
 ],
 "metadata": {
  "kernelspec": {
   "display_name": "Python 3 (ipykernel)",
   "language": "python",
   "name": "python3"
  },
  "language_info": {
   "codemirror_mode": {
    "name": "ipython",
    "version": 3
   },
   "file_extension": ".py",
   "mimetype": "text/x-python",
   "name": "python",
   "nbconvert_exporter": "python",
   "pygments_lexer": "ipython3",
   "version": "3.9.7"
  }
 },
 "nbformat": 4,
 "nbformat_minor": 5
}

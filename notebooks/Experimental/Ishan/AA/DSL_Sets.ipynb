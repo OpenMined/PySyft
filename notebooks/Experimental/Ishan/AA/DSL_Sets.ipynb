{
 "cells": [
  {
   "cell_type": "code",
   "execution_count": null,
   "id": "9ffb9fc6-f168-4f52-92bf-fb65112ce8d8",
   "metadata": {},
   "outputs": [],
   "source": [
    "max no. of unique data subjects per data point, img_size <---- NOT HOLDING TRUE.\n",
    "\n",
    "NaNs\n",
    "\n",
    "(size(OHL), img_size)\n",
    "\n",
    "\n",
    "child                 DataSubjectList\n",
    "datapoint            .data_subjects_indexed[:, 0, 0]\n",
    "[0,0] -> 0,1,2,3,4,4,4,4,4,4,4,4,4,4,4,4,4,4,3,2,1"
   ]
  },
  {
   "cell_type": "code",
   "execution_count": null,
   "id": "b3f69c08-2ec3-4ef2-aebf-d188ba807b1b",
   "metadata": {},
   "outputs": [],
   "source": [
    "T.data_subjects.data_subjects_indexed"
   ]
  },
  {
   "cell_type": "markdown",
   "id": "948c103f-3d3c-4eba-862a-7d2234514904",
   "metadata": {},
   "source": [
    "dsl1 = (5, 10, 10)\n",
    "dsl2 = (15, 10, 10)\n",
    "\n",
    "combine ->\n",
    "output = EMPTY (20, 10, 10)  (20 = 15 + 5)\n",
    "- dsi = EMPTY (20, 10, 10)\n",
    "- ohl = EMPTY()\n",
    "\n",
    "output[0] -> (1, 10, 10) <-- dsl1[0] (1, 10, 10)\n",
    "output[1] -> (1, 10, 10) <-- dsl1[1] (1, 10, 10)\n",
    "...\n",
    "output[4] -> (1, 10, 10) <-- dsl1[4] (1, 10, 10)\n",
    "\n",
    "output[5] <-- dsl2[0]\n",
    "...\n",
    "output[19] <-- dsl2[-1]\n",
    "\n",
    "\n",
    "check if overlap in OHL\n",
    "\n",
    "\n",
    "output <--- goal is no duplicates.\n"
   ]
  },
  {
   "cell_type": "code",
   "execution_count": 1,
   "id": "c8585ca3-b5f8-46f2-a871-883986a20770",
   "metadata": {},
   "outputs": [],
   "source": [
    "import numpy as np"
   ]
  },
  {
   "cell_type": "code",
   "execution_count": 4,
   "id": "5344ab58-6eee-493d-8ab4-2e382aee34e6",
   "metadata": {},
   "outputs": [],
   "source": [
    "from typing import Union"
   ]
  },
  {
   "cell_type": "code",
   "execution_count": 11,
   "id": "e62ea174-358d-4874-9157-3ab3adb7a676",
   "metadata": {},
   "outputs": [],
   "source": [
    "import pandas as pd"
   ]
  },
  {
   "cell_type": "code",
   "execution_count": 12,
   "id": "bc5ba2b4-b582-40b9-be6e-f6eb11a0ff4d",
   "metadata": {},
   "outputs": [],
   "source": [
    "from syft.core.adp.data_subject import DataSubject"
   ]
  },
  {
   "cell_type": "code",
   "execution_count": 16,
   "id": "99e47761-59df-4235-a789-f17904b29ee0",
   "metadata": {},
   "outputs": [],
   "source": [
    "class DataSubjectList:\n",
    "    __attr_allowlist__ = (\"one_hot_lookup\", \"data_subjects_indexed\")\n",
    "    __slots__ = (\"one_hot_lookup\", \"data_subjects_indexed\")\n",
    "\n",
    "    def __init__(\n",
    "        self,\n",
    "        one_hot_lookup: np.ndarray,\n",
    "        data_subjects_indexed: np.ndarray,\n",
    "    ) -> None:\n",
    "        self.one_hot_lookup = one_hot_lookup\n",
    "        self.data_subjects_indexed = data_subjects_indexed\n",
    "\n",
    "    @staticmethod\n",
    "    def from_series(entities_dataframe_slice: pd.Series):\n",
    "        \"\"\"Given a Pandas Series object (such as from\n",
    "        getting a column from a pandas DataFrame, return an DataSubjectList\"\"\"\n",
    "\n",
    "        # This will be the equivalent of the DataSubjectList.data_subjects_indexed\n",
    "        if not isinstance(entities_dataframe_slice, np.ndarray):\n",
    "            data_subjects = entities_dataframe_slice.to_numpy()\n",
    "        else:\n",
    "            data_subjects = entities_dataframe_slice\n",
    "\n",
    "        # data_subjects = (\n",
    "        #     entities_dataframe_slice.to_numpy()\n",
    "        #     if not isinstance(entities_dataframe_slice, np.ndarray)\n",
    "        #     else entities_dataframe_slice\n",
    "        # )\n",
    "        unique_data_subjects, data_subjects_indexed = np.unique(\n",
    "            data_subjects, return_inverse=True\n",
    "        )\n",
    "\n",
    "        # This will be the equivalent of the DataSubjectList.one_hot_indexed- a sorted array of all unique data_subjects\n",
    "        unique_data_subjects = unique_data_subjects.astype(np.str_)\n",
    "\n",
    "        return DataSubjectList(\n",
    "            one_hot_lookup=unique_data_subjects,\n",
    "            data_subjects_indexed=data_subjects_indexed,\n",
    "        )\n",
    "\n",
    "    @staticmethod\n",
    "    def from_objs(entities: Union[np.ndarray, list]):\n",
    "\n",
    "        entities = np.array(entities, copy=False)\n",
    "        one_hot_lookup, entities_indexed = np.unique(entities, return_inverse=True)\n",
    "        if entities_indexed.shape != entities.shape:\n",
    "            entities_indexed.resize(entities.shape)\n",
    "    \n",
    "    "
   ]
  },
  {
   "cell_type": "code",
   "execution_count": 18,
   "id": "f1233fa6-be2d-434f-b036-6e7e811ed7c3",
   "metadata": {},
   "outputs": [
    {
     "data": {
      "text/plain": [
       "array([[0, 0, 1, 1, 0, 1, 0, 0, 1, 0],\n",
       "       [1, 0, 0, 1, 1, 0, 0, 1, 0, 0],\n",
       "       [0, 0, 1, 0, 0, 1, 0, 1, 0, 0],\n",
       "       [1, 1, 0, 1, 0, 0, 1, 0, 0, 0],\n",
       "       [1, 1, 0, 0, 1, 0, 1, 0, 0, 1],\n",
       "       [1, 0, 1, 1, 1, 0, 0, 1, 1, 0],\n",
       "       [0, 1, 1, 0, 0, 0, 1, 1, 0, 0],\n",
       "       [0, 1, 0, 0, 1, 1, 0, 1, 1, 1],\n",
       "       [1, 1, 0, 0, 0, 0, 1, 1, 1, 0],\n",
       "       [0, 1, 0, 0, 0, 0, 1, 1, 1, 0]])"
      ]
     },
     "execution_count": 18,
     "metadata": {},
     "output_type": "execute_result"
    }
   ],
   "source": [
    "DataSubjectList(one_hot_lookup=np.arange(10), data_subjects_indexed=np.random.choice([0,1], size=(10,10))).data_subjects_indexed"
   ]
  },
  {
   "cell_type": "code",
   "execution_count": 23,
   "id": "3d1a5ecc-cc18-4ac6-bd49-45fc51f46edf",
   "metadata": {},
   "outputs": [],
   "source": [
    "dsl = DataSubjectList(one_hot_lookup=np.arange(2), data_subjects_indexed=np.random.choice([0,1], size=(10, 10,10)))"
   ]
  },
  {
   "cell_type": "code",
   "execution_count": 31,
   "id": "544cbab0-5fd1-451d-a4fc-fd10671ebe86",
   "metadata": {},
   "outputs": [
    {
     "data": {
      "text/plain": [
       "array([0, 1, 0, 1, 1, 0, 1, 0, 0, 1])"
      ]
     },
     "execution_count": 31,
     "metadata": {},
     "output_type": "execute_result"
    }
   ],
   "source": [
    "dsl.data_subjects_indexed[:, 0, 0]"
   ]
  },
  {
   "cell_type": "code",
   "execution_count": 30,
   "id": "22d589c2-2777-4c27-b670-0f99889ffbb7",
   "metadata": {},
   "outputs": [
    {
     "name": "stdout",
     "output_type": "stream",
     "text": [
      "[[0 0 1 1 0 1 1 0 0 0]\n",
      " [1 1 1 1 0 0 1 1 0 1]\n",
      " [0 0 1 1 1 0 0 1 0 1]\n",
      " [0 1 1 1 1 0 0 0 0 0]\n",
      " [1 1 0 0 0 1 0 1 1 0]\n",
      " [0 0 1 0 0 0 1 0 0 1]\n",
      " [1 1 1 0 1 0 0 1 1 0]\n",
      " [0 1 1 0 0 1 0 0 1 0]\n",
      " [0 0 0 1 0 1 0 1 1 1]\n",
      " [0 0 1 0 0 1 0 0 1 1]]\n",
      "\n",
      "[[1 0 0 0 0 1 1 1 1 0]\n",
      " [1 0 1 0 0 0 1 1 0 1]\n",
      " [0 1 0 1 1 0 1 0 1 0]\n",
      " [0 1 1 0 1 0 0 1 0 0]\n",
      " [1 1 0 0 0 1 1 0 1 1]\n",
      " [1 1 1 0 0 1 0 0 1 1]\n",
      " [0 0 0 0 0 1 1 0 1 1]\n",
      " [1 1 1 0 1 1 0 1 0 0]\n",
      " [1 0 0 1 1 0 0 1 1 1]\n",
      " [1 1 0 1 1 0 0 0 1 0]]\n",
      "\n",
      "[[0 1 1 1 1 1 1 1 0 0]\n",
      " [0 0 0 0 0 0 0 1 0 1]\n",
      " [1 1 0 1 0 1 1 0 1 1]\n",
      " [0 1 0 1 1 1 0 1 0 0]\n",
      " [0 1 0 0 1 0 1 0 1 0]\n",
      " [0 1 0 0 0 1 1 0 0 1]\n",
      " [0 1 1 1 0 0 0 0 1 1]\n",
      " [0 1 0 1 1 0 0 1 0 1]\n",
      " [0 0 1 0 1 0 0 1 0 0]\n",
      " [1 0 0 1 0 0 0 0 1 0]]\n",
      "\n",
      "[[1 0 1 1 1 0 1 0 1 0]\n",
      " [0 1 1 1 1 0 1 1 0 0]\n",
      " [0 0 0 1 1 1 0 0 1 1]\n",
      " [0 0 1 0 0 0 1 0 0 1]\n",
      " [1 1 1 1 0 1 1 1 0 1]\n",
      " [1 0 0 0 0 1 0 0 0 0]\n",
      " [0 0 1 0 0 0 1 1 1 1]\n",
      " [1 0 1 0 0 0 0 0 1 0]\n",
      " [1 0 1 0 1 1 1 0 0 0]\n",
      " [1 1 1 0 0 0 1 0 0 0]]\n",
      "\n",
      "[[1 0 1 0 1 0 1 0 0 1]\n",
      " [0 1 1 0 1 0 0 1 1 1]\n",
      " [0 0 0 1 1 1 1 0 0 1]\n",
      " [0 0 0 0 1 1 0 1 1 0]\n",
      " [1 0 1 1 1 0 1 0 1 1]\n",
      " [0 1 1 0 1 0 0 0 1 1]\n",
      " [0 1 1 0 0 1 1 0 1 1]\n",
      " [0 0 0 1 0 1 0 0 1 1]\n",
      " [0 0 1 0 0 0 1 1 0 0]\n",
      " [0 0 1 1 1 0 1 1 1 0]]\n",
      "\n",
      "[[0 0 1 0 0 0 1 1 1 0]\n",
      " [0 0 0 1 1 1 1 0 0 1]\n",
      " [1 1 1 1 1 1 1 0 0 0]\n",
      " [0 1 1 1 1 1 0 0 1 0]\n",
      " [1 0 0 0 0 0 1 0 0 1]\n",
      " [1 1 0 1 0 0 1 0 1 0]\n",
      " [1 1 1 1 0 0 1 1 0 0]\n",
      " [1 1 1 0 0 1 1 1 1 1]\n",
      " [1 0 0 0 0 0 0 0 1 0]\n",
      " [0 1 1 0 1 1 0 0 0 1]]\n",
      "\n",
      "[[1 1 0 0 1 1 1 1 1 0]\n",
      " [1 1 0 0 1 0 1 0 1 0]\n",
      " [0 1 1 0 1 0 1 1 0 0]\n",
      " [1 0 1 0 1 0 1 1 1 0]\n",
      " [0 0 1 1 1 1 0 0 0 0]\n",
      " [0 0 1 1 1 1 0 0 0 0]\n",
      " [1 0 1 1 0 0 1 1 0 1]\n",
      " [1 0 0 1 0 1 0 1 0 0]\n",
      " [0 0 1 1 1 0 0 1 1 1]\n",
      " [0 1 0 1 1 0 0 0 1 1]]\n",
      "\n",
      "[[0 1 0 0 0 0 0 0 1 0]\n",
      " [1 1 0 0 0 1 0 1 0 0]\n",
      " [0 1 0 0 0 1 0 1 1 1]\n",
      " [1 0 1 1 1 0 1 1 1 0]\n",
      " [1 1 0 0 0 1 1 1 0 1]\n",
      " [0 0 0 0 0 1 0 1 0 1]\n",
      " [1 1 0 0 1 0 1 0 1 1]\n",
      " [1 1 1 0 0 1 1 1 1 0]\n",
      " [0 0 1 1 0 0 0 1 0 1]\n",
      " [0 1 0 1 1 0 1 0 0 1]]\n",
      "\n",
      "[[0 1 0 0 0 0 1 1 0 0]\n",
      " [1 1 0 1 0 0 0 0 0 0]\n",
      " [0 0 1 1 1 0 1 0 1 0]\n",
      " [0 1 0 0 0 0 1 1 0 0]\n",
      " [1 1 1 0 1 0 0 1 0 1]\n",
      " [1 1 1 0 1 1 0 0 1 0]\n",
      " [1 1 0 0 1 0 1 0 1 0]\n",
      " [1 1 0 0 0 0 0 0 0 1]\n",
      " [1 0 1 0 1 0 0 0 1 1]\n",
      " [1 1 1 0 0 0 0 0 0 0]]\n",
      "\n",
      "[[1 1 0 0 0 0 0 1 1 0]\n",
      " [1 0 0 1 1 1 0 1 0 0]\n",
      " [0 1 1 0 1 1 0 1 0 1]\n",
      " [0 1 1 0 1 0 0 1 0 1]\n",
      " [0 0 0 0 1 1 1 0 0 0]\n",
      " [0 0 0 0 1 1 1 0 0 1]\n",
      " [1 1 1 0 1 1 1 1 1 1]\n",
      " [1 0 0 1 0 1 0 1 0 1]\n",
      " [1 0 0 0 1 0 1 1 1 0]\n",
      " [0 1 1 1 0 1 0 1 0 1]]\n",
      "\n"
     ]
    }
   ],
   "source": [
    "for i in dsl.data_subjects_indexed:\n",
    "    print(i[0])\n",
    "    print()"
   ]
  },
  {
   "cell_type": "code",
   "execution_count": 24,
   "id": "cbb58320-3c79-4cfc-b428-f7fa44825e17",
   "metadata": {},
   "outputs": [
    {
     "data": {
      "text/plain": [
       "array([0, 1])"
      ]
     },
     "execution_count": 24,
     "metadata": {},
     "output_type": "execute_result"
    }
   ],
   "source": [
    "dsl.one_hot_lookup"
   ]
  },
  {
   "cell_type": "code",
   "execution_count": 29,
   "id": "c0c8de1d-e056-4b1b-b60b-8d7eb66d830c",
   "metadata": {},
   "outputs": [],
   "source": [
    "for i in range(dsl.data_subjects_indexed.shape[1]):\n",
    "    dsl.data_subjects_indexed[:,0,i]"
   ]
  },
  {
   "cell_type": "code",
   "execution_count": null,
   "id": "c537dabd-e51b-4e1a-aa76-03cac46401a2",
   "metadata": {},
   "outputs": [],
   "source": []
  }
 ],
 "metadata": {
  "kernelspec": {
   "display_name": "Python 3 (ipykernel)",
   "language": "python",
   "name": "python3"
  },
  "language_info": {
   "codemirror_mode": {
    "name": "ipython",
    "version": 3
   },
   "file_extension": ".py",
   "mimetype": "text/x-python",
   "name": "python",
   "nbconvert_exporter": "python",
   "pygments_lexer": "ipython3",
   "version": "3.9.7"
  }
 },
 "nbformat": 4,
 "nbformat_minor": 5
}

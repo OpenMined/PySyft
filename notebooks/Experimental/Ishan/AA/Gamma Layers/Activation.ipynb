{
 "cells": [
  {
   "cell_type": "code",
   "execution_count": 1,
   "id": "6e694969-c472-496d-84b2-0ee7273d2f13",
   "metadata": {},
   "outputs": [
    {
     "name": "stderr",
     "output_type": "stream",
     "text": [
      "/home/e/anaconda3/envs/Hagrid/lib/python3.9/site-packages/tqdm/auto.py:22: TqdmWarning: IProgress not found. Please update jupyter and ipywidgets. See https://ipywidgets.readthedocs.io/en/stable/user_install.html\n",
      "  from .autonotebook import tqdm as notebook_tqdm\n"
     ]
    }
   ],
   "source": [
    "# stdlib\n",
    "from typing import Optional\n",
    "from typing import Union\n",
    "\n",
    "# third party\n",
    "import numpy as np\n",
    "\n",
    "# relative\n",
    "from syft import PhiTensor\n",
    "from syft import GammaTensor\n",
    "\n",
    "\n",
    "class Activation(object):\n",
    "    \"\"\"Base class for activations.\n",
    "\n",
    "    \"\"\"\n",
    "    def __init__(self):\n",
    "        self.last_forward = None\n",
    "\n",
    "    def forward(self, input: Union[PhiTensor, GammaTensor]):\n",
    "        \"\"\"Forward Step.\n",
    "\n",
    "        Args:\n",
    "            input (PhiTensor or GammaTensor): the input matrix\n",
    "        \"\"\"\n",
    "\n",
    "        raise NotImplementedError\n",
    "\n",
    "    def derivative(self, input: Optional[Union[PhiTensor, GammaTensor]]=None):\n",
    "        \"\"\"Backward Step.\n",
    "\n",
    "        _extended_summary_\n",
    "\n",
    "        Args:\n",
    "            input (Optional[PhiTensor, GammaTensor], optional): If provide `input`, this function will not use `last_forward`. Defaults to None.\n",
    "        \"\"\"\n",
    "\n",
    "        raise NotImplementedError\n",
    "\n",
    "    def __str__(self):\n",
    "        return self.__class__.__name__\n",
    "\n",
    "\n",
    "class leaky_ReLU(Activation):\n",
    "\n",
    "    def __init__(self, slope=0.01):\n",
    "        super(leaky_ReLU, self).__init__()\n",
    "        self.slope = slope\n",
    "\n",
    "    def forward(self, input_array: Union[PhiTensor, GammaTensor]):\n",
    "        # Last image that has been forward passed through this activation function\n",
    "        self.last_forward = input_array\n",
    "\n",
    "        gt = input_array > 0\n",
    "\n",
    "        return gt * input_array + ((gt * -1) + 1) * input_array * self.slope\n",
    "\n",
    "    def derivative(self, input_array: Optional[Union[PhiTensor, GammaTensor]] = None) -> Union[PhiTensor, GammaTensor]:\n",
    "        last_forward = input_array if input_array else self.last_forward\n",
    "        res = (last_forward > 0).child * 1 + (last_forward <= 0).child * self.slope \n",
    "        \n",
    "        if isinstance(input_array, PhiTensor):\n",
    "            return PhiTensor(child=res,\n",
    "                           data_subjects=last_forward.data_subjects,\n",
    "                           min_vals=last_forward.min_vals * 0,\n",
    "                           max_vals=last_forward.max_vals * 1\n",
    "                          )\n",
    "        elif isinstance(input_array, GammaTensor):\n",
    "            return GammaTensor(\n",
    "                child=res,\n",
    "                data_subjects=last_forward.data_subjects,\n",
    "                min_val=last_forward.min_val * 0,\n",
    "                max_val=last_forward.max_val * 1\n",
    "            )\n",
    "        else:\n",
    "            raise NotImplementedError(f\"Undefined behaviour for type {type(input_array)}\")\n"
   ]
  },
  {
   "cell_type": "code",
   "execution_count": 2,
   "id": "1a9c2d4d-2dc4-4d1d-862b-992979d4296e",
   "metadata": {},
   "outputs": [],
   "source": [
    "from syft import nn"
   ]
  },
  {
   "cell_type": "code",
   "execution_count": 3,
   "id": "5d4d9fb1-e8c5-4bdf-9f7e-3dfb42d810b5",
   "metadata": {},
   "outputs": [],
   "source": [
    "lr = nn.activations.leaky_ReLU()"
   ]
  },
  {
   "cell_type": "code",
   "execution_count": 4,
   "id": "9ede7452-be36-4b88-b4b3-0ec9932b15bc",
   "metadata": {},
   "outputs": [
    {
     "name": "stdout",
     "output_type": "stream",
     "text": [
      "[0 1 2 3 4 5 6 7 8 9]\n",
      "[[2 5 9 2 2]\n",
      " [1 0 6 1 4]\n",
      " [0 5 5 6 0]\n",
      " [5 1 5 8 3]\n",
      " [8 5 3 6 8]]\n"
     ]
    }
   ],
   "source": [
    "from syft import DataSubjectList\n",
    "\n",
    "sh = (5,5)\n",
    "\n",
    "dsl = DataSubjectList(\n",
    "    one_hot_lookup=np.arange(10),\n",
    "    data_subjects_indexed=np.random.choice(np.arange(10), size=sh)\n",
    ")\n",
    "print(dsl.one_hot_lookup)\n",
    "print(dsl.data_subjects_indexed)"
   ]
  },
  {
   "cell_type": "code",
   "execution_count": 5,
   "id": "90d52d0f-6bb1-4ca3-b1fb-4476491eadb2",
   "metadata": {},
   "outputs": [
    {
     "name": "stderr",
     "output_type": "stream",
     "text": [
      "WARNING:absl:No GPU/TPU found, falling back to CPU. (Set TF_CPP_MIN_LOG_LEVEL=0 and rerun for more info.)\n"
     ]
    }
   ],
   "source": [
    "from jax import numpy as jnp\n",
    "import numpy as np\n",
    "from syft.core.tensor.lazy_repeat_array import lazyrepeatarray as lra\n",
    "\n",
    "gt = GammaTensor(\n",
    "    child=jnp.array(2 * np.random.rand(*sh) - 1),\n",
    "    data_subjects=dsl,\n",
    "    min_val=lra(0, shape=sh),\n",
    "    max_val=lra(1, shape=sh)\n",
    ")"
   ]
  },
  {
   "cell_type": "code",
   "execution_count": 6,
   "id": "ca0cba87-914f-45e1-9251-628604177c97",
   "metadata": {},
   "outputs": [],
   "source": [
    "res = lr.forward(gt)"
   ]
  },
  {
   "cell_type": "code",
   "execution_count": 7,
   "id": "7549e0fc-13e6-4677-8c15-7ea6c01075ec",
   "metadata": {},
   "outputs": [],
   "source": [
    "out = lr.derivative(res)"
   ]
  },
  {
   "cell_type": "code",
   "execution_count": 8,
   "id": "1751e0b2-068a-46a7-96d0-1c82759249d8",
   "metadata": {},
   "outputs": [
    {
     "data": {
      "text/plain": [
       "DeviceArray([[ 0.38129884,  0.02295214, -0.38091889,  0.48091346,\n",
       "              -0.96448819],\n",
       "             [-0.58273043,  0.73720088, -0.70258983,  0.23396099,\n",
       "              -0.89719281],\n",
       "             [-0.0993434 , -0.37168033, -0.54137491,  0.85197807,\n",
       "              -0.43752014],\n",
       "             [ 0.84178948, -0.046312  ,  0.66395953,  0.01782525,\n",
       "              -0.06668868],\n",
       "             [-0.84651502, -0.54025007, -0.66932027,  0.3405847 ,\n",
       "              -0.66528453]], dtype=float64)"
      ]
     },
     "execution_count": 8,
     "metadata": {},
     "output_type": "execute_result"
    }
   ],
   "source": [
    "gt.child"
   ]
  },
  {
   "cell_type": "code",
   "execution_count": 9,
   "id": "f9deb685-8e37-4503-b93d-8a96432d415e",
   "metadata": {},
   "outputs": [
    {
     "data": {
      "text/plain": [
       "GammaTensor(child=DeviceArray([[1.  , 1.  , 0.01, 1.  , 0.01],\n",
       "             [0.01, 1.  , 0.01, 1.  , 0.01],\n",
       "             [0.01, 0.01, 0.01, 1.  , 0.01],\n",
       "             [1.  , 0.01, 1.  , 1.  , 0.01],\n",
       "             [0.01, 0.01, 0.01, 1.  , 0.01]],            dtype=float64, weak_type=True), data_subjects=<syft.core.adp.data_subject_list.DataSubjectList object at 0x7f93701b58b0>, min_val=<lazyrepeatarray data: 0.0 -> shape: (5, 5)>, max_val=<lazyrepeatarray data: 1.01 -> shape: (5, 5)>, is_linear=True, func=<function no_op at 0x7f92a517dd30>, id='1629585384', state={})"
      ]
     },
     "execution_count": 9,
     "metadata": {},
     "output_type": "execute_result"
    }
   ],
   "source": [
    "out"
   ]
  },
  {
   "cell_type": "code",
   "execution_count": 10,
   "id": "083bf838-d0ec-4df1-86eb-03163af929f8",
   "metadata": {},
   "outputs": [
    {
     "data": {
      "text/plain": [
       "GammaTensor(child=DeviceArray([[ True,  True, False,  True, False],\n",
       "             [False,  True, False,  True, False],\n",
       "             [False, False, False,  True, False],\n",
       "             [ True, False,  True,  True, False],\n",
       "             [False, False, False,  True, False]], dtype=bool), data_subjects=<syft.core.adp.data_subject_list.DataSubjectList object at 0x7f93701b58b0>, min_val=<lazyrepeatarray data: 0 -> shape: (5, 5)>, max_val=<lazyrepeatarray data: 1 -> shape: (5, 5)>, is_linear=True, func=<function GammaTensor.__gt__.<locals>._gt at 0x7f92a41a8c10>, id='1053572856', state={'1507121917': GammaTensor(child=DeviceArray([[ 0.38129884,  0.02295214, -0.38091889,  0.48091346,\n",
       "              -0.96448819],\n",
       "             [-0.58273043,  0.73720088, -0.70258983,  0.23396099,\n",
       "              -0.89719281],\n",
       "             [-0.0993434 , -0.37168033, -0.54137491,  0.85197807,\n",
       "              -0.43752014],\n",
       "             [ 0.84178948, -0.046312  ,  0.66395953,  0.01782525,\n",
       "              -0.06668868],\n",
       "             [-0.84651502, -0.54025007, -0.66932027,  0.3405847 ,\n",
       "              -0.66528453]], dtype=float64), data_subjects=<syft.core.adp.data_subject_list.DataSubjectList object at 0x7f93701b58b0>, min_val=<lazyrepeatarray data: 0 -> shape: (5, 5)>, max_val=<lazyrepeatarray data: 1 -> shape: (5, 5)>, is_linear=True, func=<function no_op at 0x7f92a517dd30>, id='1507121917', state={})})"
      ]
     },
     "execution_count": 10,
     "metadata": {},
     "output_type": "execute_result"
    }
   ],
   "source": [
    "gt > 0"
   ]
  },
  {
   "cell_type": "code",
   "execution_count": 11,
   "id": "0a028a06-724f-4c84-af3b-118b7a99f0a2",
   "metadata": {},
   "outputs": [
    {
     "data": {
      "text/plain": [
       "DeviceArray([[False, False, False, False, False],\n",
       "             [False, False, False, False, False],\n",
       "             [False, False, False, False, False],\n",
       "             [False, False, False, False, False],\n",
       "             [False, False, False, False, False]], dtype=bool)"
      ]
     },
     "execution_count": 11,
     "metadata": {},
     "output_type": "execute_result"
    }
   ],
   "source": [
    "gt.child > 1"
   ]
  },
  {
   "cell_type": "code",
   "execution_count": 12,
   "id": "5931b46e-ca2d-4586-8d98-ad4ba69ab206",
   "metadata": {},
   "outputs": [
    {
     "data": {
      "text/plain": [
       "DeviceArray([[False, False, False, False, False],\n",
       "             [False, False, False, False, False],\n",
       "             [False, False, False, False, False],\n",
       "             [False, False, False, False, False],\n",
       "             [False, False, False, False, False]], dtype=bool)"
      ]
     },
     "execution_count": 12,
     "metadata": {},
     "output_type": "execute_result"
    }
   ],
   "source": [
    "jnp.greater(gt.child, 1)"
   ]
  },
  {
   "cell_type": "code",
   "execution_count": 13,
   "id": "88fe76dd-cd4f-4e08-b632-ad1d4409fbc6",
   "metadata": {},
   "outputs": [
    {
     "data": {
      "text/plain": [
       "GammaTensor(child=DeviceArray([[False, False, False, False, False],\n",
       "             [False, False, False, False, False],\n",
       "             [False, False, False, False, False],\n",
       "             [False, False, False, False, False],\n",
       "             [False, False, False, False, False]], dtype=bool), data_subjects=<syft.core.adp.data_subject_list.DataSubjectList object at 0x7f93701b58b0>, min_val=<lazyrepeatarray data: 0 -> shape: (5, 5)>, max_val=<lazyrepeatarray data: 1 -> shape: (5, 5)>, is_linear=True, func=<function GammaTensor.__gt__.<locals>._gt at 0x7f92a41a83a0>, id='1654695923', state={'1507121917': GammaTensor(child=DeviceArray([[ 0.38129884,  0.02295214, -0.38091889,  0.48091346,\n",
       "              -0.96448819],\n",
       "             [-0.58273043,  0.73720088, -0.70258983,  0.23396099,\n",
       "              -0.89719281],\n",
       "             [-0.0993434 , -0.37168033, -0.54137491,  0.85197807,\n",
       "              -0.43752014],\n",
       "             [ 0.84178948, -0.046312  ,  0.66395953,  0.01782525,\n",
       "              -0.06668868],\n",
       "             [-0.84651502, -0.54025007, -0.66932027,  0.3405847 ,\n",
       "              -0.66528453]], dtype=float64), data_subjects=<syft.core.adp.data_subject_list.DataSubjectList object at 0x7f93701b58b0>, min_val=<lazyrepeatarray data: 0 -> shape: (5, 5)>, max_val=<lazyrepeatarray data: 1 -> shape: (5, 5)>, is_linear=True, func=<function no_op at 0x7f92a517dd30>, id='1507121917', state={})})"
      ]
     },
     "execution_count": 13,
     "metadata": {},
     "output_type": "execute_result"
    }
   ],
   "source": [
    "gt > 1"
   ]
  },
  {
   "cell_type": "code",
   "execution_count": null,
   "id": "d0725297-70d8-4f37-bc65-0064f4854e56",
   "metadata": {},
   "outputs": [],
   "source": []
  }
 ],
 "metadata": {
  "kernelspec": {
   "display_name": "Python 3 (ipykernel)",
   "language": "python",
   "name": "python3"
  },
  "language_info": {
   "codemirror_mode": {
    "name": "ipython",
    "version": 3
   },
   "file_extension": ".py",
   "mimetype": "text/x-python",
   "name": "python",
   "nbconvert_exporter": "python",
   "pygments_lexer": "ipython3",
   "version": "3.9.7"
  }
 },
 "nbformat": 4,
 "nbformat_minor": 5
}

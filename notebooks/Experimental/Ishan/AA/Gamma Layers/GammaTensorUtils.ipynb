{
 "cells": [
  {
   "cell_type": "code",
   "execution_count": 1,
   "id": "d162a027-e60a-4e18-9298-2e28fe5802f0",
   "metadata": {},
   "outputs": [
    {
     "name": "stderr",
     "output_type": "stream",
     "text": [
      "/home/e/anaconda3/envs/Hagrid/lib/python3.9/site-packages/tqdm/auto.py:22: TqdmWarning: IProgress not found. Please update jupyter and ipywidgets. See https://ipywidgets.readthedocs.io/en/stable/user_install.html\n",
      "  from .autonotebook import tqdm as notebook_tqdm\n"
     ]
    }
   ],
   "source": [
    "from syft import nn\n",
    "from syft import PhiTensor\n",
    "from syft import GammaTensor\n",
    "from syft import DataSubjectList\n",
    "import numpy as np\n",
    "from jax import numpy as jnp"
   ]
  },
  {
   "cell_type": "markdown",
   "id": "b4bcf6e4-0cc2-4bd5-9a63-2e5015338089",
   "metadata": {},
   "source": [
    "## Test out utils functions"
   ]
  },
  {
   "cell_type": "code",
   "execution_count": 2,
   "id": "e4cdc4cb-1247-4c03-8f93-9d1030270638",
   "metadata": {},
   "outputs": [
    {
     "name": "stderr",
     "output_type": "stream",
     "text": [
      "WARNING:absl:No GPU/TPU found, falling back to CPU. (Set TF_CPP_MIN_LOG_LEVEL=0 and rerun for more info.)\n"
     ]
    },
    {
     "data": {
      "text/plain": [
       "array([0., 0., 0., 0., 0.])"
      ]
     },
     "execution_count": 2,
     "metadata": {},
     "output_type": "execute_result"
    }
   ],
   "source": [
    "np.log(jnp.ones(5))"
   ]
  },
  {
   "cell_type": "code",
   "execution_count": 3,
   "id": "614a0860-a695-4721-8ce8-4cd1cb8a35ca",
   "metadata": {},
   "outputs": [
    {
     "data": {
      "text/plain": [
       "1.0"
      ]
     },
     "execution_count": 3,
     "metadata": {},
     "output_type": "execute_result"
    }
   ],
   "source": [
    "np.log(np.e)"
   ]
  },
  {
   "cell_type": "code",
   "execution_count": 4,
   "id": "1ca4afa3-4934-48b0-b152-244f679158f5",
   "metadata": {},
   "outputs": [],
   "source": [
    "dsl = DataSubjectList(one_hot_lookup=np.array([0,1]), data_subjects_indexed=np.concatenate((np.zeros(10), np.ones(10))))"
   ]
  },
  {
   "cell_type": "code",
   "execution_count": 5,
   "id": "85938558-57f8-4abd-a3e6-c5f77a728928",
   "metadata": {},
   "outputs": [
    {
     "data": {
      "text/plain": [
       "array([0., 0., 0., 0., 0., 0., 0., 0., 0., 0.])"
      ]
     },
     "execution_count": 5,
     "metadata": {},
     "output_type": "execute_result"
    }
   ],
   "source": [
    "np.log(np.ones(10))"
   ]
  },
  {
   "cell_type": "code",
   "execution_count": 6,
   "id": "6f99d78f-f760-46ca-aba2-a773d10ea13c",
   "metadata": {},
   "outputs": [],
   "source": [
    "gt = GammaTensor(child=np.ones(10)*np.e,data_subjects=dsl ,min_val=1, max_val=5)"
   ]
  },
  {
   "cell_type": "code",
   "execution_count": 7,
   "id": "ceecc364-61b9-4c70-9bf1-104517d293e7",
   "metadata": {},
   "outputs": [
    {
     "data": {
      "text/plain": [
       "GammaTensor(child=array([1., 1., 1., 1., 1., 1., 1., 1., 1., 1.]), data_subjects=<syft.core.adp.data_subject_list.DataSubjectList object at 0x7fcb5320cfa0>, min_val=<lazyrepeatarray data: 0.0 -> shape: (10,)>, max_val=<lazyrepeatarray data: 1.6094379124341003 -> shape: (10,)>, is_linear=True, func=<function GammaTensor.log.<locals>._log at 0x7fcb53242b80>, id='1942082071', state={'1744187340': GammaTensor(child=array([2.71828183, 2.71828183, 2.71828183, 2.71828183, 2.71828183,\n",
       "       2.71828183, 2.71828183, 2.71828183, 2.71828183, 2.71828183]), data_subjects=<syft.core.adp.data_subject_list.DataSubjectList object at 0x7fcb5320cfa0>, min_val=1, max_val=5, is_linear=True, func=<function no_op at 0x7fcb517799d0>, id='1744187340', state={})})"
      ]
     },
     "execution_count": 7,
     "metadata": {},
     "output_type": "execute_result"
    }
   ],
   "source": [
    "gt.log()"
   ]
  },
  {
   "cell_type": "code",
   "execution_count": 8,
   "id": "620209e8-0e86-40b4-9687-aa19af48746a",
   "metadata": {},
   "outputs": [
    {
     "data": {
      "text/plain": [
       "GammaTensor(child=array([1., 1., 1., 1., 1., 1., 1., 1., 1., 1.]), data_subjects=<syft.core.adp.data_subject_list.DataSubjectList object at 0x7fcb5320cfa0>, min_val=<lazyrepeatarray data: 0.0 -> shape: (10,)>, max_val=<lazyrepeatarray data: 1.6094379124341003 -> shape: (10,)>, is_linear=True, func=<function GammaTensor.log.<locals>._log at 0x7fcb532ec040>, id='168211101', state={'1744187340': GammaTensor(child=array([2.71828183, 2.71828183, 2.71828183, 2.71828183, 2.71828183,\n",
       "       2.71828183, 2.71828183, 2.71828183, 2.71828183, 2.71828183]), data_subjects=<syft.core.adp.data_subject_list.DataSubjectList object at 0x7fcb5320cfa0>, min_val=1, max_val=5, is_linear=True, func=<function no_op at 0x7fcb517799d0>, id='1744187340', state={})})"
      ]
     },
     "execution_count": 8,
     "metadata": {},
     "output_type": "execute_result"
    }
   ],
   "source": [
    "nn.utils.dp_log(gt)"
   ]
  },
  {
   "cell_type": "code",
   "execution_count": 9,
   "id": "fac6df79-1570-4674-b8bc-d228bc6e25dd",
   "metadata": {},
   "outputs": [
    {
     "data": {
      "text/plain": [
       "GammaTensor(child=array([0., 0., 0., 0., 0., 0., 0., 0., 0., 0.]), data_subjects=<syft.core.adp.data_subject_list.DataSubjectList object at 0x7fcb53247850>, min_val=<lazyrepeatarray data: 0.0 -> shape: (10,)>, max_val=<lazyrepeatarray data: 0.0 -> shape: (10,)>, is_linear=True, func=<function no_op at 0x7fcb517799d0>, id='640543573', state={})"
      ]
     },
     "execution_count": 9,
     "metadata": {},
     "output_type": "execute_result"
    }
   ],
   "source": [
    "nn.utils.dp_zeros(gt.shape, gt.data_subjects)"
   ]
  },
  {
   "cell_type": "markdown",
   "id": "d505e07e-1eae-44ec-ae70-05a17275d29a",
   "metadata": {},
   "source": [
    "## DataSubjectList Combination tests\n",
    "\n",
    "\n",
    "**Case 1: Non-overlapping DSL**"
   ]
  },
  {
   "cell_type": "code",
   "execution_count": 10,
   "id": "d5d7e49d-3f87-4e34-b3c5-45991c364623",
   "metadata": {},
   "outputs": [],
   "source": [
    "dsl1 = DataSubjectList(\n",
    "    one_hot_lookup=np.arange(10),\n",
    "    data_subjects_indexed=np.random.choice(np.arange(10), size=(10, 10))\n",
    ")"
   ]
  },
  {
   "cell_type": "code",
   "execution_count": 11,
   "id": "4cc45131-6c0b-4e55-ad59-67b4456cb44b",
   "metadata": {},
   "outputs": [],
   "source": [
    "w = np.arange(100, 110)\n",
    "dsl2 = DataSubjectList(\n",
    "    one_hot_lookup = w,\n",
    "    data_subjects_indexed=np.random.choice(np.arange(len(w)), size=(10, 10))\n",
    ")"
   ]
  },
  {
   "cell_type": "code",
   "execution_count": 12,
   "id": "9de9fb89-5b4a-4a23-aa7d-99be6884922c",
   "metadata": {},
   "outputs": [
    {
     "data": {
      "text/plain": [
       "(array([0, 1, 2, 3, 4, 5, 6, 7, 8, 9]),\n",
       " array([100, 101, 102, 103, 104, 105, 106, 107, 108, 109]))"
      ]
     },
     "execution_count": 12,
     "metadata": {},
     "output_type": "execute_result"
    }
   ],
   "source": [
    "dsl1.one_hot_lookup, dsl2.one_hot_lookup"
   ]
  },
  {
   "cell_type": "code",
   "execution_count": 13,
   "id": "a4e5ab9a-d264-4e7f-9d8c-012973787842",
   "metadata": {},
   "outputs": [
    {
     "data": {
      "text/plain": [
       "array([[0, 8, 1, 8, 6, 4, 7, 1, 2, 9],\n",
       "       [1, 2, 9, 9, 8, 6, 2, 0, 1, 4],\n",
       "       [5, 5, 8, 9, 0, 9, 3, 3, 9, 6],\n",
       "       [7, 9, 6, 7, 0, 1, 6, 8, 4, 9],\n",
       "       [4, 6, 0, 6, 0, 8, 2, 8, 5, 4],\n",
       "       [1, 6, 0, 4, 0, 0, 1, 0, 3, 0],\n",
       "       [3, 8, 9, 2, 5, 5, 3, 9, 4, 3],\n",
       "       [1, 7, 2, 7, 5, 2, 1, 3, 4, 7],\n",
       "       [1, 3, 7, 0, 0, 8, 7, 8, 7, 9],\n",
       "       [4, 6, 1, 8, 5, 2, 3, 7, 2, 7]])"
      ]
     },
     "execution_count": 13,
     "metadata": {},
     "output_type": "execute_result"
    }
   ],
   "source": [
    "dsl1.data_subjects_indexed"
   ]
  },
  {
   "cell_type": "code",
   "execution_count": 14,
   "id": "56aa3bf4-0133-475c-b087-523ac5261658",
   "metadata": {},
   "outputs": [
    {
     "data": {
      "text/plain": [
       "array([[4, 8, 8, 1, 9, 8, 3, 6, 2, 8],\n",
       "       [6, 6, 0, 5, 3, 9, 8, 7, 6, 3],\n",
       "       [3, 0, 2, 9, 4, 1, 1, 0, 0, 4],\n",
       "       [9, 7, 6, 1, 6, 4, 5, 4, 2, 1],\n",
       "       [9, 2, 7, 7, 8, 8, 5, 9, 1, 3],\n",
       "       [7, 5, 3, 6, 7, 6, 6, 9, 1, 2],\n",
       "       [2, 9, 2, 6, 2, 8, 3, 7, 7, 6],\n",
       "       [7, 3, 4, 1, 5, 9, 0, 2, 6, 3],\n",
       "       [1, 0, 5, 2, 3, 9, 0, 6, 7, 4],\n",
       "       [5, 2, 5, 9, 2, 5, 3, 5, 2, 1]])"
      ]
     },
     "execution_count": 14,
     "metadata": {},
     "output_type": "execute_result"
    }
   ],
   "source": [
    "dsl2.data_subjects_indexed"
   ]
  },
  {
   "cell_type": "code",
   "execution_count": 15,
   "id": "0a79132b-6199-48b8-a9ca-e9cfeaf14dc5",
   "metadata": {},
   "outputs": [],
   "source": [
    "dsl3 = DataSubjectList.combine(dsl1, dsl2)"
   ]
  },
  {
   "cell_type": "code",
   "execution_count": 16,
   "id": "e33f2b53-287c-470b-aede-b2098e3655ab",
   "metadata": {},
   "outputs": [
    {
     "data": {
      "text/plain": [
       "array([  0,   1,   2,   3,   4,   5,   6,   7,   8,   9, 100, 101, 102,\n",
       "       103, 104, 105, 106, 107, 108, 109])"
      ]
     },
     "execution_count": 16,
     "metadata": {},
     "output_type": "execute_result"
    }
   ],
   "source": [
    "dsl3.one_hot_lookup"
   ]
  },
  {
   "cell_type": "markdown",
   "id": "4e00d4b0-73f9-4a4a-a6db-60467505f3f2",
   "metadata": {},
   "source": [
    "**Case 2: Fully overlapping DSL**"
   ]
  },
  {
   "cell_type": "code",
   "execution_count": 17,
   "id": "049f4222-0078-4ae2-b718-8cb81bda00e2",
   "metadata": {},
   "outputs": [],
   "source": [
    "dsl4 = DataSubjectList.combine(dsl1, dsl1)"
   ]
  },
  {
   "cell_type": "code",
   "execution_count": 18,
   "id": "c8082219-0680-434d-ac23-1ff267e59239",
   "metadata": {},
   "outputs": [
    {
     "data": {
      "text/plain": [
       "True"
      ]
     },
     "execution_count": 18,
     "metadata": {},
     "output_type": "execute_result"
    }
   ],
   "source": [
    "dsl4 == dsl1"
   ]
  },
  {
   "cell_type": "code",
   "execution_count": 19,
   "id": "6f603c83-5f21-4c8a-8c4a-51f763669caa",
   "metadata": {},
   "outputs": [
    {
     "data": {
      "text/plain": [
       "True"
      ]
     },
     "execution_count": 19,
     "metadata": {},
     "output_type": "execute_result"
    }
   ],
   "source": [
    "(dsl4.data_subjects_indexed == dsl1.data_subjects_indexed).all()"
   ]
  },
  {
   "cell_type": "markdown",
   "id": "9e4895a2-d2af-44e7-8456-2f675f2dbd6c",
   "metadata": {},
   "source": [
    "**Case 3: Partially overlapping DSL**"
   ]
  },
  {
   "cell_type": "code",
   "execution_count": 20,
   "id": "5d36e25e-2be2-490f-9955-e0900fff47d2",
   "metadata": {},
   "outputs": [],
   "source": [
    "dsl1 = DataSubjectList(\n",
    "    one_hot_lookup=np.arange(10),\n",
    "    data_subjects_indexed=np.random.choice(np.arange(10), size=(10, 10))\n",
    ")"
   ]
  },
  {
   "cell_type": "code",
   "execution_count": 21,
   "id": "2e53b648-0ce8-46b7-aca3-75e3891a5c9b",
   "metadata": {},
   "outputs": [],
   "source": [
    "w = np.arange(7, 17)\n",
    "dsl5 = DataSubjectList(\n",
    "    one_hot_lookup = w,\n",
    "    data_subjects_indexed=np.random.choice(np.arange(len(w)), size=(10, 10))\n",
    ")"
   ]
  },
  {
   "cell_type": "code",
   "execution_count": 22,
   "id": "f5c3a343-cf70-4ef1-8ea9-ac146fc8272d",
   "metadata": {},
   "outputs": [
    {
     "data": {
      "text/plain": [
       "(array([0, 1, 2, 3, 4, 5, 6, 7, 8, 9]),\n",
       " array([ 7,  8,  9, 10, 11, 12, 13, 14, 15, 16]))"
      ]
     },
     "execution_count": 22,
     "metadata": {},
     "output_type": "execute_result"
    }
   ],
   "source": [
    "dsl1.one_hot_lookup, dsl5.one_hot_lookup"
   ]
  },
  {
   "cell_type": "code",
   "execution_count": 23,
   "id": "2c83b9cb-fd18-4a29-ad1e-ef0724a35615",
   "metadata": {},
   "outputs": [
    {
     "data": {
      "text/plain": [
       "array([[1, 0, 9, 8, 6, 5, 0, 4, 7, 3],\n",
       "       [2, 6, 7, 8, 2, 4, 9, 0, 1, 6],\n",
       "       [8, 4, 3, 4, 3, 6, 8, 2, 6, 9],\n",
       "       [9, 0, 0, 8, 1, 1, 1, 8, 7, 6],\n",
       "       [5, 8, 9, 6, 7, 3, 6, 0, 4, 3],\n",
       "       [2, 0, 7, 4, 7, 6, 7, 2, 6, 7],\n",
       "       [6, 6, 4, 9, 3, 4, 2, 3, 5, 8],\n",
       "       [8, 7, 7, 1, 5, 6, 0, 5, 8, 0],\n",
       "       [2, 8, 2, 9, 0, 4, 3, 2, 0, 0],\n",
       "       [7, 4, 0, 5, 3, 3, 9, 4, 9, 2]])"
      ]
     },
     "execution_count": 23,
     "metadata": {},
     "output_type": "execute_result"
    }
   ],
   "source": [
    "dsl5.data_subjects_indexed"
   ]
  },
  {
   "cell_type": "code",
   "execution_count": 24,
   "id": "c2fb215f-22eb-4e93-b2d9-8533c2fcda2a",
   "metadata": {},
   "outputs": [],
   "source": [
    "dsl6 = DataSubjectList.combine(dsl1, dsl5)"
   ]
  },
  {
   "cell_type": "code",
   "execution_count": 25,
   "id": "ecc46f8f-054b-4f2f-962b-c67a77831d04",
   "metadata": {},
   "outputs": [
    {
     "data": {
      "text/plain": [
       "array([ 0,  1,  2,  3,  4,  5,  6,  7,  8,  9, 10, 11, 12, 13, 14, 15, 16])"
      ]
     },
     "execution_count": 25,
     "metadata": {},
     "output_type": "execute_result"
    }
   ],
   "source": [
    "dsl6.one_hot_lookup"
   ]
  },
  {
   "cell_type": "code",
   "execution_count": 26,
   "id": "12b237ec-3862-4b44-aa43-30364421b5f2",
   "metadata": {},
   "outputs": [
    {
     "data": {
      "text/plain": [
       "array([[[ 9,  2,  0,  8,  1,  2,  6,  3,  8,  2],\n",
       "        [ 8,  6,  3,  1,  9,  3,  8,  2,  9,  3],\n",
       "        [ 8,  2,  5,  7,  9,  6,  7,  3,  2,  8],\n",
       "        [ 1,  0,  9,  4,  3,  9,  2,  6,  2,  4],\n",
       "        [ 0,  4,  9,  3,  9,  3,  1,  6,  3,  3],\n",
       "        [ 1,  6,  6,  9,  4,  8,  7,  0,  4,  5],\n",
       "        [ 8,  3,  3,  2,  9,  2,  4,  2,  0,  8],\n",
       "        [ 7,  9,  2,  7,  3,  9,  9,  1,  9,  4],\n",
       "        [ 0,  6,  9,  9,  2,  9,  1,  7,  1,  4],\n",
       "        [ 1,  4,  0,  9,  0,  1,  7,  6,  4,  7]],\n",
       "\n",
       "       [[ 8,  7, 16, 15, 13, 12,  7, 11, 14, 10],\n",
       "        [ 9, 13, 14, 15,  9, 11, 16,  7,  8, 13],\n",
       "        [15, 11, 10, 11, 10, 13, 15,  9, 13, 16],\n",
       "        [16,  7,  7, 15,  8,  8,  8, 15, 14, 13],\n",
       "        [12, 15, 16, 13, 14, 10, 13,  7, 11, 10],\n",
       "        [ 9,  7, 14, 11, 14, 13, 14,  9, 13, 14],\n",
       "        [13, 13, 11, 16, 10, 11,  9, 10, 12, 15],\n",
       "        [15, 14, 14,  8, 12, 13,  7, 12, 15,  7],\n",
       "        [ 9, 15,  9, 16,  7, 11, 10,  9,  7,  7],\n",
       "        [14, 11,  7, 12, 10, 10, 16, 11, 16,  9]]])"
      ]
     },
     "execution_count": 26,
     "metadata": {},
     "output_type": "execute_result"
    }
   ],
   "source": [
    "dsl6.data_subjects_indexed"
   ]
  },
  {
   "cell_type": "code",
   "execution_count": 27,
   "id": "1092c956-914f-4fd9-868d-e316e538f382",
   "metadata": {},
   "outputs": [
    {
     "data": {
      "text/plain": [
       "True"
      ]
     },
     "execution_count": 27,
     "metadata": {},
     "output_type": "execute_result"
    }
   ],
   "source": [
    "(dsl6.data_subjects_indexed[0] == dsl1.data_subjects_indexed).all()"
   ]
  },
  {
   "cell_type": "code",
   "execution_count": 28,
   "id": "24556b5f-11c2-4fd2-b48b-3ddece5ee2b5",
   "metadata": {},
   "outputs": [
    {
     "data": {
      "text/plain": [
       "array([[3, 6, 3],\n",
       "       [7, 8, 6]])"
      ]
     },
     "execution_count": 28,
     "metadata": {},
     "output_type": "execute_result"
    }
   ],
   "source": [
    "a = np.array([[1,6,3],[7,8,6]])\n",
    "b = np.array([[3,2,1], [4,5,6]])\n",
    "np.maximum(a, b)"
   ]
  },
  {
   "cell_type": "code",
   "execution_count": 29,
   "id": "ae4985f2-0608-4fea-b117-8fdeb3453982",
   "metadata": {},
   "outputs": [
    {
     "data": {
      "text/plain": [
       "array([[[1, 3],\n",
       "        [6, 2],\n",
       "        [3, 1]],\n",
       "\n",
       "       [[7, 4],\n",
       "        [8, 5],\n",
       "        [6, 6]]])"
      ]
     },
     "execution_count": 29,
     "metadata": {},
     "output_type": "execute_result"
    }
   ],
   "source": [
    "np.dstack((a,b))"
   ]
  },
  {
   "cell_type": "code",
   "execution_count": 30,
   "id": "77b2407b-886e-4889-90ab-3480ef010672",
   "metadata": {},
   "outputs": [
    {
     "data": {
      "text/plain": [
       "array([[1, 0, 0],\n",
       "       [0, 0, 0]])"
      ]
     },
     "execution_count": 30,
     "metadata": {},
     "output_type": "execute_result"
    }
   ],
   "source": [
    "array_with_max = np.argmax(np.dstack((a,b)), axis=-1)\n",
    "array_with_max"
   ]
  },
  {
   "cell_type": "code",
   "execution_count": 31,
   "id": "bef8ef18-f287-40b6-ad1a-b443b02cb287",
   "metadata": {},
   "outputs": [
    {
     "data": {
      "text/plain": [
       "True"
      ]
     },
     "execution_count": 31,
     "metadata": {},
     "output_type": "execute_result"
    }
   ],
   "source": [
    "array_with_max.shape == a.shape"
   ]
  },
  {
   "cell_type": "code",
   "execution_count": 32,
   "id": "54144334-e815-4d88-834e-fafeeaf5b2dd",
   "metadata": {},
   "outputs": [
    {
     "data": {
      "text/plain": [
       "array([[0, 0]])"
      ]
     },
     "execution_count": 32,
     "metadata": {},
     "output_type": "execute_result"
    }
   ],
   "source": [
    "np.transpose(array_with_max.nonzero())"
   ]
  },
  {
   "cell_type": "code",
   "execution_count": 33,
   "id": "2e68b0f8-c705-47b8-9829-03750400e94e",
   "metadata": {},
   "outputs": [
    {
     "data": {
      "text/plain": [
       "(0, 0)"
      ]
     },
     "execution_count": 33,
     "metadata": {},
     "output_type": "execute_result"
    }
   ],
   "source": [
    "tuple(*np.transpose(array_with_max.nonzero()))"
   ]
  },
  {
   "cell_type": "code",
   "execution_count": 34,
   "id": "24443c15-a7c7-401e-aeea-937edf8fe9c9",
   "metadata": {},
   "outputs": [
    {
     "data": {
      "text/plain": [
       "1"
      ]
     },
     "execution_count": 34,
     "metadata": {},
     "output_type": "execute_result"
    }
   ],
   "source": [
    "a[tuple(*np.transpose(array_with_max.nonzero()))]"
   ]
  },
  {
   "cell_type": "markdown",
   "id": "1fc5a8cc-a0b2-44ba-9da8-722d02a46f2e",
   "metadata": {},
   "source": [
    "**Dp Maximum - fetching indices**"
   ]
  },
  {
   "cell_type": "code",
   "execution_count": 10,
   "id": "13d3e0c4-c212-4fe4-865d-dc8c4e34ee19",
   "metadata": {},
   "outputs": [],
   "source": [
    "dsl = DataSubjectList.from_objs(np.random.choice([7, 10], size=(3,3)))"
   ]
  },
  {
   "cell_type": "code",
   "execution_count": 11,
   "id": "d8c29c72-64a7-4b17-af33-d5d363d0b973",
   "metadata": {},
   "outputs": [
    {
     "data": {
      "text/plain": [
       "array([ 7, 10])"
      ]
     },
     "execution_count": 11,
     "metadata": {},
     "output_type": "execute_result"
    }
   ],
   "source": [
    "dsl.one_hot_lookup"
   ]
  },
  {
   "cell_type": "code",
   "execution_count": 12,
   "id": "1bac1428-2338-4e29-829a-f32cd73918e1",
   "metadata": {},
   "outputs": [
    {
     "data": {
      "text/plain": [
       "array([[1, 0, 0],\n",
       "       [0, 0, 0],\n",
       "       [1, 0, 0]])"
      ]
     },
     "execution_count": 12,
     "metadata": {},
     "output_type": "execute_result"
    }
   ],
   "source": [
    "dsl.data_subjects_indexed"
   ]
  },
  {
   "cell_type": "code",
   "execution_count": 7,
   "id": "d7b76f9c-5d9b-43e1-ad74-75dff2aef99f",
   "metadata": {},
   "outputs": [],
   "source": [
    "dsl2 = DataSubjectList.from_objs(np.random.choice([7, 11], size=(3,3)))"
   ]
  },
  {
   "cell_type": "code",
   "execution_count": 8,
   "id": "61753b33-98d4-4b46-bf93-1ea0bd87a83e",
   "metadata": {},
   "outputs": [
    {
     "data": {
      "text/plain": [
       "array([[0, 1, 0],\n",
       "       [1, 1, 1],\n",
       "       [1, 1, 0]])"
      ]
     },
     "execution_count": 8,
     "metadata": {},
     "output_type": "execute_result"
    }
   ],
   "source": [
    "dsl2.data_subjects_indexed"
   ]
  },
  {
   "cell_type": "code",
   "execution_count": 5,
   "id": "c6abd5ca-90af-473d-b330-2e097e72994a",
   "metadata": {},
   "outputs": [
    {
     "name": "stderr",
     "output_type": "stream",
     "text": [
      "WARNING:absl:No GPU/TPU found, falling back to CPU. (Set TF_CPP_MIN_LOG_LEVEL=0 and rerun for more info.)\n"
     ]
    }
   ],
   "source": [
    "gt = GammaTensor(\n",
    "    child=jnp.array(np.random.rand(3,3)),\n",
    "    data_subjects=dsl,\n",
    "    min_val=0,\n",
    "    max_val=1\n",
    ")"
   ]
  },
  {
   "cell_type": "code",
   "execution_count": 6,
   "id": "d7167d7e-392f-4f73-8acc-c180d4dac6a5",
   "metadata": {},
   "outputs": [
    {
     "data": {
      "text/plain": [
       "GammaTensor(child=DeviceArray([0.95491687, 0.50318373, 0.47252621], dtype=float64), data_subjects=<syft.core.adp.data_subject_list.DataSubjectList object at 0x7fbc0458d220>, min_val=0, max_val=1, is_linear=True, func=<function no_op at 0x7fbb40780310>, id='1755200300', state={})"
      ]
     },
     "execution_count": 6,
     "metadata": {},
     "output_type": "execute_result"
    }
   ],
   "source": [
    "gt[0]"
   ]
  },
  {
   "cell_type": "code",
   "execution_count": 13,
   "id": "7cf74cbd-1393-4d17-8b5c-b75ae9c536ad",
   "metadata": {},
   "outputs": [],
   "source": [
    "gt2 = GammaTensor(\n",
    "    child=jnp.array(np.random.rand(3,3)),\n",
    "    data_subjects=dsl,\n",
    "    min_val=0,\n",
    "    max_val=1\n",
    ")"
   ]
  },
  {
   "cell_type": "code",
   "execution_count": 41,
   "id": "d20edc55-9cd0-477d-a3a8-e58959bbc88e",
   "metadata": {},
   "outputs": [
    {
     "data": {
      "text/plain": [
       "0"
      ]
     },
     "execution_count": 41,
     "metadata": {},
     "output_type": "execute_result"
    }
   ],
   "source": [
    "gt.min_val"
   ]
  },
  {
   "cell_type": "code",
   "execution_count": 42,
   "id": "2e3757b5-67bb-48f2-a47c-dd9fceb0a1aa",
   "metadata": {},
   "outputs": [
    {
     "data": {
      "text/plain": [
       "array([[0.00000000e+000, 2.86558075e-322, 0.00000000e+000,\n",
       "        0.00000000e+000],\n",
       "       [0.00000000e+000, 0.00000000e+000, 0.00000000e+000,\n",
       "        0.00000000e+000],\n",
       "       [0.00000000e+000, 0.00000000e+000, 0.00000000e+000,\n",
       "        0.00000000e+000],\n",
       "       [0.00000000e+000, 0.00000000e+000, 0.00000000e+000,\n",
       "        5.21522906e-310]])"
      ]
     },
     "execution_count": 42,
     "metadata": {},
     "output_type": "execute_result"
    }
   ],
   "source": [
    "np.empty(np.prod((4,4))).reshape((4,4))"
   ]
  },
  {
   "cell_type": "code",
   "execution_count": 43,
   "id": "1583257a-0191-4dfd-a866-0decbf154c1e",
   "metadata": {},
   "outputs": [
    {
     "data": {
      "text/plain": [
       "array([], dtype=float64)"
      ]
     },
     "execution_count": 43,
     "metadata": {},
     "output_type": "execute_result"
    }
   ],
   "source": [
    "np.empty(0)"
   ]
  },
  {
   "cell_type": "code",
   "execution_count": 44,
   "id": "d9d218a3-4fb5-4980-906c-70d529ae799b",
   "metadata": {},
   "outputs": [],
   "source": [
    "data_subs = DataSubjectList(one_hot_lookup=np.empty(0), data_subjects_indexed=np.empty(0))"
   ]
  },
  {
   "cell_type": "code",
   "execution_count": 45,
   "id": "7c2f03c8-ece4-4f5d-91ed-21c4ffea2aab",
   "metadata": {},
   "outputs": [
    {
     "data": {
      "text/plain": [
       "<syft.core.adp.data_subject_list.DataSubjectList at 0x7fcb53312ca0>"
      ]
     },
     "execution_count": 45,
     "metadata": {},
     "output_type": "execute_result"
    }
   ],
   "source": [
    "DataSubjectList.combine(data_subs, dsl)"
   ]
  },
  {
   "cell_type": "code",
   "execution_count": 14,
   "id": "fd38e556-6fd8-414a-9c30-6fbf8e4bbee1",
   "metadata": {},
   "outputs": [
    {
     "data": {
      "text/plain": [
       "<syft.core.adp.data_subject_list.DataSubjectList at 0x7fbaf01d8ac0>"
      ]
     },
     "execution_count": 14,
     "metadata": {},
     "output_type": "execute_result"
    }
   ],
   "source": [
    "DataSubjectList.combine(dsl, dsl2)"
   ]
  },
  {
   "cell_type": "code",
   "execution_count": 15,
   "id": "aebbfd30-d8c9-41ec-9c92-9cb3425b48be",
   "metadata": {},
   "outputs": [
    {
     "data": {
      "text/plain": [
       "array([ 7, 10, 11])"
      ]
     },
     "execution_count": 15,
     "metadata": {},
     "output_type": "execute_result"
    }
   ],
   "source": [
    "DataSubjectList.combine(dsl, dsl2).one_hot_lookup"
   ]
  },
  {
   "cell_type": "code",
   "execution_count": 16,
   "id": "bee77209-2f88-4ed3-8a6d-1c6a2ead485c",
   "metadata": {},
   "outputs": [
    {
     "data": {
      "text/plain": [
       "array([[[1, 0, 0],\n",
       "        [0, 0, 0],\n",
       "        [1, 0, 0]],\n",
       "\n",
       "       [[0, 2, 0],\n",
       "        [2, 2, 2],\n",
       "        [2, 2, 0]]])"
      ]
     },
     "execution_count": 16,
     "metadata": {},
     "output_type": "execute_result"
    }
   ],
   "source": [
    "DataSubjectList.combine(dsl, dsl2).data_subjects_indexed"
   ]
  },
  {
   "cell_type": "code",
   "execution_count": 46,
   "id": "54bc32db-586b-4ae4-be6b-91dcfb9cfce7",
   "metadata": {},
   "outputs": [
    {
     "data": {
      "text/plain": [
       "9"
      ]
     },
     "execution_count": 46,
     "metadata": {},
     "output_type": "execute_result"
    }
   ],
   "source": [
    "np.prod(gt.shape)"
   ]
  },
  {
   "cell_type": "code",
   "execution_count": 47,
   "id": "52f552c9-29d8-415f-b92d-a8e5bb2d1953",
   "metadata": {},
   "outputs": [
    {
     "data": {
      "text/plain": [
       "True"
      ]
     },
     "execution_count": 47,
     "metadata": {},
     "output_type": "execute_result"
    }
   ],
   "source": [
    "a = 5\n",
    "b = 5.0\n",
    "\n",
    "any([isinstance(i, int)] for i in (a, b))\n",
    "# all([isinstance(i, int) for i in (a, b)])"
   ]
  },
  {
   "cell_type": "code",
   "execution_count": 48,
   "id": "a8b7e1f6-9509-4616-8366-c8af85482fca",
   "metadata": {},
   "outputs": [],
   "source": [
    "a = [1,2,3]\n",
    "b = [5,6,7]\n",
    "a += b"
   ]
  },
  {
   "cell_type": "code",
   "execution_count": 49,
   "id": "cd1d148d-f108-4dbc-be1c-ee8885ebde49",
   "metadata": {},
   "outputs": [
    {
     "data": {
      "text/plain": [
       "[1, 2, 3, 5, 6, 7]"
      ]
     },
     "execution_count": 49,
     "metadata": {},
     "output_type": "execute_result"
    }
   ],
   "source": [
    "a"
   ]
  },
  {
   "cell_type": "code",
   "execution_count": 50,
   "id": "afb2eafe-ba08-4ca2-8046-b7a958aacf5f",
   "metadata": {},
   "outputs": [],
   "source": [
    "from tqdm import tqdm\n",
    "\n",
    "\n",
    "from typing import List, Tuple\n",
    "from syft.core.tensor.lazy_repeat_array import lazyrepeatarray\n",
    "def combine(gt_list: List[GammaTensor], target_shape: Tuple) -> GammaTensor:\n",
    "    data = np.zeros(np.prod(target_shape))\n",
    "    last_index = 0\n",
    "    min_val = 1e20\n",
    "    max_val = -1e20\n",
    "    \n",
    "    data_subs = DataSubjectList(one_hot_lookup=np.empty(0), data_subjects_indexed=np.empty(0))\n",
    "    \n",
    "    for gamma_tensor in tqdm(gt_list):\n",
    "        # Add data points\n",
    "        input_size = int(np.prod(gamma_tensor.shape))\n",
    "        print(last_index, input_size)\n",
    "        data[last_index: last_index + input_size] = gamma_tensor.child.flatten()\n",
    "        last_index += input_size\n",
    "        print(data)\n",
    "        \n",
    "        \n",
    "        # Add min/max values\n",
    "        if isinstance(gamma_tensor.min_val, lazyrepeatarray):\n",
    "            local_min = gamma_tensor.min_val.data.min()\n",
    "            if local_min < min_val:\n",
    "                min_val = local_min\n",
    "                \n",
    "            local_max = gamma_tensor.max_val.data.max()\n",
    "            if local_max < max_val:\n",
    "                max_val = local_max\n",
    "            \n",
    "        elif isinstance(gamma_tensor.min_val, (int, float)):\n",
    "            if gamma_tensor.min_val < min_val:\n",
    "                min_val = gamma_tensor.min_val\n",
    "            \n",
    "            if gamma_tensor.max_val < max_val:\n",
    "                max_val = local_max\n",
    "        else:\n",
    "            raise NotImplementedError(f\"Undefined behaviour for type: {type(gamma_tensor.min_val)}\")\n",
    "        \n",
    "        # Add data subjects\n",
    "        data_subs = DataSubjectList.absorb(data_subs, gamma_tensor.data_subjects)\n",
    "    \n",
    "    data_subs.data_subjects_indexed = data_subs.data_subjects_indexed.reshape(target_shape)\n",
    "    \n",
    "    return GammaTensor(\n",
    "        child=data.reshape(target_shape),\n",
    "        data_subjects=data_subs,\n",
    "        min_val=min_val,\n",
    "        max_val=max_val\n",
    "    )\n",
    "    \n",
    "def phi_data_subjects_differ(x, y):\n",
    "    if not isinstance(y, PhiTensor) or not isinstance(x, PhiTensor):\n",
    "        return False\n",
    "    \n",
    "    if x.data_subjects.one_hot_lookup != y.data_subjects.one_hot_lookup:\n",
    "        return True\n",
    "    else:\n",
    "        return False\n",
    "    \n",
    "\n",
    "from typing import Union\n",
    "def dp_maximum(x: Union[PhiTensor, GammaTensor], y: Union[np.ndarray, PhiTensor, GammaTensor]\n",
    "               ) -> Union[PhiTensor, GammaTensor]:\n",
    "    # TODO: Make this work for GammaTensors\n",
    "    x_data = x.child\n",
    "    y_data = y.child if hasattr(y, \"child\") else y\n",
    "\n",
    "    output = np.maximum(x_data, y_data)\n",
    "    \n",
    "    \n",
    "    # Input checks to see if output is GammaTensor:\n",
    "    inputs_are_gamma = any([isinstance(i, GammaTensor) for i in (x, y)])\n",
    "    inputs_are_phi = all([isinstance(i, PhiTensor) for i in (x, y)])\n",
    "    \n",
    "    if inputs_are_gamma or (inputs_are_phi and phi_data_subjects_differ(x, y)):\n",
    "        array_with_max = np.argmax(np.dstack((x_data, y_data)), axis=-1)\n",
    "        x_max_ds = np.transpose(array_with_max.nonzero())\n",
    "        y_max_ds = np.transpose((array_with_max == 1).nonzero())\n",
    "        x_indices = [tuple(i) for i in x_max_ds]\n",
    "\n",
    "        tensor_list = [x[tuple(i)] for i in x_max_ds]\n",
    "        if isinstance(y, (PhiTensor, GammaTensor)):\n",
    "            tensor_list += [y[tuple(i)] for i in y_max_ds]\n",
    "            \n",
    "        return combine(tensor_list, output.shape)\n",
    "\n",
    "    min_v, max_v = output.min(), output.max()\n",
    "    dsl = DataSubjectList(\n",
    "        one_hot_lookup=x.data_subjects.one_hot_lookup,\n",
    "        data_subjects_indexed=np.zeros_like(output)\n",
    "    )\n",
    "    return PhiTensor(\n",
    "        child=output,\n",
    "        data_subjects=dsl,\n",
    "        min_vals=min_v,\n",
    "        max_vals=max_v,\n",
    "    )"
   ]
  },
  {
   "cell_type": "code",
   "execution_count": 17,
   "id": "7205371b-750a-4296-b619-afa4c5fedb0d",
   "metadata": {},
   "outputs": [
    {
     "ename": "IndexError",
     "evalue": "too many indices for array: array is 0-dimensional, but 1 were indexed",
     "output_type": "error",
     "traceback": [
      "\u001b[0;31m---------------------------------------------------------------------------\u001b[0m",
      "\u001b[0;31mIndexError\u001b[0m                                Traceback (most recent call last)",
      "\u001b[0;32m/tmp/ipykernel_40304/3598630347.py\u001b[0m in \u001b[0;36m<module>\u001b[0;34m\u001b[0m\n\u001b[0;32m----> 1\u001b[0;31m \u001b[0mres\u001b[0m \u001b[0;34m=\u001b[0m \u001b[0mnn\u001b[0m\u001b[0;34m.\u001b[0m\u001b[0mutils\u001b[0m\u001b[0;34m.\u001b[0m\u001b[0mdp_maximum\u001b[0m\u001b[0;34m(\u001b[0m\u001b[0mgt\u001b[0m\u001b[0;34m,\u001b[0m \u001b[0mgt2\u001b[0m\u001b[0;34m)\u001b[0m\u001b[0;34m\u001b[0m\u001b[0;34m\u001b[0m\u001b[0m\n\u001b[0m",
      "\u001b[0;32m~/PycharmProjects/PySyft/packages/syft/src/syft/core/tensor/nn/utils.py\u001b[0m in \u001b[0;36mdp_maximum\u001b[0;34m(x, y)\u001b[0m\n\u001b[1;32m     51\u001b[0m         \u001b[0;32mif\u001b[0m \u001b[0misinstance\u001b[0m\u001b[0;34m(\u001b[0m\u001b[0my\u001b[0m\u001b[0;34m,\u001b[0m \u001b[0;34m(\u001b[0m\u001b[0mPhiTensor\u001b[0m\u001b[0;34m,\u001b[0m \u001b[0mGammaTensor\u001b[0m\u001b[0;34m)\u001b[0m\u001b[0;34m)\u001b[0m\u001b[0;34m:\u001b[0m\u001b[0;34m\u001b[0m\u001b[0;34m\u001b[0m\u001b[0m\n\u001b[1;32m     52\u001b[0m             \u001b[0mtensor_list\u001b[0m \u001b[0;34m+=\u001b[0m \u001b[0;34m[\u001b[0m\u001b[0my\u001b[0m\u001b[0;34m[\u001b[0m\u001b[0mtuple\u001b[0m\u001b[0;34m(\u001b[0m\u001b[0mi\u001b[0m\u001b[0;34m)\u001b[0m\u001b[0;34m]\u001b[0m \u001b[0;32mfor\u001b[0m \u001b[0mi\u001b[0m \u001b[0;32min\u001b[0m \u001b[0my_max_ds\u001b[0m\u001b[0;34m]\u001b[0m\u001b[0;34m\u001b[0m\u001b[0;34m\u001b[0m\u001b[0m\n\u001b[0;32m---> 53\u001b[0;31m         \u001b[0;32mreturn\u001b[0m \u001b[0mGammaTensor\u001b[0m\u001b[0;34m.\u001b[0m\u001b[0mcombine\u001b[0m\u001b[0;34m(\u001b[0m\u001b[0mtensor_list\u001b[0m\u001b[0;34m,\u001b[0m \u001b[0moutput\u001b[0m\u001b[0;34m.\u001b[0m\u001b[0mshape\u001b[0m\u001b[0;34m)\u001b[0m\u001b[0;34m\u001b[0m\u001b[0;34m\u001b[0m\u001b[0m\n\u001b[0m\u001b[1;32m     54\u001b[0m \u001b[0;34m\u001b[0m\u001b[0m\n\u001b[1;32m     55\u001b[0m     \u001b[0mmin_v\u001b[0m\u001b[0;34m,\u001b[0m \u001b[0mmax_v\u001b[0m \u001b[0;34m=\u001b[0m \u001b[0moutput\u001b[0m\u001b[0;34m.\u001b[0m\u001b[0mmin\u001b[0m\u001b[0;34m(\u001b[0m\u001b[0;34m)\u001b[0m\u001b[0;34m,\u001b[0m \u001b[0moutput\u001b[0m\u001b[0;34m.\u001b[0m\u001b[0mmax\u001b[0m\u001b[0;34m(\u001b[0m\u001b[0;34m)\u001b[0m\u001b[0;34m\u001b[0m\u001b[0;34m\u001b[0m\u001b[0m\n",
      "\u001b[0;32m~/PycharmProjects/PySyft/packages/syft/src/syft/core/tensor/autodp/gamma_tensor.py\u001b[0m in \u001b[0;36mcombine\u001b[0;34m(gt_list, target_shape)\u001b[0m\n\u001b[1;32m   1595\u001b[0m \u001b[0;34m\u001b[0m\u001b[0m\n\u001b[1;32m   1596\u001b[0m             \u001b[0;31m# Add data subjects\u001b[0m\u001b[0;34m\u001b[0m\u001b[0;34m\u001b[0m\u001b[0m\n\u001b[0;32m-> 1597\u001b[0;31m             \u001b[0mdata_subs\u001b[0m \u001b[0;34m=\u001b[0m \u001b[0mDataSubjectList\u001b[0m\u001b[0;34m.\u001b[0m\u001b[0mabsorb\u001b[0m\u001b[0;34m(\u001b[0m\u001b[0mdata_subs\u001b[0m\u001b[0;34m,\u001b[0m \u001b[0mgamma_tensor\u001b[0m\u001b[0;34m.\u001b[0m\u001b[0mdata_subjects\u001b[0m\u001b[0;34m)\u001b[0m\u001b[0;34m\u001b[0m\u001b[0;34m\u001b[0m\u001b[0m\n\u001b[0m\u001b[1;32m   1598\u001b[0m \u001b[0;34m\u001b[0m\u001b[0m\n\u001b[1;32m   1599\u001b[0m         \u001b[0mdata_subs\u001b[0m\u001b[0;34m.\u001b[0m\u001b[0mdata_subjects_indexed\u001b[0m \u001b[0;34m=\u001b[0m \u001b[0mdata_subs\u001b[0m\u001b[0;34m.\u001b[0m\u001b[0mdata_subjects_indexed\u001b[0m\u001b[0;34m.\u001b[0m\u001b[0mreshape\u001b[0m\u001b[0;34m(\u001b[0m\u001b[0mtarget_shape\u001b[0m\u001b[0;34m)\u001b[0m\u001b[0;34m\u001b[0m\u001b[0;34m\u001b[0m\u001b[0m\n",
      "\u001b[0;32m~/PycharmProjects/PySyft/packages/syft/src/syft/core/adp/data_subject_list.py\u001b[0m in \u001b[0;36mabsorb\u001b[0;34m(dsl1, dsl2)\u001b[0m\n\u001b[1;32m    299\u001b[0m             \u001b[0moutput_data_subjects_indexed\u001b[0m \u001b[0;34m=\u001b[0m \u001b[0mnp\u001b[0m\u001b[0;34m.\u001b[0m\u001b[0mzeros_like\u001b[0m\u001b[0;34m(\u001b[0m\u001b[0mdsl2\u001b[0m\u001b[0;34m.\u001b[0m\u001b[0mdata_subjects_indexed\u001b[0m\u001b[0;34m)\u001b[0m\u001b[0;34m\u001b[0m\u001b[0;34m\u001b[0m\u001b[0m\n\u001b[1;32m    300\u001b[0m             \u001b[0;32mfor\u001b[0m \u001b[0mold_value\u001b[0m\u001b[0;34m,\u001b[0m \u001b[0mnew_value\u001b[0m \u001b[0;32min\u001b[0m \u001b[0mzip\u001b[0m\u001b[0;34m(\u001b[0m\u001b[0moverlapping_indices\u001b[0m\u001b[0;34m,\u001b[0m \u001b[0mtarget_overlap_indices\u001b[0m\u001b[0;34m)\u001b[0m\u001b[0;34m:\u001b[0m\u001b[0;34m\u001b[0m\u001b[0;34m\u001b[0m\u001b[0m\n\u001b[0;32m--> 301\u001b[0;31m                 \u001b[0moutput_data_subjects_indexed\u001b[0m\u001b[0;34m[\u001b[0m\u001b[0marray_to_change\u001b[0m \u001b[0;34m==\u001b[0m \u001b[0mold_value\u001b[0m\u001b[0;34m]\u001b[0m \u001b[0;34m=\u001b[0m \u001b[0mnew_value\u001b[0m\u001b[0;34m\u001b[0m\u001b[0;34m\u001b[0m\u001b[0m\n\u001b[0m\u001b[1;32m    302\u001b[0m \u001b[0;34m\u001b[0m\u001b[0m\n\u001b[1;32m    303\u001b[0m             \u001b[0;31m# Task 2- do the same but for unique data subjects\u001b[0m\u001b[0;34m\u001b[0m\u001b[0;34m\u001b[0m\u001b[0m\n",
      "\u001b[0;31mIndexError\u001b[0m: too many indices for array: array is 0-dimensional, but 1 were indexed"
     ]
    }
   ],
   "source": [
    "res = nn.utils.dp_maximum(gt, gt2)"
   ]
  },
  {
   "cell_type": "code",
   "execution_count": 52,
   "id": "7ff26fdf-a028-4eb2-978e-4becae7f0434",
   "metadata": {},
   "outputs": [
    {
     "data": {
      "text/plain": [
       "array([[0, 0, 0],\n",
       "       [0, 0, 1],\n",
       "       [0, 1, 1]])"
      ]
     },
     "execution_count": 52,
     "metadata": {},
     "output_type": "execute_result"
    }
   ],
   "source": [
    "res.data_subjects.data_subjects_indexed"
   ]
  },
  {
   "cell_type": "code",
   "execution_count": 53,
   "id": "e480739f-4f91-49a6-8841-18a0ad2911ae",
   "metadata": {},
   "outputs": [
    {
     "data": {
      "text/plain": [
       "array([ 7, 10])"
      ]
     },
     "execution_count": 53,
     "metadata": {},
     "output_type": "execute_result"
    }
   ],
   "source": [
    "res.data_subjects.one_hot_lookup"
   ]
  },
  {
   "cell_type": "code",
   "execution_count": 54,
   "id": "985b4c64-0d40-4078-b8aa-2645cc755ecb",
   "metadata": {},
   "outputs": [
    {
     "data": {
      "text/plain": [
       "array([[0, 0, 0],\n",
       "       [0, 0, 1],\n",
       "       [0, 1, 1]])"
      ]
     },
     "execution_count": 54,
     "metadata": {},
     "output_type": "execute_result"
    }
   ],
   "source": [
    "res.data_subjects.data_subjects_indexed"
   ]
  },
  {
   "cell_type": "code",
   "execution_count": 55,
   "id": "488b44b1-5a06-4558-9861-1ed7231bc8c3",
   "metadata": {},
   "outputs": [],
   "source": [
    "from syft.core.tensor.lazy_repeat_array import lazyrepeatarray as lra"
   ]
  },
  {
   "cell_type": "code",
   "execution_count": 56,
   "id": "b5fe2ec0-ba2e-457a-8503-d380125f74d7",
   "metadata": {},
   "outputs": [],
   "source": [
    "m = lra(data=4, shape=(10,10))"
   ]
  },
  {
   "cell_type": "code",
   "execution_count": 57,
   "id": "31103ac0-bc54-4163-a83c-6d6c43ce03d2",
   "metadata": {},
   "outputs": [
    {
     "name": "stdout",
     "output_type": "stream",
     "text": [
      "5\n"
     ]
    },
    {
     "data": {
      "text/plain": [
       "<lazyrepeatarray data: 4 -> shape: (10,)>"
      ]
     },
     "execution_count": 57,
     "metadata": {},
     "output_type": "execute_result"
    }
   ],
   "source": [
    "m[5]"
   ]
  },
  {
   "cell_type": "code",
   "execution_count": 58,
   "id": "b0a272e8-aa34-455c-9dfd-c000c1c71fb5",
   "metadata": {},
   "outputs": [
    {
     "name": "stdout",
     "output_type": "stream",
     "text": [
      "(5, 6)\n"
     ]
    },
    {
     "data": {
      "text/plain": [
       "<lazyrepeatarray data: 4 -> shape: ()>"
      ]
     },
     "execution_count": 58,
     "metadata": {},
     "output_type": "execute_result"
    }
   ],
   "source": [
    "m[5,6]"
   ]
  },
  {
   "cell_type": "code",
   "execution_count": 59,
   "id": "ff3ffa90-ed22-4bf8-8b1f-99abbf3c8409",
   "metadata": {},
   "outputs": [
    {
     "name": "stdout",
     "output_type": "stream",
     "text": [
      "(slice(1, 5, None), slice(6, 8, None))\n"
     ]
    },
    {
     "data": {
      "text/plain": [
       "<lazyrepeatarray data: 4 -> shape: (4, 2)>"
      ]
     },
     "execution_count": 59,
     "metadata": {},
     "output_type": "execute_result"
    }
   ],
   "source": [
    "m[1:5, 6:8]"
   ]
  },
  {
   "cell_type": "code",
   "execution_count": 60,
   "id": "bb0a9b02-598e-456c-a472-ad6b6a3e810a",
   "metadata": {},
   "outputs": [
    {
     "data": {
      "text/plain": [
       "True"
      ]
     },
     "execution_count": 60,
     "metadata": {},
     "output_type": "execute_result"
    }
   ],
   "source": [
    "isinstance(slice(1,5, None), slice)"
   ]
  },
  {
   "cell_type": "code",
   "execution_count": 61,
   "id": "7ce7d5dc-2cfb-4102-b6f6-9865e46ef101",
   "metadata": {},
   "outputs": [],
   "source": [
    "s = slice(1, 5, None)"
   ]
  },
  {
   "cell_type": "code",
   "execution_count": 62,
   "id": "debb460f-bee8-4973-b7fa-5105a29ad3de",
   "metadata": {},
   "outputs": [
    {
     "data": {
      "text/plain": [
       "1"
      ]
     },
     "execution_count": 62,
     "metadata": {},
     "output_type": "execute_result"
    }
   ],
   "source": [
    "s.start"
   ]
  },
  {
   "cell_type": "code",
   "execution_count": 63,
   "id": "2315b9c1-1b45-4c21-bcd9-4be34da4e03d",
   "metadata": {},
   "outputs": [
    {
     "data": {
      "text/plain": [
       "5"
      ]
     },
     "execution_count": 63,
     "metadata": {},
     "output_type": "execute_result"
    }
   ],
   "source": [
    "s.stop"
   ]
  },
  {
   "cell_type": "code",
   "execution_count": 64,
   "id": "7aeed094-47e7-4c3f-a959-14e881bd598b",
   "metadata": {},
   "outputs": [
    {
     "data": {
      "text/plain": [
       "(1, 5, 1)"
      ]
     },
     "execution_count": 64,
     "metadata": {},
     "output_type": "execute_result"
    }
   ],
   "source": [
    "s.indices(80)"
   ]
  },
  {
   "cell_type": "code",
   "execution_count": 65,
   "id": "b826bcba-9787-465c-b3ae-92bf6aa5f7dd",
   "metadata": {},
   "outputs": [
    {
     "data": {
      "text/plain": [
       "slice(1, 5, None)"
      ]
     },
     "execution_count": 65,
     "metadata": {},
     "output_type": "execute_result"
    }
   ],
   "source": [
    "s"
   ]
  },
  {
   "cell_type": "code",
   "execution_count": 22,
   "id": "a64717df-1bf0-4e1e-8803-082656d38d9f",
   "metadata": {},
   "outputs": [
    {
     "data": {
      "text/plain": [
       "GammaTensor(child=array([[0., 0., 0.],\n",
       "       [0., 0., 0.],\n",
       "       [0., 0., 0.]]), data_subjects=<syft.core.adp.data_subject_list.DataSubjectList object at 0x7fbb2031c160>, min_val=<lazyrepeatarray data: 0.0 -> shape: (3, 3)>, max_val=<lazyrepeatarray data: 0.0 -> shape: (3, 3)>, is_linear=True, func=<function no_op at 0x7fbb40780310>, id='755921866', state={})"
      ]
     },
     "execution_count": 22,
     "metadata": {},
     "output_type": "execute_result"
    }
   ],
   "source": [
    "nn.utils.dp_zeros(gt.shape, gt2.data_subjects)"
   ]
  },
  {
   "cell_type": "code",
   "execution_count": 21,
   "id": "1d6e25b2-8bf3-49fd-859d-dd822dc4c5b5",
   "metadata": {},
   "outputs": [
    {
     "data": {
      "text/plain": [
       "array([ 7, 10])"
      ]
     },
     "execution_count": 21,
     "metadata": {},
     "output_type": "execute_result"
    }
   ],
   "source": [
    "gt2.data_subjects.one_hot_lookup"
   ]
  },
  {
   "cell_type": "code",
   "execution_count": null,
   "id": "b6f05695-e379-49df-89d9-0c232635260f",
   "metadata": {},
   "outputs": [],
   "source": []
  }
 ],
 "metadata": {
  "kernelspec": {
   "display_name": "Python 3 (ipykernel)",
   "language": "python",
   "name": "python3"
  },
  "language_info": {
   "codemirror_mode": {
    "name": "ipython",
    "version": 3
   },
   "file_extension": ".py",
   "mimetype": "text/x-python",
   "name": "python",
   "nbconvert_exporter": "python",
   "pygments_lexer": "ipython3",
   "version": "3.9.7"
  }
 },
 "nbformat": 4,
 "nbformat_minor": 5
}

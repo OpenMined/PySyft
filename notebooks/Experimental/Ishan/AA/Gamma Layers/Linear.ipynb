{
 "cells": [
  {
   "cell_type": "code",
   "execution_count": 1,
   "id": "ea5be828-7897-41cb-a244-6f8f2b28495b",
   "metadata": {},
   "outputs": [
    {
     "name": "stderr",
     "output_type": "stream",
     "text": [
      "/home/e/anaconda3/envs/Hagrid/lib/python3.9/site-packages/tqdm/auto.py:22: TqdmWarning: IProgress not found. Please update jupyter and ipywidgets. See https://ipywidgets.readthedocs.io/en/stable/user_install.html\n",
      "  from .autonotebook import tqdm as notebook_tqdm\n",
      "/home/e/PycharmProjects/PySyft/packages/syft/src/syft/core/common/serde/serializable.py:105: UserWarning: __attr_allowlist__ not defined for type Activation, even if it uses recursive serde, defaulting on the empty list.\n",
      "  warnings.warn(\n",
      "/home/e/PycharmProjects/PySyft/packages/syft/src/syft/core/common/serde/serializable.py:105: UserWarning: __attr_allowlist__ not defined for type Linear, even if it uses recursive serde, defaulting on the empty list.\n",
      "  warnings.warn(\n",
      "/home/e/PycharmProjects/PySyft/packages/syft/src/syft/core/common/serde/serializable.py:105: UserWarning: __attr_allowlist__ not defined for type BatchNorm, even if it uses recursive serde, defaulting on the empty list.\n",
      "  warnings.warn(\n",
      "/home/e/PycharmProjects/PySyft/packages/syft/src/syft/core/common/serde/serializable.py:105: UserWarning: __attr_allowlist__ not defined for type AvgPool, even if it uses recursive serde, defaulting on the empty list.\n",
      "  warnings.warn(\n",
      "/home/e/PycharmProjects/PySyft/packages/syft/src/syft/core/common/serde/serializable.py:105: UserWarning: __attr_allowlist__ not defined for type MaxPool, even if it uses recursive serde, defaulting on the empty list.\n",
      "  warnings.warn(\n",
      "/home/e/PycharmProjects/PySyft/packages/syft/src/syft/core/common/serde/serializable.py:105: UserWarning: __attr_allowlist__ not defined for type Loss, even if it uses recursive serde, defaulting on the empty list.\n",
      "  warnings.warn(\n",
      "/home/e/PycharmProjects/PySyft/packages/syft/src/syft/core/common/serde/serializable.py:105: UserWarning: __attr_allowlist__ not defined for type Optimizer, even if it uses recursive serde, defaulting on the empty list.\n",
      "  warnings.warn(\n"
     ]
    }
   ],
   "source": [
    "from syft import nn\n",
    "from syft import PhiTensor\n",
    "from syft import GammaTensor\n",
    "from syft import DataSubjectList\n",
    "import numpy as np\n",
    "from jax import numpy as jnp"
   ]
  },
  {
   "cell_type": "code",
   "execution_count": 2,
   "id": "88708791-9fc2-4266-a3e0-c84f1dd60aa7",
   "metadata": {},
   "outputs": [],
   "source": [
    "# third party\n",
    "import numpy as np\n",
    "from typing import Union\n",
    "\n",
    "# relative\n",
    "# from ....common.serde.serializable import serializable\n",
    "# from ...autodp.phi_tensor import PhiTensor\n",
    "XavierInitialization = nn.initializations.XavierInitialization\n",
    "Layer = nn.layers.base.Layer\n",
    "\n",
    "# @serializable(recursive_serde=True)\n",
    "class Linear(Layer):\n",
    "    def __init__(self, n_out, n_in=None):\n",
    "        self.n_out = n_out\n",
    "        self.n_in = n_in\n",
    "        self.out_shape = (None, n_out)\n",
    "\n",
    "        self.W = None\n",
    "        self.b = None\n",
    "        self.dW = None\n",
    "        self.db = None\n",
    "        self.last_input = None\n",
    "        self.init = XavierInitialization()\n",
    "\n",
    "    def connect_to(self, prev_layer=None):\n",
    "        if prev_layer is None:\n",
    "            assert self.n_in is not None\n",
    "            n_in = self.n_in\n",
    "        else:\n",
    "            assert len(prev_layer.out_shape) == 2\n",
    "            n_in = prev_layer.out_shape[-1]\n",
    "\n",
    "        self.W = self.init((n_in, self.n_out))\n",
    "        self.b = np.zeros((self.n_out,))\n",
    "\n",
    "    def forward(self, input: Union[PhiTensor, GammaTensor], *args, **kwargs):\n",
    "        self.last_input = input\n",
    "        return input.dot(self.W) + self.b\n",
    "\n",
    "    def backward(self, pre_grad: PhiTensor, *args, **kwargs):\n",
    "        self.dW = self.last_input.transpose().dot(pre_grad)  # Should this transpose just the last 2 indices?\n",
    "        #         self.dW = self.last_input.swapaxes(-1, -2)\n",
    "        self.db = pre_grad.mean(axis=0)\n",
    "        if not self.first_layer:\n",
    "            return pre_grad.dot(self.W.T)\n",
    "\n",
    "    @property\n",
    "    def params(self):\n",
    "        return self.W, self.b\n",
    "\n",
    "    @property\n",
    "    def grads(self):\n",
    "        return self.dW, self.db\n"
   ]
  },
  {
   "cell_type": "code",
   "execution_count": null,
   "id": "89e36df0-03f8-4db0-81c9-e0b05b551351",
   "metadata": {},
   "outputs": [],
   "source": []
  },
  {
   "cell_type": "code",
   "execution_count": 3,
   "id": "e8b6650a-5310-4522-9b8b-1fbd3218613c",
   "metadata": {},
   "outputs": [
    {
     "name": "stderr",
     "output_type": "stream",
     "text": [
      "WARNING:absl:No GPU/TPU found, falling back to CPU. (Set TF_CPP_MIN_LOG_LEVEL=0 and rerun for more info.)\n"
     ]
    }
   ],
   "source": [
    "from syft import lazyrepeatarray as lra\n",
    "\n",
    "sh = (10, 10)\n",
    "dsl = DataSubjectList(\n",
    "        one_hot_lookup=np.arange(10),\n",
    "        data_subjects_indexed=np.random.choice(np.arange(10), size=sh)\n",
    "    )\n",
    "smol_data = GammaTensor(\n",
    "        child=jnp.array(np.random.rand(*sh) * 255),\n",
    "        data_subjects=dsl,\n",
    "        min_vals=lra(0, shape=sh),\n",
    "        max_vals=lra(255, shape=sh))"
   ]
  },
  {
   "cell_type": "code",
   "execution_count": 4,
   "id": "8880ea5c-f08b-493e-80bc-b8b088eed095",
   "metadata": {},
   "outputs": [
    {
     "data": {
      "text/plain": [
       "dict_keys(['613830793', '1276741108'])"
      ]
     },
     "execution_count": 4,
     "metadata": {},
     "output_type": "execute_result"
    }
   ],
   "source": [
    "smol_data.dot(smol_data.transpose()).state.keys()"
   ]
  },
  {
   "cell_type": "code",
   "execution_count": 5,
   "id": "5c511096-eeed-4d0e-a7a4-9969cde07b27",
   "metadata": {},
   "outputs": [],
   "source": [
    "assert isinstance(smol_data.dot(np.ones((10,10))), GammaTensor)"
   ]
  },
  {
   "cell_type": "code",
   "execution_count": 6,
   "id": "22cbf2b9-a16a-4133-a42f-73212dc3cb02",
   "metadata": {},
   "outputs": [],
   "source": [
    "lin = Linear(n_out=5)"
   ]
  },
  {
   "cell_type": "code",
   "execution_count": 7,
   "id": "bfe27355-8500-4f48-95f6-63477408b4fc",
   "metadata": {},
   "outputs": [],
   "source": [
    "lin.n_in = 10\n",
    "lin.connect_to()"
   ]
  },
  {
   "cell_type": "code",
   "execution_count": 8,
   "id": "b55abb8b-a0e0-4bee-9e0a-321e6edc6f04",
   "metadata": {},
   "outputs": [],
   "source": [
    "res = lin.forward(smol_data)"
   ]
  },
  {
   "cell_type": "code",
   "execution_count": 9,
   "id": "48b46cd4-0b8b-4470-b79a-198a74fc8ce0",
   "metadata": {},
   "outputs": [
    {
     "data": {
      "text/plain": [
       "(10, 5)"
      ]
     },
     "execution_count": 9,
     "metadata": {},
     "output_type": "execute_result"
    }
   ],
   "source": [
    "res.shape"
   ]
  },
  {
   "cell_type": "code",
   "execution_count": 10,
   "id": "aff1ee66-1614-49e5-8bc1-cb42f7c7b444",
   "metadata": {},
   "outputs": [
    {
     "data": {
      "text/plain": [
       "(10, 5)"
      ]
     },
     "execution_count": 10,
     "metadata": {},
     "output_type": "execute_result"
    }
   ],
   "source": [
    "lin.W.shape"
   ]
  },
  {
   "cell_type": "code",
   "execution_count": 11,
   "id": "62167534-02bf-4890-85a1-e73bdaaa64f0",
   "metadata": {},
   "outputs": [],
   "source": [
    "res2 = lin.backward(res)"
   ]
  },
  {
   "cell_type": "code",
   "execution_count": 23,
   "id": "1a3ad0ce-e806-4dcb-b1e4-ffb4b55b311c",
   "metadata": {},
   "outputs": [
    {
     "data": {
      "text/plain": [
       "(10, 10)"
      ]
     },
     "execution_count": 23,
     "metadata": {},
     "output_type": "execute_result"
    }
   ],
   "source": [
    "res2.data_subjects.data_subjects_indexed.shape"
   ]
  },
  {
   "cell_type": "code",
   "execution_count": 12,
   "id": "916cf846-1107-4218-a17a-1ff4574bf718",
   "metadata": {},
   "outputs": [
    {
     "data": {
      "text/plain": [
       "array([[ 0.49379314,  0.21496861, -0.45342833, -0.35527468, -0.4657647 ],\n",
       "       [ 0.45522281, -0.22787395,  0.25857645, -0.23341571,  0.3831928 ],\n",
       "       [ 0.31659098, -0.62084241,  0.10331025,  0.58979858,  0.41826245],\n",
       "       [ 0.51796771, -0.51816149,  0.15696   ,  0.42490617, -0.54732432],\n",
       "       [ 0.00547995,  0.32491967, -0.43517279,  0.11515994,  0.16317752],\n",
       "       [ 0.38824337, -0.63169924,  0.54700098, -0.49441273, -0.58148438],\n",
       "       [ 0.10088685,  0.04274169, -0.59989856,  0.40738686, -0.17396011],\n",
       "       [-0.20324239, -0.1218242 ,  0.62339347,  0.26855927, -0.58264807],\n",
       "       [ 0.32528151, -0.56007097, -0.45544377, -0.36854267, -0.08653191],\n",
       "       [ 0.25307497,  0.20967178, -0.02153192,  0.46369819, -0.23672348]])"
      ]
     },
     "execution_count": 12,
     "metadata": {},
     "output_type": "execute_result"
    }
   ],
   "source": [
    "lin.W"
   ]
  },
  {
   "cell_type": "code",
   "execution_count": 13,
   "id": "94877c4f-a7c4-4d34-8451-f09f96885913",
   "metadata": {},
   "outputs": [
    {
     "data": {
      "text/plain": [
       "array([0., 0., 0., 0., 0.])"
      ]
     },
     "execution_count": 13,
     "metadata": {},
     "output_type": "execute_result"
    }
   ],
   "source": [
    "lin.b"
   ]
  },
  {
   "cell_type": "code",
   "execution_count": 14,
   "id": "5ffc83c6-60ea-4057-9801-5ddd818ac0c1",
   "metadata": {},
   "outputs": [],
   "source": [
    "a = np.ones((5,5))\n",
    "b = a.mean(axis=1)"
   ]
  },
  {
   "cell_type": "code",
   "execution_count": 15,
   "id": "355dbeb7-d9f8-427d-8818-58f0f196c494",
   "metadata": {},
   "outputs": [],
   "source": [
    "c = np.zeros_like(a)"
   ]
  },
  {
   "cell_type": "code",
   "execution_count": 16,
   "id": "b7d87a46-59cb-40c8-8b2b-6966873381c5",
   "metadata": {},
   "outputs": [
    {
     "data": {
      "text/plain": [
       "(5, 5)"
      ]
     },
     "execution_count": 16,
     "metadata": {},
     "output_type": "execute_result"
    }
   ],
   "source": [
    "d = c.reshape((*b.shape, -1))\n",
    "d.shape"
   ]
  },
  {
   "cell_type": "code",
   "execution_count": 17,
   "id": "075979b0-2b9d-495c-9bd4-d644433c829f",
   "metadata": {},
   "outputs": [
    {
     "data": {
      "text/plain": [
       "array([1., 1., 1., 1., 1.])"
      ]
     },
     "execution_count": 17,
     "metadata": {},
     "output_type": "execute_result"
    }
   ],
   "source": [
    "b"
   ]
  },
  {
   "cell_type": "code",
   "execution_count": 18,
   "id": "8c6a8807-51a1-493f-887d-65a4c1111209",
   "metadata": {},
   "outputs": [
    {
     "data": {
      "text/plain": [
       "(5,)"
      ]
     },
     "execution_count": 18,
     "metadata": {},
     "output_type": "execute_result"
    }
   ],
   "source": [
    "b.shape"
   ]
  },
  {
   "cell_type": "code",
   "execution_count": 19,
   "id": "45838709-106c-4754-b25c-70f1d1b4647b",
   "metadata": {},
   "outputs": [
    {
     "data": {
      "text/plain": [
       "(1, 5)"
      ]
     },
     "execution_count": 19,
     "metadata": {},
     "output_type": "execute_result"
    }
   ],
   "source": [
    "b.reshape((1, *b.shape)).shape"
   ]
  },
  {
   "cell_type": "code",
   "execution_count": 20,
   "id": "af57a148-25b4-47fb-8122-8cea266be7c3",
   "metadata": {},
   "outputs": [],
   "source": [
    "b_shape = np.expand_dims(b, 0).shape"
   ]
  },
  {
   "cell_type": "code",
   "execution_count": 21,
   "id": "e79468aa-dff4-4e3b-aa0d-899c8100374d",
   "metadata": {},
   "outputs": [
    {
     "data": {
      "text/plain": [
       "(5, 1, 5)"
      ]
     },
     "execution_count": 21,
     "metadata": {},
     "output_type": "execute_result"
    }
   ],
   "source": [
    "d = c.reshape((-1, *b_shape))\n",
    "d.shape"
   ]
  },
  {
   "cell_type": "code",
   "execution_count": 22,
   "id": "948f49a6-8d8b-4ee2-a6d6-41e7ea88a03a",
   "metadata": {},
   "outputs": [
    {
     "data": {
      "text/plain": [
       "array([[[0., 0., 0., 0., 0.]],\n",
       "\n",
       "       [[0., 0., 0., 0., 0.]],\n",
       "\n",
       "       [[0., 0., 0., 0., 0.]],\n",
       "\n",
       "       [[0., 0., 0., 0., 0.]],\n",
       "\n",
       "       [[0., 0., 0., 0., 0.]]])"
      ]
     },
     "execution_count": 22,
     "metadata": {},
     "output_type": "execute_result"
    }
   ],
   "source": [
    "d"
   ]
  },
  {
   "cell_type": "code",
   "execution_count": null,
   "id": "1206b0c6-3043-4f63-83ce-af6366c5a648",
   "metadata": {},
   "outputs": [],
   "source": []
  }
 ],
 "metadata": {
  "kernelspec": {
   "display_name": "Python 3 (ipykernel)",
   "language": "python",
   "name": "python3"
  },
  "language_info": {
   "codemirror_mode": {
    "name": "ipython",
    "version": 3
   },
   "file_extension": ".py",
   "mimetype": "text/x-python",
   "name": "python",
   "nbconvert_exporter": "python",
   "pygments_lexer": "ipython3",
   "version": "3.9.7"
  }
 },
 "nbformat": 4,
 "nbformat_minor": 5
}

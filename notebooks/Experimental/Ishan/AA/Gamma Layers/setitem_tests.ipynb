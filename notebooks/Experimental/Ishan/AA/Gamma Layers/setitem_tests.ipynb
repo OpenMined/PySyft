{
 "cells": [
  {
   "cell_type": "code",
   "execution_count": 1,
   "id": "ec62bf3b-bea4-45a9-85dd-cacc0f44a512",
   "metadata": {},
   "outputs": [
    {
     "name": "stderr",
     "output_type": "stream",
     "text": [
      "/home/e/anaconda3/envs/Hagrid/lib/python3.9/site-packages/tqdm/auto.py:22: TqdmWarning: IProgress not found. Please update jupyter and ipywidgets. See https://ipywidgets.readthedocs.io/en/stable/user_install.html\n",
      "  from .autonotebook import tqdm as notebook_tqdm\n"
     ]
    }
   ],
   "source": [
    "from syft import DataSubjectList"
   ]
  },
  {
   "cell_type": "code",
   "execution_count": 2,
   "id": "db7405bf-bded-48ee-8ea4-1451f6256030",
   "metadata": {},
   "outputs": [],
   "source": [
    "import numpy as np"
   ]
  },
  {
   "cell_type": "code",
   "execution_count": 3,
   "id": "7984c216-1803-4540-8574-b9fbab151aa0",
   "metadata": {},
   "outputs": [],
   "source": [
    "from syft import DataSubjectList"
   ]
  },
  {
   "cell_type": "markdown",
   "id": "0f807180-c7f9-46fc-94d4-f3c929244cc0",
   "metadata": {},
   "source": [
    "a = np.ones((2, 1, 5))\n",
    "a"
   ]
  },
  {
   "cell_type": "markdown",
   "id": "f373b602-ca56-4754-81e7-4e1e164638d3",
   "metadata": {},
   "source": [
    "b = np.ones((10, 1, 1))\n",
    "b"
   ]
  },
  {
   "cell_type": "markdown",
   "id": "564e2372-cc7d-49f3-bc08-a8335a1fe9a9",
   "metadata": {},
   "source": [
    "len(b)"
   ]
  },
  {
   "cell_type": "markdown",
   "id": "d494ca64-8558-430d-b2c8-bb0530ac87f9",
   "metadata": {},
   "source": [
    "(2, 1, 5) and (3, 1, 1) -> (2, 1, 5) -> (max(shape[0], shape[1]))\n",
    "\n",
    "\n",
    "if len(a) < len(b) -> we have to create a bigger array\n",
    "if len(a) == len(b) -> it fits!!!!\n",
    "if len(a) > len(b) -> append some NaNs at the end of b\n",
    "(3, 1, 5) and (2, 1, 1) -> (3, 1, 5)\n",
    "ds1\n",
    "ds2\n",
    "NaN\n",
    "\n",
    "\n",
    "\n",
    "(3, 50, 50) and "
   ]
  },
  {
   "cell_type": "markdown",
   "id": "fb049066-8aa5-4795-a5ec-1cddec28decf",
   "metadata": {},
   "source": []
  },
  {
   "cell_type": "markdown",
   "id": "195b72b5-8ef2-4977-95dc-f720ad70f482",
   "metadata": {},
   "source": [
    "dsl = DataSubjectList.from_objs(np.random.choice([10, 11, 12], (5, 5)))"
   ]
  },
  {
   "cell_type": "markdown",
   "id": "6e40e43e-9c4c-4a84-a7e2-6fb1460f7095",
   "metadata": {},
   "source": [
    "dsl.one_hot_lookup, dsl.data_subjects_indexed.shape"
   ]
  },
  {
   "cell_type": "markdown",
   "id": "ed7e0e62-6d52-4054-925a-855c18af616a",
   "metadata": {},
   "source": [
    "dsl1 - > (5, 5)\n",
    "dsl2 -> (3, 5)\n",
    "index -> 0\n",
    "\n",
    "dsl1.data_subjects_indexed.shape -> (1, 5)\n",
    "dsl2 -> (3, 5)\n",
    "\n",
    "output -> (3, 5, 5)\n",
    "\n",
    "INPUT:\n",
    "array([[1, 0, 1, 2, 0],\n",
    "       [1, 0, 0, 0, 1],\n",
    "       [0, 0, 2, 0, 1],\n",
    "       [2, 0, 2, 1, 0],\n",
    "       [2, 2, 1, 2, 0]])\n",
    "      \n",
    "OUTPUT:\n",
    "array([[6, 6, 6, 6, 6],\n",
    "       [1, 0, 0, 0, 1],\n",
    "       [0, 0, 2, 0, 1],\n",
    "       [2, 0, 2, 1, 0],\n",
    "       [2, 2, 1, 2, 0]])\n",
    "\n",
    "array([[7, 7, 7, 7, 7],\n",
    "       [NAN, NAN, NAN, NAN, NAN],\n",
    "       [NAN, NAN, NAN, NAN, NAN],\n",
    "       [NAN, NAN, NAN, NAN, NAN],\n",
    "       [NAN, NAN, NAN, NAN, NAN]])\n",
    "\n",
    "array([[8, 8, 8, 8, 8],\n",
    "       [NAN, NAN, NAN, NAN, NAN],\n",
    "       [NAN, NAN, NAN, NAN, NAN],\n",
    "       [NAN, NAN, NAN, NAN, NAN],\n",
    "       [NAN, NAN, NAN, NAN, NAN]])\n",
    "\n",
    "\n",
    "\n",
    "INPUT\n",
    "\n",
    "child = [1, 2, 3]\n",
    "dsl.dsi.shape != child.shape -> GammaTensor\n",
    "(max(unique_data_subjects_per_data_point), 1, 3)\n",
    "\n",
    "child = [1 2, 3\n",
    "         4, 5, 6]\n",
    "dsl.dsi.shape == child.shape -> PhiTensor\n",
    "\n",
    "(0, 0, 0;\n",
    "1, 1, 1)\n",
    "\n",
    "(6, 6, 6,\n",
    "7, 7, 7)\n",
    "\n",
    "index = 0"
   ]
  },
  {
   "cell_type": "code",
   "execution_count": 4,
   "id": "03346c40-47d3-420c-a079-4b6c8f3f600d",
   "metadata": {},
   "outputs": [],
   "source": [
    "def get_output_shape(shape1, shape2):\n",
    "    if len(shape1) > len(shape2) or len(shape2) - len(shape1) > 1:\n",
    "        raise NotImplementedError\n",
    "        \n",
    "    first_dim = max(shape1[0], shape2[0]) if len(shape1) == len(shape2) else shape2[0]\n",
    "    other_dims = shape1 if len(shape1) < len(shape2) else shape1[1:]\n",
    "    output_size = (first_dim, *other_dims)\n",
    "    return output_size\n",
    "\n",
    "\n",
    "def insert(dsl1: DataSubjectList, dsl2: DataSubjectList, index) -> DataSubjectList:\n",
    "    \n",
    "    output_shape = get_output_shape(dsl1.shape, dsl2.shape)\n",
    "    \n",
    "    # TODO: Broadcasting with [1] over multiple indices?\n",
    "    dsl1_len = dsl1.shape[0] if len(dsl1.shape) == len(dsl2.shape) else 1\n",
    "    dsl2_len = dsl2.shape[0]\n",
    "    \n",
    "    if dsl1.shape == dsl2.shape:\n",
    "        return dsl2.copy()\n",
    "    elif dsl1_len < dsl2_len:\n",
    "        # We need to create a bigger array\n",
    "        bigger_array = np.full(output_shape, np.nan)\n",
    "        \n",
    "        # Fill current dsl1 values into this bigger_array\n",
    "        # TODO: Ask Madhava if there's a smarter/vectorized way to do this\n",
    "        if dsl1_len == 1:\n",
    "            bigger_array[0] = dsl1.data_subjects_indexed\n",
    "        else:\n",
    "            for i in range(dsl1_len):\n",
    "                bigger_array[i] = dsl1[i]\n",
    "\n",
    "        output_dsl = DataSubjectList(one_hot_lookup=dsl1.one_hot_lookup, data_subjects_indexed=bigger_array)\n",
    "        # bigger_array[:, index] = dsl2.data_subjects_indexed.squeeze()\n",
    "        dsl2_copy = dsl2.copy()\n",
    "        dsl2_copy.data_subjects_indexed = dsl2_copy.data_subjects_indexed.squeeze()\n",
    "        output_dsl[:, index] = dsl2_copy\n",
    "        return output_dsl\n",
    "        \n",
    "    elif dsl1_len == dsl2_len:\n",
    "        # it fits perfectly\n",
    "        output_dsl = dsl1.copy()\n",
    "        output_dsl[index] = dsl2\n",
    "        return output_dsl\n",
    "    else:\n",
    "        # add some nans\n",
    "        extra_nans = np.array([np.nan] * (dsl1_len - dsl2_len) * np.prod(dsl2.shape[1:])).reshape((dsl1_len - dsl2_len, *dsl2.shape[1:]))\n",
    "        array_to_append = np.concatenate((dsl2.data_subjects_indexed, extra_nans)).squeeze()\n",
    "        new_dsl = dsl2.copy()\n",
    "        new_dsl.data_subjects_indexed = array_to_append\n",
    "        \n",
    "        output_dsl = dsl1.copy()\n",
    "        output_dsl[:, index] = new_dsl\n",
    "        return output_dsl\n",
    "        "
   ]
  },
  {
   "cell_type": "code",
   "execution_count": 5,
   "id": "b7a3870f-c93f-4d2e-98fe-1a19cd9922bd",
   "metadata": {},
   "outputs": [],
   "source": [
    "def test(dsl1_shape, dsl2_shape, index) -> DataSubjectList:\n",
    "    dsl1 = DataSubjectList.from_objs(np.random.choice([80, 90, 100], size=dsl1_shape))\n",
    "    dsl2 = DataSubjectList.from_objs(np.random.choice([50, 60, 70], size=dsl2_shape))\n",
    "    # print(dsl1.one_hot_lookup, dsl1.data_subjects_indexed.shape)\n",
    "    # print(dsl2.one_hot_lookup, dsl2.data_subjects_indexed.shape)\n",
    "    \n",
    "    output_dsl = insert(dsl1=dsl1, dsl2=dsl2, index=index)\n",
    "    # print(output_dsl.data_subjects_indexed)\n",
    "    return output_dsl"
   ]
  },
  {
   "cell_type": "code",
   "execution_count": 6,
   "id": "acd9da46-bba0-45cf-931f-1dae07c18640",
   "metadata": {},
   "outputs": [],
   "source": [
    "res = test((5, 5), (3, 1, 5), index=0)"
   ]
  },
  {
   "cell_type": "code",
   "execution_count": 7,
   "id": "6e9ca1e0-3c9c-4496-aa37-e3440a18c84a",
   "metadata": {},
   "outputs": [],
   "source": [
    "res = test((5,), (5,), index=0)"
   ]
  },
  {
   "cell_type": "code",
   "execution_count": 8,
   "id": "1d77f5b5-fe99-40d7-8121-ddabfbff9c8f",
   "metadata": {},
   "outputs": [
    {
     "data": {
      "text/plain": [
       "array([60, 70])"
      ]
     },
     "execution_count": 8,
     "metadata": {},
     "output_type": "execute_result"
    }
   ],
   "source": [
    "res.one_hot_lookup"
   ]
  },
  {
   "cell_type": "code",
   "execution_count": 9,
   "id": "97aa8f21-4dab-4105-92de-cc74c484b46e",
   "metadata": {},
   "outputs": [],
   "source": [
    "res = test((5, 5), (3, 1, 5), index=2)"
   ]
  },
  {
   "cell_type": "code",
   "execution_count": 10,
   "id": "2bc4974c-4884-4791-92d6-06765f48e103",
   "metadata": {},
   "outputs": [],
   "source": [
    "res = test((5, 5), (3, 1, 5), index=-1)"
   ]
  },
  {
   "cell_type": "code",
   "execution_count": 11,
   "id": "fa249509-8bf9-4c45-8cd4-8a8bf2fb3f17",
   "metadata": {},
   "outputs": [],
   "source": [
    "res = test((3, 5, 5), (2, 1, 5), index=0)"
   ]
  },
  {
   "cell_type": "code",
   "execution_count": 12,
   "id": "6dc79305-ba27-4930-84b7-17a0f1fac413",
   "metadata": {},
   "outputs": [],
   "source": [
    "res = test((5, 5), (3, 2, 5), index=[0, 1])"
   ]
  },
  {
   "cell_type": "code",
   "execution_count": 13,
   "id": "69560ec7-5d30-401b-b626-6751c98eac46",
   "metadata": {},
   "outputs": [
    {
     "data": {
      "text/plain": [
       "array([ 80,  90, 100,  50,  60,  70])"
      ]
     },
     "execution_count": 13,
     "metadata": {},
     "output_type": "execute_result"
    }
   ],
   "source": [
    "res.one_hot_lookup"
   ]
  },
  {
   "cell_type": "code",
   "execution_count": 14,
   "id": "0093b14d-e3bc-45d2-8743-ed6331f9d555",
   "metadata": {},
   "outputs": [
    {
     "data": {
      "text/plain": [
       "array([[[ 4.,  4.,  3.,  5.,  3.],\n",
       "        [ 4.,  3.,  3.,  3.,  3.],\n",
       "        [ 0.,  1.,  1.,  0.,  1.],\n",
       "        [ 1.,  0.,  2.,  0.,  1.],\n",
       "        [ 2.,  0.,  0.,  0.,  2.]],\n",
       "\n",
       "       [[ 3.,  4.,  3.,  5.,  3.],\n",
       "        [ 3.,  3.,  3.,  4.,  3.],\n",
       "        [nan, nan, nan, nan, nan],\n",
       "        [nan, nan, nan, nan, nan],\n",
       "        [nan, nan, nan, nan, nan]],\n",
       "\n",
       "       [[ 3.,  5.,  5.,  3.,  3.],\n",
       "        [ 3.,  3.,  4.,  3.,  4.],\n",
       "        [nan, nan, nan, nan, nan],\n",
       "        [nan, nan, nan, nan, nan],\n",
       "        [nan, nan, nan, nan, nan]]])"
      ]
     },
     "execution_count": 14,
     "metadata": {},
     "output_type": "execute_result"
    }
   ],
   "source": [
    "res.data_subjects_indexed"
   ]
  },
  {
   "cell_type": "code",
   "execution_count": 15,
   "id": "fe83be45-75d7-45a4-9e7a-f1500e191209",
   "metadata": {},
   "outputs": [],
   "source": [
    "from syft import GammaTensor"
   ]
  },
  {
   "cell_type": "code",
   "execution_count": 16,
   "id": "274276f9-1716-4157-b519-f61381d0aeec",
   "metadata": {},
   "outputs": [],
   "source": [
    "from syft import lazyrepeatarray"
   ]
  },
  {
   "cell_type": "code",
   "execution_count": 17,
   "id": "9e7092bc-8a56-40fd-8abe-d21d54e9e8e3",
   "metadata": {},
   "outputs": [],
   "source": [
    "gt = GammaTensor(\n",
    "    child=np.ones((5,5)), data_subjects=DataSubjectList.from_objs(np.random.choice(np.arange(7), (2, 5,5))), \n",
    "    min_vals=lazyrepeatarray(0, (5,5)), \n",
    "    max_vals=lazyrepeatarray(1, (5,5)))"
   ]
  },
  {
   "cell_type": "code",
   "execution_count": 18,
   "id": "8eed305e-3590-46a8-b4d1-9f2d23bda182",
   "metadata": {},
   "outputs": [
    {
     "data": {
      "text/plain": [
       "array([[[3, 4, 1, 6, 4],\n",
       "        [0, 5, 2, 4, 1],\n",
       "        [5, 2, 1, 5, 0],\n",
       "        [1, 1, 0, 1, 6],\n",
       "        [6, 4, 0, 4, 2]],\n",
       "\n",
       "       [[1, 0, 2, 0, 4],\n",
       "        [2, 3, 6, 4, 0],\n",
       "        [5, 0, 6, 2, 4],\n",
       "        [4, 2, 3, 2, 1],\n",
       "        [6, 4, 4, 4, 5]]])"
      ]
     },
     "execution_count": 18,
     "metadata": {},
     "output_type": "execute_result"
    }
   ],
   "source": [
    "gt.data_subjects.data_subjects_indexed"
   ]
  },
  {
   "cell_type": "code",
   "execution_count": 19,
   "id": "ea0e03ff-c79c-483c-aea8-f91dc8327f45",
   "metadata": {},
   "outputs": [],
   "source": [
    "gt2 = GammaTensor(\n",
    "    child=np.ones((5,5)) * 7, data_subjects=DataSubjectList.from_objs(np.random.choice(np.arange(10,17), (3,5,5))), \n",
    "    min_vals=lazyrepeatarray(0, (5,5)), \n",
    "    max_vals=lazyrepeatarray(1, (5,5))\n",
    ")"
   ]
  },
  {
   "cell_type": "code",
   "execution_count": 20,
   "id": "128045b7-e541-4bfc-b883-426b88adeec7",
   "metadata": {},
   "outputs": [
    {
     "data": {
      "text/plain": [
       "array([[[6, 1, 1, 1, 3],\n",
       "        [6, 6, 3, 4, 0],\n",
       "        [4, 4, 2, 1, 4],\n",
       "        [1, 4, 0, 1, 0],\n",
       "        [4, 4, 6, 0, 3]],\n",
       "\n",
       "       [[2, 0, 5, 1, 4],\n",
       "        [5, 0, 3, 5, 2],\n",
       "        [4, 2, 4, 5, 0],\n",
       "        [5, 5, 5, 0, 3],\n",
       "        [0, 4, 1, 5, 5]],\n",
       "\n",
       "       [[4, 5, 4, 0, 6],\n",
       "        [3, 6, 2, 4, 6],\n",
       "        [2, 4, 4, 2, 6],\n",
       "        [6, 4, 5, 0, 0],\n",
       "        [2, 4, 2, 0, 6]]])"
      ]
     },
     "execution_count": 20,
     "metadata": {},
     "output_type": "execute_result"
    }
   ],
   "source": [
    "gt2.data_subjects.data_subjects_indexed"
   ]
  },
  {
   "cell_type": "code",
   "execution_count": 21,
   "id": "7802586c-96bb-4a03-baf0-0483c4098818",
   "metadata": {},
   "outputs": [
    {
     "name": "stdout",
     "output_type": "stream",
     "text": [
      "(2, 5, 5) (3, 5)\n",
      "first dim 3\n",
      "shapes:  (2, 5, 5) (3, 5)\n",
      "len:  2 3\n",
      "We are about to add nans\n",
      "[[[nan nan nan nan nan]\n",
      "  [nan nan nan nan nan]\n",
      "  [nan nan nan nan nan]\n",
      "  [nan nan nan nan nan]\n",
      "  [nan nan nan nan nan]]\n",
      "\n",
      " [[nan nan nan nan nan]\n",
      "  [nan nan nan nan nan]\n",
      "  [nan nan nan nan nan]\n",
      "  [nan nan nan nan nan]\n",
      "  [nan nan nan nan nan]]\n",
      "\n",
      " [[nan nan nan nan nan]\n",
      "  [nan nan nan nan nan]\n",
      "  [nan nan nan nan nan]\n",
      "  [nan nan nan nan nan]\n",
      "  [nan nan nan nan nan]]]\n",
      "else\n",
      "(5, 5) (5, 5)\n",
      "(3, 5, 5) (2, 5, 5)\n",
      "before assignment [[[nan nan nan nan nan]\n",
      "  [nan nan nan nan nan]\n",
      "  [nan nan nan nan nan]\n",
      "  [nan nan nan nan nan]\n",
      "  [nan nan nan nan nan]]\n",
      "\n",
      " [[nan nan nan nan nan]\n",
      "  [nan nan nan nan nan]\n",
      "  [nan nan nan nan nan]\n",
      "  [nan nan nan nan nan]\n",
      "  [nan nan nan nan nan]]\n",
      "\n",
      " [[nan nan nan nan nan]\n",
      "  [nan nan nan nan nan]\n",
      "  [nan nan nan nan nan]\n",
      "  [nan nan nan nan nan]\n",
      "  [nan nan nan nan nan]]]\n",
      "[[[ 3.  4.  1.  6.  4.]\n",
      "  [ 0.  5.  2.  4.  1.]\n",
      "  [ 5.  2.  1.  5.  0.]\n",
      "  [ 1.  1.  0.  1.  6.]\n",
      "  [ 6.  4.  0.  4.  2.]]\n",
      "\n",
      " [[nan nan nan nan nan]\n",
      "  [nan nan nan nan nan]\n",
      "  [nan nan nan nan nan]\n",
      "  [nan nan nan nan nan]\n",
      "  [nan nan nan nan nan]]\n",
      "\n",
      " [[nan nan nan nan nan]\n",
      "  [nan nan nan nan nan]\n",
      "  [nan nan nan nan nan]\n",
      "  [nan nan nan nan nan]\n",
      "  [nan nan nan nan nan]]]\n",
      "[[[ 3.  4.  1.  6.  4.]\n",
      "  [ 0.  5.  2.  4.  1.]\n",
      "  [ 5.  2.  1.  5.  0.]\n",
      "  [ 1.  1.  0.  1.  6.]\n",
      "  [ 6.  4.  0.  4.  2.]]\n",
      "\n",
      " [[ 1.  0.  2.  0.  4.]\n",
      "  [ 2.  3.  6.  4.  0.]\n",
      "  [ 5.  0.  6.  2.  4.]\n",
      "  [ 4.  2.  3.  2.  1.]\n",
      "  [ 6.  4.  4.  4.  5.]]\n",
      "\n",
      " [[nan nan nan nan nan]\n",
      "  [nan nan nan nan nan]\n",
      "  [nan nan nan nan nan]\n",
      "  [nan nan nan nan nan]\n",
      "  [nan nan nan nan nan]]]\n",
      "<class 'syft.core.adp.data_subject_list.DataSubjectList'> <class 'numpy.ndarray'>\n",
      "dsl2_copy <class 'syft.core.adp.data_subject_list.DataSubjectList'> <class 'numpy.ndarray'>\n",
      "(3, 5, 5) (3, 5)\n",
      "<class 'syft.core.adp.data_subject_list.DataSubjectList'> (3, 5)\n",
      "output_dsl [[[ 3.  4.  1.  6.  4.]\n",
      "  [ 0.  5.  2.  4.  1.]\n",
      "  [ 5.  2.  1.  5.  0.]\n",
      "  [ 1.  1.  0.  1.  6.]\n",
      "  [ 6.  4.  0.  4.  2.]]\n",
      "\n",
      " [[ 1.  0.  2.  0.  4.]\n",
      "  [ 2.  3.  6.  4.  0.]\n",
      "  [ 5.  0.  6.  2.  4.]\n",
      "  [ 4.  2.  3.  2.  1.]\n",
      "  [ 6.  4.  4.  4.  5.]]\n",
      "\n",
      " [[nan nan nan nan nan]\n",
      "  [nan nan nan nan nan]\n",
      "  [nan nan nan nan nan]\n",
      "  [nan nan nan nan nan]\n",
      "  [nan nan nan nan nan]]]\n",
      "output_dsl [[[11. 11. 13.  7. 10.]\n",
      "  [ 0.  5.  2.  4.  1.]\n",
      "  [ 5.  2.  1.  5.  0.]\n",
      "  [ 1.  1.  0.  1.  6.]\n",
      "  [ 6.  4.  0.  4.  2.]]\n",
      "\n",
      " [[ 7. 11.  8. 12. 12.]\n",
      "  [ 2.  3.  6.  4.  0.]\n",
      "  [ 5.  0.  6.  2.  4.]\n",
      "  [ 4.  2.  3.  2.  1.]\n",
      "  [ 6.  4.  4.  4.  5.]]\n",
      "\n",
      " [[ 9. 11.  9.  7. 13.]\n",
      "  [nan nan nan nan nan]\n",
      "  [nan nan nan nan nan]\n",
      "  [nan nan nan nan nan]\n",
      "  [nan nan nan nan nan]]]\n"
     ]
    }
   ],
   "source": [
    "gt[0] = gt2[-1]"
   ]
  },
  {
   "cell_type": "code",
   "execution_count": 22,
   "id": "3f1edac2-8325-4956-addd-004b803e3171",
   "metadata": {},
   "outputs": [
    {
     "data": {
      "text/plain": [
       "array([[[11., 11., 13.,  7., 10.],\n",
       "        [ 0.,  5.,  2.,  4.,  1.],\n",
       "        [ 5.,  2.,  1.,  5.,  0.],\n",
       "        [ 1.,  1.,  0.,  1.,  6.],\n",
       "        [ 6.,  4.,  0.,  4.,  2.]],\n",
       "\n",
       "       [[ 7., 11.,  8., 12., 12.],\n",
       "        [ 2.,  3.,  6.,  4.,  0.],\n",
       "        [ 5.,  0.,  6.,  2.,  4.],\n",
       "        [ 4.,  2.,  3.,  2.,  1.],\n",
       "        [ 6.,  4.,  4.,  4.,  5.]],\n",
       "\n",
       "       [[ 9., 11.,  9.,  7., 13.],\n",
       "        [nan, nan, nan, nan, nan],\n",
       "        [nan, nan, nan, nan, nan],\n",
       "        [nan, nan, nan, nan, nan],\n",
       "        [nan, nan, nan, nan, nan]]])"
      ]
     },
     "execution_count": 22,
     "metadata": {},
     "output_type": "execute_result"
    }
   ],
   "source": [
    "gt.data_subjects.data_subjects_indexed"
   ]
  },
  {
   "cell_type": "code",
   "execution_count": 23,
   "id": "8fd715c9-31fa-4b7c-a53f-13b45818b524",
   "metadata": {},
   "outputs": [
    {
     "data": {
      "text/plain": [
       "GammaTensor(child=array([7., 7., 7., 7., 7.]), data_subjects=<syft.core.adp.data_subject_list.DataSubjectList object at 0x7fc8e5fdadf0>, min_vals=<lazyrepeatarray data: 0 -> shape: (5,)>, max_vals=<lazyrepeatarray data: 7.0 -> shape: (5,)>, is_linear=True, func=<function no_op at 0x7fc8ec00b790>, id='1308222813', state={})"
      ]
     },
     "execution_count": 23,
     "metadata": {},
     "output_type": "execute_result"
    }
   ],
   "source": [
    "gt[0]"
   ]
  },
  {
   "cell_type": "code",
   "execution_count": 24,
   "id": "5610f956-0025-4003-a92b-5eb8526fea41",
   "metadata": {},
   "outputs": [
    {
     "data": {
      "text/plain": [
       "array([ 0,  1,  2,  3,  4,  5,  6, 10, 11, 12, 13, 14, 15, 16])"
      ]
     },
     "execution_count": 24,
     "metadata": {},
     "output_type": "execute_result"
    }
   ],
   "source": [
    "gt.data_subjects.one_hot_lookup"
   ]
  },
  {
   "cell_type": "code",
   "execution_count": 25,
   "id": "1ce8d30f-993b-4bba-b337-0f930bfef224",
   "metadata": {},
   "outputs": [
    {
     "data": {
      "text/plain": [
       "array([[[11., 11., 13.,  7., 10.],\n",
       "        [ 0.,  5.,  2.,  4.,  1.],\n",
       "        [ 5.,  2.,  1.,  5.,  0.],\n",
       "        [ 1.,  1.,  0.,  1.,  6.],\n",
       "        [ 6.,  4.,  0.,  4.,  2.]],\n",
       "\n",
       "       [[ 7., 11.,  8., 12., 12.],\n",
       "        [ 2.,  3.,  6.,  4.,  0.],\n",
       "        [ 5.,  0.,  6.,  2.,  4.],\n",
       "        [ 4.,  2.,  3.,  2.,  1.],\n",
       "        [ 6.,  4.,  4.,  4.,  5.]],\n",
       "\n",
       "       [[ 9., 11.,  9.,  7., 13.],\n",
       "        [nan, nan, nan, nan, nan],\n",
       "        [nan, nan, nan, nan, nan],\n",
       "        [nan, nan, nan, nan, nan],\n",
       "        [nan, nan, nan, nan, nan]]])"
      ]
     },
     "execution_count": 25,
     "metadata": {},
     "output_type": "execute_result"
    }
   ],
   "source": [
    "gt.data_subjects.data_subjects_indexed"
   ]
  },
  {
   "cell_type": "code",
   "execution_count": 26,
   "id": "e4d22d44-be03-4c77-b1d6-f9015b209816",
   "metadata": {},
   "outputs": [
    {
     "data": {
      "text/plain": [
       "array([[11., 11., 13.,  7., 10.],\n",
       "       [ 7., 11.,  8., 12., 12.],\n",
       "       [ 9., 11.,  9.,  7., 13.]])"
      ]
     },
     "execution_count": 26,
     "metadata": {},
     "output_type": "execute_result"
    }
   ],
   "source": [
    "gt[0].data_subjects.data_subjects_indexed"
   ]
  },
  {
   "cell_type": "code",
   "execution_count": 27,
   "id": "075fa658-2f3e-4185-900a-b5eb22adb399",
   "metadata": {},
   "outputs": [
    {
     "name": "stdout",
     "output_type": "stream",
     "text": [
      "(3, 5, 5) (3, 5)\n",
      "first dim 3\n",
      "shapes:  (3, 5, 5) (3, 5)\n",
      "len:  3 3\n",
      "(3, 5)\n"
     ]
    }
   ],
   "source": [
    "gt2[0] = gt[2]"
   ]
  },
  {
   "cell_type": "code",
   "execution_count": 28,
   "id": "21d4c832-fb08-4e43-9fdd-472a600c640c",
   "metadata": {},
   "outputs": [
    {
     "data": {
      "text/plain": [
       "array([[7., 7., 7., 7., 7.],\n",
       "       [1., 1., 1., 1., 1.],\n",
       "       [1., 1., 1., 1., 1.],\n",
       "       [1., 1., 1., 1., 1.],\n",
       "       [1., 1., 1., 1., 1.]])"
      ]
     },
     "execution_count": 28,
     "metadata": {},
     "output_type": "execute_result"
    }
   ],
   "source": [
    "gt.child"
   ]
  },
  {
   "cell_type": "code",
   "execution_count": 29,
   "id": "6848c4e4-46e1-41ed-ab73-0bb1222e31d3",
   "metadata": {},
   "outputs": [
    {
     "data": {
      "text/plain": [
       "array([[1., 1., 1., 1., 1.],\n",
       "       [7., 7., 7., 7., 7.],\n",
       "       [7., 7., 7., 7., 7.],\n",
       "       [7., 7., 7., 7., 7.],\n",
       "       [7., 7., 7., 7., 7.]])"
      ]
     },
     "execution_count": 29,
     "metadata": {},
     "output_type": "execute_result"
    }
   ],
   "source": [
    "gt2.child"
   ]
  },
  {
   "cell_type": "code",
   "execution_count": 30,
   "id": "77e23066-1240-4bb5-9ad7-96ee50f7fc4c",
   "metadata": {},
   "outputs": [
    {
     "data": {
      "text/plain": [
       "array([10., 11., 12., 13., 14., 15., 16.,  5.,  2.,  1.,  5.,  0.,  5.,\n",
       "        0.])"
      ]
     },
     "execution_count": 30,
     "metadata": {},
     "output_type": "execute_result"
    }
   ],
   "source": [
    "gt2.data_subjects.one_hot_lookup"
   ]
  },
  {
   "cell_type": "code",
   "execution_count": 31,
   "id": "5ffe8883-93e4-4364-b8ca-b3f1c8b8d90c",
   "metadata": {},
   "outputs": [
    {
     "data": {
      "text/plain": [
       "array([[[11., 11., 13.,  7., 10.],\n",
       "        [ 0.,  5.,  2.,  4.,  1.],\n",
       "        [ 5.,  2.,  1.,  5.,  0.],\n",
       "        [ 1.,  1.,  0.,  1.,  6.],\n",
       "        [ 6.,  4.,  0.,  4.,  2.]],\n",
       "\n",
       "       [[ 7., 11.,  8., 12., 12.],\n",
       "        [ 2.,  3.,  6.,  4.,  0.],\n",
       "        [ 5.,  0.,  6.,  2.,  4.],\n",
       "        [ 4.,  2.,  3.,  2.,  1.],\n",
       "        [ 6.,  4.,  4.,  4.,  5.]],\n",
       "\n",
       "       [[ 9., 11.,  9.,  7., 13.],\n",
       "        [nan, nan, nan, nan, nan],\n",
       "        [nan, nan, nan, nan, nan],\n",
       "        [nan, nan, nan, nan, nan],\n",
       "        [nan, nan, nan, nan, nan]]])"
      ]
     },
     "execution_count": 31,
     "metadata": {},
     "output_type": "execute_result"
    }
   ],
   "source": [
    "gt.data_subjects.data_subjects_indexed"
   ]
  },
  {
   "cell_type": "code",
   "execution_count": 32,
   "id": "2adb1416-2ba1-4263-b6c1-1dada9c51e2a",
   "metadata": {},
   "outputs": [],
   "source": [
    "from syft import PhiTensor"
   ]
  },
  {
   "cell_type": "code",
   "execution_count": 33,
   "id": "bad8d40b-9f23-48b9-8d8e-84b8b687f3cd",
   "metadata": {},
   "outputs": [],
   "source": [
    "pt = PhiTensor(np.ones((5,5)), data_subjects=DataSubjectList.from_objs(np.ones((5,5))), \n",
    "    min_vals=lazyrepeatarray(0, (5,5)), \n",
    "    max_vals=lazyrepeatarray(1, (5,5)))\n",
    "pt2 = PhiTensor(np.ones((5,5)) * 9, data_subjects=DataSubjectList.from_objs(np.zeros((5,5))), \n",
    "    min_vals=lazyrepeatarray(0, (5,5)), \n",
    "    max_vals=lazyrepeatarray(1, (5,5)))"
   ]
  },
  {
   "cell_type": "code",
   "execution_count": 34,
   "id": "80ff90d3-0bd7-42f4-8123-0fa53b41e7ee",
   "metadata": {},
   "outputs": [
    {
     "name": "stdout",
     "output_type": "stream",
     "text": [
      "(5, 5) (5,)\n",
      "first dim 5\n",
      "shapes:  (5, 5) (5,)\n",
      "len:  5 5\n",
      "(5,)\n"
     ]
    }
   ],
   "source": [
    "pt[0] = pt2[0]"
   ]
  },
  {
   "cell_type": "code",
   "execution_count": 35,
   "id": "b5836238-f994-4bb7-925f-41601bbd5a12",
   "metadata": {},
   "outputs": [
    {
     "data": {
      "text/plain": [
       "PhiTensor(child=[[9. 9. 9. 9. 9.]\n",
       " [1. 1. 1. 1. 1.]\n",
       " [1. 1. 1. 1. 1.]\n",
       " [1. 1. 1. 1. 1.]\n",
       " [1. 1. 1. 1. 1.]], min_vals=<lazyrepeatarray data: 0 -> shape: (5, 5)>, max_vals=<lazyrepeatarray data: 9.0 -> shape: (5, 5)>)"
      ]
     },
     "execution_count": 35,
     "metadata": {},
     "output_type": "execute_result"
    }
   ],
   "source": [
    "pt"
   ]
  },
  {
   "cell_type": "code",
   "execution_count": 36,
   "id": "49611df6-d6a9-4d16-bd8d-6de3391b9c53",
   "metadata": {},
   "outputs": [
    {
     "data": {
      "text/plain": [
       "GammaTensor(child=array([[9., 9., 9., 9., 9.],\n",
       "       [1., 1., 1., 1., 1.],\n",
       "       [1., 1., 1., 1., 1.],\n",
       "       [1., 1., 1., 1., 1.],\n",
       "       [1., 1., 1., 1., 1.]]), data_subjects=<syft.core.adp.data_subject_list.DataSubjectList object at 0x7fc8e5f6f580>, min_vals=<lazyrepeatarray data: 0 -> shape: (5, 5)>, max_vals=<lazyrepeatarray data: 9.0 -> shape: (5, 5)>, is_linear=True, func=<function no_op at 0x7fc8ec00b790>, id='1761323026', state={})"
      ]
     },
     "execution_count": 36,
     "metadata": {},
     "output_type": "execute_result"
    }
   ],
   "source": [
    "pt.gamma"
   ]
  },
  {
   "cell_type": "code",
   "execution_count": 37,
   "id": "4314209e-d7bd-400b-be27-19852187016c",
   "metadata": {},
   "outputs": [
    {
     "data": {
      "text/plain": [
       "array([1., 0.])"
      ]
     },
     "execution_count": 37,
     "metadata": {},
     "output_type": "execute_result"
    }
   ],
   "source": [
    "pt.data_subjects.one_hot_lookup"
   ]
  },
  {
   "cell_type": "code",
   "execution_count": null,
   "id": "232cd930-fde6-4708-9693-a278ccc925ff",
   "metadata": {},
   "outputs": [],
   "source": []
  }
 ],
 "metadata": {
  "kernelspec": {
   "display_name": "Python 3 (ipykernel)",
   "language": "python",
   "name": "python3"
  },
  "language_info": {
   "codemirror_mode": {
    "name": "ipython",
    "version": 3
   },
   "file_extension": ".py",
   "mimetype": "text/x-python",
   "name": "python",
   "nbconvert_exporter": "python",
   "pygments_lexer": "ipython3",
   "version": "3.9.7"
  }
 },
 "nbformat": 4,
 "nbformat_minor": 5
}

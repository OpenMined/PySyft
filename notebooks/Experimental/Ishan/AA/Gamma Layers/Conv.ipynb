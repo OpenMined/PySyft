{
 "cells": [
  {
   "cell_type": "code",
   "execution_count": 1,
   "id": "001fdeec-2d10-4487-9498-c0354a6d09ab",
   "metadata": {},
   "outputs": [
    {
     "name": "stderr",
     "output_type": "stream",
     "text": [
      "/home/e/anaconda3/envs/Hagrid/lib/python3.9/site-packages/tqdm/auto.py:22: TqdmWarning: IProgress not found. Please update jupyter and ipywidgets. See https://ipywidgets.readthedocs.io/en/stable/user_install.html\n",
      "  from .autonotebook import tqdm as notebook_tqdm\n",
      "/home/e/PycharmProjects/PySyft/packages/syft/src/syft/core/common/serde/serializable.py:105: UserWarning: __attr_allowlist__ not defined for type Activation, even if it uses recursive serde, defaulting on the empty list.\n",
      "  warnings.warn(\n",
      "/home/e/PycharmProjects/PySyft/packages/syft/src/syft/core/common/serde/serializable.py:105: UserWarning: __attr_allowlist__ not defined for type Linear, even if it uses recursive serde, defaulting on the empty list.\n",
      "  warnings.warn(\n",
      "/home/e/PycharmProjects/PySyft/packages/syft/src/syft/core/common/serde/serializable.py:105: UserWarning: __attr_allowlist__ not defined for type BatchNorm, even if it uses recursive serde, defaulting on the empty list.\n",
      "  warnings.warn(\n",
      "/home/e/PycharmProjects/PySyft/packages/syft/src/syft/core/common/serde/serializable.py:105: UserWarning: __attr_allowlist__ not defined for type AvgPool, even if it uses recursive serde, defaulting on the empty list.\n",
      "  warnings.warn(\n",
      "/home/e/PycharmProjects/PySyft/packages/syft/src/syft/core/common/serde/serializable.py:105: UserWarning: __attr_allowlist__ not defined for type MaxPool, even if it uses recursive serde, defaulting on the empty list.\n",
      "  warnings.warn(\n",
      "/home/e/PycharmProjects/PySyft/packages/syft/src/syft/core/common/serde/serializable.py:105: UserWarning: __attr_allowlist__ not defined for type Loss, even if it uses recursive serde, defaulting on the empty list.\n",
      "  warnings.warn(\n",
      "/home/e/PycharmProjects/PySyft/packages/syft/src/syft/core/common/serde/serializable.py:105: UserWarning: __attr_allowlist__ not defined for type Optimizer, even if it uses recursive serde, defaulting on the empty list.\n",
      "  warnings.warn(\n"
     ]
    }
   ],
   "source": [
    "from syft import nn\n",
    "from syft import PhiTensor\n",
    "from syft import GammaTensor\n",
    "from syft import DataSubjectList\n",
    "import numpy as np\n",
    "from jax import numpy as jnp"
   ]
  },
  {
   "cell_type": "code",
   "execution_count": 2,
   "id": "af2f49fa-e633-42d0-b0a1-f737c2f7fe0d",
   "metadata": {},
   "outputs": [],
   "source": [
    "# third party\n",
    "import numpy as np\n",
    "from typing import Union\n",
    "\n",
    "\n",
    "# relative\n",
    "# from ...autodp.phi_tensor import PhiTensor\n",
    "# from ...autodp.gamma_tensor import GammaTensor\n",
    "# from ..activations import leaky_ReLU\n",
    "# from ..initializations import XavierInitialization\n",
    "# from .base import Layer\n",
    "# from ..utils import dp_zeros\n",
    "\n",
    "from syft import PhiTensor, GammaTensor, nn\n",
    "\n",
    "Layer=nn.layers.base.Layer\n",
    "dp_zeros = nn.utils.dp_zeros\n",
    "XavierInitialization = nn.initializations.XavierInitialization\n",
    "leaky_ReLU = nn.activations.leaky_ReLU "
   ]
  },
  {
   "cell_type": "code",
   "execution_count": 11,
   "id": "b525da3e-1021-4782-987c-9dcc01ed6d3a",
   "metadata": {},
   "outputs": [],
   "source": [
    "class Convolution(Layer):\n",
    "    \"\"\"\n",
    "    If this is the first layer in a model, provide the keyword argument `input_shape`\n",
    "    (tuple of integers, does NOT include the sample axis, N.),\n",
    "    e.g. `input_shape=(3, 128, 128)` for 128x128 RGB pictures.\n",
    "    \"\"\"\n",
    "\n",
    "    def __init__(self, nb_filter, filter_size, input_shape=None, stride=1):\n",
    "        self.nb_filter = nb_filter\n",
    "        self.filter_size = filter_size\n",
    "        self.input_shape = input_shape\n",
    "        self.stride = stride\n",
    "\n",
    "        self.W, self.dW = None, None\n",
    "        self.b, self.db = None, None\n",
    "        self.out_shape = None\n",
    "        self.last_output = None\n",
    "        self.last_input = None\n",
    "\n",
    "        self.init = XavierInitialization()\n",
    "        self.activation = leaky_ReLU()\n",
    "\n",
    "    def connect_to(self, prev_layer=None):\n",
    "        if prev_layer is None:\n",
    "            assert self.input_shape is not None\n",
    "            input_shape = self.input_shape\n",
    "        else:\n",
    "            input_shape = prev_layer.out_shape\n",
    "\n",
    "        # input_shape: (batch size, num input feature maps, image height, image width)\n",
    "        assert len(input_shape) == 4\n",
    "\n",
    "        nb_batch, pre_nb_filter, pre_height, pre_width = input_shape\n",
    "        if isinstance(self.filter_size, tuple):\n",
    "            filter_height, filter_width = self.filter_size\n",
    "        elif isinstance(self.filter_size, int):\n",
    "            filter_height = filter_width = self.filter_size\n",
    "        else:\n",
    "            raise NotImplementedError\n",
    "\n",
    "        height = (pre_height - filter_height) // self.stride + 1\n",
    "        width = (pre_width - filter_width) // self.stride + 1\n",
    "\n",
    "        # output shape\n",
    "        self.out_shape = (nb_batch, self.nb_filter, height, width)\n",
    "\n",
    "        # filters\n",
    "        self.W = self.init((self.nb_filter, pre_nb_filter, filter_height, filter_width))\n",
    "        self.b = np.zeros((self.nb_filter,))\n",
    "\n",
    "    def forward(self, input: Union[PhiTensor, GammaTensor], *args, **kwargs):\n",
    "\n",
    "        self.last_input = input\n",
    "\n",
    "        # TODO: This could fail if the DP Tensor has < 4 dimensions\n",
    "\n",
    "        # shape\n",
    "        nb_batch, input_depth, old_img_h, old_img_w = input.shape\n",
    "        if isinstance(self.filter_size, tuple):\n",
    "            filter_height, filter_width = self.filter_size\n",
    "        elif isinstance(self.filter_size, int):\n",
    "            filter_height = filter_width = self.filter_size\n",
    "        else:\n",
    "            raise NotImplementedError\n",
    "            \n",
    "        new_img_h, new_img_w = self.out_shape[2:]\n",
    "\n",
    "        # init\n",
    "        outputs = dp_zeros((nb_batch, self.nb_filter, new_img_h, new_img_w), input.data_subjects)\n",
    "        \n",
    "        # convolution operation\n",
    "        for x in np.arange(nb_batch):\n",
    "            for y in np.arange(self.nb_filter):\n",
    "                for h in np.arange(new_img_h):\n",
    "                    for w in np.arange(new_img_w):\n",
    "                        h_shift, w_shift = h * self.stride, w * self.stride\n",
    "                        # patch: (input_depth, filter_h, filter_w)\n",
    "                        patch = input[x, :, h_shift: h_shift + filter_height, w_shift: w_shift + filter_width]\n",
    "                        outputs[x, y, h, w] = (patch * self.W[y]).sum() + self.b[y]\n",
    "\n",
    "        # nonlinear activation\n",
    "        # self.last_output: (nb_batch, output_depth, image height, image width)\n",
    "\n",
    "        # TODO: Min/max vals are direct function of private data- fix this when we have time\n",
    "        self.last_output = self.activation.forward(outputs)\n",
    "\n",
    "        return self.last_output\n",
    "\n",
    "    def backward(self, pre_grad, *args, **kwargs):\n",
    "\n",
    "        # shape\n",
    "        assert pre_grad.shape == self.last_output.shape\n",
    "        nb_batch, input_depth, old_img_h, old_img_w = self.last_input.shape\n",
    "        new_img_h, new_img_w = self.out_shape[2:]\n",
    "\n",
    "        if isinstance(self.filter_size, tuple):\n",
    "            filter_height, filter_width = self.filter_size\n",
    "        elif isinstance(self.filter_size, int):\n",
    "            filter_height = filter_width = self.filter_size\n",
    "        else:\n",
    "            raise NotImplementedError\n",
    "\n",
    "        #         filter_h, filter_w = self.filter_size\n",
    "        old_img_h, old_img_w = self.last_input.shape[-2:]\n",
    "\n",
    "        # gradients\n",
    "        # TODO: Decide if dW and db needs to be DP Tensors or can they live as numpy arrays\n",
    "        self.dW = np.zeros((self.W.shape))\n",
    "        self.db = np.zeros((self.b.shape))\n",
    "        delta = self.activation.derivative(pre_grad)\n",
    "\n",
    "        # dW\n",
    "        for r in np.arange(self.nb_filter):\n",
    "            for t in np.arange(input_depth):\n",
    "                for h in np.arange(filter_height):\n",
    "                    for w in np.arange(filter_width):\n",
    "                        input_window = self.last_input[:, t,\n",
    "                                       h:old_img_h - filter_height + h + 1:self.stride,\n",
    "                                       w:old_img_w - filter_width + w + 1:self.stride]\n",
    "                        delta_window = delta[:, r]\n",
    "                        self.dW[r, t, h, w] = ((input_window * delta_window).sum() * (1/nb_batch)).child\n",
    "        # db\n",
    "        for r in np.arange(self.nb_filter):\n",
    "            self.db[r] = (delta[:, r].sum() * (1/nb_batch)).child\n",
    "\n",
    "        # dX\n",
    "        if not self.first_layer:\n",
    "            if isinstance(self.last_input, (PhiTensor, GammaTensor)):\n",
    "                layer_grads = dp_zeros(self.last_input.shape, self.last_input.data_subjects)\n",
    "            elif isinstance(self.last_input, (np.ndarray, jnp.array)):\n",
    "                layer_grads = np.zeros_like(self.last_input)\n",
    "            for b in np.arange(nb_batch):\n",
    "                for r in np.arange(self.nb_filter):\n",
    "                    for t in np.arange(input_depth):\n",
    "                        for h in np.arange(new_img_h):\n",
    "                            for w in np.arange(new_img_w):\n",
    "                                h_shift, w_shift = h * self.stride, w * self.stride\n",
    "                                temp = layer_grads[b, t, h_shift:h_shift + filter_height, w_shift:w_shift + filter_width]\n",
    "                                layer_grads[b, t, h_shift:h_shift + filter_height, w_shift:w_shift + filter_width] = temp+ (delta[b, r, h, w] * self.W[r, t])\n",
    "\n",
    "            return layer_grads\n",
    "\n",
    "\n",
    "    @property\n",
    "    def params(self):\n",
    "        return self.W, self.b\n",
    "\n",
    "    @property\n",
    "    def grads(self):\n",
    "        return self.dW, self.db"
   ]
  },
  {
   "cell_type": "code",
   "execution_count": 12,
   "id": "d198ac2b-6b9c-4e23-8bc5-122fbdda1b95",
   "metadata": {},
   "outputs": [],
   "source": [
    "c = Convolution(nb_filter=0, filter_size=1)"
   ]
  },
  {
   "cell_type": "code",
   "execution_count": 13,
   "id": "595928d2-f2f0-4384-86fd-03afa38b3adc",
   "metadata": {},
   "outputs": [],
   "source": [
    "from jax import numpy as jnp\n",
    "import numpy as np\n",
    "from syft import lazyrepeatarray as lra\n",
    "\n",
    "def test_conv():\n",
    "    sh = (10, 3, 5, 5)\n",
    "\n",
    "    dsl = DataSubjectList(\n",
    "        one_hot_lookup=np.arange(10),\n",
    "        data_subjects_indexed=np.random.choice(np.arange(10), size=sh)\n",
    "    )\n",
    " \n",
    "    smol_data = GammaTensor(\n",
    "        child=jnp.array(np.random.rand(*sh) * 255),\n",
    "        data_subjects=dsl,\n",
    "        min_vals=lra(0, shape=sh),\n",
    "        max_vals=lra(255, shape=sh)\n",
    "    )\n",
    "\n",
    "    c = Convolution(3, 3, input_shape=sh)\n",
    "    c.connect_to()\n",
    "    c_out = c.forward(smol_data)\n",
    "    assert isinstance(c_out, GammaTensor)\n",
    "    c_back = c.backward(c_out)\n",
    "    return c_back\n",
    "    # return bn.forward(c_out)"
   ]
  },
  {
   "cell_type": "code",
   "execution_count": 14,
   "id": "1f3edc11-2977-4592-9b66-142b980297d1",
   "metadata": {
    "tags": []
   },
   "outputs": [
    {
     "name": "stdout",
     "output_type": "stream",
     "text": [
      "shapes of weights:  ()\n",
      "shapes of biases:  ()\n",
      "GammaTensor(child=DeviceArray(-147.8280285, dtype=float64), data_subjects=<syft.core.adp.data_subject_list.DataSubjectList object at 0x7f378465eaf0>, min_vals=<lazyrepeatarray data: -659.9296416203318 -> shape: ()>, max_vals=<lazyrepeatarray data: 356.6655708187644 -> shape: ()>, is_linear=True, func=<function GammaTensor.__add__.<locals>._add at 0x7f37845315e0>, id='1501592579', state={'2075330713': GammaTensor(child=DeviceArray(-147.8280285, dtype=float64), data_subjects=<syft.core.adp.data_subject_list.DataSubjectList object at 0x7f378465eaf0>, min_vals=<lazyrepeatarray data: -659.9296416203318 -> shape: ()>, max_vals=<lazyrepeatarray data: 356.6655708187644 -> shape: ()>, is_linear=True, func=<function GammaTensor.sum.<locals>._sum at 0x7f378444d700>, id='2075330713', state={'1723675654': GammaTensor(child=DeviceArray([[[ -4.35642516, -34.42935347, -31.074903  ],\n",
      "              [  2.00624552, -53.73115297,  19.62986311],\n",
      "              [ -8.09023648,  14.6849918 , -29.02633671]],\n",
      "\n",
      "             [[ 53.48619896,  30.91241426,  -0.30140436],\n",
      "              [ 12.35708341, -14.43306803,   5.93563011],\n",
      "              [ -0.5474056 , -61.65208679, -32.08991355]],\n",
      "\n",
      "             [[ -7.60275614,  19.02235348,   8.15078399],\n",
      "              [-20.02095921, -35.03545972,  -2.7461131 ],\n",
      "              [ 29.23098322,  16.9250104 , -25.03201248]]], dtype=float64), data_subjects=<syft.core.adp.data_subject_list.DataSubjectList object at 0x7f378465eaf0>, min_vals=<lazyrepeatarray data: [[[-12.85736447 -56.80256779 -39.95134671]\n",
      "  [  0.         -68.72947472   0.        ]\n",
      "  [-60.85307405   0.         -57.68717546]]\n",
      "\n",
      " [[  0.           0.         -49.68702419]\n",
      "  [  0.         -18.99098128   0.        ]\n",
      "  [ -5.14090328 -64.43821247 -36.61003683]]\n",
      "\n",
      " [[-26.53400098   0.           0.        ]\n",
      "  [-69.87383229 -53.57886793  -9.70595969]\n",
      "  [  0.           0.         -28.48881947]]] -> shape: (3, 3, 3)>, max_vals=<lazyrepeatarray data: [[[-0.         -0.         -0.        ]\n",
      "  [23.7300789  -0.         19.83604074]\n",
      "  [-0.         69.33403033 -0.        ]]\n",
      "\n",
      " [[61.5482196  39.10181868 -0.        ]\n",
      "  [13.97886753 -0.         17.07897243]\n",
      "  [-0.         -0.         -0.        ]]\n",
      "\n",
      " [[-0.         19.31354477  8.16094807]\n",
      "  [-0.         -0.         -0.        ]\n",
      "  [30.00062999 54.58241979 -0.        ]]] -> shape: (3, 3, 3)>, is_linear=True, func=<function GammaTensor.__mul__.<locals>._mul at 0x7f37a82bddc0>, id='1723675654', state={'1248825987': GammaTensor(child=DeviceArray([[[ 86.40094296, 154.56141292, 198.34375855],\n",
      "              [ 21.55882455, 199.35324783, 252.34950663],\n",
      "              [ 33.90149693,  54.00916247, 128.30782235]],\n",
      "\n",
      "             [[221.59829842, 201.59332487,   1.54684472],\n",
      "              [225.41570441, 193.79895607,  88.62276019],\n",
      "              [ 27.15250985, 243.97452271, 223.51597166]],\n",
      "\n",
      "             [[ 73.06485049, 251.15535214, 254.68240933],\n",
      "              [ 73.06518667, 166.74563261,  72.14730559],\n",
      "              [248.45813986,  79.07083759, 224.05853594]]], dtype=float64), data_subjects=<syft.core.adp.data_subject_list.DataSubjectList object at 0x7f378465eaf0>, min_vals=<lazyrepeatarray data: 0 -> shape: (3, 3, 3)>, max_vals=<lazyrepeatarray data: 255 -> shape: (3, 3, 3)>, is_linear=True, func=<function no_op at 0x7f382d183430>, id='1248825987', state={})})})})\n",
      "key (0, 0, 0, 0)\n",
      "value [[[1 0 2]\n",
      "  [7 2 5]\n",
      "  [5 8 5]]\n",
      "\n",
      " [[7 0 4]\n",
      "  [1 2 8]\n",
      "  [4 6 1]]\n",
      "\n",
      " [[4 8 7]\n",
      "  [4 1 1]\n",
      "  [2 7 6]]]\n"
     ]
    },
    {
     "ename": "ValueError",
     "evalue": "setting an array element with a sequence.",
     "output_type": "error",
     "traceback": [
      "\u001b[0;31m---------------------------------------------------------------------------\u001b[0m",
      "\u001b[0;31mTypeError\u001b[0m                                 Traceback (most recent call last)",
      "\u001b[0;31mTypeError\u001b[0m: only size-1 arrays can be converted to Python scalars",
      "\nThe above exception was the direct cause of the following exception:\n",
      "\u001b[0;31mValueError\u001b[0m                                Traceback (most recent call last)",
      "\u001b[0;32m/tmp/ipykernel_64201/1812994681.py\u001b[0m in \u001b[0;36m<module>\u001b[0;34m\u001b[0m\n\u001b[0;32m----> 1\u001b[0;31m \u001b[0mres\u001b[0m \u001b[0;34m=\u001b[0m \u001b[0mtest_conv\u001b[0m\u001b[0;34m(\u001b[0m\u001b[0;34m)\u001b[0m\u001b[0;34m\u001b[0m\u001b[0;34m\u001b[0m\u001b[0m\n\u001b[0m",
      "\u001b[0;32m/tmp/ipykernel_64201/2931307452.py\u001b[0m in \u001b[0;36mtest_conv\u001b[0;34m()\u001b[0m\n\u001b[1;32m     20\u001b[0m     \u001b[0mc\u001b[0m \u001b[0;34m=\u001b[0m \u001b[0mConvolution\u001b[0m\u001b[0;34m(\u001b[0m\u001b[0;36m3\u001b[0m\u001b[0;34m,\u001b[0m \u001b[0;36m3\u001b[0m\u001b[0;34m,\u001b[0m \u001b[0minput_shape\u001b[0m\u001b[0;34m=\u001b[0m\u001b[0msh\u001b[0m\u001b[0;34m)\u001b[0m\u001b[0;34m\u001b[0m\u001b[0;34m\u001b[0m\u001b[0m\n\u001b[1;32m     21\u001b[0m     \u001b[0mc\u001b[0m\u001b[0;34m.\u001b[0m\u001b[0mconnect_to\u001b[0m\u001b[0;34m(\u001b[0m\u001b[0;34m)\u001b[0m\u001b[0;34m\u001b[0m\u001b[0;34m\u001b[0m\u001b[0m\n\u001b[0;32m---> 22\u001b[0;31m     \u001b[0mc_out\u001b[0m \u001b[0;34m=\u001b[0m \u001b[0mc\u001b[0m\u001b[0;34m.\u001b[0m\u001b[0mforward\u001b[0m\u001b[0;34m(\u001b[0m\u001b[0msmol_data\u001b[0m\u001b[0;34m)\u001b[0m\u001b[0;34m\u001b[0m\u001b[0;34m\u001b[0m\u001b[0m\n\u001b[0m\u001b[1;32m     23\u001b[0m     \u001b[0;32massert\u001b[0m \u001b[0misinstance\u001b[0m\u001b[0;34m(\u001b[0m\u001b[0mc_out\u001b[0m\u001b[0;34m,\u001b[0m \u001b[0mGammaTensor\u001b[0m\u001b[0;34m)\u001b[0m\u001b[0;34m\u001b[0m\u001b[0;34m\u001b[0m\u001b[0m\n\u001b[1;32m     24\u001b[0m     \u001b[0mc_back\u001b[0m \u001b[0;34m=\u001b[0m \u001b[0mc\u001b[0m\u001b[0;34m.\u001b[0m\u001b[0mbackward\u001b[0m\u001b[0;34m(\u001b[0m\u001b[0mc_out\u001b[0m\u001b[0;34m)\u001b[0m\u001b[0;34m\u001b[0m\u001b[0;34m\u001b[0m\u001b[0m\n",
      "\u001b[0;32m/tmp/ipykernel_64201/1252119117.py\u001b[0m in \u001b[0;36mforward\u001b[0;34m(self, input, *args, **kwargs)\u001b[0m\n\u001b[1;32m     82\u001b[0m                         \u001b[0mprint\u001b[0m\u001b[0;34m(\u001b[0m\u001b[0;34m\"shapes of biases: \"\u001b[0m\u001b[0;34m,\u001b[0m \u001b[0mbias_term\u001b[0m\u001b[0;34m.\u001b[0m\u001b[0mshape\u001b[0m\u001b[0;34m)\u001b[0m\u001b[0;34m\u001b[0m\u001b[0;34m\u001b[0m\u001b[0m\n\u001b[1;32m     83\u001b[0m                         \u001b[0mprint\u001b[0m\u001b[0;34m(\u001b[0m\u001b[0mweights_term\u001b[0m \u001b[0;34m+\u001b[0m \u001b[0mbias_term\u001b[0m\u001b[0;34m)\u001b[0m\u001b[0;34m\u001b[0m\u001b[0;34m\u001b[0m\u001b[0m\n\u001b[0;32m---> 84\u001b[0;31m                         \u001b[0moutputs\u001b[0m\u001b[0;34m[\u001b[0m\u001b[0mx\u001b[0m\u001b[0;34m,\u001b[0m \u001b[0my\u001b[0m\u001b[0;34m,\u001b[0m \u001b[0mh\u001b[0m\u001b[0;34m,\u001b[0m \u001b[0mw\u001b[0m\u001b[0;34m]\u001b[0m \u001b[0;34m=\u001b[0m \u001b[0mweights_term\u001b[0m \u001b[0;34m+\u001b[0m \u001b[0mbias_term\u001b[0m\u001b[0;34m\u001b[0m\u001b[0;34m\u001b[0m\u001b[0m\n\u001b[0m\u001b[1;32m     85\u001b[0m \u001b[0;34m\u001b[0m\u001b[0m\n\u001b[1;32m     86\u001b[0m         \u001b[0;31m# nonlinear activation\u001b[0m\u001b[0;34m\u001b[0m\u001b[0;34m\u001b[0m\u001b[0m\n",
      "\u001b[0;32m~/PycharmProjects/PySyft/packages/syft/src/syft/core/tensor/autodp/gamma_tensor.py\u001b[0m in \u001b[0;36m__setitem__\u001b[0;34m(self, key, value)\u001b[0m\n\u001b[1;32m   1767\u001b[0m                 \u001b[0mself\u001b[0m\u001b[0;34m.\u001b[0m\u001b[0mmax_vals\u001b[0m\u001b[0;34m.\u001b[0m\u001b[0mdata\u001b[0m \u001b[0;34m=\u001b[0m \u001b[0mmaxv\u001b[0m\u001b[0;34m\u001b[0m\u001b[0;34m\u001b[0m\u001b[0m\n\u001b[1;32m   1768\u001b[0m \u001b[0;34m\u001b[0m\u001b[0m\n\u001b[0;32m-> 1769\u001b[0;31m             \u001b[0mself\u001b[0m\u001b[0;34m.\u001b[0m\u001b[0mdata_subjects\u001b[0m\u001b[0;34m[\u001b[0m\u001b[0mkey\u001b[0m\u001b[0;34m]\u001b[0m \u001b[0;34m=\u001b[0m \u001b[0mvalue\u001b[0m\u001b[0;34m.\u001b[0m\u001b[0mdata_subjects\u001b[0m\u001b[0;34m\u001b[0m\u001b[0;34m\u001b[0m\u001b[0m\n\u001b[0m\u001b[1;32m   1770\u001b[0m \u001b[0;34m\u001b[0m\u001b[0m\n\u001b[1;32m   1771\u001b[0m             return GammaTensor(\n",
      "\u001b[0;32m~/PycharmProjects/PySyft/packages/syft/src/syft/core/adp/data_subject_list.py\u001b[0m in \u001b[0;36m__setitem__\u001b[0;34m(self, key, value)\u001b[0m\n\u001b[1;32m    184\u001b[0m                 \u001b[0mprint\u001b[0m\u001b[0;34m(\u001b[0m\u001b[0;34m\"key\"\u001b[0m\u001b[0;34m,\u001b[0m \u001b[0mkey\u001b[0m\u001b[0;34m)\u001b[0m\u001b[0;34m\u001b[0m\u001b[0;34m\u001b[0m\u001b[0m\n\u001b[1;32m    185\u001b[0m                 \u001b[0mprint\u001b[0m\u001b[0;34m(\u001b[0m\u001b[0;34m\"value\"\u001b[0m\u001b[0;34m,\u001b[0m \u001b[0mvalue\u001b[0m\u001b[0;34m.\u001b[0m\u001b[0mdata_subjects_indexed\u001b[0m\u001b[0;34m)\u001b[0m\u001b[0;34m\u001b[0m\u001b[0;34m\u001b[0m\u001b[0m\n\u001b[0;32m--> 186\u001b[0;31m                 \u001b[0mself\u001b[0m\u001b[0;34m.\u001b[0m\u001b[0mdata_subjects_indexed\u001b[0m\u001b[0;34m[\u001b[0m\u001b[0mkey\u001b[0m\u001b[0;34m]\u001b[0m \u001b[0;34m=\u001b[0m \u001b[0mvalue\u001b[0m\u001b[0;34m.\u001b[0m\u001b[0mdata_subjects_indexed\u001b[0m\u001b[0;34m\u001b[0m\u001b[0;34m\u001b[0m\u001b[0m\n\u001b[0m\u001b[1;32m    187\u001b[0m \u001b[0;34m\u001b[0m\u001b[0m\n\u001b[1;32m    188\u001b[0m             \u001b[0;32melse\u001b[0m\u001b[0;34m:\u001b[0m\u001b[0;34m\u001b[0m\u001b[0;34m\u001b[0m\u001b[0m\n",
      "\u001b[0;31mValueError\u001b[0m: setting an array element with a sequence."
     ]
    }
   ],
   "source": [
    "res = test_conv()"
   ]
  },
  {
   "cell_type": "code",
   "execution_count": null,
   "id": "9aa6be8b-7b68-4684-8bdd-b1c79be7a507",
   "metadata": {},
   "outputs": [],
   "source": [
    "res.shape"
   ]
  },
  {
   "cell_type": "code",
   "execution_count": null,
   "id": "893f6901-9440-4512-913a-d67bf55e38d7",
   "metadata": {
    "tags": []
   },
   "outputs": [],
   "source": [
    "res.child"
   ]
  },
  {
   "cell_type": "code",
   "execution_count": null,
   "id": "bdb0d193-035a-4206-ad7c-f6fea97db6d9",
   "metadata": {},
   "outputs": [],
   "source": [
    "sh = (3, 10, 10)\n",
    "dsl = DataSubjectList(\n",
    "        one_hot_lookup=np.arange(10),\n",
    "        data_subjects_indexed=np.random.choice(np.arange(10), size=sh)\n",
    "    )\n",
    "smol_data = GammaTensor(\n",
    "        child=jnp.array(np.random.rand(*sh) * 255),\n",
    "        data_subjects=dsl,\n",
    "        min_val=lra(0, shape=sh),\n",
    "        max_val=lra(255, shape=sh))"
   ]
  },
  {
   "cell_type": "code",
   "execution_count": null,
   "id": "cfb624b4-f0bf-44c4-b4d0-e1f962fd9c22",
   "metadata": {},
   "outputs": [],
   "source": [
    "smol_data[0, 0, 0]"
   ]
  },
  {
   "cell_type": "code",
   "execution_count": null,
   "id": "22bd8d91-ae2b-41fe-b897-de52bd181a69",
   "metadata": {},
   "outputs": [],
   "source": [
    "smol_data[0, 0, 0] = 6"
   ]
  },
  {
   "cell_type": "code",
   "execution_count": null,
   "id": "27d44d61-129a-416c-8940-61f61c857202",
   "metadata": {},
   "outputs": [],
   "source": [
    "smol_data[0, 0, 0]"
   ]
  },
  {
   "cell_type": "code",
   "execution_count": null,
   "id": "0fe3d9ba-eafb-449b-850e-26ef2659da84",
   "metadata": {},
   "outputs": [],
   "source": [
    "smol_data"
   ]
  },
  {
   "cell_type": "code",
   "execution_count": 23,
   "id": "94b3c2b9-5ecf-4937-85f4-804c8c45c68b",
   "metadata": {},
   "outputs": [
    {
     "data": {
      "text/plain": [
       "(1, 25)"
      ]
     },
     "execution_count": 23,
     "metadata": {},
     "output_type": "execute_result"
    }
   ],
   "source": [
    "a = np.ones((5,5))\n",
    "b = a.reshape((-1, a.size))\n",
    "b.shape"
   ]
  },
  {
   "cell_type": "code",
   "execution_count": 24,
   "id": "5bc1be16-fa5f-47a9-8458-725ce4c0b179",
   "metadata": {},
   "outputs": [
    {
     "data": {
      "text/plain": [
       "array([[1., 1., 1., 1., 1., 1., 1., 1., 1., 1., 1., 1., 1., 1., 1., 1.,\n",
       "        1., 1., 1., 1., 1., 1., 1., 1., 1.]])"
      ]
     },
     "execution_count": 24,
     "metadata": {},
     "output_type": "execute_result"
    }
   ],
   "source": [
    "b"
   ]
  },
  {
   "cell_type": "code",
   "execution_count": 25,
   "id": "f0ef83c2-f154-49f3-833e-216a4f6a142b",
   "metadata": {},
   "outputs": [],
   "source": [
    "c = a.flatten()"
   ]
  },
  {
   "cell_type": "code",
   "execution_count": 26,
   "id": "1fead168-346e-4570-9bbe-0311be060400",
   "metadata": {},
   "outputs": [
    {
     "data": {
      "text/plain": [
       "(25,)"
      ]
     },
     "execution_count": 26,
     "metadata": {},
     "output_type": "execute_result"
    }
   ],
   "source": [
    "c.shape"
   ]
  },
  {
   "cell_type": "code",
   "execution_count": 27,
   "id": "d6eaf460-7b3a-4adf-8228-c1cf5e66e4f4",
   "metadata": {},
   "outputs": [
    {
     "data": {
      "text/plain": [
       "array([1., 1., 1., 1., 1., 1., 1., 1., 1., 1., 1., 1., 1., 1., 1., 1., 1.,\n",
       "       1., 1., 1., 1., 1., 1., 1., 1.])"
      ]
     },
     "execution_count": 27,
     "metadata": {},
     "output_type": "execute_result"
    }
   ],
   "source": [
    "c"
   ]
  },
  {
   "cell_type": "code",
   "execution_count": 28,
   "id": "9adfa280-cc62-4528-a709-3d83cd870369",
   "metadata": {},
   "outputs": [],
   "source": [
    "d = np.empty(10)"
   ]
  },
  {
   "cell_type": "code",
   "execution_count": 29,
   "id": "de50c225-c43d-43e3-a99b-d31715ea33b5",
   "metadata": {},
   "outputs": [
    {
     "data": {
      "text/plain": [
       "array([0., 0., 0., 0., 0., 0., 0., 0., 0., 0.])"
      ]
     },
     "execution_count": 29,
     "metadata": {},
     "output_type": "execute_result"
    }
   ],
   "source": [
    "d + d"
   ]
  },
  {
   "cell_type": "code",
   "execution_count": 31,
   "id": "b812418f-8cc7-4591-a23c-b46b2ba05ca7",
   "metadata": {},
   "outputs": [
    {
     "data": {
      "text/plain": [
       "nan"
      ]
     },
     "execution_count": 31,
     "metadata": {},
     "output_type": "execute_result"
    }
   ],
   "source": [
    "np.nan"
   ]
  },
  {
   "cell_type": "code",
   "execution_count": 32,
   "id": "2ccc9815-e918-4bae-a7fe-39b4104fb839",
   "metadata": {},
   "outputs": [
    {
     "data": {
      "text/plain": [
       "False"
      ]
     },
     "execution_count": 32,
     "metadata": {},
     "output_type": "execute_result"
    }
   ],
   "source": [
    "np.nan == 0"
   ]
  },
  {
   "cell_type": "code",
   "execution_count": 33,
   "id": "f3e54480-4670-4901-8f93-1fc2772d3161",
   "metadata": {},
   "outputs": [
    {
     "data": {
      "text/plain": [
       "True"
      ]
     },
     "execution_count": 33,
     "metadata": {},
     "output_type": "execute_result"
    }
   ],
   "source": [
    "isinstance(np.nan, (int, float))"
   ]
  },
  {
   "cell_type": "code",
   "execution_count": 35,
   "id": "a20a64ed-ee1f-4fe3-a938-cd162396df98",
   "metadata": {},
   "outputs": [
    {
     "data": {
      "text/plain": [
       "True"
      ]
     },
     "execution_count": 35,
     "metadata": {},
     "output_type": "execute_result"
    }
   ],
   "source": [
    "isinstance(np.nan, float)"
   ]
  },
  {
   "cell_type": "code",
   "execution_count": null,
   "id": "c00aa03a-0646-4e8b-aa8c-49c3995ad9ad",
   "metadata": {},
   "outputs": [],
   "source": []
  }
 ],
 "metadata": {
  "kernelspec": {
   "display_name": "Python 3 (ipykernel)",
   "language": "python",
   "name": "python3"
  },
  "language_info": {
   "codemirror_mode": {
    "name": "ipython",
    "version": 3
   },
   "file_extension": ".py",
   "mimetype": "text/x-python",
   "name": "python",
   "nbconvert_exporter": "python",
   "pygments_lexer": "ipython3",
   "version": "3.9.7"
  }
 },
 "nbformat": 4,
 "nbformat_minor": 5
}

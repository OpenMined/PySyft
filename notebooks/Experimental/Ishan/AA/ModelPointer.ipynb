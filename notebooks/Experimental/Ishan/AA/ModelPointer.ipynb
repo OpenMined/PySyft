{
 "cells": [
  {
   "cell_type": "code",
   "execution_count": 50,
   "id": "741702ba",
   "metadata": {},
   "outputs": [],
   "source": [
    "import syft as sy"
   ]
  },
  {
   "cell_type": "code",
   "execution_count": 51,
   "id": "88e54c20",
   "metadata": {},
   "outputs": [],
   "source": [
    "# domain_client = sy.login(email=\"info@openmined.org\", password=\"changethis\", port=8081)"
   ]
  },
  {
   "cell_type": "code",
   "execution_count": 52,
   "id": "5a662a69",
   "metadata": {},
   "outputs": [],
   "source": [
    "from syft.core.tensor import nn"
   ]
  },
  {
   "cell_type": "code",
   "execution_count": 59,
   "id": "1590f15f",
   "metadata": {},
   "outputs": [],
   "source": [
    "net = nn.Model()\n",
    "\n",
    "# Layer 1\n",
    "net.add(nn.Convolution(32, (3, 3), input_shape=(100, 3, 192, 192), padding=2))\n",
    "net.add(nn.BatchNorm(activation="leaky_relu"))\n",
    "# net.add(nn.MaxPool((2, 2)))\n",
    "\n",
    "# Layer 2\n",
    "net.add(nn.Convolution(64, (3, 3), padding=2))\n",
    "net.add(nn.BatchNorm(activation="leaky_relu"))\n",
    "# net.add(nn.MaxPool((2, 2)))\n",
    "\n",
    "# Layer 3\n",
    "net.add(nn.Convolution(128, (3, 3), padding=2))\n",
    "net.add(nn.BatchNorm(activation="leaky_relu"))\n",
    "# net.add(nn.MaxPool((2, 2)))\n",
    "\n",
    "# Layer 4\n",
    "net.add(nn.Convolution(256, (3, 3), padding=2))\n",
    "net.add(nn.BatchNorm(activation="leaky_relu"))\n",
    "# net.add(nn.MaxPool((2, 2)))\n",
    "\n",
    "# Layer 5\n",
    "net.add(nn.Convolution(512, (3, 3), padding=2))\n",
    "net.add(nn.BatchNorm(activation="leaky_relu"))\n",
    "# net.add(nn.MaxPool((2, 2)))\n",
    "\n",
    "# Final Layers\n",
    "net.add(nn.AvgPool(7))\n",
    "# TODO: Implement this : net.add(nn.Flatten()) \n",
    "net.add(nn.Linear(512 * 1 * 1, 2))"
   ]
  },
  {
   "cell_type": "code",
   "execution_count": 60,
   "id": "9a64b7db",
   "metadata": {},
   "outputs": [],
   "source": [
    "# net = nn.Model()\n",
    "# net.add(nn.Convolution(1, (3, 3), input_shape=(None, 1, 28, 28)))\n",
    "# net.add(nn.BatchNorm())\n",
    "# net.add(nn.MaxPool((2, 2)))\n",
    "# net.add(nn.Convolution(2, (4, 4)))\n",
    "# net.add(nn.BatchNorm())\n",
    "# net.add(nn.MaxPool((2, 2)))"
   ]
  },
  {
   "cell_type": "code",
   "execution_count": 61,
   "id": "425409ab",
   "metadata": {},
   "outputs": [
    {
     "name": "stdout",
     "output_type": "stream",
     "text": [
      "layer - 1 Convolution\n",
      "layer shape (100, 32, 194, 194)\n",
      "layer - 2 BatchNorm\n",
      "layer shape (100, 32, 194, 194)\n",
      "layer - 3 Convolution\n",
      "layer shape (100, 64, 196, 196)\n",
      "layer - 4 BatchNorm\n",
      "layer shape (100, 64, 196, 196)\n",
      "layer - 5 Convolution\n",
      "layer shape (100, 128, 198, 198)\n",
      "layer - 6 BatchNorm\n",
      "layer shape (100, 128, 198, 198)\n",
      "layer - 7 Convolution\n",
      "layer shape (100, 256, 200, 200)\n",
      "layer - 8 BatchNorm\n",
      "layer shape (100, 256, 200, 200)\n",
      "layer - 9 Convolution\n",
      "layer shape (100, 512, 202, 202)\n",
      "layer - 10 BatchNorm\n",
      "layer shape (100, 512, 202, 202)\n",
      "layer - 11 AvgPool\n"
     ]
    },
    {
     "ename": "TypeError",
     "evalue": "cannot unpack non-iterable int object",
     "output_type": "error",
     "traceback": [
      "\u001b[0;31m---------------------------------------------------------------------------\u001b[0m",
      "\u001b[0;31mTypeError\u001b[0m                                 Traceback (most recent call last)",
      "Input \u001b[0;32mIn [61]\u001b[0m, in \u001b[0;36m<module>\u001b[0;34m\u001b[0m\n\u001b[0;32m----> 1\u001b[0m \u001b[43mnet\u001b[49m\u001b[38;5;241;43m.\u001b[39;49m\u001b[43mcompile\u001b[49m\u001b[43m(\u001b[49m\u001b[43m)\u001b[49m\n",
      "File \u001b[0;32m~/PySyft/packages/syft/src/syft/core/tensor/nn/model.py:36\u001b[0m, in \u001b[0;36mModel.compile\u001b[0;34m(self, loss, optimizer)\u001b[0m\n\u001b[1;32m     34\u001b[0m \u001b[38;5;28;01mfor\u001b[39;00m i, layer \u001b[38;5;129;01min\u001b[39;00m \u001b[38;5;28menumerate\u001b[39m(\u001b[38;5;28mself\u001b[39m\u001b[38;5;241m.\u001b[39mlayers):\n\u001b[1;32m     35\u001b[0m     \u001b[38;5;28mprint\u001b[39m(\u001b[38;5;124mf\u001b[39m\u001b[38;5;124m\"\u001b[39m\u001b[38;5;124mlayer - \u001b[39m\u001b[38;5;132;01m{\u001b[39;00mi\u001b[38;5;241m+\u001b[39m\u001b[38;5;241m1\u001b[39m\u001b[38;5;132;01m}\u001b[39;00m\u001b[38;5;124m\"\u001b[39m, layer)\n\u001b[0;32m---> 36\u001b[0m     \u001b[43mlayer\u001b[49m\u001b[38;5;241;43m.\u001b[39;49m\u001b[43mconnect_to\u001b[49m\u001b[43m(\u001b[49m\u001b[43mnext_layer\u001b[49m\u001b[43m)\u001b[49m\n\u001b[1;32m     37\u001b[0m     \u001b[38;5;28mprint\u001b[39m(\u001b[38;5;124m\"\u001b[39m\u001b[38;5;124mlayer shape\u001b[39m\u001b[38;5;124m\"\u001b[39m, layer\u001b[38;5;241m.\u001b[39mout_shape)\n\u001b[1;32m     38\u001b[0m     next_layer \u001b[38;5;241m=\u001b[39m layer\n",
      "File \u001b[0;32m~/PySyft/packages/syft/src/syft/core/tensor/nn/layers/pooling.py:38\u001b[0m, in \u001b[0;36mAvgPool.connect_to\u001b[0;34m(self, prev_layer)\u001b[0m\n\u001b[1;32m     35\u001b[0m \u001b[38;5;28;01massert\u001b[39;00m \u001b[38;5;241m5\u001b[39m \u001b[38;5;241m>\u001b[39m \u001b[38;5;28mlen\u001b[39m(prev_layer\u001b[38;5;241m.\u001b[39mout_shape) \u001b[38;5;241m>\u001b[39m\u001b[38;5;241m=\u001b[39m \u001b[38;5;241m3\u001b[39m\n\u001b[1;32m     37\u001b[0m old_h, old_w \u001b[38;5;241m=\u001b[39m prev_layer\u001b[38;5;241m.\u001b[39mout_shape[\u001b[38;5;241m-\u001b[39m\u001b[38;5;241m2\u001b[39m:]\n\u001b[0;32m---> 38\u001b[0m pool_h, pool_w \u001b[38;5;241m=\u001b[39m \u001b[38;5;28mself\u001b[39m\u001b[38;5;241m.\u001b[39mpool_size\n\u001b[1;32m     39\u001b[0m new_h, new_w \u001b[38;5;241m=\u001b[39m old_h \u001b[38;5;241m/\u001b[39m\u001b[38;5;241m/\u001b[39m pool_h, old_w \u001b[38;5;241m/\u001b[39m\u001b[38;5;241m/\u001b[39m pool_w\n\u001b[1;32m     41\u001b[0m \u001b[38;5;28;01massert\u001b[39;00m old_h \u001b[38;5;241m%\u001b[39m pool_h \u001b[38;5;241m==\u001b[39m old_w \u001b[38;5;241m%\u001b[39m pool_w \u001b[38;5;241m==\u001b[39m \u001b[38;5;241m0\u001b[39m\n",
      "\u001b[0;31mTypeError\u001b[0m: cannot unpack non-iterable int object"
     ]
    }
   ],
   "source": [
    "net.compile()"
   ]
  }
 ],
 "metadata": {
  "kernelspec": {
   "display_name": "Python 3 (ipykernel)",
   "language": "python",
   "name": "python3"
  },
  "language_info": {
   "codemirror_mode": {
    "name": "ipython",
    "version": 3
   },
   "file_extension": ".py",
   "mimetype": "text/x-python",
   "name": "python",
   "nbconvert_exporter": "python",
   "pygments_lexer": "ipython3",
   "version": "3.9.7"
  }
 },
 "nbformat": 4,
 "nbformat_minor": 5
}

{
 "cells": [
  {
   "cell_type": "code",
   "execution_count": 1,
   "id": "200977e8-0c3f-4fc4-817c-b8d5189a32d6",
   "metadata": {},
   "outputs": [
    {
     "name": "stderr",
     "output_type": "stream",
     "text": [
      "/home/e/anaconda3/envs/Hagrid/lib/python3.9/site-packages/tqdm/auto.py:22: TqdmWarning: IProgress not found. Please update jupyter and ipywidgets. See https://ipywidgets.readthedocs.io/en/stable/user_install.html\n",
      "  from .autonotebook import tqdm as notebook_tqdm\n"
     ]
    }
   ],
   "source": [
    "from syft import PhiTensor, GammaTensor"
   ]
  },
  {
   "cell_type": "code",
   "execution_count": 2,
   "id": "ace4cb08-b633-4b06-858d-00e5be2a179b",
   "metadata": {},
   "outputs": [],
   "source": [
    "import numpy as np"
   ]
  },
  {
   "cell_type": "code",
   "execution_count": 3,
   "id": "2d42e713-0e3c-42e6-ad87-c1743a3f33f3",
   "metadata": {},
   "outputs": [],
   "source": [
    "from syft import DataSubjectArray"
   ]
  },
  {
   "cell_type": "code",
   "execution_count": 4,
   "id": "1daad4df-21b0-40dc-8dcf-8aa6bf05f18b",
   "metadata": {},
   "outputs": [],
   "source": [
    "pt = PhiTensor(child=np.ones((5,5), dtype=np.int64), data_subjects=DataSubjectArray.from_objs((np.ones((10,10)))), min_vals=0, max_vals=1)"
   ]
  },
  {
   "cell_type": "code",
   "execution_count": 5,
   "id": "b6aa054b-60d1-4c87-87ab-7d8393191b2b",
   "metadata": {},
   "outputs": [],
   "source": [
    "pt2 = PhiTensor(child=np.ones((5,5), dtype=np.int64), data_subjects=DataSubjectArray.from_objs((np.zeros((10,10)))), min_vals=0, max_vals=1)"
   ]
  },
  {
   "cell_type": "code",
   "execution_count": 6,
   "id": "ab084fa4-223c-4e1c-af85-f876bdcc0563",
   "metadata": {},
   "outputs": [],
   "source": [
    "res = pt + pt2"
   ]
  },
  {
   "cell_type": "code",
   "execution_count": 7,
   "id": "cf0680cc-9eec-4936-bd61-c2a0b0978bf4",
   "metadata": {},
   "outputs": [],
   "source": [
    "from syft import DataSubjectList\n",
    "dsl = DataSubjectList.from_objs(res.data_subjects)"
   ]
  },
  {
   "cell_type": "code",
   "execution_count": 8,
   "id": "61267c61-0ada-4dc4-bb96-bcfc0b90c840",
   "metadata": {},
   "outputs": [
    {
     "data": {
      "text/plain": [
       "array([[99, 41, 69, 33, 18, 49, 70, 64, 14, 37],\n",
       "       [ 7, 45, 22, 53, 71, 60, 29, 67,  5, 35],\n",
       "       [16, 39,  2, 43, 20, 47,  9, 51, 24, 55],\n",
       "       [72, 58, 27, 62, 12, 66, 31, 74, 76, 78],\n",
       "       [80, 82, 84, 86, 88, 90, 92, 94, 96, 98],\n",
       "       [ 8, 46, 21, 48,  4, 50, 23, 52, 11, 54],\n",
       "       [26, 57, 73, 56, 25, 59, 10, 61, 28, 63],\n",
       "       [ 3, 65, 30, 13, 32, 68,  0, 75, 34, 77],\n",
       "       [15, 79, 36, 81,  6, 83, 38, 85, 17, 87],\n",
       "       [40, 89,  1, 91, 42, 93, 19, 95, 44, 97]])"
      ]
     },
     "execution_count": 8,
     "metadata": {},
     "output_type": "execute_result"
    }
   ],
   "source": [
    "dsl.data_subjects_indexed"
   ]
  },
  {
   "cell_type": "code",
   "execution_count": 9,
   "id": "20d79380-1491-4a51-92d0-486c6a4eedb7",
   "metadata": {},
   "outputs": [
    {
     "data": {
      "text/plain": [
       "4"
      ]
     },
     "execution_count": 9,
     "metadata": {},
     "output_type": "execute_result"
    }
   ],
   "source": [
    "len(set((1,2,3,4)))"
   ]
  },
  {
   "cell_type": "code",
   "execution_count": 10,
   "id": "5de22d5e-c6da-498e-83fd-1bb7ba52a38e",
   "metadata": {},
   "outputs": [
    {
     "data": {
      "text/plain": [
       "10"
      ]
     },
     "execution_count": 10,
     "metadata": {},
     "output_type": "execute_result"
    }
   ],
   "source": [
    "len(res.data_subjects)"
   ]
  },
  {
   "cell_type": "code",
   "execution_count": 11,
   "id": "5fdb861d-c981-4940-929a-95a16d467bc1",
   "metadata": {},
   "outputs": [
    {
     "data": {
      "text/plain": [
       "array([[2, 2, 2, 2, 2, 2, 2, 2, 2, 2],\n",
       "       [2, 2, 2, 2, 2, 2, 2, 2, 2, 2],\n",
       "       [2, 2, 2, 2, 2, 2, 2, 2, 2, 2],\n",
       "       [2, 2, 2, 2, 2, 2, 2, 2, 2, 2],\n",
       "       [2, 2, 2, 2, 2, 2, 2, 2, 2, 2],\n",
       "       [2, 2, 2, 2, 2, 2, 2, 2, 2, 2],\n",
       "       [2, 2, 2, 2, 2, 2, 2, 2, 2, 2],\n",
       "       [2, 2, 2, 2, 2, 2, 2, 2, 2, 2],\n",
       "       [2, 2, 2, 2, 2, 2, 2, 2, 2, 2],\n",
       "       [2, 2, 2, 2, 2, 2, 2, 2, 2, 2]])"
      ]
     },
     "execution_count": 11,
     "metadata": {},
     "output_type": "execute_result"
    }
   ],
   "source": [
    "vectorized_len = np.vectorize(len)\n",
    "vectorized_len(res.data_subjects)"
   ]
  },
  {
   "cell_type": "code",
   "execution_count": 12,
   "id": "1a9b7011-e56e-48bb-9413-98fd77cbae52",
   "metadata": {},
   "outputs": [],
   "source": [
    "def convert_new_to_old_dsl(new_dsl: np.ndarray) -> DataSubjectList:\n",
    "    pass"
   ]
  },
  {
   "cell_type": "code",
   "execution_count": 13,
   "id": "61c688f6-70a5-4108-a097-98f59a3e9d17",
   "metadata": {},
   "outputs": [
    {
     "name": "stdout",
     "output_type": "stream",
     "text": [
      "Creating new Ledger\n"
     ]
    }
   ],
   "source": [
    "from syft.core.adp.data_subject_ledger import DataSubjectLedger\n",
    "from syft.core.adp.ledger_store import DictLedgerStore\n",
    "from typing import Any\n",
    "\n",
    "\n",
    "ledger_store = DictLedgerStore()\n",
    "user_key = b\"1231\"\n",
    "ledger = DataSubjectLedger.get_or_create(store=ledger_store, user_key=user_key)\n",
    "\n",
    "def get_budget_for_user(*args: Any, **kwargs: Any) -> float:\n",
    "    return 999999\n",
    "\n",
    "def deduct_epsilon_for_user(*args: Any, **kwargs: Any) -> bool:\n",
    "    return True"
   ]
  },
  {
   "cell_type": "code",
   "execution_count": 14,
   "id": "710e7a74-5960-4f48-a58d-b35423f6a3cd",
   "metadata": {},
   "outputs": [
    {
     "data": {
      "text/plain": [
       "dict_keys(['1971904834', '992117449'])"
      ]
     },
     "execution_count": 14,
     "metadata": {},
     "output_type": "execute_result"
    }
   ],
   "source": [
    "res.state.keys()"
   ]
  },
  {
   "cell_type": "code",
   "execution_count": 15,
   "id": "55e13af3-86cd-4309-a138-c9814c233c3c",
   "metadata": {},
   "outputs": [
    {
     "name": "stderr",
     "output_type": "stream",
     "text": [
      "  0%|                                                                                                                                                                   | 0/2 [00:00<?, ?it/s]WARNING:absl:No GPU/TPU found, falling back to CPU. (Set TF_CPP_MIN_LOG_LEVEL=0 and rerun for more info.)\n"
     ]
    },
    {
     "name": "stdout",
     "output_type": "stream",
     "text": [
      "rdp constants [50. 50. 50. 50. 50. 50. 50. 50. 50. 50. 50. 50. 50. 50. 50. 50. 50. 50.\n",
      " 50. 50. 50. 50. 50. 50. 50.]\n"
     ]
    },
    {
     "name": "stderr",
     "output_type": "stream",
     "text": [
      "/home/e/anaconda3/envs/Hagrid/lib/python3.9/site-packages/jax/interpreters/mlir.py:512: UserWarning: Some donated buffers were not usable: ShapedArray(float64[25]), ShapedArray(int64[5,5]).\n",
      "Donation is not implemented for cpu.\n",
      "See an explanation at https://jax.readthedocs.io/en/latest/faq.html#buffer-donation.\n",
      "  warnings.warn(f\"Some donated buffers were not usable: {', '.join(unused_donations)}.\\n{msg}\")\n",
      "100%|███████████████████████████████████████████████████████████████████████████████████████████████████████████████████████████████████████████████████████████| 2/2 [00:00<00:00,  7.05it/s]"
     ]
    },
    {
     "name": "stdout",
     "output_type": "stream",
     "text": [
      "Epsilon spend  [99.16982083 99.16982083 99.16982083 99.16982083 99.16982083 99.16982083\n",
      " 99.16982083 99.16982083 99.16982083 99.16982083 99.16982083 99.16982083\n",
      " 99.16982083 99.16982083 99.16982083 99.16982083 99.16982083 99.16982083\n",
      " 99.16982083 99.16982083 99.16982083 99.16982083 99.16982083 99.16982083\n",
      " 99.16982083]\n",
      "Highest possible spend  99.16982082691798\n",
      "Attemping to spend epsilon: 99.16982082691798. Try: 0\n",
      "got user budget 999999.0 epsilon_spent 99.16982082691798\n",
      "rdp constants [50. 50. 50. 50. 50. 50. 50. 50. 50. 50. 50. 50. 50. 50. 50. 50. 50. 50.\n",
      " 50. 50. 50. 50. 50. 50. 50.]\n",
      "Epsilon spend  [99.16982083 99.16982083 99.16982083 99.16982083 99.16982083 99.16982083\n",
      " 99.16982083 99.16982083 99.16982083 99.16982083 99.16982083 99.16982083\n",
      " 99.16982083 99.16982083 99.16982083 99.16982083 99.16982083 99.16982083\n",
      " 99.16982083 99.16982083 99.16982083 99.16982083 99.16982083 99.16982083\n",
      " 99.16982083]\n",
      "Highest possible spend  99.16982082691798\n",
      "Attemping to spend epsilon: 99.16982082691798. Try: 0\n",
      "got user budget 999999.0 epsilon_spent 99.16982082691798\n",
      "We have filtered all the input tensors. Now to compute the result:\n",
      "Filtered inputs  <class 'list'> <class 'numpy.ndarray'> [array([[1, 1, 1, 1, 1],\n",
      "       [1, 1, 1, 1, 1],\n",
      "       [1, 1, 1, 1, 1],\n",
      "       [1, 1, 1, 1, 1],\n",
      "       [1, 1, 1, 1, 1]]), array([[1, 1, 1, 1, 1],\n",
      "       [1, 1, 1, 1, 1],\n",
      "       [1, 1, 1, 1, 1],\n",
      "       [1, 1, 1, 1, 1],\n",
      "       [1, 1, 1, 1, 1]])]\n",
      "Converted DSLs\n",
      "original output (before noise: [[[1 1 1 1 1]\n",
      "  [1 1 1 1 1]\n",
      "  [1 1 1 1 1]\n",
      "  [1 1 1 1 1]\n",
      "  [1 1 1 1 1]]\n",
      "\n",
      " [[1 1 1 1 1]\n",
      "  [1 1 1 1 1]\n",
      "  [1 1 1 1 1]\n",
      "  [1 1 1 1 1]\n",
      "  [1 1 1 1 1]]]\n",
      "noise:  [[[ 0.50172383 -0.05612091  0.06359426  0.18563411  0.28057009]\n",
      "  [-0.04113188 -0.24385694 -0.51540807 -0.42631895  0.41941074]\n",
      "  [-0.53234273  0.50115581 -0.1263496   0.47507763 -0.90705264]\n",
      "  [-0.00524928  0.16584116 -0.14839142  0.31012006 -1.18142188]\n",
      "  [-0.53723135 -0.58931314 -0.05456237  0.01117137  0.09268564]]\n",
      "\n",
      " [[-0.39332322 -0.57551497 -1.32985302 -0.08617881 -0.49019448]\n",
      "  [-1.37843778 -0.21051293 -0.08480269 -0.47562997 -0.73573422]\n",
      "  [ 0.23861781  0.01024698 -0.72880087 -0.49703823 -0.38507939]\n",
      "  [ 0.62680868 -0.94075527 -0.35542661 -0.53002055 -0.19622091]\n",
      "  [-0.87322543  1.0465429  -0.95643166 -0.0538205  -0.49035302]]]\n",
      "got output <class 'numpy.ndarray'> float64\n"
     ]
    },
    {
     "name": "stderr",
     "output_type": "stream",
     "text": [
      "\n"
     ]
    },
    {
     "data": {
      "text/plain": [
       "array([[[ 1.50172383,  0.94387909,  1.06359426,  1.18563411,\n",
       "          1.28057009],\n",
       "        [ 0.95886812,  0.75614306,  0.48459193,  0.57368105,\n",
       "          1.41941074],\n",
       "        [ 0.46765727,  1.50115581,  0.8736504 ,  1.47507763,\n",
       "          0.09294736],\n",
       "        [ 0.99475072,  1.16584116,  0.85160858,  1.31012006,\n",
       "         -0.18142188],\n",
       "        [ 0.46276865,  0.41068686,  0.94543763,  1.01117137,\n",
       "          1.09268564]],\n",
       "\n",
       "       [[ 0.60667678,  0.42448503, -0.32985302,  0.91382119,\n",
       "          0.50980552],\n",
       "        [-0.37843778,  0.78948707,  0.91519731,  0.52437003,\n",
       "          0.26426578],\n",
       "        [ 1.23861781,  1.01024698,  0.27119913,  0.50296177,\n",
       "          0.61492061],\n",
       "        [ 1.62680868,  0.05924473,  0.64457339,  0.46997945,\n",
       "          0.80377909],\n",
       "        [ 0.12677457,  2.0465429 ,  0.04356834,  0.9461795 ,\n",
       "          0.50964698]]])"
      ]
     },
     "execution_count": 15,
     "metadata": {},
     "output_type": "execute_result"
    }
   ],
   "source": [
    "def get_budget():\n",
    "    return 999999\n",
    "\n",
    "res.publish(get_budget_for_user=get_budget_for_user, deduct_epsilon_for_user=deduct_epsilon_for_user, ledger=ledger, sigma=0.5, dsl_hack=True)"
   ]
  },
  {
   "cell_type": "code",
   "execution_count": 16,
   "id": "05480e64-af2b-4d13-bd63-957a50b93038",
   "metadata": {},
   "outputs": [
    {
     "data": {
      "text/plain": [
       "dtype('float64')"
      ]
     },
     "execution_count": 16,
     "metadata": {},
     "output_type": "execute_result"
    }
   ],
   "source": [
    "a = np.ones(10)\n",
    "a.dtype"
   ]
  },
  {
   "cell_type": "code",
   "execution_count": 17,
   "id": "20c97e7a-c09c-4a5e-b913-841dc95feb8a",
   "metadata": {},
   "outputs": [],
   "source": [
    "a.dtype=np.int32"
   ]
  },
  {
   "cell_type": "code",
   "execution_count": 18,
   "id": "6ea549f2-0f13-4e90-83d0-68266af7f7fe",
   "metadata": {},
   "outputs": [
    {
     "data": {
      "text/plain": [
       "False"
      ]
     },
     "execution_count": 18,
     "metadata": {},
     "output_type": "execute_result"
    }
   ],
   "source": [
    "hasattr(res, \"transposed\")"
   ]
  },
  {
   "cell_type": "code",
   "execution_count": null,
   "id": "935fc67b-293f-4569-ac55-b2c00ed96ed0",
   "metadata": {},
   "outputs": [],
   "source": []
  }
 ],
 "metadata": {
  "kernelspec": {
   "display_name": "Python 3 (ipykernel)",
   "language": "python",
   "name": "python3"
  },
  "language_info": {
   "codemirror_mode": {
    "name": "ipython",
    "version": 3
   },
   "file_extension": ".py",
   "mimetype": "text/x-python",
   "name": "python",
   "nbconvert_exporter": "python",
   "pygments_lexer": "ipython3",
   "version": "3.9.7"
  }
 },
 "nbformat": 4,
 "nbformat_minor": 5
}

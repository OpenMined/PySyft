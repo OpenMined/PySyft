{
 "cells": [
  {
   "cell_type": "markdown",
   "id": "c9cf42d1-158a-4621-9e7c-857f91c2d841",
   "metadata": {},
   "source": [
    "This notebook is just to check that the code was transferred from the notebooks to the codebase properly- the checks only check the output type and nothing else"
   ]
  },
  {
   "cell_type": "code",
   "execution_count": 2,
   "id": "3ffea1a7",
   "metadata": {},
   "outputs": [],
   "source": [
    "from syft.core.tensor import nn\n",
    "from syft import PhiTensor\n",
    "import numpy as np"
   ]
  },
  {
   "cell_type": "code",
   "execution_count": 7,
   "id": "03c09053",
   "metadata": {},
   "outputs": [],
   "source": [
    "def test_bnc():\n",
    "    shape = (10, 3, 50, 50)\n",
    "\n",
    "    smol_data = PhiTensor(\n",
    "        child=np.random.rand(*shape)*255, \n",
    "        data_subjects=np.zeros(shape), min_vals=0, max_vals=255)\n",
    "\n",
    "    c = nn.Convolution(3, 3, input_shape=shape)\n",
    "    c.connect_to()\n",
    "    bn = nn.BatchNorm()\n",
    "    bn.connect_to(c)\n",
    "    c_out = c.forward(smol_data)\n",
    "    return bn.forward(c_out)\n"
   ]
  },
  {
   "cell_type": "code",
   "execution_count": 24,
   "id": "e573055e",
   "metadata": {},
   "outputs": [],
   "source": [
    "def test_c_bn_avg():\n",
    "    shape = (10, 3, 6, 6)\n",
    "\n",
    "    smol_data = PhiTensor(\n",
    "        child=np.random.rand(*shape)*255, \n",
    "        data_subjects=np.zeros(shape), min_vals=0, max_vals=255)\n",
    "\n",
    "    c = nn.Convolution(3, 3, input_shape=shape)\n",
    "    c.connect_to()\n",
    "    bn = nn.BatchNorm()\n",
    "    bn.connect_to(c)\n",
    "    c_out = c.forward(smol_data)\n",
    "    bn_out = bn.forward(c_out)\n",
    "    avg = nn.AvgPool((2,2))\n",
    "    avg.connect_to(bn)\n",
    "    return avg.forward(bn_out)\n",
    "    \n",
    "assert isinstance(test_c_bn_avg(), PhiTensor)"
   ]
  },
  {
   "cell_type": "code",
   "execution_count": 23,
   "id": "b7d743c1",
   "metadata": {},
   "outputs": [],
   "source": [
    "def test_c_bn_max():\n",
    "    shape = (10, 3, 6, 6)\n",
    "\n",
    "    smol_data = PhiTensor(\n",
    "        child=np.random.rand(*shape)*255, \n",
    "        data_subjects=np.zeros(shape), min_vals=0, max_vals=255)\n",
    "\n",
    "    c = nn.Convolution(3, 3, input_shape=shape)\n",
    "    c.connect_to()\n",
    "    bn = nn.BatchNorm()\n",
    "    bn.connect_to(c)\n",
    "    c_out = c.forward(smol_data)\n",
    "    bn_out = bn.forward(c_out)\n",
    "    maxp = nn.MaxPool((2,2))\n",
    "    maxp.connect_to(bn)\n",
    "    return maxp.forward(bn_out)\n",
    "    \n",
    "assert isinstance(test_c_bn_max(), PhiTensor)"
   ]
  },
  {
   "cell_type": "code",
   "execution_count": 22,
   "id": "3af9e140",
   "metadata": {},
   "outputs": [],
   "source": [
    "def test_lin():\n",
    "    shape = (10, 3, 6, 6)\n",
    "\n",
    "    smol_data = PhiTensor(\n",
    "        child=np.random.rand(*shape)*255, \n",
    "        data_subjects=np.zeros(shape), min_vals=0, max_vals=255)\n",
    "    \n",
    "    lin = nn.Linear(n_out=2)\n",
    "    lin.n_in = 6\n",
    "    lin.connect_to()\n",
    "    return lin.forward(smol_data)\n",
    "    \n",
    "assert isinstance(test_lin(), PhiTensor)"
   ]
  },
  {
   "cell_type": "code",
   "execution_count": 12,
   "id": "1d8ef37a",
   "metadata": {},
   "outputs": [
    {
     "name": "stdout",
     "output_type": "stream",
     "text": [
      "(10, 10)\n"
     ]
    }
   ],
   "source": [
    "def test_lin_forward_back():\n",
    "    \n",
    "    # Works for 2D symmetrical shapes like (10, 10)\n",
    "    shape = (10, 10)\n",
    "    bpop_shape = (10, 10)\n",
    "\n",
    "    smol_data = PhiTensor(\n",
    "        child=np.random.rand(*shape)*255, \n",
    "        data_subjects=np.zeros(shape), min_vals=0, max_vals=255)\n",
    "    \n",
    "    lin = nn.Linear(n_out=10)\n",
    "    lin.n_in = 10\n",
    "    lin.connect_to()\n",
    "    l_out = lin.forward(smol_data)\n",
    "    \n",
    "    bpop = PhiTensor(\n",
    "        child=np.random.rand(*bpop_shape)*255, \n",
    "        data_subjects=np.zeros(bpop_shape), min_vals=0, max_vals=255)\n",
    "    return lin.backward(bpop)\n",
    "    \n",
    "assert isinstance(test_lin_forward_back(), PhiTensor)\n"
   ]
  },
  {
   "cell_type": "code",
   "execution_count": 16,
   "id": "96fcab83-3dfc-4d13-be38-08304b5dbcaf",
   "metadata": {},
   "outputs": [],
   "source": [
    "def test_c_bn_max_forward_back():\n",
    "    shape = (10, 3, 6, 6)\n",
    "\n",
    "    smol_data = PhiTensor(\n",
    "        child=np.random.rand(*shape)*255, \n",
    "        data_subjects=np.zeros(shape), min_vals=0, max_vals=255)\n",
    "\n",
    "    c = nn.Convolution(3, 3, input_shape=shape)\n",
    "    c.connect_to()\n",
    "    bn = nn.BatchNorm()\n",
    "    bn.connect_to(c)\n",
    "    c_out = c.forward(smol_data)\n",
    "    bn_out = bn.forward(c_out)\n",
    "    maxp = nn.MaxPool((2,2))\n",
    "    maxp.connect_to(bn)\n",
    "    output = maxp.forward(bn_out)\n",
    "    return maxp.backward(output)\n",
    "    \n",
    "assert isinstance(test_c_bn_max_forward_back(), PhiTensor)"
   ]
  },
  {
   "cell_type": "code",
   "execution_count": 21,
   "id": "c5ce25ce-440d-4017-b924-7125ea573809",
   "metadata": {},
   "outputs": [
    {
     "name": "stdout",
     "output_type": "stream",
     "text": [
      "Lazy Repeat adding with mismatched shapes\n",
      "Lazy Repeat adding with mismatched shapes\n",
      "Lazy Repeat adding with mismatched shapes\n",
      "Lazy Repeat adding with mismatched shapes\n",
      "Lazy Repeat adding with mismatched shapes\n",
      "Lazy Repeat adding with mismatched shapes\n"
     ]
    }
   ],
   "source": [
    "def test_c_bn_avg():\n",
    "    shape = (10, 3, 6, 6)\n",
    "\n",
    "    smol_data = PhiTensor(\n",
    "        child=np.random.rand(*shape)*255, \n",
    "        data_subjects=np.zeros(shape), min_vals=0, max_vals=255)\n",
    "\n",
    "    c = nn.Convolution(3, 3, input_shape=shape)\n",
    "    c.connect_to()\n",
    "    bn = nn.BatchNorm()\n",
    "    bn.connect_to(c)\n",
    "    c_out = c.forward(smol_data)\n",
    "    bn_out = bn.forward(c_out)\n",
    "    avg = nn.AvgPool((2,2))\n",
    "    avg.connect_to(bn)\n",
    "    output = avg.forward(bn_out)\n",
    "    \n",
    "    # ALL ABOARD THE BACKPROP EXPRESS\n",
    "    avg_back = avg.backward(output)\n",
    "    assert isinstance(avg_back, PhiTensor)\n",
    "    bn_back = bn.backward(avg_back)\n",
    "    assert isinstance(bn_back, PhiTensor)\n",
    "    c_back = c.backward(bn_back)\n",
    "    assert isinstance(c_back, PhiTensor)\n",
    "    return c_back\n",
    "    \n",
    "assert isinstance(test_c_bn_avg(), PhiTensor)"
   ]
  },
  {
   "cell_type": "code",
   "execution_count": 19,
   "id": "1fa9de76-1e41-44e5-a949-3433a8f10912",
   "metadata": {},
   "outputs": [
    {
     "name": "stdout",
     "output_type": "stream",
     "text": [
      "Lazy Repeat adding with mismatched shapes\n",
      "Lazy Repeat adding with mismatched shapes\n",
      "Lazy Repeat adding with mismatched shapes\n",
      "Lazy Repeat adding with mismatched shapes\n",
      "Lazy Repeat adding with mismatched shapes\n",
      "Lazy Repeat adding with mismatched shapes\n"
     ]
    }
   ],
   "source": [
    "def test_bnc_forward_back():\n",
    "    shape = (1, 1, 50, 50)\n",
    "\n",
    "    smol_data = PhiTensor(\n",
    "        child=np.random.rand(*shape)*255, \n",
    "        data_subjects=np.zeros(shape), min_vals=0, max_vals=255)\n",
    "\n",
    "    c = nn.Convolution(3, 3, input_shape=shape)\n",
    "    c.connect_to()\n",
    "    bn = nn.BatchNorm()\n",
    "    bn.connect_to(c)\n",
    "    c_out = c.forward(smol_data)\n",
    "    output = bn.forward(c_out)\n",
    "    grad_signal = PhiTensor(\n",
    "    child=np.random.random((1,1,48,48))*255, data_subjects=np.zeros((1,1, 48, 48)), min_vals=0, max_vals=255\n",
    ")\n",
    "    return bn.backward(grad_signal)\n",
    "    \n",
    "assert isinstance(test_bnc_forward_back(), PhiTensor)"
   ]
  },
  {
   "cell_type": "code",
   "execution_count": null,
   "id": "db3e4c46-fd72-4098-ba12-c6980dccb10a",
   "metadata": {},
   "outputs": [],
   "source": []
  }
 ],
 "metadata": {
  "kernelspec": {
   "display_name": "Python 3 (ipykernel)",
   "language": "python",
   "name": "python3"
  },
  "language_info": {
   "codemirror_mode": {
    "name": "ipython",
    "version": 3
   },
   "file_extension": ".py",
   "mimetype": "text/x-python",
   "name": "python",
   "nbconvert_exporter": "python",
   "pygments_lexer": "ipython3",
   "version": "3.9.7"
  }
 },
 "nbformat": 4,
 "nbformat_minor": 5
}

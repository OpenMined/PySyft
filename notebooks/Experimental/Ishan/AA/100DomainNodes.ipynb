{
 "cells": [
  {
   "cell_type": "markdown",
   "id": "061ddbac",
   "metadata": {},
   "source": [
    "### Setup domain:\n",
    "\n",
    "notebooks/Experimental/Ishan/AA/setup-data.ipynb"
   ]
  },
  {
   "cell_type": "code",
   "execution_count": 1,
   "id": "55d8a7d4",
   "metadata": {},
   "outputs": [],
   "source": [
    "%load_ext autoreload\n",
    "%autoreload 2\n",
    "import syft as sy\n",
    "from tqdm import tqdm\n",
    "import time"
   ]
  },
  {
   "cell_type": "code",
   "execution_count": 2,
   "id": "9709ecc6-13a3-49be-ac36-f0bc22c942d6",
   "metadata": {},
   "outputs": [],
   "source": [
    "domain_addresses = [8081, 8082]  # replace with URLs\n",
    "username = \"info@openmined.org\"  # \"sam@stargate.net\"\n",
    "pw = \"changethis\""
   ]
  },
  {
   "cell_type": "code",
   "execution_count": 3,
   "id": "410d8d6c-a98c-40b7-98f0-b64bd45288a7",
   "metadata": {},
   "outputs": [],
   "source": [
    "from syft import nn\n",
    "\n",
    "def initialize_model() -> nn.Model:\n",
    "    model = nn.Model()\n",
    "\n",
    "    # Layer 1\n",
    "    model.add(nn.Convolution(nb_filter=32, filter_size=3, padding=2, input_shape=input_shape))\n",
    "    model.add(nn.BatchNorm(activation="leaky_relu"))\n",
    "    model.add(nn.MaxPool(pool_size=2, stride=2))\n",
    "\n",
    "    # Layer 2\n",
    "    model.add(nn.Convolution(nb_filter=64, filter_size=3, padding=2))\n",
    "    model.add(nn.BatchNorm(activation="leaky_relu"))\n",
    "    model.add(nn.MaxPool(pool_size=2, stride=2))\n",
    "\n",
    "    # # Layer 3\n",
    "    # model.add(nn.Convolution(nb_filter=128, filter_size=3, padding=2))\n",
    "    # model.add(nn.BatchNorm(activation="leaky_relu"))\n",
    "    # model.add(nn.MaxPool(pool_size=2, stride=2))\n",
    "\n",
    "    # # Layer 4\n",
    "    # model.add(nn.Convolution(nb_filter=256, filter_size=3, padding=2))\n",
    "    # model.add(nn.BatchNorm(activation="leaky_relu"))\n",
    "    # model.add(nn.MaxPool(pool_size=2, stride=2))\n",
    "\n",
    "    # Layer 5\n",
    "    model.add(nn.AvgPool(3))\n",
    "\n",
    "    # Layer 6\n",
    "    model.add(nn.Flatten())\n",
    "\n",
    "    # Layer 7\n",
    "    model.add(nn.Linear(2, 512))\n",
    "\n",
    "    model.initialize_weights()\n",
    "    return model"
   ]
  },
  {
   "cell_type": "code",
   "execution_count": 4,
   "id": "2125d5b8-d2fe-4f46-b0bb-ca1fb738fda4",
   "metadata": {},
   "outputs": [
    {
     "name": "stderr",
     "output_type": "stream",
     "text": [
      "  0%|                                                                                                                           | 0/2 [00:00<?, ?it/s]"
     ]
    },
    {
     "name": "stdout",
     "output_type": "stream",
     "text": [
      "WARNING: CHANGE YOUR USERNAME AND PASSWORD!!! \n",
      "\n",
      "Anyone can login as an admin to your node right now because your password is still the default PySyft username and password!!!\n",
      "\n",
      "Connecting to localhost... done! \t Logging into canada... done!\n"
     ]
    },
    {
     "name": "stderr",
     "output_type": "stream",
     "text": [
      " 50%|█████████████████████████████████████████████████████████                                                         | 1/2 [04:28<04:28, 268.14s/it]"
     ]
    },
    {
     "name": "stdout",
     "output_type": "stream",
     "text": [
      "['Convolution0', 'BatchNorm1', 'MaxPool2', 'Convolution3', 'BatchNorm4', 'MaxPool5', 'AvgPool6', 'Flatten7', 'Linear8']\n",
      "WARNING: CHANGE YOUR USERNAME AND PASSWORD!!! \n",
      "\n",
      "Anyone can login as an admin to your node right now because your password is still the default PySyft username and password!!!\n",
      "\n",
      "Connecting to localhost... done! \t Logging into italy... done!\n"
     ]
    },
    {
     "name": "stderr",
     "output_type": "stream",
     "text": [
      "100%|██████████████████████████████████████████████████████████████████████████████████████████████████████████████████| 2/2 [09:12<00:00, 276.26s/it]"
     ]
    },
    {
     "name": "stdout",
     "output_type": "stream",
     "text": [
      "['Convolution0', 'BatchNorm1', 'MaxPool2', 'Convolution3', 'BatchNorm4', 'MaxPool5', 'AvgPool6', 'Flatten7', 'Linear8']\n"
     ]
    },
    {
     "name": "stderr",
     "output_type": "stream",
     "text": [
      "\n"
     ]
    }
   ],
   "source": [
    "# TRAINING PARAMS\n",
    "n_epochs = 1\n",
    "batch_size = 2\n",
    "input_shape = (2,3,50,50)\n",
    "model = initialize_model()\n",
    "\n",
    "for address in tqdm(domain_addresses):\n",
    "    domain = sy.login(email=username, password=pw, port=address)  # change to URL when running on 100\n",
    "    \n",
    "    if len(domain.datasets) == 0:\n",
    "        print(f\"Error on domain = {domain.name} with address = {address}\")\n",
    "    \n",
    "    X_train = domain.datasets[-1][\"train_images\"][:2]\n",
    "    y_train = domain.datasets[-1][\"train_labels\"][:2]\n",
    "    input_shape = X_train.public_shape\n",
    "    \n",
    "    # Do a single epoch\n",
    "    model_ptr = model.send(domain,send_to_blob_storage=False)\n",
    "    run_status = model_ptr.step(X_train, y_train)\n",
    "    while(not run_status.exists):\n",
    "        time.sleep(10)\n",
    "    \n",
    "    # Publish Model Weights\n",
    "    published_obj = model_ptr.publish(sigma=1e4)  # PB spent with 1e3 = 690k, thus 1e4 sigma -> 6.9k which is within PB limit of 9999\n",
    "    while(not published_obj.exists):\n",
    "        time.sleep(2)\n",
    "    new_weights = published_obj.get_copy()\n",
    "    \n",
    "    # Update weights and move onto next domain node\n",
    "    model = initialize_model()  # replacing weights into existing model causes a NotImplementedError\n",
    "    model.replace_weights(new_weights)    "
   ]
  },
  {
   "cell_type": "code",
   "execution_count": null,
   "id": "1492d402-4e67-48a9-b9f9-19fe07d15c41",
   "metadata": {},
   "outputs": [],
   "source": [
    "for layer in model.layers:\n",
    "    print(\"Layer\" ,str(layer),end=\" \")\n",
    "    for param in layer.params:\n",
    "        print(param.shape,end = \"  \")\n",
    "    print()"
   ]
  },
  {
   "cell_type": "code",
   "execution_count": null,
   "id": "a02205f8-e48a-4dea-a10a-6268ea07bf08",
   "metadata": {},
   "outputs": [],
   "source": [
    "model=initialize_model()"
   ]
  },
  {
   "cell_type": "code",
   "execution_count": null,
   "id": "9f33e777-9e36-476d-ab8f-1afabb1f6c10",
   "metadata": {},
   "outputs": [],
   "source": [
    "import numpy as np"
   ]
  },
  {
   "cell_type": "code",
   "execution_count": null,
   "id": "581fb05b-0775-4570-9615-bbb691326414",
   "metadata": {},
   "outputs": [],
   "source": [
    "v= np.empty((1,32,1,1))"
   ]
  },
  {
   "cell_type": "code",
   "execution_count": null,
   "id": "0ca39a3d-4bea-4f9f-a297-5ca08f9a93b4",
   "metadata": {},
   "outputs": [],
   "source": [
    "v.squeeze(axis=0).shape"
   ]
  }
 ],
 "metadata": {
  "kernelspec": {
   "display_name": "Python 3 (ipykernel)",
   "language": "python",
   "name": "python3"
  },
  "language_info": {
   "codemirror_mode": {
    "name": "ipython",
    "version": 3
   },
   "file_extension": ".py",
   "mimetype": "text/x-python",
   "name": "python",
   "nbconvert_exporter": "python",
   "pygments_lexer": "ipython3",
   "version": "3.9.7"
  }
 },
 "nbformat": 4,
 "nbformat_minor": 5
}

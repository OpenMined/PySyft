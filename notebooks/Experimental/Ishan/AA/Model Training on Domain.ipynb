{
 "cells": [
  {
   "cell_type": "markdown",
   "id": "061ddbac",
   "metadata": {},
   "source": [
    "### Setup domain:\n",
    "\n",
    "notebooks/Experimental/Ishan/AA/setup-data.ipynb"
   ]
  },
  {
   "cell_type": "code",
   "execution_count": 1,
   "id": "55d8a7d4",
   "metadata": {},
   "outputs": [
    {
     "name": "stderr",
     "output_type": "stream",
     "text": [
      "/home/e/anaconda3/envs/Hagrid/lib/python3.9/site-packages/tqdm/auto.py:22: TqdmWarning: IProgress not found. Please update jupyter and ipywidgets. See https://ipywidgets.readthedocs.io/en/stable/user_install.html\n",
      "  from .autonotebook import tqdm as notebook_tqdm\n"
     ]
    }
   ],
   "source": [
    "import syft as sy"
   ]
  },
  {
   "cell_type": "code",
   "execution_count": 2,
   "id": "1d4a4305",
   "metadata": {},
   "outputs": [
    {
     "name": "stdout",
     "output_type": "stream",
     "text": [
      "WARNING: CHANGE YOUR USERNAME AND PASSWORD!!! \n",
      "\n",
      "Anyone can login as an admin to your node right now because your password is still the default PySyft username and password!!!\n",
      "\n",
      "Connecting to localhost... done! \t Logging into adp... done!\n"
     ]
    }
   ],
   "source": [
    "domain = sy.login(email=\"info@openmined.org\", password=\"changethis\", port=8081)"
   ]
  },
  {
   "cell_type": "code",
   "execution_count": 3,
   "id": "d453eaf2-ad75-43bc-a50d-7ecb031f300b",
   "metadata": {},
   "outputs": [
    {
     "data": {
      "text/html": [
       "<style>\n",
       "                #myInput {\n",
       "                  background-position: 10px 12px; /* Position the search icon */\n",
       "                  background-repeat: no-repeat; /* Do not repeat the icon image */\n",
       "                  background-color: #bbb;\n",
       "                  width: 98%; /* Full-width */\n",
       "                  font-size: 14px; /* Increase font-size */\n",
       "                  padding: 12px 20px 12px 40px; /* Add some padding */\n",
       "                  border: 1px solid #ddd; /* Add a grey border */\n",
       "                  margin-bottom: 12px; /* Add some space below the input */\n",
       "                }\n",
       "\n",
       "                #myTable {\n",
       "                  border-collapse: collapse; /* Collapse borders */\n",
       "                  width: 100%; /* Full-width */\n",
       "                  border: 1px solid #ddd; /* Add a grey border */\n",
       "                  font-size: 14px; /* Increase font-size */\n",
       "                }\n",
       "\n",
       "                #myTable th, #myTable td {\n",
       "                  text-align: left; /* Left-align text */\n",
       "                  padding: 10px; /* Add padding */\n",
       "                }\n",
       "\n",
       "                #myTable tr {\n",
       "                  /* Add a bottom border to all table rows */\n",
       "                  border-bottom: 1px solid #ddd;\n",
       "                }\n",
       "\n",
       "                #myTable tr.header, #myTable tr:hover {\n",
       "                  /* Add a grey background color to the table header and on hover */\n",
       "                  background-color: #777;\n",
       "                }\n",
       "                </style>\n",
       "\n",
       "                <table id=\"myTable\" style=\"width:1000px\">\n",
       "                  <tr class=\"header\">\n",
       "                    <th style=\"width:30px\">Idx</th>\n",
       "                    <th style=\"width:20%;\">Name</th>\n",
       "                    <th style=\"width:35%;\">Description</th>\n",
       "                    <th style=\"width:20%;\">Assets</th>\n",
       "                    <th style=\"width:300px;\">Id</th>\n",
       "                  </tr>\n",
       "                \n",
       "\n",
       "          <tr>\n",
       "            <td>[0]</td>\n",
       "            <td>BreastCancerDataset</td>\n",
       "            <td>Invasive Ductal Carcinoma (IDC) is the most common subtype of all breast cancers.     The modified dataset consisted of 162 whole mount slide images of Breast Cancer (BCa) specimens scanned at 40x.     Patches of size 50 x 50 were extracted from the original image. The labels 0 is non-IDC and 1 is IDC.</td>\n",
       "            <td>[\"train_images\"] -> <class 'syft.core.tensor.tensor.Tensor'><br /><br />[\"train_labels\"] -> <class 'syft.core.tensor.tensor.Tensor'><br /><br /></td>\n",
       "            <td>be953051-3f0b-4ad7-844a-0ca17455f5e5</td>\n",
       "          </tr>\n",
       "\n",
       "          <tr>\n",
       "            <td>[1]</td>\n",
       "            <td>BreastCancerDataset</td>\n",
       "            <td>Invasive Ductal Carcinoma (IDC) is the most common subtype of all breast cancers.     The modified dataset consisted of 162 whole mount slide images of Breast Cancer (BCa) specimens scanned at 40x.     Patches of size 50 x 50 were extracted from the original image. The labels 0 is non-IDC and 1 is IDC.</td>\n",
       "            <td>[\"train_images\"] -> <class 'syft.core.tensor.tensor.Tensor'><br /><br />[\"train_labels\"] -> <class 'syft.core.tensor.tensor.Tensor'><br /><br /></td>\n",
       "            <td>4af02b1b-1304-4bde-b4b4-1e16378edd92</td>\n",
       "          </tr>\n",
       "        </table>\n",
       "\n",
       "        <script>\n",
       "        function myFunction() {\n",
       "          // Declare variables\n",
       "          var input, filter, table, tr, td, i, txtValue;\n",
       "          input = document.getElementById(\"myInput\");\n",
       "          filter = input.value.toUpperCase();\n",
       "          table = document.getElementById(\"myTable\");\n",
       "          tr = table.getElementsByTagName(\"tr\");\n",
       "\n",
       "          // Loop through all table rows, and hide those who don't match the search query\n",
       "          for (i = 0; i < tr.length; i++) {\n",
       "            name_td = tr[i].getElementsByTagName(\"td\")[1];\n",
       "            desc_td = tr[i].getElementsByTagName(\"td\")[2];\n",
       "            asset_td = tr[i].getElementsByTagName(\"td\")[3];\n",
       "            id_td = tr[i].getElementsByTagName(\"td\")[4];\n",
       "            if (name_td || desc_td || asset_td || id_td) {\n",
       "              name_txtValue = name_td.textContent || name_td.innerText;\n",
       "              desc_txtValue = desc_td.textContent || name_td.innerText;\n",
       "              asset_txtValue = asset_td.textContent || name_td.innerText;\n",
       "              id_txtValue = id_td.textContent || name_td.innerText;\n",
       "              name_bool = name_txtValue.toUpperCase().indexOf(filter) > -1;\n",
       "              desc_bool = desc_txtValue.toUpperCase().indexOf(filter) > -1;\n",
       "              asset_bool = asset_txtValue.toUpperCase().indexOf(filter) > -1;\n",
       "              id_bool = id_txtValue.toUpperCase().indexOf(filter) > -1;\n",
       "              if (name_bool || desc_bool || asset_bool || id_bool) {\n",
       "                tr[i].style.display = \"\";\n",
       "              } else {\n",
       "                tr[i].style.display = \"none\";\n",
       "              }\n",
       "            }\n",
       "          }\n",
       "        }\n",
       "        </script>"
      ],
      "text/plain": [
       "<syft.core.node.common.client_manager.dataset_api.DatasetRequestAPI at 0x7f8a033a6580>"
      ]
     },
     "execution_count": 3,
     "metadata": {},
     "output_type": "execute_result"
    }
   ],
   "source": [
    "domain.datasets"
   ]
  },
  {
   "cell_type": "code",
   "execution_count": 4,
   "id": "3597cfcc",
   "metadata": {},
   "outputs": [],
   "source": [
    "X_train = domain.datasets[-1][\"train_images\"][:2]\n",
    "y_train = domain.datasets[-1][\"train_labels\"][:2]"
   ]
  },
  {
   "cell_type": "code",
   "execution_count": 5,
   "id": "8dee4acf",
   "metadata": {},
   "outputs": [],
   "source": [
    "input_shape = X_train[:2].public_shape"
   ]
  },
  {
   "cell_type": "code",
   "execution_count": 6,
   "id": "add2d90a-bcf7-4b12-ba36-9d215f6c1d6e",
   "metadata": {},
   "outputs": [
    {
     "data": {
      "text/plain": [
       "(2, 3, 50, 50)"
      ]
     },
     "execution_count": 6,
     "metadata": {},
     "output_type": "execute_result"
    }
   ],
   "source": [
    "input_shape"
   ]
  },
  {
   "cell_type": "code",
   "execution_count": 7,
   "id": "5b8a96ba",
   "metadata": {},
   "outputs": [],
   "source": [
    "from syft import nn"
   ]
  },
  {
   "cell_type": "code",
   "execution_count": 8,
   "id": "c8742d1f",
   "metadata": {},
   "outputs": [],
   "source": [
    "model = nn.Model()\n",
    "\n",
    "# Layer 1\n",
    "model.add(nn.Convolution(nb_filter=32, filter_size=3, padding=2, input_shape=input_shape))\n",
    "model.add(nn.BatchNorm(activation="leaky_relu"))\n",
    "model.add(nn.MaxPool(pool_size=2, stride=2))\n",
    "\n",
    "# Layer 2\n",
    "model.add(nn.Convolution(nb_filter=64, filter_size=3, padding=2))\n",
    "model.add(nn.BatchNorm(activation="leaky_relu"))\n",
    "model.add(nn.MaxPool(pool_size=2, stride=2))\n",
    "\n",
    "# # Layer 3\n",
    "# model.add(nn.Convolution(nb_filter=128, filter_size=3, padding=2))\n",
    "# model.add(nn.BatchNorm(activation="leaky_relu"))\n",
    "# model.add(nn.MaxPool(pool_size=2, stride=2))\n",
    "\n",
    "# # Layer 4\n",
    "# model.add(nn.Convolution(nb_filter=256, filter_size=3, padding=2))\n",
    "# model.add(nn.BatchNorm(activation="leaky_relu"))\n",
    "# model.add(nn.MaxPool(pool_size=2, stride=2))\n",
    "\n",
    "# Layer 5\n",
    "model.add(nn.AvgPool(5))\n",
    "\n",
    "# Layer 6\n",
    "model.add(nn.Flatten())\n",
    "\n",
    "# Layer 7\n",
    "model.add(nn.Linear(2, 512))"
   ]
  },
  {
   "cell_type": "code",
   "execution_count": 9,
   "id": "bd55504c",
   "metadata": {},
   "outputs": [],
   "source": [
    "model.initialize_weights()"
   ]
  },
  {
   "cell_type": "code",
   "execution_count": 10,
   "id": "54e98eed-a49b-4da0-8b2a-8b94259ab71b",
   "metadata": {},
   "outputs": [
    {
     "data": {
      "text/plain": [
       "[<syft.core.tensor.nn.layers.convolution.Convolution at 0x7f8a033a68e0>,\n",
       " <syft.core.tensor.nn.layers.normalization.BatchNorm at 0x7f8a02dc9f70>,\n",
       " <syft.core.tensor.nn.layers.pooling.MaxPool at 0x7f8a033a6c10>,\n",
       " <syft.core.tensor.nn.layers.convolution.Convolution at 0x7f8a02dc9fa0>,\n",
       " <syft.core.tensor.nn.layers.normalization.BatchNorm at 0x7f8a02dc9c40>,\n",
       " <syft.core.tensor.nn.layers.pooling.MaxPool at 0x7f8a02dc9fd0>,\n",
       " <syft.core.tensor.nn.layers.pooling.AvgPool at 0x7f8a02dc9c10>,\n",
       " <syft.core.tensor.nn.layers.reshaping.Flatten at 0x7f8a02dc9c70>,\n",
       " <syft.core.tensor.nn.layers.linear.Linear at 0x7f8a02dc9b80>]"
      ]
     },
     "execution_count": 10,
     "metadata": {},
     "output_type": "execute_result"
    }
   ],
   "source": [
    "model.layers"
   ]
  },
  {
   "cell_type": "code",
   "execution_count": 11,
   "id": "93bf7138",
   "metadata": {},
   "outputs": [],
   "source": [
    "model_ptr = model.send(domain,send_to_blob_storage=False)"
   ]
  },
  {
   "cell_type": "code",
   "execution_count": 12,
   "id": "e0c20760",
   "metadata": {},
   "outputs": [],
   "source": [
    "x_batch, y_batch = X_train[:2], y_train[:2]"
   ]
  },
  {
   "cell_type": "code",
   "execution_count": 13,
   "id": "94f59081",
   "metadata": {},
   "outputs": [
    {
     "name": "stderr",
     "output_type": "stream",
     "text": [
      "  0%|                                                                | 0/1 [00:00<?, ?it/s]"
     ]
    },
    {
     "name": "stdout",
     "output_type": "stream",
     "text": [
      "Epoch: 0\n"
     ]
    },
    {
     "name": "stderr",
     "output_type": "stream",
     "text": [
      "100%|███████████████████████████████████████████████████████| 1/1 [04:00<00:00, 240.71s/it]"
     ]
    },
    {
     "name": "stdout",
     "output_type": "stream",
     "text": [
      "Epoch completed.\n"
     ]
    },
    {
     "name": "stderr",
     "output_type": "stream",
     "text": [
      "\n"
     ]
    }
   ],
   "source": [
    "import time\n",
    "from tqdm import tqdm\n",
    "n_epochs = 1\n",
    "batch_size = 2\n",
    "for epoch in tqdm(range(n_epochs)):\n",
    "    print(f\"Epoch: {epoch}\")\n",
    "    total_images = X_train.public_shape[0]\n",
    "    start_idx = 0\n",
    "    while(start_idx < total_images):\n",
    "        end_idx = start_idx+batch_size\n",
    "        x_batch = X_train[start_idx:end_idx]\n",
    "        y_batch = y_train[start_idx:end_idx]\n",
    "        run_status = model_ptr.step(x_batch, y_batch)\n",
    "        while(not run_status.exists):\n",
    "            time.sleep(10)\n",
    "        print(\"Epoch completed.\")\n",
    "        start_idx += batch_size"
   ]
  },
  {
   "cell_type": "code",
   "execution_count": 14,
   "id": "84a5c960",
   "metadata": {},
   "outputs": [],
   "source": [
    "# Need to implement download_weights\n",
    "weights = model_ptr.publish(sigma=1000)"
   ]
  },
  {
   "cell_type": "code",
   "execution_count": 15,
   "id": "cf7111a4-b884-41e8-9eaa-759c3c15ac0c",
   "metadata": {},
   "outputs": [],
   "source": [
    "while not weights.exists:\n",
    "    time.sleep(5)"
   ]
  },
  {
   "cell_type": "code",
   "execution_count": 16,
   "id": "225c7b66-83a4-4af5-9ce9-d0f9b7c76ef8",
   "metadata": {},
   "outputs": [],
   "source": [
    "res = weights.get_copy()"
   ]
  },
  {
   "cell_type": "code",
   "execution_count": 64,
   "id": "19e98995-09ef-4a29-a476-5ac0fcfe611a",
   "metadata": {},
   "outputs": [
    {
     "name": "stdout",
     "output_type": "stream",
     "text": [
      "['Convolution0', 'BatchNorm1', 'MaxPool2', 'Convolution3', 'BatchNorm4', 'MaxPool5', 'AvgPool6', 'Flatten7', 'Linear8']\n"
     ]
    }
   ],
   "source": [
    "model.replace_weights(res)"
   ]
  },
  {
   "cell_type": "code",
   "execution_count": 72,
   "id": "d577cd96-aca2-46e3-a23a-00a5d960edb1",
   "metadata": {},
   "outputs": [
    {
     "name": "stdout",
     "output_type": "stream",
     "text": [
      "WARNING: CHANGE YOUR USERNAME AND PASSWORD!!! \n",
      "\n",
      "Anyone can login as an admin to your node right now because your password is still the default PySyft username and password!!!\n",
      "\n",
      "Connecting to localhost... done! \t Logging into vigilant_sutskever... done!\n"
     ]
    }
   ],
   "source": [
    "domain2 = sy.login(email=\"info@openmined.org\", password=\"changethis\", port=8082)"
   ]
  },
  {
   "cell_type": "code",
   "execution_count": 73,
   "id": "2f38d60a-a1c1-4ec1-96c5-f42a6e663d49",
   "metadata": {},
   "outputs": [
    {
     "data": {
      "text/html": [
       "<style>\n",
       "                #myInput {\n",
       "                  background-position: 10px 12px; /* Position the search icon */\n",
       "                  background-repeat: no-repeat; /* Do not repeat the icon image */\n",
       "                  background-color: #bbb;\n",
       "                  width: 98%; /* Full-width */\n",
       "                  font-size: 14px; /* Increase font-size */\n",
       "                  padding: 12px 20px 12px 40px; /* Add some padding */\n",
       "                  border: 1px solid #ddd; /* Add a grey border */\n",
       "                  margin-bottom: 12px; /* Add some space below the input */\n",
       "                }\n",
       "\n",
       "                #myTable {\n",
       "                  border-collapse: collapse; /* Collapse borders */\n",
       "                  width: 100%; /* Full-width */\n",
       "                  border: 1px solid #ddd; /* Add a grey border */\n",
       "                  font-size: 14px; /* Increase font-size */\n",
       "                }\n",
       "\n",
       "                #myTable th, #myTable td {\n",
       "                  text-align: left; /* Left-align text */\n",
       "                  padding: 10px; /* Add padding */\n",
       "                }\n",
       "\n",
       "                #myTable tr {\n",
       "                  /* Add a bottom border to all table rows */\n",
       "                  border-bottom: 1px solid #ddd;\n",
       "                }\n",
       "\n",
       "                #myTable tr.header, #myTable tr:hover {\n",
       "                  /* Add a grey background color to the table header and on hover */\n",
       "                  background-color: #777;\n",
       "                }\n",
       "                </style>\n",
       "\n",
       "                <table id=\"myTable\" style=\"width:1000px\">\n",
       "                  <tr class=\"header\">\n",
       "                    <th style=\"width:30px\">Idx</th>\n",
       "                    <th style=\"width:20%;\">Name</th>\n",
       "                    <th style=\"width:35%;\">Description</th>\n",
       "                    <th style=\"width:20%;\">Assets</th>\n",
       "                    <th style=\"width:300px;\">Id</th>\n",
       "                  </tr>\n",
       "                \n",
       "\n",
       "          <tr>\n",
       "            <td>[0]</td>\n",
       "            <td>BreastCancerDataset</td>\n",
       "            <td>Invasive Ductal Carcinoma (IDC) is the most common subtype of all breast cancers.     The modified dataset consisted of 162 whole mount slide images of Breast Cancer (BCa) specimens scanned at 40x.     Patches of size 50 x 50 were extracted from the original image. The labels 0 is non-IDC and 1 is IDC.</td>\n",
       "            <td>[\"train_images\"] -> <class 'syft.core.tensor.tensor.Tensor'><br /><br />[\"train_labels\"] -> <class 'syft.core.tensor.tensor.Tensor'><br /><br /></td>\n",
       "            <td>dde3bf76-9109-4405-baf8-d9278d6db316</td>\n",
       "          </tr>\n",
       "        </table>\n",
       "\n",
       "        <script>\n",
       "        function myFunction() {\n",
       "          // Declare variables\n",
       "          var input, filter, table, tr, td, i, txtValue;\n",
       "          input = document.getElementById(\"myInput\");\n",
       "          filter = input.value.toUpperCase();\n",
       "          table = document.getElementById(\"myTable\");\n",
       "          tr = table.getElementsByTagName(\"tr\");\n",
       "\n",
       "          // Loop through all table rows, and hide those who don't match the search query\n",
       "          for (i = 0; i < tr.length; i++) {\n",
       "            name_td = tr[i].getElementsByTagName(\"td\")[1];\n",
       "            desc_td = tr[i].getElementsByTagName(\"td\")[2];\n",
       "            asset_td = tr[i].getElementsByTagName(\"td\")[3];\n",
       "            id_td = tr[i].getElementsByTagName(\"td\")[4];\n",
       "            if (name_td || desc_td || asset_td || id_td) {\n",
       "              name_txtValue = name_td.textContent || name_td.innerText;\n",
       "              desc_txtValue = desc_td.textContent || name_td.innerText;\n",
       "              asset_txtValue = asset_td.textContent || name_td.innerText;\n",
       "              id_txtValue = id_td.textContent || name_td.innerText;\n",
       "              name_bool = name_txtValue.toUpperCase().indexOf(filter) > -1;\n",
       "              desc_bool = desc_txtValue.toUpperCase().indexOf(filter) > -1;\n",
       "              asset_bool = asset_txtValue.toUpperCase().indexOf(filter) > -1;\n",
       "              id_bool = id_txtValue.toUpperCase().indexOf(filter) > -1;\n",
       "              if (name_bool || desc_bool || asset_bool || id_bool) {\n",
       "                tr[i].style.display = \"\";\n",
       "              } else {\n",
       "                tr[i].style.display = \"none\";\n",
       "              }\n",
       "            }\n",
       "          }\n",
       "        }\n",
       "        </script>"
      ],
      "text/plain": [
       "<syft.core.node.common.client_manager.dataset_api.DatasetRequestAPI at 0x7f8a001f3640>"
      ]
     },
     "execution_count": 73,
     "metadata": {},
     "output_type": "execute_result"
    }
   ],
   "source": [
    "domain2.datasets"
   ]
  },
  {
   "cell_type": "code",
   "execution_count": 76,
   "id": "3c4a4319-c61b-4a27-9a3d-b71c349e56dd",
   "metadata": {},
   "outputs": [],
   "source": [
    "model_ptr2 = model.send(domain2,send_to_blob_storage=False)"
   ]
  },
  {
   "cell_type": "code",
   "execution_count": 78,
   "id": "1f107db5-62bd-4144-bc3c-5db8beabfcfc",
   "metadata": {},
   "outputs": [],
   "source": [
    "X_train2 = domain2.datasets[-1][\"train_images\"][:2]\n",
    "y_train2 = domain2.datasets[-1][\"train_labels\"][:2]"
   ]
  },
  {
   "cell_type": "code",
   "execution_count": 79,
   "id": "dcbd7db8-697e-407a-ae00-ac7dde8db715",
   "metadata": {},
   "outputs": [],
   "source": [
    "input_shape2 = X_train2[:2].public_shape"
   ]
  },
  {
   "cell_type": "code",
   "execution_count": 80,
   "id": "8b1037b5-986c-4977-a420-821b813fd87c",
   "metadata": {},
   "outputs": [
    {
     "name": "stderr",
     "output_type": "stream",
     "text": [
      "  0%|                                                                                                                                                           | 0/1 [00:00<?, ?it/s]"
     ]
    },
    {
     "name": "stdout",
     "output_type": "stream",
     "text": [
      "Epoch: 0\n"
     ]
    },
    {
     "name": "stderr",
     "output_type": "stream",
     "text": [
      "100%|██████████████████████████████████████████████████████████████████████████████████████████████████████████████████████████████████████████████████| 1/1 [04:00<00:00, 240.71s/it]"
     ]
    },
    {
     "name": "stdout",
     "output_type": "stream",
     "text": [
      "Epoch completed.\n"
     ]
    },
    {
     "name": "stderr",
     "output_type": "stream",
     "text": [
      "\n"
     ]
    }
   ],
   "source": [
    "n_epochs = 1\n",
    "batch_size = 2\n",
    "\n",
    "for epoch in tqdm(range(n_epochs)):\n",
    "    print(f\"Epoch: {epoch}\")\n",
    "    total_images = X_train2.public_shape[0]\n",
    "    start_idx = 0\n",
    "    while(start_idx < total_images):\n",
    "        end_idx = start_idx+batch_size\n",
    "        x_batch = X_train2[start_idx:end_idx]\n",
    "        y_batch = y_train2[start_idx:end_idx]\n",
    "        run_status = model_ptr2.step(x_batch, y_batch)\n",
    "        while(not run_status.exists):\n",
    "            time.sleep(10)\n",
    "        print(\"Epoch completed.\")\n",
    "        start_idx += batch_size"
   ]
  },
  {
   "cell_type": "code",
   "execution_count": 81,
   "id": "ec0fb88f-a34c-4029-b636-2b29d7abc40a",
   "metadata": {},
   "outputs": [],
   "source": [
    "# Need to implement download_weights\n",
    "weights2 = model_ptr2.publish(sigma=1000)"
   ]
  },
  {
   "cell_type": "code",
   "execution_count": 82,
   "id": "0b04a8ad-52c6-4bf9-9772-ff5e8bea7c50",
   "metadata": {},
   "outputs": [],
   "source": [
    "while not weights2.exists:\n",
    "    time.sleep(5)"
   ]
  },
  {
   "cell_type": "code",
   "execution_count": 83,
   "id": "551b024e-ffab-4cc6-8c3d-56c731a47a9e",
   "metadata": {},
   "outputs": [],
   "source": [
    "res2 = weights2.get_copy()"
   ]
  },
  {
   "cell_type": "code",
   "execution_count": null,
   "id": "ec45b6e4-4462-48e7-b33b-f15be829496c",
   "metadata": {},
   "outputs": [],
   "source": []
  }
 ],
 "metadata": {
  "kernelspec": {
   "display_name": "Python 3 (ipykernel)",
   "language": "python",
   "name": "python3"
  },
  "language_info": {
   "codemirror_mode": {
    "name": "ipython",
    "version": 3
   },
   "file_extension": ".py",
   "mimetype": "text/x-python",
   "name": "python",
   "nbconvert_exporter": "python",
   "pygments_lexer": "ipython3",
   "version": "3.9.7"
  }
 },
 "nbformat": 4,
 "nbformat_minor": 5
}

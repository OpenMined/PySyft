{
 "cells": [
  {
   "cell_type": "markdown",
   "id": "061ddbac",
   "metadata": {},
   "source": [
    "### Setup domain:\n",
    "\n",
    "notebooks/Experimental/Ishan/AA/setup-data.ipynb"
   ]
  },
  {
   "cell_type": "code",
   "execution_count": null,
   "id": "55d8a7d4",
   "metadata": {},
   "outputs": [],
   "source": [
    "import syft as sy"
   ]
  },
  {
   "cell_type": "code",
   "execution_count": null,
   "id": "1d4a4305",
   "metadata": {},
   "outputs": [],
   "source": [
    "domain = sy.login(email=\"info@openmined.org\", password=\"changethis\", port=8081)"
   ]
  },
  {
   "cell_type": "code",
   "execution_count": null,
   "id": "d453eaf2-ad75-43bc-a50d-7ecb031f300b",
   "metadata": {},
   "outputs": [],
   "source": [
    "# ensure the BreastCancerDataset is available\n",
    "domain.datasets"
   ]
  },
  {
   "cell_type": "code",
   "execution_count": null,
   "id": "3597cfcc",
   "metadata": {},
   "outputs": [],
   "source": [
    "# set up training data (X) and training labels (y)\n",
    "X_train = domain.datasets[0][\"train_images\"]\n",
    "y_train = domain.datasets[0][\"train_labels\"]"
   ]
  },
  {
   "cell_type": "code",
   "execution_count": null,
   "id": "8dee4acf",
   "metadata": {},
   "outputs": [],
   "source": [
    "# check the shape of the data\n",
    "input_shape = X_train.public_shape"
   ]
  },
  {
   "cell_type": "code",
   "execution_count": null,
   "id": "add2d90a-bcf7-4b12-ba36-9d215f6c1d6e",
   "metadata": {},
   "outputs": [],
   "source": [
    "input_shape"
   ]
  },
  {
   "cell_type": "code",
   "execution_count": null,
   "id": "130e941a",
   "metadata": {},
   "outputs": [],
   "source": [
    "# input_shape = (100, 3, 50, 50)"
   ]
  },
  {
   "cell_type": "markdown",
   "id": "a5ef735c",
   "metadata": {},
   "source": [
    "### Create a Neural Network Model"
   ]
  },
  {
   "cell_type": "code",
   "execution_count": null,
   "id": "5b8a96ba",
   "metadata": {},
   "outputs": [],
   "source": [
    "from syft import nn"
   ]
  },
  {
   "cell_type": "code",
   "execution_count": null,
   "id": "c8742d1f",
   "metadata": {},
   "outputs": [],
   "source": [
    "model = nn.Model()\n",
    "\n",
    "# create the model layer-by-layer\n",
    "\n",
    "# Layer 1\n",
    "model.add(nn.Convolution(nb_filter=32, filter_size=3, padding=2, input_shape=input_shape))\n",
    "model.add(nn.BatchNorm(activation=nn.leaky_ReLU()))\n",
    "model.add(nn.MaxPool(pool_size=2, stride=2))\n",
    "\n",
    "# Layer 2\n",
    "model.add(nn.Convolution(nb_filter=64, filter_size=3, padding=2))\n",
    "model.add(nn.BatchNorm(activation=nn.leaky_ReLU()))\n",
    "model.add(nn.MaxPool(pool_size=2, stride=2))\n",
    "\n",
    "# Layer 3\n",
    "model.add(nn.Convolution(nb_filter=128, filter_size=3, padding=2))\n",
    "model.add(nn.BatchNorm(activation=nn.leaky_ReLU()))\n",
    "model.add(nn.MaxPool(pool_size=2, stride=2))\n",
    "\n",
    "# Layer 4\n",
    "model.add(nn.Convolution(nb_filter=256, filter_size=3, padding=2))\n",
    "model.add(nn.BatchNorm(activation=nn.leaky_ReLU()))\n",
    "model.add(nn.MaxPool(pool_size=2, stride=2))\n",
    "\n",
    "# Layer 5\n",
    "model.add(nn.Convolution(nb_filter=512, filter_size=3, padding=2))\n",
    "model.add(nn.BatchNorm(activation=nn.leaky_ReLU()))\n",
    "model.add(nn.MaxPool(pool_size=2, stride=2))\n",
    "\n",
    "# Layer 6\n",
    "model.add(nn.AvgPool(7))\n",
    "\n",
    "# Layer 7\n",
    "model.add(nn.Flatten())\n",
    "\n",
    "# Layer 8\n",
    "model.add(nn.Linear(2, 512))"
   ]
  },
  {
   "cell_type": "code",
   "execution_count": null,
   "id": "bd55504c",
   "metadata": {},
   "outputs": [],
   "source": [
    "# compile the model\n",
    "model.compile()"
   ]
  },
  {
   "cell_type": "code",
   "execution_count": null,
   "id": "54e98eed-a49b-4da0-8b2a-8b94259ab71b",
   "metadata": {},
   "outputs": [],
   "source": [
    "model.layers"
   ]
  },
  {
   "cell_type": "code",
   "execution_count": null,
   "id": "93bf7138",
   "metadata": {},
   "outputs": [],
   "source": [
    "# send the model to the domain node\n",
    "model_ptr = model.send(domain)"
   ]
  },
  {
   "cell_type": "markdown",
   "id": "41809d70",
   "metadata": {},
   "source": [
    "### Train the Network"
   ]
  },
  {
   "cell_type": "code",
   "execution_count": null,
   "id": "610acad0",
   "metadata": {},
   "outputs": [],
   "source": [
    "model_ptr.fit(X_train, y_train, shuffle=False, max_iter=1)"
   ]
  },
  {
   "cell_type": "code",
   "execution_count": null,
   "id": "84a5c960",
   "metadata": {},
   "outputs": [],
   "source": [
    "# Need to implement download_weights\n",
    "model_ptr.download_weights(sigma=1000)"
   ]
  },
  {
   "cell_type": "code",
   "execution_count": null,
   "id": "1b42b44b",
   "metadata": {},
   "outputs": [],
   "source": []
  }
 ],
 "metadata": {
  "kernelspec": {
   "display_name": "Python 3 (ipykernel)",
   "language": "python",
   "name": "python3"
  },
  "language_info": {
   "codemirror_mode": {
    "name": "ipython",
    "version": 3
   },
   "file_extension": ".py",
   "mimetype": "text/x-python",
   "name": "python",
   "nbconvert_exporter": "python",
   "pygments_lexer": "ipython3",
   "version": "3.9.7"
  }
 },
 "nbformat": 4,
 "nbformat_minor": 5
}

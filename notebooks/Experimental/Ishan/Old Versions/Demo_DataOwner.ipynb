{
 "cells": [
  {
   "cell_type": "markdown",
   "id": "3f8ccb36",
   "metadata": {},
   "source": [
    "<h1>Data Owner </h1>"
   ]
  },
  {
   "cell_type": "code",
   "execution_count": 2,
   "id": "92caf83c",
   "metadata": {},
   "outputs": [],
   "source": [
    "# Import libraries\n",
    "import syft as sy\n",
    "import torch\n",
    "import numpy as np\n",
    "from syft.core.adp.entity import Entity"
   ]
  },
  {
   "cell_type": "code",
   "execution_count": 3,
   "id": "f388e037",
   "metadata": {},
   "outputs": [
    {
     "name": "stdout",
     "output_type": "stream",
     "text": [
      "Connecting to http://localhost:8081... done! \t Logging into canada... done!\n"
     ]
    }
   ],
   "source": [
    "# Login to new Domain \n",
    "uk = sy.login(email=\"info@openmined.org\", password=\"changethis\", port=8081)"
   ]
  },
  {
   "cell_type": "code",
   "execution_count": 7,
   "id": "6afb4fff",
   "metadata": {},
   "outputs": [
    {
     "data": {
      "text/html": [
       "<div>\n",
       "<style scoped>\n",
       "    .dataframe tbody tr th:only-of-type {\n",
       "        vertical-align: middle;\n",
       "    }\n",
       "\n",
       "    .dataframe tbody tr th {\n",
       "        vertical-align: top;\n",
       "    }\n",
       "\n",
       "    .dataframe thead th {\n",
       "        text-align: right;\n",
       "    }\n",
       "</style>\n",
       "<table border=\"1\" class=\"dataframe\">\n",
       "  <thead>\n",
       "    <tr style=\"text-align: right;\">\n",
       "      <th></th>\n",
       "      <th>ID</th>\n",
       "      <th>Tags</th>\n",
       "      <th>Description</th>\n",
       "      <th>object_type</th>\n",
       "    </tr>\n",
       "  </thead>\n",
       "  <tbody>\n",
       "    <tr>\n",
       "      <th>0</th>\n",
       "      <td>&lt;UID: ebdbf84829864d188437220b4c4bbc79&gt;</td>\n",
       "      <td>[]</td>\n",
       "      <td></td>\n",
       "      <td>&lt;class 'syft.lib.python.Int'&gt;</td>\n",
       "    </tr>\n",
       "    <tr>\n",
       "      <th>1</th>\n",
       "      <td>&lt;UID: e730ffa9297642b6b26a8b66912479e6&gt;</td>\n",
       "      <td>[]</td>\n",
       "      <td></td>\n",
       "      <td>&lt;class 'syft.lib.python.Float'&gt;</td>\n",
       "    </tr>\n",
       "    <tr>\n",
       "      <th>2</th>\n",
       "      <td>&lt;UID: 49f0a588402b427792d39509da76ea69&gt;</td>\n",
       "      <td>[]</td>\n",
       "      <td></td>\n",
       "      <td>&lt;class 'syft.lib.python.Float'&gt;</td>\n",
       "    </tr>\n",
       "    <tr>\n",
       "      <th>3</th>\n",
       "      <td>&lt;UID: 8cc853e238fb4ae495c3c65bcede6052&gt;</td>\n",
       "      <td>[]</td>\n",
       "      <td></td>\n",
       "      <td>&lt;class 'syft.core.adp.adversarial_accountant.A...</td>\n",
       "    </tr>\n",
       "    <tr>\n",
       "      <th>4</th>\n",
       "      <td>&lt;UID: 59c54aafc40544b8bcf890dbf49c54e2&gt;</td>\n",
       "      <td>[data]</td>\n",
       "      <td></td>\n",
       "      <td>&lt;class 'syft.core.tensor.tensor.Tensor'&gt;</td>\n",
       "    </tr>\n",
       "    <tr>\n",
       "      <th>5</th>\n",
       "      <td>&lt;UID: 3ede51046e004eeebf3edd660e6013b6&gt;</td>\n",
       "      <td>[target]</td>\n",
       "      <td></td>\n",
       "      <td>&lt;class 'syft.core.tensor.tensor.Tensor'&gt;</td>\n",
       "    </tr>\n",
       "    <tr>\n",
       "      <th>6</th>\n",
       "      <td>&lt;UID: b401f3b55c77429eace45f4bae454e00&gt;</td>\n",
       "      <td>[data2]</td>\n",
       "      <td></td>\n",
       "      <td>&lt;class 'syft.core.tensor.tensor.Tensor'&gt;</td>\n",
       "    </tr>\n",
       "    <tr>\n",
       "      <th>7</th>\n",
       "      <td>&lt;UID: abbf8720a7b749a0a543ea7f42d2a772&gt;</td>\n",
       "      <td>[target2]</td>\n",
       "      <td></td>\n",
       "      <td>&lt;class 'syft.core.tensor.tensor.Tensor'&gt;</td>\n",
       "    </tr>\n",
       "    <tr>\n",
       "      <th>8</th>\n",
       "      <td>&lt;UID: fb61e525af384be8aecc218c6ca64ca7&gt;</td>\n",
       "      <td>[data3]</td>\n",
       "      <td></td>\n",
       "      <td>&lt;class 'syft.core.tensor.tensor.Tensor'&gt;</td>\n",
       "    </tr>\n",
       "  </tbody>\n",
       "</table>\n",
       "</div>"
      ],
      "text/plain": [
       "[<syft.proxy.syft.lib.python.IntPointer object at 0x7fe02264b590>, <syft.proxy.syft.lib.python.FloatPointer object at 0x7fe02264b150>, <syft.proxy.syft.lib.python.FloatPointer object at 0x7fe02264bf50>, <syft.proxy.syft.core.adp.AccountantReferencePointer object at 0x7fe02264b610>, <syft.proxy.syft.core.tensor.tensor.TensorPointer object at 0x7fe02264bbd0>, <syft.proxy.syft.core.tensor.tensor.TensorPointer object at 0x7fe02263dd50>, <syft.proxy.syft.core.tensor.tensor.TensorPointer object at 0x7fe022653110>, <syft.proxy.syft.core.tensor.tensor.TensorPointer object at 0x7fe022653550>, <syft.proxy.syft.core.tensor.tensor.TensorPointer object at 0x7fe022653790>]"
      ]
     },
     "execution_count": 7,
     "metadata": {},
     "output_type": "execute_result"
    }
   ],
   "source": [
    "# Look at data already in the Domain\n",
    "uk.store"
   ]
  },
  {
   "cell_type": "code",
   "execution_count": 8,
   "id": "f7af512d",
   "metadata": {
    "tags": []
   },
   "outputs": [],
   "source": [
    "# Load some sample data\n",
    "data_batch = np.array([13]*10)\n",
    "\n",
    "entities = list()\n",
    "for i in range(10):\n",
    "    entities.append(Entity(name=str(i)))\n",
    "\n",
    "# Upload a private dataset to the Domain object, as the root owner\n",
    "data = sy.Tensor(data_batch).private(0, 20, entities=entities).tag(\"data4\")\n",
    "# target = sy.Tensor(label_batch).private(0.01, 1, entity=ishan).autograd(requires_grad=True).tag(\"target2\")"
   ]
  },
  {
   "cell_type": "code",
   "execution_count": 9,
   "id": "5aaea988",
   "metadata": {},
   "outputs": [],
   "source": [
    "# Send data to the domain object\n",
    "data_ptr = data.send(uk)"
   ]
  },
  {
   "cell_type": "code",
   "execution_count": 24,
   "id": "c5c5f694",
   "metadata": {},
   "outputs": [],
   "source": [
    "target_ptr = target.send(uk)"
   ]
  },
  {
   "cell_type": "code",
   "execution_count": null,
   "id": "fddf8b7c",
   "metadata": {},
   "outputs": [],
   "source": []
  },
  {
   "cell_type": "code",
   "execution_count": 10,
   "id": "54d7ec65",
   "metadata": {},
   "outputs": [
    {
     "name": "stdout",
     "output_type": "stream",
     "text": [
      "[<UID: c523812410624213ab653b40b444c075>, <UID: aa0034ee7a044f4b8e339cdc44332803>]\n"
     ]
    }
   ],
   "source": [
    "# Step 3: Verify data was logged correctly\n",
    "print([i.id_at_location for i in (data_ptr, target_ptr)])"
   ]
  },
  {
   "cell_type": "code",
   "execution_count": 11,
   "id": "9f87a961",
   "metadata": {},
   "outputs": [
    {
     "data": {
      "text/html": [
       "<div>\n",
       "<style scoped>\n",
       "    .dataframe tbody tr th:only-of-type {\n",
       "        vertical-align: middle;\n",
       "    }\n",
       "\n",
       "    .dataframe tbody tr th {\n",
       "        vertical-align: top;\n",
       "    }\n",
       "\n",
       "    .dataframe thead th {\n",
       "        text-align: right;\n",
       "    }\n",
       "</style>\n",
       "<table border=\"1\" class=\"dataframe\">\n",
       "  <thead>\n",
       "    <tr style=\"text-align: right;\">\n",
       "      <th></th>\n",
       "      <th>ID</th>\n",
       "      <th>Tags</th>\n",
       "      <th>Description</th>\n",
       "      <th>object_type</th>\n",
       "    </tr>\n",
       "  </thead>\n",
       "  <tbody>\n",
       "    <tr>\n",
       "      <th>0</th>\n",
       "      <td>&lt;UID: ebdbf84829864d188437220b4c4bbc79&gt;</td>\n",
       "      <td>[]</td>\n",
       "      <td></td>\n",
       "      <td>&lt;class 'syft.lib.python.Int'&gt;</td>\n",
       "    </tr>\n",
       "    <tr>\n",
       "      <th>1</th>\n",
       "      <td>&lt;UID: e730ffa9297642b6b26a8b66912479e6&gt;</td>\n",
       "      <td>[]</td>\n",
       "      <td></td>\n",
       "      <td>&lt;class 'syft.lib.python.Float'&gt;</td>\n",
       "    </tr>\n",
       "    <tr>\n",
       "      <th>2</th>\n",
       "      <td>&lt;UID: 49f0a588402b427792d39509da76ea69&gt;</td>\n",
       "      <td>[]</td>\n",
       "      <td></td>\n",
       "      <td>&lt;class 'syft.lib.python.Float'&gt;</td>\n",
       "    </tr>\n",
       "    <tr>\n",
       "      <th>3</th>\n",
       "      <td>&lt;UID: 8cc853e238fb4ae495c3c65bcede6052&gt;</td>\n",
       "      <td>[]</td>\n",
       "      <td></td>\n",
       "      <td>&lt;class 'syft.core.adp.adversarial_accountant.A...</td>\n",
       "    </tr>\n",
       "    <tr>\n",
       "      <th>4</th>\n",
       "      <td>&lt;UID: c523812410624213ab653b40b444c075&gt;</td>\n",
       "      <td>[data]</td>\n",
       "      <td></td>\n",
       "      <td>&lt;class 'syft.core.tensor.tensor.Tensor'&gt;</td>\n",
       "    </tr>\n",
       "    <tr>\n",
       "      <th>5</th>\n",
       "      <td>&lt;UID: aa0034ee7a044f4b8e339cdc44332803&gt;</td>\n",
       "      <td>[target]</td>\n",
       "      <td></td>\n",
       "      <td>&lt;class 'syft.core.tensor.tensor.Tensor'&gt;</td>\n",
       "    </tr>\n",
       "  </tbody>\n",
       "</table>\n",
       "</div>"
      ],
      "text/plain": [
       "[<syft.proxy.syft.lib.python.IntPointer object at 0x7f89097ad890>, <syft.proxy.syft.lib.python.FloatPointer object at 0x7f89097adfd0>, <syft.proxy.syft.lib.python.FloatPointer object at 0x7f89097ada50>, <syft.proxy.syft.core.adp.AccountantReferencePointer object at 0x7f89097ad810>, <syft.proxy.syft.core.tensor.tensor.TensorPointer object at 0x7f89097ad4d0>, <syft.proxy.syft.core.tensor.tensor.TensorPointer object at 0x7f89097a7510>]"
      ]
     },
     "execution_count": 11,
     "metadata": {},
     "output_type": "execute_result"
    }
   ],
   "source": [
    "uk.store"
   ]
  },
  {
   "cell_type": "code",
   "execution_count": null,
   "id": "de8a7cd0",
   "metadata": {},
   "outputs": [],
   "source": []
  },
  {
   "cell_type": "code",
   "execution_count": null,
   "id": "9ff408e1",
   "metadata": {},
   "outputs": [],
   "source": []
  }
 ],
 "metadata": {
  "kernelspec": {
   "display_name": "Python 3 (ipykernel)",
   "language": "python",
   "name": "python3"
  },
  "language_info": {
   "codemirror_mode": {
    "name": "ipython",
    "version": 3
   },
   "file_extension": ".py",
   "mimetype": "text/x-python",
   "name": "python",
   "nbconvert_exporter": "python",
   "pygments_lexer": "ipython3",
   "version": "3.9.1"
  }
 },
 "nbformat": 4,
 "nbformat_minor": 5
}

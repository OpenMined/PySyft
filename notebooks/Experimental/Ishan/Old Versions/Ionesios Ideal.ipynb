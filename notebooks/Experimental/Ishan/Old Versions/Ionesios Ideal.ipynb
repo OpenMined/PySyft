{
 "cells": [
  {
   "cell_type": "code",
   "execution_count": 5,
   "id": "2e73b577-5eee-4a9c-b28f-46aa2b06ee81",
   "metadata": {},
   "outputs": [],
   "source": [
    "import syft as sy\n",
    "import torch\n",
    "\n",
    "import numpy as np\n",
    "from syft.core.adp.entity import Entity\n",
    "\n",
    "assert(\"Tensor\" in dir(sy)), \"Tensor isn't there\""
   ]
  },
  {
   "cell_type": "code",
   "execution_count": 11,
   "id": "50b917c4-6f0a-4673-b742-046a03ee7547",
   "metadata": {},
   "outputs": [
    {
     "name": "stdout",
     "output_type": "stream",
     "text": [
      "Connecting to http://localhost:8081... done! \t Logging into ishan_world... done!\n"
     ]
    }
   ],
   "source": [
    "# Login to new Domain \n",
    "uk = sy.login(email=\"info@openmined.org\", password=\"changethis\", port=8081)"
   ]
  },
  {
   "cell_type": "code",
   "execution_count": 2,
   "id": "87f773a4-8372-484c-a5e9-dd9240b8bc6a",
   "metadata": {
    "tags": []
   },
   "outputs": [],
   "source": [
    "# Load some sample data\n",
    "data_batch = np.random.rand(1, 3)\n",
    "label_batch = np.random.rand(1, 3)\n",
    "\n",
    "ishan = Entity(name=\"Ishan\")\n",
    "\n",
    "# Step 1: upload a private dataset as the root owner\n",
    "data = sy.Tensor(data_batch).private(0, 120, entity=ishan).autograd(requires_grad=True).tag(\"data\")\n",
    "\n",
    "assert(type(data) == type(target)), \"Data wasn't initialized correctly\""
   ]
  },
  {
   "cell_type": "code",
   "execution_count": 21,
   "id": "cf0ca05b-128d-4682-993b-db8ad7bfaa1b",
   "metadata": {
    "tags": []
   },
   "outputs": [],
   "source": [
    "# Step 2: Send data\n",
    "\n",
    "# my_dataset = Dataset(private_assets={\"data\":data}, \n",
    "#                      name=\"My Data\", \n",
    "#                      description=\"some data i have\", \n",
    "#                      some_random_metadta=\"lblasiahgowehaew\")\n",
    "\n",
    "# ptr = data.load_dataset(my_dataset)"
   ]
  },
  {
   "cell_type": "markdown",
   "id": "80ad8e3a-6091-44fb-9feb-a467c218e295",
   "metadata": {},
   "source": [
    "# Login as Data Scientist"
   ]
  },
  {
   "cell_type": "code",
   "execution_count": null,
   "id": "3caf402c-5c8a-4d45-a8e1-d3066df407dd",
   "metadata": {},
   "outputs": [],
   "source": [
    "uk_user = sy.login(email=\"sheldon@cooper.com\", password=\"bazinga\", port=8081)"
   ]
  },
  {
   "cell_type": "code",
   "execution_count": 23,
   "id": "7dea285d-0a9d-4084-82e3-0c070b563fa8",
   "metadata": {},
   "outputs": [],
   "source": [
    "# # returns a pandas table of datasets\n",
    "# uk_user.datasets"
   ]
  },
  {
   "cell_type": "code",
   "execution_count": null,
   "id": "eecad1cb-2ff0-42e1-89af-17b6da0fce46",
   "metadata": {},
   "outputs": [],
   "source": [
    "# data = uk_user.datasets[0]['data']"
   ]
  },
  {
   "cell_type": "code",
   "execution_count": null,
   "id": "26f811ea-91a0-47e7-8aff-f3a6d4764157",
   "metadata": {},
   "outputs": [],
   "source": [
    "y = data + data"
   ]
  },
  {
   "cell_type": "code",
   "execution_count": 3,
   "id": "939682dc-b644-4da4-925b-0dd44e7c45f5",
   "metadata": {},
   "outputs": [],
   "source": [
    "# this uses the PublishService\n",
    "public_y = y.publish(sigma=0.1)"
   ]
  },
  {
   "cell_type": "code",
   "execution_count": null,
   "id": "c9172731-5d87-4158-88c4-621eacd08bc5",
   "metadata": {},
   "outputs": [],
   "source": [
    "public_y.get()"
   ]
  },
  {
   "cell_type": "code",
   "execution_count": null,
   "id": "173cae59-3db8-49d5-8c07-b864417d05c2",
   "metadata": {},
   "outputs": [],
   "source": []
  },
  {
   "cell_type": "code",
   "execution_count": null,
   "id": "3d75feac-efc4-427b-a525-40c7ab9dc88a",
   "metadata": {},
   "outputs": [],
   "source": []
  },
  {
   "cell_type": "code",
   "execution_count": null,
   "id": "fe2d9b35-074a-481c-94a8-ef152c91fef7",
   "metadata": {},
   "outputs": [],
   "source": []
  },
  {
   "cell_type": "code",
   "execution_count": null,
   "id": "8e5eefdd-656f-43df-8693-40e843dcbbe1",
   "metadata": {},
   "outputs": [],
   "source": [
    "# Step 3: Verify data was logged correctly\n"
   ]
  }
 ],
 "metadata": {
  "kernelspec": {
   "display_name": "Python 3 (ipykernel)",
   "language": "python",
   "name": "python3"
  },
  "language_info": {
   "codemirror_mode": {
    "name": "ipython",
    "version": 3
   },
   "file_extension": ".py",
   "mimetype": "text/x-python",
   "name": "python",
   "nbconvert_exporter": "python",
   "pygments_lexer": "ipython3",
   "version": "3.9.1"
  }
 },
 "nbformat": 4,
 "nbformat_minor": 5
}

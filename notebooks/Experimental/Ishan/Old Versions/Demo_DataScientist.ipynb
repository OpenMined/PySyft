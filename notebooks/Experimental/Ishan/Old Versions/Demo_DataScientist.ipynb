{
 "cells": [
  {
   "cell_type": "markdown",
   "id": "acd2d5a7",
   "metadata": {},
   "source": [
    "<h1>Data Owner </h1>"
   ]
  },
  {
   "cell_type": "code",
   "execution_count": 1,
   "id": "58628e08",
   "metadata": {},
   "outputs": [],
   "source": [
    "# Import libraries\n",
    "import syft as sy\n",
    "import torch\n",
    "import numpy as np\n",
    "from syft.core.adp.entity import Entity"
   ]
  },
  {
   "cell_type": "code",
   "execution_count": 2,
   "id": "3971b9fa",
   "metadata": {},
   "outputs": [
    {
     "name": "stdout",
     "output_type": "stream",
     "text": [
      "Connecting to http://localhost:8081... done! \t Logging into canada... done!\n"
     ]
    }
   ],
   "source": [
    "# Login to new Domain \n",
    "uk = sy.login(email=\"info@openmined.org\", password=\"changethis\", port=8081)"
   ]
  },
  {
   "cell_type": "code",
   "execution_count": 22,
   "id": "35165685",
   "metadata": {},
   "outputs": [
    {
     "data": {
      "text/html": [
       "<div>\n",
       "<style scoped>\n",
       "    .dataframe tbody tr th:only-of-type {\n",
       "        vertical-align: middle;\n",
       "    }\n",
       "\n",
       "    .dataframe tbody tr th {\n",
       "        vertical-align: top;\n",
       "    }\n",
       "\n",
       "    .dataframe thead th {\n",
       "        text-align: right;\n",
       "    }\n",
       "</style>\n",
       "<table border=\"1\" class=\"dataframe\">\n",
       "  <thead>\n",
       "    <tr style=\"text-align: right;\">\n",
       "      <th></th>\n",
       "      <th>ID</th>\n",
       "      <th>Tags</th>\n",
       "      <th>Description</th>\n",
       "      <th>object_type</th>\n",
       "    </tr>\n",
       "  </thead>\n",
       "  <tbody>\n",
       "    <tr>\n",
       "      <th>0</th>\n",
       "      <td>&lt;UID: ebdbf84829864d188437220b4c4bbc79&gt;</td>\n",
       "      <td>[]</td>\n",
       "      <td></td>\n",
       "      <td>&lt;class 'syft.lib.python.Int'&gt;</td>\n",
       "    </tr>\n",
       "    <tr>\n",
       "      <th>1</th>\n",
       "      <td>&lt;UID: e730ffa9297642b6b26a8b66912479e6&gt;</td>\n",
       "      <td>[]</td>\n",
       "      <td></td>\n",
       "      <td>&lt;class 'syft.lib.python.Float'&gt;</td>\n",
       "    </tr>\n",
       "    <tr>\n",
       "      <th>2</th>\n",
       "      <td>&lt;UID: 49f0a588402b427792d39509da76ea69&gt;</td>\n",
       "      <td>[]</td>\n",
       "      <td></td>\n",
       "      <td>&lt;class 'syft.lib.python.Float'&gt;</td>\n",
       "    </tr>\n",
       "    <tr>\n",
       "      <th>3</th>\n",
       "      <td>&lt;UID: 8cc853e238fb4ae495c3c65bcede6052&gt;</td>\n",
       "      <td>[]</td>\n",
       "      <td></td>\n",
       "      <td>&lt;class 'syft.core.adp.adversarial_accountant.A...</td>\n",
       "    </tr>\n",
       "    <tr>\n",
       "      <th>4</th>\n",
       "      <td>&lt;UID: 59c54aafc40544b8bcf890dbf49c54e2&gt;</td>\n",
       "      <td>[data]</td>\n",
       "      <td></td>\n",
       "      <td>&lt;class 'syft.core.tensor.tensor.Tensor'&gt;</td>\n",
       "    </tr>\n",
       "    <tr>\n",
       "      <th>5</th>\n",
       "      <td>&lt;UID: 3ede51046e004eeebf3edd660e6013b6&gt;</td>\n",
       "      <td>[target]</td>\n",
       "      <td></td>\n",
       "      <td>&lt;class 'syft.core.tensor.tensor.Tensor'&gt;</td>\n",
       "    </tr>\n",
       "    <tr>\n",
       "      <th>6</th>\n",
       "      <td>&lt;UID: b401f3b55c77429eace45f4bae454e00&gt;</td>\n",
       "      <td>[data2]</td>\n",
       "      <td></td>\n",
       "      <td>&lt;class 'syft.core.tensor.tensor.Tensor'&gt;</td>\n",
       "    </tr>\n",
       "    <tr>\n",
       "      <th>7</th>\n",
       "      <td>&lt;UID: abbf8720a7b749a0a543ea7f42d2a772&gt;</td>\n",
       "      <td>[target2]</td>\n",
       "      <td></td>\n",
       "      <td>&lt;class 'syft.core.tensor.tensor.Tensor'&gt;</td>\n",
       "    </tr>\n",
       "    <tr>\n",
       "      <th>8</th>\n",
       "      <td>&lt;UID: fb61e525af384be8aecc218c6ca64ca7&gt;</td>\n",
       "      <td>[data3]</td>\n",
       "      <td></td>\n",
       "      <td>&lt;class 'syft.core.tensor.tensor.Tensor'&gt;</td>\n",
       "    </tr>\n",
       "  </tbody>\n",
       "</table>\n",
       "</div>"
      ],
      "text/plain": [
       "[<syft.proxy.syft.lib.python.IntPointer object at 0x7fea01933190>, <syft.proxy.syft.lib.python.FloatPointer object at 0x7fea59966190>, <syft.proxy.syft.lib.python.FloatPointer object at 0x7fea59966350>, <syft.proxy.syft.core.adp.AccountantReferencePointer object at 0x7fea3839b110>, <syft.proxy.syft.core.tensor.tensor.TensorPointer object at 0x7fea397a2610>, <syft.proxy.syft.core.tensor.tensor.TensorPointer object at 0x7fea397a2c10>, <syft.proxy.syft.core.tensor.tensor.TensorPointer object at 0x7fea397a91d0>, <syft.proxy.syft.core.tensor.tensor.TensorPointer object at 0x7fea397a9450>, <syft.proxy.syft.core.tensor.tensor.TensorPointer object at 0x7fea397a9690>]"
      ]
     },
     "execution_count": 22,
     "metadata": {},
     "output_type": "execute_result"
    }
   ],
   "source": [
    "# Look at data already in the Domain\n",
    "uk.store"
   ]
  },
  {
   "cell_type": "code",
   "execution_count": 26,
   "id": "432222bc",
   "metadata": {},
   "outputs": [],
   "source": [
    "data_ptr = uk.store['data4']\n",
    "# target_ptr = uk.store['target']"
   ]
  },
  {
   "cell_type": "code",
   "execution_count": 30,
   "id": "d4f1f7bb",
   "metadata": {},
   "outputs": [],
   "source": [
    "s_ptr = data_ptr.sum(0) / 10"
   ]
  },
  {
   "cell_type": "code",
   "execution_count": 36,
   "id": "cd92d307",
   "metadata": {},
   "outputs": [
    {
     "name": "stdout",
     "output_type": "stream",
     "text": [
      "a\n",
      "b\n",
      "c\n",
      "d\n"
     ]
    }
   ],
   "source": [
    "out = s_ptr.publish(client=uk,sigma=100)"
   ]
  },
  {
   "cell_type": "code",
   "execution_count": 35,
   "id": "f39b14c7",
   "metadata": {},
   "outputs": [
    {
     "data": {
      "text/plain": [
       "Tensor(child=[146.26661575])"
      ]
     },
     "execution_count": 35,
     "metadata": {},
     "output_type": "execute_result"
    }
   ],
   "source": [
    "out.get()"
   ]
  },
  {
   "cell_type": "code",
   "execution_count": null,
   "id": "e2356a38",
   "metadata": {},
   "outputs": [],
   "source": []
  },
  {
   "cell_type": "code",
   "execution_count": null,
   "id": "598f1335",
   "metadata": {},
   "outputs": [],
   "source": []
  },
  {
   "cell_type": "code",
   "execution_count": null,
   "id": "b584c9de",
   "metadata": {},
   "outputs": [],
   "source": []
  },
  {
   "cell_type": "code",
   "execution_count": null,
   "id": "69b83321",
   "metadata": {},
   "outputs": [],
   "source": []
  },
  {
   "cell_type": "code",
   "execution_count": null,
   "id": "5908786f",
   "metadata": {},
   "outputs": [],
   "source": []
  },
  {
   "cell_type": "code",
   "execution_count": null,
   "id": "d66807b5",
   "metadata": {},
   "outputs": [],
   "source": []
  },
  {
   "cell_type": "code",
   "execution_count": 20,
   "id": "90188adb",
   "metadata": {},
   "outputs": [
    {
     "data": {
      "text/plain": [
       "Tensor(child=AutogradTensor(child=SingleEntityPhiTensor(entity=Ishan, child=[[0.42651963 0.70253687 0.93837708]])))"
      ]
     },
     "execution_count": 20,
     "metadata": {},
     "output_type": "execute_result"
    }
   ],
   "source": [
    "data_ptr.get()"
   ]
  },
  {
   "cell_type": "code",
   "execution_count": 7,
   "id": "d11ffe6c",
   "metadata": {},
   "outputs": [],
   "source": [
    "o = ac.send(uk)"
   ]
  },
  {
   "cell_type": "code",
   "execution_count": 9,
   "id": "b327fda5",
   "metadata": {},
   "outputs": [
    {
     "data": {
      "text/html": [
       "<div>\n",
       "<style scoped>\n",
       "    .dataframe tbody tr th:only-of-type {\n",
       "        vertical-align: middle;\n",
       "    }\n",
       "\n",
       "    .dataframe tbody tr th {\n",
       "        vertical-align: top;\n",
       "    }\n",
       "\n",
       "    .dataframe thead th {\n",
       "        text-align: right;\n",
       "    }\n",
       "</style>\n",
       "<table border=\"1\" class=\"dataframe\">\n",
       "  <thead>\n",
       "    <tr style=\"text-align: right;\">\n",
       "      <th></th>\n",
       "      <th>ID</th>\n",
       "      <th>Tags</th>\n",
       "      <th>Description</th>\n",
       "      <th>object_type</th>\n",
       "    </tr>\n",
       "  </thead>\n",
       "  <tbody>\n",
       "    <tr>\n",
       "      <th>0</th>\n",
       "      <td>&lt;UID: ebdbf84829864d188437220b4c4bbc79&gt;</td>\n",
       "      <td>[]</td>\n",
       "      <td></td>\n",
       "      <td>&lt;class 'syft.lib.python.Int'&gt;</td>\n",
       "    </tr>\n",
       "    <tr>\n",
       "      <th>1</th>\n",
       "      <td>&lt;UID: bbe22e3030f1428c948a8404d7058b08&gt;</td>\n",
       "      <td>[target]</td>\n",
       "      <td></td>\n",
       "      <td>&lt;class 'syft.core.tensor.tensor.Tensor'&gt;</td>\n",
       "    </tr>\n",
       "    <tr>\n",
       "      <th>2</th>\n",
       "      <td>&lt;UID: e730ffa9297642b6b26a8b66912479e6&gt;</td>\n",
       "      <td>[]</td>\n",
       "      <td></td>\n",
       "      <td>&lt;class 'syft.lib.python.Float'&gt;</td>\n",
       "    </tr>\n",
       "    <tr>\n",
       "      <th>3</th>\n",
       "      <td>&lt;UID: 49f0a588402b427792d39509da76ea69&gt;</td>\n",
       "      <td>[]</td>\n",
       "      <td></td>\n",
       "      <td>&lt;class 'syft.lib.python.Float'&gt;</td>\n",
       "    </tr>\n",
       "    <tr>\n",
       "      <th>4</th>\n",
       "      <td>&lt;UID: 8cc853e238fb4ae495c3c65bcede6052&gt;</td>\n",
       "      <td>[]</td>\n",
       "      <td></td>\n",
       "      <td>&lt;class 'syft.core.adp.adversarial_accountant.A...</td>\n",
       "    </tr>\n",
       "  </tbody>\n",
       "</table>\n",
       "</div>"
      ],
      "text/plain": [
       "[<syft.proxy.syft.lib.python.IntPointer object at 0x7f9432c82150>, <syft.proxy.syft.core.tensor.tensor.TensorPointer object at 0x7f9432c82bd0>, <syft.proxy.syft.lib.python.FloatPointer object at 0x7f9432c821d0>, <syft.proxy.syft.lib.python.FloatPointer object at 0x7f9432c82090>, <syft.proxy.syft.core.adp.AccountantReferencePointer object at 0x7f9432c82790>]"
      ]
     },
     "execution_count": 9,
     "metadata": {},
     "output_type": "execute_result"
    }
   ],
   "source": [
    "uk.store"
   ]
  },
  {
   "cell_type": "code",
   "execution_count": null,
   "id": "201ee672",
   "metadata": {},
   "outputs": [],
   "source": []
  },
  {
   "cell_type": "code",
   "execution_count": 4,
   "id": "0176f114",
   "metadata": {},
   "outputs": [],
   "source": [
    "import syft as sy"
   ]
  },
  {
   "cell_type": "code",
   "execution_count": null,
   "id": "93f811f5",
   "metadata": {},
   "outputs": [],
   "source": []
  },
  {
   "cell_type": "code",
   "execution_count": 9,
   "id": "1b6cfc43",
   "metadata": {},
   "outputs": [],
   "source": [
    "blob = sy.serialize(ac)"
   ]
  },
  {
   "cell_type": "code",
   "execution_count": 12,
   "id": "514aabf4",
   "metadata": {},
   "outputs": [
    {
     "data": {
      "text/plain": [
       "<syft.core.node.domain.client.AccountantReference at 0x7face3f74e10>"
      ]
     },
     "execution_count": 12,
     "metadata": {},
     "output_type": "execute_result"
    }
   ],
   "source": [
    "sy.deserialize(blob)"
   ]
  },
  {
   "cell_type": "code",
   "execution_count": null,
   "id": "03d30e37",
   "metadata": {},
   "outputs": [],
   "source": []
  },
  {
   "cell_type": "code",
   "execution_count": null,
   "id": "6c74ddab",
   "metadata": {},
   "outputs": [],
   "source": []
  },
  {
   "cell_type": "code",
   "execution_count": 28,
   "id": "79ba8047",
   "metadata": {},
   "outputs": [],
   "source": [
    "out = target_ptr.publish(sigma=uk)"
   ]
  },
  {
   "cell_type": "code",
   "execution_count": 20,
   "id": "b8ef0ad9",
   "metadata": {},
   "outputs": [
    {
     "data": {
      "text/plain": [
       "<syft.proxy.syft.core.tensor.tensor.TensorPointer at 0x7fb54bb89150>"
      ]
     },
     "execution_count": 20,
     "metadata": {},
     "output_type": "execute_result"
    }
   ],
   "source": [
    "out"
   ]
  },
  {
   "cell_type": "code",
   "execution_count": 23,
   "id": "f7ab02ee",
   "metadata": {},
   "outputs": [
    {
     "data": {
      "text/plain": [
       "id {\n",
       "  value: \"\\327\\366t\\347\\324\\271Dh\\224zn\\201\\300{\\\\k\"\n",
       "}\n",
       "name: \"canada\"\n",
       "routes {\n",
       "  id {\n",
       "    value: \"&VF\\347,#M\\020\\241c\\311w0y\\303\\327\"\n",
       "  }\n",
       "  destination {\n",
       "    id {\n",
       "      value: \"\\327\\366t\\347\\324\\271Dh\\224zn\\201\\300{\\\\k\"\n",
       "    }\n",
       "    name: \"canada\"\n",
       "  }\n",
       "  grid_connection {\n",
       "    base_url: \"http://localhost:8081/api/v1\"\n",
       "  }\n",
       "}\n",
       "domain {\n",
       "  id {\n",
       "    value: \"\\327\\366t\\347\\324\\271Dh\\224zn\\201\\300{\\\\k\"\n",
       "  }\n",
       "  name: \"canada\"\n",
       "}\n",
       "obj_type: \"syft.core.node.domain.client.DomainClient\""
      ]
     },
     "execution_count": 23,
     "metadata": {},
     "output_type": "execute_result"
    }
   ],
   "source": [
    "sy.serialize(uk)"
   ]
  },
  {
   "cell_type": "code",
   "execution_count": null,
   "id": "b8e5bcf0",
   "metadata": {},
   "outputs": [],
   "source": []
  },
  {
   "cell_type": "code",
   "execution_count": null,
   "id": "0e5f19d8",
   "metadata": {},
   "outputs": [],
   "source": []
  },
  {
   "cell_type": "code",
   "execution_count": null,
   "id": "88523975",
   "metadata": {},
   "outputs": [],
   "source": []
  },
  {
   "cell_type": "code",
   "execution_count": null,
   "id": "3dec7b06",
   "metadata": {},
   "outputs": [],
   "source": []
  },
  {
   "cell_type": "code",
   "execution_count": null,
   "id": "0218439f",
   "metadata": {},
   "outputs": [],
   "source": []
  },
  {
   "cell_type": "code",
   "execution_count": null,
   "id": "f7b392f1",
   "metadata": {},
   "outputs": [],
   "source": []
  },
  {
   "cell_type": "code",
   "execution_count": null,
   "id": "54a46673",
   "metadata": {},
   "outputs": [],
   "source": []
  },
  {
   "cell_type": "code",
   "execution_count": null,
   "id": "696b83b3",
   "metadata": {},
   "outputs": [],
   "source": []
  },
  {
   "cell_type": "code",
   "execution_count": null,
   "id": "2e244c01",
   "metadata": {},
   "outputs": [],
   "source": []
  },
  {
   "cell_type": "code",
   "execution_count": 10,
   "id": "e4450b2e",
   "metadata": {},
   "outputs": [],
   "source": [
    "data_ptr.request(\"I need this data to solve a case\")"
   ]
  },
  {
   "cell_type": "code",
   "execution_count": 5,
   "id": "a1737cae",
   "metadata": {},
   "outputs": [],
   "source": [
    "data = data_ptr.get()"
   ]
  },
  {
   "cell_type": "code",
   "execution_count": 12,
   "id": "7e41875d",
   "metadata": {},
   "outputs": [],
   "source": [
    "weights = sy.Tensor(np.random.rand(3, 3)).autograd(requires_grad=True).tag(\"my_weights\")\n",
    "weights_ptr = weights.send(uk)"
   ]
  },
  {
   "cell_type": "code",
   "execution_count": 13,
   "id": "054f817b",
   "metadata": {
    "tags": []
   },
   "outputs": [
    {
     "name": "stdout",
     "output_type": "stream",
     "text": [
      "Tensor(child=AutogradTensor(child=[[0.6995908  0.26205801 0.57578831]\n",
      " [0.74351354 0.28690885 0.42972518]\n",
      " [0.07744528 0.8724584  0.27098707]]))\n"
     ]
    }
   ],
   "source": [
    "print(weights)"
   ]
  },
  {
   "cell_type": "code",
   "execution_count": 20,
   "id": "6260351d",
   "metadata": {},
   "outputs": [],
   "source": [
    "autograd_tensor = sy.Tensor(np.random.randn(1, 3)).autograd(requires_grad=True).tag(\"autograd\")\n",
    "autograd_ptr = autograd_tensor.send(uk)"
   ]
  },
  {
   "cell_type": "code",
   "execution_count": 22,
   "id": "d93234d7",
   "metadata": {},
   "outputs": [
    {
     "ename": "AttributeError",
     "evalue": "'TensorPointer' object has no attribute 'backward'",
     "output_type": "error",
     "traceback": [
      "\u001b[0;31m---------------------------------------------------------------------------\u001b[0m",
      "\u001b[0;31mAttributeError\u001b[0m                            Traceback (most recent call last)",
      "\u001b[0;32m/var/folders/cs/tql716257t32sb3kr5r9rbkc0000gn/T/ipykernel_16124/2858649933.py\u001b[0m in \u001b[0;36m<module>\u001b[0;34m\u001b[0m\n\u001b[1;32m      6\u001b[0m \u001b[0;34m\u001b[0m\u001b[0m\n\u001b[1;32m      7\u001b[0m     \u001b[0mloss\u001b[0m \u001b[0;34m=\u001b[0m \u001b[0mnp\u001b[0m\u001b[0;34m.\u001b[0m\u001b[0mmean\u001b[0m\u001b[0;34m(\u001b[0m\u001b[0mpre_loss\u001b[0m\u001b[0;34m,\u001b[0m \u001b[0maxis\u001b[0m\u001b[0;34m=\u001b[0m\u001b[0;36m1\u001b[0m\u001b[0;34m)\u001b[0m\u001b[0;34m\u001b[0m\u001b[0;34m\u001b[0m\u001b[0m\n\u001b[0;32m----> 8\u001b[0;31m     \u001b[0mloss\u001b[0m\u001b[0;34m.\u001b[0m\u001b[0mbackward\u001b[0m\u001b[0;34m(\u001b[0m\u001b[0;34m)\u001b[0m\u001b[0;34m\u001b[0m\u001b[0;34m\u001b[0m\u001b[0m\n\u001b[0m\u001b[1;32m      9\u001b[0m \u001b[0;34m\u001b[0m\u001b[0m\n\u001b[1;32m     10\u001b[0m     \u001b[0mwdiff\u001b[0m \u001b[0;34m=\u001b[0m \u001b[0mweights_ptr\u001b[0m\u001b[0;34m.\u001b[0m\u001b[0mgrad\u001b[0m \u001b[0;34m*\u001b[0m \u001b[0;36m0.01\u001b[0m\u001b[0;34m\u001b[0m\u001b[0;34m\u001b[0m\u001b[0m\n",
      "\u001b[0;31mAttributeError\u001b[0m: 'TensorPointer' object has no attribute 'backward'"
     ]
    }
   ],
   "source": [
    "for i in range(1):\n",
    "    pred = data_ptr.dot(weights_ptr)\n",
    "    diff = target_ptr - pred\n",
    "\n",
    "    pre_loss = diff * diff\n",
    "\n",
    "    loss = np.mean(pre_loss, axis=1)\n",
    "    loss.backward()\n",
    "\n",
    "    wdiff = weights_ptr.grad * 0.01\n",
    "    weights_ptr = -wdiff + weights_ptr\n",
    "\n",
    "gamma_ptr = weights_ptr.gamma"
   ]
  },
  {
   "cell_type": "code",
   "execution_count": 19,
   "id": "daa1557e",
   "metadata": {},
   "outputs": [
    {
     "data": {
      "text/html": [
       "<div>\n",
       "<style scoped>\n",
       "    .dataframe tbody tr th:only-of-type {\n",
       "        vertical-align: middle;\n",
       "    }\n",
       "\n",
       "    .dataframe tbody tr th {\n",
       "        vertical-align: top;\n",
       "    }\n",
       "\n",
       "    .dataframe thead th {\n",
       "        text-align: right;\n",
       "    }\n",
       "</style>\n",
       "<table border=\"1\" class=\"dataframe\">\n",
       "  <thead>\n",
       "    <tr style=\"text-align: right;\">\n",
       "      <th></th>\n",
       "      <th>ID</th>\n",
       "      <th>Tags</th>\n",
       "      <th>Description</th>\n",
       "      <th>object_type</th>\n",
       "    </tr>\n",
       "  </thead>\n",
       "  <tbody>\n",
       "    <tr>\n",
       "      <th>0</th>\n",
       "      <td>&lt;UID: 747a85b4106a485fb09f6c6901a19cc0&gt;</td>\n",
       "      <td>[public_data]</td>\n",
       "      <td></td>\n",
       "      <td>&lt;class 'syft.core.tensor.tensor.Tensor'&gt;</td>\n",
       "    </tr>\n",
       "    <tr>\n",
       "      <th>1</th>\n",
       "      <td>&lt;UID: e86c4c64f64f4344850d6ae70a5dfefe&gt;</td>\n",
       "      <td>[data]</td>\n",
       "      <td></td>\n",
       "      <td>&lt;class 'syft.core.tensor.tensor.Tensor'&gt;</td>\n",
       "    </tr>\n",
       "    <tr>\n",
       "      <th>2</th>\n",
       "      <td>&lt;UID: 8dfb009ca0c649108e196657ab642fae&gt;</td>\n",
       "      <td>[target]</td>\n",
       "      <td></td>\n",
       "      <td>&lt;class 'syft.core.tensor.tensor.Tensor'&gt;</td>\n",
       "    </tr>\n",
       "    <tr>\n",
       "      <th>3</th>\n",
       "      <td>&lt;UID: 9e80b6b73bda40fcb58dee234529f320&gt;</td>\n",
       "      <td>[]</td>\n",
       "      <td></td>\n",
       "      <td>&lt;class 'syft.core.tensor.tensor.Tensor'&gt;</td>\n",
       "    </tr>\n",
       "    <tr>\n",
       "      <th>4</th>\n",
       "      <td>&lt;UID: 78d41cb834a64e1a975d89afc6e16ac6&gt;</td>\n",
       "      <td>[basic]</td>\n",
       "      <td></td>\n",
       "      <td>&lt;class 'syft.core.tensor.tensor.Tensor'&gt;</td>\n",
       "    </tr>\n",
       "    <tr>\n",
       "      <th>5</th>\n",
       "      <td>&lt;UID: f73759e3025d4682a8bbe7905b8d1e36&gt;</td>\n",
       "      <td>[basic]</td>\n",
       "      <td></td>\n",
       "      <td>&lt;class 'syft.core.tensor.tensor.Tensor'&gt;</td>\n",
       "    </tr>\n",
       "    <tr>\n",
       "      <th>6</th>\n",
       "      <td>&lt;UID: 16ac150b5c8f48b2a8c96cc43cae0b89&gt;</td>\n",
       "      <td>[basic]</td>\n",
       "      <td></td>\n",
       "      <td>&lt;class 'syft.core.tensor.tensor.Tensor'&gt;</td>\n",
       "    </tr>\n",
       "    <tr>\n",
       "      <th>7</th>\n",
       "      <td>&lt;UID: 451b4b996d29474ca14be496d381d66f&gt;</td>\n",
       "      <td>[basic]</td>\n",
       "      <td></td>\n",
       "      <td>&lt;class 'syft.core.tensor.tensor.Tensor'&gt;</td>\n",
       "    </tr>\n",
       "    <tr>\n",
       "      <th>8</th>\n",
       "      <td>&lt;UID: e173ac79fdcb4188869d4724819f68a0&gt;</td>\n",
       "      <td>[basic]</td>\n",
       "      <td></td>\n",
       "      <td>&lt;class 'syft.core.tensor.tensor.Tensor'&gt;</td>\n",
       "    </tr>\n",
       "    <tr>\n",
       "      <th>9</th>\n",
       "      <td>&lt;UID: 448b81fd80f9469e94e11a0c25a96617&gt;</td>\n",
       "      <td>[basic]</td>\n",
       "      <td></td>\n",
       "      <td>&lt;class 'syft.core.tensor.tensor.Tensor'&gt;</td>\n",
       "    </tr>\n",
       "    <tr>\n",
       "      <th>10</th>\n",
       "      <td>&lt;UID: 78925e87531c497cb5333b011e58f69b&gt;</td>\n",
       "      <td>[basic]</td>\n",
       "      <td></td>\n",
       "      <td>&lt;class 'syft.core.tensor.tensor.Tensor'&gt;</td>\n",
       "    </tr>\n",
       "    <tr>\n",
       "      <th>11</th>\n",
       "      <td>&lt;UID: 3a9cd0ca39e44d5a94c5c61458cbf5b8&gt;</td>\n",
       "      <td>[private]</td>\n",
       "      <td></td>\n",
       "      <td>&lt;class 'syft.core.tensor.tensor.Tensor'&gt;</td>\n",
       "    </tr>\n",
       "    <tr>\n",
       "      <th>12</th>\n",
       "      <td>&lt;UID: 488ab7fe951041eca39497a3ff2a03f5&gt;</td>\n",
       "      <td>[private]</td>\n",
       "      <td></td>\n",
       "      <td>&lt;class 'syft.core.tensor.tensor.Tensor'&gt;</td>\n",
       "    </tr>\n",
       "    <tr>\n",
       "      <th>13</th>\n",
       "      <td>&lt;UID: 580a0fbfb0b9419fbf7d4609d26e8940&gt;</td>\n",
       "      <td>[data]</td>\n",
       "      <td></td>\n",
       "      <td>&lt;class 'syft.core.tensor.tensor.Tensor'&gt;</td>\n",
       "    </tr>\n",
       "    <tr>\n",
       "      <th>14</th>\n",
       "      <td>&lt;UID: cb7cd91872a04934b10298d378f0a895&gt;</td>\n",
       "      <td>[target]</td>\n",
       "      <td></td>\n",
       "      <td>&lt;class 'syft.core.tensor.tensor.Tensor'&gt;</td>\n",
       "    </tr>\n",
       "    <tr>\n",
       "      <th>15</th>\n",
       "      <td>&lt;UID: 16c87dcaec0048339c7b9541698c13db&gt;</td>\n",
       "      <td>[public_data]</td>\n",
       "      <td></td>\n",
       "      <td>&lt;class 'syft.core.tensor.tensor.Tensor'&gt;</td>\n",
       "    </tr>\n",
       "    <tr>\n",
       "      <th>16</th>\n",
       "      <td>&lt;UID: 6139f4771db44616bc14c32d292dd7bf&gt;</td>\n",
       "      <td>[target]</td>\n",
       "      <td></td>\n",
       "      <td>&lt;class 'syft.core.tensor.tensor.Tensor'&gt;</td>\n",
       "    </tr>\n",
       "    <tr>\n",
       "      <th>17</th>\n",
       "      <td>&lt;UID: dede427c419e4201b4930f87f34e7a8b&gt;</td>\n",
       "      <td>[data]</td>\n",
       "      <td></td>\n",
       "      <td>&lt;class 'syft.core.tensor.tensor.Tensor'&gt;</td>\n",
       "    </tr>\n",
       "    <tr>\n",
       "      <th>18</th>\n",
       "      <td>&lt;UID: b3736703b83e4dcc9ea19f99150d2f0c&gt;</td>\n",
       "      <td>[target]</td>\n",
       "      <td></td>\n",
       "      <td>&lt;class 'syft.core.tensor.tensor.Tensor'&gt;</td>\n",
       "    </tr>\n",
       "    <tr>\n",
       "      <th>19</th>\n",
       "      <td>&lt;UID: ce07d66fa5704d8d82e4f659c56c2a4d&gt;</td>\n",
       "      <td>[my_weights]</td>\n",
       "      <td></td>\n",
       "      <td>&lt;class 'syft.core.tensor.tensor.Tensor'&gt;</td>\n",
       "    </tr>\n",
       "    <tr>\n",
       "      <th>20</th>\n",
       "      <td>&lt;UID: fcd80266c86d4896a5e0f57d8e7247ee&gt;</td>\n",
       "      <td>[]</td>\n",
       "      <td></td>\n",
       "      <td>&lt;class 'syft.lib.python.Int'&gt;</td>\n",
       "    </tr>\n",
       "    <tr>\n",
       "      <th>21</th>\n",
       "      <td>&lt;UID: f9fef2eeca484b548dacbd90d2d4c2d5&gt;</td>\n",
       "      <td>[]</td>\n",
       "      <td></td>\n",
       "      <td>&lt;class 'syft.lib.python._SyNone'&gt;</td>\n",
       "    </tr>\n",
       "    <tr>\n",
       "      <th>22</th>\n",
       "      <td>&lt;UID: 34de4872137d4c5b895ff2defa4543a1&gt;</td>\n",
       "      <td>[]</td>\n",
       "      <td></td>\n",
       "      <td>&lt;class 'syft.lib.python._SyNone'&gt;</td>\n",
       "    </tr>\n",
       "    <tr>\n",
       "      <th>23</th>\n",
       "      <td>&lt;UID: d4ef6535c2e541039e1d479e33e88c81&gt;</td>\n",
       "      <td>[]</td>\n",
       "      <td></td>\n",
       "      <td>&lt;class 'syft.lib.python.Int'&gt;</td>\n",
       "    </tr>\n",
       "    <tr>\n",
       "      <th>24</th>\n",
       "      <td>&lt;UID: 8c26ecb6914841ebbc8198c59d92235b&gt;</td>\n",
       "      <td>[]</td>\n",
       "      <td></td>\n",
       "      <td>&lt;class 'syft.lib.python._SyNone'&gt;</td>\n",
       "    </tr>\n",
       "    <tr>\n",
       "      <th>25</th>\n",
       "      <td>&lt;UID: 9d10b47ab055486fa9a99c8933a45bdb&gt;</td>\n",
       "      <td>[]</td>\n",
       "      <td></td>\n",
       "      <td>&lt;class 'syft.lib.python._SyNone'&gt;</td>\n",
       "    </tr>\n",
       "  </tbody>\n",
       "</table>\n",
       "</div>"
      ],
      "text/plain": [
       "                                         ID           Tags Description  \\\n",
       "0   <UID: 747a85b4106a485fb09f6c6901a19cc0>  [public_data]               \n",
       "1   <UID: e86c4c64f64f4344850d6ae70a5dfefe>         [data]               \n",
       "2   <UID: 8dfb009ca0c649108e196657ab642fae>       [target]               \n",
       "3   <UID: 9e80b6b73bda40fcb58dee234529f320>             []               \n",
       "4   <UID: 78d41cb834a64e1a975d89afc6e16ac6>        [basic]               \n",
       "5   <UID: f73759e3025d4682a8bbe7905b8d1e36>        [basic]               \n",
       "6   <UID: 16ac150b5c8f48b2a8c96cc43cae0b89>        [basic]               \n",
       "7   <UID: 451b4b996d29474ca14be496d381d66f>        [basic]               \n",
       "8   <UID: e173ac79fdcb4188869d4724819f68a0>        [basic]               \n",
       "9   <UID: 448b81fd80f9469e94e11a0c25a96617>        [basic]               \n",
       "10  <UID: 78925e87531c497cb5333b011e58f69b>        [basic]               \n",
       "11  <UID: 3a9cd0ca39e44d5a94c5c61458cbf5b8>      [private]               \n",
       "12  <UID: 488ab7fe951041eca39497a3ff2a03f5>      [private]               \n",
       "13  <UID: 580a0fbfb0b9419fbf7d4609d26e8940>         [data]               \n",
       "14  <UID: cb7cd91872a04934b10298d378f0a895>       [target]               \n",
       "15  <UID: 16c87dcaec0048339c7b9541698c13db>  [public_data]               \n",
       "16  <UID: 6139f4771db44616bc14c32d292dd7bf>       [target]               \n",
       "17  <UID: dede427c419e4201b4930f87f34e7a8b>         [data]               \n",
       "18  <UID: b3736703b83e4dcc9ea19f99150d2f0c>       [target]               \n",
       "19  <UID: ce07d66fa5704d8d82e4f659c56c2a4d>   [my_weights]               \n",
       "20  <UID: fcd80266c86d4896a5e0f57d8e7247ee>             []               \n",
       "21  <UID: f9fef2eeca484b548dacbd90d2d4c2d5>             []               \n",
       "22  <UID: 34de4872137d4c5b895ff2defa4543a1>             []               \n",
       "23  <UID: d4ef6535c2e541039e1d479e33e88c81>             []               \n",
       "24  <UID: 8c26ecb6914841ebbc8198c59d92235b>             []               \n",
       "25  <UID: 9d10b47ab055486fa9a99c8933a45bdb>             []               \n",
       "\n",
       "                                 object_type  \n",
       "0   <class 'syft.core.tensor.tensor.Tensor'>  \n",
       "1   <class 'syft.core.tensor.tensor.Tensor'>  \n",
       "2   <class 'syft.core.tensor.tensor.Tensor'>  \n",
       "3   <class 'syft.core.tensor.tensor.Tensor'>  \n",
       "4   <class 'syft.core.tensor.tensor.Tensor'>  \n",
       "5   <class 'syft.core.tensor.tensor.Tensor'>  \n",
       "6   <class 'syft.core.tensor.tensor.Tensor'>  \n",
       "7   <class 'syft.core.tensor.tensor.Tensor'>  \n",
       "8   <class 'syft.core.tensor.tensor.Tensor'>  \n",
       "9   <class 'syft.core.tensor.tensor.Tensor'>  \n",
       "10  <class 'syft.core.tensor.tensor.Tensor'>  \n",
       "11  <class 'syft.core.tensor.tensor.Tensor'>  \n",
       "12  <class 'syft.core.tensor.tensor.Tensor'>  \n",
       "13  <class 'syft.core.tensor.tensor.Tensor'>  \n",
       "14  <class 'syft.core.tensor.tensor.Tensor'>  \n",
       "15  <class 'syft.core.tensor.tensor.Tensor'>  \n",
       "16  <class 'syft.core.tensor.tensor.Tensor'>  \n",
       "17  <class 'syft.core.tensor.tensor.Tensor'>  \n",
       "18  <class 'syft.core.tensor.tensor.Tensor'>  \n",
       "19  <class 'syft.core.tensor.tensor.Tensor'>  \n",
       "20             <class 'syft.lib.python.Int'>  \n",
       "21         <class 'syft.lib.python._SyNone'>  \n",
       "22         <class 'syft.lib.python._SyNone'>  \n",
       "23             <class 'syft.lib.python.Int'>  \n",
       "24         <class 'syft.lib.python._SyNone'>  \n",
       "25         <class 'syft.lib.python._SyNone'>  "
      ]
     },
     "execution_count": 19,
     "metadata": {},
     "output_type": "execute_result"
    }
   ],
   "source": [
    "uk.store.pandas"
   ]
  }
 ],
 "metadata": {
  "kernelspec": {
   "display_name": "Python 3 (ipykernel)",
   "language": "python",
   "name": "python3"
  },
  "language_info": {
   "codemirror_mode": {
    "name": "ipython",
    "version": 3
   },
   "file_extension": ".py",
   "mimetype": "text/x-python",
   "name": "python",
   "nbconvert_exporter": "python",
   "pygments_lexer": "ipython3",
   "version": "3.9.1"
  }
 },
 "nbformat": 4,
 "nbformat_minor": 5
}

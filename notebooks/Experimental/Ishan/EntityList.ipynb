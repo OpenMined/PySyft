{
 "cells": [
  {
   "cell_type": "code",
   "execution_count": 1,
   "id": "d8309d3a-2125-4b5c-83a5-3df354b51c4b",
   "metadata": {},
   "outputs": [
    {
     "name": "stderr",
     "output_type": "stream",
     "text": [
      "UsageError: Line magic function `%%autoreload` not found.\n"
     ]
    }
   ],
   "source": [
    "%load_ext autoreload\n",
    "%%autoreload"
   ]
  },
  {
   "cell_type": "code",
   "execution_count": 2,
   "id": "74209cd6-1df7-4c4d-a58d-10542ae52c79",
   "metadata": {},
   "outputs": [],
   "source": [
    "from syft.core.adp.entity_list import DataSubjectList\n",
    "\n",
    "import syft as sy\n",
    "import numpy as np\n",
    "\n",
    "from syft.core.adp.entity import DataSubject"
   ]
  },
  {
   "cell_type": "code",
   "execution_count": 14,
   "id": "d05f5664-0c07-4198-9471-f12aa8fb5591",
   "metadata": {},
   "outputs": [],
   "source": [
    "ishan = DataSubject(name=\"Ishan\")\n",
    "rasswanth = DataSubject(name=\"Rasswanth\")\n",
    "tensor = sy.Tensor(np.random.randint(0, 5, size=(100), dtype=np.int32)).private(min_val=0, max_val=10, entities=[ishan, rasswanth] * 50)  "
   ]
  },
  {
   "cell_type": "code",
   "execution_count": 15,
   "id": "adba9eb4-8a64-4848-8286-80eee5a7fd7a",
   "metadata": {},
   "outputs": [
    {
     "data": {
      "text/plain": [
       "Tensor(child=PhiTensor(child=(100,), min_vals=<lazyrepeatarray data: 0 -> shape: (100,)>, max_vals=<lazyrepeatarray data: 10 -> shape: (100,)>))"
      ]
     },
     "execution_count": 15,
     "metadata": {},
     "output_type": "execute_result"
    }
   ],
   "source": [
    "tensor"
   ]
  },
  {
   "cell_type": "code",
   "execution_count": 16,
   "id": "6d0c4854-f54a-42ee-bea6-6978540ec14f",
   "metadata": {},
   "outputs": [
    {
     "data": {
      "text/plain": [
       "syft.core.tensor.autodp.ndim_entity_phi.PhiTensor"
      ]
     },
     "execution_count": 16,
     "metadata": {},
     "output_type": "execute_result"
    }
   ],
   "source": [
    "type(tensor.child)"
   ]
  },
  {
   "cell_type": "code",
   "execution_count": 17,
   "id": "19e891d6-a73c-450f-aea5-f3430ce9f334",
   "metadata": {},
   "outputs": [],
   "source": [
    "t = tensor.child.copy()"
   ]
  },
  {
   "cell_type": "code",
   "execution_count": 18,
   "id": "dc93ed50-efdf-46b7-9836-c50a41beb32e",
   "metadata": {},
   "outputs": [
    {
     "data": {
      "text/plain": [
       "array([0, 1, 0, 1, 0, 1, 0, 1, 0, 1, 0, 1, 0, 1, 0, 1, 0, 1, 0, 1, 0, 1,\n",
       "       0, 1, 0, 1, 0, 1, 0, 1, 0, 1, 0, 1, 0, 1, 0, 1, 0, 1, 0, 1, 0, 1,\n",
       "       0, 1, 0, 1, 0, 1, 0, 1, 0, 1, 0, 1, 0, 1, 0, 1, 0, 1, 0, 1, 0, 1,\n",
       "       0, 1, 0, 1, 0, 1, 0, 1, 0, 1, 0, 1, 0, 1, 0, 1, 0, 1, 0, 1, 0, 1,\n",
       "       0, 1, 0, 1, 0, 1, 0, 1, 0, 1, 0, 1])"
      ]
     },
     "execution_count": 18,
     "metadata": {},
     "output_type": "execute_result"
    }
   ],
   "source": [
    "t.entities.entities_indexed"
   ]
  },
  {
   "cell_type": "code",
   "execution_count": 19,
   "id": "075c4dce-81a8-4d77-a40b-f6f4952a5784",
   "metadata": {},
   "outputs": [
    {
     "data": {
      "text/plain": [
       "array([<DataSubject:Ishan>, <DataSubject:Rasswanth>], dtype=object)"
      ]
     },
     "execution_count": 19,
     "metadata": {},
     "output_type": "execute_result"
    }
   ],
   "source": [
    "t.entities.one_hot_lookup"
   ]
  },
  {
   "cell_type": "code",
   "execution_count": 20,
   "id": "09574ee6-1e7a-4c7d-9bb8-973094b9a293",
   "metadata": {},
   "outputs": [
    {
     "data": {
      "text/plain": [
       "PhiTensor(child=(100,), min_vals=<lazyrepeatarray data: 0 -> shape: (100,)>, max_vals=<lazyrepeatarray data: 10 -> shape: (100,)>)"
      ]
     },
     "execution_count": 20,
     "metadata": {},
     "output_type": "execute_result"
    }
   ],
   "source": [
    "t"
   ]
  },
  {
   "cell_type": "code",
   "execution_count": 21,
   "id": "4e3b8e2a-c668-4f57-b1c8-d04afb849f4d",
   "metadata": {},
   "outputs": [],
   "source": [
    "t2 = t + 5"
   ]
  },
  {
   "cell_type": "code",
   "execution_count": 23,
   "id": "9a18ee8b-a634-485a-ad0a-e6eccbef66be",
   "metadata": {},
   "outputs": [],
   "source": [
    "andrew = DataSubject(name=\"Trask\")\n",
    "kritika = DataSubject(name=\"Kritika\")\n",
    "tensor2 = sy.Tensor(np.random.randint(0, 5, size=(100), dtype=np.int32)).private(min_val=0, max_val=10, entities=[andrew, kritika] * 50)  "
   ]
  },
  {
   "cell_type": "code",
   "execution_count": 24,
   "id": "cfcaafa7-7047-4876-a20c-3bbe62cd934f",
   "metadata": {},
   "outputs": [],
   "source": [
    "t2 = tensor2.child.copy()"
   ]
  },
  {
   "cell_type": "code",
   "execution_count": 26,
   "id": "fc523e79-8426-4194-8516-493beb3836b0",
   "metadata": {},
   "outputs": [
    {
     "data": {
      "text/plain": [
       "array([1, 0, 1, 0, 1, 0, 1, 0, 1, 0, 1, 0, 1, 0, 1, 0, 1, 0, 1, 0, 1, 0,\n",
       "       1, 0, 1, 0, 1, 0, 1, 0, 1, 0, 1, 0, 1, 0, 1, 0, 1, 0, 1, 0, 1, 0,\n",
       "       1, 0, 1, 0, 1, 0, 1, 0, 1, 0, 1, 0, 1, 0, 1, 0, 1, 0, 1, 0, 1, 0,\n",
       "       1, 0, 1, 0, 1, 0, 1, 0, 1, 0, 1, 0, 1, 0, 1, 0, 1, 0, 1, 0, 1, 0,\n",
       "       1, 0, 1, 0, 1, 0, 1, 0, 1, 0, 1, 0])"
      ]
     },
     "execution_count": 26,
     "metadata": {},
     "output_type": "execute_result"
    }
   ],
   "source": [
    "t2.entities.entities_indexed"
   ]
  },
  {
   "cell_type": "code",
   "execution_count": 27,
   "id": "fca9c384-e2b0-462f-b2e0-d68f918a6021",
   "metadata": {},
   "outputs": [
    {
     "data": {
      "text/plain": [
       "array([<DataSubject:Kritika>, <DataSubject:Trask>], dtype=object)"
      ]
     },
     "execution_count": 27,
     "metadata": {},
     "output_type": "execute_result"
    }
   ],
   "source": [
    "t2.entities.one_hot_lookup"
   ]
  },
  {
   "cell_type": "code",
   "execution_count": 28,
   "id": "da756231-e212-428f-aa5b-8a4b2efd00f4",
   "metadata": {},
   "outputs": [
    {
     "ename": "AttributeError",
     "evalue": "'lazyrepeatarray' object has no attribute 'flatten'",
     "output_type": "error",
     "traceback": [
      "\u001b[0;31m---------------------------------------------------------------------------\u001b[0m",
      "\u001b[0;31mAttributeError\u001b[0m                            Traceback (most recent call last)",
      "Input \u001b[0;32mIn [28]\u001b[0m, in \u001b[0;36m<cell line: 1>\u001b[0;34m()\u001b[0m\n\u001b[0;32m----> 1\u001b[0m t3 \u001b[38;5;241m=\u001b[39m \u001b[43mt\u001b[49m\u001b[43m \u001b[49m\u001b[38;5;241;43m+\u001b[39;49m\u001b[43m \u001b[49m\u001b[43mt2\u001b[49m\n",
      "File \u001b[0;32m~/PycharmProjects/PySyft/packages/syft/src/syft/core/tensor/autodp/ndim_entity_phi.py:287\u001b[0m, in \u001b[0;36mNDimEntityPhiTensor.__add__\u001b[0;34m(self, other)\u001b[0m\n\u001b[1;32m    285\u001b[0m \u001b[38;5;28;01mif\u001b[39;00m \u001b[38;5;28misinstance\u001b[39m(other, PhiTensor):\n\u001b[1;32m    286\u001b[0m     \u001b[38;5;28;01mif\u001b[39;00m \u001b[38;5;28mself\u001b[39m\u001b[38;5;241m.\u001b[39mentities \u001b[38;5;241m!=\u001b[39m other\u001b[38;5;241m.\u001b[39mentities:\n\u001b[0;32m--> 287\u001b[0m         \u001b[38;5;28;01mreturn\u001b[39;00m \u001b[38;5;28;43mself\u001b[39;49m\u001b[38;5;241;43m.\u001b[39;49m\u001b[43mgamma\u001b[49m \u001b[38;5;241m+\u001b[39m other\u001b[38;5;241m.\u001b[39mgamma\n\u001b[1;32m    289\u001b[0m     \u001b[38;5;28;01mreturn\u001b[39;00m PhiTensor(\n\u001b[1;32m    290\u001b[0m         child\u001b[38;5;241m=\u001b[39m\u001b[38;5;28mself\u001b[39m\u001b[38;5;241m.\u001b[39mchild \u001b[38;5;241m+\u001b[39m other\u001b[38;5;241m.\u001b[39mchild,\n\u001b[1;32m    291\u001b[0m         min_vals\u001b[38;5;241m=\u001b[39m\u001b[38;5;28mself\u001b[39m\u001b[38;5;241m.\u001b[39mmin_vals \u001b[38;5;241m+\u001b[39m other\u001b[38;5;241m.\u001b[39mmin_vals,\n\u001b[0;32m   (...)\u001b[0m\n\u001b[1;32m    294\u001b[0m         \u001b[38;5;66;03m# scalar_manager=self.scalar_manager,\u001b[39;00m\n\u001b[1;32m    295\u001b[0m     )\n\u001b[1;32m    297\u001b[0m \u001b[38;5;66;03m# if the tensor being added is a public tensor / int / float / etc.\u001b[39;00m\n",
      "File \u001b[0;32m~/PycharmProjects/PySyft/packages/syft/src/syft/core/tensor/autodp/ndim_entity_phi.py:180\u001b[0m, in \u001b[0;36mNDimEntityPhiTensor.gamma\u001b[0;34m(self)\u001b[0m\n\u001b[1;32m    177\u001b[0m \u001b[38;5;129m@property\u001b[39m\n\u001b[1;32m    178\u001b[0m \u001b[38;5;28;01mdef\u001b[39;00m \u001b[38;5;21mgamma\u001b[39m(\u001b[38;5;28mself\u001b[39m) \u001b[38;5;241m-\u001b[39m\u001b[38;5;241m>\u001b[39m InitialGammaTensor:\n\u001b[1;32m    179\u001b[0m     \u001b[38;5;124;03m\"\"\"Property to cast this tensor into a GammaTensor\"\"\"\u001b[39;00m\n\u001b[0;32m--> 180\u001b[0m     \u001b[38;5;28;01mreturn\u001b[39;00m \u001b[38;5;28;43mself\u001b[39;49m\u001b[38;5;241;43m.\u001b[39;49m\u001b[43mcreate_gamma\u001b[49m\u001b[43m(\u001b[49m\u001b[43m)\u001b[49m\n",
      "File \u001b[0;32m~/PycharmProjects/PySyft/packages/syft/src/syft/core/tensor/autodp/ndim_entity_phi.py:217\u001b[0m, in \u001b[0;36mNDimEntityPhiTensor.create_gamma\u001b[0;34m(self, scalar_manager)\u001b[0m\n\u001b[1;32m    206\u001b[0m \u001b[38;5;124;03m\"\"\"Return a new Gamma tensor based on this phi tensor\"\"\"\u001b[39;00m\n\u001b[1;32m    208\u001b[0m \u001b[38;5;66;03m# if scalar_manager is None:\u001b[39;00m\n\u001b[1;32m    209\u001b[0m \u001b[38;5;66;03m#     scalar_manager = self.scalar_manager\u001b[39;00m\n\u001b[1;32m    210\u001b[0m \n\u001b[0;32m   (...)\u001b[0m\n\u001b[1;32m    215\u001b[0m \n\u001b[1;32m    216\u001b[0m \u001b[38;5;66;03m# TODO: update InitialGammaTensor to handle DataSubjectList\u001b[39;00m\n\u001b[0;32m--> 217\u001b[0m \u001b[38;5;28;01mreturn\u001b[39;00m \u001b[43mInitialGammaTensor\u001b[49m\u001b[43m(\u001b[49m\n\u001b[1;32m    218\u001b[0m \u001b[43m    \u001b[49m\u001b[43mvalues\u001b[49m\u001b[38;5;241;43m=\u001b[39;49m\u001b[38;5;28;43mself\u001b[39;49m\u001b[38;5;241;43m.\u001b[39;49m\u001b[43mchild\u001b[49m\u001b[43m,\u001b[49m\n\u001b[1;32m    219\u001b[0m \u001b[43m    \u001b[49m\u001b[43mmin_vals\u001b[49m\u001b[38;5;241;43m=\u001b[39;49m\u001b[38;5;28;43mself\u001b[39;49m\u001b[38;5;241;43m.\u001b[39;49m\u001b[43mmin_vals\u001b[49m\u001b[43m,\u001b[49m\n\u001b[1;32m    220\u001b[0m \u001b[43m    \u001b[49m\u001b[43mmax_vals\u001b[49m\u001b[38;5;241;43m=\u001b[39;49m\u001b[38;5;28;43mself\u001b[39;49m\u001b[38;5;241;43m.\u001b[39;49m\u001b[43mmax_vals\u001b[49m\u001b[43m,\u001b[49m\n\u001b[1;32m    221\u001b[0m \u001b[43m    \u001b[49m\u001b[43mentities\u001b[49m\u001b[38;5;241;43m=\u001b[39;49m\u001b[38;5;28;43mself\u001b[39;49m\u001b[38;5;241;43m.\u001b[39;49m\u001b[43mentities\u001b[49m\u001b[43m,\u001b[49m\n\u001b[1;32m    222\u001b[0m \u001b[43m    \u001b[49m\u001b[38;5;66;43;03m# scalar_manager=scalar_manager,\u001b[39;49;00m\n\u001b[1;32m    223\u001b[0m \u001b[43m\u001b[49m\u001b[43m)\u001b[49m\n",
      "File \u001b[0;32m~/PycharmProjects/PySyft/packages/syft/src/syft/core/tensor/autodp/initial_gamma.py:81\u001b[0m, in \u001b[0;36mInitialGammaTensor.__init__\u001b[0;34m(self, values, min_vals, max_vals, entities, scalar_manager)\u001b[0m\n\u001b[1;32m     78\u001b[0m     \u001b[38;5;28mself\u001b[39m\u001b[38;5;241m.\u001b[39mscalar_manager \u001b[38;5;241m=\u001b[39m scalar_manager\n\u001b[1;32m     80\u001b[0m flat_values \u001b[38;5;241m=\u001b[39m \u001b[38;5;28mself\u001b[39m\u001b[38;5;241m.\u001b[39mvalues\u001b[38;5;241m.\u001b[39mflatten()\n\u001b[0;32m---> 81\u001b[0m flat_min_vals \u001b[38;5;241m=\u001b[39m \u001b[38;5;28;43mself\u001b[39;49m\u001b[38;5;241;43m.\u001b[39;49m\u001b[43mmin_vals\u001b[49m\u001b[38;5;241;43m.\u001b[39;49m\u001b[43mflatten\u001b[49m()\n\u001b[1;32m     82\u001b[0m flat_max_vals \u001b[38;5;241m=\u001b[39m \u001b[38;5;28mself\u001b[39m\u001b[38;5;241m.\u001b[39mmax_vals\u001b[38;5;241m.\u001b[39mflatten()\n\u001b[1;32m     84\u001b[0m \u001b[38;5;66;03m# If it's a list of lists, then it should still work\u001b[39;00m\n",
      "\u001b[0;31mAttributeError\u001b[0m: 'lazyrepeatarray' object has no attribute 'flatten'"
     ]
    }
   ],
   "source": [
    "t3 = t + t2"
   ]
  },
  {
   "cell_type": "code",
   "execution_count": 29,
   "id": "1b0ab872-e7e7-42c4-bacc-d5390adfce10",
   "metadata": {},
   "outputs": [
    {
     "data": {
      "text/plain": [
       "<lazyrepeatarray data: 0 -> shape: (100,)>"
      ]
     },
     "execution_count": 29,
     "metadata": {},
     "output_type": "execute_result"
    }
   ],
   "source": [
    "t2.min_vals"
   ]
  },
  {
   "cell_type": "code",
   "execution_count": 30,
   "id": "f736747d-3e64-456e-beb7-fd5439a955c5",
   "metadata": {},
   "outputs": [
    {
     "data": {
      "text/plain": [
       "<lazyrepeatarray data: 10 -> shape: (100,)>"
      ]
     },
     "execution_count": 30,
     "metadata": {},
     "output_type": "execute_result"
    }
   ],
   "source": [
    "t2.max_vals"
   ]
  },
  {
   "cell_type": "code",
   "execution_count": 31,
   "id": "e10c2033-d859-4cb8-9dd6-49f79caebf0b",
   "metadata": {},
   "outputs": [
    {
     "data": {
      "text/plain": [
       "array([4, 2, 2, 3, 4, 2, 1, 4, 1, 0, 2, 1, 3, 2, 4, 0, 0, 1, 2, 2, 0, 2,\n",
       "       3, 2, 2, 1, 0, 2, 3, 3, 1, 2, 1, 3, 4, 1, 2, 1, 2, 3, 0, 2, 4, 3,\n",
       "       0, 1, 2, 2, 0, 0, 4, 2, 2, 3, 4, 1, 0, 1, 0, 1, 1, 0, 0, 0, 3, 1,\n",
       "       2, 2, 0, 3, 0, 2, 2, 2, 0, 3, 1, 3, 0, 0, 3, 4, 0, 4, 0, 0, 2, 0,\n",
       "       4, 3, 1, 2, 0, 2, 1, 0, 2, 1, 0, 2], dtype=int32)"
      ]
     },
     "execution_count": 31,
     "metadata": {},
     "output_type": "execute_result"
    }
   ],
   "source": [
    "t2.value"
   ]
  },
  {
   "cell_type": "code",
   "execution_count": 33,
   "id": "5bc81e64-e778-42db-ab54-0cb075f71811",
   "metadata": {},
   "outputs": [
    {
     "data": {
      "text/plain": [
       "['child', 'min_vals', 'max_vals', 'entities']"
      ]
     },
     "execution_count": 33,
     "metadata": {},
     "output_type": "execute_result"
    }
   ],
   "source": [
    "t2.__attr_allowlist__"
   ]
  },
  {
   "cell_type": "code",
   "execution_count": 35,
   "id": "2aa9abf4-e4d3-4ae1-b04a-ea0364cef54f",
   "metadata": {},
   "outputs": [
    {
     "data": {
      "text/plain": [
       "Tensor(child=PhiTensor(child=(100,), min_vals=<lazyrepeatarray data: 0 -> shape: (100,)>, max_vals=<lazyrepeatarray data: 10 -> shape: (100,)>))"
      ]
     },
     "execution_count": 35,
     "metadata": {},
     "output_type": "execute_result"
    }
   ],
   "source": [
    "tensor"
   ]
  },
  {
   "cell_type": "code",
   "execution_count": 36,
   "id": "e5456598-bfde-49cf-8ba6-082cd3bb0203",
   "metadata": {},
   "outputs": [
    {
     "data": {
      "text/plain": [
       "PhiTensor(child=(100,), min_vals=<lazyrepeatarray data: 0 -> shape: (100,)>, max_vals=<lazyrepeatarray data: 10 -> shape: (100,)>)"
      ]
     },
     "execution_count": 36,
     "metadata": {},
     "output_type": "execute_result"
    }
   ],
   "source": [
    "t2"
   ]
  },
  {
   "cell_type": "code",
   "execution_count": 37,
   "id": "ff4dd25a-ef78-4d77-bd02-149c9edae7ab",
   "metadata": {},
   "outputs": [
    {
     "ename": "TypeError",
     "evalue": "__init__() missing 3 required positional arguments: 'entities', 'min_vals', and 'max_vals'",
     "output_type": "error",
     "traceback": [
      "\u001b[0;31m---------------------------------------------------------------------------\u001b[0m",
      "\u001b[0;31mTypeError\u001b[0m                                 Traceback (most recent call last)",
      "Input \u001b[0;32mIn [37]\u001b[0m, in \u001b[0;36m<cell line: 1>\u001b[0;34m()\u001b[0m\n\u001b[0;32m----> 1\u001b[0m \u001b[43mt2\u001b[49m\u001b[38;5;241;43m.\u001b[39;49m\u001b[43msum\u001b[49m\u001b[43m(\u001b[49m\u001b[43m)\u001b[49m\n",
      "File \u001b[0;32m~/PycharmProjects/PySyft/packages/syft/src/syft/core/tensor/passthrough.py:542\u001b[0m, in \u001b[0;36mPassthroughTensor.sum\u001b[0;34m(self, axis)\u001b[0m\n\u001b[1;32m    540\u001b[0m     tensor\u001b[38;5;241m.\u001b[39mchild \u001b[38;5;241m=\u001b[39m result\n\u001b[1;32m    541\u001b[0m     \u001b[38;5;28;01mreturn\u001b[39;00m tensor\n\u001b[0;32m--> 542\u001b[0m \u001b[38;5;28;01mreturn\u001b[39;00m \u001b[38;5;28;43mself\u001b[39;49m\u001b[38;5;241;43m.\u001b[39;49m\u001b[38;5;18;43m__class__\u001b[39;49m\u001b[43m(\u001b[49m\u001b[43mresult\u001b[49m\u001b[43m)\u001b[49m\n",
      "\u001b[0;31mTypeError\u001b[0m: __init__() missing 3 required positional arguments: 'entities', 'min_vals', and 'max_vals'"
     ]
    }
   ],
   "source": [
    "t2.sum()"
   ]
  },
  {
   "cell_type": "code",
   "execution_count": 38,
   "id": "11d71767-a0c7-4f41-bf70-276d70fc4d25",
   "metadata": {},
   "outputs": [
    {
     "data": {
      "text/plain": [
       "array([4, 2, 2, 3, 4, 2, 1, 4, 1, 0, 2, 1, 3, 2, 4, 0, 0, 1, 2, 2, 0, 2,\n",
       "       3, 2, 2, 1, 0, 2, 3, 3, 1, 2, 1, 3, 4, 1, 2, 1, 2, 3, 0, 2, 4, 3,\n",
       "       0, 1, 2, 2, 0, 0, 4, 2, 2, 3, 4, 1, 0, 1, 0, 1, 1, 0, 0, 0, 3, 1,\n",
       "       2, 2, 0, 3, 0, 2, 2, 2, 0, 3, 1, 3, 0, 0, 3, 4, 0, 4, 0, 0, 2, 0,\n",
       "       4, 3, 1, 2, 0, 2, 1, 0, 2, 1, 0, 2], dtype=int32)"
      ]
     },
     "execution_count": 38,
     "metadata": {},
     "output_type": "execute_result"
    }
   ],
   "source": [
    "t2.value"
   ]
  },
  {
   "cell_type": "code",
   "execution_count": 39,
   "id": "be70a5fb-cf3c-4c25-8264-6614f51e1e4e",
   "metadata": {},
   "outputs": [
    {
     "data": {
      "text/plain": [
       "array([1, 0, 1, 0, 1, 0, 1, 0, 1, 0, 1, 0, 1, 0, 1, 0, 1, 0, 1, 0, 1, 0,\n",
       "       1, 0, 1, 0, 1, 0, 1, 0, 1, 0, 1, 0, 1, 0, 1, 0, 1, 0, 1, 0, 1, 0,\n",
       "       1, 0, 1, 0, 1, 0, 1, 0, 1, 0, 1, 0, 1, 0, 1, 0, 1, 0, 1, 0, 1, 0,\n",
       "       1, 0, 1, 0, 1, 0, 1, 0, 1, 0, 1, 0, 1, 0, 1, 0, 1, 0, 1, 0, 1, 0,\n",
       "       1, 0, 1, 0, 1, 0, 1, 0, 1, 0, 1, 0])"
      ]
     },
     "execution_count": 39,
     "metadata": {},
     "output_type": "execute_result"
    }
   ],
   "source": [
    "t2.entities.entities_indexed"
   ]
  },
  {
   "cell_type": "code",
   "execution_count": 41,
   "id": "9d098bff-273b-4999-a4d9-f85cb40001b7",
   "metadata": {},
   "outputs": [
    {
     "data": {
      "text/plain": [
       "166"
      ]
     },
     "execution_count": 41,
     "metadata": {},
     "output_type": "execute_result"
    }
   ],
   "source": [
    "t2.value.sum()"
   ]
  },
  {
   "cell_type": "code",
   "execution_count": 42,
   "id": "9e6ab670-8d46-4cee-af24-e10f493b432d",
   "metadata": {},
   "outputs": [
    {
     "data": {
      "text/plain": [
       "2"
      ]
     },
     "execution_count": 42,
     "metadata": {},
     "output_type": "execute_result"
    }
   ],
   "source": [
    "len(t2.entities.one_hot_lookup)"
   ]
  },
  {
   "cell_type": "code",
   "execution_count": 44,
   "id": "12113bac-8c3e-44a3-a94c-e88282d943f7",
   "metadata": {},
   "outputs": [
    {
     "data": {
      "text/plain": [
       "1000"
      ]
     },
     "execution_count": 44,
     "metadata": {},
     "output_type": "execute_result"
    }
   ],
   "source": [
    "t2.max_vals.sum()"
   ]
  },
  {
   "cell_type": "code",
   "execution_count": 52,
   "id": "ecaa7a6e-9436-4710-a19f-81e3a8ba9356",
   "metadata": {},
   "outputs": [
    {
     "data": {
      "text/plain": [
       "<DataSubject:Trask>"
      ]
     },
     "execution_count": 52,
     "metadata": {},
     "output_type": "execute_result"
    }
   ],
   "source": [
    "t2.entities[0]"
   ]
  },
  {
   "cell_type": "code",
   "execution_count": 47,
   "id": "c127efed-ee09-4943-8409-fd381f1e9ab1",
   "metadata": {},
   "outputs": [],
   "source": [
    "entity_list = [ishan, andrew, kritika, rasswanth] * 10"
   ]
  },
  {
   "cell_type": "code",
   "execution_count": 49,
   "id": "0668bd20-65cc-4cac-acc0-f8d179aaeaa7",
   "metadata": {},
   "outputs": [
    {
     "data": {
      "text/plain": [
       "[<DataSubject:Ishan>,\n",
       " <DataSubject:Trask>,\n",
       " <DataSubject:Kritika>,\n",
       " <DataSubject:Rasswanth>,\n",
       " <DataSubject:Ishan>]"
      ]
     },
     "execution_count": 49,
     "metadata": {},
     "output_type": "execute_result"
    }
   ],
   "source": [
    "entity_list[:5]"
   ]
  },
  {
   "cell_type": "code",
   "execution_count": 50,
   "id": "61a547ca-07cb-4618-aad8-83d5245b9a58",
   "metadata": {},
   "outputs": [
    {
     "data": {
      "text/plain": [
       "<syft.core.adp.entity_list.DataSubjectList at 0x7fd23c0592b0>"
      ]
     },
     "execution_count": 50,
     "metadata": {},
     "output_type": "execute_result"
    }
   ],
   "source": [
    "DataSubjectList.from_objs(entity_list)"
   ]
  },
  {
   "cell_type": "code",
   "execution_count": 54,
   "id": "3014c6e3-7f3f-4cb5-8c00-28a24c3e7cd5",
   "metadata": {},
   "outputs": [
    {
     "data": {
      "text/plain": [
       "array([0])"
      ]
     },
     "execution_count": 54,
     "metadata": {},
     "output_type": "execute_result"
    }
   ],
   "source": [
    "x = DataSubjectList.from_objs(t2.entities[0])\n",
    "x.entities_indexed"
   ]
  },
  {
   "cell_type": "code",
   "execution_count": 55,
   "id": "ef8d0882-be8a-4455-8686-cc091b4a4188",
   "metadata": {},
   "outputs": [
    {
     "data": {
      "text/plain": [
       "array([<DataSubject:Trask>], dtype=object)"
      ]
     },
     "execution_count": 55,
     "metadata": {},
     "output_type": "execute_result"
    }
   ],
   "source": [
    "x.one_hot_lookup"
   ]
  },
  {
   "cell_type": "code",
   "execution_count": 56,
   "id": "0b09de12-4e56-468d-b98f-ef8ef79f318d",
   "metadata": {},
   "outputs": [
    {
     "data": {
      "text/plain": [
       "array([1, 0, 1, 0, 1, 0, 1, 0, 1, 0, 1, 0, 1, 0, 1, 0, 1, 0, 1, 0, 1, 0,\n",
       "       1, 0, 1, 0, 1, 0, 1, 0, 1, 0, 1, 0, 1, 0, 1, 0, 1, 0, 1, 0, 1, 0,\n",
       "       1, 0, 1, 0, 1, 0, 1, 0, 1, 0, 1, 0, 1, 0, 1, 0, 1, 0, 1, 0, 1, 0,\n",
       "       1, 0, 1, 0, 1, 0, 1, 0, 1, 0, 1, 0, 1, 0, 1, 0, 1, 0, 1, 0, 1, 0,\n",
       "       1, 0, 1, 0, 1, 0, 1, 0, 1, 0, 1, 0])"
      ]
     },
     "execution_count": 56,
     "metadata": {},
     "output_type": "execute_result"
    }
   ],
   "source": [
    "x = DataSubjectList.from_objs(t2.entities)\n",
    "x.entities_indexed"
   ]
  },
  {
   "cell_type": "code",
   "execution_count": 57,
   "id": "1951603f-e48c-4f80-b694-8c137e3d0029",
   "metadata": {},
   "outputs": [
    {
     "data": {
      "text/plain": [
       "syft.core.tensor.autodp.ndim_entity_phi.PhiTensor"
      ]
     },
     "execution_count": 57,
     "metadata": {},
     "output_type": "execute_result"
    }
   ],
   "source": [
    "type(t2)"
   ]
  },
  {
   "cell_type": "code",
   "execution_count": 58,
   "id": "db90283b-5482-4bd7-bb05-6d9dc189de14",
   "metadata": {},
   "outputs": [
    {
     "data": {
      "text/plain": [
       "<syft.core.adp.entity_list.DataSubjectList at 0x7fd23c8cfe20>"
      ]
     },
     "execution_count": 58,
     "metadata": {},
     "output_type": "execute_result"
    }
   ],
   "source": [
    "t2.entities"
   ]
  },
  {
   "cell_type": "code",
   "execution_count": 59,
   "id": "23518bf8-7afb-4bde-b737-6e6e7c399ad5",
   "metadata": {},
   "outputs": [
    {
     "data": {
      "text/plain": [
       "<DataSubject:Trask>"
      ]
     },
     "execution_count": 59,
     "metadata": {},
     "output_type": "execute_result"
    }
   ],
   "source": [
    "t2.entities[0]"
   ]
  },
  {
   "cell_type": "code",
   "execution_count": 61,
   "id": "4073d928-5ea7-4eb8-8df3-f9e5150a56cd",
   "metadata": {},
   "outputs": [
    {
     "data": {
      "text/plain": [
       "array([<DataSubject:Trask>], dtype=object)"
      ]
     },
     "execution_count": 61,
     "metadata": {},
     "output_type": "execute_result"
    }
   ],
   "source": [
    "x = DataSubjectList.from_objs(t2.entities[0])\n",
    "x.one_hot_lookup"
   ]
  },
  {
   "cell_type": "code",
   "execution_count": 62,
   "id": "55c17524-49c4-4111-942f-48d231dc46b4",
   "metadata": {},
   "outputs": [
    {
     "data": {
      "text/plain": [
       "PhiTensor(child=(100,), min_vals=<lazyrepeatarray data: 0 -> shape: (100,)>, max_vals=<lazyrepeatarray data: 10 -> shape: (100,)>)"
      ]
     },
     "execution_count": 62,
     "metadata": {},
     "output_type": "execute_result"
    }
   ],
   "source": [
    "t2"
   ]
  },
  {
   "cell_type": "code",
   "execution_count": 68,
   "id": "fbd2bfe1-fa6a-44ff-9ec8-739b69c7b3ef",
   "metadata": {},
   "outputs": [
    {
     "data": {
      "text/plain": [
       "(100,)"
      ]
     },
     "execution_count": 68,
     "metadata": {},
     "output_type": "execute_result"
    }
   ],
   "source": [
    "t2.entities.entities_indexed.shape"
   ]
  },
  {
   "cell_type": "code",
   "execution_count": 70,
   "id": "370c005f-3aff-4b0c-a5ad-368b78ef1e49",
   "metadata": {},
   "outputs": [
    {
     "data": {
      "text/plain": [
       "numpy.ndarray"
      ]
     },
     "execution_count": 70,
     "metadata": {},
     "output_type": "execute_result"
    }
   ],
   "source": [
    "type(t2.entities.one_hot_lookup)"
   ]
  },
  {
   "cell_type": "code",
   "execution_count": 72,
   "id": "193b70e5-f1da-4d42-b118-5758c3fa2351",
   "metadata": {},
   "outputs": [
    {
     "data": {
      "text/plain": [
       "numpy.ndarray"
      ]
     },
     "execution_count": 72,
     "metadata": {},
     "output_type": "execute_result"
    }
   ],
   "source": [
    "type(t2.entities.entities_indexed)"
   ]
  },
  {
   "cell_type": "code",
   "execution_count": null,
   "id": "626f325c-fd44-4063-8ee9-051f6b4987c6",
   "metadata": {},
   "outputs": [],
   "source": []
  }
 ],
 "metadata": {
  "kernelspec": {
   "display_name": "Python 3 (ipykernel)",
   "language": "python",
   "name": "python3"
  },
  "language_info": {
   "codemirror_mode": {
    "name": "ipython",
    "version": 3
   },
   "file_extension": ".py",
   "mimetype": "text/x-python",
   "name": "python",
   "nbconvert_exporter": "python",
   "pygments_lexer": "ipython3",
   "version": "3.8.10"
  }
 },
 "nbformat": 4,
 "nbformat_minor": 5
}

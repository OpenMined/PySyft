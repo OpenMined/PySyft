{
 "cells": [
  {
   "cell_type": "markdown",
   "id": "ebcf4fed-6a8e-43b6-a758-46ec1a0e26be",
   "metadata": {},
   "source": [
    "# TODO\n",
    "\n",
    "- Make TensorPointer except IntegerEntityLists instead of Lists of DataSubject or string objects for NDEPT\n",
    "- Make sum work for Sy.Tensor when .child is an NDEPT\n",
    "- When the result of the above ^ is a GammaTensor, make Sy.Tensor able to have the GammaTensor as its self.child"
   ]
  },
  {
   "cell_type": "code",
   "execution_count": 1,
   "id": "a7069911-d3d8-4b98-955b-0c447d57690a",
   "metadata": {},
   "outputs": [],
   "source": [
    "%load_ext autoreload"
   ]
  },
  {
   "cell_type": "code",
   "execution_count": 2,
   "id": "b02af848-8cc9-4ccf-b780-27d62d7d3165",
   "metadata": {},
   "outputs": [],
   "source": [
    "%autoreload"
   ]
  },
  {
   "cell_type": "code",
   "execution_count": 3,
   "id": "45b6d6f8-c646-48cd-a5c7-79c76fd69cd6",
   "metadata": {},
   "outputs": [],
   "source": [
    "import syft as sy\n",
    "import numpy as np\n",
    "import pandas as pd\n",
    "from syft.core.adp.entity_list import DataSubjectList"
   ]
  },
  {
   "cell_type": "code",
   "execution_count": 4,
   "id": "c1dfed9c-574a-44cd-97ec-47c36da775b1",
   "metadata": {},
   "outputs": [
    {
     "data": {
      "text/html": [
       "<div>\n",
       "<style scoped>\n",
       "    .dataframe tbody tr th:only-of-type {\n",
       "        vertical-align: middle;\n",
       "    }\n",
       "\n",
       "    .dataframe tbody tr th {\n",
       "        vertical-align: top;\n",
       "    }\n",
       "\n",
       "    .dataframe thead th {\n",
       "        text-align: right;\n",
       "    }\n",
       "</style>\n",
       "<table border=\"1\" class=\"dataframe\">\n",
       "  <thead>\n",
       "    <tr style=\"text-align: right;\">\n",
       "      <th></th>\n",
       "      <th>tweet_id</th>\n",
       "      <th>impressions</th>\n",
       "      <th>tweet_date_time</th>\n",
       "      <th>date</th>\n",
       "      <th>time</th>\n",
       "      <th>user_id</th>\n",
       "      <th>url</th>\n",
       "      <th>publication_title</th>\n",
       "      <th>ad_fontes_bias</th>\n",
       "      <th>ad_fontes_reliability</th>\n",
       "      <th>domain</th>\n",
       "    </tr>\n",
       "  </thead>\n",
       "  <tbody>\n",
       "    <tr>\n",
       "      <th>0</th>\n",
       "      <td>1</td>\n",
       "      <td>9029</td>\n",
       "      <td>2021-03-21 06:29:10</td>\n",
       "      <td>2021-03-21</td>\n",
       "      <td>06:29:10</td>\n",
       "      <td>92256</td>\n",
       "      <td>https://www.aljazeera.com/news/2019/04/trump-v...</td>\n",
       "      <td>Al Jazeera</td>\n",
       "      <td>-0.75</td>\n",
       "      <td>48.0</td>\n",
       "      <td>.aljazeera.com</td>\n",
       "    </tr>\n",
       "    <tr>\n",
       "      <th>1</th>\n",
       "      <td>1</td>\n",
       "      <td>9029</td>\n",
       "      <td>2021-03-21 06:29:10</td>\n",
       "      <td>2021-03-21</td>\n",
       "      <td>06:29:10</td>\n",
       "      <td>418264</td>\n",
       "      <td>https://www.aljazeera.com/news/2019/04/trump-v...</td>\n",
       "      <td>Al Jazeera</td>\n",
       "      <td>-0.75</td>\n",
       "      <td>48.0</td>\n",
       "      <td>.aljazeera.com</td>\n",
       "    </tr>\n",
       "    <tr>\n",
       "      <th>2</th>\n",
       "      <td>1</td>\n",
       "      <td>9029</td>\n",
       "      <td>2021-03-21 06:29:10</td>\n",
       "      <td>2021-03-21</td>\n",
       "      <td>06:29:10</td>\n",
       "      <td>195053</td>\n",
       "      <td>https://www.aljazeera.com/news/2019/04/trump-v...</td>\n",
       "      <td>Al Jazeera</td>\n",
       "      <td>-0.75</td>\n",
       "      <td>48.0</td>\n",
       "      <td>.aljazeera.com</td>\n",
       "    </tr>\n",
       "    <tr>\n",
       "      <th>3</th>\n",
       "      <td>1</td>\n",
       "      <td>9029</td>\n",
       "      <td>2021-03-21 06:29:10</td>\n",
       "      <td>2021-03-21</td>\n",
       "      <td>06:29:10</td>\n",
       "      <td>590420</td>\n",
       "      <td>https://www.aljazeera.com/news/2019/04/trump-v...</td>\n",
       "      <td>Al Jazeera</td>\n",
       "      <td>-0.75</td>\n",
       "      <td>48.0</td>\n",
       "      <td>.aljazeera.com</td>\n",
       "    </tr>\n",
       "    <tr>\n",
       "      <th>4</th>\n",
       "      <td>1</td>\n",
       "      <td>9029</td>\n",
       "      <td>2021-03-21 06:29:10</td>\n",
       "      <td>2021-03-21</td>\n",
       "      <td>06:29:10</td>\n",
       "      <td>602475</td>\n",
       "      <td>https://www.aljazeera.com/news/2019/04/trump-v...</td>\n",
       "      <td>Al Jazeera</td>\n",
       "      <td>-0.75</td>\n",
       "      <td>48.0</td>\n",
       "      <td>.aljazeera.com</td>\n",
       "    </tr>\n",
       "  </tbody>\n",
       "</table>\n",
       "</div>"
      ],
      "text/plain": [
       "   tweet_id  impressions     tweet_date_time        date      time  user_id  \\\n",
       "0         1         9029 2021-03-21 06:29:10  2021-03-21  06:29:10    92256   \n",
       "1         1         9029 2021-03-21 06:29:10  2021-03-21  06:29:10   418264   \n",
       "2         1         9029 2021-03-21 06:29:10  2021-03-21  06:29:10   195053   \n",
       "3         1         9029 2021-03-21 06:29:10  2021-03-21  06:29:10   590420   \n",
       "4         1         9029 2021-03-21 06:29:10  2021-03-21  06:29:10   602475   \n",
       "\n",
       "                                                 url publication_title  \\\n",
       "0  https://www.aljazeera.com/news/2019/04/trump-v...        Al Jazeera   \n",
       "1  https://www.aljazeera.com/news/2019/04/trump-v...        Al Jazeera   \n",
       "2  https://www.aljazeera.com/news/2019/04/trump-v...        Al Jazeera   \n",
       "3  https://www.aljazeera.com/news/2019/04/trump-v...        Al Jazeera   \n",
       "4  https://www.aljazeera.com/news/2019/04/trump-v...        Al Jazeera   \n",
       "\n",
       "   ad_fontes_bias  ad_fontes_reliability          domain  \n",
       "0           -0.75                   48.0  .aljazeera.com  \n",
       "1           -0.75                   48.0  .aljazeera.com  \n",
       "2           -0.75                   48.0  .aljazeera.com  \n",
       "3           -0.75                   48.0  .aljazeera.com  \n",
       "4           -0.75                   48.0  .aljazeera.com  "
      ]
     },
     "execution_count": 4,
     "metadata": {},
     "output_type": "execute_result"
    }
   ],
   "source": [
    "data = pd.read_parquet(\"1M_rows_dataset_sample.parquet\")\n",
    "data.head()"
   ]
  },
  {
   "cell_type": "code",
   "execution_count": 5,
   "id": "5772433c-9801-45d5-a7d7-3e000e0e8a00",
   "metadata": {},
   "outputs": [],
   "source": [
    "raw_values = data['impressions'].to_numpy(dtype=np.int32)"
   ]
  },
  {
   "cell_type": "code",
   "execution_count": 6,
   "id": "cefaa6ad-4601-49aa-83f0-e735b27e3c1a",
   "metadata": {},
   "outputs": [],
   "source": [
    "data_subjects = DataSubjectList.from_series(data['user_id'])"
   ]
  },
  {
   "cell_type": "code",
   "execution_count": 9,
   "id": "3f29f2a8-aa7f-4eb9-ac45-f52b1aaec8be",
   "metadata": {},
   "outputs": [],
   "source": [
    "tensor = sy.Tensor(raw_values).private(min_val=500, max_val=25000, entities=data_subjects)"
   ]
  },
  {
   "cell_type": "code",
   "execution_count": 10,
   "id": "710c6227-0a8d-44f7-b204-6a6019b1d91d",
   "metadata": {},
   "outputs": [
    {
     "data": {
      "text/plain": [
       "Tensor(child=PhiTensor(child=(1000000,), min_vals=<lazyrepeatarray data: 500 -> shape: (1000000,)>, max_vals=<lazyrepeatarray data: 25000 -> shape: (1000000,)>))"
      ]
     },
     "execution_count": 10,
     "metadata": {},
     "output_type": "execute_result"
    }
   ],
   "source": [
    "tensor"
   ]
  },
  {
   "cell_type": "code",
   "execution_count": 11,
   "id": "439da140-e656-4d87-a989-3a6ce76ec3a0",
   "metadata": {},
   "outputs": [
    {
     "ename": "Exception",
     "evalue": "Data: GammaTensor(value=11941995258, data_subjects=<syft.core.adp.entity_list.DataSubjectList object at 0x7f70485f38b0>, min_val=500000000, max_val=25000000000, is_linear=True, func=<function no_op at 0x7f70182853a0>, id='4102662845', state={'0': array([9029, 9029, 9029, ..., 9709, 9709, 9709], dtype=int32)}) ,type: <class 'syft.core.tensor.autodp.gamma_tensor.GammaTensor'> must be list or nd.array ",
     "output_type": "error",
     "traceback": [
      "\u001b[0;31m---------------------------------------------------------------------------\u001b[0m",
      "\u001b[0;31mException\u001b[0m                                 Traceback (most recent call last)",
      "Input \u001b[0;32mIn [11]\u001b[0m, in \u001b[0;36m<cell line: 1>\u001b[0;34m()\u001b[0m\n\u001b[0;32m----> 1\u001b[0m \u001b[43mtensor\u001b[49m\u001b[38;5;241;43m.\u001b[39;49m\u001b[43msum\u001b[49m\u001b[43m(\u001b[49m\u001b[43m)\u001b[49m\n",
      "File \u001b[0;32m~/PySyft/packages/syft/src/syft/core/tensor/passthrough.py:542\u001b[0m, in \u001b[0;36mPassthroughTensor.sum\u001b[0;34m(self, axis)\u001b[0m\n\u001b[1;32m    540\u001b[0m     tensor\u001b[38;5;241m.\u001b[39mchild \u001b[38;5;241m=\u001b[39m result\n\u001b[1;32m    541\u001b[0m     \u001b[38;5;28;01mreturn\u001b[39;00m tensor\n\u001b[0;32m--> 542\u001b[0m \u001b[38;5;28;01mreturn\u001b[39;00m \u001b[38;5;28;43mself\u001b[39;49m\u001b[38;5;241;43m.\u001b[39;49m\u001b[38;5;18;43m__class__\u001b[39;49m\u001b[43m(\u001b[49m\u001b[43mresult\u001b[49m\u001b[43m)\u001b[49m\n",
      "File \u001b[0;32m~/PySyft/packages/syft/src/syft/core/tensor/tensor.py:367\u001b[0m, in \u001b[0;36mTensor.__init__\u001b[0;34m(self, child, public_shape, public_dtype)\u001b[0m\n\u001b[1;32m    361\u001b[0m     child \u001b[38;5;241m=\u001b[39m to32bit(child\u001b[38;5;241m.\u001b[39mnumpy())\n\u001b[1;32m    363\u001b[0m \u001b[38;5;28;01mif\u001b[39;00m \u001b[38;5;129;01mnot\u001b[39;00m \u001b[38;5;28misinstance\u001b[39m(child, PassthroughTensor) \u001b[38;5;129;01mand\u001b[39;00m \u001b[38;5;129;01mnot\u001b[39;00m \u001b[38;5;28misinstance\u001b[39m(\n\u001b[1;32m    364\u001b[0m     child, np\u001b[38;5;241m.\u001b[39mndarray\n\u001b[1;32m    365\u001b[0m ):\n\u001b[0;32m--> 367\u001b[0m     \u001b[38;5;28;01mraise\u001b[39;00m \u001b[38;5;167;01mException\u001b[39;00m(\n\u001b[1;32m    368\u001b[0m         \u001b[38;5;124mf\u001b[39m\u001b[38;5;124m\"\u001b[39m\u001b[38;5;124mData: \u001b[39m\u001b[38;5;132;01m{\u001b[39;00mchild\u001b[38;5;132;01m}\u001b[39;00m\u001b[38;5;124m ,type: \u001b[39m\u001b[38;5;132;01m{\u001b[39;00m\u001b[38;5;28mtype\u001b[39m(child)\u001b[38;5;132;01m}\u001b[39;00m\u001b[38;5;124m must be list or nd.array \u001b[39m\u001b[38;5;124m\"\u001b[39m\n\u001b[1;32m    369\u001b[0m     )\n\u001b[1;32m    371\u001b[0m \u001b[38;5;28;01mif\u001b[39;00m \u001b[38;5;129;01mnot\u001b[39;00m \u001b[38;5;28misinstance\u001b[39m(child, (np\u001b[38;5;241m.\u001b[39mndarray, PassthroughTensor)) \u001b[38;5;129;01mor\u001b[39;00m (\n\u001b[1;32m    372\u001b[0m     \u001b[38;5;28mgetattr\u001b[39m(child, \u001b[38;5;124m\"\u001b[39m\u001b[38;5;124mdtype\u001b[39m\u001b[38;5;124m\"\u001b[39m, \u001b[38;5;28;01mNone\u001b[39;00m) \u001b[38;5;129;01mnot\u001b[39;00m \u001b[38;5;129;01min\u001b[39;00m [np\u001b[38;5;241m.\u001b[39mint32, np\u001b[38;5;241m.\u001b[39mbool_]\n\u001b[1;32m    373\u001b[0m     \u001b[38;5;129;01mand\u001b[39;00m \u001b[38;5;28mgetattr\u001b[39m(child, \u001b[38;5;124m\"\u001b[39m\u001b[38;5;124mdtype\u001b[39m\u001b[38;5;124m\"\u001b[39m, \u001b[38;5;28;01mNone\u001b[39;00m) \u001b[38;5;129;01mis\u001b[39;00m \u001b[38;5;129;01mnot\u001b[39;00m \u001b[38;5;28;01mNone\u001b[39;00m\n\u001b[1;32m    374\u001b[0m ):\n\u001b[1;32m    375\u001b[0m     \u001b[38;5;28;01mraise\u001b[39;00m \u001b[38;5;167;01mTypeError\u001b[39;00m(\n\u001b[1;32m    376\u001b[0m         \u001b[38;5;124m\"\u001b[39m\u001b[38;5;124mYou tried to pass an a tensor of type:\u001b[39m\u001b[38;5;124m\"\u001b[39m\n\u001b[1;32m    377\u001b[0m         \u001b[38;5;241m+\u001b[39m \u001b[38;5;28mstr\u001b[39m(\u001b[38;5;28mtype\u001b[39m(child))\n\u001b[0;32m   (...)\u001b[0m\n\u001b[1;32m    382\u001b[0m         \u001b[38;5;124m\"\u001b[39m\u001b[38;5;124mbe adding support for more types very soon!\u001b[39m\u001b[38;5;124m\"\u001b[39m\n\u001b[1;32m    383\u001b[0m     )\n",
      "\u001b[0;31mException\u001b[0m: Data: GammaTensor(value=11941995258, data_subjects=<syft.core.adp.entity_list.DataSubjectList object at 0x7f70485f38b0>, min_val=500000000, max_val=25000000000, is_linear=True, func=<function no_op at 0x7f70182853a0>, id='4102662845', state={'0': array([9029, 9029, 9029, ..., 9709, 9709, 9709], dtype=int32)}) ,type: <class 'syft.core.tensor.autodp.gamma_tensor.GammaTensor'> must be list or nd.array "
     ]
    }
   ],
   "source": [
    "tensor.sum()"
   ]
  },
  {
   "cell_type": "code",
   "execution_count": null,
   "id": "eb31a3dd-3f74-4219-8593-6e687302b477",
   "metadata": {},
   "outputs": [],
   "source": []
  }
 ],
 "metadata": {
  "kernelspec": {
   "display_name": "Python 3 (ipykernel)",
   "language": "python",
   "name": "python3"
  },
  "language_info": {
   "codemirror_mode": {
    "name": "ipython",
    "version": 3
   },
   "file_extension": ".py",
   "mimetype": "text/x-python",
   "name": "python",
   "nbconvert_exporter": "python",
   "pygments_lexer": "ipython3",
   "version": "3.9.7"
  }
 },
 "nbformat": 4,
 "nbformat_minor": 5
}

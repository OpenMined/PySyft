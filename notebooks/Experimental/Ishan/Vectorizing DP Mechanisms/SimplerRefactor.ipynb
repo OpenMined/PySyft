{
 "cells": [
  {
   "cell_type": "markdown",
   "metadata": {},
   "source": [
    "Non-vectorized, but this simplifies the autodp code significantly so is a step forward"
   ]
  },
  {
   "cell_type": "code",
   "execution_count": 1,
   "metadata": {},
   "outputs": [],
   "source": [
    "import numpy as np\n",
    "\n",
    "from scipy.optimize import minimize_scalar"
   ]
  },
  {
   "cell_type": "code",
   "execution_count": 2,
   "metadata": {},
   "outputs": [],
   "source": [
    "def pointwise_minimum(f1, f2):\n",
    "    def min_f1_f2(x):\n",
    "        return np.minimum(f1(x), f2(x))\n",
    "    return min_f1_f2\n",
    "\n",
    "def pointwise_minimum_two_arguments(f1, f2):\n",
    "    def min_f1_f2(x, y):\n",
    "        return np.minimum(f1(x, y), f2(x, y))\n",
    "    return min_f1_f2\n",
    "\n",
    "def pointwise_maximum(f1, f2):\n",
    "    def max_f1_f2(x):\n",
    "        return np.maximum(f1(x), f2(x))\n",
    "    return max_f1_f2"
   ]
  },
  {
   "cell_type": "code",
   "execution_count": 93,
   "metadata": {},
   "outputs": [],
   "source": [
    "def rdp_to_approxdp(rdp, alpha_max=np.inf, BBGHS_conversion=True):\n",
    "    # from RDP to approx DP\n",
    "    # alpha_max is an optional input which sometimes helps avoid numerical issues\n",
    "    # By default, we are using the RDP to approx-DP conversion due to BBGHS'19's Theorem 21\n",
    "    # paper: https://arxiv.org/pdf/1905.09982.pdf\n",
    "    # if you need to use the simpler RDP to approxDP conversion for some reason, turn the flag off\n",
    "\n",
    "    def approxdp(delta):\n",
    "        \"\"\"\n",
    "        approxdp outputs eps as a function of delta based on rdp calculations\n",
    "        :param delta:\n",
    "        :return: the \\epsilon with a given delta\n",
    "        \"\"\"\n",
    "\n",
    "        if delta < 0 or delta > 1:\n",
    "            print(\"Error! delta is a probability and must be between 0 and 1\")\n",
    "        if delta == 0:\n",
    "            return rdp(np.inf)\n",
    "        else:\n",
    "            \n",
    "            def fun(alpha):  # the input is the RDP's \\alpha\n",
    "                if alpha <= 1:\n",
    "                    return np.inf\n",
    "                else:\n",
    "                    if BBGHS_conversion:\n",
    "                        return np.maximum(rdp(alpha) + np.log((alpha-1)/alpha)\n",
    "                                          - (np.log(delta) + np.log(alpha))/(alpha-1), 0)\n",
    "                    else:\n",
    "                        return np.log(1 / delta) / (alpha - 1) + rdp(alpha)\n",
    "\n",
    "            results = minimize_scalar(fun, method='Brent', bracket=(1,2), bounds=[1, alpha_max])\n",
    "            \n",
    "            if results.success:\n",
    "                return results.fun\n",
    "            else:\n",
    "                # There are cases when certain \\delta is not feasible.\n",
    "                # For example, let p and q be uniform the privacy R.V. is either 0 or \\infty and unless all \\infty\n",
    "                # events are taken cared of by \\delta, \\epsilon cannot be < \\infty\n",
    "                return np.inf\n",
    "    return approxdp"
   ]
  },
  {
   "cell_type": "code",
   "execution_count": 94,
   "metadata": {},
   "outputs": [],
   "source": [
    "class Mechanism():\n",
    "    \"\"\"\n",
    "     The base mechanism will use typically two functions to describe the mechanism\n",
    "\n",
    "    # Attributes (actually functions as well):\n",
    "    # 1: Approximate DP:   epsilon as a function of delta\n",
    "    # 2. Renyi DP:   RDP epsilon as a function of \\alpha\n",
    "    # 3. Approximate RDP:  approximate RDP. RDP conditioning on a failure probability delta0.\n",
    "    # 4. f-DP:  Type II error as a function of Type I error. You can get that from Approximate-DP\n",
    "    #           or FDP directly.\n",
    "    # 5. epsilon:  Pure DP bound.  If not infinity, then the mechanism satisfies pure DP.\n",
    "    # 6. delta0:  Failure probability which documents the delta to use for approximate RDP\n",
    "    #             in the case when there are no information available about the failure event.\n",
    "\n",
    "    # If we specify RDP only then it will propagate the RDP calculations to approximate-DP\n",
    "    # and to f-DP\n",
    "    # If we specify pure-DP only then it propagates to RDP,  Approximate-DP, f-DP and so on.\n",
    "    # If we specify approximate-DP only, then it implies an approximate RDP bound with \\delta_0.\n",
    "    # If we specify f-DP only then it propagates to other specifications.\n",
    "    \n",
    "    \n",
    "    # If we specify multiple calculations, then it will take the minimum of all of them\n",
    "    #      in each category\n",
    "    \"\"\"\n",
    "\n",
    "\n",
    "    def __init__(self):\n",
    "        # Initialize everything with trivial (non-private) defaults\n",
    "        def RenyiDP(alpha):\n",
    "            return np.inf\n",
    "\n",
    "        def approxRDP(delta, alpha):\n",
    "            return np.inf\n",
    "\n",
    "        def approxDP(delta):\n",
    "            return np.inf\n",
    "\n",
    "        self.RenyiDP = RenyiDP\n",
    "        self.approxRDP = approxRDP\n",
    "        self.approxDP = approxDP\n",
    "        self.eps_pureDP = np.inf\n",
    "\n",
    "        self.delta0 = np.inf  # indicate the smallest allowable \\delta0 in approxRDP that is not inf\n",
    "        #  We can convert localDP to curator DP by parallel composition and by shuffling.\n",
    "        \n",
    "    def get_approxDP(self, delta):\n",
    "        # Output eps as a function of delta\n",
    "        return self.approxDP(delta)\n",
    "\n",
    "    def get_approxRDP(self, delta, alpha):\n",
    "        # Output eps as a function of delta and alpha\n",
    "        return self.approxRDP(delta, alpha)\n",
    "\n",
    "    def get_RDP(self, alpha):\n",
    "        # Output RDP eps as a function of alpha\n",
    "        return self.RenyiDP(alpha)\n",
    "\n",
    "    def propagate_updates(self, func, type_of_update,\n",
    "                          delta0=0,\n",
    "                          BBGHS_conversion=True):\n",
    "        # This function receives a new description of the mechanisms and updates all functions\n",
    "        # based on what is new by calling converters.\n",
    "\n",
    "            \n",
    "        if type_of_update == 'RDP':\n",
    "\n",
    "            # function output RDP eps as a function of alpha\n",
    "            self.RenyiDP = pointwise_minimum(self.RenyiDP, func)\n",
    "            self.approxDP = pointwise_minimum(self.approxDP,\n",
    "                     rdp_to_approxdp(self.RenyiDP, BBGHS_conversion=BBGHS_conversion))\n",
    "        else:\n",
    "            print(type_of_update, ' not recognized.')"
   ]
  },
  {
   "cell_type": "code",
   "execution_count": 95,
   "metadata": {},
   "outputs": [],
   "source": [
    "m = Mechanism()"
   ]
  },
  {
   "cell_type": "code",
   "execution_count": 96,
   "metadata": {},
   "outputs": [],
   "source": [
    "# The generic composition class\n",
    "class Composition(Mechanism):\n",
    "    \"\"\" Composition is a transformer that takes a list of Mechanisms and number of times they appear,\n",
    "    and output a Mechanism that represents the composed mechanism\"\"\"\n",
    "    def __init__(self):\n",
    "        # Update the function that is callable\n",
    "        self.transform = self.compose\n",
    "\n",
    "    def compose(self, mechanism_list, coeff_list):\n",
    "        # Make sure that the mechanism has a unique list\n",
    "        # for example, if there are two Gaussian mechanism with two different sigmas, call it\n",
    "        # Gaussian1, and Gaussian2\n",
    "\n",
    "        newmech = Mechanism()\n",
    "\n",
    "        # update the functions\n",
    "        def newrdp(x):\n",
    "            return sum([c * mech.RenyiDP(x) for (mech, c) in zip(mechanism_list, coeff_list)])\n",
    "        \n",
    "        newmech.propagate_updates(newrdp, 'RDP')\n",
    "\n",
    "        # TODO: the fDP_based_conversion sometimes fails due to undefined RDP with alpha < 1\n",
    "\n",
    "        newmech.delta0 = max([mech.delta0 for mech\n",
    "                              in mechanism_list])\n",
    "\n",
    "        return newmech\n",
    "    \n",
    "    def __call__(self, *args, **kwargs):\n",
    "        return self.compose(*args, **kwargs)\n"
   ]
  },
  {
   "cell_type": "markdown",
   "metadata": {},
   "source": [
    "## Our Gaussian Mechanism"
   ]
  },
  {
   "cell_type": "code",
   "execution_count": 97,
   "metadata": {},
   "outputs": [],
   "source": [
    "from functools import lru_cache\n",
    "\n",
    "# returns the privacy budget spent by each entity\n",
    "@lru_cache(maxsize=None)\n",
    "def _individual_RDP_gaussian(\n",
    "    sigma: float, value: float, L: float, alpha: float\n",
    ") -> float:\n",
    "    return (alpha * (L**2) * (value**2)) / (2 * (sigma**2))"
   ]
  },
  {
   "cell_type": "code",
   "execution_count": 98,
   "metadata": {},
   "outputs": [],
   "source": [
    "def individual_RDP_gaussian(params, alpha: float) -> np.float64:\n",
    "    \"\"\"\n",
    "    :param params:\n",
    "        'sigma' --- is the normalized noise level: std divided by global L2 sensitivity\n",
    "        'value' --- is the output of query on a data point\n",
    "        'L' --- is the Lipschitz constant of query with respect to the output of query on a data point\n",
    "    :param alpha: The order of the Renyi Divergence\n",
    "    :return: Evaluation of the RDP's epsilon\n",
    "    \"\"\"\n",
    "    sigma = params[\"sigma\"]\n",
    "    value = params[\"value\"]\n",
    "    L = params[\"L\"]\n",
    "    if sigma <= 0:\n",
    "        raise Exception(\"Sigma should be above 0\")\n",
    "    if alpha < 0:\n",
    "        raise Exception(\"Sigma should not be below 0\")\n",
    "\n",
    "    return _individual_RDP_gaussian(sigma=sigma, alpha=alpha, value=value, L=L)"
   ]
  },
  {
   "cell_type": "code",
   "execution_count": 99,
   "metadata": {},
   "outputs": [],
   "source": [
    "from typing import Optional\n",
    "from nacl.signing import VerifyKey"
   ]
  },
  {
   "cell_type": "code",
   "execution_count": 100,
   "metadata": {},
   "outputs": [],
   "source": [
    "class iDPGaussianMechanism(Mechanism):\n",
    "    __attr_allowlist__ = [\n",
    "        \"name\",\n",
    "        \"params\",\n",
    "        \"entity_name\",\n",
    "        \"delta0\",\n",
    "        \"RDP_off\",\n",
    "        \"approxDP_off\",\n",
    "        \"user_key\",\n",
    "    ]\n",
    "\n",
    "    def __init__(\n",
    "        self,\n",
    "        sigma: float,\n",
    "        squared_l2_norm: float,\n",
    "        squared_l2_norm_upper_bound: float,\n",
    "        L: float,\n",
    "        entity_name: str,\n",
    "        name: str = \"Gaussian\",\n",
    "        RDP: bool = True,\n",
    "        approxDP: bool = True,\n",
    "        user_key: Optional[VerifyKey] = None,  #TODO: Why isn't it mandatory to provide a User Key?\n",
    "    ):\n",
    "\n",
    "        Mechanism.__init__(self)\n",
    "\n",
    "        self.user_key = user_key\n",
    "\n",
    "        self.name = name  # When composing\n",
    "        self.params = {\n",
    "            \"sigma\": float(sigma),\n",
    "            \"private_value\": float(squared_l2_norm),\n",
    "            \"public_value\": float(squared_l2_norm_upper_bound),\n",
    "            \"L\": float(L),\n",
    "        }  # This will be useful for the Calibrator\n",
    "\n",
    "        self.entity_name = entity_name\n",
    "\n",
    "        self.delta0 = 0\n",
    "        if RDP:\n",
    "            # Tudor: i'll fix these  \n",
    "            # x is the alpha value of the RDP here\n",
    "            new_rdp = lambda x: individual_RDP_gaussian(self.params, x)  # noqa: E731\n",
    "            self.propagate_updates(new_rdp, \"RDP\")"
   ]
  },
  {
   "cell_type": "code",
   "execution_count": 101,
   "metadata": {},
   "outputs": [],
   "source": [
    "from typing import Iterable, Tuple"
   ]
  },
  {
   "cell_type": "code",
   "execution_count": 102,
   "metadata": {},
   "outputs": [],
   "source": [
    "def compose_mechanisms(\n",
    "    mechanisms: Iterable[iDPGaussianMechanism], delta: float\n",
    ") -> float:\n",
    "    sigmas = list()\n",
    "    squared_l2_norms = list()\n",
    "    squared_l2_norm_upper_bounds = list()\n",
    "    Ls = list()\n",
    "    values = list()\n",
    "\n",
    "    for m in mechanisms:\n",
    "        sigmas.append(m.params[\"sigma\"])\n",
    "        squared_l2_norms.append(m.params[\"private_value\"])\n",
    "        squared_l2_norm_upper_bounds.append(m.params[\"public_value\"])\n",
    "        Ls.append(m.params[\"L\"])\n",
    "        values.append(m.params[\"value\"])\n",
    "\n",
    "    return compose_mechanisms_via_simplified_args_for_lru_cache(\n",
    "        tuple(sigmas),\n",
    "        tuple(squared_l2_norms),\n",
    "        tuple(squared_l2_norm_upper_bounds),\n",
    "        tuple(Ls),\n",
    "        tuple(values),\n",
    "        delta,\n",
    "    )\n",
    "\n",
    "\n",
    "@lru_cache(maxsize=None)\n",
    "def compose_mechanisms_via_simplified_args_for_lru_cache(\n",
    "    sigmas: Tuple[float],\n",
    "    squared_l2_norms: Tuple[float],\n",
    "    squared_l2_norm_upper_bounds: Tuple[float],\n",
    "    Ls: Tuple[float],\n",
    "    values: Tuple[float],\n",
    "    delta: float,\n",
    ") -> float:\n",
    "    mechanisms = list()\n",
    "    for i in range(len(sigmas)):\n",
    "\n",
    "        m = iDPGaussianMechanism(\n",
    "            sigma=sigmas[i],\n",
    "            squared_l2_norm=squared_l2_norms[i],\n",
    "            squared_l2_norm_upper_bound=squared_l2_norm_upper_bounds[i],\n",
    "            L=Ls[i],\n",
    "            entity_name=\"\",\n",
    "        )\n",
    "        m.params[\"value\"] = values[i]\n",
    "        mechanisms.append(m)\n",
    "    # compose them with the transformation: compose\n",
    "    compose = Composition()\n",
    "    composed_mech = compose(mechanisms)\n",
    "    eps = composed_mech.get_approxDP(delta)\n",
    "    return eps"
   ]
  },
  {
   "cell_type": "code",
   "execution_count": 103,
   "metadata": {},
   "outputs": [],
   "source": [
    "idpgm = iDPGaussianMechanism(sigma=1, squared_l2_norm=10, squared_l2_norm_upper_bound=40, L=5, entity_name=\"Bob\")\n",
    "idpgm.params[\"value\"] = idpgm.params[\"private_value\"]"
   ]
  },
  {
   "cell_type": "code",
   "execution_count": 106,
   "metadata": {},
   "outputs": [
    {
     "data": {
      "text/plain": [
       "2868.055559174866"
      ]
     },
     "execution_count": 106,
     "metadata": {},
     "output_type": "execute_result"
    }
   ],
   "source": [
    "c = Composition()\n",
    "\n",
    "m = c.compose([idpgm,idpgm], [1,1])\n",
    "m.get_approxDP(1e-6)"
   ]
  },
  {
   "cell_type": "code",
   "execution_count": null,
   "metadata": {},
   "outputs": [],
   "source": []
  },
  {
   "cell_type": "markdown",
   "metadata": {},
   "source": [
    "## TESTING"
   ]
  },
  {
   "cell_type": "code",
   "execution_count": 14,
   "metadata": {},
   "outputs": [],
   "source": [
    "inputs = []\n",
    "\n",
    "for i in range(10**6):\n",
    "    inputs.append(iDPGaussianMechanism(sigma=2, squared_l2_norm=50, squared_l2_norm_upper_bound=7, L=4, entity_name=str(i)))\n",
    "    inputs[i].params[\"value\"] = inputs[i].params[\"private_value\"]"
   ]
  },
  {
   "cell_type": "code",
   "execution_count": 45,
   "metadata": {},
   "outputs": [
    {
     "name": "stdout",
     "output_type": "stream",
     "text": [
      "CPU times: user 1min 13s, sys: 1.49 s, total: 1min 14s\n",
      "Wall time: 1min 15s\n"
     ]
    },
    {
     "data": {
      "text/plain": [
       "5000525641.237593"
      ]
     },
     "execution_count": 45,
     "metadata": {},
     "output_type": "execute_result"
    }
   ],
   "source": [
    "%%time\n",
    "compose_mechanisms(inputs, delta=1e-6)"
   ]
  },
  {
   "cell_type": "markdown",
   "metadata": {},
   "source": [
    "If we try without the overhead in `compose_mechanisms` from iterating through all mechanisms and recreating 1M IDPGMs:"
   ]
  },
  {
   "cell_type": "code",
   "execution_count": 47,
   "metadata": {},
   "outputs": [],
   "source": [
    "c = Composition()"
   ]
  },
  {
   "cell_type": "code",
   "execution_count": 48,
   "metadata": {},
   "outputs": [
    {
     "name": "stdout",
     "output_type": "stream",
     "text": [
      "CPU times: user 55 s, sys: 345 ms, total: 55.4 s\n",
      "Wall time: 55.4 s\n"
     ]
    },
    {
     "data": {
      "text/plain": [
       "5000525641.237593"
      ]
     },
     "execution_count": 48,
     "metadata": {},
     "output_type": "execute_result"
    }
   ],
   "source": [
    "%%time\n",
    "cms = c(inputs)\n",
    "cms.get_approxDP(1e-6)"
   ]
  },
  {
   "cell_type": "code",
   "execution_count": 128,
   "metadata": {},
   "outputs": [],
   "source": [
    "# returns the privacy budget spent by each entity\n",
    "@lru_cache(maxsize=None)\n",
    "def _IRDP_gaussian(\n",
    "    sigma: float, value: float, L: float, alpha: float\n",
    ") -> float:\n",
    "    return (alpha * (L**2) * (value**2)) / (2 * (sigma**2))\n",
    "\n",
    "def IRDP_gaussian(sigma, value, L, alpha: float) -> np.float64:\n",
    "    \"\"\"\n",
    "    :param params:\n",
    "        'sigma' --- is the normalized noise level: std divided by global L2 sensitivity\n",
    "        'value' --- is the output of query on a data point\n",
    "        'L' --- is the Lipschitz constant of query with respect to the output of query on a data point\n",
    "    :param alpha: The order of the Renyi Divergence\n",
    "    :return: Evaluation of the RDP's epsilon\n",
    "    \"\"\"\n",
    "    if sigma <= 0:\n",
    "        raise Exception(\"Sigma should be above 0\")\n",
    "    if alpha < 0:\n",
    "        raise Exception(\"Sigma should not be below 0\")\n",
    "    return _individual_RDP_gaussian(sigma=sigma, alpha=alpha, value=value, L=L)\n",
    "\n",
    "\n",
    "class GaussianMechanism(Mechanism):\n",
    "    __attr_allowlist__ = [\n",
    "        # \"name\",\n",
    "        # \"sigma\",\n",
    "        # \"squared_l2_norm\",\n",
    "        # \"squared_l2_norm_upper_bound\",\n",
    "        # \"L\",\n",
    "        \"use_private\",\n",
    "        \"entity_name\",\n",
    "        \"delta0\",\n",
    "        \"RDP\",\n",
    "        \"user_key\",\n",
    "    ]\n",
    "\n",
    "    def __init__(\n",
    "        self,\n",
    "        sigma: float,\n",
    "        squared_l2_norm: float,\n",
    "        squared_l2_norm_upper_bound: float,\n",
    "        L: float,\n",
    "        entity_name: str,\n",
    "        use_private: bool = True,\n",
    "        RDP: bool = True,\n",
    "        user_key: Optional[VerifyKey] = None,  #TODO: Why isn't it mandatory to provide a User Key?\n",
    "    ):\n",
    "\n",
    "        Mechanism.__init__(self)\n",
    "\n",
    "        self.user_key = user_key\n",
    "        self.entity_name = entity_name\n",
    "\n",
    "        self.delta0 = 0\n",
    "        if RDP:\n",
    "            if use_private:\n",
    "                new_rdp = lambda x: IRDP_gaussian(sigma, squared_l2_norm, L, x)  # noqa: E731\n",
    "            else:\n",
    "                new_rdp = lambda x: IRDP_gaussian(sigma, squared_l2_norm_upper_bound, L, x)  # noqa: E731\n",
    "            self.propagate_updates(new_rdp, \"RDP\")"
   ]
  },
  {
   "cell_type": "code",
   "execution_count": 129,
   "metadata": {},
   "outputs": [],
   "source": [
    "private_inputs = []\n",
    "\n",
    "for i in range(10**3):\n",
    "    private_inputs.append(GaussianMechanism(sigma=2, squared_l2_norm=5, squared_l2_norm_upper_bound=7, L=4, entity_name=str(i), use_private=True))\n",
    "    # inputs[i].params[\"value\"] = inputs[i].params[\"private_value\"]"
   ]
  },
  {
   "cell_type": "code",
   "execution_count": 121,
   "metadata": {},
   "outputs": [],
   "source": [
    "c = Composition()"
   ]
  },
  {
   "cell_type": "code",
   "execution_count": 122,
   "metadata": {},
   "outputs": [
    {
     "name": "stdout",
     "output_type": "stream",
     "text": [
      "CPU times: user 73.6 ms, sys: 4.05 ms, total: 77.6 ms\n",
      "Wall time: 83.2 ms\n"
     ]
    },
    {
     "data": {
      "text/plain": [
       "51657.15258159435"
      ]
     },
     "execution_count": 122,
     "metadata": {},
     "output_type": "execute_result"
    }
   ],
   "source": [
    "%%time\n",
    "cms = c(private_inputs)\n",
    "cms.get_approxDP(1e-6)"
   ]
  },
  {
   "cell_type": "code",
   "execution_count": 107,
   "metadata": {},
   "outputs": [],
   "source": [
    "public_inputs = []\n",
    "\n",
    "for i in range(10**3):\n",
    "    public_inputs.append(GaussianMechanism(sigma=2, squared_l2_norm=5, squared_l2_norm_upper_bound=7, L=4, entity_name=str(i), use_private=False))\n",
    "    # inputs[i].params[\"value\"] = inputs[i].params[\"private_value\"]"
   ]
  },
  {
   "cell_type": "code",
   "execution_count": 108,
   "metadata": {},
   "outputs": [
    {
     "name": "stdout",
     "output_type": "stream",
     "text": [
      "CPU times: user 98.5 ms, sys: 38 µs, total: 98.5 ms\n",
      "Wall time: 108 ms\n"
     ]
    },
    {
     "data": {
      "text/plain": [
       "100321.72179974406"
      ]
     },
     "execution_count": 108,
     "metadata": {},
     "output_type": "execute_result"
    }
   ],
   "source": [
    "%%time\n",
    "cms = c(public_inputs)\n",
    "cms.get_approxDP(1e-6)"
   ]
  },
  {
   "cell_type": "code",
   "execution_count": 109,
   "metadata": {},
   "outputs": [],
   "source": [
    "mixed_inputs = []\n",
    "\n",
    "privacy_mask = np.random.choice([True, False], size=10**3)\n",
    "for i in range(10**3):\n",
    "    mixed_inputs.append(GaussianMechanism(sigma=2, squared_l2_norm=5, squared_l2_norm_upper_bound=7, L=4, entity_name=str(i), use_private=privacy_mask[i]))"
   ]
  },
  {
   "cell_type": "code",
   "execution_count": 110,
   "metadata": {},
   "outputs": [
    {
     "name": "stdout",
     "output_type": "stream",
     "text": [
      "CPU times: user 122 ms, sys: 4.04 ms, total: 126 ms\n",
      "Wall time: 137 ms\n"
     ]
    },
    {
     "data": {
      "text/plain": [
       "75189.74927919405"
      ]
     },
     "execution_count": 110,
     "metadata": {},
     "output_type": "execute_result"
    }
   ],
   "source": [
    "%%time\n",
    "cms = c(mixed_inputs)\n",
    "cms.get_approxDP(1e-6)"
   ]
  },
  {
   "cell_type": "code",
   "execution_count": null,
   "metadata": {},
   "outputs": [],
   "source": []
  }
 ],
 "metadata": {
  "kernelspec": {
   "display_name": "Python 3",
   "language": "python",
   "name": "python3"
  },
  "language_info": {
   "codemirror_mode": {
    "name": "ipython",
    "version": 3
   },
   "file_extension": ".py",
   "mimetype": "text/x-python",
   "name": "python",
   "nbconvert_exporter": "python",
   "pygments_lexer": "ipython3",
   "version": "3.7.9"
  }
 },
 "nbformat": 4,
 "nbformat_minor": 5
}

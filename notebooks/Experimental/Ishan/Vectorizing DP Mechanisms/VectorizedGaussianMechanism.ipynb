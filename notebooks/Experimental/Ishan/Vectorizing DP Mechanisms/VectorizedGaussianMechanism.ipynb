{
 "cells": [
  {
   "cell_type": "code",
   "execution_count": 1,
   "id": "d0429a6a-ccfa-49ca-9b5b-5faa70e8da05",
   "metadata": {},
   "outputs": [],
   "source": [
    "import jax\n",
    "from jax import numpy as jnp\n",
    "import numpy as np"
   ]
  },
  {
   "cell_type": "code",
   "execution_count": 2,
   "id": "bc609142-beaf-45dd-ba97-48ccf3b0455e",
   "metadata": {},
   "outputs": [],
   "source": [
    "# stdlib\n",
    "from functools import lru_cache\n",
    "from typing import Dict\n",
    "from typing import List\n",
    "from typing import Optional\n",
    "\n",
    "# third party\n",
    "from autodp import dp_bank\n",
    "from autodp import fdp_bank\n",
    "from autodp.autodp_core import Mechanism\n",
    "from nacl.signing import VerifyKey\n",
    "import numpy as np"
   ]
  },
  {
   "cell_type": "code",
   "execution_count": 1,
   "id": "5ac87626-57c7-4ae5-9d85-ae87af44d6b0",
   "metadata": {},
   "outputs": [],
   "source": [
    "import numpy as np\n",
    "from jax import numpy as jnp\n",
    "\n",
    "\n",
    "# TODO: Sq_l2 value may (?) be a float if min/max val provided are floats and not array of floats.\n",
    "def epsilon_spent(sigma: float, sq_l2_norm_value: jnp.array, lipschitz_bound: float, alpha: int) -> jnp.array:\n",
    "    \"\"\"\n",
    "    This calculates the privacy budget (epsilon) spent at a DATA SUBJECT level.\n",
    "    This is based on the Individual Privacy Accounting via a Renyi Filter paper (https://arxiv.org/abs/2008.11193)\n",
    "\n",
    "    - ALPHA: the ORDER of the Renyi Divergence used in Renyi Differential Privacy\n",
    "    - SIGMA: normalized noise level- std divided by global L2 sensitivity\n",
    "\n",
    "    - LIPSCHITZ_BOUND: Lipschitz constant of a query with respect to the output of a query on a data point\n",
    "    For linear queries- this is equal to 1\n",
    "    For non-linear queries- this can be found using the GammaTensor.lipschitz_bound property\n",
    "\n",
    "    - SQ_L2_NORM_VALUE: This is the L2 norm.\n",
    "    IF THIS IS CALCULATED USING THE REAL VALUES OF EACH DATA SUBJECT (i.e. GammaTensor.value) -> this is PRIVATE, and\n",
    "    any privacy budget calculated with this value CANNOT be shown to the User/Data Scientist.\n",
    "    To calculate a Privacy budget that you CAN show to the data scientist, please pass in the upper bound of the\n",
    "    squared L2 norm. This is calculated by using the metadata (max val and min val ) instead of the real values.\n",
    "    \"\"\"\n",
    "\n",
    "    if sigma <= 0:\n",
    "        raise Exception(\"Sigma should be above 0\")\n",
    "    if alpha < 0:\n",
    "        raise Exception(\"Alpha (order of Renyi Divergence in RDP) should be a positive integer\")\n",
    "    return alpha * (lipschitz_bound ** 2) * sq_l2_norm_value/(2 * (sigma ** 2))"
   ]
  },
  {
   "cell_type": "code",
   "execution_count": 7,
   "id": "e167158b-0fa4-4fbd-9e53-a2b7c0f131ba",
   "metadata": {},
   "outputs": [],
   "source": [
    "data = np.random.random(10**9)"
   ]
  },
  {
   "cell_type": "code",
   "execution_count": 8,
   "id": "6d03665b-aa2a-4e35-b187-fabda33388a4",
   "metadata": {},
   "outputs": [
    {
     "name": "stdout",
     "output_type": "stream",
     "text": [
      "CPU times: user 1.17 s, sys: 628 ms, total: 1.8 s\n",
      "Wall time: 1.8 s\n"
     ]
    }
   ],
   "source": [
    "%%time\n",
    "values = epsilon_spent(sigma=1.5, sq_l2_norm_value=data, lipschitz_bound=1.6, alpha=2)"
   ]
  },
  {
   "cell_type": "code",
   "execution_count": 9,
   "id": "21a9e821-ee76-4c2b-8bb4-01232d9f3af7",
   "metadata": {},
   "outputs": [
    {
     "data": {
      "text/plain": [
       "array([0.99099188, 0.73032707, 0.81601253, 0.1468407 , 0.84835402,\n",
       "       0.80065702, 0.06767476, 0.81704206, 0.31985764, 0.15903453])"
      ]
     },
     "execution_count": 9,
     "metadata": {},
     "output_type": "execute_result"
    }
   ],
   "source": [
    "values[:10]"
   ]
  },
  {
   "cell_type": "code",
   "execution_count": 10,
   "id": "6cf805e6-f860-4e28-a4aa-b8298b25b050",
   "metadata": {},
   "outputs": [],
   "source": [
    "import flax"
   ]
  },
  {
   "cell_type": "code",
   "execution_count": 20,
   "id": "cd37326f-a838-4156-afcd-10aeecd06c97",
   "metadata": {},
   "outputs": [
    {
     "ename": "SyntaxError",
     "evalue": "unexpected EOF while parsing (3956249447.py, line 14)",
     "output_type": "error",
     "traceback": [
      "\u001b[0;36m  Input \u001b[0;32mIn [20]\u001b[0;36m\u001b[0m\n\u001b[0;31m    def __post_init__(self) -> None:\u001b[0m\n\u001b[0m                                    ^\u001b[0m\n\u001b[0;31mSyntaxError\u001b[0m\u001b[0;31m:\u001b[0m unexpected EOF while parsing\n"
     ]
    }
   ],
   "source": [
    "@flax.struct.dataclass\n",
    "class GaussianMechanism:\n",
    "    sigma: float\n",
    "    public_sq_l2_norm: jnp.array\n",
    "    private_sq_l2_norm: jnp.array\n",
    "    lipschitz_bound: float\n",
    "    entity_indices: jnp.array\n",
    "    entity_mappings: jnp.array\n",
    "    RDP_off: bool = False\n",
    "    approxDP_off: bool = False\n",
    "    delta0: float = 0.0    \n",
    "    name: str = \"Gaussian\"\n",
    "    \n",
    "    def __post_init__(self) -> None:\n",
    "        rdp = epsilon_spent(sigma=sigma, )"
   ]
  },
  {
   "cell_type": "code",
   "execution_count": null,
   "id": "994e99bb-4c4b-468a-803c-135259e60a57",
   "metadata": {},
   "outputs": [],
   "source": []
  },
  {
   "cell_type": "code",
   "execution_count": 14,
   "id": "2a142a90-2a82-4195-a6b1-5c7171bde18c",
   "metadata": {},
   "outputs": [
    {
     "data": {
      "text/plain": [
       "True"
      ]
     },
     "execution_count": 14,
     "metadata": {},
     "output_type": "execute_result"
    }
   ],
   "source": [
    "isinstance(data, np.ndarray)"
   ]
  },
  {
   "cell_type": "code",
   "execution_count": 15,
   "id": "ae4f60da-de0e-4482-ad7b-5373ac892dff",
   "metadata": {},
   "outputs": [
    {
     "data": {
      "text/plain": [
       "False"
      ]
     },
     "execution_count": 15,
     "metadata": {},
     "output_type": "execute_result"
    }
   ],
   "source": [
    "isinstance(data, jnp.ndarray)"
   ]
  },
  {
   "cell_type": "code",
   "execution_count": null,
   "id": "6a410fbe-a41d-4e98-841b-cbcecd65a370",
   "metadata": {},
   "outputs": [],
   "source": [
    "# methods serialize/deserialize np.int64 number\n",
    "# syft.serde seems to not support np.int64 serialization/deserialization\n",
    "def numpy64tolist(value: np.int64) -> List:\n",
    "    list_version = value.tolist()\n",
    "    return list_version\n",
    "\n",
    "\n",
    "def listtonumpy64(value: List) -> np.int64:\n",
    "    return np.int64(value)"
   ]
  },
  {
   "cell_type": "code",
   "execution_count": null,
   "id": "541f2b9a-813d-4e7f-bd91-d19381235767",
   "metadata": {},
   "outputs": [],
   "source": [
    "# returns the privacy budget spent by each entity\n",
    "@lru_cache(maxsize=None)\n",
    "def _individual_RDP_gaussian(\n",
    "    sigma: float, value: float, L: float, alpha: float\n",
    ") -> float:\n",
    "    return (alpha * (L**2) * (value**2)) / (2 * (sigma**2))\n",
    "\n",
    "\n",
    "def individual_RDP_gaussian(params: Dict, alpha: float) -> np.float64:\n",
    "    \"\"\"\n",
    "    :param params:\n",
    "        'sigma' --- is the normalized noise level: std divided by global L2 sensitivity\n",
    "        'value' --- is the output of query on a data point\n",
    "        'L' --- is the Lipschitz constant of query with respect to the output of query on a data point\n",
    "    :param alpha: The order of the Renyi Divergence\n",
    "    :return: Evaluation of the RDP's epsilon\n",
    "    \"\"\"\n",
    "    sigma = params[\"sigma\"]\n",
    "    value = params[\"value\"]\n",
    "    L = params[\"L\"]\n",
    "    if sigma <= 0:\n",
    "        raise Exception(\"Sigma should be above 0\")\n",
    "    if alpha < 0:\n",
    "        raise Exception(\"Sigma should not be below 0\")\n",
    "\n",
    "    return _individual_RDP_gaussian(sigma=sigma, alpha=alpha, value=value, L=L)"
   ]
  },
  {
   "cell_type": "code",
   "execution_count": null,
   "id": "db68b01f-48f4-4e6c-900b-eae5e5592219",
   "metadata": {},
   "outputs": [],
   "source": [
    "# Example of a specific mechanism that inherits the Mechanism class\n",
    "@serializable(recursive_serde=True)\n",
    "class iDPGaussianMechanism(Mechanism):\n",
    "    __attr_allowlist__ = [\n",
    "        \"name\",\n",
    "        \"params\",\n",
    "        \"entity_name\",\n",
    "        \"fdp\",\n",
    "        \"eps_pureDP\",\n",
    "        \"delta0\",\n",
    "        \"RDP_off\",\n",
    "        \"approxDP_off\",\n",
    "        \"fdp_off\",\n",
    "        \"use_basic_rdp_to_approx_dp_conversion\",\n",
    "        \"use_fdp_based_rdp_to_approx_dp_conversion\",\n",
    "        \"user_key\",\n",
    "    ]\n",
    "\n",
    "    # delta0 is a numpy.int64 number (not supported by syft.serde)\n",
    "    __serde_overrides__ = {\n",
    "        \"delta0\": [numpy64tolist, listtonumpy64],\n",
    "    }\n",
    "\n",
    "    def __init__(\n",
    "        self,\n",
    "        sigma: float,\n",
    "        squared_l2_norm: float,\n",
    "        squared_l2_norm_upper_bound: float,\n",
    "        L: float,\n",
    "        entity_name: str,\n",
    "        name: str = \"Gaussian\",\n",
    "        RDP_off: bool = False,\n",
    "        approxDP_off: bool = False,\n",
    "        use_basic_rdp_to_approx_dp_conversion: bool = False,\n",
    "        use_fdp_based_rdp_to_approx_dp_conversion: bool = False,\n",
    "        user_key: Optional[VerifyKey] = None,\n",
    "    ):\n",
    "\n",
    "        # the sigma parameter is the std of the noise divide by the l2 sensitivity\n",
    "        Mechanism.__init__(self)\n",
    "\n",
    "        self.user_key = user_key\n",
    "\n",
    "        self.name = name  # When composing\n",
    "        self.params = {\n",
    "            \"sigma\": float(sigma),\n",
    "            \"private_value\": float(squared_l2_norm),\n",
    "            \"public_value\": float(squared_l2_norm_upper_bound),\n",
    "            \"L\": float(L),\n",
    "        }  # This will be useful for the Calibrator\n",
    "\n",
    "        self.entity_name = entity_name\n",
    "        # TODO: should a generic unspecified mechanism have a name and a param dictionary?\n",
    "\n",
    "        self.delta0 = 0\n",
    "        if not RDP_off:\n",
    "            new_rdp = lambda x: individual_RDP_gaussian(self.params, x)  # noqa: E731\n",
    "            # This is the default setting with fast computation of RDP to approx-DP\n",
    "            self.propagate_updates(new_rdp, \"RDP\")\n",
    "\n",
    "        if not approxDP_off:  # Direct implementation of approxDP\n",
    "            new_approxdp = lambda x: dp_bank.get_eps_ana_gaussian(  # noqa: E731\n",
    "                sigma, x\n",
    "            )\n",
    "            self.propagate_updates(new_approxdp, \"approxDP_func\")\n",
    "\n",
    "        # Discussion:  Sometimes delta as a function of eps has a closed-form solution\n",
    "        # while eps as a function of delta does not\n",
    "        # Shall we represent delta as a function of eps instead?"
   ]
  },
  {
   "cell_type": "code",
   "execution_count": 3,
   "id": "71c1a831-c49c-430a-9a89-170effa65ea5",
   "metadata": {},
   "outputs": [],
   "source": [
    "import flax\n",
    "from jax import numpy as np\n",
    "import numpy as np"
   ]
  },
  {
   "cell_type": "code",
   "execution_count": null,
   "id": "0c981416-9593-4944-b502-21520e3deecb",
   "metadata": {},
   "outputs": [],
   "source": [
    "\n",
    "@flax.struct.dataclass\n",
    "def GaussianMechanism:\n",
    "    sigma: float,\n",
    "    private_squared_l2_norm: jnp.array,\n",
    "    public_squared_l2_norm: jnp.array,\n",
    "    lipschitz_bound: jnp.array,\n",
    "    entity_indices: jnp.array,\n",
    "    entity_lookup: jnp.array"
   ]
  },
  {
   "cell_type": "code",
   "execution_count": null,
   "id": "0e8e2823-53b6-4427-99f3-88762740d501",
   "metadata": {},
   "outputs": [],
   "source": []
  }
 ],
 "metadata": {
  "kernelspec": {
   "display_name": "Python 3 (ipykernel)",
   "language": "python",
   "name": "python3"
  },
  "language_info": {
   "codemirror_mode": {
    "name": "ipython",
    "version": 3
   },
   "file_extension": ".py",
   "mimetype": "text/x-python",
   "name": "python",
   "nbconvert_exporter": "python",
   "pygments_lexer": "ipython3",
   "version": "3.8.10"
  }
 },
 "nbformat": 4,
 "nbformat_minor": 5
}

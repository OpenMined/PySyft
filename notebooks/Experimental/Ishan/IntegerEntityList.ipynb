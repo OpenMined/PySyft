{
 "cells": [
  {
   "cell_type": "code",
   "execution_count": 1,
   "id": "25019b1f-ec12-4a81-9baf-d446aa395390",
   "metadata": {},
   "outputs": [],
   "source": [
    "import syft as sy"
   ]
  },
  {
   "cell_type": "code",
   "execution_count": 30,
   "id": "14fdc1c0-4ebd-453c-8405-7aa1d4745ae5",
   "metadata": {},
   "outputs": [],
   "source": [
    "from syft.core.adp.entity_list import DataSubjectList"
   ]
  },
  {
   "cell_type": "code",
   "execution_count": 2,
   "id": "866a3524-9fbf-406c-97c5-2e8888fdd560",
   "metadata": {},
   "outputs": [
    {
     "name": "stdout",
     "output_type": "stream",
     "text": [
      "Architecture:                    x86_64\n",
      "CPU op-mode(s):                  32-bit, 64-bit\n",
      "Byte Order:                      Little Endian\n",
      "Address sizes:                   46 bits physical, 57 bits virtual\n",
      "CPU(s):                          104\n",
      "On-line CPU(s) list:             0-103\n",
      "Thread(s) per core:              2\n",
      "Core(s) per socket:              26\n",
      "Socket(s):                       2\n",
      "NUMA node(s):                    2\n",
      "Vendor ID:                       GenuineIntel\n",
      "CPU family:                      6\n",
      "Model:                           106\n",
      "Model name:                      Intel(R) Xeon(R) Platinum 8370C CPU @ 2.80GHz\n",
      "Stepping:                        6\n",
      "CPU MHz:                         2800.000\n",
      "CPU max MHz:                     2800.0000\n",
      "CPU min MHz:                     800.0000\n",
      "BogoMIPS:                        5586.87\n",
      "Virtualization:                  VT-x\n",
      "Hypervisor vendor:               Microsoft\n",
      "Virtualization type:             full\n",
      "L1d cache:                       2.4 MiB\n",
      "L1i cache:                       1.6 MiB\n",
      "L2 cache:                        65 MiB\n",
      "L3 cache:                        96 MiB\n",
      "NUMA node0 CPU(s):               0-51\n",
      "NUMA node1 CPU(s):               52-103\n",
      "Vulnerability Itlb multihit:     Not affected\n",
      "Vulnerability L1tf:              Not affected\n",
      "Vulnerability Mds:               Not affected\n",
      "Vulnerability Meltdown:          Not affected\n",
      "Vulnerability Spec store bypass: Vulnerable\n",
      "Vulnerability Spectre v1:        Mitigation; usercopy/swapgs barriers and __user\n",
      "                                  pointer sanitization\n",
      "Vulnerability Spectre v2:        Mitigation; Retpolines, STIBP disabled, RSB fil\n",
      "                                 ling\n",
      "Vulnerability Srbds:             Not affected\n",
      "Vulnerability Tsx async abort:   Not affected\n",
      "Flags:                           fpu vme de pse tsc msr pae mce cx8 apic sep mtr\n",
      "                                 r pge mca cmov pat pse36 clflush mmx fxsr sse s\n",
      "                                 se2 ss ht syscall nx pdpe1gb rdtscp lm constant\n",
      "                                 _tsc rep_good nopl xtopology tsc_reliable nonst\n",
      "                                 op_tsc cpuid aperfmperf pni pclmulqdq vmx ssse3\n",
      "                                  fma cx16 pcid sse4_1 sse4_2 x2apic movbe popcn\n",
      "                                 t tsc_deadline_timer aes xsave avx f16c rdrand \n",
      "                                 hypervisor lahf_lm abm 3dnowprefetch invpcid_si\n",
      "                                 ngle tpr_shadow vnmi ept vpid ept_ad fsgsbase t\n",
      "                                 sc_adjust bmi1 hle avx2 smep bmi2 erms invpcid \n",
      "                                 rtm avx512f avx512dq rdseed adx smap avx512ifma\n",
      "                                  clflushopt clwb avx512cd sha_ni avx512bw avx51\n",
      "                                 2vl xsaveopt xsavec xgetbv1 xsaves avx512vbmi u\n",
      "                                 mip avx512_vbmi2 gfni vaes vpclmulqdq avx512_vn\n",
      "                                 ni avx512_bitalg avx512_vpopcntdq la57 rdpid fs\n",
      "                                 rm arch_capabilities\n"
     ]
    }
   ],
   "source": [
    "!lscpu"
   ]
  },
  {
   "cell_type": "code",
   "execution_count": 1,
   "id": "5edcba54-da28-491f-a491-5b93873f9f59",
   "metadata": {},
   "outputs": [],
   "source": [
    "import pandas as pd\n",
    "import numpy as np"
   ]
  },
  {
   "cell_type": "code",
   "execution_count": 2,
   "id": "5ac5adc3-f021-45d6-afa0-fdeaacd99179",
   "metadata": {},
   "outputs": [],
   "source": [
    "df = pd.read_parquet(\"1M_rows_dataset_sample.parquet\")"
   ]
  },
  {
   "cell_type": "code",
   "execution_count": 3,
   "id": "b1c0e203-cc11-49c0-b058-e71f5ad47e01",
   "metadata": {},
   "outputs": [
    {
     "data": {
      "text/html": [
       "<div>\n",
       "<style scoped>\n",
       "    .dataframe tbody tr th:only-of-type {\n",
       "        vertical-align: middle;\n",
       "    }\n",
       "\n",
       "    .dataframe tbody tr th {\n",
       "        vertical-align: top;\n",
       "    }\n",
       "\n",
       "    .dataframe thead th {\n",
       "        text-align: right;\n",
       "    }\n",
       "</style>\n",
       "<table border=\"1\" class=\"dataframe\">\n",
       "  <thead>\n",
       "    <tr style=\"text-align: right;\">\n",
       "      <th></th>\n",
       "      <th>tweet_id</th>\n",
       "      <th>impressions</th>\n",
       "      <th>tweet_date_time</th>\n",
       "      <th>date</th>\n",
       "      <th>time</th>\n",
       "      <th>user_id</th>\n",
       "      <th>url</th>\n",
       "      <th>publication_title</th>\n",
       "      <th>ad_fontes_bias</th>\n",
       "      <th>ad_fontes_reliability</th>\n",
       "      <th>domain</th>\n",
       "    </tr>\n",
       "  </thead>\n",
       "  <tbody>\n",
       "    <tr>\n",
       "      <th>0</th>\n",
       "      <td>1</td>\n",
       "      <td>9029</td>\n",
       "      <td>2021-03-21 06:29:10</td>\n",
       "      <td>2021-03-21</td>\n",
       "      <td>06:29:10</td>\n",
       "      <td>92256</td>\n",
       "      <td>https://www.aljazeera.com/news/2019/04/trump-v...</td>\n",
       "      <td>Al Jazeera</td>\n",
       "      <td>-0.75</td>\n",
       "      <td>48.0</td>\n",
       "      <td>.aljazeera.com</td>\n",
       "    </tr>\n",
       "    <tr>\n",
       "      <th>1</th>\n",
       "      <td>1</td>\n",
       "      <td>9029</td>\n",
       "      <td>2021-03-21 06:29:10</td>\n",
       "      <td>2021-03-21</td>\n",
       "      <td>06:29:10</td>\n",
       "      <td>418264</td>\n",
       "      <td>https://www.aljazeera.com/news/2019/04/trump-v...</td>\n",
       "      <td>Al Jazeera</td>\n",
       "      <td>-0.75</td>\n",
       "      <td>48.0</td>\n",
       "      <td>.aljazeera.com</td>\n",
       "    </tr>\n",
       "    <tr>\n",
       "      <th>2</th>\n",
       "      <td>1</td>\n",
       "      <td>9029</td>\n",
       "      <td>2021-03-21 06:29:10</td>\n",
       "      <td>2021-03-21</td>\n",
       "      <td>06:29:10</td>\n",
       "      <td>195053</td>\n",
       "      <td>https://www.aljazeera.com/news/2019/04/trump-v...</td>\n",
       "      <td>Al Jazeera</td>\n",
       "      <td>-0.75</td>\n",
       "      <td>48.0</td>\n",
       "      <td>.aljazeera.com</td>\n",
       "    </tr>\n",
       "    <tr>\n",
       "      <th>3</th>\n",
       "      <td>1</td>\n",
       "      <td>9029</td>\n",
       "      <td>2021-03-21 06:29:10</td>\n",
       "      <td>2021-03-21</td>\n",
       "      <td>06:29:10</td>\n",
       "      <td>590420</td>\n",
       "      <td>https://www.aljazeera.com/news/2019/04/trump-v...</td>\n",
       "      <td>Al Jazeera</td>\n",
       "      <td>-0.75</td>\n",
       "      <td>48.0</td>\n",
       "      <td>.aljazeera.com</td>\n",
       "    </tr>\n",
       "    <tr>\n",
       "      <th>4</th>\n",
       "      <td>1</td>\n",
       "      <td>9029</td>\n",
       "      <td>2021-03-21 06:29:10</td>\n",
       "      <td>2021-03-21</td>\n",
       "      <td>06:29:10</td>\n",
       "      <td>602475</td>\n",
       "      <td>https://www.aljazeera.com/news/2019/04/trump-v...</td>\n",
       "      <td>Al Jazeera</td>\n",
       "      <td>-0.75</td>\n",
       "      <td>48.0</td>\n",
       "      <td>.aljazeera.com</td>\n",
       "    </tr>\n",
       "  </tbody>\n",
       "</table>\n",
       "</div>"
      ],
      "text/plain": [
       "   tweet_id  impressions     tweet_date_time        date      time  user_id  \\\n",
       "0         1         9029 2021-03-21 06:29:10  2021-03-21  06:29:10    92256   \n",
       "1         1         9029 2021-03-21 06:29:10  2021-03-21  06:29:10   418264   \n",
       "2         1         9029 2021-03-21 06:29:10  2021-03-21  06:29:10   195053   \n",
       "3         1         9029 2021-03-21 06:29:10  2021-03-21  06:29:10   590420   \n",
       "4         1         9029 2021-03-21 06:29:10  2021-03-21  06:29:10   602475   \n",
       "\n",
       "                                                 url publication_title  \\\n",
       "0  https://www.aljazeera.com/news/2019/04/trump-v...        Al Jazeera   \n",
       "1  https://www.aljazeera.com/news/2019/04/trump-v...        Al Jazeera   \n",
       "2  https://www.aljazeera.com/news/2019/04/trump-v...        Al Jazeera   \n",
       "3  https://www.aljazeera.com/news/2019/04/trump-v...        Al Jazeera   \n",
       "4  https://www.aljazeera.com/news/2019/04/trump-v...        Al Jazeera   \n",
       "\n",
       "   ad_fontes_bias  ad_fontes_reliability          domain  \n",
       "0           -0.75                   48.0  .aljazeera.com  \n",
       "1           -0.75                   48.0  .aljazeera.com  \n",
       "2           -0.75                   48.0  .aljazeera.com  \n",
       "3           -0.75                   48.0  .aljazeera.com  \n",
       "4           -0.75                   48.0  .aljazeera.com  "
      ]
     },
     "execution_count": 3,
     "metadata": {},
     "output_type": "execute_result"
    }
   ],
   "source": [
    "df.head()"
   ]
  },
  {
   "cell_type": "code",
   "execution_count": 4,
   "id": "253ebeb7-5248-4d27-90ec-ec384a36dfa5",
   "metadata": {},
   "outputs": [
    {
     "name": "stdout",
     "output_type": "stream",
     "text": [
      "2.41 µs ± 14 ns per loop (mean ± std. dev. of 7 runs, 100,000 loops each)\n"
     ]
    }
   ],
   "source": [
    "%%timeit\n",
    "data_subject_array = df['user_id'].to_numpy()"
   ]
  },
  {
   "cell_type": "code",
   "execution_count": 34,
   "id": "a4524829-b116-40f8-baba-af4034f7adfb",
   "metadata": {},
   "outputs": [],
   "source": [
    "from syft.core.adp.entity import DataSubject"
   ]
  },
  {
   "cell_type": "code",
   "execution_count": 36,
   "id": "beec06db-0e53-4326-8f34-14d888d2664a",
   "metadata": {},
   "outputs": [
    {
     "data": {
      "text/plain": [
       "1.0"
      ]
     },
     "execution_count": 36,
     "metadata": {},
     "output_type": "execute_result"
    }
   ],
   "source": [
    "df.shape[0]/1e6"
   ]
  },
  {
   "cell_type": "code",
   "execution_count": 38,
   "id": "846a0b72-2edb-4398-8fa3-56f193d4e75f",
   "metadata": {},
   "outputs": [
    {
     "name": "stdout",
     "output_type": "stream",
     "text": [
      "CPU times: user 11min 11s, sys: 1min 56s, total: 13min 8s\n",
      "Wall time: 13min 8s\n"
     ]
    }
   ],
   "source": [
    "%%time\n",
    "old_method_entities = [DataSubject(str(i)) for i in bil_row['user_id']]"
   ]
  },
  {
   "cell_type": "markdown",
   "id": "5c29ba09-48c9-48ca-89dd-57aa0afdd6fa",
   "metadata": {},
   "source": [
    "### Ran the cell below for 4 hours and it still didn't complete- this shows the problems with the current implementation"
   ]
  },
  {
   "cell_type": "code",
   "execution_count": 41,
   "id": "c31d7146-218d-4a0d-9dd1-59f9cc330825",
   "metadata": {},
   "outputs": [
    {
     "ename": "KeyboardInterrupt",
     "evalue": "",
     "output_type": "error",
     "traceback": [
      "\u001b[0;31m---------------------------------------------------------------------------\u001b[0m",
      "\u001b[0;31mKeyboardInterrupt\u001b[0m                         Traceback (most recent call last)",
      "File \u001b[0;32m<timed exec>:1\u001b[0m, in \u001b[0;36m<module>\u001b[0;34m\u001b[0m\n",
      "File \u001b[0;32m~/PySyft/packages/syft/src/syft/core/adp/entity_list.py:74\u001b[0m, in \u001b[0;36mEntityList.from_objs\u001b[0;34m(entities)\u001b[0m\n\u001b[1;32m     72\u001b[0m \u001b[38;5;28;01mif\u001b[39;00m \u001b[38;5;28misinstance\u001b[39m(entities, \u001b[38;5;28mlist\u001b[39m):\n\u001b[1;32m     73\u001b[0m     entities \u001b[38;5;241m=\u001b[39m np\u001b[38;5;241m.\u001b[39marray(entities)\n\u001b[0;32m---> 74\u001b[0m one_hot_lookup, entities_indexed \u001b[38;5;241m=\u001b[39m \u001b[43mnp\u001b[49m\u001b[38;5;241;43m.\u001b[39;49m\u001b[43munique\u001b[49m\u001b[43m(\u001b[49m\u001b[43mentities\u001b[49m\u001b[43m,\u001b[49m\u001b[43m \u001b[49m\u001b[43mreturn_inverse\u001b[49m\u001b[38;5;241;43m=\u001b[39;49m\u001b[38;5;28;43;01mTrue\u001b[39;49;00m\u001b[43m)\u001b[49m\n\u001b[1;32m     76\u001b[0m \u001b[38;5;28;01mreturn\u001b[39;00m DataSubjectList(one_hot_lookup, entities_indexed)\n",
      "File \u001b[0;32m<__array_function__ internals>:180\u001b[0m, in \u001b[0;36munique\u001b[0;34m(*args, **kwargs)\u001b[0m\n",
      "File \u001b[0;32m~/anaconda3/envs/syft_env/lib/python3.9/site-packages/numpy/lib/arraysetops.py:272\u001b[0m, in \u001b[0;36munique\u001b[0;34m(ar, return_index, return_inverse, return_counts, axis)\u001b[0m\n\u001b[1;32m    270\u001b[0m ar \u001b[38;5;241m=\u001b[39m np\u001b[38;5;241m.\u001b[39masanyarray(ar)\n\u001b[1;32m    271\u001b[0m \u001b[38;5;28;01mif\u001b[39;00m axis \u001b[38;5;129;01mis\u001b[39;00m \u001b[38;5;28;01mNone\u001b[39;00m:\n\u001b[0;32m--> 272\u001b[0m     ret \u001b[38;5;241m=\u001b[39m \u001b[43m_unique1d\u001b[49m\u001b[43m(\u001b[49m\u001b[43mar\u001b[49m\u001b[43m,\u001b[49m\u001b[43m \u001b[49m\u001b[43mreturn_index\u001b[49m\u001b[43m,\u001b[49m\u001b[43m \u001b[49m\u001b[43mreturn_inverse\u001b[49m\u001b[43m,\u001b[49m\u001b[43m \u001b[49m\u001b[43mreturn_counts\u001b[49m\u001b[43m)\u001b[49m\n\u001b[1;32m    273\u001b[0m     \u001b[38;5;28;01mreturn\u001b[39;00m _unpack_tuple(ret)\n\u001b[1;32m    275\u001b[0m \u001b[38;5;66;03m# axis was specified and not None\u001b[39;00m\n",
      "File \u001b[0;32m~/anaconda3/envs/syft_env/lib/python3.9/site-packages/numpy/lib/arraysetops.py:330\u001b[0m, in \u001b[0;36m_unique1d\u001b[0;34m(ar, return_index, return_inverse, return_counts)\u001b[0m\n\u001b[1;32m    327\u001b[0m optional_indices \u001b[38;5;241m=\u001b[39m return_index \u001b[38;5;129;01mor\u001b[39;00m return_inverse\n\u001b[1;32m    329\u001b[0m \u001b[38;5;28;01mif\u001b[39;00m optional_indices:\n\u001b[0;32m--> 330\u001b[0m     perm \u001b[38;5;241m=\u001b[39m \u001b[43mar\u001b[49m\u001b[38;5;241;43m.\u001b[39;49m\u001b[43margsort\u001b[49m\u001b[43m(\u001b[49m\u001b[43mkind\u001b[49m\u001b[38;5;241;43m=\u001b[39;49m\u001b[38;5;124;43m'\u001b[39;49m\u001b[38;5;124;43mmergesort\u001b[39;49m\u001b[38;5;124;43m'\u001b[39;49m\u001b[43m \u001b[49m\u001b[38;5;28;43;01mif\u001b[39;49;00m\u001b[43m \u001b[49m\u001b[43mreturn_index\u001b[49m\u001b[43m \u001b[49m\u001b[38;5;28;43;01melse\u001b[39;49;00m\u001b[43m \u001b[49m\u001b[38;5;124;43m'\u001b[39;49m\u001b[38;5;124;43mquicksort\u001b[39;49m\u001b[38;5;124;43m'\u001b[39;49m\u001b[43m)\u001b[49m\n\u001b[1;32m    331\u001b[0m     aux \u001b[38;5;241m=\u001b[39m ar[perm]\n\u001b[1;32m    332\u001b[0m \u001b[38;5;28;01melse\u001b[39;00m:\n",
      "File \u001b[0;32m~/PySyft/packages/syft/src/syft/core/adp/datasubject.py:72\u001b[0m, in \u001b[0;36mEntity.__lt__\u001b[0;34m(self, other)\u001b[0m\n\u001b[1;32m     71\u001b[0m \u001b[38;5;28;01mdef\u001b[39;00m \u001b[38;5;21m__lt__\u001b[39m(\u001b[38;5;28mself\u001b[39m, other: Any) \u001b[38;5;241m-\u001b[39m\u001b[38;5;241m>\u001b[39m \u001b[38;5;28mbool\u001b[39m:\n\u001b[0;32m---> 72\u001b[0m     \u001b[38;5;28;01mreturn\u001b[39;00m \u001b[38;5;28;43mself\u001b[39;49m\u001b[38;5;241;43m.\u001b[39;49m\u001b[43mname\u001b[49m \u001b[38;5;241m<\u001b[39m other\u001b[38;5;241m.\u001b[39mname\n",
      "\u001b[0;31mKeyboardInterrupt\u001b[0m: "
     ]
    }
   ],
   "source": [
    "%%time\n",
    "old_entity_list = DataSubjectList.from_objs(old_method_entities)"
   ]
  },
  {
   "cell_type": "markdown",
   "id": "88a538b6-8b3d-47f5-a0d3-9dc991c80794",
   "metadata": {},
   "source": [
    "### Try with bigger DF"
   ]
  },
  {
   "cell_type": "code",
   "execution_count": 7,
   "id": "a3d625b2-3838-458a-a7ab-e50325f3bd8b",
   "metadata": {},
   "outputs": [],
   "source": [
    "from time import time\n",
    "\n",
    "t0 = time()\n",
    "bil_row = pd.concat([df] * 1000)\n",
    "tf = time() - t0"
   ]
  },
  {
   "cell_type": "code",
   "execution_count": 8,
   "id": "76ecbb26-0c87-4479-8f7a-9d416970effa",
   "metadata": {},
   "outputs": [
    {
     "name": "stdout",
     "output_type": "stream",
     "text": [
      "131.64065289497375\n"
     ]
    }
   ],
   "source": [
    "print(tf)"
   ]
  },
  {
   "cell_type": "code",
   "execution_count": 9,
   "id": "8c70cde9-dd88-43de-aff1-3b5266420c5e",
   "metadata": {},
   "outputs": [
    {
     "name": "stdout",
     "output_type": "stream",
     "text": [
      "0.0003299713134765625\n"
     ]
    }
   ],
   "source": [
    "t0 = time()\n",
    "billion_entities = bil_row['user_id'].to_numpy()\n",
    "tf = time() - t0\n",
    "print(tf)"
   ]
  },
  {
   "cell_type": "code",
   "execution_count": 10,
   "id": "cc06ceb8-109b-48fb-9f1c-0373ac3bb1a5",
   "metadata": {},
   "outputs": [
    {
     "data": {
      "text/plain": [
       "1.0"
      ]
     },
     "execution_count": 10,
     "metadata": {},
     "output_type": "execute_result"
    }
   ],
   "source": [
    "billion_entities.shape[0]/1e9"
   ]
  },
  {
   "cell_type": "markdown",
   "id": "32cdb525-346b-440d-af3f-13afd9490e7e",
   "metadata": {},
   "source": [
    "This line of code will take a huge amount of time and is what we're trying to avoid"
   ]
  },
  {
   "cell_type": "code",
   "execution_count": 12,
   "id": "84cd4271-b97f-4c91-9740-fe84cc46ebfb",
   "metadata": {},
   "outputs": [
    {
     "name": "stdout",
     "output_type": "stream",
     "text": [
      "CPU times: user 3min 57s, sys: 7.52 s, total: 4min 5s\n",
      "Wall time: 4min 5s\n"
     ]
    }
   ],
   "source": [
    "%%time\n",
    "one_hot_lookup, entities_indexed = np.unique(billion_entities, return_inverse=True)"
   ]
  },
  {
   "cell_type": "code",
   "execution_count": 13,
   "id": "06dae012-a850-49ad-a5c3-c14446364b0c",
   "metadata": {},
   "outputs": [
    {
     "data": {
      "text/plain": [
       "array([ 92256, 418264, 195053, ..., 394451, 457104, 654218])"
      ]
     },
     "execution_count": 13,
     "metadata": {},
     "output_type": "execute_result"
    }
   ],
   "source": [
    "billion_entities"
   ]
  },
  {
   "cell_type": "code",
   "execution_count": 14,
   "id": "1ca8f1e0-bf10-4e3b-8266-04e9f7faeed2",
   "metadata": {},
   "outputs": [
    {
     "data": {
      "text/plain": [
       "array([     1,      5,      9, ..., 699986, 699992, 699994])"
      ]
     },
     "execution_count": 14,
     "metadata": {},
     "output_type": "execute_result"
    }
   ],
   "source": [
    "one_hot_lookup"
   ]
  },
  {
   "cell_type": "code",
   "execution_count": 15,
   "id": "7ecd9cbf-9424-44e1-adc4-b45aeeace74b",
   "metadata": {},
   "outputs": [
    {
     "data": {
      "text/plain": [
       "173730"
      ]
     },
     "execution_count": 15,
     "metadata": {},
     "output_type": "execute_result"
    }
   ],
   "source": [
    "len(one_hot_lookup)"
   ]
  },
  {
   "cell_type": "markdown",
   "id": "8377325e-b985-400e-b4b0-107652270c79",
   "metadata": {},
   "source": [
    "## Comparison\n",
    "- np.unique: which returns a sorted np array of unique values\n",
    "\n",
    "vs\n",
    "\n",
    "- pandas.df.unique() followed by np.sort(): which together returns a sorted np array of unique values"
   ]
  },
  {
   "cell_type": "code",
   "execution_count": 20,
   "id": "31251692-24c0-4cc7-b085-93ee7bebd4dd",
   "metadata": {},
   "outputs": [
    {
     "name": "stdout",
     "output_type": "stream",
     "text": [
      "CPU times: user 6.15 s, sys: 3.5 ms, total: 6.15 s\n",
      "Wall time: 6.15 s\n"
     ]
    }
   ],
   "source": [
    "%%time\n",
    "unique_data_subjects = bil_row['user_id'].unique()"
   ]
  },
  {
   "cell_type": "code",
   "execution_count": 21,
   "id": "e54b38ab-681b-4ad6-98e6-8efea0d6ff99",
   "metadata": {},
   "outputs": [
    {
     "data": {
      "text/plain": [
       "array([ 92256, 418264, 195053, ..., 580305, 341981, 167206])"
      ]
     },
     "execution_count": 21,
     "metadata": {},
     "output_type": "execute_result"
    }
   ],
   "source": [
    "unique_data_subjects"
   ]
  },
  {
   "cell_type": "code",
   "execution_count": 22,
   "id": "27a4ee55-2288-49c3-a721-14b5ba0799d7",
   "metadata": {},
   "outputs": [
    {
     "data": {
      "text/plain": [
       "173730"
      ]
     },
     "execution_count": 22,
     "metadata": {},
     "output_type": "execute_result"
    }
   ],
   "source": [
    "len(unique_data_subjects)"
   ]
  },
  {
   "cell_type": "code",
   "execution_count": 23,
   "id": "021f0f12-fda9-42ab-bd65-33bef726f4b4",
   "metadata": {},
   "outputs": [
    {
     "name": "stdout",
     "output_type": "stream",
     "text": [
      "CPU times: user 11.3 ms, sys: 0 ns, total: 11.3 ms\n",
      "Wall time: 10.6 ms\n"
     ]
    }
   ],
   "source": [
    "%%time\n",
    "sorted_unique_data_subjects = np.sort(unique_data_subjects)"
   ]
  },
  {
   "cell_type": "code",
   "execution_count": 24,
   "id": "b8a9ab47-f318-40be-b8ee-54d2ece58255",
   "metadata": {},
   "outputs": [
    {
     "data": {
      "text/plain": [
       "array([     1,      5,      9, ..., 699986, 699992, 699994])"
      ]
     },
     "execution_count": 24,
     "metadata": {},
     "output_type": "execute_result"
    }
   ],
   "source": [
    "sorted_unique_data_subjects"
   ]
  },
  {
   "cell_type": "code",
   "execution_count": 25,
   "id": "26026f94-4b48-47e3-9887-0e68d35fa160",
   "metadata": {},
   "outputs": [
    {
     "name": "stdout",
     "output_type": "stream",
     "text": [
      "CPU times: user 1min 7s, sys: 1.48 s, total: 1min 8s\n",
      "Wall time: 1min 8s\n"
     ]
    }
   ],
   "source": [
    "%%time\n",
    "unique_entities = np.unique(billion_entities)"
   ]
  },
  {
   "cell_type": "code",
   "execution_count": 26,
   "id": "41c9bb89-6f4a-45cd-a499-958fee26ec15",
   "metadata": {},
   "outputs": [
    {
     "data": {
      "text/plain": [
       "array([     1,      5,      9, ..., 699986, 699992, 699994])"
      ]
     },
     "execution_count": 26,
     "metadata": {},
     "output_type": "execute_result"
    }
   ],
   "source": [
    "unique_entities"
   ]
  },
  {
   "cell_type": "code",
   "execution_count": 28,
   "id": "4625eaea-3195-4239-98b0-33b49ddb0e72",
   "metadata": {},
   "outputs": [],
   "source": [
    "def get_entities(input_dataframe: pd.DataFrame):\n",
    "    \n",
    "    # This will be the equivalent of the DataSubjectList.entities_indexed\n",
    "    data_subjects = input_dataframe['user_id'].to_numpy()\n",
    "    \n",
    "    # This will be the equivalent of the DataSubjectList.one_hot_indexed- a sorted array of all unique entities\n",
    "    unique_data_subjects = np.sort(input_dataframe['user_id'].unique())\n",
    "    return unique_data_subjects, data_subjects"
   ]
  },
  {
   "cell_type": "code",
   "execution_count": 33,
   "id": "2892100f-9f64-4e53-b21f-3e09fca165cb",
   "metadata": {},
   "outputs": [
    {
     "name": "stdout",
     "output_type": "stream",
     "text": [
      "CPU times: user 6.22 s, sys: 0 ns, total: 6.22 s\n",
      "Wall time: 6.22 s\n"
     ]
    }
   ],
   "source": [
    "%%time\n",
    "unique_data_subjects, data_subject_array = get_entities(bil_row)\n",
    "entity_list = DataSubjectList(one_hot_lookup=unique_data_subjects, entities_indexed=data_subject_array)"
   ]
  },
  {
   "cell_type": "markdown",
   "id": "f2db059d-f0b5-4bee-8339-a800f2a7a0b5",
   "metadata": {},
   "source": [
    "## Refactor DataSubjectList to accept integers"
   ]
  },
  {
   "cell_type": "code",
   "execution_count": 44,
   "id": "a89ca38b-7ffa-4a09-b490-bd08182afc20",
   "metadata": {},
   "outputs": [],
   "source": [
    "# future\n",
    "from __future__ import annotations\n",
    "\n",
    "# stdlib\n",
    "from typing import Any\n",
    "from typing import List\n",
    "from typing import Optional\n",
    "from typing import Tuple\n",
    "from typing import Union\n",
    "\n",
    "# third party\n",
    "import numpy as np\n",
    "import pandas as pd\n",
    "\n",
    "# relative\n",
    "from syft.core.common.serde.serializable import serializable\n",
    "# from ..common.serde.serializable import serializable\n",
    "from syft.core.adp.entity import DataSubject\n",
    "# from .entity import DataSubject\n",
    "\n",
    "\n",
    "# allow us to serialize and deserialize np.arrays with strings inside as two np.arrays\n",
    "# one containing the uint8 bytes and the other the offsets between strings\n",
    "def numpyutf8tolist(string_index: Tuple[np.ndarray, np.ndarray]) -> np.ndarray:\n",
    "    string_array, index_array = string_index\n",
    "    output_bytes: bytes = string_array.astype(np.uint8).tobytes()\n",
    "    output_list = []\n",
    "    last_offset = 0\n",
    "    for offset in index_array:\n",
    "        chars = output_bytes[last_offset:offset]\n",
    "        final_string = chars.decode(\"utf-8\")\n",
    "        last_offset = offset\n",
    "        output_list.append(final_string)\n",
    "    return np.array(output_list)\n",
    "\n",
    "\n",
    "def liststrtonumpyutf8(string_list: np.ndarray) -> Tuple[np.ndarray, np.ndarray]:\n",
    "    bytes_list = []\n",
    "    indexes = []\n",
    "    offset = 0\n",
    "    for item in string_list:\n",
    "        if not isinstance(item, (DataSubject, str)):\n",
    "            raise Exception(\n",
    "                f\"DataSubjectList entities must be List[Union[str, DataSubject]]. {type(item)}\"\n",
    "            )\n",
    "        name = item if isinstance(item, str) else item.name\n",
    "        name_bytes = name.encode(\"utf-8\")\n",
    "        offset += len(name_bytes)\n",
    "        indexes.append(offset)\n",
    "        bytes_list.append(name_bytes)\n",
    "\n",
    "    np_bytes = np.frombuffer(b\"\".join(bytes_list), dtype=np.uint8)\n",
    "    np_indexes = np.array(indexes)\n",
    "    return (np_bytes, np_indexes)\n",
    "\n",
    "\n",
    "@serializable(recursive_serde=True)\n",
    "class DataSubjectList:\n",
    "    __attr_allowlist__ = (\"one_hot_lookup\", \"entities_indexed\")\n",
    "    __slots__ = (\"one_hot_lookup\", \"entities_indexed\")\n",
    "\n",
    "    # one_hot_lookup is a numpy array of unicode strings which can't be serialized\n",
    "    __serde_overrides__ = {\n",
    "        \"one_hot_lookup\": [liststrtonumpyutf8, numpyutf8tolist],\n",
    "    }\n",
    "\n",
    "    def __init__(\n",
    "        self, one_hot_lookup: List[Union[DataSubject, str]], entities_indexed: np.ndaray\n",
    "    ) -> None:\n",
    "        self.one_hot_lookup = one_hot_lookup\n",
    "        self.entities_indexed = entities_indexed\n",
    "    \n",
    "    @staticmethod\n",
    "    def from_series(entities_dataframe_slice: pd.Series) -> DataSubjectList:\n",
    "        \"\"\" Given a Pandas Series object (such as from \n",
    "        getting a column from a pandas DataFrame, return an DataSubjectList \"\"\"\n",
    "        \n",
    "        # This will be the equivalent of the DataSubjectList.entities_indexed\n",
    "        data_subjects = entities_dataframe_slice.to_numpy()\n",
    "    \n",
    "        # This will be the equivalent of the DataSubjectList.one_hot_indexed- a sorted array of all unique entities\n",
    "        unique_data_subjects = np.sort(entities_dataframe_slice.unique())\n",
    "        return DataSubjectList(one_hot_lookup=unique_data_subjects, entities_indexed=data_subjects)\n",
    "\n",
    "    @staticmethod\n",
    "    def from_objs(entities: Union[np.ndarray, list]) -> DataSubjectList:\n",
    "        if isinstance(entities, list):\n",
    "            entities = np.array(entities)\n",
    "        one_hot_lookup, entities_indexed = np.unique(entities, return_inverse=True)\n",
    "\n",
    "        return DataSubjectList(one_hot_lookup, entities_indexed)\n",
    "    \n",
    "\n",
    "    def __getitem__(self, key: Union[int, slice, str]) -> Union[DataSubject, str]:\n",
    "        return self.one_hot_lookup[self.entities_indexed[key]]\n",
    "\n",
    "    def copy(self, order: Optional[str] = \"K\") -> DataSubjectList:\n",
    "        return DataSubjectList(\n",
    "            self.one_hot_lookup.copy(), self.entities_indexed.copy(order=order)\n",
    "        )\n",
    "\n",
    "    def __len__(self) -> int:\n",
    "        return len(self.entities_indexed)\n",
    "\n",
    "    def __eq__(self, other: Any) -> bool:\n",
    "        if isinstance(other, DataSubjectList):\n",
    "            if (self.entities_indexed == other.entities_indexed).all() and (  # type: ignore\n",
    "                self.one_hot_lookup == other.one_hot_lookup\n",
    "            ).all():\n",
    "                return True\n",
    "            return False\n",
    "        return self == other\n",
    "\n",
    "    def sum(self):\n",
    "        # If sum is used without any arguments then the result is always a singular value\n",
    "        return DataSubjectList(\n",
    "            self.one_hot_lookup.copy(), self.entities_indexed.reshape(1, len(self.entities_indexed))\n",
    "        )"
   ]
  },
  {
   "cell_type": "code",
   "execution_count": 46,
   "id": "adbfc994-92c0-4f6e-a27f-fde1b001aa26",
   "metadata": {},
   "outputs": [
    {
     "name": "stdout",
     "output_type": "stream",
     "text": [
      "CPU times: user 6.19 s, sys: 284 µs, total: 6.19 s\n",
      "Wall time: 6.19 s\n"
     ]
    }
   ],
   "source": [
    "%%time\n",
    "new_entity_list = DataSubjectList.from_series(bil_row['user_id'])"
   ]
  },
  {
   "cell_type": "code",
   "execution_count": null,
   "id": "dacaf10b-a522-4c06-adf0-4adbf73ca788",
   "metadata": {},
   "outputs": [],
   "source": []
  }
 ],
 "metadata": {
  "kernelspec": {
   "display_name": "Python 3 (ipykernel)",
   "language": "python",
   "name": "python3"
  },
  "language_info": {
   "codemirror_mode": {
    "name": "ipython",
    "version": 3
   },
   "file_extension": ".py",
   "mimetype": "text/x-python",
   "name": "python",
   "nbconvert_exporter": "python",
   "pygments_lexer": "ipython3",
   "version": "3.9.7"
  }
 },
 "nbformat": 4,
 "nbformat_minor": 5
}

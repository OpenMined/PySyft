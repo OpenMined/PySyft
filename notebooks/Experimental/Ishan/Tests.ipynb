{
 "cells": [
  {
   "cell_type": "code",
   "execution_count": 1,
   "id": "ad5410bf-1ffb-42e0-a4d1-79eb91999599",
   "metadata": {},
   "outputs": [],
   "source": [
    "from syft.core.adp.data_subject_ledger import DataSubjectLedger as DSL, convert_constants_to_indices"
   ]
  },
  {
   "cell_type": "code",
   "execution_count": 2,
   "id": "426cab9d-40c4-4d5c-aa7b-6816897eb4ba",
   "metadata": {},
   "outputs": [],
   "source": [
    "ledger = DSL()"
   ]
  },
  {
   "cell_type": "code",
   "execution_count": 3,
   "id": "93d4191a-1e8a-49f7-a982-47fd6a56e961",
   "metadata": {},
   "outputs": [],
   "source": [
    "assert ledger._cache_constant2epsilon[0] == 0.05372712063485988"
   ]
  },
  {
   "cell_type": "code",
   "execution_count": 4,
   "id": "c9be26d6-077c-4e2b-9922-dcf4fae967f0",
   "metadata": {},
   "outputs": [
    {
     "data": {
      "text/plain": [
       "True"
      ]
     },
     "execution_count": 4,
     "metadata": {},
     "output_type": "execute_result"
    }
   ],
   "source": [
    "ledger._cache_constant2epsilon[1] == 0.07773597369831031"
   ]
  },
  {
   "cell_type": "code",
   "execution_count": 5,
   "id": "c8d0019f-0271-44f0-b759-f3932615d2d3",
   "metadata": {},
   "outputs": [],
   "source": [
    "import numpy as np"
   ]
  },
  {
   "cell_type": "code",
   "execution_count": 6,
   "id": "aafd5937-2f03-4f7c-b178-41808f23e0c1",
   "metadata": {},
   "outputs": [
    {
     "data": {
      "text/plain": [
       "array([ 7.76621663, 11.68859625, 14.94791916])"
      ]
     },
     "execution_count": 6,
     "metadata": {},
     "output_type": "execute_result"
    }
   ],
   "source": [
    "ledger._cache_constant2epsilon.take(convert_constants_to_indices(np.array([1,2,3])))"
   ]
  },
  {
   "cell_type": "code",
   "execution_count": 7,
   "id": "b104345f-cf1c-4bf9-9f0b-0c74f76d72df",
   "metadata": {},
   "outputs": [
    {
     "data": {
      "text/plain": [
       "True"
      ]
     },
     "execution_count": 7,
     "metadata": {},
     "output_type": "execute_result"
    }
   ],
   "source": [
    "ledger._cache_constant2epsilon.take(convert_constants_to_indices(np.array([700_000])))[0] == 706213.1816144075"
   ]
  },
  {
   "cell_type": "code",
   "execution_count": 8,
   "id": "abcc4bf2-0ee5-4cf8-9e8d-1a8809aff8c3",
   "metadata": {},
   "outputs": [
    {
     "data": {
      "text/plain": [
       "706213.1816144075"
      ]
     },
     "execution_count": 8,
     "metadata": {},
     "output_type": "execute_result"
    }
   ],
   "source": [
    "ledger._cache_constant2epsilon.take(convert_constants_to_indices(np.array([700_000])))[0]"
   ]
  },
  {
   "cell_type": "code",
   "execution_count": 9,
   "id": "8b3b7e77-a656-46e3-a709-06ed28302027",
   "metadata": {},
   "outputs": [
    {
     "data": {
      "text/plain": [
       "706263.403703397"
      ]
     },
     "execution_count": 9,
     "metadata": {},
     "output_type": "execute_result"
    }
   ],
   "source": [
    "ledger._cache_constant2epsilon[-1]"
   ]
  },
  {
   "cell_type": "code",
   "execution_count": 10,
   "id": "08505379-417c-4ae3-a730-4cd8823d1c53",
   "metadata": {},
   "outputs": [
    {
     "data": {
      "text/plain": [
       "102.20502965934796"
      ]
     },
     "execution_count": 10,
     "metadata": {},
     "output_type": "execute_result"
    }
   ],
   "source": [
    "ledger._cache_constant2epsilon.take(convert_constants_to_indices(np.array([51])))[0] #== 100.68990516105825"
   ]
  },
  {
   "cell_type": "code",
   "execution_count": 11,
   "id": "0d17379d-dd68-4bc7-8e37-b72e04f8dba4",
   "metadata": {},
   "outputs": [
    {
     "data": {
      "text/plain": [
       "True"
      ]
     },
     "execution_count": 11,
     "metadata": {},
     "output_type": "execute_result"
    }
   ],
   "source": [
    "len(ledger._cache_constant2epsilon) >= 1_200_000"
   ]
  },
  {
   "cell_type": "code",
   "execution_count": 12,
   "id": "4767b061-2129-4ce9-9d60-17f52f9f3afa",
   "metadata": {},
   "outputs": [
    {
     "data": {
      "text/plain": [
       "1e-06"
      ]
     },
     "execution_count": 12,
     "metadata": {},
     "output_type": "execute_result"
    }
   ],
   "source": [
    "ledger.delta"
   ]
  },
  {
   "cell_type": "code",
   "execution_count": 13,
   "id": "77e3a5a6-499d-43fc-bd3e-ccb213d6ceea",
   "metadata": {},
   "outputs": [],
   "source": [
    "assert ledger.delta == 1e-6"
   ]
  },
  {
   "cell_type": "code",
   "execution_count": 15,
   "id": "eb368c95-3955-455a-916a-d57a8102fb6a",
   "metadata": {},
   "outputs": [
    {
     "data": {
      "text/plain": [
       "True"
      ]
     },
     "execution_count": 15,
     "metadata": {},
     "output_type": "execute_result"
    }
   ],
   "source": [
    "ledger._cache_constant2epsilon.all()"
   ]
  },
  {
   "cell_type": "code",
   "execution_count": 16,
   "id": "6d9605b3-9f72-4768-92be-3c4342b88f92",
   "metadata": {},
   "outputs": [
    {
     "ename": "ValueError",
     "evalue": "The truth value of an array with more than one element is ambiguous. Use a.any() or a.all()",
     "output_type": "error",
     "traceback": [
      "\u001b[0;31m---------------------------------------------------------------------------\u001b[0m",
      "\u001b[0;31mValueError\u001b[0m                                Traceback (most recent call last)",
      "\u001b[0;32m/tmp/ipykernel_16321/2616072170.py\u001b[0m in \u001b[0;36m<module>\u001b[0;34m\u001b[0m\n\u001b[0;32m----> 1\u001b[0;31m \u001b[0;32massert\u001b[0m \u001b[0mledger\u001b[0m\u001b[0;34m.\u001b[0m\u001b[0m_cache_constant2epsilon\u001b[0m \u001b[0;34m>\u001b[0m \u001b[0;36m0\u001b[0m\u001b[0;34m\u001b[0m\u001b[0;34m\u001b[0m\u001b[0m\n\u001b[0m",
      "\u001b[0;31mValueError\u001b[0m: The truth value of an array with more than one element is ambiguous. Use a.any() or a.all()"
     ]
    }
   ],
   "source": [
    "assert ledger._cache_constant2epsilon > 0"
   ]
  },
  {
   "cell_type": "code",
   "execution_count": 22,
   "id": "fe66c6ae-8284-4bb4-a311-82bfa512a8e8",
   "metadata": {},
   "outputs": [
    {
     "data": {
      "text/plain": [
       "True"
      ]
     },
     "execution_count": 22,
     "metadata": {},
     "output_type": "execute_result"
    }
   ],
   "source": [
    "ledger._rdp_constants == {}"
   ]
  },
  {
   "cell_type": "code",
   "execution_count": 23,
   "id": "476d2883-b87c-4d63-8992-52b356cf929e",
   "metadata": {},
   "outputs": [],
   "source": [
    "a = {\n",
    "    \"Bob\": 5,\n",
    "    \"Alice\": 7,\n",
    "    \"Cheese\": 11\n",
    "}"
   ]
  },
  {
   "cell_type": "code",
   "execution_count": 24,
   "id": "25120cd6-0e87-436b-b2e2-64dc5e8ec3da",
   "metadata": {},
   "outputs": [],
   "source": [
    "ledger.update_rdp_constants(a)"
   ]
  },
  {
   "cell_type": "code",
   "execution_count": 25,
   "id": "bc0a3d59-3871-4c52-a131-c0e617f96440",
   "metadata": {},
   "outputs": [
    {
     "data": {
      "text/plain": [
       "{'Bob': 5, 'Alice': 7, 'Cheese': 11}"
      ]
     },
     "execution_count": 25,
     "metadata": {},
     "output_type": "execute_result"
    }
   ],
   "source": [
    "ledger._rdp_constants"
   ]
  },
  {
   "cell_type": "code",
   "execution_count": 26,
   "id": "0c5b9fc7-b868-44d1-aa08-df2cc5a799b7",
   "metadata": {},
   "outputs": [
    {
     "name": "stdout",
     "output_type": "stream",
     "text": [
      "Bob\n",
      "Alice\n",
      "Cheese\n"
     ]
    }
   ],
   "source": [
    "for i in a:\n",
    "    print(i)"
   ]
  },
  {
   "cell_type": "code",
   "execution_count": 27,
   "id": "c8350c7f-c62a-4586-adf5-4b5e2b2b5832",
   "metadata": {},
   "outputs": [],
   "source": [
    "b = a"
   ]
  },
  {
   "cell_type": "code",
   "execution_count": 28,
   "id": "13a8011e-20dd-4911-ba59-a7a22dc66cbd",
   "metadata": {},
   "outputs": [],
   "source": [
    "ledger.update_rdp_constants(b)"
   ]
  },
  {
   "cell_type": "code",
   "execution_count": 29,
   "id": "0a368ae2-5da1-4d37-b8a9-1e6abd327878",
   "metadata": {},
   "outputs": [
    {
     "data": {
      "text/plain": [
       "{'Bob': 10, 'Alice': 14, 'Cheese': 22}"
      ]
     },
     "execution_count": 29,
     "metadata": {},
     "output_type": "execute_result"
    }
   ],
   "source": [
    "ledger._rdp_constants"
   ]
  },
  {
   "cell_type": "code",
   "execution_count": 30,
   "id": "6baedc21-6d92-410e-8f91-cd569cdce6fd",
   "metadata": {},
   "outputs": [],
   "source": [
    "a = {\n",
    "    \"Bob\": -5,\n",
    "    \"Alice\": -7,\n",
    "    \"Cheese\": -11\n",
    "}"
   ]
  },
  {
   "cell_type": "code",
   "execution_count": 31,
   "id": "04188b01-9e4a-45ea-9f1f-df423696d357",
   "metadata": {},
   "outputs": [],
   "source": [
    "ledger.update_rdp_constants(a)"
   ]
  },
  {
   "cell_type": "code",
   "execution_count": 32,
   "id": "b7855467-0a45-494b-930b-7243fd2690ae",
   "metadata": {},
   "outputs": [
    {
     "data": {
      "text/plain": [
       "{'Bob': 5, 'Alice': 7, 'Cheese': 11}"
      ]
     },
     "execution_count": 32,
     "metadata": {},
     "output_type": "execute_result"
    }
   ],
   "source": [
    "ledger._rdp_constants"
   ]
  },
  {
   "cell_type": "code",
   "execution_count": 33,
   "id": "290d124e-43f6-411d-827c-7283e39cb8b8",
   "metadata": {},
   "outputs": [
    {
     "data": {
      "text/plain": [
       "True"
      ]
     },
     "execution_count": 33,
     "metadata": {},
     "output_type": "execute_result"
    }
   ],
   "source": [
    "np.ones(10) is not None"
   ]
  },
  {
   "cell_type": "code",
   "execution_count": 37,
   "id": "fc2a5b33-3caf-469a-a701-2d01ac6dee35",
   "metadata": {},
   "outputs": [],
   "source": [
    "a1,a2,a3 = list(a.values())"
   ]
  },
  {
   "cell_type": "code",
   "execution_count": 38,
   "id": "2908665a-0409-4202-bcc9-336679b0a480",
   "metadata": {},
   "outputs": [
    {
     "data": {
      "text/plain": [
       "-5"
      ]
     },
     "execution_count": 38,
     "metadata": {},
     "output_type": "execute_result"
    }
   ],
   "source": [
    "a1"
   ]
  },
  {
   "cell_type": "code",
   "execution_count": 41,
   "id": "48df16b5-e532-46aa-9f9d-de78622c10b2",
   "metadata": {},
   "outputs": [
    {
     "ename": "AssertionError",
     "evalue": "",
     "output_type": "error",
     "traceback": [
      "\u001b[0;31m---------------------------------------------------------------------------\u001b[0m",
      "\u001b[0;31mAssertionError\u001b[0m                            Traceback (most recent call last)",
      "\u001b[0;32m/tmp/ipykernel_16321/1427772132.py\u001b[0m in \u001b[0;36m<module>\u001b[0;34m\u001b[0m\n\u001b[1;32m      1\u001b[0m \u001b[0mrdp1\u001b[0m \u001b[0;34m=\u001b[0m \u001b[0mrdp2\u001b[0m \u001b[0;34m=\u001b[0m \u001b[0mnp\u001b[0m\u001b[0;34m.\u001b[0m\u001b[0minf\u001b[0m\u001b[0;34m\u001b[0m\u001b[0;34m\u001b[0m\u001b[0m\n\u001b[0;32m----> 2\u001b[0;31m \u001b[0;32massert\u001b[0m \u001b[0;32mnot\u001b[0m \u001b[0many\u001b[0m\u001b[0;34m(\u001b[0m\u001b[0mnp\u001b[0m\u001b[0;34m.\u001b[0m\u001b[0misinf\u001b[0m\u001b[0;34m(\u001b[0m\u001b[0;34m[\u001b[0m\u001b[0mrdp1\u001b[0m\u001b[0;34m,\u001b[0m \u001b[0mrdp2\u001b[0m\u001b[0;34m]\u001b[0m\u001b[0;34m)\u001b[0m\u001b[0;34m)\u001b[0m\u001b[0;34m\u001b[0m\u001b[0;34m\u001b[0m\u001b[0m\n\u001b[0m\u001b[1;32m      3\u001b[0m \u001b[0;32massert\u001b[0m \u001b[0;32mnot\u001b[0m \u001b[0mnp\u001b[0m\u001b[0;34m.\u001b[0m\u001b[0misnan\u001b[0m\u001b[0;34m(\u001b[0m\u001b[0mrdp1\u001b[0m\u001b[0;34m)\u001b[0m\u001b[0;34m\u001b[0m\u001b[0;34m\u001b[0m\u001b[0m\n",
      "\u001b[0;31mAssertionError\u001b[0m: "
     ]
    }
   ],
   "source": [
    "rdp1 = rdp2 = np.inf\n",
    "assert not any(np.isinf([rdp1, rdp2]))\n",
    "assert not np.isnan(rdp1)"
   ]
  },
  {
   "cell_type": "code",
   "execution_count": 44,
   "id": "47c0f46e-4dcd-4ef9-b541-2f21aa82ff52",
   "metadata": {},
   "outputs": [],
   "source": [
    "from syft.core.adp.data_subject_ledger import RDPParams, compute_rdp_constant\n",
    "from syft.core.adp.vectorized_publish import calculate_bounds_for_mechanism"
   ]
  },
  {
   "cell_type": "code",
   "execution_count": 45,
   "id": "021ab5a1-2856-41c9-a95a-3e10a6a1ed89",
   "metadata": {},
   "outputs": [],
   "source": [
    "dataset = np.ones((5,5))*9\n",
    "minv = 0\n",
    "maxv = 10"
   ]
  },
  {
   "cell_type": "code",
   "execution_count": 47,
   "id": "59fe0673-842a-4be6-ac4e-10b6f2d03a50",
   "metadata": {},
   "outputs": [],
   "source": [
    "l2, l2b = calculate_bounds_for_mechanism(value_array=dataset, min_val_array=0, max_val_array=10)"
   ]
  },
  {
   "cell_type": "code",
   "execution_count": 49,
   "id": "058c2a70-0287-4607-b145-609789f49a64",
   "metadata": {},
   "outputs": [],
   "source": [
    "params = RDPParams(\n",
    "    sigmas=10,\n",
    "    l2_norms=l2,\n",
    "    l2_norm_bounds=l2b,\n",
    "    Ls=1\n",
    ")"
   ]
  },
  {
   "cell_type": "code",
   "execution_count": 50,
   "id": "c055e086-0fc4-47fb-bbe4-eebd06024fa9",
   "metadata": {},
   "outputs": [
    {
     "data": {
      "text/plain": [
       "DeviceArray(10.125, dtype=float64)"
      ]
     },
     "execution_count": 50,
     "metadata": {},
     "output_type": "execute_result"
    }
   ],
   "source": [
    "compute_rdp_constant(rdp_params=params, private=True)"
   ]
  },
  {
   "cell_type": "code",
   "execution_count": null,
   "id": "737350f2-c810-4f7e-9be7-8c76675726f0",
   "metadata": {},
   "outputs": [],
   "source": []
  }
 ],
 "metadata": {
  "kernelspec": {
   "display_name": "Python 3 (ipykernel)",
   "language": "python",
   "name": "python3"
  },
  "language_info": {
   "codemirror_mode": {
    "name": "ipython",
    "version": 3
   },
   "file_extension": ".py",
   "mimetype": "text/x-python",
   "name": "python",
   "nbconvert_exporter": "python",
   "pygments_lexer": "ipython3",
   "version": "3.9.7"
  }
 },
 "nbformat": 4,
 "nbformat_minor": 5
}

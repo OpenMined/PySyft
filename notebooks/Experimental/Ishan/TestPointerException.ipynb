{
 "cells": [
  {
   "cell_type": "code",
   "execution_count": 1,
   "id": "ef3bf7aa-6522-43a1-a394-cb162801b111",
   "metadata": {},
   "outputs": [],
   "source": [
    "import numpy as np"
   ]
  },
  {
   "cell_type": "code",
   "execution_count": 9,
   "id": "f03dc2ae-11b4-45bc-875b-95f10126530c",
   "metadata": {},
   "outputs": [
    {
     "data": {
      "text/plain": [
       "True"
      ]
     },
     "execution_count": 9,
     "metadata": {},
     "output_type": "execute_result"
    }
   ],
   "source": [
    "np.isnan([np.nan, np.inf, 0]).any()"
   ]
  },
  {
   "cell_type": "code",
   "execution_count": 5,
   "id": "c366b172-d9a1-410f-b63b-17acb703b14c",
   "metadata": {},
   "outputs": [],
   "source": [
    "from syft import lazyrepeatarray"
   ]
  },
  {
   "cell_type": "code",
   "execution_count": 6,
   "id": "4f819e5e-6b62-4adc-993d-e62ec060eba7",
   "metadata": {},
   "outputs": [],
   "source": [
    "mv = lazyrepeatarray(data=0, shape=(5,5))"
   ]
  },
  {
   "cell_type": "code",
   "execution_count": 7,
   "id": "3ad69af2-2a79-478a-8c1f-6639e0c51f38",
   "metadata": {},
   "outputs": [
    {
     "data": {
      "text/plain": [
       "False"
      ]
     },
     "execution_count": 7,
     "metadata": {},
     "output_type": "execute_result"
    }
   ],
   "source": [
    "np.isnan(mv.data)"
   ]
  },
  {
   "cell_type": "code",
   "execution_count": 8,
   "id": "28373a7d-90cf-4fca-8615-7de1d055d301",
   "metadata": {},
   "outputs": [
    {
     "data": {
      "text/plain": [
       "1"
      ]
     },
     "execution_count": 8,
     "metadata": {},
     "output_type": "execute_result"
    }
   ],
   "source": [
    "mv.data.size"
   ]
  },
  {
   "cell_type": "code",
   "execution_count": 10,
   "id": "a56d76ad-de72-49b9-b103-3a18b4b93242",
   "metadata": {},
   "outputs": [],
   "source": [
    "def has_nans_or_inf(min_val: lazyrepeatarray, max_val: lazyrepeatarray) -> bool:\n",
    "    raise_exception = False\n",
    "    if min_val.data.size == 1:\n",
    "        if np.isnan(min_val.data) or np.isinf(min_val.data):\n",
    "            raise_exception = True\n",
    "    else:\n",
    "        if np.isnan(min_val.data).any() or np.isnan(min_val.data).any():\n",
    "            raise_exception = True\n",
    "    \n",
    "    if max_val.data.size == 1:\n",
    "        if np.isnan(max_val.data) or np.isinf(max_val.data):\n",
    "            raise_exception = True\n",
    "    else:\n",
    "        if np.isnan(max_val.data).any() or np.isinf(max_val.data).any():\n",
    "            raise_exception = True\n",
    "    \n",
    "    return raise_exception\n"
   ]
  },
  {
   "cell_type": "code",
   "execution_count": 11,
   "id": "0ae887b9-bec0-4055-9b5c-cae6befdedb6",
   "metadata": {},
   "outputs": [
    {
     "data": {
      "text/plain": [
       "False"
      ]
     },
     "execution_count": 11,
     "metadata": {},
     "output_type": "execute_result"
    }
   ],
   "source": [
    "sh = (5,5)\n",
    "minv = lazyrepeatarray(0, sh)\n",
    "maxv = lazyrepeatarray(10, sh)\n",
    "has_nans_or_inf(minv, maxv)"
   ]
  },
  {
   "cell_type": "code",
   "execution_count": 12,
   "id": "12999376-9e60-41f2-82f7-65ed2695c2bd",
   "metadata": {},
   "outputs": [],
   "source": [
    "e = Exception(f\"I'm sorry, but our DP Privacy Accountant can't yet handle NaNs or Infinite values.\"\n",
    "                        f\"This was likely caused by dividing by zero. Please find a way to approximate your \"\n",
    "                        f\"comutation without dividing by a private value which might be zero. \"\n",
    "                        f\"\\n\"\n",
    "                        f\"This can usually be done by computing the function piecewise- by performing three \"\n",
    "                        f\"computations which are merged through masking & summing; one which addresses what happens\"\n",
    "                        f\"if the denominator is positive-definite, another if it is negative-definite, and finally\"\n",
    "                        f\"one which addresses what happens if the denominator is 0 exactly. Use comparison operators,\"\n",
    "                        f\"masking, and summing to accomplish this (not if statements- which don't work on private\"\n",
    "                        f\"values).\"\n",
    "                        f\"\\n\"\n",
    "                        f\"Again, we apologize for the inconvenience and are working to extend support to this in \"\n",
    "                        f\"future versions of PySyft.\")"
   ]
  },
  {
   "cell_type": "code",
   "execution_count": 14,
   "id": "6fa8be85-9ca5-47ef-850d-747b641afe33",
   "metadata": {},
   "outputs": [
    {
     "ename": "Exception",
     "evalue": "I'm sorry, but our DP Privacy Accountant can't yet handle NaNs or Infinite values.This was likely caused by dividing by zero. Please find a way to approximate your comutation without dividing by a private value which might be zero. \nThis can usually be done by computing the function piecewise- by performing three computations which are merged through masking & summing; one which addresses what happensif the denominator is positive-definite, another if it is negative-definite, and finallyone which addresses what happens if the denominator is 0 exactly. Use comparison operators,masking, and summing to accomplish this (not if statements- which don't work on privatevalues).\nAgain, we apologize for the inconvenience and are working to extend support to this in future versions of PySyft.",
     "output_type": "error",
     "traceback": [
      "\u001b[0;31m---------------------------------------------------------------------------\u001b[0m",
      "\u001b[0;31mException\u001b[0m                                 Traceback (most recent call last)",
      "\u001b[0;32m/tmp/ipykernel_27510/1934655291.py\u001b[0m in \u001b[0;36m<module>\u001b[0;34m\u001b[0m\n\u001b[0;32m----> 1\u001b[0;31m \u001b[0;32mraise\u001b[0m \u001b[0me\u001b[0m\u001b[0;34m\u001b[0m\u001b[0;34m\u001b[0m\u001b[0m\n\u001b[0m",
      "\u001b[0;31mException\u001b[0m: I'm sorry, but our DP Privacy Accountant can't yet handle NaNs or Infinite values.This was likely caused by dividing by zero. Please find a way to approximate your comutation without dividing by a private value which might be zero. \nThis can usually be done by computing the function piecewise- by performing three computations which are merged through masking & summing; one which addresses what happensif the denominator is positive-definite, another if it is negative-definite, and finallyone which addresses what happens if the denominator is 0 exactly. Use comparison operators,masking, and summing to accomplish this (not if statements- which don't work on privatevalues).\nAgain, we apologize for the inconvenience and are working to extend support to this in future versions of PySyft."
     ]
    }
   ],
   "source": [
    "raise e"
   ]
  },
  {
   "cell_type": "code",
   "execution_count": 17,
   "id": "d325adf2-619a-478f-ab13-259782f9d118",
   "metadata": {},
   "outputs": [],
   "source": [
    "e = Exception(\n",
    "            \"I'm sorry, but our DP Privacy Accountant can't yet handle NaNs or Infinite values.\"\n",
    "            \"This was likely caused by dividing by zero. Please find a way to approximate your \"\n",
    "            \"computation without dividing by a private value which might be zero. \"\n",
    "            \"\\n\"\n",
    "            \"This can usually be done by computing the function piecewise- by performing three \"\n",
    "            \"computations which are merged through masking & summing; one which addresses what happens\"\n",
    "            \"if the denominator is positive-definite, another if it is negative-definite, and finally\"\n",
    "            \"one which addresses what happens if the denominator is 0 exactly. Use comparison operators,\"\n",
    "            \"masking, and summing to accomplish this (not if statements- which don't work on private\"\n",
    "            \"values).\"\n",
    "            \"\\n\"\n",
    "            \"Again, we apologize for the inconvenience and are working to extend support to this in \"\n",
    "            \"future versions of PySyft.\"\n",
    "        )\n"
   ]
  },
  {
   "cell_type": "code",
   "execution_count": 18,
   "id": "4bdbb177-dd04-48cf-ad39-9554fd9fb48d",
   "metadata": {},
   "outputs": [
    {
     "ename": "Exception",
     "evalue": "I'm sorry, but our DP Privacy Accountant can't yet handle NaNs or Infinite values.This was likely caused by dividing by zero. Please find a way to approximate your computation without dividing by a private value which might be zero. \nThis can usually be done by computing the function piecewise- by performing three computations which are merged through masking & summing; one which addresses what happensif the denominator is positive-definite, another if it is negative-definite, and finallyone which addresses what happens if the denominator is 0 exactly. Use comparison operators,masking, and summing to accomplish this (not if statements- which don't work on privatevalues).\nAgain, we apologize for the inconvenience and are working to extend support to this in future versions of PySyft.",
     "output_type": "error",
     "traceback": [
      "\u001b[0;31m---------------------------------------------------------------------------\u001b[0m",
      "\u001b[0;31mException\u001b[0m                                 Traceback (most recent call last)",
      "\u001b[0;32m/tmp/ipykernel_27510/1934655291.py\u001b[0m in \u001b[0;36m<module>\u001b[0;34m\u001b[0m\n\u001b[0;32m----> 1\u001b[0;31m \u001b[0;32mraise\u001b[0m \u001b[0me\u001b[0m\u001b[0;34m\u001b[0m\u001b[0;34m\u001b[0m\u001b[0m\n\u001b[0m",
      "\u001b[0;31mException\u001b[0m: I'm sorry, but our DP Privacy Accountant can't yet handle NaNs or Infinite values.This was likely caused by dividing by zero. Please find a way to approximate your computation without dividing by a private value which might be zero. \nThis can usually be done by computing the function piecewise- by performing three computations which are merged through masking & summing; one which addresses what happensif the denominator is positive-definite, another if it is negative-definite, and finallyone which addresses what happens if the denominator is 0 exactly. Use comparison operators,masking, and summing to accomplish this (not if statements- which don't work on privatevalues).\nAgain, we apologize for the inconvenience and are working to extend support to this in future versions of PySyft."
     ]
    }
   ],
   "source": [
    "raise e"
   ]
  },
  {
   "cell_type": "code",
   "execution_count": null,
   "id": "f367ec4a-cd09-48b8-bfc0-14ab34e726e1",
   "metadata": {},
   "outputs": [],
   "source": []
  }
 ],
 "metadata": {
  "kernelspec": {
   "display_name": "Python 3 (ipykernel)",
   "language": "python",
   "name": "python3"
  },
  "language_info": {
   "codemirror_mode": {
    "name": "ipython",
    "version": 3
   },
   "file_extension": ".py",
   "mimetype": "text/x-python",
   "name": "python",
   "nbconvert_exporter": "python",
   "pygments_lexer": "ipython3",
   "version": "3.9.7"
  }
 },
 "nbformat": 4,
 "nbformat_minor": 5
}

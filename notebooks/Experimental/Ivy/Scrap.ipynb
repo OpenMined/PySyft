{
 "cells": [
  {
   "cell_type": "code",
   "execution_count": 7,
   "id": "9a4b66c0-2ed2-49e0-baf0-65f381563e22",
   "metadata": {},
   "outputs": [],
   "source": [
    "import syft as sy\n",
    "import numpy as np\n",
    "from syft import phi_tensor\n",
    "from jax import numpy as jnp"
   ]
  },
  {
   "cell_type": "code",
   "execution_count": 14,
   "id": "eaf238f1-9dce-4be4-a747-97d0192feacb",
   "metadata": {},
   "outputs": [],
   "source": [
    "data1 = np.random.random((5,5))\n",
    "data2 = np.random.random((5,5))\n",
    "\n",
    "tensor1 = phi_tensor.PhiTensor(child=data1, data_subjects=1, min_vals=0, max_vals=1)\n",
    "tensor2 = phi_tensor.PhiTensor(child=data2, data_subjects=2, min_vals=0, max_vals=1)"
   ]
  },
  {
   "cell_type": "code",
   "execution_count": 46,
   "id": "af4ebccc-c580-489f-b63d-dad97b2c9fab",
   "metadata": {},
   "outputs": [],
   "source": [
    "gt = tensor1 + tensor2\n",
    "gt2 = tensor1 + tensor1 + tensor2"
   ]
  },
  {
   "cell_type": "code",
   "execution_count": 47,
   "id": "c062e85c-9d02-44de-95f8-cec21db57eb1",
   "metadata": {},
   "outputs": [
    {
     "data": {
      "text/plain": [
       "syft.core.tensor.autodp.gamma_tensor.GammaTensor"
      ]
     },
     "execution_count": 47,
     "metadata": {},
     "output_type": "execute_result"
    }
   ],
   "source": [
    "type(gt2)"
   ]
  },
  {
   "cell_type": "code",
   "execution_count": 39,
   "id": "89d90ba6-a5b8-42b8-91da-9d3a58060445",
   "metadata": {},
   "outputs": [],
   "source": [
    "# data = jnp.asarray([-5, 3, 2, -10, -5])\n",
    "data = np.asarray([-5, 3, 2, -10, -5])"
   ]
  },
  {
   "cell_type": "code",
   "execution_count": 53,
   "id": "e6ba7d1e-4fb0-4d45-9fd7-7ac4668d98c4",
   "metadata": {},
   "outputs": [
    {
     "data": {
      "text/plain": [
       "DeviceArray(-20, dtype=int64, weak_type=True)"
      ]
     },
     "execution_count": 53,
     "metadata": {},
     "output_type": "execute_result"
    }
   ],
   "source": [
    "# x = +data #.__pos__()\n",
    "# jnp.asarray(data.__pos__())\n",
    "\n",
    "#np.dot(gt.min(), gt2.min())\n",
    "jnp.dot(10, -2)"
   ]
  },
  {
   "cell_type": "code",
   "execution_count": 42,
   "id": "3adac5e7-0b78-4327-ba58-697948c0fc9c",
   "metadata": {},
   "outputs": [],
   "source": [
    "# y = jnp.__pos__()"
   ]
  },
  {
   "cell_type": "code",
   "execution_count": null,
   "id": "33a96445-f8f1-4b47-b2fc-596c63fa3a8e",
   "metadata": {},
   "outputs": [],
   "source": [
    "gt2 = tensor2 + numpy() + tensor3 "
   ]
  },
  {
   "cell_type": "code",
   "execution_count": null,
   "id": "ccb46847-6599-4bf7-a175-392d361210b9",
   "metadata": {},
   "outputs": [],
   "source": [
    "final_gt = gt + gt2"
   ]
  },
  {
   "cell_type": "code",
   "execution_count": 7,
   "id": "64c053e5-1c59-41de-8073-06b054a9173d",
   "metadata": {},
   "outputs": [
    {
     "data": {
      "text/plain": [
       "{'1206700990': GammaTensor(value=array([[40888, 63336,  2577,  1357, 12739],\n",
       "        [19773, 40488,   411, 50467, 12169],\n",
       "        [62538, 12188, 52368, 48464, 64599],\n",
       "        [56195, 64298, 61396, 58403, 28664],\n",
       "        [25797,  5837, 59427, 22477,  7362]]), data_subjects=<syft.core.adp.data_subject_list.DataSubjectList object at 0x7f0eec5c3610>, min_val=array([[0, 0, 0, 0, 0],\n",
       "        [0, 0, 0, 0, 0],\n",
       "        [0, 0, 0, 0, 0],\n",
       "        [0, 0, 0, 0, 0],\n",
       "        [0, 0, 0, 0, 0]]), max_val=array([[1, 1, 1, 1, 1],\n",
       "        [1, 1, 1, 1, 1],\n",
       "        [1, 1, 1, 1, 1],\n",
       "        [1, 1, 1, 1, 1],\n",
       "        [1, 1, 1, 1, 1]]), is_linear=True, func=<function no_op at 0x7f0eed87b280>, id='1206700990', state={}, fpt_values=FixedPrecisionTensor(child=[[40888 63336  2577  1357 12739]\n",
       "  [19773 40488   411 50467 12169]\n",
       "  [62538 12188 52368 48464 64599]\n",
       "  [56195 64298 61396 58403 28664]\n",
       "  [25797  5837 59427 22477  7362]])),\n",
       " '280616030': GammaTensor(value=array([[61429, 41835, 50727, 58841, 23407],\n",
       "        [ 4735,  5456, 44863, 44564, 38762],\n",
       "        [55505, 56478, 18522, 54303, 42158],\n",
       "        [48061,  8423, 37573, 56156, 46697],\n",
       "        [64756, 16806, 17191,  7747, 12232]]), data_subjects=<syft.core.adp.data_subject_list.DataSubjectList object at 0x7f0eec5c3040>, min_val=array([[0, 0, 0, 0, 0],\n",
       "        [0, 0, 0, 0, 0],\n",
       "        [0, 0, 0, 0, 0],\n",
       "        [0, 0, 0, 0, 0],\n",
       "        [0, 0, 0, 0, 0]]), max_val=array([[1, 1, 1, 1, 1],\n",
       "        [1, 1, 1, 1, 1],\n",
       "        [1, 1, 1, 1, 1],\n",
       "        [1, 1, 1, 1, 1],\n",
       "        [1, 1, 1, 1, 1]]), is_linear=True, func=<function no_op at 0x7f0eed87b280>, id='280616030', state={}, fpt_values=FixedPrecisionTensor(child=[[61429 41835 50727 58841 23407]\n",
       "  [ 4735  5456 44863 44564 38762]\n",
       "  [55505 56478 18522 54303 42158]\n",
       "  [48061  8423 37573 56156 46697]\n",
       "  [64756 16806 17191  7747 12232]]))}"
      ]
     },
     "execution_count": 7,
     "metadata": {},
     "output_type": "execute_result"
    }
   ],
   "source": [
    "gt.state"
   ]
  },
  {
   "cell_type": "code",
   "execution_count": 8,
   "id": "ef8422e1-29cc-4f39-88fd-5540be03b37a",
   "metadata": {},
   "outputs": [
    {
     "data": {
      "text/plain": [
       "dict_keys(['1206700990', '280616030'])"
      ]
     },
     "execution_count": 8,
     "metadata": {},
     "output_type": "execute_result"
    }
   ],
   "source": [
    "gt.state.keys()"
   ]
  },
  {
   "cell_type": "code",
   "execution_count": 11,
   "id": "5372c4bc-a22c-48f8-8418-35d54b2637e9",
   "metadata": {},
   "outputs": [
    {
     "data": {
      "text/plain": [
       "GammaTensor(value=array([[40888, 63336,  2577,  1357, 12739],\n",
       "       [19773, 40488,   411, 50467, 12169],\n",
       "       [62538, 12188, 52368, 48464, 64599],\n",
       "       [56195, 64298, 61396, 58403, 28664],\n",
       "       [25797,  5837, 59427, 22477,  7362]]), data_subjects=<syft.core.adp.data_subject_list.DataSubjectList object at 0x7f0eec5c3610>, min_val=array([[0, 0, 0, 0, 0],\n",
       "       [0, 0, 0, 0, 0],\n",
       "       [0, 0, 0, 0, 0],\n",
       "       [0, 0, 0, 0, 0],\n",
       "       [0, 0, 0, 0, 0]]), max_val=array([[1, 1, 1, 1, 1],\n",
       "       [1, 1, 1, 1, 1],\n",
       "       [1, 1, 1, 1, 1],\n",
       "       [1, 1, 1, 1, 1],\n",
       "       [1, 1, 1, 1, 1]]), is_linear=True, func=<function no_op at 0x7f0eed87b280>, id='1206700990', state={}, fpt_values=FixedPrecisionTensor(child=[[40888 63336  2577  1357 12739]\n",
       " [19773 40488   411 50467 12169]\n",
       " [62538 12188 52368 48464 64599]\n",
       " [56195 64298 61396 58403 28664]\n",
       " [25797  5837 59427 22477  7362]]))"
      ]
     },
     "execution_count": 11,
     "metadata": {},
     "output_type": "execute_result"
    }
   ],
   "source": [
    "gt.state['1206700990']"
   ]
  },
  {
   "cell_type": "code",
   "execution_count": 19,
   "id": "8906412d-4085-4116-80bd-25ca3ce67305",
   "metadata": {},
   "outputs": [
    {
     "data": {
      "text/plain": [
       "array(0)"
      ]
     },
     "execution_count": 19,
     "metadata": {},
     "output_type": "execute_result"
    }
   ],
   "source": [
    "gt1.data_subjects.data_subjects_indexed"
   ]
  },
  {
   "cell_type": "code",
   "execution_count": 20,
   "id": "eec87240-056a-4857-8db6-2f629bd3f2e8",
   "metadata": {},
   "outputs": [
    {
     "data": {
      "text/plain": [
       "array([1])"
      ]
     },
     "execution_count": 20,
     "metadata": {},
     "output_type": "execute_result"
    }
   ],
   "source": [
    "gt1.data_subjects.one_hot_lookup"
   ]
  },
  {
   "cell_type": "code",
   "execution_count": 16,
   "id": "0f0cb58f-e8db-47c5-a107-aa771643f969",
   "metadata": {},
   "outputs": [],
   "source": [
    "gt1 = gt.state['1206700990']"
   ]
  },
  {
   "cell_type": "code",
   "execution_count": 17,
   "id": "9516e7a3-bd40-477d-9960-79abc70c1264",
   "metadata": {},
   "outputs": [
    {
     "data": {
      "text/plain": [
       "syft.core.tensor.autodp.gamma_tensor.GammaTensor"
      ]
     },
     "execution_count": 17,
     "metadata": {},
     "output_type": "execute_result"
    }
   ],
   "source": [
    "type(gt1)"
   ]
  },
  {
   "cell_type": "code",
   "execution_count": 18,
   "id": "41337994-cfb6-4184-98b1-dbd4fa7f20d5",
   "metadata": {},
   "outputs": [
    {
     "data": {
      "text/plain": [
       "'1206700990'"
      ]
     },
     "execution_count": 18,
     "metadata": {},
     "output_type": "execute_result"
    }
   ],
   "source": [
    "gt1.id"
   ]
  },
  {
   "cell_type": "markdown",
   "id": "2b67141e-778e-4142-8703-7fb59f6e95dd",
   "metadata": {},
   "source": [
    "A, B, C, D, E\n",
    "2, 3, 5, 11, 9\n",
    "9, 8, 7,  6, 5\n",
    "\n",
    "=max(2, 3, 5, 11, 9) = 11\n",
    "\n",
    "for the data scientist:\n",
    "original PB = 25\n",
    "final PB = 25 -11 = 14\n",
    "\n",
    "\n",
    "original PB = 10\n",
    "\n",
    "A, B, C, E\n",
    "3, 4, 6, 10.5\n",
    "\n",
    "A, B, C\n",
    "5, 6, 10\n",
    "\n",
    "A, B, C\n",
    "10.5, 10.5, 10.5\n",
    "\n",
    "result = (tensorA * 0+tensorB*0+tensorC *0+ tensorD *0+tensorE *0) = 0\n",
    "FINAL PUBLISHED RESULT = 0 + noise()\n",
    "\n",
    "\n",
    "original PB = 0\n",
    "result = (tensor A * 0+tensor B*0+tensor C *0+ tensor D *0+tensor E *0) = 0\n",
    "FINAL PUBLISHED RESULT = 0 + noise()"
   ]
  },
  {
   "cell_type": "code",
   "execution_count": 14,
   "id": "9f97bcd5-27b1-45b4-b06a-a3b986098f17",
   "metadata": {},
   "outputs": [
    {
     "name": "stdout",
     "output_type": "stream",
     "text": [
      "{}\n",
      "Creating new Ledger\n"
     ]
    },
    {
     "name": "stderr",
     "output_type": "stream",
     "text": [
      "  0%|                                                                                                                                                                   | 0/2 [00:00<?, ?it/s]WARNING:absl:No GPU/TPU found, falling back to CPU. (Set TF_CPP_MIN_LOG_LEVEL=0 and rerun for more info.)\n",
      "/home/e/anaconda3/envs/Hagrid/lib/python3.9/site-packages/jax/interpreters/mlir.py:397: UserWarning: Some donated buffers were not usable: ShapedArray(float64[25]), ShapedArray(int64[]).\n",
      "Donation is not implemented for cpu.\n",
      "See an explanation at https://jax.readthedocs.io/en/latest/notebooks/faq.html#buffer-donation.\n",
      "  warnings.warn(f\"Some donated buffers were not usable: {', '.join(unused_donations)}.\\n{msg}\")\n",
      "100%|███████████████████████████████████████████████████████████████████████████████████████████████████████████████████████████████████████████████████████████| 2/2 [00:00<00:00,  5.26it/s]"
     ]
    },
    {
     "name": "stdout",
     "output_type": "stream",
     "text": [
      "constant:  [2.19939316e+12 2.19939316e+12 2.19939316e+12 2.19939316e+12\n",
      " 2.19939316e+12 2.19939316e+12 2.19939316e+12 2.19939316e+12\n",
      " 2.19939316e+12 2.19939316e+12 2.19939316e+12 2.19939316e+12\n",
      " 2.19939316e+12 2.19939316e+12 2.19939316e+12 2.19939316e+12\n",
      " 2.19939316e+12 2.19939316e+12 2.19939316e+12 2.19939316e+12\n",
      " 2.19939316e+12 2.19939316e+12 2.19939316e+12 2.19939316e+12\n",
      " 2.19939316e+12]\n",
      "_rdp_constants:  [0. 0. 0. 0. 0. 0. 0. 0. 0. 0. 0. 0. 0. 0. 0. 0. 0. 0. 0. 0. 0. 0. 0. 0.\n",
      " 0.]\n",
      "entity ids query 0\n",
      "0\n",
      "Epsilon spend  [304065.68787434 304065.68787434 304065.68787434 304065.68787434\n",
      " 304065.68787434 304065.68787434 304065.68787434 304065.68787434\n",
      " 304065.68787434 304065.68787434 304065.68787434 304065.68787434\n",
      " 304065.68787434 304065.68787434 304065.68787434 304065.68787434\n",
      " 304065.68787434 304065.68787434 304065.68787434 304065.68787434\n",
      " 304065.68787434 304065.68787434 304065.68787434 304065.68787434\n",
      " 304065.68787434]\n",
      "Highest possible spend  304065.6878743376\n",
      "Attemping to spend epsilon: 304065.6878743376. Try: 0\n",
      "got user budget 999999.0 epsilon_spent 304065.6878743376\n",
      "constant:  [2.15538639e+12 2.15538639e+12 2.15538639e+12 2.15538639e+12\n",
      " 2.15538639e+12 2.15538639e+12 2.15538639e+12 2.15538639e+12\n",
      " 2.15538639e+12 2.15538639e+12 2.15538639e+12 2.15538639e+12\n",
      " 2.15538639e+12 2.15538639e+12 2.15538639e+12 2.15538639e+12\n",
      " 2.15538639e+12 2.15538639e+12 2.15538639e+12 2.15538639e+12\n",
      " 2.15538639e+12 2.15538639e+12 2.15538639e+12 2.15538639e+12\n",
      " 2.15538639e+12]\n",
      "_rdp_constants:  [2.19939316e+12 0.00000000e+00 0.00000000e+00 0.00000000e+00\n",
      " 0.00000000e+00 0.00000000e+00 0.00000000e+00 0.00000000e+00\n",
      " 0.00000000e+00 0.00000000e+00 0.00000000e+00 0.00000000e+00\n",
      " 0.00000000e+00 0.00000000e+00 0.00000000e+00 0.00000000e+00\n",
      " 0.00000000e+00 0.00000000e+00 0.00000000e+00 0.00000000e+00\n",
      " 0.00000000e+00 0.00000000e+00 0.00000000e+00 0.00000000e+00\n",
      " 0.00000000e+00]\n",
      "entity ids query 0\n",
      "0\n",
      "Epsilon spend  [304065.68787434 304065.68787434 304065.68787434 304065.68787434\n",
      " 304065.68787434 304065.68787434 304065.68787434 304065.68787434\n",
      " 304065.68787434 304065.68787434 304065.68787434 304065.68787434\n",
      " 304065.68787434 304065.68787434 304065.68787434 304065.68787434\n",
      " 304065.68787434 304065.68787434 304065.68787434 304065.68787434\n",
      " 304065.68787434 304065.68787434 304065.68787434 304065.68787434\n",
      " 304065.68787434]\n",
      "Highest possible spend  304065.6878743376\n",
      "Attemping to spend epsilon: 304065.6878743376. Try: 0\n",
      "got user budget 999999.0 epsilon_spent 304065.6878743376\n",
      "We have filtered all the input tensors. Now to compute the result:\n",
      "Filtered inputs  [array([[40888, 63336,  2577,  1357, 12739],\n",
      "       [19773, 40488,   411, 50467, 12169],\n",
      "       [62538, 12188, 52368, 48464, 64599],\n",
      "       [56195, 64298, 61396, 58403, 28664],\n",
      "       [25797,  5837, 59427, 22477,  7362]]), array([[61429, 41835, 50727, 58841, 23407],\n",
      "       [ 4735,  5456, 44863, 44564, 38762],\n",
      "       [55505, 56478, 18522, 54303, 42158],\n",
      "       [48061,  8423, 37573, 56156, 46697],\n",
      "       [64756, 16806, 17191,  7747, 12232]])]\n",
      "original output (before noise: [[102317 105171  53304  60198  36146]\n",
      " [ 24508  45944  45274  95031  50931]\n",
      " [118043  68666  70890 102767 106757]\n",
      " [104256  72721  98969 114559  75361]\n",
      " [ 90553  22643  76618  30224  19594]]\n",
      "noise:  [[-0.05974639  0.02126773 -0.0433259   0.15902047 -0.01736057]\n",
      " [-0.12488182 -0.12025769 -0.06853676  0.08926982  0.08334139]\n",
      " [-0.04473905 -0.03794985 -0.07879414  0.01577714 -0.0573043 ]\n",
      " [-0.03742449  0.03121521  0.05101834 -0.02973286  0.09233096]\n",
      " [-0.10727342  0.00675148 -0.00960142  0.12915055 -0.0081536 ]]\n",
      "got output <class 'numpy.ndarray'> float64\n"
     ]
    },
    {
     "name": "stderr",
     "output_type": "stream",
     "text": [
      "\n"
     ]
    }
   ],
   "source": [
    "from syft.core.adp.data_subject_ledger import DataSubjectLedger\n",
    "from syft.core.adp.ledger_store import DictLedgerStore\n",
    "from typing import Any\n",
    "\n",
    "ledger_store = DictLedgerStore()\n",
    "print(ledger_store.kv_store)\n",
    "user_key = b\"1231\"\n",
    "ledger = DataSubjectLedger.get_or_create(store=ledger_store, user_key=user_key)\n",
    "\n",
    "def get_budget_for_user(*args: Any, **kwargs: Any) -> float:\n",
    "    return 999999\n",
    "\n",
    "def deduct_epsilon_for_user(*args: Any, **kwargs: Any) -> bool:\n",
    "    return True\n",
    "\n",
    "results = gt.publish(\n",
    "    get_budget_for_user=get_budget_for_user,\n",
    "    deduct_epsilon_for_user=deduct_epsilon_for_user,\n",
    "    ledger=ledger,\n",
    "    sigma=0.1,\n",
    ")"
   ]
  },
  {
   "cell_type": "code",
   "execution_count": 15,
   "id": "215dd8c3-cd4d-4c21-91b3-6153bfa411fc",
   "metadata": {},
   "outputs": [
    {
     "data": {
      "text/plain": [
       "array([[102316.94025361, 105171.02126773,  53303.9566741 ,\n",
       "         60198.15902047,  36145.98263943],\n",
       "       [ 24507.87511818,  45943.87974231,  45273.93146324,\n",
       "         95031.08926982,  50931.08334139],\n",
       "       [118042.95526095,  68665.96205015,  70889.92120586,\n",
       "        102767.01577714, 106756.9426957 ],\n",
       "       [104255.96257551,  72721.03121521,  98969.05101834,\n",
       "        114558.97026714,  75361.09233096],\n",
       "       [ 90552.89272658,  22643.00675148,  76617.99039858,\n",
       "         30224.12915055,  19593.9918464 ]])"
      ]
     },
     "execution_count": 15,
     "metadata": {},
     "output_type": "execute_result"
    }
   ],
   "source": [
    "results"
   ]
  },
  {
   "cell_type": "code",
   "execution_count": null,
   "id": "63f4cb18-46c5-4763-b945-ddb2e53e2fec",
   "metadata": {},
   "outputs": [],
   "source": []
  }
 ],
 "metadata": {
  "kernelspec": {
   "display_name": "Python 3",
   "language": "python",
   "name": "python3"
  },
  "language_info": {
   "codemirror_mode": {
    "name": "ipython",
    "version": 3
   },
   "file_extension": ".py",
   "mimetype": "text/x-python",
   "name": "python",
   "nbconvert_exporter": "python",
   "pygments_lexer": "ipython3",
   "version": "3.8.8"
  }
 },
 "nbformat": 4,
 "nbformat_minor": 5
}

{
 "cells": [
  {
   "cell_type": "markdown",
   "id": "28410aab",
   "metadata": {},
   "source": [
    "## Overview"
   ]
  },
  {
   "cell_type": "markdown",
   "id": "e471fbab",
   "metadata": {},
   "source": [
    "In previous section, we learned how to Deploy a Domain Server as a Data Owner and how to upload private data to the server by annotating them using Auto DP metadata. In this section, we will delve into more details about using DP for setting up privacy budget using Differential Privacy. We will also take a look at the Data Scientist workflow for doing remote data science.\n",
    "\n",
    "By the end of this tuturial, we will discover the underlying concept behind Differential Privacy and how setting a privacy budget for a user or Data Scientist determines how much can be learned from any individual data subject in the private data.\n",
    "\n",
    "\n",
    "**This tutorial covers the following**\n",
    "- Differential Privacy: Intuition and Terminology\n",
    "- Differential Privacy in PySyft\n",
    "- Assign privacy budget to private data\n",
    "- Create user account for Data Scientist with assigned privacy budget\n",
    "- Make a query and publish result as a Data Scientist\n",
    "- Request more privacy budget"
   ]
  },
  {
   "cell_type": "markdown",
   "id": "c2b46128",
   "metadata": {},
   "source": [
    "### Differential Privacy: Intuition and Terminology"
   ]
  },
  {
   "cell_type": "markdown",
   "id": "d72ef1e6",
   "metadata": {},
   "source": [
    "Differential Privacy is a mathematical guarantee that if you run an algorithm against a dataset, the output is indistinguishable from:\n",
    "\n",
    "- running the same algorithm, against the same dataset again, a second time\n",
    "- except, the second time, removing data belonging to a specific Data Subject\n",
    "\n",
    "```\n",
    "# result of operation on all data is indistinguishable from\n",
    "# result of operation on all data minus a Data Subject's data points\n",
    "dp(op(data[:])) ~= dp(op(data[:i] + data[i+1:]))\n",
    "```\n",
    "\n",
    "The result of such a guarantee, is that it should not be possible to guess if a specific Data Subject is represented in a dataset. Therefore by extension the privacy of any given individual is protected because you cannot learn anything about someone, if you cannot know with any certainty if they are present or absent from the dataset used in your algorithm.\n",
    "\n"
   ]
  },
  {
   "cell_type": "markdown",
   "id": "b2a2fe62",
   "metadata": {},
   "source": [
    "#### Dataset without Differential Privacy"
   ]
  },
  {
   "cell_type": "markdown",
   "id": "9068d4e5",
   "metadata": {},
   "source": [
    "Let's say we have a dataset of 10K data subjects.\n",
    "First let's see what the real difference would be between a query with and without a single data subject's data."
   ]
  },
  {
   "cell_type": "markdown",
   "id": "a5325786",
   "metadata": {},
   "source": [
    "![caption](./files/without_dp_noise.webp)"
   ]
  },
  {
   "cell_type": "markdown",
   "id": "8aa834d1",
   "metadata": {},
   "source": [
    "#### Dataset protected with Differential Privacy"
   ]
  },
  {
   "cell_type": "markdown",
   "id": "a19284eb",
   "metadata": {},
   "source": [
    "Now let's see how we can hide that difference by just adding noise so both the query results look similar."
   ]
  },
  {
   "cell_type": "markdown",
   "id": "727dfe80",
   "metadata": {},
   "source": [
    "![caption](./files/with_dp_noise.webp)"
   ]
  },
  {
   "cell_type": "markdown",
   "id": "b5b76375",
   "metadata": {},
   "source": [
    "This means that the Data Scientist still gets a reasonable and accurate answer of approximately ~25.7, but they can't be sure if you were in the dataset; and if you were, what impact your age had on the average.\n",
    "\n",
    "So in a nutshell, `DP` makes sure that the Data Scientist doesn't work with the raw datasets, rather they work with datasets + `DP noise`. `DP` also guarantees to add just enough noise to protect the privacy of the data subjects, while still allowing to provide useful results."
   ]
  },
  {
   "cell_type": "markdown",
   "id": "23faac81",
   "metadata": {},
   "source": [
    "![caption](./files/dp_full_arch.webp)"
   ]
  },
  {
   "cell_type": "markdown",
   "id": "a57a113b",
   "metadata": {},
   "source": [
    "#### How Much Noise to Add?"
   ]
  },
  {
   "cell_type": "markdown",
   "id": "bf55bf16",
   "metadata": {},
   "source": [
    "Thus far, we've seen how `DP (Differential Privacy)` leads to the addition of a small amount of noise to protect the privacy of someone's data.\n",
    "\n",
    "A reasonable next question to ask is: `How much noise should we add?`\n",
    "\n",
    "Let's try with an example:"
   ]
  },
  {
   "cell_type": "markdown",
   "id": "8fd9eee7",
   "metadata": {},
   "source": [
    "![caption](./files/how-much-noise-1.webp)"
   ]
  },
  {
   "cell_type": "markdown",
   "id": "ebdff479",
   "metadata": {},
   "source": [
    "It's important to understand that the way a Data Scientist can learn private information about individuals in a dataset is through comparisons of results over time. In the above example if the Data Scientist got the mean of the dataset and it was `25.705` and then were able to query the system without your data (many data APIs allow for different ways to group or select data based on fields) seeing a result of `25.70` this small difference might tip them off enough to guess your age with reasonable accuracy.\n",
    "\n",
    "Let's try again."
   ]
  },
  {
   "cell_type": "markdown",
   "id": "03da9418",
   "metadata": {},
   "source": [
    "![caption](./files/how-much-noise-2.webp)"
   ]
  },
  {
   "cell_type": "markdown",
   "id": "79b7f19d",
   "metadata": {},
   "source": [
    "This time, while your age is now very hard to guess, we have added so much noise that the results have lost some of their accuracy and utility to the Data Scientist."
   ]
  },
  {
   "cell_type": "markdown",
   "id": "7b4d4338",
   "metadata": {},
   "source": [
    "#### Privacy-Accuracy Trade-off\n",
    "\n",
    "What this should hopefully convey to us is that there is a `tradeoff` between the privacy gained by adding noise and the corresponding utility lost in the results we get from our algorithms.\n",
    "\n",
    "- If we add too much noise, the results are no longer accurate, rendering the algorithm useless\n",
    "- If we don't add enough noise, the results are accurate, but we aren't able to protect anyone's privacy"
   ]
  },
  {
   "cell_type": "markdown",
   "id": "7c693a17",
   "metadata": {},
   "source": [
    "#### Privacy Budget (∈)"
   ]
  },
  {
   "cell_type": "markdown",
   "id": "8970e00f",
   "metadata": {},
   "source": [
    "This \"similarity\" or difference is captured in a parameter called `∈`, which we often refer to as the privacy budget.\n",
    "\n",
    "`∈` has different formulas (depending on which method we used to compare our datasets or distributions), but it is always a measure of how much your data (belonging to a data subject) affects the algorithms result."
   ]
  },
  {
   "cell_type": "markdown",
   "id": "c58e66ec",
   "metadata": {},
   "source": [
    "![caption](./files/epsilon.webp)"
   ]
  },
  {
   "cell_type": "markdown",
   "id": "bc563375",
   "metadata": {},
   "source": [
    "`∈`, or the Privacy Budget, is probably the most important idea in Differential Privacy, so it's worth taking some time to emphasize exactly what it is.\n",
    "\n",
    "The privacy budget, \n",
    "`∈`, is a measure of:\n",
    "\n",
    "- How much your data stands out\n",
    "    - Thus, it's also a measure of privacy risk; how likely your data is going to be identified\n",
    "- How much your data affects the outcome of the query or algorithm\n",
    "- How much noise is needed to hide your data's influence\n",
    "\n",
    "**Note**: There is a more rigorous mathematical definition of epsilon, but thinking about it in this way helps to build an intuition.\n",
    "\n",
    "**The higher the `∈`, the more your data affects the outcome of an algorithm.**\n",
    "\n"
   ]
  },
  {
   "cell_type": "markdown",
   "id": "e61feec8",
   "metadata": {},
   "source": [
    "#### DP in a nutshell\n",
    "\n",
    "Differential Privacy helps, \n",
    "- Answer questions such as What causes cancer? but not Does Walter White have cancer?\n",
    "- Differential Privacy works by adding noise to the output of an algorithm to protect privacy\n",
    "\n",
    "∈, the privacy budget, is an indicator of how likely it is that someone's data stands out and can be identified:\n",
    "- The higher the ∈, the more likely that person's data stands out and will be identified\n",
    "- can be calculated in many ways, but it's always an indicator of the risk of being identified and having your privacy violated"
   ]
  },
  {
   "cell_type": "markdown",
   "id": "39bdb509",
   "metadata": {},
   "source": [
    "### Differential Privacy in PySyft"
   ]
  },
  {
   "cell_type": "markdown",
   "id": "8f6d38b4",
   "metadata": {},
   "source": [
    "The goal of this section is to help you understand the major components of the `Differential Privacy` (DP) system in `syft`, as well as how `Syft's` DP system differs from other DP systems elsewhere."
   ]
  },
  {
   "cell_type": "markdown",
   "id": "fb36e939",
   "metadata": {},
   "source": [
    "#### Syft's DP system is\n",
    "\n",
    "**Adversarial**\n",
    "- A Data Scientist can learn no more than what their privacy budget allows\n",
    "\n",
    "#### How do these features help you as a `Data Owner?`\n",
    "\n",
    "- Data Scientist has a hard limit on how much they can learn\n",
    "- They are incentivized to be frugal with their query costs due to the hard limits of their total budget\n",
    "- Lower cost queries mean lower risk to Data Subject privacy\n",
    "\n",
    "#### How do these features help you as a `Data Scientist?`\n",
    "\n",
    "- The safe guards in place increase the confidence of Data Owners and mean it's more likely you will be trusted with acccess to important datasets\n",
    "\n",
    "**Individual**\n",
    "- Privacy budgeting ∈ is tracked at the level of individual Data Subjects.\n",
    "- While the privacy budget for a query is the maximum epsilon of any individual Data Subject whose data was involved in the query, we can also filter Data Subject's automatically to lower the cost\n",
    "\n",
    "#### How do these features help you as a `Data Owner?`\n",
    "\n",
    "- You have a guarantee that each of your Data Subject's data will remain private\n",
    "\n",
    "#### How do these features help you as a `Data Scientist?`\n",
    "\n",
    "- You can do your work without worrying about accidentally violating someone's privacy because the system won't let you\n",
    "\n",
    "**Automatic**\n",
    "- If you have enough privacy budget, you can get the results of any query you want without waiting\n",
    "- Importance for Data Owners\n",
    "- Image you were giving a data scientist access to a classified dataset.\n",
    "\n",
    "#### How do these features help you as a `Data Owner?`\n",
    "\n",
    "- You don't have to get on the phone, approve every line of code they write, or fill out paperwork\n",
    "- Importance for Data Scientists\n",
    "- Image you were the the data scientist getting access to this classified dataset.\n",
    "\n",
    "#### How do these features help you as a `Data Scientist?`\n",
    "\n",
    "- You don't have to get on the phone or fill out any paperwork, just to get permission to do your work"
   ]
  },
  {
   "cell_type": "markdown",
   "id": "9405cadd",
   "metadata": {},
   "source": [
    "Differential Privacy in syft is made up of three main components:\n",
    "- DP Tensors\n",
    "- DP Ledger\n",
    "- Publishing\n",
    "\n",
    "![caption](./files/dp_publish.webp)\n",
    "\n",
    "In our previous example, our private data consists of `Rob`, `Bob` and `Job` as individual data subjects. This is handled by syft's `DP Tensors` and acted on with our Pointer system so that Data Scientists can't copy the data.\n",
    "\n",
    "We talked about how syft tracks and differentiates individuals by recording the history of their cumulative privacy risk in something we call a `DP Ledger` which lives inside a Domain along side the private data.\n",
    "\n",
    "Finally, the process of calculating epsilon, filtering out data which is overbudget and returning a `result + noise` to a Data Scientist automatically is something we call `Publishing`."
   ]
  },
  {
   "cell_type": "markdown",
   "id": "4eab560c",
   "metadata": {},
   "source": [
    "### DP in Action in PySyft"
   ]
  },
  {
   "cell_type": "markdown",
   "id": "b8d09c54",
   "metadata": {},
   "source": [
    "Before we move forward with DP, first we need to deploy a Domain Server and Upload our private dataset as we did in the [previous tutorial](./tutorial-1-domain-setup-and-data-upload.ipynb). \n",
    "\n",
    "#### Deploy a Domain Server\n",
    "Before deploying a Domain Server, let's make sure that we have all the required packages installed."
   ]
  },
  {
   "cell_type": "code",
   "execution_count": 10,
   "id": "723f882d",
   "metadata": {
    "scrolled": true
   },
   "outputs": [
    {
     "name": "stdout",
     "output_type": "stream",
     "text": [
      "Requirement already satisfied: hagrid in /Users/zarreennaowalreza/Documents/openmined-new/padawan/pad_env/lib/python3.10/site-packages (0.2.121)\n",
      "Collecting hagrid\n",
      "  Downloading hagrid-0.2.125-py3-none-any.whl (63 kB)\n",
      "\u001b[2K     \u001b[38;2;114;156;31m━━━━━━━━━━━━━━━━━━━━━━━━━━━━━━━━━━━━━━━━\u001b[0m \u001b[32m63.7/63.7 kB\u001b[0m \u001b[31m3.0 MB/s\u001b[0m eta \u001b[36m0:00:00\u001b[0m\n",
      "\u001b[?25hRequirement already satisfied: click>=7.1 in /Users/zarreennaowalreza/Documents/openmined-new/padawan/pad_env/lib/python3.10/site-packages (from hagrid) (8.1.3)\n",
      "Requirement already satisfied: virtualenv-api in /Users/zarreennaowalreza/Documents/openmined-new/padawan/pad_env/lib/python3.10/site-packages (from hagrid) (2.1.18)\n",
      "Requirement already satisfied: ansible-core in /Users/zarreennaowalreza/Documents/openmined-new/padawan/pad_env/lib/python3.10/site-packages (from hagrid) (2.13.5)\n",
      "Requirement already satisfied: packaging>=21.3 in /Users/zarreennaowalreza/Documents/openmined-new/padawan/pad_env/lib/python3.10/site-packages (from hagrid) (21.3)\n",
      "Requirement already satisfied: setuptools in /Users/zarreennaowalreza/Documents/openmined-new/padawan/pad_env/lib/python3.10/site-packages (from hagrid) (65.5.0)\n",
      "Requirement already satisfied: virtualenv in /Users/zarreennaowalreza/Documents/openmined-new/padawan/pad_env/lib/python3.10/site-packages (from hagrid) (20.16.6)\n",
      "Requirement already satisfied: ascii-magic in /Users/zarreennaowalreza/Documents/openmined-new/padawan/pad_env/lib/python3.10/site-packages (from hagrid) (1.6)\n",
      "Requirement already satisfied: gitpython in /Users/zarreennaowalreza/Documents/openmined-new/padawan/pad_env/lib/python3.10/site-packages (from hagrid) (3.1.29)\n",
      "Requirement already satisfied: jinja2 in /Users/zarreennaowalreza/Documents/openmined-new/padawan/pad_env/lib/python3.10/site-packages (from hagrid) (3.1.2)\n",
      "Requirement already satisfied: names in /Users/zarreennaowalreza/Documents/openmined-new/padawan/pad_env/lib/python3.10/site-packages (from hagrid) (0.3.0)\n",
      "Requirement already satisfied: tqdm in /Users/zarreennaowalreza/Documents/openmined-new/padawan/pad_env/lib/python3.10/site-packages (from hagrid) (4.64.0)\n",
      "Requirement already satisfied: pyOpenSSL>=22.0.0 in /Users/zarreennaowalreza/Documents/openmined-new/padawan/pad_env/lib/python3.10/site-packages (from hagrid) (22.1.0)\n",
      "Requirement already satisfied: paramiko in /Users/zarreennaowalreza/Documents/openmined-new/padawan/pad_env/lib/python3.10/site-packages (from hagrid) (2.11.0)\n",
      "Requirement already satisfied: rich in /Users/zarreennaowalreza/Documents/openmined-new/padawan/pad_env/lib/python3.10/site-packages (from hagrid) (11.2.0)\n",
      "Requirement already satisfied: ansible in /Users/zarreennaowalreza/Documents/openmined-new/padawan/pad_env/lib/python3.10/site-packages (from hagrid) (6.5.0)\n",
      "Requirement already satisfied: PyYAML in /Users/zarreennaowalreza/Documents/openmined-new/padawan/pad_env/lib/python3.10/site-packages (from hagrid) (6.0)\n",
      "Requirement already satisfied: requests in /Users/zarreennaowalreza/Documents/openmined-new/padawan/pad_env/lib/python3.10/site-packages (from hagrid) (2.27.1)\n",
      "Requirement already satisfied: cryptography>=37.0.2 in /Users/zarreennaowalreza/Documents/openmined-new/padawan/pad_env/lib/python3.10/site-packages (from hagrid) (38.0.1)\n",
      "Requirement already satisfied: cffi>=1.12 in /Users/zarreennaowalreza/Documents/openmined-new/padawan/pad_env/lib/python3.10/site-packages (from cryptography>=37.0.2->hagrid) (1.15.1)\n",
      "Requirement already satisfied: pyparsing!=3.0.5,>=2.0.2 in /Users/zarreennaowalreza/Documents/openmined-new/padawan/pad_env/lib/python3.10/site-packages (from packaging>=21.3->hagrid) (3.0.9)\n",
      "Requirement already satisfied: resolvelib<0.9.0,>=0.5.3 in /Users/zarreennaowalreza/Documents/openmined-new/padawan/pad_env/lib/python3.10/site-packages (from ansible-core->hagrid) (0.8.1)\n",
      "Requirement already satisfied: MarkupSafe>=2.0 in /Users/zarreennaowalreza/Documents/openmined-new/padawan/pad_env/lib/python3.10/site-packages (from jinja2->hagrid) (2.1.1)\n",
      "Requirement already satisfied: Pillow in /Users/zarreennaowalreza/Documents/openmined-new/padawan/pad_env/lib/python3.10/site-packages (from ascii-magic->hagrid) (9.2.0)\n",
      "Requirement already satisfied: colorama in /Users/zarreennaowalreza/Documents/openmined-new/padawan/pad_env/lib/python3.10/site-packages (from ascii-magic->hagrid) (0.4.5)\n",
      "Requirement already satisfied: gitdb<5,>=4.0.1 in /Users/zarreennaowalreza/Documents/openmined-new/padawan/pad_env/lib/python3.10/site-packages (from gitpython->hagrid) (4.0.9)\n",
      "Requirement already satisfied: pynacl>=1.0.1 in /Users/zarreennaowalreza/Documents/openmined-new/padawan/pad_env/lib/python3.10/site-packages (from paramiko->hagrid) (1.5.0)\n",
      "Requirement already satisfied: six in /Users/zarreennaowalreza/Documents/openmined-new/padawan/pad_env/lib/python3.10/site-packages (from paramiko->hagrid) (1.16.0)\n",
      "Requirement already satisfied: bcrypt>=3.1.3 in /Users/zarreennaowalreza/Documents/openmined-new/padawan/pad_env/lib/python3.10/site-packages (from paramiko->hagrid) (3.2.0)\n",
      "Requirement already satisfied: idna<4,>=2.5 in /Users/zarreennaowalreza/Documents/openmined-new/padawan/pad_env/lib/python3.10/site-packages (from requests->hagrid) (3.4)\n",
      "Requirement already satisfied: certifi>=2017.4.17 in /Users/zarreennaowalreza/Documents/openmined-new/padawan/pad_env/lib/python3.10/site-packages (from requests->hagrid) (2022.9.24)\n",
      "Requirement already satisfied: charset-normalizer~=2.0.0 in /Users/zarreennaowalreza/Documents/openmined-new/padawan/pad_env/lib/python3.10/site-packages (from requests->hagrid) (2.0.12)\n",
      "Requirement already satisfied: urllib3<1.27,>=1.21.1 in /Users/zarreennaowalreza/Documents/openmined-new/padawan/pad_env/lib/python3.10/site-packages (from requests->hagrid) (1.26.12)\n",
      "Requirement already satisfied: pygments<3.0.0,>=2.6.0 in /Users/zarreennaowalreza/Documents/openmined-new/padawan/pad_env/lib/python3.10/site-packages (from rich->hagrid) (2.13.0)\n",
      "Requirement already satisfied: commonmark<0.10.0,>=0.9.0 in /Users/zarreennaowalreza/Documents/openmined-new/padawan/pad_env/lib/python3.10/site-packages (from rich->hagrid) (0.9.1)\n",
      "Requirement already satisfied: distlib<1,>=0.3.6 in /Users/zarreennaowalreza/Documents/openmined-new/padawan/pad_env/lib/python3.10/site-packages (from virtualenv->hagrid) (0.3.6)\n",
      "Requirement already satisfied: platformdirs<3,>=2.4 in /Users/zarreennaowalreza/Documents/openmined-new/padawan/pad_env/lib/python3.10/site-packages (from virtualenv->hagrid) (2.5.2)\n",
      "Requirement already satisfied: filelock<4,>=3.4.1 in /Users/zarreennaowalreza/Documents/openmined-new/padawan/pad_env/lib/python3.10/site-packages (from virtualenv->hagrid) (3.8.0)\n",
      "Requirement already satisfied: pycparser in /Users/zarreennaowalreza/Documents/openmined-new/padawan/pad_env/lib/python3.10/site-packages (from cffi>=1.12->cryptography>=37.0.2->hagrid) (2.21)\n",
      "Requirement already satisfied: smmap<6,>=3.0.1 in /Users/zarreennaowalreza/Documents/openmined-new/padawan/pad_env/lib/python3.10/site-packages (from gitdb<5,>=4.0.1->gitpython->hagrid) (5.0.0)\n",
      "Installing collected packages: hagrid\n",
      "  Attempting uninstall: hagrid\n",
      "    Found existing installation: hagrid 0.2.121\n",
      "    Uninstalling hagrid-0.2.121:\n",
      "      Successfully uninstalled hagrid-0.2.121\n",
      "Successfully installed hagrid-0.2.125\n",
      "\n",
      "\u001b[1m[\u001b[0m\u001b[34;49mnotice\u001b[0m\u001b[1;39;49m]\u001b[0m\u001b[39;49m A new release of pip available: \u001b[0m\u001b[31;49m22.3\u001b[0m\u001b[39;49m -> \u001b[0m\u001b[32;49m22.3.1\u001b[0m\n",
      "\u001b[1m[\u001b[0m\u001b[34;49mnotice\u001b[0m\u001b[1;39;49m]\u001b[0m\u001b[39;49m To update, run: \u001b[0m\u001b[32;49mpip install --upgrade pip\u001b[0m\n"
     ]
    }
   ],
   "source": [
    "!pip install -U hagrid"
   ]
  },
  {
   "cell_type": "code",
   "execution_count": 11,
   "id": "d2b623b1",
   "metadata": {},
   "outputs": [],
   "source": [
    "from hagrid import wizard"
   ]
  },
  {
   "cell_type": "code",
   "execution_count": 12,
   "id": "a16ff89a",
   "metadata": {},
   "outputs": [
    {
     "data": {
      "text/html": [
       "✅ hagrid==0.2.125 (latest stable)<br />"
      ],
      "text/plain": [
       "<hagrid.nb_output.NBOutput at 0x1069fc760>"
      ]
     },
     "execution_count": 12,
     "metadata": {},
     "output_type": "execute_result"
    }
   ],
   "source": [
    "wizard.check_hagrid"
   ]
  },
  {
   "cell_type": "code",
   "execution_count": 13,
   "id": "2f01ca55",
   "metadata": {
    "scrolled": true
   },
   "outputs": [
    {
     "name": "stdout",
     "output_type": "stream",
     "text": [
      "Collecting syft==0.7.0b59\n",
      "  Downloading syft-0.7.0b59-py2.py3-none-any.whl (7.8 MB)\n",
      "\u001b[2K     \u001b[38;2;114;156;31m━━━━━━━━━━━━━━━━━━━━━━━━━━━━━━━━━━━━━━━━\u001b[0m \u001b[32m7.8/7.8 MB\u001b[0m \u001b[31m7.2 MB/s\u001b[0m eta \u001b[36m0:00:00\u001b[0mm eta \u001b[36m0:00:01\u001b[0m[36m0:00:01\u001b[0m\n",
      "\u001b[?25hRequirement already satisfied: gevent==21.12.0 in /Users/zarreennaowalreza/Documents/openmined-new/padawan/pad_env/lib/python3.10/site-packages (from syft==0.7.0b59) (21.12.0)\n",
      "Requirement already satisfied: typing-extensions==4.1.1 in /Users/zarreennaowalreza/Documents/openmined-new/padawan/pad_env/lib/python3.10/site-packages (from syft==0.7.0b59) (4.1.1)\n",
      "Requirement already satisfied: torch<=1.11.0,>=1.8.1 in /Users/zarreennaowalreza/Documents/openmined-new/padawan/pad_env/lib/python3.10/site-packages (from syft==0.7.0b59) (1.11.0)\n",
      "Requirement already satisfied: pyjwt==2.4.0 in /Users/zarreennaowalreza/Documents/openmined-new/padawan/pad_env/lib/python3.10/site-packages (from syft==0.7.0b59) (2.4.0)\n",
      "Requirement already satisfied: tqdm==4.64.0 in /Users/zarreennaowalreza/Documents/openmined-new/padawan/pad_env/lib/python3.10/site-packages (from syft==0.7.0b59) (4.64.0)\n",
      "Requirement already satisfied: redis==4.2.2 in /Users/zarreennaowalreza/Documents/openmined-new/padawan/pad_env/lib/python3.10/site-packages (from syft==0.7.0b59) (4.2.2)\n",
      "Requirement already satisfied: pynacl==1.5.0 in /Users/zarreennaowalreza/Documents/openmined-new/padawan/pad_env/lib/python3.10/site-packages (from syft==0.7.0b59) (1.5.0)\n",
      "Requirement already satisfied: forbiddenfruit==0.1.4 in /Users/zarreennaowalreza/Documents/openmined-new/padawan/pad_env/lib/python3.10/site-packages (from syft==0.7.0b59) (0.1.4)\n",
      "Requirement already satisfied: numpy>=1.21.5 in /Users/zarreennaowalreza/Documents/openmined-new/padawan/pad_env/lib/python3.10/site-packages (from syft==0.7.0b59) (1.23.4)\n",
      "Requirement already satisfied: packaging==21.3 in /Users/zarreennaowalreza/Documents/openmined-new/padawan/pad_env/lib/python3.10/site-packages (from syft==0.7.0b59) (21.3)\n",
      "Requirement already satisfied: requests==2.27.1 in /Users/zarreennaowalreza/Documents/openmined-new/padawan/pad_env/lib/python3.10/site-packages (from syft==0.7.0b59) (2.27.1)\n",
      "Requirement already satisfied: matplotlib==3.5.2 in /Users/zarreennaowalreza/Documents/openmined-new/padawan/pad_env/lib/python3.10/site-packages (from syft==0.7.0b59) (3.5.2)\n",
      "Requirement already satisfied: jax==0.3.14 in /Users/zarreennaowalreza/Documents/openmined-new/padawan/pad_env/lib/python3.10/site-packages (from syft==0.7.0b59) (0.3.14)\n",
      "Collecting sqlalchemy==1.4.36\n",
      "  Downloading SQLAlchemy-1.4.36.tar.gz (8.1 MB)\n",
      "\u001b[2K     \u001b[38;2;114;156;31m━━━━━━━━━━━━━━━━━━━━━━━━━━━━━━━━━━━━━━━━\u001b[0m \u001b[32m8.1/8.1 MB\u001b[0m \u001b[31m7.7 MB/s\u001b[0m eta \u001b[36m0:00:00\u001b[0mm eta \u001b[36m0:00:01\u001b[0m0:01\u001b[0m:01\u001b[0m\n",
      "\u001b[?25h  Preparing metadata (setup.py) ... \u001b[?25ldone\n",
      "\u001b[?25hRequirement already satisfied: ascii-magic==1.6 in /Users/zarreennaowalreza/Documents/openmined-new/padawan/pad_env/lib/python3.10/site-packages (from syft==0.7.0b59) (1.6)\n",
      "Requirement already satisfied: protobuf==3.19.5 in /Users/zarreennaowalreza/Documents/openmined-new/padawan/pad_env/lib/python3.10/site-packages (from syft==0.7.0b59) (3.19.5)\n",
      "Requirement already satisfied: cachetools~=3.1.1 in /Users/zarreennaowalreza/Documents/openmined-new/padawan/pad_env/lib/python3.10/site-packages (from syft==0.7.0b59) (3.1.1)\n",
      "Requirement already satisfied: names==0.3.0 in /Users/zarreennaowalreza/Documents/openmined-new/padawan/pad_env/lib/python3.10/site-packages (from syft==0.7.0b59) (0.3.0)\n",
      "Requirement already satisfied: jaxlib==0.3.14 in /Users/zarreennaowalreza/Documents/openmined-new/padawan/pad_env/lib/python3.10/site-packages (from syft==0.7.0b59) (0.3.14)\n",
      "Requirement already satisfied: pandas>=1.3.5 in /Users/zarreennaowalreza/Documents/openmined-new/padawan/pad_env/lib/python3.10/site-packages (from syft==0.7.0b59) (1.5.1)\n",
      "Requirement already satisfied: boto3==1.21.33 in /Users/zarreennaowalreza/Documents/openmined-new/padawan/pad_env/lib/python3.10/site-packages (from syft==0.7.0b59) (1.21.33)\n",
      "Requirement already satisfied: requests-toolbelt==0.9.1 in /Users/zarreennaowalreza/Documents/openmined-new/padawan/pad_env/lib/python3.10/site-packages (from syft==0.7.0b59) (0.9.1)\n",
      "Requirement already satisfied: pyarrow==7.0.0 in /Users/zarreennaowalreza/Documents/openmined-new/padawan/pad_env/lib/python3.10/site-packages (from syft==0.7.0b59) (7.0.0)\n",
      "Collecting pycapnp==1.2.1\n",
      "  Downloading pycapnp-1.2.1-cp310-cp310-macosx_11_0_arm64.whl (1.4 MB)\n",
      "\u001b[2K     \u001b[38;2;114;156;31m━━━━━━━━━━━━━━━━━━━━━━━━━━━━━━━━━━━━━━━━\u001b[0m \u001b[32m1.4/1.4 MB\u001b[0m \u001b[31m7.1 MB/s\u001b[0m eta \u001b[36m0:00:00\u001b[0mm eta \u001b[36m0:00:01\u001b[0m0:01\u001b[0m:01\u001b[0m\n",
      "\u001b[?25hRequirement already satisfied: pympler==1.0.1 in /Users/zarreennaowalreza/Documents/openmined-new/padawan/pad_env/lib/python3.10/site-packages (from syft==0.7.0b59) (1.0.1)\n",
      "Requirement already satisfied: bcrypt==3.2.0 in /Users/zarreennaowalreza/Documents/openmined-new/padawan/pad_env/lib/python3.10/site-packages (from syft==0.7.0b59) (3.2.0)\n",
      "Requirement already satisfied: pydantic[email]==1.9.0 in /Users/zarreennaowalreza/Documents/openmined-new/padawan/pad_env/lib/python3.10/site-packages (from syft==0.7.0b59) (1.9.0)\n",
      "Requirement already satisfied: loguru==0.6.0 in /Users/zarreennaowalreza/Documents/openmined-new/padawan/pad_env/lib/python3.10/site-packages (from syft==0.7.0b59) (0.6.0)\n",
      "Requirement already satisfied: flax==0.5.3 in /Users/zarreennaowalreza/Documents/openmined-new/padawan/pad_env/lib/python3.10/site-packages (from syft==0.7.0b59) (0.5.3)\n",
      "Requirement already satisfied: pyzmq==23.2.1 in /Users/zarreennaowalreza/Documents/openmined-new/padawan/pad_env/lib/python3.10/site-packages (from syft==0.7.0b59) (23.2.1)\n",
      "Requirement already satisfied: colorama in /Users/zarreennaowalreza/Documents/openmined-new/padawan/pad_env/lib/python3.10/site-packages (from ascii-magic==1.6->syft==0.7.0b59) (0.4.5)\n",
      "Requirement already satisfied: Pillow in /Users/zarreennaowalreza/Documents/openmined-new/padawan/pad_env/lib/python3.10/site-packages (from ascii-magic==1.6->syft==0.7.0b59) (9.2.0)\n",
      "Requirement already satisfied: cffi>=1.1 in /Users/zarreennaowalreza/Documents/openmined-new/padawan/pad_env/lib/python3.10/site-packages (from bcrypt==3.2.0->syft==0.7.0b59) (1.15.1)\n",
      "Requirement already satisfied: six>=1.4.1 in /Users/zarreennaowalreza/Documents/openmined-new/padawan/pad_env/lib/python3.10/site-packages (from bcrypt==3.2.0->syft==0.7.0b59) (1.16.0)\n",
      "Requirement already satisfied: jmespath<2.0.0,>=0.7.1 in /Users/zarreennaowalreza/Documents/openmined-new/padawan/pad_env/lib/python3.10/site-packages (from boto3==1.21.33->syft==0.7.0b59) (1.0.1)\n",
      "Requirement already satisfied: botocore<1.25.0,>=1.24.33 in /Users/zarreennaowalreza/Documents/openmined-new/padawan/pad_env/lib/python3.10/site-packages (from boto3==1.21.33->syft==0.7.0b59) (1.24.46)\n",
      "Requirement already satisfied: s3transfer<0.6.0,>=0.5.0 in /Users/zarreennaowalreza/Documents/openmined-new/padawan/pad_env/lib/python3.10/site-packages (from boto3==1.21.33->syft==0.7.0b59) (0.5.2)\n",
      "Requirement already satisfied: tensorstore in /Users/zarreennaowalreza/Documents/openmined-new/padawan/pad_env/lib/python3.10/site-packages (from flax==0.5.3->syft==0.7.0b59) (0.1.27)\n",
      "Requirement already satisfied: msgpack in /Users/zarreennaowalreza/Documents/openmined-new/padawan/pad_env/lib/python3.10/site-packages (from flax==0.5.3->syft==0.7.0b59) (1.0.4)\n",
      "Requirement already satisfied: rich~=11.1 in /Users/zarreennaowalreza/Documents/openmined-new/padawan/pad_env/lib/python3.10/site-packages (from flax==0.5.3->syft==0.7.0b59) (11.2.0)\n",
      "Requirement already satisfied: PyYAML>=5.4.1 in /Users/zarreennaowalreza/Documents/openmined-new/padawan/pad_env/lib/python3.10/site-packages (from flax==0.5.3->syft==0.7.0b59) (6.0)\n",
      "Requirement already satisfied: optax in /Users/zarreennaowalreza/Documents/openmined-new/padawan/pad_env/lib/python3.10/site-packages (from flax==0.5.3->syft==0.7.0b59) (0.1.3)\n",
      "Requirement already satisfied: zope.interface in /Users/zarreennaowalreza/Documents/openmined-new/padawan/pad_env/lib/python3.10/site-packages (from gevent==21.12.0->syft==0.7.0b59) (5.5.0)\n",
      "Requirement already satisfied: greenlet<2.0,>=1.1.0 in /Users/zarreennaowalreza/Documents/openmined-new/padawan/pad_env/lib/python3.10/site-packages (from gevent==21.12.0->syft==0.7.0b59) (1.1.3.post0)\n",
      "Requirement already satisfied: setuptools in /Users/zarreennaowalreza/Documents/openmined-new/padawan/pad_env/lib/python3.10/site-packages (from gevent==21.12.0->syft==0.7.0b59) (65.5.0)\n",
      "Requirement already satisfied: zope.event in /Users/zarreennaowalreza/Documents/openmined-new/padawan/pad_env/lib/python3.10/site-packages (from gevent==21.12.0->syft==0.7.0b59) (4.5.0)\n",
      "Requirement already satisfied: opt-einsum in /Users/zarreennaowalreza/Documents/openmined-new/padawan/pad_env/lib/python3.10/site-packages (from jax==0.3.14->syft==0.7.0b59) (3.3.0)\n",
      "Requirement already satisfied: absl-py in /Users/zarreennaowalreza/Documents/openmined-new/padawan/pad_env/lib/python3.10/site-packages (from jax==0.3.14->syft==0.7.0b59) (1.3.0)\n",
      "Requirement already satisfied: scipy>=1.5 in /Users/zarreennaowalreza/Documents/openmined-new/padawan/pad_env/lib/python3.10/site-packages (from jax==0.3.14->syft==0.7.0b59) (1.9.2)\n",
      "Requirement already satisfied: etils[epath] in /Users/zarreennaowalreza/Documents/openmined-new/padawan/pad_env/lib/python3.10/site-packages (from jax==0.3.14->syft==0.7.0b59) (0.8.0)\n",
      "Requirement already satisfied: flatbuffers<3.0,>=1.12 in /Users/zarreennaowalreza/Documents/openmined-new/padawan/pad_env/lib/python3.10/site-packages (from jaxlib==0.3.14->syft==0.7.0b59) (2.0.7)\n",
      "Requirement already satisfied: kiwisolver>=1.0.1 in /Users/zarreennaowalreza/Documents/openmined-new/padawan/pad_env/lib/python3.10/site-packages (from matplotlib==3.5.2->syft==0.7.0b59) (1.4.4)\n",
      "Requirement already satisfied: cycler>=0.10 in /Users/zarreennaowalreza/Documents/openmined-new/padawan/pad_env/lib/python3.10/site-packages (from matplotlib==3.5.2->syft==0.7.0b59) (0.11.0)\n",
      "Requirement already satisfied: pyparsing>=2.2.1 in /Users/zarreennaowalreza/Documents/openmined-new/padawan/pad_env/lib/python3.10/site-packages (from matplotlib==3.5.2->syft==0.7.0b59) (3.0.9)\n",
      "Requirement already satisfied: fonttools>=4.22.0 in /Users/zarreennaowalreza/Documents/openmined-new/padawan/pad_env/lib/python3.10/site-packages (from matplotlib==3.5.2->syft==0.7.0b59) (4.37.4)\n",
      "Requirement already satisfied: python-dateutil>=2.7 in /Users/zarreennaowalreza/Documents/openmined-new/padawan/pad_env/lib/python3.10/site-packages (from matplotlib==3.5.2->syft==0.7.0b59) (2.8.2)\n",
      "Requirement already satisfied: email-validator>=1.0.3 in /Users/zarreennaowalreza/Documents/openmined-new/padawan/pad_env/lib/python3.10/site-packages (from pydantic[email]==1.9.0->syft==0.7.0b59) (1.3.0)\n"
     ]
    },
    {
     "name": "stdout",
     "output_type": "stream",
     "text": [
      "Requirement already satisfied: deprecated>=1.2.3 in /Users/zarreennaowalreza/Documents/openmined-new/padawan/pad_env/lib/python3.10/site-packages (from redis==4.2.2->syft==0.7.0b59) (1.2.13)\n",
      "Requirement already satisfied: async-timeout>=4.0.2 in /Users/zarreennaowalreza/Documents/openmined-new/padawan/pad_env/lib/python3.10/site-packages (from redis==4.2.2->syft==0.7.0b59) (4.0.2)\n",
      "Requirement already satisfied: urllib3<1.27,>=1.21.1 in /Users/zarreennaowalreza/Documents/openmined-new/padawan/pad_env/lib/python3.10/site-packages (from requests==2.27.1->syft==0.7.0b59) (1.26.12)\n",
      "Requirement already satisfied: charset-normalizer~=2.0.0 in /Users/zarreennaowalreza/Documents/openmined-new/padawan/pad_env/lib/python3.10/site-packages (from requests==2.27.1->syft==0.7.0b59) (2.0.12)\n",
      "Requirement already satisfied: idna<4,>=2.5 in /Users/zarreennaowalreza/Documents/openmined-new/padawan/pad_env/lib/python3.10/site-packages (from requests==2.27.1->syft==0.7.0b59) (3.4)\n",
      "Requirement already satisfied: certifi>=2017.4.17 in /Users/zarreennaowalreza/Documents/openmined-new/padawan/pad_env/lib/python3.10/site-packages (from requests==2.27.1->syft==0.7.0b59) (2022.9.24)\n",
      "Requirement already satisfied: pytz>=2020.1 in /Users/zarreennaowalreza/Documents/openmined-new/padawan/pad_env/lib/python3.10/site-packages (from pandas>=1.3.5->syft==0.7.0b59) (2022.5)\n",
      "Requirement already satisfied: pycparser in /Users/zarreennaowalreza/Documents/openmined-new/padawan/pad_env/lib/python3.10/site-packages (from cffi>=1.1->bcrypt==3.2.0->syft==0.7.0b59) (2.21)\n",
      "Requirement already satisfied: wrapt<2,>=1.10 in /Users/zarreennaowalreza/Documents/openmined-new/padawan/pad_env/lib/python3.10/site-packages (from deprecated>=1.2.3->redis==4.2.2->syft==0.7.0b59) (1.14.1)\n",
      "Requirement already satisfied: dnspython>=1.15.0 in /Users/zarreennaowalreza/Documents/openmined-new/padawan/pad_env/lib/python3.10/site-packages (from email-validator>=1.0.3->pydantic[email]==1.9.0->syft==0.7.0b59) (2.2.1)\n",
      "Requirement already satisfied: commonmark<0.10.0,>=0.9.0 in /Users/zarreennaowalreza/Documents/openmined-new/padawan/pad_env/lib/python3.10/site-packages (from rich~=11.1->flax==0.5.3->syft==0.7.0b59) (0.9.1)\n",
      "Requirement already satisfied: pygments<3.0.0,>=2.6.0 in /Users/zarreennaowalreza/Documents/openmined-new/padawan/pad_env/lib/python3.10/site-packages (from rich~=11.1->flax==0.5.3->syft==0.7.0b59) (2.13.0)\n",
      "Requirement already satisfied: zipp in /Users/zarreennaowalreza/Documents/openmined-new/padawan/pad_env/lib/python3.10/site-packages (from etils[epath]->jax==0.3.14->syft==0.7.0b59) (3.9.0)\n",
      "Requirement already satisfied: importlib_resources in /Users/zarreennaowalreza/Documents/openmined-new/padawan/pad_env/lib/python3.10/site-packages (from etils[epath]->jax==0.3.14->syft==0.7.0b59) (5.10.0)\n",
      "Requirement already satisfied: chex>=0.0.4 in /Users/zarreennaowalreza/Documents/openmined-new/padawan/pad_env/lib/python3.10/site-packages (from optax->flax==0.5.3->syft==0.7.0b59) (0.1.5)\n",
      "Requirement already satisfied: dm-tree>=0.1.5 in /Users/zarreennaowalreza/Documents/openmined-new/padawan/pad_env/lib/python3.10/site-packages (from chex>=0.0.4->optax->flax==0.5.3->syft==0.7.0b59) (0.1.7)\n",
      "Requirement already satisfied: toolz>=0.9.0 in /Users/zarreennaowalreza/Documents/openmined-new/padawan/pad_env/lib/python3.10/site-packages (from chex>=0.0.4->optax->flax==0.5.3->syft==0.7.0b59) (0.12.0)\n",
      "Installing collected packages: pycapnp, sqlalchemy, syft\n",
      "  Attempting uninstall: pycapnp\n",
      "    Found existing installation: pycapnp 1.2.2\n",
      "    Uninstalling pycapnp-1.2.2:\n",
      "      Successfully uninstalled pycapnp-1.2.2\n",
      "  Attempting uninstall: sqlalchemy\n",
      "    Found existing installation: SQLAlchemy 1.4.45\n",
      "    Uninstalling SQLAlchemy-1.4.45:\n",
      "      Successfully uninstalled SQLAlchemy-1.4.45\n",
      "\u001b[33m  DEPRECATION: sqlalchemy is being installed using the legacy 'setup.py install' method, because it does not have a 'pyproject.toml' and the 'wheel' package is not installed. pip 23.1 will enforce this behaviour change. A possible replacement is to enable the '--use-pep517' option. Discussion can be found at https://github.com/pypa/pip/issues/8559\u001b[0m\u001b[33m\n",
      "\u001b[0m  Running setup.py install for sqlalchemy ... \u001b[?25ldone\n",
      "\u001b[?25h  Attempting uninstall: syft\n",
      "    Found existing installation: syft 0.7.0b62\n",
      "    Uninstalling syft-0.7.0b62:\n",
      "      Successfully uninstalled syft-0.7.0b62\n",
      "Successfully installed pycapnp-1.2.1 sqlalchemy-1.4.36 syft-0.7.0b59\n",
      "\n",
      "\u001b[1m[\u001b[0m\u001b[34;49mnotice\u001b[0m\u001b[1;39;49m]\u001b[0m\u001b[39;49m A new release of pip available: \u001b[0m\u001b[31;49m22.3\u001b[0m\u001b[39;49m -> \u001b[0m\u001b[32;49m22.3.1\u001b[0m\n",
      "\u001b[1m[\u001b[0m\u001b[34;49mnotice\u001b[0m\u001b[1;39;49m]\u001b[0m\u001b[39;49m To update, run: \u001b[0m\u001b[32;49mpip install --upgrade pip\u001b[0m\n"
     ]
    }
   ],
   "source": [
    "!pip install syft==0.7.0b59"
   ]
  },
  {
   "cell_type": "code",
   "execution_count": 14,
   "id": "0b82b34e",
   "metadata": {
    "scrolled": true
   },
   "outputs": [
    {
     "data": {
      "text/html": [
       "✅ macOS<br />✅ Python 3.10.4<br />✅ syft==0.7.0b59 (Version 0.7.0 available)<br /><h4>🚨 Some issues were found</h4><h5><strong>Issue</strong>: A new release of Syft is available: 0.7.0b59 -> 0.7.0.</h5><strong>Solution</strong>:<br />You can upgrade Syft with pip.<blockquote><strong>Command</strong>:<br /> <tt>[ ]</tt><code>!pip install syft==0.7.0</code></blockquote><br />"
      ],
      "text/plain": [
       "<hagrid.nb_output.NBOutput at 0x1066b6d70>"
      ]
     },
     "execution_count": 14,
     "metadata": {},
     "output_type": "execute_result"
    }
   ],
   "source": [
    "wizard.check_syft"
   ]
  },
  {
   "cell_type": "markdown",
   "id": "7dfc6254",
   "metadata": {},
   "source": [
    "Other than `syft` and `hagrid`, we will also need docker to deploy the backend containers and essentially deploy the Domain Server."
   ]
  },
  {
   "cell_type": "code",
   "execution_count": 16,
   "id": "6df55871",
   "metadata": {},
   "outputs": [
    {
     "data": {
      "text/html": [
       "✅ Git 2.32.1<br />✅ Docker 20.10.17<br />✅ Docker Compose 2.7.0<br />"
      ],
      "text/plain": [
       "<hagrid.nb_output.NBOutput at 0x106d2b2e0>"
      ]
     },
     "execution_count": 16,
     "metadata": {},
     "output_type": "execute_result"
    }
   ],
   "source": [
    "wizard.check_grid_docker"
   ]
  },
  {
   "cell_type": "markdown",
   "id": "1315c1ec",
   "metadata": {},
   "source": [
    "Now we are ready to **Launch the Domain Server.**"
   ]
  },
  {
   "cell_type": "code",
   "execution_count": 17,
   "id": "c7eccc07",
   "metadata": {
    "scrolled": true
   },
   "outputs": [
    {
     "name": "stdout",
     "output_type": "stream",
     "text": [
      "\u001b[2K✅ Updated HAGrid from branch: \u001b[1;36m0.7\u001b[0m.\u001b[1;36m0\u001b[0mm\n",
      "\u001b[2K\u001b[32m⠧\u001b[0m \u001b[1;34mUpdating HAGrid from branch: 0.7.0\u001b[0m\n",
      "\u001b[2K\u001b[32m⠸\u001b[0m \u001b[1;34mChecking for Docker Service\u001b[0m   ice\u001b[0m   \n",
      "\u001b[1A\u001b[2K✅ Docker service is running\n",
      "✅ Git 2.32.1\n",
      "✅ Docker 20.10.17\n",
      "✅ Docker Compose 2.7.0\n",
      "\n",
      "\n",
      " _   _       _     _                 _   _                       _\n",
      "| | | |     | |   | |               | | | |                     | |\n",
      "| |_| | ___ | | __| |   ___  _ __   | |_| | __ _ _ __ _ __ _   _| |\n",
      "|  _  |/ _ \\| |/ _` |  / _ \\| '_ \\  |  _  |/ _` | '__| '__| | | | |\n",
      "| | | | (_) | | (_| | | (_) | | | | | | | | (_| | |  | |  | |_| |_|\n",
      "\\_| |_/\\___/|_|\\__,_|  \\___/|_| |_| \\_| |_/\\__,_|_|  |_|   \\__, (_)\n",
      "                                                            __/ |\n",
      "                                                           |___/\n",
      "        \n",
      "Launching a PyGrid Domain node on port 80!\n",
      "\n",
      "  - NAME: test_domain\n",
      "  - RELEASE: production\n",
      "  - ARCH: linux/arm64\n",
      "  - TYPE: domain\n",
      "  - DOCKER_TAG: 0.7.0-beta.59\n",
      "  - HAGRID_VERSION: \n",
      "  - PORT: 80\n",
      "  - DOCKER COMPOSE: v2.7.0\n",
      "\n",
      "\n",
      "\u001b[1;32m⠋\u001b[0m\u001b[1;34m Launching Containers \u001b[0m\u001b[1;32m \u001b[0m\n",
      "\u001b[2K  ✅ \u001b[1;32mPulling [11 / 11]\u001b[0m \u001b[38;2;114;156;31m━━━━━━━━━━━━━━━━━━━━━━━━━━━━━━━━━━━━━━━━\u001b[0m \u001b[35m100.00%   \u001b[0m;5;237m━━━\u001b[0m \u001b[35m90.91%   \u001b[0m  \u001b[0m\n",
      "\u001b[2K  ✅ \u001b[1;32mLaunching [11 / 11]\u001b[0m \u001b[38;2;114;156;31m━━━━━━━━━━━━━━━━━━━━━━━━━━━━━━━━━━━━━━━━\u001b[0m \u001b[35m100.00%   \u001b[0m8;5;237m━━━\u001b[0m \u001b[35m90.91%   \u001b[0m  \u001b[0m\n",
      "\u001b[?25h\n",
      "\u001b[1;32m⠋\u001b[0m\u001b[1;34m Checking node API \u001b[0m\u001b[1;32m \u001b[0m   \n",
      "\u001b[2K✅ test_domain Domain Containers Createdtainer Creation\u001b[0m0m\n",
      "\u001b[2K✅ Backendm \u001b[1;38;5;202mStarting Backend\u001b[0meation\u001b[0m\n",
      "\u001b[2K✅ Startup Complete2mStarting Backend\u001b[0m\n",
      "\u001b[2K\u001b[32m⠙\u001b[0m \u001b[1;38;5;202mStarting Backend\u001b[0m\n",
      "\u001b[1A\u001b[2K┏━━━━━━━━━━━┳━━━━━━━━━━━━━━━━━━━━━━━━━━━━━━━━━━━━━━━━━┳━━━━━┓\n",
      "┃\u001b[1m \u001b[0m\u001b[1mPyGrid   \u001b[0m\u001b[1m \u001b[0m┃\u001b[1m \u001b[0m\u001b[1mInfo                                   \u001b[0m\u001b[1m \u001b[0m┃\u001b[1m \u001b[0m\u001b[1m600\u001b[0m\u001b[1m \u001b[0m┃\n",
      "┡━━━━━━━━━━━╇━━━━━━━━━━━━━━━━━━━━━━━━━━━━━━━━━━━━━━━━━╇━━━━━┩\n",
      "│\u001b[35m \u001b[0m\u001b[35mUI (βeta)\u001b[0m\u001b[35m \u001b[0m│ http://localhost:80/login               │ ✅  │\n",
      "│\u001b[35m \u001b[0m\u001b[35mapi      \u001b[0m\u001b[35m \u001b[0m│ http://localhost:80/api/v1/openapi.json │ ✅  │\n",
      "└───────────┴─────────────────────────────────────────┴─────┘\n",
      "╭───────────────────────────────────────────────────────╮\n",
      "│ ✨ To view container logs run \u001b[1;32mhagrid logs test_domain\u001b[0m │\n",
      "╰───────────────────────────────────────────────────────╯\n"
     ]
    }
   ],
   "source": [
    "DOMAIN_NAME = 'test_domain' # edit DOMAIN_NAME as per your choice\n",
    "\n",
    "!hagrid launch {DOMAIN_NAME} domain to docker:80 --tag=0.7.0-beta.59"
   ]
  },
  {
   "cell_type": "markdown",
   "id": "96fa3817",
   "metadata": {},
   "source": [
    "Let's check the health of the `Domain Server` we have just deployed."
   ]
  },
  {
   "cell_type": "code",
   "execution_count": 24,
   "id": "650dd3b7",
   "metadata": {},
   "outputs": [
    {
     "name": "stdout",
     "output_type": "stream",
     "text": [
      "┏━━━━━━━━━━━┳━━━━━━━━━━━━━━━━━━━━━━━━━━━━━━━━━━━━━━━━━┳━━━━┓\r\n",
      "┃\u001b[1m \u001b[0m\u001b[1mPyGrid   \u001b[0m\u001b[1m \u001b[0m┃\u001b[1m \u001b[0m\u001b[1mInfo                                   \u001b[0m\u001b[1m \u001b[0m┃\u001b[1m \u001b[0m\u001b[1m  \u001b[0m\u001b[1m \u001b[0m┃\r\n",
      "┡━━━━━━━━━━━╇━━━━━━━━━━━━━━━━━━━━━━━━━━━━━━━━━━━━━━━━━╇━━━━┩\r\n",
      "│\u001b[35m \u001b[0m\u001b[35mUI (βeta)\u001b[0m\u001b[35m \u001b[0m│ http://localhost:80/login               │ ✅ │\r\n",
      "│\u001b[35m \u001b[0m\u001b[35mapi      \u001b[0m\u001b[35m \u001b[0m│ http://localhost:80/api/v1/openapi.json │ ✅ │\r\n",
      "└───────────┴─────────────────────────────────────────┴────┘\r\n"
     ]
    }
   ],
   "source": [
    "host = !curl -s https://icanhazip.com\n",
    "host = host[0]\n",
    "\n",
    "# hagrid can automatically detect an external IP. Or you can run `!hagrid check host` to check your server health \n",
    "\n",
    "#!hagrid check {host}\n",
    "!hagrid check localhost:80"
   ]
  },
  {
   "cell_type": "markdown",
   "id": "8ad5d82c",
   "metadata": {},
   "source": [
    "Description of what each of the above PyGrid components mean are available in the [previous tutorial](./tutorial-1-domain-setup-and-data-upload.ipynb). "
   ]
  },
  {
   "cell_type": "markdown",
   "id": "431f44fb",
   "metadata": {},
   "source": [
    "#### Uploading Private Data to a Domain Server\n",
    "\n",
    "To utilize the privacy-enhancing features offered in PyGrid and to communicate with your domain server, first you need to import `syft`."
   ]
  },
  {
   "cell_type": "code",
   "execution_count": 20,
   "id": "fd98a117",
   "metadata": {},
   "outputs": [
    {
     "name": "stdout",
     "output_type": "stream",
     "text": [
      "Syft is imported\n"
     ]
    }
   ],
   "source": [
    "try:\n",
    "    import syft as sy\n",
    "    print(\"Syft is imported\")\n",
    "    \n",
    "except:\n",
    "    print(\"Syft is not installed. Please follow the Getting Started section above.\")"
   ]
  },
  {
   "cell_type": "markdown",
   "id": "6c5528d5",
   "metadata": {},
   "source": [
    "Before we can upload data, we need to login to the server as an `admin`.\n",
    "\n",
    "WARNING: Please change the default username and password below to a more secure and private combination of your preference."
   ]
  },
  {
   "cell_type": "code",
   "execution_count": 21,
   "id": "4037d9d5",
   "metadata": {},
   "outputs": [
    {
     "name": "stdout",
     "output_type": "stream",
     "text": [
      "\u001b[93mWARNING:\u001b[0m CHANGE YOUR USERNAME AND PASSWORD!!! \n",
      "\n",
      "Anyone can login as an admin to your node right now because your password is still the default PySyft username and password!!!\n",
      "\n",
      "Connecting to localhost... done! \t Logging into test_domain... done!\n"
     ]
    }
   ],
   "source": [
    "try:\n",
    "    domain_client = sy.login(\n",
    "      port=80,\n",
    "      email=\"info@openmined.org\",\n",
    "      password=\"changethis\"\n",
    "   )\n",
    "except Exception as e:\n",
    "    print(\"Unable to login. Please check your domain is up with `!hagrid check localhost:8081`\")"
   ]
  },
  {
   "cell_type": "markdown",
   "id": "a372167a",
   "metadata": {},
   "source": [
    "For this tutorial, we will use a dataset of ages, and the names of the people these ages belong to will be the letters `A -> J`."
   ]
  },
  {
   "cell_type": "code",
   "execution_count": 25,
   "id": "a03ef836",
   "metadata": {},
   "outputs": [
    {
     "name": "stdout",
     "output_type": "stream",
     "text": [
      "10\n",
      "10\n"
     ]
    }
   ],
   "source": [
    "import numpy as np\n",
    "ages = np.array([25, 35, 21, 19, 40, 55, 31, 18, 27, 33])\n",
    "names = [\"A\", \"B\", \"C\", \"D\", \"E\", \"F\", \"G\", \"H\", \"I\", \"J\"]\n",
    "print(len(ages))\n",
    "print(len(names))"
   ]
  },
  {
   "cell_type": "markdown",
   "id": "7eed17be",
   "metadata": {},
   "source": [
    "Now, as we have done previously we can create a `PhiTensor` by combining the `data` and the `data_subjects` and annotating the bounds based on our knowledge of the dataset."
   ]
  },
  {
   "cell_type": "code",
   "execution_count": 28,
   "id": "31d1c5e8",
   "metadata": {},
   "outputs": [
    {
     "name": "stdout",
     "output_type": "stream",
     "text": [
      "Tensor annotated with DP Metadata!\n",
      "You can upload this Tensor to a domain node by calling `<domain_client>.load_dataset` and passing in this tensor as an asset.\n"
     ]
    },
    {
     "data": {
      "text/plain": [
       "Tensor(child=PhiTensor(child=[25 35 21 19 40 55 31 18 27 33], min_vals=<lazyrepeatarray data: [0] -> shape: (10,)>, max_vals=<lazyrepeatarray data: [100] -> shape: (10,)>))"
      ]
     },
     "execution_count": 28,
     "metadata": {},
     "output_type": "execute_result"
    }
   ],
   "source": [
    "age_tensor = sy.Tensor(ages).annotate_with_dp_metadata(\n",
    "   lower_bound=0, upper_bound=100, data_subjects=names\n",
    ")\n",
    "age_tensor"
   ]
  },
  {
   "cell_type": "markdown",
   "id": "805a0953",
   "metadata": {},
   "source": [
    "Now we are ready to upload the dataset to the Domain Server."
   ]
  },
  {
   "cell_type": "code",
   "execution_count": 29,
   "id": "b5316516",
   "metadata": {},
   "outputs": [
    {
     "name": "stdout",
     "output_type": "stream",
     "text": [
      "Loading dataset...\r",
      "Loading dataset... checking assets...\r",
      "Loading dataset... checking dataset name for uniqueness...\r",
      "Loading dataset... checking dataset name for uniqueness...                                                                                                                    \r",
      "Loading dataset... checking asset types...                              \r",
      "Loading dataset... uploading...🚀                        "
     ]
    },
    {
     "name": "stderr",
     "output_type": "stream",
     "text": [
      "kj/filesystem-disk-unix.c++:1690: warning: PWD environment variable doesn't match current directory; pwd = /Users/zarreennaowalreza/Documents/openmined-new\n",
      "Uploading `ages_tensor`: 100%|\u001b[32m████████████████████████████████████████\u001b[0m| 1/1 [00:00<00:00, 50.28it/s]\u001b[0m\n"
     ]
    },
    {
     "name": "stdout",
     "output_type": "stream",
     "text": [
      "\r",
      "Dataset is uploaded successfully !!! 🎉\n",
      "\n",
      "Run `<your client variable>.datasets` to see your new dataset loaded into your machine!\n"
     ]
    }
   ],
   "source": [
    "domain_client.load_dataset(\n",
    "    assets={\"ages_tensor\": age_tensor},\n",
    "    name=\"ages_dataset\",\n",
    "    description=\"Ages of a group of people\"\n",
    ")"
   ]
  },
  {
   "cell_type": "markdown",
   "id": "de4ffbf2",
   "metadata": {},
   "source": [
    "### Create Data Scientist Account"
   ]
  },
  {
   "cell_type": "markdown",
   "id": "7fae835e",
   "metadata": {},
   "source": [
    "As a Data Owner, you can use PySyft to pre-determine the degree of information access you grant to a user using your domain server. For PyGrid, you can think of a privacy budget as a specified limit to the `visibility` a user can have into any one data subject on your domain server. When you create a user account in PyGrid, by default that user is assigned the lowest level of permissions and is given a privacy budget of `0` which means that they have `0` visibility into your domain’s data subjects.\n",
    "\n",
    "Therefor, while creating an account for a Data Scientist, you have to explicitly assign the `privacy budget` associated with that account."
   ]
  },
  {
   "cell_type": "code",
   "execution_count": 52,
   "id": "0ee88f0c",
   "metadata": {},
   "outputs": [
    {
     "name": "stdout",
     "output_type": "stream",
     "text": [
      "User created successfully!\n"
     ]
    }
   ],
   "source": [
    "starting_budget = 999999\n",
    "data_scientist_details = {\n",
    "    \"name\": \"Jane Doe\",\n",
    "    \"email\": \"janedoe@skywalker.net\",\n",
    "    \"password\": \"janes_house\",\n",
    "    \"budget\": starting_budget,\n",
    "}\n",
    "domain_client.users.create(**data_scientist_details)"
   ]
  },
  {
   "cell_type": "markdown",
   "id": "fcf3d615",
   "metadata": {},
   "source": [
    "We have just created an account for a Data Scientist and assigned a privacy budget."
   ]
  },
  {
   "cell_type": "markdown",
   "id": "d731e2b7",
   "metadata": {},
   "source": [
    "### Make a query and publish result as a Data Scientist"
   ]
  },
  {
   "cell_type": "markdown",
   "id": "f5582fc6",
   "metadata": {},
   "source": [
    "After the account has been created, it's time for  and Domain Owners to wear the hat of a Data Scientist and try out the Data Scientist workflow. Let's make a query using `0.5e` and then analyze the results to compare how close the value of the results is to the actual value, if there was no `DP noise` in place.\n",
    "\n",
    "Firstly, we should login to the domain as a data scientist using the same credentials through which we created for the data scientist."
   ]
  },
  {
   "cell_type": "code",
   "execution_count": 53,
   "id": "079a6370",
   "metadata": {},
   "outputs": [
    {
     "name": "stdout",
     "output_type": "stream",
     "text": [
      "Connecting to localhost... done! \t Logging into test_domain... done!\n"
     ]
    }
   ],
   "source": [
    "skywalker = sy.login(port=80, email=\"janedoe@skywalker.net\", password=\"janes_house\")"
   ]
  },
  {
   "cell_type": "code",
   "execution_count": 54,
   "id": "446e5206",
   "metadata": {},
   "outputs": [
    {
     "name": "stdout",
     "output_type": "stream",
     "text": [
      "Allotted Privacy Budget:  999999.0\n"
     ]
    }
   ],
   "source": [
    "print(\"Allotted Privacy Budget: \", skywalker.privacy_budget)"
   ]
  },
  {
   "cell_type": "markdown",
   "id": "a8948071",
   "metadata": {},
   "source": [
    "Once logged in, the Data Scientist can now access the dataset info and run computations through `syft` pointers."
   ]
  },
  {
   "cell_type": "code",
   "execution_count": 55,
   "id": "5cf49f12",
   "metadata": {},
   "outputs": [
    {
     "name": "stdout",
     "output_type": "stream",
     "text": [
      "Dataset: ages_dataset\n",
      "Description: Ages of a group of people\n",
      "\n"
     ]
    },
    {
     "data": {
      "text/html": [
       "<style>\n",
       "        #myInput {\n",
       "          background-position: 10px 12px; /* Position the search icon */\n",
       "          background-repeat: no-repeat; /* Do not repeat the icon image */\n",
       "          background-color: #bbb;\n",
       "          width: 98%; /* Full-width */\n",
       "          font-size: 14px; /* Increase font-size */\n",
       "          padding: 12px 20px 12px 40px; /* Add some padding */\n",
       "          border: 1px solid #ddd; /* Add a grey border */\n",
       "          margin-bottom: 12px; /* Add some space below the input */\n",
       "        }\n",
       "\n",
       "        #myTable {\n",
       "          border-collapse: collapse; /* Collapse borders */\n",
       "          width: 50%; /* Full-width */\n",
       "          border: 1px solid #ddd; /* Add a grey border */\n",
       "          font-size: 14px; /* Increase font-size */\n",
       "        }\n",
       "\n",
       "        #myTable th, #myTable td {\n",
       "          text-align: left; /* Left-align text */\n",
       "          padding: 10px; /* Add padding */\n",
       "        }\n",
       "\n",
       "        #myTable tr {\n",
       "          /* Add a bottom border to all table rows */\n",
       "          border-bottom: 1px solid #ddd;\n",
       "        }\n",
       "\n",
       "        #myTable tr.header, #myTable tr:hover {\n",
       "          /* Add a grey background color to the table header and on hover */\n",
       "          background-color: #777;\n",
       "        }\n",
       "        </style>\n",
       "\n",
       "        <table id=\"myTable\">\n",
       "          <tr class=\"header\">\n",
       "            <th style=\"width:15%;\">Asset Key</th>\n",
       "            <th style=\"width:20%;\">Type</th>\n",
       "            <th style=\"width:10%;\">Shape</th>\n",
       "          </tr>\n",
       "        \n",
       "\n",
       "              <tr>\n",
       "            <td>[\"ages_tensor\"]</td>\n",
       "            <td>Tensor</td>\n",
       "            <td>(10,)</td>\n",
       "          </tr>\n",
       "        </table>\n",
       "\n",
       "        "
      ],
      "text/plain": [
       "<syft.core.node.common.client_manager.dataset_api.Dataset at 0x160524940>"
      ]
     },
     "execution_count": 55,
     "metadata": {},
     "output_type": "execute_result"
    }
   ],
   "source": [
    "age_dataset_prt = skywalker.datasets[-1]\n",
    "age_dataset_prt"
   ]
  },
  {
   "cell_type": "code",
   "execution_count": 56,
   "id": "49247f5e",
   "metadata": {},
   "outputs": [
    {
     "data": {
      "text/plain": [
       "PointerId: c67261a051844435943a9123f04e79ba\n",
       "Status: \u001b[92mReady\u001b[0m\n",
       "Representation: array([16, 26, 51, 52, 78, 45, 18, 23, 73, 43])\n",
       "\n",
       "(The data printed above is synthetic - it's an imitation of the real data.)"
      ]
     },
     "execution_count": 56,
     "metadata": {},
     "output_type": "execute_result"
    }
   ],
   "source": [
    "age_ptr = age_dataset_prt[\"ages_tensor\"]\n",
    "age_ptr"
   ]
  },
  {
   "cell_type": "markdown",
   "id": "d8ea58b7",
   "metadata": {},
   "source": [
    "Since we specified the bounds above by their theoratical limits, the synthetic dataset matches those bounds and gives us a bit of a feeling for what kind of data there might be."
   ]
  },
  {
   "cell_type": "markdown",
   "id": "237c7c4b",
   "metadata": {},
   "source": [
    "#### Calculate Private Mean"
   ]
  },
  {
   "cell_type": "markdown",
   "id": "444f308e",
   "metadata": {},
   "source": [
    "Let's find out what the average age in this dataset is by using the `mean` op on the data pointers, instead of raw data."
   ]
  },
  {
   "cell_type": "code",
   "execution_count": 57,
   "id": "be0c3a32",
   "metadata": {},
   "outputs": [
    {
     "data": {
      "text/plain": [
       "PointerId: 04f8b658bc764e40aba45d99ad7c5d7f\n",
       "Status: \u001b[93mProcessing\u001b[0m\n",
       "Representation: array([81.45952218])\n",
       "\n",
       "(The data printed above is synthetic - it's an imitation of the real data.)"
      ]
     },
     "execution_count": 57,
     "metadata": {},
     "output_type": "execute_result"
    }
   ],
   "source": [
    "mean_ptr = age_ptr.mean()\n",
    "mean_ptr"
   ]
  },
  {
   "cell_type": "markdown",
   "id": "9d4294c4",
   "metadata": {},
   "source": [
    "We could continue to run additional operations but at some point we want our result."
   ]
  },
  {
   "cell_type": "markdown",
   "id": "19c27619",
   "metadata": {},
   "source": [
    "#### Publish Result"
   ]
  },
  {
   "cell_type": "markdown",
   "id": "21064c62",
   "metadata": {},
   "source": [
    "The way a Data Scientist interacts with the `DP` system in `syft` is by calling `publish` on their results. What they are essentially saying is, I am done with my computation and I want to see the results without having to go through a lengthy process of approval. By providing a desired amount of noise expressed as `sigma` or `standard deviations` from the underlying distribution, the system can calculate the amount of `epsilon` required to protect individuals at that level of noise. If the Data Scientist has that amount of `epsilon` budget available to them and they have not previously exceeded this amount for the any given Data Subject under study in the results, the system can account for this `publish` action, deduct the budget and release a noisy result to the Data Scientist immediately.\n",
    "\n",
    "Now, let's get the result of this computation by calling `publish` on the pointer with a `sigma`. The return value is a `pointer` to the result which if successful will be available for download.\n",
    "\n",
    "More information about selecitng the right `sigma` can be found in [How to find the right sigma](#How-to-find-the-right-sigma) section"
   ]
  },
  {
   "cell_type": "code",
   "execution_count": 58,
   "id": "e8d51ecf",
   "metadata": {},
   "outputs": [],
   "source": [
    "result_ptr = mean_ptr.publish(sigma=1.5) # 1.5 is the default"
   ]
  },
  {
   "cell_type": "markdown",
   "id": "fa41bc63",
   "metadata": {},
   "source": [
    "Since `publish` can take some time we will have to wait before we can call `get`."
   ]
  },
  {
   "cell_type": "code",
   "execution_count": 59,
   "id": "2a2f7662",
   "metadata": {},
   "outputs": [
    {
     "data": {
      "text/plain": [
       "True"
      ]
     },
     "execution_count": 59,
     "metadata": {},
     "output_type": "execute_result"
    }
   ],
   "source": [
    "result_ptr.exists"
   ]
  },
  {
   "cell_type": "code",
   "execution_count": 60,
   "id": "532934d0",
   "metadata": {},
   "outputs": [
    {
     "data": {
      "text/plain": [
       "31.91326755087075"
      ]
     },
     "execution_count": 60,
     "metadata": {},
     "output_type": "execute_result"
    }
   ],
   "source": [
    "result_ptr.block_with_timeout(60)\n",
    "remote_mean = result_ptr.get(delete_obj=False)\n",
    "remote_mean"
   ]
  },
  {
   "cell_type": "markdown",
   "id": "d8e67153",
   "metadata": {},
   "source": [
    "#### Compare the noisy result to the true result"
   ]
  },
  {
   "cell_type": "code",
   "execution_count": 61,
   "id": "93724776",
   "metadata": {},
   "outputs": [
    {
     "name": "stdout",
     "output_type": "stream",
     "text": [
      "Real Mean:      = 30.4\n",
      "Published Mean: = 31.91326755087075\n",
      "Difference:     = 4.98 %\n"
     ]
    }
   ],
   "source": [
    "local_mean = ages.mean()\n",
    "print(\"Real Mean:      =\", local_mean)\n",
    "print(\"Published Mean: =\", remote_mean)\n",
    "print(\"Difference:     =\", round(abs(local_mean - remote_mean) / local_mean * 100, 2), \"%\")"
   ]
  },
  {
   "cell_type": "markdown",
   "id": "9444750e",
   "metadata": {},
   "source": [
    "As we can see, the noisy result is different but not so much from the original result without noise."
   ]
  },
  {
   "cell_type": "markdown",
   "id": "7209c1d2",
   "metadata": {},
   "source": [
    "#### Track  Epsilon Spend"
   ]
  },
  {
   "cell_type": "code",
   "execution_count": 62,
   "id": "888b0822",
   "metadata": {},
   "outputs": [
    {
     "name": "stdout",
     "output_type": "stream",
     "text": [
      "Starting Budget: 999999\n",
      "Current Budget:  999690.0357041412\n",
      "Cost:            308.9642958587501\n"
     ]
    }
   ],
   "source": [
    "current_budget = skywalker.privacy_budget\n",
    "print(\"Starting Budget:\", starting_budget)\n",
    "print(\"Current Budget: \", current_budget)\n",
    "print(\"Cost:           \", starting_budget - current_budget)"
   ]
  },
  {
   "cell_type": "markdown",
   "id": "9c94b0c1",
   "metadata": {},
   "source": [
    "**Note**: If you recreate new pointers and publish them they can count as new epsilon spend so your cost below will change the more you keep running the cells. At any point, you can keep track of your available privacy budget by running the follwoing command."
   ]
  },
  {
   "cell_type": "code",
   "execution_count": 63,
   "id": "63f99ca8",
   "metadata": {},
   "outputs": [
    {
     "name": "stdout",
     "output_type": "stream",
     "text": [
      "Allotted Privacy Budget:  999690.0357041412\n"
     ]
    }
   ],
   "source": [
    "print(\"Allotted Privacy Budget: \", skywalker.privacy_budget)"
   ]
  },
  {
   "cell_type": "markdown",
   "id": "99ed643b",
   "metadata": {},
   "source": [
    "### Request More Privacy Budget"
   ]
  },
  {
   "cell_type": "markdown",
   "id": "7db3d2ae",
   "metadata": {},
   "source": [
    "There might be instances, when the Data Scientist runs out of privacy budget before getting their expected results. In such cases, they have the opportunity to request for more budget right inside from `PyGrid`. "
   ]
  },
  {
   "cell_type": "code",
   "execution_count": 64,
   "id": "19fa528a",
   "metadata": {},
   "outputs": [
    {
     "name": "stdout",
     "output_type": "stream",
     "text": [
      "Requested 55 epsilon of budget. Call .privacy_budget to see if your budget has arrived!\n"
     ]
    }
   ],
   "source": [
    "skywalker.request_budget(eps=55, reason=\"Query might save millions of lives\")"
   ]
  },
  {
   "cell_type": "markdown",
   "id": "f14b7a9d",
   "metadata": {},
   "source": [
    "This request will show up on the Data Owners end where they can either `approve` or `reject` the request."
   ]
  },
  {
   "cell_type": "code",
   "execution_count": 65,
   "id": "d4b8f478",
   "metadata": {},
   "outputs": [
    {
     "data": {
      "text/html": [
       "<div>\n",
       "<style scoped>\n",
       "    .dataframe tbody tr th:only-of-type {\n",
       "        vertical-align: middle;\n",
       "    }\n",
       "\n",
       "    .dataframe tbody tr th {\n",
       "        vertical-align: top;\n",
       "    }\n",
       "\n",
       "    .dataframe thead th {\n",
       "        text-align: right;\n",
       "    }\n",
       "</style>\n",
       "<table border=\"1\" class=\"dataframe\">\n",
       "  <thead>\n",
       "    <tr style=\"text-align: right;\">\n",
       "      <th></th>\n",
       "      <th>Name</th>\n",
       "      <th>Email</th>\n",
       "      <th>Role</th>\n",
       "      <th>Request Type</th>\n",
       "      <th>Status</th>\n",
       "      <th>Reason</th>\n",
       "      <th>Request ID</th>\n",
       "      <th>Requested Object's ID</th>\n",
       "      <th>Requested Object's tags</th>\n",
       "      <th>Requested Budget</th>\n",
       "      <th>Current Budget</th>\n",
       "    </tr>\n",
       "  </thead>\n",
       "  <tbody>\n",
       "    <tr>\n",
       "      <th>0</th>\n",
       "      <td>Zarreen1</td>\n",
       "      <td>znr1@openmined.org</td>\n",
       "      <td>Data Scientist</td>\n",
       "      <td>DATA</td>\n",
       "      <td>accepted</td>\n",
       "      <td></td>\n",
       "      <td>&lt;UID: bd60e487c6864957b0e0ddb4fec510ae&gt;</td>\n",
       "      <td>&lt;UID: a5fa8a2aeecd4838bf8c357bcd4d838f&gt;</td>\n",
       "      <td>[]</td>\n",
       "      <td>NaN</td>\n",
       "      <td>NaN</td>\n",
       "    </tr>\n",
       "    <tr>\n",
       "      <th>1</th>\n",
       "      <td>Zarreen1</td>\n",
       "      <td>znr1@openmined.org</td>\n",
       "      <td>Data Scientist</td>\n",
       "      <td>DATA</td>\n",
       "      <td>accepted</td>\n",
       "      <td></td>\n",
       "      <td>&lt;UID: 9553044db5d8459ca1e19c7acefdb744&gt;</td>\n",
       "      <td>&lt;UID: c55fcfacfa184a91b8308a91f7101f26&gt;</td>\n",
       "      <td>[]</td>\n",
       "      <td>NaN</td>\n",
       "      <td>NaN</td>\n",
       "    </tr>\n",
       "    <tr>\n",
       "      <th>2</th>\n",
       "      <td>Jane Doe</td>\n",
       "      <td>janedoe@skywalker.net</td>\n",
       "      <td>Data Scientist</td>\n",
       "      <td>BUDGET</td>\n",
       "      <td>pending</td>\n",
       "      <td>Query might save millions of lives</td>\n",
       "      <td>&lt;UID: 0e8d26d3b71940f6b251d842c904cd37&gt;</td>\n",
       "      <td>None</td>\n",
       "      <td>[]</td>\n",
       "      <td>55.0</td>\n",
       "      <td>999690.0625</td>\n",
       "    </tr>\n",
       "  </tbody>\n",
       "</table>\n",
       "</div>"
      ],
      "text/plain": [
       "[<RequestMessage: bd60e487c6864957b0e0ddb4fec510ae>, <RequestMessage: 9553044db5d8459ca1e19c7acefdb744>, <RequestMessage: 0e8d26d3b71940f6b251d842c904cd37>]"
      ]
     },
     "execution_count": 65,
     "metadata": {},
     "output_type": "execute_result"
    }
   ],
   "source": [
    "domain_client.requests"
   ]
  },
  {
   "cell_type": "code",
   "execution_count": 67,
   "id": "c3f6b899",
   "metadata": {},
   "outputs": [],
   "source": [
    "domain_client.requests[-1].accept()"
   ]
  },
  {
   "cell_type": "code",
   "execution_count": 69,
   "id": "9a20c46f",
   "metadata": {
    "scrolled": true
   },
   "outputs": [
    {
     "data": {
      "text/html": [
       "<div>\n",
       "<style scoped>\n",
       "    .dataframe tbody tr th:only-of-type {\n",
       "        vertical-align: middle;\n",
       "    }\n",
       "\n",
       "    .dataframe tbody tr th {\n",
       "        vertical-align: top;\n",
       "    }\n",
       "\n",
       "    .dataframe thead th {\n",
       "        text-align: right;\n",
       "    }\n",
       "</style>\n",
       "<table border=\"1\" class=\"dataframe\">\n",
       "  <thead>\n",
       "    <tr style=\"text-align: right;\">\n",
       "      <th></th>\n",
       "      <th>Name</th>\n",
       "      <th>Email</th>\n",
       "      <th>Role</th>\n",
       "      <th>Request Type</th>\n",
       "      <th>Status</th>\n",
       "      <th>Reason</th>\n",
       "      <th>Request ID</th>\n",
       "      <th>Requested Object's ID</th>\n",
       "      <th>Requested Object's tags</th>\n",
       "      <th>Requested Budget</th>\n",
       "      <th>Current Budget</th>\n",
       "    </tr>\n",
       "  </thead>\n",
       "  <tbody>\n",
       "    <tr>\n",
       "      <th>0</th>\n",
       "      <td>Zarreen1</td>\n",
       "      <td>znr1@openmined.org</td>\n",
       "      <td>Data Scientist</td>\n",
       "      <td>DATA</td>\n",
       "      <td>accepted</td>\n",
       "      <td></td>\n",
       "      <td>&lt;UID: bd60e487c6864957b0e0ddb4fec510ae&gt;</td>\n",
       "      <td>&lt;UID: a5fa8a2aeecd4838bf8c357bcd4d838f&gt;</td>\n",
       "      <td>[]</td>\n",
       "      <td>NaN</td>\n",
       "      <td>NaN</td>\n",
       "    </tr>\n",
       "    <tr>\n",
       "      <th>1</th>\n",
       "      <td>Zarreen1</td>\n",
       "      <td>znr1@openmined.org</td>\n",
       "      <td>Data Scientist</td>\n",
       "      <td>DATA</td>\n",
       "      <td>accepted</td>\n",
       "      <td></td>\n",
       "      <td>&lt;UID: 9553044db5d8459ca1e19c7acefdb744&gt;</td>\n",
       "      <td>&lt;UID: c55fcfacfa184a91b8308a91f7101f26&gt;</td>\n",
       "      <td>[]</td>\n",
       "      <td>NaN</td>\n",
       "      <td>NaN</td>\n",
       "    </tr>\n",
       "    <tr>\n",
       "      <th>2</th>\n",
       "      <td>Jane Doe</td>\n",
       "      <td>janedoe@skywalker.net</td>\n",
       "      <td>Data Scientist</td>\n",
       "      <td>BUDGET</td>\n",
       "      <td>accepted</td>\n",
       "      <td>Query might save millions of lives</td>\n",
       "      <td>&lt;UID: 0e8d26d3b71940f6b251d842c904cd37&gt;</td>\n",
       "      <td>None</td>\n",
       "      <td>[]</td>\n",
       "      <td>55.0</td>\n",
       "      <td>999690.0625</td>\n",
       "    </tr>\n",
       "  </tbody>\n",
       "</table>\n",
       "</div>"
      ],
      "text/plain": [
       "[<RequestMessage: bd60e487c6864957b0e0ddb4fec510ae>, <RequestMessage: 9553044db5d8459ca1e19c7acefdb744>, <RequestMessage: 0e8d26d3b71940f6b251d842c904cd37>]"
      ]
     },
     "execution_count": 69,
     "metadata": {},
     "output_type": "execute_result"
    }
   ],
   "source": [
    "domain_client.requests"
   ]
  },
  {
   "cell_type": "markdown",
   "id": "92bc25f5",
   "metadata": {},
   "source": [
    "On the Data Scientist's side, they can check if they were granted additional budget."
   ]
  },
  {
   "cell_type": "code",
   "execution_count": 70,
   "id": "7d17b9de",
   "metadata": {},
   "outputs": [
    {
     "data": {
      "text/plain": [
       "999745.0357041412"
      ]
     },
     "execution_count": 70,
     "metadata": {},
     "output_type": "execute_result"
    }
   ],
   "source": [
    "skywalker.privacy_budget"
   ]
  },
  {
   "cell_type": "markdown",
   "id": "70277a2f",
   "metadata": {},
   "source": [
    "Awesome 👏 !! You have successfully exceuted **remote data science** on private data!"
   ]
  },
  {
   "cell_type": "markdown",
   "id": "328e5801",
   "metadata": {},
   "source": [
    "If you would like to shut down the domain server, you can easily do so by running the following command"
   ]
  },
  {
   "cell_type": "code",
   "execution_count": 71,
   "id": "bec210ee",
   "metadata": {},
   "outputs": [
    {
     "name": "stdout",
     "output_type": "stream",
     "text": [
      "\u001b[2K✅ Updated HAGrid from branch: \u001b[1;36m0.7\u001b[0m.\u001b[1;36m0\u001b[0mm\n",
      "\u001b[2K\u001b[32m⠼\u001b[0m \u001b[1;34mUpdating HAGrid from branch: 0.7.0\u001b[0m\n",
      "\u001b[1A\u001b[2KHAGrid land test_domain complete!\n"
     ]
    }
   ],
   "source": [
    "!hagrid land {DOMAIN_NAME} --silent --force"
   ]
  },
  {
   "cell_type": "markdown",
   "id": "bd5d5a37",
   "metadata": {},
   "source": [
    "#### How to find the right `sigma`"
   ]
  },
  {
   "cell_type": "markdown",
   "id": "92975314",
   "metadata": {},
   "source": [
    "`Sigma` represents how much noise the user wants added to the result. The noise is randomly selected from a Gaussian distribution with `sigma` as the `standard deviation` and `zero mean`.\n",
    "\n",
    "So the first thing we need to remember while setting sigma is that if we set a very low sigma compared to the published value, it might not add enough noise, and the user would require a large privacy budget to get the accurate result. On the other hand, decreasing the value of sigma will result in more accurate results but at the expense of a more privacy budget being spent and leaking more information about private data.\n",
    "\n",
    "Example: Let's assume the value being published is `100000`, then adding a slight noise of `20` will result in `100020`, which isn't a significant noise comparatively and thus would require a large budget to be spent. Similarly, if the value being published is `0.1` and you add noise of `20`, then the result value is 20.1 which is way off from the actual result and thus affects the accuracy of the result, although having spent low `epsilon`."
   ]
  },
  {
   "cell_type": "code",
   "execution_count": null,
   "id": "a05040d5",
   "metadata": {},
   "outputs": [],
   "source": []
  }
 ],
 "metadata": {
  "kernelspec": {
   "display_name": "Python 3 (ipykernel)",
   "language": "python",
   "name": "python3"
  },
  "language_info": {
   "codemirror_mode": {
    "name": "ipython",
    "version": 3
   },
   "file_extension": ".py",
   "mimetype": "text/x-python",
   "name": "python",
   "nbconvert_exporter": "python",
   "pygments_lexer": "ipython3",
   "version": "3.10.4"
  }
 },
 "nbformat": 4,
 "nbformat_minor": 5
}

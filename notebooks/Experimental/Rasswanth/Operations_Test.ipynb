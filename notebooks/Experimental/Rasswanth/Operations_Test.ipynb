{
 "cells": [
  {
   "cell_type": "code",
   "execution_count": 1,
   "id": "a025c1bd-43f3-4e9d-aacf-c611b9589478",
   "metadata": {},
   "outputs": [],
   "source": [
    "%load_ext autoreload\n",
    "%autoreload 2\n",
    "import syft as sy\n",
    "import numpy as np\n",
    "import operator"
   ]
  },
  {
   "cell_type": "code",
   "execution_count": 2,
   "id": "a21fc32b-e7ac-4a76-a79a-1558299faf45",
   "metadata": {},
   "outputs": [
    {
     "name": "stdout",
     "output_type": "stream",
     "text": [
      "\u001b[93mWARNING:\u001b[0m CHANGE YOUR USERNAME AND PASSWORD!!! \n",
      "\n",
      "Anyone can login as an admin to your node right now because your password is still the default PySyft username and password!!!\n",
      "\n",
      "Connecting to localhost... done! \t Logging into canada... done!\n"
     ]
    }
   ],
   "source": [
    "domain = sy.login(email=\"info@openmined.org\",password=\"changethis\",port=8081)"
   ]
  },
  {
   "cell_type": "code",
   "execution_count": 3,
   "id": "572c2f6b-4e0e-4e02-a594-b2e1ccc2ff50",
   "metadata": {},
   "outputs": [],
   "source": [
    "data = np.array([[1,2],[3,4]])"
   ]
  },
  {
   "cell_type": "code",
   "execution_count": 4,
   "id": "3e0a9b0c-6635-400c-b829-fd89b25d3a32",
   "metadata": {},
   "outputs": [
    {
     "name": "stdout",
     "output_type": "stream",
     "text": [
      "Tensor annotated with DP Metadata!\n",
      "You can upload this Tensor to a domain node by calling `<domain_client>.load_dataset` and passing in this tensor as an asset.\n"
     ]
    },
    {
     "name": "stderr",
     "output_type": "stream",
     "text": [
      "/var/folders/q_/bf0dgn9d0gn14h2h2rmv55pm0000gn/T/ipykernel_23965/1023805817.py:1: DeprecationWarning: This method is deprecated in v0.7.0 and will be removed in future version updates. It is replaced with `annotate_with_dp_metadata` to provide a user-friendly experience. One can call `help(syft.Tensor.annotate_with_dp_metadata)` to learn more about its use.\n",
      "  tensor = sy.Tensor(data).private(min_val=0,max_val=5\n"
     ]
    }
   ],
   "source": [
    "tensor = sy.Tensor(data).private(min_val=0,max_val=5\n",
    "                                 ,data_subjects=[\"natsu\"])"
   ]
  },
  {
   "cell_type": "code",
   "execution_count": 5,
   "id": "cd68eb88-f560-4b77-84ed-b423333cb6ed",
   "metadata": {},
   "outputs": [
    {
     "data": {
      "text/plain": [
       "Tensor(child=PhiTensor(child=[[1 2]\n",
       " [3 4]], min_vals=<lazyrepeatarray data: [0] -> shape: (2, 2)>, max_vals=<lazyrepeatarray data: [5] -> shape: (2, 2)>))"
      ]
     },
     "execution_count": 5,
     "metadata": {},
     "output_type": "execute_result"
    }
   ],
   "source": [
    "tensor"
   ]
  },
  {
   "cell_type": "code",
   "execution_count": 6,
   "id": "04e348b6-d7f3-473b-a7f5-fb0575566ea0",
   "metadata": {},
   "outputs": [],
   "source": [
    "phi_tensor = tensor.child\n",
    "gamma_tensor = tensor.child.gamma"
   ]
  },
  {
   "cell_type": "code",
   "execution_count": 7,
   "id": "563d3208-a6b8-4f74-8b3e-4ac603818cfd",
   "metadata": {},
   "outputs": [
    {
     "data": {
      "text/plain": [
       "array([[1, 1],\n",
       "       [1, 1]])"
      ]
     },
     "execution_count": 7,
     "metadata": {},
     "output_type": "execute_result"
    }
   ],
   "source": [
    "data // data"
   ]
  },
  {
   "cell_type": "code",
   "execution_count": 8,
   "id": "2a9db3e0-88ed-429d-922a-f789ba8b682e",
   "metadata": {},
   "outputs": [
    {
     "name": "stderr",
     "output_type": "stream",
     "text": [
      "/Users/rasswanth/PySyft/packages/syft/src/syft/core/tensor/lazy_repeat_array.py:238: RuntimeWarning: divide by zero encountered in floor_divide\n",
      "  res = (other // self.data)\n"
     ]
    },
    {
     "data": {
      "text/plain": [
       "PhiTensor(child=[[1 1]\n",
       " [1 1]], min_vals=<lazyrepeatarray data: [[0 0]\n",
       " [0 0]] -> shape: (2, 2)>, max_vals=<lazyrepeatarray data: [[0 0]\n",
       " [0 0]] -> shape: (2, 2)>)"
      ]
     },
     "execution_count": 8,
     "metadata": {},
     "output_type": "execute_result"
    }
   ],
   "source": [
    "data //  phi_tensor"
   ]
  },
  {
   "cell_type": "code",
   "execution_count": 10,
   "id": "cba3bd01-de2c-40a6-b1ec-3a6dcc9cd70d",
   "metadata": {},
   "outputs": [
    {
     "data": {
      "text/plain": [
       "GammaTensor(child=array([[1, 1],\n",
       "       [1, 1]]), data_subjects=array([[DataSubjectArray: {'natsu'}, DataSubjectArray: {'natsu'}],\n",
       "       [DataSubjectArray: {'natsu'}, DataSubjectArray: {'natsu'}]],\n",
       "      dtype=object), min_vals=<lazyrepeatarray data: 0 -> shape: (2, 2)>, max_vals=<lazyrepeatarray data: 0 -> shape: (2, 2)>, is_linear=True, func_str='noop', id='1151731398', sources={})"
      ]
     },
     "execution_count": 10,
     "metadata": {},
     "output_type": "execute_result"
    }
   ],
   "source": [
    "data //  gamma_tensor"
   ]
  },
  {
   "cell_type": "code",
   "execution_count": 11,
   "id": "f75d6e05-8335-4a3f-a278-e665c9fdaa43",
   "metadata": {},
   "outputs": [
    {
     "name": "stderr",
     "output_type": "stream",
     "text": [
      "Uploading `8f41b32bc57e4ac6a67c372e17f67ae3`: 100%|\u001b[32m███████████████████\u001b[0m| 1/1 [00:00<00:00, 75.84it/s]\u001b[0m\n",
      "Uploading `e03238ed431b4afd849766603704ea90`: 100%|\u001b[32m██████████████████\u001b[0m| 1/1 [00:00<00:00, 136.72it/s]\u001b[0m\n"
     ]
    }
   ],
   "source": [
    "phi_ptr = sy.Tensor(phi_tensor).send(domain)\n",
    "gamma_ptr = sy.Tensor(gamma_tensor).send(domain)"
   ]
  },
  {
   "cell_type": "code",
   "execution_count": 12,
   "id": "fd03f246-1a39-489b-9f5a-6576d91b5283",
   "metadata": {},
   "outputs": [],
   "source": [
    "res1 = data //  phi_ptr"
   ]
  },
  {
   "cell_type": "code",
   "execution_count": 13,
   "id": "3ff46088-a8dd-4004-9f3b-a969930e4328",
   "metadata": {},
   "outputs": [
    {
     "data": {
      "text/plain": [
       "Tensor(child=PhiTensor(child=[[1 1]\n",
       " [1 1]], min_vals=<lazyrepeatarray data: [[0 0]\n",
       " [0 0]] -> shape: (2, 2)>, max_vals=<lazyrepeatarray data: [[0 0]\n",
       " [0 0]] -> shape: (2, 2)>))"
      ]
     },
     "execution_count": 13,
     "metadata": {},
     "output_type": "execute_result"
    }
   ],
   "source": [
    "res1.block\n",
    "res1.get_copy()"
   ]
  },
  {
   "cell_type": "code",
   "execution_count": 14,
   "id": "f7ea39ae-f652-4cee-be7f-47ac5b9461d5",
   "metadata": {},
   "outputs": [],
   "source": [
    "res2 = data //  gamma_ptr"
   ]
  },
  {
   "cell_type": "code",
   "execution_count": 15,
   "id": "1b8bf57a-9b62-4a82-b871-3a5e99a980be",
   "metadata": {},
   "outputs": [
    {
     "data": {
      "text/plain": [
       "Tensor(child=GammaTensor(child=array([[1, 1],\n",
       "       [1, 1]]), data_subjects=array([[DataSubjectArray: {'natsu'}, DataSubjectArray: {'natsu'}],\n",
       "       [DataSubjectArray: {'natsu'}, DataSubjectArray: {'natsu'}]],\n",
       "      dtype=object), min_vals=<lazyrepeatarray data: 0 -> shape: (2, 2)>, max_vals=<lazyrepeatarray data: 0 -> shape: (2, 2)>, is_linear=True, func_str='noop', id='1288502988', sources={}))"
      ]
     },
     "execution_count": 15,
     "metadata": {},
     "output_type": "execute_result"
    }
   ],
   "source": [
    "res2.block\n",
    "res2.get_copy()"
   ]
  },
  {
   "cell_type": "code",
   "execution_count": null,
   "id": "0414d558-d6fb-4a5f-b31b-4371b18f5563",
   "metadata": {},
   "outputs": [],
   "source": []
  }
 ],
 "metadata": {
  "kernelspec": {
   "display_name": "Python 3 (ipykernel)",
   "language": "python",
   "name": "python3"
  },
  "language_info": {
   "codemirror_mode": {
    "name": "ipython",
    "version": 3
   },
   "file_extension": ".py",
   "mimetype": "text/x-python",
   "name": "python",
   "nbconvert_exporter": "python",
   "pygments_lexer": "ipython3",
   "version": "3.9.13"
  }
 },
 "nbformat": 4,
 "nbformat_minor": 5
}

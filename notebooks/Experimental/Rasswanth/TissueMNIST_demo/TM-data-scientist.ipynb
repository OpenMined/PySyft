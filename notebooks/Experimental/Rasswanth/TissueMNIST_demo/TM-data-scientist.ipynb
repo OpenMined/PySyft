{
 "cells": [
  {
   "cell_type": "code",
   "execution_count": 1,
   "id": "39ac81b7-c51a-4f38-bd5a-fcf52bf6d8cc",
   "metadata": {},
   "outputs": [
    {
     "name": "stderr",
     "output_type": "stream",
     "text": [
      "/home/azureuser/.local/share/virtualenvs/python39-2vM0bQN-/lib/python3.9/site-packages/tqdm/auto.py:22: TqdmWarning: IProgress not found. Please update jupyter and ipywidgets. See https://ipywidgets.readthedocs.io/en/stable/user_install.html\n",
      "  from .autonotebook import tqdm as notebook_tqdm\n"
     ]
    },
    {
     "name": "stdout",
     "output_type": "stream",
     "text": [
      "You're running syft version: 0.7.0-beta.21\n"
     ]
    }
   ],
   "source": [
    "# install syft if we are on google colab\n",
    "%load_ext autoreload\n",
    "%autoreload 2\n",
    "import syft as sy\n",
    "print(f\"You're running syft version: {sy.__version__}\")\n",
    "import numpy as np\n",
    "import pandas as pd\n",
    "from tqdm import tqdm\n",
    "import time"
   ]
  },
  {
   "cell_type": "code",
   "execution_count": 2,
   "id": "52a04982",
   "metadata": {},
   "outputs": [
    {
     "name": "stdout",
     "output_type": "stream",
     "text": [
      "WARNING: CHANGE YOUR USERNAME AND PASSWORD!!! \n",
      "\n",
      "Anyone can login as an admin to your node right now because your password is still the default PySyft username and password!!!\n",
      "\n",
      "Connecting to localhost... done! \t Logging into canada... done!\n"
     ]
    }
   ],
   "source": [
    "domain_client = sy.login(email='info@openmined.org', password='changethis',port = 8081)"
   ]
  },
  {
   "cell_type": "code",
   "execution_count": null,
   "id": "fc139e5b-a73d-4bf8-bc0f-9184e0aba7e4",
   "metadata": {},
   "outputs": [],
   "source": [
    "data = domain_client.datasets[-1]\n",
    "\n",
    "X_train = data[\"train_images\"]\n",
    "Y_train = data[\"train_labels\"]\n",
    "\n",
    "X_dev = data[\"train_images\"]\n",
    "Y_dev = data[\"train_labels\"]\n",
    "\n",
    "m,n = X_train.public_shape\n",
    "\n",
    "X_train = X_train.T\n",
    "X_train = X_train *(1/ 255.0)\n",
    "\n",
    "X_dev = X_dev.T\n",
    "X_dev = X_dev *(1/ 255.0)"
   ]
  },
  {
   "cell_type": "code",
   "execution_count": 4,
   "metadata": {},
   "outputs": [
    {
     "data": {
      "text/plain": [
       "9999999.0"
      ]
     },
     "execution_count": 4,
     "metadata": {},
     "output_type": "execute_result"
    }
   ],
   "source": [
    "from syft.core.node.common.node_service.user_manager.user_messages import (\n",
    "    UpdateUserMessage,\n",
    ")\n",
    "\n",
    "# Upgrade admins budget\n",
    "content = {\"user_id\": 1, \"budget\": 9_999_999}\n",
    "domain_client._perform_grid_request(grid_msg=UpdateUserMessage, content=content)\n",
    "\n",
    "domain_client.privacy_budget"
   ]
  },
  {
   "cell_type": "code",
   "execution_count": 7,
   "id": "0b8aa572-db50-4730-a175-94287da1b75d",
   "metadata": {},
   "outputs": [],
   "source": [
    "def init_params(input_size: int):\n",
    "    print(f\"Using input size: {input_size}\")\n",
    "    W1 = np.random.rand(8, input_size) - 0.5\n",
    "    b1 = np.random.rand(8, 1) - 0.5\n",
    "    W2 = np.random.rand(8, 8) - 0.5\n",
    "    b2 = np.random.rand(8, 1) - 0.5\n",
    "    return W1, b1, W2, b2\n",
    "\n",
    "def ReLU(Z):\n",
    "    return Z*(Z>0)\n",
    "\n",
    "def softmax(Z):\n",
    "    exp_cache = Z.exp()\n",
    "    inv =  (exp_cache.sum().reciprocal())\n",
    "    \n",
    "    A = exp_cache * inv\n",
    "    return A\n",
    "    \n",
    "def forward_prop(W1, b1, W2, b2, X):    \n",
    "    Z1 = X.__rmatmul__(W1) + b1\n",
    "    A1 = ReLU(Z1)\n",
    "    Z2 = A1.__rmatmul__(W2) + b2\n",
    "    A2 = softmax(Z2) \n",
    "    return Z1, A1, Z2, A2\n",
    "\n",
    "\n",
    "def ReLU_deriv(Z):\n",
    "    return Z > 0\n",
    "\n",
    "def one_hot(Y):\n",
    "    one_hot_Y = np.zeros((Y.size, Y.max() + 1))\n",
    "    one_hot_Y[np.arange(Y.size),Y] = 1\n",
    "    one_hot_Y = one_hot_Y.T\n",
    "    return one_hot_Y\n",
    "\n",
    "def backward_prop(Z1, A1, Z2, A2, W1, W2, X, Y):\n",
    "    one_hot_Y = Y.one_hot()\n",
    "    dZ2 = A2 - one_hot_Y\n",
    "    dW2 = dZ2@(A1.T) * (1/m)\n",
    "    db2 = dZ2.sum() * (1/m)\n",
    "    dZ1 = dZ2.__rmatmul__(W2.T) * ReLU_deriv(Z1)\n",
    "    dW1 = dZ1@(X.T) * (1/m)\n",
    "    db1 = dZ1.sum()*(1/m)\n",
    "    return dW1, db1, dW2, db2\n",
    "\n",
    "def update_params(W1, b1, W2, b2, dW1, db1, dW2, db2, alpha):\n",
    "    W1 = (dW1 * alpha - W1) * -1\n",
    "    b1 = (db1 * alpha - b1) * -1\n",
    "    W2 = (dW2 * alpha - W2) * -1\n",
    "    b2 = (db2 * alpha - b2) * -1\n",
    "    return W1, b1, W2, b2\n",
    "\n",
    "\n",
    "def get_predictions(A2):\n",
    "    return np.argmax(A2, 0)\n",
    "\n",
    "def get_accuracy(predictions, Y):\n",
    "    return np.sum(predictions == Y) / Y.size\n",
    "\n",
    "def gradient_descent(X, Y, alpha, iterations):\n",
    "    W1, b1, W2, b2 = init_params(X.public_shape[0])\n",
    "    print(\"[INFO]: Starting training!\\n\")\n",
    "    for i in tqdm(range(iterations)):\n",
    "        Z1, A1, Z2, A2 = forward_prop(W1, b1, W2, b2, X)\n",
    "        dW1, db1, dW2, db2 = backward_prop(Z1, A1, Z2, A2, W1, W2, X, Y)\n",
    "\n",
    "        W1, b1, W2, b2 = update_params(W1, b1, W2, b2, dW1, db1, dW2, db2, alpha)\n",
    "        # if i % 40 == 0:\n",
    "        #     print(\"Predicition will be availabe in the next iteration.....Thank you for your support.\")\n",
    "        #     # predictions = get_predictions(A2)\n",
    "        #     # print(\"Iteration: \", i, \" Accuracy : \" ,get_accuracy(predictions, Y))\n",
    "\n",
    "    return W1, b1, W2, b2"
   ]
  },
  {
   "cell_type": "code",
   "execution_count": null,
   "id": "482bcf5e-a8fe-471c-8a24-f6533b91148a",
   "metadata": {},
   "outputs": [],
   "source": [
    "W1, b1, W2, b2 = gradient_descent(X_train, Y_train, 0.10, 1)"
   ]
  },
  {
   "cell_type": "code",
   "execution_count": 9,
   "id": "02bb0d4a-2bc4-4052-bfb2-c3ab36ca40bd",
   "metadata": {},
   "outputs": [],
   "source": [
    "for ptr in [W1, b1, W2, b2]:\n",
    "    ptr.block_with_timeout(60)"
   ]
  },
  {
   "cell_type": "code",
   "execution_count": 10,
   "id": "a4df5d12-094d-4e53-833a-3790be52b4ef",
   "metadata": {},
   "outputs": [
    {
     "name": "stdout",
     "output_type": "stream",
     "text": [
      "True\n",
      "True\n",
      "True\n",
      "True\n"
     ]
    }
   ],
   "source": [
    "print(W1.exists)\n",
    "print(b1.exists)\n",
    "print(W2.exists)\n",
    "print(b2.exists)"
   ]
  },
  {
   "cell_type": "code",
   "execution_count": null,
   "id": "dae5d37a",
   "metadata": {},
   "outputs": [],
   "source": [
    "# DEBUG CELLS\n",
    "# W1_O = W1.get_copy()\n",
    "# print(type(W1_O))\n",
    "\n",
    "# b1_O = b1.get_copy()\n",
    "# print(type((b1_O.child)))\n",
    "\n",
    "# W2_O = W2.get_copy()\n",
    "# print(type((W2_O.child)))\n",
    "\n",
    "# b2_O = b2.get_copy()\n",
    "# print(type((b2_O.child)))\n"
   ]
  },
  {
   "cell_type": "code",
   "execution_count": 11,
   "id": "fe0e7e69-9921-48eb-b20e-3bd1b3b31ea6",
   "metadata": {},
   "outputs": [],
   "source": [
    "W1 = W1.publish(sigma=1000)\n",
    "b1 = b1.publish(sigma=1000)\n",
    "W2 = W2.publish(sigma=1000)\n",
    "b2 = b2.publish(sigma=1000)"
   ]
  },
  {
   "cell_type": "code",
   "execution_count": 12,
   "metadata": {},
   "outputs": [
    {
     "name": "stdout",
     "output_type": "stream",
     "text": [
      "Using input size: 784\n",
      "(8, 784)\n",
      "(8, 1)\n",
      "(8, 8)\n",
      "(8, 1)\n"
     ]
    }
   ],
   "source": [
    "a,b,c,d = init_params(X_train.public_shape[0])\n",
    "print(a.shape)\n",
    "print(b.shape)\n",
    "print(c.shape)\n",
    "print(d.shape)"
   ]
  },
  {
   "cell_type": "code",
   "execution_count": 13,
   "metadata": {},
   "outputs": [],
   "source": [
    "t1,t2,t3,t4 = W1.get_copy(),b1.get_copy(),W2.get_copy(),b2.get_copy()"
   ]
  },
  {
   "cell_type": "code",
   "execution_count": 14,
   "metadata": {},
   "outputs": [
    {
     "name": "stdout",
     "output_type": "stream",
     "text": [
      "(8, 784)\n",
      "(8,)\n",
      "(8, 8)\n",
      "(8,)\n"
     ]
    }
   ],
   "source": [
    "print(t1.shape)\n",
    "print(t2.shape)\n",
    "print(t3.shape)\n",
    "print(t4.shape)"
   ]
  },
  {
   "cell_type": "code",
   "execution_count": 18,
   "metadata": {},
   "outputs": [
    {
     "data": {
      "text/plain": [
       "array([-1.02879817e+13, -1.02879817e+13, -1.02879817e+13, -1.02879818e+13,\n",
       "       -1.02879818e+13, -1.02879817e+13, -1.02879817e+13, -1.02879817e+13])"
      ]
     },
     "execution_count": 18,
     "metadata": {},
     "output_type": "execute_result"
    }
   ],
   "source": [
    "t4"
   ]
  }
 ],
 "metadata": {
  "interpreter": {
   "hash": "630449982b6186a6531308cd76ed4d510e9db65154e43844c2906c6a20ad2a6d"
  },
  "kernelspec": {
   "display_name": "Python 3.9.4 64-bit ('python39-2vM0bQN-': pipenv)",
   "name": "python3"
  },
  "language_info": {
   "codemirror_mode": {
    "name": "ipython",
    "version": 3
   },
   "file_extension": ".py",
   "mimetype": "text/x-python",
   "name": "python",
   "nbconvert_exporter": "python",
   "pygments_lexer": "ipython3",
   "version": "3.9.4"
  }
 },
 "nbformat": 4,
 "nbformat_minor": 5
}

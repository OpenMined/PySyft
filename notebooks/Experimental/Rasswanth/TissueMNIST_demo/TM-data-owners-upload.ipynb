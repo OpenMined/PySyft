{
 "cells": [
  {
   "cell_type": "markdown",
   "id": "1a72486f-ffbd-4800-bc03-5e6427964faa",
   "metadata": {
    "tags": []
   },
   "source": [
    "# Step 4: Tissue MNIST Upload a Dataset"
   ]
  },
  {
   "cell_type": "code",
   "execution_count": 17,
   "id": "b923206d",
   "metadata": {},
   "outputs": [],
   "source": [
    "import syft as sy\n",
    "from utils import *"
   ]
  },
  {
   "cell_type": "code",
   "execution_count": 28,
   "id": "7f682a99",
   "metadata": {},
   "outputs": [
    {
     "name": "stdout",
     "output_type": "stream",
     "text": [
      "WARNING: CHANGE YOUR USERNAME AND PASSWORD!!! \n",
      "\n",
      "Anyone can login as an admin to your node right now because your password is still the default PySyft username and password!!!\n",
      "\n",
      "Connecting to localhost... done! \t Logging into india... done!\n"
     ]
    }
   ],
   "source": [
    "# Let's log into the domain using the credentials\n",
    "ADMIN_EMAIL = \"info@openmined.org\"\n",
    "ADMIN_PASSWORD = \"changethis\"\n",
    "DOMAIN1_PORT = 808\n",
    "domain_client = sy.login(\n",
    "     email=ADMIN_EMAIL, password=ADMIN_PASSWORD,port = DOMAIN1_PORT\n",
    ")"
   ]
  },
  {
   "cell_type": "code",
   "execution_count": 29,
   "id": "05104edb-4b9c-4608-8e76-b3ebe8a60ba6",
   "metadata": {},
   "outputs": [
    {
     "name": "stdout",
     "output_type": "stream",
     "text": [
      "My Dataset URL:  https://raw.githubusercontent.com/OpenMined/datasets/main/TissueMNIST/subsets/TissueMNIST-e6916fbe07ec4302be04779d346e8a94.pkl\n",
      "TissueMNIST-e6916fbe07ec4302be04779d346e8a94.pkl is already downloaded\n",
      "Columns: Index(['patient_ids', 'images', 'labels'], dtype='object')\n",
      "Total Images: 2363\n",
      "Label Mapping {'Collecting Duct, Connecting Tubule': 0, 'Distal Convoluted Tubule': 1, 'Glomerular endothelial cells': 2, 'Interstitial endothelial cells': 3, 'Leukocytes': 4, 'Podocytes': 5, 'Proximal Tubule Segments': 6, 'Thick Ascending Limb': 7}\n"
     ]
    },
    {
     "data": {
      "text/html": [
       "<div>\n",
       "<style scoped>\n",
       "    .dataframe tbody tr th:only-of-type {\n",
       "        vertical-align: middle;\n",
       "    }\n",
       "\n",
       "    .dataframe tbody tr th {\n",
       "        vertical-align: top;\n",
       "    }\n",
       "\n",
       "    .dataframe thead th {\n",
       "        text-align: right;\n",
       "    }\n",
       "</style>\n",
       "<table border=\"1\" class=\"dataframe\">\n",
       "  <thead>\n",
       "    <tr style=\"text-align: right;\">\n",
       "      <th></th>\n",
       "      <th>patient_ids</th>\n",
       "      <th>images</th>\n",
       "      <th>labels</th>\n",
       "    </tr>\n",
       "  </thead>\n",
       "  <tbody>\n",
       "    <tr>\n",
       "      <th>0</th>\n",
       "      <td>55614</td>\n",
       "      <td>[[18, 24, 65, 110, 113, 90, 74, 68, 43, 29, 14...</td>\n",
       "      <td>4</td>\n",
       "    </tr>\n",
       "    <tr>\n",
       "      <th>1</th>\n",
       "      <td>55614</td>\n",
       "      <td>[[5, 6, 9, 12, 10, 9, 15, 24, 33, 28, 28, 31, ...</td>\n",
       "      <td>1</td>\n",
       "    </tr>\n",
       "    <tr>\n",
       "      <th>2</th>\n",
       "      <td>55614</td>\n",
       "      <td>[[15, 11, 10, 11, 10, 6, 6, 9, 9, 11, 12, 12, ...</td>\n",
       "      <td>5</td>\n",
       "    </tr>\n",
       "    <tr>\n",
       "      <th>3</th>\n",
       "      <td>55614</td>\n",
       "      <td>[[6, 5, 5, 5, 5, 5, 4, 4, 8, 7, 6, 5, 5, 6, 6,...</td>\n",
       "      <td>7</td>\n",
       "    </tr>\n",
       "    <tr>\n",
       "      <th>4</th>\n",
       "      <td>55614</td>\n",
       "      <td>[[31, 14, 13, 18, 11, 7, 13, 18, 11, 11, 12, 1...</td>\n",
       "      <td>0</td>\n",
       "    </tr>\n",
       "  </tbody>\n",
       "</table>\n",
       "</div>"
      ],
      "text/plain": [
       "   patient_ids                                             images  labels\n",
       "0        55614  [[18, 24, 65, 110, 113, 90, 74, 68, 43, 29, 14...       4\n",
       "1        55614  [[5, 6, 9, 12, 10, 9, 15, 24, 33, 28, 28, 31, ...       1\n",
       "2        55614  [[15, 11, 10, 11, 10, 6, 6, 9, 9, 11, 12, 12, ...       5\n",
       "3        55614  [[6, 5, 5, 5, 5, 5, 4, 4, 8, 7, 6, 5, 5, 6, 6,...       7\n",
       "4        55614  [[31, 14, 13, 18, 11, 7, 13, 18, 11, 11, 12, 1...       0"
      ]
     },
     "execution_count": 29,
     "metadata": {},
     "output_type": "execute_result"
    }
   ],
   "source": [
    "# edit MY_DATASET_URL then run this cell\n",
    "MY_DATASET_URL = \"https://raw.githubusercontent.com/OpenMined/datasets/main/TissueMNIST/subsets/TissueMNIST-e6916fbe07ec4302be04779d346e8a94.pkl\"\n",
    "print(\"My Dataset URL: \", MY_DATASET_URL)\n",
    "dataset = download_dataset(MY_DATASET_URL)\n",
    "dataset.head()"
   ]
  },
  {
   "cell_type": "code",
   "execution_count": 30,
   "metadata": {},
   "outputs": [
    {
     "name": "stdout",
     "output_type": "stream",
     "text": [
      "Splitting dataset into train, validation and test sets.\n",
      "Preprocessing the dataset...\n",
      "Preprocessing completed.\n"
     ]
    }
   ],
   "source": [
    "# run this cell\n",
    "train, val, test = split_and_preprocess_dataset(data=dataset)"
   ]
  },
  {
   "cell_type": "code",
   "execution_count": 31,
   "metadata": {},
   "outputs": [
    {
     "name": "stdout",
     "output_type": "stream",
     "text": [
      "Data is now Private\n"
     ]
    }
   ],
   "source": [
    "# run this cell\n",
    "def make_private_tensors(split):\n",
    "    data_subjects = DataSubjectList.from_series(split[\"patient_ids\"])\n",
    "    return (\n",
    "        sy.Tensor(split[\"images\"]).private(min_val=0, max_val=255, data_subjects=data_subjects),\n",
    "        sy.Tensor(split[\"labels\"]).private(min_val=0, max_val=7, data_subjects=data_subjects)\n",
    "    )\n",
    "\n",
    "train_image_data, train_label_data = make_private_tensors(train)\n",
    "val_image_data, val_label_data = make_private_tensors(val)\n",
    "test_image_data, test_label_data = make_private_tensors(test)\n",
    "print(\"Data is now Private\")"
   ]
  },
  {
   "cell_type": "code",
   "execution_count": 32,
   "id": "9b8df79f",
   "metadata": {},
   "outputs": [
    {
     "name": "stdout",
     "output_type": "stream",
     "text": [
      "Loading dataset... checking asset types...                              \n",
      "\n",
      "**Warning**: Blob Storage is disabled on this domain. Switching to database store.\n",
      "\n",
      "Dataset is uploaded successfully !!! 🎉\n",
      "\n",
      "Run `<your client variable>.datasets` to see your new dataset loaded into your machine!\n"
     ]
    }
   ],
   "source": [
    "# run this cell\n",
    "domain_client.load_dataset(\n",
    "    name=\"TissueMNIST\",\n",
    "    assets={\n",
    "        \"train_images\": train_image_data,\n",
    "        \"train_labels\": train_label_data,\n",
    "        \"val_images\": val_image_data,\n",
    "        \"val_labels\": val_label_data,\n",
    "        \"test_images\": test_image_data,\n",
    "        \"test_labels\": test_label_data,\n",
    "    },\n",
    "    description=\"This dataset is a modified form of TissueMNIST which is made available from the Broad Bioimage Benchmark Collection.\"\n",
    ")"
   ]
  },
  {
   "cell_type": "markdown",
   "id": "ba5c03e4",
   "metadata": {},
   "source": [
    "Now let's check if the dataset we successfully uploaded"
   ]
  },
  {
   "cell_type": "code",
   "execution_count": 13,
   "id": "991e5bb1",
   "metadata": {},
   "outputs": [
    {
     "name": "stdout",
     "output_type": "stream",
     "text": [
      "Dataset: TissueMNIST\n",
      "Description: This dataset is a modified form of TissueMNIST which is made available from the Broad Bioimage Benchmark Collection.\n",
      "\n"
     ]
    },
    {
     "data": {
      "text/html": [
       "<style>\n",
       "        #myInput {\n",
       "          background-position: 10px 12px; /* Position the search icon */\n",
       "          background-repeat: no-repeat; /* Do not repeat the icon image */\n",
       "          background-color: #bbb;\n",
       "          width: 98%; /* Full-width */\n",
       "          font-size: 14px; /* Increase font-size */\n",
       "          padding: 12px 20px 12px 40px; /* Add some padding */\n",
       "          border: 1px solid #ddd; /* Add a grey border */\n",
       "          margin-bottom: 12px; /* Add some space below the input */\n",
       "        }\n",
       "\n",
       "        #myTable {\n",
       "          border-collapse: collapse; /* Collapse borders */\n",
       "          width: 50%; /* Full-width */\n",
       "          border: 1px solid #ddd; /* Add a grey border */\n",
       "          font-size: 14px; /* Increase font-size */\n",
       "        }\n",
       "\n",
       "        #myTable th, #myTable td {\n",
       "          text-align: left; /* Left-align text */\n",
       "          padding: 10px; /* Add padding */\n",
       "        }\n",
       "\n",
       "        #myTable tr {\n",
       "          /* Add a bottom border to all table rows */\n",
       "          border-bottom: 1px solid #ddd;\n",
       "        }\n",
       "\n",
       "        #myTable tr.header, #myTable tr:hover {\n",
       "          /* Add a grey background color to the table header and on hover */\n",
       "          background-color: #777;\n",
       "        }\n",
       "        </style>\n",
       "\n",
       "        <table id=\"myTable\">\n",
       "          <tr class=\"header\">\n",
       "            <th style=\"width:15%;\">Asset Key</th>\n",
       "            <th style=\"width:20%;\">Type</th>\n",
       "            <th style=\"width:10%;\">Shape</th>\n",
       "          </tr>\n",
       "        \n",
       "\n",
       "              <tr>\n",
       "            <td>[\"train_images\"]</td>\n",
       "            <td>int64</td>\n",
       "            <td>(1635, 784)</td>\n",
       "          </tr>\n",
       "\n",
       "              <tr>\n",
       "            <td>[\"train_labels\"]</td>\n",
       "            <td>int64</td>\n",
       "            <td>(1635,)</td>\n",
       "          </tr>\n",
       "\n",
       "              <tr>\n",
       "            <td>[\"val_images\"]</td>\n",
       "            <td>int64</td>\n",
       "            <td>(221, 784)</td>\n",
       "          </tr>\n",
       "\n",
       "              <tr>\n",
       "            <td>[\"val_labels\"]</td>\n",
       "            <td>int64</td>\n",
       "            <td>(221,)</td>\n",
       "          </tr>\n",
       "\n",
       "              <tr>\n",
       "            <td>[\"test_images\"]</td>\n",
       "            <td>int64</td>\n",
       "            <td>(507, 784)</td>\n",
       "          </tr>\n",
       "\n",
       "              <tr>\n",
       "            <td>[\"test_labels\"]</td>\n",
       "            <td>int64</td>\n",
       "            <td>(507,)</td>\n",
       "          </tr>\n",
       "        </table>\n",
       "\n",
       "        "
      ],
      "text/plain": [
       "<syft.core.node.common.client_manager.dataset_api.Dataset at 0x7f1753b0f340>"
      ]
     },
     "execution_count": 13,
     "metadata": {},
     "output_type": "execute_result"
    }
   ],
   "source": [
    "domain_client.datasets[-1]"
   ]
  },
  {
   "cell_type": "markdown",
   "id": "ee7c4aa2-1833-49c6-8fa1-92421f156961",
   "metadata": {},
   "source": [
    "## Step 4d: Create a Data Scientist Account"
   ]
  },
  {
   "cell_type": "code",
   "execution_count": 15,
   "id": "b2878747-ff5c-4805-b069-1c4e283d2a5c",
   "metadata": {},
   "outputs": [],
   "source": [
    "data_scientist_details = {\n",
    "    \"name\": \"Samantha Carter\",\n",
    "    \"email\": \"sam@sg1.net\",\n",
    "    \"password\": \"stargate\",\n",
    "    \"budget\": 9999,\n",
    "}"
   ]
  },
  {
   "cell_type": "code",
   "execution_count": null,
   "id": "781c9baf-9715-46cb-bc64-790597a369f3",
   "metadata": {},
   "outputs": [],
   "source": [
    "domain_client.users.create(**data_scientist_details)"
   ]
  },
  {
   "cell_type": "code",
   "execution_count": null,
   "id": "f5aec7e8-29d8-48b4-89d2-80a2252558ad",
   "metadata": {},
   "outputs": [],
   "source": [
    "print(\"Please give these details to the data scientist 👇🏽\")\n",
    "login_details = {}\n",
    "login_details[\"url\"] = 8081\n",
    "login_details[\"name\"] = data_scientist_details[\"name\"]\n",
    "login_details[\"email\"] = data_scientist_details[\"email\"]\n",
    "login_details[\"password\"] = data_scientist_details[\"password\"]\n",
    "login_details[\"dataset_name\"] = name\n",
    "print()\n",
    "print(login_details)"
   ]
  },
  {
   "cell_type": "code",
   "execution_count": null,
   "id": "106b8985-3694-43d2-aac5-2285941b2235",
   "metadata": {},
   "outputs": [],
   "source": []
  }
 ],
 "metadata": {
  "interpreter": {
   "hash": "630449982b6186a6531308cd76ed4d510e9db65154e43844c2906c6a20ad2a6d"
  },
  "kernelspec": {
   "display_name": "Python 3.9.4 64-bit ('python39-2vM0bQN-': pipenv)",
   "name": "python3"
  },
  "language_info": {
   "codemirror_mode": {
    "name": "ipython",
    "version": 3
   },
   "file_extension": ".py",
   "mimetype": "text/x-python",
   "name": "python",
   "nbconvert_exporter": "python",
   "pygments_lexer": "ipython3",
   "version": "3.9.4"
  }
 },
 "nbformat": 4,
 "nbformat_minor": 5
}

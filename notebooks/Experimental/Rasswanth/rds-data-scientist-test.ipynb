{
 "cells": [
  {
   "cell_type": "markdown",
   "id": "7deeffc9",
   "metadata": {},
   "source": [
    "### Step 1: Import packages"
   ]
  },
  {
   "cell_type": "code",
   "execution_count": 74,
   "id": "39ac81b7-c51a-4f38-bd5a-fcf52bf6d8cc",
   "metadata": {},
   "outputs": [
    {
     "name": "stdout",
     "output_type": "stream",
     "text": [
      "The autoreload extension is already loaded. To reload it, use:\n",
      "  %reload_ext autoreload\n"
     ]
    }
   ],
   "source": [
    "# install syft if we are on google colab\n",
    "%load_ext autoreload\n",
    "%autoreload 2\n",
    "import sys, os; os.system(\"pip install --pre syft\") if \"google.colab\" in sys.modules else \"\"\n",
    "import syft as sy\n",
    "import numpy as np\n",
    "import pandas as pd\n",
    "from tqdm import tqdm\n",
    "import time\n",
    "from utils import *"
   ]
  },
  {
   "cell_type": "code",
   "execution_count": 75,
   "id": "2f276285-b413-42c6-8620-e92d57954ecc",
   "metadata": {},
   "outputs": [
    {
     "name": "stdout",
     "output_type": "stream",
     "text": [
      "WARNING: CHANGE YOUR USERNAME AND PASSWORD!!! \n",
      "\n",
      "Anyone can login as an admin to your node right now because your password is still the default PySyft username and password!!!\n",
      "\n",
      "Connecting to localhost... done! \t Logging into canada... done!\n",
      "WARNING: CHANGE YOUR USERNAME AND PASSWORD!!! \n",
      "\n",
      "Anyone can login as an admin to your node right now because your password is still the default PySyft username and password!!!\n",
      "\n",
      "Connecting to localhost... done! \t Logging into italy... done!\n",
      "WARNING: CHANGE YOUR USERNAME AND PASSWORD!!! \n",
      "\n",
      "Anyone can login as an admin to your node right now because your password is still the default PySyft username and password!!!\n",
      "\n",
      "Connecting to localhost... done! \t Logging into india... done!\n"
     ]
    }
   ],
   "source": [
    "domains = []\n",
    "for i in range(8081,8084):\n",
    "    domains.append(sy.login(email=\"info@openmined.org\",password=\"changethis\",port=i))"
   ]
  },
  {
   "cell_type": "code",
   "execution_count": 76,
   "id": "bce0c330",
   "metadata": {},
   "outputs": [
    {
     "name": "stdout",
     "output_type": "stream",
     "text": [
      "Dataset: TissueMNIST\n",
      "Description: This dataset is a modified form of TissueMNIST which is made available from the Broad Bioimage Benchmark Collection.\n",
      "\n"
     ]
    },
    {
     "data": {
      "text/html": [
       "<style>\n",
       "        #myInput {\n",
       "          background-position: 10px 12px; /* Position the search icon */\n",
       "          background-repeat: no-repeat; /* Do not repeat the icon image */\n",
       "          background-color: #bbb;\n",
       "          width: 98%; /* Full-width */\n",
       "          font-size: 14px; /* Increase font-size */\n",
       "          padding: 12px 20px 12px 40px; /* Add some padding */\n",
       "          border: 1px solid #ddd; /* Add a grey border */\n",
       "          margin-bottom: 12px; /* Add some space below the input */\n",
       "        }\n",
       "\n",
       "        #myTable {\n",
       "          border-collapse: collapse; /* Collapse borders */\n",
       "          width: 50%; /* Full-width */\n",
       "          border: 1px solid #ddd; /* Add a grey border */\n",
       "          font-size: 14px; /* Increase font-size */\n",
       "        }\n",
       "\n",
       "        #myTable th, #myTable td {\n",
       "          text-align: left; /* Left-align text */\n",
       "          padding: 10px; /* Add padding */\n",
       "        }\n",
       "\n",
       "        #myTable tr {\n",
       "          /* Add a bottom border to all table rows */\n",
       "          border-bottom: 1px solid #ddd;\n",
       "        }\n",
       "\n",
       "        #myTable tr.header, #myTable tr:hover {\n",
       "          /* Add a grey background color to the table header and on hover */\n",
       "          background-color: #777;\n",
       "        }\n",
       "        </style>\n",
       "\n",
       "        <table id=\"myTable\">\n",
       "          <tr class=\"header\">\n",
       "            <th style=\"width:15%;\">Asset Key</th>\n",
       "            <th style=\"width:20%;\">Type</th>\n",
       "            <th style=\"width:10%;\">Shape</th>\n",
       "          </tr>\n",
       "        \n",
       "\n",
       "              <tr>\n",
       "            <td>[\"train_images\"]</td>\n",
       "            <td>int64</td>\n",
       "            <td>(1627, 784)</td>\n",
       "          </tr>\n",
       "\n",
       "              <tr>\n",
       "            <td>[\"train_labels\"]</td>\n",
       "            <td>int64</td>\n",
       "            <td>(1627,)</td>\n",
       "          </tr>\n",
       "\n",
       "              <tr>\n",
       "            <td>[\"val_images\"]</td>\n",
       "            <td>int64</td>\n",
       "            <td>(244, 784)</td>\n",
       "          </tr>\n",
       "\n",
       "              <tr>\n",
       "            <td>[\"val_labels\"]</td>\n",
       "            <td>int64</td>\n",
       "            <td>(244,)</td>\n",
       "          </tr>\n",
       "\n",
       "              <tr>\n",
       "            <td>[\"test_images\"]</td>\n",
       "            <td>int64</td>\n",
       "            <td>(492, 784)</td>\n",
       "          </tr>\n",
       "\n",
       "              <tr>\n",
       "            <td>[\"test_labels\"]</td>\n",
       "            <td>int64</td>\n",
       "            <td>(492,)</td>\n",
       "          </tr>\n",
       "        </table>\n",
       "\n",
       "        "
      ],
      "text/plain": [
       "<syft.core.node.common.client_manager.dataset_api.Dataset at 0x7fb148334a90>"
      ]
     },
     "execution_count": 76,
     "metadata": {},
     "output_type": "execute_result"
    }
   ],
   "source": [
    "domains[0].datasets[-1]"
   ]
  },
  {
   "cell_type": "code",
   "execution_count": 77,
   "id": "fc139e5b-a73d-4bf8-bc0f-9184e0aba7e4",
   "metadata": {},
   "outputs": [
    {
     "name": "stdout",
     "output_type": "stream",
     "text": [
      "\n",
      "**Warning**: Blob Storage is disabled on this client node. Switching to database store.\n",
      "\n",
      "**Warning**: Blob Storage is disabled on this client node. Switching to database store.\n",
      "\n",
      "**Warning**: Blob Storage is disabled on this client node. Switching to database store.\n",
      "\n",
      "**Warning**: Blob Storage is disabled on this client node. Switching to database store.\n",
      "\n",
      "**Warning**: Blob Storage is disabled on this client node. Switching to database store.\n",
      "\n",
      "**Warning**: Blob Storage is disabled on this client node. Switching to database store.\n"
     ]
    }
   ],
   "source": [
    "X_train , X_val, Y_train, Y_val = preprocess_data_on_domains(domains)"
   ]
  },
  {
   "cell_type": "code",
   "execution_count": 112,
   "id": "0b8aa572-db50-4730-a175-94287da1b75d",
   "metadata": {},
   "outputs": [
    {
     "name": "stdout",
     "output_type": "stream",
     "text": [
      "Using input size: 784\n",
      "Using label size: 8\n",
      "[INFO]: Starting training!\n",
      "\n"
     ]
    },
    {
     "name": "stderr",
     "output_type": "stream",
     "text": [
      "  0%|          | 0/1 [00:00<?, ?it/s]"
     ]
    },
    {
     "name": "stdout",
     "output_type": "stream",
     "text": [
      "\n",
      "**Warning**: Blob Storage is disabled on this client node. Switching to database store.\n",
      "\n",
      "**Warning**: Blob Storage is disabled on this client node. Switching to database store.\n",
      "\n",
      "**Warning**: Blob Storage is disabled on this client node. Switching to database store.\n",
      "\n",
      "**Warning**: Blob Storage is disabled on this client node. Switching to database store.\n",
      "\n",
      "**Warning**: Blob Storage is disabled on this client node. Switching to database store.\n",
      "\n",
      "**Warning**: Blob Storage is disabled on this client node. Switching to database store.\n",
      "\n",
      "**Warning**: Blob Storage is disabled on this client node. Switching to database store.\n",
      "\n",
      "**Warning**: Blob Storage is disabled on this client node. Switching to database store.\n",
      "\n",
      "**Warning**: Blob Storage is disabled on this client node. Switching to database store.\n",
      "\n",
      "**Warning**: Blob Storage is disabled on this client node. Switching to database store.\n",
      "\n",
      "**Warning**: Blob Storage is disabled on this client node. Switching to database store.\n",
      "\n",
      "**Warning**: Blob Storage is disabled on this client node. Switching to database store.\n",
      "\n",
      "**Warning**: Blob Storage is disabled on this client node. Switching to database store.\n",
      "\n",
      "**Warning**: Blob Storage is disabled on this client node. Switching to database store.\n",
      "\n",
      "**Warning**: Blob Storage is disabled on this client node. Switching to database store.\n",
      "\n",
      "**Warning**: Blob Storage is disabled on this client node. Switching to database store.\n",
      "\n",
      "**Warning**: Blob Storage is disabled on this client node. Switching to database store.\n",
      "\n",
      "**Warning**: Blob Storage is disabled on this client node. Switching to database store.\n",
      "\n",
      "**Warning**: Blob Storage is disabled on this client node. Switching to database store.\n",
      "\n",
      "**Warning**: Blob Storage is disabled on this client node. Switching to database store.\n"
     ]
    },
    {
     "name": "stderr",
     "output_type": "stream",
     "text": [
      "100%|██████████| 1/1 [00:01<00:00,  1.00s/it]\n"
     ]
    },
    {
     "name": "stdout",
     "output_type": "stream",
     "text": [
      "\n",
      "**Warning**: Blob Storage is disabled on this client node. Switching to database store.\n",
      "\n",
      "**Warning**: Blob Storage is disabled on this client node. Switching to database store.\n",
      "\n",
      "**Warning**: Blob Storage is disabled on this client node. Switching to database store.\n",
      "Using input size: 784\n",
      "Using label size: 8\n",
      "[INFO]: Starting training!\n",
      "\n"
     ]
    },
    {
     "name": "stderr",
     "output_type": "stream",
     "text": [
      "  0%|          | 0/1 [00:00<?, ?it/s]"
     ]
    },
    {
     "name": "stdout",
     "output_type": "stream",
     "text": [
      "\n",
      "**Warning**: Blob Storage is disabled on this client node. Switching to database store.\n",
      "\n",
      "**Warning**: Blob Storage is disabled on this client node. Switching to database store.\n",
      "\n",
      "**Warning**: Blob Storage is disabled on this client node. Switching to database store.\n",
      "\n",
      "**Warning**: Blob Storage is disabled on this client node. Switching to database store.\n",
      "\n",
      "**Warning**: Blob Storage is disabled on this client node. Switching to database store.\n",
      "\n",
      "**Warning**: Blob Storage is disabled on this client node. Switching to database store.\n",
      "\n",
      "**Warning**: Blob Storage is disabled on this client node. Switching to database store.\n",
      "\n",
      "**Warning**: Blob Storage is disabled on this client node. Switching to database store.\n",
      "\n",
      "**Warning**: Blob Storage is disabled on this client node. Switching to database store.\n",
      "\n",
      "**Warning**: Blob Storage is disabled on this client node. Switching to database store.\n",
      "\n",
      "**Warning**: Blob Storage is disabled on this client node. Switching to database store.\n",
      "Unable to json decode message. Expecting value: line 1 column 1 (char 0)\n",
      "\n",
      "**Warning**: Blob Storage is disabled on this client node. Switching to database store.\n",
      "\n",
      "**Warning**: Blob Storage is disabled on this client node. Switching to database store.\n",
      "\n",
      "**Warning**: Blob Storage is disabled on this client node. Switching to database store.\n",
      "\n",
      "**Warning**: Blob Storage is disabled on this client node. Switching to database store.\n",
      "\n",
      "**Warning**: Blob Storage is disabled on this client node. Switching to database store.\n",
      "\n",
      "**Warning**: Blob Storage is disabled on this client node. Switching to database store.\n",
      "\n",
      "**Warning**: Blob Storage is disabled on this client node. Switching to database store.\n",
      "\n",
      "**Warning**: Blob Storage is disabled on this client node. Switching to database store.\n",
      "\n",
      "**Warning**: Blob Storage is disabled on this client node. Switching to database store.\n"
     ]
    },
    {
     "name": "stderr",
     "output_type": "stream",
     "text": [
      "100%|██████████| 1/1 [00:01<00:00,  1.03s/it]\n"
     ]
    },
    {
     "name": "stdout",
     "output_type": "stream",
     "text": [
      "\n",
      "**Warning**: Blob Storage is disabled on this client node. Switching to database store.\n",
      "\n",
      "**Warning**: Blob Storage is disabled on this client node. Switching to database store.\n",
      "\n",
      "**Warning**: Blob Storage is disabled on this client node. Switching to database store.\n",
      "Using input size: 784\n",
      "Using label size: 8\n",
      "[INFO]: Starting training!\n",
      "\n"
     ]
    },
    {
     "name": "stderr",
     "output_type": "stream",
     "text": [
      "  0%|          | 0/1 [00:00<?, ?it/s]"
     ]
    },
    {
     "name": "stdout",
     "output_type": "stream",
     "text": [
      "\n",
      "**Warning**: Blob Storage is disabled on this client node. Switching to database store.\n",
      "\n",
      "**Warning**: Blob Storage is disabled on this client node. Switching to database store.\n",
      "\n",
      "**Warning**: Blob Storage is disabled on this client node. Switching to database store.\n",
      "\n",
      "**Warning**: Blob Storage is disabled on this client node. Switching to database store.\n",
      "\n",
      "**Warning**: Blob Storage is disabled on this client node. Switching to database store.\n",
      "\n",
      "**Warning**: Blob Storage is disabled on this client node. Switching to database store.\n",
      "\n",
      "**Warning**: Blob Storage is disabled on this client node. Switching to database store.\n",
      "\n",
      "**Warning**: Blob Storage is disabled on this client node. Switching to database store.\n",
      "\n",
      "**Warning**: Blob Storage is disabled on this client node. Switching to database store.\n",
      "\n",
      "**Warning**: Blob Storage is disabled on this client node. Switching to database store.\n",
      "\n",
      "**Warning**: Blob Storage is disabled on this client node. Switching to database store.\n",
      "\n",
      "**Warning**: Blob Storage is disabled on this client node. Switching to database store.\n",
      "\n",
      "**Warning**: Blob Storage is disabled on this client node. Switching to database store.\n",
      "\n",
      "**Warning**: Blob Storage is disabled on this client node. Switching to database store.\n",
      "\n",
      "**Warning**: Blob Storage is disabled on this client node. Switching to database store.\n",
      "\n",
      "**Warning**: Blob Storage is disabled on this client node. Switching to database store.\n",
      "\n",
      "**Warning**: Blob Storage is disabled on this client node. Switching to database store.\n",
      "\n",
      "**Warning**: Blob Storage is disabled on this client node. Switching to database store.\n",
      "\n",
      "**Warning**: Blob Storage is disabled on this client node. Switching to database store.\n",
      "\n",
      "**Warning**: Blob Storage is disabled on this client node. Switching to database store.\n"
     ]
    },
    {
     "name": "stderr",
     "output_type": "stream",
     "text": [
      "100%|██████████| 1/1 [00:01<00:00,  1.10s/it]"
     ]
    },
    {
     "name": "stdout",
     "output_type": "stream",
     "text": [
      "\n",
      "**Warning**: Blob Storage is disabled on this client node. Switching to database store.\n",
      "\n",
      "**Warning**: Blob Storage is disabled on this client node. Switching to database store.\n",
      "\n",
      "**Warning**: Blob Storage is disabled on this client node. Switching to database store.\n"
     ]
    },
    {
     "name": "stderr",
     "output_type": "stream",
     "text": [
      "\n"
     ]
    }
   ],
   "source": [
    "def train_model(X, Y, alpha, iterations):\n",
    "    label_size = int(Y.max_vals.data-Y.min_vals.data+1)\n",
    "    m, n = X.public_shape\n",
    "    W1, b1, W2, b2 = init_params(m, label_size)\n",
    "    print(\"[INFO]: Starting training!\\n\")\n",
    "    for i in tqdm(range(iterations)):\n",
    "        \n",
    "        Z1, A1, Z2, A2 = forward_prop(W1, b1, W2, b2, X)\n",
    "        dW1, db1, dW2, db2 = backward_prop(Z1, A1, Z2, A2, W1, W2, X, Y)\n",
    "        W1, b1, W2, b2 = update_params(W1, b1, W2, b2, dW1, db1, dW2, db2, alpha)\n",
    "\n",
    "    return W1, b1, W2, b2\n",
    "\n",
    "# Contains the weight from all domain nodes\n",
    "W1, b1, W2, b2 = [], [], [], []\n",
    "for X, Y in zip(X_train, Y_train):\n",
    "    W1_train, b1_train, W2_train, b2_train = train_model(X, Y, 0.10, 1)\n",
    "    \n",
    "    W1.append(W1_train)\n",
    "    b1.append(b1_train)\n",
    "    W2.append(W2_train)\n",
    "    b2.append(b2_train)"
   ]
  },
  {
   "cell_type": "code",
   "execution_count": 79,
   "id": "70ce223b",
   "metadata": {},
   "outputs": [
    {
     "name": "stdout",
     "output_type": "stream",
     "text": [
      "Training Successful on  Domain Client ✅:<DomainClient - canada: <UID: 7866acb7f7a94c3981d8e25ba719d233>> \n",
      "Training Successful on  Domain Client ✅:<DomainClient - italy: <UID: c6cd6e8ab9504f08a9b384f215bc7494>> \n",
      "Training Successful on  Domain Client ✅:<DomainClient - india: <UID: 8f3a4ad168f641a7a7cc30def0f4225b>> \n"
     ]
    }
   ],
   "source": [
    "for p1,p2,p3,p4 in zip(W1,b1,W2,b2):\n",
    "    p1.block_with_timeout(60)\n",
    "    p2.block_with_timeout(60)\n",
    "    p3.block_with_timeout(60)\n",
    "    p4.block_with_timeout(60)\n",
    "\n",
    "    print(f\"Training Successful on  Domain Client ✅:{p1.client} \")"
   ]
  },
  {
   "cell_type": "code",
   "execution_count": 106,
   "metadata": {},
   "outputs": [],
   "source": [
    "parties = domains"
   ]
  },
  {
   "cell_type": "code",
   "execution_count": 107,
   "metadata": {},
   "outputs": [],
   "source": [
    "from syft.core.tensor.smpc.mpc_tensor import MPCTensor"
   ]
  },
  {
   "cell_type": "code",
   "execution_count": 114,
   "metadata": {},
   "outputs": [],
   "source": [
    "v1 = MPCTensor(secret=W1[0],parties=parties,shape=W1[0].public_shape)"
   ]
  },
  {
   "cell_type": "code",
   "execution_count": 115,
   "metadata": {},
   "outputs": [
    {
     "data": {
      "text/plain": [
       "array([[ 120138.80973816,   91965.22135925,  117071.54081726, ...,\n",
       "         -52937.50932312,  -49994.28153992,  -74179.87167358],\n",
       "       [ 110038.40252686,  -89302.82678223,  124181.44473267, ...,\n",
       "        -106987.22607422,   -8790.754776  ,   94089.91661072],\n",
       "       [ -12458.53863525,  -13779.49299622,  -17824.35469055, ...,\n",
       "         -24965.87680054,  -33537.23141479,  -44942.57449341],\n",
       "       ...,\n",
       "       [  23512.47595215,   30015.04748535,   38833.47213745, ...,\n",
       "          58194.61036682,   68173.36743164,   74263.54075623],\n",
       "       [ 112195.68519592,   79830.27075195, -130139.79153442, ...,\n",
       "          46863.15438843,  -91264.19415283,   35409.14720154],\n",
       "       [ -94033.03422546, -113672.5118103 ,  -65354.08268738, ...,\n",
       "         -18152.07359314,   31951.36474609,  101453.1063385 ]])"
      ]
     },
     "execution_count": 115,
     "metadata": {},
     "output_type": "execute_result"
    }
   ],
   "source": [
    "v1.get_copy()"
   ]
  },
  {
   "cell_type": "code",
   "execution_count": null,
   "metadata": {},
   "outputs": [],
   "source": [
    "domains[0].syft.core.tensor.smpc.share_tensor.ShareTensor.generate_przs_on_dp_tensor"
   ]
  },
  {
   "cell_type": "code",
   "execution_count": null,
   "metadata": {},
   "outputs": [],
   "source": [
    "from syft.core.node.common.action.przs_action import PRZSAction"
   ]
  },
  {
   "cell_type": "code",
   "execution_count": null,
   "metadata": {},
   "outputs": [],
   "source": [
    "res = RunClassMethodAction(_self=W1[0],id_at_location=W1[0].id_at_location,path=\"syft.core.tensor.Tensor.sum\",args=[],kwargs={},address=parties[0].address)"
   ]
  },
  {
   "cell_type": "code",
   "execution_count": null,
   "metadata": {},
   "outputs": [],
   "source": [
    "res = PRZSAction(is_dp_tensor=False,id_at_location=W1[0].id_at_location,path=\"syft.core.tensor.Tensor.sum\",args=[],kwargs={},address=parties[0].address)"
   ]
  },
  {
   "cell_type": "code",
   "execution_count": null,
   "metadata": {},
   "outputs": [],
   "source": [
    "sy.deserialize(sy.serialize(res,to_bytes=True),from_bytes=True).id"
   ]
  },
  {
   "cell_type": "code",
   "execution_count": 113,
   "id": "41058c17",
   "metadata": {},
   "outputs": [
    {
     "ename": "TypeError",
     "evalue": "descriptor 'seed_przs' for 'MPCTensor' objects doesn't apply to a 'MPCTensor' object",
     "output_type": "error",
     "traceback": [
      "\u001b[0;31m---------------------------------------------------------------------------\u001b[0m",
      "\u001b[0;31mTypeError\u001b[0m                                 Traceback (most recent call last)",
      "\u001b[0;32m/tmp/ipykernel_1094812/2123486424.py\u001b[0m in \u001b[0;36m<module>\u001b[0;34m\u001b[0m\n\u001b[0;32m----> 1\u001b[0;31m \u001b[0mavg_W1\u001b[0m\u001b[0;34m,\u001b[0m \u001b[0mavg_b1\u001b[0m\u001b[0;34m,\u001b[0m \u001b[0mavg_W2\u001b[0m\u001b[0;34m,\u001b[0m \u001b[0mavg_b2\u001b[0m \u001b[0;34m=\u001b[0m \u001b[0msmpc_weight_averaging\u001b[0m\u001b[0;34m(\u001b[0m\u001b[0mW1\u001b[0m\u001b[0;34m,\u001b[0m \u001b[0mb1\u001b[0m\u001b[0;34m,\u001b[0m \u001b[0mW2\u001b[0m\u001b[0;34m,\u001b[0m \u001b[0mb2\u001b[0m\u001b[0;34m)\u001b[0m\u001b[0;34m\u001b[0m\u001b[0;34m\u001b[0m\u001b[0m\n\u001b[0m\u001b[1;32m      2\u001b[0m \u001b[0;32mfor\u001b[0m \u001b[0mptr\u001b[0m \u001b[0;32min\u001b[0m \u001b[0;34m[\u001b[0m\u001b[0mavg_W1\u001b[0m\u001b[0;34m,\u001b[0m\u001b[0mavg_b1\u001b[0m\u001b[0;34m,\u001b[0m \u001b[0mavg_W2\u001b[0m\u001b[0;34m,\u001b[0m \u001b[0mavg_b2\u001b[0m\u001b[0;34m]\u001b[0m\u001b[0;34m:\u001b[0m\u001b[0;34m\u001b[0m\u001b[0;34m\u001b[0m\u001b[0m\n\u001b[1;32m      3\u001b[0m     \u001b[0mptr\u001b[0m\u001b[0;34m.\u001b[0m\u001b[0mblock_with_timeout\u001b[0m\u001b[0;34m(\u001b[0m\u001b[0;36m60\u001b[0m\u001b[0;34m)\u001b[0m\u001b[0;34m\u001b[0m\u001b[0;34m\u001b[0m\u001b[0m\n\u001b[1;32m      4\u001b[0m     \u001b[0mprint\u001b[0m\u001b[0;34m(\u001b[0m\u001b[0;34m\"SMPC Averaging Successful  ✅\"\u001b[0m\u001b[0;34m)\u001b[0m\u001b[0;34m\u001b[0m\u001b[0;34m\u001b[0m\u001b[0m\n",
      "\u001b[0;32m~/PySyft/notebooks/Experimental/Rasswanth/utils.py\u001b[0m in \u001b[0;36msmpc_weight_averaging\u001b[0;34m(W1, b1, W2, b2)\u001b[0m\n\u001b[1;32m    131\u001b[0m \u001b[0;34m\u001b[0m\u001b[0m\n\u001b[1;32m    132\u001b[0m \u001b[0;32mdef\u001b[0m \u001b[0msmpc_weight_averaging\u001b[0m\u001b[0;34m(\u001b[0m\u001b[0mW1\u001b[0m\u001b[0;34m,\u001b[0m \u001b[0mb1\u001b[0m\u001b[0;34m,\u001b[0m \u001b[0mW2\u001b[0m\u001b[0;34m,\u001b[0m \u001b[0mb2\u001b[0m\u001b[0;34m)\u001b[0m\u001b[0;34m:\u001b[0m\u001b[0;34m\u001b[0m\u001b[0;34m\u001b[0m\u001b[0m\n\u001b[0;32m--> 133\u001b[0;31m     \u001b[0mW1\u001b[0m\u001b[0;34m,\u001b[0m \u001b[0mb1\u001b[0m\u001b[0;34m,\u001b[0m \u001b[0mW2\u001b[0m\u001b[0;34m,\u001b[0m \u001b[0mb2\u001b[0m \u001b[0;34m=\u001b[0m \u001b[0mconvert_to_mpc_tensor\u001b[0m\u001b[0;34m(\u001b[0m\u001b[0mW1\u001b[0m\u001b[0;34m,\u001b[0m \u001b[0mb1\u001b[0m\u001b[0;34m,\u001b[0m \u001b[0mW2\u001b[0m\u001b[0;34m,\u001b[0m \u001b[0mb2\u001b[0m\u001b[0;34m)\u001b[0m\u001b[0;34m\u001b[0m\u001b[0;34m\u001b[0m\u001b[0m\n\u001b[0m\u001b[1;32m    134\u001b[0m     \u001b[0mn\u001b[0m \u001b[0;34m=\u001b[0m \u001b[0mlen\u001b[0m\u001b[0;34m(\u001b[0m\u001b[0mW1\u001b[0m\u001b[0;34m)\u001b[0m\u001b[0;34m\u001b[0m\u001b[0;34m\u001b[0m\u001b[0m\n\u001b[1;32m    135\u001b[0m     \u001b[0mavg_W1\u001b[0m\u001b[0;34m,\u001b[0m \u001b[0mavg_W2\u001b[0m\u001b[0;34m,\u001b[0m \u001b[0mavg_b1\u001b[0m\u001b[0;34m,\u001b[0m \u001b[0mavg_b2\u001b[0m \u001b[0;34m=\u001b[0m \u001b[0mW1\u001b[0m\u001b[0;34m[\u001b[0m\u001b[0;36m0\u001b[0m\u001b[0;34m]\u001b[0m\u001b[0;34m,\u001b[0m \u001b[0mW2\u001b[0m\u001b[0;34m[\u001b[0m\u001b[0;36m0\u001b[0m\u001b[0;34m]\u001b[0m\u001b[0;34m,\u001b[0m \u001b[0mb1\u001b[0m\u001b[0;34m[\u001b[0m\u001b[0;36m0\u001b[0m\u001b[0;34m]\u001b[0m\u001b[0;34m,\u001b[0m \u001b[0mb2\u001b[0m\u001b[0;34m[\u001b[0m\u001b[0;36m0\u001b[0m\u001b[0;34m]\u001b[0m\u001b[0;34m\u001b[0m\u001b[0;34m\u001b[0m\u001b[0m\n",
      "\u001b[0;32m~/PySyft/notebooks/Experimental/Rasswanth/utils.py\u001b[0m in \u001b[0;36mconvert_to_mpc_tensor\u001b[0;34m(*args)\u001b[0m\n\u001b[1;32m    123\u001b[0m     \u001b[0;32mfor\u001b[0m \u001b[0mi\u001b[0m \u001b[0;32min\u001b[0m \u001b[0mrange\u001b[0m\u001b[0;34m(\u001b[0m\u001b[0mlen\u001b[0m\u001b[0;34m(\u001b[0m\u001b[0margs\u001b[0m\u001b[0;34m)\u001b[0m\u001b[0;34m)\u001b[0m\u001b[0;34m:\u001b[0m\u001b[0;34m\u001b[0m\u001b[0;34m\u001b[0m\u001b[0m\n\u001b[1;32m    124\u001b[0m         \u001b[0;32mfor\u001b[0m \u001b[0mj\u001b[0m \u001b[0;32min\u001b[0m \u001b[0mrange\u001b[0m\u001b[0;34m(\u001b[0m\u001b[0mlen\u001b[0m\u001b[0;34m(\u001b[0m\u001b[0margs\u001b[0m\u001b[0;34m[\u001b[0m\u001b[0mi\u001b[0m\u001b[0;34m]\u001b[0m\u001b[0;34m)\u001b[0m\u001b[0;34m)\u001b[0m\u001b[0;34m:\u001b[0m\u001b[0;34m\u001b[0m\u001b[0;34m\u001b[0m\u001b[0m\n\u001b[0;32m--> 125\u001b[0;31m             args[i][j] = MPCTensor(\n\u001b[0m\u001b[1;32m    126\u001b[0m                 \u001b[0msecret\u001b[0m\u001b[0;34m=\u001b[0m\u001b[0margs\u001b[0m\u001b[0;34m[\u001b[0m\u001b[0mi\u001b[0m\u001b[0;34m]\u001b[0m\u001b[0;34m[\u001b[0m\u001b[0mj\u001b[0m\u001b[0;34m]\u001b[0m\u001b[0;34m,\u001b[0m \u001b[0mshape\u001b[0m\u001b[0;34m=\u001b[0m\u001b[0margs\u001b[0m\u001b[0;34m[\u001b[0m\u001b[0mi\u001b[0m\u001b[0;34m]\u001b[0m\u001b[0;34m[\u001b[0m\u001b[0mj\u001b[0m\u001b[0;34m]\u001b[0m\u001b[0;34m.\u001b[0m\u001b[0mpublic_shape\u001b[0m\u001b[0;34m,\u001b[0m \u001b[0mparties\u001b[0m\u001b[0;34m=\u001b[0m\u001b[0mparties\u001b[0m\u001b[0;34m\u001b[0m\u001b[0;34m\u001b[0m\u001b[0m\n\u001b[1;32m    127\u001b[0m             )\n",
      "\u001b[0;32m~/PySyft/packages/syft/src/syft/core/tensor/smpc/mpc_tensor.py\u001b[0m in \u001b[0;36m__init__\u001b[0;34m(self, parties, secret, shares, shape, seed_przs, ring_size)\u001b[0m\n\u001b[1;32m    102\u001b[0m             \u001b[0mseed_przs\u001b[0m \u001b[0;34m=\u001b[0m \u001b[0msecrets\u001b[0m\u001b[0;34m.\u001b[0m\u001b[0mrandbits\u001b[0m\u001b[0;34m(\u001b[0m\u001b[0;36m32\u001b[0m\u001b[0;34m)\u001b[0m\u001b[0;34m\u001b[0m\u001b[0;34m\u001b[0m\u001b[0m\n\u001b[1;32m    103\u001b[0m \u001b[0;34m\u001b[0m\u001b[0m\n\u001b[0;32m--> 104\u001b[0;31m         \u001b[0mself\u001b[0m\u001b[0;34m.\u001b[0m\u001b[0mseed_przs\u001b[0m \u001b[0;34m=\u001b[0m \u001b[0mseed_przs\u001b[0m\u001b[0;34m\u001b[0m\u001b[0;34m\u001b[0m\u001b[0m\n\u001b[0m\u001b[1;32m    105\u001b[0m         \u001b[0mself\u001b[0m\u001b[0;34m.\u001b[0m\u001b[0mparties\u001b[0m \u001b[0;34m=\u001b[0m \u001b[0mparties\u001b[0m\u001b[0;34m\u001b[0m\u001b[0;34m\u001b[0m\u001b[0m\n\u001b[1;32m    106\u001b[0m         \u001b[0mself\u001b[0m\u001b[0;34m.\u001b[0m\u001b[0mparties_info\u001b[0m \u001b[0;34m=\u001b[0m \u001b[0mMPCTensor\u001b[0m\u001b[0;34m.\u001b[0m\u001b[0mget_parties_info\u001b[0m\u001b[0;34m(\u001b[0m\u001b[0mparties\u001b[0m\u001b[0;34m)\u001b[0m\u001b[0;34m\u001b[0m\u001b[0;34m\u001b[0m\u001b[0m\n",
      "\u001b[0;31mTypeError\u001b[0m: descriptor 'seed_przs' for 'MPCTensor' objects doesn't apply to a 'MPCTensor' object"
     ]
    }
   ],
   "source": [
    "avg_W1, avg_b1, avg_W2, avg_b2 = smpc_weight_averaging(W1, b1, W2, b2)\n",
    "for ptr in [avg_W1,avg_b1, avg_W2, avg_b2]:\n",
    "    ptr.block_with_timeout(60)\n",
    "    print(\"SMPC Averaging Successful  ✅\")"
   ]
  },
  {
   "cell_type": "code",
   "execution_count": null,
   "id": "efb717de",
   "metadata": {},
   "outputs": [],
   "source": [
    "#Publish Weights Using DP\n",
    "sigma = 100\n",
    "avg_W1 = avg_W1.publish(sigma=sigma)\n",
    "avg_b1 = avg_b1.publish(sigma=sigma)\n",
    "avg_W2 = avg_W2.publish(sigma=sigma)\n",
    "avg_b2 = avg_b2.publish(sigma=sigma)\n",
    "print(\"You have witnessed and trained one of a kind ML Model Training with SMPC +DP \")"
   ]
  },
  {
   "cell_type": "code",
   "execution_count": null,
   "id": "9a5f7f13",
   "metadata": {},
   "outputs": [],
   "source": [
    "for p1,p2,p3,p4 in [(avg_W1, avg_b1, avg_W2, avg_b2)]:\n",
    "    p1.block_with_timeout(60)\n",
    "    p2.block_with_timeout(60)\n",
    "    p3.block_with_timeout(60)\n",
    "    p4.block_with_timeout(60)    \n",
    "print(\"Results are ready for download !!!\")"
   ]
  },
  {
   "cell_type": "code",
   "execution_count": null,
   "id": "07923bd7",
   "metadata": {},
   "outputs": [],
   "source": [
    "pub_W1, pub_b1, pub_W2, pub_b2 = avg_W1.get_copy(), avg_b1.get_copy(), avg_W2.get_copy(), avg_b2.get_copy()\n",
    "print(\"Woohoo.. your results are ready !!!\")"
   ]
  },
  {
   "cell_type": "code",
   "execution_count": null,
   "id": "902884c4",
   "metadata": {},
   "outputs": [],
   "source": [
    "print(pub_W1, pub_b1, pub_W2, pub_b2)"
   ]
  }
 ],
 "metadata": {
  "interpreter": {
   "hash": "630449982b6186a6531308cd76ed4d510e9db65154e43844c2906c6a20ad2a6d"
  },
  "kernelspec": {
   "display_name": "Python 3.9.4 64-bit ('python39-2vM0bQN-': pipenv)",
   "name": "python3"
  },
  "language_info": {
   "codemirror_mode": {
    "name": "ipython",
    "version": 3
   },
   "file_extension": ".py",
   "mimetype": "text/x-python",
   "name": "python",
   "nbconvert_exporter": "python",
   "pygments_lexer": "ipython3",
   "version": "3.9.4"
  }
 },
 "nbformat": 4,
 "nbformat_minor": 5
}

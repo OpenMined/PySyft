{
 "cells": [
  {
   "cell_type": "code",
   "execution_count": 10,
   "id": "0f0252ce-5cf6-46c4-9546-da1a24539175",
   "metadata": {},
   "outputs": [],
   "source": [
    "import syft as sy\n",
    "import torch\n",
    "import uuid"
   ]
  },
  {
   "cell_type": "code",
   "execution_count": 3,
   "id": "3cfac604-3931-4cfc-b9e4-25d886091939",
   "metadata": {},
   "outputs": [
    {
     "name": "stdout",
     "output_type": "stream",
     "text": [
      "WARNING: CHANGE YOUR USERNAME AND PASSWORD!!! \n",
      "\n",
      "Anyone can login as an admin to your node right now because your password is still the default PySyft username and password!!!\n",
      "\n",
      "Connecting to localhost... done! \t Logging into charming_he... done!\n",
      "WARNING: CHANGE YOUR USERNAME AND PASSWORD!!! \n",
      "\n",
      "Anyone can login as an admin to your node right now because your password is still the default PySyft username and password!!!\n",
      "\n",
      "Connecting to localhost... done! \t Logging into lucid_kearns... done!\n"
     ]
    }
   ],
   "source": [
    "network = sy.login(email=\"info@openmined.org\",password=\"changethis\", port=9081)\n",
    "domain = sy.login(email=\"info@openmined.org\",password=\"changethis\", port=9082)"
   ]
  },
  {
   "cell_type": "code",
   "execution_count": 7,
   "id": "f890db06-9d77-4e9e-8d6d-8ad96eacfca9",
   "metadata": {},
   "outputs": [],
   "source": [
    "unique_tag = str(uuid.uuid4())"
   ]
  },
  {
   "cell_type": "code",
   "execution_count": 12,
   "id": "d715d6fc-9e2a-4347-b352-aa2034b28781",
   "metadata": {},
   "outputs": [
    {
     "data": {
      "text/plain": [
       "<TensorPointer -> lucid_kearns:5a77f5e9b16f4685b557d39c43087265>"
      ]
     },
     "execution_count": 12,
     "metadata": {},
     "output_type": "execute_result"
    }
   ],
   "source": [
    "x = torch.Tensor([1, 2, 3])\n",
    "x.send(domain, tags=[unique_tag])"
   ]
  },
  {
   "cell_type": "code",
   "execution_count": 13,
   "id": "eca56888-927b-4d1a-a1b8-949727092b06",
   "metadata": {},
   "outputs": [],
   "source": [
    "query = [unique_tag]"
   ]
  },
  {
   "cell_type": "code",
   "execution_count": null,
   "id": "6db523db-17ca-44a2-932e-96858b7cd7de",
   "metadata": {},
   "outputs": [],
   "source": []
  }
 ],
 "metadata": {
  "kernelspec": {
   "display_name": "Python 3 (ipykernel)",
   "language": "python",
   "name": "python3"
  },
  "language_info": {
   "codemirror_mode": {
    "name": "ipython",
    "version": 3
   },
   "file_extension": ".py",
   "mimetype": "text/x-python",
   "name": "python",
   "nbconvert_exporter": "python",
   "pygments_lexer": "ipython3",
   "version": "3.9.4"
  }
 },
 "nbformat": 4,
 "nbformat_minor": 5
}

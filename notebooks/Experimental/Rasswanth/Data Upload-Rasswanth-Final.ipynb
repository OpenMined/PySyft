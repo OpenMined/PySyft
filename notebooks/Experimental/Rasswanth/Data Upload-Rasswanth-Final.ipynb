{
 "cells": [
  {
   "cell_type": "code",
   "execution_count": 1,
   "id": "a67f52ab-338f-4a3e-832f-2801bfe78e82",
   "metadata": {},
   "outputs": [
    {
     "name": "stdout",
     "output_type": "stream",
     "text": [
      "Requirement already satisfied: pycapnp in /Users/madhavajay/dev/PySyft/.tox/syft.jupyter/lib/python3.9/site-packages (1.1.0)\n",
      "\u001b[33mWARNING: You are using pip version 21.3.1; however, version 22.0.3 is available.\n",
      "You should consider upgrading via the '/Users/madhavajay/dev/PySyft/.tox/syft.jupyter/bin/python -m pip install --upgrade pip' command.\u001b[0m\n"
     ]
    }
   ],
   "source": [
    "!pip install pycapnp"
   ]
  },
  {
   "cell_type": "code",
   "execution_count": 2,
   "id": "994642ce",
   "metadata": {},
   "outputs": [],
   "source": [
    "%load_ext autoreload\n",
    "%autoreload 2\n",
    "# %load_ext line_profiler\n",
    "import numpy as np\n",
    "import pandas as pd\n",
    "# import torch\n",
    "# import gc\n",
    "import syft as sy\n",
    "from syft.core.adp.entity import DataSubject\n",
    "from syft.core.adp.entity_list import DataSubjectList\n",
    "# from pympler.asizeof import asizeof #pip install pympler\n",
    "from syft import serialize\n",
    "from syft import deserialize\n",
    "import timeit\n",
    "# from syft.core.tensor.autodp.dp_tensor_converter import convert_to_gamma_tensor\n",
    "\n",
    "# from functools import reduce\n",
    "import time\n",
    "import pyarrow as pa\n",
    "from syft.core.tensor.autodp.row_entity_phi import RowEntityPhiTensor as REPT"
   ]
  },
  {
   "cell_type": "code",
   "execution_count": 3,
   "id": "198ade1b",
   "metadata": {},
   "outputs": [
    {
     "name": "stdout",
     "output_type": "stream",
     "text": [
      "Number of Rows:  1000000\n",
      "1000000\n"
     ]
    }
   ],
   "source": [
    "df = pd.read_parquet(\"1M_rows_dataset_sample.parquet\")\n",
    "print(\"Number of Rows: \",df.shape[0])\n",
    "df.head()\n",
    "print(df.shape[0])"
   ]
  },
  {
   "cell_type": "code",
   "execution_count": 4,
   "id": "8edb1b8e",
   "metadata": {},
   "outputs": [],
   "source": [
    "# factor = 1\n",
    "# df = pd.concat([df] * factor, ignore_index=True)"
   ]
  },
  {
   "cell_type": "code",
   "execution_count": 5,
   "id": "b6432db9",
   "metadata": {},
   "outputs": [],
   "source": [
    "# df.shape[0] / 1e6"
   ]
  },
  {
   "cell_type": "code",
   "execution_count": 6,
   "id": "c767668e",
   "metadata": {
    "tags": []
   },
   "outputs": [],
   "source": [
    "# # Let's login into the domain node\n",
    "# domain_node = sy.login(email=\"info@openmined.org\", password=\"changethis\", port=8081)"
   ]
  },
  {
   "cell_type": "code",
   "execution_count": null,
   "id": "6ab4a022-4f11-4821-8ff6-207647d8583d",
   "metadata": {},
   "outputs": [],
   "source": []
  },
  {
   "cell_type": "code",
   "execution_count": 7,
   "id": "706b4f1c",
   "metadata": {},
   "outputs": [
    {
     "name": "stdout",
     "output_type": "stream",
     "text": [
      "CPU times: user 246 ms, sys: 23.6 ms, total: 270 ms\n",
      "Wall time: 270 ms\n"
     ]
    }
   ],
   "source": [
    "%%time\n",
    "name = \"Tweets- 100000 rows dataset \"\n",
    "impressions = ((np.array(list(df['impressions'])))).astype(np.int32)\n",
    "publication_title = ((list(df['publication_title'])))"
   ]
  },
  {
   "cell_type": "code",
   "execution_count": 8,
   "id": "d7c7834f-e8a2-4ced-bf71-4bc1fd202192",
   "metadata": {},
   "outputs": [
    {
     "data": {
      "text/plain": [
       "str"
      ]
     },
     "execution_count": 8,
     "metadata": {},
     "output_type": "execute_result"
    }
   ],
   "source": [
    "type(publication_title[0])"
   ]
  },
  {
   "cell_type": "code",
   "execution_count": 9,
   "id": "098d740b",
   "metadata": {},
   "outputs": [
    {
     "name": "stdout",
     "output_type": "stream",
     "text": [
      "CPU times: user 1.5 s, sys: 35.9 ms, total: 1.54 s\n",
      "Wall time: 1.55 s\n"
     ]
    }
   ],
   "source": [
    "%%time\n",
    "entities = list()\n",
    "for i in range(len(publication_title)):\n",
    "    entities.append(DataSubject(name=publication_title[i]))"
   ]
  },
  {
   "cell_type": "code",
   "execution_count": 10,
   "id": "8f5383da",
   "metadata": {},
   "outputs": [
    {
     "name": "stdout",
     "output_type": "stream",
     "text": [
      "7.180011034011841\n"
     ]
    }
   ],
   "source": [
    "t0 = time.time()\n",
    "tweets_data = sy.Tensor(impressions).private(min_val=0, max_val=30, entities = entities)\n",
    "tf = time.time() - t0\n",
    "print(tf)"
   ]
  },
  {
   "cell_type": "code",
   "execution_count": 11,
   "id": "51065eda-375b-47a3-8084-b1c15f2cbb40",
   "metadata": {},
   "outputs": [],
   "source": [
    "def extend_tweet_data(data, multiplier: int):\n",
    "    new_data = data.copy()\n",
    "    new_data.child.child = new_data.child.child.repeat(multiplier)\n",
    "    new_data.child._entities = DataSubjectList.from_objs(np.array([\"ishan\"] * multiplier * len(new_data.child._entities.entities_indexed)))\n",
    "    return new_data"
   ]
  },
  {
   "cell_type": "code",
   "execution_count": 51,
   "id": "967ab447-cde9-4b7a-895d-94f076681efa",
   "metadata": {},
   "outputs": [],
   "source": [
    "def benchmark(data):\n",
    "    start = time.time()\n",
    "    res = data.child.arrow_serialize()\n",
    "    end = time.time()\n",
    "    print(end-start)\n",
    "    return res"
   ]
  },
  {
   "cell_type": "code",
   "execution_count": 52,
   "id": "df8bf10c",
   "metadata": {},
   "outputs": [],
   "source": [
    "mil = tweets_data"
   ]
  },
  {
   "cell_type": "code",
   "execution_count": 53,
   "id": "2a64dc64-6016-45f3-9d80-83f11628c9d7",
   "metadata": {},
   "outputs": [
    {
     "data": {
      "text/plain": [
       "1000000"
      ]
     },
     "execution_count": 53,
     "metadata": {},
     "output_type": "execute_result"
    }
   ],
   "source": [
    "len(mil)"
   ]
  },
  {
   "cell_type": "code",
   "execution_count": 54,
   "id": "f823e749-801b-49a7-9648-c7fe2ab5c5eb",
   "metadata": {},
   "outputs": [
    {
     "name": "stdout",
     "output_type": "stream",
     "text": [
      "step 1: 0.02001500129699707\n",
      "Total Size:  0.15044795849609374\n",
      "step 2: 0.00023818016052246094\n",
      "Capnp Size:  0.1436920166015625\n",
      "0.021291017532348633\n"
     ]
    }
   ],
   "source": [
    "b = benchmark(mil)"
   ]
  },
  {
   "cell_type": "code",
   "execution_count": 55,
   "id": "37f2f59a-d460-4355-99e7-ef701d80f15b",
   "metadata": {},
   "outputs": [
    {
     "data": {
      "text/plain": [
       "bytes"
      ]
     },
     "execution_count": 55,
     "metadata": {},
     "output_type": "execute_result"
    }
   ],
   "source": [
    "type(b)"
   ]
  },
  {
   "cell_type": "code",
   "execution_count": 70,
   "id": "ed6796b7-7f84-43e0-b324-4953c0aefda6",
   "metadata": {},
   "outputs": [
    {
     "name": "stdout",
     "output_type": "stream",
     "text": [
      "child_metadata 4000192 int32\n",
      "step 2: 0.10100126266479492\n"
     ]
    }
   ],
   "source": [
    "x = REPT.arrow_deserialize(b)"
   ]
  },
  {
   "cell_type": "code",
   "execution_count": 71,
   "id": "51ea8406-0768-4327-8462-09894f4099c0",
   "metadata": {},
   "outputs": [
    {
     "data": {
      "text/plain": [
       "RowEntityPhiTensor(child=[9029 9029 9029 ... 9709 9709 9709])"
      ]
     },
     "execution_count": 71,
     "metadata": {},
     "output_type": "execute_result"
    }
   ],
   "source": [
    "x"
   ]
  },
  {
   "cell_type": "code",
   "execution_count": 72,
   "id": "eb2db0e9-d859-45d8-8d67-44d74386906a",
   "metadata": {},
   "outputs": [
    {
     "data": {
      "text/plain": [
       "1000000"
      ]
     },
     "execution_count": 72,
     "metadata": {},
     "output_type": "execute_result"
    }
   ],
   "source": [
    "len(mil.child)"
   ]
  },
  {
   "cell_type": "code",
   "execution_count": 73,
   "id": "d1fb858c-1e6d-41c8-8f4c-5d53d57a64ce",
   "metadata": {},
   "outputs": [
    {
     "data": {
      "text/plain": [
       "1000000"
      ]
     },
     "execution_count": 73,
     "metadata": {},
     "output_type": "execute_result"
    }
   ],
   "source": [
    "len(x.child)"
   ]
  },
  {
   "cell_type": "code",
   "execution_count": 74,
   "id": "ef64193c-bf86-4950-b0b2-0b8a4fe54071",
   "metadata": {},
   "outputs": [
    {
     "data": {
      "text/plain": [
       "True"
      ]
     },
     "execution_count": 74,
     "metadata": {},
     "output_type": "execute_result"
    }
   ],
   "source": [
    "(mil.child.child == x.child).all()"
   ]
  },
  {
   "cell_type": "code",
   "execution_count": 75,
   "id": "c8eba251-d404-40be-a218-157713acb248",
   "metadata": {},
   "outputs": [
    {
     "data": {
      "text/plain": [
       "True"
      ]
     },
     "execution_count": 75,
     "metadata": {},
     "output_type": "execute_result"
    }
   ],
   "source": [
    "mil.child._min_vals == x._min_vals"
   ]
  },
  {
   "cell_type": "code",
   "execution_count": 76,
   "id": "3462c8ae-6485-423b-adc8-0f866d88a33b",
   "metadata": {},
   "outputs": [
    {
     "data": {
      "text/plain": [
       "True"
      ]
     },
     "execution_count": 76,
     "metadata": {},
     "output_type": "execute_result"
    }
   ],
   "source": [
    "mil.child._max_vals == x._max_vals"
   ]
  },
  {
   "cell_type": "code",
   "execution_count": 77,
   "id": "90152186-8b1a-4ffe-9db7-f6e0fcfe72b5",
   "metadata": {},
   "outputs": [
    {
     "data": {
      "text/plain": [
       "array([ True,  True,  True, ...,  True,  True,  True])"
      ]
     },
     "execution_count": 77,
     "metadata": {},
     "output_type": "execute_result"
    }
   ],
   "source": [
    "mil.child._entities.entities_indexed == x._entities.entities_indexed"
   ]
  },
  {
   "cell_type": "code",
   "execution_count": 78,
   "id": "e85b38bf-bad0-4166-88a6-0c8123dda6cf",
   "metadata": {},
   "outputs": [
    {
     "data": {
      "text/plain": [
       "array([ True,  True,  True])"
      ]
     },
     "execution_count": 78,
     "metadata": {},
     "output_type": "execute_result"
    }
   ],
   "source": [
    "mil.child._entities.one_hot_lookup == x._entities.one_hot_lookup"
   ]
  },
  {
   "cell_type": "code",
   "execution_count": 79,
   "id": "9ee7c73f-4b11-42cd-a919-bc27b16d25b3",
   "metadata": {},
   "outputs": [
    {
     "data": {
      "text/plain": [
       "array([ True,  True,  True])"
      ]
     },
     "execution_count": 79,
     "metadata": {},
     "output_type": "execute_result"
    }
   ],
   "source": [
    "mil.child._entities.one_hot_lookup == x._entities.one_hot_lookup"
   ]
  },
  {
   "cell_type": "code",
   "execution_count": 80,
   "id": "f7ad60b4-2b5a-49e9-a7c8-b5a6090d516d",
   "metadata": {},
   "outputs": [
    {
     "data": {
      "text/plain": [
       "array([<DataSubject:Al Jazeera>, <DataSubject:AlterNet>,\n",
       "       <DataSubject:American Greatness>], dtype=object)"
      ]
     },
     "execution_count": 80,
     "metadata": {},
     "output_type": "execute_result"
    }
   ],
   "source": [
    "mil.child._entities.one_hot_lookup"
   ]
  },
  {
   "cell_type": "code",
   "execution_count": 81,
   "id": "43c37d82-6b1e-4da5-8880-a100dc96cd27",
   "metadata": {},
   "outputs": [
    {
     "data": {
      "text/plain": [
       "array(['Al Jazeera', 'AlterNet', 'American Greatness'], dtype='<U18')"
      ]
     },
     "execution_count": 81,
     "metadata": {},
     "output_type": "execute_result"
    }
   ],
   "source": [
    "x._entities.one_hot_lookup"
   ]
  },
  {
   "cell_type": "code",
   "execution_count": 83,
   "id": "34cd9f59-9afe-4252-823e-600bed7798ab",
   "metadata": {},
   "outputs": [],
   "source": [
    "ten_mil = extend_tweet_data(mil, 10)"
   ]
  },
  {
   "cell_type": "code",
   "execution_count": 84,
   "id": "067020e9-29df-42f6-89a2-7a1720d4c754",
   "metadata": {},
   "outputs": [
    {
     "name": "stdout",
     "output_type": "stream",
     "text": [
      "step 1: 0.10651898384094238\n",
      "Total Size:  0.00719995849609375\n",
      "step 2: 0.0001380443572998047\n",
      "Capnp Size:  0.00701141357421875\n",
      "0.1077120304107666\n"
     ]
    }
   ],
   "source": [
    "b = benchmark(ten_mil)"
   ]
  },
  {
   "cell_type": "code",
   "execution_count": null,
   "id": "321617c4-02fd-4254-b74f-e53d447d21cf",
   "metadata": {},
   "outputs": [],
   "source": []
  },
  {
   "cell_type": "code",
   "execution_count": null,
   "id": "fb360c80-888a-4c8c-8569-fd6ad641a1b4",
   "metadata": {},
   "outputs": [],
   "source": []
  },
  {
   "cell_type": "code",
   "execution_count": 82,
   "id": "6161ecff-53c9-4997-ac97-9fe364c1cf22",
   "metadata": {},
   "outputs": [],
   "source": [
    "hundred_mil = extend_tweet_data(mil, 100)"
   ]
  },
  {
   "cell_type": "code",
   "execution_count": 86,
   "id": "755dad9d-ad90-43e4-a78f-416027dd573c",
   "metadata": {},
   "outputs": [
    {
     "data": {
      "text/plain": [
       "100000000"
      ]
     },
     "execution_count": 86,
     "metadata": {},
     "output_type": "execute_result"
    }
   ],
   "source": [
    "len(hundred_mil)"
   ]
  },
  {
   "cell_type": "code",
   "execution_count": 85,
   "id": "b4ddf4bf-163f-488d-8361-92b7ce527c00",
   "metadata": {},
   "outputs": [
    {
     "name": "stdout",
     "output_type": "stream",
     "text": [
      "step 1: 1.0342206954956055\n",
      "Total Size:  0.06212495849609375\n",
      "step 2: 0.0001811981201171875\n",
      "Capnp Size:  0.05941009521484375\n",
      "1.0353949069976807\n"
     ]
    }
   ],
   "source": [
    "b = benchmark(hundred_mil)"
   ]
  },
  {
   "cell_type": "code",
   "execution_count": null,
   "id": "f394d169-1a77-444d-b0f3-fb667a5543b4",
   "metadata": {},
   "outputs": [],
   "source": [
    "# pyarrow record batch\n",
    "# benchmark(hundred_mil)\n",
    "# step 1: 11.958800077438354\n",
    "# Total Size:  900.042533\n",
    "# step 2: 0.91678786277771\n",
    "# 13.002313137054443"
   ]
  },
  {
   "cell_type": "code",
   "execution_count": null,
   "id": "4607c57f-692e-44d8-84ae-c4b1b876059c",
   "metadata": {},
   "outputs": [],
   "source": [
    "benchmark(hundred_mil)"
   ]
  },
  {
   "cell_type": "code",
   "execution_count": null,
   "id": "8f77730f-0923-411f-936d-12b109c133df",
   "metadata": {},
   "outputs": [],
   "source": [
    "bill = extend_tweet_data(mil, 1000)"
   ]
  },
  {
   "cell_type": "code",
   "execution_count": null,
   "id": "6e2139ca-db11-43d7-8348-1f44c520f6fd",
   "metadata": {},
   "outputs": [],
   "source": [
    "benchmark(bill)"
   ]
  },
  {
   "cell_type": "code",
   "execution_count": null,
   "id": "19769ca5-f697-4353-8b7a-d6f486ec3592",
   "metadata": {},
   "outputs": [],
   "source": []
  },
  {
   "cell_type": "code",
   "execution_count": null,
   "id": "481ae62c",
   "metadata": {},
   "outputs": [],
   "source": [
    "# len(tweets_data.child.child)/1e6"
   ]
  },
  {
   "cell_type": "code",
   "execution_count": null,
   "id": "f8fdfcfa",
   "metadata": {},
   "outputs": [],
   "source": [
    "# len(tweets_data.child._entities)/1e6"
   ]
  },
  {
   "cell_type": "code",
   "execution_count": null,
   "id": "76e191bc",
   "metadata": {},
   "outputs": [],
   "source": [
    "# %lprun -f tweets_data.child.child[0].entity.simple_assets_for_serde tweets_data.child.child[0].entity.simple_assets_for_serde()"
   ]
  },
  {
   "cell_type": "code",
   "execution_count": null,
   "id": "f2091864",
   "metadata": {},
   "outputs": [],
   "source": [
    "# %lprun -f tweets_data.child.arrow_serialize tweets_data.child.arrow_serialize()"
   ]
  },
  {
   "cell_type": "code",
   "execution_count": null,
   "id": "c50e2c32",
   "metadata": {
    "tags": []
   },
   "outputs": [],
   "source": []
  },
  {
   "cell_type": "code",
   "execution_count": null,
   "id": "34ca4d20-4274-434e-86aa-004ace2d91ad",
   "metadata": {},
   "outputs": [],
   "source": [
    "benchmark(bill)"
   ]
  },
  {
   "cell_type": "code",
   "execution_count": null,
   "id": "ba0d5993-cf86-4c46-91c1-e9212cbb2b69",
   "metadata": {},
   "outputs": [],
   "source": []
  },
  {
   "cell_type": "code",
   "execution_count": null,
   "id": "8d42f1d5",
   "metadata": {
    "tags": []
   },
   "outputs": [],
   "source": [
    "# tweets_data.child.child[0].scalar_manager.prime2symbol"
   ]
  },
  {
   "cell_type": "code",
   "execution_count": null,
   "id": "3b4ebb51",
   "metadata": {},
   "outputs": [],
   "source": [
    "%%time\n",
    "pa.serialize(np.random.rand(1_000_000))"
   ]
  },
  {
   "cell_type": "code",
   "execution_count": null,
   "id": "bb26e8fa",
   "metadata": {},
   "outputs": [],
   "source": [
    "%%time\n",
    "for i in range(1_000_000):\n",
    "    pa.serialize(np.random.rand(1))"
   ]
  },
  {
   "cell_type": "code",
   "execution_count": null,
   "id": "46ec0409",
   "metadata": {},
   "outputs": [],
   "source": []
  },
  {
   "cell_type": "code",
   "execution_count": null,
   "id": "1c173b15",
   "metadata": {},
   "outputs": [],
   "source": []
  },
  {
   "cell_type": "code",
   "execution_count": null,
   "id": "17a73ead",
   "metadata": {},
   "outputs": [],
   "source": []
  },
  {
   "cell_type": "code",
   "execution_count": null,
   "id": "77b42732",
   "metadata": {},
   "outputs": [],
   "source": []
  },
  {
   "cell_type": "code",
   "execution_count": null,
   "id": "7a5cf4b8",
   "metadata": {},
   "outputs": [],
   "source": []
  },
  {
   "cell_type": "code",
   "execution_count": null,
   "id": "580bab02",
   "metadata": {},
   "outputs": [],
   "source": []
  },
  {
   "cell_type": "code",
   "execution_count": null,
   "id": "3235720c",
   "metadata": {},
   "outputs": [],
   "source": [
    "%%time\n",
    "serialize(tweets_data.child.child[0],to_bytes=True)"
   ]
  },
  {
   "cell_type": "code",
   "execution_count": null,
   "id": "21a63ffb",
   "metadata": {},
   "outputs": [],
   "source": [
    "%%time\n",
    "result = tweets_data.sum()"
   ]
  },
  {
   "cell_type": "code",
   "execution_count": null,
   "id": "23e168c4",
   "metadata": {},
   "outputs": [],
   "source": [
    "tweets_data.child.serde_concurrency= 1"
   ]
  },
  {
   "cell_type": "code",
   "execution_count": null,
   "id": "c4e8f0d8",
   "metadata": {},
   "outputs": [],
   "source": [
    "#measuring size of objects in python is not easy, \n",
    "#as there might be several references in a user defined class\n",
    "#we pympler library to measure the size of an object.\n",
    "#pymler does not give an exact size on disk, but a close accurate instead of sys.getsizeof()\n",
    "\n",
    "print(\"Size of Twitter Tensor Data(MB) ====> \" , asizeof(tweets_data)/(1024*1024)) "
   ]
  },
  {
   "cell_type": "code",
   "execution_count": null,
   "id": "fdfb64e2",
   "metadata": {
    "tags": []
   },
   "outputs": [],
   "source": [
    "#Twitter data serialization.\n",
    "start = timeit.default_timer()\n",
    "serialized_data = serialize(tweets_data,to_bytes=True)\n",
    "end = timeit.default_timer()\n",
    "print(\"Serialization Time =====>\" , end-start,\" seconds\" )\n",
    "print(\"Twitter Serialized Data Size \",len(serialized_data)/(1024*1024))\n"
   ]
  },
  {
   "cell_type": "code",
   "execution_count": null,
   "id": "d9a19b90",
   "metadata": {
    "tags": []
   },
   "outputs": [],
   "source": [
    "%lprun -f tweets_data.child._object2proto tweets_data.child._object2proto()"
   ]
  },
  {
   "cell_type": "code",
   "execution_count": null,
   "id": "401ddf38",
   "metadata": {},
   "outputs": [],
   "source": [
    "#Twitter data derserialization\n",
    "start = timeit.default_timer()\n",
    "deserialized_data = deserialize(serialized_data,from_bytes=True)\n",
    "end = timeit.default_timer()\n",
    "print(\"Deserialization Time =====>\" , end-start,\" seconds\" )\n",
    "print(\"Twitter Deserialized Data Size \",asizeof(deserialized_data)/(1024*1024))\n"
   ]
  },
  {
   "cell_type": "code",
   "execution_count": null,
   "id": "73a3301a",
   "metadata": {
    "tags": []
   },
   "outputs": [],
   "source": [
    "%%time\n",
    "#Uploading Dataset....\n",
    "domain_node.load_dataset(\n",
    "assets={\"tweets\": tweets_data},\n",
    "name=name,\n",
    "description=\"\"\"Tweets- 1M rows \"\"\"\n",
    ")\n",
    "\n",
    "#The main bottleneck is the serialization as uploading dataset is a blocking call(immediate_msg_with_reply), \n",
    "#bottleneck = serialization at client + DeSerialization at node\n"
   ]
  },
  {
   "cell_type": "code",
   "execution_count": null,
   "id": "8bc88069",
   "metadata": {},
   "outputs": [],
   "source": [
    "domain_node.datasets"
   ]
  },
  {
   "cell_type": "code",
   "execution_count": null,
   "id": "dea89923",
   "metadata": {},
   "outputs": [],
   "source": [
    "dataset = domain_node.datasets[0][\"tweets\"]"
   ]
  },
  {
   "cell_type": "code",
   "execution_count": null,
   "id": "de5372c1",
   "metadata": {},
   "outputs": [],
   "source": [
    "%%time\n",
    "res = dataset.sum()\n",
    "res.block"
   ]
  },
  {
   "cell_type": "code",
   "execution_count": null,
   "id": "deadcb75",
   "metadata": {},
   "outputs": [],
   "source": [
    "res.exists"
   ]
  },
  {
   "cell_type": "code",
   "execution_count": null,
   "id": "89430fab",
   "metadata": {},
   "outputs": [],
   "source": [
    "res = res.publish(sigma=0.1)"
   ]
  },
  {
   "cell_type": "code",
   "execution_count": null,
   "id": "6d9f02c5",
   "metadata": {},
   "outputs": [],
   "source": [
    "res.get()"
   ]
  },
  {
   "cell_type": "code",
   "execution_count": null,
   "id": "c4e9efa5",
   "metadata": {},
   "outputs": [],
   "source": [
    "l = tweets_data.child.child"
   ]
  },
  {
   "cell_type": "code",
   "execution_count": null,
   "id": "0d44b7dc",
   "metadata": {},
   "outputs": [],
   "source": [
    "a = l[0]\n",
    "b= l[50611]\n",
    "c = l[83931]\n",
    "print(a)\n",
    "print(b)\n",
    "print(c)"
   ]
  },
  {
   "cell_type": "code",
   "execution_count": null,
   "id": "0973a69c",
   "metadata": {},
   "outputs": [],
   "source": [
    "split_lst=[]\n",
    "d = {}\n",
    "c=0\n",
    "for i in l:\n",
    "    if i.entity not in d:\n",
    "        d[i.entity]=c\n",
    "        split_lst.append([i])\n",
    "        c+=1\n",
    "    else:\n",
    "        split_lst[d[i.entity]].append(i)\n",
    "        "
   ]
  },
  {
   "cell_type": "code",
   "execution_count": null,
   "id": "674b61aa",
   "metadata": {
    "tags": []
   },
   "outputs": [],
   "source": [
    "first= split_lst[0]\n",
    "second = split_lst[1]\n",
    "third = split_lst[2]\n",
    "fourth = split_lst[3]\n"
   ]
  },
  {
   "cell_type": "code",
   "execution_count": null,
   "id": "e3c2db9e",
   "metadata": {},
   "outputs": [],
   "source": [
    "def list_sum(lst):\n",
    "    s=lst[0]\n",
    "    for i in range(1,len(lst)):\n",
    "        s+=lst[i]\n",
    "    return s"
   ]
  },
  {
   "cell_type": "code",
   "execution_count": null,
   "id": "06323e77",
   "metadata": {},
   "outputs": [],
   "source": [
    "s=first[0]\n",
    "for i in first[1::]:\n",
    "    s=s+i\n",
    "print(\"final: \",s)\n",
    "    "
   ]
  },
  {
   "cell_type": "code",
   "execution_count": null,
   "id": "0e3e1205",
   "metadata": {},
   "outputs": [],
   "source": [
    "def lst_sum(a,b):\n",
    "    return a+b"
   ]
  },
  {
   "cell_type": "code",
   "execution_count": null,
   "id": "d0d01aac",
   "metadata": {},
   "outputs": [],
   "source": [
    "t1 = reduce(lst_sum,first)\n",
    "t2 = reduce(lst_sum,second)\n",
    "t3 = reduce(lst_sum,third)\n",
    "t4 = reduce(lst_sum,fourth)"
   ]
  },
  {
   "cell_type": "code",
   "execution_count": null,
   "id": "4fb50eff",
   "metadata": {},
   "outputs": [],
   "source": [
    "%%time\n",
    "r1 = t1+t2\n",
    "r2 = t3+t4"
   ]
  },
  {
   "cell_type": "code",
   "execution_count": null,
   "id": "864a0792",
   "metadata": {},
   "outputs": [],
   "source": [
    "tweets_data.child.child[1].dtype"
   ]
  },
  {
   "cell_type": "code",
   "execution_count": null,
   "id": "f82c4977",
   "metadata": {},
   "outputs": [],
   "source": [
    "from syft.core.adp.entity import DataSubject"
   ]
  },
  {
   "cell_type": "code",
   "execution_count": null,
   "id": "32ac7128",
   "metadata": {},
   "outputs": [],
   "source": [
    "a = DataSubject(\"a\")\n",
    "b = DataSubject(\"a\")"
   ]
  },
  {
   "cell_type": "code",
   "execution_count": null,
   "id": "09bdc0bf",
   "metadata": {},
   "outputs": [],
   "source": [
    "a == b"
   ]
  },
  {
   "cell_type": "code",
   "execution_count": null,
   "id": "0e4c5627",
   "metadata": {},
   "outputs": [],
   "source": [
    "a.id"
   ]
  },
  {
   "cell_type": "code",
   "execution_count": null,
   "id": "e45de3ea",
   "metadata": {},
   "outputs": [],
   "source": [
    "b.id"
   ]
  },
  {
   "cell_type": "code",
   "execution_count": null,
   "id": "3d73dfeb",
   "metadata": {},
   "outputs": [],
   "source": [
    "a = [\"a\", \"b\", \"c\"]"
   ]
  },
  {
   "cell_type": "code",
   "execution_count": null,
   "id": "b4fce963-9dd9-4b58-a306-47bdf771cc1c",
   "metadata": {},
   "outputs": [],
   "source": [
    "x = np.array(a)"
   ]
  },
  {
   "cell_type": "code",
   "execution_count": null,
   "id": "549fd833-5b22-4679-a2e1-97895a8e1b8a",
   "metadata": {},
   "outputs": [],
   "source": [
    "x"
   ]
  },
  {
   "cell_type": "code",
   "execution_count": null,
   "id": "c5894aed-b8d0-4290-bf6f-9431a01c8ab4",
   "metadata": {},
   "outputs": [],
   "source": [
    "y = pa.array(x)"
   ]
  },
  {
   "cell_type": "code",
   "execution_count": null,
   "id": "4bb797d1-b0d2-49a2-adcc-cbe5c018d9b7",
   "metadata": {},
   "outputs": [],
   "source": [
    "y"
   ]
  },
  {
   "cell_type": "code",
   "execution_count": null,
   "id": "9bd45550-e40b-4088-93ad-68522134fe7a",
   "metadata": {},
   "outputs": [],
   "source": [
    "x"
   ]
  },
  {
   "cell_type": "code",
   "execution_count": null,
   "id": "66e255aa-12c7-40b2-9d2d-9025dc83f34f",
   "metadata": {},
   "outputs": [],
   "source": [
    "apache_arrow = pa.Tensor.from_numpy(obj=x)"
   ]
  },
  {
   "cell_type": "code",
   "execution_count": null,
   "id": "d6bba8fe-237d-4aec-98a5-f0416afb914b",
   "metadata": {},
   "outputs": [],
   "source": [
    "rb = pa.RecordBatch.from_pylist([{\"entity\":x}])"
   ]
  },
  {
   "cell_type": "code",
   "execution_count": null,
   "id": "2f5a51a1-9e48-4209-b707-0f56381c179f",
   "metadata": {},
   "outputs": [],
   "source": [
    "rb"
   ]
  },
  {
   "cell_type": "code",
   "execution_count": null,
   "id": "e9578b24-fc74-41d1-8173-1514f2ab24aa",
   "metadata": {},
   "outputs": [],
   "source": [
    "y = rb[0].to_numpy(zero_copy_only=False)"
   ]
  },
  {
   "cell_type": "code",
   "execution_count": null,
   "id": "9c97146b-6db4-468f-b003-eb145f619874",
   "metadata": {},
   "outputs": [],
   "source": [
    "y"
   ]
  },
  {
   "cell_type": "code",
   "execution_count": null,
   "id": "a9c8f9a6-eda8-46a5-b112-e60c122a5671",
   "metadata": {},
   "outputs": [],
   "source": []
  }
 ],
 "metadata": {
  "kernelspec": {
   "display_name": "Python 3 (ipykernel)",
   "language": "python",
   "name": "python3"
  },
  "language_info": {
   "codemirror_mode": {
    "name": "ipython",
    "version": 3
   },
   "file_extension": ".py",
   "mimetype": "text/x-python",
   "name": "python",
   "nbconvert_exporter": "python",
   "pygments_lexer": "ipython3",
   "version": "3.9.9"
  }
 },
 "nbformat": 4,
 "nbformat_minor": 5
}

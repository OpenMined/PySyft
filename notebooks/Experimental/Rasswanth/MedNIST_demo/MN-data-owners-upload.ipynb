{
 "cells": [
  {
   "cell_type": "markdown",
   "id": "1a72486f-ffbd-4800-bc03-5e6427964faa",
   "metadata": {
    "tags": []
   },
   "source": [
    "# Step 4: Upload a Dataset"
   ]
  },
  {
   "cell_type": "markdown",
   "id": "78ca2364",
   "metadata": {},
   "source": [
    "## Step 4a: Log into our Domain"
   ]
  },
  {
   "cell_type": "code",
   "execution_count": 1,
   "id": "b923206d",
   "metadata": {},
   "outputs": [
    {
     "name": "stderr",
     "output_type": "stream",
     "text": [
      "/home/azureuser/.local/share/virtualenvs/python39-2vM0bQN-/lib/python3.9/site-packages/tqdm/auto.py:22: TqdmWarning: IProgress not found. Please update jupyter and ipywidgets. See https://ipywidgets.readthedocs.io/en/stable/user_install.html\n",
      "  from .autonotebook import tqdm as notebook_tqdm\n"
     ]
    }
   ],
   "source": [
    "import syft as sy"
   ]
  },
  {
   "cell_type": "code",
   "execution_count": 2,
   "id": "7f682a99",
   "metadata": {},
   "outputs": [
    {
     "name": "stdout",
     "output_type": "stream",
     "text": [
      "WARNING: CHANGE YOUR USERNAME AND PASSWORD!!! \n",
      "\n",
      "Anyone can login as an admin to your node right now because your password is still the default PySyft username and password!!!\n",
      "\n",
      "Connecting to localhost... done! \t Logging into canada... done!\n"
     ]
    }
   ],
   "source": [
    "# Let's log into the domain using the credentials\n",
    "ADMIN_EMAIL = \"info@openmined.org\"\n",
    "ADMIN_PASSWORD = \"changethis\"\n",
    "DOMAIN1_PORT = 8081\n",
    "domain_client = sy.login(\n",
    "     email=ADMIN_EMAIL, password=ADMIN_PASSWORD,port = DOMAIN1_PORT\n",
    ")"
   ]
  },
  {
   "cell_type": "markdown",
   "id": "770bc6e1-8106-4079-a916-1f6fea2bec40",
   "metadata": {},
   "source": [
    "## Step 4b: Creating a Dataset"
   ]
  },
  {
   "cell_type": "code",
   "execution_count": 3,
   "id": "35e6a8b8-89f4-4849-a1dd-02fc166da76f",
   "metadata": {},
   "outputs": [
    {
     "name": "stderr",
     "output_type": "stream",
     "text": [
      "  % Total    % Received % Xferd  Average Speed   Time    Time     Time  Current\n",
      "                                 Dload  Upload   Total   Spent    Left  Speed\n",
      "  0     0    0     0    0     0      0      0 --:--:--  0:00:04 --:--:--     0"
     ]
    },
    {
     "name": "stdout",
     "output_type": "stream",
     "text": [
      "MedNIST is successfully downloaded.\n"
     ]
    },
    {
     "name": "stderr",
     "output_type": "stream",
     "text": [
      "100  232M  100  232M    0     0  47.6M      0  0:00:04  0:00:04 --:--:-- 47.7M\n"
     ]
    }
   ],
   "source": [
    "from utils import download_mednist_dataset\n",
    "\n",
    "download_mednist_dataset()"
   ]
  },
  {
   "cell_type": "code",
   "execution_count": 4,
   "id": "d35940e8-82d4-4e23-b4e5-f8744300c3da",
   "metadata": {},
   "outputs": [],
   "source": [
    "# file path where the MedNIST.pkl is downloaded\n",
    "FILE_PATH = \"./MedNIST.pkl\""
   ]
  },
  {
   "cell_type": "code",
   "execution_count": 5,
   "id": "05104edb-4b9c-4608-8e76-b3ebe8a60ba6",
   "metadata": {},
   "outputs": [],
   "source": [
    "# replace these with your own from the session details\n",
    "MY_PARTICIPANT_NUMBER = 1\n",
    "TOTAL_PARTICIPANTS = 10"
   ]
  },
  {
   "cell_type": "markdown",
   "id": "7515311f",
   "metadata": {},
   "source": [
    "### Load the Dataset"
   ]
  },
  {
   "cell_type": "code",
   "execution_count": 6,
   "id": "ef5c71ae",
   "metadata": {},
   "outputs": [],
   "source": [
    "# Import helper methods\n",
    "from syft.core.adp.data_subject_list import DataSubjectList\n",
    "from utils import (\n",
    "    get_data_description,\n",
    "    get_label_mapping,\n",
    "    split_into_train_test_val_sets,\n",
    "    load_data_as_df,\n",
    ")"
   ]
  },
  {
   "cell_type": "code",
   "execution_count": 7,
   "id": "6009afa0-5903-4d37-a99a-d39b754c920a",
   "metadata": {},
   "outputs": [
    {
     "name": "stdout",
     "output_type": "stream",
     "text": [
      "Columns: Index(['patient_id', 'image', 'label'], dtype='object')\n",
      "Total Images: 5895\n",
      "Label Mapping {'AbdomenCT': 0, 'BreastMRI': 1, 'CXR': 2, 'ChestCT': 3, 'Hand': 4, 'HeadCT': 5}\n",
      "The MedNIST dataset was gathered from several sets from TCIA, the RSNA Bone Age Challenge, and the NIH Chest X-ray dataset. The dataset is kindly made available by Dr. Bradley J. Erickson M.D., Ph.D. (Department of Radiology, Mayo Clinic) under the Creative Commons CC BY-SA 4.0 license.\n",
      "Label Count: 6\n",
      "Label Mapping: {\"AbdomenCT\": 0, \"BreastMRI\": 1, \"CXR\": 2, \"ChestCT\": 3, \"Hand\": 4, \"HeadCT\": 5}\n",
      "Image Dimensions: (64, 64)\n",
      "Total Images: 5895\n",
      "\n"
     ]
    }
   ],
   "source": [
    "# Let's load the dataset as a dataframe\n",
    "dataset_df = load_data_as_df(MY_PARTICIPANT_NUMBER, TOTAL_PARTICIPANTS, FILE_PATH)\n",
    "# Split the dataset into `train`, `validation` and `test` sets.\n",
    "data_dict = split_into_train_test_val_sets(dataset_df)\n",
    "dataset_description = get_data_description(dataset_df)\n",
    "print(dataset_description)"
   ]
  },
  {
   "cell_type": "code",
   "execution_count": 8,
   "id": "2d2c2ab5",
   "metadata": {},
   "outputs": [],
   "source": [
    "import numpy as np\n",
    "\n",
    "assets = dict()\n",
    "\n",
    "for name, data in data_dict.items():\n",
    "\n",
    "    # Let's create data subjects list.\n",
    "    # Data Subjects are the individuals whose privacy we're trying to protect.\n",
    "    data_subjects = DataSubjectList.from_series(data[\"patient_id\"])\n",
    "\n",
    "    # Convert images to numpy int64 array\n",
    "    images = data[\"image\"]\n",
    "    images = np.dstack(images.values).astype(np.int64)  # type cast to int64\n",
    "    dims = images.shape\n",
    "    images = images.reshape(dims[0] * dims[1], dims[2])  # reshape to 2D array\n",
    "    images = np.rollaxis(images, -1)\n",
    "\n",
    "    # Convert labels to numpy int64 array\n",
    "    labels = data[\"label\"].to_numpy().astype(\"int64\")\n",
    "\n",
    "    # Next we will make your data private private with min, max and data subjects.\n",
    "    # The min and max are minimum and maximum value in the given data.\n",
    "\n",
    "    # converting images to private data\n",
    "    image_data = sy.Tensor(images).private(\n",
    "        min_val=0, max_val=255, data_subjects=data_subjects\n",
    "    )\n",
    "\n",
    "    # converting labels to private data\n",
    "    label_data = sy.Tensor(labels).private(\n",
    "        min_val=0, max_val=5, data_subjects=data_subjects\n",
    "    )\n",
    "\n",
    "    assets[f\"{name}_images\"] = image_data\n",
    "    assets[f\"{name}_labels\"] = label_data"
   ]
  },
  {
   "cell_type": "markdown",
   "id": "297660f6-a229-43ef-b52a-1e131d44261a",
   "metadata": {},
   "source": [
    "## Step 4c: Upload the Dataset"
   ]
  },
  {
   "cell_type": "code",
   "execution_count": 9,
   "id": "9b8df79f",
   "metadata": {},
   "outputs": [],
   "source": [
    "# creating/uploading the dataset\n",
    "# Name of the dataset\n",
    "\n",
    "name = f\"MedNIST Data {MY_PARTICIPANT_NUMBER}/{TOTAL_PARTICIPANTS}\""
   ]
  },
  {
   "cell_type": "code",
   "execution_count": 10,
   "id": "ef4be075-2712-4e97-94a2-9547a33464da",
   "metadata": {},
   "outputs": [
    {
     "name": "stdout",
     "output_type": "stream",
     "text": [
      "Loading dataset... uploading...🚀                        "
     ]
    },
    {
     "name": "stderr",
     "output_type": "stream",
     "text": [
      "kj/filesystem-disk-unix.c++:1690: warning: PWD environment variable doesn't match current directory; pwd = /home/azureuser\n"
     ]
    },
    {
     "name": "stdout",
     "output_type": "stream",
     "text": [
      "Dataset is uploaded successfully !!! 🎉\n",
      "\n",
      "Run `<your client variable>.datasets` to see your new dataset loaded into your machine!\n"
     ]
    }
   ],
   "source": [
    "# upload the MedNIST data\n",
    "domain_client.load_dataset(\n",
    "    assets=assets, name=name, description=dataset_description\n",
    ")"
   ]
  },
  {
   "cell_type": "markdown",
   "id": "ba5c03e4",
   "metadata": {},
   "source": [
    "Now let's check if the dataset we successfully uploaded"
   ]
  },
  {
   "cell_type": "code",
   "execution_count": 11,
   "id": "f43b1d7b-579f-4cb9-b5f6-8dab895d8111",
   "metadata": {},
   "outputs": [
    {
     "data": {
      "text/html": [
       "<style>\n",
       "                #myInput {\n",
       "                  background-position: 10px 12px; /* Position the search icon */\n",
       "                  background-repeat: no-repeat; /* Do not repeat the icon image */\n",
       "                  background-color: #bbb;\n",
       "                  width: 98%; /* Full-width */\n",
       "                  font-size: 14px; /* Increase font-size */\n",
       "                  padding: 12px 20px 12px 40px; /* Add some padding */\n",
       "                  border: 1px solid #ddd; /* Add a grey border */\n",
       "                  margin-bottom: 12px; /* Add some space below the input */\n",
       "                }\n",
       "\n",
       "                #myTable {\n",
       "                  border-collapse: collapse; /* Collapse borders */\n",
       "                  width: 100%; /* Full-width */\n",
       "                  border: 1px solid #ddd; /* Add a grey border */\n",
       "                  font-size: 14px; /* Increase font-size */\n",
       "                }\n",
       "\n",
       "                #myTable th, #myTable td {\n",
       "                  text-align: left; /* Left-align text */\n",
       "                  padding: 10px; /* Add padding */\n",
       "                }\n",
       "\n",
       "                #myTable tr {\n",
       "                  /* Add a bottom border to all table rows */\n",
       "                  border-bottom: 1px solid #ddd;\n",
       "                }\n",
       "\n",
       "                #myTable tr.header, #myTable tr:hover {\n",
       "                  /* Add a grey background color to the table header and on hover */\n",
       "                  background-color: #777;\n",
       "                }\n",
       "                </style>\n",
       "\n",
       "                <table id=\"myTable\" style=\"width:1000px\">\n",
       "                  <tr class=\"header\">\n",
       "                    <th style=\"width:30px\">Idx</th>\n",
       "                    <th style=\"width:20%;\">Name</th>\n",
       "                    <th style=\"width:35%;\">Description</th>\n",
       "                    <th style=\"width:20%;\">Assets</th>\n",
       "                    <th style=\"width:300px;\">Id</th>\n",
       "                  </tr>\n",
       "                \n",
       "\n",
       "          <tr>\n",
       "            <td>[0]</td>\n",
       "            <td>Canada Trade Data - First few rows</td>\n",
       "            <td>A collection of reports from Canada's statistics bureau about how much it thinks it imports and exports from other countries.</td>\n",
       "            <td>[\"Canada Trade\"] -> int64<br /><br /></td>\n",
       "            <td>2880b9bc-f795-4e0a-8554-b048629fd37f</td>\n",
       "          </tr>\n",
       "\n",
       "          <tr>\n",
       "            <td>[1]</td>\n",
       "            <td>Canada Trade Data - First few rows</td>\n",
       "            <td>A collection of reports from Canada's statistics bureau about how much it thinks it imports and exports from other countries.</td>\n",
       "            <td>[\"Canada Trade\"] -> int64<br /><br /></td>\n",
       "            <td>0ab77b74-6229-4016-9b2c-23001d15f3f2</td>\n",
       "          </tr>\n",
       "\n",
       "          <tr>\n",
       "            <td>[2]</td>\n",
       "            <td>Canada Trade Data - First few rows</td>\n",
       "            <td>A collection of reports from Canada's statistics bureau about how much it thinks it imports and exports from other countries.</td>\n",
       "            <td>[\"Canada Trade\"] -> int64<br /><br /></td>\n",
       "            <td>981eba78-c7b4-436a-96e4-2ca7f0d3a587</td>\n",
       "          </tr>\n",
       "\n",
       "          <tr>\n",
       "            <td>[3]</td>\n",
       "            <td>Canada Trade Data - First few rows</td>\n",
       "            <td>A collection of reports from Canada's statistics bureau about how much it thinks it imports and exports from other countries.</td>\n",
       "            <td>[\"Canada Trade\"] -> int64<br /><br /></td>\n",
       "            <td>0a84109b-966c-4f1d-a259-358cfb873d64</td>\n",
       "          </tr>\n",
       "\n",
       "          <tr>\n",
       "            <td>[4]</td>\n",
       "            <td>MedNIST Data 1/10</td>\n",
       "            <td>The MedNIST dataset was gathered from several sets from TCIA, the RSNA Bone Age Challenge, and the NIH Chest X-ray dataset. The dataset is kindly made available by Dr. Bradley J. Erickson M.D., Ph.D. (Department of Radiology, Mayo Clinic) under the Creative Commons CC BY-SA 4.0 license.\n",
       "Label Count: 6\n",
       "Label Mapping: {\"AbdomenCT\": 0, \"BreastMRI\": 1, \"CXR\": 2, \"ChestCT\": 3, \"Hand\": 4, \"HeadCT\": 5}\n",
       "Image Dimensions: (64, 64)\n",
       "Total Images: 5895\n",
       "</td>\n",
       "            <td>[\"train_images\"] -> <class 'syft.core.tensor.tensor.Tensor'><br /><br />[\"train_labels\"] -> <class 'syft.core.tensor.tensor.Tensor'><br /><br />[\"val_images\"] -> <class 'syft.core.tensor.tensor.Tensor'><br /><br />...<br /><br /></td>\n",
       "            <td>760b0571-3b09-4fdd-bfca-3b091c5cdd19</td>\n",
       "          </tr>\n",
       "\n",
       "          <tr>\n",
       "            <td>[5]</td>\n",
       "            <td>test</td>\n",
       "            <td>test dataset</td>\n",
       "            <td>[\"test\"] -> int64<br /><br /></td>\n",
       "            <td>d2f09e24-ce96-40fe-b949-8d3aa6a56198</td>\n",
       "          </tr>\n",
       "\n",
       "          <tr>\n",
       "            <td>[6]</td>\n",
       "            <td>MedNIST Data 1/10</td>\n",
       "            <td>The MedNIST dataset was gathered from several sets from TCIA, the RSNA Bone Age Challenge, and the NIH Chest X-ray dataset. The dataset is kindly made available by Dr. Bradley J. Erickson M.D., Ph.D. (Department of Radiology, Mayo Clinic) under the Creative Commons CC BY-SA 4.0 license.\n",
       "Label Count: 6\n",
       "Label Mapping: {\"AbdomenCT\": 0, \"BreastMRI\": 1, \"CXR\": 2, \"ChestCT\": 3, \"Hand\": 4, \"HeadCT\": 5}\n",
       "Image Dimensions: (64, 64)\n",
       "Total Images: 5895\n",
       "</td>\n",
       "            <td>[\"train_images\"] -> int64<br /><br />[\"train_labels\"] -> int64<br /><br />[\"val_images\"] -> int64<br /><br />...<br /><br /></td>\n",
       "            <td>ddcef916-ddb8-48af-8cf2-22aa93710735</td>\n",
       "          </tr>\n",
       "        </table>\n",
       "\n",
       "        <script>\n",
       "        function myFunction() {\n",
       "          // Declare variables\n",
       "          var input, filter, table, tr, td, i, txtValue;\n",
       "          input = document.getElementById(\"myInput\");\n",
       "          filter = input.value.toUpperCase();\n",
       "          table = document.getElementById(\"myTable\");\n",
       "          tr = table.getElementsByTagName(\"tr\");\n",
       "\n",
       "          // Loop through all table rows, and hide those who don't match the search query\n",
       "          for (i = 0; i < tr.length; i++) {\n",
       "            name_td = tr[i].getElementsByTagName(\"td\")[1];\n",
       "            desc_td = tr[i].getElementsByTagName(\"td\")[2];\n",
       "            asset_td = tr[i].getElementsByTagName(\"td\")[3];\n",
       "            id_td = tr[i].getElementsByTagName(\"td\")[4];\n",
       "            if (name_td || desc_td || asset_td || id_td) {\n",
       "              name_txtValue = name_td.textContent || name_td.innerText;\n",
       "              desc_txtValue = desc_td.textContent || name_td.innerText;\n",
       "              asset_txtValue = asset_td.textContent || name_td.innerText;\n",
       "              id_txtValue = id_td.textContent || name_td.innerText;\n",
       "              name_bool = name_txtValue.toUpperCase().indexOf(filter) > -1;\n",
       "              desc_bool = desc_txtValue.toUpperCase().indexOf(filter) > -1;\n",
       "              asset_bool = asset_txtValue.toUpperCase().indexOf(filter) > -1;\n",
       "              id_bool = id_txtValue.toUpperCase().indexOf(filter) > -1;\n",
       "              if (name_bool || desc_bool || asset_bool || id_bool) {\n",
       "                tr[i].style.display = \"\";\n",
       "              } else {\n",
       "                tr[i].style.display = \"none\";\n",
       "              }\n",
       "            }\n",
       "          }\n",
       "        }\n",
       "        </script>"
      ],
      "text/plain": [
       "<syft.core.node.common.client_manager.dataset_api.DatasetRequestAPI at 0x7fa4dd64b880>"
      ]
     },
     "execution_count": 11,
     "metadata": {},
     "output_type": "execute_result"
    }
   ],
   "source": [
    "domain_client.datasets"
   ]
  },
  {
   "cell_type": "code",
   "execution_count": 12,
   "id": "991e5bb1",
   "metadata": {},
   "outputs": [
    {
     "name": "stdout",
     "output_type": "stream",
     "text": [
      "Dataset: MedNIST Data 1/10\n",
      "Description: The MedNIST dataset was gathered from several sets from TCIA, the RSNA Bone Age Challenge, and the NIH Chest X-ray dataset. The dataset is kindly made available by Dr. Bradley J. Erickson M.D., Ph.D. (Department of Radiology, Mayo Clinic) under the Creative Commons CC BY-SA 4.0 license.\n",
      "Label Count: 6\n",
      "Label Mapping: {\"AbdomenCT\": 0, \"BreastMRI\": 1, \"CXR\": 2, \"ChestCT\": 3, \"Hand\": 4, \"HeadCT\": 5}\n",
      "Image Dimensions: (64, 64)\n",
      "Total Images: 5895\n",
      "\n",
      "\n"
     ]
    },
    {
     "data": {
      "text/html": [
       "<style>\n",
       "        #myInput {\n",
       "          background-position: 10px 12px; /* Position the search icon */\n",
       "          background-repeat: no-repeat; /* Do not repeat the icon image */\n",
       "          background-color: #bbb;\n",
       "          width: 98%; /* Full-width */\n",
       "          font-size: 14px; /* Increase font-size */\n",
       "          padding: 12px 20px 12px 40px; /* Add some padding */\n",
       "          border: 1px solid #ddd; /* Add a grey border */\n",
       "          margin-bottom: 12px; /* Add some space below the input */\n",
       "        }\n",
       "\n",
       "        #myTable {\n",
       "          border-collapse: collapse; /* Collapse borders */\n",
       "          width: 50%; /* Full-width */\n",
       "          border: 1px solid #ddd; /* Add a grey border */\n",
       "          font-size: 14px; /* Increase font-size */\n",
       "        }\n",
       "\n",
       "        #myTable th, #myTable td {\n",
       "          text-align: left; /* Left-align text */\n",
       "          padding: 10px; /* Add padding */\n",
       "        }\n",
       "\n",
       "        #myTable tr {\n",
       "          /* Add a bottom border to all table rows */\n",
       "          border-bottom: 1px solid #ddd;\n",
       "        }\n",
       "\n",
       "        #myTable tr.header, #myTable tr:hover {\n",
       "          /* Add a grey background color to the table header and on hover */\n",
       "          background-color: #777;\n",
       "        }\n",
       "        </style>\n",
       "\n",
       "        <table id=\"myTable\">\n",
       "          <tr class=\"header\">\n",
       "            <th style=\"width:15%;\">Asset Key</th>\n",
       "            <th style=\"width:20%;\">Type</th>\n",
       "            <th style=\"width:10%;\">Shape</th>\n",
       "          </tr>\n",
       "        \n",
       "\n",
       "              <tr>\n",
       "            <td>[\"train_images\"]</td>\n",
       "            <td>int64</td>\n",
       "            <td>(4701, 4096)</td>\n",
       "          </tr>\n",
       "\n",
       "              <tr>\n",
       "            <td>[\"train_labels\"]</td>\n",
       "            <td>int64</td>\n",
       "            <td>(4701,)</td>\n",
       "          </tr>\n",
       "\n",
       "              <tr>\n",
       "            <td>[\"val_images\"]</td>\n",
       "            <td>int64</td>\n",
       "            <td>(556, 4096)</td>\n",
       "          </tr>\n",
       "\n",
       "              <tr>\n",
       "            <td>[\"val_labels\"]</td>\n",
       "            <td>int64</td>\n",
       "            <td>(556,)</td>\n",
       "          </tr>\n",
       "\n",
       "              <tr>\n",
       "            <td>[\"test_images\"]</td>\n",
       "            <td>int64</td>\n",
       "            <td>(638, 4096)</td>\n",
       "          </tr>\n",
       "\n",
       "              <tr>\n",
       "            <td>[\"test_labels\"]</td>\n",
       "            <td>int64</td>\n",
       "            <td>(638,)</td>\n",
       "          </tr>\n",
       "        </table>\n",
       "\n",
       "        "
      ],
      "text/plain": [
       "<syft.core.node.common.client_manager.dataset_api.Dataset at 0x7fa6127d0f70>"
      ]
     },
     "execution_count": 12,
     "metadata": {},
     "output_type": "execute_result"
    }
   ],
   "source": [
    "domain_client.datasets[-1]"
   ]
  },
  {
   "cell_type": "markdown",
   "id": "ee7c4aa2-1833-49c6-8fa1-92421f156961",
   "metadata": {},
   "source": [
    "## Step 4d: Create a Data Scientist Account"
   ]
  },
  {
   "cell_type": "code",
   "execution_count": null,
   "id": "b2878747-ff5c-4805-b069-1c4e283d2a5c",
   "metadata": {},
   "outputs": [],
   "source": [
    "data_scientist_details = {\n",
    "    \"name\": \"Samantha Carter\",\n",
    "    \"email\": \"sam@sg1.net\",\n",
    "    \"password\": \"stargate\",\n",
    "    \"budget\": 9999,\n",
    "}"
   ]
  },
  {
   "cell_type": "code",
   "execution_count": null,
   "id": "781c9baf-9715-46cb-bc64-790597a369f3",
   "metadata": {},
   "outputs": [],
   "source": [
    "domain_client.users.create(**data_scientist_details)"
   ]
  },
  {
   "cell_type": "code",
   "execution_count": null,
   "id": "f5aec7e8-29d8-48b4-89d2-80a2252558ad",
   "metadata": {},
   "outputs": [],
   "source": [
    "print(\"Please give these details to the data scientist 👇🏽\")\n",
    "login_details = {}\n",
    "login_details[\"url\"] = 8081\n",
    "login_details[\"name\"] = data_scientist_details[\"name\"]\n",
    "login_details[\"email\"] = data_scientist_details[\"email\"]\n",
    "login_details[\"password\"] = data_scientist_details[\"password\"]\n",
    "login_details[\"dataset_name\"] = name\n",
    "print()\n",
    "print(login_details)"
   ]
  },
  {
   "cell_type": "code",
   "execution_count": null,
   "id": "106b8985-3694-43d2-aac5-2285941b2235",
   "metadata": {},
   "outputs": [],
   "source": []
  }
 ],
 "metadata": {
  "interpreter": {
   "hash": "630449982b6186a6531308cd76ed4d510e9db65154e43844c2906c6a20ad2a6d"
  },
  "kernelspec": {
   "display_name": "Python 3.9.4 64-bit ('python39-2vM0bQN-': pipenv)",
   "name": "python3"
  },
  "language_info": {
   "codemirror_mode": {
    "name": "ipython",
    "version": 3
   },
   "file_extension": ".py",
   "mimetype": "text/x-python",
   "name": "python",
   "nbconvert_exporter": "python",
   "pygments_lexer": "ipython3",
   "version": "3.9.4"
  }
 },
 "nbformat": 4,
 "nbformat_minor": 5
}

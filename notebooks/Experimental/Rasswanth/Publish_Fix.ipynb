{
 "cells": [
  {
   "cell_type": "code",
   "execution_count": 1,
   "id": "7309bef0-3ecc-46d4-b7a1-72e19d86d0c9",
   "metadata": {},
   "outputs": [],
   "source": [
    "import syft as sy\n",
    "from syft import PhiTensor\n",
    "import numpy as np\n",
    "from syft.core.adp.data_subject_list import DataSubjectArray"
   ]
  },
  {
   "cell_type": "code",
   "execution_count": 2,
   "id": "d940c4f5-c0db-4fdb-b3c6-2ceb23e29864",
   "metadata": {},
   "outputs": [
    {
     "name": "stdout",
     "output_type": "stream",
     "text": [
      "WARNING: CHANGE YOUR USERNAME AND PASSWORD!!! \n",
      "\n",
      "Anyone can login as an admin to your node right now because your password is still the default PySyft username and password!!!\n",
      "\n",
      "Connecting to localhost... done! \t Logging into canada... done!\n",
      "WARNING: CHANGE YOUR USERNAME AND PASSWORD!!! \n",
      "\n",
      "Anyone can login as an admin to your node right now because your password is still the default PySyft username and password!!!\n",
      "\n",
      "Connecting to localhost... done! \t Logging into italy... done!\n"
     ]
    }
   ],
   "source": [
    "ca  = sy.login(email=\"info@openmined.org\", password=\"changethis\",port= 8081)\n",
    "it  = sy.login(email=\"info@openmined.org\", password=\"changethis\",port= 8082)"
   ]
  },
  {
   "cell_type": "code",
   "execution_count": null,
   "id": "2630914a-ebf2-4ed8-902d-81bc301f375b",
   "metadata": {},
   "outputs": [],
   "source": [
    "from syft.core.node.common.node_service.user_manager.user_messages import (\n",
    "    UpdateUserMessage,\n",
    ")\n",
    "\n",
    "# Upgrade admins budget\n",
    "content = {\"user_id\": 1, \"budget\": 9_999_999}\n",
    "ca._perform_grid_request(grid_msg=UpdateUserMessage, content=content)\n",
    "it._perform_grid_request(grid_msg=UpdateUserMessage, content=content)\n",
    "\n",
    "print(ca.privacy_budget)\n",
    "print(it.privacy_budget)"
   ]
  },
  {
   "cell_type": "code",
   "execution_count": 5,
   "id": "1c7421af-5e58-4542-9f58-83587968b796",
   "metadata": {},
   "outputs": [
    {
     "name": "stdout",
     "output_type": "stream",
     "text": [
      "Tensor annotated with DP Metadata\n"
     ]
    }
   ],
   "source": [
    "data = np.array([1,2,3])\n",
    "data_subject = DataSubjectArray([\"Natsu\"])\n",
    "tensor = sy.Tensor(data).annotate_with_dp_metadata(lower_bound=0,upper_bound=5, data_subjects = np.array([data_subject,data_subject,data_subject]))"
   ]
  },
  {
   "cell_type": "code",
   "execution_count": 6,
   "id": "379ee184-0261-4bb8-8b1e-3cc1e6ab7e64",
   "metadata": {},
   "outputs": [
    {
     "data": {
      "text/plain": [
       "Tensor(child=PhiTensor(child=[1 2 3], min_vals=<lazyrepeatarray data: [0] -> shape: (3,)>, max_vals=<lazyrepeatarray data: [5] -> shape: (3,)>))"
      ]
     },
     "execution_count": 6,
     "metadata": {},
     "output_type": "execute_result"
    }
   ],
   "source": [
    "tensor"
   ]
  },
  {
   "cell_type": "code",
   "execution_count": 7,
   "id": "296297f8-fc24-4a3d-a884-9fff0aa5eedb",
   "metadata": {},
   "outputs": [
    {
     "name": "stderr",
     "output_type": "stream",
     "text": [
      "Uploading `ba22d4700de149ada1c95e4a84ca4111`: 100%|\u001b[32m███████████████████\u001b[0m| 1/1 [00:00<00:00, 92.12it/s]\u001b[0m\n",
      "Uploading `ca5519f835bd42e38a8bbdc2c2a73774`: 100%|\u001b[32m██████████████████\u001b[0m| 1/1 [00:00<00:00, 111.00it/s]\u001b[0m\n"
     ]
    }
   ],
   "source": [
    "ptr_ca = tensor.send(ca)\n",
    "ptr_it = tensor.send(it)"
   ]
  },
  {
   "cell_type": "code",
   "execution_count": 10,
   "id": "eca0d213-ff75-43e7-94c9-7f40f7c9277a",
   "metadata": {},
   "outputs": [],
   "source": [
    "prev_budget = ca.privacy_budget\n",
    "pub_res = ptr_ca.publish(sigma=2,private=False)"
   ]
  },
  {
   "cell_type": "code",
   "execution_count": 11,
   "id": "ff2f30d2-b7f9-473d-98ad-783f5a0b1093",
   "metadata": {},
   "outputs": [
    {
     "name": "stdout",
     "output_type": "stream",
     "text": [
      "Current Budget:  9,999,772.067067556\n",
      "Difference:      28.659752868115902\n"
     ]
    }
   ],
   "source": [
    "curr_budget = ca.privacy_budget\n",
    "print(\"Current Budget: \",\"{:,}\".format(curr_budget))\n",
    "spent = prev_budget -curr_budget\n",
    "print(\"Difference:     \",\"{:,}\".format(spent))"
   ]
  },
  {
   "cell_type": "code",
   "execution_count": 12,
   "id": "887b6c1c-73a3-4cf9-8140-466feb503326",
   "metadata": {},
   "outputs": [
    {
     "data": {
      "text/plain": [
       "array([4.75395558, 2.27089228, 5.28844289])"
      ]
     },
     "execution_count": 12,
     "metadata": {},
     "output_type": "execute_result"
    }
   ],
   "source": [
    "pub_res.get_copy()"
   ]
  },
  {
   "cell_type": "code",
   "execution_count": 13,
   "id": "57f4f8ff-3e5f-40a9-86e0-36b578bd2b26",
   "metadata": {},
   "outputs": [],
   "source": [
    "mpc = ptr_ca + ptr_it"
   ]
  },
  {
   "cell_type": "code",
   "execution_count": 14,
   "id": "406bdc52-cc13-48c5-a2de-0563a61da428",
   "metadata": {},
   "outputs": [
    {
     "name": "stdout",
     "output_type": "stream",
     "text": [
      "[2. 4. 6.]\n"
     ]
    }
   ],
   "source": [
    "print(mpc.get_copy())"
   ]
  },
  {
   "cell_type": "code",
   "execution_count": 18,
   "id": "56df2d5f-9863-4ec0-8c28-5a70d44ebd2e",
   "metadata": {},
   "outputs": [],
   "source": [
    "prev_budget_ca = ca.privacy_budget\n",
    "prev_budget_it = it.privacy_budget\n",
    "pub_res = mpc.publish(sigma=2,private=False)"
   ]
  },
  {
   "cell_type": "code",
   "execution_count": 16,
   "id": "34aca62e-368f-41a3-bbfa-2a2853f16ddb",
   "metadata": {},
   "outputs": [
    {
     "name": "stdout",
     "output_type": "stream",
     "text": [
      "Canada spent:      79.66053241305053\n",
      "Italy spent:      79.66053241305053\n"
     ]
    }
   ],
   "source": [
    "curr_budget_ca = ca.privacy_budget\n",
    "curr_budget_it = it.privacy_budget\n",
    "spent_ca = prev_budget_ca - curr_budget_ca\n",
    "spent_it = prev_budget_it - curr_budget_it\n",
    "print(\"Canada spent:     \",\"{:,}\".format(spent_ca))\n",
    "print(\"Italy spent:     \",\"{:,}\".format(spent_it))"
   ]
  },
  {
   "cell_type": "code",
   "execution_count": null,
   "id": "9f0f8f3f-0698-41fb-b6eb-e4333f14887a",
   "metadata": {},
   "outputs": [],
   "source": [
    "print(pub_res.get_copy())"
   ]
  }
 ],
 "metadata": {
  "kernelspec": {
   "display_name": "Python 3 (ipykernel)",
   "language": "python",
   "name": "python3"
  },
  "language_info": {
   "codemirror_mode": {
    "name": "ipython",
    "version": 3
   },
   "file_extension": ".py",
   "mimetype": "text/x-python",
   "name": "python",
   "nbconvert_exporter": "python",
   "pygments_lexer": "ipython3",
   "version": "3.9.13"
  }
 },
 "nbformat": 4,
 "nbformat_minor": 5
}

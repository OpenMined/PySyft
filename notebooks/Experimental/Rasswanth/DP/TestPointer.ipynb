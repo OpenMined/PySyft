{
 "cells": [
  {
   "cell_type": "code",
   "execution_count": 1,
   "id": "bc3ed4c3-9f91-489e-8016-cd9f643f730c",
   "metadata": {},
   "outputs": [],
   "source": [
    "import syft as sy\n",
    "import numpy as np"
   ]
  },
  {
   "cell_type": "code",
   "execution_count": 27,
   "id": "63545187-b50d-4070-a1b7-296e25d03499",
   "metadata": {},
   "outputs": [
    {
     "name": "stdout",
     "output_type": "stream",
     "text": [
      "WARNING: CHANGE YOUR USERNAME AND PASSWORD!!! \n",
      "\n",
      "Anyone can login as an admin to your node right now because your password is still the default PySyft username and password!!!\n",
      "\n",
      "Connecting to localhost... done! \t Logging into canada... done!\n"
     ]
    }
   ],
   "source": [
    "domain = sy.login(email=\"info@openmined.org\", password=\"changethis\", port=8081)"
   ]
  },
  {
   "cell_type": "code",
   "execution_count": 95,
   "id": "eb6895d4-7ba6-48b1-8213-44240718dc66",
   "metadata": {},
   "outputs": [],
   "source": [
    "domain.datasets.purge(skip_check=True)"
   ]
  },
  {
   "cell_type": "code",
   "execution_count": 96,
   "id": "af4e219e-d2b8-4cf4-8629-0c68a5511817",
   "metadata": {},
   "outputs": [
    {
     "name": "stdout",
     "output_type": "stream",
     "text": [
      "Loading dataset... uploading...🚀                                                                                                                                             "
     ]
    },
    {
     "name": "stderr",
     "output_type": "stream",
     "text": [
      "Uploading `phi`: 100%|\u001b[32m███████████████████████████████████████████████\u001b[0m| 1/1 [00:00<00:00, 108.26it/s]\u001b[0m\n",
      "Uploading `gamma`: 100%|\u001b[32m█████████████████████████████████████████████\u001b[0m| 1/1 [00:00<00:00, 136.57it/s]\u001b[0m"
     ]
    },
    {
     "name": "stdout",
     "output_type": "stream",
     "text": [
      "Dataset is uploaded successfully !!! 🎉\n",
      "\n",
      "Run `<your client variable>.datasets` to see your new dataset loaded into your machine!\n"
     ]
    },
    {
     "name": "stderr",
     "output_type": "stream",
     "text": [
      "\n"
     ]
    }
   ],
   "source": [
    "if len(domain.datasets) == 0:\n",
    "    data = np.random.random((5, 5))\n",
    "    gt_dsa = np.random.choice([\"Bob\", \"Billy\", \"Brandon\"], (5, 5))\n",
    "    pt_dsa = np.random.choice([\"Joe\"], (5, 5))\n",
    "    gamma_tensor = sy.Tensor(data).private(min_val=0, max_val=1, data_subjects=gt_dsa)\n",
    "    phi_tensor = sy.Tensor(data).private(min_val=0, max_val=1, data_subjects=pt_dsa)\n",
    "\n",
    "    domain.load_dataset(\n",
    "        assets={\n",
    "            \"phi\": phi_tensor, \n",
    "            \"gamma\": gamma_tensor\n",
    "        }, \n",
    "        name=\"Test dataset\", \n",
    "        description=\"Descr.\"\n",
    "    )\n",
    "else:\n",
    "    domain.datasets"
   ]
  },
  {
   "cell_type": "code",
   "execution_count": null,
   "id": "75d56548-97f3-4ec7-8847-8250003e3bdf",
   "metadata": {},
   "outputs": [],
   "source": [
    "phi = domain.datasets[-1][\"phi\"]"
   ]
  },
  {
   "cell_type": "code",
   "execution_count": null,
   "id": "2ada1ce4-3353-41e5-8dec-268955472ac7",
   "metadata": {},
   "outputs": [],
   "source": [
    "data = phi.get_copy().child"
   ]
  },
  {
   "cell_type": "code",
   "execution_count": null,
   "id": "4bbd6f5d-f881-46da-a9be-e18923353f65",
   "metadata": {},
   "outputs": [],
   "source": [
    "data.var()"
   ]
  },
  {
   "cell_type": "code",
   "execution_count": null,
   "id": "d0200c73-dd72-40e9-b2bc-890fab610f99",
   "metadata": {},
   "outputs": [],
   "source": [
    "res = phi.var()"
   ]
  },
  {
   "cell_type": "code",
   "execution_count": null,
   "id": "3642ed02-ecf8-4823-b7ea-8d2b134eee17",
   "metadata": {},
   "outputs": [],
   "source": [
    "res.get_copy()"
   ]
  },
  {
   "cell_type": "code",
   "execution_count": null,
   "id": "335ed21d-2be7-4d42-a3d2-937bde0ecc3c",
   "metadata": {},
   "outputs": [],
   "source": [
    "phi.get_copy()"
   ]
  },
  {
   "cell_type": "code",
   "execution_count": null,
   "id": "50fc1ff8-1fb7-4a04-bdf4-3fa6a42866c4",
   "metadata": {},
   "outputs": [],
   "source": [
    "phi_res = phi.get_copy()\n",
    "print(phi_res.child.child, phi_res.child.data_subjects.sum(), phi_res.child.min_vals, phi_res.child.max_vals)"
   ]
  },
  {
   "cell_type": "code",
   "execution_count": null,
   "id": "82fb98fc-5092-48af-8c20-1f3e535293b1",
   "metadata": {},
   "outputs": [],
   "source": [
    "gamma = domain.datasets[-1][\"gamma\"]"
   ]
  },
  {
   "cell_type": "code",
   "execution_count": null,
   "id": "90bda047-b1d0-46bd-a788-818319a0d227",
   "metadata": {},
   "outputs": [],
   "source": [
    "data = gamma.get_copy().child"
   ]
  },
  {
   "cell_type": "code",
   "execution_count": null,
   "id": "2c80b82c-65a1-448a-9796-1f3d9229ca6b",
   "metadata": {},
   "outputs": [],
   "source": [
    "local_res = data.var()\n",
    "print(local_res.child)\n",
    "print(local_res.min_vals)\n",
    "print(local_res.max_vals)"
   ]
  },
  {
   "cell_type": "code",
   "execution_count": null,
   "id": "0eaca9a7-2126-4800-aa74-840cd2bc4404",
   "metadata": {},
   "outputs": [],
   "source": [
    "res = gamma.var()"
   ]
  },
  {
   "cell_type": "code",
   "execution_count": null,
   "id": "0d7bf3ad-6927-4748-939d-1bfe2455ac8f",
   "metadata": {},
   "outputs": [],
   "source": [
    "final_res = res.get_copy().child\n",
    "print(final_res.child)\n",
    "print(final_res.min_vals)\n",
    "print(final_res.max_vals)"
   ]
  },
  {
   "cell_type": "code",
   "execution_count": null,
   "id": "fac511f2-2648-4147-b635-464d1f7649a2",
   "metadata": {},
   "outputs": [],
   "source": [
    "data.data_subjects **2"
   ]
  },
  {
   "cell_type": "code",
   "execution_count": null,
   "id": "16fc8a48-763b-4bc6-9a28-5a6442482e33",
   "metadata": {},
   "outputs": [],
   "source": [
    "np.arange(6)"
   ]
  },
  {
   "cell_type": "code",
   "execution_count": 22,
   "id": "63a44651-b72f-4ec4-a42e-7e7c21e4e6b9",
   "metadata": {},
   "outputs": [],
   "source": [
    "a = np.array([[1,2,3],[4,5,6],[7,8,9]])"
   ]
  },
  {
   "cell_type": "code",
   "execution_count": 23,
   "id": "c4af7e3a-eec4-46f7-9113-29a04322926d",
   "metadata": {},
   "outputs": [],
   "source": [
    "b = np.zeros_like(a)"
   ]
  },
  {
   "cell_type": "code",
   "execution_count": 18,
   "id": "3c7271b4-581b-4f0c-811b-671d7fc0cd1c",
   "metadata": {},
   "outputs": [
    {
     "data": {
      "text/plain": [
       "(array([0, 0, 0, 1, 1, 1, 2, 2, 2]), array([0, 1, 2, 0, 1, 2, 0, 1, 2]))"
      ]
     },
     "execution_count": 18,
     "metadata": {},
     "output_type": "execute_result"
    }
   ],
   "source": [
    "np.nonzero(a)"
   ]
  },
  {
   "cell_type": "code",
   "execution_count": 15,
   "id": "94dc07c1-f0e5-431e-98d4-f6ec4286c2a4",
   "metadata": {},
   "outputs": [
    {
     "data": {
      "text/plain": [
       "(array([], dtype=int64), array([], dtype=int64))"
      ]
     },
     "execution_count": 15,
     "metadata": {},
     "output_type": "execute_result"
    }
   ],
   "source": [
    "np.nonzero(b)"
   ]
  },
  {
   "cell_type": "code",
   "execution_count": 26,
   "id": "c7df35e3-8015-4307-aa2d-a2739e7a3f86",
   "metadata": {},
   "outputs": [
    {
     "data": {
      "text/plain": [
       "array([1, 2, 3, 4, 5, 6, 7, 8, 9])"
      ]
     },
     "execution_count": 26,
     "metadata": {},
     "output_type": "execute_result"
    }
   ],
   "source": [
    "a[b==0]"
   ]
  },
  {
   "cell_type": "code",
   "execution_count": 52,
   "id": "a95846c8-a809-4092-af4c-5b3110b974ba",
   "metadata": {},
   "outputs": [
    {
     "data": {
      "text/plain": [
       "array([[0.        , 0.65425555, 0.90183526, 0.32423296, 0.85203014],\n",
       "       [0.81910149, 0.07025482, 0.90045027, 0.89573172, 0.13746083],\n",
       "       [0.96624862, 0.17163451, 0.56727644, 0.36086826, 0.12779498],\n",
       "       [0.54708224, 0.56680297, 0.32675086, 0.26507013, 0.22166813],\n",
       "       [0.40211835, 0.60959716, 0.36486352, 0.36936472, 0.05491295]])"
      ]
     },
     "execution_count": 52,
     "metadata": {},
     "output_type": "execute_result"
    }
   ],
   "source": [
    "phi_tensor.child.child"
   ]
  },
  {
   "cell_type": "code",
   "execution_count": 140,
   "id": "8983619f-af90-46f1-bbbd-b5731b08c828",
   "metadata": {},
   "outputs": [],
   "source": [
    "child = np.array([[1,2]])\n",
    "data_subjects = np.array([[sy.DataSubjectArray([\"natsu\"]),sy.DataSubjectArray([\"zerek\"])]])"
   ]
  },
  {
   "cell_type": "code",
   "execution_count": 118,
   "id": "d22053d7-5387-4065-b61f-b6c355e9b9d3",
   "metadata": {},
   "outputs": [],
   "source": [
    "child = phi_tensor.child.child\n",
    "data_subjects = phi_tensor.child.data_subjects"
   ]
  },
  {
   "cell_type": "code",
   "execution_count": 138,
   "id": "0ac8a6bb-f91b-4902-8682-b3f924bb7d24",
   "metadata": {},
   "outputs": [
    {
     "data": {
      "text/plain": [
       "(1, 2)"
      ]
     },
     "execution_count": 138,
     "metadata": {},
     "output_type": "execute_result"
    }
   ],
   "source": [
    "child.shape"
   ]
  },
  {
   "cell_type": "code",
   "execution_count": 141,
   "id": "740b1a47-4f33-4d92-b334-78915d34e8db",
   "metadata": {},
   "outputs": [
    {
     "data": {
      "text/plain": [
       "array([[DataSubjectArray: {'natsu'}, DataSubjectArray: {'zerek'}]],\n",
       "      dtype=object)"
      ]
     },
     "execution_count": 141,
     "metadata": {},
     "output_type": "execute_result"
    }
   ],
   "source": [
    "data_subjects"
   ]
  },
  {
   "cell_type": "code",
   "execution_count": 145,
   "id": "14215e71-7c1b-4abd-b61f-ce8e4c90c5ff",
   "metadata": {},
   "outputs": [],
   "source": [
    "out_child = np.array(np.nonzero(child))\n",
    "no_axis = len(child.shape)\n",
    "selected_data_subjects = np.repeat(np.array([data_subjects[child != 0]]),no_axis,axis=0)\n",
    "# out_data_subjects = selected_data_subjects.reshape(-1, no_axis).transpose()"
   ]
  },
  {
   "cell_type": "code",
   "execution_count": 146,
   "id": "1ca11bb3-4552-4a9f-a5fa-4595ba7d54a3",
   "metadata": {},
   "outputs": [
    {
     "data": {
      "text/plain": [
       "array([[DataSubjectArray: {'natsu'}, DataSubjectArray: {'zerek'}],\n",
       "       [DataSubjectArray: {'natsu'}, DataSubjectArray: {'zerek'}]],\n",
       "      dtype=object)"
      ]
     },
     "execution_count": 146,
     "metadata": {},
     "output_type": "execute_result"
    }
   ],
   "source": [
    "selected_data_subjects"
   ]
  },
  {
   "cell_type": "code",
   "execution_count": 115,
   "id": "79962e22-11ba-465c-9a8d-366aef700587",
   "metadata": {},
   "outputs": [
    {
     "data": {
      "text/plain": [
       "array([[DataSubjectArray: {'natsu'}, DataSubjectArray: {'zerek'}]],\n",
       "      dtype=object)"
      ]
     },
     "execution_count": 115,
     "metadata": {},
     "output_type": "execute_result"
    }
   ],
   "source": [
    "selected_data_subjects.reshape(-1,1).transpose()"
   ]
  },
  {
   "cell_type": "code",
   "execution_count": 72,
   "id": "d49e68f4-533a-4c75-8d4c-43cfecef0f09",
   "metadata": {},
   "outputs": [],
   "source": [
    "out_child = np.array(np.nonzero(child))"
   ]
  },
  {
   "cell_type": "code",
   "execution_count": 83,
   "id": "d887d6c4-b09e-4da9-b02e-c61b1d355a88",
   "metadata": {},
   "outputs": [
    {
     "data": {
      "text/plain": [
       "array([[0, 1]])"
      ]
     },
     "execution_count": 83,
     "metadata": {},
     "output_type": "execute_result"
    }
   ],
   "source": [
    "out_child"
   ]
  },
  {
   "cell_type": "code",
   "execution_count": 59,
   "id": "926c9aa2-ce7d-4d94-a0f6-02fc232a1494",
   "metadata": {},
   "outputs": [
    {
     "data": {
      "text/plain": [
       "array([DataSubjectArray: {'Joe'}, DataSubjectArray: {'Joe'},\n",
       "       DataSubjectArray: {'Joe'}, DataSubjectArray: {'Joe'},\n",
       "       DataSubjectArray: {'Joe'}, DataSubjectArray: {'Joe'},\n",
       "       DataSubjectArray: {'Joe'}, DataSubjectArray: {'Joe'},\n",
       "       DataSubjectArray: {'Joe'}, DataSubjectArray: {'Joe'},\n",
       "       DataSubjectArray: {'Joe'}, DataSubjectArray: {'Joe'},\n",
       "       DataSubjectArray: {'Joe'}, DataSubjectArray: {'Joe'},\n",
       "       DataSubjectArray: {'Joe'}, DataSubjectArray: {'Joe'},\n",
       "       DataSubjectArray: {'Joe'}, DataSubjectArray: {'Joe'},\n",
       "       DataSubjectArray: {'Joe'}, DataSubjectArray: {'Joe'},\n",
       "       DataSubjectArray: {'Joe'}, DataSubjectArray: {'Joe'},\n",
       "       DataSubjectArray: {'Joe'}, DataSubjectArray: {'Joe'}], dtype=object)"
      ]
     },
     "execution_count": 59,
     "metadata": {},
     "output_type": "execute_result"
    }
   ],
   "source": [
    "phi_tensor.child.data_subjects[phi_tensor.child.child!=0]"
   ]
  },
  {
   "cell_type": "code",
   "execution_count": 86,
   "id": "c9909466-0ff5-423d-b486-43aaf942989c",
   "metadata": {},
   "outputs": [],
   "source": [
    "phi_tensor.child.child =10000"
   ]
  },
  {
   "cell_type": "code",
   "execution_count": 97,
   "id": "f1f047a4-a56f-4488-af4c-d757f12a7b5c",
   "metadata": {},
   "outputs": [],
   "source": [
    "phi_tensor.child.child = np.repeat(np.array([10000]),25).reshape(5,5)"
   ]
  },
  {
   "cell_type": "code",
   "execution_count": 1,
   "id": "3cb28e80-246a-42c8-9337-273ec5bf8523",
   "metadata": {},
   "outputs": [],
   "source": [
    "import numpy as np"
   ]
  },
  {
   "cell_type": "code",
   "execution_count": 110,
   "id": "df50c2eb-f56e-4861-898b-79c33d3225cc",
   "metadata": {},
   "outputs": [],
   "source": [
    "a = np.random.random((5,5))"
   ]
  },
  {
   "cell_type": "code",
   "execution_count": 115,
   "id": "2856ad75-0022-443f-9743-3087dd0ec012",
   "metadata": {},
   "outputs": [
    {
     "data": {
      "text/plain": [
       "array([[1, 2, 2, 3, 2]])"
      ]
     },
     "execution_count": 115,
     "metadata": {},
     "output_type": "execute_result"
    }
   ],
   "source": [
    "a.argmax(axis=0,keepdims=True)"
   ]
  },
  {
   "cell_type": "code",
   "execution_count": 112,
   "id": "973c2d5f-676b-4476-a03d-5df58e5f7449",
   "metadata": {},
   "outputs": [
    {
     "data": {
      "text/plain": [
       "array([[0.2162434 , 0.79381685, 0.40614863, 0.11625035, 0.75634433],\n",
       "       [0.65638985, 0.26797079, 0.50524318, 0.7022062 , 0.59728297],\n",
       "       [0.15822801, 0.80315668, 0.81700493, 0.74545942, 0.9606241 ],\n",
       "       [0.48160778, 0.64299806, 0.41544474, 0.78731574, 0.47788519],\n",
       "       [0.20476025, 0.32464917, 0.59609203, 0.44338728, 0.2566994 ]])"
      ]
     },
     "execution_count": 112,
     "metadata": {},
     "output_type": "execute_result"
    }
   ],
   "source": [
    "a"
   ]
  },
  {
   "cell_type": "code",
   "execution_count": 114,
   "id": "6a1252dc-4846-4748-9a03-05102f605eae",
   "metadata": {},
   "outputs": [
    {
     "data": {
      "text/plain": [
       "array([0.65638985, 0.80315668, 0.81700493, 0.78731574, 0.9606241 ])"
      ]
     },
     "execution_count": 114,
     "metadata": {},
     "output_type": "execute_result"
    }
   ],
   "source": [
    "np.squeeze(np.take_along_axis(a,np.array([a.argmax(axis=0)]),axis=0))"
   ]
  },
  {
   "cell_type": "code",
   "execution_count": 69,
   "id": "10bd83f8-73fd-45ee-ba05-55a4283519ba",
   "metadata": {},
   "outputs": [],
   "source": [
    "ind = a.argmax(axis=0)"
   ]
  },
  {
   "cell_type": "code",
   "execution_count": 77,
   "id": "12f8e896-f236-40a6-bccc-7f3cf946cf77",
   "metadata": {},
   "outputs": [
    {
     "data": {
      "text/plain": [
       "array([4, 4, 4, 2, 3])"
      ]
     },
     "execution_count": 77,
     "metadata": {},
     "output_type": "execute_result"
    }
   ],
   "source": [
    "ind"
   ]
  },
  {
   "cell_type": "code",
   "execution_count": 82,
   "id": "8d9c652d-876f-4ea9-980d-df6f930e7bc2",
   "metadata": {},
   "outputs": [
    {
     "data": {
      "text/plain": [
       "array([[0.86378481, 0.98875834, 0.91723045, 0.16629998, 0.43564213],\n",
       "       [0.86378481, 0.98875834, 0.91723045, 0.16629998, 0.43564213],\n",
       "       [0.86378481, 0.98875834, 0.91723045, 0.16629998, 0.43564213],\n",
       "       [0.83152345, 0.66350362, 0.14405855, 0.90965812, 0.78522302],\n",
       "       [0.30267316, 0.75489359, 0.04418546, 0.57671274, 0.999345  ]])"
      ]
     },
     "execution_count": 82,
     "metadata": {},
     "output_type": "execute_result"
    }
   ],
   "source": [
    "np.take(a,ind,axis=0)"
   ]
  },
  {
   "cell_type": "code",
   "execution_count": 50,
   "id": "881b14bd-30d5-42e1-84ed-6177f18deefe",
   "metadata": {},
   "outputs": [
    {
     "data": {
      "text/plain": [
       "array([4, 4, 4, 2, 3])"
      ]
     },
     "execution_count": 50,
     "metadata": {},
     "output_type": "execute_result"
    }
   ],
   "source": [
    "a.argmax(axis=0)"
   ]
  },
  {
   "cell_type": "code",
   "execution_count": 26,
   "id": "2db246b0-c5f3-4e72-999e-8f0527b4cf53",
   "metadata": {},
   "outputs": [
    {
     "data": {
      "text/plain": [
       "array([[0.56470285, 0.86960235, 0.46374668, 0.55304605, 0.45388391],\n",
       "       [0.35942048, 0.37175857, 0.10195771, 0.20707087, 0.13005887],\n",
       "       [0.83152345, 0.66350362, 0.14405855, 0.90965812, 0.78522302],\n",
       "       [0.30267316, 0.75489359, 0.04418546, 0.57671274, 0.999345  ],\n",
       "       [0.86378481, 0.98875834, 0.91723045, 0.16629998, 0.43564213]])"
      ]
     },
     "execution_count": 26,
     "metadata": {},
     "output_type": "execute_result"
    }
   ],
   "source": [
    "a"
   ]
  }
 ],
 "metadata": {
  "kernelspec": {
   "display_name": "Python 3 (ipykernel)",
   "language": "python",
   "name": "python3"
  },
  "language_info": {
   "codemirror_mode": {
    "name": "ipython",
    "version": 3
   },
   "file_extension": ".py",
   "mimetype": "text/x-python",
   "name": "python",
   "nbconvert_exporter": "python",
   "pygments_lexer": "ipython3",
   "version": "3.9.13"
  }
 },
 "nbformat": 4,
 "nbformat_minor": 5
}

{
 "cells": [
  {
   "cell_type": "code",
   "execution_count": 1,
   "id": "bc3ed4c3-9f91-489e-8016-cd9f643f730c",
   "metadata": {},
   "outputs": [],
   "source": [
    "%load_ext autoreload\n",
    "%autoreload 2\n",
    "import syft as sy\n",
    "import numpy as np"
   ]
  },
  {
   "cell_type": "code",
   "execution_count": 2,
   "id": "63545187-b50d-4070-a1b7-296e25d03499",
   "metadata": {},
   "outputs": [
    {
     "name": "stdout",
     "output_type": "stream",
     "text": [
      "WARNING: CHANGE YOUR USERNAME AND PASSWORD!!! \n",
      "\n",
      "Anyone can login as an admin to your node right now because your password is still the default PySyft username and password!!!\n",
      "\n",
      "Connecting to localhost... done! \t Logging into canada... done!\n"
     ]
    }
   ],
   "source": [
    "domain = sy.login(email=\"info@openmined.org\", password=\"changethis\", port=8081)\n",
    "\n"
   ]
  },
  {
   "cell_type": "code",
   "execution_count": 3,
   "id": "eb6895d4-7ba6-48b1-8213-44240718dc66",
   "metadata": {},
   "outputs": [],
   "source": [
    "domain.datasets.purge(skip_check=True)"
   ]
  },
  {
   "cell_type": "code",
   "execution_count": 4,
   "id": "af4e219e-d2b8-4cf4-8629-0c68a5511817",
   "metadata": {},
   "outputs": [
    {
     "name": "stdout",
     "output_type": "stream",
     "text": [
      "Loading dataset... uploading...🚀                                                                                                                                             "
     ]
    },
    {
     "name": "stderr",
     "output_type": "stream",
     "text": [
      "Uploading `phi`: 100%|\u001b[32m████████████████████████████████████████████████\u001b[0m| 1/1 [00:00<00:00, 77.38it/s]\u001b[0m\n",
      "Uploading `gamma`: 100%|\u001b[32m█████████████████████████████████████████████\u001b[0m| 1/1 [00:00<00:00, 133.88it/s]\u001b[0m\n"
     ]
    },
    {
     "name": "stdout",
     "output_type": "stream",
     "text": [
      "Dataset is uploaded successfully !!! 🎉\n",
      "\n",
      "Run `<your client variable>.datasets` to see your new dataset loaded into your machine!\n"
     ]
    }
   ],
   "source": [
    "if len(domain.datasets) == 0:\n",
    "    shape = (5,5)\n",
    "    # data = np.random.random(shape)\n",
    "    data = np.random.randint(0,5,size=shape)\n",
    "    gt_dsa = np.random.choice([\"Bob\", \"Billy\", \"Brandon\"], shape)\n",
    "    pt_dsa = np.random.choice([\"Joe\"], shape)\n",
    "    gamma_tensor = sy.Tensor(data).annotate_with_dp_metadata(lower_bound=0, upper_bound=5, data_subjects=gt_dsa)\n",
    "    phi_tensor = sy.Tensor(data).annotate_with_dp_metadata(lower_bound=0, upper_bound=5, data_subjects=pt_dsa)\n",
    "\n",
    "    domain.load_dataset(\n",
    "        assets={\n",
    "            \"phi\": phi_tensor, \n",
    "            \"gamma\": gamma_tensor\n",
    "        }, \n",
    "        name=\"Test dataset\", \n",
    "        description=\"Descr.\"\n",
    "    )\n",
    "else:\n",
    "    domain.datasets"
   ]
  },
  {
   "cell_type": "code",
   "execution_count": 5,
   "id": "75d56548-97f3-4ec7-8847-8250003e3bdf",
   "metadata": {},
   "outputs": [],
   "source": [
    "\n",
    "phi = domain.datasets[-1][\"phi\"]\n"
   ]
  },
  {
   "cell_type": "code",
   "execution_count": 6,
   "id": "ec1cf777-92d3-4682-af2d-0c253e2f01c5",
   "metadata": {},
   "outputs": [],
   "source": [
    "choices = np.random.randint(0,1000,size=(5,5))"
   ]
  },
  {
   "cell_type": "code",
   "execution_count": null,
   "id": "b12beb58-5a4f-4d96-a360-a6bcb79425ae",
   "metadata": {},
   "outputs": [],
   "source": [
    "idx = domain.datasets[-1][\"phi\"][0]"
   ]
  },
  {
   "cell_type": "code",
   "execution_count": 7,
   "id": "83b6ffc6-7557-4b9f-b178-773314abef51",
   "metadata": {},
   "outputs": [],
   "source": [
    "idx = domain.datasets[-1][\"gamma\"][0]"
   ]
  },
  {
   "cell_type": "code",
   "execution_count": 9,
   "id": "6b3c6722-ae34-4124-9096-6491f69cb260",
   "metadata": {},
   "outputs": [
    {
     "data": {
      "text/plain": [
       "array([4, 2, 3, 0, 2])"
      ]
     },
     "execution_count": 9,
     "metadata": {},
     "output_type": "execute_result"
    }
   ],
   "source": [
    "idx.get_copy().child.child.choose(phi.get_copy().child.child)"
   ]
  },
  {
   "cell_type": "code",
   "execution_count": 10,
   "id": "920a75b6-25ce-409e-9ea2-d5d3a772e9b2",
   "metadata": {},
   "outputs": [],
   "source": [
    "res = idx.choose(gamma)"
   ]
  },
  {
   "cell_type": "code",
   "execution_count": 13,
   "id": "2c4d7bb2-69d0-4a0f-ad26-c9fd6f304310",
   "metadata": {},
   "outputs": [
    {
     "data": {
      "text/plain": [
       "<lazyrepeatarray data: 5 -> shape: (5,)>"
      ]
     },
     "execution_count": 13,
     "metadata": {},
     "output_type": "execute_result"
    }
   ],
   "source": [
    "res.get_copy().child.max_vals"
   ]
  },
  {
   "cell_type": "code",
   "execution_count": null,
   "id": "7815294f-c0fe-4061-b862-bbdeb44449ec",
   "metadata": {},
   "outputs": [],
   "source": [
    "data.choose(choices)"
   ]
  },
  {
   "cell_type": "code",
   "execution_count": null,
   "id": "41b60c8d-49da-44cf-9fce-f5af1a70a2e6",
   "metadata": {},
   "outputs": [],
   "source": [
    "data.choose(choices)"
   ]
  },
  {
   "cell_type": "code",
   "execution_count": null,
   "id": "ad120d9e-9eba-4d9c-bf59-2c11ea301746",
   "metadata": {},
   "outputs": [],
   "source": [
    "print(gamma_tensor.child.min_vals)\n",
    "print(gamma_tensor.child.max_vals)"
   ]
  },
  {
   "cell_type": "code",
   "execution_count": null,
   "id": "e318ca0d-a384-4ac2-b806-7486f3793062",
   "metadata": {},
   "outputs": [],
   "source": [
    "print(phi_tensor.child.min_vals)\n",
    "print(phi_tensor.child.max_vals)"
   ]
  },
  {
   "cell_type": "code",
   "execution_count": null,
   "id": "e7ff02ac-9857-41ab-9065-b4c41b06d0b0",
   "metadata": {},
   "outputs": [],
   "source": [
    "res = phi_tensor.choose(choices)\n",
    "print(res.child.child)\n",
    "print(res.child.min_vals)\n",
    "print(res.child.max_vals)"
   ]
  },
  {
   "cell_type": "code",
   "execution_count": null,
   "id": "a797cb54-6795-45ba-9c35-878f8ec0c2ab",
   "metadata": {},
   "outputs": [],
   "source": [
    "res = gamma_tensor& data2\n",
    "print(res.child.child)\n",
    "print(res.child.min_vals)\n",
    "print(res.child.max_vals)"
   ]
  },
  {
   "cell_type": "code",
   "execution_count": null,
   "id": "c7ee616c-0b5a-445c-9ee5-e74cd6d6e0d8",
   "metadata": {},
   "outputs": [],
   "source": [
    "res = phi&data2\n",
    "print(res.min_vals)\n",
    "print(res.max_vals)"
   ]
  },
  {
   "cell_type": "code",
   "execution_count": null,
   "id": "3642ed02-ecf8-4823-b7ea-8d2b134eee17",
   "metadata": {},
   "outputs": [],
   "source": [
    "res.get_copy()"
   ]
  },
  {
   "cell_type": "code",
   "execution_count": 8,
   "id": "82fb98fc-5092-48af-8c20-1f3e535293b1",
   "metadata": {},
   "outputs": [],
   "source": [
    "gamma = domain.datasets[-1][\"gamma\"]"
   ]
  },
  {
   "cell_type": "code",
   "execution_count": null,
   "id": "0eaca9a7-2126-4800-aa74-840cd2bc4404",
   "metadata": {},
   "outputs": [],
   "source": [
    "res = gamma&data2\n",
    "print(res.min_vals)\n",
    "print(res.max_vals)"
   ]
  },
  {
   "cell_type": "code",
   "execution_count": null,
   "id": "0d7bf3ad-6927-4748-939d-1bfe2455ac8f",
   "metadata": {},
   "outputs": [],
   "source": [
    "final_res = res.get_copy().child\n",
    "print(final_res.child)\n",
    "print(final_res.min_vals)\n",
    "print(final_res.max_vals)"
   ]
  },
  {
   "cell_type": "code",
   "execution_count": null,
   "id": "99807eb7-d6fd-425a-bb90-7d8666c686c8",
   "metadata": {},
   "outputs": [],
   "source": [
    "(-20).bit_length()"
   ]
  },
  {
   "cell_type": "code",
   "execution_count": null,
   "id": "a749630c-dfdd-46bb-b8be-12aac35b9045",
   "metadata": {},
   "outputs": [],
   "source": [
    "min"
   ]
  },
  {
   "cell_type": "code",
   "execution_count": null,
   "id": "fac511f2-2648-4147-b635-464d1f7649a2",
   "metadata": {},
   "outputs": [],
   "source": [
    "data.data_subjects **2"
   ]
  },
  {
   "cell_type": "code",
   "execution_count": null,
   "id": "16fc8a48-763b-4bc6-9a28-5a6442482e33",
   "metadata": {},
   "outputs": [],
   "source": [
    "np.arange(6)"
   ]
  },
  {
   "cell_type": "code",
   "execution_count": null,
   "id": "63a44651-b72f-4ec4-a42e-7e7c21e4e6b9",
   "metadata": {},
   "outputs": [],
   "source": [
    "a = np.array([[1,2,3],[4,5,6],[7,8,9]])"
   ]
  },
  {
   "cell_type": "code",
   "execution_count": null,
   "id": "c4af7e3a-eec4-46f7-9113-29a04322926d",
   "metadata": {},
   "outputs": [],
   "source": [
    "b = np.zeros_like(a)"
   ]
  },
  {
   "cell_type": "code",
   "execution_count": null,
   "id": "3c7271b4-581b-4f0c-811b-671d7fc0cd1c",
   "metadata": {},
   "outputs": [],
   "source": [
    "np.nonzero(a)"
   ]
  },
  {
   "cell_type": "code",
   "execution_count": null,
   "id": "94dc07c1-f0e5-431e-98d4-f6ec4286c2a4",
   "metadata": {},
   "outputs": [],
   "source": [
    "np.nonzero(b)"
   ]
  },
  {
   "cell_type": "code",
   "execution_count": null,
   "id": "c7df35e3-8015-4307-aa2d-a2739e7a3f86",
   "metadata": {},
   "outputs": [],
   "source": [
    "a[b==0]"
   ]
  },
  {
   "cell_type": "code",
   "execution_count": null,
   "id": "a95846c8-a809-4092-af4c-5b3110b974ba",
   "metadata": {},
   "outputs": [],
   "source": [
    "phi_tensor.child.child"
   ]
  },
  {
   "cell_type": "code",
   "execution_count": null,
   "id": "8983619f-af90-46f1-bbbd-b5731b08c828",
   "metadata": {},
   "outputs": [],
   "source": [
    "child = np.array([[1,2]])\n",
    "data_subjects = np.array([[sy.DataSubjectArray([\"natsu\"]),sy.DataSubjectArray([\"zerek\"])]])"
   ]
  },
  {
   "cell_type": "code",
   "execution_count": null,
   "id": "d22053d7-5387-4065-b61f-b6c355e9b9d3",
   "metadata": {},
   "outputs": [],
   "source": [
    "child = phi_tensor.child.child\n",
    "data_subjects = phi_tensor.child.data_subjects"
   ]
  },
  {
   "cell_type": "code",
   "execution_count": null,
   "id": "0ac8a6bb-f91b-4902-8682-b3f924bb7d24",
   "metadata": {},
   "outputs": [],
   "source": [
    "child.shape"
   ]
  },
  {
   "cell_type": "code",
   "execution_count": null,
   "id": "740b1a47-4f33-4d92-b334-78915d34e8db",
   "metadata": {},
   "outputs": [],
   "source": [
    "data_subjects"
   ]
  },
  {
   "cell_type": "code",
   "execution_count": null,
   "id": "14215e71-7c1b-4abd-b61f-ce8e4c90c5ff",
   "metadata": {},
   "outputs": [],
   "source": [
    "out_child = np.array(np.nonzero(child))\n",
    "no_axis = len(child.shape)\n",
    "selected_data_subjects = np.repeat(np.array([data_subjects[child != 0]]),no_axis,axis=0)\n",
    "# out_data_subjects = selected_data_subjects.reshape(-1, no_axis).transpose()"
   ]
  },
  {
   "cell_type": "code",
   "execution_count": null,
   "id": "1ca11bb3-4552-4a9f-a5fa-4595ba7d54a3",
   "metadata": {},
   "outputs": [],
   "source": [
    "selected_data_subjects"
   ]
  },
  {
   "cell_type": "code",
   "execution_count": null,
   "id": "79962e22-11ba-465c-9a8d-366aef700587",
   "metadata": {},
   "outputs": [],
   "source": [
    "selected_data_subjects.reshape(-1,1).transpose()"
   ]
  },
  {
   "cell_type": "code",
   "execution_count": null,
   "id": "d49e68f4-533a-4c75-8d4c-43cfecef0f09",
   "metadata": {},
   "outputs": [],
   "source": [
    "out_child = np.array(np.nonzero(child))"
   ]
  },
  {
   "cell_type": "code",
   "execution_count": null,
   "id": "d887d6c4-b09e-4da9-b02e-c61b1d355a88",
   "metadata": {},
   "outputs": [],
   "source": [
    "out_child"
   ]
  },
  {
   "cell_type": "code",
   "execution_count": null,
   "id": "926c9aa2-ce7d-4d94-a0f6-02fc232a1494",
   "metadata": {},
   "outputs": [],
   "source": [
    "phi_tensor.child.data_subjects[phi_tensor.child.child!=0]"
   ]
  },
  {
   "cell_type": "code",
   "execution_count": null,
   "id": "c9909466-0ff5-423d-b486-43aaf942989c",
   "metadata": {},
   "outputs": [],
   "source": [
    "phi_tensor.child.child =10000"
   ]
  },
  {
   "cell_type": "code",
   "execution_count": null,
   "id": "f1f047a4-a56f-4488-af4c-d757f12a7b5c",
   "metadata": {},
   "outputs": [],
   "source": [
    "phi_tensor.child.child = np.repeat(np.array([10000]),25).reshape(5,5)"
   ]
  },
  {
   "cell_type": "code",
   "execution_count": null,
   "id": "cd091b0d-da95-46df-99b4-080261241101",
   "metadata": {},
   "outputs": [],
   "source": [
    "import numpy as np"
   ]
  },
  {
   "cell_type": "code",
   "execution_count": null,
   "id": "614c4105-ec96-4bcf-b0f5-4b1d90777494",
   "metadata": {},
   "outputs": [],
   "source": [
    "a = np.array([[1,2,3],[4,5,6]])"
   ]
  },
  {
   "cell_type": "code",
   "execution_count": null,
   "id": "9bbf12fb-acbf-4fa6-9f40-7cc2ed870669",
   "metadata": {},
   "outputs": [],
   "source": [
    "a.ptp()"
   ]
  },
  {
   "cell_type": "code",
   "execution_count": null,
   "id": "870b05ad-0777-4b72-a878-5e0c56aca4e6",
   "metadata": {},
   "outputs": [],
   "source": [
    "data = phi_tensor.child.child\n",
    "dsa = phi_tensor.child.data_subjects"
   ]
  },
  {
   "cell_type": "code",
   "execution_count": null,
   "id": "252ee88b-4c56-4473-8f09-39eaf2a1ed50",
   "metadata": {},
   "outputs": [],
   "source": [
    "data.ptp(axis=0)"
   ]
  },
  {
   "cell_type": "code",
   "execution_count": null,
   "id": "3fec03db-6992-4d6d-b6db-15c0d0d71efb",
   "metadata": {},
   "outputs": [],
   "source": [
    "data.max(axis=0) - data.min(axis=0)"
   ]
  },
  {
   "cell_type": "code",
   "execution_count": null,
   "id": "9cd48b92-41b0-49e0-8cd6-5212ccf32f52",
   "metadata": {},
   "outputs": [],
   "source": [
    "data.argmax() ,data.argmin()"
   ]
  },
  {
   "cell_type": "code",
   "execution_count": null,
   "id": "4d08e505-a42b-44f7-83f0-5bfc2022c0c5",
   "metadata": {},
   "outputs": [],
   "source": [
    "axis = 0\n",
    "child = data.ptp(axis = axis)"
   ]
  },
  {
   "cell_type": "code",
   "execution_count": null,
   "id": "915a7018-8a58-41ec-9035-14fd5238988d",
   "metadata": {},
   "outputs": [],
   "source": [
    "child"
   ]
  },
  {
   "cell_type": "code",
   "execution_count": null,
   "id": "f39fd1e8-297a-4a4d-8226-081d859ab285",
   "metadata": {},
   "outputs": [],
   "source": [
    "argmax = data.argmin(axis=0)\n",
    "argmin = data.argmin(axis=0)\n",
    "argmax,argmin"
   ]
  },
  {
   "cell_type": "code",
   "execution_count": null,
   "id": "e066cbea-e8cd-4275-9748-ee2928c1e455",
   "metadata": {},
   "outputs": [],
   "source": [
    "\n",
    "index_max = np.array([argmax])\n",
    "data_subjects_max = np.squeeze(\n",
    "    np.take_along_axis(dsa, index_max, axis=axis)\n",
    ")"
   ]
  },
  {
   "cell_type": "code",
   "execution_count": null,
   "id": "396a2531-a3db-444b-ad35-a36cfe248a7b",
   "metadata": {},
   "outputs": [],
   "source": [
    "data_subjects_max"
   ]
  },
  {
   "cell_type": "code",
   "execution_count": null,
   "id": "a7f343a2-67ea-4c52-920a-f4e2d5c5903c",
   "metadata": {},
   "outputs": [],
   "source": [
    "new_dsa = np.array([sy.DataSubjectArray([chr(i)]) for i in range(65,90)]).reshape(5,5)"
   ]
  },
  {
   "cell_type": "code",
   "execution_count": null,
   "id": "86b51dc4-24a9-4545-86d3-72ee08680ab6",
   "metadata": {},
   "outputs": [],
   "source": [
    "new_dsa"
   ]
  },
  {
   "cell_type": "code",
   "execution_count": null,
   "id": "e4df2ac8-23be-4b6e-825e-daf4e8348f58",
   "metadata": {},
   "outputs": [],
   "source": [
    "phi_tensor.child.data_subjects =  new_dsa"
   ]
  },
  {
   "cell_type": "code",
   "execution_count": null,
   "id": "f876e086-713c-4ce2-822c-0225b42d7289",
   "metadata": {},
   "outputs": [],
   "source": [
    "res= phi_tensor.child.ptp(axis=0)"
   ]
  },
  {
   "cell_type": "code",
   "execution_count": null,
   "id": "aa89196a-cb5f-4371-9fe7-6ab37d3d3715",
   "metadata": {},
   "outputs": [],
   "source": [
    "res.data_subjects"
   ]
  },
  {
   "cell_type": "code",
   "execution_count": null,
   "id": "be9b27cd-2316-4421-8021-b6555c0c762b",
   "metadata": {},
   "outputs": [],
   "source": [
    "data = phi_tensor.child.child"
   ]
  },
  {
   "cell_type": "code",
   "execution_count": null,
   "id": "1ed41871-3260-4831-bf38-dd3fce40c52a",
   "metadata": {},
   "outputs": [],
   "source": [
    "data.ptp(axis=0)"
   ]
  },
  {
   "cell_type": "code",
   "execution_count": null,
   "id": "0eddd96a-df26-4ad9-9be4-fccb0b799c68",
   "metadata": {},
   "outputs": [],
   "source": [
    "data"
   ]
  },
  {
   "cell_type": "code",
   "execution_count": null,
   "id": "f53166d6-81a3-42d1-8eee-8d7bffa53053",
   "metadata": {},
   "outputs": [],
   "source": [
    "new_dsa"
   ]
  },
  {
   "cell_type": "code",
   "execution_count": null,
   "id": "34dd9547-484d-4600-a03a-ae1ee91bc1ab",
   "metadata": {},
   "outputs": [],
   "source": []
  },
  {
   "cell_type": "code",
   "execution_count": null,
   "id": "975b2630-ad12-4066-b918-821d5fee149e",
   "metadata": {},
   "outputs": [],
   "source": [
    "#MEDIUM operations testing."
   ]
  },
  {
   "cell_type": "code",
   "execution_count": null,
   "id": "e89ca64e-d637-4b50-b537-6208f9b2c281",
   "metadata": {},
   "outputs": [],
   "source": [
    "import jax.numpy as jnp"
   ]
  },
  {
   "cell_type": "code",
   "execution_count": null,
   "id": "e74cd909-c80e-4c9c-9d41-0fb35a57ae9e",
   "metadata": {},
   "outputs": [],
   "source": [
    "data"
   ]
  },
  {
   "cell_type": "code",
   "execution_count": null,
   "id": "41ad87c3-bcfc-4cad-8eb6-b0401f86d58a",
   "metadata": {},
   "outputs": [],
   "source": [
    "data>>2"
   ]
  },
  {
   "cell_type": "code",
   "execution_count": null,
   "id": "7575d407-53ee-47cc-bf7c-30d5a422888f",
   "metadata": {},
   "outputs": [],
   "source": [
    "res = phi_tensor >>8"
   ]
  },
  {
   "cell_type": "code",
   "execution_count": null,
   "id": "6ddeb380-e3cf-4f6a-857e-8ae18a8173f9",
   "metadata": {},
   "outputs": [],
   "source": [
    "gamma_tensor>>np.array([2])"
   ]
  },
  {
   "cell_type": "code",
   "execution_count": null,
   "id": "9e7af9f9-0f57-45eb-9eb0-83de97f3d4dd",
   "metadata": {},
   "outputs": [],
   "source": [
    "data^2"
   ]
  },
  {
   "cell_type": "code",
   "execution_count": null,
   "id": "2523c9c8-f9ee-44e7-b5f9-bdfd1c41f27a",
   "metadata": {},
   "outputs": [],
   "source": [
    "phi_tensor"
   ]
  },
  {
   "cell_type": "code",
   "execution_count": null,
   "id": "cb97d692-0017-4bd2-a78d-7827226753b7",
   "metadata": {},
   "outputs": [],
   "source": [
    "data"
   ]
  },
  {
   "cell_type": "code",
   "execution_count": null,
   "id": "e3dd3d57-3de6-4916-b754-51cab1ad0c43",
   "metadata": {},
   "outputs": [],
   "source": [
    "data"
   ]
  },
  {
   "cell_type": "code",
   "execution_count": null,
   "id": "afb86352-1136-4e40-999a-ef0810d9e3e1",
   "metadata": {},
   "outputs": [],
   "source": [
    "gamma_tensor.round()"
   ]
  },
  {
   "cell_type": "code",
   "execution_count": null,
   "id": "c87377a5-7e77-4b66-bb62-0ba5d22540f7",
   "metadata": {},
   "outputs": [],
   "source": [
    "data"
   ]
  },
  {
   "cell_type": "code",
   "execution_count": null,
   "id": "f17eb69f-3fdd-41f0-81a1-599a3ba1258d",
   "metadata": {},
   "outputs": [],
   "source": [
    "data.sort(1)"
   ]
  },
  {
   "cell_type": "code",
   "execution_count": null,
   "id": "6f1c69b0-e4c1-4b9b-adec-a8e79d79b59f",
   "metadata": {},
   "outputs": [],
   "source": [
    "val = np.random.random((5,5))"
   ]
  },
  {
   "cell_type": "code",
   "execution_count": null,
   "id": "f682be45-ab22-4cd8-af78-3dbfac749b2c",
   "metadata": {},
   "outputs": [],
   "source": [
    "prev = val.copy()\n",
    "val"
   ]
  },
  {
   "cell_type": "code",
   "execution_count": null,
   "id": "54624a04-fecc-4ffe-8331-e616aa6805cf",
   "metadata": {},
   "outputs": [],
   "source": [
    "val.sort()"
   ]
  },
  {
   "cell_type": "code",
   "execution_count": null,
   "id": "cc1f7531-9b83-41df-85cc-48a4f0426f51",
   "metadata": {},
   "outputs": [],
   "source": [
    "val"
   ]
  },
  {
   "cell_type": "code",
   "execution_count": null,
   "id": "18541476-ad33-48eb-a758-0f7132e68c46",
   "metadata": {},
   "outputs": [],
   "source": [
    "gamma_tensor"
   ]
  },
  {
   "cell_type": "code",
   "execution_count": null,
   "id": "7840e7b3-e447-4704-bb2d-fcc0f19e8c1e",
   "metadata": {},
   "outputs": [],
   "source": [
    "np.take_along_axis(prev,prev.argsort(),axis=-1)"
   ]
  },
  {
   "cell_type": "code",
   "execution_count": null,
   "id": "bfcb7e8e-ef73-4082-bd3f-fcd62b27e764",
   "metadata": {},
   "outputs": [],
   "source": [
    "phi_tensor.child.data_subjects"
   ]
  },
  {
   "cell_type": "code",
   "execution_count": null,
   "id": "4f7acadc-5c85-4089-a5ba-71672a9bf673",
   "metadata": {},
   "outputs": [],
   "source": [
    "val = data.copy()\n",
    "val"
   ]
  },
  {
   "cell_type": "code",
   "execution_count": null,
   "id": "50c9e584-b957-463d-8439-29a559dc42ea",
   "metadata": {},
   "outputs": [],
   "source": [
    "val.sort()"
   ]
  },
  {
   "cell_type": "code",
   "execution_count": null,
   "id": "4902b706-5e25-460c-8b86-08a3d840ec8b",
   "metadata": {},
   "outputs": [],
   "source": [
    "val"
   ]
  },
  {
   "cell_type": "code",
   "execution_count": null,
   "id": "aa43d593-89ef-4a1b-afa0-4740395dd2cc",
   "metadata": {},
   "outputs": [],
   "source": [
    "gamma_tensor.child.data_subjects"
   ]
  },
  {
   "cell_type": "code",
   "execution_count": null,
   "id": "e8fbdb0d-1e03-4344-a32f-4401ed60eb33",
   "metadata": {},
   "outputs": [],
   "source": [
    "gamma_tensor.sort().child.data_subjects()"
   ]
  },
  {
   "cell_type": "code",
   "execution_count": null,
   "id": "190867d3-113e-4274-b299-5097cb416601",
   "metadata": {},
   "outputs": [],
   "source": [
    "data.argsort()"
   ]
  },
  {
   "cell_type": "code",
   "execution_count": null,
   "id": "327e69aa-80cb-412b-ab45-91800edbcd9b",
   "metadata": {},
   "outputs": [],
   "source": [
    "ds = gamma_tensor.argsort().child.data_subjects\n",
    "ds"
   ]
  },
  {
   "cell_type": "code",
   "execution_count": null,
   "id": "bf594357-32d8-46cb-88ab-b1ad8cf599af",
   "metadata": {},
   "outputs": [],
   "source": [
    "res = gamma_tensor.sort()"
   ]
  },
  {
   "cell_type": "code",
   "execution_count": null,
   "id": "7f69aedd-94d6-456a-91cc-c2bda53ba007",
   "metadata": {},
   "outputs": [],
   "source": [
    "res.child.data_subjects == ds"
   ]
  },
  {
   "cell_type": "code",
   "execution_count": null,
   "id": "d508f56b-72e4-4fb6-be9a-652ca81de254",
   "metadata": {},
   "outputs": [],
   "source": [
    "np.divmod(data,0.1)"
   ]
  },
  {
   "cell_type": "code",
   "execution_count": null,
   "id": "43ea71f5-3a75-4ce9-abee-fdc5f8612826",
   "metadata": {},
   "outputs": [],
   "source": [
    "data//0.1"
   ]
  },
  {
   "cell_type": "code",
   "execution_count": null,
   "id": "6319402d-1936-4611-95d1-965db0ab9dc6",
   "metadata": {},
   "outputs": [],
   "source": [
    "data%0.01"
   ]
  },
  {
   "cell_type": "code",
   "execution_count": null,
   "id": "82e4088c-c390-487d-8625-4057ab655ceb",
   "metadata": {},
   "outputs": [],
   "source": [
    "data"
   ]
  },
  {
   "cell_type": "code",
   "execution_count": null,
   "id": "be8e28eb-b7d4-45fc-ae87-278443df397d",
   "metadata": {},
   "outputs": [],
   "source": [
    "phi_tensor"
   ]
  },
  {
   "cell_type": "code",
   "execution_count": null,
   "id": "cff9ca25-4ca1-4612-92fd-0d922dda6c99",
   "metadata": {},
   "outputs": [],
   "source": [
    "phi_tensor.transpose()"
   ]
  },
  {
   "cell_type": "code",
   "execution_count": null,
   "id": "7f1081cc-8f09-4d4c-ad73-42a68b5dd6b6",
   "metadata": {},
   "outputs": [],
   "source": [
    "gamma_tensor"
   ]
  },
  {
   "cell_type": "code",
   "execution_count": null,
   "id": "e68bd33f-104d-4e3d-8563-4ef91938c479",
   "metadata": {},
   "outputs": [],
   "source": [
    "gamma_tensor.transpose()"
   ]
  },
  {
   "cell_type": "code",
   "execution_count": null,
   "id": "8a9128a0-d2f4-4450-a645-f1bade3b9270",
   "metadata": {},
   "outputs": [],
   "source": [
    "phi_tensor"
   ]
  },
  {
   "cell_type": "code",
   "execution_count": null,
   "id": "6fa4900a-42a1-478b-a9d9-c5d367fb9332",
   "metadata": {},
   "outputs": [],
   "source": [
    "phi_tensor.reshape((25,1)).child.data_subjects"
   ]
  },
  {
   "cell_type": "code",
   "execution_count": null,
   "id": "699a9a20-9d99-4be9-bf18-1794e86147ed",
   "metadata": {},
   "outputs": [],
   "source": [
    "gamma_tensor.reshape((25,1)).child.max_vals"
   ]
  },
  {
   "cell_type": "code",
   "execution_count": null,
   "id": "70cafa66-5dee-4488-b61e-69bd6d99409d",
   "metadata": {},
   "outputs": [],
   "source": [
    "data"
   ]
  },
  {
   "cell_type": "code",
   "execution_count": null,
   "id": "ad92018d-803e-41c5-b2e7-635a96cb28e2",
   "metadata": {},
   "outputs": [],
   "source": [
    "data.resize((25,1),refcheck=True)"
   ]
  },
  {
   "cell_type": "code",
   "execution_count": null,
   "id": "d2726ec7-f6ab-4e1f-8b4a-b69e18577ed0",
   "metadata": {},
   "outputs": [],
   "source": [
    "data.resize(5,5)"
   ]
  },
  {
   "cell_type": "code",
   "execution_count": null,
   "id": "d097428d-7ebb-40ae-be99-8d4e6e96be9e",
   "metadata": {},
   "outputs": [],
   "source": [
    "phi_tensor"
   ]
  },
  {
   "cell_type": "code",
   "execution_count": null,
   "id": "8738367d-8f8e-497e-b185-f659a0867dc3",
   "metadata": {},
   "outputs": [],
   "source": [
    "phi_tensor.resize((25,1)).child.min_vals"
   ]
  },
  {
   "cell_type": "code",
   "execution_count": null,
   "id": "68c41968-e098-4a2f-be98-ae64d65c5fe5",
   "metadata": {},
   "outputs": [],
   "source": [
    "gamma_tensor.resize((25,1)).child.max_vals"
   ]
  },
  {
   "cell_type": "code",
   "execution_count": null,
   "id": "8757b343-14cf-4afb-a544-0b97d4261f2b",
   "metadata": {},
   "outputs": [],
   "source": [
    "a = -10"
   ]
  },
  {
   "cell_type": "code",
   "execution_count": null,
   "id": "120dd69e-e3af-424c-902f-9425a069dee8",
   "metadata": {},
   "outputs": [],
   "source": [
    "a.bit_length()"
   ]
  },
  {
   "cell_type": "code",
   "execution_count": null,
   "id": "07a45828-7cd7-4325-b686-643fca79c845",
   "metadata": {},
   "outputs": [],
   "source": [
    "2**4-1"
   ]
  },
  {
   "cell_type": "code",
   "execution_count": null,
   "id": "097e754c-5d4c-45ae-aa89-696297af6045",
   "metadata": {},
   "outputs": [],
   "source": [
    "import numpy as np"
   ]
  },
  {
   "cell_type": "code",
   "execution_count": null,
   "id": "8e2e9a06-cdf8-45a3-9cd1-1822a6f4b8b6",
   "metadata": {},
   "outputs": [],
   "source": [
    "a = np.array([1,2,3])"
   ]
  },
  {
   "cell_type": "code",
   "execution_count": null,
   "id": "c5aff6fe-e99e-48c9-ab5e-18eb6da0e06b",
   "metadata": {},
   "outputs": [],
   "source": [
    "int(max(a)).bit_length()"
   ]
  },
  {
   "cell_type": "code",
   "execution_count": null,
   "id": "5f4efa44-c4b6-4993-bfeb-3ff90fe969aa",
   "metadata": {},
   "outputs": [],
   "source": [
    "a = -1"
   ]
  },
  {
   "cell_type": "code",
   "execution_count": null,
   "id": "8b5c449c-350d-41fd-8ae6-805b1fcbfeb0",
   "metadata": {},
   "outputs": [],
   "source": []
  }
 ],
 "metadata": {
  "kernelspec": {
   "display_name": "Python 3 (ipykernel)",
   "language": "python",
   "name": "python3"
  },
  "language_info": {
   "codemirror_mode": {
    "name": "ipython",
    "version": 3
   },
   "file_extension": ".py",
   "mimetype": "text/x-python",
   "name": "python",
   "nbconvert_exporter": "python",
   "pygments_lexer": "ipython3",
   "version": "3.9.13"
  }
 },
 "nbformat": 4,
 "nbformat_minor": 5
}

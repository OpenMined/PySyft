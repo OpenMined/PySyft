{
 "cells": [
  {
   "cell_type": "code",
   "execution_count": 1,
   "id": "fdca440e-2456-4256-868a-58ee3e381d7b",
   "metadata": {},
   "outputs": [
    {
     "name": "stderr",
     "output_type": "stream",
     "text": [
      "/Users/rasswanth/PySyft/.tox/syft.jupyter/lib/python3.9/site-packages/jax/_src/lib/__init__.py:33: UserWarning: JAX on Mac ARM machines is experimental and minimally tested. Please see https://github.com/google/jax/issues/5501 in the event of problems.\n",
      "  warnings.warn(\"JAX on Mac ARM machines is experimental and minimally tested. \"\n"
     ]
    }
   ],
   "source": [
    "import syft as sy\n",
    "from syft import DataSubjectArray\n",
    "import numpy as np\n",
    "from syft.core.adp.data_subject_list import dslarraytonumpyutf8,numpyutf8todslarray"
   ]
  },
  {
   "cell_type": "code",
   "execution_count": null,
   "id": "4707ac88-2f33-4b26-903a-ea99a5bcefe5",
   "metadata": {},
   "outputs": [],
   "source": [
    "dsl = DataSubjectArray.from_objs(np.ones((10,10)))"
   ]
  },
  {
   "cell_type": "code",
   "execution_count": null,
   "id": "23c8f565-2290-4ed4-82b0-2e54b26971ae",
   "metadata": {},
   "outputs": [],
   "source": [
    "(numpyutf8todslarray(sy.deserialize(sy.serialize(dslarraytonumpyutf8(dsl))))==dsl).all()"
   ]
  },
  {
   "cell_type": "code",
   "execution_count": 2,
   "id": "d018c141-acc9-4e73-b756-4d23e1baa185",
   "metadata": {},
   "outputs": [
    {
     "name": "stdout",
     "output_type": "stream",
     "text": [
      "WARNING: CHANGE YOUR USERNAME AND PASSWORD!!! \n",
      "\n",
      "Anyone can login as an admin to your node right now because your password is still the default PySyft username and password!!!\n",
      "\n",
      "Connecting to localhost... done! \t Logging into canada... done!\n"
     ]
    }
   ],
   "source": [
    "domain = sy.login(email=\"info@openmined.org\",password=\"changethis\",port=8081)"
   ]
  },
  {
   "cell_type": "code",
   "execution_count": 3,
   "id": "eeee2f07-aaae-4ce4-86e1-6c6a57884e39",
   "metadata": {},
   "outputs": [],
   "source": [
    "gamma_tensor"
   ]
  },
  {
   "cell_type": "code",
   "execution_count": 39,
   "id": "0a2686a0-c0a7-47b4-a977-0ef2171b8bef",
   "metadata": {},
   "outputs": [
    {
     "name": "stdout",
     "output_type": "stream",
     "text": [
      "Loading dataset... uploading...🚀                                                                                                                                             "
     ]
    },
    {
     "name": "stderr",
     "output_type": "stream",
     "text": [
      "Uploading `Demo Data`: 100%|\u001b[32m██████████████████████████████████████████\u001b[0m| 1/1 [00:00<00:00, 92.76it/s]\u001b[0m"
     ]
    },
    {
     "name": "stdout",
     "output_type": "stream",
     "text": [
      "Dataset is uploaded successfully !!! 🎉\n",
      "\n",
      "Run `<your client variable>.datasets` to see your new dataset loaded into your machine!\n"
     ]
    },
    {
     "name": "stderr",
     "output_type": "stream",
     "text": [
      "\n"
     ]
    }
   ],
   "source": [
    "domain.load_dataset(assets = { \"Demo Data\":tensor},name=\"Demo Data\",description=\"Sample Description\")"
   ]
  },
  {
   "cell_type": "code",
   "execution_count": 41,
   "id": "cf0ba4ea-669d-4c7a-84a4-b720342e3fe3",
   "metadata": {},
   "outputs": [
    {
     "data": {
      "text/plain": [
       "array([0])\n",
       "\n",
       " (The data printed above is synthetic - it's an imitation of the real data.)"
      ]
     },
     "execution_count": 41,
     "metadata": {},
     "output_type": "execute_result"
    }
   ],
   "source": [
    "domain.datasets[1][\"Demo Data\"]"
   ]
  },
  {
   "cell_type": "code",
   "execution_count": 42,
   "id": "0dfa659a-d04b-40e6-915a-df75652b1a28",
   "metadata": {},
   "outputs": [
    {
     "data": {
      "text/plain": [
       "Tensor(child=PhiTensor(child=[1], min_vals=<lazyrepeatarray data: [0] -> shape: (1,)>, max_vals=<lazyrepeatarray data: [1] -> shape: (1,)>))"
      ]
     },
     "execution_count": 42,
     "metadata": {},
     "output_type": "execute_result"
    }
   ],
   "source": [
    "tensor "
   ]
  },
  {
   "cell_type": "code",
   "execution_count": 13,
   "id": "b6802fd5-181a-4765-8ac6-6e0ebcffbb10",
   "metadata": {},
   "outputs": [],
   "source": [
    "dsl = np.array([DataSubjectArray([\"natsu\"])])"
   ]
  },
  {
   "cell_type": "code",
   "execution_count": 14,
   "id": "c5697664-cbbb-472f-9ccf-8b4478ee87b7",
   "metadata": {},
   "outputs": [
    {
     "data": {
      "text/plain": [
       "array([DataSubjectArray: {'natsu'}], dtype=object)"
      ]
     },
     "execution_count": 14,
     "metadata": {},
     "output_type": "execute_result"
    }
   ],
   "source": [
    "dsl"
   ]
  },
  {
   "cell_type": "code",
   "execution_count": 15,
   "id": "391e91af-692b-43ad-bb1f-d7c458657bc0",
   "metadata": {},
   "outputs": [],
   "source": [
    "tensor = sy.Tensor(data).private(min_val=0,max_val=1,data_subjects=dsl)"
   ]
  },
  {
   "cell_type": "code",
   "execution_count": 16,
   "id": "54f26829-9905-494d-a549-63be8683f254",
   "metadata": {},
   "outputs": [
    {
     "data": {
      "text/plain": [
       "Tensor(child=PhiTensor(child=[1], min_vals=<lazyrepeatarray data: [0] -> shape: (1,)>, max_vals=<lazyrepeatarray data: [1] -> shape: (1,)>))"
      ]
     },
     "execution_count": 16,
     "metadata": {},
     "output_type": "execute_result"
    }
   ],
   "source": [
    "tensor"
   ]
  },
  {
   "cell_type": "code",
   "execution_count": 17,
   "id": "9018851d-3290-4b39-82d9-1d93f2483fa6",
   "metadata": {},
   "outputs": [],
   "source": [
    "data = np.array([1,2])"
   ]
  },
  {
   "cell_type": "code",
   "execution_count": 18,
   "id": "cbe33f86-3d8b-4ade-8c11-f1c61160957b",
   "metadata": {},
   "outputs": [],
   "source": [
    "new_dsl = np.array([DataSubjectArray([\"natsu\"]),DataSubjectArray([\"zerek\"])])"
   ]
  },
  {
   "cell_type": "code",
   "execution_count": 19,
   "id": "f91a07f6-a180-4b2f-a8c4-15373ee1963b",
   "metadata": {},
   "outputs": [],
   "source": [
    "gamma_tensor = sy.Tensor(data).private(min_val =0,max_val=2,data_subjects=new_dsl)"
   ]
  },
  {
   "cell_type": "code",
   "execution_count": 20,
   "id": "f2244911-2c1a-439c-ae20-220ba08d995d",
   "metadata": {},
   "outputs": [
    {
     "data": {
      "text/plain": [
       "Tensor(child=GammaTensor(child=array([1, 2]), data_subjects=array([DataSubjectArray: {'natsu'}, DataSubjectArray: {'zerek'}],\n",
       "      dtype=object), min_vals=<lazyrepeatarray data: [0] -> shape: (2,)>, max_vals=<lazyrepeatarray data: [2] -> shape: (2,)>, is_linear=True, func_str='noop', id='863222982', sources={}))"
      ]
     },
     "execution_count": 20,
     "metadata": {},
     "output_type": "execute_result"
    }
   ],
   "source": [
    "gamma_tensor"
   ]
  },
  {
   "cell_type": "code",
   "execution_count": 22,
   "id": "97f97c4e-200f-4cc0-be87-62717bbf46f7",
   "metadata": {},
   "outputs": [],
   "source": [
    "new_dsl = np.array([DataSubjectArray([\"natsu\",\"zerek\"])])"
   ]
  },
  {
   "cell_type": "code",
   "execution_count": 23,
   "id": "a7b070de-b8f3-42e1-a0f5-5c2e5cde3f71",
   "metadata": {},
   "outputs": [],
   "source": [
    "data = np.array([1])"
   ]
  },
  {
   "cell_type": "code",
   "execution_count": 24,
   "id": "85164649-ebf9-4bef-b8b0-769b0fca070a",
   "metadata": {},
   "outputs": [],
   "source": [
    "gamma_tensor = sy.Tensor(data).private(min_val=0,max_val=1,data_subjects=new_dsl)"
   ]
  },
  {
   "cell_type": "code",
   "execution_count": 25,
   "id": "cd39bdf6-37dd-41f3-9dc6-d153a764a6b7",
   "metadata": {},
   "outputs": [
    {
     "data": {
      "text/plain": [
       "Tensor(child=GammaTensor(child=array([1]), data_subjects=array([DataSubjectArray: {'zerek', 'natsu'}], dtype=object), min_vals=array([0]), max_vals=array([1]), is_linear=True, func_str='noop', id='1521745557', sources={}))"
      ]
     },
     "execution_count": 25,
     "metadata": {},
     "output_type": "execute_result"
    }
   ],
   "source": [
    "gamma_tensor"
   ]
  },
  {
   "cell_type": "code",
   "execution_count": null,
   "id": "5eab1fbe-1324-4d6d-ab4e-1614321e5342",
   "metadata": {},
   "outputs": [],
   "source": [
    "data = np.array([[1,2],[3,4]])"
   ]
  },
  {
   "cell_type": "code",
   "execution_count": 32,
   "id": "ac9af899-e1b5-481f-b843-31d10328b185",
   "metadata": {},
   "outputs": [
    {
     "data": {
      "text/plain": [
       "(0, 0)"
      ]
     },
     "execution_count": 32,
     "metadata": {},
     "output_type": "execute_result"
    }
   ],
   "source": [
    "np.unravel_index(data.argmax(),(4,4))"
   ]
  },
  {
   "cell_type": "code",
   "execution_count": 47,
   "id": "b17441cb-388e-400a-bf8b-e438460cd723",
   "metadata": {},
   "outputs": [],
   "source": [
    "new_dsl = np.array([[DataSubjectArray([\"zerek\"]),DataSubjectArray([\"natsu\"])],[DataSubjectArray([\"zerek\"]),DataSubjectArray([\"natsu\"])]])"
   ]
  },
  {
   "cell_type": "code",
   "execution_count": 64,
   "id": "50f2c8bd-ea1e-41c3-8919-83e44e1bb16e",
   "metadata": {},
   "outputs": [
    {
     "data": {
      "text/plain": [
       "DataSubjectArray: {'zerek', 'natsu'}"
      ]
     },
     "execution_count": 64,
     "metadata": {},
     "output_type": "execute_result"
    }
   ],
   "source": []
  },
  {
   "cell_type": "code",
   "execution_count": 58,
   "id": "76b5827a-b2c7-406a-be6b-d1ef558e6747",
   "metadata": {},
   "outputs": [
    {
     "data": {
      "text/plain": [
       "2"
      ]
     },
     "execution_count": 58,
     "metadata": {},
     "output_type": "execute_result"
    }
   ],
   "source": [
    "len(DataSubjectArray([\"natsu\",\"zerek\"]))"
   ]
  }
 ],
 "metadata": {
  "kernelspec": {
   "display_name": "Python 3 (ipykernel)",
   "language": "python",
   "name": "python3"
  },
  "language_info": {
   "codemirror_mode": {
    "name": "ipython",
    "version": 3
   },
   "file_extension": ".py",
   "mimetype": "text/x-python",
   "name": "python",
   "nbconvert_exporter": "python",
   "pygments_lexer": "ipython3",
   "version": "3.9.13"
  }
 },
 "nbformat": 4,
 "nbformat_minor": 5
}

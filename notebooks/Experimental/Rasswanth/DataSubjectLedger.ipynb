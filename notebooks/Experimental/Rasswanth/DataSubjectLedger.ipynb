{
 "cells": [
  {
   "cell_type": "code",
   "execution_count": 3,
   "id": "19f4329d-aa21-4647-8e77-646667aa3589",
   "metadata": {},
   "outputs": [],
   "source": [
    "from syft.core.adp.data_subject_ledger import DataSubjectLedger\n",
    "from syft.core.adp.data_subject_list import DataSubjectArray\n",
    "from syft.core.adp.ledger_store import DictLedgerStore"
   ]
  },
  {
   "cell_type": "code",
   "execution_count": 4,
   "id": "f589ab45-0aff-453e-b2db-bc610c3023ce",
   "metadata": {},
   "outputs": [
    {
     "name": "stdout",
     "output_type": "stream",
     "text": [
      "kv_Store:  {}\n",
      "Creating new Ledger\n"
     ]
    }
   ],
   "source": [
    "ledger_store = DictLedgerStore()\n",
    "print(\"kv_Store: \", ledger_store.kv_store)\n",
    "user_key = b\"1231\"\n",
    "ledger = DataSubjectLedger.get_or_create(store=ledger_store, user_key=user_key)"
   ]
  },
  {
   "cell_type": "code",
   "execution_count": 5,
   "id": "cc18b2aa-61ea-4373-a546-2b70ca19b17e",
   "metadata": {},
   "outputs": [],
   "source": [
    "import numpy as np"
   ]
  },
  {
   "cell_type": "code",
   "execution_count": 6,
   "id": "cadddecd-1d35-400b-8c47-28b44386632e",
   "metadata": {},
   "outputs": [],
   "source": [
    "rdp1 = np.array([0.0001,0.0002])"
   ]
  },
  {
   "cell_type": "code",
   "execution_count": 11,
   "id": "c123cbfc-972d-48d9-9a21-7ea46e2553c5",
   "metadata": {},
   "outputs": [],
   "source": [
    "rdp2 = np.array([0.0005,0.000])"
   ]
  },
  {
   "cell_type": "code",
   "execution_count": 15,
   "id": "a02b89b7-aeb7-4cf7-9cb5-167070f2ca16",
   "metadata": {},
   "outputs": [],
   "source": [
    "epsilon1 = ledger._get_optimal_alpha_for_constant(rdp1[0])[1]\n",
    "epsilon2 = ledger._get_optimal_alpha_for_constant(rdp2[0])[1]  "
   ]
  },
  {
   "cell_type": "code",
   "execution_count": 16,
   "id": "943d20fd-6f6a-46e9-b65d-c372024a6c22",
   "metadata": {},
   "outputs": [
    {
     "data": {
      "text/plain": [
       "0.1802855316236508"
      ]
     },
     "execution_count": 16,
     "metadata": {},
     "output_type": "execute_result"
    }
   ],
   "source": [
    "epsilon1+epsilon2"
   ]
  },
  {
   "cell_type": "code",
   "execution_count": 14,
   "id": "c314fd64-fce0-4645-a59c-fb8040b6b262",
   "metadata": {},
   "outputs": [
    {
     "data": {
      "text/plain": [
       "0.13943329329185075"
      ]
     },
     "execution_count": 14,
     "metadata": {},
     "output_type": "execute_result"
    }
   ],
   "source": [
    "ledger._get_optimal_alpha_for_constant(rdp1[0]+rdp2[0])[1]"
   ]
  },
  {
   "cell_type": "code",
   "execution_count": 9,
   "id": "95273231-15fe-4642-a2ba-b018d903c235",
   "metadata": {},
   "outputs": [],
   "source": [
    "v1 = ledger._get_epsilon_spend(rdp1)"
   ]
  },
  {
   "cell_type": "code",
   "execution_count": 10,
   "id": "a357dab6-10c9-416e-b39e-703a651d1319",
   "metadata": {},
   "outputs": [
    {
     "data": {
      "text/plain": [
       "DeviceArray([0.05372712, 0.07773597], dtype=float64)"
      ]
     },
     "execution_count": 10,
     "metadata": {},
     "output_type": "execute_result"
    }
   ],
   "source": [
    "v1"
   ]
  },
  {
   "cell_type": "code",
   "execution_count": null,
   "id": "604534b7-6d71-4250-87ae-945a6d6d3130",
   "metadata": {},
   "outputs": [],
   "source": [
    "v2 = ledger._get_epsilon_spend(rdp2)"
   ]
  },
  {
   "cell_type": "code",
   "execution_count": null,
   "id": "971c07e5-a1e0-4126-81ee-06c5dbbb1406",
   "metadata": {},
   "outputs": [],
   "source": [
    "v1+v2"
   ]
  },
  {
   "cell_type": "code",
   "execution_count": null,
   "id": "6e537774-3786-4138-8849-db651844475b",
   "metadata": {},
   "outputs": [],
   "source": [
    "ledger._get_epsilon_spend(rdp1+rdp2)"
   ]
  },
  {
   "cell_type": "code",
   "execution_count": null,
   "id": "a9622033-1dc8-4370-ad7a-c8f7cafc1cb9",
   "metadata": {},
   "outputs": [],
   "source": [
    "ledger._cache_constant2epsilon"
   ]
  },
  {
   "cell_type": "code",
   "execution_count": null,
   "id": "48536d43-3d59-4257-8f9b-3b53c98ce606",
   "metadata": {},
   "outputs": [],
   "source": []
  }
 ],
 "metadata": {
  "kernelspec": {
   "display_name": "Python 3 (ipykernel)",
   "language": "python",
   "name": "python3"
  },
  "language_info": {
   "codemirror_mode": {
    "name": "ipython",
    "version": 3
   },
   "file_extension": ".py",
   "mimetype": "text/x-python",
   "name": "python",
   "nbconvert_exporter": "python",
   "pygments_lexer": "ipython3",
   "version": "3.9.13"
  }
 },
 "nbformat": 4,
 "nbformat_minor": 5
}

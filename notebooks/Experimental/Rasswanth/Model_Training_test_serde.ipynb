{
 "cells": [
  {
   "cell_type": "code",
   "execution_count": 1,
   "id": "4e74d87c-024d-48e1-8075-e6b6edc2dc5f",
   "metadata": {},
   "outputs": [],
   "source": [
    "%load_ext autoreload\n",
    "%autoreload 2\n",
    "import syft as sy"
   ]
  },
  {
   "cell_type": "code",
   "execution_count": null,
   "id": "82909175-d8cf-44ce-93f4-ff7181526100",
   "metadata": {},
   "outputs": [],
   "source": [
    "from syft.core.tensor.nn.layers.normalization import BatchNorm"
   ]
  },
  {
   "cell_type": "code",
   "execution_count": null,
   "id": "38682c71-0f0e-47bd-b586-aa124ca93b16",
   "metadata": {},
   "outputs": [],
   "source": [
    "b= BatchNorm()"
   ]
  },
  {
   "cell_type": "code",
   "execution_count": null,
   "id": "228cc35e-a590-47f9-a514-bf0727c25152",
   "metadata": {},
   "outputs": [],
   "source": [
    "sy.serialize(b)"
   ]
  },
  {
   "cell_type": "code",
   "execution_count": null,
   "id": "c8d7fcf6-6d4d-4e17-a598-34de7ab0499c",
   "metadata": {},
   "outputs": [],
   "source": [
    "from syft.core.tensor.nn.layers.pooling import AvgPool"
   ]
  },
  {
   "cell_type": "code",
   "execution_count": null,
   "id": "2389651c-1229-4dfd-b858-f48f56dad04f",
   "metadata": {},
   "outputs": [],
   "source": [
    "avg = AvgPool(pool_size=(1,1))"
   ]
  },
  {
   "cell_type": "code",
   "execution_count": null,
   "id": "a8fccaba-c023-4a95-bb71-4dce6b1a7a82",
   "metadata": {},
   "outputs": [],
   "source": [
    "sy.deserialize(sy.serialize(avg)).pool_size"
   ]
  },
  {
   "cell_type": "code",
   "execution_count": null,
   "id": "986ce756-a9ef-4cef-bcfd-786c1ec90634",
   "metadata": {},
   "outputs": [],
   "source": [
    "from syft.core.tensor.nn.layers.pooling import MaxPool"
   ]
  },
  {
   "cell_type": "code",
   "execution_count": null,
   "id": "c45dfe29-9196-4a48-b010-1ff4730d7572",
   "metadata": {},
   "outputs": [],
   "source": [
    "m = MaxPool((1,2))"
   ]
  },
  {
   "cell_type": "code",
   "execution_count": null,
   "id": "a8031a4c-2156-4e93-854c-1e9c57cf3978",
   "metadata": {},
   "outputs": [],
   "source": [
    "sy.deserialize(sy.serialize(m)).pool_size"
   ]
  },
  {
   "cell_type": "code",
   "execution_count": null,
   "id": "5fc4eb4e-9d21-4075-b359-800a188304da",
   "metadata": {},
   "outputs": [],
   "source": [
    "from syft.core.tensor.nn.loss import BinaryCrossEntropy"
   ]
  },
  {
   "cell_type": "code",
   "execution_count": null,
   "id": "8c8501bf-5c4e-411f-8cb9-250d5dd6e877",
   "metadata": {},
   "outputs": [],
   "source": [
    "bce  = BinaryCrossEntropy()"
   ]
  },
  {
   "cell_type": "code",
   "execution_count": null,
   "id": "56b59c6f-0c32-4092-9c15-832225bde415",
   "metadata": {},
   "outputs": [],
   "source": [
    "sy.deserialize(sy.serialize(bce)).epsilon"
   ]
  },
  {
   "cell_type": "code",
   "execution_count": null,
   "id": "ca613c0d-2052-47d0-937f-bfbf8454b978",
   "metadata": {},
   "outputs": [],
   "source": [
    "from syft.core.tensor.nn.optimizers import Adamax"
   ]
  },
  {
   "cell_type": "code",
   "execution_count": null,
   "id": "8143c8d0-2a12-4620-843a-c8b11497a843",
   "metadata": {},
   "outputs": [],
   "source": [
    "ada = Adamax()"
   ]
  },
  {
   "cell_type": "code",
   "execution_count": null,
   "id": "9ad90d96-7176-4009-9398-8699bfbe2d01",
   "metadata": {},
   "outputs": [],
   "source": [
    "sy.deserialize(sy.serialize(ada)).vs"
   ]
  }
 ],
 "metadata": {
  "kernelspec": {
   "display_name": "Python 3 (ipykernel)",
   "language": "python",
   "name": "python3"
  },
  "language_info": {
   "codemirror_mode": {
    "name": "ipython",
    "version": 3
   },
   "file_extension": ".py",
   "mimetype": "text/x-python",
   "name": "python",
   "nbconvert_exporter": "python",
   "pygments_lexer": "ipython3",
   "version": "3.9.4"
  }
 },
 "nbformat": 4,
 "nbformat_minor": 5
}

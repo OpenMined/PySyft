{
 "cells": [
  {
   "cell_type": "code",
   "execution_count": 1,
   "id": "075e2587-7632-43fb-9226-fa664187ac52",
   "metadata": {},
   "outputs": [
    {
     "name": "stdout",
     "output_type": "stream",
     "text": [
      "\n"
     ]
    }
   ],
   "source": [
    "import hagrid"
   ]
  },
  {
   "cell_type": "code",
   "execution_count": 5,
   "id": "a568fe1c-5687-41b4-934f-c34d152a49d8",
   "metadata": {},
   "outputs": [
    {
     "name": "stdout",
     "output_type": "stream",
     "text": [
      "\n",
      "Ip address, ('localhost:80',) False False\n",
      "┏━━━━━━━━━━━┳━━━━━━━━━━━━━━━━━━━━━━━━━━━━━━━━━━━━━━━━━┳━━━━┓\n",
      "┃\u001b[1m \u001b[0m\u001b[1mPyGrid   \u001b[0m\u001b[1m \u001b[0m┃\u001b[1m \u001b[0m\u001b[1mInfo                                   \u001b[0m\u001b[1m \u001b[0m┃\u001b[1m \u001b[0m\u001b[1m  \u001b[0m\u001b[1m \u001b[0m┃\n",
      "┡━━━━━━━━━━━╇━━━━━━━━━━━━━━━━━━━━━━━━━━━━━━━━━━━━━━━━━╇━━━━┩\n",
      "│\u001b[35m \u001b[0m\u001b[35mUI (βeta)\u001b[0m\u001b[35m \u001b[0m│ http://localhost:80/login               │ ✅ │\n",
      "│\u001b[35m \u001b[0m\u001b[35mapi      \u001b[0m\u001b[35m \u001b[0m│ http://localhost:80/api/v1/openapi.json │ ✅ │\n",
      "└───────────┴─────────────────────────────────────────┴────┘\n"
     ]
    }
   ],
   "source": [
    "!hagrid check localhost:80 --timeout=120"
   ]
  },
  {
   "cell_type": "code",
   "execution_count": 3,
   "id": "6001f3fe-2028-4817-9b87-7cec39035e60",
   "metadata": {},
   "outputs": [
    {
     "name": "stdout",
     "output_type": "stream",
     "text": [
      "Ip address, localhost:80 False False\n"
     ]
    },
    {
     "data": {
      "text/html": [
       "<pre style=\"white-space:pre;overflow-x:auto;line-height:normal;font-family:Menlo,'DejaVu Sans Mono',consolas,'Courier New',monospace\">┏━━━━━━━━━━━┳━━━━━━━━━━━━━━━━━━━━━━━━━━━━━━┳━━━━┓\n",
       "┃<span style=\"font-weight: bold\"> PyGrid    </span>┃<span style=\"font-weight: bold\"> Info                         </span>┃<span style=\"font-weight: bold\">    </span>┃\n",
       "┡━━━━━━━━━━━╇━━━━━━━━━━━━━━━━━━━━━━━━━━━━━━╇━━━━┩\n",
       "│<span style=\"color: #800080; text-decoration-color: #800080\"> host      </span>│ l                            │ ❌ │\n",
       "│<span style=\"color: #800080; text-decoration-color: #800080\"> UI (βeta) </span>│ http://l/login               │ ❌ │\n",
       "│<span style=\"color: #800080; text-decoration-color: #800080\"> api       </span>│ http://l/api/v1/openapi.json │ ❌ │\n",
       "│<span style=\"color: #800080; text-decoration-color: #800080\"> ssh       </span>│ hagrid ssh l                 │ ❌ │\n",
       "│<span style=\"color: #800080; text-decoration-color: #800080\"> jupyter   </span>│ http://l:8888                │ ❌ │\n",
       "└───────────┴──────────────────────────────┴────┘\n",
       "</pre>\n"
      ],
      "text/plain": [
       "┏━━━━━━━━━━━┳━━━━━━━━━━━━━━━━━━━━━━━━━━━━━━┳━━━━┓\n",
       "┃\u001b[1m \u001b[0m\u001b[1mPyGrid   \u001b[0m\u001b[1m \u001b[0m┃\u001b[1m \u001b[0m\u001b[1mInfo                        \u001b[0m\u001b[1m \u001b[0m┃\u001b[1m \u001b[0m\u001b[1m  \u001b[0m\u001b[1m \u001b[0m┃\n",
       "┡━━━━━━━━━━━╇━━━━━━━━━━━━━━━━━━━━━━━━━━━━━━╇━━━━┩\n",
       "│\u001b[35m \u001b[0m\u001b[35mhost     \u001b[0m\u001b[35m \u001b[0m│ l                            │ ❌ │\n",
       "│\u001b[35m \u001b[0m\u001b[35mUI (βeta)\u001b[0m\u001b[35m \u001b[0m│ http://l/login               │ ❌ │\n",
       "│\u001b[35m \u001b[0m\u001b[35mapi      \u001b[0m\u001b[35m \u001b[0m│ http://l/api/v1/openapi.json │ ❌ │\n",
       "│\u001b[35m \u001b[0m\u001b[35mssh      \u001b[0m\u001b[35m \u001b[0m│ hagrid ssh l                 │ ❌ │\n",
       "│\u001b[35m \u001b[0m\u001b[35mjupyter  \u001b[0m\u001b[35m \u001b[0m│ http://l:8888                │ ❌ │\n",
       "└───────────┴──────────────────────────────┴────┘\n"
      ]
     },
     "metadata": {},
     "output_type": "display_data"
    },
    {
     "data": {
      "text/html": [
       "<pre style=\"white-space:pre;overflow-x:auto;line-height:normal;font-family:Menlo,'DejaVu Sans Mono',consolas,'Courier New',monospace\">┏━━━━━━━━━━━┳━━━━━━━━━━━━━━━━━━━━━━━━━━━━━━┳━━━━┓\n",
       "┃<span style=\"font-weight: bold\"> PyGrid    </span>┃<span style=\"font-weight: bold\"> Info                         </span>┃<span style=\"font-weight: bold\">    </span>┃\n",
       "┡━━━━━━━━━━━╇━━━━━━━━━━━━━━━━━━━━━━━━━━━━━━╇━━━━┩\n",
       "│<span style=\"color: #800080; text-decoration-color: #800080\"> host      </span>│ o                            │ ❌ │\n",
       "│<span style=\"color: #800080; text-decoration-color: #800080\"> UI (βeta) </span>│ http://o/login               │ ❌ │\n",
       "│<span style=\"color: #800080; text-decoration-color: #800080\"> api       </span>│ http://o/api/v1/openapi.json │ ❌ │\n",
       "│<span style=\"color: #800080; text-decoration-color: #800080\"> ssh       </span>│ hagrid ssh o                 │ ❌ │\n",
       "│<span style=\"color: #800080; text-decoration-color: #800080\"> jupyter   </span>│ http://o:8888                │ ❌ │\n",
       "└───────────┴──────────────────────────────┴────┘\n",
       "</pre>\n"
      ],
      "text/plain": [
       "┏━━━━━━━━━━━┳━━━━━━━━━━━━━━━━━━━━━━━━━━━━━━┳━━━━┓\n",
       "┃\u001b[1m \u001b[0m\u001b[1mPyGrid   \u001b[0m\u001b[1m \u001b[0m┃\u001b[1m \u001b[0m\u001b[1mInfo                        \u001b[0m\u001b[1m \u001b[0m┃\u001b[1m \u001b[0m\u001b[1m  \u001b[0m\u001b[1m \u001b[0m┃\n",
       "┡━━━━━━━━━━━╇━━━━━━━━━━━━━━━━━━━━━━━━━━━━━━╇━━━━┩\n",
       "│\u001b[35m \u001b[0m\u001b[35mhost     \u001b[0m\u001b[35m \u001b[0m│ o                            │ ❌ │\n",
       "│\u001b[35m \u001b[0m\u001b[35mUI (βeta)\u001b[0m\u001b[35m \u001b[0m│ http://o/login               │ ❌ │\n",
       "│\u001b[35m \u001b[0m\u001b[35mapi      \u001b[0m\u001b[35m \u001b[0m│ http://o/api/v1/openapi.json │ ❌ │\n",
       "│\u001b[35m \u001b[0m\u001b[35mssh      \u001b[0m\u001b[35m \u001b[0m│ hagrid ssh o                 │ ❌ │\n",
       "│\u001b[35m \u001b[0m\u001b[35mjupyter  \u001b[0m\u001b[35m \u001b[0m│ http://o:8888                │ ❌ │\n",
       "└───────────┴──────────────────────────────┴────┘\n"
      ]
     },
     "metadata": {},
     "output_type": "display_data"
    },
    {
     "data": {
      "text/html": [
       "<pre style=\"white-space:pre;overflow-x:auto;line-height:normal;font-family:Menlo,'DejaVu Sans Mono',consolas,'Courier New',monospace\">┏━━━━━━━━━━━┳━━━━━━━━━━━━━━━━━━━━━━━━━━━━━━┳━━━━┓\n",
       "┃<span style=\"font-weight: bold\"> PyGrid    </span>┃<span style=\"font-weight: bold\"> Info                         </span>┃<span style=\"font-weight: bold\">    </span>┃\n",
       "┡━━━━━━━━━━━╇━━━━━━━━━━━━━━━━━━━━━━━━━━━━━━╇━━━━┩\n",
       "│<span style=\"color: #800080; text-decoration-color: #800080\"> host      </span>│ c                            │ ❌ │\n",
       "│<span style=\"color: #800080; text-decoration-color: #800080\"> UI (βeta) </span>│ http://c/login               │ ❌ │\n",
       "│<span style=\"color: #800080; text-decoration-color: #800080\"> api       </span>│ http://c/api/v1/openapi.json │ ❌ │\n",
       "│<span style=\"color: #800080; text-decoration-color: #800080\"> ssh       </span>│ hagrid ssh c                 │ ❌ │\n",
       "│<span style=\"color: #800080; text-decoration-color: #800080\"> jupyter   </span>│ http://c:8888                │ ❌ │\n",
       "└───────────┴──────────────────────────────┴────┘\n",
       "</pre>\n"
      ],
      "text/plain": [
       "┏━━━━━━━━━━━┳━━━━━━━━━━━━━━━━━━━━━━━━━━━━━━┳━━━━┓\n",
       "┃\u001b[1m \u001b[0m\u001b[1mPyGrid   \u001b[0m\u001b[1m \u001b[0m┃\u001b[1m \u001b[0m\u001b[1mInfo                        \u001b[0m\u001b[1m \u001b[0m┃\u001b[1m \u001b[0m\u001b[1m  \u001b[0m\u001b[1m \u001b[0m┃\n",
       "┡━━━━━━━━━━━╇━━━━━━━━━━━━━━━━━━━━━━━━━━━━━━╇━━━━┩\n",
       "│\u001b[35m \u001b[0m\u001b[35mhost     \u001b[0m\u001b[35m \u001b[0m│ c                            │ ❌ │\n",
       "│\u001b[35m \u001b[0m\u001b[35mUI (βeta)\u001b[0m\u001b[35m \u001b[0m│ http://c/login               │ ❌ │\n",
       "│\u001b[35m \u001b[0m\u001b[35mapi      \u001b[0m\u001b[35m \u001b[0m│ http://c/api/v1/openapi.json │ ❌ │\n",
       "│\u001b[35m \u001b[0m\u001b[35mssh      \u001b[0m\u001b[35m \u001b[0m│ hagrid ssh c                 │ ❌ │\n",
       "│\u001b[35m \u001b[0m\u001b[35mjupyter  \u001b[0m\u001b[35m \u001b[0m│ http://c:8888                │ ❌ │\n",
       "└───────────┴──────────────────────────────┴────┘\n"
      ]
     },
     "metadata": {},
     "output_type": "display_data"
    },
    {
     "data": {
      "text/html": [
       "<pre style=\"white-space:pre;overflow-x:auto;line-height:normal;font-family:Menlo,'DejaVu Sans Mono',consolas,'Courier New',monospace\">┏━━━━━━━━━━━┳━━━━━━━━━━━━━━━━━━━━━━━━━━━━━━┳━━━━┓\n",
       "┃<span style=\"font-weight: bold\"> PyGrid    </span>┃<span style=\"font-weight: bold\"> Info                         </span>┃<span style=\"font-weight: bold\">    </span>┃\n",
       "┡━━━━━━━━━━━╇━━━━━━━━━━━━━━━━━━━━━━━━━━━━━━╇━━━━┩\n",
       "│<span style=\"color: #800080; text-decoration-color: #800080\"> host      </span>│ a                            │ ❌ │\n",
       "│<span style=\"color: #800080; text-decoration-color: #800080\"> UI (βeta) </span>│ http://a/login               │ ❌ │\n",
       "│<span style=\"color: #800080; text-decoration-color: #800080\"> api       </span>│ http://a/api/v1/openapi.json │ ❌ │\n",
       "│<span style=\"color: #800080; text-decoration-color: #800080\"> ssh       </span>│ hagrid ssh a                 │ ❌ │\n",
       "│<span style=\"color: #800080; text-decoration-color: #800080\"> jupyter   </span>│ http://a:8888                │ ❌ │\n",
       "└───────────┴──────────────────────────────┴────┘\n",
       "</pre>\n"
      ],
      "text/plain": [
       "┏━━━━━━━━━━━┳━━━━━━━━━━━━━━━━━━━━━━━━━━━━━━┳━━━━┓\n",
       "┃\u001b[1m \u001b[0m\u001b[1mPyGrid   \u001b[0m\u001b[1m \u001b[0m┃\u001b[1m \u001b[0m\u001b[1mInfo                        \u001b[0m\u001b[1m \u001b[0m┃\u001b[1m \u001b[0m\u001b[1m  \u001b[0m\u001b[1m \u001b[0m┃\n",
       "┡━━━━━━━━━━━╇━━━━━━━━━━━━━━━━━━━━━━━━━━━━━━╇━━━━┩\n",
       "│\u001b[35m \u001b[0m\u001b[35mhost     \u001b[0m\u001b[35m \u001b[0m│ a                            │ ❌ │\n",
       "│\u001b[35m \u001b[0m\u001b[35mUI (βeta)\u001b[0m\u001b[35m \u001b[0m│ http://a/login               │ ❌ │\n",
       "│\u001b[35m \u001b[0m\u001b[35mapi      \u001b[0m\u001b[35m \u001b[0m│ http://a/api/v1/openapi.json │ ❌ │\n",
       "│\u001b[35m \u001b[0m\u001b[35mssh      \u001b[0m\u001b[35m \u001b[0m│ hagrid ssh a                 │ ❌ │\n",
       "│\u001b[35m \u001b[0m\u001b[35mjupyter  \u001b[0m\u001b[35m \u001b[0m│ http://a:8888                │ ❌ │\n",
       "└───────────┴──────────────────────────────┴────┘\n"
      ]
     },
     "metadata": {},
     "output_type": "display_data"
    },
    {
     "data": {
      "text/html": [
       "<pre style=\"white-space:pre;overflow-x:auto;line-height:normal;font-family:Menlo,'DejaVu Sans Mono',consolas,'Courier New',monospace\">┏━━━━━━━━━━━┳━━━━━━━━━━━━━━━━━━━━━━━━━━━━━━┳━━━━┓\n",
       "┃<span style=\"font-weight: bold\"> PyGrid    </span>┃<span style=\"font-weight: bold\"> Info                         </span>┃<span style=\"font-weight: bold\">    </span>┃\n",
       "┡━━━━━━━━━━━╇━━━━━━━━━━━━━━━━━━━━━━━━━━━━━━╇━━━━┩\n",
       "│<span style=\"color: #800080; text-decoration-color: #800080\"> host      </span>│ l                            │ ❌ │\n",
       "│<span style=\"color: #800080; text-decoration-color: #800080\"> UI (βeta) </span>│ http://l/login               │ ❌ │\n",
       "│<span style=\"color: #800080; text-decoration-color: #800080\"> api       </span>│ http://l/api/v1/openapi.json │ ❌ │\n",
       "│<span style=\"color: #800080; text-decoration-color: #800080\"> ssh       </span>│ hagrid ssh l                 │ ❌ │\n",
       "│<span style=\"color: #800080; text-decoration-color: #800080\"> jupyter   </span>│ http://l:8888                │ ❌ │\n",
       "└───────────┴──────────────────────────────┴────┘\n",
       "</pre>\n"
      ],
      "text/plain": [
       "┏━━━━━━━━━━━┳━━━━━━━━━━━━━━━━━━━━━━━━━━━━━━┳━━━━┓\n",
       "┃\u001b[1m \u001b[0m\u001b[1mPyGrid   \u001b[0m\u001b[1m \u001b[0m┃\u001b[1m \u001b[0m\u001b[1mInfo                        \u001b[0m\u001b[1m \u001b[0m┃\u001b[1m \u001b[0m\u001b[1m  \u001b[0m\u001b[1m \u001b[0m┃\n",
       "┡━━━━━━━━━━━╇━━━━━━━━━━━━━━━━━━━━━━━━━━━━━━╇━━━━┩\n",
       "│\u001b[35m \u001b[0m\u001b[35mhost     \u001b[0m\u001b[35m \u001b[0m│ l                            │ ❌ │\n",
       "│\u001b[35m \u001b[0m\u001b[35mUI (βeta)\u001b[0m\u001b[35m \u001b[0m│ http://l/login               │ ❌ │\n",
       "│\u001b[35m \u001b[0m\u001b[35mapi      \u001b[0m\u001b[35m \u001b[0m│ http://l/api/v1/openapi.json │ ❌ │\n",
       "│\u001b[35m \u001b[0m\u001b[35mssh      \u001b[0m\u001b[35m \u001b[0m│ hagrid ssh l                 │ ❌ │\n",
       "│\u001b[35m \u001b[0m\u001b[35mjupyter  \u001b[0m\u001b[35m \u001b[0m│ http://l:8888                │ ❌ │\n",
       "└───────────┴──────────────────────────────┴────┘\n"
      ]
     },
     "metadata": {},
     "output_type": "display_data"
    },
    {
     "data": {
      "text/html": [
       "<pre style=\"white-space:pre;overflow-x:auto;line-height:normal;font-family:Menlo,'DejaVu Sans Mono',consolas,'Courier New',monospace\">┏━━━━━━━━━━━┳━━━━━━━━━━━━━━━━━━━━━━━━━━━━━━┳━━━━┓\n",
       "┃<span style=\"font-weight: bold\"> PyGrid    </span>┃<span style=\"font-weight: bold\"> Info                         </span>┃<span style=\"font-weight: bold\">    </span>┃\n",
       "┡━━━━━━━━━━━╇━━━━━━━━━━━━━━━━━━━━━━━━━━━━━━╇━━━━┩\n",
       "│<span style=\"color: #800080; text-decoration-color: #800080\"> host      </span>│ h                            │ ❌ │\n",
       "│<span style=\"color: #800080; text-decoration-color: #800080\"> UI (βeta) </span>│ http://h/login               │ ❌ │\n",
       "│<span style=\"color: #800080; text-decoration-color: #800080\"> api       </span>│ http://h/api/v1/openapi.json │ ❌ │\n",
       "│<span style=\"color: #800080; text-decoration-color: #800080\"> ssh       </span>│ hagrid ssh h                 │ ❌ │\n",
       "│<span style=\"color: #800080; text-decoration-color: #800080\"> jupyter   </span>│ http://h:8888                │ ❌ │\n",
       "└───────────┴──────────────────────────────┴────┘\n",
       "</pre>\n"
      ],
      "text/plain": [
       "┏━━━━━━━━━━━┳━━━━━━━━━━━━━━━━━━━━━━━━━━━━━━┳━━━━┓\n",
       "┃\u001b[1m \u001b[0m\u001b[1mPyGrid   \u001b[0m\u001b[1m \u001b[0m┃\u001b[1m \u001b[0m\u001b[1mInfo                        \u001b[0m\u001b[1m \u001b[0m┃\u001b[1m \u001b[0m\u001b[1m  \u001b[0m\u001b[1m \u001b[0m┃\n",
       "┡━━━━━━━━━━━╇━━━━━━━━━━━━━━━━━━━━━━━━━━━━━━╇━━━━┩\n",
       "│\u001b[35m \u001b[0m\u001b[35mhost     \u001b[0m\u001b[35m \u001b[0m│ h                            │ ❌ │\n",
       "│\u001b[35m \u001b[0m\u001b[35mUI (βeta)\u001b[0m\u001b[35m \u001b[0m│ http://h/login               │ ❌ │\n",
       "│\u001b[35m \u001b[0m\u001b[35mapi      \u001b[0m\u001b[35m \u001b[0m│ http://h/api/v1/openapi.json │ ❌ │\n",
       "│\u001b[35m \u001b[0m\u001b[35mssh      \u001b[0m\u001b[35m \u001b[0m│ hagrid ssh h                 │ ❌ │\n",
       "│\u001b[35m \u001b[0m\u001b[35mjupyter  \u001b[0m\u001b[35m \u001b[0m│ http://h:8888                │ ❌ │\n",
       "└───────────┴──────────────────────────────┴────┘\n"
      ]
     },
     "metadata": {},
     "output_type": "display_data"
    },
    {
     "data": {
      "text/html": [
       "<pre style=\"white-space:pre;overflow-x:auto;line-height:normal;font-family:Menlo,'DejaVu Sans Mono',consolas,'Courier New',monospace\">┏━━━━━━━━━━━┳━━━━━━━━━━━━━━━━━━━━━━━━━━━━━━┳━━━━┓\n",
       "┃<span style=\"font-weight: bold\"> PyGrid    </span>┃<span style=\"font-weight: bold\"> Info                         </span>┃<span style=\"font-weight: bold\">    </span>┃\n",
       "┡━━━━━━━━━━━╇━━━━━━━━━━━━━━━━━━━━━━━━━━━━━━╇━━━━┩\n",
       "│<span style=\"color: #800080; text-decoration-color: #800080\"> host      </span>│ o                            │ ❌ │\n",
       "│<span style=\"color: #800080; text-decoration-color: #800080\"> UI (βeta) </span>│ http://o/login               │ ❌ │\n",
       "│<span style=\"color: #800080; text-decoration-color: #800080\"> api       </span>│ http://o/api/v1/openapi.json │ ❌ │\n",
       "│<span style=\"color: #800080; text-decoration-color: #800080\"> ssh       </span>│ hagrid ssh o                 │ ❌ │\n",
       "│<span style=\"color: #800080; text-decoration-color: #800080\"> jupyter   </span>│ http://o:8888                │ ❌ │\n",
       "└───────────┴──────────────────────────────┴────┘\n",
       "</pre>\n"
      ],
      "text/plain": [
       "┏━━━━━━━━━━━┳━━━━━━━━━━━━━━━━━━━━━━━━━━━━━━┳━━━━┓\n",
       "┃\u001b[1m \u001b[0m\u001b[1mPyGrid   \u001b[0m\u001b[1m \u001b[0m┃\u001b[1m \u001b[0m\u001b[1mInfo                        \u001b[0m\u001b[1m \u001b[0m┃\u001b[1m \u001b[0m\u001b[1m  \u001b[0m\u001b[1m \u001b[0m┃\n",
       "┡━━━━━━━━━━━╇━━━━━━━━━━━━━━━━━━━━━━━━━━━━━━╇━━━━┩\n",
       "│\u001b[35m \u001b[0m\u001b[35mhost     \u001b[0m\u001b[35m \u001b[0m│ o                            │ ❌ │\n",
       "│\u001b[35m \u001b[0m\u001b[35mUI (βeta)\u001b[0m\u001b[35m \u001b[0m│ http://o/login               │ ❌ │\n",
       "│\u001b[35m \u001b[0m\u001b[35mapi      \u001b[0m\u001b[35m \u001b[0m│ http://o/api/v1/openapi.json │ ❌ │\n",
       "│\u001b[35m \u001b[0m\u001b[35mssh      \u001b[0m\u001b[35m \u001b[0m│ hagrid ssh o                 │ ❌ │\n",
       "│\u001b[35m \u001b[0m\u001b[35mjupyter  \u001b[0m\u001b[35m \u001b[0m│ http://o:8888                │ ❌ │\n",
       "└───────────┴──────────────────────────────┴────┘\n"
      ]
     },
     "metadata": {},
     "output_type": "display_data"
    },
    {
     "data": {
      "text/html": [
       "<pre style=\"white-space:pre;overflow-x:auto;line-height:normal;font-family:Menlo,'DejaVu Sans Mono',consolas,'Courier New',monospace\">┏━━━━━━━━━━━┳━━━━━━━━━━━━━━━━━━━━━━━━━━━━━━┳━━━━┓\n",
       "┃<span style=\"font-weight: bold\"> PyGrid    </span>┃<span style=\"font-weight: bold\"> Info                         </span>┃<span style=\"font-weight: bold\">    </span>┃\n",
       "┡━━━━━━━━━━━╇━━━━━━━━━━━━━━━━━━━━━━━━━━━━━━╇━━━━┩\n",
       "│<span style=\"color: #800080; text-decoration-color: #800080\"> host      </span>│ s                            │ ❌ │\n",
       "│<span style=\"color: #800080; text-decoration-color: #800080\"> UI (βeta) </span>│ http://s/login               │ ❌ │\n",
       "│<span style=\"color: #800080; text-decoration-color: #800080\"> api       </span>│ http://s/api/v1/openapi.json │ ❌ │\n",
       "│<span style=\"color: #800080; text-decoration-color: #800080\"> ssh       </span>│ hagrid ssh s                 │ ❌ │\n",
       "│<span style=\"color: #800080; text-decoration-color: #800080\"> jupyter   </span>│ http://s:8888                │ ❌ │\n",
       "└───────────┴──────────────────────────────┴────┘\n",
       "</pre>\n"
      ],
      "text/plain": [
       "┏━━━━━━━━━━━┳━━━━━━━━━━━━━━━━━━━━━━━━━━━━━━┳━━━━┓\n",
       "┃\u001b[1m \u001b[0m\u001b[1mPyGrid   \u001b[0m\u001b[1m \u001b[0m┃\u001b[1m \u001b[0m\u001b[1mInfo                        \u001b[0m\u001b[1m \u001b[0m┃\u001b[1m \u001b[0m\u001b[1m  \u001b[0m\u001b[1m \u001b[0m┃\n",
       "┡━━━━━━━━━━━╇━━━━━━━━━━━━━━━━━━━━━━━━━━━━━━╇━━━━┩\n",
       "│\u001b[35m \u001b[0m\u001b[35mhost     \u001b[0m\u001b[35m \u001b[0m│ s                            │ ❌ │\n",
       "│\u001b[35m \u001b[0m\u001b[35mUI (βeta)\u001b[0m\u001b[35m \u001b[0m│ http://s/login               │ ❌ │\n",
       "│\u001b[35m \u001b[0m\u001b[35mapi      \u001b[0m\u001b[35m \u001b[0m│ http://s/api/v1/openapi.json │ ❌ │\n",
       "│\u001b[35m \u001b[0m\u001b[35mssh      \u001b[0m\u001b[35m \u001b[0m│ hagrid ssh s                 │ ❌ │\n",
       "│\u001b[35m \u001b[0m\u001b[35mjupyter  \u001b[0m\u001b[35m \u001b[0m│ http://s:8888                │ ❌ │\n",
       "└───────────┴──────────────────────────────┴────┘\n"
      ]
     },
     "metadata": {},
     "output_type": "display_data"
    },
    {
     "data": {
      "text/html": [
       "<pre style=\"white-space:pre;overflow-x:auto;line-height:normal;font-family:Menlo,'DejaVu Sans Mono',consolas,'Courier New',monospace\">┏━━━━━━━━━━━┳━━━━━━━━━━━━━━━━━━━━━━━━━━━━━━┳━━━━┓\n",
       "┃<span style=\"font-weight: bold\"> PyGrid    </span>┃<span style=\"font-weight: bold\"> Info                         </span>┃<span style=\"font-weight: bold\">    </span>┃\n",
       "┡━━━━━━━━━━━╇━━━━━━━━━━━━━━━━━━━━━━━━━━━━━━╇━━━━┩\n",
       "│<span style=\"color: #800080; text-decoration-color: #800080\"> host      </span>│ t                            │ ❌ │\n",
       "│<span style=\"color: #800080; text-decoration-color: #800080\"> UI (βeta) </span>│ http://t/login               │ ❌ │\n",
       "│<span style=\"color: #800080; text-decoration-color: #800080\"> api       </span>│ http://t/api/v1/openapi.json │ ❌ │\n",
       "│<span style=\"color: #800080; text-decoration-color: #800080\"> ssh       </span>│ hagrid ssh t                 │ ❌ │\n",
       "│<span style=\"color: #800080; text-decoration-color: #800080\"> jupyter   </span>│ http://t:8888                │ ❌ │\n",
       "└───────────┴──────────────────────────────┴────┘\n",
       "</pre>\n"
      ],
      "text/plain": [
       "┏━━━━━━━━━━━┳━━━━━━━━━━━━━━━━━━━━━━━━━━━━━━┳━━━━┓\n",
       "┃\u001b[1m \u001b[0m\u001b[1mPyGrid   \u001b[0m\u001b[1m \u001b[0m┃\u001b[1m \u001b[0m\u001b[1mInfo                        \u001b[0m\u001b[1m \u001b[0m┃\u001b[1m \u001b[0m\u001b[1m  \u001b[0m\u001b[1m \u001b[0m┃\n",
       "┡━━━━━━━━━━━╇━━━━━━━━━━━━━━━━━━━━━━━━━━━━━━╇━━━━┩\n",
       "│\u001b[35m \u001b[0m\u001b[35mhost     \u001b[0m\u001b[35m \u001b[0m│ t                            │ ❌ │\n",
       "│\u001b[35m \u001b[0m\u001b[35mUI (βeta)\u001b[0m\u001b[35m \u001b[0m│ http://t/login               │ ❌ │\n",
       "│\u001b[35m \u001b[0m\u001b[35mapi      \u001b[0m\u001b[35m \u001b[0m│ http://t/api/v1/openapi.json │ ❌ │\n",
       "│\u001b[35m \u001b[0m\u001b[35mssh      \u001b[0m\u001b[35m \u001b[0m│ hagrid ssh t                 │ ❌ │\n",
       "│\u001b[35m \u001b[0m\u001b[35mjupyter  \u001b[0m\u001b[35m \u001b[0m│ http://t:8888                │ ❌ │\n",
       "└───────────┴──────────────────────────────┴────┘\n"
      ]
     },
     "metadata": {},
     "output_type": "display_data"
    },
    {
     "data": {
      "text/html": [
       "<pre style=\"white-space:pre;overflow-x:auto;line-height:normal;font-family:Menlo,'DejaVu Sans Mono',consolas,'Courier New',monospace\">┏━━━━━━━━━━━┳━━━━━━━━━━━━━━━━━━━━━━━━━━━━━━┳━━━━┓\n",
       "┃<span style=\"font-weight: bold\"> PyGrid    </span>┃<span style=\"font-weight: bold\"> Info                         </span>┃<span style=\"font-weight: bold\">    </span>┃\n",
       "┡━━━━━━━━━━━╇━━━━━━━━━━━━━━━━━━━━━━━━━━━━━━╇━━━━┩\n",
       "│<span style=\"color: #800080; text-decoration-color: #800080\"> host      </span>│ :                            │ ❌ │\n",
       "│<span style=\"color: #800080; text-decoration-color: #800080\"> UI (βeta) </span>│ http://:/login               │ ❌ │\n",
       "│<span style=\"color: #800080; text-decoration-color: #800080\"> api       </span>│ http://:/api/v1/openapi.json │ ❌ │\n",
       "│<span style=\"color: #800080; text-decoration-color: #800080\"> ssh       </span>│ hagrid ssh :                 │ ❌ │\n",
       "│<span style=\"color: #800080; text-decoration-color: #800080\"> jupyter   </span>│ http://::8888                │ ❌ │\n",
       "└───────────┴──────────────────────────────┴────┘\n",
       "</pre>\n"
      ],
      "text/plain": [
       "┏━━━━━━━━━━━┳━━━━━━━━━━━━━━━━━━━━━━━━━━━━━━┳━━━━┓\n",
       "┃\u001b[1m \u001b[0m\u001b[1mPyGrid   \u001b[0m\u001b[1m \u001b[0m┃\u001b[1m \u001b[0m\u001b[1mInfo                        \u001b[0m\u001b[1m \u001b[0m┃\u001b[1m \u001b[0m\u001b[1m  \u001b[0m\u001b[1m \u001b[0m┃\n",
       "┡━━━━━━━━━━━╇━━━━━━━━━━━━━━━━━━━━━━━━━━━━━━╇━━━━┩\n",
       "│\u001b[35m \u001b[0m\u001b[35mhost     \u001b[0m\u001b[35m \u001b[0m│ :                            │ ❌ │\n",
       "│\u001b[35m \u001b[0m\u001b[35mUI (βeta)\u001b[0m\u001b[35m \u001b[0m│ http://:/login               │ ❌ │\n",
       "│\u001b[35m \u001b[0m\u001b[35mapi      \u001b[0m\u001b[35m \u001b[0m│ http://:/api/v1/openapi.json │ ❌ │\n",
       "│\u001b[35m \u001b[0m\u001b[35mssh      \u001b[0m\u001b[35m \u001b[0m│ hagrid ssh :                 │ ❌ │\n",
       "│\u001b[35m \u001b[0m\u001b[35mjupyter  \u001b[0m\u001b[35m \u001b[0m│ http://::8888                │ ❌ │\n",
       "└───────────┴──────────────────────────────┴────┘\n"
      ]
     },
     "metadata": {},
     "output_type": "display_data"
    },
    {
     "data": {
      "text/html": [
       "<pre style=\"white-space:pre;overflow-x:auto;line-height:normal;font-family:Menlo,'DejaVu Sans Mono',consolas,'Courier New',monospace\">┏━━━━━━━━━━━┳━━━━━━━━━━━━━━━━━━━━━━━━━━━━━━┳━━━━┓\n",
       "┃<span style=\"font-weight: bold\"> PyGrid    </span>┃<span style=\"font-weight: bold\"> Info                         </span>┃<span style=\"font-weight: bold\">    </span>┃\n",
       "┡━━━━━━━━━━━╇━━━━━━━━━━━━━━━━━━━━━━━━━━━━━━╇━━━━┩\n",
       "│<span style=\"color: #800080; text-decoration-color: #800080\"> host      </span>│ 8                            │ ✅ │\n",
       "│<span style=\"color: #800080; text-decoration-color: #800080\"> UI (βeta) </span>│ http://8/login               │ ❌ │\n",
       "│<span style=\"color: #800080; text-decoration-color: #800080\"> api       </span>│ http://8/api/v1/openapi.json │ ❌ │\n",
       "│<span style=\"color: #800080; text-decoration-color: #800080\"> ssh       </span>│ hagrid ssh 8                 │ ❌ │\n",
       "│<span style=\"color: #800080; text-decoration-color: #800080\"> jupyter   </span>│ http://8:8888                │ ❌ │\n",
       "└───────────┴──────────────────────────────┴────┘\n",
       "</pre>\n"
      ],
      "text/plain": [
       "┏━━━━━━━━━━━┳━━━━━━━━━━━━━━━━━━━━━━━━━━━━━━┳━━━━┓\n",
       "┃\u001b[1m \u001b[0m\u001b[1mPyGrid   \u001b[0m\u001b[1m \u001b[0m┃\u001b[1m \u001b[0m\u001b[1mInfo                        \u001b[0m\u001b[1m \u001b[0m┃\u001b[1m \u001b[0m\u001b[1m  \u001b[0m\u001b[1m \u001b[0m┃\n",
       "┡━━━━━━━━━━━╇━━━━━━━━━━━━━━━━━━━━━━━━━━━━━━╇━━━━┩\n",
       "│\u001b[35m \u001b[0m\u001b[35mhost     \u001b[0m\u001b[35m \u001b[0m│ 8                            │ ✅ │\n",
       "│\u001b[35m \u001b[0m\u001b[35mUI (βeta)\u001b[0m\u001b[35m \u001b[0m│ http://8/login               │ ❌ │\n",
       "│\u001b[35m \u001b[0m\u001b[35mapi      \u001b[0m\u001b[35m \u001b[0m│ http://8/api/v1/openapi.json │ ❌ │\n",
       "│\u001b[35m \u001b[0m\u001b[35mssh      \u001b[0m\u001b[35m \u001b[0m│ hagrid ssh 8                 │ ❌ │\n",
       "│\u001b[35m \u001b[0m\u001b[35mjupyter  \u001b[0m\u001b[35m \u001b[0m│ http://8:8888                │ ❌ │\n",
       "└───────────┴──────────────────────────────┴────┘\n"
      ]
     },
     "metadata": {},
     "output_type": "display_data"
    },
    {
     "data": {
      "text/html": [
       "<pre style=\"white-space:pre;overflow-x:auto;line-height:normal;font-family:Menlo,'DejaVu Sans Mono',consolas,'Courier New',monospace\">┏━━━━━━━━━━━┳━━━━━━━━━━━━━━━━━━━━━━━━━━━━━━┳━━━━┓\n",
       "┃<span style=\"font-weight: bold\"> PyGrid    </span>┃<span style=\"font-weight: bold\"> Info                         </span>┃<span style=\"font-weight: bold\">    </span>┃\n",
       "┡━━━━━━━━━━━╇━━━━━━━━━━━━━━━━━━━━━━━━━━━━━━╇━━━━┩\n",
       "│<span style=\"color: #800080; text-decoration-color: #800080\"> host      </span>│ 0                            │ ✅ │\n",
       "│<span style=\"color: #800080; text-decoration-color: #800080\"> UI (βeta) </span>│ http://0/login               │ ✅ │\n",
       "│<span style=\"color: #800080; text-decoration-color: #800080\"> api       </span>│ http://0/api/v1/openapi.json │ ✅ │\n",
       "│<span style=\"color: #800080; text-decoration-color: #800080\"> ssh       </span>│ hagrid ssh 0                 │ ❌ │\n",
       "│<span style=\"color: #800080; text-decoration-color: #800080\"> jupyter   </span>│ http://0:8888                │ ✅ │\n",
       "└───────────┴──────────────────────────────┴────┘\n",
       "</pre>\n"
      ],
      "text/plain": [
       "┏━━━━━━━━━━━┳━━━━━━━━━━━━━━━━━━━━━━━━━━━━━━┳━━━━┓\n",
       "┃\u001b[1m \u001b[0m\u001b[1mPyGrid   \u001b[0m\u001b[1m \u001b[0m┃\u001b[1m \u001b[0m\u001b[1mInfo                        \u001b[0m\u001b[1m \u001b[0m┃\u001b[1m \u001b[0m\u001b[1m  \u001b[0m\u001b[1m \u001b[0m┃\n",
       "┡━━━━━━━━━━━╇━━━━━━━━━━━━━━━━━━━━━━━━━━━━━━╇━━━━┩\n",
       "│\u001b[35m \u001b[0m\u001b[35mhost     \u001b[0m\u001b[35m \u001b[0m│ 0                            │ ✅ │\n",
       "│\u001b[35m \u001b[0m\u001b[35mUI (βeta)\u001b[0m\u001b[35m \u001b[0m│ http://0/login               │ ✅ │\n",
       "│\u001b[35m \u001b[0m\u001b[35mapi      \u001b[0m\u001b[35m \u001b[0m│ http://0/api/v1/openapi.json │ ✅ │\n",
       "│\u001b[35m \u001b[0m\u001b[35mssh      \u001b[0m\u001b[35m \u001b[0m│ hagrid ssh 0                 │ ❌ │\n",
       "│\u001b[35m \u001b[0m\u001b[35mjupyter  \u001b[0m\u001b[35m \u001b[0m│ http://0:8888                │ ✅ │\n",
       "└───────────┴──────────────────────────────┴────┘\n"
      ]
     },
     "metadata": {},
     "output_type": "display_data"
    }
   ],
   "source": [
    "hagrid.check(\"localhost:80\")"
   ]
  }
 ],
 "metadata": {
  "kernelspec": {
   "display_name": "Python 3.9.13 ('python39-FyWEp-Wu')",
   "language": "python",
   "name": "python3"
  },
  "language_info": {
   "codemirror_mode": {
    "name": "ipython",
    "version": 3
   },
   "file_extension": ".py",
   "mimetype": "text/x-python",
   "name": "python",
   "nbconvert_exporter": "python",
   "pygments_lexer": "ipython3",
   "version": "3.9.13"
  },
  "vscode": {
   "interpreter": {
    "hash": "450446d9358bec00bc7ecb1d6fb0a8764360b382210f2637a3413e3aac83c9e5"
   }
  }
 },
 "nbformat": 4,
 "nbformat_minor": 5
}

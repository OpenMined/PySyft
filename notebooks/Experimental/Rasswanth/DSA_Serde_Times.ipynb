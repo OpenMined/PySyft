{
 "cells": [
  {
   "cell_type": "code",
   "execution_count": 4,
   "id": "a136668e-211b-4196-a14e-193008b8f095",
   "metadata": {},
   "outputs": [],
   "source": [
    "import syft as sy\n",
    "import numpy as np\n",
    "from syft.core.adp.data_subject_list import DataSubjectArray\n",
    "from syft.core.adp.data_subject_list import dslarraytonumpyutf8,numpyutf8todslarray\n"
   ]
  },
  {
   "cell_type": "code",
   "execution_count": 2,
   "id": "02a13851-47a1-4010-84eb-805777e680af",
   "metadata": {},
   "outputs": [],
   "source": [
    "a = np.array([DataSubjectArray([\"rasswanth\"])])"
   ]
  },
  {
   "cell_type": "code",
   "execution_count": 28,
   "id": "d5d35334-6812-42d5-97ed-9006868a3425",
   "metadata": {},
   "outputs": [],
   "source": [
    "shapes = [ (10,10,10),(10,10,10,10,10),(100,100,100), (10,100,100,100)]"
   ]
  },
  {
   "cell_type": "code",
   "execution_count": 29,
   "id": "255b96f9-590f-4b79-a2bf-e53f942e06ee",
   "metadata": {},
   "outputs": [],
   "source": [
    "b = np.broadcast_to(a,shapes[3])"
   ]
  },
  {
   "cell_type": "code",
   "execution_count": 30,
   "id": "432f07e5-32af-4d6c-ad0d-beaf44b847cb",
   "metadata": {},
   "outputs": [
    {
     "data": {
      "text/plain": [
       "(10, 100, 100, 100)"
      ]
     },
     "execution_count": 30,
     "metadata": {},
     "output_type": "execute_result"
    }
   ],
   "source": [
    "b.shape"
   ]
  },
  {
   "cell_type": "code",
   "execution_count": 31,
   "id": "774d8988-f8c2-47dc-85df-6dd932a88496",
   "metadata": {},
   "outputs": [
    {
     "name": "stdout",
     "output_type": "stream",
     "text": [
      "CPU times: user 10.7 s, sys: 1.56 s, total: 12.2 s\n",
      "Wall time: 12.2 s\n"
     ]
    }
   ],
   "source": [
    "%%time \n",
    "ser  = sy.serialize(dslarraytonumpyutf8(b),to_bytes=True)"
   ]
  },
  {
   "cell_type": "code",
   "execution_count": 32,
   "id": "dcb3d9e4-1b77-485e-bc2a-734444270cec",
   "metadata": {},
   "outputs": [
    {
     "name": "stdout",
     "output_type": "stream",
     "text": [
      "CPU times: user 53.3 s, sys: 2.98 s, total: 56.3 s\n",
      "Wall time: 56.2 s\n"
     ]
    }
   ],
   "source": [
    "%%time\n",
    "de  = numpyutf8todslarray(sy.deserialize(ser,from_bytes=True))"
   ]
  }
 ],
 "metadata": {
  "kernelspec": {
   "display_name": "Python 3 (ipykernel)",
   "language": "python",
   "name": "python3"
  },
  "language_info": {
   "codemirror_mode": {
    "name": "ipython",
    "version": 3
   },
   "file_extension": ".py",
   "mimetype": "text/x-python",
   "name": "python",
   "nbconvert_exporter": "python",
   "pygments_lexer": "ipython3",
   "version": "3.9.4"
  }
 },
 "nbformat": 4,
 "nbformat_minor": 5
}

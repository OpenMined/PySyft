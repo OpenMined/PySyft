{
 "cells": [
  {
   "cell_type": "code",
   "execution_count": 1,
   "id": "e7b7788c-6988-42d0-baf1-c21a7c595c96",
   "metadata": {},
   "outputs": [
    {
     "name": "stderr",
     "output_type": "stream",
     "text": [
      "/Users/rasswanth/PySyft/.tox/syft.jupyter/lib/python3.9/site-packages/jax/_src/lib/__init__.py:33: UserWarning: JAX on Mac ARM machines is experimental and minimally tested. Please see https://github.com/google/jax/issues/5501 in the event of problems.\n",
      "  warnings.warn(\"JAX on Mac ARM machines is experimental and minimally tested. \"\n"
     ]
    }
   ],
   "source": [
    "%load_ext autoreload\n",
    "%autoreload 2\n",
    "import syft as sy\n",
    "import numpy as np\n",
    "from pymongo import MongoClient\n",
    "from nacl.signing import SigningKey\n",
    "from syft import PhiTensor\n",
    "from datetime import datetime\n",
    "from nacl.signing import VerifyKey\n",
    "from nacl.encoding import HexEncoder\n",
    "from syft.core.node.common.node_manager.dataset_manager import NoSQLDatasetManager\n",
    "from syft.core.node.common.node_manager.database_manager import convert_to_mongo_id\n",
    "\n",
    "from nacl.encoding import HexEncoder\n",
    "from syft.core.common.uid import UID\n",
    "from syft import Tensor\n",
    "import numpy as np\n",
    "from syft import PhiTensor"
   ]
  },
  {
   "cell_type": "code",
   "execution_count": 2,
   "id": "63b7279b-6322-4549-a748-871d1ffe2b8c",
   "metadata": {},
   "outputs": [
    {
     "name": "stdout",
     "output_type": "stream",
     "text": [
      "Valid DB\n"
     ]
    }
   ],
   "source": [
    "client = MongoClient(host='localhost', port=64598, username=\"root\", password=\"example\", uuidRepresentation=\"standard\")\n",
    "if client.server_info():\n",
    "    print(\"Valid DB\")"
   ]
  },
  {
   "cell_type": "code",
   "execution_count": 3,
   "id": "d498046b-5989-47c9-b227-faf49834d37c",
   "metadata": {},
   "outputs": [
    {
     "data": {
      "text/plain": [
       "pymongo.mongo_client.MongoClient"
      ]
     },
     "execution_count": 3,
     "metadata": {},
     "output_type": "execute_result"
    }
   ],
   "source": [
    "type(client)"
   ]
  },
  {
   "cell_type": "code",
   "execution_count": 4,
   "id": "d625cd44-92d2-4da1-974f-752b3ecd81e4",
   "metadata": {},
   "outputs": [],
   "source": [
    "db = client"
   ]
  },
  {
   "cell_type": "code",
   "execution_count": 5,
   "id": "cf15c49a-960e-4da8-8688-d3138ca90859",
   "metadata": {},
   "outputs": [
    {
     "data": {
      "text/plain": [
       "['setup', 'syft_users', 'shylock', 'datasets']"
      ]
     },
     "execution_count": 5,
     "metadata": {},
     "output_type": "execute_result"
    }
   ],
   "source": [
    "db[\"app\"].list_collection_names()"
   ]
  },
  {
   "cell_type": "code",
   "execution_count": 6,
   "id": "24ca2c5c-dd0f-4a3b-b1fb-15f6508a654e",
   "metadata": {},
   "outputs": [
    {
     "name": "stdout",
     "output_type": "stream",
     "text": [
      "WARNING: CHANGE YOUR USERNAME AND PASSWORD!!! \n",
      "\n",
      "Anyone can login as an admin to your node right now because your password is still the default PySyft username and password!!!\n",
      "\n",
      "Connecting to localhost... done! \t Logging into canada... done!\n"
     ]
    }
   ],
   "source": [
    "canada = sy.login(email=\"info@openmined.org\",password=\"changethis\",port=8081)"
   ]
  },
  {
   "cell_type": "code",
   "execution_count": 11,
   "id": "688676dc-d670-4d67-9e96-c7ddf23c1ca5",
   "metadata": {},
   "outputs": [],
   "source": [
    "canada.datasets.purge(skip_check=True)"
   ]
  },
  {
   "cell_type": "code",
   "execution_count": 12,
   "id": "eebd45fe-5fc6-48fc-b033-df04f9234560",
   "metadata": {},
   "outputs": [
    {
     "data": {
      "text/html": [
       "(no datasets found)"
      ],
      "text/plain": [
       "<syft.core.node.common.client_manager.dataset_api.DatasetRequestAPI at 0x2b78d4c70>"
      ]
     },
     "execution_count": 12,
     "metadata": {},
     "output_type": "execute_result"
    }
   ],
   "source": [
    "canada.datasets"
   ]
  },
  {
   "cell_type": "code",
   "execution_count": 8,
   "id": "08b93c9a-555d-41ce-81d2-5d21c5763d40",
   "metadata": {},
   "outputs": [],
   "source": [
    "tensor = sy.Tensor(np.array([1])).private(min_val=0,max_val=1,data_subjects= np.array([\"Zerek\"]))"
   ]
  },
  {
   "cell_type": "code",
   "execution_count": 9,
   "id": "8991660a-f710-4039-9432-f38b99a153bf",
   "metadata": {},
   "outputs": [
    {
     "name": "stdout",
     "output_type": "stream",
     "text": [
      "Loading dataset... uploading...🚀                        perform_api_request_generic <class 'abc.ABCMeta'>                                                                    \n"
     ]
    },
    {
     "name": "stderr",
     "output_type": "stream",
     "text": [
      "Uploading `tensor`: 100%|\u001b[32m█████████████████████████████████████████████\u001b[0m| 1/1 [00:00<00:00, 82.41it/s]\u001b[0m"
     ]
    },
    {
     "name": "stdout",
     "output_type": "stream",
     "text": [
      "perform_api_request_generic <class 'abc.ABCMeta'>\n",
      "Dataset is uploaded successfully !!! 🎉\n",
      "\n",
      "Run `<your client variable>.datasets` to see your new dataset loaded into your machine!\n"
     ]
    },
    {
     "name": "stderr",
     "output_type": "stream",
     "text": [
      "\n"
     ]
    }
   ],
   "source": [
    "canada.load_dataset(assets= {\"tensor\":tensor},name=\"test\",description=\"Test\")"
   ]
  },
  {
   "cell_type": "code",
   "execution_count": null,
   "id": "2f0420d1-4194-4879-ac93-a91e3213c762",
   "metadata": {},
   "outputs": [],
   "source": [
    "canada.datasets[0][\"tensor\"].get_copy()"
   ]
  },
  {
   "cell_type": "code",
   "execution_count": null,
   "id": "061429ba-9a72-46e4-b1ba-a560d6731b8f",
   "metadata": {},
   "outputs": [],
   "source": [
    "dataset_manager = NoSQLDatasetManager(db,\"app\")"
   ]
  },
  {
   "cell_type": "code",
   "execution_count": null,
   "id": "46d28a04-45c4-47a8-9333-329c358073ef",
   "metadata": {},
   "outputs": [],
   "source": [
    "dataset_manager.all()"
   ]
  },
  {
   "cell_type": "code",
   "execution_count": null,
   "id": "897703f0-01fb-4334-ab51-ce7a17dd591f",
   "metadata": {},
   "outputs": [],
   "source": [
    "dataset_manager.clear()"
   ]
  }
 ],
 "metadata": {
  "kernelspec": {
   "display_name": "Python 3 (ipykernel)",
   "language": "python",
   "name": "python3"
  },
  "language_info": {
   "codemirror_mode": {
    "name": "ipython",
    "version": 3
   },
   "file_extension": ".py",
   "mimetype": "text/x-python",
   "name": "python",
   "nbconvert_exporter": "python",
   "pygments_lexer": "ipython3",
   "version": "3.9.13"
  }
 },
 "nbformat": 4,
 "nbformat_minor": 5
}

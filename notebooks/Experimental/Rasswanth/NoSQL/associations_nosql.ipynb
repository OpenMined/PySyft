{
 "cells": [
  {
   "cell_type": "code",
   "execution_count": 1,
   "id": "414d575a-25d3-4ac6-b58f-fb54ff53399b",
   "metadata": {},
   "outputs": [
    {
     "name": "stderr",
     "output_type": "stream",
     "text": [
      "/Users/rasswanth/PySyft/.tox/syft.jupyter/lib/python3.9/site-packages/jax/_src/lib/__init__.py:33: UserWarning: JAX on Mac ARM machines is experimental and minimally tested. Please see https://github.com/google/jax/issues/5501 in the event of problems.\n",
      "  warnings.warn(\"JAX on Mac ARM machines is experimental and minimally tested. \"\n"
     ]
    }
   ],
   "source": [
    "import syft as sy"
   ]
  },
  {
   "cell_type": "code",
   "execution_count": 2,
   "id": "b1caf5e6-e484-4a77-ac36-4f3485202813",
   "metadata": {},
   "outputs": [
    {
     "name": "stdout",
     "output_type": "stream",
     "text": [
      "WARNING: CHANGE YOUR USERNAME AND PASSWORD!!! \n",
      "\n",
      "Anyone can login as an admin to your node right now because your password is still the default PySyft username and password!!!\n",
      "\n",
      "Connecting to localhost... done! \t Logging into canada... done!\n",
      "WARNING: CHANGE YOUR USERNAME AND PASSWORD!!! \n",
      "\n",
      "Anyone can login as an admin to your node right now because your password is still the default PySyft username and password!!!\n",
      "\n",
      "Connecting to localhost... done! \t Logging into test_network_1... done!\n"
     ]
    }
   ],
   "source": [
    "domain = sy.login(email=\"info@openmined.org\", password=\"changethis\",port=8081)\n",
    "network = sy.login(email=\"info@openmined.org\", password=\"changethis\",port=9081)"
   ]
  },
  {
   "cell_type": "code",
   "execution_count": 4,
   "id": "522d474d-d107-471b-94c2-881e27c5efe4",
   "metadata": {},
   "outputs": [
    {
     "data": {
      "text/plain": [
       "<UID: 59d5d20ebafd421f9a55d5dae76f913f>"
      ]
     },
     "execution_count": 4,
     "metadata": {},
     "output_type": "execute_result"
    }
   ],
   "source": [
    "network.id"
   ]
  },
  {
   "cell_type": "code",
   "execution_count": 7,
   "id": "a4136c0a-b293-4c29-b332-300ef066013f",
   "metadata": {},
   "outputs": [
    {
     "name": "stderr",
     "output_type": "stream",
     "text": [
      "[2022-09-09T08:50:27.884772+0530][CRITICAL][logger]][3518] UnknownPrivateException has been triggered.\n"
     ]
    },
    {
     "ename": "UnknownPrivateException",
     "evalue": "UnknownPrivateException has been triggered.",
     "output_type": "error",
     "traceback": [
      "\u001b[0;31m---------------------------------------------------------------------------\u001b[0m",
      "\u001b[0;31mUnknownPrivateException\u001b[0m                   Traceback (most recent call last)",
      "File \u001b[0;32m~/PySyft/.tox/syft.jupyter/lib/python3.9/site-packages/IPython/core/formatters.py:343\u001b[0m, in \u001b[0;36mBaseFormatter.__call__\u001b[0;34m(self, obj)\u001b[0m\n\u001b[1;32m    341\u001b[0m     method \u001b[38;5;241m=\u001b[39m get_real_method(obj, \u001b[38;5;28mself\u001b[39m\u001b[38;5;241m.\u001b[39mprint_method)\n\u001b[1;32m    342\u001b[0m     \u001b[38;5;28;01mif\u001b[39;00m method \u001b[38;5;129;01mis\u001b[39;00m \u001b[38;5;129;01mnot\u001b[39;00m \u001b[38;5;28;01mNone\u001b[39;00m:\n\u001b[0;32m--> 343\u001b[0m         \u001b[38;5;28;01mreturn\u001b[39;00m \u001b[43mmethod\u001b[49m\u001b[43m(\u001b[49m\u001b[43m)\u001b[49m\n\u001b[1;32m    344\u001b[0m     \u001b[38;5;28;01mreturn\u001b[39;00m \u001b[38;5;28;01mNone\u001b[39;00m\n\u001b[1;32m    345\u001b[0m \u001b[38;5;28;01melse\u001b[39;00m:\n",
      "File \u001b[0;32m~/PySyft/packages/syft/src/syft/core/node/common/client_manager/request_api.py:195\u001b[0m, in \u001b[0;36mRequestAPI._repr_html_\u001b[0;34m(self)\u001b[0m\n\u001b[1;32m    194\u001b[0m \u001b[38;5;28;01mdef\u001b[39;00m \u001b[38;5;21m_repr_html_\u001b[39m(\u001b[38;5;28mself\u001b[39m) \u001b[38;5;241m-\u001b[39m\u001b[38;5;241m>\u001b[39m \u001b[38;5;28mstr\u001b[39m:\n\u001b[0;32m--> 195\u001b[0m     \u001b[38;5;28;01mreturn\u001b[39;00m \u001b[38;5;28;43mself\u001b[39;49m\u001b[38;5;241;43m.\u001b[39;49m\u001b[43mpandas\u001b[49m\u001b[43m(\u001b[49m\u001b[43m)\u001b[49m\u001b[38;5;241m.\u001b[39m_repr_html_()\n",
      "File \u001b[0;32m~/PySyft/packages/syft/src/syft/core/node/common/client_manager/request_api.py:84\u001b[0m, in \u001b[0;36mRequestAPI.pandas\u001b[0;34m(self)\u001b[0m\n\u001b[1;32m     83\u001b[0m \u001b[38;5;28;01mdef\u001b[39;00m \u001b[38;5;21mpandas\u001b[39m(\u001b[38;5;28mself\u001b[39m) \u001b[38;5;241m-\u001b[39m\u001b[38;5;241m>\u001b[39m DataFrame:\n\u001b[0;32m---> 84\u001b[0m     \u001b[38;5;28;01mreturn\u001b[39;00m DataFrame(\u001b[38;5;28;43mself\u001b[39;49m\u001b[38;5;241;43m.\u001b[39;49m\u001b[43mall\u001b[49m\u001b[43m(\u001b[49m\u001b[43m)\u001b[49m)\n",
      "File \u001b[0;32m~/PySyft/packages/syft/src/syft/core/node/common/client_manager/request_api.py:77\u001b[0m, in \u001b[0;36mRequestAPI.all\u001b[0;34m(self)\u001b[0m\n\u001b[1;32m     75\u001b[0m \u001b[38;5;28;01melse\u001b[39;00m:\n\u001b[1;32m     76\u001b[0m     result \u001b[38;5;241m=\u001b[39m []\n\u001b[0;32m---> 77\u001b[0m     \u001b[38;5;28;01mfor\u001b[39;00m content \u001b[38;5;129;01min\u001b[39;00m \u001b[38;5;28;43mself\u001b[39;49m\u001b[38;5;241;43m.\u001b[39;49m\u001b[43mperform_api_request\u001b[49m\u001b[43m(\u001b[49m\n\u001b[1;32m     78\u001b[0m \u001b[43m        \u001b[49m\u001b[43msyft_msg\u001b[49m\u001b[38;5;241;43m=\u001b[39;49m\u001b[38;5;28;43mself\u001b[39;49m\u001b[38;5;241;43m.\u001b[39;49m\u001b[43m_get_all_message\u001b[49m\n\u001b[1;32m     79\u001b[0m \u001b[43m    \u001b[49m\u001b[43m)\u001b[49m\u001b[38;5;241m.\u001b[39mcontent:\n\u001b[1;32m     80\u001b[0m         result\u001b[38;5;241m.\u001b[39mappend(content)\n\u001b[1;32m     81\u001b[0m \u001b[38;5;28;01mreturn\u001b[39;00m result\n",
      "File \u001b[0;32m~/PySyft/packages/syft/src/syft/core/node/common/client_manager/request_api.py:140\u001b[0m, in \u001b[0;36mRequestAPI.perform_api_request\u001b[0;34m(self, syft_msg, content, timeout)\u001b[0m\n\u001b[1;32m    135\u001b[0m content[RequestAPIFields\u001b[38;5;241m.\u001b[39mREPLY_TO] \u001b[38;5;241m=\u001b[39m \u001b[38;5;28mself\u001b[39m\u001b[38;5;241m.\u001b[39mclient\u001b[38;5;241m.\u001b[39maddress\n\u001b[1;32m    137\u001b[0m signed_msg \u001b[38;5;241m=\u001b[39m syft_msg_constructor(\u001b[38;5;241m*\u001b[39m\u001b[38;5;241m*\u001b[39mcontent)\u001b[38;5;241m.\u001b[39msign(\n\u001b[1;32m    138\u001b[0m     signing_key\u001b[38;5;241m=\u001b[39m\u001b[38;5;28mself\u001b[39m\u001b[38;5;241m.\u001b[39mclient\u001b[38;5;241m.\u001b[39msigning_key\n\u001b[1;32m    139\u001b[0m )  \u001b[38;5;66;03m# type: ignore\u001b[39;00m\n\u001b[0;32m--> 140\u001b[0m response \u001b[38;5;241m=\u001b[39m \u001b[38;5;28;43mself\u001b[39;49m\u001b[38;5;241;43m.\u001b[39;49m\u001b[43mclient\u001b[49m\u001b[38;5;241;43m.\u001b[39;49m\u001b[43msend_immediate_msg_with_reply\u001b[49m\u001b[43m(\u001b[49m\n\u001b[1;32m    141\u001b[0m \u001b[43m    \u001b[49m\u001b[43mmsg\u001b[49m\u001b[38;5;241;43m=\u001b[39;49m\u001b[43msigned_msg\u001b[49m\u001b[43m,\u001b[49m\u001b[43m \u001b[49m\u001b[43mtimeout\u001b[49m\u001b[38;5;241;43m=\u001b[39;49m\u001b[43mtimeout\u001b[49m\n\u001b[1;32m    142\u001b[0m \u001b[43m\u001b[49m\u001b[43m)\u001b[49m\n\u001b[1;32m    143\u001b[0m \u001b[38;5;28;01mif\u001b[39;00m \u001b[38;5;28misinstance\u001b[39m(response, ExceptionMessage):\n\u001b[1;32m    144\u001b[0m     \u001b[38;5;28;01mraise\u001b[39;00m response\u001b[38;5;241m.\u001b[39mexception_type\n",
      "File \u001b[0;32m~/PySyft/packages/syft/src/syft/core/node/common/client.py:247\u001b[0m, in \u001b[0;36mClient.send_immediate_msg_with_reply\u001b[0;34m(self, msg, timeout, return_signed, route_index)\u001b[0m\n\u001b[1;32m    245\u001b[0m     exception \u001b[38;5;241m=\u001b[39m exception_msg\u001b[38;5;241m.\u001b[39mexception_type(exception_msg\u001b[38;5;241m.\u001b[39mexception_msg)\n\u001b[1;32m    246\u001b[0m     error(\u001b[38;5;28mstr\u001b[39m(exception))\n\u001b[0;32m--> 247\u001b[0m     \u001b[43mtraceback_and_raise\u001b[49m\u001b[43m(\u001b[49m\u001b[43mexception\u001b[49m\u001b[43m)\u001b[49m\n\u001b[1;32m    248\u001b[0m \u001b[38;5;28;01melse\u001b[39;00m:\n\u001b[1;32m    249\u001b[0m     \u001b[38;5;28;01mif\u001b[39;00m return_signed:\n",
      "File \u001b[0;32m~/PySyft/packages/syft/src/syft/logger.py:70\u001b[0m, in \u001b[0;36mtraceback_and_raise\u001b[0;34m(e, verbose)\u001b[0m\n\u001b[1;32m     68\u001b[0m \u001b[38;5;28;01mif\u001b[39;00m \u001b[38;5;129;01mnot\u001b[39;00m \u001b[38;5;28missubclass\u001b[39m(\u001b[38;5;28mtype\u001b[39m(e), \u001b[38;5;167;01mException\u001b[39;00m):\n\u001b[1;32m     69\u001b[0m     e \u001b[38;5;241m=\u001b[39m \u001b[38;5;167;01mException\u001b[39;00m(e)\n\u001b[0;32m---> 70\u001b[0m \u001b[38;5;28;01mraise\u001b[39;00m e\n",
      "\u001b[0;31mUnknownPrivateException\u001b[0m: UnknownPrivateException has been triggered."
     ]
    },
    {
     "data": {
      "text/plain": [
       "<syft.core.node.common.client_manager.association_api.AssociationRequestAPI at 0x29b427f40>"
      ]
     },
     "execution_count": 7,
     "metadata": {},
     "output_type": "execute_result"
    }
   ],
   "source": [
    "domain.association"
   ]
  },
  {
   "cell_type": "code",
   "execution_count": null,
   "id": "73198035-f5ed-41ce-9b7f-a783e2fb5ea9",
   "metadata": {},
   "outputs": [],
   "source": [
    "network.association"
   ]
  },
  {
   "cell_type": "code",
   "execution_count": 6,
   "id": "3c7e9485-949b-453b-9365-676e42f0e520",
   "metadata": {},
   "outputs": [
    {
     "name": "stdout",
     "output_type": "stream",
     "text": [
      "1/3 Joining Network\n",
      "2/3 Secure VPN Connected\n",
      "3/3 Network Registration Complete\n"
     ]
    }
   ],
   "source": [
    "domain.apply_to_network(network)"
   ]
  },
  {
   "cell_type": "code",
   "execution_count": null,
   "id": "753e2452-5d7d-4d6a-ba30-d7406c10f12c",
   "metadata": {},
   "outputs": [],
   "source": [
    "domain.vpn_status()"
   ]
  },
  {
   "cell_type": "code",
   "execution_count": null,
   "id": "d3a075bb-8e7f-4e96-82a9-bd0779f005d6",
   "metadata": {},
   "outputs": [],
   "source": [
    "domain.id"
   ]
  },
  {
   "cell_type": "code",
   "execution_count": null,
   "id": "60071fda-d9bf-4494-80c3-8e58f6b8bb90",
   "metadata": {},
   "outputs": [],
   "source": [
    "network.id"
   ]
  },
  {
   "cell_type": "code",
   "execution_count": null,
   "id": "8b847aa8-0cbb-4c6c-a5ef-21a0352262a2",
   "metadata": {},
   "outputs": [],
   "source": []
  },
  {
   "cell_type": "code",
   "execution_count": null,
   "id": "831379e0-3fc3-463b-a435-a799dfe5302f",
   "metadata": {},
   "outputs": [],
   "source": []
  },
  {
   "cell_type": "code",
   "execution_count": null,
   "id": "7a706fbc-3e3f-47b9-888e-1d37ab547ae5",
   "metadata": {},
   "outputs": [],
   "source": [
    "italy = sy.login(email=\"info@openmined.org\", password=\"changethis\",port=8082)"
   ]
  },
  {
   "cell_type": "code",
   "execution_count": null,
   "id": "fc85f2d3-2037-48bc-b69a-54cca0cd0c47",
   "metadata": {},
   "outputs": [],
   "source": [
    "italy.apply_to_network(network)"
   ]
  },
  {
   "cell_type": "code",
   "execution_count": null,
   "id": "8c2ce89f-b1c4-4f8e-a163-a5e5be8d3e9c",
   "metadata": {},
   "outputs": [],
   "source": [
    "network.vpn_status()"
   ]
  },
  {
   "cell_type": "code",
   "execution_count": null,
   "id": "1f02190f-63c0-4e33-9205-86c9215209a7",
   "metadata": {},
   "outputs": [],
   "source": [
    "domain"
   ]
  },
  {
   "cell_type": "code",
   "execution_count": null,
   "id": "c0894f0f-2312-4342-9a5c-b93888ac210f",
   "metadata": {},
   "outputs": [],
   "source": [
    "network.vpn_status()"
   ]
  },
  {
   "cell_type": "code",
   "execution_count": null,
   "id": "d7e51811-0e92-4c83-938f-8ea476395e5a",
   "metadata": {},
   "outputs": [],
   "source": [
    "network.association[1].accept()"
   ]
  },
  {
   "cell_type": "code",
   "execution_count": null,
   "id": "351f9716-e0ed-48f4-bb0c-5f8ace0032f1",
   "metadata": {},
   "outputs": [],
   "source": [
    "network.association.all()"
   ]
  },
  {
   "cell_type": "code",
   "execution_count": null,
   "id": "7cfb7deb-e5ff-4e19-8641-f590d7a9b0c1",
   "metadata": {},
   "outputs": [],
   "source": [
    "network.association[1].accept()"
   ]
  },
  {
   "cell_type": "code",
   "execution_count": null,
   "id": "c7613958-3f7f-4c7a-8fba-800b0dcf4917",
   "metadata": {},
   "outputs": [],
   "source": [
    "domain.association[1].accept()"
   ]
  },
  {
   "cell_type": "code",
   "execution_count": null,
   "id": "c926df20-fd9d-44f9-b226-9bba978b34cd",
   "metadata": {},
   "outputs": [],
   "source": [
    "domain.vpn_status()"
   ]
  },
  {
   "cell_type": "code",
   "execution_count": null,
   "id": "0703beb7-f3b5-4278-b359-4ab85bb77f9e",
   "metadata": {},
   "outputs": [],
   "source": [
    "network.version"
   ]
  },
  {
   "cell_type": "code",
   "execution_count": null,
   "id": "9418af37-47c0-4595-92bd-ac69f3daba35",
   "metadata": {},
   "outputs": [],
   "source": [
    "domain.version"
   ]
  },
  {
   "cell_type": "code",
   "execution_count": null,
   "id": "cc82f288-1b78-45cf-9df2-cca4eaed0dd5",
   "metadata": {},
   "outputs": [],
   "source": [
    "domain.vpn_status()"
   ]
  },
  {
   "cell_type": "code",
   "execution_count": null,
   "id": "c62608fa-03be-42af-9baf-0c5143c720cc",
   "metadata": {},
   "outputs": [],
   "source": [
    "italy = sy.login(email=\"info@openmined.org\", password=\"changethis\",port=8082)\n"
   ]
  },
  {
   "cell_type": "code",
   "execution_count": null,
   "id": "6cca5e26-4d43-4ec9-800e-966e34f6e672",
   "metadata": {},
   "outputs": [],
   "source": [
    "italy.apply_to_network(network)"
   ]
  },
  {
   "cell_type": "code",
   "execution_count": null,
   "id": "317560a1-1343-451a-bfcf-e7e147a7a48a",
   "metadata": {},
   "outputs": [],
   "source": [
    "italy.vpn_status()"
   ]
  },
  {
   "cell_type": "code",
   "execution_count": null,
   "id": "bba447a0-c658-45fc-8166-f4361f069f7b",
   "metadata": {},
   "outputs": [],
   "source": [
    "network.vpn_status()"
   ]
  }
 ],
 "metadata": {
  "kernelspec": {
   "display_name": "Python 3 (ipykernel)",
   "language": "python",
   "name": "python3"
  },
  "language_info": {
   "codemirror_mode": {
    "name": "ipython",
    "version": 3
   },
   "file_extension": ".py",
   "mimetype": "text/x-python",
   "name": "python",
   "nbconvert_exporter": "python",
   "pygments_lexer": "ipython3",
   "version": "3.9.13"
  }
 },
 "nbformat": 4,
 "nbformat_minor": 5
}

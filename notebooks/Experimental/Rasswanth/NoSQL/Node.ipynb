{
 "cells": [
  {
   "cell_type": "code",
   "execution_count": 1,
   "id": "e7b7788c-6988-42d0-baf1-c21a7c595c96",
   "metadata": {},
   "outputs": [
    {
     "name": "stderr",
     "output_type": "stream",
     "text": [
      "/Users/rasswanth/PySyft/.tox/syft.jupyter/lib/python3.9/site-packages/jax/_src/lib/__init__.py:33: UserWarning: JAX on Mac ARM machines is experimental and minimally tested. Please see https://github.com/google/jax/issues/5501 in the event of problems.\n",
      "  warnings.warn(\"JAX on Mac ARM machines is experimental and minimally tested. \"\n"
     ]
    }
   ],
   "source": [
    "%load_ext autoreload\n",
    "%autoreload 2\n",
    "import syft as sy\n",
    "import numpy as np\n",
    "from pymongo import MongoClient\n",
    "from nacl.signing import SigningKey\n",
    "from syft import PhiTensor\n",
    "from datetime import datetime\n",
    "from nacl.signing import VerifyKey\n",
    "from nacl.encoding import HexEncoder\n",
    "from syft.core.node.common.node_manager.node_manager import NoSQLNodeManager\n",
    "from syft.core.node.common.node_manager.setup_manager import NoSQLSetupManager\n",
    "from syft.core.node.common.node_table.setup import NoSQLSetup\n",
    "from syft.core.node.common.node_service.node_credential.node_credentials import NodeCredentials\n",
    "from nacl.encoding import HexEncoder\n",
    "from syft.core.common.uid import UID"
   ]
  },
  {
   "cell_type": "code",
   "execution_count": 2,
   "id": "63b7279b-6322-4549-a748-871d1ffe2b8c",
   "metadata": {},
   "outputs": [
    {
     "name": "stdout",
     "output_type": "stream",
     "text": [
      "Valid DB\n"
     ]
    }
   ],
   "source": [
    "client = MongoClient(host='localhost', port=51807, username=\"root\", password=\"example\", uuidRepresentation=\"standard\")\n",
    "if client.server_info():\n",
    "    print(\"Valid DB\")"
   ]
  },
  {
   "cell_type": "code",
   "execution_count": 3,
   "id": "d625cd44-92d2-4da1-974f-752b3ecd81e4",
   "metadata": {},
   "outputs": [],
   "source": [
    "db = client"
   ]
  },
  {
   "cell_type": "code",
   "execution_count": 4,
   "id": "cf15c49a-960e-4da8-8688-d3138ca90859",
   "metadata": {},
   "outputs": [
    {
     "data": {
      "text/plain": [
       "['setup', 'syft_users', 'shylock', 'node']"
      ]
     },
     "execution_count": 4,
     "metadata": {},
     "output_type": "execute_result"
    }
   ],
   "source": [
    "db[\"app\"].list_collection_names()"
   ]
  },
  {
   "cell_type": "code",
   "execution_count": 5,
   "id": "061429ba-9a72-46e4-b1ba-a560d6731b8f",
   "metadata": {},
   "outputs": [],
   "source": [
    "node_manager = NoSQLNodeManager(db,\"app\")\n"
   ]
  },
  {
   "cell_type": "code",
   "execution_count": 6,
   "id": "02b393f9-5758-4739-a9b9-65370e6581b3",
   "metadata": {},
   "outputs": [],
   "source": [
    "\n",
    "uid_1 = UID().to_string()"
   ]
  },
  {
   "cell_type": "code",
   "execution_count": 7,
   "id": "1a645f03-e098-45ed-9a0a-621134e0b9b1",
   "metadata": {},
   "outputs": [
    {
     "data": {
      "text/plain": [
       "NoSQLNode(id=<UID: 992105e179c44561bf76f6e83d73c6c5>, node_uid='75a94856dab749e885c670d3995c8331', node_name='canada', node_type=None, verify_key=None, keep_connected=True, node_route=[NoSQLNodeRoute(id=<UID: f74b3e29b930482c9db64e5490a36091>, host_or_ip='100.64.0.1', is_vpn=False, private=False, protocol='http', port=80, vpn_endpoint='', vpn_key='')])"
      ]
     },
     "execution_count": 7,
     "metadata": {},
     "output_type": "execute_result"
    }
   ],
   "source": [
    "node_manager.create_or_get_node(node_uid=uid_1, node_name=\"canada\",host_or_ip = \"100.64.0.1\")"
   ]
  },
  {
   "cell_type": "code",
   "execution_count": 8,
   "id": "2ba402a1-d8d5-44c1-8b79-1646b0bd856f",
   "metadata": {},
   "outputs": [
    {
     "data": {
      "text/plain": [
       "NoSQLNode(id=<UID: 653a1f5b86804f278ffbb6f57b2c7d70>, node_uid='5ffc3a824bfa4611b65678687a9b121f', node_name='canada', node_type=None, verify_key=None, keep_connected=True, node_route=[NoSQLNodeRoute(id=<UID: b168ebc71ca94e12b918f7f6f31078a7>, host_or_ip='100.64.0.1', is_vpn=False, private=False, protocol='http', port=80, vpn_endpoint='', vpn_key='')])"
      ]
     },
     "execution_count": 8,
     "metadata": {},
     "output_type": "execute_result"
    }
   ],
   "source": [
    "node_manager.all()[0]"
   ]
  },
  {
   "cell_type": "code",
   "execution_count": null,
   "id": "4516035b-b924-48cd-8f2e-f6839b883f55",
   "metadata": {},
   "outputs": [],
   "source": [
    "verify_key = SigningKey.generate().verify_key"
   ]
  },
  {
   "cell_type": "code",
   "execution_count": null,
   "id": "50c034a1-a79e-4a14-a5d6-0c03bb7bec2b",
   "metadata": {},
   "outputs": [],
   "source": [
    "_verify_key = verify_key.encode(encoder=HexEncoder).decode(\"utf-8\")"
   ]
  },
  {
   "cell_type": "code",
   "execution_count": null,
   "id": "c56c2f14-5d18-4e97-a188-3c9e9154b69b",
   "metadata": {},
   "outputs": [],
   "source": [
    "_verify_key"
   ]
  },
  {
   "cell_type": "code",
   "execution_count": null,
   "id": "2a817d73-e373-4e2f-8624-88fa2bdf8045",
   "metadata": {},
   "outputs": [],
   "source": [
    "credential = NodeCredentials(node_uid = uid_1,node_name=\"canada\",node_type=\"domain\",verify_key=_verify_key )"
   ]
  },
  {
   "cell_type": "code",
   "execution_count": null,
   "id": "270fb87e-6162-4517-852e-0a9beafdaf85",
   "metadata": {},
   "outputs": [],
   "source": [
    "node_manager.add_or_update_node_credentials(credential)"
   ]
  },
  {
   "cell_type": "code",
   "execution_count": null,
   "id": "0f09ac19-2425-4d20-9fbd-fa021c7f02a9",
   "metadata": {},
   "outputs": [],
   "source": [
    "node_manager"
   ]
  },
  {
   "cell_type": "code",
   "execution_count": null,
   "id": "28c825df-ac4b-4fb8-93b9-ad72ff4d814f",
   "metadata": {},
   "outputs": [],
   "source": [
    "node_manager.first(node_uid = uid_1)"
   ]
  },
  {
   "cell_type": "code",
   "execution_count": null,
   "id": "1b4360a9-4940-4921-a7ce-285245ebf66f",
   "metadata": {},
   "outputs": [],
   "source": [
    "user_manager.signup(name=\"mystogen\",email=\"mystogen@fairy.tail\",password=\"erza\",role = role.owner_role,budget=5.5,private_key=_node_private_key,verify_key=_verify_key)"
   ]
  },
  {
   "cell_type": "code",
   "execution_count": null,
   "id": "e3d18e3c-10cd-4bec-8c39-fb13d19f9866",
   "metadata": {},
   "outputs": [],
   "source": [
    "zerek = user_manager.find_one({\"email\": \"mystogen@fairy.tail\"})"
   ]
  },
  {
   "cell_type": "code",
   "execution_count": null,
   "id": "25be798f-fee7-45a1-87c6-ebb015bd59d5",
   "metadata": {},
   "outputs": [],
   "source": [
    "zerek"
   ]
  },
  {
   "cell_type": "code",
   "execution_count": null,
   "id": "7cb7116b-d3ea-4d34-8669-5c82c7a78c41",
   "metadata": {},
   "outputs": [],
   "source": [
    "user_manager.drop()"
   ]
  },
  {
   "cell_type": "code",
   "execution_count": null,
   "id": "609470d9-c55b-4538-83cc-7bdd82beb1e0",
   "metadata": {},
   "outputs": [],
   "source": [
    "for user in user_manager.all():\n",
    "    print(user)\n",
    "    print(\"\\n\"*5)"
   ]
  },
  {
   "cell_type": "code",
   "execution_count": null,
   "id": "7decf43c-c5cd-4260-b181-fc9e91adcb52",
   "metadata": {},
   "outputs": [],
   "source": [
    "# to delete all documents in the table.\n",
    "# user_manager.drop()"
   ]
  },
  {
   "cell_type": "code",
   "execution_count": null,
   "id": "01e3a800-4570-4669-8fe7-2d1b0acd6033",
   "metadata": {},
   "outputs": [],
   "source": [
    "verify_key = VerifyKey(\"725d5435741e75258ceaa07666f108f1adad085c640617633b74770c43fb83d0\",encoder=HexEncoder)"
   ]
  },
  {
   "cell_type": "code",
   "execution_count": null,
   "id": "d48b6241-4294-40c2-bdba-7981f9b77787",
   "metadata": {},
   "outputs": [],
   "source": [
    "verify_key"
   ]
  },
  {
   "cell_type": "code",
   "execution_count": null,
   "id": "fa5e90ee-ee4e-46a5-a2a8-e3514db3ab4d",
   "metadata": {},
   "outputs": [],
   "source": [
    "from syft.core.node.common.node_table.utils import syft_object_to_json"
   ]
  },
  {
   "cell_type": "code",
   "execution_count": null,
   "id": "05a09e5f-80a4-4cc0-a301-656ec896b03d",
   "metadata": {},
   "outputs": [],
   "source": [
    "json  = syft_object_to_json(user_manager.get_user(verify_key))"
   ]
  },
  {
   "cell_type": "code",
   "execution_count": null,
   "id": "ea2b9567-bf3b-4d8a-a25c-4a24b86f98b5",
   "metadata": {},
   "outputs": [],
   "source": [
    "json[\"role\"] = json[\"role\"].get(\"name\",None)"
   ]
  },
  {
   "cell_type": "code",
   "execution_count": null,
   "id": "4e3e58a6-3310-4ec4-b162-87c3eb628c47",
   "metadata": {},
   "outputs": [],
   "source": [
    "del json[\"private_key\"]"
   ]
  },
  {
   "cell_type": "code",
   "execution_count": null,
   "id": "56476c1b-e3e3-4b98-92c2-44f61e1da535",
   "metadata": {},
   "outputs": [],
   "source": [
    "user_manager.get_budget_for_user(verify_key=verify_key)"
   ]
  },
  {
   "cell_type": "code",
   "execution_count": null,
   "id": "da82b448-0f6f-48dc-8cd6-228e473b822d",
   "metadata": {},
   "outputs": [],
   "source": [
    "user_manager.get_user(verify_key)"
   ]
  },
  {
   "cell_type": "code",
   "execution_count": null,
   "id": "cc5f2ee7-c974-4807-ac66-d101b8b74880",
   "metadata": {},
   "outputs": [],
   "source": [
    "user_manager.can_triage_requests(verify_key)"
   ]
  },
  {
   "cell_type": "code",
   "execution_count": null,
   "id": "62ac5a5b-83c3-4322-a235-a8c8e1f2a4bf",
   "metadata": {},
   "outputs": [],
   "source": [
    "user_manager.get_user(verify_key).role"
   ]
  },
  {
   "cell_type": "code",
   "execution_count": null,
   "id": "0f22d440-bf2c-4a98-9f47-61d47832b8d4",
   "metadata": {},
   "outputs": [],
   "source": [
    "user_manager.first(id_int=1)"
   ]
  },
  {
   "cell_type": "code",
   "execution_count": null,
   "id": "c97eb783-1e75-4d3f-a4e5-1a04d0eaa54b",
   "metadata": {},
   "outputs": [],
   "source": []
  },
  {
   "cell_type": "code",
   "execution_count": null,
   "id": "00212a31-1347-4820-b868-f148bccd7103",
   "metadata": {},
   "outputs": [],
   "source": []
  },
  {
   "cell_type": "code",
   "execution_count": null,
   "id": "a700e8d2-2d03-4e62-8537-1814ea76f195",
   "metadata": {},
   "outputs": [],
   "source": []
  },
  {
   "cell_type": "code",
   "execution_count": null,
   "id": "13ad6884-8cba-4a4c-81fd-0901130fd719",
   "metadata": {},
   "outputs": [],
   "source": [
    "###User Login Test"
   ]
  },
  {
   "cell_type": "code",
   "execution_count": null,
   "id": "362722e5-3c39-415b-81e3-90e636d912ac",
   "metadata": {},
   "outputs": [],
   "source": [
    "canada = sy.login(email=\"info@openmined.org\",password=\"changethis\",port=8081)"
   ]
  },
  {
   "cell_type": "code",
   "execution_count": null,
   "id": "8412d31a-c762-4ccc-a46b-faf30c43e4e9",
   "metadata": {},
   "outputs": [],
   "source": [
    "canada.users"
   ]
  },
  {
   "cell_type": "code",
   "execution_count": null,
   "id": "ad9793e8-f133-4400-915a-c5f8bf62ebc0",
   "metadata": {},
   "outputs": [],
   "source": [
    "canada.users.create(**{\n",
    "        \"name\": \"Sheldon Cooper\",\n",
    "        \"email\": \"sheldon@caltech.edu\",\n",
    "        \"password\": \"bazinga\",\n",
    "        \"budget\": 1000,\n",
    "    }\n",
    ")"
   ]
  },
  {
   "cell_type": "code",
   "execution_count": null,
   "id": "814463ae-5646-4c9d-8caf-c87bda08cfb3",
   "metadata": {},
   "outputs": [],
   "source": [
    "canada.users"
   ]
  },
  {
   "cell_type": "code",
   "execution_count": null,
   "id": "6473e9cb-5a30-4f9d-921e-1f860c75a1fb",
   "metadata": {},
   "outputs": [],
   "source": [
    "data = sy.Tensor(np.array([1,2,3]))"
   ]
  },
  {
   "cell_type": "code",
   "execution_count": null,
   "id": "905ca8c7-941f-4b43-9927-7f3dea88b421",
   "metadata": {},
   "outputs": [],
   "source": [
    "phi_tensor = data.private(min_val=0,max_val=3,data_subjects=np.array([\"zerek\"]*3))"
   ]
  },
  {
   "cell_type": "code",
   "execution_count": null,
   "id": "85d3c81f-7438-4b0e-8f70-a3b82d89b269",
   "metadata": {},
   "outputs": [],
   "source": [
    "phi_tensor"
   ]
  },
  {
   "cell_type": "code",
   "execution_count": null,
   "id": "0c26743d-1816-4950-8b44-e37eeabc767f",
   "metadata": {},
   "outputs": [],
   "source": [
    "phi_ptr = phi_tensor.send(canada)"
   ]
  },
  {
   "cell_type": "code",
   "execution_count": null,
   "id": "93b317be-386c-49cd-acf2-0aba609335c1",
   "metadata": {},
   "outputs": [],
   "source": [
    "pub_res = phi_ptr.publish(sigma=1e5)"
   ]
  },
  {
   "cell_type": "code",
   "execution_count": null,
   "id": "d2a61eaa-624a-4839-b5dc-eb473486d514",
   "metadata": {},
   "outputs": [],
   "source": [
    "pub_res.get_copy()"
   ]
  },
  {
   "cell_type": "code",
   "execution_count": null,
   "id": "b7988793-2489-44a6-a89c-1ae8c37e326f",
   "metadata": {},
   "outputs": [],
   "source": [
    "canada.users"
   ]
  },
  {
   "cell_type": "code",
   "execution_count": null,
   "id": "3693aac2-7116-415d-9d6e-5f38bc0c59bc",
   "metadata": {},
   "outputs": [],
   "source": [
    "canada.users"
   ]
  },
  {
   "cell_type": "code",
   "execution_count": null,
   "id": "9ff575e7-5667-4a74-9039-cd8eadc0cf57",
   "metadata": {},
   "outputs": [],
   "source": [
    "from syft.core.node.common.node_service.user_manager.user_messages import (\n",
    "    UpdateUserMessage,\n",
    ")"
   ]
  },
  {
   "cell_type": "code",
   "execution_count": null,
   "id": "ef5719a3-86d1-4ac3-b90e-7f850e3b0e8f",
   "metadata": {},
   "outputs": [],
   "source": [
    "# Upgrade admins budget\n",
    "content = {\"user_id\": 1, \"budget\": 500}\n",
    "canada._perform_grid_request(grid_msg=UpdateUserMessage, content=content)"
   ]
  },
  {
   "cell_type": "code",
   "execution_count": null,
   "id": "53828c88-6a2d-43df-9bfd-e14f217c192b",
   "metadata": {},
   "outputs": [],
   "source": [
    "canada.users"
   ]
  }
 ],
 "metadata": {
  "kernelspec": {
   "display_name": "Python 3 (ipykernel)",
   "language": "python",
   "name": "python3"
  },
  "language_info": {
   "codemirror_mode": {
    "name": "ipython",
    "version": 3
   },
   "file_extension": ".py",
   "mimetype": "text/x-python",
   "name": "python",
   "nbconvert_exporter": "python",
   "pygments_lexer": "ipython3",
   "version": "3.9.13"
  }
 },
 "nbformat": 4,
 "nbformat_minor": 5
}

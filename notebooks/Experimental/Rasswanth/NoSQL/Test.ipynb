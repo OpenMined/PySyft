{
 "cells": [
  {
   "cell_type": "code",
   "execution_count": null,
   "id": "d908e5cd-7c61-4f20-815e-4d81983ff68f",
   "metadata": {},
   "outputs": [],
   "source": [
    "import syft as sy\n",
    "from pymongo import MongoClient"
   ]
  },
  {
   "cell_type": "code",
   "execution_count": null,
   "id": "5107d889-80c1-436a-b682-d5813896cf09",
   "metadata": {},
   "outputs": [],
   "source": [
    "d1 = sy.login(email=\"info@openmined.org\", password=\"changethis\",port=9082)\n",
    "d2 = sy.login(email=\"info@openmined.org\", password=\"changethis\",port=9083)\n",
    "network = sy.login(email=\"info@openmined.org\", password=\"changethis\",port=9081)"
   ]
  },
  {
   "cell_type": "code",
   "execution_count": null,
   "id": "76f6d5bb-fc8b-470b-abc7-ee1d91a7c42f",
   "metadata": {},
   "outputs": [],
   "source": [
    "network.association"
   ]
  },
  {
   "cell_type": "code",
   "execution_count": null,
   "id": "04db0828-0dd3-4f8e-913c-85b0f2f56133",
   "metadata": {},
   "outputs": [],
   "source": [
    "d1.association"
   ]
  },
  {
   "cell_type": "code",
   "execution_count": null,
   "id": "5d361f38-2bf2-4b9d-ae90-aee9be971637",
   "metadata": {},
   "outputs": [],
   "source": [
    "network.domains"
   ]
  },
  {
   "cell_type": "code",
   "execution_count": null,
   "id": "89e0ae7c-eb92-432c-89b9-7224366fbceb",
   "metadata": {},
   "outputs": [],
   "source": [
    "node_uid = d1.address.target_id.id"
   ]
  },
  {
   "cell_type": "code",
   "execution_count": null,
   "id": "6bfb8039-ee18-46ee-9169-53d4c8102ce4",
   "metadata": {},
   "outputs": [],
   "source": [
    "node_uid"
   ]
  },
  {
   "cell_type": "code",
   "execution_count": null,
   "id": "c7fe8823-8c55-40df-85b0-3b7f361533b1",
   "metadata": {},
   "outputs": [],
   "source": [
    "network.domains[node_uid]"
   ]
  },
  {
   "cell_type": "code",
   "execution_count": null,
   "id": "5a44fc42-7dcf-4d93-b0f8-5c841957805b",
   "metadata": {},
   "outputs": [],
   "source": [
    "type(network.domains)"
   ]
  }
 ],
 "metadata": {
  "kernelspec": {
   "display_name": "Python 3 (ipykernel)",
   "language": "python",
   "name": "python3"
  },
  "language_info": {
   "codemirror_mode": {
    "name": "ipython",
    "version": 3
   },
   "file_extension": ".py",
   "mimetype": "text/x-python",
   "name": "python",
   "nbconvert_exporter": "python",
   "pygments_lexer": "ipython3",
   "version": "3.9.13"
  }
 },
 "nbformat": 4,
 "nbformat_minor": 5
}

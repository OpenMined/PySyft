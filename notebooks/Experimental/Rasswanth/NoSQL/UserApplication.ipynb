{
 "cells": [
  {
   "cell_type": "code",
   "execution_count": 1,
   "id": "5b952041-dd79-44e2-bb14-4827c3c5f3b2",
   "metadata": {},
   "outputs": [
    {
     "name": "stderr",
     "output_type": "stream",
     "text": [
      "/Users/rasswanth/PySyft/.tox/syft.jupyter/lib/python3.9/site-packages/jax/_src/lib/__init__.py:33: UserWarning: JAX on Mac ARM machines is experimental and minimally tested. Please see https://github.com/google/jax/issues/5501 in the event of problems.\n",
      "  warnings.warn(\"JAX on Mac ARM machines is experimental and minimally tested. \"\n"
     ]
    }
   ],
   "source": [
    "import syft as sy\n",
    "from syft.core.node.common.node_manager.user_application_manager import NoSQLUserApplicationManager\n",
    "from syft.core.node.common.node_manager.user_manager import NoSQLUserManager\n",
    "from pymongo import MongoClient"
   ]
  },
  {
   "cell_type": "code",
   "execution_count": 2,
   "id": "80ccada6-924b-4994-bcef-471ee920498e",
   "metadata": {},
   "outputs": [
    {
     "name": "stdout",
     "output_type": "stream",
     "text": [
      "Valid DB\n"
     ]
    }
   ],
   "source": [
    "client = MongoClient(host='localhost', port=59417, username=\"root\", password=\"example\", uuidRepresentation=\"standard\")\n",
    "if client.server_info():\n",
    "    print(\"Valid DB\")\n",
    "    "
   ]
  },
  {
   "cell_type": "code",
   "execution_count": 3,
   "id": "60b70b53-8f4e-4ed3-9902-ccf69e88055a",
   "metadata": {},
   "outputs": [],
   "source": [
    "db = client"
   ]
  },
  {
   "cell_type": "code",
   "execution_count": 4,
   "id": "7eabc5ef-b72f-4b95-b0a6-5497f23879b0",
   "metadata": {},
   "outputs": [
    {
     "data": {
      "text/plain": [
       "['shylock', 'setup', 'syft_users']"
      ]
     },
     "execution_count": 4,
     "metadata": {},
     "output_type": "execute_result"
    }
   ],
   "source": [
    "db[\"app\"].list_collection_names()"
   ]
  },
  {
   "cell_type": "code",
   "execution_count": 5,
   "id": "b2066561-159d-45bc-b6fc-dff0e3e88846",
   "metadata": {},
   "outputs": [],
   "source": [
    "user_app = NoSQLUserApplicationManager(db,\"app\")\n",
    "user_manager = NoSQLUserManager(db,\"app\")"
   ]
  },
  {
   "cell_type": "code",
   "execution_count": 2,
   "id": "c094b637-e0fc-4f49-85bf-39b2071fa918",
   "metadata": {},
   "outputs": [
    {
     "name": "stdout",
     "output_type": "stream",
     "text": [
      "WARNING: CHANGE YOUR USERNAME AND PASSWORD!!! \n",
      "\n",
      "Anyone can login as an admin to your node right now because your password is still the default PySyft username and password!!!\n",
      "\n",
      "Connecting to localhost... done! \t Logging into test_domain_1... done!\n"
     ]
    }
   ],
   "source": [
    "canada = sy.login(email=\"info@openmined.org\",password=\"changethis\",port=8081)"
   ]
  },
  {
   "cell_type": "code",
   "execution_count": 3,
   "id": "654b44d7-093b-4248-98ba-9ff8d512d5d9",
   "metadata": {},
   "outputs": [
    {
     "data": {
      "text/html": [
       "<div>\n",
       "<style scoped>\n",
       "    .dataframe tbody tr th:only-of-type {\n",
       "        vertical-align: middle;\n",
       "    }\n",
       "\n",
       "    .dataframe tbody tr th {\n",
       "        vertical-align: top;\n",
       "    }\n",
       "\n",
       "    .dataframe thead th {\n",
       "        text-align: right;\n",
       "    }\n",
       "</style>\n",
       "<table border=\"1\" class=\"dataframe\">\n",
       "  <thead>\n",
       "    <tr style=\"text-align: right;\">\n",
       "      <th></th>\n",
       "      <th>email</th>\n",
       "      <th>name</th>\n",
       "      <th>budget</th>\n",
       "      <th>verify_key</th>\n",
       "      <th>role</th>\n",
       "      <th>added_by</th>\n",
       "      <th>website</th>\n",
       "      <th>institution</th>\n",
       "      <th>daa_pdf</th>\n",
       "      <th>created_at</th>\n",
       "      <th>id_int</th>\n",
       "      <th>budget_spent</th>\n",
       "    </tr>\n",
       "  </thead>\n",
       "  <tbody>\n",
       "    <tr>\n",
       "      <th>0</th>\n",
       "      <td>info@openmined.org</td>\n",
       "      <td>Jane Doe</td>\n",
       "      <td>5.55</td>\n",
       "      <td>37f571addbbe06d422bb6304f69ab50a91e9498d31f44c...</td>\n",
       "      <td>Owner</td>\n",
       "      <td></td>\n",
       "      <td></td>\n",
       "      <td></td>\n",
       "      <td>None</td>\n",
       "      <td>2022-09-12 04:36:25.335846</td>\n",
       "      <td>1</td>\n",
       "      <td>5.55</td>\n",
       "    </tr>\n",
       "    <tr>\n",
       "      <th>1</th>\n",
       "      <td>sheldon@caltech.edu</td>\n",
       "      <td>Sheldon Cooper</td>\n",
       "      <td>100.00</td>\n",
       "      <td>6d3ca1f8a09e7be620c179e96c36389c9d36e618824f2d...</td>\n",
       "      <td>Data Scientist</td>\n",
       "      <td>Jane Doe</td>\n",
       "      <td></td>\n",
       "      <td></td>\n",
       "      <td>b''</td>\n",
       "      <td>2022-09-12 04:36:56.486177</td>\n",
       "      <td>2</td>\n",
       "      <td>100.00</td>\n",
       "    </tr>\n",
       "  </tbody>\n",
       "</table>\n",
       "</div>"
      ],
      "text/plain": [
       "<syft.core.node.common.client_manager.user_api.UserRequestAPI at 0x28b2dca00>"
      ]
     },
     "execution_count": 3,
     "metadata": {},
     "output_type": "execute_result"
    }
   ],
   "source": [
    "canada.users"
   ]
  },
  {
   "cell_type": "code",
   "execution_count": 25,
   "id": "dcabc897-43f6-43d3-a1d5-e11a7d394307",
   "metadata": {},
   "outputs": [
    {
     "data": {
      "text/plain": [
       "[{'email': 'info@openmined.org',\n",
       "  'name': 'Jane Doe',\n",
       "  'budget': 5.55,\n",
       "  'verify_key': '3c493921d0f93c089ed75f7f759ed68af57423bc3d3e17bdd6c07647dbb27737',\n",
       "  'role': 'Owner',\n",
       "  'added_by': '',\n",
       "  'website': '',\n",
       "  'institution': '',\n",
       "  'daa_pdf': b'',\n",
       "  'created_at': '2022-09-12 04:22:52.769517',\n",
       "  'id_int': 1,\n",
       "  'budget_spent': 5.55},\n",
       " {'email': 'sheldon@caltech.edu',\n",
       "  'name': 'Sheldon Cooper',\n",
       "  'budget': 100.0,\n",
       "  'verify_key': '02d94cfb3faaa0e6cce9694d7eba6b0543d94e06476dfec4b3f4871ce07377f1',\n",
       "  'role': 'Data Scientist',\n",
       "  'added_by': 'Jane Doe',\n",
       "  'website': '',\n",
       "  'institution': '',\n",
       "  'daa_pdf': b'',\n",
       "  'created_at': '2022-09-12 04:23:26.974053',\n",
       "  'id_int': 2,\n",
       "  'budget_spent': 100.0}]"
      ]
     },
     "execution_count": 25,
     "metadata": {},
     "output_type": "execute_result"
    }
   ],
   "source": [
    "sy.deserialize(sy.serialize(canada.users.all(),to_bytes=True),from_bytes=True)"
   ]
  },
  {
   "cell_type": "code",
   "execution_count": null,
   "id": "10b6590f-3e5f-468f-9494-fb015d0cd378",
   "metadata": {},
   "outputs": [],
   "source": [
    "canada.create_user(\n",
    "            name=\"Sam Carter\",\n",
    "            email=\"sam@stargate.net\",\n",
    "            password=\"changethis\",\n",
    "            budget=9999,\n",
    "        )"
   ]
  },
  {
   "cell_type": "code",
   "execution_count": 16,
   "id": "7c52843e-bf64-47d7-a079-6576453cb495",
   "metadata": {},
   "outputs": [
    {
     "data": {
      "text/html": [
       "<div>\n",
       "<style scoped>\n",
       "    .dataframe tbody tr th:only-of-type {\n",
       "        vertical-align: middle;\n",
       "    }\n",
       "\n",
       "    .dataframe tbody tr th {\n",
       "        vertical-align: top;\n",
       "    }\n",
       "\n",
       "    .dataframe thead th {\n",
       "        text-align: right;\n",
       "    }\n",
       "</style>\n",
       "<table border=\"1\" class=\"dataframe\">\n",
       "  <thead>\n",
       "    <tr style=\"text-align: right;\">\n",
       "      <th></th>\n",
       "      <th>email</th>\n",
       "      <th>name</th>\n",
       "      <th>budget</th>\n",
       "      <th>verify_key</th>\n",
       "      <th>role</th>\n",
       "      <th>added_by</th>\n",
       "      <th>website</th>\n",
       "      <th>institution</th>\n",
       "      <th>daa_pdf</th>\n",
       "      <th>created_at</th>\n",
       "      <th>id_int</th>\n",
       "      <th>budget_spent</th>\n",
       "    </tr>\n",
       "  </thead>\n",
       "  <tbody>\n",
       "    <tr>\n",
       "      <th>0</th>\n",
       "      <td>info@openmined.org</td>\n",
       "      <td>Jane Doe</td>\n",
       "      <td>5.55</td>\n",
       "      <td>45df20e8815115180c71fa96c026d5827d9c33df7a69bb...</td>\n",
       "      <td>Owner</td>\n",
       "      <td></td>\n",
       "      <td></td>\n",
       "      <td></td>\n",
       "      <td>b''</td>\n",
       "      <td>2022-09-12 03:21:00.615259</td>\n",
       "      <td>1</td>\n",
       "      <td>5.55</td>\n",
       "    </tr>\n",
       "  </tbody>\n",
       "</table>\n",
       "</div>"
      ],
      "text/plain": [
       "<syft.core.node.common.client_manager.user_api.UserRequestAPI at 0x2a7718550>"
      ]
     },
     "execution_count": 16,
     "metadata": {},
     "output_type": "execute_result"
    }
   ],
   "source": [
    "canada.users"
   ]
  },
  {
   "cell_type": "code",
   "execution_count": 9,
   "id": "1478c5d0-8403-4469-b8f4-412962e9926d",
   "metadata": {},
   "outputs": [
    {
     "data": {
      "text/plain": [
       "syft.core.node.common.client_manager.user_api.UserRequestAPI"
      ]
     },
     "execution_count": 9,
     "metadata": {},
     "output_type": "execute_result"
    }
   ],
   "source": [
    "type(canada.users)"
   ]
  },
  {
   "cell_type": "code",
   "execution_count": null,
   "id": "07ea5ed0-51d5-4621-9377-d0e19a361dfa",
   "metadata": {},
   "outputs": [],
   "source": [
    "ds =sy.login(email=\"sheldon@caltech.edu\",password=\"bazinga\",port=8081)"
   ]
  },
  {
   "cell_type": "code",
   "execution_count": 11,
   "id": "5875a641-db37-456e-805b-724a2fa0a7ed",
   "metadata": {},
   "outputs": [
    {
     "data": {
      "text/plain": [
       "syft.core.node.common.client_manager.user_api.UserRequestAPI"
      ]
     },
     "execution_count": 11,
     "metadata": {},
     "output_type": "execute_result"
    }
   ],
   "source": [
    "type(canada.users)"
   ]
  }
 ],
 "metadata": {
  "kernelspec": {
   "display_name": "Python 3 (ipykernel)",
   "language": "python",
   "name": "python3"
  },
  "language_info": {
   "codemirror_mode": {
    "name": "ipython",
    "version": 3
   },
   "file_extension": ".py",
   "mimetype": "text/x-python",
   "name": "python",
   "nbconvert_exporter": "python",
   "pygments_lexer": "ipython3",
   "version": "3.9.13"
  }
 },
 "nbformat": 4,
 "nbformat_minor": 5
}

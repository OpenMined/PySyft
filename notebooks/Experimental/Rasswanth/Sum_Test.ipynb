{
 "cells": [
  {
   "cell_type": "code",
   "execution_count": 1,
   "id": "949c1b92-0d6d-440e-affc-176e99ff9dd0",
   "metadata": {},
   "outputs": [],
   "source": [
    "%load_ext autoreload\n",
    "%autoreload 2\n",
    "import syft as sy\n",
    "import numpy as np\n",
    "import torch"
   ]
  },
  {
   "cell_type": "code",
   "execution_count": null,
   "id": "dda7b293-9bf2-44b6-8b83-f63d88f73d86",
   "metadata": {},
   "outputs": [],
   "source": [
    "a =  torch.arange(4 * 5 * 6).view(4,5,6)"
   ]
  },
  {
   "cell_type": "code",
   "execution_count": null,
   "id": "2fe1988f-2aec-42ec-bb7a-976df45cd569",
   "metadata": {},
   "outputs": [],
   "source": [
    "torch.sum(a,(2,1))"
   ]
  },
  {
   "cell_type": "code",
   "execution_count": null,
   "id": "fd5253c0-e123-4cea-a3c1-37ec28f0f41f",
   "metadata": {},
   "outputs": [],
   "source": [
    "b = np.arange(4 * 5 * 6).reshape((4,5,6))"
   ]
  },
  {
   "cell_type": "code",
   "execution_count": null,
   "id": "ee75e05c-2d6f-47c4-aed1-a6df8807bf06",
   "metadata": {},
   "outputs": [],
   "source": [
    "np.ones_like(b,dtype=np.int32).dtype"
   ]
  },
  {
   "cell_type": "code",
   "execution_count": null,
   "id": "412f61f1-4d6f-4710-b915-7c026be05c62",
   "metadata": {},
   "outputs": [],
   "source": [
    "import numpy"
   ]
  },
  {
   "cell_type": "code",
   "execution_count": null,
   "id": "72ef8de6-c6d2-4c73-b101-d5be7e9cdee0",
   "metadata": {},
   "outputs": [],
   "source": [
    "type(numpy.int64)"
   ]
  },
  {
   "cell_type": "code",
   "execution_count": null,
   "id": "4b96862d-0b5d-4b5b-840b-d5ec25201e20",
   "metadata": {},
   "outputs": [],
   "source": [
    "print(b.sum.__doc__)"
   ]
  },
  {
   "cell_type": "code",
   "execution_count": null,
   "id": "4f15d0b6-ab3f-49f2-aee9-f20343914ac2",
   "metadata": {},
   "outputs": [],
   "source": [
    "b.sum((2,1))"
   ]
  },
  {
   "cell_type": "code",
   "execution_count": 2,
   "id": "35b0764e-d2e9-4c4a-ae56-2008c36fb2fc",
   "metadata": {},
   "outputs": [
    {
     "name": "stdout",
     "output_type": "stream",
     "text": [
      "WARNING: CHANGE YOUR USERNAME AND PASSWORD!!! \n",
      "\n",
      "Anyone can login as an admin to your node right now because your password is still the default PySyft username and password!!!\n",
      "\n",
      "Connecting to localhost... done! \t Logging into canada... done!\n",
      "WARNING: CHANGE YOUR USERNAME AND PASSWORD!!! \n",
      "\n",
      "Anyone can login as an admin to your node right now because your password is still the default PySyft username and password!!!\n",
      "\n",
      "Connecting to localhost... done! \t Logging into italy... done!\n"
     ]
    }
   ],
   "source": [
    "ca = sy.login(email=\"info@openmined.org\",password=\"changethis\",port=8081)\n",
    "it = sy.login(email=\"info@openmined.org\",password=\"changethis\",port=8082)"
   ]
  },
  {
   "cell_type": "code",
   "execution_count": 3,
   "id": "e0e46caf-9402-4908-9cd4-fa1294171843",
   "metadata": {},
   "outputs": [],
   "source": [
    "data  = np.arange(4 * 5 * 6).reshape((4,5,6))\n",
    "phi_tensor = sy.Tensor(data).private(min_val=0,max_val=100, data_subjects=[\"natsu\"]*data.shape[0])"
   ]
  },
  {
   "cell_type": "code",
   "execution_count": 4,
   "id": "dd26662d-1750-4389-8d30-7f0b122b3a80",
   "metadata": {},
   "outputs": [
    {
     "name": "stderr",
     "output_type": "stream",
     "text": [
      "kj/filesystem-disk-unix.c++:1690: warning: PWD environment variable doesn't match current directory; pwd = /home/azureuser/PySyft\n",
      "Uploading `f54c6efabfd643da9738988322f4058c`: 100%|\u001b[32m██████████████████\u001b[0m| 1/1 [00:00<00:00, 243.70it/s]\u001b[0m\n"
     ]
    }
   ],
   "source": [
    "ptr = phi_tensor.send(ca)"
   ]
  },
  {
   "cell_type": "code",
   "execution_count": 9,
   "id": "3f0e9e0c-7d34-4b91-a034-bb77719234b0",
   "metadata": {},
   "outputs": [
    {
     "data": {
      "text/plain": [
       "Tensor(child=PhiTensor(child=[[[1 1 1 1 1 1]\n",
       "  [1 1 1 1 1 1]\n",
       "  [1 1 1 1 1 1]\n",
       "  [1 1 1 1 1 1]\n",
       "  [1 1 1 1 1 1]]\n",
       "\n",
       " [[1 1 1 1 1 1]\n",
       "  [1 1 1 1 1 1]\n",
       "  [1 1 1 1 1 1]\n",
       "  [1 1 1 1 1 1]\n",
       "  [1 1 1 1 1 1]]\n",
       "\n",
       " [[1 1 1 1 1 1]\n",
       "  [1 1 1 1 1 1]\n",
       "  [1 1 1 1 1 1]\n",
       "  [1 1 1 1 1 1]\n",
       "  [1 1 1 1 1 1]]\n",
       "\n",
       " [[1 1 1 1 1 1]\n",
       "  [1 1 1 1 1 1]\n",
       "  [1 1 1 1 1 1]\n",
       "  [1 1 1 1 1 1]\n",
       "  [1 1 1 1 1 1]]], min_vals=<lazyrepeatarray data: [[[1 1 1 1 1 1]\n",
       "  [1 1 1 1 1 1]\n",
       "  [1 1 1 1 1 1]\n",
       "  [1 1 1 1 1 1]\n",
       "  [1 1 1 1 1 1]]\n",
       "\n",
       " [[1 1 1 1 1 1]\n",
       "  [1 1 1 1 1 1]\n",
       "  [1 1 1 1 1 1]\n",
       "  [1 1 1 1 1 1]\n",
       "  [1 1 1 1 1 1]]\n",
       "\n",
       " [[1 1 1 1 1 1]\n",
       "  [1 1 1 1 1 1]\n",
       "  [1 1 1 1 1 1]\n",
       "  [1 1 1 1 1 1]\n",
       "  [1 1 1 1 1 1]]\n",
       "\n",
       " [[1 1 1 1 1 1]\n",
       "  [1 1 1 1 1 1]\n",
       "  [1 1 1 1 1 1]\n",
       "  [1 1 1 1 1 1]\n",
       "  [1 1 1 1 1 1]]] -> shape: (4, 5, 6)>, max_vals=<lazyrepeatarray data: [[[1 1 1 1 1 1]\n",
       "  [1 1 1 1 1 1]\n",
       "  [1 1 1 1 1 1]\n",
       "  [1 1 1 1 1 1]\n",
       "  [1 1 1 1 1 1]]\n",
       "\n",
       " [[1 1 1 1 1 1]\n",
       "  [1 1 1 1 1 1]\n",
       "  [1 1 1 1 1 1]\n",
       "  [1 1 1 1 1 1]\n",
       "  [1 1 1 1 1 1]]\n",
       "\n",
       " [[1 1 1 1 1 1]\n",
       "  [1 1 1 1 1 1]\n",
       "  [1 1 1 1 1 1]\n",
       "  [1 1 1 1 1 1]\n",
       "  [1 1 1 1 1 1]]\n",
       "\n",
       " [[1 1 1 1 1 1]\n",
       "  [1 1 1 1 1 1]\n",
       "  [1 1 1 1 1 1]\n",
       "  [1 1 1 1 1 1]\n",
       "  [1 1 1 1 1 1]]] -> shape: (4, 5, 6)>))"
      ]
     },
     "execution_count": 9,
     "metadata": {},
     "output_type": "execute_result"
    }
   ],
   "source": [
    "np.ones_like(ptr).block.get_copy()"
   ]
  },
  {
   "cell_type": "code",
   "execution_count": null,
   "id": "678504d9-408d-4cd2-b293-0fcade2cc5b1",
   "metadata": {},
   "outputs": [],
   "source": [
    "type(ptr)"
   ]
  },
  {
   "cell_type": "code",
   "execution_count": null,
   "id": "cf3847b4-1cb6-4799-a4fc-03d66481c3f3",
   "metadata": {},
   "outputs": [],
   "source": [
    "res"
   ]
  },
  {
   "cell_type": "code",
   "execution_count": null,
   "id": "3af19d97-b366-44fb-a48e-3bdcff2761a9",
   "metadata": {},
   "outputs": [],
   "source": [
    "v.shape"
   ]
  },
  {
   "cell_type": "code",
   "execution_count": 10,
   "id": "5937f21d-1dc0-468f-a48f-38ed606c29a1",
   "metadata": {},
   "outputs": [],
   "source": [
    "gamma_tensor  = sy.Tensor(phi_tensor.child.gamma)"
   ]
  },
  {
   "cell_type": "code",
   "execution_count": 11,
   "id": "5ca7ffef-06ab-4179-94c6-e037ec9f8d97",
   "metadata": {},
   "outputs": [
    {
     "name": "stderr",
     "output_type": "stream",
     "text": [
      "Uploading `41300cd0ee2741739ed2a0e7d0816873`: 100%|\u001b[32m██████████████████\u001b[0m| 1/1 [00:00<00:00, 261.08it/s]\u001b[0m\n"
     ]
    }
   ],
   "source": [
    "gamma_ptr = gamma_tensor.send(ca)"
   ]
  },
  {
   "cell_type": "code",
   "execution_count": 12,
   "id": "7502d818-89b9-4c48-8bac-5fbf5de356e6",
   "metadata": {},
   "outputs": [
    {
     "data": {
      "text/plain": [
       "Tensor(child=GammaTensor(child=array([[[1, 1, 1, 1, 1, 1],\n",
       "        [1, 1, 1, 1, 1, 1],\n",
       "        [1, 1, 1, 1, 1, 1],\n",
       "        [1, 1, 1, 1, 1, 1],\n",
       "        [1, 1, 1, 1, 1, 1]],\n",
       "\n",
       "       [[1, 1, 1, 1, 1, 1],\n",
       "        [1, 1, 1, 1, 1, 1],\n",
       "        [1, 1, 1, 1, 1, 1],\n",
       "        [1, 1, 1, 1, 1, 1],\n",
       "        [1, 1, 1, 1, 1, 1]],\n",
       "\n",
       "       [[1, 1, 1, 1, 1, 1],\n",
       "        [1, 1, 1, 1, 1, 1],\n",
       "        [1, 1, 1, 1, 1, 1],\n",
       "        [1, 1, 1, 1, 1, 1],\n",
       "        [1, 1, 1, 1, 1, 1]],\n",
       "\n",
       "       [[1, 1, 1, 1, 1, 1],\n",
       "        [1, 1, 1, 1, 1, 1],\n",
       "        [1, 1, 1, 1, 1, 1],\n",
       "        [1, 1, 1, 1, 1, 1],\n",
       "        [1, 1, 1, 1, 1, 1]]]), data_subjects=<syft.core.adp.data_subject_list.DataSubjectList object at 0x7fdaa11383a0>, min_val=<lazyrepeatarray data: [[[1 1 1 1 1 1]\n",
       "  [1 1 1 1 1 1]\n",
       "  [1 1 1 1 1 1]\n",
       "  [1 1 1 1 1 1]\n",
       "  [1 1 1 1 1 1]]\n",
       "\n",
       " [[1 1 1 1 1 1]\n",
       "  [1 1 1 1 1 1]\n",
       "  [1 1 1 1 1 1]\n",
       "  [1 1 1 1 1 1]\n",
       "  [1 1 1 1 1 1]]\n",
       "\n",
       " [[1 1 1 1 1 1]\n",
       "  [1 1 1 1 1 1]\n",
       "  [1 1 1 1 1 1]\n",
       "  [1 1 1 1 1 1]\n",
       "  [1 1 1 1 1 1]]\n",
       "\n",
       " [[1 1 1 1 1 1]\n",
       "  [1 1 1 1 1 1]\n",
       "  [1 1 1 1 1 1]\n",
       "  [1 1 1 1 1 1]\n",
       "  [1 1 1 1 1 1]]] -> shape: (4, 5, 6)>, max_val=<lazyrepeatarray data: [[[1 1 1 1 1 1]\n",
       "  [1 1 1 1 1 1]\n",
       "  [1 1 1 1 1 1]\n",
       "  [1 1 1 1 1 1]\n",
       "  [1 1 1 1 1 1]]\n",
       "\n",
       " [[1 1 1 1 1 1]\n",
       "  [1 1 1 1 1 1]\n",
       "  [1 1 1 1 1 1]\n",
       "  [1 1 1 1 1 1]\n",
       "  [1 1 1 1 1 1]]\n",
       "\n",
       " [[1 1 1 1 1 1]\n",
       "  [1 1 1 1 1 1]\n",
       "  [1 1 1 1 1 1]\n",
       "  [1 1 1 1 1 1]\n",
       "  [1 1 1 1 1 1]]\n",
       "\n",
       " [[1 1 1 1 1 1]\n",
       "  [1 1 1 1 1 1]\n",
       "  [1 1 1 1 1 1]\n",
       "  [1 1 1 1 1 1]\n",
       "  [1 1 1 1 1 1]]] -> shape: (4, 5, 6)>, is_linear=True, func=<function no_op at 0x7fdaa2909790>, id='1461404227', state={'2051316581': GammaTensor(child=array([[[  0,   1,   2,   3,   4,   5],\n",
       "        [  6,   7,   8,   9,  10,  11],\n",
       "        [ 12,  13,  14,  15,  16,  17],\n",
       "        [ 18,  19,  20,  21,  22,  23],\n",
       "        [ 24,  25,  26,  27,  28,  29]],\n",
       "\n",
       "       [[ 30,  31,  32,  33,  34,  35],\n",
       "        [ 36,  37,  38,  39,  40,  41],\n",
       "        [ 42,  43,  44,  45,  46,  47],\n",
       "        [ 48,  49,  50,  51,  52,  53],\n",
       "        [ 54,  55,  56,  57,  58,  59]],\n",
       "\n",
       "       [[ 60,  61,  62,  63,  64,  65],\n",
       "        [ 66,  67,  68,  69,  70,  71],\n",
       "        [ 72,  73,  74,  75,  76,  77],\n",
       "        [ 78,  79,  80,  81,  82,  83],\n",
       "        [ 84,  85,  86,  87,  88,  89]],\n",
       "\n",
       "       [[ 90,  91,  92,  93,  94,  95],\n",
       "        [ 96,  97,  98,  99, 100, 101],\n",
       "        [102, 103, 104, 105, 106, 107],\n",
       "        [108, 109, 110, 111, 112, 113],\n",
       "        [114, 115, 116, 117, 118, 119]]]), data_subjects=<syft.core.adp.data_subject_list.DataSubjectList object at 0x7fdaa1138820>, min_val=<lazyrepeatarray data: [0] -> shape: (4, 5, 6)>, max_val=<lazyrepeatarray data: [100] -> shape: (4, 5, 6)>, is_linear=True, func=<function no_op at 0x7fdaa2909790>, id='2051316581', state={})}))"
      ]
     },
     "execution_count": 12,
     "metadata": {},
     "output_type": "execute_result"
    }
   ],
   "source": [
    "np.ones_like(gamma_ptr).block.get_copy()"
   ]
  },
  {
   "cell_type": "code",
   "execution_count": null,
   "id": "9f3d62ec-f9c7-4bbb-b802-028f55326dd8",
   "metadata": {},
   "outputs": [],
   "source": [
    "v1 = gamma_re.get_copy()"
   ]
  },
  {
   "cell_type": "code",
   "execution_count": null,
   "id": "dad7efc8-eff1-41d5-8160-7608ca924923",
   "metadata": {},
   "outputs": [],
   "source": [
    "v1.child.max_val"
   ]
  },
  {
   "cell_type": "code",
   "execution_count": null,
   "id": "477b88a9-89b1-4563-bc56-8af7285cdc2e",
   "metadata": {},
   "outputs": [],
   "source": [
    "network  = sy.login(email=\"info@openmined.org\",password=\"changethis\",url=\"20.241.208.42\")"
   ]
  },
  {
   "cell_type": "code",
   "execution_count": null,
   "id": "d00e8041-2a76-4a92-95a5-5337ef4b4258",
   "metadata": {},
   "outputs": [],
   "source": [
    "ca.apply_to_network(network)"
   ]
  },
  {
   "cell_type": "code",
   "execution_count": null,
   "id": "77d8207f-b5c9-4022-92fb-3ad94fb47786",
   "metadata": {},
   "outputs": [],
   "source": [
    "sy.networks[\"GovAI Network 16\"]"
   ]
  }
 ],
 "metadata": {
  "kernelspec": {
   "display_name": "Python 3 (ipykernel)",
   "language": "python",
   "name": "python3"
  },
  "language_info": {
   "codemirror_mode": {
    "name": "ipython",
    "version": 3
   },
   "file_extension": ".py",
   "mimetype": "text/x-python",
   "name": "python",
   "nbconvert_exporter": "python",
   "pygments_lexer": "ipython3",
   "version": "3.9.4"
  }
 },
 "nbformat": 4,
 "nbformat_minor": 5
}

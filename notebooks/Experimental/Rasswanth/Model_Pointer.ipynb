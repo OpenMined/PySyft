{
 "cells": [
  {
   "cell_type": "code",
   "execution_count": null,
   "id": "15add2e6-8190-4228-820b-e12af67c78e6",
   "metadata": {},
   "outputs": [],
   "source": [
    "%load_ext autoreload\n",
    "%autoreload 2\n",
    "import syft as sy\n",
    "from syft.core.tensor import nn\n",
    "from syft.core.tensor.autodp.phi_tensor import PhiTensor\n",
    "import numpy as np"
   ]
  },
  {
   "cell_type": "code",
   "execution_count": null,
   "id": "3058665a-8f08-4d20-9624-0bce1f55fb75",
   "metadata": {},
   "outputs": [],
   "source": [
    "net = nn.Model()\n",
    "net.add(nn.Convolution(1, (3, 3), input_shape=(None, 1, 28, 28)))\n",
    "net.add(nn.Convolution(2, (4, 4)))\n",
    "net.add(nn.Flatten())\n",
    "net.compile()\n"
   ]
  },
  {
   "cell_type": "code",
   "execution_count": null,
   "id": "38778a3e-d51f-43ba-842a-8e5ba33630a5",
   "metadata": {},
   "outputs": [],
   "source": [
    "N = 10\n",
    "C_in = 3\n",
    "H_in = 28\n",
    "W_in = 28\n",
    "\n",
    "\n",
    "input_shape = (N, C_in, H_in, W_in)\n",
    "x = PhiTensor(child=np.random.randint(low=0, high=255, size=input_shape),\n",
    "              data_subjects=np.zeros(input_shape),\n",
    "              min_vals=0,\n",
    "              max_vals=255\n",
    "             )\n",
    "y = PhiTensor(child=np.random.randint(low=0, high=2, size=input_shape),\n",
    "                  data_subjects=np.zeros(input_shape),\n",
    "                  min_vals=0,\n",
    "                  max_vals=1\n",
    "             )"
   ]
  },
  {
   "cell_type": "code",
   "execution_count": null,
   "id": "994da91a-ca91-4b46-84fe-01a1b4861ac3",
   "metadata": {},
   "outputs": [],
   "source": [
    "domain = sy.login(email=\"info@openmined.org\",password=\"changethis\",port=8081)"
   ]
  },
  {
   "cell_type": "code",
   "execution_count": null,
   "id": "1715c089-1950-491f-aac4-47194bcaa34b",
   "metadata": {},
   "outputs": [],
   "source": [
    "model_ptr = net.send(domain)"
   ]
  },
  {
   "cell_type": "code",
   "execution_count": null,
   "id": "954503bf-c7fc-4ee8-8546-b3a456a7efd4",
   "metadata": {},
   "outputs": [],
   "source": [
    "model_ptr"
   ]
  },
  {
   "cell_type": "code",
   "execution_count": null,
   "id": "08e08db7-570f-4800-9f43-877c6f0f8d16",
   "metadata": {},
   "outputs": [],
   "source": [
    "x_t = sy.Tensor(x)\n",
    "y_t = sy.Tensor(y)\n"
   ]
  },
  {
   "cell_type": "code",
   "execution_count": null,
   "id": "a989e539-cd16-41b5-8a61-b21af59ebfbf",
   "metadata": {},
   "outputs": [],
   "source": [
    "model_ptr.fit(x_t,y_t)"
   ]
  },
  {
   "cell_type": "code",
   "execution_count": null,
   "id": "38b0c86b-6c90-4283-b349-8f7bb060655b",
   "metadata": {},
   "outputs": [],
   "source": [
    "net.fit(x,y)"
   ]
  },
  {
   "cell_type": "code",
   "execution_count": null,
   "id": "27fb4fe9-b258-4085-bc14-35fcccc6adac",
   "metadata": {},
   "outputs": [],
   "source": [
    "net.optimizer."
   ]
  },
  {
   "cell_type": "code",
   "execution_count": null,
   "id": "ad023652-f9e4-43eb-a2b1-0498241afcb8",
   "metadata": {},
   "outputs": [],
   "source": [
    "net.layers[0].grads"
   ]
  },
  {
   "cell_type": "code",
   "execution_count": null,
   "id": "54f78125-4dcf-452d-911c-815c363f113c",
   "metadata": {},
   "outputs": [],
   "source": [
    "net.optimizer"
   ]
  },
  {
   "cell_type": "code",
   "execution_count": null,
   "id": "db2c30dc-70ea-4f6a-acbc-fb74c1a49d60",
   "metadata": {},
   "outputs": [],
   "source": [
    "model_ptr"
   ]
  },
  {
   "cell_type": "code",
   "execution_count": null,
   "id": "4fdce159-6f66-4290-838e-5087a015f83d",
   "metadata": {},
   "outputs": [],
   "source": [
    "x.shape"
   ]
  },
  {
   "cell_type": "code",
   "execution_count": null,
   "id": "a2b84d24-100b-477f-892e-704583ed472d",
   "metadata": {},
   "outputs": [],
   "source": [
    "net.layers[0].X_col.shape"
   ]
  },
  {
   "cell_type": "code",
   "execution_count": null,
   "id": "46103884-c2ec-41e7-830b-5d176bd5bd12",
   "metadata": {},
   "outputs": [],
   "source": [
    "net.layers[0].W.reshape((3,-1)).shape"
   ]
  },
  {
   "cell_type": "code",
   "execution_count": null,
   "id": "a1234c66-6be9-40bb-baa0-f4f55f0f336d",
   "metadata": {},
   "outputs": [],
   "source": [
    "net.layers[0].forward(x)"
   ]
  },
  {
   "cell_type": "code",
   "execution_count": null,
   "id": "45788794-9596-4da3-aac9-3b09ee20472b",
   "metadata": {},
   "outputs": [],
   "source": [
    "x.data_subjects.data_subjects_indexed"
   ]
  },
  {
   "cell_type": "code",
   "execution_count": null,
   "id": "7a74fd4b-b874-4d3c-8a4d-891fd21454db",
   "metadata": {},
   "outputs": [],
   "source": [
    "# forward propagation\n",
    "y_pred = net.predict(x)"
   ]
  },
  {
   "cell_type": "code",
   "execution_count": null,
   "id": "8868e8fc-d88f-482d-a3fb-48da7762c447",
   "metadata": {},
   "outputs": [],
   "source": [
    "# backward propagation\n",
    "next_grad = net.loss.backward(y_pred, y_batch)"
   ]
  },
  {
   "cell_type": "code",
   "execution_count": null,
   "id": "8d92936d-50ac-4363-93ef-e160d226cc80",
   "metadata": {},
   "outputs": [],
   "source": [
    "for layer in se.layers[::-1]:\n",
    "    next_grad = layer.backward(next_grad)"
   ]
  },
  {
   "cell_type": "code",
   "execution_count": null,
   "id": "3d45c74f-adb0-4483-90e7-ebae0d8454b4",
   "metadata": {},
   "outputs": [],
   "source": [
    "# get parameter and gradients\n",
    "params = []\n",
    "grads = []\n",
    "for layer in self.layers:\n",
    "    params += layer.params\n",
    "    grads += layer.grads"
   ]
  },
  {
   "cell_type": "code",
   "execution_count": null,
   "id": "737b02e1-76be-40ea-8332-969bd42672e5",
   "metadata": {},
   "outputs": [],
   "source": [
    "# update parameters\n",
    "self.optimizer.update(params, grads)"
   ]
  },
  {
   "cell_type": "code",
   "execution_count": null,
   "id": "df0eed34-d69e-4ac6-b023-eeae48c35698",
   "metadata": {},
   "outputs": [],
   "source": []
  },
  {
   "cell_type": "code",
   "execution_count": null,
   "id": "3f366170-fe06-4186-b19d-9537a497e805",
   "metadata": {},
   "outputs": [],
   "source": []
  },
  {
   "cell_type": "code",
   "execution_count": null,
   "id": "2bd8617e-fc4a-4010-9224-8a542cffe1ca",
   "metadata": {},
   "outputs": [],
   "source": []
  },
  {
   "cell_type": "code",
   "execution_count": null,
   "id": "b122e18c-0ef5-402e-925a-9ca9a19274a8",
   "metadata": {},
   "outputs": [],
   "source": []
  },
  {
   "cell_type": "code",
   "execution_count": null,
   "id": "8dca2738-bad9-429b-b709-b8c15aa1aead",
   "metadata": {},
   "outputs": [],
   "source": []
  },
  {
   "cell_type": "code",
   "execution_count": null,
   "id": "10fc4a00-b8d2-48d9-8971-3b50b772cccc",
   "metadata": {},
   "outputs": [],
   "source": []
  }
 ],
 "metadata": {
  "kernelspec": {
   "display_name": "Python 3 (ipykernel)",
   "language": "python",
   "name": "python3"
  },
  "language_info": {
   "codemirror_mode": {
    "name": "ipython",
    "version": 3
   },
   "file_extension": ".py",
   "mimetype": "text/x-python",
   "name": "python",
   "nbconvert_exporter": "python",
   "pygments_lexer": "ipython3",
   "version": "3.9.4"
  }
 },
 "nbformat": 4,
 "nbformat_minor": 5
}

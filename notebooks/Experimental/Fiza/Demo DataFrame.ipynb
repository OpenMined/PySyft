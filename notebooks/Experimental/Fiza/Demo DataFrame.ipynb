{
 "cells": [
  {
   "cell_type": "code",
   "execution_count": 1,
   "id": "c9355617-9835-42b7-9576-acfaec841d36",
   "metadata": {},
   "outputs": [],
   "source": [
    "import syft as sy\n",
    "import numpy as np\n",
    "from syft.core.adp.entity import Entity"
   ]
  },
  {
   "cell_type": "markdown",
   "id": "7f6c9d81-325f-44c4-9c7e-b7e50a3c4365",
   "metadata": {},
   "source": [
    "## To Do\n",
    "\n",
    "Download a dataset from Domain\n",
    "\n",
    "Convert all string columns to unique integers ---> could use hashes\n"
   ]
  },
  {
   "cell_type": "code",
   "execution_count": 15,
   "id": "1aac1369-e490-404f-bf34-78854b223ed9",
   "metadata": {},
   "outputs": [],
   "source": [
    "import pandas as pd"
   ]
  },
  {
   "cell_type": "code",
   "execution_count": 59,
   "id": "994d05fa-65c9-4559-a7a6-462bb0bb6c9e",
   "metadata": {},
   "outputs": [],
   "source": [
    "canada = pd.read_csv(\"../../trade_demo/datasets/ca - feb 2021.csv\")\n",
    "italy = pd.read_csv(\"../../trade_demo/datasets/it - feb 2021.csv\")"
   ]
  },
  {
   "cell_type": "code",
   "execution_count": 17,
   "id": "a411101a-6260-4f1c-8367-799d80d1c312",
   "metadata": {},
   "outputs": [],
   "source": [
    "import hashlib\n",
    "from math import isnan, nan\n",
    "\n",
    "hash_db = {}\n",
    "hash_db[nan] = nan\n",
    "\n",
    "def convert_string(s: str, digits: int=15):\n",
    "    \"\"\"Maps a string to a unique hash using SHA, converts it to a hash or an int\"\"\"\n",
    "    if type(s) is str:\n",
    "        new_hash = int(hashlib.sha256(s.encode(\"utf-8\")).hexdigest(), 16) % 10**digits\n",
    "        hash_db[s] = new_hash\n",
    "        return new_hash\n",
    "    else:\n",
    "        return s"
   ]
  },
  {
   "cell_type": "code",
   "execution_count": 68,
   "id": "ecdd4e13-bea2-4624-b1e5-53ddb593e36d",
   "metadata": {},
   "outputs": [
    {
     "name": "stdout",
     "output_type": "stream",
     "text": [
      "Classification\n",
      "Year\n",
      "Period\n",
      "Period Desc.\n",
      "Aggregate Level\n",
      "Is Leaf Code\n",
      "Trade Flow Code\n",
      "Trade Flow\n",
      "Reporter Code\n",
      "Reporter\n",
      "Reporter ISO\n",
      "Partner Code\n",
      "Partner\n",
      "Partner ISO\n",
      "Commodity Code\n",
      "Commodity\n",
      "Qty Unit Code\n",
      "Qty Unit\n",
      "Qty\n",
      "Netweight (kg)\n",
      "Trade Value (US$)\n",
      "Flag\n",
      "Classification\n",
      "Year\n",
      "Period\n",
      "Period Desc.\n",
      "Aggregate Level\n",
      "Is Leaf Code\n",
      "Trade Flow Code\n",
      "Trade Flow\n",
      "Reporter Code\n",
      "Reporter\n",
      "Reporter ISO\n",
      "Partner Code\n",
      "Partner\n",
      "Partner ISO\n",
      "Commodity Code\n",
      "Commodity\n",
      "Qty Unit Code\n",
      "Qty Unit\n",
      "Qty\n",
      "Netweight (kg)\n",
      "Trade Value (US$)\n",
      "Flag\n"
     ]
    }
   ],
   "source": [
    "for col in canada.columns:\n",
    "    print(col)\n",
    "    canada[col] = canada[col].map(lambda x: convert_string(x))\n",
    "for col in italy.columns:\n",
    "    print(col)\n",
    "    italy[col] = italy[col].map(lambda x: convert_string(x))"
   ]
  },
  {
   "cell_type": "code",
   "execution_count": 6,
   "id": "6fb206ea-db3b-4737-9947-ac19c3de6d5f",
   "metadata": {},
   "outputs": [],
   "source": [
    "# np_dataset = canada.values"
   ]
  },
  {
   "cell_type": "code",
   "execution_count": 55,
   "id": "60b7ce55-34a7-48cd-b415-6dbda4b96818",
   "metadata": {},
   "outputs": [],
   "source": [
    "# np_dataset.astype(float)"
   ]
  },
  {
   "cell_type": "code",
   "execution_count": 56,
   "id": "8eb412e7-c35e-41c8-8dcf-9384b2fb64b3",
   "metadata": {},
   "outputs": [],
   "source": [
    "# key_list = list(hash_db.keys())\n",
    "# val_list = list(hash_db.values())\n",
    "# position = val_list.index(109781654799833)\n",
    "# print(key_list[position])"
   ]
  },
  {
   "cell_type": "code",
   "execution_count": 76,
   "id": "65e875e5-b568-4d09-b18d-b76c84a158f5",
   "metadata": {},
   "outputs": [],
   "source": [
    "required_columns = [\"Classification\", \"Commodity Code\", \"Commodity\", \"Trade Value (US$)\", \"Partner\", \"Trade Flow\"]\n",
    "\n",
    "canada_dataset = canada[required_columns]\n",
    "italy_dataset = italy[required_columns]"
   ]
  },
  {
   "cell_type": "code",
   "execution_count": 77,
   "id": "2af2e973-b61e-4727-919c-206a06db5d60",
   "metadata": {},
   "outputs": [
    {
     "data": {
      "text/plain": [
       "Index(['Classification', 'Commodity Code', 'Commodity', 'Trade Value (US$)',\n",
       "       'Partner', 'Trade Flow'],\n",
       "      dtype='object')"
      ]
     },
     "execution_count": 77,
     "metadata": {},
     "output_type": "execute_result"
    }
   ],
   "source": [
    "canada_dataset.columns"
   ]
  },
  {
   "cell_type": "code",
   "execution_count": 78,
   "id": "9f14e9f9-7be4-4370-a6e7-fca1c8cddb90",
   "metadata": {},
   "outputs": [
    {
     "data": {
      "text/plain": [
       "Index(['Classification', 'Commodity Code', 'Commodity', 'Trade Value (US$)',\n",
       "       'Partner', 'Trade Flow'],\n",
       "      dtype='object')"
      ]
     },
     "execution_count": 78,
     "metadata": {},
     "output_type": "execute_result"
    }
   ],
   "source": [
    "italy_dataset.columns"
   ]
  },
  {
   "cell_type": "code",
   "execution_count": 79,
   "id": "f94f1800-4837-4c70-bdd5-848433651845",
   "metadata": {},
   "outputs": [],
   "source": [
    "canada_dataset = canada_dataset[canada_dataset.Partner == convert_string(\"Italy\")]\n",
    "italy_dataset = italy_dataset[italy_dataset.Partner == convert_string(\"Canada\")]"
   ]
  },
  {
   "cell_type": "code",
   "execution_count": 81,
   "id": "d322dbce-2891-43a4-8800-aab3af429f3d",
   "metadata": {},
   "outputs": [],
   "source": [
    "result = pd.merge(canada_dataset, italy_dataset, on=\"Commodity Code\")"
   ]
  },
  {
   "cell_type": "code",
   "execution_count": 83,
   "id": "c82d1a4e-0249-41cb-b742-572b52f3ee41",
   "metadata": {},
   "outputs": [
    {
     "data": {
      "text/html": [
       "<div>\n",
       "<style scoped>\n",
       "    .dataframe tbody tr th:only-of-type {\n",
       "        vertical-align: middle;\n",
       "    }\n",
       "\n",
       "    .dataframe tbody tr th {\n",
       "        vertical-align: top;\n",
       "    }\n",
       "\n",
       "    .dataframe thead th {\n",
       "        text-align: right;\n",
       "    }\n",
       "</style>\n",
       "<table border=\"1\" class=\"dataframe\">\n",
       "  <thead>\n",
       "    <tr style=\"text-align: right;\">\n",
       "      <th></th>\n",
       "      <th>Classification_x</th>\n",
       "      <th>Commodity Code</th>\n",
       "      <th>Commodity_x</th>\n",
       "      <th>Trade Value (US$)_x</th>\n",
       "      <th>Partner_x</th>\n",
       "      <th>Trade Flow_x</th>\n",
       "      <th>Classification_y</th>\n",
       "      <th>Commodity_y</th>\n",
       "      <th>Trade Value (US$)_y</th>\n",
       "      <th>Partner_y</th>\n",
       "      <th>Trade Flow_y</th>\n",
       "    </tr>\n",
       "  </thead>\n",
       "  <tbody>\n",
       "    <tr>\n",
       "      <th>0</th>\n",
       "      <td>109781654799833</td>\n",
       "      <td>628614662158183</td>\n",
       "      <td>4.036672e+14</td>\n",
       "      <td>8359327</td>\n",
       "      <td>656091199571420</td>\n",
       "      <td>740486968595500</td>\n",
       "      <td>109781654799833</td>\n",
       "      <td>4.036672e+14</td>\n",
       "      <td>2709</td>\n",
       "      <td>524003986429176</td>\n",
       "      <td>740486968595500</td>\n",
       "    </tr>\n",
       "    <tr>\n",
       "      <th>1</th>\n",
       "      <td>109781654799833</td>\n",
       "      <td>628614662158183</td>\n",
       "      <td>4.036672e+14</td>\n",
       "      <td>8359327</td>\n",
       "      <td>656091199571420</td>\n",
       "      <td>740486968595500</td>\n",
       "      <td>109781654799833</td>\n",
       "      <td>4.036672e+14</td>\n",
       "      <td>7427990</td>\n",
       "      <td>524003986429176</td>\n",
       "      <td>78789458366718</td>\n",
       "    </tr>\n",
       "    <tr>\n",
       "      <th>2</th>\n",
       "      <td>109781654799833</td>\n",
       "      <td>628614662158183</td>\n",
       "      <td>4.036672e+14</td>\n",
       "      <td>26887</td>\n",
       "      <td>656091199571420</td>\n",
       "      <td>78789458366718</td>\n",
       "      <td>109781654799833</td>\n",
       "      <td>4.036672e+14</td>\n",
       "      <td>2709</td>\n",
       "      <td>524003986429176</td>\n",
       "      <td>740486968595500</td>\n",
       "    </tr>\n",
       "    <tr>\n",
       "      <th>3</th>\n",
       "      <td>109781654799833</td>\n",
       "      <td>628614662158183</td>\n",
       "      <td>4.036672e+14</td>\n",
       "      <td>26887</td>\n",
       "      <td>656091199571420</td>\n",
       "      <td>78789458366718</td>\n",
       "      <td>109781654799833</td>\n",
       "      <td>4.036672e+14</td>\n",
       "      <td>7427990</td>\n",
       "      <td>524003986429176</td>\n",
       "      <td>78789458366718</td>\n",
       "    </tr>\n",
       "    <tr>\n",
       "      <th>4</th>\n",
       "      <td>109781654799833</td>\n",
       "      <td>901412511046831</td>\n",
       "      <td>7.389983e+14</td>\n",
       "      <td>57241</td>\n",
       "      <td>656091199571420</td>\n",
       "      <td>740486968595500</td>\n",
       "      <td>109781654799833</td>\n",
       "      <td>7.389983e+14</td>\n",
       "      <td>6714</td>\n",
       "      <td>524003986429176</td>\n",
       "      <td>740486968595500</td>\n",
       "    </tr>\n",
       "  </tbody>\n",
       "</table>\n",
       "</div>"
      ],
      "text/plain": [
       "   Classification_x   Commodity Code   Commodity_x  Trade Value (US$)_x  \\\n",
       "0   109781654799833  628614662158183  4.036672e+14              8359327   \n",
       "1   109781654799833  628614662158183  4.036672e+14              8359327   \n",
       "2   109781654799833  628614662158183  4.036672e+14                26887   \n",
       "3   109781654799833  628614662158183  4.036672e+14                26887   \n",
       "4   109781654799833  901412511046831  7.389983e+14                57241   \n",
       "\n",
       "         Partner_x     Trade Flow_x  Classification_y   Commodity_y  \\\n",
       "0  656091199571420  740486968595500   109781654799833  4.036672e+14   \n",
       "1  656091199571420  740486968595500   109781654799833  4.036672e+14   \n",
       "2  656091199571420   78789458366718   109781654799833  4.036672e+14   \n",
       "3  656091199571420   78789458366718   109781654799833  4.036672e+14   \n",
       "4  656091199571420  740486968595500   109781654799833  7.389983e+14   \n",
       "\n",
       "   Trade Value (US$)_y        Partner_y     Trade Flow_y  \n",
       "0                 2709  524003986429176  740486968595500  \n",
       "1              7427990  524003986429176   78789458366718  \n",
       "2                 2709  524003986429176  740486968595500  \n",
       "3              7427990  524003986429176   78789458366718  \n",
       "4                 6714  524003986429176  740486968595500  "
      ]
     },
     "execution_count": 83,
     "metadata": {},
     "output_type": "execute_result"
    }
   ],
   "source": [
    "result.head()"
   ]
  },
  {
   "cell_type": "code",
   "execution_count": 84,
   "id": "f828d0ab-72cf-4fec-b5e0-6ffd3d303dd8",
   "metadata": {},
   "outputs": [],
   "source": [
    "np_result = result.values"
   ]
  },
  {
   "cell_type": "code",
   "execution_count": 88,
   "id": "ace55a05-0f0c-414f-bbf0-149c6e32d94e",
   "metadata": {},
   "outputs": [],
   "source": [
    "np_canada = canada.values"
   ]
  },
  {
   "cell_type": "code",
   "execution_count": 89,
   "id": "1cdfc077-639b-460c-95ea-0701722bdb2b",
   "metadata": {},
   "outputs": [],
   "source": [
    "np_italy = italy.values"
   ]
  },
  {
   "cell_type": "code",
   "execution_count": 92,
   "id": "677668b9-2623-442a-8507-1744108b933b",
   "metadata": {},
   "outputs": [
    {
     "data": {
      "text/html": [
       "<div>\n",
       "<style scoped>\n",
       "    .dataframe tbody tr th:only-of-type {\n",
       "        vertical-align: middle;\n",
       "    }\n",
       "\n",
       "    .dataframe tbody tr th {\n",
       "        vertical-align: top;\n",
       "    }\n",
       "\n",
       "    .dataframe thead th {\n",
       "        text-align: right;\n",
       "    }\n",
       "</style>\n",
       "<table border=\"1\" class=\"dataframe\">\n",
       "  <thead>\n",
       "    <tr style=\"text-align: right;\">\n",
       "      <th></th>\n",
       "      <th>Classification</th>\n",
       "      <th>Commodity Code</th>\n",
       "      <th>Commodity</th>\n",
       "      <th>Trade Value (US$)</th>\n",
       "      <th>Partner</th>\n",
       "      <th>Trade Flow</th>\n",
       "    </tr>\n",
       "  </thead>\n",
       "  <tbody>\n",
       "    <tr>\n",
       "      <th>15</th>\n",
       "      <td>109781654799833</td>\n",
       "      <td>628614662158183</td>\n",
       "      <td>4.036672e+14</td>\n",
       "      <td>8359327</td>\n",
       "      <td>656091199571420</td>\n",
       "      <td>740486968595500</td>\n",
       "    </tr>\n",
       "    <tr>\n",
       "      <th>23</th>\n",
       "      <td>109781654799833</td>\n",
       "      <td>901412511046831</td>\n",
       "      <td>7.389983e+14</td>\n",
       "      <td>57241</td>\n",
       "      <td>656091199571420</td>\n",
       "      <td>740486968595500</td>\n",
       "    </tr>\n",
       "    <tr>\n",
       "      <th>27</th>\n",
       "      <td>109781654799833</td>\n",
       "      <td>984804865638746</td>\n",
       "      <td>5.250002e+14</td>\n",
       "      <td>725768</td>\n",
       "      <td>656091199571420</td>\n",
       "      <td>740486968595500</td>\n",
       "    </tr>\n",
       "    <tr>\n",
       "      <th>199</th>\n",
       "      <td>109781654799833</td>\n",
       "      <td>483770876653875</td>\n",
       "      <td>2.233012e+14</td>\n",
       "      <td>290211</td>\n",
       "      <td>656091199571420</td>\n",
       "      <td>740486968595500</td>\n",
       "    </tr>\n",
       "    <tr>\n",
       "      <th>206</th>\n",
       "      <td>109781654799833</td>\n",
       "      <td>248974717806256</td>\n",
       "      <td>7.214179e+14</td>\n",
       "      <td>279931</td>\n",
       "      <td>656091199571420</td>\n",
       "      <td>740486968595500</td>\n",
       "    </tr>\n",
       "  </tbody>\n",
       "</table>\n",
       "</div>"
      ],
      "text/plain": [
       "      Classification   Commodity Code     Commodity  Trade Value (US$)  \\\n",
       "15   109781654799833  628614662158183  4.036672e+14            8359327   \n",
       "23   109781654799833  901412511046831  7.389983e+14              57241   \n",
       "27   109781654799833  984804865638746  5.250002e+14             725768   \n",
       "199  109781654799833  483770876653875  2.233012e+14             290211   \n",
       "206  109781654799833  248974717806256  7.214179e+14             279931   \n",
       "\n",
       "             Partner       Trade Flow  \n",
       "15   656091199571420  740486968595500  \n",
       "23   656091199571420  740486968595500  \n",
       "27   656091199571420  740486968595500  \n",
       "199  656091199571420  740486968595500  \n",
       "206  656091199571420  740486968595500  "
      ]
     },
     "execution_count": 92,
     "metadata": {},
     "output_type": "execute_result"
    }
   ],
   "source": [
    "canada_dataset.head()"
   ]
  },
  {
   "cell_type": "code",
   "execution_count": 93,
   "id": "f03aef5f-885c-4fd6-aede-ec9e8ea7913c",
   "metadata": {},
   "outputs": [
    {
     "data": {
      "text/html": [
       "<div>\n",
       "<style scoped>\n",
       "    .dataframe tbody tr th:only-of-type {\n",
       "        vertical-align: middle;\n",
       "    }\n",
       "\n",
       "    .dataframe tbody tr th {\n",
       "        vertical-align: top;\n",
       "    }\n",
       "\n",
       "    .dataframe thead th {\n",
       "        text-align: right;\n",
       "    }\n",
       "</style>\n",
       "<table border=\"1\" class=\"dataframe\">\n",
       "  <thead>\n",
       "    <tr style=\"text-align: right;\">\n",
       "      <th></th>\n",
       "      <th>Classification</th>\n",
       "      <th>Commodity Code</th>\n",
       "      <th>Commodity</th>\n",
       "      <th>Trade Value (US$)</th>\n",
       "      <th>Partner</th>\n",
       "      <th>Trade Flow</th>\n",
       "    </tr>\n",
       "  </thead>\n",
       "  <tbody>\n",
       "    <tr>\n",
       "      <th>16</th>\n",
       "      <td>109781654799833</td>\n",
       "      <td>293359</td>\n",
       "      <td>9.097268e+14</td>\n",
       "      <td>56820</td>\n",
       "      <td>524003986429176</td>\n",
       "      <td>740486968595500</td>\n",
       "    </tr>\n",
       "    <tr>\n",
       "      <th>29</th>\n",
       "      <td>109781654799833</td>\n",
       "      <td>940510</td>\n",
       "      <td>2.618874e+14</td>\n",
       "      <td>20972</td>\n",
       "      <td>524003986429176</td>\n",
       "      <td>740486968595500</td>\n",
       "    </tr>\n",
       "    <tr>\n",
       "      <th>41</th>\n",
       "      <td>109781654799833</td>\n",
       "      <td>940520</td>\n",
       "      <td>3.383195e+14</td>\n",
       "      <td>15507</td>\n",
       "      <td>524003986429176</td>\n",
       "      <td>740486968595500</td>\n",
       "    </tr>\n",
       "    <tr>\n",
       "      <th>52</th>\n",
       "      <td>109781654799833</td>\n",
       "      <td>940540</td>\n",
       "      <td>3.071675e+14</td>\n",
       "      <td>40719</td>\n",
       "      <td>524003986429176</td>\n",
       "      <td>740486968595500</td>\n",
       "    </tr>\n",
       "    <tr>\n",
       "      <th>70</th>\n",
       "      <td>109781654799833</td>\n",
       "      <td>940560</td>\n",
       "      <td>6.090155e+13</td>\n",
       "      <td>2486</td>\n",
       "      <td>524003986429176</td>\n",
       "      <td>740486968595500</td>\n",
       "    </tr>\n",
       "  </tbody>\n",
       "</table>\n",
       "</div>"
      ],
      "text/plain": [
       "     Classification  Commodity Code     Commodity  Trade Value (US$)  \\\n",
       "16  109781654799833          293359  9.097268e+14              56820   \n",
       "29  109781654799833          940510  2.618874e+14              20972   \n",
       "41  109781654799833          940520  3.383195e+14              15507   \n",
       "52  109781654799833          940540  3.071675e+14              40719   \n",
       "70  109781654799833          940560  6.090155e+13               2486   \n",
       "\n",
       "            Partner       Trade Flow  \n",
       "16  524003986429176  740486968595500  \n",
       "29  524003986429176  740486968595500  \n",
       "41  524003986429176  740486968595500  \n",
       "52  524003986429176  740486968595500  \n",
       "70  524003986429176  740486968595500  "
      ]
     },
     "execution_count": 93,
     "metadata": {},
     "output_type": "execute_result"
    }
   ],
   "source": [
    "italy_dataset.head()"
   ]
  },
  {
   "cell_type": "code",
   "execution_count": 96,
   "id": "4cef000e-71c8-4b77-b30e-5a475c3a7d3c",
   "metadata": {},
   "outputs": [],
   "source": [
    "required_columns_index = [canada.columns.get_loc(col_name) for col_name in required_columns]"
   ]
  },
  {
   "cell_type": "code",
   "execution_count": null,
   "id": "8f6a8aaf-6aa0-4421-b2ac-d3ffee4242f9",
   "metadata": {},
   "outputs": [],
   "source": []
  }
 ],
 "metadata": {
  "kernelspec": {
   "display_name": "Python 3 (ipykernel)",
   "language": "python",
   "name": "python3"
  },
  "language_info": {
   "codemirror_mode": {
    "name": "ipython",
    "version": 3
   },
   "file_extension": ".py",
   "mimetype": "text/x-python",
   "name": "python",
   "nbconvert_exporter": "python",
   "pygments_lexer": "ipython3",
   "version": "3.8.10"
  }
 },
 "nbformat": 4,
 "nbformat_minor": 5
}

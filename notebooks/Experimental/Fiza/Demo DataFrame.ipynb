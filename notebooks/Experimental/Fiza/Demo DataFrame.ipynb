{
 "cells": [
  {
   "cell_type": "code",
   "execution_count": 339,
   "id": "c9355617-9835-42b7-9576-acfaec841d36",
   "metadata": {},
   "outputs": [],
   "source": [
    "import syft as sy\n",
    "import numpy as np\n",
    "from syft.core.adp.entity import DataSubject"
   ]
  },
  {
   "cell_type": "markdown",
   "id": "7f6c9d81-325f-44c4-9c7e-b7e50a3c4365",
   "metadata": {},
   "source": [
    "## To Do\n",
    "\n",
    "Download a dataset from Domain\n",
    "\n",
    "Convert all string columns to unique integers ---> could use hashes\n"
   ]
  },
  {
   "cell_type": "code",
   "execution_count": 340,
   "id": "1aac1369-e490-404f-bf34-78854b223ed9",
   "metadata": {},
   "outputs": [],
   "source": [
    "import pandas as pd"
   ]
  },
  {
   "cell_type": "code",
   "execution_count": 491,
   "id": "994d05fa-65c9-4559-a7a6-462bb0bb6c9e",
   "metadata": {},
   "outputs": [
    {
     "name": "stderr",
     "output_type": "stream",
     "text": [
      "/home/fizzz/anaconda3/envs/syft/lib/python3.8/site-packages/IPython/core/interactiveshell.py:3441: DtypeWarning: Columns (14) have mixed types.Specify dtype option on import or set low_memory=False.\n",
      "  exec(code_obj, self.user_global_ns, self.user_ns)\n"
     ]
    }
   ],
   "source": [
    "canada = pd.read_csv(\"../../trade_demo/datasets/ca - feb 2021.csv\")\n",
    "italy = pd.read_csv(\"../../trade_demo/datasets/it - feb 2021.csv\")"
   ]
  },
  {
   "cell_type": "code",
   "execution_count": 492,
   "id": "a411101a-6260-4f1c-8367-799d80d1c312",
   "metadata": {},
   "outputs": [],
   "source": [
    "import hashlib\n",
    "from math import isnan, nan\n",
    "\n",
    "hash_db = {}\n",
    "hash_db[nan] = nan\n",
    "\n",
    "def convert_string(s: str, digits: int=15):\n",
    "    \"\"\"Maps a string to a unique hash using SHA, converts it to a hash or an int\"\"\"\n",
    "    if type(s) is str:\n",
    "        new_hash = int(hashlib.sha256(s.encode(\"utf-8\")).hexdigest(), 16) % 10**digits\n",
    "        hash_db[s] = new_hash\n",
    "        return new_hash\n",
    "    else:\n",
    "        return s"
   ]
  },
  {
   "cell_type": "code",
   "execution_count": 493,
   "id": "ecdd4e13-bea2-4624-b1e5-53ddb593e36d",
   "metadata": {},
   "outputs": [],
   "source": [
    "for col in canada.columns:\n",
    "    canada[col] = canada[col].map(lambda x: convert_string(x))\n",
    "for col in italy.columns:\n",
    "    italy[col] = italy[col].map(lambda x: convert_string(x))"
   ]
  },
  {
   "cell_type": "code",
   "execution_count": 346,
   "id": "8eb412e7-c35e-41c8-8dcf-9384b2fb64b3",
   "metadata": {},
   "outputs": [],
   "source": [
    "# key_list = list(hash_db.keys())\n",
    "# val_list = list(hash_db.values())\n",
    "# position = val_list.index(109781654799833)\n",
    "# print(key_list[position])"
   ]
  },
  {
   "cell_type": "code",
   "execution_count": 494,
   "id": "65e875e5-b568-4d09-b18d-b76c84a158f5",
   "metadata": {},
   "outputs": [],
   "source": [
    "required_columns = [\"Classification\", \"Trade Flow\", \"Partner\", \"Commodity Code\", \"Commodity\", \"Trade Value (US$)\"]\n",
    "\n",
    "canada_dataset = canada[required_columns]\n",
    "italy_dataset = italy[required_columns]"
   ]
  },
  {
   "cell_type": "code",
   "execution_count": 495,
   "id": "2af2e973-b61e-4727-919c-206a06db5d60",
   "metadata": {},
   "outputs": [
    {
     "data": {
      "text/plain": [
       "Index(['Classification', 'Trade Flow', 'Partner', 'Commodity Code',\n",
       "       'Commodity', 'Trade Value (US$)'],\n",
       "      dtype='object')"
      ]
     },
     "execution_count": 495,
     "metadata": {},
     "output_type": "execute_result"
    }
   ],
   "source": [
    "canada_dataset.columns"
   ]
  },
  {
   "cell_type": "code",
   "execution_count": 496,
   "id": "9f14e9f9-7be4-4370-a6e7-fca1c8cddb90",
   "metadata": {},
   "outputs": [
    {
     "data": {
      "text/plain": [
       "Index(['Classification', 'Trade Flow', 'Partner', 'Commodity Code',\n",
       "       'Commodity', 'Trade Value (US$)'],\n",
       "      dtype='object')"
      ]
     },
     "execution_count": 496,
     "metadata": {},
     "output_type": "execute_result"
    }
   ],
   "source": [
    "italy_dataset.columns"
   ]
  },
  {
   "cell_type": "code",
   "execution_count": 497,
   "id": "f94f1800-4837-4c70-bdd5-848433651845",
   "metadata": {},
   "outputs": [],
   "source": [
    "canada_dataset = canada_dataset[canada_dataset.Partner == convert_string(\"Italy\")]\n",
    "italy_dataset = italy_dataset[italy_dataset.Partner == convert_string(\"Canada\")]"
   ]
  },
  {
   "cell_type": "code",
   "execution_count": 498,
   "id": "d322dbce-2891-43a4-8800-aab3af429f3d",
   "metadata": {},
   "outputs": [],
   "source": [
    "result = pd.merge(canada_dataset, italy_dataset, on=\"Commodity Code\")"
   ]
  },
  {
   "cell_type": "code",
   "execution_count": 499,
   "id": "c82d1a4e-0249-41cb-b742-572b52f3ee41",
   "metadata": {},
   "outputs": [
    {
     "data": {
      "text/html": [
       "<div>\n",
       "<style scoped>\n",
       "    .dataframe tbody tr th:only-of-type {\n",
       "        vertical-align: middle;\n",
       "    }\n",
       "\n",
       "    .dataframe tbody tr th {\n",
       "        vertical-align: top;\n",
       "    }\n",
       "\n",
       "    .dataframe thead th {\n",
       "        text-align: right;\n",
       "    }\n",
       "</style>\n",
       "<table border=\"1\" class=\"dataframe\">\n",
       "  <thead>\n",
       "    <tr style=\"text-align: right;\">\n",
       "      <th></th>\n",
       "      <th>Classification_x</th>\n",
       "      <th>Trade Flow_x</th>\n",
       "      <th>Partner_x</th>\n",
       "      <th>Commodity Code</th>\n",
       "      <th>Commodity_x</th>\n",
       "      <th>Trade Value (US$)_x</th>\n",
       "      <th>Classification_y</th>\n",
       "      <th>Trade Flow_y</th>\n",
       "      <th>Partner_y</th>\n",
       "      <th>Commodity_y</th>\n",
       "      <th>Trade Value (US$)_y</th>\n",
       "    </tr>\n",
       "  </thead>\n",
       "  <tbody>\n",
       "    <tr>\n",
       "      <th>0</th>\n",
       "      <td>109781654799833</td>\n",
       "      <td>740486968595500</td>\n",
       "      <td>656091199571420</td>\n",
       "      <td>628614662158183</td>\n",
       "      <td>4.036672e+14</td>\n",
       "      <td>8359327</td>\n",
       "      <td>109781654799833</td>\n",
       "      <td>740486968595500</td>\n",
       "      <td>524003986429176</td>\n",
       "      <td>4.036672e+14</td>\n",
       "      <td>2709</td>\n",
       "    </tr>\n",
       "    <tr>\n",
       "      <th>1</th>\n",
       "      <td>109781654799833</td>\n",
       "      <td>740486968595500</td>\n",
       "      <td>656091199571420</td>\n",
       "      <td>628614662158183</td>\n",
       "      <td>4.036672e+14</td>\n",
       "      <td>8359327</td>\n",
       "      <td>109781654799833</td>\n",
       "      <td>78789458366718</td>\n",
       "      <td>524003986429176</td>\n",
       "      <td>4.036672e+14</td>\n",
       "      <td>7427990</td>\n",
       "    </tr>\n",
       "    <tr>\n",
       "      <th>2</th>\n",
       "      <td>109781654799833</td>\n",
       "      <td>78789458366718</td>\n",
       "      <td>656091199571420</td>\n",
       "      <td>628614662158183</td>\n",
       "      <td>4.036672e+14</td>\n",
       "      <td>26887</td>\n",
       "      <td>109781654799833</td>\n",
       "      <td>740486968595500</td>\n",
       "      <td>524003986429176</td>\n",
       "      <td>4.036672e+14</td>\n",
       "      <td>2709</td>\n",
       "    </tr>\n",
       "    <tr>\n",
       "      <th>3</th>\n",
       "      <td>109781654799833</td>\n",
       "      <td>78789458366718</td>\n",
       "      <td>656091199571420</td>\n",
       "      <td>628614662158183</td>\n",
       "      <td>4.036672e+14</td>\n",
       "      <td>26887</td>\n",
       "      <td>109781654799833</td>\n",
       "      <td>78789458366718</td>\n",
       "      <td>524003986429176</td>\n",
       "      <td>4.036672e+14</td>\n",
       "      <td>7427990</td>\n",
       "    </tr>\n",
       "    <tr>\n",
       "      <th>4</th>\n",
       "      <td>109781654799833</td>\n",
       "      <td>740486968595500</td>\n",
       "      <td>656091199571420</td>\n",
       "      <td>901412511046831</td>\n",
       "      <td>7.389983e+14</td>\n",
       "      <td>57241</td>\n",
       "      <td>109781654799833</td>\n",
       "      <td>740486968595500</td>\n",
       "      <td>524003986429176</td>\n",
       "      <td>7.389983e+14</td>\n",
       "      <td>6714</td>\n",
       "    </tr>\n",
       "  </tbody>\n",
       "</table>\n",
       "</div>"
      ],
      "text/plain": [
       "   Classification_x     Trade Flow_x        Partner_x   Commodity Code  \\\n",
       "0   109781654799833  740486968595500  656091199571420  628614662158183   \n",
       "1   109781654799833  740486968595500  656091199571420  628614662158183   \n",
       "2   109781654799833   78789458366718  656091199571420  628614662158183   \n",
       "3   109781654799833   78789458366718  656091199571420  628614662158183   \n",
       "4   109781654799833  740486968595500  656091199571420  901412511046831   \n",
       "\n",
       "    Commodity_x  Trade Value (US$)_x  Classification_y     Trade Flow_y  \\\n",
       "0  4.036672e+14              8359327   109781654799833  740486968595500   \n",
       "1  4.036672e+14              8359327   109781654799833   78789458366718   \n",
       "2  4.036672e+14                26887   109781654799833  740486968595500   \n",
       "3  4.036672e+14                26887   109781654799833   78789458366718   \n",
       "4  7.389983e+14                57241   109781654799833  740486968595500   \n",
       "\n",
       "         Partner_y   Commodity_y  Trade Value (US$)_y  \n",
       "0  524003986429176  4.036672e+14                 2709  \n",
       "1  524003986429176  4.036672e+14              7427990  \n",
       "2  524003986429176  4.036672e+14                 2709  \n",
       "3  524003986429176  4.036672e+14              7427990  \n",
       "4  524003986429176  7.389983e+14                 6714  "
      ]
     },
     "execution_count": 499,
     "metadata": {},
     "output_type": "execute_result"
    }
   ],
   "source": [
    "result.head()"
   ]
  },
  {
   "cell_type": "code",
   "execution_count": 501,
   "id": "f828d0ab-72cf-4fec-b5e0-6ffd3d303dd8",
   "metadata": {},
   "outputs": [],
   "source": [
    "np_canada = canada.values\n",
    "np_italy = italy.values\n",
    "# np_canada = np_canada.astype(float)\n",
    "# np_italy = np_italy.astype(float)"
   ]
  },
  {
   "cell_type": "code",
   "execution_count": 502,
   "id": "4cef000e-71c8-4b77-b30e-5a475c3a7d3c",
   "metadata": {},
   "outputs": [],
   "source": [
    "required_columns_index = [canada.columns.get_loc(col_name) for col_name in required_columns]"
   ]
  },
  {
   "cell_type": "code",
   "execution_count": 503,
   "id": "e39a0905-eace-4ef4-a38f-7617d321cb55",
   "metadata": {},
   "outputs": [],
   "source": [
    "np_canada = np_canada[:, required_columns_index]\n",
    "np_italy = np_italy[:, required_columns_index]"
   ]
  },
  {
   "cell_type": "code",
   "execution_count": 504,
   "id": "11eec86a-d4d9-41e6-89ff-838f35d278ca",
   "metadata": {},
   "outputs": [],
   "source": [
    "partner_index = 2"
   ]
  },
  {
   "cell_type": "code",
   "execution_count": 505,
   "id": "5c12a9be-bd04-4f5f-9464-341d20761bde",
   "metadata": {},
   "outputs": [],
   "source": [
    "np_canada = np_canada[np.where(np_canada[:, partner_index] == convert_string(\"Italy\"))]\n",
    "np_italy = np_italy[np.where(np_italy[:, partner_index] == convert_string(\"Canada\"))]"
   ]
  },
  {
   "cell_type": "code",
   "execution_count": 506,
   "id": "34d2db23-cb8c-4215-b2d5-01d7e203f353",
   "metadata": {},
   "outputs": [],
   "source": [
    "commodity_code_index = 3"
   ]
  },
  {
   "cell_type": "code",
   "execution_count": 509,
   "id": "8aa2eb5b-1cb6-4437-93ce-9b48350d64ad",
   "metadata": {},
   "outputs": [],
   "source": [
    "bmask1 = [[0] * len(np_canada)] * len(np_italy)"
   ]
  },
  {
   "cell_type": "code",
   "execution_count": 510,
   "id": "b6c46bd8-8aa8-4ae4-b702-59f255916dec",
   "metadata": {},
   "outputs": [],
   "source": [
    "loc = [-1] * len(np_italy)"
   ]
  },
  {
   "cell_type": "code",
   "execution_count": 511,
   "id": "fc579c91-bfc5-4ead-80ce-3875759904a2",
   "metadata": {},
   "outputs": [],
   "source": [
    "for i in range(len(np_italy)):\n",
    "    for j in range(len(np_canada)):\n",
    "        if np_italy[i][commodity_code_index] == np_canada[j][commodity_code_index]:\n",
    "            bmask1[i][j] = 1\n",
    "            loc[i] = j"
   ]
  },
  {
   "cell_type": "code",
   "execution_count": 512,
   "id": "0533eefe-ff93-4973-9080-538b0abdd428",
   "metadata": {},
   "outputs": [],
   "source": [
    "bmask2 = [0] * len(np_italy)"
   ]
  },
  {
   "cell_type": "code",
   "execution_count": 513,
   "id": "76d38717-cfdc-4a95-82d0-ce0364ab9290",
   "metadata": {},
   "outputs": [],
   "source": [
    "for i in range(len(np_italy)):\n",
    "    if loc[i] != -1:\n",
    "        bmask2[i] = 1\n",
    "    else:\n",
    "        bmask2[i] = 0"
   ]
  },
  {
   "cell_type": "code",
   "execution_count": 514,
   "id": "761b6284-73b3-4ee8-8ad6-e8f3fd366fbb",
   "metadata": {},
   "outputs": [],
   "source": [
    "indices = [i for i, x in enumerate(bmask2) if x]"
   ]
  },
  {
   "cell_type": "code",
   "execution_count": 515,
   "id": "4ba44b19-cb6e-4f54-a0eb-3bfe010a13ed",
   "metadata": {},
   "outputs": [],
   "source": [
    "output = []\n",
    "for i in indices:\n",
    "    temp = np.concatenate((np_canada[loc[i]], np_italy[i]))\n",
    "    output.append(temp)\n",
    "    \n",
    "output = np.array(output)"
   ]
  },
  {
   "cell_type": "code",
   "execution_count": 516,
   "id": "3d8abaec-21a1-48d2-9a74-6b4ff440be4a",
   "metadata": {},
   "outputs": [],
   "source": [
    "output = np.delete(output, commodity_code_index, 1)"
   ]
  },
  {
   "cell_type": "code",
   "execution_count": null,
   "id": "1cb3cdf7-2c43-40ec-aa7e-c46f278c4752",
   "metadata": {},
   "outputs": [],
   "source": []
  }
 ],
 "metadata": {
  "kernelspec": {
   "display_name": "Python 3 (ipykernel)",
   "language": "python",
   "name": "python3"
  },
  "language_info": {
   "codemirror_mode": {
    "name": "ipython",
    "version": 3
   },
   "file_extension": ".py",
   "mimetype": "text/x-python",
   "name": "python",
   "nbconvert_exporter": "python",
   "pygments_lexer": "ipython3",
   "version": "3.8.10"
  }
 },
 "nbformat": 4,
 "nbformat_minor": 5
}

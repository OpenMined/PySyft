{
 "cells": [
  {
   "cell_type": "code",
   "execution_count": 9,
   "id": "ebcd6ad3-3804-492e-b5ad-37c207ab9eea",
   "metadata": {},
   "outputs": [],
   "source": [
    "import syft as sy"
   ]
  },
  {
   "cell_type": "code",
   "execution_count": 10,
   "id": "402d845c-e3a2-4e0d-bfd6-e6e306928fd8",
   "metadata": {},
   "outputs": [],
   "source": [
    "from syft.core.common.uid import UID"
   ]
  },
  {
   "cell_type": "code",
   "execution_count": 11,
   "id": "b686ee21-5466-435c-a183-3dfd7b93072c",
   "metadata": {},
   "outputs": [],
   "source": [
    "from syft.core.node.common.node_service.get_remaining_budget.get_remaining_budget_messages import GetRemainingBudgetMessage"
   ]
  },
  {
   "cell_type": "code",
   "execution_count": 12,
   "id": "440563e3-7c00-48fe-8853-e85ccd276e49",
   "metadata": {},
   "outputs": [
    {
     "name": "stdout",
     "output_type": "stream",
     "text": [
      "Seeding DB with roles!\n",
      "Setup hasnt run yet so ignoring set_node_uid\n"
     ]
    }
   ],
   "source": [
    "domain = sy.Domain(\"test\")"
   ]
  },
  {
   "cell_type": "code",
   "execution_count": 13,
   "id": "72ee2ce0-d4ca-49ee-8f35-64a75ac7e383",
   "metadata": {},
   "outputs": [],
   "source": [
    "add = domain.address\n",
    "\n",
    "msg = GetRemainingBudgetMessage(budget=1, address=add, reply_to=add)"
   ]
  },
  {
   "cell_type": "code",
   "execution_count": 14,
   "id": "142de908-8a2a-438b-83a9-c9bda96aa4d0",
   "metadata": {},
   "outputs": [
    {
     "data": {
      "text/plain": [
       "budget: 1.0\n",
       "msg_id {\n",
       "  value: \"\\340\\nk\\215\\267\\267@\\263\\260\\320Y8\\203N\\272\\214\"\n",
       "}\n",
       "address {\n",
       "  name: \"test\"\n",
       "  has_domain: true\n",
       "  domain {\n",
       "    id {\n",
       "      value: \"\\321\\347\\317H1}Kh\\242\\nN\\336\\372\\231\\237^\"\n",
       "    }\n",
       "    name: \"test\"\n",
       "  }\n",
       "}\n",
       "reply_to {\n",
       "  name: \"test\"\n",
       "  has_domain: true\n",
       "  domain {\n",
       "    id {\n",
       "      value: \"\\321\\347\\317H1}Kh\\242\\nN\\336\\372\\231\\237^\"\n",
       "    }\n",
       "    name: \"test\"\n",
       "  }\n",
       "}"
      ]
     },
     "execution_count": 14,
     "metadata": {},
     "output_type": "execute_result"
    }
   ],
   "source": [
    "ser_msg = sy.serialize(msg) \n",
    "ser_msg"
   ]
  },
  {
   "cell_type": "code",
   "execution_count": 15,
   "id": "0bd96f07-a9fd-4830-8aec-b0095f56d75c",
   "metadata": {},
   "outputs": [
    {
     "data": {
      "text/plain": [
       "<GetRemainingBudgetMessage: e00a6b8db7b740b3b0d05938834eba8c>"
      ]
     },
     "execution_count": 15,
     "metadata": {},
     "output_type": "execute_result"
    }
   ],
   "source": [
    "de_msg = sy.deserialize(ser_msg)\n",
    "de_msg"
   ]
  },
  {
   "cell_type": "code",
   "execution_count": 16,
   "id": "6d63f41c-2295-474f-8fec-bea349c70963",
   "metadata": {},
   "outputs": [
    {
     "data": {
      "text/plain": [
       "True"
      ]
     },
     "execution_count": 16,
     "metadata": {},
     "output_type": "execute_result"
    }
   ],
   "source": [
    "msg == de_msg"
   ]
  },
  {
   "cell_type": "code",
   "execution_count": null,
   "id": "e822df8e-7628-4086-aca2-460a804bf099",
   "metadata": {},
   "outputs": [],
   "source": []
  }
 ],
 "metadata": {
  "kernelspec": {
   "display_name": "Python 3 (ipykernel)",
   "language": "python",
   "name": "python3"
  },
  "language_info": {
   "codemirror_mode": {
    "name": "ipython",
    "version": 3
   },
   "file_extension": ".py",
   "mimetype": "text/x-python",
   "name": "python",
   "nbconvert_exporter": "python",
   "pygments_lexer": "ipython3",
   "version": "3.8.10"
  }
 },
 "nbformat": 4,
 "nbformat_minor": 5
}

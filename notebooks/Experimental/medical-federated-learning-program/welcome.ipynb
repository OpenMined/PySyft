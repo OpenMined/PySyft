{
 "cells": [
  {
   "cell_type": "markdown",
   "id": "aa025164-d82a-41ab-85fe-f8d158f8c575",
   "metadata": {},
   "source": [
    "# Welcome to The Medical Federated Learning Program"
   ]
  },
  {
   "cell_type": "markdown",
   "id": "fa84d56a-4083-4d10-8c58-666c95288fcb",
   "metadata": {},
   "source": [
    "If you are a Demo Participant please go to the first notebook on Domain Creation"
   ]
  },
  {
   "cell_type": "markdown",
   "id": "efe32877-41f0-43f0-bdb2-5f5b4eaa7838",
   "metadata": {},
   "source": [
    "[Participants Start Here](data-owners/data-owners-presentation.ipynb)"
   ]
  },
  {
   "cell_type": "markdown",
   "id": "debeafd7-8232-4d99-9771-2391e338deb3",
   "metadata": {},
   "source": [
    "If you are coordinating the demo use the following notebooks"
   ]
  },
  {
   "cell_type": "markdown",
   "id": "ef7f20f6-d847-4854-925a-f4ecaa0ec33e",
   "metadata": {},
   "source": [
    "[Create a Network](network-operators/00-network-operators-create-network.ipynb)"
   ]
  },
  {
   "cell_type": "markdown",
   "id": "e2b5820a-cd8f-4974-a64e-bd2bee8ed0da",
   "metadata": {},
   "source": [
    "[Create a Bare VM](network-operators/01-network-operators-create-empty-vm.ipynb)"
   ]
  },
  {
   "cell_type": "markdown",
   "id": "db8dd336-17d0-4c2c-a313-20cb79d25931",
   "metadata": {},
   "source": [
    "[Data Scientist Example](data-scientists/01-data-scientists-start.ipynb)"
   ]
  }
 ],
 "metadata": {
  "kernelspec": {
   "display_name": "Python 3 (ipykernel)",
   "language": "python",
   "name": "python3"
  },
  "language_info": {
   "codemirror_mode": {
    "name": "ipython",
    "version": 3
   },
   "file_extension": ".py",
   "mimetype": "text/x-python",
   "name": "python",
   "nbconvert_exporter": "python",
   "pygments_lexer": "ipython3",
   "version": "3.10.3"
  }
 },
 "nbformat": 4,
 "nbformat_minor": 5
}

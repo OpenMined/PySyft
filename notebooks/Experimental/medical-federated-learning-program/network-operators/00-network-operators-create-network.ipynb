{
 "cells": [
  {
   "cell_type": "markdown",
   "id": "a0347f6f-c74a-441f-aa91-82111f4b5481",
   "metadata": {},
   "source": [
    "# Managing Network Nodes"
   ]
  },
  {
   "cell_type": "markdown",
   "id": "00171d6d-973f-49be-82d4-821b992b6ebd",
   "metadata": {},
   "source": [
    "## Current Network Registry Nodes"
   ]
  },
  {
   "cell_type": "code",
   "execution_count": 1,
   "id": "ae109695-67d0-4dfb-a232-55d9b7db4730",
   "metadata": {},
   "outputs": [
    {
     "name": "stdout",
     "output_type": "stream",
     "text": [
      "                                             "
     ]
    },
    {
     "data": {
      "text/html": [
       "<div>\n",
       "<style scoped>\n",
       "    .dataframe tbody tr th:only-of-type {\n",
       "        vertical-align: middle;\n",
       "    }\n",
       "\n",
       "    .dataframe tbody tr th {\n",
       "        vertical-align: top;\n",
       "    }\n",
       "\n",
       "    .dataframe thead th {\n",
       "        text-align: right;\n",
       "    }\n",
       "</style>\n",
       "<table border=\"1\" class=\"dataframe\">\n",
       "  <thead>\n",
       "    <tr style=\"text-align: right;\">\n",
       "      <th></th>\n",
       "      <th>name</th>\n",
       "      <th>host_or_ip</th>\n",
       "      <th>vpn_host_or_ip</th>\n",
       "      <th>protocol</th>\n",
       "      <th>port</th>\n",
       "      <th>admin_email</th>\n",
       "      <th>website</th>\n",
       "      <th>slack</th>\n",
       "      <th>slack_channel</th>\n",
       "    </tr>\n",
       "  </thead>\n",
       "  <tbody>\n",
       "    <tr>\n",
       "      <th>0</th>\n",
       "      <td>opengrid</td>\n",
       "      <td>40.83.192.48</td>\n",
       "      <td>100.64.0.1</td>\n",
       "      <td>http</td>\n",
       "      <td>80</td>\n",
       "      <td>support@openmined.org</td>\n",
       "      <td>https://www.openmined.org/</td>\n",
       "      <td>https://slack.openmined.org/</td>\n",
       "      <td>opengrid</td>\n",
       "    </tr>\n",
       "    <tr>\n",
       "      <th>1</th>\n",
       "      <td>Medical Federated Learning Program Demo 1</td>\n",
       "      <td>20.237.12.128</td>\n",
       "      <td>100.64.0.1</td>\n",
       "      <td>http</td>\n",
       "      <td>80</td>\n",
       "      <td>support@openmined.org</td>\n",
       "      <td>https://www.governance.ai/</td>\n",
       "      <td>https://slack.openmined.org/</td>\n",
       "      <td>support</td>\n",
       "    </tr>\n",
       "    <tr>\n",
       "      <th>2</th>\n",
       "      <td>Medical Federated Learning Program Demo 2</td>\n",
       "      <td>20.127.176.251</td>\n",
       "      <td>100.64.0.1</td>\n",
       "      <td>http</td>\n",
       "      <td>80</td>\n",
       "      <td>support@openmined.org</td>\n",
       "      <td>https://www.governance.ai/</td>\n",
       "      <td>https://slack.openmined.org/</td>\n",
       "      <td>support</td>\n",
       "    </tr>\n",
       "    <tr>\n",
       "      <th>3</th>\n",
       "      <td>Medical Federated Learning Program Demo 3</td>\n",
       "      <td>20.232.56.167</td>\n",
       "      <td>100.64.0.1</td>\n",
       "      <td>http</td>\n",
       "      <td>80</td>\n",
       "      <td>support@openmined.org</td>\n",
       "      <td>https://www.governance.ai/</td>\n",
       "      <td>https://slack.openmined.org/</td>\n",
       "      <td>support</td>\n",
       "    </tr>\n",
       "  </tbody>\n",
       "</table>\n",
       "</div>"
      ],
      "text/plain": [
       "<syft.registry.NetworkRegistry at 0x10d681150>"
      ]
     },
     "execution_count": 1,
     "metadata": {},
     "output_type": "execute_result"
    }
   ],
   "source": [
    "import syft as sy\n",
    "sy.networks"
   ]
  },
  {
   "cell_type": "markdown",
   "id": "8f461b13-ef30-4f55-8b16-2786d963c731",
   "metadata": {},
   "source": [
    "## Create Network Nodes on Azure with HAGrid"
   ]
  },
  {
   "cell_type": "markdown",
   "id": "f52e90ac-2a2b-47ad-bcf3-128016f6f878",
   "metadata": {},
   "source": [
    "```\n",
    "hagrid launch network to azure --image_name=domain_0.7.0 --node_count 3\n",
    "```"
   ]
  },
  {
   "cell_type": "markdown",
   "id": "44c6e4ab-248e-4828-a0c1-1a39be8a1962",
   "metadata": {},
   "source": [
    "## Adding or Changing Network Nodes in the NetworkRegistry"
   ]
  },
  {
   "cell_type": "markdown",
   "id": "7631a52a-65da-43f4-8572-22074a8c7554",
   "metadata": {},
   "source": [
    "Edit this file:\n",
    "    https://github.com/OpenMined/NetworkRegistry/blob/main/networks.json"
   ]
  },
  {
   "cell_type": "markdown",
   "id": "23d63d75-c418-40ea-af9d-76d859f914ac",
   "metadata": {},
   "source": [
    "### Reset Network Node"
   ]
  },
  {
   "cell_type": "markdown",
   "id": "0ef128ec-3bf9-4308-9a45-aefd3e109aae",
   "metadata": {},
   "source": [
    "After or before a session you can reset the network stack by sshing in running the `reset_network.sh` script:"
   ]
  },
  {
   "cell_type": "markdown",
   "id": "08fe3e75-841a-4765-ad24-415c32d16704",
   "metadata": {},
   "source": [
    "```shell\n",
    "ssh azureuser@NETWORK_IP\n",
    "```"
   ]
  },
  {
   "cell_type": "markdown",
   "id": "db805738-9f67-4c55-9759-5e8689388d35",
   "metadata": {},
   "source": [
    "then running this script"
   ]
  },
  {
   "cell_type": "markdown",
   "id": "ed1361d9-5ce3-47e1-9172-e73eb2e4a0ae",
   "metadata": {},
   "source": [
    "```\n",
    "sudo su\n",
    "cd /home/om/PySyft\n",
    "./scripts/reset_network.sh\n",
    "```"
   ]
  },
  {
   "cell_type": "markdown",
   "id": "00adb260-1799-407e-84ce-c0a5250b6bba",
   "metadata": {},
   "source": [
    "it will take a few seconds to reset everything and then the network should be available to join again"
   ]
  }
 ],
 "metadata": {
  "kernelspec": {
   "display_name": "Python 3 (ipykernel)",
   "language": "python",
   "name": "python3"
  },
  "language_info": {
   "codemirror_mode": {
    "name": "ipython",
    "version": 3
   },
   "file_extension": ".py",
   "mimetype": "text/x-python",
   "name": "python",
   "nbconvert_exporter": "python",
   "pygments_lexer": "ipython3",
   "version": "3.10.3"
  }
 },
 "nbformat": 4,
 "nbformat_minor": 5
}

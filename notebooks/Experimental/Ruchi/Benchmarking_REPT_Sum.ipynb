{
 "cells": [
  {
   "cell_type": "code",
   "execution_count": 1,
   "id": "c5fc5d32-706b-416a-bb17-beccad4a4c8f",
   "metadata": {},
   "outputs": [],
   "source": [
    "%load_ext autoreload\n",
    "%autoreload 2\n",
    "# %load_ext line_profiler\n",
    "import numpy as np\n",
    "import pandas as pd\n",
    "import torch\n",
    "import gc\n",
    "import syft as sy\n",
    "from syft.core.adp.entity import DataSubject\n",
    "from pympler.asizeof import asizeof #pip install pympler\n",
    "from syft import serialize\n",
    "from syft import deserialize\n",
    "from typing import Tuple, Dict, List\n",
    "from pathlib import Path\n",
    "\n",
    "import timeit\n",
    "from syft.core.tensor.autodp.dp_tensor_converter import convert_to_gamma_tensor\n",
    "\n",
    "from functools import reduce\n",
    "\n",
    "from syft.util import download_file\n",
    "from syft.util import get_root_data_path\n",
    "from syft.core.adp.adversarial_accountant import AdversarialAccountant\n",
    "from nacl.signing import VerifyKey, SigningKey"
   ]
  },
  {
   "cell_type": "code",
   "execution_count": 2,
   "id": "4b65254a-5e8c-44f6-994a-70d51c614392",
   "metadata": {},
   "outputs": [],
   "source": [
    "def download_spicy_bird_benchmark() -> Tuple[Dict[str, Path], List[str]]:\n",
    "    file_suffix = \"_rows_dataset_sample.parquet\"\n",
    "    BASE_URL = \"https://raw.githubusercontent.com/madhavajay/datasets/main/spicy_bird/\"\n",
    "    sizes = [\"100K\", \"250K\", \"500K\", \"750K\", \"1M\"]\n",
    "    folder_name = \"spicy_bird\"\n",
    "    dataset_path = get_root_data_path() / folder_name\n",
    "    paths = []\n",
    "    for size in sizes:\n",
    "        filename = f\"{size}{file_suffix}\"\n",
    "        url = f\"{BASE_URL}{filename}\"\n",
    "        print(url)\n",
    "        path = download_file(url=url, full_path=dataset_path / filename)\n",
    "        paths.append(path)\n",
    "    return dict(zip(sizes, paths)), sizes"
   ]
  },
  {
   "cell_type": "code",
   "execution_count": 3,
   "id": "d57e3ae3-646a-47fd-a024-ecbe3a1d86f2",
   "metadata": {},
   "outputs": [
    {
     "name": "stdout",
     "output_type": "stream",
     "text": [
      "https://raw.githubusercontent.com/madhavajay/datasets/main/spicy_bird/100K_rows_dataset_sample.parquet\n",
      "https://raw.githubusercontent.com/madhavajay/datasets/main/spicy_bird/250K_rows_dataset_sample.parquet\n",
      "https://raw.githubusercontent.com/madhavajay/datasets/main/spicy_bird/500K_rows_dataset_sample.parquet\n",
      "https://raw.githubusercontent.com/madhavajay/datasets/main/spicy_bird/750K_rows_dataset_sample.parquet\n",
      "https://raw.githubusercontent.com/madhavajay/datasets/main/spicy_bird/1M_rows_dataset_sample.parquet\n"
     ]
    }
   ],
   "source": [
    "files, ordered_sizes = download_spicy_bird_benchmark()"
   ]
  },
  {
   "cell_type": "code",
   "execution_count": 4,
   "id": "1c6428e2-0b15-4dd6-9e2b-cc76dcc102d1",
   "metadata": {},
   "outputs": [
    {
     "data": {
      "text/plain": [
       "{'100K': PosixPath('/Users/madhavajay/.syft/data/spicy_bird/100K_rows_dataset_sample.parquet'),\n",
       " '250K': PosixPath('/Users/madhavajay/.syft/data/spicy_bird/250K_rows_dataset_sample.parquet'),\n",
       " '500K': PosixPath('/Users/madhavajay/.syft/data/spicy_bird/500K_rows_dataset_sample.parquet'),\n",
       " '750K': PosixPath('/Users/madhavajay/.syft/data/spicy_bird/750K_rows_dataset_sample.parquet'),\n",
       " '1M': PosixPath('/Users/madhavajay/.syft/data/spicy_bird/1M_rows_dataset_sample.parquet')}"
      ]
     },
     "execution_count": 4,
     "metadata": {},
     "output_type": "execute_result"
    }
   ],
   "source": [
    "files"
   ]
  },
  {
   "cell_type": "code",
   "execution_count": 5,
   "id": "fae82871-e7f0-479c-8d7c-eb33d3bd36a5",
   "metadata": {},
   "outputs": [
    {
     "name": "stdout",
     "output_type": "stream",
     "text": [
      "Number of Rows:  1000000\n",
      "2\n"
     ]
    }
   ],
   "source": [
    "df = pd.read_parquet(files[\"1M\"])\n",
    "print(\"Number of Rows: \",df.shape[0])\n",
    "df.head()\n",
    "df = df[:2]\n",
    "print(df.shape[0])"
   ]
  },
  {
   "cell_type": "code",
   "execution_count": 6,
   "id": "9f70b4cc-064a-4caf-af28-30a319ac3817",
   "metadata": {},
   "outputs": [],
   "source": [
    "name = \"Tweets- 100000 rows dataset \"\n",
    "impressions = ((np.array(list(df['impressions'])))).astype(np.int32)\n",
    "publication_title = ((list(df['user_id'])))\n",
    "\n",
    "entities = list()\n",
    "for i in range(len(publication_title)):\n",
    "    entities.append(DataSubject(name=str(publication_title[i])))\n",
    "    \n",
    "tweets_data = sy.Tensor(impressions).private(min_val=0, max_val=30, entities = entities)"
   ]
  },
  {
   "cell_type": "code",
   "execution_count": 7,
   "id": "89f09070-5d01-4952-a7bc-de636a3be215",
   "metadata": {},
   "outputs": [
    {
     "name": "stdout",
     "output_type": "stream",
     "text": [
      "CPU times: user 327 µs, sys: 71 µs, total: 398 µs\n",
      "Wall time: 367 µs\n"
     ]
    }
   ],
   "source": [
    "%%time\n",
    "left_result = tweets_data.sum()"
   ]
  },
  {
   "cell_type": "code",
   "execution_count": null,
   "id": "9c7f8401-c6f9-4e12-b785-c1e5ede627a5",
   "metadata": {},
   "outputs": [],
   "source": []
  },
  {
   "cell_type": "code",
   "execution_count": 8,
   "id": "b59081ea-ad63-4268-8f34-ee28b0ef7bcb",
   "metadata": {},
   "outputs": [],
   "source": [
    "key = SigningKey.generate()\n",
    "the_actual_key = key.verify_key"
   ]
  },
  {
   "cell_type": "code",
   "execution_count": 9,
   "id": "e2c546bb-26f4-417b-bd6c-4272664e493d",
   "metadata": {},
   "outputs": [
    {
     "data": {
      "text/plain": [
       "syft.core.tensor.autodp.intermediate_gamma.IntermediateGammaTensor"
      ]
     },
     "execution_count": 9,
     "metadata": {},
     "output_type": "execute_result"
    }
   ],
   "source": [
    "type(left_result.child)"
   ]
  },
  {
   "cell_type": "code",
   "execution_count": 10,
   "id": "9067dffd-f611-45a4-9d24-562840bf2f5f",
   "metadata": {},
   "outputs": [
    {
     "data": {
      "text/plain": [
       "syft.core.tensor.tensor.Tensor"
      ]
     },
     "execution_count": 10,
     "metadata": {},
     "output_type": "execute_result"
    }
   ],
   "source": [
    "type(left_result)"
   ]
  },
  {
   "cell_type": "code",
   "execution_count": 11,
   "id": "47ee26fc-59ff-4db1-883a-c66860f1cabf",
   "metadata": {},
   "outputs": [
    {
     "name": "stdout",
     "output_type": "stream",
     "text": [
      "creating accountant with a dictionary\n",
      "are we using this publish? <syft.core.adp.adversarial_accountant.AdversarialAccountant object at 0x152954a60> 1000 b'\\xbe\\xb8-\\x04\\xf3\\xf8\\x12\\xb7\\x18JT\\xd4\\xac5T\\xf6\\xc56\\xcfc\\xd7n\\x06\\x1a\\x16T\\xd29-\\x90]\\xd0'\n",
      "running flat scalars\n",
      "running flat scalars 2\n",
      "running flat scalars 3 0\n",
      "running flat scalars 4 0\n",
      "running flat scalars 4 1\n",
      "finished running flat scalars\n",
      "executing publish with <class 'list'> <class 'syft.core.adp.adversarial_accountant.AdversarialAccountant'> <class 'nacl.signing.VerifyKey'> <class 'int'> <class 'bool'>\n",
      "get_all_entity_mechanisms <class 'list'> <class 'int'> <class 'bool'>\n",
      "for s in scalars\n",
      "for entity in entities\n",
      "for _, _ in get_mechanism_for_entity\n",
      "if flat_entity not in entity_to_mechanisms\n",
      "for entity in entities\n",
      "for _, _ in get_mechanism_for_entity\n",
      "if flat_entity not in entity_to_mechanisms\n",
      "finished getting all entity mechanisms <class 'dict'>\n",
      "calling temp append <class 'dict'>\n",
      "finished temp_append\n",
      "\n",
      "\n",
      "Has Budget:True\n",
      "YOU'VE SPENT:0.24988589841521253\n",
      "USER BUDGET:999999.0\n",
      "\n",
      "\n",
      "Has Budget:True\n",
      "YOU'VE SPENT:0.24988589841521253\n",
      "USER BUDGET:999999.0\n"
     ]
    },
    {
     "name": "stderr",
     "output_type": "stream",
     "text": [
      "/Users/madhavajay/dev/PySyft/.tox/syft.jupyter/lib/python3.9/site-packages/scipy/optimize/optimize.py:2621: RuntimeWarning: invalid value encountered in double_scalars\n",
      "  w = xb - ((xb - xc) * tmp2 - (xb - xa) * tmp1) / denom\n"
     ]
    },
    {
     "data": {
      "text/plain": [
       "array([17346.44276525])"
      ]
     },
     "execution_count": 11,
     "metadata": {},
     "output_type": "execute_result"
    }
   ],
   "source": [
    "acc = AdversarialAccountant()\n",
    "left_result.publish(sigma=1000, acc=acc, user_key=the_actual_key)"
   ]
  },
  {
   "cell_type": "code",
   "execution_count": null,
   "id": "9a16468c-2586-480e-ae4c-e3618d709de9",
   "metadata": {},
   "outputs": [],
   "source": []
  }
 ],
 "metadata": {
  "kernelspec": {
   "display_name": "Python 3 (ipykernel)",
   "language": "python",
   "name": "python3"
  },
  "language_info": {
   "codemirror_mode": {
    "name": "ipython",
    "version": 3
   },
   "file_extension": ".py",
   "mimetype": "text/x-python",
   "name": "python",
   "nbconvert_exporter": "python",
   "pygments_lexer": "ipython3",
   "version": "3.9.9"
  }
 },
 "nbformat": 4,
 "nbformat_minor": 5
}

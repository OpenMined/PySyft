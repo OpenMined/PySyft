{
 "cells": [
  {
   "cell_type": "markdown",
   "id": "f2579ecf-4881-43e5-a73c-76f57990eb6c",
   "metadata": {},
   "source": [
    "Oblv Client is from our PyOblv package.\n",
    "ds_abc is the PySyft Client for the Data Scientist on domain abc\n",
    "ds_xyz is the PySyft Client for the Data Scientist on domain xyz"
   ]
  },
  {
   "cell_type": "code",
   "execution_count": 1,
   "id": "10856963-4b31-41bf-a53f-10f460841d89",
   "metadata": {},
   "outputs": [
    {
     "name": "stdout",
     "output_type": "stream",
     "text": [
      "\u001b[93mWARNING:\u001b[0m CHANGE YOUR PASSWORD!!! \n",
      "\n",
      "Anyone can login into your account right now because your password is the default PySyft password!!!\n",
      "\n",
      "Connecting to localhost... done! \t Logging into canada... done!\n",
      "\u001b[93mWARNING:\u001b[0m CHANGE YOUR PASSWORD!!! \n",
      "\n",
      "Anyone can login into your account right now because your password is the default PySyft password!!!\n",
      "\n",
      "Connecting to localhost... done! \t Logging into italy... done!\n"
     ]
    }
   ],
   "source": [
    "%load_ext autoreload\n",
    "%autoreload 2\n",
    "import syft as sy\n",
    "import oblv\n",
    "canada = sy.login(url=\"localhost\",port=8081,email=\"sheldon@caltech.edu\",password=\"changethis\")\n",
    "italy = sy.login(url=\"localhost\",port=8082,email=\"sheldon@caltech.edu\",password=\"changethis\")"
   ]
  },
  {
   "cell_type": "code",
   "execution_count": null,
   "id": "18f4df9d-bee0-40c9-9c02-2dd1bb05f477",
   "metadata": {},
   "outputs": [],
   "source": [
    "# For real enclave deployment\n",
    "# depl = sy.create_deployment([canada,italy],\"demo_openmined_1\",key_name = \"new6\",infra=\"r5.xlarge\")\n",
    "# depl.deployment_id"
   ]
  },
  {
   "cell_type": "code",
   "execution_count": 2,
   "id": "75c2f5af-be3f-4741-86a0-a08a6f073aca",
   "metadata": {},
   "outputs": [
    {
     "data": {
      "text/plain": [
       "'d-2dfedbb1-7904-493b-8793-1a9554badae7'"
      ]
     },
     "execution_count": 2,
     "metadata": {},
     "output_type": "execute_result"
    }
   ],
   "source": [
    "# To use an already existing enclave , local mode deployment\n",
    "depl = sy.oblv.model.DeploymentClient(deployment_id=\"d-2dfedbb1-7904-493b-8793-1a9554badae7\",oblv_client=None,domain_clients=[canada,italy],user_key_name=\"first\") #connection_port key can be added to set the port on which oblv_proxy will run\n",
    "depl.deployment_id"
   ]
  },
  {
   "cell_type": "code",
   "execution_count": null,
   "id": "83784728-30ea-427a-8b04-f6c475c2c196",
   "metadata": {},
   "outputs": [],
   "source": [
    "# To check current state of enclave in real deployment\n",
    "# depl_info = oblv_client.deployment_info(depl.deployment_id)\n",
    "# print(depl_info.current_state)"
   ]
  },
  {
   "cell_type": "code",
   "execution_count": 3,
   "id": "7fee5aba-948c-4f16-b200-9aa872a431c9",
   "metadata": {},
   "outputs": [],
   "source": [
    "canada_ptr = canada.store[-1]\n",
    "italy_ptr = italy.store[-1]"
   ]
  },
  {
   "cell_type": "code",
   "execution_count": 4,
   "id": "526530ee-263f-4c2d-b29c-d0a31b7b1c36",
   "metadata": {},
   "outputs": [
    {
     "data": {
      "text/plain": [
       "{'deployment_id': 'd-2dfedbb1-7904-493b-8793-1a9554badae7',\n",
       " 'user_key_name': 'first',\n",
       " 'oblv_client': None,\n",
       " 'client': [<DomainClient - canada: <UID: 93a8b1d1e5ce44f0b9602051cb29bb09>>,\n",
       "  <DomainClient - italy: <UID: 1426192a91004baaae0c68600c1f0997>>],\n",
       " '_DeploymentClient__conn_string': '',\n",
       " '_DeploymentClient__process': None,\n",
       " '_DeploymentClient__logs': None}"
      ]
     },
     "execution_count": 4,
     "metadata": {},
     "output_type": "execute_result"
    }
   ],
   "source": [
    "depl.__dict__"
   ]
  },
  {
   "cell_type": "markdown",
   "id": "4f08540b-39e3-42c0-a1c9-59c86d89eeb2",
   "metadata": {},
   "source": [
    "tensor_abc and tensor_xyz are the two tensors selected from two different domains.\n",
    "\n",
    "Creating a deploynent now, using both the domains (abc and xyz).\n",
    "\n",
    "The public-private key pair was already generated for both these domains, but if it is not, the admins of the domain can use the method **create_key** in oblv api to create one."
   ]
  },
  {
   "cell_type": "markdown",
   "id": "834c49d6-7878-403b-8a54-f52b01d121af",
   "metadata": {},
   "source": [
    "Deployment with shown id is created. The status of the deployment can be checked with the next block. Once the status is **Running**, the further steps can be taken after an initialization of the connection. \n",
    "\n",
    "The port on which the connection is to be made can be specified either during the time of creation of deployment or can be later updated as shown below.\n",
    "\n",
    "*Do not change the connection port after initializing the connection*"
   ]
  },
  {
   "cell_type": "code",
   "execution_count": null,
   "id": "0b0579f7-f468-4420-a6ee-af355b8ddd53",
   "metadata": {},
   "outputs": [],
   "source": [
    "canada.oblv.check_connection(depl)"
   ]
  },
  {
   "cell_type": "code",
   "execution_count": 5,
   "id": "6166a160-067d-42e8-94b8-5f1e5ffb034f",
   "metadata": {},
   "outputs": [
    {
     "data": {
      "text/plain": [
       "False"
      ]
     },
     "execution_count": 5,
     "metadata": {},
     "output_type": "execute_result"
    }
   ],
   "source": [
    "depl.check_proxy_running()"
   ]
  },
  {
   "cell_type": "code",
   "execution_count": 6,
   "id": "1348ef25-5b86-4359-ab23-c81b48fa9bca",
   "metadata": {},
   "outputs": [],
   "source": [
    "depl.initiate_connection(3030)"
   ]
  },
  {
   "cell_type": "code",
   "execution_count": 7,
   "id": "fec016eb-fe9a-4c4e-8821-77dbcaccfbb6",
   "metadata": {},
   "outputs": [],
   "source": [
    "canada_dataset = canada.oblv.transfer_dataset(deployment=depl,dataset=canada_ptr)\n",
    "italy_dataset = italy.oblv.transfer_dataset(deployment=depl,dataset=italy_ptr)"
   ]
  },
  {
   "cell_type": "code",
   "execution_count": 8,
   "id": "23c6648d-9f68-4c96-b842-961523f1a6c9",
   "metadata": {},
   "outputs": [
    {
     "data": {
      "text/plain": [
       "[{'id': 'b11bacf72c6345dcae4d3664764a95b8', 'owner': 'canada'},\n",
       " {'id': 'b011c8026286466b999d0d127f56728b', 'owner': 'italy'}]"
      ]
     },
     "execution_count": 8,
     "metadata": {},
     "output_type": "execute_result"
    }
   ],
   "source": [
    "depl.get_uploaded_datasets()"
   ]
  },
  {
   "cell_type": "code",
   "execution_count": 9,
   "id": "182c179a-5645-434d-b8e3-ced4c981b156",
   "metadata": {},
   "outputs": [
    {
     "data": {
      "text/plain": [
       "syft.oblv.oblv_enclave_pointer.OblvEnclavePointer"
      ]
     },
     "execution_count": 9,
     "metadata": {},
     "output_type": "execute_result"
    }
   ],
   "source": [
    "type(canada_dataset)"
   ]
  },
  {
   "cell_type": "code",
   "execution_count": 10,
   "id": "9da7a387-a26e-41f4-b209-3628fd3c2bd2",
   "metadata": {},
   "outputs": [],
   "source": [
    "dataset_result = canada_dataset + italy_dataset"
   ]
  },
  {
   "cell_type": "code",
   "execution_count": 11,
   "id": "fea3a766-163f-447a-bee9-bab650eb6243",
   "metadata": {},
   "outputs": [],
   "source": [
    "dataset_sum_result = dataset_result.sum(keepdims=True)\n",
    "# dataset_result = sy.OblvTensorWrapper(id=\"r-3533056d-e408-40bc-8550-d6d98d7cfca3\",deployment_client=depl)"
   ]
  },
  {
   "cell_type": "code",
   "execution_count": 12,
   "id": "afeb6a1d-c0b8-4571-a3ee-b98dc6489c03",
   "metadata": {},
   "outputs": [
    {
     "data": {
      "text/plain": [
       "<syft.oblv.oblv_enclave_pointer.OblvEnclavePointer at 0x2a40f5a90>"
      ]
     },
     "execution_count": 12,
     "metadata": {},
     "output_type": "execute_result"
    }
   ],
   "source": [
    "dataset_sum_result"
   ]
  },
  {
   "cell_type": "code",
   "execution_count": 13,
   "id": "e10c3ee2-9925-41fc-ba61-6533531da4ff",
   "metadata": {},
   "outputs": [
    {
     "name": "stdout",
     "output_type": "stream",
     "text": [
      "p-7063208c-d458-48e5-a228-a6e9a28526e1\n"
     ]
    }
   ],
   "source": [
    "p_id=dataset_sum_result.request_publish(sigma=1000)\n",
    "print(p_id)"
   ]
  },
  {
   "cell_type": "code",
   "execution_count": 14,
   "id": "1978df79-2111-4848-91f1-3c5f5c37b0bb",
   "metadata": {},
   "outputs": [
    {
     "name": "stdout",
     "output_type": "stream",
     "text": [
      "9999999.0\n",
      "9999999.0\n"
     ]
    }
   ],
   "source": [
    "print(canada.privacy_budget)\n",
    "print(italy.privacy_budget)"
   ]
  },
  {
   "cell_type": "code",
   "execution_count": 15,
   "id": "f5119e92-c05f-4387-bef7-688120ebe119",
   "metadata": {},
   "outputs": [
    {
     "name": "stdout",
     "output_type": "stream",
     "text": [
      "Result is ready\n"
     ]
    }
   ],
   "source": [
    "depl.check_publish_request_status(p_id)"
   ]
  },
  {
   "cell_type": "code",
   "execution_count": 16,
   "id": "e7b6a812-2f73-4b35-92d1-7d4328a0c174",
   "metadata": {},
   "outputs": [
    {
     "name": "stdout",
     "output_type": "stream",
     "text": [
      "9999998.94627288\n",
      "9999998.94627288\n"
     ]
    }
   ],
   "source": [
    "print(canada.privacy_budget)\n",
    "print(italy.privacy_budget)"
   ]
  },
  {
   "cell_type": "code",
   "execution_count": 17,
   "id": "fd59c948-0e1f-4cab-82d1-6c01c38781e1",
   "metadata": {},
   "outputs": [
    {
     "name": "stdout",
     "output_type": "stream",
     "text": [
      "[866.0016337604535]\n"
     ]
    }
   ],
   "source": [
    "result = depl.fetch_result(p_id)\n",
    "print(result)"
   ]
  },
  {
   "cell_type": "code",
   "execution_count": null,
   "id": "bad69992-1375-41ee-9837-93587eac23b8",
   "metadata": {},
   "outputs": [],
   "source": [
    "# To be used in real deployment, does not work in enclave emulation\n",
    "depl.close_connection()\n",
    "oblv_client.remove_deployment(depl.deployment_id)"
   ]
  },
  {
   "cell_type": "code",
   "execution_count": null,
   "id": "b8310267-dd81-466b-9415-0b5c00749a12",
   "metadata": {},
   "outputs": [],
   "source": [
    "depl.fetch_current_proxy_logs()"
   ]
  },
  {
   "cell_type": "code",
   "execution_count": 19,
   "id": "aa097851-0385-4622-b78e-dfed5f9f7d8f",
   "metadata": {},
   "outputs": [
    {
     "data": {
      "text/plain": [
       "'MIIBCgKCAQEAwDtMEYyQwL531HyGB3kLUrr5L3FJCpptaYqOUq4qHopqEZnvIg+pBHuarwqLF5Pu8ltO9tPKDyCu7KwjTj0wI5G4jFFqj9iofGgny6439Y6O9kcA3v8Ht+PJmlCLVFPee9wmFMBs+AFRH4hbR8ENO2O4KTgiuztsXnTxAOe10scpUb9NutTUy+XytPV1bQN1uQ0QLLIHgJH4YWXnHBvu9SqVT4abvb/nHDEgNuE8XV2xQRs5+ivpqfxKrcGVgfVpbinZId/OAToPbRIbTwx4Gj/McNpxxW4DB1TZywrucmqnFjfCzHatmy8KgJ49g3q/of4bXuyoT81YU4A5eo5MHQIDAQAB'"
      ]
     },
     "execution_count": 19,
     "metadata": {},
     "output_type": "execute_result"
    }
   ],
   "source": [
    "italy.oblv.get_key()"
   ]
  },
  {
   "cell_type": "markdown",
   "id": "ca800e41-d510-42c3-9d4f-ea3044323885",
   "metadata": {},
   "source": [
    "Known Issues - \n",
    "\n",
    "Large dataset cannot be used as of now, cause they go in long re-runs for cache calculation.\n",
    "\n",
    "Proxy sends 200 status code while the enclave returns 400.\n",
    "\n",
    "Mean method when performed on tensor returns a tensor with data_subjects not of type of array and it fails when we perform publish on it.\n"
   ]
  }
 ],
 "metadata": {
  "kernelspec": {
   "display_name": "Python 3 (ipykernel)",
   "language": "python",
   "name": "python3"
  },
  "language_info": {
   "codemirror_mode": {
    "name": "ipython",
    "version": 3
   },
   "file_extension": ".py",
   "mimetype": "text/x-python",
   "name": "python",
   "nbconvert_exporter": "python",
   "pygments_lexer": "ipython3",
   "version": "3.9.13"
  }
 },
 "nbformat": 4,
 "nbformat_minor": 5
}

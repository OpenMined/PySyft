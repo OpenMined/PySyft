{
 "cells": [
  {
   "cell_type": "markdown",
   "id": "f2579ecf-4881-43e5-a73c-76f57990eb6c",
   "metadata": {},
   "source": [
    "Oblv Client is from our PyOblv package.\n",
    "ds_abc is the PySyft Client for the Data Scientist on domain abc\n",
    "ds_xyz is the PySyft Client for the Data Scientist on domain xyz"
   ]
  },
  {
   "cell_type": "code",
   "execution_count": null,
   "id": "10856963-4b31-41bf-a53f-10f460841d89",
   "metadata": {},
   "outputs": [],
   "source": [
    "%load_ext autoreload\n",
    "%autoreload 2\n",
    "import syft as sy\n",
    "import oblv\n",
    "canada = sy.login(url=\"localhost\",port=8081,email=\"sheldon@caltech.edu\",password=\"changethis\")\n",
    "italy = sy.login(url=\"localhost\",port=8082,email=\"sheldon@caltech.edu\",password=\"changethis\")"
   ]
  },
  {
   "cell_type": "code",
   "execution_count": null,
   "id": "18f4df9d-bee0-40c9-9c02-2dd1bb05f477",
   "metadata": {},
   "outputs": [],
   "source": [
    "# For real enclave deployment\n",
    "# depl = sy.create_deployment([canada,italy],\"demo_openmined_1\",key_name = \"new6\",infra=\"r5.xlarge\")\n",
    "# depl.deployment_id"
   ]
  },
  {
   "cell_type": "code",
   "execution_count": null,
   "id": "75c2f5af-be3f-4741-86a0-a08a6f073aca",
   "metadata": {},
   "outputs": [],
   "source": [
    "# To use an already existing enclave , local mode deployment\n",
    "depl = sy.oblv.deployment_client.DeploymentClient(deployment_id=\"d-2dfedbb1-7904-493b-8793-1a9554badae7\",\n",
    "                                      oblv_client=None,\n",
    "                                      domain_clients=[canada,italy],\n",
    "                                      user_key_name=\"first\") \n",
    "depl.deployment_id"
   ]
  },
  {
   "cell_type": "code",
   "execution_count": null,
   "id": "83784728-30ea-427a-8b04-f6c475c2c196",
   "metadata": {},
   "outputs": [],
   "source": [
    "# To check current state of enclave in real deployment\n",
    "# depl_info = oblv_client.deployment_info(depl.deployment_id)\n",
    "# print(depl_info.current_state)"
   ]
  },
  {
   "cell_type": "code",
   "execution_count": null,
   "id": "7fee5aba-948c-4f16-b200-9aa872a431c9",
   "metadata": {},
   "outputs": [],
   "source": [
    "canada_ptr = canada.store[-1]\n",
    "italy_ptr = italy.store[-1]"
   ]
  },
  {
   "cell_type": "code",
   "execution_count": null,
   "id": "526530ee-263f-4c2d-b29c-d0a31b7b1c36",
   "metadata": {},
   "outputs": [],
   "source": [
    "depl.__dict__"
   ]
  },
  {
   "cell_type": "code",
   "execution_count": null,
   "id": "0b0579f7-f468-4420-a6ee-af355b8ddd53",
   "metadata": {},
   "outputs": [],
   "source": [
    "canada.oblv.check_connection(depl)"
   ]
  },
  {
   "cell_type": "code",
   "execution_count": null,
   "id": "6166a160-067d-42e8-94b8-5f1e5ffb034f",
   "metadata": {},
   "outputs": [],
   "source": [
    "depl.check_proxy_running()"
   ]
  },
  {
   "cell_type": "code",
   "execution_count": null,
   "id": "1348ef25-5b86-4359-ab23-c81b48fa9bca",
   "metadata": {},
   "outputs": [],
   "source": [
    "depl.initiate_connection(3030)"
   ]
  },
  {
   "cell_type": "code",
   "execution_count": null,
   "id": "fec016eb-fe9a-4c4e-8821-77dbcaccfbb6",
   "metadata": {},
   "outputs": [],
   "source": [
    "canada_dataset = canada.oblv.transfer_dataset(deployment=depl,dataset=canada_ptr)\n",
    "italy_dataset = italy.oblv.transfer_dataset(deployment=depl,dataset=italy_ptr)"
   ]
  },
  {
   "cell_type": "code",
   "execution_count": null,
   "id": "23c6648d-9f68-4c96-b842-961523f1a6c9",
   "metadata": {},
   "outputs": [],
   "source": [
    "depl.get_uploaded_datasets()"
   ]
  },
  {
   "cell_type": "code",
   "execution_count": null,
   "id": "182c179a-5645-434d-b8e3-ced4c981b156",
   "metadata": {},
   "outputs": [],
   "source": [
    "type(canada_dataset)"
   ]
  },
  {
   "cell_type": "code",
   "execution_count": null,
   "id": "9da7a387-a26e-41f4-b209-3628fd3c2bd2",
   "metadata": {},
   "outputs": [],
   "source": [
    "dataset_result = canada_dataset + italy_dataset"
   ]
  },
  {
   "cell_type": "code",
   "execution_count": null,
   "id": "fea3a766-163f-447a-bee9-bab650eb6243",
   "metadata": {},
   "outputs": [],
   "source": [
    "dataset_sum_result = dataset_result.sum(keepdims=True)\n",
    "# dataset_result = sy.OblvTensorWrapper(id=\"r-3533056d-e408-40bc-8550-d6d98d7cfca3\",deployment_client=depl)"
   ]
  },
  {
   "cell_type": "code",
   "execution_count": null,
   "id": "afeb6a1d-c0b8-4571-a3ee-b98dc6489c03",
   "metadata": {},
   "outputs": [],
   "source": [
    "dataset_sum_result"
   ]
  },
  {
   "cell_type": "code",
   "execution_count": null,
   "id": "e10c3ee2-9925-41fc-ba61-6533531da4ff",
   "metadata": {},
   "outputs": [],
   "source": [
    "p_id=dataset_sum_result.request_publish(sigma=1000)\n",
    "print(p_id)"
   ]
  },
  {
   "cell_type": "code",
   "execution_count": null,
   "id": "1978df79-2111-4848-91f1-3c5f5c37b0bb",
   "metadata": {},
   "outputs": [],
   "source": [
    "print(canada.privacy_budget)\n",
    "print(italy.privacy_budget)"
   ]
  },
  {
   "cell_type": "code",
   "execution_count": null,
   "id": "f5119e92-c05f-4387-bef7-688120ebe119",
   "metadata": {},
   "outputs": [],
   "source": [
    "depl.check_publish_request_status(p_id)"
   ]
  },
  {
   "cell_type": "code",
   "execution_count": null,
   "id": "e7b6a812-2f73-4b35-92d1-7d4328a0c174",
   "metadata": {},
   "outputs": [],
   "source": [
    "print(canada.privacy_budget)\n",
    "print(italy.privacy_budget)"
   ]
  },
  {
   "cell_type": "code",
   "execution_count": null,
   "id": "fd59c948-0e1f-4cab-82d1-6c01c38781e1",
   "metadata": {},
   "outputs": [],
   "source": [
    "result = depl.fetch_result(p_id)\n",
    "print(result)"
   ]
  },
  {
   "cell_type": "code",
   "execution_count": null,
   "id": "bad69992-1375-41ee-9837-93587eac23b8",
   "metadata": {},
   "outputs": [],
   "source": [
    "# To be used in real deployment, does not work in enclave emulation\n",
    "depl.close_connection()\n",
    "oblv_client.remove_deployment(depl.deployment_id)"
   ]
  },
  {
   "cell_type": "code",
   "execution_count": null,
   "id": "b8310267-dd81-466b-9415-0b5c00749a12",
   "metadata": {},
   "outputs": [],
   "source": [
    "# To be used in real deployment, does not work in enclave emulation\n",
    "depl.fetch_current_proxy_logs()"
   ]
  }
 ],
 "metadata": {
  "kernelspec": {
   "display_name": "Python 3 (ipykernel)",
   "language": "python",
   "name": "python3"
  },
  "language_info": {
   "codemirror_mode": {
    "name": "ipython",
    "version": 3
   },
   "file_extension": ".py",
   "mimetype": "text/x-python",
   "name": "python",
   "nbconvert_exporter": "python",
   "pygments_lexer": "ipython3",
   "version": "3.9.13"
  }
 },
 "nbformat": 4,
 "nbformat_minor": 5
}

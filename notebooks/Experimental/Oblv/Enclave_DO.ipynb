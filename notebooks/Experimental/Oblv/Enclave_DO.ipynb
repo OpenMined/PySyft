{
 "cells": [
  {
   "cell_type": "code",
   "execution_count": 1,
   "id": "f7295315-9a4f-4638-b122-e7b43179c8d9",
   "metadata": {},
   "outputs": [
    {
     "name": "stdout",
     "output_type": "stream",
     "text": [
      "\u001b[93mWARNING:\u001b[0m CHANGE YOUR USERNAME AND PASSWORD!!! \n",
      "\n",
      "Anyone can login as an admin to your node right now because your password is still the default PySyft username and password!!!\n",
      "\n",
      "Connecting to localhost... done! \t Logging into canada... done!\n",
      "\u001b[93mWARNING:\u001b[0m CHANGE YOUR USERNAME AND PASSWORD!!! \n",
      "\n",
      "Anyone can login as an admin to your node right now because your password is still the default PySyft username and password!!!\n",
      "\n",
      "Connecting to localhost... done! \t Logging into italy... done!\n"
     ]
    }
   ],
   "source": [
    "%load_ext autoreload\n",
    "%autoreload 2\n",
    "import syft as sy\n",
    "import oblv\n",
    "canada = sy.login(url=\"localhost\",port=8081,email=\"info@openmined.org\",password=\"changethis\")\n",
    "italy = sy.login(url=\"localhost\",port=8082,email=\"info@openmined.org\",password=\"changethis\")"
   ]
  },
  {
   "cell_type": "code",
   "execution_count": null,
   "id": "79a7e094-7cac-4781-b124-e658cfbd7767",
   "metadata": {},
   "outputs": [],
   "source": [
    "import numpy as np\n",
    "data = np.array([1,2,3])\n",
    "tensor = sy.Tensor(data).private(min_val=0,max_val=4,data_subjects=[\"natsu\"])"
   ]
  },
  {
   "cell_type": "code",
   "execution_count": null,
   "id": "6287535d-cf70-470a-a464-b71ca5b8853d",
   "metadata": {},
   "outputs": [],
   "source": [
    "canada.create_user(name=\"Sheldon Cooper\",email=\"sheldon@caltech.edu\",password=\"changethis\",budget=9_999_999)\n",
    "italy.create_user(name=\"Sheldon Cooper\",email=\"sheldon@caltech.edu\",password=\"changethis\",budget=9_999_999)"
   ]
  },
  {
   "cell_type": "code",
   "execution_count": null,
   "id": "bd01f6fc-c5c8-4688-9da2-9238291f5aa6",
   "metadata": {},
   "outputs": [],
   "source": [
    "\n",
    "tensor.send(canada)"
   ]
  },
  {
   "cell_type": "code",
   "execution_count": null,
   "id": "371b3602-5ac9-4e7f-83b5-f1a8085a51a8",
   "metadata": {},
   "outputs": [],
   "source": [
    "tensor.send(italy)"
   ]
  },
  {
   "cell_type": "code",
   "execution_count": null,
   "id": "bcc631ea-8259-4247-aada-46697baec586",
   "metadata": {},
   "outputs": [],
   "source": [
    "canada.store"
   ]
  },
  {
   "cell_type": "code",
   "execution_count": null,
   "id": "898d5e8d-c267-40b8-9b4f-66d1e4f5e785",
   "metadata": {},
   "outputs": [],
   "source": [
    "italy.store"
   ]
  },
  {
   "cell_type": "code",
   "execution_count": null,
   "id": "0915628c-61e6-48f2-b03b-14ca05e166fe",
   "metadata": {},
   "outputs": [],
   "source": []
  }
 ],
 "metadata": {
  "kernelspec": {
   "display_name": "Python 3 (ipykernel)",
   "language": "python",
   "name": "python3"
  },
  "language_info": {
   "codemirror_mode": {
    "name": "ipython",
    "version": 3
   },
   "file_extension": ".py",
   "mimetype": "text/x-python",
   "name": "python",
   "nbconvert_exporter": "python",
   "pygments_lexer": "ipython3",
   "version": "3.9.13"
  }
 },
 "nbformat": 4,
 "nbformat_minor": 5
}
